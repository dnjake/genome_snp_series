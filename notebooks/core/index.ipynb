{
 "cells": [
  {
   "cell_type": "markdown",
   "metadata": {},
   "source": [
    "[core series overview](core_series_overview.ipynb)\n",
    "\n",
    "    Notebook that identifies the four major series 117_1685, 123_1561, 62_1265,\n",
    "    and 193_843.\n",
    "    \n",
    "[dense 28_434](dense_28_434.ipynb)\n",
    "\n",
    "    Notebook that explores the multiple hiearchies of major series expressed by\n",
    "    subsets of the 434 samples that express the series 28_434.\n",
    "    \n",
    "[major 117_1685](major_117_1685.ipynb)\n",
    "\n",
    "    Notebook that explores the distinct hiearchies expressed by subsets of\n",
    "    the 1685 samples that express the major 117 SNP series 117_1685.\n",
    "    \n",
    "[major 123_1561](major_123_1561.ipybn)\n",
    "\n",
    "    Notebook that explores the distinct hierarchies expressed by subsets of\n",
    "    the 1561 samples that express the 123 SNP series 123_1561.\n",
    "    \n",
    "[series](series/)\n",
    "\n",
    "    Notebook that document individual SNP series\n",
    "    "
   ]
  }
 ],
 "metadata": {
  "kernelspec": {
   "display_name": "Python [Root]",
   "language": "python",
   "name": "Python [Root]"
  },
  "language_info": {
   "codemirror_mode": {
    "name": "ipython",
    "version": 2
   },
   "file_extension": ".py",
   "mimetype": "text/x-python",
   "name": "python",
   "nbconvert_exporter": "python",
   "pygments_lexer": "ipython2",
   "version": "2.7.12"
  }
 },
 "nbformat": 4,
 "nbformat_minor": 0
}
