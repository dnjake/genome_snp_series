{
 "cells": [
  {
   "cell_type": "code",
   "execution_count": 1,
   "metadata": {
    "collapsed": false
   },
   "outputs": [
    {
     "data": {
      "text/html": []
     },
     "metadata": {},
     "output_type": "display_data"
    },
    {
     "data": {
      "application/javascript": [
       "\n",
       "(function(global) {\n",
       "  function now() {\n",
       "    return new Date();\n",
       "  }\n",
       "\n",
       "  if (typeof (window._bokeh_onload_callbacks) === \"undefined\") {\n",
       "    window._bokeh_onload_callbacks = [];\n",
       "  }\n",
       "\n",
       "  function run_callbacks() {\n",
       "    window._bokeh_onload_callbacks.forEach(function(callback) { callback() });\n",
       "    delete window._bokeh_onload_callbacks\n",
       "    console.info(\"Bokeh: all callbacks have finished\");\n",
       "  }\n",
       "\n",
       "  function load_libs(js_urls, callback) {\n",
       "    window._bokeh_onload_callbacks.push(callback);\n",
       "    if (window._bokeh_is_loading > 0) {\n",
       "      console.log(\"Bokeh: BokehJS is being loaded, scheduling callback at\", now());\n",
       "      return null;\n",
       "    }\n",
       "    if (js_urls == null || js_urls.length === 0) {\n",
       "      run_callbacks();\n",
       "      return null;\n",
       "    }\n",
       "    console.log(\"Bokeh: BokehJS not loaded, scheduling load and callback at\", now());\n",
       "    window._bokeh_is_loading = js_urls.length;\n",
       "    for (var i = 0; i < js_urls.length; i++) {\n",
       "      var url = js_urls[i];\n",
       "      var s = document.createElement('script');\n",
       "      s.src = url;\n",
       "      s.async = false;\n",
       "      s.onreadystatechange = s.onload = function() {\n",
       "        window._bokeh_is_loading--;\n",
       "        if (window._bokeh_is_loading === 0) {\n",
       "          console.log(\"Bokeh: all BokehJS libraries loaded\");\n",
       "          run_callbacks()\n",
       "        }\n",
       "      };\n",
       "      s.onerror = function() {\n",
       "        console.warn(\"failed to load library \" + url);\n",
       "      };\n",
       "      console.log(\"Bokeh: injecting script tag for BokehJS library: \", url);\n",
       "      document.getElementsByTagName(\"head\")[0].appendChild(s);\n",
       "    }\n",
       "  };\n",
       "\n",
       "  var js_urls = ['https://cdn.pydata.org/bokeh/release/bokeh-0.12.0.min.js', 'https://cdn.pydata.org/bokeh/release/bokeh-widgets-0.12.0.min.js', 'https://cdn.pydata.org/bokeh/release/bokeh-compiler-0.12.0.min.js'];\n",
       "\n",
       "  var inline_js = [\n",
       "    function(Bokeh) {\n",
       "      Bokeh.set_log_level(\"info\");\n",
       "    },\n",
       "    \n",
       "    function(Bokeh) {\n",
       "      Bokeh.$(\"#6961cd97-796d-4169-93d3-b0084ecce77a\").text(\"BokehJS successfully loaded\");\n",
       "    },\n",
       "    function(Bokeh) {\n",
       "      console.log(\"Bokeh: injecting CSS: https://cdn.pydata.org/bokeh/release/bokeh-0.12.0.min.css\");\n",
       "      Bokeh.embed.inject_css(\"https://cdn.pydata.org/bokeh/release/bokeh-0.12.0.min.css\");\n",
       "      console.log(\"Bokeh: injecting CSS: https://cdn.pydata.org/bokeh/release/bokeh-widgets-0.12.0.min.css\");\n",
       "      Bokeh.embed.inject_css(\"https://cdn.pydata.org/bokeh/release/bokeh-widgets-0.12.0.min.css\");\n",
       "    }\n",
       "  ];\n",
       "\n",
       "  function run_inline_js() {\n",
       "    for (var i = 0; i < inline_js.length; i++) {\n",
       "      inline_js[i](window.Bokeh);\n",
       "    }\n",
       "  }\n",
       "\n",
       "  if (window._bokeh_is_loading === 0) {\n",
       "    console.log(\"Bokeh: BokehJS loaded, going straight to plotting\");\n",
       "    run_inline_js();\n",
       "  } else {\n",
       "    load_libs(js_urls, function() {\n",
       "      console.log(\"Bokeh: BokehJS plotting callback run at\", now());\n",
       "      run_inline_js();\n",
       "    });\n",
       "  }\n",
       "}(this));"
      ]
     },
     "metadata": {},
     "output_type": "display_data"
    }
   ],
   "source": [
    "import numpy as np\n",
    "from IPython.display import HTML\n",
    "from bokeh.plotting import output_notebook, show\n",
    "import genomes_dnj.lct_interval.series_plots as dm\n",
    "import genomes_dnj.lct_interval.anal_series as an\n",
    "import genomes_dnj.lct_interval.series_masks as sm\n",
    "output_notebook(hide_banner=True)"
   ]
  },
  {
   "cell_type": "markdown",
   "metadata": {},
   "source": [
    "<h3>Core Series Overview</h3>\n",
    "<div style=\"width:700px\">\n",
    "<p>\n",
    "The EUR, EAS, and SAS trees all show hierarchies that have been selected by multiple\n",
    "series of modest numbers of SNPs that appeared during the human expansion \n",
    "out of Africa.  Most of the stable series appeared in the 600,000 base lower \n",
    "part of the studied region that covers the genes rab3gap1, zranb3,\n",
    "and the lower half of r3hdm1.  This part of the EUR tree root includes\n",
    "two series with a total of 10 SNPs.  This part of EAS tree root includes\n",
    "two series with a total of 22 SNPs.  In contrast, the SAS tree root includes\n",
    "four overlapping series formed with 495 SNPs.  The 193 SNPs in the series 193_843\n",
    "are specifically expressed by the 843 chromosome samples that express hierarchies rooted\n",
    "in the SAS tree.  The other three series 117_1685, 123_1561, and 62_1235 are\n",
    "also expressed in varying combinations by more than one thousand additional chromosome samples.\n",
    "<p>\n",
    "Reconstruction of the processes that generated these four complex series of SNPs\n",
    "does not appear to be possible.  But, most of the observed series hierarchies\n",
    "appear to be the result of some kind of selection process that has resulted in\n",
    "a large overexpression of some specific association of a large number of SNPs.\n",
    "The plot below shows the association of series that form the most stable part of\n",
    "the SAS tree root.  The plot data includes all 843 chromosome samples that express\n",
    "the series 193_843.  All of them also express 123_1561 and 62_1265.  All but one\n",
    "express 117_1685.  The series 193_843 is specific to this association.  The selective\n",
    "advantage from series that have appeared in its hierarchy appear to be responsible\n",
    "for its large over expression.  But, there is no record of the process that generated\n",
    "the series 193_843 itself.\n",
    "<p>\n",
    "The record that does generally exist for the series 117_1685, 123_1561, and 62_1235\n",
    "is the identity of the selector series that played a role equivalent to 193_843\n",
    "in the generation of the other hierarchies associated with these series.  Those hierarchies and\n",
    "their selector series are explored in the notebooks [major 117 1685](major_117_1685.ipynb)\n",
    "and [major 123 1561](major_123_1561.ipynb).\n",
    "<p>\n",
    "The 434 chromosome samples that express the series 28_434 express four different\n",
    "hierarchies that include different associations of 117_1685 and 123_1561.  Those\n",
    "hierarchies include cases of 117_1685 and 123_1561, 117_1685 on its own, 123_1561\n",
    "associated with 13_1696 without 117_1685, and 117_1685 with 13_1696 without 123_1561.\n",
    "Those chromosome samples also express fragments of 117_1685 and 123_1561 that provide\n",
    "some history of series remodelling events.  Those hierarchies are explored in the\n",
    "notebook [dense 28 434](dense_28_434.ipynb).\n",
    "</div>"
   ]
  },
  {
   "cell_type": "code",
   "execution_count": 2,
   "metadata": {
    "collapsed": false
   },
   "outputs": [
    {
     "data": {
      "text/html": [
       "\n",
       "\n",
       "    <div class=\"bk-root\">\n",
       "        <div class=\"plotdiv\" id=\"35aaf064-4d2f-4c39-9c1a-91b3abab1b61\"></div>\n",
       "    </div>\n",
       "<script type=\"text/javascript\">\n",
       "  \n",
       "  (function(global) {\n",
       "    function now() {\n",
       "      return new Date();\n",
       "    }\n",
       "  \n",
       "    if (typeof (window._bokeh_onload_callbacks) === \"undefined\") {\n",
       "      window._bokeh_onload_callbacks = [];\n",
       "    }\n",
       "  \n",
       "    function run_callbacks() {\n",
       "      window._bokeh_onload_callbacks.forEach(function(callback) { callback() });\n",
       "      delete window._bokeh_onload_callbacks\n",
       "      console.info(\"Bokeh: all callbacks have finished\");\n",
       "    }\n",
       "  \n",
       "    function load_libs(js_urls, callback) {\n",
       "      window._bokeh_onload_callbacks.push(callback);\n",
       "      if (window._bokeh_is_loading > 0) {\n",
       "        console.log(\"Bokeh: BokehJS is being loaded, scheduling callback at\", now());\n",
       "        return null;\n",
       "      }\n",
       "      if (js_urls == null || js_urls.length === 0) {\n",
       "        run_callbacks();\n",
       "        return null;\n",
       "      }\n",
       "      console.log(\"Bokeh: BokehJS not loaded, scheduling load and callback at\", now());\n",
       "      window._bokeh_is_loading = js_urls.length;\n",
       "      for (var i = 0; i < js_urls.length; i++) {\n",
       "        var url = js_urls[i];\n",
       "        var s = document.createElement('script');\n",
       "        s.src = url;\n",
       "        s.async = false;\n",
       "        s.onreadystatechange = s.onload = function() {\n",
       "          window._bokeh_is_loading--;\n",
       "          if (window._bokeh_is_loading === 0) {\n",
       "            console.log(\"Bokeh: all BokehJS libraries loaded\");\n",
       "            run_callbacks()\n",
       "          }\n",
       "        };\n",
       "        s.onerror = function() {\n",
       "          console.warn(\"failed to load library \" + url);\n",
       "        };\n",
       "        console.log(\"Bokeh: injecting script tag for BokehJS library: \", url);\n",
       "        document.getElementsByTagName(\"head\")[0].appendChild(s);\n",
       "      }\n",
       "    };var element = document.getElementById(\"35aaf064-4d2f-4c39-9c1a-91b3abab1b61\");\n",
       "    if (element == null) {\n",
       "      console.log(\"Bokeh: ERROR: autoload.js configured with elementid '35aaf064-4d2f-4c39-9c1a-91b3abab1b61' but no matching script tag was found. \")\n",
       "      return false;\n",
       "    }\n",
       "  \n",
       "    var js_urls = [];\n",
       "  \n",
       "    var inline_js = [\n",
       "      function(Bokeh) {\n",
       "        Bokeh.$(function() {\n",
       "            var docs_json = {\"30c63ca7-9cc9-455b-8105-e999882522e0\":{\"roots\":{\"references\":[{\"attributes\":{\"overlay\":{\"id\":\"d7b2c133-8e9a-4ecd-85a9-1821559920a9\",\"type\":\"BoxAnnotation\"},\"plot\":{\"id\":\"c1c482f0-b235-41c5-bb49-a9bfa96192de\",\"subtype\":\"Figure\",\"type\":\"Plot\"}},\"id\":\"8f42521e-b1ee-4f57-9156-3ca9e6aebf66\",\"type\":\"BoxZoomTool\"},{\"attributes\":{},\"id\":\"3f9ef68c-fbb5-46b6-ae70-0aba8dac999f\",\"type\":\"BasicTicker\"},{\"attributes\":{},\"id\":\"a7ce81b8-7701-404a-96ee-6b691045edbe\",\"type\":\"BasicTickFormatter\"},{\"attributes\":{\"data_source\":{\"id\":\"cce7cfbc-3fde-447a-a19e-e0d551ea8975\",\"type\":\"ColumnDataSource\"},\"glyph\":{\"id\":\"ef507d97-70fc-4bc5-9d4c-862737786cf5\",\"type\":\"MultiLine\"},\"hover_glyph\":null,\"nonselection_glyph\":{\"id\":\"0f8ed8d8-43ee-4f85-b82e-4b27a43e9593\",\"type\":\"MultiLine\"},\"selection_glyph\":null},\"id\":\"2332d831-0615-4321-bb98-917973ec0d05\",\"type\":\"GlyphRenderer\"},{\"attributes\":{\"plot\":{\"id\":\"c1c482f0-b235-41c5-bb49-a9bfa96192de\",\"subtype\":\"Figure\",\"type\":\"Plot\"}},\"id\":\"7102cdad-eb5a-407a-bd99-31ee756c84d1\",\"type\":\"PanTool\"},{\"attributes\":{\"level\":\"glyph\",\"plot\":{\"id\":\"c1c482f0-b235-41c5-bb49-a9bfa96192de\",\"subtype\":\"Figure\",\"type\":\"Plot\"},\"source\":{\"id\":\"e7d386c3-04f8-4d11-aba1-68fa4e560aa4\",\"type\":\"ColumnDataSource\"},\"text\":{\"field\":\"vals\"},\"text_font_size\":{\"value\":\"9pt\"},\"text_font_style\":\"bold\",\"x\":{\"field\":\"x\"},\"y\":{\"field\":\"y\"}},\"id\":\"ebe23ea2-c12b-4d7d-93b8-915bba58bee6\",\"type\":\"LabelSet\"},{\"attributes\":{\"dimension\":1,\"plot\":{\"id\":\"c1c482f0-b235-41c5-bb49-a9bfa96192de\",\"subtype\":\"Figure\",\"type\":\"Plot\"},\"ticker\":{\"id\":\"3f9ef68c-fbb5-46b6-ae70-0aba8dac999f\",\"type\":\"BasicTicker\"}},\"id\":\"905d2510-c50d-4a8f-969d-19859b34a049\",\"type\":\"Grid\"},{\"attributes\":{\"level\":\"glyph\",\"plot\":{\"id\":\"c1c482f0-b235-41c5-bb49-a9bfa96192de\",\"subtype\":\"Figure\",\"type\":\"Plot\"},\"source\":{\"id\":\"4f6dc074-036e-410e-9fb9-ebdc9412fb8a\",\"type\":\"ColumnDataSource\"},\"text\":{\"field\":\"vals\"},\"text_align\":\"center\",\"text_baseline\":\"middle\",\"text_font_size\":{\"value\":\"8pt\"},\"x\":{\"field\":\"x\"},\"y\":{\"field\":\"y\"}},\"id\":\"b3af37e8-9c19-4199-bf97-d18ff8146595\",\"type\":\"LabelSet\"},{\"attributes\":{\"line_alpha\":{\"value\":0.1},\"line_color\":{\"value\":\"#1f77b4\"},\"xs\":{\"field\":\"xs\"},\"ys\":{\"field\":\"ys\"}},\"id\":\"0f8ed8d8-43ee-4f85-b82e-4b27a43e9593\",\"type\":\"MultiLine\"},{\"attributes\":{\"bottom\":{\"field\":\"bottom\"},\"fill_color\":{\"value\":\"white\"},\"left\":{\"field\":\"left\"},\"right\":{\"field\":\"right\"},\"top\":{\"field\":\"top\"}},\"id\":\"633b8c7e-d4e9-48db-873d-1b72e1e27790\",\"type\":\"Quad\"},{\"attributes\":{\"callback\":null,\"end\":136786630,\"start\":135757320},\"id\":\"ab9b8eff-74bc-4c97-8393-abbb79bd2121\",\"type\":\"Range1d\"},{\"attributes\":{\"line_color\":{\"field\":\"line_color\"},\"xs\":{\"field\":\"xs\"},\"ys\":{\"field\":\"ys\"}},\"id\":\"ef507d97-70fc-4bc5-9d4c-862737786cf5\",\"type\":\"MultiLine\"},{\"attributes\":{\"below\":[{\"id\":\"f0e59386-08b0-44dc-a474-42edccd69ee9\",\"type\":\"LinearAxis\"}],\"left\":[{\"id\":\"695af64b-73a2-4d4d-9943-3e8a5c44611b\",\"type\":\"LinearAxis\"}],\"plot_width\":900,\"renderers\":[{\"id\":\"f0e59386-08b0-44dc-a474-42edccd69ee9\",\"type\":\"LinearAxis\"},{\"id\":\"370bf0d9-aabc-4f48-aab5-988e061269a7\",\"type\":\"Grid\"},{\"id\":\"695af64b-73a2-4d4d-9943-3e8a5c44611b\",\"type\":\"LinearAxis\"},{\"id\":\"905d2510-c50d-4a8f-969d-19859b34a049\",\"type\":\"Grid\"},{\"id\":\"d7b2c133-8e9a-4ecd-85a9-1821559920a9\",\"type\":\"BoxAnnotation\"},{\"id\":\"b1b97b9c-c89a-47f2-932f-bce9f7a2ddda\",\"type\":\"GlyphRenderer\"},{\"id\":\"2332d831-0615-4321-bb98-917973ec0d05\",\"type\":\"GlyphRenderer\"},{\"id\":\"ebe23ea2-c12b-4d7d-93b8-915bba58bee6\",\"type\":\"LabelSet\"},{\"id\":\"56177bac-b09a-458f-a142-6ccac53331b4\",\"type\":\"GlyphRenderer\"},{\"id\":\"b3af37e8-9c19-4199-bf97-d18ff8146595\",\"type\":\"LabelSet\"}],\"title\":{\"id\":\"bae3467a-c227-4f09-ab1f-9936f7298955\",\"type\":\"Title\"},\"tool_events\":{\"id\":\"e638361f-f30e-4dee-ade5-8dd2dc3fcb57\",\"type\":\"ToolEvents\"},\"toolbar\":{\"id\":\"a8eeda6f-79d6-4f40-a69b-046d2aafddba\",\"type\":\"Toolbar\"},\"toolbar_location\":null,\"x_range\":{\"id\":\"ab9b8eff-74bc-4c97-8393-abbb79bd2121\",\"type\":\"Range1d\"},\"y_range\":{\"id\":\"0ca1e50b-6b37-4cb4-bb37-2f1b17e3675a\",\"type\":\"Range1d\"}},\"id\":\"c1c482f0-b235-41c5-bb49-a9bfa96192de\",\"subtype\":\"Figure\",\"type\":\"Plot\"},{\"attributes\":{\"bottom\":{\"field\":\"bottom\"},\"fill_color\":{\"field\":\"fill_color\"},\"left\":{\"field\":\"left\"},\"line_color\":{\"value\":null},\"right\":{\"field\":\"right\"},\"top\":{\"field\":\"top\"}},\"id\":\"d3bd3658-54db-45af-bed1-f144897215b0\",\"type\":\"Quad\"},{\"attributes\":{\"plot\":{\"id\":\"c1c482f0-b235-41c5-bb49-a9bfa96192de\",\"subtype\":\"Figure\",\"type\":\"Plot\"}},\"id\":\"63aaa471-6350-4d9d-816b-d3530bb453a4\",\"type\":\"WheelZoomTool\"},{\"attributes\":{\"callback\":null,\"end\":600},\"id\":\"0ca1e50b-6b37-4cb4-bb37-2f1b17e3675a\",\"type\":\"Range1d\"},{\"attributes\":{\"formatter\":{\"id\":\"d1da13e1-0a4a-4406-8dcd-e710e37c5f52\",\"type\":\"BasicTickFormatter\"},\"plot\":{\"id\":\"c1c482f0-b235-41c5-bb49-a9bfa96192de\",\"subtype\":\"Figure\",\"type\":\"Plot\"},\"ticker\":{\"id\":\"3f9ef68c-fbb5-46b6-ae70-0aba8dac999f\",\"type\":\"BasicTicker\"},\"visible\":null},\"id\":\"695af64b-73a2-4d4d-9943-3e8a5c44611b\",\"type\":\"LinearAxis\"},{\"attributes\":{\"bottom_units\":\"screen\",\"fill_alpha\":{\"value\":0.5},\"fill_color\":{\"value\":\"lightgrey\"},\"left_units\":\"screen\",\"level\":\"overlay\",\"line_alpha\":{\"value\":1.0},\"line_color\":{\"value\":\"black\"},\"line_dash\":[4,4],\"line_width\":{\"value\":2},\"plot\":null,\"render_mode\":\"css\",\"right_units\":\"screen\",\"top_units\":\"screen\"},\"id\":\"d7b2c133-8e9a-4ecd-85a9-1821559920a9\",\"type\":\"BoxAnnotation\"},{\"attributes\":{\"active_drag\":\"auto\",\"active_scroll\":\"auto\",\"active_tap\":\"auto\",\"tools\":[{\"id\":\"7102cdad-eb5a-407a-bd99-31ee756c84d1\",\"type\":\"PanTool\"},{\"id\":\"63aaa471-6350-4d9d-816b-d3530bb453a4\",\"type\":\"WheelZoomTool\"},{\"id\":\"8f42521e-b1ee-4f57-9156-3ca9e6aebf66\",\"type\":\"BoxZoomTool\"},{\"id\":\"76221461-d56d-486b-bee7-7a8e9085ec4b\",\"type\":\"SaveTool\"},{\"id\":\"36cfb5e8-b867-4159-8e44-5e493eb1339e\",\"type\":\"ResetTool\"},{\"id\":\"dc900c78-b022-4fae-813a-21d3ba761a45\",\"type\":\"HelpTool\"}]},\"id\":\"a8eeda6f-79d6-4f40-a69b-046d2aafddba\",\"type\":\"Toolbar\"},{\"attributes\":{\"plot\":null,\"text\":null},\"id\":\"bae3467a-c227-4f09-ab1f-9936f7298955\",\"type\":\"Title\"},{\"attributes\":{\"plot\":{\"id\":\"c1c482f0-b235-41c5-bb49-a9bfa96192de\",\"subtype\":\"Figure\",\"type\":\"Plot\"}},\"id\":\"76221461-d56d-486b-bee7-7a8e9085ec4b\",\"type\":\"SaveTool\"},{\"attributes\":{\"plot\":{\"id\":\"c1c482f0-b235-41c5-bb49-a9bfa96192de\",\"subtype\":\"Figure\",\"type\":\"Plot\"}},\"id\":\"36cfb5e8-b867-4159-8e44-5e493eb1339e\",\"type\":\"ResetTool\"},{\"attributes\":{\"callback\":null,\"column_names\":[\"y\",\"x\",\"vals\"],\"data\":{\"vals\":[\"RAB3GAP1\",\"ZRANB3\",\"R3HDM1\",\"UBXN4\",\"LCT\",\"MCM6\",\"DARS\"],\"x\":[135869057.0,136122878.0,136385961.0,136520911.0,136570082.5,136615621.5,136703738.0],\"y\":[560.0,560.0,560.0,560.0,560.0,560.0,560.0]}},\"id\":\"4f6dc074-036e-410e-9fb9-ebdc9412fb8a\",\"type\":\"ColumnDataSource\"},{\"attributes\":{\"formatter\":{\"id\":\"a7ce81b8-7701-404a-96ee-6b691045edbe\",\"type\":\"BasicTickFormatter\"},\"plot\":{\"id\":\"c1c482f0-b235-41c5-bb49-a9bfa96192de\",\"subtype\":\"Figure\",\"type\":\"Plot\"},\"ticker\":{\"id\":\"37a9d850-5200-41c5-a0cb-0c84b075ca60\",\"type\":\"BasicTicker\"}},\"id\":\"f0e59386-08b0-44dc-a474-42edccd69ee9\",\"type\":\"LinearAxis\"},{\"attributes\":{\"plot\":{\"id\":\"c1c482f0-b235-41c5-bb49-a9bfa96192de\",\"subtype\":\"Figure\",\"type\":\"Plot\"}},\"id\":\"dc900c78-b022-4fae-813a-21d3ba761a45\",\"type\":\"HelpTool\"},{\"attributes\":{\"callback\":null,\"column_names\":[\"right\",\"bottom\",\"top\",\"left\"],\"data\":{\"bottom\":[545,545,545,545,545,545,545],\"left\":[135809835,135957574,136289083,136499189,136545415,136597196,136664254],\"right\":[135928279,136288182,136482839,136542633,136594750,136634047,136743222],\"top\":[575,575,575,575,575,575,575]}},\"id\":\"9ef03c63-f957-4c4b-9db2-2a40c7602cfa\",\"type\":\"ColumnDataSource\"},{\"attributes\":{\"callback\":null,\"column_names\":[\"y\",\"x\",\"vals\"],\"data\":{\"vals\":[\"117_1685\",\"193_843\",\"62_1265\",\"123_1561\",\"6_946\"],\"x\":[135758231,135759095,135766890,135933921,135964764],\"y\":[501.0,95.0,298.0,400.0,196.0]}},\"id\":\"e7d386c3-04f8-4d11-aba1-68fa4e560aa4\",\"type\":\"ColumnDataSource\"},{\"attributes\":{\"data_source\":{\"id\":\"9ef03c63-f957-4c4b-9db2-2a40c7602cfa\",\"type\":\"ColumnDataSource\"},\"glyph\":{\"id\":\"633b8c7e-d4e9-48db-873d-1b72e1e27790\",\"type\":\"Quad\"},\"hover_glyph\":null,\"nonselection_glyph\":{\"id\":\"c3c99642-0fa4-4173-816d-5ba853f9b3e8\",\"type\":\"Quad\"},\"selection_glyph\":null},\"id\":\"56177bac-b09a-458f-a142-6ccac53331b4\",\"type\":\"GlyphRenderer\"},{\"attributes\":{\"data_source\":{\"id\":\"50d7f323-0ffd-4b92-a951-4ad726e5c41b\",\"type\":\"ColumnDataSource\"},\"glyph\":{\"id\":\"d3bd3658-54db-45af-bed1-f144897215b0\",\"type\":\"Quad\"},\"hover_glyph\":null,\"nonselection_glyph\":{\"id\":\"288f2abb-5e11-4f7d-8dea-6492e3f3eaf0\",\"type\":\"Quad\"},\"selection_glyph\":null},\"id\":\"b1b97b9c-c89a-47f2-932f-bce9f7a2ddda\",\"type\":\"GlyphRenderer\"},{\"attributes\":{\"callback\":null,\"column_names\":[\"right\",\"bottom\",\"top\",\"left\",\"fill_color\"],\"data\":{\"bottom\":[450,50,250,350,150],\"fill_color\":[\"#808080\",\"#61c4c4\",\"#808080\",\"#c46161\",\"#61c4c4\"],\"left\":[135758231,135759095,135766890,135933921,135964764],\"right\":[136376515,136387299,136275985,136368563,136101132],\"top\":[496,90,293,395,191]}},\"id\":\"50d7f323-0ffd-4b92-a951-4ad726e5c41b\",\"type\":\"ColumnDataSource\"},{\"attributes\":{},\"id\":\"37a9d850-5200-41c5-a0cb-0c84b075ca60\",\"type\":\"BasicTicker\"},{\"attributes\":{\"callback\":null,\"column_names\":[\"xs\",\"ys\",\"line_color\"],\"data\":{\"line_color\":[\"black\",\"black\",\"black\",\"black\",\"black\",\"black\",\"black\",\"black\",\"black\",\"black\",\"black\",\"black\",\"black\",\"black\",\"black\",\"black\",\"black\",\"black\",\"black\",\"black\",\"black\",\"black\",\"black\",\"black\",\"black\",\"black\",\"black\",\"black\",\"black\",\"black\",\"black\",\"black\",\"black\",\"black\",\"black\",\"black\",\"black\",\"black\",\"black\",\"black\",\"black\",\"black\",\"black\",\"black\",\"black\",\"black\",\"black\",\"black\",\"black\",\"black\",\"black\",\"black\",\"black\",\"black\",\"black\",\"black\",\"black\",\"black\",\"black\",\"black\",\"black\",\"black\",\"black\",\"black\",\"black\",\"black\",\"black\",\"black\",\"black\",\"black\",\"black\",\"black\",\"black\",\"black\",\"black\",\"black\",\"black\",\"black\",\"black\",\"black\",\"black\",\"black\",\"black\",\"black\",\"black\",\"black\",\"black\",\"black\",\"black\",\"black\",\"black\",\"black\",\"black\",\"black\",\"black\",\"black\",\"black\",\"black\",\"black\",\"black\",\"black\",\"black\",\"black\",\"black\",\"black\",\"black\",\"black\",\"black\",\"black\",\"black\",\"black\",\"black\",\"black\",\"black\",\"black\",\"black\",\"black\",\"black\",\"black\",\"black\",\"black\",\"black\",\"black\",\"black\",\"black\",\"black\",\"black\",\"black\",\"black\",\"black\",\"black\",\"black\",\"black\",\"black\",\"black\",\"black\",\"black\",\"black\",\"black\",\"black\",\"black\",\"black\",\"black\",\"black\",\"black\",\"black\",\"black\",\"black\",\"black\",\"black\",\"black\",\"black\",\"black\",\"black\",\"black\",\"black\",\"black\",\"black\",\"black\",\"black\",\"black\",\"black\",\"black\",\"black\",\"black\",\"black\",\"black\",\"black\",\"black\",\"black\",\"black\",\"black\",\"black\",\"black\",\"black\",\"black\",\"black\",\"black\",\"black\",\"black\",\"black\",\"black\",\"black\",\"black\",\"black\",\"black\",\"black\",\"black\",\"black\",\"black\",\"black\",\"black\",\"black\",\"black\",\"black\",\"black\",\"black\",\"black\",\"black\",\"black\",\"black\",\"black\",\"black\",\"black\",\"black\",\"black\",\"black\",\"black\",\"black\",\"black\",\"black\",\"black\",\"black\",\"black\",\"black\",\"black\",\"black\",\"black\",\"black\",\"black\",\"black\",\"black\",\"black\",\"black\",\"black\",\"black\",\"black\",\"black\",\"black\",\"black\",\"black\",\"black\",\"black\",\"black\",\"black\",\"black\",\"black\",\"black\",\"black\",\"black\",\"black\",\"black\",\"black\",\"black\",\"black\",\"black\",\"black\",\"black\",\"black\",\"black\",\"black\",\"black\",\"black\",\"black\",\"black\",\"black\",\"black\",\"black\",\"black\",\"black\",\"black\",\"black\",\"black\",\"black\",\"black\",\"black\",\"black\",\"black\",\"black\",\"black\",\"black\",\"black\",\"black\",\"black\",\"black\",\"black\",\"black\",\"black\",\"black\",\"black\",\"black\",\"black\",\"black\",\"black\",\"black\",\"black\",\"black\",\"black\",\"black\",\"black\",\"black\",\"black\",\"black\",\"black\",\"black\",\"black\",\"black\",\"black\",\"black\",\"black\",\"black\",\"black\",\"black\",\"black\",\"black\",\"black\",\"black\",\"black\",\"black\",\"black\",\"black\",\"black\",\"black\",\"black\",\"black\",\"black\",\"black\",\"black\",\"black\",\"black\",\"black\",\"black\",\"black\",\"black\",\"black\",\"black\",\"black\",\"black\",\"black\",\"black\",\"black\",\"black\",\"black\",\"black\",\"black\",\"black\",\"black\",\"black\",\"black\",\"black\",\"black\",\"black\",\"black\",\"black\",\"black\",\"black\",\"black\",\"black\",\"black\",\"black\",\"black\",\"black\",\"black\",\"black\",\"black\",\"black\",\"black\",\"black\",\"black\",\"black\",\"black\",\"black\",\"black\",\"black\",\"black\",\"black\",\"black\",\"black\",\"black\",\"black\",\"black\",\"black\",\"black\",\"black\",\"black\",\"black\",\"black\",\"black\",\"black\",\"black\",\"black\",\"black\",\"black\",\"black\",\"black\",\"black\",\"black\",\"black\",\"black\",\"black\",\"black\",\"black\",\"black\",\"black\",\"black\",\"black\",\"black\",\"black\",\"black\",\"black\",\"black\",\"black\",\"black\",\"black\",\"black\",\"black\",\"black\",\"black\",\"black\",\"black\",\"black\",\"black\",\"black\",\"black\",\"black\",\"black\",\"black\",\"black\",\"black\",\"black\",\"black\",\"black\",\"black\",\"black\",\"black\",\"black\",\"black\",\"black\",\"black\",\"black\",\"black\",\"black\",\"black\",\"black\",\"black\",\"black\",\"black\",\"black\",\"black\",\"black\",\"black\",\"black\",\"black\",\"black\",\"black\",\"black\",\"black\",\"black\",\"black\",\"black\",\"black\",\"black\",\"black\",\"black\",\"black\",\"black\",\"black\",\"black\",\"black\",\"black\",\"black\",\"black\",\"black\",\"black\",\"black\",\"black\",\"black\",\"black\",\"black\",\"black\",\"black\",\"black\",\"black\",\"black\",\"black\",\"black\",\"black\",\"black\",\"black\",\"black\",\"black\",\"black\",\"black\",\"black\",\"black\",\"black\",\"black\",\"black\",\"black\",\"black\",\"black\",\"black\",\"black\",\"black\",\"black\",\"black\",\"black\",\"black\",\"black\",\"black\",\"black\"],\"xs\":[[135758231,135758231],[135758520,135758520],[135766072,135766072],[135773420,135773420],[135773446,135773446],[135773617,135773617],[135773692,135773692],[135774681,135774681],[135775049,135775049],[135776430,135776430],[135778656,135778656],[135780168,135780168],[135780587,135780587],[135781301,135781301],[135781522,135781522],[135781635,135781635],[135782456,135782456],[135783157,135783157],[135783366,135783366],[135783367,135783367],[135784227,135784227],[135784733,135784733],[135785066,135785066],[135785068,135785068],[135785149,135785149],[135787148,135787148],[135787642,135787642],[135789405,135789405],[135789472,135789472],[135789682,135789682],[135789784,135789784],[135792338,135792338],[135792528,135792528],[135793565,135793565],[135793684,135793684],[135793845,135793845],[135794367,135794367],[135794986,135794986],[135795040,135795040],[135795095,135795095],[135795150,135795150],[135795385,135795385],[135795396,135795396],[135795443,135795443],[135795595,135795595],[135796000,135796000],[135796155,135796155],[135796410,135796410],[135796965,135796965],[135797223,135797223],[135797747,135797747],[135798082,135798082],[135798758,135798758],[135799082,135799082],[135800085,135800085],[135800601,135800601],[135800757,135800757],[135801228,135801228],[135801956,135801956],[135802020,135802020],[135802028,135802028],[135802050,135802050],[135802148,135802148],[135803766,135803766],[135809241,135809241],[135812969,135812969],[135814716,135814716],[135818907,135818907],[135829432,135829432],[135832131,135832131],[135849613,135849613],[135853807,135853807],[135859923,135859923],[135860305,135860305],[135861497,135861497],[135863143,135863143],[135864294,135864294],[135871624,135871624],[135872646,135872646],[135874038,135874038],[135874622,135874622],[135878814,135878814],[135880013,135880013],[135884487,135884487],[135885357,135885357],[135893853,135893853],[135895809,135895809],[135895879,135895879],[135899069,135899069],[135909462,135909462],[135912977,135912977],[135914038,135914038],[135921839,135921839],[135925002,135925002],[135928312,135928312],[135935049,135935049],[135962711,135962711],[135984172,135984172],[135994753,135994753],[135994754,135994754],[136016079,136016079],[136027264,136027264],[136052004,136052004],[136100473,136100473],[136110129,136110129],[136166536,136166536],[136169799,136169799],[136191314,136191314],[136228887,136228887],[136238453,136238453],[136288273,136288273],[136292425,136292425],[136321951,136321951],[136324564,136324564],[136327299,136327299],[136327302,136327302],[136376515,136376515],[135759095,135759095],[135767882,135767882],[135772049,135772049],[135773449,135773449],[135775786,135775786],[135776584,135776584],[135778239,135778239],[135781035,135781035],[135796302,135796302],[135803806,135803806],[135809572,135809572],[135812974,135812974],[135823042,135823042],[135825074,135825074],[135833521,135833521],[135851941,135851941],[135853900,135853900],[135854901,135854901],[135861310,135861310],[135866182,135866182],[135876308,135876308],[135887893,135887893],[135890608,135890608],[135899021,135899021],[135900539,135900539],[135912255,135912255],[135915414,135915414],[135918681,135918681],[135938999,135938999],[135946762,135946762],[135949064,135949064],[135949065,135949065],[135950240,135950240],[135954501,135954501],[135958940,135958940],[135960011,135960011],[135964572,135964572],[135971806,135971806],[135975598,135975598],[135978637,135978637],[135978792,135978792],[135980802,135980802],[135981130,135981130],[135984068,135984068],[135986636,135986636],[135987163,135987163],[135988186,135988186],[135992038,135992038],[135995885,135995885],[135996353,135996353],[135997275,135997275],[135998352,135998352],[135999189,135999189],[135999758,135999758],[136003597,136003597],[136007338,136007338],[136007529,136007529],[136009326,136009326],[136012313,136012313],[136019560,136019560],[136021007,136021007],[136027748,136027748],[136027809,136027809],[136031318,136031318],[136031551,136031551],[136034837,136034837],[136035510,136035510],[136042064,136042064],[136043293,136043293],[136045826,136045826],[136049992,136049992],[136052318,136052318],[136052770,136052770],[136053195,136053195],[136053599,136053599],[136055139,136055139],[136057643,136057643],[136060102,136060102],[136062586,136062586],[136062749,136062749],[136069870,136069870],[136070441,136070441],[136072754,136072754],[136074672,136074672],[136076275,136076275],[136081038,136081038],[136084661,136084661],[136085367,136085367],[136086897,136086897],[136088431,136088431],[136092485,136092485],[136093253,136093253],[136094478,136094478],[136102064,136102064],[136105186,136105186],[136108385,136108385],[136109851,136109851],[136112697,136112697],[136114228,136114228],[136119133,136119133],[136120174,136120174],[136127216,136127216],[136128254,136128254],[136131744,136131744],[136133109,136133109],[136136279,136136279],[136142490,136142490],[136145192,136145192],[136146053,136146053],[136146369,136146369],[136149565,136149565],[136149927,136149927],[136151774,136151774],[136154364,136154364],[136157752,136157752],[136158243,136158243],[136158644,136158644],[136158946,136158946],[136159843,136159843],[136160751,136160751],[136163870,136163870],[136168686,136168686],[136171386,136171386],[136172024,136172024],[136172820,136172820],[136172853,136172853],[136175034,136175034],[136176104,136176104],[136178761,136178761],[136180917,136180917],[136182160,136182160],[136182355,136182355],[136185950,136185950],[136188300,136188300],[136188480,136188480],[136188575,136188575],[136191286,136191286],[136191661,136191661],[136193839,136193839],[136197756,136197756],[136198645,136198645],[136201320,136201320],[136202976,136202976],[136203038,136203038],[136208730,136208730],[136211792,136211792],[136213050,136213050],[136213287,136213287],[136222634,136222634],[136225101,136225101],[136227710,136227710],[136228150,136228150],[136229697,136229697],[136232100,136232100],[136237994,136237994],[136249777,136249777],[136253514,136253514],[136254660,136254660],[136258254,136258254],[136262412,136262412],[136263071,136263071],[136263450,136263450],[136266335,136266335],[136268788,136268788],[136274236,136274236],[136276238,136276238],[136277664,136277664],[136283916,136283916],[136284779,136284779],[136287555,136287555],[136298035,136298035],[136300554,136300554],[136308555,136308555],[136309552,136309552],[136309779,136309779],[136310924,136310924],[136311867,136311867],[136312909,136312909],[136315932,136315932],[136321197,136321197],[136331435,136331435],[136337874,136337874],[136339552,136339552],[136340725,136340725],[136345038,136345038],[136349891,136349891],[136356227,136356227],[136366433,136366433],[136380723,136380723],[136382681,136382681],[136385683,136385683],[136386726,136386726],[136387299,136387299],[135766890,135766890],[135778708,135778708],[135779588,135779588],[135805941,135805941],[135805943,135805943],[135932720,135932720],[135933317,135933317],[135934842,135934842],[135952376,135952376],[135958853,135958853],[135962864,135962864],[135963304,135963304],[135965376,135965376],[135980201,135980201],[135981554,135981554],[135988127,135988127],[135988416,135988416],[135991470,135991470],[136000500,136000500],[136001215,136001215],[136001295,136001295],[136016514,136016514],[136017388,136017388],[136041102,136041102],[136041662,136041662],[136047387,136047387],[136052936,136052936],[136055275,136055275],[136063118,136063118],[136066802,136066802],[136068890,136068890],[136069577,136069577],[136081193,136081193],[136105193,136105193],[136107839,136107839],[136110835,136110835],[136138026,136138026],[136142092,136142092],[136146499,136146499],[136147607,136147607],[136148401,136148401],[136150512,136150512],[136154734,136154734],[136155805,136155805],[136163001,136163001],[136163266,136163266],[136163568,136163568],[136163821,136163821],[136165965,136165965],[136183312,136183312],[136185945,136185945],[136191729,136191729],[136204827,136204827],[136208747,136208747],[136217980,136217980],[136229438,136229438],[136232572,136232572],[136240942,136240942],[136251329,136251329],[136265187,136265187],[136265188,136265188],[136275985,136275985],[135933921,135933921],[135939824,135939824],[135941503,135941503],[135943900,135943900],[135945474,135945474],[135949715,135949715],[135956745,135956745],[135958693,135958693],[135967778,135967778],[135972093,135972093],[135973768,135973768],[135976498,135976498],[135978428,135978428],[135990031,135990031],[135992481,135992481],[135993925,135993925],[135994838,135994838],[136000253,136000253],[136003567,136003567],[136005477,136005477],[136005971,136005971],[136020977,136020977],[136027535,136027535],[136031588,136031588],[136032905,136032905],[136042480,136042480],[136043885,136043885],[136050471,136050471],[136052898,136052898],[136054815,136054815],[136056285,136056285],[136061560,136061560],[136063685,136063685],[136069060,136069060],[136072179,136072179],[136074233,136074233],[136080721,136080721],[136080822,136080822],[136088440,136088440],[136088643,136088643],[136092416,136092416],[136092869,136092869],[136094615,136094615],[136095505,136095505],[136095604,136095604],[136096766,136096766],[136097091,136097091],[136097394,136097394],[136100243,136100243],[136101823,136101823],[136106561,136106561],[136115501,136115501],[136122622,136122622],[136123014,136123014],[136123848,136123848],[136127100,136127100],[136127950,136127950],[136128630,136128630],[136129630,136129630],[136129791,136129791],[136131324,136131324],[136135383,136135383],[136135994,136135994],[136136224,136136224],[136136366,136136366],[136136440,136136440],[136138145,136138145],[136140568,136140568],[136145882,136145882],[136147948,136147948],[136148630,136148630],[136151485,136151485],[136152802,136152802],[136156753,136156753],[136157913,136157913],[136160902,136160902],[136165765,136165765],[136171649,136171649],[136173220,136173220],[136173735,136173735],[136174552,136174552],[136175692,136175692],[136176805,136176805],[136182484,136182484],[136183188,136183188],[136187252,136187252],[136187345,136187345],[136189475,136189475],[136197702,136197702],[136198435,136198435],[136202937,136202937],[136219999,136219999],[136221500,136221500],[136226626,136226626],[136228929,136228929],[136229598,136229598],[136238270,136238270],[136238346,136238346],[136240769,136240769],[136244171,136244171],[136249245,136249245],[136250285,136250285],[136254419,136254419],[136266241,136266241],[136267808,136267808],[136272074,136272074],[136277304,136277304],[136290607,136290607],[136290663,136290663],[136291310,136291310],[136296051,136296051],[136305392,136305392],[136306890,136306890],[136310803,136310803],[136324225,136324225],[136324465,136324465],[136327305,136327305],[136329618,136329618],[136333300,136333300],[136350089,136350089],[136354204,136354204],[136360455,136360455],[136368563,136368563],[135964764,135964764],[135964765,135964765],[136099127,136099127],[136099650,136099650],[136100705,136100705],[136101132,136101132]],\"ys\":[[450,496],[450,496],[450,496],[450,496],[450,496],[450,496],[450,496],[450,496],[450,496],[450,496],[450,496],[450,496],[450,496],[450,496],[450,496],[450,496],[450,496],[450,496],[450,496],[450,496],[450,496],[450,496],[450,496],[450,496],[450,496],[450,496],[450,496],[450,496],[450,496],[450,496],[450,496],[450,496],[450,496],[450,496],[450,496],[450,496],[450,496],[450,496],[450,496],[450,496],[450,496],[450,496],[450,496],[450,496],[450,496],[450,496],[450,496],[450,496],[450,496],[450,496],[450,496],[450,496],[450,496],[450,496],[450,496],[450,496],[450,496],[450,496],[450,496],[450,496],[450,496],[450,496],[450,496],[450,496],[450,496],[450,496],[450,496],[450,496],[450,496],[450,496],[450,496],[450,496],[450,496],[450,496],[450,496],[450,496],[450,496],[450,496],[450,496],[450,496],[450,496],[450,496],[450,496],[450,496],[450,496],[450,496],[450,496],[450,496],[450,496],[450,496],[450,496],[450,496],[450,496],[450,496],[450,496],[450,496],[450,496],[450,496],[450,496],[450,496],[450,496],[450,496],[450,496],[450,496],[450,496],[450,496],[450,496],[450,496],[450,496],[450,496],[450,496],[450,496],[450,496],[450,496],[450,496],[450,496],[450,496],[50,90],[50,90],[50,90],[50,90],[50,90],[50,90],[50,90],[50,90],[50,90],[50,90],[50,90],[50,90],[50,90],[50,90],[50,90],[50,90],[50,90],[50,90],[50,90],[50,90],[50,90],[50,90],[50,90],[50,90],[50,90],[50,90],[50,90],[50,90],[50,90],[50,90],[50,90],[50,90],[50,90],[50,90],[50,90],[50,90],[50,90],[50,90],[50,90],[50,90],[50,90],[50,90],[50,90],[50,90],[50,90],[50,90],[50,90],[50,90],[50,90],[50,90],[50,90],[50,90],[50,90],[50,90],[50,90],[50,90],[50,90],[50,90],[50,90],[50,90],[50,90],[50,90],[50,90],[50,90],[50,90],[50,90],[50,90],[50,90],[50,90],[50,90],[50,90],[50,90],[50,90],[50,90],[50,90],[50,90],[50,90],[50,90],[50,90],[50,90],[50,90],[50,90],[50,90],[50,90],[50,90],[50,90],[50,90],[50,90],[50,90],[50,90],[50,90],[50,90],[50,90],[50,90],[50,90],[50,90],[50,90],[50,90],[50,90],[50,90],[50,90],[50,90],[50,90],[50,90],[50,90],[50,90],[50,90],[50,90],[50,90],[50,90],[50,90],[50,90],[50,90],[50,90],[50,90],[50,90],[50,90],[50,90],[50,90],[50,90],[50,90],[50,90],[50,90],[50,90],[50,90],[50,90],[50,90],[50,90],[50,90],[50,90],[50,90],[50,90],[50,90],[50,90],[50,90],[50,90],[50,90],[50,90],[50,90],[50,90],[50,90],[50,90],[50,90],[50,90],[50,90],[50,90],[50,90],[50,90],[50,90],[50,90],[50,90],[50,90],[50,90],[50,90],[50,90],[50,90],[50,90],[50,90],[50,90],[50,90],[50,90],[50,90],[50,90],[50,90],[50,90],[50,90],[50,90],[50,90],[50,90],[50,90],[50,90],[50,90],[50,90],[50,90],[50,90],[50,90],[50,90],[50,90],[50,90],[50,90],[50,90],[50,90],[50,90],[50,90],[50,90],[50,90],[50,90],[50,90],[50,90],[50,90],[50,90],[50,90],[50,90],[250,293],[250,293],[250,293],[250,293],[250,293],[250,293],[250,293],[250,293],[250,293],[250,293],[250,293],[250,293],[250,293],[250,293],[250,293],[250,293],[250,293],[250,293],[250,293],[250,293],[250,293],[250,293],[250,293],[250,293],[250,293],[250,293],[250,293],[250,293],[250,293],[250,293],[250,293],[250,293],[250,293],[250,293],[250,293],[250,293],[250,293],[250,293],[250,293],[250,293],[250,293],[250,293],[250,293],[250,293],[250,293],[250,293],[250,293],[250,293],[250,293],[250,293],[250,293],[250,293],[250,293],[250,293],[250,293],[250,293],[250,293],[250,293],[250,293],[250,293],[250,293],[250,293],[350,395],[350,395],[350,395],[350,395],[350,395],[350,395],[350,395],[350,395],[350,395],[350,395],[350,395],[350,395],[350,395],[350,395],[350,395],[350,395],[350,395],[350,395],[350,395],[350,395],[350,395],[350,395],[350,395],[350,395],[350,395],[350,395],[350,395],[350,395],[350,395],[350,395],[350,395],[350,395],[350,395],[350,395],[350,395],[350,395],[350,395],[350,395],[350,395],[350,395],[350,395],[350,395],[350,395],[350,395],[350,395],[350,395],[350,395],[350,395],[350,395],[350,395],[350,395],[350,395],[350,395],[350,395],[350,395],[350,395],[350,395],[350,395],[350,395],[350,395],[350,395],[350,395],[350,395],[350,395],[350,395],[350,395],[350,395],[350,395],[350,395],[350,395],[350,395],[350,395],[350,395],[350,395],[350,395],[350,395],[350,395],[350,395],[350,395],[350,395],[350,395],[350,395],[350,395],[350,395],[350,395],[350,395],[350,395],[350,395],[350,395],[350,395],[350,395],[350,395],[350,395],[350,395],[350,395],[350,395],[350,395],[350,395],[350,395],[350,395],[350,395],[350,395],[350,395],[350,395],[350,395],[350,395],[350,395],[350,395],[350,395],[350,395],[350,395],[350,395],[350,395],[350,395],[350,395],[350,395],[350,395],[350,395],[350,395],[350,395],[350,395],[350,395],[350,395],[150,191],[150,191],[150,191],[150,191],[150,191],[150,191]]}},\"id\":\"cce7cfbc-3fde-447a-a19e-e0d551ea8975\",\"type\":\"ColumnDataSource\"},{\"attributes\":{},\"id\":\"e638361f-f30e-4dee-ade5-8dd2dc3fcb57\",\"type\":\"ToolEvents\"},{\"attributes\":{\"bottom\":{\"field\":\"bottom\"},\"fill_alpha\":{\"value\":0.1},\"fill_color\":{\"value\":\"#1f77b4\"},\"left\":{\"field\":\"left\"},\"line_alpha\":{\"value\":0.1},\"line_color\":{\"value\":\"#1f77b4\"},\"right\":{\"field\":\"right\"},\"top\":{\"field\":\"top\"}},\"id\":\"288f2abb-5e11-4f7d-8dea-6492e3f3eaf0\",\"type\":\"Quad\"},{\"attributes\":{\"plot\":{\"id\":\"c1c482f0-b235-41c5-bb49-a9bfa96192de\",\"subtype\":\"Figure\",\"type\":\"Plot\"},\"ticker\":{\"id\":\"37a9d850-5200-41c5-a0cb-0c84b075ca60\",\"type\":\"BasicTicker\"}},\"id\":\"370bf0d9-aabc-4f48-aab5-988e061269a7\",\"type\":\"Grid\"},{\"attributes\":{},\"id\":\"d1da13e1-0a4a-4406-8dcd-e710e37c5f52\",\"type\":\"BasicTickFormatter\"},{\"attributes\":{\"bottom\":{\"field\":\"bottom\"},\"fill_alpha\":{\"value\":0.1},\"fill_color\":{\"value\":\"#1f77b4\"},\"left\":{\"field\":\"left\"},\"line_alpha\":{\"value\":0.1},\"line_color\":{\"value\":\"#1f77b4\"},\"right\":{\"field\":\"right\"},\"top\":{\"field\":\"top\"}},\"id\":\"c3c99642-0fa4-4173-816d-5ba853f9b3e8\",\"type\":\"Quad\"}],\"root_ids\":[\"c1c482f0-b235-41c5-bb49-a9bfa96192de\"]},\"title\":\"Bokeh Application\",\"version\":\"0.12.0\"}};\n",
       "            var render_items = [{\"docid\":\"30c63ca7-9cc9-455b-8105-e999882522e0\",\"elementid\":\"35aaf064-4d2f-4c39-9c1a-91b3abab1b61\",\"modelid\":\"c1c482f0-b235-41c5-bb49-a9bfa96192de\",\"notebook_comms_target\":\"ddcd2b91-dc5d-4bfc-ba3e-2785ca48b649\"}];\n",
       "            \n",
       "            Bokeh.embed.embed_items(docs_json, render_items);\n",
       "        });\n",
       "      },\n",
       "      function(Bokeh) {\n",
       "      }\n",
       "    ];\n",
       "  \n",
       "    function run_inline_js() {\n",
       "      for (var i = 0; i < inline_js.length; i++) {\n",
       "        inline_js[i](window.Bokeh);\n",
       "      }\n",
       "    }\n",
       "  \n",
       "    if (window._bokeh_is_loading === 0) {\n",
       "      console.log(\"Bokeh: BokehJS loaded, going straight to plotting\");\n",
       "      run_inline_js();\n",
       "    } else {\n",
       "      load_libs(js_urls, function() {\n",
       "        console.log(\"Bokeh: BokehJS plotting callback run at\", now());\n",
       "        run_inline_js();\n",
       "      });\n",
       "    }\n",
       "  }(this));\n",
       "</script>"
      ]
     },
     "metadata": {},
     "output_type": "display_data"
    },
    {
     "data": {
      "text/html": [
       "<p><code>&lt;Bokeh Notebook handle for <strong>In[2]</strong>&gt;</code></p>"
      ],
      "text/plain": [
       "<bokeh.io._CommsHandle at 0x7ff5498db6d0>"
      ]
     },
     "execution_count": 2,
     "metadata": {},
     "output_type": "execute_result"
    }
   ],
   "source": [
    "plt_obj = dm.superset_yes_no([dm.di_193_843], min_match=0.9)\n",
    "plt = plt_obj.do_plot()\n",
    "show(plt)"
   ]
  },
  {
   "cell_type": "code",
   "execution_count": 3,
   "metadata": {
    "collapsed": false
   },
   "outputs": [
    {
     "data": {
      "text/html": [
       "<table>\n",
       "<thead><tr><th style=\"text-align:center\">index</th><th style=\"text-align:center\">first</th><th style=\"text-align:center\">length</th><th style=\"text-align:center\">snps</th><th style=\"text-align:center\" colspan=2>alleles</th><th style=\"text-align:center\" colspan=2>matches</th><th style=\"text-align:center\" colspan=2>afr</th><th style=\"text-align:center\" colspan=2>afx</th><th style=\"text-align:center\" colspan=2>amr</th><th style=\"text-align:center\" colspan=2>eas</th><th style=\"text-align:center\" colspan=2>eur</th><th style=\"text-align:center\" colspan=2>sas</th><th style=\"text-align:center\" colspan=2>sax</th></tr></thead>\n",
       "<tr class=\"even\"><td style=\"text-align: right;\">353244</td><td style=\"text-align: right;\">135,758,231</td><td style=\"text-align: right;\">618,284</td><td style=\"text-align: right;\">117</td><td style=\"text-align: right;\">1685</td><td style=\"text-align: right;\">0.50</td><td style=\"text-align: right;\">842</td><td style=\"text-align: right;\">1.00</td><td style=\"text-align: right;\">79</td><td style=\"text-align: right;\">0.47</td><td style=\"text-align: right;\">26</td><td style=\"text-align: right;\">0.49</td><td style=\"text-align: right;\">143</td><td style=\"text-align: right;\">1.23</td><td style=\"text-align: right;\">167</td><td style=\"text-align: right;\">0.99</td><td style=\"text-align: right;\">83</td><td style=\"text-align: right;\">0.49</td><td style=\"text-align: right;\">116</td><td style=\"text-align: right;\">1.90</td><td style=\"text-align: right;\">228</td><td style=\"text-align: right;\">2.21</td></tr>\n",
       "<tr><td style=\"text-align: right;\">353478</td><td style=\"text-align: right;\">135,933,921</td><td style=\"text-align: right;\">434,642</td><td style=\"text-align: right;\">123</td><td style=\"text-align: right;\">1561</td><td style=\"text-align: right;\">0.54</td><td style=\"text-align: right;\">843</td><td style=\"text-align: right;\">1.00</td><td style=\"text-align: right;\">79</td><td style=\"text-align: right;\">0.47</td><td style=\"text-align: right;\">26</td><td style=\"text-align: right;\">0.49</td><td style=\"text-align: right;\">143</td><td style=\"text-align: right;\">1.22</td><td style=\"text-align: right;\">167</td><td style=\"text-align: right;\">0.98</td><td style=\"text-align: right;\">83</td><td style=\"text-align: right;\">0.49</td><td style=\"text-align: right;\">117</td><td style=\"text-align: right;\">1.91</td><td style=\"text-align: right;\">228</td><td style=\"text-align: right;\">2.21</td></tr>\n",
       "<tr class=\"even\"><td style=\"text-align: right;\">353269</td><td style=\"text-align: right;\">135,766,890</td><td style=\"text-align: right;\">509,095</td><td style=\"text-align: right;\">62</td><td style=\"text-align: right;\">1265</td><td style=\"text-align: right;\">0.67</td><td style=\"text-align: right;\">843</td><td style=\"text-align: right;\">1.00</td><td style=\"text-align: right;\">79</td><td style=\"text-align: right;\">0.47</td><td style=\"text-align: right;\">26</td><td style=\"text-align: right;\">0.49</td><td style=\"text-align: right;\">143</td><td style=\"text-align: right;\">1.22</td><td style=\"text-align: right;\">167</td><td style=\"text-align: right;\">0.98</td><td style=\"text-align: right;\">83</td><td style=\"text-align: right;\">0.49</td><td style=\"text-align: right;\">117</td><td style=\"text-align: right;\">1.91</td><td style=\"text-align: right;\">228</td><td style=\"text-align: right;\">2.21</td></tr>\n",
       "<tr><td style=\"text-align: right;\">353504</td><td style=\"text-align: right;\">135,964,764</td><td style=\"text-align: right;\">136,368</td><td style=\"text-align: right;\">6</td><td style=\"text-align: right;\">946</td><td style=\"text-align: right;\">0.88</td><td style=\"text-align: right;\">832</td><td style=\"text-align: right;\">0.99</td><td style=\"text-align: right;\">78</td><td style=\"text-align: right;\">0.47</td><td style=\"text-align: right;\">26</td><td style=\"text-align: right;\">0.50</td><td style=\"text-align: right;\">141</td><td style=\"text-align: right;\">1.22</td><td style=\"text-align: right;\">165</td><td style=\"text-align: right;\">0.99</td><td style=\"text-align: right;\">82</td><td style=\"text-align: right;\">0.49</td><td style=\"text-align: right;\">114</td><td style=\"text-align: right;\">1.89</td><td style=\"text-align: right;\">226</td><td style=\"text-align: right;\">2.22</td></tr>\n",
       "<tr class=\"even\"><td style=\"text-align: right;\">353248</td><td style=\"text-align: right;\">135,759,095</td><td style=\"text-align: right;\">628,204</td><td style=\"text-align: right;\">193</td><td style=\"text-align: right;\">843</td><td style=\"text-align: right;\">1.00</td><td style=\"text-align: right;\">843</td><td style=\"text-align: right;\">1.00</td><td style=\"text-align: right;\">79</td><td style=\"text-align: right;\">0.47</td><td style=\"text-align: right;\">26</td><td style=\"text-align: right;\">0.49</td><td style=\"text-align: right;\">143</td><td style=\"text-align: right;\">1.22</td><td style=\"text-align: right;\">167</td><td style=\"text-align: right;\">0.98</td><td style=\"text-align: right;\">83</td><td style=\"text-align: right;\">0.49</td><td style=\"text-align: right;\">117</td><td style=\"text-align: right;\">1.91</td><td style=\"text-align: right;\">228</td><td style=\"text-align: right;\">2.21</td></tr>\n",
       "</table>"
      ],
      "text/plain": [
       "<IPython.core.display.HTML object>"
      ]
     },
     "execution_count": 3,
     "metadata": {},
     "output_type": "execute_result"
    }
   ],
   "source": [
    "HTML(plt_obj.get_html())"
   ]
  }
 ],
 "metadata": {
  "anaconda-cloud": {},
  "kernelspec": {
   "display_name": "Python [Root]",
   "language": "python",
   "name": "Python [Root]"
  },
  "language_info": {
   "codemirror_mode": {
    "name": "ipython",
    "version": 2
   },
   "file_extension": ".py",
   "mimetype": "text/x-python",
   "name": "python",
   "nbconvert_exporter": "python",
   "pygments_lexer": "ipython2",
   "version": "2.7.12"
  }
 },
 "nbformat": 4,
 "nbformat_minor": 0
}
