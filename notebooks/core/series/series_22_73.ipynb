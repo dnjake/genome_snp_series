{
 "cells": [
  {
   "cell_type": "code",
   "execution_count": 1,
   "metadata": {
    "collapsed": false
   },
   "outputs": [
    {
     "data": {
      "text/html": []
     },
     "metadata": {},
     "output_type": "display_data"
    },
    {
     "data": {
      "application/javascript": [
       "\n",
       "(function(global) {\n",
       "  function now() {\n",
       "    return new Date();\n",
       "  }\n",
       "\n",
       "  if (typeof (window._bokeh_onload_callbacks) === \"undefined\") {\n",
       "    window._bokeh_onload_callbacks = [];\n",
       "  }\n",
       "\n",
       "  function run_callbacks() {\n",
       "    window._bokeh_onload_callbacks.forEach(function(callback) { callback() });\n",
       "    delete window._bokeh_onload_callbacks\n",
       "    console.info(\"Bokeh: all callbacks have finished\");\n",
       "  }\n",
       "\n",
       "  function load_libs(js_urls, callback) {\n",
       "    window._bokeh_onload_callbacks.push(callback);\n",
       "    if (window._bokeh_is_loading > 0) {\n",
       "      console.log(\"Bokeh: BokehJS is being loaded, scheduling callback at\", now());\n",
       "      return null;\n",
       "    }\n",
       "    if (js_urls == null || js_urls.length === 0) {\n",
       "      run_callbacks();\n",
       "      return null;\n",
       "    }\n",
       "    console.log(\"Bokeh: BokehJS not loaded, scheduling load and callback at\", now());\n",
       "    window._bokeh_is_loading = js_urls.length;\n",
       "    for (var i = 0; i < js_urls.length; i++) {\n",
       "      var url = js_urls[i];\n",
       "      var s = document.createElement('script');\n",
       "      s.src = url;\n",
       "      s.async = false;\n",
       "      s.onreadystatechange = s.onload = function() {\n",
       "        window._bokeh_is_loading--;\n",
       "        if (window._bokeh_is_loading === 0) {\n",
       "          console.log(\"Bokeh: all BokehJS libraries loaded\");\n",
       "          run_callbacks()\n",
       "        }\n",
       "      };\n",
       "      s.onerror = function() {\n",
       "        console.warn(\"failed to load library \" + url);\n",
       "      };\n",
       "      console.log(\"Bokeh: injecting script tag for BokehJS library: \", url);\n",
       "      document.getElementsByTagName(\"head\")[0].appendChild(s);\n",
       "    }\n",
       "  };\n",
       "\n",
       "  var js_urls = ['https://cdn.pydata.org/bokeh/release/bokeh-0.12.0.min.js', 'https://cdn.pydata.org/bokeh/release/bokeh-widgets-0.12.0.min.js', 'https://cdn.pydata.org/bokeh/release/bokeh-compiler-0.12.0.min.js'];\n",
       "\n",
       "  var inline_js = [\n",
       "    function(Bokeh) {\n",
       "      Bokeh.set_log_level(\"info\");\n",
       "    },\n",
       "    \n",
       "    function(Bokeh) {\n",
       "      Bokeh.$(\"#d825f8ca-eb4b-4203-ba2f-8cdbd85c1197\").text(\"BokehJS successfully loaded\");\n",
       "    },\n",
       "    function(Bokeh) {\n",
       "      console.log(\"Bokeh: injecting CSS: https://cdn.pydata.org/bokeh/release/bokeh-0.12.0.min.css\");\n",
       "      Bokeh.embed.inject_css(\"https://cdn.pydata.org/bokeh/release/bokeh-0.12.0.min.css\");\n",
       "      console.log(\"Bokeh: injecting CSS: https://cdn.pydata.org/bokeh/release/bokeh-widgets-0.12.0.min.css\");\n",
       "      Bokeh.embed.inject_css(\"https://cdn.pydata.org/bokeh/release/bokeh-widgets-0.12.0.min.css\");\n",
       "    }\n",
       "  ];\n",
       "\n",
       "  function run_inline_js() {\n",
       "    for (var i = 0; i < inline_js.length; i++) {\n",
       "      inline_js[i](window.Bokeh);\n",
       "    }\n",
       "  }\n",
       "\n",
       "  if (window._bokeh_is_loading === 0) {\n",
       "    console.log(\"Bokeh: BokehJS loaded, going straight to plotting\");\n",
       "    run_inline_js();\n",
       "  } else {\n",
       "    load_libs(js_urls, function() {\n",
       "      console.log(\"Bokeh: BokehJS plotting callback run at\", now());\n",
       "      run_inline_js();\n",
       "    });\n",
       "  }\n",
       "}(this));"
      ]
     },
     "metadata": {},
     "output_type": "display_data"
    }
   ],
   "source": [
    "import numpy as np\n",
    "from IPython.display import HTML\n",
    "from bokeh.plotting import output_notebook, show\n",
    "import genomes_dnj.lct_interval.series_plots as dm\n",
    "import genomes_dnj.lct_interval.anal_series as an\n",
    "import genomes_dnj.lct_interval_snp_anal.lct_interval_snp_anal as snp_anal\n",
    "import genomes_dnj.lct_interval.series_masks as sm\n",
    "from genomes_dnj.lct_interval.bokeh_match_count_plot import snp_match_count_plot_cls as smcp\n",
    "output_notebook(hide_banner=True)\n",
    "sa_117_1685 = snp_anal.series_anal_cls(dm.di_117_1685, sm.series_data)\n",
    "sa_123_1561 = snp_anal.series_anal_cls(dm.di_123_1561, sm.series_data)\n",
    "sa_62_1265 = snp_anal.series_anal_cls(dm.di_62_1265, sm.series_data)\n",
    "sa_193_843 = snp_anal.series_anal_cls(dm.di_193_843, sm.series_data)\n",
    "sa_22_73 = snp_anal.series_anal_cls(dm.di_22_73, sm.series_data)\n",
    "am_22_73 = dm.allele_mask_from_index(dm.di_22_73)"
   ]
  },
  {
   "cell_type": "markdown",
   "metadata": {},
   "source": [
    "<h3>Series 22_73</h3>\n",
    "<div style=\"width:700px\">\n",
    "<p>\n",
    "This notebook documents the series 22_73 and its 22 SNPs. The 1000 genomes data include\n",
    "include 4922 chromosome 2 samples that express none of these 22 SNPs, 70 that express all\n",
    "22 of them and 3 that express 21 of them.\n",
    "<p>\n",
    "The series 22_73 has selected the 28_434 hierarchy that expresses 13_1696 and 117_1685 but\n",
    "not 123_1561.  Its history started with a chromosome that expressed 117_1685, 9_887, 8_718,\n",
    "5_588, 9_545, 28_434, 70_166, and 49_136.  That chromosome recombined with one that expressed\n",
    "13_1696.  The result of the event was a chromosome that expressed 13_1696 in addition to all\n",
    "of the other series.  The first 10 SNPs of 117_1685 were lost in the recombination event.  The\n",
    "SNPs selected by the emergence of 22_73 also lost one more 117_1685 SNP from the middle of the series.\n",
    "But, enough 117_1685 SNPs were retained for it to meet the threshold to be counted as an expressed\n",
    "series.\n",
    "<p>\n",
    "All 73 chromosome samples that express 22_73 also express fragments of 123_1561 that range\n",
    "from 107 through 110 SNPs.  The samples also express fragments of 62_1265 that range from 2 through 5\n",
    "SNPs and a 2 SNP fragment of 193_843.\n",
    "</div>"
   ]
  },
  {
   "cell_type": "code",
   "execution_count": 2,
   "metadata": {
    "collapsed": false
   },
   "outputs": [
    {
     "data": {
      "text/html": [
       "<p>\n",
       "<b>22_73 series</b>\n",
       "</p><p>\n",
       "<table>\n",
       "<thead><tr><th style=\"text-align:center\">index</th><th style=\"text-align:center\">first</th><th style=\"text-align:center\">length</th><th style=\"text-align:center\">snps</th><th style=\"text-align:center\">alleles</th><th style=\"text-align:center\" colspan=2>afr</th><th style=\"text-align:center\" colspan=2>afx</th><th style=\"text-align:center\" colspan=2>amr</th><th style=\"text-align:center\" colspan=2>eas</th><th style=\"text-align:center\" colspan=2>eur</th><th style=\"text-align:center\" colspan=2>sas</th><th style=\"text-align:center\" colspan=2>sax</th></tr></thead>\n",
       "<tr class=\"even\"><td style=\"text-align: right;\">353259</td><td style=\"text-align: right;\">135,761,470</td><td style=\"text-align: right;\">609,610</td><td style=\"text-align: right;\">22</td><td style=\"text-align: right;\">73</td><td style=\"text-align: right;\">46</td><td style=\"text-align: right;\">3.13</td><td style=\"text-align: right;\">26</td><td style=\"text-align: right;\">5.68</td><td style=\"text-align: right;\">1</td><td style=\"text-align: right;\">0.10</td><td style=\"text-align: right;\">0</td><td style=\"text-align: right;\">0.00</td><td style=\"text-align: right;\">0</td><td style=\"text-align: right;\">0.00</td><td style=\"text-align: right;\">0</td><td style=\"text-align: right;\">0.00</td><td style=\"text-align: right;\">0</td><td style=\"text-align: right;\">0.00</td></tr>\n",
       "</table>\n",
       "</p>\n",
       "<p>\n",
       "<b>22_73 series snps</b>\n",
       "</p><p>\n",
       "<table>\n",
       "<thead><tr><th style=\"text-align:center\">index</th><th style=\"text-align:center\">pos</th><th style=\"text-align:center\">id</th><th style=\"text-align:center\">niv</th><th style=\"text-align:center\">alleles</th><th style=\"text-align:center\" colspan=2>afr</th><th style=\"text-align:center\" colspan=2>afx</th><th style=\"text-align:center\" colspan=2>amr</th><th style=\"text-align:center\" colspan=2>eas</th><th style=\"text-align:center\" colspan=2>eur</th><th style=\"text-align:center\" colspan=2>sas</th><th style=\"text-align:center\" colspan=2>sax</th></tr></thead>\n",
       "<tr class=\"even\"><td style=\"text-align: right;\">875019</td><td style=\"text-align: right;\">135,761,470</td><td>rs115699549</td><td>0</td><td style=\"text-align: right;\">75</td><td style=\"text-align: right;\">48</td><td style=\"text-align: right;\">3.18</td><td style=\"text-align: right;\">26</td><td style=\"text-align: right;\">5.53</td><td style=\"text-align: right;\">1</td><td style=\"text-align: right;\">0.10</td><td style=\"text-align: right;\">0</td><td style=\"text-align: right;\">0.00</td><td style=\"text-align: right;\">0</td><td style=\"text-align: right;\">0.00</td><td style=\"text-align: right;\">0</td><td style=\"text-align: right;\">0.00</td><td style=\"text-align: right;\">0</td><td style=\"text-align: right;\">0.00</td></tr>\n",
       "<tr><td style=\"text-align: right;\">875043</td><td style=\"text-align: right;\">135,766,160</td><td>rs9636212</td><td>0</td><td style=\"text-align: right;\">74</td><td style=\"text-align: right;\">47</td><td style=\"text-align: right;\">3.16</td><td style=\"text-align: right;\">26</td><td style=\"text-align: right;\">5.60</td><td style=\"text-align: right;\">1</td><td style=\"text-align: right;\">0.10</td><td style=\"text-align: right;\">0</td><td style=\"text-align: right;\">0.00</td><td style=\"text-align: right;\">0</td><td style=\"text-align: right;\">0.00</td><td style=\"text-align: right;\">0</td><td style=\"text-align: right;\">0.00</td><td style=\"text-align: right;\">0</td><td style=\"text-align: right;\">0.00</td></tr>\n",
       "<tr class=\"even\"><td style=\"text-align: right;\">875098</td><td style=\"text-align: right;\">135,775,474</td><td>rs13382861</td><td>0</td><td style=\"text-align: right;\">75</td><td style=\"text-align: right;\">47</td><td style=\"text-align: right;\">3.11</td><td style=\"text-align: right;\">27</td><td style=\"text-align: right;\">5.74</td><td style=\"text-align: right;\">1</td><td style=\"text-align: right;\">0.10</td><td style=\"text-align: right;\">0</td><td style=\"text-align: right;\">0.00</td><td style=\"text-align: right;\">0</td><td style=\"text-align: right;\">0.00</td><td style=\"text-align: right;\">0</td><td style=\"text-align: right;\">0.00</td><td style=\"text-align: right;\">0</td><td style=\"text-align: right;\">0.00</td></tr>\n",
       "<tr><td style=\"text-align: right;\">875100</td><td style=\"text-align: right;\">135,775,547</td><td>rs13420806</td><td>0</td><td style=\"text-align: right;\">74</td><td style=\"text-align: right;\">47</td><td style=\"text-align: right;\">3.16</td><td style=\"text-align: right;\">26</td><td style=\"text-align: right;\">5.60</td><td style=\"text-align: right;\">1</td><td style=\"text-align: right;\">0.10</td><td style=\"text-align: right;\">0</td><td style=\"text-align: right;\">0.00</td><td style=\"text-align: right;\">0</td><td style=\"text-align: right;\">0.00</td><td style=\"text-align: right;\">0</td><td style=\"text-align: right;\">0.00</td><td style=\"text-align: right;\">0</td><td style=\"text-align: right;\">0.00</td></tr>\n",
       "<tr class=\"even\"><td style=\"text-align: right;\">875977</td><td style=\"text-align: right;\">135,954,337</td><td>rs10210353</td><td>0</td><td style=\"text-align: right;\">75</td><td style=\"text-align: right;\">47</td><td style=\"text-align: right;\">3.11</td><td style=\"text-align: right;\">27</td><td style=\"text-align: right;\">5.74</td><td style=\"text-align: right;\">1</td><td style=\"text-align: right;\">0.10</td><td style=\"text-align: right;\">0</td><td style=\"text-align: right;\">0.00</td><td style=\"text-align: right;\">0</td><td style=\"text-align: right;\">0.00</td><td style=\"text-align: right;\">0</td><td style=\"text-align: right;\">0.00</td><td style=\"text-align: right;\">0</td><td style=\"text-align: right;\">0.00</td></tr>\n",
       "<tr><td style=\"text-align: right;\">876053</td><td style=\"text-align: right;\">135,971,171</td><td>rs116514245</td><td>0</td><td style=\"text-align: right;\">75</td><td style=\"text-align: right;\">47</td><td style=\"text-align: right;\">3.11</td><td style=\"text-align: right;\">27</td><td style=\"text-align: right;\">5.74</td><td style=\"text-align: right;\">1</td><td style=\"text-align: right;\">0.10</td><td style=\"text-align: right;\">0</td><td style=\"text-align: right;\">0.00</td><td style=\"text-align: right;\">0</td><td style=\"text-align: right;\">0.00</td><td style=\"text-align: right;\">0</td><td style=\"text-align: right;\">0.00</td><td style=\"text-align: right;\">0</td><td style=\"text-align: right;\">0.00</td></tr>\n",
       "<tr class=\"even\"><td style=\"text-align: right;\">876400</td><td style=\"text-align: right;\">136,035,016</td><td>rs115128424</td><td>0</td><td style=\"text-align: right;\">75</td><td style=\"text-align: right;\">47</td><td style=\"text-align: right;\">3.11</td><td style=\"text-align: right;\">27</td><td style=\"text-align: right;\">5.74</td><td style=\"text-align: right;\">1</td><td style=\"text-align: right;\">0.10</td><td style=\"text-align: right;\">0</td><td style=\"text-align: right;\">0.00</td><td style=\"text-align: right;\">0</td><td style=\"text-align: right;\">0.00</td><td style=\"text-align: right;\">0</td><td style=\"text-align: right;\">0.00</td><td style=\"text-align: right;\">0</td><td style=\"text-align: right;\">0.00</td></tr>\n",
       "<tr><td style=\"text-align: right;\">876789</td><td style=\"text-align: right;\">136,106,795</td><td>rs28657924</td><td>0</td><td style=\"text-align: right;\">75</td><td style=\"text-align: right;\">47</td><td style=\"text-align: right;\">3.11</td><td style=\"text-align: right;\">27</td><td style=\"text-align: right;\">5.74</td><td style=\"text-align: right;\">1</td><td style=\"text-align: right;\">0.10</td><td style=\"text-align: right;\">0</td><td style=\"text-align: right;\">0.00</td><td style=\"text-align: right;\">0</td><td style=\"text-align: right;\">0.00</td><td style=\"text-align: right;\">0</td><td style=\"text-align: right;\">0.00</td><td style=\"text-align: right;\">0</td><td style=\"text-align: right;\">0.00</td></tr>\n",
       "<tr class=\"even\"><td style=\"text-align: right;\">876960</td><td style=\"text-align: right;\">136,139,229</td><td>rs149176403</td><td>0</td><td style=\"text-align: right;\">75</td><td style=\"text-align: right;\">47</td><td style=\"text-align: right;\">3.11</td><td style=\"text-align: right;\">27</td><td style=\"text-align: right;\">5.74</td><td style=\"text-align: right;\">1</td><td style=\"text-align: right;\">0.10</td><td style=\"text-align: right;\">0</td><td style=\"text-align: right;\">0.00</td><td style=\"text-align: right;\">0</td><td style=\"text-align: right;\">0.00</td><td style=\"text-align: right;\">0</td><td style=\"text-align: right;\">0.00</td><td style=\"text-align: right;\">0</td><td style=\"text-align: right;\">0.00</td></tr>\n",
       "<tr><td style=\"text-align: right;\">876974</td><td style=\"text-align: right;\">136,140,930</td><td>rs28891818</td><td>0</td><td style=\"text-align: right;\">75</td><td style=\"text-align: right;\">47</td><td style=\"text-align: right;\">3.11</td><td style=\"text-align: right;\">27</td><td style=\"text-align: right;\">5.74</td><td style=\"text-align: right;\">1</td><td style=\"text-align: right;\">0.10</td><td style=\"text-align: right;\">0</td><td style=\"text-align: right;\">0.00</td><td style=\"text-align: right;\">0</td><td style=\"text-align: right;\">0.00</td><td style=\"text-align: right;\">0</td><td style=\"text-align: right;\">0.00</td><td style=\"text-align: right;\">0</td><td style=\"text-align: right;\">0.00</td></tr>\n",
       "<tr class=\"even\"><td style=\"text-align: right;\">876992</td><td style=\"text-align: right;\">136,143,414</td><td>rs144405117</td><td>0</td><td style=\"text-align: right;\">75</td><td style=\"text-align: right;\">47</td><td style=\"text-align: right;\">3.11</td><td style=\"text-align: right;\">27</td><td style=\"text-align: right;\">5.74</td><td style=\"text-align: right;\">1</td><td style=\"text-align: right;\">0.10</td><td style=\"text-align: right;\">0</td><td style=\"text-align: right;\">0.00</td><td style=\"text-align: right;\">0</td><td style=\"text-align: right;\">0.00</td><td style=\"text-align: right;\">0</td><td style=\"text-align: right;\">0.00</td><td style=\"text-align: right;\">0</td><td style=\"text-align: right;\">0.00</td></tr>\n",
       "<tr><td style=\"text-align: right;\">877082</td><td style=\"text-align: right;\">136,160,220</td><td>rs13424640</td><td>0</td><td style=\"text-align: right;\">75</td><td style=\"text-align: right;\">47</td><td style=\"text-align: right;\">3.11</td><td style=\"text-align: right;\">27</td><td style=\"text-align: right;\">5.74</td><td style=\"text-align: right;\">1</td><td style=\"text-align: right;\">0.10</td><td style=\"text-align: right;\">0</td><td style=\"text-align: right;\">0.00</td><td style=\"text-align: right;\">0</td><td style=\"text-align: right;\">0.00</td><td style=\"text-align: right;\">0</td><td style=\"text-align: right;\">0.00</td><td style=\"text-align: right;\">0</td><td style=\"text-align: right;\">0.00</td></tr>\n",
       "<tr class=\"even\"><td style=\"text-align: right;\">877130</td><td style=\"text-align: right;\">136,164,187</td><td>rs181505368</td><td>0</td><td style=\"text-align: right;\">75</td><td style=\"text-align: right;\">47</td><td style=\"text-align: right;\">3.11</td><td style=\"text-align: right;\">27</td><td style=\"text-align: right;\">5.74</td><td style=\"text-align: right;\">1</td><td style=\"text-align: right;\">0.10</td><td style=\"text-align: right;\">0</td><td style=\"text-align: right;\">0.00</td><td style=\"text-align: right;\">0</td><td style=\"text-align: right;\">0.00</td><td style=\"text-align: right;\">0</td><td style=\"text-align: right;\">0.00</td><td style=\"text-align: right;\">0</td><td style=\"text-align: right;\">0.00</td></tr>\n",
       "<tr><td style=\"text-align: right;\">877134</td><td style=\"text-align: right;\">136,164,304</td><td>.</td><td>0</td><td style=\"text-align: right;\">76</td><td style=\"text-align: right;\">48</td><td style=\"text-align: right;\">3.14</td><td style=\"text-align: right;\">27</td><td style=\"text-align: right;\">5.67</td><td style=\"text-align: right;\">1</td><td style=\"text-align: right;\">0.09</td><td style=\"text-align: right;\">0</td><td style=\"text-align: right;\">0.00</td><td style=\"text-align: right;\">0</td><td style=\"text-align: right;\">0.00</td><td style=\"text-align: right;\">0</td><td style=\"text-align: right;\">0.00</td><td style=\"text-align: right;\">0</td><td style=\"text-align: right;\">0.00</td></tr>\n",
       "<tr class=\"even\"><td style=\"text-align: right;\">877239</td><td style=\"text-align: right;\">136,177,628</td><td>rs13385683</td><td>0</td><td style=\"text-align: right;\">81</td><td style=\"text-align: right;\">51</td><td style=\"text-align: right;\">3.13</td><td style=\"text-align: right;\">29</td><td style=\"text-align: right;\">5.71</td><td style=\"text-align: right;\">1</td><td style=\"text-align: right;\">0.09</td><td style=\"text-align: right;\">0</td><td style=\"text-align: right;\">0.00</td><td style=\"text-align: right;\">0</td><td style=\"text-align: right;\">0.00</td><td style=\"text-align: right;\">0</td><td style=\"text-align: right;\">0.00</td><td style=\"text-align: right;\">0</td><td style=\"text-align: right;\">0.00</td></tr>\n",
       "<tr><td style=\"text-align: right;\">877395</td><td style=\"text-align: right;\">136,213,160</td><td>rs13423417</td><td>0</td><td style=\"text-align: right;\">73</td><td style=\"text-align: right;\">46</td><td style=\"text-align: right;\">3.13</td><td style=\"text-align: right;\">26</td><td style=\"text-align: right;\">5.68</td><td style=\"text-align: right;\">1</td><td style=\"text-align: right;\">0.10</td><td style=\"text-align: right;\">0</td><td style=\"text-align: right;\">0.00</td><td style=\"text-align: right;\">0</td><td style=\"text-align: right;\">0.00</td><td style=\"text-align: right;\">0</td><td style=\"text-align: right;\">0.00</td><td style=\"text-align: right;\">0</td><td style=\"text-align: right;\">0.00</td></tr>\n",
       "<tr class=\"even\"><td style=\"text-align: right;\">877459</td><td style=\"text-align: right;\">136,229,089</td><td>rs10191231</td><td>0</td><td style=\"text-align: right;\">75</td><td style=\"text-align: right;\">47</td><td style=\"text-align: right;\">3.11</td><td style=\"text-align: right;\">27</td><td style=\"text-align: right;\">5.74</td><td style=\"text-align: right;\">1</td><td style=\"text-align: right;\">0.10</td><td style=\"text-align: right;\">0</td><td style=\"text-align: right;\">0.00</td><td style=\"text-align: right;\">0</td><td style=\"text-align: right;\">0.00</td><td style=\"text-align: right;\">0</td><td style=\"text-align: right;\">0.00</td><td style=\"text-align: right;\">0</td><td style=\"text-align: right;\">0.00</td></tr>\n",
       "<tr><td style=\"text-align: right;\">877462</td><td style=\"text-align: right;\">136,229,185</td><td>rs10191336</td><td>0</td><td style=\"text-align: right;\">76</td><td style=\"text-align: right;\">47</td><td style=\"text-align: right;\">3.07</td><td style=\"text-align: right;\">27</td><td style=\"text-align: right;\">5.67</td><td style=\"text-align: right;\">1</td><td style=\"text-align: right;\">0.09</td><td style=\"text-align: right;\">1</td><td style=\"text-align: right;\">0.07</td><td style=\"text-align: right;\">0</td><td style=\"text-align: right;\">0.00</td><td style=\"text-align: right;\">0</td><td style=\"text-align: right;\">0.00</td><td style=\"text-align: right;\">0</td><td style=\"text-align: right;\">0.00</td></tr>\n",
       "<tr class=\"even\"><td style=\"text-align: right;\">877667</td><td style=\"text-align: right;\">136,268,862</td><td>rs13425068</td><td>0</td><td style=\"text-align: right;\">75</td><td style=\"text-align: right;\">47</td><td style=\"text-align: right;\">3.11</td><td style=\"text-align: right;\">27</td><td style=\"text-align: right;\">5.74</td><td style=\"text-align: right;\">1</td><td style=\"text-align: right;\">0.10</td><td style=\"text-align: right;\">0</td><td style=\"text-align: right;\">0.00</td><td style=\"text-align: right;\">0</td><td style=\"text-align: right;\">0.00</td><td style=\"text-align: right;\">0</td><td style=\"text-align: right;\">0.00</td><td style=\"text-align: right;\">0</td><td style=\"text-align: right;\">0.00</td></tr>\n",
       "<tr><td style=\"text-align: right;\">877832</td><td style=\"text-align: right;\">136,308,277</td><td>rs13420787</td><td>0</td><td style=\"text-align: right;\">75</td><td style=\"text-align: right;\">47</td><td style=\"text-align: right;\">3.11</td><td style=\"text-align: right;\">27</td><td style=\"text-align: right;\">5.74</td><td style=\"text-align: right;\">1</td><td style=\"text-align: right;\">0.10</td><td style=\"text-align: right;\">0</td><td style=\"text-align: right;\">0.00</td><td style=\"text-align: right;\">0</td><td style=\"text-align: right;\">0.00</td><td style=\"text-align: right;\">0</td><td style=\"text-align: right;\">0.00</td><td style=\"text-align: right;\">0</td><td style=\"text-align: right;\">0.00</td></tr>\n",
       "<tr class=\"even\"><td style=\"text-align: right;\">877989</td><td style=\"text-align: right;\">136,344,372</td><td>rs13384007</td><td>0</td><td style=\"text-align: right;\">75</td><td style=\"text-align: right;\">47</td><td style=\"text-align: right;\">3.11</td><td style=\"text-align: right;\">27</td><td style=\"text-align: right;\">5.74</td><td style=\"text-align: right;\">1</td><td style=\"text-align: right;\">0.10</td><td style=\"text-align: right;\">0</td><td style=\"text-align: right;\">0.00</td><td style=\"text-align: right;\">0</td><td style=\"text-align: right;\">0.00</td><td style=\"text-align: right;\">0</td><td style=\"text-align: right;\">0.00</td><td style=\"text-align: right;\">0</td><td style=\"text-align: right;\">0.00</td></tr>\n",
       "<tr><td style=\"text-align: right;\">878092</td><td style=\"text-align: right;\">136,371,080</td><td>rs74914926</td><td>0</td><td style=\"text-align: right;\">75</td><td style=\"text-align: right;\">47</td><td style=\"text-align: right;\">3.11</td><td style=\"text-align: right;\">27</td><td style=\"text-align: right;\">5.74</td><td style=\"text-align: right;\">1</td><td style=\"text-align: right;\">0.10</td><td style=\"text-align: right;\">0</td><td style=\"text-align: right;\">0.00</td><td style=\"text-align: right;\">0</td><td style=\"text-align: right;\">0.00</td><td style=\"text-align: right;\">0</td><td style=\"text-align: right;\">0.00</td><td style=\"text-align: right;\">0</td><td style=\"text-align: right;\">0.00</td></tr>\n",
       "</table>"
      ],
      "text/plain": [
       "<IPython.core.display.HTML object>"
      ]
     },
     "execution_count": 2,
     "metadata": {},
     "output_type": "execute_result"
    }
   ],
   "source": [
    "HTML(dm.series_html(dm.di_22_73))"
   ]
  },
  {
   "cell_type": "code",
   "execution_count": 3,
   "metadata": {
    "collapsed": false
   },
   "outputs": [
    {
     "data": {
      "text/html": [
       "\n",
       "\n",
       "    <div class=\"bk-root\">\n",
       "        <div class=\"plotdiv\" id=\"89240a59-758d-4016-84fd-d6e2ce5be5f1\"></div>\n",
       "    </div>\n",
       "<script type=\"text/javascript\">\n",
       "  \n",
       "  (function(global) {\n",
       "    function now() {\n",
       "      return new Date();\n",
       "    }\n",
       "  \n",
       "    if (typeof (window._bokeh_onload_callbacks) === \"undefined\") {\n",
       "      window._bokeh_onload_callbacks = [];\n",
       "    }\n",
       "  \n",
       "    function run_callbacks() {\n",
       "      window._bokeh_onload_callbacks.forEach(function(callback) { callback() });\n",
       "      delete window._bokeh_onload_callbacks\n",
       "      console.info(\"Bokeh: all callbacks have finished\");\n",
       "    }\n",
       "  \n",
       "    function load_libs(js_urls, callback) {\n",
       "      window._bokeh_onload_callbacks.push(callback);\n",
       "      if (window._bokeh_is_loading > 0) {\n",
       "        console.log(\"Bokeh: BokehJS is being loaded, scheduling callback at\", now());\n",
       "        return null;\n",
       "      }\n",
       "      if (js_urls == null || js_urls.length === 0) {\n",
       "        run_callbacks();\n",
       "        return null;\n",
       "      }\n",
       "      console.log(\"Bokeh: BokehJS not loaded, scheduling load and callback at\", now());\n",
       "      window._bokeh_is_loading = js_urls.length;\n",
       "      for (var i = 0; i < js_urls.length; i++) {\n",
       "        var url = js_urls[i];\n",
       "        var s = document.createElement('script');\n",
       "        s.src = url;\n",
       "        s.async = false;\n",
       "        s.onreadystatechange = s.onload = function() {\n",
       "          window._bokeh_is_loading--;\n",
       "          if (window._bokeh_is_loading === 0) {\n",
       "            console.log(\"Bokeh: all BokehJS libraries loaded\");\n",
       "            run_callbacks()\n",
       "          }\n",
       "        };\n",
       "        s.onerror = function() {\n",
       "          console.warn(\"failed to load library \" + url);\n",
       "        };\n",
       "        console.log(\"Bokeh: injecting script tag for BokehJS library: \", url);\n",
       "        document.getElementsByTagName(\"head\")[0].appendChild(s);\n",
       "      }\n",
       "    };var element = document.getElementById(\"89240a59-758d-4016-84fd-d6e2ce5be5f1\");\n",
       "    if (element == null) {\n",
       "      console.log(\"Bokeh: ERROR: autoload.js configured with elementid '89240a59-758d-4016-84fd-d6e2ce5be5f1' but no matching script tag was found. \")\n",
       "      return false;\n",
       "    }\n",
       "  \n",
       "    var js_urls = [];\n",
       "  \n",
       "    var inline_js = [\n",
       "      function(Bokeh) {\n",
       "        Bokeh.$(function() {\n",
       "            var docs_json = {\"de50523e-99ea-4726-a33f-bec3d5ed04a2\":{\"roots\":{\"references\":[{\"attributes\":{\"callback\":null,\"column_names\":[\"right\",\"bottom\",\"top\",\"left\",\"fill_color\"],\"data\":{\"bottom\":[950,850,150,250,550,450,50,650,350,450,650,550,450,150,250,850,750,150,250,650,750,850],\"fill_color\":[\"#808080\",\"#808080\",\"#ff0000\",\"#ff0000\",\"#ff0000\",\"#ff0000\",\"#ff0000\",\"#61c4c4\",\"#ff0000\",\"#ff0000\",\"#ff0000\",\"#ff0000\",\"#c46161\",\"#ff0000\",\"#ff0000\",\"#808080\",\"#808080\",\"#ff0000\",\"#ff0000\",\"#808080\",\"#808080\",\"#808080\"],\"left\":[135757320,135758231,135761470,135780924,135784351,135810535,135837488,135964764,136008173,136115507,136309239,136364916,136392700,136403061,136499188,136506375,136535876,136589701,136651969,136652491,136652953,136653925],\"right\":[135777504,136376515,136371080,136017139,135902220,135898023,136346675,136101132,136381251,136385280,136361560,136387893,136550806,136487844,136631424,136538939,136554890,136641268,136775985,136732772,136761175,136761853],\"top\":[996,896,169,274,588,486,65,691,376,484,690,587,476,168,271,894,794,169,272,692,794,895]}},\"id\":\"1292727e-4621-4df6-a1bc-f947efe747b7\",\"type\":\"ColumnDataSource\"},{\"attributes\":{\"data_source\":{\"id\":\"e5991ea7-779d-4045-984a-a5cc8b7593d6\",\"type\":\"ColumnDataSource\"},\"glyph\":{\"id\":\"eb0830eb-4d1d-4eae-9ca1-640cf8d9fecc\",\"type\":\"Quad\"},\"hover_glyph\":null,\"nonselection_glyph\":{\"id\":\"35b09bd4-3c21-4286-828d-f590a8d2c773\",\"type\":\"Quad\"},\"selection_glyph\":null},\"id\":\"408322d7-36af-4713-ab7b-3b71b52b1355\",\"type\":\"GlyphRenderer\"},{\"attributes\":{\"overlay\":{\"id\":\"b6a9134f-5c99-4d49-a1a4-99fe6d93f33d\",\"type\":\"BoxAnnotation\"},\"plot\":{\"id\":\"ec21fdde-98fc-4aa3-ba2e-af420241e9cf\",\"subtype\":\"Figure\",\"type\":\"Plot\"}},\"id\":\"167d37f0-7611-471d-b92d-9c1360b2a3f6\",\"type\":\"BoxZoomTool\"},{\"attributes\":{\"level\":\"glyph\",\"plot\":{\"id\":\"ec21fdde-98fc-4aa3-ba2e-af420241e9cf\",\"subtype\":\"Figure\",\"type\":\"Plot\"},\"source\":{\"id\":\"f83f74f0-06a3-47d2-83db-2c6dad76da06\",\"type\":\"ColumnDataSource\"},\"text\":{\"field\":\"vals\"},\"text_font_size\":{\"value\":\"9pt\"},\"text_font_style\":\"bold\",\"x\":{\"field\":\"x\"},\"y\":{\"field\":\"y\"}},\"id\":\"db76d4bd-b277-4104-b097-3e3d8573b11f\",\"type\":\"LabelSet\"},{\"attributes\":{\"data_source\":{\"id\":\"1292727e-4621-4df6-a1bc-f947efe747b7\",\"type\":\"ColumnDataSource\"},\"glyph\":{\"id\":\"c9eec8b3-3e0c-47d0-87be-309a75665950\",\"type\":\"Quad\"},\"hover_glyph\":null,\"nonselection_glyph\":{\"id\":\"ae6d1893-e042-40f9-91e8-dedce7facd6c\",\"type\":\"Quad\"},\"selection_glyph\":null},\"id\":\"b57ee488-aa37-437d-9362-d949f0993fc7\",\"type\":\"GlyphRenderer\"},{\"attributes\":{\"plot\":{\"id\":\"ec21fdde-98fc-4aa3-ba2e-af420241e9cf\",\"subtype\":\"Figure\",\"type\":\"Plot\"}},\"id\":\"b97a7734-5b71-4221-bf30-f5d9c772525b\",\"type\":\"HelpTool\"},{\"attributes\":{\"callback\":null,\"end\":136786630,\"start\":135757320},\"id\":\"a67f62d5-82a7-460e-96cc-758bb8417930\",\"type\":\"Range1d\"},{\"attributes\":{\"line_alpha\":{\"value\":0.1},\"line_color\":{\"value\":\"#1f77b4\"},\"xs\":{\"field\":\"xs\"},\"ys\":{\"field\":\"ys\"}},\"id\":\"2c70825e-8238-432c-9532-06ad8b97e093\",\"type\":\"MultiLine\"},{\"attributes\":{\"dimension\":1,\"plot\":{\"id\":\"ec21fdde-98fc-4aa3-ba2e-af420241e9cf\",\"subtype\":\"Figure\",\"type\":\"Plot\"},\"ticker\":{\"id\":\"4e43be89-6a42-4df5-80b6-2ff1215eeaf3\",\"type\":\"BasicTicker\"}},\"id\":\"a0fc83f4-b3ca-47c5-ac24-4757c08bb9cf\",\"type\":\"Grid\"},{\"attributes\":{},\"id\":\"068a3bca-1e45-4da5-8e20-dc29f24a0f21\",\"type\":\"BasicTicker\"},{\"attributes\":{\"callback\":null,\"column_names\":[\"y\",\"x\",\"vals\"],\"data\":{\"vals\":[\"13_1696\",\"117_1685\",\"22_73\",\"49_136\",\"8_718\",\"9_545\",\"7_49\",\"6_946\",\"70_166\",\"28_434\",\"9_887\",\"5_588\",\"55_180\",\"4_67\",\"26_96\",\"4_1442\",\"7_1303\",\"4_80\",\"24_113\",\"6_1114\",\"5_1296\",\"24_1504\"],\"x\":[135757320,135758231,135761470,135780924,135784351,135810535,135837488,135964764,136008173,136115507,136309239,136364916,136392700,136403061,136499188,136506375,136535876,136589701,136651969,136652491,136652953,136653925],\"y\":[1001.0,901.0,174.0,279.0,593.0,491.0,70.0,696.0,381.0,489.0,695.0,592.0,481.0,173.0,276.0,899.0,799.0,174.0,277.0,697.0,799.0,900.0]}},\"id\":\"f83f74f0-06a3-47d2-83db-2c6dad76da06\",\"type\":\"ColumnDataSource\"},{\"attributes\":{\"bottom\":{\"field\":\"bottom\"},\"fill_alpha\":{\"value\":0.1},\"fill_color\":{\"value\":\"#1f77b4\"},\"left\":{\"field\":\"left\"},\"line_alpha\":{\"value\":0.1},\"line_color\":{\"value\":\"#1f77b4\"},\"right\":{\"field\":\"right\"},\"top\":{\"field\":\"top\"}},\"id\":\"35b09bd4-3c21-4286-828d-f590a8d2c773\",\"type\":\"Quad\"},{\"attributes\":{},\"id\":\"4e43be89-6a42-4df5-80b6-2ff1215eeaf3\",\"type\":\"BasicTicker\"},{\"attributes\":{\"plot\":{\"id\":\"ec21fdde-98fc-4aa3-ba2e-af420241e9cf\",\"subtype\":\"Figure\",\"type\":\"Plot\"}},\"id\":\"c66f5a72-49e1-40fa-a8d5-db2fd1e4ffa0\",\"type\":\"SaveTool\"},{\"attributes\":{\"callback\":null,\"column_names\":[\"right\",\"bottom\",\"top\",\"left\"],\"data\":{\"bottom\":[1045,1045,1045,1045,1045,1045,1045],\"left\":[135809835,135957574,136289083,136499189,136545415,136597196,136664254],\"right\":[135928279,136288182,136482839,136542633,136594750,136634047,136743222],\"top\":[1075,1075,1075,1075,1075,1075,1075]}},\"id\":\"e5991ea7-779d-4045-984a-a5cc8b7593d6\",\"type\":\"ColumnDataSource\"},{\"attributes\":{\"active_drag\":\"auto\",\"active_scroll\":\"auto\",\"active_tap\":\"auto\",\"tools\":[{\"id\":\"d5ae2c51-13db-442d-aba1-1ff91f1dcc59\",\"type\":\"PanTool\"},{\"id\":\"f1279ce9-4fde-41a5-b1ec-097dbda29ea3\",\"type\":\"WheelZoomTool\"},{\"id\":\"167d37f0-7611-471d-b92d-9c1360b2a3f6\",\"type\":\"BoxZoomTool\"},{\"id\":\"c66f5a72-49e1-40fa-a8d5-db2fd1e4ffa0\",\"type\":\"SaveTool\"},{\"id\":\"92afc135-d3d2-49d9-a735-26af18a3de7e\",\"type\":\"ResetTool\"},{\"id\":\"b97a7734-5b71-4221-bf30-f5d9c772525b\",\"type\":\"HelpTool\"}]},\"id\":\"394cd633-3c65-4d70-8453-b422481fbec8\",\"type\":\"Toolbar\"},{\"attributes\":{\"callback\":null,\"end\":1100},\"id\":\"acd7e6da-89a9-4b9b-b2fc-7d081e1eb6d1\",\"type\":\"Range1d\"},{\"attributes\":{\"plot\":{\"id\":\"ec21fdde-98fc-4aa3-ba2e-af420241e9cf\",\"subtype\":\"Figure\",\"type\":\"Plot\"}},\"id\":\"f1279ce9-4fde-41a5-b1ec-097dbda29ea3\",\"type\":\"WheelZoomTool\"},{\"attributes\":{\"line_color\":{\"field\":\"line_color\"},\"xs\":{\"field\":\"xs\"},\"ys\":{\"field\":\"ys\"}},\"id\":\"92f9fe90-dfa8-49d6-9170-7e6ef61fa024\",\"type\":\"MultiLine\"},{\"attributes\":{},\"id\":\"c25adef6-e3e9-4207-9e5b-2d1191cf9d1b\",\"type\":\"BasicTickFormatter\"},{\"attributes\":{\"bottom\":{\"field\":\"bottom\"},\"fill_color\":{\"field\":\"fill_color\"},\"left\":{\"field\":\"left\"},\"line_color\":{\"value\":null},\"right\":{\"field\":\"right\"},\"top\":{\"field\":\"top\"}},\"id\":\"c9eec8b3-3e0c-47d0-87be-309a75665950\",\"type\":\"Quad\"},{\"attributes\":{\"formatter\":{\"id\":\"c25adef6-e3e9-4207-9e5b-2d1191cf9d1b\",\"type\":\"BasicTickFormatter\"},\"plot\":{\"id\":\"ec21fdde-98fc-4aa3-ba2e-af420241e9cf\",\"subtype\":\"Figure\",\"type\":\"Plot\"},\"ticker\":{\"id\":\"4e43be89-6a42-4df5-80b6-2ff1215eeaf3\",\"type\":\"BasicTicker\"},\"visible\":null},\"id\":\"d738b0b5-e5ff-4ffa-8193-6329b114ddf1\",\"type\":\"LinearAxis\"},{\"attributes\":{},\"id\":\"e5e93e52-7fda-4871-8262-b841246d906c\",\"type\":\"ToolEvents\"},{\"attributes\":{\"plot\":{\"id\":\"ec21fdde-98fc-4aa3-ba2e-af420241e9cf\",\"subtype\":\"Figure\",\"type\":\"Plot\"}},\"id\":\"d5ae2c51-13db-442d-aba1-1ff91f1dcc59\",\"type\":\"PanTool\"},{\"attributes\":{\"callback\":null,\"column_names\":[\"y\",\"x\",\"vals\"],\"data\":{\"vals\":[\"RAB3GAP1\",\"ZRANB3\",\"R3HDM1\",\"UBXN4\",\"LCT\",\"MCM6\",\"DARS\"],\"x\":[135869057.0,136122878.0,136385961.0,136520911.0,136570082.5,136615621.5,136703738.0],\"y\":[1060.0,1060.0,1060.0,1060.0,1060.0,1060.0,1060.0]}},\"id\":\"555e10f7-e4d7-45bf-b361-34fff5cc7f91\",\"type\":\"ColumnDataSource\"},{\"attributes\":{\"level\":\"glyph\",\"plot\":{\"id\":\"ec21fdde-98fc-4aa3-ba2e-af420241e9cf\",\"subtype\":\"Figure\",\"type\":\"Plot\"},\"source\":{\"id\":\"555e10f7-e4d7-45bf-b361-34fff5cc7f91\",\"type\":\"ColumnDataSource\"},\"text\":{\"field\":\"vals\"},\"text_align\":\"center\",\"text_baseline\":\"middle\",\"text_font_size\":{\"value\":\"8pt\"},\"x\":{\"field\":\"x\"},\"y\":{\"field\":\"y\"}},\"id\":\"42871df2-7ab3-421c-b2b7-9cf1a78714a9\",\"type\":\"LabelSet\"},{\"attributes\":{\"bottom_units\":\"screen\",\"fill_alpha\":{\"value\":0.5},\"fill_color\":{\"value\":\"lightgrey\"},\"left_units\":\"screen\",\"level\":\"overlay\",\"line_alpha\":{\"value\":1.0},\"line_color\":{\"value\":\"black\"},\"line_dash\":[4,4],\"line_width\":{\"value\":2},\"plot\":null,\"render_mode\":\"css\",\"right_units\":\"screen\",\"top_units\":\"screen\"},\"id\":\"b6a9134f-5c99-4d49-a1a4-99fe6d93f33d\",\"type\":\"BoxAnnotation\"},{\"attributes\":{\"plot\":{\"id\":\"ec21fdde-98fc-4aa3-ba2e-af420241e9cf\",\"subtype\":\"Figure\",\"type\":\"Plot\"}},\"id\":\"92afc135-d3d2-49d9-a735-26af18a3de7e\",\"type\":\"ResetTool\"},{\"attributes\":{\"callback\":null,\"column_names\":[\"xs\",\"ys\",\"line_color\"],\"data\":{\"line_color\":[\"black\",\"black\",\"black\",\"black\",\"black\",\"black\",\"black\",\"black\",\"black\",\"black\",\"black\",\"black\",\"black\",\"black\",\"black\",\"black\",\"black\",\"black\",\"black\",\"black\",\"black\",\"black\",\"black\",\"black\",\"black\",\"black\",\"black\",\"black\",\"black\",\"black\",\"black\",\"black\",\"black\",\"black\",\"black\",\"black\",\"black\",\"black\",\"black\",\"black\",\"black\",\"black\",\"black\",\"black\",\"black\",\"black\",\"black\",\"black\",\"black\",\"black\",\"black\",\"black\",\"black\",\"black\",\"black\",\"black\",\"black\",\"black\",\"black\",\"black\",\"black\",\"black\",\"black\",\"black\",\"black\",\"black\",\"black\",\"black\",\"black\",\"black\",\"black\",\"black\",\"black\",\"black\",\"black\",\"black\",\"black\",\"black\",\"black\",\"black\",\"black\",\"black\",\"black\",\"black\",\"black\",\"black\",\"black\",\"black\",\"black\",\"black\",\"black\",\"black\",\"black\",\"black\",\"black\",\"black\",\"black\",\"black\",\"black\",\"black\",\"black\",\"black\",\"black\",\"black\",\"black\",\"black\",\"black\",\"black\",\"black\",\"black\",\"black\",\"black\",\"black\",\"black\",\"black\",\"black\",\"black\",\"black\",\"black\",\"black\",\"black\",\"black\",\"black\",\"black\",\"black\",\"black\",\"black\",\"black\",\"black\",\"black\",\"black\",\"black\",\"black\",\"black\",\"black\",\"black\",\"black\",\"black\",\"black\",\"black\",\"black\",\"black\",\"black\",\"black\",\"black\",\"black\",\"black\",\"black\",\"black\",\"black\",\"black\",\"black\",\"black\",\"black\",\"black\",\"black\",\"black\",\"black\",\"black\",\"black\",\"black\",\"black\",\"black\",\"black\",\"black\",\"black\",\"black\",\"black\",\"black\",\"black\",\"black\",\"black\",\"black\",\"black\",\"black\",\"black\",\"black\",\"black\",\"black\",\"black\",\"black\",\"black\",\"black\",\"black\",\"black\",\"black\",\"black\",\"black\",\"black\",\"black\",\"black\",\"black\",\"black\",\"black\",\"black\",\"black\",\"black\",\"black\",\"black\",\"black\",\"black\",\"black\",\"black\",\"black\",\"black\",\"black\",\"black\",\"black\",\"black\",\"black\",\"black\",\"black\",\"black\",\"black\",\"black\",\"black\",\"black\",\"black\",\"black\",\"black\",\"black\",\"black\",\"black\",\"black\",\"black\",\"black\",\"black\",\"black\",\"black\",\"black\",\"black\",\"black\",\"black\",\"black\",\"black\",\"black\",\"black\",\"black\",\"black\",\"black\",\"black\",\"black\",\"black\",\"black\",\"black\",\"black\",\"black\",\"black\",\"black\",\"black\",\"black\",\"black\",\"black\",\"black\",\"black\",\"black\",\"black\",\"black\",\"black\",\"black\",\"black\",\"black\",\"black\",\"black\",\"black\",\"black\",\"black\",\"black\",\"black\",\"black\",\"black\",\"black\",\"black\",\"black\",\"black\",\"black\",\"black\",\"black\",\"black\",\"black\",\"black\",\"black\",\"black\",\"black\",\"black\",\"black\",\"black\",\"black\",\"black\",\"black\",\"black\",\"black\",\"black\",\"black\",\"black\",\"black\",\"black\",\"black\",\"black\",\"black\",\"black\",\"black\",\"black\",\"black\",\"black\",\"black\",\"black\",\"black\",\"black\",\"black\",\"black\",\"black\",\"black\",\"black\",\"black\",\"black\",\"black\",\"black\",\"black\",\"black\",\"black\",\"black\",\"black\",\"black\",\"black\",\"black\",\"black\",\"black\",\"black\",\"black\",\"black\",\"black\",\"black\",\"black\",\"black\",\"black\",\"black\",\"black\",\"black\",\"black\",\"black\",\"black\",\"black\",\"black\",\"black\",\"black\",\"black\",\"black\",\"black\",\"black\",\"black\",\"black\",\"black\",\"black\",\"black\",\"black\",\"black\",\"black\",\"black\",\"black\",\"black\",\"black\",\"black\",\"black\",\"black\",\"black\",\"black\",\"black\",\"black\",\"black\",\"black\",\"black\",\"black\",\"black\",\"black\",\"black\",\"black\",\"black\",\"black\",\"black\",\"black\",\"black\",\"black\",\"black\",\"black\",\"black\",\"black\",\"black\",\"black\",\"black\",\"black\",\"black\",\"black\",\"black\",\"black\",\"black\",\"black\",\"black\",\"black\",\"black\",\"black\",\"black\",\"black\",\"black\",\"black\",\"black\",\"black\",\"black\",\"black\",\"black\",\"black\",\"black\",\"black\",\"black\",\"black\",\"black\",\"black\",\"black\",\"black\",\"black\",\"black\",\"black\",\"black\",\"black\",\"black\",\"black\",\"black\",\"black\",\"black\",\"black\",\"black\",\"black\",\"black\",\"black\",\"black\",\"black\",\"black\",\"black\",\"black\",\"black\",\"black\",\"black\",\"black\",\"black\",\"black\",\"black\",\"black\",\"black\",\"black\",\"black\",\"black\",\"black\",\"black\",\"black\",\"black\",\"black\",\"black\",\"black\",\"black\",\"black\",\"black\",\"black\",\"black\",\"black\",\"black\",\"black\",\"black\",\"black\",\"black\",\"black\",\"black\",\"black\",\"black\",\"black\",\"black\",\"black\",\"black\",\"black\",\"black\",\"black\",\"black\",\"black\",\"black\",\"black\",\"black\",\"black\",\"black\",\"black\",\"black\",\"black\",\"black\",\"black\",\"black\",\"black\",\"black\",\"black\",\"black\",\"black\",\"black\",\"black\",\"black\",\"black\"],\"xs\":[[135757320,135757320],[135761078,135761078],[135761271,135761271],[135762344,135762344],[135762980,135762980],[135763280,135763280],[135768815,135768815],[135769093,135769093],[135769127,135769127],[135770940,135770940],[135770951,135770951],[135776728,135776728],[135777504,135777504],[135758231,135758231],[135758520,135758520],[135766072,135766072],[135773420,135773420],[135773446,135773446],[135773617,135773617],[135773692,135773692],[135774681,135774681],[135775049,135775049],[135776430,135776430],[135778656,135778656],[135780168,135780168],[135780587,135780587],[135781301,135781301],[135781522,135781522],[135781635,135781635],[135782456,135782456],[135783157,135783157],[135783366,135783366],[135783367,135783367],[135784227,135784227],[135784733,135784733],[135785066,135785066],[135785068,135785068],[135785149,135785149],[135787148,135787148],[135787642,135787642],[135789405,135789405],[135789472,135789472],[135789682,135789682],[135789784,135789784],[135792338,135792338],[135792528,135792528],[135793565,135793565],[135793684,135793684],[135793845,135793845],[135794367,135794367],[135794986,135794986],[135795040,135795040],[135795095,135795095],[135795150,135795150],[135795385,135795385],[135795396,135795396],[135795443,135795443],[135795595,135795595],[135796000,135796000],[135796155,135796155],[135796410,135796410],[135796965,135796965],[135797223,135797223],[135797747,135797747],[135798082,135798082],[135798758,135798758],[135799082,135799082],[135800085,135800085],[135800601,135800601],[135800757,135800757],[135801228,135801228],[135801956,135801956],[135802020,135802020],[135802028,135802028],[135802050,135802050],[135802148,135802148],[135803766,135803766],[135809241,135809241],[135812969,135812969],[135814716,135814716],[135818907,135818907],[135829432,135829432],[135832131,135832131],[135849613,135849613],[135853807,135853807],[135859923,135859923],[135860305,135860305],[135861497,135861497],[135863143,135863143],[135864294,135864294],[135871624,135871624],[135872646,135872646],[135874038,135874038],[135874622,135874622],[135878814,135878814],[135880013,135880013],[135884487,135884487],[135885357,135885357],[135893853,135893853],[135895809,135895809],[135895879,135895879],[135899069,135899069],[135909462,135909462],[135912977,135912977],[135914038,135914038],[135921839,135921839],[135925002,135925002],[135928312,135928312],[135935049,135935049],[135962711,135962711],[135984172,135984172],[135994753,135994753],[135994754,135994754],[136016079,136016079],[136027264,136027264],[136052004,136052004],[136100473,136100473],[136110129,136110129],[136166536,136166536],[136169799,136169799],[136191314,136191314],[136228887,136228887],[136238453,136238453],[136288273,136288273],[136292425,136292425],[136321951,136321951],[136324564,136324564],[136327299,136327299],[136327302,136327302],[136376515,136376515],[135761470,135761470],[135766160,135766160],[135775474,135775474],[135775547,135775547],[135954337,135954337],[135971171,135971171],[136035016,136035016],[136106795,136106795],[136139229,136139229],[136140930,136140930],[136143414,136143414],[136160220,136160220],[136164187,136164187],[136164304,136164304],[136177628,136177628],[136213160,136213160],[136229089,136229089],[136229185,136229185],[136268862,136268862],[136308277,136308277],[136344372,136344372],[136371080,136371080],[135780924,135780924],[135783872,135783872],[135784174,135784174],[135784652,135784652],[135787686,135787686],[135788712,135788712],[135794686,135794686],[135815035,135815035],[135815806,135815806],[135816299,135816299],[135817965,135817965],[135819405,135819405],[135820455,135820455],[135822556,135822556],[135830362,135830362],[135838113,135838113],[135843398,135843398],[135845084,135845084],[135850778,135850778],[135853281,135853281],[135858199,135858199],[135859428,135859428],[135867144,135867144],[135867538,135867538],[135874606,135874606],[135880487,135880487],[135882089,135882089],[135883468,135883468],[135892685,135892685],[135894666,135894666],[135894837,135894837],[135894879,135894879],[135896985,135896985],[135904659,135904659],[135908007,135908007],[135910415,135910415],[135917924,135917924],[135926486,135926486],[135942475,135942475],[135955537,135955537],[135964420,135964420],[135965002,135965002],[135981071,135981071],[135988224,135988224],[135991508,135991508],[135991714,135991714],[135997479,135997479],[136001913,136001913],[136017139,136017139],[135784351,135784351],[135829309,135829309],[135835508,135835508],[135861297,135861297],[135863459,135863459],[135873845,135873845],[135902172,135902172],[135902220,135902220],[135810535,135810535],[135817760,135817760],[135857538,135857538],[135862191,135862191],[135869380,135869380],[135869761,135869761],[135886486,135886486],[135888078,135888078],[135898023,135898023],[135837488,135837488],[135839857,135839857],[135895742,135895742],[135915568,135915568],[135959654,135959654],[136296989,136296989],[136346675,136346675],[135964764,135964764],[135964765,135964765],[136099127,136099127],[136099650,136099650],[136100705,136100705],[136101132,136101132],[136008173,136008173],[136008446,136008446],[136014236,136014236],[136036997,136036997],[136037702,136037702],[136040078,136040078],[136046601,136046601],[136048235,136048235],[136050624,136050624],[136051458,136051458],[136053800,136053800],[136069666,136069666],[136070320,136070320],[136071268,136071268],[136085307,136085307],[136107478,136107478],[136116965,136116965],[136119487,136119487],[136133726,136133726],[136136964,136136964],[136137013,136137013],[136141365,136141365],[136151898,136151898],[136153771,136153771],[136157319,136157319],[136157786,136157786],[136160634,136160634],[136161546,136161546],[136161613,136161613],[136163239,136163239],[136166288,136166288],[136171078,136171078],[136174848,136174848],[136177152,136177152],[136188784,136188784],[136191498,136191498],[136192069,136192069],[136192914,136192914],[136202038,136202038],[136206988,136206988],[136208169,136208169],[136211700,136211700],[136214800,136214800],[136223293,136223293],[136238330,136238330],[136242667,136242667],[136249834,136249834],[136255405,136255405],[136261219,136261219],[136264924,136264924],[136265494,136265494],[136267386,136267386],[136267415,136267415],[136277320,136277320],[136279720,136279720],[136279756,136279756],[136283113,136283113],[136299020,136299020],[136304442,136304442],[136308679,136308679],[136319192,136319192],[136324543,136324543],[136330131,136330131],[136347919,136347919],[136353065,136353065],[136360339,136360339],[136370954,136370954],[136371399,136371399],[136376994,136376994],[136381251,136381251],[136115507,136115507],[136133627,136133627],[136135820,136135820],[136145676,136145676],[136166014,136166014],[136173684,136173684],[136176031,136176031],[136214307,136214307],[136215590,136215590],[136219265,136219265],[136219831,136219831],[136289471,136289471],[136298739,136298739],[136302296,136302296],[136302897,136302897],[136348702,136348702],[136348964,136348964],[136358707,136358707],[136359608,136359608],[136360402,136360402],[136365624,136365624],[136366970,136366970],[136367871,136367871],[136368393,136368393],[136370701,136370701],[136378539,136378539],[136378895,136378895],[136385280,136385280],[136309239,136309239],[136322472,136322472],[136323787,136323787],[136323862,136323862],[136326765,136326765],[136329500,136329500],[136331657,136331657],[136345356,136345356],[136361560,136361560],[136364916,136364916],[136369497,136369497],[136369580,136369580],[136380846,136380846],[136387893,136387893],[136392700,136392700],[136400692,136400692],[136408881,136408881],[136409096,136409096],[136413099,136413099],[136413116,136413116],[136413618,136413618],[136417468,136417468],[136421589,136421589],[136425362,136425362],[136430479,136430479],[136439871,136439871],[136442318,136442318],[136444284,136444284],[136444985,136444985],[136445838,136445838],[136446249,136446249],[136447867,136447867],[136449090,136449090],[136449671,136449671],[136451724,136451724],[136452322,136452322],[136459565,136459565],[136460977,136460977],[136462831,136462831],[136464615,136464615],[136464818,136464818],[136464885,136464885],[136465856,136465856],[136467164,136467164],[136483721,136483721],[136485246,136485246],[136485657,136485657],[136493550,136493550],[136500338,136500338],[136500597,136500597],[136502199,136502199],[136506995,136506995],[136507804,136507804],[136509222,136509222],[136510091,136510091],[136512545,136512545],[136517471,136517471],[136522377,136522377],[136523696,136523696],[136523874,136523874],[136526324,136526324],[136528006,136528006],[136529000,136529000],[136533161,136533161],[136539413,136539413],[136548116,136548116],[136548169,136548169],[136548192,136548192],[136550806,136550806],[136403061,136403061],[136426893,136426893],[136451328,136451328],[136487844,136487844],[136499188,136499188],[136509186,136509186],[136559598,136559598],[136562813,136562813],[136565028,136565028],[136567633,136567633],[136573415,136573415],[136575534,136575534],[136577844,136577844],[136578703,136578703],[136578866,136578866],[136581354,136581354],[136586585,136586585],[136588968,136588968],[136589082,136589082],[136589514,136589514],[136606360,136606360],[136606741,136606741],[136607870,136607870],[136607871,136607871],[136608466,136608466],[136622825,136622825],[136626986,136626986],[136629325,136629325],[136629993,136629993],[136631424,136631424],[136506375,136506375],[136506927,136506927],[136510012,136510012],[136538939,136538939],[136535876,136535876],[136544651,136544651],[136545844,136545844],[136552526,136552526],[136553022,136553022],[136554797,136554797],[136554890,136554890],[136589701,136589701],[136593535,136593535],[136606413,136606413],[136641268,136641268],[136651969,136651969],[136652131,136652131],[136654256,136654256],[136654345,136654345],[136666824,136666824],[136671138,136671138],[136711512,136711512],[136720021,136720021],[136720176,136720176],[136721793,136721793],[136722148,136722148],[136722710,136722710],[136726393,136726393],[136731643,136731643],[136733117,136733117],[136734614,136734614],[136737647,136737647],[136740031,136740031],[136757003,136757003],[136762512,136762512],[136765924,136765924],[136766523,136766523],[136768607,136768607],[136775985,136775985],[136652491,136652491],[136652524,136652524],[136661150,136661150],[136669264,136669264],[136726567,136726567],[136732772,136732772],[136652953,136652953],[136655582,136655582],[136674028,136674028],[136684940,136684940],[136761175,136761175],[136653925,136653925],[136654833,136654833],[136656534,136656534],[136656536,136656536],[136657252,136657252],[136667301,136667301],[136667487,136667487],[136672775,136672775],[136680534,136680534],[136686393,136686393],[136688749,136688749],[136692553,136692553],[136697371,136697371],[136708787,136708787],[136710372,136710372],[136711064,136711064],[136715324,136715324],[136723504,136723504],[136737460,136737460],[136743143,136743143],[136746224,136746224],[136751842,136751842],[136759379,136759379],[136761853,136761853]],\"ys\":[[950,996],[950,996],[950,996],[950,996],[950,996],[950,996],[950,996],[950,996],[950,996],[950,996],[950,996],[950,996],[950,996],[850,896],[850,896],[850,896],[850,896],[850,896],[850,896],[850,896],[850,896],[850,896],[850,896],[850,896],[850,896],[850,896],[850,896],[850,896],[850,896],[850,896],[850,896],[850,896],[850,896],[850,896],[850,896],[850,896],[850,896],[850,896],[850,896],[850,896],[850,896],[850,896],[850,896],[850,896],[850,896],[850,896],[850,896],[850,896],[850,896],[850,896],[850,896],[850,896],[850,896],[850,896],[850,896],[850,896],[850,896],[850,896],[850,896],[850,896],[850,896],[850,896],[850,896],[850,896],[850,896],[850,896],[850,896],[850,896],[850,896],[850,896],[850,896],[850,896],[850,896],[850,896],[850,896],[850,896],[850,896],[850,896],[850,896],[850,896],[850,896],[850,896],[850,896],[850,896],[850,896],[850,896],[850,896],[850,896],[850,896],[850,896],[850,896],[850,896],[850,896],[850,896],[850,896],[850,896],[850,896],[850,896],[850,896],[850,896],[850,896],[850,896],[850,896],[850,896],[850,896],[850,896],[850,896],[850,896],[850,896],[850,896],[850,896],[850,896],[850,896],[850,896],[850,896],[850,896],[850,896],[850,896],[850,896],[850,896],[850,896],[850,896],[850,896],[850,896],[850,896],[850,896],[850,896],[850,896],[850,896],[850,896],[150,169],[150,169],[150,169],[150,169],[150,169],[150,169],[150,169],[150,169],[150,169],[150,169],[150,169],[150,169],[150,169],[150,169],[150,169],[150,169],[150,169],[150,169],[150,169],[150,169],[150,169],[150,169],[250,274],[250,274],[250,274],[250,274],[250,274],[250,274],[250,274],[250,274],[250,274],[250,274],[250,274],[250,274],[250,274],[250,274],[250,274],[250,274],[250,274],[250,274],[250,274],[250,274],[250,274],[250,274],[250,274],[250,274],[250,274],[250,274],[250,274],[250,274],[250,274],[250,274],[250,274],[250,274],[250,274],[250,274],[250,274],[250,274],[250,274],[250,274],[250,274],[250,274],[250,274],[250,274],[250,274],[250,274],[250,274],[250,274],[250,274],[250,274],[250,274],[550,588],[550,588],[550,588],[550,588],[550,588],[550,588],[550,588],[550,588],[450,486],[450,486],[450,486],[450,486],[450,486],[450,486],[450,486],[450,486],[450,486],[50,65],[50,65],[50,65],[50,65],[50,65],[50,65],[50,65],[650,691],[650,691],[650,691],[650,691],[650,691],[650,691],[350,376],[350,376],[350,376],[350,376],[350,376],[350,376],[350,376],[350,376],[350,376],[350,376],[350,376],[350,376],[350,376],[350,376],[350,376],[350,376],[350,376],[350,376],[350,376],[350,376],[350,376],[350,376],[350,376],[350,376],[350,376],[350,376],[350,376],[350,376],[350,376],[350,376],[350,376],[350,376],[350,376],[350,376],[350,376],[350,376],[350,376],[350,376],[350,376],[350,376],[350,376],[350,376],[350,376],[350,376],[350,376],[350,376],[350,376],[350,376],[350,376],[350,376],[350,376],[350,376],[350,376],[350,376],[350,376],[350,376],[350,376],[350,376],[350,376],[350,376],[350,376],[350,376],[350,376],[350,376],[350,376],[350,376],[350,376],[350,376],[350,376],[350,376],[450,484],[450,484],[450,484],[450,484],[450,484],[450,484],[450,484],[450,484],[450,484],[450,484],[450,484],[450,484],[450,484],[450,484],[450,484],[450,484],[450,484],[450,484],[450,484],[450,484],[450,484],[450,484],[450,484],[450,484],[450,484],[450,484],[450,484],[450,484],[650,690],[650,690],[650,690],[650,690],[650,690],[650,690],[650,690],[650,690],[650,690],[550,587],[550,587],[550,587],[550,587],[550,587],[450,476],[450,476],[450,476],[450,476],[450,476],[450,476],[450,476],[450,476],[450,476],[450,476],[450,476],[450,476],[450,476],[450,476],[450,476],[450,476],[450,476],[450,476],[450,476],[450,476],[450,476],[450,476],[450,476],[450,476],[450,476],[450,476],[450,476],[450,476],[450,476],[450,476],[450,476],[450,476],[450,476],[450,476],[450,476],[450,476],[450,476],[450,476],[450,476],[450,476],[450,476],[450,476],[450,476],[450,476],[450,476],[450,476],[450,476],[450,476],[450,476],[450,476],[450,476],[450,476],[450,476],[450,476],[450,476],[150,168],[150,168],[150,168],[150,168],[250,271],[250,271],[250,271],[250,271],[250,271],[250,271],[250,271],[250,271],[250,271],[250,271],[250,271],[250,271],[250,271],[250,271],[250,271],[250,271],[250,271],[250,271],[250,271],[250,271],[250,271],[250,271],[250,271],[250,271],[250,271],[250,271],[850,894],[850,894],[850,894],[850,894],[750,794],[750,794],[750,794],[750,794],[750,794],[750,794],[750,794],[150,169],[150,169],[150,169],[150,169],[250,272],[250,272],[250,272],[250,272],[250,272],[250,272],[250,272],[250,272],[250,272],[250,272],[250,272],[250,272],[250,272],[250,272],[250,272],[250,272],[250,272],[250,272],[250,272],[250,272],[250,272],[250,272],[250,272],[250,272],[650,692],[650,692],[650,692],[650,692],[650,692],[650,692],[750,794],[750,794],[750,794],[750,794],[750,794],[850,895],[850,895],[850,895],[850,895],[850,895],[850,895],[850,895],[850,895],[850,895],[850,895],[850,895],[850,895],[850,895],[850,895],[850,895],[850,895],[850,895],[850,895],[850,895],[850,895],[850,895],[850,895],[850,895],[850,895]]}},\"id\":\"547a5f39-4a4e-45f0-9d62-43e62326055a\",\"type\":\"ColumnDataSource\"},{\"attributes\":{\"plot\":{\"id\":\"ec21fdde-98fc-4aa3-ba2e-af420241e9cf\",\"subtype\":\"Figure\",\"type\":\"Plot\"},\"ticker\":{\"id\":\"068a3bca-1e45-4da5-8e20-dc29f24a0f21\",\"type\":\"BasicTicker\"}},\"id\":\"7eac6ee3-9734-4c91-b63f-73b5c051c79e\",\"type\":\"Grid\"},{\"attributes\":{\"data_source\":{\"id\":\"547a5f39-4a4e-45f0-9d62-43e62326055a\",\"type\":\"ColumnDataSource\"},\"glyph\":{\"id\":\"92f9fe90-dfa8-49d6-9170-7e6ef61fa024\",\"type\":\"MultiLine\"},\"hover_glyph\":null,\"nonselection_glyph\":{\"id\":\"2c70825e-8238-432c-9532-06ad8b97e093\",\"type\":\"MultiLine\"},\"selection_glyph\":null},\"id\":\"509f7914-83fc-4421-8224-1b83421fc438\",\"type\":\"GlyphRenderer\"},{\"attributes\":{\"formatter\":{\"id\":\"401f8d23-fdcd-4abb-9070-56ccfdddf688\",\"type\":\"BasicTickFormatter\"},\"plot\":{\"id\":\"ec21fdde-98fc-4aa3-ba2e-af420241e9cf\",\"subtype\":\"Figure\",\"type\":\"Plot\"},\"ticker\":{\"id\":\"068a3bca-1e45-4da5-8e20-dc29f24a0f21\",\"type\":\"BasicTicker\"}},\"id\":\"6d29377c-6ef1-4e23-aa52-1b0981eb2cd8\",\"type\":\"LinearAxis\"},{\"attributes\":{\"below\":[{\"id\":\"6d29377c-6ef1-4e23-aa52-1b0981eb2cd8\",\"type\":\"LinearAxis\"}],\"left\":[{\"id\":\"d738b0b5-e5ff-4ffa-8193-6329b114ddf1\",\"type\":\"LinearAxis\"}],\"plot_height\":1100,\"plot_width\":900,\"renderers\":[{\"id\":\"6d29377c-6ef1-4e23-aa52-1b0981eb2cd8\",\"type\":\"LinearAxis\"},{\"id\":\"7eac6ee3-9734-4c91-b63f-73b5c051c79e\",\"type\":\"Grid\"},{\"id\":\"d738b0b5-e5ff-4ffa-8193-6329b114ddf1\",\"type\":\"LinearAxis\"},{\"id\":\"a0fc83f4-b3ca-47c5-ac24-4757c08bb9cf\",\"type\":\"Grid\"},{\"id\":\"b6a9134f-5c99-4d49-a1a4-99fe6d93f33d\",\"type\":\"BoxAnnotation\"},{\"id\":\"b57ee488-aa37-437d-9362-d949f0993fc7\",\"type\":\"GlyphRenderer\"},{\"id\":\"509f7914-83fc-4421-8224-1b83421fc438\",\"type\":\"GlyphRenderer\"},{\"id\":\"db76d4bd-b277-4104-b097-3e3d8573b11f\",\"type\":\"LabelSet\"},{\"id\":\"408322d7-36af-4713-ab7b-3b71b52b1355\",\"type\":\"GlyphRenderer\"},{\"id\":\"42871df2-7ab3-421c-b2b7-9cf1a78714a9\",\"type\":\"LabelSet\"}],\"title\":{\"id\":\"80c3d6c5-c9c1-40a5-843c-78b5ea6694a9\",\"type\":\"Title\"},\"tool_events\":{\"id\":\"e5e93e52-7fda-4871-8262-b841246d906c\",\"type\":\"ToolEvents\"},\"toolbar\":{\"id\":\"394cd633-3c65-4d70-8453-b422481fbec8\",\"type\":\"Toolbar\"},\"toolbar_location\":null,\"x_range\":{\"id\":\"a67f62d5-82a7-460e-96cc-758bb8417930\",\"type\":\"Range1d\"},\"y_range\":{\"id\":\"acd7e6da-89a9-4b9b-b2fc-7d081e1eb6d1\",\"type\":\"Range1d\"}},\"id\":\"ec21fdde-98fc-4aa3-ba2e-af420241e9cf\",\"subtype\":\"Figure\",\"type\":\"Plot\"},{\"attributes\":{\"plot\":null,\"text\":null},\"id\":\"80c3d6c5-c9c1-40a5-843c-78b5ea6694a9\",\"type\":\"Title\"},{\"attributes\":{\"bottom\":{\"field\":\"bottom\"},\"fill_alpha\":{\"value\":0.1},\"fill_color\":{\"value\":\"#1f77b4\"},\"left\":{\"field\":\"left\"},\"line_alpha\":{\"value\":0.1},\"line_color\":{\"value\":\"#1f77b4\"},\"right\":{\"field\":\"right\"},\"top\":{\"field\":\"top\"}},\"id\":\"ae6d1893-e042-40f9-91e8-dedce7facd6c\",\"type\":\"Quad\"},{\"attributes\":{\"bottom\":{\"field\":\"bottom\"},\"fill_color\":{\"value\":\"white\"},\"left\":{\"field\":\"left\"},\"right\":{\"field\":\"right\"},\"top\":{\"field\":\"top\"}},\"id\":\"eb0830eb-4d1d-4eae-9ca1-640cf8d9fecc\",\"type\":\"Quad\"},{\"attributes\":{},\"id\":\"401f8d23-fdcd-4abb-9070-56ccfdddf688\",\"type\":\"BasicTickFormatter\"}],\"root_ids\":[\"ec21fdde-98fc-4aa3-ba2e-af420241e9cf\"]},\"title\":\"Bokeh Application\",\"version\":\"0.12.0\"}};\n",
       "            var render_items = [{\"docid\":\"de50523e-99ea-4726-a33f-bec3d5ed04a2\",\"elementid\":\"89240a59-758d-4016-84fd-d6e2ce5be5f1\",\"modelid\":\"ec21fdde-98fc-4aa3-ba2e-af420241e9cf\",\"notebook_comms_target\":\"e132cce8-8e6c-4844-95e0-0a57322222de\"}];\n",
       "            \n",
       "            Bokeh.embed.embed_items(docs_json, render_items);\n",
       "        });\n",
       "      },\n",
       "      function(Bokeh) {\n",
       "      }\n",
       "    ];\n",
       "  \n",
       "    function run_inline_js() {\n",
       "      for (var i = 0; i < inline_js.length; i++) {\n",
       "        inline_js[i](window.Bokeh);\n",
       "      }\n",
       "    }\n",
       "  \n",
       "    if (window._bokeh_is_loading === 0) {\n",
       "      console.log(\"Bokeh: BokehJS loaded, going straight to plotting\");\n",
       "      run_inline_js();\n",
       "    } else {\n",
       "      load_libs(js_urls, function() {\n",
       "        console.log(\"Bokeh: BokehJS plotting callback run at\", now());\n",
       "        run_inline_js();\n",
       "      });\n",
       "    }\n",
       "  }(this));\n",
       "</script>"
      ]
     },
     "metadata": {},
     "output_type": "display_data"
    },
    {
     "data": {
      "text/html": [
       "<p><code>&lt;Bokeh Notebook handle for <strong>In[3]</strong>&gt;</code></p>"
      ],
      "text/plain": [
       "<bokeh.io._CommsHandle at 0x7f0e19b263d0>"
      ]
     },
     "execution_count": 3,
     "metadata": {},
     "output_type": "execute_result"
    }
   ],
   "source": [
    "plt_obj = dm.superset_yes_no([dm.di_22_73], min_match=0.5)\n",
    "plt = plt_obj.do_plot()\n",
    "show(plt)"
   ]
  },
  {
   "cell_type": "code",
   "execution_count": 4,
   "metadata": {
    "collapsed": false
   },
   "outputs": [
    {
     "data": {
      "text/html": [
       "<table>\n",
       "<thead><tr><th style=\"text-align:center\">index</th><th style=\"text-align:center\">first</th><th style=\"text-align:center\">length</th><th style=\"text-align:center\">snps</th><th style=\"text-align:center\" colspan=2>alleles</th><th style=\"text-align:center\" colspan=2>matches</th><th style=\"text-align:center\" colspan=2>afr</th><th style=\"text-align:center\" colspan=2>afx</th><th style=\"text-align:center\" colspan=2>amr</th><th style=\"text-align:center\" colspan=2>eas</th><th style=\"text-align:center\" colspan=2>eur</th><th style=\"text-align:center\" colspan=2>sas</th><th style=\"text-align:center\" colspan=2>sax</th></tr></thead>\n",
       "<tr class=\"even\"><td style=\"text-align: right;\">353240</td><td style=\"text-align: right;\">135,757,320</td><td style=\"text-align: right;\">20,184</td><td style=\"text-align: right;\">13</td><td style=\"text-align: right;\">1696</td><td style=\"text-align: right;\">0.04</td><td style=\"text-align: right;\">73</td><td style=\"text-align: right;\">1.00</td><td style=\"text-align: right;\">46</td><td style=\"text-align: right;\">3.13</td><td style=\"text-align: right;\">26</td><td style=\"text-align: right;\">5.68</td><td style=\"text-align: right;\">1</td><td style=\"text-align: right;\">0.10</td><td style=\"text-align: right;\">0</td><td style=\"text-align: right;\">0.00</td><td style=\"text-align: right;\">0</td><td style=\"text-align: right;\">0.00</td><td style=\"text-align: right;\">0</td><td style=\"text-align: right;\">0.00</td><td style=\"text-align: right;\">0</td><td style=\"text-align: right;\">0.00</td></tr>\n",
       "<tr><td style=\"text-align: right;\">353244</td><td style=\"text-align: right;\">135,758,231</td><td style=\"text-align: right;\">618,284</td><td style=\"text-align: right;\">117</td><td style=\"text-align: right;\">1685</td><td style=\"text-align: right;\">0.04</td><td style=\"text-align: right;\">73</td><td style=\"text-align: right;\">1.00</td><td style=\"text-align: right;\">46</td><td style=\"text-align: right;\">3.13</td><td style=\"text-align: right;\">26</td><td style=\"text-align: right;\">5.68</td><td style=\"text-align: right;\">1</td><td style=\"text-align: right;\">0.10</td><td style=\"text-align: right;\">0</td><td style=\"text-align: right;\">0.00</td><td style=\"text-align: right;\">0</td><td style=\"text-align: right;\">0.00</td><td style=\"text-align: right;\">0</td><td style=\"text-align: right;\">0.00</td><td style=\"text-align: right;\">0</td><td style=\"text-align: right;\">0.00</td></tr>\n",
       "<tr class=\"even\"><td style=\"text-align: right;\">354130</td><td style=\"text-align: right;\">136,653,925</td><td style=\"text-align: right;\">107,928</td><td style=\"text-align: right;\">24</td><td style=\"text-align: right;\">1504</td><td style=\"text-align: right;\">0.04</td><td style=\"text-align: right;\">64</td><td style=\"text-align: right;\">0.88</td><td style=\"text-align: right;\">41</td><td style=\"text-align: right;\">3.18</td><td style=\"text-align: right;\">22</td><td style=\"text-align: right;\">5.48</td><td style=\"text-align: right;\">1</td><td style=\"text-align: right;\">0.11</td><td style=\"text-align: right;\">0</td><td style=\"text-align: right;\">0.00</td><td style=\"text-align: right;\">0</td><td style=\"text-align: right;\">0.00</td><td style=\"text-align: right;\">0</td><td style=\"text-align: right;\">0.00</td><td style=\"text-align: right;\">0</td><td style=\"text-align: right;\">0.00</td></tr>\n",
       "<tr><td style=\"text-align: right;\">353925</td><td style=\"text-align: right;\">136,506,375</td><td style=\"text-align: right;\">32,564</td><td style=\"text-align: right;\">4</td><td style=\"text-align: right;\">1442</td><td style=\"text-align: right;\">0.05</td><td style=\"text-align: right;\">66</td><td style=\"text-align: right;\">0.90</td><td style=\"text-align: right;\">42</td><td style=\"text-align: right;\">3.16</td><td style=\"text-align: right;\">23</td><td style=\"text-align: right;\">5.56</td><td style=\"text-align: right;\">1</td><td style=\"text-align: right;\">0.11</td><td style=\"text-align: right;\">0</td><td style=\"text-align: right;\">0.00</td><td style=\"text-align: right;\">0</td><td style=\"text-align: right;\">0.00</td><td style=\"text-align: right;\">0</td><td style=\"text-align: right;\">0.00</td><td style=\"text-align: right;\">0</td><td style=\"text-align: right;\">0.00</td></tr>\n",
       "<tr class=\"even\"><td style=\"text-align: right;\">353958</td><td style=\"text-align: right;\">136,535,876</td><td style=\"text-align: right;\">19,014</td><td style=\"text-align: right;\">7</td><td style=\"text-align: right;\">1303</td><td style=\"text-align: right;\">0.05</td><td style=\"text-align: right;\">66</td><td style=\"text-align: right;\">0.90</td><td style=\"text-align: right;\">42</td><td style=\"text-align: right;\">3.16</td><td style=\"text-align: right;\">23</td><td style=\"text-align: right;\">5.56</td><td style=\"text-align: right;\">1</td><td style=\"text-align: right;\">0.11</td><td style=\"text-align: right;\">0</td><td style=\"text-align: right;\">0.00</td><td style=\"text-align: right;\">0</td><td style=\"text-align: right;\">0.00</td><td style=\"text-align: right;\">0</td><td style=\"text-align: right;\">0.00</td><td style=\"text-align: right;\">0</td><td style=\"text-align: right;\">0.00</td></tr>\n",
       "<tr><td style=\"text-align: right;\">354129</td><td style=\"text-align: right;\">136,652,953</td><td style=\"text-align: right;\">108,222</td><td style=\"text-align: right;\">5</td><td style=\"text-align: right;\">1296</td><td style=\"text-align: right;\">0.05</td><td style=\"text-align: right;\">64</td><td style=\"text-align: right;\">0.88</td><td style=\"text-align: right;\">41</td><td style=\"text-align: right;\">3.18</td><td style=\"text-align: right;\">22</td><td style=\"text-align: right;\">5.48</td><td style=\"text-align: right;\">1</td><td style=\"text-align: right;\">0.11</td><td style=\"text-align: right;\">0</td><td style=\"text-align: right;\">0.00</td><td style=\"text-align: right;\">0</td><td style=\"text-align: right;\">0.00</td><td style=\"text-align: right;\">0</td><td style=\"text-align: right;\">0.00</td><td style=\"text-align: right;\">0</td><td style=\"text-align: right;\">0.00</td></tr>\n",
       "<tr class=\"even\"><td style=\"text-align: right;\">354127</td><td style=\"text-align: right;\">136,652,491</td><td style=\"text-align: right;\">80,281</td><td style=\"text-align: right;\">6</td><td style=\"text-align: right;\">1114</td><td style=\"text-align: right;\">0.06</td><td style=\"text-align: right;\">64</td><td style=\"text-align: right;\">0.88</td><td style=\"text-align: right;\">41</td><td style=\"text-align: right;\">3.18</td><td style=\"text-align: right;\">22</td><td style=\"text-align: right;\">5.48</td><td style=\"text-align: right;\">1</td><td style=\"text-align: right;\">0.11</td><td style=\"text-align: right;\">0</td><td style=\"text-align: right;\">0.00</td><td style=\"text-align: right;\">0</td><td style=\"text-align: right;\">0.00</td><td style=\"text-align: right;\">0</td><td style=\"text-align: right;\">0.00</td><td style=\"text-align: right;\">0</td><td style=\"text-align: right;\">0.00</td></tr>\n",
       "<tr><td style=\"text-align: right;\">353504</td><td style=\"text-align: right;\">135,964,764</td><td style=\"text-align: right;\">136,368</td><td style=\"text-align: right;\">6</td><td style=\"text-align: right;\">946</td><td style=\"text-align: right;\">0.06</td><td style=\"text-align: right;\">61</td><td style=\"text-align: right;\">0.84</td><td style=\"text-align: right;\">36</td><td style=\"text-align: right;\">2.93</td><td style=\"text-align: right;\">24</td><td style=\"text-align: right;\">6.28</td><td style=\"text-align: right;\">1</td><td style=\"text-align: right;\">0.12</td><td style=\"text-align: right;\">0</td><td style=\"text-align: right;\">0.00</td><td style=\"text-align: right;\">0</td><td style=\"text-align: right;\">0.00</td><td style=\"text-align: right;\">0</td><td style=\"text-align: right;\">0.00</td><td style=\"text-align: right;\">0</td><td style=\"text-align: right;\">0.00</td></tr>\n",
       "<tr class=\"even\"><td style=\"text-align: right;\">353729</td><td style=\"text-align: right;\">136,309,239</td><td style=\"text-align: right;\">52,321</td><td style=\"text-align: right;\">9</td><td style=\"text-align: right;\">887</td><td style=\"text-align: right;\">0.08</td><td style=\"text-align: right;\">73</td><td style=\"text-align: right;\">1.00</td><td style=\"text-align: right;\">46</td><td style=\"text-align: right;\">3.13</td><td style=\"text-align: right;\">26</td><td style=\"text-align: right;\">5.68</td><td style=\"text-align: right;\">1</td><td style=\"text-align: right;\">0.10</td><td style=\"text-align: right;\">0</td><td style=\"text-align: right;\">0.00</td><td style=\"text-align: right;\">0</td><td style=\"text-align: right;\">0.00</td><td style=\"text-align: right;\">0</td><td style=\"text-align: right;\">0.00</td><td style=\"text-align: right;\">0</td><td style=\"text-align: right;\">0.00</td></tr>\n",
       "<tr><td style=\"text-align: right;\">353312</td><td style=\"text-align: right;\">135,784,351</td><td style=\"text-align: right;\">117,869</td><td style=\"text-align: right;\">8</td><td style=\"text-align: right;\">718</td><td style=\"text-align: right;\">0.10</td><td style=\"text-align: right;\">73</td><td style=\"text-align: right;\">1.00</td><td style=\"text-align: right;\">46</td><td style=\"text-align: right;\">3.13</td><td style=\"text-align: right;\">26</td><td style=\"text-align: right;\">5.68</td><td style=\"text-align: right;\">1</td><td style=\"text-align: right;\">0.10</td><td style=\"text-align: right;\">0</td><td style=\"text-align: right;\">0.00</td><td style=\"text-align: right;\">0</td><td style=\"text-align: right;\">0.00</td><td style=\"text-align: right;\">0</td><td style=\"text-align: right;\">0.00</td><td style=\"text-align: right;\">0</td><td style=\"text-align: right;\">0.00</td></tr>\n",
       "<tr class=\"even\"><td style=\"text-align: right;\">353764</td><td style=\"text-align: right;\">136,364,916</td><td style=\"text-align: right;\">22,977</td><td style=\"text-align: right;\">5</td><td style=\"text-align: right;\">588</td><td style=\"text-align: right;\">0.12</td><td style=\"text-align: right;\">70</td><td style=\"text-align: right;\">0.96</td><td style=\"text-align: right;\">44</td><td style=\"text-align: right;\">3.12</td><td style=\"text-align: right;\">25</td><td style=\"text-align: right;\">5.70</td><td style=\"text-align: right;\">1</td><td style=\"text-align: right;\">0.10</td><td style=\"text-align: right;\">0</td><td style=\"text-align: right;\">0.00</td><td style=\"text-align: right;\">0</td><td style=\"text-align: right;\">0.00</td><td style=\"text-align: right;\">0</td><td style=\"text-align: right;\">0.00</td><td style=\"text-align: right;\">0</td><td style=\"text-align: right;\">0.00</td></tr>\n",
       "<tr><td style=\"text-align: right;\">353349</td><td style=\"text-align: right;\">135,810,535</td><td style=\"text-align: right;\">87,488</td><td style=\"text-align: right;\">9</td><td style=\"text-align: right;\">545</td><td style=\"text-align: right;\">0.13</td><td style=\"text-align: right;\">73</td><td style=\"text-align: right;\">1.00</td><td style=\"text-align: right;\">46</td><td style=\"text-align: right;\">3.13</td><td style=\"text-align: right;\">26</td><td style=\"text-align: right;\">5.68</td><td style=\"text-align: right;\">1</td><td style=\"text-align: right;\">0.10</td><td style=\"text-align: right;\">0</td><td style=\"text-align: right;\">0.00</td><td style=\"text-align: right;\">0</td><td style=\"text-align: right;\">0.00</td><td style=\"text-align: right;\">0</td><td style=\"text-align: right;\">0.00</td><td style=\"text-align: right;\">0</td><td style=\"text-align: right;\">0.00</td></tr>\n",
       "<tr class=\"even\"><td style=\"text-align: right;\">353614</td><td style=\"text-align: right;\">136,115,507</td><td style=\"text-align: right;\">269,773</td><td style=\"text-align: right;\">28</td><td style=\"text-align: right;\">434</td><td style=\"text-align: right;\">0.17</td><td style=\"text-align: right;\">73</td><td style=\"text-align: right;\">1.00</td><td style=\"text-align: right;\">46</td><td style=\"text-align: right;\">3.13</td><td style=\"text-align: right;\">26</td><td style=\"text-align: right;\">5.68</td><td style=\"text-align: right;\">1</td><td style=\"text-align: right;\">0.10</td><td style=\"text-align: right;\">0</td><td style=\"text-align: right;\">0.00</td><td style=\"text-align: right;\">0</td><td style=\"text-align: right;\">0.00</td><td style=\"text-align: right;\">0</td><td style=\"text-align: right;\">0.00</td><td style=\"text-align: right;\">0</td><td style=\"text-align: right;\">0.00</td></tr>\n",
       "<tr><td style=\"text-align: right;\">353788</td><td style=\"text-align: right;\">136,392,700</td><td style=\"text-align: right;\">158,106</td><td style=\"text-align: right;\">55</td><td style=\"text-align: right;\">180</td><td style=\"text-align: right;\">0.34</td><td style=\"text-align: right;\">62</td><td style=\"text-align: right;\">0.85</td><td style=\"text-align: right;\">38</td><td style=\"text-align: right;\">3.05</td><td style=\"text-align: right;\">23</td><td style=\"text-align: right;\">5.92</td><td style=\"text-align: right;\">1</td><td style=\"text-align: right;\">0.12</td><td style=\"text-align: right;\">0</td><td style=\"text-align: right;\">0.00</td><td style=\"text-align: right;\">0</td><td style=\"text-align: right;\">0.00</td><td style=\"text-align: right;\">0</td><td style=\"text-align: right;\">0.00</td><td style=\"text-align: right;\">0</td><td style=\"text-align: right;\">0.00</td></tr>\n",
       "<tr class=\"even\"><td style=\"text-align: right;\">353538</td><td style=\"text-align: right;\">136,008,173</td><td style=\"text-align: right;\">373,078</td><td style=\"text-align: right;\">70</td><td style=\"text-align: right;\">166</td><td style=\"text-align: right;\">0.44</td><td style=\"text-align: right;\">73</td><td style=\"text-align: right;\">1.00</td><td style=\"text-align: right;\">46</td><td style=\"text-align: right;\">3.13</td><td style=\"text-align: right;\">26</td><td style=\"text-align: right;\">5.68</td><td style=\"text-align: right;\">1</td><td style=\"text-align: right;\">0.10</td><td style=\"text-align: right;\">0</td><td style=\"text-align: right;\">0.00</td><td style=\"text-align: right;\">0</td><td style=\"text-align: right;\">0.00</td><td style=\"text-align: right;\">0</td><td style=\"text-align: right;\">0.00</td><td style=\"text-align: right;\">0</td><td style=\"text-align: right;\">0.00</td></tr>\n",
       "<tr><td style=\"text-align: right;\">353304</td><td style=\"text-align: right;\">135,780,924</td><td style=\"text-align: right;\">236,215</td><td style=\"text-align: right;\">49</td><td style=\"text-align: right;\">136</td><td style=\"text-align: right;\">0.54</td><td style=\"text-align: right;\">73</td><td style=\"text-align: right;\">1.00</td><td style=\"text-align: right;\">46</td><td style=\"text-align: right;\">3.13</td><td style=\"text-align: right;\">26</td><td style=\"text-align: right;\">5.68</td><td style=\"text-align: right;\">1</td><td style=\"text-align: right;\">0.10</td><td style=\"text-align: right;\">0</td><td style=\"text-align: right;\">0.00</td><td style=\"text-align: right;\">0</td><td style=\"text-align: right;\">0.00</td><td style=\"text-align: right;\">0</td><td style=\"text-align: right;\">0.00</td><td style=\"text-align: right;\">0</td><td style=\"text-align: right;\">0.00</td></tr>\n",
       "<tr class=\"even\"><td style=\"text-align: right;\">354125</td><td style=\"text-align: right;\">136,651,969</td><td style=\"text-align: right;\">124,016</td><td style=\"text-align: right;\">24</td><td style=\"text-align: right;\">113</td><td style=\"text-align: right;\">0.54</td><td style=\"text-align: right;\">61</td><td style=\"text-align: right;\">0.84</td><td style=\"text-align: right;\">38</td><td style=\"text-align: right;\">3.09</td><td style=\"text-align: right;\">22</td><td style=\"text-align: right;\">5.75</td><td style=\"text-align: right;\">1</td><td style=\"text-align: right;\">0.12</td><td style=\"text-align: right;\">0</td><td style=\"text-align: right;\">0.00</td><td style=\"text-align: right;\">0</td><td style=\"text-align: right;\">0.00</td><td style=\"text-align: right;\">0</td><td style=\"text-align: right;\">0.00</td><td style=\"text-align: right;\">0</td><td style=\"text-align: right;\">0.00</td></tr>\n",
       "<tr><td style=\"text-align: right;\">353915</td><td style=\"text-align: right;\">136,499,188</td><td style=\"text-align: right;\">132,236</td><td style=\"text-align: right;\">26</td><td style=\"text-align: right;\">96</td><td style=\"text-align: right;\">0.62</td><td style=\"text-align: right;\">60</td><td style=\"text-align: right;\">0.82</td><td style=\"text-align: right;\">37</td><td style=\"text-align: right;\">3.06</td><td style=\"text-align: right;\">22</td><td style=\"text-align: right;\">5.85</td><td style=\"text-align: right;\">1</td><td style=\"text-align: right;\">0.12</td><td style=\"text-align: right;\">0</td><td style=\"text-align: right;\">0.00</td><td style=\"text-align: right;\">0</td><td style=\"text-align: right;\">0.00</td><td style=\"text-align: right;\">0</td><td style=\"text-align: right;\">0.00</td><td style=\"text-align: right;\">0</td><td style=\"text-align: right;\">0.00</td></tr>\n",
       "<tr class=\"even\"><td style=\"text-align: right;\">354037</td><td style=\"text-align: right;\">136,589,701</td><td style=\"text-align: right;\">51,567</td><td style=\"text-align: right;\">4</td><td style=\"text-align: right;\">80</td><td style=\"text-align: right;\">0.75</td><td style=\"text-align: right;\">60</td><td style=\"text-align: right;\">0.82</td><td style=\"text-align: right;\">36</td><td style=\"text-align: right;\">2.98</td><td style=\"text-align: right;\">23</td><td style=\"text-align: right;\">6.11</td><td style=\"text-align: right;\">1</td><td style=\"text-align: right;\">0.12</td><td style=\"text-align: right;\">0</td><td style=\"text-align: right;\">0.00</td><td style=\"text-align: right;\">0</td><td style=\"text-align: right;\">0.00</td><td style=\"text-align: right;\">0</td><td style=\"text-align: right;\">0.00</td><td style=\"text-align: right;\">0</td><td style=\"text-align: right;\">0.00</td></tr>\n",
       "<tr><td style=\"text-align: right;\">353259</td><td style=\"text-align: right;\">135,761,470</td><td style=\"text-align: right;\">609,610</td><td style=\"text-align: right;\">22</td><td style=\"text-align: right;\">73</td><td style=\"text-align: right;\">1.00</td><td style=\"text-align: right;\">73</td><td style=\"text-align: right;\">1.00</td><td style=\"text-align: right;\">46</td><td style=\"text-align: right;\">3.13</td><td style=\"text-align: right;\">26</td><td style=\"text-align: right;\">5.68</td><td style=\"text-align: right;\">1</td><td style=\"text-align: right;\">0.10</td><td style=\"text-align: right;\">0</td><td style=\"text-align: right;\">0.00</td><td style=\"text-align: right;\">0</td><td style=\"text-align: right;\">0.00</td><td style=\"text-align: right;\">0</td><td style=\"text-align: right;\">0.00</td><td style=\"text-align: right;\">0</td><td style=\"text-align: right;\">0.00</td></tr>\n",
       "<tr class=\"even\"><td style=\"text-align: right;\">353806</td><td style=\"text-align: right;\">136,403,061</td><td style=\"text-align: right;\">84,783</td><td style=\"text-align: right;\">4</td><td style=\"text-align: right;\">67</td><td style=\"text-align: right;\">0.96</td><td style=\"text-align: right;\">64</td><td style=\"text-align: right;\">0.88</td><td style=\"text-align: right;\">40</td><td style=\"text-align: right;\">3.11</td><td style=\"text-align: right;\">23</td><td style=\"text-align: right;\">5.73</td><td style=\"text-align: right;\">1</td><td style=\"text-align: right;\">0.11</td><td style=\"text-align: right;\">0</td><td style=\"text-align: right;\">0.00</td><td style=\"text-align: right;\">0</td><td style=\"text-align: right;\">0.00</td><td style=\"text-align: right;\">0</td><td style=\"text-align: right;\">0.00</td><td style=\"text-align: right;\">0</td><td style=\"text-align: right;\">0.00</td></tr>\n",
       "<tr><td style=\"text-align: right;\">353379</td><td style=\"text-align: right;\">135,837,488</td><td style=\"text-align: right;\">509,187</td><td style=\"text-align: right;\">7</td><td style=\"text-align: right;\">49</td><td style=\"text-align: right;\">0.96</td><td style=\"text-align: right;\">47</td><td style=\"text-align: right;\">0.64</td><td style=\"text-align: right;\">30</td><td style=\"text-align: right;\">3.17</td><td style=\"text-align: right;\">16</td><td style=\"text-align: right;\">5.43</td><td style=\"text-align: right;\">1</td><td style=\"text-align: right;\">0.15</td><td style=\"text-align: right;\">0</td><td style=\"text-align: right;\">0.00</td><td style=\"text-align: right;\">0</td><td style=\"text-align: right;\">0.00</td><td style=\"text-align: right;\">0</td><td style=\"text-align: right;\">0.00</td><td style=\"text-align: right;\">0</td><td style=\"text-align: right;\">0.00</td></tr>\n",
       "</table>"
      ],
      "text/plain": [
       "<IPython.core.display.HTML object>"
      ]
     },
     "execution_count": 4,
     "metadata": {},
     "output_type": "execute_result"
    }
   ],
   "source": [
    "HTML(plt_obj.get_html())"
   ]
  },
  {
   "cell_type": "code",
   "execution_count": 5,
   "metadata": {
    "collapsed": false
   },
   "outputs": [
    {
     "data": {
      "text/plain": [
       "array([(0, 4922), (1, 10), (4, 1), (18, 1), (19, 1), (21, 3), (22, 70)], \n",
       "      dtype=[('count', '<u2'), ('snps', '<u2')])"
      ]
     },
     "execution_count": 5,
     "metadata": {},
     "output_type": "execute_result"
    }
   ],
   "source": [
    "count_data = sa_22_73.unique_snps_per_allele()\n",
    "count_data"
   ]
  },
  {
   "cell_type": "code",
   "execution_count": 6,
   "metadata": {
    "collapsed": false
   },
   "outputs": [
    {
     "data": {
      "text/html": [
       "\n",
       "\n",
       "    <div class=\"bk-root\">\n",
       "        <div class=\"plotdiv\" id=\"a9021e43-836c-4771-bf0c-37db8da1d12c\"></div>\n",
       "    </div>\n",
       "<script type=\"text/javascript\">\n",
       "  \n",
       "  (function(global) {\n",
       "    function now() {\n",
       "      return new Date();\n",
       "    }\n",
       "  \n",
       "    if (typeof (window._bokeh_onload_callbacks) === \"undefined\") {\n",
       "      window._bokeh_onload_callbacks = [];\n",
       "    }\n",
       "  \n",
       "    function run_callbacks() {\n",
       "      window._bokeh_onload_callbacks.forEach(function(callback) { callback() });\n",
       "      delete window._bokeh_onload_callbacks\n",
       "      console.info(\"Bokeh: all callbacks have finished\");\n",
       "    }\n",
       "  \n",
       "    function load_libs(js_urls, callback) {\n",
       "      window._bokeh_onload_callbacks.push(callback);\n",
       "      if (window._bokeh_is_loading > 0) {\n",
       "        console.log(\"Bokeh: BokehJS is being loaded, scheduling callback at\", now());\n",
       "        return null;\n",
       "      }\n",
       "      if (js_urls == null || js_urls.length === 0) {\n",
       "        run_callbacks();\n",
       "        return null;\n",
       "      }\n",
       "      console.log(\"Bokeh: BokehJS not loaded, scheduling load and callback at\", now());\n",
       "      window._bokeh_is_loading = js_urls.length;\n",
       "      for (var i = 0; i < js_urls.length; i++) {\n",
       "        var url = js_urls[i];\n",
       "        var s = document.createElement('script');\n",
       "        s.src = url;\n",
       "        s.async = false;\n",
       "        s.onreadystatechange = s.onload = function() {\n",
       "          window._bokeh_is_loading--;\n",
       "          if (window._bokeh_is_loading === 0) {\n",
       "            console.log(\"Bokeh: all BokehJS libraries loaded\");\n",
       "            run_callbacks()\n",
       "          }\n",
       "        };\n",
       "        s.onerror = function() {\n",
       "          console.warn(\"failed to load library \" + url);\n",
       "        };\n",
       "        console.log(\"Bokeh: injecting script tag for BokehJS library: \", url);\n",
       "        document.getElementsByTagName(\"head\")[0].appendChild(s);\n",
       "      }\n",
       "    };var element = document.getElementById(\"a9021e43-836c-4771-bf0c-37db8da1d12c\");\n",
       "    if (element == null) {\n",
       "      console.log(\"Bokeh: ERROR: autoload.js configured with elementid 'a9021e43-836c-4771-bf0c-37db8da1d12c' but no matching script tag was found. \")\n",
       "      return false;\n",
       "    }\n",
       "  \n",
       "    var js_urls = [];\n",
       "  \n",
       "    var inline_js = [\n",
       "      function(Bokeh) {\n",
       "        Bokeh.$(function() {\n",
       "            var docs_json = {\"263fe03c-18e9-44f0-9d94-04571ffd698b\":{\"roots\":{\"references\":[{\"attributes\":{\"callback\":null,\"end\":14.5,\"start\":-0.5},\"id\":\"5435f6af-b436-476f-a592-e01bddf73408\",\"type\":\"Range1d\"},{\"attributes\":{\"data_source\":{\"id\":\"9defc238-2314-4094-83d0-536113ac2362\",\"type\":\"ColumnDataSource\"},\"glyph\":{\"id\":\"32ba050f-27a8-42d7-be2f-040805c161f7\",\"type\":\"Line\"},\"hover_glyph\":null,\"nonselection_glyph\":{\"id\":\"185b69be-92e1-4883-9fb1-ef538dfe701b\",\"type\":\"Line\"},\"selection_glyph\":null},\"id\":\"7fda247a-6aa6-4965-bbfc-556b0f52f358\",\"type\":\"GlyphRenderer\"},{\"attributes\":{},\"id\":\"befc50d8-6679-4fb4-8b51-c853c478b18f\",\"type\":\"BasicTicker\"},{\"attributes\":{\"overlay\":{\"id\":\"39feffde-585c-4a9f-8e26-4e8d5b128d1d\",\"type\":\"BoxAnnotation\"},\"plot\":{\"id\":\"eee61e2c-6b2d-47eb-a026-78b346641d43\",\"subtype\":\"Figure\",\"type\":\"Plot\"}},\"id\":\"98fb4852-6d5e-4a6b-879f-723e51ea8321\",\"type\":\"BoxZoomTool\"},{\"attributes\":{\"formatter\":{\"id\":\"867c6b05-9d95-40ac-9590-0b68f0ceef29\",\"type\":\"BasicTickFormatter\"},\"plot\":{\"id\":\"eee61e2c-6b2d-47eb-a026-78b346641d43\",\"subtype\":\"Figure\",\"type\":\"Plot\"},\"ticker\":{\"id\":\"befc50d8-6679-4fb4-8b51-c853c478b18f\",\"type\":\"BasicTicker\"}},\"id\":\"65812dd4-e048-447f-af69-bfa9bc3303b9\",\"type\":\"LinearAxis\"},{\"attributes\":{\"plot\":{\"id\":\"eee61e2c-6b2d-47eb-a026-78b346641d43\",\"subtype\":\"Figure\",\"type\":\"Plot\"}},\"id\":\"14b3048f-bdaf-4441-bca6-2a241d0f0457\",\"type\":\"ResetTool\"},{\"attributes\":{\"callback\":null,\"column_names\":[\"y\",\"x\"],\"data\":{\"x\":[-0.5,-0.5,11.5,11.5,12.5,12.5,13.5,13.5],\"y\":[0.0,0.0,0.0,11.0,11.0,62.0,62.0,0.0]}},\"id\":\"9defc238-2314-4094-83d0-536113ac2362\",\"type\":\"ColumnDataSource\"},{\"attributes\":{\"plot\":{\"id\":\"eee61e2c-6b2d-47eb-a026-78b346641d43\",\"subtype\":\"Figure\",\"type\":\"Plot\"}},\"id\":\"f158dc00-5ba7-422a-92e0-9ba94c622ea3\",\"type\":\"PanTool\"},{\"attributes\":{\"formatter\":{\"id\":\"ca2ea015-edb7-4f02-a8b5-03013215c149\",\"type\":\"BasicTickFormatter\"},\"plot\":{\"id\":\"eee61e2c-6b2d-47eb-a026-78b346641d43\",\"subtype\":\"Figure\",\"type\":\"Plot\"},\"ticker\":{\"id\":\"b67a2319-6d12-4ac1-9daf-abff4a835a9d\",\"type\":\"BasicTicker\"}},\"id\":\"652d5bbf-d11f-4663-81d7-462eef718851\",\"type\":\"LinearAxis\"},{\"attributes\":{},\"id\":\"78c23d46-38ec-4f31-a82b-cc18e5063e17\",\"type\":\"ToolEvents\"},{\"attributes\":{\"callback\":null,\"end\":68.2},\"id\":\"11828c87-c485-4d24-8077-31949154a3a1\",\"type\":\"Range1d\"},{\"attributes\":{\"below\":[{\"id\":\"65812dd4-e048-447f-af69-bfa9bc3303b9\",\"type\":\"LinearAxis\"}],\"left\":[{\"id\":\"652d5bbf-d11f-4663-81d7-462eef718851\",\"type\":\"LinearAxis\"}],\"plot_height\":400,\"plot_width\":900,\"renderers\":[{\"id\":\"65812dd4-e048-447f-af69-bfa9bc3303b9\",\"type\":\"LinearAxis\"},{\"id\":\"5c006a2c-ab30-4d3a-bdc4-2ffbcc1700a8\",\"type\":\"Grid\"},{\"id\":\"652d5bbf-d11f-4663-81d7-462eef718851\",\"type\":\"LinearAxis\"},{\"id\":\"9f161f94-79fe-4e49-b7c7-77795224b45f\",\"type\":\"Grid\"},{\"id\":\"39feffde-585c-4a9f-8e26-4e8d5b128d1d\",\"type\":\"BoxAnnotation\"},{\"id\":\"7fda247a-6aa6-4965-bbfc-556b0f52f358\",\"type\":\"GlyphRenderer\"}],\"title\":{\"id\":\"60173e5a-010e-40ac-8e6d-481a2cc8b616\",\"type\":\"Title\"},\"tool_events\":{\"id\":\"78c23d46-38ec-4f31-a82b-cc18e5063e17\",\"type\":\"ToolEvents\"},\"toolbar\":{\"id\":\"ab25d7cd-4867-4072-8e8d-647a4bed66f6\",\"type\":\"Toolbar\"},\"toolbar_location\":null,\"x_range\":{\"id\":\"5435f6af-b436-476f-a592-e01bddf73408\",\"type\":\"Range1d\"},\"y_range\":{\"id\":\"11828c87-c485-4d24-8077-31949154a3a1\",\"type\":\"Range1d\"}},\"id\":\"eee61e2c-6b2d-47eb-a026-78b346641d43\",\"subtype\":\"Figure\",\"type\":\"Plot\"},{\"attributes\":{\"plot\":null,\"text\":null},\"id\":\"60173e5a-010e-40ac-8e6d-481a2cc8b616\",\"type\":\"Title\"},{\"attributes\":{\"active_drag\":\"auto\",\"active_scroll\":\"auto\",\"active_tap\":\"auto\",\"tools\":[{\"id\":\"f158dc00-5ba7-422a-92e0-9ba94c622ea3\",\"type\":\"PanTool\"},{\"id\":\"5ac6f216-8450-4d7a-9f08-cff01a225c81\",\"type\":\"WheelZoomTool\"},{\"id\":\"98fb4852-6d5e-4a6b-879f-723e51ea8321\",\"type\":\"BoxZoomTool\"},{\"id\":\"2fd7b22b-f13f-4ef7-914a-2bcedbfe4192\",\"type\":\"SaveTool\"},{\"id\":\"14b3048f-bdaf-4441-bca6-2a241d0f0457\",\"type\":\"ResetTool\"},{\"id\":\"f3bed7ad-d5f8-4747-83a0-de39879afd42\",\"type\":\"HelpTool\"}]},\"id\":\"ab25d7cd-4867-4072-8e8d-647a4bed66f6\",\"type\":\"Toolbar\"},{\"attributes\":{},\"id\":\"ca2ea015-edb7-4f02-a8b5-03013215c149\",\"type\":\"BasicTickFormatter\"},{\"attributes\":{},\"id\":\"b67a2319-6d12-4ac1-9daf-abff4a835a9d\",\"type\":\"BasicTicker\"},{\"attributes\":{\"plot\":{\"id\":\"eee61e2c-6b2d-47eb-a026-78b346641d43\",\"subtype\":\"Figure\",\"type\":\"Plot\"},\"ticker\":{\"id\":\"befc50d8-6679-4fb4-8b51-c853c478b18f\",\"type\":\"BasicTicker\"}},\"id\":\"5c006a2c-ab30-4d3a-bdc4-2ffbcc1700a8\",\"type\":\"Grid\"},{\"attributes\":{\"dimension\":1,\"plot\":{\"id\":\"eee61e2c-6b2d-47eb-a026-78b346641d43\",\"subtype\":\"Figure\",\"type\":\"Plot\"},\"ticker\":{\"id\":\"b67a2319-6d12-4ac1-9daf-abff4a835a9d\",\"type\":\"BasicTicker\"}},\"id\":\"9f161f94-79fe-4e49-b7c7-77795224b45f\",\"type\":\"Grid\"},{\"attributes\":{\"bottom_units\":\"screen\",\"fill_alpha\":{\"value\":0.5},\"fill_color\":{\"value\":\"lightgrey\"},\"left_units\":\"screen\",\"level\":\"overlay\",\"line_alpha\":{\"value\":1.0},\"line_color\":{\"value\":\"black\"},\"line_dash\":[4,4],\"line_width\":{\"value\":2},\"plot\":null,\"render_mode\":\"css\",\"right_units\":\"screen\",\"top_units\":\"screen\"},\"id\":\"39feffde-585c-4a9f-8e26-4e8d5b128d1d\",\"type\":\"BoxAnnotation\"},{\"attributes\":{\"line_color\":{\"value\":\"#1f77b4\"},\"x\":{\"field\":\"x\"},\"y\":{\"field\":\"y\"}},\"id\":\"32ba050f-27a8-42d7-be2f-040805c161f7\",\"type\":\"Line\"},{\"attributes\":{\"plot\":{\"id\":\"eee61e2c-6b2d-47eb-a026-78b346641d43\",\"subtype\":\"Figure\",\"type\":\"Plot\"}},\"id\":\"5ac6f216-8450-4d7a-9f08-cff01a225c81\",\"type\":\"WheelZoomTool\"},{\"attributes\":{},\"id\":\"867c6b05-9d95-40ac-9590-0b68f0ceef29\",\"type\":\"BasicTickFormatter\"},{\"attributes\":{\"plot\":{\"id\":\"eee61e2c-6b2d-47eb-a026-78b346641d43\",\"subtype\":\"Figure\",\"type\":\"Plot\"}},\"id\":\"f3bed7ad-d5f8-4747-83a0-de39879afd42\",\"type\":\"HelpTool\"},{\"attributes\":{\"line_alpha\":{\"value\":0.1},\"line_color\":{\"value\":\"#1f77b4\"},\"x\":{\"field\":\"x\"},\"y\":{\"field\":\"y\"}},\"id\":\"185b69be-92e1-4883-9fb1-ef538dfe701b\",\"type\":\"Line\"},{\"attributes\":{\"plot\":{\"id\":\"eee61e2c-6b2d-47eb-a026-78b346641d43\",\"subtype\":\"Figure\",\"type\":\"Plot\"}},\"id\":\"2fd7b22b-f13f-4ef7-914a-2bcedbfe4192\",\"type\":\"SaveTool\"}],\"root_ids\":[\"eee61e2c-6b2d-47eb-a026-78b346641d43\"]},\"title\":\"Bokeh Application\",\"version\":\"0.12.0\"}};\n",
       "            var render_items = [{\"docid\":\"263fe03c-18e9-44f0-9d94-04571ffd698b\",\"elementid\":\"a9021e43-836c-4771-bf0c-37db8da1d12c\",\"modelid\":\"eee61e2c-6b2d-47eb-a026-78b346641d43\",\"notebook_comms_target\":\"67530ee7-ba42-41f0-8da0-6a4888ad99c4\"}];\n",
       "            \n",
       "            Bokeh.embed.embed_items(docs_json, render_items);\n",
       "        });\n",
       "      },\n",
       "      function(Bokeh) {\n",
       "      }\n",
       "    ];\n",
       "  \n",
       "    function run_inline_js() {\n",
       "      for (var i = 0; i < inline_js.length; i++) {\n",
       "        inline_js[i](window.Bokeh);\n",
       "      }\n",
       "    }\n",
       "  \n",
       "    if (window._bokeh_is_loading === 0) {\n",
       "      console.log(\"Bokeh: BokehJS loaded, going straight to plotting\");\n",
       "      run_inline_js();\n",
       "    } else {\n",
       "      load_libs(js_urls, function() {\n",
       "        console.log(\"Bokeh: BokehJS plotting callback run at\", now());\n",
       "        run_inline_js();\n",
       "      });\n",
       "    }\n",
       "  }(this));\n",
       "</script>"
      ]
     },
     "metadata": {},
     "output_type": "display_data"
    },
    {
     "data": {
      "text/html": [
       "<p><code>&lt;Bokeh Notebook handle for <strong>In[6]</strong>&gt;</code></p>"
      ],
      "text/plain": [
       "<bokeh.io._CommsHandle at 0x7f0e4c3c6bd0>"
      ]
     },
     "execution_count": 6,
     "metadata": {},
     "output_type": "execute_result"
    }
   ],
   "source": [
    "count_data = an.sa_13_1696.unique_snps_per_allele(am_22_73)\n",
    "plt_obj = smcp(count_data)\n",
    "plt = plt_obj.do_plot()\n",
    "show(plt)"
   ]
  },
  {
   "cell_type": "code",
   "execution_count": 7,
   "metadata": {
    "collapsed": false
   },
   "outputs": [
    {
     "data": {
      "text/plain": [
       "array([(12, 11), (13, 62)], \n",
       "      dtype=[('count', '<u2'), ('snps', '<u2')])"
      ]
     },
     "execution_count": 7,
     "metadata": {},
     "output_type": "execute_result"
    }
   ],
   "source": [
    "count_data"
   ]
  },
  {
   "cell_type": "code",
   "execution_count": 8,
   "metadata": {
    "collapsed": false
   },
   "outputs": [
    {
     "data": {
      "text/html": [
       "\n",
       "\n",
       "    <div class=\"bk-root\">\n",
       "        <div class=\"plotdiv\" id=\"2023dab0-a2bd-4a8d-b46c-73cac48fe3ef\"></div>\n",
       "    </div>\n",
       "<script type=\"text/javascript\">\n",
       "  \n",
       "  (function(global) {\n",
       "    function now() {\n",
       "      return new Date();\n",
       "    }\n",
       "  \n",
       "    if (typeof (window._bokeh_onload_callbacks) === \"undefined\") {\n",
       "      window._bokeh_onload_callbacks = [];\n",
       "    }\n",
       "  \n",
       "    function run_callbacks() {\n",
       "      window._bokeh_onload_callbacks.forEach(function(callback) { callback() });\n",
       "      delete window._bokeh_onload_callbacks\n",
       "      console.info(\"Bokeh: all callbacks have finished\");\n",
       "    }\n",
       "  \n",
       "    function load_libs(js_urls, callback) {\n",
       "      window._bokeh_onload_callbacks.push(callback);\n",
       "      if (window._bokeh_is_loading > 0) {\n",
       "        console.log(\"Bokeh: BokehJS is being loaded, scheduling callback at\", now());\n",
       "        return null;\n",
       "      }\n",
       "      if (js_urls == null || js_urls.length === 0) {\n",
       "        run_callbacks();\n",
       "        return null;\n",
       "      }\n",
       "      console.log(\"Bokeh: BokehJS not loaded, scheduling load and callback at\", now());\n",
       "      window._bokeh_is_loading = js_urls.length;\n",
       "      for (var i = 0; i < js_urls.length; i++) {\n",
       "        var url = js_urls[i];\n",
       "        var s = document.createElement('script');\n",
       "        s.src = url;\n",
       "        s.async = false;\n",
       "        s.onreadystatechange = s.onload = function() {\n",
       "          window._bokeh_is_loading--;\n",
       "          if (window._bokeh_is_loading === 0) {\n",
       "            console.log(\"Bokeh: all BokehJS libraries loaded\");\n",
       "            run_callbacks()\n",
       "          }\n",
       "        };\n",
       "        s.onerror = function() {\n",
       "          console.warn(\"failed to load library \" + url);\n",
       "        };\n",
       "        console.log(\"Bokeh: injecting script tag for BokehJS library: \", url);\n",
       "        document.getElementsByTagName(\"head\")[0].appendChild(s);\n",
       "      }\n",
       "    };var element = document.getElementById(\"2023dab0-a2bd-4a8d-b46c-73cac48fe3ef\");\n",
       "    if (element == null) {\n",
       "      console.log(\"Bokeh: ERROR: autoload.js configured with elementid '2023dab0-a2bd-4a8d-b46c-73cac48fe3ef' but no matching script tag was found. \")\n",
       "      return false;\n",
       "    }\n",
       "  \n",
       "    var js_urls = [];\n",
       "  \n",
       "    var inline_js = [\n",
       "      function(Bokeh) {\n",
       "        Bokeh.$(function() {\n",
       "            var docs_json = {\"9a473831-256d-4aa8-a67a-cb8f6abaed53\":{\"roots\":{\"references\":[{\"attributes\":{\"plot\":{\"id\":\"5d81103b-5a28-4c1a-8dc0-60c141e5a010\",\"subtype\":\"Figure\",\"type\":\"Plot\"}},\"id\":\"59762cb0-8ecd-4213-a4b3-09e583b6e195\",\"type\":\"SaveTool\"},{\"attributes\":{\"callback\":null,\"end\":74.80000000000001},\"id\":\"a71fd654-8935-4042-8dd0-57dae718ecbe\",\"type\":\"Range1d\"},{\"attributes\":{\"bottom_units\":\"screen\",\"fill_alpha\":{\"value\":0.5},\"fill_color\":{\"value\":\"lightgrey\"},\"left_units\":\"screen\",\"level\":\"overlay\",\"line_alpha\":{\"value\":1.0},\"line_color\":{\"value\":\"black\"},\"line_dash\":[4,4],\"line_width\":{\"value\":2},\"plot\":null,\"render_mode\":\"css\",\"right_units\":\"screen\",\"top_units\":\"screen\"},\"id\":\"2e3b60a8-0227-4f4b-9ae0-e1f9ac475f1f\",\"type\":\"BoxAnnotation\"},{\"attributes\":{\"line_color\":{\"value\":\"#1f77b4\"},\"x\":{\"field\":\"x\"},\"y\":{\"field\":\"y\"}},\"id\":\"72bb62c3-fab9-4260-a01e-1668eb862eae\",\"type\":\"Line\"},{\"attributes\":{\"plot\":{\"id\":\"5d81103b-5a28-4c1a-8dc0-60c141e5a010\",\"subtype\":\"Figure\",\"type\":\"Plot\"}},\"id\":\"81a9c18d-2fc7-4434-8a94-7859bdfd141b\",\"type\":\"WheelZoomTool\"},{\"attributes\":{\"plot\":{\"id\":\"5d81103b-5a28-4c1a-8dc0-60c141e5a010\",\"subtype\":\"Figure\",\"type\":\"Plot\"}},\"id\":\"207e0f42-e7b0-4a91-8805-9d32caae853b\",\"type\":\"HelpTool\"},{\"attributes\":{},\"id\":\"32abf366-ca49-4467-85d4-c802e337d0ee\",\"type\":\"ToolEvents\"},{\"attributes\":{\"plot\":{\"id\":\"5d81103b-5a28-4c1a-8dc0-60c141e5a010\",\"subtype\":\"Figure\",\"type\":\"Plot\"},\"ticker\":{\"id\":\"e7cd10f3-c1b8-48b4-baeb-01fe1bd06d3e\",\"type\":\"BasicTicker\"}},\"id\":\"d2b9db6a-5912-4bc1-b449-c7eb06e3be59\",\"type\":\"Grid\"},{\"attributes\":{},\"id\":\"e7cd10f3-c1b8-48b4-baeb-01fe1bd06d3e\",\"type\":\"BasicTicker\"},{\"attributes\":{\"dimension\":1,\"plot\":{\"id\":\"5d81103b-5a28-4c1a-8dc0-60c141e5a010\",\"subtype\":\"Figure\",\"type\":\"Plot\"},\"ticker\":{\"id\":\"4dc059a1-e198-4fa4-b8d8-79d67a428505\",\"type\":\"BasicTicker\"}},\"id\":\"6ac9be56-6242-4378-bb76-f4034528ed61\",\"type\":\"Grid\"},{\"attributes\":{\"line_alpha\":{\"value\":0.1},\"line_color\":{\"value\":\"#1f77b4\"},\"x\":{\"field\":\"x\"},\"y\":{\"field\":\"y\"}},\"id\":\"03a002f7-cfea-4fa2-9f88-a0551e9ef750\",\"type\":\"Line\"},{\"attributes\":{\"callback\":null,\"end\":108.5,\"start\":-0.5},\"id\":\"bc7e3020-eb5f-474f-9c0f-f8258c458299\",\"type\":\"Range1d\"},{\"attributes\":{\"plot\":{\"id\":\"5d81103b-5a28-4c1a-8dc0-60c141e5a010\",\"subtype\":\"Figure\",\"type\":\"Plot\"}},\"id\":\"7a8d8a21-3161-443b-8e7a-7e3e5bb351a1\",\"type\":\"ResetTool\"},{\"attributes\":{\"callback\":null,\"column_names\":[\"y\",\"x\"],\"data\":{\"x\":[-0.5,-0.5,104.5,104.5,105.5,105.5,106.5,106.5,107.5,107.5],\"y\":[0.0,0.0,0.0,3.0,3.0,68.0,68.0,2.0,2.0,0.0]}},\"id\":\"01a9c54c-0613-48ad-a6ef-ce95196f0be5\",\"type\":\"ColumnDataSource\"},{\"attributes\":{},\"id\":\"c362e503-e37c-4a59-b724-3211e2fa80e1\",\"type\":\"BasicTickFormatter\"},{\"attributes\":{\"below\":[{\"id\":\"88ded754-ee61-4819-90d2-5083e626e82b\",\"type\":\"LinearAxis\"}],\"left\":[{\"id\":\"7a125381-729a-4c03-a2cd-7e2fb01327c2\",\"type\":\"LinearAxis\"}],\"plot_height\":400,\"plot_width\":900,\"renderers\":[{\"id\":\"88ded754-ee61-4819-90d2-5083e626e82b\",\"type\":\"LinearAxis\"},{\"id\":\"d2b9db6a-5912-4bc1-b449-c7eb06e3be59\",\"type\":\"Grid\"},{\"id\":\"7a125381-729a-4c03-a2cd-7e2fb01327c2\",\"type\":\"LinearAxis\"},{\"id\":\"6ac9be56-6242-4378-bb76-f4034528ed61\",\"type\":\"Grid\"},{\"id\":\"2e3b60a8-0227-4f4b-9ae0-e1f9ac475f1f\",\"type\":\"BoxAnnotation\"},{\"id\":\"c12b3cb4-b46c-4bb5-813f-3c92aeeae4df\",\"type\":\"GlyphRenderer\"}],\"title\":{\"id\":\"daa38ad4-5218-4183-b3e4-55f1a7000cc3\",\"type\":\"Title\"},\"tool_events\":{\"id\":\"32abf366-ca49-4467-85d4-c802e337d0ee\",\"type\":\"ToolEvents\"},\"toolbar\":{\"id\":\"9060d1cf-9262-4ee0-9781-cd009f0922e9\",\"type\":\"Toolbar\"},\"toolbar_location\":null,\"x_range\":{\"id\":\"bc7e3020-eb5f-474f-9c0f-f8258c458299\",\"type\":\"Range1d\"},\"y_range\":{\"id\":\"a71fd654-8935-4042-8dd0-57dae718ecbe\",\"type\":\"Range1d\"}},\"id\":\"5d81103b-5a28-4c1a-8dc0-60c141e5a010\",\"subtype\":\"Figure\",\"type\":\"Plot\"},{\"attributes\":{\"active_drag\":\"auto\",\"active_scroll\":\"auto\",\"active_tap\":\"auto\",\"tools\":[{\"id\":\"a9f617a4-3144-45d7-bc90-0c730d00ca15\",\"type\":\"PanTool\"},{\"id\":\"81a9c18d-2fc7-4434-8a94-7859bdfd141b\",\"type\":\"WheelZoomTool\"},{\"id\":\"72ca2d4e-e60a-4aa8-a31d-b1742924e199\",\"type\":\"BoxZoomTool\"},{\"id\":\"59762cb0-8ecd-4213-a4b3-09e583b6e195\",\"type\":\"SaveTool\"},{\"id\":\"7a8d8a21-3161-443b-8e7a-7e3e5bb351a1\",\"type\":\"ResetTool\"},{\"id\":\"207e0f42-e7b0-4a91-8805-9d32caae853b\",\"type\":\"HelpTool\"}]},\"id\":\"9060d1cf-9262-4ee0-9781-cd009f0922e9\",\"type\":\"Toolbar\"},{\"attributes\":{\"formatter\":{\"id\":\"2f3c731c-485e-423d-a59b-e50636f11e9d\",\"type\":\"BasicTickFormatter\"},\"plot\":{\"id\":\"5d81103b-5a28-4c1a-8dc0-60c141e5a010\",\"subtype\":\"Figure\",\"type\":\"Plot\"},\"ticker\":{\"id\":\"e7cd10f3-c1b8-48b4-baeb-01fe1bd06d3e\",\"type\":\"BasicTicker\"}},\"id\":\"88ded754-ee61-4819-90d2-5083e626e82b\",\"type\":\"LinearAxis\"},{\"attributes\":{\"overlay\":{\"id\":\"2e3b60a8-0227-4f4b-9ae0-e1f9ac475f1f\",\"type\":\"BoxAnnotation\"},\"plot\":{\"id\":\"5d81103b-5a28-4c1a-8dc0-60c141e5a010\",\"subtype\":\"Figure\",\"type\":\"Plot\"}},\"id\":\"72ca2d4e-e60a-4aa8-a31d-b1742924e199\",\"type\":\"BoxZoomTool\"},{\"attributes\":{\"data_source\":{\"id\":\"01a9c54c-0613-48ad-a6ef-ce95196f0be5\",\"type\":\"ColumnDataSource\"},\"glyph\":{\"id\":\"72bb62c3-fab9-4260-a01e-1668eb862eae\",\"type\":\"Line\"},\"hover_glyph\":null,\"nonselection_glyph\":{\"id\":\"03a002f7-cfea-4fa2-9f88-a0551e9ef750\",\"type\":\"Line\"},\"selection_glyph\":null},\"id\":\"c12b3cb4-b46c-4bb5-813f-3c92aeeae4df\",\"type\":\"GlyphRenderer\"},{\"attributes\":{},\"id\":\"4dc059a1-e198-4fa4-b8d8-79d67a428505\",\"type\":\"BasicTicker\"},{\"attributes\":{\"formatter\":{\"id\":\"c362e503-e37c-4a59-b724-3211e2fa80e1\",\"type\":\"BasicTickFormatter\"},\"plot\":{\"id\":\"5d81103b-5a28-4c1a-8dc0-60c141e5a010\",\"subtype\":\"Figure\",\"type\":\"Plot\"},\"ticker\":{\"id\":\"4dc059a1-e198-4fa4-b8d8-79d67a428505\",\"type\":\"BasicTicker\"}},\"id\":\"7a125381-729a-4c03-a2cd-7e2fb01327c2\",\"type\":\"LinearAxis\"},{\"attributes\":{\"plot\":null,\"text\":null},\"id\":\"daa38ad4-5218-4183-b3e4-55f1a7000cc3\",\"type\":\"Title\"},{\"attributes\":{\"plot\":{\"id\":\"5d81103b-5a28-4c1a-8dc0-60c141e5a010\",\"subtype\":\"Figure\",\"type\":\"Plot\"}},\"id\":\"a9f617a4-3144-45d7-bc90-0c730d00ca15\",\"type\":\"PanTool\"},{\"attributes\":{},\"id\":\"2f3c731c-485e-423d-a59b-e50636f11e9d\",\"type\":\"BasicTickFormatter\"}],\"root_ids\":[\"5d81103b-5a28-4c1a-8dc0-60c141e5a010\"]},\"title\":\"Bokeh Application\",\"version\":\"0.12.0\"}};\n",
       "            var render_items = [{\"docid\":\"9a473831-256d-4aa8-a67a-cb8f6abaed53\",\"elementid\":\"2023dab0-a2bd-4a8d-b46c-73cac48fe3ef\",\"modelid\":\"5d81103b-5a28-4c1a-8dc0-60c141e5a010\",\"notebook_comms_target\":\"8e0ae761-a0bf-4eaa-9dd7-737f486213c9\"}];\n",
       "            \n",
       "            Bokeh.embed.embed_items(docs_json, render_items);\n",
       "        });\n",
       "      },\n",
       "      function(Bokeh) {\n",
       "      }\n",
       "    ];\n",
       "  \n",
       "    function run_inline_js() {\n",
       "      for (var i = 0; i < inline_js.length; i++) {\n",
       "        inline_js[i](window.Bokeh);\n",
       "      }\n",
       "    }\n",
       "  \n",
       "    if (window._bokeh_is_loading === 0) {\n",
       "      console.log(\"Bokeh: BokehJS loaded, going straight to plotting\");\n",
       "      run_inline_js();\n",
       "    } else {\n",
       "      load_libs(js_urls, function() {\n",
       "        console.log(\"Bokeh: BokehJS plotting callback run at\", now());\n",
       "        run_inline_js();\n",
       "      });\n",
       "    }\n",
       "  }(this));\n",
       "</script>"
      ]
     },
     "metadata": {},
     "output_type": "display_data"
    },
    {
     "data": {
      "text/html": [
       "<p><code>&lt;Bokeh Notebook handle for <strong>In[8]</strong>&gt;</code></p>"
      ],
      "text/plain": [
       "<bokeh.io._CommsHandle at 0x7f0e1b9df9d0>"
      ]
     },
     "execution_count": 8,
     "metadata": {},
     "output_type": "execute_result"
    }
   ],
   "source": [
    "count_data = sa_117_1685.unique_snps_per_allele(am_22_73)\n",
    "plt_obj = smcp(count_data)\n",
    "plt = plt_obj.do_plot()\n",
    "show(plt)"
   ]
  },
  {
   "cell_type": "code",
   "execution_count": 9,
   "metadata": {
    "collapsed": false
   },
   "outputs": [
    {
     "data": {
      "text/plain": [
       "array([(105, 3), (106, 68), (107, 2)], \n",
       "      dtype=[('count', '<u2'), ('snps', '<u2')])"
      ]
     },
     "execution_count": 9,
     "metadata": {},
     "output_type": "execute_result"
    }
   ],
   "source": [
    "count_data"
   ]
  },
  {
   "cell_type": "code",
   "execution_count": 10,
   "metadata": {
    "collapsed": false
   },
   "outputs": [
    {
     "data": {
      "text/plain": [
       "array([ 0,  0,  1,  0,  0,  0,  0,  0,  0,  0, 73, 73, 73, 73, 73, 73, 73,\n",
       "       73, 73, 73, 73, 73, 73, 73, 73, 73, 73, 73, 73, 73, 73, 73, 73, 73,\n",
       "       73, 73, 73, 73, 73, 73, 73, 73, 73, 73, 73, 73, 73, 73, 73, 73, 73,\n",
       "       73, 73, 73, 70, 73, 73, 73, 73, 73, 73, 73, 73, 73, 73, 73, 73, 73,\n",
       "       73, 73, 73, 73, 73, 73, 73, 73, 73,  1, 73, 73, 73, 73, 73, 73, 73,\n",
       "       73, 73, 73, 73, 73, 73, 73, 73, 73, 73, 73, 73, 73, 73, 73, 73, 73,\n",
       "       73, 73, 73, 73, 73, 73, 73, 73, 73, 73, 73, 73, 73, 73, 73])"
      ]
     },
     "execution_count": 10,
     "metadata": {},
     "output_type": "execute_result"
    }
   ],
   "source": [
    "an.sa_117_1685.alleles_per_snp(am_22_73)"
   ]
  },
  {
   "cell_type": "code",
   "execution_count": 11,
   "metadata": {
    "collapsed": false
   },
   "outputs": [
    {
     "data": {
      "text/plain": [
       "array([ 0,  0,  0,  0,  0,  0,  0,  0,  0,  0, 68, 68, 68, 68, 68, 68, 68,\n",
       "       68, 68, 68, 68, 68, 68, 68, 68, 68, 68, 68, 68, 68, 68, 68, 68, 68,\n",
       "       68, 68, 68, 68, 68, 68, 68, 68, 68, 68, 68, 68, 68, 68, 68, 68, 68,\n",
       "       68, 68, 68, 68, 68, 68, 68, 68, 68, 68, 68, 68, 68, 68, 68, 68, 68,\n",
       "       68, 68, 68, 68, 68, 68, 68, 68, 68,  0, 68, 68, 68, 68, 68, 68, 68,\n",
       "       68, 68, 68, 68, 68, 68, 68, 68, 68, 68, 68, 68, 68, 68, 68, 68, 68,\n",
       "       68, 68, 68, 68, 68, 68, 68, 68, 68, 68, 68, 68, 68, 68, 68])"
      ]
     },
     "execution_count": 11,
     "metadata": {},
     "output_type": "execute_result"
    }
   ],
   "source": [
    "aps_106, am_106 = an.sa_117_1685.snps_from_aps_value(106, am_22_73)\n",
    "aps_106"
   ]
  },
  {
   "cell_type": "code",
   "execution_count": 12,
   "metadata": {
    "collapsed": false
   },
   "outputs": [
    {
     "data": {
      "text/html": [
       "\n",
       "\n",
       "    <div class=\"bk-root\">\n",
       "        <div class=\"plotdiv\" id=\"29028297-22e7-49a6-b781-041c4a09eb00\"></div>\n",
       "    </div>\n",
       "<script type=\"text/javascript\">\n",
       "  \n",
       "  (function(global) {\n",
       "    function now() {\n",
       "      return new Date();\n",
       "    }\n",
       "  \n",
       "    if (typeof (window._bokeh_onload_callbacks) === \"undefined\") {\n",
       "      window._bokeh_onload_callbacks = [];\n",
       "    }\n",
       "  \n",
       "    function run_callbacks() {\n",
       "      window._bokeh_onload_callbacks.forEach(function(callback) { callback() });\n",
       "      delete window._bokeh_onload_callbacks\n",
       "      console.info(\"Bokeh: all callbacks have finished\");\n",
       "    }\n",
       "  \n",
       "    function load_libs(js_urls, callback) {\n",
       "      window._bokeh_onload_callbacks.push(callback);\n",
       "      if (window._bokeh_is_loading > 0) {\n",
       "        console.log(\"Bokeh: BokehJS is being loaded, scheduling callback at\", now());\n",
       "        return null;\n",
       "      }\n",
       "      if (js_urls == null || js_urls.length === 0) {\n",
       "        run_callbacks();\n",
       "        return null;\n",
       "      }\n",
       "      console.log(\"Bokeh: BokehJS not loaded, scheduling load and callback at\", now());\n",
       "      window._bokeh_is_loading = js_urls.length;\n",
       "      for (var i = 0; i < js_urls.length; i++) {\n",
       "        var url = js_urls[i];\n",
       "        var s = document.createElement('script');\n",
       "        s.src = url;\n",
       "        s.async = false;\n",
       "        s.onreadystatechange = s.onload = function() {\n",
       "          window._bokeh_is_loading--;\n",
       "          if (window._bokeh_is_loading === 0) {\n",
       "            console.log(\"Bokeh: all BokehJS libraries loaded\");\n",
       "            run_callbacks()\n",
       "          }\n",
       "        };\n",
       "        s.onerror = function() {\n",
       "          console.warn(\"failed to load library \" + url);\n",
       "        };\n",
       "        console.log(\"Bokeh: injecting script tag for BokehJS library: \", url);\n",
       "        document.getElementsByTagName(\"head\")[0].appendChild(s);\n",
       "      }\n",
       "    };var element = document.getElementById(\"29028297-22e7-49a6-b781-041c4a09eb00\");\n",
       "    if (element == null) {\n",
       "      console.log(\"Bokeh: ERROR: autoload.js configured with elementid '29028297-22e7-49a6-b781-041c4a09eb00' but no matching script tag was found. \")\n",
       "      return false;\n",
       "    }\n",
       "  \n",
       "    var js_urls = [];\n",
       "  \n",
       "    var inline_js = [\n",
       "      function(Bokeh) {\n",
       "        Bokeh.$(function() {\n",
       "            var docs_json = {\"cadc2514-fbe0-40d8-a386-4c2ba920194b\":{\"roots\":{\"references\":[{\"attributes\":{\"plot\":null,\"text\":null},\"id\":\"daa6eea8-2cf0-437a-9ee5-d92b235013b4\",\"type\":\"Title\"},{\"attributes\":{\"data_source\":{\"id\":\"3e5ab6f9-db9d-437e-8db6-21f189671116\",\"type\":\"ColumnDataSource\"},\"glyph\":{\"id\":\"c85b828b-a18c-4c5b-b68b-a216b673cd49\",\"type\":\"Line\"},\"hover_glyph\":null,\"nonselection_glyph\":{\"id\":\"4269865c-07cf-46df-ac94-335fc6fd84ba\",\"type\":\"Line\"},\"selection_glyph\":null},\"id\":\"74b7128e-3985-4ee4-aebd-ea8a06cad824\",\"type\":\"GlyphRenderer\"},{\"attributes\":{\"bottom_units\":\"screen\",\"fill_alpha\":{\"value\":0.5},\"fill_color\":{\"value\":\"lightgrey\"},\"left_units\":\"screen\",\"level\":\"overlay\",\"line_alpha\":{\"value\":1.0},\"line_color\":{\"value\":\"black\"},\"line_dash\":[4,4],\"line_width\":{\"value\":2},\"plot\":null,\"render_mode\":\"css\",\"right_units\":\"screen\",\"top_units\":\"screen\"},\"id\":\"5fa4b4ff-ee3f-4eee-8751-9a1e77160d7f\",\"type\":\"BoxAnnotation\"},{\"attributes\":{\"plot\":{\"id\":\"fe5a82e8-29c1-4d6a-8cff-c6d0c85e8626\",\"subtype\":\"Figure\",\"type\":\"Plot\"}},\"id\":\"f9fb9a69-5deb-4121-86e7-ef9df7eb1d35\",\"type\":\"SaveTool\"},{\"attributes\":{\"dimension\":1,\"plot\":{\"id\":\"fe5a82e8-29c1-4d6a-8cff-c6d0c85e8626\",\"subtype\":\"Figure\",\"type\":\"Plot\"},\"ticker\":{\"id\":\"636c84df-0ec9-4abb-abc0-bc9c5e996d74\",\"type\":\"BasicTicker\"}},\"id\":\"a4329452-2b43-458c-837c-556dfe22ea47\",\"type\":\"Grid\"},{\"attributes\":{\"plot\":{\"id\":\"fe5a82e8-29c1-4d6a-8cff-c6d0c85e8626\",\"subtype\":\"Figure\",\"type\":\"Plot\"},\"ticker\":{\"id\":\"1fed56b9-e555-4d33-9ea5-87d1c1c3bd71\",\"type\":\"BasicTicker\"}},\"id\":\"ffb366f3-6b50-414f-a433-e7ff05b7d37b\",\"type\":\"Grid\"},{\"attributes\":{\"overlay\":{\"id\":\"5fa4b4ff-ee3f-4eee-8751-9a1e77160d7f\",\"type\":\"BoxAnnotation\"},\"plot\":{\"id\":\"fe5a82e8-29c1-4d6a-8cff-c6d0c85e8626\",\"subtype\":\"Figure\",\"type\":\"Plot\"}},\"id\":\"89fa490a-5c54-4a5a-b2ba-38370c12b651\",\"type\":\"BoxZoomTool\"},{\"attributes\":{\"plot\":{\"id\":\"fe5a82e8-29c1-4d6a-8cff-c6d0c85e8626\",\"subtype\":\"Figure\",\"type\":\"Plot\"}},\"id\":\"7ba96e7c-5a99-405b-8107-e48a66e69bdb\",\"type\":\"PanTool\"},{\"attributes\":{},\"id\":\"1fed56b9-e555-4d33-9ea5-87d1c1c3bd71\",\"type\":\"BasicTicker\"},{\"attributes\":{\"formatter\":{\"id\":\"abedf044-705b-42a3-8991-f87a054477c7\",\"type\":\"BasicTickFormatter\"},\"plot\":{\"id\":\"fe5a82e8-29c1-4d6a-8cff-c6d0c85e8626\",\"subtype\":\"Figure\",\"type\":\"Plot\"},\"ticker\":{\"id\":\"636c84df-0ec9-4abb-abc0-bc9c5e996d74\",\"type\":\"BasicTicker\"}},\"id\":\"ea028e19-264e-42f9-b53f-2ae6f91a5aa1\",\"type\":\"LinearAxis\"},{\"attributes\":{\"plot\":{\"id\":\"fe5a82e8-29c1-4d6a-8cff-c6d0c85e8626\",\"subtype\":\"Figure\",\"type\":\"Plot\"}},\"id\":\"def02545-fe77-46d1-b612-93242a216c9c\",\"type\":\"HelpTool\"},{\"attributes\":{\"below\":[{\"id\":\"f5168743-2272-4527-bc0a-aef6c40eb3d8\",\"type\":\"LinearAxis\"}],\"left\":[{\"id\":\"ea028e19-264e-42f9-b53f-2ae6f91a5aa1\",\"type\":\"LinearAxis\"}],\"plot_height\":400,\"plot_width\":900,\"renderers\":[{\"id\":\"f5168743-2272-4527-bc0a-aef6c40eb3d8\",\"type\":\"LinearAxis\"},{\"id\":\"ffb366f3-6b50-414f-a433-e7ff05b7d37b\",\"type\":\"Grid\"},{\"id\":\"ea028e19-264e-42f9-b53f-2ae6f91a5aa1\",\"type\":\"LinearAxis\"},{\"id\":\"a4329452-2b43-458c-837c-556dfe22ea47\",\"type\":\"Grid\"},{\"id\":\"5fa4b4ff-ee3f-4eee-8751-9a1e77160d7f\",\"type\":\"BoxAnnotation\"},{\"id\":\"74b7128e-3985-4ee4-aebd-ea8a06cad824\",\"type\":\"GlyphRenderer\"}],\"title\":{\"id\":\"daa6eea8-2cf0-437a-9ee5-d92b235013b4\",\"type\":\"Title\"},\"tool_events\":{\"id\":\"f38a389f-2b28-46ab-9398-1debd9531537\",\"type\":\"ToolEvents\"},\"toolbar\":{\"id\":\"db5da4cd-6536-4b43-9ed7-8b3c39e44850\",\"type\":\"Toolbar\"},\"toolbar_location\":null,\"x_range\":{\"id\":\"14d2f374-a2f9-4530-adce-0b37fa583f89\",\"type\":\"Range1d\"},\"y_range\":{\"id\":\"98d06d68-848b-4dff-9ee6-97c75e7338ae\",\"type\":\"Range1d\"}},\"id\":\"fe5a82e8-29c1-4d6a-8cff-c6d0c85e8626\",\"subtype\":\"Figure\",\"type\":\"Plot\"},{\"attributes\":{},\"id\":\"636c84df-0ec9-4abb-abc0-bc9c5e996d74\",\"type\":\"BasicTicker\"},{\"attributes\":{},\"id\":\"f38a389f-2b28-46ab-9398-1debd9531537\",\"type\":\"ToolEvents\"},{\"attributes\":{\"active_drag\":\"auto\",\"active_scroll\":\"auto\",\"active_tap\":\"auto\",\"tools\":[{\"id\":\"7ba96e7c-5a99-405b-8107-e48a66e69bdb\",\"type\":\"PanTool\"},{\"id\":\"94cfc54c-b7bb-4049-8465-d2f3c67536ca\",\"type\":\"WheelZoomTool\"},{\"id\":\"89fa490a-5c54-4a5a-b2ba-38370c12b651\",\"type\":\"BoxZoomTool\"},{\"id\":\"f9fb9a69-5deb-4121-86e7-ef9df7eb1d35\",\"type\":\"SaveTool\"},{\"id\":\"e4325817-0b62-424d-a366-2e6c4bc8977d\",\"type\":\"ResetTool\"},{\"id\":\"def02545-fe77-46d1-b612-93242a216c9c\",\"type\":\"HelpTool\"}]},\"id\":\"db5da4cd-6536-4b43-9ed7-8b3c39e44850\",\"type\":\"Toolbar\"},{\"attributes\":{\"callback\":null,\"end\":111.5,\"start\":-0.5},\"id\":\"14d2f374-a2f9-4530-adce-0b37fa583f89\",\"type\":\"Range1d\"},{\"attributes\":{\"callback\":null,\"column_names\":[\"y\",\"x\"],\"data\":{\"x\":[-0.5,-0.5,106.5,106.5,107.5,107.5,108.5,108.5,109.5,109.5,110.5,110.5],\"y\":[0.0,0.0,0.0,8.0,8.0,50.0,50.0,14.0,14.0,1.0,1.0,0.0]}},\"id\":\"3e5ab6f9-db9d-437e-8db6-21f189671116\",\"type\":\"ColumnDataSource\"},{\"attributes\":{\"line_alpha\":{\"value\":0.1},\"line_color\":{\"value\":\"#1f77b4\"},\"x\":{\"field\":\"x\"},\"y\":{\"field\":\"y\"}},\"id\":\"4269865c-07cf-46df-ac94-335fc6fd84ba\",\"type\":\"Line\"},{\"attributes\":{\"callback\":null,\"end\":55.00000000000001},\"id\":\"98d06d68-848b-4dff-9ee6-97c75e7338ae\",\"type\":\"Range1d\"},{\"attributes\":{\"formatter\":{\"id\":\"7eb619dc-2ecc-45a3-bba7-00b6fdba63ca\",\"type\":\"BasicTickFormatter\"},\"plot\":{\"id\":\"fe5a82e8-29c1-4d6a-8cff-c6d0c85e8626\",\"subtype\":\"Figure\",\"type\":\"Plot\"},\"ticker\":{\"id\":\"1fed56b9-e555-4d33-9ea5-87d1c1c3bd71\",\"type\":\"BasicTicker\"}},\"id\":\"f5168743-2272-4527-bc0a-aef6c40eb3d8\",\"type\":\"LinearAxis\"},{\"attributes\":{\"plot\":{\"id\":\"fe5a82e8-29c1-4d6a-8cff-c6d0c85e8626\",\"subtype\":\"Figure\",\"type\":\"Plot\"}},\"id\":\"94cfc54c-b7bb-4049-8465-d2f3c67536ca\",\"type\":\"WheelZoomTool\"},{\"attributes\":{},\"id\":\"abedf044-705b-42a3-8991-f87a054477c7\",\"type\":\"BasicTickFormatter\"},{\"attributes\":{\"line_color\":{\"value\":\"#1f77b4\"},\"x\":{\"field\":\"x\"},\"y\":{\"field\":\"y\"}},\"id\":\"c85b828b-a18c-4c5b-b68b-a216b673cd49\",\"type\":\"Line\"},{\"attributes\":{},\"id\":\"7eb619dc-2ecc-45a3-bba7-00b6fdba63ca\",\"type\":\"BasicTickFormatter\"},{\"attributes\":{\"plot\":{\"id\":\"fe5a82e8-29c1-4d6a-8cff-c6d0c85e8626\",\"subtype\":\"Figure\",\"type\":\"Plot\"}},\"id\":\"e4325817-0b62-424d-a366-2e6c4bc8977d\",\"type\":\"ResetTool\"}],\"root_ids\":[\"fe5a82e8-29c1-4d6a-8cff-c6d0c85e8626\"]},\"title\":\"Bokeh Application\",\"version\":\"0.12.0\"}};\n",
       "            var render_items = [{\"docid\":\"cadc2514-fbe0-40d8-a386-4c2ba920194b\",\"elementid\":\"29028297-22e7-49a6-b781-041c4a09eb00\",\"modelid\":\"fe5a82e8-29c1-4d6a-8cff-c6d0c85e8626\",\"notebook_comms_target\":\"91dd9888-39c6-406d-9082-178c24a021bf\"}];\n",
       "            \n",
       "            Bokeh.embed.embed_items(docs_json, render_items);\n",
       "        });\n",
       "      },\n",
       "      function(Bokeh) {\n",
       "      }\n",
       "    ];\n",
       "  \n",
       "    function run_inline_js() {\n",
       "      for (var i = 0; i < inline_js.length; i++) {\n",
       "        inline_js[i](window.Bokeh);\n",
       "      }\n",
       "    }\n",
       "  \n",
       "    if (window._bokeh_is_loading === 0) {\n",
       "      console.log(\"Bokeh: BokehJS loaded, going straight to plotting\");\n",
       "      run_inline_js();\n",
       "    } else {\n",
       "      load_libs(js_urls, function() {\n",
       "        console.log(\"Bokeh: BokehJS plotting callback run at\", now());\n",
       "        run_inline_js();\n",
       "      });\n",
       "    }\n",
       "  }(this));\n",
       "</script>"
      ]
     },
     "metadata": {},
     "output_type": "display_data"
    },
    {
     "data": {
      "text/html": [
       "<p><code>&lt;Bokeh Notebook handle for <strong>In[12]</strong>&gt;</code></p>"
      ],
      "text/plain": [
       "<bokeh.io._CommsHandle at 0x7f0e4c3c6b50>"
      ]
     },
     "execution_count": 12,
     "metadata": {},
     "output_type": "execute_result"
    }
   ],
   "source": [
    "count_data = sa_123_1561.unique_snps_per_allele(am_22_73)\n",
    "plt_obj = smcp(count_data)\n",
    "plt = plt_obj.do_plot()\n",
    "show(plt)"
   ]
  },
  {
   "cell_type": "code",
   "execution_count": 13,
   "metadata": {
    "collapsed": false
   },
   "outputs": [
    {
     "data": {
      "text/plain": [
       "array([(107, 8), (108, 50), (109, 14), (110, 1)], \n",
       "      dtype=[('count', '<u2'), ('snps', '<u2')])"
      ]
     },
     "execution_count": 13,
     "metadata": {},
     "output_type": "execute_result"
    }
   ],
   "source": [
    "count_data"
   ]
  },
  {
   "cell_type": "code",
   "execution_count": 14,
   "metadata": {
    "collapsed": false
   },
   "outputs": [
    {
     "data": {
      "text/plain": [
       "array([73, 73, 73, 73,  0, 14,  0, 73, 73,  1,  1, 73, 73, 73,  0,  1,  0,\n",
       "        0, 73, 72,  0, 73, 73,  0, 73, 73, 73, 73, 73, 73, 73, 73,  0, 72,\n",
       "       73, 73, 73, 73, 73, 73, 73, 73, 73, 73, 73, 73, 73, 73, 73, 73, 73,\n",
       "       73, 73, 73, 73, 73, 73, 73, 73, 73, 73,  0, 73, 73, 73, 73, 73, 73,\n",
       "       73, 73, 73, 73, 73, 73, 73, 73, 73, 73, 73, 66, 73, 73, 73, 73,  0,\n",
       "       73, 73, 73, 73, 73, 73, 73, 73, 73, 73, 73, 73, 73, 73, 73, 73, 73,\n",
       "       73, 73, 73,  0, 73, 73, 73, 73, 73, 73, 73, 73, 73, 73, 73, 73, 73,\n",
       "       73, 73, 73, 73])"
      ]
     },
     "execution_count": 14,
     "metadata": {},
     "output_type": "execute_result"
    }
   ],
   "source": [
    "an.sa_123_1561.alleles_per_snp(am_22_73)"
   ]
  },
  {
   "cell_type": "code",
   "execution_count": 15,
   "metadata": {
    "collapsed": false
   },
   "outputs": [
    {
     "data": {
      "text/plain": [
       "array([14, 14, 14, 14,  0, 14,  0, 14, 14,  0,  0, 14, 14, 14,  0,  1,  0,\n",
       "        0, 14, 14,  0, 14, 14,  0, 14, 14, 14, 14, 14, 14, 14, 14,  0, 14,\n",
       "       14, 14, 14, 14, 14, 14, 14, 14, 14, 14, 14, 14, 14, 14, 14, 14, 14,\n",
       "       14, 14, 14, 14, 14, 14, 14, 14, 14, 14,  0, 14, 14, 14, 14, 14, 14,\n",
       "       14, 14, 14, 14, 14, 14, 14, 14, 14, 14, 14, 13, 14, 14, 14, 14,  0,\n",
       "       14, 14, 14, 14, 14, 14, 14, 14, 14, 14, 14, 14, 14, 14, 14, 14, 14,\n",
       "       14, 14, 14,  0, 14, 14, 14, 14, 14, 14, 14, 14, 14, 14, 14, 14, 14,\n",
       "       14, 14, 14, 14])"
      ]
     },
     "execution_count": 15,
     "metadata": {},
     "output_type": "execute_result"
    }
   ],
   "source": [
    "aps_109, am_109 = an.sa_123_1561.snps_from_aps_value(109, am_22_73)\n",
    "aps_109"
   ]
  },
  {
   "cell_type": "code",
   "execution_count": 16,
   "metadata": {
    "collapsed": false
   },
   "outputs": [
    {
     "data": {
      "text/plain": [
       "array([50, 50, 50, 50,  0,  0,  0, 50, 50,  0,  0, 50, 50, 50,  0,  0,  0,\n",
       "        0, 50, 50,  0, 50, 50,  0, 50, 50, 50, 50, 50, 50, 50, 50,  0, 50,\n",
       "       50, 50, 50, 50, 50, 50, 50, 50, 50, 50, 50, 50, 50, 50, 50, 50, 50,\n",
       "       50, 50, 50, 50, 50, 50, 50, 50, 50, 50,  0, 50, 50, 50, 50, 50, 50,\n",
       "       50, 50, 50, 50, 50, 50, 50, 50, 50, 50, 50, 50, 50, 50, 50, 50,  0,\n",
       "       50, 50, 50, 50, 50, 50, 50, 50, 50, 50, 50, 50, 50, 50, 50, 50, 50,\n",
       "       50, 50, 50,  0, 50, 50, 50, 50, 50, 50, 50, 50, 50, 50, 50, 50, 50,\n",
       "       50, 50, 50, 50])"
      ]
     },
     "execution_count": 16,
     "metadata": {},
     "output_type": "execute_result"
    }
   ],
   "source": [
    "aps_108, am_108 = an.sa_123_1561.snps_from_aps_value(108, am_22_73)\n",
    "aps_108"
   ]
  },
  {
   "cell_type": "code",
   "execution_count": 17,
   "metadata": {
    "collapsed": false
   },
   "outputs": [
    {
     "data": {
      "text/html": [
       "\n",
       "\n",
       "    <div class=\"bk-root\">\n",
       "        <div class=\"plotdiv\" id=\"5bf95971-19dd-4b06-9900-bf439ba00873\"></div>\n",
       "    </div>\n",
       "<script type=\"text/javascript\">\n",
       "  \n",
       "  (function(global) {\n",
       "    function now() {\n",
       "      return new Date();\n",
       "    }\n",
       "  \n",
       "    if (typeof (window._bokeh_onload_callbacks) === \"undefined\") {\n",
       "      window._bokeh_onload_callbacks = [];\n",
       "    }\n",
       "  \n",
       "    function run_callbacks() {\n",
       "      window._bokeh_onload_callbacks.forEach(function(callback) { callback() });\n",
       "      delete window._bokeh_onload_callbacks\n",
       "      console.info(\"Bokeh: all callbacks have finished\");\n",
       "    }\n",
       "  \n",
       "    function load_libs(js_urls, callback) {\n",
       "      window._bokeh_onload_callbacks.push(callback);\n",
       "      if (window._bokeh_is_loading > 0) {\n",
       "        console.log(\"Bokeh: BokehJS is being loaded, scheduling callback at\", now());\n",
       "        return null;\n",
       "      }\n",
       "      if (js_urls == null || js_urls.length === 0) {\n",
       "        run_callbacks();\n",
       "        return null;\n",
       "      }\n",
       "      console.log(\"Bokeh: BokehJS not loaded, scheduling load and callback at\", now());\n",
       "      window._bokeh_is_loading = js_urls.length;\n",
       "      for (var i = 0; i < js_urls.length; i++) {\n",
       "        var url = js_urls[i];\n",
       "        var s = document.createElement('script');\n",
       "        s.src = url;\n",
       "        s.async = false;\n",
       "        s.onreadystatechange = s.onload = function() {\n",
       "          window._bokeh_is_loading--;\n",
       "          if (window._bokeh_is_loading === 0) {\n",
       "            console.log(\"Bokeh: all BokehJS libraries loaded\");\n",
       "            run_callbacks()\n",
       "          }\n",
       "        };\n",
       "        s.onerror = function() {\n",
       "          console.warn(\"failed to load library \" + url);\n",
       "        };\n",
       "        console.log(\"Bokeh: injecting script tag for BokehJS library: \", url);\n",
       "        document.getElementsByTagName(\"head\")[0].appendChild(s);\n",
       "      }\n",
       "    };var element = document.getElementById(\"5bf95971-19dd-4b06-9900-bf439ba00873\");\n",
       "    if (element == null) {\n",
       "      console.log(\"Bokeh: ERROR: autoload.js configured with elementid '5bf95971-19dd-4b06-9900-bf439ba00873' but no matching script tag was found. \")\n",
       "      return false;\n",
       "    }\n",
       "  \n",
       "    var js_urls = [];\n",
       "  \n",
       "    var inline_js = [\n",
       "      function(Bokeh) {\n",
       "        Bokeh.$(function() {\n",
       "            var docs_json = {\"8c7c2d4b-7dc0-4428-965c-c23449d28250\":{\"roots\":{\"references\":[{\"attributes\":{\"data_source\":{\"id\":\"5832a86f-c70f-4251-a06d-03e259ca12fe\",\"type\":\"ColumnDataSource\"},\"glyph\":{\"id\":\"ff06411f-a0af-4dfa-8eba-7fb43ed8eff0\",\"type\":\"Line\"},\"hover_glyph\":null,\"nonselection_glyph\":{\"id\":\"6b1f3f67-b677-4222-a324-5b7a4bcd77f1\",\"type\":\"Line\"},\"selection_glyph\":null},\"id\":\"4d995a68-e16d-4bdc-aa05-4bc7aa32465b\",\"type\":\"GlyphRenderer\"},{\"attributes\":{\"active_drag\":\"auto\",\"active_scroll\":\"auto\",\"active_tap\":\"auto\",\"tools\":[{\"id\":\"fb4ad959-d05e-4220-aec5-7bcfb92d2927\",\"type\":\"PanTool\"},{\"id\":\"12e011b1-9848-4078-b0b2-daccad92079e\",\"type\":\"WheelZoomTool\"},{\"id\":\"de67b8a9-4857-4a2e-b2e6-7e5c9211e9aa\",\"type\":\"BoxZoomTool\"},{\"id\":\"9f6c57af-ca40-4998-a58d-76b5d7e319cd\",\"type\":\"SaveTool\"},{\"id\":\"62e028a9-6906-43ed-8d5a-43e12656750c\",\"type\":\"ResetTool\"},{\"id\":\"a57f02dc-d092-4c0c-81dc-53a690094e0a\",\"type\":\"HelpTool\"}]},\"id\":\"6b562b5c-1e52-48dd-8aab-c1d6cc5615ac\",\"type\":\"Toolbar\"},{\"attributes\":{\"callback\":null,\"end\":36.300000000000004},\"id\":\"7f2318c4-6c10-4c5b-8596-d12a4cf10d31\",\"type\":\"Range1d\"},{\"attributes\":{\"plot\":{\"id\":\"1486124a-2b89-40e8-9392-d388cb3fadc9\",\"subtype\":\"Figure\",\"type\":\"Plot\"}},\"id\":\"fb4ad959-d05e-4220-aec5-7bcfb92d2927\",\"type\":\"PanTool\"},{\"attributes\":{\"plot\":{\"id\":\"1486124a-2b89-40e8-9392-d388cb3fadc9\",\"subtype\":\"Figure\",\"type\":\"Plot\"},\"ticker\":{\"id\":\"13f1d1ac-b43b-426a-88ae-92acdac9fa06\",\"type\":\"BasicTicker\"}},\"id\":\"74c08e6a-f9dd-467f-a96a-55d2bf5a98dc\",\"type\":\"Grid\"},{\"attributes\":{\"dimension\":1,\"plot\":{\"id\":\"1486124a-2b89-40e8-9392-d388cb3fadc9\",\"subtype\":\"Figure\",\"type\":\"Plot\"},\"ticker\":{\"id\":\"28a23257-e5c2-4014-97cc-26e334bfcd2c\",\"type\":\"BasicTicker\"}},\"id\":\"8ad3482c-d1a9-42c4-a983-481ebae5ace1\",\"type\":\"Grid\"},{\"attributes\":{\"formatter\":{\"id\":\"c1e61e30-a1e6-4950-b1af-9f6468a74609\",\"type\":\"BasicTickFormatter\"},\"plot\":{\"id\":\"1486124a-2b89-40e8-9392-d388cb3fadc9\",\"subtype\":\"Figure\",\"type\":\"Plot\"},\"ticker\":{\"id\":\"28a23257-e5c2-4014-97cc-26e334bfcd2c\",\"type\":\"BasicTicker\"}},\"id\":\"f7af3e37-5b0c-4be3-9e2a-5dc5d0a96849\",\"type\":\"LinearAxis\"},{\"attributes\":{\"line_alpha\":{\"value\":0.1},\"line_color\":{\"value\":\"#1f77b4\"},\"x\":{\"field\":\"x\"},\"y\":{\"field\":\"y\"}},\"id\":\"6b1f3f67-b677-4222-a324-5b7a4bcd77f1\",\"type\":\"Line\"},{\"attributes\":{\"bottom_units\":\"screen\",\"fill_alpha\":{\"value\":0.5},\"fill_color\":{\"value\":\"lightgrey\"},\"left_units\":\"screen\",\"level\":\"overlay\",\"line_alpha\":{\"value\":1.0},\"line_color\":{\"value\":\"black\"},\"line_dash\":[4,4],\"line_width\":{\"value\":2},\"plot\":null,\"render_mode\":\"css\",\"right_units\":\"screen\",\"top_units\":\"screen\"},\"id\":\"f2cdb4a3-b74d-4fb2-a873-e822bb9c8f7f\",\"type\":\"BoxAnnotation\"},{\"attributes\":{\"plot\":{\"id\":\"1486124a-2b89-40e8-9392-d388cb3fadc9\",\"subtype\":\"Figure\",\"type\":\"Plot\"}},\"id\":\"a57f02dc-d092-4c0c-81dc-53a690094e0a\",\"type\":\"HelpTool\"},{\"attributes\":{\"plot\":{\"id\":\"1486124a-2b89-40e8-9392-d388cb3fadc9\",\"subtype\":\"Figure\",\"type\":\"Plot\"}},\"id\":\"9f6c57af-ca40-4998-a58d-76b5d7e319cd\",\"type\":\"SaveTool\"},{\"attributes\":{},\"id\":\"28a23257-e5c2-4014-97cc-26e334bfcd2c\",\"type\":\"BasicTicker\"},{\"attributes\":{},\"id\":\"c1e61e30-a1e6-4950-b1af-9f6468a74609\",\"type\":\"BasicTickFormatter\"},{\"attributes\":{\"line_color\":{\"value\":\"#1f77b4\"},\"x\":{\"field\":\"x\"},\"y\":{\"field\":\"y\"}},\"id\":\"ff06411f-a0af-4dfa-8eba-7fb43ed8eff0\",\"type\":\"Line\"},{\"attributes\":{},\"id\":\"5c2fc837-b88d-4836-bc84-6c35e8bb16d6\",\"type\":\"ToolEvents\"},{\"attributes\":{\"callback\":null,\"column_names\":[\"y\",\"x\"],\"data\":{\"x\":[-0.5,-0.5,1.5,1.5,2.5,2.5,3.5,3.5,4.5,4.5,5.5,5.5],\"y\":[0.0,0.0,0.0,18.0,18.0,33.0,33.0,12.0,12.0,10.0,10.0,0.0]}},\"id\":\"5832a86f-c70f-4251-a06d-03e259ca12fe\",\"type\":\"ColumnDataSource\"},{\"attributes\":{\"formatter\":{\"id\":\"6b61161e-5333-42c0-919a-40852f9370b9\",\"type\":\"BasicTickFormatter\"},\"plot\":{\"id\":\"1486124a-2b89-40e8-9392-d388cb3fadc9\",\"subtype\":\"Figure\",\"type\":\"Plot\"},\"ticker\":{\"id\":\"13f1d1ac-b43b-426a-88ae-92acdac9fa06\",\"type\":\"BasicTicker\"}},\"id\":\"1fb9fb5d-ec54-405b-8192-54fea24eb9b2\",\"type\":\"LinearAxis\"},{\"attributes\":{\"plot\":null,\"text\":null},\"id\":\"fa729112-6eab-4ed7-bf89-077908db8a86\",\"type\":\"Title\"},{\"attributes\":{\"overlay\":{\"id\":\"f2cdb4a3-b74d-4fb2-a873-e822bb9c8f7f\",\"type\":\"BoxAnnotation\"},\"plot\":{\"id\":\"1486124a-2b89-40e8-9392-d388cb3fadc9\",\"subtype\":\"Figure\",\"type\":\"Plot\"}},\"id\":\"de67b8a9-4857-4a2e-b2e6-7e5c9211e9aa\",\"type\":\"BoxZoomTool\"},{\"attributes\":{},\"id\":\"6b61161e-5333-42c0-919a-40852f9370b9\",\"type\":\"BasicTickFormatter\"},{\"attributes\":{\"callback\":null,\"end\":6.5,\"start\":-0.5},\"id\":\"39e3d61b-b46f-4d12-8567-80c1d4ade724\",\"type\":\"Range1d\"},{\"attributes\":{},\"id\":\"13f1d1ac-b43b-426a-88ae-92acdac9fa06\",\"type\":\"BasicTicker\"},{\"attributes\":{\"below\":[{\"id\":\"1fb9fb5d-ec54-405b-8192-54fea24eb9b2\",\"type\":\"LinearAxis\"}],\"left\":[{\"id\":\"f7af3e37-5b0c-4be3-9e2a-5dc5d0a96849\",\"type\":\"LinearAxis\"}],\"plot_height\":400,\"plot_width\":900,\"renderers\":[{\"id\":\"1fb9fb5d-ec54-405b-8192-54fea24eb9b2\",\"type\":\"LinearAxis\"},{\"id\":\"74c08e6a-f9dd-467f-a96a-55d2bf5a98dc\",\"type\":\"Grid\"},{\"id\":\"f7af3e37-5b0c-4be3-9e2a-5dc5d0a96849\",\"type\":\"LinearAxis\"},{\"id\":\"8ad3482c-d1a9-42c4-a983-481ebae5ace1\",\"type\":\"Grid\"},{\"id\":\"f2cdb4a3-b74d-4fb2-a873-e822bb9c8f7f\",\"type\":\"BoxAnnotation\"},{\"id\":\"4d995a68-e16d-4bdc-aa05-4bc7aa32465b\",\"type\":\"GlyphRenderer\"}],\"title\":{\"id\":\"fa729112-6eab-4ed7-bf89-077908db8a86\",\"type\":\"Title\"},\"tool_events\":{\"id\":\"5c2fc837-b88d-4836-bc84-6c35e8bb16d6\",\"type\":\"ToolEvents\"},\"toolbar\":{\"id\":\"6b562b5c-1e52-48dd-8aab-c1d6cc5615ac\",\"type\":\"Toolbar\"},\"toolbar_location\":null,\"x_range\":{\"id\":\"39e3d61b-b46f-4d12-8567-80c1d4ade724\",\"type\":\"Range1d\"},\"y_range\":{\"id\":\"7f2318c4-6c10-4c5b-8596-d12a4cf10d31\",\"type\":\"Range1d\"}},\"id\":\"1486124a-2b89-40e8-9392-d388cb3fadc9\",\"subtype\":\"Figure\",\"type\":\"Plot\"},{\"attributes\":{\"plot\":{\"id\":\"1486124a-2b89-40e8-9392-d388cb3fadc9\",\"subtype\":\"Figure\",\"type\":\"Plot\"}},\"id\":\"62e028a9-6906-43ed-8d5a-43e12656750c\",\"type\":\"ResetTool\"},{\"attributes\":{\"plot\":{\"id\":\"1486124a-2b89-40e8-9392-d388cb3fadc9\",\"subtype\":\"Figure\",\"type\":\"Plot\"}},\"id\":\"12e011b1-9848-4078-b0b2-daccad92079e\",\"type\":\"WheelZoomTool\"}],\"root_ids\":[\"1486124a-2b89-40e8-9392-d388cb3fadc9\"]},\"title\":\"Bokeh Application\",\"version\":\"0.12.0\"}};\n",
       "            var render_items = [{\"docid\":\"8c7c2d4b-7dc0-4428-965c-c23449d28250\",\"elementid\":\"5bf95971-19dd-4b06-9900-bf439ba00873\",\"modelid\":\"1486124a-2b89-40e8-9392-d388cb3fadc9\",\"notebook_comms_target\":\"d1ae469c-83cf-4c1b-9989-11112b5b91be\"}];\n",
       "            \n",
       "            Bokeh.embed.embed_items(docs_json, render_items);\n",
       "        });\n",
       "      },\n",
       "      function(Bokeh) {\n",
       "      }\n",
       "    ];\n",
       "  \n",
       "    function run_inline_js() {\n",
       "      for (var i = 0; i < inline_js.length; i++) {\n",
       "        inline_js[i](window.Bokeh);\n",
       "      }\n",
       "    }\n",
       "  \n",
       "    if (window._bokeh_is_loading === 0) {\n",
       "      console.log(\"Bokeh: BokehJS loaded, going straight to plotting\");\n",
       "      run_inline_js();\n",
       "    } else {\n",
       "      load_libs(js_urls, function() {\n",
       "        console.log(\"Bokeh: BokehJS plotting callback run at\", now());\n",
       "        run_inline_js();\n",
       "      });\n",
       "    }\n",
       "  }(this));\n",
       "</script>"
      ]
     },
     "metadata": {},
     "output_type": "display_data"
    },
    {
     "data": {
      "text/html": [
       "<p><code>&lt;Bokeh Notebook handle for <strong>In[17]</strong>&gt;</code></p>"
      ],
      "text/plain": [
       "<bokeh.io._CommsHandle at 0x7f0e1b9a3210>"
      ]
     },
     "execution_count": 17,
     "metadata": {},
     "output_type": "execute_result"
    }
   ],
   "source": [
    "count_data = sa_62_1265.unique_snps_per_allele(am_22_73)\n",
    "plt_obj = smcp(count_data)\n",
    "plt = plt_obj.do_plot()\n",
    "show(plt)"
   ]
  },
  {
   "cell_type": "code",
   "execution_count": 18,
   "metadata": {
    "collapsed": false
   },
   "outputs": [
    {
     "data": {
      "text/plain": [
       "array([(2, 18), (3, 33), (4, 12), (5, 10)], \n",
       "      dtype=[('count', '<u2'), ('snps', '<u2')])"
      ]
     },
     "execution_count": 18,
     "metadata": {},
     "output_type": "execute_result"
    }
   ],
   "source": [
    "count_data"
   ]
  },
  {
   "cell_type": "code",
   "execution_count": 19,
   "metadata": {
    "collapsed": false
   },
   "outputs": [
    {
     "data": {
      "text/plain": [
       "array([ 0, 73, 73, 22, 22,  0,  0,  0,  0,  0,  0,  0,  0,  0,  0,  0,  0,\n",
       "        0,  0,  0,  0,  0,  0,  0,  0,  0,  0,  0,  0,  0,  0,  0,  0,  0,\n",
       "        0,  1,  0,  0,  0,  0, 42,  0,  0,  0,  0,  0,  0,  0,  0,  0,  0,\n",
       "        0,  0,  0,  0,  0,  0,  0,  0,  0,  0,  0])"
      ]
     },
     "execution_count": 19,
     "metadata": {},
     "output_type": "execute_result"
    }
   ],
   "source": [
    "an.sa_62_1265.alleles_per_snp(am_22_73)"
   ]
  },
  {
   "cell_type": "code",
   "execution_count": 20,
   "metadata": {
    "collapsed": false
   },
   "outputs": [
    {
     "data": {
      "text/plain": [
       "array([ 0, 10, 10, 10, 10,  0,  0,  0,  0,  0,  0,  0,  0,  0,  0,  0,  0,\n",
       "        0,  0,  0,  0,  0,  0,  0,  0,  0,  0,  0,  0,  0,  0,  0,  0,  0,\n",
       "        0,  0,  0,  0,  0,  0, 10,  0,  0,  0,  0,  0,  0,  0,  0,  0,  0,\n",
       "        0,  0,  0,  0,  0,  0,  0,  0,  0,  0,  0])"
      ]
     },
     "execution_count": 20,
     "metadata": {},
     "output_type": "execute_result"
    }
   ],
   "source": [
    "aps_5, am_5 = an.sa_62_1265.snps_from_aps_value(5, am_22_73)\n",
    "aps_5"
   ]
  },
  {
   "cell_type": "code",
   "execution_count": 21,
   "metadata": {
    "collapsed": false
   },
   "outputs": [
    {
     "data": {
      "text/plain": [
       "array([ 0, 12, 12, 12, 12,  0,  0,  0,  0,  0,  0,  0,  0,  0,  0,  0,  0,\n",
       "        0,  0,  0,  0,  0,  0,  0,  0,  0,  0,  0,  0,  0,  0,  0,  0,  0,\n",
       "        0,  0,  0,  0,  0,  0,  0,  0,  0,  0,  0,  0,  0,  0,  0,  0,  0,\n",
       "        0,  0,  0,  0,  0,  0,  0,  0,  0,  0,  0])"
      ]
     },
     "execution_count": 21,
     "metadata": {},
     "output_type": "execute_result"
    }
   ],
   "source": [
    "aps_4, am_4 = an.sa_62_1265.snps_from_aps_value(4, am_22_73)\n",
    "aps_4"
   ]
  },
  {
   "cell_type": "code",
   "execution_count": 22,
   "metadata": {
    "collapsed": false
   },
   "outputs": [
    {
     "data": {
      "text/plain": [
       "array([ 0, 33, 33,  0,  0,  0,  0,  0,  0,  0,  0,  0,  0,  0,  0,  0,  0,\n",
       "        0,  0,  0,  0,  0,  0,  0,  0,  0,  0,  0,  0,  0,  0,  0,  0,  0,\n",
       "        0,  1,  0,  0,  0,  0, 32,  0,  0,  0,  0,  0,  0,  0,  0,  0,  0,\n",
       "        0,  0,  0,  0,  0,  0,  0,  0,  0,  0,  0])"
      ]
     },
     "execution_count": 22,
     "metadata": {},
     "output_type": "execute_result"
    }
   ],
   "source": [
    "aps_3, am_3 = an.sa_62_1265.snps_from_aps_value(3, am_22_73)\n",
    "aps_3"
   ]
  },
  {
   "cell_type": "code",
   "execution_count": 23,
   "metadata": {
    "collapsed": false
   },
   "outputs": [
    {
     "data": {
      "text/plain": [
       "array([ 0, 18, 18,  0,  0,  0,  0,  0,  0,  0,  0,  0,  0,  0,  0,  0,  0,\n",
       "        0,  0,  0,  0,  0,  0,  0,  0,  0,  0,  0,  0,  0,  0,  0,  0,  0,\n",
       "        0,  0,  0,  0,  0,  0,  0,  0,  0,  0,  0,  0,  0,  0,  0,  0,  0,\n",
       "        0,  0,  0,  0,  0,  0,  0,  0,  0,  0,  0])"
      ]
     },
     "execution_count": 23,
     "metadata": {},
     "output_type": "execute_result"
    }
   ],
   "source": [
    "aps_2, am_2 = an.sa_62_1265.snps_from_aps_value(2, am_22_73)\n",
    "aps_2"
   ]
  },
  {
   "cell_type": "code",
   "execution_count": 24,
   "metadata": {
    "collapsed": false
   },
   "outputs": [
    {
     "data": {
      "text/html": [
       "\n",
       "\n",
       "    <div class=\"bk-root\">\n",
       "        <div class=\"plotdiv\" id=\"6552ba6e-d4f9-4197-b09f-8566f1ae3314\"></div>\n",
       "    </div>\n",
       "<script type=\"text/javascript\">\n",
       "  \n",
       "  (function(global) {\n",
       "    function now() {\n",
       "      return new Date();\n",
       "    }\n",
       "  \n",
       "    if (typeof (window._bokeh_onload_callbacks) === \"undefined\") {\n",
       "      window._bokeh_onload_callbacks = [];\n",
       "    }\n",
       "  \n",
       "    function run_callbacks() {\n",
       "      window._bokeh_onload_callbacks.forEach(function(callback) { callback() });\n",
       "      delete window._bokeh_onload_callbacks\n",
       "      console.info(\"Bokeh: all callbacks have finished\");\n",
       "    }\n",
       "  \n",
       "    function load_libs(js_urls, callback) {\n",
       "      window._bokeh_onload_callbacks.push(callback);\n",
       "      if (window._bokeh_is_loading > 0) {\n",
       "        console.log(\"Bokeh: BokehJS is being loaded, scheduling callback at\", now());\n",
       "        return null;\n",
       "      }\n",
       "      if (js_urls == null || js_urls.length === 0) {\n",
       "        run_callbacks();\n",
       "        return null;\n",
       "      }\n",
       "      console.log(\"Bokeh: BokehJS not loaded, scheduling load and callback at\", now());\n",
       "      window._bokeh_is_loading = js_urls.length;\n",
       "      for (var i = 0; i < js_urls.length; i++) {\n",
       "        var url = js_urls[i];\n",
       "        var s = document.createElement('script');\n",
       "        s.src = url;\n",
       "        s.async = false;\n",
       "        s.onreadystatechange = s.onload = function() {\n",
       "          window._bokeh_is_loading--;\n",
       "          if (window._bokeh_is_loading === 0) {\n",
       "            console.log(\"Bokeh: all BokehJS libraries loaded\");\n",
       "            run_callbacks()\n",
       "          }\n",
       "        };\n",
       "        s.onerror = function() {\n",
       "          console.warn(\"failed to load library \" + url);\n",
       "        };\n",
       "        console.log(\"Bokeh: injecting script tag for BokehJS library: \", url);\n",
       "        document.getElementsByTagName(\"head\")[0].appendChild(s);\n",
       "      }\n",
       "    };var element = document.getElementById(\"6552ba6e-d4f9-4197-b09f-8566f1ae3314\");\n",
       "    if (element == null) {\n",
       "      console.log(\"Bokeh: ERROR: autoload.js configured with elementid '6552ba6e-d4f9-4197-b09f-8566f1ae3314' but no matching script tag was found. \")\n",
       "      return false;\n",
       "    }\n",
       "  \n",
       "    var js_urls = [];\n",
       "  \n",
       "    var inline_js = [\n",
       "      function(Bokeh) {\n",
       "        Bokeh.$(function() {\n",
       "            var docs_json = {\"724744ef-2fd6-4292-85dd-6688d4921e21\":{\"roots\":{\"references\":[{\"attributes\":{},\"id\":\"3a25dd89-0432-479c-9e42-e37e0f7b5ec9\",\"type\":\"BasicTicker\"},{\"attributes\":{\"data_source\":{\"id\":\"a2b0c92e-9186-41aa-bdcc-c394689f7784\",\"type\":\"ColumnDataSource\"},\"glyph\":{\"id\":\"93858c60-7738-40df-a872-0d3d27adbe30\",\"type\":\"Line\"},\"hover_glyph\":null,\"nonselection_glyph\":{\"id\":\"082217fe-1be2-4070-a60b-7bd0b177bcbe\",\"type\":\"Line\"},\"selection_glyph\":null},\"id\":\"e6dcfab4-244e-4a67-b19d-1da90f9fc0fa\",\"type\":\"GlyphRenderer\"},{\"attributes\":{\"plot\":{\"id\":\"f41df127-7641-44f4-a9e1-ac70561767b5\",\"subtype\":\"Figure\",\"type\":\"Plot\"}},\"id\":\"0b3ff3e7-532c-4381-acd4-dcc96c859733\",\"type\":\"WheelZoomTool\"},{\"attributes\":{\"formatter\":{\"id\":\"aa3091b7-8e87-45b6-a45c-078226bafa02\",\"type\":\"BasicTickFormatter\"},\"plot\":{\"id\":\"f41df127-7641-44f4-a9e1-ac70561767b5\",\"subtype\":\"Figure\",\"type\":\"Plot\"},\"ticker\":{\"id\":\"dfcd6edd-30dd-4365-af35-c4a3f060d7f5\",\"type\":\"BasicTicker\"}},\"id\":\"976ec818-630d-4a47-bdc6-f9f0c47e69e4\",\"type\":\"LinearAxis\"},{\"attributes\":{\"callback\":null,\"end\":4.5,\"start\":-0.5},\"id\":\"a487193b-8a50-4cec-a8ea-05f9c4bd187a\",\"type\":\"Range1d\"},{\"attributes\":{\"overlay\":{\"id\":\"e0e44076-3d6d-429a-963b-baf0853da0da\",\"type\":\"BoxAnnotation\"},\"plot\":{\"id\":\"f41df127-7641-44f4-a9e1-ac70561767b5\",\"subtype\":\"Figure\",\"type\":\"Plot\"}},\"id\":\"2148f8fe-0c68-4408-80a2-0650cad23671\",\"type\":\"BoxZoomTool\"},{\"attributes\":{\"dimension\":1,\"plot\":{\"id\":\"f41df127-7641-44f4-a9e1-ac70561767b5\",\"subtype\":\"Figure\",\"type\":\"Plot\"},\"ticker\":{\"id\":\"dfcd6edd-30dd-4365-af35-c4a3f060d7f5\",\"type\":\"BasicTicker\"}},\"id\":\"df2314f0-0950-4a3c-8fe4-af6669f4a6e8\",\"type\":\"Grid\"},{\"attributes\":{\"plot\":{\"id\":\"f41df127-7641-44f4-a9e1-ac70561767b5\",\"subtype\":\"Figure\",\"type\":\"Plot\"}},\"id\":\"61928f81-f67c-4627-883d-8fd632f79a7c\",\"type\":\"ResetTool\"},{\"attributes\":{\"active_drag\":\"auto\",\"active_scroll\":\"auto\",\"active_tap\":\"auto\",\"tools\":[{\"id\":\"a7555649-5fee-4b13-8cbf-3d71f8f1ae58\",\"type\":\"PanTool\"},{\"id\":\"0b3ff3e7-532c-4381-acd4-dcc96c859733\",\"type\":\"WheelZoomTool\"},{\"id\":\"2148f8fe-0c68-4408-80a2-0650cad23671\",\"type\":\"BoxZoomTool\"},{\"id\":\"aa2f24bd-876d-4594-b957-676f5d8a9ff3\",\"type\":\"SaveTool\"},{\"id\":\"61928f81-f67c-4627-883d-8fd632f79a7c\",\"type\":\"ResetTool\"},{\"id\":\"c84f250b-3597-4e1b-be15-68d5fc0582b0\",\"type\":\"HelpTool\"}]},\"id\":\"1b80eebd-d99a-41de-a9e4-361ebf5ea518\",\"type\":\"Toolbar\"},{\"attributes\":{\"plot\":{\"id\":\"f41df127-7641-44f4-a9e1-ac70561767b5\",\"subtype\":\"Figure\",\"type\":\"Plot\"},\"ticker\":{\"id\":\"3a25dd89-0432-479c-9e42-e37e0f7b5ec9\",\"type\":\"BasicTicker\"}},\"id\":\"d7d3b826-89cf-4537-a2b8-e00855e55992\",\"type\":\"Grid\"},{\"attributes\":{\"below\":[{\"id\":\"db6e5ca0-ca05-4731-baf2-c08eddd8c5a4\",\"type\":\"LinearAxis\"}],\"left\":[{\"id\":\"976ec818-630d-4a47-bdc6-f9f0c47e69e4\",\"type\":\"LinearAxis\"}],\"plot_height\":400,\"plot_width\":900,\"renderers\":[{\"id\":\"db6e5ca0-ca05-4731-baf2-c08eddd8c5a4\",\"type\":\"LinearAxis\"},{\"id\":\"d7d3b826-89cf-4537-a2b8-e00855e55992\",\"type\":\"Grid\"},{\"id\":\"976ec818-630d-4a47-bdc6-f9f0c47e69e4\",\"type\":\"LinearAxis\"},{\"id\":\"df2314f0-0950-4a3c-8fe4-af6669f4a6e8\",\"type\":\"Grid\"},{\"id\":\"e0e44076-3d6d-429a-963b-baf0853da0da\",\"type\":\"BoxAnnotation\"},{\"id\":\"e6dcfab4-244e-4a67-b19d-1da90f9fc0fa\",\"type\":\"GlyphRenderer\"}],\"title\":{\"id\":\"4509cf76-154d-42c6-b71b-b949d8894a95\",\"type\":\"Title\"},\"tool_events\":{\"id\":\"ccc42c15-be7e-453a-9c16-b329804ea0bf\",\"type\":\"ToolEvents\"},\"toolbar\":{\"id\":\"1b80eebd-d99a-41de-a9e4-361ebf5ea518\",\"type\":\"Toolbar\"},\"toolbar_location\":null,\"x_range\":{\"id\":\"a487193b-8a50-4cec-a8ea-05f9c4bd187a\",\"type\":\"Range1d\"},\"y_range\":{\"id\":\"09033e2c-b5ec-492a-bd9b-a51ec50880e6\",\"type\":\"Range1d\"}},\"id\":\"f41df127-7641-44f4-a9e1-ac70561767b5\",\"subtype\":\"Figure\",\"type\":\"Plot\"},{\"attributes\":{},\"id\":\"dfcd6edd-30dd-4365-af35-c4a3f060d7f5\",\"type\":\"BasicTicker\"},{\"attributes\":{},\"id\":\"ccc42c15-be7e-453a-9c16-b329804ea0bf\",\"type\":\"ToolEvents\"},{\"attributes\":{\"callback\":null,\"end\":79.2},\"id\":\"09033e2c-b5ec-492a-bd9b-a51ec50880e6\",\"type\":\"Range1d\"},{\"attributes\":{\"plot\":{\"id\":\"f41df127-7641-44f4-a9e1-ac70561767b5\",\"subtype\":\"Figure\",\"type\":\"Plot\"}},\"id\":\"aa2f24bd-876d-4594-b957-676f5d8a9ff3\",\"type\":\"SaveTool\"},{\"attributes\":{},\"id\":\"aa3091b7-8e87-45b6-a45c-078226bafa02\",\"type\":\"BasicTickFormatter\"},{\"attributes\":{\"bottom_units\":\"screen\",\"fill_alpha\":{\"value\":0.5},\"fill_color\":{\"value\":\"lightgrey\"},\"left_units\":\"screen\",\"level\":\"overlay\",\"line_alpha\":{\"value\":1.0},\"line_color\":{\"value\":\"black\"},\"line_dash\":[4,4],\"line_width\":{\"value\":2},\"plot\":null,\"render_mode\":\"css\",\"right_units\":\"screen\",\"top_units\":\"screen\"},\"id\":\"e0e44076-3d6d-429a-963b-baf0853da0da\",\"type\":\"BoxAnnotation\"},{\"attributes\":{\"formatter\":{\"id\":\"2290dcff-6917-4e65-aaa4-c1854a77ea36\",\"type\":\"BasicTickFormatter\"},\"plot\":{\"id\":\"f41df127-7641-44f4-a9e1-ac70561767b5\",\"subtype\":\"Figure\",\"type\":\"Plot\"},\"ticker\":{\"id\":\"3a25dd89-0432-479c-9e42-e37e0f7b5ec9\",\"type\":\"BasicTicker\"}},\"id\":\"db6e5ca0-ca05-4731-baf2-c08eddd8c5a4\",\"type\":\"LinearAxis\"},{\"attributes\":{\"plot\":{\"id\":\"f41df127-7641-44f4-a9e1-ac70561767b5\",\"subtype\":\"Figure\",\"type\":\"Plot\"}},\"id\":\"a7555649-5fee-4b13-8cbf-3d71f8f1ae58\",\"type\":\"PanTool\"},{\"attributes\":{\"callback\":null,\"column_names\":[\"y\",\"x\"],\"data\":{\"x\":[-0.5,-0.5,1.5,1.5,2.5,2.5,3.5,3.5],\"y\":[0.0,0.0,0.0,72.0,72.0,1.0,1.0,0.0]}},\"id\":\"a2b0c92e-9186-41aa-bdcc-c394689f7784\",\"type\":\"ColumnDataSource\"},{\"attributes\":{\"plot\":{\"id\":\"f41df127-7641-44f4-a9e1-ac70561767b5\",\"subtype\":\"Figure\",\"type\":\"Plot\"}},\"id\":\"c84f250b-3597-4e1b-be15-68d5fc0582b0\",\"type\":\"HelpTool\"},{\"attributes\":{\"plot\":null,\"text\":null},\"id\":\"4509cf76-154d-42c6-b71b-b949d8894a95\",\"type\":\"Title\"},{\"attributes\":{},\"id\":\"2290dcff-6917-4e65-aaa4-c1854a77ea36\",\"type\":\"BasicTickFormatter\"},{\"attributes\":{\"line_alpha\":{\"value\":0.1},\"line_color\":{\"value\":\"#1f77b4\"},\"x\":{\"field\":\"x\"},\"y\":{\"field\":\"y\"}},\"id\":\"082217fe-1be2-4070-a60b-7bd0b177bcbe\",\"type\":\"Line\"},{\"attributes\":{\"line_color\":{\"value\":\"#1f77b4\"},\"x\":{\"field\":\"x\"},\"y\":{\"field\":\"y\"}},\"id\":\"93858c60-7738-40df-a872-0d3d27adbe30\",\"type\":\"Line\"}],\"root_ids\":[\"f41df127-7641-44f4-a9e1-ac70561767b5\"]},\"title\":\"Bokeh Application\",\"version\":\"0.12.0\"}};\n",
       "            var render_items = [{\"docid\":\"724744ef-2fd6-4292-85dd-6688d4921e21\",\"elementid\":\"6552ba6e-d4f9-4197-b09f-8566f1ae3314\",\"modelid\":\"f41df127-7641-44f4-a9e1-ac70561767b5\",\"notebook_comms_target\":\"eb7e8d78-3d27-4adc-a10a-2c9c93d396c1\"}];\n",
       "            \n",
       "            Bokeh.embed.embed_items(docs_json, render_items);\n",
       "        });\n",
       "      },\n",
       "      function(Bokeh) {\n",
       "      }\n",
       "    ];\n",
       "  \n",
       "    function run_inline_js() {\n",
       "      for (var i = 0; i < inline_js.length; i++) {\n",
       "        inline_js[i](window.Bokeh);\n",
       "      }\n",
       "    }\n",
       "  \n",
       "    if (window._bokeh_is_loading === 0) {\n",
       "      console.log(\"Bokeh: BokehJS loaded, going straight to plotting\");\n",
       "      run_inline_js();\n",
       "    } else {\n",
       "      load_libs(js_urls, function() {\n",
       "        console.log(\"Bokeh: BokehJS plotting callback run at\", now());\n",
       "        run_inline_js();\n",
       "      });\n",
       "    }\n",
       "  }(this));\n",
       "</script>"
      ]
     },
     "metadata": {},
     "output_type": "display_data"
    },
    {
     "data": {
      "text/html": [
       "<p><code>&lt;Bokeh Notebook handle for <strong>In[24]</strong>&gt;</code></p>"
      ],
      "text/plain": [
       "<bokeh.io._CommsHandle at 0x7f0e19b45d10>"
      ]
     },
     "execution_count": 24,
     "metadata": {},
     "output_type": "execute_result"
    }
   ],
   "source": [
    "count_data = sa_193_843.unique_snps_per_allele(am_22_73)\n",
    "plt_obj = smcp(count_data)\n",
    "plt = plt_obj.do_plot()\n",
    "show(plt)"
   ]
  },
  {
   "cell_type": "code",
   "execution_count": 25,
   "metadata": {
    "collapsed": false
   },
   "outputs": [
    {
     "data": {
      "text/plain": [
       "array([(2, 72), (3, 1)], \n",
       "      dtype=[('count', '<u2'), ('snps', '<u2')])"
      ]
     },
     "execution_count": 25,
     "metadata": {},
     "output_type": "execute_result"
    }
   ],
   "source": [
    "count_data"
   ]
  },
  {
   "cell_type": "code",
   "execution_count": 26,
   "metadata": {
    "collapsed": false
   },
   "outputs": [
    {
     "data": {
      "text/plain": [
       "array([ 0,  0,  0,  0,  0,  0,  0,  0,  0,  0,  0,  0,  0,  0,  0,  0,  0,\n",
       "        0,  0,  0,  0,  0,  0,  0,  0,  0,  0,  0,  0,  0,  0,  0,  0,  0,\n",
       "        0,  0,  0,  0,  0,  0,  0,  0,  0,  0,  0,  0,  0,  0,  0,  0,  0,\n",
       "        0,  0,  0,  0,  0,  0,  0,  0,  0,  0,  0,  0,  0,  0,  0,  0,  0,\n",
       "        0,  0,  0,  0,  0,  0,  0,  0,  0,  0,  0,  0,  0,  0,  0,  0,  0,\n",
       "        0,  0,  0,  0,  0,  0,  0,  0, 73, 73,  0,  0,  0,  0,  0,  0,  0,\n",
       "        0,  0,  0,  0,  0,  0,  0,  0,  0,  0,  0,  0,  0,  0,  0,  0,  0,\n",
       "        0,  0,  0,  0,  0,  0,  0,  0,  0,  0,  1,  0,  0,  0,  0,  0,  0,\n",
       "        0,  0,  0,  0,  0,  0,  0,  0,  0,  0,  0,  0,  0,  0,  0,  0,  0,\n",
       "        0,  0,  0,  0,  0,  0,  0,  0,  0,  0,  0,  0,  0,  0,  0,  0,  0,\n",
       "        0,  0,  0,  0,  0,  0,  0,  0,  0,  0,  0,  0,  0,  0,  0,  0,  0,\n",
       "        0,  0,  0,  0,  0,  0])"
      ]
     },
     "execution_count": 26,
     "metadata": {},
     "output_type": "execute_result"
    }
   ],
   "source": [
    "an.sa_193_843.alleles_per_snp(am_22_73)"
   ]
  }
 ],
 "metadata": {
  "anaconda-cloud": {},
  "kernelspec": {
   "display_name": "Python [Root]",
   "language": "python",
   "name": "Python [Root]"
  },
  "language_info": {
   "codemirror_mode": {
    "name": "ipython",
    "version": 2
   },
   "file_extension": ".py",
   "mimetype": "text/x-python",
   "name": "python",
   "nbconvert_exporter": "python",
   "pygments_lexer": "ipython2",
   "version": "2.7.12"
  }
 },
 "nbformat": 4,
 "nbformat_minor": 0
}
