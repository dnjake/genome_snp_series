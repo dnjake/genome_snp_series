{
 "cells": [
  {
   "cell_type": "code",
   "execution_count": 1,
   "metadata": {
    "collapsed": false
   },
   "outputs": [
    {
     "data": {
      "text/html": []
     },
     "metadata": {},
     "output_type": "display_data"
    },
    {
     "data": {
      "application/javascript": [
       "\n",
       "(function(global) {\n",
       "  function now() {\n",
       "    return new Date();\n",
       "  }\n",
       "\n",
       "  if (typeof (window._bokeh_onload_callbacks) === \"undefined\") {\n",
       "    window._bokeh_onload_callbacks = [];\n",
       "  }\n",
       "\n",
       "  function run_callbacks() {\n",
       "    window._bokeh_onload_callbacks.forEach(function(callback) { callback() });\n",
       "    delete window._bokeh_onload_callbacks\n",
       "    console.info(\"Bokeh: all callbacks have finished\");\n",
       "  }\n",
       "\n",
       "  function load_libs(js_urls, callback) {\n",
       "    window._bokeh_onload_callbacks.push(callback);\n",
       "    if (window._bokeh_is_loading > 0) {\n",
       "      console.log(\"Bokeh: BokehJS is being loaded, scheduling callback at\", now());\n",
       "      return null;\n",
       "    }\n",
       "    if (js_urls == null || js_urls.length === 0) {\n",
       "      run_callbacks();\n",
       "      return null;\n",
       "    }\n",
       "    console.log(\"Bokeh: BokehJS not loaded, scheduling load and callback at\", now());\n",
       "    window._bokeh_is_loading = js_urls.length;\n",
       "    for (var i = 0; i < js_urls.length; i++) {\n",
       "      var url = js_urls[i];\n",
       "      var s = document.createElement('script');\n",
       "      s.src = url;\n",
       "      s.async = false;\n",
       "      s.onreadystatechange = s.onload = function() {\n",
       "        window._bokeh_is_loading--;\n",
       "        if (window._bokeh_is_loading === 0) {\n",
       "          console.log(\"Bokeh: all BokehJS libraries loaded\");\n",
       "          run_callbacks()\n",
       "        }\n",
       "      };\n",
       "      s.onerror = function() {\n",
       "        console.warn(\"failed to load library \" + url);\n",
       "      };\n",
       "      console.log(\"Bokeh: injecting script tag for BokehJS library: \", url);\n",
       "      document.getElementsByTagName(\"head\")[0].appendChild(s);\n",
       "    }\n",
       "  };\n",
       "\n",
       "  var js_urls = ['https://cdn.pydata.org/bokeh/release/bokeh-0.12.0.min.js', 'https://cdn.pydata.org/bokeh/release/bokeh-widgets-0.12.0.min.js', 'https://cdn.pydata.org/bokeh/release/bokeh-compiler-0.12.0.min.js'];\n",
       "\n",
       "  var inline_js = [\n",
       "    function(Bokeh) {\n",
       "      Bokeh.set_log_level(\"info\");\n",
       "    },\n",
       "    \n",
       "    function(Bokeh) {\n",
       "      Bokeh.$(\"#11adf0e0-c7e4-404f-b815-8d7227435522\").text(\"BokehJS successfully loaded\");\n",
       "    },\n",
       "    function(Bokeh) {\n",
       "      console.log(\"Bokeh: injecting CSS: https://cdn.pydata.org/bokeh/release/bokeh-0.12.0.min.css\");\n",
       "      Bokeh.embed.inject_css(\"https://cdn.pydata.org/bokeh/release/bokeh-0.12.0.min.css\");\n",
       "      console.log(\"Bokeh: injecting CSS: https://cdn.pydata.org/bokeh/release/bokeh-widgets-0.12.0.min.css\");\n",
       "      Bokeh.embed.inject_css(\"https://cdn.pydata.org/bokeh/release/bokeh-widgets-0.12.0.min.css\");\n",
       "    }\n",
       "  ];\n",
       "\n",
       "  function run_inline_js() {\n",
       "    for (var i = 0; i < inline_js.length; i++) {\n",
       "      inline_js[i](window.Bokeh);\n",
       "    }\n",
       "  }\n",
       "\n",
       "  if (window._bokeh_is_loading === 0) {\n",
       "    console.log(\"Bokeh: BokehJS loaded, going straight to plotting\");\n",
       "    run_inline_js();\n",
       "  } else {\n",
       "    load_libs(js_urls, function() {\n",
       "      console.log(\"Bokeh: BokehJS plotting callback run at\", now());\n",
       "      run_inline_js();\n",
       "    });\n",
       "  }\n",
       "}(this));"
      ]
     },
     "metadata": {},
     "output_type": "display_data"
    }
   ],
   "source": [
    "import numpy as np\n",
    "from IPython.display import HTML\n",
    "from bokeh.plotting import output_notebook, show\n",
    "import genomes_dnj.lct_interval.series_plots as dm\n",
    "import genomes_dnj.lct_interval.anal_series as an\n",
    "import genomes_dnj.lct_interval_snp_anal.lct_interval_snp_anal as snp_anal\n",
    "import genomes_dnj.lct_interval.series_masks as sm\n",
    "from genomes_dnj.lct_interval.bokeh_match_count_plot import snp_match_count_plot_cls as smcp\n",
    "output_notebook(hide_banner=True)\n",
    "sa_117_1685 = snp_anal.series_anal_cls(dm.di_117_1685, sm.series_data)\n",
    "sa_123_1561 = snp_anal.series_anal_cls(dm.di_123_1561, sm.series_data)\n",
    "sa_62_1265 = snp_anal.series_anal_cls(dm.di_62_1265, sm.series_data)\n",
    "sa_193_843 = snp_anal.series_anal_cls(dm.di_193_843, sm.series_data)\n",
    "sa_22_35 = snp_anal.series_anal_cls(dm.di_22_35, sm.series_data)\n",
    "am_22_35 = dm.allele_mask_from_index(dm.di_22_35)\n",
    "am_22_35_not_219_26 = dm.yes_allele_mask_not_or_indexes(am_22_35, [dm.di_219_26])"
   ]
  },
  {
   "cell_type": "markdown",
   "metadata": {},
   "source": [
    "<h3>Series 22_35</h3>\n",
    "<div style=\"width:700px\">\n",
    "<p>\n",
    "This notebook documents the series 22_35 and its 22 SNPs. The 1000 genomes chromosome 2 samples\n",
    "are almost perfectly divided between those that express none of the 22_35 SNPs and those that \n",
    "express all of them.  There are 4972 samples that express none of them and 34 samples that express\n",
    "all 22. The remaining samples include 1 that expresses 21 of the SNPs and 1 that express 1 of them.\n",
    "<p>\n",
    "The series extends over 423,000 DNA bases.  It covers the upper part of the same chromosome 2 region\n",
    "as 117_1685, 123_1561, 62_1265, and 193_843.  All of the samples that express 22_35 also express\n",
    "123_1561. None of them express 117_1685, 62_1265, or 193_843.  But, all of them do express significant\n",
    "fragments of 117_1685, and 62_1265.\n",
    "<p>\n",
    "The 35 samples that express 22_35 include 26 that express 219_26.  Fragment analysis and analysis\n",
    "of series hierarchies show that the 9 samples that do not express 219_26 have a well defined\n",
    "common history.  All 9 samples belong to South Asian populations.  They include 5 that express\n",
    "the series 95_176 and 51_176.  The 146 SNPs in this pair of series are mostly expressed by 139\n",
    "East Asian samples that express its 146 SNPs along with the 10 from series 6_1503 and 4_1699 that\n",
    "are the lower region series of the EUR tree root.\n",
    "</div>"
   ]
  },
  {
   "cell_type": "code",
   "execution_count": 2,
   "metadata": {
    "collapsed": false
   },
   "outputs": [
    {
     "data": {
      "text/html": [
       "<p>\n",
       "<b>22_35 series</b>\n",
       "</p><p>\n",
       "<table>\n",
       "<thead><tr><th style=\"text-align:center\">index</th><th style=\"text-align:center\">first</th><th style=\"text-align:center\">length</th><th style=\"text-align:center\">snps</th><th style=\"text-align:center\">alleles</th><th style=\"text-align:center\" colspan=2>afr</th><th style=\"text-align:center\" colspan=2>afx</th><th style=\"text-align:center\" colspan=2>amr</th><th style=\"text-align:center\" colspan=2>eas</th><th style=\"text-align:center\" colspan=2>eur</th><th style=\"text-align:center\" colspan=2>sas</th><th style=\"text-align:center\" colspan=2>sax</th></tr></thead>\n",
       "<tr class=\"even\"><td style=\"text-align: right;\">353483</td><td style=\"text-align: right;\">135,939,427</td><td style=\"text-align: right;\">422,689</td><td style=\"text-align: right;\">22</td><td style=\"text-align: right;\">35</td><td style=\"text-align: right;\">21</td><td style=\"text-align: right;\">2.98</td><td style=\"text-align: right;\">4</td><td style=\"text-align: right;\">1.82</td><td style=\"text-align: right;\">1</td><td style=\"text-align: right;\">0.21</td><td style=\"text-align: right;\">0</td><td style=\"text-align: right;\">0.00</td><td style=\"text-align: right;\">0</td><td style=\"text-align: right;\">0.00</td><td style=\"text-align: right;\">5</td><td style=\"text-align: right;\">1.97</td><td style=\"text-align: right;\">4</td><td style=\"text-align: right;\">0.93</td></tr>\n",
       "</table>\n",
       "</p>\n",
       "<p>\n",
       "<b>22_35 series snps</b>\n",
       "</p><p>\n",
       "<table>\n",
       "<thead><tr><th style=\"text-align:center\">index</th><th style=\"text-align:center\">pos</th><th style=\"text-align:center\">id</th><th style=\"text-align:center\">niv</th><th style=\"text-align:center\">alleles</th><th style=\"text-align:center\" colspan=2>afr</th><th style=\"text-align:center\" colspan=2>afx</th><th style=\"text-align:center\" colspan=2>amr</th><th style=\"text-align:center\" colspan=2>eas</th><th style=\"text-align:center\" colspan=2>eur</th><th style=\"text-align:center\" colspan=2>sas</th><th style=\"text-align:center\" colspan=2>sax</th></tr></thead>\n",
       "<tr class=\"even\"><td style=\"text-align: right;\">875900</td><td style=\"text-align: right;\">135,939,427</td><td>rs57126350</td><td>0</td><td style=\"text-align: right;\">35</td><td style=\"text-align: right;\">21</td><td style=\"text-align: right;\">2.98</td><td style=\"text-align: right;\">4</td><td style=\"text-align: right;\">1.82</td><td style=\"text-align: right;\">1</td><td style=\"text-align: right;\">0.21</td><td style=\"text-align: right;\">0</td><td style=\"text-align: right;\">0.00</td><td style=\"text-align: right;\">0</td><td style=\"text-align: right;\">0.00</td><td style=\"text-align: right;\">5</td><td style=\"text-align: right;\">1.97</td><td style=\"text-align: right;\">4</td><td style=\"text-align: right;\">0.93</td></tr>\n",
       "<tr><td style=\"text-align: right;\">875975</td><td style=\"text-align: right;\">135,953,924</td><td>rs140301022</td><td>0</td><td style=\"text-align: right;\">35</td><td style=\"text-align: right;\">21</td><td style=\"text-align: right;\">2.98</td><td style=\"text-align: right;\">4</td><td style=\"text-align: right;\">1.82</td><td style=\"text-align: right;\">1</td><td style=\"text-align: right;\">0.21</td><td style=\"text-align: right;\">0</td><td style=\"text-align: right;\">0.00</td><td style=\"text-align: right;\">0</td><td style=\"text-align: right;\">0.00</td><td style=\"text-align: right;\">5</td><td style=\"text-align: right;\">1.97</td><td style=\"text-align: right;\">4</td><td style=\"text-align: right;\">0.93</td></tr>\n",
       "<tr class=\"even\"><td style=\"text-align: right;\">876059</td><td style=\"text-align: right;\">135,971,990</td><td>rs59549809</td><td>0</td><td style=\"text-align: right;\">35</td><td style=\"text-align: right;\">21</td><td style=\"text-align: right;\">2.98</td><td style=\"text-align: right;\">4</td><td style=\"text-align: right;\">1.82</td><td style=\"text-align: right;\">1</td><td style=\"text-align: right;\">0.21</td><td style=\"text-align: right;\">0</td><td style=\"text-align: right;\">0.00</td><td style=\"text-align: right;\">0</td><td style=\"text-align: right;\">0.00</td><td style=\"text-align: right;\">5</td><td style=\"text-align: right;\">1.97</td><td style=\"text-align: right;\">4</td><td style=\"text-align: right;\">0.93</td></tr>\n",
       "<tr><td style=\"text-align: right;\">876063</td><td style=\"text-align: right;\">135,972,551</td><td>rs116040101</td><td>0</td><td style=\"text-align: right;\">35</td><td style=\"text-align: right;\">21</td><td style=\"text-align: right;\">2.98</td><td style=\"text-align: right;\">4</td><td style=\"text-align: right;\">1.82</td><td style=\"text-align: right;\">1</td><td style=\"text-align: right;\">0.21</td><td style=\"text-align: right;\">0</td><td style=\"text-align: right;\">0.00</td><td style=\"text-align: right;\">0</td><td style=\"text-align: right;\">0.00</td><td style=\"text-align: right;\">5</td><td style=\"text-align: right;\">1.97</td><td style=\"text-align: right;\">4</td><td style=\"text-align: right;\">0.93</td></tr>\n",
       "<tr class=\"even\"><td style=\"text-align: right;\">876086</td><td style=\"text-align: right;\">135,977,846</td><td>rs78391311</td><td>0</td><td style=\"text-align: right;\">35</td><td style=\"text-align: right;\">21</td><td style=\"text-align: right;\">2.98</td><td style=\"text-align: right;\">4</td><td style=\"text-align: right;\">1.82</td><td style=\"text-align: right;\">1</td><td style=\"text-align: right;\">0.21</td><td style=\"text-align: right;\">0</td><td style=\"text-align: right;\">0.00</td><td style=\"text-align: right;\">0</td><td style=\"text-align: right;\">0.00</td><td style=\"text-align: right;\">5</td><td style=\"text-align: right;\">1.97</td><td style=\"text-align: right;\">4</td><td style=\"text-align: right;\">0.93</td></tr>\n",
       "<tr><td style=\"text-align: right;\">876181</td><td style=\"text-align: right;\">135,991,928</td><td>rs146308496</td><td>0</td><td style=\"text-align: right;\">35</td><td style=\"text-align: right;\">21</td><td style=\"text-align: right;\">2.98</td><td style=\"text-align: right;\">4</td><td style=\"text-align: right;\">1.82</td><td style=\"text-align: right;\">1</td><td style=\"text-align: right;\">0.21</td><td style=\"text-align: right;\">0</td><td style=\"text-align: right;\">0.00</td><td style=\"text-align: right;\">0</td><td style=\"text-align: right;\">0.00</td><td style=\"text-align: right;\">5</td><td style=\"text-align: right;\">1.97</td><td style=\"text-align: right;\">4</td><td style=\"text-align: right;\">0.93</td></tr>\n",
       "<tr class=\"even\"><td style=\"text-align: right;\">876227</td><td style=\"text-align: right;\">135,998,961</td><td>rs115501480</td><td>0</td><td style=\"text-align: right;\">35</td><td style=\"text-align: right;\">21</td><td style=\"text-align: right;\">2.98</td><td style=\"text-align: right;\">4</td><td style=\"text-align: right;\">1.82</td><td style=\"text-align: right;\">1</td><td style=\"text-align: right;\">0.21</td><td style=\"text-align: right;\">0</td><td style=\"text-align: right;\">0.00</td><td style=\"text-align: right;\">0</td><td style=\"text-align: right;\">0.00</td><td style=\"text-align: right;\">5</td><td style=\"text-align: right;\">1.97</td><td style=\"text-align: right;\">4</td><td style=\"text-align: right;\">0.93</td></tr>\n",
       "<tr><td style=\"text-align: right;\">876288</td><td style=\"text-align: right;\">136,009,267</td><td>rs141573994</td><td>0</td><td style=\"text-align: right;\">34</td><td style=\"text-align: right;\">21</td><td style=\"text-align: right;\">3.07</td><td style=\"text-align: right;\">4</td><td style=\"text-align: right;\">1.88</td><td style=\"text-align: right;\">1</td><td style=\"text-align: right;\">0.21</td><td style=\"text-align: right;\">0</td><td style=\"text-align: right;\">0.00</td><td style=\"text-align: right;\">0</td><td style=\"text-align: right;\">0.00</td><td style=\"text-align: right;\">5</td><td style=\"text-align: right;\">2.02</td><td style=\"text-align: right;\">3</td><td style=\"text-align: right;\">0.72</td></tr>\n",
       "<tr class=\"even\"><td style=\"text-align: right;\">876435</td><td style=\"text-align: right;\">136,041,005</td><td>rs138077749</td><td>0</td><td style=\"text-align: right;\">35</td><td style=\"text-align: right;\">21</td><td style=\"text-align: right;\">2.98</td><td style=\"text-align: right;\">4</td><td style=\"text-align: right;\">1.82</td><td style=\"text-align: right;\">1</td><td style=\"text-align: right;\">0.21</td><td style=\"text-align: right;\">0</td><td style=\"text-align: right;\">0.00</td><td style=\"text-align: right;\">0</td><td style=\"text-align: right;\">0.00</td><td style=\"text-align: right;\">5</td><td style=\"text-align: right;\">1.97</td><td style=\"text-align: right;\">4</td><td style=\"text-align: right;\">0.93</td></tr>\n",
       "<tr><td style=\"text-align: right;\">876505</td><td style=\"text-align: right;\">136,052,719</td><td>rs115649004</td><td>0</td><td style=\"text-align: right;\">35</td><td style=\"text-align: right;\">21</td><td style=\"text-align: right;\">2.98</td><td style=\"text-align: right;\">4</td><td style=\"text-align: right;\">1.82</td><td style=\"text-align: right;\">1</td><td style=\"text-align: right;\">0.21</td><td style=\"text-align: right;\">0</td><td style=\"text-align: right;\">0.00</td><td style=\"text-align: right;\">0</td><td style=\"text-align: right;\">0.00</td><td style=\"text-align: right;\">5</td><td style=\"text-align: right;\">1.97</td><td style=\"text-align: right;\">4</td><td style=\"text-align: right;\">0.93</td></tr>\n",
       "<tr class=\"even\"><td style=\"text-align: right;\">876634</td><td style=\"text-align: right;\">136,075,694</td><td>rs114875823</td><td>0</td><td style=\"text-align: right;\">35</td><td style=\"text-align: right;\">21</td><td style=\"text-align: right;\">2.98</td><td style=\"text-align: right;\">4</td><td style=\"text-align: right;\">1.82</td><td style=\"text-align: right;\">1</td><td style=\"text-align: right;\">0.21</td><td style=\"text-align: right;\">0</td><td style=\"text-align: right;\">0.00</td><td style=\"text-align: right;\">0</td><td style=\"text-align: right;\">0.00</td><td style=\"text-align: right;\">5</td><td style=\"text-align: right;\">1.97</td><td style=\"text-align: right;\">4</td><td style=\"text-align: right;\">0.93</td></tr>\n",
       "<tr><td style=\"text-align: right;\">876883</td><td style=\"text-align: right;\">136,125,702</td><td>rs150962271</td><td>0</td><td style=\"text-align: right;\">35</td><td style=\"text-align: right;\">21</td><td style=\"text-align: right;\">2.98</td><td style=\"text-align: right;\">4</td><td style=\"text-align: right;\">1.82</td><td style=\"text-align: right;\">1</td><td style=\"text-align: right;\">0.21</td><td style=\"text-align: right;\">0</td><td style=\"text-align: right;\">0.00</td><td style=\"text-align: right;\">0</td><td style=\"text-align: right;\">0.00</td><td style=\"text-align: right;\">5</td><td style=\"text-align: right;\">1.97</td><td style=\"text-align: right;\">4</td><td style=\"text-align: right;\">0.93</td></tr>\n",
       "<tr class=\"even\"><td style=\"text-align: right;\">876962</td><td style=\"text-align: right;\">136,139,281</td><td>rs116017214</td><td>0</td><td style=\"text-align: right;\">36</td><td style=\"text-align: right;\">21</td><td style=\"text-align: right;\">2.90</td><td style=\"text-align: right;\">4</td><td style=\"text-align: right;\">1.77</td><td style=\"text-align: right;\">1</td><td style=\"text-align: right;\">0.20</td><td style=\"text-align: right;\">0</td><td style=\"text-align: right;\">0.00</td><td style=\"text-align: right;\">1</td><td style=\"text-align: right;\">0.14</td><td style=\"text-align: right;\">5</td><td style=\"text-align: right;\">1.91</td><td style=\"text-align: right;\">4</td><td style=\"text-align: right;\">0.91</td></tr>\n",
       "<tr><td style=\"text-align: right;\">877123</td><td style=\"text-align: right;\">136,163,922</td><td>rs141099576</td><td>0</td><td style=\"text-align: right;\">35</td><td style=\"text-align: right;\">21</td><td style=\"text-align: right;\">2.98</td><td style=\"text-align: right;\">4</td><td style=\"text-align: right;\">1.82</td><td style=\"text-align: right;\">1</td><td style=\"text-align: right;\">0.21</td><td style=\"text-align: right;\">0</td><td style=\"text-align: right;\">0.00</td><td style=\"text-align: right;\">0</td><td style=\"text-align: right;\">0.00</td><td style=\"text-align: right;\">5</td><td style=\"text-align: right;\">1.97</td><td style=\"text-align: right;\">4</td><td style=\"text-align: right;\">0.93</td></tr>\n",
       "<tr class=\"even\"><td style=\"text-align: right;\">877182</td><td style=\"text-align: right;\">136,170,326</td><td>rs138322620</td><td>0</td><td style=\"text-align: right;\">35</td><td style=\"text-align: right;\">21</td><td style=\"text-align: right;\">2.98</td><td style=\"text-align: right;\">4</td><td style=\"text-align: right;\">1.82</td><td style=\"text-align: right;\">1</td><td style=\"text-align: right;\">0.21</td><td style=\"text-align: right;\">0</td><td style=\"text-align: right;\">0.00</td><td style=\"text-align: right;\">0</td><td style=\"text-align: right;\">0.00</td><td style=\"text-align: right;\">5</td><td style=\"text-align: right;\">1.97</td><td style=\"text-align: right;\">4</td><td style=\"text-align: right;\">0.93</td></tr>\n",
       "<tr><td style=\"text-align: right;\">877222</td><td style=\"text-align: right;\">136,175,687</td><td>rs114528016</td><td>0</td><td style=\"text-align: right;\">35</td><td style=\"text-align: right;\">21</td><td style=\"text-align: right;\">2.98</td><td style=\"text-align: right;\">4</td><td style=\"text-align: right;\">1.82</td><td style=\"text-align: right;\">1</td><td style=\"text-align: right;\">0.21</td><td style=\"text-align: right;\">0</td><td style=\"text-align: right;\">0.00</td><td style=\"text-align: right;\">0</td><td style=\"text-align: right;\">0.00</td><td style=\"text-align: right;\">5</td><td style=\"text-align: right;\">1.97</td><td style=\"text-align: right;\">4</td><td style=\"text-align: right;\">0.93</td></tr>\n",
       "<tr class=\"even\"><td style=\"text-align: right;\">877295</td><td style=\"text-align: right;\">136,190,299</td><td>rs114639227</td><td>0</td><td style=\"text-align: right;\">35</td><td style=\"text-align: right;\">21</td><td style=\"text-align: right;\">2.98</td><td style=\"text-align: right;\">4</td><td style=\"text-align: right;\">1.82</td><td style=\"text-align: right;\">1</td><td style=\"text-align: right;\">0.21</td><td style=\"text-align: right;\">0</td><td style=\"text-align: right;\">0.00</td><td style=\"text-align: right;\">0</td><td style=\"text-align: right;\">0.00</td><td style=\"text-align: right;\">5</td><td style=\"text-align: right;\">1.97</td><td style=\"text-align: right;\">4</td><td style=\"text-align: right;\">0.93</td></tr>\n",
       "<tr><td style=\"text-align: right;\">877296</td><td style=\"text-align: right;\">136,190,965</td><td>rs145835246</td><td>0</td><td style=\"text-align: right;\">35</td><td style=\"text-align: right;\">21</td><td style=\"text-align: right;\">2.98</td><td style=\"text-align: right;\">4</td><td style=\"text-align: right;\">1.82</td><td style=\"text-align: right;\">1</td><td style=\"text-align: right;\">0.21</td><td style=\"text-align: right;\">0</td><td style=\"text-align: right;\">0.00</td><td style=\"text-align: right;\">0</td><td style=\"text-align: right;\">0.00</td><td style=\"text-align: right;\">5</td><td style=\"text-align: right;\">1.97</td><td style=\"text-align: right;\">4</td><td style=\"text-align: right;\">0.93</td></tr>\n",
       "<tr class=\"even\"><td style=\"text-align: right;\">877313</td><td style=\"text-align: right;\">136,192,979</td><td>rs116232393</td><td>0</td><td style=\"text-align: right;\">35</td><td style=\"text-align: right;\">21</td><td style=\"text-align: right;\">2.98</td><td style=\"text-align: right;\">4</td><td style=\"text-align: right;\">1.82</td><td style=\"text-align: right;\">1</td><td style=\"text-align: right;\">0.21</td><td style=\"text-align: right;\">0</td><td style=\"text-align: right;\">0.00</td><td style=\"text-align: right;\">0</td><td style=\"text-align: right;\">0.00</td><td style=\"text-align: right;\">5</td><td style=\"text-align: right;\">1.97</td><td style=\"text-align: right;\">4</td><td style=\"text-align: right;\">0.93</td></tr>\n",
       "<tr><td style=\"text-align: right;\">877490</td><td style=\"text-align: right;\">136,235,501</td><td>rs115342369</td><td>0</td><td style=\"text-align: right;\">35</td><td style=\"text-align: right;\">21</td><td style=\"text-align: right;\">2.98</td><td style=\"text-align: right;\">4</td><td style=\"text-align: right;\">1.82</td><td style=\"text-align: right;\">1</td><td style=\"text-align: right;\">0.21</td><td style=\"text-align: right;\">0</td><td style=\"text-align: right;\">0.00</td><td style=\"text-align: right;\">0</td><td style=\"text-align: right;\">0.00</td><td style=\"text-align: right;\">5</td><td style=\"text-align: right;\">1.97</td><td style=\"text-align: right;\">4</td><td style=\"text-align: right;\">0.93</td></tr>\n",
       "<tr class=\"even\"><td style=\"text-align: right;\">877571</td><td style=\"text-align: right;\">136,249,627</td><td>rs149172629</td><td>0</td><td style=\"text-align: right;\">35</td><td style=\"text-align: right;\">21</td><td style=\"text-align: right;\">2.98</td><td style=\"text-align: right;\">4</td><td style=\"text-align: right;\">1.82</td><td style=\"text-align: right;\">1</td><td style=\"text-align: right;\">0.21</td><td style=\"text-align: right;\">0</td><td style=\"text-align: right;\">0.00</td><td style=\"text-align: right;\">0</td><td style=\"text-align: right;\">0.00</td><td style=\"text-align: right;\">5</td><td style=\"text-align: right;\">1.97</td><td style=\"text-align: right;\">4</td><td style=\"text-align: right;\">0.93</td></tr>\n",
       "<tr><td style=\"text-align: right;\">878057</td><td style=\"text-align: right;\">136,362,116</td><td>rs112475706</td><td>0</td><td style=\"text-align: right;\">35</td><td style=\"text-align: right;\">21</td><td style=\"text-align: right;\">2.98</td><td style=\"text-align: right;\">4</td><td style=\"text-align: right;\">1.82</td><td style=\"text-align: right;\">1</td><td style=\"text-align: right;\">0.21</td><td style=\"text-align: right;\">0</td><td style=\"text-align: right;\">0.00</td><td style=\"text-align: right;\">0</td><td style=\"text-align: right;\">0.00</td><td style=\"text-align: right;\">5</td><td style=\"text-align: right;\">1.97</td><td style=\"text-align: right;\">4</td><td style=\"text-align: right;\">0.93</td></tr>\n",
       "</table>"
      ],
      "text/plain": [
       "<IPython.core.display.HTML object>"
      ]
     },
     "execution_count": 2,
     "metadata": {},
     "output_type": "execute_result"
    }
   ],
   "source": [
    "HTML(dm.series_html(dm.di_22_35))"
   ]
  },
  {
   "cell_type": "code",
   "execution_count": 3,
   "metadata": {
    "collapsed": false
   },
   "outputs": [
    {
     "data": {
      "text/html": [
       "\n",
       "\n",
       "    <div class=\"bk-root\">\n",
       "        <div class=\"plotdiv\" id=\"68f71db0-3404-4767-8c68-b54d856f041c\"></div>\n",
       "    </div>\n",
       "<script type=\"text/javascript\">\n",
       "  \n",
       "  (function(global) {\n",
       "    function now() {\n",
       "      return new Date();\n",
       "    }\n",
       "  \n",
       "    if (typeof (window._bokeh_onload_callbacks) === \"undefined\") {\n",
       "      window._bokeh_onload_callbacks = [];\n",
       "    }\n",
       "  \n",
       "    function run_callbacks() {\n",
       "      window._bokeh_onload_callbacks.forEach(function(callback) { callback() });\n",
       "      delete window._bokeh_onload_callbacks\n",
       "      console.info(\"Bokeh: all callbacks have finished\");\n",
       "    }\n",
       "  \n",
       "    function load_libs(js_urls, callback) {\n",
       "      window._bokeh_onload_callbacks.push(callback);\n",
       "      if (window._bokeh_is_loading > 0) {\n",
       "        console.log(\"Bokeh: BokehJS is being loaded, scheduling callback at\", now());\n",
       "        return null;\n",
       "      }\n",
       "      if (js_urls == null || js_urls.length === 0) {\n",
       "        run_callbacks();\n",
       "        return null;\n",
       "      }\n",
       "      console.log(\"Bokeh: BokehJS not loaded, scheduling load and callback at\", now());\n",
       "      window._bokeh_is_loading = js_urls.length;\n",
       "      for (var i = 0; i < js_urls.length; i++) {\n",
       "        var url = js_urls[i];\n",
       "        var s = document.createElement('script');\n",
       "        s.src = url;\n",
       "        s.async = false;\n",
       "        s.onreadystatechange = s.onload = function() {\n",
       "          window._bokeh_is_loading--;\n",
       "          if (window._bokeh_is_loading === 0) {\n",
       "            console.log(\"Bokeh: all BokehJS libraries loaded\");\n",
       "            run_callbacks()\n",
       "          }\n",
       "        };\n",
       "        s.onerror = function() {\n",
       "          console.warn(\"failed to load library \" + url);\n",
       "        };\n",
       "        console.log(\"Bokeh: injecting script tag for BokehJS library: \", url);\n",
       "        document.getElementsByTagName(\"head\")[0].appendChild(s);\n",
       "      }\n",
       "    };var element = document.getElementById(\"68f71db0-3404-4767-8c68-b54d856f041c\");\n",
       "    if (element == null) {\n",
       "      console.log(\"Bokeh: ERROR: autoload.js configured with elementid '68f71db0-3404-4767-8c68-b54d856f041c' but no matching script tag was found. \")\n",
       "      return false;\n",
       "    }\n",
       "  \n",
       "    var js_urls = [];\n",
       "  \n",
       "    var inline_js = [\n",
       "      function(Bokeh) {\n",
       "        Bokeh.$(function() {\n",
       "            var docs_json = {\"b1a73cd4-4ec2-4c29-a379-3474f2c3e8e3\":{\"roots\":{\"references\":[{\"attributes\":{\"plot\":{\"id\":\"2f1b4ff8-c95e-4626-8886-4348f220744d\",\"subtype\":\"Figure\",\"type\":\"Plot\"}},\"id\":\"48f72711-70d0-4b88-aee0-8e203957a4d5\",\"type\":\"SaveTool\"},{\"attributes\":{\"callback\":null,\"end\":500},\"id\":\"2ceaeb53-337b-41f0-a771-db562878f29f\",\"type\":\"Range1d\"},{\"attributes\":{\"data_source\":{\"id\":\"03a5b596-9c27-4afd-804e-5ac9f065ffc8\",\"type\":\"ColumnDataSource\"},\"glyph\":{\"id\":\"d135226f-6939-439b-bbe5-5c6e798b67ba\",\"type\":\"MultiLine\"},\"hover_glyph\":null,\"nonselection_glyph\":{\"id\":\"df360c44-8381-4d9b-9c91-afbc7ebeb4bd\",\"type\":\"MultiLine\"},\"selection_glyph\":null},\"id\":\"63d795df-8c45-4fa8-a561-9407480fef8e\",\"type\":\"GlyphRenderer\"},{\"attributes\":{\"plot\":{\"id\":\"2f1b4ff8-c95e-4626-8886-4348f220744d\",\"subtype\":\"Figure\",\"type\":\"Plot\"}},\"id\":\"5dfb8a19-a3c9-422f-893d-915b2e6af226\",\"type\":\"PanTool\"},{\"attributes\":{\"callback\":null,\"column_names\":[\"right\",\"bottom\",\"top\",\"left\"],\"data\":{\"bottom\":[445,445,445,445,445,445,445],\"left\":[135809835,135957574,136289083,136499189,136545415,136597196,136664254],\"right\":[135928279,136288182,136482839,136542633,136594750,136634047,136743222],\"top\":[475,475,475,475,475,475,475]}},\"id\":\"fb96a182-ec5a-407a-a7fb-6120bca832d5\",\"type\":\"ColumnDataSource\"},{\"attributes\":{\"below\":[{\"id\":\"7e8cd33e-03bd-4575-b40a-a37f51f7072a\",\"type\":\"LinearAxis\"}],\"left\":[{\"id\":\"d54c0da8-0175-415d-b310-34d2727fa207\",\"type\":\"LinearAxis\"}],\"plot_height\":500,\"plot_width\":900,\"renderers\":[{\"id\":\"7e8cd33e-03bd-4575-b40a-a37f51f7072a\",\"type\":\"LinearAxis\"},{\"id\":\"d08ed50d-eb3d-4d2a-b75e-76158bf0de71\",\"type\":\"Grid\"},{\"id\":\"d54c0da8-0175-415d-b310-34d2727fa207\",\"type\":\"LinearAxis\"},{\"id\":\"f422a76a-7096-42ab-b0ff-2bf92b099912\",\"type\":\"Grid\"},{\"id\":\"c3577971-a75f-4e93-9d81-9b552e7214ba\",\"type\":\"BoxAnnotation\"},{\"id\":\"6e917977-95e4-4695-bd32-1540d7594705\",\"type\":\"GlyphRenderer\"},{\"id\":\"63d795df-8c45-4fa8-a561-9407480fef8e\",\"type\":\"GlyphRenderer\"},{\"id\":\"89363064-09c0-4982-b347-305fa0f8d328\",\"type\":\"LabelSet\"},{\"id\":\"bc174f92-46f2-4258-9731-c663cdd62d34\",\"type\":\"GlyphRenderer\"},{\"id\":\"466c6025-2a12-4287-ac9f-366355302bd8\",\"type\":\"LabelSet\"}],\"title\":{\"id\":\"98170936-4bd5-43f1-927b-3644378570da\",\"type\":\"Title\"},\"tool_events\":{\"id\":\"bfbc6254-06b0-4f24-bcfd-bf7457e434d4\",\"type\":\"ToolEvents\"},\"toolbar\":{\"id\":\"2c85602f-1c92-458f-a4b7-482d1d955641\",\"type\":\"Toolbar\"},\"toolbar_location\":null,\"x_range\":{\"id\":\"2c16996c-38d0-4aad-b5cc-b8ff1d528077\",\"type\":\"Range1d\"},\"y_range\":{\"id\":\"2ceaeb53-337b-41f0-a771-db562878f29f\",\"type\":\"Range1d\"}},\"id\":\"2f1b4ff8-c95e-4626-8886-4348f220744d\",\"subtype\":\"Figure\",\"type\":\"Plot\"},{\"attributes\":{\"formatter\":{\"id\":\"34f0dd93-39bc-4a3e-b019-6e3281d31fca\",\"type\":\"BasicTickFormatter\"},\"plot\":{\"id\":\"2f1b4ff8-c95e-4626-8886-4348f220744d\",\"subtype\":\"Figure\",\"type\":\"Plot\"},\"ticker\":{\"id\":\"bc328ef2-4749-457e-9fd5-98fa33da31f6\",\"type\":\"BasicTicker\"}},\"id\":\"7e8cd33e-03bd-4575-b40a-a37f51f7072a\",\"type\":\"LinearAxis\"},{\"attributes\":{\"callback\":null,\"column_names\":[\"right\",\"bottom\",\"top\",\"left\",\"fill_color\"],\"data\":{\"bottom\":[350,50,350,150,250,350,250],\"fill_color\":[\"#808080\",\"#ff0000\",\"#c46161\",\"#ff0000\",\"#ff0000\",\"#808080\",\"#ff0000\"],\"left\":[135757320,135791020,135933921,135939427,136309239,136406646,136448855],\"right\":[135777504,136493083,136368563,136362116,136361560,136438078,136466831],\"top\":[396,60,395,162,290,395,287]}},\"id\":\"f82c3fb3-fe9d-4401-8f55-75767a7405f3\",\"type\":\"ColumnDataSource\"},{\"attributes\":{\"line_alpha\":{\"value\":0.1},\"line_color\":{\"value\":\"#1f77b4\"},\"xs\":{\"field\":\"xs\"},\"ys\":{\"field\":\"ys\"}},\"id\":\"df360c44-8381-4d9b-9c91-afbc7ebeb4bd\",\"type\":\"MultiLine\"},{\"attributes\":{\"formatter\":{\"id\":\"3f6b8377-3c76-49ea-8a14-32ce7b2b6825\",\"type\":\"BasicTickFormatter\"},\"plot\":{\"id\":\"2f1b4ff8-c95e-4626-8886-4348f220744d\",\"subtype\":\"Figure\",\"type\":\"Plot\"},\"ticker\":{\"id\":\"621a7bdd-8dd5-418f-9035-13adf8a00330\",\"type\":\"BasicTicker\"},\"visible\":null},\"id\":\"d54c0da8-0175-415d-b310-34d2727fa207\",\"type\":\"LinearAxis\"},{\"attributes\":{\"plot\":{\"id\":\"2f1b4ff8-c95e-4626-8886-4348f220744d\",\"subtype\":\"Figure\",\"type\":\"Plot\"}},\"id\":\"5e897289-b1f3-4b7b-8f3c-af2bc7eff21f\",\"type\":\"HelpTool\"},{\"attributes\":{},\"id\":\"621a7bdd-8dd5-418f-9035-13adf8a00330\",\"type\":\"BasicTicker\"},{\"attributes\":{\"overlay\":{\"id\":\"c3577971-a75f-4e93-9d81-9b552e7214ba\",\"type\":\"BoxAnnotation\"},\"plot\":{\"id\":\"2f1b4ff8-c95e-4626-8886-4348f220744d\",\"subtype\":\"Figure\",\"type\":\"Plot\"}},\"id\":\"600cfa92-5047-47ed-af4f-75003aedc089\",\"type\":\"BoxZoomTool\"},{\"attributes\":{},\"id\":\"bfbc6254-06b0-4f24-bcfd-bf7457e434d4\",\"type\":\"ToolEvents\"},{\"attributes\":{\"plot\":{\"id\":\"2f1b4ff8-c95e-4626-8886-4348f220744d\",\"subtype\":\"Figure\",\"type\":\"Plot\"}},\"id\":\"18b2400e-d780-4db0-8dea-cd56621cc8f5\",\"type\":\"WheelZoomTool\"},{\"attributes\":{\"bottom\":{\"field\":\"bottom\"},\"fill_color\":{\"value\":\"white\"},\"left\":{\"field\":\"left\"},\"right\":{\"field\":\"right\"},\"top\":{\"field\":\"top\"}},\"id\":\"72afab70-c46b-4578-934a-e9dc7a12d52b\",\"type\":\"Quad\"},{\"attributes\":{\"bottom\":{\"field\":\"bottom\"},\"fill_alpha\":{\"value\":0.1},\"fill_color\":{\"value\":\"#1f77b4\"},\"left\":{\"field\":\"left\"},\"line_alpha\":{\"value\":0.1},\"line_color\":{\"value\":\"#1f77b4\"},\"right\":{\"field\":\"right\"},\"top\":{\"field\":\"top\"}},\"id\":\"a2eb619a-d886-4b79-a571-09948b9ebb9b\",\"type\":\"Quad\"},{\"attributes\":{\"dimension\":1,\"plot\":{\"id\":\"2f1b4ff8-c95e-4626-8886-4348f220744d\",\"subtype\":\"Figure\",\"type\":\"Plot\"},\"ticker\":{\"id\":\"621a7bdd-8dd5-418f-9035-13adf8a00330\",\"type\":\"BasicTicker\"}},\"id\":\"f422a76a-7096-42ab-b0ff-2bf92b099912\",\"type\":\"Grid\"},{\"attributes\":{\"level\":\"glyph\",\"plot\":{\"id\":\"2f1b4ff8-c95e-4626-8886-4348f220744d\",\"subtype\":\"Figure\",\"type\":\"Plot\"},\"source\":{\"id\":\"1e70db96-9ba1-44e1-98e2-19fd21324093\",\"type\":\"ColumnDataSource\"},\"text\":{\"field\":\"vals\"},\"text_font_size\":{\"value\":\"9pt\"},\"text_font_style\":\"bold\",\"x\":{\"field\":\"x\"},\"y\":{\"field\":\"y\"}},\"id\":\"89363064-09c0-4982-b347-305fa0f8d328\",\"type\":\"LabelSet\"},{\"attributes\":{},\"id\":\"bc328ef2-4749-457e-9fd5-98fa33da31f6\",\"type\":\"BasicTicker\"},{\"attributes\":{\"level\":\"glyph\",\"plot\":{\"id\":\"2f1b4ff8-c95e-4626-8886-4348f220744d\",\"subtype\":\"Figure\",\"type\":\"Plot\"},\"source\":{\"id\":\"960d9a12-5ad0-4df8-a5a2-854acf5358f5\",\"type\":\"ColumnDataSource\"},\"text\":{\"field\":\"vals\"},\"text_align\":\"center\",\"text_baseline\":\"middle\",\"text_font_size\":{\"value\":\"8pt\"},\"x\":{\"field\":\"x\"},\"y\":{\"field\":\"y\"}},\"id\":\"466c6025-2a12-4287-ac9f-366355302bd8\",\"type\":\"LabelSet\"},{\"attributes\":{\"callback\":null,\"column_names\":[\"y\",\"x\",\"vals\"],\"data\":{\"vals\":[\"13_1696\",\"219_26\",\"123_1561\",\"22_35\",\"9_887\",\"5_1460\",\"4_612\"],\"x\":[135757320,135791020,135933921,135939427,136309239,136406646,136448855],\"y\":[401.0,65.0,400.0,167.0,295.0,400.0,292.0]}},\"id\":\"1e70db96-9ba1-44e1-98e2-19fd21324093\",\"type\":\"ColumnDataSource\"},{\"attributes\":{\"active_drag\":\"auto\",\"active_scroll\":\"auto\",\"active_tap\":\"auto\",\"tools\":[{\"id\":\"5dfb8a19-a3c9-422f-893d-915b2e6af226\",\"type\":\"PanTool\"},{\"id\":\"18b2400e-d780-4db0-8dea-cd56621cc8f5\",\"type\":\"WheelZoomTool\"},{\"id\":\"600cfa92-5047-47ed-af4f-75003aedc089\",\"type\":\"BoxZoomTool\"},{\"id\":\"48f72711-70d0-4b88-aee0-8e203957a4d5\",\"type\":\"SaveTool\"},{\"id\":\"b9cd364e-1114-410c-ab2b-da8dbf34aa36\",\"type\":\"ResetTool\"},{\"id\":\"5e897289-b1f3-4b7b-8f3c-af2bc7eff21f\",\"type\":\"HelpTool\"}]},\"id\":\"2c85602f-1c92-458f-a4b7-482d1d955641\",\"type\":\"Toolbar\"},{\"attributes\":{\"bottom\":{\"field\":\"bottom\"},\"fill_alpha\":{\"value\":0.1},\"fill_color\":{\"value\":\"#1f77b4\"},\"left\":{\"field\":\"left\"},\"line_alpha\":{\"value\":0.1},\"line_color\":{\"value\":\"#1f77b4\"},\"right\":{\"field\":\"right\"},\"top\":{\"field\":\"top\"}},\"id\":\"47355502-f786-481e-9b16-ddf809df4c71\",\"type\":\"Quad\"},{\"attributes\":{\"data_source\":{\"id\":\"f82c3fb3-fe9d-4401-8f55-75767a7405f3\",\"type\":\"ColumnDataSource\"},\"glyph\":{\"id\":\"9583b0b9-e41d-4023-b243-183323f75b4c\",\"type\":\"Quad\"},\"hover_glyph\":null,\"nonselection_glyph\":{\"id\":\"a2eb619a-d886-4b79-a571-09948b9ebb9b\",\"type\":\"Quad\"},\"selection_glyph\":null},\"id\":\"6e917977-95e4-4695-bd32-1540d7594705\",\"type\":\"GlyphRenderer\"},{\"attributes\":{\"callback\":null,\"column_names\":[\"y\",\"x\",\"vals\"],\"data\":{\"vals\":[\"RAB3GAP1\",\"ZRANB3\",\"R3HDM1\",\"UBXN4\",\"LCT\",\"MCM6\",\"DARS\"],\"x\":[135869057.0,136122878.0,136385961.0,136520911.0,136570082.5,136615621.5,136703738.0],\"y\":[460.0,460.0,460.0,460.0,460.0,460.0,460.0]}},\"id\":\"960d9a12-5ad0-4df8-a5a2-854acf5358f5\",\"type\":\"ColumnDataSource\"},{\"attributes\":{\"plot\":{\"id\":\"2f1b4ff8-c95e-4626-8886-4348f220744d\",\"subtype\":\"Figure\",\"type\":\"Plot\"}},\"id\":\"b9cd364e-1114-410c-ab2b-da8dbf34aa36\",\"type\":\"ResetTool\"},{\"attributes\":{\"bottom\":{\"field\":\"bottom\"},\"fill_color\":{\"field\":\"fill_color\"},\"left\":{\"field\":\"left\"},\"line_color\":{\"value\":null},\"right\":{\"field\":\"right\"},\"top\":{\"field\":\"top\"}},\"id\":\"9583b0b9-e41d-4023-b243-183323f75b4c\",\"type\":\"Quad\"},{\"attributes\":{\"plot\":null,\"text\":null},\"id\":\"98170936-4bd5-43f1-927b-3644378570da\",\"type\":\"Title\"},{\"attributes\":{\"plot\":{\"id\":\"2f1b4ff8-c95e-4626-8886-4348f220744d\",\"subtype\":\"Figure\",\"type\":\"Plot\"},\"ticker\":{\"id\":\"bc328ef2-4749-457e-9fd5-98fa33da31f6\",\"type\":\"BasicTicker\"}},\"id\":\"d08ed50d-eb3d-4d2a-b75e-76158bf0de71\",\"type\":\"Grid\"},{\"attributes\":{},\"id\":\"34f0dd93-39bc-4a3e-b019-6e3281d31fca\",\"type\":\"BasicTickFormatter\"},{\"attributes\":{\"callback\":null,\"column_names\":[\"xs\",\"ys\",\"line_color\"],\"data\":{\"line_color\":[\"black\",\"black\",\"black\",\"black\",\"black\",\"black\",\"black\",\"black\",\"black\",\"black\",\"black\",\"black\",\"black\",\"black\",\"black\",\"black\",\"black\",\"black\",\"black\",\"black\",\"black\",\"black\",\"black\",\"black\",\"black\",\"black\",\"black\",\"black\",\"black\",\"black\",\"black\",\"black\",\"black\",\"black\",\"black\",\"black\",\"black\",\"black\",\"black\",\"black\",\"black\",\"black\",\"black\",\"black\",\"black\",\"black\",\"black\",\"black\",\"black\",\"black\",\"black\",\"black\",\"black\",\"black\",\"black\",\"black\",\"black\",\"black\",\"black\",\"black\",\"black\",\"black\",\"black\",\"black\",\"black\",\"black\",\"black\",\"black\",\"black\",\"black\",\"black\",\"black\",\"black\",\"black\",\"black\",\"black\",\"black\",\"black\",\"black\",\"black\",\"black\",\"black\",\"black\",\"black\",\"black\",\"black\",\"black\",\"black\",\"black\",\"black\",\"black\",\"black\",\"black\",\"black\",\"black\",\"black\",\"black\",\"black\",\"black\",\"black\",\"black\",\"black\",\"black\",\"black\",\"black\",\"black\",\"black\",\"black\",\"black\",\"black\",\"black\",\"black\",\"black\",\"black\",\"black\",\"black\",\"black\",\"black\",\"black\",\"black\",\"black\",\"black\",\"black\",\"black\",\"black\",\"black\",\"black\",\"black\",\"black\",\"black\",\"black\",\"black\",\"black\",\"black\",\"black\",\"black\",\"black\",\"black\",\"black\",\"black\",\"black\",\"black\",\"black\",\"black\",\"black\",\"black\",\"black\",\"black\",\"black\",\"black\",\"black\",\"black\",\"black\",\"black\",\"black\",\"black\",\"black\",\"black\",\"black\",\"black\",\"black\",\"black\",\"black\",\"black\",\"black\",\"black\",\"black\",\"black\",\"black\",\"black\",\"black\",\"black\",\"black\",\"black\",\"black\",\"black\",\"black\",\"black\",\"black\",\"black\",\"black\",\"black\",\"black\",\"black\",\"black\",\"black\",\"black\",\"black\",\"black\",\"black\",\"black\",\"black\",\"black\",\"black\",\"black\",\"black\",\"black\",\"black\",\"black\",\"black\",\"black\",\"black\",\"black\",\"black\",\"black\",\"black\",\"black\",\"black\",\"black\",\"black\",\"black\",\"black\",\"black\",\"black\",\"black\",\"black\",\"black\",\"black\",\"black\",\"black\",\"black\",\"black\",\"black\",\"black\",\"black\",\"black\",\"black\",\"black\",\"black\",\"black\",\"black\",\"black\",\"black\",\"black\",\"black\",\"black\",\"black\",\"black\",\"black\",\"black\",\"black\",\"black\",\"black\",\"black\",\"black\",\"black\",\"black\",\"black\",\"black\",\"black\",\"black\",\"black\",\"black\",\"black\",\"black\",\"black\",\"black\",\"black\",\"black\",\"black\",\"black\",\"black\",\"black\",\"black\",\"black\",\"black\",\"black\",\"black\",\"black\",\"black\",\"black\",\"black\",\"black\",\"black\",\"black\",\"black\",\"black\",\"black\",\"black\",\"black\",\"black\",\"black\",\"black\",\"black\",\"black\",\"black\",\"black\",\"black\",\"black\",\"black\",\"black\",\"black\",\"black\",\"black\",\"black\",\"black\",\"black\",\"black\",\"black\",\"black\",\"black\",\"black\",\"black\",\"black\",\"black\",\"black\",\"black\",\"black\",\"black\",\"black\",\"black\",\"black\",\"black\",\"black\",\"black\",\"black\",\"black\",\"black\",\"black\",\"black\",\"black\",\"black\",\"black\",\"black\",\"black\",\"black\",\"black\",\"black\",\"black\",\"black\",\"black\",\"black\",\"black\",\"black\",\"black\",\"black\",\"black\",\"black\",\"black\",\"black\",\"black\",\"black\",\"black\",\"black\",\"black\",\"black\",\"black\",\"black\",\"black\",\"black\",\"black\",\"black\",\"black\",\"black\",\"black\",\"black\",\"black\",\"black\",\"black\",\"black\",\"black\",\"black\",\"black\",\"black\",\"black\",\"black\",\"black\",\"black\",\"black\",\"black\",\"black\",\"black\",\"black\",\"black\",\"black\",\"black\",\"black\",\"black\",\"black\",\"black\",\"black\",\"black\",\"black\",\"black\",\"black\",\"black\",\"black\",\"black\",\"black\",\"black\",\"black\",\"black\",\"black\",\"black\",\"black\"],\"xs\":[[135757320,135757320],[135761078,135761078],[135761271,135761271],[135762344,135762344],[135762980,135762980],[135763280,135763280],[135768815,135768815],[135769093,135769093],[135769127,135769127],[135770940,135770940],[135770951,135770951],[135776728,135776728],[135777504,135777504],[135791020,135791020],[135795561,135795561],[135812216,135812216],[135815836,135815836],[135826864,135826864],[135834910,135834910],[135837060,135837060],[135838007,135838007],[135854812,135854812],[135854887,135854887],[135864085,135864085],[135865157,135865157],[135868299,135868299],[135872098,135872098],[135895941,135895941],[135905356,135905356],[135907439,135907439],[135920523,135920523],[135928177,135928177],[135931239,135931239],[135932602,135932602],[135933309,135933309],[135934488,135934488],[135934510,135934510],[135938344,135938344],[135945886,135945886],[135949317,135949317],[135951557,135951557],[135952614,135952614],[135956994,135956994],[135957826,135957826],[135962105,135962105],[135963204,135963204],[135965272,135965272],[135965383,135965383],[135967617,135967617],[135970109,135970109],[135973354,135973354],[135973513,135973513],[135973672,135973672],[135974911,135974911],[135978851,135978851],[135983912,135983912],[135989407,135989407],[135989447,135989447],[135990679,135990679],[135990680,135990680],[135991878,135991878],[135994625,135994625],[135996194,135996194],[135997581,135997581],[136010253,136010253],[136017552,136017552],[136021351,136021351],[136029920,136029920],[136030680,136030680],[136033989,136033989],[136035266,136035266],[136035507,136035507],[136038717,136038717],[136048588,136048588],[136048911,136048911],[136049483,136049483],[136050358,136050358],[136052332,136052332],[136053556,136053556],[136054223,136054223],[136059425,136059425],[136061227,136061227],[136064430,136064430],[136065268,136065268],[136066026,136066026],[136066394,136066394],[136066840,136066840],[136073866,136073866],[136074692,136074692],[136083908,136083908],[136096164,136096164],[136097761,136097761],[136099860,136099860],[136110155,136110155],[136114146,136114146],[136119743,136119743],[136120914,136120914],[136124160,136124160],[136127075,136127075],[136129465,136129465],[136131933,136131933],[136132349,136132349],[136136848,136136848],[136138803,136138803],[136138915,136138915],[136139203,136139203],[136139237,136139237],[136139438,136139438],[136139504,136139504],[136139567,136139567],[136141062,136141062],[136142591,136142591],[136142592,136142592],[136142858,136142858],[136142859,136142859],[136144605,136144605],[136149275,136149275],[136153589,136153589],[136158351,136158351],[136160238,136160238],[136162005,136162005],[136162623,136162623],[136164307,136164307],[136164326,136164326],[136166411,136166411],[136169316,136169316],[136170262,136170262],[136170977,136170977],[136172012,136172012],[136172752,136172752],[136174908,136174908],[136175544,136175544],[136176398,136176398],[136181242,136181242],[136182970,136182970],[136184112,136184112],[136189616,136189616],[136192565,136192565],[136198676,136198676],[136203529,136203529],[136208277,136208277],[136213354,136213354],[136217891,136217891],[136219235,136219235],[136223756,136223756],[136226138,136226138],[136227298,136227298],[136228867,136228867],[136229198,136229198],[136230887,136230887],[136231822,136231822],[136233281,136233281],[136238493,136238493],[136241958,136241958],[136242034,136242034],[136242748,136242748],[136246886,136246886],[136249562,136249562],[136250932,136250932],[136255350,136255350],[136255526,136255526],[136256071,136256071],[136260318,136260318],[136265780,136265780],[136279954,136279954],[136281525,136281525],[136288654,136288654],[136288748,136288748],[136289652,136289652],[136296940,136296940],[136297815,136297815],[136298917,136298917],[136307167,136307167],[136312598,136312598],[136312602,136312602],[136313302,136313302],[136315076,136315076],[136316688,136316688],[136319871,136319871],[136321945,136321945],[136324768,136324768],[136326826,136326826],[136330770,136330770],[136342374,136342374],[136346252,136346252],[136347139,136347139],[136351201,136351201],[136353654,136353654],[136361059,136361059],[136364693,136364693],[136365240,136365240],[136367295,136367295],[136368204,136368204],[136372499,136372499],[136376484,136376484],[136381893,136381893],[136382331,136382331],[136383595,136383595],[136383985,136383985],[136389812,136389812],[136394683,136394683],[136395871,136395871],[136401002,136401002],[136403669,136403669],[136410841,136410841],[136411182,136411182],[136419103,136419103],[136420223,136420223],[136420297,136420297],[136421368,136421368],[136429191,136429191],[136441111,136441111],[136441388,136441388],[136443488,136443488],[136444690,136444690],[136448894,136448894],[136450128,136450128],[136454166,136454166],[136457590,136457590],[136458148,136458148],[136460465,136460465],[136461321,136461321],[136461529,136461529],[136469397,136469397],[136477705,136477705],[136488280,136488280],[136489980,136489980],[136490986,136490986],[136491472,136491472],[136491583,136491583],[136492471,136492471],[136493083,136493083],[135933921,135933921],[135939824,135939824],[135941503,135941503],[135943900,135943900],[135945474,135945474],[135949715,135949715],[135956745,135956745],[135958693,135958693],[135967778,135967778],[135972093,135972093],[135973768,135973768],[135976498,135976498],[135978428,135978428],[135990031,135990031],[135992481,135992481],[135993925,135993925],[135994838,135994838],[136000253,136000253],[136003567,136003567],[136005477,136005477],[136005971,136005971],[136020977,136020977],[136027535,136027535],[136031588,136031588],[136032905,136032905],[136042480,136042480],[136043885,136043885],[136050471,136050471],[136052898,136052898],[136054815,136054815],[136056285,136056285],[136061560,136061560],[136063685,136063685],[136069060,136069060],[136072179,136072179],[136074233,136074233],[136080721,136080721],[136080822,136080822],[136088440,136088440],[136088643,136088643],[136092416,136092416],[136092869,136092869],[136094615,136094615],[136095505,136095505],[136095604,136095604],[136096766,136096766],[136097091,136097091],[136097394,136097394],[136100243,136100243],[136101823,136101823],[136106561,136106561],[136115501,136115501],[136122622,136122622],[136123014,136123014],[136123848,136123848],[136127100,136127100],[136127950,136127950],[136128630,136128630],[136129630,136129630],[136129791,136129791],[136131324,136131324],[136135383,136135383],[136135994,136135994],[136136224,136136224],[136136366,136136366],[136136440,136136440],[136138145,136138145],[136140568,136140568],[136145882,136145882],[136147948,136147948],[136148630,136148630],[136151485,136151485],[136152802,136152802],[136156753,136156753],[136157913,136157913],[136160902,136160902],[136165765,136165765],[136171649,136171649],[136173220,136173220],[136173735,136173735],[136174552,136174552],[136175692,136175692],[136176805,136176805],[136182484,136182484],[136183188,136183188],[136187252,136187252],[136187345,136187345],[136189475,136189475],[136197702,136197702],[136198435,136198435],[136202937,136202937],[136219999,136219999],[136221500,136221500],[136226626,136226626],[136228929,136228929],[136229598,136229598],[136238270,136238270],[136238346,136238346],[136240769,136240769],[136244171,136244171],[136249245,136249245],[136250285,136250285],[136254419,136254419],[136266241,136266241],[136267808,136267808],[136272074,136272074],[136277304,136277304],[136290607,136290607],[136290663,136290663],[136291310,136291310],[136296051,136296051],[136305392,136305392],[136306890,136306890],[136310803,136310803],[136324225,136324225],[136324465,136324465],[136327305,136327305],[136329618,136329618],[136333300,136333300],[136350089,136350089],[136354204,136354204],[136360455,136360455],[136368563,136368563],[135939427,135939427],[135953924,135953924],[135971990,135971990],[135972551,135972551],[135977846,135977846],[135991928,135991928],[135998961,135998961],[136009267,136009267],[136041005,136041005],[136052719,136052719],[136075694,136075694],[136125702,136125702],[136139281,136139281],[136163922,136163922],[136170326,136170326],[136175687,136175687],[136190299,136190299],[136190965,136190965],[136192979,136192979],[136235501,136235501],[136249627,136249627],[136362116,136362116],[136309239,136309239],[136322472,136322472],[136323787,136323787],[136323862,136323862],[136326765,136326765],[136329500,136329500],[136331657,136331657],[136345356,136345356],[136361560,136361560],[136406646,136406646],[136408821,136408821],[136412472,136412472],[136416959,136416959],[136438078,136438078],[136448855,136448855],[136456090,136456090],[136456675,136456675],[136466831,136466831]],\"ys\":[[350,396],[350,396],[350,396],[350,396],[350,396],[350,396],[350,396],[350,396],[350,396],[350,396],[350,396],[350,396],[350,396],[50,60],[50,60],[50,60],[50,60],[50,60],[50,60],[50,60],[50,60],[50,60],[50,60],[50,60],[50,60],[50,60],[50,60],[50,60],[50,60],[50,60],[50,60],[50,60],[50,60],[50,60],[50,60],[50,60],[50,60],[50,60],[50,60],[50,60],[50,60],[50,60],[50,60],[50,60],[50,60],[50,60],[50,60],[50,60],[50,60],[50,60],[50,60],[50,60],[50,60],[50,60],[50,60],[50,60],[50,60],[50,60],[50,60],[50,60],[50,60],[50,60],[50,60],[50,60],[50,60],[50,60],[50,60],[50,60],[50,60],[50,60],[50,60],[50,60],[50,60],[50,60],[50,60],[50,60],[50,60],[50,60],[50,60],[50,60],[50,60],[50,60],[50,60],[50,60],[50,60],[50,60],[50,60],[50,60],[50,60],[50,60],[50,60],[50,60],[50,60],[50,60],[50,60],[50,60],[50,60],[50,60],[50,60],[50,60],[50,60],[50,60],[50,60],[50,60],[50,60],[50,60],[50,60],[50,60],[50,60],[50,60],[50,60],[50,60],[50,60],[50,60],[50,60],[50,60],[50,60],[50,60],[50,60],[50,60],[50,60],[50,60],[50,60],[50,60],[50,60],[50,60],[50,60],[50,60],[50,60],[50,60],[50,60],[50,60],[50,60],[50,60],[50,60],[50,60],[50,60],[50,60],[50,60],[50,60],[50,60],[50,60],[50,60],[50,60],[50,60],[50,60],[50,60],[50,60],[50,60],[50,60],[50,60],[50,60],[50,60],[50,60],[50,60],[50,60],[50,60],[50,60],[50,60],[50,60],[50,60],[50,60],[50,60],[50,60],[50,60],[50,60],[50,60],[50,60],[50,60],[50,60],[50,60],[50,60],[50,60],[50,60],[50,60],[50,60],[50,60],[50,60],[50,60],[50,60],[50,60],[50,60],[50,60],[50,60],[50,60],[50,60],[50,60],[50,60],[50,60],[50,60],[50,60],[50,60],[50,60],[50,60],[50,60],[50,60],[50,60],[50,60],[50,60],[50,60],[50,60],[50,60],[50,60],[50,60],[50,60],[50,60],[50,60],[50,60],[50,60],[50,60],[50,60],[50,60],[50,60],[50,60],[50,60],[50,60],[50,60],[50,60],[50,60],[50,60],[50,60],[50,60],[50,60],[50,60],[50,60],[50,60],[50,60],[50,60],[50,60],[50,60],[50,60],[50,60],[350,395],[350,395],[350,395],[350,395],[350,395],[350,395],[350,395],[350,395],[350,395],[350,395],[350,395],[350,395],[350,395],[350,395],[350,395],[350,395],[350,395],[350,395],[350,395],[350,395],[350,395],[350,395],[350,395],[350,395],[350,395],[350,395],[350,395],[350,395],[350,395],[350,395],[350,395],[350,395],[350,395],[350,395],[350,395],[350,395],[350,395],[350,395],[350,395],[350,395],[350,395],[350,395],[350,395],[350,395],[350,395],[350,395],[350,395],[350,395],[350,395],[350,395],[350,395],[350,395],[350,395],[350,395],[350,395],[350,395],[350,395],[350,395],[350,395],[350,395],[350,395],[350,395],[350,395],[350,395],[350,395],[350,395],[350,395],[350,395],[350,395],[350,395],[350,395],[350,395],[350,395],[350,395],[350,395],[350,395],[350,395],[350,395],[350,395],[350,395],[350,395],[350,395],[350,395],[350,395],[350,395],[350,395],[350,395],[350,395],[350,395],[350,395],[350,395],[350,395],[350,395],[350,395],[350,395],[350,395],[350,395],[350,395],[350,395],[350,395],[350,395],[350,395],[350,395],[350,395],[350,395],[350,395],[350,395],[350,395],[350,395],[350,395],[350,395],[350,395],[350,395],[350,395],[350,395],[350,395],[350,395],[350,395],[350,395],[350,395],[350,395],[350,395],[350,395],[150,162],[150,162],[150,162],[150,162],[150,162],[150,162],[150,162],[150,162],[150,162],[150,162],[150,162],[150,162],[150,162],[150,162],[150,162],[150,162],[150,162],[150,162],[150,162],[150,162],[150,162],[150,162],[250,290],[250,290],[250,290],[250,290],[250,290],[250,290],[250,290],[250,290],[250,290],[350,395],[350,395],[350,395],[350,395],[350,395],[250,287],[250,287],[250,287],[250,287]]}},\"id\":\"03a5b596-9c27-4afd-804e-5ac9f065ffc8\",\"type\":\"ColumnDataSource\"},{\"attributes\":{\"bottom_units\":\"screen\",\"fill_alpha\":{\"value\":0.5},\"fill_color\":{\"value\":\"lightgrey\"},\"left_units\":\"screen\",\"level\":\"overlay\",\"line_alpha\":{\"value\":1.0},\"line_color\":{\"value\":\"black\"},\"line_dash\":[4,4],\"line_width\":{\"value\":2},\"plot\":null,\"render_mode\":\"css\",\"right_units\":\"screen\",\"top_units\":\"screen\"},\"id\":\"c3577971-a75f-4e93-9d81-9b552e7214ba\",\"type\":\"BoxAnnotation\"},{\"attributes\":{\"line_color\":{\"field\":\"line_color\"},\"xs\":{\"field\":\"xs\"},\"ys\":{\"field\":\"ys\"}},\"id\":\"d135226f-6939-439b-bbe5-5c6e798b67ba\",\"type\":\"MultiLine\"},{\"attributes\":{\"data_source\":{\"id\":\"fb96a182-ec5a-407a-a7fb-6120bca832d5\",\"type\":\"ColumnDataSource\"},\"glyph\":{\"id\":\"72afab70-c46b-4578-934a-e9dc7a12d52b\",\"type\":\"Quad\"},\"hover_glyph\":null,\"nonselection_glyph\":{\"id\":\"47355502-f786-481e-9b16-ddf809df4c71\",\"type\":\"Quad\"},\"selection_glyph\":null},\"id\":\"bc174f92-46f2-4258-9731-c663cdd62d34\",\"type\":\"GlyphRenderer\"},{\"attributes\":{},\"id\":\"3f6b8377-3c76-49ea-8a14-32ce7b2b6825\",\"type\":\"BasicTickFormatter\"},{\"attributes\":{\"callback\":null,\"end\":136786630,\"start\":135757320},\"id\":\"2c16996c-38d0-4aad-b5cc-b8ff1d528077\",\"type\":\"Range1d\"}],\"root_ids\":[\"2f1b4ff8-c95e-4626-8886-4348f220744d\"]},\"title\":\"Bokeh Application\",\"version\":\"0.12.0\"}};\n",
       "            var render_items = [{\"docid\":\"b1a73cd4-4ec2-4c29-a379-3474f2c3e8e3\",\"elementid\":\"68f71db0-3404-4767-8c68-b54d856f041c\",\"modelid\":\"2f1b4ff8-c95e-4626-8886-4348f220744d\",\"notebook_comms_target\":\"dfb7f1d2-705b-4c40-8cf2-212e859f4f46\"}];\n",
       "            \n",
       "            Bokeh.embed.embed_items(docs_json, render_items);\n",
       "        });\n",
       "      },\n",
       "      function(Bokeh) {\n",
       "      }\n",
       "    ];\n",
       "  \n",
       "    function run_inline_js() {\n",
       "      for (var i = 0; i < inline_js.length; i++) {\n",
       "        inline_js[i](window.Bokeh);\n",
       "      }\n",
       "    }\n",
       "  \n",
       "    if (window._bokeh_is_loading === 0) {\n",
       "      console.log(\"Bokeh: BokehJS loaded, going straight to plotting\");\n",
       "      run_inline_js();\n",
       "    } else {\n",
       "      load_libs(js_urls, function() {\n",
       "        console.log(\"Bokeh: BokehJS plotting callback run at\", now());\n",
       "        run_inline_js();\n",
       "      });\n",
       "    }\n",
       "  }(this));\n",
       "</script>"
      ]
     },
     "metadata": {},
     "output_type": "display_data"
    },
    {
     "data": {
      "text/html": [
       "<p><code>&lt;Bokeh Notebook handle for <strong>In[3]</strong>&gt;</code></p>"
      ],
      "text/plain": [
       "<bokeh.io._CommsHandle at 0x7fd1d8f7f210>"
      ]
     },
     "execution_count": 3,
     "metadata": {},
     "output_type": "execute_result"
    }
   ],
   "source": [
    "plt_obj = dm.superset_yes_no([dm.di_22_35], min_match=0.5)\n",
    "plt = plt_obj.do_plot()\n",
    "show(plt)"
   ]
  },
  {
   "cell_type": "code",
   "execution_count": 4,
   "metadata": {
    "collapsed": false
   },
   "outputs": [
    {
     "data": {
      "text/html": [
       "<table>\n",
       "<thead><tr><th style=\"text-align:center\">index</th><th style=\"text-align:center\">first</th><th style=\"text-align:center\">length</th><th style=\"text-align:center\">snps</th><th style=\"text-align:center\" colspan=2>alleles</th><th style=\"text-align:center\" colspan=2>matches</th><th style=\"text-align:center\" colspan=2>afr</th><th style=\"text-align:center\" colspan=2>afx</th><th style=\"text-align:center\" colspan=2>amr</th><th style=\"text-align:center\" colspan=2>eas</th><th style=\"text-align:center\" colspan=2>eur</th><th style=\"text-align:center\" colspan=2>sas</th><th style=\"text-align:center\" colspan=2>sax</th></tr></thead>\n",
       "<tr class=\"even\"><td style=\"text-align: right;\">353240</td><td style=\"text-align: right;\">135,757,320</td><td style=\"text-align: right;\">20,184</td><td style=\"text-align: right;\">13</td><td style=\"text-align: right;\">1696</td><td style=\"text-align: right;\">0.02</td><td style=\"text-align: right;\">35</td><td style=\"text-align: right;\">1.00</td><td style=\"text-align: right;\">21</td><td style=\"text-align: right;\">2.98</td><td style=\"text-align: right;\">4</td><td style=\"text-align: right;\">1.82</td><td style=\"text-align: right;\">1</td><td style=\"text-align: right;\">0.21</td><td style=\"text-align: right;\">0</td><td style=\"text-align: right;\">0.00</td><td style=\"text-align: right;\">0</td><td style=\"text-align: right;\">0.00</td><td style=\"text-align: right;\">5</td><td style=\"text-align: right;\">1.97</td><td style=\"text-align: right;\">4</td><td style=\"text-align: right;\">0.93</td></tr>\n",
       "<tr><td style=\"text-align: right;\">353478</td><td style=\"text-align: right;\">135,933,921</td><td style=\"text-align: right;\">434,642</td><td style=\"text-align: right;\">123</td><td style=\"text-align: right;\">1561</td><td style=\"text-align: right;\">0.02</td><td style=\"text-align: right;\">35</td><td style=\"text-align: right;\">1.00</td><td style=\"text-align: right;\">21</td><td style=\"text-align: right;\">2.98</td><td style=\"text-align: right;\">4</td><td style=\"text-align: right;\">1.82</td><td style=\"text-align: right;\">1</td><td style=\"text-align: right;\">0.21</td><td style=\"text-align: right;\">0</td><td style=\"text-align: right;\">0.00</td><td style=\"text-align: right;\">0</td><td style=\"text-align: right;\">0.00</td><td style=\"text-align: right;\">5</td><td style=\"text-align: right;\">1.97</td><td style=\"text-align: right;\">4</td><td style=\"text-align: right;\">0.93</td></tr>\n",
       "<tr class=\"even\"><td style=\"text-align: right;\">353814</td><td style=\"text-align: right;\">136,406,646</td><td style=\"text-align: right;\">31,432</td><td style=\"text-align: right;\">5</td><td style=\"text-align: right;\">1460</td><td style=\"text-align: right;\">0.02</td><td style=\"text-align: right;\">26</td><td style=\"text-align: right;\">0.74</td><td style=\"text-align: right;\">21</td><td style=\"text-align: right;\">4.01</td><td style=\"text-align: right;\">4</td><td style=\"text-align: right;\">2.45</td><td style=\"text-align: right;\">1</td><td style=\"text-align: right;\">0.28</td><td style=\"text-align: right;\">0</td><td style=\"text-align: right;\">0.00</td><td style=\"text-align: right;\">0</td><td style=\"text-align: right;\">0.00</td><td style=\"text-align: right;\">0</td><td style=\"text-align: right;\">0.00</td><td style=\"text-align: right;\">0</td><td style=\"text-align: right;\">0.00</td></tr>\n",
       "<tr><td style=\"text-align: right;\">353729</td><td style=\"text-align: right;\">136,309,239</td><td style=\"text-align: right;\">52,321</td><td style=\"text-align: right;\">9</td><td style=\"text-align: right;\">887</td><td style=\"text-align: right;\">0.04</td><td style=\"text-align: right;\">35</td><td style=\"text-align: right;\">1.00</td><td style=\"text-align: right;\">21</td><td style=\"text-align: right;\">2.98</td><td style=\"text-align: right;\">4</td><td style=\"text-align: right;\">1.82</td><td style=\"text-align: right;\">1</td><td style=\"text-align: right;\">0.21</td><td style=\"text-align: right;\">0</td><td style=\"text-align: right;\">0.00</td><td style=\"text-align: right;\">0</td><td style=\"text-align: right;\">0.00</td><td style=\"text-align: right;\">5</td><td style=\"text-align: right;\">1.97</td><td style=\"text-align: right;\">4</td><td style=\"text-align: right;\">0.93</td></tr>\n",
       "<tr class=\"even\"><td style=\"text-align: right;\">353851</td><td style=\"text-align: right;\">136,448,855</td><td style=\"text-align: right;\">17,976</td><td style=\"text-align: right;\">4</td><td style=\"text-align: right;\">612</td><td style=\"text-align: right;\">0.04</td><td style=\"text-align: right;\">26</td><td style=\"text-align: right;\">0.74</td><td style=\"text-align: right;\">21</td><td style=\"text-align: right;\">4.01</td><td style=\"text-align: right;\">4</td><td style=\"text-align: right;\">2.45</td><td style=\"text-align: right;\">1</td><td style=\"text-align: right;\">0.28</td><td style=\"text-align: right;\">0</td><td style=\"text-align: right;\">0.00</td><td style=\"text-align: right;\">0</td><td style=\"text-align: right;\">0.00</td><td style=\"text-align: right;\">0</td><td style=\"text-align: right;\">0.00</td><td style=\"text-align: right;\">0</td><td style=\"text-align: right;\">0.00</td></tr>\n",
       "<tr><td style=\"text-align: right;\">353483</td><td style=\"text-align: right;\">135,939,427</td><td style=\"text-align: right;\">422,689</td><td style=\"text-align: right;\">22</td><td style=\"text-align: right;\">35</td><td style=\"text-align: right;\">1.00</td><td style=\"text-align: right;\">35</td><td style=\"text-align: right;\">1.00</td><td style=\"text-align: right;\">21</td><td style=\"text-align: right;\">2.98</td><td style=\"text-align: right;\">4</td><td style=\"text-align: right;\">1.82</td><td style=\"text-align: right;\">1</td><td style=\"text-align: right;\">0.21</td><td style=\"text-align: right;\">0</td><td style=\"text-align: right;\">0.00</td><td style=\"text-align: right;\">0</td><td style=\"text-align: right;\">0.00</td><td style=\"text-align: right;\">5</td><td style=\"text-align: right;\">1.97</td><td style=\"text-align: right;\">4</td><td style=\"text-align: right;\">0.93</td></tr>\n",
       "<tr class=\"even\"><td style=\"text-align: right;\">353326</td><td style=\"text-align: right;\">135,791,020</td><td style=\"text-align: right;\">702,063</td><td style=\"text-align: right;\">219</td><td style=\"text-align: right;\">26</td><td style=\"text-align: right;\">1.00</td><td style=\"text-align: right;\">26</td><td style=\"text-align: right;\">0.74</td><td style=\"text-align: right;\">21</td><td style=\"text-align: right;\">4.01</td><td style=\"text-align: right;\">4</td><td style=\"text-align: right;\">2.45</td><td style=\"text-align: right;\">1</td><td style=\"text-align: right;\">0.28</td><td style=\"text-align: right;\">0</td><td style=\"text-align: right;\">0.00</td><td style=\"text-align: right;\">0</td><td style=\"text-align: right;\">0.00</td><td style=\"text-align: right;\">0</td><td style=\"text-align: right;\">0.00</td><td style=\"text-align: right;\">0</td><td style=\"text-align: right;\">0.00</td></tr>\n",
       "</table>"
      ],
      "text/plain": [
       "<IPython.core.display.HTML object>"
      ]
     },
     "execution_count": 4,
     "metadata": {},
     "output_type": "execute_result"
    }
   ],
   "source": [
    "HTML(plt_obj.get_html())"
   ]
  },
  {
   "cell_type": "code",
   "execution_count": 17,
   "metadata": {
    "collapsed": false
   },
   "outputs": [
    {
     "data": {
      "text/html": [
       "\n",
       "\n",
       "    <div class=\"bk-root\">\n",
       "        <div class=\"plotdiv\" id=\"f6f201e4-a5f5-4307-822b-8c8b685c281a\"></div>\n",
       "    </div>\n",
       "<script type=\"text/javascript\">\n",
       "  \n",
       "  (function(global) {\n",
       "    function now() {\n",
       "      return new Date();\n",
       "    }\n",
       "  \n",
       "    if (typeof (window._bokeh_onload_callbacks) === \"undefined\") {\n",
       "      window._bokeh_onload_callbacks = [];\n",
       "    }\n",
       "  \n",
       "    function run_callbacks() {\n",
       "      window._bokeh_onload_callbacks.forEach(function(callback) { callback() });\n",
       "      delete window._bokeh_onload_callbacks\n",
       "      console.info(\"Bokeh: all callbacks have finished\");\n",
       "    }\n",
       "  \n",
       "    function load_libs(js_urls, callback) {\n",
       "      window._bokeh_onload_callbacks.push(callback);\n",
       "      if (window._bokeh_is_loading > 0) {\n",
       "        console.log(\"Bokeh: BokehJS is being loaded, scheduling callback at\", now());\n",
       "        return null;\n",
       "      }\n",
       "      if (js_urls == null || js_urls.length === 0) {\n",
       "        run_callbacks();\n",
       "        return null;\n",
       "      }\n",
       "      console.log(\"Bokeh: BokehJS not loaded, scheduling load and callback at\", now());\n",
       "      window._bokeh_is_loading = js_urls.length;\n",
       "      for (var i = 0; i < js_urls.length; i++) {\n",
       "        var url = js_urls[i];\n",
       "        var s = document.createElement('script');\n",
       "        s.src = url;\n",
       "        s.async = false;\n",
       "        s.onreadystatechange = s.onload = function() {\n",
       "          window._bokeh_is_loading--;\n",
       "          if (window._bokeh_is_loading === 0) {\n",
       "            console.log(\"Bokeh: all BokehJS libraries loaded\");\n",
       "            run_callbacks()\n",
       "          }\n",
       "        };\n",
       "        s.onerror = function() {\n",
       "          console.warn(\"failed to load library \" + url);\n",
       "        };\n",
       "        console.log(\"Bokeh: injecting script tag for BokehJS library: \", url);\n",
       "        document.getElementsByTagName(\"head\")[0].appendChild(s);\n",
       "      }\n",
       "    };var element = document.getElementById(\"f6f201e4-a5f5-4307-822b-8c8b685c281a\");\n",
       "    if (element == null) {\n",
       "      console.log(\"Bokeh: ERROR: autoload.js configured with elementid 'f6f201e4-a5f5-4307-822b-8c8b685c281a' but no matching script tag was found. \")\n",
       "      return false;\n",
       "    }\n",
       "  \n",
       "    var js_urls = [];\n",
       "  \n",
       "    var inline_js = [\n",
       "      function(Bokeh) {\n",
       "        Bokeh.$(function() {\n",
       "            var docs_json = {\"0e259de3-e359-4b3d-98da-4d87be50fcd0\":{\"roots\":{\"references\":[{\"attributes\":{\"callback\":null,\"column_names\":[\"y\",\"x\"],\"data\":{\"x\":[-0.5,-0.5,0.5,0.5,1.5,1.5,20.5,20.5,21.5,21.5,22.5,22.5],\"y\":[0.0,4972.0,4972.0,1.0,1.0,0.0,0.0,1.0,1.0,34.0,34.0,0.0]}},\"id\":\"c55b39e4-8d83-42a7-aa1e-55e31ad8ecf7\",\"type\":\"ColumnDataSource\"},{\"attributes\":{\"plot\":{\"id\":\"2d405da2-eb3a-4207-a6f5-d299dd0b95d2\",\"subtype\":\"Figure\",\"type\":\"Plot\"}},\"id\":\"cfe756cc-cef0-4cd6-918e-f9056b4e9b1a\",\"type\":\"HelpTool\"},{\"attributes\":{},\"id\":\"15fd09c2-6c90-4d3f-b68c-89ce1fe74b36\",\"type\":\"BasicTickFormatter\"},{\"attributes\":{},\"id\":\"671bc49c-14b9-42ce-86ff-4078158f5829\",\"type\":\"BasicTicker\"},{\"attributes\":{\"formatter\":{\"id\":\"ad774b58-59f9-439c-a0c8-7f408b50d3b8\",\"type\":\"BasicTickFormatter\"},\"plot\":{\"id\":\"2d405da2-eb3a-4207-a6f5-d299dd0b95d2\",\"subtype\":\"Figure\",\"type\":\"Plot\"},\"ticker\":{\"id\":\"671bc49c-14b9-42ce-86ff-4078158f5829\",\"type\":\"BasicTicker\"}},\"id\":\"ad87a4d8-e91c-4866-adbf-a0f413f9181c\",\"type\":\"LinearAxis\"},{\"attributes\":{\"active_drag\":\"auto\",\"active_scroll\":\"auto\",\"active_tap\":\"auto\",\"tools\":[{\"id\":\"7e60ef4f-449d-48d5-a69d-4d7c8fe16902\",\"type\":\"PanTool\"},{\"id\":\"73da30a9-45e0-4f5c-a62f-154a0f640a5c\",\"type\":\"WheelZoomTool\"},{\"id\":\"85aac773-d8ae-4b86-ac79-b0a49ff7c4d6\",\"type\":\"BoxZoomTool\"},{\"id\":\"f2e7d62a-455d-4558-b24b-daba0e562723\",\"type\":\"SaveTool\"},{\"id\":\"6bc44b38-f8ce-4751-8f25-06a89bdd88a9\",\"type\":\"ResetTool\"},{\"id\":\"cfe756cc-cef0-4cd6-918e-f9056b4e9b1a\",\"type\":\"HelpTool\"}]},\"id\":\"b449f487-ae06-4bd7-a82d-9cbc72f99404\",\"type\":\"Toolbar\"},{\"attributes\":{\"dimension\":1,\"plot\":{\"id\":\"2d405da2-eb3a-4207-a6f5-d299dd0b95d2\",\"subtype\":\"Figure\",\"type\":\"Plot\"},\"ticker\":{\"id\":\"671bc49c-14b9-42ce-86ff-4078158f5829\",\"type\":\"BasicTicker\"}},\"id\":\"7fe6e282-47d2-41f3-99f7-75f140388df4\",\"type\":\"Grid\"},{\"attributes\":{\"callback\":null,\"end\":5469.200000000001},\"id\":\"7d4f71e3-1fc9-47db-ae51-56537d714f76\",\"type\":\"Range1d\"},{\"attributes\":{\"overlay\":{\"id\":\"b1ef5270-e0f6-4c71-8021-8462929c7df5\",\"type\":\"BoxAnnotation\"},\"plot\":{\"id\":\"2d405da2-eb3a-4207-a6f5-d299dd0b95d2\",\"subtype\":\"Figure\",\"type\":\"Plot\"}},\"id\":\"85aac773-d8ae-4b86-ac79-b0a49ff7c4d6\",\"type\":\"BoxZoomTool\"},{\"attributes\":{\"bottom_units\":\"screen\",\"fill_alpha\":{\"value\":0.5},\"fill_color\":{\"value\":\"lightgrey\"},\"left_units\":\"screen\",\"level\":\"overlay\",\"line_alpha\":{\"value\":1.0},\"line_color\":{\"value\":\"black\"},\"line_dash\":[4,4],\"line_width\":{\"value\":2},\"plot\":null,\"render_mode\":\"css\",\"right_units\":\"screen\",\"top_units\":\"screen\"},\"id\":\"b1ef5270-e0f6-4c71-8021-8462929c7df5\",\"type\":\"BoxAnnotation\"},{\"attributes\":{\"data_source\":{\"id\":\"c55b39e4-8d83-42a7-aa1e-55e31ad8ecf7\",\"type\":\"ColumnDataSource\"},\"glyph\":{\"id\":\"19263c5b-5289-4184-a225-b3464b41415e\",\"type\":\"Line\"},\"hover_glyph\":null,\"nonselection_glyph\":{\"id\":\"0c035d3f-f874-4caf-ad9e-4ac3595a403b\",\"type\":\"Line\"},\"selection_glyph\":null},\"id\":\"7553e2d4-bc90-444b-90bc-8bd1b8d86924\",\"type\":\"GlyphRenderer\"},{\"attributes\":{\"plot\":{\"id\":\"2d405da2-eb3a-4207-a6f5-d299dd0b95d2\",\"subtype\":\"Figure\",\"type\":\"Plot\"}},\"id\":\"73da30a9-45e0-4f5c-a62f-154a0f640a5c\",\"type\":\"WheelZoomTool\"},{\"attributes\":{\"line_alpha\":{\"value\":0.1},\"line_color\":{\"value\":\"#1f77b4\"},\"x\":{\"field\":\"x\"},\"y\":{\"field\":\"y\"}},\"id\":\"0c035d3f-f874-4caf-ad9e-4ac3595a403b\",\"type\":\"Line\"},{\"attributes\":{\"formatter\":{\"id\":\"15fd09c2-6c90-4d3f-b68c-89ce1fe74b36\",\"type\":\"BasicTickFormatter\"},\"plot\":{\"id\":\"2d405da2-eb3a-4207-a6f5-d299dd0b95d2\",\"subtype\":\"Figure\",\"type\":\"Plot\"},\"ticker\":{\"id\":\"c04ee909-27f2-4f10-b7dc-2ff9df7ff43b\",\"type\":\"BasicTicker\"}},\"id\":\"681d6a58-1d79-4717-a697-c3e86a7acbca\",\"type\":\"LinearAxis\"},{\"attributes\":{},\"id\":\"ad774b58-59f9-439c-a0c8-7f408b50d3b8\",\"type\":\"BasicTickFormatter\"},{\"attributes\":{\"plot\":{\"id\":\"2d405da2-eb3a-4207-a6f5-d299dd0b95d2\",\"subtype\":\"Figure\",\"type\":\"Plot\"},\"ticker\":{\"id\":\"c04ee909-27f2-4f10-b7dc-2ff9df7ff43b\",\"type\":\"BasicTicker\"}},\"id\":\"56a97a3c-f788-4700-aefe-7df022772349\",\"type\":\"Grid\"},{\"attributes\":{\"plot\":{\"id\":\"2d405da2-eb3a-4207-a6f5-d299dd0b95d2\",\"subtype\":\"Figure\",\"type\":\"Plot\"}},\"id\":\"7e60ef4f-449d-48d5-a69d-4d7c8fe16902\",\"type\":\"PanTool\"},{\"attributes\":{\"plot\":null,\"text\":null},\"id\":\"f0fdafb2-c006-4f39-b18a-414b16c08ba4\",\"type\":\"Title\"},{\"attributes\":{},\"id\":\"c04ee909-27f2-4f10-b7dc-2ff9df7ff43b\",\"type\":\"BasicTicker\"},{\"attributes\":{\"plot\":{\"id\":\"2d405da2-eb3a-4207-a6f5-d299dd0b95d2\",\"subtype\":\"Figure\",\"type\":\"Plot\"}},\"id\":\"6bc44b38-f8ce-4751-8f25-06a89bdd88a9\",\"type\":\"ResetTool\"},{\"attributes\":{},\"id\":\"8f430738-79ca-4ea2-9400-0bab64c7bb77\",\"type\":\"ToolEvents\"},{\"attributes\":{\"line_color\":{\"value\":\"#1f77b4\"},\"x\":{\"field\":\"x\"},\"y\":{\"field\":\"y\"}},\"id\":\"19263c5b-5289-4184-a225-b3464b41415e\",\"type\":\"Line\"},{\"attributes\":{\"below\":[{\"id\":\"681d6a58-1d79-4717-a697-c3e86a7acbca\",\"type\":\"LinearAxis\"}],\"left\":[{\"id\":\"ad87a4d8-e91c-4866-adbf-a0f413f9181c\",\"type\":\"LinearAxis\"}],\"plot_height\":400,\"plot_width\":900,\"renderers\":[{\"id\":\"681d6a58-1d79-4717-a697-c3e86a7acbca\",\"type\":\"LinearAxis\"},{\"id\":\"56a97a3c-f788-4700-aefe-7df022772349\",\"type\":\"Grid\"},{\"id\":\"ad87a4d8-e91c-4866-adbf-a0f413f9181c\",\"type\":\"LinearAxis\"},{\"id\":\"7fe6e282-47d2-41f3-99f7-75f140388df4\",\"type\":\"Grid\"},{\"id\":\"b1ef5270-e0f6-4c71-8021-8462929c7df5\",\"type\":\"BoxAnnotation\"},{\"id\":\"7553e2d4-bc90-444b-90bc-8bd1b8d86924\",\"type\":\"GlyphRenderer\"}],\"title\":{\"id\":\"f0fdafb2-c006-4f39-b18a-414b16c08ba4\",\"type\":\"Title\"},\"tool_events\":{\"id\":\"8f430738-79ca-4ea2-9400-0bab64c7bb77\",\"type\":\"ToolEvents\"},\"toolbar\":{\"id\":\"b449f487-ae06-4bd7-a82d-9cbc72f99404\",\"type\":\"Toolbar\"},\"toolbar_location\":null,\"x_range\":{\"id\":\"4d2fb26a-71a8-4e61-bf9d-4e26e775a136\",\"type\":\"Range1d\"},\"y_range\":{\"id\":\"7d4f71e3-1fc9-47db-ae51-56537d714f76\",\"type\":\"Range1d\"}},\"id\":\"2d405da2-eb3a-4207-a6f5-d299dd0b95d2\",\"subtype\":\"Figure\",\"type\":\"Plot\"},{\"attributes\":{\"plot\":{\"id\":\"2d405da2-eb3a-4207-a6f5-d299dd0b95d2\",\"subtype\":\"Figure\",\"type\":\"Plot\"}},\"id\":\"f2e7d62a-455d-4558-b24b-daba0e562723\",\"type\":\"SaveTool\"},{\"attributes\":{\"callback\":null,\"end\":23.5,\"start\":-0.5},\"id\":\"4d2fb26a-71a8-4e61-bf9d-4e26e775a136\",\"type\":\"Range1d\"}],\"root_ids\":[\"2d405da2-eb3a-4207-a6f5-d299dd0b95d2\"]},\"title\":\"Bokeh Application\",\"version\":\"0.12.0\"}};\n",
       "            var render_items = [{\"docid\":\"0e259de3-e359-4b3d-98da-4d87be50fcd0\",\"elementid\":\"f6f201e4-a5f5-4307-822b-8c8b685c281a\",\"modelid\":\"2d405da2-eb3a-4207-a6f5-d299dd0b95d2\",\"notebook_comms_target\":\"cfd31f7b-4f25-42da-8f7c-46abd36054c3\"}];\n",
       "            \n",
       "            Bokeh.embed.embed_items(docs_json, render_items);\n",
       "        });\n",
       "      },\n",
       "      function(Bokeh) {\n",
       "      }\n",
       "    ];\n",
       "  \n",
       "    function run_inline_js() {\n",
       "      for (var i = 0; i < inline_js.length; i++) {\n",
       "        inline_js[i](window.Bokeh);\n",
       "      }\n",
       "    }\n",
       "  \n",
       "    if (window._bokeh_is_loading === 0) {\n",
       "      console.log(\"Bokeh: BokehJS loaded, going straight to plotting\");\n",
       "      run_inline_js();\n",
       "    } else {\n",
       "      load_libs(js_urls, function() {\n",
       "        console.log(\"Bokeh: BokehJS plotting callback run at\", now());\n",
       "        run_inline_js();\n",
       "      });\n",
       "    }\n",
       "  }(this));\n",
       "</script>"
      ]
     },
     "metadata": {},
     "output_type": "display_data"
    },
    {
     "data": {
      "text/html": [
       "<p><code>&lt;Bokeh Notebook handle for <strong>In[17]</strong>&gt;</code></p>"
      ],
      "text/plain": [
       "<bokeh.io._CommsHandle at 0x7fd1d8f6b350>"
      ]
     },
     "execution_count": 17,
     "metadata": {},
     "output_type": "execute_result"
    }
   ],
   "source": [
    "count_data = sa_22_35.unique_snps_per_allele()\n",
    "plt_obj = smcp(count_data)\n",
    "plt = plt_obj.do_plot()\n",
    "show(plt)"
   ]
  },
  {
   "cell_type": "code",
   "execution_count": 18,
   "metadata": {
    "collapsed": false
   },
   "outputs": [
    {
     "data": {
      "text/plain": [
       "array([(0, 4972), (1, 1), (21, 1), (22, 34)], \n",
       "      dtype=[('count', '<u2'), ('snps', '<u2')])"
      ]
     },
     "execution_count": 18,
     "metadata": {},
     "output_type": "execute_result"
    }
   ],
   "source": [
    "count_data"
   ]
  },
  {
   "cell_type": "code",
   "execution_count": 5,
   "metadata": {
    "collapsed": false
   },
   "outputs": [
    {
     "data": {
      "text/html": [
       "\n",
       "\n",
       "    <div class=\"bk-root\">\n",
       "        <div class=\"plotdiv\" id=\"c3dc3194-62a2-41e4-ae9d-802eed4189fe\"></div>\n",
       "    </div>\n",
       "<script type=\"text/javascript\">\n",
       "  \n",
       "  (function(global) {\n",
       "    function now() {\n",
       "      return new Date();\n",
       "    }\n",
       "  \n",
       "    if (typeof (window._bokeh_onload_callbacks) === \"undefined\") {\n",
       "      window._bokeh_onload_callbacks = [];\n",
       "    }\n",
       "  \n",
       "    function run_callbacks() {\n",
       "      window._bokeh_onload_callbacks.forEach(function(callback) { callback() });\n",
       "      delete window._bokeh_onload_callbacks\n",
       "      console.info(\"Bokeh: all callbacks have finished\");\n",
       "    }\n",
       "  \n",
       "    function load_libs(js_urls, callback) {\n",
       "      window._bokeh_onload_callbacks.push(callback);\n",
       "      if (window._bokeh_is_loading > 0) {\n",
       "        console.log(\"Bokeh: BokehJS is being loaded, scheduling callback at\", now());\n",
       "        return null;\n",
       "      }\n",
       "      if (js_urls == null || js_urls.length === 0) {\n",
       "        run_callbacks();\n",
       "        return null;\n",
       "      }\n",
       "      console.log(\"Bokeh: BokehJS not loaded, scheduling load and callback at\", now());\n",
       "      window._bokeh_is_loading = js_urls.length;\n",
       "      for (var i = 0; i < js_urls.length; i++) {\n",
       "        var url = js_urls[i];\n",
       "        var s = document.createElement('script');\n",
       "        s.src = url;\n",
       "        s.async = false;\n",
       "        s.onreadystatechange = s.onload = function() {\n",
       "          window._bokeh_is_loading--;\n",
       "          if (window._bokeh_is_loading === 0) {\n",
       "            console.log(\"Bokeh: all BokehJS libraries loaded\");\n",
       "            run_callbacks()\n",
       "          }\n",
       "        };\n",
       "        s.onerror = function() {\n",
       "          console.warn(\"failed to load library \" + url);\n",
       "        };\n",
       "        console.log(\"Bokeh: injecting script tag for BokehJS library: \", url);\n",
       "        document.getElementsByTagName(\"head\")[0].appendChild(s);\n",
       "      }\n",
       "    };var element = document.getElementById(\"c3dc3194-62a2-41e4-ae9d-802eed4189fe\");\n",
       "    if (element == null) {\n",
       "      console.log(\"Bokeh: ERROR: autoload.js configured with elementid 'c3dc3194-62a2-41e4-ae9d-802eed4189fe' but no matching script tag was found. \")\n",
       "      return false;\n",
       "    }\n",
       "  \n",
       "    var js_urls = [];\n",
       "  \n",
       "    var inline_js = [\n",
       "      function(Bokeh) {\n",
       "        Bokeh.$(function() {\n",
       "            var docs_json = {\"7953c2b2-935e-4922-8d54-2fdaf731aa2d\":{\"roots\":{\"references\":[{\"attributes\":{\"formatter\":{\"id\":\"fba1ee6a-e862-4866-903d-3a99cb016091\",\"type\":\"BasicTickFormatter\"},\"plot\":{\"id\":\"aa88f293-f61f-4db0-9430-f179f2f93b91\",\"subtype\":\"Figure\",\"type\":\"Plot\"},\"ticker\":{\"id\":\"c0a2681b-edff-452d-8280-94e33d35196b\",\"type\":\"BasicTicker\"}},\"id\":\"ca1f1071-f1a9-4fcd-a7a6-0683a86dfc4a\",\"type\":\"LinearAxis\"},{\"attributes\":{\"dimension\":1,\"plot\":{\"id\":\"aa88f293-f61f-4db0-9430-f179f2f93b91\",\"subtype\":\"Figure\",\"type\":\"Plot\"},\"ticker\":{\"id\":\"c0a2681b-edff-452d-8280-94e33d35196b\",\"type\":\"BasicTicker\"}},\"id\":\"b52c1886-b2f6-4cc6-9472-d668c111a782\",\"type\":\"Grid\"},{\"attributes\":{},\"id\":\"fba1ee6a-e862-4866-903d-3a99cb016091\",\"type\":\"BasicTickFormatter\"},{\"attributes\":{\"bottom_units\":\"screen\",\"fill_alpha\":{\"value\":0.5},\"fill_color\":{\"value\":\"lightgrey\"},\"left_units\":\"screen\",\"level\":\"overlay\",\"line_alpha\":{\"value\":1.0},\"line_color\":{\"value\":\"black\"},\"line_dash\":[4,4],\"line_width\":{\"value\":2},\"plot\":null,\"render_mode\":\"css\",\"right_units\":\"screen\",\"top_units\":\"screen\"},\"id\":\"6be67a62-d068-4f2f-a301-8651500f49a3\",\"type\":\"BoxAnnotation\"},{\"attributes\":{\"callback\":null,\"end\":60.5,\"start\":-0.5},\"id\":\"9cd88eef-8ec6-441b-9770-bdbe168802b3\",\"type\":\"Range1d\"},{\"attributes\":{\"below\":[{\"id\":\"7ca820ef-58eb-47d2-907b-2ba8a688aced\",\"type\":\"LinearAxis\"}],\"left\":[{\"id\":\"ca1f1071-f1a9-4fcd-a7a6-0683a86dfc4a\",\"type\":\"LinearAxis\"}],\"plot_height\":400,\"plot_width\":900,\"renderers\":[{\"id\":\"7ca820ef-58eb-47d2-907b-2ba8a688aced\",\"type\":\"LinearAxis\"},{\"id\":\"c50b046b-880f-4bc0-8e95-ae4e3d52b5a5\",\"type\":\"Grid\"},{\"id\":\"ca1f1071-f1a9-4fcd-a7a6-0683a86dfc4a\",\"type\":\"LinearAxis\"},{\"id\":\"b52c1886-b2f6-4cc6-9472-d668c111a782\",\"type\":\"Grid\"},{\"id\":\"6be67a62-d068-4f2f-a301-8651500f49a3\",\"type\":\"BoxAnnotation\"},{\"id\":\"cd7b253c-50b4-4acd-8625-4cd20bfece15\",\"type\":\"GlyphRenderer\"}],\"title\":{\"id\":\"b70105c0-4cd6-4d7f-bf9c-4fb8f44167db\",\"type\":\"Title\"},\"tool_events\":{\"id\":\"98cec5e4-1489-48f9-81b9-a4109974741a\",\"type\":\"ToolEvents\"},\"toolbar\":{\"id\":\"b5cd7299-8b2d-4abe-99df-09597bbaaa34\",\"type\":\"Toolbar\"},\"toolbar_location\":null,\"x_range\":{\"id\":\"9cd88eef-8ec6-441b-9770-bdbe168802b3\",\"type\":\"Range1d\"},\"y_range\":{\"id\":\"dde9ffe1-c186-44bd-abe1-635d2d14c38b\",\"type\":\"Range1d\"}},\"id\":\"aa88f293-f61f-4db0-9430-f179f2f93b91\",\"subtype\":\"Figure\",\"type\":\"Plot\"},{\"attributes\":{\"active_drag\":\"auto\",\"active_scroll\":\"auto\",\"active_tap\":\"auto\",\"tools\":[{\"id\":\"6c6077a1-810d-499e-bb72-f9d968dec91b\",\"type\":\"PanTool\"},{\"id\":\"b05961bd-db49-4447-8d7d-56896b7ffd48\",\"type\":\"WheelZoomTool\"},{\"id\":\"98d7e76c-ab24-4194-b459-97fece63a33e\",\"type\":\"BoxZoomTool\"},{\"id\":\"023d4cd9-8f0e-4c38-8588-b04442bbc7d9\",\"type\":\"SaveTool\"},{\"id\":\"bb227687-f3a8-4c73-9a4e-5019b69e876e\",\"type\":\"ResetTool\"},{\"id\":\"1b0dfae4-87cd-4b24-8123-1cdf050acf2c\",\"type\":\"HelpTool\"}]},\"id\":\"b5cd7299-8b2d-4abe-99df-09597bbaaa34\",\"type\":\"Toolbar\"},{\"attributes\":{\"callback\":null,\"column_names\":[\"y\",\"x\"],\"data\":{\"x\":[-0.5,-0.5,42.5,42.5,43.5,43.5,44.5,44.5,45.5,45.5,46.5,46.5,47.5,47.5,52.5,52.5,53.5,53.5,57.5,57.5,58.5,58.5,59.5,59.5],\"y\":[0.0,0.0,0.0,22.0,22.0,1.0,1.0,0.0,0.0,1.0,1.0,1.0,1.0,0.0,0.0,1.0,1.0,0.0,0.0,1.0,1.0,8.0,8.0,0.0]}},\"id\":\"b3852f8c-ecca-4fa4-b38b-cc13b4e6891f\",\"type\":\"ColumnDataSource\"},{\"attributes\":{\"plot\":{\"id\":\"aa88f293-f61f-4db0-9430-f179f2f93b91\",\"subtype\":\"Figure\",\"type\":\"Plot\"}},\"id\":\"b05961bd-db49-4447-8d7d-56896b7ffd48\",\"type\":\"WheelZoomTool\"},{\"attributes\":{},\"id\":\"ffacd99c-0024-4f23-8c5d-60c9edb895e5\",\"type\":\"BasicTicker\"},{\"attributes\":{\"plot\":{\"id\":\"aa88f293-f61f-4db0-9430-f179f2f93b91\",\"subtype\":\"Figure\",\"type\":\"Plot\"}},\"id\":\"bb227687-f3a8-4c73-9a4e-5019b69e876e\",\"type\":\"ResetTool\"},{\"attributes\":{},\"id\":\"9f8e2c35-5570-428d-affc-3ca174e1bc1c\",\"type\":\"BasicTickFormatter\"},{\"attributes\":{\"callback\":null,\"end\":24.200000000000003},\"id\":\"dde9ffe1-c186-44bd-abe1-635d2d14c38b\",\"type\":\"Range1d\"},{\"attributes\":{\"line_color\":{\"value\":\"#1f77b4\"},\"x\":{\"field\":\"x\"},\"y\":{\"field\":\"y\"}},\"id\":\"c71e34c5-88df-4107-aa8d-c917c91ec025\",\"type\":\"Line\"},{\"attributes\":{\"overlay\":{\"id\":\"6be67a62-d068-4f2f-a301-8651500f49a3\",\"type\":\"BoxAnnotation\"},\"plot\":{\"id\":\"aa88f293-f61f-4db0-9430-f179f2f93b91\",\"subtype\":\"Figure\",\"type\":\"Plot\"}},\"id\":\"98d7e76c-ab24-4194-b459-97fece63a33e\",\"type\":\"BoxZoomTool\"},{\"attributes\":{\"line_alpha\":{\"value\":0.1},\"line_color\":{\"value\":\"#1f77b4\"},\"x\":{\"field\":\"x\"},\"y\":{\"field\":\"y\"}},\"id\":\"809df1ea-c7ad-4791-8db9-11cc5c884342\",\"type\":\"Line\"},{\"attributes\":{\"plot\":{\"id\":\"aa88f293-f61f-4db0-9430-f179f2f93b91\",\"subtype\":\"Figure\",\"type\":\"Plot\"}},\"id\":\"6c6077a1-810d-499e-bb72-f9d968dec91b\",\"type\":\"PanTool\"},{\"attributes\":{\"plot\":{\"id\":\"aa88f293-f61f-4db0-9430-f179f2f93b91\",\"subtype\":\"Figure\",\"type\":\"Plot\"},\"ticker\":{\"id\":\"ffacd99c-0024-4f23-8c5d-60c9edb895e5\",\"type\":\"BasicTicker\"}},\"id\":\"c50b046b-880f-4bc0-8e95-ae4e3d52b5a5\",\"type\":\"Grid\"},{\"attributes\":{\"formatter\":{\"id\":\"9f8e2c35-5570-428d-affc-3ca174e1bc1c\",\"type\":\"BasicTickFormatter\"},\"plot\":{\"id\":\"aa88f293-f61f-4db0-9430-f179f2f93b91\",\"subtype\":\"Figure\",\"type\":\"Plot\"},\"ticker\":{\"id\":\"ffacd99c-0024-4f23-8c5d-60c9edb895e5\",\"type\":\"BasicTicker\"}},\"id\":\"7ca820ef-58eb-47d2-907b-2ba8a688aced\",\"type\":\"LinearAxis\"},{\"attributes\":{\"plot\":null,\"text\":null},\"id\":\"b70105c0-4cd6-4d7f-bf9c-4fb8f44167db\",\"type\":\"Title\"},{\"attributes\":{\"plot\":{\"id\":\"aa88f293-f61f-4db0-9430-f179f2f93b91\",\"subtype\":\"Figure\",\"type\":\"Plot\"}},\"id\":\"1b0dfae4-87cd-4b24-8123-1cdf050acf2c\",\"type\":\"HelpTool\"},{\"attributes\":{\"plot\":{\"id\":\"aa88f293-f61f-4db0-9430-f179f2f93b91\",\"subtype\":\"Figure\",\"type\":\"Plot\"}},\"id\":\"023d4cd9-8f0e-4c38-8588-b04442bbc7d9\",\"type\":\"SaveTool\"},{\"attributes\":{\"data_source\":{\"id\":\"b3852f8c-ecca-4fa4-b38b-cc13b4e6891f\",\"type\":\"ColumnDataSource\"},\"glyph\":{\"id\":\"c71e34c5-88df-4107-aa8d-c917c91ec025\",\"type\":\"Line\"},\"hover_glyph\":null,\"nonselection_glyph\":{\"id\":\"809df1ea-c7ad-4791-8db9-11cc5c884342\",\"type\":\"Line\"},\"selection_glyph\":null},\"id\":\"cd7b253c-50b4-4acd-8625-4cd20bfece15\",\"type\":\"GlyphRenderer\"},{\"attributes\":{},\"id\":\"c0a2681b-edff-452d-8280-94e33d35196b\",\"type\":\"BasicTicker\"},{\"attributes\":{},\"id\":\"98cec5e4-1489-48f9-81b9-a4109974741a\",\"type\":\"ToolEvents\"}],\"root_ids\":[\"aa88f293-f61f-4db0-9430-f179f2f93b91\"]},\"title\":\"Bokeh Application\",\"version\":\"0.12.0\"}};\n",
       "            var render_items = [{\"docid\":\"7953c2b2-935e-4922-8d54-2fdaf731aa2d\",\"elementid\":\"c3dc3194-62a2-41e4-ae9d-802eed4189fe\",\"modelid\":\"aa88f293-f61f-4db0-9430-f179f2f93b91\",\"notebook_comms_target\":\"808349a3-4b70-4227-8fd8-c54e8dff3f7f\"}];\n",
       "            \n",
       "            Bokeh.embed.embed_items(docs_json, render_items);\n",
       "        });\n",
       "      },\n",
       "      function(Bokeh) {\n",
       "      }\n",
       "    ];\n",
       "  \n",
       "    function run_inline_js() {\n",
       "      for (var i = 0; i < inline_js.length; i++) {\n",
       "        inline_js[i](window.Bokeh);\n",
       "      }\n",
       "    }\n",
       "  \n",
       "    if (window._bokeh_is_loading === 0) {\n",
       "      console.log(\"Bokeh: BokehJS loaded, going straight to plotting\");\n",
       "      run_inline_js();\n",
       "    } else {\n",
       "      load_libs(js_urls, function() {\n",
       "        console.log(\"Bokeh: BokehJS plotting callback run at\", now());\n",
       "        run_inline_js();\n",
       "      });\n",
       "    }\n",
       "  }(this));\n",
       "</script>"
      ]
     },
     "metadata": {},
     "output_type": "display_data"
    },
    {
     "data": {
      "text/html": [
       "<p><code>&lt;Bokeh Notebook handle for <strong>In[5]</strong>&gt;</code></p>"
      ],
      "text/plain": [
       "<bokeh.io._CommsHandle at 0x7fd208742c90>"
      ]
     },
     "execution_count": 5,
     "metadata": {},
     "output_type": "execute_result"
    }
   ],
   "source": [
    "count_data = sa_117_1685.unique_snps_per_allele(am_22_35)\n",
    "plt_obj = smcp(count_data)\n",
    "plt = plt_obj.do_plot()\n",
    "show(plt)"
   ]
  },
  {
   "cell_type": "code",
   "execution_count": 6,
   "metadata": {
    "collapsed": false
   },
   "outputs": [
    {
     "data": {
      "text/plain": [
       "array([(43, 22), (44, 1), (46, 1), (47, 1), (53, 1), (58, 1), (59, 8)], \n",
       "      dtype=[('count', '<u2'), ('snps', '<u2')])"
      ]
     },
     "execution_count": 6,
     "metadata": {},
     "output_type": "execute_result"
    }
   ],
   "source": [
    "count_data"
   ]
  },
  {
   "cell_type": "code",
   "execution_count": 7,
   "metadata": {
    "collapsed": false
   },
   "outputs": [
    {
     "data": {
      "text/plain": [
       "array([ 1,  1,  0,  0,  0,  0,  0,  0,  0,  0,  0, 35,  3,  0,  3,  0,  0,\n",
       "        0,  0,  0, 35, 11,  0,  0,  0, 35,  0,  0,  0, 12,  0,  0,  0,  0,\n",
       "        0,  0,  0,  0,  0,  0,  0,  0,  0,  0,  0,  0,  0,  0,  0, 23,  0,\n",
       "        0,  0,  0,  1,  0,  0,  0,  0,  0,  0,  0,  0, 35, 35, 35, 35, 35,\n",
       "       35, 35,  9, 35, 10, 10, 35,  9, 34, 35,  9, 35,  9, 35, 10, 35,  9,\n",
       "       35,  9, 34, 35, 35, 10, 10, 10, 10, 11, 35, 35, 35, 35, 35, 35, 35,\n",
       "       35,  9, 35, 35, 35, 35, 35, 34, 35, 35, 35, 35, 35, 35, 35])"
      ]
     },
     "execution_count": 7,
     "metadata": {},
     "output_type": "execute_result"
    }
   ],
   "source": [
    "sa_117_1685.alleles_per_snp(am_22_35)"
   ]
  },
  {
   "cell_type": "code",
   "execution_count": 19,
   "metadata": {
    "collapsed": false
   },
   "outputs": [
    {
     "data": {
      "text/html": [
       "\n",
       "\n",
       "    <div class=\"bk-root\">\n",
       "        <div class=\"plotdiv\" id=\"eb29b553-4c25-48bc-9d47-4717b72fef54\"></div>\n",
       "    </div>\n",
       "<script type=\"text/javascript\">\n",
       "  \n",
       "  (function(global) {\n",
       "    function now() {\n",
       "      return new Date();\n",
       "    }\n",
       "  \n",
       "    if (typeof (window._bokeh_onload_callbacks) === \"undefined\") {\n",
       "      window._bokeh_onload_callbacks = [];\n",
       "    }\n",
       "  \n",
       "    function run_callbacks() {\n",
       "      window._bokeh_onload_callbacks.forEach(function(callback) { callback() });\n",
       "      delete window._bokeh_onload_callbacks\n",
       "      console.info(\"Bokeh: all callbacks have finished\");\n",
       "    }\n",
       "  \n",
       "    function load_libs(js_urls, callback) {\n",
       "      window._bokeh_onload_callbacks.push(callback);\n",
       "      if (window._bokeh_is_loading > 0) {\n",
       "        console.log(\"Bokeh: BokehJS is being loaded, scheduling callback at\", now());\n",
       "        return null;\n",
       "      }\n",
       "      if (js_urls == null || js_urls.length === 0) {\n",
       "        run_callbacks();\n",
       "        return null;\n",
       "      }\n",
       "      console.log(\"Bokeh: BokehJS not loaded, scheduling load and callback at\", now());\n",
       "      window._bokeh_is_loading = js_urls.length;\n",
       "      for (var i = 0; i < js_urls.length; i++) {\n",
       "        var url = js_urls[i];\n",
       "        var s = document.createElement('script');\n",
       "        s.src = url;\n",
       "        s.async = false;\n",
       "        s.onreadystatechange = s.onload = function() {\n",
       "          window._bokeh_is_loading--;\n",
       "          if (window._bokeh_is_loading === 0) {\n",
       "            console.log(\"Bokeh: all BokehJS libraries loaded\");\n",
       "            run_callbacks()\n",
       "          }\n",
       "        };\n",
       "        s.onerror = function() {\n",
       "          console.warn(\"failed to load library \" + url);\n",
       "        };\n",
       "        console.log(\"Bokeh: injecting script tag for BokehJS library: \", url);\n",
       "        document.getElementsByTagName(\"head\")[0].appendChild(s);\n",
       "      }\n",
       "    };var element = document.getElementById(\"eb29b553-4c25-48bc-9d47-4717b72fef54\");\n",
       "    if (element == null) {\n",
       "      console.log(\"Bokeh: ERROR: autoload.js configured with elementid 'eb29b553-4c25-48bc-9d47-4717b72fef54' but no matching script tag was found. \")\n",
       "      return false;\n",
       "    }\n",
       "  \n",
       "    var js_urls = [];\n",
       "  \n",
       "    var inline_js = [\n",
       "      function(Bokeh) {\n",
       "        Bokeh.$(function() {\n",
       "            var docs_json = {\"dc234cae-ea4f-439e-a974-dec0d7af4ff0\":{\"roots\":{\"references\":[{\"attributes\":{\"plot\":{\"id\":\"cb87df8c-afc7-4e88-b413-1f16cfe2374f\",\"subtype\":\"Figure\",\"type\":\"Plot\"}},\"id\":\"29c0fd82-b022-4d81-9392-740c832d77fe\",\"type\":\"SaveTool\"},{\"attributes\":{\"bottom_units\":\"screen\",\"fill_alpha\":{\"value\":0.5},\"fill_color\":{\"value\":\"lightgrey\"},\"left_units\":\"screen\",\"level\":\"overlay\",\"line_alpha\":{\"value\":1.0},\"line_color\":{\"value\":\"black\"},\"line_dash\":[4,4],\"line_width\":{\"value\":2},\"plot\":null,\"render_mode\":\"css\",\"right_units\":\"screen\",\"top_units\":\"screen\"},\"id\":\"e351878a-386c-4420-b153-53b4bb21125e\",\"type\":\"BoxAnnotation\"},{\"attributes\":{\"plot\":{\"id\":\"cb87df8c-afc7-4e88-b413-1f16cfe2374f\",\"subtype\":\"Figure\",\"type\":\"Plot\"}},\"id\":\"762ec297-f377-4f17-8fe0-28dc1e21acf6\",\"type\":\"HelpTool\"},{\"attributes\":{\"plot\":{\"id\":\"cb87df8c-afc7-4e88-b413-1f16cfe2374f\",\"subtype\":\"Figure\",\"type\":\"Plot\"},\"ticker\":{\"id\":\"0f4542a2-ea5b-460e-b9e9-a30a49f9e820\",\"type\":\"BasicTicker\"}},\"id\":\"73cd5df2-3875-4372-b296-e32dbbc13e5c\",\"type\":\"Grid\"},{\"attributes\":{},\"id\":\"7676c397-c831-42ba-a8e2-f487b02a5747\",\"type\":\"BasicTickFormatter\"},{\"attributes\":{},\"id\":\"bab8c0b1-31a5-4bbc-91b0-428879e4200c\",\"type\":\"BasicTickFormatter\"},{\"attributes\":{\"line_alpha\":{\"value\":0.1},\"line_color\":{\"value\":\"#1f77b4\"},\"x\":{\"field\":\"x\"},\"y\":{\"field\":\"y\"}},\"id\":\"6d50535f-d9f4-4612-bae7-02c57f321579\",\"type\":\"Line\"},{\"attributes\":{},\"id\":\"a9287db8-995b-478c-b9f5-6215125938b6\",\"type\":\"ToolEvents\"},{\"attributes\":{\"plot\":null,\"text\":null},\"id\":\"cdfe62a7-aee0-4565-bb2a-44113005125d\",\"type\":\"Title\"},{\"attributes\":{\"callback\":null,\"column_names\":[\"y\",\"x\"],\"data\":{\"x\":[-0.5,-0.5,57.5,57.5,58.5,58.5,59.5,59.5],\"y\":[0.0,0.0,0.0,1.0,1.0,8.0,8.0,0.0]}},\"id\":\"567c8fd4-b8b6-47cd-b474-1a6b84eb3852\",\"type\":\"ColumnDataSource\"},{\"attributes\":{\"data_source\":{\"id\":\"567c8fd4-b8b6-47cd-b474-1a6b84eb3852\",\"type\":\"ColumnDataSource\"},\"glyph\":{\"id\":\"0c25d573-24fe-4b0a-9ab6-6ef5cb5dc50c\",\"type\":\"Line\"},\"hover_glyph\":null,\"nonselection_glyph\":{\"id\":\"6d50535f-d9f4-4612-bae7-02c57f321579\",\"type\":\"Line\"},\"selection_glyph\":null},\"id\":\"49a13e67-7392-4698-a3e1-82a73f39727f\",\"type\":\"GlyphRenderer\"},{\"attributes\":{},\"id\":\"700fbc20-45a1-423c-ad93-82b7d1525a8f\",\"type\":\"BasicTicker\"},{\"attributes\":{\"callback\":null,\"end\":60.5,\"start\":-0.5},\"id\":\"d44edae3-df9d-46c3-bbb2-4a30be96b30f\",\"type\":\"Range1d\"},{\"attributes\":{\"active_drag\":\"auto\",\"active_scroll\":\"auto\",\"active_tap\":\"auto\",\"tools\":[{\"id\":\"10763f9b-7b35-4afa-bee6-dc81d83d42b1\",\"type\":\"PanTool\"},{\"id\":\"e51f1dfa-ad0a-4002-9f5a-cfa6391da5ad\",\"type\":\"WheelZoomTool\"},{\"id\":\"bf9dbb5a-9c58-41f9-bda5-d2b9eefcb344\",\"type\":\"BoxZoomTool\"},{\"id\":\"29c0fd82-b022-4d81-9392-740c832d77fe\",\"type\":\"SaveTool\"},{\"id\":\"8cd477ab-7e66-4be8-a056-648808b07f31\",\"type\":\"ResetTool\"},{\"id\":\"762ec297-f377-4f17-8fe0-28dc1e21acf6\",\"type\":\"HelpTool\"}]},\"id\":\"4a2d0ed8-2f7b-4d52-b560-b6611ae5ce5f\",\"type\":\"Toolbar\"},{\"attributes\":{\"line_color\":{\"value\":\"#1f77b4\"},\"x\":{\"field\":\"x\"},\"y\":{\"field\":\"y\"}},\"id\":\"0c25d573-24fe-4b0a-9ab6-6ef5cb5dc50c\",\"type\":\"Line\"},{\"attributes\":{\"plot\":{\"id\":\"cb87df8c-afc7-4e88-b413-1f16cfe2374f\",\"subtype\":\"Figure\",\"type\":\"Plot\"}},\"id\":\"e51f1dfa-ad0a-4002-9f5a-cfa6391da5ad\",\"type\":\"WheelZoomTool\"},{\"attributes\":{\"plot\":{\"id\":\"cb87df8c-afc7-4e88-b413-1f16cfe2374f\",\"subtype\":\"Figure\",\"type\":\"Plot\"}},\"id\":\"8cd477ab-7e66-4be8-a056-648808b07f31\",\"type\":\"ResetTool\"},{\"attributes\":{\"formatter\":{\"id\":\"7676c397-c831-42ba-a8e2-f487b02a5747\",\"type\":\"BasicTickFormatter\"},\"plot\":{\"id\":\"cb87df8c-afc7-4e88-b413-1f16cfe2374f\",\"subtype\":\"Figure\",\"type\":\"Plot\"},\"ticker\":{\"id\":\"700fbc20-45a1-423c-ad93-82b7d1525a8f\",\"type\":\"BasicTicker\"}},\"id\":\"75929f4f-4143-49ad-95ee-fdbee8ffe7cb\",\"type\":\"LinearAxis\"},{\"attributes\":{\"dimension\":1,\"plot\":{\"id\":\"cb87df8c-afc7-4e88-b413-1f16cfe2374f\",\"subtype\":\"Figure\",\"type\":\"Plot\"},\"ticker\":{\"id\":\"700fbc20-45a1-423c-ad93-82b7d1525a8f\",\"type\":\"BasicTicker\"}},\"id\":\"218e57f4-8339-47dc-899d-72a4a0034e3f\",\"type\":\"Grid\"},{\"attributes\":{\"formatter\":{\"id\":\"bab8c0b1-31a5-4bbc-91b0-428879e4200c\",\"type\":\"BasicTickFormatter\"},\"plot\":{\"id\":\"cb87df8c-afc7-4e88-b413-1f16cfe2374f\",\"subtype\":\"Figure\",\"type\":\"Plot\"},\"ticker\":{\"id\":\"0f4542a2-ea5b-460e-b9e9-a30a49f9e820\",\"type\":\"BasicTicker\"}},\"id\":\"6960f8ab-dede-49fd-9627-2f369e3adfba\",\"type\":\"LinearAxis\"},{\"attributes\":{\"callback\":null,\"end\":8.8},\"id\":\"4397608a-7fc8-4f61-9d81-24c163dbd4cf\",\"type\":\"Range1d\"},{\"attributes\":{\"plot\":{\"id\":\"cb87df8c-afc7-4e88-b413-1f16cfe2374f\",\"subtype\":\"Figure\",\"type\":\"Plot\"}},\"id\":\"10763f9b-7b35-4afa-bee6-dc81d83d42b1\",\"type\":\"PanTool\"},{\"attributes\":{\"overlay\":{\"id\":\"e351878a-386c-4420-b153-53b4bb21125e\",\"type\":\"BoxAnnotation\"},\"plot\":{\"id\":\"cb87df8c-afc7-4e88-b413-1f16cfe2374f\",\"subtype\":\"Figure\",\"type\":\"Plot\"}},\"id\":\"bf9dbb5a-9c58-41f9-bda5-d2b9eefcb344\",\"type\":\"BoxZoomTool\"},{\"attributes\":{},\"id\":\"0f4542a2-ea5b-460e-b9e9-a30a49f9e820\",\"type\":\"BasicTicker\"},{\"attributes\":{\"below\":[{\"id\":\"6960f8ab-dede-49fd-9627-2f369e3adfba\",\"type\":\"LinearAxis\"}],\"left\":[{\"id\":\"75929f4f-4143-49ad-95ee-fdbee8ffe7cb\",\"type\":\"LinearAxis\"}],\"plot_height\":400,\"plot_width\":900,\"renderers\":[{\"id\":\"6960f8ab-dede-49fd-9627-2f369e3adfba\",\"type\":\"LinearAxis\"},{\"id\":\"73cd5df2-3875-4372-b296-e32dbbc13e5c\",\"type\":\"Grid\"},{\"id\":\"75929f4f-4143-49ad-95ee-fdbee8ffe7cb\",\"type\":\"LinearAxis\"},{\"id\":\"218e57f4-8339-47dc-899d-72a4a0034e3f\",\"type\":\"Grid\"},{\"id\":\"e351878a-386c-4420-b153-53b4bb21125e\",\"type\":\"BoxAnnotation\"},{\"id\":\"49a13e67-7392-4698-a3e1-82a73f39727f\",\"type\":\"GlyphRenderer\"}],\"title\":{\"id\":\"cdfe62a7-aee0-4565-bb2a-44113005125d\",\"type\":\"Title\"},\"tool_events\":{\"id\":\"a9287db8-995b-478c-b9f5-6215125938b6\",\"type\":\"ToolEvents\"},\"toolbar\":{\"id\":\"4a2d0ed8-2f7b-4d52-b560-b6611ae5ce5f\",\"type\":\"Toolbar\"},\"toolbar_location\":null,\"x_range\":{\"id\":\"d44edae3-df9d-46c3-bbb2-4a30be96b30f\",\"type\":\"Range1d\"},\"y_range\":{\"id\":\"4397608a-7fc8-4f61-9d81-24c163dbd4cf\",\"type\":\"Range1d\"}},\"id\":\"cb87df8c-afc7-4e88-b413-1f16cfe2374f\",\"subtype\":\"Figure\",\"type\":\"Plot\"}],\"root_ids\":[\"cb87df8c-afc7-4e88-b413-1f16cfe2374f\"]},\"title\":\"Bokeh Application\",\"version\":\"0.12.0\"}};\n",
       "            var render_items = [{\"docid\":\"dc234cae-ea4f-439e-a974-dec0d7af4ff0\",\"elementid\":\"eb29b553-4c25-48bc-9d47-4717b72fef54\",\"modelid\":\"cb87df8c-afc7-4e88-b413-1f16cfe2374f\",\"notebook_comms_target\":\"2c7cf9d7-25df-49a0-a4f4-92730f72a10b\"}];\n",
       "            \n",
       "            Bokeh.embed.embed_items(docs_json, render_items);\n",
       "        });\n",
       "      },\n",
       "      function(Bokeh) {\n",
       "      }\n",
       "    ];\n",
       "  \n",
       "    function run_inline_js() {\n",
       "      for (var i = 0; i < inline_js.length; i++) {\n",
       "        inline_js[i](window.Bokeh);\n",
       "      }\n",
       "    }\n",
       "  \n",
       "    if (window._bokeh_is_loading === 0) {\n",
       "      console.log(\"Bokeh: BokehJS loaded, going straight to plotting\");\n",
       "      run_inline_js();\n",
       "    } else {\n",
       "      load_libs(js_urls, function() {\n",
       "        console.log(\"Bokeh: BokehJS plotting callback run at\", now());\n",
       "        run_inline_js();\n",
       "      });\n",
       "    }\n",
       "  }(this));\n",
       "</script>"
      ]
     },
     "metadata": {},
     "output_type": "display_data"
    },
    {
     "data": {
      "text/html": [
       "<p><code>&lt;Bokeh Notebook handle for <strong>In[19]</strong>&gt;</code></p>"
      ],
      "text/plain": [
       "<bokeh.io._CommsHandle at 0x7fd1d8f6bd50>"
      ]
     },
     "execution_count": 19,
     "metadata": {},
     "output_type": "execute_result"
    }
   ],
   "source": [
    "count_data = sa_117_1685.unique_snps_per_allele(am_22_35_not_219_26)\n",
    "plt_obj = smcp(count_data)\n",
    "plt = plt_obj.do_plot()\n",
    "show(plt)"
   ]
  },
  {
   "cell_type": "code",
   "execution_count": 20,
   "metadata": {
    "collapsed": false
   },
   "outputs": [
    {
     "data": {
      "text/plain": [
       "array([(58, 1), (59, 8)], \n",
       "      dtype=[('count', '<u2'), ('snps', '<u2')])"
      ]
     },
     "execution_count": 20,
     "metadata": {},
     "output_type": "execute_result"
    }
   ],
   "source": [
    "count_data"
   ]
  },
  {
   "cell_type": "code",
   "execution_count": 21,
   "metadata": {
    "collapsed": false
   },
   "outputs": [
    {
     "data": {
      "text/plain": [
       "array([0, 0, 0, 0, 0, 0, 0, 0, 0, 0, 0, 9, 0, 0, 0, 0, 0, 0, 0, 0, 9, 9, 0,\n",
       "       0, 0, 9, 0, 0, 0, 9, 0, 0, 0, 0, 0, 0, 0, 0, 0, 0, 0, 0, 0, 0, 0, 0,\n",
       "       0, 0, 0, 0, 0, 0, 0, 0, 0, 0, 0, 0, 0, 0, 0, 0, 0, 9, 9, 9, 9, 9, 9,\n",
       "       9, 9, 9, 9, 9, 9, 9, 9, 9, 9, 9, 9, 9, 9, 9, 9, 9, 9, 9, 9, 9, 9, 9,\n",
       "       9, 9, 9, 9, 9, 9, 9, 9, 9, 9, 9, 9, 9, 9, 9, 9, 9, 8, 9, 9, 9, 9, 9,\n",
       "       9, 9])"
      ]
     },
     "execution_count": 21,
     "metadata": {},
     "output_type": "execute_result"
    }
   ],
   "source": [
    "sa_117_1685.alleles_per_snp(am_22_35_not_219_26)"
   ]
  },
  {
   "cell_type": "code",
   "execution_count": 22,
   "metadata": {
    "collapsed": false
   },
   "outputs": [
    {
     "data": {
      "text/html": [
       "\n",
       "\n",
       "    <div class=\"bk-root\">\n",
       "        <div class=\"plotdiv\" id=\"ff69fe13-06b1-4e8e-8391-ae7e9ab6726e\"></div>\n",
       "    </div>\n",
       "<script type=\"text/javascript\">\n",
       "  \n",
       "  (function(global) {\n",
       "    function now() {\n",
       "      return new Date();\n",
       "    }\n",
       "  \n",
       "    if (typeof (window._bokeh_onload_callbacks) === \"undefined\") {\n",
       "      window._bokeh_onload_callbacks = [];\n",
       "    }\n",
       "  \n",
       "    function run_callbacks() {\n",
       "      window._bokeh_onload_callbacks.forEach(function(callback) { callback() });\n",
       "      delete window._bokeh_onload_callbacks\n",
       "      console.info(\"Bokeh: all callbacks have finished\");\n",
       "    }\n",
       "  \n",
       "    function load_libs(js_urls, callback) {\n",
       "      window._bokeh_onload_callbacks.push(callback);\n",
       "      if (window._bokeh_is_loading > 0) {\n",
       "        console.log(\"Bokeh: BokehJS is being loaded, scheduling callback at\", now());\n",
       "        return null;\n",
       "      }\n",
       "      if (js_urls == null || js_urls.length === 0) {\n",
       "        run_callbacks();\n",
       "        return null;\n",
       "      }\n",
       "      console.log(\"Bokeh: BokehJS not loaded, scheduling load and callback at\", now());\n",
       "      window._bokeh_is_loading = js_urls.length;\n",
       "      for (var i = 0; i < js_urls.length; i++) {\n",
       "        var url = js_urls[i];\n",
       "        var s = document.createElement('script');\n",
       "        s.src = url;\n",
       "        s.async = false;\n",
       "        s.onreadystatechange = s.onload = function() {\n",
       "          window._bokeh_is_loading--;\n",
       "          if (window._bokeh_is_loading === 0) {\n",
       "            console.log(\"Bokeh: all BokehJS libraries loaded\");\n",
       "            run_callbacks()\n",
       "          }\n",
       "        };\n",
       "        s.onerror = function() {\n",
       "          console.warn(\"failed to load library \" + url);\n",
       "        };\n",
       "        console.log(\"Bokeh: injecting script tag for BokehJS library: \", url);\n",
       "        document.getElementsByTagName(\"head\")[0].appendChild(s);\n",
       "      }\n",
       "    };var element = document.getElementById(\"ff69fe13-06b1-4e8e-8391-ae7e9ab6726e\");\n",
       "    if (element == null) {\n",
       "      console.log(\"Bokeh: ERROR: autoload.js configured with elementid 'ff69fe13-06b1-4e8e-8391-ae7e9ab6726e' but no matching script tag was found. \")\n",
       "      return false;\n",
       "    }\n",
       "  \n",
       "    var js_urls = [];\n",
       "  \n",
       "    var inline_js = [\n",
       "      function(Bokeh) {\n",
       "        Bokeh.$(function() {\n",
       "            var docs_json = {\"3e388636-5ee7-43ab-ae10-96673962b2b0\":{\"roots\":{\"references\":[{\"attributes\":{},\"id\":\"09916318-e1ba-467c-be56-023ea5044cdc\",\"type\":\"BasicTickFormatter\"},{\"attributes\":{\"overlay\":{\"id\":\"08f6ef6a-d8fc-4f8c-9969-75e024f1131b\",\"type\":\"BoxAnnotation\"},\"plot\":{\"id\":\"e6bef556-f045-4ddb-bde6-c428ef0f313b\",\"subtype\":\"Figure\",\"type\":\"Plot\"}},\"id\":\"a32ec904-38b1-4606-a9a1-90ed95186b10\",\"type\":\"BoxZoomTool\"},{\"attributes\":{\"callback\":null,\"end\":124.5,\"start\":-0.5},\"id\":\"635ba3fd-a806-4512-9344-1a31d43f7061\",\"type\":\"Range1d\"},{\"attributes\":{\"formatter\":{\"id\":\"09916318-e1ba-467c-be56-023ea5044cdc\",\"type\":\"BasicTickFormatter\"},\"plot\":{\"id\":\"e6bef556-f045-4ddb-bde6-c428ef0f313b\",\"subtype\":\"Figure\",\"type\":\"Plot\"},\"ticker\":{\"id\":\"33e479d8-ca38-43d9-99c6-b45d47517c61\",\"type\":\"BasicTicker\"}},\"id\":\"050c794e-3b14-4597-a41f-527efd409066\",\"type\":\"LinearAxis\"},{\"attributes\":{\"active_drag\":\"auto\",\"active_scroll\":\"auto\",\"active_tap\":\"auto\",\"tools\":[{\"id\":\"6aef8302-2331-4cc7-9ac5-73d487dc534c\",\"type\":\"PanTool\"},{\"id\":\"de17a934-3e36-49e3-99b4-7b222b31aa6f\",\"type\":\"WheelZoomTool\"},{\"id\":\"a32ec904-38b1-4606-a9a1-90ed95186b10\",\"type\":\"BoxZoomTool\"},{\"id\":\"1d7d00ba-0eb2-45e5-84da-aed2c6a1830d\",\"type\":\"SaveTool\"},{\"id\":\"54fe7844-99d4-4490-ba14-141bb8c330f9\",\"type\":\"ResetTool\"},{\"id\":\"3d8ac557-972b-4d67-b0f1-79c71ce75f4d\",\"type\":\"HelpTool\"}]},\"id\":\"38a40c8e-e382-445f-927b-2434d6b26e4d\",\"type\":\"Toolbar\"},{\"attributes\":{\"plot\":{\"id\":\"e6bef556-f045-4ddb-bde6-c428ef0f313b\",\"subtype\":\"Figure\",\"type\":\"Plot\"}},\"id\":\"1d7d00ba-0eb2-45e5-84da-aed2c6a1830d\",\"type\":\"SaveTool\"},{\"attributes\":{\"plot\":{\"id\":\"e6bef556-f045-4ddb-bde6-c428ef0f313b\",\"subtype\":\"Figure\",\"type\":\"Plot\"}},\"id\":\"3d8ac557-972b-4d67-b0f1-79c71ce75f4d\",\"type\":\"HelpTool\"},{\"attributes\":{\"line_alpha\":{\"value\":0.1},\"line_color\":{\"value\":\"#1f77b4\"},\"x\":{\"field\":\"x\"},\"y\":{\"field\":\"y\"}},\"id\":\"a1a9d862-703f-4882-b647-6518adf26748\",\"type\":\"Line\"},{\"attributes\":{\"plot\":{\"id\":\"e6bef556-f045-4ddb-bde6-c428ef0f313b\",\"subtype\":\"Figure\",\"type\":\"Plot\"}},\"id\":\"6aef8302-2331-4cc7-9ac5-73d487dc534c\",\"type\":\"PanTool\"},{\"attributes\":{\"callback\":null,\"column_names\":[\"y\",\"x\"],\"data\":{\"x\":[-0.5,-0.5,118.5,118.5,119.5,119.5,120.5,120.5,121.5,121.5,122.5,122.5,123.5,123.5],\"y\":[0.0,0.0,0.0,1.0,1.0,0.0,0.0,3.0,3.0,5.0,5.0,26.0,26.0,0.0]}},\"id\":\"a2892cf3-1a36-482f-8bb7-fafbf210b58e\",\"type\":\"ColumnDataSource\"},{\"attributes\":{\"data_source\":{\"id\":\"a2892cf3-1a36-482f-8bb7-fafbf210b58e\",\"type\":\"ColumnDataSource\"},\"glyph\":{\"id\":\"1e234120-b514-4c53-a177-c21bf520db8c\",\"type\":\"Line\"},\"hover_glyph\":null,\"nonselection_glyph\":{\"id\":\"a1a9d862-703f-4882-b647-6518adf26748\",\"type\":\"Line\"},\"selection_glyph\":null},\"id\":\"852cebf4-6927-439b-8114-b2836a96ab30\",\"type\":\"GlyphRenderer\"},{\"attributes\":{},\"id\":\"b91c98a2-531f-4da7-8d77-f25e67c3b45d\",\"type\":\"ToolEvents\"},{\"attributes\":{\"plot\":{\"id\":\"e6bef556-f045-4ddb-bde6-c428ef0f313b\",\"subtype\":\"Figure\",\"type\":\"Plot\"}},\"id\":\"54fe7844-99d4-4490-ba14-141bb8c330f9\",\"type\":\"ResetTool\"},{\"attributes\":{},\"id\":\"9aafe1bf-3983-4122-81dd-56737f569198\",\"type\":\"BasicTickFormatter\"},{\"attributes\":{\"line_color\":{\"value\":\"#1f77b4\"},\"x\":{\"field\":\"x\"},\"y\":{\"field\":\"y\"}},\"id\":\"1e234120-b514-4c53-a177-c21bf520db8c\",\"type\":\"Line\"},{\"attributes\":{},\"id\":\"33e479d8-ca38-43d9-99c6-b45d47517c61\",\"type\":\"BasicTicker\"},{\"attributes\":{\"plot\":null,\"text\":null},\"id\":\"2ee7acc4-4719-4e39-bdaa-b5fb30f32a9d\",\"type\":\"Title\"},{\"attributes\":{\"plot\":{\"id\":\"e6bef556-f045-4ddb-bde6-c428ef0f313b\",\"subtype\":\"Figure\",\"type\":\"Plot\"}},\"id\":\"de17a934-3e36-49e3-99b4-7b222b31aa6f\",\"type\":\"WheelZoomTool\"},{\"attributes\":{\"dimension\":1,\"plot\":{\"id\":\"e6bef556-f045-4ddb-bde6-c428ef0f313b\",\"subtype\":\"Figure\",\"type\":\"Plot\"},\"ticker\":{\"id\":\"33e479d8-ca38-43d9-99c6-b45d47517c61\",\"type\":\"BasicTicker\"}},\"id\":\"22dd2477-b0e5-4e67-b26a-9fadeeba79d0\",\"type\":\"Grid\"},{\"attributes\":{\"plot\":{\"id\":\"e6bef556-f045-4ddb-bde6-c428ef0f313b\",\"subtype\":\"Figure\",\"type\":\"Plot\"},\"ticker\":{\"id\":\"21cea627-6503-492b-9054-415d1c8228be\",\"type\":\"BasicTicker\"}},\"id\":\"7225084b-2bd2-4260-9d2e-e0f340ed5197\",\"type\":\"Grid\"},{\"attributes\":{\"below\":[{\"id\":\"5dbef2ca-2f2e-4000-b417-c33feac10f85\",\"type\":\"LinearAxis\"}],\"left\":[{\"id\":\"050c794e-3b14-4597-a41f-527efd409066\",\"type\":\"LinearAxis\"}],\"plot_height\":400,\"plot_width\":900,\"renderers\":[{\"id\":\"5dbef2ca-2f2e-4000-b417-c33feac10f85\",\"type\":\"LinearAxis\"},{\"id\":\"7225084b-2bd2-4260-9d2e-e0f340ed5197\",\"type\":\"Grid\"},{\"id\":\"050c794e-3b14-4597-a41f-527efd409066\",\"type\":\"LinearAxis\"},{\"id\":\"22dd2477-b0e5-4e67-b26a-9fadeeba79d0\",\"type\":\"Grid\"},{\"id\":\"08f6ef6a-d8fc-4f8c-9969-75e024f1131b\",\"type\":\"BoxAnnotation\"},{\"id\":\"852cebf4-6927-439b-8114-b2836a96ab30\",\"type\":\"GlyphRenderer\"}],\"title\":{\"id\":\"2ee7acc4-4719-4e39-bdaa-b5fb30f32a9d\",\"type\":\"Title\"},\"tool_events\":{\"id\":\"b91c98a2-531f-4da7-8d77-f25e67c3b45d\",\"type\":\"ToolEvents\"},\"toolbar\":{\"id\":\"38a40c8e-e382-445f-927b-2434d6b26e4d\",\"type\":\"Toolbar\"},\"toolbar_location\":null,\"x_range\":{\"id\":\"635ba3fd-a806-4512-9344-1a31d43f7061\",\"type\":\"Range1d\"},\"y_range\":{\"id\":\"f224d6e2-93e4-4f40-81f1-5740a386202a\",\"type\":\"Range1d\"}},\"id\":\"e6bef556-f045-4ddb-bde6-c428ef0f313b\",\"subtype\":\"Figure\",\"type\":\"Plot\"},{\"attributes\":{},\"id\":\"21cea627-6503-492b-9054-415d1c8228be\",\"type\":\"BasicTicker\"},{\"attributes\":{\"callback\":null,\"end\":28.6},\"id\":\"f224d6e2-93e4-4f40-81f1-5740a386202a\",\"type\":\"Range1d\"},{\"attributes\":{\"bottom_units\":\"screen\",\"fill_alpha\":{\"value\":0.5},\"fill_color\":{\"value\":\"lightgrey\"},\"left_units\":\"screen\",\"level\":\"overlay\",\"line_alpha\":{\"value\":1.0},\"line_color\":{\"value\":\"black\"},\"line_dash\":[4,4],\"line_width\":{\"value\":2},\"plot\":null,\"render_mode\":\"css\",\"right_units\":\"screen\",\"top_units\":\"screen\"},\"id\":\"08f6ef6a-d8fc-4f8c-9969-75e024f1131b\",\"type\":\"BoxAnnotation\"},{\"attributes\":{\"formatter\":{\"id\":\"9aafe1bf-3983-4122-81dd-56737f569198\",\"type\":\"BasicTickFormatter\"},\"plot\":{\"id\":\"e6bef556-f045-4ddb-bde6-c428ef0f313b\",\"subtype\":\"Figure\",\"type\":\"Plot\"},\"ticker\":{\"id\":\"21cea627-6503-492b-9054-415d1c8228be\",\"type\":\"BasicTicker\"}},\"id\":\"5dbef2ca-2f2e-4000-b417-c33feac10f85\",\"type\":\"LinearAxis\"}],\"root_ids\":[\"e6bef556-f045-4ddb-bde6-c428ef0f313b\"]},\"title\":\"Bokeh Application\",\"version\":\"0.12.0\"}};\n",
       "            var render_items = [{\"docid\":\"3e388636-5ee7-43ab-ae10-96673962b2b0\",\"elementid\":\"ff69fe13-06b1-4e8e-8391-ae7e9ab6726e\",\"modelid\":\"e6bef556-f045-4ddb-bde6-c428ef0f313b\",\"notebook_comms_target\":\"8b6e87fc-f4a8-4165-85e5-f7b648146b36\"}];\n",
       "            \n",
       "            Bokeh.embed.embed_items(docs_json, render_items);\n",
       "        });\n",
       "      },\n",
       "      function(Bokeh) {\n",
       "      }\n",
       "    ];\n",
       "  \n",
       "    function run_inline_js() {\n",
       "      for (var i = 0; i < inline_js.length; i++) {\n",
       "        inline_js[i](window.Bokeh);\n",
       "      }\n",
       "    }\n",
       "  \n",
       "    if (window._bokeh_is_loading === 0) {\n",
       "      console.log(\"Bokeh: BokehJS loaded, going straight to plotting\");\n",
       "      run_inline_js();\n",
       "    } else {\n",
       "      load_libs(js_urls, function() {\n",
       "        console.log(\"Bokeh: BokehJS plotting callback run at\", now());\n",
       "        run_inline_js();\n",
       "      });\n",
       "    }\n",
       "  }(this));\n",
       "</script>"
      ]
     },
     "metadata": {},
     "output_type": "display_data"
    },
    {
     "data": {
      "text/html": [
       "<p><code>&lt;Bokeh Notebook handle for <strong>In[22]</strong>&gt;</code></p>"
      ],
      "text/plain": [
       "<bokeh.io._CommsHandle at 0x7fd1d8f59250>"
      ]
     },
     "execution_count": 22,
     "metadata": {},
     "output_type": "execute_result"
    }
   ],
   "source": [
    "count_data = sa_123_1561.unique_snps_per_allele(am_22_35)\n",
    "plt_obj = smcp(count_data)\n",
    "plt = plt_obj.do_plot()\n",
    "show(plt)"
   ]
  },
  {
   "cell_type": "code",
   "execution_count": 23,
   "metadata": {
    "collapsed": false
   },
   "outputs": [
    {
     "data": {
      "text/plain": [
       "array([(119, 1), (121, 3), (122, 5), (123, 26)], \n",
       "      dtype=[('count', '<u2'), ('snps', '<u2')])"
      ]
     },
     "execution_count": 23,
     "metadata": {},
     "output_type": "execute_result"
    }
   ],
   "source": [
    "count_data"
   ]
  },
  {
   "cell_type": "code",
   "execution_count": 24,
   "metadata": {
    "collapsed": false
   },
   "outputs": [
    {
     "data": {
      "text/html": [
       "\n",
       "\n",
       "    <div class=\"bk-root\">\n",
       "        <div class=\"plotdiv\" id=\"3cad52b9-74f1-45da-a25d-cbc311ef338d\"></div>\n",
       "    </div>\n",
       "<script type=\"text/javascript\">\n",
       "  \n",
       "  (function(global) {\n",
       "    function now() {\n",
       "      return new Date();\n",
       "    }\n",
       "  \n",
       "    if (typeof (window._bokeh_onload_callbacks) === \"undefined\") {\n",
       "      window._bokeh_onload_callbacks = [];\n",
       "    }\n",
       "  \n",
       "    function run_callbacks() {\n",
       "      window._bokeh_onload_callbacks.forEach(function(callback) { callback() });\n",
       "      delete window._bokeh_onload_callbacks\n",
       "      console.info(\"Bokeh: all callbacks have finished\");\n",
       "    }\n",
       "  \n",
       "    function load_libs(js_urls, callback) {\n",
       "      window._bokeh_onload_callbacks.push(callback);\n",
       "      if (window._bokeh_is_loading > 0) {\n",
       "        console.log(\"Bokeh: BokehJS is being loaded, scheduling callback at\", now());\n",
       "        return null;\n",
       "      }\n",
       "      if (js_urls == null || js_urls.length === 0) {\n",
       "        run_callbacks();\n",
       "        return null;\n",
       "      }\n",
       "      console.log(\"Bokeh: BokehJS not loaded, scheduling load and callback at\", now());\n",
       "      window._bokeh_is_loading = js_urls.length;\n",
       "      for (var i = 0; i < js_urls.length; i++) {\n",
       "        var url = js_urls[i];\n",
       "        var s = document.createElement('script');\n",
       "        s.src = url;\n",
       "        s.async = false;\n",
       "        s.onreadystatechange = s.onload = function() {\n",
       "          window._bokeh_is_loading--;\n",
       "          if (window._bokeh_is_loading === 0) {\n",
       "            console.log(\"Bokeh: all BokehJS libraries loaded\");\n",
       "            run_callbacks()\n",
       "          }\n",
       "        };\n",
       "        s.onerror = function() {\n",
       "          console.warn(\"failed to load library \" + url);\n",
       "        };\n",
       "        console.log(\"Bokeh: injecting script tag for BokehJS library: \", url);\n",
       "        document.getElementsByTagName(\"head\")[0].appendChild(s);\n",
       "      }\n",
       "    };var element = document.getElementById(\"3cad52b9-74f1-45da-a25d-cbc311ef338d\");\n",
       "    if (element == null) {\n",
       "      console.log(\"Bokeh: ERROR: autoload.js configured with elementid '3cad52b9-74f1-45da-a25d-cbc311ef338d' but no matching script tag was found. \")\n",
       "      return false;\n",
       "    }\n",
       "  \n",
       "    var js_urls = [];\n",
       "  \n",
       "    var inline_js = [\n",
       "      function(Bokeh) {\n",
       "        Bokeh.$(function() {\n",
       "            var docs_json = {\"c93ac332-1a0d-4310-9ab4-8eaafc1f0bab\":{\"roots\":{\"references\":[{\"attributes\":{\"plot\":null,\"text\":null},\"id\":\"dfb0a0e9-46fd-4078-aee7-a406fea55374\",\"type\":\"Title\"},{\"attributes\":{\"plot\":{\"id\":\"b697af43-d0a3-4737-83a1-ad732cf2ad61\",\"subtype\":\"Figure\",\"type\":\"Plot\"}},\"id\":\"252723f3-18fa-463f-b545-aeb424748e2a\",\"type\":\"ResetTool\"},{\"attributes\":{},\"id\":\"5d802bbd-dc85-4326-abbe-ceb8950547f2\",\"type\":\"BasicTicker\"},{\"attributes\":{},\"id\":\"d83f277c-04e5-493d-a4f3-623aa0544244\",\"type\":\"BasicTickFormatter\"},{\"attributes\":{\"line_alpha\":{\"value\":0.1},\"line_color\":{\"value\":\"#1f77b4\"},\"x\":{\"field\":\"x\"},\"y\":{\"field\":\"y\"}},\"id\":\"cdc7db43-dfde-4ab1-956e-2c070ec66d8f\",\"type\":\"Line\"},{\"attributes\":{},\"id\":\"84c2d5d8-fa15-4c88-b00f-b5c1d70b356a\",\"type\":\"BasicTickFormatter\"},{\"attributes\":{\"callback\":null,\"end\":123.5,\"start\":-0.5},\"id\":\"e309d595-2598-4823-bef1-c84794151533\",\"type\":\"Range1d\"},{\"attributes\":{\"formatter\":{\"id\":\"d83f277c-04e5-493d-a4f3-623aa0544244\",\"type\":\"BasicTickFormatter\"},\"plot\":{\"id\":\"b697af43-d0a3-4737-83a1-ad732cf2ad61\",\"subtype\":\"Figure\",\"type\":\"Plot\"},\"ticker\":{\"id\":\"244ed258-2e86-4063-945f-479d65d3b26a\",\"type\":\"BasicTicker\"}},\"id\":\"21b2cb06-d30e-40c8-9e4c-854fc6a33c07\",\"type\":\"LinearAxis\"},{\"attributes\":{\"bottom_units\":\"screen\",\"fill_alpha\":{\"value\":0.5},\"fill_color\":{\"value\":\"lightgrey\"},\"left_units\":\"screen\",\"level\":\"overlay\",\"line_alpha\":{\"value\":1.0},\"line_color\":{\"value\":\"black\"},\"line_dash\":[4,4],\"line_width\":{\"value\":2},\"plot\":null,\"render_mode\":\"css\",\"right_units\":\"screen\",\"top_units\":\"screen\"},\"id\":\"e6469028-b621-4a6b-bcc9-4609993bd1ee\",\"type\":\"BoxAnnotation\"},{\"attributes\":{\"overlay\":{\"id\":\"e6469028-b621-4a6b-bcc9-4609993bd1ee\",\"type\":\"BoxAnnotation\"},\"plot\":{\"id\":\"b697af43-d0a3-4737-83a1-ad732cf2ad61\",\"subtype\":\"Figure\",\"type\":\"Plot\"}},\"id\":\"e7148599-4b3b-4096-805f-e6b2b32b8227\",\"type\":\"BoxZoomTool\"},{\"attributes\":{\"below\":[{\"id\":\"21b2cb06-d30e-40c8-9e4c-854fc6a33c07\",\"type\":\"LinearAxis\"}],\"left\":[{\"id\":\"94250f94-84a1-4b9d-bb85-0f20ee1c79ec\",\"type\":\"LinearAxis\"}],\"plot_height\":400,\"plot_width\":900,\"renderers\":[{\"id\":\"21b2cb06-d30e-40c8-9e4c-854fc6a33c07\",\"type\":\"LinearAxis\"},{\"id\":\"b1e6c0cd-814d-4061-b7d0-890529f0475f\",\"type\":\"Grid\"},{\"id\":\"94250f94-84a1-4b9d-bb85-0f20ee1c79ec\",\"type\":\"LinearAxis\"},{\"id\":\"a6bf653b-6b1f-4bfb-ab84-2dfbb4a15ef9\",\"type\":\"Grid\"},{\"id\":\"e6469028-b621-4a6b-bcc9-4609993bd1ee\",\"type\":\"BoxAnnotation\"},{\"id\":\"4d20eed1-d7fd-410d-a7ed-90a3cfdeaf58\",\"type\":\"GlyphRenderer\"}],\"title\":{\"id\":\"dfb0a0e9-46fd-4078-aee7-a406fea55374\",\"type\":\"Title\"},\"tool_events\":{\"id\":\"73de829d-35b0-4932-a71a-eaf7240bb90f\",\"type\":\"ToolEvents\"},\"toolbar\":{\"id\":\"0a2bf099-7e7e-4b0d-a420-27311c6a667e\",\"type\":\"Toolbar\"},\"toolbar_location\":null,\"x_range\":{\"id\":\"e309d595-2598-4823-bef1-c84794151533\",\"type\":\"Range1d\"},\"y_range\":{\"id\":\"7bdd2a6b-91c8-4cb5-b79c-7170b41b120a\",\"type\":\"Range1d\"}},\"id\":\"b697af43-d0a3-4737-83a1-ad732cf2ad61\",\"subtype\":\"Figure\",\"type\":\"Plot\"},{\"attributes\":{\"active_drag\":\"auto\",\"active_scroll\":\"auto\",\"active_tap\":\"auto\",\"tools\":[{\"id\":\"b4e4dff4-0383-457c-8e1f-0a0a4546498d\",\"type\":\"PanTool\"},{\"id\":\"6033b6fe-1ef2-4110-9c7f-aa0a6fd93dfd\",\"type\":\"WheelZoomTool\"},{\"id\":\"e7148599-4b3b-4096-805f-e6b2b32b8227\",\"type\":\"BoxZoomTool\"},{\"id\":\"257e2d30-f270-4c4a-91a6-7969f74a0ac7\",\"type\":\"SaveTool\"},{\"id\":\"252723f3-18fa-463f-b545-aeb424748e2a\",\"type\":\"ResetTool\"},{\"id\":\"1d03dc83-8f31-4fbf-b34f-4f6a07972bdc\",\"type\":\"HelpTool\"}]},\"id\":\"0a2bf099-7e7e-4b0d-a420-27311c6a667e\",\"type\":\"Toolbar\"},{\"attributes\":{\"callback\":null,\"end\":5.5},\"id\":\"7bdd2a6b-91c8-4cb5-b79c-7170b41b120a\",\"type\":\"Range1d\"},{\"attributes\":{\"data_source\":{\"id\":\"980ebcc0-6b4a-4c84-a4f7-0fe78651dcdb\",\"type\":\"ColumnDataSource\"},\"glyph\":{\"id\":\"c94aa012-3307-498e-ad22-a286e1404cb7\",\"type\":\"Line\"},\"hover_glyph\":null,\"nonselection_glyph\":{\"id\":\"cdc7db43-dfde-4ab1-956e-2c070ec66d8f\",\"type\":\"Line\"},\"selection_glyph\":null},\"id\":\"4d20eed1-d7fd-410d-a7ed-90a3cfdeaf58\",\"type\":\"GlyphRenderer\"},{\"attributes\":{\"line_color\":{\"value\":\"#1f77b4\"},\"x\":{\"field\":\"x\"},\"y\":{\"field\":\"y\"}},\"id\":\"c94aa012-3307-498e-ad22-a286e1404cb7\",\"type\":\"Line\"},{\"attributes\":{\"formatter\":{\"id\":\"84c2d5d8-fa15-4c88-b00f-b5c1d70b356a\",\"type\":\"BasicTickFormatter\"},\"plot\":{\"id\":\"b697af43-d0a3-4737-83a1-ad732cf2ad61\",\"subtype\":\"Figure\",\"type\":\"Plot\"},\"ticker\":{\"id\":\"5d802bbd-dc85-4326-abbe-ceb8950547f2\",\"type\":\"BasicTicker\"}},\"id\":\"94250f94-84a1-4b9d-bb85-0f20ee1c79ec\",\"type\":\"LinearAxis\"},{\"attributes\":{\"plot\":{\"id\":\"b697af43-d0a3-4737-83a1-ad732cf2ad61\",\"subtype\":\"Figure\",\"type\":\"Plot\"}},\"id\":\"6033b6fe-1ef2-4110-9c7f-aa0a6fd93dfd\",\"type\":\"WheelZoomTool\"},{\"attributes\":{},\"id\":\"244ed258-2e86-4063-945f-479d65d3b26a\",\"type\":\"BasicTicker\"},{\"attributes\":{\"plot\":{\"id\":\"b697af43-d0a3-4737-83a1-ad732cf2ad61\",\"subtype\":\"Figure\",\"type\":\"Plot\"}},\"id\":\"b4e4dff4-0383-457c-8e1f-0a0a4546498d\",\"type\":\"PanTool\"},{\"attributes\":{\"plot\":{\"id\":\"b697af43-d0a3-4737-83a1-ad732cf2ad61\",\"subtype\":\"Figure\",\"type\":\"Plot\"}},\"id\":\"257e2d30-f270-4c4a-91a6-7969f74a0ac7\",\"type\":\"SaveTool\"},{\"attributes\":{},\"id\":\"73de829d-35b0-4932-a71a-eaf7240bb90f\",\"type\":\"ToolEvents\"},{\"attributes\":{\"callback\":null,\"column_names\":[\"y\",\"x\"],\"data\":{\"x\":[-0.5,-0.5,118.5,118.5,119.5,119.5,120.5,120.5,121.5,121.5,122.5,122.5],\"y\":[0.0,0.0,0.0,1.0,1.0,0.0,0.0,3.0,3.0,5.0,5.0,0.0]}},\"id\":\"980ebcc0-6b4a-4c84-a4f7-0fe78651dcdb\",\"type\":\"ColumnDataSource\"},{\"attributes\":{\"plot\":{\"id\":\"b697af43-d0a3-4737-83a1-ad732cf2ad61\",\"subtype\":\"Figure\",\"type\":\"Plot\"}},\"id\":\"1d03dc83-8f31-4fbf-b34f-4f6a07972bdc\",\"type\":\"HelpTool\"},{\"attributes\":{\"plot\":{\"id\":\"b697af43-d0a3-4737-83a1-ad732cf2ad61\",\"subtype\":\"Figure\",\"type\":\"Plot\"},\"ticker\":{\"id\":\"244ed258-2e86-4063-945f-479d65d3b26a\",\"type\":\"BasicTicker\"}},\"id\":\"b1e6c0cd-814d-4061-b7d0-890529f0475f\",\"type\":\"Grid\"},{\"attributes\":{\"dimension\":1,\"plot\":{\"id\":\"b697af43-d0a3-4737-83a1-ad732cf2ad61\",\"subtype\":\"Figure\",\"type\":\"Plot\"},\"ticker\":{\"id\":\"5d802bbd-dc85-4326-abbe-ceb8950547f2\",\"type\":\"BasicTicker\"}},\"id\":\"a6bf653b-6b1f-4bfb-ab84-2dfbb4a15ef9\",\"type\":\"Grid\"}],\"root_ids\":[\"b697af43-d0a3-4737-83a1-ad732cf2ad61\"]},\"title\":\"Bokeh Application\",\"version\":\"0.12.0\"}};\n",
       "            var render_items = [{\"docid\":\"c93ac332-1a0d-4310-9ab4-8eaafc1f0bab\",\"elementid\":\"3cad52b9-74f1-45da-a25d-cbc311ef338d\",\"modelid\":\"b697af43-d0a3-4737-83a1-ad732cf2ad61\",\"notebook_comms_target\":\"ab70c833-93c9-4718-ae42-8bee20098266\"}];\n",
       "            \n",
       "            Bokeh.embed.embed_items(docs_json, render_items);\n",
       "        });\n",
       "      },\n",
       "      function(Bokeh) {\n",
       "      }\n",
       "    ];\n",
       "  \n",
       "    function run_inline_js() {\n",
       "      for (var i = 0; i < inline_js.length; i++) {\n",
       "        inline_js[i](window.Bokeh);\n",
       "      }\n",
       "    }\n",
       "  \n",
       "    if (window._bokeh_is_loading === 0) {\n",
       "      console.log(\"Bokeh: BokehJS loaded, going straight to plotting\");\n",
       "      run_inline_js();\n",
       "    } else {\n",
       "      load_libs(js_urls, function() {\n",
       "        console.log(\"Bokeh: BokehJS plotting callback run at\", now());\n",
       "        run_inline_js();\n",
       "      });\n",
       "    }\n",
       "  }(this));\n",
       "</script>"
      ]
     },
     "metadata": {},
     "output_type": "display_data"
    },
    {
     "data": {
      "text/html": [
       "<p><code>&lt;Bokeh Notebook handle for <strong>In[24]</strong>&gt;</code></p>"
      ],
      "text/plain": [
       "<bokeh.io._CommsHandle at 0x7fd1d8f59bd0>"
      ]
     },
     "execution_count": 24,
     "metadata": {},
     "output_type": "execute_result"
    }
   ],
   "source": [
    "count_data = sa_123_1561.unique_snps_per_allele(am_22_35_not_219_26)\n",
    "plt_obj = smcp(count_data)\n",
    "plt = plt_obj.do_plot()\n",
    "show(plt)"
   ]
  },
  {
   "cell_type": "code",
   "execution_count": 25,
   "metadata": {
    "collapsed": false
   },
   "outputs": [
    {
     "data": {
      "text/plain": [
       "array([(119, 1), (121, 3), (122, 5)], \n",
       "      dtype=[('count', '<u2'), ('snps', '<u2')])"
      ]
     },
     "execution_count": 25,
     "metadata": {},
     "output_type": "execute_result"
    }
   ],
   "source": [
    "count_data"
   ]
  },
  {
   "cell_type": "code",
   "execution_count": 26,
   "metadata": {
    "collapsed": false
   },
   "outputs": [
    {
     "data": {
      "text/plain": [
       "array([9, 9, 9, 9, 9, 9, 9, 9, 9, 9, 0, 9, 9, 9, 9, 9, 9, 9, 9, 9, 9, 9, 9,\n",
       "       9, 9, 9, 9, 9, 9, 9, 9, 9, 9, 9, 9, 9, 9, 9, 9, 9, 9, 9, 9, 9, 9, 9,\n",
       "       9, 9, 9, 9, 9, 9, 9, 9, 9, 9, 9, 9, 9, 9, 9, 9, 9, 9, 9, 9, 9, 9, 9,\n",
       "       9, 9, 9, 9, 9, 9, 9, 7, 9, 9, 7, 9, 9, 9, 9, 9, 9, 9, 9, 9, 9, 9, 9,\n",
       "       9, 9, 9, 9, 9, 8, 8, 9, 9, 9, 9, 9, 9, 9, 9, 9, 9, 9, 9, 9, 9, 9, 9,\n",
       "       9, 9, 9, 9, 9, 9, 9, 9])"
      ]
     },
     "execution_count": 26,
     "metadata": {},
     "output_type": "execute_result"
    }
   ],
   "source": [
    "sa_123_1561.alleles_per_snp(am_22_35_not_219_26)"
   ]
  },
  {
   "cell_type": "code",
   "execution_count": 11,
   "metadata": {
    "collapsed": false
   },
   "outputs": [
    {
     "data": {
      "text/html": [
       "\n",
       "\n",
       "    <div class=\"bk-root\">\n",
       "        <div class=\"plotdiv\" id=\"0b05539a-e42e-4529-b493-3b667c44b5a5\"></div>\n",
       "    </div>\n",
       "<script type=\"text/javascript\">\n",
       "  \n",
       "  (function(global) {\n",
       "    function now() {\n",
       "      return new Date();\n",
       "    }\n",
       "  \n",
       "    if (typeof (window._bokeh_onload_callbacks) === \"undefined\") {\n",
       "      window._bokeh_onload_callbacks = [];\n",
       "    }\n",
       "  \n",
       "    function run_callbacks() {\n",
       "      window._bokeh_onload_callbacks.forEach(function(callback) { callback() });\n",
       "      delete window._bokeh_onload_callbacks\n",
       "      console.info(\"Bokeh: all callbacks have finished\");\n",
       "    }\n",
       "  \n",
       "    function load_libs(js_urls, callback) {\n",
       "      window._bokeh_onload_callbacks.push(callback);\n",
       "      if (window._bokeh_is_loading > 0) {\n",
       "        console.log(\"Bokeh: BokehJS is being loaded, scheduling callback at\", now());\n",
       "        return null;\n",
       "      }\n",
       "      if (js_urls == null || js_urls.length === 0) {\n",
       "        run_callbacks();\n",
       "        return null;\n",
       "      }\n",
       "      console.log(\"Bokeh: BokehJS not loaded, scheduling load and callback at\", now());\n",
       "      window._bokeh_is_loading = js_urls.length;\n",
       "      for (var i = 0; i < js_urls.length; i++) {\n",
       "        var url = js_urls[i];\n",
       "        var s = document.createElement('script');\n",
       "        s.src = url;\n",
       "        s.async = false;\n",
       "        s.onreadystatechange = s.onload = function() {\n",
       "          window._bokeh_is_loading--;\n",
       "          if (window._bokeh_is_loading === 0) {\n",
       "            console.log(\"Bokeh: all BokehJS libraries loaded\");\n",
       "            run_callbacks()\n",
       "          }\n",
       "        };\n",
       "        s.onerror = function() {\n",
       "          console.warn(\"failed to load library \" + url);\n",
       "        };\n",
       "        console.log(\"Bokeh: injecting script tag for BokehJS library: \", url);\n",
       "        document.getElementsByTagName(\"head\")[0].appendChild(s);\n",
       "      }\n",
       "    };var element = document.getElementById(\"0b05539a-e42e-4529-b493-3b667c44b5a5\");\n",
       "    if (element == null) {\n",
       "      console.log(\"Bokeh: ERROR: autoload.js configured with elementid '0b05539a-e42e-4529-b493-3b667c44b5a5' but no matching script tag was found. \")\n",
       "      return false;\n",
       "    }\n",
       "  \n",
       "    var js_urls = [];\n",
       "  \n",
       "    var inline_js = [\n",
       "      function(Bokeh) {\n",
       "        Bokeh.$(function() {\n",
       "            var docs_json = {\"06cacf4a-d6fb-4eab-afb1-41cbd10819fd\":{\"roots\":{\"references\":[{\"attributes\":{\"callback\":null,\"end\":50.5,\"start\":-0.5},\"id\":\"90dbea3f-8519-47c7-b067-0fb7ddc4e8b6\",\"type\":\"Range1d\"},{\"attributes\":{\"plot\":null,\"text\":null},\"id\":\"fe49cf8e-2bc3-43ce-8d22-ecee4a2ecf40\",\"type\":\"Title\"},{\"attributes\":{\"plot\":{\"id\":\"df82b4a1-3dce-462d-b290-7b84604b7929\",\"subtype\":\"Figure\",\"type\":\"Plot\"}},\"id\":\"b2a4fbe7-83ed-4193-8f79-3e99a1f8dca2\",\"type\":\"WheelZoomTool\"},{\"attributes\":{\"callback\":null,\"column_names\":[\"y\",\"x\"],\"data\":{\"x\":[-0.5,-0.5,46.5,46.5,47.5,47.5,48.5,48.5,49.5,49.5],\"y\":[0.0,0.0,0.0,13.0,13.0,13.0,13.0,9.0,9.0,0.0]}},\"id\":\"82cd29c7-064a-4dbf-a8ee-b5675729d83e\",\"type\":\"ColumnDataSource\"},{\"attributes\":{\"overlay\":{\"id\":\"67322781-2e07-44c2-bd4d-2bb257a61eb2\",\"type\":\"BoxAnnotation\"},\"plot\":{\"id\":\"df82b4a1-3dce-462d-b290-7b84604b7929\",\"subtype\":\"Figure\",\"type\":\"Plot\"}},\"id\":\"026b61ad-6348-42a6-a0cb-43b6df7ccd0e\",\"type\":\"BoxZoomTool\"},{\"attributes\":{\"line_color\":{\"value\":\"#1f77b4\"},\"x\":{\"field\":\"x\"},\"y\":{\"field\":\"y\"}},\"id\":\"87b9e30a-abd5-4c32-bf6a-53369d4e3455\",\"type\":\"Line\"},{\"attributes\":{\"below\":[{\"id\":\"9e8860a3-b53f-4a89-b1f2-73c2b3916f83\",\"type\":\"LinearAxis\"}],\"left\":[{\"id\":\"cceb06e6-79be-4c62-9381-0c53c22997e3\",\"type\":\"LinearAxis\"}],\"plot_height\":400,\"plot_width\":900,\"renderers\":[{\"id\":\"9e8860a3-b53f-4a89-b1f2-73c2b3916f83\",\"type\":\"LinearAxis\"},{\"id\":\"3d0e3049-9729-4f9b-a8fd-564d1b4d883e\",\"type\":\"Grid\"},{\"id\":\"cceb06e6-79be-4c62-9381-0c53c22997e3\",\"type\":\"LinearAxis\"},{\"id\":\"1ace9d8d-1b50-40d1-a2e5-046d1e37332f\",\"type\":\"Grid\"},{\"id\":\"67322781-2e07-44c2-bd4d-2bb257a61eb2\",\"type\":\"BoxAnnotation\"},{\"id\":\"e11459af-dbb7-4d48-a644-357351021cfb\",\"type\":\"GlyphRenderer\"}],\"title\":{\"id\":\"fe49cf8e-2bc3-43ce-8d22-ecee4a2ecf40\",\"type\":\"Title\"},\"tool_events\":{\"id\":\"d0943ce5-8089-4678-a9bd-d11a563c7ede\",\"type\":\"ToolEvents\"},\"toolbar\":{\"id\":\"7b468b7b-812d-48d8-af8a-33b926ec59e3\",\"type\":\"Toolbar\"},\"toolbar_location\":null,\"x_range\":{\"id\":\"90dbea3f-8519-47c7-b067-0fb7ddc4e8b6\",\"type\":\"Range1d\"},\"y_range\":{\"id\":\"bff10102-1121-46ec-b811-6abf955e8a37\",\"type\":\"Range1d\"}},\"id\":\"df82b4a1-3dce-462d-b290-7b84604b7929\",\"subtype\":\"Figure\",\"type\":\"Plot\"},{\"attributes\":{\"callback\":null,\"end\":14.3},\"id\":\"bff10102-1121-46ec-b811-6abf955e8a37\",\"type\":\"Range1d\"},{\"attributes\":{\"plot\":{\"id\":\"df82b4a1-3dce-462d-b290-7b84604b7929\",\"subtype\":\"Figure\",\"type\":\"Plot\"}},\"id\":\"65e21226-f7fa-4c16-addc-742c8fe626fb\",\"type\":\"SaveTool\"},{\"attributes\":{\"plot\":{\"id\":\"df82b4a1-3dce-462d-b290-7b84604b7929\",\"subtype\":\"Figure\",\"type\":\"Plot\"}},\"id\":\"38148e2e-99d1-4149-ae46-2bdcc323e2b2\",\"type\":\"PanTool\"},{\"attributes\":{},\"id\":\"db844e56-82da-45e1-9c96-3d52e9bb1186\",\"type\":\"BasicTickFormatter\"},{\"attributes\":{\"dimension\":1,\"plot\":{\"id\":\"df82b4a1-3dce-462d-b290-7b84604b7929\",\"subtype\":\"Figure\",\"type\":\"Plot\"},\"ticker\":{\"id\":\"6b57d2c7-64cb-4d2f-80d3-e9975515e6e1\",\"type\":\"BasicTicker\"}},\"id\":\"1ace9d8d-1b50-40d1-a2e5-046d1e37332f\",\"type\":\"Grid\"},{\"attributes\":{},\"id\":\"b01bdbd4-c8e1-4a43-95fe-9b775e4157bb\",\"type\":\"BasicTickFormatter\"},{\"attributes\":{\"bottom_units\":\"screen\",\"fill_alpha\":{\"value\":0.5},\"fill_color\":{\"value\":\"lightgrey\"},\"left_units\":\"screen\",\"level\":\"overlay\",\"line_alpha\":{\"value\":1.0},\"line_color\":{\"value\":\"black\"},\"line_dash\":[4,4],\"line_width\":{\"value\":2},\"plot\":null,\"render_mode\":\"css\",\"right_units\":\"screen\",\"top_units\":\"screen\"},\"id\":\"67322781-2e07-44c2-bd4d-2bb257a61eb2\",\"type\":\"BoxAnnotation\"},{\"attributes\":{},\"id\":\"6b57d2c7-64cb-4d2f-80d3-e9975515e6e1\",\"type\":\"BasicTicker\"},{\"attributes\":{\"data_source\":{\"id\":\"82cd29c7-064a-4dbf-a8ee-b5675729d83e\",\"type\":\"ColumnDataSource\"},\"glyph\":{\"id\":\"87b9e30a-abd5-4c32-bf6a-53369d4e3455\",\"type\":\"Line\"},\"hover_glyph\":null,\"nonselection_glyph\":{\"id\":\"e08919d2-5447-4e5f-a0f7-8366477c83ae\",\"type\":\"Line\"},\"selection_glyph\":null},\"id\":\"e11459af-dbb7-4d48-a644-357351021cfb\",\"type\":\"GlyphRenderer\"},{\"attributes\":{},\"id\":\"c801c89e-08be-4c77-8918-da203b9a3522\",\"type\":\"BasicTicker\"},{\"attributes\":{\"line_alpha\":{\"value\":0.1},\"line_color\":{\"value\":\"#1f77b4\"},\"x\":{\"field\":\"x\"},\"y\":{\"field\":\"y\"}},\"id\":\"e08919d2-5447-4e5f-a0f7-8366477c83ae\",\"type\":\"Line\"},{\"attributes\":{\"plot\":{\"id\":\"df82b4a1-3dce-462d-b290-7b84604b7929\",\"subtype\":\"Figure\",\"type\":\"Plot\"}},\"id\":\"7ce7f1af-cad0-4960-b38c-cc2270e76b18\",\"type\":\"ResetTool\"},{\"attributes\":{\"formatter\":{\"id\":\"b01bdbd4-c8e1-4a43-95fe-9b775e4157bb\",\"type\":\"BasicTickFormatter\"},\"plot\":{\"id\":\"df82b4a1-3dce-462d-b290-7b84604b7929\",\"subtype\":\"Figure\",\"type\":\"Plot\"},\"ticker\":{\"id\":\"c801c89e-08be-4c77-8918-da203b9a3522\",\"type\":\"BasicTicker\"}},\"id\":\"9e8860a3-b53f-4a89-b1f2-73c2b3916f83\",\"type\":\"LinearAxis\"},{\"attributes\":{},\"id\":\"d0943ce5-8089-4678-a9bd-d11a563c7ede\",\"type\":\"ToolEvents\"},{\"attributes\":{\"plot\":{\"id\":\"df82b4a1-3dce-462d-b290-7b84604b7929\",\"subtype\":\"Figure\",\"type\":\"Plot\"},\"ticker\":{\"id\":\"c801c89e-08be-4c77-8918-da203b9a3522\",\"type\":\"BasicTicker\"}},\"id\":\"3d0e3049-9729-4f9b-a8fd-564d1b4d883e\",\"type\":\"Grid\"},{\"attributes\":{\"active_drag\":\"auto\",\"active_scroll\":\"auto\",\"active_tap\":\"auto\",\"tools\":[{\"id\":\"38148e2e-99d1-4149-ae46-2bdcc323e2b2\",\"type\":\"PanTool\"},{\"id\":\"b2a4fbe7-83ed-4193-8f79-3e99a1f8dca2\",\"type\":\"WheelZoomTool\"},{\"id\":\"026b61ad-6348-42a6-a0cb-43b6df7ccd0e\",\"type\":\"BoxZoomTool\"},{\"id\":\"65e21226-f7fa-4c16-addc-742c8fe626fb\",\"type\":\"SaveTool\"},{\"id\":\"7ce7f1af-cad0-4960-b38c-cc2270e76b18\",\"type\":\"ResetTool\"},{\"id\":\"94859e32-de7c-4c80-b690-1d7d50b0f0dc\",\"type\":\"HelpTool\"}]},\"id\":\"7b468b7b-812d-48d8-af8a-33b926ec59e3\",\"type\":\"Toolbar\"},{\"attributes\":{\"formatter\":{\"id\":\"db844e56-82da-45e1-9c96-3d52e9bb1186\",\"type\":\"BasicTickFormatter\"},\"plot\":{\"id\":\"df82b4a1-3dce-462d-b290-7b84604b7929\",\"subtype\":\"Figure\",\"type\":\"Plot\"},\"ticker\":{\"id\":\"6b57d2c7-64cb-4d2f-80d3-e9975515e6e1\",\"type\":\"BasicTicker\"}},\"id\":\"cceb06e6-79be-4c62-9381-0c53c22997e3\",\"type\":\"LinearAxis\"},{\"attributes\":{\"plot\":{\"id\":\"df82b4a1-3dce-462d-b290-7b84604b7929\",\"subtype\":\"Figure\",\"type\":\"Plot\"}},\"id\":\"94859e32-de7c-4c80-b690-1d7d50b0f0dc\",\"type\":\"HelpTool\"}],\"root_ids\":[\"df82b4a1-3dce-462d-b290-7b84604b7929\"]},\"title\":\"Bokeh Application\",\"version\":\"0.12.0\"}};\n",
       "            var render_items = [{\"docid\":\"06cacf4a-d6fb-4eab-afb1-41cbd10819fd\",\"elementid\":\"0b05539a-e42e-4529-b493-3b667c44b5a5\",\"modelid\":\"df82b4a1-3dce-462d-b290-7b84604b7929\",\"notebook_comms_target\":\"af583b45-d10f-4b86-a1ec-2eaf54fd4162\"}];\n",
       "            \n",
       "            Bokeh.embed.embed_items(docs_json, render_items);\n",
       "        });\n",
       "      },\n",
       "      function(Bokeh) {\n",
       "      }\n",
       "    ];\n",
       "  \n",
       "    function run_inline_js() {\n",
       "      for (var i = 0; i < inline_js.length; i++) {\n",
       "        inline_js[i](window.Bokeh);\n",
       "      }\n",
       "    }\n",
       "  \n",
       "    if (window._bokeh_is_loading === 0) {\n",
       "      console.log(\"Bokeh: BokehJS loaded, going straight to plotting\");\n",
       "      run_inline_js();\n",
       "    } else {\n",
       "      load_libs(js_urls, function() {\n",
       "        console.log(\"Bokeh: BokehJS plotting callback run at\", now());\n",
       "        run_inline_js();\n",
       "      });\n",
       "    }\n",
       "  }(this));\n",
       "</script>"
      ]
     },
     "metadata": {},
     "output_type": "display_data"
    },
    {
     "data": {
      "text/html": [
       "<p><code>&lt;Bokeh Notebook handle for <strong>In[11]</strong>&gt;</code></p>"
      ],
      "text/plain": [
       "<bokeh.io._CommsHandle at 0x7fd1d94e2c10>"
      ]
     },
     "execution_count": 11,
     "metadata": {},
     "output_type": "execute_result"
    }
   ],
   "source": [
    "count_data = sa_62_1265.unique_snps_per_allele(am_22_35)\n",
    "plt_obj = smcp(count_data)\n",
    "plt = plt_obj.do_plot()\n",
    "show(plt)"
   ]
  },
  {
   "cell_type": "code",
   "execution_count": 12,
   "metadata": {
    "collapsed": false
   },
   "outputs": [
    {
     "data": {
      "text/plain": [
       "array([(47, 13), (48, 13), (49, 9)], \n",
       "      dtype=[('count', '<u2'), ('snps', '<u2')])"
      ]
     },
     "execution_count": 12,
     "metadata": {},
     "output_type": "execute_result"
    }
   ],
   "source": [
    "count_data"
   ]
  },
  {
   "cell_type": "code",
   "execution_count": 13,
   "metadata": {
    "collapsed": false
   },
   "outputs": [
    {
     "data": {
      "text/plain": [
       "array([ 0,  0,  0,  0,  0, 35, 35,  0, 35, 35, 35, 35, 35, 35, 35, 35,  0,\n",
       "       35, 35, 35, 35, 34, 35, 35, 35, 35, 35, 35, 35,  0, 35, 35, 35, 35,\n",
       "       35, 35, 35, 35,  0, 35, 23, 35, 35, 35, 35,  0,  0, 35, 35, 35, 35,\n",
       "       35, 35, 35,  0, 35, 35,  0, 35,  9, 35, 35])"
      ]
     },
     "execution_count": 13,
     "metadata": {},
     "output_type": "execute_result"
    }
   ],
   "source": [
    "sa_62_1265.alleles_per_snp(am_22_35)"
   ]
  },
  {
   "cell_type": "code",
   "execution_count": 27,
   "metadata": {
    "collapsed": false
   },
   "outputs": [
    {
     "data": {
      "text/html": [
       "\n",
       "\n",
       "    <div class=\"bk-root\">\n",
       "        <div class=\"plotdiv\" id=\"1faffbe8-43c8-4d4b-97eb-49f6414b4109\"></div>\n",
       "    </div>\n",
       "<script type=\"text/javascript\">\n",
       "  \n",
       "  (function(global) {\n",
       "    function now() {\n",
       "      return new Date();\n",
       "    }\n",
       "  \n",
       "    if (typeof (window._bokeh_onload_callbacks) === \"undefined\") {\n",
       "      window._bokeh_onload_callbacks = [];\n",
       "    }\n",
       "  \n",
       "    function run_callbacks() {\n",
       "      window._bokeh_onload_callbacks.forEach(function(callback) { callback() });\n",
       "      delete window._bokeh_onload_callbacks\n",
       "      console.info(\"Bokeh: all callbacks have finished\");\n",
       "    }\n",
       "  \n",
       "    function load_libs(js_urls, callback) {\n",
       "      window._bokeh_onload_callbacks.push(callback);\n",
       "      if (window._bokeh_is_loading > 0) {\n",
       "        console.log(\"Bokeh: BokehJS is being loaded, scheduling callback at\", now());\n",
       "        return null;\n",
       "      }\n",
       "      if (js_urls == null || js_urls.length === 0) {\n",
       "        run_callbacks();\n",
       "        return null;\n",
       "      }\n",
       "      console.log(\"Bokeh: BokehJS not loaded, scheduling load and callback at\", now());\n",
       "      window._bokeh_is_loading = js_urls.length;\n",
       "      for (var i = 0; i < js_urls.length; i++) {\n",
       "        var url = js_urls[i];\n",
       "        var s = document.createElement('script');\n",
       "        s.src = url;\n",
       "        s.async = false;\n",
       "        s.onreadystatechange = s.onload = function() {\n",
       "          window._bokeh_is_loading--;\n",
       "          if (window._bokeh_is_loading === 0) {\n",
       "            console.log(\"Bokeh: all BokehJS libraries loaded\");\n",
       "            run_callbacks()\n",
       "          }\n",
       "        };\n",
       "        s.onerror = function() {\n",
       "          console.warn(\"failed to load library \" + url);\n",
       "        };\n",
       "        console.log(\"Bokeh: injecting script tag for BokehJS library: \", url);\n",
       "        document.getElementsByTagName(\"head\")[0].appendChild(s);\n",
       "      }\n",
       "    };var element = document.getElementById(\"1faffbe8-43c8-4d4b-97eb-49f6414b4109\");\n",
       "    if (element == null) {\n",
       "      console.log(\"Bokeh: ERROR: autoload.js configured with elementid '1faffbe8-43c8-4d4b-97eb-49f6414b4109' but no matching script tag was found. \")\n",
       "      return false;\n",
       "    }\n",
       "  \n",
       "    var js_urls = [];\n",
       "  \n",
       "    var inline_js = [\n",
       "      function(Bokeh) {\n",
       "        Bokeh.$(function() {\n",
       "            var docs_json = {\"c6c33a4d-afef-4fa3-b6b9-7639b55c2e06\":{\"roots\":{\"references\":[{\"attributes\":{\"line_alpha\":{\"value\":0.1},\"line_color\":{\"value\":\"#1f77b4\"},\"x\":{\"field\":\"x\"},\"y\":{\"field\":\"y\"}},\"id\":\"f387f8be-a075-40d9-8046-9ae85ad09b53\",\"type\":\"Line\"},{\"attributes\":{\"line_color\":{\"value\":\"#1f77b4\"},\"x\":{\"field\":\"x\"},\"y\":{\"field\":\"y\"}},\"id\":\"9d2e4f51-cecc-467a-8cf2-06ff3071b0d4\",\"type\":\"Line\"},{\"attributes\":{\"formatter\":{\"id\":\"57ef5231-ff09-4b40-b896-a087398f7b7f\",\"type\":\"BasicTickFormatter\"},\"plot\":{\"id\":\"540129c3-9310-4bfe-a25a-b92ee4bea593\",\"subtype\":\"Figure\",\"type\":\"Plot\"},\"ticker\":{\"id\":\"31a9fdcb-f380-41cf-a00e-bab0fdffbe6a\",\"type\":\"BasicTicker\"}},\"id\":\"dfd5ef77-0247-441a-881b-bf7c325b5b25\",\"type\":\"LinearAxis\"},{\"attributes\":{\"plot\":{\"id\":\"540129c3-9310-4bfe-a25a-b92ee4bea593\",\"subtype\":\"Figure\",\"type\":\"Plot\"}},\"id\":\"41015e25-6a07-474c-a6be-354c4867cd1f\",\"type\":\"HelpTool\"},{\"attributes\":{\"callback\":null,\"end\":9.9},\"id\":\"7f8c52d9-9206-4af4-a789-a33b9a8c2412\",\"type\":\"Range1d\"},{\"attributes\":{},\"id\":\"57ef5231-ff09-4b40-b896-a087398f7b7f\",\"type\":\"BasicTickFormatter\"},{\"attributes\":{\"callback\":null,\"column_names\":[\"y\",\"x\"],\"data\":{\"x\":[-0.5,-0.5,48.5,48.5,49.5,49.5],\"y\":[0.0,0.0,0.0,9.0,9.0,0.0]}},\"id\":\"b27cd488-bd04-48ef-b572-59e15315a3b0\",\"type\":\"ColumnDataSource\"},{\"attributes\":{\"plot\":{\"id\":\"540129c3-9310-4bfe-a25a-b92ee4bea593\",\"subtype\":\"Figure\",\"type\":\"Plot\"}},\"id\":\"a5cf1c8b-9eb0-4117-8333-3c02f1948e68\",\"type\":\"PanTool\"},{\"attributes\":{},\"id\":\"cf1173c5-3739-48a2-a866-b80f39b481d5\",\"type\":\"ToolEvents\"},{\"attributes\":{\"overlay\":{\"id\":\"ba6d3653-4114-47be-8a40-7958ce350536\",\"type\":\"BoxAnnotation\"},\"plot\":{\"id\":\"540129c3-9310-4bfe-a25a-b92ee4bea593\",\"subtype\":\"Figure\",\"type\":\"Plot\"}},\"id\":\"dbb1ab17-cbe5-4b1f-adfb-91216dc6501f\",\"type\":\"BoxZoomTool\"},{\"attributes\":{\"plot\":{\"id\":\"540129c3-9310-4bfe-a25a-b92ee4bea593\",\"subtype\":\"Figure\",\"type\":\"Plot\"}},\"id\":\"44763b36-f7fc-4d79-a3d3-70d239e489fa\",\"type\":\"ResetTool\"},{\"attributes\":{\"callback\":null,\"end\":50.5,\"start\":-0.5},\"id\":\"86a3e57d-b304-40e4-a4f4-5aec37477bc4\",\"type\":\"Range1d\"},{\"attributes\":{},\"id\":\"8657bedc-a793-4fdf-8fd2-f4c72fb6faee\",\"type\":\"BasicTicker\"},{\"attributes\":{\"bottom_units\":\"screen\",\"fill_alpha\":{\"value\":0.5},\"fill_color\":{\"value\":\"lightgrey\"},\"left_units\":\"screen\",\"level\":\"overlay\",\"line_alpha\":{\"value\":1.0},\"line_color\":{\"value\":\"black\"},\"line_dash\":[4,4],\"line_width\":{\"value\":2},\"plot\":null,\"render_mode\":\"css\",\"right_units\":\"screen\",\"top_units\":\"screen\"},\"id\":\"ba6d3653-4114-47be-8a40-7958ce350536\",\"type\":\"BoxAnnotation\"},{\"attributes\":{},\"id\":\"2e80c6fe-b5fe-4dba-a67c-c86a2baabb1c\",\"type\":\"BasicTickFormatter\"},{\"attributes\":{\"plot\":{\"id\":\"540129c3-9310-4bfe-a25a-b92ee4bea593\",\"subtype\":\"Figure\",\"type\":\"Plot\"}},\"id\":\"50da4084-4b42-42ce-ba3b-d25f37bd248f\",\"type\":\"WheelZoomTool\"},{\"attributes\":{\"plot\":null,\"text\":null},\"id\":\"ed81f9e7-9b55-4ad5-bd29-941819ad5cf2\",\"type\":\"Title\"},{\"attributes\":{\"dimension\":1,\"plot\":{\"id\":\"540129c3-9310-4bfe-a25a-b92ee4bea593\",\"subtype\":\"Figure\",\"type\":\"Plot\"},\"ticker\":{\"id\":\"31a9fdcb-f380-41cf-a00e-bab0fdffbe6a\",\"type\":\"BasicTicker\"}},\"id\":\"19c0bfd1-0456-4ca6-a3c5-527576e91b15\",\"type\":\"Grid\"},{\"attributes\":{\"below\":[{\"id\":\"a2d04136-e8ec-48a5-ba81-53251a27f8e2\",\"type\":\"LinearAxis\"}],\"left\":[{\"id\":\"dfd5ef77-0247-441a-881b-bf7c325b5b25\",\"type\":\"LinearAxis\"}],\"plot_height\":400,\"plot_width\":900,\"renderers\":[{\"id\":\"a2d04136-e8ec-48a5-ba81-53251a27f8e2\",\"type\":\"LinearAxis\"},{\"id\":\"8016c529-3231-4e9b-87f4-d2e0dc2d8dfd\",\"type\":\"Grid\"},{\"id\":\"dfd5ef77-0247-441a-881b-bf7c325b5b25\",\"type\":\"LinearAxis\"},{\"id\":\"19c0bfd1-0456-4ca6-a3c5-527576e91b15\",\"type\":\"Grid\"},{\"id\":\"ba6d3653-4114-47be-8a40-7958ce350536\",\"type\":\"BoxAnnotation\"},{\"id\":\"e5e40413-e57d-47f2-94b9-f62a8455a7d2\",\"type\":\"GlyphRenderer\"}],\"title\":{\"id\":\"ed81f9e7-9b55-4ad5-bd29-941819ad5cf2\",\"type\":\"Title\"},\"tool_events\":{\"id\":\"cf1173c5-3739-48a2-a866-b80f39b481d5\",\"type\":\"ToolEvents\"},\"toolbar\":{\"id\":\"b33d4d22-6597-41d9-be67-6efbb3b7312f\",\"type\":\"Toolbar\"},\"toolbar_location\":null,\"x_range\":{\"id\":\"86a3e57d-b304-40e4-a4f4-5aec37477bc4\",\"type\":\"Range1d\"},\"y_range\":{\"id\":\"7f8c52d9-9206-4af4-a789-a33b9a8c2412\",\"type\":\"Range1d\"}},\"id\":\"540129c3-9310-4bfe-a25a-b92ee4bea593\",\"subtype\":\"Figure\",\"type\":\"Plot\"},{\"attributes\":{\"plot\":{\"id\":\"540129c3-9310-4bfe-a25a-b92ee4bea593\",\"subtype\":\"Figure\",\"type\":\"Plot\"},\"ticker\":{\"id\":\"8657bedc-a793-4fdf-8fd2-f4c72fb6faee\",\"type\":\"BasicTicker\"}},\"id\":\"8016c529-3231-4e9b-87f4-d2e0dc2d8dfd\",\"type\":\"Grid\"},{\"attributes\":{\"active_drag\":\"auto\",\"active_scroll\":\"auto\",\"active_tap\":\"auto\",\"tools\":[{\"id\":\"a5cf1c8b-9eb0-4117-8333-3c02f1948e68\",\"type\":\"PanTool\"},{\"id\":\"50da4084-4b42-42ce-ba3b-d25f37bd248f\",\"type\":\"WheelZoomTool\"},{\"id\":\"dbb1ab17-cbe5-4b1f-adfb-91216dc6501f\",\"type\":\"BoxZoomTool\"},{\"id\":\"761b5e3d-d9ad-4f11-a405-1b84f2cea3f0\",\"type\":\"SaveTool\"},{\"id\":\"44763b36-f7fc-4d79-a3d3-70d239e489fa\",\"type\":\"ResetTool\"},{\"id\":\"41015e25-6a07-474c-a6be-354c4867cd1f\",\"type\":\"HelpTool\"}]},\"id\":\"b33d4d22-6597-41d9-be67-6efbb3b7312f\",\"type\":\"Toolbar\"},{\"attributes\":{\"plot\":{\"id\":\"540129c3-9310-4bfe-a25a-b92ee4bea593\",\"subtype\":\"Figure\",\"type\":\"Plot\"}},\"id\":\"761b5e3d-d9ad-4f11-a405-1b84f2cea3f0\",\"type\":\"SaveTool\"},{\"attributes\":{},\"id\":\"31a9fdcb-f380-41cf-a00e-bab0fdffbe6a\",\"type\":\"BasicTicker\"},{\"attributes\":{\"formatter\":{\"id\":\"2e80c6fe-b5fe-4dba-a67c-c86a2baabb1c\",\"type\":\"BasicTickFormatter\"},\"plot\":{\"id\":\"540129c3-9310-4bfe-a25a-b92ee4bea593\",\"subtype\":\"Figure\",\"type\":\"Plot\"},\"ticker\":{\"id\":\"8657bedc-a793-4fdf-8fd2-f4c72fb6faee\",\"type\":\"BasicTicker\"}},\"id\":\"a2d04136-e8ec-48a5-ba81-53251a27f8e2\",\"type\":\"LinearAxis\"},{\"attributes\":{\"data_source\":{\"id\":\"b27cd488-bd04-48ef-b572-59e15315a3b0\",\"type\":\"ColumnDataSource\"},\"glyph\":{\"id\":\"9d2e4f51-cecc-467a-8cf2-06ff3071b0d4\",\"type\":\"Line\"},\"hover_glyph\":null,\"nonselection_glyph\":{\"id\":\"f387f8be-a075-40d9-8046-9ae85ad09b53\",\"type\":\"Line\"},\"selection_glyph\":null},\"id\":\"e5e40413-e57d-47f2-94b9-f62a8455a7d2\",\"type\":\"GlyphRenderer\"}],\"root_ids\":[\"540129c3-9310-4bfe-a25a-b92ee4bea593\"]},\"title\":\"Bokeh Application\",\"version\":\"0.12.0\"}};\n",
       "            var render_items = [{\"docid\":\"c6c33a4d-afef-4fa3-b6b9-7639b55c2e06\",\"elementid\":\"1faffbe8-43c8-4d4b-97eb-49f6414b4109\",\"modelid\":\"540129c3-9310-4bfe-a25a-b92ee4bea593\",\"notebook_comms_target\":\"637552c5-948c-490a-829f-2bd9060e28ee\"}];\n",
       "            \n",
       "            Bokeh.embed.embed_items(docs_json, render_items);\n",
       "        });\n",
       "      },\n",
       "      function(Bokeh) {\n",
       "      }\n",
       "    ];\n",
       "  \n",
       "    function run_inline_js() {\n",
       "      for (var i = 0; i < inline_js.length; i++) {\n",
       "        inline_js[i](window.Bokeh);\n",
       "      }\n",
       "    }\n",
       "  \n",
       "    if (window._bokeh_is_loading === 0) {\n",
       "      console.log(\"Bokeh: BokehJS loaded, going straight to plotting\");\n",
       "      run_inline_js();\n",
       "    } else {\n",
       "      load_libs(js_urls, function() {\n",
       "        console.log(\"Bokeh: BokehJS plotting callback run at\", now());\n",
       "        run_inline_js();\n",
       "      });\n",
       "    }\n",
       "  }(this));\n",
       "</script>"
      ]
     },
     "metadata": {},
     "output_type": "display_data"
    },
    {
     "data": {
      "text/html": [
       "<p><code>&lt;Bokeh Notebook handle for <strong>In[27]</strong>&gt;</code></p>"
      ],
      "text/plain": [
       "<bokeh.io._CommsHandle at 0x7fd1d8e5b2d0>"
      ]
     },
     "execution_count": 27,
     "metadata": {},
     "output_type": "execute_result"
    }
   ],
   "source": [
    "count_data = sa_62_1265.unique_snps_per_allele(am_22_35_not_219_26)\n",
    "plt_obj = smcp(count_data)\n",
    "plt = plt_obj.do_plot()\n",
    "show(plt)"
   ]
  },
  {
   "cell_type": "code",
   "execution_count": 28,
   "metadata": {
    "collapsed": false
   },
   "outputs": [
    {
     "data": {
      "text/plain": [
       "array([(49, 9)], \n",
       "      dtype=[('count', '<u2'), ('snps', '<u2')])"
      ]
     },
     "execution_count": 28,
     "metadata": {},
     "output_type": "execute_result"
    }
   ],
   "source": [
    "count_data"
   ]
  },
  {
   "cell_type": "code",
   "execution_count": 30,
   "metadata": {
    "collapsed": false
   },
   "outputs": [
    {
     "data": {
      "text/plain": [
       "array([0, 0, 0, 0, 0, 9, 9, 0, 9, 9, 9, 9, 9, 9, 9, 9, 0, 9, 9, 9, 9, 9, 9,\n",
       "       9, 9, 9, 9, 9, 9, 0, 9, 9, 9, 9, 9, 9, 9, 9, 0, 9, 9, 9, 9, 9, 9, 0,\n",
       "       0, 9, 9, 9, 9, 9, 9, 9, 0, 9, 9, 0, 9, 9, 9, 9])"
      ]
     },
     "execution_count": 30,
     "metadata": {},
     "output_type": "execute_result"
    }
   ],
   "source": [
    "sa_62_1265.alleles_per_snp(am_22_35_not_219_26)"
   ]
  },
  {
   "cell_type": "code",
   "execution_count": 14,
   "metadata": {
    "collapsed": false
   },
   "outputs": [
    {
     "data": {
      "text/html": [
       "\n",
       "\n",
       "    <div class=\"bk-root\">\n",
       "        <div class=\"plotdiv\" id=\"927407bb-4749-41ed-afd2-0738d75fdb77\"></div>\n",
       "    </div>\n",
       "<script type=\"text/javascript\">\n",
       "  \n",
       "  (function(global) {\n",
       "    function now() {\n",
       "      return new Date();\n",
       "    }\n",
       "  \n",
       "    if (typeof (window._bokeh_onload_callbacks) === \"undefined\") {\n",
       "      window._bokeh_onload_callbacks = [];\n",
       "    }\n",
       "  \n",
       "    function run_callbacks() {\n",
       "      window._bokeh_onload_callbacks.forEach(function(callback) { callback() });\n",
       "      delete window._bokeh_onload_callbacks\n",
       "      console.info(\"Bokeh: all callbacks have finished\");\n",
       "    }\n",
       "  \n",
       "    function load_libs(js_urls, callback) {\n",
       "      window._bokeh_onload_callbacks.push(callback);\n",
       "      if (window._bokeh_is_loading > 0) {\n",
       "        console.log(\"Bokeh: BokehJS is being loaded, scheduling callback at\", now());\n",
       "        return null;\n",
       "      }\n",
       "      if (js_urls == null || js_urls.length === 0) {\n",
       "        run_callbacks();\n",
       "        return null;\n",
       "      }\n",
       "      console.log(\"Bokeh: BokehJS not loaded, scheduling load and callback at\", now());\n",
       "      window._bokeh_is_loading = js_urls.length;\n",
       "      for (var i = 0; i < js_urls.length; i++) {\n",
       "        var url = js_urls[i];\n",
       "        var s = document.createElement('script');\n",
       "        s.src = url;\n",
       "        s.async = false;\n",
       "        s.onreadystatechange = s.onload = function() {\n",
       "          window._bokeh_is_loading--;\n",
       "          if (window._bokeh_is_loading === 0) {\n",
       "            console.log(\"Bokeh: all BokehJS libraries loaded\");\n",
       "            run_callbacks()\n",
       "          }\n",
       "        };\n",
       "        s.onerror = function() {\n",
       "          console.warn(\"failed to load library \" + url);\n",
       "        };\n",
       "        console.log(\"Bokeh: injecting script tag for BokehJS library: \", url);\n",
       "        document.getElementsByTagName(\"head\")[0].appendChild(s);\n",
       "      }\n",
       "    };var element = document.getElementById(\"927407bb-4749-41ed-afd2-0738d75fdb77\");\n",
       "    if (element == null) {\n",
       "      console.log(\"Bokeh: ERROR: autoload.js configured with elementid '927407bb-4749-41ed-afd2-0738d75fdb77' but no matching script tag was found. \")\n",
       "      return false;\n",
       "    }\n",
       "  \n",
       "    var js_urls = [];\n",
       "  \n",
       "    var inline_js = [\n",
       "      function(Bokeh) {\n",
       "        Bokeh.$(function() {\n",
       "            var docs_json = {\"ed849219-2a15-48a9-a3b2-0b5deb52dfc9\":{\"roots\":{\"references\":[{\"attributes\":{\"bottom_units\":\"screen\",\"fill_alpha\":{\"value\":0.5},\"fill_color\":{\"value\":\"lightgrey\"},\"left_units\":\"screen\",\"level\":\"overlay\",\"line_alpha\":{\"value\":1.0},\"line_color\":{\"value\":\"black\"},\"line_dash\":[4,4],\"line_width\":{\"value\":2},\"plot\":null,\"render_mode\":\"css\",\"right_units\":\"screen\",\"top_units\":\"screen\"},\"id\":\"3d653634-a138-4457-b221-9e9cc7f04ba7\",\"type\":\"BoxAnnotation\"},{\"attributes\":{\"plot\":{\"id\":\"07ead95c-d6e1-464b-ac68-1fa41121f093\",\"subtype\":\"Figure\",\"type\":\"Plot\"}},\"id\":\"16bf3f0f-76e5-4133-a7b9-835a4ae12b43\",\"type\":\"PanTool\"},{\"attributes\":{\"callback\":null,\"end\":3.5,\"start\":-0.5},\"id\":\"1b2a0d48-9aed-4a33-9b4d-37dcd1134127\",\"type\":\"Range1d\"},{\"attributes\":{\"plot\":{\"id\":\"07ead95c-d6e1-464b-ac68-1fa41121f093\",\"subtype\":\"Figure\",\"type\":\"Plot\"}},\"id\":\"96740154-8cad-44f3-875a-5e31ff0df792\",\"type\":\"SaveTool\"},{\"attributes\":{\"plot\":{\"id\":\"07ead95c-d6e1-464b-ac68-1fa41121f093\",\"subtype\":\"Figure\",\"type\":\"Plot\"}},\"id\":\"49342db5-5d45-4567-b0e8-0d8c7c2f66d1\",\"type\":\"HelpTool\"},{\"attributes\":{\"plot\":{\"id\":\"07ead95c-d6e1-464b-ac68-1fa41121f093\",\"subtype\":\"Figure\",\"type\":\"Plot\"},\"ticker\":{\"id\":\"9c9abeed-216e-460e-8c13-a764f68e6570\",\"type\":\"BasicTicker\"}},\"id\":\"78a9177d-9d25-41d1-bd9c-abb95a62924c\",\"type\":\"Grid\"},{\"attributes\":{\"callback\":null,\"end\":27.500000000000004},\"id\":\"4af242a6-4518-4292-b25d-944a2a8a6add\",\"type\":\"Range1d\"},{\"attributes\":{\"line_color\":{\"value\":\"#1f77b4\"},\"x\":{\"field\":\"x\"},\"y\":{\"field\":\"y\"}},\"id\":\"b476e3fa-cd23-4de8-bdf7-e1b35bcbd739\",\"type\":\"Line\"},{\"attributes\":{\"formatter\":{\"id\":\"3cee6940-3bc6-42f0-8407-fd99c2abc7d3\",\"type\":\"BasicTickFormatter\"},\"plot\":{\"id\":\"07ead95c-d6e1-464b-ac68-1fa41121f093\",\"subtype\":\"Figure\",\"type\":\"Plot\"},\"ticker\":{\"id\":\"d868a33c-360b-48a3-9a07-66c2e4f7af80\",\"type\":\"BasicTicker\"}},\"id\":\"c6cf41e0-94e2-462e-9d49-717e0c65b488\",\"type\":\"LinearAxis\"},{\"attributes\":{\"data_source\":{\"id\":\"c5fd0f7f-71a0-48e6-bec1-ddbf70ad27e7\",\"type\":\"ColumnDataSource\"},\"glyph\":{\"id\":\"b476e3fa-cd23-4de8-bdf7-e1b35bcbd739\",\"type\":\"Line\"},\"hover_glyph\":null,\"nonselection_glyph\":{\"id\":\"b6bdb1af-b32c-4d6f-a585-6559f3b677d8\",\"type\":\"Line\"},\"selection_glyph\":null},\"id\":\"1261bf3b-2390-4188-8c3f-9afa1e1af926\",\"type\":\"GlyphRenderer\"},{\"attributes\":{\"overlay\":{\"id\":\"3d653634-a138-4457-b221-9e9cc7f04ba7\",\"type\":\"BoxAnnotation\"},\"plot\":{\"id\":\"07ead95c-d6e1-464b-ac68-1fa41121f093\",\"subtype\":\"Figure\",\"type\":\"Plot\"}},\"id\":\"f3b221c1-6e32-4455-a10a-5dee9174b770\",\"type\":\"BoxZoomTool\"},{\"attributes\":{\"plot\":null,\"text\":null},\"id\":\"043af2fc-47d5-47b0-8301-1a977e05f078\",\"type\":\"Title\"},{\"attributes\":{},\"id\":\"9a4252b6-b760-4780-b2ff-14c1fc00c395\",\"type\":\"ToolEvents\"},{\"attributes\":{},\"id\":\"9c9abeed-216e-460e-8c13-a764f68e6570\",\"type\":\"BasicTicker\"},{\"attributes\":{\"below\":[{\"id\":\"44f73776-383c-4c2c-8500-d7816b9d3b2a\",\"type\":\"LinearAxis\"}],\"left\":[{\"id\":\"c6cf41e0-94e2-462e-9d49-717e0c65b488\",\"type\":\"LinearAxis\"}],\"plot_height\":400,\"plot_width\":900,\"renderers\":[{\"id\":\"44f73776-383c-4c2c-8500-d7816b9d3b2a\",\"type\":\"LinearAxis\"},{\"id\":\"78a9177d-9d25-41d1-bd9c-abb95a62924c\",\"type\":\"Grid\"},{\"id\":\"c6cf41e0-94e2-462e-9d49-717e0c65b488\",\"type\":\"LinearAxis\"},{\"id\":\"b8e4cc4a-0309-4922-bb7e-a935586b070b\",\"type\":\"Grid\"},{\"id\":\"3d653634-a138-4457-b221-9e9cc7f04ba7\",\"type\":\"BoxAnnotation\"},{\"id\":\"1261bf3b-2390-4188-8c3f-9afa1e1af926\",\"type\":\"GlyphRenderer\"}],\"title\":{\"id\":\"043af2fc-47d5-47b0-8301-1a977e05f078\",\"type\":\"Title\"},\"tool_events\":{\"id\":\"9a4252b6-b760-4780-b2ff-14c1fc00c395\",\"type\":\"ToolEvents\"},\"toolbar\":{\"id\":\"74e1227a-a5ed-4c4b-9056-597e8d6e5bf6\",\"type\":\"Toolbar\"},\"toolbar_location\":null,\"x_range\":{\"id\":\"1b2a0d48-9aed-4a33-9b4d-37dcd1134127\",\"type\":\"Range1d\"},\"y_range\":{\"id\":\"4af242a6-4518-4292-b25d-944a2a8a6add\",\"type\":\"Range1d\"}},\"id\":\"07ead95c-d6e1-464b-ac68-1fa41121f093\",\"subtype\":\"Figure\",\"type\":\"Plot\"},{\"attributes\":{\"plot\":{\"id\":\"07ead95c-d6e1-464b-ac68-1fa41121f093\",\"subtype\":\"Figure\",\"type\":\"Plot\"}},\"id\":\"71c5ec10-8333-4d3f-a44b-20d0bb5fbada\",\"type\":\"ResetTool\"},{\"attributes\":{},\"id\":\"3cee6940-3bc6-42f0-8407-fd99c2abc7d3\",\"type\":\"BasicTickFormatter\"},{\"attributes\":{\"active_drag\":\"auto\",\"active_scroll\":\"auto\",\"active_tap\":\"auto\",\"tools\":[{\"id\":\"16bf3f0f-76e5-4133-a7b9-835a4ae12b43\",\"type\":\"PanTool\"},{\"id\":\"c7c12c15-4e0d-49e6-a75e-df1395624955\",\"type\":\"WheelZoomTool\"},{\"id\":\"f3b221c1-6e32-4455-a10a-5dee9174b770\",\"type\":\"BoxZoomTool\"},{\"id\":\"96740154-8cad-44f3-875a-5e31ff0df792\",\"type\":\"SaveTool\"},{\"id\":\"71c5ec10-8333-4d3f-a44b-20d0bb5fbada\",\"type\":\"ResetTool\"},{\"id\":\"49342db5-5d45-4567-b0e8-0d8c7c2f66d1\",\"type\":\"HelpTool\"}]},\"id\":\"74e1227a-a5ed-4c4b-9056-597e8d6e5bf6\",\"type\":\"Toolbar\"},{\"attributes\":{\"callback\":null,\"column_names\":[\"y\",\"x\"],\"data\":{\"x\":[-0.5,-0.5,0.5,0.5,1.5,1.5,2.5,2.5],\"y\":[0.0,25.0,25.0,9.0,9.0,1.0,1.0,0.0]}},\"id\":\"c5fd0f7f-71a0-48e6-bec1-ddbf70ad27e7\",\"type\":\"ColumnDataSource\"},{\"attributes\":{\"formatter\":{\"id\":\"4ba7fa1d-0834-427d-9e0c-07d710377902\",\"type\":\"BasicTickFormatter\"},\"plot\":{\"id\":\"07ead95c-d6e1-464b-ac68-1fa41121f093\",\"subtype\":\"Figure\",\"type\":\"Plot\"},\"ticker\":{\"id\":\"9c9abeed-216e-460e-8c13-a764f68e6570\",\"type\":\"BasicTicker\"}},\"id\":\"44f73776-383c-4c2c-8500-d7816b9d3b2a\",\"type\":\"LinearAxis\"},{\"attributes\":{\"plot\":{\"id\":\"07ead95c-d6e1-464b-ac68-1fa41121f093\",\"subtype\":\"Figure\",\"type\":\"Plot\"}},\"id\":\"c7c12c15-4e0d-49e6-a75e-df1395624955\",\"type\":\"WheelZoomTool\"},{\"attributes\":{},\"id\":\"d868a33c-360b-48a3-9a07-66c2e4f7af80\",\"type\":\"BasicTicker\"},{\"attributes\":{\"dimension\":1,\"plot\":{\"id\":\"07ead95c-d6e1-464b-ac68-1fa41121f093\",\"subtype\":\"Figure\",\"type\":\"Plot\"},\"ticker\":{\"id\":\"d868a33c-360b-48a3-9a07-66c2e4f7af80\",\"type\":\"BasicTicker\"}},\"id\":\"b8e4cc4a-0309-4922-bb7e-a935586b070b\",\"type\":\"Grid\"},{\"attributes\":{},\"id\":\"4ba7fa1d-0834-427d-9e0c-07d710377902\",\"type\":\"BasicTickFormatter\"},{\"attributes\":{\"line_alpha\":{\"value\":0.1},\"line_color\":{\"value\":\"#1f77b4\"},\"x\":{\"field\":\"x\"},\"y\":{\"field\":\"y\"}},\"id\":\"b6bdb1af-b32c-4d6f-a585-6559f3b677d8\",\"type\":\"Line\"}],\"root_ids\":[\"07ead95c-d6e1-464b-ac68-1fa41121f093\"]},\"title\":\"Bokeh Application\",\"version\":\"0.12.0\"}};\n",
       "            var render_items = [{\"docid\":\"ed849219-2a15-48a9-a3b2-0b5deb52dfc9\",\"elementid\":\"927407bb-4749-41ed-afd2-0738d75fdb77\",\"modelid\":\"07ead95c-d6e1-464b-ac68-1fa41121f093\",\"notebook_comms_target\":\"c93ccf95-1581-42a4-a8f5-5620e6a5b81f\"}];\n",
       "            \n",
       "            Bokeh.embed.embed_items(docs_json, render_items);\n",
       "        });\n",
       "      },\n",
       "      function(Bokeh) {\n",
       "      }\n",
       "    ];\n",
       "  \n",
       "    function run_inline_js() {\n",
       "      for (var i = 0; i < inline_js.length; i++) {\n",
       "        inline_js[i](window.Bokeh);\n",
       "      }\n",
       "    }\n",
       "  \n",
       "    if (window._bokeh_is_loading === 0) {\n",
       "      console.log(\"Bokeh: BokehJS loaded, going straight to plotting\");\n",
       "      run_inline_js();\n",
       "    } else {\n",
       "      load_libs(js_urls, function() {\n",
       "        console.log(\"Bokeh: BokehJS plotting callback run at\", now());\n",
       "        run_inline_js();\n",
       "      });\n",
       "    }\n",
       "  }(this));\n",
       "</script>"
      ]
     },
     "metadata": {},
     "output_type": "display_data"
    },
    {
     "data": {
      "text/html": [
       "<p><code>&lt;Bokeh Notebook handle for <strong>In[14]</strong>&gt;</code></p>"
      ],
      "text/plain": [
       "<bokeh.io._CommsHandle at 0x7fd1d8fa0410>"
      ]
     },
     "execution_count": 14,
     "metadata": {},
     "output_type": "execute_result"
    }
   ],
   "source": [
    "count_data = sa_193_843.unique_snps_per_allele(am_22_35)\n",
    "plt_obj = smcp(count_data)\n",
    "plt = plt_obj.do_plot()\n",
    "show(plt)"
   ]
  },
  {
   "cell_type": "code",
   "execution_count": 15,
   "metadata": {
    "collapsed": false
   },
   "outputs": [
    {
     "data": {
      "text/plain": [
       "array([(0, 25), (1, 9), (2, 1)], \n",
       "      dtype=[('count', '<u2'), ('snps', '<u2')])"
      ]
     },
     "execution_count": 15,
     "metadata": {},
     "output_type": "execute_result"
    }
   ],
   "source": [
    "count_data"
   ]
  },
  {
   "cell_type": "code",
   "execution_count": 36,
   "metadata": {
    "collapsed": false
   },
   "outputs": [
    {
     "data": {
      "text/html": [
       "\n",
       "\n",
       "    <div class=\"bk-root\">\n",
       "        <div class=\"plotdiv\" id=\"f6e0e1ea-6392-46e9-99b5-c0acc9862c02\"></div>\n",
       "    </div>\n",
       "<script type=\"text/javascript\">\n",
       "  \n",
       "  (function(global) {\n",
       "    function now() {\n",
       "      return new Date();\n",
       "    }\n",
       "  \n",
       "    if (typeof (window._bokeh_onload_callbacks) === \"undefined\") {\n",
       "      window._bokeh_onload_callbacks = [];\n",
       "    }\n",
       "  \n",
       "    function run_callbacks() {\n",
       "      window._bokeh_onload_callbacks.forEach(function(callback) { callback() });\n",
       "      delete window._bokeh_onload_callbacks\n",
       "      console.info(\"Bokeh: all callbacks have finished\");\n",
       "    }\n",
       "  \n",
       "    function load_libs(js_urls, callback) {\n",
       "      window._bokeh_onload_callbacks.push(callback);\n",
       "      if (window._bokeh_is_loading > 0) {\n",
       "        console.log(\"Bokeh: BokehJS is being loaded, scheduling callback at\", now());\n",
       "        return null;\n",
       "      }\n",
       "      if (js_urls == null || js_urls.length === 0) {\n",
       "        run_callbacks();\n",
       "        return null;\n",
       "      }\n",
       "      console.log(\"Bokeh: BokehJS not loaded, scheduling load and callback at\", now());\n",
       "      window._bokeh_is_loading = js_urls.length;\n",
       "      for (var i = 0; i < js_urls.length; i++) {\n",
       "        var url = js_urls[i];\n",
       "        var s = document.createElement('script');\n",
       "        s.src = url;\n",
       "        s.async = false;\n",
       "        s.onreadystatechange = s.onload = function() {\n",
       "          window._bokeh_is_loading--;\n",
       "          if (window._bokeh_is_loading === 0) {\n",
       "            console.log(\"Bokeh: all BokehJS libraries loaded\");\n",
       "            run_callbacks()\n",
       "          }\n",
       "        };\n",
       "        s.onerror = function() {\n",
       "          console.warn(\"failed to load library \" + url);\n",
       "        };\n",
       "        console.log(\"Bokeh: injecting script tag for BokehJS library: \", url);\n",
       "        document.getElementsByTagName(\"head\")[0].appendChild(s);\n",
       "      }\n",
       "    };var element = document.getElementById(\"f6e0e1ea-6392-46e9-99b5-c0acc9862c02\");\n",
       "    if (element == null) {\n",
       "      console.log(\"Bokeh: ERROR: autoload.js configured with elementid 'f6e0e1ea-6392-46e9-99b5-c0acc9862c02' but no matching script tag was found. \")\n",
       "      return false;\n",
       "    }\n",
       "  \n",
       "    var js_urls = [];\n",
       "  \n",
       "    var inline_js = [\n",
       "      function(Bokeh) {\n",
       "        Bokeh.$(function() {\n",
       "            var docs_json = {\"6735fce6-3745-4ba4-b43d-b32c167872bf\":{\"roots\":{\"references\":[{\"attributes\":{\"bottom_units\":\"screen\",\"fill_alpha\":{\"value\":0.5},\"fill_color\":{\"value\":\"lightgrey\"},\"left_units\":\"screen\",\"level\":\"overlay\",\"line_alpha\":{\"value\":1.0},\"line_color\":{\"value\":\"black\"},\"line_dash\":[4,4],\"line_width\":{\"value\":2},\"plot\":null,\"render_mode\":\"css\",\"right_units\":\"screen\",\"top_units\":\"screen\"},\"id\":\"98dd6589-1c39-4e5d-a74c-a2dab6e06210\",\"type\":\"BoxAnnotation\"},{\"attributes\":{\"data_source\":{\"id\":\"d43d399a-984a-47c9-bc93-da80a5717137\",\"type\":\"ColumnDataSource\"},\"glyph\":{\"id\":\"93404198-c8ae-41c1-a303-20e28b0fb3b2\",\"type\":\"Quad\"},\"hover_glyph\":null,\"nonselection_glyph\":{\"id\":\"8d6bf9c9-5d8c-477d-b710-c98526ef63c1\",\"type\":\"Quad\"},\"selection_glyph\":null},\"id\":\"c52d4a84-2512-412e-8c04-5d4070ba767b\",\"type\":\"GlyphRenderer\"},{\"attributes\":{\"line_color\":{\"field\":\"line_color\"},\"xs\":{\"field\":\"xs\"},\"ys\":{\"field\":\"ys\"}},\"id\":\"ef1faf2a-f778-4e26-86bc-4caf23d9f7af\",\"type\":\"MultiLine\"},{\"attributes\":{\"callback\":null,\"end\":136786630,\"start\":135757320},\"id\":\"fbdc1142-b377-471f-ac98-a6624530e631\",\"type\":\"Range1d\"},{\"attributes\":{\"callback\":null,\"column_names\":[\"right\",\"bottom\",\"top\",\"left\",\"fill_color\"],\"data\":{\"bottom\":[350,350,50,250,150,50,250,350,150,50,250,350],\"fill_color\":[\"#808080\",\"#c46161\",\"#ff0000\",\"#ff0000\",\"#ff0000\",\"#ffff00\",\"#61c4c4\",\"#c46161\",\"#c46161\",\"#ffff00\",\"#808080\",\"#808080\"],\"left\":[135757320,135933921,135939427,136309239,136364916,136392474,136447707,136588031,136603638,136651773,136652953,136653925],\"right\":[135777504,136368563,136362116,136361560,136387893,136643330,136490266,136593678,136632125,136774627,136761175,136761853],\"top\":[396,395,62,290,187,76,292,396,185,76,294,395]}},\"id\":\"d43d399a-984a-47c9-bc93-da80a5717137\",\"type\":\"ColumnDataSource\"},{\"attributes\":{\"callback\":null,\"column_names\":[\"y\",\"x\",\"vals\"],\"data\":{\"vals\":[\"13_1696\",\"123_1561\",\"22_35\",\"9_887\",\"5_588\",\"95_176\",\"4_1149\",\"7_1760\",\"16_511\",\"51_176\",\"5_1296\",\"24_1504\"],\"x\":[135757320,135933921,135939427,136309239,136364916,136392474,136447707,136588031,136603638,136651773,136652953,136653925],\"y\":[401.0,400.0,67.0,295.0,192.0,81.0,297.0,401.0,190.0,81.0,299.0,400.0]}},\"id\":\"0209b299-32bd-422c-8d9c-dae408c5742e\",\"type\":\"ColumnDataSource\"},{\"attributes\":{\"plot\":{\"id\":\"24a7cc86-1c6b-4f05-9b1f-6986b73ebd8a\",\"subtype\":\"Figure\",\"type\":\"Plot\"}},\"id\":\"9db83e4b-3b5f-4ca0-9832-7dd61ef16500\",\"type\":\"PanTool\"},{\"attributes\":{\"plot\":{\"id\":\"24a7cc86-1c6b-4f05-9b1f-6986b73ebd8a\",\"subtype\":\"Figure\",\"type\":\"Plot\"}},\"id\":\"ea6f13f1-0352-4247-a995-3858e913ecce\",\"type\":\"SaveTool\"},{\"attributes\":{\"below\":[{\"id\":\"e4bab644-835b-4e80-8276-b27a5795f2e5\",\"type\":\"LinearAxis\"}],\"left\":[{\"id\":\"33b36a20-dcee-424e-9788-5a2cb1a6602c\",\"type\":\"LinearAxis\"}],\"plot_height\":500,\"plot_width\":900,\"renderers\":[{\"id\":\"e4bab644-835b-4e80-8276-b27a5795f2e5\",\"type\":\"LinearAxis\"},{\"id\":\"a0345c8a-3284-4503-80e5-5c64441c9bf8\",\"type\":\"Grid\"},{\"id\":\"33b36a20-dcee-424e-9788-5a2cb1a6602c\",\"type\":\"LinearAxis\"},{\"id\":\"99434904-1f18-4416-b058-299150741aa1\",\"type\":\"Grid\"},{\"id\":\"98dd6589-1c39-4e5d-a74c-a2dab6e06210\",\"type\":\"BoxAnnotation\"},{\"id\":\"c52d4a84-2512-412e-8c04-5d4070ba767b\",\"type\":\"GlyphRenderer\"},{\"id\":\"743510e3-dce2-4e2a-993e-cfaf5038244f\",\"type\":\"GlyphRenderer\"},{\"id\":\"c1d2a44e-05b9-45ca-a85f-f4df692f2c19\",\"type\":\"LabelSet\"},{\"id\":\"56c5eb19-b7f0-42d8-a90d-32b18f3183f7\",\"type\":\"GlyphRenderer\"},{\"id\":\"dc8ee029-9e2b-4dab-a110-b5cf8849df32\",\"type\":\"LabelSet\"}],\"title\":{\"id\":\"9ef27a36-09b8-4f94-8143-578b1fee9537\",\"type\":\"Title\"},\"tool_events\":{\"id\":\"69861933-7388-44ee-8c21-1f172a27182a\",\"type\":\"ToolEvents\"},\"toolbar\":{\"id\":\"28eb0101-660f-43eb-accc-0065e9d66e4a\",\"type\":\"Toolbar\"},\"toolbar_location\":null,\"x_range\":{\"id\":\"fbdc1142-b377-471f-ac98-a6624530e631\",\"type\":\"Range1d\"},\"y_range\":{\"id\":\"9ef13253-8ae4-4b31-a7bb-3df744de5019\",\"type\":\"Range1d\"}},\"id\":\"24a7cc86-1c6b-4f05-9b1f-6986b73ebd8a\",\"subtype\":\"Figure\",\"type\":\"Plot\"},{\"attributes\":{\"level\":\"glyph\",\"plot\":{\"id\":\"24a7cc86-1c6b-4f05-9b1f-6986b73ebd8a\",\"subtype\":\"Figure\",\"type\":\"Plot\"},\"source\":{\"id\":\"0209b299-32bd-422c-8d9c-dae408c5742e\",\"type\":\"ColumnDataSource\"},\"text\":{\"field\":\"vals\"},\"text_font_size\":{\"value\":\"9pt\"},\"text_font_style\":\"bold\",\"x\":{\"field\":\"x\"},\"y\":{\"field\":\"y\"}},\"id\":\"c1d2a44e-05b9-45ca-a85f-f4df692f2c19\",\"type\":\"LabelSet\"},{\"attributes\":{\"callback\":null,\"end\":500},\"id\":\"9ef13253-8ae4-4b31-a7bb-3df744de5019\",\"type\":\"Range1d\"},{\"attributes\":{},\"id\":\"e42b9357-21d0-4a7e-b4b6-fcfa5d878984\",\"type\":\"BasicTickFormatter\"},{\"attributes\":{\"callback\":null,\"column_names\":[\"y\",\"x\",\"vals\"],\"data\":{\"vals\":[\"RAB3GAP1\",\"ZRANB3\",\"R3HDM1\",\"UBXN4\",\"LCT\",\"MCM6\",\"DARS\"],\"x\":[135869057.0,136122878.0,136385961.0,136520911.0,136570082.5,136615621.5,136703738.0],\"y\":[460.0,460.0,460.0,460.0,460.0,460.0,460.0]}},\"id\":\"5df497cd-0a42-4e57-9d25-469bbd6df655\",\"type\":\"ColumnDataSource\"},{\"attributes\":{\"callback\":null,\"column_names\":[\"xs\",\"ys\",\"line_color\"],\"data\":{\"line_color\":[\"black\",\"black\",\"black\",\"black\",\"black\",\"black\",\"black\",\"black\",\"black\",\"black\",\"black\",\"black\",\"black\",\"black\",\"black\",\"black\",\"black\",\"black\",\"black\",\"black\",\"black\",\"black\",\"black\",\"black\",\"black\",\"black\",\"black\",\"black\",\"black\",\"black\",\"black\",\"black\",\"black\",\"black\",\"black\",\"black\",\"black\",\"black\",\"black\",\"black\",\"black\",\"black\",\"black\",\"black\",\"black\",\"black\",\"black\",\"black\",\"black\",\"black\",\"black\",\"black\",\"black\",\"black\",\"black\",\"black\",\"black\",\"black\",\"black\",\"black\",\"black\",\"black\",\"black\",\"black\",\"black\",\"black\",\"black\",\"black\",\"black\",\"black\",\"black\",\"black\",\"black\",\"black\",\"black\",\"black\",\"black\",\"black\",\"black\",\"black\",\"black\",\"black\",\"black\",\"black\",\"black\",\"black\",\"black\",\"black\",\"black\",\"black\",\"black\",\"black\",\"black\",\"black\",\"black\",\"black\",\"black\",\"black\",\"black\",\"black\",\"black\",\"black\",\"black\",\"black\",\"black\",\"black\",\"black\",\"black\",\"black\",\"black\",\"black\",\"black\",\"black\",\"black\",\"black\",\"black\",\"black\",\"black\",\"black\",\"black\",\"black\",\"black\",\"black\",\"black\",\"black\",\"black\",\"black\",\"black\",\"black\",\"black\",\"black\",\"black\",\"black\",\"black\",\"black\",\"black\",\"black\",\"black\",\"black\",\"black\",\"black\",\"black\",\"black\",\"black\",\"black\",\"black\",\"black\",\"black\",\"black\",\"black\",\"black\",\"black\",\"black\",\"black\",\"black\",\"black\",\"black\",\"black\",\"black\",\"black\",\"black\",\"black\",\"black\",\"black\",\"black\",\"black\",\"black\",\"black\",\"black\",\"black\",\"black\",\"black\",\"black\",\"black\",\"black\",\"black\",\"black\",\"black\",\"black\",\"black\",\"black\",\"black\",\"black\",\"black\",\"black\",\"black\",\"black\",\"black\",\"black\",\"black\",\"black\",\"black\",\"black\",\"black\",\"black\",\"black\",\"black\",\"black\",\"black\",\"black\",\"black\",\"black\",\"black\",\"black\",\"black\",\"black\",\"black\",\"black\",\"black\",\"black\",\"black\",\"black\",\"black\",\"black\",\"black\",\"black\",\"black\",\"black\",\"black\",\"black\",\"black\",\"black\",\"black\",\"black\",\"black\",\"black\",\"black\",\"black\",\"black\",\"black\",\"black\",\"black\",\"black\",\"black\",\"black\",\"black\",\"black\",\"black\",\"black\",\"black\",\"black\",\"black\",\"black\",\"black\",\"black\",\"black\",\"black\",\"black\",\"black\",\"black\",\"black\",\"black\",\"black\",\"black\",\"black\",\"black\",\"black\",\"black\",\"black\",\"black\",\"black\",\"black\",\"black\",\"black\",\"black\",\"black\",\"black\",\"black\",\"black\",\"black\",\"black\",\"black\",\"black\",\"black\",\"black\",\"black\",\"black\",\"black\",\"black\",\"black\",\"black\",\"black\",\"black\",\"black\",\"black\",\"black\",\"black\",\"black\",\"black\",\"black\",\"black\",\"black\",\"black\",\"black\",\"black\",\"black\",\"black\",\"black\",\"black\",\"black\",\"black\",\"black\",\"black\",\"black\",\"black\",\"black\",\"black\",\"black\",\"black\",\"black\",\"black\",\"black\",\"black\",\"black\",\"black\",\"black\",\"black\",\"black\",\"black\",\"black\",\"black\",\"black\",\"black\",\"black\",\"black\",\"black\",\"black\",\"black\",\"black\",\"black\",\"black\",\"black\",\"black\",\"black\",\"black\",\"black\",\"black\",\"black\",\"black\",\"black\",\"black\",\"black\",\"black\",\"black\",\"black\",\"black\",\"black\",\"black\",\"black\",\"black\",\"black\",\"black\",\"black\",\"black\",\"black\",\"black\",\"black\",\"black\",\"black\",\"black\",\"black\",\"black\",\"black\",\"black\",\"black\",\"black\",\"black\",\"black\",\"black\",\"black\",\"black\",\"black\",\"black\",\"black\"],\"xs\":[[135757320,135757320],[135761078,135761078],[135761271,135761271],[135762344,135762344],[135762980,135762980],[135763280,135763280],[135768815,135768815],[135769093,135769093],[135769127,135769127],[135770940,135770940],[135770951,135770951],[135776728,135776728],[135777504,135777504],[135933921,135933921],[135939824,135939824],[135941503,135941503],[135943900,135943900],[135945474,135945474],[135949715,135949715],[135956745,135956745],[135958693,135958693],[135967778,135967778],[135972093,135972093],[135973768,135973768],[135976498,135976498],[135978428,135978428],[135990031,135990031],[135992481,135992481],[135993925,135993925],[135994838,135994838],[136000253,136000253],[136003567,136003567],[136005477,136005477],[136005971,136005971],[136020977,136020977],[136027535,136027535],[136031588,136031588],[136032905,136032905],[136042480,136042480],[136043885,136043885],[136050471,136050471],[136052898,136052898],[136054815,136054815],[136056285,136056285],[136061560,136061560],[136063685,136063685],[136069060,136069060],[136072179,136072179],[136074233,136074233],[136080721,136080721],[136080822,136080822],[136088440,136088440],[136088643,136088643],[136092416,136092416],[136092869,136092869],[136094615,136094615],[136095505,136095505],[136095604,136095604],[136096766,136096766],[136097091,136097091],[136097394,136097394],[136100243,136100243],[136101823,136101823],[136106561,136106561],[136115501,136115501],[136122622,136122622],[136123014,136123014],[136123848,136123848],[136127100,136127100],[136127950,136127950],[136128630,136128630],[136129630,136129630],[136129791,136129791],[136131324,136131324],[136135383,136135383],[136135994,136135994],[136136224,136136224],[136136366,136136366],[136136440,136136440],[136138145,136138145],[136140568,136140568],[136145882,136145882],[136147948,136147948],[136148630,136148630],[136151485,136151485],[136152802,136152802],[136156753,136156753],[136157913,136157913],[136160902,136160902],[136165765,136165765],[136171649,136171649],[136173220,136173220],[136173735,136173735],[136174552,136174552],[136175692,136175692],[136176805,136176805],[136182484,136182484],[136183188,136183188],[136187252,136187252],[136187345,136187345],[136189475,136189475],[136197702,136197702],[136198435,136198435],[136202937,136202937],[136219999,136219999],[136221500,136221500],[136226626,136226626],[136228929,136228929],[136229598,136229598],[136238270,136238270],[136238346,136238346],[136240769,136240769],[136244171,136244171],[136249245,136249245],[136250285,136250285],[136254419,136254419],[136266241,136266241],[136267808,136267808],[136272074,136272074],[136277304,136277304],[136290607,136290607],[136290663,136290663],[136291310,136291310],[136296051,136296051],[136305392,136305392],[136306890,136306890],[136310803,136310803],[136324225,136324225],[136324465,136324465],[136327305,136327305],[136329618,136329618],[136333300,136333300],[136350089,136350089],[136354204,136354204],[136360455,136360455],[136368563,136368563],[135939427,135939427],[135953924,135953924],[135971990,135971990],[135972551,135972551],[135977846,135977846],[135991928,135991928],[135998961,135998961],[136009267,136009267],[136041005,136041005],[136052719,136052719],[136075694,136075694],[136125702,136125702],[136139281,136139281],[136163922,136163922],[136170326,136170326],[136175687,136175687],[136190299,136190299],[136190965,136190965],[136192979,136192979],[136235501,136235501],[136249627,136249627],[136362116,136362116],[136309239,136309239],[136322472,136322472],[136323787,136323787],[136323862,136323862],[136326765,136326765],[136329500,136329500],[136331657,136331657],[136345356,136345356],[136361560,136361560],[136364916,136364916],[136369497,136369497],[136369580,136369580],[136380846,136380846],[136387893,136387893],[136392474,136392474],[136392948,136392948],[136395353,136395353],[136399897,136399897],[136403475,136403475],[136406066,136406066],[136406109,136406109],[136406240,136406240],[136414302,136414302],[136418268,136418268],[136423316,136423316],[136423788,136423788],[136432474,136432474],[136433522,136433522],[136433690,136433690],[136433772,136433772],[136433790,136433790],[136435583,136435583],[136439416,136439416],[136440258,136440258],[136441939,136441939],[136446764,136446764],[136453778,136453778],[136454196,136454196],[136455088,136455088],[136460330,136460330],[136464602,136464602],[136468062,136468062],[136470024,136470024],[136470451,136470451],[136471265,136471265],[136474736,136474736],[136482180,136482180],[136482574,136482574],[136486597,136486597],[136492031,136492031],[136495231,136495231],[136495251,136495251],[136498516,136498516],[136505403,136505403],[136508819,136508819],[136508901,136508901],[136509255,136509255],[136511617,136511617],[136511886,136511886],[136514074,136514074],[136522035,136522035],[136522657,136522657],[136526173,136526173],[136526611,136526611],[136528984,136528984],[136530157,136530157],[136532917,136532917],[136533993,136533993],[136534634,136534634],[136534949,136534949],[136539153,136539153],[136539576,136539576],[136539897,136539897],[136544326,136544326],[136546733,136546733],[136546776,136546776],[136555228,136555228],[136558731,136558731],[136560148,136560148],[136564494,136564494],[136567841,136567841],[136578772,136578772],[136580728,136580728],[136584795,136584795],[136588124,136588124],[136589540,136589540],[136598357,136598357],[136599352,136599352],[136601557,136601557],[136603305,136603305],[136607300,136607300],[136611604,136611604],[136612968,136612968],[136613147,136613147],[136613362,136613362],[136614754,136614754],[136616323,136616323],[136617234,136617234],[136618094,136618094],[136619195,136619195],[136623717,136623717],[136624314,136624314],[136626890,136626890],[136627080,136627080],[136629041,136629041],[136636812,136636812],[136638351,136638351],[136641318,136641318],[136643330,136643330],[136447707,136447707],[136460324,136460324],[136472357,136472357],[136490266,136490266],[136588031,136588031],[136589278,136589278],[136589379,136589379],[136589741,136589741],[136590746,136590746],[136593553,136593553],[136593678,136593678],[136603638,136603638],[136603690,136603690],[136604210,136604210],[136604345,136604345],[136604346,136604346],[136605111,136605111],[136612598,136612598],[136614955,136614955],[136619114,136619114],[136619213,136619213],[136623900,136623900],[136624123,136624123],[136624155,136624155],[136630170,136630170],[136631415,136631415],[136632125,136632125],[136651773,136651773],[136653553,136653553],[136662561,136662561],[136666144,136666144],[136668014,136668014],[136668363,136668363],[136670923,136670923],[136671242,136671242],[136673605,136673605],[136674629,136674629],[136676187,136676187],[136677580,136677580],[136684994,136684994],[136691142,136691142],[136693702,136693702],[136693718,136693718],[136693984,136693984],[136694866,136694866],[136695772,136695772],[136698366,136698366],[136700927,136700927],[136702325,136702325],[136702713,136702713],[136706891,136706891],[136707277,136707277],[136710828,136710828],[136713108,136713108],[136713194,136713194],[136719313,136719313],[136724569,136724569],[136734276,136734276],[136735127,136735127],[136737090,136737090],[136738950,136738950],[136741828,136741828],[136743080,136743080],[136743310,136743310],[136746683,136746683],[136747967,136747967],[136748809,136748809],[136758353,136758353],[136758922,136758922],[136762147,136762147],[136762198,136762198],[136764012,136764012],[136764818,136764818],[136770019,136770019],[136772954,136772954],[136772959,136772959],[136772961,136772961],[136774627,136774627],[136652953,136652953],[136655582,136655582],[136674028,136674028],[136684940,136684940],[136761175,136761175],[136653925,136653925],[136654833,136654833],[136656534,136656534],[136656536,136656536],[136657252,136657252],[136667301,136667301],[136667487,136667487],[136672775,136672775],[136680534,136680534],[136686393,136686393],[136688749,136688749],[136692553,136692553],[136697371,136697371],[136708787,136708787],[136710372,136710372],[136711064,136711064],[136715324,136715324],[136723504,136723504],[136737460,136737460],[136743143,136743143],[136746224,136746224],[136751842,136751842],[136759379,136759379],[136761853,136761853]],\"ys\":[[350,396],[350,396],[350,396],[350,396],[350,396],[350,396],[350,396],[350,396],[350,396],[350,396],[350,396],[350,396],[350,396],[350,395],[350,395],[350,395],[350,395],[350,395],[350,395],[350,395],[350,395],[350,395],[350,395],[350,395],[350,395],[350,395],[350,395],[350,395],[350,395],[350,395],[350,395],[350,395],[350,395],[350,395],[350,395],[350,395],[350,395],[350,395],[350,395],[350,395],[350,395],[350,395],[350,395],[350,395],[350,395],[350,395],[350,395],[350,395],[350,395],[350,395],[350,395],[350,395],[350,395],[350,395],[350,395],[350,395],[350,395],[350,395],[350,395],[350,395],[350,395],[350,395],[350,395],[350,395],[350,395],[350,395],[350,395],[350,395],[350,395],[350,395],[350,395],[350,395],[350,395],[350,395],[350,395],[350,395],[350,395],[350,395],[350,395],[350,395],[350,395],[350,395],[350,395],[350,395],[350,395],[350,395],[350,395],[350,395],[350,395],[350,395],[350,395],[350,395],[350,395],[350,395],[350,395],[350,395],[350,395],[350,395],[350,395],[350,395],[350,395],[350,395],[350,395],[350,395],[350,395],[350,395],[350,395],[350,395],[350,395],[350,395],[350,395],[350,395],[350,395],[350,395],[350,395],[350,395],[350,395],[350,395],[350,395],[350,395],[350,395],[350,395],[350,395],[350,395],[350,395],[350,395],[350,395],[350,395],[350,395],[350,395],[350,395],[350,395],[350,395],[350,395],[350,395],[350,395],[50,62],[50,62],[50,62],[50,62],[50,62],[50,62],[50,62],[50,62],[50,62],[50,62],[50,62],[50,62],[50,62],[50,62],[50,62],[50,62],[50,62],[50,62],[50,62],[50,62],[50,62],[50,62],[250,290],[250,290],[250,290],[250,290],[250,290],[250,290],[250,290],[250,290],[250,290],[150,187],[150,187],[150,187],[150,187],[150,187],[50,76],[50,76],[50,76],[50,76],[50,76],[50,76],[50,76],[50,76],[50,76],[50,76],[50,76],[50,76],[50,76],[50,76],[50,76],[50,76],[50,76],[50,76],[50,76],[50,76],[50,76],[50,76],[50,76],[50,76],[50,76],[50,76],[50,76],[50,76],[50,76],[50,76],[50,76],[50,76],[50,76],[50,76],[50,76],[50,76],[50,76],[50,76],[50,76],[50,76],[50,76],[50,76],[50,76],[50,76],[50,76],[50,76],[50,76],[50,76],[50,76],[50,76],[50,76],[50,76],[50,76],[50,76],[50,76],[50,76],[50,76],[50,76],[50,76],[50,76],[50,76],[50,76],[50,76],[50,76],[50,76],[50,76],[50,76],[50,76],[50,76],[50,76],[50,76],[50,76],[50,76],[50,76],[50,76],[50,76],[50,76],[50,76],[50,76],[50,76],[50,76],[50,76],[50,76],[50,76],[50,76],[50,76],[50,76],[50,76],[50,76],[50,76],[50,76],[50,76],[50,76],[50,76],[50,76],[250,292],[250,292],[250,292],[250,292],[350,396],[350,396],[350,396],[350,396],[350,396],[350,396],[350,396],[150,185],[150,185],[150,185],[150,185],[150,185],[150,185],[150,185],[150,185],[150,185],[150,185],[150,185],[150,185],[150,185],[150,185],[150,185],[150,185],[50,76],[50,76],[50,76],[50,76],[50,76],[50,76],[50,76],[50,76],[50,76],[50,76],[50,76],[50,76],[50,76],[50,76],[50,76],[50,76],[50,76],[50,76],[50,76],[50,76],[50,76],[50,76],[50,76],[50,76],[50,76],[50,76],[50,76],[50,76],[50,76],[50,76],[50,76],[50,76],[50,76],[50,76],[50,76],[50,76],[50,76],[50,76],[50,76],[50,76],[50,76],[50,76],[50,76],[50,76],[50,76],[50,76],[50,76],[50,76],[50,76],[50,76],[50,76],[250,294],[250,294],[250,294],[250,294],[250,294],[350,395],[350,395],[350,395],[350,395],[350,395],[350,395],[350,395],[350,395],[350,395],[350,395],[350,395],[350,395],[350,395],[350,395],[350,395],[350,395],[350,395],[350,395],[350,395],[350,395],[350,395],[350,395],[350,395],[350,395]]}},\"id\":\"708d4443-6072-4220-b9d7-9435262e2dd5\",\"type\":\"ColumnDataSource\"},{\"attributes\":{},\"id\":\"f4f2d7bb-ec97-412a-9b7b-a382d53dc7ae\",\"type\":\"BasicTicker\"},{\"attributes\":{\"overlay\":{\"id\":\"98dd6589-1c39-4e5d-a74c-a2dab6e06210\",\"type\":\"BoxAnnotation\"},\"plot\":{\"id\":\"24a7cc86-1c6b-4f05-9b1f-6986b73ebd8a\",\"subtype\":\"Figure\",\"type\":\"Plot\"}},\"id\":\"02c28c2e-68c2-42bf-be5f-95ea548ce15b\",\"type\":\"BoxZoomTool\"},{\"attributes\":{\"data_source\":{\"id\":\"b1150553-76d0-43c0-9508-e5b2f7c7cd40\",\"type\":\"ColumnDataSource\"},\"glyph\":{\"id\":\"94ef432f-a0e2-42b6-8f85-cee42dec38fb\",\"type\":\"Quad\"},\"hover_glyph\":null,\"nonselection_glyph\":{\"id\":\"4ee8e7a1-74f6-452a-883d-1ebcd4daede9\",\"type\":\"Quad\"},\"selection_glyph\":null},\"id\":\"56c5eb19-b7f0-42d8-a90d-32b18f3183f7\",\"type\":\"GlyphRenderer\"},{\"attributes\":{},\"id\":\"d95ba76f-98b5-4b2d-a7e0-604f29fad0d5\",\"type\":\"BasicTickFormatter\"},{\"attributes\":{\"bottom\":{\"field\":\"bottom\"},\"fill_color\":{\"value\":\"white\"},\"left\":{\"field\":\"left\"},\"right\":{\"field\":\"right\"},\"top\":{\"field\":\"top\"}},\"id\":\"94ef432f-a0e2-42b6-8f85-cee42dec38fb\",\"type\":\"Quad\"},{\"attributes\":{},\"id\":\"69861933-7388-44ee-8c21-1f172a27182a\",\"type\":\"ToolEvents\"},{\"attributes\":{\"formatter\":{\"id\":\"e42b9357-21d0-4a7e-b4b6-fcfa5d878984\",\"type\":\"BasicTickFormatter\"},\"plot\":{\"id\":\"24a7cc86-1c6b-4f05-9b1f-6986b73ebd8a\",\"subtype\":\"Figure\",\"type\":\"Plot\"},\"ticker\":{\"id\":\"f4f2d7bb-ec97-412a-9b7b-a382d53dc7ae\",\"type\":\"BasicTicker\"},\"visible\":null},\"id\":\"33b36a20-dcee-424e-9788-5a2cb1a6602c\",\"type\":\"LinearAxis\"},{\"attributes\":{\"line_alpha\":{\"value\":0.1},\"line_color\":{\"value\":\"#1f77b4\"},\"xs\":{\"field\":\"xs\"},\"ys\":{\"field\":\"ys\"}},\"id\":\"81ee608d-c720-4db1-85f4-524388bb0df6\",\"type\":\"MultiLine\"},{\"attributes\":{\"dimension\":1,\"plot\":{\"id\":\"24a7cc86-1c6b-4f05-9b1f-6986b73ebd8a\",\"subtype\":\"Figure\",\"type\":\"Plot\"},\"ticker\":{\"id\":\"f4f2d7bb-ec97-412a-9b7b-a382d53dc7ae\",\"type\":\"BasicTicker\"}},\"id\":\"99434904-1f18-4416-b058-299150741aa1\",\"type\":\"Grid\"},{\"attributes\":{\"data_source\":{\"id\":\"708d4443-6072-4220-b9d7-9435262e2dd5\",\"type\":\"ColumnDataSource\"},\"glyph\":{\"id\":\"ef1faf2a-f778-4e26-86bc-4caf23d9f7af\",\"type\":\"MultiLine\"},\"hover_glyph\":null,\"nonselection_glyph\":{\"id\":\"81ee608d-c720-4db1-85f4-524388bb0df6\",\"type\":\"MultiLine\"},\"selection_glyph\":null},\"id\":\"743510e3-dce2-4e2a-993e-cfaf5038244f\",\"type\":\"GlyphRenderer\"},{\"attributes\":{\"callback\":null,\"column_names\":[\"right\",\"bottom\",\"top\",\"left\"],\"data\":{\"bottom\":[445,445,445,445,445,445,445],\"left\":[135809835,135957574,136289083,136499189,136545415,136597196,136664254],\"right\":[135928279,136288182,136482839,136542633,136594750,136634047,136743222],\"top\":[475,475,475,475,475,475,475]}},\"id\":\"b1150553-76d0-43c0-9508-e5b2f7c7cd40\",\"type\":\"ColumnDataSource\"},{\"attributes\":{\"bottom\":{\"field\":\"bottom\"},\"fill_alpha\":{\"value\":0.1},\"fill_color\":{\"value\":\"#1f77b4\"},\"left\":{\"field\":\"left\"},\"line_alpha\":{\"value\":0.1},\"line_color\":{\"value\":\"#1f77b4\"},\"right\":{\"field\":\"right\"},\"top\":{\"field\":\"top\"}},\"id\":\"8d6bf9c9-5d8c-477d-b710-c98526ef63c1\",\"type\":\"Quad\"},{\"attributes\":{\"formatter\":{\"id\":\"d95ba76f-98b5-4b2d-a7e0-604f29fad0d5\",\"type\":\"BasicTickFormatter\"},\"plot\":{\"id\":\"24a7cc86-1c6b-4f05-9b1f-6986b73ebd8a\",\"subtype\":\"Figure\",\"type\":\"Plot\"},\"ticker\":{\"id\":\"09f29af5-4b6a-4bf5-b065-8673a372eda9\",\"type\":\"BasicTicker\"}},\"id\":\"e4bab644-835b-4e80-8276-b27a5795f2e5\",\"type\":\"LinearAxis\"},{\"attributes\":{\"bottom\":{\"field\":\"bottom\"},\"fill_alpha\":{\"value\":0.1},\"fill_color\":{\"value\":\"#1f77b4\"},\"left\":{\"field\":\"left\"},\"line_alpha\":{\"value\":0.1},\"line_color\":{\"value\":\"#1f77b4\"},\"right\":{\"field\":\"right\"},\"top\":{\"field\":\"top\"}},\"id\":\"4ee8e7a1-74f6-452a-883d-1ebcd4daede9\",\"type\":\"Quad\"},{\"attributes\":{\"plot\":{\"id\":\"24a7cc86-1c6b-4f05-9b1f-6986b73ebd8a\",\"subtype\":\"Figure\",\"type\":\"Plot\"}},\"id\":\"f23a176a-3ead-4de6-aa9e-15eeffa732a2\",\"type\":\"WheelZoomTool\"},{\"attributes\":{\"active_drag\":\"auto\",\"active_scroll\":\"auto\",\"active_tap\":\"auto\",\"tools\":[{\"id\":\"9db83e4b-3b5f-4ca0-9832-7dd61ef16500\",\"type\":\"PanTool\"},{\"id\":\"f23a176a-3ead-4de6-aa9e-15eeffa732a2\",\"type\":\"WheelZoomTool\"},{\"id\":\"02c28c2e-68c2-42bf-be5f-95ea548ce15b\",\"type\":\"BoxZoomTool\"},{\"id\":\"ea6f13f1-0352-4247-a995-3858e913ecce\",\"type\":\"SaveTool\"},{\"id\":\"d51333a2-ead2-4d17-9698-1d5a3b1e6076\",\"type\":\"ResetTool\"},{\"id\":\"00b9e5b6-f8ee-49c2-888a-8e96715119a7\",\"type\":\"HelpTool\"}]},\"id\":\"28eb0101-660f-43eb-accc-0065e9d66e4a\",\"type\":\"Toolbar\"},{\"attributes\":{\"plot\":{\"id\":\"24a7cc86-1c6b-4f05-9b1f-6986b73ebd8a\",\"subtype\":\"Figure\",\"type\":\"Plot\"}},\"id\":\"d51333a2-ead2-4d17-9698-1d5a3b1e6076\",\"type\":\"ResetTool\"},{\"attributes\":{\"plot\":null,\"text\":null},\"id\":\"9ef27a36-09b8-4f94-8143-578b1fee9537\",\"type\":\"Title\"},{\"attributes\":{\"plot\":{\"id\":\"24a7cc86-1c6b-4f05-9b1f-6986b73ebd8a\",\"subtype\":\"Figure\",\"type\":\"Plot\"},\"ticker\":{\"id\":\"09f29af5-4b6a-4bf5-b065-8673a372eda9\",\"type\":\"BasicTicker\"}},\"id\":\"a0345c8a-3284-4503-80e5-5c64441c9bf8\",\"type\":\"Grid\"},{\"attributes\":{\"plot\":{\"id\":\"24a7cc86-1c6b-4f05-9b1f-6986b73ebd8a\",\"subtype\":\"Figure\",\"type\":\"Plot\"}},\"id\":\"00b9e5b6-f8ee-49c2-888a-8e96715119a7\",\"type\":\"HelpTool\"},{\"attributes\":{\"bottom\":{\"field\":\"bottom\"},\"fill_color\":{\"field\":\"fill_color\"},\"left\":{\"field\":\"left\"},\"line_color\":{\"value\":null},\"right\":{\"field\":\"right\"},\"top\":{\"field\":\"top\"}},\"id\":\"93404198-c8ae-41c1-a303-20e28b0fb3b2\",\"type\":\"Quad\"},{\"attributes\":{\"level\":\"glyph\",\"plot\":{\"id\":\"24a7cc86-1c6b-4f05-9b1f-6986b73ebd8a\",\"subtype\":\"Figure\",\"type\":\"Plot\"},\"source\":{\"id\":\"5df497cd-0a42-4e57-9d25-469bbd6df655\",\"type\":\"ColumnDataSource\"},\"text\":{\"field\":\"vals\"},\"text_align\":\"center\",\"text_baseline\":\"middle\",\"text_font_size\":{\"value\":\"8pt\"},\"x\":{\"field\":\"x\"},\"y\":{\"field\":\"y\"}},\"id\":\"dc8ee029-9e2b-4dab-a110-b5cf8849df32\",\"type\":\"LabelSet\"},{\"attributes\":{},\"id\":\"09f29af5-4b6a-4bf5-b065-8673a372eda9\",\"type\":\"BasicTicker\"}],\"root_ids\":[\"24a7cc86-1c6b-4f05-9b1f-6986b73ebd8a\"]},\"title\":\"Bokeh Application\",\"version\":\"0.12.0\"}};\n",
       "            var render_items = [{\"docid\":\"6735fce6-3745-4ba4-b43d-b32c167872bf\",\"elementid\":\"f6e0e1ea-6392-46e9-99b5-c0acc9862c02\",\"modelid\":\"24a7cc86-1c6b-4f05-9b1f-6986b73ebd8a\",\"notebook_comms_target\":\"0f1b26a8-41a3-442e-9b3f-cf8cd81a21a6\"}];\n",
       "            \n",
       "            Bokeh.embed.embed_items(docs_json, render_items);\n",
       "        });\n",
       "      },\n",
       "      function(Bokeh) {\n",
       "      }\n",
       "    ];\n",
       "  \n",
       "    function run_inline_js() {\n",
       "      for (var i = 0; i < inline_js.length; i++) {\n",
       "        inline_js[i](window.Bokeh);\n",
       "      }\n",
       "    }\n",
       "  \n",
       "    if (window._bokeh_is_loading === 0) {\n",
       "      console.log(\"Bokeh: BokehJS loaded, going straight to plotting\");\n",
       "      run_inline_js();\n",
       "    } else {\n",
       "      load_libs(js_urls, function() {\n",
       "        console.log(\"Bokeh: BokehJS plotting callback run at\", now());\n",
       "        run_inline_js();\n",
       "      });\n",
       "    }\n",
       "  }(this));\n",
       "</script>"
      ]
     },
     "metadata": {},
     "output_type": "display_data"
    },
    {
     "data": {
      "text/html": [
       "<p><code>&lt;Bokeh Notebook handle for <strong>In[36]</strong>&gt;</code></p>"
      ],
      "text/plain": [
       "<bokeh.io._CommsHandle at 0x7fd1d8ef1550>"
      ]
     },
     "execution_count": 36,
     "metadata": {},
     "output_type": "execute_result"
    }
   ],
   "source": [
    "plt_obj = dm.superset_yes_no([dm.di_22_35, dm.di_7_1760], [dm.di_219_26], min_match=0.001)\n",
    "plt = plt_obj.do_plot()\n",
    "show(plt)"
   ]
  },
  {
   "cell_type": "code",
   "execution_count": 37,
   "metadata": {
    "collapsed": false
   },
   "outputs": [
    {
     "data": {
      "text/html": [
       "<table>\n",
       "<thead><tr><th style=\"text-align:center\">index</th><th style=\"text-align:center\">first</th><th style=\"text-align:center\">length</th><th style=\"text-align:center\">snps</th><th style=\"text-align:center\" colspan=2>alleles</th><th style=\"text-align:center\" colspan=2>matches</th><th style=\"text-align:center\" colspan=2>afr</th><th style=\"text-align:center\" colspan=2>afx</th><th style=\"text-align:center\" colspan=2>amr</th><th style=\"text-align:center\" colspan=2>eas</th><th style=\"text-align:center\" colspan=2>eur</th><th style=\"text-align:center\" colspan=2>sas</th><th style=\"text-align:center\" colspan=2>sax</th></tr></thead>\n",
       "<tr class=\"even\"><td style=\"text-align: right;\">354033</td><td style=\"text-align: right;\">136,588,031</td><td style=\"text-align: right;\">5,647</td><td style=\"text-align: right;\">7</td><td style=\"text-align: right;\">1760</td><td style=\"text-align: right;\">0.00</td><td style=\"text-align: right;\">5</td><td style=\"text-align: right;\">1.00</td><td style=\"text-align: right;\">0</td><td style=\"text-align: right;\">0.00</td><td style=\"text-align: right;\">0</td><td style=\"text-align: right;\">0.00</td><td style=\"text-align: right;\">0</td><td style=\"text-align: right;\">0.00</td><td style=\"text-align: right;\">0</td><td style=\"text-align: right;\">0.00</td><td style=\"text-align: right;\">0</td><td style=\"text-align: right;\">0.00</td><td style=\"text-align: right;\">5</td><td style=\"text-align: right;\">13.69</td><td style=\"text-align: right;\">0</td><td style=\"text-align: right;\">0.00</td></tr>\n",
       "<tr><td style=\"text-align: right;\">353240</td><td style=\"text-align: right;\">135,757,320</td><td style=\"text-align: right;\">20,184</td><td style=\"text-align: right;\">13</td><td style=\"text-align: right;\">1696</td><td style=\"text-align: right;\">0.00</td><td style=\"text-align: right;\">5</td><td style=\"text-align: right;\">1.00</td><td style=\"text-align: right;\">0</td><td style=\"text-align: right;\">0.00</td><td style=\"text-align: right;\">0</td><td style=\"text-align: right;\">0.00</td><td style=\"text-align: right;\">0</td><td style=\"text-align: right;\">0.00</td><td style=\"text-align: right;\">0</td><td style=\"text-align: right;\">0.00</td><td style=\"text-align: right;\">0</td><td style=\"text-align: right;\">0.00</td><td style=\"text-align: right;\">5</td><td style=\"text-align: right;\">13.69</td><td style=\"text-align: right;\">0</td><td style=\"text-align: right;\">0.00</td></tr>\n",
       "<tr class=\"even\"><td style=\"text-align: right;\">353478</td><td style=\"text-align: right;\">135,933,921</td><td style=\"text-align: right;\">434,642</td><td style=\"text-align: right;\">123</td><td style=\"text-align: right;\">1561</td><td style=\"text-align: right;\">0.00</td><td style=\"text-align: right;\">5</td><td style=\"text-align: right;\">1.00</td><td style=\"text-align: right;\">0</td><td style=\"text-align: right;\">0.00</td><td style=\"text-align: right;\">0</td><td style=\"text-align: right;\">0.00</td><td style=\"text-align: right;\">0</td><td style=\"text-align: right;\">0.00</td><td style=\"text-align: right;\">0</td><td style=\"text-align: right;\">0.00</td><td style=\"text-align: right;\">0</td><td style=\"text-align: right;\">0.00</td><td style=\"text-align: right;\">5</td><td style=\"text-align: right;\">13.69</td><td style=\"text-align: right;\">0</td><td style=\"text-align: right;\">0.00</td></tr>\n",
       "<tr><td style=\"text-align: right;\">354130</td><td style=\"text-align: right;\">136,653,925</td><td style=\"text-align: right;\">107,928</td><td style=\"text-align: right;\">24</td><td style=\"text-align: right;\">1504</td><td style=\"text-align: right;\">0.00</td><td style=\"text-align: right;\">5</td><td style=\"text-align: right;\">1.00</td><td style=\"text-align: right;\">0</td><td style=\"text-align: right;\">0.00</td><td style=\"text-align: right;\">0</td><td style=\"text-align: right;\">0.00</td><td style=\"text-align: right;\">0</td><td style=\"text-align: right;\">0.00</td><td style=\"text-align: right;\">0</td><td style=\"text-align: right;\">0.00</td><td style=\"text-align: right;\">0</td><td style=\"text-align: right;\">0.00</td><td style=\"text-align: right;\">5</td><td style=\"text-align: right;\">13.69</td><td style=\"text-align: right;\">0</td><td style=\"text-align: right;\">0.00</td></tr>\n",
       "<tr class=\"even\"><td style=\"text-align: right;\">354129</td><td style=\"text-align: right;\">136,652,953</td><td style=\"text-align: right;\">108,222</td><td style=\"text-align: right;\">5</td><td style=\"text-align: right;\">1296</td><td style=\"text-align: right;\">0.00</td><td style=\"text-align: right;\">5</td><td style=\"text-align: right;\">1.00</td><td style=\"text-align: right;\">0</td><td style=\"text-align: right;\">0.00</td><td style=\"text-align: right;\">0</td><td style=\"text-align: right;\">0.00</td><td style=\"text-align: right;\">0</td><td style=\"text-align: right;\">0.00</td><td style=\"text-align: right;\">0</td><td style=\"text-align: right;\">0.00</td><td style=\"text-align: right;\">0</td><td style=\"text-align: right;\">0.00</td><td style=\"text-align: right;\">5</td><td style=\"text-align: right;\">13.69</td><td style=\"text-align: right;\">0</td><td style=\"text-align: right;\">0.00</td></tr>\n",
       "<tr><td style=\"text-align: right;\">353849</td><td style=\"text-align: right;\">136,447,707</td><td style=\"text-align: right;\">42,559</td><td style=\"text-align: right;\">4</td><td style=\"text-align: right;\">1149</td><td style=\"text-align: right;\">0.00</td><td style=\"text-align: right;\">5</td><td style=\"text-align: right;\">1.00</td><td style=\"text-align: right;\">0</td><td style=\"text-align: right;\">0.00</td><td style=\"text-align: right;\">0</td><td style=\"text-align: right;\">0.00</td><td style=\"text-align: right;\">0</td><td style=\"text-align: right;\">0.00</td><td style=\"text-align: right;\">0</td><td style=\"text-align: right;\">0.00</td><td style=\"text-align: right;\">0</td><td style=\"text-align: right;\">0.00</td><td style=\"text-align: right;\">5</td><td style=\"text-align: right;\">13.69</td><td style=\"text-align: right;\">0</td><td style=\"text-align: right;\">0.00</td></tr>\n",
       "<tr class=\"even\"><td style=\"text-align: right;\">353729</td><td style=\"text-align: right;\">136,309,239</td><td style=\"text-align: right;\">52,321</td><td style=\"text-align: right;\">9</td><td style=\"text-align: right;\">887</td><td style=\"text-align: right;\">0.01</td><td style=\"text-align: right;\">5</td><td style=\"text-align: right;\">1.00</td><td style=\"text-align: right;\">0</td><td style=\"text-align: right;\">0.00</td><td style=\"text-align: right;\">0</td><td style=\"text-align: right;\">0.00</td><td style=\"text-align: right;\">0</td><td style=\"text-align: right;\">0.00</td><td style=\"text-align: right;\">0</td><td style=\"text-align: right;\">0.00</td><td style=\"text-align: right;\">0</td><td style=\"text-align: right;\">0.00</td><td style=\"text-align: right;\">5</td><td style=\"text-align: right;\">13.69</td><td style=\"text-align: right;\">0</td><td style=\"text-align: right;\">0.00</td></tr>\n",
       "<tr><td style=\"text-align: right;\">353764</td><td style=\"text-align: right;\">136,364,916</td><td style=\"text-align: right;\">22,977</td><td style=\"text-align: right;\">5</td><td style=\"text-align: right;\">588</td><td style=\"text-align: right;\">0.01</td><td style=\"text-align: right;\">5</td><td style=\"text-align: right;\">1.00</td><td style=\"text-align: right;\">0</td><td style=\"text-align: right;\">0.00</td><td style=\"text-align: right;\">0</td><td style=\"text-align: right;\">0.00</td><td style=\"text-align: right;\">0</td><td style=\"text-align: right;\">0.00</td><td style=\"text-align: right;\">0</td><td style=\"text-align: right;\">0.00</td><td style=\"text-align: right;\">0</td><td style=\"text-align: right;\">0.00</td><td style=\"text-align: right;\">5</td><td style=\"text-align: right;\">13.69</td><td style=\"text-align: right;\">0</td><td style=\"text-align: right;\">0.00</td></tr>\n",
       "<tr class=\"even\"><td style=\"text-align: right;\">354061</td><td style=\"text-align: right;\">136,603,638</td><td style=\"text-align: right;\">28,487</td><td style=\"text-align: right;\">16</td><td style=\"text-align: right;\">511</td><td style=\"text-align: right;\">0.01</td><td style=\"text-align: right;\">5</td><td style=\"text-align: right;\">1.00</td><td style=\"text-align: right;\">0</td><td style=\"text-align: right;\">0.00</td><td style=\"text-align: right;\">0</td><td style=\"text-align: right;\">0.00</td><td style=\"text-align: right;\">0</td><td style=\"text-align: right;\">0.00</td><td style=\"text-align: right;\">0</td><td style=\"text-align: right;\">0.00</td><td style=\"text-align: right;\">0</td><td style=\"text-align: right;\">0.00</td><td style=\"text-align: right;\">5</td><td style=\"text-align: right;\">13.69</td><td style=\"text-align: right;\">0</td><td style=\"text-align: right;\">0.00</td></tr>\n",
       "<tr><td style=\"text-align: right;\">354123</td><td style=\"text-align: right;\">136,651,773</td><td style=\"text-align: right;\">122,854</td><td style=\"text-align: right;\">51</td><td style=\"text-align: right;\">176</td><td style=\"text-align: right;\">0.03</td><td style=\"text-align: right;\">5</td><td style=\"text-align: right;\">1.00</td><td style=\"text-align: right;\">0</td><td style=\"text-align: right;\">0.00</td><td style=\"text-align: right;\">0</td><td style=\"text-align: right;\">0.00</td><td style=\"text-align: right;\">0</td><td style=\"text-align: right;\">0.00</td><td style=\"text-align: right;\">0</td><td style=\"text-align: right;\">0.00</td><td style=\"text-align: right;\">0</td><td style=\"text-align: right;\">0.00</td><td style=\"text-align: right;\">5</td><td style=\"text-align: right;\">13.69</td><td style=\"text-align: right;\">0</td><td style=\"text-align: right;\">0.00</td></tr>\n",
       "<tr class=\"even\"><td style=\"text-align: right;\">353787</td><td style=\"text-align: right;\">136,392,474</td><td style=\"text-align: right;\">250,856</td><td style=\"text-align: right;\">95</td><td style=\"text-align: right;\">176</td><td style=\"text-align: right;\">0.03</td><td style=\"text-align: right;\">5</td><td style=\"text-align: right;\">1.00</td><td style=\"text-align: right;\">0</td><td style=\"text-align: right;\">0.00</td><td style=\"text-align: right;\">0</td><td style=\"text-align: right;\">0.00</td><td style=\"text-align: right;\">0</td><td style=\"text-align: right;\">0.00</td><td style=\"text-align: right;\">0</td><td style=\"text-align: right;\">0.00</td><td style=\"text-align: right;\">0</td><td style=\"text-align: right;\">0.00</td><td style=\"text-align: right;\">5</td><td style=\"text-align: right;\">13.69</td><td style=\"text-align: right;\">0</td><td style=\"text-align: right;\">0.00</td></tr>\n",
       "<tr><td style=\"text-align: right;\">353483</td><td style=\"text-align: right;\">135,939,427</td><td style=\"text-align: right;\">422,689</td><td style=\"text-align: right;\">22</td><td style=\"text-align: right;\">35</td><td style=\"text-align: right;\">0.14</td><td style=\"text-align: right;\">5</td><td style=\"text-align: right;\">1.00</td><td style=\"text-align: right;\">0</td><td style=\"text-align: right;\">0.00</td><td style=\"text-align: right;\">0</td><td style=\"text-align: right;\">0.00</td><td style=\"text-align: right;\">0</td><td style=\"text-align: right;\">0.00</td><td style=\"text-align: right;\">0</td><td style=\"text-align: right;\">0.00</td><td style=\"text-align: right;\">0</td><td style=\"text-align: right;\">0.00</td><td style=\"text-align: right;\">5</td><td style=\"text-align: right;\">13.69</td><td style=\"text-align: right;\">0</td><td style=\"text-align: right;\">0.00</td></tr>\n",
       "</table>"
      ],
      "text/plain": [
       "<IPython.core.display.HTML object>"
      ]
     },
     "execution_count": 37,
     "metadata": {},
     "output_type": "execute_result"
    }
   ],
   "source": [
    "\n",
    "HTML(plt_obj.get_html())"
   ]
  },
  {
   "cell_type": "code",
   "execution_count": 38,
   "metadata": {
    "collapsed": false
   },
   "outputs": [
    {
     "data": {
      "text/html": [
       "\n",
       "\n",
       "    <div class=\"bk-root\">\n",
       "        <div class=\"plotdiv\" id=\"9568962a-a3cc-4ef8-8c66-364f14d1b61f\"></div>\n",
       "    </div>\n",
       "<script type=\"text/javascript\">\n",
       "  \n",
       "  (function(global) {\n",
       "    function now() {\n",
       "      return new Date();\n",
       "    }\n",
       "  \n",
       "    if (typeof (window._bokeh_onload_callbacks) === \"undefined\") {\n",
       "      window._bokeh_onload_callbacks = [];\n",
       "    }\n",
       "  \n",
       "    function run_callbacks() {\n",
       "      window._bokeh_onload_callbacks.forEach(function(callback) { callback() });\n",
       "      delete window._bokeh_onload_callbacks\n",
       "      console.info(\"Bokeh: all callbacks have finished\");\n",
       "    }\n",
       "  \n",
       "    function load_libs(js_urls, callback) {\n",
       "      window._bokeh_onload_callbacks.push(callback);\n",
       "      if (window._bokeh_is_loading > 0) {\n",
       "        console.log(\"Bokeh: BokehJS is being loaded, scheduling callback at\", now());\n",
       "        return null;\n",
       "      }\n",
       "      if (js_urls == null || js_urls.length === 0) {\n",
       "        run_callbacks();\n",
       "        return null;\n",
       "      }\n",
       "      console.log(\"Bokeh: BokehJS not loaded, scheduling load and callback at\", now());\n",
       "      window._bokeh_is_loading = js_urls.length;\n",
       "      for (var i = 0; i < js_urls.length; i++) {\n",
       "        var url = js_urls[i];\n",
       "        var s = document.createElement('script');\n",
       "        s.src = url;\n",
       "        s.async = false;\n",
       "        s.onreadystatechange = s.onload = function() {\n",
       "          window._bokeh_is_loading--;\n",
       "          if (window._bokeh_is_loading === 0) {\n",
       "            console.log(\"Bokeh: all BokehJS libraries loaded\");\n",
       "            run_callbacks()\n",
       "          }\n",
       "        };\n",
       "        s.onerror = function() {\n",
       "          console.warn(\"failed to load library \" + url);\n",
       "        };\n",
       "        console.log(\"Bokeh: injecting script tag for BokehJS library: \", url);\n",
       "        document.getElementsByTagName(\"head\")[0].appendChild(s);\n",
       "      }\n",
       "    };var element = document.getElementById(\"9568962a-a3cc-4ef8-8c66-364f14d1b61f\");\n",
       "    if (element == null) {\n",
       "      console.log(\"Bokeh: ERROR: autoload.js configured with elementid '9568962a-a3cc-4ef8-8c66-364f14d1b61f' but no matching script tag was found. \")\n",
       "      return false;\n",
       "    }\n",
       "  \n",
       "    var js_urls = [];\n",
       "  \n",
       "    var inline_js = [\n",
       "      function(Bokeh) {\n",
       "        Bokeh.$(function() {\n",
       "            var docs_json = {\"9db02361-f9d8-4bcb-bbc9-861983ba3e6c\":{\"roots\":{\"references\":[{\"attributes\":{\"bottom\":{\"field\":\"bottom\"},\"fill_color\":{\"field\":\"fill_color\"},\"left\":{\"field\":\"left\"},\"line_color\":{\"value\":null},\"right\":{\"field\":\"right\"},\"top\":{\"field\":\"top\"}},\"id\":\"0860d4cb-39fb-4b1e-8230-b73c1d24e4c2\",\"type\":\"Quad\"},{\"attributes\":{},\"id\":\"33d918f7-c65e-4d8c-9d36-9067aacc66d8\",\"type\":\"ToolEvents\"},{\"attributes\":{\"level\":\"glyph\",\"plot\":{\"id\":\"d32be3ee-a114-4631-bffd-c897dbf5bddb\",\"subtype\":\"Figure\",\"type\":\"Plot\"},\"source\":{\"id\":\"68f9757c-92e3-4b11-bbdf-b36f28ffca5d\",\"type\":\"ColumnDataSource\"},\"text\":{\"field\":\"vals\"},\"text_font_size\":{\"value\":\"9pt\"},\"text_font_style\":\"bold\",\"x\":{\"field\":\"x\"},\"y\":{\"field\":\"y\"}},\"id\":\"4c6059c5-7aca-4d5d-844c-590524ad9c05\",\"type\":\"LabelSet\"},{\"attributes\":{\"plot\":{\"id\":\"d32be3ee-a114-4631-bffd-c897dbf5bddb\",\"subtype\":\"Figure\",\"type\":\"Plot\"}},\"id\":\"27dd7a0e-30ed-41ff-a11a-f1c486184412\",\"type\":\"SaveTool\"},{\"attributes\":{\"overlay\":{\"id\":\"8f69464b-be7d-430c-8176-b03a2a306ae3\",\"type\":\"BoxAnnotation\"},\"plot\":{\"id\":\"d32be3ee-a114-4631-bffd-c897dbf5bddb\",\"subtype\":\"Figure\",\"type\":\"Plot\"}},\"id\":\"3ed0245a-ab2b-4aba-96b0-dcdc5d6581a6\",\"type\":\"BoxZoomTool\"},{\"attributes\":{\"line_alpha\":{\"value\":0.1},\"line_color\":{\"value\":\"#1f77b4\"},\"xs\":{\"field\":\"xs\"},\"ys\":{\"field\":\"ys\"}},\"id\":\"c7fe2e37-a83a-4495-8649-f201fe6af66f\",\"type\":\"MultiLine\"},{\"attributes\":{\"dimension\":1,\"plot\":{\"id\":\"d32be3ee-a114-4631-bffd-c897dbf5bddb\",\"subtype\":\"Figure\",\"type\":\"Plot\"},\"ticker\":{\"id\":\"9e98131b-9cf8-4f63-9582-0d0bdb36012b\",\"type\":\"BasicTicker\"}},\"id\":\"f7fef225-aaab-446f-8945-be846cb0ddee\",\"type\":\"Grid\"},{\"attributes\":{},\"id\":\"11e9572f-8ebd-43bd-a0dd-577cf3ed9224\",\"type\":\"BasicTicker\"},{\"attributes\":{\"line_color\":{\"field\":\"line_color\"},\"xs\":{\"field\":\"xs\"},\"ys\":{\"field\":\"ys\"}},\"id\":\"f0f3ea4d-d7a5-4ee1-a731-a005e903d522\",\"type\":\"MultiLine\"},{\"attributes\":{\"callback\":null,\"column_names\":[\"right\",\"bottom\",\"top\",\"left\"],\"data\":{\"bottom\":[345,345,345,345,345,345,345],\"left\":[135809835,135957574,136289083,136499189,136545415,136597196,136664254],\"right\":[135928279,136288182,136482839,136542633,136594750,136634047,136743222],\"top\":[375,375,375,375,375,375,375]}},\"id\":\"99448e4c-6d02-45b8-a7a8-a502dc37644b\",\"type\":\"ColumnDataSource\"},{\"attributes\":{\"formatter\":{\"id\":\"78d57f6d-5a8e-4833-86af-ea75697ecfb3\",\"type\":\"BasicTickFormatter\"},\"plot\":{\"id\":\"d32be3ee-a114-4631-bffd-c897dbf5bddb\",\"subtype\":\"Figure\",\"type\":\"Plot\"},\"ticker\":{\"id\":\"11e9572f-8ebd-43bd-a0dd-577cf3ed9224\",\"type\":\"BasicTicker\"}},\"id\":\"3b15bef4-4f5f-4489-b4f1-ba312a7ec540\",\"type\":\"LinearAxis\"},{\"attributes\":{\"plot\":{\"id\":\"d32be3ee-a114-4631-bffd-c897dbf5bddb\",\"subtype\":\"Figure\",\"type\":\"Plot\"}},\"id\":\"12cc9973-772f-4c48-8fd7-8dfb966600f2\",\"type\":\"HelpTool\"},{\"attributes\":{\"active_drag\":\"auto\",\"active_scroll\":\"auto\",\"active_tap\":\"auto\",\"tools\":[{\"id\":\"a53eb139-1370-460b-bc29-2009e86e3602\",\"type\":\"PanTool\"},{\"id\":\"11537fc0-7eea-492f-9cec-26234ee5af9d\",\"type\":\"WheelZoomTool\"},{\"id\":\"3ed0245a-ab2b-4aba-96b0-dcdc5d6581a6\",\"type\":\"BoxZoomTool\"},{\"id\":\"27dd7a0e-30ed-41ff-a11a-f1c486184412\",\"type\":\"SaveTool\"},{\"id\":\"9de17dda-406e-4ce0-81c3-ff05ed413d17\",\"type\":\"ResetTool\"},{\"id\":\"12cc9973-772f-4c48-8fd7-8dfb966600f2\",\"type\":\"HelpTool\"}]},\"id\":\"b26a1b8e-dfe8-4cdf-b5e5-71d9f1fd91fe\",\"type\":\"Toolbar\"},{\"attributes\":{\"plot\":{\"id\":\"d32be3ee-a114-4631-bffd-c897dbf5bddb\",\"subtype\":\"Figure\",\"type\":\"Plot\"}},\"id\":\"9de17dda-406e-4ce0-81c3-ff05ed413d17\",\"type\":\"ResetTool\"},{\"attributes\":{},\"id\":\"2403f39c-9c96-41b6-8e87-1dda9596c4ad\",\"type\":\"BasicTickFormatter\"},{\"attributes\":{\"callback\":null,\"end\":400},\"id\":\"e1cdc8b9-de36-4c38-9b9e-8874b6fdfce1\",\"type\":\"Range1d\"},{\"attributes\":{\"level\":\"glyph\",\"plot\":{\"id\":\"d32be3ee-a114-4631-bffd-c897dbf5bddb\",\"subtype\":\"Figure\",\"type\":\"Plot\"},\"source\":{\"id\":\"7ac33870-7873-498f-a4f7-c77e2114d2cd\",\"type\":\"ColumnDataSource\"},\"text\":{\"field\":\"vals\"},\"text_align\":\"center\",\"text_baseline\":\"middle\",\"text_font_size\":{\"value\":\"8pt\"},\"x\":{\"field\":\"x\"},\"y\":{\"field\":\"y\"}},\"id\":\"3d2a4dcd-6732-4134-95fc-70bcdd1168bf\",\"type\":\"LabelSet\"},{\"attributes\":{\"data_source\":{\"id\":\"99448e4c-6d02-45b8-a7a8-a502dc37644b\",\"type\":\"ColumnDataSource\"},\"glyph\":{\"id\":\"46d6cf72-e08c-41cf-989b-f002f28a1ced\",\"type\":\"Quad\"},\"hover_glyph\":null,\"nonselection_glyph\":{\"id\":\"90054d50-3b92-4e81-b785-9ccccaa0ff0f\",\"type\":\"Quad\"},\"selection_glyph\":null},\"id\":\"6814cd49-041e-423b-aa65-f3744ea1696b\",\"type\":\"GlyphRenderer\"},{\"attributes\":{\"bottom\":{\"field\":\"bottom\"},\"fill_color\":{\"value\":\"white\"},\"left\":{\"field\":\"left\"},\"right\":{\"field\":\"right\"},\"top\":{\"field\":\"top\"}},\"id\":\"46d6cf72-e08c-41cf-989b-f002f28a1ced\",\"type\":\"Quad\"},{\"attributes\":{\"bottom\":{\"field\":\"bottom\"},\"fill_alpha\":{\"value\":0.1},\"fill_color\":{\"value\":\"#1f77b4\"},\"left\":{\"field\":\"left\"},\"line_alpha\":{\"value\":0.1},\"line_color\":{\"value\":\"#1f77b4\"},\"right\":{\"field\":\"right\"},\"top\":{\"field\":\"top\"}},\"id\":\"90054d50-3b92-4e81-b785-9ccccaa0ff0f\",\"type\":\"Quad\"},{\"attributes\":{\"below\":[{\"id\":\"3b15bef4-4f5f-4489-b4f1-ba312a7ec540\",\"type\":\"LinearAxis\"}],\"left\":[{\"id\":\"7f5c0c82-945c-422b-a57c-b5f80a68091c\",\"type\":\"LinearAxis\"}],\"plot_height\":400,\"plot_width\":900,\"renderers\":[{\"id\":\"3b15bef4-4f5f-4489-b4f1-ba312a7ec540\",\"type\":\"LinearAxis\"},{\"id\":\"90ca807f-3aa2-43de-b66c-ea8b1d275e2b\",\"type\":\"Grid\"},{\"id\":\"7f5c0c82-945c-422b-a57c-b5f80a68091c\",\"type\":\"LinearAxis\"},{\"id\":\"f7fef225-aaab-446f-8945-be846cb0ddee\",\"type\":\"Grid\"},{\"id\":\"8f69464b-be7d-430c-8176-b03a2a306ae3\",\"type\":\"BoxAnnotation\"},{\"id\":\"7adf3daf-5e63-4dba-81c4-48f128d7b8fd\",\"type\":\"GlyphRenderer\"},{\"id\":\"826628e7-48c6-4180-acab-ffcc7138faad\",\"type\":\"GlyphRenderer\"},{\"id\":\"4c6059c5-7aca-4d5d-844c-590524ad9c05\",\"type\":\"LabelSet\"},{\"id\":\"6814cd49-041e-423b-aa65-f3744ea1696b\",\"type\":\"GlyphRenderer\"},{\"id\":\"3d2a4dcd-6732-4134-95fc-70bcdd1168bf\",\"type\":\"LabelSet\"}],\"title\":{\"id\":\"03d96c1f-6a72-45c0-a773-1dc2930a4705\",\"type\":\"Title\"},\"tool_events\":{\"id\":\"33d918f7-c65e-4d8c-9d36-9067aacc66d8\",\"type\":\"ToolEvents\"},\"toolbar\":{\"id\":\"b26a1b8e-dfe8-4cdf-b5e5-71d9f1fd91fe\",\"type\":\"Toolbar\"},\"toolbar_location\":null,\"x_range\":{\"id\":\"5903d12a-fe8e-4c3b-af53-87b9fc60f95e\",\"type\":\"Range1d\"},\"y_range\":{\"id\":\"e1cdc8b9-de36-4c38-9b9e-8874b6fdfce1\",\"type\":\"Range1d\"}},\"id\":\"d32be3ee-a114-4631-bffd-c897dbf5bddb\",\"subtype\":\"Figure\",\"type\":\"Plot\"},{\"attributes\":{\"bottom\":{\"field\":\"bottom\"},\"fill_alpha\":{\"value\":0.1},\"fill_color\":{\"value\":\"#1f77b4\"},\"left\":{\"field\":\"left\"},\"line_alpha\":{\"value\":0.1},\"line_color\":{\"value\":\"#1f77b4\"},\"right\":{\"field\":\"right\"},\"top\":{\"field\":\"top\"}},\"id\":\"05067242-2ef7-4e68-bdf4-98f38967c676\",\"type\":\"Quad\"},{\"attributes\":{\"data_source\":{\"id\":\"f04f6a73-50e0-43c3-aacf-5be6b5f5f17b\",\"type\":\"ColumnDataSource\"},\"glyph\":{\"id\":\"f0f3ea4d-d7a5-4ee1-a731-a005e903d522\",\"type\":\"MultiLine\"},\"hover_glyph\":null,\"nonselection_glyph\":{\"id\":\"c7fe2e37-a83a-4495-8649-f201fe6af66f\",\"type\":\"MultiLine\"},\"selection_glyph\":null},\"id\":\"826628e7-48c6-4180-acab-ffcc7138faad\",\"type\":\"GlyphRenderer\"},{\"attributes\":{\"callback\":null,\"column_names\":[\"y\",\"x\",\"vals\"],\"data\":{\"vals\":[\"13_1696\",\"123_1561\",\"22_35\",\"9_887\",\"5_588\",\"4_1149\"],\"x\":[135757320,135933921,135939427,136309239,136364916,136447707],\"y\":[301.0,300.0,67.0,195.0,92.0,297.0]}},\"id\":\"68f9757c-92e3-4b11-bbdf-b36f28ffca5d\",\"type\":\"ColumnDataSource\"},{\"attributes\":{\"data_source\":{\"id\":\"0398febd-c4d3-4388-b44d-45341f6e8a26\",\"type\":\"ColumnDataSource\"},\"glyph\":{\"id\":\"0860d4cb-39fb-4b1e-8230-b73c1d24e4c2\",\"type\":\"Quad\"},\"hover_glyph\":null,\"nonselection_glyph\":{\"id\":\"05067242-2ef7-4e68-bdf4-98f38967c676\",\"type\":\"Quad\"},\"selection_glyph\":null},\"id\":\"7adf3daf-5e63-4dba-81c4-48f128d7b8fd\",\"type\":\"GlyphRenderer\"},{\"attributes\":{},\"id\":\"9e98131b-9cf8-4f63-9582-0d0bdb36012b\",\"type\":\"BasicTicker\"},{\"attributes\":{\"plot\":{\"id\":\"d32be3ee-a114-4631-bffd-c897dbf5bddb\",\"subtype\":\"Figure\",\"type\":\"Plot\"}},\"id\":\"a53eb139-1370-460b-bc29-2009e86e3602\",\"type\":\"PanTool\"},{\"attributes\":{\"callback\":null,\"column_names\":[\"right\",\"bottom\",\"top\",\"left\",\"fill_color\"],\"data\":{\"bottom\":[250,250,50,150,50,250],\"fill_color\":[\"#808080\",\"#c46161\",\"#ff0000\",\"#ff0000\",\"#ff0000\",\"#61c4c4\"],\"left\":[135757320,135933921,135939427,136309239,136364916,136447707],\"right\":[135777504,136368563,136362116,136361560,136387893,136490266],\"top\":[296,295,62,190,87,292]}},\"id\":\"0398febd-c4d3-4388-b44d-45341f6e8a26\",\"type\":\"ColumnDataSource\"},{\"attributes\":{\"plot\":null,\"text\":null},\"id\":\"03d96c1f-6a72-45c0-a773-1dc2930a4705\",\"type\":\"Title\"},{\"attributes\":{},\"id\":\"78d57f6d-5a8e-4833-86af-ea75697ecfb3\",\"type\":\"BasicTickFormatter\"},{\"attributes\":{\"bottom_units\":\"screen\",\"fill_alpha\":{\"value\":0.5},\"fill_color\":{\"value\":\"lightgrey\"},\"left_units\":\"screen\",\"level\":\"overlay\",\"line_alpha\":{\"value\":1.0},\"line_color\":{\"value\":\"black\"},\"line_dash\":[4,4],\"line_width\":{\"value\":2},\"plot\":null,\"render_mode\":\"css\",\"right_units\":\"screen\",\"top_units\":\"screen\"},\"id\":\"8f69464b-be7d-430c-8176-b03a2a306ae3\",\"type\":\"BoxAnnotation\"},{\"attributes\":{\"callback\":null,\"column_names\":[\"y\",\"x\",\"vals\"],\"data\":{\"vals\":[\"RAB3GAP1\",\"ZRANB3\",\"R3HDM1\",\"UBXN4\",\"LCT\",\"MCM6\",\"DARS\"],\"x\":[135869057.0,136122878.0,136385961.0,136520911.0,136570082.5,136615621.5,136703738.0],\"y\":[360.0,360.0,360.0,360.0,360.0,360.0,360.0]}},\"id\":\"7ac33870-7873-498f-a4f7-c77e2114d2cd\",\"type\":\"ColumnDataSource\"},{\"attributes\":{\"formatter\":{\"id\":\"2403f39c-9c96-41b6-8e87-1dda9596c4ad\",\"type\":\"BasicTickFormatter\"},\"plot\":{\"id\":\"d32be3ee-a114-4631-bffd-c897dbf5bddb\",\"subtype\":\"Figure\",\"type\":\"Plot\"},\"ticker\":{\"id\":\"9e98131b-9cf8-4f63-9582-0d0bdb36012b\",\"type\":\"BasicTicker\"},\"visible\":null},\"id\":\"7f5c0c82-945c-422b-a57c-b5f80a68091c\",\"type\":\"LinearAxis\"},{\"attributes\":{\"callback\":null,\"column_names\":[\"xs\",\"ys\",\"line_color\"],\"data\":{\"line_color\":[\"black\",\"black\",\"black\",\"black\",\"black\",\"black\",\"black\",\"black\",\"black\",\"black\",\"black\",\"black\",\"black\",\"black\",\"black\",\"black\",\"black\",\"black\",\"black\",\"black\",\"black\",\"black\",\"black\",\"black\",\"black\",\"black\",\"black\",\"black\",\"black\",\"black\",\"black\",\"black\",\"black\",\"black\",\"black\",\"black\",\"black\",\"black\",\"black\",\"black\",\"black\",\"black\",\"black\",\"black\",\"black\",\"black\",\"black\",\"black\",\"black\",\"black\",\"black\",\"black\",\"black\",\"black\",\"black\",\"black\",\"black\",\"black\",\"black\",\"black\",\"black\",\"black\",\"black\",\"black\",\"black\",\"black\",\"black\",\"black\",\"black\",\"black\",\"black\",\"black\",\"black\",\"black\",\"black\",\"black\",\"black\",\"black\",\"black\",\"black\",\"black\",\"black\",\"black\",\"black\",\"black\",\"black\",\"black\",\"black\",\"black\",\"black\",\"black\",\"black\",\"black\",\"black\",\"black\",\"black\",\"black\",\"black\",\"black\",\"black\",\"black\",\"black\",\"black\",\"black\",\"black\",\"black\",\"black\",\"black\",\"black\",\"black\",\"black\",\"black\",\"black\",\"black\",\"black\",\"black\",\"black\",\"black\",\"black\",\"black\",\"black\",\"black\",\"black\",\"black\",\"black\",\"black\",\"black\",\"black\",\"black\",\"black\",\"black\",\"black\",\"black\",\"black\",\"black\",\"black\",\"black\",\"black\",\"black\",\"black\",\"black\",\"black\",\"black\",\"black\",\"black\",\"black\",\"black\",\"black\",\"black\",\"black\",\"black\",\"black\",\"black\",\"black\",\"black\",\"black\",\"black\",\"black\",\"black\",\"black\",\"black\",\"black\",\"black\",\"black\",\"black\",\"black\",\"black\",\"black\",\"black\",\"black\",\"black\",\"black\",\"black\",\"black\",\"black\",\"black\"],\"xs\":[[135757320,135757320],[135761078,135761078],[135761271,135761271],[135762344,135762344],[135762980,135762980],[135763280,135763280],[135768815,135768815],[135769093,135769093],[135769127,135769127],[135770940,135770940],[135770951,135770951],[135776728,135776728],[135777504,135777504],[135933921,135933921],[135939824,135939824],[135941503,135941503],[135943900,135943900],[135945474,135945474],[135949715,135949715],[135956745,135956745],[135958693,135958693],[135967778,135967778],[135972093,135972093],[135973768,135973768],[135976498,135976498],[135978428,135978428],[135990031,135990031],[135992481,135992481],[135993925,135993925],[135994838,135994838],[136000253,136000253],[136003567,136003567],[136005477,136005477],[136005971,136005971],[136020977,136020977],[136027535,136027535],[136031588,136031588],[136032905,136032905],[136042480,136042480],[136043885,136043885],[136050471,136050471],[136052898,136052898],[136054815,136054815],[136056285,136056285],[136061560,136061560],[136063685,136063685],[136069060,136069060],[136072179,136072179],[136074233,136074233],[136080721,136080721],[136080822,136080822],[136088440,136088440],[136088643,136088643],[136092416,136092416],[136092869,136092869],[136094615,136094615],[136095505,136095505],[136095604,136095604],[136096766,136096766],[136097091,136097091],[136097394,136097394],[136100243,136100243],[136101823,136101823],[136106561,136106561],[136115501,136115501],[136122622,136122622],[136123014,136123014],[136123848,136123848],[136127100,136127100],[136127950,136127950],[136128630,136128630],[136129630,136129630],[136129791,136129791],[136131324,136131324],[136135383,136135383],[136135994,136135994],[136136224,136136224],[136136366,136136366],[136136440,136136440],[136138145,136138145],[136140568,136140568],[136145882,136145882],[136147948,136147948],[136148630,136148630],[136151485,136151485],[136152802,136152802],[136156753,136156753],[136157913,136157913],[136160902,136160902],[136165765,136165765],[136171649,136171649],[136173220,136173220],[136173735,136173735],[136174552,136174552],[136175692,136175692],[136176805,136176805],[136182484,136182484],[136183188,136183188],[136187252,136187252],[136187345,136187345],[136189475,136189475],[136197702,136197702],[136198435,136198435],[136202937,136202937],[136219999,136219999],[136221500,136221500],[136226626,136226626],[136228929,136228929],[136229598,136229598],[136238270,136238270],[136238346,136238346],[136240769,136240769],[136244171,136244171],[136249245,136249245],[136250285,136250285],[136254419,136254419],[136266241,136266241],[136267808,136267808],[136272074,136272074],[136277304,136277304],[136290607,136290607],[136290663,136290663],[136291310,136291310],[136296051,136296051],[136305392,136305392],[136306890,136306890],[136310803,136310803],[136324225,136324225],[136324465,136324465],[136327305,136327305],[136329618,136329618],[136333300,136333300],[136350089,136350089],[136354204,136354204],[136360455,136360455],[136368563,136368563],[135939427,135939427],[135953924,135953924],[135971990,135971990],[135972551,135972551],[135977846,135977846],[135991928,135991928],[135998961,135998961],[136009267,136009267],[136041005,136041005],[136052719,136052719],[136075694,136075694],[136125702,136125702],[136139281,136139281],[136163922,136163922],[136170326,136170326],[136175687,136175687],[136190299,136190299],[136190965,136190965],[136192979,136192979],[136235501,136235501],[136249627,136249627],[136362116,136362116],[136309239,136309239],[136322472,136322472],[136323787,136323787],[136323862,136323862],[136326765,136326765],[136329500,136329500],[136331657,136331657],[136345356,136345356],[136361560,136361560],[136364916,136364916],[136369497,136369497],[136369580,136369580],[136380846,136380846],[136387893,136387893],[136447707,136447707],[136460324,136460324],[136472357,136472357],[136490266,136490266]],\"ys\":[[250,296],[250,296],[250,296],[250,296],[250,296],[250,296],[250,296],[250,296],[250,296],[250,296],[250,296],[250,296],[250,296],[250,295],[250,295],[250,295],[250,295],[250,295],[250,295],[250,295],[250,295],[250,295],[250,295],[250,295],[250,295],[250,295],[250,295],[250,295],[250,295],[250,295],[250,295],[250,295],[250,295],[250,295],[250,295],[250,295],[250,295],[250,295],[250,295],[250,295],[250,295],[250,295],[250,295],[250,295],[250,295],[250,295],[250,295],[250,295],[250,295],[250,295],[250,295],[250,295],[250,295],[250,295],[250,295],[250,295],[250,295],[250,295],[250,295],[250,295],[250,295],[250,295],[250,295],[250,295],[250,295],[250,295],[250,295],[250,295],[250,295],[250,295],[250,295],[250,295],[250,295],[250,295],[250,295],[250,295],[250,295],[250,295],[250,295],[250,295],[250,295],[250,295],[250,295],[250,295],[250,295],[250,295],[250,295],[250,295],[250,295],[250,295],[250,295],[250,295],[250,295],[250,295],[250,295],[250,295],[250,295],[250,295],[250,295],[250,295],[250,295],[250,295],[250,295],[250,295],[250,295],[250,295],[250,295],[250,295],[250,295],[250,295],[250,295],[250,295],[250,295],[250,295],[250,295],[250,295],[250,295],[250,295],[250,295],[250,295],[250,295],[250,295],[250,295],[250,295],[250,295],[250,295],[250,295],[250,295],[250,295],[250,295],[250,295],[250,295],[250,295],[250,295],[250,295],[250,295],[50,62],[50,62],[50,62],[50,62],[50,62],[50,62],[50,62],[50,62],[50,62],[50,62],[50,62],[50,62],[50,62],[50,62],[50,62],[50,62],[50,62],[50,62],[50,62],[50,62],[50,62],[50,62],[150,190],[150,190],[150,190],[150,190],[150,190],[150,190],[150,190],[150,190],[150,190],[50,87],[50,87],[50,87],[50,87],[50,87],[250,292],[250,292],[250,292],[250,292]]}},\"id\":\"f04f6a73-50e0-43c3-aacf-5be6b5f5f17b\",\"type\":\"ColumnDataSource\"},{\"attributes\":{\"plot\":{\"id\":\"d32be3ee-a114-4631-bffd-c897dbf5bddb\",\"subtype\":\"Figure\",\"type\":\"Plot\"},\"ticker\":{\"id\":\"11e9572f-8ebd-43bd-a0dd-577cf3ed9224\",\"type\":\"BasicTicker\"}},\"id\":\"90ca807f-3aa2-43de-b66c-ea8b1d275e2b\",\"type\":\"Grid\"},{\"attributes\":{\"plot\":{\"id\":\"d32be3ee-a114-4631-bffd-c897dbf5bddb\",\"subtype\":\"Figure\",\"type\":\"Plot\"}},\"id\":\"11537fc0-7eea-492f-9cec-26234ee5af9d\",\"type\":\"WheelZoomTool\"},{\"attributes\":{\"callback\":null,\"end\":136786630,\"start\":135757320},\"id\":\"5903d12a-fe8e-4c3b-af53-87b9fc60f95e\",\"type\":\"Range1d\"}],\"root_ids\":[\"d32be3ee-a114-4631-bffd-c897dbf5bddb\"]},\"title\":\"Bokeh Application\",\"version\":\"0.12.0\"}};\n",
       "            var render_items = [{\"docid\":\"9db02361-f9d8-4bcb-bbc9-861983ba3e6c\",\"elementid\":\"9568962a-a3cc-4ef8-8c66-364f14d1b61f\",\"modelid\":\"d32be3ee-a114-4631-bffd-c897dbf5bddb\",\"notebook_comms_target\":\"dbfff8fa-773b-4790-b646-418cdb4401c3\"}];\n",
       "            \n",
       "            Bokeh.embed.embed_items(docs_json, render_items);\n",
       "        });\n",
       "      },\n",
       "      function(Bokeh) {\n",
       "      }\n",
       "    ];\n",
       "  \n",
       "    function run_inline_js() {\n",
       "      for (var i = 0; i < inline_js.length; i++) {\n",
       "        inline_js[i](window.Bokeh);\n",
       "      }\n",
       "    }\n",
       "  \n",
       "    if (window._bokeh_is_loading === 0) {\n",
       "      console.log(\"Bokeh: BokehJS loaded, going straight to plotting\");\n",
       "      run_inline_js();\n",
       "    } else {\n",
       "      load_libs(js_urls, function() {\n",
       "        console.log(\"Bokeh: BokehJS plotting callback run at\", now());\n",
       "        run_inline_js();\n",
       "      });\n",
       "    }\n",
       "  }(this));\n",
       "</script>"
      ]
     },
     "metadata": {},
     "output_type": "display_data"
    },
    {
     "data": {
      "text/html": [
       "<p><code>&lt;Bokeh Notebook handle for <strong>In[38]</strong>&gt;</code></p>"
      ],
      "text/plain": [
       "<bokeh.io._CommsHandle at 0x7fd1d94c9910>"
      ]
     },
     "execution_count": 38,
     "metadata": {},
     "output_type": "execute_result"
    }
   ],
   "source": [
    "plt_obj = dm.superset_yes_no([dm.di_22_35], [dm.di_7_1760, dm.di_219_26], min_match=0.001)\n",
    "plt = plt_obj.do_plot()\n",
    "show(plt)"
   ]
  },
  {
   "cell_type": "code",
   "execution_count": 39,
   "metadata": {
    "collapsed": false
   },
   "outputs": [
    {
     "data": {
      "text/html": [
       "<table>\n",
       "<thead><tr><th style=\"text-align:center\">index</th><th style=\"text-align:center\">first</th><th style=\"text-align:center\">length</th><th style=\"text-align:center\">snps</th><th style=\"text-align:center\" colspan=2>alleles</th><th style=\"text-align:center\" colspan=2>matches</th><th style=\"text-align:center\" colspan=2>afr</th><th style=\"text-align:center\" colspan=2>afx</th><th style=\"text-align:center\" colspan=2>amr</th><th style=\"text-align:center\" colspan=2>eas</th><th style=\"text-align:center\" colspan=2>eur</th><th style=\"text-align:center\" colspan=2>sas</th><th style=\"text-align:center\" colspan=2>sax</th></tr></thead>\n",
       "<tr class=\"even\"><td style=\"text-align: right;\">353240</td><td style=\"text-align: right;\">135,757,320</td><td style=\"text-align: right;\">20,184</td><td style=\"text-align: right;\">13</td><td style=\"text-align: right;\">1696</td><td style=\"text-align: right;\">0.00</td><td style=\"text-align: right;\">4</td><td style=\"text-align: right;\">1.00</td><td style=\"text-align: right;\">0</td><td style=\"text-align: right;\">0.00</td><td style=\"text-align: right;\">0</td><td style=\"text-align: right;\">0.00</td><td style=\"text-align: right;\">0</td><td style=\"text-align: right;\">0.00</td><td style=\"text-align: right;\">0</td><td style=\"text-align: right;\">0.00</td><td style=\"text-align: right;\">0</td><td style=\"text-align: right;\">0.00</td><td style=\"text-align: right;\">0</td><td style=\"text-align: right;\">0.00</td><td style=\"text-align: right;\">4</td><td style=\"text-align: right;\">7.43</td></tr>\n",
       "<tr><td style=\"text-align: right;\">353478</td><td style=\"text-align: right;\">135,933,921</td><td style=\"text-align: right;\">434,642</td><td style=\"text-align: right;\">123</td><td style=\"text-align: right;\">1561</td><td style=\"text-align: right;\">0.00</td><td style=\"text-align: right;\">4</td><td style=\"text-align: right;\">1.00</td><td style=\"text-align: right;\">0</td><td style=\"text-align: right;\">0.00</td><td style=\"text-align: right;\">0</td><td style=\"text-align: right;\">0.00</td><td style=\"text-align: right;\">0</td><td style=\"text-align: right;\">0.00</td><td style=\"text-align: right;\">0</td><td style=\"text-align: right;\">0.00</td><td style=\"text-align: right;\">0</td><td style=\"text-align: right;\">0.00</td><td style=\"text-align: right;\">0</td><td style=\"text-align: right;\">0.00</td><td style=\"text-align: right;\">4</td><td style=\"text-align: right;\">7.43</td></tr>\n",
       "<tr class=\"even\"><td style=\"text-align: right;\">353849</td><td style=\"text-align: right;\">136,447,707</td><td style=\"text-align: right;\">42,559</td><td style=\"text-align: right;\">4</td><td style=\"text-align: right;\">1149</td><td style=\"text-align: right;\">0.00</td><td style=\"text-align: right;\">4</td><td style=\"text-align: right;\">1.00</td><td style=\"text-align: right;\">0</td><td style=\"text-align: right;\">0.00</td><td style=\"text-align: right;\">0</td><td style=\"text-align: right;\">0.00</td><td style=\"text-align: right;\">0</td><td style=\"text-align: right;\">0.00</td><td style=\"text-align: right;\">0</td><td style=\"text-align: right;\">0.00</td><td style=\"text-align: right;\">0</td><td style=\"text-align: right;\">0.00</td><td style=\"text-align: right;\">0</td><td style=\"text-align: right;\">0.00</td><td style=\"text-align: right;\">4</td><td style=\"text-align: right;\">7.43</td></tr>\n",
       "<tr><td style=\"text-align: right;\">353729</td><td style=\"text-align: right;\">136,309,239</td><td style=\"text-align: right;\">52,321</td><td style=\"text-align: right;\">9</td><td style=\"text-align: right;\">887</td><td style=\"text-align: right;\">0.00</td><td style=\"text-align: right;\">4</td><td style=\"text-align: right;\">1.00</td><td style=\"text-align: right;\">0</td><td style=\"text-align: right;\">0.00</td><td style=\"text-align: right;\">0</td><td style=\"text-align: right;\">0.00</td><td style=\"text-align: right;\">0</td><td style=\"text-align: right;\">0.00</td><td style=\"text-align: right;\">0</td><td style=\"text-align: right;\">0.00</td><td style=\"text-align: right;\">0</td><td style=\"text-align: right;\">0.00</td><td style=\"text-align: right;\">0</td><td style=\"text-align: right;\">0.00</td><td style=\"text-align: right;\">4</td><td style=\"text-align: right;\">7.43</td></tr>\n",
       "<tr class=\"even\"><td style=\"text-align: right;\">353764</td><td style=\"text-align: right;\">136,364,916</td><td style=\"text-align: right;\">22,977</td><td style=\"text-align: right;\">5</td><td style=\"text-align: right;\">588</td><td style=\"text-align: right;\">0.01</td><td style=\"text-align: right;\">4</td><td style=\"text-align: right;\">1.00</td><td style=\"text-align: right;\">0</td><td style=\"text-align: right;\">0.00</td><td style=\"text-align: right;\">0</td><td style=\"text-align: right;\">0.00</td><td style=\"text-align: right;\">0</td><td style=\"text-align: right;\">0.00</td><td style=\"text-align: right;\">0</td><td style=\"text-align: right;\">0.00</td><td style=\"text-align: right;\">0</td><td style=\"text-align: right;\">0.00</td><td style=\"text-align: right;\">0</td><td style=\"text-align: right;\">0.00</td><td style=\"text-align: right;\">4</td><td style=\"text-align: right;\">7.43</td></tr>\n",
       "<tr><td style=\"text-align: right;\">353483</td><td style=\"text-align: right;\">135,939,427</td><td style=\"text-align: right;\">422,689</td><td style=\"text-align: right;\">22</td><td style=\"text-align: right;\">35</td><td style=\"text-align: right;\">0.11</td><td style=\"text-align: right;\">4</td><td style=\"text-align: right;\">1.00</td><td style=\"text-align: right;\">0</td><td style=\"text-align: right;\">0.00</td><td style=\"text-align: right;\">0</td><td style=\"text-align: right;\">0.00</td><td style=\"text-align: right;\">0</td><td style=\"text-align: right;\">0.00</td><td style=\"text-align: right;\">0</td><td style=\"text-align: right;\">0.00</td><td style=\"text-align: right;\">0</td><td style=\"text-align: right;\">0.00</td><td style=\"text-align: right;\">0</td><td style=\"text-align: right;\">0.00</td><td style=\"text-align: right;\">4</td><td style=\"text-align: right;\">7.43</td></tr>\n",
       "</table>"
      ],
      "text/plain": [
       "<IPython.core.display.HTML object>"
      ]
     },
     "execution_count": 39,
     "metadata": {},
     "output_type": "execute_result"
    }
   ],
   "source": [
    "\n",
    "HTML(plt_obj.get_html())"
   ]
  }
 ],
 "metadata": {
  "kernelspec": {
   "display_name": "Python [Root]",
   "language": "python",
   "name": "Python [Root]"
  },
  "language_info": {
   "codemirror_mode": {
    "name": "ipython",
    "version": 2
   },
   "file_extension": ".py",
   "mimetype": "text/x-python",
   "name": "python",
   "nbconvert_exporter": "python",
   "pygments_lexer": "ipython2",
   "version": "2.7.12"
  }
 },
 "nbformat": 4,
 "nbformat_minor": 0
}
