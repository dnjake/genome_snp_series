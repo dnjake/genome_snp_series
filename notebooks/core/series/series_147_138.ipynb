{
 "cells": [
  {
   "cell_type": "code",
   "execution_count": 1,
   "metadata": {
    "collapsed": false
   },
   "outputs": [
    {
     "data": {
      "text/html": []
     },
     "metadata": {},
     "output_type": "display_data"
    },
    {
     "data": {
      "application/javascript": [
       "\n",
       "(function(global) {\n",
       "  function now() {\n",
       "    return new Date();\n",
       "  }\n",
       "\n",
       "  if (typeof (window._bokeh_onload_callbacks) === \"undefined\") {\n",
       "    window._bokeh_onload_callbacks = [];\n",
       "  }\n",
       "\n",
       "  function run_callbacks() {\n",
       "    window._bokeh_onload_callbacks.forEach(function(callback) { callback() });\n",
       "    delete window._bokeh_onload_callbacks\n",
       "    console.info(\"Bokeh: all callbacks have finished\");\n",
       "  }\n",
       "\n",
       "  function load_libs(js_urls, callback) {\n",
       "    window._bokeh_onload_callbacks.push(callback);\n",
       "    if (window._bokeh_is_loading > 0) {\n",
       "      console.log(\"Bokeh: BokehJS is being loaded, scheduling callback at\", now());\n",
       "      return null;\n",
       "    }\n",
       "    if (js_urls == null || js_urls.length === 0) {\n",
       "      run_callbacks();\n",
       "      return null;\n",
       "    }\n",
       "    console.log(\"Bokeh: BokehJS not loaded, scheduling load and callback at\", now());\n",
       "    window._bokeh_is_loading = js_urls.length;\n",
       "    for (var i = 0; i < js_urls.length; i++) {\n",
       "      var url = js_urls[i];\n",
       "      var s = document.createElement('script');\n",
       "      s.src = url;\n",
       "      s.async = false;\n",
       "      s.onreadystatechange = s.onload = function() {\n",
       "        window._bokeh_is_loading--;\n",
       "        if (window._bokeh_is_loading === 0) {\n",
       "          console.log(\"Bokeh: all BokehJS libraries loaded\");\n",
       "          run_callbacks()\n",
       "        }\n",
       "      };\n",
       "      s.onerror = function() {\n",
       "        console.warn(\"failed to load library \" + url);\n",
       "      };\n",
       "      console.log(\"Bokeh: injecting script tag for BokehJS library: \", url);\n",
       "      document.getElementsByTagName(\"head\")[0].appendChild(s);\n",
       "    }\n",
       "  };\n",
       "\n",
       "  var js_urls = ['https://cdn.pydata.org/bokeh/release/bokeh-0.12.0.min.js', 'https://cdn.pydata.org/bokeh/release/bokeh-widgets-0.12.0.min.js', 'https://cdn.pydata.org/bokeh/release/bokeh-compiler-0.12.0.min.js'];\n",
       "\n",
       "  var inline_js = [\n",
       "    function(Bokeh) {\n",
       "      Bokeh.set_log_level(\"info\");\n",
       "    },\n",
       "    \n",
       "    function(Bokeh) {\n",
       "      Bokeh.$(\"#6cf8cf90-ecbd-4e03-8582-93b950a461a3\").text(\"BokehJS successfully loaded\");\n",
       "    },\n",
       "    function(Bokeh) {\n",
       "      console.log(\"Bokeh: injecting CSS: https://cdn.pydata.org/bokeh/release/bokeh-0.12.0.min.css\");\n",
       "      Bokeh.embed.inject_css(\"https://cdn.pydata.org/bokeh/release/bokeh-0.12.0.min.css\");\n",
       "      console.log(\"Bokeh: injecting CSS: https://cdn.pydata.org/bokeh/release/bokeh-widgets-0.12.0.min.css\");\n",
       "      Bokeh.embed.inject_css(\"https://cdn.pydata.org/bokeh/release/bokeh-widgets-0.12.0.min.css\");\n",
       "    }\n",
       "  ];\n",
       "\n",
       "  function run_inline_js() {\n",
       "    for (var i = 0; i < inline_js.length; i++) {\n",
       "      inline_js[i](window.Bokeh);\n",
       "    }\n",
       "  }\n",
       "\n",
       "  if (window._bokeh_is_loading === 0) {\n",
       "    console.log(\"Bokeh: BokehJS loaded, going straight to plotting\");\n",
       "    run_inline_js();\n",
       "  } else {\n",
       "    load_libs(js_urls, function() {\n",
       "      console.log(\"Bokeh: BokehJS plotting callback run at\", now());\n",
       "      run_inline_js();\n",
       "    });\n",
       "  }\n",
       "}(this));"
      ]
     },
     "metadata": {},
     "output_type": "display_data"
    }
   ],
   "source": [
    "import numpy as np\n",
    "from IPython.display import HTML\n",
    "from bokeh.plotting import output_notebook, show\n",
    "import genomes_dnj.lct_interval.series_plots as dm\n",
    "import genomes_dnj.lct_interval.anal_series as an\n",
    "from genomes_dnj.lct_interval_snp_anal import lct_interval_snp_anal as snp_anal\n",
    "import genomes_dnj.lct_interval.series_masks as sm\n",
    "from genomes_dnj.lct_interval.bokeh_match_count_plot import snp_match_count_plot_cls as smcp\n",
    "output_notebook(hide_banner=True)\n",
    "am_147_38 = an.lct_obj.yes_no_data_indexes([dm.di_147_38])\n",
    "sa_147_38 = snp_anal.series_anal_cls(dm.di_147_38, sm.series_data)"
   ]
  },
  {
   "cell_type": "markdown",
   "metadata": {},
   "source": [
    "<h3>Series 147_38</h3>\n",
    "<div style=\"width:700px\">\n",
    "<p>\n",
    "This notebook documents the series 147_38 and its 147 SNPs. The 1000 genomes data includes 4921\n",
    "chromosome 2 samples that express none of these 147 SNPs and 32 samples that express all 147 of them.\n",
    "The series extends over one million DNA bases.  It is the longest one that was observed in the studied\n",
    "region of chromosome 2.\n",
    "<p>\n",
    "The series 147_38 has selected an hiearchy that includes the series 117_1685, 123_1561, 62_1265,\n",
    "and 67_329.  The 38 samples that express 147_38 include 37 that express all 117_1685 SNPs and 1\n",
    "that express 116 of them.  The samples include 28 that express all 123_1561 SNPs and 9 that express\n",
    "122 of them.  None of the 38 samples express all 62_1265 SNPs.  But 32 express 59 of them and the rest\n",
    "express 58 of them.  The 38 samples include 35 that express all 67_329 SNPs and 3 that express 66 of them.\n",
    "All 38 samples express a 12 SNP fragment of the series 193_843.\n",
    "</div>"
   ]
  },
  {
   "cell_type": "code",
   "execution_count": 2,
   "metadata": {
    "collapsed": false,
    "scrolled": false
   },
   "outputs": [
    {
     "data": {
      "text/html": [
       "<p>\n",
       "<b>147_38 series</b>\n",
       "</p><p>\n",
       "<table>\n",
       "<thead><tr><th style=\"text-align:center\">index</th><th style=\"text-align:center\">first</th><th style=\"text-align:center\">length</th><th style=\"text-align:center\">snps</th><th style=\"text-align:center\">alleles</th><th style=\"text-align:center\" colspan=2>afr</th><th style=\"text-align:center\" colspan=2>afx</th><th style=\"text-align:center\" colspan=2>amr</th><th style=\"text-align:center\" colspan=2>eas</th><th style=\"text-align:center\" colspan=2>eur</th><th style=\"text-align:center\" colspan=2>sas</th><th style=\"text-align:center\" colspan=2>sax</th></tr></thead>\n",
       "<tr class=\"even\"><td style=\"text-align: right;\">353242</td><td style=\"text-align: right;\">135,758,116</td><td style=\"text-align: right;\">1,022,378</td><td style=\"text-align: right;\">147</td><td style=\"text-align: right;\">38</td><td style=\"text-align: right;\">29</td><td style=\"text-align: right;\">3.79</td><td style=\"text-align: right;\">9</td><td style=\"text-align: right;\">3.78</td><td style=\"text-align: right;\">0</td><td style=\"text-align: right;\">0.00</td><td style=\"text-align: right;\">0</td><td style=\"text-align: right;\">0.00</td><td style=\"text-align: right;\">0</td><td style=\"text-align: right;\">0.00</td><td style=\"text-align: right;\">0</td><td style=\"text-align: right;\">0.00</td><td style=\"text-align: right;\">0</td><td style=\"text-align: right;\">0.00</td></tr>\n",
       "</table>\n",
       "</p>\n",
       "<p>\n",
       "<b>147_38 series snps</b>\n",
       "</p><p>\n",
       "<table>\n",
       "<thead><tr><th style=\"text-align:center\">index</th><th style=\"text-align:center\">pos</th><th style=\"text-align:center\">id</th><th style=\"text-align:center\">niv</th><th style=\"text-align:center\">alleles</th><th style=\"text-align:center\" colspan=2>afr</th><th style=\"text-align:center\" colspan=2>afx</th><th style=\"text-align:center\" colspan=2>amr</th><th style=\"text-align:center\" colspan=2>eas</th><th style=\"text-align:center\" colspan=2>eur</th><th style=\"text-align:center\" colspan=2>sas</th><th style=\"text-align:center\" colspan=2>sax</th></tr></thead>\n",
       "<tr class=\"even\"><td style=\"text-align: right;\">874997</td><td style=\"text-align: right;\">135,758,116</td><td>rs77553521</td><td>0</td><td style=\"text-align: right;\">40</td><td style=\"text-align: right;\">30</td><td style=\"text-align: right;\">3.73</td><td style=\"text-align: right;\">10</td><td style=\"text-align: right;\">3.99</td><td style=\"text-align: right;\">0</td><td style=\"text-align: right;\">0.00</td><td style=\"text-align: right;\">0</td><td style=\"text-align: right;\">0.00</td><td style=\"text-align: right;\">0</td><td style=\"text-align: right;\">0.00</td><td style=\"text-align: right;\">0</td><td style=\"text-align: right;\">0.00</td><td style=\"text-align: right;\">0</td><td style=\"text-align: right;\">0.00</td></tr>\n",
       "<tr><td style=\"text-align: right;\">875035</td><td style=\"text-align: right;\">135,764,872</td><td>rs143669638</td><td>0</td><td style=\"text-align: right;\">40</td><td style=\"text-align: right;\">30</td><td style=\"text-align: right;\">3.73</td><td style=\"text-align: right;\">10</td><td style=\"text-align: right;\">3.99</td><td style=\"text-align: right;\">0</td><td style=\"text-align: right;\">0.00</td><td style=\"text-align: right;\">0</td><td style=\"text-align: right;\">0.00</td><td style=\"text-align: right;\">0</td><td style=\"text-align: right;\">0.00</td><td style=\"text-align: right;\">0</td><td style=\"text-align: right;\">0.00</td><td style=\"text-align: right;\">0</td><td style=\"text-align: right;\">0.00</td></tr>\n",
       "<tr class=\"even\"><td style=\"text-align: right;\">875094</td><td style=\"text-align: right;\">135,774,755</td><td>rs76644020</td><td>0</td><td style=\"text-align: right;\">40</td><td style=\"text-align: right;\">30</td><td style=\"text-align: right;\">3.73</td><td style=\"text-align: right;\">10</td><td style=\"text-align: right;\">3.99</td><td style=\"text-align: right;\">0</td><td style=\"text-align: right;\">0.00</td><td style=\"text-align: right;\">0</td><td style=\"text-align: right;\">0.00</td><td style=\"text-align: right;\">0</td><td style=\"text-align: right;\">0.00</td><td style=\"text-align: right;\">0</td><td style=\"text-align: right;\">0.00</td><td style=\"text-align: right;\">0</td><td style=\"text-align: right;\">0.00</td></tr>\n",
       "<tr><td style=\"text-align: right;\">875099</td><td style=\"text-align: right;\">135,775,494</td><td>rs79527370</td><td>0</td><td style=\"text-align: right;\">40</td><td style=\"text-align: right;\">30</td><td style=\"text-align: right;\">3.73</td><td style=\"text-align: right;\">10</td><td style=\"text-align: right;\">3.99</td><td style=\"text-align: right;\">0</td><td style=\"text-align: right;\">0.00</td><td style=\"text-align: right;\">0</td><td style=\"text-align: right;\">0.00</td><td style=\"text-align: right;\">0</td><td style=\"text-align: right;\">0.00</td><td style=\"text-align: right;\">0</td><td style=\"text-align: right;\">0.00</td><td style=\"text-align: right;\">0</td><td style=\"text-align: right;\">0.00</td></tr>\n",
       "<tr class=\"even\"><td style=\"text-align: right;\">875105</td><td style=\"text-align: right;\">135,776,327</td><td>rs77396408</td><td>0</td><td style=\"text-align: right;\">40</td><td style=\"text-align: right;\">30</td><td style=\"text-align: right;\">3.73</td><td style=\"text-align: right;\">10</td><td style=\"text-align: right;\">3.99</td><td style=\"text-align: right;\">0</td><td style=\"text-align: right;\">0.00</td><td style=\"text-align: right;\">0</td><td style=\"text-align: right;\">0.00</td><td style=\"text-align: right;\">0</td><td style=\"text-align: right;\">0.00</td><td style=\"text-align: right;\">0</td><td style=\"text-align: right;\">0.00</td><td style=\"text-align: right;\">0</td><td style=\"text-align: right;\">0.00</td></tr>\n",
       "<tr><td style=\"text-align: right;\">875115</td><td style=\"text-align: right;\">135,777,869</td><td>rs140516485</td><td>0</td><td style=\"text-align: right;\">40</td><td style=\"text-align: right;\">30</td><td style=\"text-align: right;\">3.73</td><td style=\"text-align: right;\">10</td><td style=\"text-align: right;\">3.99</td><td style=\"text-align: right;\">0</td><td style=\"text-align: right;\">0.00</td><td style=\"text-align: right;\">0</td><td style=\"text-align: right;\">0.00</td><td style=\"text-align: right;\">0</td><td style=\"text-align: right;\">0.00</td><td style=\"text-align: right;\">0</td><td style=\"text-align: right;\">0.00</td><td style=\"text-align: right;\">0</td><td style=\"text-align: right;\">0.00</td></tr>\n",
       "<tr class=\"even\"><td style=\"text-align: right;\">875138</td><td style=\"text-align: right;\">135,781,101</td><td>rs79812510</td><td>0</td><td style=\"text-align: right;\">40</td><td style=\"text-align: right;\">30</td><td style=\"text-align: right;\">3.73</td><td style=\"text-align: right;\">10</td><td style=\"text-align: right;\">3.99</td><td style=\"text-align: right;\">0</td><td style=\"text-align: right;\">0.00</td><td style=\"text-align: right;\">0</td><td style=\"text-align: right;\">0.00</td><td style=\"text-align: right;\">0</td><td style=\"text-align: right;\">0.00</td><td style=\"text-align: right;\">0</td><td style=\"text-align: right;\">0.00</td><td style=\"text-align: right;\">0</td><td style=\"text-align: right;\">0.00</td></tr>\n",
       "<tr><td style=\"text-align: right;\">875139</td><td style=\"text-align: right;\">135,781,252</td><td>rs76176704</td><td>0</td><td style=\"text-align: right;\">40</td><td style=\"text-align: right;\">30</td><td style=\"text-align: right;\">3.73</td><td style=\"text-align: right;\">10</td><td style=\"text-align: right;\">3.99</td><td style=\"text-align: right;\">0</td><td style=\"text-align: right;\">0.00</td><td style=\"text-align: right;\">0</td><td style=\"text-align: right;\">0.00</td><td style=\"text-align: right;\">0</td><td style=\"text-align: right;\">0.00</td><td style=\"text-align: right;\">0</td><td style=\"text-align: right;\">0.00</td><td style=\"text-align: right;\">0</td><td style=\"text-align: right;\">0.00</td></tr>\n",
       "<tr class=\"even\"><td style=\"text-align: right;\">875148</td><td style=\"text-align: right;\">135,782,759</td><td>rs79993039</td><td>0</td><td style=\"text-align: right;\">40</td><td style=\"text-align: right;\">30</td><td style=\"text-align: right;\">3.73</td><td style=\"text-align: right;\">10</td><td style=\"text-align: right;\">3.99</td><td style=\"text-align: right;\">0</td><td style=\"text-align: right;\">0.00</td><td style=\"text-align: right;\">0</td><td style=\"text-align: right;\">0.00</td><td style=\"text-align: right;\">0</td><td style=\"text-align: right;\">0.00</td><td style=\"text-align: right;\">0</td><td style=\"text-align: right;\">0.00</td><td style=\"text-align: right;\">0</td><td style=\"text-align: right;\">0.00</td></tr>\n",
       "<tr><td style=\"text-align: right;\">875159</td><td style=\"text-align: right;\">135,783,420</td><td>rs79777967</td><td>0</td><td style=\"text-align: right;\">40</td><td style=\"text-align: right;\">30</td><td style=\"text-align: right;\">3.73</td><td style=\"text-align: right;\">10</td><td style=\"text-align: right;\">3.99</td><td style=\"text-align: right;\">0</td><td style=\"text-align: right;\">0.00</td><td style=\"text-align: right;\">0</td><td style=\"text-align: right;\">0.00</td><td style=\"text-align: right;\">0</td><td style=\"text-align: right;\">0.00</td><td style=\"text-align: right;\">0</td><td style=\"text-align: right;\">0.00</td><td style=\"text-align: right;\">0</td><td style=\"text-align: right;\">0.00</td></tr>\n",
       "<tr class=\"even\"><td style=\"text-align: right;\">875185</td><td style=\"text-align: right;\">135,787,985</td><td>rs116818110</td><td>0</td><td style=\"text-align: right;\">40</td><td style=\"text-align: right;\">30</td><td style=\"text-align: right;\">3.73</td><td style=\"text-align: right;\">10</td><td style=\"text-align: right;\">3.99</td><td style=\"text-align: right;\">0</td><td style=\"text-align: right;\">0.00</td><td style=\"text-align: right;\">0</td><td style=\"text-align: right;\">0.00</td><td style=\"text-align: right;\">0</td><td style=\"text-align: right;\">0.00</td><td style=\"text-align: right;\">0</td><td style=\"text-align: right;\">0.00</td><td style=\"text-align: right;\">0</td><td style=\"text-align: right;\">0.00</td></tr>\n",
       "<tr><td style=\"text-align: right;\">875200</td><td style=\"text-align: right;\">135,790,070</td><td>rs146234563</td><td>0</td><td style=\"text-align: right;\">40</td><td style=\"text-align: right;\">30</td><td style=\"text-align: right;\">3.73</td><td style=\"text-align: right;\">10</td><td style=\"text-align: right;\">3.99</td><td style=\"text-align: right;\">0</td><td style=\"text-align: right;\">0.00</td><td style=\"text-align: right;\">0</td><td style=\"text-align: right;\">0.00</td><td style=\"text-align: right;\">0</td><td style=\"text-align: right;\">0.00</td><td style=\"text-align: right;\">0</td><td style=\"text-align: right;\">0.00</td><td style=\"text-align: right;\">0</td><td style=\"text-align: right;\">0.00</td></tr>\n",
       "<tr class=\"even\"><td style=\"text-align: right;\">875220</td><td style=\"text-align: right;\">135,793,760</td><td>rs74671489</td><td>0</td><td style=\"text-align: right;\">40</td><td style=\"text-align: right;\">30</td><td style=\"text-align: right;\">3.73</td><td style=\"text-align: right;\">10</td><td style=\"text-align: right;\">3.99</td><td style=\"text-align: right;\">0</td><td style=\"text-align: right;\">0.00</td><td style=\"text-align: right;\">0</td><td style=\"text-align: right;\">0.00</td><td style=\"text-align: right;\">0</td><td style=\"text-align: right;\">0.00</td><td style=\"text-align: right;\">0</td><td style=\"text-align: right;\">0.00</td><td style=\"text-align: right;\">0</td><td style=\"text-align: right;\">0.00</td></tr>\n",
       "<tr><td style=\"text-align: right;\">875265</td><td style=\"text-align: right;\">135,799,014</td><td>rs147448562</td><td>0</td><td style=\"text-align: right;\">40</td><td style=\"text-align: right;\">30</td><td style=\"text-align: right;\">3.73</td><td style=\"text-align: right;\">10</td><td style=\"text-align: right;\">3.99</td><td style=\"text-align: right;\">0</td><td style=\"text-align: right;\">0.00</td><td style=\"text-align: right;\">0</td><td style=\"text-align: right;\">0.00</td><td style=\"text-align: right;\">0</td><td style=\"text-align: right;\">0.00</td><td style=\"text-align: right;\">0</td><td style=\"text-align: right;\">0.00</td><td style=\"text-align: right;\">0</td><td style=\"text-align: right;\">0.00</td></tr>\n",
       "<tr class=\"even\"><td style=\"text-align: right;\">875272</td><td style=\"text-align: right;\">135,800,795</td><td>rs79940495</td><td>0</td><td style=\"text-align: right;\">40</td><td style=\"text-align: right;\">30</td><td style=\"text-align: right;\">3.73</td><td style=\"text-align: right;\">10</td><td style=\"text-align: right;\">3.99</td><td style=\"text-align: right;\">0</td><td style=\"text-align: right;\">0.00</td><td style=\"text-align: right;\">0</td><td style=\"text-align: right;\">0.00</td><td style=\"text-align: right;\">0</td><td style=\"text-align: right;\">0.00</td><td style=\"text-align: right;\">0</td><td style=\"text-align: right;\">0.00</td><td style=\"text-align: right;\">0</td><td style=\"text-align: right;\">0.00</td></tr>\n",
       "<tr><td style=\"text-align: right;\">875285</td><td style=\"text-align: right;\">135,805,654</td><td>rs77882954</td><td>0</td><td style=\"text-align: right;\">40</td><td style=\"text-align: right;\">30</td><td style=\"text-align: right;\">3.73</td><td style=\"text-align: right;\">10</td><td style=\"text-align: right;\">3.99</td><td style=\"text-align: right;\">0</td><td style=\"text-align: right;\">0.00</td><td style=\"text-align: right;\">0</td><td style=\"text-align: right;\">0.00</td><td style=\"text-align: right;\">0</td><td style=\"text-align: right;\">0.00</td><td style=\"text-align: right;\">0</td><td style=\"text-align: right;\">0.00</td><td style=\"text-align: right;\">0</td><td style=\"text-align: right;\">0.00</td></tr>\n",
       "<tr class=\"even\"><td style=\"text-align: right;\">875294</td><td style=\"text-align: right;\">135,808,694</td><td>rs77828184</td><td>0</td><td style=\"text-align: right;\">40</td><td style=\"text-align: right;\">30</td><td style=\"text-align: right;\">3.73</td><td style=\"text-align: right;\">10</td><td style=\"text-align: right;\">3.99</td><td style=\"text-align: right;\">0</td><td style=\"text-align: right;\">0.00</td><td style=\"text-align: right;\">0</td><td style=\"text-align: right;\">0.00</td><td style=\"text-align: right;\">0</td><td style=\"text-align: right;\">0.00</td><td style=\"text-align: right;\">0</td><td style=\"text-align: right;\">0.00</td><td style=\"text-align: right;\">0</td><td style=\"text-align: right;\">0.00</td></tr>\n",
       "<tr><td style=\"text-align: right;\">875317</td><td style=\"text-align: right;\">135,812,771</td><td>rs116745444</td><td>0</td><td style=\"text-align: right;\">40</td><td style=\"text-align: right;\">30</td><td style=\"text-align: right;\">3.73</td><td style=\"text-align: right;\">10</td><td style=\"text-align: right;\">3.99</td><td style=\"text-align: right;\">0</td><td style=\"text-align: right;\">0.00</td><td style=\"text-align: right;\">0</td><td style=\"text-align: right;\">0.00</td><td style=\"text-align: right;\">0</td><td style=\"text-align: right;\">0.00</td><td style=\"text-align: right;\">0</td><td style=\"text-align: right;\">0.00</td><td style=\"text-align: right;\">0</td><td style=\"text-align: right;\">0.00</td></tr>\n",
       "<tr class=\"even\"><td style=\"text-align: right;\">875319</td><td style=\"text-align: right;\">135,812,825</td><td>rs79262874</td><td>0</td><td style=\"text-align: right;\">42</td><td style=\"text-align: right;\">32</td><td style=\"text-align: right;\">3.79</td><td style=\"text-align: right;\">10</td><td style=\"text-align: right;\">3.80</td><td style=\"text-align: right;\">0</td><td style=\"text-align: right;\">0.00</td><td style=\"text-align: right;\">0</td><td style=\"text-align: right;\">0.00</td><td style=\"text-align: right;\">0</td><td style=\"text-align: right;\">0.00</td><td style=\"text-align: right;\">0</td><td style=\"text-align: right;\">0.00</td><td style=\"text-align: right;\">0</td><td style=\"text-align: right;\">0.00</td></tr>\n",
       "<tr><td style=\"text-align: right;\">875327</td><td style=\"text-align: right;\">135,813,705</td><td>rs145261150</td><td>0</td><td style=\"text-align: right;\">40</td><td style=\"text-align: right;\">30</td><td style=\"text-align: right;\">3.73</td><td style=\"text-align: right;\">10</td><td style=\"text-align: right;\">3.99</td><td style=\"text-align: right;\">0</td><td style=\"text-align: right;\">0.00</td><td style=\"text-align: right;\">0</td><td style=\"text-align: right;\">0.00</td><td style=\"text-align: right;\">0</td><td style=\"text-align: right;\">0.00</td><td style=\"text-align: right;\">0</td><td style=\"text-align: right;\">0.00</td><td style=\"text-align: right;\">0</td><td style=\"text-align: right;\">0.00</td></tr>\n",
       "<tr class=\"even\"><td style=\"text-align: right;\">875337</td><td style=\"text-align: right;\">135,815,831</td><td>rs74995972</td><td>0</td><td style=\"text-align: right;\">40</td><td style=\"text-align: right;\">30</td><td style=\"text-align: right;\">3.73</td><td style=\"text-align: right;\">10</td><td style=\"text-align: right;\">3.99</td><td style=\"text-align: right;\">0</td><td style=\"text-align: right;\">0.00</td><td style=\"text-align: right;\">0</td><td style=\"text-align: right;\">0.00</td><td style=\"text-align: right;\">0</td><td style=\"text-align: right;\">0.00</td><td style=\"text-align: right;\">0</td><td style=\"text-align: right;\">0.00</td><td style=\"text-align: right;\">0</td><td style=\"text-align: right;\">0.00</td></tr>\n",
       "<tr><td style=\"text-align: right;\">875353</td><td style=\"text-align: right;\">135,818,793</td><td>rs78046858</td><td>0</td><td style=\"text-align: right;\">40</td><td style=\"text-align: right;\">30</td><td style=\"text-align: right;\">3.73</td><td style=\"text-align: right;\">10</td><td style=\"text-align: right;\">3.99</td><td style=\"text-align: right;\">0</td><td style=\"text-align: right;\">0.00</td><td style=\"text-align: right;\">0</td><td style=\"text-align: right;\">0.00</td><td style=\"text-align: right;\">0</td><td style=\"text-align: right;\">0.00</td><td style=\"text-align: right;\">0</td><td style=\"text-align: right;\">0.00</td><td style=\"text-align: right;\">0</td><td style=\"text-align: right;\">0.00</td></tr>\n",
       "<tr class=\"even\"><td style=\"text-align: right;\">875428</td><td style=\"text-align: right;\">135,832,899</td><td>rs75039183</td><td>0</td><td style=\"text-align: right;\">40</td><td style=\"text-align: right;\">30</td><td style=\"text-align: right;\">3.73</td><td style=\"text-align: right;\">10</td><td style=\"text-align: right;\">3.99</td><td style=\"text-align: right;\">0</td><td style=\"text-align: right;\">0.00</td><td style=\"text-align: right;\">0</td><td style=\"text-align: right;\">0.00</td><td style=\"text-align: right;\">0</td><td style=\"text-align: right;\">0.00</td><td style=\"text-align: right;\">0</td><td style=\"text-align: right;\">0.00</td><td style=\"text-align: right;\">0</td><td style=\"text-align: right;\">0.00</td></tr>\n",
       "<tr><td style=\"text-align: right;\">875444</td><td style=\"text-align: right;\">135,837,465</td><td>.</td><td>0</td><td style=\"text-align: right;\">40</td><td style=\"text-align: right;\">30</td><td style=\"text-align: right;\">3.73</td><td style=\"text-align: right;\">10</td><td style=\"text-align: right;\">3.99</td><td style=\"text-align: right;\">0</td><td style=\"text-align: right;\">0.00</td><td style=\"text-align: right;\">0</td><td style=\"text-align: right;\">0.00</td><td style=\"text-align: right;\">0</td><td style=\"text-align: right;\">0.00</td><td style=\"text-align: right;\">0</td><td style=\"text-align: right;\">0.00</td><td style=\"text-align: right;\">0</td><td style=\"text-align: right;\">0.00</td></tr>\n",
       "<tr class=\"even\"><td style=\"text-align: right;\">875447</td><td style=\"text-align: right;\">135,837,543</td><td>rs189009612</td><td>0</td><td style=\"text-align: right;\">40</td><td style=\"text-align: right;\">30</td><td style=\"text-align: right;\">3.73</td><td style=\"text-align: right;\">10</td><td style=\"text-align: right;\">3.99</td><td style=\"text-align: right;\">0</td><td style=\"text-align: right;\">0.00</td><td style=\"text-align: right;\">0</td><td style=\"text-align: right;\">0.00</td><td style=\"text-align: right;\">0</td><td style=\"text-align: right;\">0.00</td><td style=\"text-align: right;\">0</td><td style=\"text-align: right;\">0.00</td><td style=\"text-align: right;\">0</td><td style=\"text-align: right;\">0.00</td></tr>\n",
       "<tr><td style=\"text-align: right;\">875460</td><td style=\"text-align: right;\">135,839,638</td><td>rs141804600</td><td>0</td><td style=\"text-align: right;\">40</td><td style=\"text-align: right;\">30</td><td style=\"text-align: right;\">3.73</td><td style=\"text-align: right;\">10</td><td style=\"text-align: right;\">3.99</td><td style=\"text-align: right;\">0</td><td style=\"text-align: right;\">0.00</td><td style=\"text-align: right;\">0</td><td style=\"text-align: right;\">0.00</td><td style=\"text-align: right;\">0</td><td style=\"text-align: right;\">0.00</td><td style=\"text-align: right;\">0</td><td style=\"text-align: right;\">0.00</td><td style=\"text-align: right;\">0</td><td style=\"text-align: right;\">0.00</td></tr>\n",
       "<tr class=\"even\"><td style=\"text-align: right;\">875490</td><td style=\"text-align: right;\">135,847,135</td><td>rs114375701</td><td>0</td><td style=\"text-align: right;\">40</td><td style=\"text-align: right;\">30</td><td style=\"text-align: right;\">3.73</td><td style=\"text-align: right;\">10</td><td style=\"text-align: right;\">3.99</td><td style=\"text-align: right;\">0</td><td style=\"text-align: right;\">0.00</td><td style=\"text-align: right;\">0</td><td style=\"text-align: right;\">0.00</td><td style=\"text-align: right;\">0</td><td style=\"text-align: right;\">0.00</td><td style=\"text-align: right;\">0</td><td style=\"text-align: right;\">0.00</td><td style=\"text-align: right;\">0</td><td style=\"text-align: right;\">0.00</td></tr>\n",
       "<tr><td style=\"text-align: right;\">875533</td><td style=\"text-align: right;\">135,857,305</td><td>rs77928821</td><td>0</td><td style=\"text-align: right;\">40</td><td style=\"text-align: right;\">30</td><td style=\"text-align: right;\">3.73</td><td style=\"text-align: right;\">10</td><td style=\"text-align: right;\">3.99</td><td style=\"text-align: right;\">0</td><td style=\"text-align: right;\">0.00</td><td style=\"text-align: right;\">0</td><td style=\"text-align: right;\">0.00</td><td style=\"text-align: right;\">0</td><td style=\"text-align: right;\">0.00</td><td style=\"text-align: right;\">0</td><td style=\"text-align: right;\">0.00</td><td style=\"text-align: right;\">0</td><td style=\"text-align: right;\">0.00</td></tr>\n",
       "<tr class=\"even\"><td style=\"text-align: right;\">875538</td><td style=\"text-align: right;\">135,858,349</td><td>rs74692407</td><td>0</td><td style=\"text-align: right;\">40</td><td style=\"text-align: right;\">30</td><td style=\"text-align: right;\">3.73</td><td style=\"text-align: right;\">10</td><td style=\"text-align: right;\">3.99</td><td style=\"text-align: right;\">0</td><td style=\"text-align: right;\">0.00</td><td style=\"text-align: right;\">0</td><td style=\"text-align: right;\">0.00</td><td style=\"text-align: right;\">0</td><td style=\"text-align: right;\">0.00</td><td style=\"text-align: right;\">0</td><td style=\"text-align: right;\">0.00</td><td style=\"text-align: right;\">0</td><td style=\"text-align: right;\">0.00</td></tr>\n",
       "<tr><td style=\"text-align: right;\">875551</td><td style=\"text-align: right;\">135,860,555</td><td>rs114898720</td><td>0</td><td style=\"text-align: right;\">40</td><td style=\"text-align: right;\">30</td><td style=\"text-align: right;\">3.73</td><td style=\"text-align: right;\">10</td><td style=\"text-align: right;\">3.99</td><td style=\"text-align: right;\">0</td><td style=\"text-align: right;\">0.00</td><td style=\"text-align: right;\">0</td><td style=\"text-align: right;\">0.00</td><td style=\"text-align: right;\">0</td><td style=\"text-align: right;\">0.00</td><td style=\"text-align: right;\">0</td><td style=\"text-align: right;\">0.00</td><td style=\"text-align: right;\">0</td><td style=\"text-align: right;\">0.00</td></tr>\n",
       "<tr class=\"even\"><td style=\"text-align: right;\">875553</td><td style=\"text-align: right;\">135,861,296</td><td>.</td><td>0</td><td style=\"text-align: right;\">40</td><td style=\"text-align: right;\">30</td><td style=\"text-align: right;\">3.73</td><td style=\"text-align: right;\">10</td><td style=\"text-align: right;\">3.99</td><td style=\"text-align: right;\">0</td><td style=\"text-align: right;\">0.00</td><td style=\"text-align: right;\">0</td><td style=\"text-align: right;\">0.00</td><td style=\"text-align: right;\">0</td><td style=\"text-align: right;\">0.00</td><td style=\"text-align: right;\">0</td><td style=\"text-align: right;\">0.00</td><td style=\"text-align: right;\">0</td><td style=\"text-align: right;\">0.00</td></tr>\n",
       "<tr><td style=\"text-align: right;\">875561</td><td style=\"text-align: right;\">135,862,348</td><td>rs149906942</td><td>0</td><td style=\"text-align: right;\">40</td><td style=\"text-align: right;\">30</td><td style=\"text-align: right;\">3.73</td><td style=\"text-align: right;\">10</td><td style=\"text-align: right;\">3.99</td><td style=\"text-align: right;\">0</td><td style=\"text-align: right;\">0.00</td><td style=\"text-align: right;\">0</td><td style=\"text-align: right;\">0.00</td><td style=\"text-align: right;\">0</td><td style=\"text-align: right;\">0.00</td><td style=\"text-align: right;\">0</td><td style=\"text-align: right;\">0.00</td><td style=\"text-align: right;\">0</td><td style=\"text-align: right;\">0.00</td></tr>\n",
       "<tr class=\"even\"><td style=\"text-align: right;\">875636</td><td style=\"text-align: right;\">135,875,874</td><td>rs78388934</td><td>0</td><td style=\"text-align: right;\">40</td><td style=\"text-align: right;\">30</td><td style=\"text-align: right;\">3.73</td><td style=\"text-align: right;\">10</td><td style=\"text-align: right;\">3.99</td><td style=\"text-align: right;\">0</td><td style=\"text-align: right;\">0.00</td><td style=\"text-align: right;\">0</td><td style=\"text-align: right;\">0.00</td><td style=\"text-align: right;\">0</td><td style=\"text-align: right;\">0.00</td><td style=\"text-align: right;\">0</td><td style=\"text-align: right;\">0.00</td><td style=\"text-align: right;\">0</td><td style=\"text-align: right;\">0.00</td></tr>\n",
       "<tr><td style=\"text-align: right;\">875647</td><td style=\"text-align: right;\">135,878,409</td><td>rs76927619</td><td>0</td><td style=\"text-align: right;\">40</td><td style=\"text-align: right;\">30</td><td style=\"text-align: right;\">3.73</td><td style=\"text-align: right;\">10</td><td style=\"text-align: right;\">3.99</td><td style=\"text-align: right;\">0</td><td style=\"text-align: right;\">0.00</td><td style=\"text-align: right;\">0</td><td style=\"text-align: right;\">0.00</td><td style=\"text-align: right;\">0</td><td style=\"text-align: right;\">0.00</td><td style=\"text-align: right;\">0</td><td style=\"text-align: right;\">0.00</td><td style=\"text-align: right;\">0</td><td style=\"text-align: right;\">0.00</td></tr>\n",
       "<tr class=\"even\"><td style=\"text-align: right;\">875681</td><td style=\"text-align: right;\">135,886,064</td><td>rs76314497</td><td>0</td><td style=\"text-align: right;\">40</td><td style=\"text-align: right;\">30</td><td style=\"text-align: right;\">3.73</td><td style=\"text-align: right;\">10</td><td style=\"text-align: right;\">3.99</td><td style=\"text-align: right;\">0</td><td style=\"text-align: right;\">0.00</td><td style=\"text-align: right;\">0</td><td style=\"text-align: right;\">0.00</td><td style=\"text-align: right;\">0</td><td style=\"text-align: right;\">0.00</td><td style=\"text-align: right;\">0</td><td style=\"text-align: right;\">0.00</td><td style=\"text-align: right;\">0</td><td style=\"text-align: right;\">0.00</td></tr>\n",
       "<tr><td style=\"text-align: right;\">875685</td><td style=\"text-align: right;\">135,886,511</td><td>rs116410422</td><td>0</td><td style=\"text-align: right;\">40</td><td style=\"text-align: right;\">30</td><td style=\"text-align: right;\">3.73</td><td style=\"text-align: right;\">10</td><td style=\"text-align: right;\">3.99</td><td style=\"text-align: right;\">0</td><td style=\"text-align: right;\">0.00</td><td style=\"text-align: right;\">0</td><td style=\"text-align: right;\">0.00</td><td style=\"text-align: right;\">0</td><td style=\"text-align: right;\">0.00</td><td style=\"text-align: right;\">0</td><td style=\"text-align: right;\">0.00</td><td style=\"text-align: right;\">0</td><td style=\"text-align: right;\">0.00</td></tr>\n",
       "<tr class=\"even\"><td style=\"text-align: right;\">875717</td><td style=\"text-align: right;\">135,893,003</td><td>rs74448165</td><td>0</td><td style=\"text-align: right;\">40</td><td style=\"text-align: right;\">30</td><td style=\"text-align: right;\">3.73</td><td style=\"text-align: right;\">10</td><td style=\"text-align: right;\">3.99</td><td style=\"text-align: right;\">0</td><td style=\"text-align: right;\">0.00</td><td style=\"text-align: right;\">0</td><td style=\"text-align: right;\">0.00</td><td style=\"text-align: right;\">0</td><td style=\"text-align: right;\">0.00</td><td style=\"text-align: right;\">0</td><td style=\"text-align: right;\">0.00</td><td style=\"text-align: right;\">0</td><td style=\"text-align: right;\">0.00</td></tr>\n",
       "<tr><td style=\"text-align: right;\">875749</td><td style=\"text-align: right;\">135,899,867</td><td>rs75809486</td><td>0</td><td style=\"text-align: right;\">40</td><td style=\"text-align: right;\">30</td><td style=\"text-align: right;\">3.73</td><td style=\"text-align: right;\">10</td><td style=\"text-align: right;\">3.99</td><td style=\"text-align: right;\">0</td><td style=\"text-align: right;\">0.00</td><td style=\"text-align: right;\">0</td><td style=\"text-align: right;\">0.00</td><td style=\"text-align: right;\">0</td><td style=\"text-align: right;\">0.00</td><td style=\"text-align: right;\">0</td><td style=\"text-align: right;\">0.00</td><td style=\"text-align: right;\">0</td><td style=\"text-align: right;\">0.00</td></tr>\n",
       "<tr class=\"even\"><td style=\"text-align: right;\">875757</td><td style=\"text-align: right;\">135,902,413</td><td>rs79820717</td><td>0</td><td style=\"text-align: right;\">40</td><td style=\"text-align: right;\">30</td><td style=\"text-align: right;\">3.73</td><td style=\"text-align: right;\">10</td><td style=\"text-align: right;\">3.99</td><td style=\"text-align: right;\">0</td><td style=\"text-align: right;\">0.00</td><td style=\"text-align: right;\">0</td><td style=\"text-align: right;\">0.00</td><td style=\"text-align: right;\">0</td><td style=\"text-align: right;\">0.00</td><td style=\"text-align: right;\">0</td><td style=\"text-align: right;\">0.00</td><td style=\"text-align: right;\">0</td><td style=\"text-align: right;\">0.00</td></tr>\n",
       "<tr><td style=\"text-align: right;\">875799</td><td style=\"text-align: right;\">135,915,001</td><td>rs74619831</td><td>0</td><td style=\"text-align: right;\">40</td><td style=\"text-align: right;\">30</td><td style=\"text-align: right;\">3.73</td><td style=\"text-align: right;\">10</td><td style=\"text-align: right;\">3.99</td><td style=\"text-align: right;\">0</td><td style=\"text-align: right;\">0.00</td><td style=\"text-align: right;\">0</td><td style=\"text-align: right;\">0.00</td><td style=\"text-align: right;\">0</td><td style=\"text-align: right;\">0.00</td><td style=\"text-align: right;\">0</td><td style=\"text-align: right;\">0.00</td><td style=\"text-align: right;\">0</td><td style=\"text-align: right;\">0.00</td></tr>\n",
       "<tr class=\"even\"><td style=\"text-align: right;\">875827</td><td style=\"text-align: right;\">135,921,274</td><td>rs76010206</td><td>0</td><td style=\"text-align: right;\">40</td><td style=\"text-align: right;\">30</td><td style=\"text-align: right;\">3.73</td><td style=\"text-align: right;\">10</td><td style=\"text-align: right;\">3.99</td><td style=\"text-align: right;\">0</td><td style=\"text-align: right;\">0.00</td><td style=\"text-align: right;\">0</td><td style=\"text-align: right;\">0.00</td><td style=\"text-align: right;\">0</td><td style=\"text-align: right;\">0.00</td><td style=\"text-align: right;\">0</td><td style=\"text-align: right;\">0.00</td><td style=\"text-align: right;\">0</td><td style=\"text-align: right;\">0.00</td></tr>\n",
       "<tr><td style=\"text-align: right;\">875859</td><td style=\"text-align: right;\">135,929,516</td><td>rs79290222</td><td>0</td><td style=\"text-align: right;\">40</td><td style=\"text-align: right;\">30</td><td style=\"text-align: right;\">3.73</td><td style=\"text-align: right;\">10</td><td style=\"text-align: right;\">3.99</td><td style=\"text-align: right;\">0</td><td style=\"text-align: right;\">0.00</td><td style=\"text-align: right;\">0</td><td style=\"text-align: right;\">0.00</td><td style=\"text-align: right;\">0</td><td style=\"text-align: right;\">0.00</td><td style=\"text-align: right;\">0</td><td style=\"text-align: right;\">0.00</td><td style=\"text-align: right;\">0</td><td style=\"text-align: right;\">0.00</td></tr>\n",
       "<tr class=\"even\"><td style=\"text-align: right;\">875889</td><td style=\"text-align: right;\">135,936,814</td><td>rs115756571</td><td>0</td><td style=\"text-align: right;\">40</td><td style=\"text-align: right;\">30</td><td style=\"text-align: right;\">3.73</td><td style=\"text-align: right;\">10</td><td style=\"text-align: right;\">3.99</td><td style=\"text-align: right;\">0</td><td style=\"text-align: right;\">0.00</td><td style=\"text-align: right;\">0</td><td style=\"text-align: right;\">0.00</td><td style=\"text-align: right;\">0</td><td style=\"text-align: right;\">0.00</td><td style=\"text-align: right;\">0</td><td style=\"text-align: right;\">0.00</td><td style=\"text-align: right;\">0</td><td style=\"text-align: right;\">0.00</td></tr>\n",
       "<tr><td style=\"text-align: right;\">875890</td><td style=\"text-align: right;\">135,936,893</td><td>rs180801606</td><td>0</td><td style=\"text-align: right;\">40</td><td style=\"text-align: right;\">30</td><td style=\"text-align: right;\">3.73</td><td style=\"text-align: right;\">10</td><td style=\"text-align: right;\">3.99</td><td style=\"text-align: right;\">0</td><td style=\"text-align: right;\">0.00</td><td style=\"text-align: right;\">0</td><td style=\"text-align: right;\">0.00</td><td style=\"text-align: right;\">0</td><td style=\"text-align: right;\">0.00</td><td style=\"text-align: right;\">0</td><td style=\"text-align: right;\">0.00</td><td style=\"text-align: right;\">0</td><td style=\"text-align: right;\">0.00</td></tr>\n",
       "<tr class=\"even\"><td style=\"text-align: right;\">875906</td><td style=\"text-align: right;\">135,941,182</td><td>rs75863007</td><td>0</td><td style=\"text-align: right;\">40</td><td style=\"text-align: right;\">30</td><td style=\"text-align: right;\">3.73</td><td style=\"text-align: right;\">10</td><td style=\"text-align: right;\">3.99</td><td style=\"text-align: right;\">0</td><td style=\"text-align: right;\">0.00</td><td style=\"text-align: right;\">0</td><td style=\"text-align: right;\">0.00</td><td style=\"text-align: right;\">0</td><td style=\"text-align: right;\">0.00</td><td style=\"text-align: right;\">0</td><td style=\"text-align: right;\">0.00</td><td style=\"text-align: right;\">0</td><td style=\"text-align: right;\">0.00</td></tr>\n",
       "<tr><td style=\"text-align: right;\">875913</td><td style=\"text-align: right;\">135,942,100</td><td>rs116039512</td><td>0</td><td style=\"text-align: right;\">40</td><td style=\"text-align: right;\">30</td><td style=\"text-align: right;\">3.73</td><td style=\"text-align: right;\">10</td><td style=\"text-align: right;\">3.99</td><td style=\"text-align: right;\">0</td><td style=\"text-align: right;\">0.00</td><td style=\"text-align: right;\">0</td><td style=\"text-align: right;\">0.00</td><td style=\"text-align: right;\">0</td><td style=\"text-align: right;\">0.00</td><td style=\"text-align: right;\">0</td><td style=\"text-align: right;\">0.00</td><td style=\"text-align: right;\">0</td><td style=\"text-align: right;\">0.00</td></tr>\n",
       "<tr class=\"even\"><td style=\"text-align: right;\">875929</td><td style=\"text-align: right;\">135,945,881</td><td>rs189787441</td><td>0</td><td style=\"text-align: right;\">40</td><td style=\"text-align: right;\">30</td><td style=\"text-align: right;\">3.73</td><td style=\"text-align: right;\">10</td><td style=\"text-align: right;\">3.99</td><td style=\"text-align: right;\">0</td><td style=\"text-align: right;\">0.00</td><td style=\"text-align: right;\">0</td><td style=\"text-align: right;\">0.00</td><td style=\"text-align: right;\">0</td><td style=\"text-align: right;\">0.00</td><td style=\"text-align: right;\">0</td><td style=\"text-align: right;\">0.00</td><td style=\"text-align: right;\">0</td><td style=\"text-align: right;\">0.00</td></tr>\n",
       "<tr><td style=\"text-align: right;\">875930</td><td style=\"text-align: right;\">135,945,882</td><td>rs181845250</td><td>0</td><td style=\"text-align: right;\">40</td><td style=\"text-align: right;\">30</td><td style=\"text-align: right;\">3.73</td><td style=\"text-align: right;\">10</td><td style=\"text-align: right;\">3.99</td><td style=\"text-align: right;\">0</td><td style=\"text-align: right;\">0.00</td><td style=\"text-align: right;\">0</td><td style=\"text-align: right;\">0.00</td><td style=\"text-align: right;\">0</td><td style=\"text-align: right;\">0.00</td><td style=\"text-align: right;\">0</td><td style=\"text-align: right;\">0.00</td><td style=\"text-align: right;\">0</td><td style=\"text-align: right;\">0.00</td></tr>\n",
       "<tr class=\"even\"><td style=\"text-align: right;\">875944</td><td style=\"text-align: right;\">135,948,333</td><td>rs114489277</td><td>0</td><td style=\"text-align: right;\">40</td><td style=\"text-align: right;\">30</td><td style=\"text-align: right;\">3.73</td><td style=\"text-align: right;\">10</td><td style=\"text-align: right;\">3.99</td><td style=\"text-align: right;\">0</td><td style=\"text-align: right;\">0.00</td><td style=\"text-align: right;\">0</td><td style=\"text-align: right;\">0.00</td><td style=\"text-align: right;\">0</td><td style=\"text-align: right;\">0.00</td><td style=\"text-align: right;\">0</td><td style=\"text-align: right;\">0.00</td><td style=\"text-align: right;\">0</td><td style=\"text-align: right;\">0.00</td></tr>\n",
       "<tr><td style=\"text-align: right;\">875962</td><td style=\"text-align: right;\">135,950,574</td><td>rs114037708</td><td>0</td><td style=\"text-align: right;\">40</td><td style=\"text-align: right;\">30</td><td style=\"text-align: right;\">3.73</td><td style=\"text-align: right;\">10</td><td style=\"text-align: right;\">3.99</td><td style=\"text-align: right;\">0</td><td style=\"text-align: right;\">0.00</td><td style=\"text-align: right;\">0</td><td style=\"text-align: right;\">0.00</td><td style=\"text-align: right;\">0</td><td style=\"text-align: right;\">0.00</td><td style=\"text-align: right;\">0</td><td style=\"text-align: right;\">0.00</td><td style=\"text-align: right;\">0</td><td style=\"text-align: right;\">0.00</td></tr>\n",
       "<tr class=\"even\"><td style=\"text-align: right;\">875971</td><td style=\"text-align: right;\">135,952,848</td><td>rs80227890</td><td>0</td><td style=\"text-align: right;\">40</td><td style=\"text-align: right;\">30</td><td style=\"text-align: right;\">3.73</td><td style=\"text-align: right;\">10</td><td style=\"text-align: right;\">3.99</td><td style=\"text-align: right;\">0</td><td style=\"text-align: right;\">0.00</td><td style=\"text-align: right;\">0</td><td style=\"text-align: right;\">0.00</td><td style=\"text-align: right;\">0</td><td style=\"text-align: right;\">0.00</td><td style=\"text-align: right;\">0</td><td style=\"text-align: right;\">0.00</td><td style=\"text-align: right;\">0</td><td style=\"text-align: right;\">0.00</td></tr>\n",
       "<tr><td style=\"text-align: right;\">876003</td><td style=\"text-align: right;\">135,959,976</td><td>rs76127169</td><td>0</td><td style=\"text-align: right;\">42</td><td style=\"text-align: right;\">32</td><td style=\"text-align: right;\">3.79</td><td style=\"text-align: right;\">10</td><td style=\"text-align: right;\">3.80</td><td style=\"text-align: right;\">0</td><td style=\"text-align: right;\">0.00</td><td style=\"text-align: right;\">0</td><td style=\"text-align: right;\">0.00</td><td style=\"text-align: right;\">0</td><td style=\"text-align: right;\">0.00</td><td style=\"text-align: right;\">0</td><td style=\"text-align: right;\">0.00</td><td style=\"text-align: right;\">0</td><td style=\"text-align: right;\">0.00</td></tr>\n",
       "<tr class=\"even\"><td style=\"text-align: right;\">876017</td><td style=\"text-align: right;\">135,963,590</td><td>rs75656544</td><td>0</td><td style=\"text-align: right;\">42</td><td style=\"text-align: right;\">32</td><td style=\"text-align: right;\">3.79</td><td style=\"text-align: right;\">10</td><td style=\"text-align: right;\">3.80</td><td style=\"text-align: right;\">0</td><td style=\"text-align: right;\">0.00</td><td style=\"text-align: right;\">0</td><td style=\"text-align: right;\">0.00</td><td style=\"text-align: right;\">0</td><td style=\"text-align: right;\">0.00</td><td style=\"text-align: right;\">0</td><td style=\"text-align: right;\">0.00</td><td style=\"text-align: right;\">0</td><td style=\"text-align: right;\">0.00</td></tr>\n",
       "<tr><td style=\"text-align: right;\">876107</td><td style=\"text-align: right;\">135,980,957</td><td>.</td><td>0</td><td style=\"text-align: right;\">42</td><td style=\"text-align: right;\">32</td><td style=\"text-align: right;\">3.79</td><td style=\"text-align: right;\">9</td><td style=\"text-align: right;\">3.42</td><td style=\"text-align: right;\">0</td><td style=\"text-align: right;\">0.00</td><td style=\"text-align: right;\">0</td><td style=\"text-align: right;\">0.00</td><td style=\"text-align: right;\">0</td><td style=\"text-align: right;\">0.00</td><td style=\"text-align: right;\">0</td><td style=\"text-align: right;\">0.00</td><td style=\"text-align: right;\">1</td><td style=\"text-align: right;\">0.19</td></tr>\n",
       "<tr class=\"even\"><td style=\"text-align: right;\">876125</td><td style=\"text-align: right;\">135,984,921</td><td>rs77599796</td><td>0</td><td style=\"text-align: right;\">39</td><td style=\"text-align: right;\">30</td><td style=\"text-align: right;\">3.82</td><td style=\"text-align: right;\">9</td><td style=\"text-align: right;\">3.68</td><td style=\"text-align: right;\">0</td><td style=\"text-align: right;\">0.00</td><td style=\"text-align: right;\">0</td><td style=\"text-align: right;\">0.00</td><td style=\"text-align: right;\">0</td><td style=\"text-align: right;\">0.00</td><td style=\"text-align: right;\">0</td><td style=\"text-align: right;\">0.00</td><td style=\"text-align: right;\">0</td><td style=\"text-align: right;\">0.00</td></tr>\n",
       "<tr><td style=\"text-align: right;\">876159</td><td style=\"text-align: right;\">135,990,422</td><td>rs142906657</td><td>0</td><td style=\"text-align: right;\">43</td><td style=\"text-align: right;\">33</td><td style=\"text-align: right;\">3.81</td><td style=\"text-align: right;\">10</td><td style=\"text-align: right;\">3.71</td><td style=\"text-align: right;\">0</td><td style=\"text-align: right;\">0.00</td><td style=\"text-align: right;\">0</td><td style=\"text-align: right;\">0.00</td><td style=\"text-align: right;\">0</td><td style=\"text-align: right;\">0.00</td><td style=\"text-align: right;\">0</td><td style=\"text-align: right;\">0.00</td><td style=\"text-align: right;\">0</td><td style=\"text-align: right;\">0.00</td></tr>\n",
       "<tr class=\"even\"><td style=\"text-align: right;\">876229</td><td style=\"text-align: right;\">135,999,142</td><td>rs77947867</td><td>0</td><td style=\"text-align: right;\">47</td><td style=\"text-align: right;\">36</td><td style=\"text-align: right;\">3.81</td><td style=\"text-align: right;\">11</td><td style=\"text-align: right;\">3.73</td><td style=\"text-align: right;\">0</td><td style=\"text-align: right;\">0.00</td><td style=\"text-align: right;\">0</td><td style=\"text-align: right;\">0.00</td><td style=\"text-align: right;\">0</td><td style=\"text-align: right;\">0.00</td><td style=\"text-align: right;\">0</td><td style=\"text-align: right;\">0.00</td><td style=\"text-align: right;\">0</td><td style=\"text-align: right;\">0.00</td></tr>\n",
       "<tr><td style=\"text-align: right;\">876239</td><td style=\"text-align: right;\">136,000,471</td><td>rs77093531</td><td>0</td><td style=\"text-align: right;\">39</td><td style=\"text-align: right;\">30</td><td style=\"text-align: right;\">3.82</td><td style=\"text-align: right;\">9</td><td style=\"text-align: right;\">3.68</td><td style=\"text-align: right;\">0</td><td style=\"text-align: right;\">0.00</td><td style=\"text-align: right;\">0</td><td style=\"text-align: right;\">0.00</td><td style=\"text-align: right;\">0</td><td style=\"text-align: right;\">0.00</td><td style=\"text-align: right;\">0</td><td style=\"text-align: right;\">0.00</td><td style=\"text-align: right;\">0</td><td style=\"text-align: right;\">0.00</td></tr>\n",
       "<tr class=\"even\"><td style=\"text-align: right;\">876309</td><td style=\"text-align: right;\">136,012,286</td><td>rs114400699</td><td>0</td><td style=\"text-align: right;\">43</td><td style=\"text-align: right;\">33</td><td style=\"text-align: right;\">3.81</td><td style=\"text-align: right;\">10</td><td style=\"text-align: right;\">3.71</td><td style=\"text-align: right;\">0</td><td style=\"text-align: right;\">0.00</td><td style=\"text-align: right;\">0</td><td style=\"text-align: right;\">0.00</td><td style=\"text-align: right;\">0</td><td style=\"text-align: right;\">0.00</td><td style=\"text-align: right;\">0</td><td style=\"text-align: right;\">0.00</td><td style=\"text-align: right;\">0</td><td style=\"text-align: right;\">0.00</td></tr>\n",
       "<tr><td style=\"text-align: right;\">876318</td><td style=\"text-align: right;\">136,015,195</td><td>rs115520006</td><td>0</td><td style=\"text-align: right;\">43</td><td style=\"text-align: right;\">33</td><td style=\"text-align: right;\">3.81</td><td style=\"text-align: right;\">10</td><td style=\"text-align: right;\">3.71</td><td style=\"text-align: right;\">0</td><td style=\"text-align: right;\">0.00</td><td style=\"text-align: right;\">0</td><td style=\"text-align: right;\">0.00</td><td style=\"text-align: right;\">0</td><td style=\"text-align: right;\">0.00</td><td style=\"text-align: right;\">0</td><td style=\"text-align: right;\">0.00</td><td style=\"text-align: right;\">0</td><td style=\"text-align: right;\">0.00</td></tr>\n",
       "<tr class=\"even\"><td style=\"text-align: right;\">876322</td><td style=\"text-align: right;\">136,016,019</td><td>rs77597238</td><td>0</td><td style=\"text-align: right;\">43</td><td style=\"text-align: right;\">33</td><td style=\"text-align: right;\">3.81</td><td style=\"text-align: right;\">10</td><td style=\"text-align: right;\">3.71</td><td style=\"text-align: right;\">0</td><td style=\"text-align: right;\">0.00</td><td style=\"text-align: right;\">0</td><td style=\"text-align: right;\">0.00</td><td style=\"text-align: right;\">0</td><td style=\"text-align: right;\">0.00</td><td style=\"text-align: right;\">0</td><td style=\"text-align: right;\">0.00</td><td style=\"text-align: right;\">0</td><td style=\"text-align: right;\">0.00</td></tr>\n",
       "<tr><td style=\"text-align: right;\">876386</td><td style=\"text-align: right;\">136,031,999</td><td>rs75286327</td><td>0</td><td style=\"text-align: right;\">39</td><td style=\"text-align: right;\">30</td><td style=\"text-align: right;\">3.82</td><td style=\"text-align: right;\">9</td><td style=\"text-align: right;\">3.68</td><td style=\"text-align: right;\">0</td><td style=\"text-align: right;\">0.00</td><td style=\"text-align: right;\">0</td><td style=\"text-align: right;\">0.00</td><td style=\"text-align: right;\">0</td><td style=\"text-align: right;\">0.00</td><td style=\"text-align: right;\">0</td><td style=\"text-align: right;\">0.00</td><td style=\"text-align: right;\">0</td><td style=\"text-align: right;\">0.00</td></tr>\n",
       "<tr class=\"even\"><td style=\"text-align: right;\">876407</td><td style=\"text-align: right;\">136,036,639</td><td>rs78775065</td><td>0</td><td style=\"text-align: right;\">39</td><td style=\"text-align: right;\">30</td><td style=\"text-align: right;\">3.82</td><td style=\"text-align: right;\">9</td><td style=\"text-align: right;\">3.68</td><td style=\"text-align: right;\">0</td><td style=\"text-align: right;\">0.00</td><td style=\"text-align: right;\">0</td><td style=\"text-align: right;\">0.00</td><td style=\"text-align: right;\">0</td><td style=\"text-align: right;\">0.00</td><td style=\"text-align: right;\">0</td><td style=\"text-align: right;\">0.00</td><td style=\"text-align: right;\">0</td><td style=\"text-align: right;\">0.00</td></tr>\n",
       "<tr><td style=\"text-align: right;\">876410</td><td style=\"text-align: right;\">136,037,183</td><td>rs79912293</td><td>0</td><td style=\"text-align: right;\">39</td><td style=\"text-align: right;\">30</td><td style=\"text-align: right;\">3.82</td><td style=\"text-align: right;\">9</td><td style=\"text-align: right;\">3.68</td><td style=\"text-align: right;\">0</td><td style=\"text-align: right;\">0.00</td><td style=\"text-align: right;\">0</td><td style=\"text-align: right;\">0.00</td><td style=\"text-align: right;\">0</td><td style=\"text-align: right;\">0.00</td><td style=\"text-align: right;\">0</td><td style=\"text-align: right;\">0.00</td><td style=\"text-align: right;\">0</td><td style=\"text-align: right;\">0.00</td></tr>\n",
       "<tr class=\"even\"><td style=\"text-align: right;\">876418</td><td style=\"text-align: right;\">136,037,842</td><td>rs141460893</td><td>0</td><td style=\"text-align: right;\">39</td><td style=\"text-align: right;\">30</td><td style=\"text-align: right;\">3.82</td><td style=\"text-align: right;\">9</td><td style=\"text-align: right;\">3.68</td><td style=\"text-align: right;\">0</td><td style=\"text-align: right;\">0.00</td><td style=\"text-align: right;\">0</td><td style=\"text-align: right;\">0.00</td><td style=\"text-align: right;\">0</td><td style=\"text-align: right;\">0.00</td><td style=\"text-align: right;\">0</td><td style=\"text-align: right;\">0.00</td><td style=\"text-align: right;\">0</td><td style=\"text-align: right;\">0.00</td></tr>\n",
       "<tr><td style=\"text-align: right;\">876424</td><td style=\"text-align: right;\">136,038,931</td><td>rs190609297</td><td>0</td><td style=\"text-align: right;\">40</td><td style=\"text-align: right;\">30</td><td style=\"text-align: right;\">3.73</td><td style=\"text-align: right;\">9</td><td style=\"text-align: right;\">3.59</td><td style=\"text-align: right;\">0</td><td style=\"text-align: right;\">0.00</td><td style=\"text-align: right;\">0</td><td style=\"text-align: right;\">0.00</td><td style=\"text-align: right;\">0</td><td style=\"text-align: right;\">0.00</td><td style=\"text-align: right;\">0</td><td style=\"text-align: right;\">0.00</td><td style=\"text-align: right;\">1</td><td style=\"text-align: right;\">0.20</td></tr>\n",
       "<tr class=\"even\"><td style=\"text-align: right;\">876436</td><td style=\"text-align: right;\">136,041,040</td><td>rs115722974</td><td>0</td><td style=\"text-align: right;\">39</td><td style=\"text-align: right;\">30</td><td style=\"text-align: right;\">3.82</td><td style=\"text-align: right;\">9</td><td style=\"text-align: right;\">3.68</td><td style=\"text-align: right;\">0</td><td style=\"text-align: right;\">0.00</td><td style=\"text-align: right;\">0</td><td style=\"text-align: right;\">0.00</td><td style=\"text-align: right;\">0</td><td style=\"text-align: right;\">0.00</td><td style=\"text-align: right;\">0</td><td style=\"text-align: right;\">0.00</td><td style=\"text-align: right;\">0</td><td style=\"text-align: right;\">0.00</td></tr>\n",
       "<tr><td style=\"text-align: right;\">876443</td><td style=\"text-align: right;\">136,042,152</td><td>rs144918949</td><td>0</td><td style=\"text-align: right;\">39</td><td style=\"text-align: right;\">30</td><td style=\"text-align: right;\">3.82</td><td style=\"text-align: right;\">9</td><td style=\"text-align: right;\">3.68</td><td style=\"text-align: right;\">0</td><td style=\"text-align: right;\">0.00</td><td style=\"text-align: right;\">0</td><td style=\"text-align: right;\">0.00</td><td style=\"text-align: right;\">0</td><td style=\"text-align: right;\">0.00</td><td style=\"text-align: right;\">0</td><td style=\"text-align: right;\">0.00</td><td style=\"text-align: right;\">0</td><td style=\"text-align: right;\">0.00</td></tr>\n",
       "<tr class=\"even\"><td style=\"text-align: right;\">876461</td><td style=\"text-align: right;\">136,046,084</td><td>rs113119492</td><td>0</td><td style=\"text-align: right;\">43</td><td style=\"text-align: right;\">33</td><td style=\"text-align: right;\">3.81</td><td style=\"text-align: right;\">9</td><td style=\"text-align: right;\">3.34</td><td style=\"text-align: right;\">0</td><td style=\"text-align: right;\">0.00</td><td style=\"text-align: right;\">0</td><td style=\"text-align: right;\">0.00</td><td style=\"text-align: right;\">0</td><td style=\"text-align: right;\">0.00</td><td style=\"text-align: right;\">0</td><td style=\"text-align: right;\">0.00</td><td style=\"text-align: right;\">1</td><td style=\"text-align: right;\">0.19</td></tr>\n",
       "<tr><td style=\"text-align: right;\">876468</td><td style=\"text-align: right;\">136,046,790</td><td>rs114645249</td><td>0</td><td style=\"text-align: right;\">39</td><td style=\"text-align: right;\">30</td><td style=\"text-align: right;\">3.82</td><td style=\"text-align: right;\">9</td><td style=\"text-align: right;\">3.68</td><td style=\"text-align: right;\">0</td><td style=\"text-align: right;\">0.00</td><td style=\"text-align: right;\">0</td><td style=\"text-align: right;\">0.00</td><td style=\"text-align: right;\">0</td><td style=\"text-align: right;\">0.00</td><td style=\"text-align: right;\">0</td><td style=\"text-align: right;\">0.00</td><td style=\"text-align: right;\">0</td><td style=\"text-align: right;\">0.00</td></tr>\n",
       "<tr class=\"even\"><td style=\"text-align: right;\">876470</td><td style=\"text-align: right;\">136,046,899</td><td>rs112481814</td><td>0</td><td style=\"text-align: right;\">42</td><td style=\"text-align: right;\">33</td><td style=\"text-align: right;\">3.90</td><td style=\"text-align: right;\">9</td><td style=\"text-align: right;\">3.42</td><td style=\"text-align: right;\">0</td><td style=\"text-align: right;\">0.00</td><td style=\"text-align: right;\">0</td><td style=\"text-align: right;\">0.00</td><td style=\"text-align: right;\">0</td><td style=\"text-align: right;\">0.00</td><td style=\"text-align: right;\">0</td><td style=\"text-align: right;\">0.00</td><td style=\"text-align: right;\">0</td><td style=\"text-align: right;\">0.00</td></tr>\n",
       "<tr><td style=\"text-align: right;\">876489</td><td style=\"text-align: right;\">136,050,147</td><td>rs375897584</td><td>0</td><td style=\"text-align: right;\">42</td><td style=\"text-align: right;\">30</td><td style=\"text-align: right;\">3.55</td><td style=\"text-align: right;\">9</td><td style=\"text-align: right;\">3.42</td><td style=\"text-align: right;\">0</td><td style=\"text-align: right;\">0.00</td><td style=\"text-align: right;\">0</td><td style=\"text-align: right;\">0.00</td><td style=\"text-align: right;\">1</td><td style=\"text-align: right;\">0.12</td><td style=\"text-align: right;\">1</td><td style=\"text-align: right;\">0.33</td><td style=\"text-align: right;\">1</td><td style=\"text-align: right;\">0.19</td></tr>\n",
       "<tr class=\"even\"><td style=\"text-align: right;\">876522</td><td style=\"text-align: right;\">136,054,642</td><td>rs139160601</td><td>0</td><td style=\"text-align: right;\">44</td><td style=\"text-align: right;\">34</td><td style=\"text-align: right;\">3.84</td><td style=\"text-align: right;\">10</td><td style=\"text-align: right;\">3.62</td><td style=\"text-align: right;\">0</td><td style=\"text-align: right;\">0.00</td><td style=\"text-align: right;\">0</td><td style=\"text-align: right;\">0.00</td><td style=\"text-align: right;\">0</td><td style=\"text-align: right;\">0.00</td><td style=\"text-align: right;\">0</td><td style=\"text-align: right;\">0.00</td><td style=\"text-align: right;\">0</td><td style=\"text-align: right;\">0.00</td></tr>\n",
       "<tr><td style=\"text-align: right;\">876541</td><td style=\"text-align: right;\">136,057,299</td><td>rs74963875</td><td>0</td><td style=\"text-align: right;\">39</td><td style=\"text-align: right;\">30</td><td style=\"text-align: right;\">3.82</td><td style=\"text-align: right;\">9</td><td style=\"text-align: right;\">3.68</td><td style=\"text-align: right;\">0</td><td style=\"text-align: right;\">0.00</td><td style=\"text-align: right;\">0</td><td style=\"text-align: right;\">0.00</td><td style=\"text-align: right;\">0</td><td style=\"text-align: right;\">0.00</td><td style=\"text-align: right;\">0</td><td style=\"text-align: right;\">0.00</td><td style=\"text-align: right;\">0</td><td style=\"text-align: right;\">0.00</td></tr>\n",
       "<tr class=\"even\"><td style=\"text-align: right;\">876553</td><td style=\"text-align: right;\">136,058,917</td><td>rs113044363</td><td>0</td><td style=\"text-align: right;\">39</td><td style=\"text-align: right;\">30</td><td style=\"text-align: right;\">3.82</td><td style=\"text-align: right;\">9</td><td style=\"text-align: right;\">3.68</td><td style=\"text-align: right;\">0</td><td style=\"text-align: right;\">0.00</td><td style=\"text-align: right;\">0</td><td style=\"text-align: right;\">0.00</td><td style=\"text-align: right;\">0</td><td style=\"text-align: right;\">0.00</td><td style=\"text-align: right;\">0</td><td style=\"text-align: right;\">0.00</td><td style=\"text-align: right;\">0</td><td style=\"text-align: right;\">0.00</td></tr>\n",
       "<tr><td style=\"text-align: right;\">876560</td><td style=\"text-align: right;\">136,060,219</td><td>rs150299184</td><td>0</td><td style=\"text-align: right;\">39</td><td style=\"text-align: right;\">30</td><td style=\"text-align: right;\">3.82</td><td style=\"text-align: right;\">9</td><td style=\"text-align: right;\">3.68</td><td style=\"text-align: right;\">0</td><td style=\"text-align: right;\">0.00</td><td style=\"text-align: right;\">0</td><td style=\"text-align: right;\">0.00</td><td style=\"text-align: right;\">0</td><td style=\"text-align: right;\">0.00</td><td style=\"text-align: right;\">0</td><td style=\"text-align: right;\">0.00</td><td style=\"text-align: right;\">0</td><td style=\"text-align: right;\">0.00</td></tr>\n",
       "<tr class=\"even\"><td style=\"text-align: right;\">876578</td><td style=\"text-align: right;\">136,064,616</td><td>rs115013716</td><td>0</td><td style=\"text-align: right;\">39</td><td style=\"text-align: right;\">30</td><td style=\"text-align: right;\">3.82</td><td style=\"text-align: right;\">9</td><td style=\"text-align: right;\">3.68</td><td style=\"text-align: right;\">0</td><td style=\"text-align: right;\">0.00</td><td style=\"text-align: right;\">0</td><td style=\"text-align: right;\">0.00</td><td style=\"text-align: right;\">0</td><td style=\"text-align: right;\">0.00</td><td style=\"text-align: right;\">0</td><td style=\"text-align: right;\">0.00</td><td style=\"text-align: right;\">0</td><td style=\"text-align: right;\">0.00</td></tr>\n",
       "<tr><td style=\"text-align: right;\">876594</td><td style=\"text-align: right;\">136,067,835</td><td>rs79977021</td><td>0</td><td style=\"text-align: right;\">39</td><td style=\"text-align: right;\">30</td><td style=\"text-align: right;\">3.82</td><td style=\"text-align: right;\">9</td><td style=\"text-align: right;\">3.68</td><td style=\"text-align: right;\">0</td><td style=\"text-align: right;\">0.00</td><td style=\"text-align: right;\">0</td><td style=\"text-align: right;\">0.00</td><td style=\"text-align: right;\">0</td><td style=\"text-align: right;\">0.00</td><td style=\"text-align: right;\">0</td><td style=\"text-align: right;\">0.00</td><td style=\"text-align: right;\">0</td><td style=\"text-align: right;\">0.00</td></tr>\n",
       "<tr class=\"even\"><td style=\"text-align: right;\">876601</td><td style=\"text-align: right;\">136,068,973</td><td>rs143675134</td><td>0</td><td style=\"text-align: right;\">38</td><td style=\"text-align: right;\">29</td><td style=\"text-align: right;\">3.79</td><td style=\"text-align: right;\">9</td><td style=\"text-align: right;\">3.78</td><td style=\"text-align: right;\">0</td><td style=\"text-align: right;\">0.00</td><td style=\"text-align: right;\">0</td><td style=\"text-align: right;\">0.00</td><td style=\"text-align: right;\">0</td><td style=\"text-align: right;\">0.00</td><td style=\"text-align: right;\">0</td><td style=\"text-align: right;\">0.00</td><td style=\"text-align: right;\">0</td><td style=\"text-align: right;\">0.00</td></tr>\n",
       "<tr><td style=\"text-align: right;\">876606</td><td style=\"text-align: right;\">136,069,584</td><td>rs77222127</td><td>0</td><td style=\"text-align: right;\">42</td><td style=\"text-align: right;\">33</td><td style=\"text-align: right;\">3.90</td><td style=\"text-align: right;\">9</td><td style=\"text-align: right;\">3.42</td><td style=\"text-align: right;\">0</td><td style=\"text-align: right;\">0.00</td><td style=\"text-align: right;\">0</td><td style=\"text-align: right;\">0.00</td><td style=\"text-align: right;\">0</td><td style=\"text-align: right;\">0.00</td><td style=\"text-align: right;\">0</td><td style=\"text-align: right;\">0.00</td><td style=\"text-align: right;\">0</td><td style=\"text-align: right;\">0.00</td></tr>\n",
       "<tr class=\"even\"><td style=\"text-align: right;\">876646</td><td style=\"text-align: right;\">136,080,116</td><td>rs111866374</td><td>0</td><td style=\"text-align: right;\">44</td><td style=\"text-align: right;\">34</td><td style=\"text-align: right;\">3.84</td><td style=\"text-align: right;\">10</td><td style=\"text-align: right;\">3.62</td><td style=\"text-align: right;\">0</td><td style=\"text-align: right;\">0.00</td><td style=\"text-align: right;\">0</td><td style=\"text-align: right;\">0.00</td><td style=\"text-align: right;\">0</td><td style=\"text-align: right;\">0.00</td><td style=\"text-align: right;\">0</td><td style=\"text-align: right;\">0.00</td><td style=\"text-align: right;\">0</td><td style=\"text-align: right;\">0.00</td></tr>\n",
       "<tr><td style=\"text-align: right;\">876659</td><td style=\"text-align: right;\">136,082,202</td><td>rs142517368</td><td>0</td><td style=\"text-align: right;\">39</td><td style=\"text-align: right;\">30</td><td style=\"text-align: right;\">3.82</td><td style=\"text-align: right;\">9</td><td style=\"text-align: right;\">3.68</td><td style=\"text-align: right;\">0</td><td style=\"text-align: right;\">0.00</td><td style=\"text-align: right;\">0</td><td style=\"text-align: right;\">0.00</td><td style=\"text-align: right;\">0</td><td style=\"text-align: right;\">0.00</td><td style=\"text-align: right;\">0</td><td style=\"text-align: right;\">0.00</td><td style=\"text-align: right;\">0</td><td style=\"text-align: right;\">0.00</td></tr>\n",
       "<tr class=\"even\"><td style=\"text-align: right;\">876660</td><td style=\"text-align: right;\">136,082,287</td><td>rs186857321</td><td>0</td><td style=\"text-align: right;\">39</td><td style=\"text-align: right;\">30</td><td style=\"text-align: right;\">3.82</td><td style=\"text-align: right;\">9</td><td style=\"text-align: right;\">3.68</td><td style=\"text-align: right;\">0</td><td style=\"text-align: right;\">0.00</td><td style=\"text-align: right;\">0</td><td style=\"text-align: right;\">0.00</td><td style=\"text-align: right;\">0</td><td style=\"text-align: right;\">0.00</td><td style=\"text-align: right;\">0</td><td style=\"text-align: right;\">0.00</td><td style=\"text-align: right;\">0</td><td style=\"text-align: right;\">0.00</td></tr>\n",
       "<tr><td style=\"text-align: right;\">876665</td><td style=\"text-align: right;\">136,082,773</td><td>rs78170260</td><td>0</td><td style=\"text-align: right;\">39</td><td style=\"text-align: right;\">30</td><td style=\"text-align: right;\">3.82</td><td style=\"text-align: right;\">9</td><td style=\"text-align: right;\">3.68</td><td style=\"text-align: right;\">0</td><td style=\"text-align: right;\">0.00</td><td style=\"text-align: right;\">0</td><td style=\"text-align: right;\">0.00</td><td style=\"text-align: right;\">0</td><td style=\"text-align: right;\">0.00</td><td style=\"text-align: right;\">0</td><td style=\"text-align: right;\">0.00</td><td style=\"text-align: right;\">0</td><td style=\"text-align: right;\">0.00</td></tr>\n",
       "<tr class=\"even\"><td style=\"text-align: right;\">876670</td><td style=\"text-align: right;\">136,083,563</td><td>rs115779367</td><td>0</td><td style=\"text-align: right;\">42</td><td style=\"text-align: right;\">31</td><td style=\"text-align: right;\">3.67</td><td style=\"text-align: right;\">9</td><td style=\"text-align: right;\">3.42</td><td style=\"text-align: right;\">0</td><td style=\"text-align: right;\">0.00</td><td style=\"text-align: right;\">0</td><td style=\"text-align: right;\">0.00</td><td style=\"text-align: right;\">0</td><td style=\"text-align: right;\">0.00</td><td style=\"text-align: right;\">0</td><td style=\"text-align: right;\">0.00</td><td style=\"text-align: right;\">2</td><td style=\"text-align: right;\">0.39</td></tr>\n",
       "<tr><td style=\"text-align: right;\">876675</td><td style=\"text-align: right;\">136,085,266</td><td>rs75738120</td><td>0</td><td style=\"text-align: right;\">39</td><td style=\"text-align: right;\">30</td><td style=\"text-align: right;\">3.82</td><td style=\"text-align: right;\">9</td><td style=\"text-align: right;\">3.68</td><td style=\"text-align: right;\">0</td><td style=\"text-align: right;\">0.00</td><td style=\"text-align: right;\">0</td><td style=\"text-align: right;\">0.00</td><td style=\"text-align: right;\">0</td><td style=\"text-align: right;\">0.00</td><td style=\"text-align: right;\">0</td><td style=\"text-align: right;\">0.00</td><td style=\"text-align: right;\">0</td><td style=\"text-align: right;\">0.00</td></tr>\n",
       "<tr class=\"even\"><td style=\"text-align: right;\">876679</td><td style=\"text-align: right;\">136,086,355</td><td>rs144076096</td><td>0</td><td style=\"text-align: right;\">39</td><td style=\"text-align: right;\">30</td><td style=\"text-align: right;\">3.82</td><td style=\"text-align: right;\">9</td><td style=\"text-align: right;\">3.68</td><td style=\"text-align: right;\">0</td><td style=\"text-align: right;\">0.00</td><td style=\"text-align: right;\">0</td><td style=\"text-align: right;\">0.00</td><td style=\"text-align: right;\">0</td><td style=\"text-align: right;\">0.00</td><td style=\"text-align: right;\">0</td><td style=\"text-align: right;\">0.00</td><td style=\"text-align: right;\">0</td><td style=\"text-align: right;\">0.00</td></tr>\n",
       "<tr><td style=\"text-align: right;\">876684</td><td style=\"text-align: right;\">136,087,219</td><td>rs144915979</td><td>0</td><td style=\"text-align: right;\">39</td><td style=\"text-align: right;\">30</td><td style=\"text-align: right;\">3.82</td><td style=\"text-align: right;\">9</td><td style=\"text-align: right;\">3.68</td><td style=\"text-align: right;\">0</td><td style=\"text-align: right;\">0.00</td><td style=\"text-align: right;\">0</td><td style=\"text-align: right;\">0.00</td><td style=\"text-align: right;\">0</td><td style=\"text-align: right;\">0.00</td><td style=\"text-align: right;\">0</td><td style=\"text-align: right;\">0.00</td><td style=\"text-align: right;\">0</td><td style=\"text-align: right;\">0.00</td></tr>\n",
       "<tr class=\"even\"><td style=\"text-align: right;\">876707</td><td style=\"text-align: right;\">136,092,632</td><td>rs75759724</td><td>0</td><td style=\"text-align: right;\">39</td><td style=\"text-align: right;\">30</td><td style=\"text-align: right;\">3.82</td><td style=\"text-align: right;\">9</td><td style=\"text-align: right;\">3.68</td><td style=\"text-align: right;\">0</td><td style=\"text-align: right;\">0.00</td><td style=\"text-align: right;\">0</td><td style=\"text-align: right;\">0.00</td><td style=\"text-align: right;\">0</td><td style=\"text-align: right;\">0.00</td><td style=\"text-align: right;\">0</td><td style=\"text-align: right;\">0.00</td><td style=\"text-align: right;\">0</td><td style=\"text-align: right;\">0.00</td></tr>\n",
       "<tr><td style=\"text-align: right;\">876720</td><td style=\"text-align: right;\">136,097,002</td><td>rs112528714</td><td>0</td><td style=\"text-align: right;\">42</td><td style=\"text-align: right;\">33</td><td style=\"text-align: right;\">3.90</td><td style=\"text-align: right;\">9</td><td style=\"text-align: right;\">3.42</td><td style=\"text-align: right;\">0</td><td style=\"text-align: right;\">0.00</td><td style=\"text-align: right;\">0</td><td style=\"text-align: right;\">0.00</td><td style=\"text-align: right;\">0</td><td style=\"text-align: right;\">0.00</td><td style=\"text-align: right;\">0</td><td style=\"text-align: right;\">0.00</td><td style=\"text-align: right;\">0</td><td style=\"text-align: right;\">0.00</td></tr>\n",
       "<tr class=\"even\"><td style=\"text-align: right;\">876728</td><td style=\"text-align: right;\">136,097,738</td><td>rs148329313</td><td>0</td><td style=\"text-align: right;\">39</td><td style=\"text-align: right;\">30</td><td style=\"text-align: right;\">3.82</td><td style=\"text-align: right;\">9</td><td style=\"text-align: right;\">3.68</td><td style=\"text-align: right;\">0</td><td style=\"text-align: right;\">0.00</td><td style=\"text-align: right;\">0</td><td style=\"text-align: right;\">0.00</td><td style=\"text-align: right;\">0</td><td style=\"text-align: right;\">0.00</td><td style=\"text-align: right;\">0</td><td style=\"text-align: right;\">0.00</td><td style=\"text-align: right;\">0</td><td style=\"text-align: right;\">0.00</td></tr>\n",
       "<tr><td style=\"text-align: right;\">876739</td><td style=\"text-align: right;\">136,099,233</td><td>rs150773475</td><td>0</td><td style=\"text-align: right;\">42</td><td style=\"text-align: right;\">32</td><td style=\"text-align: right;\">3.79</td><td style=\"text-align: right;\">9</td><td style=\"text-align: right;\">3.42</td><td style=\"text-align: right;\">0</td><td style=\"text-align: right;\">0.00</td><td style=\"text-align: right;\">0</td><td style=\"text-align: right;\">0.00</td><td style=\"text-align: right;\">0</td><td style=\"text-align: right;\">0.00</td><td style=\"text-align: right;\">1</td><td style=\"text-align: right;\">0.33</td><td style=\"text-align: right;\">0</td><td style=\"text-align: right;\">0.00</td></tr>\n",
       "<tr class=\"even\"><td style=\"text-align: right;\">876740</td><td style=\"text-align: right;\">136,099,268</td><td>rs192295450</td><td>0</td><td style=\"text-align: right;\">41</td><td style=\"text-align: right;\">32</td><td style=\"text-align: right;\">3.88</td><td style=\"text-align: right;\">9</td><td style=\"text-align: right;\">3.50</td><td style=\"text-align: right;\">0</td><td style=\"text-align: right;\">0.00</td><td style=\"text-align: right;\">0</td><td style=\"text-align: right;\">0.00</td><td style=\"text-align: right;\">0</td><td style=\"text-align: right;\">0.00</td><td style=\"text-align: right;\">0</td><td style=\"text-align: right;\">0.00</td><td style=\"text-align: right;\">0</td><td style=\"text-align: right;\">0.00</td></tr>\n",
       "<tr><td style=\"text-align: right;\">876741</td><td style=\"text-align: right;\">136,099,313</td><td>rs114494124</td><td>0</td><td style=\"text-align: right;\">41</td><td style=\"text-align: right;\">32</td><td style=\"text-align: right;\">3.88</td><td style=\"text-align: right;\">9</td><td style=\"text-align: right;\">3.50</td><td style=\"text-align: right;\">0</td><td style=\"text-align: right;\">0.00</td><td style=\"text-align: right;\">0</td><td style=\"text-align: right;\">0.00</td><td style=\"text-align: right;\">0</td><td style=\"text-align: right;\">0.00</td><td style=\"text-align: right;\">0</td><td style=\"text-align: right;\">0.00</td><td style=\"text-align: right;\">0</td><td style=\"text-align: right;\">0.00</td></tr>\n",
       "<tr class=\"even\"><td style=\"text-align: right;\">876743</td><td style=\"text-align: right;\">136,099,392</td><td>rs145313265</td><td>0</td><td style=\"text-align: right;\">41</td><td style=\"text-align: right;\">32</td><td style=\"text-align: right;\">3.88</td><td style=\"text-align: right;\">9</td><td style=\"text-align: right;\">3.50</td><td style=\"text-align: right;\">0</td><td style=\"text-align: right;\">0.00</td><td style=\"text-align: right;\">0</td><td style=\"text-align: right;\">0.00</td><td style=\"text-align: right;\">0</td><td style=\"text-align: right;\">0.00</td><td style=\"text-align: right;\">0</td><td style=\"text-align: right;\">0.00</td><td style=\"text-align: right;\">0</td><td style=\"text-align: right;\">0.00</td></tr>\n",
       "<tr><td style=\"text-align: right;\">876744</td><td style=\"text-align: right;\">136,099,600</td><td>rs147663887</td><td>0</td><td style=\"text-align: right;\">41</td><td style=\"text-align: right;\">32</td><td style=\"text-align: right;\">3.88</td><td style=\"text-align: right;\">9</td><td style=\"text-align: right;\">3.50</td><td style=\"text-align: right;\">0</td><td style=\"text-align: right;\">0.00</td><td style=\"text-align: right;\">0</td><td style=\"text-align: right;\">0.00</td><td style=\"text-align: right;\">0</td><td style=\"text-align: right;\">0.00</td><td style=\"text-align: right;\">0</td><td style=\"text-align: right;\">0.00</td><td style=\"text-align: right;\">0</td><td style=\"text-align: right;\">0.00</td></tr>\n",
       "<tr class=\"even\"><td style=\"text-align: right;\">876761</td><td style=\"text-align: right;\">136,101,998</td><td>rs115789342</td><td>0</td><td style=\"text-align: right;\">39</td><td style=\"text-align: right;\">30</td><td style=\"text-align: right;\">3.82</td><td style=\"text-align: right;\">9</td><td style=\"text-align: right;\">3.68</td><td style=\"text-align: right;\">0</td><td style=\"text-align: right;\">0.00</td><td style=\"text-align: right;\">0</td><td style=\"text-align: right;\">0.00</td><td style=\"text-align: right;\">0</td><td style=\"text-align: right;\">0.00</td><td style=\"text-align: right;\">0</td><td style=\"text-align: right;\">0.00</td><td style=\"text-align: right;\">0</td><td style=\"text-align: right;\">0.00</td></tr>\n",
       "<tr><td style=\"text-align: right;\">876764</td><td style=\"text-align: right;\">136,102,318</td><td>rs79401422</td><td>0</td><td style=\"text-align: right;\">39</td><td style=\"text-align: right;\">30</td><td style=\"text-align: right;\">3.82</td><td style=\"text-align: right;\">9</td><td style=\"text-align: right;\">3.68</td><td style=\"text-align: right;\">0</td><td style=\"text-align: right;\">0.00</td><td style=\"text-align: right;\">0</td><td style=\"text-align: right;\">0.00</td><td style=\"text-align: right;\">0</td><td style=\"text-align: right;\">0.00</td><td style=\"text-align: right;\">0</td><td style=\"text-align: right;\">0.00</td><td style=\"text-align: right;\">0</td><td style=\"text-align: right;\">0.00</td></tr>\n",
       "<tr class=\"even\"><td style=\"text-align: right;\">876767</td><td style=\"text-align: right;\">136,103,641</td><td>rs140615213</td><td>0</td><td style=\"text-align: right;\">39</td><td style=\"text-align: right;\">30</td><td style=\"text-align: right;\">3.82</td><td style=\"text-align: right;\">9</td><td style=\"text-align: right;\">3.68</td><td style=\"text-align: right;\">0</td><td style=\"text-align: right;\">0.00</td><td style=\"text-align: right;\">0</td><td style=\"text-align: right;\">0.00</td><td style=\"text-align: right;\">0</td><td style=\"text-align: right;\">0.00</td><td style=\"text-align: right;\">0</td><td style=\"text-align: right;\">0.00</td><td style=\"text-align: right;\">0</td><td style=\"text-align: right;\">0.00</td></tr>\n",
       "<tr><td style=\"text-align: right;\">876772</td><td style=\"text-align: right;\">136,104,751</td><td>rs74325801</td><td>0</td><td style=\"text-align: right;\">42</td><td style=\"text-align: right;\">33</td><td style=\"text-align: right;\">3.90</td><td style=\"text-align: right;\">9</td><td style=\"text-align: right;\">3.42</td><td style=\"text-align: right;\">0</td><td style=\"text-align: right;\">0.00</td><td style=\"text-align: right;\">0</td><td style=\"text-align: right;\">0.00</td><td style=\"text-align: right;\">0</td><td style=\"text-align: right;\">0.00</td><td style=\"text-align: right;\">0</td><td style=\"text-align: right;\">0.00</td><td style=\"text-align: right;\">0</td><td style=\"text-align: right;\">0.00</td></tr>\n",
       "<tr class=\"even\"><td style=\"text-align: right;\">876779</td><td style=\"text-align: right;\">136,105,231</td><td>rs79725993</td><td>0</td><td style=\"text-align: right;\">39</td><td style=\"text-align: right;\">30</td><td style=\"text-align: right;\">3.82</td><td style=\"text-align: right;\">9</td><td style=\"text-align: right;\">3.68</td><td style=\"text-align: right;\">0</td><td style=\"text-align: right;\">0.00</td><td style=\"text-align: right;\">0</td><td style=\"text-align: right;\">0.00</td><td style=\"text-align: right;\">0</td><td style=\"text-align: right;\">0.00</td><td style=\"text-align: right;\">0</td><td style=\"text-align: right;\">0.00</td><td style=\"text-align: right;\">0</td><td style=\"text-align: right;\">0.00</td></tr>\n",
       "<tr><td style=\"text-align: right;\">876809</td><td style=\"text-align: right;\">136,110,600</td><td>rs77778849</td><td>0</td><td style=\"text-align: right;\">39</td><td style=\"text-align: right;\">30</td><td style=\"text-align: right;\">3.82</td><td style=\"text-align: right;\">9</td><td style=\"text-align: right;\">3.68</td><td style=\"text-align: right;\">0</td><td style=\"text-align: right;\">0.00</td><td style=\"text-align: right;\">0</td><td style=\"text-align: right;\">0.00</td><td style=\"text-align: right;\">0</td><td style=\"text-align: right;\">0.00</td><td style=\"text-align: right;\">0</td><td style=\"text-align: right;\">0.00</td><td style=\"text-align: right;\">0</td><td style=\"text-align: right;\">0.00</td></tr>\n",
       "<tr class=\"even\"><td style=\"text-align: right;\">876978</td><td style=\"text-align: right;\">136,141,614</td><td>rs142812661</td><td>0</td><td style=\"text-align: right;\">40</td><td style=\"text-align: right;\">29</td><td style=\"text-align: right;\">3.60</td><td style=\"text-align: right;\">9</td><td style=\"text-align: right;\">3.59</td><td style=\"text-align: right;\">1</td><td style=\"text-align: right;\">0.18</td><td style=\"text-align: right;\">0</td><td style=\"text-align: right;\">0.00</td><td style=\"text-align: right;\">1</td><td style=\"text-align: right;\">0.12</td><td style=\"text-align: right;\">0</td><td style=\"text-align: right;\">0.00</td><td style=\"text-align: right;\">0</td><td style=\"text-align: right;\">0.00</td></tr>\n",
       "<tr><td style=\"text-align: right;\">877056</td><td style=\"text-align: right;\">136,155,741</td><td>rs190418969</td><td>0</td><td style=\"text-align: right;\">38</td><td style=\"text-align: right;\">29</td><td style=\"text-align: right;\">3.79</td><td style=\"text-align: right;\">9</td><td style=\"text-align: right;\">3.78</td><td style=\"text-align: right;\">0</td><td style=\"text-align: right;\">0.00</td><td style=\"text-align: right;\">0</td><td style=\"text-align: right;\">0.00</td><td style=\"text-align: right;\">0</td><td style=\"text-align: right;\">0.00</td><td style=\"text-align: right;\">0</td><td style=\"text-align: right;\">0.00</td><td style=\"text-align: right;\">0</td><td style=\"text-align: right;\">0.00</td></tr>\n",
       "<tr class=\"even\"><td style=\"text-align: right;\">877166</td><td style=\"text-align: right;\">136,167,542</td><td>rs145974690</td><td>0</td><td style=\"text-align: right;\">38</td><td style=\"text-align: right;\">29</td><td style=\"text-align: right;\">3.79</td><td style=\"text-align: right;\">9</td><td style=\"text-align: right;\">3.78</td><td style=\"text-align: right;\">0</td><td style=\"text-align: right;\">0.00</td><td style=\"text-align: right;\">0</td><td style=\"text-align: right;\">0.00</td><td style=\"text-align: right;\">0</td><td style=\"text-align: right;\">0.00</td><td style=\"text-align: right;\">0</td><td style=\"text-align: right;\">0.00</td><td style=\"text-align: right;\">0</td><td style=\"text-align: right;\">0.00</td></tr>\n",
       "<tr><td style=\"text-align: right;\">877168</td><td style=\"text-align: right;\">136,167,734</td><td>rs143379501</td><td>0</td><td style=\"text-align: right;\">38</td><td style=\"text-align: right;\">29</td><td style=\"text-align: right;\">3.79</td><td style=\"text-align: right;\">9</td><td style=\"text-align: right;\">3.78</td><td style=\"text-align: right;\">0</td><td style=\"text-align: right;\">0.00</td><td style=\"text-align: right;\">0</td><td style=\"text-align: right;\">0.00</td><td style=\"text-align: right;\">0</td><td style=\"text-align: right;\">0.00</td><td style=\"text-align: right;\">0</td><td style=\"text-align: right;\">0.00</td><td style=\"text-align: right;\">0</td><td style=\"text-align: right;\">0.00</td></tr>\n",
       "<tr class=\"even\"><td style=\"text-align: right;\">877208</td><td style=\"text-align: right;\">136,173,522</td><td>.</td><td>0</td><td style=\"text-align: right;\">38</td><td style=\"text-align: right;\">29</td><td style=\"text-align: right;\">3.79</td><td style=\"text-align: right;\">9</td><td style=\"text-align: right;\">3.78</td><td style=\"text-align: right;\">0</td><td style=\"text-align: right;\">0.00</td><td style=\"text-align: right;\">0</td><td style=\"text-align: right;\">0.00</td><td style=\"text-align: right;\">0</td><td style=\"text-align: right;\">0.00</td><td style=\"text-align: right;\">0</td><td style=\"text-align: right;\">0.00</td><td style=\"text-align: right;\">0</td><td style=\"text-align: right;\">0.00</td></tr>\n",
       "<tr><td style=\"text-align: right;\">877338</td><td style=\"text-align: right;\">136,200,928</td><td>.</td><td>0</td><td style=\"text-align: right;\">39</td><td style=\"text-align: right;\">29</td><td style=\"text-align: right;\">3.69</td><td style=\"text-align: right;\">9</td><td style=\"text-align: right;\">3.68</td><td style=\"text-align: right;\">0</td><td style=\"text-align: right;\">0.00</td><td style=\"text-align: right;\">0</td><td style=\"text-align: right;\">0.00</td><td style=\"text-align: right;\">1</td><td style=\"text-align: right;\">0.13</td><td style=\"text-align: right;\">0</td><td style=\"text-align: right;\">0.00</td><td style=\"text-align: right;\">0</td><td style=\"text-align: right;\">0.00</td></tr>\n",
       "<tr class=\"even\"><td style=\"text-align: right;\">877376</td><td style=\"text-align: right;\">136,208,960</td><td>rs138451143</td><td>0</td><td style=\"text-align: right;\">38</td><td style=\"text-align: right;\">29</td><td style=\"text-align: right;\">3.79</td><td style=\"text-align: right;\">9</td><td style=\"text-align: right;\">3.78</td><td style=\"text-align: right;\">0</td><td style=\"text-align: right;\">0.00</td><td style=\"text-align: right;\">0</td><td style=\"text-align: right;\">0.00</td><td style=\"text-align: right;\">0</td><td style=\"text-align: right;\">0.00</td><td style=\"text-align: right;\">0</td><td style=\"text-align: right;\">0.00</td><td style=\"text-align: right;\">0</td><td style=\"text-align: right;\">0.00</td></tr>\n",
       "<tr><td style=\"text-align: right;\">877389</td><td style=\"text-align: right;\">136,212,354</td><td>rs78529627</td><td>0</td><td style=\"text-align: right;\">38</td><td style=\"text-align: right;\">29</td><td style=\"text-align: right;\">3.79</td><td style=\"text-align: right;\">9</td><td style=\"text-align: right;\">3.78</td><td style=\"text-align: right;\">0</td><td style=\"text-align: right;\">0.00</td><td style=\"text-align: right;\">0</td><td style=\"text-align: right;\">0.00</td><td style=\"text-align: right;\">0</td><td style=\"text-align: right;\">0.00</td><td style=\"text-align: right;\">0</td><td style=\"text-align: right;\">0.00</td><td style=\"text-align: right;\">0</td><td style=\"text-align: right;\">0.00</td></tr>\n",
       "<tr class=\"even\"><td style=\"text-align: right;\">877405</td><td style=\"text-align: right;\">136,214,632</td><td>rs78092258</td><td>0</td><td style=\"text-align: right;\">38</td><td style=\"text-align: right;\">29</td><td style=\"text-align: right;\">3.79</td><td style=\"text-align: right;\">9</td><td style=\"text-align: right;\">3.78</td><td style=\"text-align: right;\">0</td><td style=\"text-align: right;\">0.00</td><td style=\"text-align: right;\">0</td><td style=\"text-align: right;\">0.00</td><td style=\"text-align: right;\">0</td><td style=\"text-align: right;\">0.00</td><td style=\"text-align: right;\">0</td><td style=\"text-align: right;\">0.00</td><td style=\"text-align: right;\">0</td><td style=\"text-align: right;\">0.00</td></tr>\n",
       "<tr><td style=\"text-align: right;\">877441</td><td style=\"text-align: right;\">136,224,764</td><td>rs183028871</td><td>0</td><td style=\"text-align: right;\">38</td><td style=\"text-align: right;\">29</td><td style=\"text-align: right;\">3.79</td><td style=\"text-align: right;\">9</td><td style=\"text-align: right;\">3.78</td><td style=\"text-align: right;\">0</td><td style=\"text-align: right;\">0.00</td><td style=\"text-align: right;\">0</td><td style=\"text-align: right;\">0.00</td><td style=\"text-align: right;\">0</td><td style=\"text-align: right;\">0.00</td><td style=\"text-align: right;\">0</td><td style=\"text-align: right;\">0.00</td><td style=\"text-align: right;\">0</td><td style=\"text-align: right;\">0.00</td></tr>\n",
       "<tr class=\"even\"><td style=\"text-align: right;\">877511</td><td style=\"text-align: right;\">136,238,787</td><td>.</td><td>0</td><td style=\"text-align: right;\">40</td><td style=\"text-align: right;\">30</td><td style=\"text-align: right;\">3.73</td><td style=\"text-align: right;\">9</td><td style=\"text-align: right;\">3.59</td><td style=\"text-align: right;\">1</td><td style=\"text-align: right;\">0.18</td><td style=\"text-align: right;\">0</td><td style=\"text-align: right;\">0.00</td><td style=\"text-align: right;\">0</td><td style=\"text-align: right;\">0.00</td><td style=\"text-align: right;\">0</td><td style=\"text-align: right;\">0.00</td><td style=\"text-align: right;\">0</td><td style=\"text-align: right;\">0.00</td></tr>\n",
       "<tr><td style=\"text-align: right;\">877548</td><td style=\"text-align: right;\">136,245,577</td><td>rs115842943</td><td>0</td><td style=\"text-align: right;\">38</td><td style=\"text-align: right;\">29</td><td style=\"text-align: right;\">3.79</td><td style=\"text-align: right;\">9</td><td style=\"text-align: right;\">3.78</td><td style=\"text-align: right;\">0</td><td style=\"text-align: right;\">0.00</td><td style=\"text-align: right;\">0</td><td style=\"text-align: right;\">0.00</td><td style=\"text-align: right;\">0</td><td style=\"text-align: right;\">0.00</td><td style=\"text-align: right;\">0</td><td style=\"text-align: right;\">0.00</td><td style=\"text-align: right;\">0</td><td style=\"text-align: right;\">0.00</td></tr>\n",
       "<tr class=\"even\"><td style=\"text-align: right;\">877568</td><td style=\"text-align: right;\">136,249,387</td><td>rs114456174</td><td>0</td><td style=\"text-align: right;\">38</td><td style=\"text-align: right;\">29</td><td style=\"text-align: right;\">3.79</td><td style=\"text-align: right;\">9</td><td style=\"text-align: right;\">3.78</td><td style=\"text-align: right;\">0</td><td style=\"text-align: right;\">0.00</td><td style=\"text-align: right;\">0</td><td style=\"text-align: right;\">0.00</td><td style=\"text-align: right;\">0</td><td style=\"text-align: right;\">0.00</td><td style=\"text-align: right;\">0</td><td style=\"text-align: right;\">0.00</td><td style=\"text-align: right;\">0</td><td style=\"text-align: right;\">0.00</td></tr>\n",
       "<tr><td style=\"text-align: right;\">877746</td><td style=\"text-align: right;\">136,287,142</td><td>rs78980926</td><td>0</td><td style=\"text-align: right;\">38</td><td style=\"text-align: right;\">29</td><td style=\"text-align: right;\">3.79</td><td style=\"text-align: right;\">9</td><td style=\"text-align: right;\">3.78</td><td style=\"text-align: right;\">0</td><td style=\"text-align: right;\">0.00</td><td style=\"text-align: right;\">0</td><td style=\"text-align: right;\">0.00</td><td style=\"text-align: right;\">0</td><td style=\"text-align: right;\">0.00</td><td style=\"text-align: right;\">0</td><td style=\"text-align: right;\">0.00</td><td style=\"text-align: right;\">0</td><td style=\"text-align: right;\">0.00</td></tr>\n",
       "<tr class=\"even\"><td style=\"text-align: right;\">877803</td><td style=\"text-align: right;\">136,300,240</td><td>rs77255483</td><td>0</td><td style=\"text-align: right;\">38</td><td style=\"text-align: right;\">29</td><td style=\"text-align: right;\">3.79</td><td style=\"text-align: right;\">9</td><td style=\"text-align: right;\">3.78</td><td style=\"text-align: right;\">0</td><td style=\"text-align: right;\">0.00</td><td style=\"text-align: right;\">0</td><td style=\"text-align: right;\">0.00</td><td style=\"text-align: right;\">0</td><td style=\"text-align: right;\">0.00</td><td style=\"text-align: right;\">0</td><td style=\"text-align: right;\">0.00</td><td style=\"text-align: right;\">0</td><td style=\"text-align: right;\">0.00</td></tr>\n",
       "<tr><td style=\"text-align: right;\">877869</td><td style=\"text-align: right;\">136,315,915</td><td>rs77458369</td><td>0</td><td style=\"text-align: right;\">38</td><td style=\"text-align: right;\">29</td><td style=\"text-align: right;\">3.79</td><td style=\"text-align: right;\">9</td><td style=\"text-align: right;\">3.78</td><td style=\"text-align: right;\">0</td><td style=\"text-align: right;\">0.00</td><td style=\"text-align: right;\">0</td><td style=\"text-align: right;\">0.00</td><td style=\"text-align: right;\">0</td><td style=\"text-align: right;\">0.00</td><td style=\"text-align: right;\">0</td><td style=\"text-align: right;\">0.00</td><td style=\"text-align: right;\">0</td><td style=\"text-align: right;\">0.00</td></tr>\n",
       "<tr class=\"even\"><td style=\"text-align: right;\">877911</td><td style=\"text-align: right;\">136,323,839</td><td>rs142121893</td><td>0</td><td style=\"text-align: right;\">38</td><td style=\"text-align: right;\">29</td><td style=\"text-align: right;\">3.79</td><td style=\"text-align: right;\">9</td><td style=\"text-align: right;\">3.78</td><td style=\"text-align: right;\">0</td><td style=\"text-align: right;\">0.00</td><td style=\"text-align: right;\">0</td><td style=\"text-align: right;\">0.00</td><td style=\"text-align: right;\">0</td><td style=\"text-align: right;\">0.00</td><td style=\"text-align: right;\">0</td><td style=\"text-align: right;\">0.00</td><td style=\"text-align: right;\">0</td><td style=\"text-align: right;\">0.00</td></tr>\n",
       "<tr><td style=\"text-align: right;\">877923</td><td style=\"text-align: right;\">136,325,806</td><td>rs115303977</td><td>0</td><td style=\"text-align: right;\">38</td><td style=\"text-align: right;\">29</td><td style=\"text-align: right;\">3.79</td><td style=\"text-align: right;\">9</td><td style=\"text-align: right;\">3.78</td><td style=\"text-align: right;\">0</td><td style=\"text-align: right;\">0.00</td><td style=\"text-align: right;\">0</td><td style=\"text-align: right;\">0.00</td><td style=\"text-align: right;\">0</td><td style=\"text-align: right;\">0.00</td><td style=\"text-align: right;\">0</td><td style=\"text-align: right;\">0.00</td><td style=\"text-align: right;\">0</td><td style=\"text-align: right;\">0.00</td></tr>\n",
       "<tr class=\"even\"><td style=\"text-align: right;\">878010</td><td style=\"text-align: right;\">136,351,404</td><td>rs147713032</td><td>0</td><td style=\"text-align: right;\">39</td><td style=\"text-align: right;\">30</td><td style=\"text-align: right;\">3.82</td><td style=\"text-align: right;\">9</td><td style=\"text-align: right;\">3.68</td><td style=\"text-align: right;\">0</td><td style=\"text-align: right;\">0.00</td><td style=\"text-align: right;\">0</td><td style=\"text-align: right;\">0.00</td><td style=\"text-align: right;\">0</td><td style=\"text-align: right;\">0.00</td><td style=\"text-align: right;\">0</td><td style=\"text-align: right;\">0.00</td><td style=\"text-align: right;\">0</td><td style=\"text-align: right;\">0.00</td></tr>\n",
       "<tr><td style=\"text-align: right;\">878100</td><td style=\"text-align: right;\">136,374,709</td><td>rs185523475</td><td>0</td><td style=\"text-align: right;\">40</td><td style=\"text-align: right;\">29</td><td style=\"text-align: right;\">3.60</td><td style=\"text-align: right;\">9</td><td style=\"text-align: right;\">3.59</td><td style=\"text-align: right;\">1</td><td style=\"text-align: right;\">0.18</td><td style=\"text-align: right;\">0</td><td style=\"text-align: right;\">0.00</td><td style=\"text-align: right;\">1</td><td style=\"text-align: right;\">0.12</td><td style=\"text-align: right;\">0</td><td style=\"text-align: right;\">0.00</td><td style=\"text-align: right;\">0</td><td style=\"text-align: right;\">0.00</td></tr>\n",
       "<tr class=\"even\"><td style=\"text-align: right;\">878137</td><td style=\"text-align: right;\">136,383,408</td><td>rs76980924</td><td>0</td><td style=\"text-align: right;\">39</td><td style=\"text-align: right;\">29</td><td style=\"text-align: right;\">3.69</td><td style=\"text-align: right;\">9</td><td style=\"text-align: right;\">3.68</td><td style=\"text-align: right;\">1</td><td style=\"text-align: right;\">0.19</td><td style=\"text-align: right;\">0</td><td style=\"text-align: right;\">0.00</td><td style=\"text-align: right;\">0</td><td style=\"text-align: right;\">0.00</td><td style=\"text-align: right;\">0</td><td style=\"text-align: right;\">0.00</td><td style=\"text-align: right;\">0</td><td style=\"text-align: right;\">0.00</td></tr>\n",
       "<tr><td style=\"text-align: right;\">878184</td><td style=\"text-align: right;\">136,395,527</td><td>rs115593345</td><td>0</td><td style=\"text-align: right;\">39</td><td style=\"text-align: right;\">29</td><td style=\"text-align: right;\">3.69</td><td style=\"text-align: right;\">9</td><td style=\"text-align: right;\">3.68</td><td style=\"text-align: right;\">1</td><td style=\"text-align: right;\">0.19</td><td style=\"text-align: right;\">0</td><td style=\"text-align: right;\">0.00</td><td style=\"text-align: right;\">0</td><td style=\"text-align: right;\">0.00</td><td style=\"text-align: right;\">0</td><td style=\"text-align: right;\">0.00</td><td style=\"text-align: right;\">0</td><td style=\"text-align: right;\">0.00</td></tr>\n",
       "<tr class=\"even\"><td style=\"text-align: right;\">878427</td><td style=\"text-align: right;\">136,443,777</td><td>rs78766702</td><td>0</td><td style=\"text-align: right;\">39</td><td style=\"text-align: right;\">29</td><td style=\"text-align: right;\">3.69</td><td style=\"text-align: right;\">9</td><td style=\"text-align: right;\">3.68</td><td style=\"text-align: right;\">1</td><td style=\"text-align: right;\">0.19</td><td style=\"text-align: right;\">0</td><td style=\"text-align: right;\">0.00</td><td style=\"text-align: right;\">0</td><td style=\"text-align: right;\">0.00</td><td style=\"text-align: right;\">0</td><td style=\"text-align: right;\">0.00</td><td style=\"text-align: right;\">0</td><td style=\"text-align: right;\">0.00</td></tr>\n",
       "<tr><td style=\"text-align: right;\">878477</td><td style=\"text-align: right;\">136,452,973</td><td>rs78103558</td><td>0</td><td style=\"text-align: right;\">39</td><td style=\"text-align: right;\">29</td><td style=\"text-align: right;\">3.69</td><td style=\"text-align: right;\">9</td><td style=\"text-align: right;\">3.68</td><td style=\"text-align: right;\">1</td><td style=\"text-align: right;\">0.19</td><td style=\"text-align: right;\">0</td><td style=\"text-align: right;\">0.00</td><td style=\"text-align: right;\">0</td><td style=\"text-align: right;\">0.00</td><td style=\"text-align: right;\">0</td><td style=\"text-align: right;\">0.00</td><td style=\"text-align: right;\">0</td><td style=\"text-align: right;\">0.00</td></tr>\n",
       "<tr class=\"even\"><td style=\"text-align: right;\">878499</td><td style=\"text-align: right;\">136,458,553</td><td>rs75428738</td><td>0</td><td style=\"text-align: right;\">39</td><td style=\"text-align: right;\">29</td><td style=\"text-align: right;\">3.69</td><td style=\"text-align: right;\">9</td><td style=\"text-align: right;\">3.68</td><td style=\"text-align: right;\">1</td><td style=\"text-align: right;\">0.19</td><td style=\"text-align: right;\">0</td><td style=\"text-align: right;\">0.00</td><td style=\"text-align: right;\">0</td><td style=\"text-align: right;\">0.00</td><td style=\"text-align: right;\">0</td><td style=\"text-align: right;\">0.00</td><td style=\"text-align: right;\">0</td><td style=\"text-align: right;\">0.00</td></tr>\n",
       "<tr><td style=\"text-align: right;\">878600</td><td style=\"text-align: right;\">136,483,234</td><td>rs76653366</td><td>0</td><td style=\"text-align: right;\">39</td><td style=\"text-align: right;\">29</td><td style=\"text-align: right;\">3.69</td><td style=\"text-align: right;\">9</td><td style=\"text-align: right;\">3.68</td><td style=\"text-align: right;\">1</td><td style=\"text-align: right;\">0.19</td><td style=\"text-align: right;\">0</td><td style=\"text-align: right;\">0.00</td><td style=\"text-align: right;\">0</td><td style=\"text-align: right;\">0.00</td><td style=\"text-align: right;\">0</td><td style=\"text-align: right;\">0.00</td><td style=\"text-align: right;\">0</td><td style=\"text-align: right;\">0.00</td></tr>\n",
       "<tr class=\"even\"><td style=\"text-align: right;\">878635</td><td style=\"text-align: right;\">136,489,698</td><td>rs191432206</td><td>0</td><td style=\"text-align: right;\">40</td><td style=\"text-align: right;\">28</td><td style=\"text-align: right;\">3.48</td><td style=\"text-align: right;\">10</td><td style=\"text-align: right;\">3.99</td><td style=\"text-align: right;\">1</td><td style=\"text-align: right;\">0.18</td><td style=\"text-align: right;\">1</td><td style=\"text-align: right;\">0.12</td><td style=\"text-align: right;\">0</td><td style=\"text-align: right;\">0.00</td><td style=\"text-align: right;\">0</td><td style=\"text-align: right;\">0.00</td><td style=\"text-align: right;\">0</td><td style=\"text-align: right;\">0.00</td></tr>\n",
       "<tr><td style=\"text-align: right;\">878697</td><td style=\"text-align: right;\">136,499,415</td><td>rs111285988</td><td>0</td><td style=\"text-align: right;\">40</td><td style=\"text-align: right;\">30</td><td style=\"text-align: right;\">3.73</td><td style=\"text-align: right;\">9</td><td style=\"text-align: right;\">3.59</td><td style=\"text-align: right;\">1</td><td style=\"text-align: right;\">0.18</td><td style=\"text-align: right;\">0</td><td style=\"text-align: right;\">0.00</td><td style=\"text-align: right;\">0</td><td style=\"text-align: right;\">0.00</td><td style=\"text-align: right;\">0</td><td style=\"text-align: right;\">0.00</td><td style=\"text-align: right;\">0</td><td style=\"text-align: right;\">0.00</td></tr>\n",
       "<tr class=\"even\"><td style=\"text-align: right;\">878709</td><td style=\"text-align: right;\">136,502,673</td><td>rs115422652</td><td>0</td><td style=\"text-align: right;\">41</td><td style=\"text-align: right;\">31</td><td style=\"text-align: right;\">3.76</td><td style=\"text-align: right;\">9</td><td style=\"text-align: right;\">3.50</td><td style=\"text-align: right;\">1</td><td style=\"text-align: right;\">0.18</td><td style=\"text-align: right;\">0</td><td style=\"text-align: right;\">0.00</td><td style=\"text-align: right;\">0</td><td style=\"text-align: right;\">0.00</td><td style=\"text-align: right;\">0</td><td style=\"text-align: right;\">0.00</td><td style=\"text-align: right;\">0</td><td style=\"text-align: right;\">0.00</td></tr>\n",
       "<tr><td style=\"text-align: right;\">878764</td><td style=\"text-align: right;\">136,512,583</td><td>rs140956393</td><td>0</td><td style=\"text-align: right;\">41</td><td style=\"text-align: right;\">31</td><td style=\"text-align: right;\">3.76</td><td style=\"text-align: right;\">9</td><td style=\"text-align: right;\">3.50</td><td style=\"text-align: right;\">1</td><td style=\"text-align: right;\">0.18</td><td style=\"text-align: right;\">0</td><td style=\"text-align: right;\">0.00</td><td style=\"text-align: right;\">0</td><td style=\"text-align: right;\">0.00</td><td style=\"text-align: right;\">0</td><td style=\"text-align: right;\">0.00</td><td style=\"text-align: right;\">0</td><td style=\"text-align: right;\">0.00</td></tr>\n",
       "<tr class=\"even\"><td style=\"text-align: right;\">878865</td><td style=\"text-align: right;\">136,530,739</td><td>rs78670352</td><td>0</td><td style=\"text-align: right;\">43</td><td style=\"text-align: right;\">32</td><td style=\"text-align: right;\">3.70</td><td style=\"text-align: right;\">9</td><td style=\"text-align: right;\">3.34</td><td style=\"text-align: right;\">1</td><td style=\"text-align: right;\">0.17</td><td style=\"text-align: right;\">0</td><td style=\"text-align: right;\">0.00</td><td style=\"text-align: right;\">0</td><td style=\"text-align: right;\">0.00</td><td style=\"text-align: right;\">0</td><td style=\"text-align: right;\">0.00</td><td style=\"text-align: right;\">1</td><td style=\"text-align: right;\">0.19</td></tr>\n",
       "<tr><td style=\"text-align: right;\">878888</td><td style=\"text-align: right;\">136,535,726</td><td>rs192602049</td><td>0</td><td style=\"text-align: right;\">41</td><td style=\"text-align: right;\">31</td><td style=\"text-align: right;\">3.76</td><td style=\"text-align: right;\">9</td><td style=\"text-align: right;\">3.50</td><td style=\"text-align: right;\">1</td><td style=\"text-align: right;\">0.18</td><td style=\"text-align: right;\">0</td><td style=\"text-align: right;\">0.00</td><td style=\"text-align: right;\">0</td><td style=\"text-align: right;\">0.00</td><td style=\"text-align: right;\">0</td><td style=\"text-align: right;\">0.00</td><td style=\"text-align: right;\">0</td><td style=\"text-align: right;\">0.00</td></tr>\n",
       "<tr class=\"even\"><td style=\"text-align: right;\">878912</td><td style=\"text-align: right;\">136,541,009</td><td>rs80218406</td><td>0</td><td style=\"text-align: right;\">41</td><td style=\"text-align: right;\">31</td><td style=\"text-align: right;\">3.76</td><td style=\"text-align: right;\">9</td><td style=\"text-align: right;\">3.50</td><td style=\"text-align: right;\">1</td><td style=\"text-align: right;\">0.18</td><td style=\"text-align: right;\">0</td><td style=\"text-align: right;\">0.00</td><td style=\"text-align: right;\">0</td><td style=\"text-align: right;\">0.00</td><td style=\"text-align: right;\">0</td><td style=\"text-align: right;\">0.00</td><td style=\"text-align: right;\">0</td><td style=\"text-align: right;\">0.00</td></tr>\n",
       "<tr><td style=\"text-align: right;\">878981</td><td style=\"text-align: right;\">136,553,668</td><td>rs115694745</td><td>0</td><td style=\"text-align: right;\">41</td><td style=\"text-align: right;\">31</td><td style=\"text-align: right;\">3.76</td><td style=\"text-align: right;\">9</td><td style=\"text-align: right;\">3.50</td><td style=\"text-align: right;\">1</td><td style=\"text-align: right;\">0.18</td><td style=\"text-align: right;\">0</td><td style=\"text-align: right;\">0.00</td><td style=\"text-align: right;\">0</td><td style=\"text-align: right;\">0.00</td><td style=\"text-align: right;\">0</td><td style=\"text-align: right;\">0.00</td><td style=\"text-align: right;\">0</td><td style=\"text-align: right;\">0.00</td></tr>\n",
       "<tr class=\"even\"><td style=\"text-align: right;\">878983</td><td style=\"text-align: right;\">136,553,741</td><td>rs78859047</td><td>0</td><td style=\"text-align: right;\">45</td><td style=\"text-align: right;\">31</td><td style=\"text-align: right;\">3.42</td><td style=\"text-align: right;\">9</td><td style=\"text-align: right;\">3.19</td><td style=\"text-align: right;\">1</td><td style=\"text-align: right;\">0.16</td><td style=\"text-align: right;\">0</td><td style=\"text-align: right;\">0.00</td><td style=\"text-align: right;\">4</td><td style=\"text-align: right;\">0.44</td><td style=\"text-align: right;\">0</td><td style=\"text-align: right;\">0.00</td><td style=\"text-align: right;\">0</td><td style=\"text-align: right;\">0.00</td></tr>\n",
       "<tr><td style=\"text-align: right;\">879079</td><td style=\"text-align: right;\">136,575,300</td><td>rs35940156</td><td>0</td><td style=\"text-align: right;\">39</td><td style=\"text-align: right;\">31</td><td style=\"text-align: right;\">3.95</td><td style=\"text-align: right;\">7</td><td style=\"text-align: right;\">2.86</td><td style=\"text-align: right;\">1</td><td style=\"text-align: right;\">0.19</td><td style=\"text-align: right;\">0</td><td style=\"text-align: right;\">0.00</td><td style=\"text-align: right;\">0</td><td style=\"text-align: right;\">0.00</td><td style=\"text-align: right;\">0</td><td style=\"text-align: right;\">0.00</td><td style=\"text-align: right;\">0</td><td style=\"text-align: right;\">0.00</td></tr>\n",
       "<tr class=\"even\"><td style=\"text-align: right;\">879103</td><td style=\"text-align: right;\">136,579,208</td><td>rs111640442</td><td>0</td><td style=\"text-align: right;\">39</td><td style=\"text-align: right;\">31</td><td style=\"text-align: right;\">3.95</td><td style=\"text-align: right;\">7</td><td style=\"text-align: right;\">2.86</td><td style=\"text-align: right;\">1</td><td style=\"text-align: right;\">0.19</td><td style=\"text-align: right;\">0</td><td style=\"text-align: right;\">0.00</td><td style=\"text-align: right;\">0</td><td style=\"text-align: right;\">0.00</td><td style=\"text-align: right;\">0</td><td style=\"text-align: right;\">0.00</td><td style=\"text-align: right;\">0</td><td style=\"text-align: right;\">0.00</td></tr>\n",
       "<tr><td style=\"text-align: right;\">879175</td><td style=\"text-align: right;\">136,589,342</td><td>rs76910635</td><td>0</td><td style=\"text-align: right;\">38</td><td style=\"text-align: right;\">30</td><td style=\"text-align: right;\">3.92</td><td style=\"text-align: right;\">7</td><td style=\"text-align: right;\">2.94</td><td style=\"text-align: right;\">1</td><td style=\"text-align: right;\">0.19</td><td style=\"text-align: right;\">0</td><td style=\"text-align: right;\">0.00</td><td style=\"text-align: right;\">0</td><td style=\"text-align: right;\">0.00</td><td style=\"text-align: right;\">0</td><td style=\"text-align: right;\">0.00</td><td style=\"text-align: right;\">0</td><td style=\"text-align: right;\">0.00</td></tr>\n",
       "<tr class=\"even\"><td style=\"text-align: right;\">879224</td><td style=\"text-align: right;\">136,594,439</td><td>rs35837297</td><td>0</td><td style=\"text-align: right;\">38</td><td style=\"text-align: right;\">30</td><td style=\"text-align: right;\">3.92</td><td style=\"text-align: right;\">7</td><td style=\"text-align: right;\">2.94</td><td style=\"text-align: right;\">1</td><td style=\"text-align: right;\">0.19</td><td style=\"text-align: right;\">0</td><td style=\"text-align: right;\">0.00</td><td style=\"text-align: right;\">0</td><td style=\"text-align: right;\">0.00</td><td style=\"text-align: right;\">0</td><td style=\"text-align: right;\">0.00</td><td style=\"text-align: right;\">0</td><td style=\"text-align: right;\">0.00</td></tr>\n",
       "<tr><td style=\"text-align: right;\">879242</td><td style=\"text-align: right;\">136,598,051</td><td>rs11656</td><td>0</td><td style=\"text-align: right;\">38</td><td style=\"text-align: right;\">30</td><td style=\"text-align: right;\">3.92</td><td style=\"text-align: right;\">7</td><td style=\"text-align: right;\">2.94</td><td style=\"text-align: right;\">1</td><td style=\"text-align: right;\">0.19</td><td style=\"text-align: right;\">0</td><td style=\"text-align: right;\">0.00</td><td style=\"text-align: right;\">0</td><td style=\"text-align: right;\">0.00</td><td style=\"text-align: right;\">0</td><td style=\"text-align: right;\">0.00</td><td style=\"text-align: right;\">0</td><td style=\"text-align: right;\">0.00</td></tr>\n",
       "<tr class=\"even\"><td style=\"text-align: right;\">879246</td><td style=\"text-align: right;\">136,598,747</td><td>rs4988282</td><td>0</td><td style=\"text-align: right;\">38</td><td style=\"text-align: right;\">30</td><td style=\"text-align: right;\">3.92</td><td style=\"text-align: right;\">7</td><td style=\"text-align: right;\">2.94</td><td style=\"text-align: right;\">1</td><td style=\"text-align: right;\">0.19</td><td style=\"text-align: right;\">0</td><td style=\"text-align: right;\">0.00</td><td style=\"text-align: right;\">0</td><td style=\"text-align: right;\">0.00</td><td style=\"text-align: right;\">0</td><td style=\"text-align: right;\">0.00</td><td style=\"text-align: right;\">0</td><td style=\"text-align: right;\">0.00</td></tr>\n",
       "<tr><td style=\"text-align: right;\">879358</td><td style=\"text-align: right;\">136,618,810</td><td>rs4988198</td><td>0</td><td style=\"text-align: right;\">38</td><td style=\"text-align: right;\">30</td><td style=\"text-align: right;\">3.92</td><td style=\"text-align: right;\">7</td><td style=\"text-align: right;\">2.94</td><td style=\"text-align: right;\">1</td><td style=\"text-align: right;\">0.19</td><td style=\"text-align: right;\">0</td><td style=\"text-align: right;\">0.00</td><td style=\"text-align: right;\">0</td><td style=\"text-align: right;\">0.00</td><td style=\"text-align: right;\">0</td><td style=\"text-align: right;\">0.00</td><td style=\"text-align: right;\">0</td><td style=\"text-align: right;\">0.00</td></tr>\n",
       "<tr class=\"even\"><td style=\"text-align: right;\">879474</td><td style=\"text-align: right;\">136,637,332</td><td>rs76347084</td><td>0</td><td style=\"text-align: right;\">38</td><td style=\"text-align: right;\">30</td><td style=\"text-align: right;\">3.92</td><td style=\"text-align: right;\">7</td><td style=\"text-align: right;\">2.94</td><td style=\"text-align: right;\">1</td><td style=\"text-align: right;\">0.19</td><td style=\"text-align: right;\">0</td><td style=\"text-align: right;\">0.00</td><td style=\"text-align: right;\">0</td><td style=\"text-align: right;\">0.00</td><td style=\"text-align: right;\">0</td><td style=\"text-align: right;\">0.00</td><td style=\"text-align: right;\">0</td><td style=\"text-align: right;\">0.00</td></tr>\n",
       "<tr><td style=\"text-align: right;\">879539</td><td style=\"text-align: right;\">136,650,058</td><td>rs139274260</td><td>0</td><td style=\"text-align: right;\">40</td><td style=\"text-align: right;\">31</td><td style=\"text-align: right;\">3.85</td><td style=\"text-align: right;\">7</td><td style=\"text-align: right;\">2.79</td><td style=\"text-align: right;\">1</td><td style=\"text-align: right;\">0.18</td><td style=\"text-align: right;\">0</td><td style=\"text-align: right;\">0.00</td><td style=\"text-align: right;\">0</td><td style=\"text-align: right;\">0.00</td><td style=\"text-align: right;\">0</td><td style=\"text-align: right;\">0.00</td><td style=\"text-align: right;\">1</td><td style=\"text-align: right;\">0.20</td></tr>\n",
       "<tr class=\"even\"><td style=\"text-align: right;\">880193</td><td style=\"text-align: right;\">136,780,494</td><td>rs75223503</td><td>0</td><td style=\"text-align: right;\">41</td><td style=\"text-align: right;\">32</td><td style=\"text-align: right;\">3.88</td><td style=\"text-align: right;\">8</td><td style=\"text-align: right;\">3.11</td><td style=\"text-align: right;\">1</td><td style=\"text-align: right;\">0.18</td><td style=\"text-align: right;\">0</td><td style=\"text-align: right;\">0.00</td><td style=\"text-align: right;\">0</td><td style=\"text-align: right;\">0.00</td><td style=\"text-align: right;\">0</td><td style=\"text-align: right;\">0.00</td><td style=\"text-align: right;\">0</td><td style=\"text-align: right;\">0.00</td></tr>\n",
       "</table>"
      ],
      "text/plain": [
       "<IPython.core.display.HTML object>"
      ]
     },
     "execution_count": 2,
     "metadata": {},
     "output_type": "execute_result"
    }
   ],
   "source": [
    "HTML(dm.series_html(dm.di_147_38))"
   ]
  },
  {
   "cell_type": "code",
   "execution_count": 3,
   "metadata": {
    "collapsed": false
   },
   "outputs": [
    {
     "data": {
      "text/html": [
       "\n",
       "\n",
       "    <div class=\"bk-root\">\n",
       "        <div class=\"plotdiv\" id=\"33ec2fbe-a1ea-43fe-834b-bd2a89fb42e0\"></div>\n",
       "    </div>\n",
       "<script type=\"text/javascript\">\n",
       "  \n",
       "  (function(global) {\n",
       "    function now() {\n",
       "      return new Date();\n",
       "    }\n",
       "  \n",
       "    if (typeof (window._bokeh_onload_callbacks) === \"undefined\") {\n",
       "      window._bokeh_onload_callbacks = [];\n",
       "    }\n",
       "  \n",
       "    function run_callbacks() {\n",
       "      window._bokeh_onload_callbacks.forEach(function(callback) { callback() });\n",
       "      delete window._bokeh_onload_callbacks\n",
       "      console.info(\"Bokeh: all callbacks have finished\");\n",
       "    }\n",
       "  \n",
       "    function load_libs(js_urls, callback) {\n",
       "      window._bokeh_onload_callbacks.push(callback);\n",
       "      if (window._bokeh_is_loading > 0) {\n",
       "        console.log(\"Bokeh: BokehJS is being loaded, scheduling callback at\", now());\n",
       "        return null;\n",
       "      }\n",
       "      if (js_urls == null || js_urls.length === 0) {\n",
       "        run_callbacks();\n",
       "        return null;\n",
       "      }\n",
       "      console.log(\"Bokeh: BokehJS not loaded, scheduling load and callback at\", now());\n",
       "      window._bokeh_is_loading = js_urls.length;\n",
       "      for (var i = 0; i < js_urls.length; i++) {\n",
       "        var url = js_urls[i];\n",
       "        var s = document.createElement('script');\n",
       "        s.src = url;\n",
       "        s.async = false;\n",
       "        s.onreadystatechange = s.onload = function() {\n",
       "          window._bokeh_is_loading--;\n",
       "          if (window._bokeh_is_loading === 0) {\n",
       "            console.log(\"Bokeh: all BokehJS libraries loaded\");\n",
       "            run_callbacks()\n",
       "          }\n",
       "        };\n",
       "        s.onerror = function() {\n",
       "          console.warn(\"failed to load library \" + url);\n",
       "        };\n",
       "        console.log(\"Bokeh: injecting script tag for BokehJS library: \", url);\n",
       "        document.getElementsByTagName(\"head\")[0].appendChild(s);\n",
       "      }\n",
       "    };var element = document.getElementById(\"33ec2fbe-a1ea-43fe-834b-bd2a89fb42e0\");\n",
       "    if (element == null) {\n",
       "      console.log(\"Bokeh: ERROR: autoload.js configured with elementid '33ec2fbe-a1ea-43fe-834b-bd2a89fb42e0' but no matching script tag was found. \")\n",
       "      return false;\n",
       "    }\n",
       "  \n",
       "    var js_urls = [];\n",
       "  \n",
       "    var inline_js = [\n",
       "      function(Bokeh) {\n",
       "        Bokeh.$(function() {\n",
       "            var docs_json = {\"768cf7fc-cb2e-4004-abf0-9833f6724372\":{\"roots\":{\"references\":[{\"attributes\":{\"below\":[{\"id\":\"97ec6c52-cb7a-4ff1-a5eb-64a9d16eafc3\",\"type\":\"LinearAxis\"}],\"left\":[{\"id\":\"262147fd-b3ef-4d1a-8668-daea23fb767e\",\"type\":\"LinearAxis\"}],\"plot_height\":1200,\"plot_width\":900,\"renderers\":[{\"id\":\"97ec6c52-cb7a-4ff1-a5eb-64a9d16eafc3\",\"type\":\"LinearAxis\"},{\"id\":\"86453c7c-4645-469f-852e-7d26d6e65f91\",\"type\":\"Grid\"},{\"id\":\"262147fd-b3ef-4d1a-8668-daea23fb767e\",\"type\":\"LinearAxis\"},{\"id\":\"ce877d49-b9a5-4f79-9999-e660ef2c98d3\",\"type\":\"Grid\"},{\"id\":\"2296ef5a-3347-463f-86eb-c5760f9e9173\",\"type\":\"BoxAnnotation\"},{\"id\":\"4986f98c-b64e-40eb-8105-c39a69257c60\",\"type\":\"GlyphRenderer\"},{\"id\":\"b5675097-c48b-49f9-861b-1ac726aa65fb\",\"type\":\"GlyphRenderer\"},{\"id\":\"4fb2bb6f-f32a-479a-8e82-1106db02651f\",\"type\":\"LabelSet\"},{\"id\":\"bd00a5f2-1836-40c6-97e4-9d06ebd7fa4b\",\"type\":\"GlyphRenderer\"},{\"id\":\"5773485e-bbaa-4074-995e-56f3ca4000e6\",\"type\":\"LabelSet\"}],\"title\":{\"id\":\"af839511-2c2a-420a-b9ef-6a7a70964d1c\",\"type\":\"Title\"},\"tool_events\":{\"id\":\"20c0a56d-bf9f-4869-b1fa-2aab824e3919\",\"type\":\"ToolEvents\"},\"toolbar\":{\"id\":\"3b0eba95-d9a8-442c-9a94-5af8f2ab30ba\",\"type\":\"Toolbar\"},\"toolbar_location\":null,\"x_range\":{\"id\":\"8b397135-6bb3-4601-ac0a-3157887be089\",\"type\":\"Range1d\"},\"y_range\":{\"id\":\"52fafc8b-24c1-41e1-a7a0-1e756a9239cb\",\"type\":\"Range1d\"}},\"id\":\"0208dc0c-d00d-4a66-af45-15abd1f55a39\",\"subtype\":\"Figure\",\"type\":\"Plot\"},{\"attributes\":{},\"id\":\"d120a5e5-d9bd-4781-b080-cd2e45648719\",\"type\":\"BasicTicker\"},{\"attributes\":{\"callback\":null,\"column_names\":[\"y\",\"x\",\"vals\"],\"data\":{\"vals\":[\"147_38\",\"117_1685\",\"62_1265\",\"8_718\",\"67_329\",\"9_545\",\"123_1561\",\"5_96\",\"6_32\",\"9_887\",\"5_588\",\"55_180\",\"4_1442\",\"7_1303\",\"6_127\",\"7_1760\",\"17_127\",\"7_226\",\"16_511\",\"10_43\",\"24_1504\",\"33_38\",\"18_172\",\"5_212\"],\"x\":[135758116,135758231,135766890,135784351,135795222,135810535,135933921,135946660,136025256,136309239,136364916,136392700,136506375,136535876,136562716,136588031,136589521,136602291,136603638,136647933,136653925,136658314,136696010,136704466],\"y\":[168.0,1101.0,898.0,793.0,587.0,691.0,1000.0,376.0,67.0,895.0,792.0,481.0,999.0,899.0,378.0,1101.0,478.0,583.0,690.0,369.0,1000.0,268.0,481.0,583.0]}},\"id\":\"a3ae1a7c-4eb9-4ab5-b1b0-9d87d4ff0251\",\"type\":\"ColumnDataSource\"},{\"attributes\":{\"callback\":null,\"end\":136786630,\"start\":135757320},\"id\":\"8b397135-6bb3-4601-ac0a-3157887be089\",\"type\":\"Range1d\"},{\"attributes\":{\"formatter\":{\"id\":\"f7ab6f7e-7787-48e5-8b6f-4b213d441099\",\"type\":\"BasicTickFormatter\"},\"plot\":{\"id\":\"0208dc0c-d00d-4a66-af45-15abd1f55a39\",\"subtype\":\"Figure\",\"type\":\"Plot\"},\"ticker\":{\"id\":\"d120a5e5-d9bd-4781-b080-cd2e45648719\",\"type\":\"BasicTicker\"},\"visible\":null},\"id\":\"262147fd-b3ef-4d1a-8668-daea23fb767e\",\"type\":\"LinearAxis\"},{\"attributes\":{\"formatter\":{\"id\":\"3fe22d54-c2d3-4265-abc5-f8b23a65e9a2\",\"type\":\"BasicTickFormatter\"},\"plot\":{\"id\":\"0208dc0c-d00d-4a66-af45-15abd1f55a39\",\"subtype\":\"Figure\",\"type\":\"Plot\"},\"ticker\":{\"id\":\"86d5dacf-2085-48d7-ad8d-db404de1e232\",\"type\":\"BasicTicker\"}},\"id\":\"97ec6c52-cb7a-4ff1-a5eb-64a9d16eafc3\",\"type\":\"LinearAxis\"},{\"attributes\":{\"level\":\"glyph\",\"plot\":{\"id\":\"0208dc0c-d00d-4a66-af45-15abd1f55a39\",\"subtype\":\"Figure\",\"type\":\"Plot\"},\"source\":{\"id\":\"eb333930-6ad2-4734-b241-1962a9b3e67a\",\"type\":\"ColumnDataSource\"},\"text\":{\"field\":\"vals\"},\"text_align\":\"center\",\"text_baseline\":\"middle\",\"text_font_size\":{\"value\":\"8pt\"},\"x\":{\"field\":\"x\"},\"y\":{\"field\":\"y\"}},\"id\":\"5773485e-bbaa-4074-995e-56f3ca4000e6\",\"type\":\"LabelSet\"},{\"attributes\":{\"plot\":{\"id\":\"0208dc0c-d00d-4a66-af45-15abd1f55a39\",\"subtype\":\"Figure\",\"type\":\"Plot\"}},\"id\":\"1e1d2ce2-706f-4367-8ecd-d7d3cc31b1be\",\"type\":\"WheelZoomTool\"},{\"attributes\":{\"data_source\":{\"id\":\"8474ac0a-024a-4071-aee4-3dcb1f454d59\",\"type\":\"ColumnDataSource\"},\"glyph\":{\"id\":\"767a8d88-051c-4c18-9bd0-f8c52cfea2d6\",\"type\":\"MultiLine\"},\"hover_glyph\":null,\"nonselection_glyph\":{\"id\":\"b5772656-12ea-47b6-8219-5750826855a1\",\"type\":\"MultiLine\"},\"selection_glyph\":null},\"id\":\"b5675097-c48b-49f9-861b-1ac726aa65fb\",\"type\":\"GlyphRenderer\"},{\"attributes\":{\"active_drag\":\"auto\",\"active_scroll\":\"auto\",\"active_tap\":\"auto\",\"tools\":[{\"id\":\"b25a7592-76ab-45aa-9d6f-04293f5c5ca7\",\"type\":\"PanTool\"},{\"id\":\"1e1d2ce2-706f-4367-8ecd-d7d3cc31b1be\",\"type\":\"WheelZoomTool\"},{\"id\":\"c6fb4d35-2ab3-4ccf-b8a2-373e6c921770\",\"type\":\"BoxZoomTool\"},{\"id\":\"2d5c28fd-f867-4720-9043-2a2d68fe5d42\",\"type\":\"SaveTool\"},{\"id\":\"06958795-bc62-4d7c-9dd0-2ee9968fa6ea\",\"type\":\"ResetTool\"},{\"id\":\"f10935ae-dce4-40f5-b1a4-fb1c092e4c0b\",\"type\":\"HelpTool\"}]},\"id\":\"3b0eba95-d9a8-442c-9a94-5af8f2ab30ba\",\"type\":\"Toolbar\"},{\"attributes\":{},\"id\":\"f7ab6f7e-7787-48e5-8b6f-4b213d441099\",\"type\":\"BasicTickFormatter\"},{\"attributes\":{\"bottom\":{\"field\":\"bottom\"},\"fill_color\":{\"field\":\"fill_color\"},\"left\":{\"field\":\"left\"},\"line_color\":{\"value\":null},\"right\":{\"field\":\"right\"},\"top\":{\"field\":\"top\"}},\"id\":\"7ced7a1b-427d-4564-98ee-e3a02b28d1aa\",\"type\":\"Quad\"},{\"attributes\":{\"callback\":null,\"end\":1200},\"id\":\"52fafc8b-24c1-41e1-a7a0-1e756a9239cb\",\"type\":\"Range1d\"},{\"attributes\":{\"overlay\":{\"id\":\"2296ef5a-3347-463f-86eb-c5760f9e9173\",\"type\":\"BoxAnnotation\"},\"plot\":{\"id\":\"0208dc0c-d00d-4a66-af45-15abd1f55a39\",\"subtype\":\"Figure\",\"type\":\"Plot\"}},\"id\":\"c6fb4d35-2ab3-4ccf-b8a2-373e6c921770\",\"type\":\"BoxZoomTool\"},{\"attributes\":{\"plot\":{\"id\":\"0208dc0c-d00d-4a66-af45-15abd1f55a39\",\"subtype\":\"Figure\",\"type\":\"Plot\"}},\"id\":\"2d5c28fd-f867-4720-9043-2a2d68fe5d42\",\"type\":\"SaveTool\"},{\"attributes\":{\"bottom\":{\"field\":\"bottom\"},\"fill_alpha\":{\"value\":0.1},\"fill_color\":{\"value\":\"#1f77b4\"},\"left\":{\"field\":\"left\"},\"line_alpha\":{\"value\":0.1},\"line_color\":{\"value\":\"#1f77b4\"},\"right\":{\"field\":\"right\"},\"top\":{\"field\":\"top\"}},\"id\":\"f6e30589-b7a6-45e4-8a66-01ce590eec48\",\"type\":\"Quad\"},{\"attributes\":{\"line_color\":{\"field\":\"line_color\"},\"xs\":{\"field\":\"xs\"},\"ys\":{\"field\":\"ys\"}},\"id\":\"767a8d88-051c-4c18-9bd0-f8c52cfea2d6\",\"type\":\"MultiLine\"},{\"attributes\":{},\"id\":\"20c0a56d-bf9f-4869-b1fa-2aab824e3919\",\"type\":\"ToolEvents\"},{\"attributes\":{\"bottom_units\":\"screen\",\"fill_alpha\":{\"value\":0.5},\"fill_color\":{\"value\":\"lightgrey\"},\"left_units\":\"screen\",\"level\":\"overlay\",\"line_alpha\":{\"value\":1.0},\"line_color\":{\"value\":\"black\"},\"line_dash\":[4,4],\"line_width\":{\"value\":2},\"plot\":null,\"render_mode\":\"css\",\"right_units\":\"screen\",\"top_units\":\"screen\"},\"id\":\"2296ef5a-3347-463f-86eb-c5760f9e9173\",\"type\":\"BoxAnnotation\"},{\"attributes\":{\"callback\":null,\"column_names\":[\"right\",\"bottom\",\"top\",\"left\"],\"data\":{\"bottom\":[1145,1145,1145,1145,1145,1145,1145],\"left\":[135809835,135957574,136289083,136499189,136545415,136597196,136664254],\"right\":[135928279,136288182,136482839,136542633,136594750,136634047,136743222],\"top\":[1175,1175,1175,1175,1175,1175,1175]}},\"id\":\"516f64d7-7fbe-4709-ad2b-fa399dc51012\",\"type\":\"ColumnDataSource\"},{\"attributes\":{},\"id\":\"86d5dacf-2085-48d7-ad8d-db404de1e232\",\"type\":\"BasicTicker\"},{\"attributes\":{\"plot\":{\"id\":\"0208dc0c-d00d-4a66-af45-15abd1f55a39\",\"subtype\":\"Figure\",\"type\":\"Plot\"},\"ticker\":{\"id\":\"86d5dacf-2085-48d7-ad8d-db404de1e232\",\"type\":\"BasicTicker\"}},\"id\":\"86453c7c-4645-469f-852e-7d26d6e65f91\",\"type\":\"Grid\"},{\"attributes\":{\"callback\":null,\"column_names\":[\"y\",\"x\",\"vals\"],\"data\":{\"vals\":[\"RAB3GAP1\",\"ZRANB3\",\"R3HDM1\",\"UBXN4\",\"LCT\",\"MCM6\",\"DARS\"],\"x\":[135869057.0,136122878.0,136385961.0,136520911.0,136570082.5,136615621.5,136703738.0],\"y\":[1160.0,1160.0,1160.0,1160.0,1160.0,1160.0,1160.0]}},\"id\":\"eb333930-6ad2-4734-b241-1962a9b3e67a\",\"type\":\"ColumnDataSource\"},{\"attributes\":{\"level\":\"glyph\",\"plot\":{\"id\":\"0208dc0c-d00d-4a66-af45-15abd1f55a39\",\"subtype\":\"Figure\",\"type\":\"Plot\"},\"source\":{\"id\":\"a3ae1a7c-4eb9-4ab5-b1b0-9d87d4ff0251\",\"type\":\"ColumnDataSource\"},\"text\":{\"field\":\"vals\"},\"text_font_size\":{\"value\":\"9pt\"},\"text_font_style\":\"bold\",\"x\":{\"field\":\"x\"},\"y\":{\"field\":\"y\"}},\"id\":\"4fb2bb6f-f32a-479a-8e82-1106db02651f\",\"type\":\"LabelSet\"},{\"attributes\":{\"data_source\":{\"id\":\"516f64d7-7fbe-4709-ad2b-fa399dc51012\",\"type\":\"ColumnDataSource\"},\"glyph\":{\"id\":\"b44a1d9e-804b-4b66-8d7f-173578090ab9\",\"type\":\"Quad\"},\"hover_glyph\":null,\"nonselection_glyph\":{\"id\":\"f6e30589-b7a6-45e4-8a66-01ce590eec48\",\"type\":\"Quad\"},\"selection_glyph\":null},\"id\":\"bd00a5f2-1836-40c6-97e4-9d06ebd7fa4b\",\"type\":\"GlyphRenderer\"},{\"attributes\":{\"callback\":null,\"column_names\":[\"xs\",\"ys\",\"line_color\"],\"data\":{\"line_color\":[\"black\",\"black\",\"black\",\"black\",\"black\",\"black\",\"black\",\"black\",\"black\",\"black\",\"black\",\"black\",\"black\",\"black\",\"black\",\"black\",\"black\",\"black\",\"black\",\"black\",\"black\",\"black\",\"black\",\"black\",\"black\",\"black\",\"black\",\"black\",\"black\",\"black\",\"black\",\"black\",\"black\",\"black\",\"black\",\"black\",\"black\",\"black\",\"black\",\"black\",\"black\",\"black\",\"black\",\"black\",\"black\",\"black\",\"black\",\"black\",\"black\",\"black\",\"black\",\"black\",\"black\",\"black\",\"black\",\"black\",\"black\",\"black\",\"black\",\"black\",\"black\",\"black\",\"black\",\"black\",\"black\",\"black\",\"black\",\"black\",\"black\",\"black\",\"black\",\"black\",\"black\",\"black\",\"black\",\"black\",\"black\",\"black\",\"black\",\"black\",\"black\",\"black\",\"black\",\"black\",\"black\",\"black\",\"black\",\"black\",\"black\",\"black\",\"black\",\"black\",\"black\",\"black\",\"black\",\"black\",\"black\",\"black\",\"black\",\"black\",\"black\",\"black\",\"black\",\"black\",\"black\",\"black\",\"black\",\"black\",\"black\",\"black\",\"black\",\"black\",\"black\",\"black\",\"black\",\"black\",\"black\",\"black\",\"black\",\"black\",\"black\",\"black\",\"black\",\"black\",\"black\",\"black\",\"black\",\"black\",\"black\",\"black\",\"black\",\"black\",\"black\",\"black\",\"black\",\"black\",\"black\",\"black\",\"black\",\"black\",\"black\",\"black\",\"black\",\"black\",\"black\",\"black\",\"black\",\"black\",\"black\",\"black\",\"black\",\"black\",\"black\",\"black\",\"black\",\"black\",\"black\",\"black\",\"black\",\"black\",\"black\",\"black\",\"black\",\"black\",\"black\",\"black\",\"black\",\"black\",\"black\",\"black\",\"black\",\"black\",\"black\",\"black\",\"black\",\"black\",\"black\",\"black\",\"black\",\"black\",\"black\",\"black\",\"black\",\"black\",\"black\",\"black\",\"black\",\"black\",\"black\",\"black\",\"black\",\"black\",\"black\",\"black\",\"black\",\"black\",\"black\",\"black\",\"black\",\"black\",\"black\",\"black\",\"black\",\"black\",\"black\",\"black\",\"black\",\"black\",\"black\",\"black\",\"black\",\"black\",\"black\",\"black\",\"black\",\"black\",\"black\",\"black\",\"black\",\"black\",\"black\",\"black\",\"black\",\"black\",\"black\",\"black\",\"black\",\"black\",\"black\",\"black\",\"black\",\"black\",\"black\",\"black\",\"black\",\"black\",\"black\",\"black\",\"black\",\"black\",\"black\",\"black\",\"black\",\"black\",\"black\",\"black\",\"black\",\"black\",\"black\",\"black\",\"black\",\"black\",\"black\",\"black\",\"black\",\"black\",\"black\",\"black\",\"black\",\"black\",\"black\",\"black\",\"black\",\"black\",\"black\",\"black\",\"black\",\"black\",\"black\",\"black\",\"black\",\"black\",\"black\",\"black\",\"black\",\"black\",\"black\",\"black\",\"black\",\"black\",\"black\",\"black\",\"black\",\"black\",\"black\",\"black\",\"black\",\"black\",\"black\",\"black\",\"black\",\"black\",\"black\",\"black\",\"black\",\"black\",\"black\",\"black\",\"black\",\"black\",\"black\",\"black\",\"black\",\"black\",\"black\",\"black\",\"black\",\"black\",\"black\",\"black\",\"black\",\"black\",\"black\",\"black\",\"black\",\"black\",\"black\",\"black\",\"black\",\"black\",\"black\",\"black\",\"black\",\"black\",\"black\",\"black\",\"black\",\"black\",\"black\",\"black\",\"black\",\"black\",\"black\",\"black\",\"black\",\"black\",\"black\",\"black\",\"black\",\"black\",\"black\",\"black\",\"black\",\"black\",\"black\",\"black\",\"black\",\"black\",\"black\",\"black\",\"black\",\"black\",\"black\",\"black\",\"black\",\"black\",\"black\",\"black\",\"black\",\"black\",\"black\",\"black\",\"black\",\"black\",\"black\",\"black\",\"black\",\"black\",\"black\",\"black\",\"black\",\"black\",\"black\",\"black\",\"black\",\"black\",\"black\",\"black\",\"black\",\"black\",\"black\",\"black\",\"black\",\"black\",\"black\",\"black\",\"black\",\"black\",\"black\",\"black\",\"black\",\"black\",\"black\",\"black\",\"black\",\"black\",\"black\",\"black\",\"black\",\"black\",\"black\",\"black\",\"black\",\"black\",\"black\",\"black\",\"black\",\"black\",\"black\",\"black\",\"black\",\"black\",\"black\",\"black\",\"black\",\"black\",\"black\",\"black\",\"black\",\"black\",\"black\",\"black\",\"black\",\"black\",\"black\",\"black\",\"black\",\"black\",\"black\",\"black\",\"black\",\"black\",\"black\",\"black\",\"black\",\"black\",\"black\",\"black\",\"black\",\"black\",\"black\",\"black\",\"black\",\"black\",\"black\",\"black\",\"black\",\"black\",\"black\",\"black\",\"black\",\"black\",\"black\",\"black\",\"black\",\"black\",\"black\",\"black\",\"black\",\"black\",\"black\",\"black\",\"black\",\"black\",\"black\",\"black\",\"black\",\"black\",\"black\",\"black\",\"black\",\"black\",\"black\",\"black\",\"black\",\"black\",\"black\",\"black\",\"black\",\"black\",\"black\",\"black\",\"black\",\"black\",\"black\",\"black\",\"black\",\"black\",\"black\",\"black\",\"black\",\"black\",\"black\",\"black\",\"black\",\"black\",\"black\",\"black\",\"black\",\"black\",\"black\",\"black\",\"black\",\"black\",\"black\",\"black\",\"black\",\"black\",\"black\",\"black\",\"black\",\"black\",\"black\",\"black\",\"black\",\"black\",\"black\",\"black\",\"black\",\"black\",\"black\",\"black\",\"black\",\"black\",\"black\",\"black\",\"black\",\"black\",\"black\",\"black\",\"black\",\"black\",\"black\",\"black\",\"black\",\"black\",\"black\",\"black\",\"black\",\"black\",\"black\",\"black\",\"black\",\"black\",\"black\",\"black\",\"black\",\"black\",\"black\",\"black\",\"black\",\"black\",\"black\",\"black\",\"black\",\"black\",\"black\",\"black\",\"black\",\"black\",\"black\",\"black\",\"black\",\"black\",\"black\",\"black\",\"black\",\"black\",\"black\",\"black\",\"black\",\"black\",\"black\",\"black\",\"black\",\"black\",\"black\",\"black\",\"black\",\"black\",\"black\",\"black\",\"black\",\"black\",\"black\",\"black\",\"black\",\"black\",\"black\",\"black\",\"black\",\"black\",\"black\",\"black\",\"black\",\"black\",\"black\",\"black\",\"black\",\"black\",\"black\",\"black\",\"black\",\"black\",\"black\",\"black\",\"black\",\"black\",\"black\",\"black\",\"black\",\"black\",\"black\",\"black\",\"black\",\"black\",\"black\",\"black\",\"black\",\"black\",\"black\",\"black\",\"black\",\"black\",\"black\",\"black\",\"black\",\"black\",\"black\",\"black\",\"black\",\"black\",\"black\",\"black\",\"black\",\"black\",\"black\",\"black\",\"black\",\"black\",\"black\",\"black\",\"black\",\"black\",\"black\",\"black\",\"black\",\"black\",\"black\",\"black\",\"black\",\"black\",\"black\",\"black\",\"black\",\"black\",\"black\",\"black\",\"black\",\"black\",\"black\",\"black\",\"black\",\"black\",\"black\",\"black\",\"black\",\"black\",\"black\",\"black\",\"black\",\"black\",\"black\",\"black\",\"black\",\"black\",\"black\",\"black\",\"black\",\"black\",\"black\",\"black\",\"black\",\"black\",\"black\",\"black\",\"black\",\"black\",\"black\",\"black\",\"black\",\"black\",\"black\",\"black\",\"black\",\"black\",\"black\",\"black\",\"black\",\"black\",\"black\",\"black\",\"black\",\"black\",\"black\",\"black\",\"black\",\"black\",\"black\",\"black\",\"black\",\"black\",\"black\",\"black\",\"black\",\"black\",\"black\",\"black\",\"black\",\"black\",\"black\",\"black\",\"black\",\"black\",\"black\",\"black\",\"black\",\"black\",\"black\",\"black\",\"black\",\"black\",\"black\",\"black\",\"black\",\"black\",\"black\",\"black\",\"black\",\"black\",\"black\",\"black\",\"black\",\"black\",\"black\",\"black\",\"black\",\"black\",\"black\",\"black\",\"black\",\"black\",\"black\",\"black\",\"black\",\"black\",\"black\",\"black\",\"black\",\"black\",\"black\",\"black\",\"black\",\"black\",\"black\",\"black\",\"black\"],\"xs\":[[135758116,135758116],[135764872,135764872],[135774755,135774755],[135775494,135775494],[135776327,135776327],[135777869,135777869],[135781101,135781101],[135781252,135781252],[135782759,135782759],[135783420,135783420],[135787985,135787985],[135790070,135790070],[135793760,135793760],[135799014,135799014],[135800795,135800795],[135805654,135805654],[135808694,135808694],[135812771,135812771],[135812825,135812825],[135813705,135813705],[135815831,135815831],[135818793,135818793],[135832899,135832899],[135837465,135837465],[135837543,135837543],[135839638,135839638],[135847135,135847135],[135857305,135857305],[135858349,135858349],[135860555,135860555],[135861296,135861296],[135862348,135862348],[135875874,135875874],[135878409,135878409],[135886064,135886064],[135886511,135886511],[135893003,135893003],[135899867,135899867],[135902413,135902413],[135915001,135915001],[135921274,135921274],[135929516,135929516],[135936814,135936814],[135936893,135936893],[135941182,135941182],[135942100,135942100],[135945881,135945881],[135945882,135945882],[135948333,135948333],[135950574,135950574],[135952848,135952848],[135959976,135959976],[135963590,135963590],[135980957,135980957],[135984921,135984921],[135990422,135990422],[135999142,135999142],[136000471,136000471],[136012286,136012286],[136015195,136015195],[136016019,136016019],[136031999,136031999],[136036639,136036639],[136037183,136037183],[136037842,136037842],[136038931,136038931],[136041040,136041040],[136042152,136042152],[136046084,136046084],[136046790,136046790],[136046899,136046899],[136050147,136050147],[136054642,136054642],[136057299,136057299],[136058917,136058917],[136060219,136060219],[136064616,136064616],[136067835,136067835],[136068973,136068973],[136069584,136069584],[136080116,136080116],[136082202,136082202],[136082287,136082287],[136082773,136082773],[136083563,136083563],[136085266,136085266],[136086355,136086355],[136087219,136087219],[136092632,136092632],[136097002,136097002],[136097738,136097738],[136099233,136099233],[136099268,136099268],[136099313,136099313],[136099392,136099392],[136099600,136099600],[136101998,136101998],[136102318,136102318],[136103641,136103641],[136104751,136104751],[136105231,136105231],[136110600,136110600],[136141614,136141614],[136155741,136155741],[136167542,136167542],[136167734,136167734],[136173522,136173522],[136200928,136200928],[136208960,136208960],[136212354,136212354],[136214632,136214632],[136224764,136224764],[136238787,136238787],[136245577,136245577],[136249387,136249387],[136287142,136287142],[136300240,136300240],[136315915,136315915],[136323839,136323839],[136325806,136325806],[136351404,136351404],[136374709,136374709],[136383408,136383408],[136395527,136395527],[136443777,136443777],[136452973,136452973],[136458553,136458553],[136483234,136483234],[136489698,136489698],[136499415,136499415],[136502673,136502673],[136512583,136512583],[136530739,136530739],[136535726,136535726],[136541009,136541009],[136553668,136553668],[136553741,136553741],[136575300,136575300],[136579208,136579208],[136589342,136589342],[136594439,136594439],[136598051,136598051],[136598747,136598747],[136618810,136618810],[136637332,136637332],[136650058,136650058],[136780494,136780494],[135758231,135758231],[135758520,135758520],[135766072,135766072],[135773420,135773420],[135773446,135773446],[135773617,135773617],[135773692,135773692],[135774681,135774681],[135775049,135775049],[135776430,135776430],[135778656,135778656],[135780168,135780168],[135780587,135780587],[135781301,135781301],[135781522,135781522],[135781635,135781635],[135782456,135782456],[135783157,135783157],[135783366,135783366],[135783367,135783367],[135784227,135784227],[135784733,135784733],[135785066,135785066],[135785068,135785068],[135785149,135785149],[135787148,135787148],[135787642,135787642],[135789405,135789405],[135789472,135789472],[135789682,135789682],[135789784,135789784],[135792338,135792338],[135792528,135792528],[135793565,135793565],[135793684,135793684],[135793845,135793845],[135794367,135794367],[135794986,135794986],[135795040,135795040],[135795095,135795095],[135795150,135795150],[135795385,135795385],[135795396,135795396],[135795443,135795443],[135795595,135795595],[135796000,135796000],[135796155,135796155],[135796410,135796410],[135796965,135796965],[135797223,135797223],[135797747,135797747],[135798082,135798082],[135798758,135798758],[135799082,135799082],[135800085,135800085],[135800601,135800601],[135800757,135800757],[135801228,135801228],[135801956,135801956],[135802020,135802020],[135802028,135802028],[135802050,135802050],[135802148,135802148],[135803766,135803766],[135809241,135809241],[135812969,135812969],[135814716,135814716],[135818907,135818907],[135829432,135829432],[135832131,135832131],[135849613,135849613],[135853807,135853807],[135859923,135859923],[135860305,135860305],[135861497,135861497],[135863143,135863143],[135864294,135864294],[135871624,135871624],[135872646,135872646],[135874038,135874038],[135874622,135874622],[135878814,135878814],[135880013,135880013],[135884487,135884487],[135885357,135885357],[135893853,135893853],[135895809,135895809],[135895879,135895879],[135899069,135899069],[135909462,135909462],[135912977,135912977],[135914038,135914038],[135921839,135921839],[135925002,135925002],[135928312,135928312],[135935049,135935049],[135962711,135962711],[135984172,135984172],[135994753,135994753],[135994754,135994754],[136016079,136016079],[136027264,136027264],[136052004,136052004],[136100473,136100473],[136110129,136110129],[136166536,136166536],[136169799,136169799],[136191314,136191314],[136228887,136228887],[136238453,136238453],[136288273,136288273],[136292425,136292425],[136321951,136321951],[136324564,136324564],[136327299,136327299],[136327302,136327302],[136376515,136376515],[135766890,135766890],[135778708,135778708],[135779588,135779588],[135805941,135805941],[135805943,135805943],[135932720,135932720],[135933317,135933317],[135934842,135934842],[135952376,135952376],[135958853,135958853],[135962864,135962864],[135963304,135963304],[135965376,135965376],[135980201,135980201],[135981554,135981554],[135988127,135988127],[135988416,135988416],[135991470,135991470],[136000500,136000500],[136001215,136001215],[136001295,136001295],[136016514,136016514],[136017388,136017388],[136041102,136041102],[136041662,136041662],[136047387,136047387],[136052936,136052936],[136055275,136055275],[136063118,136063118],[136066802,136066802],[136068890,136068890],[136069577,136069577],[136081193,136081193],[136105193,136105193],[136107839,136107839],[136110835,136110835],[136138026,136138026],[136142092,136142092],[136146499,136146499],[136147607,136147607],[136148401,136148401],[136150512,136150512],[136154734,136154734],[136155805,136155805],[136163001,136163001],[136163266,136163266],[136163568,136163568],[136163821,136163821],[136165965,136165965],[136183312,136183312],[136185945,136185945],[136191729,136191729],[136204827,136204827],[136208747,136208747],[136217980,136217980],[136229438,136229438],[136232572,136232572],[136240942,136240942],[136251329,136251329],[136265187,136265187],[136265188,136265188],[136275985,136275985],[135784351,135784351],[135829309,135829309],[135835508,135835508],[135861297,135861297],[135863459,135863459],[135873845,135873845],[135902172,135902172],[135902220,135902220],[135795222,135795222],[135920091,135920091],[136117271,136117271],[136122102,136122102],[136129859,136129859],[136135294,136135294],[136135451,136135451],[136144548,136144548],[136149219,136149219],[136152962,136152962],[136158473,136158473],[136160769,136160769],[136163389,136163389],[136164606,136164606],[136165624,136165624],[136165766,136165766],[136167030,136167030],[136170213,136170213],[136170889,136170889],[136170934,136170934],[136172028,136172028],[136175128,136175128],[136176923,136176923],[136180106,136180106],[136184333,136184333],[136188849,136188849],[136189408,136189408],[136189428,136189428],[136193318,136193318],[136196359,136196359],[136202820,136202820],[136203439,136203439],[136207999,136207999],[136213991,136213991],[136215173,136215173],[136220995,136220995],[136221233,136221233],[136223360,136223360],[136231459,136231459],[136233507,136233507],[136245723,136245723],[136246135,136246135],[136246877,136246877],[136251413,136251413],[136251832,136251832],[136252477,136252477],[136254415,136254415],[136255986,136255986],[136256216,136256216],[136256806,136256806],[136264344,136264344],[136269048,136269048],[136271210,136271210],[136276688,136276688],[136277343,136277343],[136286021,136286021],[136303450,136303450],[136317535,136317535],[136319030,136319030],[136326192,136326192],[136330558,136330558],[136332552,136332552],[136334724,136334724],[136337506,136337506],[136351111,136351111],[136351470,136351470],[136382700,136382700],[135810535,135810535],[135817760,135817760],[135857538,135857538],[135862191,135862191],[135869380,135869380],[135869761,135869761],[135886486,135886486],[135888078,135888078],[135898023,135898023],[135933921,135933921],[135939824,135939824],[135941503,135941503],[135943900,135943900],[135945474,135945474],[135949715,135949715],[135956745,135956745],[135958693,135958693],[135967778,135967778],[135972093,135972093],[135973768,135973768],[135976498,135976498],[135978428,135978428],[135990031,135990031],[135992481,135992481],[135993925,135993925],[135994838,135994838],[136000253,136000253],[136003567,136003567],[136005477,136005477],[136005971,136005971],[136020977,136020977],[136027535,136027535],[136031588,136031588],[136032905,136032905],[136042480,136042480],[136043885,136043885],[136050471,136050471],[136052898,136052898],[136054815,136054815],[136056285,136056285],[136061560,136061560],[136063685,136063685],[136069060,136069060],[136072179,136072179],[136074233,136074233],[136080721,136080721],[136080822,136080822],[136088440,136088440],[136088643,136088643],[136092416,136092416],[136092869,136092869],[136094615,136094615],[136095505,136095505],[136095604,136095604],[136096766,136096766],[136097091,136097091],[136097394,136097394],[136100243,136100243],[136101823,136101823],[136106561,136106561],[136115501,136115501],[136122622,136122622],[136123014,136123014],[136123848,136123848],[136127100,136127100],[136127950,136127950],[136128630,136128630],[136129630,136129630],[136129791,136129791],[136131324,136131324],[136135383,136135383],[136135994,136135994],[136136224,136136224],[136136366,136136366],[136136440,136136440],[136138145,136138145],[136140568,136140568],[136145882,136145882],[136147948,136147948],[136148630,136148630],[136151485,136151485],[136152802,136152802],[136156753,136156753],[136157913,136157913],[136160902,136160902],[136165765,136165765],[136171649,136171649],[136173220,136173220],[136173735,136173735],[136174552,136174552],[136175692,136175692],[136176805,136176805],[136182484,136182484],[136183188,136183188],[136187252,136187252],[136187345,136187345],[136189475,136189475],[136197702,136197702],[136198435,136198435],[136202937,136202937],[136219999,136219999],[136221500,136221500],[136226626,136226626],[136228929,136228929],[136229598,136229598],[136238270,136238270],[136238346,136238346],[136240769,136240769],[136244171,136244171],[136249245,136249245],[136250285,136250285],[136254419,136254419],[136266241,136266241],[136267808,136267808],[136272074,136272074],[136277304,136277304],[136290607,136290607],[136290663,136290663],[136291310,136291310],[136296051,136296051],[136305392,136305392],[136306890,136306890],[136310803,136310803],[136324225,136324225],[136324465,136324465],[136327305,136327305],[136329618,136329618],[136333300,136333300],[136350089,136350089],[136354204,136354204],[136360455,136360455],[136368563,136368563],[135946660,135946660],[135948297,135948297],[135982812,135982812],[136068800,136068800],[136103328,136103328],[136025256,136025256],[136123124,136123124],[136319876,136319876],[136368758,136368758],[136404840,136404840],[136513291,136513291],[136309239,136309239],[136322472,136322472],[136323787,136323787],[136323862,136323862],[136326765,136326765],[136329500,136329500],[136331657,136331657],[136345356,136345356],[136361560,136361560],[136364916,136364916],[136369497,136369497],[136369580,136369580],[136380846,136380846],[136387893,136387893],[136392700,136392700],[136400692,136400692],[136408881,136408881],[136409096,136409096],[136413099,136413099],[136413116,136413116],[136413618,136413618],[136417468,136417468],[136421589,136421589],[136425362,136425362],[136430479,136430479],[136439871,136439871],[136442318,136442318],[136444284,136444284],[136444985,136444985],[136445838,136445838],[136446249,136446249],[136447867,136447867],[136449090,136449090],[136449671,136449671],[136451724,136451724],[136452322,136452322],[136459565,136459565],[136460977,136460977],[136462831,136462831],[136464615,136464615],[136464818,136464818],[136464885,136464885],[136465856,136465856],[136467164,136467164],[136483721,136483721],[136485246,136485246],[136485657,136485657],[136493550,136493550],[136500338,136500338],[136500597,136500597],[136502199,136502199],[136506995,136506995],[136507804,136507804],[136509222,136509222],[136510091,136510091],[136512545,136512545],[136517471,136517471],[136522377,136522377],[136523696,136523696],[136523874,136523874],[136526324,136526324],[136528006,136528006],[136529000,136529000],[136533161,136533161],[136539413,136539413],[136548116,136548116],[136548169,136548169],[136548192,136548192],[136550806,136550806],[136506375,136506375],[136506927,136506927],[136510012,136510012],[136538939,136538939],[136535876,136535876],[136544651,136544651],[136545844,136545844],[136552526,136552526],[136553022,136553022],[136554797,136554797],[136554890,136554890],[136562716,136562716],[136569317,136569317],[136576425,136576425],[136576579,136576579],[136584376,136584376],[136584714,136584714],[136588031,136588031],[136589278,136589278],[136589379,136589379],[136589741,136589741],[136590746,136590746],[136593553,136593553],[136593678,136593678],[136589521,136589521],[136590781,136590781],[136591977,136591977],[136592979,136592979],[136593065,136593065],[136593066,136593066],[136593077,136593077],[136593079,136593079],[136593136,136593136],[136593809,136593809],[136596836,136596836],[136619277,136619277],[136622982,136622982],[136631545,136631545],[136634340,136634340],[136638199,136638199],[136642012,136642012],[136602291,136602291],[136607932,136607932],[136616036,136616036],[136617917,136617917],[136619615,136619615],[136627507,136627507],[136629987,136629987],[136603638,136603638],[136603690,136603690],[136604210,136604210],[136604345,136604345],[136604346,136604346],[136605111,136605111],[136612598,136612598],[136614955,136614955],[136619114,136619114],[136619213,136619213],[136623900,136623900],[136624123,136624123],[136624155,136624155],[136630170,136630170],[136631415,136631415],[136632125,136632125],[136647933,136647933],[136655689,136655689],[136657637,136657637],[136663256,136663256],[136666506,136666506],[136666582,136666582],[136667613,136667613],[136671323,136671323],[136675659,136675659],[136678378,136678378],[136653925,136653925],[136654833,136654833],[136656534,136656534],[136656536,136656536],[136657252,136657252],[136667301,136667301],[136667487,136667487],[136672775,136672775],[136680534,136680534],[136686393,136686393],[136688749,136688749],[136692553,136692553],[136697371,136697371],[136708787,136708787],[136710372,136710372],[136711064,136711064],[136715324,136715324],[136723504,136723504],[136737460,136737460],[136743143,136743143],[136746224,136746224],[136751842,136751842],[136759379,136759379],[136761853,136761853],[136658314,136658314],[136666754,136666754],[136669669,136669669],[136672644,136672644],[136675208,136675208],[136684682,136684682],[136688413,136688413],[136690953,136690953],[136692117,136692117],[136695738,136695738],[136697615,136697615],[136698313,136698313],[136699797,136699797],[136710115,136710115],[136711135,136711135],[136711321,136711321],[136711876,136711876],[136714857,136714857],[136716470,136716470],[136717236,136717236],[136719791,136719791],[136720886,136720886],[136723661,136723661],[136732776,136732776],[136733012,136733012],[136733929,136733929],[136740076,136740076],[136741512,136741512],[136743399,136743399],[136749567,136749567],[136757113,136757113],[136763526,136763526],[136765458,136765458],[136696010,136696010],[136696794,136696794],[136700762,136700762],[136703387,136703387],[136708405,136708405],[136708737,136708737],[136710616,136710616],[136715715,136715715],[136716781,136716781],[136731550,136731550],[136735482,136735482],[136736120,136736120],[136738235,136738235],[136739038,136739038],[136743138,136743138],[136744366,136744366],[136754269,136754269],[136764564,136764564],[136704466,136704466],[136714792,136714792],[136724974,136724974],[136725890,136725890],[136732214,136732214]],\"ys\":[[150,163],[150,163],[150,163],[150,163],[150,163],[150,163],[150,163],[150,163],[150,163],[150,163],[150,163],[150,163],[150,163],[150,163],[150,163],[150,163],[150,163],[150,163],[150,163],[150,163],[150,163],[150,163],[150,163],[150,163],[150,163],[150,163],[150,163],[150,163],[150,163],[150,163],[150,163],[150,163],[150,163],[150,163],[150,163],[150,163],[150,163],[150,163],[150,163],[150,163],[150,163],[150,163],[150,163],[150,163],[150,163],[150,163],[150,163],[150,163],[150,163],[150,163],[150,163],[150,163],[150,163],[150,163],[150,163],[150,163],[150,163],[150,163],[150,163],[150,163],[150,163],[150,163],[150,163],[150,163],[150,163],[150,163],[150,163],[150,163],[150,163],[150,163],[150,163],[150,163],[150,163],[150,163],[150,163],[150,163],[150,163],[150,163],[150,163],[150,163],[150,163],[150,163],[150,163],[150,163],[150,163],[150,163],[150,163],[150,163],[150,163],[150,163],[150,163],[150,163],[150,163],[150,163],[150,163],[150,163],[150,163],[150,163],[150,163],[150,163],[150,163],[150,163],[150,163],[150,163],[150,163],[150,163],[150,163],[150,163],[150,163],[150,163],[150,163],[150,163],[150,163],[150,163],[150,163],[150,163],[150,163],[150,163],[150,163],[150,163],[150,163],[150,163],[150,163],[150,163],[150,163],[150,163],[150,163],[150,163],[150,163],[150,163],[150,163],[150,163],[150,163],[150,163],[150,163],[150,163],[150,163],[150,163],[150,163],[150,163],[150,163],[150,163],[150,163],[150,163],[150,163],[150,163],[150,163],[1050,1096],[1050,1096],[1050,1096],[1050,1096],[1050,1096],[1050,1096],[1050,1096],[1050,1096],[1050,1096],[1050,1096],[1050,1096],[1050,1096],[1050,1096],[1050,1096],[1050,1096],[1050,1096],[1050,1096],[1050,1096],[1050,1096],[1050,1096],[1050,1096],[1050,1096],[1050,1096],[1050,1096],[1050,1096],[1050,1096],[1050,1096],[1050,1096],[1050,1096],[1050,1096],[1050,1096],[1050,1096],[1050,1096],[1050,1096],[1050,1096],[1050,1096],[1050,1096],[1050,1096],[1050,1096],[1050,1096],[1050,1096],[1050,1096],[1050,1096],[1050,1096],[1050,1096],[1050,1096],[1050,1096],[1050,1096],[1050,1096],[1050,1096],[1050,1096],[1050,1096],[1050,1096],[1050,1096],[1050,1096],[1050,1096],[1050,1096],[1050,1096],[1050,1096],[1050,1096],[1050,1096],[1050,1096],[1050,1096],[1050,1096],[1050,1096],[1050,1096],[1050,1096],[1050,1096],[1050,1096],[1050,1096],[1050,1096],[1050,1096],[1050,1096],[1050,1096],[1050,1096],[1050,1096],[1050,1096],[1050,1096],[1050,1096],[1050,1096],[1050,1096],[1050,1096],[1050,1096],[1050,1096],[1050,1096],[1050,1096],[1050,1096],[1050,1096],[1050,1096],[1050,1096],[1050,1096],[1050,1096],[1050,1096],[1050,1096],[1050,1096],[1050,1096],[1050,1096],[1050,1096],[1050,1096],[1050,1096],[1050,1096],[1050,1096],[1050,1096],[1050,1096],[1050,1096],[1050,1096],[1050,1096],[1050,1096],[1050,1096],[1050,1096],[1050,1096],[1050,1096],[1050,1096],[1050,1096],[1050,1096],[1050,1096],[1050,1096],[850,893],[850,893],[850,893],[850,893],[850,893],[850,893],[850,893],[850,893],[850,893],[850,893],[850,893],[850,893],[850,893],[850,893],[850,893],[850,893],[850,893],[850,893],[850,893],[850,893],[850,893],[850,893],[850,893],[850,893],[850,893],[850,893],[850,893],[850,893],[850,893],[850,893],[850,893],[850,893],[850,893],[850,893],[850,893],[850,893],[850,893],[850,893],[850,893],[850,893],[850,893],[850,893],[850,893],[850,893],[850,893],[850,893],[850,893],[850,893],[850,893],[850,893],[850,893],[850,893],[850,893],[850,893],[850,893],[850,893],[850,893],[850,893],[850,893],[850,893],[850,893],[850,893],[750,788],[750,788],[750,788],[750,788],[750,788],[750,788],[750,788],[750,788],[550,582],[550,582],[550,582],[550,582],[550,582],[550,582],[550,582],[550,582],[550,582],[550,582],[550,582],[550,582],[550,582],[550,582],[550,582],[550,582],[550,582],[550,582],[550,582],[550,582],[550,582],[550,582],[550,582],[550,582],[550,582],[550,582],[550,582],[550,582],[550,582],[550,582],[550,582],[550,582],[550,582],[550,582],[550,582],[550,582],[550,582],[550,582],[550,582],[550,582],[550,582],[550,582],[550,582],[550,582],[550,582],[550,582],[550,582],[550,582],[550,582],[550,582],[550,582],[550,582],[550,582],[550,582],[550,582],[550,582],[550,582],[550,582],[550,582],[550,582],[550,582],[550,582],[550,582],[550,582],[550,582],[550,582],[550,582],[650,686],[650,686],[650,686],[650,686],[650,686],[650,686],[650,686],[650,686],[650,686],[950,995],[950,995],[950,995],[950,995],[950,995],[950,995],[950,995],[950,995],[950,995],[950,995],[950,995],[950,995],[950,995],[950,995],[950,995],[950,995],[950,995],[950,995],[950,995],[950,995],[950,995],[950,995],[950,995],[950,995],[950,995],[950,995],[950,995],[950,995],[950,995],[950,995],[950,995],[950,995],[950,995],[950,995],[950,995],[950,995],[950,995],[950,995],[950,995],[950,995],[950,995],[950,995],[950,995],[950,995],[950,995],[950,995],[950,995],[950,995],[950,995],[950,995],[950,995],[950,995],[950,995],[950,995],[950,995],[950,995],[950,995],[950,995],[950,995],[950,995],[950,995],[950,995],[950,995],[950,995],[950,995],[950,995],[950,995],[950,995],[950,995],[950,995],[950,995],[950,995],[950,995],[950,995],[950,995],[950,995],[950,995],[950,995],[950,995],[950,995],[950,995],[950,995],[950,995],[950,995],[950,995],[950,995],[950,995],[950,995],[950,995],[950,995],[950,995],[950,995],[950,995],[950,995],[950,995],[950,995],[950,995],[950,995],[950,995],[950,995],[950,995],[950,995],[950,995],[950,995],[950,995],[950,995],[950,995],[950,995],[950,995],[950,995],[950,995],[950,995],[950,995],[950,995],[950,995],[950,995],[950,995],[950,995],[950,995],[950,995],[950,995],[950,995],[950,995],[350,371],[350,371],[350,371],[350,371],[350,371],[50,62],[50,62],[50,62],[50,62],[50,62],[50,62],[850,890],[850,890],[850,890],[850,890],[850,890],[850,890],[850,890],[850,890],[850,890],[750,787],[750,787],[750,787],[750,787],[750,787],[450,476],[450,476],[450,476],[450,476],[450,476],[450,476],[450,476],[450,476],[450,476],[450,476],[450,476],[450,476],[450,476],[450,476],[450,476],[450,476],[450,476],[450,476],[450,476],[450,476],[450,476],[450,476],[450,476],[450,476],[450,476],[450,476],[450,476],[450,476],[450,476],[450,476],[450,476],[450,476],[450,476],[450,476],[450,476],[450,476],[450,476],[450,476],[450,476],[450,476],[450,476],[450,476],[450,476],[450,476],[450,476],[450,476],[450,476],[450,476],[450,476],[450,476],[450,476],[450,476],[450,476],[450,476],[450,476],[950,994],[950,994],[950,994],[950,994],[850,894],[850,894],[850,894],[850,894],[850,894],[850,894],[850,894],[350,373],[350,373],[350,373],[350,373],[350,373],[350,373],[1050,1096],[1050,1096],[1050,1096],[1050,1096],[1050,1096],[1050,1096],[1050,1096],[450,473],[450,473],[450,473],[450,473],[450,473],[450,473],[450,473],[450,473],[450,473],[450,473],[450,473],[450,473],[450,473],[450,473],[450,473],[450,473],[450,473],[550,578],[550,578],[550,578],[550,578],[550,578],[550,578],[550,578],[650,685],[650,685],[650,685],[650,685],[650,685],[650,685],[650,685],[650,685],[650,685],[650,685],[650,685],[650,685],[650,685],[650,685],[650,685],[650,685],[350,364],[350,364],[350,364],[350,364],[350,364],[350,364],[350,364],[350,364],[350,364],[350,364],[950,995],[950,995],[950,995],[950,995],[950,995],[950,995],[950,995],[950,995],[950,995],[950,995],[950,995],[950,995],[950,995],[950,995],[950,995],[950,995],[950,995],[950,995],[950,995],[950,995],[950,995],[950,995],[950,995],[950,995],[250,263],[250,263],[250,263],[250,263],[250,263],[250,263],[250,263],[250,263],[250,263],[250,263],[250,263],[250,263],[250,263],[250,263],[250,263],[250,263],[250,263],[250,263],[250,263],[250,263],[250,263],[250,263],[250,263],[250,263],[250,263],[250,263],[250,263],[250,263],[250,263],[250,263],[250,263],[250,263],[250,263],[450,476],[450,476],[450,476],[450,476],[450,476],[450,476],[450,476],[450,476],[450,476],[450,476],[450,476],[450,476],[450,476],[450,476],[450,476],[450,476],[450,476],[450,476],[550,578],[550,578],[550,578],[550,578],[550,578]]}},\"id\":\"8474ac0a-024a-4071-aee4-3dcb1f454d59\",\"type\":\"ColumnDataSource\"},{\"attributes\":{\"plot\":{\"id\":\"0208dc0c-d00d-4a66-af45-15abd1f55a39\",\"subtype\":\"Figure\",\"type\":\"Plot\"}},\"id\":\"06958795-bc62-4d7c-9dd0-2ee9968fa6ea\",\"type\":\"ResetTool\"},{\"attributes\":{\"line_alpha\":{\"value\":0.1},\"line_color\":{\"value\":\"#1f77b4\"},\"xs\":{\"field\":\"xs\"},\"ys\":{\"field\":\"ys\"}},\"id\":\"b5772656-12ea-47b6-8219-5750826855a1\",\"type\":\"MultiLine\"},{\"attributes\":{\"plot\":{\"id\":\"0208dc0c-d00d-4a66-af45-15abd1f55a39\",\"subtype\":\"Figure\",\"type\":\"Plot\"}},\"id\":\"f10935ae-dce4-40f5-b1a4-fb1c092e4c0b\",\"type\":\"HelpTool\"},{\"attributes\":{\"dimension\":1,\"plot\":{\"id\":\"0208dc0c-d00d-4a66-af45-15abd1f55a39\",\"subtype\":\"Figure\",\"type\":\"Plot\"},\"ticker\":{\"id\":\"d120a5e5-d9bd-4781-b080-cd2e45648719\",\"type\":\"BasicTicker\"}},\"id\":\"ce877d49-b9a5-4f79-9999-e660ef2c98d3\",\"type\":\"Grid\"},{\"attributes\":{\"plot\":{\"id\":\"0208dc0c-d00d-4a66-af45-15abd1f55a39\",\"subtype\":\"Figure\",\"type\":\"Plot\"}},\"id\":\"b25a7592-76ab-45aa-9d6f-04293f5c5ca7\",\"type\":\"PanTool\"},{\"attributes\":{\"data_source\":{\"id\":\"c6e81e4b-69fb-4606-85c1-1938e3a61b85\",\"type\":\"ColumnDataSource\"},\"glyph\":{\"id\":\"7ced7a1b-427d-4564-98ee-e3a02b28d1aa\",\"type\":\"Quad\"},\"hover_glyph\":null,\"nonselection_glyph\":{\"id\":\"41279e9f-6c84-41a5-a6fe-930d5e41aed9\",\"type\":\"Quad\"},\"selection_glyph\":null},\"id\":\"4986f98c-b64e-40eb-8105-c39a69257c60\",\"type\":\"GlyphRenderer\"},{\"attributes\":{},\"id\":\"3fe22d54-c2d3-4265-abc5-f8b23a65e9a2\",\"type\":\"BasicTickFormatter\"},{\"attributes\":{\"bottom\":{\"field\":\"bottom\"},\"fill_color\":{\"value\":\"white\"},\"left\":{\"field\":\"left\"},\"right\":{\"field\":\"right\"},\"top\":{\"field\":\"top\"}},\"id\":\"b44a1d9e-804b-4b66-8d7f-173578090ab9\",\"type\":\"Quad\"},{\"attributes\":{\"callback\":null,\"column_names\":[\"right\",\"bottom\",\"top\",\"left\",\"fill_color\"],\"data\":{\"bottom\":[150,1050,850,750,550,650,950,350,50,850,750,450,950,850,350,1050,450,550,650,350,950,250,450,550],\"fill_color\":[\"#ff0000\",\"#808080\",\"#808080\",\"#ff0000\",\"#ff0000\",\"#ff0000\",\"#c46161\",\"#ff0000\",\"#ff0000\",\"#ff0000\",\"#ff0000\",\"#c46161\",\"#808080\",\"#808080\",\"#ff0000\",\"#c46161\",\"#ff0000\",\"#ff0000\",\"#c46161\",\"#ff0000\",\"#808080\",\"#ff0000\",\"#ff0000\",\"#ff0000\"],\"left\":[135758116,135758231,135766890,135784351,135795222,135810535,135933921,135946660,136025256,136309239,136364916,136392700,136506375,136535876,136562716,136588031,136589521,136602291,136603638,136647933,136653925,136658314,136696010,136704466],\"right\":[136780494,136376515,136275985,135902220,136382700,135898023,136368563,136103328,136513291,136361560,136387893,136550806,136538939,136554890,136584714,136593678,136642012,136629987,136632125,136678378,136761853,136765458,136764564,136732214],\"top\":[163,1096,893,788,582,686,995,371,62,890,787,476,994,894,373,1096,473,578,685,364,995,263,476,578]}},\"id\":\"c6e81e4b-69fb-4606-85c1-1938e3a61b85\",\"type\":\"ColumnDataSource\"},{\"attributes\":{\"bottom\":{\"field\":\"bottom\"},\"fill_alpha\":{\"value\":0.1},\"fill_color\":{\"value\":\"#1f77b4\"},\"left\":{\"field\":\"left\"},\"line_alpha\":{\"value\":0.1},\"line_color\":{\"value\":\"#1f77b4\"},\"right\":{\"field\":\"right\"},\"top\":{\"field\":\"top\"}},\"id\":\"41279e9f-6c84-41a5-a6fe-930d5e41aed9\",\"type\":\"Quad\"},{\"attributes\":{\"plot\":null,\"text\":null},\"id\":\"af839511-2c2a-420a-b9ef-6a7a70964d1c\",\"type\":\"Title\"}],\"root_ids\":[\"0208dc0c-d00d-4a66-af45-15abd1f55a39\"]},\"title\":\"Bokeh Application\",\"version\":\"0.12.0\"}};\n",
       "            var render_items = [{\"docid\":\"768cf7fc-cb2e-4004-abf0-9833f6724372\",\"elementid\":\"33ec2fbe-a1ea-43fe-834b-bd2a89fb42e0\",\"modelid\":\"0208dc0c-d00d-4a66-af45-15abd1f55a39\",\"notebook_comms_target\":\"ee24e647-f51e-41fb-867f-8485c67a1093\"}];\n",
       "            \n",
       "            Bokeh.embed.embed_items(docs_json, render_items);\n",
       "        });\n",
       "      },\n",
       "      function(Bokeh) {\n",
       "      }\n",
       "    ];\n",
       "  \n",
       "    function run_inline_js() {\n",
       "      for (var i = 0; i < inline_js.length; i++) {\n",
       "        inline_js[i](window.Bokeh);\n",
       "      }\n",
       "    }\n",
       "  \n",
       "    if (window._bokeh_is_loading === 0) {\n",
       "      console.log(\"Bokeh: BokehJS loaded, going straight to plotting\");\n",
       "      run_inline_js();\n",
       "    } else {\n",
       "      load_libs(js_urls, function() {\n",
       "        console.log(\"Bokeh: BokehJS plotting callback run at\", now());\n",
       "        run_inline_js();\n",
       "      });\n",
       "    }\n",
       "  }(this));\n",
       "</script>"
      ]
     },
     "metadata": {},
     "output_type": "display_data"
    },
    {
     "data": {
      "text/html": [
       "<p><code>&lt;Bokeh Notebook handle for <strong>In[3]</strong>&gt;</code></p>"
      ],
      "text/plain": [
       "<bokeh.io._CommsHandle at 0x7f43e1085690>"
      ]
     },
     "execution_count": 3,
     "metadata": {},
     "output_type": "execute_result"
    }
   ],
   "source": [
    "plt_obj = dm.superset_yes_no([dm.di_147_38], min_match=0.5)\n",
    "plt = plt_obj.do_plot()\n",
    "show(plt)"
   ]
  },
  {
   "cell_type": "code",
   "execution_count": 4,
   "metadata": {
    "collapsed": false
   },
   "outputs": [
    {
     "data": {
      "text/html": [
       "<table>\n",
       "<thead><tr><th style=\"text-align:center\">index</th><th style=\"text-align:center\">first</th><th style=\"text-align:center\">length</th><th style=\"text-align:center\">snps</th><th style=\"text-align:center\" colspan=2>alleles</th><th style=\"text-align:center\" colspan=2>matches</th><th style=\"text-align:center\" colspan=2>afr</th><th style=\"text-align:center\" colspan=2>afx</th><th style=\"text-align:center\" colspan=2>amr</th><th style=\"text-align:center\" colspan=2>eas</th><th style=\"text-align:center\" colspan=2>eur</th><th style=\"text-align:center\" colspan=2>sas</th><th style=\"text-align:center\" colspan=2>sax</th></tr></thead>\n",
       "<tr class=\"even\"><td style=\"text-align: right;\">354033</td><td style=\"text-align: right;\">136,588,031</td><td style=\"text-align: right;\">5,647</td><td style=\"text-align: right;\">7</td><td style=\"text-align: right;\">1760</td><td style=\"text-align: right;\">0.02</td><td style=\"text-align: right;\">37</td><td style=\"text-align: right;\">0.97</td><td style=\"text-align: right;\">29</td><td style=\"text-align: right;\">3.89</td><td style=\"text-align: right;\">8</td><td style=\"text-align: right;\">3.45</td><td style=\"text-align: right;\">0</td><td style=\"text-align: right;\">0.00</td><td style=\"text-align: right;\">0</td><td style=\"text-align: right;\">0.00</td><td style=\"text-align: right;\">0</td><td style=\"text-align: right;\">0.00</td><td style=\"text-align: right;\">0</td><td style=\"text-align: right;\">0.00</td><td style=\"text-align: right;\">0</td><td style=\"text-align: right;\">0.00</td></tr>\n",
       "<tr><td style=\"text-align: right;\">353244</td><td style=\"text-align: right;\">135,758,231</td><td style=\"text-align: right;\">618,284</td><td style=\"text-align: right;\">117</td><td style=\"text-align: right;\">1685</td><td style=\"text-align: right;\">0.02</td><td style=\"text-align: right;\">38</td><td style=\"text-align: right;\">1.00</td><td style=\"text-align: right;\">29</td><td style=\"text-align: right;\">3.79</td><td style=\"text-align: right;\">9</td><td style=\"text-align: right;\">3.78</td><td style=\"text-align: right;\">0</td><td style=\"text-align: right;\">0.00</td><td style=\"text-align: right;\">0</td><td style=\"text-align: right;\">0.00</td><td style=\"text-align: right;\">0</td><td style=\"text-align: right;\">0.00</td><td style=\"text-align: right;\">0</td><td style=\"text-align: right;\">0.00</td><td style=\"text-align: right;\">0</td><td style=\"text-align: right;\">0.00</td></tr>\n",
       "<tr class=\"even\"><td style=\"text-align: right;\">353478</td><td style=\"text-align: right;\">135,933,921</td><td style=\"text-align: right;\">434,642</td><td style=\"text-align: right;\">123</td><td style=\"text-align: right;\">1561</td><td style=\"text-align: right;\">0.02</td><td style=\"text-align: right;\">38</td><td style=\"text-align: right;\">1.00</td><td style=\"text-align: right;\">29</td><td style=\"text-align: right;\">3.79</td><td style=\"text-align: right;\">9</td><td style=\"text-align: right;\">3.78</td><td style=\"text-align: right;\">0</td><td style=\"text-align: right;\">0.00</td><td style=\"text-align: right;\">0</td><td style=\"text-align: right;\">0.00</td><td style=\"text-align: right;\">0</td><td style=\"text-align: right;\">0.00</td><td style=\"text-align: right;\">0</td><td style=\"text-align: right;\">0.00</td><td style=\"text-align: right;\">0</td><td style=\"text-align: right;\">0.00</td></tr>\n",
       "<tr><td style=\"text-align: right;\">354130</td><td style=\"text-align: right;\">136,653,925</td><td style=\"text-align: right;\">107,928</td><td style=\"text-align: right;\">24</td><td style=\"text-align: right;\">1504</td><td style=\"text-align: right;\">0.02</td><td style=\"text-align: right;\">35</td><td style=\"text-align: right;\">0.92</td><td style=\"text-align: right;\">28</td><td style=\"text-align: right;\">3.97</td><td style=\"text-align: right;\">7</td><td style=\"text-align: right;\">3.19</td><td style=\"text-align: right;\">0</td><td style=\"text-align: right;\">0.00</td><td style=\"text-align: right;\">0</td><td style=\"text-align: right;\">0.00</td><td style=\"text-align: right;\">0</td><td style=\"text-align: right;\">0.00</td><td style=\"text-align: right;\">0</td><td style=\"text-align: right;\">0.00</td><td style=\"text-align: right;\">0</td><td style=\"text-align: right;\">0.00</td></tr>\n",
       "<tr class=\"even\"><td style=\"text-align: right;\">353925</td><td style=\"text-align: right;\">136,506,375</td><td style=\"text-align: right;\">32,564</td><td style=\"text-align: right;\">4</td><td style=\"text-align: right;\">1442</td><td style=\"text-align: right;\">0.03</td><td style=\"text-align: right;\">38</td><td style=\"text-align: right;\">1.00</td><td style=\"text-align: right;\">29</td><td style=\"text-align: right;\">3.79</td><td style=\"text-align: right;\">9</td><td style=\"text-align: right;\">3.78</td><td style=\"text-align: right;\">0</td><td style=\"text-align: right;\">0.00</td><td style=\"text-align: right;\">0</td><td style=\"text-align: right;\">0.00</td><td style=\"text-align: right;\">0</td><td style=\"text-align: right;\">0.00</td><td style=\"text-align: right;\">0</td><td style=\"text-align: right;\">0.00</td><td style=\"text-align: right;\">0</td><td style=\"text-align: right;\">0.00</td></tr>\n",
       "<tr><td style=\"text-align: right;\">353958</td><td style=\"text-align: right;\">136,535,876</td><td style=\"text-align: right;\">19,014</td><td style=\"text-align: right;\">7</td><td style=\"text-align: right;\">1303</td><td style=\"text-align: right;\">0.03</td><td style=\"text-align: right;\">38</td><td style=\"text-align: right;\">1.00</td><td style=\"text-align: right;\">29</td><td style=\"text-align: right;\">3.79</td><td style=\"text-align: right;\">9</td><td style=\"text-align: right;\">3.78</td><td style=\"text-align: right;\">0</td><td style=\"text-align: right;\">0.00</td><td style=\"text-align: right;\">0</td><td style=\"text-align: right;\">0.00</td><td style=\"text-align: right;\">0</td><td style=\"text-align: right;\">0.00</td><td style=\"text-align: right;\">0</td><td style=\"text-align: right;\">0.00</td><td style=\"text-align: right;\">0</td><td style=\"text-align: right;\">0.00</td></tr>\n",
       "<tr class=\"even\"><td style=\"text-align: right;\">353269</td><td style=\"text-align: right;\">135,766,890</td><td style=\"text-align: right;\">509,095</td><td style=\"text-align: right;\">62</td><td style=\"text-align: right;\">1265</td><td style=\"text-align: right;\">0.03</td><td style=\"text-align: right;\">38</td><td style=\"text-align: right;\">1.00</td><td style=\"text-align: right;\">29</td><td style=\"text-align: right;\">3.79</td><td style=\"text-align: right;\">9</td><td style=\"text-align: right;\">3.78</td><td style=\"text-align: right;\">0</td><td style=\"text-align: right;\">0.00</td><td style=\"text-align: right;\">0</td><td style=\"text-align: right;\">0.00</td><td style=\"text-align: right;\">0</td><td style=\"text-align: right;\">0.00</td><td style=\"text-align: right;\">0</td><td style=\"text-align: right;\">0.00</td><td style=\"text-align: right;\">0</td><td style=\"text-align: right;\">0.00</td></tr>\n",
       "<tr><td style=\"text-align: right;\">353729</td><td style=\"text-align: right;\">136,309,239</td><td style=\"text-align: right;\">52,321</td><td style=\"text-align: right;\">9</td><td style=\"text-align: right;\">887</td><td style=\"text-align: right;\">0.04</td><td style=\"text-align: right;\">38</td><td style=\"text-align: right;\">1.00</td><td style=\"text-align: right;\">29</td><td style=\"text-align: right;\">3.79</td><td style=\"text-align: right;\">9</td><td style=\"text-align: right;\">3.78</td><td style=\"text-align: right;\">0</td><td style=\"text-align: right;\">0.00</td><td style=\"text-align: right;\">0</td><td style=\"text-align: right;\">0.00</td><td style=\"text-align: right;\">0</td><td style=\"text-align: right;\">0.00</td><td style=\"text-align: right;\">0</td><td style=\"text-align: right;\">0.00</td><td style=\"text-align: right;\">0</td><td style=\"text-align: right;\">0.00</td></tr>\n",
       "<tr class=\"even\"><td style=\"text-align: right;\">353312</td><td style=\"text-align: right;\">135,784,351</td><td style=\"text-align: right;\">117,869</td><td style=\"text-align: right;\">8</td><td style=\"text-align: right;\">718</td><td style=\"text-align: right;\">0.05</td><td style=\"text-align: right;\">38</td><td style=\"text-align: right;\">1.00</td><td style=\"text-align: right;\">29</td><td style=\"text-align: right;\">3.79</td><td style=\"text-align: right;\">9</td><td style=\"text-align: right;\">3.78</td><td style=\"text-align: right;\">0</td><td style=\"text-align: right;\">0.00</td><td style=\"text-align: right;\">0</td><td style=\"text-align: right;\">0.00</td><td style=\"text-align: right;\">0</td><td style=\"text-align: right;\">0.00</td><td style=\"text-align: right;\">0</td><td style=\"text-align: right;\">0.00</td><td style=\"text-align: right;\">0</td><td style=\"text-align: right;\">0.00</td></tr>\n",
       "<tr><td style=\"text-align: right;\">353764</td><td style=\"text-align: right;\">136,364,916</td><td style=\"text-align: right;\">22,977</td><td style=\"text-align: right;\">5</td><td style=\"text-align: right;\">588</td><td style=\"text-align: right;\">0.06</td><td style=\"text-align: right;\">37</td><td style=\"text-align: right;\">0.97</td><td style=\"text-align: right;\">28</td><td style=\"text-align: right;\">3.76</td><td style=\"text-align: right;\">9</td><td style=\"text-align: right;\">3.88</td><td style=\"text-align: right;\">0</td><td style=\"text-align: right;\">0.00</td><td style=\"text-align: right;\">0</td><td style=\"text-align: right;\">0.00</td><td style=\"text-align: right;\">0</td><td style=\"text-align: right;\">0.00</td><td style=\"text-align: right;\">0</td><td style=\"text-align: right;\">0.00</td><td style=\"text-align: right;\">0</td><td style=\"text-align: right;\">0.00</td></tr>\n",
       "<tr class=\"even\"><td style=\"text-align: right;\">353349</td><td style=\"text-align: right;\">135,810,535</td><td style=\"text-align: right;\">87,488</td><td style=\"text-align: right;\">9</td><td style=\"text-align: right;\">545</td><td style=\"text-align: right;\">0.07</td><td style=\"text-align: right;\">38</td><td style=\"text-align: right;\">1.00</td><td style=\"text-align: right;\">29</td><td style=\"text-align: right;\">3.79</td><td style=\"text-align: right;\">9</td><td style=\"text-align: right;\">3.78</td><td style=\"text-align: right;\">0</td><td style=\"text-align: right;\">0.00</td><td style=\"text-align: right;\">0</td><td style=\"text-align: right;\">0.00</td><td style=\"text-align: right;\">0</td><td style=\"text-align: right;\">0.00</td><td style=\"text-align: right;\">0</td><td style=\"text-align: right;\">0.00</td><td style=\"text-align: right;\">0</td><td style=\"text-align: right;\">0.00</td></tr>\n",
       "<tr><td style=\"text-align: right;\">354061</td><td style=\"text-align: right;\">136,603,638</td><td style=\"text-align: right;\">28,487</td><td style=\"text-align: right;\">16</td><td style=\"text-align: right;\">511</td><td style=\"text-align: right;\">0.07</td><td style=\"text-align: right;\">37</td><td style=\"text-align: right;\">0.97</td><td style=\"text-align: right;\">29</td><td style=\"text-align: right;\">3.89</td><td style=\"text-align: right;\">8</td><td style=\"text-align: right;\">3.45</td><td style=\"text-align: right;\">0</td><td style=\"text-align: right;\">0.00</td><td style=\"text-align: right;\">0</td><td style=\"text-align: right;\">0.00</td><td style=\"text-align: right;\">0</td><td style=\"text-align: right;\">0.00</td><td style=\"text-align: right;\">0</td><td style=\"text-align: right;\">0.00</td><td style=\"text-align: right;\">0</td><td style=\"text-align: right;\">0.00</td></tr>\n",
       "<tr class=\"even\"><td style=\"text-align: right;\">353331</td><td style=\"text-align: right;\">135,795,222</td><td style=\"text-align: right;\">587,478</td><td style=\"text-align: right;\">67</td><td style=\"text-align: right;\">329</td><td style=\"text-align: right;\">0.12</td><td style=\"text-align: right;\">38</td><td style=\"text-align: right;\">1.00</td><td style=\"text-align: right;\">29</td><td style=\"text-align: right;\">3.79</td><td style=\"text-align: right;\">9</td><td style=\"text-align: right;\">3.78</td><td style=\"text-align: right;\">0</td><td style=\"text-align: right;\">0.00</td><td style=\"text-align: right;\">0</td><td style=\"text-align: right;\">0.00</td><td style=\"text-align: right;\">0</td><td style=\"text-align: right;\">0.00</td><td style=\"text-align: right;\">0</td><td style=\"text-align: right;\">0.00</td><td style=\"text-align: right;\">0</td><td style=\"text-align: right;\">0.00</td></tr>\n",
       "<tr><td style=\"text-align: right;\">354057</td><td style=\"text-align: right;\">136,602,291</td><td style=\"text-align: right;\">27,696</td><td style=\"text-align: right;\">7</td><td style=\"text-align: right;\">226</td><td style=\"text-align: right;\">0.15</td><td style=\"text-align: right;\">35</td><td style=\"text-align: right;\">0.92</td><td style=\"text-align: right;\">28</td><td style=\"text-align: right;\">3.97</td><td style=\"text-align: right;\">7</td><td style=\"text-align: right;\">3.19</td><td style=\"text-align: right;\">0</td><td style=\"text-align: right;\">0.00</td><td style=\"text-align: right;\">0</td><td style=\"text-align: right;\">0.00</td><td style=\"text-align: right;\">0</td><td style=\"text-align: right;\">0.00</td><td style=\"text-align: right;\">0</td><td style=\"text-align: right;\">0.00</td><td style=\"text-align: right;\">0</td><td style=\"text-align: right;\">0.00</td></tr>\n",
       "<tr class=\"even\"><td style=\"text-align: right;\">354189</td><td style=\"text-align: right;\">136,704,466</td><td style=\"text-align: right;\">27,748</td><td style=\"text-align: right;\">5</td><td style=\"text-align: right;\">212</td><td style=\"text-align: right;\">0.17</td><td style=\"text-align: right;\">35</td><td style=\"text-align: right;\">0.92</td><td style=\"text-align: right;\">28</td><td style=\"text-align: right;\">3.97</td><td style=\"text-align: right;\">7</td><td style=\"text-align: right;\">3.19</td><td style=\"text-align: right;\">0</td><td style=\"text-align: right;\">0.00</td><td style=\"text-align: right;\">0</td><td style=\"text-align: right;\">0.00</td><td style=\"text-align: right;\">0</td><td style=\"text-align: right;\">0.00</td><td style=\"text-align: right;\">0</td><td style=\"text-align: right;\">0.00</td><td style=\"text-align: right;\">0</td><td style=\"text-align: right;\">0.00</td></tr>\n",
       "<tr><td style=\"text-align: right;\">353788</td><td style=\"text-align: right;\">136,392,700</td><td style=\"text-align: right;\">158,106</td><td style=\"text-align: right;\">55</td><td style=\"text-align: right;\">180</td><td style=\"text-align: right;\">0.21</td><td style=\"text-align: right;\">38</td><td style=\"text-align: right;\">1.00</td><td style=\"text-align: right;\">29</td><td style=\"text-align: right;\">3.79</td><td style=\"text-align: right;\">9</td><td style=\"text-align: right;\">3.78</td><td style=\"text-align: right;\">0</td><td style=\"text-align: right;\">0.00</td><td style=\"text-align: right;\">0</td><td style=\"text-align: right;\">0.00</td><td style=\"text-align: right;\">0</td><td style=\"text-align: right;\">0.00</td><td style=\"text-align: right;\">0</td><td style=\"text-align: right;\">0.00</td><td style=\"text-align: right;\">0</td><td style=\"text-align: right;\">0.00</td></tr>\n",
       "<tr class=\"even\"><td style=\"text-align: right;\">354181</td><td style=\"text-align: right;\">136,696,010</td><td style=\"text-align: right;\">68,554</td><td style=\"text-align: right;\">18</td><td style=\"text-align: right;\">172</td><td style=\"text-align: right;\">0.20</td><td style=\"text-align: right;\">35</td><td style=\"text-align: right;\">0.92</td><td style=\"text-align: right;\">28</td><td style=\"text-align: right;\">3.97</td><td style=\"text-align: right;\">7</td><td style=\"text-align: right;\">3.19</td><td style=\"text-align: right;\">0</td><td style=\"text-align: right;\">0.00</td><td style=\"text-align: right;\">0</td><td style=\"text-align: right;\">0.00</td><td style=\"text-align: right;\">0</td><td style=\"text-align: right;\">0.00</td><td style=\"text-align: right;\">0</td><td style=\"text-align: right;\">0.00</td><td style=\"text-align: right;\">0</td><td style=\"text-align: right;\">0.00</td></tr>\n",
       "<tr><td style=\"text-align: right;\">354036</td><td style=\"text-align: right;\">136,589,521</td><td style=\"text-align: right;\">52,491</td><td style=\"text-align: right;\">17</td><td style=\"text-align: right;\">127</td><td style=\"text-align: right;\">0.28</td><td style=\"text-align: right;\">35</td><td style=\"text-align: right;\">0.92</td><td style=\"text-align: right;\">28</td><td style=\"text-align: right;\">3.97</td><td style=\"text-align: right;\">7</td><td style=\"text-align: right;\">3.19</td><td style=\"text-align: right;\">0</td><td style=\"text-align: right;\">0.00</td><td style=\"text-align: right;\">0</td><td style=\"text-align: right;\">0.00</td><td style=\"text-align: right;\">0</td><td style=\"text-align: right;\">0.00</td><td style=\"text-align: right;\">0</td><td style=\"text-align: right;\">0.00</td><td style=\"text-align: right;\">0</td><td style=\"text-align: right;\">0.00</td></tr>\n",
       "<tr class=\"even\"><td style=\"text-align: right;\">353992</td><td style=\"text-align: right;\">136,562,716</td><td style=\"text-align: right;\">21,998</td><td style=\"text-align: right;\">6</td><td style=\"text-align: right;\">127</td><td style=\"text-align: right;\">0.28</td><td style=\"text-align: right;\">36</td><td style=\"text-align: right;\">0.95</td><td style=\"text-align: right;\">29</td><td style=\"text-align: right;\">4.00</td><td style=\"text-align: right;\">7</td><td style=\"text-align: right;\">3.10</td><td style=\"text-align: right;\">0</td><td style=\"text-align: right;\">0.00</td><td style=\"text-align: right;\">0</td><td style=\"text-align: right;\">0.00</td><td style=\"text-align: right;\">0</td><td style=\"text-align: right;\">0.00</td><td style=\"text-align: right;\">0</td><td style=\"text-align: right;\">0.00</td><td style=\"text-align: right;\">0</td><td style=\"text-align: right;\">0.00</td></tr>\n",
       "<tr><td style=\"text-align: right;\">353486</td><td style=\"text-align: right;\">135,946,660</td><td style=\"text-align: right;\">156,668</td><td style=\"text-align: right;\">5</td><td style=\"text-align: right;\">96</td><td style=\"text-align: right;\">0.40</td><td style=\"text-align: right;\">38</td><td style=\"text-align: right;\">1.00</td><td style=\"text-align: right;\">29</td><td style=\"text-align: right;\">3.79</td><td style=\"text-align: right;\">9</td><td style=\"text-align: right;\">3.78</td><td style=\"text-align: right;\">0</td><td style=\"text-align: right;\">0.00</td><td style=\"text-align: right;\">0</td><td style=\"text-align: right;\">0.00</td><td style=\"text-align: right;\">0</td><td style=\"text-align: right;\">0.00</td><td style=\"text-align: right;\">0</td><td style=\"text-align: right;\">0.00</td><td style=\"text-align: right;\">0</td><td style=\"text-align: right;\">0.00</td></tr>\n",
       "<tr class=\"even\"><td style=\"text-align: right;\">354115</td><td style=\"text-align: right;\">136,647,933</td><td style=\"text-align: right;\">30,445</td><td style=\"text-align: right;\">10</td><td style=\"text-align: right;\">43</td><td style=\"text-align: right;\">0.77</td><td style=\"text-align: right;\">33</td><td style=\"text-align: right;\">0.87</td><td style=\"text-align: right;\">26</td><td style=\"text-align: right;\">3.91</td><td style=\"text-align: right;\">7</td><td style=\"text-align: right;\">3.38</td><td style=\"text-align: right;\">0</td><td style=\"text-align: right;\">0.00</td><td style=\"text-align: right;\">0</td><td style=\"text-align: right;\">0.00</td><td style=\"text-align: right;\">0</td><td style=\"text-align: right;\">0.00</td><td style=\"text-align: right;\">0</td><td style=\"text-align: right;\">0.00</td><td style=\"text-align: right;\">0</td><td style=\"text-align: right;\">0.00</td></tr>\n",
       "<tr><td style=\"text-align: right;\">354144</td><td style=\"text-align: right;\">136,658,314</td><td style=\"text-align: right;\">107,144</td><td style=\"text-align: right;\">33</td><td style=\"text-align: right;\">38</td><td style=\"text-align: right;\">0.87</td><td style=\"text-align: right;\">33</td><td style=\"text-align: right;\">0.87</td><td style=\"text-align: right;\">26</td><td style=\"text-align: right;\">3.91</td><td style=\"text-align: right;\">7</td><td style=\"text-align: right;\">3.38</td><td style=\"text-align: right;\">0</td><td style=\"text-align: right;\">0.00</td><td style=\"text-align: right;\">0</td><td style=\"text-align: right;\">0.00</td><td style=\"text-align: right;\">0</td><td style=\"text-align: right;\">0.00</td><td style=\"text-align: right;\">0</td><td style=\"text-align: right;\">0.00</td><td style=\"text-align: right;\">0</td><td style=\"text-align: right;\">0.00</td></tr>\n",
       "<tr class=\"even\"><td style=\"text-align: right;\">353242</td><td style=\"text-align: right;\">135,758,116</td><td style=\"text-align: right;\">1,022,378</td><td style=\"text-align: right;\">147</td><td style=\"text-align: right;\">38</td><td style=\"text-align: right;\">1.00</td><td style=\"text-align: right;\">38</td><td style=\"text-align: right;\">1.00</td><td style=\"text-align: right;\">29</td><td style=\"text-align: right;\">3.79</td><td style=\"text-align: right;\">9</td><td style=\"text-align: right;\">3.78</td><td style=\"text-align: right;\">0</td><td style=\"text-align: right;\">0.00</td><td style=\"text-align: right;\">0</td><td style=\"text-align: right;\">0.00</td><td style=\"text-align: right;\">0</td><td style=\"text-align: right;\">0.00</td><td style=\"text-align: right;\">0</td><td style=\"text-align: right;\">0.00</td><td style=\"text-align: right;\">0</td><td style=\"text-align: right;\">0.00</td></tr>\n",
       "<tr><td style=\"text-align: right;\">353556</td><td style=\"text-align: right;\">136,025,256</td><td style=\"text-align: right;\">488,035</td><td style=\"text-align: right;\">6</td><td style=\"text-align: right;\">32</td><td style=\"text-align: right;\">1.00</td><td style=\"text-align: right;\">32</td><td style=\"text-align: right;\">0.84</td><td style=\"text-align: right;\">27</td><td style=\"text-align: right;\">4.19</td><td style=\"text-align: right;\">5</td><td style=\"text-align: right;\">2.49</td><td style=\"text-align: right;\">0</td><td style=\"text-align: right;\">0.00</td><td style=\"text-align: right;\">0</td><td style=\"text-align: right;\">0.00</td><td style=\"text-align: right;\">0</td><td style=\"text-align: right;\">0.00</td><td style=\"text-align: right;\">0</td><td style=\"text-align: right;\">0.00</td><td style=\"text-align: right;\">0</td><td style=\"text-align: right;\">0.00</td></tr>\n",
       "</table>"
      ],
      "text/plain": [
       "<IPython.core.display.HTML object>"
      ]
     },
     "execution_count": 4,
     "metadata": {},
     "output_type": "execute_result"
    }
   ],
   "source": [
    "HTML(plt_obj.get_html())"
   ]
  },
  {
   "cell_type": "code",
   "execution_count": 5,
   "metadata": {
    "collapsed": false
   },
   "outputs": [
    {
     "data": {
      "text/html": [
       "\n",
       "\n",
       "    <div class=\"bk-root\">\n",
       "        <div class=\"plotdiv\" id=\"6b631dfd-7c9e-4892-8f24-c45212c98dcb\"></div>\n",
       "    </div>\n",
       "<script type=\"text/javascript\">\n",
       "  \n",
       "  (function(global) {\n",
       "    function now() {\n",
       "      return new Date();\n",
       "    }\n",
       "  \n",
       "    if (typeof (window._bokeh_onload_callbacks) === \"undefined\") {\n",
       "      window._bokeh_onload_callbacks = [];\n",
       "    }\n",
       "  \n",
       "    function run_callbacks() {\n",
       "      window._bokeh_onload_callbacks.forEach(function(callback) { callback() });\n",
       "      delete window._bokeh_onload_callbacks\n",
       "      console.info(\"Bokeh: all callbacks have finished\");\n",
       "    }\n",
       "  \n",
       "    function load_libs(js_urls, callback) {\n",
       "      window._bokeh_onload_callbacks.push(callback);\n",
       "      if (window._bokeh_is_loading > 0) {\n",
       "        console.log(\"Bokeh: BokehJS is being loaded, scheduling callback at\", now());\n",
       "        return null;\n",
       "      }\n",
       "      if (js_urls == null || js_urls.length === 0) {\n",
       "        run_callbacks();\n",
       "        return null;\n",
       "      }\n",
       "      console.log(\"Bokeh: BokehJS not loaded, scheduling load and callback at\", now());\n",
       "      window._bokeh_is_loading = js_urls.length;\n",
       "      for (var i = 0; i < js_urls.length; i++) {\n",
       "        var url = js_urls[i];\n",
       "        var s = document.createElement('script');\n",
       "        s.src = url;\n",
       "        s.async = false;\n",
       "        s.onreadystatechange = s.onload = function() {\n",
       "          window._bokeh_is_loading--;\n",
       "          if (window._bokeh_is_loading === 0) {\n",
       "            console.log(\"Bokeh: all BokehJS libraries loaded\");\n",
       "            run_callbacks()\n",
       "          }\n",
       "        };\n",
       "        s.onerror = function() {\n",
       "          console.warn(\"failed to load library \" + url);\n",
       "        };\n",
       "        console.log(\"Bokeh: injecting script tag for BokehJS library: \", url);\n",
       "        document.getElementsByTagName(\"head\")[0].appendChild(s);\n",
       "      }\n",
       "    };var element = document.getElementById(\"6b631dfd-7c9e-4892-8f24-c45212c98dcb\");\n",
       "    if (element == null) {\n",
       "      console.log(\"Bokeh: ERROR: autoload.js configured with elementid '6b631dfd-7c9e-4892-8f24-c45212c98dcb' but no matching script tag was found. \")\n",
       "      return false;\n",
       "    }\n",
       "  \n",
       "    var js_urls = [];\n",
       "  \n",
       "    var inline_js = [\n",
       "      function(Bokeh) {\n",
       "        Bokeh.$(function() {\n",
       "            var docs_json = {\"c0c321d5-7d78-468b-8016-a309619000dc\":{\"roots\":{\"references\":[{\"attributes\":{\"overlay\":{\"id\":\"6e6fa13c-bc1b-41d6-9292-51545fa6ead3\",\"type\":\"BoxAnnotation\"},\"plot\":{\"id\":\"45b64175-2d1a-47dc-9acc-f513b3af6c0c\",\"subtype\":\"Figure\",\"type\":\"Plot\"}},\"id\":\"b68b09a7-7e98-4729-8bbb-3987fc983508\",\"type\":\"BoxZoomTool\"},{\"attributes\":{},\"id\":\"7437fb44-19ee-4ca5-b59b-3494172fad63\",\"type\":\"BasicTicker\"},{\"attributes\":{},\"id\":\"cd0c6829-7623-4a3a-858d-4249dcdb425a\",\"type\":\"BasicTickFormatter\"},{\"attributes\":{\"plot\":null,\"text\":null},\"id\":\"f62466df-61f5-47b3-bcad-f3a102aaf996\",\"type\":\"Title\"},{\"attributes\":{},\"id\":\"aeee8661-0093-4841-ac3f-203ab90312ba\",\"type\":\"BasicTicker\"},{\"attributes\":{\"plot\":{\"id\":\"45b64175-2d1a-47dc-9acc-f513b3af6c0c\",\"subtype\":\"Figure\",\"type\":\"Plot\"}},\"id\":\"a7968ab2-ec59-4687-92c6-01e5ebebd863\",\"type\":\"SaveTool\"},{\"attributes\":{\"bottom_units\":\"screen\",\"fill_alpha\":{\"value\":0.5},\"fill_color\":{\"value\":\"lightgrey\"},\"left_units\":\"screen\",\"level\":\"overlay\",\"line_alpha\":{\"value\":1.0},\"line_color\":{\"value\":\"black\"},\"line_dash\":[4,4],\"line_width\":{\"value\":2},\"plot\":null,\"render_mode\":\"css\",\"right_units\":\"screen\",\"top_units\":\"screen\"},\"id\":\"6e6fa13c-bc1b-41d6-9292-51545fa6ead3\",\"type\":\"BoxAnnotation\"},{\"attributes\":{\"line_color\":{\"value\":\"#1f77b4\"},\"x\":{\"field\":\"x\"},\"y\":{\"field\":\"y\"}},\"id\":\"cae40956-5b4c-4194-a2f5-d63713954620\",\"type\":\"Line\"},{\"attributes\":{\"plot\":{\"id\":\"45b64175-2d1a-47dc-9acc-f513b3af6c0c\",\"subtype\":\"Figure\",\"type\":\"Plot\"},\"ticker\":{\"id\":\"7437fb44-19ee-4ca5-b59b-3494172fad63\",\"type\":\"BasicTicker\"}},\"id\":\"e3060eff-f02c-4167-a0ae-6808c03e30eb\",\"type\":\"Grid\"},{\"attributes\":{},\"id\":\"43b91410-d4d5-45a0-9531-89ad182a6f23\",\"type\":\"BasicTickFormatter\"},{\"attributes\":{\"dimension\":1,\"plot\":{\"id\":\"45b64175-2d1a-47dc-9acc-f513b3af6c0c\",\"subtype\":\"Figure\",\"type\":\"Plot\"},\"ticker\":{\"id\":\"aeee8661-0093-4841-ac3f-203ab90312ba\",\"type\":\"BasicTicker\"}},\"id\":\"f366de0d-bd03-4416-afff-15fb797c88f5\",\"type\":\"Grid\"},{\"attributes\":{\"callback\":null,\"end\":5413.1},\"id\":\"7fb586bb-3bb1-482a-9891-9610412fa910\",\"type\":\"Range1d\"},{\"attributes\":{\"plot\":{\"id\":\"45b64175-2d1a-47dc-9acc-f513b3af6c0c\",\"subtype\":\"Figure\",\"type\":\"Plot\"}},\"id\":\"ea22b22e-ef5f-45dd-bdfc-748c7da38a0a\",\"type\":\"PanTool\"},{\"attributes\":{\"active_drag\":\"auto\",\"active_scroll\":\"auto\",\"active_tap\":\"auto\",\"tools\":[{\"id\":\"ea22b22e-ef5f-45dd-bdfc-748c7da38a0a\",\"type\":\"PanTool\"},{\"id\":\"f45b3393-72d8-4b03-b9bf-3970230be781\",\"type\":\"WheelZoomTool\"},{\"id\":\"b68b09a7-7e98-4729-8bbb-3987fc983508\",\"type\":\"BoxZoomTool\"},{\"id\":\"a7968ab2-ec59-4687-92c6-01e5ebebd863\",\"type\":\"SaveTool\"},{\"id\":\"85f108f9-6983-4b02-893e-785ab525bf65\",\"type\":\"ResetTool\"},{\"id\":\"b416cc27-1a1f-463e-b2d2-38331eb66c81\",\"type\":\"HelpTool\"}]},\"id\":\"3ddbbd07-22a4-4a01-bf8e-8266d493c89a\",\"type\":\"Toolbar\"},{\"attributes\":{},\"id\":\"9ac325ce-4084-4cdf-aa5e-0e9f0a31cf86\",\"type\":\"ToolEvents\"},{\"attributes\":{\"plot\":{\"id\":\"45b64175-2d1a-47dc-9acc-f513b3af6c0c\",\"subtype\":\"Figure\",\"type\":\"Plot\"}},\"id\":\"85f108f9-6983-4b02-893e-785ab525bf65\",\"type\":\"ResetTool\"},{\"attributes\":{\"formatter\":{\"id\":\"43b91410-d4d5-45a0-9531-89ad182a6f23\",\"type\":\"BasicTickFormatter\"},\"plot\":{\"id\":\"45b64175-2d1a-47dc-9acc-f513b3af6c0c\",\"subtype\":\"Figure\",\"type\":\"Plot\"},\"ticker\":{\"id\":\"7437fb44-19ee-4ca5-b59b-3494172fad63\",\"type\":\"BasicTicker\"}},\"id\":\"3b214e48-0e0e-4716-8e28-157ebaa8fb59\",\"type\":\"LinearAxis\"},{\"attributes\":{\"callback\":null,\"column_names\":[\"y\",\"x\"],\"data\":{\"x\":[-0.5,-0.5,0.5,0.5,1.5,1.5,2.5,2.5,3.5,3.5,4.5,4.5,5.5,5.5,6.5,6.5,7.5,7.5,10.5,10.5,11.5,11.5,17.5,17.5,18.5,18.5,25.5,25.5,26.5,26.5,52.5,52.5,53.5,53.5,100.5,100.5,101.5,101.5,136.5,136.5,137.5,137.5,138.5,138.5,139.5,139.5,144.5,144.5,145.5,145.5,146.5,146.5,147.5,147.5],\"y\":[0.0,4921.0,4921.0,32.0,32.0,1.0,1.0,2.0,2.0,0.0,0.0,6.0,6.0,0.0,0.0,1.0,1.0,0.0,0.0,2.0,2.0,0.0,0.0,2.0,2.0,0.0,0.0,1.0,1.0,0.0,0.0,1.0,1.0,0.0,0.0,1.0,1.0,0.0,0.0,2.0,2.0,0.0,0.0,1.0,1.0,0.0,0.0,1.0,1.0,2.0,2.0,32.0,32.0,0.0]}},\"id\":\"3aee9b73-9a04-4a07-ad47-f0a006d297fc\",\"type\":\"ColumnDataSource\"},{\"attributes\":{\"callback\":null,\"end\":148.5,\"start\":-0.5},\"id\":\"87fecdf2-55ac-4551-bed7-e34075eed377\",\"type\":\"Range1d\"},{\"attributes\":{\"below\":[{\"id\":\"3b214e48-0e0e-4716-8e28-157ebaa8fb59\",\"type\":\"LinearAxis\"}],\"left\":[{\"id\":\"6cc898f5-3fac-4d2b-b1dc-f8828aa2a2ea\",\"type\":\"LinearAxis\"}],\"plot_height\":400,\"plot_width\":900,\"renderers\":[{\"id\":\"3b214e48-0e0e-4716-8e28-157ebaa8fb59\",\"type\":\"LinearAxis\"},{\"id\":\"e3060eff-f02c-4167-a0ae-6808c03e30eb\",\"type\":\"Grid\"},{\"id\":\"6cc898f5-3fac-4d2b-b1dc-f8828aa2a2ea\",\"type\":\"LinearAxis\"},{\"id\":\"f366de0d-bd03-4416-afff-15fb797c88f5\",\"type\":\"Grid\"},{\"id\":\"6e6fa13c-bc1b-41d6-9292-51545fa6ead3\",\"type\":\"BoxAnnotation\"},{\"id\":\"7f6dabb0-71e4-45be-9368-84ed60d27d8c\",\"type\":\"GlyphRenderer\"}],\"title\":{\"id\":\"f62466df-61f5-47b3-bcad-f3a102aaf996\",\"type\":\"Title\"},\"tool_events\":{\"id\":\"9ac325ce-4084-4cdf-aa5e-0e9f0a31cf86\",\"type\":\"ToolEvents\"},\"toolbar\":{\"id\":\"3ddbbd07-22a4-4a01-bf8e-8266d493c89a\",\"type\":\"Toolbar\"},\"toolbar_location\":null,\"x_range\":{\"id\":\"87fecdf2-55ac-4551-bed7-e34075eed377\",\"type\":\"Range1d\"},\"y_range\":{\"id\":\"7fb586bb-3bb1-482a-9891-9610412fa910\",\"type\":\"Range1d\"}},\"id\":\"45b64175-2d1a-47dc-9acc-f513b3af6c0c\",\"subtype\":\"Figure\",\"type\":\"Plot\"},{\"attributes\":{\"plot\":{\"id\":\"45b64175-2d1a-47dc-9acc-f513b3af6c0c\",\"subtype\":\"Figure\",\"type\":\"Plot\"}},\"id\":\"f45b3393-72d8-4b03-b9bf-3970230be781\",\"type\":\"WheelZoomTool\"},{\"attributes\":{\"formatter\":{\"id\":\"cd0c6829-7623-4a3a-858d-4249dcdb425a\",\"type\":\"BasicTickFormatter\"},\"plot\":{\"id\":\"45b64175-2d1a-47dc-9acc-f513b3af6c0c\",\"subtype\":\"Figure\",\"type\":\"Plot\"},\"ticker\":{\"id\":\"aeee8661-0093-4841-ac3f-203ab90312ba\",\"type\":\"BasicTicker\"}},\"id\":\"6cc898f5-3fac-4d2b-b1dc-f8828aa2a2ea\",\"type\":\"LinearAxis\"},{\"attributes\":{\"plot\":{\"id\":\"45b64175-2d1a-47dc-9acc-f513b3af6c0c\",\"subtype\":\"Figure\",\"type\":\"Plot\"}},\"id\":\"b416cc27-1a1f-463e-b2d2-38331eb66c81\",\"type\":\"HelpTool\"},{\"attributes\":{\"line_alpha\":{\"value\":0.1},\"line_color\":{\"value\":\"#1f77b4\"},\"x\":{\"field\":\"x\"},\"y\":{\"field\":\"y\"}},\"id\":\"7ad7eeba-6544-4dd8-9fe4-b2069a1c4555\",\"type\":\"Line\"},{\"attributes\":{\"data_source\":{\"id\":\"3aee9b73-9a04-4a07-ad47-f0a006d297fc\",\"type\":\"ColumnDataSource\"},\"glyph\":{\"id\":\"cae40956-5b4c-4194-a2f5-d63713954620\",\"type\":\"Line\"},\"hover_glyph\":null,\"nonselection_glyph\":{\"id\":\"7ad7eeba-6544-4dd8-9fe4-b2069a1c4555\",\"type\":\"Line\"},\"selection_glyph\":null},\"id\":\"7f6dabb0-71e4-45be-9368-84ed60d27d8c\",\"type\":\"GlyphRenderer\"}],\"root_ids\":[\"45b64175-2d1a-47dc-9acc-f513b3af6c0c\"]},\"title\":\"Bokeh Application\",\"version\":\"0.12.0\"}};\n",
       "            var render_items = [{\"docid\":\"c0c321d5-7d78-468b-8016-a309619000dc\",\"elementid\":\"6b631dfd-7c9e-4892-8f24-c45212c98dcb\",\"modelid\":\"45b64175-2d1a-47dc-9acc-f513b3af6c0c\",\"notebook_comms_target\":\"677de89d-e54a-42de-91b2-7f6abf204bd8\"}];\n",
       "            \n",
       "            Bokeh.embed.embed_items(docs_json, render_items);\n",
       "        });\n",
       "      },\n",
       "      function(Bokeh) {\n",
       "      }\n",
       "    ];\n",
       "  \n",
       "    function run_inline_js() {\n",
       "      for (var i = 0; i < inline_js.length; i++) {\n",
       "        inline_js[i](window.Bokeh);\n",
       "      }\n",
       "    }\n",
       "  \n",
       "    if (window._bokeh_is_loading === 0) {\n",
       "      console.log(\"Bokeh: BokehJS loaded, going straight to plotting\");\n",
       "      run_inline_js();\n",
       "    } else {\n",
       "      load_libs(js_urls, function() {\n",
       "        console.log(\"Bokeh: BokehJS plotting callback run at\", now());\n",
       "        run_inline_js();\n",
       "      });\n",
       "    }\n",
       "  }(this));\n",
       "</script>"
      ]
     },
     "metadata": {},
     "output_type": "display_data"
    },
    {
     "data": {
      "text/html": [
       "<p><code>&lt;Bokeh Notebook handle for <strong>In[5]</strong>&gt;</code></p>"
      ],
      "text/plain": [
       "<bokeh.io._CommsHandle at 0x7f43e0b59590>"
      ]
     },
     "execution_count": 5,
     "metadata": {},
     "output_type": "execute_result"
    }
   ],
   "source": [
    "count_data = sa_147_38.unique_snps_per_allele()\n",
    "plt_obj = smcp(count_data)\n",
    "plt = plt_obj.do_plot()\n",
    "show(plt)"
   ]
  },
  {
   "cell_type": "code",
   "execution_count": 6,
   "metadata": {
    "collapsed": false
   },
   "outputs": [
    {
     "data": {
      "text/plain": [
       "array([(0, 4921), (1, 32), (2, 1), (3, 2), (5, 6), (7, 1), (11, 2),\n",
       "       (18, 2), (26, 1), (53, 1), (101, 1), (137, 2), (139, 1), (145, 1),\n",
       "       (146, 2), (147, 32)], \n",
       "      dtype=[('count', '<u2'), ('snps', '<u2')])"
      ]
     },
     "execution_count": 6,
     "metadata": {},
     "output_type": "execute_result"
    }
   ],
   "source": [
    "count_data"
   ]
  },
  {
   "cell_type": "code",
   "execution_count": 7,
   "metadata": {
    "collapsed": false
   },
   "outputs": [
    {
     "data": {
      "text/html": [
       "\n",
       "\n",
       "    <div class=\"bk-root\">\n",
       "        <div class=\"plotdiv\" id=\"a340298d-a800-4fb1-ab81-ba44129a3b42\"></div>\n",
       "    </div>\n",
       "<script type=\"text/javascript\">\n",
       "  \n",
       "  (function(global) {\n",
       "    function now() {\n",
       "      return new Date();\n",
       "    }\n",
       "  \n",
       "    if (typeof (window._bokeh_onload_callbacks) === \"undefined\") {\n",
       "      window._bokeh_onload_callbacks = [];\n",
       "    }\n",
       "  \n",
       "    function run_callbacks() {\n",
       "      window._bokeh_onload_callbacks.forEach(function(callback) { callback() });\n",
       "      delete window._bokeh_onload_callbacks\n",
       "      console.info(\"Bokeh: all callbacks have finished\");\n",
       "    }\n",
       "  \n",
       "    function load_libs(js_urls, callback) {\n",
       "      window._bokeh_onload_callbacks.push(callback);\n",
       "      if (window._bokeh_is_loading > 0) {\n",
       "        console.log(\"Bokeh: BokehJS is being loaded, scheduling callback at\", now());\n",
       "        return null;\n",
       "      }\n",
       "      if (js_urls == null || js_urls.length === 0) {\n",
       "        run_callbacks();\n",
       "        return null;\n",
       "      }\n",
       "      console.log(\"Bokeh: BokehJS not loaded, scheduling load and callback at\", now());\n",
       "      window._bokeh_is_loading = js_urls.length;\n",
       "      for (var i = 0; i < js_urls.length; i++) {\n",
       "        var url = js_urls[i];\n",
       "        var s = document.createElement('script');\n",
       "        s.src = url;\n",
       "        s.async = false;\n",
       "        s.onreadystatechange = s.onload = function() {\n",
       "          window._bokeh_is_loading--;\n",
       "          if (window._bokeh_is_loading === 0) {\n",
       "            console.log(\"Bokeh: all BokehJS libraries loaded\");\n",
       "            run_callbacks()\n",
       "          }\n",
       "        };\n",
       "        s.onerror = function() {\n",
       "          console.warn(\"failed to load library \" + url);\n",
       "        };\n",
       "        console.log(\"Bokeh: injecting script tag for BokehJS library: \", url);\n",
       "        document.getElementsByTagName(\"head\")[0].appendChild(s);\n",
       "      }\n",
       "    };var element = document.getElementById(\"a340298d-a800-4fb1-ab81-ba44129a3b42\");\n",
       "    if (element == null) {\n",
       "      console.log(\"Bokeh: ERROR: autoload.js configured with elementid 'a340298d-a800-4fb1-ab81-ba44129a3b42' but no matching script tag was found. \")\n",
       "      return false;\n",
       "    }\n",
       "  \n",
       "    var js_urls = [];\n",
       "  \n",
       "    var inline_js = [\n",
       "      function(Bokeh) {\n",
       "        Bokeh.$(function() {\n",
       "            var docs_json = {\"a63e2ba4-12da-435f-9086-6ab211ba0ac5\":{\"roots\":{\"references\":[{\"attributes\":{},\"id\":\"1331a7cf-d730-4ecf-9359-b98d22f1a006\",\"type\":\"ToolEvents\"},{\"attributes\":{},\"id\":\"4cc1351e-d475-4832-99a5-c183f41a7a39\",\"type\":\"BasicTicker\"},{\"attributes\":{\"formatter\":{\"id\":\"32942fe6-45f6-4c22-a48b-e23aa66eaaad\",\"type\":\"BasicTickFormatter\"},\"plot\":{\"id\":\"0af02465-c869-45b1-8a36-2ba73c6e58a9\",\"subtype\":\"Figure\",\"type\":\"Plot\"},\"ticker\":{\"id\":\"126ce2df-3846-4b78-8c67-156578cbabca\",\"type\":\"BasicTicker\"}},\"id\":\"d342f43c-bd2d-40e3-926e-98f98e22fa53\",\"type\":\"LinearAxis\"},{\"attributes\":{\"plot\":{\"id\":\"0af02465-c869-45b1-8a36-2ba73c6e58a9\",\"subtype\":\"Figure\",\"type\":\"Plot\"}},\"id\":\"31af37de-ed40-4bf0-b2b0-261c43574bc3\",\"type\":\"HelpTool\"},{\"attributes\":{\"plot\":{\"id\":\"0af02465-c869-45b1-8a36-2ba73c6e58a9\",\"subtype\":\"Figure\",\"type\":\"Plot\"}},\"id\":\"d9d78201-8f78-4e39-bb0d-94bebcf785e8\",\"type\":\"ResetTool\"},{\"attributes\":{\"data_source\":{\"id\":\"e5599b56-407c-49b1-9943-cbbc925932e0\",\"type\":\"ColumnDataSource\"},\"glyph\":{\"id\":\"d40dd52a-006e-4724-b2ee-37f1559f7a2f\",\"type\":\"Line\"},\"hover_glyph\":null,\"nonselection_glyph\":{\"id\":\"68c744ab-8567-48da-b2be-22841db3ec54\",\"type\":\"Line\"},\"selection_glyph\":null},\"id\":\"479a17d3-9f86-46b8-9059-6188008836e9\",\"type\":\"GlyphRenderer\"},{\"attributes\":{\"bottom_units\":\"screen\",\"fill_alpha\":{\"value\":0.5},\"fill_color\":{\"value\":\"lightgrey\"},\"left_units\":\"screen\",\"level\":\"overlay\",\"line_alpha\":{\"value\":1.0},\"line_color\":{\"value\":\"black\"},\"line_dash\":[4,4],\"line_width\":{\"value\":2},\"plot\":null,\"render_mode\":\"css\",\"right_units\":\"screen\",\"top_units\":\"screen\"},\"id\":\"c2aa6ed2-7ac5-4f6c-a2a5-7671f49507fa\",\"type\":\"BoxAnnotation\"},{\"attributes\":{\"line_alpha\":{\"value\":0.1},\"line_color\":{\"value\":\"#1f77b4\"},\"x\":{\"field\":\"x\"},\"y\":{\"field\":\"y\"}},\"id\":\"68c744ab-8567-48da-b2be-22841db3ec54\",\"type\":\"Line\"},{\"attributes\":{\"line_color\":{\"value\":\"#1f77b4\"},\"x\":{\"field\":\"x\"},\"y\":{\"field\":\"y\"}},\"id\":\"d40dd52a-006e-4724-b2ee-37f1559f7a2f\",\"type\":\"Line\"},{\"attributes\":{\"dimension\":1,\"plot\":{\"id\":\"0af02465-c869-45b1-8a36-2ba73c6e58a9\",\"subtype\":\"Figure\",\"type\":\"Plot\"},\"ticker\":{\"id\":\"126ce2df-3846-4b78-8c67-156578cbabca\",\"type\":\"BasicTicker\"}},\"id\":\"1463587d-f77f-49c8-8027-197de77df3f8\",\"type\":\"Grid\"},{\"attributes\":{},\"id\":\"4ddd7414-198c-47b7-a11c-fee15a618ea8\",\"type\":\"BasicTickFormatter\"},{\"attributes\":{\"callback\":null,\"column_names\":[\"y\",\"x\"],\"data\":{\"x\":[-0.5,-0.5,136.5,136.5,137.5,137.5,138.5,138.5,139.5,139.5,144.5,144.5,145.5,145.5,146.5,146.5,147.5,147.5],\"y\":[0.0,0.0,0.0,2.0,2.0,0.0,0.0,1.0,1.0,0.0,0.0,1.0,1.0,2.0,2.0,32.0,32.0,0.0]}},\"id\":\"e5599b56-407c-49b1-9943-cbbc925932e0\",\"type\":\"ColumnDataSource\"},{\"attributes\":{\"callback\":null,\"end\":35.2},\"id\":\"97e01442-1e11-4ecc-93e8-cd72ce635cb8\",\"type\":\"Range1d\"},{\"attributes\":{},\"id\":\"126ce2df-3846-4b78-8c67-156578cbabca\",\"type\":\"BasicTicker\"},{\"attributes\":{\"plot\":{\"id\":\"0af02465-c869-45b1-8a36-2ba73c6e58a9\",\"subtype\":\"Figure\",\"type\":\"Plot\"}},\"id\":\"f8520da9-f8f2-437a-bf44-af0f6d1e82f9\",\"type\":\"SaveTool\"},{\"attributes\":{\"callback\":null,\"end\":148.5,\"start\":-0.5},\"id\":\"4b7fbf16-01e5-4e78-b087-be7aad34ec22\",\"type\":\"Range1d\"},{\"attributes\":{\"plot\":{\"id\":\"0af02465-c869-45b1-8a36-2ba73c6e58a9\",\"subtype\":\"Figure\",\"type\":\"Plot\"},\"ticker\":{\"id\":\"4cc1351e-d475-4832-99a5-c183f41a7a39\",\"type\":\"BasicTicker\"}},\"id\":\"6d75984a-2623-4423-9852-70cf3d1cbb36\",\"type\":\"Grid\"},{\"attributes\":{\"plot\":{\"id\":\"0af02465-c869-45b1-8a36-2ba73c6e58a9\",\"subtype\":\"Figure\",\"type\":\"Plot\"}},\"id\":\"a64a93c3-4012-45af-97ea-4cb290e53d7f\",\"type\":\"PanTool\"},{\"attributes\":{\"below\":[{\"id\":\"dc53b923-8343-40aa-bf1f-da5bf21ffea7\",\"type\":\"LinearAxis\"}],\"left\":[{\"id\":\"d342f43c-bd2d-40e3-926e-98f98e22fa53\",\"type\":\"LinearAxis\"}],\"plot_height\":400,\"plot_width\":900,\"renderers\":[{\"id\":\"dc53b923-8343-40aa-bf1f-da5bf21ffea7\",\"type\":\"LinearAxis\"},{\"id\":\"6d75984a-2623-4423-9852-70cf3d1cbb36\",\"type\":\"Grid\"},{\"id\":\"d342f43c-bd2d-40e3-926e-98f98e22fa53\",\"type\":\"LinearAxis\"},{\"id\":\"1463587d-f77f-49c8-8027-197de77df3f8\",\"type\":\"Grid\"},{\"id\":\"c2aa6ed2-7ac5-4f6c-a2a5-7671f49507fa\",\"type\":\"BoxAnnotation\"},{\"id\":\"479a17d3-9f86-46b8-9059-6188008836e9\",\"type\":\"GlyphRenderer\"}],\"title\":{\"id\":\"9ff9de29-d389-41c1-b239-a2f28ce2b366\",\"type\":\"Title\"},\"tool_events\":{\"id\":\"1331a7cf-d730-4ecf-9359-b98d22f1a006\",\"type\":\"ToolEvents\"},\"toolbar\":{\"id\":\"dd94a048-c96e-4860-9943-d360a83caa3f\",\"type\":\"Toolbar\"},\"toolbar_location\":null,\"x_range\":{\"id\":\"4b7fbf16-01e5-4e78-b087-be7aad34ec22\",\"type\":\"Range1d\"},\"y_range\":{\"id\":\"97e01442-1e11-4ecc-93e8-cd72ce635cb8\",\"type\":\"Range1d\"}},\"id\":\"0af02465-c869-45b1-8a36-2ba73c6e58a9\",\"subtype\":\"Figure\",\"type\":\"Plot\"},{\"attributes\":{\"plot\":{\"id\":\"0af02465-c869-45b1-8a36-2ba73c6e58a9\",\"subtype\":\"Figure\",\"type\":\"Plot\"}},\"id\":\"5b44b6fd-d087-498e-a0d9-267df25f6fd0\",\"type\":\"WheelZoomTool\"},{\"attributes\":{\"formatter\":{\"id\":\"4ddd7414-198c-47b7-a11c-fee15a618ea8\",\"type\":\"BasicTickFormatter\"},\"plot\":{\"id\":\"0af02465-c869-45b1-8a36-2ba73c6e58a9\",\"subtype\":\"Figure\",\"type\":\"Plot\"},\"ticker\":{\"id\":\"4cc1351e-d475-4832-99a5-c183f41a7a39\",\"type\":\"BasicTicker\"}},\"id\":\"dc53b923-8343-40aa-bf1f-da5bf21ffea7\",\"type\":\"LinearAxis\"},{\"attributes\":{\"plot\":null,\"text\":null},\"id\":\"9ff9de29-d389-41c1-b239-a2f28ce2b366\",\"type\":\"Title\"},{\"attributes\":{\"active_drag\":\"auto\",\"active_scroll\":\"auto\",\"active_tap\":\"auto\",\"tools\":[{\"id\":\"a64a93c3-4012-45af-97ea-4cb290e53d7f\",\"type\":\"PanTool\"},{\"id\":\"5b44b6fd-d087-498e-a0d9-267df25f6fd0\",\"type\":\"WheelZoomTool\"},{\"id\":\"7b3d36dc-fc90-4328-88c2-7379569434ae\",\"type\":\"BoxZoomTool\"},{\"id\":\"f8520da9-f8f2-437a-bf44-af0f6d1e82f9\",\"type\":\"SaveTool\"},{\"id\":\"d9d78201-8f78-4e39-bb0d-94bebcf785e8\",\"type\":\"ResetTool\"},{\"id\":\"31af37de-ed40-4bf0-b2b0-261c43574bc3\",\"type\":\"HelpTool\"}]},\"id\":\"dd94a048-c96e-4860-9943-d360a83caa3f\",\"type\":\"Toolbar\"},{\"attributes\":{},\"id\":\"32942fe6-45f6-4c22-a48b-e23aa66eaaad\",\"type\":\"BasicTickFormatter\"},{\"attributes\":{\"overlay\":{\"id\":\"c2aa6ed2-7ac5-4f6c-a2a5-7671f49507fa\",\"type\":\"BoxAnnotation\"},\"plot\":{\"id\":\"0af02465-c869-45b1-8a36-2ba73c6e58a9\",\"subtype\":\"Figure\",\"type\":\"Plot\"}},\"id\":\"7b3d36dc-fc90-4328-88c2-7379569434ae\",\"type\":\"BoxZoomTool\"}],\"root_ids\":[\"0af02465-c869-45b1-8a36-2ba73c6e58a9\"]},\"title\":\"Bokeh Application\",\"version\":\"0.12.0\"}};\n",
       "            var render_items = [{\"docid\":\"a63e2ba4-12da-435f-9086-6ab211ba0ac5\",\"elementid\":\"a340298d-a800-4fb1-ab81-ba44129a3b42\",\"modelid\":\"0af02465-c869-45b1-8a36-2ba73c6e58a9\",\"notebook_comms_target\":\"ebc5819a-467c-4334-9a8b-27381f485563\"}];\n",
       "            \n",
       "            Bokeh.embed.embed_items(docs_json, render_items);\n",
       "        });\n",
       "      },\n",
       "      function(Bokeh) {\n",
       "      }\n",
       "    ];\n",
       "  \n",
       "    function run_inline_js() {\n",
       "      for (var i = 0; i < inline_js.length; i++) {\n",
       "        inline_js[i](window.Bokeh);\n",
       "      }\n",
       "    }\n",
       "  \n",
       "    if (window._bokeh_is_loading === 0) {\n",
       "      console.log(\"Bokeh: BokehJS loaded, going straight to plotting\");\n",
       "      run_inline_js();\n",
       "    } else {\n",
       "      load_libs(js_urls, function() {\n",
       "        console.log(\"Bokeh: BokehJS plotting callback run at\", now());\n",
       "        run_inline_js();\n",
       "      });\n",
       "    }\n",
       "  }(this));\n",
       "</script>"
      ]
     },
     "metadata": {},
     "output_type": "display_data"
    },
    {
     "data": {
      "text/html": [
       "<p><code>&lt;Bokeh Notebook handle for <strong>In[7]</strong>&gt;</code></p>"
      ],
      "text/plain": [
       "<bokeh.io._CommsHandle at 0x7f43e10a37d0>"
      ]
     },
     "execution_count": 7,
     "metadata": {},
     "output_type": "execute_result"
    }
   ],
   "source": [
    "count_data = sa_147_38.unique_snps_per_allele(am_147_38)\n",
    "plt_obj = smcp(count_data)\n",
    "plt = plt_obj.do_plot()\n",
    "show(plt)"
   ]
  },
  {
   "cell_type": "code",
   "execution_count": 8,
   "metadata": {
    "collapsed": false
   },
   "outputs": [
    {
     "data": {
      "text/plain": [
       "array([(137, 2), (139, 1), (145, 1), (146, 2), (147, 32)], \n",
       "      dtype=[('count', '<u2'), ('snps', '<u2')])"
      ]
     },
     "execution_count": 8,
     "metadata": {},
     "output_type": "execute_result"
    }
   ],
   "source": [
    "count_data"
   ]
  },
  {
   "cell_type": "code",
   "execution_count": 9,
   "metadata": {
    "collapsed": false
   },
   "outputs": [
    {
     "data": {
      "text/html": [
       "\n",
       "\n",
       "    <div class=\"bk-root\">\n",
       "        <div class=\"plotdiv\" id=\"d36a118b-7992-4b12-88d9-3d535f3d6526\"></div>\n",
       "    </div>\n",
       "<script type=\"text/javascript\">\n",
       "  \n",
       "  (function(global) {\n",
       "    function now() {\n",
       "      return new Date();\n",
       "    }\n",
       "  \n",
       "    if (typeof (window._bokeh_onload_callbacks) === \"undefined\") {\n",
       "      window._bokeh_onload_callbacks = [];\n",
       "    }\n",
       "  \n",
       "    function run_callbacks() {\n",
       "      window._bokeh_onload_callbacks.forEach(function(callback) { callback() });\n",
       "      delete window._bokeh_onload_callbacks\n",
       "      console.info(\"Bokeh: all callbacks have finished\");\n",
       "    }\n",
       "  \n",
       "    function load_libs(js_urls, callback) {\n",
       "      window._bokeh_onload_callbacks.push(callback);\n",
       "      if (window._bokeh_is_loading > 0) {\n",
       "        console.log(\"Bokeh: BokehJS is being loaded, scheduling callback at\", now());\n",
       "        return null;\n",
       "      }\n",
       "      if (js_urls == null || js_urls.length === 0) {\n",
       "        run_callbacks();\n",
       "        return null;\n",
       "      }\n",
       "      console.log(\"Bokeh: BokehJS not loaded, scheduling load and callback at\", now());\n",
       "      window._bokeh_is_loading = js_urls.length;\n",
       "      for (var i = 0; i < js_urls.length; i++) {\n",
       "        var url = js_urls[i];\n",
       "        var s = document.createElement('script');\n",
       "        s.src = url;\n",
       "        s.async = false;\n",
       "        s.onreadystatechange = s.onload = function() {\n",
       "          window._bokeh_is_loading--;\n",
       "          if (window._bokeh_is_loading === 0) {\n",
       "            console.log(\"Bokeh: all BokehJS libraries loaded\");\n",
       "            run_callbacks()\n",
       "          }\n",
       "        };\n",
       "        s.onerror = function() {\n",
       "          console.warn(\"failed to load library \" + url);\n",
       "        };\n",
       "        console.log(\"Bokeh: injecting script tag for BokehJS library: \", url);\n",
       "        document.getElementsByTagName(\"head\")[0].appendChild(s);\n",
       "      }\n",
       "    };var element = document.getElementById(\"d36a118b-7992-4b12-88d9-3d535f3d6526\");\n",
       "    if (element == null) {\n",
       "      console.log(\"Bokeh: ERROR: autoload.js configured with elementid 'd36a118b-7992-4b12-88d9-3d535f3d6526' but no matching script tag was found. \")\n",
       "      return false;\n",
       "    }\n",
       "  \n",
       "    var js_urls = [];\n",
       "  \n",
       "    var inline_js = [\n",
       "      function(Bokeh) {\n",
       "        Bokeh.$(function() {\n",
       "            var docs_json = {\"a731d75b-b581-477f-9c7e-50188642b844\":{\"roots\":{\"references\":[{\"attributes\":{},\"id\":\"c2f74e42-ca85-4688-81e1-6c1022187214\",\"type\":\"BasicTicker\"},{\"attributes\":{},\"id\":\"c0bab5a9-22d3-4543-a3ef-427722f7922e\",\"type\":\"ToolEvents\"},{\"attributes\":{\"data_source\":{\"id\":\"24a76e84-008a-42ec-9d06-09fe745bb776\",\"type\":\"ColumnDataSource\"},\"glyph\":{\"id\":\"3f23f601-f94a-444f-934d-9724ada10eeb\",\"type\":\"Line\"},\"hover_glyph\":null,\"nonselection_glyph\":{\"id\":\"a25a4782-0123-4ce1-947e-97dfc546750d\",\"type\":\"Line\"},\"selection_glyph\":null},\"id\":\"44e578b2-e55d-42af-9dd2-102c8e1b3198\",\"type\":\"GlyphRenderer\"},{\"attributes\":{\"plot\":{\"id\":\"18a2f245-9bb2-4a35-9326-a46dbc77954c\",\"subtype\":\"Figure\",\"type\":\"Plot\"}},\"id\":\"0eea9f0f-440f-472c-a899-050f36063381\",\"type\":\"PanTool\"},{\"attributes\":{\"plot\":{\"id\":\"18a2f245-9bb2-4a35-9326-a46dbc77954c\",\"subtype\":\"Figure\",\"type\":\"Plot\"}},\"id\":\"59bd7c84-32b1-43d6-937d-932ed8f13df1\",\"type\":\"HelpTool\"},{\"attributes\":{\"formatter\":{\"id\":\"2b84400b-b13b-469e-a0a1-f25041844b7e\",\"type\":\"BasicTickFormatter\"},\"plot\":{\"id\":\"18a2f245-9bb2-4a35-9326-a46dbc77954c\",\"subtype\":\"Figure\",\"type\":\"Plot\"},\"ticker\":{\"id\":\"c2f74e42-ca85-4688-81e1-6c1022187214\",\"type\":\"BasicTicker\"}},\"id\":\"3b482d20-3574-4e6b-98fd-0a56b78cced9\",\"type\":\"LinearAxis\"},{\"attributes\":{\"plot\":{\"id\":\"18a2f245-9bb2-4a35-9326-a46dbc77954c\",\"subtype\":\"Figure\",\"type\":\"Plot\"}},\"id\":\"2babc4c2-95a6-416e-a324-d8dfffa862c0\",\"type\":\"ResetTool\"},{\"attributes\":{\"callback\":null,\"end\":118.5,\"start\":-0.5},\"id\":\"eb576b87-8905-4795-91a1-ff5c33830b98\",\"type\":\"Range1d\"},{\"attributes\":{\"line_alpha\":{\"value\":0.1},\"line_color\":{\"value\":\"#1f77b4\"},\"x\":{\"field\":\"x\"},\"y\":{\"field\":\"y\"}},\"id\":\"a25a4782-0123-4ce1-947e-97dfc546750d\",\"type\":\"Line\"},{\"attributes\":{},\"id\":\"2b84400b-b13b-469e-a0a1-f25041844b7e\",\"type\":\"BasicTickFormatter\"},{\"attributes\":{\"bottom_units\":\"screen\",\"fill_alpha\":{\"value\":0.5},\"fill_color\":{\"value\":\"lightgrey\"},\"left_units\":\"screen\",\"level\":\"overlay\",\"line_alpha\":{\"value\":1.0},\"line_color\":{\"value\":\"black\"},\"line_dash\":[4,4],\"line_width\":{\"value\":2},\"plot\":null,\"render_mode\":\"css\",\"right_units\":\"screen\",\"top_units\":\"screen\"},\"id\":\"20c7d18b-7786-402b-b637-2c10fd9bfb6d\",\"type\":\"BoxAnnotation\"},{\"attributes\":{\"plot\":{\"id\":\"18a2f245-9bb2-4a35-9326-a46dbc77954c\",\"subtype\":\"Figure\",\"type\":\"Plot\"}},\"id\":\"760a956d-8905-4818-a50c-e8687685ada3\",\"type\":\"SaveTool\"},{\"attributes\":{\"formatter\":{\"id\":\"2a0c4d32-1c46-4f0a-925e-43fbc15a25d1\",\"type\":\"BasicTickFormatter\"},\"plot\":{\"id\":\"18a2f245-9bb2-4a35-9326-a46dbc77954c\",\"subtype\":\"Figure\",\"type\":\"Plot\"},\"ticker\":{\"id\":\"fdfbb5b2-893e-423c-9d10-b45fba2e508e\",\"type\":\"BasicTicker\"}},\"id\":\"89269908-7ee8-4fc4-a375-59f191120f93\",\"type\":\"LinearAxis\"},{\"attributes\":{\"plot\":{\"id\":\"18a2f245-9bb2-4a35-9326-a46dbc77954c\",\"subtype\":\"Figure\",\"type\":\"Plot\"},\"ticker\":{\"id\":\"fdfbb5b2-893e-423c-9d10-b45fba2e508e\",\"type\":\"BasicTicker\"}},\"id\":\"2697d000-0398-43e2-aede-725fd0a5ca01\",\"type\":\"Grid\"},{\"attributes\":{\"dimension\":1,\"plot\":{\"id\":\"18a2f245-9bb2-4a35-9326-a46dbc77954c\",\"subtype\":\"Figure\",\"type\":\"Plot\"},\"ticker\":{\"id\":\"c2f74e42-ca85-4688-81e1-6c1022187214\",\"type\":\"BasicTicker\"}},\"id\":\"67705387-5456-4b06-81d7-63a11f262b0b\",\"type\":\"Grid\"},{\"attributes\":{},\"id\":\"2a0c4d32-1c46-4f0a-925e-43fbc15a25d1\",\"type\":\"BasicTickFormatter\"},{\"attributes\":{\"plot\":{\"id\":\"18a2f245-9bb2-4a35-9326-a46dbc77954c\",\"subtype\":\"Figure\",\"type\":\"Plot\"}},\"id\":\"f17ecb5b-e689-41d6-9038-3eaadfaa2ad6\",\"type\":\"WheelZoomTool\"},{\"attributes\":{\"plot\":null,\"text\":null},\"id\":\"30a2f045-3a9b-4440-a88b-c39c08422e0f\",\"type\":\"Title\"},{\"attributes\":{\"overlay\":{\"id\":\"20c7d18b-7786-402b-b637-2c10fd9bfb6d\",\"type\":\"BoxAnnotation\"},\"plot\":{\"id\":\"18a2f245-9bb2-4a35-9326-a46dbc77954c\",\"subtype\":\"Figure\",\"type\":\"Plot\"}},\"id\":\"718e0384-b827-4283-b0d4-15a6c27a0cc6\",\"type\":\"BoxZoomTool\"},{\"attributes\":{},\"id\":\"fdfbb5b2-893e-423c-9d10-b45fba2e508e\",\"type\":\"BasicTicker\"},{\"attributes\":{\"callback\":null,\"end\":40.7},\"id\":\"439d3374-9b75-44b7-a483-ef9d1ed8030c\",\"type\":\"Range1d\"},{\"attributes\":{\"below\":[{\"id\":\"89269908-7ee8-4fc4-a375-59f191120f93\",\"type\":\"LinearAxis\"}],\"left\":[{\"id\":\"3b482d20-3574-4e6b-98fd-0a56b78cced9\",\"type\":\"LinearAxis\"}],\"plot_height\":400,\"plot_width\":900,\"renderers\":[{\"id\":\"89269908-7ee8-4fc4-a375-59f191120f93\",\"type\":\"LinearAxis\"},{\"id\":\"2697d000-0398-43e2-aede-725fd0a5ca01\",\"type\":\"Grid\"},{\"id\":\"3b482d20-3574-4e6b-98fd-0a56b78cced9\",\"type\":\"LinearAxis\"},{\"id\":\"67705387-5456-4b06-81d7-63a11f262b0b\",\"type\":\"Grid\"},{\"id\":\"20c7d18b-7786-402b-b637-2c10fd9bfb6d\",\"type\":\"BoxAnnotation\"},{\"id\":\"44e578b2-e55d-42af-9dd2-102c8e1b3198\",\"type\":\"GlyphRenderer\"}],\"title\":{\"id\":\"30a2f045-3a9b-4440-a88b-c39c08422e0f\",\"type\":\"Title\"},\"tool_events\":{\"id\":\"c0bab5a9-22d3-4543-a3ef-427722f7922e\",\"type\":\"ToolEvents\"},\"toolbar\":{\"id\":\"c40a4699-852d-4ebd-a750-1700cf535e80\",\"type\":\"Toolbar\"},\"toolbar_location\":null,\"x_range\":{\"id\":\"eb576b87-8905-4795-91a1-ff5c33830b98\",\"type\":\"Range1d\"},\"y_range\":{\"id\":\"439d3374-9b75-44b7-a483-ef9d1ed8030c\",\"type\":\"Range1d\"}},\"id\":\"18a2f245-9bb2-4a35-9326-a46dbc77954c\",\"subtype\":\"Figure\",\"type\":\"Plot\"},{\"attributes\":{\"line_color\":{\"value\":\"#1f77b4\"},\"x\":{\"field\":\"x\"},\"y\":{\"field\":\"y\"}},\"id\":\"3f23f601-f94a-444f-934d-9724ada10eeb\",\"type\":\"Line\"},{\"attributes\":{\"callback\":null,\"column_names\":[\"y\",\"x\"],\"data\":{\"x\":[-0.5,-0.5,115.5,115.5,116.5,116.5,117.5,117.5],\"y\":[0.0,0.0,0.0,1.0,1.0,37.0,37.0,0.0]}},\"id\":\"24a76e84-008a-42ec-9d06-09fe745bb776\",\"type\":\"ColumnDataSource\"},{\"attributes\":{\"active_drag\":\"auto\",\"active_scroll\":\"auto\",\"active_tap\":\"auto\",\"tools\":[{\"id\":\"0eea9f0f-440f-472c-a899-050f36063381\",\"type\":\"PanTool\"},{\"id\":\"f17ecb5b-e689-41d6-9038-3eaadfaa2ad6\",\"type\":\"WheelZoomTool\"},{\"id\":\"718e0384-b827-4283-b0d4-15a6c27a0cc6\",\"type\":\"BoxZoomTool\"},{\"id\":\"760a956d-8905-4818-a50c-e8687685ada3\",\"type\":\"SaveTool\"},{\"id\":\"2babc4c2-95a6-416e-a324-d8dfffa862c0\",\"type\":\"ResetTool\"},{\"id\":\"59bd7c84-32b1-43d6-937d-932ed8f13df1\",\"type\":\"HelpTool\"}]},\"id\":\"c40a4699-852d-4ebd-a750-1700cf535e80\",\"type\":\"Toolbar\"}],\"root_ids\":[\"18a2f245-9bb2-4a35-9326-a46dbc77954c\"]},\"title\":\"Bokeh Application\",\"version\":\"0.12.0\"}};\n",
       "            var render_items = [{\"docid\":\"a731d75b-b581-477f-9c7e-50188642b844\",\"elementid\":\"d36a118b-7992-4b12-88d9-3d535f3d6526\",\"modelid\":\"18a2f245-9bb2-4a35-9326-a46dbc77954c\",\"notebook_comms_target\":\"2b527851-3f64-40bd-9fac-604754101fbf\"}];\n",
       "            \n",
       "            Bokeh.embed.embed_items(docs_json, render_items);\n",
       "        });\n",
       "      },\n",
       "      function(Bokeh) {\n",
       "      }\n",
       "    ];\n",
       "  \n",
       "    function run_inline_js() {\n",
       "      for (var i = 0; i < inline_js.length; i++) {\n",
       "        inline_js[i](window.Bokeh);\n",
       "      }\n",
       "    }\n",
       "  \n",
       "    if (window._bokeh_is_loading === 0) {\n",
       "      console.log(\"Bokeh: BokehJS loaded, going straight to plotting\");\n",
       "      run_inline_js();\n",
       "    } else {\n",
       "      load_libs(js_urls, function() {\n",
       "        console.log(\"Bokeh: BokehJS plotting callback run at\", now());\n",
       "        run_inline_js();\n",
       "      });\n",
       "    }\n",
       "  }(this));\n",
       "</script>"
      ]
     },
     "metadata": {},
     "output_type": "display_data"
    },
    {
     "data": {
      "text/html": [
       "<p><code>&lt;Bokeh Notebook handle for <strong>In[9]</strong>&gt;</code></p>"
      ],
      "text/plain": [
       "<bokeh.io._CommsHandle at 0x7f43e10a3bd0>"
      ]
     },
     "execution_count": 9,
     "metadata": {},
     "output_type": "execute_result"
    }
   ],
   "source": [
    "count_data = an.sa_117_1685.unique_snps_per_allele(am_147_38)\n",
    "plt_obj = smcp(count_data)\n",
    "plt = plt_obj.do_plot()\n",
    "show(plt)"
   ]
  },
  {
   "cell_type": "code",
   "execution_count": 10,
   "metadata": {
    "collapsed": false
   },
   "outputs": [
    {
     "data": {
      "text/plain": [
       "array([(116, 1), (117, 37)], \n",
       "      dtype=[('count', '<u2'), ('snps', '<u2')])"
      ]
     },
     "execution_count": 10,
     "metadata": {},
     "output_type": "execute_result"
    }
   ],
   "source": [
    "count_data"
   ]
  },
  {
   "cell_type": "code",
   "execution_count": 11,
   "metadata": {
    "collapsed": false
   },
   "outputs": [
    {
     "data": {
      "text/html": [
       "\n",
       "\n",
       "    <div class=\"bk-root\">\n",
       "        <div class=\"plotdiv\" id=\"6a47b77f-bb34-4eca-b49b-99935f8139d4\"></div>\n",
       "    </div>\n",
       "<script type=\"text/javascript\">\n",
       "  \n",
       "  (function(global) {\n",
       "    function now() {\n",
       "      return new Date();\n",
       "    }\n",
       "  \n",
       "    if (typeof (window._bokeh_onload_callbacks) === \"undefined\") {\n",
       "      window._bokeh_onload_callbacks = [];\n",
       "    }\n",
       "  \n",
       "    function run_callbacks() {\n",
       "      window._bokeh_onload_callbacks.forEach(function(callback) { callback() });\n",
       "      delete window._bokeh_onload_callbacks\n",
       "      console.info(\"Bokeh: all callbacks have finished\");\n",
       "    }\n",
       "  \n",
       "    function load_libs(js_urls, callback) {\n",
       "      window._bokeh_onload_callbacks.push(callback);\n",
       "      if (window._bokeh_is_loading > 0) {\n",
       "        console.log(\"Bokeh: BokehJS is being loaded, scheduling callback at\", now());\n",
       "        return null;\n",
       "      }\n",
       "      if (js_urls == null || js_urls.length === 0) {\n",
       "        run_callbacks();\n",
       "        return null;\n",
       "      }\n",
       "      console.log(\"Bokeh: BokehJS not loaded, scheduling load and callback at\", now());\n",
       "      window._bokeh_is_loading = js_urls.length;\n",
       "      for (var i = 0; i < js_urls.length; i++) {\n",
       "        var url = js_urls[i];\n",
       "        var s = document.createElement('script');\n",
       "        s.src = url;\n",
       "        s.async = false;\n",
       "        s.onreadystatechange = s.onload = function() {\n",
       "          window._bokeh_is_loading--;\n",
       "          if (window._bokeh_is_loading === 0) {\n",
       "            console.log(\"Bokeh: all BokehJS libraries loaded\");\n",
       "            run_callbacks()\n",
       "          }\n",
       "        };\n",
       "        s.onerror = function() {\n",
       "          console.warn(\"failed to load library \" + url);\n",
       "        };\n",
       "        console.log(\"Bokeh: injecting script tag for BokehJS library: \", url);\n",
       "        document.getElementsByTagName(\"head\")[0].appendChild(s);\n",
       "      }\n",
       "    };var element = document.getElementById(\"6a47b77f-bb34-4eca-b49b-99935f8139d4\");\n",
       "    if (element == null) {\n",
       "      console.log(\"Bokeh: ERROR: autoload.js configured with elementid '6a47b77f-bb34-4eca-b49b-99935f8139d4' but no matching script tag was found. \")\n",
       "      return false;\n",
       "    }\n",
       "  \n",
       "    var js_urls = [];\n",
       "  \n",
       "    var inline_js = [\n",
       "      function(Bokeh) {\n",
       "        Bokeh.$(function() {\n",
       "            var docs_json = {\"daa2f535-5351-4520-bea1-8121300329f8\":{\"roots\":{\"references\":[{\"attributes\":{},\"id\":\"ab8f8477-c988-4e96-9338-a95d965b393a\",\"type\":\"BasicTickFormatter\"},{\"attributes\":{\"plot\":null,\"text\":null},\"id\":\"0706db7b-31b9-48d8-8532-534386e8edbb\",\"type\":\"Title\"},{\"attributes\":{\"callback\":null,\"end\":30.800000000000004},\"id\":\"b825e06f-df5c-45ac-a59d-1d9c8e7b851b\",\"type\":\"Range1d\"},{\"attributes\":{\"formatter\":{\"id\":\"93696cf1-af85-46c6-8840-b3c467262c13\",\"type\":\"BasicTickFormatter\"},\"plot\":{\"id\":\"267300bb-1ea7-48a6-bb0d-576faabb8577\",\"subtype\":\"Figure\",\"type\":\"Plot\"},\"ticker\":{\"id\":\"0c1e8934-2e3d-4ea3-a6d7-663bd8c627e1\",\"type\":\"BasicTicker\"}},\"id\":\"2949e41e-508a-48a8-b07f-546c970be817\",\"type\":\"LinearAxis\"},{\"attributes\":{\"callback\":null,\"end\":124.5,\"start\":-0.5},\"id\":\"8a534398-0d67-45f4-861e-b0b8c9d7d078\",\"type\":\"Range1d\"},{\"attributes\":{\"callback\":null,\"column_names\":[\"y\",\"x\"],\"data\":{\"x\":[-0.5,-0.5,120.5,120.5,121.5,121.5,122.5,122.5,123.5,123.5],\"y\":[0.0,0.0,0.0,1.0,1.0,9.0,9.0,28.0,28.0,0.0]}},\"id\":\"267ea136-497c-4d6a-a8a1-b0ec3f9b0ef8\",\"type\":\"ColumnDataSource\"},{\"attributes\":{},\"id\":\"93696cf1-af85-46c6-8840-b3c467262c13\",\"type\":\"BasicTickFormatter\"},{\"attributes\":{\"line_color\":{\"value\":\"#1f77b4\"},\"x\":{\"field\":\"x\"},\"y\":{\"field\":\"y\"}},\"id\":\"7f58231e-d4c6-4cef-a3ce-e0baddfdea16\",\"type\":\"Line\"},{\"attributes\":{\"bottom_units\":\"screen\",\"fill_alpha\":{\"value\":0.5},\"fill_color\":{\"value\":\"lightgrey\"},\"left_units\":\"screen\",\"level\":\"overlay\",\"line_alpha\":{\"value\":1.0},\"line_color\":{\"value\":\"black\"},\"line_dash\":[4,4],\"line_width\":{\"value\":2},\"plot\":null,\"render_mode\":\"css\",\"right_units\":\"screen\",\"top_units\":\"screen\"},\"id\":\"5ce6ebd6-9b5c-465d-8fc0-a28478ac1162\",\"type\":\"BoxAnnotation\"},{\"attributes\":{\"below\":[{\"id\":\"2949e41e-508a-48a8-b07f-546c970be817\",\"type\":\"LinearAxis\"}],\"left\":[{\"id\":\"0b794eb0-783f-47c7-a656-fc2eadf9f32d\",\"type\":\"LinearAxis\"}],\"plot_height\":400,\"plot_width\":900,\"renderers\":[{\"id\":\"2949e41e-508a-48a8-b07f-546c970be817\",\"type\":\"LinearAxis\"},{\"id\":\"45776fea-b83f-448c-a664-4e91b5a4feb4\",\"type\":\"Grid\"},{\"id\":\"0b794eb0-783f-47c7-a656-fc2eadf9f32d\",\"type\":\"LinearAxis\"},{\"id\":\"8b78089c-0671-4dd9-819a-e48ba317892d\",\"type\":\"Grid\"},{\"id\":\"5ce6ebd6-9b5c-465d-8fc0-a28478ac1162\",\"type\":\"BoxAnnotation\"},{\"id\":\"e5269b27-a50c-4796-9935-96e17d2848ee\",\"type\":\"GlyphRenderer\"}],\"title\":{\"id\":\"0706db7b-31b9-48d8-8532-534386e8edbb\",\"type\":\"Title\"},\"tool_events\":{\"id\":\"d91522a9-c204-4711-855b-59886657f085\",\"type\":\"ToolEvents\"},\"toolbar\":{\"id\":\"ce73ced8-29c1-4864-96de-54e593ac32ea\",\"type\":\"Toolbar\"},\"toolbar_location\":null,\"x_range\":{\"id\":\"8a534398-0d67-45f4-861e-b0b8c9d7d078\",\"type\":\"Range1d\"},\"y_range\":{\"id\":\"b825e06f-df5c-45ac-a59d-1d9c8e7b851b\",\"type\":\"Range1d\"}},\"id\":\"267300bb-1ea7-48a6-bb0d-576faabb8577\",\"subtype\":\"Figure\",\"type\":\"Plot\"},{\"attributes\":{\"plot\":{\"id\":\"267300bb-1ea7-48a6-bb0d-576faabb8577\",\"subtype\":\"Figure\",\"type\":\"Plot\"}},\"id\":\"5f778a04-d0e8-42de-980d-7334f62618cf\",\"type\":\"ResetTool\"},{\"attributes\":{\"data_source\":{\"id\":\"267ea136-497c-4d6a-a8a1-b0ec3f9b0ef8\",\"type\":\"ColumnDataSource\"},\"glyph\":{\"id\":\"7f58231e-d4c6-4cef-a3ce-e0baddfdea16\",\"type\":\"Line\"},\"hover_glyph\":null,\"nonselection_glyph\":{\"id\":\"0e428662-f510-4302-aad0-19c50eb90ebb\",\"type\":\"Line\"},\"selection_glyph\":null},\"id\":\"e5269b27-a50c-4796-9935-96e17d2848ee\",\"type\":\"GlyphRenderer\"},{\"attributes\":{},\"id\":\"d91522a9-c204-4711-855b-59886657f085\",\"type\":\"ToolEvents\"},{\"attributes\":{\"plot\":{\"id\":\"267300bb-1ea7-48a6-bb0d-576faabb8577\",\"subtype\":\"Figure\",\"type\":\"Plot\"}},\"id\":\"13f4171b-2c7c-4d81-987c-b978e30907b9\",\"type\":\"HelpTool\"},{\"attributes\":{},\"id\":\"726ce6e5-ea56-449e-8a9a-cc16ff1ef916\",\"type\":\"BasicTicker\"},{\"attributes\":{\"line_alpha\":{\"value\":0.1},\"line_color\":{\"value\":\"#1f77b4\"},\"x\":{\"field\":\"x\"},\"y\":{\"field\":\"y\"}},\"id\":\"0e428662-f510-4302-aad0-19c50eb90ebb\",\"type\":\"Line\"},{\"attributes\":{\"dimension\":1,\"plot\":{\"id\":\"267300bb-1ea7-48a6-bb0d-576faabb8577\",\"subtype\":\"Figure\",\"type\":\"Plot\"},\"ticker\":{\"id\":\"726ce6e5-ea56-449e-8a9a-cc16ff1ef916\",\"type\":\"BasicTicker\"}},\"id\":\"8b78089c-0671-4dd9-819a-e48ba317892d\",\"type\":\"Grid\"},{\"attributes\":{},\"id\":\"0c1e8934-2e3d-4ea3-a6d7-663bd8c627e1\",\"type\":\"BasicTicker\"},{\"attributes\":{\"plot\":{\"id\":\"267300bb-1ea7-48a6-bb0d-576faabb8577\",\"subtype\":\"Figure\",\"type\":\"Plot\"}},\"id\":\"68f6a44c-faba-4ae1-b38e-c728179a76f4\",\"type\":\"SaveTool\"},{\"attributes\":{\"active_drag\":\"auto\",\"active_scroll\":\"auto\",\"active_tap\":\"auto\",\"tools\":[{\"id\":\"e34cabed-1650-44b0-abcf-12c50fdbaceb\",\"type\":\"PanTool\"},{\"id\":\"4eabae02-e2d4-4a67-8773-9b2edec2dea8\",\"type\":\"WheelZoomTool\"},{\"id\":\"14bf359c-e2b4-4907-98f2-c924d06caca0\",\"type\":\"BoxZoomTool\"},{\"id\":\"68f6a44c-faba-4ae1-b38e-c728179a76f4\",\"type\":\"SaveTool\"},{\"id\":\"5f778a04-d0e8-42de-980d-7334f62618cf\",\"type\":\"ResetTool\"},{\"id\":\"13f4171b-2c7c-4d81-987c-b978e30907b9\",\"type\":\"HelpTool\"}]},\"id\":\"ce73ced8-29c1-4864-96de-54e593ac32ea\",\"type\":\"Toolbar\"},{\"attributes\":{\"plot\":{\"id\":\"267300bb-1ea7-48a6-bb0d-576faabb8577\",\"subtype\":\"Figure\",\"type\":\"Plot\"}},\"id\":\"4eabae02-e2d4-4a67-8773-9b2edec2dea8\",\"type\":\"WheelZoomTool\"},{\"attributes\":{\"plot\":{\"id\":\"267300bb-1ea7-48a6-bb0d-576faabb8577\",\"subtype\":\"Figure\",\"type\":\"Plot\"}},\"id\":\"e34cabed-1650-44b0-abcf-12c50fdbaceb\",\"type\":\"PanTool\"},{\"attributes\":{\"overlay\":{\"id\":\"5ce6ebd6-9b5c-465d-8fc0-a28478ac1162\",\"type\":\"BoxAnnotation\"},\"plot\":{\"id\":\"267300bb-1ea7-48a6-bb0d-576faabb8577\",\"subtype\":\"Figure\",\"type\":\"Plot\"}},\"id\":\"14bf359c-e2b4-4907-98f2-c924d06caca0\",\"type\":\"BoxZoomTool\"},{\"attributes\":{\"plot\":{\"id\":\"267300bb-1ea7-48a6-bb0d-576faabb8577\",\"subtype\":\"Figure\",\"type\":\"Plot\"},\"ticker\":{\"id\":\"0c1e8934-2e3d-4ea3-a6d7-663bd8c627e1\",\"type\":\"BasicTicker\"}},\"id\":\"45776fea-b83f-448c-a664-4e91b5a4feb4\",\"type\":\"Grid\"},{\"attributes\":{\"formatter\":{\"id\":\"ab8f8477-c988-4e96-9338-a95d965b393a\",\"type\":\"BasicTickFormatter\"},\"plot\":{\"id\":\"267300bb-1ea7-48a6-bb0d-576faabb8577\",\"subtype\":\"Figure\",\"type\":\"Plot\"},\"ticker\":{\"id\":\"726ce6e5-ea56-449e-8a9a-cc16ff1ef916\",\"type\":\"BasicTicker\"}},\"id\":\"0b794eb0-783f-47c7-a656-fc2eadf9f32d\",\"type\":\"LinearAxis\"}],\"root_ids\":[\"267300bb-1ea7-48a6-bb0d-576faabb8577\"]},\"title\":\"Bokeh Application\",\"version\":\"0.12.0\"}};\n",
       "            var render_items = [{\"docid\":\"daa2f535-5351-4520-bea1-8121300329f8\",\"elementid\":\"6a47b77f-bb34-4eca-b49b-99935f8139d4\",\"modelid\":\"267300bb-1ea7-48a6-bb0d-576faabb8577\",\"notebook_comms_target\":\"f1950769-c1d2-47f9-9dc9-30b6de64ba61\"}];\n",
       "            \n",
       "            Bokeh.embed.embed_items(docs_json, render_items);\n",
       "        });\n",
       "      },\n",
       "      function(Bokeh) {\n",
       "      }\n",
       "    ];\n",
       "  \n",
       "    function run_inline_js() {\n",
       "      for (var i = 0; i < inline_js.length; i++) {\n",
       "        inline_js[i](window.Bokeh);\n",
       "      }\n",
       "    }\n",
       "  \n",
       "    if (window._bokeh_is_loading === 0) {\n",
       "      console.log(\"Bokeh: BokehJS loaded, going straight to plotting\");\n",
       "      run_inline_js();\n",
       "    } else {\n",
       "      load_libs(js_urls, function() {\n",
       "        console.log(\"Bokeh: BokehJS plotting callback run at\", now());\n",
       "        run_inline_js();\n",
       "      });\n",
       "    }\n",
       "  }(this));\n",
       "</script>"
      ]
     },
     "metadata": {},
     "output_type": "display_data"
    },
    {
     "data": {
      "text/html": [
       "<p><code>&lt;Bokeh Notebook handle for <strong>In[11]</strong>&gt;</code></p>"
      ],
      "text/plain": [
       "<bokeh.io._CommsHandle at 0x7f43e0b59a50>"
      ]
     },
     "execution_count": 11,
     "metadata": {},
     "output_type": "execute_result"
    }
   ],
   "source": [
    "count_data = an.sa_123_1561.unique_snps_per_allele(am_147_38)\n",
    "plt_obj = smcp(count_data)\n",
    "plt = plt_obj.do_plot()\n",
    "show(plt)"
   ]
  },
  {
   "cell_type": "code",
   "execution_count": 12,
   "metadata": {
    "collapsed": false
   },
   "outputs": [
    {
     "data": {
      "text/plain": [
       "array([(121, 1), (122, 9), (123, 28)], \n",
       "      dtype=[('count', '<u2'), ('snps', '<u2')])"
      ]
     },
     "execution_count": 12,
     "metadata": {},
     "output_type": "execute_result"
    }
   ],
   "source": [
    "count_data"
   ]
  },
  {
   "cell_type": "code",
   "execution_count": 13,
   "metadata": {
    "collapsed": false
   },
   "outputs": [
    {
     "data": {
      "text/html": [
       "\n",
       "\n",
       "    <div class=\"bk-root\">\n",
       "        <div class=\"plotdiv\" id=\"a34eeaff-7c8d-443e-878e-43edb6e2ccd4\"></div>\n",
       "    </div>\n",
       "<script type=\"text/javascript\">\n",
       "  \n",
       "  (function(global) {\n",
       "    function now() {\n",
       "      return new Date();\n",
       "    }\n",
       "  \n",
       "    if (typeof (window._bokeh_onload_callbacks) === \"undefined\") {\n",
       "      window._bokeh_onload_callbacks = [];\n",
       "    }\n",
       "  \n",
       "    function run_callbacks() {\n",
       "      window._bokeh_onload_callbacks.forEach(function(callback) { callback() });\n",
       "      delete window._bokeh_onload_callbacks\n",
       "      console.info(\"Bokeh: all callbacks have finished\");\n",
       "    }\n",
       "  \n",
       "    function load_libs(js_urls, callback) {\n",
       "      window._bokeh_onload_callbacks.push(callback);\n",
       "      if (window._bokeh_is_loading > 0) {\n",
       "        console.log(\"Bokeh: BokehJS is being loaded, scheduling callback at\", now());\n",
       "        return null;\n",
       "      }\n",
       "      if (js_urls == null || js_urls.length === 0) {\n",
       "        run_callbacks();\n",
       "        return null;\n",
       "      }\n",
       "      console.log(\"Bokeh: BokehJS not loaded, scheduling load and callback at\", now());\n",
       "      window._bokeh_is_loading = js_urls.length;\n",
       "      for (var i = 0; i < js_urls.length; i++) {\n",
       "        var url = js_urls[i];\n",
       "        var s = document.createElement('script');\n",
       "        s.src = url;\n",
       "        s.async = false;\n",
       "        s.onreadystatechange = s.onload = function() {\n",
       "          window._bokeh_is_loading--;\n",
       "          if (window._bokeh_is_loading === 0) {\n",
       "            console.log(\"Bokeh: all BokehJS libraries loaded\");\n",
       "            run_callbacks()\n",
       "          }\n",
       "        };\n",
       "        s.onerror = function() {\n",
       "          console.warn(\"failed to load library \" + url);\n",
       "        };\n",
       "        console.log(\"Bokeh: injecting script tag for BokehJS library: \", url);\n",
       "        document.getElementsByTagName(\"head\")[0].appendChild(s);\n",
       "      }\n",
       "    };var element = document.getElementById(\"a34eeaff-7c8d-443e-878e-43edb6e2ccd4\");\n",
       "    if (element == null) {\n",
       "      console.log(\"Bokeh: ERROR: autoload.js configured with elementid 'a34eeaff-7c8d-443e-878e-43edb6e2ccd4' but no matching script tag was found. \")\n",
       "      return false;\n",
       "    }\n",
       "  \n",
       "    var js_urls = [];\n",
       "  \n",
       "    var inline_js = [\n",
       "      function(Bokeh) {\n",
       "        Bokeh.$(function() {\n",
       "            var docs_json = {\"bb3eb219-829c-4d43-95d4-1a1430b66d9e\":{\"roots\":{\"references\":[{\"attributes\":{\"dimension\":1,\"plot\":{\"id\":\"4fdc5d8b-21e2-4c00-912d-6714c58acf8c\",\"subtype\":\"Figure\",\"type\":\"Plot\"},\"ticker\":{\"id\":\"12287e22-d4b4-433f-b9a7-85863024a3db\",\"type\":\"BasicTicker\"}},\"id\":\"e22d074a-e3c0-41c1-914a-2b814570aae6\",\"type\":\"Grid\"},{\"attributes\":{\"active_drag\":\"auto\",\"active_scroll\":\"auto\",\"active_tap\":\"auto\",\"tools\":[{\"id\":\"5fe4748b-e167-437f-9009-8969f08b57b3\",\"type\":\"PanTool\"},{\"id\":\"d07223a6-01f9-431b-8a62-db4620f9d819\",\"type\":\"WheelZoomTool\"},{\"id\":\"af4e7f41-69dd-43aa-bb57-e3b14498e17c\",\"type\":\"BoxZoomTool\"},{\"id\":\"c577a872-e21a-440c-af8c-9e16b5dcc17f\",\"type\":\"SaveTool\"},{\"id\":\"6fd86403-c238-4370-a3f0-eca7acdfccf6\",\"type\":\"ResetTool\"},{\"id\":\"9962fbb2-0b84-4e61-9b78-59869416df3d\",\"type\":\"HelpTool\"}]},\"id\":\"ecef7d01-68e2-493f-b987-f74040c45871\",\"type\":\"Toolbar\"},{\"attributes\":{\"plot\":{\"id\":\"4fdc5d8b-21e2-4c00-912d-6714c58acf8c\",\"subtype\":\"Figure\",\"type\":\"Plot\"}},\"id\":\"6fd86403-c238-4370-a3f0-eca7acdfccf6\",\"type\":\"ResetTool\"},{\"attributes\":{\"plot\":{\"id\":\"4fdc5d8b-21e2-4c00-912d-6714c58acf8c\",\"subtype\":\"Figure\",\"type\":\"Plot\"},\"ticker\":{\"id\":\"f9380a6b-69f3-44da-b943-52d8191c789a\",\"type\":\"BasicTicker\"}},\"id\":\"79469d2e-47e0-48da-8f08-f23771451e8d\",\"type\":\"Grid\"},{\"attributes\":{\"formatter\":{\"id\":\"d7779989-3cd0-4f73-b4ce-e2ff7e0582bc\",\"type\":\"BasicTickFormatter\"},\"plot\":{\"id\":\"4fdc5d8b-21e2-4c00-912d-6714c58acf8c\",\"subtype\":\"Figure\",\"type\":\"Plot\"},\"ticker\":{\"id\":\"f9380a6b-69f3-44da-b943-52d8191c789a\",\"type\":\"BasicTicker\"}},\"id\":\"09096a4f-a9e6-4070-bc30-6c424b0d96c9\",\"type\":\"LinearAxis\"},{\"attributes\":{\"overlay\":{\"id\":\"5febac11-d4bd-41e4-b705-c83229bab714\",\"type\":\"BoxAnnotation\"},\"plot\":{\"id\":\"4fdc5d8b-21e2-4c00-912d-6714c58acf8c\",\"subtype\":\"Figure\",\"type\":\"Plot\"}},\"id\":\"af4e7f41-69dd-43aa-bb57-e3b14498e17c\",\"type\":\"BoxZoomTool\"},{\"attributes\":{\"bottom_units\":\"screen\",\"fill_alpha\":{\"value\":0.5},\"fill_color\":{\"value\":\"lightgrey\"},\"left_units\":\"screen\",\"level\":\"overlay\",\"line_alpha\":{\"value\":1.0},\"line_color\":{\"value\":\"black\"},\"line_dash\":[4,4],\"line_width\":{\"value\":2},\"plot\":null,\"render_mode\":\"css\",\"right_units\":\"screen\",\"top_units\":\"screen\"},\"id\":\"5febac11-d4bd-41e4-b705-c83229bab714\",\"type\":\"BoxAnnotation\"},{\"attributes\":{\"line_alpha\":{\"value\":0.1},\"line_color\":{\"value\":\"#1f77b4\"},\"x\":{\"field\":\"x\"},\"y\":{\"field\":\"y\"}},\"id\":\"d8eb3486-0fb2-4b27-8960-a657b1330d98\",\"type\":\"Line\"},{\"attributes\":{\"plot\":{\"id\":\"4fdc5d8b-21e2-4c00-912d-6714c58acf8c\",\"subtype\":\"Figure\",\"type\":\"Plot\"}},\"id\":\"c577a872-e21a-440c-af8c-9e16b5dcc17f\",\"type\":\"SaveTool\"},{\"attributes\":{},\"id\":\"d7779989-3cd0-4f73-b4ce-e2ff7e0582bc\",\"type\":\"BasicTickFormatter\"},{\"attributes\":{\"plot\":null,\"text\":null},\"id\":\"7bfc0489-20ee-4c15-837d-ad195cc22d27\",\"type\":\"Title\"},{\"attributes\":{\"below\":[{\"id\":\"09096a4f-a9e6-4070-bc30-6c424b0d96c9\",\"type\":\"LinearAxis\"}],\"left\":[{\"id\":\"7cc6b7ab-a52b-4fd9-b296-7afb6f929c05\",\"type\":\"LinearAxis\"}],\"plot_height\":400,\"plot_width\":900,\"renderers\":[{\"id\":\"09096a4f-a9e6-4070-bc30-6c424b0d96c9\",\"type\":\"LinearAxis\"},{\"id\":\"79469d2e-47e0-48da-8f08-f23771451e8d\",\"type\":\"Grid\"},{\"id\":\"7cc6b7ab-a52b-4fd9-b296-7afb6f929c05\",\"type\":\"LinearAxis\"},{\"id\":\"e22d074a-e3c0-41c1-914a-2b814570aae6\",\"type\":\"Grid\"},{\"id\":\"5febac11-d4bd-41e4-b705-c83229bab714\",\"type\":\"BoxAnnotation\"},{\"id\":\"fcf81169-deb7-43ed-9f18-daf4e807c00f\",\"type\":\"GlyphRenderer\"}],\"title\":{\"id\":\"7bfc0489-20ee-4c15-837d-ad195cc22d27\",\"type\":\"Title\"},\"tool_events\":{\"id\":\"366349fc-97d8-4d75-93e3-d451f2c13070\",\"type\":\"ToolEvents\"},\"toolbar\":{\"id\":\"ecef7d01-68e2-493f-b987-f74040c45871\",\"type\":\"Toolbar\"},\"toolbar_location\":null,\"x_range\":{\"id\":\"198b1e3f-0fbc-4a7e-aa21-816020f4c2c1\",\"type\":\"Range1d\"},\"y_range\":{\"id\":\"2f9fe494-8a9a-46d4-9342-cf0bb1df119b\",\"type\":\"Range1d\"}},\"id\":\"4fdc5d8b-21e2-4c00-912d-6714c58acf8c\",\"subtype\":\"Figure\",\"type\":\"Plot\"},{\"attributes\":{\"formatter\":{\"id\":\"b9527410-3264-4683-a56b-33a7414de319\",\"type\":\"BasicTickFormatter\"},\"plot\":{\"id\":\"4fdc5d8b-21e2-4c00-912d-6714c58acf8c\",\"subtype\":\"Figure\",\"type\":\"Plot\"},\"ticker\":{\"id\":\"12287e22-d4b4-433f-b9a7-85863024a3db\",\"type\":\"BasicTicker\"}},\"id\":\"7cc6b7ab-a52b-4fd9-b296-7afb6f929c05\",\"type\":\"LinearAxis\"},{\"attributes\":{},\"id\":\"366349fc-97d8-4d75-93e3-d451f2c13070\",\"type\":\"ToolEvents\"},{\"attributes\":{\"plot\":{\"id\":\"4fdc5d8b-21e2-4c00-912d-6714c58acf8c\",\"subtype\":\"Figure\",\"type\":\"Plot\"}},\"id\":\"5fe4748b-e167-437f-9009-8969f08b57b3\",\"type\":\"PanTool\"},{\"attributes\":{\"callback\":null,\"column_names\":[\"y\",\"x\"],\"data\":{\"x\":[-0.5,-0.5,57.5,57.5,58.5,58.5,59.5,59.5],\"y\":[0.0,0.0,0.0,6.0,6.0,32.0,32.0,0.0]}},\"id\":\"2727d8f8-b2e3-4492-8b06-eb92040d456b\",\"type\":\"ColumnDataSource\"},{\"attributes\":{},\"id\":\"f9380a6b-69f3-44da-b943-52d8191c789a\",\"type\":\"BasicTicker\"},{\"attributes\":{\"line_color\":{\"value\":\"#1f77b4\"},\"x\":{\"field\":\"x\"},\"y\":{\"field\":\"y\"}},\"id\":\"01c1c9d6-14ab-40a9-bc32-86c9950bcc4a\",\"type\":\"Line\"},{\"attributes\":{\"plot\":{\"id\":\"4fdc5d8b-21e2-4c00-912d-6714c58acf8c\",\"subtype\":\"Figure\",\"type\":\"Plot\"}},\"id\":\"9962fbb2-0b84-4e61-9b78-59869416df3d\",\"type\":\"HelpTool\"},{\"attributes\":{\"callback\":null,\"end\":35.2},\"id\":\"2f9fe494-8a9a-46d4-9342-cf0bb1df119b\",\"type\":\"Range1d\"},{\"attributes\":{},\"id\":\"b9527410-3264-4683-a56b-33a7414de319\",\"type\":\"BasicTickFormatter\"},{\"attributes\":{\"plot\":{\"id\":\"4fdc5d8b-21e2-4c00-912d-6714c58acf8c\",\"subtype\":\"Figure\",\"type\":\"Plot\"}},\"id\":\"d07223a6-01f9-431b-8a62-db4620f9d819\",\"type\":\"WheelZoomTool\"},{\"attributes\":{\"data_source\":{\"id\":\"2727d8f8-b2e3-4492-8b06-eb92040d456b\",\"type\":\"ColumnDataSource\"},\"glyph\":{\"id\":\"01c1c9d6-14ab-40a9-bc32-86c9950bcc4a\",\"type\":\"Line\"},\"hover_glyph\":null,\"nonselection_glyph\":{\"id\":\"d8eb3486-0fb2-4b27-8960-a657b1330d98\",\"type\":\"Line\"},\"selection_glyph\":null},\"id\":\"fcf81169-deb7-43ed-9f18-daf4e807c00f\",\"type\":\"GlyphRenderer\"},{\"attributes\":{\"callback\":null,\"end\":60.5,\"start\":-0.5},\"id\":\"198b1e3f-0fbc-4a7e-aa21-816020f4c2c1\",\"type\":\"Range1d\"},{\"attributes\":{},\"id\":\"12287e22-d4b4-433f-b9a7-85863024a3db\",\"type\":\"BasicTicker\"}],\"root_ids\":[\"4fdc5d8b-21e2-4c00-912d-6714c58acf8c\"]},\"title\":\"Bokeh Application\",\"version\":\"0.12.0\"}};\n",
       "            var render_items = [{\"docid\":\"bb3eb219-829c-4d43-95d4-1a1430b66d9e\",\"elementid\":\"a34eeaff-7c8d-443e-878e-43edb6e2ccd4\",\"modelid\":\"4fdc5d8b-21e2-4c00-912d-6714c58acf8c\",\"notebook_comms_target\":\"7780a990-ae15-4401-bfd6-e2b16930aff9\"}];\n",
       "            \n",
       "            Bokeh.embed.embed_items(docs_json, render_items);\n",
       "        });\n",
       "      },\n",
       "      function(Bokeh) {\n",
       "      }\n",
       "    ];\n",
       "  \n",
       "    function run_inline_js() {\n",
       "      for (var i = 0; i < inline_js.length; i++) {\n",
       "        inline_js[i](window.Bokeh);\n",
       "      }\n",
       "    }\n",
       "  \n",
       "    if (window._bokeh_is_loading === 0) {\n",
       "      console.log(\"Bokeh: BokehJS loaded, going straight to plotting\");\n",
       "      run_inline_js();\n",
       "    } else {\n",
       "      load_libs(js_urls, function() {\n",
       "        console.log(\"Bokeh: BokehJS plotting callback run at\", now());\n",
       "        run_inline_js();\n",
       "      });\n",
       "    }\n",
       "  }(this));\n",
       "</script>"
      ]
     },
     "metadata": {},
     "output_type": "display_data"
    },
    {
     "data": {
      "text/html": [
       "<p><code>&lt;Bokeh Notebook handle for <strong>In[13]</strong>&gt;</code></p>"
      ],
      "text/plain": [
       "<bokeh.io._CommsHandle at 0x7f43e0b66290>"
      ]
     },
     "execution_count": 13,
     "metadata": {},
     "output_type": "execute_result"
    }
   ],
   "source": [
    "count_data = an.sa_62_1265.unique_snps_per_allele(am_147_38)\n",
    "plt_obj = smcp(count_data)\n",
    "plt = plt_obj.do_plot()\n",
    "show(plt)"
   ]
  },
  {
   "cell_type": "code",
   "execution_count": 14,
   "metadata": {
    "collapsed": false
   },
   "outputs": [
    {
     "data": {
      "text/plain": [
       "array([(58, 6), (59, 32)], \n",
       "      dtype=[('count', '<u2'), ('snps', '<u2')])"
      ]
     },
     "execution_count": 14,
     "metadata": {},
     "output_type": "execute_result"
    }
   ],
   "source": [
    "count_data"
   ]
  },
  {
   "cell_type": "code",
   "execution_count": 15,
   "metadata": {
    "collapsed": false
   },
   "outputs": [
    {
     "data": {
      "text/html": [
       "\n",
       "\n",
       "    <div class=\"bk-root\">\n",
       "        <div class=\"plotdiv\" id=\"0e0cacf5-6926-4a9b-b59e-a9fd80ee7248\"></div>\n",
       "    </div>\n",
       "<script type=\"text/javascript\">\n",
       "  \n",
       "  (function(global) {\n",
       "    function now() {\n",
       "      return new Date();\n",
       "    }\n",
       "  \n",
       "    if (typeof (window._bokeh_onload_callbacks) === \"undefined\") {\n",
       "      window._bokeh_onload_callbacks = [];\n",
       "    }\n",
       "  \n",
       "    function run_callbacks() {\n",
       "      window._bokeh_onload_callbacks.forEach(function(callback) { callback() });\n",
       "      delete window._bokeh_onload_callbacks\n",
       "      console.info(\"Bokeh: all callbacks have finished\");\n",
       "    }\n",
       "  \n",
       "    function load_libs(js_urls, callback) {\n",
       "      window._bokeh_onload_callbacks.push(callback);\n",
       "      if (window._bokeh_is_loading > 0) {\n",
       "        console.log(\"Bokeh: BokehJS is being loaded, scheduling callback at\", now());\n",
       "        return null;\n",
       "      }\n",
       "      if (js_urls == null || js_urls.length === 0) {\n",
       "        run_callbacks();\n",
       "        return null;\n",
       "      }\n",
       "      console.log(\"Bokeh: BokehJS not loaded, scheduling load and callback at\", now());\n",
       "      window._bokeh_is_loading = js_urls.length;\n",
       "      for (var i = 0; i < js_urls.length; i++) {\n",
       "        var url = js_urls[i];\n",
       "        var s = document.createElement('script');\n",
       "        s.src = url;\n",
       "        s.async = false;\n",
       "        s.onreadystatechange = s.onload = function() {\n",
       "          window._bokeh_is_loading--;\n",
       "          if (window._bokeh_is_loading === 0) {\n",
       "            console.log(\"Bokeh: all BokehJS libraries loaded\");\n",
       "            run_callbacks()\n",
       "          }\n",
       "        };\n",
       "        s.onerror = function() {\n",
       "          console.warn(\"failed to load library \" + url);\n",
       "        };\n",
       "        console.log(\"Bokeh: injecting script tag for BokehJS library: \", url);\n",
       "        document.getElementsByTagName(\"head\")[0].appendChild(s);\n",
       "      }\n",
       "    };var element = document.getElementById(\"0e0cacf5-6926-4a9b-b59e-a9fd80ee7248\");\n",
       "    if (element == null) {\n",
       "      console.log(\"Bokeh: ERROR: autoload.js configured with elementid '0e0cacf5-6926-4a9b-b59e-a9fd80ee7248' but no matching script tag was found. \")\n",
       "      return false;\n",
       "    }\n",
       "  \n",
       "    var js_urls = [];\n",
       "  \n",
       "    var inline_js = [\n",
       "      function(Bokeh) {\n",
       "        Bokeh.$(function() {\n",
       "            var docs_json = {\"80fb8cbc-aaac-4ba7-b6fb-6653e100d222\":{\"roots\":{\"references\":[{\"attributes\":{},\"id\":\"5dfbff27-6db6-4171-bbaa-87e15875123a\",\"type\":\"BasicTickFormatter\"},{\"attributes\":{\"formatter\":{\"id\":\"eec2c15e-84e3-4467-834e-2eddd1e083e2\",\"type\":\"BasicTickFormatter\"},\"plot\":{\"id\":\"c55b15fc-e297-4d2b-bd46-36e4da47228d\",\"subtype\":\"Figure\",\"type\":\"Plot\"},\"ticker\":{\"id\":\"7d0bab70-2139-4bec-adf7-e1697b6a2149\",\"type\":\"BasicTicker\"}},\"id\":\"aba072f7-73d1-4675-88f8-3ea8b715c5a4\",\"type\":\"LinearAxis\"},{\"attributes\":{\"plot\":null,\"text\":null},\"id\":\"00cce03c-cb74-4bf8-a6c2-518d80222022\",\"type\":\"Title\"},{\"attributes\":{\"plot\":{\"id\":\"c55b15fc-e297-4d2b-bd46-36e4da47228d\",\"subtype\":\"Figure\",\"type\":\"Plot\"}},\"id\":\"c9257b38-2325-4b04-b49d-9340715283bc\",\"type\":\"HelpTool\"},{\"attributes\":{\"formatter\":{\"id\":\"5dfbff27-6db6-4171-bbaa-87e15875123a\",\"type\":\"BasicTickFormatter\"},\"plot\":{\"id\":\"c55b15fc-e297-4d2b-bd46-36e4da47228d\",\"subtype\":\"Figure\",\"type\":\"Plot\"},\"ticker\":{\"id\":\"342ed064-31d8-4ba4-b911-65c358654b0c\",\"type\":\"BasicTicker\"}},\"id\":\"fb7f3d5c-b1aa-4f23-953b-34ec43d74ddf\",\"type\":\"LinearAxis\"},{\"attributes\":{\"below\":[{\"id\":\"fb7f3d5c-b1aa-4f23-953b-34ec43d74ddf\",\"type\":\"LinearAxis\"}],\"left\":[{\"id\":\"aba072f7-73d1-4675-88f8-3ea8b715c5a4\",\"type\":\"LinearAxis\"}],\"plot_height\":400,\"plot_width\":900,\"renderers\":[{\"id\":\"fb7f3d5c-b1aa-4f23-953b-34ec43d74ddf\",\"type\":\"LinearAxis\"},{\"id\":\"213677ce-fd0c-43bf-874a-2434e7f3538a\",\"type\":\"Grid\"},{\"id\":\"aba072f7-73d1-4675-88f8-3ea8b715c5a4\",\"type\":\"LinearAxis\"},{\"id\":\"875e4c12-1f7a-4885-8894-f437f75570c6\",\"type\":\"Grid\"},{\"id\":\"5acc5121-9bed-4e69-82c5-fb510033c89e\",\"type\":\"BoxAnnotation\"},{\"id\":\"4920833f-4fae-495f-bfa7-7d96ac083516\",\"type\":\"GlyphRenderer\"}],\"title\":{\"id\":\"00cce03c-cb74-4bf8-a6c2-518d80222022\",\"type\":\"Title\"},\"tool_events\":{\"id\":\"166493a8-7588-4d61-a7b8-694fd2394e3d\",\"type\":\"ToolEvents\"},\"toolbar\":{\"id\":\"bcb7b6b0-61f8-47f1-9a6b-f639c06f1117\",\"type\":\"Toolbar\"},\"toolbar_location\":null,\"x_range\":{\"id\":\"63e50816-795e-4da6-9484-357d1db47b17\",\"type\":\"Range1d\"},\"y_range\":{\"id\":\"5060f382-5190-4cba-b6be-5803236c1585\",\"type\":\"Range1d\"}},\"id\":\"c55b15fc-e297-4d2b-bd46-36e4da47228d\",\"subtype\":\"Figure\",\"type\":\"Plot\"},{\"attributes\":{\"callback\":null,\"end\":38.5},\"id\":\"5060f382-5190-4cba-b6be-5803236c1585\",\"type\":\"Range1d\"},{\"attributes\":{},\"id\":\"7d0bab70-2139-4bec-adf7-e1697b6a2149\",\"type\":\"BasicTicker\"},{\"attributes\":{\"plot\":{\"id\":\"c55b15fc-e297-4d2b-bd46-36e4da47228d\",\"subtype\":\"Figure\",\"type\":\"Plot\"}},\"id\":\"8789d263-ba9f-46ed-838f-3ee6d9c21f9e\",\"type\":\"WheelZoomTool\"},{\"attributes\":{\"callback\":null,\"column_names\":[\"y\",\"x\"],\"data\":{\"x\":[-0.5,-0.5,65.5,65.5,66.5,66.5,67.5,67.5],\"y\":[0.0,0.0,0.0,3.0,3.0,35.0,35.0,0.0]}},\"id\":\"51bc6d52-6e9e-41be-82cb-1280a41d0c4e\",\"type\":\"ColumnDataSource\"},{\"attributes\":{\"callback\":null,\"end\":68.5,\"start\":-0.5},\"id\":\"63e50816-795e-4da6-9484-357d1db47b17\",\"type\":\"Range1d\"},{\"attributes\":{},\"id\":\"166493a8-7588-4d61-a7b8-694fd2394e3d\",\"type\":\"ToolEvents\"},{\"attributes\":{},\"id\":\"342ed064-31d8-4ba4-b911-65c358654b0c\",\"type\":\"BasicTicker\"},{\"attributes\":{\"plot\":{\"id\":\"c55b15fc-e297-4d2b-bd46-36e4da47228d\",\"subtype\":\"Figure\",\"type\":\"Plot\"}},\"id\":\"da37b751-e7bd-4d37-97ae-57b0a9688483\",\"type\":\"PanTool\"},{\"attributes\":{\"active_drag\":\"auto\",\"active_scroll\":\"auto\",\"active_tap\":\"auto\",\"tools\":[{\"id\":\"da37b751-e7bd-4d37-97ae-57b0a9688483\",\"type\":\"PanTool\"},{\"id\":\"8789d263-ba9f-46ed-838f-3ee6d9c21f9e\",\"type\":\"WheelZoomTool\"},{\"id\":\"ea1504a8-6def-4f40-a88c-7ed36620451b\",\"type\":\"BoxZoomTool\"},{\"id\":\"3cb3ae02-9786-43b9-a28d-d7d3f000f3f5\",\"type\":\"SaveTool\"},{\"id\":\"b8f25320-4caf-421f-972b-686edb9d989c\",\"type\":\"ResetTool\"},{\"id\":\"c9257b38-2325-4b04-b49d-9340715283bc\",\"type\":\"HelpTool\"}]},\"id\":\"bcb7b6b0-61f8-47f1-9a6b-f639c06f1117\",\"type\":\"Toolbar\"},{\"attributes\":{\"plot\":{\"id\":\"c55b15fc-e297-4d2b-bd46-36e4da47228d\",\"subtype\":\"Figure\",\"type\":\"Plot\"}},\"id\":\"3cb3ae02-9786-43b9-a28d-d7d3f000f3f5\",\"type\":\"SaveTool\"},{\"attributes\":{\"plot\":{\"id\":\"c55b15fc-e297-4d2b-bd46-36e4da47228d\",\"subtype\":\"Figure\",\"type\":\"Plot\"}},\"id\":\"b8f25320-4caf-421f-972b-686edb9d989c\",\"type\":\"ResetTool\"},{\"attributes\":{\"line_color\":{\"value\":\"#1f77b4\"},\"x\":{\"field\":\"x\"},\"y\":{\"field\":\"y\"}},\"id\":\"14551486-7985-46fa-b86a-a7219e73912c\",\"type\":\"Line\"},{\"attributes\":{\"bottom_units\":\"screen\",\"fill_alpha\":{\"value\":0.5},\"fill_color\":{\"value\":\"lightgrey\"},\"left_units\":\"screen\",\"level\":\"overlay\",\"line_alpha\":{\"value\":1.0},\"line_color\":{\"value\":\"black\"},\"line_dash\":[4,4],\"line_width\":{\"value\":2},\"plot\":null,\"render_mode\":\"css\",\"right_units\":\"screen\",\"top_units\":\"screen\"},\"id\":\"5acc5121-9bed-4e69-82c5-fb510033c89e\",\"type\":\"BoxAnnotation\"},{\"attributes\":{\"overlay\":{\"id\":\"5acc5121-9bed-4e69-82c5-fb510033c89e\",\"type\":\"BoxAnnotation\"},\"plot\":{\"id\":\"c55b15fc-e297-4d2b-bd46-36e4da47228d\",\"subtype\":\"Figure\",\"type\":\"Plot\"}},\"id\":\"ea1504a8-6def-4f40-a88c-7ed36620451b\",\"type\":\"BoxZoomTool\"},{\"attributes\":{},\"id\":\"eec2c15e-84e3-4467-834e-2eddd1e083e2\",\"type\":\"BasicTickFormatter\"},{\"attributes\":{\"data_source\":{\"id\":\"51bc6d52-6e9e-41be-82cb-1280a41d0c4e\",\"type\":\"ColumnDataSource\"},\"glyph\":{\"id\":\"14551486-7985-46fa-b86a-a7219e73912c\",\"type\":\"Line\"},\"hover_glyph\":null,\"nonselection_glyph\":{\"id\":\"be2ec687-22eb-47d5-a031-6664909de3ea\",\"type\":\"Line\"},\"selection_glyph\":null},\"id\":\"4920833f-4fae-495f-bfa7-7d96ac083516\",\"type\":\"GlyphRenderer\"},{\"attributes\":{\"line_alpha\":{\"value\":0.1},\"line_color\":{\"value\":\"#1f77b4\"},\"x\":{\"field\":\"x\"},\"y\":{\"field\":\"y\"}},\"id\":\"be2ec687-22eb-47d5-a031-6664909de3ea\",\"type\":\"Line\"},{\"attributes\":{\"dimension\":1,\"plot\":{\"id\":\"c55b15fc-e297-4d2b-bd46-36e4da47228d\",\"subtype\":\"Figure\",\"type\":\"Plot\"},\"ticker\":{\"id\":\"7d0bab70-2139-4bec-adf7-e1697b6a2149\",\"type\":\"BasicTicker\"}},\"id\":\"875e4c12-1f7a-4885-8894-f437f75570c6\",\"type\":\"Grid\"},{\"attributes\":{\"plot\":{\"id\":\"c55b15fc-e297-4d2b-bd46-36e4da47228d\",\"subtype\":\"Figure\",\"type\":\"Plot\"},\"ticker\":{\"id\":\"342ed064-31d8-4ba4-b911-65c358654b0c\",\"type\":\"BasicTicker\"}},\"id\":\"213677ce-fd0c-43bf-874a-2434e7f3538a\",\"type\":\"Grid\"}],\"root_ids\":[\"c55b15fc-e297-4d2b-bd46-36e4da47228d\"]},\"title\":\"Bokeh Application\",\"version\":\"0.12.0\"}};\n",
       "            var render_items = [{\"docid\":\"80fb8cbc-aaac-4ba7-b6fb-6653e100d222\",\"elementid\":\"0e0cacf5-6926-4a9b-b59e-a9fd80ee7248\",\"modelid\":\"c55b15fc-e297-4d2b-bd46-36e4da47228d\",\"notebook_comms_target\":\"322e5992-55fa-42b6-be69-20a252fe985d\"}];\n",
       "            \n",
       "            Bokeh.embed.embed_items(docs_json, render_items);\n",
       "        });\n",
       "      },\n",
       "      function(Bokeh) {\n",
       "      }\n",
       "    ];\n",
       "  \n",
       "    function run_inline_js() {\n",
       "      for (var i = 0; i < inline_js.length; i++) {\n",
       "        inline_js[i](window.Bokeh);\n",
       "      }\n",
       "    }\n",
       "  \n",
       "    if (window._bokeh_is_loading === 0) {\n",
       "      console.log(\"Bokeh: BokehJS loaded, going straight to plotting\");\n",
       "      run_inline_js();\n",
       "    } else {\n",
       "      load_libs(js_urls, function() {\n",
       "        console.log(\"Bokeh: BokehJS plotting callback run at\", now());\n",
       "        run_inline_js();\n",
       "      });\n",
       "    }\n",
       "  }(this));\n",
       "</script>"
      ]
     },
     "metadata": {},
     "output_type": "display_data"
    },
    {
     "data": {
      "text/html": [
       "<p><code>&lt;Bokeh Notebook handle for <strong>In[15]</strong>&gt;</code></p>"
      ],
      "text/plain": [
       "<bokeh.io._CommsHandle at 0x7f43e0b66910>"
      ]
     },
     "execution_count": 15,
     "metadata": {},
     "output_type": "execute_result"
    }
   ],
   "source": [
    "count_data = an.sa_67_329.unique_snps_per_allele(am_147_38)\n",
    "plt_obj = smcp(count_data)\n",
    "plt = plt_obj.do_plot()\n",
    "show(plt)"
   ]
  },
  {
   "cell_type": "code",
   "execution_count": 16,
   "metadata": {
    "collapsed": false
   },
   "outputs": [
    {
     "data": {
      "text/plain": [
       "array([(66, 3), (67, 35)], \n",
       "      dtype=[('count', '<u2'), ('snps', '<u2')])"
      ]
     },
     "execution_count": 16,
     "metadata": {},
     "output_type": "execute_result"
    }
   ],
   "source": [
    "count_data"
   ]
  },
  {
   "cell_type": "code",
   "execution_count": 17,
   "metadata": {
    "collapsed": false
   },
   "outputs": [
    {
     "data": {
      "text/html": [
       "\n",
       "\n",
       "    <div class=\"bk-root\">\n",
       "        <div class=\"plotdiv\" id=\"cae38b58-8afa-4172-a4bd-1cd40535d005\"></div>\n",
       "    </div>\n",
       "<script type=\"text/javascript\">\n",
       "  \n",
       "  (function(global) {\n",
       "    function now() {\n",
       "      return new Date();\n",
       "    }\n",
       "  \n",
       "    if (typeof (window._bokeh_onload_callbacks) === \"undefined\") {\n",
       "      window._bokeh_onload_callbacks = [];\n",
       "    }\n",
       "  \n",
       "    function run_callbacks() {\n",
       "      window._bokeh_onload_callbacks.forEach(function(callback) { callback() });\n",
       "      delete window._bokeh_onload_callbacks\n",
       "      console.info(\"Bokeh: all callbacks have finished\");\n",
       "    }\n",
       "  \n",
       "    function load_libs(js_urls, callback) {\n",
       "      window._bokeh_onload_callbacks.push(callback);\n",
       "      if (window._bokeh_is_loading > 0) {\n",
       "        console.log(\"Bokeh: BokehJS is being loaded, scheduling callback at\", now());\n",
       "        return null;\n",
       "      }\n",
       "      if (js_urls == null || js_urls.length === 0) {\n",
       "        run_callbacks();\n",
       "        return null;\n",
       "      }\n",
       "      console.log(\"Bokeh: BokehJS not loaded, scheduling load and callback at\", now());\n",
       "      window._bokeh_is_loading = js_urls.length;\n",
       "      for (var i = 0; i < js_urls.length; i++) {\n",
       "        var url = js_urls[i];\n",
       "        var s = document.createElement('script');\n",
       "        s.src = url;\n",
       "        s.async = false;\n",
       "        s.onreadystatechange = s.onload = function() {\n",
       "          window._bokeh_is_loading--;\n",
       "          if (window._bokeh_is_loading === 0) {\n",
       "            console.log(\"Bokeh: all BokehJS libraries loaded\");\n",
       "            run_callbacks()\n",
       "          }\n",
       "        };\n",
       "        s.onerror = function() {\n",
       "          console.warn(\"failed to load library \" + url);\n",
       "        };\n",
       "        console.log(\"Bokeh: injecting script tag for BokehJS library: \", url);\n",
       "        document.getElementsByTagName(\"head\")[0].appendChild(s);\n",
       "      }\n",
       "    };var element = document.getElementById(\"cae38b58-8afa-4172-a4bd-1cd40535d005\");\n",
       "    if (element == null) {\n",
       "      console.log(\"Bokeh: ERROR: autoload.js configured with elementid 'cae38b58-8afa-4172-a4bd-1cd40535d005' but no matching script tag was found. \")\n",
       "      return false;\n",
       "    }\n",
       "  \n",
       "    var js_urls = [];\n",
       "  \n",
       "    var inline_js = [\n",
       "      function(Bokeh) {\n",
       "        Bokeh.$(function() {\n",
       "            var docs_json = {\"6cfa4ce8-cb58-4683-959b-7aebbf0e003e\":{\"roots\":{\"references\":[{\"attributes\":{},\"id\":\"125449c4-575f-4e0a-9760-74c7d5837ae9\",\"type\":\"BasicTicker\"},{\"attributes\":{\"plot\":{\"id\":\"784df943-31a2-48aa-9b39-4dfec4306240\",\"subtype\":\"Figure\",\"type\":\"Plot\"}},\"id\":\"968f243e-4800-47a9-a2be-75d6840205a3\",\"type\":\"HelpTool\"},{\"attributes\":{\"bottom_units\":\"screen\",\"fill_alpha\":{\"value\":0.5},\"fill_color\":{\"value\":\"lightgrey\"},\"left_units\":\"screen\",\"level\":\"overlay\",\"line_alpha\":{\"value\":1.0},\"line_color\":{\"value\":\"black\"},\"line_dash\":[4,4],\"line_width\":{\"value\":2},\"plot\":null,\"render_mode\":\"css\",\"right_units\":\"screen\",\"top_units\":\"screen\"},\"id\":\"c9d49232-d031-443d-8f9a-78a6c1d02293\",\"type\":\"BoxAnnotation\"},{\"attributes\":{\"overlay\":{\"id\":\"c9d49232-d031-443d-8f9a-78a6c1d02293\",\"type\":\"BoxAnnotation\"},\"plot\":{\"id\":\"784df943-31a2-48aa-9b39-4dfec4306240\",\"subtype\":\"Figure\",\"type\":\"Plot\"}},\"id\":\"90726508-76a5-494a-8455-d66cbae23e98\",\"type\":\"BoxZoomTool\"},{\"attributes\":{\"callback\":null,\"end\":13.5,\"start\":-0.5},\"id\":\"13f4e70d-84da-4c17-900e-92b677cba343\",\"type\":\"Range1d\"},{\"attributes\":{\"callback\":null,\"end\":41.800000000000004},\"id\":\"e094920f-41e5-4955-a93e-ed957686f293\",\"type\":\"Range1d\"},{\"attributes\":{\"plot\":{\"id\":\"784df943-31a2-48aa-9b39-4dfec4306240\",\"subtype\":\"Figure\",\"type\":\"Plot\"},\"ticker\":{\"id\":\"bfe09a7f-2a73-487c-a689-9f79b088bfb3\",\"type\":\"BasicTicker\"}},\"id\":\"f0d28b77-9f27-49be-a5b7-75ba2e5799cc\",\"type\":\"Grid\"},{\"attributes\":{\"below\":[{\"id\":\"ca8b0d46-e964-473b-9c0e-0c073c09af9a\",\"type\":\"LinearAxis\"}],\"left\":[{\"id\":\"adf89da7-1b22-49fb-9cd3-dc6d8ef1e93c\",\"type\":\"LinearAxis\"}],\"plot_height\":400,\"plot_width\":900,\"renderers\":[{\"id\":\"ca8b0d46-e964-473b-9c0e-0c073c09af9a\",\"type\":\"LinearAxis\"},{\"id\":\"f0d28b77-9f27-49be-a5b7-75ba2e5799cc\",\"type\":\"Grid\"},{\"id\":\"adf89da7-1b22-49fb-9cd3-dc6d8ef1e93c\",\"type\":\"LinearAxis\"},{\"id\":\"756abfc0-379d-4af3-8470-e205c119e06f\",\"type\":\"Grid\"},{\"id\":\"c9d49232-d031-443d-8f9a-78a6c1d02293\",\"type\":\"BoxAnnotation\"},{\"id\":\"b136c239-17ab-46eb-9452-c3b41534df51\",\"type\":\"GlyphRenderer\"}],\"title\":{\"id\":\"51af251c-db26-4860-a237-42a79a233ee4\",\"type\":\"Title\"},\"tool_events\":{\"id\":\"29e7ef6f-34a3-4502-9006-a7d93cb6006f\",\"type\":\"ToolEvents\"},\"toolbar\":{\"id\":\"6712a704-b534-44ac-b73a-d69c269a67f9\",\"type\":\"Toolbar\"},\"toolbar_location\":null,\"x_range\":{\"id\":\"13f4e70d-84da-4c17-900e-92b677cba343\",\"type\":\"Range1d\"},\"y_range\":{\"id\":\"e094920f-41e5-4955-a93e-ed957686f293\",\"type\":\"Range1d\"}},\"id\":\"784df943-31a2-48aa-9b39-4dfec4306240\",\"subtype\":\"Figure\",\"type\":\"Plot\"},{\"attributes\":{\"plot\":null,\"text\":null},\"id\":\"51af251c-db26-4860-a237-42a79a233ee4\",\"type\":\"Title\"},{\"attributes\":{\"plot\":{\"id\":\"784df943-31a2-48aa-9b39-4dfec4306240\",\"subtype\":\"Figure\",\"type\":\"Plot\"}},\"id\":\"f87473a2-391d-4e55-866a-66d5267b4e10\",\"type\":\"PanTool\"},{\"attributes\":{\"callback\":null,\"column_names\":[\"y\",\"x\"],\"data\":{\"x\":[-0.5,-0.5,11.5,11.5,12.5,12.5],\"y\":[0.0,0.0,0.0,38.0,38.0,0.0]}},\"id\":\"15d8eeca-033d-41ba-b2ea-4c9dfa0469b7\",\"type\":\"ColumnDataSource\"},{\"attributes\":{\"formatter\":{\"id\":\"cd36baf6-17a5-443c-86c8-5b602f0e3a94\",\"type\":\"BasicTickFormatter\"},\"plot\":{\"id\":\"784df943-31a2-48aa-9b39-4dfec4306240\",\"subtype\":\"Figure\",\"type\":\"Plot\"},\"ticker\":{\"id\":\"125449c4-575f-4e0a-9760-74c7d5837ae9\",\"type\":\"BasicTicker\"}},\"id\":\"adf89da7-1b22-49fb-9cd3-dc6d8ef1e93c\",\"type\":\"LinearAxis\"},{\"attributes\":{\"formatter\":{\"id\":\"ea925d0d-6ce9-4893-aa20-cf4acfc0759b\",\"type\":\"BasicTickFormatter\"},\"plot\":{\"id\":\"784df943-31a2-48aa-9b39-4dfec4306240\",\"subtype\":\"Figure\",\"type\":\"Plot\"},\"ticker\":{\"id\":\"bfe09a7f-2a73-487c-a689-9f79b088bfb3\",\"type\":\"BasicTicker\"}},\"id\":\"ca8b0d46-e964-473b-9c0e-0c073c09af9a\",\"type\":\"LinearAxis\"},{\"attributes\":{\"active_drag\":\"auto\",\"active_scroll\":\"auto\",\"active_tap\":\"auto\",\"tools\":[{\"id\":\"f87473a2-391d-4e55-866a-66d5267b4e10\",\"type\":\"PanTool\"},{\"id\":\"090401af-40f6-4a9c-8ebb-26e11a321eb5\",\"type\":\"WheelZoomTool\"},{\"id\":\"90726508-76a5-494a-8455-d66cbae23e98\",\"type\":\"BoxZoomTool\"},{\"id\":\"a03333c2-2511-4bc7-a2dd-5bfb46bd2e6a\",\"type\":\"SaveTool\"},{\"id\":\"770dcfe5-2bf1-4681-8db9-56e2cc359002\",\"type\":\"ResetTool\"},{\"id\":\"968f243e-4800-47a9-a2be-75d6840205a3\",\"type\":\"HelpTool\"}]},\"id\":\"6712a704-b534-44ac-b73a-d69c269a67f9\",\"type\":\"Toolbar\"},{\"attributes\":{\"plot\":{\"id\":\"784df943-31a2-48aa-9b39-4dfec4306240\",\"subtype\":\"Figure\",\"type\":\"Plot\"}},\"id\":\"770dcfe5-2bf1-4681-8db9-56e2cc359002\",\"type\":\"ResetTool\"},{\"attributes\":{\"line_alpha\":{\"value\":0.1},\"line_color\":{\"value\":\"#1f77b4\"},\"x\":{\"field\":\"x\"},\"y\":{\"field\":\"y\"}},\"id\":\"909541e1-5b49-4a5b-ba9f-e55cc923e59f\",\"type\":\"Line\"},{\"attributes\":{},\"id\":\"bfe09a7f-2a73-487c-a689-9f79b088bfb3\",\"type\":\"BasicTicker\"},{\"attributes\":{},\"id\":\"29e7ef6f-34a3-4502-9006-a7d93cb6006f\",\"type\":\"ToolEvents\"},{\"attributes\":{},\"id\":\"cd36baf6-17a5-443c-86c8-5b602f0e3a94\",\"type\":\"BasicTickFormatter\"},{\"attributes\":{\"plot\":{\"id\":\"784df943-31a2-48aa-9b39-4dfec4306240\",\"subtype\":\"Figure\",\"type\":\"Plot\"}},\"id\":\"090401af-40f6-4a9c-8ebb-26e11a321eb5\",\"type\":\"WheelZoomTool\"},{\"attributes\":{\"data_source\":{\"id\":\"15d8eeca-033d-41ba-b2ea-4c9dfa0469b7\",\"type\":\"ColumnDataSource\"},\"glyph\":{\"id\":\"86b8b6eb-57c5-49ec-8cb5-c709bf98610f\",\"type\":\"Line\"},\"hover_glyph\":null,\"nonselection_glyph\":{\"id\":\"909541e1-5b49-4a5b-ba9f-e55cc923e59f\",\"type\":\"Line\"},\"selection_glyph\":null},\"id\":\"b136c239-17ab-46eb-9452-c3b41534df51\",\"type\":\"GlyphRenderer\"},{\"attributes\":{\"plot\":{\"id\":\"784df943-31a2-48aa-9b39-4dfec4306240\",\"subtype\":\"Figure\",\"type\":\"Plot\"}},\"id\":\"a03333c2-2511-4bc7-a2dd-5bfb46bd2e6a\",\"type\":\"SaveTool\"},{\"attributes\":{},\"id\":\"ea925d0d-6ce9-4893-aa20-cf4acfc0759b\",\"type\":\"BasicTickFormatter\"},{\"attributes\":{\"dimension\":1,\"plot\":{\"id\":\"784df943-31a2-48aa-9b39-4dfec4306240\",\"subtype\":\"Figure\",\"type\":\"Plot\"},\"ticker\":{\"id\":\"125449c4-575f-4e0a-9760-74c7d5837ae9\",\"type\":\"BasicTicker\"}},\"id\":\"756abfc0-379d-4af3-8470-e205c119e06f\",\"type\":\"Grid\"},{\"attributes\":{\"line_color\":{\"value\":\"#1f77b4\"},\"x\":{\"field\":\"x\"},\"y\":{\"field\":\"y\"}},\"id\":\"86b8b6eb-57c5-49ec-8cb5-c709bf98610f\",\"type\":\"Line\"}],\"root_ids\":[\"784df943-31a2-48aa-9b39-4dfec4306240\"]},\"title\":\"Bokeh Application\",\"version\":\"0.12.0\"}};\n",
       "            var render_items = [{\"docid\":\"6cfa4ce8-cb58-4683-959b-7aebbf0e003e\",\"elementid\":\"cae38b58-8afa-4172-a4bd-1cd40535d005\",\"modelid\":\"784df943-31a2-48aa-9b39-4dfec4306240\",\"notebook_comms_target\":\"baafebd8-7423-40de-a94b-211448b115b8\"}];\n",
       "            \n",
       "            Bokeh.embed.embed_items(docs_json, render_items);\n",
       "        });\n",
       "      },\n",
       "      function(Bokeh) {\n",
       "      }\n",
       "    ];\n",
       "  \n",
       "    function run_inline_js() {\n",
       "      for (var i = 0; i < inline_js.length; i++) {\n",
       "        inline_js[i](window.Bokeh);\n",
       "      }\n",
       "    }\n",
       "  \n",
       "    if (window._bokeh_is_loading === 0) {\n",
       "      console.log(\"Bokeh: BokehJS loaded, going straight to plotting\");\n",
       "      run_inline_js();\n",
       "    } else {\n",
       "      load_libs(js_urls, function() {\n",
       "        console.log(\"Bokeh: BokehJS plotting callback run at\", now());\n",
       "        run_inline_js();\n",
       "      });\n",
       "    }\n",
       "  }(this));\n",
       "</script>"
      ]
     },
     "metadata": {},
     "output_type": "display_data"
    },
    {
     "data": {
      "text/html": [
       "<p><code>&lt;Bokeh Notebook handle for <strong>In[17]</strong>&gt;</code></p>"
      ],
      "text/plain": [
       "<bokeh.io._CommsHandle at 0x7f43e01f41d0>"
      ]
     },
     "execution_count": 17,
     "metadata": {},
     "output_type": "execute_result"
    }
   ],
   "source": [
    "count_data = an.sa_193_843.unique_snps_per_allele(am_147_38)\n",
    "plt_obj = smcp(count_data)\n",
    "plt = plt_obj.do_plot()\n",
    "show(plt)"
   ]
  },
  {
   "cell_type": "code",
   "execution_count": 18,
   "metadata": {
    "collapsed": false
   },
   "outputs": [
    {
     "data": {
      "text/plain": [
       "array([(12, 38)], \n",
       "      dtype=[('count', '<u2'), ('snps', '<u2')])"
      ]
     },
     "execution_count": 18,
     "metadata": {},
     "output_type": "execute_result"
    }
   ],
   "source": [
    "count_data"
   ]
  },
  {
   "cell_type": "code",
   "execution_count": 19,
   "metadata": {
    "collapsed": false
   },
   "outputs": [
    {
     "data": {
      "text/plain": [
       "array([38,  0,  0,  0, 38,  0, 38,  0,  0,  0,  0,  0,  0,  0,  0,  0,  0,\n",
       "        0,  0,  0,  0,  0,  0,  0,  0,  0,  0,  0,  0,  0,  0,  0,  0, 38,\n",
       "        0, 38,  0, 38,  0,  0,  0,  0,  0,  0,  0,  0,  0,  0,  0,  0,  0,\n",
       "        0,  0, 38, 38,  0,  0,  0,  0,  0,  0,  0, 38,  0,  0,  0,  0,  0,\n",
       "        0, 38,  0,  0,  0,  0,  0,  0,  0,  0,  0, 38,  0,  0,  0,  0,  0,\n",
       "        0,  0,  0,  0,  0,  0,  0,  0,  0, 38,  0,  0,  0,  0,  0,  0,  0,\n",
       "        0,  0,  0,  0,  0,  0,  0,  0,  0,  0,  0,  0,  0,  0,  0,  0,  0,\n",
       "        0,  0,  0,  0,  0,  0,  0,  0,  0,  0,  0,  0,  0,  0,  0,  0,  0,\n",
       "        0,  0,  0,  0,  0,  0,  0,  0,  0,  0,  0,  0,  0,  0,  0,  0,  0,\n",
       "        0,  0,  0,  0,  0,  0,  0,  0,  0,  0,  0,  0,  0,  0,  0,  0,  0,\n",
       "        0,  0,  0,  0,  0,  0,  0,  0,  0,  0,  0,  0,  0,  0,  0,  0,  0,\n",
       "        0,  0,  0,  0,  0,  0])"
      ]
     },
     "execution_count": 19,
     "metadata": {},
     "output_type": "execute_result"
    }
   ],
   "source": [
    "aps_12, am_12 = an.sa_193_843.snps_from_aps_value(12, am_147_38)\n",
    "aps_12"
   ]
  },
  {
   "cell_type": "code",
   "execution_count": 20,
   "metadata": {
    "collapsed": false
   },
   "outputs": [
    {
     "data": {
      "text/html": [
       "\n",
       "\n",
       "    <div class=\"bk-root\">\n",
       "        <div class=\"plotdiv\" id=\"84c2f1fe-badb-48c0-92ec-a8b48c796900\"></div>\n",
       "    </div>\n",
       "<script type=\"text/javascript\">\n",
       "  \n",
       "  (function(global) {\n",
       "    function now() {\n",
       "      return new Date();\n",
       "    }\n",
       "  \n",
       "    if (typeof (window._bokeh_onload_callbacks) === \"undefined\") {\n",
       "      window._bokeh_onload_callbacks = [];\n",
       "    }\n",
       "  \n",
       "    function run_callbacks() {\n",
       "      window._bokeh_onload_callbacks.forEach(function(callback) { callback() });\n",
       "      delete window._bokeh_onload_callbacks\n",
       "      console.info(\"Bokeh: all callbacks have finished\");\n",
       "    }\n",
       "  \n",
       "    function load_libs(js_urls, callback) {\n",
       "      window._bokeh_onload_callbacks.push(callback);\n",
       "      if (window._bokeh_is_loading > 0) {\n",
       "        console.log(\"Bokeh: BokehJS is being loaded, scheduling callback at\", now());\n",
       "        return null;\n",
       "      }\n",
       "      if (js_urls == null || js_urls.length === 0) {\n",
       "        run_callbacks();\n",
       "        return null;\n",
       "      }\n",
       "      console.log(\"Bokeh: BokehJS not loaded, scheduling load and callback at\", now());\n",
       "      window._bokeh_is_loading = js_urls.length;\n",
       "      for (var i = 0; i < js_urls.length; i++) {\n",
       "        var url = js_urls[i];\n",
       "        var s = document.createElement('script');\n",
       "        s.src = url;\n",
       "        s.async = false;\n",
       "        s.onreadystatechange = s.onload = function() {\n",
       "          window._bokeh_is_loading--;\n",
       "          if (window._bokeh_is_loading === 0) {\n",
       "            console.log(\"Bokeh: all BokehJS libraries loaded\");\n",
       "            run_callbacks()\n",
       "          }\n",
       "        };\n",
       "        s.onerror = function() {\n",
       "          console.warn(\"failed to load library \" + url);\n",
       "        };\n",
       "        console.log(\"Bokeh: injecting script tag for BokehJS library: \", url);\n",
       "        document.getElementsByTagName(\"head\")[0].appendChild(s);\n",
       "      }\n",
       "    };var element = document.getElementById(\"84c2f1fe-badb-48c0-92ec-a8b48c796900\");\n",
       "    if (element == null) {\n",
       "      console.log(\"Bokeh: ERROR: autoload.js configured with elementid '84c2f1fe-badb-48c0-92ec-a8b48c796900' but no matching script tag was found. \")\n",
       "      return false;\n",
       "    }\n",
       "  \n",
       "    var js_urls = [];\n",
       "  \n",
       "    var inline_js = [\n",
       "      function(Bokeh) {\n",
       "        Bokeh.$(function() {\n",
       "            var docs_json = {\"dca2ebb9-5316-4b64-a595-0bc9ff5524aa\":{\"roots\":{\"references\":[{\"attributes\":{\"plot\":{\"id\":\"dd0861ee-e1c0-47e8-ab0c-b8159bac0c02\",\"subtype\":\"Figure\",\"type\":\"Plot\"}},\"id\":\"ddd7a886-4b93-4dc3-8763-c937666cb797\",\"type\":\"SaveTool\"},{\"attributes\":{\"plot\":{\"id\":\"dd0861ee-e1c0-47e8-ab0c-b8159bac0c02\",\"subtype\":\"Figure\",\"type\":\"Plot\"},\"ticker\":{\"id\":\"8f98ea70-1525-47a0-ac56-86c10dd77664\",\"type\":\"BasicTicker\"}},\"id\":\"8e6e5262-8a34-4f5b-8c1b-2c5702f4e115\",\"type\":\"Grid\"},{\"attributes\":{},\"id\":\"8f98ea70-1525-47a0-ac56-86c10dd77664\",\"type\":\"BasicTicker\"},{\"attributes\":{\"plot\":{\"id\":\"dd0861ee-e1c0-47e8-ab0c-b8159bac0c02\",\"subtype\":\"Figure\",\"type\":\"Plot\"}},\"id\":\"9e5388c8-26fe-4bdd-9b1c-58c03238e243\",\"type\":\"WheelZoomTool\"},{\"attributes\":{\"below\":[{\"id\":\"2f733810-2590-43bd-a0a1-b3d02abd9707\",\"type\":\"LinearAxis\"}],\"left\":[{\"id\":\"be5884c6-c370-4dfc-ad1c-254864bfdd84\",\"type\":\"LinearAxis\"}],\"plot_height\":1200,\"plot_width\":900,\"renderers\":[{\"id\":\"2f733810-2590-43bd-a0a1-b3d02abd9707\",\"type\":\"LinearAxis\"},{\"id\":\"8e6e5262-8a34-4f5b-8c1b-2c5702f4e115\",\"type\":\"Grid\"},{\"id\":\"be5884c6-c370-4dfc-ad1c-254864bfdd84\",\"type\":\"LinearAxis\"},{\"id\":\"7da05291-df28-4b55-ae82-efbe7c12726b\",\"type\":\"Grid\"},{\"id\":\"d3466b61-e985-435d-864b-6c93d783817d\",\"type\":\"BoxAnnotation\"},{\"id\":\"8d6a779c-ef55-4790-be99-bf96c0bcec99\",\"type\":\"GlyphRenderer\"},{\"id\":\"92136145-43de-4c67-8921-443eff14516b\",\"type\":\"GlyphRenderer\"},{\"id\":\"af225f10-0f27-48c8-82a1-7436834530f7\",\"type\":\"LabelSet\"},{\"id\":\"3b47a6dc-cba1-4e00-8615-160fbaedfbd6\",\"type\":\"GlyphRenderer\"},{\"id\":\"1eb4570b-c27d-4636-9707-4bc8c5059d69\",\"type\":\"LabelSet\"}],\"title\":{\"id\":\"fcfcba85-0efa-44cd-a489-8a867841ea3e\",\"type\":\"Title\"},\"tool_events\":{\"id\":\"41a1ab7d-5109-417c-9558-153f618d9d86\",\"type\":\"ToolEvents\"},\"toolbar\":{\"id\":\"bb7f9f4f-ca1a-445c-b605-358e28700301\",\"type\":\"Toolbar\"},\"toolbar_location\":null,\"x_range\":{\"id\":\"99d8d64d-4a62-4873-a9db-4ee95829a8c4\",\"type\":\"Range1d\"},\"y_range\":{\"id\":\"329629e4-ebcb-40c5-a299-49abbb382e0f\",\"type\":\"Range1d\"}},\"id\":\"dd0861ee-e1c0-47e8-ab0c-b8159bac0c02\",\"subtype\":\"Figure\",\"type\":\"Plot\"},{\"attributes\":{\"callback\":null,\"column_names\":[\"y\",\"x\",\"vals\"],\"data\":{\"vals\":[\"147_38\",\"117_1685\",\"62_1265\",\"8_718\",\"67_329\",\"9_545\",\"123_1561\",\"5_96\",\"6_32\",\"9_887\",\"5_588\",\"55_180\",\"4_1442\",\"7_1303\",\"6_127\",\"7_1760\",\"17_127\",\"7_226\",\"16_511\",\"10_43\",\"24_1504\",\"33_38\",\"18_172\",\"5_212\"],\"x\":[135758116,135758231,135766890,135784351,135795222,135810535,135933921,135946660,136025256,136309239,136364916,136392700,136506375,136535876,136562716,136588031,136589521,136602291,136603638,136647933,136653925,136658314,136696010,136704466],\"y\":[168.0,1101.0,898.0,793.0,587.0,691.0,1000.0,376.0,67.0,895.0,792.0,481.0,999.0,899.0,378.0,1101.0,478.0,583.0,690.0,369.0,1000.0,268.0,481.0,583.0]}},\"id\":\"0a437295-c94e-4fc6-8802-ee8b85d72708\",\"type\":\"ColumnDataSource\"},{\"attributes\":{\"formatter\":{\"id\":\"619fd6c4-bf35-46c9-a32c-7e856f905c1f\",\"type\":\"BasicTickFormatter\"},\"plot\":{\"id\":\"dd0861ee-e1c0-47e8-ab0c-b8159bac0c02\",\"subtype\":\"Figure\",\"type\":\"Plot\"},\"ticker\":{\"id\":\"61145c2f-9e28-4a0e-87bd-2fb66e9a499f\",\"type\":\"BasicTicker\"},\"visible\":null},\"id\":\"be5884c6-c370-4dfc-ad1c-254864bfdd84\",\"type\":\"LinearAxis\"},{\"attributes\":{\"level\":\"glyph\",\"plot\":{\"id\":\"dd0861ee-e1c0-47e8-ab0c-b8159bac0c02\",\"subtype\":\"Figure\",\"type\":\"Plot\"},\"source\":{\"id\":\"c5c5f050-ae58-445b-a9eb-8837d9428a8a\",\"type\":\"ColumnDataSource\"},\"text\":{\"field\":\"vals\"},\"text_align\":\"center\",\"text_baseline\":\"middle\",\"text_font_size\":{\"value\":\"8pt\"},\"x\":{\"field\":\"x\"},\"y\":{\"field\":\"y\"}},\"id\":\"1eb4570b-c27d-4636-9707-4bc8c5059d69\",\"type\":\"LabelSet\"},{\"attributes\":{\"active_drag\":\"auto\",\"active_scroll\":\"auto\",\"active_tap\":\"auto\",\"tools\":[{\"id\":\"f2dad492-539b-43d8-959c-43a381674a1b\",\"type\":\"PanTool\"},{\"id\":\"9e5388c8-26fe-4bdd-9b1c-58c03238e243\",\"type\":\"WheelZoomTool\"},{\"id\":\"3ba9839b-5ada-4c56-8797-c79233671b3b\",\"type\":\"BoxZoomTool\"},{\"id\":\"ddd7a886-4b93-4dc3-8763-c937666cb797\",\"type\":\"SaveTool\"},{\"id\":\"773f0ac7-f073-491a-a587-7f8621701a98\",\"type\":\"ResetTool\"},{\"id\":\"ab521165-e816-4338-8852-c9e26abce40f\",\"type\":\"HelpTool\"}]},\"id\":\"bb7f9f4f-ca1a-445c-b605-358e28700301\",\"type\":\"Toolbar\"},{\"attributes\":{\"callback\":null,\"column_names\":[\"right\",\"bottom\",\"top\",\"left\",\"fill_color\"],\"data\":{\"bottom\":[150,1050,850,750,550,650,950,350,50,850,750,450,950,850,350,1050,450,550,650,350,950,250,450,550],\"fill_color\":[\"#ff0000\",\"#808080\",\"#808080\",\"#ff0000\",\"#ff0000\",\"#ff0000\",\"#c46161\",\"#ff0000\",\"#ff0000\",\"#ff0000\",\"#ff0000\",\"#c46161\",\"#808080\",\"#808080\",\"#ff0000\",\"#c46161\",\"#ff0000\",\"#ff0000\",\"#c46161\",\"#ff0000\",\"#808080\",\"#ff0000\",\"#ff0000\",\"#ff0000\"],\"left\":[135758116,135758231,135766890,135784351,135795222,135810535,135933921,135946660,136025256,136309239,136364916,136392700,136506375,136535876,136562716,136588031,136589521,136602291,136603638,136647933,136653925,136658314,136696010,136704466],\"right\":[136780494,136376515,136275985,135902220,136382700,135898023,136368563,136103328,136513291,136361560,136387893,136550806,136538939,136554890,136584714,136593678,136642012,136629987,136632125,136678378,136761853,136765458,136764564,136732214],\"top\":[163,1096,893,788,582,686,995,371,62,890,787,476,994,894,373,1096,473,578,685,364,995,263,476,578]}},\"id\":\"e19bdcff-8869-46db-b388-9a57eae1f200\",\"type\":\"ColumnDataSource\"},{\"attributes\":{},\"id\":\"619fd6c4-bf35-46c9-a32c-7e856f905c1f\",\"type\":\"BasicTickFormatter\"},{\"attributes\":{\"bottom_units\":\"screen\",\"fill_alpha\":{\"value\":0.5},\"fill_color\":{\"value\":\"lightgrey\"},\"left_units\":\"screen\",\"level\":\"overlay\",\"line_alpha\":{\"value\":1.0},\"line_color\":{\"value\":\"black\"},\"line_dash\":[4,4],\"line_width\":{\"value\":2},\"plot\":null,\"render_mode\":\"css\",\"right_units\":\"screen\",\"top_units\":\"screen\"},\"id\":\"d3466b61-e985-435d-864b-6c93d783817d\",\"type\":\"BoxAnnotation\"},{\"attributes\":{\"line_color\":{\"field\":\"line_color\"},\"xs\":{\"field\":\"xs\"},\"ys\":{\"field\":\"ys\"}},\"id\":\"afe64b32-7252-4e83-bdf0-b563632af625\",\"type\":\"MultiLine\"},{\"attributes\":{\"level\":\"glyph\",\"plot\":{\"id\":\"dd0861ee-e1c0-47e8-ab0c-b8159bac0c02\",\"subtype\":\"Figure\",\"type\":\"Plot\"},\"source\":{\"id\":\"0a437295-c94e-4fc6-8802-ee8b85d72708\",\"type\":\"ColumnDataSource\"},\"text\":{\"field\":\"vals\"},\"text_font_size\":{\"value\":\"9pt\"},\"text_font_style\":\"bold\",\"x\":{\"field\":\"x\"},\"y\":{\"field\":\"y\"}},\"id\":\"af225f10-0f27-48c8-82a1-7436834530f7\",\"type\":\"LabelSet\"},{\"attributes\":{\"plot\":{\"id\":\"dd0861ee-e1c0-47e8-ab0c-b8159bac0c02\",\"subtype\":\"Figure\",\"type\":\"Plot\"}},\"id\":\"773f0ac7-f073-491a-a587-7f8621701a98\",\"type\":\"ResetTool\"},{\"attributes\":{\"plot\":null,\"text\":null},\"id\":\"fcfcba85-0efa-44cd-a489-8a867841ea3e\",\"type\":\"Title\"},{\"attributes\":{\"formatter\":{\"id\":\"46f69cc2-4aa5-40d6-aa3b-b541d37b561b\",\"type\":\"BasicTickFormatter\"},\"plot\":{\"id\":\"dd0861ee-e1c0-47e8-ab0c-b8159bac0c02\",\"subtype\":\"Figure\",\"type\":\"Plot\"},\"ticker\":{\"id\":\"8f98ea70-1525-47a0-ac56-86c10dd77664\",\"type\":\"BasicTicker\"}},\"id\":\"2f733810-2590-43bd-a0a1-b3d02abd9707\",\"type\":\"LinearAxis\"},{\"attributes\":{\"callback\":null,\"column_names\":[\"y\",\"x\",\"vals\"],\"data\":{\"vals\":[\"RAB3GAP1\",\"ZRANB3\",\"R3HDM1\",\"UBXN4\",\"LCT\",\"MCM6\",\"DARS\"],\"x\":[135869057.0,136122878.0,136385961.0,136520911.0,136570082.5,136615621.5,136703738.0],\"y\":[1160.0,1160.0,1160.0,1160.0,1160.0,1160.0,1160.0]}},\"id\":\"c5c5f050-ae58-445b-a9eb-8837d9428a8a\",\"type\":\"ColumnDataSource\"},{\"attributes\":{\"callback\":null,\"column_names\":[\"xs\",\"ys\",\"line_color\"],\"data\":{\"line_color\":[\"black\",\"black\",\"black\",\"black\",\"black\",\"black\",\"black\",\"black\",\"black\",\"black\",\"black\",\"black\",\"black\",\"black\",\"black\",\"black\",\"black\",\"black\",\"black\",\"black\",\"black\",\"black\",\"black\",\"black\",\"black\",\"black\",\"black\",\"black\",\"black\",\"black\",\"black\",\"black\",\"black\",\"black\",\"black\",\"black\",\"black\",\"black\",\"black\",\"black\",\"black\",\"black\",\"black\",\"black\",\"black\",\"black\",\"black\",\"black\",\"black\",\"black\",\"black\",\"black\",\"black\",\"black\",\"black\",\"black\",\"black\",\"black\",\"black\",\"black\",\"black\",\"black\",\"black\",\"black\",\"black\",\"black\",\"black\",\"black\",\"black\",\"black\",\"black\",\"black\",\"black\",\"black\",\"black\",\"black\",\"black\",\"black\",\"black\",\"black\",\"black\",\"black\",\"black\",\"black\",\"black\",\"black\",\"black\",\"black\",\"black\",\"black\",\"black\",\"black\",\"black\",\"black\",\"black\",\"black\",\"black\",\"black\",\"black\",\"black\",\"black\",\"black\",\"black\",\"black\",\"black\",\"black\",\"black\",\"black\",\"black\",\"black\",\"black\",\"black\",\"black\",\"black\",\"black\",\"black\",\"black\",\"black\",\"black\",\"black\",\"black\",\"black\",\"black\",\"black\",\"black\",\"black\",\"black\",\"black\",\"black\",\"black\",\"black\",\"black\",\"black\",\"black\",\"black\",\"black\",\"black\",\"black\",\"black\",\"black\",\"black\",\"black\",\"black\",\"black\",\"black\",\"black\",\"black\",\"black\",\"black\",\"black\",\"black\",\"black\",\"black\",\"black\",\"black\",\"black\",\"black\",\"black\",\"black\",\"black\",\"black\",\"black\",\"black\",\"black\",\"black\",\"black\",\"black\",\"black\",\"black\",\"black\",\"black\",\"black\",\"black\",\"black\",\"black\",\"black\",\"black\",\"black\",\"black\",\"black\",\"black\",\"black\",\"black\",\"black\",\"black\",\"black\",\"black\",\"black\",\"black\",\"black\",\"black\",\"black\",\"black\",\"black\",\"black\",\"black\",\"black\",\"black\",\"black\",\"black\",\"black\",\"black\",\"black\",\"black\",\"black\",\"black\",\"black\",\"black\",\"black\",\"black\",\"black\",\"black\",\"black\",\"black\",\"black\",\"black\",\"black\",\"black\",\"black\",\"black\",\"black\",\"black\",\"black\",\"black\",\"black\",\"black\",\"black\",\"black\",\"black\",\"black\",\"black\",\"black\",\"black\",\"black\",\"black\",\"black\",\"black\",\"black\",\"black\",\"black\",\"black\",\"black\",\"black\",\"black\",\"black\",\"black\",\"black\",\"black\",\"black\",\"black\",\"black\",\"black\",\"black\",\"black\",\"black\",\"black\",\"black\",\"black\",\"black\",\"black\",\"black\",\"black\",\"black\",\"black\",\"black\",\"black\",\"black\",\"black\",\"black\",\"black\",\"black\",\"black\",\"black\",\"black\",\"black\",\"black\",\"black\",\"black\",\"black\",\"black\",\"black\",\"black\",\"black\",\"black\",\"black\",\"black\",\"black\",\"black\",\"black\",\"black\",\"black\",\"black\",\"black\",\"black\",\"black\",\"black\",\"black\",\"black\",\"black\",\"black\",\"black\",\"black\",\"black\",\"black\",\"black\",\"black\",\"black\",\"black\",\"black\",\"black\",\"black\",\"black\",\"black\",\"black\",\"black\",\"black\",\"black\",\"black\",\"black\",\"black\",\"black\",\"black\",\"black\",\"black\",\"black\",\"black\",\"black\",\"black\",\"black\",\"black\",\"black\",\"black\",\"black\",\"black\",\"black\",\"black\",\"black\",\"black\",\"black\",\"black\",\"black\",\"black\",\"black\",\"black\",\"black\",\"black\",\"black\",\"black\",\"black\",\"black\",\"black\",\"black\",\"black\",\"black\",\"black\",\"black\",\"black\",\"black\",\"black\",\"black\",\"black\",\"black\",\"black\",\"black\",\"black\",\"black\",\"black\",\"black\",\"black\",\"black\",\"black\",\"black\",\"black\",\"black\",\"black\",\"black\",\"black\",\"black\",\"black\",\"black\",\"black\",\"black\",\"black\",\"black\",\"black\",\"black\",\"black\",\"black\",\"black\",\"black\",\"black\",\"black\",\"black\",\"black\",\"black\",\"black\",\"black\",\"black\",\"black\",\"black\",\"black\",\"black\",\"black\",\"black\",\"black\",\"black\",\"black\",\"black\",\"black\",\"black\",\"black\",\"black\",\"black\",\"black\",\"black\",\"black\",\"black\",\"black\",\"black\",\"black\",\"black\",\"black\",\"black\",\"black\",\"black\",\"black\",\"black\",\"black\",\"black\",\"black\",\"black\",\"black\",\"black\",\"black\",\"black\",\"black\",\"black\",\"black\",\"black\",\"black\",\"black\",\"black\",\"black\",\"black\",\"black\",\"black\",\"black\",\"black\",\"black\",\"black\",\"black\",\"black\",\"black\",\"black\",\"black\",\"black\",\"black\",\"black\",\"black\",\"black\",\"black\",\"black\",\"black\",\"black\",\"black\",\"black\",\"black\",\"black\",\"black\",\"black\",\"black\",\"black\",\"black\",\"black\",\"black\",\"black\",\"black\",\"black\",\"black\",\"black\",\"black\",\"black\",\"black\",\"black\",\"black\",\"black\",\"black\",\"black\",\"black\",\"black\",\"black\",\"black\",\"black\",\"black\",\"black\",\"black\",\"black\",\"black\",\"black\",\"black\",\"black\",\"black\",\"black\",\"black\",\"black\",\"black\",\"black\",\"black\",\"black\",\"black\",\"black\",\"black\",\"black\",\"black\",\"black\",\"black\",\"black\",\"black\",\"black\",\"black\",\"black\",\"black\",\"black\",\"black\",\"black\",\"black\",\"black\",\"black\",\"black\",\"black\",\"black\",\"black\",\"black\",\"black\",\"black\",\"black\",\"black\",\"black\",\"black\",\"black\",\"black\",\"black\",\"black\",\"black\",\"black\",\"black\",\"black\",\"black\",\"black\",\"black\",\"black\",\"black\",\"black\",\"black\",\"black\",\"black\",\"black\",\"black\",\"black\",\"black\",\"black\",\"black\",\"black\",\"black\",\"black\",\"black\",\"black\",\"black\",\"black\",\"black\",\"black\",\"black\",\"black\",\"black\",\"black\",\"black\",\"black\",\"black\",\"black\",\"black\",\"black\",\"black\",\"black\",\"black\",\"black\",\"black\",\"black\",\"black\",\"black\",\"black\",\"black\",\"black\",\"black\",\"black\",\"black\",\"black\",\"black\",\"black\",\"black\",\"black\",\"black\",\"black\",\"black\",\"black\",\"black\",\"black\",\"black\",\"black\",\"black\",\"black\",\"black\",\"black\",\"black\",\"black\",\"black\",\"black\",\"black\",\"black\",\"black\",\"black\",\"black\",\"black\",\"black\",\"black\",\"black\",\"black\",\"black\",\"black\",\"black\",\"black\",\"black\",\"black\",\"black\",\"black\",\"black\",\"black\",\"black\",\"black\",\"black\",\"black\",\"black\",\"black\",\"black\",\"black\",\"black\",\"black\",\"black\",\"black\",\"black\",\"black\",\"black\",\"black\",\"black\",\"black\",\"black\",\"black\",\"black\",\"black\",\"black\",\"black\",\"black\",\"black\",\"black\",\"black\",\"black\",\"black\",\"black\",\"black\",\"black\",\"black\",\"black\",\"black\",\"black\",\"black\",\"black\",\"black\",\"black\",\"black\",\"black\",\"black\",\"black\",\"black\",\"black\",\"black\",\"black\",\"black\",\"black\",\"black\",\"black\",\"black\",\"black\",\"black\",\"black\",\"black\",\"black\",\"black\",\"black\",\"black\",\"black\",\"black\",\"black\",\"black\",\"black\",\"black\",\"black\",\"black\",\"black\",\"black\",\"black\",\"black\",\"black\",\"black\",\"black\",\"black\",\"black\",\"black\",\"black\",\"black\",\"black\",\"black\",\"black\",\"black\",\"black\",\"black\",\"black\",\"black\",\"black\",\"black\",\"black\",\"black\",\"black\",\"black\",\"black\",\"black\",\"black\",\"black\",\"black\",\"black\",\"black\",\"black\",\"black\",\"black\",\"black\",\"black\",\"black\",\"black\",\"black\",\"black\",\"black\",\"black\",\"black\",\"black\",\"black\",\"black\",\"black\",\"black\",\"black\",\"black\",\"black\",\"black\",\"black\",\"black\",\"black\",\"black\",\"black\",\"black\",\"black\"],\"xs\":[[135758116,135758116],[135764872,135764872],[135774755,135774755],[135775494,135775494],[135776327,135776327],[135777869,135777869],[135781101,135781101],[135781252,135781252],[135782759,135782759],[135783420,135783420],[135787985,135787985],[135790070,135790070],[135793760,135793760],[135799014,135799014],[135800795,135800795],[135805654,135805654],[135808694,135808694],[135812771,135812771],[135812825,135812825],[135813705,135813705],[135815831,135815831],[135818793,135818793],[135832899,135832899],[135837465,135837465],[135837543,135837543],[135839638,135839638],[135847135,135847135],[135857305,135857305],[135858349,135858349],[135860555,135860555],[135861296,135861296],[135862348,135862348],[135875874,135875874],[135878409,135878409],[135886064,135886064],[135886511,135886511],[135893003,135893003],[135899867,135899867],[135902413,135902413],[135915001,135915001],[135921274,135921274],[135929516,135929516],[135936814,135936814],[135936893,135936893],[135941182,135941182],[135942100,135942100],[135945881,135945881],[135945882,135945882],[135948333,135948333],[135950574,135950574],[135952848,135952848],[135959976,135959976],[135963590,135963590],[135980957,135980957],[135984921,135984921],[135990422,135990422],[135999142,135999142],[136000471,136000471],[136012286,136012286],[136015195,136015195],[136016019,136016019],[136031999,136031999],[136036639,136036639],[136037183,136037183],[136037842,136037842],[136038931,136038931],[136041040,136041040],[136042152,136042152],[136046084,136046084],[136046790,136046790],[136046899,136046899],[136050147,136050147],[136054642,136054642],[136057299,136057299],[136058917,136058917],[136060219,136060219],[136064616,136064616],[136067835,136067835],[136068973,136068973],[136069584,136069584],[136080116,136080116],[136082202,136082202],[136082287,136082287],[136082773,136082773],[136083563,136083563],[136085266,136085266],[136086355,136086355],[136087219,136087219],[136092632,136092632],[136097002,136097002],[136097738,136097738],[136099233,136099233],[136099268,136099268],[136099313,136099313],[136099392,136099392],[136099600,136099600],[136101998,136101998],[136102318,136102318],[136103641,136103641],[136104751,136104751],[136105231,136105231],[136110600,136110600],[136141614,136141614],[136155741,136155741],[136167542,136167542],[136167734,136167734],[136173522,136173522],[136200928,136200928],[136208960,136208960],[136212354,136212354],[136214632,136214632],[136224764,136224764],[136238787,136238787],[136245577,136245577],[136249387,136249387],[136287142,136287142],[136300240,136300240],[136315915,136315915],[136323839,136323839],[136325806,136325806],[136351404,136351404],[136374709,136374709],[136383408,136383408],[136395527,136395527],[136443777,136443777],[136452973,136452973],[136458553,136458553],[136483234,136483234],[136489698,136489698],[136499415,136499415],[136502673,136502673],[136512583,136512583],[136530739,136530739],[136535726,136535726],[136541009,136541009],[136553668,136553668],[136553741,136553741],[136575300,136575300],[136579208,136579208],[136589342,136589342],[136594439,136594439],[136598051,136598051],[136598747,136598747],[136618810,136618810],[136637332,136637332],[136650058,136650058],[136780494,136780494],[135758231,135758231],[135758520,135758520],[135766072,135766072],[135773420,135773420],[135773446,135773446],[135773617,135773617],[135773692,135773692],[135774681,135774681],[135775049,135775049],[135776430,135776430],[135778656,135778656],[135780168,135780168],[135780587,135780587],[135781301,135781301],[135781522,135781522],[135781635,135781635],[135782456,135782456],[135783157,135783157],[135783366,135783366],[135783367,135783367],[135784227,135784227],[135784733,135784733],[135785066,135785066],[135785068,135785068],[135785149,135785149],[135787148,135787148],[135787642,135787642],[135789405,135789405],[135789472,135789472],[135789682,135789682],[135789784,135789784],[135792338,135792338],[135792528,135792528],[135793565,135793565],[135793684,135793684],[135793845,135793845],[135794367,135794367],[135794986,135794986],[135795040,135795040],[135795095,135795095],[135795150,135795150],[135795385,135795385],[135795396,135795396],[135795443,135795443],[135795595,135795595],[135796000,135796000],[135796155,135796155],[135796410,135796410],[135796965,135796965],[135797223,135797223],[135797747,135797747],[135798082,135798082],[135798758,135798758],[135799082,135799082],[135800085,135800085],[135800601,135800601],[135800757,135800757],[135801228,135801228],[135801956,135801956],[135802020,135802020],[135802028,135802028],[135802050,135802050],[135802148,135802148],[135803766,135803766],[135809241,135809241],[135812969,135812969],[135814716,135814716],[135818907,135818907],[135829432,135829432],[135832131,135832131],[135849613,135849613],[135853807,135853807],[135859923,135859923],[135860305,135860305],[135861497,135861497],[135863143,135863143],[135864294,135864294],[135871624,135871624],[135872646,135872646],[135874038,135874038],[135874622,135874622],[135878814,135878814],[135880013,135880013],[135884487,135884487],[135885357,135885357],[135893853,135893853],[135895809,135895809],[135895879,135895879],[135899069,135899069],[135909462,135909462],[135912977,135912977],[135914038,135914038],[135921839,135921839],[135925002,135925002],[135928312,135928312],[135935049,135935049],[135962711,135962711],[135984172,135984172],[135994753,135994753],[135994754,135994754],[136016079,136016079],[136027264,136027264],[136052004,136052004],[136100473,136100473],[136110129,136110129],[136166536,136166536],[136169799,136169799],[136191314,136191314],[136228887,136228887],[136238453,136238453],[136288273,136288273],[136292425,136292425],[136321951,136321951],[136324564,136324564],[136327299,136327299],[136327302,136327302],[136376515,136376515],[135766890,135766890],[135778708,135778708],[135779588,135779588],[135805941,135805941],[135805943,135805943],[135932720,135932720],[135933317,135933317],[135934842,135934842],[135952376,135952376],[135958853,135958853],[135962864,135962864],[135963304,135963304],[135965376,135965376],[135980201,135980201],[135981554,135981554],[135988127,135988127],[135988416,135988416],[135991470,135991470],[136000500,136000500],[136001215,136001215],[136001295,136001295],[136016514,136016514],[136017388,136017388],[136041102,136041102],[136041662,136041662],[136047387,136047387],[136052936,136052936],[136055275,136055275],[136063118,136063118],[136066802,136066802],[136068890,136068890],[136069577,136069577],[136081193,136081193],[136105193,136105193],[136107839,136107839],[136110835,136110835],[136138026,136138026],[136142092,136142092],[136146499,136146499],[136147607,136147607],[136148401,136148401],[136150512,136150512],[136154734,136154734],[136155805,136155805],[136163001,136163001],[136163266,136163266],[136163568,136163568],[136163821,136163821],[136165965,136165965],[136183312,136183312],[136185945,136185945],[136191729,136191729],[136204827,136204827],[136208747,136208747],[136217980,136217980],[136229438,136229438],[136232572,136232572],[136240942,136240942],[136251329,136251329],[136265187,136265187],[136265188,136265188],[136275985,136275985],[135784351,135784351],[135829309,135829309],[135835508,135835508],[135861297,135861297],[135863459,135863459],[135873845,135873845],[135902172,135902172],[135902220,135902220],[135795222,135795222],[135920091,135920091],[136117271,136117271],[136122102,136122102],[136129859,136129859],[136135294,136135294],[136135451,136135451],[136144548,136144548],[136149219,136149219],[136152962,136152962],[136158473,136158473],[136160769,136160769],[136163389,136163389],[136164606,136164606],[136165624,136165624],[136165766,136165766],[136167030,136167030],[136170213,136170213],[136170889,136170889],[136170934,136170934],[136172028,136172028],[136175128,136175128],[136176923,136176923],[136180106,136180106],[136184333,136184333],[136188849,136188849],[136189408,136189408],[136189428,136189428],[136193318,136193318],[136196359,136196359],[136202820,136202820],[136203439,136203439],[136207999,136207999],[136213991,136213991],[136215173,136215173],[136220995,136220995],[136221233,136221233],[136223360,136223360],[136231459,136231459],[136233507,136233507],[136245723,136245723],[136246135,136246135],[136246877,136246877],[136251413,136251413],[136251832,136251832],[136252477,136252477],[136254415,136254415],[136255986,136255986],[136256216,136256216],[136256806,136256806],[136264344,136264344],[136269048,136269048],[136271210,136271210],[136276688,136276688],[136277343,136277343],[136286021,136286021],[136303450,136303450],[136317535,136317535],[136319030,136319030],[136326192,136326192],[136330558,136330558],[136332552,136332552],[136334724,136334724],[136337506,136337506],[136351111,136351111],[136351470,136351470],[136382700,136382700],[135810535,135810535],[135817760,135817760],[135857538,135857538],[135862191,135862191],[135869380,135869380],[135869761,135869761],[135886486,135886486],[135888078,135888078],[135898023,135898023],[135933921,135933921],[135939824,135939824],[135941503,135941503],[135943900,135943900],[135945474,135945474],[135949715,135949715],[135956745,135956745],[135958693,135958693],[135967778,135967778],[135972093,135972093],[135973768,135973768],[135976498,135976498],[135978428,135978428],[135990031,135990031],[135992481,135992481],[135993925,135993925],[135994838,135994838],[136000253,136000253],[136003567,136003567],[136005477,136005477],[136005971,136005971],[136020977,136020977],[136027535,136027535],[136031588,136031588],[136032905,136032905],[136042480,136042480],[136043885,136043885],[136050471,136050471],[136052898,136052898],[136054815,136054815],[136056285,136056285],[136061560,136061560],[136063685,136063685],[136069060,136069060],[136072179,136072179],[136074233,136074233],[136080721,136080721],[136080822,136080822],[136088440,136088440],[136088643,136088643],[136092416,136092416],[136092869,136092869],[136094615,136094615],[136095505,136095505],[136095604,136095604],[136096766,136096766],[136097091,136097091],[136097394,136097394],[136100243,136100243],[136101823,136101823],[136106561,136106561],[136115501,136115501],[136122622,136122622],[136123014,136123014],[136123848,136123848],[136127100,136127100],[136127950,136127950],[136128630,136128630],[136129630,136129630],[136129791,136129791],[136131324,136131324],[136135383,136135383],[136135994,136135994],[136136224,136136224],[136136366,136136366],[136136440,136136440],[136138145,136138145],[136140568,136140568],[136145882,136145882],[136147948,136147948],[136148630,136148630],[136151485,136151485],[136152802,136152802],[136156753,136156753],[136157913,136157913],[136160902,136160902],[136165765,136165765],[136171649,136171649],[136173220,136173220],[136173735,136173735],[136174552,136174552],[136175692,136175692],[136176805,136176805],[136182484,136182484],[136183188,136183188],[136187252,136187252],[136187345,136187345],[136189475,136189475],[136197702,136197702],[136198435,136198435],[136202937,136202937],[136219999,136219999],[136221500,136221500],[136226626,136226626],[136228929,136228929],[136229598,136229598],[136238270,136238270],[136238346,136238346],[136240769,136240769],[136244171,136244171],[136249245,136249245],[136250285,136250285],[136254419,136254419],[136266241,136266241],[136267808,136267808],[136272074,136272074],[136277304,136277304],[136290607,136290607],[136290663,136290663],[136291310,136291310],[136296051,136296051],[136305392,136305392],[136306890,136306890],[136310803,136310803],[136324225,136324225],[136324465,136324465],[136327305,136327305],[136329618,136329618],[136333300,136333300],[136350089,136350089],[136354204,136354204],[136360455,136360455],[136368563,136368563],[135946660,135946660],[135948297,135948297],[135982812,135982812],[136068800,136068800],[136103328,136103328],[136025256,136025256],[136123124,136123124],[136319876,136319876],[136368758,136368758],[136404840,136404840],[136513291,136513291],[136309239,136309239],[136322472,136322472],[136323787,136323787],[136323862,136323862],[136326765,136326765],[136329500,136329500],[136331657,136331657],[136345356,136345356],[136361560,136361560],[136364916,136364916],[136369497,136369497],[136369580,136369580],[136380846,136380846],[136387893,136387893],[136392700,136392700],[136400692,136400692],[136408881,136408881],[136409096,136409096],[136413099,136413099],[136413116,136413116],[136413618,136413618],[136417468,136417468],[136421589,136421589],[136425362,136425362],[136430479,136430479],[136439871,136439871],[136442318,136442318],[136444284,136444284],[136444985,136444985],[136445838,136445838],[136446249,136446249],[136447867,136447867],[136449090,136449090],[136449671,136449671],[136451724,136451724],[136452322,136452322],[136459565,136459565],[136460977,136460977],[136462831,136462831],[136464615,136464615],[136464818,136464818],[136464885,136464885],[136465856,136465856],[136467164,136467164],[136483721,136483721],[136485246,136485246],[136485657,136485657],[136493550,136493550],[136500338,136500338],[136500597,136500597],[136502199,136502199],[136506995,136506995],[136507804,136507804],[136509222,136509222],[136510091,136510091],[136512545,136512545],[136517471,136517471],[136522377,136522377],[136523696,136523696],[136523874,136523874],[136526324,136526324],[136528006,136528006],[136529000,136529000],[136533161,136533161],[136539413,136539413],[136548116,136548116],[136548169,136548169],[136548192,136548192],[136550806,136550806],[136506375,136506375],[136506927,136506927],[136510012,136510012],[136538939,136538939],[136535876,136535876],[136544651,136544651],[136545844,136545844],[136552526,136552526],[136553022,136553022],[136554797,136554797],[136554890,136554890],[136562716,136562716],[136569317,136569317],[136576425,136576425],[136576579,136576579],[136584376,136584376],[136584714,136584714],[136588031,136588031],[136589278,136589278],[136589379,136589379],[136589741,136589741],[136590746,136590746],[136593553,136593553],[136593678,136593678],[136589521,136589521],[136590781,136590781],[136591977,136591977],[136592979,136592979],[136593065,136593065],[136593066,136593066],[136593077,136593077],[136593079,136593079],[136593136,136593136],[136593809,136593809],[136596836,136596836],[136619277,136619277],[136622982,136622982],[136631545,136631545],[136634340,136634340],[136638199,136638199],[136642012,136642012],[136602291,136602291],[136607932,136607932],[136616036,136616036],[136617917,136617917],[136619615,136619615],[136627507,136627507],[136629987,136629987],[136603638,136603638],[136603690,136603690],[136604210,136604210],[136604345,136604345],[136604346,136604346],[136605111,136605111],[136612598,136612598],[136614955,136614955],[136619114,136619114],[136619213,136619213],[136623900,136623900],[136624123,136624123],[136624155,136624155],[136630170,136630170],[136631415,136631415],[136632125,136632125],[136647933,136647933],[136655689,136655689],[136657637,136657637],[136663256,136663256],[136666506,136666506],[136666582,136666582],[136667613,136667613],[136671323,136671323],[136675659,136675659],[136678378,136678378],[136653925,136653925],[136654833,136654833],[136656534,136656534],[136656536,136656536],[136657252,136657252],[136667301,136667301],[136667487,136667487],[136672775,136672775],[136680534,136680534],[136686393,136686393],[136688749,136688749],[136692553,136692553],[136697371,136697371],[136708787,136708787],[136710372,136710372],[136711064,136711064],[136715324,136715324],[136723504,136723504],[136737460,136737460],[136743143,136743143],[136746224,136746224],[136751842,136751842],[136759379,136759379],[136761853,136761853],[136658314,136658314],[136666754,136666754],[136669669,136669669],[136672644,136672644],[136675208,136675208],[136684682,136684682],[136688413,136688413],[136690953,136690953],[136692117,136692117],[136695738,136695738],[136697615,136697615],[136698313,136698313],[136699797,136699797],[136710115,136710115],[136711135,136711135],[136711321,136711321],[136711876,136711876],[136714857,136714857],[136716470,136716470],[136717236,136717236],[136719791,136719791],[136720886,136720886],[136723661,136723661],[136732776,136732776],[136733012,136733012],[136733929,136733929],[136740076,136740076],[136741512,136741512],[136743399,136743399],[136749567,136749567],[136757113,136757113],[136763526,136763526],[136765458,136765458],[136696010,136696010],[136696794,136696794],[136700762,136700762],[136703387,136703387],[136708405,136708405],[136708737,136708737],[136710616,136710616],[136715715,136715715],[136716781,136716781],[136731550,136731550],[136735482,136735482],[136736120,136736120],[136738235,136738235],[136739038,136739038],[136743138,136743138],[136744366,136744366],[136754269,136754269],[136764564,136764564],[136704466,136704466],[136714792,136714792],[136724974,136724974],[136725890,136725890],[136732214,136732214]],\"ys\":[[150,163],[150,163],[150,163],[150,163],[150,163],[150,163],[150,163],[150,163],[150,163],[150,163],[150,163],[150,163],[150,163],[150,163],[150,163],[150,163],[150,163],[150,163],[150,163],[150,163],[150,163],[150,163],[150,163],[150,163],[150,163],[150,163],[150,163],[150,163],[150,163],[150,163],[150,163],[150,163],[150,163],[150,163],[150,163],[150,163],[150,163],[150,163],[150,163],[150,163],[150,163],[150,163],[150,163],[150,163],[150,163],[150,163],[150,163],[150,163],[150,163],[150,163],[150,163],[150,163],[150,163],[150,163],[150,163],[150,163],[150,163],[150,163],[150,163],[150,163],[150,163],[150,163],[150,163],[150,163],[150,163],[150,163],[150,163],[150,163],[150,163],[150,163],[150,163],[150,163],[150,163],[150,163],[150,163],[150,163],[150,163],[150,163],[150,163],[150,163],[150,163],[150,163],[150,163],[150,163],[150,163],[150,163],[150,163],[150,163],[150,163],[150,163],[150,163],[150,163],[150,163],[150,163],[150,163],[150,163],[150,163],[150,163],[150,163],[150,163],[150,163],[150,163],[150,163],[150,163],[150,163],[150,163],[150,163],[150,163],[150,163],[150,163],[150,163],[150,163],[150,163],[150,163],[150,163],[150,163],[150,163],[150,163],[150,163],[150,163],[150,163],[150,163],[150,163],[150,163],[150,163],[150,163],[150,163],[150,163],[150,163],[150,163],[150,163],[150,163],[150,163],[150,163],[150,163],[150,163],[150,163],[150,163],[150,163],[150,163],[150,163],[150,163],[150,163],[150,163],[150,163],[150,163],[150,163],[1050,1096],[1050,1096],[1050,1096],[1050,1096],[1050,1096],[1050,1096],[1050,1096],[1050,1096],[1050,1096],[1050,1096],[1050,1096],[1050,1096],[1050,1096],[1050,1096],[1050,1096],[1050,1096],[1050,1096],[1050,1096],[1050,1096],[1050,1096],[1050,1096],[1050,1096],[1050,1096],[1050,1096],[1050,1096],[1050,1096],[1050,1096],[1050,1096],[1050,1096],[1050,1096],[1050,1096],[1050,1096],[1050,1096],[1050,1096],[1050,1096],[1050,1096],[1050,1096],[1050,1096],[1050,1096],[1050,1096],[1050,1096],[1050,1096],[1050,1096],[1050,1096],[1050,1096],[1050,1096],[1050,1096],[1050,1096],[1050,1096],[1050,1096],[1050,1096],[1050,1096],[1050,1096],[1050,1096],[1050,1096],[1050,1096],[1050,1096],[1050,1096],[1050,1096],[1050,1096],[1050,1096],[1050,1096],[1050,1096],[1050,1096],[1050,1096],[1050,1096],[1050,1096],[1050,1096],[1050,1096],[1050,1096],[1050,1096],[1050,1096],[1050,1096],[1050,1096],[1050,1096],[1050,1096],[1050,1096],[1050,1096],[1050,1096],[1050,1096],[1050,1096],[1050,1096],[1050,1096],[1050,1096],[1050,1096],[1050,1096],[1050,1096],[1050,1096],[1050,1096],[1050,1096],[1050,1096],[1050,1096],[1050,1096],[1050,1096],[1050,1096],[1050,1096],[1050,1096],[1050,1096],[1050,1096],[1050,1096],[1050,1096],[1050,1096],[1050,1096],[1050,1096],[1050,1096],[1050,1096],[1050,1096],[1050,1096],[1050,1096],[1050,1096],[1050,1096],[1050,1096],[1050,1096],[1050,1096],[1050,1096],[1050,1096],[1050,1096],[850,893],[850,893],[850,893],[850,893],[850,893],[850,893],[850,893],[850,893],[850,893],[850,893],[850,893],[850,893],[850,893],[850,893],[850,893],[850,893],[850,893],[850,893],[850,893],[850,893],[850,893],[850,893],[850,893],[850,893],[850,893],[850,893],[850,893],[850,893],[850,893],[850,893],[850,893],[850,893],[850,893],[850,893],[850,893],[850,893],[850,893],[850,893],[850,893],[850,893],[850,893],[850,893],[850,893],[850,893],[850,893],[850,893],[850,893],[850,893],[850,893],[850,893],[850,893],[850,893],[850,893],[850,893],[850,893],[850,893],[850,893],[850,893],[850,893],[850,893],[850,893],[850,893],[750,788],[750,788],[750,788],[750,788],[750,788],[750,788],[750,788],[750,788],[550,582],[550,582],[550,582],[550,582],[550,582],[550,582],[550,582],[550,582],[550,582],[550,582],[550,582],[550,582],[550,582],[550,582],[550,582],[550,582],[550,582],[550,582],[550,582],[550,582],[550,582],[550,582],[550,582],[550,582],[550,582],[550,582],[550,582],[550,582],[550,582],[550,582],[550,582],[550,582],[550,582],[550,582],[550,582],[550,582],[550,582],[550,582],[550,582],[550,582],[550,582],[550,582],[550,582],[550,582],[550,582],[550,582],[550,582],[550,582],[550,582],[550,582],[550,582],[550,582],[550,582],[550,582],[550,582],[550,582],[550,582],[550,582],[550,582],[550,582],[550,582],[550,582],[550,582],[550,582],[550,582],[550,582],[550,582],[650,686],[650,686],[650,686],[650,686],[650,686],[650,686],[650,686],[650,686],[650,686],[950,995],[950,995],[950,995],[950,995],[950,995],[950,995],[950,995],[950,995],[950,995],[950,995],[950,995],[950,995],[950,995],[950,995],[950,995],[950,995],[950,995],[950,995],[950,995],[950,995],[950,995],[950,995],[950,995],[950,995],[950,995],[950,995],[950,995],[950,995],[950,995],[950,995],[950,995],[950,995],[950,995],[950,995],[950,995],[950,995],[950,995],[950,995],[950,995],[950,995],[950,995],[950,995],[950,995],[950,995],[950,995],[950,995],[950,995],[950,995],[950,995],[950,995],[950,995],[950,995],[950,995],[950,995],[950,995],[950,995],[950,995],[950,995],[950,995],[950,995],[950,995],[950,995],[950,995],[950,995],[950,995],[950,995],[950,995],[950,995],[950,995],[950,995],[950,995],[950,995],[950,995],[950,995],[950,995],[950,995],[950,995],[950,995],[950,995],[950,995],[950,995],[950,995],[950,995],[950,995],[950,995],[950,995],[950,995],[950,995],[950,995],[950,995],[950,995],[950,995],[950,995],[950,995],[950,995],[950,995],[950,995],[950,995],[950,995],[950,995],[950,995],[950,995],[950,995],[950,995],[950,995],[950,995],[950,995],[950,995],[950,995],[950,995],[950,995],[950,995],[950,995],[950,995],[950,995],[950,995],[950,995],[950,995],[950,995],[950,995],[950,995],[950,995],[950,995],[350,371],[350,371],[350,371],[350,371],[350,371],[50,62],[50,62],[50,62],[50,62],[50,62],[50,62],[850,890],[850,890],[850,890],[850,890],[850,890],[850,890],[850,890],[850,890],[850,890],[750,787],[750,787],[750,787],[750,787],[750,787],[450,476],[450,476],[450,476],[450,476],[450,476],[450,476],[450,476],[450,476],[450,476],[450,476],[450,476],[450,476],[450,476],[450,476],[450,476],[450,476],[450,476],[450,476],[450,476],[450,476],[450,476],[450,476],[450,476],[450,476],[450,476],[450,476],[450,476],[450,476],[450,476],[450,476],[450,476],[450,476],[450,476],[450,476],[450,476],[450,476],[450,476],[450,476],[450,476],[450,476],[450,476],[450,476],[450,476],[450,476],[450,476],[450,476],[450,476],[450,476],[450,476],[450,476],[450,476],[450,476],[450,476],[450,476],[450,476],[950,994],[950,994],[950,994],[950,994],[850,894],[850,894],[850,894],[850,894],[850,894],[850,894],[850,894],[350,373],[350,373],[350,373],[350,373],[350,373],[350,373],[1050,1096],[1050,1096],[1050,1096],[1050,1096],[1050,1096],[1050,1096],[1050,1096],[450,473],[450,473],[450,473],[450,473],[450,473],[450,473],[450,473],[450,473],[450,473],[450,473],[450,473],[450,473],[450,473],[450,473],[450,473],[450,473],[450,473],[550,578],[550,578],[550,578],[550,578],[550,578],[550,578],[550,578],[650,685],[650,685],[650,685],[650,685],[650,685],[650,685],[650,685],[650,685],[650,685],[650,685],[650,685],[650,685],[650,685],[650,685],[650,685],[650,685],[350,364],[350,364],[350,364],[350,364],[350,364],[350,364],[350,364],[350,364],[350,364],[350,364],[950,995],[950,995],[950,995],[950,995],[950,995],[950,995],[950,995],[950,995],[950,995],[950,995],[950,995],[950,995],[950,995],[950,995],[950,995],[950,995],[950,995],[950,995],[950,995],[950,995],[950,995],[950,995],[950,995],[950,995],[250,263],[250,263],[250,263],[250,263],[250,263],[250,263],[250,263],[250,263],[250,263],[250,263],[250,263],[250,263],[250,263],[250,263],[250,263],[250,263],[250,263],[250,263],[250,263],[250,263],[250,263],[250,263],[250,263],[250,263],[250,263],[250,263],[250,263],[250,263],[250,263],[250,263],[250,263],[250,263],[250,263],[450,476],[450,476],[450,476],[450,476],[450,476],[450,476],[450,476],[450,476],[450,476],[450,476],[450,476],[450,476],[450,476],[450,476],[450,476],[450,476],[450,476],[450,476],[550,578],[550,578],[550,578],[550,578],[550,578]]}},\"id\":\"19fca418-970f-4ce8-b9f8-2bc87da78c39\",\"type\":\"ColumnDataSource\"},{\"attributes\":{\"data_source\":{\"id\":\"04490925-b880-4c03-a731-709c6f9e8fd7\",\"type\":\"ColumnDataSource\"},\"glyph\":{\"id\":\"ca703d60-2731-4800-b2ce-7053e9250140\",\"type\":\"Quad\"},\"hover_glyph\":null,\"nonselection_glyph\":{\"id\":\"b0311e10-8e5d-46ed-a11e-699b27b52744\",\"type\":\"Quad\"},\"selection_glyph\":null},\"id\":\"3b47a6dc-cba1-4e00-8615-160fbaedfbd6\",\"type\":\"GlyphRenderer\"},{\"attributes\":{\"callback\":null,\"column_names\":[\"right\",\"bottom\",\"top\",\"left\"],\"data\":{\"bottom\":[1145,1145,1145,1145,1145,1145,1145],\"left\":[135809835,135957574,136289083,136499189,136545415,136597196,136664254],\"right\":[135928279,136288182,136482839,136542633,136594750,136634047,136743222],\"top\":[1175,1175,1175,1175,1175,1175,1175]}},\"id\":\"04490925-b880-4c03-a731-709c6f9e8fd7\",\"type\":\"ColumnDataSource\"},{\"attributes\":{\"bottom\":{\"field\":\"bottom\"},\"fill_alpha\":{\"value\":0.1},\"fill_color\":{\"value\":\"#1f77b4\"},\"left\":{\"field\":\"left\"},\"line_alpha\":{\"value\":0.1},\"line_color\":{\"value\":\"#1f77b4\"},\"right\":{\"field\":\"right\"},\"top\":{\"field\":\"top\"}},\"id\":\"b0311e10-8e5d-46ed-a11e-699b27b52744\",\"type\":\"Quad\"},{\"attributes\":{},\"id\":\"41a1ab7d-5109-417c-9558-153f618d9d86\",\"type\":\"ToolEvents\"},{\"attributes\":{\"data_source\":{\"id\":\"19fca418-970f-4ce8-b9f8-2bc87da78c39\",\"type\":\"ColumnDataSource\"},\"glyph\":{\"id\":\"afe64b32-7252-4e83-bdf0-b563632af625\",\"type\":\"MultiLine\"},\"hover_glyph\":null,\"nonselection_glyph\":{\"id\":\"5dd1e4c6-656f-4cb1-858c-4911562cd386\",\"type\":\"MultiLine\"},\"selection_glyph\":null},\"id\":\"92136145-43de-4c67-8921-443eff14516b\",\"type\":\"GlyphRenderer\"},{\"attributes\":{\"callback\":null,\"end\":1200},\"id\":\"329629e4-ebcb-40c5-a299-49abbb382e0f\",\"type\":\"Range1d\"},{\"attributes\":{\"callback\":null,\"end\":136786630,\"start\":135757320},\"id\":\"99d8d64d-4a62-4873-a9db-4ee95829a8c4\",\"type\":\"Range1d\"},{\"attributes\":{\"bottom\":{\"field\":\"bottom\"},\"fill_alpha\":{\"value\":0.1},\"fill_color\":{\"value\":\"#1f77b4\"},\"left\":{\"field\":\"left\"},\"line_alpha\":{\"value\":0.1},\"line_color\":{\"value\":\"#1f77b4\"},\"right\":{\"field\":\"right\"},\"top\":{\"field\":\"top\"}},\"id\":\"7b7b3ec3-7809-449a-9305-dab1ea91c24e\",\"type\":\"Quad\"},{\"attributes\":{\"line_alpha\":{\"value\":0.1},\"line_color\":{\"value\":\"#1f77b4\"},\"xs\":{\"field\":\"xs\"},\"ys\":{\"field\":\"ys\"}},\"id\":\"5dd1e4c6-656f-4cb1-858c-4911562cd386\",\"type\":\"MultiLine\"},{\"attributes\":{\"bottom\":{\"field\":\"bottom\"},\"fill_color\":{\"value\":\"white\"},\"left\":{\"field\":\"left\"},\"right\":{\"field\":\"right\"},\"top\":{\"field\":\"top\"}},\"id\":\"ca703d60-2731-4800-b2ce-7053e9250140\",\"type\":\"Quad\"},{\"attributes\":{\"data_source\":{\"id\":\"e19bdcff-8869-46db-b388-9a57eae1f200\",\"type\":\"ColumnDataSource\"},\"glyph\":{\"id\":\"1797b9e5-2fc7-4a98-8b3d-db6c14a91889\",\"type\":\"Quad\"},\"hover_glyph\":null,\"nonselection_glyph\":{\"id\":\"7b7b3ec3-7809-449a-9305-dab1ea91c24e\",\"type\":\"Quad\"},\"selection_glyph\":null},\"id\":\"8d6a779c-ef55-4790-be99-bf96c0bcec99\",\"type\":\"GlyphRenderer\"},{\"attributes\":{\"plot\":{\"id\":\"dd0861ee-e1c0-47e8-ab0c-b8159bac0c02\",\"subtype\":\"Figure\",\"type\":\"Plot\"}},\"id\":\"f2dad492-539b-43d8-959c-43a381674a1b\",\"type\":\"PanTool\"},{\"attributes\":{\"plot\":{\"id\":\"dd0861ee-e1c0-47e8-ab0c-b8159bac0c02\",\"subtype\":\"Figure\",\"type\":\"Plot\"}},\"id\":\"ab521165-e816-4338-8852-c9e26abce40f\",\"type\":\"HelpTool\"},{\"attributes\":{},\"id\":\"61145c2f-9e28-4a0e-87bd-2fb66e9a499f\",\"type\":\"BasicTicker\"},{\"attributes\":{\"overlay\":{\"id\":\"d3466b61-e985-435d-864b-6c93d783817d\",\"type\":\"BoxAnnotation\"},\"plot\":{\"id\":\"dd0861ee-e1c0-47e8-ab0c-b8159bac0c02\",\"subtype\":\"Figure\",\"type\":\"Plot\"}},\"id\":\"3ba9839b-5ada-4c56-8797-c79233671b3b\",\"type\":\"BoxZoomTool\"},{\"attributes\":{\"bottom\":{\"field\":\"bottom\"},\"fill_color\":{\"field\":\"fill_color\"},\"left\":{\"field\":\"left\"},\"line_color\":{\"value\":null},\"right\":{\"field\":\"right\"},\"top\":{\"field\":\"top\"}},\"id\":\"1797b9e5-2fc7-4a98-8b3d-db6c14a91889\",\"type\":\"Quad\"},{\"attributes\":{},\"id\":\"46f69cc2-4aa5-40d6-aa3b-b541d37b561b\",\"type\":\"BasicTickFormatter\"},{\"attributes\":{\"dimension\":1,\"plot\":{\"id\":\"dd0861ee-e1c0-47e8-ab0c-b8159bac0c02\",\"subtype\":\"Figure\",\"type\":\"Plot\"},\"ticker\":{\"id\":\"61145c2f-9e28-4a0e-87bd-2fb66e9a499f\",\"type\":\"BasicTicker\"}},\"id\":\"7da05291-df28-4b55-ae82-efbe7c12726b\",\"type\":\"Grid\"}],\"root_ids\":[\"dd0861ee-e1c0-47e8-ab0c-b8159bac0c02\"]},\"title\":\"Bokeh Application\",\"version\":\"0.12.0\"}};\n",
       "            var render_items = [{\"docid\":\"dca2ebb9-5316-4b64-a595-0bc9ff5524aa\",\"elementid\":\"84c2f1fe-badb-48c0-92ec-a8b48c796900\",\"modelid\":\"dd0861ee-e1c0-47e8-ab0c-b8159bac0c02\",\"notebook_comms_target\":\"f4604ac0-9672-4f51-8152-8c426e823e00\"}];\n",
       "            \n",
       "            Bokeh.embed.embed_items(docs_json, render_items);\n",
       "        });\n",
       "      },\n",
       "      function(Bokeh) {\n",
       "      }\n",
       "    ];\n",
       "  \n",
       "    function run_inline_js() {\n",
       "      for (var i = 0; i < inline_js.length; i++) {\n",
       "        inline_js[i](window.Bokeh);\n",
       "      }\n",
       "    }\n",
       "  \n",
       "    if (window._bokeh_is_loading === 0) {\n",
       "      console.log(\"Bokeh: BokehJS loaded, going straight to plotting\");\n",
       "      run_inline_js();\n",
       "    } else {\n",
       "      load_libs(js_urls, function() {\n",
       "        console.log(\"Bokeh: BokehJS plotting callback run at\", now());\n",
       "        run_inline_js();\n",
       "      });\n",
       "    }\n",
       "  }(this));\n",
       "</script>"
      ]
     },
     "metadata": {},
     "output_type": "display_data"
    },
    {
     "data": {
      "text/html": [
       "<p><code>&lt;Bokeh Notebook handle for <strong>In[20]</strong>&gt;</code></p>"
      ],
      "text/plain": [
       "<bokeh.io._CommsHandle at 0x7f43e030b390>"
      ]
     },
     "execution_count": 20,
     "metadata": {},
     "output_type": "execute_result"
    }
   ],
   "source": [
    "di_6_32 = 353556\n",
    "plt_obj = dm.superset_yes_no([di_6_32], min_match=0.5)\n",
    "plt = plt_obj.do_plot()\n",
    "am_6_32 = plt_obj.plot_context.yes_allele_mask\n",
    "show(plt)"
   ]
  },
  {
   "cell_type": "code",
   "execution_count": 21,
   "metadata": {
    "collapsed": false
   },
   "outputs": [
    {
     "data": {
      "text/html": [
       "<table>\n",
       "<thead><tr><th style=\"text-align:center\">index</th><th style=\"text-align:center\">first</th><th style=\"text-align:center\">length</th><th style=\"text-align:center\">snps</th><th style=\"text-align:center\" colspan=2>alleles</th><th style=\"text-align:center\" colspan=2>matches</th><th style=\"text-align:center\" colspan=2>afr</th><th style=\"text-align:center\" colspan=2>afx</th><th style=\"text-align:center\" colspan=2>amr</th><th style=\"text-align:center\" colspan=2>eas</th><th style=\"text-align:center\" colspan=2>eur</th><th style=\"text-align:center\" colspan=2>sas</th><th style=\"text-align:center\" colspan=2>sax</th></tr></thead>\n",
       "<tr class=\"even\"><td style=\"text-align: right;\">354033</td><td style=\"text-align: right;\">136,588,031</td><td style=\"text-align: right;\">5,647</td><td style=\"text-align: right;\">7</td><td style=\"text-align: right;\">1760</td><td style=\"text-align: right;\">0.02</td><td style=\"text-align: right;\">32</td><td style=\"text-align: right;\">1.00</td><td style=\"text-align: right;\">27</td><td style=\"text-align: right;\">4.19</td><td style=\"text-align: right;\">5</td><td style=\"text-align: right;\">2.49</td><td style=\"text-align: right;\">0</td><td style=\"text-align: right;\">0.00</td><td style=\"text-align: right;\">0</td><td style=\"text-align: right;\">0.00</td><td style=\"text-align: right;\">0</td><td style=\"text-align: right;\">0.00</td><td style=\"text-align: right;\">0</td><td style=\"text-align: right;\">0.00</td><td style=\"text-align: right;\">0</td><td style=\"text-align: right;\">0.00</td></tr>\n",
       "<tr><td style=\"text-align: right;\">353244</td><td style=\"text-align: right;\">135,758,231</td><td style=\"text-align: right;\">618,284</td><td style=\"text-align: right;\">117</td><td style=\"text-align: right;\">1685</td><td style=\"text-align: right;\">0.02</td><td style=\"text-align: right;\">32</td><td style=\"text-align: right;\">1.00</td><td style=\"text-align: right;\">27</td><td style=\"text-align: right;\">4.19</td><td style=\"text-align: right;\">5</td><td style=\"text-align: right;\">2.49</td><td style=\"text-align: right;\">0</td><td style=\"text-align: right;\">0.00</td><td style=\"text-align: right;\">0</td><td style=\"text-align: right;\">0.00</td><td style=\"text-align: right;\">0</td><td style=\"text-align: right;\">0.00</td><td style=\"text-align: right;\">0</td><td style=\"text-align: right;\">0.00</td><td style=\"text-align: right;\">0</td><td style=\"text-align: right;\">0.00</td></tr>\n",
       "<tr class=\"even\"><td style=\"text-align: right;\">353478</td><td style=\"text-align: right;\">135,933,921</td><td style=\"text-align: right;\">434,642</td><td style=\"text-align: right;\">123</td><td style=\"text-align: right;\">1561</td><td style=\"text-align: right;\">0.02</td><td style=\"text-align: right;\">32</td><td style=\"text-align: right;\">1.00</td><td style=\"text-align: right;\">27</td><td style=\"text-align: right;\">4.19</td><td style=\"text-align: right;\">5</td><td style=\"text-align: right;\">2.49</td><td style=\"text-align: right;\">0</td><td style=\"text-align: right;\">0.00</td><td style=\"text-align: right;\">0</td><td style=\"text-align: right;\">0.00</td><td style=\"text-align: right;\">0</td><td style=\"text-align: right;\">0.00</td><td style=\"text-align: right;\">0</td><td style=\"text-align: right;\">0.00</td><td style=\"text-align: right;\">0</td><td style=\"text-align: right;\">0.00</td></tr>\n",
       "<tr><td style=\"text-align: right;\">354130</td><td style=\"text-align: right;\">136,653,925</td><td style=\"text-align: right;\">107,928</td><td style=\"text-align: right;\">24</td><td style=\"text-align: right;\">1504</td><td style=\"text-align: right;\">0.02</td><td style=\"text-align: right;\">31</td><td style=\"text-align: right;\">0.97</td><td style=\"text-align: right;\">26</td><td style=\"text-align: right;\">4.17</td><td style=\"text-align: right;\">5</td><td style=\"text-align: right;\">2.57</td><td style=\"text-align: right;\">0</td><td style=\"text-align: right;\">0.00</td><td style=\"text-align: right;\">0</td><td style=\"text-align: right;\">0.00</td><td style=\"text-align: right;\">0</td><td style=\"text-align: right;\">0.00</td><td style=\"text-align: right;\">0</td><td style=\"text-align: right;\">0.00</td><td style=\"text-align: right;\">0</td><td style=\"text-align: right;\">0.00</td></tr>\n",
       "<tr class=\"even\"><td style=\"text-align: right;\">353925</td><td style=\"text-align: right;\">136,506,375</td><td style=\"text-align: right;\">32,564</td><td style=\"text-align: right;\">4</td><td style=\"text-align: right;\">1442</td><td style=\"text-align: right;\">0.02</td><td style=\"text-align: right;\">32</td><td style=\"text-align: right;\">1.00</td><td style=\"text-align: right;\">27</td><td style=\"text-align: right;\">4.19</td><td style=\"text-align: right;\">5</td><td style=\"text-align: right;\">2.49</td><td style=\"text-align: right;\">0</td><td style=\"text-align: right;\">0.00</td><td style=\"text-align: right;\">0</td><td style=\"text-align: right;\">0.00</td><td style=\"text-align: right;\">0</td><td style=\"text-align: right;\">0.00</td><td style=\"text-align: right;\">0</td><td style=\"text-align: right;\">0.00</td><td style=\"text-align: right;\">0</td><td style=\"text-align: right;\">0.00</td></tr>\n",
       "<tr><td style=\"text-align: right;\">353958</td><td style=\"text-align: right;\">136,535,876</td><td style=\"text-align: right;\">19,014</td><td style=\"text-align: right;\">7</td><td style=\"text-align: right;\">1303</td><td style=\"text-align: right;\">0.02</td><td style=\"text-align: right;\">32</td><td style=\"text-align: right;\">1.00</td><td style=\"text-align: right;\">27</td><td style=\"text-align: right;\">4.19</td><td style=\"text-align: right;\">5</td><td style=\"text-align: right;\">2.49</td><td style=\"text-align: right;\">0</td><td style=\"text-align: right;\">0.00</td><td style=\"text-align: right;\">0</td><td style=\"text-align: right;\">0.00</td><td style=\"text-align: right;\">0</td><td style=\"text-align: right;\">0.00</td><td style=\"text-align: right;\">0</td><td style=\"text-align: right;\">0.00</td><td style=\"text-align: right;\">0</td><td style=\"text-align: right;\">0.00</td></tr>\n",
       "<tr class=\"even\"><td style=\"text-align: right;\">353269</td><td style=\"text-align: right;\">135,766,890</td><td style=\"text-align: right;\">509,095</td><td style=\"text-align: right;\">62</td><td style=\"text-align: right;\">1265</td><td style=\"text-align: right;\">0.03</td><td style=\"text-align: right;\">32</td><td style=\"text-align: right;\">1.00</td><td style=\"text-align: right;\">27</td><td style=\"text-align: right;\">4.19</td><td style=\"text-align: right;\">5</td><td style=\"text-align: right;\">2.49</td><td style=\"text-align: right;\">0</td><td style=\"text-align: right;\">0.00</td><td style=\"text-align: right;\">0</td><td style=\"text-align: right;\">0.00</td><td style=\"text-align: right;\">0</td><td style=\"text-align: right;\">0.00</td><td style=\"text-align: right;\">0</td><td style=\"text-align: right;\">0.00</td><td style=\"text-align: right;\">0</td><td style=\"text-align: right;\">0.00</td></tr>\n",
       "<tr><td style=\"text-align: right;\">353729</td><td style=\"text-align: right;\">136,309,239</td><td style=\"text-align: right;\">52,321</td><td style=\"text-align: right;\">9</td><td style=\"text-align: right;\">887</td><td style=\"text-align: right;\">0.04</td><td style=\"text-align: right;\">32</td><td style=\"text-align: right;\">1.00</td><td style=\"text-align: right;\">27</td><td style=\"text-align: right;\">4.19</td><td style=\"text-align: right;\">5</td><td style=\"text-align: right;\">2.49</td><td style=\"text-align: right;\">0</td><td style=\"text-align: right;\">0.00</td><td style=\"text-align: right;\">0</td><td style=\"text-align: right;\">0.00</td><td style=\"text-align: right;\">0</td><td style=\"text-align: right;\">0.00</td><td style=\"text-align: right;\">0</td><td style=\"text-align: right;\">0.00</td><td style=\"text-align: right;\">0</td><td style=\"text-align: right;\">0.00</td></tr>\n",
       "<tr class=\"even\"><td style=\"text-align: right;\">353312</td><td style=\"text-align: right;\">135,784,351</td><td style=\"text-align: right;\">117,869</td><td style=\"text-align: right;\">8</td><td style=\"text-align: right;\">718</td><td style=\"text-align: right;\">0.04</td><td style=\"text-align: right;\">32</td><td style=\"text-align: right;\">1.00</td><td style=\"text-align: right;\">27</td><td style=\"text-align: right;\">4.19</td><td style=\"text-align: right;\">5</td><td style=\"text-align: right;\">2.49</td><td style=\"text-align: right;\">0</td><td style=\"text-align: right;\">0.00</td><td style=\"text-align: right;\">0</td><td style=\"text-align: right;\">0.00</td><td style=\"text-align: right;\">0</td><td style=\"text-align: right;\">0.00</td><td style=\"text-align: right;\">0</td><td style=\"text-align: right;\">0.00</td><td style=\"text-align: right;\">0</td><td style=\"text-align: right;\">0.00</td></tr>\n",
       "<tr><td style=\"text-align: right;\">353764</td><td style=\"text-align: right;\">136,364,916</td><td style=\"text-align: right;\">22,977</td><td style=\"text-align: right;\">5</td><td style=\"text-align: right;\">588</td><td style=\"text-align: right;\">0.05</td><td style=\"text-align: right;\">31</td><td style=\"text-align: right;\">0.97</td><td style=\"text-align: right;\">26</td><td style=\"text-align: right;\">4.17</td><td style=\"text-align: right;\">5</td><td style=\"text-align: right;\">2.57</td><td style=\"text-align: right;\">0</td><td style=\"text-align: right;\">0.00</td><td style=\"text-align: right;\">0</td><td style=\"text-align: right;\">0.00</td><td style=\"text-align: right;\">0</td><td style=\"text-align: right;\">0.00</td><td style=\"text-align: right;\">0</td><td style=\"text-align: right;\">0.00</td><td style=\"text-align: right;\">0</td><td style=\"text-align: right;\">0.00</td></tr>\n",
       "<tr class=\"even\"><td style=\"text-align: right;\">353349</td><td style=\"text-align: right;\">135,810,535</td><td style=\"text-align: right;\">87,488</td><td style=\"text-align: right;\">9</td><td style=\"text-align: right;\">545</td><td style=\"text-align: right;\">0.06</td><td style=\"text-align: right;\">32</td><td style=\"text-align: right;\">1.00</td><td style=\"text-align: right;\">27</td><td style=\"text-align: right;\">4.19</td><td style=\"text-align: right;\">5</td><td style=\"text-align: right;\">2.49</td><td style=\"text-align: right;\">0</td><td style=\"text-align: right;\">0.00</td><td style=\"text-align: right;\">0</td><td style=\"text-align: right;\">0.00</td><td style=\"text-align: right;\">0</td><td style=\"text-align: right;\">0.00</td><td style=\"text-align: right;\">0</td><td style=\"text-align: right;\">0.00</td><td style=\"text-align: right;\">0</td><td style=\"text-align: right;\">0.00</td></tr>\n",
       "<tr><td style=\"text-align: right;\">354061</td><td style=\"text-align: right;\">136,603,638</td><td style=\"text-align: right;\">28,487</td><td style=\"text-align: right;\">16</td><td style=\"text-align: right;\">511</td><td style=\"text-align: right;\">0.06</td><td style=\"text-align: right;\">32</td><td style=\"text-align: right;\">1.00</td><td style=\"text-align: right;\">27</td><td style=\"text-align: right;\">4.19</td><td style=\"text-align: right;\">5</td><td style=\"text-align: right;\">2.49</td><td style=\"text-align: right;\">0</td><td style=\"text-align: right;\">0.00</td><td style=\"text-align: right;\">0</td><td style=\"text-align: right;\">0.00</td><td style=\"text-align: right;\">0</td><td style=\"text-align: right;\">0.00</td><td style=\"text-align: right;\">0</td><td style=\"text-align: right;\">0.00</td><td style=\"text-align: right;\">0</td><td style=\"text-align: right;\">0.00</td></tr>\n",
       "<tr class=\"even\"><td style=\"text-align: right;\">353331</td><td style=\"text-align: right;\">135,795,222</td><td style=\"text-align: right;\">587,478</td><td style=\"text-align: right;\">67</td><td style=\"text-align: right;\">329</td><td style=\"text-align: right;\">0.10</td><td style=\"text-align: right;\">32</td><td style=\"text-align: right;\">1.00</td><td style=\"text-align: right;\">27</td><td style=\"text-align: right;\">4.19</td><td style=\"text-align: right;\">5</td><td style=\"text-align: right;\">2.49</td><td style=\"text-align: right;\">0</td><td style=\"text-align: right;\">0.00</td><td style=\"text-align: right;\">0</td><td style=\"text-align: right;\">0.00</td><td style=\"text-align: right;\">0</td><td style=\"text-align: right;\">0.00</td><td style=\"text-align: right;\">0</td><td style=\"text-align: right;\">0.00</td><td style=\"text-align: right;\">0</td><td style=\"text-align: right;\">0.00</td></tr>\n",
       "<tr><td style=\"text-align: right;\">354057</td><td style=\"text-align: right;\">136,602,291</td><td style=\"text-align: right;\">27,696</td><td style=\"text-align: right;\">7</td><td style=\"text-align: right;\">226</td><td style=\"text-align: right;\">0.14</td><td style=\"text-align: right;\">31</td><td style=\"text-align: right;\">0.97</td><td style=\"text-align: right;\">26</td><td style=\"text-align: right;\">4.17</td><td style=\"text-align: right;\">5</td><td style=\"text-align: right;\">2.57</td><td style=\"text-align: right;\">0</td><td style=\"text-align: right;\">0.00</td><td style=\"text-align: right;\">0</td><td style=\"text-align: right;\">0.00</td><td style=\"text-align: right;\">0</td><td style=\"text-align: right;\">0.00</td><td style=\"text-align: right;\">0</td><td style=\"text-align: right;\">0.00</td><td style=\"text-align: right;\">0</td><td style=\"text-align: right;\">0.00</td></tr>\n",
       "<tr class=\"even\"><td style=\"text-align: right;\">354189</td><td style=\"text-align: right;\">136,704,466</td><td style=\"text-align: right;\">27,748</td><td style=\"text-align: right;\">5</td><td style=\"text-align: right;\">212</td><td style=\"text-align: right;\">0.15</td><td style=\"text-align: right;\">31</td><td style=\"text-align: right;\">0.97</td><td style=\"text-align: right;\">26</td><td style=\"text-align: right;\">4.17</td><td style=\"text-align: right;\">5</td><td style=\"text-align: right;\">2.57</td><td style=\"text-align: right;\">0</td><td style=\"text-align: right;\">0.00</td><td style=\"text-align: right;\">0</td><td style=\"text-align: right;\">0.00</td><td style=\"text-align: right;\">0</td><td style=\"text-align: right;\">0.00</td><td style=\"text-align: right;\">0</td><td style=\"text-align: right;\">0.00</td><td style=\"text-align: right;\">0</td><td style=\"text-align: right;\">0.00</td></tr>\n",
       "<tr><td style=\"text-align: right;\">353788</td><td style=\"text-align: right;\">136,392,700</td><td style=\"text-align: right;\">158,106</td><td style=\"text-align: right;\">55</td><td style=\"text-align: right;\">180</td><td style=\"text-align: right;\">0.18</td><td style=\"text-align: right;\">32</td><td style=\"text-align: right;\">1.00</td><td style=\"text-align: right;\">27</td><td style=\"text-align: right;\">4.19</td><td style=\"text-align: right;\">5</td><td style=\"text-align: right;\">2.49</td><td style=\"text-align: right;\">0</td><td style=\"text-align: right;\">0.00</td><td style=\"text-align: right;\">0</td><td style=\"text-align: right;\">0.00</td><td style=\"text-align: right;\">0</td><td style=\"text-align: right;\">0.00</td><td style=\"text-align: right;\">0</td><td style=\"text-align: right;\">0.00</td><td style=\"text-align: right;\">0</td><td style=\"text-align: right;\">0.00</td></tr>\n",
       "<tr class=\"even\"><td style=\"text-align: right;\">354181</td><td style=\"text-align: right;\">136,696,010</td><td style=\"text-align: right;\">68,554</td><td style=\"text-align: right;\">18</td><td style=\"text-align: right;\">172</td><td style=\"text-align: right;\">0.18</td><td style=\"text-align: right;\">31</td><td style=\"text-align: right;\">0.97</td><td style=\"text-align: right;\">26</td><td style=\"text-align: right;\">4.17</td><td style=\"text-align: right;\">5</td><td style=\"text-align: right;\">2.57</td><td style=\"text-align: right;\">0</td><td style=\"text-align: right;\">0.00</td><td style=\"text-align: right;\">0</td><td style=\"text-align: right;\">0.00</td><td style=\"text-align: right;\">0</td><td style=\"text-align: right;\">0.00</td><td style=\"text-align: right;\">0</td><td style=\"text-align: right;\">0.00</td><td style=\"text-align: right;\">0</td><td style=\"text-align: right;\">0.00</td></tr>\n",
       "<tr><td style=\"text-align: right;\">354036</td><td style=\"text-align: right;\">136,589,521</td><td style=\"text-align: right;\">52,491</td><td style=\"text-align: right;\">17</td><td style=\"text-align: right;\">127</td><td style=\"text-align: right;\">0.24</td><td style=\"text-align: right;\">31</td><td style=\"text-align: right;\">0.97</td><td style=\"text-align: right;\">26</td><td style=\"text-align: right;\">4.17</td><td style=\"text-align: right;\">5</td><td style=\"text-align: right;\">2.57</td><td style=\"text-align: right;\">0</td><td style=\"text-align: right;\">0.00</td><td style=\"text-align: right;\">0</td><td style=\"text-align: right;\">0.00</td><td style=\"text-align: right;\">0</td><td style=\"text-align: right;\">0.00</td><td style=\"text-align: right;\">0</td><td style=\"text-align: right;\">0.00</td><td style=\"text-align: right;\">0</td><td style=\"text-align: right;\">0.00</td></tr>\n",
       "<tr class=\"even\"><td style=\"text-align: right;\">353992</td><td style=\"text-align: right;\">136,562,716</td><td style=\"text-align: right;\">21,998</td><td style=\"text-align: right;\">6</td><td style=\"text-align: right;\">127</td><td style=\"text-align: right;\">0.25</td><td style=\"text-align: right;\">32</td><td style=\"text-align: right;\">1.00</td><td style=\"text-align: right;\">27</td><td style=\"text-align: right;\">4.19</td><td style=\"text-align: right;\">5</td><td style=\"text-align: right;\">2.49</td><td style=\"text-align: right;\">0</td><td style=\"text-align: right;\">0.00</td><td style=\"text-align: right;\">0</td><td style=\"text-align: right;\">0.00</td><td style=\"text-align: right;\">0</td><td style=\"text-align: right;\">0.00</td><td style=\"text-align: right;\">0</td><td style=\"text-align: right;\">0.00</td><td style=\"text-align: right;\">0</td><td style=\"text-align: right;\">0.00</td></tr>\n",
       "<tr><td style=\"text-align: right;\">353486</td><td style=\"text-align: right;\">135,946,660</td><td style=\"text-align: right;\">156,668</td><td style=\"text-align: right;\">5</td><td style=\"text-align: right;\">96</td><td style=\"text-align: right;\">0.33</td><td style=\"text-align: right;\">32</td><td style=\"text-align: right;\">1.00</td><td style=\"text-align: right;\">27</td><td style=\"text-align: right;\">4.19</td><td style=\"text-align: right;\">5</td><td style=\"text-align: right;\">2.49</td><td style=\"text-align: right;\">0</td><td style=\"text-align: right;\">0.00</td><td style=\"text-align: right;\">0</td><td style=\"text-align: right;\">0.00</td><td style=\"text-align: right;\">0</td><td style=\"text-align: right;\">0.00</td><td style=\"text-align: right;\">0</td><td style=\"text-align: right;\">0.00</td><td style=\"text-align: right;\">0</td><td style=\"text-align: right;\">0.00</td></tr>\n",
       "<tr class=\"even\"><td style=\"text-align: right;\">354115</td><td style=\"text-align: right;\">136,647,933</td><td style=\"text-align: right;\">30,445</td><td style=\"text-align: right;\">10</td><td style=\"text-align: right;\">43</td><td style=\"text-align: right;\">0.67</td><td style=\"text-align: right;\">29</td><td style=\"text-align: right;\">0.91</td><td style=\"text-align: right;\">24</td><td style=\"text-align: right;\">4.11</td><td style=\"text-align: right;\">5</td><td style=\"text-align: right;\">2.75</td><td style=\"text-align: right;\">0</td><td style=\"text-align: right;\">0.00</td><td style=\"text-align: right;\">0</td><td style=\"text-align: right;\">0.00</td><td style=\"text-align: right;\">0</td><td style=\"text-align: right;\">0.00</td><td style=\"text-align: right;\">0</td><td style=\"text-align: right;\">0.00</td><td style=\"text-align: right;\">0</td><td style=\"text-align: right;\">0.00</td></tr>\n",
       "<tr><td style=\"text-align: right;\">354144</td><td style=\"text-align: right;\">136,658,314</td><td style=\"text-align: right;\">107,144</td><td style=\"text-align: right;\">33</td><td style=\"text-align: right;\">38</td><td style=\"text-align: right;\">0.76</td><td style=\"text-align: right;\">29</td><td style=\"text-align: right;\">0.91</td><td style=\"text-align: right;\">24</td><td style=\"text-align: right;\">4.11</td><td style=\"text-align: right;\">5</td><td style=\"text-align: right;\">2.75</td><td style=\"text-align: right;\">0</td><td style=\"text-align: right;\">0.00</td><td style=\"text-align: right;\">0</td><td style=\"text-align: right;\">0.00</td><td style=\"text-align: right;\">0</td><td style=\"text-align: right;\">0.00</td><td style=\"text-align: right;\">0</td><td style=\"text-align: right;\">0.00</td><td style=\"text-align: right;\">0</td><td style=\"text-align: right;\">0.00</td></tr>\n",
       "<tr class=\"even\"><td style=\"text-align: right;\">353242</td><td style=\"text-align: right;\">135,758,116</td><td style=\"text-align: right;\">1,022,378</td><td style=\"text-align: right;\">147</td><td style=\"text-align: right;\">38</td><td style=\"text-align: right;\">0.84</td><td style=\"text-align: right;\">32</td><td style=\"text-align: right;\">1.00</td><td style=\"text-align: right;\">27</td><td style=\"text-align: right;\">4.19</td><td style=\"text-align: right;\">5</td><td style=\"text-align: right;\">2.49</td><td style=\"text-align: right;\">0</td><td style=\"text-align: right;\">0.00</td><td style=\"text-align: right;\">0</td><td style=\"text-align: right;\">0.00</td><td style=\"text-align: right;\">0</td><td style=\"text-align: right;\">0.00</td><td style=\"text-align: right;\">0</td><td style=\"text-align: right;\">0.00</td><td style=\"text-align: right;\">0</td><td style=\"text-align: right;\">0.00</td></tr>\n",
       "<tr><td style=\"text-align: right;\">353556</td><td style=\"text-align: right;\">136,025,256</td><td style=\"text-align: right;\">488,035</td><td style=\"text-align: right;\">6</td><td style=\"text-align: right;\">32</td><td style=\"text-align: right;\">1.00</td><td style=\"text-align: right;\">32</td><td style=\"text-align: right;\">1.00</td><td style=\"text-align: right;\">27</td><td style=\"text-align: right;\">4.19</td><td style=\"text-align: right;\">5</td><td style=\"text-align: right;\">2.49</td><td style=\"text-align: right;\">0</td><td style=\"text-align: right;\">0.00</td><td style=\"text-align: right;\">0</td><td style=\"text-align: right;\">0.00</td><td style=\"text-align: right;\">0</td><td style=\"text-align: right;\">0.00</td><td style=\"text-align: right;\">0</td><td style=\"text-align: right;\">0.00</td><td style=\"text-align: right;\">0</td><td style=\"text-align: right;\">0.00</td></tr>\n",
       "</table>"
      ],
      "text/plain": [
       "<IPython.core.display.HTML object>"
      ]
     },
     "execution_count": 21,
     "metadata": {},
     "output_type": "execute_result"
    }
   ],
   "source": [
    "HTML(plt_obj.get_html())"
   ]
  },
  {
   "cell_type": "code",
   "execution_count": 22,
   "metadata": {
    "collapsed": false
   },
   "outputs": [
    {
     "data": {
      "text/html": [
       "\n",
       "\n",
       "    <div class=\"bk-root\">\n",
       "        <div class=\"plotdiv\" id=\"77458eaa-491c-4f4a-9f1f-49e95962ebf8\"></div>\n",
       "    </div>\n",
       "<script type=\"text/javascript\">\n",
       "  \n",
       "  (function(global) {\n",
       "    function now() {\n",
       "      return new Date();\n",
       "    }\n",
       "  \n",
       "    if (typeof (window._bokeh_onload_callbacks) === \"undefined\") {\n",
       "      window._bokeh_onload_callbacks = [];\n",
       "    }\n",
       "  \n",
       "    function run_callbacks() {\n",
       "      window._bokeh_onload_callbacks.forEach(function(callback) { callback() });\n",
       "      delete window._bokeh_onload_callbacks\n",
       "      console.info(\"Bokeh: all callbacks have finished\");\n",
       "    }\n",
       "  \n",
       "    function load_libs(js_urls, callback) {\n",
       "      window._bokeh_onload_callbacks.push(callback);\n",
       "      if (window._bokeh_is_loading > 0) {\n",
       "        console.log(\"Bokeh: BokehJS is being loaded, scheduling callback at\", now());\n",
       "        return null;\n",
       "      }\n",
       "      if (js_urls == null || js_urls.length === 0) {\n",
       "        run_callbacks();\n",
       "        return null;\n",
       "      }\n",
       "      console.log(\"Bokeh: BokehJS not loaded, scheduling load and callback at\", now());\n",
       "      window._bokeh_is_loading = js_urls.length;\n",
       "      for (var i = 0; i < js_urls.length; i++) {\n",
       "        var url = js_urls[i];\n",
       "        var s = document.createElement('script');\n",
       "        s.src = url;\n",
       "        s.async = false;\n",
       "        s.onreadystatechange = s.onload = function() {\n",
       "          window._bokeh_is_loading--;\n",
       "          if (window._bokeh_is_loading === 0) {\n",
       "            console.log(\"Bokeh: all BokehJS libraries loaded\");\n",
       "            run_callbacks()\n",
       "          }\n",
       "        };\n",
       "        s.onerror = function() {\n",
       "          console.warn(\"failed to load library \" + url);\n",
       "        };\n",
       "        console.log(\"Bokeh: injecting script tag for BokehJS library: \", url);\n",
       "        document.getElementsByTagName(\"head\")[0].appendChild(s);\n",
       "      }\n",
       "    };var element = document.getElementById(\"77458eaa-491c-4f4a-9f1f-49e95962ebf8\");\n",
       "    if (element == null) {\n",
       "      console.log(\"Bokeh: ERROR: autoload.js configured with elementid '77458eaa-491c-4f4a-9f1f-49e95962ebf8' but no matching script tag was found. \")\n",
       "      return false;\n",
       "    }\n",
       "  \n",
       "    var js_urls = [];\n",
       "  \n",
       "    var inline_js = [\n",
       "      function(Bokeh) {\n",
       "        Bokeh.$(function() {\n",
       "            var docs_json = {\"5f00aab1-6525-4e0c-9d70-b68ac2efd2b7\":{\"roots\":{\"references\":[{\"attributes\":{\"plot\":{\"id\":\"0c0a4d6e-6987-4c8c-98a0-044fc1f97b83\",\"subtype\":\"Figure\",\"type\":\"Plot\"},\"ticker\":{\"id\":\"6ee658e3-013f-4093-8580-2011e02d3dd5\",\"type\":\"BasicTicker\"}},\"id\":\"3ff74031-4c15-40f6-b815-317e34f2405a\",\"type\":\"Grid\"},{\"attributes\":{\"dimension\":1,\"plot\":{\"id\":\"0c0a4d6e-6987-4c8c-98a0-044fc1f97b83\",\"subtype\":\"Figure\",\"type\":\"Plot\"},\"ticker\":{\"id\":\"60e6053a-4a6f-4079-8326-ed97e10dfe57\",\"type\":\"BasicTicker\"}},\"id\":\"f7d7d738-ef61-4cc3-8ce5-4ae54c62c5a7\",\"type\":\"Grid\"},{\"attributes\":{},\"id\":\"60e6053a-4a6f-4079-8326-ed97e10dfe57\",\"type\":\"BasicTicker\"},{\"attributes\":{\"plot\":{\"id\":\"0c0a4d6e-6987-4c8c-98a0-044fc1f97b83\",\"subtype\":\"Figure\",\"type\":\"Plot\"}},\"id\":\"6b19f6ff-2a9a-432f-96f5-4e8e34aa330b\",\"type\":\"PanTool\"},{\"attributes\":{\"plot\":{\"id\":\"0c0a4d6e-6987-4c8c-98a0-044fc1f97b83\",\"subtype\":\"Figure\",\"type\":\"Plot\"}},\"id\":\"ad2ea540-8992-49fd-8198-03b59e3a214c\",\"type\":\"WheelZoomTool\"},{\"attributes\":{\"below\":[{\"id\":\"fc5f95c1-8552-4969-b45f-9f93331c0ae4\",\"type\":\"LinearAxis\"}],\"left\":[{\"id\":\"2b511bfe-597f-43f9-bc3e-98d5406a6385\",\"type\":\"LinearAxis\"}],\"plot_height\":400,\"plot_width\":900,\"renderers\":[{\"id\":\"fc5f95c1-8552-4969-b45f-9f93331c0ae4\",\"type\":\"LinearAxis\"},{\"id\":\"3ff74031-4c15-40f6-b815-317e34f2405a\",\"type\":\"Grid\"},{\"id\":\"2b511bfe-597f-43f9-bc3e-98d5406a6385\",\"type\":\"LinearAxis\"},{\"id\":\"f7d7d738-ef61-4cc3-8ce5-4ae54c62c5a7\",\"type\":\"Grid\"},{\"id\":\"13f7c947-5eaf-436d-bc33-f8850b69329a\",\"type\":\"BoxAnnotation\"},{\"id\":\"8d622f89-1abf-4119-8201-5940fcc15c76\",\"type\":\"GlyphRenderer\"}],\"title\":{\"id\":\"0f3857ba-f602-4757-b60c-cf7779264a2d\",\"type\":\"Title\"},\"tool_events\":{\"id\":\"675c7f56-4773-4af9-b320-1f9054e06890\",\"type\":\"ToolEvents\"},\"toolbar\":{\"id\":\"21b3e260-52f8-492f-a103-663edf2dfc1f\",\"type\":\"Toolbar\"},\"toolbar_location\":null,\"x_range\":{\"id\":\"f8601dd1-81c3-4c4a-96a6-116822c6855d\",\"type\":\"Range1d\"},\"y_range\":{\"id\":\"fa0fd26d-5fcd-4220-959c-29759f8ecdc6\",\"type\":\"Range1d\"}},\"id\":\"0c0a4d6e-6987-4c8c-98a0-044fc1f97b83\",\"subtype\":\"Figure\",\"type\":\"Plot\"},{\"attributes\":{\"active_drag\":\"auto\",\"active_scroll\":\"auto\",\"active_tap\":\"auto\",\"tools\":[{\"id\":\"6b19f6ff-2a9a-432f-96f5-4e8e34aa330b\",\"type\":\"PanTool\"},{\"id\":\"ad2ea540-8992-49fd-8198-03b59e3a214c\",\"type\":\"WheelZoomTool\"},{\"id\":\"fd6cb7e7-1782-4556-925e-b0698fef7509\",\"type\":\"BoxZoomTool\"},{\"id\":\"596c2d39-db89-4ee6-9cf2-f2400cd9ce3a\",\"type\":\"SaveTool\"},{\"id\":\"f620f3aa-8643-43c3-80e3-0a452cc6ffcd\",\"type\":\"ResetTool\"},{\"id\":\"cffaff31-9b28-4175-8e5e-bb99866fce25\",\"type\":\"HelpTool\"}]},\"id\":\"21b3e260-52f8-492f-a103-663edf2dfc1f\",\"type\":\"Toolbar\"},{\"attributes\":{\"overlay\":{\"id\":\"13f7c947-5eaf-436d-bc33-f8850b69329a\",\"type\":\"BoxAnnotation\"},\"plot\":{\"id\":\"0c0a4d6e-6987-4c8c-98a0-044fc1f97b83\",\"subtype\":\"Figure\",\"type\":\"Plot\"}},\"id\":\"fd6cb7e7-1782-4556-925e-b0698fef7509\",\"type\":\"BoxZoomTool\"},{\"attributes\":{\"plot\":{\"id\":\"0c0a4d6e-6987-4c8c-98a0-044fc1f97b83\",\"subtype\":\"Figure\",\"type\":\"Plot\"}},\"id\":\"cffaff31-9b28-4175-8e5e-bb99866fce25\",\"type\":\"HelpTool\"},{\"attributes\":{},\"id\":\"c57da8c1-c6d1-4293-b0bc-831163158e93\",\"type\":\"BasicTickFormatter\"},{\"attributes\":{\"formatter\":{\"id\":\"be8223b5-5255-40e3-aafd-42d6141608fd\",\"type\":\"BasicTickFormatter\"},\"plot\":{\"id\":\"0c0a4d6e-6987-4c8c-98a0-044fc1f97b83\",\"subtype\":\"Figure\",\"type\":\"Plot\"},\"ticker\":{\"id\":\"60e6053a-4a6f-4079-8326-ed97e10dfe57\",\"type\":\"BasicTicker\"}},\"id\":\"2b511bfe-597f-43f9-bc3e-98d5406a6385\",\"type\":\"LinearAxis\"},{\"attributes\":{},\"id\":\"675c7f56-4773-4af9-b320-1f9054e06890\",\"type\":\"ToolEvents\"},{\"attributes\":{\"line_alpha\":{\"value\":0.1},\"line_color\":{\"value\":\"#1f77b4\"},\"x\":{\"field\":\"x\"},\"y\":{\"field\":\"y\"}},\"id\":\"062153a8-e48d-443d-a953-c91627f43acb\",\"type\":\"Line\"},{\"attributes\":{\"bottom_units\":\"screen\",\"fill_alpha\":{\"value\":0.5},\"fill_color\":{\"value\":\"lightgrey\"},\"left_units\":\"screen\",\"level\":\"overlay\",\"line_alpha\":{\"value\":1.0},\"line_color\":{\"value\":\"black\"},\"line_dash\":[4,4],\"line_width\":{\"value\":2},\"plot\":null,\"render_mode\":\"css\",\"right_units\":\"screen\",\"top_units\":\"screen\"},\"id\":\"13f7c947-5eaf-436d-bc33-f8850b69329a\",\"type\":\"BoxAnnotation\"},{\"attributes\":{\"plot\":null,\"text\":null},\"id\":\"0f3857ba-f602-4757-b60c-cf7779264a2d\",\"type\":\"Title\"},{\"attributes\":{\"callback\":null,\"end\":33.0},\"id\":\"fa0fd26d-5fcd-4220-959c-29759f8ecdc6\",\"type\":\"Range1d\"},{\"attributes\":{\"line_color\":{\"value\":\"#1f77b4\"},\"x\":{\"field\":\"x\"},\"y\":{\"field\":\"y\"}},\"id\":\"33451229-a90b-4d6e-98fa-f35f4db30c74\",\"type\":\"Line\"},{\"attributes\":{},\"id\":\"be8223b5-5255-40e3-aafd-42d6141608fd\",\"type\":\"BasicTickFormatter\"},{\"attributes\":{\"plot\":{\"id\":\"0c0a4d6e-6987-4c8c-98a0-044fc1f97b83\",\"subtype\":\"Figure\",\"type\":\"Plot\"}},\"id\":\"f620f3aa-8643-43c3-80e3-0a452cc6ffcd\",\"type\":\"ResetTool\"},{\"attributes\":{\"formatter\":{\"id\":\"c57da8c1-c6d1-4293-b0bc-831163158e93\",\"type\":\"BasicTickFormatter\"},\"plot\":{\"id\":\"0c0a4d6e-6987-4c8c-98a0-044fc1f97b83\",\"subtype\":\"Figure\",\"type\":\"Plot\"},\"ticker\":{\"id\":\"6ee658e3-013f-4093-8580-2011e02d3dd5\",\"type\":\"BasicTicker\"}},\"id\":\"fc5f95c1-8552-4969-b45f-9f93331c0ae4\",\"type\":\"LinearAxis\"},{\"attributes\":{},\"id\":\"6ee658e3-013f-4093-8580-2011e02d3dd5\",\"type\":\"BasicTicker\"},{\"attributes\":{\"data_source\":{\"id\":\"14eb9105-8b33-49de-8895-eef3ad1218fc\",\"type\":\"ColumnDataSource\"},\"glyph\":{\"id\":\"33451229-a90b-4d6e-98fa-f35f4db30c74\",\"type\":\"Line\"},\"hover_glyph\":null,\"nonselection_glyph\":{\"id\":\"062153a8-e48d-443d-a953-c91627f43acb\",\"type\":\"Line\"},\"selection_glyph\":null},\"id\":\"8d622f89-1abf-4119-8201-5940fcc15c76\",\"type\":\"GlyphRenderer\"},{\"attributes\":{\"plot\":{\"id\":\"0c0a4d6e-6987-4c8c-98a0-044fc1f97b83\",\"subtype\":\"Figure\",\"type\":\"Plot\"}},\"id\":\"596c2d39-db89-4ee6-9cf2-f2400cd9ce3a\",\"type\":\"SaveTool\"},{\"attributes\":{\"callback\":null,\"end\":148.5,\"start\":-0.5},\"id\":\"f8601dd1-81c3-4c4a-96a6-116822c6855d\",\"type\":\"Range1d\"},{\"attributes\":{\"callback\":null,\"column_names\":[\"y\",\"x\"],\"data\":{\"x\":[-0.5,-0.5,138.5,138.5,139.5,139.5,145.5,145.5,146.5,146.5,147.5,147.5],\"y\":[0.0,0.0,0.0,1.0,1.0,0.0,0.0,1.0,1.0,30.0,30.0,0.0]}},\"id\":\"14eb9105-8b33-49de-8895-eef3ad1218fc\",\"type\":\"ColumnDataSource\"}],\"root_ids\":[\"0c0a4d6e-6987-4c8c-98a0-044fc1f97b83\"]},\"title\":\"Bokeh Application\",\"version\":\"0.12.0\"}};\n",
       "            var render_items = [{\"docid\":\"5f00aab1-6525-4e0c-9d70-b68ac2efd2b7\",\"elementid\":\"77458eaa-491c-4f4a-9f1f-49e95962ebf8\",\"modelid\":\"0c0a4d6e-6987-4c8c-98a0-044fc1f97b83\",\"notebook_comms_target\":\"bd9a9bf4-2959-411e-a7aa-c69c2fe139da\"}];\n",
       "            \n",
       "            Bokeh.embed.embed_items(docs_json, render_items);\n",
       "        });\n",
       "      },\n",
       "      function(Bokeh) {\n",
       "      }\n",
       "    ];\n",
       "  \n",
       "    function run_inline_js() {\n",
       "      for (var i = 0; i < inline_js.length; i++) {\n",
       "        inline_js[i](window.Bokeh);\n",
       "      }\n",
       "    }\n",
       "  \n",
       "    if (window._bokeh_is_loading === 0) {\n",
       "      console.log(\"Bokeh: BokehJS loaded, going straight to plotting\");\n",
       "      run_inline_js();\n",
       "    } else {\n",
       "      load_libs(js_urls, function() {\n",
       "        console.log(\"Bokeh: BokehJS plotting callback run at\", now());\n",
       "        run_inline_js();\n",
       "      });\n",
       "    }\n",
       "  }(this));\n",
       "</script>"
      ]
     },
     "metadata": {},
     "output_type": "display_data"
    },
    {
     "data": {
      "text/html": [
       "<p><code>&lt;Bokeh Notebook handle for <strong>In[22]</strong>&gt;</code></p>"
      ],
      "text/plain": [
       "<bokeh.io._CommsHandle at 0x7f43e01f4f90>"
      ]
     },
     "execution_count": 22,
     "metadata": {},
     "output_type": "execute_result"
    }
   ],
   "source": [
    "count_data = sa_147_38.unique_snps_per_allele(am_6_32)\n",
    "plt_obj = smcp(count_data)\n",
    "plt = plt_obj.do_plot()\n",
    "show(plt)"
   ]
  },
  {
   "cell_type": "code",
   "execution_count": 23,
   "metadata": {
    "collapsed": false
   },
   "outputs": [
    {
     "data": {
      "text/plain": [
       "array([(139, 1), (146, 1), (147, 30)], \n",
       "      dtype=[('count', '<u2'), ('snps', '<u2')])"
      ]
     },
     "execution_count": 23,
     "metadata": {},
     "output_type": "execute_result"
    }
   ],
   "source": [
    "count_data"
   ]
  }
 ],
 "metadata": {
  "anaconda-cloud": {},
  "kernelspec": {
   "display_name": "Python [Root]",
   "language": "python",
   "name": "Python [Root]"
  },
  "language_info": {
   "codemirror_mode": {
    "name": "ipython",
    "version": 2
   },
   "file_extension": ".py",
   "mimetype": "text/x-python",
   "name": "python",
   "nbconvert_exporter": "python",
   "pygments_lexer": "ipython2",
   "version": "2.7.12"
  }
 },
 "nbformat": 4,
 "nbformat_minor": 0
}
