{
 "cells": [
  {
   "cell_type": "code",
   "execution_count": 1,
   "metadata": {
    "collapsed": false
   },
   "outputs": [
    {
     "data": {
      "text/html": []
     },
     "metadata": {},
     "output_type": "display_data"
    },
    {
     "data": {
      "application/javascript": [
       "\n",
       "(function(global) {\n",
       "  function now() {\n",
       "    return new Date();\n",
       "  }\n",
       "\n",
       "  if (typeof (window._bokeh_onload_callbacks) === \"undefined\") {\n",
       "    window._bokeh_onload_callbacks = [];\n",
       "  }\n",
       "\n",
       "  function run_callbacks() {\n",
       "    window._bokeh_onload_callbacks.forEach(function(callback) { callback() });\n",
       "    delete window._bokeh_onload_callbacks\n",
       "    console.info(\"Bokeh: all callbacks have finished\");\n",
       "  }\n",
       "\n",
       "  function load_libs(js_urls, callback) {\n",
       "    window._bokeh_onload_callbacks.push(callback);\n",
       "    if (window._bokeh_is_loading > 0) {\n",
       "      console.log(\"Bokeh: BokehJS is being loaded, scheduling callback at\", now());\n",
       "      return null;\n",
       "    }\n",
       "    if (js_urls == null || js_urls.length === 0) {\n",
       "      run_callbacks();\n",
       "      return null;\n",
       "    }\n",
       "    console.log(\"Bokeh: BokehJS not loaded, scheduling load and callback at\", now());\n",
       "    window._bokeh_is_loading = js_urls.length;\n",
       "    for (var i = 0; i < js_urls.length; i++) {\n",
       "      var url = js_urls[i];\n",
       "      var s = document.createElement('script');\n",
       "      s.src = url;\n",
       "      s.async = false;\n",
       "      s.onreadystatechange = s.onload = function() {\n",
       "        window._bokeh_is_loading--;\n",
       "        if (window._bokeh_is_loading === 0) {\n",
       "          console.log(\"Bokeh: all BokehJS libraries loaded\");\n",
       "          run_callbacks()\n",
       "        }\n",
       "      };\n",
       "      s.onerror = function() {\n",
       "        console.warn(\"failed to load library \" + url);\n",
       "      };\n",
       "      console.log(\"Bokeh: injecting script tag for BokehJS library: \", url);\n",
       "      document.getElementsByTagName(\"head\")[0].appendChild(s);\n",
       "    }\n",
       "  };\n",
       "\n",
       "  var js_urls = ['https://cdn.pydata.org/bokeh/release/bokeh-0.12.0.min.js', 'https://cdn.pydata.org/bokeh/release/bokeh-widgets-0.12.0.min.js', 'https://cdn.pydata.org/bokeh/release/bokeh-compiler-0.12.0.min.js'];\n",
       "\n",
       "  var inline_js = [\n",
       "    function(Bokeh) {\n",
       "      Bokeh.set_log_level(\"info\");\n",
       "    },\n",
       "    \n",
       "    function(Bokeh) {\n",
       "      Bokeh.$(\"#efa56ebb-485e-4851-b755-e6b2fd68e9a7\").text(\"BokehJS successfully loaded\");\n",
       "    },\n",
       "    function(Bokeh) {\n",
       "      console.log(\"Bokeh: injecting CSS: https://cdn.pydata.org/bokeh/release/bokeh-0.12.0.min.css\");\n",
       "      Bokeh.embed.inject_css(\"https://cdn.pydata.org/bokeh/release/bokeh-0.12.0.min.css\");\n",
       "      console.log(\"Bokeh: injecting CSS: https://cdn.pydata.org/bokeh/release/bokeh-widgets-0.12.0.min.css\");\n",
       "      Bokeh.embed.inject_css(\"https://cdn.pydata.org/bokeh/release/bokeh-widgets-0.12.0.min.css\");\n",
       "    }\n",
       "  ];\n",
       "\n",
       "  function run_inline_js() {\n",
       "    for (var i = 0; i < inline_js.length; i++) {\n",
       "      inline_js[i](window.Bokeh);\n",
       "    }\n",
       "  }\n",
       "\n",
       "  if (window._bokeh_is_loading === 0) {\n",
       "    console.log(\"Bokeh: BokehJS loaded, going straight to plotting\");\n",
       "    run_inline_js();\n",
       "  } else {\n",
       "    load_libs(js_urls, function() {\n",
       "      console.log(\"Bokeh: BokehJS plotting callback run at\", now());\n",
       "      run_inline_js();\n",
       "    });\n",
       "  }\n",
       "}(this));"
      ]
     },
     "metadata": {},
     "output_type": "display_data"
    }
   ],
   "source": [
    "import numpy as np\n",
    "from IPython.display import HTML\n",
    "from bokeh.plotting import output_notebook, show\n",
    "import genomes_dnj.lct_interval.series_plots as dm\n",
    "import genomes_dnj.lct_interval.anal_series as an\n",
    "import genomes_dnj.lct_interval_snp_anal.lct_interval_snp_anal as snp_anal\n",
    "import genomes_dnj.lct_interval.series_masks as sm\n",
    "from genomes_dnj.lct_interval.bokeh_match_count_plot import snp_match_count_plot_cls as smcp\n",
    "output_notebook(hide_banner=True)\n",
    "sa_117_1685 = snp_anal.series_anal_cls(dm.di_117_1685, sm.series_data)\n",
    "sa_123_1561 = snp_anal.series_anal_cls(dm.di_123_1561, sm.series_data)\n",
    "sa_62_1265 = snp_anal.series_anal_cls(dm.di_62_1265, sm.series_data)\n",
    "sa_193_843 = snp_anal.series_anal_cls(dm.di_193_843, sm.series_data)\n",
    "sa_25_27 = snp_anal.series_anal_cls(dm.di_25_27, sm.series_data)\n",
    "am_25_27 = dm.allele_mask_from_index(dm.di_25_27)"
   ]
  },
  {
   "cell_type": "markdown",
   "metadata": {},
   "source": [
    "<h3>Series 25_27</h3>\n",
    "<div style=\"width:700px\">\n",
    "<p>\n",
    "This notebook documents the series 25_27 and its 25 SNPs. The 1000 genomes data include\n",
    "include 4974 chromosome 2 samples that express none of these 25 SNPs and 27 that express all\n",
    "25 of them.\n",
    "<p>\n",
    "The series 25_27 has selected part of the 28_434 hierarchy that expresses 117_1685 and 123_1561.\n",
    "All 27 chromosome samples that express 25_27 also express 117_1685.  Only 25 of them express\n",
    "123_1561.  None of them express 62_1265 or 193_843.  But all of them express significant fragments\n",
    "of all four series.\n",
    "<p>\n",
    "24 of the samples express all 117 117_1624 SNPs. None of them express more than 116 123_1561 SNPs.\n",
    "All express 20 through 22 SNP fragments of 62_1265.  All express 54 or 55 SNP fragments of 193_843.\n",
    "</div>"
   ]
  },
  {
   "cell_type": "code",
   "execution_count": 2,
   "metadata": {
    "collapsed": false
   },
   "outputs": [
    {
     "data": {
      "text/html": [
       "<p>\n",
       "<b>25_27 series</b>\n",
       "</p><p>\n",
       "<table>\n",
       "<thead><tr><th style=\"text-align:center\">index</th><th style=\"text-align:center\">first</th><th style=\"text-align:center\">length</th><th style=\"text-align:center\">snps</th><th style=\"text-align:center\">alleles</th><th style=\"text-align:center\" colspan=2>afr</th><th style=\"text-align:center\" colspan=2>afx</th><th style=\"text-align:center\" colspan=2>amr</th><th style=\"text-align:center\" colspan=2>eas</th><th style=\"text-align:center\" colspan=2>eur</th><th style=\"text-align:center\" colspan=2>sas</th><th style=\"text-align:center\" colspan=2>sax</th></tr></thead>\n",
       "<tr class=\"even\"><td style=\"text-align: right;\">353496</td><td style=\"text-align: right;\">135,956,166</td><td style=\"text-align: right;\">528,513</td><td style=\"text-align: right;\">25</td><td style=\"text-align: right;\">27</td><td style=\"text-align: right;\">18</td><td style=\"text-align: right;\">3.31</td><td style=\"text-align: right;\">7</td><td style=\"text-align: right;\">4.13</td><td style=\"text-align: right;\">2</td><td style=\"text-align: right;\">0.53</td><td style=\"text-align: right;\">0</td><td style=\"text-align: right;\">0.00</td><td style=\"text-align: right;\">0</td><td style=\"text-align: right;\">0.00</td><td style=\"text-align: right;\">0</td><td style=\"text-align: right;\">0.00</td><td style=\"text-align: right;\">0</td><td style=\"text-align: right;\">0.00</td></tr>\n",
       "</table>\n",
       "</p>\n",
       "<p>\n",
       "<b>25_27 series snps</b>\n",
       "</p><p>\n",
       "<table>\n",
       "<thead><tr><th style=\"text-align:center\">index</th><th style=\"text-align:center\">pos</th><th style=\"text-align:center\">id</th><th style=\"text-align:center\">niv</th><th style=\"text-align:center\">alleles</th><th style=\"text-align:center\" colspan=2>afr</th><th style=\"text-align:center\" colspan=2>afx</th><th style=\"text-align:center\" colspan=2>amr</th><th style=\"text-align:center\" colspan=2>eas</th><th style=\"text-align:center\" colspan=2>eur</th><th style=\"text-align:center\" colspan=2>sas</th><th style=\"text-align:center\" colspan=2>sax</th></tr></thead>\n",
       "<tr class=\"even\"><td style=\"text-align: right;\">875984</td><td style=\"text-align: right;\">135,956,166</td><td>rs78167379</td><td>0</td><td style=\"text-align: right;\">28</td><td style=\"text-align: right;\">19</td><td style=\"text-align: right;\">3.37</td><td style=\"text-align: right;\">7</td><td style=\"text-align: right;\">3.99</td><td style=\"text-align: right;\">2</td><td style=\"text-align: right;\">0.52</td><td style=\"text-align: right;\">0</td><td style=\"text-align: right;\">0.00</td><td style=\"text-align: right;\">0</td><td style=\"text-align: right;\">0.00</td><td style=\"text-align: right;\">0</td><td style=\"text-align: right;\">0.00</td><td style=\"text-align: right;\">0</td><td style=\"text-align: right;\">0.00</td></tr>\n",
       "<tr><td style=\"text-align: right;\">876110</td><td style=\"text-align: right;\">135,981,152</td><td>rs137979001</td><td>0</td><td style=\"text-align: right;\">29</td><td style=\"text-align: right;\">19</td><td style=\"text-align: right;\">3.26</td><td style=\"text-align: right;\">7</td><td style=\"text-align: right;\">3.85</td><td style=\"text-align: right;\">3</td><td style=\"text-align: right;\">0.75</td><td style=\"text-align: right;\">0</td><td style=\"text-align: right;\">0.00</td><td style=\"text-align: right;\">0</td><td style=\"text-align: right;\">0.00</td><td style=\"text-align: right;\">0</td><td style=\"text-align: right;\">0.00</td><td style=\"text-align: right;\">0</td><td style=\"text-align: right;\">0.00</td></tr>\n",
       "<tr class=\"even\"><td style=\"text-align: right;\">876353</td><td style=\"text-align: right;\">136,024,681</td><td>rs74838637</td><td>0</td><td style=\"text-align: right;\">28</td><td style=\"text-align: right;\">19</td><td style=\"text-align: right;\">3.37</td><td style=\"text-align: right;\">7</td><td style=\"text-align: right;\">3.99</td><td style=\"text-align: right;\">2</td><td style=\"text-align: right;\">0.52</td><td style=\"text-align: right;\">0</td><td style=\"text-align: right;\">0.00</td><td style=\"text-align: right;\">0</td><td style=\"text-align: right;\">0.00</td><td style=\"text-align: right;\">0</td><td style=\"text-align: right;\">0.00</td><td style=\"text-align: right;\">0</td><td style=\"text-align: right;\">0.00</td></tr>\n",
       "<tr><td style=\"text-align: right;\">876421</td><td style=\"text-align: right;\">136,038,077</td><td>rs186528821</td><td>0</td><td style=\"text-align: right;\">28</td><td style=\"text-align: right;\">19</td><td style=\"text-align: right;\">3.37</td><td style=\"text-align: right;\">7</td><td style=\"text-align: right;\">3.99</td><td style=\"text-align: right;\">2</td><td style=\"text-align: right;\">0.52</td><td style=\"text-align: right;\">0</td><td style=\"text-align: right;\">0.00</td><td style=\"text-align: right;\">0</td><td style=\"text-align: right;\">0.00</td><td style=\"text-align: right;\">0</td><td style=\"text-align: right;\">0.00</td><td style=\"text-align: right;\">0</td><td style=\"text-align: right;\">0.00</td></tr>\n",
       "<tr class=\"even\"><td style=\"text-align: right;\">876723</td><td style=\"text-align: right;\">136,097,226</td><td>rs77516254</td><td>0</td><td style=\"text-align: right;\">28</td><td style=\"text-align: right;\">19</td><td style=\"text-align: right;\">3.37</td><td style=\"text-align: right;\">7</td><td style=\"text-align: right;\">3.99</td><td style=\"text-align: right;\">2</td><td style=\"text-align: right;\">0.52</td><td style=\"text-align: right;\">0</td><td style=\"text-align: right;\">0.00</td><td style=\"text-align: right;\">0</td><td style=\"text-align: right;\">0.00</td><td style=\"text-align: right;\">0</td><td style=\"text-align: right;\">0.00</td><td style=\"text-align: right;\">0</td><td style=\"text-align: right;\">0.00</td></tr>\n",
       "<tr><td style=\"text-align: right;\">876760</td><td style=\"text-align: right;\">136,101,953</td><td>rs80235154</td><td>0</td><td style=\"text-align: right;\">29</td><td style=\"text-align: right;\">19</td><td style=\"text-align: right;\">3.26</td><td style=\"text-align: right;\">7</td><td style=\"text-align: right;\">3.85</td><td style=\"text-align: right;\">3</td><td style=\"text-align: right;\">0.75</td><td style=\"text-align: right;\">0</td><td style=\"text-align: right;\">0.00</td><td style=\"text-align: right;\">0</td><td style=\"text-align: right;\">0.00</td><td style=\"text-align: right;\">0</td><td style=\"text-align: right;\">0.00</td><td style=\"text-align: right;\">0</td><td style=\"text-align: right;\">0.00</td></tr>\n",
       "<tr class=\"even\"><td style=\"text-align: right;\">876776</td><td style=\"text-align: right;\">136,105,148</td><td>rs140721145</td><td>0</td><td style=\"text-align: right;\">28</td><td style=\"text-align: right;\">19</td><td style=\"text-align: right;\">3.37</td><td style=\"text-align: right;\">7</td><td style=\"text-align: right;\">3.99</td><td style=\"text-align: right;\">2</td><td style=\"text-align: right;\">0.52</td><td style=\"text-align: right;\">0</td><td style=\"text-align: right;\">0.00</td><td style=\"text-align: right;\">0</td><td style=\"text-align: right;\">0.00</td><td style=\"text-align: right;\">0</td><td style=\"text-align: right;\">0.00</td><td style=\"text-align: right;\">0</td><td style=\"text-align: right;\">0.00</td></tr>\n",
       "<tr><td style=\"text-align: right;\">876788</td><td style=\"text-align: right;\">136,106,696</td><td>rs76266089</td><td>0</td><td style=\"text-align: right;\">28</td><td style=\"text-align: right;\">19</td><td style=\"text-align: right;\">3.37</td><td style=\"text-align: right;\">7</td><td style=\"text-align: right;\">3.99</td><td style=\"text-align: right;\">2</td><td style=\"text-align: right;\">0.52</td><td style=\"text-align: right;\">0</td><td style=\"text-align: right;\">0.00</td><td style=\"text-align: right;\">0</td><td style=\"text-align: right;\">0.00</td><td style=\"text-align: right;\">0</td><td style=\"text-align: right;\">0.00</td><td style=\"text-align: right;\">0</td><td style=\"text-align: right;\">0.00</td></tr>\n",
       "<tr class=\"even\"><td style=\"text-align: right;\">876997</td><td style=\"text-align: right;\">136,144,471</td><td>rs140767438</td><td>0</td><td style=\"text-align: right;\">29</td><td style=\"text-align: right;\">19</td><td style=\"text-align: right;\">3.26</td><td style=\"text-align: right;\">8</td><td style=\"text-align: right;\">4.40</td><td style=\"text-align: right;\">2</td><td style=\"text-align: right;\">0.50</td><td style=\"text-align: right;\">0</td><td style=\"text-align: right;\">0.00</td><td style=\"text-align: right;\">0</td><td style=\"text-align: right;\">0.00</td><td style=\"text-align: right;\">0</td><td style=\"text-align: right;\">0.00</td><td style=\"text-align: right;\">0</td><td style=\"text-align: right;\">0.00</td></tr>\n",
       "<tr><td style=\"text-align: right;\">877150</td><td style=\"text-align: right;\">136,165,664</td><td>.</td><td>0</td><td style=\"text-align: right;\">29</td><td style=\"text-align: right;\">19</td><td style=\"text-align: right;\">3.26</td><td style=\"text-align: right;\">8</td><td style=\"text-align: right;\">4.40</td><td style=\"text-align: right;\">2</td><td style=\"text-align: right;\">0.50</td><td style=\"text-align: right;\">0</td><td style=\"text-align: right;\">0.00</td><td style=\"text-align: right;\">0</td><td style=\"text-align: right;\">0.00</td><td style=\"text-align: right;\">0</td><td style=\"text-align: right;\">0.00</td><td style=\"text-align: right;\">0</td><td style=\"text-align: right;\">0.00</td></tr>\n",
       "<tr class=\"even\"><td style=\"text-align: right;\">877253</td><td style=\"text-align: right;\">136,181,766</td><td>rs74375122</td><td>0</td><td style=\"text-align: right;\">28</td><td style=\"text-align: right;\">19</td><td style=\"text-align: right;\">3.37</td><td style=\"text-align: right;\">7</td><td style=\"text-align: right;\">3.99</td><td style=\"text-align: right;\">2</td><td style=\"text-align: right;\">0.52</td><td style=\"text-align: right;\">0</td><td style=\"text-align: right;\">0.00</td><td style=\"text-align: right;\">0</td><td style=\"text-align: right;\">0.00</td><td style=\"text-align: right;\">0</td><td style=\"text-align: right;\">0.00</td><td style=\"text-align: right;\">0</td><td style=\"text-align: right;\">0.00</td></tr>\n",
       "<tr><td style=\"text-align: right;\">877601</td><td style=\"text-align: right;\">136,254,791</td><td>rs147905736</td><td>0</td><td style=\"text-align: right;\">28</td><td style=\"text-align: right;\">19</td><td style=\"text-align: right;\">3.37</td><td style=\"text-align: right;\">7</td><td style=\"text-align: right;\">3.99</td><td style=\"text-align: right;\">2</td><td style=\"text-align: right;\">0.52</td><td style=\"text-align: right;\">0</td><td style=\"text-align: right;\">0.00</td><td style=\"text-align: right;\">0</td><td style=\"text-align: right;\">0.00</td><td style=\"text-align: right;\">0</td><td style=\"text-align: right;\">0.00</td><td style=\"text-align: right;\">0</td><td style=\"text-align: right;\">0.00</td></tr>\n",
       "<tr class=\"even\"><td style=\"text-align: right;\">877679</td><td style=\"text-align: right;\">136,272,424</td><td>rs150951480</td><td>0</td><td style=\"text-align: right;\">28</td><td style=\"text-align: right;\">19</td><td style=\"text-align: right;\">3.37</td><td style=\"text-align: right;\">7</td><td style=\"text-align: right;\">3.99</td><td style=\"text-align: right;\">2</td><td style=\"text-align: right;\">0.52</td><td style=\"text-align: right;\">0</td><td style=\"text-align: right;\">0.00</td><td style=\"text-align: right;\">0</td><td style=\"text-align: right;\">0.00</td><td style=\"text-align: right;\">0</td><td style=\"text-align: right;\">0.00</td><td style=\"text-align: right;\">0</td><td style=\"text-align: right;\">0.00</td></tr>\n",
       "<tr><td style=\"text-align: right;\">877740</td><td style=\"text-align: right;\">136,285,987</td><td>rs139473668</td><td>0</td><td style=\"text-align: right;\">28</td><td style=\"text-align: right;\">19</td><td style=\"text-align: right;\">3.37</td><td style=\"text-align: right;\">7</td><td style=\"text-align: right;\">3.99</td><td style=\"text-align: right;\">2</td><td style=\"text-align: right;\">0.52</td><td style=\"text-align: right;\">0</td><td style=\"text-align: right;\">0.00</td><td style=\"text-align: right;\">0</td><td style=\"text-align: right;\">0.00</td><td style=\"text-align: right;\">0</td><td style=\"text-align: right;\">0.00</td><td style=\"text-align: right;\">0</td><td style=\"text-align: right;\">0.00</td></tr>\n",
       "<tr class=\"even\"><td style=\"text-align: right;\">877787</td><td style=\"text-align: right;\">136,297,654</td><td>rs148444122</td><td>0</td><td style=\"text-align: right;\">28</td><td style=\"text-align: right;\">19</td><td style=\"text-align: right;\">3.37</td><td style=\"text-align: right;\">7</td><td style=\"text-align: right;\">3.99</td><td style=\"text-align: right;\">2</td><td style=\"text-align: right;\">0.52</td><td style=\"text-align: right;\">0</td><td style=\"text-align: right;\">0.00</td><td style=\"text-align: right;\">0</td><td style=\"text-align: right;\">0.00</td><td style=\"text-align: right;\">0</td><td style=\"text-align: right;\">0.00</td><td style=\"text-align: right;\">0</td><td style=\"text-align: right;\">0.00</td></tr>\n",
       "<tr><td style=\"text-align: right;\">877808</td><td style=\"text-align: right;\">136,301,099</td><td>rs138004610</td><td>0</td><td style=\"text-align: right;\">28</td><td style=\"text-align: right;\">19</td><td style=\"text-align: right;\">3.37</td><td style=\"text-align: right;\">7</td><td style=\"text-align: right;\">3.99</td><td style=\"text-align: right;\">2</td><td style=\"text-align: right;\">0.52</td><td style=\"text-align: right;\">0</td><td style=\"text-align: right;\">0.00</td><td style=\"text-align: right;\">0</td><td style=\"text-align: right;\">0.00</td><td style=\"text-align: right;\">0</td><td style=\"text-align: right;\">0.00</td><td style=\"text-align: right;\">0</td><td style=\"text-align: right;\">0.00</td></tr>\n",
       "<tr class=\"even\"><td style=\"text-align: right;\">877951</td><td style=\"text-align: right;\">136,332,306</td><td>rs145685361</td><td>0</td><td style=\"text-align: right;\">28</td><td style=\"text-align: right;\">19</td><td style=\"text-align: right;\">3.37</td><td style=\"text-align: right;\">7</td><td style=\"text-align: right;\">3.99</td><td style=\"text-align: right;\">2</td><td style=\"text-align: right;\">0.52</td><td style=\"text-align: right;\">0</td><td style=\"text-align: right;\">0.00</td><td style=\"text-align: right;\">0</td><td style=\"text-align: right;\">0.00</td><td style=\"text-align: right;\">0</td><td style=\"text-align: right;\">0.00</td><td style=\"text-align: right;\">0</td><td style=\"text-align: right;\">0.00</td></tr>\n",
       "<tr><td style=\"text-align: right;\">877984</td><td style=\"text-align: right;\">136,342,800</td><td>rs142190197</td><td>0</td><td style=\"text-align: right;\">28</td><td style=\"text-align: right;\">19</td><td style=\"text-align: right;\">3.37</td><td style=\"text-align: right;\">7</td><td style=\"text-align: right;\">3.99</td><td style=\"text-align: right;\">2</td><td style=\"text-align: right;\">0.52</td><td style=\"text-align: right;\">0</td><td style=\"text-align: right;\">0.00</td><td style=\"text-align: right;\">0</td><td style=\"text-align: right;\">0.00</td><td style=\"text-align: right;\">0</td><td style=\"text-align: right;\">0.00</td><td style=\"text-align: right;\">0</td><td style=\"text-align: right;\">0.00</td></tr>\n",
       "<tr class=\"even\"><td style=\"text-align: right;\">878089</td><td style=\"text-align: right;\">136,370,517</td><td>rs142094717</td><td>0</td><td style=\"text-align: right;\">29</td><td style=\"text-align: right;\">19</td><td style=\"text-align: right;\">3.26</td><td style=\"text-align: right;\">7</td><td style=\"text-align: right;\">3.85</td><td style=\"text-align: right;\">3</td><td style=\"text-align: right;\">0.75</td><td style=\"text-align: right;\">0</td><td style=\"text-align: right;\">0.00</td><td style=\"text-align: right;\">0</td><td style=\"text-align: right;\">0.00</td><td style=\"text-align: right;\">0</td><td style=\"text-align: right;\">0.00</td><td style=\"text-align: right;\">0</td><td style=\"text-align: right;\">0.00</td></tr>\n",
       "<tr><td style=\"text-align: right;\">878118</td><td style=\"text-align: right;\">136,378,974</td><td>rs75260513</td><td>0</td><td style=\"text-align: right;\">28</td><td style=\"text-align: right;\">19</td><td style=\"text-align: right;\">3.37</td><td style=\"text-align: right;\">7</td><td style=\"text-align: right;\">3.99</td><td style=\"text-align: right;\">2</td><td style=\"text-align: right;\">0.52</td><td style=\"text-align: right;\">0</td><td style=\"text-align: right;\">0.00</td><td style=\"text-align: right;\">0</td><td style=\"text-align: right;\">0.00</td><td style=\"text-align: right;\">0</td><td style=\"text-align: right;\">0.00</td><td style=\"text-align: right;\">0</td><td style=\"text-align: right;\">0.00</td></tr>\n",
       "<tr class=\"even\"><td style=\"text-align: right;\">878168</td><td style=\"text-align: right;\">136,390,282</td><td>rs12992340</td><td>0</td><td style=\"text-align: right;\">27</td><td style=\"text-align: right;\">18</td><td style=\"text-align: right;\">3.31</td><td style=\"text-align: right;\">7</td><td style=\"text-align: right;\">4.13</td><td style=\"text-align: right;\">2</td><td style=\"text-align: right;\">0.53</td><td style=\"text-align: right;\">0</td><td style=\"text-align: right;\">0.00</td><td style=\"text-align: right;\">0</td><td style=\"text-align: right;\">0.00</td><td style=\"text-align: right;\">0</td><td style=\"text-align: right;\">0.00</td><td style=\"text-align: right;\">0</td><td style=\"text-align: right;\">0.00</td></tr>\n",
       "<tr><td style=\"text-align: right;\">878236</td><td style=\"text-align: right;\">136,406,419</td><td>rs74692958</td><td>0</td><td style=\"text-align: right;\">28</td><td style=\"text-align: right;\">18</td><td style=\"text-align: right;\">3.19</td><td style=\"text-align: right;\">7</td><td style=\"text-align: right;\">3.99</td><td style=\"text-align: right;\">2</td><td style=\"text-align: right;\">0.52</td><td style=\"text-align: right;\">0</td><td style=\"text-align: right;\">0.00</td><td style=\"text-align: right;\">0</td><td style=\"text-align: right;\">0.00</td><td style=\"text-align: right;\">0</td><td style=\"text-align: right;\">0.00</td><td style=\"text-align: right;\">1</td><td style=\"text-align: right;\">0.29</td></tr>\n",
       "<tr class=\"even\"><td style=\"text-align: right;\">878409</td><td style=\"text-align: right;\">136,440,339</td><td>rs190386327</td><td>0</td><td style=\"text-align: right;\">27</td><td style=\"text-align: right;\">18</td><td style=\"text-align: right;\">3.31</td><td style=\"text-align: right;\">7</td><td style=\"text-align: right;\">4.13</td><td style=\"text-align: right;\">2</td><td style=\"text-align: right;\">0.53</td><td style=\"text-align: right;\">0</td><td style=\"text-align: right;\">0.00</td><td style=\"text-align: right;\">0</td><td style=\"text-align: right;\">0.00</td><td style=\"text-align: right;\">0</td><td style=\"text-align: right;\">0.00</td><td style=\"text-align: right;\">0</td><td style=\"text-align: right;\">0.00</td></tr>\n",
       "<tr><td style=\"text-align: right;\">878596</td><td style=\"text-align: right;\">136,481,338</td><td>rs181257615</td><td>0</td><td style=\"text-align: right;\">27</td><td style=\"text-align: right;\">18</td><td style=\"text-align: right;\">3.31</td><td style=\"text-align: right;\">7</td><td style=\"text-align: right;\">4.13</td><td style=\"text-align: right;\">2</td><td style=\"text-align: right;\">0.53</td><td style=\"text-align: right;\">0</td><td style=\"text-align: right;\">0.00</td><td style=\"text-align: right;\">0</td><td style=\"text-align: right;\">0.00</td><td style=\"text-align: right;\">0</td><td style=\"text-align: right;\">0.00</td><td style=\"text-align: right;\">0</td><td style=\"text-align: right;\">0.00</td></tr>\n",
       "<tr class=\"even\"><td style=\"text-align: right;\">878611</td><td style=\"text-align: right;\">136,484,679</td><td>rs145306988</td><td>0</td><td style=\"text-align: right;\">28</td><td style=\"text-align: right;\">18</td><td style=\"text-align: right;\">3.19</td><td style=\"text-align: right;\">8</td><td style=\"text-align: right;\">4.56</td><td style=\"text-align: right;\">2</td><td style=\"text-align: right;\">0.52</td><td style=\"text-align: right;\">0</td><td style=\"text-align: right;\">0.00</td><td style=\"text-align: right;\">0</td><td style=\"text-align: right;\">0.00</td><td style=\"text-align: right;\">0</td><td style=\"text-align: right;\">0.00</td><td style=\"text-align: right;\">0</td><td style=\"text-align: right;\">0.00</td></tr>\n",
       "</table>"
      ],
      "text/plain": [
       "<IPython.core.display.HTML object>"
      ]
     },
     "execution_count": 2,
     "metadata": {},
     "output_type": "execute_result"
    }
   ],
   "source": [
    "HTML(dm.series_html(dm.di_25_27))"
   ]
  },
  {
   "cell_type": "code",
   "execution_count": 3,
   "metadata": {
    "collapsed": false
   },
   "outputs": [
    {
     "data": {
      "text/html": [
       "\n",
       "\n",
       "    <div class=\"bk-root\">\n",
       "        <div class=\"plotdiv\" id=\"beb8fc60-df10-4cc5-a02d-2902f45a2851\"></div>\n",
       "    </div>\n",
       "<script type=\"text/javascript\">\n",
       "  \n",
       "  (function(global) {\n",
       "    function now() {\n",
       "      return new Date();\n",
       "    }\n",
       "  \n",
       "    if (typeof (window._bokeh_onload_callbacks) === \"undefined\") {\n",
       "      window._bokeh_onload_callbacks = [];\n",
       "    }\n",
       "  \n",
       "    function run_callbacks() {\n",
       "      window._bokeh_onload_callbacks.forEach(function(callback) { callback() });\n",
       "      delete window._bokeh_onload_callbacks\n",
       "      console.info(\"Bokeh: all callbacks have finished\");\n",
       "    }\n",
       "  \n",
       "    function load_libs(js_urls, callback) {\n",
       "      window._bokeh_onload_callbacks.push(callback);\n",
       "      if (window._bokeh_is_loading > 0) {\n",
       "        console.log(\"Bokeh: BokehJS is being loaded, scheduling callback at\", now());\n",
       "        return null;\n",
       "      }\n",
       "      if (js_urls == null || js_urls.length === 0) {\n",
       "        run_callbacks();\n",
       "        return null;\n",
       "      }\n",
       "      console.log(\"Bokeh: BokehJS not loaded, scheduling load and callback at\", now());\n",
       "      window._bokeh_is_loading = js_urls.length;\n",
       "      for (var i = 0; i < js_urls.length; i++) {\n",
       "        var url = js_urls[i];\n",
       "        var s = document.createElement('script');\n",
       "        s.src = url;\n",
       "        s.async = false;\n",
       "        s.onreadystatechange = s.onload = function() {\n",
       "          window._bokeh_is_loading--;\n",
       "          if (window._bokeh_is_loading === 0) {\n",
       "            console.log(\"Bokeh: all BokehJS libraries loaded\");\n",
       "            run_callbacks()\n",
       "          }\n",
       "        };\n",
       "        s.onerror = function() {\n",
       "          console.warn(\"failed to load library \" + url);\n",
       "        };\n",
       "        console.log(\"Bokeh: injecting script tag for BokehJS library: \", url);\n",
       "        document.getElementsByTagName(\"head\")[0].appendChild(s);\n",
       "      }\n",
       "    };var element = document.getElementById(\"beb8fc60-df10-4cc5-a02d-2902f45a2851\");\n",
       "    if (element == null) {\n",
       "      console.log(\"Bokeh: ERROR: autoload.js configured with elementid 'beb8fc60-df10-4cc5-a02d-2902f45a2851' but no matching script tag was found. \")\n",
       "      return false;\n",
       "    }\n",
       "  \n",
       "    var js_urls = [];\n",
       "  \n",
       "    var inline_js = [\n",
       "      function(Bokeh) {\n",
       "        Bokeh.$(function() {\n",
       "            var docs_json = {\"90c464b9-a8b0-42f7-b263-6cc2957d4d6f\":{\"roots\":{\"references\":[{\"attributes\":{\"bottom\":{\"field\":\"bottom\"},\"fill_alpha\":{\"value\":0.1},\"fill_color\":{\"value\":\"#1f77b4\"},\"left\":{\"field\":\"left\"},\"line_alpha\":{\"value\":0.1},\"line_color\":{\"value\":\"#1f77b4\"},\"right\":{\"field\":\"right\"},\"top\":{\"field\":\"top\"}},\"id\":\"85242918-acf7-444b-967e-24bca19653a5\",\"type\":\"Quad\"},{\"attributes\":{\"bottom\":{\"field\":\"bottom\"},\"fill_color\":{\"field\":\"fill_color\"},\"left\":{\"field\":\"left\"},\"line_color\":{\"value\":null},\"right\":{\"field\":\"right\"},\"top\":{\"field\":\"top\"}},\"id\":\"7215b4c9-c9a0-4e9d-89e6-f0c21e50b99f\",\"type\":\"Quad\"},{\"attributes\":{\"plot\":{\"id\":\"49ebe600-ef4f-43e2-a9a0-2da421e7d67a\",\"subtype\":\"Figure\",\"type\":\"Plot\"}},\"id\":\"adbd0d48-adee-430d-a744-e3ff02a1b2f2\",\"type\":\"HelpTool\"},{\"attributes\":{\"data_source\":{\"id\":\"e31e2030-6006-4636-9593-7be1aeb7c280\",\"type\":\"ColumnDataSource\"},\"glyph\":{\"id\":\"6d99f467-a6a8-4fd1-8da6-efca52834031\",\"type\":\"Quad\"},\"hover_glyph\":null,\"nonselection_glyph\":{\"id\":\"85242918-acf7-444b-967e-24bca19653a5\",\"type\":\"Quad\"},\"selection_glyph\":null},\"id\":\"0d4230ff-a656-48c6-ad9e-645a1a8956f4\",\"type\":\"GlyphRenderer\"},{\"attributes\":{},\"id\":\"145f406e-6417-4abf-aa04-de6b6254ad84\",\"type\":\"BasicTickFormatter\"},{\"attributes\":{\"plot\":{\"id\":\"49ebe600-ef4f-43e2-a9a0-2da421e7d67a\",\"subtype\":\"Figure\",\"type\":\"Plot\"}},\"id\":\"ceddb5a0-1faf-4acf-b8ac-64baa6a12ee1\",\"type\":\"SaveTool\"},{\"attributes\":{\"callback\":null,\"column_names\":[\"xs\",\"ys\",\"line_color\"],\"data\":{\"line_color\":[\"black\",\"black\",\"black\",\"black\",\"black\",\"black\",\"black\",\"black\",\"black\",\"black\",\"black\",\"black\",\"black\",\"black\",\"black\",\"black\",\"black\",\"black\",\"black\",\"black\",\"black\",\"black\",\"black\",\"black\",\"black\",\"black\",\"black\",\"black\",\"black\",\"black\",\"black\",\"black\",\"black\",\"black\",\"black\",\"black\",\"black\",\"black\",\"black\",\"black\",\"black\",\"black\",\"black\",\"black\",\"black\",\"black\",\"black\",\"black\",\"black\",\"black\",\"black\",\"black\",\"black\",\"black\",\"black\",\"black\",\"black\",\"black\",\"black\",\"black\",\"black\",\"black\",\"black\",\"black\",\"black\",\"black\",\"black\",\"black\",\"black\",\"black\",\"black\",\"black\",\"black\",\"black\",\"black\",\"black\",\"black\",\"black\",\"black\",\"black\",\"black\",\"black\",\"black\",\"black\",\"black\",\"black\",\"black\",\"black\",\"black\",\"black\",\"black\",\"black\",\"black\",\"black\",\"black\",\"black\",\"black\",\"black\",\"black\",\"black\",\"black\",\"black\",\"black\",\"black\",\"black\",\"black\",\"black\",\"black\",\"black\",\"black\",\"black\",\"black\",\"black\",\"black\",\"black\",\"black\",\"black\",\"black\",\"black\",\"black\",\"black\",\"black\",\"black\",\"black\",\"black\",\"black\",\"black\",\"black\",\"black\",\"black\",\"black\",\"black\",\"black\",\"black\",\"black\",\"black\",\"black\",\"black\",\"black\",\"black\",\"black\",\"black\",\"black\",\"black\",\"black\",\"black\",\"black\",\"black\",\"black\",\"black\",\"black\",\"black\",\"black\",\"black\",\"black\",\"black\",\"black\",\"black\",\"black\",\"black\",\"black\",\"black\",\"black\",\"black\",\"black\",\"black\",\"black\",\"black\",\"black\",\"black\",\"black\",\"black\",\"black\",\"black\",\"black\",\"black\",\"black\",\"black\",\"black\",\"black\",\"black\",\"black\",\"black\",\"black\",\"black\",\"black\",\"black\",\"black\",\"black\",\"black\",\"black\",\"black\",\"black\",\"black\",\"black\",\"black\",\"black\",\"black\",\"black\",\"black\",\"black\",\"black\",\"black\",\"black\",\"black\",\"black\",\"black\",\"black\",\"black\",\"black\",\"black\",\"black\",\"black\",\"black\",\"black\",\"black\",\"black\",\"black\",\"black\",\"black\",\"black\",\"black\",\"black\",\"black\",\"black\",\"black\",\"black\",\"black\",\"black\",\"black\",\"black\",\"black\",\"black\",\"black\",\"black\",\"black\",\"black\",\"black\",\"black\",\"black\",\"black\",\"black\",\"black\",\"black\",\"black\",\"black\",\"black\",\"black\",\"black\",\"black\",\"black\",\"black\",\"black\",\"black\",\"black\",\"black\",\"black\",\"black\",\"black\",\"black\",\"black\",\"black\",\"black\",\"black\",\"black\",\"black\",\"black\",\"black\",\"black\",\"black\",\"black\",\"black\",\"black\",\"black\",\"black\",\"black\",\"black\",\"black\",\"black\",\"black\",\"black\",\"black\",\"black\",\"black\",\"black\",\"black\",\"black\",\"black\",\"black\",\"black\",\"black\",\"black\",\"black\",\"black\",\"black\",\"black\",\"black\",\"black\",\"black\",\"black\",\"black\",\"black\",\"black\",\"black\",\"black\",\"black\",\"black\",\"black\",\"black\",\"black\",\"black\",\"black\",\"black\",\"black\",\"black\",\"black\",\"black\",\"black\",\"black\",\"black\",\"black\",\"black\",\"black\",\"black\",\"black\",\"black\",\"black\",\"black\",\"black\",\"black\",\"black\",\"black\",\"black\",\"black\",\"black\",\"black\",\"black\",\"black\",\"black\",\"black\",\"black\",\"black\",\"black\",\"black\",\"black\",\"black\",\"black\",\"black\",\"black\",\"black\",\"black\",\"black\",\"black\",\"black\",\"black\",\"black\",\"black\",\"black\",\"black\",\"black\",\"black\",\"black\",\"black\",\"black\",\"black\",\"black\",\"black\",\"black\",\"black\",\"black\",\"black\",\"black\",\"black\",\"black\",\"black\",\"black\",\"black\",\"black\",\"black\",\"black\",\"black\",\"black\",\"black\",\"black\",\"black\",\"black\",\"black\",\"black\",\"black\",\"black\",\"black\",\"black\",\"black\",\"black\",\"black\",\"black\",\"black\",\"black\",\"black\",\"black\",\"black\",\"black\",\"black\",\"black\",\"black\",\"black\",\"black\",\"black\",\"black\",\"black\",\"black\",\"black\",\"black\",\"black\",\"black\",\"black\",\"black\",\"black\",\"black\",\"black\",\"black\",\"black\",\"black\",\"black\",\"black\",\"black\",\"black\",\"black\",\"black\",\"black\",\"black\",\"black\",\"black\",\"black\",\"black\",\"black\",\"black\",\"black\",\"black\",\"black\",\"black\",\"black\",\"black\",\"black\",\"black\",\"black\",\"black\",\"black\",\"black\",\"black\",\"black\",\"black\",\"black\",\"black\",\"black\",\"black\",\"black\",\"black\",\"black\",\"black\",\"black\",\"black\",\"black\",\"black\",\"black\",\"black\",\"black\",\"black\",\"black\",\"black\",\"black\",\"black\",\"black\",\"black\",\"black\",\"black\",\"black\",\"black\",\"black\",\"black\",\"black\",\"black\",\"black\",\"black\",\"black\",\"black\",\"black\",\"black\",\"black\",\"black\",\"black\",\"black\",\"black\",\"black\",\"black\",\"black\",\"black\",\"black\",\"black\",\"black\",\"black\",\"black\",\"black\",\"black\",\"black\",\"black\",\"black\",\"black\",\"black\"],\"xs\":[[135758231,135758231],[135758520,135758520],[135766072,135766072],[135773420,135773420],[135773446,135773446],[135773617,135773617],[135773692,135773692],[135774681,135774681],[135775049,135775049],[135776430,135776430],[135778656,135778656],[135780168,135780168],[135780587,135780587],[135781301,135781301],[135781522,135781522],[135781635,135781635],[135782456,135782456],[135783157,135783157],[135783366,135783366],[135783367,135783367],[135784227,135784227],[135784733,135784733],[135785066,135785066],[135785068,135785068],[135785149,135785149],[135787148,135787148],[135787642,135787642],[135789405,135789405],[135789472,135789472],[135789682,135789682],[135789784,135789784],[135792338,135792338],[135792528,135792528],[135793565,135793565],[135793684,135793684],[135793845,135793845],[135794367,135794367],[135794986,135794986],[135795040,135795040],[135795095,135795095],[135795150,135795150],[135795385,135795385],[135795396,135795396],[135795443,135795443],[135795595,135795595],[135796000,135796000],[135796155,135796155],[135796410,135796410],[135796965,135796965],[135797223,135797223],[135797747,135797747],[135798082,135798082],[135798758,135798758],[135799082,135799082],[135800085,135800085],[135800601,135800601],[135800757,135800757],[135801228,135801228],[135801956,135801956],[135802020,135802020],[135802028,135802028],[135802050,135802050],[135802148,135802148],[135803766,135803766],[135809241,135809241],[135812969,135812969],[135814716,135814716],[135818907,135818907],[135829432,135829432],[135832131,135832131],[135849613,135849613],[135853807,135853807],[135859923,135859923],[135860305,135860305],[135861497,135861497],[135863143,135863143],[135864294,135864294],[135871624,135871624],[135872646,135872646],[135874038,135874038],[135874622,135874622],[135878814,135878814],[135880013,135880013],[135884487,135884487],[135885357,135885357],[135893853,135893853],[135895809,135895809],[135895879,135895879],[135899069,135899069],[135909462,135909462],[135912977,135912977],[135914038,135914038],[135921839,135921839],[135925002,135925002],[135928312,135928312],[135935049,135935049],[135962711,135962711],[135984172,135984172],[135994753,135994753],[135994754,135994754],[136016079,136016079],[136027264,136027264],[136052004,136052004],[136100473,136100473],[136110129,136110129],[136166536,136166536],[136169799,136169799],[136191314,136191314],[136228887,136228887],[136238453,136238453],[136288273,136288273],[136292425,136292425],[136321951,136321951],[136324564,136324564],[136327299,136327299],[136327302,136327302],[136376515,136376515],[135933921,135933921],[135939824,135939824],[135941503,135941503],[135943900,135943900],[135945474,135945474],[135949715,135949715],[135956745,135956745],[135958693,135958693],[135967778,135967778],[135972093,135972093],[135973768,135973768],[135976498,135976498],[135978428,135978428],[135990031,135990031],[135992481,135992481],[135993925,135993925],[135994838,135994838],[136000253,136000253],[136003567,136003567],[136005477,136005477],[136005971,136005971],[136020977,136020977],[136027535,136027535],[136031588,136031588],[136032905,136032905],[136042480,136042480],[136043885,136043885],[136050471,136050471],[136052898,136052898],[136054815,136054815],[136056285,136056285],[136061560,136061560],[136063685,136063685],[136069060,136069060],[136072179,136072179],[136074233,136074233],[136080721,136080721],[136080822,136080822],[136088440,136088440],[136088643,136088643],[136092416,136092416],[136092869,136092869],[136094615,136094615],[136095505,136095505],[136095604,136095604],[136096766,136096766],[136097091,136097091],[136097394,136097394],[136100243,136100243],[136101823,136101823],[136106561,136106561],[136115501,136115501],[136122622,136122622],[136123014,136123014],[136123848,136123848],[136127100,136127100],[136127950,136127950],[136128630,136128630],[136129630,136129630],[136129791,136129791],[136131324,136131324],[136135383,136135383],[136135994,136135994],[136136224,136136224],[136136366,136136366],[136136440,136136440],[136138145,136138145],[136140568,136140568],[136145882,136145882],[136147948,136147948],[136148630,136148630],[136151485,136151485],[136152802,136152802],[136156753,136156753],[136157913,136157913],[136160902,136160902],[136165765,136165765],[136171649,136171649],[136173220,136173220],[136173735,136173735],[136174552,136174552],[136175692,136175692],[136176805,136176805],[136182484,136182484],[136183188,136183188],[136187252,136187252],[136187345,136187345],[136189475,136189475],[136197702,136197702],[136198435,136198435],[136202937,136202937],[136219999,136219999],[136221500,136221500],[136226626,136226626],[136228929,136228929],[136229598,136229598],[136238270,136238270],[136238346,136238346],[136240769,136240769],[136244171,136244171],[136249245,136249245],[136250285,136250285],[136254419,136254419],[136266241,136266241],[136267808,136267808],[136272074,136272074],[136277304,136277304],[136290607,136290607],[136290663,136290663],[136291310,136291310],[136296051,136296051],[136305392,136305392],[136306890,136306890],[136310803,136310803],[136324225,136324225],[136324465,136324465],[136327305,136327305],[136329618,136329618],[136333300,136333300],[136350089,136350089],[136354204,136354204],[136360455,136360455],[136368563,136368563],[135956166,135956166],[135981152,135981152],[136024681,136024681],[136038077,136038077],[136097226,136097226],[136101953,136101953],[136105148,136105148],[136106696,136106696],[136144471,136144471],[136165664,136165664],[136181766,136181766],[136254791,136254791],[136272424,136272424],[136285987,136285987],[136297654,136297654],[136301099,136301099],[136332306,136332306],[136342800,136342800],[136370517,136370517],[136378974,136378974],[136390282,136390282],[136406419,136406419],[136440339,136440339],[136481338,136481338],[136484679,136484679],[136008173,136008173],[136008446,136008446],[136014236,136014236],[136036997,136036997],[136037702,136037702],[136040078,136040078],[136046601,136046601],[136048235,136048235],[136050624,136050624],[136051458,136051458],[136053800,136053800],[136069666,136069666],[136070320,136070320],[136071268,136071268],[136085307,136085307],[136107478,136107478],[136116965,136116965],[136119487,136119487],[136133726,136133726],[136136964,136136964],[136137013,136137013],[136141365,136141365],[136151898,136151898],[136153771,136153771],[136157319,136157319],[136157786,136157786],[136160634,136160634],[136161546,136161546],[136161613,136161613],[136163239,136163239],[136166288,136166288],[136171078,136171078],[136174848,136174848],[136177152,136177152],[136188784,136188784],[136191498,136191498],[136192069,136192069],[136192914,136192914],[136202038,136202038],[136206988,136206988],[136208169,136208169],[136211700,136211700],[136214800,136214800],[136223293,136223293],[136238330,136238330],[136242667,136242667],[136249834,136249834],[136255405,136255405],[136261219,136261219],[136264924,136264924],[136265494,136265494],[136267386,136267386],[136267415,136267415],[136277320,136277320],[136279720,136279720],[136279756,136279756],[136283113,136283113],[136299020,136299020],[136304442,136304442],[136308679,136308679],[136319192,136319192],[136324543,136324543],[136330131,136330131],[136347919,136347919],[136353065,136353065],[136360339,136360339],[136370954,136370954],[136371399,136371399],[136376994,136376994],[136381251,136381251],[136033448,136033448],[136045628,136045628],[136081974,136081974],[136220746,136220746],[136322033,136322033],[136376416,136376416],[136412169,136412169],[136056699,136056699],[136316658,136316658],[136390794,136390794],[136421460,136421460],[136433902,136433902],[136115507,136115507],[136133627,136133627],[136135820,136135820],[136145676,136145676],[136166014,136166014],[136173684,136173684],[136176031,136176031],[136214307,136214307],[136215590,136215590],[136219265,136219265],[136219831,136219831],[136289471,136289471],[136298739,136298739],[136302296,136302296],[136302897,136302897],[136348702,136348702],[136348964,136348964],[136358707,136358707],[136359608,136359608],[136360402,136360402],[136365624,136365624],[136366970,136366970],[136367871,136367871],[136368393,136368393],[136370701,136370701],[136378539,136378539],[136378895,136378895],[136385280,136385280],[136309239,136309239],[136322472,136322472],[136323787,136323787],[136323862,136323862],[136326765,136326765],[136329500,136329500],[136331657,136331657],[136345356,136345356],[136361560,136361560],[136364916,136364916],[136369497,136369497],[136369580,136369580],[136380846,136380846],[136387893,136387893],[136402778,136402778],[136402779,136402779],[136402780,136402780],[136402781,136402781],[136403272,136403272],[136406356,136406356],[136407068,136407068],[136414770,136414770],[136415861,136415861],[136416407,136416407],[136420009,136420009],[136429439,136429439],[136438468,136438468],[136444542,136444542],[136448142,136448142],[136452728,136452728],[136453540,136453540],[136455296,136455296],[136458856,136458856],[136467559,136467559],[136493430,136493430],[136406646,136406646],[136408821,136408821],[136412472,136412472],[136416959,136416959],[136438078,136438078],[136448855,136448855],[136456090,136456090],[136456675,136456675],[136466831,136466831],[136497006,136497006],[136501661,136501661],[136504728,136504728],[136507878,136507878],[136545910,136545910],[136548951,136548951],[136554041,136554041],[136555054,136555054],[136555957,136555957],[136562876,136562876],[136563725,136563725],[136565901,136565901],[136567203,136567203],[136574563,136574563],[136581775,136581775],[136584623,136584623],[136587297,136587297],[136588380,136588380],[136588738,136588738],[136509361,136509361],[136509955,136509955],[136510059,136510059],[136516416,136516416],[136522394,136522394],[136523911,136523911],[136527801,136527801],[136530264,136530264],[136530476,136530476],[136532528,136532528],[136538117,136538117],[136588031,136588031],[136589278,136589278],[136589379,136589379],[136589741,136589741],[136590746,136590746],[136593553,136593553],[136593678,136593678],[136589521,136589521],[136590781,136590781],[136591977,136591977],[136592979,136592979],[136593065,136593065],[136593066,136593066],[136593077,136593077],[136593079,136593079],[136593136,136593136],[136593809,136593809],[136596836,136596836],[136619277,136619277],[136622982,136622982],[136631545,136631545],[136634340,136634340],[136638199,136638199],[136642012,136642012],[136602291,136602291],[136607932,136607932],[136616036,136616036],[136617917,136617917],[136619615,136619615],[136627507,136627507],[136629987,136629987],[136603638,136603638],[136603690,136603690],[136604210,136604210],[136604345,136604345],[136604346,136604346],[136605111,136605111],[136612598,136612598],[136614955,136614955],[136619114,136619114],[136619213,136619213],[136623900,136623900],[136624123,136624123],[136624155,136624155],[136630170,136630170],[136631415,136631415],[136632125,136632125],[136633976,136633976],[136674547,136674547],[136720711,136720711],[136722941,136722941],[136733249,136733249],[136742820,136742820],[136682274,136682274],[136691825,136691825],[136698098,136698098],[136721603,136721603],[136721995,136721995],[136755684,136755684],[136775898,136775898]],\"ys\":[[850,896],[850,896],[850,896],[850,896],[850,896],[850,896],[850,896],[850,896],[850,896],[850,896],[850,896],[850,896],[850,896],[850,896],[850,896],[850,896],[850,896],[850,896],[850,896],[850,896],[850,896],[850,896],[850,896],[850,896],[850,896],[850,896],[850,896],[850,896],[850,896],[850,896],[850,896],[850,896],[850,896],[850,896],[850,896],[850,896],[850,896],[850,896],[850,896],[850,896],[850,896],[850,896],[850,896],[850,896],[850,896],[850,896],[850,896],[850,896],[850,896],[850,896],[850,896],[850,896],[850,896],[850,896],[850,896],[850,896],[850,896],[850,896],[850,896],[850,896],[850,896],[850,896],[850,896],[850,896],[850,896],[850,896],[850,896],[850,896],[850,896],[850,896],[850,896],[850,896],[850,896],[850,896],[850,896],[850,896],[850,896],[850,896],[850,896],[850,896],[850,896],[850,896],[850,896],[850,896],[850,896],[850,896],[850,896],[850,896],[850,896],[850,896],[850,896],[850,896],[850,896],[850,896],[850,896],[850,896],[850,896],[850,896],[850,896],[850,896],[850,896],[850,896],[850,896],[850,896],[850,896],[850,896],[850,896],[850,896],[850,896],[850,896],[850,896],[850,896],[850,896],[850,896],[850,896],[850,896],[850,896],[750,795],[750,795],[750,795],[750,795],[750,795],[750,795],[750,795],[750,795],[750,795],[750,795],[750,795],[750,795],[750,795],[750,795],[750,795],[750,795],[750,795],[750,795],[750,795],[750,795],[750,795],[750,795],[750,795],[750,795],[750,795],[750,795],[750,795],[750,795],[750,795],[750,795],[750,795],[750,795],[750,795],[750,795],[750,795],[750,795],[750,795],[750,795],[750,795],[750,795],[750,795],[750,795],[750,795],[750,795],[750,795],[750,795],[750,795],[750,795],[750,795],[750,795],[750,795],[750,795],[750,795],[750,795],[750,795],[750,795],[750,795],[750,795],[750,795],[750,795],[750,795],[750,795],[750,795],[750,795],[750,795],[750,795],[750,795],[750,795],[750,795],[750,795],[750,795],[750,795],[750,795],[750,795],[750,795],[750,795],[750,795],[750,795],[750,795],[750,795],[750,795],[750,795],[750,795],[750,795],[750,795],[750,795],[750,795],[750,795],[750,795],[750,795],[750,795],[750,795],[750,795],[750,795],[750,795],[750,795],[750,795],[750,795],[750,795],[750,795],[750,795],[750,795],[750,795],[750,795],[750,795],[750,795],[750,795],[750,795],[750,795],[750,795],[750,795],[750,795],[750,795],[750,795],[750,795],[750,795],[750,795],[750,795],[750,795],[750,795],[750,795],[750,795],[750,795],[50,60],[50,60],[50,60],[50,60],[50,60],[50,60],[50,60],[50,60],[50,60],[50,60],[50,60],[50,60],[50,60],[50,60],[50,60],[50,60],[50,60],[50,60],[50,60],[50,60],[50,60],[50,60],[50,60],[50,60],[50,60],[350,376],[350,376],[350,376],[350,376],[350,376],[350,376],[350,376],[350,376],[350,376],[350,376],[350,376],[350,376],[350,376],[350,376],[350,376],[350,376],[350,376],[350,376],[350,376],[350,376],[350,376],[350,376],[350,376],[350,376],[350,376],[350,376],[350,376],[350,376],[350,376],[350,376],[350,376],[350,376],[350,376],[350,376],[350,376],[350,376],[350,376],[350,376],[350,376],[350,376],[350,376],[350,376],[350,376],[350,376],[350,376],[350,376],[350,376],[350,376],[350,376],[350,376],[350,376],[350,376],[350,376],[350,376],[350,376],[350,376],[350,376],[350,376],[350,376],[350,376],[350,376],[350,376],[350,376],[350,376],[350,376],[350,376],[350,376],[350,376],[350,376],[350,376],[150,162],[150,162],[150,162],[150,162],[150,162],[150,162],[150,162],[250,268],[250,268],[250,268],[250,268],[250,268],[450,484],[450,484],[450,484],[450,484],[450,484],[450,484],[450,484],[450,484],[450,484],[450,484],[450,484],[450,484],[450,484],[450,484],[450,484],[450,484],[450,484],[450,484],[450,484],[450,484],[450,484],[450,484],[450,484],[450,484],[450,484],[450,484],[450,484],[450,484],[650,690],[650,690],[650,690],[650,690],[650,690],[650,690],[650,690],[650,690],[650,690],[550,587],[550,587],[550,587],[550,587],[550,587],[450,482],[450,482],[450,482],[450,482],[450,482],[450,482],[450,482],[450,482],[450,482],[450,482],[450,482],[450,482],[450,482],[450,482],[450,482],[450,482],[450,482],[450,482],[450,482],[450,482],[450,482],[750,795],[750,795],[750,795],[750,795],[750,795],[650,687],[650,687],[650,687],[650,687],[350,369],[350,369],[350,369],[350,369],[350,369],[350,369],[350,369],[350,369],[350,369],[350,369],[350,369],[350,369],[350,369],[350,369],[350,369],[350,369],[350,369],[350,369],[350,369],[450,476],[450,476],[450,476],[450,476],[450,476],[450,476],[450,476],[450,476],[450,476],[450,476],[450,476],[850,896],[850,896],[850,896],[850,896],[850,896],[850,896],[850,896],[350,373],[350,373],[350,373],[350,373],[350,373],[350,373],[350,373],[350,373],[350,373],[350,373],[350,373],[350,373],[350,373],[350,373],[350,373],[350,373],[350,373],[450,478],[450,478],[450,478],[450,478],[450,478],[450,478],[450,478],[550,585],[550,585],[550,585],[550,585],[550,585],[550,585],[550,585],[550,585],[550,585],[550,585],[550,585],[550,585],[550,585],[550,585],[550,585],[550,585],[150,160],[150,160],[150,160],[150,160],[150,160],[150,160],[850,897],[850,897],[850,897],[850,897],[850,897],[850,897],[850,897]]}},\"id\":\"c1b61073-a221-4a8f-a969-beb19162042a\",\"type\":\"ColumnDataSource\"},{\"attributes\":{\"bottom\":{\"field\":\"bottom\"},\"fill_alpha\":{\"value\":0.1},\"fill_color\":{\"value\":\"#1f77b4\"},\"left\":{\"field\":\"left\"},\"line_alpha\":{\"value\":0.1},\"line_color\":{\"value\":\"#1f77b4\"},\"right\":{\"field\":\"right\"},\"top\":{\"field\":\"top\"}},\"id\":\"9f71250e-fed5-420e-9a38-fc2a52e5bcab\",\"type\":\"Quad\"},{\"attributes\":{\"bottom\":{\"field\":\"bottom\"},\"fill_color\":{\"value\":\"white\"},\"left\":{\"field\":\"left\"},\"right\":{\"field\":\"right\"},\"top\":{\"field\":\"top\"}},\"id\":\"6d99f467-a6a8-4fd1-8da6-efca52834031\",\"type\":\"Quad\"},{\"attributes\":{\"callback\":null,\"end\":1000},\"id\":\"9e92f643-7946-438e-b72f-77a1f97d4433\",\"type\":\"Range1d\"},{\"attributes\":{},\"id\":\"d27190f1-5e6c-4a5f-b719-795f2cdff0be\",\"type\":\"BasicTickFormatter\"},{\"attributes\":{\"callback\":null,\"end\":136786630,\"start\":135757320},\"id\":\"a7204f63-6472-4379-a86e-4a7a1073c430\",\"type\":\"Range1d\"},{\"attributes\":{\"formatter\":{\"id\":\"d27190f1-5e6c-4a5f-b719-795f2cdff0be\",\"type\":\"BasicTickFormatter\"},\"plot\":{\"id\":\"49ebe600-ef4f-43e2-a9a0-2da421e7d67a\",\"subtype\":\"Figure\",\"type\":\"Plot\"},\"ticker\":{\"id\":\"a4d6b2a1-5b30-45f3-a118-9759dfe25423\",\"type\":\"BasicTicker\"}},\"id\":\"8821181b-12ba-46dc-9ae9-f4b12290f463\",\"type\":\"LinearAxis\"},{\"attributes\":{\"callback\":null,\"column_names\":[\"right\",\"bottom\",\"top\",\"left\",\"fill_color\"],\"data\":{\"bottom\":[850,750,50,350,150,250,450,650,550,450,750,650,350,450,850,350,450,550,150,850],\"fill_color\":[\"#808080\",\"#c46161\",\"#ff0000\",\"#ff0000\",\"#ff0000\",\"#ff0000\",\"#ff0000\",\"#ff0000\",\"#ff0000\",\"#ff0000\",\"#808080\",\"#ff0000\",\"#ff0000\",\"#ff0000\",\"#c46161\",\"#ff0000\",\"#ff0000\",\"#c46161\",\"#ff0000\",\"#61c461\"],\"left\":[135758231,135933921,135956166,136008173,136033448,136056699,136115507,136309239,136364916,136402778,136406646,136448855,136497006,136509361,136588031,136589521,136602291,136603638,136633976,136682274],\"right\":[136376515,136368563,136484679,136381251,136412169,136433902,136385280,136361560,136387893,136493430,136438078,136466831,136588738,136538117,136593678,136642012,136629987,136632125,136742820,136775898],\"top\":[896,795,60,376,162,268,484,690,587,482,795,687,369,476,896,373,478,585,160,897]}},\"id\":\"d5ad8d82-4ba3-4474-993b-b3959a5f162f\",\"type\":\"ColumnDataSource\"},{\"attributes\":{\"bottom_units\":\"screen\",\"fill_alpha\":{\"value\":0.5},\"fill_color\":{\"value\":\"lightgrey\"},\"left_units\":\"screen\",\"level\":\"overlay\",\"line_alpha\":{\"value\":1.0},\"line_color\":{\"value\":\"black\"},\"line_dash\":[4,4],\"line_width\":{\"value\":2},\"plot\":null,\"render_mode\":\"css\",\"right_units\":\"screen\",\"top_units\":\"screen\"},\"id\":\"3878ee1b-0036-4384-87b3-43a6d47d4532\",\"type\":\"BoxAnnotation\"},{\"attributes\":{\"line_color\":{\"field\":\"line_color\"},\"xs\":{\"field\":\"xs\"},\"ys\":{\"field\":\"ys\"}},\"id\":\"701e0d0a-3511-4e74-aca1-a8419b4acd9a\",\"type\":\"MultiLine\"},{\"attributes\":{},\"id\":\"a4d6b2a1-5b30-45f3-a118-9759dfe25423\",\"type\":\"BasicTicker\"},{\"attributes\":{},\"id\":\"e173ff8b-ef1c-4fe8-8a35-979e9b6eae76\",\"type\":\"ToolEvents\"},{\"attributes\":{\"callback\":null,\"column_names\":[\"y\",\"x\",\"vals\"],\"data\":{\"vals\":[\"117_1685\",\"123_1561\",\"25_27\",\"70_166\",\"7_34\",\"5_69\",\"28_434\",\"9_887\",\"5_588\",\"21_332\",\"5_1460\",\"4_612\",\"19_77\",\"11_173\",\"7_1760\",\"17_127\",\"7_226\",\"16_511\",\"6_27\",\"7_1868\"],\"x\":[135758231,135933921,135956166,136008173,136033448,136056699,136115507,136309239,136364916,136402778,136406646,136448855,136497006,136509361,136588031,136589521,136602291,136603638,136633976,136682274],\"y\":[901.0,800.0,65.0,381.0,167.0,273.0,489.0,695.0,592.0,487.0,800.0,692.0,374.0,481.0,901.0,378.0,483.0,590.0,165.0,902.0]}},\"id\":\"82a538d9-cb3b-451d-aaab-ddfbe0e00040\",\"type\":\"ColumnDataSource\"},{\"attributes\":{\"dimension\":1,\"plot\":{\"id\":\"49ebe600-ef4f-43e2-a9a0-2da421e7d67a\",\"subtype\":\"Figure\",\"type\":\"Plot\"},\"ticker\":{\"id\":\"62165888-b98b-4beb-bcff-31cf957ffbd7\",\"type\":\"BasicTicker\"}},\"id\":\"ae18f76c-46df-4b89-a17b-f2f2081eb766\",\"type\":\"Grid\"},{\"attributes\":{\"plot\":{\"id\":\"49ebe600-ef4f-43e2-a9a0-2da421e7d67a\",\"subtype\":\"Figure\",\"type\":\"Plot\"}},\"id\":\"6ce998f9-2bd0-4a2d-ae7d-3301d99e6e3a\",\"type\":\"ResetTool\"},{\"attributes\":{\"plot\":{\"id\":\"49ebe600-ef4f-43e2-a9a0-2da421e7d67a\",\"subtype\":\"Figure\",\"type\":\"Plot\"}},\"id\":\"a92dade4-c542-4265-bd45-0f63b04e67da\",\"type\":\"PanTool\"},{\"attributes\":{\"formatter\":{\"id\":\"145f406e-6417-4abf-aa04-de6b6254ad84\",\"type\":\"BasicTickFormatter\"},\"plot\":{\"id\":\"49ebe600-ef4f-43e2-a9a0-2da421e7d67a\",\"subtype\":\"Figure\",\"type\":\"Plot\"},\"ticker\":{\"id\":\"62165888-b98b-4beb-bcff-31cf957ffbd7\",\"type\":\"BasicTicker\"},\"visible\":null},\"id\":\"f0862784-7801-4810-b338-5055bf63571f\",\"type\":\"LinearAxis\"},{\"attributes\":{\"plot\":{\"id\":\"49ebe600-ef4f-43e2-a9a0-2da421e7d67a\",\"subtype\":\"Figure\",\"type\":\"Plot\"}},\"id\":\"650d0036-b6f9-409f-ac9e-0159c7db7348\",\"type\":\"WheelZoomTool\"},{\"attributes\":{\"plot\":{\"id\":\"49ebe600-ef4f-43e2-a9a0-2da421e7d67a\",\"subtype\":\"Figure\",\"type\":\"Plot\"},\"ticker\":{\"id\":\"a4d6b2a1-5b30-45f3-a118-9759dfe25423\",\"type\":\"BasicTicker\"}},\"id\":\"b1d4f5ed-93a8-4083-bdb9-de4b5f30d2e4\",\"type\":\"Grid\"},{\"attributes\":{\"data_source\":{\"id\":\"c1b61073-a221-4a8f-a969-beb19162042a\",\"type\":\"ColumnDataSource\"},\"glyph\":{\"id\":\"701e0d0a-3511-4e74-aca1-a8419b4acd9a\",\"type\":\"MultiLine\"},\"hover_glyph\":null,\"nonselection_glyph\":{\"id\":\"b71ffd35-1d3c-4920-978e-bf8c960515a0\",\"type\":\"MultiLine\"},\"selection_glyph\":null},\"id\":\"5591c7ee-1719-40bc-a997-4a0221d4dbb5\",\"type\":\"GlyphRenderer\"},{\"attributes\":{\"data_source\":{\"id\":\"d5ad8d82-4ba3-4474-993b-b3959a5f162f\",\"type\":\"ColumnDataSource\"},\"glyph\":{\"id\":\"7215b4c9-c9a0-4e9d-89e6-f0c21e50b99f\",\"type\":\"Quad\"},\"hover_glyph\":null,\"nonselection_glyph\":{\"id\":\"9f71250e-fed5-420e-9a38-fc2a52e5bcab\",\"type\":\"Quad\"},\"selection_glyph\":null},\"id\":\"45927416-bf0d-4ea9-96b4-9832b2a76ac2\",\"type\":\"GlyphRenderer\"},{\"attributes\":{},\"id\":\"62165888-b98b-4beb-bcff-31cf957ffbd7\",\"type\":\"BasicTicker\"},{\"attributes\":{\"level\":\"glyph\",\"plot\":{\"id\":\"49ebe600-ef4f-43e2-a9a0-2da421e7d67a\",\"subtype\":\"Figure\",\"type\":\"Plot\"},\"source\":{\"id\":\"82a538d9-cb3b-451d-aaab-ddfbe0e00040\",\"type\":\"ColumnDataSource\"},\"text\":{\"field\":\"vals\"},\"text_font_size\":{\"value\":\"9pt\"},\"text_font_style\":\"bold\",\"x\":{\"field\":\"x\"},\"y\":{\"field\":\"y\"}},\"id\":\"30c350c3-fb7d-4af8-8573-2d42a49d4b99\",\"type\":\"LabelSet\"},{\"attributes\":{\"below\":[{\"id\":\"8821181b-12ba-46dc-9ae9-f4b12290f463\",\"type\":\"LinearAxis\"}],\"left\":[{\"id\":\"f0862784-7801-4810-b338-5055bf63571f\",\"type\":\"LinearAxis\"}],\"plot_height\":1000,\"plot_width\":900,\"renderers\":[{\"id\":\"8821181b-12ba-46dc-9ae9-f4b12290f463\",\"type\":\"LinearAxis\"},{\"id\":\"b1d4f5ed-93a8-4083-bdb9-de4b5f30d2e4\",\"type\":\"Grid\"},{\"id\":\"f0862784-7801-4810-b338-5055bf63571f\",\"type\":\"LinearAxis\"},{\"id\":\"ae18f76c-46df-4b89-a17b-f2f2081eb766\",\"type\":\"Grid\"},{\"id\":\"3878ee1b-0036-4384-87b3-43a6d47d4532\",\"type\":\"BoxAnnotation\"},{\"id\":\"45927416-bf0d-4ea9-96b4-9832b2a76ac2\",\"type\":\"GlyphRenderer\"},{\"id\":\"5591c7ee-1719-40bc-a997-4a0221d4dbb5\",\"type\":\"GlyphRenderer\"},{\"id\":\"30c350c3-fb7d-4af8-8573-2d42a49d4b99\",\"type\":\"LabelSet\"},{\"id\":\"0d4230ff-a656-48c6-ad9e-645a1a8956f4\",\"type\":\"GlyphRenderer\"},{\"id\":\"10aebca7-6030-42a5-a5d0-922e5547f146\",\"type\":\"LabelSet\"}],\"title\":{\"id\":\"1f719d6d-f51d-4ab4-9174-171d7e845bf6\",\"type\":\"Title\"},\"tool_events\":{\"id\":\"e173ff8b-ef1c-4fe8-8a35-979e9b6eae76\",\"type\":\"ToolEvents\"},\"toolbar\":{\"id\":\"515bc2be-f2e3-4b1c-83bd-61a3a1577b20\",\"type\":\"Toolbar\"},\"toolbar_location\":null,\"x_range\":{\"id\":\"a7204f63-6472-4379-a86e-4a7a1073c430\",\"type\":\"Range1d\"},\"y_range\":{\"id\":\"9e92f643-7946-438e-b72f-77a1f97d4433\",\"type\":\"Range1d\"}},\"id\":\"49ebe600-ef4f-43e2-a9a0-2da421e7d67a\",\"subtype\":\"Figure\",\"type\":\"Plot\"},{\"attributes\":{\"callback\":null,\"column_names\":[\"y\",\"x\",\"vals\"],\"data\":{\"vals\":[\"RAB3GAP1\",\"ZRANB3\",\"R3HDM1\",\"UBXN4\",\"LCT\",\"MCM6\",\"DARS\"],\"x\":[135869057.0,136122878.0,136385961.0,136520911.0,136570082.5,136615621.5,136703738.0],\"y\":[960.0,960.0,960.0,960.0,960.0,960.0,960.0]}},\"id\":\"b366b30a-a93c-4e9f-b040-1be3ad8bed8b\",\"type\":\"ColumnDataSource\"},{\"attributes\":{\"line_alpha\":{\"value\":0.1},\"line_color\":{\"value\":\"#1f77b4\"},\"xs\":{\"field\":\"xs\"},\"ys\":{\"field\":\"ys\"}},\"id\":\"b71ffd35-1d3c-4920-978e-bf8c960515a0\",\"type\":\"MultiLine\"},{\"attributes\":{\"plot\":null,\"text\":null},\"id\":\"1f719d6d-f51d-4ab4-9174-171d7e845bf6\",\"type\":\"Title\"},{\"attributes\":{\"active_drag\":\"auto\",\"active_scroll\":\"auto\",\"active_tap\":\"auto\",\"tools\":[{\"id\":\"a92dade4-c542-4265-bd45-0f63b04e67da\",\"type\":\"PanTool\"},{\"id\":\"650d0036-b6f9-409f-ac9e-0159c7db7348\",\"type\":\"WheelZoomTool\"},{\"id\":\"54f2b77e-c7a1-49a1-ab5a-e461c36c452c\",\"type\":\"BoxZoomTool\"},{\"id\":\"ceddb5a0-1faf-4acf-b8ac-64baa6a12ee1\",\"type\":\"SaveTool\"},{\"id\":\"6ce998f9-2bd0-4a2d-ae7d-3301d99e6e3a\",\"type\":\"ResetTool\"},{\"id\":\"adbd0d48-adee-430d-a744-e3ff02a1b2f2\",\"type\":\"HelpTool\"}]},\"id\":\"515bc2be-f2e3-4b1c-83bd-61a3a1577b20\",\"type\":\"Toolbar\"},{\"attributes\":{\"callback\":null,\"column_names\":[\"right\",\"bottom\",\"top\",\"left\"],\"data\":{\"bottom\":[945,945,945,945,945,945,945],\"left\":[135809835,135957574,136289083,136499189,136545415,136597196,136664254],\"right\":[135928279,136288182,136482839,136542633,136594750,136634047,136743222],\"top\":[975,975,975,975,975,975,975]}},\"id\":\"e31e2030-6006-4636-9593-7be1aeb7c280\",\"type\":\"ColumnDataSource\"},{\"attributes\":{\"overlay\":{\"id\":\"3878ee1b-0036-4384-87b3-43a6d47d4532\",\"type\":\"BoxAnnotation\"},\"plot\":{\"id\":\"49ebe600-ef4f-43e2-a9a0-2da421e7d67a\",\"subtype\":\"Figure\",\"type\":\"Plot\"}},\"id\":\"54f2b77e-c7a1-49a1-ab5a-e461c36c452c\",\"type\":\"BoxZoomTool\"},{\"attributes\":{\"level\":\"glyph\",\"plot\":{\"id\":\"49ebe600-ef4f-43e2-a9a0-2da421e7d67a\",\"subtype\":\"Figure\",\"type\":\"Plot\"},\"source\":{\"id\":\"b366b30a-a93c-4e9f-b040-1be3ad8bed8b\",\"type\":\"ColumnDataSource\"},\"text\":{\"field\":\"vals\"},\"text_align\":\"center\",\"text_baseline\":\"middle\",\"text_font_size\":{\"value\":\"8pt\"},\"x\":{\"field\":\"x\"},\"y\":{\"field\":\"y\"}},\"id\":\"10aebca7-6030-42a5-a5d0-922e5547f146\",\"type\":\"LabelSet\"}],\"root_ids\":[\"49ebe600-ef4f-43e2-a9a0-2da421e7d67a\"]},\"title\":\"Bokeh Application\",\"version\":\"0.12.0\"}};\n",
       "            var render_items = [{\"docid\":\"90c464b9-a8b0-42f7-b263-6cc2957d4d6f\",\"elementid\":\"beb8fc60-df10-4cc5-a02d-2902f45a2851\",\"modelid\":\"49ebe600-ef4f-43e2-a9a0-2da421e7d67a\",\"notebook_comms_target\":\"4f947018-08d0-480e-b64f-fafefadd1dfd\"}];\n",
       "            \n",
       "            Bokeh.embed.embed_items(docs_json, render_items);\n",
       "        });\n",
       "      },\n",
       "      function(Bokeh) {\n",
       "      }\n",
       "    ];\n",
       "  \n",
       "    function run_inline_js() {\n",
       "      for (var i = 0; i < inline_js.length; i++) {\n",
       "        inline_js[i](window.Bokeh);\n",
       "      }\n",
       "    }\n",
       "  \n",
       "    if (window._bokeh_is_loading === 0) {\n",
       "      console.log(\"Bokeh: BokehJS loaded, going straight to plotting\");\n",
       "      run_inline_js();\n",
       "    } else {\n",
       "      load_libs(js_urls, function() {\n",
       "        console.log(\"Bokeh: BokehJS plotting callback run at\", now());\n",
       "        run_inline_js();\n",
       "      });\n",
       "    }\n",
       "  }(this));\n",
       "</script>"
      ]
     },
     "metadata": {},
     "output_type": "display_data"
    },
    {
     "data": {
      "text/html": [
       "<p><code>&lt;Bokeh Notebook handle for <strong>In[3]</strong>&gt;</code></p>"
      ],
      "text/plain": [
       "<bokeh.io._CommsHandle at 0x7fe7cc051610>"
      ]
     },
     "execution_count": 3,
     "metadata": {},
     "output_type": "execute_result"
    }
   ],
   "source": [
    "plt_obj = dm.superset_yes_no([dm.di_25_27], min_match=0.5)\n",
    "plt = plt_obj.do_plot()\n",
    "show(plt)"
   ]
  },
  {
   "cell_type": "code",
   "execution_count": 4,
   "metadata": {
    "collapsed": false
   },
   "outputs": [
    {
     "data": {
      "text/html": [
       "<table>\n",
       "<thead><tr><th style=\"text-align:center\">index</th><th style=\"text-align:center\">first</th><th style=\"text-align:center\">length</th><th style=\"text-align:center\">snps</th><th style=\"text-align:center\" colspan=2>alleles</th><th style=\"text-align:center\" colspan=2>matches</th><th style=\"text-align:center\" colspan=2>afr</th><th style=\"text-align:center\" colspan=2>afx</th><th style=\"text-align:center\" colspan=2>amr</th><th style=\"text-align:center\" colspan=2>eas</th><th style=\"text-align:center\" colspan=2>eur</th><th style=\"text-align:center\" colspan=2>sas</th><th style=\"text-align:center\" colspan=2>sax</th></tr></thead>\n",
       "<tr class=\"even\"><td style=\"text-align: right;\">354170</td><td style=\"text-align: right;\">136,682,274</td><td style=\"text-align: right;\">93,624</td><td style=\"text-align: right;\">7</td><td style=\"text-align: right;\">1868</td><td style=\"text-align: right;\">0.01</td><td style=\"text-align: right;\">18</td><td style=\"text-align: right;\">0.67</td><td style=\"text-align: right;\">11</td><td style=\"text-align: right;\">3.04</td><td style=\"text-align: right;\">6</td><td style=\"text-align: right;\">5.32</td><td style=\"text-align: right;\">1</td><td style=\"text-align: right;\">0.40</td><td style=\"text-align: right;\">0</td><td style=\"text-align: right;\">0.00</td><td style=\"text-align: right;\">0</td><td style=\"text-align: right;\">0.00</td><td style=\"text-align: right;\">0</td><td style=\"text-align: right;\">0.00</td><td style=\"text-align: right;\">0</td><td style=\"text-align: right;\">0.00</td></tr>\n",
       "<tr><td style=\"text-align: right;\">354033</td><td style=\"text-align: right;\">136,588,031</td><td style=\"text-align: right;\">5,647</td><td style=\"text-align: right;\">7</td><td style=\"text-align: right;\">1760</td><td style=\"text-align: right;\">0.01</td><td style=\"text-align: right;\">19</td><td style=\"text-align: right;\">0.70</td><td style=\"text-align: right;\">11</td><td style=\"text-align: right;\">2.88</td><td style=\"text-align: right;\">7</td><td style=\"text-align: right;\">5.88</td><td style=\"text-align: right;\">1</td><td style=\"text-align: right;\">0.38</td><td style=\"text-align: right;\">0</td><td style=\"text-align: right;\">0.00</td><td style=\"text-align: right;\">0</td><td style=\"text-align: right;\">0.00</td><td style=\"text-align: right;\">0</td><td style=\"text-align: right;\">0.00</td><td style=\"text-align: right;\">0</td><td style=\"text-align: right;\">0.00</td></tr>\n",
       "<tr class=\"even\"><td style=\"text-align: right;\">353244</td><td style=\"text-align: right;\">135,758,231</td><td style=\"text-align: right;\">618,284</td><td style=\"text-align: right;\">117</td><td style=\"text-align: right;\">1685</td><td style=\"text-align: right;\">0.02</td><td style=\"text-align: right;\">27</td><td style=\"text-align: right;\">1.00</td><td style=\"text-align: right;\">18</td><td style=\"text-align: right;\">3.31</td><td style=\"text-align: right;\">7</td><td style=\"text-align: right;\">4.13</td><td style=\"text-align: right;\">2</td><td style=\"text-align: right;\">0.53</td><td style=\"text-align: right;\">0</td><td style=\"text-align: right;\">0.00</td><td style=\"text-align: right;\">0</td><td style=\"text-align: right;\">0.00</td><td style=\"text-align: right;\">0</td><td style=\"text-align: right;\">0.00</td><td style=\"text-align: right;\">0</td><td style=\"text-align: right;\">0.00</td></tr>\n",
       "<tr><td style=\"text-align: right;\">353478</td><td style=\"text-align: right;\">135,933,921</td><td style=\"text-align: right;\">434,642</td><td style=\"text-align: right;\">123</td><td style=\"text-align: right;\">1561</td><td style=\"text-align: right;\">0.02</td><td style=\"text-align: right;\">25</td><td style=\"text-align: right;\">0.93</td><td style=\"text-align: right;\">16</td><td style=\"text-align: right;\">3.18</td><td style=\"text-align: right;\">7</td><td style=\"text-align: right;\">4.47</td><td style=\"text-align: right;\">2</td><td style=\"text-align: right;\">0.58</td><td style=\"text-align: right;\">0</td><td style=\"text-align: right;\">0.00</td><td style=\"text-align: right;\">0</td><td style=\"text-align: right;\">0.00</td><td style=\"text-align: right;\">0</td><td style=\"text-align: right;\">0.00</td><td style=\"text-align: right;\">0</td><td style=\"text-align: right;\">0.00</td></tr>\n",
       "<tr class=\"even\"><td style=\"text-align: right;\">353814</td><td style=\"text-align: right;\">136,406,646</td><td style=\"text-align: right;\">31,432</td><td style=\"text-align: right;\">5</td><td style=\"text-align: right;\">1460</td><td style=\"text-align: right;\">0.02</td><td style=\"text-align: right;\">27</td><td style=\"text-align: right;\">1.00</td><td style=\"text-align: right;\">18</td><td style=\"text-align: right;\">3.31</td><td style=\"text-align: right;\">7</td><td style=\"text-align: right;\">4.13</td><td style=\"text-align: right;\">2</td><td style=\"text-align: right;\">0.53</td><td style=\"text-align: right;\">0</td><td style=\"text-align: right;\">0.00</td><td style=\"text-align: right;\">0</td><td style=\"text-align: right;\">0.00</td><td style=\"text-align: right;\">0</td><td style=\"text-align: right;\">0.00</td><td style=\"text-align: right;\">0</td><td style=\"text-align: right;\">0.00</td></tr>\n",
       "<tr><td style=\"text-align: right;\">353729</td><td style=\"text-align: right;\">136,309,239</td><td style=\"text-align: right;\">52,321</td><td style=\"text-align: right;\">9</td><td style=\"text-align: right;\">887</td><td style=\"text-align: right;\">0.03</td><td style=\"text-align: right;\">27</td><td style=\"text-align: right;\">1.00</td><td style=\"text-align: right;\">18</td><td style=\"text-align: right;\">3.31</td><td style=\"text-align: right;\">7</td><td style=\"text-align: right;\">4.13</td><td style=\"text-align: right;\">2</td><td style=\"text-align: right;\">0.53</td><td style=\"text-align: right;\">0</td><td style=\"text-align: right;\">0.00</td><td style=\"text-align: right;\">0</td><td style=\"text-align: right;\">0.00</td><td style=\"text-align: right;\">0</td><td style=\"text-align: right;\">0.00</td><td style=\"text-align: right;\">0</td><td style=\"text-align: right;\">0.00</td></tr>\n",
       "<tr class=\"even\"><td style=\"text-align: right;\">353851</td><td style=\"text-align: right;\">136,448,855</td><td style=\"text-align: right;\">17,976</td><td style=\"text-align: right;\">4</td><td style=\"text-align: right;\">612</td><td style=\"text-align: right;\">0.04</td><td style=\"text-align: right;\">27</td><td style=\"text-align: right;\">1.00</td><td style=\"text-align: right;\">18</td><td style=\"text-align: right;\">3.31</td><td style=\"text-align: right;\">7</td><td style=\"text-align: right;\">4.13</td><td style=\"text-align: right;\">2</td><td style=\"text-align: right;\">0.53</td><td style=\"text-align: right;\">0</td><td style=\"text-align: right;\">0.00</td><td style=\"text-align: right;\">0</td><td style=\"text-align: right;\">0.00</td><td style=\"text-align: right;\">0</td><td style=\"text-align: right;\">0.00</td><td style=\"text-align: right;\">0</td><td style=\"text-align: right;\">0.00</td></tr>\n",
       "<tr><td style=\"text-align: right;\">353764</td><td style=\"text-align: right;\">136,364,916</td><td style=\"text-align: right;\">22,977</td><td style=\"text-align: right;\">5</td><td style=\"text-align: right;\">588</td><td style=\"text-align: right;\">0.05</td><td style=\"text-align: right;\">27</td><td style=\"text-align: right;\">1.00</td><td style=\"text-align: right;\">18</td><td style=\"text-align: right;\">3.31</td><td style=\"text-align: right;\">7</td><td style=\"text-align: right;\">4.13</td><td style=\"text-align: right;\">2</td><td style=\"text-align: right;\">0.53</td><td style=\"text-align: right;\">0</td><td style=\"text-align: right;\">0.00</td><td style=\"text-align: right;\">0</td><td style=\"text-align: right;\">0.00</td><td style=\"text-align: right;\">0</td><td style=\"text-align: right;\">0.00</td><td style=\"text-align: right;\">0</td><td style=\"text-align: right;\">0.00</td></tr>\n",
       "<tr class=\"even\"><td style=\"text-align: right;\">354061</td><td style=\"text-align: right;\">136,603,638</td><td style=\"text-align: right;\">28,487</td><td style=\"text-align: right;\">16</td><td style=\"text-align: right;\">511</td><td style=\"text-align: right;\">0.04</td><td style=\"text-align: right;\">18</td><td style=\"text-align: right;\">0.67</td><td style=\"text-align: right;\">11</td><td style=\"text-align: right;\">3.04</td><td style=\"text-align: right;\">6</td><td style=\"text-align: right;\">5.32</td><td style=\"text-align: right;\">1</td><td style=\"text-align: right;\">0.40</td><td style=\"text-align: right;\">0</td><td style=\"text-align: right;\">0.00</td><td style=\"text-align: right;\">0</td><td style=\"text-align: right;\">0.00</td><td style=\"text-align: right;\">0</td><td style=\"text-align: right;\">0.00</td><td style=\"text-align: right;\">0</td><td style=\"text-align: right;\">0.00</td></tr>\n",
       "<tr><td style=\"text-align: right;\">353614</td><td style=\"text-align: right;\">136,115,507</td><td style=\"text-align: right;\">269,773</td><td style=\"text-align: right;\">28</td><td style=\"text-align: right;\">434</td><td style=\"text-align: right;\">0.06</td><td style=\"text-align: right;\">27</td><td style=\"text-align: right;\">1.00</td><td style=\"text-align: right;\">18</td><td style=\"text-align: right;\">3.31</td><td style=\"text-align: right;\">7</td><td style=\"text-align: right;\">4.13</td><td style=\"text-align: right;\">2</td><td style=\"text-align: right;\">0.53</td><td style=\"text-align: right;\">0</td><td style=\"text-align: right;\">0.00</td><td style=\"text-align: right;\">0</td><td style=\"text-align: right;\">0.00</td><td style=\"text-align: right;\">0</td><td style=\"text-align: right;\">0.00</td><td style=\"text-align: right;\">0</td><td style=\"text-align: right;\">0.00</td></tr>\n",
       "<tr class=\"even\"><td style=\"text-align: right;\">353804</td><td style=\"text-align: right;\">136,402,778</td><td style=\"text-align: right;\">90,652</td><td style=\"text-align: right;\">21</td><td style=\"text-align: right;\">332</td><td style=\"text-align: right;\">0.08</td><td style=\"text-align: right;\">27</td><td style=\"text-align: right;\">1.00</td><td style=\"text-align: right;\">18</td><td style=\"text-align: right;\">3.31</td><td style=\"text-align: right;\">7</td><td style=\"text-align: right;\">4.13</td><td style=\"text-align: right;\">2</td><td style=\"text-align: right;\">0.53</td><td style=\"text-align: right;\">0</td><td style=\"text-align: right;\">0.00</td><td style=\"text-align: right;\">0</td><td style=\"text-align: right;\">0.00</td><td style=\"text-align: right;\">0</td><td style=\"text-align: right;\">0.00</td><td style=\"text-align: right;\">0</td><td style=\"text-align: right;\">0.00</td></tr>\n",
       "<tr><td style=\"text-align: right;\">354057</td><td style=\"text-align: right;\">136,602,291</td><td style=\"text-align: right;\">27,696</td><td style=\"text-align: right;\">7</td><td style=\"text-align: right;\">226</td><td style=\"text-align: right;\">0.08</td><td style=\"text-align: right;\">18</td><td style=\"text-align: right;\">0.67</td><td style=\"text-align: right;\">11</td><td style=\"text-align: right;\">3.04</td><td style=\"text-align: right;\">6</td><td style=\"text-align: right;\">5.32</td><td style=\"text-align: right;\">1</td><td style=\"text-align: right;\">0.40</td><td style=\"text-align: right;\">0</td><td style=\"text-align: right;\">0.00</td><td style=\"text-align: right;\">0</td><td style=\"text-align: right;\">0.00</td><td style=\"text-align: right;\">0</td><td style=\"text-align: right;\">0.00</td><td style=\"text-align: right;\">0</td><td style=\"text-align: right;\">0.00</td></tr>\n",
       "<tr class=\"even\"><td style=\"text-align: right;\">353931</td><td style=\"text-align: right;\">136,509,361</td><td style=\"text-align: right;\">28,756</td><td style=\"text-align: right;\">11</td><td style=\"text-align: right;\">173</td><td style=\"text-align: right;\">0.10</td><td style=\"text-align: right;\">18</td><td style=\"text-align: right;\">0.67</td><td style=\"text-align: right;\">11</td><td style=\"text-align: right;\">3.04</td><td style=\"text-align: right;\">6</td><td style=\"text-align: right;\">5.32</td><td style=\"text-align: right;\">1</td><td style=\"text-align: right;\">0.40</td><td style=\"text-align: right;\">0</td><td style=\"text-align: right;\">0.00</td><td style=\"text-align: right;\">0</td><td style=\"text-align: right;\">0.00</td><td style=\"text-align: right;\">0</td><td style=\"text-align: right;\">0.00</td><td style=\"text-align: right;\">0</td><td style=\"text-align: right;\">0.00</td></tr>\n",
       "<tr><td style=\"text-align: right;\">353538</td><td style=\"text-align: right;\">136,008,173</td><td style=\"text-align: right;\">373,078</td><td style=\"text-align: right;\">70</td><td style=\"text-align: right;\">166</td><td style=\"text-align: right;\">0.16</td><td style=\"text-align: right;\">27</td><td style=\"text-align: right;\">1.00</td><td style=\"text-align: right;\">18</td><td style=\"text-align: right;\">3.31</td><td style=\"text-align: right;\">7</td><td style=\"text-align: right;\">4.13</td><td style=\"text-align: right;\">2</td><td style=\"text-align: right;\">0.53</td><td style=\"text-align: right;\">0</td><td style=\"text-align: right;\">0.00</td><td style=\"text-align: right;\">0</td><td style=\"text-align: right;\">0.00</td><td style=\"text-align: right;\">0</td><td style=\"text-align: right;\">0.00</td><td style=\"text-align: right;\">0</td><td style=\"text-align: right;\">0.00</td></tr>\n",
       "<tr class=\"even\"><td style=\"text-align: right;\">354036</td><td style=\"text-align: right;\">136,589,521</td><td style=\"text-align: right;\">52,491</td><td style=\"text-align: right;\">17</td><td style=\"text-align: right;\">127</td><td style=\"text-align: right;\">0.14</td><td style=\"text-align: right;\">18</td><td style=\"text-align: right;\">0.67</td><td style=\"text-align: right;\">11</td><td style=\"text-align: right;\">3.04</td><td style=\"text-align: right;\">6</td><td style=\"text-align: right;\">5.32</td><td style=\"text-align: right;\">1</td><td style=\"text-align: right;\">0.40</td><td style=\"text-align: right;\">0</td><td style=\"text-align: right;\">0.00</td><td style=\"text-align: right;\">0</td><td style=\"text-align: right;\">0.00</td><td style=\"text-align: right;\">0</td><td style=\"text-align: right;\">0.00</td><td style=\"text-align: right;\">0</td><td style=\"text-align: right;\">0.00</td></tr>\n",
       "<tr><td style=\"text-align: right;\">353910</td><td style=\"text-align: right;\">136,497,006</td><td style=\"text-align: right;\">91,732</td><td style=\"text-align: right;\">19</td><td style=\"text-align: right;\">77</td><td style=\"text-align: right;\">0.23</td><td style=\"text-align: right;\">18</td><td style=\"text-align: right;\">0.67</td><td style=\"text-align: right;\">11</td><td style=\"text-align: right;\">3.04</td><td style=\"text-align: right;\">6</td><td style=\"text-align: right;\">5.32</td><td style=\"text-align: right;\">1</td><td style=\"text-align: right;\">0.40</td><td style=\"text-align: right;\">0</td><td style=\"text-align: right;\">0.00</td><td style=\"text-align: right;\">0</td><td style=\"text-align: right;\">0.00</td><td style=\"text-align: right;\">0</td><td style=\"text-align: right;\">0.00</td><td style=\"text-align: right;\">0</td><td style=\"text-align: right;\">0.00</td></tr>\n",
       "<tr class=\"even\"><td style=\"text-align: right;\">353581</td><td style=\"text-align: right;\">136,056,699</td><td style=\"text-align: right;\">377,203</td><td style=\"text-align: right;\">5</td><td style=\"text-align: right;\">69</td><td style=\"text-align: right;\">0.39</td><td style=\"text-align: right;\">27</td><td style=\"text-align: right;\">1.00</td><td style=\"text-align: right;\">18</td><td style=\"text-align: right;\">3.31</td><td style=\"text-align: right;\">7</td><td style=\"text-align: right;\">4.13</td><td style=\"text-align: right;\">2</td><td style=\"text-align: right;\">0.53</td><td style=\"text-align: right;\">0</td><td style=\"text-align: right;\">0.00</td><td style=\"text-align: right;\">0</td><td style=\"text-align: right;\">0.00</td><td style=\"text-align: right;\">0</td><td style=\"text-align: right;\">0.00</td><td style=\"text-align: right;\">0</td><td style=\"text-align: right;\">0.00</td></tr>\n",
       "<tr><td style=\"text-align: right;\">353563</td><td style=\"text-align: right;\">136,033,448</td><td style=\"text-align: right;\">378,721</td><td style=\"text-align: right;\">7</td><td style=\"text-align: right;\">34</td><td style=\"text-align: right;\">0.79</td><td style=\"text-align: right;\">27</td><td style=\"text-align: right;\">1.00</td><td style=\"text-align: right;\">18</td><td style=\"text-align: right;\">3.31</td><td style=\"text-align: right;\">7</td><td style=\"text-align: right;\">4.13</td><td style=\"text-align: right;\">2</td><td style=\"text-align: right;\">0.53</td><td style=\"text-align: right;\">0</td><td style=\"text-align: right;\">0.00</td><td style=\"text-align: right;\">0</td><td style=\"text-align: right;\">0.00</td><td style=\"text-align: right;\">0</td><td style=\"text-align: right;\">0.00</td><td style=\"text-align: right;\">0</td><td style=\"text-align: right;\">0.00</td></tr>\n",
       "<tr class=\"even\"><td style=\"text-align: right;\">354101</td><td style=\"text-align: right;\">136,633,976</td><td style=\"text-align: right;\">108,844</td><td style=\"text-align: right;\">6</td><td style=\"text-align: right;\">27</td><td style=\"text-align: right;\">0.67</td><td style=\"text-align: right;\">18</td><td style=\"text-align: right;\">0.67</td><td style=\"text-align: right;\">11</td><td style=\"text-align: right;\">3.04</td><td style=\"text-align: right;\">6</td><td style=\"text-align: right;\">5.32</td><td style=\"text-align: right;\">1</td><td style=\"text-align: right;\">0.40</td><td style=\"text-align: right;\">0</td><td style=\"text-align: right;\">0.00</td><td style=\"text-align: right;\">0</td><td style=\"text-align: right;\">0.00</td><td style=\"text-align: right;\">0</td><td style=\"text-align: right;\">0.00</td><td style=\"text-align: right;\">0</td><td style=\"text-align: right;\">0.00</td></tr>\n",
       "<tr><td style=\"text-align: right;\">353496</td><td style=\"text-align: right;\">135,956,166</td><td style=\"text-align: right;\">528,513</td><td style=\"text-align: right;\">25</td><td style=\"text-align: right;\">27</td><td style=\"text-align: right;\">1.00</td><td style=\"text-align: right;\">27</td><td style=\"text-align: right;\">1.00</td><td style=\"text-align: right;\">18</td><td style=\"text-align: right;\">3.31</td><td style=\"text-align: right;\">7</td><td style=\"text-align: right;\">4.13</td><td style=\"text-align: right;\">2</td><td style=\"text-align: right;\">0.53</td><td style=\"text-align: right;\">0</td><td style=\"text-align: right;\">0.00</td><td style=\"text-align: right;\">0</td><td style=\"text-align: right;\">0.00</td><td style=\"text-align: right;\">0</td><td style=\"text-align: right;\">0.00</td><td style=\"text-align: right;\">0</td><td style=\"text-align: right;\">0.00</td></tr>\n",
       "</table>"
      ],
      "text/plain": [
       "<IPython.core.display.HTML object>"
      ]
     },
     "execution_count": 4,
     "metadata": {},
     "output_type": "execute_result"
    }
   ],
   "source": [
    "HTML(plt_obj.get_html())"
   ]
  },
  {
   "cell_type": "code",
   "execution_count": 5,
   "metadata": {
    "collapsed": false
   },
   "outputs": [
    {
     "data": {
      "text/plain": [
       "array([(0, 4974), (1, 5), (2, 1), (20, 1), (25, 27)], \n",
       "      dtype=[('count', '<u2'), ('snps', '<u2')])"
      ]
     },
     "execution_count": 5,
     "metadata": {},
     "output_type": "execute_result"
    }
   ],
   "source": [
    "count_data = sa_25_27.unique_snps_per_allele()\n",
    "count_data"
   ]
  },
  {
   "cell_type": "code",
   "execution_count": 6,
   "metadata": {
    "collapsed": false
   },
   "outputs": [
    {
     "data": {
      "text/html": [
       "\n",
       "\n",
       "    <div class=\"bk-root\">\n",
       "        <div class=\"plotdiv\" id=\"33576995-1675-48ce-af89-0bf9c1daf05b\"></div>\n",
       "    </div>\n",
       "<script type=\"text/javascript\">\n",
       "  \n",
       "  (function(global) {\n",
       "    function now() {\n",
       "      return new Date();\n",
       "    }\n",
       "  \n",
       "    if (typeof (window._bokeh_onload_callbacks) === \"undefined\") {\n",
       "      window._bokeh_onload_callbacks = [];\n",
       "    }\n",
       "  \n",
       "    function run_callbacks() {\n",
       "      window._bokeh_onload_callbacks.forEach(function(callback) { callback() });\n",
       "      delete window._bokeh_onload_callbacks\n",
       "      console.info(\"Bokeh: all callbacks have finished\");\n",
       "    }\n",
       "  \n",
       "    function load_libs(js_urls, callback) {\n",
       "      window._bokeh_onload_callbacks.push(callback);\n",
       "      if (window._bokeh_is_loading > 0) {\n",
       "        console.log(\"Bokeh: BokehJS is being loaded, scheduling callback at\", now());\n",
       "        return null;\n",
       "      }\n",
       "      if (js_urls == null || js_urls.length === 0) {\n",
       "        run_callbacks();\n",
       "        return null;\n",
       "      }\n",
       "      console.log(\"Bokeh: BokehJS not loaded, scheduling load and callback at\", now());\n",
       "      window._bokeh_is_loading = js_urls.length;\n",
       "      for (var i = 0; i < js_urls.length; i++) {\n",
       "        var url = js_urls[i];\n",
       "        var s = document.createElement('script');\n",
       "        s.src = url;\n",
       "        s.async = false;\n",
       "        s.onreadystatechange = s.onload = function() {\n",
       "          window._bokeh_is_loading--;\n",
       "          if (window._bokeh_is_loading === 0) {\n",
       "            console.log(\"Bokeh: all BokehJS libraries loaded\");\n",
       "            run_callbacks()\n",
       "          }\n",
       "        };\n",
       "        s.onerror = function() {\n",
       "          console.warn(\"failed to load library \" + url);\n",
       "        };\n",
       "        console.log(\"Bokeh: injecting script tag for BokehJS library: \", url);\n",
       "        document.getElementsByTagName(\"head\")[0].appendChild(s);\n",
       "      }\n",
       "    };var element = document.getElementById(\"33576995-1675-48ce-af89-0bf9c1daf05b\");\n",
       "    if (element == null) {\n",
       "      console.log(\"Bokeh: ERROR: autoload.js configured with elementid '33576995-1675-48ce-af89-0bf9c1daf05b' but no matching script tag was found. \")\n",
       "      return false;\n",
       "    }\n",
       "  \n",
       "    var js_urls = [];\n",
       "  \n",
       "    var inline_js = [\n",
       "      function(Bokeh) {\n",
       "        Bokeh.$(function() {\n",
       "            var docs_json = {\"0d284b5f-e87a-4d96-98c0-40ef88404fde\":{\"roots\":{\"references\":[{\"attributes\":{\"bottom_units\":\"screen\",\"fill_alpha\":{\"value\":0.5},\"fill_color\":{\"value\":\"lightgrey\"},\"left_units\":\"screen\",\"level\":\"overlay\",\"line_alpha\":{\"value\":1.0},\"line_color\":{\"value\":\"black\"},\"line_dash\":[4,4],\"line_width\":{\"value\":2},\"plot\":null,\"render_mode\":\"css\",\"right_units\":\"screen\",\"top_units\":\"screen\"},\"id\":\"459e5d2a-e60d-4d38-89b9-4e59f505e305\",\"type\":\"BoxAnnotation\"},{\"attributes\":{\"plot\":{\"id\":\"73c62288-1948-4438-98a3-2d879bb61bd4\",\"subtype\":\"Figure\",\"type\":\"Plot\"}},\"id\":\"10d0e45b-b359-4f08-b44d-03ed9f101775\",\"type\":\"WheelZoomTool\"},{\"attributes\":{\"plot\":{\"id\":\"73c62288-1948-4438-98a3-2d879bb61bd4\",\"subtype\":\"Figure\",\"type\":\"Plot\"}},\"id\":\"c3d7ca78-c7ae-4e11-a969-ed2734b42332\",\"type\":\"SaveTool\"},{\"attributes\":{\"plot\":{\"id\":\"73c62288-1948-4438-98a3-2d879bb61bd4\",\"subtype\":\"Figure\",\"type\":\"Plot\"}},\"id\":\"358e2111-9e0d-4d5f-a166-63548b4926b3\",\"type\":\"HelpTool\"},{\"attributes\":{\"plot\":{\"id\":\"73c62288-1948-4438-98a3-2d879bb61bd4\",\"subtype\":\"Figure\",\"type\":\"Plot\"}},\"id\":\"b2bf21cc-cbff-4e86-be08-67ae9ffe76e3\",\"type\":\"ResetTool\"},{\"attributes\":{\"callback\":null,\"end\":118.5,\"start\":-0.5},\"id\":\"30c2c83e-1e85-4ec8-860c-0ea04feca33d\",\"type\":\"Range1d\"},{\"attributes\":{\"plot\":{\"id\":\"73c62288-1948-4438-98a3-2d879bb61bd4\",\"subtype\":\"Figure\",\"type\":\"Plot\"},\"ticker\":{\"id\":\"488d22ea-1b3d-48f0-b930-02cadbe6891e\",\"type\":\"BasicTicker\"}},\"id\":\"647de0ec-0efd-49f5-8ceb-625cd180a16b\",\"type\":\"Grid\"},{\"attributes\":{\"line_alpha\":{\"value\":0.1},\"line_color\":{\"value\":\"#1f77b4\"},\"x\":{\"field\":\"x\"},\"y\":{\"field\":\"y\"}},\"id\":\"1eb7bb33-2099-4566-9a71-3a9b966b7aec\",\"type\":\"Line\"},{\"attributes\":{},\"id\":\"488d22ea-1b3d-48f0-b930-02cadbe6891e\",\"type\":\"BasicTicker\"},{\"attributes\":{\"callback\":null,\"end\":26.400000000000002},\"id\":\"21773068-f0e6-418d-a81f-1a9dce8b1b1c\",\"type\":\"Range1d\"},{\"attributes\":{},\"id\":\"d8e05036-0a8c-4dc2-bbef-aaca361bbcd7\",\"type\":\"ToolEvents\"},{\"attributes\":{\"below\":[{\"id\":\"b3bfd6c2-b201-4fc2-9642-58ee0441b8be\",\"type\":\"LinearAxis\"}],\"left\":[{\"id\":\"ba7f1aea-6d13-4ab5-b03d-df652d16c065\",\"type\":\"LinearAxis\"}],\"plot_height\":400,\"plot_width\":900,\"renderers\":[{\"id\":\"b3bfd6c2-b201-4fc2-9642-58ee0441b8be\",\"type\":\"LinearAxis\"},{\"id\":\"647de0ec-0efd-49f5-8ceb-625cd180a16b\",\"type\":\"Grid\"},{\"id\":\"ba7f1aea-6d13-4ab5-b03d-df652d16c065\",\"type\":\"LinearAxis\"},{\"id\":\"e51c991f-9bbe-42f4-afa7-7c7d8bb26a86\",\"type\":\"Grid\"},{\"id\":\"459e5d2a-e60d-4d38-89b9-4e59f505e305\",\"type\":\"BoxAnnotation\"},{\"id\":\"364c3eba-9f4c-489a-88e1-add4dbfeab5b\",\"type\":\"GlyphRenderer\"}],\"title\":{\"id\":\"9d556da9-1b61-4de5-85a1-e07a59a1390c\",\"type\":\"Title\"},\"tool_events\":{\"id\":\"d8e05036-0a8c-4dc2-bbef-aaca361bbcd7\",\"type\":\"ToolEvents\"},\"toolbar\":{\"id\":\"51b6ef5c-c7bc-4d9a-8a81-1d0f1bfed924\",\"type\":\"Toolbar\"},\"toolbar_location\":null,\"x_range\":{\"id\":\"30c2c83e-1e85-4ec8-860c-0ea04feca33d\",\"type\":\"Range1d\"},\"y_range\":{\"id\":\"21773068-f0e6-418d-a81f-1a9dce8b1b1c\",\"type\":\"Range1d\"}},\"id\":\"73c62288-1948-4438-98a3-2d879bb61bd4\",\"subtype\":\"Figure\",\"type\":\"Plot\"},{\"attributes\":{\"dimension\":1,\"plot\":{\"id\":\"73c62288-1948-4438-98a3-2d879bb61bd4\",\"subtype\":\"Figure\",\"type\":\"Plot\"},\"ticker\":{\"id\":\"d55d6faa-e151-4de8-bc99-96fc5ff7d9d5\",\"type\":\"BasicTicker\"}},\"id\":\"e51c991f-9bbe-42f4-afa7-7c7d8bb26a86\",\"type\":\"Grid\"},{\"attributes\":{},\"id\":\"20dc6bff-8a35-4bc8-9741-1272a5197b8b\",\"type\":\"BasicTickFormatter\"},{\"attributes\":{\"plot\":null,\"text\":null},\"id\":\"9d556da9-1b61-4de5-85a1-e07a59a1390c\",\"type\":\"Title\"},{\"attributes\":{\"formatter\":{\"id\":\"7f80e75f-a8d7-4380-b122-0f3626a86956\",\"type\":\"BasicTickFormatter\"},\"plot\":{\"id\":\"73c62288-1948-4438-98a3-2d879bb61bd4\",\"subtype\":\"Figure\",\"type\":\"Plot\"},\"ticker\":{\"id\":\"d55d6faa-e151-4de8-bc99-96fc5ff7d9d5\",\"type\":\"BasicTicker\"}},\"id\":\"ba7f1aea-6d13-4ab5-b03d-df652d16c065\",\"type\":\"LinearAxis\"},{\"attributes\":{\"plot\":{\"id\":\"73c62288-1948-4438-98a3-2d879bb61bd4\",\"subtype\":\"Figure\",\"type\":\"Plot\"}},\"id\":\"42c7ba45-b0d9-4d15-8808-5c6b785d64a4\",\"type\":\"PanTool\"},{\"attributes\":{\"overlay\":{\"id\":\"459e5d2a-e60d-4d38-89b9-4e59f505e305\",\"type\":\"BoxAnnotation\"},\"plot\":{\"id\":\"73c62288-1948-4438-98a3-2d879bb61bd4\",\"subtype\":\"Figure\",\"type\":\"Plot\"}},\"id\":\"9ee7078a-4bb8-4e78-b8b7-6a2f02997b5b\",\"type\":\"BoxZoomTool\"},{\"attributes\":{\"callback\":null,\"column_names\":[\"y\",\"x\"],\"data\":{\"x\":[-0.5,-0.5,113.5,113.5,114.5,114.5,115.5,115.5,116.5,116.5,117.5,117.5],\"y\":[0.0,0.0,0.0,2.0,2.0,1.0,1.0,0.0,0.0,24.0,24.0,0.0]}},\"id\":\"c434f951-abca-4cf2-aef8-7b643e0d6a3c\",\"type\":\"ColumnDataSource\"},{\"attributes\":{},\"id\":\"7f80e75f-a8d7-4380-b122-0f3626a86956\",\"type\":\"BasicTickFormatter\"},{\"attributes\":{\"line_color\":{\"value\":\"#1f77b4\"},\"x\":{\"field\":\"x\"},\"y\":{\"field\":\"y\"}},\"id\":\"6d3fbeb6-14ba-4e78-83ce-714c9f37b56b\",\"type\":\"Line\"},{\"attributes\":{\"formatter\":{\"id\":\"20dc6bff-8a35-4bc8-9741-1272a5197b8b\",\"type\":\"BasicTickFormatter\"},\"plot\":{\"id\":\"73c62288-1948-4438-98a3-2d879bb61bd4\",\"subtype\":\"Figure\",\"type\":\"Plot\"},\"ticker\":{\"id\":\"488d22ea-1b3d-48f0-b930-02cadbe6891e\",\"type\":\"BasicTicker\"}},\"id\":\"b3bfd6c2-b201-4fc2-9642-58ee0441b8be\",\"type\":\"LinearAxis\"},{\"attributes\":{\"data_source\":{\"id\":\"c434f951-abca-4cf2-aef8-7b643e0d6a3c\",\"type\":\"ColumnDataSource\"},\"glyph\":{\"id\":\"6d3fbeb6-14ba-4e78-83ce-714c9f37b56b\",\"type\":\"Line\"},\"hover_glyph\":null,\"nonselection_glyph\":{\"id\":\"1eb7bb33-2099-4566-9a71-3a9b966b7aec\",\"type\":\"Line\"},\"selection_glyph\":null},\"id\":\"364c3eba-9f4c-489a-88e1-add4dbfeab5b\",\"type\":\"GlyphRenderer\"},{\"attributes\":{\"active_drag\":\"auto\",\"active_scroll\":\"auto\",\"active_tap\":\"auto\",\"tools\":[{\"id\":\"42c7ba45-b0d9-4d15-8808-5c6b785d64a4\",\"type\":\"PanTool\"},{\"id\":\"10d0e45b-b359-4f08-b44d-03ed9f101775\",\"type\":\"WheelZoomTool\"},{\"id\":\"9ee7078a-4bb8-4e78-b8b7-6a2f02997b5b\",\"type\":\"BoxZoomTool\"},{\"id\":\"c3d7ca78-c7ae-4e11-a969-ed2734b42332\",\"type\":\"SaveTool\"},{\"id\":\"b2bf21cc-cbff-4e86-be08-67ae9ffe76e3\",\"type\":\"ResetTool\"},{\"id\":\"358e2111-9e0d-4d5f-a166-63548b4926b3\",\"type\":\"HelpTool\"}]},\"id\":\"51b6ef5c-c7bc-4d9a-8a81-1d0f1bfed924\",\"type\":\"Toolbar\"},{\"attributes\":{},\"id\":\"d55d6faa-e151-4de8-bc99-96fc5ff7d9d5\",\"type\":\"BasicTicker\"}],\"root_ids\":[\"73c62288-1948-4438-98a3-2d879bb61bd4\"]},\"title\":\"Bokeh Application\",\"version\":\"0.12.0\"}};\n",
       "            var render_items = [{\"docid\":\"0d284b5f-e87a-4d96-98c0-40ef88404fde\",\"elementid\":\"33576995-1675-48ce-af89-0bf9c1daf05b\",\"modelid\":\"73c62288-1948-4438-98a3-2d879bb61bd4\",\"notebook_comms_target\":\"065d26ab-2d8c-414a-a3bb-aab2b7ea1848\"}];\n",
       "            \n",
       "            Bokeh.embed.embed_items(docs_json, render_items);\n",
       "        });\n",
       "      },\n",
       "      function(Bokeh) {\n",
       "      }\n",
       "    ];\n",
       "  \n",
       "    function run_inline_js() {\n",
       "      for (var i = 0; i < inline_js.length; i++) {\n",
       "        inline_js[i](window.Bokeh);\n",
       "      }\n",
       "    }\n",
       "  \n",
       "    if (window._bokeh_is_loading === 0) {\n",
       "      console.log(\"Bokeh: BokehJS loaded, going straight to plotting\");\n",
       "      run_inline_js();\n",
       "    } else {\n",
       "      load_libs(js_urls, function() {\n",
       "        console.log(\"Bokeh: BokehJS plotting callback run at\", now());\n",
       "        run_inline_js();\n",
       "      });\n",
       "    }\n",
       "  }(this));\n",
       "</script>"
      ]
     },
     "metadata": {},
     "output_type": "display_data"
    },
    {
     "data": {
      "text/html": [
       "<p><code>&lt;Bokeh Notebook handle for <strong>In[6]</strong>&gt;</code></p>"
      ],
      "text/plain": [
       "<bokeh.io._CommsHandle at 0x7fe7eeffcc90>"
      ]
     },
     "execution_count": 6,
     "metadata": {},
     "output_type": "execute_result"
    }
   ],
   "source": [
    "count_data = sa_117_1685.unique_snps_per_allele(am_25_27)\n",
    "plt_obj = smcp(count_data)\n",
    "plt = plt_obj.do_plot()\n",
    "show(plt)"
   ]
  },
  {
   "cell_type": "code",
   "execution_count": 7,
   "metadata": {
    "collapsed": false
   },
   "outputs": [
    {
     "data": {
      "text/plain": [
       "array([(114, 2), (115, 1), (117, 24)], \n",
       "      dtype=[('count', '<u2'), ('snps', '<u2')])"
      ]
     },
     "execution_count": 7,
     "metadata": {},
     "output_type": "execute_result"
    }
   ],
   "source": [
    "count_data"
   ]
  },
  {
   "cell_type": "code",
   "execution_count": 8,
   "metadata": {
    "collapsed": false
   },
   "outputs": [
    {
     "data": {
      "text/html": [
       "\n",
       "\n",
       "    <div class=\"bk-root\">\n",
       "        <div class=\"plotdiv\" id=\"a3e8347e-c2e5-4fd4-9352-06992744a42c\"></div>\n",
       "    </div>\n",
       "<script type=\"text/javascript\">\n",
       "  \n",
       "  (function(global) {\n",
       "    function now() {\n",
       "      return new Date();\n",
       "    }\n",
       "  \n",
       "    if (typeof (window._bokeh_onload_callbacks) === \"undefined\") {\n",
       "      window._bokeh_onload_callbacks = [];\n",
       "    }\n",
       "  \n",
       "    function run_callbacks() {\n",
       "      window._bokeh_onload_callbacks.forEach(function(callback) { callback() });\n",
       "      delete window._bokeh_onload_callbacks\n",
       "      console.info(\"Bokeh: all callbacks have finished\");\n",
       "    }\n",
       "  \n",
       "    function load_libs(js_urls, callback) {\n",
       "      window._bokeh_onload_callbacks.push(callback);\n",
       "      if (window._bokeh_is_loading > 0) {\n",
       "        console.log(\"Bokeh: BokehJS is being loaded, scheduling callback at\", now());\n",
       "        return null;\n",
       "      }\n",
       "      if (js_urls == null || js_urls.length === 0) {\n",
       "        run_callbacks();\n",
       "        return null;\n",
       "      }\n",
       "      console.log(\"Bokeh: BokehJS not loaded, scheduling load and callback at\", now());\n",
       "      window._bokeh_is_loading = js_urls.length;\n",
       "      for (var i = 0; i < js_urls.length; i++) {\n",
       "        var url = js_urls[i];\n",
       "        var s = document.createElement('script');\n",
       "        s.src = url;\n",
       "        s.async = false;\n",
       "        s.onreadystatechange = s.onload = function() {\n",
       "          window._bokeh_is_loading--;\n",
       "          if (window._bokeh_is_loading === 0) {\n",
       "            console.log(\"Bokeh: all BokehJS libraries loaded\");\n",
       "            run_callbacks()\n",
       "          }\n",
       "        };\n",
       "        s.onerror = function() {\n",
       "          console.warn(\"failed to load library \" + url);\n",
       "        };\n",
       "        console.log(\"Bokeh: injecting script tag for BokehJS library: \", url);\n",
       "        document.getElementsByTagName(\"head\")[0].appendChild(s);\n",
       "      }\n",
       "    };var element = document.getElementById(\"a3e8347e-c2e5-4fd4-9352-06992744a42c\");\n",
       "    if (element == null) {\n",
       "      console.log(\"Bokeh: ERROR: autoload.js configured with elementid 'a3e8347e-c2e5-4fd4-9352-06992744a42c' but no matching script tag was found. \")\n",
       "      return false;\n",
       "    }\n",
       "  \n",
       "    var js_urls = [];\n",
       "  \n",
       "    var inline_js = [\n",
       "      function(Bokeh) {\n",
       "        Bokeh.$(function() {\n",
       "            var docs_json = {\"819f42e2-6c80-42da-b45f-d8f406d765ca\":{\"roots\":{\"references\":[{\"attributes\":{},\"id\":\"b0771e87-093e-44be-b000-4cc61752f931\",\"type\":\"BasicTicker\"},{\"attributes\":{\"plot\":{\"id\":\"516a5505-5a23-4fc3-a764-94c5b187bb63\",\"subtype\":\"Figure\",\"type\":\"Plot\"}},\"id\":\"2708c17d-134e-4588-b432-ede876fff039\",\"type\":\"HelpTool\"},{\"attributes\":{\"formatter\":{\"id\":\"97bbc28f-bce4-4af4-8f4c-a689bdd19127\",\"type\":\"BasicTickFormatter\"},\"plot\":{\"id\":\"516a5505-5a23-4fc3-a764-94c5b187bb63\",\"subtype\":\"Figure\",\"type\":\"Plot\"},\"ticker\":{\"id\":\"b0771e87-093e-44be-b000-4cc61752f931\",\"type\":\"BasicTicker\"}},\"id\":\"543bc0be-1274-463a-bcfd-54287233ad45\",\"type\":\"LinearAxis\"},{\"attributes\":{\"plot\":{\"id\":\"516a5505-5a23-4fc3-a764-94c5b187bb63\",\"subtype\":\"Figure\",\"type\":\"Plot\"}},\"id\":\"7e6a94e6-f0b0-453b-96b8-7bf74a933d20\",\"type\":\"WheelZoomTool\"},{\"attributes\":{\"data_source\":{\"id\":\"5936add9-574d-4090-8ccc-d27706cea8c2\",\"type\":\"ColumnDataSource\"},\"glyph\":{\"id\":\"f3dacc0d-86ea-4045-a8a6-7e3f1343e099\",\"type\":\"Line\"},\"hover_glyph\":null,\"nonselection_glyph\":{\"id\":\"09675d6e-da3a-4409-8291-1fa6715c0235\",\"type\":\"Line\"},\"selection_glyph\":null},\"id\":\"eabf808e-6cb5-47a6-97cd-480e67635f77\",\"type\":\"GlyphRenderer\"},{\"attributes\":{},\"id\":\"7f5d88b9-7e81-4bc9-bf3a-560a5ff9b8cf\",\"type\":\"BasicTicker\"},{\"attributes\":{\"dimension\":1,\"plot\":{\"id\":\"516a5505-5a23-4fc3-a764-94c5b187bb63\",\"subtype\":\"Figure\",\"type\":\"Plot\"},\"ticker\":{\"id\":\"b0771e87-093e-44be-b000-4cc61752f931\",\"type\":\"BasicTicker\"}},\"id\":\"195bcb75-c0ab-4334-92bb-38a1dc9c9b06\",\"type\":\"Grid\"},{\"attributes\":{},\"id\":\"97bbc28f-bce4-4af4-8f4c-a689bdd19127\",\"type\":\"BasicTickFormatter\"},{\"attributes\":{\"plot\":{\"id\":\"516a5505-5a23-4fc3-a764-94c5b187bb63\",\"subtype\":\"Figure\",\"type\":\"Plot\"}},\"id\":\"77887662-5279-416f-9826-a646e9de0924\",\"type\":\"PanTool\"},{\"attributes\":{\"plot\":null,\"text\":null},\"id\":\"c1725c3a-004e-46b2-b4ff-2a0f50031e5e\",\"type\":\"Title\"},{\"attributes\":{\"plot\":{\"id\":\"516a5505-5a23-4fc3-a764-94c5b187bb63\",\"subtype\":\"Figure\",\"type\":\"Plot\"}},\"id\":\"53d1b043-11d1-455b-b821-1ff72a9cc5b8\",\"type\":\"ResetTool\"},{\"attributes\":{\"line_color\":{\"value\":\"#1f77b4\"},\"x\":{\"field\":\"x\"},\"y\":{\"field\":\"y\"}},\"id\":\"f3dacc0d-86ea-4045-a8a6-7e3f1343e099\",\"type\":\"Line\"},{\"attributes\":{\"bottom_units\":\"screen\",\"fill_alpha\":{\"value\":0.5},\"fill_color\":{\"value\":\"lightgrey\"},\"left_units\":\"screen\",\"level\":\"overlay\",\"line_alpha\":{\"value\":1.0},\"line_color\":{\"value\":\"black\"},\"line_dash\":[4,4],\"line_width\":{\"value\":2},\"plot\":null,\"render_mode\":\"css\",\"right_units\":\"screen\",\"top_units\":\"screen\"},\"id\":\"2e246777-937f-4eb1-99c7-7c9b05a46857\",\"type\":\"BoxAnnotation\"},{\"attributes\":{},\"id\":\"9422d590-32bb-4bfe-9c27-74d30487bf3a\",\"type\":\"ToolEvents\"},{\"attributes\":{\"active_drag\":\"auto\",\"active_scroll\":\"auto\",\"active_tap\":\"auto\",\"tools\":[{\"id\":\"77887662-5279-416f-9826-a646e9de0924\",\"type\":\"PanTool\"},{\"id\":\"7e6a94e6-f0b0-453b-96b8-7bf74a933d20\",\"type\":\"WheelZoomTool\"},{\"id\":\"c4ed9570-a298-4064-979e-460de4d4d336\",\"type\":\"BoxZoomTool\"},{\"id\":\"9ee49254-98c1-4385-b7bf-11201e88003a\",\"type\":\"SaveTool\"},{\"id\":\"53d1b043-11d1-455b-b821-1ff72a9cc5b8\",\"type\":\"ResetTool\"},{\"id\":\"2708c17d-134e-4588-b432-ede876fff039\",\"type\":\"HelpTool\"}]},\"id\":\"3ce5b359-d670-4344-8b29-e89c9d74c391\",\"type\":\"Toolbar\"},{\"attributes\":{\"callback\":null,\"end\":25.3},\"id\":\"980361d1-4965-4196-9cb7-164b2bee5d61\",\"type\":\"Range1d\"},{\"attributes\":{\"callback\":null,\"column_names\":[\"y\",\"x\"],\"data\":{\"x\":[-0.5,-0.5,105.5,105.5,106.5,106.5,107.5,107.5,114.5,114.5,115.5,115.5,116.5,116.5],\"y\":[0.0,0.0,0.0,1.0,1.0,1.0,1.0,0.0,0.0,23.0,23.0,2.0,2.0,0.0]}},\"id\":\"5936add9-574d-4090-8ccc-d27706cea8c2\",\"type\":\"ColumnDataSource\"},{\"attributes\":{\"below\":[{\"id\":\"abb52d1a-e18f-4cfe-a2fb-e41b421ef77d\",\"type\":\"LinearAxis\"}],\"left\":[{\"id\":\"543bc0be-1274-463a-bcfd-54287233ad45\",\"type\":\"LinearAxis\"}],\"plot_height\":400,\"plot_width\":900,\"renderers\":[{\"id\":\"abb52d1a-e18f-4cfe-a2fb-e41b421ef77d\",\"type\":\"LinearAxis\"},{\"id\":\"d2c52056-471a-4d61-9493-30427fdcdbb7\",\"type\":\"Grid\"},{\"id\":\"543bc0be-1274-463a-bcfd-54287233ad45\",\"type\":\"LinearAxis\"},{\"id\":\"195bcb75-c0ab-4334-92bb-38a1dc9c9b06\",\"type\":\"Grid\"},{\"id\":\"2e246777-937f-4eb1-99c7-7c9b05a46857\",\"type\":\"BoxAnnotation\"},{\"id\":\"eabf808e-6cb5-47a6-97cd-480e67635f77\",\"type\":\"GlyphRenderer\"}],\"title\":{\"id\":\"c1725c3a-004e-46b2-b4ff-2a0f50031e5e\",\"type\":\"Title\"},\"tool_events\":{\"id\":\"9422d590-32bb-4bfe-9c27-74d30487bf3a\",\"type\":\"ToolEvents\"},\"toolbar\":{\"id\":\"3ce5b359-d670-4344-8b29-e89c9d74c391\",\"type\":\"Toolbar\"},\"toolbar_location\":null,\"x_range\":{\"id\":\"01907f3d-1f02-4e94-b62e-670d32a1706a\",\"type\":\"Range1d\"},\"y_range\":{\"id\":\"980361d1-4965-4196-9cb7-164b2bee5d61\",\"type\":\"Range1d\"}},\"id\":\"516a5505-5a23-4fc3-a764-94c5b187bb63\",\"subtype\":\"Figure\",\"type\":\"Plot\"},{\"attributes\":{\"formatter\":{\"id\":\"f0669bdd-f6ff-4abb-8c8a-e9d6b71719bc\",\"type\":\"BasicTickFormatter\"},\"plot\":{\"id\":\"516a5505-5a23-4fc3-a764-94c5b187bb63\",\"subtype\":\"Figure\",\"type\":\"Plot\"},\"ticker\":{\"id\":\"7f5d88b9-7e81-4bc9-bf3a-560a5ff9b8cf\",\"type\":\"BasicTicker\"}},\"id\":\"abb52d1a-e18f-4cfe-a2fb-e41b421ef77d\",\"type\":\"LinearAxis\"},{\"attributes\":{\"line_alpha\":{\"value\":0.1},\"line_color\":{\"value\":\"#1f77b4\"},\"x\":{\"field\":\"x\"},\"y\":{\"field\":\"y\"}},\"id\":\"09675d6e-da3a-4409-8291-1fa6715c0235\",\"type\":\"Line\"},{\"attributes\":{\"callback\":null,\"end\":117.5,\"start\":-0.5},\"id\":\"01907f3d-1f02-4e94-b62e-670d32a1706a\",\"type\":\"Range1d\"},{\"attributes\":{\"plot\":{\"id\":\"516a5505-5a23-4fc3-a764-94c5b187bb63\",\"subtype\":\"Figure\",\"type\":\"Plot\"}},\"id\":\"9ee49254-98c1-4385-b7bf-11201e88003a\",\"type\":\"SaveTool\"},{\"attributes\":{\"overlay\":{\"id\":\"2e246777-937f-4eb1-99c7-7c9b05a46857\",\"type\":\"BoxAnnotation\"},\"plot\":{\"id\":\"516a5505-5a23-4fc3-a764-94c5b187bb63\",\"subtype\":\"Figure\",\"type\":\"Plot\"}},\"id\":\"c4ed9570-a298-4064-979e-460de4d4d336\",\"type\":\"BoxZoomTool\"},{\"attributes\":{\"plot\":{\"id\":\"516a5505-5a23-4fc3-a764-94c5b187bb63\",\"subtype\":\"Figure\",\"type\":\"Plot\"},\"ticker\":{\"id\":\"7f5d88b9-7e81-4bc9-bf3a-560a5ff9b8cf\",\"type\":\"BasicTicker\"}},\"id\":\"d2c52056-471a-4d61-9493-30427fdcdbb7\",\"type\":\"Grid\"},{\"attributes\":{},\"id\":\"f0669bdd-f6ff-4abb-8c8a-e9d6b71719bc\",\"type\":\"BasicTickFormatter\"}],\"root_ids\":[\"516a5505-5a23-4fc3-a764-94c5b187bb63\"]},\"title\":\"Bokeh Application\",\"version\":\"0.12.0\"}};\n",
       "            var render_items = [{\"docid\":\"819f42e2-6c80-42da-b45f-d8f406d765ca\",\"elementid\":\"a3e8347e-c2e5-4fd4-9352-06992744a42c\",\"modelid\":\"516a5505-5a23-4fc3-a764-94c5b187bb63\",\"notebook_comms_target\":\"a2807d9e-c021-41c4-a851-a7b485fb76dc\"}];\n",
       "            \n",
       "            Bokeh.embed.embed_items(docs_json, render_items);\n",
       "        });\n",
       "      },\n",
       "      function(Bokeh) {\n",
       "      }\n",
       "    ];\n",
       "  \n",
       "    function run_inline_js() {\n",
       "      for (var i = 0; i < inline_js.length; i++) {\n",
       "        inline_js[i](window.Bokeh);\n",
       "      }\n",
       "    }\n",
       "  \n",
       "    if (window._bokeh_is_loading === 0) {\n",
       "      console.log(\"Bokeh: BokehJS loaded, going straight to plotting\");\n",
       "      run_inline_js();\n",
       "    } else {\n",
       "      load_libs(js_urls, function() {\n",
       "        console.log(\"Bokeh: BokehJS plotting callback run at\", now());\n",
       "        run_inline_js();\n",
       "      });\n",
       "    }\n",
       "  }(this));\n",
       "</script>"
      ]
     },
     "metadata": {},
     "output_type": "display_data"
    },
    {
     "data": {
      "text/html": [
       "<p><code>&lt;Bokeh Notebook handle for <strong>In[8]</strong>&gt;</code></p>"
      ],
      "text/plain": [
       "<bokeh.io._CommsHandle at 0x7fe7cc5c2510>"
      ]
     },
     "execution_count": 8,
     "metadata": {},
     "output_type": "execute_result"
    }
   ],
   "source": [
    "count_data = sa_123_1561.unique_snps_per_allele(am_25_27)\n",
    "plt_obj = smcp(count_data)\n",
    "plt = plt_obj.do_plot()\n",
    "show(plt)"
   ]
  },
  {
   "cell_type": "code",
   "execution_count": 9,
   "metadata": {
    "collapsed": false
   },
   "outputs": [
    {
     "data": {
      "text/plain": [
       "array([(106, 1), (107, 1), (115, 23), (116, 2)], \n",
       "      dtype=[('count', '<u2'), ('snps', '<u2')])"
      ]
     },
     "execution_count": 9,
     "metadata": {},
     "output_type": "execute_result"
    }
   ],
   "source": [
    "count_data"
   ]
  },
  {
   "cell_type": "code",
   "execution_count": 10,
   "metadata": {
    "collapsed": false
   },
   "outputs": [
    {
     "data": {
      "text/plain": [
       "array([23, 23, 23, 23, 23, 23, 23, 23, 23, 23, 23, 23, 23, 23, 23, 23, 23,\n",
       "        0, 23, 23,  0, 23, 23,  0, 23, 23, 23, 23, 23, 23, 23, 23,  0, 23,\n",
       "       23, 23, 23, 23, 23, 23, 23, 23, 23, 23, 23, 23, 23, 23, 23, 23, 23,\n",
       "       23, 23, 23, 23, 23, 23, 23, 23, 23, 23,  0, 23, 23, 23, 23, 23, 23,\n",
       "       23, 23, 23, 23, 23, 23, 23, 23, 23, 23, 23,  0, 23, 23, 23, 23,  0,\n",
       "       23, 23, 23, 23, 23, 23, 23, 23, 23, 23, 23, 23, 23, 23, 23, 23, 23,\n",
       "       23, 23, 23,  0, 23, 23, 23, 23, 23, 23, 23, 23, 23, 23, 23, 23, 23,\n",
       "       23, 23, 23, 23])"
      ]
     },
     "execution_count": 10,
     "metadata": {},
     "output_type": "execute_result"
    }
   ],
   "source": [
    "spa_115, am_115 = sa_123_1561.snps_from_aps_value(115, am_25_27)\n",
    "spa_115"
   ]
  },
  {
   "cell_type": "code",
   "execution_count": 11,
   "metadata": {
    "collapsed": false
   },
   "outputs": [
    {
     "data": {
      "text/html": [
       "\n",
       "\n",
       "    <div class=\"bk-root\">\n",
       "        <div class=\"plotdiv\" id=\"3c2a41e0-ffbc-431d-a9cf-880a43016f36\"></div>\n",
       "    </div>\n",
       "<script type=\"text/javascript\">\n",
       "  \n",
       "  (function(global) {\n",
       "    function now() {\n",
       "      return new Date();\n",
       "    }\n",
       "  \n",
       "    if (typeof (window._bokeh_onload_callbacks) === \"undefined\") {\n",
       "      window._bokeh_onload_callbacks = [];\n",
       "    }\n",
       "  \n",
       "    function run_callbacks() {\n",
       "      window._bokeh_onload_callbacks.forEach(function(callback) { callback() });\n",
       "      delete window._bokeh_onload_callbacks\n",
       "      console.info(\"Bokeh: all callbacks have finished\");\n",
       "    }\n",
       "  \n",
       "    function load_libs(js_urls, callback) {\n",
       "      window._bokeh_onload_callbacks.push(callback);\n",
       "      if (window._bokeh_is_loading > 0) {\n",
       "        console.log(\"Bokeh: BokehJS is being loaded, scheduling callback at\", now());\n",
       "        return null;\n",
       "      }\n",
       "      if (js_urls == null || js_urls.length === 0) {\n",
       "        run_callbacks();\n",
       "        return null;\n",
       "      }\n",
       "      console.log(\"Bokeh: BokehJS not loaded, scheduling load and callback at\", now());\n",
       "      window._bokeh_is_loading = js_urls.length;\n",
       "      for (var i = 0; i < js_urls.length; i++) {\n",
       "        var url = js_urls[i];\n",
       "        var s = document.createElement('script');\n",
       "        s.src = url;\n",
       "        s.async = false;\n",
       "        s.onreadystatechange = s.onload = function() {\n",
       "          window._bokeh_is_loading--;\n",
       "          if (window._bokeh_is_loading === 0) {\n",
       "            console.log(\"Bokeh: all BokehJS libraries loaded\");\n",
       "            run_callbacks()\n",
       "          }\n",
       "        };\n",
       "        s.onerror = function() {\n",
       "          console.warn(\"failed to load library \" + url);\n",
       "        };\n",
       "        console.log(\"Bokeh: injecting script tag for BokehJS library: \", url);\n",
       "        document.getElementsByTagName(\"head\")[0].appendChild(s);\n",
       "      }\n",
       "    };var element = document.getElementById(\"3c2a41e0-ffbc-431d-a9cf-880a43016f36\");\n",
       "    if (element == null) {\n",
       "      console.log(\"Bokeh: ERROR: autoload.js configured with elementid '3c2a41e0-ffbc-431d-a9cf-880a43016f36' but no matching script tag was found. \")\n",
       "      return false;\n",
       "    }\n",
       "  \n",
       "    var js_urls = [];\n",
       "  \n",
       "    var inline_js = [\n",
       "      function(Bokeh) {\n",
       "        Bokeh.$(function() {\n",
       "            var docs_json = {\"19c13cdf-095e-4a8e-b610-5caf32ba2988\":{\"roots\":{\"references\":[{\"attributes\":{},\"id\":\"24929b91-6f68-4af5-bed6-0a9019b7a224\",\"type\":\"BasicTickFormatter\"},{\"attributes\":{},\"id\":\"0b679e0a-57b1-476c-8f0b-e894ea74bb47\",\"type\":\"ToolEvents\"},{\"attributes\":{\"dimension\":1,\"plot\":{\"id\":\"42c71b97-fa4e-4b65-92a6-5975e493a897\",\"subtype\":\"Figure\",\"type\":\"Plot\"},\"ticker\":{\"id\":\"6b264662-6993-4faa-bc8b-16c38d205778\",\"type\":\"BasicTicker\"}},\"id\":\"dc89b406-1842-43ea-b178-984c9382b681\",\"type\":\"Grid\"},{\"attributes\":{\"formatter\":{\"id\":\"24929b91-6f68-4af5-bed6-0a9019b7a224\",\"type\":\"BasicTickFormatter\"},\"plot\":{\"id\":\"42c71b97-fa4e-4b65-92a6-5975e493a897\",\"subtype\":\"Figure\",\"type\":\"Plot\"},\"ticker\":{\"id\":\"6b264662-6993-4faa-bc8b-16c38d205778\",\"type\":\"BasicTicker\"}},\"id\":\"8c74cf94-6464-40e8-ba3b-c3120e877a18\",\"type\":\"LinearAxis\"},{\"attributes\":{\"plot\":{\"id\":\"42c71b97-fa4e-4b65-92a6-5975e493a897\",\"subtype\":\"Figure\",\"type\":\"Plot\"}},\"id\":\"b4412a80-f452-4c19-bb3f-88831161aaec\",\"type\":\"HelpTool\"},{\"attributes\":{\"line_color\":{\"value\":\"#1f77b4\"},\"x\":{\"field\":\"x\"},\"y\":{\"field\":\"y\"}},\"id\":\"7b379d20-b2ee-49cd-bcb7-57ca60f2194e\",\"type\":\"Line\"},{\"attributes\":{\"plot\":{\"id\":\"42c71b97-fa4e-4b65-92a6-5975e493a897\",\"subtype\":\"Figure\",\"type\":\"Plot\"}},\"id\":\"3c0fed3f-e223-45c9-86bc-9758411ac9da\",\"type\":\"PanTool\"},{\"attributes\":{\"overlay\":{\"id\":\"ff7b2156-2cb8-42b4-a881-c3b8398f346f\",\"type\":\"BoxAnnotation\"},\"plot\":{\"id\":\"42c71b97-fa4e-4b65-92a6-5975e493a897\",\"subtype\":\"Figure\",\"type\":\"Plot\"}},\"id\":\"1238d5da-ca95-4664-8ead-1a2ae399b5b9\",\"type\":\"BoxZoomTool\"},{\"attributes\":{},\"id\":\"166a7920-285c-4cc4-8375-c797cf0da865\",\"type\":\"BasicTickFormatter\"},{\"attributes\":{},\"id\":\"6b264662-6993-4faa-bc8b-16c38d205778\",\"type\":\"BasicTicker\"},{\"attributes\":{\"bottom_units\":\"screen\",\"fill_alpha\":{\"value\":0.5},\"fill_color\":{\"value\":\"lightgrey\"},\"left_units\":\"screen\",\"level\":\"overlay\",\"line_alpha\":{\"value\":1.0},\"line_color\":{\"value\":\"black\"},\"line_dash\":[4,4],\"line_width\":{\"value\":2},\"plot\":null,\"render_mode\":\"css\",\"right_units\":\"screen\",\"top_units\":\"screen\"},\"id\":\"ff7b2156-2cb8-42b4-a881-c3b8398f346f\",\"type\":\"BoxAnnotation\"},{\"attributes\":{},\"id\":\"10946863-a020-4186-9798-f081f6b3a0f5\",\"type\":\"BasicTicker\"},{\"attributes\":{\"line_alpha\":{\"value\":0.1},\"line_color\":{\"value\":\"#1f77b4\"},\"x\":{\"field\":\"x\"},\"y\":{\"field\":\"y\"}},\"id\":\"bba9bcb2-2dd3-4cd4-afeb-b8f4d8d96009\",\"type\":\"Line\"},{\"attributes\":{\"plot\":{\"id\":\"42c71b97-fa4e-4b65-92a6-5975e493a897\",\"subtype\":\"Figure\",\"type\":\"Plot\"}},\"id\":\"a021984d-ba2a-41ee-b212-fcb024966203\",\"type\":\"ResetTool\"},{\"attributes\":{\"plot\":{\"id\":\"42c71b97-fa4e-4b65-92a6-5975e493a897\",\"subtype\":\"Figure\",\"type\":\"Plot\"}},\"id\":\"8bc43fbf-e3a2-478a-a211-0f9257c977a1\",\"type\":\"WheelZoomTool\"},{\"attributes\":{\"active_drag\":\"auto\",\"active_scroll\":\"auto\",\"active_tap\":\"auto\",\"tools\":[{\"id\":\"3c0fed3f-e223-45c9-86bc-9758411ac9da\",\"type\":\"PanTool\"},{\"id\":\"8bc43fbf-e3a2-478a-a211-0f9257c977a1\",\"type\":\"WheelZoomTool\"},{\"id\":\"1238d5da-ca95-4664-8ead-1a2ae399b5b9\",\"type\":\"BoxZoomTool\"},{\"id\":\"9a108f83-7710-4755-b075-e5e4a684b511\",\"type\":\"SaveTool\"},{\"id\":\"a021984d-ba2a-41ee-b212-fcb024966203\",\"type\":\"ResetTool\"},{\"id\":\"b4412a80-f452-4c19-bb3f-88831161aaec\",\"type\":\"HelpTool\"}]},\"id\":\"dcd7414e-0756-4234-b1a9-921ecbf70263\",\"type\":\"Toolbar\"},{\"attributes\":{\"callback\":null,\"column_names\":[\"y\",\"x\"],\"data\":{\"x\":[-0.5,-0.5,19.5,19.5,20.5,20.5,21.5,21.5,22.5,22.5],\"y\":[0.0,0.0,0.0,18.0,18.0,1.0,1.0,8.0,8.0,0.0]}},\"id\":\"afb73bb4-e162-481d-bd61-b9e3944e4896\",\"type\":\"ColumnDataSource\"},{\"attributes\":{\"data_source\":{\"id\":\"afb73bb4-e162-481d-bd61-b9e3944e4896\",\"type\":\"ColumnDataSource\"},\"glyph\":{\"id\":\"7b379d20-b2ee-49cd-bcb7-57ca60f2194e\",\"type\":\"Line\"},\"hover_glyph\":null,\"nonselection_glyph\":{\"id\":\"bba9bcb2-2dd3-4cd4-afeb-b8f4d8d96009\",\"type\":\"Line\"},\"selection_glyph\":null},\"id\":\"5e94fe53-f41a-476a-8c8b-e49e96ddb2cb\",\"type\":\"GlyphRenderer\"},{\"attributes\":{\"below\":[{\"id\":\"117ae7ef-c157-44cf-aaf6-8f391f374f82\",\"type\":\"LinearAxis\"}],\"left\":[{\"id\":\"8c74cf94-6464-40e8-ba3b-c3120e877a18\",\"type\":\"LinearAxis\"}],\"plot_height\":400,\"plot_width\":900,\"renderers\":[{\"id\":\"117ae7ef-c157-44cf-aaf6-8f391f374f82\",\"type\":\"LinearAxis\"},{\"id\":\"3ecf4499-182e-40a7-b80f-2fc8726af755\",\"type\":\"Grid\"},{\"id\":\"8c74cf94-6464-40e8-ba3b-c3120e877a18\",\"type\":\"LinearAxis\"},{\"id\":\"dc89b406-1842-43ea-b178-984c9382b681\",\"type\":\"Grid\"},{\"id\":\"ff7b2156-2cb8-42b4-a881-c3b8398f346f\",\"type\":\"BoxAnnotation\"},{\"id\":\"5e94fe53-f41a-476a-8c8b-e49e96ddb2cb\",\"type\":\"GlyphRenderer\"}],\"title\":{\"id\":\"9af6f95e-b351-42ff-ab28-6afaeb82a361\",\"type\":\"Title\"},\"tool_events\":{\"id\":\"0b679e0a-57b1-476c-8f0b-e894ea74bb47\",\"type\":\"ToolEvents\"},\"toolbar\":{\"id\":\"dcd7414e-0756-4234-b1a9-921ecbf70263\",\"type\":\"Toolbar\"},\"toolbar_location\":null,\"x_range\":{\"id\":\"d06a3142-e764-4994-9a7c-0f58b43d37e8\",\"type\":\"Range1d\"},\"y_range\":{\"id\":\"2813a124-261a-47ec-949a-33961c21cd5f\",\"type\":\"Range1d\"}},\"id\":\"42c71b97-fa4e-4b65-92a6-5975e493a897\",\"subtype\":\"Figure\",\"type\":\"Plot\"},{\"attributes\":{\"plot\":{\"id\":\"42c71b97-fa4e-4b65-92a6-5975e493a897\",\"subtype\":\"Figure\",\"type\":\"Plot\"},\"ticker\":{\"id\":\"10946863-a020-4186-9798-f081f6b3a0f5\",\"type\":\"BasicTicker\"}},\"id\":\"3ecf4499-182e-40a7-b80f-2fc8726af755\",\"type\":\"Grid\"},{\"attributes\":{\"plot\":null,\"text\":null},\"id\":\"9af6f95e-b351-42ff-ab28-6afaeb82a361\",\"type\":\"Title\"},{\"attributes\":{\"callback\":null,\"end\":23.5,\"start\":-0.5},\"id\":\"d06a3142-e764-4994-9a7c-0f58b43d37e8\",\"type\":\"Range1d\"},{\"attributes\":{\"formatter\":{\"id\":\"166a7920-285c-4cc4-8375-c797cf0da865\",\"type\":\"BasicTickFormatter\"},\"plot\":{\"id\":\"42c71b97-fa4e-4b65-92a6-5975e493a897\",\"subtype\":\"Figure\",\"type\":\"Plot\"},\"ticker\":{\"id\":\"10946863-a020-4186-9798-f081f6b3a0f5\",\"type\":\"BasicTicker\"}},\"id\":\"117ae7ef-c157-44cf-aaf6-8f391f374f82\",\"type\":\"LinearAxis\"},{\"attributes\":{\"callback\":null,\"end\":19.8},\"id\":\"2813a124-261a-47ec-949a-33961c21cd5f\",\"type\":\"Range1d\"},{\"attributes\":{\"plot\":{\"id\":\"42c71b97-fa4e-4b65-92a6-5975e493a897\",\"subtype\":\"Figure\",\"type\":\"Plot\"}},\"id\":\"9a108f83-7710-4755-b075-e5e4a684b511\",\"type\":\"SaveTool\"}],\"root_ids\":[\"42c71b97-fa4e-4b65-92a6-5975e493a897\"]},\"title\":\"Bokeh Application\",\"version\":\"0.12.0\"}};\n",
       "            var render_items = [{\"docid\":\"19c13cdf-095e-4a8e-b610-5caf32ba2988\",\"elementid\":\"3c2a41e0-ffbc-431d-a9cf-880a43016f36\",\"modelid\":\"42c71b97-fa4e-4b65-92a6-5975e493a897\",\"notebook_comms_target\":\"30aee776-7e5c-4f42-a0df-cae661e0b5b9\"}];\n",
       "            \n",
       "            Bokeh.embed.embed_items(docs_json, render_items);\n",
       "        });\n",
       "      },\n",
       "      function(Bokeh) {\n",
       "      }\n",
       "    ];\n",
       "  \n",
       "    function run_inline_js() {\n",
       "      for (var i = 0; i < inline_js.length; i++) {\n",
       "        inline_js[i](window.Bokeh);\n",
       "      }\n",
       "    }\n",
       "  \n",
       "    if (window._bokeh_is_loading === 0) {\n",
       "      console.log(\"Bokeh: BokehJS loaded, going straight to plotting\");\n",
       "      run_inline_js();\n",
       "    } else {\n",
       "      load_libs(js_urls, function() {\n",
       "        console.log(\"Bokeh: BokehJS plotting callback run at\", now());\n",
       "        run_inline_js();\n",
       "      });\n",
       "    }\n",
       "  }(this));\n",
       "</script>"
      ]
     },
     "metadata": {},
     "output_type": "display_data"
    },
    {
     "data": {
      "text/html": [
       "<p><code>&lt;Bokeh Notebook handle for <strong>In[11]</strong>&gt;</code></p>"
      ],
      "text/plain": [
       "<bokeh.io._CommsHandle at 0x7fe7cc5a0fd0>"
      ]
     },
     "execution_count": 11,
     "metadata": {},
     "output_type": "execute_result"
    }
   ],
   "source": [
    "count_data = sa_62_1265.unique_snps_per_allele(am_25_27)\n",
    "plt_obj = smcp(count_data)\n",
    "plt = plt_obj.do_plot()\n",
    "show(plt)"
   ]
  },
  {
   "cell_type": "code",
   "execution_count": 12,
   "metadata": {
    "collapsed": false
   },
   "outputs": [
    {
     "data": {
      "text/plain": [
       "array([(20, 18), (21, 1), (22, 8)], \n",
       "      dtype=[('count', '<u2'), ('snps', '<u2')])"
      ]
     },
     "execution_count": 12,
     "metadata": {},
     "output_type": "execute_result"
    }
   ],
   "source": [
    "count_data"
   ]
  },
  {
   "cell_type": "code",
   "execution_count": 13,
   "metadata": {
    "collapsed": false
   },
   "outputs": [
    {
     "data": {
      "text/plain": [
       "array([27, 27, 27,  9,  9, 27, 27, 27, 27, 27, 27, 27, 27, 27, 27, 27, 27,\n",
       "       27,  0, 27, 27,  0, 27,  0,  0,  0,  0,  0,  0,  0,  0,  0,  0,  0,\n",
       "        0,  0,  0,  0,  0,  0, 26,  0,  0,  0,  0,  0,  0,  0,  0,  0,  0,\n",
       "        0,  0,  0,  0,  0,  0,  0,  0,  0,  0,  0])"
      ]
     },
     "execution_count": 13,
     "metadata": {},
     "output_type": "execute_result"
    }
   ],
   "source": [
    "an.sa_62_1265.alleles_per_snp(am_25_27)"
   ]
  },
  {
   "cell_type": "code",
   "execution_count": 14,
   "metadata": {
    "collapsed": false
   },
   "outputs": [
    {
     "data": {
      "text/plain": [
       "array([18, 18, 18,  0,  0, 18, 18, 18, 18, 18, 18, 18, 18, 18, 18, 18, 18,\n",
       "       18,  0, 18, 18,  0, 18,  0,  0,  0,  0,  0,  0,  0,  0,  0,  0,  0,\n",
       "        0,  0,  0,  0,  0,  0, 18,  0,  0,  0,  0,  0,  0,  0,  0,  0,  0,\n",
       "        0,  0,  0,  0,  0,  0,  0,  0,  0,  0,  0])"
      ]
     },
     "execution_count": 14,
     "metadata": {},
     "output_type": "execute_result"
    }
   ],
   "source": [
    "spa_20, am_20 = sa_62_1265.snps_from_aps_value(20, am_25_27)\n",
    "spa_20"
   ]
  },
  {
   "cell_type": "code",
   "execution_count": 15,
   "metadata": {
    "collapsed": false
   },
   "outputs": [
    {
     "data": {
      "text/plain": [
       "array([8, 8, 8, 8, 8, 8, 8, 8, 8, 8, 8, 8, 8, 8, 8, 8, 8, 8, 0, 8, 8, 0, 8,\n",
       "       0, 0, 0, 0, 0, 0, 0, 0, 0, 0, 0, 0, 0, 0, 0, 0, 0, 8, 0, 0, 0, 0, 0,\n",
       "       0, 0, 0, 0, 0, 0, 0, 0, 0, 0, 0, 0, 0, 0, 0, 0])"
      ]
     },
     "execution_count": 15,
     "metadata": {},
     "output_type": "execute_result"
    }
   ],
   "source": [
    "spa_22, am_22 = sa_62_1265.snps_from_aps_value(22, am_25_27)\n",
    "spa_22"
   ]
  },
  {
   "cell_type": "code",
   "execution_count": 16,
   "metadata": {
    "collapsed": false
   },
   "outputs": [
    {
     "data": {
      "text/html": [
       "\n",
       "\n",
       "    <div class=\"bk-root\">\n",
       "        <div class=\"plotdiv\" id=\"dc14a013-eb2d-4056-8d9e-c2517d535d24\"></div>\n",
       "    </div>\n",
       "<script type=\"text/javascript\">\n",
       "  \n",
       "  (function(global) {\n",
       "    function now() {\n",
       "      return new Date();\n",
       "    }\n",
       "  \n",
       "    if (typeof (window._bokeh_onload_callbacks) === \"undefined\") {\n",
       "      window._bokeh_onload_callbacks = [];\n",
       "    }\n",
       "  \n",
       "    function run_callbacks() {\n",
       "      window._bokeh_onload_callbacks.forEach(function(callback) { callback() });\n",
       "      delete window._bokeh_onload_callbacks\n",
       "      console.info(\"Bokeh: all callbacks have finished\");\n",
       "    }\n",
       "  \n",
       "    function load_libs(js_urls, callback) {\n",
       "      window._bokeh_onload_callbacks.push(callback);\n",
       "      if (window._bokeh_is_loading > 0) {\n",
       "        console.log(\"Bokeh: BokehJS is being loaded, scheduling callback at\", now());\n",
       "        return null;\n",
       "      }\n",
       "      if (js_urls == null || js_urls.length === 0) {\n",
       "        run_callbacks();\n",
       "        return null;\n",
       "      }\n",
       "      console.log(\"Bokeh: BokehJS not loaded, scheduling load and callback at\", now());\n",
       "      window._bokeh_is_loading = js_urls.length;\n",
       "      for (var i = 0; i < js_urls.length; i++) {\n",
       "        var url = js_urls[i];\n",
       "        var s = document.createElement('script');\n",
       "        s.src = url;\n",
       "        s.async = false;\n",
       "        s.onreadystatechange = s.onload = function() {\n",
       "          window._bokeh_is_loading--;\n",
       "          if (window._bokeh_is_loading === 0) {\n",
       "            console.log(\"Bokeh: all BokehJS libraries loaded\");\n",
       "            run_callbacks()\n",
       "          }\n",
       "        };\n",
       "        s.onerror = function() {\n",
       "          console.warn(\"failed to load library \" + url);\n",
       "        };\n",
       "        console.log(\"Bokeh: injecting script tag for BokehJS library: \", url);\n",
       "        document.getElementsByTagName(\"head\")[0].appendChild(s);\n",
       "      }\n",
       "    };var element = document.getElementById(\"dc14a013-eb2d-4056-8d9e-c2517d535d24\");\n",
       "    if (element == null) {\n",
       "      console.log(\"Bokeh: ERROR: autoload.js configured with elementid 'dc14a013-eb2d-4056-8d9e-c2517d535d24' but no matching script tag was found. \")\n",
       "      return false;\n",
       "    }\n",
       "  \n",
       "    var js_urls = [];\n",
       "  \n",
       "    var inline_js = [\n",
       "      function(Bokeh) {\n",
       "        Bokeh.$(function() {\n",
       "            var docs_json = {\"19d7c527-0bc3-4078-9699-0017fb95e598\":{\"roots\":{\"references\":[{\"attributes\":{\"line_alpha\":{\"value\":0.1},\"line_color\":{\"value\":\"#1f77b4\"},\"x\":{\"field\":\"x\"},\"y\":{\"field\":\"y\"}},\"id\":\"9abf71cf-484d-4897-9b7f-26cbf8a25629\",\"type\":\"Line\"},{\"attributes\":{\"plot\":{\"id\":\"a1d5f2e1-5ff8-4cff-9192-2234394113b3\",\"subtype\":\"Figure\",\"type\":\"Plot\"},\"ticker\":{\"id\":\"8deb9e8b-ec8f-453d-a358-193bf021dca0\",\"type\":\"BasicTicker\"}},\"id\":\"9a1a4964-b009-42cd-b19b-eadbb460bbc0\",\"type\":\"Grid\"},{\"attributes\":{\"plot\":{\"id\":\"a1d5f2e1-5ff8-4cff-9192-2234394113b3\",\"subtype\":\"Figure\",\"type\":\"Plot\"}},\"id\":\"2114a645-ef67-46e8-9366-b52848fe8b84\",\"type\":\"WheelZoomTool\"},{\"attributes\":{},\"id\":\"e76ddacf-d763-4795-af2d-fa674c520225\",\"type\":\"BasicTickFormatter\"},{\"attributes\":{\"data_source\":{\"id\":\"8281b837-a89f-4436-97b4-b89334db708f\",\"type\":\"ColumnDataSource\"},\"glyph\":{\"id\":\"91ac46e3-fc21-4447-a9d8-a103d1683a47\",\"type\":\"Line\"},\"hover_glyph\":null,\"nonselection_glyph\":{\"id\":\"9abf71cf-484d-4897-9b7f-26cbf8a25629\",\"type\":\"Line\"},\"selection_glyph\":null},\"id\":\"bb8a75c7-dc92-457e-b5d8-b16b3dc94914\",\"type\":\"GlyphRenderer\"},{\"attributes\":{\"callback\":null,\"end\":28.6},\"id\":\"f8cdd949-362e-4373-ae27-2c417bf64f1c\",\"type\":\"Range1d\"},{\"attributes\":{\"plot\":{\"id\":\"a1d5f2e1-5ff8-4cff-9192-2234394113b3\",\"subtype\":\"Figure\",\"type\":\"Plot\"}},\"id\":\"ae9ac6d2-1926-4b8b-a808-bb80fac3a67b\",\"type\":\"HelpTool\"},{\"attributes\":{},\"id\":\"8deb9e8b-ec8f-453d-a358-193bf021dca0\",\"type\":\"BasicTicker\"},{\"attributes\":{\"bottom_units\":\"screen\",\"fill_alpha\":{\"value\":0.5},\"fill_color\":{\"value\":\"lightgrey\"},\"left_units\":\"screen\",\"level\":\"overlay\",\"line_alpha\":{\"value\":1.0},\"line_color\":{\"value\":\"black\"},\"line_dash\":[4,4],\"line_width\":{\"value\":2},\"plot\":null,\"render_mode\":\"css\",\"right_units\":\"screen\",\"top_units\":\"screen\"},\"id\":\"ac0c3fcb-cc0d-448e-8052-72f4781d4927\",\"type\":\"BoxAnnotation\"},{\"attributes\":{},\"id\":\"fbf53029-36f1-4d57-91d3-4631be75b011\",\"type\":\"ToolEvents\"},{\"attributes\":{\"active_drag\":\"auto\",\"active_scroll\":\"auto\",\"active_tap\":\"auto\",\"tools\":[{\"id\":\"fa435631-e38c-4c2e-ae4a-1ec96bcd770f\",\"type\":\"PanTool\"},{\"id\":\"2114a645-ef67-46e8-9366-b52848fe8b84\",\"type\":\"WheelZoomTool\"},{\"id\":\"52be8d7a-d2b8-43ed-aec8-f530ee92d1e9\",\"type\":\"BoxZoomTool\"},{\"id\":\"4f5bd942-ecfb-49df-a274-41342f77843d\",\"type\":\"SaveTool\"},{\"id\":\"ff41e9d8-bb56-4a6e-8b5c-b52a833903d9\",\"type\":\"ResetTool\"},{\"id\":\"ae9ac6d2-1926-4b8b-a808-bb80fac3a67b\",\"type\":\"HelpTool\"}]},\"id\":\"51dd185d-1627-49d4-a92f-5ee63776fdc5\",\"type\":\"Toolbar\"},{\"attributes\":{\"below\":[{\"id\":\"95661903-e86b-4f95-a4af-0d94a4eac30b\",\"type\":\"LinearAxis\"}],\"left\":[{\"id\":\"3d5e038c-5c6a-4648-8a1d-326d357bfa1e\",\"type\":\"LinearAxis\"}],\"plot_height\":400,\"plot_width\":900,\"renderers\":[{\"id\":\"95661903-e86b-4f95-a4af-0d94a4eac30b\",\"type\":\"LinearAxis\"},{\"id\":\"9a1a4964-b009-42cd-b19b-eadbb460bbc0\",\"type\":\"Grid\"},{\"id\":\"3d5e038c-5c6a-4648-8a1d-326d357bfa1e\",\"type\":\"LinearAxis\"},{\"id\":\"a2a94c1e-7ac3-485b-a4ae-de40e88c6a92\",\"type\":\"Grid\"},{\"id\":\"ac0c3fcb-cc0d-448e-8052-72f4781d4927\",\"type\":\"BoxAnnotation\"},{\"id\":\"bb8a75c7-dc92-457e-b5d8-b16b3dc94914\",\"type\":\"GlyphRenderer\"}],\"title\":{\"id\":\"81b80fea-67e9-4b60-814c-492cbfceb016\",\"type\":\"Title\"},\"tool_events\":{\"id\":\"fbf53029-36f1-4d57-91d3-4631be75b011\",\"type\":\"ToolEvents\"},\"toolbar\":{\"id\":\"51dd185d-1627-49d4-a92f-5ee63776fdc5\",\"type\":\"Toolbar\"},\"toolbar_location\":null,\"x_range\":{\"id\":\"8e3415a7-3da6-43f8-8022-12f8997c3a53\",\"type\":\"Range1d\"},\"y_range\":{\"id\":\"f8cdd949-362e-4373-ae27-2c417bf64f1c\",\"type\":\"Range1d\"}},\"id\":\"a1d5f2e1-5ff8-4cff-9192-2234394113b3\",\"subtype\":\"Figure\",\"type\":\"Plot\"},{\"attributes\":{\"formatter\":{\"id\":\"0895e1b3-de93-4434-b70e-f715e5da6aa1\",\"type\":\"BasicTickFormatter\"},\"plot\":{\"id\":\"a1d5f2e1-5ff8-4cff-9192-2234394113b3\",\"subtype\":\"Figure\",\"type\":\"Plot\"},\"ticker\":{\"id\":\"8deb9e8b-ec8f-453d-a358-193bf021dca0\",\"type\":\"BasicTicker\"}},\"id\":\"95661903-e86b-4f95-a4af-0d94a4eac30b\",\"type\":\"LinearAxis\"},{\"attributes\":{\"dimension\":1,\"plot\":{\"id\":\"a1d5f2e1-5ff8-4cff-9192-2234394113b3\",\"subtype\":\"Figure\",\"type\":\"Plot\"},\"ticker\":{\"id\":\"52b7e20d-0385-4bca-a1bf-39a8a8d0c4a8\",\"type\":\"BasicTicker\"}},\"id\":\"a2a94c1e-7ac3-485b-a4ae-de40e88c6a92\",\"type\":\"Grid\"},{\"attributes\":{\"callback\":null,\"end\":56.5,\"start\":-0.5},\"id\":\"8e3415a7-3da6-43f8-8022-12f8997c3a53\",\"type\":\"Range1d\"},{\"attributes\":{\"formatter\":{\"id\":\"e76ddacf-d763-4795-af2d-fa674c520225\",\"type\":\"BasicTickFormatter\"},\"plot\":{\"id\":\"a1d5f2e1-5ff8-4cff-9192-2234394113b3\",\"subtype\":\"Figure\",\"type\":\"Plot\"},\"ticker\":{\"id\":\"52b7e20d-0385-4bca-a1bf-39a8a8d0c4a8\",\"type\":\"BasicTicker\"}},\"id\":\"3d5e038c-5c6a-4648-8a1d-326d357bfa1e\",\"type\":\"LinearAxis\"},{\"attributes\":{\"plot\":{\"id\":\"a1d5f2e1-5ff8-4cff-9192-2234394113b3\",\"subtype\":\"Figure\",\"type\":\"Plot\"}},\"id\":\"4f5bd942-ecfb-49df-a274-41342f77843d\",\"type\":\"SaveTool\"},{\"attributes\":{\"line_color\":{\"value\":\"#1f77b4\"},\"x\":{\"field\":\"x\"},\"y\":{\"field\":\"y\"}},\"id\":\"91ac46e3-fc21-4447-a9d8-a103d1683a47\",\"type\":\"Line\"},{\"attributes\":{\"overlay\":{\"id\":\"ac0c3fcb-cc0d-448e-8052-72f4781d4927\",\"type\":\"BoxAnnotation\"},\"plot\":{\"id\":\"a1d5f2e1-5ff8-4cff-9192-2234394113b3\",\"subtype\":\"Figure\",\"type\":\"Plot\"}},\"id\":\"52be8d7a-d2b8-43ed-aec8-f530ee92d1e9\",\"type\":\"BoxZoomTool\"},{\"attributes\":{},\"id\":\"0895e1b3-de93-4434-b70e-f715e5da6aa1\",\"type\":\"BasicTickFormatter\"},{\"attributes\":{},\"id\":\"52b7e20d-0385-4bca-a1bf-39a8a8d0c4a8\",\"type\":\"BasicTicker\"},{\"attributes\":{\"callback\":null,\"column_names\":[\"y\",\"x\"],\"data\":{\"x\":[-0.5,-0.5,53.5,53.5,54.5,54.5,55.5,55.5],\"y\":[0.0,0.0,0.0,1.0,1.0,26.0,26.0,0.0]}},\"id\":\"8281b837-a89f-4436-97b4-b89334db708f\",\"type\":\"ColumnDataSource\"},{\"attributes\":{\"plot\":{\"id\":\"a1d5f2e1-5ff8-4cff-9192-2234394113b3\",\"subtype\":\"Figure\",\"type\":\"Plot\"}},\"id\":\"fa435631-e38c-4c2e-ae4a-1ec96bcd770f\",\"type\":\"PanTool\"},{\"attributes\":{\"plot\":null,\"text\":null},\"id\":\"81b80fea-67e9-4b60-814c-492cbfceb016\",\"type\":\"Title\"},{\"attributes\":{\"plot\":{\"id\":\"a1d5f2e1-5ff8-4cff-9192-2234394113b3\",\"subtype\":\"Figure\",\"type\":\"Plot\"}},\"id\":\"ff41e9d8-bb56-4a6e-8b5c-b52a833903d9\",\"type\":\"ResetTool\"}],\"root_ids\":[\"a1d5f2e1-5ff8-4cff-9192-2234394113b3\"]},\"title\":\"Bokeh Application\",\"version\":\"0.12.0\"}};\n",
       "            var render_items = [{\"docid\":\"19d7c527-0bc3-4078-9699-0017fb95e598\",\"elementid\":\"dc14a013-eb2d-4056-8d9e-c2517d535d24\",\"modelid\":\"a1d5f2e1-5ff8-4cff-9192-2234394113b3\",\"notebook_comms_target\":\"b1c220b9-3652-448f-89a2-f4e7f4fe24b0\"}];\n",
       "            \n",
       "            Bokeh.embed.embed_items(docs_json, render_items);\n",
       "        });\n",
       "      },\n",
       "      function(Bokeh) {\n",
       "      }\n",
       "    ];\n",
       "  \n",
       "    function run_inline_js() {\n",
       "      for (var i = 0; i < inline_js.length; i++) {\n",
       "        inline_js[i](window.Bokeh);\n",
       "      }\n",
       "    }\n",
       "  \n",
       "    if (window._bokeh_is_loading === 0) {\n",
       "      console.log(\"Bokeh: BokehJS loaded, going straight to plotting\");\n",
       "      run_inline_js();\n",
       "    } else {\n",
       "      load_libs(js_urls, function() {\n",
       "        console.log(\"Bokeh: BokehJS plotting callback run at\", now());\n",
       "        run_inline_js();\n",
       "      });\n",
       "    }\n",
       "  }(this));\n",
       "</script>"
      ]
     },
     "metadata": {},
     "output_type": "display_data"
    },
    {
     "data": {
      "text/html": [
       "<p><code>&lt;Bokeh Notebook handle for <strong>In[16]</strong>&gt;</code></p>"
      ],
      "text/plain": [
       "<bokeh.io._CommsHandle at 0x7fe7cc5ff7d0>"
      ]
     },
     "execution_count": 16,
     "metadata": {},
     "output_type": "execute_result"
    }
   ],
   "source": [
    "count_data = sa_193_843.unique_snps_per_allele(am_25_27)\n",
    "plt_obj = smcp(count_data)\n",
    "plt = plt_obj.do_plot()\n",
    "show(plt)"
   ]
  },
  {
   "cell_type": "code",
   "execution_count": 17,
   "metadata": {
    "collapsed": false
   },
   "outputs": [
    {
     "data": {
      "text/plain": [
       "array([(54, 1), (55, 26)], \n",
       "      dtype=[('count', '<u2'), ('snps', '<u2')])"
      ]
     },
     "execution_count": 17,
     "metadata": {},
     "output_type": "execute_result"
    }
   ],
   "source": [
    "count_data"
   ]
  },
  {
   "cell_type": "code",
   "execution_count": 18,
   "metadata": {
    "collapsed": false
   },
   "outputs": [
    {
     "data": {
      "text/plain": [
       "array([26, 27, 27, 27, 27, 27, 27, 27, 27, 27, 27, 27, 27, 27, 27, 27, 27,\n",
       "       27, 27, 27, 27, 27, 27, 27, 27, 27, 27, 27,  0, 27, 27, 27, 27, 27,\n",
       "       27, 27, 27, 27, 27, 27, 27, 27, 27, 27, 27, 27, 27, 27, 27, 27, 27,\n",
       "        0, 27, 27,  0,  0,  0, 27, 27,  0, 27,  0,  0,  0,  0,  0,  0,  0,\n",
       "        0,  0,  0,  0,  0,  0,  0,  0,  0,  0,  0,  0,  0,  0,  0,  0,  0,\n",
       "        0,  0,  0,  0,  0,  0,  0,  0,  0,  0,  0,  0,  0,  0,  0,  0,  0,\n",
       "        0,  0,  0,  0,  0,  0,  0,  0,  0,  0,  0,  0,  0,  0,  0,  0,  0,\n",
       "        0,  0,  0,  0,  0,  0,  0,  0,  0,  0,  0,  0,  0,  0,  0,  0,  0,\n",
       "        0,  0,  0,  0,  0,  0,  0,  0,  0,  0,  0,  0,  0,  0,  0,  0,  0,\n",
       "        0,  0,  0,  0,  0,  0,  0,  0,  0,  0,  0,  0,  0,  0,  0,  0,  0,\n",
       "        0,  0,  0,  0,  0,  0,  0,  0,  0,  0,  0,  0,  0,  0,  0,  0,  0,\n",
       "        0,  0,  0,  0,  0,  0])"
      ]
     },
     "execution_count": 18,
     "metadata": {},
     "output_type": "execute_result"
    }
   ],
   "source": [
    "an.sa_193_843.alleles_per_snp(am_25_27)"
   ]
  }
 ],
 "metadata": {
  "anaconda-cloud": {},
  "kernelspec": {
   "display_name": "Python [Root]",
   "language": "python",
   "name": "Python [Root]"
  },
  "language_info": {
   "codemirror_mode": {
    "name": "ipython",
    "version": 2
   },
   "file_extension": ".py",
   "mimetype": "text/x-python",
   "name": "python",
   "nbconvert_exporter": "python",
   "pygments_lexer": "ipython2",
   "version": "2.7.12"
  }
 },
 "nbformat": 4,
 "nbformat_minor": 0
}
