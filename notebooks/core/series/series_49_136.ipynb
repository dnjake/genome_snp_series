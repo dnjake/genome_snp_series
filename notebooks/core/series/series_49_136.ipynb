{
 "cells": [
  {
   "cell_type": "code",
   "execution_count": 1,
   "metadata": {
    "collapsed": false
   },
   "outputs": [
    {
     "data": {
      "text/html": []
     },
     "metadata": {},
     "output_type": "display_data"
    },
    {
     "data": {
      "application/javascript": [
       "\n",
       "(function(global) {\n",
       "  function now() {\n",
       "    return new Date();\n",
       "  }\n",
       "\n",
       "  if (typeof (window._bokeh_onload_callbacks) === \"undefined\") {\n",
       "    window._bokeh_onload_callbacks = [];\n",
       "  }\n",
       "\n",
       "  function run_callbacks() {\n",
       "    window._bokeh_onload_callbacks.forEach(function(callback) { callback() });\n",
       "    delete window._bokeh_onload_callbacks\n",
       "    console.info(\"Bokeh: all callbacks have finished\");\n",
       "  }\n",
       "\n",
       "  function load_libs(js_urls, callback) {\n",
       "    window._bokeh_onload_callbacks.push(callback);\n",
       "    if (window._bokeh_is_loading > 0) {\n",
       "      console.log(\"Bokeh: BokehJS is being loaded, scheduling callback at\", now());\n",
       "      return null;\n",
       "    }\n",
       "    if (js_urls == null || js_urls.length === 0) {\n",
       "      run_callbacks();\n",
       "      return null;\n",
       "    }\n",
       "    console.log(\"Bokeh: BokehJS not loaded, scheduling load and callback at\", now());\n",
       "    window._bokeh_is_loading = js_urls.length;\n",
       "    for (var i = 0; i < js_urls.length; i++) {\n",
       "      var url = js_urls[i];\n",
       "      var s = document.createElement('script');\n",
       "      s.src = url;\n",
       "      s.async = false;\n",
       "      s.onreadystatechange = s.onload = function() {\n",
       "        window._bokeh_is_loading--;\n",
       "        if (window._bokeh_is_loading === 0) {\n",
       "          console.log(\"Bokeh: all BokehJS libraries loaded\");\n",
       "          run_callbacks()\n",
       "        }\n",
       "      };\n",
       "      s.onerror = function() {\n",
       "        console.warn(\"failed to load library \" + url);\n",
       "      };\n",
       "      console.log(\"Bokeh: injecting script tag for BokehJS library: \", url);\n",
       "      document.getElementsByTagName(\"head\")[0].appendChild(s);\n",
       "    }\n",
       "  };\n",
       "\n",
       "  var js_urls = ['https://cdn.pydata.org/bokeh/release/bokeh-0.12.0.min.js', 'https://cdn.pydata.org/bokeh/release/bokeh-widgets-0.12.0.min.js', 'https://cdn.pydata.org/bokeh/release/bokeh-compiler-0.12.0.min.js'];\n",
       "\n",
       "  var inline_js = [\n",
       "    function(Bokeh) {\n",
       "      Bokeh.set_log_level(\"info\");\n",
       "    },\n",
       "    \n",
       "    function(Bokeh) {\n",
       "      Bokeh.$(\"#6532262b-4e45-464a-a332-49700695cbb8\").text(\"BokehJS successfully loaded\");\n",
       "    },\n",
       "    function(Bokeh) {\n",
       "      console.log(\"Bokeh: injecting CSS: https://cdn.pydata.org/bokeh/release/bokeh-0.12.0.min.css\");\n",
       "      Bokeh.embed.inject_css(\"https://cdn.pydata.org/bokeh/release/bokeh-0.12.0.min.css\");\n",
       "      console.log(\"Bokeh: injecting CSS: https://cdn.pydata.org/bokeh/release/bokeh-widgets-0.12.0.min.css\");\n",
       "      Bokeh.embed.inject_css(\"https://cdn.pydata.org/bokeh/release/bokeh-widgets-0.12.0.min.css\");\n",
       "    }\n",
       "  ];\n",
       "\n",
       "  function run_inline_js() {\n",
       "    for (var i = 0; i < inline_js.length; i++) {\n",
       "      inline_js[i](window.Bokeh);\n",
       "    }\n",
       "  }\n",
       "\n",
       "  if (window._bokeh_is_loading === 0) {\n",
       "    console.log(\"Bokeh: BokehJS loaded, going straight to plotting\");\n",
       "    run_inline_js();\n",
       "  } else {\n",
       "    load_libs(js_urls, function() {\n",
       "      console.log(\"Bokeh: BokehJS plotting callback run at\", now());\n",
       "      run_inline_js();\n",
       "    });\n",
       "  }\n",
       "}(this));"
      ]
     },
     "metadata": {},
     "output_type": "display_data"
    }
   ],
   "source": [
    "import numpy as np\n",
    "from IPython.display import HTML\n",
    "from bokeh.plotting import output_notebook, show\n",
    "import genomes_dnj.lct_interval.series_plots as dm\n",
    "import genomes_dnj.lct_interval.anal_series as an\n",
    "import genomes_dnj.lct_interval_snp_anal.lct_interval_snp_anal as snp_anal\n",
    "import genomes_dnj.lct_interval.series_masks as sm\n",
    "from genomes_dnj.lct_interval.bokeh_match_count_plot import snp_match_count_plot_cls as smcp\n",
    "output_notebook(hide_banner=True)\n",
    "sa_117_1685 = snp_anal.series_anal_cls(dm.di_117_1685, sm.series_data)\n",
    "sa_123_1561 = snp_anal.series_anal_cls(dm.di_123_1561, sm.series_data)\n",
    "sa_62_1265 = snp_anal.series_anal_cls(dm.di_62_1265, sm.series_data)\n",
    "sa_193_843 = snp_anal.series_anal_cls(dm.di_193_843, sm.series_data)\n",
    "sa_49_136 = snp_anal.series_anal_cls(dm.di_49_136, sm.series_data)\n",
    "am_49_136 = dm.allele_mask_from_index(dm.di_49_136)"
   ]
  },
  {
   "cell_type": "markdown",
   "metadata": {},
   "source": [
    "<h3>Series 49_136</h3>\n",
    "<div style=\"width:700px\">\n",
    "<p>\n",
    "This notebook documents the series 49_136 and its 49 SNPs. The 1000 genomes data include\n",
    "include 4823 chromosome 2 samples that express none of these 49 SNPs and 125 that express all\n",
    "49 of them.  \n",
    "<p>\n",
    "The series 49_136 is the one in the 28_434 hierarchy expressed by the smallest number of\n",
    "chromosome samples that is part of both the hierarchy that includes just 117_1685 and the\n",
    "one that includes 13_1696.  All but 1 of the samples have lost 1 of the 117_1685 SNPs.\n",
    "62 of them express 114 through 116 SNP fragments of 117_1685.  The other 74 samples\n",
    "express 105 through 107 SNP fragments of 117_1685.\n",
    "<p>\n",
    "63 of the samples express all 13 13_1696 SNPs.  Another 11 express 12 of them.  60 of the\n",
    "samples express none of the 13_1696 SNPs.  The other 2 samples express 1 or 2 of them.\n",
    "<p>\n",
    "All 136 samples express 106 throught 110 SNP fragments of 123_1561, 2 through 8 SNP fragments\n",
    "of 62_1265 and 1 through 3 SNP fragments of 193_843.\n",
    "</div>"
   ]
  },
  {
   "cell_type": "code",
   "execution_count": 2,
   "metadata": {
    "collapsed": false
   },
   "outputs": [
    {
     "data": {
      "text/html": [
       "<p>\n",
       "<b>49_136 series</b>\n",
       "</p><p>\n",
       "<table>\n",
       "<thead><tr><th style=\"text-align:center\">index</th><th style=\"text-align:center\">first</th><th style=\"text-align:center\">length</th><th style=\"text-align:center\">snps</th><th style=\"text-align:center\">alleles</th><th style=\"text-align:center\" colspan=2>afr</th><th style=\"text-align:center\" colspan=2>afx</th><th style=\"text-align:center\" colspan=2>amr</th><th style=\"text-align:center\" colspan=2>eas</th><th style=\"text-align:center\" colspan=2>eur</th><th style=\"text-align:center\" colspan=2>sas</th><th style=\"text-align:center\" colspan=2>sax</th></tr></thead>\n",
       "<tr class=\"even\"><td style=\"text-align: right;\">353304</td><td style=\"text-align: right;\">135,780,924</td><td style=\"text-align: right;\">236,215</td><td style=\"text-align: right;\">49</td><td style=\"text-align: right;\">136</td><td style=\"text-align: right;\">94</td><td style=\"text-align: right;\">3.43</td><td style=\"text-align: right;\">40</td><td style=\"text-align: right;\">4.69</td><td style=\"text-align: right;\">2</td><td style=\"text-align: right;\">0.11</td><td style=\"text-align: right;\">0</td><td style=\"text-align: right;\">0.00</td><td style=\"text-align: right;\">0</td><td style=\"text-align: right;\">0.00</td><td style=\"text-align: right;\">0</td><td style=\"text-align: right;\">0.00</td><td style=\"text-align: right;\">0</td><td style=\"text-align: right;\">0.00</td></tr>\n",
       "</table>\n",
       "</p>\n",
       "<p>\n",
       "<b>49_136 series snps</b>\n",
       "</p><p>\n",
       "<table>\n",
       "<thead><tr><th style=\"text-align:center\">index</th><th style=\"text-align:center\">pos</th><th style=\"text-align:center\">id</th><th style=\"text-align:center\">niv</th><th style=\"text-align:center\">alleles</th><th style=\"text-align:center\" colspan=2>afr</th><th style=\"text-align:center\" colspan=2>afx</th><th style=\"text-align:center\" colspan=2>amr</th><th style=\"text-align:center\" colspan=2>eas</th><th style=\"text-align:center\" colspan=2>eur</th><th style=\"text-align:center\" colspan=2>sas</th><th style=\"text-align:center\" colspan=2>sax</th></tr></thead>\n",
       "<tr class=\"even\"><td style=\"text-align: right;\">875135</td><td style=\"text-align: right;\">135,780,924</td><td>rs16831255</td><td>0</td><td style=\"text-align: right;\">143</td><td style=\"text-align: right;\">101</td><td style=\"text-align: right;\">3.51</td><td style=\"text-align: right;\">40</td><td style=\"text-align: right;\">4.46</td><td style=\"text-align: right;\">2</td><td style=\"text-align: right;\">0.10</td><td style=\"text-align: right;\">0</td><td style=\"text-align: right;\">0.00</td><td style=\"text-align: right;\">0</td><td style=\"text-align: right;\">0.00</td><td style=\"text-align: right;\">0</td><td style=\"text-align: right;\">0.00</td><td style=\"text-align: right;\">0</td><td style=\"text-align: right;\">0.00</td></tr>\n",
       "<tr><td style=\"text-align: right;\">875162</td><td style=\"text-align: right;\">135,783,872</td><td>rs7564981</td><td>0</td><td style=\"text-align: right;\">137</td><td style=\"text-align: right;\">95</td><td style=\"text-align: right;\">3.45</td><td style=\"text-align: right;\">40</td><td style=\"text-align: right;\">4.66</td><td style=\"text-align: right;\">2</td><td style=\"text-align: right;\">0.11</td><td style=\"text-align: right;\">0</td><td style=\"text-align: right;\">0.00</td><td style=\"text-align: right;\">0</td><td style=\"text-align: right;\">0.00</td><td style=\"text-align: right;\">0</td><td style=\"text-align: right;\">0.00</td><td style=\"text-align: right;\">0</td><td style=\"text-align: right;\">0.00</td></tr>\n",
       "<tr class=\"even\"><td style=\"text-align: right;\">875164</td><td style=\"text-align: right;\">135,784,174</td><td>rs7558678</td><td>0</td><td style=\"text-align: right;\">146</td><td style=\"text-align: right;\">103</td><td style=\"text-align: right;\">3.51</td><td style=\"text-align: right;\">41</td><td style=\"text-align: right;\">4.48</td><td style=\"text-align: right;\">2</td><td style=\"text-align: right;\">0.10</td><td style=\"text-align: right;\">0</td><td style=\"text-align: right;\">0.00</td><td style=\"text-align: right;\">0</td><td style=\"text-align: right;\">0.00</td><td style=\"text-align: right;\">0</td><td style=\"text-align: right;\">0.00</td><td style=\"text-align: right;\">0</td><td style=\"text-align: right;\">0.00</td></tr>\n",
       "<tr><td style=\"text-align: right;\">875168</td><td style=\"text-align: right;\">135,784,652</td><td>rs13383310</td><td>0</td><td style=\"text-align: right;\">143</td><td style=\"text-align: right;\">101</td><td style=\"text-align: right;\">3.51</td><td style=\"text-align: right;\">40</td><td style=\"text-align: right;\">4.46</td><td style=\"text-align: right;\">2</td><td style=\"text-align: right;\">0.10</td><td style=\"text-align: right;\">0</td><td style=\"text-align: right;\">0.00</td><td style=\"text-align: right;\">0</td><td style=\"text-align: right;\">0.00</td><td style=\"text-align: right;\">0</td><td style=\"text-align: right;\">0.00</td><td style=\"text-align: right;\">0</td><td style=\"text-align: right;\">0.00</td></tr>\n",
       "<tr class=\"even\"><td style=\"text-align: right;\">875184</td><td style=\"text-align: right;\">135,787,686</td><td>rs9678501</td><td>0</td><td style=\"text-align: right;\">144</td><td style=\"text-align: right;\">101</td><td style=\"text-align: right;\">3.48</td><td style=\"text-align: right;\">40</td><td style=\"text-align: right;\">4.43</td><td style=\"text-align: right;\">2</td><td style=\"text-align: right;\">0.10</td><td style=\"text-align: right;\">0</td><td style=\"text-align: right;\">0.00</td><td style=\"text-align: right;\">0</td><td style=\"text-align: right;\">0.00</td><td style=\"text-align: right;\">0</td><td style=\"text-align: right;\">0.00</td><td style=\"text-align: right;\">1</td><td style=\"text-align: right;\">0.06</td></tr>\n",
       "<tr><td style=\"text-align: right;\">875187</td><td style=\"text-align: right;\">135,788,712</td><td>rs80293384</td><td>0</td><td style=\"text-align: right;\">143</td><td style=\"text-align: right;\">101</td><td style=\"text-align: right;\">3.51</td><td style=\"text-align: right;\">40</td><td style=\"text-align: right;\">4.46</td><td style=\"text-align: right;\">2</td><td style=\"text-align: right;\">0.10</td><td style=\"text-align: right;\">0</td><td style=\"text-align: right;\">0.00</td><td style=\"text-align: right;\">0</td><td style=\"text-align: right;\">0.00</td><td style=\"text-align: right;\">0</td><td style=\"text-align: right;\">0.00</td><td style=\"text-align: right;\">0</td><td style=\"text-align: right;\">0.00</td></tr>\n",
       "<tr class=\"even\"><td style=\"text-align: right;\">875226</td><td style=\"text-align: right;\">135,794,686</td><td>rs115568509</td><td>0</td><td style=\"text-align: right;\">143</td><td style=\"text-align: right;\">101</td><td style=\"text-align: right;\">3.51</td><td style=\"text-align: right;\">40</td><td style=\"text-align: right;\">4.46</td><td style=\"text-align: right;\">2</td><td style=\"text-align: right;\">0.10</td><td style=\"text-align: right;\">0</td><td style=\"text-align: right;\">0.00</td><td style=\"text-align: right;\">0</td><td style=\"text-align: right;\">0.00</td><td style=\"text-align: right;\">0</td><td style=\"text-align: right;\">0.00</td><td style=\"text-align: right;\">0</td><td style=\"text-align: right;\">0.00</td></tr>\n",
       "<tr><td style=\"text-align: right;\">875334</td><td style=\"text-align: right;\">135,815,035</td><td>rs13393064</td><td>0</td><td style=\"text-align: right;\">143</td><td style=\"text-align: right;\">101</td><td style=\"text-align: right;\">3.51</td><td style=\"text-align: right;\">40</td><td style=\"text-align: right;\">4.46</td><td style=\"text-align: right;\">2</td><td style=\"text-align: right;\">0.10</td><td style=\"text-align: right;\">0</td><td style=\"text-align: right;\">0.00</td><td style=\"text-align: right;\">0</td><td style=\"text-align: right;\">0.00</td><td style=\"text-align: right;\">0</td><td style=\"text-align: right;\">0.00</td><td style=\"text-align: right;\">0</td><td style=\"text-align: right;\">0.00</td></tr>\n",
       "<tr class=\"even\"><td style=\"text-align: right;\">875336</td><td style=\"text-align: right;\">135,815,806</td><td>rs12104439</td><td>0</td><td style=\"text-align: right;\">143</td><td style=\"text-align: right;\">101</td><td style=\"text-align: right;\">3.51</td><td style=\"text-align: right;\">40</td><td style=\"text-align: right;\">4.46</td><td style=\"text-align: right;\">2</td><td style=\"text-align: right;\">0.10</td><td style=\"text-align: right;\">0</td><td style=\"text-align: right;\">0.00</td><td style=\"text-align: right;\">0</td><td style=\"text-align: right;\">0.00</td><td style=\"text-align: right;\">0</td><td style=\"text-align: right;\">0.00</td><td style=\"text-align: right;\">0</td><td style=\"text-align: right;\">0.00</td></tr>\n",
       "<tr><td style=\"text-align: right;\">875340</td><td style=\"text-align: right;\">135,816,299</td><td>rs16831310</td><td>0</td><td style=\"text-align: right;\">146</td><td style=\"text-align: right;\">103</td><td style=\"text-align: right;\">3.51</td><td style=\"text-align: right;\">41</td><td style=\"text-align: right;\">4.48</td><td style=\"text-align: right;\">2</td><td style=\"text-align: right;\">0.10</td><td style=\"text-align: right;\">0</td><td style=\"text-align: right;\">0.00</td><td style=\"text-align: right;\">0</td><td style=\"text-align: right;\">0.00</td><td style=\"text-align: right;\">0</td><td style=\"text-align: right;\">0.00</td><td style=\"text-align: right;\">0</td><td style=\"text-align: right;\">0.00</td></tr>\n",
       "<tr class=\"even\"><td style=\"text-align: right;\">875346</td><td style=\"text-align: right;\">135,817,965</td><td>rs12105024</td><td>0</td><td style=\"text-align: right;\">143</td><td style=\"text-align: right;\">101</td><td style=\"text-align: right;\">3.51</td><td style=\"text-align: right;\">40</td><td style=\"text-align: right;\">4.46</td><td style=\"text-align: right;\">2</td><td style=\"text-align: right;\">0.10</td><td style=\"text-align: right;\">0</td><td style=\"text-align: right;\">0.00</td><td style=\"text-align: right;\">0</td><td style=\"text-align: right;\">0.00</td><td style=\"text-align: right;\">0</td><td style=\"text-align: right;\">0.00</td><td style=\"text-align: right;\">0</td><td style=\"text-align: right;\">0.00</td></tr>\n",
       "<tr><td style=\"text-align: right;\">875357</td><td style=\"text-align: right;\">135,819,405</td><td>rs10180120</td><td>0</td><td style=\"text-align: right;\">136</td><td style=\"text-align: right;\">95</td><td style=\"text-align: right;\">3.47</td><td style=\"text-align: right;\">39</td><td style=\"text-align: right;\">4.57</td><td style=\"text-align: right;\">2</td><td style=\"text-align: right;\">0.11</td><td style=\"text-align: right;\">0</td><td style=\"text-align: right;\">0.00</td><td style=\"text-align: right;\">0</td><td style=\"text-align: right;\">0.00</td><td style=\"text-align: right;\">0</td><td style=\"text-align: right;\">0.00</td><td style=\"text-align: right;\">0</td><td style=\"text-align: right;\">0.00</td></tr>\n",
       "<tr class=\"even\"><td style=\"text-align: right;\">875364</td><td style=\"text-align: right;\">135,820,455</td><td>rs10191749</td><td>0</td><td style=\"text-align: right;\">146</td><td style=\"text-align: right;\">103</td><td style=\"text-align: right;\">3.51</td><td style=\"text-align: right;\">41</td><td style=\"text-align: right;\">4.48</td><td style=\"text-align: right;\">2</td><td style=\"text-align: right;\">0.10</td><td style=\"text-align: right;\">0</td><td style=\"text-align: right;\">0.00</td><td style=\"text-align: right;\">0</td><td style=\"text-align: right;\">0.00</td><td style=\"text-align: right;\">0</td><td style=\"text-align: right;\">0.00</td><td style=\"text-align: right;\">0</td><td style=\"text-align: right;\">0.00</td></tr>\n",
       "<tr><td style=\"text-align: right;\">875379</td><td style=\"text-align: right;\">135,822,556</td><td>rs10180803</td><td>0</td><td style=\"text-align: right;\">137</td><td style=\"text-align: right;\">95</td><td style=\"text-align: right;\">3.45</td><td style=\"text-align: right;\">40</td><td style=\"text-align: right;\">4.66</td><td style=\"text-align: right;\">2</td><td style=\"text-align: right;\">0.11</td><td style=\"text-align: right;\">0</td><td style=\"text-align: right;\">0.00</td><td style=\"text-align: right;\">0</td><td style=\"text-align: right;\">0.00</td><td style=\"text-align: right;\">0</td><td style=\"text-align: right;\">0.00</td><td style=\"text-align: right;\">0</td><td style=\"text-align: right;\">0.00</td></tr>\n",
       "<tr class=\"even\"><td style=\"text-align: right;\">875418</td><td style=\"text-align: right;\">135,830,362</td><td>rs75552841</td><td>0</td><td style=\"text-align: right;\">138</td><td style=\"text-align: right;\">96</td><td style=\"text-align: right;\">3.46</td><td style=\"text-align: right;\">40</td><td style=\"text-align: right;\">4.62</td><td style=\"text-align: right;\">2</td><td style=\"text-align: right;\">0.10</td><td style=\"text-align: right;\">0</td><td style=\"text-align: right;\">0.00</td><td style=\"text-align: right;\">0</td><td style=\"text-align: right;\">0.00</td><td style=\"text-align: right;\">0</td><td style=\"text-align: right;\">0.00</td><td style=\"text-align: right;\">0</td><td style=\"text-align: right;\">0.00</td></tr>\n",
       "<tr><td style=\"text-align: right;\">875453</td><td style=\"text-align: right;\">135,838,113</td><td>rs13426257</td><td>0</td><td style=\"text-align: right;\">143</td><td style=\"text-align: right;\">101</td><td style=\"text-align: right;\">3.51</td><td style=\"text-align: right;\">40</td><td style=\"text-align: right;\">4.46</td><td style=\"text-align: right;\">2</td><td style=\"text-align: right;\">0.10</td><td style=\"text-align: right;\">0</td><td style=\"text-align: right;\">0.00</td><td style=\"text-align: right;\">0</td><td style=\"text-align: right;\">0.00</td><td style=\"text-align: right;\">0</td><td style=\"text-align: right;\">0.00</td><td style=\"text-align: right;\">0</td><td style=\"text-align: right;\">0.00</td></tr>\n",
       "<tr class=\"even\"><td style=\"text-align: right;\">875475</td><td style=\"text-align: right;\">135,843,398</td><td>rs6740270</td><td>0</td><td style=\"text-align: right;\">145</td><td style=\"text-align: right;\">103</td><td style=\"text-align: right;\">3.53</td><td style=\"text-align: right;\">40</td><td style=\"text-align: right;\">4.40</td><td style=\"text-align: right;\">2</td><td style=\"text-align: right;\">0.10</td><td style=\"text-align: right;\">0</td><td style=\"text-align: right;\">0.00</td><td style=\"text-align: right;\">0</td><td style=\"text-align: right;\">0.00</td><td style=\"text-align: right;\">0</td><td style=\"text-align: right;\">0.00</td><td style=\"text-align: right;\">0</td><td style=\"text-align: right;\">0.00</td></tr>\n",
       "<tr><td style=\"text-align: right;\">875479</td><td style=\"text-align: right;\">135,845,084</td><td>rs7591206</td><td>0</td><td style=\"text-align: right;\">144</td><td style=\"text-align: right;\">102</td><td style=\"text-align: right;\">3.52</td><td style=\"text-align: right;\">40</td><td style=\"text-align: right;\">4.43</td><td style=\"text-align: right;\">2</td><td style=\"text-align: right;\">0.10</td><td style=\"text-align: right;\">0</td><td style=\"text-align: right;\">0.00</td><td style=\"text-align: right;\">0</td><td style=\"text-align: right;\">0.00</td><td style=\"text-align: right;\">0</td><td style=\"text-align: right;\">0.00</td><td style=\"text-align: right;\">0</td><td style=\"text-align: right;\">0.00</td></tr>\n",
       "<tr class=\"even\"><td style=\"text-align: right;\">875500</td><td style=\"text-align: right;\">135,850,778</td><td>rs10168991</td><td>0</td><td style=\"text-align: right;\">144</td><td style=\"text-align: right;\">102</td><td style=\"text-align: right;\">3.52</td><td style=\"text-align: right;\">40</td><td style=\"text-align: right;\">4.43</td><td style=\"text-align: right;\">2</td><td style=\"text-align: right;\">0.10</td><td style=\"text-align: right;\">0</td><td style=\"text-align: right;\">0.00</td><td style=\"text-align: right;\">0</td><td style=\"text-align: right;\">0.00</td><td style=\"text-align: right;\">0</td><td style=\"text-align: right;\">0.00</td><td style=\"text-align: right;\">0</td><td style=\"text-align: right;\">0.00</td></tr>\n",
       "<tr><td style=\"text-align: right;\">875513</td><td style=\"text-align: right;\">135,853,281</td><td>rs6759260</td><td>0</td><td style=\"text-align: right;\">143</td><td style=\"text-align: right;\">101</td><td style=\"text-align: right;\">3.51</td><td style=\"text-align: right;\">40</td><td style=\"text-align: right;\">4.46</td><td style=\"text-align: right;\">2</td><td style=\"text-align: right;\">0.10</td><td style=\"text-align: right;\">0</td><td style=\"text-align: right;\">0.00</td><td style=\"text-align: right;\">0</td><td style=\"text-align: right;\">0.00</td><td style=\"text-align: right;\">0</td><td style=\"text-align: right;\">0.00</td><td style=\"text-align: right;\">0</td><td style=\"text-align: right;\">0.00</td></tr>\n",
       "<tr class=\"even\"><td style=\"text-align: right;\">875537</td><td style=\"text-align: right;\">135,858,199</td><td>rs6719183</td><td>0</td><td style=\"text-align: right;\">143</td><td style=\"text-align: right;\">101</td><td style=\"text-align: right;\">3.51</td><td style=\"text-align: right;\">40</td><td style=\"text-align: right;\">4.46</td><td style=\"text-align: right;\">2</td><td style=\"text-align: right;\">0.10</td><td style=\"text-align: right;\">0</td><td style=\"text-align: right;\">0.00</td><td style=\"text-align: right;\">0</td><td style=\"text-align: right;\">0.00</td><td style=\"text-align: right;\">0</td><td style=\"text-align: right;\">0.00</td><td style=\"text-align: right;\">0</td><td style=\"text-align: right;\">0.00</td></tr>\n",
       "<tr><td style=\"text-align: right;\">875542</td><td style=\"text-align: right;\">135,859,428</td><td>rs13400042</td><td>0</td><td style=\"text-align: right;\">143</td><td style=\"text-align: right;\">101</td><td style=\"text-align: right;\">3.51</td><td style=\"text-align: right;\">40</td><td style=\"text-align: right;\">4.46</td><td style=\"text-align: right;\">2</td><td style=\"text-align: right;\">0.10</td><td style=\"text-align: right;\">0</td><td style=\"text-align: right;\">0.00</td><td style=\"text-align: right;\">0</td><td style=\"text-align: right;\">0.00</td><td style=\"text-align: right;\">0</td><td style=\"text-align: right;\">0.00</td><td style=\"text-align: right;\">0</td><td style=\"text-align: right;\">0.00</td></tr>\n",
       "<tr class=\"even\"><td style=\"text-align: right;\">875597</td><td style=\"text-align: right;\">135,867,144</td><td>rs13425278</td><td>0</td><td style=\"text-align: right;\">152</td><td style=\"text-align: right;\">103</td><td style=\"text-align: right;\">3.37</td><td style=\"text-align: right;\">40</td><td style=\"text-align: right;\">4.20</td><td style=\"text-align: right;\">2</td><td style=\"text-align: right;\">0.09</td><td style=\"text-align: right;\">3</td><td style=\"text-align: right;\">0.10</td><td style=\"text-align: right;\">1</td><td style=\"text-align: right;\">0.03</td><td style=\"text-align: right;\">1</td><td style=\"text-align: right;\">0.09</td><td style=\"text-align: right;\">2</td><td style=\"text-align: right;\">0.11</td></tr>\n",
       "<tr><td style=\"text-align: right;\">875602</td><td style=\"text-align: right;\">135,867,538</td><td>rs10469584</td><td>0</td><td style=\"text-align: right;\">143</td><td style=\"text-align: right;\">101</td><td style=\"text-align: right;\">3.51</td><td style=\"text-align: right;\">40</td><td style=\"text-align: right;\">4.46</td><td style=\"text-align: right;\">2</td><td style=\"text-align: right;\">0.10</td><td style=\"text-align: right;\">0</td><td style=\"text-align: right;\">0.00</td><td style=\"text-align: right;\">0</td><td style=\"text-align: right;\">0.00</td><td style=\"text-align: right;\">0</td><td style=\"text-align: right;\">0.00</td><td style=\"text-align: right;\">0</td><td style=\"text-align: right;\">0.00</td></tr>\n",
       "<tr class=\"even\"><td style=\"text-align: right;\">875631</td><td style=\"text-align: right;\">135,874,606</td><td>rs147811543</td><td>0</td><td style=\"text-align: right;\">144</td><td style=\"text-align: right;\">101</td><td style=\"text-align: right;\">3.48</td><td style=\"text-align: right;\">41</td><td style=\"text-align: right;\">4.54</td><td style=\"text-align: right;\">2</td><td style=\"text-align: right;\">0.10</td><td style=\"text-align: right;\">0</td><td style=\"text-align: right;\">0.00</td><td style=\"text-align: right;\">0</td><td style=\"text-align: right;\">0.00</td><td style=\"text-align: right;\">0</td><td style=\"text-align: right;\">0.00</td><td style=\"text-align: right;\">0</td><td style=\"text-align: right;\">0.00</td></tr>\n",
       "<tr><td style=\"text-align: right;\">875657</td><td style=\"text-align: right;\">135,880,487</td><td>rs13402463</td><td>0</td><td style=\"text-align: right;\">134</td><td style=\"text-align: right;\">93</td><td style=\"text-align: right;\">3.45</td><td style=\"text-align: right;\">39</td><td style=\"text-align: right;\">4.64</td><td style=\"text-align: right;\">2</td><td style=\"text-align: right;\">0.11</td><td style=\"text-align: right;\">0</td><td style=\"text-align: right;\">0.00</td><td style=\"text-align: right;\">0</td><td style=\"text-align: right;\">0.00</td><td style=\"text-align: right;\">0</td><td style=\"text-align: right;\">0.00</td><td style=\"text-align: right;\">0</td><td style=\"text-align: right;\">0.00</td></tr>\n",
       "<tr class=\"even\"><td style=\"text-align: right;\">875664</td><td style=\"text-align: right;\">135,882,089</td><td>rs10169363</td><td>0</td><td style=\"text-align: right;\">143</td><td style=\"text-align: right;\">101</td><td style=\"text-align: right;\">3.51</td><td style=\"text-align: right;\">40</td><td style=\"text-align: right;\">4.46</td><td style=\"text-align: right;\">2</td><td style=\"text-align: right;\">0.10</td><td style=\"text-align: right;\">0</td><td style=\"text-align: right;\">0.00</td><td style=\"text-align: right;\">0</td><td style=\"text-align: right;\">0.00</td><td style=\"text-align: right;\">0</td><td style=\"text-align: right;\">0.00</td><td style=\"text-align: right;\">0</td><td style=\"text-align: right;\">0.00</td></tr>\n",
       "<tr><td style=\"text-align: right;\">875670</td><td style=\"text-align: right;\">135,883,468</td><td>rs10183807</td><td>0</td><td style=\"text-align: right;\">143</td><td style=\"text-align: right;\">101</td><td style=\"text-align: right;\">3.51</td><td style=\"text-align: right;\">40</td><td style=\"text-align: right;\">4.46</td><td style=\"text-align: right;\">2</td><td style=\"text-align: right;\">0.10</td><td style=\"text-align: right;\">0</td><td style=\"text-align: right;\">0.00</td><td style=\"text-align: right;\">0</td><td style=\"text-align: right;\">0.00</td><td style=\"text-align: right;\">0</td><td style=\"text-align: right;\">0.00</td><td style=\"text-align: right;\">0</td><td style=\"text-align: right;\">0.00</td></tr>\n",
       "<tr class=\"even\"><td style=\"text-align: right;\">875716</td><td style=\"text-align: right;\">135,892,685</td><td>rs10204249</td><td>0</td><td style=\"text-align: right;\">134</td><td style=\"text-align: right;\">93</td><td style=\"text-align: right;\">3.45</td><td style=\"text-align: right;\">39</td><td style=\"text-align: right;\">4.64</td><td style=\"text-align: right;\">2</td><td style=\"text-align: right;\">0.11</td><td style=\"text-align: right;\">0</td><td style=\"text-align: right;\">0.00</td><td style=\"text-align: right;\">0</td><td style=\"text-align: right;\">0.00</td><td style=\"text-align: right;\">0</td><td style=\"text-align: right;\">0.00</td><td style=\"text-align: right;\">0</td><td style=\"text-align: right;\">0.00</td></tr>\n",
       "<tr><td style=\"text-align: right;\">875723</td><td style=\"text-align: right;\">135,894,666</td><td>rs10175922</td><td>0</td><td style=\"text-align: right;\">155</td><td style=\"text-align: right;\">110</td><td style=\"text-align: right;\">3.53</td><td style=\"text-align: right;\">43</td><td style=\"text-align: right;\">4.42</td><td style=\"text-align: right;\">2</td><td style=\"text-align: right;\">0.09</td><td style=\"text-align: right;\">0</td><td style=\"text-align: right;\">0.00</td><td style=\"text-align: right;\">0</td><td style=\"text-align: right;\">0.00</td><td style=\"text-align: right;\">0</td><td style=\"text-align: right;\">0.00</td><td style=\"text-align: right;\">0</td><td style=\"text-align: right;\">0.00</td></tr>\n",
       "<tr class=\"even\"><td style=\"text-align: right;\">875725</td><td style=\"text-align: right;\">135,894,837</td><td>rs10176106</td><td>0</td><td style=\"text-align: right;\">144</td><td style=\"text-align: right;\">104</td><td style=\"text-align: right;\">3.59</td><td style=\"text-align: right;\">38</td><td style=\"text-align: right;\">4.21</td><td style=\"text-align: right;\">2</td><td style=\"text-align: right;\">0.10</td><td style=\"text-align: right;\">0</td><td style=\"text-align: right;\">0.00</td><td style=\"text-align: right;\">0</td><td style=\"text-align: right;\">0.00</td><td style=\"text-align: right;\">0</td><td style=\"text-align: right;\">0.00</td><td style=\"text-align: right;\">0</td><td style=\"text-align: right;\">0.00</td></tr>\n",
       "<tr><td style=\"text-align: right;\">875726</td><td style=\"text-align: right;\">135,894,879</td><td>rs13406241</td><td>0</td><td style=\"text-align: right;\">143</td><td style=\"text-align: right;\">101</td><td style=\"text-align: right;\">3.51</td><td style=\"text-align: right;\">40</td><td style=\"text-align: right;\">4.46</td><td style=\"text-align: right;\">2</td><td style=\"text-align: right;\">0.10</td><td style=\"text-align: right;\">0</td><td style=\"text-align: right;\">0.00</td><td style=\"text-align: right;\">0</td><td style=\"text-align: right;\">0.00</td><td style=\"text-align: right;\">0</td><td style=\"text-align: right;\">0.00</td><td style=\"text-align: right;\">0</td><td style=\"text-align: right;\">0.00</td></tr>\n",
       "<tr class=\"even\"><td style=\"text-align: right;\">875737</td><td style=\"text-align: right;\">135,896,985</td><td>rs13413600</td><td>0</td><td style=\"text-align: right;\">143</td><td style=\"text-align: right;\">101</td><td style=\"text-align: right;\">3.51</td><td style=\"text-align: right;\">40</td><td style=\"text-align: right;\">4.46</td><td style=\"text-align: right;\">2</td><td style=\"text-align: right;\">0.10</td><td style=\"text-align: right;\">0</td><td style=\"text-align: right;\">0.00</td><td style=\"text-align: right;\">0</td><td style=\"text-align: right;\">0.00</td><td style=\"text-align: right;\">0</td><td style=\"text-align: right;\">0.00</td><td style=\"text-align: right;\">0</td><td style=\"text-align: right;\">0.00</td></tr>\n",
       "<tr><td style=\"text-align: right;\">875760</td><td style=\"text-align: right;\">135,904,659</td><td>rs10194099</td><td>0</td><td style=\"text-align: right;\">147</td><td style=\"text-align: right;\">105</td><td style=\"text-align: right;\">3.55</td><td style=\"text-align: right;\">40</td><td style=\"text-align: right;\">4.34</td><td style=\"text-align: right;\">2</td><td style=\"text-align: right;\">0.10</td><td style=\"text-align: right;\">0</td><td style=\"text-align: right;\">0.00</td><td style=\"text-align: right;\">0</td><td style=\"text-align: right;\">0.00</td><td style=\"text-align: right;\">0</td><td style=\"text-align: right;\">0.00</td><td style=\"text-align: right;\">0</td><td style=\"text-align: right;\">0.00</td></tr>\n",
       "<tr class=\"even\"><td style=\"text-align: right;\">875774</td><td style=\"text-align: right;\">135,908,007</td><td>rs7595725</td><td>0</td><td style=\"text-align: right;\">143</td><td style=\"text-align: right;\">101</td><td style=\"text-align: right;\">3.51</td><td style=\"text-align: right;\">40</td><td style=\"text-align: right;\">4.46</td><td style=\"text-align: right;\">2</td><td style=\"text-align: right;\">0.10</td><td style=\"text-align: right;\">0</td><td style=\"text-align: right;\">0.00</td><td style=\"text-align: right;\">0</td><td style=\"text-align: right;\">0.00</td><td style=\"text-align: right;\">0</td><td style=\"text-align: right;\">0.00</td><td style=\"text-align: right;\">0</td><td style=\"text-align: right;\">0.00</td></tr>\n",
       "<tr><td style=\"text-align: right;\">875781</td><td style=\"text-align: right;\">135,910,415</td><td>rs16831363</td><td>0</td><td style=\"text-align: right;\">143</td><td style=\"text-align: right;\">101</td><td style=\"text-align: right;\">3.51</td><td style=\"text-align: right;\">40</td><td style=\"text-align: right;\">4.46</td><td style=\"text-align: right;\">2</td><td style=\"text-align: right;\">0.10</td><td style=\"text-align: right;\">0</td><td style=\"text-align: right;\">0.00</td><td style=\"text-align: right;\">0</td><td style=\"text-align: right;\">0.00</td><td style=\"text-align: right;\">0</td><td style=\"text-align: right;\">0.00</td><td style=\"text-align: right;\">0</td><td style=\"text-align: right;\">0.00</td></tr>\n",
       "<tr class=\"even\"><td style=\"text-align: right;\">875813</td><td style=\"text-align: right;\">135,917,924</td><td>rs77973188</td><td>0</td><td style=\"text-align: right;\">137</td><td style=\"text-align: right;\">95</td><td style=\"text-align: right;\">3.45</td><td style=\"text-align: right;\">40</td><td style=\"text-align: right;\">4.66</td><td style=\"text-align: right;\">2</td><td style=\"text-align: right;\">0.11</td><td style=\"text-align: right;\">0</td><td style=\"text-align: right;\">0.00</td><td style=\"text-align: right;\">0</td><td style=\"text-align: right;\">0.00</td><td style=\"text-align: right;\">0</td><td style=\"text-align: right;\">0.00</td><td style=\"text-align: right;\">0</td><td style=\"text-align: right;\">0.00</td></tr>\n",
       "<tr><td style=\"text-align: right;\">875843</td><td style=\"text-align: right;\">135,926,486</td><td>rs10170125</td><td>0</td><td style=\"text-align: right;\">139</td><td style=\"text-align: right;\">98</td><td style=\"text-align: right;\">3.50</td><td style=\"text-align: right;\">39</td><td style=\"text-align: right;\">4.47</td><td style=\"text-align: right;\">2</td><td style=\"text-align: right;\">0.10</td><td style=\"text-align: right;\">0</td><td style=\"text-align: right;\">0.00</td><td style=\"text-align: right;\">0</td><td style=\"text-align: right;\">0.00</td><td style=\"text-align: right;\">0</td><td style=\"text-align: right;\">0.00</td><td style=\"text-align: right;\">0</td><td style=\"text-align: right;\">0.00</td></tr>\n",
       "<tr class=\"even\"><td style=\"text-align: right;\">875916</td><td style=\"text-align: right;\">135,942,475</td><td>rs752812</td><td>0</td><td style=\"text-align: right;\">142</td><td style=\"text-align: right;\">100</td><td style=\"text-align: right;\">3.50</td><td style=\"text-align: right;\">40</td><td style=\"text-align: right;\">4.49</td><td style=\"text-align: right;\">2</td><td style=\"text-align: right;\">0.10</td><td style=\"text-align: right;\">0</td><td style=\"text-align: right;\">0.00</td><td style=\"text-align: right;\">0</td><td style=\"text-align: right;\">0.00</td><td style=\"text-align: right;\">0</td><td style=\"text-align: right;\">0.00</td><td style=\"text-align: right;\">0</td><td style=\"text-align: right;\">0.00</td></tr>\n",
       "<tr><td style=\"text-align: right;\">875982</td><td style=\"text-align: right;\">135,955,537</td><td>rs7560577</td><td>0</td><td style=\"text-align: right;\">144</td><td style=\"text-align: right;\">100</td><td style=\"text-align: right;\">3.45</td><td style=\"text-align: right;\">41</td><td style=\"text-align: right;\">4.54</td><td style=\"text-align: right;\">3</td><td style=\"text-align: right;\">0.15</td><td style=\"text-align: right;\">0</td><td style=\"text-align: right;\">0.00</td><td style=\"text-align: right;\">0</td><td style=\"text-align: right;\">0.00</td><td style=\"text-align: right;\">0</td><td style=\"text-align: right;\">0.00</td><td style=\"text-align: right;\">0</td><td style=\"text-align: right;\">0.00</td></tr>\n",
       "<tr class=\"even\"><td style=\"text-align: right;\">876019</td><td style=\"text-align: right;\">135,964,420</td><td>rs116293174</td><td>0</td><td style=\"text-align: right;\">144</td><td style=\"text-align: right;\">100</td><td style=\"text-align: right;\">3.45</td><td style=\"text-align: right;\">41</td><td style=\"text-align: right;\">4.54</td><td style=\"text-align: right;\">3</td><td style=\"text-align: right;\">0.15</td><td style=\"text-align: right;\">0</td><td style=\"text-align: right;\">0.00</td><td style=\"text-align: right;\">0</td><td style=\"text-align: right;\">0.00</td><td style=\"text-align: right;\">0</td><td style=\"text-align: right;\">0.00</td><td style=\"text-align: right;\">0</td><td style=\"text-align: right;\">0.00</td></tr>\n",
       "<tr><td style=\"text-align: right;\">876027</td><td style=\"text-align: right;\">135,965,002</td><td>rs6721694</td><td>0</td><td style=\"text-align: right;\">144</td><td style=\"text-align: right;\">100</td><td style=\"text-align: right;\">3.45</td><td style=\"text-align: right;\">41</td><td style=\"text-align: right;\">4.54</td><td style=\"text-align: right;\">3</td><td style=\"text-align: right;\">0.15</td><td style=\"text-align: right;\">0</td><td style=\"text-align: right;\">0.00</td><td style=\"text-align: right;\">0</td><td style=\"text-align: right;\">0.00</td><td style=\"text-align: right;\">0</td><td style=\"text-align: right;\">0.00</td><td style=\"text-align: right;\">0</td><td style=\"text-align: right;\">0.00</td></tr>\n",
       "<tr class=\"even\"><td style=\"text-align: right;\">876108</td><td style=\"text-align: right;\">135,981,071</td><td>rs115759826</td><td>0</td><td style=\"text-align: right;\">144</td><td style=\"text-align: right;\">100</td><td style=\"text-align: right;\">3.45</td><td style=\"text-align: right;\">41</td><td style=\"text-align: right;\">4.54</td><td style=\"text-align: right;\">3</td><td style=\"text-align: right;\">0.15</td><td style=\"text-align: right;\">0</td><td style=\"text-align: right;\">0.00</td><td style=\"text-align: right;\">0</td><td style=\"text-align: right;\">0.00</td><td style=\"text-align: right;\">0</td><td style=\"text-align: right;\">0.00</td><td style=\"text-align: right;\">0</td><td style=\"text-align: right;\">0.00</td></tr>\n",
       "<tr><td style=\"text-align: right;\">876142</td><td style=\"text-align: right;\">135,988,224</td><td>rs61732190</td><td>0</td><td style=\"text-align: right;\">138</td><td style=\"text-align: right;\">94</td><td style=\"text-align: right;\">3.38</td><td style=\"text-align: right;\">41</td><td style=\"text-align: right;\">4.74</td><td style=\"text-align: right;\">3</td><td style=\"text-align: right;\">0.16</td><td style=\"text-align: right;\">0</td><td style=\"text-align: right;\">0.00</td><td style=\"text-align: right;\">0</td><td style=\"text-align: right;\">0.00</td><td style=\"text-align: right;\">0</td><td style=\"text-align: right;\">0.00</td><td style=\"text-align: right;\">0</td><td style=\"text-align: right;\">0.00</td></tr>\n",
       "<tr class=\"even\"><td style=\"text-align: right;\">876175</td><td style=\"text-align: right;\">135,991,508</td><td>rs148046161</td><td>0</td><td style=\"text-align: right;\">140</td><td style=\"text-align: right;\">97</td><td style=\"text-align: right;\">3.44</td><td style=\"text-align: right;\">40</td><td style=\"text-align: right;\">4.56</td><td style=\"text-align: right;\">3</td><td style=\"text-align: right;\">0.15</td><td style=\"text-align: right;\">0</td><td style=\"text-align: right;\">0.00</td><td style=\"text-align: right;\">0</td><td style=\"text-align: right;\">0.00</td><td style=\"text-align: right;\">0</td><td style=\"text-align: right;\">0.00</td><td style=\"text-align: right;\">0</td><td style=\"text-align: right;\">0.00</td></tr>\n",
       "<tr><td style=\"text-align: right;\">876177</td><td style=\"text-align: right;\">135,991,714</td><td>rs146040969</td><td>0</td><td style=\"text-align: right;\">140</td><td style=\"text-align: right;\">97</td><td style=\"text-align: right;\">3.44</td><td style=\"text-align: right;\">40</td><td style=\"text-align: right;\">4.56</td><td style=\"text-align: right;\">3</td><td style=\"text-align: right;\">0.15</td><td style=\"text-align: right;\">0</td><td style=\"text-align: right;\">0.00</td><td style=\"text-align: right;\">0</td><td style=\"text-align: right;\">0.00</td><td style=\"text-align: right;\">0</td><td style=\"text-align: right;\">0.00</td><td style=\"text-align: right;\">0</td><td style=\"text-align: right;\">0.00</td></tr>\n",
       "<tr class=\"even\"><td style=\"text-align: right;\">876216</td><td style=\"text-align: right;\">135,997,479</td><td>rs13415427</td><td>0</td><td style=\"text-align: right;\">140</td><td style=\"text-align: right;\">97</td><td style=\"text-align: right;\">3.44</td><td style=\"text-align: right;\">40</td><td style=\"text-align: right;\">4.56</td><td style=\"text-align: right;\">3</td><td style=\"text-align: right;\">0.15</td><td style=\"text-align: right;\">0</td><td style=\"text-align: right;\">0.00</td><td style=\"text-align: right;\">0</td><td style=\"text-align: right;\">0.00</td><td style=\"text-align: right;\">0</td><td style=\"text-align: right;\">0.00</td><td style=\"text-align: right;\">0</td><td style=\"text-align: right;\">0.00</td></tr>\n",
       "<tr><td style=\"text-align: right;\">876250</td><td style=\"text-align: right;\">136,001,913</td><td>rs138130250</td><td>0</td><td style=\"text-align: right;\">142</td><td style=\"text-align: right;\">98</td><td style=\"text-align: right;\">3.43</td><td style=\"text-align: right;\">41</td><td style=\"text-align: right;\">4.61</td><td style=\"text-align: right;\">3</td><td style=\"text-align: right;\">0.15</td><td style=\"text-align: right;\">0</td><td style=\"text-align: right;\">0.00</td><td style=\"text-align: right;\">0</td><td style=\"text-align: right;\">0.00</td><td style=\"text-align: right;\">0</td><td style=\"text-align: right;\">0.00</td><td style=\"text-align: right;\">0</td><td style=\"text-align: right;\">0.00</td></tr>\n",
       "<tr class=\"even\"><td style=\"text-align: right;\">876327</td><td style=\"text-align: right;\">136,017,139</td><td>rs10203577</td><td>0</td><td style=\"text-align: right;\">140</td><td style=\"text-align: right;\">97</td><td style=\"text-align: right;\">3.44</td><td style=\"text-align: right;\">40</td><td style=\"text-align: right;\">4.56</td><td style=\"text-align: right;\">3</td><td style=\"text-align: right;\">0.15</td><td style=\"text-align: right;\">0</td><td style=\"text-align: right;\">0.00</td><td style=\"text-align: right;\">0</td><td style=\"text-align: right;\">0.00</td><td style=\"text-align: right;\">0</td><td style=\"text-align: right;\">0.00</td><td style=\"text-align: right;\">0</td><td style=\"text-align: right;\">0.00</td></tr>\n",
       "</table>"
      ],
      "text/plain": [
       "<IPython.core.display.HTML object>"
      ]
     },
     "execution_count": 2,
     "metadata": {},
     "output_type": "execute_result"
    }
   ],
   "source": [
    "HTML(dm.series_html(dm.di_49_136))"
   ]
  },
  {
   "cell_type": "code",
   "execution_count": 3,
   "metadata": {
    "collapsed": false
   },
   "outputs": [
    {
     "data": {
      "text/html": [
       "\n",
       "\n",
       "    <div class=\"bk-root\">\n",
       "        <div class=\"plotdiv\" id=\"987bc021-4201-4008-9dc8-3e642b52c40f\"></div>\n",
       "    </div>\n",
       "<script type=\"text/javascript\">\n",
       "  \n",
       "  (function(global) {\n",
       "    function now() {\n",
       "      return new Date();\n",
       "    }\n",
       "  \n",
       "    if (typeof (window._bokeh_onload_callbacks) === \"undefined\") {\n",
       "      window._bokeh_onload_callbacks = [];\n",
       "    }\n",
       "  \n",
       "    function run_callbacks() {\n",
       "      window._bokeh_onload_callbacks.forEach(function(callback) { callback() });\n",
       "      delete window._bokeh_onload_callbacks\n",
       "      console.info(\"Bokeh: all callbacks have finished\");\n",
       "    }\n",
       "  \n",
       "    function load_libs(js_urls, callback) {\n",
       "      window._bokeh_onload_callbacks.push(callback);\n",
       "      if (window._bokeh_is_loading > 0) {\n",
       "        console.log(\"Bokeh: BokehJS is being loaded, scheduling callback at\", now());\n",
       "        return null;\n",
       "      }\n",
       "      if (js_urls == null || js_urls.length === 0) {\n",
       "        run_callbacks();\n",
       "        return null;\n",
       "      }\n",
       "      console.log(\"Bokeh: BokehJS not loaded, scheduling load and callback at\", now());\n",
       "      window._bokeh_is_loading = js_urls.length;\n",
       "      for (var i = 0; i < js_urls.length; i++) {\n",
       "        var url = js_urls[i];\n",
       "        var s = document.createElement('script');\n",
       "        s.src = url;\n",
       "        s.async = false;\n",
       "        s.onreadystatechange = s.onload = function() {\n",
       "          window._bokeh_is_loading--;\n",
       "          if (window._bokeh_is_loading === 0) {\n",
       "            console.log(\"Bokeh: all BokehJS libraries loaded\");\n",
       "            run_callbacks()\n",
       "          }\n",
       "        };\n",
       "        s.onerror = function() {\n",
       "          console.warn(\"failed to load library \" + url);\n",
       "        };\n",
       "        console.log(\"Bokeh: injecting script tag for BokehJS library: \", url);\n",
       "        document.getElementsByTagName(\"head\")[0].appendChild(s);\n",
       "      }\n",
       "    };var element = document.getElementById(\"987bc021-4201-4008-9dc8-3e642b52c40f\");\n",
       "    if (element == null) {\n",
       "      console.log(\"Bokeh: ERROR: autoload.js configured with elementid '987bc021-4201-4008-9dc8-3e642b52c40f' but no matching script tag was found. \")\n",
       "      return false;\n",
       "    }\n",
       "  \n",
       "    var js_urls = [];\n",
       "  \n",
       "    var inline_js = [\n",
       "      function(Bokeh) {\n",
       "        Bokeh.$(function() {\n",
       "            var docs_json = {\"95125c13-dd7a-40e5-b286-c055b3e0489f\":{\"roots\":{\"references\":[{\"attributes\":{\"data_source\":{\"id\":\"9fdd2016-332c-4847-9c18-a67bbb4c78b2\",\"type\":\"ColumnDataSource\"},\"glyph\":{\"id\":\"91b51d5c-48a6-4e6d-b771-b867513c6c4b\",\"type\":\"Quad\"},\"hover_glyph\":null,\"nonselection_glyph\":{\"id\":\"d2a79ecd-c836-4594-ab70-b1c09e7eb50d\",\"type\":\"Quad\"},\"selection_glyph\":null},\"id\":\"2ef08aa6-1ef1-43fd-a9c2-2ed089b33090\",\"type\":\"GlyphRenderer\"},{\"attributes\":{\"formatter\":{\"id\":\"012fdc3b-1311-474b-a5b6-59f017fed6e2\",\"type\":\"BasicTickFormatter\"},\"plot\":{\"id\":\"5f9b4743-8fa1-4000-82ea-78bc8d02208d\",\"subtype\":\"Figure\",\"type\":\"Plot\"},\"ticker\":{\"id\":\"1faa2dff-fd6e-44ef-bd06-16c3b0deae39\",\"type\":\"BasicTicker\"}},\"id\":\"88572a3d-d8a3-4c89-bfe0-eb4922a2f9e8\",\"type\":\"LinearAxis\"},{\"attributes\":{\"callback\":null,\"column_names\":[\"right\",\"bottom\",\"top\",\"left\",\"fill_color\"],\"data\":{\"bottom\":[850,750,50,150,550,450,250,350,550,450,350,150,750,650,50,150,550,650,750],\"fill_color\":[\"#808080\",\"#808080\",\"#ff0000\",\"#ff0000\",\"#ff0000\",\"#ff0000\",\"#ff0000\",\"#ff0000\",\"#ff0000\",\"#ff0000\",\"#c46161\",\"#ff0000\",\"#808080\",\"#808080\",\"#ff0000\",\"#ff0000\",\"#808080\",\"#808080\",\"#808080\"],\"left\":[135757320,135758231,135761470,135780924,135784351,135810535,136008173,136115507,136309239,136364916,136392700,136499188,136506375,136535876,136589701,136651969,136652491,136652953,136653925],\"right\":[135777504,136376515,136371080,136017139,135902220,135898023,136381251,136385280,136361560,136387893,136550806,136631424,136538939,136554890,136641268,136775985,136732772,136761175,136761853],\"top\":[896,796,69,174,588,486,276,384,590,487,376,171,794,694,69,172,592,694,795]}},\"id\":\"d9d090a6-5451-4b1d-97ff-78b4f73432dc\",\"type\":\"ColumnDataSource\"},{\"attributes\":{\"callback\":null,\"end\":136786630,\"start\":135757320},\"id\":\"c76c25fc-faf2-4cc2-ad1e-bdb84aafccf5\",\"type\":\"Range1d\"},{\"attributes\":{\"plot\":{\"id\":\"5f9b4743-8fa1-4000-82ea-78bc8d02208d\",\"subtype\":\"Figure\",\"type\":\"Plot\"}},\"id\":\"8958ae8c-470c-4f32-b318-aac5d21d43c9\",\"type\":\"ResetTool\"},{\"attributes\":{\"plot\":{\"id\":\"5f9b4743-8fa1-4000-82ea-78bc8d02208d\",\"subtype\":\"Figure\",\"type\":\"Plot\"}},\"id\":\"56481db7-7272-485b-acdb-4b29db645dbc\",\"type\":\"SaveTool\"},{\"attributes\":{\"callback\":null,\"column_names\":[\"xs\",\"ys\",\"line_color\"],\"data\":{\"line_color\":[\"black\",\"black\",\"black\",\"black\",\"black\",\"black\",\"black\",\"black\",\"black\",\"black\",\"black\",\"black\",\"black\",\"black\",\"black\",\"black\",\"black\",\"black\",\"black\",\"black\",\"black\",\"black\",\"black\",\"black\",\"black\",\"black\",\"black\",\"black\",\"black\",\"black\",\"black\",\"black\",\"black\",\"black\",\"black\",\"black\",\"black\",\"black\",\"black\",\"black\",\"black\",\"black\",\"black\",\"black\",\"black\",\"black\",\"black\",\"black\",\"black\",\"black\",\"black\",\"black\",\"black\",\"black\",\"black\",\"black\",\"black\",\"black\",\"black\",\"black\",\"black\",\"black\",\"black\",\"black\",\"black\",\"black\",\"black\",\"black\",\"black\",\"black\",\"black\",\"black\",\"black\",\"black\",\"black\",\"black\",\"black\",\"black\",\"black\",\"black\",\"black\",\"black\",\"black\",\"black\",\"black\",\"black\",\"black\",\"black\",\"black\",\"black\",\"black\",\"black\",\"black\",\"black\",\"black\",\"black\",\"black\",\"black\",\"black\",\"black\",\"black\",\"black\",\"black\",\"black\",\"black\",\"black\",\"black\",\"black\",\"black\",\"black\",\"black\",\"black\",\"black\",\"black\",\"black\",\"black\",\"black\",\"black\",\"black\",\"black\",\"black\",\"black\",\"black\",\"black\",\"black\",\"black\",\"black\",\"black\",\"black\",\"black\",\"black\",\"black\",\"black\",\"black\",\"black\",\"black\",\"black\",\"black\",\"black\",\"black\",\"black\",\"black\",\"black\",\"black\",\"black\",\"black\",\"black\",\"black\",\"black\",\"black\",\"black\",\"black\",\"black\",\"black\",\"black\",\"black\",\"black\",\"black\",\"black\",\"black\",\"black\",\"black\",\"black\",\"black\",\"black\",\"black\",\"black\",\"black\",\"black\",\"black\",\"black\",\"black\",\"black\",\"black\",\"black\",\"black\",\"black\",\"black\",\"black\",\"black\",\"black\",\"black\",\"black\",\"black\",\"black\",\"black\",\"black\",\"black\",\"black\",\"black\",\"black\",\"black\",\"black\",\"black\",\"black\",\"black\",\"black\",\"black\",\"black\",\"black\",\"black\",\"black\",\"black\",\"black\",\"black\",\"black\",\"black\",\"black\",\"black\",\"black\",\"black\",\"black\",\"black\",\"black\",\"black\",\"black\",\"black\",\"black\",\"black\",\"black\",\"black\",\"black\",\"black\",\"black\",\"black\",\"black\",\"black\",\"black\",\"black\",\"black\",\"black\",\"black\",\"black\",\"black\",\"black\",\"black\",\"black\",\"black\",\"black\",\"black\",\"black\",\"black\",\"black\",\"black\",\"black\",\"black\",\"black\",\"black\",\"black\",\"black\",\"black\",\"black\",\"black\",\"black\",\"black\",\"black\",\"black\",\"black\",\"black\",\"black\",\"black\",\"black\",\"black\",\"black\",\"black\",\"black\",\"black\",\"black\",\"black\",\"black\",\"black\",\"black\",\"black\",\"black\",\"black\",\"black\",\"black\",\"black\",\"black\",\"black\",\"black\",\"black\",\"black\",\"black\",\"black\",\"black\",\"black\",\"black\",\"black\",\"black\",\"black\",\"black\",\"black\",\"black\",\"black\",\"black\",\"black\",\"black\",\"black\",\"black\",\"black\",\"black\",\"black\",\"black\",\"black\",\"black\",\"black\",\"black\",\"black\",\"black\",\"black\",\"black\",\"black\",\"black\",\"black\",\"black\",\"black\",\"black\",\"black\",\"black\",\"black\",\"black\",\"black\",\"black\",\"black\",\"black\",\"black\",\"black\",\"black\",\"black\",\"black\",\"black\",\"black\",\"black\",\"black\",\"black\",\"black\",\"black\",\"black\",\"black\",\"black\",\"black\",\"black\",\"black\",\"black\",\"black\",\"black\",\"black\",\"black\",\"black\",\"black\",\"black\",\"black\",\"black\",\"black\",\"black\",\"black\",\"black\",\"black\",\"black\",\"black\",\"black\",\"black\",\"black\",\"black\",\"black\",\"black\",\"black\",\"black\",\"black\",\"black\",\"black\",\"black\",\"black\",\"black\",\"black\",\"black\",\"black\",\"black\",\"black\",\"black\",\"black\",\"black\",\"black\",\"black\",\"black\",\"black\",\"black\",\"black\",\"black\",\"black\",\"black\",\"black\",\"black\",\"black\",\"black\",\"black\",\"black\",\"black\",\"black\",\"black\",\"black\",\"black\",\"black\",\"black\",\"black\",\"black\",\"black\",\"black\",\"black\",\"black\",\"black\",\"black\",\"black\",\"black\",\"black\",\"black\",\"black\",\"black\",\"black\",\"black\",\"black\",\"black\",\"black\",\"black\",\"black\",\"black\",\"black\",\"black\",\"black\",\"black\",\"black\",\"black\",\"black\",\"black\",\"black\",\"black\",\"black\",\"black\",\"black\",\"black\",\"black\",\"black\",\"black\",\"black\",\"black\",\"black\",\"black\",\"black\",\"black\",\"black\",\"black\",\"black\",\"black\",\"black\",\"black\",\"black\",\"black\",\"black\",\"black\",\"black\",\"black\",\"black\",\"black\",\"black\",\"black\",\"black\",\"black\",\"black\",\"black\",\"black\",\"black\",\"black\",\"black\",\"black\",\"black\",\"black\",\"black\",\"black\",\"black\",\"black\",\"black\",\"black\",\"black\",\"black\"],\"xs\":[[135757320,135757320],[135761078,135761078],[135761271,135761271],[135762344,135762344],[135762980,135762980],[135763280,135763280],[135768815,135768815],[135769093,135769093],[135769127,135769127],[135770940,135770940],[135770951,135770951],[135776728,135776728],[135777504,135777504],[135758231,135758231],[135758520,135758520],[135766072,135766072],[135773420,135773420],[135773446,135773446],[135773617,135773617],[135773692,135773692],[135774681,135774681],[135775049,135775049],[135776430,135776430],[135778656,135778656],[135780168,135780168],[135780587,135780587],[135781301,135781301],[135781522,135781522],[135781635,135781635],[135782456,135782456],[135783157,135783157],[135783366,135783366],[135783367,135783367],[135784227,135784227],[135784733,135784733],[135785066,135785066],[135785068,135785068],[135785149,135785149],[135787148,135787148],[135787642,135787642],[135789405,135789405],[135789472,135789472],[135789682,135789682],[135789784,135789784],[135792338,135792338],[135792528,135792528],[135793565,135793565],[135793684,135793684],[135793845,135793845],[135794367,135794367],[135794986,135794986],[135795040,135795040],[135795095,135795095],[135795150,135795150],[135795385,135795385],[135795396,135795396],[135795443,135795443],[135795595,135795595],[135796000,135796000],[135796155,135796155],[135796410,135796410],[135796965,135796965],[135797223,135797223],[135797747,135797747],[135798082,135798082],[135798758,135798758],[135799082,135799082],[135800085,135800085],[135800601,135800601],[135800757,135800757],[135801228,135801228],[135801956,135801956],[135802020,135802020],[135802028,135802028],[135802050,135802050],[135802148,135802148],[135803766,135803766],[135809241,135809241],[135812969,135812969],[135814716,135814716],[135818907,135818907],[135829432,135829432],[135832131,135832131],[135849613,135849613],[135853807,135853807],[135859923,135859923],[135860305,135860305],[135861497,135861497],[135863143,135863143],[135864294,135864294],[135871624,135871624],[135872646,135872646],[135874038,135874038],[135874622,135874622],[135878814,135878814],[135880013,135880013],[135884487,135884487],[135885357,135885357],[135893853,135893853],[135895809,135895809],[135895879,135895879],[135899069,135899069],[135909462,135909462],[135912977,135912977],[135914038,135914038],[135921839,135921839],[135925002,135925002],[135928312,135928312],[135935049,135935049],[135962711,135962711],[135984172,135984172],[135994753,135994753],[135994754,135994754],[136016079,136016079],[136027264,136027264],[136052004,136052004],[136100473,136100473],[136110129,136110129],[136166536,136166536],[136169799,136169799],[136191314,136191314],[136228887,136228887],[136238453,136238453],[136288273,136288273],[136292425,136292425],[136321951,136321951],[136324564,136324564],[136327299,136327299],[136327302,136327302],[136376515,136376515],[135761470,135761470],[135766160,135766160],[135775474,135775474],[135775547,135775547],[135954337,135954337],[135971171,135971171],[136035016,136035016],[136106795,136106795],[136139229,136139229],[136140930,136140930],[136143414,136143414],[136160220,136160220],[136164187,136164187],[136164304,136164304],[136177628,136177628],[136213160,136213160],[136229089,136229089],[136229185,136229185],[136268862,136268862],[136308277,136308277],[136344372,136344372],[136371080,136371080],[135780924,135780924],[135783872,135783872],[135784174,135784174],[135784652,135784652],[135787686,135787686],[135788712,135788712],[135794686,135794686],[135815035,135815035],[135815806,135815806],[135816299,135816299],[135817965,135817965],[135819405,135819405],[135820455,135820455],[135822556,135822556],[135830362,135830362],[135838113,135838113],[135843398,135843398],[135845084,135845084],[135850778,135850778],[135853281,135853281],[135858199,135858199],[135859428,135859428],[135867144,135867144],[135867538,135867538],[135874606,135874606],[135880487,135880487],[135882089,135882089],[135883468,135883468],[135892685,135892685],[135894666,135894666],[135894837,135894837],[135894879,135894879],[135896985,135896985],[135904659,135904659],[135908007,135908007],[135910415,135910415],[135917924,135917924],[135926486,135926486],[135942475,135942475],[135955537,135955537],[135964420,135964420],[135965002,135965002],[135981071,135981071],[135988224,135988224],[135991508,135991508],[135991714,135991714],[135997479,135997479],[136001913,136001913],[136017139,136017139],[135784351,135784351],[135829309,135829309],[135835508,135835508],[135861297,135861297],[135863459,135863459],[135873845,135873845],[135902172,135902172],[135902220,135902220],[135810535,135810535],[135817760,135817760],[135857538,135857538],[135862191,135862191],[135869380,135869380],[135869761,135869761],[135886486,135886486],[135888078,135888078],[135898023,135898023],[136008173,136008173],[136008446,136008446],[136014236,136014236],[136036997,136036997],[136037702,136037702],[136040078,136040078],[136046601,136046601],[136048235,136048235],[136050624,136050624],[136051458,136051458],[136053800,136053800],[136069666,136069666],[136070320,136070320],[136071268,136071268],[136085307,136085307],[136107478,136107478],[136116965,136116965],[136119487,136119487],[136133726,136133726],[136136964,136136964],[136137013,136137013],[136141365,136141365],[136151898,136151898],[136153771,136153771],[136157319,136157319],[136157786,136157786],[136160634,136160634],[136161546,136161546],[136161613,136161613],[136163239,136163239],[136166288,136166288],[136171078,136171078],[136174848,136174848],[136177152,136177152],[136188784,136188784],[136191498,136191498],[136192069,136192069],[136192914,136192914],[136202038,136202038],[136206988,136206988],[136208169,136208169],[136211700,136211700],[136214800,136214800],[136223293,136223293],[136238330,136238330],[136242667,136242667],[136249834,136249834],[136255405,136255405],[136261219,136261219],[136264924,136264924],[136265494,136265494],[136267386,136267386],[136267415,136267415],[136277320,136277320],[136279720,136279720],[136279756,136279756],[136283113,136283113],[136299020,136299020],[136304442,136304442],[136308679,136308679],[136319192,136319192],[136324543,136324543],[136330131,136330131],[136347919,136347919],[136353065,136353065],[136360339,136360339],[136370954,136370954],[136371399,136371399],[136376994,136376994],[136381251,136381251],[136115507,136115507],[136133627,136133627],[136135820,136135820],[136145676,136145676],[136166014,136166014],[136173684,136173684],[136176031,136176031],[136214307,136214307],[136215590,136215590],[136219265,136219265],[136219831,136219831],[136289471,136289471],[136298739,136298739],[136302296,136302296],[136302897,136302897],[136348702,136348702],[136348964,136348964],[136358707,136358707],[136359608,136359608],[136360402,136360402],[136365624,136365624],[136366970,136366970],[136367871,136367871],[136368393,136368393],[136370701,136370701],[136378539,136378539],[136378895,136378895],[136385280,136385280],[136309239,136309239],[136322472,136322472],[136323787,136323787],[136323862,136323862],[136326765,136326765],[136329500,136329500],[136331657,136331657],[136345356,136345356],[136361560,136361560],[136364916,136364916],[136369497,136369497],[136369580,136369580],[136380846,136380846],[136387893,136387893],[136392700,136392700],[136400692,136400692],[136408881,136408881],[136409096,136409096],[136413099,136413099],[136413116,136413116],[136413618,136413618],[136417468,136417468],[136421589,136421589],[136425362,136425362],[136430479,136430479],[136439871,136439871],[136442318,136442318],[136444284,136444284],[136444985,136444985],[136445838,136445838],[136446249,136446249],[136447867,136447867],[136449090,136449090],[136449671,136449671],[136451724,136451724],[136452322,136452322],[136459565,136459565],[136460977,136460977],[136462831,136462831],[136464615,136464615],[136464818,136464818],[136464885,136464885],[136465856,136465856],[136467164,136467164],[136483721,136483721],[136485246,136485246],[136485657,136485657],[136493550,136493550],[136500338,136500338],[136500597,136500597],[136502199,136502199],[136506995,136506995],[136507804,136507804],[136509222,136509222],[136510091,136510091],[136512545,136512545],[136517471,136517471],[136522377,136522377],[136523696,136523696],[136523874,136523874],[136526324,136526324],[136528006,136528006],[136529000,136529000],[136533161,136533161],[136539413,136539413],[136548116,136548116],[136548169,136548169],[136548192,136548192],[136550806,136550806],[136499188,136499188],[136509186,136509186],[136559598,136559598],[136562813,136562813],[136565028,136565028],[136567633,136567633],[136573415,136573415],[136575534,136575534],[136577844,136577844],[136578703,136578703],[136578866,136578866],[136581354,136581354],[136586585,136586585],[136588968,136588968],[136589082,136589082],[136589514,136589514],[136606360,136606360],[136606741,136606741],[136607870,136607870],[136607871,136607871],[136608466,136608466],[136622825,136622825],[136626986,136626986],[136629325,136629325],[136629993,136629993],[136631424,136631424],[136506375,136506375],[136506927,136506927],[136510012,136510012],[136538939,136538939],[136535876,136535876],[136544651,136544651],[136545844,136545844],[136552526,136552526],[136553022,136553022],[136554797,136554797],[136554890,136554890],[136589701,136589701],[136593535,136593535],[136606413,136606413],[136641268,136641268],[136651969,136651969],[136652131,136652131],[136654256,136654256],[136654345,136654345],[136666824,136666824],[136671138,136671138],[136711512,136711512],[136720021,136720021],[136720176,136720176],[136721793,136721793],[136722148,136722148],[136722710,136722710],[136726393,136726393],[136731643,136731643],[136733117,136733117],[136734614,136734614],[136737647,136737647],[136740031,136740031],[136757003,136757003],[136762512,136762512],[136765924,136765924],[136766523,136766523],[136768607,136768607],[136775985,136775985],[136652491,136652491],[136652524,136652524],[136661150,136661150],[136669264,136669264],[136726567,136726567],[136732772,136732772],[136652953,136652953],[136655582,136655582],[136674028,136674028],[136684940,136684940],[136761175,136761175],[136653925,136653925],[136654833,136654833],[136656534,136656534],[136656536,136656536],[136657252,136657252],[136667301,136667301],[136667487,136667487],[136672775,136672775],[136680534,136680534],[136686393,136686393],[136688749,136688749],[136692553,136692553],[136697371,136697371],[136708787,136708787],[136710372,136710372],[136711064,136711064],[136715324,136715324],[136723504,136723504],[136737460,136737460],[136743143,136743143],[136746224,136746224],[136751842,136751842],[136759379,136759379],[136761853,136761853]],\"ys\":[[850,896],[850,896],[850,896],[850,896],[850,896],[850,896],[850,896],[850,896],[850,896],[850,896],[850,896],[850,896],[850,896],[750,796],[750,796],[750,796],[750,796],[750,796],[750,796],[750,796],[750,796],[750,796],[750,796],[750,796],[750,796],[750,796],[750,796],[750,796],[750,796],[750,796],[750,796],[750,796],[750,796],[750,796],[750,796],[750,796],[750,796],[750,796],[750,796],[750,796],[750,796],[750,796],[750,796],[750,796],[750,796],[750,796],[750,796],[750,796],[750,796],[750,796],[750,796],[750,796],[750,796],[750,796],[750,796],[750,796],[750,796],[750,796],[750,796],[750,796],[750,796],[750,796],[750,796],[750,796],[750,796],[750,796],[750,796],[750,796],[750,796],[750,796],[750,796],[750,796],[750,796],[750,796],[750,796],[750,796],[750,796],[750,796],[750,796],[750,796],[750,796],[750,796],[750,796],[750,796],[750,796],[750,796],[750,796],[750,796],[750,796],[750,796],[750,796],[750,796],[750,796],[750,796],[750,796],[750,796],[750,796],[750,796],[750,796],[750,796],[750,796],[750,796],[750,796],[750,796],[750,796],[750,796],[750,796],[750,796],[750,796],[750,796],[750,796],[750,796],[750,796],[750,796],[750,796],[750,796],[750,796],[750,796],[750,796],[750,796],[750,796],[750,796],[750,796],[750,796],[750,796],[750,796],[750,796],[750,796],[750,796],[750,796],[50,69],[50,69],[50,69],[50,69],[50,69],[50,69],[50,69],[50,69],[50,69],[50,69],[50,69],[50,69],[50,69],[50,69],[50,69],[50,69],[50,69],[50,69],[50,69],[50,69],[50,69],[50,69],[150,174],[150,174],[150,174],[150,174],[150,174],[150,174],[150,174],[150,174],[150,174],[150,174],[150,174],[150,174],[150,174],[150,174],[150,174],[150,174],[150,174],[150,174],[150,174],[150,174],[150,174],[150,174],[150,174],[150,174],[150,174],[150,174],[150,174],[150,174],[150,174],[150,174],[150,174],[150,174],[150,174],[150,174],[150,174],[150,174],[150,174],[150,174],[150,174],[150,174],[150,174],[150,174],[150,174],[150,174],[150,174],[150,174],[150,174],[150,174],[150,174],[550,588],[550,588],[550,588],[550,588],[550,588],[550,588],[550,588],[550,588],[450,486],[450,486],[450,486],[450,486],[450,486],[450,486],[450,486],[450,486],[450,486],[250,276],[250,276],[250,276],[250,276],[250,276],[250,276],[250,276],[250,276],[250,276],[250,276],[250,276],[250,276],[250,276],[250,276],[250,276],[250,276],[250,276],[250,276],[250,276],[250,276],[250,276],[250,276],[250,276],[250,276],[250,276],[250,276],[250,276],[250,276],[250,276],[250,276],[250,276],[250,276],[250,276],[250,276],[250,276],[250,276],[250,276],[250,276],[250,276],[250,276],[250,276],[250,276],[250,276],[250,276],[250,276],[250,276],[250,276],[250,276],[250,276],[250,276],[250,276],[250,276],[250,276],[250,276],[250,276],[250,276],[250,276],[250,276],[250,276],[250,276],[250,276],[250,276],[250,276],[250,276],[250,276],[250,276],[250,276],[250,276],[250,276],[250,276],[350,384],[350,384],[350,384],[350,384],[350,384],[350,384],[350,384],[350,384],[350,384],[350,384],[350,384],[350,384],[350,384],[350,384],[350,384],[350,384],[350,384],[350,384],[350,384],[350,384],[350,384],[350,384],[350,384],[350,384],[350,384],[350,384],[350,384],[350,384],[550,590],[550,590],[550,590],[550,590],[550,590],[550,590],[550,590],[550,590],[550,590],[450,487],[450,487],[450,487],[450,487],[450,487],[350,376],[350,376],[350,376],[350,376],[350,376],[350,376],[350,376],[350,376],[350,376],[350,376],[350,376],[350,376],[350,376],[350,376],[350,376],[350,376],[350,376],[350,376],[350,376],[350,376],[350,376],[350,376],[350,376],[350,376],[350,376],[350,376],[350,376],[350,376],[350,376],[350,376],[350,376],[350,376],[350,376],[350,376],[350,376],[350,376],[350,376],[350,376],[350,376],[350,376],[350,376],[350,376],[350,376],[350,376],[350,376],[350,376],[350,376],[350,376],[350,376],[350,376],[350,376],[350,376],[350,376],[350,376],[350,376],[150,171],[150,171],[150,171],[150,171],[150,171],[150,171],[150,171],[150,171],[150,171],[150,171],[150,171],[150,171],[150,171],[150,171],[150,171],[150,171],[150,171],[150,171],[150,171],[150,171],[150,171],[150,171],[150,171],[150,171],[150,171],[150,171],[750,794],[750,794],[750,794],[750,794],[650,694],[650,694],[650,694],[650,694],[650,694],[650,694],[650,694],[50,69],[50,69],[50,69],[50,69],[150,172],[150,172],[150,172],[150,172],[150,172],[150,172],[150,172],[150,172],[150,172],[150,172],[150,172],[150,172],[150,172],[150,172],[150,172],[150,172],[150,172],[150,172],[150,172],[150,172],[150,172],[150,172],[150,172],[150,172],[550,592],[550,592],[550,592],[550,592],[550,592],[550,592],[650,694],[650,694],[650,694],[650,694],[650,694],[750,795],[750,795],[750,795],[750,795],[750,795],[750,795],[750,795],[750,795],[750,795],[750,795],[750,795],[750,795],[750,795],[750,795],[750,795],[750,795],[750,795],[750,795],[750,795],[750,795],[750,795],[750,795],[750,795],[750,795]]}},\"id\":\"c4df3c46-3c4f-4c7d-bb6a-02cecf1d4f00\",\"type\":\"ColumnDataSource\"},{\"attributes\":{\"bottom_units\":\"screen\",\"fill_alpha\":{\"value\":0.5},\"fill_color\":{\"value\":\"lightgrey\"},\"left_units\":\"screen\",\"level\":\"overlay\",\"line_alpha\":{\"value\":1.0},\"line_color\":{\"value\":\"black\"},\"line_dash\":[4,4],\"line_width\":{\"value\":2},\"plot\":null,\"render_mode\":\"css\",\"right_units\":\"screen\",\"top_units\":\"screen\"},\"id\":\"9a6f0462-99d2-436d-bec0-8b0a7f93b232\",\"type\":\"BoxAnnotation\"},{\"attributes\":{\"data_source\":{\"id\":\"d9d090a6-5451-4b1d-97ff-78b4f73432dc\",\"type\":\"ColumnDataSource\"},\"glyph\":{\"id\":\"abf168f0-69da-4ced-b073-9a26c8c1615a\",\"type\":\"Quad\"},\"hover_glyph\":null,\"nonselection_glyph\":{\"id\":\"0341230f-da88-4c0f-a7a2-e7f9ca5ef72f\",\"type\":\"Quad\"},\"selection_glyph\":null},\"id\":\"91336940-1c8f-4bb9-8cc2-dd81c363b95b\",\"type\":\"GlyphRenderer\"},{\"attributes\":{\"callback\":null,\"column_names\":[\"y\",\"x\",\"vals\"],\"data\":{\"vals\":[\"RAB3GAP1\",\"ZRANB3\",\"R3HDM1\",\"UBXN4\",\"LCT\",\"MCM6\",\"DARS\"],\"x\":[135869057.0,136122878.0,136385961.0,136520911.0,136570082.5,136615621.5,136703738.0],\"y\":[960.0,960.0,960.0,960.0,960.0,960.0,960.0]}},\"id\":\"c1da3c95-fd34-4611-b0a8-402427f6b20d\",\"type\":\"ColumnDataSource\"},{\"attributes\":{\"callback\":null,\"column_names\":[\"right\",\"bottom\",\"top\",\"left\"],\"data\":{\"bottom\":[945,945,945,945,945,945,945],\"left\":[135809835,135957574,136289083,136499189,136545415,136597196,136664254],\"right\":[135928279,136288182,136482839,136542633,136594750,136634047,136743222],\"top\":[975,975,975,975,975,975,975]}},\"id\":\"9fdd2016-332c-4847-9c18-a67bbb4c78b2\",\"type\":\"ColumnDataSource\"},{\"attributes\":{},\"id\":\"4cf2719e-4e02-48bf-a48d-80e3fc255914\",\"type\":\"BasicTickFormatter\"},{\"attributes\":{},\"id\":\"1faa2dff-fd6e-44ef-bd06-16c3b0deae39\",\"type\":\"BasicTicker\"},{\"attributes\":{\"line_alpha\":{\"value\":0.1},\"line_color\":{\"value\":\"#1f77b4\"},\"xs\":{\"field\":\"xs\"},\"ys\":{\"field\":\"ys\"}},\"id\":\"6c7e0104-81ac-44ea-a17d-8d1243b622ea\",\"type\":\"MultiLine\"},{\"attributes\":{},\"id\":\"bde1f3e9-b27b-46a4-8457-3fb30ebdc26b\",\"type\":\"BasicTicker\"},{\"attributes\":{\"callback\":null,\"end\":1000},\"id\":\"b2986644-a312-44f2-bf30-8ad4a1b032a8\",\"type\":\"Range1d\"},{\"attributes\":{\"callback\":null,\"column_names\":[\"y\",\"x\",\"vals\"],\"data\":{\"vals\":[\"13_1696\",\"117_1685\",\"22_73\",\"49_136\",\"8_718\",\"9_545\",\"70_166\",\"28_434\",\"9_887\",\"5_588\",\"55_180\",\"26_96\",\"4_1442\",\"7_1303\",\"4_80\",\"24_113\",\"6_1114\",\"5_1296\",\"24_1504\"],\"x\":[135757320,135758231,135761470,135780924,135784351,135810535,136008173,136115507,136309239,136364916,136392700,136499188,136506375,136535876,136589701,136651969,136652491,136652953,136653925],\"y\":[901.0,801.0,74.0,179.0,593.0,491.0,281.0,389.0,595.0,492.0,381.0,176.0,799.0,699.0,74.0,177.0,597.0,699.0,800.0]}},\"id\":\"348533c3-86fe-4460-b9a8-80ed31458632\",\"type\":\"ColumnDataSource\"},{\"attributes\":{\"plot\":{\"id\":\"5f9b4743-8fa1-4000-82ea-78bc8d02208d\",\"subtype\":\"Figure\",\"type\":\"Plot\"},\"ticker\":{\"id\":\"1faa2dff-fd6e-44ef-bd06-16c3b0deae39\",\"type\":\"BasicTicker\"}},\"id\":\"281f4a5f-9f20-459b-8bae-bdc3ada46ebe\",\"type\":\"Grid\"},{\"attributes\":{\"plot\":{\"id\":\"5f9b4743-8fa1-4000-82ea-78bc8d02208d\",\"subtype\":\"Figure\",\"type\":\"Plot\"}},\"id\":\"80b85fd3-db23-42ec-8855-5925c22045f6\",\"type\":\"HelpTool\"},{\"attributes\":{\"bottom\":{\"field\":\"bottom\"},\"fill_color\":{\"value\":\"white\"},\"left\":{\"field\":\"left\"},\"right\":{\"field\":\"right\"},\"top\":{\"field\":\"top\"}},\"id\":\"91b51d5c-48a6-4e6d-b771-b867513c6c4b\",\"type\":\"Quad\"},{\"attributes\":{},\"id\":\"7c5bc6a2-ecff-4321-8132-49e3d5f29d88\",\"type\":\"ToolEvents\"},{\"attributes\":{\"bottom\":{\"field\":\"bottom\"},\"fill_alpha\":{\"value\":0.1},\"fill_color\":{\"value\":\"#1f77b4\"},\"left\":{\"field\":\"left\"},\"line_alpha\":{\"value\":0.1},\"line_color\":{\"value\":\"#1f77b4\"},\"right\":{\"field\":\"right\"},\"top\":{\"field\":\"top\"}},\"id\":\"d2a79ecd-c836-4594-ab70-b1c09e7eb50d\",\"type\":\"Quad\"},{\"attributes\":{\"data_source\":{\"id\":\"c4df3c46-3c4f-4c7d-bb6a-02cecf1d4f00\",\"type\":\"ColumnDataSource\"},\"glyph\":{\"id\":\"ce41b499-4565-49b1-b078-99ab12fc731d\",\"type\":\"MultiLine\"},\"hover_glyph\":null,\"nonselection_glyph\":{\"id\":\"6c7e0104-81ac-44ea-a17d-8d1243b622ea\",\"type\":\"MultiLine\"},\"selection_glyph\":null},\"id\":\"c3517781-8e50-4db1-ac98-ed123e5b34b7\",\"type\":\"GlyphRenderer\"},{\"attributes\":{\"overlay\":{\"id\":\"9a6f0462-99d2-436d-bec0-8b0a7f93b232\",\"type\":\"BoxAnnotation\"},\"plot\":{\"id\":\"5f9b4743-8fa1-4000-82ea-78bc8d02208d\",\"subtype\":\"Figure\",\"type\":\"Plot\"}},\"id\":\"684838cc-7d8f-4913-97f0-e7bc5c4353cf\",\"type\":\"BoxZoomTool\"},{\"attributes\":{\"dimension\":1,\"plot\":{\"id\":\"5f9b4743-8fa1-4000-82ea-78bc8d02208d\",\"subtype\":\"Figure\",\"type\":\"Plot\"},\"ticker\":{\"id\":\"bde1f3e9-b27b-46a4-8457-3fb30ebdc26b\",\"type\":\"BasicTicker\"}},\"id\":\"9f92bbe3-4a76-436f-85b2-3264fe36e3d3\",\"type\":\"Grid\"},{\"attributes\":{\"plot\":{\"id\":\"5f9b4743-8fa1-4000-82ea-78bc8d02208d\",\"subtype\":\"Figure\",\"type\":\"Plot\"}},\"id\":\"efae45ff-c55c-4050-8596-8733834c06a1\",\"type\":\"PanTool\"},{\"attributes\":{},\"id\":\"012fdc3b-1311-474b-a5b6-59f017fed6e2\",\"type\":\"BasicTickFormatter\"},{\"attributes\":{\"formatter\":{\"id\":\"4cf2719e-4e02-48bf-a48d-80e3fc255914\",\"type\":\"BasicTickFormatter\"},\"plot\":{\"id\":\"5f9b4743-8fa1-4000-82ea-78bc8d02208d\",\"subtype\":\"Figure\",\"type\":\"Plot\"},\"ticker\":{\"id\":\"bde1f3e9-b27b-46a4-8457-3fb30ebdc26b\",\"type\":\"BasicTicker\"},\"visible\":null},\"id\":\"ff7e603c-fb8b-4b35-84de-be3481df1126\",\"type\":\"LinearAxis\"},{\"attributes\":{\"line_color\":{\"field\":\"line_color\"},\"xs\":{\"field\":\"xs\"},\"ys\":{\"field\":\"ys\"}},\"id\":\"ce41b499-4565-49b1-b078-99ab12fc731d\",\"type\":\"MultiLine\"},{\"attributes\":{\"active_drag\":\"auto\",\"active_scroll\":\"auto\",\"active_tap\":\"auto\",\"tools\":[{\"id\":\"efae45ff-c55c-4050-8596-8733834c06a1\",\"type\":\"PanTool\"},{\"id\":\"35eee0be-cbf4-4a59-b344-556e08dee3e0\",\"type\":\"WheelZoomTool\"},{\"id\":\"684838cc-7d8f-4913-97f0-e7bc5c4353cf\",\"type\":\"BoxZoomTool\"},{\"id\":\"56481db7-7272-485b-acdb-4b29db645dbc\",\"type\":\"SaveTool\"},{\"id\":\"8958ae8c-470c-4f32-b318-aac5d21d43c9\",\"type\":\"ResetTool\"},{\"id\":\"80b85fd3-db23-42ec-8855-5925c22045f6\",\"type\":\"HelpTool\"}]},\"id\":\"4aa5f873-20dd-4e86-9a1b-eaf055a4f2cf\",\"type\":\"Toolbar\"},{\"attributes\":{\"bottom\":{\"field\":\"bottom\"},\"fill_color\":{\"field\":\"fill_color\"},\"left\":{\"field\":\"left\"},\"line_color\":{\"value\":null},\"right\":{\"field\":\"right\"},\"top\":{\"field\":\"top\"}},\"id\":\"abf168f0-69da-4ced-b073-9a26c8c1615a\",\"type\":\"Quad\"},{\"attributes\":{\"level\":\"glyph\",\"plot\":{\"id\":\"5f9b4743-8fa1-4000-82ea-78bc8d02208d\",\"subtype\":\"Figure\",\"type\":\"Plot\"},\"source\":{\"id\":\"c1da3c95-fd34-4611-b0a8-402427f6b20d\",\"type\":\"ColumnDataSource\"},\"text\":{\"field\":\"vals\"},\"text_align\":\"center\",\"text_baseline\":\"middle\",\"text_font_size\":{\"value\":\"8pt\"},\"x\":{\"field\":\"x\"},\"y\":{\"field\":\"y\"}},\"id\":\"3aadbca9-8280-4775-84f4-83d767cbea94\",\"type\":\"LabelSet\"},{\"attributes\":{\"plot\":{\"id\":\"5f9b4743-8fa1-4000-82ea-78bc8d02208d\",\"subtype\":\"Figure\",\"type\":\"Plot\"}},\"id\":\"35eee0be-cbf4-4a59-b344-556e08dee3e0\",\"type\":\"WheelZoomTool\"},{\"attributes\":{\"below\":[{\"id\":\"88572a3d-d8a3-4c89-bfe0-eb4922a2f9e8\",\"type\":\"LinearAxis\"}],\"left\":[{\"id\":\"ff7e603c-fb8b-4b35-84de-be3481df1126\",\"type\":\"LinearAxis\"}],\"plot_height\":1000,\"plot_width\":900,\"renderers\":[{\"id\":\"88572a3d-d8a3-4c89-bfe0-eb4922a2f9e8\",\"type\":\"LinearAxis\"},{\"id\":\"281f4a5f-9f20-459b-8bae-bdc3ada46ebe\",\"type\":\"Grid\"},{\"id\":\"ff7e603c-fb8b-4b35-84de-be3481df1126\",\"type\":\"LinearAxis\"},{\"id\":\"9f92bbe3-4a76-436f-85b2-3264fe36e3d3\",\"type\":\"Grid\"},{\"id\":\"9a6f0462-99d2-436d-bec0-8b0a7f93b232\",\"type\":\"BoxAnnotation\"},{\"id\":\"91336940-1c8f-4bb9-8cc2-dd81c363b95b\",\"type\":\"GlyphRenderer\"},{\"id\":\"c3517781-8e50-4db1-ac98-ed123e5b34b7\",\"type\":\"GlyphRenderer\"},{\"id\":\"f5d0b15c-3e76-4ef6-97e1-b3c52389b92f\",\"type\":\"LabelSet\"},{\"id\":\"2ef08aa6-1ef1-43fd-a9c2-2ed089b33090\",\"type\":\"GlyphRenderer\"},{\"id\":\"3aadbca9-8280-4775-84f4-83d767cbea94\",\"type\":\"LabelSet\"}],\"title\":{\"id\":\"ec115b3e-4c74-4636-ae38-b42acf7fa266\",\"type\":\"Title\"},\"tool_events\":{\"id\":\"7c5bc6a2-ecff-4321-8132-49e3d5f29d88\",\"type\":\"ToolEvents\"},\"toolbar\":{\"id\":\"4aa5f873-20dd-4e86-9a1b-eaf055a4f2cf\",\"type\":\"Toolbar\"},\"toolbar_location\":null,\"x_range\":{\"id\":\"c76c25fc-faf2-4cc2-ad1e-bdb84aafccf5\",\"type\":\"Range1d\"},\"y_range\":{\"id\":\"b2986644-a312-44f2-bf30-8ad4a1b032a8\",\"type\":\"Range1d\"}},\"id\":\"5f9b4743-8fa1-4000-82ea-78bc8d02208d\",\"subtype\":\"Figure\",\"type\":\"Plot\"},{\"attributes\":{\"level\":\"glyph\",\"plot\":{\"id\":\"5f9b4743-8fa1-4000-82ea-78bc8d02208d\",\"subtype\":\"Figure\",\"type\":\"Plot\"},\"source\":{\"id\":\"348533c3-86fe-4460-b9a8-80ed31458632\",\"type\":\"ColumnDataSource\"},\"text\":{\"field\":\"vals\"},\"text_font_size\":{\"value\":\"9pt\"},\"text_font_style\":\"bold\",\"x\":{\"field\":\"x\"},\"y\":{\"field\":\"y\"}},\"id\":\"f5d0b15c-3e76-4ef6-97e1-b3c52389b92f\",\"type\":\"LabelSet\"},{\"attributes\":{\"plot\":null,\"text\":null},\"id\":\"ec115b3e-4c74-4636-ae38-b42acf7fa266\",\"type\":\"Title\"},{\"attributes\":{\"bottom\":{\"field\":\"bottom\"},\"fill_alpha\":{\"value\":0.1},\"fill_color\":{\"value\":\"#1f77b4\"},\"left\":{\"field\":\"left\"},\"line_alpha\":{\"value\":0.1},\"line_color\":{\"value\":\"#1f77b4\"},\"right\":{\"field\":\"right\"},\"top\":{\"field\":\"top\"}},\"id\":\"0341230f-da88-4c0f-a7a2-e7f9ca5ef72f\",\"type\":\"Quad\"}],\"root_ids\":[\"5f9b4743-8fa1-4000-82ea-78bc8d02208d\"]},\"title\":\"Bokeh Application\",\"version\":\"0.12.0\"}};\n",
       "            var render_items = [{\"docid\":\"95125c13-dd7a-40e5-b286-c055b3e0489f\",\"elementid\":\"987bc021-4201-4008-9dc8-3e642b52c40f\",\"modelid\":\"5f9b4743-8fa1-4000-82ea-78bc8d02208d\",\"notebook_comms_target\":\"64d912da-b231-4bb1-a719-cef17c4542eb\"}];\n",
       "            \n",
       "            Bokeh.embed.embed_items(docs_json, render_items);\n",
       "        });\n",
       "      },\n",
       "      function(Bokeh) {\n",
       "      }\n",
       "    ];\n",
       "  \n",
       "    function run_inline_js() {\n",
       "      for (var i = 0; i < inline_js.length; i++) {\n",
       "        inline_js[i](window.Bokeh);\n",
       "      }\n",
       "    }\n",
       "  \n",
       "    if (window._bokeh_is_loading === 0) {\n",
       "      console.log(\"Bokeh: BokehJS loaded, going straight to plotting\");\n",
       "      run_inline_js();\n",
       "    } else {\n",
       "      load_libs(js_urls, function() {\n",
       "        console.log(\"Bokeh: BokehJS plotting callback run at\", now());\n",
       "        run_inline_js();\n",
       "      });\n",
       "    }\n",
       "  }(this));\n",
       "</script>"
      ]
     },
     "metadata": {},
     "output_type": "display_data"
    },
    {
     "data": {
      "text/html": [
       "<p><code>&lt;Bokeh Notebook handle for <strong>In[3]</strong>&gt;</code></p>"
      ],
      "text/plain": [
       "<bokeh.io._CommsHandle at 0x7f360599e6d0>"
      ]
     },
     "execution_count": 3,
     "metadata": {},
     "output_type": "execute_result"
    }
   ],
   "source": [
    "plt_obj = dm.superset_yes_no([dm.di_49_136], min_match=0.5)\n",
    "plt = plt_obj.do_plot()\n",
    "show(plt)"
   ]
  },
  {
   "cell_type": "code",
   "execution_count": 4,
   "metadata": {
    "collapsed": false
   },
   "outputs": [
    {
     "data": {
      "text/html": [
       "<table>\n",
       "<thead><tr><th style=\"text-align:center\">index</th><th style=\"text-align:center\">first</th><th style=\"text-align:center\">length</th><th style=\"text-align:center\">snps</th><th style=\"text-align:center\" colspan=2>alleles</th><th style=\"text-align:center\" colspan=2>matches</th><th style=\"text-align:center\" colspan=2>afr</th><th style=\"text-align:center\" colspan=2>afx</th><th style=\"text-align:center\" colspan=2>amr</th><th style=\"text-align:center\" colspan=2>eas</th><th style=\"text-align:center\" colspan=2>eur</th><th style=\"text-align:center\" colspan=2>sas</th><th style=\"text-align:center\" colspan=2>sax</th></tr></thead>\n",
       "<tr class=\"even\"><td style=\"text-align: right;\">353240</td><td style=\"text-align: right;\">135,757,320</td><td style=\"text-align: right;\">20,184</td><td style=\"text-align: right;\">13</td><td style=\"text-align: right;\">1696</td><td style=\"text-align: right;\">0.04</td><td style=\"text-align: right;\">74</td><td style=\"text-align: right;\">0.54</td><td style=\"text-align: right;\">47</td><td style=\"text-align: right;\">3.16</td><td style=\"text-align: right;\">26</td><td style=\"text-align: right;\">5.60</td><td style=\"text-align: right;\">1</td><td style=\"text-align: right;\">0.10</td><td style=\"text-align: right;\">0</td><td style=\"text-align: right;\">0.00</td><td style=\"text-align: right;\">0</td><td style=\"text-align: right;\">0.00</td><td style=\"text-align: right;\">0</td><td style=\"text-align: right;\">0.00</td><td style=\"text-align: right;\">0</td><td style=\"text-align: right;\">0.00</td></tr>\n",
       "<tr><td style=\"text-align: right;\">353244</td><td style=\"text-align: right;\">135,758,231</td><td style=\"text-align: right;\">618,284</td><td style=\"text-align: right;\">117</td><td style=\"text-align: right;\">1685</td><td style=\"text-align: right;\">0.08</td><td style=\"text-align: right;\">136</td><td style=\"text-align: right;\">1.00</td><td style=\"text-align: right;\">94</td><td style=\"text-align: right;\">3.43</td><td style=\"text-align: right;\">40</td><td style=\"text-align: right;\">4.69</td><td style=\"text-align: right;\">2</td><td style=\"text-align: right;\">0.11</td><td style=\"text-align: right;\">0</td><td style=\"text-align: right;\">0.00</td><td style=\"text-align: right;\">0</td><td style=\"text-align: right;\">0.00</td><td style=\"text-align: right;\">0</td><td style=\"text-align: right;\">0.00</td><td style=\"text-align: right;\">0</td><td style=\"text-align: right;\">0.00</td></tr>\n",
       "<tr class=\"even\"><td style=\"text-align: right;\">354130</td><td style=\"text-align: right;\">136,653,925</td><td style=\"text-align: right;\">107,928</td><td style=\"text-align: right;\">24</td><td style=\"text-align: right;\">1504</td><td style=\"text-align: right;\">0.06</td><td style=\"text-align: right;\">95</td><td style=\"text-align: right;\">0.70</td><td style=\"text-align: right;\">61</td><td style=\"text-align: right;\">3.19</td><td style=\"text-align: right;\">32</td><td style=\"text-align: right;\">5.37</td><td style=\"text-align: right;\">2</td><td style=\"text-align: right;\">0.15</td><td style=\"text-align: right;\">0</td><td style=\"text-align: right;\">0.00</td><td style=\"text-align: right;\">0</td><td style=\"text-align: right;\">0.00</td><td style=\"text-align: right;\">0</td><td style=\"text-align: right;\">0.00</td><td style=\"text-align: right;\">0</td><td style=\"text-align: right;\">0.00</td></tr>\n",
       "<tr><td style=\"text-align: right;\">353925</td><td style=\"text-align: right;\">136,506,375</td><td style=\"text-align: right;\">32,564</td><td style=\"text-align: right;\">4</td><td style=\"text-align: right;\">1442</td><td style=\"text-align: right;\">0.06</td><td style=\"text-align: right;\">92</td><td style=\"text-align: right;\">0.68</td><td style=\"text-align: right;\">60</td><td style=\"text-align: right;\">3.24</td><td style=\"text-align: right;\">30</td><td style=\"text-align: right;\">5.20</td><td style=\"text-align: right;\">2</td><td style=\"text-align: right;\">0.16</td><td style=\"text-align: right;\">0</td><td style=\"text-align: right;\">0.00</td><td style=\"text-align: right;\">0</td><td style=\"text-align: right;\">0.00</td><td style=\"text-align: right;\">0</td><td style=\"text-align: right;\">0.00</td><td style=\"text-align: right;\">0</td><td style=\"text-align: right;\">0.00</td></tr>\n",
       "<tr class=\"even\"><td style=\"text-align: right;\">353958</td><td style=\"text-align: right;\">136,535,876</td><td style=\"text-align: right;\">19,014</td><td style=\"text-align: right;\">7</td><td style=\"text-align: right;\">1303</td><td style=\"text-align: right;\">0.07</td><td style=\"text-align: right;\">92</td><td style=\"text-align: right;\">0.68</td><td style=\"text-align: right;\">60</td><td style=\"text-align: right;\">3.24</td><td style=\"text-align: right;\">30</td><td style=\"text-align: right;\">5.20</td><td style=\"text-align: right;\">2</td><td style=\"text-align: right;\">0.16</td><td style=\"text-align: right;\">0</td><td style=\"text-align: right;\">0.00</td><td style=\"text-align: right;\">0</td><td style=\"text-align: right;\">0.00</td><td style=\"text-align: right;\">0</td><td style=\"text-align: right;\">0.00</td><td style=\"text-align: right;\">0</td><td style=\"text-align: right;\">0.00</td></tr>\n",
       "<tr><td style=\"text-align: right;\">354129</td><td style=\"text-align: right;\">136,652,953</td><td style=\"text-align: right;\">108,222</td><td style=\"text-align: right;\">5</td><td style=\"text-align: right;\">1296</td><td style=\"text-align: right;\">0.07</td><td style=\"text-align: right;\">90</td><td style=\"text-align: right;\">0.66</td><td style=\"text-align: right;\">57</td><td style=\"text-align: right;\">3.15</td><td style=\"text-align: right;\">31</td><td style=\"text-align: right;\">5.49</td><td style=\"text-align: right;\">2</td><td style=\"text-align: right;\">0.16</td><td style=\"text-align: right;\">0</td><td style=\"text-align: right;\">0.00</td><td style=\"text-align: right;\">0</td><td style=\"text-align: right;\">0.00</td><td style=\"text-align: right;\">0</td><td style=\"text-align: right;\">0.00</td><td style=\"text-align: right;\">0</td><td style=\"text-align: right;\">0.00</td></tr>\n",
       "<tr class=\"even\"><td style=\"text-align: right;\">354127</td><td style=\"text-align: right;\">136,652,491</td><td style=\"text-align: right;\">80,281</td><td style=\"text-align: right;\">6</td><td style=\"text-align: right;\">1114</td><td style=\"text-align: right;\">0.08</td><td style=\"text-align: right;\">90</td><td style=\"text-align: right;\">0.66</td><td style=\"text-align: right;\">57</td><td style=\"text-align: right;\">3.15</td><td style=\"text-align: right;\">31</td><td style=\"text-align: right;\">5.49</td><td style=\"text-align: right;\">2</td><td style=\"text-align: right;\">0.16</td><td style=\"text-align: right;\">0</td><td style=\"text-align: right;\">0.00</td><td style=\"text-align: right;\">0</td><td style=\"text-align: right;\">0.00</td><td style=\"text-align: right;\">0</td><td style=\"text-align: right;\">0.00</td><td style=\"text-align: right;\">0</td><td style=\"text-align: right;\">0.00</td></tr>\n",
       "<tr><td style=\"text-align: right;\">353729</td><td style=\"text-align: right;\">136,309,239</td><td style=\"text-align: right;\">52,321</td><td style=\"text-align: right;\">9</td><td style=\"text-align: right;\">887</td><td style=\"text-align: right;\">0.15</td><td style=\"text-align: right;\">136</td><td style=\"text-align: right;\">1.00</td><td style=\"text-align: right;\">94</td><td style=\"text-align: right;\">3.43</td><td style=\"text-align: right;\">40</td><td style=\"text-align: right;\">4.69</td><td style=\"text-align: right;\">2</td><td style=\"text-align: right;\">0.11</td><td style=\"text-align: right;\">0</td><td style=\"text-align: right;\">0.00</td><td style=\"text-align: right;\">0</td><td style=\"text-align: right;\">0.00</td><td style=\"text-align: right;\">0</td><td style=\"text-align: right;\">0.00</td><td style=\"text-align: right;\">0</td><td style=\"text-align: right;\">0.00</td></tr>\n",
       "<tr class=\"even\"><td style=\"text-align: right;\">353312</td><td style=\"text-align: right;\">135,784,351</td><td style=\"text-align: right;\">117,869</td><td style=\"text-align: right;\">8</td><td style=\"text-align: right;\">718</td><td style=\"text-align: right;\">0.19</td><td style=\"text-align: right;\">136</td><td style=\"text-align: right;\">1.00</td><td style=\"text-align: right;\">94</td><td style=\"text-align: right;\">3.43</td><td style=\"text-align: right;\">40</td><td style=\"text-align: right;\">4.69</td><td style=\"text-align: right;\">2</td><td style=\"text-align: right;\">0.11</td><td style=\"text-align: right;\">0</td><td style=\"text-align: right;\">0.00</td><td style=\"text-align: right;\">0</td><td style=\"text-align: right;\">0.00</td><td style=\"text-align: right;\">0</td><td style=\"text-align: right;\">0.00</td><td style=\"text-align: right;\">0</td><td style=\"text-align: right;\">0.00</td></tr>\n",
       "<tr><td style=\"text-align: right;\">353764</td><td style=\"text-align: right;\">136,364,916</td><td style=\"text-align: right;\">22,977</td><td style=\"text-align: right;\">5</td><td style=\"text-align: right;\">588</td><td style=\"text-align: right;\">0.23</td><td style=\"text-align: right;\">133</td><td style=\"text-align: right;\">0.98</td><td style=\"text-align: right;\">92</td><td style=\"text-align: right;\">3.44</td><td style=\"text-align: right;\">39</td><td style=\"text-align: right;\">4.68</td><td style=\"text-align: right;\">2</td><td style=\"text-align: right;\">0.11</td><td style=\"text-align: right;\">0</td><td style=\"text-align: right;\">0.00</td><td style=\"text-align: right;\">0</td><td style=\"text-align: right;\">0.00</td><td style=\"text-align: right;\">0</td><td style=\"text-align: right;\">0.00</td><td style=\"text-align: right;\">0</td><td style=\"text-align: right;\">0.00</td></tr>\n",
       "<tr class=\"even\"><td style=\"text-align: right;\">353349</td><td style=\"text-align: right;\">135,810,535</td><td style=\"text-align: right;\">87,488</td><td style=\"text-align: right;\">9</td><td style=\"text-align: right;\">545</td><td style=\"text-align: right;\">0.25</td><td style=\"text-align: right;\">136</td><td style=\"text-align: right;\">1.00</td><td style=\"text-align: right;\">94</td><td style=\"text-align: right;\">3.43</td><td style=\"text-align: right;\">40</td><td style=\"text-align: right;\">4.69</td><td style=\"text-align: right;\">2</td><td style=\"text-align: right;\">0.11</td><td style=\"text-align: right;\">0</td><td style=\"text-align: right;\">0.00</td><td style=\"text-align: right;\">0</td><td style=\"text-align: right;\">0.00</td><td style=\"text-align: right;\">0</td><td style=\"text-align: right;\">0.00</td><td style=\"text-align: right;\">0</td><td style=\"text-align: right;\">0.00</td></tr>\n",
       "<tr><td style=\"text-align: right;\">353614</td><td style=\"text-align: right;\">136,115,507</td><td style=\"text-align: right;\">269,773</td><td style=\"text-align: right;\">28</td><td style=\"text-align: right;\">434</td><td style=\"text-align: right;\">0.31</td><td style=\"text-align: right;\">136</td><td style=\"text-align: right;\">1.00</td><td style=\"text-align: right;\">94</td><td style=\"text-align: right;\">3.43</td><td style=\"text-align: right;\">40</td><td style=\"text-align: right;\">4.69</td><td style=\"text-align: right;\">2</td><td style=\"text-align: right;\">0.11</td><td style=\"text-align: right;\">0</td><td style=\"text-align: right;\">0.00</td><td style=\"text-align: right;\">0</td><td style=\"text-align: right;\">0.00</td><td style=\"text-align: right;\">0</td><td style=\"text-align: right;\">0.00</td><td style=\"text-align: right;\">0</td><td style=\"text-align: right;\">0.00</td></tr>\n",
       "<tr class=\"even\"><td style=\"text-align: right;\">353788</td><td style=\"text-align: right;\">136,392,700</td><td style=\"text-align: right;\">158,106</td><td style=\"text-align: right;\">55</td><td style=\"text-align: right;\">180</td><td style=\"text-align: right;\">0.42</td><td style=\"text-align: right;\">75</td><td style=\"text-align: right;\">0.55</td><td style=\"text-align: right;\">49</td><td style=\"text-align: right;\">3.25</td><td style=\"text-align: right;\">24</td><td style=\"text-align: right;\">5.10</td><td style=\"text-align: right;\">2</td><td style=\"text-align: right;\">0.19</td><td style=\"text-align: right;\">0</td><td style=\"text-align: right;\">0.00</td><td style=\"text-align: right;\">0</td><td style=\"text-align: right;\">0.00</td><td style=\"text-align: right;\">0</td><td style=\"text-align: right;\">0.00</td><td style=\"text-align: right;\">0</td><td style=\"text-align: right;\">0.00</td></tr>\n",
       "<tr><td style=\"text-align: right;\">353538</td><td style=\"text-align: right;\">136,008,173</td><td style=\"text-align: right;\">373,078</td><td style=\"text-align: right;\">70</td><td style=\"text-align: right;\">166</td><td style=\"text-align: right;\">0.82</td><td style=\"text-align: right;\">136</td><td style=\"text-align: right;\">1.00</td><td style=\"text-align: right;\">94</td><td style=\"text-align: right;\">3.43</td><td style=\"text-align: right;\">40</td><td style=\"text-align: right;\">4.69</td><td style=\"text-align: right;\">2</td><td style=\"text-align: right;\">0.11</td><td style=\"text-align: right;\">0</td><td style=\"text-align: right;\">0.00</td><td style=\"text-align: right;\">0</td><td style=\"text-align: right;\">0.00</td><td style=\"text-align: right;\">0</td><td style=\"text-align: right;\">0.00</td><td style=\"text-align: right;\">0</td><td style=\"text-align: right;\">0.00</td></tr>\n",
       "<tr class=\"even\"><td style=\"text-align: right;\">353304</td><td style=\"text-align: right;\">135,780,924</td><td style=\"text-align: right;\">236,215</td><td style=\"text-align: right;\">49</td><td style=\"text-align: right;\">136</td><td style=\"text-align: right;\">1.00</td><td style=\"text-align: right;\">136</td><td style=\"text-align: right;\">1.00</td><td style=\"text-align: right;\">94</td><td style=\"text-align: right;\">3.43</td><td style=\"text-align: right;\">40</td><td style=\"text-align: right;\">4.69</td><td style=\"text-align: right;\">2</td><td style=\"text-align: right;\">0.11</td><td style=\"text-align: right;\">0</td><td style=\"text-align: right;\">0.00</td><td style=\"text-align: right;\">0</td><td style=\"text-align: right;\">0.00</td><td style=\"text-align: right;\">0</td><td style=\"text-align: right;\">0.00</td><td style=\"text-align: right;\">0</td><td style=\"text-align: right;\">0.00</td></tr>\n",
       "<tr><td style=\"text-align: right;\">354125</td><td style=\"text-align: right;\">136,651,969</td><td style=\"text-align: right;\">124,016</td><td style=\"text-align: right;\">24</td><td style=\"text-align: right;\">113</td><td style=\"text-align: right;\">0.69</td><td style=\"text-align: right;\">78</td><td style=\"text-align: right;\">0.57</td><td style=\"text-align: right;\">48</td><td style=\"text-align: right;\">3.06</td><td style=\"text-align: right;\">28</td><td style=\"text-align: right;\">5.73</td><td style=\"text-align: right;\">2</td><td style=\"text-align: right;\">0.19</td><td style=\"text-align: right;\">0</td><td style=\"text-align: right;\">0.00</td><td style=\"text-align: right;\">0</td><td style=\"text-align: right;\">0.00</td><td style=\"text-align: right;\">0</td><td style=\"text-align: right;\">0.00</td><td style=\"text-align: right;\">0</td><td style=\"text-align: right;\">0.00</td></tr>\n",
       "<tr class=\"even\"><td style=\"text-align: right;\">353915</td><td style=\"text-align: right;\">136,499,188</td><td style=\"text-align: right;\">132,236</td><td style=\"text-align: right;\">26</td><td style=\"text-align: right;\">96</td><td style=\"text-align: right;\">0.83</td><td style=\"text-align: right;\">80</td><td style=\"text-align: right;\">0.59</td><td style=\"text-align: right;\">51</td><td style=\"text-align: right;\">3.17</td><td style=\"text-align: right;\">27</td><td style=\"text-align: right;\">5.38</td><td style=\"text-align: right;\">2</td><td style=\"text-align: right;\">0.18</td><td style=\"text-align: right;\">0</td><td style=\"text-align: right;\">0.00</td><td style=\"text-align: right;\">0</td><td style=\"text-align: right;\">0.00</td><td style=\"text-align: right;\">0</td><td style=\"text-align: right;\">0.00</td><td style=\"text-align: right;\">0</td><td style=\"text-align: right;\">0.00</td></tr>\n",
       "<tr><td style=\"text-align: right;\">354037</td><td style=\"text-align: right;\">136,589,701</td><td style=\"text-align: right;\">51,567</td><td style=\"text-align: right;\">4</td><td style=\"text-align: right;\">80</td><td style=\"text-align: right;\">0.85</td><td style=\"text-align: right;\">68</td><td style=\"text-align: right;\">0.50</td><td style=\"text-align: right;\">39</td><td style=\"text-align: right;\">2.85</td><td style=\"text-align: right;\">28</td><td style=\"text-align: right;\">6.57</td><td style=\"text-align: right;\">1</td><td style=\"text-align: right;\">0.11</td><td style=\"text-align: right;\">0</td><td style=\"text-align: right;\">0.00</td><td style=\"text-align: right;\">0</td><td style=\"text-align: right;\">0.00</td><td style=\"text-align: right;\">0</td><td style=\"text-align: right;\">0.00</td><td style=\"text-align: right;\">0</td><td style=\"text-align: right;\">0.00</td></tr>\n",
       "<tr class=\"even\"><td style=\"text-align: right;\">353259</td><td style=\"text-align: right;\">135,761,470</td><td style=\"text-align: right;\">609,610</td><td style=\"text-align: right;\">22</td><td style=\"text-align: right;\">73</td><td style=\"text-align: right;\">1.00</td><td style=\"text-align: right;\">73</td><td style=\"text-align: right;\">0.54</td><td style=\"text-align: right;\">46</td><td style=\"text-align: right;\">3.13</td><td style=\"text-align: right;\">26</td><td style=\"text-align: right;\">5.68</td><td style=\"text-align: right;\">1</td><td style=\"text-align: right;\">0.10</td><td style=\"text-align: right;\">0</td><td style=\"text-align: right;\">0.00</td><td style=\"text-align: right;\">0</td><td style=\"text-align: right;\">0.00</td><td style=\"text-align: right;\">0</td><td style=\"text-align: right;\">0.00</td><td style=\"text-align: right;\">0</td><td style=\"text-align: right;\">0.00</td></tr>\n",
       "</table>"
      ],
      "text/plain": [
       "<IPython.core.display.HTML object>"
      ]
     },
     "execution_count": 4,
     "metadata": {},
     "output_type": "execute_result"
    }
   ],
   "source": [
    "HTML(plt_obj.get_html())"
   ]
  },
  {
   "cell_type": "code",
   "execution_count": 5,
   "metadata": {
    "collapsed": false
   },
   "outputs": [
    {
     "data": {
      "text/html": [
       "\n",
       "\n",
       "    <div class=\"bk-root\">\n",
       "        <div class=\"plotdiv\" id=\"8c83ae2f-2edd-4a51-949d-2f71ff2da97d\"></div>\n",
       "    </div>\n",
       "<script type=\"text/javascript\">\n",
       "  \n",
       "  (function(global) {\n",
       "    function now() {\n",
       "      return new Date();\n",
       "    }\n",
       "  \n",
       "    if (typeof (window._bokeh_onload_callbacks) === \"undefined\") {\n",
       "      window._bokeh_onload_callbacks = [];\n",
       "    }\n",
       "  \n",
       "    function run_callbacks() {\n",
       "      window._bokeh_onload_callbacks.forEach(function(callback) { callback() });\n",
       "      delete window._bokeh_onload_callbacks\n",
       "      console.info(\"Bokeh: all callbacks have finished\");\n",
       "    }\n",
       "  \n",
       "    function load_libs(js_urls, callback) {\n",
       "      window._bokeh_onload_callbacks.push(callback);\n",
       "      if (window._bokeh_is_loading > 0) {\n",
       "        console.log(\"Bokeh: BokehJS is being loaded, scheduling callback at\", now());\n",
       "        return null;\n",
       "      }\n",
       "      if (js_urls == null || js_urls.length === 0) {\n",
       "        run_callbacks();\n",
       "        return null;\n",
       "      }\n",
       "      console.log(\"Bokeh: BokehJS not loaded, scheduling load and callback at\", now());\n",
       "      window._bokeh_is_loading = js_urls.length;\n",
       "      for (var i = 0; i < js_urls.length; i++) {\n",
       "        var url = js_urls[i];\n",
       "        var s = document.createElement('script');\n",
       "        s.src = url;\n",
       "        s.async = false;\n",
       "        s.onreadystatechange = s.onload = function() {\n",
       "          window._bokeh_is_loading--;\n",
       "          if (window._bokeh_is_loading === 0) {\n",
       "            console.log(\"Bokeh: all BokehJS libraries loaded\");\n",
       "            run_callbacks()\n",
       "          }\n",
       "        };\n",
       "        s.onerror = function() {\n",
       "          console.warn(\"failed to load library \" + url);\n",
       "        };\n",
       "        console.log(\"Bokeh: injecting script tag for BokehJS library: \", url);\n",
       "        document.getElementsByTagName(\"head\")[0].appendChild(s);\n",
       "      }\n",
       "    };var element = document.getElementById(\"8c83ae2f-2edd-4a51-949d-2f71ff2da97d\");\n",
       "    if (element == null) {\n",
       "      console.log(\"Bokeh: ERROR: autoload.js configured with elementid '8c83ae2f-2edd-4a51-949d-2f71ff2da97d' but no matching script tag was found. \")\n",
       "      return false;\n",
       "    }\n",
       "  \n",
       "    var js_urls = [];\n",
       "  \n",
       "    var inline_js = [\n",
       "      function(Bokeh) {\n",
       "        Bokeh.$(function() {\n",
       "            var docs_json = {\"be73dfa2-2e6c-4b42-958e-559e8ec9aa95\":{\"roots\":{\"references\":[{\"attributes\":{\"formatter\":{\"id\":\"2ec8e5ec-8280-42f3-be46-dd3432e64945\",\"type\":\"BasicTickFormatter\"},\"plot\":{\"id\":\"2f49ce73-1fd5-46f6-85cb-2fa30f11ef84\",\"subtype\":\"Figure\",\"type\":\"Plot\"},\"ticker\":{\"id\":\"1ba552ef-9d62-4f62-a52c-dfc7bb8dd000\",\"type\":\"BasicTicker\"}},\"id\":\"a552dd4f-5139-4e2f-90ed-c1a22e450a7d\",\"type\":\"LinearAxis\"},{\"attributes\":{\"plot\":{\"id\":\"2f49ce73-1fd5-46f6-85cb-2fa30f11ef84\",\"subtype\":\"Figure\",\"type\":\"Plot\"},\"ticker\":{\"id\":\"1ba552ef-9d62-4f62-a52c-dfc7bb8dd000\",\"type\":\"BasicTicker\"}},\"id\":\"02dc8953-9df6-4e80-b767-1ca2d29441d8\",\"type\":\"Grid\"},{\"attributes\":{\"bottom\":{\"field\":\"bottom\"},\"fill_color\":{\"field\":\"fill_color\"},\"left\":{\"field\":\"left\"},\"line_color\":{\"value\":null},\"right\":{\"field\":\"right\"},\"top\":{\"field\":\"top\"}},\"id\":\"0c70c695-1ab6-4f67-8176-5ea0908c3a2c\",\"type\":\"Quad\"},{\"attributes\":{},\"id\":\"9576d20e-f4f3-4e71-b508-39508b2aee01\",\"type\":\"ToolEvents\"},{\"attributes\":{\"callback\":null,\"column_names\":[\"right\",\"bottom\",\"top\",\"left\",\"fill_color\"],\"data\":{\"bottom\":[950,850,150,250,550,450,50,650,350,450,650,550,450,150,250,850,750,150,250,650,750,850],\"fill_color\":[\"#808080\",\"#808080\",\"#ff0000\",\"#ff0000\",\"#ff0000\",\"#ff0000\",\"#ff0000\",\"#61c4c4\",\"#ff0000\",\"#ff0000\",\"#ff0000\",\"#ff0000\",\"#c46161\",\"#ff0000\",\"#ff0000\",\"#808080\",\"#808080\",\"#ff0000\",\"#ff0000\",\"#808080\",\"#808080\",\"#808080\"],\"left\":[135757320,135758231,135761470,135780924,135784351,135810535,135837488,135964764,136008173,136115507,136309239,136364916,136392700,136403061,136499188,136506375,136535876,136589701,136651969,136652491,136652953,136653925],\"right\":[135777504,136376515,136371080,136017139,135902220,135898023,136346675,136101132,136381251,136385280,136361560,136387893,136550806,136487844,136631424,136538939,136554890,136641268,136775985,136732772,136761175,136761853],\"top\":[996,896,169,274,588,486,65,691,376,484,690,587,476,168,271,894,794,169,272,692,794,895]}},\"id\":\"521fcd69-ecda-478c-a52a-220796578516\",\"type\":\"ColumnDataSource\"},{\"attributes\":{},\"id\":\"1ba552ef-9d62-4f62-a52c-dfc7bb8dd000\",\"type\":\"BasicTicker\"},{\"attributes\":{\"data_source\":{\"id\":\"cb22dece-d451-447b-a543-2206287e3f24\",\"type\":\"ColumnDataSource\"},\"glyph\":{\"id\":\"b6704a57-866c-4fde-a2d3-bb032249a63c\",\"type\":\"MultiLine\"},\"hover_glyph\":null,\"nonselection_glyph\":{\"id\":\"52f2ba6a-2fe7-4a7b-95eb-0a0c797a6fd4\",\"type\":\"MultiLine\"},\"selection_glyph\":null},\"id\":\"141b5e85-e565-4f06-8522-0d581ba45c69\",\"type\":\"GlyphRenderer\"},{\"attributes\":{\"formatter\":{\"id\":\"c0e17c46-001b-4d60-adf8-e7892891acb4\",\"type\":\"BasicTickFormatter\"},\"plot\":{\"id\":\"2f49ce73-1fd5-46f6-85cb-2fa30f11ef84\",\"subtype\":\"Figure\",\"type\":\"Plot\"},\"ticker\":{\"id\":\"4a7c9f06-81d9-426d-961b-63e217410342\",\"type\":\"BasicTicker\"},\"visible\":null},\"id\":\"9bd09ddc-38d4-4dce-96bd-c35cdfaa7643\",\"type\":\"LinearAxis\"},{\"attributes\":{\"callback\":null,\"end\":1100},\"id\":\"7ae60981-8eac-4712-a81e-16e443086308\",\"type\":\"Range1d\"},{\"attributes\":{\"data_source\":{\"id\":\"5d91ca91-04d9-4702-b1c4-9372ca3e7c77\",\"type\":\"ColumnDataSource\"},\"glyph\":{\"id\":\"44f6317e-5d78-499b-945a-d64055df9b2a\",\"type\":\"Quad\"},\"hover_glyph\":null,\"nonselection_glyph\":{\"id\":\"d2ded4f8-b88b-44b0-b4e1-e4365ea2f4bf\",\"type\":\"Quad\"},\"selection_glyph\":null},\"id\":\"0d7e526d-4e25-4aaf-9fcb-df83ad6225b8\",\"type\":\"GlyphRenderer\"},{\"attributes\":{\"callback\":null,\"column_names\":[\"y\",\"x\",\"vals\"],\"data\":{\"vals\":[\"RAB3GAP1\",\"ZRANB3\",\"R3HDM1\",\"UBXN4\",\"LCT\",\"MCM6\",\"DARS\"],\"x\":[135869057.0,136122878.0,136385961.0,136520911.0,136570082.5,136615621.5,136703738.0],\"y\":[1060.0,1060.0,1060.0,1060.0,1060.0,1060.0,1060.0]}},\"id\":\"5fbd61c4-2b2e-4a83-b5d9-c16fd5987c69\",\"type\":\"ColumnDataSource\"},{\"attributes\":{\"callback\":null,\"end\":136786630,\"start\":135757320},\"id\":\"4a4d55c0-bdab-4740-b9c8-fec499bfe4de\",\"type\":\"Range1d\"},{\"attributes\":{\"bottom\":{\"field\":\"bottom\"},\"fill_alpha\":{\"value\":0.1},\"fill_color\":{\"value\":\"#1f77b4\"},\"left\":{\"field\":\"left\"},\"line_alpha\":{\"value\":0.1},\"line_color\":{\"value\":\"#1f77b4\"},\"right\":{\"field\":\"right\"},\"top\":{\"field\":\"top\"}},\"id\":\"d2ded4f8-b88b-44b0-b4e1-e4365ea2f4bf\",\"type\":\"Quad\"},{\"attributes\":{\"overlay\":{\"id\":\"fe342484-68b9-48a9-8124-07c7cdcac0b8\",\"type\":\"BoxAnnotation\"},\"plot\":{\"id\":\"2f49ce73-1fd5-46f6-85cb-2fa30f11ef84\",\"subtype\":\"Figure\",\"type\":\"Plot\"}},\"id\":\"4065e54b-9c0e-4ddc-812a-4a679223cef8\",\"type\":\"BoxZoomTool\"},{\"attributes\":{\"bottom_units\":\"screen\",\"fill_alpha\":{\"value\":0.5},\"fill_color\":{\"value\":\"lightgrey\"},\"left_units\":\"screen\",\"level\":\"overlay\",\"line_alpha\":{\"value\":1.0},\"line_color\":{\"value\":\"black\"},\"line_dash\":[4,4],\"line_width\":{\"value\":2},\"plot\":null,\"render_mode\":\"css\",\"right_units\":\"screen\",\"top_units\":\"screen\"},\"id\":\"fe342484-68b9-48a9-8124-07c7cdcac0b8\",\"type\":\"BoxAnnotation\"},{\"attributes\":{\"plot\":{\"id\":\"2f49ce73-1fd5-46f6-85cb-2fa30f11ef84\",\"subtype\":\"Figure\",\"type\":\"Plot\"}},\"id\":\"aa81c5eb-57d0-4e31-9f23-14a9f93b2dee\",\"type\":\"ResetTool\"},{\"attributes\":{\"level\":\"glyph\",\"plot\":{\"id\":\"2f49ce73-1fd5-46f6-85cb-2fa30f11ef84\",\"subtype\":\"Figure\",\"type\":\"Plot\"},\"source\":{\"id\":\"b36214cb-bc2c-4723-b992-adf2e3e4abf2\",\"type\":\"ColumnDataSource\"},\"text\":{\"field\":\"vals\"},\"text_font_size\":{\"value\":\"9pt\"},\"text_font_style\":\"bold\",\"x\":{\"field\":\"x\"},\"y\":{\"field\":\"y\"}},\"id\":\"34749a1c-5f5c-44ae-8231-58c03554700e\",\"type\":\"LabelSet\"},{\"attributes\":{\"callback\":null,\"column_names\":[\"xs\",\"ys\",\"line_color\"],\"data\":{\"line_color\":[\"black\",\"black\",\"black\",\"black\",\"black\",\"black\",\"black\",\"black\",\"black\",\"black\",\"black\",\"black\",\"black\",\"black\",\"black\",\"black\",\"black\",\"black\",\"black\",\"black\",\"black\",\"black\",\"black\",\"black\",\"black\",\"black\",\"black\",\"black\",\"black\",\"black\",\"black\",\"black\",\"black\",\"black\",\"black\",\"black\",\"black\",\"black\",\"black\",\"black\",\"black\",\"black\",\"black\",\"black\",\"black\",\"black\",\"black\",\"black\",\"black\",\"black\",\"black\",\"black\",\"black\",\"black\",\"black\",\"black\",\"black\",\"black\",\"black\",\"black\",\"black\",\"black\",\"black\",\"black\",\"black\",\"black\",\"black\",\"black\",\"black\",\"black\",\"black\",\"black\",\"black\",\"black\",\"black\",\"black\",\"black\",\"black\",\"black\",\"black\",\"black\",\"black\",\"black\",\"black\",\"black\",\"black\",\"black\",\"black\",\"black\",\"black\",\"black\",\"black\",\"black\",\"black\",\"black\",\"black\",\"black\",\"black\",\"black\",\"black\",\"black\",\"black\",\"black\",\"black\",\"black\",\"black\",\"black\",\"black\",\"black\",\"black\",\"black\",\"black\",\"black\",\"black\",\"black\",\"black\",\"black\",\"black\",\"black\",\"black\",\"black\",\"black\",\"black\",\"black\",\"black\",\"black\",\"black\",\"black\",\"black\",\"black\",\"black\",\"black\",\"black\",\"black\",\"black\",\"black\",\"black\",\"black\",\"black\",\"black\",\"black\",\"black\",\"black\",\"black\",\"black\",\"black\",\"black\",\"black\",\"black\",\"black\",\"black\",\"black\",\"black\",\"black\",\"black\",\"black\",\"black\",\"black\",\"black\",\"black\",\"black\",\"black\",\"black\",\"black\",\"black\",\"black\",\"black\",\"black\",\"black\",\"black\",\"black\",\"black\",\"black\",\"black\",\"black\",\"black\",\"black\",\"black\",\"black\",\"black\",\"black\",\"black\",\"black\",\"black\",\"black\",\"black\",\"black\",\"black\",\"black\",\"black\",\"black\",\"black\",\"black\",\"black\",\"black\",\"black\",\"black\",\"black\",\"black\",\"black\",\"black\",\"black\",\"black\",\"black\",\"black\",\"black\",\"black\",\"black\",\"black\",\"black\",\"black\",\"black\",\"black\",\"black\",\"black\",\"black\",\"black\",\"black\",\"black\",\"black\",\"black\",\"black\",\"black\",\"black\",\"black\",\"black\",\"black\",\"black\",\"black\",\"black\",\"black\",\"black\",\"black\",\"black\",\"black\",\"black\",\"black\",\"black\",\"black\",\"black\",\"black\",\"black\",\"black\",\"black\",\"black\",\"black\",\"black\",\"black\",\"black\",\"black\",\"black\",\"black\",\"black\",\"black\",\"black\",\"black\",\"black\",\"black\",\"black\",\"black\",\"black\",\"black\",\"black\",\"black\",\"black\",\"black\",\"black\",\"black\",\"black\",\"black\",\"black\",\"black\",\"black\",\"black\",\"black\",\"black\",\"black\",\"black\",\"black\",\"black\",\"black\",\"black\",\"black\",\"black\",\"black\",\"black\",\"black\",\"black\",\"black\",\"black\",\"black\",\"black\",\"black\",\"black\",\"black\",\"black\",\"black\",\"black\",\"black\",\"black\",\"black\",\"black\",\"black\",\"black\",\"black\",\"black\",\"black\",\"black\",\"black\",\"black\",\"black\",\"black\",\"black\",\"black\",\"black\",\"black\",\"black\",\"black\",\"black\",\"black\",\"black\",\"black\",\"black\",\"black\",\"black\",\"black\",\"black\",\"black\",\"black\",\"black\",\"black\",\"black\",\"black\",\"black\",\"black\",\"black\",\"black\",\"black\",\"black\",\"black\",\"black\",\"black\",\"black\",\"black\",\"black\",\"black\",\"black\",\"black\",\"black\",\"black\",\"black\",\"black\",\"black\",\"black\",\"black\",\"black\",\"black\",\"black\",\"black\",\"black\",\"black\",\"black\",\"black\",\"black\",\"black\",\"black\",\"black\",\"black\",\"black\",\"black\",\"black\",\"black\",\"black\",\"black\",\"black\",\"black\",\"black\",\"black\",\"black\",\"black\",\"black\",\"black\",\"black\",\"black\",\"black\",\"black\",\"black\",\"black\",\"black\",\"black\",\"black\",\"black\",\"black\",\"black\",\"black\",\"black\",\"black\",\"black\",\"black\",\"black\",\"black\",\"black\",\"black\",\"black\",\"black\",\"black\",\"black\",\"black\",\"black\",\"black\",\"black\",\"black\",\"black\",\"black\",\"black\",\"black\",\"black\",\"black\",\"black\",\"black\",\"black\",\"black\",\"black\",\"black\",\"black\",\"black\",\"black\",\"black\",\"black\",\"black\",\"black\",\"black\",\"black\",\"black\",\"black\",\"black\",\"black\",\"black\",\"black\",\"black\",\"black\",\"black\",\"black\",\"black\",\"black\",\"black\",\"black\",\"black\",\"black\",\"black\",\"black\",\"black\",\"black\",\"black\",\"black\",\"black\",\"black\",\"black\",\"black\",\"black\",\"black\",\"black\",\"black\",\"black\",\"black\",\"black\",\"black\",\"black\",\"black\",\"black\",\"black\",\"black\",\"black\",\"black\",\"black\",\"black\",\"black\",\"black\",\"black\",\"black\",\"black\",\"black\",\"black\",\"black\",\"black\",\"black\",\"black\",\"black\",\"black\",\"black\",\"black\",\"black\",\"black\",\"black\",\"black\",\"black\",\"black\",\"black\",\"black\",\"black\",\"black\",\"black\"],\"xs\":[[135757320,135757320],[135761078,135761078],[135761271,135761271],[135762344,135762344],[135762980,135762980],[135763280,135763280],[135768815,135768815],[135769093,135769093],[135769127,135769127],[135770940,135770940],[135770951,135770951],[135776728,135776728],[135777504,135777504],[135758231,135758231],[135758520,135758520],[135766072,135766072],[135773420,135773420],[135773446,135773446],[135773617,135773617],[135773692,135773692],[135774681,135774681],[135775049,135775049],[135776430,135776430],[135778656,135778656],[135780168,135780168],[135780587,135780587],[135781301,135781301],[135781522,135781522],[135781635,135781635],[135782456,135782456],[135783157,135783157],[135783366,135783366],[135783367,135783367],[135784227,135784227],[135784733,135784733],[135785066,135785066],[135785068,135785068],[135785149,135785149],[135787148,135787148],[135787642,135787642],[135789405,135789405],[135789472,135789472],[135789682,135789682],[135789784,135789784],[135792338,135792338],[135792528,135792528],[135793565,135793565],[135793684,135793684],[135793845,135793845],[135794367,135794367],[135794986,135794986],[135795040,135795040],[135795095,135795095],[135795150,135795150],[135795385,135795385],[135795396,135795396],[135795443,135795443],[135795595,135795595],[135796000,135796000],[135796155,135796155],[135796410,135796410],[135796965,135796965],[135797223,135797223],[135797747,135797747],[135798082,135798082],[135798758,135798758],[135799082,135799082],[135800085,135800085],[135800601,135800601],[135800757,135800757],[135801228,135801228],[135801956,135801956],[135802020,135802020],[135802028,135802028],[135802050,135802050],[135802148,135802148],[135803766,135803766],[135809241,135809241],[135812969,135812969],[135814716,135814716],[135818907,135818907],[135829432,135829432],[135832131,135832131],[135849613,135849613],[135853807,135853807],[135859923,135859923],[135860305,135860305],[135861497,135861497],[135863143,135863143],[135864294,135864294],[135871624,135871624],[135872646,135872646],[135874038,135874038],[135874622,135874622],[135878814,135878814],[135880013,135880013],[135884487,135884487],[135885357,135885357],[135893853,135893853],[135895809,135895809],[135895879,135895879],[135899069,135899069],[135909462,135909462],[135912977,135912977],[135914038,135914038],[135921839,135921839],[135925002,135925002],[135928312,135928312],[135935049,135935049],[135962711,135962711],[135984172,135984172],[135994753,135994753],[135994754,135994754],[136016079,136016079],[136027264,136027264],[136052004,136052004],[136100473,136100473],[136110129,136110129],[136166536,136166536],[136169799,136169799],[136191314,136191314],[136228887,136228887],[136238453,136238453],[136288273,136288273],[136292425,136292425],[136321951,136321951],[136324564,136324564],[136327299,136327299],[136327302,136327302],[136376515,136376515],[135761470,135761470],[135766160,135766160],[135775474,135775474],[135775547,135775547],[135954337,135954337],[135971171,135971171],[136035016,136035016],[136106795,136106795],[136139229,136139229],[136140930,136140930],[136143414,136143414],[136160220,136160220],[136164187,136164187],[136164304,136164304],[136177628,136177628],[136213160,136213160],[136229089,136229089],[136229185,136229185],[136268862,136268862],[136308277,136308277],[136344372,136344372],[136371080,136371080],[135780924,135780924],[135783872,135783872],[135784174,135784174],[135784652,135784652],[135787686,135787686],[135788712,135788712],[135794686,135794686],[135815035,135815035],[135815806,135815806],[135816299,135816299],[135817965,135817965],[135819405,135819405],[135820455,135820455],[135822556,135822556],[135830362,135830362],[135838113,135838113],[135843398,135843398],[135845084,135845084],[135850778,135850778],[135853281,135853281],[135858199,135858199],[135859428,135859428],[135867144,135867144],[135867538,135867538],[135874606,135874606],[135880487,135880487],[135882089,135882089],[135883468,135883468],[135892685,135892685],[135894666,135894666],[135894837,135894837],[135894879,135894879],[135896985,135896985],[135904659,135904659],[135908007,135908007],[135910415,135910415],[135917924,135917924],[135926486,135926486],[135942475,135942475],[135955537,135955537],[135964420,135964420],[135965002,135965002],[135981071,135981071],[135988224,135988224],[135991508,135991508],[135991714,135991714],[135997479,135997479],[136001913,136001913],[136017139,136017139],[135784351,135784351],[135829309,135829309],[135835508,135835508],[135861297,135861297],[135863459,135863459],[135873845,135873845],[135902172,135902172],[135902220,135902220],[135810535,135810535],[135817760,135817760],[135857538,135857538],[135862191,135862191],[135869380,135869380],[135869761,135869761],[135886486,135886486],[135888078,135888078],[135898023,135898023],[135837488,135837488],[135839857,135839857],[135895742,135895742],[135915568,135915568],[135959654,135959654],[136296989,136296989],[136346675,136346675],[135964764,135964764],[135964765,135964765],[136099127,136099127],[136099650,136099650],[136100705,136100705],[136101132,136101132],[136008173,136008173],[136008446,136008446],[136014236,136014236],[136036997,136036997],[136037702,136037702],[136040078,136040078],[136046601,136046601],[136048235,136048235],[136050624,136050624],[136051458,136051458],[136053800,136053800],[136069666,136069666],[136070320,136070320],[136071268,136071268],[136085307,136085307],[136107478,136107478],[136116965,136116965],[136119487,136119487],[136133726,136133726],[136136964,136136964],[136137013,136137013],[136141365,136141365],[136151898,136151898],[136153771,136153771],[136157319,136157319],[136157786,136157786],[136160634,136160634],[136161546,136161546],[136161613,136161613],[136163239,136163239],[136166288,136166288],[136171078,136171078],[136174848,136174848],[136177152,136177152],[136188784,136188784],[136191498,136191498],[136192069,136192069],[136192914,136192914],[136202038,136202038],[136206988,136206988],[136208169,136208169],[136211700,136211700],[136214800,136214800],[136223293,136223293],[136238330,136238330],[136242667,136242667],[136249834,136249834],[136255405,136255405],[136261219,136261219],[136264924,136264924],[136265494,136265494],[136267386,136267386],[136267415,136267415],[136277320,136277320],[136279720,136279720],[136279756,136279756],[136283113,136283113],[136299020,136299020],[136304442,136304442],[136308679,136308679],[136319192,136319192],[136324543,136324543],[136330131,136330131],[136347919,136347919],[136353065,136353065],[136360339,136360339],[136370954,136370954],[136371399,136371399],[136376994,136376994],[136381251,136381251],[136115507,136115507],[136133627,136133627],[136135820,136135820],[136145676,136145676],[136166014,136166014],[136173684,136173684],[136176031,136176031],[136214307,136214307],[136215590,136215590],[136219265,136219265],[136219831,136219831],[136289471,136289471],[136298739,136298739],[136302296,136302296],[136302897,136302897],[136348702,136348702],[136348964,136348964],[136358707,136358707],[136359608,136359608],[136360402,136360402],[136365624,136365624],[136366970,136366970],[136367871,136367871],[136368393,136368393],[136370701,136370701],[136378539,136378539],[136378895,136378895],[136385280,136385280],[136309239,136309239],[136322472,136322472],[136323787,136323787],[136323862,136323862],[136326765,136326765],[136329500,136329500],[136331657,136331657],[136345356,136345356],[136361560,136361560],[136364916,136364916],[136369497,136369497],[136369580,136369580],[136380846,136380846],[136387893,136387893],[136392700,136392700],[136400692,136400692],[136408881,136408881],[136409096,136409096],[136413099,136413099],[136413116,136413116],[136413618,136413618],[136417468,136417468],[136421589,136421589],[136425362,136425362],[136430479,136430479],[136439871,136439871],[136442318,136442318],[136444284,136444284],[136444985,136444985],[136445838,136445838],[136446249,136446249],[136447867,136447867],[136449090,136449090],[136449671,136449671],[136451724,136451724],[136452322,136452322],[136459565,136459565],[136460977,136460977],[136462831,136462831],[136464615,136464615],[136464818,136464818],[136464885,136464885],[136465856,136465856],[136467164,136467164],[136483721,136483721],[136485246,136485246],[136485657,136485657],[136493550,136493550],[136500338,136500338],[136500597,136500597],[136502199,136502199],[136506995,136506995],[136507804,136507804],[136509222,136509222],[136510091,136510091],[136512545,136512545],[136517471,136517471],[136522377,136522377],[136523696,136523696],[136523874,136523874],[136526324,136526324],[136528006,136528006],[136529000,136529000],[136533161,136533161],[136539413,136539413],[136548116,136548116],[136548169,136548169],[136548192,136548192],[136550806,136550806],[136403061,136403061],[136426893,136426893],[136451328,136451328],[136487844,136487844],[136499188,136499188],[136509186,136509186],[136559598,136559598],[136562813,136562813],[136565028,136565028],[136567633,136567633],[136573415,136573415],[136575534,136575534],[136577844,136577844],[136578703,136578703],[136578866,136578866],[136581354,136581354],[136586585,136586585],[136588968,136588968],[136589082,136589082],[136589514,136589514],[136606360,136606360],[136606741,136606741],[136607870,136607870],[136607871,136607871],[136608466,136608466],[136622825,136622825],[136626986,136626986],[136629325,136629325],[136629993,136629993],[136631424,136631424],[136506375,136506375],[136506927,136506927],[136510012,136510012],[136538939,136538939],[136535876,136535876],[136544651,136544651],[136545844,136545844],[136552526,136552526],[136553022,136553022],[136554797,136554797],[136554890,136554890],[136589701,136589701],[136593535,136593535],[136606413,136606413],[136641268,136641268],[136651969,136651969],[136652131,136652131],[136654256,136654256],[136654345,136654345],[136666824,136666824],[136671138,136671138],[136711512,136711512],[136720021,136720021],[136720176,136720176],[136721793,136721793],[136722148,136722148],[136722710,136722710],[136726393,136726393],[136731643,136731643],[136733117,136733117],[136734614,136734614],[136737647,136737647],[136740031,136740031],[136757003,136757003],[136762512,136762512],[136765924,136765924],[136766523,136766523],[136768607,136768607],[136775985,136775985],[136652491,136652491],[136652524,136652524],[136661150,136661150],[136669264,136669264],[136726567,136726567],[136732772,136732772],[136652953,136652953],[136655582,136655582],[136674028,136674028],[136684940,136684940],[136761175,136761175],[136653925,136653925],[136654833,136654833],[136656534,136656534],[136656536,136656536],[136657252,136657252],[136667301,136667301],[136667487,136667487],[136672775,136672775],[136680534,136680534],[136686393,136686393],[136688749,136688749],[136692553,136692553],[136697371,136697371],[136708787,136708787],[136710372,136710372],[136711064,136711064],[136715324,136715324],[136723504,136723504],[136737460,136737460],[136743143,136743143],[136746224,136746224],[136751842,136751842],[136759379,136759379],[136761853,136761853]],\"ys\":[[950,996],[950,996],[950,996],[950,996],[950,996],[950,996],[950,996],[950,996],[950,996],[950,996],[950,996],[950,996],[950,996],[850,896],[850,896],[850,896],[850,896],[850,896],[850,896],[850,896],[850,896],[850,896],[850,896],[850,896],[850,896],[850,896],[850,896],[850,896],[850,896],[850,896],[850,896],[850,896],[850,896],[850,896],[850,896],[850,896],[850,896],[850,896],[850,896],[850,896],[850,896],[850,896],[850,896],[850,896],[850,896],[850,896],[850,896],[850,896],[850,896],[850,896],[850,896],[850,896],[850,896],[850,896],[850,896],[850,896],[850,896],[850,896],[850,896],[850,896],[850,896],[850,896],[850,896],[850,896],[850,896],[850,896],[850,896],[850,896],[850,896],[850,896],[850,896],[850,896],[850,896],[850,896],[850,896],[850,896],[850,896],[850,896],[850,896],[850,896],[850,896],[850,896],[850,896],[850,896],[850,896],[850,896],[850,896],[850,896],[850,896],[850,896],[850,896],[850,896],[850,896],[850,896],[850,896],[850,896],[850,896],[850,896],[850,896],[850,896],[850,896],[850,896],[850,896],[850,896],[850,896],[850,896],[850,896],[850,896],[850,896],[850,896],[850,896],[850,896],[850,896],[850,896],[850,896],[850,896],[850,896],[850,896],[850,896],[850,896],[850,896],[850,896],[850,896],[850,896],[850,896],[850,896],[850,896],[850,896],[850,896],[850,896],[150,169],[150,169],[150,169],[150,169],[150,169],[150,169],[150,169],[150,169],[150,169],[150,169],[150,169],[150,169],[150,169],[150,169],[150,169],[150,169],[150,169],[150,169],[150,169],[150,169],[150,169],[150,169],[250,274],[250,274],[250,274],[250,274],[250,274],[250,274],[250,274],[250,274],[250,274],[250,274],[250,274],[250,274],[250,274],[250,274],[250,274],[250,274],[250,274],[250,274],[250,274],[250,274],[250,274],[250,274],[250,274],[250,274],[250,274],[250,274],[250,274],[250,274],[250,274],[250,274],[250,274],[250,274],[250,274],[250,274],[250,274],[250,274],[250,274],[250,274],[250,274],[250,274],[250,274],[250,274],[250,274],[250,274],[250,274],[250,274],[250,274],[250,274],[250,274],[550,588],[550,588],[550,588],[550,588],[550,588],[550,588],[550,588],[550,588],[450,486],[450,486],[450,486],[450,486],[450,486],[450,486],[450,486],[450,486],[450,486],[50,65],[50,65],[50,65],[50,65],[50,65],[50,65],[50,65],[650,691],[650,691],[650,691],[650,691],[650,691],[650,691],[350,376],[350,376],[350,376],[350,376],[350,376],[350,376],[350,376],[350,376],[350,376],[350,376],[350,376],[350,376],[350,376],[350,376],[350,376],[350,376],[350,376],[350,376],[350,376],[350,376],[350,376],[350,376],[350,376],[350,376],[350,376],[350,376],[350,376],[350,376],[350,376],[350,376],[350,376],[350,376],[350,376],[350,376],[350,376],[350,376],[350,376],[350,376],[350,376],[350,376],[350,376],[350,376],[350,376],[350,376],[350,376],[350,376],[350,376],[350,376],[350,376],[350,376],[350,376],[350,376],[350,376],[350,376],[350,376],[350,376],[350,376],[350,376],[350,376],[350,376],[350,376],[350,376],[350,376],[350,376],[350,376],[350,376],[350,376],[350,376],[350,376],[350,376],[450,484],[450,484],[450,484],[450,484],[450,484],[450,484],[450,484],[450,484],[450,484],[450,484],[450,484],[450,484],[450,484],[450,484],[450,484],[450,484],[450,484],[450,484],[450,484],[450,484],[450,484],[450,484],[450,484],[450,484],[450,484],[450,484],[450,484],[450,484],[650,690],[650,690],[650,690],[650,690],[650,690],[650,690],[650,690],[650,690],[650,690],[550,587],[550,587],[550,587],[550,587],[550,587],[450,476],[450,476],[450,476],[450,476],[450,476],[450,476],[450,476],[450,476],[450,476],[450,476],[450,476],[450,476],[450,476],[450,476],[450,476],[450,476],[450,476],[450,476],[450,476],[450,476],[450,476],[450,476],[450,476],[450,476],[450,476],[450,476],[450,476],[450,476],[450,476],[450,476],[450,476],[450,476],[450,476],[450,476],[450,476],[450,476],[450,476],[450,476],[450,476],[450,476],[450,476],[450,476],[450,476],[450,476],[450,476],[450,476],[450,476],[450,476],[450,476],[450,476],[450,476],[450,476],[450,476],[450,476],[450,476],[150,168],[150,168],[150,168],[150,168],[250,271],[250,271],[250,271],[250,271],[250,271],[250,271],[250,271],[250,271],[250,271],[250,271],[250,271],[250,271],[250,271],[250,271],[250,271],[250,271],[250,271],[250,271],[250,271],[250,271],[250,271],[250,271],[250,271],[250,271],[250,271],[250,271],[850,894],[850,894],[850,894],[850,894],[750,794],[750,794],[750,794],[750,794],[750,794],[750,794],[750,794],[150,169],[150,169],[150,169],[150,169],[250,272],[250,272],[250,272],[250,272],[250,272],[250,272],[250,272],[250,272],[250,272],[250,272],[250,272],[250,272],[250,272],[250,272],[250,272],[250,272],[250,272],[250,272],[250,272],[250,272],[250,272],[250,272],[250,272],[250,272],[650,692],[650,692],[650,692],[650,692],[650,692],[650,692],[750,794],[750,794],[750,794],[750,794],[750,794],[850,895],[850,895],[850,895],[850,895],[850,895],[850,895],[850,895],[850,895],[850,895],[850,895],[850,895],[850,895],[850,895],[850,895],[850,895],[850,895],[850,895],[850,895],[850,895],[850,895],[850,895],[850,895],[850,895],[850,895]]}},\"id\":\"cb22dece-d451-447b-a543-2206287e3f24\",\"type\":\"ColumnDataSource\"},{\"attributes\":{\"plot\":{\"id\":\"2f49ce73-1fd5-46f6-85cb-2fa30f11ef84\",\"subtype\":\"Figure\",\"type\":\"Plot\"}},\"id\":\"670c4e8f-6439-4cd4-a6bc-f6d25eac490f\",\"type\":\"SaveTool\"},{\"attributes\":{\"line_alpha\":{\"value\":0.1},\"line_color\":{\"value\":\"#1f77b4\"},\"xs\":{\"field\":\"xs\"},\"ys\":{\"field\":\"ys\"}},\"id\":\"52f2ba6a-2fe7-4a7b-95eb-0a0c797a6fd4\",\"type\":\"MultiLine\"},{\"attributes\":{\"active_drag\":\"auto\",\"active_scroll\":\"auto\",\"active_tap\":\"auto\",\"tools\":[{\"id\":\"3f399747-f836-4687-972c-b1a047905fef\",\"type\":\"PanTool\"},{\"id\":\"79a8e2b2-37e5-405b-bb0b-46d8db9cfcf5\",\"type\":\"WheelZoomTool\"},{\"id\":\"4065e54b-9c0e-4ddc-812a-4a679223cef8\",\"type\":\"BoxZoomTool\"},{\"id\":\"670c4e8f-6439-4cd4-a6bc-f6d25eac490f\",\"type\":\"SaveTool\"},{\"id\":\"aa81c5eb-57d0-4e31-9f23-14a9f93b2dee\",\"type\":\"ResetTool\"},{\"id\":\"32e11938-fcc8-43b6-9695-aeda14bf5255\",\"type\":\"HelpTool\"}]},\"id\":\"dcec8d60-3fcb-451a-a886-39524a1a4efa\",\"type\":\"Toolbar\"},{\"attributes\":{\"plot\":{\"id\":\"2f49ce73-1fd5-46f6-85cb-2fa30f11ef84\",\"subtype\":\"Figure\",\"type\":\"Plot\"}},\"id\":\"32e11938-fcc8-43b6-9695-aeda14bf5255\",\"type\":\"HelpTool\"},{\"attributes\":{\"callback\":null,\"column_names\":[\"y\",\"x\",\"vals\"],\"data\":{\"vals\":[\"13_1696\",\"117_1685\",\"22_73\",\"49_136\",\"8_718\",\"9_545\",\"7_49\",\"6_946\",\"70_166\",\"28_434\",\"9_887\",\"5_588\",\"55_180\",\"4_67\",\"26_96\",\"4_1442\",\"7_1303\",\"4_80\",\"24_113\",\"6_1114\",\"5_1296\",\"24_1504\"],\"x\":[135757320,135758231,135761470,135780924,135784351,135810535,135837488,135964764,136008173,136115507,136309239,136364916,136392700,136403061,136499188,136506375,136535876,136589701,136651969,136652491,136652953,136653925],\"y\":[1001.0,901.0,174.0,279.0,593.0,491.0,70.0,696.0,381.0,489.0,695.0,592.0,481.0,173.0,276.0,899.0,799.0,174.0,277.0,697.0,799.0,900.0]}},\"id\":\"b36214cb-bc2c-4723-b992-adf2e3e4abf2\",\"type\":\"ColumnDataSource\"},{\"attributes\":{\"plot\":{\"id\":\"2f49ce73-1fd5-46f6-85cb-2fa30f11ef84\",\"subtype\":\"Figure\",\"type\":\"Plot\"}},\"id\":\"3f399747-f836-4687-972c-b1a047905fef\",\"type\":\"PanTool\"},{\"attributes\":{},\"id\":\"4a7c9f06-81d9-426d-961b-63e217410342\",\"type\":\"BasicTicker\"},{\"attributes\":{\"plot\":{\"id\":\"2f49ce73-1fd5-46f6-85cb-2fa30f11ef84\",\"subtype\":\"Figure\",\"type\":\"Plot\"}},\"id\":\"79a8e2b2-37e5-405b-bb0b-46d8db9cfcf5\",\"type\":\"WheelZoomTool\"},{\"attributes\":{\"callback\":null,\"column_names\":[\"right\",\"bottom\",\"top\",\"left\"],\"data\":{\"bottom\":[1045,1045,1045,1045,1045,1045,1045],\"left\":[135809835,135957574,136289083,136499189,136545415,136597196,136664254],\"right\":[135928279,136288182,136482839,136542633,136594750,136634047,136743222],\"top\":[1075,1075,1075,1075,1075,1075,1075]}},\"id\":\"5d91ca91-04d9-4702-b1c4-9372ca3e7c77\",\"type\":\"ColumnDataSource\"},{\"attributes\":{},\"id\":\"2ec8e5ec-8280-42f3-be46-dd3432e64945\",\"type\":\"BasicTickFormatter\"},{\"attributes\":{\"below\":[{\"id\":\"a552dd4f-5139-4e2f-90ed-c1a22e450a7d\",\"type\":\"LinearAxis\"}],\"left\":[{\"id\":\"9bd09ddc-38d4-4dce-96bd-c35cdfaa7643\",\"type\":\"LinearAxis\"}],\"plot_height\":1100,\"plot_width\":900,\"renderers\":[{\"id\":\"a552dd4f-5139-4e2f-90ed-c1a22e450a7d\",\"type\":\"LinearAxis\"},{\"id\":\"02dc8953-9df6-4e80-b767-1ca2d29441d8\",\"type\":\"Grid\"},{\"id\":\"9bd09ddc-38d4-4dce-96bd-c35cdfaa7643\",\"type\":\"LinearAxis\"},{\"id\":\"859daf23-f4bd-4df2-94c9-bc9afc2f7ade\",\"type\":\"Grid\"},{\"id\":\"fe342484-68b9-48a9-8124-07c7cdcac0b8\",\"type\":\"BoxAnnotation\"},{\"id\":\"146f466e-849f-4e27-8d45-c19357539938\",\"type\":\"GlyphRenderer\"},{\"id\":\"141b5e85-e565-4f06-8522-0d581ba45c69\",\"type\":\"GlyphRenderer\"},{\"id\":\"34749a1c-5f5c-44ae-8231-58c03554700e\",\"type\":\"LabelSet\"},{\"id\":\"0d7e526d-4e25-4aaf-9fcb-df83ad6225b8\",\"type\":\"GlyphRenderer\"},{\"id\":\"96841594-a543-43b6-bdaf-55b329cc6c5a\",\"type\":\"LabelSet\"}],\"title\":{\"id\":\"12c90a29-e8ea-41c2-9295-0327b4381526\",\"type\":\"Title\"},\"tool_events\":{\"id\":\"9576d20e-f4f3-4e71-b508-39508b2aee01\",\"type\":\"ToolEvents\"},\"toolbar\":{\"id\":\"dcec8d60-3fcb-451a-a886-39524a1a4efa\",\"type\":\"Toolbar\"},\"toolbar_location\":null,\"x_range\":{\"id\":\"4a4d55c0-bdab-4740-b9c8-fec499bfe4de\",\"type\":\"Range1d\"},\"y_range\":{\"id\":\"7ae60981-8eac-4712-a81e-16e443086308\",\"type\":\"Range1d\"}},\"id\":\"2f49ce73-1fd5-46f6-85cb-2fa30f11ef84\",\"subtype\":\"Figure\",\"type\":\"Plot\"},{\"attributes\":{\"plot\":null,\"text\":null},\"id\":\"12c90a29-e8ea-41c2-9295-0327b4381526\",\"type\":\"Title\"},{\"attributes\":{},\"id\":\"c0e17c46-001b-4d60-adf8-e7892891acb4\",\"type\":\"BasicTickFormatter\"},{\"attributes\":{\"bottom\":{\"field\":\"bottom\"},\"fill_color\":{\"value\":\"white\"},\"left\":{\"field\":\"left\"},\"right\":{\"field\":\"right\"},\"top\":{\"field\":\"top\"}},\"id\":\"44f6317e-5d78-499b-945a-d64055df9b2a\",\"type\":\"Quad\"},{\"attributes\":{\"bottom\":{\"field\":\"bottom\"},\"fill_alpha\":{\"value\":0.1},\"fill_color\":{\"value\":\"#1f77b4\"},\"left\":{\"field\":\"left\"},\"line_alpha\":{\"value\":0.1},\"line_color\":{\"value\":\"#1f77b4\"},\"right\":{\"field\":\"right\"},\"top\":{\"field\":\"top\"}},\"id\":\"c24e7e70-2158-4e54-98bc-999a30a7ce5f\",\"type\":\"Quad\"},{\"attributes\":{\"level\":\"glyph\",\"plot\":{\"id\":\"2f49ce73-1fd5-46f6-85cb-2fa30f11ef84\",\"subtype\":\"Figure\",\"type\":\"Plot\"},\"source\":{\"id\":\"5fbd61c4-2b2e-4a83-b5d9-c16fd5987c69\",\"type\":\"ColumnDataSource\"},\"text\":{\"field\":\"vals\"},\"text_align\":\"center\",\"text_baseline\":\"middle\",\"text_font_size\":{\"value\":\"8pt\"},\"x\":{\"field\":\"x\"},\"y\":{\"field\":\"y\"}},\"id\":\"96841594-a543-43b6-bdaf-55b329cc6c5a\",\"type\":\"LabelSet\"},{\"attributes\":{\"line_color\":{\"field\":\"line_color\"},\"xs\":{\"field\":\"xs\"},\"ys\":{\"field\":\"ys\"}},\"id\":\"b6704a57-866c-4fde-a2d3-bb032249a63c\",\"type\":\"MultiLine\"},{\"attributes\":{\"dimension\":1,\"plot\":{\"id\":\"2f49ce73-1fd5-46f6-85cb-2fa30f11ef84\",\"subtype\":\"Figure\",\"type\":\"Plot\"},\"ticker\":{\"id\":\"4a7c9f06-81d9-426d-961b-63e217410342\",\"type\":\"BasicTicker\"}},\"id\":\"859daf23-f4bd-4df2-94c9-bc9afc2f7ade\",\"type\":\"Grid\"},{\"attributes\":{\"data_source\":{\"id\":\"521fcd69-ecda-478c-a52a-220796578516\",\"type\":\"ColumnDataSource\"},\"glyph\":{\"id\":\"0c70c695-1ab6-4f67-8176-5ea0908c3a2c\",\"type\":\"Quad\"},\"hover_glyph\":null,\"nonselection_glyph\":{\"id\":\"c24e7e70-2158-4e54-98bc-999a30a7ce5f\",\"type\":\"Quad\"},\"selection_glyph\":null},\"id\":\"146f466e-849f-4e27-8d45-c19357539938\",\"type\":\"GlyphRenderer\"}],\"root_ids\":[\"2f49ce73-1fd5-46f6-85cb-2fa30f11ef84\"]},\"title\":\"Bokeh Application\",\"version\":\"0.12.0\"}};\n",
       "            var render_items = [{\"docid\":\"be73dfa2-2e6c-4b42-958e-559e8ec9aa95\",\"elementid\":\"8c83ae2f-2edd-4a51-949d-2f71ff2da97d\",\"modelid\":\"2f49ce73-1fd5-46f6-85cb-2fa30f11ef84\",\"notebook_comms_target\":\"4affea5e-a11c-460b-bf66-198232d55c6a\"}];\n",
       "            \n",
       "            Bokeh.embed.embed_items(docs_json, render_items);\n",
       "        });\n",
       "      },\n",
       "      function(Bokeh) {\n",
       "      }\n",
       "    ];\n",
       "  \n",
       "    function run_inline_js() {\n",
       "      for (var i = 0; i < inline_js.length; i++) {\n",
       "        inline_js[i](window.Bokeh);\n",
       "      }\n",
       "    }\n",
       "  \n",
       "    if (window._bokeh_is_loading === 0) {\n",
       "      console.log(\"Bokeh: BokehJS loaded, going straight to plotting\");\n",
       "      run_inline_js();\n",
       "    } else {\n",
       "      load_libs(js_urls, function() {\n",
       "        console.log(\"Bokeh: BokehJS plotting callback run at\", now());\n",
       "        run_inline_js();\n",
       "      });\n",
       "    }\n",
       "  }(this));\n",
       "</script>"
      ]
     },
     "metadata": {},
     "output_type": "display_data"
    },
    {
     "data": {
      "text/html": [
       "<p><code>&lt;Bokeh Notebook handle for <strong>In[5]</strong>&gt;</code></p>"
      ],
      "text/plain": [
       "<bokeh.io._CommsHandle at 0x7f3607857910>"
      ]
     },
     "execution_count": 5,
     "metadata": {},
     "output_type": "execute_result"
    }
   ],
   "source": [
    "plt_obj = dm.superset_yes_no([dm.di_49_136, dm.di_13_1696], min_match=0.5)\n",
    "plt = plt_obj.do_plot()\n",
    "show(plt)"
   ]
  },
  {
   "cell_type": "code",
   "execution_count": 6,
   "metadata": {
    "collapsed": false
   },
   "outputs": [
    {
     "data": {
      "text/html": [
       "<table>\n",
       "<thead><tr><th style=\"text-align:center\">index</th><th style=\"text-align:center\">first</th><th style=\"text-align:center\">length</th><th style=\"text-align:center\">snps</th><th style=\"text-align:center\" colspan=2>alleles</th><th style=\"text-align:center\" colspan=2>matches</th><th style=\"text-align:center\" colspan=2>afr</th><th style=\"text-align:center\" colspan=2>afx</th><th style=\"text-align:center\" colspan=2>amr</th><th style=\"text-align:center\" colspan=2>eas</th><th style=\"text-align:center\" colspan=2>eur</th><th style=\"text-align:center\" colspan=2>sas</th><th style=\"text-align:center\" colspan=2>sax</th></tr></thead>\n",
       "<tr class=\"even\"><td style=\"text-align: right;\">353240</td><td style=\"text-align: right;\">135,757,320</td><td style=\"text-align: right;\">20,184</td><td style=\"text-align: right;\">13</td><td style=\"text-align: right;\">1696</td><td style=\"text-align: right;\">0.04</td><td style=\"text-align: right;\">74</td><td style=\"text-align: right;\">1.00</td><td style=\"text-align: right;\">47</td><td style=\"text-align: right;\">3.16</td><td style=\"text-align: right;\">26</td><td style=\"text-align: right;\">5.60</td><td style=\"text-align: right;\">1</td><td style=\"text-align: right;\">0.10</td><td style=\"text-align: right;\">0</td><td style=\"text-align: right;\">0.00</td><td style=\"text-align: right;\">0</td><td style=\"text-align: right;\">0.00</td><td style=\"text-align: right;\">0</td><td style=\"text-align: right;\">0.00</td><td style=\"text-align: right;\">0</td><td style=\"text-align: right;\">0.00</td></tr>\n",
       "<tr><td style=\"text-align: right;\">353244</td><td style=\"text-align: right;\">135,758,231</td><td style=\"text-align: right;\">618,284</td><td style=\"text-align: right;\">117</td><td style=\"text-align: right;\">1685</td><td style=\"text-align: right;\">0.04</td><td style=\"text-align: right;\">74</td><td style=\"text-align: right;\">1.00</td><td style=\"text-align: right;\">47</td><td style=\"text-align: right;\">3.16</td><td style=\"text-align: right;\">26</td><td style=\"text-align: right;\">5.60</td><td style=\"text-align: right;\">1</td><td style=\"text-align: right;\">0.10</td><td style=\"text-align: right;\">0</td><td style=\"text-align: right;\">0.00</td><td style=\"text-align: right;\">0</td><td style=\"text-align: right;\">0.00</td><td style=\"text-align: right;\">0</td><td style=\"text-align: right;\">0.00</td><td style=\"text-align: right;\">0</td><td style=\"text-align: right;\">0.00</td></tr>\n",
       "<tr class=\"even\"><td style=\"text-align: right;\">354130</td><td style=\"text-align: right;\">136,653,925</td><td style=\"text-align: right;\">107,928</td><td style=\"text-align: right;\">24</td><td style=\"text-align: right;\">1504</td><td style=\"text-align: right;\">0.04</td><td style=\"text-align: right;\">64</td><td style=\"text-align: right;\">0.86</td><td style=\"text-align: right;\">41</td><td style=\"text-align: right;\">3.18</td><td style=\"text-align: right;\">22</td><td style=\"text-align: right;\">5.48</td><td style=\"text-align: right;\">1</td><td style=\"text-align: right;\">0.11</td><td style=\"text-align: right;\">0</td><td style=\"text-align: right;\">0.00</td><td style=\"text-align: right;\">0</td><td style=\"text-align: right;\">0.00</td><td style=\"text-align: right;\">0</td><td style=\"text-align: right;\">0.00</td><td style=\"text-align: right;\">0</td><td style=\"text-align: right;\">0.00</td></tr>\n",
       "<tr><td style=\"text-align: right;\">353925</td><td style=\"text-align: right;\">136,506,375</td><td style=\"text-align: right;\">32,564</td><td style=\"text-align: right;\">4</td><td style=\"text-align: right;\">1442</td><td style=\"text-align: right;\">0.05</td><td style=\"text-align: right;\">66</td><td style=\"text-align: right;\">0.89</td><td style=\"text-align: right;\">42</td><td style=\"text-align: right;\">3.16</td><td style=\"text-align: right;\">23</td><td style=\"text-align: right;\">5.56</td><td style=\"text-align: right;\">1</td><td style=\"text-align: right;\">0.11</td><td style=\"text-align: right;\">0</td><td style=\"text-align: right;\">0.00</td><td style=\"text-align: right;\">0</td><td style=\"text-align: right;\">0.00</td><td style=\"text-align: right;\">0</td><td style=\"text-align: right;\">0.00</td><td style=\"text-align: right;\">0</td><td style=\"text-align: right;\">0.00</td></tr>\n",
       "<tr class=\"even\"><td style=\"text-align: right;\">353958</td><td style=\"text-align: right;\">136,535,876</td><td style=\"text-align: right;\">19,014</td><td style=\"text-align: right;\">7</td><td style=\"text-align: right;\">1303</td><td style=\"text-align: right;\">0.05</td><td style=\"text-align: right;\">66</td><td style=\"text-align: right;\">0.89</td><td style=\"text-align: right;\">42</td><td style=\"text-align: right;\">3.16</td><td style=\"text-align: right;\">23</td><td style=\"text-align: right;\">5.56</td><td style=\"text-align: right;\">1</td><td style=\"text-align: right;\">0.11</td><td style=\"text-align: right;\">0</td><td style=\"text-align: right;\">0.00</td><td style=\"text-align: right;\">0</td><td style=\"text-align: right;\">0.00</td><td style=\"text-align: right;\">0</td><td style=\"text-align: right;\">0.00</td><td style=\"text-align: right;\">0</td><td style=\"text-align: right;\">0.00</td></tr>\n",
       "<tr><td style=\"text-align: right;\">354129</td><td style=\"text-align: right;\">136,652,953</td><td style=\"text-align: right;\">108,222</td><td style=\"text-align: right;\">5</td><td style=\"text-align: right;\">1296</td><td style=\"text-align: right;\">0.05</td><td style=\"text-align: right;\">64</td><td style=\"text-align: right;\">0.86</td><td style=\"text-align: right;\">41</td><td style=\"text-align: right;\">3.18</td><td style=\"text-align: right;\">22</td><td style=\"text-align: right;\">5.48</td><td style=\"text-align: right;\">1</td><td style=\"text-align: right;\">0.11</td><td style=\"text-align: right;\">0</td><td style=\"text-align: right;\">0.00</td><td style=\"text-align: right;\">0</td><td style=\"text-align: right;\">0.00</td><td style=\"text-align: right;\">0</td><td style=\"text-align: right;\">0.00</td><td style=\"text-align: right;\">0</td><td style=\"text-align: right;\">0.00</td></tr>\n",
       "<tr class=\"even\"><td style=\"text-align: right;\">354127</td><td style=\"text-align: right;\">136,652,491</td><td style=\"text-align: right;\">80,281</td><td style=\"text-align: right;\">6</td><td style=\"text-align: right;\">1114</td><td style=\"text-align: right;\">0.06</td><td style=\"text-align: right;\">64</td><td style=\"text-align: right;\">0.86</td><td style=\"text-align: right;\">41</td><td style=\"text-align: right;\">3.18</td><td style=\"text-align: right;\">22</td><td style=\"text-align: right;\">5.48</td><td style=\"text-align: right;\">1</td><td style=\"text-align: right;\">0.11</td><td style=\"text-align: right;\">0</td><td style=\"text-align: right;\">0.00</td><td style=\"text-align: right;\">0</td><td style=\"text-align: right;\">0.00</td><td style=\"text-align: right;\">0</td><td style=\"text-align: right;\">0.00</td><td style=\"text-align: right;\">0</td><td style=\"text-align: right;\">0.00</td></tr>\n",
       "<tr><td style=\"text-align: right;\">353504</td><td style=\"text-align: right;\">135,964,764</td><td style=\"text-align: right;\">136,368</td><td style=\"text-align: right;\">6</td><td style=\"text-align: right;\">946</td><td style=\"text-align: right;\">0.07</td><td style=\"text-align: right;\">62</td><td style=\"text-align: right;\">0.84</td><td style=\"text-align: right;\">37</td><td style=\"text-align: right;\">2.96</td><td style=\"text-align: right;\">24</td><td style=\"text-align: right;\">6.17</td><td style=\"text-align: right;\">1</td><td style=\"text-align: right;\">0.12</td><td style=\"text-align: right;\">0</td><td style=\"text-align: right;\">0.00</td><td style=\"text-align: right;\">0</td><td style=\"text-align: right;\">0.00</td><td style=\"text-align: right;\">0</td><td style=\"text-align: right;\">0.00</td><td style=\"text-align: right;\">0</td><td style=\"text-align: right;\">0.00</td></tr>\n",
       "<tr class=\"even\"><td style=\"text-align: right;\">353729</td><td style=\"text-align: right;\">136,309,239</td><td style=\"text-align: right;\">52,321</td><td style=\"text-align: right;\">9</td><td style=\"text-align: right;\">887</td><td style=\"text-align: right;\">0.08</td><td style=\"text-align: right;\">74</td><td style=\"text-align: right;\">1.00</td><td style=\"text-align: right;\">47</td><td style=\"text-align: right;\">3.16</td><td style=\"text-align: right;\">26</td><td style=\"text-align: right;\">5.60</td><td style=\"text-align: right;\">1</td><td style=\"text-align: right;\">0.10</td><td style=\"text-align: right;\">0</td><td style=\"text-align: right;\">0.00</td><td style=\"text-align: right;\">0</td><td style=\"text-align: right;\">0.00</td><td style=\"text-align: right;\">0</td><td style=\"text-align: right;\">0.00</td><td style=\"text-align: right;\">0</td><td style=\"text-align: right;\">0.00</td></tr>\n",
       "<tr><td style=\"text-align: right;\">353312</td><td style=\"text-align: right;\">135,784,351</td><td style=\"text-align: right;\">117,869</td><td style=\"text-align: right;\">8</td><td style=\"text-align: right;\">718</td><td style=\"text-align: right;\">0.10</td><td style=\"text-align: right;\">74</td><td style=\"text-align: right;\">1.00</td><td style=\"text-align: right;\">47</td><td style=\"text-align: right;\">3.16</td><td style=\"text-align: right;\">26</td><td style=\"text-align: right;\">5.60</td><td style=\"text-align: right;\">1</td><td style=\"text-align: right;\">0.10</td><td style=\"text-align: right;\">0</td><td style=\"text-align: right;\">0.00</td><td style=\"text-align: right;\">0</td><td style=\"text-align: right;\">0.00</td><td style=\"text-align: right;\">0</td><td style=\"text-align: right;\">0.00</td><td style=\"text-align: right;\">0</td><td style=\"text-align: right;\">0.00</td></tr>\n",
       "<tr class=\"even\"><td style=\"text-align: right;\">353764</td><td style=\"text-align: right;\">136,364,916</td><td style=\"text-align: right;\">22,977</td><td style=\"text-align: right;\">5</td><td style=\"text-align: right;\">588</td><td style=\"text-align: right;\">0.12</td><td style=\"text-align: right;\">71</td><td style=\"text-align: right;\">0.96</td><td style=\"text-align: right;\">45</td><td style=\"text-align: right;\">3.15</td><td style=\"text-align: right;\">25</td><td style=\"text-align: right;\">5.62</td><td style=\"text-align: right;\">1</td><td style=\"text-align: right;\">0.10</td><td style=\"text-align: right;\">0</td><td style=\"text-align: right;\">0.00</td><td style=\"text-align: right;\">0</td><td style=\"text-align: right;\">0.00</td><td style=\"text-align: right;\">0</td><td style=\"text-align: right;\">0.00</td><td style=\"text-align: right;\">0</td><td style=\"text-align: right;\">0.00</td></tr>\n",
       "<tr><td style=\"text-align: right;\">353349</td><td style=\"text-align: right;\">135,810,535</td><td style=\"text-align: right;\">87,488</td><td style=\"text-align: right;\">9</td><td style=\"text-align: right;\">545</td><td style=\"text-align: right;\">0.14</td><td style=\"text-align: right;\">74</td><td style=\"text-align: right;\">1.00</td><td style=\"text-align: right;\">47</td><td style=\"text-align: right;\">3.16</td><td style=\"text-align: right;\">26</td><td style=\"text-align: right;\">5.60</td><td style=\"text-align: right;\">1</td><td style=\"text-align: right;\">0.10</td><td style=\"text-align: right;\">0</td><td style=\"text-align: right;\">0.00</td><td style=\"text-align: right;\">0</td><td style=\"text-align: right;\">0.00</td><td style=\"text-align: right;\">0</td><td style=\"text-align: right;\">0.00</td><td style=\"text-align: right;\">0</td><td style=\"text-align: right;\">0.00</td></tr>\n",
       "<tr class=\"even\"><td style=\"text-align: right;\">353614</td><td style=\"text-align: right;\">136,115,507</td><td style=\"text-align: right;\">269,773</td><td style=\"text-align: right;\">28</td><td style=\"text-align: right;\">434</td><td style=\"text-align: right;\">0.17</td><td style=\"text-align: right;\">74</td><td style=\"text-align: right;\">1.00</td><td style=\"text-align: right;\">47</td><td style=\"text-align: right;\">3.16</td><td style=\"text-align: right;\">26</td><td style=\"text-align: right;\">5.60</td><td style=\"text-align: right;\">1</td><td style=\"text-align: right;\">0.10</td><td style=\"text-align: right;\">0</td><td style=\"text-align: right;\">0.00</td><td style=\"text-align: right;\">0</td><td style=\"text-align: right;\">0.00</td><td style=\"text-align: right;\">0</td><td style=\"text-align: right;\">0.00</td><td style=\"text-align: right;\">0</td><td style=\"text-align: right;\">0.00</td></tr>\n",
       "<tr><td style=\"text-align: right;\">353788</td><td style=\"text-align: right;\">136,392,700</td><td style=\"text-align: right;\">158,106</td><td style=\"text-align: right;\">55</td><td style=\"text-align: right;\">180</td><td style=\"text-align: right;\">0.34</td><td style=\"text-align: right;\">62</td><td style=\"text-align: right;\">0.84</td><td style=\"text-align: right;\">38</td><td style=\"text-align: right;\">3.05</td><td style=\"text-align: right;\">23</td><td style=\"text-align: right;\">5.92</td><td style=\"text-align: right;\">1</td><td style=\"text-align: right;\">0.12</td><td style=\"text-align: right;\">0</td><td style=\"text-align: right;\">0.00</td><td style=\"text-align: right;\">0</td><td style=\"text-align: right;\">0.00</td><td style=\"text-align: right;\">0</td><td style=\"text-align: right;\">0.00</td><td style=\"text-align: right;\">0</td><td style=\"text-align: right;\">0.00</td></tr>\n",
       "<tr class=\"even\"><td style=\"text-align: right;\">353538</td><td style=\"text-align: right;\">136,008,173</td><td style=\"text-align: right;\">373,078</td><td style=\"text-align: right;\">70</td><td style=\"text-align: right;\">166</td><td style=\"text-align: right;\">0.45</td><td style=\"text-align: right;\">74</td><td style=\"text-align: right;\">1.00</td><td style=\"text-align: right;\">47</td><td style=\"text-align: right;\">3.16</td><td style=\"text-align: right;\">26</td><td style=\"text-align: right;\">5.60</td><td style=\"text-align: right;\">1</td><td style=\"text-align: right;\">0.10</td><td style=\"text-align: right;\">0</td><td style=\"text-align: right;\">0.00</td><td style=\"text-align: right;\">0</td><td style=\"text-align: right;\">0.00</td><td style=\"text-align: right;\">0</td><td style=\"text-align: right;\">0.00</td><td style=\"text-align: right;\">0</td><td style=\"text-align: right;\">0.00</td></tr>\n",
       "<tr><td style=\"text-align: right;\">353304</td><td style=\"text-align: right;\">135,780,924</td><td style=\"text-align: right;\">236,215</td><td style=\"text-align: right;\">49</td><td style=\"text-align: right;\">136</td><td style=\"text-align: right;\">0.54</td><td style=\"text-align: right;\">74</td><td style=\"text-align: right;\">1.00</td><td style=\"text-align: right;\">47</td><td style=\"text-align: right;\">3.16</td><td style=\"text-align: right;\">26</td><td style=\"text-align: right;\">5.60</td><td style=\"text-align: right;\">1</td><td style=\"text-align: right;\">0.10</td><td style=\"text-align: right;\">0</td><td style=\"text-align: right;\">0.00</td><td style=\"text-align: right;\">0</td><td style=\"text-align: right;\">0.00</td><td style=\"text-align: right;\">0</td><td style=\"text-align: right;\">0.00</td><td style=\"text-align: right;\">0</td><td style=\"text-align: right;\">0.00</td></tr>\n",
       "<tr class=\"even\"><td style=\"text-align: right;\">354125</td><td style=\"text-align: right;\">136,651,969</td><td style=\"text-align: right;\">124,016</td><td style=\"text-align: right;\">24</td><td style=\"text-align: right;\">113</td><td style=\"text-align: right;\">0.54</td><td style=\"text-align: right;\">61</td><td style=\"text-align: right;\">0.82</td><td style=\"text-align: right;\">38</td><td style=\"text-align: right;\">3.09</td><td style=\"text-align: right;\">22</td><td style=\"text-align: right;\">5.75</td><td style=\"text-align: right;\">1</td><td style=\"text-align: right;\">0.12</td><td style=\"text-align: right;\">0</td><td style=\"text-align: right;\">0.00</td><td style=\"text-align: right;\">0</td><td style=\"text-align: right;\">0.00</td><td style=\"text-align: right;\">0</td><td style=\"text-align: right;\">0.00</td><td style=\"text-align: right;\">0</td><td style=\"text-align: right;\">0.00</td></tr>\n",
       "<tr><td style=\"text-align: right;\">353915</td><td style=\"text-align: right;\">136,499,188</td><td style=\"text-align: right;\">132,236</td><td style=\"text-align: right;\">26</td><td style=\"text-align: right;\">96</td><td style=\"text-align: right;\">0.62</td><td style=\"text-align: right;\">60</td><td style=\"text-align: right;\">0.81</td><td style=\"text-align: right;\">37</td><td style=\"text-align: right;\">3.06</td><td style=\"text-align: right;\">22</td><td style=\"text-align: right;\">5.85</td><td style=\"text-align: right;\">1</td><td style=\"text-align: right;\">0.12</td><td style=\"text-align: right;\">0</td><td style=\"text-align: right;\">0.00</td><td style=\"text-align: right;\">0</td><td style=\"text-align: right;\">0.00</td><td style=\"text-align: right;\">0</td><td style=\"text-align: right;\">0.00</td><td style=\"text-align: right;\">0</td><td style=\"text-align: right;\">0.00</td></tr>\n",
       "<tr class=\"even\"><td style=\"text-align: right;\">354037</td><td style=\"text-align: right;\">136,589,701</td><td style=\"text-align: right;\">51,567</td><td style=\"text-align: right;\">4</td><td style=\"text-align: right;\">80</td><td style=\"text-align: right;\">0.75</td><td style=\"text-align: right;\">60</td><td style=\"text-align: right;\">0.81</td><td style=\"text-align: right;\">36</td><td style=\"text-align: right;\">2.98</td><td style=\"text-align: right;\">23</td><td style=\"text-align: right;\">6.11</td><td style=\"text-align: right;\">1</td><td style=\"text-align: right;\">0.12</td><td style=\"text-align: right;\">0</td><td style=\"text-align: right;\">0.00</td><td style=\"text-align: right;\">0</td><td style=\"text-align: right;\">0.00</td><td style=\"text-align: right;\">0</td><td style=\"text-align: right;\">0.00</td><td style=\"text-align: right;\">0</td><td style=\"text-align: right;\">0.00</td></tr>\n",
       "<tr><td style=\"text-align: right;\">353259</td><td style=\"text-align: right;\">135,761,470</td><td style=\"text-align: right;\">609,610</td><td style=\"text-align: right;\">22</td><td style=\"text-align: right;\">73</td><td style=\"text-align: right;\">1.00</td><td style=\"text-align: right;\">73</td><td style=\"text-align: right;\">0.99</td><td style=\"text-align: right;\">46</td><td style=\"text-align: right;\">3.13</td><td style=\"text-align: right;\">26</td><td style=\"text-align: right;\">5.68</td><td style=\"text-align: right;\">1</td><td style=\"text-align: right;\">0.10</td><td style=\"text-align: right;\">0</td><td style=\"text-align: right;\">0.00</td><td style=\"text-align: right;\">0</td><td style=\"text-align: right;\">0.00</td><td style=\"text-align: right;\">0</td><td style=\"text-align: right;\">0.00</td><td style=\"text-align: right;\">0</td><td style=\"text-align: right;\">0.00</td></tr>\n",
       "<tr class=\"even\"><td style=\"text-align: right;\">353806</td><td style=\"text-align: right;\">136,403,061</td><td style=\"text-align: right;\">84,783</td><td style=\"text-align: right;\">4</td><td style=\"text-align: right;\">67</td><td style=\"text-align: right;\">0.96</td><td style=\"text-align: right;\">64</td><td style=\"text-align: right;\">0.86</td><td style=\"text-align: right;\">40</td><td style=\"text-align: right;\">3.11</td><td style=\"text-align: right;\">23</td><td style=\"text-align: right;\">5.73</td><td style=\"text-align: right;\">1</td><td style=\"text-align: right;\">0.11</td><td style=\"text-align: right;\">0</td><td style=\"text-align: right;\">0.00</td><td style=\"text-align: right;\">0</td><td style=\"text-align: right;\">0.00</td><td style=\"text-align: right;\">0</td><td style=\"text-align: right;\">0.00</td><td style=\"text-align: right;\">0</td><td style=\"text-align: right;\">0.00</td></tr>\n",
       "<tr><td style=\"text-align: right;\">353379</td><td style=\"text-align: right;\">135,837,488</td><td style=\"text-align: right;\">509,187</td><td style=\"text-align: right;\">7</td><td style=\"text-align: right;\">49</td><td style=\"text-align: right;\">0.98</td><td style=\"text-align: right;\">48</td><td style=\"text-align: right;\">0.65</td><td style=\"text-align: right;\">31</td><td style=\"text-align: right;\">3.21</td><td style=\"text-align: right;\">16</td><td style=\"text-align: right;\">5.32</td><td style=\"text-align: right;\">1</td><td style=\"text-align: right;\">0.15</td><td style=\"text-align: right;\">0</td><td style=\"text-align: right;\">0.00</td><td style=\"text-align: right;\">0</td><td style=\"text-align: right;\">0.00</td><td style=\"text-align: right;\">0</td><td style=\"text-align: right;\">0.00</td><td style=\"text-align: right;\">0</td><td style=\"text-align: right;\">0.00</td></tr>\n",
       "</table>"
      ],
      "text/plain": [
       "<IPython.core.display.HTML object>"
      ]
     },
     "execution_count": 6,
     "metadata": {},
     "output_type": "execute_result"
    }
   ],
   "source": [
    "HTML(plt_obj.get_html())"
   ]
  },
  {
   "cell_type": "code",
   "execution_count": 7,
   "metadata": {
    "collapsed": false
   },
   "outputs": [
    {
     "data": {
      "text/html": [
       "\n",
       "\n",
       "    <div class=\"bk-root\">\n",
       "        <div class=\"plotdiv\" id=\"a20c215b-d665-4461-92d8-b94e26d4a081\"></div>\n",
       "    </div>\n",
       "<script type=\"text/javascript\">\n",
       "  \n",
       "  (function(global) {\n",
       "    function now() {\n",
       "      return new Date();\n",
       "    }\n",
       "  \n",
       "    if (typeof (window._bokeh_onload_callbacks) === \"undefined\") {\n",
       "      window._bokeh_onload_callbacks = [];\n",
       "    }\n",
       "  \n",
       "    function run_callbacks() {\n",
       "      window._bokeh_onload_callbacks.forEach(function(callback) { callback() });\n",
       "      delete window._bokeh_onload_callbacks\n",
       "      console.info(\"Bokeh: all callbacks have finished\");\n",
       "    }\n",
       "  \n",
       "    function load_libs(js_urls, callback) {\n",
       "      window._bokeh_onload_callbacks.push(callback);\n",
       "      if (window._bokeh_is_loading > 0) {\n",
       "        console.log(\"Bokeh: BokehJS is being loaded, scheduling callback at\", now());\n",
       "        return null;\n",
       "      }\n",
       "      if (js_urls == null || js_urls.length === 0) {\n",
       "        run_callbacks();\n",
       "        return null;\n",
       "      }\n",
       "      console.log(\"Bokeh: BokehJS not loaded, scheduling load and callback at\", now());\n",
       "      window._bokeh_is_loading = js_urls.length;\n",
       "      for (var i = 0; i < js_urls.length; i++) {\n",
       "        var url = js_urls[i];\n",
       "        var s = document.createElement('script');\n",
       "        s.src = url;\n",
       "        s.async = false;\n",
       "        s.onreadystatechange = s.onload = function() {\n",
       "          window._bokeh_is_loading--;\n",
       "          if (window._bokeh_is_loading === 0) {\n",
       "            console.log(\"Bokeh: all BokehJS libraries loaded\");\n",
       "            run_callbacks()\n",
       "          }\n",
       "        };\n",
       "        s.onerror = function() {\n",
       "          console.warn(\"failed to load library \" + url);\n",
       "        };\n",
       "        console.log(\"Bokeh: injecting script tag for BokehJS library: \", url);\n",
       "        document.getElementsByTagName(\"head\")[0].appendChild(s);\n",
       "      }\n",
       "    };var element = document.getElementById(\"a20c215b-d665-4461-92d8-b94e26d4a081\");\n",
       "    if (element == null) {\n",
       "      console.log(\"Bokeh: ERROR: autoload.js configured with elementid 'a20c215b-d665-4461-92d8-b94e26d4a081' but no matching script tag was found. \")\n",
       "      return false;\n",
       "    }\n",
       "  \n",
       "    var js_urls = [];\n",
       "  \n",
       "    var inline_js = [\n",
       "      function(Bokeh) {\n",
       "        Bokeh.$(function() {\n",
       "            var docs_json = {\"96439b46-a02b-4fda-bb1a-8d369d8dd512\":{\"roots\":{\"references\":[{\"attributes\":{\"bottom\":{\"field\":\"bottom\"},\"fill_alpha\":{\"value\":0.1},\"fill_color\":{\"value\":\"#1f77b4\"},\"left\":{\"field\":\"left\"},\"line_alpha\":{\"value\":0.1},\"line_color\":{\"value\":\"#1f77b4\"},\"right\":{\"field\":\"right\"},\"top\":{\"field\":\"top\"}},\"id\":\"922f6753-e6e7-4ba6-bc92-1e60a505174f\",\"type\":\"Quad\"},{\"attributes\":{\"active_drag\":\"auto\",\"active_scroll\":\"auto\",\"active_tap\":\"auto\",\"tools\":[{\"id\":\"ddbaa8f8-527f-477d-9c66-060b02ea18da\",\"type\":\"PanTool\"},{\"id\":\"43b2c4bc-5423-457c-8db0-e5d9ef79a27c\",\"type\":\"WheelZoomTool\"},{\"id\":\"74704f85-12f7-4301-8630-fe49228cdd03\",\"type\":\"BoxZoomTool\"},{\"id\":\"4f9b9733-96ee-424b-acb2-c2f2fbaf8c70\",\"type\":\"SaveTool\"},{\"id\":\"90367915-ec18-42c3-a902-da705d07d68f\",\"type\":\"ResetTool\"},{\"id\":\"33312f42-5241-4fd8-944c-3b612f219e4c\",\"type\":\"HelpTool\"}]},\"id\":\"26908d02-8055-4966-a987-11fc0749b97a\",\"type\":\"Toolbar\"},{\"attributes\":{\"plot\":{\"id\":\"d9c08859-3727-400b-b263-07ec7a72bbc9\",\"subtype\":\"Figure\",\"type\":\"Plot\"},\"ticker\":{\"id\":\"5faeecf4-1ed9-4e11-b9cb-0cf0a95031ce\",\"type\":\"BasicTicker\"}},\"id\":\"c2149526-6bef-40bf-abca-ed3dd2bbef70\",\"type\":\"Grid\"},{\"attributes\":{\"bottom\":{\"field\":\"bottom\"},\"fill_color\":{\"value\":\"white\"},\"left\":{\"field\":\"left\"},\"right\":{\"field\":\"right\"},\"top\":{\"field\":\"top\"}},\"id\":\"77b52f87-469a-4cdb-882d-9dee26f2e21f\",\"type\":\"Quad\"},{\"attributes\":{\"bottom\":{\"field\":\"bottom\"},\"fill_alpha\":{\"value\":0.1},\"fill_color\":{\"value\":\"#1f77b4\"},\"left\":{\"field\":\"left\"},\"line_alpha\":{\"value\":0.1},\"line_color\":{\"value\":\"#1f77b4\"},\"right\":{\"field\":\"right\"},\"top\":{\"field\":\"top\"}},\"id\":\"83cd446c-0f35-43a7-a452-d137e5d5672b\",\"type\":\"Quad\"},{\"attributes\":{\"formatter\":{\"id\":\"853bb6d2-832d-4d34-93ab-5338f7f34144\",\"type\":\"BasicTickFormatter\"},\"plot\":{\"id\":\"d9c08859-3727-400b-b263-07ec7a72bbc9\",\"subtype\":\"Figure\",\"type\":\"Plot\"},\"ticker\":{\"id\":\"5faeecf4-1ed9-4e11-b9cb-0cf0a95031ce\",\"type\":\"BasicTicker\"}},\"id\":\"de9a88a1-ca1f-4199-9e4f-8003bd5def16\",\"type\":\"LinearAxis\"},{\"attributes\":{\"overlay\":{\"id\":\"fc5b6428-29f9-4ac5-b662-a99518e6b1a7\",\"type\":\"BoxAnnotation\"},\"plot\":{\"id\":\"d9c08859-3727-400b-b263-07ec7a72bbc9\",\"subtype\":\"Figure\",\"type\":\"Plot\"}},\"id\":\"74704f85-12f7-4301-8630-fe49228cdd03\",\"type\":\"BoxZoomTool\"},{\"attributes\":{},\"id\":\"853bb6d2-832d-4d34-93ab-5338f7f34144\",\"type\":\"BasicTickFormatter\"},{\"attributes\":{\"data_source\":{\"id\":\"1040d452-ddc1-4723-8d98-a066852201c8\",\"type\":\"ColumnDataSource\"},\"glyph\":{\"id\":\"77b52f87-469a-4cdb-882d-9dee26f2e21f\",\"type\":\"Quad\"},\"hover_glyph\":null,\"nonselection_glyph\":{\"id\":\"83cd446c-0f35-43a7-a452-d137e5d5672b\",\"type\":\"Quad\"},\"selection_glyph\":null},\"id\":\"9a5441c3-16e3-4fd3-af59-83459fc7345d\",\"type\":\"GlyphRenderer\"},{\"attributes\":{\"formatter\":{\"id\":\"d6fde75f-7cf0-4223-a399-e04ad69c9a40\",\"type\":\"BasicTickFormatter\"},\"plot\":{\"id\":\"d9c08859-3727-400b-b263-07ec7a72bbc9\",\"subtype\":\"Figure\",\"type\":\"Plot\"},\"ticker\":{\"id\":\"153519f8-ae6b-4f5b-a40e-7510cf8a5290\",\"type\":\"BasicTicker\"},\"visible\":null},\"id\":\"7b618de4-e613-44b4-a8e6-9b6c9f64d020\",\"type\":\"LinearAxis\"},{\"attributes\":{\"callback\":null,\"end\":136786630,\"start\":135757320},\"id\":\"a6fc2399-215c-4380-9594-e1d2a917feb8\",\"type\":\"Range1d\"},{\"attributes\":{\"plot\":{\"id\":\"d9c08859-3727-400b-b263-07ec7a72bbc9\",\"subtype\":\"Figure\",\"type\":\"Plot\"}},\"id\":\"ddbaa8f8-527f-477d-9c66-060b02ea18da\",\"type\":\"PanTool\"},{\"attributes\":{\"plot\":{\"id\":\"d9c08859-3727-400b-b263-07ec7a72bbc9\",\"subtype\":\"Figure\",\"type\":\"Plot\"}},\"id\":\"33312f42-5241-4fd8-944c-3b612f219e4c\",\"type\":\"HelpTool\"},{\"attributes\":{},\"id\":\"5faeecf4-1ed9-4e11-b9cb-0cf0a95031ce\",\"type\":\"BasicTicker\"},{\"attributes\":{\"level\":\"glyph\",\"plot\":{\"id\":\"d9c08859-3727-400b-b263-07ec7a72bbc9\",\"subtype\":\"Figure\",\"type\":\"Plot\"},\"source\":{\"id\":\"3fb572d2-c33d-4676-b9e3-add49da76c54\",\"type\":\"ColumnDataSource\"},\"text\":{\"field\":\"vals\"},\"text_font_size\":{\"value\":\"9pt\"},\"text_font_style\":\"bold\",\"x\":{\"field\":\"x\"},\"y\":{\"field\":\"y\"}},\"id\":\"4fc39dee-35c0-4cee-824c-c22c4ef43401\",\"type\":\"LabelSet\"},{\"attributes\":{\"callback\":null,\"column_names\":[\"y\",\"x\",\"vals\"],\"data\":{\"vals\":[\"117_1685\",\"6_68\",\"49_136\",\"8_718\",\"9_545\",\"14_40\",\"70_166\",\"5_69\",\"28_434\",\"9_887\",\"5_588\",\"21_332\",\"5_1460\",\"4_612\",\"7_1760\",\"16_511\",\"24_1504\"],\"x\":[135758231,135758713,135780924,135784351,135810535,135814021,136008173,136056699,136115507,136309239,136364916,136402778,136406646,136448855,136588031,136603638,136653925],\"y\":[801.0,173.0,279.0,693.0,591.0,68.0,381.0,273.0,489.0,695.0,592.0,487.0,700.0,592.0,801.0,590.0,800.0]}},\"id\":\"3fb572d2-c33d-4676-b9e3-add49da76c54\",\"type\":\"ColumnDataSource\"},{\"attributes\":{\"dimension\":1,\"plot\":{\"id\":\"d9c08859-3727-400b-b263-07ec7a72bbc9\",\"subtype\":\"Figure\",\"type\":\"Plot\"},\"ticker\":{\"id\":\"153519f8-ae6b-4f5b-a40e-7510cf8a5290\",\"type\":\"BasicTicker\"}},\"id\":\"0bfb283d-5836-4b34-bde1-63157ff2b190\",\"type\":\"Grid\"},{\"attributes\":{\"plot\":{\"id\":\"d9c08859-3727-400b-b263-07ec7a72bbc9\",\"subtype\":\"Figure\",\"type\":\"Plot\"}},\"id\":\"90367915-ec18-42c3-a902-da705d07d68f\",\"type\":\"ResetTool\"},{\"attributes\":{\"bottom\":{\"field\":\"bottom\"},\"fill_color\":{\"field\":\"fill_color\"},\"left\":{\"field\":\"left\"},\"line_color\":{\"value\":null},\"right\":{\"field\":\"right\"},\"top\":{\"field\":\"top\"}},\"id\":\"4618fba4-d9e5-4848-9df3-d0e753b0f459\",\"type\":\"Quad\"},{\"attributes\":{\"data_source\":{\"id\":\"bd40c980-e80d-4c51-ba26-5dfcc72799e4\",\"type\":\"ColumnDataSource\"},\"glyph\":{\"id\":\"6208a7eb-6afb-41df-93a1-85f32f2dc408\",\"type\":\"MultiLine\"},\"hover_glyph\":null,\"nonselection_glyph\":{\"id\":\"348201a7-f5ab-4ace-89c8-3f5822c43571\",\"type\":\"MultiLine\"},\"selection_glyph\":null},\"id\":\"24f6db48-4ff0-4fd3-b55d-fbbf35133633\",\"type\":\"GlyphRenderer\"},{\"attributes\":{\"callback\":null,\"end\":900},\"id\":\"9f0a2bda-8ef6-4751-a99a-73f32e8327e7\",\"type\":\"Range1d\"},{\"attributes\":{\"callback\":null,\"column_names\":[\"right\",\"bottom\",\"top\",\"left\"],\"data\":{\"bottom\":[845,845,845,845,845,845,845],\"left\":[135809835,135957574,136289083,136499189,136545415,136597196,136664254],\"right\":[135928279,136288182,136482839,136542633,136594750,136634047,136743222],\"top\":[875,875,875,875,875,875,875]}},\"id\":\"1040d452-ddc1-4723-8d98-a066852201c8\",\"type\":\"ColumnDataSource\"},{\"attributes\":{\"plot\":{\"id\":\"d9c08859-3727-400b-b263-07ec7a72bbc9\",\"subtype\":\"Figure\",\"type\":\"Plot\"}},\"id\":\"4f9b9733-96ee-424b-acb2-c2f2fbaf8c70\",\"type\":\"SaveTool\"},{\"attributes\":{\"line_color\":{\"field\":\"line_color\"},\"xs\":{\"field\":\"xs\"},\"ys\":{\"field\":\"ys\"}},\"id\":\"6208a7eb-6afb-41df-93a1-85f32f2dc408\",\"type\":\"MultiLine\"},{\"attributes\":{\"callback\":null,\"column_names\":[\"right\",\"bottom\",\"top\",\"left\",\"fill_color\"],\"data\":{\"bottom\":[750,150,250,650,550,50,350,250,450,650,550,450,650,550,750,550,750],\"fill_color\":[\"#808080\",\"#ff0000\",\"#ff0000\",\"#ff0000\",\"#ff0000\",\"#ff0000\",\"#ff0000\",\"#ff0000\",\"#ff0000\",\"#ff0000\",\"#ff0000\",\"#ff0000\",\"#808080\",\"#ff0000\",\"#c46161\",\"#c46161\",\"#808080\"],\"left\":[135758231,135758713,135780924,135784351,135810535,135814021,136008173,136056699,136115507,136309239,136364916,136402778,136406646,136448855,136588031,136603638,136653925],\"right\":[136376515,135778233,136017139,135902220,135898023,136424548,136381251,136433902,136385280,136361560,136387893,136493430,136438078,136466831,136593678,136632125,136761853],\"top\":[796,168,274,688,586,63,376,268,484,690,587,482,695,587,796,585,795]}},\"id\":\"7140a2e4-2c15-4202-b0dc-eb7b5960e0c4\",\"type\":\"ColumnDataSource\"},{\"attributes\":{},\"id\":\"153519f8-ae6b-4f5b-a40e-7510cf8a5290\",\"type\":\"BasicTicker\"},{\"attributes\":{\"data_source\":{\"id\":\"7140a2e4-2c15-4202-b0dc-eb7b5960e0c4\",\"type\":\"ColumnDataSource\"},\"glyph\":{\"id\":\"4618fba4-d9e5-4848-9df3-d0e753b0f459\",\"type\":\"Quad\"},\"hover_glyph\":null,\"nonselection_glyph\":{\"id\":\"922f6753-e6e7-4ba6-bc92-1e60a505174f\",\"type\":\"Quad\"},\"selection_glyph\":null},\"id\":\"1c2b74c9-e271-4e59-8af4-1316eccc7c9f\",\"type\":\"GlyphRenderer\"},{\"attributes\":{\"callback\":null,\"column_names\":[\"xs\",\"ys\",\"line_color\"],\"data\":{\"line_color\":[\"black\",\"black\",\"black\",\"black\",\"black\",\"black\",\"black\",\"black\",\"black\",\"black\",\"black\",\"black\",\"black\",\"black\",\"black\",\"black\",\"black\",\"black\",\"black\",\"black\",\"black\",\"black\",\"black\",\"black\",\"black\",\"black\",\"black\",\"black\",\"black\",\"black\",\"black\",\"black\",\"black\",\"black\",\"black\",\"black\",\"black\",\"black\",\"black\",\"black\",\"black\",\"black\",\"black\",\"black\",\"black\",\"black\",\"black\",\"black\",\"black\",\"black\",\"black\",\"black\",\"black\",\"black\",\"black\",\"black\",\"black\",\"black\",\"black\",\"black\",\"black\",\"black\",\"black\",\"black\",\"black\",\"black\",\"black\",\"black\",\"black\",\"black\",\"black\",\"black\",\"black\",\"black\",\"black\",\"black\",\"black\",\"black\",\"black\",\"black\",\"black\",\"black\",\"black\",\"black\",\"black\",\"black\",\"black\",\"black\",\"black\",\"black\",\"black\",\"black\",\"black\",\"black\",\"black\",\"black\",\"black\",\"black\",\"black\",\"black\",\"black\",\"black\",\"black\",\"black\",\"black\",\"black\",\"black\",\"black\",\"black\",\"black\",\"black\",\"black\",\"black\",\"black\",\"black\",\"black\",\"black\",\"black\",\"black\",\"black\",\"black\",\"black\",\"black\",\"black\",\"black\",\"black\",\"black\",\"black\",\"black\",\"black\",\"black\",\"black\",\"black\",\"black\",\"black\",\"black\",\"black\",\"black\",\"black\",\"black\",\"black\",\"black\",\"black\",\"black\",\"black\",\"black\",\"black\",\"black\",\"black\",\"black\",\"black\",\"black\",\"black\",\"black\",\"black\",\"black\",\"black\",\"black\",\"black\",\"black\",\"black\",\"black\",\"black\",\"black\",\"black\",\"black\",\"black\",\"black\",\"black\",\"black\",\"black\",\"black\",\"black\",\"black\",\"black\",\"black\",\"black\",\"black\",\"black\",\"black\",\"black\",\"black\",\"black\",\"black\",\"black\",\"black\",\"black\",\"black\",\"black\",\"black\",\"black\",\"black\",\"black\",\"black\",\"black\",\"black\",\"black\",\"black\",\"black\",\"black\",\"black\",\"black\",\"black\",\"black\",\"black\",\"black\",\"black\",\"black\",\"black\",\"black\",\"black\",\"black\",\"black\",\"black\",\"black\",\"black\",\"black\",\"black\",\"black\",\"black\",\"black\",\"black\",\"black\",\"black\",\"black\",\"black\",\"black\",\"black\",\"black\",\"black\",\"black\",\"black\",\"black\",\"black\",\"black\",\"black\",\"black\",\"black\",\"black\",\"black\",\"black\",\"black\",\"black\",\"black\",\"black\",\"black\",\"black\",\"black\",\"black\",\"black\",\"black\",\"black\",\"black\",\"black\",\"black\",\"black\",\"black\",\"black\",\"black\",\"black\",\"black\",\"black\",\"black\",\"black\",\"black\",\"black\",\"black\",\"black\",\"black\",\"black\",\"black\",\"black\",\"black\",\"black\",\"black\",\"black\",\"black\",\"black\",\"black\",\"black\",\"black\",\"black\",\"black\",\"black\",\"black\",\"black\",\"black\",\"black\",\"black\",\"black\",\"black\",\"black\",\"black\",\"black\",\"black\",\"black\",\"black\",\"black\",\"black\",\"black\",\"black\",\"black\",\"black\",\"black\",\"black\",\"black\",\"black\",\"black\",\"black\",\"black\",\"black\",\"black\",\"black\",\"black\",\"black\",\"black\",\"black\",\"black\",\"black\",\"black\",\"black\",\"black\",\"black\",\"black\",\"black\",\"black\",\"black\",\"black\",\"black\",\"black\",\"black\",\"black\",\"black\",\"black\",\"black\",\"black\",\"black\",\"black\",\"black\",\"black\",\"black\",\"black\",\"black\",\"black\",\"black\",\"black\",\"black\",\"black\",\"black\",\"black\",\"black\",\"black\",\"black\",\"black\",\"black\",\"black\",\"black\",\"black\",\"black\",\"black\",\"black\",\"black\",\"black\",\"black\",\"black\",\"black\",\"black\",\"black\",\"black\",\"black\",\"black\",\"black\",\"black\",\"black\",\"black\",\"black\",\"black\",\"black\",\"black\",\"black\",\"black\",\"black\",\"black\",\"black\",\"black\",\"black\",\"black\",\"black\",\"black\",\"black\",\"black\",\"black\",\"black\",\"black\",\"black\",\"black\",\"black\"],\"xs\":[[135758231,135758231],[135758520,135758520],[135766072,135766072],[135773420,135773420],[135773446,135773446],[135773617,135773617],[135773692,135773692],[135774681,135774681],[135775049,135775049],[135776430,135776430],[135778656,135778656],[135780168,135780168],[135780587,135780587],[135781301,135781301],[135781522,135781522],[135781635,135781635],[135782456,135782456],[135783157,135783157],[135783366,135783366],[135783367,135783367],[135784227,135784227],[135784733,135784733],[135785066,135785066],[135785068,135785068],[135785149,135785149],[135787148,135787148],[135787642,135787642],[135789405,135789405],[135789472,135789472],[135789682,135789682],[135789784,135789784],[135792338,135792338],[135792528,135792528],[135793565,135793565],[135793684,135793684],[135793845,135793845],[135794367,135794367],[135794986,135794986],[135795040,135795040],[135795095,135795095],[135795150,135795150],[135795385,135795385],[135795396,135795396],[135795443,135795443],[135795595,135795595],[135796000,135796000],[135796155,135796155],[135796410,135796410],[135796965,135796965],[135797223,135797223],[135797747,135797747],[135798082,135798082],[135798758,135798758],[135799082,135799082],[135800085,135800085],[135800601,135800601],[135800757,135800757],[135801228,135801228],[135801956,135801956],[135802020,135802020],[135802028,135802028],[135802050,135802050],[135802148,135802148],[135803766,135803766],[135809241,135809241],[135812969,135812969],[135814716,135814716],[135818907,135818907],[135829432,135829432],[135832131,135832131],[135849613,135849613],[135853807,135853807],[135859923,135859923],[135860305,135860305],[135861497,135861497],[135863143,135863143],[135864294,135864294],[135871624,135871624],[135872646,135872646],[135874038,135874038],[135874622,135874622],[135878814,135878814],[135880013,135880013],[135884487,135884487],[135885357,135885357],[135893853,135893853],[135895809,135895809],[135895879,135895879],[135899069,135899069],[135909462,135909462],[135912977,135912977],[135914038,135914038],[135921839,135921839],[135925002,135925002],[135928312,135928312],[135935049,135935049],[135962711,135962711],[135984172,135984172],[135994753,135994753],[135994754,135994754],[136016079,136016079],[136027264,136027264],[136052004,136052004],[136100473,136100473],[136110129,136110129],[136166536,136166536],[136169799,136169799],[136191314,136191314],[136228887,136228887],[136238453,136238453],[136288273,136288273],[136292425,136292425],[136321951,136321951],[136324564,136324564],[136327299,136327299],[136327302,136327302],[136376515,136376515],[135758713,135758713],[135759717,135759717],[135762608,135762608],[135764416,135764416],[135772876,135772876],[135778233,135778233],[135780924,135780924],[135783872,135783872],[135784174,135784174],[135784652,135784652],[135787686,135787686],[135788712,135788712],[135794686,135794686],[135815035,135815035],[135815806,135815806],[135816299,135816299],[135817965,135817965],[135819405,135819405],[135820455,135820455],[135822556,135822556],[135830362,135830362],[135838113,135838113],[135843398,135843398],[135845084,135845084],[135850778,135850778],[135853281,135853281],[135858199,135858199],[135859428,135859428],[135867144,135867144],[135867538,135867538],[135874606,135874606],[135880487,135880487],[135882089,135882089],[135883468,135883468],[135892685,135892685],[135894666,135894666],[135894837,135894837],[135894879,135894879],[135896985,135896985],[135904659,135904659],[135908007,135908007],[135910415,135910415],[135917924,135917924],[135926486,135926486],[135942475,135942475],[135955537,135955537],[135964420,135964420],[135965002,135965002],[135981071,135981071],[135988224,135988224],[135991508,135991508],[135991714,135991714],[135997479,135997479],[136001913,136001913],[136017139,136017139],[135784351,135784351],[135829309,135829309],[135835508,135835508],[135861297,135861297],[135863459,135863459],[135873845,135873845],[135902172,135902172],[135902220,135902220],[135810535,135810535],[135817760,135817760],[135857538,135857538],[135862191,135862191],[135869380,135869380],[135869761,135869761],[135886486,135886486],[135888078,135888078],[135898023,135898023],[135814021,135814021],[135834746,135834746],[135857775,135857775],[135879478,135879478],[136067042,136067042],[136105702,136105702],[136169393,136169393],[136188000,136188000],[136199620,136199620],[136246376,136246376],[136293592,136293592],[136352108,136352108],[136361995,136361995],[136424548,136424548],[136008173,136008173],[136008446,136008446],[136014236,136014236],[136036997,136036997],[136037702,136037702],[136040078,136040078],[136046601,136046601],[136048235,136048235],[136050624,136050624],[136051458,136051458],[136053800,136053800],[136069666,136069666],[136070320,136070320],[136071268,136071268],[136085307,136085307],[136107478,136107478],[136116965,136116965],[136119487,136119487],[136133726,136133726],[136136964,136136964],[136137013,136137013],[136141365,136141365],[136151898,136151898],[136153771,136153771],[136157319,136157319],[136157786,136157786],[136160634,136160634],[136161546,136161546],[136161613,136161613],[136163239,136163239],[136166288,136166288],[136171078,136171078],[136174848,136174848],[136177152,136177152],[136188784,136188784],[136191498,136191498],[136192069,136192069],[136192914,136192914],[136202038,136202038],[136206988,136206988],[136208169,136208169],[136211700,136211700],[136214800,136214800],[136223293,136223293],[136238330,136238330],[136242667,136242667],[136249834,136249834],[136255405,136255405],[136261219,136261219],[136264924,136264924],[136265494,136265494],[136267386,136267386],[136267415,136267415],[136277320,136277320],[136279720,136279720],[136279756,136279756],[136283113,136283113],[136299020,136299020],[136304442,136304442],[136308679,136308679],[136319192,136319192],[136324543,136324543],[136330131,136330131],[136347919,136347919],[136353065,136353065],[136360339,136360339],[136370954,136370954],[136371399,136371399],[136376994,136376994],[136381251,136381251],[136056699,136056699],[136316658,136316658],[136390794,136390794],[136421460,136421460],[136433902,136433902],[136115507,136115507],[136133627,136133627],[136135820,136135820],[136145676,136145676],[136166014,136166014],[136173684,136173684],[136176031,136176031],[136214307,136214307],[136215590,136215590],[136219265,136219265],[136219831,136219831],[136289471,136289471],[136298739,136298739],[136302296,136302296],[136302897,136302897],[136348702,136348702],[136348964,136348964],[136358707,136358707],[136359608,136359608],[136360402,136360402],[136365624,136365624],[136366970,136366970],[136367871,136367871],[136368393,136368393],[136370701,136370701],[136378539,136378539],[136378895,136378895],[136385280,136385280],[136309239,136309239],[136322472,136322472],[136323787,136323787],[136323862,136323862],[136326765,136326765],[136329500,136329500],[136331657,136331657],[136345356,136345356],[136361560,136361560],[136364916,136364916],[136369497,136369497],[136369580,136369580],[136380846,136380846],[136387893,136387893],[136402778,136402778],[136402779,136402779],[136402780,136402780],[136402781,136402781],[136403272,136403272],[136406356,136406356],[136407068,136407068],[136414770,136414770],[136415861,136415861],[136416407,136416407],[136420009,136420009],[136429439,136429439],[136438468,136438468],[136444542,136444542],[136448142,136448142],[136452728,136452728],[136453540,136453540],[136455296,136455296],[136458856,136458856],[136467559,136467559],[136493430,136493430],[136406646,136406646],[136408821,136408821],[136412472,136412472],[136416959,136416959],[136438078,136438078],[136448855,136448855],[136456090,136456090],[136456675,136456675],[136466831,136466831],[136588031,136588031],[136589278,136589278],[136589379,136589379],[136589741,136589741],[136590746,136590746],[136593553,136593553],[136593678,136593678],[136603638,136603638],[136603690,136603690],[136604210,136604210],[136604345,136604345],[136604346,136604346],[136605111,136605111],[136612598,136612598],[136614955,136614955],[136619114,136619114],[136619213,136619213],[136623900,136623900],[136624123,136624123],[136624155,136624155],[136630170,136630170],[136631415,136631415],[136632125,136632125],[136653925,136653925],[136654833,136654833],[136656534,136656534],[136656536,136656536],[136657252,136657252],[136667301,136667301],[136667487,136667487],[136672775,136672775],[136680534,136680534],[136686393,136686393],[136688749,136688749],[136692553,136692553],[136697371,136697371],[136708787,136708787],[136710372,136710372],[136711064,136711064],[136715324,136715324],[136723504,136723504],[136737460,136737460],[136743143,136743143],[136746224,136746224],[136751842,136751842],[136759379,136759379],[136761853,136761853]],\"ys\":[[750,796],[750,796],[750,796],[750,796],[750,796],[750,796],[750,796],[750,796],[750,796],[750,796],[750,796],[750,796],[750,796],[750,796],[750,796],[750,796],[750,796],[750,796],[750,796],[750,796],[750,796],[750,796],[750,796],[750,796],[750,796],[750,796],[750,796],[750,796],[750,796],[750,796],[750,796],[750,796],[750,796],[750,796],[750,796],[750,796],[750,796],[750,796],[750,796],[750,796],[750,796],[750,796],[750,796],[750,796],[750,796],[750,796],[750,796],[750,796],[750,796],[750,796],[750,796],[750,796],[750,796],[750,796],[750,796],[750,796],[750,796],[750,796],[750,796],[750,796],[750,796],[750,796],[750,796],[750,796],[750,796],[750,796],[750,796],[750,796],[750,796],[750,796],[750,796],[750,796],[750,796],[750,796],[750,796],[750,796],[750,796],[750,796],[750,796],[750,796],[750,796],[750,796],[750,796],[750,796],[750,796],[750,796],[750,796],[750,796],[750,796],[750,796],[750,796],[750,796],[750,796],[750,796],[750,796],[750,796],[750,796],[750,796],[750,796],[750,796],[750,796],[750,796],[750,796],[750,796],[750,796],[750,796],[750,796],[750,796],[750,796],[750,796],[750,796],[750,796],[750,796],[750,796],[750,796],[750,796],[750,796],[150,168],[150,168],[150,168],[150,168],[150,168],[150,168],[250,274],[250,274],[250,274],[250,274],[250,274],[250,274],[250,274],[250,274],[250,274],[250,274],[250,274],[250,274],[250,274],[250,274],[250,274],[250,274],[250,274],[250,274],[250,274],[250,274],[250,274],[250,274],[250,274],[250,274],[250,274],[250,274],[250,274],[250,274],[250,274],[250,274],[250,274],[250,274],[250,274],[250,274],[250,274],[250,274],[250,274],[250,274],[250,274],[250,274],[250,274],[250,274],[250,274],[250,274],[250,274],[250,274],[250,274],[250,274],[250,274],[650,688],[650,688],[650,688],[650,688],[650,688],[650,688],[650,688],[650,688],[550,586],[550,586],[550,586],[550,586],[550,586],[550,586],[550,586],[550,586],[550,586],[50,63],[50,63],[50,63],[50,63],[50,63],[50,63],[50,63],[50,63],[50,63],[50,63],[50,63],[50,63],[50,63],[50,63],[350,376],[350,376],[350,376],[350,376],[350,376],[350,376],[350,376],[350,376],[350,376],[350,376],[350,376],[350,376],[350,376],[350,376],[350,376],[350,376],[350,376],[350,376],[350,376],[350,376],[350,376],[350,376],[350,376],[350,376],[350,376],[350,376],[350,376],[350,376],[350,376],[350,376],[350,376],[350,376],[350,376],[350,376],[350,376],[350,376],[350,376],[350,376],[350,376],[350,376],[350,376],[350,376],[350,376],[350,376],[350,376],[350,376],[350,376],[350,376],[350,376],[350,376],[350,376],[350,376],[350,376],[350,376],[350,376],[350,376],[350,376],[350,376],[350,376],[350,376],[350,376],[350,376],[350,376],[350,376],[350,376],[350,376],[350,376],[350,376],[350,376],[350,376],[250,268],[250,268],[250,268],[250,268],[250,268],[450,484],[450,484],[450,484],[450,484],[450,484],[450,484],[450,484],[450,484],[450,484],[450,484],[450,484],[450,484],[450,484],[450,484],[450,484],[450,484],[450,484],[450,484],[450,484],[450,484],[450,484],[450,484],[450,484],[450,484],[450,484],[450,484],[450,484],[450,484],[650,690],[650,690],[650,690],[650,690],[650,690],[650,690],[650,690],[650,690],[650,690],[550,587],[550,587],[550,587],[550,587],[550,587],[450,482],[450,482],[450,482],[450,482],[450,482],[450,482],[450,482],[450,482],[450,482],[450,482],[450,482],[450,482],[450,482],[450,482],[450,482],[450,482],[450,482],[450,482],[450,482],[450,482],[450,482],[650,695],[650,695],[650,695],[650,695],[650,695],[550,587],[550,587],[550,587],[550,587],[750,796],[750,796],[750,796],[750,796],[750,796],[750,796],[750,796],[550,585],[550,585],[550,585],[550,585],[550,585],[550,585],[550,585],[550,585],[550,585],[550,585],[550,585],[550,585],[550,585],[550,585],[550,585],[550,585],[750,795],[750,795],[750,795],[750,795],[750,795],[750,795],[750,795],[750,795],[750,795],[750,795],[750,795],[750,795],[750,795],[750,795],[750,795],[750,795],[750,795],[750,795],[750,795],[750,795],[750,795],[750,795],[750,795],[750,795]]}},\"id\":\"bd40c980-e80d-4c51-ba26-5dfcc72799e4\",\"type\":\"ColumnDataSource\"},{\"attributes\":{\"below\":[{\"id\":\"de9a88a1-ca1f-4199-9e4f-8003bd5def16\",\"type\":\"LinearAxis\"}],\"left\":[{\"id\":\"7b618de4-e613-44b4-a8e6-9b6c9f64d020\",\"type\":\"LinearAxis\"}],\"plot_height\":900,\"plot_width\":900,\"renderers\":[{\"id\":\"de9a88a1-ca1f-4199-9e4f-8003bd5def16\",\"type\":\"LinearAxis\"},{\"id\":\"c2149526-6bef-40bf-abca-ed3dd2bbef70\",\"type\":\"Grid\"},{\"id\":\"7b618de4-e613-44b4-a8e6-9b6c9f64d020\",\"type\":\"LinearAxis\"},{\"id\":\"0bfb283d-5836-4b34-bde1-63157ff2b190\",\"type\":\"Grid\"},{\"id\":\"fc5b6428-29f9-4ac5-b662-a99518e6b1a7\",\"type\":\"BoxAnnotation\"},{\"id\":\"1c2b74c9-e271-4e59-8af4-1316eccc7c9f\",\"type\":\"GlyphRenderer\"},{\"id\":\"24f6db48-4ff0-4fd3-b55d-fbbf35133633\",\"type\":\"GlyphRenderer\"},{\"id\":\"4fc39dee-35c0-4cee-824c-c22c4ef43401\",\"type\":\"LabelSet\"},{\"id\":\"9a5441c3-16e3-4fd3-af59-83459fc7345d\",\"type\":\"GlyphRenderer\"},{\"id\":\"f6a12dbf-0f59-404a-abd2-07fbd5d4e543\",\"type\":\"LabelSet\"}],\"title\":{\"id\":\"e1f6cc88-3d9d-46ac-84d9-129ef1d3c2c8\",\"type\":\"Title\"},\"tool_events\":{\"id\":\"ebd8ca9c-a7a0-493b-a222-a436accb9afd\",\"type\":\"ToolEvents\"},\"toolbar\":{\"id\":\"26908d02-8055-4966-a987-11fc0749b97a\",\"type\":\"Toolbar\"},\"toolbar_location\":null,\"x_range\":{\"id\":\"a6fc2399-215c-4380-9594-e1d2a917feb8\",\"type\":\"Range1d\"},\"y_range\":{\"id\":\"9f0a2bda-8ef6-4751-a99a-73f32e8327e7\",\"type\":\"Range1d\"}},\"id\":\"d9c08859-3727-400b-b263-07ec7a72bbc9\",\"subtype\":\"Figure\",\"type\":\"Plot\"},{\"attributes\":{\"bottom_units\":\"screen\",\"fill_alpha\":{\"value\":0.5},\"fill_color\":{\"value\":\"lightgrey\"},\"left_units\":\"screen\",\"level\":\"overlay\",\"line_alpha\":{\"value\":1.0},\"line_color\":{\"value\":\"black\"},\"line_dash\":[4,4],\"line_width\":{\"value\":2},\"plot\":null,\"render_mode\":\"css\",\"right_units\":\"screen\",\"top_units\":\"screen\"},\"id\":\"fc5b6428-29f9-4ac5-b662-a99518e6b1a7\",\"type\":\"BoxAnnotation\"},{\"attributes\":{},\"id\":\"d6fde75f-7cf0-4223-a399-e04ad69c9a40\",\"type\":\"BasicTickFormatter\"},{\"attributes\":{\"line_alpha\":{\"value\":0.1},\"line_color\":{\"value\":\"#1f77b4\"},\"xs\":{\"field\":\"xs\"},\"ys\":{\"field\":\"ys\"}},\"id\":\"348201a7-f5ab-4ace-89c8-3f5822c43571\",\"type\":\"MultiLine\"},{\"attributes\":{},\"id\":\"ebd8ca9c-a7a0-493b-a222-a436accb9afd\",\"type\":\"ToolEvents\"},{\"attributes\":{\"callback\":null,\"column_names\":[\"y\",\"x\",\"vals\"],\"data\":{\"vals\":[\"RAB3GAP1\",\"ZRANB3\",\"R3HDM1\",\"UBXN4\",\"LCT\",\"MCM6\",\"DARS\"],\"x\":[135869057.0,136122878.0,136385961.0,136520911.0,136570082.5,136615621.5,136703738.0],\"y\":[860.0,860.0,860.0,860.0,860.0,860.0,860.0]}},\"id\":\"d5f3c27d-de95-4eab-8caf-6fd077da42dd\",\"type\":\"ColumnDataSource\"},{\"attributes\":{\"plot\":{\"id\":\"d9c08859-3727-400b-b263-07ec7a72bbc9\",\"subtype\":\"Figure\",\"type\":\"Plot\"}},\"id\":\"43b2c4bc-5423-457c-8db0-e5d9ef79a27c\",\"type\":\"WheelZoomTool\"},{\"attributes\":{\"plot\":null,\"text\":null},\"id\":\"e1f6cc88-3d9d-46ac-84d9-129ef1d3c2c8\",\"type\":\"Title\"},{\"attributes\":{\"level\":\"glyph\",\"plot\":{\"id\":\"d9c08859-3727-400b-b263-07ec7a72bbc9\",\"subtype\":\"Figure\",\"type\":\"Plot\"},\"source\":{\"id\":\"d5f3c27d-de95-4eab-8caf-6fd077da42dd\",\"type\":\"ColumnDataSource\"},\"text\":{\"field\":\"vals\"},\"text_align\":\"center\",\"text_baseline\":\"middle\",\"text_font_size\":{\"value\":\"8pt\"},\"x\":{\"field\":\"x\"},\"y\":{\"field\":\"y\"}},\"id\":\"f6a12dbf-0f59-404a-abd2-07fbd5d4e543\",\"type\":\"LabelSet\"}],\"root_ids\":[\"d9c08859-3727-400b-b263-07ec7a72bbc9\"]},\"title\":\"Bokeh Application\",\"version\":\"0.12.0\"}};\n",
       "            var render_items = [{\"docid\":\"96439b46-a02b-4fda-bb1a-8d369d8dd512\",\"elementid\":\"a20c215b-d665-4461-92d8-b94e26d4a081\",\"modelid\":\"d9c08859-3727-400b-b263-07ec7a72bbc9\",\"notebook_comms_target\":\"129d35be-70d5-4055-8d66-b3476380d590\"}];\n",
       "            \n",
       "            Bokeh.embed.embed_items(docs_json, render_items);\n",
       "        });\n",
       "      },\n",
       "      function(Bokeh) {\n",
       "      }\n",
       "    ];\n",
       "  \n",
       "    function run_inline_js() {\n",
       "      for (var i = 0; i < inline_js.length; i++) {\n",
       "        inline_js[i](window.Bokeh);\n",
       "      }\n",
       "    }\n",
       "  \n",
       "    if (window._bokeh_is_loading === 0) {\n",
       "      console.log(\"Bokeh: BokehJS loaded, going straight to plotting\");\n",
       "      run_inline_js();\n",
       "    } else {\n",
       "      load_libs(js_urls, function() {\n",
       "        console.log(\"Bokeh: BokehJS plotting callback run at\", now());\n",
       "        run_inline_js();\n",
       "      });\n",
       "    }\n",
       "  }(this));\n",
       "</script>"
      ]
     },
     "metadata": {},
     "output_type": "display_data"
    },
    {
     "data": {
      "text/html": [
       "<p><code>&lt;Bokeh Notebook handle for <strong>In[7]</strong>&gt;</code></p>"
      ],
      "text/plain": [
       "<bokeh.io._CommsHandle at 0x7f360781c510>"
      ]
     },
     "execution_count": 7,
     "metadata": {},
     "output_type": "execute_result"
    }
   ],
   "source": [
    "plt_obj = dm.superset_yes_no([dm.di_49_136], [dm.di_13_1696], min_match=0.5)\n",
    "plt = plt_obj.do_plot()\n",
    "show(plt)"
   ]
  },
  {
   "cell_type": "code",
   "execution_count": 8,
   "metadata": {
    "collapsed": false
   },
   "outputs": [
    {
     "data": {
      "text/html": [
       "<table>\n",
       "<thead><tr><th style=\"text-align:center\">index</th><th style=\"text-align:center\">first</th><th style=\"text-align:center\">length</th><th style=\"text-align:center\">snps</th><th style=\"text-align:center\" colspan=2>alleles</th><th style=\"text-align:center\" colspan=2>matches</th><th style=\"text-align:center\" colspan=2>afr</th><th style=\"text-align:center\" colspan=2>afx</th><th style=\"text-align:center\" colspan=2>amr</th><th style=\"text-align:center\" colspan=2>eas</th><th style=\"text-align:center\" colspan=2>eur</th><th style=\"text-align:center\" colspan=2>sas</th><th style=\"text-align:center\" colspan=2>sax</th></tr></thead>\n",
       "<tr class=\"even\"><td style=\"text-align: right;\">354033</td><td style=\"text-align: right;\">136,588,031</td><td style=\"text-align: right;\">5,647</td><td style=\"text-align: right;\">7</td><td style=\"text-align: right;\">1760</td><td style=\"text-align: right;\">0.02</td><td style=\"text-align: right;\">40</td><td style=\"text-align: right;\">0.65</td><td style=\"text-align: right;\">31</td><td style=\"text-align: right;\">5.02</td><td style=\"text-align: right;\">9</td><td style=\"text-align: right;\">4.31</td><td style=\"text-align: right;\">0</td><td style=\"text-align: right;\">0.00</td><td style=\"text-align: right;\">0</td><td style=\"text-align: right;\">0.00</td><td style=\"text-align: right;\">0</td><td style=\"text-align: right;\">0.00</td><td style=\"text-align: right;\">0</td><td style=\"text-align: right;\">0.00</td><td style=\"text-align: right;\">0</td><td style=\"text-align: right;\">0.00</td></tr>\n",
       "<tr><td style=\"text-align: right;\">353244</td><td style=\"text-align: right;\">135,758,231</td><td style=\"text-align: right;\">618,284</td><td style=\"text-align: right;\">117</td><td style=\"text-align: right;\">1685</td><td style=\"text-align: right;\">0.04</td><td style=\"text-align: right;\">62</td><td style=\"text-align: right;\">1.00</td><td style=\"text-align: right;\">47</td><td style=\"text-align: right;\">4.91</td><td style=\"text-align: right;\">14</td><td style=\"text-align: right;\">4.32</td><td style=\"text-align: right;\">1</td><td style=\"text-align: right;\">0.10</td><td style=\"text-align: right;\">0</td><td style=\"text-align: right;\">0.00</td><td style=\"text-align: right;\">0</td><td style=\"text-align: right;\">0.00</td><td style=\"text-align: right;\">0</td><td style=\"text-align: right;\">0.00</td><td style=\"text-align: right;\">0</td><td style=\"text-align: right;\">0.00</td></tr>\n",
       "<tr class=\"even\"><td style=\"text-align: right;\">354130</td><td style=\"text-align: right;\">136,653,925</td><td style=\"text-align: right;\">107,928</td><td style=\"text-align: right;\">24</td><td style=\"text-align: right;\">1504</td><td style=\"text-align: right;\">0.02</td><td style=\"text-align: right;\">31</td><td style=\"text-align: right;\">0.50</td><td style=\"text-align: right;\">20</td><td style=\"text-align: right;\">4.18</td><td style=\"text-align: right;\">10</td><td style=\"text-align: right;\">6.18</td><td style=\"text-align: right;\">1</td><td style=\"text-align: right;\">0.20</td><td style=\"text-align: right;\">0</td><td style=\"text-align: right;\">0.00</td><td style=\"text-align: right;\">0</td><td style=\"text-align: right;\">0.00</td><td style=\"text-align: right;\">0</td><td style=\"text-align: right;\">0.00</td><td style=\"text-align: right;\">0</td><td style=\"text-align: right;\">0.00</td></tr>\n",
       "<tr><td style=\"text-align: right;\">353814</td><td style=\"text-align: right;\">136,406,646</td><td style=\"text-align: right;\">31,432</td><td style=\"text-align: right;\">5</td><td style=\"text-align: right;\">1460</td><td style=\"text-align: right;\">0.03</td><td style=\"text-align: right;\">47</td><td style=\"text-align: right;\">0.76</td><td style=\"text-align: right;\">34</td><td style=\"text-align: right;\">4.69</td><td style=\"text-align: right;\">13</td><td style=\"text-align: right;\">5.30</td><td style=\"text-align: right;\">0</td><td style=\"text-align: right;\">0.00</td><td style=\"text-align: right;\">0</td><td style=\"text-align: right;\">0.00</td><td style=\"text-align: right;\">0</td><td style=\"text-align: right;\">0.00</td><td style=\"text-align: right;\">0</td><td style=\"text-align: right;\">0.00</td><td style=\"text-align: right;\">0</td><td style=\"text-align: right;\">0.00</td></tr>\n",
       "<tr class=\"even\"><td style=\"text-align: right;\">353729</td><td style=\"text-align: right;\">136,309,239</td><td style=\"text-align: right;\">52,321</td><td style=\"text-align: right;\">9</td><td style=\"text-align: right;\">887</td><td style=\"text-align: right;\">0.07</td><td style=\"text-align: right;\">62</td><td style=\"text-align: right;\">1.00</td><td style=\"text-align: right;\">47</td><td style=\"text-align: right;\">4.91</td><td style=\"text-align: right;\">14</td><td style=\"text-align: right;\">4.32</td><td style=\"text-align: right;\">1</td><td style=\"text-align: right;\">0.10</td><td style=\"text-align: right;\">0</td><td style=\"text-align: right;\">0.00</td><td style=\"text-align: right;\">0</td><td style=\"text-align: right;\">0.00</td><td style=\"text-align: right;\">0</td><td style=\"text-align: right;\">0.00</td><td style=\"text-align: right;\">0</td><td style=\"text-align: right;\">0.00</td></tr>\n",
       "<tr><td style=\"text-align: right;\">353312</td><td style=\"text-align: right;\">135,784,351</td><td style=\"text-align: right;\">117,869</td><td style=\"text-align: right;\">8</td><td style=\"text-align: right;\">718</td><td style=\"text-align: right;\">0.09</td><td style=\"text-align: right;\">62</td><td style=\"text-align: right;\">1.00</td><td style=\"text-align: right;\">47</td><td style=\"text-align: right;\">4.91</td><td style=\"text-align: right;\">14</td><td style=\"text-align: right;\">4.32</td><td style=\"text-align: right;\">1</td><td style=\"text-align: right;\">0.10</td><td style=\"text-align: right;\">0</td><td style=\"text-align: right;\">0.00</td><td style=\"text-align: right;\">0</td><td style=\"text-align: right;\">0.00</td><td style=\"text-align: right;\">0</td><td style=\"text-align: right;\">0.00</td><td style=\"text-align: right;\">0</td><td style=\"text-align: right;\">0.00</td></tr>\n",
       "<tr class=\"even\"><td style=\"text-align: right;\">353851</td><td style=\"text-align: right;\">136,448,855</td><td style=\"text-align: right;\">17,976</td><td style=\"text-align: right;\">4</td><td style=\"text-align: right;\">612</td><td style=\"text-align: right;\">0.06</td><td style=\"text-align: right;\">38</td><td style=\"text-align: right;\">0.61</td><td style=\"text-align: right;\">29</td><td style=\"text-align: right;\">4.95</td><td style=\"text-align: right;\">9</td><td style=\"text-align: right;\">4.53</td><td style=\"text-align: right;\">0</td><td style=\"text-align: right;\">0.00</td><td style=\"text-align: right;\">0</td><td style=\"text-align: right;\">0.00</td><td style=\"text-align: right;\">0</td><td style=\"text-align: right;\">0.00</td><td style=\"text-align: right;\">0</td><td style=\"text-align: right;\">0.00</td><td style=\"text-align: right;\">0</td><td style=\"text-align: right;\">0.00</td></tr>\n",
       "<tr><td style=\"text-align: right;\">353764</td><td style=\"text-align: right;\">136,364,916</td><td style=\"text-align: right;\">22,977</td><td style=\"text-align: right;\">5</td><td style=\"text-align: right;\">588</td><td style=\"text-align: right;\">0.11</td><td style=\"text-align: right;\">62</td><td style=\"text-align: right;\">1.00</td><td style=\"text-align: right;\">47</td><td style=\"text-align: right;\">4.91</td><td style=\"text-align: right;\">14</td><td style=\"text-align: right;\">4.32</td><td style=\"text-align: right;\">1</td><td style=\"text-align: right;\">0.10</td><td style=\"text-align: right;\">0</td><td style=\"text-align: right;\">0.00</td><td style=\"text-align: right;\">0</td><td style=\"text-align: right;\">0.00</td><td style=\"text-align: right;\">0</td><td style=\"text-align: right;\">0.00</td><td style=\"text-align: right;\">0</td><td style=\"text-align: right;\">0.00</td></tr>\n",
       "<tr class=\"even\"><td style=\"text-align: right;\">353349</td><td style=\"text-align: right;\">135,810,535</td><td style=\"text-align: right;\">87,488</td><td style=\"text-align: right;\">9</td><td style=\"text-align: right;\">545</td><td style=\"text-align: right;\">0.11</td><td style=\"text-align: right;\">62</td><td style=\"text-align: right;\">1.00</td><td style=\"text-align: right;\">47</td><td style=\"text-align: right;\">4.91</td><td style=\"text-align: right;\">14</td><td style=\"text-align: right;\">4.32</td><td style=\"text-align: right;\">1</td><td style=\"text-align: right;\">0.10</td><td style=\"text-align: right;\">0</td><td style=\"text-align: right;\">0.00</td><td style=\"text-align: right;\">0</td><td style=\"text-align: right;\">0.00</td><td style=\"text-align: right;\">0</td><td style=\"text-align: right;\">0.00</td><td style=\"text-align: right;\">0</td><td style=\"text-align: right;\">0.00</td></tr>\n",
       "<tr><td style=\"text-align: right;\">354061</td><td style=\"text-align: right;\">136,603,638</td><td style=\"text-align: right;\">28,487</td><td style=\"text-align: right;\">16</td><td style=\"text-align: right;\">511</td><td style=\"text-align: right;\">0.06</td><td style=\"text-align: right;\">31</td><td style=\"text-align: right;\">0.50</td><td style=\"text-align: right;\">25</td><td style=\"text-align: right;\">5.23</td><td style=\"text-align: right;\">6</td><td style=\"text-align: right;\">3.71</td><td style=\"text-align: right;\">0</td><td style=\"text-align: right;\">0.00</td><td style=\"text-align: right;\">0</td><td style=\"text-align: right;\">0.00</td><td style=\"text-align: right;\">0</td><td style=\"text-align: right;\">0.00</td><td style=\"text-align: right;\">0</td><td style=\"text-align: right;\">0.00</td><td style=\"text-align: right;\">0</td><td style=\"text-align: right;\">0.00</td></tr>\n",
       "<tr class=\"even\"><td style=\"text-align: right;\">353614</td><td style=\"text-align: right;\">136,115,507</td><td style=\"text-align: right;\">269,773</td><td style=\"text-align: right;\">28</td><td style=\"text-align: right;\">434</td><td style=\"text-align: right;\">0.14</td><td style=\"text-align: right;\">62</td><td style=\"text-align: right;\">1.00</td><td style=\"text-align: right;\">47</td><td style=\"text-align: right;\">4.91</td><td style=\"text-align: right;\">14</td><td style=\"text-align: right;\">4.32</td><td style=\"text-align: right;\">1</td><td style=\"text-align: right;\">0.10</td><td style=\"text-align: right;\">0</td><td style=\"text-align: right;\">0.00</td><td style=\"text-align: right;\">0</td><td style=\"text-align: right;\">0.00</td><td style=\"text-align: right;\">0</td><td style=\"text-align: right;\">0.00</td><td style=\"text-align: right;\">0</td><td style=\"text-align: right;\">0.00</td></tr>\n",
       "<tr><td style=\"text-align: right;\">353804</td><td style=\"text-align: right;\">136,402,778</td><td style=\"text-align: right;\">90,652</td><td style=\"text-align: right;\">21</td><td style=\"text-align: right;\">332</td><td style=\"text-align: right;\">0.11</td><td style=\"text-align: right;\">38</td><td style=\"text-align: right;\">0.61</td><td style=\"text-align: right;\">29</td><td style=\"text-align: right;\">4.95</td><td style=\"text-align: right;\">9</td><td style=\"text-align: right;\">4.53</td><td style=\"text-align: right;\">0</td><td style=\"text-align: right;\">0.00</td><td style=\"text-align: right;\">0</td><td style=\"text-align: right;\">0.00</td><td style=\"text-align: right;\">0</td><td style=\"text-align: right;\">0.00</td><td style=\"text-align: right;\">0</td><td style=\"text-align: right;\">0.00</td><td style=\"text-align: right;\">0</td><td style=\"text-align: right;\">0.00</td></tr>\n",
       "<tr class=\"even\"><td style=\"text-align: right;\">353538</td><td style=\"text-align: right;\">136,008,173</td><td style=\"text-align: right;\">373,078</td><td style=\"text-align: right;\">70</td><td style=\"text-align: right;\">166</td><td style=\"text-align: right;\">0.37</td><td style=\"text-align: right;\">62</td><td style=\"text-align: right;\">1.00</td><td style=\"text-align: right;\">47</td><td style=\"text-align: right;\">4.91</td><td style=\"text-align: right;\">14</td><td style=\"text-align: right;\">4.32</td><td style=\"text-align: right;\">1</td><td style=\"text-align: right;\">0.10</td><td style=\"text-align: right;\">0</td><td style=\"text-align: right;\">0.00</td><td style=\"text-align: right;\">0</td><td style=\"text-align: right;\">0.00</td><td style=\"text-align: right;\">0</td><td style=\"text-align: right;\">0.00</td><td style=\"text-align: right;\">0</td><td style=\"text-align: right;\">0.00</td></tr>\n",
       "<tr><td style=\"text-align: right;\">353304</td><td style=\"text-align: right;\">135,780,924</td><td style=\"text-align: right;\">236,215</td><td style=\"text-align: right;\">49</td><td style=\"text-align: right;\">136</td><td style=\"text-align: right;\">0.46</td><td style=\"text-align: right;\">62</td><td style=\"text-align: right;\">1.00</td><td style=\"text-align: right;\">47</td><td style=\"text-align: right;\">4.91</td><td style=\"text-align: right;\">14</td><td style=\"text-align: right;\">4.32</td><td style=\"text-align: right;\">1</td><td style=\"text-align: right;\">0.10</td><td style=\"text-align: right;\">0</td><td style=\"text-align: right;\">0.00</td><td style=\"text-align: right;\">0</td><td style=\"text-align: right;\">0.00</td><td style=\"text-align: right;\">0</td><td style=\"text-align: right;\">0.00</td><td style=\"text-align: right;\">0</td><td style=\"text-align: right;\">0.00</td></tr>\n",
       "<tr class=\"even\"><td style=\"text-align: right;\">353581</td><td style=\"text-align: right;\">136,056,699</td><td style=\"text-align: right;\">377,203</td><td style=\"text-align: right;\">5</td><td style=\"text-align: right;\">69</td><td style=\"text-align: right;\">0.61</td><td style=\"text-align: right;\">42</td><td style=\"text-align: right;\">0.68</td><td style=\"text-align: right;\">30</td><td style=\"text-align: right;\">4.63</td><td style=\"text-align: right;\">12</td><td style=\"text-align: right;\">5.47</td><td style=\"text-align: right;\">0</td><td style=\"text-align: right;\">0.00</td><td style=\"text-align: right;\">0</td><td style=\"text-align: right;\">0.00</td><td style=\"text-align: right;\">0</td><td style=\"text-align: right;\">0.00</td><td style=\"text-align: right;\">0</td><td style=\"text-align: right;\">0.00</td><td style=\"text-align: right;\">0</td><td style=\"text-align: right;\">0.00</td></tr>\n",
       "<tr><td style=\"text-align: right;\">353247</td><td style=\"text-align: right;\">135,758,713</td><td style=\"text-align: right;\">19,520</td><td style=\"text-align: right;\">6</td><td style=\"text-align: right;\">68</td><td style=\"text-align: right;\">0.90</td><td style=\"text-align: right;\">61</td><td style=\"text-align: right;\">0.98</td><td style=\"text-align: right;\">47</td><td style=\"text-align: right;\">4.99</td><td style=\"text-align: right;\">13</td><td style=\"text-align: right;\">4.08</td><td style=\"text-align: right;\">1</td><td style=\"text-align: right;\">0.10</td><td style=\"text-align: right;\">0</td><td style=\"text-align: right;\">0.00</td><td style=\"text-align: right;\">0</td><td style=\"text-align: right;\">0.00</td><td style=\"text-align: right;\">0</td><td style=\"text-align: right;\">0.00</td><td style=\"text-align: right;\">0</td><td style=\"text-align: right;\">0.00</td></tr>\n",
       "<tr class=\"even\"><td style=\"text-align: right;\">353354</td><td style=\"text-align: right;\">135,814,021</td><td style=\"text-align: right;\">610,527</td><td style=\"text-align: right;\">14</td><td style=\"text-align: right;\">40</td><td style=\"text-align: right;\">1.00</td><td style=\"text-align: right;\">40</td><td style=\"text-align: right;\">0.65</td><td style=\"text-align: right;\">30</td><td style=\"text-align: right;\">4.86</td><td style=\"text-align: right;\">10</td><td style=\"text-align: right;\">4.79</td><td style=\"text-align: right;\">0</td><td style=\"text-align: right;\">0.00</td><td style=\"text-align: right;\">0</td><td style=\"text-align: right;\">0.00</td><td style=\"text-align: right;\">0</td><td style=\"text-align: right;\">0.00</td><td style=\"text-align: right;\">0</td><td style=\"text-align: right;\">0.00</td><td style=\"text-align: right;\">0</td><td style=\"text-align: right;\">0.00</td></tr>\n",
       "</table>"
      ],
      "text/plain": [
       "<IPython.core.display.HTML object>"
      ]
     },
     "execution_count": 8,
     "metadata": {},
     "output_type": "execute_result"
    }
   ],
   "source": [
    "HTML(plt_obj.get_html())"
   ]
  },
  {
   "cell_type": "code",
   "execution_count": 9,
   "metadata": {
    "collapsed": false
   },
   "outputs": [
    {
     "data": {
      "text/plain": [
       "array([(0, 4823), (1, 33), (3, 6), (4, 1), (10, 2), (38, 1), (40, 4),\n",
       "       (41, 2), (44, 5), (45, 2), (47, 1), (48, 3), (49, 125)], \n",
       "      dtype=[('count', '<u2'), ('snps', '<u2')])"
      ]
     },
     "execution_count": 9,
     "metadata": {},
     "output_type": "execute_result"
    }
   ],
   "source": [
    "count_data = sa_49_136.unique_snps_per_allele()\n",
    "count_data"
   ]
  },
  {
   "cell_type": "code",
   "execution_count": 10,
   "metadata": {
    "collapsed": false
   },
   "outputs": [
    {
     "data": {
      "text/html": [
       "\n",
       "\n",
       "    <div class=\"bk-root\">\n",
       "        <div class=\"plotdiv\" id=\"d1494c23-0538-48cb-949d-9903f9fc6583\"></div>\n",
       "    </div>\n",
       "<script type=\"text/javascript\">\n",
       "  \n",
       "  (function(global) {\n",
       "    function now() {\n",
       "      return new Date();\n",
       "    }\n",
       "  \n",
       "    if (typeof (window._bokeh_onload_callbacks) === \"undefined\") {\n",
       "      window._bokeh_onload_callbacks = [];\n",
       "    }\n",
       "  \n",
       "    function run_callbacks() {\n",
       "      window._bokeh_onload_callbacks.forEach(function(callback) { callback() });\n",
       "      delete window._bokeh_onload_callbacks\n",
       "      console.info(\"Bokeh: all callbacks have finished\");\n",
       "    }\n",
       "  \n",
       "    function load_libs(js_urls, callback) {\n",
       "      window._bokeh_onload_callbacks.push(callback);\n",
       "      if (window._bokeh_is_loading > 0) {\n",
       "        console.log(\"Bokeh: BokehJS is being loaded, scheduling callback at\", now());\n",
       "        return null;\n",
       "      }\n",
       "      if (js_urls == null || js_urls.length === 0) {\n",
       "        run_callbacks();\n",
       "        return null;\n",
       "      }\n",
       "      console.log(\"Bokeh: BokehJS not loaded, scheduling load and callback at\", now());\n",
       "      window._bokeh_is_loading = js_urls.length;\n",
       "      for (var i = 0; i < js_urls.length; i++) {\n",
       "        var url = js_urls[i];\n",
       "        var s = document.createElement('script');\n",
       "        s.src = url;\n",
       "        s.async = false;\n",
       "        s.onreadystatechange = s.onload = function() {\n",
       "          window._bokeh_is_loading--;\n",
       "          if (window._bokeh_is_loading === 0) {\n",
       "            console.log(\"Bokeh: all BokehJS libraries loaded\");\n",
       "            run_callbacks()\n",
       "          }\n",
       "        };\n",
       "        s.onerror = function() {\n",
       "          console.warn(\"failed to load library \" + url);\n",
       "        };\n",
       "        console.log(\"Bokeh: injecting script tag for BokehJS library: \", url);\n",
       "        document.getElementsByTagName(\"head\")[0].appendChild(s);\n",
       "      }\n",
       "    };var element = document.getElementById(\"d1494c23-0538-48cb-949d-9903f9fc6583\");\n",
       "    if (element == null) {\n",
       "      console.log(\"Bokeh: ERROR: autoload.js configured with elementid 'd1494c23-0538-48cb-949d-9903f9fc6583' but no matching script tag was found. \")\n",
       "      return false;\n",
       "    }\n",
       "  \n",
       "    var js_urls = [];\n",
       "  \n",
       "    var inline_js = [\n",
       "      function(Bokeh) {\n",
       "        Bokeh.$(function() {\n",
       "            var docs_json = {\"4c24171b-3724-43d4-a8d0-78809d5b81ee\":{\"roots\":{\"references\":[{\"attributes\":{\"callback\":null,\"end\":75.9},\"id\":\"a2eb7c0f-de9a-476f-9b40-8fbce83aeb59\",\"type\":\"Range1d\"},{\"attributes\":{},\"id\":\"9beb2491-b820-4319-ad52-db7a2fa1a1fe\",\"type\":\"BasicTicker\"},{\"attributes\":{\"below\":[{\"id\":\"5adb3b94-b9ea-4abb-991a-6cf86e599a02\",\"type\":\"LinearAxis\"}],\"left\":[{\"id\":\"bb2f4ad1-a91a-4458-83c6-694e9ad6fbf7\",\"type\":\"LinearAxis\"}],\"plot_height\":400,\"plot_width\":900,\"renderers\":[{\"id\":\"5adb3b94-b9ea-4abb-991a-6cf86e599a02\",\"type\":\"LinearAxis\"},{\"id\":\"ee1c0abe-bc5f-473c-b7f3-49e31505928f\",\"type\":\"Grid\"},{\"id\":\"bb2f4ad1-a91a-4458-83c6-694e9ad6fbf7\",\"type\":\"LinearAxis\"},{\"id\":\"6d6dc825-bea1-48e2-911b-5fc59f2680e0\",\"type\":\"Grid\"},{\"id\":\"6265224c-535c-4868-8aed-1986f24114eb\",\"type\":\"BoxAnnotation\"},{\"id\":\"9df0bdfc-54bb-4824-aebc-3056d8829aa9\",\"type\":\"GlyphRenderer\"}],\"title\":{\"id\":\"3897a7c4-a3f6-4368-a961-afa1091f3ffb\",\"type\":\"Title\"},\"tool_events\":{\"id\":\"42ca9f85-4e47-44ca-a5be-9561a7ec1ab4\",\"type\":\"ToolEvents\"},\"toolbar\":{\"id\":\"8279aa19-0b68-43ce-9344-3063b7aa2716\",\"type\":\"Toolbar\"},\"toolbar_location\":null,\"x_range\":{\"id\":\"69127fcb-8fea-4a8e-8a78-6e6e0a8aa6d6\",\"type\":\"Range1d\"},\"y_range\":{\"id\":\"a2eb7c0f-de9a-476f-9b40-8fbce83aeb59\",\"type\":\"Range1d\"}},\"id\":\"2b18ff92-65ae-4ed8-b57c-9942a862c43b\",\"subtype\":\"Figure\",\"type\":\"Plot\"},{\"attributes\":{\"callback\":null,\"column_names\":[\"y\",\"x\"],\"data\":{\"x\":[-0.5,-0.5,104.5,104.5,105.5,105.5,106.5,106.5,107.5,107.5,113.5,113.5,114.5,114.5,115.5,115.5,116.5,116.5],\"y\":[0.0,0.0,0.0,3.0,3.0,69.0,69.0,2.0,2.0,0.0,0.0,2.0,2.0,7.0,7.0,53.0,53.0,0.0]}},\"id\":\"260b681c-d616-4ff6-8199-57ce80a30e72\",\"type\":\"ColumnDataSource\"},{\"attributes\":{\"data_source\":{\"id\":\"260b681c-d616-4ff6-8199-57ce80a30e72\",\"type\":\"ColumnDataSource\"},\"glyph\":{\"id\":\"0af6f583-4bbd-4133-9f14-eeda30323218\",\"type\":\"Line\"},\"hover_glyph\":null,\"nonselection_glyph\":{\"id\":\"419a9afa-8d08-453a-814e-8ee2dcf8c437\",\"type\":\"Line\"},\"selection_glyph\":null},\"id\":\"9df0bdfc-54bb-4824-aebc-3056d8829aa9\",\"type\":\"GlyphRenderer\"},{\"attributes\":{\"bottom_units\":\"screen\",\"fill_alpha\":{\"value\":0.5},\"fill_color\":{\"value\":\"lightgrey\"},\"left_units\":\"screen\",\"level\":\"overlay\",\"line_alpha\":{\"value\":1.0},\"line_color\":{\"value\":\"black\"},\"line_dash\":[4,4],\"line_width\":{\"value\":2},\"plot\":null,\"render_mode\":\"css\",\"right_units\":\"screen\",\"top_units\":\"screen\"},\"id\":\"6265224c-535c-4868-8aed-1986f24114eb\",\"type\":\"BoxAnnotation\"},{\"attributes\":{\"plot\":{\"id\":\"2b18ff92-65ae-4ed8-b57c-9942a862c43b\",\"subtype\":\"Figure\",\"type\":\"Plot\"}},\"id\":\"419d070a-f070-48a0-8547-67ab035fbe2a\",\"type\":\"HelpTool\"},{\"attributes\":{\"formatter\":{\"id\":\"cdfa0ed5-7e1b-40d9-9deb-1ef41428a77a\",\"type\":\"BasicTickFormatter\"},\"plot\":{\"id\":\"2b18ff92-65ae-4ed8-b57c-9942a862c43b\",\"subtype\":\"Figure\",\"type\":\"Plot\"},\"ticker\":{\"id\":\"9a3f7bec-d0e2-42b2-ba76-fcc85151de02\",\"type\":\"BasicTicker\"}},\"id\":\"5adb3b94-b9ea-4abb-991a-6cf86e599a02\",\"type\":\"LinearAxis\"},{\"attributes\":{},\"id\":\"fbfc86d4-1c0d-4a30-a6f7-67a4e7e6cb86\",\"type\":\"BasicTickFormatter\"},{\"attributes\":{},\"id\":\"cdfa0ed5-7e1b-40d9-9deb-1ef41428a77a\",\"type\":\"BasicTickFormatter\"},{\"attributes\":{\"formatter\":{\"id\":\"fbfc86d4-1c0d-4a30-a6f7-67a4e7e6cb86\",\"type\":\"BasicTickFormatter\"},\"plot\":{\"id\":\"2b18ff92-65ae-4ed8-b57c-9942a862c43b\",\"subtype\":\"Figure\",\"type\":\"Plot\"},\"ticker\":{\"id\":\"9beb2491-b820-4319-ad52-db7a2fa1a1fe\",\"type\":\"BasicTicker\"}},\"id\":\"bb2f4ad1-a91a-4458-83c6-694e9ad6fbf7\",\"type\":\"LinearAxis\"},{\"attributes\":{},\"id\":\"9a3f7bec-d0e2-42b2-ba76-fcc85151de02\",\"type\":\"BasicTicker\"},{\"attributes\":{\"callback\":null,\"end\":117.5,\"start\":-0.5},\"id\":\"69127fcb-8fea-4a8e-8a78-6e6e0a8aa6d6\",\"type\":\"Range1d\"},{\"attributes\":{\"plot\":{\"id\":\"2b18ff92-65ae-4ed8-b57c-9942a862c43b\",\"subtype\":\"Figure\",\"type\":\"Plot\"}},\"id\":\"416f7a4b-04f5-4856-9737-c4121028c863\",\"type\":\"PanTool\"},{\"attributes\":{},\"id\":\"42ca9f85-4e47-44ca-a5be-9561a7ec1ab4\",\"type\":\"ToolEvents\"},{\"attributes\":{\"plot\":{\"id\":\"2b18ff92-65ae-4ed8-b57c-9942a862c43b\",\"subtype\":\"Figure\",\"type\":\"Plot\"},\"ticker\":{\"id\":\"9a3f7bec-d0e2-42b2-ba76-fcc85151de02\",\"type\":\"BasicTicker\"}},\"id\":\"ee1c0abe-bc5f-473c-b7f3-49e31505928f\",\"type\":\"Grid\"},{\"attributes\":{\"plot\":{\"id\":\"2b18ff92-65ae-4ed8-b57c-9942a862c43b\",\"subtype\":\"Figure\",\"type\":\"Plot\"}},\"id\":\"3313f651-14f8-4367-b72d-a9b033504273\",\"type\":\"SaveTool\"},{\"attributes\":{\"dimension\":1,\"plot\":{\"id\":\"2b18ff92-65ae-4ed8-b57c-9942a862c43b\",\"subtype\":\"Figure\",\"type\":\"Plot\"},\"ticker\":{\"id\":\"9beb2491-b820-4319-ad52-db7a2fa1a1fe\",\"type\":\"BasicTicker\"}},\"id\":\"6d6dc825-bea1-48e2-911b-5fc59f2680e0\",\"type\":\"Grid\"},{\"attributes\":{\"line_color\":{\"value\":\"#1f77b4\"},\"x\":{\"field\":\"x\"},\"y\":{\"field\":\"y\"}},\"id\":\"0af6f583-4bbd-4133-9f14-eeda30323218\",\"type\":\"Line\"},{\"attributes\":{\"plot\":{\"id\":\"2b18ff92-65ae-4ed8-b57c-9942a862c43b\",\"subtype\":\"Figure\",\"type\":\"Plot\"}},\"id\":\"16dd5947-16ac-433b-be6e-e50c10a8f4ed\",\"type\":\"ResetTool\"},{\"attributes\":{\"overlay\":{\"id\":\"6265224c-535c-4868-8aed-1986f24114eb\",\"type\":\"BoxAnnotation\"},\"plot\":{\"id\":\"2b18ff92-65ae-4ed8-b57c-9942a862c43b\",\"subtype\":\"Figure\",\"type\":\"Plot\"}},\"id\":\"f3eeb420-588e-4be6-a667-7fc1bc92e36e\",\"type\":\"BoxZoomTool\"},{\"attributes\":{\"plot\":{\"id\":\"2b18ff92-65ae-4ed8-b57c-9942a862c43b\",\"subtype\":\"Figure\",\"type\":\"Plot\"}},\"id\":\"3408cbfd-d979-4343-a93a-06ff50d4c71f\",\"type\":\"WheelZoomTool\"},{\"attributes\":{\"active_drag\":\"auto\",\"active_scroll\":\"auto\",\"active_tap\":\"auto\",\"tools\":[{\"id\":\"416f7a4b-04f5-4856-9737-c4121028c863\",\"type\":\"PanTool\"},{\"id\":\"3408cbfd-d979-4343-a93a-06ff50d4c71f\",\"type\":\"WheelZoomTool\"},{\"id\":\"f3eeb420-588e-4be6-a667-7fc1bc92e36e\",\"type\":\"BoxZoomTool\"},{\"id\":\"3313f651-14f8-4367-b72d-a9b033504273\",\"type\":\"SaveTool\"},{\"id\":\"16dd5947-16ac-433b-be6e-e50c10a8f4ed\",\"type\":\"ResetTool\"},{\"id\":\"419d070a-f070-48a0-8547-67ab035fbe2a\",\"type\":\"HelpTool\"}]},\"id\":\"8279aa19-0b68-43ce-9344-3063b7aa2716\",\"type\":\"Toolbar\"},{\"attributes\":{\"line_alpha\":{\"value\":0.1},\"line_color\":{\"value\":\"#1f77b4\"},\"x\":{\"field\":\"x\"},\"y\":{\"field\":\"y\"}},\"id\":\"419a9afa-8d08-453a-814e-8ee2dcf8c437\",\"type\":\"Line\"},{\"attributes\":{\"plot\":null,\"text\":null},\"id\":\"3897a7c4-a3f6-4368-a961-afa1091f3ffb\",\"type\":\"Title\"}],\"root_ids\":[\"2b18ff92-65ae-4ed8-b57c-9942a862c43b\"]},\"title\":\"Bokeh Application\",\"version\":\"0.12.0\"}};\n",
       "            var render_items = [{\"docid\":\"4c24171b-3724-43d4-a8d0-78809d5b81ee\",\"elementid\":\"d1494c23-0538-48cb-949d-9903f9fc6583\",\"modelid\":\"2b18ff92-65ae-4ed8-b57c-9942a862c43b\",\"notebook_comms_target\":\"7dff45e8-290a-4b1e-ac14-3dff26fe7dcb\"}];\n",
       "            \n",
       "            Bokeh.embed.embed_items(docs_json, render_items);\n",
       "        });\n",
       "      },\n",
       "      function(Bokeh) {\n",
       "      }\n",
       "    ];\n",
       "  \n",
       "    function run_inline_js() {\n",
       "      for (var i = 0; i < inline_js.length; i++) {\n",
       "        inline_js[i](window.Bokeh);\n",
       "      }\n",
       "    }\n",
       "  \n",
       "    if (window._bokeh_is_loading === 0) {\n",
       "      console.log(\"Bokeh: BokehJS loaded, going straight to plotting\");\n",
       "      run_inline_js();\n",
       "    } else {\n",
       "      load_libs(js_urls, function() {\n",
       "        console.log(\"Bokeh: BokehJS plotting callback run at\", now());\n",
       "        run_inline_js();\n",
       "      });\n",
       "    }\n",
       "  }(this));\n",
       "</script>"
      ]
     },
     "metadata": {},
     "output_type": "display_data"
    },
    {
     "data": {
      "text/html": [
       "<p><code>&lt;Bokeh Notebook handle for <strong>In[10]</strong>&gt;</code></p>"
      ],
      "text/plain": [
       "<bokeh.io._CommsHandle at 0x7f3638211610>"
      ]
     },
     "execution_count": 10,
     "metadata": {},
     "output_type": "execute_result"
    }
   ],
   "source": [
    "count_data = sa_117_1685.unique_snps_per_allele(am_49_136)\n",
    "plt_obj = smcp(count_data)\n",
    "plt = plt_obj.do_plot()\n",
    "show(plt)"
   ]
  },
  {
   "cell_type": "code",
   "execution_count": 11,
   "metadata": {
    "collapsed": false
   },
   "outputs": [
    {
     "data": {
      "text/plain": [
       "array([(105, 3), (106, 69), (107, 2), (114, 2), (115, 7), (116, 53)], \n",
       "      dtype=[('count', '<u2'), ('snps', '<u2')])"
      ]
     },
     "execution_count": 11,
     "metadata": {},
     "output_type": "execute_result"
    }
   ],
   "source": [
    "count_data"
   ]
  },
  {
   "cell_type": "code",
   "execution_count": 12,
   "metadata": {
    "collapsed": false
   },
   "outputs": [
    {
     "data": {
      "text/plain": [
       "array([ 59,  62,  63,  62,  62,  62,  62,  62,  62,  61, 136, 136, 136,\n",
       "       136, 136, 136, 136, 136, 136, 136, 136, 136, 136, 136, 136, 136,\n",
       "       136, 136, 136, 136, 136, 136, 136, 136, 136, 136, 136, 136, 136,\n",
       "       136, 136, 136, 136, 136, 136, 136, 136, 136, 136, 136, 136, 136,\n",
       "       136, 136, 127, 136, 136, 136, 136, 136, 136, 136, 136, 136, 135,\n",
       "       136, 136, 136, 136, 136, 136, 136, 136, 136, 136, 136, 136,   1,\n",
       "       136, 136, 136, 136, 136, 136, 136, 136, 136, 136, 136, 136, 136,\n",
       "       136, 136, 136, 136, 136, 136, 136, 136, 136, 136, 136, 136, 136,\n",
       "       136, 136, 136, 136, 136, 136, 136, 136, 136, 136, 136, 136, 136])"
      ]
     },
     "execution_count": 12,
     "metadata": {},
     "output_type": "execute_result"
    }
   ],
   "source": [
    "an.sa_117_1685.alleles_per_snp(am_49_136)"
   ]
  },
  {
   "cell_type": "code",
   "execution_count": 13,
   "metadata": {
    "collapsed": false
   },
   "outputs": [
    {
     "data": {
      "text/html": [
       "\n",
       "\n",
       "    <div class=\"bk-root\">\n",
       "        <div class=\"plotdiv\" id=\"6d58cc5a-6540-4b55-b47f-13bd10e9fdc7\"></div>\n",
       "    </div>\n",
       "<script type=\"text/javascript\">\n",
       "  \n",
       "  (function(global) {\n",
       "    function now() {\n",
       "      return new Date();\n",
       "    }\n",
       "  \n",
       "    if (typeof (window._bokeh_onload_callbacks) === \"undefined\") {\n",
       "      window._bokeh_onload_callbacks = [];\n",
       "    }\n",
       "  \n",
       "    function run_callbacks() {\n",
       "      window._bokeh_onload_callbacks.forEach(function(callback) { callback() });\n",
       "      delete window._bokeh_onload_callbacks\n",
       "      console.info(\"Bokeh: all callbacks have finished\");\n",
       "    }\n",
       "  \n",
       "    function load_libs(js_urls, callback) {\n",
       "      window._bokeh_onload_callbacks.push(callback);\n",
       "      if (window._bokeh_is_loading > 0) {\n",
       "        console.log(\"Bokeh: BokehJS is being loaded, scheduling callback at\", now());\n",
       "        return null;\n",
       "      }\n",
       "      if (js_urls == null || js_urls.length === 0) {\n",
       "        run_callbacks();\n",
       "        return null;\n",
       "      }\n",
       "      console.log(\"Bokeh: BokehJS not loaded, scheduling load and callback at\", now());\n",
       "      window._bokeh_is_loading = js_urls.length;\n",
       "      for (var i = 0; i < js_urls.length; i++) {\n",
       "        var url = js_urls[i];\n",
       "        var s = document.createElement('script');\n",
       "        s.src = url;\n",
       "        s.async = false;\n",
       "        s.onreadystatechange = s.onload = function() {\n",
       "          window._bokeh_is_loading--;\n",
       "          if (window._bokeh_is_loading === 0) {\n",
       "            console.log(\"Bokeh: all BokehJS libraries loaded\");\n",
       "            run_callbacks()\n",
       "          }\n",
       "        };\n",
       "        s.onerror = function() {\n",
       "          console.warn(\"failed to load library \" + url);\n",
       "        };\n",
       "        console.log(\"Bokeh: injecting script tag for BokehJS library: \", url);\n",
       "        document.getElementsByTagName(\"head\")[0].appendChild(s);\n",
       "      }\n",
       "    };var element = document.getElementById(\"6d58cc5a-6540-4b55-b47f-13bd10e9fdc7\");\n",
       "    if (element == null) {\n",
       "      console.log(\"Bokeh: ERROR: autoload.js configured with elementid '6d58cc5a-6540-4b55-b47f-13bd10e9fdc7' but no matching script tag was found. \")\n",
       "      return false;\n",
       "    }\n",
       "  \n",
       "    var js_urls = [];\n",
       "  \n",
       "    var inline_js = [\n",
       "      function(Bokeh) {\n",
       "        Bokeh.$(function() {\n",
       "            var docs_json = {\"4978dfa5-366a-4da5-95c5-ee99b32805c3\":{\"roots\":{\"references\":[{\"attributes\":{\"data_source\":{\"id\":\"110f28ac-4d56-4fdf-b534-48a332c6c38c\",\"type\":\"ColumnDataSource\"},\"glyph\":{\"id\":\"deb909ff-5dca-4a5c-a49d-3d3212a6da8d\",\"type\":\"Line\"},\"hover_glyph\":null,\"nonselection_glyph\":{\"id\":\"5a3fd497-876f-410b-a079-70094db5ed19\",\"type\":\"Line\"},\"selection_glyph\":null},\"id\":\"b5cbc53e-1d43-4973-86ff-58d905c1573f\",\"type\":\"GlyphRenderer\"},{\"attributes\":{},\"id\":\"8d46a5d3-1c43-40d0-b46b-b93714df4231\",\"type\":\"BasicTicker\"},{\"attributes\":{\"callback\":null,\"end\":14.5,\"start\":-0.5},\"id\":\"219196d7-e26f-4fe2-89f4-ad608245ce09\",\"type\":\"Range1d\"},{\"attributes\":{\"line_color\":{\"value\":\"#1f77b4\"},\"x\":{\"field\":\"x\"},\"y\":{\"field\":\"y\"}},\"id\":\"deb909ff-5dca-4a5c-a49d-3d3212a6da8d\",\"type\":\"Line\"},{\"attributes\":{\"formatter\":{\"id\":\"9c8499ec-df67-4519-9a59-bd017dfe23c8\",\"type\":\"BasicTickFormatter\"},\"plot\":{\"id\":\"7d2faee6-1e7e-434d-a9f0-80255fc1df1c\",\"subtype\":\"Figure\",\"type\":\"Plot\"},\"ticker\":{\"id\":\"8d46a5d3-1c43-40d0-b46b-b93714df4231\",\"type\":\"BasicTicker\"}},\"id\":\"3c58e398-a4c7-49e3-9e9d-639aeb71d9f9\",\"type\":\"LinearAxis\"},{\"attributes\":{\"plot\":{\"id\":\"7d2faee6-1e7e-434d-a9f0-80255fc1df1c\",\"subtype\":\"Figure\",\"type\":\"Plot\"}},\"id\":\"4c8ac7ec-3259-4c46-9da0-92e2a0404dbf\",\"type\":\"SaveTool\"},{\"attributes\":{\"plot\":{\"id\":\"7d2faee6-1e7e-434d-a9f0-80255fc1df1c\",\"subtype\":\"Figure\",\"type\":\"Plot\"}},\"id\":\"48254253-cba3-4b24-8cde-a372f30c3d7e\",\"type\":\"PanTool\"},{\"attributes\":{},\"id\":\"6a77f598-b716-4d2d-815a-7d0cba0ddcb7\",\"type\":\"ToolEvents\"},{\"attributes\":{\"callback\":null,\"column_names\":[\"y\",\"x\"],\"data\":{\"x\":[-0.5,-0.5,0.5,0.5,1.5,1.5,2.5,2.5,11.5,11.5,12.5,12.5,13.5,13.5],\"y\":[0.0,60.0,60.0,1.0,1.0,1.0,1.0,0.0,0.0,11.0,11.0,63.0,63.0,0.0]}},\"id\":\"110f28ac-4d56-4fdf-b534-48a332c6c38c\",\"type\":\"ColumnDataSource\"},{\"attributes\":{\"overlay\":{\"id\":\"9c1117a3-ba28-4e06-885a-2de18b8f5c7f\",\"type\":\"BoxAnnotation\"},\"plot\":{\"id\":\"7d2faee6-1e7e-434d-a9f0-80255fc1df1c\",\"subtype\":\"Figure\",\"type\":\"Plot\"}},\"id\":\"abc4c1bc-ddfb-476f-b590-9edf1f485210\",\"type\":\"BoxZoomTool\"},{\"attributes\":{\"below\":[{\"id\":\"3c58e398-a4c7-49e3-9e9d-639aeb71d9f9\",\"type\":\"LinearAxis\"}],\"left\":[{\"id\":\"a04d94fa-6c5c-4b76-b7b3-acbafea47493\",\"type\":\"LinearAxis\"}],\"plot_height\":400,\"plot_width\":900,\"renderers\":[{\"id\":\"3c58e398-a4c7-49e3-9e9d-639aeb71d9f9\",\"type\":\"LinearAxis\"},{\"id\":\"3ed8a9cd-0239-4fb3-a4b3-da9e7b68f9f4\",\"type\":\"Grid\"},{\"id\":\"a04d94fa-6c5c-4b76-b7b3-acbafea47493\",\"type\":\"LinearAxis\"},{\"id\":\"5321b9ef-9695-4cc2-809b-9ac97206d54f\",\"type\":\"Grid\"},{\"id\":\"9c1117a3-ba28-4e06-885a-2de18b8f5c7f\",\"type\":\"BoxAnnotation\"},{\"id\":\"b5cbc53e-1d43-4973-86ff-58d905c1573f\",\"type\":\"GlyphRenderer\"}],\"title\":{\"id\":\"85eb6a38-49fc-452d-9250-7a506bb247f9\",\"type\":\"Title\"},\"tool_events\":{\"id\":\"6a77f598-b716-4d2d-815a-7d0cba0ddcb7\",\"type\":\"ToolEvents\"},\"toolbar\":{\"id\":\"a7fdd99c-45f2-44f0-bc3d-327220f481dc\",\"type\":\"Toolbar\"},\"toolbar_location\":null,\"x_range\":{\"id\":\"219196d7-e26f-4fe2-89f4-ad608245ce09\",\"type\":\"Range1d\"},\"y_range\":{\"id\":\"5aed077f-6c21-435a-a884-2607ed4edac6\",\"type\":\"Range1d\"}},\"id\":\"7d2faee6-1e7e-434d-a9f0-80255fc1df1c\",\"subtype\":\"Figure\",\"type\":\"Plot\"},{\"attributes\":{\"line_alpha\":{\"value\":0.1},\"line_color\":{\"value\":\"#1f77b4\"},\"x\":{\"field\":\"x\"},\"y\":{\"field\":\"y\"}},\"id\":\"5a3fd497-876f-410b-a079-70094db5ed19\",\"type\":\"Line\"},{\"attributes\":{\"formatter\":{\"id\":\"209b7194-f06a-41bd-9985-8ee75a97d06f\",\"type\":\"BasicTickFormatter\"},\"plot\":{\"id\":\"7d2faee6-1e7e-434d-a9f0-80255fc1df1c\",\"subtype\":\"Figure\",\"type\":\"Plot\"},\"ticker\":{\"id\":\"77324f26-0b67-4134-a80c-ec168fb8de7d\",\"type\":\"BasicTicker\"}},\"id\":\"a04d94fa-6c5c-4b76-b7b3-acbafea47493\",\"type\":\"LinearAxis\"},{\"attributes\":{},\"id\":\"77324f26-0b67-4134-a80c-ec168fb8de7d\",\"type\":\"BasicTicker\"},{\"attributes\":{\"callback\":null,\"end\":69.30000000000001},\"id\":\"5aed077f-6c21-435a-a884-2607ed4edac6\",\"type\":\"Range1d\"},{\"attributes\":{\"bottom_units\":\"screen\",\"fill_alpha\":{\"value\":0.5},\"fill_color\":{\"value\":\"lightgrey\"},\"left_units\":\"screen\",\"level\":\"overlay\",\"line_alpha\":{\"value\":1.0},\"line_color\":{\"value\":\"black\"},\"line_dash\":[4,4],\"line_width\":{\"value\":2},\"plot\":null,\"render_mode\":\"css\",\"right_units\":\"screen\",\"top_units\":\"screen\"},\"id\":\"9c1117a3-ba28-4e06-885a-2de18b8f5c7f\",\"type\":\"BoxAnnotation\"},{\"attributes\":{\"plot\":{\"id\":\"7d2faee6-1e7e-434d-a9f0-80255fc1df1c\",\"subtype\":\"Figure\",\"type\":\"Plot\"}},\"id\":\"1c1c0884-aa7d-405f-9cb3-0dfc201c0090\",\"type\":\"WheelZoomTool\"},{\"attributes\":{\"plot\":{\"id\":\"7d2faee6-1e7e-434d-a9f0-80255fc1df1c\",\"subtype\":\"Figure\",\"type\":\"Plot\"}},\"id\":\"1edf6554-34e2-43a7-b09b-a907045bdd9a\",\"type\":\"ResetTool\"},{\"attributes\":{\"plot\":{\"id\":\"7d2faee6-1e7e-434d-a9f0-80255fc1df1c\",\"subtype\":\"Figure\",\"type\":\"Plot\"},\"ticker\":{\"id\":\"8d46a5d3-1c43-40d0-b46b-b93714df4231\",\"type\":\"BasicTicker\"}},\"id\":\"3ed8a9cd-0239-4fb3-a4b3-da9e7b68f9f4\",\"type\":\"Grid\"},{\"attributes\":{},\"id\":\"9c8499ec-df67-4519-9a59-bd017dfe23c8\",\"type\":\"BasicTickFormatter\"},{\"attributes\":{\"plot\":{\"id\":\"7d2faee6-1e7e-434d-a9f0-80255fc1df1c\",\"subtype\":\"Figure\",\"type\":\"Plot\"}},\"id\":\"7aa27a9e-be9a-4894-b646-8482196579f7\",\"type\":\"HelpTool\"},{\"attributes\":{\"plot\":null,\"text\":null},\"id\":\"85eb6a38-49fc-452d-9250-7a506bb247f9\",\"type\":\"Title\"},{\"attributes\":{\"active_drag\":\"auto\",\"active_scroll\":\"auto\",\"active_tap\":\"auto\",\"tools\":[{\"id\":\"48254253-cba3-4b24-8cde-a372f30c3d7e\",\"type\":\"PanTool\"},{\"id\":\"1c1c0884-aa7d-405f-9cb3-0dfc201c0090\",\"type\":\"WheelZoomTool\"},{\"id\":\"abc4c1bc-ddfb-476f-b590-9edf1f485210\",\"type\":\"BoxZoomTool\"},{\"id\":\"4c8ac7ec-3259-4c46-9da0-92e2a0404dbf\",\"type\":\"SaveTool\"},{\"id\":\"1edf6554-34e2-43a7-b09b-a907045bdd9a\",\"type\":\"ResetTool\"},{\"id\":\"7aa27a9e-be9a-4894-b646-8482196579f7\",\"type\":\"HelpTool\"}]},\"id\":\"a7fdd99c-45f2-44f0-bc3d-327220f481dc\",\"type\":\"Toolbar\"},{\"attributes\":{},\"id\":\"209b7194-f06a-41bd-9985-8ee75a97d06f\",\"type\":\"BasicTickFormatter\"},{\"attributes\":{\"dimension\":1,\"plot\":{\"id\":\"7d2faee6-1e7e-434d-a9f0-80255fc1df1c\",\"subtype\":\"Figure\",\"type\":\"Plot\"},\"ticker\":{\"id\":\"77324f26-0b67-4134-a80c-ec168fb8de7d\",\"type\":\"BasicTicker\"}},\"id\":\"5321b9ef-9695-4cc2-809b-9ac97206d54f\",\"type\":\"Grid\"}],\"root_ids\":[\"7d2faee6-1e7e-434d-a9f0-80255fc1df1c\"]},\"title\":\"Bokeh Application\",\"version\":\"0.12.0\"}};\n",
       "            var render_items = [{\"docid\":\"4978dfa5-366a-4da5-95c5-ee99b32805c3\",\"elementid\":\"6d58cc5a-6540-4b55-b47f-13bd10e9fdc7\",\"modelid\":\"7d2faee6-1e7e-434d-a9f0-80255fc1df1c\",\"notebook_comms_target\":\"42b7238a-85ea-4a28-829b-41bf7742d9d1\"}];\n",
       "            \n",
       "            Bokeh.embed.embed_items(docs_json, render_items);\n",
       "        });\n",
       "      },\n",
       "      function(Bokeh) {\n",
       "      }\n",
       "    ];\n",
       "  \n",
       "    function run_inline_js() {\n",
       "      for (var i = 0; i < inline_js.length; i++) {\n",
       "        inline_js[i](window.Bokeh);\n",
       "      }\n",
       "    }\n",
       "  \n",
       "    if (window._bokeh_is_loading === 0) {\n",
       "      console.log(\"Bokeh: BokehJS loaded, going straight to plotting\");\n",
       "      run_inline_js();\n",
       "    } else {\n",
       "      load_libs(js_urls, function() {\n",
       "        console.log(\"Bokeh: BokehJS plotting callback run at\", now());\n",
       "        run_inline_js();\n",
       "      });\n",
       "    }\n",
       "  }(this));\n",
       "</script>"
      ]
     },
     "metadata": {},
     "output_type": "display_data"
    },
    {
     "data": {
      "text/html": [
       "<p><code>&lt;Bokeh Notebook handle for <strong>In[13]</strong>&gt;</code></p>"
      ],
      "text/plain": [
       "<bokeh.io._CommsHandle at 0x7f360591a310>"
      ]
     },
     "execution_count": 13,
     "metadata": {},
     "output_type": "execute_result"
    }
   ],
   "source": [
    "count_data = an.sa_13_1696.unique_snps_per_allele(am_49_136)\n",
    "plt_obj = smcp(count_data)\n",
    "plt = plt_obj.do_plot()\n",
    "show(plt)"
   ]
  },
  {
   "cell_type": "code",
   "execution_count": 14,
   "metadata": {
    "collapsed": false
   },
   "outputs": [
    {
     "data": {
      "text/plain": [
       "array([(0, 60), (1, 1), (2, 1), (12, 11), (13, 63)], \n",
       "      dtype=[('count', '<u2'), ('snps', '<u2')])"
      ]
     },
     "execution_count": 14,
     "metadata": {},
     "output_type": "execute_result"
    }
   ],
   "source": [
    "count_data"
   ]
  },
  {
   "cell_type": "code",
   "execution_count": 15,
   "metadata": {
    "collapsed": false
   },
   "outputs": [
    {
     "data": {
      "text/html": [
       "\n",
       "\n",
       "    <div class=\"bk-root\">\n",
       "        <div class=\"plotdiv\" id=\"638abd49-17ee-4db2-9174-fa6dfbb4ce3f\"></div>\n",
       "    </div>\n",
       "<script type=\"text/javascript\">\n",
       "  \n",
       "  (function(global) {\n",
       "    function now() {\n",
       "      return new Date();\n",
       "    }\n",
       "  \n",
       "    if (typeof (window._bokeh_onload_callbacks) === \"undefined\") {\n",
       "      window._bokeh_onload_callbacks = [];\n",
       "    }\n",
       "  \n",
       "    function run_callbacks() {\n",
       "      window._bokeh_onload_callbacks.forEach(function(callback) { callback() });\n",
       "      delete window._bokeh_onload_callbacks\n",
       "      console.info(\"Bokeh: all callbacks have finished\");\n",
       "    }\n",
       "  \n",
       "    function load_libs(js_urls, callback) {\n",
       "      window._bokeh_onload_callbacks.push(callback);\n",
       "      if (window._bokeh_is_loading > 0) {\n",
       "        console.log(\"Bokeh: BokehJS is being loaded, scheduling callback at\", now());\n",
       "        return null;\n",
       "      }\n",
       "      if (js_urls == null || js_urls.length === 0) {\n",
       "        run_callbacks();\n",
       "        return null;\n",
       "      }\n",
       "      console.log(\"Bokeh: BokehJS not loaded, scheduling load and callback at\", now());\n",
       "      window._bokeh_is_loading = js_urls.length;\n",
       "      for (var i = 0; i < js_urls.length; i++) {\n",
       "        var url = js_urls[i];\n",
       "        var s = document.createElement('script');\n",
       "        s.src = url;\n",
       "        s.async = false;\n",
       "        s.onreadystatechange = s.onload = function() {\n",
       "          window._bokeh_is_loading--;\n",
       "          if (window._bokeh_is_loading === 0) {\n",
       "            console.log(\"Bokeh: all BokehJS libraries loaded\");\n",
       "            run_callbacks()\n",
       "          }\n",
       "        };\n",
       "        s.onerror = function() {\n",
       "          console.warn(\"failed to load library \" + url);\n",
       "        };\n",
       "        console.log(\"Bokeh: injecting script tag for BokehJS library: \", url);\n",
       "        document.getElementsByTagName(\"head\")[0].appendChild(s);\n",
       "      }\n",
       "    };var element = document.getElementById(\"638abd49-17ee-4db2-9174-fa6dfbb4ce3f\");\n",
       "    if (element == null) {\n",
       "      console.log(\"Bokeh: ERROR: autoload.js configured with elementid '638abd49-17ee-4db2-9174-fa6dfbb4ce3f' but no matching script tag was found. \")\n",
       "      return false;\n",
       "    }\n",
       "  \n",
       "    var js_urls = [];\n",
       "  \n",
       "    var inline_js = [\n",
       "      function(Bokeh) {\n",
       "        Bokeh.$(function() {\n",
       "            var docs_json = {\"1ff9abf4-e655-41d4-95f8-c36ceee53c3b\":{\"roots\":{\"references\":[{\"attributes\":{\"below\":[{\"id\":\"e84f7cf3-8db0-4199-9cc2-0a0986062d07\",\"type\":\"LinearAxis\"}],\"left\":[{\"id\":\"b08d7b84-f366-4c1e-99f3-1393702919eb\",\"type\":\"LinearAxis\"}],\"plot_height\":400,\"plot_width\":900,\"renderers\":[{\"id\":\"e84f7cf3-8db0-4199-9cc2-0a0986062d07\",\"type\":\"LinearAxis\"},{\"id\":\"f9957a94-45f0-421e-885c-fc44f5103d05\",\"type\":\"Grid\"},{\"id\":\"b08d7b84-f366-4c1e-99f3-1393702919eb\",\"type\":\"LinearAxis\"},{\"id\":\"830c7a35-5722-414d-ad21-132035ceea26\",\"type\":\"Grid\"},{\"id\":\"efe1dfbc-46d8-4484-951d-8644de05f082\",\"type\":\"BoxAnnotation\"},{\"id\":\"b46e213e-a66d-4bf2-87d2-02926b028704\",\"type\":\"GlyphRenderer\"}],\"title\":{\"id\":\"cd516ac0-92a6-46ae-a675-224e7c5daafa\",\"type\":\"Title\"},\"tool_events\":{\"id\":\"111fa224-3a69-47c1-880a-45a9cb645431\",\"type\":\"ToolEvents\"},\"toolbar\":{\"id\":\"0cc54006-4678-4641-aa09-b0ba9d7c016d\",\"type\":\"Toolbar\"},\"toolbar_location\":null,\"x_range\":{\"id\":\"932ba720-b6f3-497d-a07f-92dfa4ad435b\",\"type\":\"Range1d\"},\"y_range\":{\"id\":\"35e326dc-86a1-42b6-99f5-7ddebae247e1\",\"type\":\"Range1d\"}},\"id\":\"9fb5ca6e-6b18-444d-a7b7-32c5e27196a3\",\"subtype\":\"Figure\",\"type\":\"Plot\"},{\"attributes\":{},\"id\":\"111fa224-3a69-47c1-880a-45a9cb645431\",\"type\":\"ToolEvents\"},{\"attributes\":{\"line_color\":{\"value\":\"#1f77b4\"},\"x\":{\"field\":\"x\"},\"y\":{\"field\":\"y\"}},\"id\":\"0a7ca782-fa5b-428a-9f17-2b6bf3d5b5ce\",\"type\":\"Line\"},{\"attributes\":{\"callback\":null,\"end\":111.5,\"start\":-0.5},\"id\":\"932ba720-b6f3-497d-a07f-92dfa4ad435b\",\"type\":\"Range1d\"},{\"attributes\":{},\"id\":\"16253eda-2592-41f4-b21a-1f18476d885b\",\"type\":\"BasicTickFormatter\"},{\"attributes\":{\"callback\":null,\"column_names\":[\"y\",\"x\"],\"data\":{\"x\":[-0.5,-0.5,105.5,105.5,106.5,106.5,107.5,107.5,108.5,108.5,109.5,109.5,110.5,110.5],\"y\":[0.0,0.0,0.0,1.0,1.0,11.0,11.0,53.0,53.0,53.0,53.0,18.0,18.0,0.0]}},\"id\":\"89c4476b-0f56-44cb-8cea-0987e23acba2\",\"type\":\"ColumnDataSource\"},{\"attributes\":{\"plot\":{\"id\":\"9fb5ca6e-6b18-444d-a7b7-32c5e27196a3\",\"subtype\":\"Figure\",\"type\":\"Plot\"}},\"id\":\"81377a06-202a-4426-96dd-febd793648e1\",\"type\":\"HelpTool\"},{\"attributes\":{\"data_source\":{\"id\":\"89c4476b-0f56-44cb-8cea-0987e23acba2\",\"type\":\"ColumnDataSource\"},\"glyph\":{\"id\":\"0a7ca782-fa5b-428a-9f17-2b6bf3d5b5ce\",\"type\":\"Line\"},\"hover_glyph\":null,\"nonselection_glyph\":{\"id\":\"439ddec9-9118-4c73-a6b6-de2194e6e217\",\"type\":\"Line\"},\"selection_glyph\":null},\"id\":\"b46e213e-a66d-4bf2-87d2-02926b028704\",\"type\":\"GlyphRenderer\"},{\"attributes\":{},\"id\":\"4c31b247-2ca3-471f-85d2-6da47be2578f\",\"type\":\"BasicTickFormatter\"},{\"attributes\":{\"plot\":{\"id\":\"9fb5ca6e-6b18-444d-a7b7-32c5e27196a3\",\"subtype\":\"Figure\",\"type\":\"Plot\"},\"ticker\":{\"id\":\"99357d43-2110-458f-a2a6-d5ef984a541c\",\"type\":\"BasicTicker\"}},\"id\":\"f9957a94-45f0-421e-885c-fc44f5103d05\",\"type\":\"Grid\"},{\"attributes\":{\"overlay\":{\"id\":\"efe1dfbc-46d8-4484-951d-8644de05f082\",\"type\":\"BoxAnnotation\"},\"plot\":{\"id\":\"9fb5ca6e-6b18-444d-a7b7-32c5e27196a3\",\"subtype\":\"Figure\",\"type\":\"Plot\"}},\"id\":\"1c5ddb69-4f22-441c-bf9a-7161bf6c5229\",\"type\":\"BoxZoomTool\"},{\"attributes\":{\"plot\":{\"id\":\"9fb5ca6e-6b18-444d-a7b7-32c5e27196a3\",\"subtype\":\"Figure\",\"type\":\"Plot\"}},\"id\":\"b1e0756d-0d51-47ee-b472-3e3026ba1eca\",\"type\":\"SaveTool\"},{\"attributes\":{\"dimension\":1,\"plot\":{\"id\":\"9fb5ca6e-6b18-444d-a7b7-32c5e27196a3\",\"subtype\":\"Figure\",\"type\":\"Plot\"},\"ticker\":{\"id\":\"1ca53ab4-80bc-40e2-b7bb-096bbc9534c0\",\"type\":\"BasicTicker\"}},\"id\":\"830c7a35-5722-414d-ad21-132035ceea26\",\"type\":\"Grid\"},{\"attributes\":{},\"id\":\"99357d43-2110-458f-a2a6-d5ef984a541c\",\"type\":\"BasicTicker\"},{\"attributes\":{\"plot\":null,\"text\":null},\"id\":\"cd516ac0-92a6-46ae-a675-224e7c5daafa\",\"type\":\"Title\"},{\"attributes\":{},\"id\":\"1ca53ab4-80bc-40e2-b7bb-096bbc9534c0\",\"type\":\"BasicTicker\"},{\"attributes\":{\"formatter\":{\"id\":\"4c31b247-2ca3-471f-85d2-6da47be2578f\",\"type\":\"BasicTickFormatter\"},\"plot\":{\"id\":\"9fb5ca6e-6b18-444d-a7b7-32c5e27196a3\",\"subtype\":\"Figure\",\"type\":\"Plot\"},\"ticker\":{\"id\":\"1ca53ab4-80bc-40e2-b7bb-096bbc9534c0\",\"type\":\"BasicTicker\"}},\"id\":\"b08d7b84-f366-4c1e-99f3-1393702919eb\",\"type\":\"LinearAxis\"},{\"attributes\":{\"line_alpha\":{\"value\":0.1},\"line_color\":{\"value\":\"#1f77b4\"},\"x\":{\"field\":\"x\"},\"y\":{\"field\":\"y\"}},\"id\":\"439ddec9-9118-4c73-a6b6-de2194e6e217\",\"type\":\"Line\"},{\"attributes\":{\"plot\":{\"id\":\"9fb5ca6e-6b18-444d-a7b7-32c5e27196a3\",\"subtype\":\"Figure\",\"type\":\"Plot\"}},\"id\":\"a5aae719-5a83-4578-956b-935a29370d11\",\"type\":\"PanTool\"},{\"attributes\":{\"plot\":{\"id\":\"9fb5ca6e-6b18-444d-a7b7-32c5e27196a3\",\"subtype\":\"Figure\",\"type\":\"Plot\"}},\"id\":\"5b4921ae-71b8-4866-850b-123a75bb5f49\",\"type\":\"ResetTool\"},{\"attributes\":{\"callback\":null,\"end\":58.300000000000004},\"id\":\"35e326dc-86a1-42b6-99f5-7ddebae247e1\",\"type\":\"Range1d\"},{\"attributes\":{\"formatter\":{\"id\":\"16253eda-2592-41f4-b21a-1f18476d885b\",\"type\":\"BasicTickFormatter\"},\"plot\":{\"id\":\"9fb5ca6e-6b18-444d-a7b7-32c5e27196a3\",\"subtype\":\"Figure\",\"type\":\"Plot\"},\"ticker\":{\"id\":\"99357d43-2110-458f-a2a6-d5ef984a541c\",\"type\":\"BasicTicker\"}},\"id\":\"e84f7cf3-8db0-4199-9cc2-0a0986062d07\",\"type\":\"LinearAxis\"},{\"attributes\":{\"active_drag\":\"auto\",\"active_scroll\":\"auto\",\"active_tap\":\"auto\",\"tools\":[{\"id\":\"a5aae719-5a83-4578-956b-935a29370d11\",\"type\":\"PanTool\"},{\"id\":\"cafaeab1-603f-4275-b286-317c30dd7d9e\",\"type\":\"WheelZoomTool\"},{\"id\":\"1c5ddb69-4f22-441c-bf9a-7161bf6c5229\",\"type\":\"BoxZoomTool\"},{\"id\":\"b1e0756d-0d51-47ee-b472-3e3026ba1eca\",\"type\":\"SaveTool\"},{\"id\":\"5b4921ae-71b8-4866-850b-123a75bb5f49\",\"type\":\"ResetTool\"},{\"id\":\"81377a06-202a-4426-96dd-febd793648e1\",\"type\":\"HelpTool\"}]},\"id\":\"0cc54006-4678-4641-aa09-b0ba9d7c016d\",\"type\":\"Toolbar\"},{\"attributes\":{\"bottom_units\":\"screen\",\"fill_alpha\":{\"value\":0.5},\"fill_color\":{\"value\":\"lightgrey\"},\"left_units\":\"screen\",\"level\":\"overlay\",\"line_alpha\":{\"value\":1.0},\"line_color\":{\"value\":\"black\"},\"line_dash\":[4,4],\"line_width\":{\"value\":2},\"plot\":null,\"render_mode\":\"css\",\"right_units\":\"screen\",\"top_units\":\"screen\"},\"id\":\"efe1dfbc-46d8-4484-951d-8644de05f082\",\"type\":\"BoxAnnotation\"},{\"attributes\":{\"plot\":{\"id\":\"9fb5ca6e-6b18-444d-a7b7-32c5e27196a3\",\"subtype\":\"Figure\",\"type\":\"Plot\"}},\"id\":\"cafaeab1-603f-4275-b286-317c30dd7d9e\",\"type\":\"WheelZoomTool\"}],\"root_ids\":[\"9fb5ca6e-6b18-444d-a7b7-32c5e27196a3\"]},\"title\":\"Bokeh Application\",\"version\":\"0.12.0\"}};\n",
       "            var render_items = [{\"docid\":\"1ff9abf4-e655-41d4-95f8-c36ceee53c3b\",\"elementid\":\"638abd49-17ee-4db2-9174-fa6dfbb4ce3f\",\"modelid\":\"9fb5ca6e-6b18-444d-a7b7-32c5e27196a3\",\"notebook_comms_target\":\"15ad9443-b467-4915-9203-400e9c10f02e\"}];\n",
       "            \n",
       "            Bokeh.embed.embed_items(docs_json, render_items);\n",
       "        });\n",
       "      },\n",
       "      function(Bokeh) {\n",
       "      }\n",
       "    ];\n",
       "  \n",
       "    function run_inline_js() {\n",
       "      for (var i = 0; i < inline_js.length; i++) {\n",
       "        inline_js[i](window.Bokeh);\n",
       "      }\n",
       "    }\n",
       "  \n",
       "    if (window._bokeh_is_loading === 0) {\n",
       "      console.log(\"Bokeh: BokehJS loaded, going straight to plotting\");\n",
       "      run_inline_js();\n",
       "    } else {\n",
       "      load_libs(js_urls, function() {\n",
       "        console.log(\"Bokeh: BokehJS plotting callback run at\", now());\n",
       "        run_inline_js();\n",
       "      });\n",
       "    }\n",
       "  }(this));\n",
       "</script>"
      ]
     },
     "metadata": {},
     "output_type": "display_data"
    },
    {
     "data": {
      "text/html": [
       "<p><code>&lt;Bokeh Notebook handle for <strong>In[15]</strong>&gt;</code></p>"
      ],
      "text/plain": [
       "<bokeh.io._CommsHandle at 0x7f360591aad0>"
      ]
     },
     "execution_count": 15,
     "metadata": {},
     "output_type": "execute_result"
    }
   ],
   "source": [
    "count_data = sa_123_1561.unique_snps_per_allele(am_49_136)\n",
    "plt_obj = smcp(count_data)\n",
    "plt = plt_obj.do_plot()\n",
    "show(plt)"
   ]
  },
  {
   "cell_type": "code",
   "execution_count": 16,
   "metadata": {
    "collapsed": false
   },
   "outputs": [
    {
     "data": {
      "text/plain": [
       "array([(106, 1), (107, 11), (108, 53), (109, 53), (110, 18)], \n",
       "      dtype=[('count', '<u2'), ('snps', '<u2')])"
      ]
     },
     "execution_count": 16,
     "metadata": {},
     "output_type": "execute_result"
    }
   ],
   "source": [
    "count_data"
   ]
  },
  {
   "cell_type": "code",
   "execution_count": 17,
   "metadata": {
    "collapsed": false
   },
   "outputs": [
    {
     "data": {
      "text/plain": [
       "array([136, 136, 136, 136,   0,  74,   0, 136, 136,   1,   2, 136, 136,\n",
       "       136,   0,  17,   4,   0, 136, 135,   0, 136, 136,   0, 136, 136,\n",
       "       136, 136, 136, 136, 136, 136,   0, 135, 136, 136, 136, 136, 136,\n",
       "       136, 136, 135, 136, 136, 136, 136, 136, 136, 136, 136, 136, 136,\n",
       "       136, 136, 136, 136, 136, 136, 136, 136, 136,   0, 136, 136, 136,\n",
       "       136, 136, 136, 136, 136, 136, 136, 136, 136, 136, 136, 136, 136,\n",
       "       136, 120, 136, 136, 136, 136,   0, 136, 136, 136, 136, 136, 136,\n",
       "       136, 136, 136, 136, 136, 136, 136, 135, 136, 136, 136, 136, 136,\n",
       "       136,   0, 136, 136, 136, 134, 136, 136, 136, 136, 136, 136, 136,\n",
       "       136, 136, 136, 136, 136, 136])"
      ]
     },
     "execution_count": 17,
     "metadata": {},
     "output_type": "execute_result"
    }
   ],
   "source": [
    "an.sa_123_1561.alleles_per_snp(am_49_136)"
   ]
  },
  {
   "cell_type": "code",
   "execution_count": 18,
   "metadata": {
    "collapsed": false
   },
   "outputs": [
    {
     "data": {
      "text/plain": [
       "array([18, 18, 18, 18,  0, 17,  0, 18, 18,  1,  2, 18, 18, 18,  0, 16,  4,\n",
       "        0, 18, 18,  0, 18, 18,  0, 18, 18, 18, 18, 18, 18, 18, 18,  0, 18,\n",
       "       18, 18, 18, 18, 18, 18, 18, 18, 18, 18, 18, 18, 18, 18, 18, 18, 18,\n",
       "       18, 18, 18, 18, 18, 18, 18, 18, 18, 18,  0, 18, 18, 18, 18, 18, 18,\n",
       "       18, 18, 18, 18, 18, 18, 18, 18, 18, 18, 18, 14, 18, 18, 18, 18,  0,\n",
       "       18, 18, 18, 18, 18, 18, 18, 18, 18, 18, 18, 18, 18, 18, 18, 18, 18,\n",
       "       18, 18, 18,  0, 18, 18, 18, 18, 18, 18, 18, 18, 18, 18, 18, 18, 18,\n",
       "       18, 18, 18, 18])"
      ]
     },
     "execution_count": 18,
     "metadata": {},
     "output_type": "execute_result"
    }
   ],
   "source": [
    "aps_110, am_110 = an.sa_123_1561.snps_from_aps_value(110, am_49_136)\n",
    "aps_110"
   ]
  },
  {
   "cell_type": "code",
   "execution_count": 19,
   "metadata": {
    "collapsed": false
   },
   "outputs": [
    {
     "data": {
      "text/plain": [
       "array([53, 53, 53, 53,  0, 53,  0, 53, 53,  0,  0, 53, 53, 53,  0,  1,  0,\n",
       "        0, 53, 53,  0, 53, 53,  0, 53, 53, 53, 53, 53, 53, 53, 53,  0, 53,\n",
       "       53, 53, 53, 53, 53, 53, 53, 53, 53, 53, 53, 53, 53, 53, 53, 53, 53,\n",
       "       53, 53, 53, 53, 53, 53, 53, 53, 53, 53,  0, 53, 53, 53, 53, 53, 53,\n",
       "       53, 53, 53, 53, 53, 53, 53, 53, 53, 53, 53, 52, 53, 53, 53, 53,  0,\n",
       "       53, 53, 53, 53, 53, 53, 53, 53, 53, 53, 53, 53, 53, 53, 53, 53, 53,\n",
       "       53, 53, 53,  0, 53, 53, 53, 53, 53, 53, 53, 53, 53, 53, 53, 53, 53,\n",
       "       53, 53, 53, 53])"
      ]
     },
     "execution_count": 19,
     "metadata": {},
     "output_type": "execute_result"
    }
   ],
   "source": [
    "aps_109, am_109 = an.sa_123_1561.snps_from_aps_value(109, am_49_136)\n",
    "aps_109"
   ]
  },
  {
   "cell_type": "code",
   "execution_count": 20,
   "metadata": {
    "collapsed": false
   },
   "outputs": [
    {
     "data": {
      "text/plain": [
       "array([53, 53, 53, 53,  0,  2,  0, 53, 53,  0,  0, 53, 53, 53,  0,  0,  0,\n",
       "        0, 53, 53,  0, 53, 53,  0, 53, 53, 53, 53, 53, 53, 53, 53,  0, 53,\n",
       "       53, 53, 53, 53, 53, 53, 53, 52, 53, 53, 53, 53, 53, 53, 53, 53, 53,\n",
       "       53, 53, 53, 53, 53, 53, 53, 53, 53, 53,  0, 53, 53, 53, 53, 53, 53,\n",
       "       53, 53, 53, 53, 53, 53, 53, 53, 53, 53, 53, 52, 53, 53, 53, 53,  0,\n",
       "       53, 53, 53, 53, 53, 53, 53, 53, 53, 53, 53, 53, 53, 53, 53, 53, 53,\n",
       "       53, 53, 53,  0, 53, 53, 53, 53, 53, 53, 53, 53, 53, 53, 53, 53, 53,\n",
       "       53, 53, 53, 53])"
      ]
     },
     "execution_count": 20,
     "metadata": {},
     "output_type": "execute_result"
    }
   ],
   "source": [
    "aps_108, am_108 = an.sa_123_1561.snps_from_aps_value(108, am_49_136)\n",
    "aps_108"
   ]
  },
  {
   "cell_type": "code",
   "execution_count": 21,
   "metadata": {
    "collapsed": false
   },
   "outputs": [
    {
     "data": {
      "text/html": [
       "\n",
       "\n",
       "    <div class=\"bk-root\">\n",
       "        <div class=\"plotdiv\" id=\"6ebdc008-27fc-44e1-9e7b-146995b3b9ff\"></div>\n",
       "    </div>\n",
       "<script type=\"text/javascript\">\n",
       "  \n",
       "  (function(global) {\n",
       "    function now() {\n",
       "      return new Date();\n",
       "    }\n",
       "  \n",
       "    if (typeof (window._bokeh_onload_callbacks) === \"undefined\") {\n",
       "      window._bokeh_onload_callbacks = [];\n",
       "    }\n",
       "  \n",
       "    function run_callbacks() {\n",
       "      window._bokeh_onload_callbacks.forEach(function(callback) { callback() });\n",
       "      delete window._bokeh_onload_callbacks\n",
       "      console.info(\"Bokeh: all callbacks have finished\");\n",
       "    }\n",
       "  \n",
       "    function load_libs(js_urls, callback) {\n",
       "      window._bokeh_onload_callbacks.push(callback);\n",
       "      if (window._bokeh_is_loading > 0) {\n",
       "        console.log(\"Bokeh: BokehJS is being loaded, scheduling callback at\", now());\n",
       "        return null;\n",
       "      }\n",
       "      if (js_urls == null || js_urls.length === 0) {\n",
       "        run_callbacks();\n",
       "        return null;\n",
       "      }\n",
       "      console.log(\"Bokeh: BokehJS not loaded, scheduling load and callback at\", now());\n",
       "      window._bokeh_is_loading = js_urls.length;\n",
       "      for (var i = 0; i < js_urls.length; i++) {\n",
       "        var url = js_urls[i];\n",
       "        var s = document.createElement('script');\n",
       "        s.src = url;\n",
       "        s.async = false;\n",
       "        s.onreadystatechange = s.onload = function() {\n",
       "          window._bokeh_is_loading--;\n",
       "          if (window._bokeh_is_loading === 0) {\n",
       "            console.log(\"Bokeh: all BokehJS libraries loaded\");\n",
       "            run_callbacks()\n",
       "          }\n",
       "        };\n",
       "        s.onerror = function() {\n",
       "          console.warn(\"failed to load library \" + url);\n",
       "        };\n",
       "        console.log(\"Bokeh: injecting script tag for BokehJS library: \", url);\n",
       "        document.getElementsByTagName(\"head\")[0].appendChild(s);\n",
       "      }\n",
       "    };var element = document.getElementById(\"6ebdc008-27fc-44e1-9e7b-146995b3b9ff\");\n",
       "    if (element == null) {\n",
       "      console.log(\"Bokeh: ERROR: autoload.js configured with elementid '6ebdc008-27fc-44e1-9e7b-146995b3b9ff' but no matching script tag was found. \")\n",
       "      return false;\n",
       "    }\n",
       "  \n",
       "    var js_urls = [];\n",
       "  \n",
       "    var inline_js = [\n",
       "      function(Bokeh) {\n",
       "        Bokeh.$(function() {\n",
       "            var docs_json = {\"c77aa566-7fd8-45b8-ad5b-ddaa4cc7e3d4\":{\"roots\":{\"references\":[{\"attributes\":{\"formatter\":{\"id\":\"1f0b342b-28e6-4b54-a20b-996386bb747d\",\"type\":\"BasicTickFormatter\"},\"plot\":{\"id\":\"d107047c-9782-4f7c-909f-c7be30aa914a\",\"subtype\":\"Figure\",\"type\":\"Plot\"},\"ticker\":{\"id\":\"74cae9c2-f44f-4de8-b2e5-906af66cbab7\",\"type\":\"BasicTicker\"}},\"id\":\"902a63e3-c768-4c97-a417-97468ddd7099\",\"type\":\"LinearAxis\"},{\"attributes\":{\"line_alpha\":{\"value\":0.1},\"line_color\":{\"value\":\"#1f77b4\"},\"x\":{\"field\":\"x\"},\"y\":{\"field\":\"y\"}},\"id\":\"5297a77f-3d87-4bd3-a036-e1e6af2462f4\",\"type\":\"Line\"},{\"attributes\":{\"plot\":{\"id\":\"d107047c-9782-4f7c-909f-c7be30aa914a\",\"subtype\":\"Figure\",\"type\":\"Plot\"}},\"id\":\"a021b2af-dbac-40c2-899b-026af114ac36\",\"type\":\"ResetTool\"},{\"attributes\":{\"plot\":{\"id\":\"d107047c-9782-4f7c-909f-c7be30aa914a\",\"subtype\":\"Figure\",\"type\":\"Plot\"}},\"id\":\"8287b4cd-6a85-4ff9-a28c-a8b76039b8e6\",\"type\":\"PanTool\"},{\"attributes\":{\"below\":[{\"id\":\"902a63e3-c768-4c97-a417-97468ddd7099\",\"type\":\"LinearAxis\"}],\"left\":[{\"id\":\"fef82f92-08f5-4a9a-a5fa-d801ff9ea115\",\"type\":\"LinearAxis\"}],\"plot_height\":400,\"plot_width\":900,\"renderers\":[{\"id\":\"902a63e3-c768-4c97-a417-97468ddd7099\",\"type\":\"LinearAxis\"},{\"id\":\"4bdcb254-770a-47e7-b279-0f4dc8ae8351\",\"type\":\"Grid\"},{\"id\":\"fef82f92-08f5-4a9a-a5fa-d801ff9ea115\",\"type\":\"LinearAxis\"},{\"id\":\"71cfcc38-6dde-422d-a63b-2cde7a3045eb\",\"type\":\"Grid\"},{\"id\":\"ac2666b9-a171-4b69-8654-dc41f06b27e0\",\"type\":\"BoxAnnotation\"},{\"id\":\"5ceb606f-1b83-457c-a5e8-c08757dce722\",\"type\":\"GlyphRenderer\"}],\"title\":{\"id\":\"6783d415-82d9-47ec-971d-8e422f3f4eb8\",\"type\":\"Title\"},\"tool_events\":{\"id\":\"c9cc5667-b36e-475b-a7f4-c4c993d58109\",\"type\":\"ToolEvents\"},\"toolbar\":{\"id\":\"7de597b5-11fc-41ac-92e1-c367dfbd40a2\",\"type\":\"Toolbar\"},\"toolbar_location\":null,\"x_range\":{\"id\":\"6cb49e71-0586-4dac-b848-d946b2fb1197\",\"type\":\"Range1d\"},\"y_range\":{\"id\":\"d450930f-e05f-48a7-9086-0fb257dee214\",\"type\":\"Range1d\"}},\"id\":\"d107047c-9782-4f7c-909f-c7be30aa914a\",\"subtype\":\"Figure\",\"type\":\"Plot\"},{\"attributes\":{\"formatter\":{\"id\":\"412eb164-754a-436c-9b4e-4e4d7a0e3769\",\"type\":\"BasicTickFormatter\"},\"plot\":{\"id\":\"d107047c-9782-4f7c-909f-c7be30aa914a\",\"subtype\":\"Figure\",\"type\":\"Plot\"},\"ticker\":{\"id\":\"78209453-8bc9-44c8-b79e-578fb5320559\",\"type\":\"BasicTicker\"}},\"id\":\"fef82f92-08f5-4a9a-a5fa-d801ff9ea115\",\"type\":\"LinearAxis\"},{\"attributes\":{},\"id\":\"78209453-8bc9-44c8-b79e-578fb5320559\",\"type\":\"BasicTicker\"},{\"attributes\":{\"callback\":null,\"end\":38.5},\"id\":\"d450930f-e05f-48a7-9086-0fb257dee214\",\"type\":\"Range1d\"},{\"attributes\":{\"callback\":null,\"column_names\":[\"y\",\"x\"],\"data\":{\"x\":[-0.5,-0.5,1.5,1.5,2.5,2.5,3.5,3.5,4.5,4.5,5.5,5.5,6.5,6.5,7.5,7.5,8.5,8.5],\"y\":[0.0,0.0,0.0,18.0,18.0,35.0,35.0,20.0,20.0,21.0,21.0,17.0,17.0,22.0,22.0,3.0,3.0,0.0]}},\"id\":\"2a75a866-0e13-4d11-9b16-c98ad5b23693\",\"type\":\"ColumnDataSource\"},{\"attributes\":{\"plot\":{\"id\":\"d107047c-9782-4f7c-909f-c7be30aa914a\",\"subtype\":\"Figure\",\"type\":\"Plot\"}},\"id\":\"c217a944-24b8-4502-9ae2-4263bfc4e284\",\"type\":\"SaveTool\"},{\"attributes\":{},\"id\":\"1f0b342b-28e6-4b54-a20b-996386bb747d\",\"type\":\"BasicTickFormatter\"},{\"attributes\":{},\"id\":\"c9cc5667-b36e-475b-a7f4-c4c993d58109\",\"type\":\"ToolEvents\"},{\"attributes\":{\"callback\":null,\"end\":9.5,\"start\":-0.5},\"id\":\"6cb49e71-0586-4dac-b848-d946b2fb1197\",\"type\":\"Range1d\"},{\"attributes\":{\"overlay\":{\"id\":\"ac2666b9-a171-4b69-8654-dc41f06b27e0\",\"type\":\"BoxAnnotation\"},\"plot\":{\"id\":\"d107047c-9782-4f7c-909f-c7be30aa914a\",\"subtype\":\"Figure\",\"type\":\"Plot\"}},\"id\":\"2671e6c5-9219-4c3e-bf69-8165f2e72c1f\",\"type\":\"BoxZoomTool\"},{\"attributes\":{\"bottom_units\":\"screen\",\"fill_alpha\":{\"value\":0.5},\"fill_color\":{\"value\":\"lightgrey\"},\"left_units\":\"screen\",\"level\":\"overlay\",\"line_alpha\":{\"value\":1.0},\"line_color\":{\"value\":\"black\"},\"line_dash\":[4,4],\"line_width\":{\"value\":2},\"plot\":null,\"render_mode\":\"css\",\"right_units\":\"screen\",\"top_units\":\"screen\"},\"id\":\"ac2666b9-a171-4b69-8654-dc41f06b27e0\",\"type\":\"BoxAnnotation\"},{\"attributes\":{\"plot\":{\"id\":\"d107047c-9782-4f7c-909f-c7be30aa914a\",\"subtype\":\"Figure\",\"type\":\"Plot\"}},\"id\":\"e1bbd112-63d0-430d-91eb-6a49437341da\",\"type\":\"WheelZoomTool\"},{\"attributes\":{},\"id\":\"412eb164-754a-436c-9b4e-4e4d7a0e3769\",\"type\":\"BasicTickFormatter\"},{\"attributes\":{\"plot\":{\"id\":\"d107047c-9782-4f7c-909f-c7be30aa914a\",\"subtype\":\"Figure\",\"type\":\"Plot\"},\"ticker\":{\"id\":\"74cae9c2-f44f-4de8-b2e5-906af66cbab7\",\"type\":\"BasicTicker\"}},\"id\":\"4bdcb254-770a-47e7-b279-0f4dc8ae8351\",\"type\":\"Grid\"},{\"attributes\":{\"plot\":{\"id\":\"d107047c-9782-4f7c-909f-c7be30aa914a\",\"subtype\":\"Figure\",\"type\":\"Plot\"}},\"id\":\"1f663165-a933-42e9-9cb1-f71be18daf66\",\"type\":\"HelpTool\"},{\"attributes\":{},\"id\":\"74cae9c2-f44f-4de8-b2e5-906af66cbab7\",\"type\":\"BasicTicker\"},{\"attributes\":{\"dimension\":1,\"plot\":{\"id\":\"d107047c-9782-4f7c-909f-c7be30aa914a\",\"subtype\":\"Figure\",\"type\":\"Plot\"},\"ticker\":{\"id\":\"78209453-8bc9-44c8-b79e-578fb5320559\",\"type\":\"BasicTicker\"}},\"id\":\"71cfcc38-6dde-422d-a63b-2cde7a3045eb\",\"type\":\"Grid\"},{\"attributes\":{\"plot\":null,\"text\":null},\"id\":\"6783d415-82d9-47ec-971d-8e422f3f4eb8\",\"type\":\"Title\"},{\"attributes\":{\"data_source\":{\"id\":\"2a75a866-0e13-4d11-9b16-c98ad5b23693\",\"type\":\"ColumnDataSource\"},\"glyph\":{\"id\":\"2ad3616e-7b15-49cd-8514-047a5e74de0d\",\"type\":\"Line\"},\"hover_glyph\":null,\"nonselection_glyph\":{\"id\":\"5297a77f-3d87-4bd3-a036-e1e6af2462f4\",\"type\":\"Line\"},\"selection_glyph\":null},\"id\":\"5ceb606f-1b83-457c-a5e8-c08757dce722\",\"type\":\"GlyphRenderer\"},{\"attributes\":{\"active_drag\":\"auto\",\"active_scroll\":\"auto\",\"active_tap\":\"auto\",\"tools\":[{\"id\":\"8287b4cd-6a85-4ff9-a28c-a8b76039b8e6\",\"type\":\"PanTool\"},{\"id\":\"e1bbd112-63d0-430d-91eb-6a49437341da\",\"type\":\"WheelZoomTool\"},{\"id\":\"2671e6c5-9219-4c3e-bf69-8165f2e72c1f\",\"type\":\"BoxZoomTool\"},{\"id\":\"c217a944-24b8-4502-9ae2-4263bfc4e284\",\"type\":\"SaveTool\"},{\"id\":\"a021b2af-dbac-40c2-899b-026af114ac36\",\"type\":\"ResetTool\"},{\"id\":\"1f663165-a933-42e9-9cb1-f71be18daf66\",\"type\":\"HelpTool\"}]},\"id\":\"7de597b5-11fc-41ac-92e1-c367dfbd40a2\",\"type\":\"Toolbar\"},{\"attributes\":{\"line_color\":{\"value\":\"#1f77b4\"},\"x\":{\"field\":\"x\"},\"y\":{\"field\":\"y\"}},\"id\":\"2ad3616e-7b15-49cd-8514-047a5e74de0d\",\"type\":\"Line\"}],\"root_ids\":[\"d107047c-9782-4f7c-909f-c7be30aa914a\"]},\"title\":\"Bokeh Application\",\"version\":\"0.12.0\"}};\n",
       "            var render_items = [{\"docid\":\"c77aa566-7fd8-45b8-ad5b-ddaa4cc7e3d4\",\"elementid\":\"6ebdc008-27fc-44e1-9e7b-146995b3b9ff\",\"modelid\":\"d107047c-9782-4f7c-909f-c7be30aa914a\",\"notebook_comms_target\":\"2a2fa49f-de8b-4e44-9feb-c45f11e51da8\"}];\n",
       "            \n",
       "            Bokeh.embed.embed_items(docs_json, render_items);\n",
       "        });\n",
       "      },\n",
       "      function(Bokeh) {\n",
       "      }\n",
       "    ];\n",
       "  \n",
       "    function run_inline_js() {\n",
       "      for (var i = 0; i < inline_js.length; i++) {\n",
       "        inline_js[i](window.Bokeh);\n",
       "      }\n",
       "    }\n",
       "  \n",
       "    if (window._bokeh_is_loading === 0) {\n",
       "      console.log(\"Bokeh: BokehJS loaded, going straight to plotting\");\n",
       "      run_inline_js();\n",
       "    } else {\n",
       "      load_libs(js_urls, function() {\n",
       "        console.log(\"Bokeh: BokehJS plotting callback run at\", now());\n",
       "        run_inline_js();\n",
       "      });\n",
       "    }\n",
       "  }(this));\n",
       "</script>"
      ]
     },
     "metadata": {},
     "output_type": "display_data"
    },
    {
     "data": {
      "text/html": [
       "<p><code>&lt;Bokeh Notebook handle for <strong>In[21]</strong>&gt;</code></p>"
      ],
      "text/plain": [
       "<bokeh.io._CommsHandle at 0x7f3605923090>"
      ]
     },
     "execution_count": 21,
     "metadata": {},
     "output_type": "execute_result"
    }
   ],
   "source": [
    "count_data = sa_62_1265.unique_snps_per_allele(am_49_136)\n",
    "plt_obj = smcp(count_data)\n",
    "plt = plt_obj.do_plot()\n",
    "show(plt)"
   ]
  },
  {
   "cell_type": "code",
   "execution_count": 22,
   "metadata": {
    "collapsed": false
   },
   "outputs": [
    {
     "data": {
      "text/plain": [
       "array([(2, 18), (3, 35), (4, 20), (5, 21), (6, 17), (7, 22), (8, 3)], \n",
       "      dtype=[('count', '<u2'), ('snps', '<u2')])"
      ]
     },
     "execution_count": 22,
     "metadata": {},
     "output_type": "execute_result"
    }
   ],
   "source": [
    "count_data"
   ]
  },
  {
   "cell_type": "code",
   "execution_count": 23,
   "metadata": {
    "collapsed": false
   },
   "outputs": [
    {
     "data": {
      "text/plain": [
       "array([ 61, 136, 136,  65,  65,   0,   0,   0,   0,   0,   0,   0,   0,\n",
       "         0,   0,   0,   0,   4,   0,   0,   0,   4,   4,   0,   0,   0,\n",
       "         0,   0,   0,   0,   0,   0,   0,   0,   0,   1,   0,   0,   0,\n",
       "         0,  90,   0,   0,   0,   0,   0,   0,   0,   0,   0,   0,   0,\n",
       "         0,   0,   0,   0,   0,   0,   0,   0,   0,  40])"
      ]
     },
     "execution_count": 23,
     "metadata": {},
     "output_type": "execute_result"
    }
   ],
   "source": [
    "an.sa_62_1265.alleles_per_snp(am_49_136)"
   ]
  },
  {
   "cell_type": "code",
   "execution_count": 24,
   "metadata": {
    "collapsed": false
   },
   "outputs": [
    {
     "data": {
      "text/plain": [
       "array([22, 22, 22, 21, 21,  0,  0,  0,  0,  0,  0,  0,  0,  0,  0,  0,  0,\n",
       "        1,  0,  0,  0,  1,  1,  0,  0,  0,  0,  0,  0,  0,  0,  0,  0,  0,\n",
       "        0,  0,  0,  0,  0,  0, 22,  0,  0,  0,  0,  0,  0,  0,  0,  0,  0,\n",
       "        0,  0,  0,  0,  0,  0,  0,  0,  0,  0, 21])"
      ]
     },
     "execution_count": 24,
     "metadata": {},
     "output_type": "execute_result"
    }
   ],
   "source": [
    "aps_7, am_7 = an.sa_62_1265.snps_from_aps_value(7, am_49_136)\n",
    "aps_7"
   ]
  },
  {
   "cell_type": "code",
   "execution_count": 25,
   "metadata": {
    "collapsed": false
   },
   "outputs": [
    {
     "data": {
      "text/plain": [
       "array([17, 17, 17, 17, 17,  0,  0,  0,  0,  0,  0,  0,  0,  0,  0,  0,  0,\n",
       "        0,  0,  0,  0,  0,  0,  0,  0,  0,  0,  0,  0,  0,  0,  0,  0,  0,\n",
       "        0,  0,  0,  0,  0,  0,  9,  0,  0,  0,  0,  0,  0,  0,  0,  0,  0,\n",
       "        0,  0,  0,  0,  0,  0,  0,  0,  0,  0,  8])"
      ]
     },
     "execution_count": 25,
     "metadata": {},
     "output_type": "execute_result"
    }
   ],
   "source": [
    "aps_6, am_6 = an.sa_62_1265.snps_from_aps_value(6, am_49_136)\n",
    "aps_6"
   ]
  },
  {
   "cell_type": "code",
   "execution_count": 26,
   "metadata": {
    "collapsed": false
   },
   "outputs": [
    {
     "data": {
      "text/plain": [
       "array([11, 21, 21, 12, 12,  0,  0,  0,  0,  0,  0,  0,  0,  0,  0,  0,  0,\n",
       "        0,  0,  0,  0,  0,  0,  0,  0,  0,  0,  0,  0,  0,  0,  0,  0,  0,\n",
       "        0,  0,  0,  0,  0,  0, 19,  0,  0,  0,  0,  0,  0,  0,  0,  0,  0,\n",
       "        0,  0,  0,  0,  0,  0,  0,  0,  0,  0,  9])"
      ]
     },
     "execution_count": 26,
     "metadata": {},
     "output_type": "execute_result"
    }
   ],
   "source": [
    "aps_5, am_5 = an.sa_62_1265.snps_from_aps_value(5, am_49_136)\n",
    "aps_5"
   ]
  },
  {
   "cell_type": "code",
   "execution_count": 27,
   "metadata": {
    "collapsed": false
   },
   "outputs": [
    {
     "data": {
      "text/plain": [
       "array([ 8, 20, 20, 12, 12,  0,  0,  0,  0,  0,  0,  0,  0,  0,  0,  0,  0,\n",
       "        0,  0,  0,  0,  0,  0,  0,  0,  0,  0,  0,  0,  0,  0,  0,  0,  0,\n",
       "        0,  0,  0,  0,  0,  0,  6,  0,  0,  0,  0,  0,  0,  0,  0,  0,  0,\n",
       "        0,  0,  0,  0,  0,  0,  0,  0,  0,  0,  2])"
      ]
     },
     "execution_count": 27,
     "metadata": {},
     "output_type": "execute_result"
    }
   ],
   "source": [
    "aps_4, am_4 = an.sa_62_1265.snps_from_aps_value(4, am_49_136)\n",
    "aps_4"
   ]
  },
  {
   "cell_type": "code",
   "execution_count": 28,
   "metadata": {
    "collapsed": false
   },
   "outputs": [
    {
     "data": {
      "text/plain": [
       "array([ 0, 35, 35,  0,  0,  0,  0,  0,  0,  0,  0,  0,  0,  0,  0,  0,  0,\n",
       "        0,  0,  0,  0,  0,  0,  0,  0,  0,  0,  0,  0,  0,  0,  0,  0,  0,\n",
       "        0,  1,  0,  0,  0,  0, 34,  0,  0,  0,  0,  0,  0,  0,  0,  0,  0,\n",
       "        0,  0,  0,  0,  0,  0,  0,  0,  0,  0,  0])"
      ]
     },
     "execution_count": 28,
     "metadata": {},
     "output_type": "execute_result"
    }
   ],
   "source": [
    "aps_3, am_3 = an.sa_62_1265.snps_from_aps_value(3, am_49_136)\n",
    "aps_3"
   ]
  },
  {
   "cell_type": "code",
   "execution_count": 29,
   "metadata": {
    "collapsed": false
   },
   "outputs": [
    {
     "data": {
      "text/plain": [
       "array([ 0, 18, 18,  0,  0,  0,  0,  0,  0,  0,  0,  0,  0,  0,  0,  0,  0,\n",
       "        0,  0,  0,  0,  0,  0,  0,  0,  0,  0,  0,  0,  0,  0,  0,  0,  0,\n",
       "        0,  0,  0,  0,  0,  0,  0,  0,  0,  0,  0,  0,  0,  0,  0,  0,  0,\n",
       "        0,  0,  0,  0,  0,  0,  0,  0,  0,  0,  0])"
      ]
     },
     "execution_count": 29,
     "metadata": {},
     "output_type": "execute_result"
    }
   ],
   "source": [
    "aps_2, am_2 = an.sa_62_1265.snps_from_aps_value(2, am_49_136)\n",
    "aps_2"
   ]
  },
  {
   "cell_type": "code",
   "execution_count": 30,
   "metadata": {
    "collapsed": false
   },
   "outputs": [
    {
     "data": {
      "text/html": [
       "\n",
       "\n",
       "    <div class=\"bk-root\">\n",
       "        <div class=\"plotdiv\" id=\"d7cc6262-c8fa-4783-9252-2f9602a09699\"></div>\n",
       "    </div>\n",
       "<script type=\"text/javascript\">\n",
       "  \n",
       "  (function(global) {\n",
       "    function now() {\n",
       "      return new Date();\n",
       "    }\n",
       "  \n",
       "    if (typeof (window._bokeh_onload_callbacks) === \"undefined\") {\n",
       "      window._bokeh_onload_callbacks = [];\n",
       "    }\n",
       "  \n",
       "    function run_callbacks() {\n",
       "      window._bokeh_onload_callbacks.forEach(function(callback) { callback() });\n",
       "      delete window._bokeh_onload_callbacks\n",
       "      console.info(\"Bokeh: all callbacks have finished\");\n",
       "    }\n",
       "  \n",
       "    function load_libs(js_urls, callback) {\n",
       "      window._bokeh_onload_callbacks.push(callback);\n",
       "      if (window._bokeh_is_loading > 0) {\n",
       "        console.log(\"Bokeh: BokehJS is being loaded, scheduling callback at\", now());\n",
       "        return null;\n",
       "      }\n",
       "      if (js_urls == null || js_urls.length === 0) {\n",
       "        run_callbacks();\n",
       "        return null;\n",
       "      }\n",
       "      console.log(\"Bokeh: BokehJS not loaded, scheduling load and callback at\", now());\n",
       "      window._bokeh_is_loading = js_urls.length;\n",
       "      for (var i = 0; i < js_urls.length; i++) {\n",
       "        var url = js_urls[i];\n",
       "        var s = document.createElement('script');\n",
       "        s.src = url;\n",
       "        s.async = false;\n",
       "        s.onreadystatechange = s.onload = function() {\n",
       "          window._bokeh_is_loading--;\n",
       "          if (window._bokeh_is_loading === 0) {\n",
       "            console.log(\"Bokeh: all BokehJS libraries loaded\");\n",
       "            run_callbacks()\n",
       "          }\n",
       "        };\n",
       "        s.onerror = function() {\n",
       "          console.warn(\"failed to load library \" + url);\n",
       "        };\n",
       "        console.log(\"Bokeh: injecting script tag for BokehJS library: \", url);\n",
       "        document.getElementsByTagName(\"head\")[0].appendChild(s);\n",
       "      }\n",
       "    };var element = document.getElementById(\"d7cc6262-c8fa-4783-9252-2f9602a09699\");\n",
       "    if (element == null) {\n",
       "      console.log(\"Bokeh: ERROR: autoload.js configured with elementid 'd7cc6262-c8fa-4783-9252-2f9602a09699' but no matching script tag was found. \")\n",
       "      return false;\n",
       "    }\n",
       "  \n",
       "    var js_urls = [];\n",
       "  \n",
       "    var inline_js = [\n",
       "      function(Bokeh) {\n",
       "        Bokeh.$(function() {\n",
       "            var docs_json = {\"12c6d354-b07b-4340-8357-89dde5c36aa7\":{\"roots\":{\"references\":[{\"attributes\":{\"overlay\":{\"id\":\"d12bc296-41f8-40b7-9f17-edba93ae228c\",\"type\":\"BoxAnnotation\"},\"plot\":{\"id\":\"093e4661-25cb-406f-9ec2-02e1d26bce9e\",\"subtype\":\"Figure\",\"type\":\"Plot\"}},\"id\":\"c05f15c5-dd7c-4bee-8a12-3fceac9c99ff\",\"type\":\"BoxZoomTool\"},{\"attributes\":{},\"id\":\"d5a38e50-eb7f-4d00-a757-5d97feb500ea\",\"type\":\"BasicTickFormatter\"},{\"attributes\":{\"formatter\":{\"id\":\"d5a38e50-eb7f-4d00-a757-5d97feb500ea\",\"type\":\"BasicTickFormatter\"},\"plot\":{\"id\":\"093e4661-25cb-406f-9ec2-02e1d26bce9e\",\"subtype\":\"Figure\",\"type\":\"Plot\"},\"ticker\":{\"id\":\"444f2c16-24cf-4513-a8f2-a0a5f6f81d09\",\"type\":\"BasicTicker\"}},\"id\":\"2265a552-3436-45d1-b2dd-623727790e21\",\"type\":\"LinearAxis\"},{\"attributes\":{\"plot\":{\"id\":\"093e4661-25cb-406f-9ec2-02e1d26bce9e\",\"subtype\":\"Figure\",\"type\":\"Plot\"}},\"id\":\"5b0c5466-8eda-49ea-80eb-b88ebea21282\",\"type\":\"WheelZoomTool\"},{\"attributes\":{\"active_drag\":\"auto\",\"active_scroll\":\"auto\",\"active_tap\":\"auto\",\"tools\":[{\"id\":\"589aaf9b-48a1-4680-bcee-01e16bd20b45\",\"type\":\"PanTool\"},{\"id\":\"5b0c5466-8eda-49ea-80eb-b88ebea21282\",\"type\":\"WheelZoomTool\"},{\"id\":\"c05f15c5-dd7c-4bee-8a12-3fceac9c99ff\",\"type\":\"BoxZoomTool\"},{\"id\":\"cf35a9f1-040e-4edc-9982-97c5841858b8\",\"type\":\"SaveTool\"},{\"id\":\"1fb7a380-e0fe-45d8-9d69-352323cf9641\",\"type\":\"ResetTool\"},{\"id\":\"137917c7-362c-4b55-901b-4963af89ebf8\",\"type\":\"HelpTool\"}]},\"id\":\"53db3993-f031-48ff-8f68-52e2ba858db4\",\"type\":\"Toolbar\"},{\"attributes\":{\"callback\":null,\"column_names\":[\"y\",\"x\"],\"data\":{\"x\":[-0.5,-0.5,0.5,0.5,1.5,1.5,2.5,2.5,3.5,3.5],\"y\":[0.0,0.0,0.0,7.0,7.0,128.0,128.0,1.0,1.0,0.0]}},\"id\":\"87fa8092-dd8a-4b29-8032-6f353fb386f3\",\"type\":\"ColumnDataSource\"},{\"attributes\":{\"dimension\":1,\"plot\":{\"id\":\"093e4661-25cb-406f-9ec2-02e1d26bce9e\",\"subtype\":\"Figure\",\"type\":\"Plot\"},\"ticker\":{\"id\":\"444f2c16-24cf-4513-a8f2-a0a5f6f81d09\",\"type\":\"BasicTicker\"}},\"id\":\"5c30a9e9-e412-4df4-a106-8ddcb43d8e4f\",\"type\":\"Grid\"},{\"attributes\":{},\"id\":\"bdc0d664-cf06-4865-a9fc-a99de20a3662\",\"type\":\"BasicTicker\"},{\"attributes\":{\"plot\":{\"id\":\"093e4661-25cb-406f-9ec2-02e1d26bce9e\",\"subtype\":\"Figure\",\"type\":\"Plot\"}},\"id\":\"589aaf9b-48a1-4680-bcee-01e16bd20b45\",\"type\":\"PanTool\"},{\"attributes\":{\"plot\":{\"id\":\"093e4661-25cb-406f-9ec2-02e1d26bce9e\",\"subtype\":\"Figure\",\"type\":\"Plot\"},\"ticker\":{\"id\":\"bdc0d664-cf06-4865-a9fc-a99de20a3662\",\"type\":\"BasicTicker\"}},\"id\":\"0d5c2d2c-9b09-49fd-9d07-0306096bfe20\",\"type\":\"Grid\"},{\"attributes\":{\"line_alpha\":{\"value\":0.1},\"line_color\":{\"value\":\"#1f77b4\"},\"x\":{\"field\":\"x\"},\"y\":{\"field\":\"y\"}},\"id\":\"728a4036-cb22-4007-8b8b-f9f70f39b8b1\",\"type\":\"Line\"},{\"attributes\":{\"data_source\":{\"id\":\"87fa8092-dd8a-4b29-8032-6f353fb386f3\",\"type\":\"ColumnDataSource\"},\"glyph\":{\"id\":\"8fd541e5-1bdc-45ba-8a33-9e541f3f9999\",\"type\":\"Line\"},\"hover_glyph\":null,\"nonselection_glyph\":{\"id\":\"728a4036-cb22-4007-8b8b-f9f70f39b8b1\",\"type\":\"Line\"},\"selection_glyph\":null},\"id\":\"2f4c88dd-7a8f-4e77-b290-eee58b7fa926\",\"type\":\"GlyphRenderer\"},{\"attributes\":{},\"id\":\"444f2c16-24cf-4513-a8f2-a0a5f6f81d09\",\"type\":\"BasicTicker\"},{\"attributes\":{\"line_color\":{\"value\":\"#1f77b4\"},\"x\":{\"field\":\"x\"},\"y\":{\"field\":\"y\"}},\"id\":\"8fd541e5-1bdc-45ba-8a33-9e541f3f9999\",\"type\":\"Line\"},{\"attributes\":{\"bottom_units\":\"screen\",\"fill_alpha\":{\"value\":0.5},\"fill_color\":{\"value\":\"lightgrey\"},\"left_units\":\"screen\",\"level\":\"overlay\",\"line_alpha\":{\"value\":1.0},\"line_color\":{\"value\":\"black\"},\"line_dash\":[4,4],\"line_width\":{\"value\":2},\"plot\":null,\"render_mode\":\"css\",\"right_units\":\"screen\",\"top_units\":\"screen\"},\"id\":\"d12bc296-41f8-40b7-9f17-edba93ae228c\",\"type\":\"BoxAnnotation\"},{\"attributes\":{\"plot\":{\"id\":\"093e4661-25cb-406f-9ec2-02e1d26bce9e\",\"subtype\":\"Figure\",\"type\":\"Plot\"}},\"id\":\"1fb7a380-e0fe-45d8-9d69-352323cf9641\",\"type\":\"ResetTool\"},{\"attributes\":{\"below\":[{\"id\":\"665be982-d2f9-4375-ae7f-3fe9925ad87b\",\"type\":\"LinearAxis\"}],\"left\":[{\"id\":\"2265a552-3436-45d1-b2dd-623727790e21\",\"type\":\"LinearAxis\"}],\"plot_height\":400,\"plot_width\":900,\"renderers\":[{\"id\":\"665be982-d2f9-4375-ae7f-3fe9925ad87b\",\"type\":\"LinearAxis\"},{\"id\":\"0d5c2d2c-9b09-49fd-9d07-0306096bfe20\",\"type\":\"Grid\"},{\"id\":\"2265a552-3436-45d1-b2dd-623727790e21\",\"type\":\"LinearAxis\"},{\"id\":\"5c30a9e9-e412-4df4-a106-8ddcb43d8e4f\",\"type\":\"Grid\"},{\"id\":\"d12bc296-41f8-40b7-9f17-edba93ae228c\",\"type\":\"BoxAnnotation\"},{\"id\":\"2f4c88dd-7a8f-4e77-b290-eee58b7fa926\",\"type\":\"GlyphRenderer\"}],\"title\":{\"id\":\"90f821fb-2c58-4499-ac1f-bb4fed3a2ac6\",\"type\":\"Title\"},\"tool_events\":{\"id\":\"49e948ed-727c-43b3-acb3-5066d8fdace4\",\"type\":\"ToolEvents\"},\"toolbar\":{\"id\":\"53db3993-f031-48ff-8f68-52e2ba858db4\",\"type\":\"Toolbar\"},\"toolbar_location\":null,\"x_range\":{\"id\":\"1bfa922b-f296-4df0-a91c-ad1559c8dea2\",\"type\":\"Range1d\"},\"y_range\":{\"id\":\"8db60db6-f416-40d9-8c5e-b2bdd044d8f8\",\"type\":\"Range1d\"}},\"id\":\"093e4661-25cb-406f-9ec2-02e1d26bce9e\",\"subtype\":\"Figure\",\"type\":\"Plot\"},{\"attributes\":{\"plot\":{\"id\":\"093e4661-25cb-406f-9ec2-02e1d26bce9e\",\"subtype\":\"Figure\",\"type\":\"Plot\"}},\"id\":\"137917c7-362c-4b55-901b-4963af89ebf8\",\"type\":\"HelpTool\"},{\"attributes\":{},\"id\":\"49e948ed-727c-43b3-acb3-5066d8fdace4\",\"type\":\"ToolEvents\"},{\"attributes\":{\"formatter\":{\"id\":\"f919b277-f1bd-4222-9c5a-69a45b1accc5\",\"type\":\"BasicTickFormatter\"},\"plot\":{\"id\":\"093e4661-25cb-406f-9ec2-02e1d26bce9e\",\"subtype\":\"Figure\",\"type\":\"Plot\"},\"ticker\":{\"id\":\"bdc0d664-cf06-4865-a9fc-a99de20a3662\",\"type\":\"BasicTicker\"}},\"id\":\"665be982-d2f9-4375-ae7f-3fe9925ad87b\",\"type\":\"LinearAxis\"},{\"attributes\":{\"plot\":null,\"text\":null},\"id\":\"90f821fb-2c58-4499-ac1f-bb4fed3a2ac6\",\"type\":\"Title\"},{\"attributes\":{\"callback\":null,\"end\":4.5,\"start\":-0.5},\"id\":\"1bfa922b-f296-4df0-a91c-ad1559c8dea2\",\"type\":\"Range1d\"},{\"attributes\":{},\"id\":\"f919b277-f1bd-4222-9c5a-69a45b1accc5\",\"type\":\"BasicTickFormatter\"},{\"attributes\":{\"plot\":{\"id\":\"093e4661-25cb-406f-9ec2-02e1d26bce9e\",\"subtype\":\"Figure\",\"type\":\"Plot\"}},\"id\":\"cf35a9f1-040e-4edc-9982-97c5841858b8\",\"type\":\"SaveTool\"},{\"attributes\":{\"callback\":null,\"end\":140.8},\"id\":\"8db60db6-f416-40d9-8c5e-b2bdd044d8f8\",\"type\":\"Range1d\"}],\"root_ids\":[\"093e4661-25cb-406f-9ec2-02e1d26bce9e\"]},\"title\":\"Bokeh Application\",\"version\":\"0.12.0\"}};\n",
       "            var render_items = [{\"docid\":\"12c6d354-b07b-4340-8357-89dde5c36aa7\",\"elementid\":\"d7cc6262-c8fa-4783-9252-2f9602a09699\",\"modelid\":\"093e4661-25cb-406f-9ec2-02e1d26bce9e\",\"notebook_comms_target\":\"30af028a-26de-4f63-a324-c605b42fc3d5\"}];\n",
       "            \n",
       "            Bokeh.embed.embed_items(docs_json, render_items);\n",
       "        });\n",
       "      },\n",
       "      function(Bokeh) {\n",
       "      }\n",
       "    ];\n",
       "  \n",
       "    function run_inline_js() {\n",
       "      for (var i = 0; i < inline_js.length; i++) {\n",
       "        inline_js[i](window.Bokeh);\n",
       "      }\n",
       "    }\n",
       "  \n",
       "    if (window._bokeh_is_loading === 0) {\n",
       "      console.log(\"Bokeh: BokehJS loaded, going straight to plotting\");\n",
       "      run_inline_js();\n",
       "    } else {\n",
       "      load_libs(js_urls, function() {\n",
       "        console.log(\"Bokeh: BokehJS plotting callback run at\", now());\n",
       "        run_inline_js();\n",
       "      });\n",
       "    }\n",
       "  }(this));\n",
       "</script>"
      ]
     },
     "metadata": {},
     "output_type": "display_data"
    },
    {
     "data": {
      "text/html": [
       "<p><code>&lt;Bokeh Notebook handle for <strong>In[30]</strong>&gt;</code></p>"
      ],
      "text/plain": [
       "<bokeh.io._CommsHandle at 0x7f3605923dd0>"
      ]
     },
     "execution_count": 30,
     "metadata": {},
     "output_type": "execute_result"
    }
   ],
   "source": [
    "count_data = sa_193_843.unique_snps_per_allele(am_49_136)\n",
    "plt_obj = smcp(count_data)\n",
    "plt = plt_obj.do_plot()\n",
    "show(plt)"
   ]
  },
  {
   "cell_type": "code",
   "execution_count": 31,
   "metadata": {
    "collapsed": false
   },
   "outputs": [
    {
     "data": {
      "text/plain": [
       "array([(1, 7), (2, 128), (3, 1)], \n",
       "      dtype=[('count', '<u2'), ('snps', '<u2')])"
      ]
     },
     "execution_count": 31,
     "metadata": {},
     "output_type": "execute_result"
    }
   ],
   "source": [
    "count_data"
   ]
  },
  {
   "cell_type": "code",
   "execution_count": 32,
   "metadata": {
    "collapsed": false
   },
   "outputs": [
    {
     "data": {
      "text/plain": [
       "array([58,  0,  0,  0,  0,  0,  0,  0,  0,  0,  0,  0,  0,  0,  0,  0,  0,\n",
       "        1,  0,  0,  0,  0,  0,  0,  0,  0,  0,  0,  0,  0,  0,  0,  0,  0,\n",
       "        0,  0,  0,  0,  0,  0,  0,  0,  0,  0,  0,  0,  0,  0,  0,  0,  0,\n",
       "        0,  0,  0,  0,  0,  0,  0,  0,  0,  0,  0,  4,  0,  0,  0,  0,  0,\n",
       "        0,  0,  0,  0,  0,  0,  0,  0,  0,  0,  0,  0,  0,  0,  0,  0,  0,\n",
       "        0,  0,  0,  0,  0,  0,  0,  0, 75, 75,  0,  0,  0,  0,  0,  0,  0,\n",
       "        0,  0,  0,  0,  0,  0,  0,  0,  0,  0,  0,  0,  0,  0,  0,  0,  0,\n",
       "        0,  0,  0,  0,  0,  0, 12,  0,  0,  0,  1,  0,  0,  0,  0,  0,  0,\n",
       "        0,  0,  0,  0,  0,  0,  0,  0,  0,  0,  0,  0,  0,  0,  0,  0,  0,\n",
       "        0,  0,  0,  0,  0,  0,  0,  0,  0,  0,  0, 40,  0,  0,  0,  0,  0,\n",
       "        0,  0,  0,  0,  0,  0,  0,  0,  0,  0,  0,  0,  0,  0,  0,  0,  0,\n",
       "        0,  0,  0,  0,  0,  0])"
      ]
     },
     "execution_count": 32,
     "metadata": {},
     "output_type": "execute_result"
    }
   ],
   "source": [
    "an.sa_193_843.alleles_per_snp(am_49_136)"
   ]
  }
 ],
 "metadata": {
  "anaconda-cloud": {},
  "kernelspec": {
   "display_name": "Python [Root]",
   "language": "python",
   "name": "Python [Root]"
  },
  "language_info": {
   "codemirror_mode": {
    "name": "ipython",
    "version": 2
   },
   "file_extension": ".py",
   "mimetype": "text/x-python",
   "name": "python",
   "nbconvert_exporter": "python",
   "pygments_lexer": "ipython2",
   "version": "2.7.12"
  }
 },
 "nbformat": 4,
 "nbformat_minor": 0
}
