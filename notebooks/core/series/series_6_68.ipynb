{
 "cells": [
  {
   "cell_type": "code",
   "execution_count": 1,
   "metadata": {
    "collapsed": false
   },
   "outputs": [
    {
     "data": {
      "text/html": []
     },
     "metadata": {},
     "output_type": "display_data"
    },
    {
     "data": {
      "application/javascript": [
       "\n",
       "(function(global) {\n",
       "  function now() {\n",
       "    return new Date();\n",
       "  }\n",
       "\n",
       "  if (typeof (window._bokeh_onload_callbacks) === \"undefined\") {\n",
       "    window._bokeh_onload_callbacks = [];\n",
       "  }\n",
       "\n",
       "  function run_callbacks() {\n",
       "    window._bokeh_onload_callbacks.forEach(function(callback) { callback() });\n",
       "    delete window._bokeh_onload_callbacks\n",
       "    console.info(\"Bokeh: all callbacks have finished\");\n",
       "  }\n",
       "\n",
       "  function load_libs(js_urls, callback) {\n",
       "    window._bokeh_onload_callbacks.push(callback);\n",
       "    if (window._bokeh_is_loading > 0) {\n",
       "      console.log(\"Bokeh: BokehJS is being loaded, scheduling callback at\", now());\n",
       "      return null;\n",
       "    }\n",
       "    if (js_urls == null || js_urls.length === 0) {\n",
       "      run_callbacks();\n",
       "      return null;\n",
       "    }\n",
       "    console.log(\"Bokeh: BokehJS not loaded, scheduling load and callback at\", now());\n",
       "    window._bokeh_is_loading = js_urls.length;\n",
       "    for (var i = 0; i < js_urls.length; i++) {\n",
       "      var url = js_urls[i];\n",
       "      var s = document.createElement('script');\n",
       "      s.src = url;\n",
       "      s.async = false;\n",
       "      s.onreadystatechange = s.onload = function() {\n",
       "        window._bokeh_is_loading--;\n",
       "        if (window._bokeh_is_loading === 0) {\n",
       "          console.log(\"Bokeh: all BokehJS libraries loaded\");\n",
       "          run_callbacks()\n",
       "        }\n",
       "      };\n",
       "      s.onerror = function() {\n",
       "        console.warn(\"failed to load library \" + url);\n",
       "      };\n",
       "      console.log(\"Bokeh: injecting script tag for BokehJS library: \", url);\n",
       "      document.getElementsByTagName(\"head\")[0].appendChild(s);\n",
       "    }\n",
       "  };\n",
       "\n",
       "  var js_urls = ['https://cdn.pydata.org/bokeh/release/bokeh-0.12.0.min.js', 'https://cdn.pydata.org/bokeh/release/bokeh-widgets-0.12.0.min.js', 'https://cdn.pydata.org/bokeh/release/bokeh-compiler-0.12.0.min.js'];\n",
       "\n",
       "  var inline_js = [\n",
       "    function(Bokeh) {\n",
       "      Bokeh.set_log_level(\"info\");\n",
       "    },\n",
       "    \n",
       "    function(Bokeh) {\n",
       "      Bokeh.$(\"#1eb4bf85-afa4-4c22-b03b-83db56c86120\").text(\"BokehJS successfully loaded\");\n",
       "    },\n",
       "    function(Bokeh) {\n",
       "      console.log(\"Bokeh: injecting CSS: https://cdn.pydata.org/bokeh/release/bokeh-0.12.0.min.css\");\n",
       "      Bokeh.embed.inject_css(\"https://cdn.pydata.org/bokeh/release/bokeh-0.12.0.min.css\");\n",
       "      console.log(\"Bokeh: injecting CSS: https://cdn.pydata.org/bokeh/release/bokeh-widgets-0.12.0.min.css\");\n",
       "      Bokeh.embed.inject_css(\"https://cdn.pydata.org/bokeh/release/bokeh-widgets-0.12.0.min.css\");\n",
       "    }\n",
       "  ];\n",
       "\n",
       "  function run_inline_js() {\n",
       "    for (var i = 0; i < inline_js.length; i++) {\n",
       "      inline_js[i](window.Bokeh);\n",
       "    }\n",
       "  }\n",
       "\n",
       "  if (window._bokeh_is_loading === 0) {\n",
       "    console.log(\"Bokeh: BokehJS loaded, going straight to plotting\");\n",
       "    run_inline_js();\n",
       "  } else {\n",
       "    load_libs(js_urls, function() {\n",
       "      console.log(\"Bokeh: BokehJS plotting callback run at\", now());\n",
       "      run_inline_js();\n",
       "    });\n",
       "  }\n",
       "}(this));"
      ]
     },
     "metadata": {},
     "output_type": "display_data"
    }
   ],
   "source": [
    "import numpy as np\n",
    "from IPython.display import HTML\n",
    "from bokeh.plotting import output_notebook, show\n",
    "import genomes_dnj.lct_interval.series_plots as dm\n",
    "import genomes_dnj.lct_interval.anal_series as an\n",
    "import genomes_dnj.lct_interval_snp_anal.lct_interval_snp_anal as snp_anal\n",
    "import genomes_dnj.lct_interval.series_masks as sm\n",
    "from genomes_dnj.lct_interval.bokeh_match_count_plot import snp_match_count_plot_cls as smcp\n",
    "output_notebook(hide_banner=True)\n",
    "sa_117_1685 = snp_anal.series_anal_cls(dm.di_117_1685, sm.series_data)\n",
    "sa_123_1561 = snp_anal.series_anal_cls(dm.di_123_1561, sm.series_data)\n",
    "sa_62_1265 = snp_anal.series_anal_cls(dm.di_62_1265, sm.series_data)\n",
    "sa_193_843 = snp_anal.series_anal_cls(dm.di_193_843, sm.series_data)\n",
    "sa_6_68 = snp_anal.series_anal_cls(dm.di_6_68, sm.series_data)\n",
    "am_6_68 = dm.allele_mask_from_index(dm.di_6_68)\n",
    "sa_49_136 = snp_anal.series_anal_cls(dm.di_49_136, sm.series_data)"
   ]
  },
  {
   "cell_type": "markdown",
   "metadata": {},
   "source": [
    "<h3>Series 6_68</h3>\n",
    "<div style=\"width:700px\">\n",
    "<p>\n",
    "This notebook documents the series 6_68 and its 6 SNPs. The 1000 genomes data includes 4935\n",
    "chromosome 2 samples that express none of these 6 SNPs, 5 samples that express 1 of them,\n",
    "7 samples that express 5 of them and 61 samples that express all 6.  The samples that\n",
    "express 5 are counted as expressing the series.\n",
    "<p>\n",
    "6_68 is the series that has selected the part of the 49_136 hierarchy that did not experience\n",
    "a recombination event with the series 13_1696.  But, 7 of the samples that express 6_68 do\n",
    "not express 49_136.  One of them does not express 28_434.  Those 7 samples are the same ones\n",
    "that only express 5 6_68 SNPs.  But, the history is different for the 6 that express 28_434\n",
    "and the 1 that does not.\n",
    "<p>\n",
    "The 6 samples that have lost 49_136 but not 28_434 all have lost the second SNP in the series\n",
    "6_68.  All of them have also lost the same 7 SNPs from 49_136.  The locations of those SNPs\n",
    "are dispersed over the 49_136 series.  4 of those samples have lost 1 more 49_136 SNP.\n",
    "<p>\n",
    "The sample that does not express 49_136 or 28_434 has undergone a recombination event that\n",
    "lost the last 6_68 SNP.  The event associated 6_68 with the 67_329 hierarchy that includes\n",
    "expression of 62_1265, 123_1561, and 117_1685.\n",
    "</div>"
   ]
  },
  {
   "cell_type": "code",
   "execution_count": 2,
   "metadata": {
    "collapsed": false
   },
   "outputs": [
    {
     "data": {
      "text/html": [
       "<p>\n",
       "<b>6_68 series</b>\n",
       "</p><p>\n",
       "<table>\n",
       "<thead><tr><th style=\"text-align:center\">index</th><th style=\"text-align:center\">first</th><th style=\"text-align:center\">length</th><th style=\"text-align:center\">snps</th><th style=\"text-align:center\">alleles</th><th style=\"text-align:center\" colspan=2>afr</th><th style=\"text-align:center\" colspan=2>afx</th><th style=\"text-align:center\" colspan=2>amr</th><th style=\"text-align:center\" colspan=2>eas</th><th style=\"text-align:center\" colspan=2>eur</th><th style=\"text-align:center\" colspan=2>sas</th><th style=\"text-align:center\" colspan=2>sax</th></tr></thead>\n",
       "<tr class=\"even\"><td style=\"text-align: right;\">353247</td><td style=\"text-align: right;\">135,758,713</td><td style=\"text-align: right;\">19,520</td><td style=\"text-align: right;\">6</td><td style=\"text-align: right;\">68</td><td style=\"text-align: right;\">53</td><td style=\"text-align: right;\">3.87</td><td style=\"text-align: right;\">14</td><td style=\"text-align: right;\">3.28</td><td style=\"text-align: right;\">1</td><td style=\"text-align: right;\">0.11</td><td style=\"text-align: right;\">0</td><td style=\"text-align: right;\">0.00</td><td style=\"text-align: right;\">0</td><td style=\"text-align: right;\">0.00</td><td style=\"text-align: right;\">0</td><td style=\"text-align: right;\">0.00</td><td style=\"text-align: right;\">0</td><td style=\"text-align: right;\">0.00</td></tr>\n",
       "</table>\n",
       "</p>\n",
       "<p>\n",
       "<b>6_68 series snps</b>\n",
       "</p><p>\n",
       "<table>\n",
       "<thead><tr><th style=\"text-align:center\">index</th><th style=\"text-align:center\">pos</th><th style=\"text-align:center\">id</th><th style=\"text-align:center\">niv</th><th style=\"text-align:center\">alleles</th><th style=\"text-align:center\" colspan=2>afr</th><th style=\"text-align:center\" colspan=2>afx</th><th style=\"text-align:center\" colspan=2>amr</th><th style=\"text-align:center\" colspan=2>eas</th><th style=\"text-align:center\" colspan=2>eur</th><th style=\"text-align:center\" colspan=2>sas</th><th style=\"text-align:center\" colspan=2>sax</th></tr></thead>\n",
       "<tr class=\"even\"><td style=\"text-align: right;\">875003</td><td style=\"text-align: right;\">135,758,713</td><td>rs115477333</td><td>0</td><td style=\"text-align: right;\">69</td><td style=\"text-align: right;\">54</td><td style=\"text-align: right;\">3.89</td><td style=\"text-align: right;\">14</td><td style=\"text-align: right;\">3.24</td><td style=\"text-align: right;\">1</td><td style=\"text-align: right;\">0.10</td><td style=\"text-align: right;\">0</td><td style=\"text-align: right;\">0.00</td><td style=\"text-align: right;\">0</td><td style=\"text-align: right;\">0.00</td><td style=\"text-align: right;\">0</td><td style=\"text-align: right;\">0.00</td><td style=\"text-align: right;\">0</td><td style=\"text-align: right;\">0.00</td></tr>\n",
       "<tr><td style=\"text-align: right;\">875009</td><td style=\"text-align: right;\">135,759,717</td><td>rs115547557</td><td>0</td><td style=\"text-align: right;\">62</td><td style=\"text-align: right;\">47</td><td style=\"text-align: right;\">3.77</td><td style=\"text-align: right;\">14</td><td style=\"text-align: right;\">3.60</td><td style=\"text-align: right;\">1</td><td style=\"text-align: right;\">0.12</td><td style=\"text-align: right;\">0</td><td style=\"text-align: right;\">0.00</td><td style=\"text-align: right;\">0</td><td style=\"text-align: right;\">0.00</td><td style=\"text-align: right;\">0</td><td style=\"text-align: right;\">0.00</td><td style=\"text-align: right;\">0</td><td style=\"text-align: right;\">0.00</td></tr>\n",
       "<tr class=\"even\"><td style=\"text-align: right;\">875023</td><td style=\"text-align: right;\">135,762,608</td><td>rs7606031</td><td>0</td><td style=\"text-align: right;\">69</td><td style=\"text-align: right;\">54</td><td style=\"text-align: right;\">3.89</td><td style=\"text-align: right;\">14</td><td style=\"text-align: right;\">3.24</td><td style=\"text-align: right;\">1</td><td style=\"text-align: right;\">0.10</td><td style=\"text-align: right;\">0</td><td style=\"text-align: right;\">0.00</td><td style=\"text-align: right;\">0</td><td style=\"text-align: right;\">0.00</td><td style=\"text-align: right;\">0</td><td style=\"text-align: right;\">0.00</td><td style=\"text-align: right;\">0</td><td style=\"text-align: right;\">0.00</td></tr>\n",
       "<tr><td style=\"text-align: right;\">875033</td><td style=\"text-align: right;\">135,764,416</td><td>rs114825974</td><td>0</td><td style=\"text-align: right;\">68</td><td style=\"text-align: right;\">53</td><td style=\"text-align: right;\">3.87</td><td style=\"text-align: right;\">14</td><td style=\"text-align: right;\">3.28</td><td style=\"text-align: right;\">1</td><td style=\"text-align: right;\">0.11</td><td style=\"text-align: right;\">0</td><td style=\"text-align: right;\">0.00</td><td style=\"text-align: right;\">0</td><td style=\"text-align: right;\">0.00</td><td style=\"text-align: right;\">0</td><td style=\"text-align: right;\">0.00</td><td style=\"text-align: right;\">0</td><td style=\"text-align: right;\">0.00</td></tr>\n",
       "<tr class=\"even\"><td style=\"text-align: right;\">875079</td><td style=\"text-align: right;\">135,772,876</td><td>rs77053094</td><td>0</td><td style=\"text-align: right;\">71</td><td style=\"text-align: right;\">55</td><td style=\"text-align: right;\">3.85</td><td style=\"text-align: right;\">15</td><td style=\"text-align: right;\">3.37</td><td style=\"text-align: right;\">1</td><td style=\"text-align: right;\">0.10</td><td style=\"text-align: right;\">0</td><td style=\"text-align: right;\">0.00</td><td style=\"text-align: right;\">0</td><td style=\"text-align: right;\">0.00</td><td style=\"text-align: right;\">0</td><td style=\"text-align: right;\">0.00</td><td style=\"text-align: right;\">0</td><td style=\"text-align: right;\">0.00</td></tr>\n",
       "<tr><td style=\"text-align: right;\">875118</td><td style=\"text-align: right;\">135,778,233</td><td>rs114044095</td><td>0</td><td style=\"text-align: right;\">67</td><td style=\"text-align: right;\">53</td><td style=\"text-align: right;\">3.93</td><td style=\"text-align: right;\">13</td><td style=\"text-align: right;\">3.09</td><td style=\"text-align: right;\">1</td><td style=\"text-align: right;\">0.11</td><td style=\"text-align: right;\">0</td><td style=\"text-align: right;\">0.00</td><td style=\"text-align: right;\">0</td><td style=\"text-align: right;\">0.00</td><td style=\"text-align: right;\">0</td><td style=\"text-align: right;\">0.00</td><td style=\"text-align: right;\">0</td><td style=\"text-align: right;\">0.00</td></tr>\n",
       "</table>"
      ],
      "text/plain": [
       "<IPython.core.display.HTML object>"
      ]
     },
     "execution_count": 2,
     "metadata": {},
     "output_type": "execute_result"
    }
   ],
   "source": [
    "HTML(dm.series_html(dm.di_6_68))"
   ]
  },
  {
   "cell_type": "code",
   "execution_count": 3,
   "metadata": {
    "collapsed": false
   },
   "outputs": [
    {
     "data": {
      "text/html": [
       "\n",
       "\n",
       "    <div class=\"bk-root\">\n",
       "        <div class=\"plotdiv\" id=\"f112680d-1716-49bc-8d3d-31fcda1fd713\"></div>\n",
       "    </div>\n",
       "<script type=\"text/javascript\">\n",
       "  \n",
       "  (function(global) {\n",
       "    function now() {\n",
       "      return new Date();\n",
       "    }\n",
       "  \n",
       "    if (typeof (window._bokeh_onload_callbacks) === \"undefined\") {\n",
       "      window._bokeh_onload_callbacks = [];\n",
       "    }\n",
       "  \n",
       "    function run_callbacks() {\n",
       "      window._bokeh_onload_callbacks.forEach(function(callback) { callback() });\n",
       "      delete window._bokeh_onload_callbacks\n",
       "      console.info(\"Bokeh: all callbacks have finished\");\n",
       "    }\n",
       "  \n",
       "    function load_libs(js_urls, callback) {\n",
       "      window._bokeh_onload_callbacks.push(callback);\n",
       "      if (window._bokeh_is_loading > 0) {\n",
       "        console.log(\"Bokeh: BokehJS is being loaded, scheduling callback at\", now());\n",
       "        return null;\n",
       "      }\n",
       "      if (js_urls == null || js_urls.length === 0) {\n",
       "        run_callbacks();\n",
       "        return null;\n",
       "      }\n",
       "      console.log(\"Bokeh: BokehJS not loaded, scheduling load and callback at\", now());\n",
       "      window._bokeh_is_loading = js_urls.length;\n",
       "      for (var i = 0; i < js_urls.length; i++) {\n",
       "        var url = js_urls[i];\n",
       "        var s = document.createElement('script');\n",
       "        s.src = url;\n",
       "        s.async = false;\n",
       "        s.onreadystatechange = s.onload = function() {\n",
       "          window._bokeh_is_loading--;\n",
       "          if (window._bokeh_is_loading === 0) {\n",
       "            console.log(\"Bokeh: all BokehJS libraries loaded\");\n",
       "            run_callbacks()\n",
       "          }\n",
       "        };\n",
       "        s.onerror = function() {\n",
       "          console.warn(\"failed to load library \" + url);\n",
       "        };\n",
       "        console.log(\"Bokeh: injecting script tag for BokehJS library: \", url);\n",
       "        document.getElementsByTagName(\"head\")[0].appendChild(s);\n",
       "      }\n",
       "    };var element = document.getElementById(\"f112680d-1716-49bc-8d3d-31fcda1fd713\");\n",
       "    if (element == null) {\n",
       "      console.log(\"Bokeh: ERROR: autoload.js configured with elementid 'f112680d-1716-49bc-8d3d-31fcda1fd713' but no matching script tag was found. \")\n",
       "      return false;\n",
       "    }\n",
       "  \n",
       "    var js_urls = [];\n",
       "  \n",
       "    var inline_js = [\n",
       "      function(Bokeh) {\n",
       "        Bokeh.$(function() {\n",
       "            var docs_json = {\"9b15f77e-a409-4541-a19c-5ada5689420d\":{\"roots\":{\"references\":[{\"attributes\":{\"plot\":null,\"text\":null},\"id\":\"1a0c6d24-bed0-4402-bd93-523536551e3c\",\"type\":\"Title\"},{\"attributes\":{\"callback\":null,\"column_names\":[\"xs\",\"ys\",\"line_color\"],\"data\":{\"line_color\":[\"black\",\"black\",\"black\",\"black\",\"black\",\"black\",\"black\",\"black\",\"black\",\"black\",\"black\",\"black\",\"black\",\"black\",\"black\",\"black\",\"black\",\"black\",\"black\",\"black\",\"black\",\"black\",\"black\",\"black\",\"black\",\"black\",\"black\",\"black\",\"black\",\"black\",\"black\",\"black\",\"black\",\"black\",\"black\",\"black\",\"black\",\"black\",\"black\",\"black\",\"black\",\"black\",\"black\",\"black\",\"black\",\"black\",\"black\",\"black\",\"black\",\"black\",\"black\",\"black\",\"black\",\"black\",\"black\",\"black\",\"black\",\"black\",\"black\",\"black\",\"black\",\"black\",\"black\",\"black\",\"black\",\"black\",\"black\",\"black\",\"black\",\"black\",\"black\",\"black\",\"black\",\"black\",\"black\",\"black\",\"black\",\"black\",\"black\",\"black\",\"black\",\"black\",\"black\",\"black\",\"black\",\"black\",\"black\",\"black\",\"black\",\"black\",\"black\",\"black\",\"black\",\"black\",\"black\",\"black\",\"black\",\"black\",\"black\",\"black\",\"black\",\"black\",\"black\",\"black\",\"black\",\"black\",\"black\",\"black\",\"black\",\"black\",\"black\",\"black\",\"black\",\"black\",\"black\",\"black\",\"black\",\"black\",\"black\",\"black\",\"black\",\"black\",\"black\",\"black\",\"black\",\"black\",\"black\",\"black\",\"black\",\"black\",\"black\",\"black\",\"black\",\"black\",\"black\",\"black\",\"black\",\"black\",\"black\",\"black\",\"black\",\"black\",\"black\",\"black\",\"black\",\"black\",\"black\",\"black\",\"black\",\"black\",\"black\",\"black\",\"black\",\"black\",\"black\",\"black\",\"black\",\"black\",\"black\",\"black\",\"black\",\"black\",\"black\",\"black\",\"black\",\"black\",\"black\",\"black\",\"black\",\"black\",\"black\",\"black\",\"black\",\"black\",\"black\",\"black\",\"black\",\"black\",\"black\",\"black\",\"black\",\"black\",\"black\",\"black\",\"black\",\"black\",\"black\",\"black\",\"black\",\"black\",\"black\",\"black\",\"black\",\"black\",\"black\",\"black\",\"black\",\"black\",\"black\",\"black\",\"black\",\"black\",\"black\",\"black\",\"black\",\"black\",\"black\",\"black\",\"black\",\"black\",\"black\",\"black\",\"black\",\"black\",\"black\",\"black\",\"black\",\"black\",\"black\",\"black\",\"black\",\"black\",\"black\",\"black\",\"black\",\"black\",\"black\",\"black\",\"black\",\"black\",\"black\",\"black\",\"black\",\"black\",\"black\",\"black\",\"black\",\"black\",\"black\",\"black\",\"black\",\"black\",\"black\",\"black\",\"black\",\"black\",\"black\",\"black\",\"black\",\"black\",\"black\",\"black\",\"black\",\"black\",\"black\",\"black\",\"black\",\"black\",\"black\",\"black\",\"black\",\"black\",\"black\",\"black\",\"black\",\"black\",\"black\",\"black\",\"black\",\"black\",\"black\",\"black\",\"black\",\"black\",\"black\",\"black\",\"black\",\"black\",\"black\",\"black\",\"black\",\"black\",\"black\",\"black\",\"black\",\"black\",\"black\",\"black\",\"black\",\"black\",\"black\",\"black\",\"black\",\"black\",\"black\",\"black\",\"black\",\"black\",\"black\",\"black\",\"black\",\"black\",\"black\",\"black\",\"black\",\"black\",\"black\",\"black\",\"black\",\"black\",\"black\",\"black\",\"black\",\"black\",\"black\",\"black\",\"black\",\"black\",\"black\",\"black\",\"black\",\"black\",\"black\",\"black\",\"black\",\"black\",\"black\",\"black\",\"black\",\"black\",\"black\",\"black\",\"black\",\"black\",\"black\",\"black\",\"black\",\"black\",\"black\",\"black\",\"black\",\"black\",\"black\",\"black\",\"black\",\"black\",\"black\",\"black\",\"black\",\"black\",\"black\",\"black\",\"black\",\"black\",\"black\",\"black\",\"black\"],\"xs\":[[135758231,135758231],[135758520,135758520],[135766072,135766072],[135773420,135773420],[135773446,135773446],[135773617,135773617],[135773692,135773692],[135774681,135774681],[135775049,135775049],[135776430,135776430],[135778656,135778656],[135780168,135780168],[135780587,135780587],[135781301,135781301],[135781522,135781522],[135781635,135781635],[135782456,135782456],[135783157,135783157],[135783366,135783366],[135783367,135783367],[135784227,135784227],[135784733,135784733],[135785066,135785066],[135785068,135785068],[135785149,135785149],[135787148,135787148],[135787642,135787642],[135789405,135789405],[135789472,135789472],[135789682,135789682],[135789784,135789784],[135792338,135792338],[135792528,135792528],[135793565,135793565],[135793684,135793684],[135793845,135793845],[135794367,135794367],[135794986,135794986],[135795040,135795040],[135795095,135795095],[135795150,135795150],[135795385,135795385],[135795396,135795396],[135795443,135795443],[135795595,135795595],[135796000,135796000],[135796155,135796155],[135796410,135796410],[135796965,135796965],[135797223,135797223],[135797747,135797747],[135798082,135798082],[135798758,135798758],[135799082,135799082],[135800085,135800085],[135800601,135800601],[135800757,135800757],[135801228,135801228],[135801956,135801956],[135802020,135802020],[135802028,135802028],[135802050,135802050],[135802148,135802148],[135803766,135803766],[135809241,135809241],[135812969,135812969],[135814716,135814716],[135818907,135818907],[135829432,135829432],[135832131,135832131],[135849613,135849613],[135853807,135853807],[135859923,135859923],[135860305,135860305],[135861497,135861497],[135863143,135863143],[135864294,135864294],[135871624,135871624],[135872646,135872646],[135874038,135874038],[135874622,135874622],[135878814,135878814],[135880013,135880013],[135884487,135884487],[135885357,135885357],[135893853,135893853],[135895809,135895809],[135895879,135895879],[135899069,135899069],[135909462,135909462],[135912977,135912977],[135914038,135914038],[135921839,135921839],[135925002,135925002],[135928312,135928312],[135935049,135935049],[135962711,135962711],[135984172,135984172],[135994753,135994753],[135994754,135994754],[136016079,136016079],[136027264,136027264],[136052004,136052004],[136100473,136100473],[136110129,136110129],[136166536,136166536],[136169799,136169799],[136191314,136191314],[136228887,136228887],[136238453,136238453],[136288273,136288273],[136292425,136292425],[136321951,136321951],[136324564,136324564],[136327299,136327299],[136327302,136327302],[136376515,136376515],[135758713,135758713],[135759717,135759717],[135762608,135762608],[135764416,135764416],[135772876,135772876],[135778233,135778233],[135780924,135780924],[135783872,135783872],[135784174,135784174],[135784652,135784652],[135787686,135787686],[135788712,135788712],[135794686,135794686],[135815035,135815035],[135815806,135815806],[135816299,135816299],[135817965,135817965],[135819405,135819405],[135820455,135820455],[135822556,135822556],[135830362,135830362],[135838113,135838113],[135843398,135843398],[135845084,135845084],[135850778,135850778],[135853281,135853281],[135858199,135858199],[135859428,135859428],[135867144,135867144],[135867538,135867538],[135874606,135874606],[135880487,135880487],[135882089,135882089],[135883468,135883468],[135892685,135892685],[135894666,135894666],[135894837,135894837],[135894879,135894879],[135896985,135896985],[135904659,135904659],[135908007,135908007],[135910415,135910415],[135917924,135917924],[135926486,135926486],[135942475,135942475],[135955537,135955537],[135964420,135964420],[135965002,135965002],[135981071,135981071],[135988224,135988224],[135991508,135991508],[135991714,135991714],[135997479,135997479],[136001913,136001913],[136017139,136017139],[135784351,135784351],[135829309,135829309],[135835508,135835508],[135861297,135861297],[135863459,135863459],[135873845,135873845],[135902172,135902172],[135902220,135902220],[135810535,135810535],[135817760,135817760],[135857538,135857538],[135862191,135862191],[135869380,135869380],[135869761,135869761],[135886486,135886486],[135888078,135888078],[135898023,135898023],[135814021,135814021],[135834746,135834746],[135857775,135857775],[135879478,135879478],[136067042,136067042],[136105702,136105702],[136169393,136169393],[136188000,136188000],[136199620,136199620],[136246376,136246376],[136293592,136293592],[136352108,136352108],[136361995,136361995],[136424548,136424548],[136008173,136008173],[136008446,136008446],[136014236,136014236],[136036997,136036997],[136037702,136037702],[136040078,136040078],[136046601,136046601],[136048235,136048235],[136050624,136050624],[136051458,136051458],[136053800,136053800],[136069666,136069666],[136070320,136070320],[136071268,136071268],[136085307,136085307],[136107478,136107478],[136116965,136116965],[136119487,136119487],[136133726,136133726],[136136964,136136964],[136137013,136137013],[136141365,136141365],[136151898,136151898],[136153771,136153771],[136157319,136157319],[136157786,136157786],[136160634,136160634],[136161546,136161546],[136161613,136161613],[136163239,136163239],[136166288,136166288],[136171078,136171078],[136174848,136174848],[136177152,136177152],[136188784,136188784],[136191498,136191498],[136192069,136192069],[136192914,136192914],[136202038,136202038],[136206988,136206988],[136208169,136208169],[136211700,136211700],[136214800,136214800],[136223293,136223293],[136238330,136238330],[136242667,136242667],[136249834,136249834],[136255405,136255405],[136261219,136261219],[136264924,136264924],[136265494,136265494],[136267386,136267386],[136267415,136267415],[136277320,136277320],[136279720,136279720],[136279756,136279756],[136283113,136283113],[136299020,136299020],[136304442,136304442],[136308679,136308679],[136319192,136319192],[136324543,136324543],[136330131,136330131],[136347919,136347919],[136353065,136353065],[136360339,136360339],[136370954,136370954],[136371399,136371399],[136376994,136376994],[136381251,136381251],[136056699,136056699],[136316658,136316658],[136390794,136390794],[136421460,136421460],[136433902,136433902],[136115507,136115507],[136133627,136133627],[136135820,136135820],[136145676,136145676],[136166014,136166014],[136173684,136173684],[136176031,136176031],[136214307,136214307],[136215590,136215590],[136219265,136219265],[136219831,136219831],[136289471,136289471],[136298739,136298739],[136302296,136302296],[136302897,136302897],[136348702,136348702],[136348964,136348964],[136358707,136358707],[136359608,136359608],[136360402,136360402],[136365624,136365624],[136366970,136366970],[136367871,136367871],[136368393,136368393],[136370701,136370701],[136378539,136378539],[136378895,136378895],[136385280,136385280],[136309239,136309239],[136322472,136322472],[136323787,136323787],[136323862,136323862],[136326765,136326765],[136329500,136329500],[136331657,136331657],[136345356,136345356],[136361560,136361560],[136364916,136364916],[136369497,136369497],[136369580,136369580],[136380846,136380846],[136387893,136387893],[136402778,136402778],[136402779,136402779],[136402780,136402780],[136402781,136402781],[136403272,136403272],[136406356,136406356],[136407068,136407068],[136414770,136414770],[136415861,136415861],[136416407,136416407],[136420009,136420009],[136429439,136429439],[136438468,136438468],[136444542,136444542],[136448142,136448142],[136452728,136452728],[136453540,136453540],[136455296,136455296],[136458856,136458856],[136467559,136467559],[136493430,136493430],[136406646,136406646],[136408821,136408821],[136412472,136412472],[136416959,136416959],[136438078,136438078],[136448855,136448855],[136456090,136456090],[136456675,136456675],[136466831,136466831],[136588031,136588031],[136589278,136589278],[136589379,136589379],[136589741,136589741],[136590746,136590746],[136593553,136593553],[136593678,136593678]],\"ys\":[[750,796],[750,796],[750,796],[750,796],[750,796],[750,796],[750,796],[750,796],[750,796],[750,796],[750,796],[750,796],[750,796],[750,796],[750,796],[750,796],[750,796],[750,796],[750,796],[750,796],[750,796],[750,796],[750,796],[750,796],[750,796],[750,796],[750,796],[750,796],[750,796],[750,796],[750,796],[750,796],[750,796],[750,796],[750,796],[750,796],[750,796],[750,796],[750,796],[750,796],[750,796],[750,796],[750,796],[750,796],[750,796],[750,796],[750,796],[750,796],[750,796],[750,796],[750,796],[750,796],[750,796],[750,796],[750,796],[750,796],[750,796],[750,796],[750,796],[750,796],[750,796],[750,796],[750,796],[750,796],[750,796],[750,796],[750,796],[750,796],[750,796],[750,796],[750,796],[750,796],[750,796],[750,796],[750,796],[750,796],[750,796],[750,796],[750,796],[750,796],[750,796],[750,796],[750,796],[750,796],[750,796],[750,796],[750,796],[750,796],[750,796],[750,796],[750,796],[750,796],[750,796],[750,796],[750,796],[750,796],[750,796],[750,796],[750,796],[750,796],[750,796],[750,796],[750,796],[750,796],[750,796],[750,796],[750,796],[750,796],[750,796],[750,796],[750,796],[750,796],[750,796],[750,796],[750,796],[750,796],[750,796],[150,168],[150,168],[150,168],[150,168],[150,168],[150,168],[250,274],[250,274],[250,274],[250,274],[250,274],[250,274],[250,274],[250,274],[250,274],[250,274],[250,274],[250,274],[250,274],[250,274],[250,274],[250,274],[250,274],[250,274],[250,274],[250,274],[250,274],[250,274],[250,274],[250,274],[250,274],[250,274],[250,274],[250,274],[250,274],[250,274],[250,274],[250,274],[250,274],[250,274],[250,274],[250,274],[250,274],[250,274],[250,274],[250,274],[250,274],[250,274],[250,274],[250,274],[250,274],[250,274],[250,274],[250,274],[250,274],[650,688],[650,688],[650,688],[650,688],[650,688],[650,688],[650,688],[650,688],[550,586],[550,586],[550,586],[550,586],[550,586],[550,586],[550,586],[550,586],[550,586],[50,63],[50,63],[50,63],[50,63],[50,63],[50,63],[50,63],[50,63],[50,63],[50,63],[50,63],[50,63],[50,63],[50,63],[350,376],[350,376],[350,376],[350,376],[350,376],[350,376],[350,376],[350,376],[350,376],[350,376],[350,376],[350,376],[350,376],[350,376],[350,376],[350,376],[350,376],[350,376],[350,376],[350,376],[350,376],[350,376],[350,376],[350,376],[350,376],[350,376],[350,376],[350,376],[350,376],[350,376],[350,376],[350,376],[350,376],[350,376],[350,376],[350,376],[350,376],[350,376],[350,376],[350,376],[350,376],[350,376],[350,376],[350,376],[350,376],[350,376],[350,376],[350,376],[350,376],[350,376],[350,376],[350,376],[350,376],[350,376],[350,376],[350,376],[350,376],[350,376],[350,376],[350,376],[350,376],[350,376],[350,376],[350,376],[350,376],[350,376],[350,376],[350,376],[350,376],[350,376],[250,268],[250,268],[250,268],[250,268],[250,268],[450,484],[450,484],[450,484],[450,484],[450,484],[450,484],[450,484],[450,484],[450,484],[450,484],[450,484],[450,484],[450,484],[450,484],[450,484],[450,484],[450,484],[450,484],[450,484],[450,484],[450,484],[450,484],[450,484],[450,484],[450,484],[450,484],[450,484],[450,484],[650,690],[650,690],[650,690],[650,690],[650,690],[650,690],[650,690],[650,690],[650,690],[550,587],[550,587],[550,587],[550,587],[550,587],[450,482],[450,482],[450,482],[450,482],[450,482],[450,482],[450,482],[450,482],[450,482],[450,482],[450,482],[450,482],[450,482],[450,482],[450,482],[450,482],[450,482],[450,482],[450,482],[450,482],[450,482],[750,795],[750,795],[750,795],[750,795],[750,795],[650,687],[650,687],[650,687],[650,687],[750,796],[750,796],[750,796],[750,796],[750,796],[750,796],[750,796]]}},\"id\":\"cba7dbb9-d778-4e96-945c-ad3795504233\",\"type\":\"ColumnDataSource\"},{\"attributes\":{\"bottom\":{\"field\":\"bottom\"},\"fill_color\":{\"value\":\"white\"},\"left\":{\"field\":\"left\"},\"right\":{\"field\":\"right\"},\"top\":{\"field\":\"top\"}},\"id\":\"5391e2cf-6909-490e-b7dd-211054aea1ad\",\"type\":\"Quad\"},{\"attributes\":{\"formatter\":{\"id\":\"c2b10b8b-b703-4b88-9887-233215a76c5b\",\"type\":\"BasicTickFormatter\"},\"plot\":{\"id\":\"09d6c269-342a-480c-9ab2-50edc0b7c127\",\"subtype\":\"Figure\",\"type\":\"Plot\"},\"ticker\":{\"id\":\"9c2692e8-94ce-474b-a490-2de280190488\",\"type\":\"BasicTicker\"}},\"id\":\"bc9cfd44-2b0e-4417-bc3b-2101a06e27ee\",\"type\":\"LinearAxis\"},{\"attributes\":{\"data_source\":{\"id\":\"d7b1470b-a1c4-44a2-915f-157b9e8d2614\",\"type\":\"ColumnDataSource\"},\"glyph\":{\"id\":\"5391e2cf-6909-490e-b7dd-211054aea1ad\",\"type\":\"Quad\"},\"hover_glyph\":null,\"nonselection_glyph\":{\"id\":\"0f67503d-8802-4110-a547-be4499ea18ec\",\"type\":\"Quad\"},\"selection_glyph\":null},\"id\":\"12a46678-e31a-43b1-8b40-9571431bd40c\",\"type\":\"GlyphRenderer\"},{\"attributes\":{\"line_alpha\":{\"value\":0.1},\"line_color\":{\"value\":\"#1f77b4\"},\"xs\":{\"field\":\"xs\"},\"ys\":{\"field\":\"ys\"}},\"id\":\"dcc35956-c772-4d44-a060-0fe900a27a01\",\"type\":\"MultiLine\"},{\"attributes\":{\"plot\":{\"id\":\"09d6c269-342a-480c-9ab2-50edc0b7c127\",\"subtype\":\"Figure\",\"type\":\"Plot\"}},\"id\":\"2c015a25-7983-4135-87fc-9c717c4cb74e\",\"type\":\"SaveTool\"},{\"attributes\":{\"plot\":{\"id\":\"09d6c269-342a-480c-9ab2-50edc0b7c127\",\"subtype\":\"Figure\",\"type\":\"Plot\"}},\"id\":\"c9c6dd1f-a5e4-4aaa-96a3-5537be559f56\",\"type\":\"PanTool\"},{\"attributes\":{\"bottom\":{\"field\":\"bottom\"},\"fill_alpha\":{\"value\":0.1},\"fill_color\":{\"value\":\"#1f77b4\"},\"left\":{\"field\":\"left\"},\"line_alpha\":{\"value\":0.1},\"line_color\":{\"value\":\"#1f77b4\"},\"right\":{\"field\":\"right\"},\"top\":{\"field\":\"top\"}},\"id\":\"0f67503d-8802-4110-a547-be4499ea18ec\",\"type\":\"Quad\"},{\"attributes\":{\"callback\":null,\"end\":900},\"id\":\"2f237242-7673-4456-b853-6c2f5b1d6163\",\"type\":\"Range1d\"},{\"attributes\":{\"callback\":null,\"end\":136786630,\"start\":135757320},\"id\":\"fdadb7f1-1a7f-473f-a3f6-33f4283e1232\",\"type\":\"Range1d\"},{\"attributes\":{\"active_drag\":\"auto\",\"active_scroll\":\"auto\",\"active_tap\":\"auto\",\"tools\":[{\"id\":\"c9c6dd1f-a5e4-4aaa-96a3-5537be559f56\",\"type\":\"PanTool\"},{\"id\":\"12e1c493-8cb0-4870-bcbd-cb64429d0042\",\"type\":\"WheelZoomTool\"},{\"id\":\"9e0aa882-2958-44ea-968f-547d9f8170b5\",\"type\":\"BoxZoomTool\"},{\"id\":\"2c015a25-7983-4135-87fc-9c717c4cb74e\",\"type\":\"SaveTool\"},{\"id\":\"4b41f604-31fd-4fe4-98c3-a016413cbd22\",\"type\":\"ResetTool\"},{\"id\":\"06a7ded0-1f6b-4c6f-80a3-2210b2d613d9\",\"type\":\"HelpTool\"}]},\"id\":\"f622554e-9191-4625-b4bd-046ba47f7dd3\",\"type\":\"Toolbar\"},{\"attributes\":{\"level\":\"glyph\",\"plot\":{\"id\":\"09d6c269-342a-480c-9ab2-50edc0b7c127\",\"subtype\":\"Figure\",\"type\":\"Plot\"},\"source\":{\"id\":\"34da0a58-eaac-4d08-93a5-318b4171189e\",\"type\":\"ColumnDataSource\"},\"text\":{\"field\":\"vals\"},\"text_font_size\":{\"value\":\"9pt\"},\"text_font_style\":\"bold\",\"x\":{\"field\":\"x\"},\"y\":{\"field\":\"y\"}},\"id\":\"c7ff5673-e134-425f-9d71-9ceb6c519cd1\",\"type\":\"LabelSet\"},{\"attributes\":{},\"id\":\"53186ad4-5527-4360-baaa-ffadbb47e95a\",\"type\":\"ToolEvents\"},{\"attributes\":{},\"id\":\"22352b5e-f21b-4b57-903c-170cbc3155fc\",\"type\":\"BasicTickFormatter\"},{\"attributes\":{\"plot\":{\"id\":\"09d6c269-342a-480c-9ab2-50edc0b7c127\",\"subtype\":\"Figure\",\"type\":\"Plot\"}},\"id\":\"06a7ded0-1f6b-4c6f-80a3-2210b2d613d9\",\"type\":\"HelpTool\"},{\"attributes\":{\"plot\":{\"id\":\"09d6c269-342a-480c-9ab2-50edc0b7c127\",\"subtype\":\"Figure\",\"type\":\"Plot\"}},\"id\":\"4b41f604-31fd-4fe4-98c3-a016413cbd22\",\"type\":\"ResetTool\"},{\"attributes\":{\"bottom_units\":\"screen\",\"fill_alpha\":{\"value\":0.5},\"fill_color\":{\"value\":\"lightgrey\"},\"left_units\":\"screen\",\"level\":\"overlay\",\"line_alpha\":{\"value\":1.0},\"line_color\":{\"value\":\"black\"},\"line_dash\":[4,4],\"line_width\":{\"value\":2},\"plot\":null,\"render_mode\":\"css\",\"right_units\":\"screen\",\"top_units\":\"screen\"},\"id\":\"6d009333-e11f-43f8-8158-f99159d76f1d\",\"type\":\"BoxAnnotation\"},{\"attributes\":{\"bottom\":{\"field\":\"bottom\"},\"fill_alpha\":{\"value\":0.1},\"fill_color\":{\"value\":\"#1f77b4\"},\"left\":{\"field\":\"left\"},\"line_alpha\":{\"value\":0.1},\"line_color\":{\"value\":\"#1f77b4\"},\"right\":{\"field\":\"right\"},\"top\":{\"field\":\"top\"}},\"id\":\"60486522-4125-46ad-bb1f-da06f25a64aa\",\"type\":\"Quad\"},{\"attributes\":{\"data_source\":{\"id\":\"71bf2212-b07f-4cfa-93fd-92816fa14faa\",\"type\":\"ColumnDataSource\"},\"glyph\":{\"id\":\"310f95c9-b787-4213-be13-0ea980077824\",\"type\":\"Quad\"},\"hover_glyph\":null,\"nonselection_glyph\":{\"id\":\"60486522-4125-46ad-bb1f-da06f25a64aa\",\"type\":\"Quad\"},\"selection_glyph\":null},\"id\":\"2acbc72a-a1b3-41a9-9e61-fc2de6a33ebf\",\"type\":\"GlyphRenderer\"},{\"attributes\":{\"callback\":null,\"column_names\":[\"y\",\"x\",\"vals\"],\"data\":{\"vals\":[\"RAB3GAP1\",\"ZRANB3\",\"R3HDM1\",\"UBXN4\",\"LCT\",\"MCM6\",\"DARS\"],\"x\":[135869057.0,136122878.0,136385961.0,136520911.0,136570082.5,136615621.5,136703738.0],\"y\":[860.0,860.0,860.0,860.0,860.0,860.0,860.0]}},\"id\":\"96178bb2-a54d-4abe-b7c5-7b23a796de28\",\"type\":\"ColumnDataSource\"},{\"attributes\":{\"plot\":{\"id\":\"09d6c269-342a-480c-9ab2-50edc0b7c127\",\"subtype\":\"Figure\",\"type\":\"Plot\"}},\"id\":\"12e1c493-8cb0-4870-bcbd-cb64429d0042\",\"type\":\"WheelZoomTool\"},{\"attributes\":{},\"id\":\"c2b10b8b-b703-4b88-9887-233215a76c5b\",\"type\":\"BasicTickFormatter\"},{\"attributes\":{\"data_source\":{\"id\":\"cba7dbb9-d778-4e96-945c-ad3795504233\",\"type\":\"ColumnDataSource\"},\"glyph\":{\"id\":\"4c01b0c9-1537-432d-80ce-0b264fb33221\",\"type\":\"MultiLine\"},\"hover_glyph\":null,\"nonselection_glyph\":{\"id\":\"dcc35956-c772-4d44-a060-0fe900a27a01\",\"type\":\"MultiLine\"},\"selection_glyph\":null},\"id\":\"0146b9e6-d4b7-4a18-9db5-c090a414ec75\",\"type\":\"GlyphRenderer\"},{\"attributes\":{\"below\":[{\"id\":\"bc9cfd44-2b0e-4417-bc3b-2101a06e27ee\",\"type\":\"LinearAxis\"}],\"left\":[{\"id\":\"d4ef4d83-612e-4080-9af9-f2fe38612ce6\",\"type\":\"LinearAxis\"}],\"plot_height\":900,\"plot_width\":900,\"renderers\":[{\"id\":\"bc9cfd44-2b0e-4417-bc3b-2101a06e27ee\",\"type\":\"LinearAxis\"},{\"id\":\"4c60e4df-63a2-46d5-a010-a818ff3b5d90\",\"type\":\"Grid\"},{\"id\":\"d4ef4d83-612e-4080-9af9-f2fe38612ce6\",\"type\":\"LinearAxis\"},{\"id\":\"034c6666-49fe-4e6b-8a01-a5bebfadae0c\",\"type\":\"Grid\"},{\"id\":\"6d009333-e11f-43f8-8158-f99159d76f1d\",\"type\":\"BoxAnnotation\"},{\"id\":\"2acbc72a-a1b3-41a9-9e61-fc2de6a33ebf\",\"type\":\"GlyphRenderer\"},{\"id\":\"0146b9e6-d4b7-4a18-9db5-c090a414ec75\",\"type\":\"GlyphRenderer\"},{\"id\":\"c7ff5673-e134-425f-9d71-9ceb6c519cd1\",\"type\":\"LabelSet\"},{\"id\":\"12a46678-e31a-43b1-8b40-9571431bd40c\",\"type\":\"GlyphRenderer\"},{\"id\":\"45033b93-8c74-42a0-978e-e6593a1c7485\",\"type\":\"LabelSet\"}],\"title\":{\"id\":\"1a0c6d24-bed0-4402-bd93-523536551e3c\",\"type\":\"Title\"},\"tool_events\":{\"id\":\"53186ad4-5527-4360-baaa-ffadbb47e95a\",\"type\":\"ToolEvents\"},\"toolbar\":{\"id\":\"f622554e-9191-4625-b4bd-046ba47f7dd3\",\"type\":\"Toolbar\"},\"toolbar_location\":null,\"x_range\":{\"id\":\"fdadb7f1-1a7f-473f-a3f6-33f4283e1232\",\"type\":\"Range1d\"},\"y_range\":{\"id\":\"2f237242-7673-4456-b853-6c2f5b1d6163\",\"type\":\"Range1d\"}},\"id\":\"09d6c269-342a-480c-9ab2-50edc0b7c127\",\"subtype\":\"Figure\",\"type\":\"Plot\"},{\"attributes\":{},\"id\":\"948fc17b-1761-43d3-936b-bef386093d7d\",\"type\":\"BasicTicker\"},{\"attributes\":{\"callback\":null,\"column_names\":[\"right\",\"bottom\",\"top\",\"left\"],\"data\":{\"bottom\":[845,845,845,845,845,845,845],\"left\":[135809835,135957574,136289083,136499189,136545415,136597196,136664254],\"right\":[135928279,136288182,136482839,136542633,136594750,136634047,136743222],\"top\":[875,875,875,875,875,875,875]}},\"id\":\"d7b1470b-a1c4-44a2-915f-157b9e8d2614\",\"type\":\"ColumnDataSource\"},{\"attributes\":{\"bottom\":{\"field\":\"bottom\"},\"fill_color\":{\"field\":\"fill_color\"},\"left\":{\"field\":\"left\"},\"line_color\":{\"value\":null},\"right\":{\"field\":\"right\"},\"top\":{\"field\":\"top\"}},\"id\":\"310f95c9-b787-4213-be13-0ea980077824\",\"type\":\"Quad\"},{\"attributes\":{\"dimension\":1,\"plot\":{\"id\":\"09d6c269-342a-480c-9ab2-50edc0b7c127\",\"subtype\":\"Figure\",\"type\":\"Plot\"},\"ticker\":{\"id\":\"948fc17b-1761-43d3-936b-bef386093d7d\",\"type\":\"BasicTicker\"}},\"id\":\"034c6666-49fe-4e6b-8a01-a5bebfadae0c\",\"type\":\"Grid\"},{\"attributes\":{\"callback\":null,\"column_names\":[\"right\",\"bottom\",\"top\",\"left\",\"fill_color\"],\"data\":{\"bottom\":[750,150,250,650,550,50,350,250,450,650,550,450,750,650,750],\"fill_color\":[\"#808080\",\"#ff0000\",\"#ff0000\",\"#ff0000\",\"#ff0000\",\"#ff0000\",\"#ff0000\",\"#ff0000\",\"#ff0000\",\"#ff0000\",\"#ff0000\",\"#ff0000\",\"#808080\",\"#ff0000\",\"#c46161\"],\"left\":[135758231,135758713,135780924,135784351,135810535,135814021,136008173,136056699,136115507,136309239,136364916,136402778,136406646,136448855,136588031],\"right\":[136376515,135778233,136017139,135902220,135898023,136424548,136381251,136433902,136385280,136361560,136387893,136493430,136438078,136466831,136593678],\"top\":[796,168,274,688,586,63,376,268,484,690,587,482,795,687,796]}},\"id\":\"71bf2212-b07f-4cfa-93fd-92816fa14faa\",\"type\":\"ColumnDataSource\"},{\"attributes\":{\"line_color\":{\"field\":\"line_color\"},\"xs\":{\"field\":\"xs\"},\"ys\":{\"field\":\"ys\"}},\"id\":\"4c01b0c9-1537-432d-80ce-0b264fb33221\",\"type\":\"MultiLine\"},{\"attributes\":{\"formatter\":{\"id\":\"22352b5e-f21b-4b57-903c-170cbc3155fc\",\"type\":\"BasicTickFormatter\"},\"plot\":{\"id\":\"09d6c269-342a-480c-9ab2-50edc0b7c127\",\"subtype\":\"Figure\",\"type\":\"Plot\"},\"ticker\":{\"id\":\"948fc17b-1761-43d3-936b-bef386093d7d\",\"type\":\"BasicTicker\"},\"visible\":null},\"id\":\"d4ef4d83-612e-4080-9af9-f2fe38612ce6\",\"type\":\"LinearAxis\"},{\"attributes\":{},\"id\":\"9c2692e8-94ce-474b-a490-2de280190488\",\"type\":\"BasicTicker\"},{\"attributes\":{\"callback\":null,\"column_names\":[\"y\",\"x\",\"vals\"],\"data\":{\"vals\":[\"117_1685\",\"6_68\",\"49_136\",\"8_718\",\"9_545\",\"14_40\",\"70_166\",\"5_69\",\"28_434\",\"9_887\",\"5_588\",\"21_332\",\"5_1460\",\"4_612\",\"7_1760\"],\"x\":[135758231,135758713,135780924,135784351,135810535,135814021,136008173,136056699,136115507,136309239,136364916,136402778,136406646,136448855,136588031],\"y\":[801.0,173.0,279.0,693.0,591.0,68.0,381.0,273.0,489.0,695.0,592.0,487.0,800.0,692.0,801.0]}},\"id\":\"34da0a58-eaac-4d08-93a5-318b4171189e\",\"type\":\"ColumnDataSource\"},{\"attributes\":{\"plot\":{\"id\":\"09d6c269-342a-480c-9ab2-50edc0b7c127\",\"subtype\":\"Figure\",\"type\":\"Plot\"},\"ticker\":{\"id\":\"9c2692e8-94ce-474b-a490-2de280190488\",\"type\":\"BasicTicker\"}},\"id\":\"4c60e4df-63a2-46d5-a010-a818ff3b5d90\",\"type\":\"Grid\"},{\"attributes\":{\"level\":\"glyph\",\"plot\":{\"id\":\"09d6c269-342a-480c-9ab2-50edc0b7c127\",\"subtype\":\"Figure\",\"type\":\"Plot\"},\"source\":{\"id\":\"96178bb2-a54d-4abe-b7c5-7b23a796de28\",\"type\":\"ColumnDataSource\"},\"text\":{\"field\":\"vals\"},\"text_align\":\"center\",\"text_baseline\":\"middle\",\"text_font_size\":{\"value\":\"8pt\"},\"x\":{\"field\":\"x\"},\"y\":{\"field\":\"y\"}},\"id\":\"45033b93-8c74-42a0-978e-e6593a1c7485\",\"type\":\"LabelSet\"},{\"attributes\":{\"overlay\":{\"id\":\"6d009333-e11f-43f8-8158-f99159d76f1d\",\"type\":\"BoxAnnotation\"},\"plot\":{\"id\":\"09d6c269-342a-480c-9ab2-50edc0b7c127\",\"subtype\":\"Figure\",\"type\":\"Plot\"}},\"id\":\"9e0aa882-2958-44ea-968f-547d9f8170b5\",\"type\":\"BoxZoomTool\"}],\"root_ids\":[\"09d6c269-342a-480c-9ab2-50edc0b7c127\"]},\"title\":\"Bokeh Application\",\"version\":\"0.12.0\"}};\n",
       "            var render_items = [{\"docid\":\"9b15f77e-a409-4541-a19c-5ada5689420d\",\"elementid\":\"f112680d-1716-49bc-8d3d-31fcda1fd713\",\"modelid\":\"09d6c269-342a-480c-9ab2-50edc0b7c127\",\"notebook_comms_target\":\"daac6e7e-2ece-47ee-874f-a454279a73cc\"}];\n",
       "            \n",
       "            Bokeh.embed.embed_items(docs_json, render_items);\n",
       "        });\n",
       "      },\n",
       "      function(Bokeh) {\n",
       "      }\n",
       "    ];\n",
       "  \n",
       "    function run_inline_js() {\n",
       "      for (var i = 0; i < inline_js.length; i++) {\n",
       "        inline_js[i](window.Bokeh);\n",
       "      }\n",
       "    }\n",
       "  \n",
       "    if (window._bokeh_is_loading === 0) {\n",
       "      console.log(\"Bokeh: BokehJS loaded, going straight to plotting\");\n",
       "      run_inline_js();\n",
       "    } else {\n",
       "      load_libs(js_urls, function() {\n",
       "        console.log(\"Bokeh: BokehJS plotting callback run at\", now());\n",
       "        run_inline_js();\n",
       "      });\n",
       "    }\n",
       "  }(this));\n",
       "</script>"
      ]
     },
     "metadata": {},
     "output_type": "display_data"
    },
    {
     "data": {
      "text/html": [
       "<p><code>&lt;Bokeh Notebook handle for <strong>In[3]</strong>&gt;</code></p>"
      ],
      "text/plain": [
       "<bokeh.io._CommsHandle at 0x7fea80892510>"
      ]
     },
     "execution_count": 3,
     "metadata": {},
     "output_type": "execute_result"
    }
   ],
   "source": [
    "plt_obj = dm.superset_yes_no([dm.di_6_68], min_match=0.5)\n",
    "plt = plt_obj.do_plot()\n",
    "show(plt)"
   ]
  },
  {
   "cell_type": "code",
   "execution_count": 4,
   "metadata": {
    "collapsed": false
   },
   "outputs": [
    {
     "data": {
      "text/html": [
       "<table>\n",
       "<thead><tr><th style=\"text-align:center\">index</th><th style=\"text-align:center\">first</th><th style=\"text-align:center\">length</th><th style=\"text-align:center\">snps</th><th style=\"text-align:center\" colspan=2>alleles</th><th style=\"text-align:center\" colspan=2>matches</th><th style=\"text-align:center\" colspan=2>afr</th><th style=\"text-align:center\" colspan=2>afx</th><th style=\"text-align:center\" colspan=2>amr</th><th style=\"text-align:center\" colspan=2>eas</th><th style=\"text-align:center\" colspan=2>eur</th><th style=\"text-align:center\" colspan=2>sas</th><th style=\"text-align:center\" colspan=2>sax</th></tr></thead>\n",
       "<tr class=\"even\"><td style=\"text-align: right;\">354033</td><td style=\"text-align: right;\">136,588,031</td><td style=\"text-align: right;\">5,647</td><td style=\"text-align: right;\">7</td><td style=\"text-align: right;\">1760</td><td style=\"text-align: right;\">0.02</td><td style=\"text-align: right;\">41</td><td style=\"text-align: right;\">0.60</td><td style=\"text-align: right;\">31</td><td style=\"text-align: right;\">3.76</td><td style=\"text-align: right;\">10</td><td style=\"text-align: right;\">3.89</td><td style=\"text-align: right;\">0</td><td style=\"text-align: right;\">0.00</td><td style=\"text-align: right;\">0</td><td style=\"text-align: right;\">0.00</td><td style=\"text-align: right;\">0</td><td style=\"text-align: right;\">0.00</td><td style=\"text-align: right;\">0</td><td style=\"text-align: right;\">0.00</td><td style=\"text-align: right;\">0</td><td style=\"text-align: right;\">0.00</td></tr>\n",
       "<tr><td style=\"text-align: right;\">353244</td><td style=\"text-align: right;\">135,758,231</td><td style=\"text-align: right;\">618,284</td><td style=\"text-align: right;\">117</td><td style=\"text-align: right;\">1685</td><td style=\"text-align: right;\">0.04</td><td style=\"text-align: right;\">68</td><td style=\"text-align: right;\">1.00</td><td style=\"text-align: right;\">53</td><td style=\"text-align: right;\">3.87</td><td style=\"text-align: right;\">14</td><td style=\"text-align: right;\">3.28</td><td style=\"text-align: right;\">1</td><td style=\"text-align: right;\">0.11</td><td style=\"text-align: right;\">0</td><td style=\"text-align: right;\">0.00</td><td style=\"text-align: right;\">0</td><td style=\"text-align: right;\">0.00</td><td style=\"text-align: right;\">0</td><td style=\"text-align: right;\">0.00</td><td style=\"text-align: right;\">0</td><td style=\"text-align: right;\">0.00</td></tr>\n",
       "<tr class=\"even\"><td style=\"text-align: right;\">353814</td><td style=\"text-align: right;\">136,406,646</td><td style=\"text-align: right;\">31,432</td><td style=\"text-align: right;\">5</td><td style=\"text-align: right;\">1460</td><td style=\"text-align: right;\">0.03</td><td style=\"text-align: right;\">50</td><td style=\"text-align: right;\">0.74</td><td style=\"text-align: right;\">36</td><td style=\"text-align: right;\">3.58</td><td style=\"text-align: right;\">14</td><td style=\"text-align: right;\">4.47</td><td style=\"text-align: right;\">0</td><td style=\"text-align: right;\">0.00</td><td style=\"text-align: right;\">0</td><td style=\"text-align: right;\">0.00</td><td style=\"text-align: right;\">0</td><td style=\"text-align: right;\">0.00</td><td style=\"text-align: right;\">0</td><td style=\"text-align: right;\">0.00</td><td style=\"text-align: right;\">0</td><td style=\"text-align: right;\">0.00</td></tr>\n",
       "<tr><td style=\"text-align: right;\">353729</td><td style=\"text-align: right;\">136,309,239</td><td style=\"text-align: right;\">52,321</td><td style=\"text-align: right;\">9</td><td style=\"text-align: right;\">887</td><td style=\"text-align: right;\">0.08</td><td style=\"text-align: right;\">68</td><td style=\"text-align: right;\">1.00</td><td style=\"text-align: right;\">53</td><td style=\"text-align: right;\">3.87</td><td style=\"text-align: right;\">14</td><td style=\"text-align: right;\">3.28</td><td style=\"text-align: right;\">1</td><td style=\"text-align: right;\">0.11</td><td style=\"text-align: right;\">0</td><td style=\"text-align: right;\">0.00</td><td style=\"text-align: right;\">0</td><td style=\"text-align: right;\">0.00</td><td style=\"text-align: right;\">0</td><td style=\"text-align: right;\">0.00</td><td style=\"text-align: right;\">0</td><td style=\"text-align: right;\">0.00</td></tr>\n",
       "<tr class=\"even\"><td style=\"text-align: right;\">353312</td><td style=\"text-align: right;\">135,784,351</td><td style=\"text-align: right;\">117,869</td><td style=\"text-align: right;\">8</td><td style=\"text-align: right;\">718</td><td style=\"text-align: right;\">0.09</td><td style=\"text-align: right;\">68</td><td style=\"text-align: right;\">1.00</td><td style=\"text-align: right;\">53</td><td style=\"text-align: right;\">3.87</td><td style=\"text-align: right;\">14</td><td style=\"text-align: right;\">3.28</td><td style=\"text-align: right;\">1</td><td style=\"text-align: right;\">0.11</td><td style=\"text-align: right;\">0</td><td style=\"text-align: right;\">0.00</td><td style=\"text-align: right;\">0</td><td style=\"text-align: right;\">0.00</td><td style=\"text-align: right;\">0</td><td style=\"text-align: right;\">0.00</td><td style=\"text-align: right;\">0</td><td style=\"text-align: right;\">0.00</td></tr>\n",
       "<tr><td style=\"text-align: right;\">353851</td><td style=\"text-align: right;\">136,448,855</td><td style=\"text-align: right;\">17,976</td><td style=\"text-align: right;\">4</td><td style=\"text-align: right;\">612</td><td style=\"text-align: right;\">0.07</td><td style=\"text-align: right;\">45</td><td style=\"text-align: right;\">0.66</td><td style=\"text-align: right;\">35</td><td style=\"text-align: right;\">3.86</td><td style=\"text-align: right;\">10</td><td style=\"text-align: right;\">3.54</td><td style=\"text-align: right;\">0</td><td style=\"text-align: right;\">0.00</td><td style=\"text-align: right;\">0</td><td style=\"text-align: right;\">0.00</td><td style=\"text-align: right;\">0</td><td style=\"text-align: right;\">0.00</td><td style=\"text-align: right;\">0</td><td style=\"text-align: right;\">0.00</td><td style=\"text-align: right;\">0</td><td style=\"text-align: right;\">0.00</td></tr>\n",
       "<tr class=\"even\"><td style=\"text-align: right;\">353764</td><td style=\"text-align: right;\">136,364,916</td><td style=\"text-align: right;\">22,977</td><td style=\"text-align: right;\">5</td><td style=\"text-align: right;\">588</td><td style=\"text-align: right;\">0.11</td><td style=\"text-align: right;\">67</td><td style=\"text-align: right;\">0.99</td><td style=\"text-align: right;\">53</td><td style=\"text-align: right;\">3.93</td><td style=\"text-align: right;\">13</td><td style=\"text-align: right;\">3.09</td><td style=\"text-align: right;\">1</td><td style=\"text-align: right;\">0.11</td><td style=\"text-align: right;\">0</td><td style=\"text-align: right;\">0.00</td><td style=\"text-align: right;\">0</td><td style=\"text-align: right;\">0.00</td><td style=\"text-align: right;\">0</td><td style=\"text-align: right;\">0.00</td><td style=\"text-align: right;\">0</td><td style=\"text-align: right;\">0.00</td></tr>\n",
       "<tr><td style=\"text-align: right;\">353349</td><td style=\"text-align: right;\">135,810,535</td><td style=\"text-align: right;\">87,488</td><td style=\"text-align: right;\">9</td><td style=\"text-align: right;\">545</td><td style=\"text-align: right;\">0.12</td><td style=\"text-align: right;\">68</td><td style=\"text-align: right;\">1.00</td><td style=\"text-align: right;\">53</td><td style=\"text-align: right;\">3.87</td><td style=\"text-align: right;\">14</td><td style=\"text-align: right;\">3.28</td><td style=\"text-align: right;\">1</td><td style=\"text-align: right;\">0.11</td><td style=\"text-align: right;\">0</td><td style=\"text-align: right;\">0.00</td><td style=\"text-align: right;\">0</td><td style=\"text-align: right;\">0.00</td><td style=\"text-align: right;\">0</td><td style=\"text-align: right;\">0.00</td><td style=\"text-align: right;\">0</td><td style=\"text-align: right;\">0.00</td></tr>\n",
       "<tr class=\"even\"><td style=\"text-align: right;\">353614</td><td style=\"text-align: right;\">136,115,507</td><td style=\"text-align: right;\">269,773</td><td style=\"text-align: right;\">28</td><td style=\"text-align: right;\">434</td><td style=\"text-align: right;\">0.15</td><td style=\"text-align: right;\">67</td><td style=\"text-align: right;\">0.99</td><td style=\"text-align: right;\">53</td><td style=\"text-align: right;\">3.93</td><td style=\"text-align: right;\">13</td><td style=\"text-align: right;\">3.09</td><td style=\"text-align: right;\">1</td><td style=\"text-align: right;\">0.11</td><td style=\"text-align: right;\">0</td><td style=\"text-align: right;\">0.00</td><td style=\"text-align: right;\">0</td><td style=\"text-align: right;\">0.00</td><td style=\"text-align: right;\">0</td><td style=\"text-align: right;\">0.00</td><td style=\"text-align: right;\">0</td><td style=\"text-align: right;\">0.00</td></tr>\n",
       "<tr><td style=\"text-align: right;\">353804</td><td style=\"text-align: right;\">136,402,778</td><td style=\"text-align: right;\">90,652</td><td style=\"text-align: right;\">21</td><td style=\"text-align: right;\">332</td><td style=\"text-align: right;\">0.12</td><td style=\"text-align: right;\">41</td><td style=\"text-align: right;\">0.60</td><td style=\"text-align: right;\">31</td><td style=\"text-align: right;\">3.76</td><td style=\"text-align: right;\">10</td><td style=\"text-align: right;\">3.89</td><td style=\"text-align: right;\">0</td><td style=\"text-align: right;\">0.00</td><td style=\"text-align: right;\">0</td><td style=\"text-align: right;\">0.00</td><td style=\"text-align: right;\">0</td><td style=\"text-align: right;\">0.00</td><td style=\"text-align: right;\">0</td><td style=\"text-align: right;\">0.00</td><td style=\"text-align: right;\">0</td><td style=\"text-align: right;\">0.00</td></tr>\n",
       "<tr class=\"even\"><td style=\"text-align: right;\">353538</td><td style=\"text-align: right;\">136,008,173</td><td style=\"text-align: right;\">373,078</td><td style=\"text-align: right;\">70</td><td style=\"text-align: right;\">166</td><td style=\"text-align: right;\">0.37</td><td style=\"text-align: right;\">61</td><td style=\"text-align: right;\">0.90</td><td style=\"text-align: right;\">47</td><td style=\"text-align: right;\">3.83</td><td style=\"text-align: right;\">13</td><td style=\"text-align: right;\">3.40</td><td style=\"text-align: right;\">1</td><td style=\"text-align: right;\">0.12</td><td style=\"text-align: right;\">0</td><td style=\"text-align: right;\">0.00</td><td style=\"text-align: right;\">0</td><td style=\"text-align: right;\">0.00</td><td style=\"text-align: right;\">0</td><td style=\"text-align: right;\">0.00</td><td style=\"text-align: right;\">0</td><td style=\"text-align: right;\">0.00</td></tr>\n",
       "<tr><td style=\"text-align: right;\">353304</td><td style=\"text-align: right;\">135,780,924</td><td style=\"text-align: right;\">236,215</td><td style=\"text-align: right;\">49</td><td style=\"text-align: right;\">136</td><td style=\"text-align: right;\">0.45</td><td style=\"text-align: right;\">61</td><td style=\"text-align: right;\">0.90</td><td style=\"text-align: right;\">47</td><td style=\"text-align: right;\">3.83</td><td style=\"text-align: right;\">13</td><td style=\"text-align: right;\">3.40</td><td style=\"text-align: right;\">1</td><td style=\"text-align: right;\">0.12</td><td style=\"text-align: right;\">0</td><td style=\"text-align: right;\">0.00</td><td style=\"text-align: right;\">0</td><td style=\"text-align: right;\">0.00</td><td style=\"text-align: right;\">0</td><td style=\"text-align: right;\">0.00</td><td style=\"text-align: right;\">0</td><td style=\"text-align: right;\">0.00</td></tr>\n",
       "<tr class=\"even\"><td style=\"text-align: right;\">353581</td><td style=\"text-align: right;\">136,056,699</td><td style=\"text-align: right;\">377,203</td><td style=\"text-align: right;\">5</td><td style=\"text-align: right;\">69</td><td style=\"text-align: right;\">0.61</td><td style=\"text-align: right;\">42</td><td style=\"text-align: right;\">0.62</td><td style=\"text-align: right;\">30</td><td style=\"text-align: right;\">3.55</td><td style=\"text-align: right;\">12</td><td style=\"text-align: right;\">4.56</td><td style=\"text-align: right;\">0</td><td style=\"text-align: right;\">0.00</td><td style=\"text-align: right;\">0</td><td style=\"text-align: right;\">0.00</td><td style=\"text-align: right;\">0</td><td style=\"text-align: right;\">0.00</td><td style=\"text-align: right;\">0</td><td style=\"text-align: right;\">0.00</td><td style=\"text-align: right;\">0</td><td style=\"text-align: right;\">0.00</td></tr>\n",
       "<tr><td style=\"text-align: right;\">353247</td><td style=\"text-align: right;\">135,758,713</td><td style=\"text-align: right;\">19,520</td><td style=\"text-align: right;\">6</td><td style=\"text-align: right;\">68</td><td style=\"text-align: right;\">1.00</td><td style=\"text-align: right;\">68</td><td style=\"text-align: right;\">1.00</td><td style=\"text-align: right;\">53</td><td style=\"text-align: right;\">3.87</td><td style=\"text-align: right;\">14</td><td style=\"text-align: right;\">3.28</td><td style=\"text-align: right;\">1</td><td style=\"text-align: right;\">0.11</td><td style=\"text-align: right;\">0</td><td style=\"text-align: right;\">0.00</td><td style=\"text-align: right;\">0</td><td style=\"text-align: right;\">0.00</td><td style=\"text-align: right;\">0</td><td style=\"text-align: right;\">0.00</td><td style=\"text-align: right;\">0</td><td style=\"text-align: right;\">0.00</td></tr>\n",
       "<tr class=\"even\"><td style=\"text-align: right;\">353354</td><td style=\"text-align: right;\">135,814,021</td><td style=\"text-align: right;\">610,527</td><td style=\"text-align: right;\">14</td><td style=\"text-align: right;\">40</td><td style=\"text-align: right;\">1.00</td><td style=\"text-align: right;\">40</td><td style=\"text-align: right;\">0.59</td><td style=\"text-align: right;\">30</td><td style=\"text-align: right;\">3.73</td><td style=\"text-align: right;\">10</td><td style=\"text-align: right;\">3.99</td><td style=\"text-align: right;\">0</td><td style=\"text-align: right;\">0.00</td><td style=\"text-align: right;\">0</td><td style=\"text-align: right;\">0.00</td><td style=\"text-align: right;\">0</td><td style=\"text-align: right;\">0.00</td><td style=\"text-align: right;\">0</td><td style=\"text-align: right;\">0.00</td><td style=\"text-align: right;\">0</td><td style=\"text-align: right;\">0.00</td></tr>\n",
       "</table>"
      ],
      "text/plain": [
       "<IPython.core.display.HTML object>"
      ]
     },
     "execution_count": 4,
     "metadata": {},
     "output_type": "execute_result"
    }
   ],
   "source": [
    "HTML(plt_obj.get_html())"
   ]
  },
  {
   "cell_type": "code",
   "execution_count": 5,
   "metadata": {
    "collapsed": false
   },
   "outputs": [
    {
     "data": {
      "text/plain": [
       "array([(0, 4935), (1, 5), (5, 7), (6, 61)], \n",
       "      dtype=[('count', '<u2'), ('snps', '<u2')])"
      ]
     },
     "execution_count": 5,
     "metadata": {},
     "output_type": "execute_result"
    }
   ],
   "source": [
    "count_data = sa_6_68.unique_snps_per_allele()\n",
    "count_data"
   ]
  },
  {
   "cell_type": "code",
   "execution_count": 6,
   "metadata": {
    "collapsed": false
   },
   "outputs": [
    {
     "data": {
      "text/html": [
       "\n",
       "\n",
       "    <div class=\"bk-root\">\n",
       "        <div class=\"plotdiv\" id=\"8e0ae60f-cc60-4b0d-ad09-5178605ddb1c\"></div>\n",
       "    </div>\n",
       "<script type=\"text/javascript\">\n",
       "  \n",
       "  (function(global) {\n",
       "    function now() {\n",
       "      return new Date();\n",
       "    }\n",
       "  \n",
       "    if (typeof (window._bokeh_onload_callbacks) === \"undefined\") {\n",
       "      window._bokeh_onload_callbacks = [];\n",
       "    }\n",
       "  \n",
       "    function run_callbacks() {\n",
       "      window._bokeh_onload_callbacks.forEach(function(callback) { callback() });\n",
       "      delete window._bokeh_onload_callbacks\n",
       "      console.info(\"Bokeh: all callbacks have finished\");\n",
       "    }\n",
       "  \n",
       "    function load_libs(js_urls, callback) {\n",
       "      window._bokeh_onload_callbacks.push(callback);\n",
       "      if (window._bokeh_is_loading > 0) {\n",
       "        console.log(\"Bokeh: BokehJS is being loaded, scheduling callback at\", now());\n",
       "        return null;\n",
       "      }\n",
       "      if (js_urls == null || js_urls.length === 0) {\n",
       "        run_callbacks();\n",
       "        return null;\n",
       "      }\n",
       "      console.log(\"Bokeh: BokehJS not loaded, scheduling load and callback at\", now());\n",
       "      window._bokeh_is_loading = js_urls.length;\n",
       "      for (var i = 0; i < js_urls.length; i++) {\n",
       "        var url = js_urls[i];\n",
       "        var s = document.createElement('script');\n",
       "        s.src = url;\n",
       "        s.async = false;\n",
       "        s.onreadystatechange = s.onload = function() {\n",
       "          window._bokeh_is_loading--;\n",
       "          if (window._bokeh_is_loading === 0) {\n",
       "            console.log(\"Bokeh: all BokehJS libraries loaded\");\n",
       "            run_callbacks()\n",
       "          }\n",
       "        };\n",
       "        s.onerror = function() {\n",
       "          console.warn(\"failed to load library \" + url);\n",
       "        };\n",
       "        console.log(\"Bokeh: injecting script tag for BokehJS library: \", url);\n",
       "        document.getElementsByTagName(\"head\")[0].appendChild(s);\n",
       "      }\n",
       "    };var element = document.getElementById(\"8e0ae60f-cc60-4b0d-ad09-5178605ddb1c\");\n",
       "    if (element == null) {\n",
       "      console.log(\"Bokeh: ERROR: autoload.js configured with elementid '8e0ae60f-cc60-4b0d-ad09-5178605ddb1c' but no matching script tag was found. \")\n",
       "      return false;\n",
       "    }\n",
       "  \n",
       "    var js_urls = [];\n",
       "  \n",
       "    var inline_js = [\n",
       "      function(Bokeh) {\n",
       "        Bokeh.$(function() {\n",
       "            var docs_json = {\"954f0382-de25-452a-8f51-5dc7193549c8\":{\"roots\":{\"references\":[{\"attributes\":{\"callback\":null,\"column_names\":[\"right\",\"bottom\",\"top\",\"left\",\"fill_color\"],\"data\":{\"bottom\":[550,50,250,150,150,350,250,250,550,450,50,350,250,450],\"fill_color\":[\"#808080\",\"#ff0000\",\"#ff0000\",\"#ff0000\",\"#ff0000\",\"#ff0000\",\"#ff0000\",\"#ff0000\",\"#808080\",\"#61c4c4\",\"#ff0000\",\"#808080\",\"#61c4c4\",\"#808080\"],\"left\":[135758231,135758713,135784351,135810535,136115507,136309239,136364916,136448855,136496493,136496805,136504541,136511874,136514709,136556805],\"right\":[136376515,135778233,135902220,135898023,136385280,136361560,136387893,136466831,136553925,136552629,136528224,136533195,136543147,136747085],\"top\":[596,68,288,186,184,390,287,287,593,491,56,391,290,491]}},\"id\":\"de2cd01b-e1e5-4a7a-b881-e116c0f66126\",\"type\":\"ColumnDataSource\"},{\"attributes\":{\"callback\":null,\"end\":700},\"id\":\"a19876e2-e6ae-4c06-bd6c-4b9043ff22ff\",\"type\":\"Range1d\"},{\"attributes\":{\"bottom\":{\"field\":\"bottom\"},\"fill_color\":{\"field\":\"fill_color\"},\"left\":{\"field\":\"left\"},\"line_color\":{\"value\":null},\"right\":{\"field\":\"right\"},\"top\":{\"field\":\"top\"}},\"id\":\"ff9d6cf9-d413-40e4-a152-59e7e8c0292c\",\"type\":\"Quad\"},{\"attributes\":{\"bottom_units\":\"screen\",\"fill_alpha\":{\"value\":0.5},\"fill_color\":{\"value\":\"lightgrey\"},\"left_units\":\"screen\",\"level\":\"overlay\",\"line_alpha\":{\"value\":1.0},\"line_color\":{\"value\":\"black\"},\"line_dash\":[4,4],\"line_width\":{\"value\":2},\"plot\":null,\"render_mode\":\"css\",\"right_units\":\"screen\",\"top_units\":\"screen\"},\"id\":\"deccbb62-105c-4c76-af94-c6b9b41a053d\",\"type\":\"BoxAnnotation\"},{\"attributes\":{},\"id\":\"abe93a6e-473b-4f81-a74f-7a016bc268e4\",\"type\":\"ToolEvents\"},{\"attributes\":{\"line_alpha\":{\"value\":0.1},\"line_color\":{\"value\":\"#1f77b4\"},\"xs\":{\"field\":\"xs\"},\"ys\":{\"field\":\"ys\"}},\"id\":\"c9807f06-6a57-4590-8d0d-c2ee21ff028f\",\"type\":\"MultiLine\"},{\"attributes\":{\"data_source\":{\"id\":\"c0c05297-ffe8-43f5-916b-3f8d35638f79\",\"type\":\"ColumnDataSource\"},\"glyph\":{\"id\":\"554e749d-4c06-4f7d-9b87-a8330e629c30\",\"type\":\"Quad\"},\"hover_glyph\":null,\"nonselection_glyph\":{\"id\":\"57b1f560-2cab-4d3a-af27-b21c8b64b533\",\"type\":\"Quad\"},\"selection_glyph\":null},\"id\":\"db558323-a4d4-4423-b582-494d4aeef48e\",\"type\":\"GlyphRenderer\"},{\"attributes\":{\"active_drag\":\"auto\",\"active_scroll\":\"auto\",\"active_tap\":\"auto\",\"tools\":[{\"id\":\"424ec8cc-77dd-4b26-a2b4-3500e0fb92c4\",\"type\":\"PanTool\"},{\"id\":\"2ddda0e7-ab8c-4b94-93d2-c21e1532a1d6\",\"type\":\"WheelZoomTool\"},{\"id\":\"9e52b564-1ad2-46c9-b2bd-6e6124bf1f4e\",\"type\":\"BoxZoomTool\"},{\"id\":\"582c9aef-3755-410a-a429-283fad47b329\",\"type\":\"SaveTool\"},{\"id\":\"cecde161-9d28-462f-a8b1-c40e27b37174\",\"type\":\"ResetTool\"},{\"id\":\"39c0087a-5d0a-4ea8-823e-001dd46024eb\",\"type\":\"HelpTool\"}]},\"id\":\"89224144-f5ae-4c1a-a688-32229e36beab\",\"type\":\"Toolbar\"},{\"attributes\":{\"formatter\":{\"id\":\"6da40fc3-b698-448a-a95e-7dc18d2f7cd3\",\"type\":\"BasicTickFormatter\"},\"plot\":{\"id\":\"7632fe68-6032-4871-b84f-87aceb9eee85\",\"subtype\":\"Figure\",\"type\":\"Plot\"},\"ticker\":{\"id\":\"a7386baf-b3f4-4f3c-9ba9-34baf2880231\",\"type\":\"BasicTicker\"},\"visible\":null},\"id\":\"4fb2c104-70d1-46d3-8f95-33e5c7f707b9\",\"type\":\"LinearAxis\"},{\"attributes\":{\"callback\":null,\"column_names\":[\"right\",\"bottom\",\"top\",\"left\"],\"data\":{\"bottom\":[645,645,645,645,645,645,645],\"left\":[135809835,135957574,136289083,136499189,136545415,136597196,136664254],\"right\":[135928279,136288182,136482839,136542633,136594750,136634047,136743222],\"top\":[675,675,675,675,675,675,675]}},\"id\":\"c0c05297-ffe8-43f5-916b-3f8d35638f79\",\"type\":\"ColumnDataSource\"},{\"attributes\":{\"overlay\":{\"id\":\"deccbb62-105c-4c76-af94-c6b9b41a053d\",\"type\":\"BoxAnnotation\"},\"plot\":{\"id\":\"7632fe68-6032-4871-b84f-87aceb9eee85\",\"subtype\":\"Figure\",\"type\":\"Plot\"}},\"id\":\"9e52b564-1ad2-46c9-b2bd-6e6124bf1f4e\",\"type\":\"BoxZoomTool\"},{\"attributes\":{\"plot\":{\"id\":\"7632fe68-6032-4871-b84f-87aceb9eee85\",\"subtype\":\"Figure\",\"type\":\"Plot\"}},\"id\":\"424ec8cc-77dd-4b26-a2b4-3500e0fb92c4\",\"type\":\"PanTool\"},{\"attributes\":{\"formatter\":{\"id\":\"c24c5ff8-315a-4a49-aa13-0129b06223a9\",\"type\":\"BasicTickFormatter\"},\"plot\":{\"id\":\"7632fe68-6032-4871-b84f-87aceb9eee85\",\"subtype\":\"Figure\",\"type\":\"Plot\"},\"ticker\":{\"id\":\"5d197a7c-d976-4ed7-87f6-be8b4240b7ef\",\"type\":\"BasicTicker\"}},\"id\":\"35ef5e17-946f-40d5-84ac-182bbd6e8711\",\"type\":\"LinearAxis\"},{\"attributes\":{\"callback\":null,\"column_names\":[\"y\",\"x\",\"vals\"],\"data\":{\"vals\":[\"RAB3GAP1\",\"ZRANB3\",\"R3HDM1\",\"UBXN4\",\"LCT\",\"MCM6\",\"DARS\"],\"x\":[135869057.0,136122878.0,136385961.0,136520911.0,136570082.5,136615621.5,136703738.0],\"y\":[660.0,660.0,660.0,660.0,660.0,660.0,660.0]}},\"id\":\"bd5c35bd-1a4b-44ac-b8d7-323fc71d23d6\",\"type\":\"ColumnDataSource\"},{\"attributes\":{\"plot\":null,\"text\":null},\"id\":\"048ea2b9-9bed-47e5-9608-eefccddc4d62\",\"type\":\"Title\"},{\"attributes\":{\"callback\":null,\"column_names\":[\"y\",\"x\",\"vals\"],\"data\":{\"vals\":[\"117_1685\",\"6_68\",\"8_718\",\"9_545\",\"28_434\",\"9_887\",\"5_588\",\"4_612\",\"9_1170\",\"9_1023\",\"4_17\",\"5_976\",\"6_820\",\"39_1014\"],\"x\":[135758231,135758713,135784351,135810535,136115507,136309239,136364916,136448855,136496493,136496805,136504541,136511874,136514709,136556805],\"y\":[601.0,73.0,293.0,191.0,189.0,395.0,292.0,292.0,598.0,496.0,61.0,396.0,295.0,496.0]}},\"id\":\"3b78a2de-3a59-46c0-9e21-d09aa9458632\",\"type\":\"ColumnDataSource\"},{\"attributes\":{\"plot\":{\"id\":\"7632fe68-6032-4871-b84f-87aceb9eee85\",\"subtype\":\"Figure\",\"type\":\"Plot\"}},\"id\":\"39c0087a-5d0a-4ea8-823e-001dd46024eb\",\"type\":\"HelpTool\"},{\"attributes\":{\"callback\":null,\"end\":136786630,\"start\":135757320},\"id\":\"43a60643-0c46-44c6-8fa3-d8a1ca4370d4\",\"type\":\"Range1d\"},{\"attributes\":{\"line_color\":{\"field\":\"line_color\"},\"xs\":{\"field\":\"xs\"},\"ys\":{\"field\":\"ys\"}},\"id\":\"a6b43811-cade-4ff8-8702-1fd8b9eff529\",\"type\":\"MultiLine\"},{\"attributes\":{\"bottom\":{\"field\":\"bottom\"},\"fill_alpha\":{\"value\":0.1},\"fill_color\":{\"value\":\"#1f77b4\"},\"left\":{\"field\":\"left\"},\"line_alpha\":{\"value\":0.1},\"line_color\":{\"value\":\"#1f77b4\"},\"right\":{\"field\":\"right\"},\"top\":{\"field\":\"top\"}},\"id\":\"c0050509-7190-44d7-9173-2e1eed6472c8\",\"type\":\"Quad\"},{\"attributes\":{\"callback\":null,\"column_names\":[\"xs\",\"ys\",\"line_color\"],\"data\":{\"line_color\":[\"black\",\"black\",\"black\",\"black\",\"black\",\"black\",\"black\",\"black\",\"black\",\"black\",\"black\",\"black\",\"black\",\"black\",\"black\",\"black\",\"black\",\"black\",\"black\",\"black\",\"black\",\"black\",\"black\",\"black\",\"black\",\"black\",\"black\",\"black\",\"black\",\"black\",\"black\",\"black\",\"black\",\"black\",\"black\",\"black\",\"black\",\"black\",\"black\",\"black\",\"black\",\"black\",\"black\",\"black\",\"black\",\"black\",\"black\",\"black\",\"black\",\"black\",\"black\",\"black\",\"black\",\"black\",\"black\",\"black\",\"black\",\"black\",\"black\",\"black\",\"black\",\"black\",\"black\",\"black\",\"black\",\"black\",\"black\",\"black\",\"black\",\"black\",\"black\",\"black\",\"black\",\"black\",\"black\",\"black\",\"black\",\"black\",\"black\",\"black\",\"black\",\"black\",\"black\",\"black\",\"black\",\"black\",\"black\",\"black\",\"black\",\"black\",\"black\",\"black\",\"black\",\"black\",\"black\",\"black\",\"black\",\"black\",\"black\",\"black\",\"black\",\"black\",\"black\",\"black\",\"black\",\"black\",\"black\",\"black\",\"black\",\"black\",\"black\",\"black\",\"black\",\"black\",\"black\",\"black\",\"black\",\"black\",\"black\",\"black\",\"black\",\"black\",\"black\",\"black\",\"black\",\"black\",\"black\",\"black\",\"black\",\"black\",\"black\",\"black\",\"black\",\"black\",\"black\",\"black\",\"black\",\"black\",\"black\",\"black\",\"black\",\"black\",\"black\",\"black\",\"black\",\"black\",\"black\",\"black\",\"black\",\"black\",\"black\",\"black\",\"black\",\"black\",\"black\",\"black\",\"black\",\"black\",\"black\",\"black\",\"black\",\"black\",\"black\",\"black\",\"black\",\"black\",\"black\",\"black\",\"black\",\"black\",\"black\",\"black\",\"black\",\"black\",\"black\",\"black\",\"black\",\"black\",\"black\",\"black\",\"black\",\"black\",\"black\",\"black\",\"black\",\"black\",\"black\",\"black\",\"black\",\"black\",\"black\",\"black\",\"black\",\"black\",\"black\",\"black\",\"black\",\"black\",\"black\",\"black\",\"black\",\"black\",\"black\",\"black\",\"black\",\"black\",\"black\",\"black\",\"black\",\"black\",\"black\",\"black\",\"black\",\"black\",\"black\",\"black\",\"black\",\"black\",\"black\",\"black\",\"black\",\"black\",\"black\",\"black\",\"black\",\"black\",\"black\",\"black\",\"black\",\"black\",\"black\",\"black\",\"black\",\"black\",\"black\",\"black\",\"black\",\"black\",\"black\",\"black\",\"black\",\"black\",\"black\",\"black\",\"black\",\"black\",\"black\",\"black\",\"black\",\"black\",\"black\",\"black\",\"black\",\"black\",\"black\",\"black\",\"black\",\"black\"],\"xs\":[[135758231,135758231],[135758520,135758520],[135766072,135766072],[135773420,135773420],[135773446,135773446],[135773617,135773617],[135773692,135773692],[135774681,135774681],[135775049,135775049],[135776430,135776430],[135778656,135778656],[135780168,135780168],[135780587,135780587],[135781301,135781301],[135781522,135781522],[135781635,135781635],[135782456,135782456],[135783157,135783157],[135783366,135783366],[135783367,135783367],[135784227,135784227],[135784733,135784733],[135785066,135785066],[135785068,135785068],[135785149,135785149],[135787148,135787148],[135787642,135787642],[135789405,135789405],[135789472,135789472],[135789682,135789682],[135789784,135789784],[135792338,135792338],[135792528,135792528],[135793565,135793565],[135793684,135793684],[135793845,135793845],[135794367,135794367],[135794986,135794986],[135795040,135795040],[135795095,135795095],[135795150,135795150],[135795385,135795385],[135795396,135795396],[135795443,135795443],[135795595,135795595],[135796000,135796000],[135796155,135796155],[135796410,135796410],[135796965,135796965],[135797223,135797223],[135797747,135797747],[135798082,135798082],[135798758,135798758],[135799082,135799082],[135800085,135800085],[135800601,135800601],[135800757,135800757],[135801228,135801228],[135801956,135801956],[135802020,135802020],[135802028,135802028],[135802050,135802050],[135802148,135802148],[135803766,135803766],[135809241,135809241],[135812969,135812969],[135814716,135814716],[135818907,135818907],[135829432,135829432],[135832131,135832131],[135849613,135849613],[135853807,135853807],[135859923,135859923],[135860305,135860305],[135861497,135861497],[135863143,135863143],[135864294,135864294],[135871624,135871624],[135872646,135872646],[135874038,135874038],[135874622,135874622],[135878814,135878814],[135880013,135880013],[135884487,135884487],[135885357,135885357],[135893853,135893853],[135895809,135895809],[135895879,135895879],[135899069,135899069],[135909462,135909462],[135912977,135912977],[135914038,135914038],[135921839,135921839],[135925002,135925002],[135928312,135928312],[135935049,135935049],[135962711,135962711],[135984172,135984172],[135994753,135994753],[135994754,135994754],[136016079,136016079],[136027264,136027264],[136052004,136052004],[136100473,136100473],[136110129,136110129],[136166536,136166536],[136169799,136169799],[136191314,136191314],[136228887,136228887],[136238453,136238453],[136288273,136288273],[136292425,136292425],[136321951,136321951],[136324564,136324564],[136327299,136327299],[136327302,136327302],[136376515,136376515],[135758713,135758713],[135759717,135759717],[135762608,135762608],[135764416,135764416],[135772876,135772876],[135778233,135778233],[135784351,135784351],[135829309,135829309],[135835508,135835508],[135861297,135861297],[135863459,135863459],[135873845,135873845],[135902172,135902172],[135902220,135902220],[135810535,135810535],[135817760,135817760],[135857538,135857538],[135862191,135862191],[135869380,135869380],[135869761,135869761],[135886486,135886486],[135888078,135888078],[135898023,135898023],[136115507,136115507],[136133627,136133627],[136135820,136135820],[136145676,136145676],[136166014,136166014],[136173684,136173684],[136176031,136176031],[136214307,136214307],[136215590,136215590],[136219265,136219265],[136219831,136219831],[136289471,136289471],[136298739,136298739],[136302296,136302296],[136302897,136302897],[136348702,136348702],[136348964,136348964],[136358707,136358707],[136359608,136359608],[136360402,136360402],[136365624,136365624],[136366970,136366970],[136367871,136367871],[136368393,136368393],[136370701,136370701],[136378539,136378539],[136378895,136378895],[136385280,136385280],[136309239,136309239],[136322472,136322472],[136323787,136323787],[136323862,136323862],[136326765,136326765],[136329500,136329500],[136331657,136331657],[136345356,136345356],[136361560,136361560],[136364916,136364916],[136369497,136369497],[136369580,136369580],[136380846,136380846],[136387893,136387893],[136448855,136448855],[136456090,136456090],[136456675,136456675],[136466831,136466831],[136496493,136496493],[136496639,136496639],[136496928,136496928],[136509573,136509573],[136511951,136511951],[136537057,136537057],[136546635,136546635],[136553438,136553438],[136553925,136553925],[136496805,136496805],[136496910,136496910],[136515859,136515859],[136515924,136515924],[136520186,136520186],[136524766,136524766],[136535364,136535364],[136536113,136536113],[136552629,136552629],[136504541,136504541],[136513977,136513977],[136526501,136526501],[136528224,136528224],[136511874,136511874],[136530248,136530248],[136530556,136530556],[136531252,136531252],[136533195,136533195],[136514709,136514709],[136516308,136516308],[136520100,136520100],[136521595,136521595],[136523045,136523045],[136543147,136543147],[136556805,136556805],[136560003,136560003],[136562472,136562472],[136563248,136563248],[136565328,136565328],[136570613,136570613],[136571982,136571982],[136574305,136574305],[136578040,136578040],[136578194,136578194],[136580398,136580398],[136586828,136586828],[136590558,136590558],[136592309,136592309],[136593541,136593541],[136593694,136593694],[136595426,136595426],[136615222,136615222],[136624919,136624919],[136626004,136626004],[136628380,136628380],[136636909,136636909],[136637350,136637350],[136637622,136637622],[136639487,136639487],[136646900,136646900],[136652093,136652093],[136652859,136652859],[136655620,136655620],[136667896,136667896],[136671801,136671801],[136677192,136677192],[136683293,136683293],[136704414,136704414],[136720344,136720344],[136731066,136731066],[136733897,136733897],[136743490,136743490],[136747085,136747085]],\"ys\":[[550,596],[550,596],[550,596],[550,596],[550,596],[550,596],[550,596],[550,596],[550,596],[550,596],[550,596],[550,596],[550,596],[550,596],[550,596],[550,596],[550,596],[550,596],[550,596],[550,596],[550,596],[550,596],[550,596],[550,596],[550,596],[550,596],[550,596],[550,596],[550,596],[550,596],[550,596],[550,596],[550,596],[550,596],[550,596],[550,596],[550,596],[550,596],[550,596],[550,596],[550,596],[550,596],[550,596],[550,596],[550,596],[550,596],[550,596],[550,596],[550,596],[550,596],[550,596],[550,596],[550,596],[550,596],[550,596],[550,596],[550,596],[550,596],[550,596],[550,596],[550,596],[550,596],[550,596],[550,596],[550,596],[550,596],[550,596],[550,596],[550,596],[550,596],[550,596],[550,596],[550,596],[550,596],[550,596],[550,596],[550,596],[550,596],[550,596],[550,596],[550,596],[550,596],[550,596],[550,596],[550,596],[550,596],[550,596],[550,596],[550,596],[550,596],[550,596],[550,596],[550,596],[550,596],[550,596],[550,596],[550,596],[550,596],[550,596],[550,596],[550,596],[550,596],[550,596],[550,596],[550,596],[550,596],[550,596],[550,596],[550,596],[550,596],[550,596],[550,596],[550,596],[550,596],[550,596],[550,596],[550,596],[50,68],[50,68],[50,68],[50,68],[50,68],[50,68],[250,288],[250,288],[250,288],[250,288],[250,288],[250,288],[250,288],[250,288],[150,186],[150,186],[150,186],[150,186],[150,186],[150,186],[150,186],[150,186],[150,186],[150,184],[150,184],[150,184],[150,184],[150,184],[150,184],[150,184],[150,184],[150,184],[150,184],[150,184],[150,184],[150,184],[150,184],[150,184],[150,184],[150,184],[150,184],[150,184],[150,184],[150,184],[150,184],[150,184],[150,184],[150,184],[150,184],[150,184],[150,184],[350,390],[350,390],[350,390],[350,390],[350,390],[350,390],[350,390],[350,390],[350,390],[250,287],[250,287],[250,287],[250,287],[250,287],[250,287],[250,287],[250,287],[250,287],[550,593],[550,593],[550,593],[550,593],[550,593],[550,593],[550,593],[550,593],[550,593],[450,491],[450,491],[450,491],[450,491],[450,491],[450,491],[450,491],[450,491],[450,491],[50,56],[50,56],[50,56],[50,56],[350,391],[350,391],[350,391],[350,391],[350,391],[250,290],[250,290],[250,290],[250,290],[250,290],[250,290],[450,491],[450,491],[450,491],[450,491],[450,491],[450,491],[450,491],[450,491],[450,491],[450,491],[450,491],[450,491],[450,491],[450,491],[450,491],[450,491],[450,491],[450,491],[450,491],[450,491],[450,491],[450,491],[450,491],[450,491],[450,491],[450,491],[450,491],[450,491],[450,491],[450,491],[450,491],[450,491],[450,491],[450,491],[450,491],[450,491],[450,491],[450,491],[450,491]]}},\"id\":\"7535c82a-893d-4093-9884-5d79ef97ce85\",\"type\":\"ColumnDataSource\"},{\"attributes\":{},\"id\":\"a7386baf-b3f4-4f3c-9ba9-34baf2880231\",\"type\":\"BasicTicker\"},{\"attributes\":{\"bottom\":{\"field\":\"bottom\"},\"fill_alpha\":{\"value\":0.1},\"fill_color\":{\"value\":\"#1f77b4\"},\"left\":{\"field\":\"left\"},\"line_alpha\":{\"value\":0.1},\"line_color\":{\"value\":\"#1f77b4\"},\"right\":{\"field\":\"right\"},\"top\":{\"field\":\"top\"}},\"id\":\"57b1f560-2cab-4d3a-af27-b21c8b64b533\",\"type\":\"Quad\"},{\"attributes\":{\"bottom\":{\"field\":\"bottom\"},\"fill_color\":{\"value\":\"white\"},\"left\":{\"field\":\"left\"},\"right\":{\"field\":\"right\"},\"top\":{\"field\":\"top\"}},\"id\":\"554e749d-4c06-4f7d-9b87-a8330e629c30\",\"type\":\"Quad\"},{\"attributes\":{\"level\":\"glyph\",\"plot\":{\"id\":\"7632fe68-6032-4871-b84f-87aceb9eee85\",\"subtype\":\"Figure\",\"type\":\"Plot\"},\"source\":{\"id\":\"3b78a2de-3a59-46c0-9e21-d09aa9458632\",\"type\":\"ColumnDataSource\"},\"text\":{\"field\":\"vals\"},\"text_font_size\":{\"value\":\"9pt\"},\"text_font_style\":\"bold\",\"x\":{\"field\":\"x\"},\"y\":{\"field\":\"y\"}},\"id\":\"6d4c8e37-49c5-470f-abb0-05e5b913daf3\",\"type\":\"LabelSet\"},{\"attributes\":{\"plot\":{\"id\":\"7632fe68-6032-4871-b84f-87aceb9eee85\",\"subtype\":\"Figure\",\"type\":\"Plot\"},\"ticker\":{\"id\":\"5d197a7c-d976-4ed7-87f6-be8b4240b7ef\",\"type\":\"BasicTicker\"}},\"id\":\"a1763a84-e0c3-433d-8c8f-fa42e02a37f1\",\"type\":\"Grid\"},{\"attributes\":{\"plot\":{\"id\":\"7632fe68-6032-4871-b84f-87aceb9eee85\",\"subtype\":\"Figure\",\"type\":\"Plot\"}},\"id\":\"cecde161-9d28-462f-a8b1-c40e27b37174\",\"type\":\"ResetTool\"},{\"attributes\":{},\"id\":\"6da40fc3-b698-448a-a95e-7dc18d2f7cd3\",\"type\":\"BasicTickFormatter\"},{\"attributes\":{\"dimension\":1,\"plot\":{\"id\":\"7632fe68-6032-4871-b84f-87aceb9eee85\",\"subtype\":\"Figure\",\"type\":\"Plot\"},\"ticker\":{\"id\":\"a7386baf-b3f4-4f3c-9ba9-34baf2880231\",\"type\":\"BasicTicker\"}},\"id\":\"67cc4efa-793f-48b0-9517-57b7561d4612\",\"type\":\"Grid\"},{\"attributes\":{},\"id\":\"5d197a7c-d976-4ed7-87f6-be8b4240b7ef\",\"type\":\"BasicTicker\"},{\"attributes\":{\"data_source\":{\"id\":\"de2cd01b-e1e5-4a7a-b881-e116c0f66126\",\"type\":\"ColumnDataSource\"},\"glyph\":{\"id\":\"ff9d6cf9-d413-40e4-a152-59e7e8c0292c\",\"type\":\"Quad\"},\"hover_glyph\":null,\"nonselection_glyph\":{\"id\":\"c0050509-7190-44d7-9173-2e1eed6472c8\",\"type\":\"Quad\"},\"selection_glyph\":null},\"id\":\"a5b80fb4-0589-44bb-be1c-30ef869d12bd\",\"type\":\"GlyphRenderer\"},{\"attributes\":{\"plot\":{\"id\":\"7632fe68-6032-4871-b84f-87aceb9eee85\",\"subtype\":\"Figure\",\"type\":\"Plot\"}},\"id\":\"2ddda0e7-ab8c-4b94-93d2-c21e1532a1d6\",\"type\":\"WheelZoomTool\"},{\"attributes\":{},\"id\":\"c24c5ff8-315a-4a49-aa13-0129b06223a9\",\"type\":\"BasicTickFormatter\"},{\"attributes\":{\"plot\":{\"id\":\"7632fe68-6032-4871-b84f-87aceb9eee85\",\"subtype\":\"Figure\",\"type\":\"Plot\"}},\"id\":\"582c9aef-3755-410a-a429-283fad47b329\",\"type\":\"SaveTool\"},{\"attributes\":{\"level\":\"glyph\",\"plot\":{\"id\":\"7632fe68-6032-4871-b84f-87aceb9eee85\",\"subtype\":\"Figure\",\"type\":\"Plot\"},\"source\":{\"id\":\"bd5c35bd-1a4b-44ac-b8d7-323fc71d23d6\",\"type\":\"ColumnDataSource\"},\"text\":{\"field\":\"vals\"},\"text_align\":\"center\",\"text_baseline\":\"middle\",\"text_font_size\":{\"value\":\"8pt\"},\"x\":{\"field\":\"x\"},\"y\":{\"field\":\"y\"}},\"id\":\"962d0510-3647-467f-b7da-8d56d5f527af\",\"type\":\"LabelSet\"},{\"attributes\":{\"below\":[{\"id\":\"35ef5e17-946f-40d5-84ac-182bbd6e8711\",\"type\":\"LinearAxis\"}],\"left\":[{\"id\":\"4fb2c104-70d1-46d3-8f95-33e5c7f707b9\",\"type\":\"LinearAxis\"}],\"plot_height\":700,\"plot_width\":900,\"renderers\":[{\"id\":\"35ef5e17-946f-40d5-84ac-182bbd6e8711\",\"type\":\"LinearAxis\"},{\"id\":\"a1763a84-e0c3-433d-8c8f-fa42e02a37f1\",\"type\":\"Grid\"},{\"id\":\"4fb2c104-70d1-46d3-8f95-33e5c7f707b9\",\"type\":\"LinearAxis\"},{\"id\":\"67cc4efa-793f-48b0-9517-57b7561d4612\",\"type\":\"Grid\"},{\"id\":\"deccbb62-105c-4c76-af94-c6b9b41a053d\",\"type\":\"BoxAnnotation\"},{\"id\":\"a5b80fb4-0589-44bb-be1c-30ef869d12bd\",\"type\":\"GlyphRenderer\"},{\"id\":\"07354eed-e5af-41b0-9e9c-365b0fa04cc6\",\"type\":\"GlyphRenderer\"},{\"id\":\"6d4c8e37-49c5-470f-abb0-05e5b913daf3\",\"type\":\"LabelSet\"},{\"id\":\"db558323-a4d4-4423-b582-494d4aeef48e\",\"type\":\"GlyphRenderer\"},{\"id\":\"962d0510-3647-467f-b7da-8d56d5f527af\",\"type\":\"LabelSet\"}],\"title\":{\"id\":\"048ea2b9-9bed-47e5-9608-eefccddc4d62\",\"type\":\"Title\"},\"tool_events\":{\"id\":\"abe93a6e-473b-4f81-a74f-7a016bc268e4\",\"type\":\"ToolEvents\"},\"toolbar\":{\"id\":\"89224144-f5ae-4c1a-a688-32229e36beab\",\"type\":\"Toolbar\"},\"toolbar_location\":null,\"x_range\":{\"id\":\"43a60643-0c46-44c6-8fa3-d8a1ca4370d4\",\"type\":\"Range1d\"},\"y_range\":{\"id\":\"a19876e2-e6ae-4c06-bd6c-4b9043ff22ff\",\"type\":\"Range1d\"}},\"id\":\"7632fe68-6032-4871-b84f-87aceb9eee85\",\"subtype\":\"Figure\",\"type\":\"Plot\"},{\"attributes\":{\"data_source\":{\"id\":\"7535c82a-893d-4093-9884-5d79ef97ce85\",\"type\":\"ColumnDataSource\"},\"glyph\":{\"id\":\"a6b43811-cade-4ff8-8702-1fd8b9eff529\",\"type\":\"MultiLine\"},\"hover_glyph\":null,\"nonselection_glyph\":{\"id\":\"c9807f06-6a57-4590-8d0d-c2ee21ff028f\",\"type\":\"MultiLine\"},\"selection_glyph\":null},\"id\":\"07354eed-e5af-41b0-9e9c-365b0fa04cc6\",\"type\":\"GlyphRenderer\"}],\"root_ids\":[\"7632fe68-6032-4871-b84f-87aceb9eee85\"]},\"title\":\"Bokeh Application\",\"version\":\"0.12.0\"}};\n",
       "            var render_items = [{\"docid\":\"954f0382-de25-452a-8f51-5dc7193549c8\",\"elementid\":\"8e0ae60f-cc60-4b0d-ad09-5178605ddb1c\",\"modelid\":\"7632fe68-6032-4871-b84f-87aceb9eee85\",\"notebook_comms_target\":\"19e17dcc-388e-4198-a0d3-8455b1a3c229\"}];\n",
       "            \n",
       "            Bokeh.embed.embed_items(docs_json, render_items);\n",
       "        });\n",
       "      },\n",
       "      function(Bokeh) {\n",
       "      }\n",
       "    ];\n",
       "  \n",
       "    function run_inline_js() {\n",
       "      for (var i = 0; i < inline_js.length; i++) {\n",
       "        inline_js[i](window.Bokeh);\n",
       "      }\n",
       "    }\n",
       "  \n",
       "    if (window._bokeh_is_loading === 0) {\n",
       "      console.log(\"Bokeh: BokehJS loaded, going straight to plotting\");\n",
       "      run_inline_js();\n",
       "    } else {\n",
       "      load_libs(js_urls, function() {\n",
       "        console.log(\"Bokeh: BokehJS plotting callback run at\", now());\n",
       "        run_inline_js();\n",
       "      });\n",
       "    }\n",
       "  }(this));\n",
       "</script>"
      ]
     },
     "metadata": {},
     "output_type": "display_data"
    },
    {
     "data": {
      "text/html": [
       "<p><code>&lt;Bokeh Notebook handle for <strong>In[6]</strong>&gt;</code></p>"
      ],
      "text/plain": [
       "<bokeh.io._CommsHandle at 0x7fea80e01250>"
      ]
     },
     "execution_count": 6,
     "metadata": {},
     "output_type": "execute_result"
    }
   ],
   "source": [
    "plt_obj = dm.superset_yes_no([dm.di_6_68], [dm.di_49_136, dm.di_123_1561], min_match=0.5)\n",
    "plt = plt_obj.do_plot()\n",
    "am_not_49_136_123_1561 = plt_obj.plot_context.yes_allele_mask\n",
    "show(plt)"
   ]
  },
  {
   "cell_type": "code",
   "execution_count": 7,
   "metadata": {
    "collapsed": false
   },
   "outputs": [
    {
     "data": {
      "text/html": [
       "<table>\n",
       "<thead><tr><th style=\"text-align:center\">index</th><th style=\"text-align:center\">first</th><th style=\"text-align:center\">length</th><th style=\"text-align:center\">snps</th><th style=\"text-align:center\" colspan=2>alleles</th><th style=\"text-align:center\" colspan=2>matches</th><th style=\"text-align:center\" colspan=2>afr</th><th style=\"text-align:center\" colspan=2>afx</th><th style=\"text-align:center\" colspan=2>amr</th><th style=\"text-align:center\" colspan=2>eas</th><th style=\"text-align:center\" colspan=2>eur</th><th style=\"text-align:center\" colspan=2>sas</th><th style=\"text-align:center\" colspan=2>sax</th></tr></thead>\n",
       "<tr class=\"even\"><td style=\"text-align: right;\">353244</td><td style=\"text-align: right;\">135,758,231</td><td style=\"text-align: right;\">618,284</td><td style=\"text-align: right;\">117</td><td style=\"text-align: right;\">1685</td><td style=\"text-align: right;\">0.00</td><td style=\"text-align: right;\">6</td><td style=\"text-align: right;\">1.00</td><td style=\"text-align: right;\">6</td><td style=\"text-align: right;\">8.95</td><td style=\"text-align: right;\">0</td><td style=\"text-align: right;\">0.00</td><td style=\"text-align: right;\">0</td><td style=\"text-align: right;\">0.00</td><td style=\"text-align: right;\">0</td><td style=\"text-align: right;\">0.00</td><td style=\"text-align: right;\">0</td><td style=\"text-align: right;\">0.00</td><td style=\"text-align: right;\">0</td><td style=\"text-align: right;\">0.00</td><td style=\"text-align: right;\">0</td><td style=\"text-align: right;\">0.00</td></tr>\n",
       "<tr><td style=\"text-align: right;\">353906</td><td style=\"text-align: right;\">136,496,493</td><td style=\"text-align: right;\">57,432</td><td style=\"text-align: right;\">9</td><td style=\"text-align: right;\">1170</td><td style=\"text-align: right;\">0.01</td><td style=\"text-align: right;\">6</td><td style=\"text-align: right;\">1.00</td><td style=\"text-align: right;\">6</td><td style=\"text-align: right;\">8.95</td><td style=\"text-align: right;\">0</td><td style=\"text-align: right;\">0.00</td><td style=\"text-align: right;\">0</td><td style=\"text-align: right;\">0.00</td><td style=\"text-align: right;\">0</td><td style=\"text-align: right;\">0.00</td><td style=\"text-align: right;\">0</td><td style=\"text-align: right;\">0.00</td><td style=\"text-align: right;\">0</td><td style=\"text-align: right;\">0.00</td><td style=\"text-align: right;\">0</td><td style=\"text-align: right;\">0.00</td></tr>\n",
       "<tr class=\"even\"><td style=\"text-align: right;\">353907</td><td style=\"text-align: right;\">136,496,805</td><td style=\"text-align: right;\">55,824</td><td style=\"text-align: right;\">9</td><td style=\"text-align: right;\">1023</td><td style=\"text-align: right;\">0.01</td><td style=\"text-align: right;\">6</td><td style=\"text-align: right;\">1.00</td><td style=\"text-align: right;\">6</td><td style=\"text-align: right;\">8.95</td><td style=\"text-align: right;\">0</td><td style=\"text-align: right;\">0.00</td><td style=\"text-align: right;\">0</td><td style=\"text-align: right;\">0.00</td><td style=\"text-align: right;\">0</td><td style=\"text-align: right;\">0.00</td><td style=\"text-align: right;\">0</td><td style=\"text-align: right;\">0.00</td><td style=\"text-align: right;\">0</td><td style=\"text-align: right;\">0.00</td><td style=\"text-align: right;\">0</td><td style=\"text-align: right;\">0.00</td></tr>\n",
       "<tr><td style=\"text-align: right;\">353984</td><td style=\"text-align: right;\">136,556,805</td><td style=\"text-align: right;\">190,280</td><td style=\"text-align: right;\">39</td><td style=\"text-align: right;\">1014</td><td style=\"text-align: right;\">0.00</td><td style=\"text-align: right;\">4</td><td style=\"text-align: right;\">0.67</td><td style=\"text-align: right;\">4</td><td style=\"text-align: right;\">8.95</td><td style=\"text-align: right;\">0</td><td style=\"text-align: right;\">0.00</td><td style=\"text-align: right;\">0</td><td style=\"text-align: right;\">0.00</td><td style=\"text-align: right;\">0</td><td style=\"text-align: right;\">0.00</td><td style=\"text-align: right;\">0</td><td style=\"text-align: right;\">0.00</td><td style=\"text-align: right;\">0</td><td style=\"text-align: right;\">0.00</td><td style=\"text-align: right;\">0</td><td style=\"text-align: right;\">0.00</td></tr>\n",
       "<tr class=\"even\"><td style=\"text-align: right;\">353935</td><td style=\"text-align: right;\">136,511,874</td><td style=\"text-align: right;\">21,321</td><td style=\"text-align: right;\">5</td><td style=\"text-align: right;\">976</td><td style=\"text-align: right;\">0.01</td><td style=\"text-align: right;\">6</td><td style=\"text-align: right;\">1.00</td><td style=\"text-align: right;\">6</td><td style=\"text-align: right;\">8.95</td><td style=\"text-align: right;\">0</td><td style=\"text-align: right;\">0.00</td><td style=\"text-align: right;\">0</td><td style=\"text-align: right;\">0.00</td><td style=\"text-align: right;\">0</td><td style=\"text-align: right;\">0.00</td><td style=\"text-align: right;\">0</td><td style=\"text-align: right;\">0.00</td><td style=\"text-align: right;\">0</td><td style=\"text-align: right;\">0.00</td><td style=\"text-align: right;\">0</td><td style=\"text-align: right;\">0.00</td></tr>\n",
       "<tr><td style=\"text-align: right;\">353729</td><td style=\"text-align: right;\">136,309,239</td><td style=\"text-align: right;\">52,321</td><td style=\"text-align: right;\">9</td><td style=\"text-align: right;\">887</td><td style=\"text-align: right;\">0.01</td><td style=\"text-align: right;\">6</td><td style=\"text-align: right;\">1.00</td><td style=\"text-align: right;\">6</td><td style=\"text-align: right;\">8.95</td><td style=\"text-align: right;\">0</td><td style=\"text-align: right;\">0.00</td><td style=\"text-align: right;\">0</td><td style=\"text-align: right;\">0.00</td><td style=\"text-align: right;\">0</td><td style=\"text-align: right;\">0.00</td><td style=\"text-align: right;\">0</td><td style=\"text-align: right;\">0.00</td><td style=\"text-align: right;\">0</td><td style=\"text-align: right;\">0.00</td><td style=\"text-align: right;\">0</td><td style=\"text-align: right;\">0.00</td></tr>\n",
       "<tr class=\"even\"><td style=\"text-align: right;\">353938</td><td style=\"text-align: right;\">136,514,709</td><td style=\"text-align: right;\">28,438</td><td style=\"text-align: right;\">6</td><td style=\"text-align: right;\">820</td><td style=\"text-align: right;\">0.01</td><td style=\"text-align: right;\">6</td><td style=\"text-align: right;\">1.00</td><td style=\"text-align: right;\">6</td><td style=\"text-align: right;\">8.95</td><td style=\"text-align: right;\">0</td><td style=\"text-align: right;\">0.00</td><td style=\"text-align: right;\">0</td><td style=\"text-align: right;\">0.00</td><td style=\"text-align: right;\">0</td><td style=\"text-align: right;\">0.00</td><td style=\"text-align: right;\">0</td><td style=\"text-align: right;\">0.00</td><td style=\"text-align: right;\">0</td><td style=\"text-align: right;\">0.00</td><td style=\"text-align: right;\">0</td><td style=\"text-align: right;\">0.00</td></tr>\n",
       "<tr><td style=\"text-align: right;\">353312</td><td style=\"text-align: right;\">135,784,351</td><td style=\"text-align: right;\">117,869</td><td style=\"text-align: right;\">8</td><td style=\"text-align: right;\">718</td><td style=\"text-align: right;\">0.01</td><td style=\"text-align: right;\">6</td><td style=\"text-align: right;\">1.00</td><td style=\"text-align: right;\">6</td><td style=\"text-align: right;\">8.95</td><td style=\"text-align: right;\">0</td><td style=\"text-align: right;\">0.00</td><td style=\"text-align: right;\">0</td><td style=\"text-align: right;\">0.00</td><td style=\"text-align: right;\">0</td><td style=\"text-align: right;\">0.00</td><td style=\"text-align: right;\">0</td><td style=\"text-align: right;\">0.00</td><td style=\"text-align: right;\">0</td><td style=\"text-align: right;\">0.00</td><td style=\"text-align: right;\">0</td><td style=\"text-align: right;\">0.00</td></tr>\n",
       "<tr class=\"even\"><td style=\"text-align: right;\">353851</td><td style=\"text-align: right;\">136,448,855</td><td style=\"text-align: right;\">17,976</td><td style=\"text-align: right;\">4</td><td style=\"text-align: right;\">612</td><td style=\"text-align: right;\">0.01</td><td style=\"text-align: right;\">6</td><td style=\"text-align: right;\">1.00</td><td style=\"text-align: right;\">6</td><td style=\"text-align: right;\">8.95</td><td style=\"text-align: right;\">0</td><td style=\"text-align: right;\">0.00</td><td style=\"text-align: right;\">0</td><td style=\"text-align: right;\">0.00</td><td style=\"text-align: right;\">0</td><td style=\"text-align: right;\">0.00</td><td style=\"text-align: right;\">0</td><td style=\"text-align: right;\">0.00</td><td style=\"text-align: right;\">0</td><td style=\"text-align: right;\">0.00</td><td style=\"text-align: right;\">0</td><td style=\"text-align: right;\">0.00</td></tr>\n",
       "<tr><td style=\"text-align: right;\">353764</td><td style=\"text-align: right;\">136,364,916</td><td style=\"text-align: right;\">22,977</td><td style=\"text-align: right;\">5</td><td style=\"text-align: right;\">588</td><td style=\"text-align: right;\">0.01</td><td style=\"text-align: right;\">6</td><td style=\"text-align: right;\">1.00</td><td style=\"text-align: right;\">6</td><td style=\"text-align: right;\">8.95</td><td style=\"text-align: right;\">0</td><td style=\"text-align: right;\">0.00</td><td style=\"text-align: right;\">0</td><td style=\"text-align: right;\">0.00</td><td style=\"text-align: right;\">0</td><td style=\"text-align: right;\">0.00</td><td style=\"text-align: right;\">0</td><td style=\"text-align: right;\">0.00</td><td style=\"text-align: right;\">0</td><td style=\"text-align: right;\">0.00</td><td style=\"text-align: right;\">0</td><td style=\"text-align: right;\">0.00</td></tr>\n",
       "<tr class=\"even\"><td style=\"text-align: right;\">353349</td><td style=\"text-align: right;\">135,810,535</td><td style=\"text-align: right;\">87,488</td><td style=\"text-align: right;\">9</td><td style=\"text-align: right;\">545</td><td style=\"text-align: right;\">0.01</td><td style=\"text-align: right;\">6</td><td style=\"text-align: right;\">1.00</td><td style=\"text-align: right;\">6</td><td style=\"text-align: right;\">8.95</td><td style=\"text-align: right;\">0</td><td style=\"text-align: right;\">0.00</td><td style=\"text-align: right;\">0</td><td style=\"text-align: right;\">0.00</td><td style=\"text-align: right;\">0</td><td style=\"text-align: right;\">0.00</td><td style=\"text-align: right;\">0</td><td style=\"text-align: right;\">0.00</td><td style=\"text-align: right;\">0</td><td style=\"text-align: right;\">0.00</td><td style=\"text-align: right;\">0</td><td style=\"text-align: right;\">0.00</td></tr>\n",
       "<tr><td style=\"text-align: right;\">353614</td><td style=\"text-align: right;\">136,115,507</td><td style=\"text-align: right;\">269,773</td><td style=\"text-align: right;\">28</td><td style=\"text-align: right;\">434</td><td style=\"text-align: right;\">0.01</td><td style=\"text-align: right;\">6</td><td style=\"text-align: right;\">1.00</td><td style=\"text-align: right;\">6</td><td style=\"text-align: right;\">8.95</td><td style=\"text-align: right;\">0</td><td style=\"text-align: right;\">0.00</td><td style=\"text-align: right;\">0</td><td style=\"text-align: right;\">0.00</td><td style=\"text-align: right;\">0</td><td style=\"text-align: right;\">0.00</td><td style=\"text-align: right;\">0</td><td style=\"text-align: right;\">0.00</td><td style=\"text-align: right;\">0</td><td style=\"text-align: right;\">0.00</td><td style=\"text-align: right;\">0</td><td style=\"text-align: right;\">0.00</td></tr>\n",
       "<tr class=\"even\"><td style=\"text-align: right;\">353247</td><td style=\"text-align: right;\">135,758,713</td><td style=\"text-align: right;\">19,520</td><td style=\"text-align: right;\">6</td><td style=\"text-align: right;\">68</td><td style=\"text-align: right;\">0.09</td><td style=\"text-align: right;\">6</td><td style=\"text-align: right;\">1.00</td><td style=\"text-align: right;\">6</td><td style=\"text-align: right;\">8.95</td><td style=\"text-align: right;\">0</td><td style=\"text-align: right;\">0.00</td><td style=\"text-align: right;\">0</td><td style=\"text-align: right;\">0.00</td><td style=\"text-align: right;\">0</td><td style=\"text-align: right;\">0.00</td><td style=\"text-align: right;\">0</td><td style=\"text-align: right;\">0.00</td><td style=\"text-align: right;\">0</td><td style=\"text-align: right;\">0.00</td><td style=\"text-align: right;\">0</td><td style=\"text-align: right;\">0.00</td></tr>\n",
       "<tr><td style=\"text-align: right;\">353922</td><td style=\"text-align: right;\">136,504,541</td><td style=\"text-align: right;\">23,683</td><td style=\"text-align: right;\">4</td><td style=\"text-align: right;\">17</td><td style=\"text-align: right;\">0.24</td><td style=\"text-align: right;\">4</td><td style=\"text-align: right;\">0.67</td><td style=\"text-align: right;\">4</td><td style=\"text-align: right;\">8.95</td><td style=\"text-align: right;\">0</td><td style=\"text-align: right;\">0.00</td><td style=\"text-align: right;\">0</td><td style=\"text-align: right;\">0.00</td><td style=\"text-align: right;\">0</td><td style=\"text-align: right;\">0.00</td><td style=\"text-align: right;\">0</td><td style=\"text-align: right;\">0.00</td><td style=\"text-align: right;\">0</td><td style=\"text-align: right;\">0.00</td><td style=\"text-align: right;\">0</td><td style=\"text-align: right;\">0.00</td></tr>\n",
       "</table>"
      ],
      "text/plain": [
       "<IPython.core.display.HTML object>"
      ]
     },
     "execution_count": 7,
     "metadata": {},
     "output_type": "execute_result"
    }
   ],
   "source": [
    "HTML(plt_obj.get_html())"
   ]
  },
  {
   "cell_type": "code",
   "execution_count": 8,
   "metadata": {
    "collapsed": false
   },
   "outputs": [
    {
     "data": {
      "text/plain": [
       "array([(5, 6)], \n",
       "      dtype=[('count', '<u2'), ('snps', '<u2')])"
      ]
     },
     "execution_count": 8,
     "metadata": {},
     "output_type": "execute_result"
    }
   ],
   "source": [
    "count_data = sa_6_68.unique_snps_per_allele(am_not_49_136_123_1561)\n",
    "count_data"
   ]
  },
  {
   "cell_type": "code",
   "execution_count": 9,
   "metadata": {
    "collapsed": false
   },
   "outputs": [
    {
     "data": {
      "text/plain": [
       "array([6, 0, 6, 6, 6, 6])"
      ]
     },
     "execution_count": 9,
     "metadata": {},
     "output_type": "execute_result"
    }
   ],
   "source": [
    "sa_6_68.alleles_per_snp(am_not_49_136_123_1561)"
   ]
  },
  {
   "cell_type": "code",
   "execution_count": 10,
   "metadata": {
    "collapsed": false
   },
   "outputs": [
    {
     "data": {
      "text/plain": [
       "array([(40, 4), (41, 2)], \n",
       "      dtype=[('count', '<u2'), ('snps', '<u2')])"
      ]
     },
     "execution_count": 10,
     "metadata": {},
     "output_type": "execute_result"
    }
   ],
   "source": [
    "count_data = sa_49_136.unique_snps_per_allele(am_not_49_136_123_1561)\n",
    "count_data"
   ]
  },
  {
   "cell_type": "code",
   "execution_count": 11,
   "metadata": {
    "collapsed": false
   },
   "outputs": [
    {
     "data": {
      "text/plain": [
       "array([6, 0, 6, 6, 6, 6, 6, 6, 6, 6, 6, 2, 6, 0, 0, 6, 6, 6, 6, 6, 6, 6, 6,\n",
       "       6, 6, 0, 6, 6, 0, 6, 6, 6, 6, 6, 6, 6, 0, 0, 6, 6, 6, 6, 6, 0, 6, 6,\n",
       "       6, 6, 6])"
      ]
     },
     "execution_count": 11,
     "metadata": {},
     "output_type": "execute_result"
    }
   ],
   "source": [
    "sa_49_136.alleles_per_snp(am_not_49_136_123_1561)"
   ]
  },
  {
   "cell_type": "code",
   "execution_count": 12,
   "metadata": {
    "collapsed": false
   },
   "outputs": [
    {
     "data": {
      "text/html": [
       "\n",
       "\n",
       "    <div class=\"bk-root\">\n",
       "        <div class=\"plotdiv\" id=\"76492e51-3c38-46fc-9bb1-fff085a31e74\"></div>\n",
       "    </div>\n",
       "<script type=\"text/javascript\">\n",
       "  \n",
       "  (function(global) {\n",
       "    function now() {\n",
       "      return new Date();\n",
       "    }\n",
       "  \n",
       "    if (typeof (window._bokeh_onload_callbacks) === \"undefined\") {\n",
       "      window._bokeh_onload_callbacks = [];\n",
       "    }\n",
       "  \n",
       "    function run_callbacks() {\n",
       "      window._bokeh_onload_callbacks.forEach(function(callback) { callback() });\n",
       "      delete window._bokeh_onload_callbacks\n",
       "      console.info(\"Bokeh: all callbacks have finished\");\n",
       "    }\n",
       "  \n",
       "    function load_libs(js_urls, callback) {\n",
       "      window._bokeh_onload_callbacks.push(callback);\n",
       "      if (window._bokeh_is_loading > 0) {\n",
       "        console.log(\"Bokeh: BokehJS is being loaded, scheduling callback at\", now());\n",
       "        return null;\n",
       "      }\n",
       "      if (js_urls == null || js_urls.length === 0) {\n",
       "        run_callbacks();\n",
       "        return null;\n",
       "      }\n",
       "      console.log(\"Bokeh: BokehJS not loaded, scheduling load and callback at\", now());\n",
       "      window._bokeh_is_loading = js_urls.length;\n",
       "      for (var i = 0; i < js_urls.length; i++) {\n",
       "        var url = js_urls[i];\n",
       "        var s = document.createElement('script');\n",
       "        s.src = url;\n",
       "        s.async = false;\n",
       "        s.onreadystatechange = s.onload = function() {\n",
       "          window._bokeh_is_loading--;\n",
       "          if (window._bokeh_is_loading === 0) {\n",
       "            console.log(\"Bokeh: all BokehJS libraries loaded\");\n",
       "            run_callbacks()\n",
       "          }\n",
       "        };\n",
       "        s.onerror = function() {\n",
       "          console.warn(\"failed to load library \" + url);\n",
       "        };\n",
       "        console.log(\"Bokeh: injecting script tag for BokehJS library: \", url);\n",
       "        document.getElementsByTagName(\"head\")[0].appendChild(s);\n",
       "      }\n",
       "    };var element = document.getElementById(\"76492e51-3c38-46fc-9bb1-fff085a31e74\");\n",
       "    if (element == null) {\n",
       "      console.log(\"Bokeh: ERROR: autoload.js configured with elementid '76492e51-3c38-46fc-9bb1-fff085a31e74' but no matching script tag was found. \")\n",
       "      return false;\n",
       "    }\n",
       "  \n",
       "    var js_urls = [];\n",
       "  \n",
       "    var inline_js = [\n",
       "      function(Bokeh) {\n",
       "        Bokeh.$(function() {\n",
       "            var docs_json = {\"727ed682-3000-46a2-a6cf-1ee89c22d6cd\":{\"roots\":{\"references\":[{\"attributes\":{\"level\":\"glyph\",\"plot\":{\"id\":\"4fce8f1a-5c95-4ffd-a37c-6ff6bf1fdf54\",\"subtype\":\"Figure\",\"type\":\"Plot\"},\"source\":{\"id\":\"04679d31-cb85-4dee-9d17-4825a122db53\",\"type\":\"ColumnDataSource\"},\"text\":{\"field\":\"vals\"},\"text_font_size\":{\"value\":\"9pt\"},\"text_font_style\":\"bold\",\"x\":{\"field\":\"x\"},\"y\":{\"field\":\"y\"}},\"id\":\"e99473aa-a481-4a1e-9da6-51fb4700cf44\",\"type\":\"LabelSet\"},{\"attributes\":{\"dimension\":1,\"plot\":{\"id\":\"4fce8f1a-5c95-4ffd-a37c-6ff6bf1fdf54\",\"subtype\":\"Figure\",\"type\":\"Plot\"},\"ticker\":{\"id\":\"6f0c7621-38b9-4762-887e-1dfcf065fe25\",\"type\":\"BasicTicker\"}},\"id\":\"e026d46f-3711-4b20-a427-5043a99347da\",\"type\":\"Grid\"},{\"attributes\":{\"callback\":null,\"column_names\":[\"y\",\"x\",\"vals\"],\"data\":{\"vals\":[\"RAB3GAP1\",\"ZRANB3\",\"R3HDM1\",\"UBXN4\",\"LCT\",\"MCM6\",\"DARS\"],\"x\":[135869057.0,136122878.0,136385961.0,136520911.0,136570082.5,136615621.5,136703738.0],\"y\":[960.0,960.0,960.0,960.0,960.0,960.0,960.0]}},\"id\":\"49dab416-8cbe-4359-8a30-31bf5280163c\",\"type\":\"ColumnDataSource\"},{\"attributes\":{},\"id\":\"0e367101-eecf-4c06-b4ec-a64792d6f0b5\",\"type\":\"BasicTickFormatter\"},{\"attributes\":{\"overlay\":{\"id\":\"5875f2d3-fa1c-4813-b6bd-92ebc54936f1\",\"type\":\"BoxAnnotation\"},\"plot\":{\"id\":\"4fce8f1a-5c95-4ffd-a37c-6ff6bf1fdf54\",\"subtype\":\"Figure\",\"type\":\"Plot\"}},\"id\":\"6d281795-8f3f-4762-84a4-1efa36f98d3f\",\"type\":\"BoxZoomTool\"},{\"attributes\":{},\"id\":\"e444238b-44be-4518-8440-16ac48ae3092\",\"type\":\"BasicTicker\"},{\"attributes\":{\"callback\":null,\"column_names\":[\"right\",\"bottom\",\"top\",\"left\"],\"data\":{\"bottom\":[945,945,945,945,945,945,945],\"left\":[135809835,135957574,136289083,136499189,136545415,136597196,136664254],\"right\":[135928279,136288182,136482839,136542633,136594750,136634047,136743222],\"top\":[975,975,975,975,975,975,975]}},\"id\":\"e58994d3-6887-49cb-bc11-e13925f319da\",\"type\":\"ColumnDataSource\"},{\"attributes\":{\"level\":\"glyph\",\"plot\":{\"id\":\"4fce8f1a-5c95-4ffd-a37c-6ff6bf1fdf54\",\"subtype\":\"Figure\",\"type\":\"Plot\"},\"source\":{\"id\":\"49dab416-8cbe-4359-8a30-31bf5280163c\",\"type\":\"ColumnDataSource\"},\"text\":{\"field\":\"vals\"},\"text_align\":\"center\",\"text_baseline\":\"middle\",\"text_font_size\":{\"value\":\"8pt\"},\"x\":{\"field\":\"x\"},\"y\":{\"field\":\"y\"}},\"id\":\"d319145b-c498-4e41-980f-2e763c72a5eb\",\"type\":\"LabelSet\"},{\"attributes\":{\"callback\":null,\"end\":136786630,\"start\":135757320},\"id\":\"276e61a5-f09b-4a4d-9a25-cdfc3e9b4a1a\",\"type\":\"Range1d\"},{\"attributes\":{\"formatter\":{\"id\":\"0e367101-eecf-4c06-b4ec-a64792d6f0b5\",\"type\":\"BasicTickFormatter\"},\"plot\":{\"id\":\"4fce8f1a-5c95-4ffd-a37c-6ff6bf1fdf54\",\"subtype\":\"Figure\",\"type\":\"Plot\"},\"ticker\":{\"id\":\"e444238b-44be-4518-8440-16ac48ae3092\",\"type\":\"BasicTicker\"}},\"id\":\"249f26fa-bea6-4fe7-acf9-371e21ac2281\",\"type\":\"LinearAxis\"},{\"attributes\":{\"bottom_units\":\"screen\",\"fill_alpha\":{\"value\":0.5},\"fill_color\":{\"value\":\"lightgrey\"},\"left_units\":\"screen\",\"level\":\"overlay\",\"line_alpha\":{\"value\":1.0},\"line_color\":{\"value\":\"black\"},\"line_dash\":[4,4],\"line_width\":{\"value\":2},\"plot\":null,\"render_mode\":\"css\",\"right_units\":\"screen\",\"top_units\":\"screen\"},\"id\":\"5875f2d3-fa1c-4813-b6bd-92ebc54936f1\",\"type\":\"BoxAnnotation\"},{\"attributes\":{\"bottom\":{\"field\":\"bottom\"},\"fill_color\":{\"field\":\"fill_color\"},\"left\":{\"field\":\"left\"},\"line_color\":{\"value\":null},\"right\":{\"field\":\"right\"},\"top\":{\"field\":\"top\"}},\"id\":\"88849fc8-2426-4a0e-a601-922d7e8f612f\",\"type\":\"Quad\"},{\"attributes\":{\"data_source\":{\"id\":\"bff18c03-3304-46e2-8ce1-27251c15356e\",\"type\":\"ColumnDataSource\"},\"glyph\":{\"id\":\"88849fc8-2426-4a0e-a601-922d7e8f612f\",\"type\":\"Quad\"},\"hover_glyph\":null,\"nonselection_glyph\":{\"id\":\"28954ec2-a362-4a41-a5c6-a390a859e7b4\",\"type\":\"Quad\"},\"selection_glyph\":null},\"id\":\"e083a97c-3a03-4a16-872b-fe5ed2e86ca0\",\"type\":\"GlyphRenderer\"},{\"attributes\":{\"callback\":null,\"column_names\":[\"right\",\"bottom\",\"top\",\"left\",\"fill_color\"],\"data\":{\"bottom\":[850,50,250,650,150,550,350,450,50,750,550,450,750,550,650,150,550,150,850,350,150,850],\"fill_color\":[\"#808080\",\"#ff0000\",\"#ff0000\",\"#808080\",\"#c46161\",\"#ff0000\",\"#ff0000\",\"#ff0000\",\"#ff0000\",\"#c46161\",\"#ff0000\",\"#ff0000\",\"#808080\",\"#ff0000\",\"#808080\",\"#ff0000\",\"#808080\",\"#ff0000\",\"#c46161\",\"#c46161\",\"#ff0000\",\"#61c461\"],\"left\":[135758231,135758713,135764184,135766890,135771350,135784351,135795222,135810535,135816295,135933921,136309239,136402778,136406646,136448855,136496493,136496875,136511874,136562716,136588031,136605402,136651964,136682274],\"right\":[136376515,135778233,136110118,136275985,136340817,135902220,136382700,135898023,135938164,136368563,136361560,136493430,136438078,136466831,136553925,136548206,136533195,136584714,136593678,136624686,136746252,136775898],\"top\":[896,68,280,693,179,588,382,486,72,795,590,482,795,587,693,175,591,173,896,382,176,897]}},\"id\":\"bff18c03-3304-46e2-8ce1-27251c15356e\",\"type\":\"ColumnDataSource\"},{\"attributes\":{\"bottom\":{\"field\":\"bottom\"},\"fill_alpha\":{\"value\":0.1},\"fill_color\":{\"value\":\"#1f77b4\"},\"left\":{\"field\":\"left\"},\"line_alpha\":{\"value\":0.1},\"line_color\":{\"value\":\"#1f77b4\"},\"right\":{\"field\":\"right\"},\"top\":{\"field\":\"top\"}},\"id\":\"335ef01f-eeae-4e8d-9b90-4f3f36f65229\",\"type\":\"Quad\"},{\"attributes\":{},\"id\":\"bd255272-6d49-46e6-93a4-4ecead8968e9\",\"type\":\"ToolEvents\"},{\"attributes\":{\"plot\":null,\"text\":null},\"id\":\"7658624e-a2d4-42d8-83f4-e97de5a70946\",\"type\":\"Title\"},{\"attributes\":{\"plot\":{\"id\":\"4fce8f1a-5c95-4ffd-a37c-6ff6bf1fdf54\",\"subtype\":\"Figure\",\"type\":\"Plot\"}},\"id\":\"fbbc2708-c9fe-4986-ab78-381a2815640e\",\"type\":\"WheelZoomTool\"},{\"attributes\":{},\"id\":\"6f0c7621-38b9-4762-887e-1dfcf065fe25\",\"type\":\"BasicTicker\"},{\"attributes\":{\"callback\":null,\"column_names\":[\"xs\",\"ys\",\"line_color\"],\"data\":{\"line_color\":[\"black\",\"black\",\"black\",\"black\",\"black\",\"black\",\"black\",\"black\",\"black\",\"black\",\"black\",\"black\",\"black\",\"black\",\"black\",\"black\",\"black\",\"black\",\"black\",\"black\",\"black\",\"black\",\"black\",\"black\",\"black\",\"black\",\"black\",\"black\",\"black\",\"black\",\"black\",\"black\",\"black\",\"black\",\"black\",\"black\",\"black\",\"black\",\"black\",\"black\",\"black\",\"black\",\"black\",\"black\",\"black\",\"black\",\"black\",\"black\",\"black\",\"black\",\"black\",\"black\",\"black\",\"black\",\"black\",\"black\",\"black\",\"black\",\"black\",\"black\",\"black\",\"black\",\"black\",\"black\",\"black\",\"black\",\"black\",\"black\",\"black\",\"black\",\"black\",\"black\",\"black\",\"black\",\"black\",\"black\",\"black\",\"black\",\"black\",\"black\",\"black\",\"black\",\"black\",\"black\",\"black\",\"black\",\"black\",\"black\",\"black\",\"black\",\"black\",\"black\",\"black\",\"black\",\"black\",\"black\",\"black\",\"black\",\"black\",\"black\",\"black\",\"black\",\"black\",\"black\",\"black\",\"black\",\"black\",\"black\",\"black\",\"black\",\"black\",\"black\",\"black\",\"black\",\"black\",\"black\",\"black\",\"black\",\"black\",\"black\",\"black\",\"black\",\"black\",\"black\",\"black\",\"black\",\"black\",\"black\",\"black\",\"black\",\"black\",\"black\",\"black\",\"black\",\"black\",\"black\",\"black\",\"black\",\"black\",\"black\",\"black\",\"black\",\"black\",\"black\",\"black\",\"black\",\"black\",\"black\",\"black\",\"black\",\"black\",\"black\",\"black\",\"black\",\"black\",\"black\",\"black\",\"black\",\"black\",\"black\",\"black\",\"black\",\"black\",\"black\",\"black\",\"black\",\"black\",\"black\",\"black\",\"black\",\"black\",\"black\",\"black\",\"black\",\"black\",\"black\",\"black\",\"black\",\"black\",\"black\",\"black\",\"black\",\"black\",\"black\",\"black\",\"black\",\"black\",\"black\",\"black\",\"black\",\"black\",\"black\",\"black\",\"black\",\"black\",\"black\",\"black\",\"black\",\"black\",\"black\",\"black\",\"black\",\"black\",\"black\",\"black\",\"black\",\"black\",\"black\",\"black\",\"black\",\"black\",\"black\",\"black\",\"black\",\"black\",\"black\",\"black\",\"black\",\"black\",\"black\",\"black\",\"black\",\"black\",\"black\",\"black\",\"black\",\"black\",\"black\",\"black\",\"black\",\"black\",\"black\",\"black\",\"black\",\"black\",\"black\",\"black\",\"black\",\"black\",\"black\",\"black\",\"black\",\"black\",\"black\",\"black\",\"black\",\"black\",\"black\",\"black\",\"black\",\"black\",\"black\",\"black\",\"black\",\"black\",\"black\",\"black\",\"black\",\"black\",\"black\",\"black\",\"black\",\"black\",\"black\",\"black\",\"black\",\"black\",\"black\",\"black\",\"black\",\"black\",\"black\",\"black\",\"black\",\"black\",\"black\",\"black\",\"black\",\"black\",\"black\",\"black\",\"black\",\"black\",\"black\",\"black\",\"black\",\"black\",\"black\",\"black\",\"black\",\"black\",\"black\",\"black\",\"black\",\"black\",\"black\",\"black\",\"black\",\"black\",\"black\",\"black\",\"black\",\"black\",\"black\",\"black\",\"black\",\"black\",\"black\",\"black\",\"black\",\"black\",\"black\",\"black\",\"black\",\"black\",\"black\",\"black\",\"black\",\"black\",\"black\",\"black\",\"black\",\"black\",\"black\",\"black\",\"black\",\"black\",\"black\",\"black\",\"black\",\"black\",\"black\",\"black\",\"black\",\"black\",\"black\",\"black\",\"black\",\"black\",\"black\",\"black\",\"black\",\"black\",\"black\",\"black\",\"black\",\"black\",\"black\",\"black\",\"black\",\"black\",\"black\",\"black\",\"black\",\"black\",\"black\",\"black\",\"black\",\"black\",\"black\",\"black\",\"black\",\"black\",\"black\",\"black\",\"black\",\"black\",\"black\",\"black\",\"black\",\"black\",\"black\",\"black\",\"black\",\"black\",\"black\",\"black\",\"black\",\"black\",\"black\",\"black\",\"black\",\"black\",\"black\",\"black\",\"black\",\"black\",\"black\",\"black\",\"black\",\"black\",\"black\",\"black\",\"black\",\"black\",\"black\",\"black\",\"black\",\"black\",\"black\",\"black\",\"black\",\"black\",\"black\",\"black\",\"black\",\"black\",\"black\",\"black\",\"black\",\"black\",\"black\",\"black\",\"black\",\"black\",\"black\",\"black\",\"black\",\"black\",\"black\",\"black\",\"black\",\"black\",\"black\",\"black\",\"black\",\"black\",\"black\",\"black\",\"black\",\"black\",\"black\",\"black\",\"black\",\"black\",\"black\",\"black\",\"black\",\"black\",\"black\",\"black\",\"black\",\"black\",\"black\",\"black\",\"black\",\"black\",\"black\",\"black\",\"black\",\"black\",\"black\",\"black\",\"black\",\"black\",\"black\",\"black\",\"black\",\"black\",\"black\",\"black\",\"black\",\"black\",\"black\",\"black\",\"black\",\"black\",\"black\",\"black\",\"black\",\"black\",\"black\",\"black\",\"black\",\"black\",\"black\",\"black\",\"black\",\"black\",\"black\",\"black\",\"black\",\"black\",\"black\",\"black\",\"black\",\"black\",\"black\",\"black\",\"black\",\"black\",\"black\",\"black\",\"black\",\"black\",\"black\",\"black\",\"black\",\"black\",\"black\",\"black\",\"black\",\"black\",\"black\",\"black\",\"black\",\"black\",\"black\",\"black\",\"black\",\"black\",\"black\",\"black\",\"black\",\"black\",\"black\",\"black\",\"black\",\"black\",\"black\",\"black\",\"black\",\"black\",\"black\",\"black\",\"black\",\"black\",\"black\",\"black\",\"black\",\"black\",\"black\",\"black\",\"black\",\"black\",\"black\",\"black\",\"black\",\"black\",\"black\",\"black\",\"black\",\"black\",\"black\",\"black\",\"black\",\"black\",\"black\",\"black\",\"black\",\"black\",\"black\",\"black\",\"black\",\"black\",\"black\",\"black\",\"black\",\"black\",\"black\",\"black\",\"black\",\"black\",\"black\",\"black\",\"black\",\"black\",\"black\",\"black\",\"black\",\"black\",\"black\",\"black\",\"black\",\"black\",\"black\",\"black\",\"black\",\"black\",\"black\",\"black\",\"black\",\"black\",\"black\",\"black\",\"black\",\"black\",\"black\",\"black\",\"black\",\"black\",\"black\",\"black\",\"black\",\"black\",\"black\",\"black\",\"black\",\"black\",\"black\",\"black\",\"black\",\"black\",\"black\",\"black\",\"black\",\"black\",\"black\",\"black\",\"black\",\"black\",\"black\",\"black\",\"black\",\"black\",\"black\",\"black\",\"black\",\"black\",\"black\",\"black\",\"black\",\"black\",\"black\",\"black\",\"black\",\"black\",\"black\",\"black\",\"black\",\"black\",\"black\",\"black\",\"black\",\"black\",\"black\",\"black\"],\"xs\":[[135758231,135758231],[135758520,135758520],[135766072,135766072],[135773420,135773420],[135773446,135773446],[135773617,135773617],[135773692,135773692],[135774681,135774681],[135775049,135775049],[135776430,135776430],[135778656,135778656],[135780168,135780168],[135780587,135780587],[135781301,135781301],[135781522,135781522],[135781635,135781635],[135782456,135782456],[135783157,135783157],[135783366,135783366],[135783367,135783367],[135784227,135784227],[135784733,135784733],[135785066,135785066],[135785068,135785068],[135785149,135785149],[135787148,135787148],[135787642,135787642],[135789405,135789405],[135789472,135789472],[135789682,135789682],[135789784,135789784],[135792338,135792338],[135792528,135792528],[135793565,135793565],[135793684,135793684],[135793845,135793845],[135794367,135794367],[135794986,135794986],[135795040,135795040],[135795095,135795095],[135795150,135795150],[135795385,135795385],[135795396,135795396],[135795443,135795443],[135795595,135795595],[135796000,135796000],[135796155,135796155],[135796410,135796410],[135796965,135796965],[135797223,135797223],[135797747,135797747],[135798082,135798082],[135798758,135798758],[135799082,135799082],[135800085,135800085],[135800601,135800601],[135800757,135800757],[135801228,135801228],[135801956,135801956],[135802020,135802020],[135802028,135802028],[135802050,135802050],[135802148,135802148],[135803766,135803766],[135809241,135809241],[135812969,135812969],[135814716,135814716],[135818907,135818907],[135829432,135829432],[135832131,135832131],[135849613,135849613],[135853807,135853807],[135859923,135859923],[135860305,135860305],[135861497,135861497],[135863143,135863143],[135864294,135864294],[135871624,135871624],[135872646,135872646],[135874038,135874038],[135874622,135874622],[135878814,135878814],[135880013,135880013],[135884487,135884487],[135885357,135885357],[135893853,135893853],[135895809,135895809],[135895879,135895879],[135899069,135899069],[135909462,135909462],[135912977,135912977],[135914038,135914038],[135921839,135921839],[135925002,135925002],[135928312,135928312],[135935049,135935049],[135962711,135962711],[135984172,135984172],[135994753,135994753],[135994754,135994754],[136016079,136016079],[136027264,136027264],[136052004,136052004],[136100473,136100473],[136110129,136110129],[136166536,136166536],[136169799,136169799],[136191314,136191314],[136228887,136228887],[136238453,136238453],[136288273,136288273],[136292425,136292425],[136321951,136321951],[136324564,136324564],[136327299,136327299],[136327302,136327302],[136376515,136376515],[135758713,135758713],[135759717,135759717],[135762608,135762608],[135764416,135764416],[135772876,135772876],[135778233,135778233],[135764184,135764184],[135764753,135764753],[135773231,135773231],[135783057,135783057],[135784205,135784205],[135789287,135789287],[135793327,135793327],[135794677,135794677],[135794926,135794926],[135811191,135811191],[135817572,135817572],[135818667,135818667],[135822511,135822511],[135823278,135823278],[135826536,135826536],[135826575,135826575],[135828997,135828997],[135831859,135831859],[135833810,135833810],[135836338,135836338],[135837013,135837013],[135837560,135837560],[135837592,135837592],[135838952,135838952],[135845903,135845903],[135847928,135847928],[135852167,135852167],[135863477,135863477],[135863862,135863862],[135888634,135888634],[135899652,135899652],[135906692,135906692],[135920108,135920108],[135927428,135927428],[135928292,135928292],[135929399,135929399],[135930540,135930540],[135933072,135933072],[135933954,135933954],[135940980,135940980],[135943312,135943312],[135945776,135945776],[135946949,135946949],[135947723,135947723],[135948035,135948035],[135948915,135948915],[135953682,135953682],[135959737,135959737],[135960553,135960553],[135960616,135960616],[135961451,135961451],[135967575,135967575],[135967999,135967999],[135974160,135974160],[135976740,135976740],[135977954,135977954],[135978063,135978063],[135980342,135980342],[135984721,135984721],[135987024,135987024],[135989926,135989926],[135992172,135992172],[135994968,135994968],[136003353,136003353],[136005403,136005403],[136007349,136007349],[136010797,136010797],[136011050,136011050],[136011779,136011779],[136012383,136012383],[136018428,136018428],[136037656,136037656],[136037694,136037694],[136042345,136042345],[136046052,136046052],[136046774,136046774],[136050578,136050578],[136052012,136052012],[136054793,136054793],[136056521,136056521],[136056962,136056962],[136057940,136057940],[136061024,136061024],[136064758,136064758],[136066699,136066699],[136068369,136068369],[136069524,136069524],[136073211,136073211],[136078873,136078873],[136079662,136079662],[136089758,136089758],[136091422,136091422],[136092167,136092167],[136092266,136092266],[136098070,136098070],[136102214,136102214],[136103773,136103773],[136106554,136106554],[136108397,136108397],[136110118,136110118],[135766890,135766890],[135778708,135778708],[135779588,135779588],[135805941,135805941],[135805943,135805943],[135932720,135932720],[135933317,135933317],[135934842,135934842],[135952376,135952376],[135958853,135958853],[135962864,135962864],[135963304,135963304],[135965376,135965376],[135980201,135980201],[135981554,135981554],[135988127,135988127],[135988416,135988416],[135991470,135991470],[136000500,136000500],[136001215,136001215],[136001295,136001295],[136016514,136016514],[136017388,136017388],[136041102,136041102],[136041662,136041662],[136047387,136047387],[136052936,136052936],[136055275,136055275],[136063118,136063118],[136066802,136066802],[136068890,136068890],[136069577,136069577],[136081193,136081193],[136105193,136105193],[136107839,136107839],[136110835,136110835],[136138026,136138026],[136142092,136142092],[136146499,136146499],[136147607,136147607],[136148401,136148401],[136150512,136150512],[136154734,136154734],[136155805,136155805],[136163001,136163001],[136163266,136163266],[136163568,136163568],[136163821,136163821],[136165965,136165965],[136183312,136183312],[136185945,136185945],[136191729,136191729],[136204827,136204827],[136208747,136208747],[136217980,136217980],[136229438,136229438],[136232572,136232572],[136240942,136240942],[136251329,136251329],[136265187,136265187],[136265188,136265188],[136275985,136275985],[135771350,135771350],[135783750,135783750],[135786285,135786285],[135805792,135805792],[135813865,135813865],[135829428,135829428],[135872146,135872146],[135882159,135882159],[135889802,135889802],[135925623,135925623],[135948854,135948854],[135956095,135956095],[136027525,136027525],[136043677,136043677],[136053624,136053624],[136068718,136068718],[136105275,136105275],[136105389,136105389],[136112320,136112320],[136119943,136119943],[136151412,136151412],[136162141,136162141],[136164927,136164927],[136167553,136167553],[136176291,136176291],[136199180,136199180],[136221320,136221320],[136234761,136234761],[136238377,136238377],[136282110,136282110],[136285317,136285317],[136294045,136294045],[136314384,136314384],[136318445,136318445],[136340817,136340817],[135784351,135784351],[135829309,135829309],[135835508,135835508],[135861297,135861297],[135863459,135863459],[135873845,135873845],[135902172,135902172],[135902220,135902220],[135795222,135795222],[135920091,135920091],[136117271,136117271],[136122102,136122102],[136129859,136129859],[136135294,136135294],[136135451,136135451],[136144548,136144548],[136149219,136149219],[136152962,136152962],[136158473,136158473],[136160769,136160769],[136163389,136163389],[136164606,136164606],[136165624,136165624],[136165766,136165766],[136167030,136167030],[136170213,136170213],[136170889,136170889],[136170934,136170934],[136172028,136172028],[136175128,136175128],[136176923,136176923],[136180106,136180106],[136184333,136184333],[136188849,136188849],[136189408,136189408],[136189428,136189428],[136193318,136193318],[136196359,136196359],[136202820,136202820],[136203439,136203439],[136207999,136207999],[136213991,136213991],[136215173,136215173],[136220995,136220995],[136221233,136221233],[136223360,136223360],[136231459,136231459],[136233507,136233507],[136245723,136245723],[136246135,136246135],[136246877,136246877],[136251413,136251413],[136251832,136251832],[136252477,136252477],[136254415,136254415],[136255986,136255986],[136256216,136256216],[136256806,136256806],[136264344,136264344],[136269048,136269048],[136271210,136271210],[136276688,136276688],[136277343,136277343],[136286021,136286021],[136303450,136303450],[136317535,136317535],[136319030,136319030],[136326192,136326192],[136330558,136330558],[136332552,136332552],[136334724,136334724],[136337506,136337506],[136351111,136351111],[136351470,136351470],[136382700,136382700],[135810535,135810535],[135817760,135817760],[135857538,135857538],[135862191,135862191],[135869380,135869380],[135869761,135869761],[135886486,135886486],[135888078,135888078],[135898023,135898023],[135816295,135816295],[135817964,135817964],[135864397,135864397],[135870316,135870316],[135901792,135901792],[135929006,135929006],[135938164,135938164],[135933921,135933921],[135939824,135939824],[135941503,135941503],[135943900,135943900],[135945474,135945474],[135949715,135949715],[135956745,135956745],[135958693,135958693],[135967778,135967778],[135972093,135972093],[135973768,135973768],[135976498,135976498],[135978428,135978428],[135990031,135990031],[135992481,135992481],[135993925,135993925],[135994838,135994838],[136000253,136000253],[136003567,136003567],[136005477,136005477],[136005971,136005971],[136020977,136020977],[136027535,136027535],[136031588,136031588],[136032905,136032905],[136042480,136042480],[136043885,136043885],[136050471,136050471],[136052898,136052898],[136054815,136054815],[136056285,136056285],[136061560,136061560],[136063685,136063685],[136069060,136069060],[136072179,136072179],[136074233,136074233],[136080721,136080721],[136080822,136080822],[136088440,136088440],[136088643,136088643],[136092416,136092416],[136092869,136092869],[136094615,136094615],[136095505,136095505],[136095604,136095604],[136096766,136096766],[136097091,136097091],[136097394,136097394],[136100243,136100243],[136101823,136101823],[136106561,136106561],[136115501,136115501],[136122622,136122622],[136123014,136123014],[136123848,136123848],[136127100,136127100],[136127950,136127950],[136128630,136128630],[136129630,136129630],[136129791,136129791],[136131324,136131324],[136135383,136135383],[136135994,136135994],[136136224,136136224],[136136366,136136366],[136136440,136136440],[136138145,136138145],[136140568,136140568],[136145882,136145882],[136147948,136147948],[136148630,136148630],[136151485,136151485],[136152802,136152802],[136156753,136156753],[136157913,136157913],[136160902,136160902],[136165765,136165765],[136171649,136171649],[136173220,136173220],[136173735,136173735],[136174552,136174552],[136175692,136175692],[136176805,136176805],[136182484,136182484],[136183188,136183188],[136187252,136187252],[136187345,136187345],[136189475,136189475],[136197702,136197702],[136198435,136198435],[136202937,136202937],[136219999,136219999],[136221500,136221500],[136226626,136226626],[136228929,136228929],[136229598,136229598],[136238270,136238270],[136238346,136238346],[136240769,136240769],[136244171,136244171],[136249245,136249245],[136250285,136250285],[136254419,136254419],[136266241,136266241],[136267808,136267808],[136272074,136272074],[136277304,136277304],[136290607,136290607],[136290663,136290663],[136291310,136291310],[136296051,136296051],[136305392,136305392],[136306890,136306890],[136310803,136310803],[136324225,136324225],[136324465,136324465],[136327305,136327305],[136329618,136329618],[136333300,136333300],[136350089,136350089],[136354204,136354204],[136360455,136360455],[136368563,136368563],[136309239,136309239],[136322472,136322472],[136323787,136323787],[136323862,136323862],[136326765,136326765],[136329500,136329500],[136331657,136331657],[136345356,136345356],[136361560,136361560],[136402778,136402778],[136402779,136402779],[136402780,136402780],[136402781,136402781],[136403272,136403272],[136406356,136406356],[136407068,136407068],[136414770,136414770],[136415861,136415861],[136416407,136416407],[136420009,136420009],[136429439,136429439],[136438468,136438468],[136444542,136444542],[136448142,136448142],[136452728,136452728],[136453540,136453540],[136455296,136455296],[136458856,136458856],[136467559,136467559],[136493430,136493430],[136406646,136406646],[136408821,136408821],[136412472,136412472],[136416959,136416959],[136438078,136438078],[136448855,136448855],[136456090,136456090],[136456675,136456675],[136466831,136466831],[136496493,136496493],[136496639,136496639],[136496928,136496928],[136509573,136509573],[136511951,136511951],[136537057,136537057],[136546635,136546635],[136553438,136553438],[136553925,136553925],[136496875,136496875],[136499066,136499066],[136505438,136505438],[136508372,136508372],[136514164,136514164],[136514846,136514846],[136517177,136517177],[136520305,136520305],[136521243,136521243],[136522001,136522001],[136523281,136523281],[136533585,136533585],[136534168,136534168],[136543228,136543228],[136544100,136544100],[136546151,136546151],[136547483,136547483],[136548206,136548206],[136511874,136511874],[136530248,136530248],[136530556,136530556],[136531252,136531252],[136533195,136533195],[136562716,136562716],[136569317,136569317],[136576425,136576425],[136576579,136576579],[136584376,136584376],[136584714,136584714],[136588031,136588031],[136589278,136589278],[136589379,136589379],[136589741,136589741],[136590746,136590746],[136593553,136593553],[136593678,136593678],[136605402,136605402],[136609320,136609320],[136611400,136611400],[136619744,136619744],[136621858,136621858],[136621941,136621941],[136624382,136624382],[136624686,136624686],[136651964,136651964],[136714929,136714929],[136734139,136734139],[136746252,136746252],[136682274,136682274],[136691825,136691825],[136698098,136698098],[136721603,136721603],[136721995,136721995],[136755684,136755684],[136775898,136775898]],\"ys\":[[850,896],[850,896],[850,896],[850,896],[850,896],[850,896],[850,896],[850,896],[850,896],[850,896],[850,896],[850,896],[850,896],[850,896],[850,896],[850,896],[850,896],[850,896],[850,896],[850,896],[850,896],[850,896],[850,896],[850,896],[850,896],[850,896],[850,896],[850,896],[850,896],[850,896],[850,896],[850,896],[850,896],[850,896],[850,896],[850,896],[850,896],[850,896],[850,896],[850,896],[850,896],[850,896],[850,896],[850,896],[850,896],[850,896],[850,896],[850,896],[850,896],[850,896],[850,896],[850,896],[850,896],[850,896],[850,896],[850,896],[850,896],[850,896],[850,896],[850,896],[850,896],[850,896],[850,896],[850,896],[850,896],[850,896],[850,896],[850,896],[850,896],[850,896],[850,896],[850,896],[850,896],[850,896],[850,896],[850,896],[850,896],[850,896],[850,896],[850,896],[850,896],[850,896],[850,896],[850,896],[850,896],[850,896],[850,896],[850,896],[850,896],[850,896],[850,896],[850,896],[850,896],[850,896],[850,896],[850,896],[850,896],[850,896],[850,896],[850,896],[850,896],[850,896],[850,896],[850,896],[850,896],[850,896],[850,896],[850,896],[850,896],[850,896],[850,896],[850,896],[850,896],[850,896],[850,896],[850,896],[850,896],[50,68],[50,68],[50,68],[50,68],[50,68],[50,68],[250,280],[250,280],[250,280],[250,280],[250,280],[250,280],[250,280],[250,280],[250,280],[250,280],[250,280],[250,280],[250,280],[250,280],[250,280],[250,280],[250,280],[250,280],[250,280],[250,280],[250,280],[250,280],[250,280],[250,280],[250,280],[250,280],[250,280],[250,280],[250,280],[250,280],[250,280],[250,280],[250,280],[250,280],[250,280],[250,280],[250,280],[250,280],[250,280],[250,280],[250,280],[250,280],[250,280],[250,280],[250,280],[250,280],[250,280],[250,280],[250,280],[250,280],[250,280],[250,280],[250,280],[250,280],[250,280],[250,280],[250,280],[250,280],[250,280],[250,280],[250,280],[250,280],[250,280],[250,280],[250,280],[250,280],[250,280],[250,280],[250,280],[250,280],[250,280],[250,280],[250,280],[250,280],[250,280],[250,280],[250,280],[250,280],[250,280],[250,280],[250,280],[250,280],[250,280],[250,280],[250,280],[250,280],[250,280],[250,280],[250,280],[250,280],[250,280],[250,280],[250,280],[250,280],[250,280],[250,280],[250,280],[250,280],[250,280],[250,280],[650,693],[650,693],[650,693],[650,693],[650,693],[650,693],[650,693],[650,693],[650,693],[650,693],[650,693],[650,693],[650,693],[650,693],[650,693],[650,693],[650,693],[650,693],[650,693],[650,693],[650,693],[650,693],[650,693],[650,693],[650,693],[650,693],[650,693],[650,693],[650,693],[650,693],[650,693],[650,693],[650,693],[650,693],[650,693],[650,693],[650,693],[650,693],[650,693],[650,693],[650,693],[650,693],[650,693],[650,693],[650,693],[650,693],[650,693],[650,693],[650,693],[650,693],[650,693],[650,693],[650,693],[650,693],[650,693],[650,693],[650,693],[650,693],[650,693],[650,693],[650,693],[650,693],[150,179],[150,179],[150,179],[150,179],[150,179],[150,179],[150,179],[150,179],[150,179],[150,179],[150,179],[150,179],[150,179],[150,179],[150,179],[150,179],[150,179],[150,179],[150,179],[150,179],[150,179],[150,179],[150,179],[150,179],[150,179],[150,179],[150,179],[150,179],[150,179],[150,179],[150,179],[150,179],[150,179],[150,179],[150,179],[550,588],[550,588],[550,588],[550,588],[550,588],[550,588],[550,588],[550,588],[350,382],[350,382],[350,382],[350,382],[350,382],[350,382],[350,382],[350,382],[350,382],[350,382],[350,382],[350,382],[350,382],[350,382],[350,382],[350,382],[350,382],[350,382],[350,382],[350,382],[350,382],[350,382],[350,382],[350,382],[350,382],[350,382],[350,382],[350,382],[350,382],[350,382],[350,382],[350,382],[350,382],[350,382],[350,382],[350,382],[350,382],[350,382],[350,382],[350,382],[350,382],[350,382],[350,382],[350,382],[350,382],[350,382],[350,382],[350,382],[350,382],[350,382],[350,382],[350,382],[350,382],[350,382],[350,382],[350,382],[350,382],[350,382],[350,382],[350,382],[350,382],[350,382],[350,382],[350,382],[350,382],[350,382],[350,382],[450,486],[450,486],[450,486],[450,486],[450,486],[450,486],[450,486],[450,486],[450,486],[50,72],[50,72],[50,72],[50,72],[50,72],[50,72],[50,72],[750,795],[750,795],[750,795],[750,795],[750,795],[750,795],[750,795],[750,795],[750,795],[750,795],[750,795],[750,795],[750,795],[750,795],[750,795],[750,795],[750,795],[750,795],[750,795],[750,795],[750,795],[750,795],[750,795],[750,795],[750,795],[750,795],[750,795],[750,795],[750,795],[750,795],[750,795],[750,795],[750,795],[750,795],[750,795],[750,795],[750,795],[750,795],[750,795],[750,795],[750,795],[750,795],[750,795],[750,795],[750,795],[750,795],[750,795],[750,795],[750,795],[750,795],[750,795],[750,795],[750,795],[750,795],[750,795],[750,795],[750,795],[750,795],[750,795],[750,795],[750,795],[750,795],[750,795],[750,795],[750,795],[750,795],[750,795],[750,795],[750,795],[750,795],[750,795],[750,795],[750,795],[750,795],[750,795],[750,795],[750,795],[750,795],[750,795],[750,795],[750,795],[750,795],[750,795],[750,795],[750,795],[750,795],[750,795],[750,795],[750,795],[750,795],[750,795],[750,795],[750,795],[750,795],[750,795],[750,795],[750,795],[750,795],[750,795],[750,795],[750,795],[750,795],[750,795],[750,795],[750,795],[750,795],[750,795],[750,795],[750,795],[750,795],[750,795],[750,795],[750,795],[750,795],[750,795],[750,795],[750,795],[750,795],[750,795],[750,795],[750,795],[750,795],[750,795],[550,590],[550,590],[550,590],[550,590],[550,590],[550,590],[550,590],[550,590],[550,590],[450,482],[450,482],[450,482],[450,482],[450,482],[450,482],[450,482],[450,482],[450,482],[450,482],[450,482],[450,482],[450,482],[450,482],[450,482],[450,482],[450,482],[450,482],[450,482],[450,482],[450,482],[750,795],[750,795],[750,795],[750,795],[750,795],[550,587],[550,587],[550,587],[550,587],[650,693],[650,693],[650,693],[650,693],[650,693],[650,693],[650,693],[650,693],[650,693],[150,175],[150,175],[150,175],[150,175],[150,175],[150,175],[150,175],[150,175],[150,175],[150,175],[150,175],[150,175],[150,175],[150,175],[150,175],[150,175],[150,175],[150,175],[550,591],[550,591],[550,591],[550,591],[550,591],[150,173],[150,173],[150,173],[150,173],[150,173],[150,173],[850,896],[850,896],[850,896],[850,896],[850,896],[850,896],[850,896],[350,382],[350,382],[350,382],[350,382],[350,382],[350,382],[350,382],[350,382],[150,176],[150,176],[150,176],[150,176],[850,897],[850,897],[850,897],[850,897],[850,897],[850,897],[850,897]]}},\"id\":\"36eae5f7-ecf6-4b94-a840-ee5fdf9231c0\",\"type\":\"ColumnDataSource\"},{\"attributes\":{\"active_drag\":\"auto\",\"active_scroll\":\"auto\",\"active_tap\":\"auto\",\"tools\":[{\"id\":\"9bb8ad7d-cfe8-4fc9-a0da-464ce73e07f2\",\"type\":\"PanTool\"},{\"id\":\"fbbc2708-c9fe-4986-ab78-381a2815640e\",\"type\":\"WheelZoomTool\"},{\"id\":\"6d281795-8f3f-4762-84a4-1efa36f98d3f\",\"type\":\"BoxZoomTool\"},{\"id\":\"f5354445-c028-47ab-a0ca-0fc89cd72137\",\"type\":\"SaveTool\"},{\"id\":\"1bf32ef5-df94-4783-9638-1d71af9fb89b\",\"type\":\"ResetTool\"},{\"id\":\"1f553feb-486e-451a-9f6c-3ea4f19d070d\",\"type\":\"HelpTool\"}]},\"id\":\"da32ba30-5fe3-44ac-92a9-3e6df5d6d166\",\"type\":\"Toolbar\"},{\"attributes\":{\"callback\":null,\"column_names\":[\"y\",\"x\",\"vals\"],\"data\":{\"vals\":[\"117_1685\",\"6_68\",\"100_279\",\"62_1265\",\"35_240\",\"8_718\",\"67_329\",\"9_545\",\"7_102\",\"123_1561\",\"9_887\",\"21_332\",\"5_1460\",\"4_612\",\"9_1170\",\"18_148\",\"5_976\",\"6_127\",\"7_1760\",\"8_328\",\"4_163\",\"7_1868\"],\"x\":[135758231,135758713,135764184,135766890,135771350,135784351,135795222,135810535,135816295,135933921,136309239,136402778,136406646,136448855,136496493,136496875,136511874,136562716,136588031,136605402,136651964,136682274],\"y\":[901.0,73.0,285.0,698.0,184.0,593.0,387.0,491.0,77.0,800.0,595.0,487.0,800.0,592.0,698.0,180.0,596.0,178.0,901.0,387.0,181.0,902.0]}},\"id\":\"04679d31-cb85-4dee-9d17-4825a122db53\",\"type\":\"ColumnDataSource\"},{\"attributes\":{\"bottom\":{\"field\":\"bottom\"},\"fill_alpha\":{\"value\":0.1},\"fill_color\":{\"value\":\"#1f77b4\"},\"left\":{\"field\":\"left\"},\"line_alpha\":{\"value\":0.1},\"line_color\":{\"value\":\"#1f77b4\"},\"right\":{\"field\":\"right\"},\"top\":{\"field\":\"top\"}},\"id\":\"28954ec2-a362-4a41-a5c6-a390a859e7b4\",\"type\":\"Quad\"},{\"attributes\":{\"data_source\":{\"id\":\"36eae5f7-ecf6-4b94-a840-ee5fdf9231c0\",\"type\":\"ColumnDataSource\"},\"glyph\":{\"id\":\"bf23a909-bda9-48ce-9a45-ee7c8ace609b\",\"type\":\"MultiLine\"},\"hover_glyph\":null,\"nonselection_glyph\":{\"id\":\"63a6dea5-544b-47b3-8ee3-3faf31d61ea6\",\"type\":\"MultiLine\"},\"selection_glyph\":null},\"id\":\"61400641-c671-4595-a685-4358da986046\",\"type\":\"GlyphRenderer\"},{\"attributes\":{\"line_color\":{\"field\":\"line_color\"},\"xs\":{\"field\":\"xs\"},\"ys\":{\"field\":\"ys\"}},\"id\":\"bf23a909-bda9-48ce-9a45-ee7c8ace609b\",\"type\":\"MultiLine\"},{\"attributes\":{\"below\":[{\"id\":\"249f26fa-bea6-4fe7-acf9-371e21ac2281\",\"type\":\"LinearAxis\"}],\"left\":[{\"id\":\"cf4fe18e-6d81-4ac3-929a-f8ad73fe6a13\",\"type\":\"LinearAxis\"}],\"plot_height\":1000,\"plot_width\":900,\"renderers\":[{\"id\":\"249f26fa-bea6-4fe7-acf9-371e21ac2281\",\"type\":\"LinearAxis\"},{\"id\":\"3ab2b878-a4b9-4ecd-9257-80eb454548fe\",\"type\":\"Grid\"},{\"id\":\"cf4fe18e-6d81-4ac3-929a-f8ad73fe6a13\",\"type\":\"LinearAxis\"},{\"id\":\"e026d46f-3711-4b20-a427-5043a99347da\",\"type\":\"Grid\"},{\"id\":\"5875f2d3-fa1c-4813-b6bd-92ebc54936f1\",\"type\":\"BoxAnnotation\"},{\"id\":\"e083a97c-3a03-4a16-872b-fe5ed2e86ca0\",\"type\":\"GlyphRenderer\"},{\"id\":\"61400641-c671-4595-a685-4358da986046\",\"type\":\"GlyphRenderer\"},{\"id\":\"e99473aa-a481-4a1e-9da6-51fb4700cf44\",\"type\":\"LabelSet\"},{\"id\":\"a66ffe7b-7908-4113-a553-39225eec706e\",\"type\":\"GlyphRenderer\"},{\"id\":\"d319145b-c498-4e41-980f-2e763c72a5eb\",\"type\":\"LabelSet\"}],\"title\":{\"id\":\"7658624e-a2d4-42d8-83f4-e97de5a70946\",\"type\":\"Title\"},\"tool_events\":{\"id\":\"bd255272-6d49-46e6-93a4-4ecead8968e9\",\"type\":\"ToolEvents\"},\"toolbar\":{\"id\":\"da32ba30-5fe3-44ac-92a9-3e6df5d6d166\",\"type\":\"Toolbar\"},\"toolbar_location\":null,\"x_range\":{\"id\":\"276e61a5-f09b-4a4d-9a25-cdfc3e9b4a1a\",\"type\":\"Range1d\"},\"y_range\":{\"id\":\"af76c5d5-5642-480a-b33a-ceb600a05fb2\",\"type\":\"Range1d\"}},\"id\":\"4fce8f1a-5c95-4ffd-a37c-6ff6bf1fdf54\",\"subtype\":\"Figure\",\"type\":\"Plot\"},{\"attributes\":{},\"id\":\"9a6b212b-9f11-4826-947c-d16887d9409b\",\"type\":\"BasicTickFormatter\"},{\"attributes\":{\"line_alpha\":{\"value\":0.1},\"line_color\":{\"value\":\"#1f77b4\"},\"xs\":{\"field\":\"xs\"},\"ys\":{\"field\":\"ys\"}},\"id\":\"63a6dea5-544b-47b3-8ee3-3faf31d61ea6\",\"type\":\"MultiLine\"},{\"attributes\":{\"plot\":{\"id\":\"4fce8f1a-5c95-4ffd-a37c-6ff6bf1fdf54\",\"subtype\":\"Figure\",\"type\":\"Plot\"}},\"id\":\"f5354445-c028-47ab-a0ca-0fc89cd72137\",\"type\":\"SaveTool\"},{\"attributes\":{\"plot\":{\"id\":\"4fce8f1a-5c95-4ffd-a37c-6ff6bf1fdf54\",\"subtype\":\"Figure\",\"type\":\"Plot\"},\"ticker\":{\"id\":\"e444238b-44be-4518-8440-16ac48ae3092\",\"type\":\"BasicTicker\"}},\"id\":\"3ab2b878-a4b9-4ecd-9257-80eb454548fe\",\"type\":\"Grid\"},{\"attributes\":{\"plot\":{\"id\":\"4fce8f1a-5c95-4ffd-a37c-6ff6bf1fdf54\",\"subtype\":\"Figure\",\"type\":\"Plot\"}},\"id\":\"1f553feb-486e-451a-9f6c-3ea4f19d070d\",\"type\":\"HelpTool\"},{\"attributes\":{\"formatter\":{\"id\":\"9a6b212b-9f11-4826-947c-d16887d9409b\",\"type\":\"BasicTickFormatter\"},\"plot\":{\"id\":\"4fce8f1a-5c95-4ffd-a37c-6ff6bf1fdf54\",\"subtype\":\"Figure\",\"type\":\"Plot\"},\"ticker\":{\"id\":\"6f0c7621-38b9-4762-887e-1dfcf065fe25\",\"type\":\"BasicTicker\"},\"visible\":null},\"id\":\"cf4fe18e-6d81-4ac3-929a-f8ad73fe6a13\",\"type\":\"LinearAxis\"},{\"attributes\":{\"plot\":{\"id\":\"4fce8f1a-5c95-4ffd-a37c-6ff6bf1fdf54\",\"subtype\":\"Figure\",\"type\":\"Plot\"}},\"id\":\"9bb8ad7d-cfe8-4fc9-a0da-464ce73e07f2\",\"type\":\"PanTool\"},{\"attributes\":{\"plot\":{\"id\":\"4fce8f1a-5c95-4ffd-a37c-6ff6bf1fdf54\",\"subtype\":\"Figure\",\"type\":\"Plot\"}},\"id\":\"1bf32ef5-df94-4783-9638-1d71af9fb89b\",\"type\":\"ResetTool\"},{\"attributes\":{\"bottom\":{\"field\":\"bottom\"},\"fill_color\":{\"value\":\"white\"},\"left\":{\"field\":\"left\"},\"right\":{\"field\":\"right\"},\"top\":{\"field\":\"top\"}},\"id\":\"2761b952-26a4-45dc-af6d-feada0e41f99\",\"type\":\"Quad\"},{\"attributes\":{\"callback\":null,\"end\":1000},\"id\":\"af76c5d5-5642-480a-b33a-ceb600a05fb2\",\"type\":\"Range1d\"},{\"attributes\":{\"data_source\":{\"id\":\"e58994d3-6887-49cb-bc11-e13925f319da\",\"type\":\"ColumnDataSource\"},\"glyph\":{\"id\":\"2761b952-26a4-45dc-af6d-feada0e41f99\",\"type\":\"Quad\"},\"hover_glyph\":null,\"nonselection_glyph\":{\"id\":\"335ef01f-eeae-4e8d-9b90-4f3f36f65229\",\"type\":\"Quad\"},\"selection_glyph\":null},\"id\":\"a66ffe7b-7908-4113-a553-39225eec706e\",\"type\":\"GlyphRenderer\"}],\"root_ids\":[\"4fce8f1a-5c95-4ffd-a37c-6ff6bf1fdf54\"]},\"title\":\"Bokeh Application\",\"version\":\"0.12.0\"}};\n",
       "            var render_items = [{\"docid\":\"727ed682-3000-46a2-a6cf-1ee89c22d6cd\",\"elementid\":\"76492e51-3c38-46fc-9bb1-fff085a31e74\",\"modelid\":\"4fce8f1a-5c95-4ffd-a37c-6ff6bf1fdf54\",\"notebook_comms_target\":\"c965a725-fe09-4da4-83ea-86b122305bd8\"}];\n",
       "            \n",
       "            Bokeh.embed.embed_items(docs_json, render_items);\n",
       "        });\n",
       "      },\n",
       "      function(Bokeh) {\n",
       "      }\n",
       "    ];\n",
       "  \n",
       "    function run_inline_js() {\n",
       "      for (var i = 0; i < inline_js.length; i++) {\n",
       "        inline_js[i](window.Bokeh);\n",
       "      }\n",
       "    }\n",
       "  \n",
       "    if (window._bokeh_is_loading === 0) {\n",
       "      console.log(\"Bokeh: BokehJS loaded, going straight to plotting\");\n",
       "      run_inline_js();\n",
       "    } else {\n",
       "      load_libs(js_urls, function() {\n",
       "        console.log(\"Bokeh: BokehJS plotting callback run at\", now());\n",
       "        run_inline_js();\n",
       "      });\n",
       "    }\n",
       "  }(this));\n",
       "</script>"
      ]
     },
     "metadata": {},
     "output_type": "display_data"
    },
    {
     "data": {
      "text/html": [
       "<p><code>&lt;Bokeh Notebook handle for <strong>In[12]</strong>&gt;</code></p>"
      ],
      "text/plain": [
       "<bokeh.io._CommsHandle at 0x7fea80812210>"
      ]
     },
     "execution_count": 12,
     "metadata": {},
     "output_type": "execute_result"
    }
   ],
   "source": [
    "plt_obj = dm.superset_yes_no([dm.di_6_68, dm.di_123_1561], [dm.di_49_136], min_match=0.5)\n",
    "plt = plt_obj.do_plot()\n",
    "am_123_1561_not_49_136 = plt_obj.plot_context.yes_allele_mask\n",
    "show(plt)"
   ]
  },
  {
   "cell_type": "code",
   "execution_count": 13,
   "metadata": {
    "collapsed": false
   },
   "outputs": [
    {
     "data": {
      "text/html": [
       "<table>\n",
       "<thead><tr><th style=\"text-align:center\">index</th><th style=\"text-align:center\">first</th><th style=\"text-align:center\">length</th><th style=\"text-align:center\">snps</th><th style=\"text-align:center\" colspan=2>alleles</th><th style=\"text-align:center\" colspan=2>matches</th><th style=\"text-align:center\" colspan=2>afr</th><th style=\"text-align:center\" colspan=2>afx</th><th style=\"text-align:center\" colspan=2>amr</th><th style=\"text-align:center\" colspan=2>eas</th><th style=\"text-align:center\" colspan=2>eur</th><th style=\"text-align:center\" colspan=2>sas</th><th style=\"text-align:center\" colspan=2>sax</th></tr></thead>\n",
       "<tr class=\"even\"><td style=\"text-align: right;\">354170</td><td style=\"text-align: right;\">136,682,274</td><td style=\"text-align: right;\">93,624</td><td style=\"text-align: right;\">7</td><td style=\"text-align: right;\">1868</td><td style=\"text-align: right;\">0.00</td><td style=\"text-align: right;\">1</td><td style=\"text-align: right;\">1.00</td><td style=\"text-align: right;\">0</td><td style=\"text-align: right;\">0.00</td><td style=\"text-align: right;\">1</td><td style=\"text-align: right;\">17.78</td><td style=\"text-align: right;\">0</td><td style=\"text-align: right;\">0.00</td><td style=\"text-align: right;\">0</td><td style=\"text-align: right;\">0.00</td><td style=\"text-align: right;\">0</td><td style=\"text-align: right;\">0.00</td><td style=\"text-align: right;\">0</td><td style=\"text-align: right;\">0.00</td><td style=\"text-align: right;\">0</td><td style=\"text-align: right;\">0.00</td></tr>\n",
       "<tr><td style=\"text-align: right;\">354033</td><td style=\"text-align: right;\">136,588,031</td><td style=\"text-align: right;\">5,647</td><td style=\"text-align: right;\">7</td><td style=\"text-align: right;\">1760</td><td style=\"text-align: right;\">0.00</td><td style=\"text-align: right;\">1</td><td style=\"text-align: right;\">1.00</td><td style=\"text-align: right;\">0</td><td style=\"text-align: right;\">0.00</td><td style=\"text-align: right;\">1</td><td style=\"text-align: right;\">17.78</td><td style=\"text-align: right;\">0</td><td style=\"text-align: right;\">0.00</td><td style=\"text-align: right;\">0</td><td style=\"text-align: right;\">0.00</td><td style=\"text-align: right;\">0</td><td style=\"text-align: right;\">0.00</td><td style=\"text-align: right;\">0</td><td style=\"text-align: right;\">0.00</td><td style=\"text-align: right;\">0</td><td style=\"text-align: right;\">0.00</td></tr>\n",
       "<tr class=\"even\"><td style=\"text-align: right;\">353244</td><td style=\"text-align: right;\">135,758,231</td><td style=\"text-align: right;\">618,284</td><td style=\"text-align: right;\">117</td><td style=\"text-align: right;\">1685</td><td style=\"text-align: right;\">0.00</td><td style=\"text-align: right;\">1</td><td style=\"text-align: right;\">1.00</td><td style=\"text-align: right;\">0</td><td style=\"text-align: right;\">0.00</td><td style=\"text-align: right;\">1</td><td style=\"text-align: right;\">17.78</td><td style=\"text-align: right;\">0</td><td style=\"text-align: right;\">0.00</td><td style=\"text-align: right;\">0</td><td style=\"text-align: right;\">0.00</td><td style=\"text-align: right;\">0</td><td style=\"text-align: right;\">0.00</td><td style=\"text-align: right;\">0</td><td style=\"text-align: right;\">0.00</td><td style=\"text-align: right;\">0</td><td style=\"text-align: right;\">0.00</td></tr>\n",
       "<tr><td style=\"text-align: right;\">353478</td><td style=\"text-align: right;\">135,933,921</td><td style=\"text-align: right;\">434,642</td><td style=\"text-align: right;\">123</td><td style=\"text-align: right;\">1561</td><td style=\"text-align: right;\">0.00</td><td style=\"text-align: right;\">1</td><td style=\"text-align: right;\">1.00</td><td style=\"text-align: right;\">0</td><td style=\"text-align: right;\">0.00</td><td style=\"text-align: right;\">1</td><td style=\"text-align: right;\">17.78</td><td style=\"text-align: right;\">0</td><td style=\"text-align: right;\">0.00</td><td style=\"text-align: right;\">0</td><td style=\"text-align: right;\">0.00</td><td style=\"text-align: right;\">0</td><td style=\"text-align: right;\">0.00</td><td style=\"text-align: right;\">0</td><td style=\"text-align: right;\">0.00</td><td style=\"text-align: right;\">0</td><td style=\"text-align: right;\">0.00</td></tr>\n",
       "<tr class=\"even\"><td style=\"text-align: right;\">353814</td><td style=\"text-align: right;\">136,406,646</td><td style=\"text-align: right;\">31,432</td><td style=\"text-align: right;\">5</td><td style=\"text-align: right;\">1460</td><td style=\"text-align: right;\">0.00</td><td style=\"text-align: right;\">1</td><td style=\"text-align: right;\">1.00</td><td style=\"text-align: right;\">0</td><td style=\"text-align: right;\">0.00</td><td style=\"text-align: right;\">1</td><td style=\"text-align: right;\">17.78</td><td style=\"text-align: right;\">0</td><td style=\"text-align: right;\">0.00</td><td style=\"text-align: right;\">0</td><td style=\"text-align: right;\">0.00</td><td style=\"text-align: right;\">0</td><td style=\"text-align: right;\">0.00</td><td style=\"text-align: right;\">0</td><td style=\"text-align: right;\">0.00</td><td style=\"text-align: right;\">0</td><td style=\"text-align: right;\">0.00</td></tr>\n",
       "<tr><td style=\"text-align: right;\">353269</td><td style=\"text-align: right;\">135,766,890</td><td style=\"text-align: right;\">509,095</td><td style=\"text-align: right;\">62</td><td style=\"text-align: right;\">1265</td><td style=\"text-align: right;\">0.00</td><td style=\"text-align: right;\">1</td><td style=\"text-align: right;\">1.00</td><td style=\"text-align: right;\">0</td><td style=\"text-align: right;\">0.00</td><td style=\"text-align: right;\">1</td><td style=\"text-align: right;\">17.78</td><td style=\"text-align: right;\">0</td><td style=\"text-align: right;\">0.00</td><td style=\"text-align: right;\">0</td><td style=\"text-align: right;\">0.00</td><td style=\"text-align: right;\">0</td><td style=\"text-align: right;\">0.00</td><td style=\"text-align: right;\">0</td><td style=\"text-align: right;\">0.00</td><td style=\"text-align: right;\">0</td><td style=\"text-align: right;\">0.00</td></tr>\n",
       "<tr class=\"even\"><td style=\"text-align: right;\">353906</td><td style=\"text-align: right;\">136,496,493</td><td style=\"text-align: right;\">57,432</td><td style=\"text-align: right;\">9</td><td style=\"text-align: right;\">1170</td><td style=\"text-align: right;\">0.00</td><td style=\"text-align: right;\">1</td><td style=\"text-align: right;\">1.00</td><td style=\"text-align: right;\">0</td><td style=\"text-align: right;\">0.00</td><td style=\"text-align: right;\">1</td><td style=\"text-align: right;\">17.78</td><td style=\"text-align: right;\">0</td><td style=\"text-align: right;\">0.00</td><td style=\"text-align: right;\">0</td><td style=\"text-align: right;\">0.00</td><td style=\"text-align: right;\">0</td><td style=\"text-align: right;\">0.00</td><td style=\"text-align: right;\">0</td><td style=\"text-align: right;\">0.00</td><td style=\"text-align: right;\">0</td><td style=\"text-align: right;\">0.00</td></tr>\n",
       "<tr><td style=\"text-align: right;\">353935</td><td style=\"text-align: right;\">136,511,874</td><td style=\"text-align: right;\">21,321</td><td style=\"text-align: right;\">5</td><td style=\"text-align: right;\">976</td><td style=\"text-align: right;\">0.00</td><td style=\"text-align: right;\">1</td><td style=\"text-align: right;\">1.00</td><td style=\"text-align: right;\">0</td><td style=\"text-align: right;\">0.00</td><td style=\"text-align: right;\">1</td><td style=\"text-align: right;\">17.78</td><td style=\"text-align: right;\">0</td><td style=\"text-align: right;\">0.00</td><td style=\"text-align: right;\">0</td><td style=\"text-align: right;\">0.00</td><td style=\"text-align: right;\">0</td><td style=\"text-align: right;\">0.00</td><td style=\"text-align: right;\">0</td><td style=\"text-align: right;\">0.00</td><td style=\"text-align: right;\">0</td><td style=\"text-align: right;\">0.00</td></tr>\n",
       "<tr class=\"even\"><td style=\"text-align: right;\">353729</td><td style=\"text-align: right;\">136,309,239</td><td style=\"text-align: right;\">52,321</td><td style=\"text-align: right;\">9</td><td style=\"text-align: right;\">887</td><td style=\"text-align: right;\">0.00</td><td style=\"text-align: right;\">1</td><td style=\"text-align: right;\">1.00</td><td style=\"text-align: right;\">0</td><td style=\"text-align: right;\">0.00</td><td style=\"text-align: right;\">1</td><td style=\"text-align: right;\">17.78</td><td style=\"text-align: right;\">0</td><td style=\"text-align: right;\">0.00</td><td style=\"text-align: right;\">0</td><td style=\"text-align: right;\">0.00</td><td style=\"text-align: right;\">0</td><td style=\"text-align: right;\">0.00</td><td style=\"text-align: right;\">0</td><td style=\"text-align: right;\">0.00</td><td style=\"text-align: right;\">0</td><td style=\"text-align: right;\">0.00</td></tr>\n",
       "<tr><td style=\"text-align: right;\">353312</td><td style=\"text-align: right;\">135,784,351</td><td style=\"text-align: right;\">117,869</td><td style=\"text-align: right;\">8</td><td style=\"text-align: right;\">718</td><td style=\"text-align: right;\">0.00</td><td style=\"text-align: right;\">1</td><td style=\"text-align: right;\">1.00</td><td style=\"text-align: right;\">0</td><td style=\"text-align: right;\">0.00</td><td style=\"text-align: right;\">1</td><td style=\"text-align: right;\">17.78</td><td style=\"text-align: right;\">0</td><td style=\"text-align: right;\">0.00</td><td style=\"text-align: right;\">0</td><td style=\"text-align: right;\">0.00</td><td style=\"text-align: right;\">0</td><td style=\"text-align: right;\">0.00</td><td style=\"text-align: right;\">0</td><td style=\"text-align: right;\">0.00</td><td style=\"text-align: right;\">0</td><td style=\"text-align: right;\">0.00</td></tr>\n",
       "<tr class=\"even\"><td style=\"text-align: right;\">353851</td><td style=\"text-align: right;\">136,448,855</td><td style=\"text-align: right;\">17,976</td><td style=\"text-align: right;\">4</td><td style=\"text-align: right;\">612</td><td style=\"text-align: right;\">0.00</td><td style=\"text-align: right;\">1</td><td style=\"text-align: right;\">1.00</td><td style=\"text-align: right;\">0</td><td style=\"text-align: right;\">0.00</td><td style=\"text-align: right;\">1</td><td style=\"text-align: right;\">17.78</td><td style=\"text-align: right;\">0</td><td style=\"text-align: right;\">0.00</td><td style=\"text-align: right;\">0</td><td style=\"text-align: right;\">0.00</td><td style=\"text-align: right;\">0</td><td style=\"text-align: right;\">0.00</td><td style=\"text-align: right;\">0</td><td style=\"text-align: right;\">0.00</td><td style=\"text-align: right;\">0</td><td style=\"text-align: right;\">0.00</td></tr>\n",
       "<tr><td style=\"text-align: right;\">353349</td><td style=\"text-align: right;\">135,810,535</td><td style=\"text-align: right;\">87,488</td><td style=\"text-align: right;\">9</td><td style=\"text-align: right;\">545</td><td style=\"text-align: right;\">0.00</td><td style=\"text-align: right;\">1</td><td style=\"text-align: right;\">1.00</td><td style=\"text-align: right;\">0</td><td style=\"text-align: right;\">0.00</td><td style=\"text-align: right;\">1</td><td style=\"text-align: right;\">17.78</td><td style=\"text-align: right;\">0</td><td style=\"text-align: right;\">0.00</td><td style=\"text-align: right;\">0</td><td style=\"text-align: right;\">0.00</td><td style=\"text-align: right;\">0</td><td style=\"text-align: right;\">0.00</td><td style=\"text-align: right;\">0</td><td style=\"text-align: right;\">0.00</td><td style=\"text-align: right;\">0</td><td style=\"text-align: right;\">0.00</td></tr>\n",
       "<tr class=\"even\"><td style=\"text-align: right;\">353804</td><td style=\"text-align: right;\">136,402,778</td><td style=\"text-align: right;\">90,652</td><td style=\"text-align: right;\">21</td><td style=\"text-align: right;\">332</td><td style=\"text-align: right;\">0.00</td><td style=\"text-align: right;\">1</td><td style=\"text-align: right;\">1.00</td><td style=\"text-align: right;\">0</td><td style=\"text-align: right;\">0.00</td><td style=\"text-align: right;\">1</td><td style=\"text-align: right;\">17.78</td><td style=\"text-align: right;\">0</td><td style=\"text-align: right;\">0.00</td><td style=\"text-align: right;\">0</td><td style=\"text-align: right;\">0.00</td><td style=\"text-align: right;\">0</td><td style=\"text-align: right;\">0.00</td><td style=\"text-align: right;\">0</td><td style=\"text-align: right;\">0.00</td><td style=\"text-align: right;\">0</td><td style=\"text-align: right;\">0.00</td></tr>\n",
       "<tr><td style=\"text-align: right;\">353331</td><td style=\"text-align: right;\">135,795,222</td><td style=\"text-align: right;\">587,478</td><td style=\"text-align: right;\">67</td><td style=\"text-align: right;\">329</td><td style=\"text-align: right;\">0.00</td><td style=\"text-align: right;\">1</td><td style=\"text-align: right;\">1.00</td><td style=\"text-align: right;\">0</td><td style=\"text-align: right;\">0.00</td><td style=\"text-align: right;\">1</td><td style=\"text-align: right;\">17.78</td><td style=\"text-align: right;\">0</td><td style=\"text-align: right;\">0.00</td><td style=\"text-align: right;\">0</td><td style=\"text-align: right;\">0.00</td><td style=\"text-align: right;\">0</td><td style=\"text-align: right;\">0.00</td><td style=\"text-align: right;\">0</td><td style=\"text-align: right;\">0.00</td><td style=\"text-align: right;\">0</td><td style=\"text-align: right;\">0.00</td></tr>\n",
       "<tr class=\"even\"><td style=\"text-align: right;\">354064</td><td style=\"text-align: right;\">136,605,402</td><td style=\"text-align: right;\">19,284</td><td style=\"text-align: right;\">8</td><td style=\"text-align: right;\">328</td><td style=\"text-align: right;\">0.00</td><td style=\"text-align: right;\">1</td><td style=\"text-align: right;\">1.00</td><td style=\"text-align: right;\">0</td><td style=\"text-align: right;\">0.00</td><td style=\"text-align: right;\">1</td><td style=\"text-align: right;\">17.78</td><td style=\"text-align: right;\">0</td><td style=\"text-align: right;\">0.00</td><td style=\"text-align: right;\">0</td><td style=\"text-align: right;\">0.00</td><td style=\"text-align: right;\">0</td><td style=\"text-align: right;\">0.00</td><td style=\"text-align: right;\">0</td><td style=\"text-align: right;\">0.00</td><td style=\"text-align: right;\">0</td><td style=\"text-align: right;\">0.00</td></tr>\n",
       "<tr><td style=\"text-align: right;\">353263</td><td style=\"text-align: right;\">135,764,184</td><td style=\"text-align: right;\">345,934</td><td style=\"text-align: right;\">100</td><td style=\"text-align: right;\">279</td><td style=\"text-align: right;\">0.00</td><td style=\"text-align: right;\">1</td><td style=\"text-align: right;\">1.00</td><td style=\"text-align: right;\">0</td><td style=\"text-align: right;\">0.00</td><td style=\"text-align: right;\">1</td><td style=\"text-align: right;\">17.78</td><td style=\"text-align: right;\">0</td><td style=\"text-align: right;\">0.00</td><td style=\"text-align: right;\">0</td><td style=\"text-align: right;\">0.00</td><td style=\"text-align: right;\">0</td><td style=\"text-align: right;\">0.00</td><td style=\"text-align: right;\">0</td><td style=\"text-align: right;\">0.00</td><td style=\"text-align: right;\">0</td><td style=\"text-align: right;\">0.00</td></tr>\n",
       "<tr class=\"even\"><td style=\"text-align: right;\">353281</td><td style=\"text-align: right;\">135,771,350</td><td style=\"text-align: right;\">569,467</td><td style=\"text-align: right;\">35</td><td style=\"text-align: right;\">240</td><td style=\"text-align: right;\">0.00</td><td style=\"text-align: right;\">1</td><td style=\"text-align: right;\">1.00</td><td style=\"text-align: right;\">0</td><td style=\"text-align: right;\">0.00</td><td style=\"text-align: right;\">1</td><td style=\"text-align: right;\">17.78</td><td style=\"text-align: right;\">0</td><td style=\"text-align: right;\">0.00</td><td style=\"text-align: right;\">0</td><td style=\"text-align: right;\">0.00</td><td style=\"text-align: right;\">0</td><td style=\"text-align: right;\">0.00</td><td style=\"text-align: right;\">0</td><td style=\"text-align: right;\">0.00</td><td style=\"text-align: right;\">0</td><td style=\"text-align: right;\">0.00</td></tr>\n",
       "<tr><td style=\"text-align: right;\">354124</td><td style=\"text-align: right;\">136,651,964</td><td style=\"text-align: right;\">94,288</td><td style=\"text-align: right;\">4</td><td style=\"text-align: right;\">163</td><td style=\"text-align: right;\">0.01</td><td style=\"text-align: right;\">1</td><td style=\"text-align: right;\">1.00</td><td style=\"text-align: right;\">0</td><td style=\"text-align: right;\">0.00</td><td style=\"text-align: right;\">1</td><td style=\"text-align: right;\">17.78</td><td style=\"text-align: right;\">0</td><td style=\"text-align: right;\">0.00</td><td style=\"text-align: right;\">0</td><td style=\"text-align: right;\">0.00</td><td style=\"text-align: right;\">0</td><td style=\"text-align: right;\">0.00</td><td style=\"text-align: right;\">0</td><td style=\"text-align: right;\">0.00</td><td style=\"text-align: right;\">0</td><td style=\"text-align: right;\">0.00</td></tr>\n",
       "<tr class=\"even\"><td style=\"text-align: right;\">353909</td><td style=\"text-align: right;\">136,496,875</td><td style=\"text-align: right;\">51,331</td><td style=\"text-align: right;\">18</td><td style=\"text-align: right;\">148</td><td style=\"text-align: right;\">0.01</td><td style=\"text-align: right;\">1</td><td style=\"text-align: right;\">1.00</td><td style=\"text-align: right;\">0</td><td style=\"text-align: right;\">0.00</td><td style=\"text-align: right;\">1</td><td style=\"text-align: right;\">17.78</td><td style=\"text-align: right;\">0</td><td style=\"text-align: right;\">0.00</td><td style=\"text-align: right;\">0</td><td style=\"text-align: right;\">0.00</td><td style=\"text-align: right;\">0</td><td style=\"text-align: right;\">0.00</td><td style=\"text-align: right;\">0</td><td style=\"text-align: right;\">0.00</td><td style=\"text-align: right;\">0</td><td style=\"text-align: right;\">0.00</td></tr>\n",
       "<tr><td style=\"text-align: right;\">353992</td><td style=\"text-align: right;\">136,562,716</td><td style=\"text-align: right;\">21,998</td><td style=\"text-align: right;\">6</td><td style=\"text-align: right;\">127</td><td style=\"text-align: right;\">0.01</td><td style=\"text-align: right;\">1</td><td style=\"text-align: right;\">1.00</td><td style=\"text-align: right;\">0</td><td style=\"text-align: right;\">0.00</td><td style=\"text-align: right;\">1</td><td style=\"text-align: right;\">17.78</td><td style=\"text-align: right;\">0</td><td style=\"text-align: right;\">0.00</td><td style=\"text-align: right;\">0</td><td style=\"text-align: right;\">0.00</td><td style=\"text-align: right;\">0</td><td style=\"text-align: right;\">0.00</td><td style=\"text-align: right;\">0</td><td style=\"text-align: right;\">0.00</td><td style=\"text-align: right;\">0</td><td style=\"text-align: right;\">0.00</td></tr>\n",
       "<tr class=\"even\"><td style=\"text-align: right;\">353356</td><td style=\"text-align: right;\">135,816,295</td><td style=\"text-align: right;\">121,869</td><td style=\"text-align: right;\">7</td><td style=\"text-align: right;\">102</td><td style=\"text-align: right;\">0.01</td><td style=\"text-align: right;\">1</td><td style=\"text-align: right;\">1.00</td><td style=\"text-align: right;\">0</td><td style=\"text-align: right;\">0.00</td><td style=\"text-align: right;\">1</td><td style=\"text-align: right;\">17.78</td><td style=\"text-align: right;\">0</td><td style=\"text-align: right;\">0.00</td><td style=\"text-align: right;\">0</td><td style=\"text-align: right;\">0.00</td><td style=\"text-align: right;\">0</td><td style=\"text-align: right;\">0.00</td><td style=\"text-align: right;\">0</td><td style=\"text-align: right;\">0.00</td><td style=\"text-align: right;\">0</td><td style=\"text-align: right;\">0.00</td></tr>\n",
       "<tr><td style=\"text-align: right;\">353247</td><td style=\"text-align: right;\">135,758,713</td><td style=\"text-align: right;\">19,520</td><td style=\"text-align: right;\">6</td><td style=\"text-align: right;\">68</td><td style=\"text-align: right;\">0.01</td><td style=\"text-align: right;\">1</td><td style=\"text-align: right;\">1.00</td><td style=\"text-align: right;\">0</td><td style=\"text-align: right;\">0.00</td><td style=\"text-align: right;\">1</td><td style=\"text-align: right;\">17.78</td><td style=\"text-align: right;\">0</td><td style=\"text-align: right;\">0.00</td><td style=\"text-align: right;\">0</td><td style=\"text-align: right;\">0.00</td><td style=\"text-align: right;\">0</td><td style=\"text-align: right;\">0.00</td><td style=\"text-align: right;\">0</td><td style=\"text-align: right;\">0.00</td><td style=\"text-align: right;\">0</td><td style=\"text-align: right;\">0.00</td></tr>\n",
       "</table>"
      ],
      "text/plain": [
       "<IPython.core.display.HTML object>"
      ]
     },
     "execution_count": 13,
     "metadata": {},
     "output_type": "execute_result"
    }
   ],
   "source": [
    "HTML(plt_obj.get_html())"
   ]
  },
  {
   "cell_type": "code",
   "execution_count": 14,
   "metadata": {
    "collapsed": false
   },
   "outputs": [
    {
     "data": {
      "text/plain": [
       "array([(5, 1)], \n",
       "      dtype=[('count', '<u2'), ('snps', '<u2')])"
      ]
     },
     "execution_count": 14,
     "metadata": {},
     "output_type": "execute_result"
    }
   ],
   "source": [
    "count_data = sa_6_68.unique_snps_per_allele(am_123_1561_not_49_136)\n",
    "count_data"
   ]
  },
  {
   "cell_type": "code",
   "execution_count": 15,
   "metadata": {
    "collapsed": false
   },
   "outputs": [
    {
     "data": {
      "text/plain": [
       "array([1, 1, 1, 1, 1, 0])"
      ]
     },
     "execution_count": 15,
     "metadata": {},
     "output_type": "execute_result"
    }
   ],
   "source": [
    "sa_6_68.alleles_per_snp(am_123_1561_not_49_136)"
   ]
  },
  {
   "cell_type": "code",
   "execution_count": 16,
   "metadata": {
    "collapsed": false
   },
   "outputs": [
    {
     "data": {
      "text/plain": [
       "array([(0, 1)], \n",
       "      dtype=[('count', '<u2'), ('snps', '<u2')])"
      ]
     },
     "execution_count": 16,
     "metadata": {},
     "output_type": "execute_result"
    }
   ],
   "source": [
    "count_data = sa_49_136.unique_snps_per_allele(am_123_1561_not_49_136)\n",
    "count_data"
   ]
  },
  {
   "cell_type": "code",
   "execution_count": 17,
   "metadata": {
    "collapsed": false
   },
   "outputs": [
    {
     "data": {
      "text/html": [
       "\n",
       "\n",
       "    <div class=\"bk-root\">\n",
       "        <div class=\"plotdiv\" id=\"e8b430e3-57fb-4cdc-92a3-589ddeca0984\"></div>\n",
       "    </div>\n",
       "<script type=\"text/javascript\">\n",
       "  \n",
       "  (function(global) {\n",
       "    function now() {\n",
       "      return new Date();\n",
       "    }\n",
       "  \n",
       "    if (typeof (window._bokeh_onload_callbacks) === \"undefined\") {\n",
       "      window._bokeh_onload_callbacks = [];\n",
       "    }\n",
       "  \n",
       "    function run_callbacks() {\n",
       "      window._bokeh_onload_callbacks.forEach(function(callback) { callback() });\n",
       "      delete window._bokeh_onload_callbacks\n",
       "      console.info(\"Bokeh: all callbacks have finished\");\n",
       "    }\n",
       "  \n",
       "    function load_libs(js_urls, callback) {\n",
       "      window._bokeh_onload_callbacks.push(callback);\n",
       "      if (window._bokeh_is_loading > 0) {\n",
       "        console.log(\"Bokeh: BokehJS is being loaded, scheduling callback at\", now());\n",
       "        return null;\n",
       "      }\n",
       "      if (js_urls == null || js_urls.length === 0) {\n",
       "        run_callbacks();\n",
       "        return null;\n",
       "      }\n",
       "      console.log(\"Bokeh: BokehJS not loaded, scheduling load and callback at\", now());\n",
       "      window._bokeh_is_loading = js_urls.length;\n",
       "      for (var i = 0; i < js_urls.length; i++) {\n",
       "        var url = js_urls[i];\n",
       "        var s = document.createElement('script');\n",
       "        s.src = url;\n",
       "        s.async = false;\n",
       "        s.onreadystatechange = s.onload = function() {\n",
       "          window._bokeh_is_loading--;\n",
       "          if (window._bokeh_is_loading === 0) {\n",
       "            console.log(\"Bokeh: all BokehJS libraries loaded\");\n",
       "            run_callbacks()\n",
       "          }\n",
       "        };\n",
       "        s.onerror = function() {\n",
       "          console.warn(\"failed to load library \" + url);\n",
       "        };\n",
       "        console.log(\"Bokeh: injecting script tag for BokehJS library: \", url);\n",
       "        document.getElementsByTagName(\"head\")[0].appendChild(s);\n",
       "      }\n",
       "    };var element = document.getElementById(\"e8b430e3-57fb-4cdc-92a3-589ddeca0984\");\n",
       "    if (element == null) {\n",
       "      console.log(\"Bokeh: ERROR: autoload.js configured with elementid 'e8b430e3-57fb-4cdc-92a3-589ddeca0984' but no matching script tag was found. \")\n",
       "      return false;\n",
       "    }\n",
       "  \n",
       "    var js_urls = [];\n",
       "  \n",
       "    var inline_js = [\n",
       "      function(Bokeh) {\n",
       "        Bokeh.$(function() {\n",
       "            var docs_json = {\"d91e037e-eaaf-4808-b93e-794f6829a1d0\":{\"roots\":{\"references\":[{\"attributes\":{\"overlay\":{\"id\":\"0b63a523-57ce-4dcb-90d1-6e2c6a7b9996\",\"type\":\"BoxAnnotation\"},\"plot\":{\"id\":\"8f3e2a1e-e90a-4abc-ad19-195779ed833c\",\"subtype\":\"Figure\",\"type\":\"Plot\"}},\"id\":\"b9385fca-0767-45e5-bda8-6716c5a92324\",\"type\":\"BoxZoomTool\"},{\"attributes\":{\"bottom_units\":\"screen\",\"fill_alpha\":{\"value\":0.5},\"fill_color\":{\"value\":\"lightgrey\"},\"left_units\":\"screen\",\"level\":\"overlay\",\"line_alpha\":{\"value\":1.0},\"line_color\":{\"value\":\"black\"},\"line_dash\":[4,4],\"line_width\":{\"value\":2},\"plot\":null,\"render_mode\":\"css\",\"right_units\":\"screen\",\"top_units\":\"screen\"},\"id\":\"0b63a523-57ce-4dcb-90d1-6e2c6a7b9996\",\"type\":\"BoxAnnotation\"},{\"attributes\":{\"plot\":{\"id\":\"8f3e2a1e-e90a-4abc-ad19-195779ed833c\",\"subtype\":\"Figure\",\"type\":\"Plot\"}},\"id\":\"033cda16-4d83-4bd0-9f50-200e50247c0e\",\"type\":\"PanTool\"},{\"attributes\":{},\"id\":\"60c724a3-9fac-4ec3-b02b-5de07664a139\",\"type\":\"BasicTicker\"},{\"attributes\":{\"data_source\":{\"id\":\"31d99c54-26ec-426b-ab6c-df796c03e916\",\"type\":\"ColumnDataSource\"},\"glyph\":{\"id\":\"1e15ecd1-6411-46ec-ad84-35bef39d0883\",\"type\":\"Line\"},\"hover_glyph\":null,\"nonselection_glyph\":{\"id\":\"9a81a6ca-5945-4bd3-bc9c-66c7809584ce\",\"type\":\"Line\"},\"selection_glyph\":null},\"id\":\"cc7676fe-5914-466e-aa5a-9f5d3c446c9e\",\"type\":\"GlyphRenderer\"},{\"attributes\":{\"plot\":{\"id\":\"8f3e2a1e-e90a-4abc-ad19-195779ed833c\",\"subtype\":\"Figure\",\"type\":\"Plot\"}},\"id\":\"73efca6f-f399-4c7d-982d-60c4197202a8\",\"type\":\"WheelZoomTool\"},{\"attributes\":{\"formatter\":{\"id\":\"73d070af-a7b3-4a9b-8c65-8543cbacc27e\",\"type\":\"BasicTickFormatter\"},\"plot\":{\"id\":\"8f3e2a1e-e90a-4abc-ad19-195779ed833c\",\"subtype\":\"Figure\",\"type\":\"Plot\"},\"ticker\":{\"id\":\"60c724a3-9fac-4ec3-b02b-5de07664a139\",\"type\":\"BasicTicker\"}},\"id\":\"c319a400-fec1-4d2b-bf12-51700604b083\",\"type\":\"LinearAxis\"},{\"attributes\":{\"below\":[{\"id\":\"68238a49-c2b5-4f88-a238-4619fb00faf4\",\"type\":\"LinearAxis\"}],\"left\":[{\"id\":\"c319a400-fec1-4d2b-bf12-51700604b083\",\"type\":\"LinearAxis\"}],\"plot_height\":400,\"plot_width\":900,\"renderers\":[{\"id\":\"68238a49-c2b5-4f88-a238-4619fb00faf4\",\"type\":\"LinearAxis\"},{\"id\":\"5c6876bd-4fce-46e2-9c2e-f8a5ca18cdd3\",\"type\":\"Grid\"},{\"id\":\"c319a400-fec1-4d2b-bf12-51700604b083\",\"type\":\"LinearAxis\"},{\"id\":\"d945fab8-9817-4ae4-ac61-698c2873fbd5\",\"type\":\"Grid\"},{\"id\":\"0b63a523-57ce-4dcb-90d1-6e2c6a7b9996\",\"type\":\"BoxAnnotation\"},{\"id\":\"cc7676fe-5914-466e-aa5a-9f5d3c446c9e\",\"type\":\"GlyphRenderer\"}],\"title\":{\"id\":\"d2afec2a-37f3-406e-a378-67126acebfa2\",\"type\":\"Title\"},\"tool_events\":{\"id\":\"099ed580-e1cc-4bf3-9ea2-b466bcfcd4cb\",\"type\":\"ToolEvents\"},\"toolbar\":{\"id\":\"96509968-7444-4b08-9096-da09dc84eab6\",\"type\":\"Toolbar\"},\"toolbar_location\":null,\"x_range\":{\"id\":\"65c910f5-fa56-4b1f-b833-c8ff71b16cb3\",\"type\":\"Range1d\"},\"y_range\":{\"id\":\"3d8c30ab-0f83-47d1-bdc5-d309b5a05dcf\",\"type\":\"Range1d\"}},\"id\":\"8f3e2a1e-e90a-4abc-ad19-195779ed833c\",\"subtype\":\"Figure\",\"type\":\"Plot\"},{\"attributes\":{\"dimension\":1,\"plot\":{\"id\":\"8f3e2a1e-e90a-4abc-ad19-195779ed833c\",\"subtype\":\"Figure\",\"type\":\"Plot\"},\"ticker\":{\"id\":\"60c724a3-9fac-4ec3-b02b-5de07664a139\",\"type\":\"BasicTicker\"}},\"id\":\"d945fab8-9817-4ae4-ac61-698c2873fbd5\",\"type\":\"Grid\"},{\"attributes\":{\"active_drag\":\"auto\",\"active_scroll\":\"auto\",\"active_tap\":\"auto\",\"tools\":[{\"id\":\"033cda16-4d83-4bd0-9f50-200e50247c0e\",\"type\":\"PanTool\"},{\"id\":\"73efca6f-f399-4c7d-982d-60c4197202a8\",\"type\":\"WheelZoomTool\"},{\"id\":\"b9385fca-0767-45e5-bda8-6716c5a92324\",\"type\":\"BoxZoomTool\"},{\"id\":\"4dbfe386-c4b2-443f-a6a5-7a58c49e7739\",\"type\":\"SaveTool\"},{\"id\":\"231f5bc8-b895-49fb-9f53-c3d5fd9de2e4\",\"type\":\"ResetTool\"},{\"id\":\"c8adaeba-1418-47f7-9b7d-ee2c5d0cb0dd\",\"type\":\"HelpTool\"}]},\"id\":\"96509968-7444-4b08-9096-da09dc84eab6\",\"type\":\"Toolbar\"},{\"attributes\":{\"callback\":null,\"end\":118.5,\"start\":-0.5},\"id\":\"65c910f5-fa56-4b1f-b833-c8ff71b16cb3\",\"type\":\"Range1d\"},{\"attributes\":{\"plot\":null,\"text\":null},\"id\":\"d2afec2a-37f3-406e-a378-67126acebfa2\",\"type\":\"Title\"},{\"attributes\":{},\"id\":\"73d070af-a7b3-4a9b-8c65-8543cbacc27e\",\"type\":\"BasicTickFormatter\"},{\"attributes\":{\"plot\":{\"id\":\"8f3e2a1e-e90a-4abc-ad19-195779ed833c\",\"subtype\":\"Figure\",\"type\":\"Plot\"},\"ticker\":{\"id\":\"00d1ea62-86c1-40cf-a0ae-87897f967aef\",\"type\":\"BasicTicker\"}},\"id\":\"5c6876bd-4fce-46e2-9c2e-f8a5ca18cdd3\",\"type\":\"Grid\"},{\"attributes\":{},\"id\":\"fa9fd32e-3cac-453d-af25-b4136e42dd68\",\"type\":\"BasicTickFormatter\"},{\"attributes\":{\"plot\":{\"id\":\"8f3e2a1e-e90a-4abc-ad19-195779ed833c\",\"subtype\":\"Figure\",\"type\":\"Plot\"}},\"id\":\"231f5bc8-b895-49fb-9f53-c3d5fd9de2e4\",\"type\":\"ResetTool\"},{\"attributes\":{\"callback\":null,\"column_names\":[\"y\",\"x\"],\"data\":{\"x\":[-0.5,-0.5,113.5,113.5,114.5,114.5,115.5,115.5,116.5,116.5,117.5,117.5],\"y\":[0.0,0.0,0.0,2.0,2.0,6.0,6.0,58.0,58.0,2.0,2.0,0.0]}},\"id\":\"31d99c54-26ec-426b-ab6c-df796c03e916\",\"type\":\"ColumnDataSource\"},{\"attributes\":{\"formatter\":{\"id\":\"fa9fd32e-3cac-453d-af25-b4136e42dd68\",\"type\":\"BasicTickFormatter\"},\"plot\":{\"id\":\"8f3e2a1e-e90a-4abc-ad19-195779ed833c\",\"subtype\":\"Figure\",\"type\":\"Plot\"},\"ticker\":{\"id\":\"00d1ea62-86c1-40cf-a0ae-87897f967aef\",\"type\":\"BasicTicker\"}},\"id\":\"68238a49-c2b5-4f88-a238-4619fb00faf4\",\"type\":\"LinearAxis\"},{\"attributes\":{\"plot\":{\"id\":\"8f3e2a1e-e90a-4abc-ad19-195779ed833c\",\"subtype\":\"Figure\",\"type\":\"Plot\"}},\"id\":\"4dbfe386-c4b2-443f-a6a5-7a58c49e7739\",\"type\":\"SaveTool\"},{\"attributes\":{\"line_alpha\":{\"value\":0.1},\"line_color\":{\"value\":\"#1f77b4\"},\"x\":{\"field\":\"x\"},\"y\":{\"field\":\"y\"}},\"id\":\"9a81a6ca-5945-4bd3-bc9c-66c7809584ce\",\"type\":\"Line\"},{\"attributes\":{},\"id\":\"00d1ea62-86c1-40cf-a0ae-87897f967aef\",\"type\":\"BasicTicker\"},{\"attributes\":{\"line_color\":{\"value\":\"#1f77b4\"},\"x\":{\"field\":\"x\"},\"y\":{\"field\":\"y\"}},\"id\":\"1e15ecd1-6411-46ec-ad84-35bef39d0883\",\"type\":\"Line\"},{\"attributes\":{\"callback\":null,\"end\":63.800000000000004},\"id\":\"3d8c30ab-0f83-47d1-bdc5-d309b5a05dcf\",\"type\":\"Range1d\"},{\"attributes\":{},\"id\":\"099ed580-e1cc-4bf3-9ea2-b466bcfcd4cb\",\"type\":\"ToolEvents\"},{\"attributes\":{\"plot\":{\"id\":\"8f3e2a1e-e90a-4abc-ad19-195779ed833c\",\"subtype\":\"Figure\",\"type\":\"Plot\"}},\"id\":\"c8adaeba-1418-47f7-9b7d-ee2c5d0cb0dd\",\"type\":\"HelpTool\"}],\"root_ids\":[\"8f3e2a1e-e90a-4abc-ad19-195779ed833c\"]},\"title\":\"Bokeh Application\",\"version\":\"0.12.0\"}};\n",
       "            var render_items = [{\"docid\":\"d91e037e-eaaf-4808-b93e-794f6829a1d0\",\"elementid\":\"e8b430e3-57fb-4cdc-92a3-589ddeca0984\",\"modelid\":\"8f3e2a1e-e90a-4abc-ad19-195779ed833c\",\"notebook_comms_target\":\"dacee9c9-5d67-4b15-9951-2a1f1bce7737\"}];\n",
       "            \n",
       "            Bokeh.embed.embed_items(docs_json, render_items);\n",
       "        });\n",
       "      },\n",
       "      function(Bokeh) {\n",
       "      }\n",
       "    ];\n",
       "  \n",
       "    function run_inline_js() {\n",
       "      for (var i = 0; i < inline_js.length; i++) {\n",
       "        inline_js[i](window.Bokeh);\n",
       "      }\n",
       "    }\n",
       "  \n",
       "    if (window._bokeh_is_loading === 0) {\n",
       "      console.log(\"Bokeh: BokehJS loaded, going straight to plotting\");\n",
       "      run_inline_js();\n",
       "    } else {\n",
       "      load_libs(js_urls, function() {\n",
       "        console.log(\"Bokeh: BokehJS plotting callback run at\", now());\n",
       "        run_inline_js();\n",
       "      });\n",
       "    }\n",
       "  }(this));\n",
       "</script>"
      ]
     },
     "metadata": {},
     "output_type": "display_data"
    },
    {
     "data": {
      "text/html": [
       "<p><code>&lt;Bokeh Notebook handle for <strong>In[17]</strong>&gt;</code></p>"
      ],
      "text/plain": [
       "<bokeh.io._CommsHandle at 0x7fea80e01c90>"
      ]
     },
     "execution_count": 17,
     "metadata": {},
     "output_type": "execute_result"
    }
   ],
   "source": [
    "count_data = sa_117_1685.unique_snps_per_allele(am_6_68)\n",
    "plt_obj = smcp(count_data)\n",
    "plt = plt_obj.do_plot()\n",
    "show(plt)"
   ]
  },
  {
   "cell_type": "code",
   "execution_count": 18,
   "metadata": {
    "collapsed": false
   },
   "outputs": [
    {
     "data": {
      "text/plain": [
       "array([(114, 2), (115, 6), (116, 58), (117, 2)], \n",
       "      dtype=[('count', '<u2'), ('snps', '<u2')])"
      ]
     },
     "execution_count": 18,
     "metadata": {},
     "output_type": "execute_result"
    }
   ],
   "source": [
    "count_data"
   ]
  },
  {
   "cell_type": "code",
   "execution_count": 19,
   "metadata": {
    "collapsed": false
   },
   "outputs": [
    {
     "data": {
      "text/plain": [
       "array([58, 58, 58, 58, 58, 58, 58, 58, 58, 58, 58, 58, 58, 58, 58, 58, 58,\n",
       "       58, 58, 58, 58, 58, 58, 58, 58, 58, 58, 58, 58, 58, 58, 58, 58, 58,\n",
       "       58, 58, 58, 58, 58, 58, 58, 58, 58, 58, 58, 58, 58, 58, 58, 58, 58,\n",
       "       58, 58, 58, 57, 58, 58, 58, 58, 58, 58, 58, 58, 58, 54, 58, 58, 58,\n",
       "       58, 58, 58, 58, 58, 58, 58, 58, 58,  5, 58, 58, 58, 58, 58, 58, 58,\n",
       "       58, 58, 58, 58, 58, 58, 58, 58, 58, 58, 58, 58, 58, 58, 58, 58, 58,\n",
       "       58, 58, 58, 58, 58, 58, 58, 58, 58, 58, 58, 58, 58, 58, 58])"
      ]
     },
     "execution_count": 19,
     "metadata": {},
     "output_type": "execute_result"
    }
   ],
   "source": [
    "aps_116, am_116 = an.sa_117_1685.snps_from_aps_value(116, am_6_68)\n",
    "aps_116"
   ]
  },
  {
   "cell_type": "code",
   "execution_count": 20,
   "metadata": {
    "collapsed": false
   },
   "outputs": [
    {
     "data": {
      "text/html": [
       "\n",
       "\n",
       "    <div class=\"bk-root\">\n",
       "        <div class=\"plotdiv\" id=\"ee74ef13-f7a7-4cb9-a66a-ddbc6502b58b\"></div>\n",
       "    </div>\n",
       "<script type=\"text/javascript\">\n",
       "  \n",
       "  (function(global) {\n",
       "    function now() {\n",
       "      return new Date();\n",
       "    }\n",
       "  \n",
       "    if (typeof (window._bokeh_onload_callbacks) === \"undefined\") {\n",
       "      window._bokeh_onload_callbacks = [];\n",
       "    }\n",
       "  \n",
       "    function run_callbacks() {\n",
       "      window._bokeh_onload_callbacks.forEach(function(callback) { callback() });\n",
       "      delete window._bokeh_onload_callbacks\n",
       "      console.info(\"Bokeh: all callbacks have finished\");\n",
       "    }\n",
       "  \n",
       "    function load_libs(js_urls, callback) {\n",
       "      window._bokeh_onload_callbacks.push(callback);\n",
       "      if (window._bokeh_is_loading > 0) {\n",
       "        console.log(\"Bokeh: BokehJS is being loaded, scheduling callback at\", now());\n",
       "        return null;\n",
       "      }\n",
       "      if (js_urls == null || js_urls.length === 0) {\n",
       "        run_callbacks();\n",
       "        return null;\n",
       "      }\n",
       "      console.log(\"Bokeh: BokehJS not loaded, scheduling load and callback at\", now());\n",
       "      window._bokeh_is_loading = js_urls.length;\n",
       "      for (var i = 0; i < js_urls.length; i++) {\n",
       "        var url = js_urls[i];\n",
       "        var s = document.createElement('script');\n",
       "        s.src = url;\n",
       "        s.async = false;\n",
       "        s.onreadystatechange = s.onload = function() {\n",
       "          window._bokeh_is_loading--;\n",
       "          if (window._bokeh_is_loading === 0) {\n",
       "            console.log(\"Bokeh: all BokehJS libraries loaded\");\n",
       "            run_callbacks()\n",
       "          }\n",
       "        };\n",
       "        s.onerror = function() {\n",
       "          console.warn(\"failed to load library \" + url);\n",
       "        };\n",
       "        console.log(\"Bokeh: injecting script tag for BokehJS library: \", url);\n",
       "        document.getElementsByTagName(\"head\")[0].appendChild(s);\n",
       "      }\n",
       "    };var element = document.getElementById(\"ee74ef13-f7a7-4cb9-a66a-ddbc6502b58b\");\n",
       "    if (element == null) {\n",
       "      console.log(\"Bokeh: ERROR: autoload.js configured with elementid 'ee74ef13-f7a7-4cb9-a66a-ddbc6502b58b' but no matching script tag was found. \")\n",
       "      return false;\n",
       "    }\n",
       "  \n",
       "    var js_urls = [];\n",
       "  \n",
       "    var inline_js = [\n",
       "      function(Bokeh) {\n",
       "        Bokeh.$(function() {\n",
       "            var docs_json = {\"ebb8ac51-2a81-4869-9fe6-afdb53a90b11\":{\"roots\":{\"references\":[{\"attributes\":{\"plot\":{\"id\":\"9d74a6bb-dc68-4d32-92e8-fba60f4da1b0\",\"subtype\":\"Figure\",\"type\":\"Plot\"}},\"id\":\"09045805-6c04-4331-8eec-69aa1afc703f\",\"type\":\"HelpTool\"},{\"attributes\":{\"plot\":null,\"text\":null},\"id\":\"4ba93917-aec1-43db-8eb0-d8ab939af5c6\",\"type\":\"Title\"},{\"attributes\":{\"overlay\":{\"id\":\"a12f3b1d-2716-4582-9e37-245878800fe7\",\"type\":\"BoxAnnotation\"},\"plot\":{\"id\":\"9d74a6bb-dc68-4d32-92e8-fba60f4da1b0\",\"subtype\":\"Figure\",\"type\":\"Plot\"}},\"id\":\"b46f5207-6e44-4417-a829-056b084bd111\",\"type\":\"BoxZoomTool\"},{\"attributes\":{\"below\":[{\"id\":\"0f00247f-7043-4297-943b-d739244818c1\",\"type\":\"LinearAxis\"}],\"left\":[{\"id\":\"51997cd7-5cc9-4d91-b468-9d1be9b3c607\",\"type\":\"LinearAxis\"}],\"plot_height\":400,\"plot_width\":900,\"renderers\":[{\"id\":\"0f00247f-7043-4297-943b-d739244818c1\",\"type\":\"LinearAxis\"},{\"id\":\"4ed5afda-5e7e-4d37-bdd3-fc751f16544d\",\"type\":\"Grid\"},{\"id\":\"51997cd7-5cc9-4d91-b468-9d1be9b3c607\",\"type\":\"LinearAxis\"},{\"id\":\"ef57c3d1-e120-40aa-ac97-f067f4675358\",\"type\":\"Grid\"},{\"id\":\"a12f3b1d-2716-4582-9e37-245878800fe7\",\"type\":\"BoxAnnotation\"},{\"id\":\"d0ec304c-fabc-4241-93e9-57fabc6438c7\",\"type\":\"GlyphRenderer\"}],\"title\":{\"id\":\"4ba93917-aec1-43db-8eb0-d8ab939af5c6\",\"type\":\"Title\"},\"tool_events\":{\"id\":\"a0b9af46-dd81-4f27-89b7-c2f518a3c242\",\"type\":\"ToolEvents\"},\"toolbar\":{\"id\":\"676c766d-5070-4308-9702-63f347d61526\",\"type\":\"Toolbar\"},\"toolbar_location\":null,\"x_range\":{\"id\":\"313a6729-a775-4066-b771-17be79b671e2\",\"type\":\"Range1d\"},\"y_range\":{\"id\":\"2ca8092a-a40c-4d3e-80a9-0af7436cf831\",\"type\":\"Range1d\"}},\"id\":\"9d74a6bb-dc68-4d32-92e8-fba60f4da1b0\",\"subtype\":\"Figure\",\"type\":\"Plot\"},{\"attributes\":{\"plot\":{\"id\":\"9d74a6bb-dc68-4d32-92e8-fba60f4da1b0\",\"subtype\":\"Figure\",\"type\":\"Plot\"}},\"id\":\"86dbd068-e6b1-487a-abcf-c73d1d952e14\",\"type\":\"PanTool\"},{\"attributes\":{},\"id\":\"227946e4-5098-4511-ac36-e368e90d0ff4\",\"type\":\"BasicTickFormatter\"},{\"attributes\":{},\"id\":\"1ecbd492-4a76-454f-b918-c7503134139b\",\"type\":\"BasicTicker\"},{\"attributes\":{},\"id\":\"a0b9af46-dd81-4f27-89b7-c2f518a3c242\",\"type\":\"ToolEvents\"},{\"attributes\":{\"callback\":null,\"column_names\":[\"y\",\"x\"],\"data\":{\"x\":[-0.5,-0.5,105.5,105.5,106.5,106.5,107.5,107.5,108.5,108.5,109.5,109.5,110.5,110.5,122.5,122.5,123.5,123.5],\"y\":[0.0,0.0,0.0,1.0,1.0,3.0,3.0,2.0,2.0,44.0,44.0,17.0,17.0,0.0,0.0,1.0,1.0,0.0]}},\"id\":\"341ea4a9-d33f-4230-88d6-3b149062f7b3\",\"type\":\"ColumnDataSource\"},{\"attributes\":{\"callback\":null,\"end\":48.400000000000006},\"id\":\"2ca8092a-a40c-4d3e-80a9-0af7436cf831\",\"type\":\"Range1d\"},{\"attributes\":{},\"id\":\"73ec879f-bcc2-44f9-892e-95c4a6e0ae5f\",\"type\":\"BasicTicker\"},{\"attributes\":{\"callback\":null,\"end\":124.5,\"start\":-0.5},\"id\":\"313a6729-a775-4066-b771-17be79b671e2\",\"type\":\"Range1d\"},{\"attributes\":{\"plot\":{\"id\":\"9d74a6bb-dc68-4d32-92e8-fba60f4da1b0\",\"subtype\":\"Figure\",\"type\":\"Plot\"}},\"id\":\"41b99c95-97d4-4952-981e-47d517e82d64\",\"type\":\"WheelZoomTool\"},{\"attributes\":{\"plot\":{\"id\":\"9d74a6bb-dc68-4d32-92e8-fba60f4da1b0\",\"subtype\":\"Figure\",\"type\":\"Plot\"}},\"id\":\"afd7d96a-1945-473b-970d-fad79c4aae2d\",\"type\":\"SaveTool\"},{\"attributes\":{\"line_color\":{\"value\":\"#1f77b4\"},\"x\":{\"field\":\"x\"},\"y\":{\"field\":\"y\"}},\"id\":\"9c34f772-4571-4a88-bb87-9f145662a604\",\"type\":\"Line\"},{\"attributes\":{\"formatter\":{\"id\":\"227946e4-5098-4511-ac36-e368e90d0ff4\",\"type\":\"BasicTickFormatter\"},\"plot\":{\"id\":\"9d74a6bb-dc68-4d32-92e8-fba60f4da1b0\",\"subtype\":\"Figure\",\"type\":\"Plot\"},\"ticker\":{\"id\":\"1ecbd492-4a76-454f-b918-c7503134139b\",\"type\":\"BasicTicker\"}},\"id\":\"51997cd7-5cc9-4d91-b468-9d1be9b3c607\",\"type\":\"LinearAxis\"},{\"attributes\":{\"bottom_units\":\"screen\",\"fill_alpha\":{\"value\":0.5},\"fill_color\":{\"value\":\"lightgrey\"},\"left_units\":\"screen\",\"level\":\"overlay\",\"line_alpha\":{\"value\":1.0},\"line_color\":{\"value\":\"black\"},\"line_dash\":[4,4],\"line_width\":{\"value\":2},\"plot\":null,\"render_mode\":\"css\",\"right_units\":\"screen\",\"top_units\":\"screen\"},\"id\":\"a12f3b1d-2716-4582-9e37-245878800fe7\",\"type\":\"BoxAnnotation\"},{\"attributes\":{\"plot\":{\"id\":\"9d74a6bb-dc68-4d32-92e8-fba60f4da1b0\",\"subtype\":\"Figure\",\"type\":\"Plot\"},\"ticker\":{\"id\":\"73ec879f-bcc2-44f9-892e-95c4a6e0ae5f\",\"type\":\"BasicTicker\"}},\"id\":\"4ed5afda-5e7e-4d37-bdd3-fc751f16544d\",\"type\":\"Grid\"},{\"attributes\":{\"plot\":{\"id\":\"9d74a6bb-dc68-4d32-92e8-fba60f4da1b0\",\"subtype\":\"Figure\",\"type\":\"Plot\"}},\"id\":\"5ecf8791-4782-4e3b-9515-4bcc5383c9bb\",\"type\":\"ResetTool\"},{\"attributes\":{\"active_drag\":\"auto\",\"active_scroll\":\"auto\",\"active_tap\":\"auto\",\"tools\":[{\"id\":\"86dbd068-e6b1-487a-abcf-c73d1d952e14\",\"type\":\"PanTool\"},{\"id\":\"41b99c95-97d4-4952-981e-47d517e82d64\",\"type\":\"WheelZoomTool\"},{\"id\":\"b46f5207-6e44-4417-a829-056b084bd111\",\"type\":\"BoxZoomTool\"},{\"id\":\"afd7d96a-1945-473b-970d-fad79c4aae2d\",\"type\":\"SaveTool\"},{\"id\":\"5ecf8791-4782-4e3b-9515-4bcc5383c9bb\",\"type\":\"ResetTool\"},{\"id\":\"09045805-6c04-4331-8eec-69aa1afc703f\",\"type\":\"HelpTool\"}]},\"id\":\"676c766d-5070-4308-9702-63f347d61526\",\"type\":\"Toolbar\"},{\"attributes\":{\"formatter\":{\"id\":\"2747090e-afef-402d-976d-83ef4fafbf7b\",\"type\":\"BasicTickFormatter\"},\"plot\":{\"id\":\"9d74a6bb-dc68-4d32-92e8-fba60f4da1b0\",\"subtype\":\"Figure\",\"type\":\"Plot\"},\"ticker\":{\"id\":\"73ec879f-bcc2-44f9-892e-95c4a6e0ae5f\",\"type\":\"BasicTicker\"}},\"id\":\"0f00247f-7043-4297-943b-d739244818c1\",\"type\":\"LinearAxis\"},{\"attributes\":{\"dimension\":1,\"plot\":{\"id\":\"9d74a6bb-dc68-4d32-92e8-fba60f4da1b0\",\"subtype\":\"Figure\",\"type\":\"Plot\"},\"ticker\":{\"id\":\"1ecbd492-4a76-454f-b918-c7503134139b\",\"type\":\"BasicTicker\"}},\"id\":\"ef57c3d1-e120-40aa-ac97-f067f4675358\",\"type\":\"Grid\"},{\"attributes\":{},\"id\":\"2747090e-afef-402d-976d-83ef4fafbf7b\",\"type\":\"BasicTickFormatter\"},{\"attributes\":{\"line_alpha\":{\"value\":0.1},\"line_color\":{\"value\":\"#1f77b4\"},\"x\":{\"field\":\"x\"},\"y\":{\"field\":\"y\"}},\"id\":\"2bf0ced1-5b82-41b8-b234-c8bc555825ae\",\"type\":\"Line\"},{\"attributes\":{\"data_source\":{\"id\":\"341ea4a9-d33f-4230-88d6-3b149062f7b3\",\"type\":\"ColumnDataSource\"},\"glyph\":{\"id\":\"9c34f772-4571-4a88-bb87-9f145662a604\",\"type\":\"Line\"},\"hover_glyph\":null,\"nonselection_glyph\":{\"id\":\"2bf0ced1-5b82-41b8-b234-c8bc555825ae\",\"type\":\"Line\"},\"selection_glyph\":null},\"id\":\"d0ec304c-fabc-4241-93e9-57fabc6438c7\",\"type\":\"GlyphRenderer\"}],\"root_ids\":[\"9d74a6bb-dc68-4d32-92e8-fba60f4da1b0\"]},\"title\":\"Bokeh Application\",\"version\":\"0.12.0\"}};\n",
       "            var render_items = [{\"docid\":\"ebb8ac51-2a81-4869-9fe6-afdb53a90b11\",\"elementid\":\"ee74ef13-f7a7-4cb9-a66a-ddbc6502b58b\",\"modelid\":\"9d74a6bb-dc68-4d32-92e8-fba60f4da1b0\",\"notebook_comms_target\":\"37796aaf-8e5a-412e-a6bc-729227d7da2e\"}];\n",
       "            \n",
       "            Bokeh.embed.embed_items(docs_json, render_items);\n",
       "        });\n",
       "      },\n",
       "      function(Bokeh) {\n",
       "      }\n",
       "    ];\n",
       "  \n",
       "    function run_inline_js() {\n",
       "      for (var i = 0; i < inline_js.length; i++) {\n",
       "        inline_js[i](window.Bokeh);\n",
       "      }\n",
       "    }\n",
       "  \n",
       "    if (window._bokeh_is_loading === 0) {\n",
       "      console.log(\"Bokeh: BokehJS loaded, going straight to plotting\");\n",
       "      run_inline_js();\n",
       "    } else {\n",
       "      load_libs(js_urls, function() {\n",
       "        console.log(\"Bokeh: BokehJS plotting callback run at\", now());\n",
       "        run_inline_js();\n",
       "      });\n",
       "    }\n",
       "  }(this));\n",
       "</script>"
      ]
     },
     "metadata": {},
     "output_type": "display_data"
    },
    {
     "data": {
      "text/html": [
       "<p><code>&lt;Bokeh Notebook handle for <strong>In[20]</strong>&gt;</code></p>"
      ],
      "text/plain": [
       "<bokeh.io._CommsHandle at 0x7feab0072d50>"
      ]
     },
     "execution_count": 20,
     "metadata": {},
     "output_type": "execute_result"
    }
   ],
   "source": [
    "count_data = sa_123_1561.unique_snps_per_allele(am_6_68)\n",
    "plt_obj = smcp(count_data)\n",
    "plt = plt_obj.do_plot()\n",
    "show(plt)"
   ]
  },
  {
   "cell_type": "code",
   "execution_count": 21,
   "metadata": {
    "collapsed": false
   },
   "outputs": [
    {
     "data": {
      "text/plain": [
       "array([(106, 1), (107, 3), (108, 2), (109, 44), (110, 17), (123, 1)], \n",
       "      dtype=[('count', '<u2'), ('snps', '<u2')])"
      ]
     },
     "execution_count": 21,
     "metadata": {},
     "output_type": "execute_result"
    }
   ],
   "source": [
    "count_data"
   ]
  },
  {
   "cell_type": "code",
   "execution_count": 22,
   "metadata": {
    "collapsed": false
   },
   "outputs": [
    {
     "data": {
      "text/plain": [
       "array([17, 17, 17, 17,  0, 17,  0, 17, 17,  0,  1, 17, 17, 17,  0, 16,  4,\n",
       "        0, 17, 17,  0, 17, 17,  0, 17, 17, 17, 17, 17, 17, 17, 17,  0, 17,\n",
       "       17, 17, 17, 17, 17, 17, 17, 17, 17, 17, 17, 17, 17, 17, 17, 17, 17,\n",
       "       17, 17, 17, 17, 17, 17, 17, 17, 17, 17,  0, 17, 17, 17, 17, 17, 17,\n",
       "       17, 17, 17, 17, 17, 17, 17, 17, 17, 17, 17, 13, 17, 17, 17, 17,  0,\n",
       "       17, 17, 17, 17, 17, 17, 17, 17, 17, 17, 17, 17, 17, 17, 17, 17, 17,\n",
       "       17, 17, 17,  0, 17, 17, 17, 17, 17, 17, 17, 17, 17, 17, 17, 17, 17,\n",
       "       17, 17, 17, 17])"
      ]
     },
     "execution_count": 22,
     "metadata": {},
     "output_type": "execute_result"
    }
   ],
   "source": [
    "aps_110, am_110 = an.sa_123_1561.snps_from_aps_value(110, am_6_68)\n",
    "aps_110"
   ]
  },
  {
   "cell_type": "code",
   "execution_count": 23,
   "metadata": {
    "collapsed": false
   },
   "outputs": [
    {
     "data": {
      "text/plain": [
       "array([44, 44, 44, 44,  0, 44,  0, 44, 44,  0,  0, 44, 44, 44,  0,  0,  0,\n",
       "        0, 44, 44,  0, 44, 44,  0, 44, 44, 44, 44, 44, 44, 44, 44,  0, 44,\n",
       "       44, 44, 44, 44, 44, 44, 44, 44, 44, 44, 44, 44, 44, 44, 44, 44, 44,\n",
       "       44, 44, 44, 44, 44, 44, 44, 44, 44, 44,  0, 44, 44, 44, 44, 44, 44,\n",
       "       44, 44, 44, 44, 44, 44, 44, 44, 44, 44, 44, 44, 44, 44, 44, 44,  0,\n",
       "       44, 44, 44, 44, 44, 44, 44, 44, 44, 44, 44, 44, 44, 44, 44, 44, 44,\n",
       "       44, 44, 44,  0, 44, 44, 44, 44, 44, 44, 44, 44, 44, 44, 44, 44, 44,\n",
       "       44, 44, 44, 44])"
      ]
     },
     "execution_count": 23,
     "metadata": {},
     "output_type": "execute_result"
    }
   ],
   "source": [
    "aps_109, am_109 = an.sa_123_1561.snps_from_aps_value(109, am_6_68)\n",
    "aps_109"
   ]
  },
  {
   "cell_type": "code",
   "execution_count": 24,
   "metadata": {
    "collapsed": false
   },
   "outputs": [
    {
     "data": {
      "text/html": [
       "\n",
       "\n",
       "    <div class=\"bk-root\">\n",
       "        <div class=\"plotdiv\" id=\"74429ede-e27d-4442-879d-793ce32cb965\"></div>\n",
       "    </div>\n",
       "<script type=\"text/javascript\">\n",
       "  \n",
       "  (function(global) {\n",
       "    function now() {\n",
       "      return new Date();\n",
       "    }\n",
       "  \n",
       "    if (typeof (window._bokeh_onload_callbacks) === \"undefined\") {\n",
       "      window._bokeh_onload_callbacks = [];\n",
       "    }\n",
       "  \n",
       "    function run_callbacks() {\n",
       "      window._bokeh_onload_callbacks.forEach(function(callback) { callback() });\n",
       "      delete window._bokeh_onload_callbacks\n",
       "      console.info(\"Bokeh: all callbacks have finished\");\n",
       "    }\n",
       "  \n",
       "    function load_libs(js_urls, callback) {\n",
       "      window._bokeh_onload_callbacks.push(callback);\n",
       "      if (window._bokeh_is_loading > 0) {\n",
       "        console.log(\"Bokeh: BokehJS is being loaded, scheduling callback at\", now());\n",
       "        return null;\n",
       "      }\n",
       "      if (js_urls == null || js_urls.length === 0) {\n",
       "        run_callbacks();\n",
       "        return null;\n",
       "      }\n",
       "      console.log(\"Bokeh: BokehJS not loaded, scheduling load and callback at\", now());\n",
       "      window._bokeh_is_loading = js_urls.length;\n",
       "      for (var i = 0; i < js_urls.length; i++) {\n",
       "        var url = js_urls[i];\n",
       "        var s = document.createElement('script');\n",
       "        s.src = url;\n",
       "        s.async = false;\n",
       "        s.onreadystatechange = s.onload = function() {\n",
       "          window._bokeh_is_loading--;\n",
       "          if (window._bokeh_is_loading === 0) {\n",
       "            console.log(\"Bokeh: all BokehJS libraries loaded\");\n",
       "            run_callbacks()\n",
       "          }\n",
       "        };\n",
       "        s.onerror = function() {\n",
       "          console.warn(\"failed to load library \" + url);\n",
       "        };\n",
       "        console.log(\"Bokeh: injecting script tag for BokehJS library: \", url);\n",
       "        document.getElementsByTagName(\"head\")[0].appendChild(s);\n",
       "      }\n",
       "    };var element = document.getElementById(\"74429ede-e27d-4442-879d-793ce32cb965\");\n",
       "    if (element == null) {\n",
       "      console.log(\"Bokeh: ERROR: autoload.js configured with elementid '74429ede-e27d-4442-879d-793ce32cb965' but no matching script tag was found. \")\n",
       "      return false;\n",
       "    }\n",
       "  \n",
       "    var js_urls = [];\n",
       "  \n",
       "    var inline_js = [\n",
       "      function(Bokeh) {\n",
       "        Bokeh.$(function() {\n",
       "            var docs_json = {\"28a011b6-c62f-4a23-aab0-be910bcad787\":{\"roots\":{\"references\":[{\"attributes\":{\"dimension\":1,\"plot\":{\"id\":\"b1665aa8-86b3-4e07-84eb-d40099d16160\",\"subtype\":\"Figure\",\"type\":\"Plot\"},\"ticker\":{\"id\":\"024ad931-a769-4e73-998a-1fb0c50dbd72\",\"type\":\"BasicTicker\"}},\"id\":\"f1e2f180-67a5-4f06-8913-a61229ac2c2f\",\"type\":\"Grid\"},{\"attributes\":{\"plot\":{\"id\":\"b1665aa8-86b3-4e07-84eb-d40099d16160\",\"subtype\":\"Figure\",\"type\":\"Plot\"}},\"id\":\"2507523b-47b4-481a-837a-422a84cd2ab4\",\"type\":\"HelpTool\"},{\"attributes\":{\"line_alpha\":{\"value\":0.1},\"line_color\":{\"value\":\"#1f77b4\"},\"x\":{\"field\":\"x\"},\"y\":{\"field\":\"y\"}},\"id\":\"d95b5afc-27a8-46f4-902c-ffd61e242e41\",\"type\":\"Line\"},{\"attributes\":{\"formatter\":{\"id\":\"6d11bc60-5724-4b07-a66d-8e943bf10478\",\"type\":\"BasicTickFormatter\"},\"plot\":{\"id\":\"b1665aa8-86b3-4e07-84eb-d40099d16160\",\"subtype\":\"Figure\",\"type\":\"Plot\"},\"ticker\":{\"id\":\"024ad931-a769-4e73-998a-1fb0c50dbd72\",\"type\":\"BasicTicker\"}},\"id\":\"e24af9db-f121-48e3-ad94-eabff72c6433\",\"type\":\"LinearAxis\"},{\"attributes\":{},\"id\":\"6d11bc60-5724-4b07-a66d-8e943bf10478\",\"type\":\"BasicTickFormatter\"},{\"attributes\":{\"plot\":{\"id\":\"b1665aa8-86b3-4e07-84eb-d40099d16160\",\"subtype\":\"Figure\",\"type\":\"Plot\"},\"ticker\":{\"id\":\"fc2dec92-2037-40fc-a4a5-5737a466c704\",\"type\":\"BasicTicker\"}},\"id\":\"9474c900-7c52-43be-9998-fa4e87d52360\",\"type\":\"Grid\"},{\"attributes\":{\"line_color\":{\"value\":\"#1f77b4\"},\"x\":{\"field\":\"x\"},\"y\":{\"field\":\"y\"}},\"id\":\"7ad5a2c3-824a-4791-a41c-f24e388888c2\",\"type\":\"Line\"},{\"attributes\":{\"active_drag\":\"auto\",\"active_scroll\":\"auto\",\"active_tap\":\"auto\",\"tools\":[{\"id\":\"6a80ed1e-f716-4608-92ab-536cc6f992ef\",\"type\":\"PanTool\"},{\"id\":\"e71229f7-e2dc-476c-841b-1dce7a6b49eb\",\"type\":\"WheelZoomTool\"},{\"id\":\"740b2a57-dbef-4650-8e06-ee04fd34f8a9\",\"type\":\"BoxZoomTool\"},{\"id\":\"c299d065-8bd3-4b92-820d-d64a2f311791\",\"type\":\"SaveTool\"},{\"id\":\"638c5f8f-73ea-4ee4-8cc2-0c91376d437d\",\"type\":\"ResetTool\"},{\"id\":\"2507523b-47b4-481a-837a-422a84cd2ab4\",\"type\":\"HelpTool\"}]},\"id\":\"bfe1f462-c4c2-4e96-9f47-d169b18240fc\",\"type\":\"Toolbar\"},{\"attributes\":{\"plot\":{\"id\":\"b1665aa8-86b3-4e07-84eb-d40099d16160\",\"subtype\":\"Figure\",\"type\":\"Plot\"}},\"id\":\"c299d065-8bd3-4b92-820d-d64a2f311791\",\"type\":\"SaveTool\"},{\"attributes\":{},\"id\":\"23d99302-444b-438d-a12b-54ae1e52750e\",\"type\":\"BasicTickFormatter\"},{\"attributes\":{\"formatter\":{\"id\":\"23d99302-444b-438d-a12b-54ae1e52750e\",\"type\":\"BasicTickFormatter\"},\"plot\":{\"id\":\"b1665aa8-86b3-4e07-84eb-d40099d16160\",\"subtype\":\"Figure\",\"type\":\"Plot\"},\"ticker\":{\"id\":\"fc2dec92-2037-40fc-a4a5-5737a466c704\",\"type\":\"BasicTicker\"}},\"id\":\"0579b73c-f216-4d01-9838-781cc567d658\",\"type\":\"LinearAxis\"},{\"attributes\":{\"callback\":null,\"end\":63.5,\"start\":-0.5},\"id\":\"3ebfdc1c-5e2d-436c-87e4-29c8d823bf70\",\"type\":\"Range1d\"},{\"attributes\":{\"plot\":{\"id\":\"b1665aa8-86b3-4e07-84eb-d40099d16160\",\"subtype\":\"Figure\",\"type\":\"Plot\"}},\"id\":\"6a80ed1e-f716-4608-92ab-536cc6f992ef\",\"type\":\"PanTool\"},{\"attributes\":{\"callback\":null,\"end\":24.200000000000003},\"id\":\"219a96a5-b8f0-4fd6-b2bc-452567bbe6be\",\"type\":\"Range1d\"},{\"attributes\":{\"plot\":{\"id\":\"b1665aa8-86b3-4e07-84eb-d40099d16160\",\"subtype\":\"Figure\",\"type\":\"Plot\"}},\"id\":\"638c5f8f-73ea-4ee4-8cc2-0c91376d437d\",\"type\":\"ResetTool\"},{\"attributes\":{\"bottom_units\":\"screen\",\"fill_alpha\":{\"value\":0.5},\"fill_color\":{\"value\":\"lightgrey\"},\"left_units\":\"screen\",\"level\":\"overlay\",\"line_alpha\":{\"value\":1.0},\"line_color\":{\"value\":\"black\"},\"line_dash\":[4,4],\"line_width\":{\"value\":2},\"plot\":null,\"render_mode\":\"css\",\"right_units\":\"screen\",\"top_units\":\"screen\"},\"id\":\"31d86a43-c574-45b7-8751-b74946a4d667\",\"type\":\"BoxAnnotation\"},{\"attributes\":{},\"id\":\"024ad931-a769-4e73-998a-1fb0c50dbd72\",\"type\":\"BasicTicker\"},{\"attributes\":{},\"id\":\"6e153941-c267-4c83-a61d-3880e049b06b\",\"type\":\"ToolEvents\"},{\"attributes\":{\"plot\":null,\"text\":null},\"id\":\"e2ee9e62-c302-4b4a-90e8-d301c1db42fe\",\"type\":\"Title\"},{\"attributes\":{\"overlay\":{\"id\":\"31d86a43-c574-45b7-8751-b74946a4d667\",\"type\":\"BoxAnnotation\"},\"plot\":{\"id\":\"b1665aa8-86b3-4e07-84eb-d40099d16160\",\"subtype\":\"Figure\",\"type\":\"Plot\"}},\"id\":\"740b2a57-dbef-4650-8e06-ee04fd34f8a9\",\"type\":\"BoxZoomTool\"},{\"attributes\":{\"below\":[{\"id\":\"0579b73c-f216-4d01-9838-781cc567d658\",\"type\":\"LinearAxis\"}],\"left\":[{\"id\":\"e24af9db-f121-48e3-ad94-eabff72c6433\",\"type\":\"LinearAxis\"}],\"plot_height\":400,\"plot_width\":900,\"renderers\":[{\"id\":\"0579b73c-f216-4d01-9838-781cc567d658\",\"type\":\"LinearAxis\"},{\"id\":\"9474c900-7c52-43be-9998-fa4e87d52360\",\"type\":\"Grid\"},{\"id\":\"e24af9db-f121-48e3-ad94-eabff72c6433\",\"type\":\"LinearAxis\"},{\"id\":\"f1e2f180-67a5-4f06-8913-a61229ac2c2f\",\"type\":\"Grid\"},{\"id\":\"31d86a43-c574-45b7-8751-b74946a4d667\",\"type\":\"BoxAnnotation\"},{\"id\":\"22b32ba6-68f9-4dd7-8ddd-b0308360398a\",\"type\":\"GlyphRenderer\"}],\"title\":{\"id\":\"e2ee9e62-c302-4b4a-90e8-d301c1db42fe\",\"type\":\"Title\"},\"tool_events\":{\"id\":\"6e153941-c267-4c83-a61d-3880e049b06b\",\"type\":\"ToolEvents\"},\"toolbar\":{\"id\":\"bfe1f462-c4c2-4e96-9f47-d169b18240fc\",\"type\":\"Toolbar\"},\"toolbar_location\":null,\"x_range\":{\"id\":\"3ebfdc1c-5e2d-436c-87e4-29c8d823bf70\",\"type\":\"Range1d\"},\"y_range\":{\"id\":\"219a96a5-b8f0-4fd6-b2bc-452567bbe6be\",\"type\":\"Range1d\"}},\"id\":\"b1665aa8-86b3-4e07-84eb-d40099d16160\",\"subtype\":\"Figure\",\"type\":\"Plot\"},{\"attributes\":{\"plot\":{\"id\":\"b1665aa8-86b3-4e07-84eb-d40099d16160\",\"subtype\":\"Figure\",\"type\":\"Plot\"}},\"id\":\"e71229f7-e2dc-476c-841b-1dce7a6b49eb\",\"type\":\"WheelZoomTool\"},{\"attributes\":{},\"id\":\"fc2dec92-2037-40fc-a4a5-5737a466c704\",\"type\":\"BasicTicker\"},{\"attributes\":{\"data_source\":{\"id\":\"c1988cb6-8875-4f1e-a06e-f4f1d3d87ada\",\"type\":\"ColumnDataSource\"},\"glyph\":{\"id\":\"7ad5a2c3-824a-4791-a41c-f24e388888c2\",\"type\":\"Line\"},\"hover_glyph\":null,\"nonselection_glyph\":{\"id\":\"d95b5afc-27a8-46f4-902c-ffd61e242e41\",\"type\":\"Line\"},\"selection_glyph\":null},\"id\":\"22b32ba6-68f9-4dd7-8ddd-b0308360398a\",\"type\":\"GlyphRenderer\"},{\"attributes\":{\"callback\":null,\"column_names\":[\"y\",\"x\"],\"data\":{\"x\":[-0.5,-0.5,3.5,3.5,4.5,4.5,5.5,5.5,6.5,6.5,7.5,7.5,8.5,8.5,61.5,61.5,62.5,62.5],\"y\":[0.0,0.0,0.0,8.0,8.0,14.0,14.0,20.0,20.0,22.0,22.0,3.0,3.0,0.0,0.0,1.0,1.0,0.0]}},\"id\":\"c1988cb6-8875-4f1e-a06e-f4f1d3d87ada\",\"type\":\"ColumnDataSource\"}],\"root_ids\":[\"b1665aa8-86b3-4e07-84eb-d40099d16160\"]},\"title\":\"Bokeh Application\",\"version\":\"0.12.0\"}};\n",
       "            var render_items = [{\"docid\":\"28a011b6-c62f-4a23-aab0-be910bcad787\",\"elementid\":\"74429ede-e27d-4442-879d-793ce32cb965\",\"modelid\":\"b1665aa8-86b3-4e07-84eb-d40099d16160\",\"notebook_comms_target\":\"93f35e9b-793f-4931-a354-c9adcb2b0cc9\"}];\n",
       "            \n",
       "            Bokeh.embed.embed_items(docs_json, render_items);\n",
       "        });\n",
       "      },\n",
       "      function(Bokeh) {\n",
       "      }\n",
       "    ];\n",
       "  \n",
       "    function run_inline_js() {\n",
       "      for (var i = 0; i < inline_js.length; i++) {\n",
       "        inline_js[i](window.Bokeh);\n",
       "      }\n",
       "    }\n",
       "  \n",
       "    if (window._bokeh_is_loading === 0) {\n",
       "      console.log(\"Bokeh: BokehJS loaded, going straight to plotting\");\n",
       "      run_inline_js();\n",
       "    } else {\n",
       "      load_libs(js_urls, function() {\n",
       "        console.log(\"Bokeh: BokehJS plotting callback run at\", now());\n",
       "        run_inline_js();\n",
       "      });\n",
       "    }\n",
       "  }(this));\n",
       "</script>"
      ]
     },
     "metadata": {},
     "output_type": "display_data"
    },
    {
     "data": {
      "text/html": [
       "<p><code>&lt;Bokeh Notebook handle for <strong>In[24]</strong>&gt;</code></p>"
      ],
      "text/plain": [
       "<bokeh.io._CommsHandle at 0x7fea808abe90>"
      ]
     },
     "execution_count": 24,
     "metadata": {},
     "output_type": "execute_result"
    }
   ],
   "source": [
    "count_data = sa_62_1265.unique_snps_per_allele(am_6_68)\n",
    "plt_obj = smcp(count_data)\n",
    "plt = plt_obj.do_plot()\n",
    "show(plt)"
   ]
  },
  {
   "cell_type": "code",
   "execution_count": 25,
   "metadata": {
    "collapsed": false
   },
   "outputs": [
    {
     "data": {
      "text/plain": [
       "array([(4, 8), (5, 14), (6, 20), (7, 22), (8, 3), (62, 1)], \n",
       "      dtype=[('count', '<u2'), ('snps', '<u2')])"
      ]
     },
     "execution_count": 25,
     "metadata": {},
     "output_type": "execute_result"
    }
   ],
   "source": [
    "count_data"
   ]
  },
  {
   "cell_type": "code",
   "execution_count": 26,
   "metadata": {
    "collapsed": false
   },
   "outputs": [
    {
     "data": {
      "text/plain": [
       "array([22, 22, 22, 21, 21,  0,  0,  0,  0,  0,  0,  0,  0,  0,  0,  0,  0,\n",
       "        1,  0,  0,  0,  1,  1,  0,  0,  0,  0,  0,  0,  0,  0,  0,  0,  0,\n",
       "        0,  0,  0,  0,  0,  0, 22,  0,  0,  0,  0,  0,  0,  0,  0,  0,  0,\n",
       "        0,  0,  0,  0,  0,  0,  0,  0,  0,  0, 21])"
      ]
     },
     "execution_count": 26,
     "metadata": {},
     "output_type": "execute_result"
    }
   ],
   "source": [
    "aps_7, am_7 = an.sa_62_1265.snps_from_aps_value(7, am_6_68)\n",
    "aps_7"
   ]
  },
  {
   "cell_type": "code",
   "execution_count": 27,
   "metadata": {
    "collapsed": false
   },
   "outputs": [
    {
     "data": {
      "text/plain": [
       "array([20, 20, 20, 20, 20,  0,  0,  0,  0,  0,  0,  0,  0,  0,  0,  0,  0,\n",
       "        0,  0,  0,  0,  0,  0,  0,  0,  0,  0,  0,  0,  0,  0,  0,  0,  0,\n",
       "        0,  0,  0,  0,  0,  0, 12,  0,  0,  0,  0,  0,  0,  0,  0,  0,  0,\n",
       "        0,  0,  0,  0,  0,  0,  0,  0,  0,  0,  8])"
      ]
     },
     "execution_count": 27,
     "metadata": {},
     "output_type": "execute_result"
    }
   ],
   "source": [
    "aps_6, am_6 = an.sa_62_1265.snps_from_aps_value(6, am_6_68)\n",
    "aps_6"
   ]
  },
  {
   "cell_type": "code",
   "execution_count": 28,
   "metadata": {
    "collapsed": false
   },
   "outputs": [
    {
     "data": {
      "text/plain": [
       "array([14, 14, 14,  5,  5,  0,  0,  0,  0,  0,  0,  0,  0,  0,  0,  0,  0,\n",
       "        0,  0,  0,  0,  0,  0,  0,  0,  0,  0,  0,  0,  0,  0,  0,  0,  0,\n",
       "        0,  0,  0,  0,  0,  0,  9,  0,  0,  0,  0,  0,  0,  0,  0,  0,  0,\n",
       "        0,  0,  0,  0,  0,  0,  0,  0,  0,  0,  9])"
      ]
     },
     "execution_count": 28,
     "metadata": {},
     "output_type": "execute_result"
    }
   ],
   "source": [
    "aps_5, am_5 = an.sa_62_1265.snps_from_aps_value(5, am_6_68)\n",
    "aps_5"
   ]
  },
  {
   "cell_type": "code",
   "execution_count": 29,
   "metadata": {
    "collapsed": false
   },
   "outputs": [
    {
     "data": {
      "text/html": [
       "\n",
       "\n",
       "    <div class=\"bk-root\">\n",
       "        <div class=\"plotdiv\" id=\"88f5bf64-b4b5-4d72-907b-dedbbe1a03a1\"></div>\n",
       "    </div>\n",
       "<script type=\"text/javascript\">\n",
       "  \n",
       "  (function(global) {\n",
       "    function now() {\n",
       "      return new Date();\n",
       "    }\n",
       "  \n",
       "    if (typeof (window._bokeh_onload_callbacks) === \"undefined\") {\n",
       "      window._bokeh_onload_callbacks = [];\n",
       "    }\n",
       "  \n",
       "    function run_callbacks() {\n",
       "      window._bokeh_onload_callbacks.forEach(function(callback) { callback() });\n",
       "      delete window._bokeh_onload_callbacks\n",
       "      console.info(\"Bokeh: all callbacks have finished\");\n",
       "    }\n",
       "  \n",
       "    function load_libs(js_urls, callback) {\n",
       "      window._bokeh_onload_callbacks.push(callback);\n",
       "      if (window._bokeh_is_loading > 0) {\n",
       "        console.log(\"Bokeh: BokehJS is being loaded, scheduling callback at\", now());\n",
       "        return null;\n",
       "      }\n",
       "      if (js_urls == null || js_urls.length === 0) {\n",
       "        run_callbacks();\n",
       "        return null;\n",
       "      }\n",
       "      console.log(\"Bokeh: BokehJS not loaded, scheduling load and callback at\", now());\n",
       "      window._bokeh_is_loading = js_urls.length;\n",
       "      for (var i = 0; i < js_urls.length; i++) {\n",
       "        var url = js_urls[i];\n",
       "        var s = document.createElement('script');\n",
       "        s.src = url;\n",
       "        s.async = false;\n",
       "        s.onreadystatechange = s.onload = function() {\n",
       "          window._bokeh_is_loading--;\n",
       "          if (window._bokeh_is_loading === 0) {\n",
       "            console.log(\"Bokeh: all BokehJS libraries loaded\");\n",
       "            run_callbacks()\n",
       "          }\n",
       "        };\n",
       "        s.onerror = function() {\n",
       "          console.warn(\"failed to load library \" + url);\n",
       "        };\n",
       "        console.log(\"Bokeh: injecting script tag for BokehJS library: \", url);\n",
       "        document.getElementsByTagName(\"head\")[0].appendChild(s);\n",
       "      }\n",
       "    };var element = document.getElementById(\"88f5bf64-b4b5-4d72-907b-dedbbe1a03a1\");\n",
       "    if (element == null) {\n",
       "      console.log(\"Bokeh: ERROR: autoload.js configured with elementid '88f5bf64-b4b5-4d72-907b-dedbbe1a03a1' but no matching script tag was found. \")\n",
       "      return false;\n",
       "    }\n",
       "  \n",
       "    var js_urls = [];\n",
       "  \n",
       "    var inline_js = [\n",
       "      function(Bokeh) {\n",
       "        Bokeh.$(function() {\n",
       "            var docs_json = {\"270be160-06dd-4fb3-b8ef-a173e5ded680\":{\"roots\":{\"references\":[{\"attributes\":{\"formatter\":{\"id\":\"a800ea36-561d-42d0-9460-487c1e0430f6\",\"type\":\"BasicTickFormatter\"},\"plot\":{\"id\":\"2495a5bc-e7df-488a-ab4d-53be02748835\",\"subtype\":\"Figure\",\"type\":\"Plot\"},\"ticker\":{\"id\":\"0c6be91b-e8a1-43f9-89e7-563680ad9060\",\"type\":\"BasicTicker\"}},\"id\":\"8014e435-795c-41b1-87ef-f9e99ac0b742\",\"type\":\"LinearAxis\"},{\"attributes\":{},\"id\":\"b557ed73-baaf-48b2-8fd9-ff624f58b980\",\"type\":\"BasicTicker\"},{\"attributes\":{},\"id\":\"0c6be91b-e8a1-43f9-89e7-563680ad9060\",\"type\":\"BasicTicker\"},{\"attributes\":{\"dimension\":1,\"plot\":{\"id\":\"2495a5bc-e7df-488a-ab4d-53be02748835\",\"subtype\":\"Figure\",\"type\":\"Plot\"},\"ticker\":{\"id\":\"b557ed73-baaf-48b2-8fd9-ff624f58b980\",\"type\":\"BasicTicker\"}},\"id\":\"6aa3a77e-8069-4b15-a0ed-d1d08466dd6b\",\"type\":\"Grid\"},{\"attributes\":{\"bottom_units\":\"screen\",\"fill_alpha\":{\"value\":0.5},\"fill_color\":{\"value\":\"lightgrey\"},\"left_units\":\"screen\",\"level\":\"overlay\",\"line_alpha\":{\"value\":1.0},\"line_color\":{\"value\":\"black\"},\"line_dash\":[4,4],\"line_width\":{\"value\":2},\"plot\":null,\"render_mode\":\"css\",\"right_units\":\"screen\",\"top_units\":\"screen\"},\"id\":\"d1980e4d-b4f8-4fc7-98c2-659bd13387ca\",\"type\":\"BoxAnnotation\"},{\"attributes\":{\"line_alpha\":{\"value\":0.1},\"line_color\":{\"value\":\"#1f77b4\"},\"x\":{\"field\":\"x\"},\"y\":{\"field\":\"y\"}},\"id\":\"5bdee322-d121-4ca6-b32a-e368eb018404\",\"type\":\"Line\"},{\"attributes\":{\"plot\":{\"id\":\"2495a5bc-e7df-488a-ab4d-53be02748835\",\"subtype\":\"Figure\",\"type\":\"Plot\"}},\"id\":\"6d4ef51b-e317-4eb5-b0f2-14ca34e3822d\",\"type\":\"HelpTool\"},{\"attributes\":{\"below\":[{\"id\":\"8014e435-795c-41b1-87ef-f9e99ac0b742\",\"type\":\"LinearAxis\"}],\"left\":[{\"id\":\"318b90eb-ba54-4278-b29b-bbb15d9e9e8a\",\"type\":\"LinearAxis\"}],\"plot_height\":400,\"plot_width\":900,\"renderers\":[{\"id\":\"8014e435-795c-41b1-87ef-f9e99ac0b742\",\"type\":\"LinearAxis\"},{\"id\":\"cb1800c0-0885-47ee-8e58-27c07b3a7f6e\",\"type\":\"Grid\"},{\"id\":\"318b90eb-ba54-4278-b29b-bbb15d9e9e8a\",\"type\":\"LinearAxis\"},{\"id\":\"6aa3a77e-8069-4b15-a0ed-d1d08466dd6b\",\"type\":\"Grid\"},{\"id\":\"d1980e4d-b4f8-4fc7-98c2-659bd13387ca\",\"type\":\"BoxAnnotation\"},{\"id\":\"5089eb08-70db-47e1-aee6-a40ed458d59d\",\"type\":\"GlyphRenderer\"}],\"title\":{\"id\":\"3654f76d-b966-4e95-b935-5f8e85a66f90\",\"type\":\"Title\"},\"tool_events\":{\"id\":\"688f819a-0a88-4c75-9775-2ed913a9f5c9\",\"type\":\"ToolEvents\"},\"toolbar\":{\"id\":\"f661402a-e18a-4b3f-a8db-7e0ba9af2b16\",\"type\":\"Toolbar\"},\"toolbar_location\":null,\"x_range\":{\"id\":\"9ab02f32-c1db-4c88-a237-cd3f922a0164\",\"type\":\"Range1d\"},\"y_range\":{\"id\":\"c1e6d3fd-7979-4b76-b13e-e67c95c75d5a\",\"type\":\"Range1d\"}},\"id\":\"2495a5bc-e7df-488a-ab4d-53be02748835\",\"subtype\":\"Figure\",\"type\":\"Plot\"},{\"attributes\":{\"callback\":null,\"column_names\":[\"y\",\"x\"],\"data\":{\"x\":[-0.5,-0.5,0.5,0.5,1.5,1.5,2.5,2.5],\"y\":[0.0,0.0,0.0,13.0,13.0,55.0,55.0,0.0]}},\"id\":\"e2721518-1769-47da-bac8-725ef9e7d786\",\"type\":\"ColumnDataSource\"},{\"attributes\":{\"plot\":{\"id\":\"2495a5bc-e7df-488a-ab4d-53be02748835\",\"subtype\":\"Figure\",\"type\":\"Plot\"},\"ticker\":{\"id\":\"0c6be91b-e8a1-43f9-89e7-563680ad9060\",\"type\":\"BasicTicker\"}},\"id\":\"cb1800c0-0885-47ee-8e58-27c07b3a7f6e\",\"type\":\"Grid\"},{\"attributes\":{\"callback\":null,\"end\":3.5,\"start\":-0.5},\"id\":\"9ab02f32-c1db-4c88-a237-cd3f922a0164\",\"type\":\"Range1d\"},{\"attributes\":{},\"id\":\"e0b5de53-5755-4565-a055-ff31546b74ae\",\"type\":\"BasicTickFormatter\"},{\"attributes\":{\"active_drag\":\"auto\",\"active_scroll\":\"auto\",\"active_tap\":\"auto\",\"tools\":[{\"id\":\"2338ed77-57f2-4b4b-a83c-7d8a7df6838e\",\"type\":\"PanTool\"},{\"id\":\"1d8f189d-eb15-4357-9165-1424e6f60486\",\"type\":\"WheelZoomTool\"},{\"id\":\"cc4af7ef-1d1f-4acc-b4a9-f168f9b2d8eb\",\"type\":\"BoxZoomTool\"},{\"id\":\"adfcce24-ba77-424b-9917-345fa82fa0e0\",\"type\":\"SaveTool\"},{\"id\":\"67168d9b-f271-4bbd-ad25-9cfbabdd366a\",\"type\":\"ResetTool\"},{\"id\":\"6d4ef51b-e317-4eb5-b0f2-14ca34e3822d\",\"type\":\"HelpTool\"}]},\"id\":\"f661402a-e18a-4b3f-a8db-7e0ba9af2b16\",\"type\":\"Toolbar\"},{\"attributes\":{},\"id\":\"a800ea36-561d-42d0-9460-487c1e0430f6\",\"type\":\"BasicTickFormatter\"},{\"attributes\":{\"plot\":{\"id\":\"2495a5bc-e7df-488a-ab4d-53be02748835\",\"subtype\":\"Figure\",\"type\":\"Plot\"}},\"id\":\"67168d9b-f271-4bbd-ad25-9cfbabdd366a\",\"type\":\"ResetTool\"},{\"attributes\":{\"line_color\":{\"value\":\"#1f77b4\"},\"x\":{\"field\":\"x\"},\"y\":{\"field\":\"y\"}},\"id\":\"a2956917-fe21-4125-96e4-bf8eaba4f874\",\"type\":\"Line\"},{\"attributes\":{\"plot\":null,\"text\":null},\"id\":\"3654f76d-b966-4e95-b935-5f8e85a66f90\",\"type\":\"Title\"},{\"attributes\":{\"callback\":null,\"end\":60.50000000000001},\"id\":\"c1e6d3fd-7979-4b76-b13e-e67c95c75d5a\",\"type\":\"Range1d\"},{\"attributes\":{\"overlay\":{\"id\":\"d1980e4d-b4f8-4fc7-98c2-659bd13387ca\",\"type\":\"BoxAnnotation\"},\"plot\":{\"id\":\"2495a5bc-e7df-488a-ab4d-53be02748835\",\"subtype\":\"Figure\",\"type\":\"Plot\"}},\"id\":\"cc4af7ef-1d1f-4acc-b4a9-f168f9b2d8eb\",\"type\":\"BoxZoomTool\"},{\"attributes\":{},\"id\":\"688f819a-0a88-4c75-9775-2ed913a9f5c9\",\"type\":\"ToolEvents\"},{\"attributes\":{\"plot\":{\"id\":\"2495a5bc-e7df-488a-ab4d-53be02748835\",\"subtype\":\"Figure\",\"type\":\"Plot\"}},\"id\":\"adfcce24-ba77-424b-9917-345fa82fa0e0\",\"type\":\"SaveTool\"},{\"attributes\":{\"plot\":{\"id\":\"2495a5bc-e7df-488a-ab4d-53be02748835\",\"subtype\":\"Figure\",\"type\":\"Plot\"}},\"id\":\"2338ed77-57f2-4b4b-a83c-7d8a7df6838e\",\"type\":\"PanTool\"},{\"attributes\":{\"formatter\":{\"id\":\"e0b5de53-5755-4565-a055-ff31546b74ae\",\"type\":\"BasicTickFormatter\"},\"plot\":{\"id\":\"2495a5bc-e7df-488a-ab4d-53be02748835\",\"subtype\":\"Figure\",\"type\":\"Plot\"},\"ticker\":{\"id\":\"b557ed73-baaf-48b2-8fd9-ff624f58b980\",\"type\":\"BasicTicker\"}},\"id\":\"318b90eb-ba54-4278-b29b-bbb15d9e9e8a\",\"type\":\"LinearAxis\"},{\"attributes\":{\"data_source\":{\"id\":\"e2721518-1769-47da-bac8-725ef9e7d786\",\"type\":\"ColumnDataSource\"},\"glyph\":{\"id\":\"a2956917-fe21-4125-96e4-bf8eaba4f874\",\"type\":\"Line\"},\"hover_glyph\":null,\"nonselection_glyph\":{\"id\":\"5bdee322-d121-4ca6-b32a-e368eb018404\",\"type\":\"Line\"},\"selection_glyph\":null},\"id\":\"5089eb08-70db-47e1-aee6-a40ed458d59d\",\"type\":\"GlyphRenderer\"},{\"attributes\":{\"plot\":{\"id\":\"2495a5bc-e7df-488a-ab4d-53be02748835\",\"subtype\":\"Figure\",\"type\":\"Plot\"}},\"id\":\"1d8f189d-eb15-4357-9165-1424e6f60486\",\"type\":\"WheelZoomTool\"}],\"root_ids\":[\"2495a5bc-e7df-488a-ab4d-53be02748835\"]},\"title\":\"Bokeh Application\",\"version\":\"0.12.0\"}};\n",
       "            var render_items = [{\"docid\":\"270be160-06dd-4fb3-b8ef-a173e5ded680\",\"elementid\":\"88f5bf64-b4b5-4d72-907b-dedbbe1a03a1\",\"modelid\":\"2495a5bc-e7df-488a-ab4d-53be02748835\",\"notebook_comms_target\":\"c4d63e1b-c57c-4cff-b96f-e26d44aa4929\"}];\n",
       "            \n",
       "            Bokeh.embed.embed_items(docs_json, render_items);\n",
       "        });\n",
       "      },\n",
       "      function(Bokeh) {\n",
       "      }\n",
       "    ];\n",
       "  \n",
       "    function run_inline_js() {\n",
       "      for (var i = 0; i < inline_js.length; i++) {\n",
       "        inline_js[i](window.Bokeh);\n",
       "      }\n",
       "    }\n",
       "  \n",
       "    if (window._bokeh_is_loading === 0) {\n",
       "      console.log(\"Bokeh: BokehJS loaded, going straight to plotting\");\n",
       "      run_inline_js();\n",
       "    } else {\n",
       "      load_libs(js_urls, function() {\n",
       "        console.log(\"Bokeh: BokehJS plotting callback run at\", now());\n",
       "        run_inline_js();\n",
       "      });\n",
       "    }\n",
       "  }(this));\n",
       "</script>"
      ]
     },
     "metadata": {},
     "output_type": "display_data"
    },
    {
     "data": {
      "text/html": [
       "<p><code>&lt;Bokeh Notebook handle for <strong>In[29]</strong>&gt;</code></p>"
      ],
      "text/plain": [
       "<bokeh.io._CommsHandle at 0x7fea80877d90>"
      ]
     },
     "execution_count": 29,
     "metadata": {},
     "output_type": "execute_result"
    }
   ],
   "source": [
    "count_data = sa_193_843.unique_snps_per_allele(am_6_68)\n",
    "plt_obj = smcp(count_data)\n",
    "plt = plt_obj.do_plot()\n",
    "show(plt)"
   ]
  },
  {
   "cell_type": "code",
   "execution_count": 30,
   "metadata": {
    "collapsed": false
   },
   "outputs": [
    {
     "data": {
      "text/plain": [
       "array([(1, 13), (2, 55)], \n",
       "      dtype=[('count', '<u2'), ('snps', '<u2')])"
      ]
     },
     "execution_count": 30,
     "metadata": {},
     "output_type": "execute_result"
    }
   ],
   "source": [
    "count_data"
   ]
  },
  {
   "cell_type": "code",
   "execution_count": 31,
   "metadata": {
    "collapsed": false
   },
   "outputs": [
    {
     "data": {
      "text/plain": [
       "array([55,  0,  0,  0,  0,  0,  0,  0,  0,  0,  0,  0,  0,  0,  0,  0,  0,\n",
       "        1,  0,  0,  0,  0,  0,  0,  0,  0,  0,  0,  0,  0,  0,  0,  0,  0,\n",
       "        0,  0,  0,  0,  0,  0,  0,  0,  0,  0,  0,  0,  0,  0,  0,  0,  0,\n",
       "        0,  0,  0,  0,  0,  0,  0,  0,  0,  0,  0,  4,  0,  0,  0,  0,  0,\n",
       "        0,  0,  0,  0,  0,  0,  0,  0,  0,  0,  0,  0,  0,  0,  0,  0,  0,\n",
       "        0,  0,  0,  0,  0,  0,  0,  0,  0,  0,  0,  0,  0,  0,  0,  0,  0,\n",
       "        0,  0,  0,  0,  0,  0,  0,  0,  0,  0,  0,  0,  0,  0,  0,  0,  0,\n",
       "        0,  0,  0,  0,  0,  0, 12,  0,  0,  0,  0,  0,  0,  0,  0,  0,  0,\n",
       "        0,  0,  0,  0,  0,  0,  0,  0,  0,  0,  0,  0,  0,  0,  0,  0,  0,\n",
       "        0,  0,  0,  0,  0,  0,  0,  0,  0,  0,  0, 37,  0,  1,  0,  0,  0,\n",
       "        0,  0,  0,  0,  0,  0,  0,  0,  0,  0,  0,  0,  0,  0,  0,  0,  0,\n",
       "        0,  0,  0,  0,  0,  0])"
      ]
     },
     "execution_count": 31,
     "metadata": {},
     "output_type": "execute_result"
    }
   ],
   "source": [
    "aps_2, am_2 = an.sa_193_843.snps_from_aps_value(2, am_6_68)\n",
    "aps_2"
   ]
  }
 ],
 "metadata": {
  "anaconda-cloud": {},
  "kernelspec": {
   "display_name": "Python [Root]",
   "language": "python",
   "name": "Python [Root]"
  },
  "language_info": {
   "codemirror_mode": {
    "name": "ipython",
    "version": 2
   },
   "file_extension": ".py",
   "mimetype": "text/x-python",
   "name": "python",
   "nbconvert_exporter": "python",
   "pygments_lexer": "ipython2",
   "version": "2.7.12"
  }
 },
 "nbformat": 4,
 "nbformat_minor": 0
}
