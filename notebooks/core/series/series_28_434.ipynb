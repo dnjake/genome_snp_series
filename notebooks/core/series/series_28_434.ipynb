{
 "cells": [
  {
   "cell_type": "code",
   "execution_count": 1,
   "metadata": {
    "collapsed": false
   },
   "outputs": [
    {
     "data": {
      "text/html": []
     },
     "metadata": {},
     "output_type": "display_data"
    },
    {
     "data": {
      "application/javascript": [
       "\n",
       "(function(global) {\n",
       "  function now() {\n",
       "    return new Date();\n",
       "  }\n",
       "\n",
       "  if (typeof (window._bokeh_onload_callbacks) === \"undefined\") {\n",
       "    window._bokeh_onload_callbacks = [];\n",
       "  }\n",
       "\n",
       "  function run_callbacks() {\n",
       "    window._bokeh_onload_callbacks.forEach(function(callback) { callback() });\n",
       "    delete window._bokeh_onload_callbacks\n",
       "    console.info(\"Bokeh: all callbacks have finished\");\n",
       "  }\n",
       "\n",
       "  function load_libs(js_urls, callback) {\n",
       "    window._bokeh_onload_callbacks.push(callback);\n",
       "    if (window._bokeh_is_loading > 0) {\n",
       "      console.log(\"Bokeh: BokehJS is being loaded, scheduling callback at\", now());\n",
       "      return null;\n",
       "    }\n",
       "    if (js_urls == null || js_urls.length === 0) {\n",
       "      run_callbacks();\n",
       "      return null;\n",
       "    }\n",
       "    console.log(\"Bokeh: BokehJS not loaded, scheduling load and callback at\", now());\n",
       "    window._bokeh_is_loading = js_urls.length;\n",
       "    for (var i = 0; i < js_urls.length; i++) {\n",
       "      var url = js_urls[i];\n",
       "      var s = document.createElement('script');\n",
       "      s.src = url;\n",
       "      s.async = false;\n",
       "      s.onreadystatechange = s.onload = function() {\n",
       "        window._bokeh_is_loading--;\n",
       "        if (window._bokeh_is_loading === 0) {\n",
       "          console.log(\"Bokeh: all BokehJS libraries loaded\");\n",
       "          run_callbacks()\n",
       "        }\n",
       "      };\n",
       "      s.onerror = function() {\n",
       "        console.warn(\"failed to load library \" + url);\n",
       "      };\n",
       "      console.log(\"Bokeh: injecting script tag for BokehJS library: \", url);\n",
       "      document.getElementsByTagName(\"head\")[0].appendChild(s);\n",
       "    }\n",
       "  };\n",
       "\n",
       "  var js_urls = ['https://cdn.pydata.org/bokeh/release/bokeh-0.12.0.min.js', 'https://cdn.pydata.org/bokeh/release/bokeh-widgets-0.12.0.min.js', 'https://cdn.pydata.org/bokeh/release/bokeh-compiler-0.12.0.min.js'];\n",
       "\n",
       "  var inline_js = [\n",
       "    function(Bokeh) {\n",
       "      Bokeh.set_log_level(\"info\");\n",
       "    },\n",
       "    \n",
       "    function(Bokeh) {\n",
       "      Bokeh.$(\"#b4f342c8-06bf-4b21-8ced-f6320437e883\").text(\"BokehJS successfully loaded\");\n",
       "    },\n",
       "    function(Bokeh) {\n",
       "      console.log(\"Bokeh: injecting CSS: https://cdn.pydata.org/bokeh/release/bokeh-0.12.0.min.css\");\n",
       "      Bokeh.embed.inject_css(\"https://cdn.pydata.org/bokeh/release/bokeh-0.12.0.min.css\");\n",
       "      console.log(\"Bokeh: injecting CSS: https://cdn.pydata.org/bokeh/release/bokeh-widgets-0.12.0.min.css\");\n",
       "      Bokeh.embed.inject_css(\"https://cdn.pydata.org/bokeh/release/bokeh-widgets-0.12.0.min.css\");\n",
       "    }\n",
       "  ];\n",
       "\n",
       "  function run_inline_js() {\n",
       "    for (var i = 0; i < inline_js.length; i++) {\n",
       "      inline_js[i](window.Bokeh);\n",
       "    }\n",
       "  }\n",
       "\n",
       "  if (window._bokeh_is_loading === 0) {\n",
       "    console.log(\"Bokeh: BokehJS loaded, going straight to plotting\");\n",
       "    run_inline_js();\n",
       "  } else {\n",
       "    load_libs(js_urls, function() {\n",
       "      console.log(\"Bokeh: BokehJS plotting callback run at\", now());\n",
       "      run_inline_js();\n",
       "    });\n",
       "  }\n",
       "}(this));"
      ]
     },
     "metadata": {},
     "output_type": "display_data"
    }
   ],
   "source": [
    "import numpy as np\n",
    "from IPython.display import HTML\n",
    "from bokeh.plotting import output_notebook, show\n",
    "import genomes_dnj.lct_interval.series_plots as dm\n",
    "import genomes_dnj.lct_interval.anal_series as an\n",
    "from genomes_dnj.lct_interval_snp_anal import lct_interval_snp_anal as snp_anal\n",
    "import genomes_dnj.lct_interval.series_masks as sm\n",
    "from genomes_dnj.lct_interval.bokeh_match_count_plot import snp_match_count_plot_cls as smcp\n",
    "output_notebook(hide_banner=True)\n",
    "am_28_434 = an.lct_obj.yes_no_data_indexes([dm.di_28_434])\n",
    "sa_28_434 = snp_anal.series_anal_cls(dm.di_28_434, sm.series_data)"
   ]
  },
  {
   "cell_type": "markdown",
   "metadata": {},
   "source": [
    "<h3>Series 28_434</h3>\n",
    "<div style=\"width:700px\">\n",
    "<p>\n",
    "This notebook documents the series 28_434 and its 28 SNPs. The 1000 genomes data includes 4485\n",
    "chromosome 2 samples that express none of these 28 SNPs, 407 samples that express all 28 SNPs\n",
    "and another 24 samples that express 27 of them.\n",
    "<p>\n",
    "The series 28_434 ranges over an almost 270,000 DNA base region of chromosome 2.  It covers the\n",
    "upper part of the gene zranb3 and the lower part of the gene r3hdm1.  This range covers the upper\n",
    "parts of the ranges of series 117_1685, 123_1561, 62_1265, and 193_843.  The series 28_434 is\n",
    "unusual in selecting multiple hierarchies that include different combinations of the series\n",
    "117_1685 and 123_1561.  One hierarchy includes both 117_1685 and 123_1561.  The second includes\n",
    "just 117_1685.  The third includes 13_1696 and 117_1685.  The fourth includes 13_1696 and 123_1561.\n",
    "<p>\n",
    "The data for the SNPs expressed by chromosome samples that express the series 28_434 is not enough\n",
    "to reconstruct the processes that have resulted in the different associations of many hundreds of\n",
    "SNPs in this region of chromosome 2.  But the data does show some components of these processes.\n",
    "One is standard genetic recombination.  A second is some kind of selective advantage associated\n",
    "with the emergence of a series expressed by a subset of the 434 samples that could include\n",
    "hundreds of SNPs.  A third is the loss of some number of SNPs that results in retention only of a\n",
    "fragment of one of these series.\n",
    "<p>\n",
    "Series that select different 28_434 hierarchies are documented in the series notebooks for \n",
    "[180_251](series_180_251.ipynb), [6_68](series_6_68.ipynb), [22_73](series_22_73.ipynb),\n",
    "and [25_27](series_25_27.ipynb).  An overview of all of the 28_434 hierarchies is provided\n",
    "in the core summary notebook [dense_28_434](../dense_28_434.ipynb).\n",
    "<p>\n",
    "This notebook explores some of the series fragments expressed along with the series 28_434.\n",
    "Only 30 of the chromosome samples that express 28_434 express all 117 117_1685 SNPs.  Another\n",
    "58 express 116 of them.  But all of the 434 chromosome samples express some fragment of 117_1685.\n",
    "All but 1 of these samples express at least 50 117_1685 SNPs.\n",
    "<p>\n",
    "The results are similar for series 123_1561.  The 434 samples include 161 that express\n",
    "all 123 SNPs and 79 that express 122 of them.  These chromosome samples generally express the series\n",
    "180_251. The rest include 1 sample that expresses 66 of the SNPs and another that expresses 86 of them.\n",
    "All of the remaining samples express at least 106 123_1561 SNPs.  \n",
    "<p>\n",
    "None of the 434 samples express 62_1265.  252 of then express none of the 62_1265 SNPs.\n",
    "Most of the rest express fragments that range from 2 to 8 SNPs.  The 29 remaining samples\n",
    "express 62_1265 fragments that range from 20 to 22 SNPs.\n",
    "<p>\n",
    "The results are similar for 193_843.  The 434 samples include 254 that express no 193_843 SNPs.\n",
    "128 of the samples express a 2 SNP 193_843 fragment.  28 samples express 54 or 55 193_843 SNPs.\n",
    "</div>"
   ]
  },
  {
   "cell_type": "code",
   "execution_count": 2,
   "metadata": {
    "collapsed": false
   },
   "outputs": [
    {
     "data": {
      "text/html": [
       "<p>\n",
       "<b>28_434 series</b>\n",
       "</p><p>\n",
       "<table>\n",
       "<thead><tr><th style=\"text-align:center\">index</th><th style=\"text-align:center\">first</th><th style=\"text-align:center\">length</th><th style=\"text-align:center\">snps</th><th style=\"text-align:center\">alleles</th><th style=\"text-align:center\" colspan=2>afr</th><th style=\"text-align:center\" colspan=2>afx</th><th style=\"text-align:center\" colspan=2>amr</th><th style=\"text-align:center\" colspan=2>eas</th><th style=\"text-align:center\" colspan=2>eur</th><th style=\"text-align:center\" colspan=2>sas</th><th style=\"text-align:center\" colspan=2>sax</th></tr></thead>\n",
       "<tr class=\"even\"><td style=\"text-align: right;\">353614</td><td style=\"text-align: right;\">136,115,507</td><td style=\"text-align: right;\">269,773</td><td style=\"text-align: right;\">28</td><td style=\"text-align: right;\">434</td><td style=\"text-align: right;\">318</td><td style=\"text-align: right;\">3.64</td><td style=\"text-align: right;\">105</td><td style=\"text-align: right;\">3.86</td><td style=\"text-align: right;\">11</td><td style=\"text-align: right;\">0.18</td><td style=\"text-align: right;\">0</td><td style=\"text-align: right;\">0.00</td><td style=\"text-align: right;\">0</td><td style=\"text-align: right;\">0.00</td><td style=\"text-align: right;\">0</td><td style=\"text-align: right;\">0.00</td><td style=\"text-align: right;\">0</td><td style=\"text-align: right;\">0.00</td></tr>\n",
       "</table>\n",
       "</p>\n",
       "<p>\n",
       "<b>28_434 series snps</b>\n",
       "</p><p>\n",
       "<table>\n",
       "<thead><tr><th style=\"text-align:center\">index</th><th style=\"text-align:center\">pos</th><th style=\"text-align:center\">id</th><th style=\"text-align:center\">niv</th><th style=\"text-align:center\">alleles</th><th style=\"text-align:center\" colspan=2>afr</th><th style=\"text-align:center\" colspan=2>afx</th><th style=\"text-align:center\" colspan=2>amr</th><th style=\"text-align:center\" colspan=2>eas</th><th style=\"text-align:center\" colspan=2>eur</th><th style=\"text-align:center\" colspan=2>sas</th><th style=\"text-align:center\" colspan=2>sax</th></tr></thead>\n",
       "<tr class=\"even\"><td style=\"text-align: right;\">876830</td><td style=\"text-align: right;\">136,115,507</td><td>rs73956973</td><td>0</td><td style=\"text-align: right;\">439</td><td style=\"text-align: right;\">323</td><td style=\"text-align: right;\">3.66</td><td style=\"text-align: right;\">105</td><td style=\"text-align: right;\">3.81</td><td style=\"text-align: right;\">11</td><td style=\"text-align: right;\">0.18</td><td style=\"text-align: right;\">0</td><td style=\"text-align: right;\">0.00</td><td style=\"text-align: right;\">0</td><td style=\"text-align: right;\">0.00</td><td style=\"text-align: right;\">0</td><td style=\"text-align: right;\">0.00</td><td style=\"text-align: right;\">0</td><td style=\"text-align: right;\">0.00</td></tr>\n",
       "<tr><td style=\"text-align: right;\">876924</td><td style=\"text-align: right;\">136,133,627</td><td>rs59270151</td><td>0</td><td style=\"text-align: right;\">440</td><td style=\"text-align: right;\">324</td><td style=\"text-align: right;\">3.66</td><td style=\"text-align: right;\">105</td><td style=\"text-align: right;\">3.81</td><td style=\"text-align: right;\">11</td><td style=\"text-align: right;\">0.18</td><td style=\"text-align: right;\">0</td><td style=\"text-align: right;\">0.00</td><td style=\"text-align: right;\">0</td><td style=\"text-align: right;\">0.00</td><td style=\"text-align: right;\">0</td><td style=\"text-align: right;\">0.00</td><td style=\"text-align: right;\">0</td><td style=\"text-align: right;\">0.00</td></tr>\n",
       "<tr class=\"even\"><td style=\"text-align: right;\">876935</td><td style=\"text-align: right;\">136,135,820</td><td>rs6726123</td><td>0</td><td style=\"text-align: right;\">442</td><td style=\"text-align: right;\">326</td><td style=\"text-align: right;\">3.66</td><td style=\"text-align: right;\">105</td><td style=\"text-align: right;\">3.79</td><td style=\"text-align: right;\">11</td><td style=\"text-align: right;\">0.18</td><td style=\"text-align: right;\">0</td><td style=\"text-align: right;\">0.00</td><td style=\"text-align: right;\">0</td><td style=\"text-align: right;\">0.00</td><td style=\"text-align: right;\">0</td><td style=\"text-align: right;\">0.00</td><td style=\"text-align: right;\">0</td><td style=\"text-align: right;\">0.00</td></tr>\n",
       "<tr><td style=\"text-align: right;\">877004</td><td style=\"text-align: right;\">136,145,676</td><td>rs10171944</td><td>0</td><td style=\"text-align: right;\">422</td><td style=\"text-align: right;\">309</td><td style=\"text-align: right;\">3.64</td><td style=\"text-align: right;\">104</td><td style=\"text-align: right;\">3.93</td><td style=\"text-align: right;\">9</td><td style=\"text-align: right;\">0.15</td><td style=\"text-align: right;\">0</td><td style=\"text-align: right;\">0.00</td><td style=\"text-align: right;\">0</td><td style=\"text-align: right;\">0.00</td><td style=\"text-align: right;\">0</td><td style=\"text-align: right;\">0.00</td><td style=\"text-align: right;\">0</td><td style=\"text-align: right;\">0.00</td></tr>\n",
       "<tr class=\"even\"><td style=\"text-align: right;\">877157</td><td style=\"text-align: right;\">136,166,014</td><td>rs55976100</td><td>0</td><td style=\"text-align: right;\">440</td><td style=\"text-align: right;\">324</td><td style=\"text-align: right;\">3.66</td><td style=\"text-align: right;\">105</td><td style=\"text-align: right;\">3.81</td><td style=\"text-align: right;\">11</td><td style=\"text-align: right;\">0.18</td><td style=\"text-align: right;\">0</td><td style=\"text-align: right;\">0.00</td><td style=\"text-align: right;\">0</td><td style=\"text-align: right;\">0.00</td><td style=\"text-align: right;\">0</td><td style=\"text-align: right;\">0.00</td><td style=\"text-align: right;\">0</td><td style=\"text-align: right;\">0.00</td></tr>\n",
       "<tr><td style=\"text-align: right;\">877210</td><td style=\"text-align: right;\">136,173,684</td><td>.</td><td>0</td><td style=\"text-align: right;\">463</td><td style=\"text-align: right;\">344</td><td style=\"text-align: right;\">3.69</td><td style=\"text-align: right;\">107</td><td style=\"text-align: right;\">3.69</td><td style=\"text-align: right;\">12</td><td style=\"text-align: right;\">0.19</td><td style=\"text-align: right;\">0</td><td style=\"text-align: right;\">0.00</td><td style=\"text-align: right;\">0</td><td style=\"text-align: right;\">0.00</td><td style=\"text-align: right;\">0</td><td style=\"text-align: right;\">0.00</td><td style=\"text-align: right;\">0</td><td style=\"text-align: right;\">0.00</td></tr>\n",
       "<tr class=\"even\"><td style=\"text-align: right;\">877226</td><td style=\"text-align: right;\">136,176,031</td><td>rs13432354</td><td>0</td><td style=\"text-align: right;\">465</td><td style=\"text-align: right;\">338</td><td style=\"text-align: right;\">3.61</td><td style=\"text-align: right;\">111</td><td style=\"text-align: right;\">3.81</td><td style=\"text-align: right;\">14</td><td style=\"text-align: right;\">0.22</td><td style=\"text-align: right;\">0</td><td style=\"text-align: right;\">0.00</td><td style=\"text-align: right;\">0</td><td style=\"text-align: right;\">0.00</td><td style=\"text-align: right;\">0</td><td style=\"text-align: right;\">0.00</td><td style=\"text-align: right;\">2</td><td style=\"text-align: right;\">0.04</td></tr>\n",
       "<tr><td style=\"text-align: right;\">877403</td><td style=\"text-align: right;\">136,214,307</td><td>rs12328793</td><td>0</td><td style=\"text-align: right;\">437</td><td style=\"text-align: right;\">321</td><td style=\"text-align: right;\">3.65</td><td style=\"text-align: right;\">105</td><td style=\"text-align: right;\">3.83</td><td style=\"text-align: right;\">11</td><td style=\"text-align: right;\">0.18</td><td style=\"text-align: right;\">0</td><td style=\"text-align: right;\">0.00</td><td style=\"text-align: right;\">0</td><td style=\"text-align: right;\">0.00</td><td style=\"text-align: right;\">0</td><td style=\"text-align: right;\">0.00</td><td style=\"text-align: right;\">0</td><td style=\"text-align: right;\">0.00</td></tr>\n",
       "<tr class=\"even\"><td style=\"text-align: right;\">877408</td><td style=\"text-align: right;\">136,215,590</td><td>rs72986434</td><td>0</td><td style=\"text-align: right;\">440</td><td style=\"text-align: right;\">324</td><td style=\"text-align: right;\">3.66</td><td style=\"text-align: right;\">105</td><td style=\"text-align: right;\">3.81</td><td style=\"text-align: right;\">11</td><td style=\"text-align: right;\">0.18</td><td style=\"text-align: right;\">0</td><td style=\"text-align: right;\">0.00</td><td style=\"text-align: right;\">0</td><td style=\"text-align: right;\">0.00</td><td style=\"text-align: right;\">0</td><td style=\"text-align: right;\">0.00</td><td style=\"text-align: right;\">0</td><td style=\"text-align: right;\">0.00</td></tr>\n",
       "<tr><td style=\"text-align: right;\">877418</td><td style=\"text-align: right;\">136,219,265</td><td>rs16831697</td><td>0</td><td style=\"text-align: right;\">438</td><td style=\"text-align: right;\">322</td><td style=\"text-align: right;\">3.65</td><td style=\"text-align: right;\">105</td><td style=\"text-align: right;\">3.82</td><td style=\"text-align: right;\">11</td><td style=\"text-align: right;\">0.18</td><td style=\"text-align: right;\">0</td><td style=\"text-align: right;\">0.00</td><td style=\"text-align: right;\">0</td><td style=\"text-align: right;\">0.00</td><td style=\"text-align: right;\">0</td><td style=\"text-align: right;\">0.00</td><td style=\"text-align: right;\">0</td><td style=\"text-align: right;\">0.00</td></tr>\n",
       "<tr class=\"even\"><td style=\"text-align: right;\">877420</td><td style=\"text-align: right;\">136,219,831</td><td>rs10184503</td><td>0</td><td style=\"text-align: right;\">442</td><td style=\"text-align: right;\">325</td><td style=\"text-align: right;\">3.65</td><td style=\"text-align: right;\">105</td><td style=\"text-align: right;\">3.79</td><td style=\"text-align: right;\">11</td><td style=\"text-align: right;\">0.18</td><td style=\"text-align: right;\">0</td><td style=\"text-align: right;\">0.00</td><td style=\"text-align: right;\">0</td><td style=\"text-align: right;\">0.00</td><td style=\"text-align: right;\">0</td><td style=\"text-align: right;\">0.00</td><td style=\"text-align: right;\">1</td><td style=\"text-align: right;\">0.02</td></tr>\n",
       "<tr><td style=\"text-align: right;\">877758</td><td style=\"text-align: right;\">136,289,471</td><td>rs13395369</td><td>0</td><td style=\"text-align: right;\">442</td><td style=\"text-align: right;\">325</td><td style=\"text-align: right;\">3.65</td><td style=\"text-align: right;\">106</td><td style=\"text-align: right;\">3.82</td><td style=\"text-align: right;\">11</td><td style=\"text-align: right;\">0.18</td><td style=\"text-align: right;\">0</td><td style=\"text-align: right;\">0.00</td><td style=\"text-align: right;\">0</td><td style=\"text-align: right;\">0.00</td><td style=\"text-align: right;\">0</td><td style=\"text-align: right;\">0.00</td><td style=\"text-align: right;\">0</td><td style=\"text-align: right;\">0.00</td></tr>\n",
       "<tr class=\"even\"><td style=\"text-align: right;\">877794</td><td style=\"text-align: right;\">136,298,739</td><td>rs13415926</td><td>0</td><td style=\"text-align: right;\">450</td><td style=\"text-align: right;\">331</td><td style=\"text-align: right;\">3.65</td><td style=\"text-align: right;\">105</td><td style=\"text-align: right;\">3.72</td><td style=\"text-align: right;\">11</td><td style=\"text-align: right;\">0.18</td><td style=\"text-align: right;\">0</td><td style=\"text-align: right;\">0.00</td><td style=\"text-align: right;\">0</td><td style=\"text-align: right;\">0.00</td><td style=\"text-align: right;\">3</td><td style=\"text-align: right;\">0.09</td><td style=\"text-align: right;\">0</td><td style=\"text-align: right;\">0.00</td></tr>\n",
       "<tr><td style=\"text-align: right;\">877810</td><td style=\"text-align: right;\">136,302,296</td><td>rs6710771</td><td>0</td><td style=\"text-align: right;\">447</td><td style=\"text-align: right;\">331</td><td style=\"text-align: right;\">3.68</td><td style=\"text-align: right;\">105</td><td style=\"text-align: right;\">3.75</td><td style=\"text-align: right;\">11</td><td style=\"text-align: right;\">0.18</td><td style=\"text-align: right;\">0</td><td style=\"text-align: right;\">0.00</td><td style=\"text-align: right;\">0</td><td style=\"text-align: right;\">0.00</td><td style=\"text-align: right;\">0</td><td style=\"text-align: right;\">0.00</td><td style=\"text-align: right;\">0</td><td style=\"text-align: right;\">0.00</td></tr>\n",
       "<tr class=\"even\"><td style=\"text-align: right;\">877811</td><td style=\"text-align: right;\">136,302,897</td><td>rs13399921</td><td>0</td><td style=\"text-align: right;\">447</td><td style=\"text-align: right;\">331</td><td style=\"text-align: right;\">3.68</td><td style=\"text-align: right;\">105</td><td style=\"text-align: right;\">3.75</td><td style=\"text-align: right;\">11</td><td style=\"text-align: right;\">0.18</td><td style=\"text-align: right;\">0</td><td style=\"text-align: right;\">0.00</td><td style=\"text-align: right;\">0</td><td style=\"text-align: right;\">0.00</td><td style=\"text-align: right;\">0</td><td style=\"text-align: right;\">0.00</td><td style=\"text-align: right;\">0</td><td style=\"text-align: right;\">0.00</td></tr>\n",
       "<tr><td style=\"text-align: right;\">877998</td><td style=\"text-align: right;\">136,348,702</td><td>rs72988444</td><td>0</td><td style=\"text-align: right;\">441</td><td style=\"text-align: right;\">326</td><td style=\"text-align: right;\">3.67</td><td style=\"text-align: right;\">105</td><td style=\"text-align: right;\">3.80</td><td style=\"text-align: right;\">10</td><td style=\"text-align: right;\">0.16</td><td style=\"text-align: right;\">0</td><td style=\"text-align: right;\">0.00</td><td style=\"text-align: right;\">0</td><td style=\"text-align: right;\">0.00</td><td style=\"text-align: right;\">0</td><td style=\"text-align: right;\">0.00</td><td style=\"text-align: right;\">0</td><td style=\"text-align: right;\">0.00</td></tr>\n",
       "<tr class=\"even\"><td style=\"text-align: right;\">877999</td><td style=\"text-align: right;\">136,348,964</td><td>rs13390177</td><td>0</td><td style=\"text-align: right;\">441</td><td style=\"text-align: right;\">326</td><td style=\"text-align: right;\">3.67</td><td style=\"text-align: right;\">105</td><td style=\"text-align: right;\">3.80</td><td style=\"text-align: right;\">10</td><td style=\"text-align: right;\">0.16</td><td style=\"text-align: right;\">0</td><td style=\"text-align: right;\">0.00</td><td style=\"text-align: right;\">0</td><td style=\"text-align: right;\">0.00</td><td style=\"text-align: right;\">0</td><td style=\"text-align: right;\">0.00</td><td style=\"text-align: right;\">0</td><td style=\"text-align: right;\">0.00</td></tr>\n",
       "<tr><td style=\"text-align: right;\">878037</td><td style=\"text-align: right;\">136,358,707</td><td>rs72988453</td><td>0</td><td style=\"text-align: right;\">440</td><td style=\"text-align: right;\">322</td><td style=\"text-align: right;\">3.64</td><td style=\"text-align: right;\">107</td><td style=\"text-align: right;\">3.88</td><td style=\"text-align: right;\">11</td><td style=\"text-align: right;\">0.18</td><td style=\"text-align: right;\">0</td><td style=\"text-align: right;\">0.00</td><td style=\"text-align: right;\">0</td><td style=\"text-align: right;\">0.00</td><td style=\"text-align: right;\">0</td><td style=\"text-align: right;\">0.00</td><td style=\"text-align: right;\">0</td><td style=\"text-align: right;\">0.00</td></tr>\n",
       "<tr class=\"even\"><td style=\"text-align: right;\">878041</td><td style=\"text-align: right;\">136,359,608</td><td>rs13419221</td><td>0</td><td style=\"text-align: right;\">442</td><td style=\"text-align: right;\">325</td><td style=\"text-align: right;\">3.65</td><td style=\"text-align: right;\">106</td><td style=\"text-align: right;\">3.82</td><td style=\"text-align: right;\">11</td><td style=\"text-align: right;\">0.18</td><td style=\"text-align: right;\">0</td><td style=\"text-align: right;\">0.00</td><td style=\"text-align: right;\">0</td><td style=\"text-align: right;\">0.00</td><td style=\"text-align: right;\">0</td><td style=\"text-align: right;\">0.00</td><td style=\"text-align: right;\">0</td><td style=\"text-align: right;\">0.00</td></tr>\n",
       "<tr><td style=\"text-align: right;\">878044</td><td style=\"text-align: right;\">136,360,402</td><td>rs59605415</td><td>0</td><td style=\"text-align: right;\">443</td><td style=\"text-align: right;\">325</td><td style=\"text-align: right;\">3.64</td><td style=\"text-align: right;\">106</td><td style=\"text-align: right;\">3.82</td><td style=\"text-align: right;\">11</td><td style=\"text-align: right;\">0.18</td><td style=\"text-align: right;\">0</td><td style=\"text-align: right;\">0.00</td><td style=\"text-align: right;\">1</td><td style=\"text-align: right;\">0.01</td><td style=\"text-align: right;\">0</td><td style=\"text-align: right;\">0.00</td><td style=\"text-align: right;\">0</td><td style=\"text-align: right;\">0.00</td></tr>\n",
       "<tr class=\"even\"><td style=\"text-align: right;\">878070</td><td style=\"text-align: right;\">136,365,624</td><td>rs13410248</td><td>0</td><td style=\"text-align: right;\">443</td><td style=\"text-align: right;\">326</td><td style=\"text-align: right;\">3.66</td><td style=\"text-align: right;\">106</td><td style=\"text-align: right;\">3.82</td><td style=\"text-align: right;\">11</td><td style=\"text-align: right;\">0.18</td><td style=\"text-align: right;\">0</td><td style=\"text-align: right;\">0.00</td><td style=\"text-align: right;\">0</td><td style=\"text-align: right;\">0.00</td><td style=\"text-align: right;\">0</td><td style=\"text-align: right;\">0.00</td><td style=\"text-align: right;\">0</td><td style=\"text-align: right;\">0.00</td></tr>\n",
       "<tr><td style=\"text-align: right;\">878073</td><td style=\"text-align: right;\">136,366,970</td><td>rs9679373</td><td>0</td><td style=\"text-align: right;\">444</td><td style=\"text-align: right;\">327</td><td style=\"text-align: right;\">3.66</td><td style=\"text-align: right;\">106</td><td style=\"text-align: right;\">3.81</td><td style=\"text-align: right;\">11</td><td style=\"text-align: right;\">0.18</td><td style=\"text-align: right;\">0</td><td style=\"text-align: right;\">0.00</td><td style=\"text-align: right;\">0</td><td style=\"text-align: right;\">0.00</td><td style=\"text-align: right;\">0</td><td style=\"text-align: right;\">0.00</td><td style=\"text-align: right;\">0</td><td style=\"text-align: right;\">0.00</td></tr>\n",
       "<tr class=\"even\"><td style=\"text-align: right;\">878079</td><td style=\"text-align: right;\">136,367,871</td><td>rs10199845</td><td>0</td><td style=\"text-align: right;\">443</td><td style=\"text-align: right;\">326</td><td style=\"text-align: right;\">3.66</td><td style=\"text-align: right;\">106</td><td style=\"text-align: right;\">3.82</td><td style=\"text-align: right;\">11</td><td style=\"text-align: right;\">0.18</td><td style=\"text-align: right;\">0</td><td style=\"text-align: right;\">0.00</td><td style=\"text-align: right;\">0</td><td style=\"text-align: right;\">0.00</td><td style=\"text-align: right;\">0</td><td style=\"text-align: right;\">0.00</td><td style=\"text-align: right;\">0</td><td style=\"text-align: right;\">0.00</td></tr>\n",
       "<tr><td style=\"text-align: right;\">878082</td><td style=\"text-align: right;\">136,368,393</td><td>rs13407606</td><td>0</td><td style=\"text-align: right;\">441</td><td style=\"text-align: right;\">324</td><td style=\"text-align: right;\">3.65</td><td style=\"text-align: right;\">106</td><td style=\"text-align: right;\">3.83</td><td style=\"text-align: right;\">11</td><td style=\"text-align: right;\">0.18</td><td style=\"text-align: right;\">0</td><td style=\"text-align: right;\">0.00</td><td style=\"text-align: right;\">0</td><td style=\"text-align: right;\">0.00</td><td style=\"text-align: right;\">0</td><td style=\"text-align: right;\">0.00</td><td style=\"text-align: right;\">0</td><td style=\"text-align: right;\">0.00</td></tr>\n",
       "<tr class=\"even\"><td style=\"text-align: right;\">878090</td><td style=\"text-align: right;\">136,370,701</td><td>rs9677401</td><td>0</td><td style=\"text-align: right;\">442</td><td style=\"text-align: right;\">325</td><td style=\"text-align: right;\">3.65</td><td style=\"text-align: right;\">106</td><td style=\"text-align: right;\">3.82</td><td style=\"text-align: right;\">11</td><td style=\"text-align: right;\">0.18</td><td style=\"text-align: right;\">0</td><td style=\"text-align: right;\">0.00</td><td style=\"text-align: right;\">0</td><td style=\"text-align: right;\">0.00</td><td style=\"text-align: right;\">0</td><td style=\"text-align: right;\">0.00</td><td style=\"text-align: right;\">0</td><td style=\"text-align: right;\">0.00</td></tr>\n",
       "<tr><td style=\"text-align: right;\">878115</td><td style=\"text-align: right;\">136,378,539</td><td>rs13398459</td><td>0</td><td style=\"text-align: right;\">442</td><td style=\"text-align: right;\">325</td><td style=\"text-align: right;\">3.65</td><td style=\"text-align: right;\">106</td><td style=\"text-align: right;\">3.82</td><td style=\"text-align: right;\">11</td><td style=\"text-align: right;\">0.18</td><td style=\"text-align: right;\">0</td><td style=\"text-align: right;\">0.00</td><td style=\"text-align: right;\">0</td><td style=\"text-align: right;\">0.00</td><td style=\"text-align: right;\">0</td><td style=\"text-align: right;\">0.00</td><td style=\"text-align: right;\">0</td><td style=\"text-align: right;\">0.00</td></tr>\n",
       "<tr class=\"even\"><td style=\"text-align: right;\">878117</td><td style=\"text-align: right;\">136,378,895</td><td>rs13398893</td><td>0</td><td style=\"text-align: right;\">442</td><td style=\"text-align: right;\">325</td><td style=\"text-align: right;\">3.65</td><td style=\"text-align: right;\">106</td><td style=\"text-align: right;\">3.82</td><td style=\"text-align: right;\">11</td><td style=\"text-align: right;\">0.18</td><td style=\"text-align: right;\">0</td><td style=\"text-align: right;\">0.00</td><td style=\"text-align: right;\">0</td><td style=\"text-align: right;\">0.00</td><td style=\"text-align: right;\">0</td><td style=\"text-align: right;\">0.00</td><td style=\"text-align: right;\">0</td><td style=\"text-align: right;\">0.00</td></tr>\n",
       "<tr><td style=\"text-align: right;\">878144</td><td style=\"text-align: right;\">136,385,280</td><td>rs60161420</td><td>0</td><td style=\"text-align: right;\">449</td><td style=\"text-align: right;\">330</td><td style=\"text-align: right;\">3.65</td><td style=\"text-align: right;\">107</td><td style=\"text-align: right;\">3.80</td><td style=\"text-align: right;\">12</td><td style=\"text-align: right;\">0.19</td><td style=\"text-align: right;\">0</td><td style=\"text-align: right;\">0.00</td><td style=\"text-align: right;\">0</td><td style=\"text-align: right;\">0.00</td><td style=\"text-align: right;\">0</td><td style=\"text-align: right;\">0.00</td><td style=\"text-align: right;\">0</td><td style=\"text-align: right;\">0.00</td></tr>\n",
       "</table>"
      ],
      "text/plain": [
       "<IPython.core.display.HTML object>"
      ]
     },
     "execution_count": 2,
     "metadata": {},
     "output_type": "execute_result"
    }
   ],
   "source": [
    "HTML(dm.series_html(dm.di_28_434))"
   ]
  },
  {
   "cell_type": "code",
   "execution_count": 3,
   "metadata": {
    "collapsed": false,
    "scrolled": false
   },
   "outputs": [
    {
     "data": {
      "text/html": [
       "<table>\n",
       "<thead><tr><th style=\"text-align:center\">index</th><th style=\"text-align:center\">first</th><th style=\"text-align:center\">length</th><th style=\"text-align:center\">snps</th><th style=\"text-align:center\" colspan=2>alleles</th><th style=\"text-align:center\" colspan=2>matches</th><th style=\"text-align:center\" colspan=2>afr</th><th style=\"text-align:center\" colspan=2>afx</th><th style=\"text-align:center\" colspan=2>amr</th><th style=\"text-align:center\" colspan=2>eas</th><th style=\"text-align:center\" colspan=2>eur</th><th style=\"text-align:center\" colspan=2>sas</th><th style=\"text-align:center\" colspan=2>sax</th></tr></thead>\n",
       "<tr class=\"even\"><td style=\"text-align: right;\">353921</td><td style=\"text-align: right;\">136,501,840</td><td style=\"text-align: right;\">53,819</td><td style=\"text-align: right;\">10</td><td style=\"text-align: right;\">2206</td><td style=\"text-align: right;\">0.02</td><td style=\"text-align: right;\">38</td><td style=\"text-align: right;\">0.09</td><td style=\"text-align: right;\">30</td><td style=\"text-align: right;\">3.92</td><td style=\"text-align: right;\">6</td><td style=\"text-align: right;\">2.52</td><td style=\"text-align: right;\">2</td><td style=\"text-align: right;\">0.38</td><td style=\"text-align: right;\">0</td><td style=\"text-align: right;\">0.00</td><td style=\"text-align: right;\">0</td><td style=\"text-align: right;\">0.00</td><td style=\"text-align: right;\">0</td><td style=\"text-align: right;\">0.00</td><td style=\"text-align: right;\">0</td><td style=\"text-align: right;\">0.00</td></tr>\n",
       "<tr><td style=\"text-align: right;\">354170</td><td style=\"text-align: right;\">136,682,274</td><td style=\"text-align: right;\">93,624</td><td style=\"text-align: right;\">7</td><td style=\"text-align: right;\">1868</td><td style=\"text-align: right;\">0.07</td><td style=\"text-align: right;\">127</td><td style=\"text-align: right;\">0.29</td><td style=\"text-align: right;\">90</td><td style=\"text-align: right;\">3.52</td><td style=\"text-align: right;\">33</td><td style=\"text-align: right;\">4.14</td><td style=\"text-align: right;\">4</td><td style=\"text-align: right;\">0.23</td><td style=\"text-align: right;\">0</td><td style=\"text-align: right;\">0.00</td><td style=\"text-align: right;\">0</td><td style=\"text-align: right;\">0.00</td><td style=\"text-align: right;\">0</td><td style=\"text-align: right;\">0.00</td><td style=\"text-align: right;\">0</td><td style=\"text-align: right;\">0.00</td></tr>\n",
       "<tr class=\"even\"><td style=\"text-align: right;\">354033</td><td style=\"text-align: right;\">136,588,031</td><td style=\"text-align: right;\">5,647</td><td style=\"text-align: right;\">7</td><td style=\"text-align: right;\">1760</td><td style=\"text-align: right;\">0.15</td><td style=\"text-align: right;\">257</td><td style=\"text-align: right;\">0.59</td><td style=\"text-align: right;\">194</td><td style=\"text-align: right;\">3.75</td><td style=\"text-align: right;\">56</td><td style=\"text-align: right;\">3.48</td><td style=\"text-align: right;\">7</td><td style=\"text-align: right;\">0.20</td><td style=\"text-align: right;\">0</td><td style=\"text-align: right;\">0.00</td><td style=\"text-align: right;\">0</td><td style=\"text-align: right;\">0.00</td><td style=\"text-align: right;\">0</td><td style=\"text-align: right;\">0.00</td><td style=\"text-align: right;\">0</td><td style=\"text-align: right;\">0.00</td></tr>\n",
       "<tr><td style=\"text-align: right;\">353462</td><td style=\"text-align: right;\">135,915,358</td><td style=\"text-align: right;\">79,721</td><td style=\"text-align: right;\">4</td><td style=\"text-align: right;\">1699</td><td style=\"text-align: right;\">0.00</td><td style=\"text-align: right;\">1</td><td style=\"text-align: right;\">0.00</td><td style=\"text-align: right;\">1</td><td style=\"text-align: right;\">4.97</td><td style=\"text-align: right;\">0</td><td style=\"text-align: right;\">0.00</td><td style=\"text-align: right;\">0</td><td style=\"text-align: right;\">0.00</td><td style=\"text-align: right;\">0</td><td style=\"text-align: right;\">0.00</td><td style=\"text-align: right;\">0</td><td style=\"text-align: right;\">0.00</td><td style=\"text-align: right;\">0</td><td style=\"text-align: right;\">0.00</td><td style=\"text-align: right;\">0</td><td style=\"text-align: right;\">0.00</td></tr>\n",
       "<tr class=\"even\"><td style=\"text-align: right;\">353240</td><td style=\"text-align: right;\">135,757,320</td><td style=\"text-align: right;\">20,184</td><td style=\"text-align: right;\">13</td><td style=\"text-align: right;\">1696</td><td style=\"text-align: right;\">0.19</td><td style=\"text-align: right;\">327</td><td style=\"text-align: right;\">0.75</td><td style=\"text-align: right;\">239</td><td style=\"text-align: right;\">3.63</td><td style=\"text-align: right;\">82</td><td style=\"text-align: right;\">4.00</td><td style=\"text-align: right;\">6</td><td style=\"text-align: right;\">0.13</td><td style=\"text-align: right;\">0</td><td style=\"text-align: right;\">0.00</td><td style=\"text-align: right;\">0</td><td style=\"text-align: right;\">0.00</td><td style=\"text-align: right;\">0</td><td style=\"text-align: right;\">0.00</td><td style=\"text-align: right;\">0</td><td style=\"text-align: right;\">0.00</td></tr>\n",
       "<tr><td style=\"text-align: right;\">353244</td><td style=\"text-align: right;\">135,758,231</td><td style=\"text-align: right;\">618,284</td><td style=\"text-align: right;\">117</td><td style=\"text-align: right;\">1685</td><td style=\"text-align: right;\">0.10</td><td style=\"text-align: right;\">176</td><td style=\"text-align: right;\">0.41</td><td style=\"text-align: right;\">122</td><td style=\"text-align: right;\">3.44</td><td style=\"text-align: right;\">49</td><td style=\"text-align: right;\">4.44</td><td style=\"text-align: right;\">5</td><td style=\"text-align: right;\">0.21</td><td style=\"text-align: right;\">0</td><td style=\"text-align: right;\">0.00</td><td style=\"text-align: right;\">0</td><td style=\"text-align: right;\">0.00</td><td style=\"text-align: right;\">0</td><td style=\"text-align: right;\">0.00</td><td style=\"text-align: right;\">0</td><td style=\"text-align: right;\">0.00</td></tr>\n",
       "<tr class=\"even\"><td style=\"text-align: right;\">353901</td><td style=\"text-align: right;\">136,494,186</td><td style=\"text-align: right;\">271,765</td><td style=\"text-align: right;\">64</td><td style=\"text-align: right;\">1575</td><td style=\"text-align: right;\">0.00</td><td style=\"text-align: right;\">4</td><td style=\"text-align: right;\">0.01</td><td style=\"text-align: right;\">4</td><td style=\"text-align: right;\">4.97</td><td style=\"text-align: right;\">0</td><td style=\"text-align: right;\">0.00</td><td style=\"text-align: right;\">0</td><td style=\"text-align: right;\">0.00</td><td style=\"text-align: right;\">0</td><td style=\"text-align: right;\">0.00</td><td style=\"text-align: right;\">0</td><td style=\"text-align: right;\">0.00</td><td style=\"text-align: right;\">0</td><td style=\"text-align: right;\">0.00</td><td style=\"text-align: right;\">0</td><td style=\"text-align: right;\">0.00</td></tr>\n",
       "<tr><td style=\"text-align: right;\">353478</td><td style=\"text-align: right;\">135,933,921</td><td style=\"text-align: right;\">434,642</td><td style=\"text-align: right;\">123</td><td style=\"text-align: right;\">1561</td><td style=\"text-align: right;\">0.18</td><td style=\"text-align: right;\">285</td><td style=\"text-align: right;\">0.66</td><td style=\"text-align: right;\">214</td><td style=\"text-align: right;\">3.73</td><td style=\"text-align: right;\">64</td><td style=\"text-align: right;\">3.58</td><td style=\"text-align: right;\">7</td><td style=\"text-align: right;\">0.18</td><td style=\"text-align: right;\">0</td><td style=\"text-align: right;\">0.00</td><td style=\"text-align: right;\">0</td><td style=\"text-align: right;\">0.00</td><td style=\"text-align: right;\">0</td><td style=\"text-align: right;\">0.00</td><td style=\"text-align: right;\">0</td><td style=\"text-align: right;\">0.00</td></tr>\n",
       "<tr class=\"even\"><td style=\"text-align: right;\">354130</td><td style=\"text-align: right;\">136,653,925</td><td style=\"text-align: right;\">107,928</td><td style=\"text-align: right;\">24</td><td style=\"text-align: right;\">1504</td><td style=\"text-align: right;\">0.09</td><td style=\"text-align: right;\">136</td><td style=\"text-align: right;\">0.31</td><td style=\"text-align: right;\">92</td><td style=\"text-align: right;\">3.36</td><td style=\"text-align: right;\">38</td><td style=\"text-align: right;\">4.46</td><td style=\"text-align: right;\">6</td><td style=\"text-align: right;\">0.32</td><td style=\"text-align: right;\">0</td><td style=\"text-align: right;\">0.00</td><td style=\"text-align: right;\">0</td><td style=\"text-align: right;\">0.00</td><td style=\"text-align: right;\">0</td><td style=\"text-align: right;\">0.00</td><td style=\"text-align: right;\">0</td><td style=\"text-align: right;\">0.00</td></tr>\n",
       "<tr><td style=\"text-align: right;\">353814</td><td style=\"text-align: right;\">136,406,646</td><td style=\"text-align: right;\">31,432</td><td style=\"text-align: right;\">5</td><td style=\"text-align: right;\">1460</td><td style=\"text-align: right;\">0.14</td><td style=\"text-align: right;\">210</td><td style=\"text-align: right;\">0.48</td><td style=\"text-align: right;\">150</td><td style=\"text-align: right;\">3.55</td><td style=\"text-align: right;\">55</td><td style=\"text-align: right;\">4.18</td><td style=\"text-align: right;\">5</td><td style=\"text-align: right;\">0.17</td><td style=\"text-align: right;\">0</td><td style=\"text-align: right;\">0.00</td><td style=\"text-align: right;\">0</td><td style=\"text-align: right;\">0.00</td><td style=\"text-align: right;\">0</td><td style=\"text-align: right;\">0.00</td><td style=\"text-align: right;\">0</td><td style=\"text-align: right;\">0.00</td></tr>\n",
       "<tr class=\"even\"><td style=\"text-align: right;\">353925</td><td style=\"text-align: right;\">136,506,375</td><td style=\"text-align: right;\">32,564</td><td style=\"text-align: right;\">4</td><td style=\"text-align: right;\">1442</td><td style=\"text-align: right;\">0.08</td><td style=\"text-align: right;\">110</td><td style=\"text-align: right;\">0.25</td><td style=\"text-align: right;\">74</td><td style=\"text-align: right;\">3.34</td><td style=\"text-align: right;\">32</td><td style=\"text-align: right;\">4.64</td><td style=\"text-align: right;\">4</td><td style=\"text-align: right;\">0.26</td><td style=\"text-align: right;\">0</td><td style=\"text-align: right;\">0.00</td><td style=\"text-align: right;\">0</td><td style=\"text-align: right;\">0.00</td><td style=\"text-align: right;\">0</td><td style=\"text-align: right;\">0.00</td><td style=\"text-align: right;\">0</td><td style=\"text-align: right;\">0.00</td></tr>\n",
       "<tr><td style=\"text-align: right;\">353797</td><td style=\"text-align: right;\">136,398,174</td><td style=\"text-align: right;\">75,924</td><td style=\"text-align: right;\">26</td><td style=\"text-align: right;\">1414</td><td style=\"text-align: right;\">0.00</td><td style=\"text-align: right;\">2</td><td style=\"text-align: right;\">0.00</td><td style=\"text-align: right;\">2</td><td style=\"text-align: right;\">4.97</td><td style=\"text-align: right;\">0</td><td style=\"text-align: right;\">0.00</td><td style=\"text-align: right;\">0</td><td style=\"text-align: right;\">0.00</td><td style=\"text-align: right;\">0</td><td style=\"text-align: right;\">0.00</td><td style=\"text-align: right;\">0</td><td style=\"text-align: right;\">0.00</td><td style=\"text-align: right;\">0</td><td style=\"text-align: right;\">0.00</td><td style=\"text-align: right;\">0</td><td style=\"text-align: right;\">0.00</td></tr>\n",
       "<tr class=\"even\"><td style=\"text-align: right;\">353791</td><td style=\"text-align: right;\">136,393,658</td><td style=\"text-align: right;\">92,684</td><td style=\"text-align: right;\">32</td><td style=\"text-align: right;\">1361</td><td style=\"text-align: right;\">0.00</td><td style=\"text-align: right;\">2</td><td style=\"text-align: right;\">0.00</td><td style=\"text-align: right;\">2</td><td style=\"text-align: right;\">4.97</td><td style=\"text-align: right;\">0</td><td style=\"text-align: right;\">0.00</td><td style=\"text-align: right;\">0</td><td style=\"text-align: right;\">0.00</td><td style=\"text-align: right;\">0</td><td style=\"text-align: right;\">0.00</td><td style=\"text-align: right;\">0</td><td style=\"text-align: right;\">0.00</td><td style=\"text-align: right;\">0</td><td style=\"text-align: right;\">0.00</td><td style=\"text-align: right;\">0</td><td style=\"text-align: right;\">0.00</td></tr>\n",
       "<tr><td style=\"text-align: right;\">353958</td><td style=\"text-align: right;\">136,535,876</td><td style=\"text-align: right;\">19,014</td><td style=\"text-align: right;\">7</td><td style=\"text-align: right;\">1303</td><td style=\"text-align: right;\">0.15</td><td style=\"text-align: right;\">191</td><td style=\"text-align: right;\">0.44</td><td style=\"text-align: right;\">137</td><td style=\"text-align: right;\">3.56</td><td style=\"text-align: right;\">49</td><td style=\"text-align: right;\">4.09</td><td style=\"text-align: right;\">5</td><td style=\"text-align: right;\">0.19</td><td style=\"text-align: right;\">0</td><td style=\"text-align: right;\">0.00</td><td style=\"text-align: right;\">0</td><td style=\"text-align: right;\">0.00</td><td style=\"text-align: right;\">0</td><td style=\"text-align: right;\">0.00</td><td style=\"text-align: right;\">0</td><td style=\"text-align: right;\">0.00</td></tr>\n",
       "<tr class=\"even\"><td style=\"text-align: right;\">354129</td><td style=\"text-align: right;\">136,652,953</td><td style=\"text-align: right;\">108,222</td><td style=\"text-align: right;\">5</td><td style=\"text-align: right;\">1296</td><td style=\"text-align: right;\">0.08</td><td style=\"text-align: right;\">109</td><td style=\"text-align: right;\">0.25</td><td style=\"text-align: right;\">72</td><td style=\"text-align: right;\">3.28</td><td style=\"text-align: right;\">33</td><td style=\"text-align: right;\">4.83</td><td style=\"text-align: right;\">4</td><td style=\"text-align: right;\">0.26</td><td style=\"text-align: right;\">0</td><td style=\"text-align: right;\">0.00</td><td style=\"text-align: right;\">0</td><td style=\"text-align: right;\">0.00</td><td style=\"text-align: right;\">0</td><td style=\"text-align: right;\">0.00</td><td style=\"text-align: right;\">0</td><td style=\"text-align: right;\">0.00</td></tr>\n",
       "<tr><td style=\"text-align: right;\">353919</td><td style=\"text-align: right;\">136,500,475</td><td style=\"text-align: right;\">42,085</td><td style=\"text-align: right;\">13</td><td style=\"text-align: right;\">1227</td><td style=\"text-align: right;\">0.01</td><td style=\"text-align: right;\">14</td><td style=\"text-align: right;\">0.03</td><td style=\"text-align: right;\">10</td><td style=\"text-align: right;\">3.55</td><td style=\"text-align: right;\">3</td><td style=\"text-align: right;\">3.42</td><td style=\"text-align: right;\">1</td><td style=\"text-align: right;\">0.52</td><td style=\"text-align: right;\">0</td><td style=\"text-align: right;\">0.00</td><td style=\"text-align: right;\">0</td><td style=\"text-align: right;\">0.00</td><td style=\"text-align: right;\">0</td><td style=\"text-align: right;\">0.00</td><td style=\"text-align: right;\">0</td><td style=\"text-align: right;\">0.00</td></tr>\n",
       "<tr class=\"even\"><td style=\"text-align: right;\">353790</td><td style=\"text-align: right;\">136,393,157</td><td style=\"text-align: right;\">48,253</td><td style=\"text-align: right;\">10</td><td style=\"text-align: right;\">1218</td><td style=\"text-align: right;\">0.21</td><td style=\"text-align: right;\">252</td><td style=\"text-align: right;\">0.58</td><td style=\"text-align: right;\">192</td><td style=\"text-align: right;\">3.79</td><td style=\"text-align: right;\">56</td><td style=\"text-align: right;\">3.54</td><td style=\"text-align: right;\">4</td><td style=\"text-align: right;\">0.11</td><td style=\"text-align: right;\">0</td><td style=\"text-align: right;\">0.00</td><td style=\"text-align: right;\">0</td><td style=\"text-align: right;\">0.00</td><td style=\"text-align: right;\">0</td><td style=\"text-align: right;\">0.00</td><td style=\"text-align: right;\">0</td><td style=\"text-align: right;\">0.00</td></tr>\n",
       "<tr><td style=\"text-align: right;\">353906</td><td style=\"text-align: right;\">136,496,493</td><td style=\"text-align: right;\">57,432</td><td style=\"text-align: right;\">9</td><td style=\"text-align: right;\">1170</td><td style=\"text-align: right;\">0.13</td><td style=\"text-align: right;\">157</td><td style=\"text-align: right;\">0.36</td><td style=\"text-align: right;\">118</td><td style=\"text-align: right;\">3.73</td><td style=\"text-align: right;\">37</td><td style=\"text-align: right;\">3.76</td><td style=\"text-align: right;\">2</td><td style=\"text-align: right;\">0.09</td><td style=\"text-align: right;\">0</td><td style=\"text-align: right;\">0.00</td><td style=\"text-align: right;\">0</td><td style=\"text-align: right;\">0.00</td><td style=\"text-align: right;\">0</td><td style=\"text-align: right;\">0.00</td><td style=\"text-align: right;\">0</td><td style=\"text-align: right;\">0.00</td></tr>\n",
       "<tr class=\"even\"><td style=\"text-align: right;\">353849</td><td style=\"text-align: right;\">136,447,707</td><td style=\"text-align: right;\">42,559</td><td style=\"text-align: right;\">4</td><td style=\"text-align: right;\">1149</td><td style=\"text-align: right;\">0.00</td><td style=\"text-align: right;\">2</td><td style=\"text-align: right;\">0.00</td><td style=\"text-align: right;\">2</td><td style=\"text-align: right;\">4.97</td><td style=\"text-align: right;\">0</td><td style=\"text-align: right;\">0.00</td><td style=\"text-align: right;\">0</td><td style=\"text-align: right;\">0.00</td><td style=\"text-align: right;\">0</td><td style=\"text-align: right;\">0.00</td><td style=\"text-align: right;\">0</td><td style=\"text-align: right;\">0.00</td><td style=\"text-align: right;\">0</td><td style=\"text-align: right;\">0.00</td><td style=\"text-align: right;\">0</td><td style=\"text-align: right;\">0.00</td></tr>\n",
       "<tr><td style=\"text-align: right;\">354127</td><td style=\"text-align: right;\">136,652,491</td><td style=\"text-align: right;\">80,281</td><td style=\"text-align: right;\">6</td><td style=\"text-align: right;\">1114</td><td style=\"text-align: right;\">0.10</td><td style=\"text-align: right;\">109</td><td style=\"text-align: right;\">0.25</td><td style=\"text-align: right;\">72</td><td style=\"text-align: right;\">3.28</td><td style=\"text-align: right;\">33</td><td style=\"text-align: right;\">4.83</td><td style=\"text-align: right;\">4</td><td style=\"text-align: right;\">0.26</td><td style=\"text-align: right;\">0</td><td style=\"text-align: right;\">0.00</td><td style=\"text-align: right;\">0</td><td style=\"text-align: right;\">0.00</td><td style=\"text-align: right;\">0</td><td style=\"text-align: right;\">0.00</td><td style=\"text-align: right;\">0</td><td style=\"text-align: right;\">0.00</td></tr>\n",
       "<tr class=\"even\"><td style=\"text-align: right;\">353907</td><td style=\"text-align: right;\">136,496,805</td><td style=\"text-align: right;\">55,824</td><td style=\"text-align: right;\">9</td><td style=\"text-align: right;\">1023</td><td style=\"text-align: right;\">0.02</td><td style=\"text-align: right;\">19</td><td style=\"text-align: right;\">0.04</td><td style=\"text-align: right;\">18</td><td style=\"text-align: right;\">4.71</td><td style=\"text-align: right;\">1</td><td style=\"text-align: right;\">0.84</td><td style=\"text-align: right;\">0</td><td style=\"text-align: right;\">0.00</td><td style=\"text-align: right;\">0</td><td style=\"text-align: right;\">0.00</td><td style=\"text-align: right;\">0</td><td style=\"text-align: right;\">0.00</td><td style=\"text-align: right;\">0</td><td style=\"text-align: right;\">0.00</td><td style=\"text-align: right;\">0</td><td style=\"text-align: right;\">0.00</td></tr>\n",
       "<tr><td style=\"text-align: right;\">353984</td><td style=\"text-align: right;\">136,556,805</td><td style=\"text-align: right;\">190,280</td><td style=\"text-align: right;\">39</td><td style=\"text-align: right;\">1014</td><td style=\"text-align: right;\">0.06</td><td style=\"text-align: right;\">56</td><td style=\"text-align: right;\">0.13</td><td style=\"text-align: right;\">41</td><td style=\"text-align: right;\">3.64</td><td style=\"text-align: right;\">14</td><td style=\"text-align: right;\">3.99</td><td style=\"text-align: right;\">1</td><td style=\"text-align: right;\">0.13</td><td style=\"text-align: right;\">0</td><td style=\"text-align: right;\">0.00</td><td style=\"text-align: right;\">0</td><td style=\"text-align: right;\">0.00</td><td style=\"text-align: right;\">0</td><td style=\"text-align: right;\">0.00</td><td style=\"text-align: right;\">0</td><td style=\"text-align: right;\">0.00</td></tr>\n",
       "<tr class=\"even\"><td style=\"text-align: right;\">353935</td><td style=\"text-align: right;\">136,511,874</td><td style=\"text-align: right;\">21,321</td><td style=\"text-align: right;\">5</td><td style=\"text-align: right;\">976</td><td style=\"text-align: right;\">0.16</td><td style=\"text-align: right;\">157</td><td style=\"text-align: right;\">0.36</td><td style=\"text-align: right;\">118</td><td style=\"text-align: right;\">3.73</td><td style=\"text-align: right;\">37</td><td style=\"text-align: right;\">3.76</td><td style=\"text-align: right;\">2</td><td style=\"text-align: right;\">0.09</td><td style=\"text-align: right;\">0</td><td style=\"text-align: right;\">0.00</td><td style=\"text-align: right;\">0</td><td style=\"text-align: right;\">0.00</td><td style=\"text-align: right;\">0</td><td style=\"text-align: right;\">0.00</td><td style=\"text-align: right;\">0</td><td style=\"text-align: right;\">0.00</td></tr>\n",
       "<tr><td style=\"text-align: right;\">353504</td><td style=\"text-align: right;\">135,964,764</td><td style=\"text-align: right;\">136,368</td><td style=\"text-align: right;\">6</td><td style=\"text-align: right;\">946</td><td style=\"text-align: right;\">0.07</td><td style=\"text-align: right;\">62</td><td style=\"text-align: right;\">0.14</td><td style=\"text-align: right;\">37</td><td style=\"text-align: right;\">2.96</td><td style=\"text-align: right;\">24</td><td style=\"text-align: right;\">6.17</td><td style=\"text-align: right;\">1</td><td style=\"text-align: right;\">0.12</td><td style=\"text-align: right;\">0</td><td style=\"text-align: right;\">0.00</td><td style=\"text-align: right;\">0</td><td style=\"text-align: right;\">0.00</td><td style=\"text-align: right;\">0</td><td style=\"text-align: right;\">0.00</td><td style=\"text-align: right;\">0</td><td style=\"text-align: right;\">0.00</td></tr>\n",
       "<tr class=\"even\"><td style=\"text-align: right;\">353807</td><td style=\"text-align: right;\">136,403,994</td><td style=\"text-align: right;\">81,102</td><td style=\"text-align: right;\">13</td><td style=\"text-align: right;\">911</td><td style=\"text-align: right;\">0.00</td><td style=\"text-align: right;\">1</td><td style=\"text-align: right;\">0.00</td><td style=\"text-align: right;\">1</td><td style=\"text-align: right;\">4.97</td><td style=\"text-align: right;\">0</td><td style=\"text-align: right;\">0.00</td><td style=\"text-align: right;\">0</td><td style=\"text-align: right;\">0.00</td><td style=\"text-align: right;\">0</td><td style=\"text-align: right;\">0.00</td><td style=\"text-align: right;\">0</td><td style=\"text-align: right;\">0.00</td><td style=\"text-align: right;\">0</td><td style=\"text-align: right;\">0.00</td><td style=\"text-align: right;\">0</td><td style=\"text-align: right;\">0.00</td></tr>\n",
       "<tr><td style=\"text-align: right;\">353729</td><td style=\"text-align: right;\">136,309,239</td><td style=\"text-align: right;\">52,321</td><td style=\"text-align: right;\">9</td><td style=\"text-align: right;\">887</td><td style=\"text-align: right;\">0.49</td><td style=\"text-align: right;\">434</td><td style=\"text-align: right;\">1.00</td><td style=\"text-align: right;\">318</td><td style=\"text-align: right;\">3.64</td><td style=\"text-align: right;\">105</td><td style=\"text-align: right;\">3.86</td><td style=\"text-align: right;\">11</td><td style=\"text-align: right;\">0.18</td><td style=\"text-align: right;\">0</td><td style=\"text-align: right;\">0.00</td><td style=\"text-align: right;\">0</td><td style=\"text-align: right;\">0.00</td><td style=\"text-align: right;\">0</td><td style=\"text-align: right;\">0.00</td><td style=\"text-align: right;\">0</td><td style=\"text-align: right;\">0.00</td></tr>\n",
       "<tr class=\"even\"><td style=\"text-align: right;\">353902</td><td style=\"text-align: right;\">136,494,985</td><td style=\"text-align: right;\">278,653</td><td style=\"text-align: right;\">81</td><td style=\"text-align: right;\">857</td><td style=\"text-align: right;\">0.02</td><td style=\"text-align: right;\">13</td><td style=\"text-align: right;\">0.03</td><td style=\"text-align: right;\">9</td><td style=\"text-align: right;\">3.44</td><td style=\"text-align: right;\">3</td><td style=\"text-align: right;\">3.68</td><td style=\"text-align: right;\">1</td><td style=\"text-align: right;\">0.56</td><td style=\"text-align: right;\">0</td><td style=\"text-align: right;\">0.00</td><td style=\"text-align: right;\">0</td><td style=\"text-align: right;\">0.00</td><td style=\"text-align: right;\">0</td><td style=\"text-align: right;\">0.00</td><td style=\"text-align: right;\">0</td><td style=\"text-align: right;\">0.00</td></tr>\n",
       "<tr><td style=\"text-align: right;\">353938</td><td style=\"text-align: right;\">136,514,709</td><td style=\"text-align: right;\">28,438</td><td style=\"text-align: right;\">6</td><td style=\"text-align: right;\">820</td><td style=\"text-align: right;\">0.02</td><td style=\"text-align: right;\">19</td><td style=\"text-align: right;\">0.04</td><td style=\"text-align: right;\">18</td><td style=\"text-align: right;\">4.71</td><td style=\"text-align: right;\">1</td><td style=\"text-align: right;\">0.84</td><td style=\"text-align: right;\">0</td><td style=\"text-align: right;\">0.00</td><td style=\"text-align: right;\">0</td><td style=\"text-align: right;\">0.00</td><td style=\"text-align: right;\">0</td><td style=\"text-align: right;\">0.00</td><td style=\"text-align: right;\">0</td><td style=\"text-align: right;\">0.00</td><td style=\"text-align: right;\">0</td><td style=\"text-align: right;\">0.00</td></tr>\n",
       "<tr class=\"even\"><td style=\"text-align: right;\">353384</td><td style=\"text-align: right;\">135,839,805</td><td style=\"text-align: right;\">84,662</td><td style=\"text-align: right;\">4</td><td style=\"text-align: right;\">815</td><td style=\"text-align: right;\">0.00</td><td style=\"text-align: right;\">1</td><td style=\"text-align: right;\">0.00</td><td style=\"text-align: right;\">1</td><td style=\"text-align: right;\">4.97</td><td style=\"text-align: right;\">0</td><td style=\"text-align: right;\">0.00</td><td style=\"text-align: right;\">0</td><td style=\"text-align: right;\">0.00</td><td style=\"text-align: right;\">0</td><td style=\"text-align: right;\">0.00</td><td style=\"text-align: right;\">0</td><td style=\"text-align: right;\">0.00</td><td style=\"text-align: right;\">0</td><td style=\"text-align: right;\">0.00</td><td style=\"text-align: right;\">0</td><td style=\"text-align: right;\">0.00</td></tr>\n",
       "<tr><td style=\"text-align: right;\">353312</td><td style=\"text-align: right;\">135,784,351</td><td style=\"text-align: right;\">117,869</td><td style=\"text-align: right;\">8</td><td style=\"text-align: right;\">718</td><td style=\"text-align: right;\">0.21</td><td style=\"text-align: right;\">148</td><td style=\"text-align: right;\">0.34</td><td style=\"text-align: right;\">102</td><td style=\"text-align: right;\">3.42</td><td style=\"text-align: right;\">42</td><td style=\"text-align: right;\">4.53</td><td style=\"text-align: right;\">4</td><td style=\"text-align: right;\">0.20</td><td style=\"text-align: right;\">0</td><td style=\"text-align: right;\">0.00</td><td style=\"text-align: right;\">0</td><td style=\"text-align: right;\">0.00</td><td style=\"text-align: right;\">0</td><td style=\"text-align: right;\">0.00</td><td style=\"text-align: right;\">0</td><td style=\"text-align: right;\">0.00</td></tr>\n",
       "<tr class=\"even\"><td style=\"text-align: right;\">353851</td><td style=\"text-align: right;\">136,448,855</td><td style=\"text-align: right;\">17,976</td><td style=\"text-align: right;\">4</td><td style=\"text-align: right;\">612</td><td style=\"text-align: right;\">0.50</td><td style=\"text-align: right;\">309</td><td style=\"text-align: right;\">0.71</td><td style=\"text-align: right;\">228</td><td style=\"text-align: right;\">3.67</td><td style=\"text-align: right;\">72</td><td style=\"text-align: right;\">3.72</td><td style=\"text-align: right;\">9</td><td style=\"text-align: right;\">0.21</td><td style=\"text-align: right;\">0</td><td style=\"text-align: right;\">0.00</td><td style=\"text-align: right;\">0</td><td style=\"text-align: right;\">0.00</td><td style=\"text-align: right;\">0</td><td style=\"text-align: right;\">0.00</td><td style=\"text-align: right;\">0</td><td style=\"text-align: right;\">0.00</td></tr>\n",
       "<tr><td style=\"text-align: right;\">353764</td><td style=\"text-align: right;\">136,364,916</td><td style=\"text-align: right;\">22,977</td><td style=\"text-align: right;\">5</td><td style=\"text-align: right;\">588</td><td style=\"text-align: right;\">0.73</td><td style=\"text-align: right;\">430</td><td style=\"text-align: right;\">0.99</td><td style=\"text-align: right;\">315</td><td style=\"text-align: right;\">3.64</td><td style=\"text-align: right;\">104</td><td style=\"text-align: right;\">3.86</td><td style=\"text-align: right;\">11</td><td style=\"text-align: right;\">0.18</td><td style=\"text-align: right;\">0</td><td style=\"text-align: right;\">0.00</td><td style=\"text-align: right;\">0</td><td style=\"text-align: right;\">0.00</td><td style=\"text-align: right;\">0</td><td style=\"text-align: right;\">0.00</td><td style=\"text-align: right;\">0</td><td style=\"text-align: right;\">0.00</td></tr>\n",
       "<tr class=\"even\"><td style=\"text-align: right;\">353349</td><td style=\"text-align: right;\">135,810,535</td><td style=\"text-align: right;\">87,488</td><td style=\"text-align: right;\">9</td><td style=\"text-align: right;\">545</td><td style=\"text-align: right;\">0.26</td><td style=\"text-align: right;\">143</td><td style=\"text-align: right;\">0.33</td><td style=\"text-align: right;\">100</td><td style=\"text-align: right;\">3.47</td><td style=\"text-align: right;\">40</td><td style=\"text-align: right;\">4.46</td><td style=\"text-align: right;\">3</td><td style=\"text-align: right;\">0.15</td><td style=\"text-align: right;\">0</td><td style=\"text-align: right;\">0.00</td><td style=\"text-align: right;\">0</td><td style=\"text-align: right;\">0.00</td><td style=\"text-align: right;\">0</td><td style=\"text-align: right;\">0.00</td><td style=\"text-align: right;\">0</td><td style=\"text-align: right;\">0.00</td></tr>\n",
       "<tr><td style=\"text-align: right;\">354061</td><td style=\"text-align: right;\">136,603,638</td><td style=\"text-align: right;\">28,487</td><td style=\"text-align: right;\">16</td><td style=\"text-align: right;\">511</td><td style=\"text-align: right;\">0.35</td><td style=\"text-align: right;\">181</td><td style=\"text-align: right;\">0.42</td><td style=\"text-align: right;\">142</td><td style=\"text-align: right;\">3.90</td><td style=\"text-align: right;\">35</td><td style=\"text-align: right;\">3.08</td><td style=\"text-align: right;\">4</td><td style=\"text-align: right;\">0.16</td><td style=\"text-align: right;\">0</td><td style=\"text-align: right;\">0.00</td><td style=\"text-align: right;\">0</td><td style=\"text-align: right;\">0.00</td><td style=\"text-align: right;\">0</td><td style=\"text-align: right;\">0.00</td><td style=\"text-align: right;\">0</td><td style=\"text-align: right;\">0.00</td></tr>\n",
       "<tr class=\"even\"><td style=\"text-align: right;\">353614</td><td style=\"text-align: right;\">136,115,507</td><td style=\"text-align: right;\">269,773</td><td style=\"text-align: right;\">28</td><td style=\"text-align: right;\">434</td><td style=\"text-align: right;\">1.00</td><td style=\"text-align: right;\">434</td><td style=\"text-align: right;\">1.00</td><td style=\"text-align: right;\">318</td><td style=\"text-align: right;\">3.64</td><td style=\"text-align: right;\">105</td><td style=\"text-align: right;\">3.86</td><td style=\"text-align: right;\">11</td><td style=\"text-align: right;\">0.18</td><td style=\"text-align: right;\">0</td><td style=\"text-align: right;\">0.00</td><td style=\"text-align: right;\">0</td><td style=\"text-align: right;\">0.00</td><td style=\"text-align: right;\">0</td><td style=\"text-align: right;\">0.00</td><td style=\"text-align: right;\">0</td><td style=\"text-align: right;\">0.00</td></tr>\n",
       "<tr><td style=\"text-align: right;\">353904</td><td style=\"text-align: right;\">136,495,815</td><td style=\"text-align: right;\">46,924</td><td style=\"text-align: right;\">9</td><td style=\"text-align: right;\">378</td><td style=\"text-align: right;\">0.07</td><td style=\"text-align: right;\">26</td><td style=\"text-align: right;\">0.06</td><td style=\"text-align: right;\">21</td><td style=\"text-align: right;\">4.01</td><td style=\"text-align: right;\">4</td><td style=\"text-align: right;\">2.45</td><td style=\"text-align: right;\">1</td><td style=\"text-align: right;\">0.28</td><td style=\"text-align: right;\">0</td><td style=\"text-align: right;\">0.00</td><td style=\"text-align: right;\">0</td><td style=\"text-align: right;\">0.00</td><td style=\"text-align: right;\">0</td><td style=\"text-align: right;\">0.00</td><td style=\"text-align: right;\">0</td><td style=\"text-align: right;\">0.00</td></tr>\n",
       "<tr class=\"even\"><td style=\"text-align: right;\">353804</td><td style=\"text-align: right;\">136,402,778</td><td style=\"text-align: right;\">90,652</td><td style=\"text-align: right;\">21</td><td style=\"text-align: right;\">332</td><td style=\"text-align: right;\">0.24</td><td style=\"text-align: right;\">80</td><td style=\"text-align: right;\">0.18</td><td style=\"text-align: right;\">56</td><td style=\"text-align: right;\">3.48</td><td style=\"text-align: right;\">19</td><td style=\"text-align: right;\">3.79</td><td style=\"text-align: right;\">5</td><td style=\"text-align: right;\">0.45</td><td style=\"text-align: right;\">0</td><td style=\"text-align: right;\">0.00</td><td style=\"text-align: right;\">0</td><td style=\"text-align: right;\">0.00</td><td style=\"text-align: right;\">0</td><td style=\"text-align: right;\">0.00</td><td style=\"text-align: right;\">0</td><td style=\"text-align: right;\">0.00</td></tr>\n",
       "<tr><td style=\"text-align: right;\">354064</td><td style=\"text-align: right;\">136,605,402</td><td style=\"text-align: right;\">19,284</td><td style=\"text-align: right;\">8</td><td style=\"text-align: right;\">328</td><td style=\"text-align: right;\">0.17</td><td style=\"text-align: right;\">56</td><td style=\"text-align: right;\">0.13</td><td style=\"text-align: right;\">38</td><td style=\"text-align: right;\">3.37</td><td style=\"text-align: right;\">16</td><td style=\"text-align: right;\">4.56</td><td style=\"text-align: right;\">2</td><td style=\"text-align: right;\">0.26</td><td style=\"text-align: right;\">0</td><td style=\"text-align: right;\">0.00</td><td style=\"text-align: right;\">0</td><td style=\"text-align: right;\">0.00</td><td style=\"text-align: right;\">0</td><td style=\"text-align: right;\">0.00</td><td style=\"text-align: right;\">0</td><td style=\"text-align: right;\">0.00</td></tr>\n",
       "<tr class=\"even\"><td style=\"text-align: right;\">353288</td><td style=\"text-align: right;\">135,773,319</td><td style=\"text-align: right;\">720,812</td><td style=\"text-align: right;\">180</td><td style=\"text-align: right;\">251</td><td style=\"text-align: right;\">1.00</td><td style=\"text-align: right;\">251</td><td style=\"text-align: right;\">0.58</td><td style=\"text-align: right;\">190</td><td style=\"text-align: right;\">3.76</td><td style=\"text-align: right;\">56</td><td style=\"text-align: right;\">3.56</td><td style=\"text-align: right;\">5</td><td style=\"text-align: right;\">0.14</td><td style=\"text-align: right;\">0</td><td style=\"text-align: right;\">0.00</td><td style=\"text-align: right;\">0</td><td style=\"text-align: right;\">0.00</td><td style=\"text-align: right;\">0</td><td style=\"text-align: right;\">0.00</td><td style=\"text-align: right;\">0</td><td style=\"text-align: right;\">0.00</td></tr>\n",
       "<tr><td style=\"text-align: right;\">353780</td><td style=\"text-align: right;\">136,388,934</td><td style=\"text-align: right;\">198,304</td><td style=\"text-align: right;\">28</td><td style=\"text-align: right;\">231</td><td style=\"text-align: right;\">0.03</td><td style=\"text-align: right;\">6</td><td style=\"text-align: right;\">0.01</td><td style=\"text-align: right;\">4</td><td style=\"text-align: right;\">3.31</td><td style=\"text-align: right;\">1</td><td style=\"text-align: right;\">2.66</td><td style=\"text-align: right;\">1</td><td style=\"text-align: right;\">1.20</td><td style=\"text-align: right;\">0</td><td style=\"text-align: right;\">0.00</td><td style=\"text-align: right;\">0</td><td style=\"text-align: right;\">0.00</td><td style=\"text-align: right;\">0</td><td style=\"text-align: right;\">0.00</td><td style=\"text-align: right;\">0</td><td style=\"text-align: right;\">0.00</td></tr>\n",
       "<tr class=\"even\"><td style=\"text-align: right;\">354057</td><td style=\"text-align: right;\">136,602,291</td><td style=\"text-align: right;\">27,696</td><td style=\"text-align: right;\">7</td><td style=\"text-align: right;\">226</td><td style=\"text-align: right;\">0.62</td><td style=\"text-align: right;\">139</td><td style=\"text-align: right;\">0.32</td><td style=\"text-align: right;\">105</td><td style=\"text-align: right;\">3.75</td><td style=\"text-align: right;\">31</td><td style=\"text-align: right;\">3.56</td><td style=\"text-align: right;\">3</td><td style=\"text-align: right;\">0.16</td><td style=\"text-align: right;\">0</td><td style=\"text-align: right;\">0.00</td><td style=\"text-align: right;\">0</td><td style=\"text-align: right;\">0.00</td><td style=\"text-align: right;\">0</td><td style=\"text-align: right;\">0.00</td><td style=\"text-align: right;\">0</td><td style=\"text-align: right;\">0.00</td></tr>\n",
       "<tr><td style=\"text-align: right;\">353300</td><td style=\"text-align: right;\">135,778,464</td><td style=\"text-align: right;\">608,500</td><td style=\"text-align: right;\">23</td><td style=\"text-align: right;\">226</td><td style=\"text-align: right;\">1.00</td><td style=\"text-align: right;\">225</td><td style=\"text-align: right;\">0.52</td><td style=\"text-align: right;\">171</td><td style=\"text-align: right;\">3.78</td><td style=\"text-align: right;\">50</td><td style=\"text-align: right;\">3.54</td><td style=\"text-align: right;\">4</td><td style=\"text-align: right;\">0.13</td><td style=\"text-align: right;\">0</td><td style=\"text-align: right;\">0.00</td><td style=\"text-align: right;\">0</td><td style=\"text-align: right;\">0.00</td><td style=\"text-align: right;\">0</td><td style=\"text-align: right;\">0.00</td><td style=\"text-align: right;\">0</td><td style=\"text-align: right;\">0.00</td></tr>\n",
       "<tr class=\"even\"><td style=\"text-align: right;\">354189</td><td style=\"text-align: right;\">136,704,466</td><td style=\"text-align: right;\">27,748</td><td style=\"text-align: right;\">5</td><td style=\"text-align: right;\">212</td><td style=\"text-align: right;\">0.14</td><td style=\"text-align: right;\">30</td><td style=\"text-align: right;\">0.07</td><td style=\"text-align: right;\">24</td><td style=\"text-align: right;\">3.97</td><td style=\"text-align: right;\">4</td><td style=\"text-align: right;\">2.13</td><td style=\"text-align: right;\">2</td><td style=\"text-align: right;\">0.48</td><td style=\"text-align: right;\">0</td><td style=\"text-align: right;\">0.00</td><td style=\"text-align: right;\">0</td><td style=\"text-align: right;\">0.00</td><td style=\"text-align: right;\">0</td><td style=\"text-align: right;\">0.00</td><td style=\"text-align: right;\">0</td><td style=\"text-align: right;\">0.00</td></tr>\n",
       "<tr><td style=\"text-align: right;\">353788</td><td style=\"text-align: right;\">136,392,700</td><td style=\"text-align: right;\">158,106</td><td style=\"text-align: right;\">55</td><td style=\"text-align: right;\">180</td><td style=\"text-align: right;\">0.42</td><td style=\"text-align: right;\">76</td><td style=\"text-align: right;\">0.18</td><td style=\"text-align: right;\">49</td><td style=\"text-align: right;\">3.20</td><td style=\"text-align: right;\">25</td><td style=\"text-align: right;\">5.25</td><td style=\"text-align: right;\">2</td><td style=\"text-align: right;\">0.19</td><td style=\"text-align: right;\">0</td><td style=\"text-align: right;\">0.00</td><td style=\"text-align: right;\">0</td><td style=\"text-align: right;\">0.00</td><td style=\"text-align: right;\">0</td><td style=\"text-align: right;\">0.00</td><td style=\"text-align: right;\">0</td><td style=\"text-align: right;\">0.00</td></tr>\n",
       "<tr class=\"even\"><td style=\"text-align: right;\">353931</td><td style=\"text-align: right;\">136,509,361</td><td style=\"text-align: right;\">28,756</td><td style=\"text-align: right;\">11</td><td style=\"text-align: right;\">173</td><td style=\"text-align: right;\">0.74</td><td style=\"text-align: right;\">128</td><td style=\"text-align: right;\">0.29</td><td style=\"text-align: right;\">95</td><td style=\"text-align: right;\">3.69</td><td style=\"text-align: right;\">30</td><td style=\"text-align: right;\">3.74</td><td style=\"text-align: right;\">3</td><td style=\"text-align: right;\">0.17</td><td style=\"text-align: right;\">0</td><td style=\"text-align: right;\">0.00</td><td style=\"text-align: right;\">0</td><td style=\"text-align: right;\">0.00</td><td style=\"text-align: right;\">0</td><td style=\"text-align: right;\">0.00</td><td style=\"text-align: right;\">0</td><td style=\"text-align: right;\">0.00</td></tr>\n",
       "<tr><td style=\"text-align: right;\">354181</td><td style=\"text-align: right;\">136,696,010</td><td style=\"text-align: right;\">68,554</td><td style=\"text-align: right;\">18</td><td style=\"text-align: right;\">172</td><td style=\"text-align: right;\">0.16</td><td style=\"text-align: right;\">28</td><td style=\"text-align: right;\">0.06</td><td style=\"text-align: right;\">24</td><td style=\"text-align: right;\">4.26</td><td style=\"text-align: right;\">3</td><td style=\"text-align: right;\">1.71</td><td style=\"text-align: right;\">1</td><td style=\"text-align: right;\">0.26</td><td style=\"text-align: right;\">0</td><td style=\"text-align: right;\">0.00</td><td style=\"text-align: right;\">0</td><td style=\"text-align: right;\">0.00</td><td style=\"text-align: right;\">0</td><td style=\"text-align: right;\">0.00</td><td style=\"text-align: right;\">0</td><td style=\"text-align: right;\">0.00</td></tr>\n",
       "<tr class=\"even\"><td style=\"text-align: right;\">354143</td><td style=\"text-align: right;\">136,658,238</td><td style=\"text-align: right;\">19,681</td><td style=\"text-align: right;\">6</td><td style=\"text-align: right;\">167</td><td style=\"text-align: right;\">0.15</td><td style=\"text-align: right;\">25</td><td style=\"text-align: right;\">0.06</td><td style=\"text-align: right;\">21</td><td style=\"text-align: right;\">4.17</td><td style=\"text-align: right;\">3</td><td style=\"text-align: right;\">1.91</td><td style=\"text-align: right;\">1</td><td style=\"text-align: right;\">0.29</td><td style=\"text-align: right;\">0</td><td style=\"text-align: right;\">0.00</td><td style=\"text-align: right;\">0</td><td style=\"text-align: right;\">0.00</td><td style=\"text-align: right;\">0</td><td style=\"text-align: right;\">0.00</td><td style=\"text-align: right;\">0</td><td style=\"text-align: right;\">0.00</td></tr>\n",
       "<tr><td style=\"text-align: right;\">353538</td><td style=\"text-align: right;\">136,008,173</td><td style=\"text-align: right;\">373,078</td><td style=\"text-align: right;\">70</td><td style=\"text-align: right;\">166</td><td style=\"text-align: right;\">1.00</td><td style=\"text-align: right;\">166</td><td style=\"text-align: right;\">0.38</td><td style=\"text-align: right;\">113</td><td style=\"text-align: right;\">3.38</td><td style=\"text-align: right;\">48</td><td style=\"text-align: right;\">4.61</td><td style=\"text-align: right;\">5</td><td style=\"text-align: right;\">0.22</td><td style=\"text-align: right;\">0</td><td style=\"text-align: right;\">0.00</td><td style=\"text-align: right;\">0</td><td style=\"text-align: right;\">0.00</td><td style=\"text-align: right;\">0</td><td style=\"text-align: right;\">0.00</td><td style=\"text-align: right;\">0</td><td style=\"text-align: right;\">0.00</td></tr>\n",
       "<tr class=\"even\"><td style=\"text-align: right;\">354124</td><td style=\"text-align: right;\">136,651,964</td><td style=\"text-align: right;\">94,288</td><td style=\"text-align: right;\">4</td><td style=\"text-align: right;\">163</td><td style=\"text-align: right;\">0.39</td><td style=\"text-align: right;\">64</td><td style=\"text-align: right;\">0.15</td><td style=\"text-align: right;\">42</td><td style=\"text-align: right;\">3.26</td><td style=\"text-align: right;\">19</td><td style=\"text-align: right;\">4.73</td><td style=\"text-align: right;\">3</td><td style=\"text-align: right;\">0.34</td><td style=\"text-align: right;\">0</td><td style=\"text-align: right;\">0.00</td><td style=\"text-align: right;\">0</td><td style=\"text-align: right;\">0.00</td><td style=\"text-align: right;\">0</td><td style=\"text-align: right;\">0.00</td><td style=\"text-align: right;\">0</td><td style=\"text-align: right;\">0.00</td></tr>\n",
       "<tr><td style=\"text-align: right;\">353909</td><td style=\"text-align: right;\">136,496,875</td><td style=\"text-align: right;\">51,331</td><td style=\"text-align: right;\">18</td><td style=\"text-align: right;\">148</td><td style=\"text-align: right;\">0.91</td><td style=\"text-align: right;\">134</td><td style=\"text-align: right;\">0.31</td><td style=\"text-align: right;\">98</td><td style=\"text-align: right;\">3.63</td><td style=\"text-align: right;\">34</td><td style=\"text-align: right;\">4.05</td><td style=\"text-align: right;\">2</td><td style=\"text-align: right;\">0.11</td><td style=\"text-align: right;\">0</td><td style=\"text-align: right;\">0.00</td><td style=\"text-align: right;\">0</td><td style=\"text-align: right;\">0.00</td><td style=\"text-align: right;\">0</td><td style=\"text-align: right;\">0.00</td><td style=\"text-align: right;\">0</td><td style=\"text-align: right;\">0.00</td></tr>\n",
       "<tr class=\"even\"><td style=\"text-align: right;\">354051</td><td style=\"text-align: right;\">136,596,162</td><td style=\"text-align: right;\">189,567</td><td style=\"text-align: right;\">17</td><td style=\"text-align: right;\">137</td><td style=\"text-align: right;\">0.01</td><td style=\"text-align: right;\">1</td><td style=\"text-align: right;\">0.00</td><td style=\"text-align: right;\">1</td><td style=\"text-align: right;\">4.97</td><td style=\"text-align: right;\">0</td><td style=\"text-align: right;\">0.00</td><td style=\"text-align: right;\">0</td><td style=\"text-align: right;\">0.00</td><td style=\"text-align: right;\">0</td><td style=\"text-align: right;\">0.00</td><td style=\"text-align: right;\">0</td><td style=\"text-align: right;\">0.00</td><td style=\"text-align: right;\">0</td><td style=\"text-align: right;\">0.00</td><td style=\"text-align: right;\">0</td><td style=\"text-align: right;\">0.00</td></tr>\n",
       "<tr><td style=\"text-align: right;\">353304</td><td style=\"text-align: right;\">135,780,924</td><td style=\"text-align: right;\">236,215</td><td style=\"text-align: right;\">49</td><td style=\"text-align: right;\">136</td><td style=\"text-align: right;\">1.00</td><td style=\"text-align: right;\">136</td><td style=\"text-align: right;\">0.31</td><td style=\"text-align: right;\">94</td><td style=\"text-align: right;\">3.43</td><td style=\"text-align: right;\">40</td><td style=\"text-align: right;\">4.69</td><td style=\"text-align: right;\">2</td><td style=\"text-align: right;\">0.11</td><td style=\"text-align: right;\">0</td><td style=\"text-align: right;\">0.00</td><td style=\"text-align: right;\">0</td><td style=\"text-align: right;\">0.00</td><td style=\"text-align: right;\">0</td><td style=\"text-align: right;\">0.00</td><td style=\"text-align: right;\">0</td><td style=\"text-align: right;\">0.00</td></tr>\n",
       "<tr class=\"even\"><td style=\"text-align: right;\">354136</td><td style=\"text-align: right;\">136,656,176</td><td style=\"text-align: right;\">119,559</td><td style=\"text-align: right;\">24</td><td style=\"text-align: right;\">128</td><td style=\"text-align: right;\">0.52</td><td style=\"text-align: right;\">66</td><td style=\"text-align: right;\">0.15</td><td style=\"text-align: right;\">52</td><td style=\"text-align: right;\">3.91</td><td style=\"text-align: right;\">14</td><td style=\"text-align: right;\">3.38</td><td style=\"text-align: right;\">0</td><td style=\"text-align: right;\">0.00</td><td style=\"text-align: right;\">0</td><td style=\"text-align: right;\">0.00</td><td style=\"text-align: right;\">0</td><td style=\"text-align: right;\">0.00</td><td style=\"text-align: right;\">0</td><td style=\"text-align: right;\">0.00</td><td style=\"text-align: right;\">0</td><td style=\"text-align: right;\">0.00</td></tr>\n",
       "<tr><td style=\"text-align: right;\">354036</td><td style=\"text-align: right;\">136,589,521</td><td style=\"text-align: right;\">52,491</td><td style=\"text-align: right;\">17</td><td style=\"text-align: right;\">127</td><td style=\"text-align: right;\">0.38</td><td style=\"text-align: right;\">48</td><td style=\"text-align: right;\">0.11</td><td style=\"text-align: right;\">36</td><td style=\"text-align: right;\">3.73</td><td style=\"text-align: right;\">11</td><td style=\"text-align: right;\">3.65</td><td style=\"text-align: right;\">1</td><td style=\"text-align: right;\">0.15</td><td style=\"text-align: right;\">0</td><td style=\"text-align: right;\">0.00</td><td style=\"text-align: right;\">0</td><td style=\"text-align: right;\">0.00</td><td style=\"text-align: right;\">0</td><td style=\"text-align: right;\">0.00</td><td style=\"text-align: right;\">0</td><td style=\"text-align: right;\">0.00</td></tr>\n",
       "<tr class=\"even\"><td style=\"text-align: right;\">353992</td><td style=\"text-align: right;\">136,562,716</td><td style=\"text-align: right;\">21,998</td><td style=\"text-align: right;\">6</td><td style=\"text-align: right;\">127</td><td style=\"text-align: right;\">0.57</td><td style=\"text-align: right;\">73</td><td style=\"text-align: right;\">0.17</td><td style=\"text-align: right;\">54</td><td style=\"text-align: right;\">3.68</td><td style=\"text-align: right;\">18</td><td style=\"text-align: right;\">3.93</td><td style=\"text-align: right;\">1</td><td style=\"text-align: right;\">0.10</td><td style=\"text-align: right;\">0</td><td style=\"text-align: right;\">0.00</td><td style=\"text-align: right;\">0</td><td style=\"text-align: right;\">0.00</td><td style=\"text-align: right;\">0</td><td style=\"text-align: right;\">0.00</td><td style=\"text-align: right;\">0</td><td style=\"text-align: right;\">0.00</td></tr>\n",
       "<tr><td style=\"text-align: right;\">354156</td><td style=\"text-align: right;\">136,666,402</td><td style=\"text-align: right;\">102,253</td><td style=\"text-align: right;\">17</td><td style=\"text-align: right;\">121</td><td style=\"text-align: right;\">0.16</td><td style=\"text-align: right;\">19</td><td style=\"text-align: right;\">0.04</td><td style=\"text-align: right;\">16</td><td style=\"text-align: right;\">4.18</td><td style=\"text-align: right;\">2</td><td style=\"text-align: right;\">1.68</td><td style=\"text-align: right;\">1</td><td style=\"text-align: right;\">0.38</td><td style=\"text-align: right;\">0</td><td style=\"text-align: right;\">0.00</td><td style=\"text-align: right;\">0</td><td style=\"text-align: right;\">0.00</td><td style=\"text-align: right;\">0</td><td style=\"text-align: right;\">0.00</td><td style=\"text-align: right;\">0</td><td style=\"text-align: right;\">0.00</td></tr>\n",
       "<tr class=\"even\"><td style=\"text-align: right;\">354125</td><td style=\"text-align: right;\">136,651,969</td><td style=\"text-align: right;\">124,016</td><td style=\"text-align: right;\">24</td><td style=\"text-align: right;\">113</td><td style=\"text-align: right;\">0.78</td><td style=\"text-align: right;\">88</td><td style=\"text-align: right;\">0.20</td><td style=\"text-align: right;\">57</td><td style=\"text-align: right;\">3.22</td><td style=\"text-align: right;\">28</td><td style=\"text-align: right;\">5.07</td><td style=\"text-align: right;\">3</td><td style=\"text-align: right;\">0.25</td><td style=\"text-align: right;\">0</td><td style=\"text-align: right;\">0.00</td><td style=\"text-align: right;\">0</td><td style=\"text-align: right;\">0.00</td><td style=\"text-align: right;\">0</td><td style=\"text-align: right;\">0.00</td><td style=\"text-align: right;\">0</td><td style=\"text-align: right;\">0.00</td></tr>\n",
       "<tr><td style=\"text-align: right;\">354058</td><td style=\"text-align: right;\">136,602,952</td><td style=\"text-align: right;\">27,735</td><td style=\"text-align: right;\">14</td><td style=\"text-align: right;\">104</td><td style=\"text-align: right;\">0.40</td><td style=\"text-align: right;\">42</td><td style=\"text-align: right;\">0.10</td><td style=\"text-align: right;\">37</td><td style=\"text-align: right;\">4.38</td><td style=\"text-align: right;\">4</td><td style=\"text-align: right;\">1.52</td><td style=\"text-align: right;\">1</td><td style=\"text-align: right;\">0.17</td><td style=\"text-align: right;\">0</td><td style=\"text-align: right;\">0.00</td><td style=\"text-align: right;\">0</td><td style=\"text-align: right;\">0.00</td><td style=\"text-align: right;\">0</td><td style=\"text-align: right;\">0.00</td><td style=\"text-align: right;\">0</td><td style=\"text-align: right;\">0.00</td></tr>\n",
       "<tr class=\"even\"><td style=\"text-align: right;\">353908</td><td style=\"text-align: right;\">136,496,845</td><td style=\"text-align: right;\">54,025</td><td style=\"text-align: right;\">6</td><td style=\"text-align: right;\">99</td><td style=\"text-align: right;\">0.13</td><td style=\"text-align: right;\">13</td><td style=\"text-align: right;\">0.03</td><td style=\"text-align: right;\">11</td><td style=\"text-align: right;\">4.20</td><td style=\"text-align: right;\">2</td><td style=\"text-align: right;\">2.45</td><td style=\"text-align: right;\">0</td><td style=\"text-align: right;\">0.00</td><td style=\"text-align: right;\">0</td><td style=\"text-align: right;\">0.00</td><td style=\"text-align: right;\">0</td><td style=\"text-align: right;\">0.00</td><td style=\"text-align: right;\">0</td><td style=\"text-align: right;\">0.00</td><td style=\"text-align: right;\">0</td><td style=\"text-align: right;\">0.00</td></tr>\n",
       "<tr><td style=\"text-align: right;\">353915</td><td style=\"text-align: right;\">136,499,188</td><td style=\"text-align: right;\">132,236</td><td style=\"text-align: right;\">26</td><td style=\"text-align: right;\">96</td><td style=\"text-align: right;\">0.93</td><td style=\"text-align: right;\">89</td><td style=\"text-align: right;\">0.21</td><td style=\"text-align: right;\">58</td><td style=\"text-align: right;\">3.24</td><td style=\"text-align: right;\">28</td><td style=\"text-align: right;\">5.02</td><td style=\"text-align: right;\">3</td><td style=\"text-align: right;\">0.24</td><td style=\"text-align: right;\">0</td><td style=\"text-align: right;\">0.00</td><td style=\"text-align: right;\">0</td><td style=\"text-align: right;\">0.00</td><td style=\"text-align: right;\">0</td><td style=\"text-align: right;\">0.00</td><td style=\"text-align: right;\">0</td><td style=\"text-align: right;\">0.00</td></tr>\n",
       "<tr class=\"even\"><td style=\"text-align: right;\">353415</td><td style=\"text-align: right;\">135,867,083</td><td style=\"text-align: right;\">369,704</td><td style=\"text-align: right;\">6</td><td style=\"text-align: right;\">88</td><td style=\"text-align: right;\">0.99</td><td style=\"text-align: right;\">87</td><td style=\"text-align: right;\">0.20</td><td style=\"text-align: right;\">66</td><td style=\"text-align: right;\">3.77</td><td style=\"text-align: right;\">20</td><td style=\"text-align: right;\">3.67</td><td style=\"text-align: right;\">1</td><td style=\"text-align: right;\">0.08</td><td style=\"text-align: right;\">0</td><td style=\"text-align: right;\">0.00</td><td style=\"text-align: right;\">0</td><td style=\"text-align: right;\">0.00</td><td style=\"text-align: right;\">0</td><td style=\"text-align: right;\">0.00</td><td style=\"text-align: right;\">0</td><td style=\"text-align: right;\">0.00</td></tr>\n",
       "<tr><td style=\"text-align: right;\">354039</td><td style=\"text-align: right;\">136,592,050</td><td style=\"text-align: right;\">6,810</td><td style=\"text-align: right;\">5</td><td style=\"text-align: right;\">86</td><td style=\"text-align: right;\">0.29</td><td style=\"text-align: right;\">25</td><td style=\"text-align: right;\">0.06</td><td style=\"text-align: right;\">21</td><td style=\"text-align: right;\">4.17</td><td style=\"text-align: right;\">3</td><td style=\"text-align: right;\">1.91</td><td style=\"text-align: right;\">1</td><td style=\"text-align: right;\">0.29</td><td style=\"text-align: right;\">0</td><td style=\"text-align: right;\">0.00</td><td style=\"text-align: right;\">0</td><td style=\"text-align: right;\">0.00</td><td style=\"text-align: right;\">0</td><td style=\"text-align: right;\">0.00</td><td style=\"text-align: right;\">0</td><td style=\"text-align: right;\">0.00</td></tr>\n",
       "<tr class=\"even\"><td style=\"text-align: right;\">354037</td><td style=\"text-align: right;\">136,589,701</td><td style=\"text-align: right;\">51,567</td><td style=\"text-align: right;\">4</td><td style=\"text-align: right;\">80</td><td style=\"text-align: right;\">0.95</td><td style=\"text-align: right;\">76</td><td style=\"text-align: right;\">0.18</td><td style=\"text-align: right;\">46</td><td style=\"text-align: right;\">3.01</td><td style=\"text-align: right;\">28</td><td style=\"text-align: right;\">5.88</td><td style=\"text-align: right;\">2</td><td style=\"text-align: right;\">0.19</td><td style=\"text-align: right;\">0</td><td style=\"text-align: right;\">0.00</td><td style=\"text-align: right;\">0</td><td style=\"text-align: right;\">0.00</td><td style=\"text-align: right;\">0</td><td style=\"text-align: right;\">0.00</td><td style=\"text-align: right;\">0</td><td style=\"text-align: right;\">0.00</td></tr>\n",
       "<tr><td style=\"text-align: right;\">354013</td><td style=\"text-align: right;\">136,577,310</td><td style=\"text-align: right;\">10,288</td><td style=\"text-align: right;\">5</td><td style=\"text-align: right;\">79</td><td style=\"text-align: right;\">0.25</td><td style=\"text-align: right;\">20</td><td style=\"text-align: right;\">0.05</td><td style=\"text-align: right;\">16</td><td style=\"text-align: right;\">3.97</td><td style=\"text-align: right;\">4</td><td style=\"text-align: right;\">3.19</td><td style=\"text-align: right;\">0</td><td style=\"text-align: right;\">0.00</td><td style=\"text-align: right;\">0</td><td style=\"text-align: right;\">0.00</td><td style=\"text-align: right;\">0</td><td style=\"text-align: right;\">0.00</td><td style=\"text-align: right;\">0</td><td style=\"text-align: right;\">0.00</td><td style=\"text-align: right;\">0</td><td style=\"text-align: right;\">0.00</td></tr>\n",
       "<tr class=\"even\"><td style=\"text-align: right;\">353910</td><td style=\"text-align: right;\">136,497,006</td><td style=\"text-align: right;\">91,732</td><td style=\"text-align: right;\">19</td><td style=\"text-align: right;\">77</td><td style=\"text-align: right;\">0.52</td><td style=\"text-align: right;\">40</td><td style=\"text-align: right;\">0.09</td><td style=\"text-align: right;\">28</td><td style=\"text-align: right;\">3.48</td><td style=\"text-align: right;\">11</td><td style=\"text-align: right;\">4.39</td><td style=\"text-align: right;\">1</td><td style=\"text-align: right;\">0.18</td><td style=\"text-align: right;\">0</td><td style=\"text-align: right;\">0.00</td><td style=\"text-align: right;\">0</td><td style=\"text-align: right;\">0.00</td><td style=\"text-align: right;\">0</td><td style=\"text-align: right;\">0.00</td><td style=\"text-align: right;\">0</td><td style=\"text-align: right;\">0.00</td></tr>\n",
       "<tr><td style=\"text-align: right;\">354100</td><td style=\"text-align: right;\">136,633,711</td><td style=\"text-align: right;\">132,022</td><td style=\"text-align: right;\">15</td><td style=\"text-align: right;\">73</td><td style=\"text-align: right;\">0.89</td><td style=\"text-align: right;\">65</td><td style=\"text-align: right;\">0.15</td><td style=\"text-align: right;\">52</td><td style=\"text-align: right;\">3.97</td><td style=\"text-align: right;\">13</td><td style=\"text-align: right;\">3.19</td><td style=\"text-align: right;\">0</td><td style=\"text-align: right;\">0.00</td><td style=\"text-align: right;\">0</td><td style=\"text-align: right;\">0.00</td><td style=\"text-align: right;\">0</td><td style=\"text-align: right;\">0.00</td><td style=\"text-align: right;\">0</td><td style=\"text-align: right;\">0.00</td><td style=\"text-align: right;\">0</td><td style=\"text-align: right;\">0.00</td></tr>\n",
       "<tr class=\"even\"><td style=\"text-align: right;\">353342</td><td style=\"text-align: right;\">135,806,907</td><td style=\"text-align: right;\">840,577</td><td style=\"text-align: right;\">31</td><td style=\"text-align: right;\">73</td><td style=\"text-align: right;\">1.00</td><td style=\"text-align: right;\">73</td><td style=\"text-align: right;\">0.17</td><td style=\"text-align: right;\">58</td><td style=\"text-align: right;\">3.95</td><td style=\"text-align: right;\">14</td><td style=\"text-align: right;\">3.06</td><td style=\"text-align: right;\">1</td><td style=\"text-align: right;\">0.10</td><td style=\"text-align: right;\">0</td><td style=\"text-align: right;\">0.00</td><td style=\"text-align: right;\">0</td><td style=\"text-align: right;\">0.00</td><td style=\"text-align: right;\">0</td><td style=\"text-align: right;\">0.00</td><td style=\"text-align: right;\">0</td><td style=\"text-align: right;\">0.00</td></tr>\n",
       "<tr><td style=\"text-align: right;\">353259</td><td style=\"text-align: right;\">135,761,470</td><td style=\"text-align: right;\">609,610</td><td style=\"text-align: right;\">22</td><td style=\"text-align: right;\">73</td><td style=\"text-align: right;\">1.00</td><td style=\"text-align: right;\">73</td><td style=\"text-align: right;\">0.17</td><td style=\"text-align: right;\">46</td><td style=\"text-align: right;\">3.13</td><td style=\"text-align: right;\">26</td><td style=\"text-align: right;\">5.68</td><td style=\"text-align: right;\">1</td><td style=\"text-align: right;\">0.10</td><td style=\"text-align: right;\">0</td><td style=\"text-align: right;\">0.00</td><td style=\"text-align: right;\">0</td><td style=\"text-align: right;\">0.00</td><td style=\"text-align: right;\">0</td><td style=\"text-align: right;\">0.00</td><td style=\"text-align: right;\">0</td><td style=\"text-align: right;\">0.00</td></tr>\n",
       "<tr class=\"even\"><td style=\"text-align: right;\">353581</td><td style=\"text-align: right;\">136,056,699</td><td style=\"text-align: right;\">377,203</td><td style=\"text-align: right;\">5</td><td style=\"text-align: right;\">69</td><td style=\"text-align: right;\">1.00</td><td style=\"text-align: right;\">69</td><td style=\"text-align: right;\">0.16</td><td style=\"text-align: right;\">48</td><td style=\"text-align: right;\">3.46</td><td style=\"text-align: right;\">19</td><td style=\"text-align: right;\">4.39</td><td style=\"text-align: right;\">2</td><td style=\"text-align: right;\">0.21</td><td style=\"text-align: right;\">0</td><td style=\"text-align: right;\">0.00</td><td style=\"text-align: right;\">0</td><td style=\"text-align: right;\">0.00</td><td style=\"text-align: right;\">0</td><td style=\"text-align: right;\">0.00</td><td style=\"text-align: right;\">0</td><td style=\"text-align: right;\">0.00</td></tr>\n",
       "<tr><td style=\"text-align: right;\">353247</td><td style=\"text-align: right;\">135,758,713</td><td style=\"text-align: right;\">19,520</td><td style=\"text-align: right;\">6</td><td style=\"text-align: right;\">68</td><td style=\"text-align: right;\">0.99</td><td style=\"text-align: right;\">67</td><td style=\"text-align: right;\">0.15</td><td style=\"text-align: right;\">53</td><td style=\"text-align: right;\">3.93</td><td style=\"text-align: right;\">13</td><td style=\"text-align: right;\">3.09</td><td style=\"text-align: right;\">1</td><td style=\"text-align: right;\">0.11</td><td style=\"text-align: right;\">0</td><td style=\"text-align: right;\">0.00</td><td style=\"text-align: right;\">0</td><td style=\"text-align: right;\">0.00</td><td style=\"text-align: right;\">0</td><td style=\"text-align: right;\">0.00</td><td style=\"text-align: right;\">0</td><td style=\"text-align: right;\">0.00</td></tr>\n",
       "<tr class=\"even\"><td style=\"text-align: right;\">353806</td><td style=\"text-align: right;\">136,403,061</td><td style=\"text-align: right;\">84,783</td><td style=\"text-align: right;\">4</td><td style=\"text-align: right;\">67</td><td style=\"text-align: right;\">0.97</td><td style=\"text-align: right;\">65</td><td style=\"text-align: right;\">0.15</td><td style=\"text-align: right;\">40</td><td style=\"text-align: right;\">3.06</td><td style=\"text-align: right;\">24</td><td style=\"text-align: right;\">5.89</td><td style=\"text-align: right;\">1</td><td style=\"text-align: right;\">0.11</td><td style=\"text-align: right;\">0</td><td style=\"text-align: right;\">0.00</td><td style=\"text-align: right;\">0</td><td style=\"text-align: right;\">0.00</td><td style=\"text-align: right;\">0</td><td style=\"text-align: right;\">0.00</td><td style=\"text-align: right;\">0</td><td style=\"text-align: right;\">0.00</td></tr>\n",
       "<tr><td style=\"text-align: right;\">354157</td><td style=\"text-align: right;\">136,666,483</td><td style=\"text-align: right;\">111,770</td><td style=\"text-align: right;\">14</td><td style=\"text-align: right;\">54</td><td style=\"text-align: right;\">0.04</td><td style=\"text-align: right;\">2</td><td style=\"text-align: right;\">0.00</td><td style=\"text-align: right;\">1</td><td style=\"text-align: right;\">2.48</td><td style=\"text-align: right;\">1</td><td style=\"text-align: right;\">7.97</td><td style=\"text-align: right;\">0</td><td style=\"text-align: right;\">0.00</td><td style=\"text-align: right;\">0</td><td style=\"text-align: right;\">0.00</td><td style=\"text-align: right;\">0</td><td style=\"text-align: right;\">0.00</td><td style=\"text-align: right;\">0</td><td style=\"text-align: right;\">0.00</td><td style=\"text-align: right;\">0</td><td style=\"text-align: right;\">0.00</td></tr>\n",
       "<tr class=\"even\"><td style=\"text-align: right;\">354209</td><td style=\"text-align: right;\">136,729,290</td><td style=\"text-align: right;\">55,170</td><td style=\"text-align: right;\">4</td><td style=\"text-align: right;\">50</td><td style=\"text-align: right;\">0.18</td><td style=\"text-align: right;\">9</td><td style=\"text-align: right;\">0.02</td><td style=\"text-align: right;\">8</td><td style=\"text-align: right;\">4.42</td><td style=\"text-align: right;\">1</td><td style=\"text-align: right;\">1.77</td><td style=\"text-align: right;\">0</td><td style=\"text-align: right;\">0.00</td><td style=\"text-align: right;\">0</td><td style=\"text-align: right;\">0.00</td><td style=\"text-align: right;\">0</td><td style=\"text-align: right;\">0.00</td><td style=\"text-align: right;\">0</td><td style=\"text-align: right;\">0.00</td><td style=\"text-align: right;\">0</td><td style=\"text-align: right;\">0.00</td></tr>\n",
       "<tr><td style=\"text-align: right;\">353379</td><td style=\"text-align: right;\">135,837,488</td><td style=\"text-align: right;\">509,187</td><td style=\"text-align: right;\">7</td><td style=\"text-align: right;\">49</td><td style=\"text-align: right;\">1.00</td><td style=\"text-align: right;\">49</td><td style=\"text-align: right;\">0.11</td><td style=\"text-align: right;\">31</td><td style=\"text-align: right;\">3.14</td><td style=\"text-align: right;\">17</td><td style=\"text-align: right;\">5.53</td><td style=\"text-align: right;\">1</td><td style=\"text-align: right;\">0.15</td><td style=\"text-align: right;\">0</td><td style=\"text-align: right;\">0.00</td><td style=\"text-align: right;\">0</td><td style=\"text-align: right;\">0.00</td><td style=\"text-align: right;\">0</td><td style=\"text-align: right;\">0.00</td><td style=\"text-align: right;\">0</td><td style=\"text-align: right;\">0.00</td></tr>\n",
       "<tr class=\"even\"><td style=\"text-align: right;\">354151</td><td style=\"text-align: right;\">136,661,788</td><td style=\"text-align: right;\">74,619</td><td style=\"text-align: right;\">4</td><td style=\"text-align: right;\">46</td><td style=\"text-align: right;\">0.20</td><td style=\"text-align: right;\">9</td><td style=\"text-align: right;\">0.02</td><td style=\"text-align: right;\">8</td><td style=\"text-align: right;\">4.42</td><td style=\"text-align: right;\">1</td><td style=\"text-align: right;\">1.77</td><td style=\"text-align: right;\">0</td><td style=\"text-align: right;\">0.00</td><td style=\"text-align: right;\">0</td><td style=\"text-align: right;\">0.00</td><td style=\"text-align: right;\">0</td><td style=\"text-align: right;\">0.00</td><td style=\"text-align: right;\">0</td><td style=\"text-align: right;\">0.00</td><td style=\"text-align: right;\">0</td><td style=\"text-align: right;\">0.00</td></tr>\n",
       "<tr><td style=\"text-align: right;\">354115</td><td style=\"text-align: right;\">136,647,933</td><td style=\"text-align: right;\">30,445</td><td style=\"text-align: right;\">10</td><td style=\"text-align: right;\">43</td><td style=\"text-align: right;\">0.07</td><td style=\"text-align: right;\">3</td><td style=\"text-align: right;\">0.01</td><td style=\"text-align: right;\">3</td><td style=\"text-align: right;\">4.97</td><td style=\"text-align: right;\">0</td><td style=\"text-align: right;\">0.00</td><td style=\"text-align: right;\">0</td><td style=\"text-align: right;\">0.00</td><td style=\"text-align: right;\">0</td><td style=\"text-align: right;\">0.00</td><td style=\"text-align: right;\">0</td><td style=\"text-align: right;\">0.00</td><td style=\"text-align: right;\">0</td><td style=\"text-align: right;\">0.00</td><td style=\"text-align: right;\">0</td><td style=\"text-align: right;\">0.00</td></tr>\n",
       "<tr class=\"even\"><td style=\"text-align: right;\">353354</td><td style=\"text-align: right;\">135,814,021</td><td style=\"text-align: right;\">610,527</td><td style=\"text-align: right;\">14</td><td style=\"text-align: right;\">40</td><td style=\"text-align: right;\">1.00</td><td style=\"text-align: right;\">40</td><td style=\"text-align: right;\">0.09</td><td style=\"text-align: right;\">30</td><td style=\"text-align: right;\">3.73</td><td style=\"text-align: right;\">10</td><td style=\"text-align: right;\">3.99</td><td style=\"text-align: right;\">0</td><td style=\"text-align: right;\">0.00</td><td style=\"text-align: right;\">0</td><td style=\"text-align: right;\">0.00</td><td style=\"text-align: right;\">0</td><td style=\"text-align: right;\">0.00</td><td style=\"text-align: right;\">0</td><td style=\"text-align: right;\">0.00</td><td style=\"text-align: right;\">0</td><td style=\"text-align: right;\">0.00</td></tr>\n",
       "<tr><td style=\"text-align: right;\">354144</td><td style=\"text-align: right;\">136,658,314</td><td style=\"text-align: right;\">107,144</td><td style=\"text-align: right;\">33</td><td style=\"text-align: right;\">38</td><td style=\"text-align: right;\">0.08</td><td style=\"text-align: right;\">3</td><td style=\"text-align: right;\">0.01</td><td style=\"text-align: right;\">3</td><td style=\"text-align: right;\">4.97</td><td style=\"text-align: right;\">0</td><td style=\"text-align: right;\">0.00</td><td style=\"text-align: right;\">0</td><td style=\"text-align: right;\">0.00</td><td style=\"text-align: right;\">0</td><td style=\"text-align: right;\">0.00</td><td style=\"text-align: right;\">0</td><td style=\"text-align: right;\">0.00</td><td style=\"text-align: right;\">0</td><td style=\"text-align: right;\">0.00</td><td style=\"text-align: right;\">0</td><td style=\"text-align: right;\">0.00</td></tr>\n",
       "<tr class=\"even\"><td style=\"text-align: right;\">353882</td><td style=\"text-align: right;\">136,483,456</td><td style=\"text-align: right;\">163,943</td><td style=\"text-align: right;\">12</td><td style=\"text-align: right;\">35</td><td style=\"text-align: right;\">0.37</td><td style=\"text-align: right;\">13</td><td style=\"text-align: right;\">0.03</td><td style=\"text-align: right;\">11</td><td style=\"text-align: right;\">4.20</td><td style=\"text-align: right;\">2</td><td style=\"text-align: right;\">2.45</td><td style=\"text-align: right;\">0</td><td style=\"text-align: right;\">0.00</td><td style=\"text-align: right;\">0</td><td style=\"text-align: right;\">0.00</td><td style=\"text-align: right;\">0</td><td style=\"text-align: right;\">0.00</td><td style=\"text-align: right;\">0</td><td style=\"text-align: right;\">0.00</td><td style=\"text-align: right;\">0</td><td style=\"text-align: right;\">0.00</td></tr>\n",
       "<tr><td style=\"text-align: right;\">353563</td><td style=\"text-align: right;\">136,033,448</td><td style=\"text-align: right;\">378,721</td><td style=\"text-align: right;\">7</td><td style=\"text-align: right;\">34</td><td style=\"text-align: right;\">1.00</td><td style=\"text-align: right;\">34</td><td style=\"text-align: right;\">0.08</td><td style=\"text-align: right;\">23</td><td style=\"text-align: right;\">3.36</td><td style=\"text-align: right;\">9</td><td style=\"text-align: right;\">4.22</td><td style=\"text-align: right;\">2</td><td style=\"text-align: right;\">0.42</td><td style=\"text-align: right;\">0</td><td style=\"text-align: right;\">0.00</td><td style=\"text-align: right;\">0</td><td style=\"text-align: right;\">0.00</td><td style=\"text-align: right;\">0</td><td style=\"text-align: right;\">0.00</td><td style=\"text-align: right;\">0</td><td style=\"text-align: right;\">0.00</td></tr>\n",
       "<tr class=\"even\"><td style=\"text-align: right;\">354074</td><td style=\"text-align: right;\">136,608,339</td><td style=\"text-align: right;\">129,934</td><td style=\"text-align: right;\">7</td><td style=\"text-align: right;\">31</td><td style=\"text-align: right;\">0.10</td><td style=\"text-align: right;\">3</td><td style=\"text-align: right;\">0.01</td><td style=\"text-align: right;\">3</td><td style=\"text-align: right;\">4.97</td><td style=\"text-align: right;\">0</td><td style=\"text-align: right;\">0.00</td><td style=\"text-align: right;\">0</td><td style=\"text-align: right;\">0.00</td><td style=\"text-align: right;\">0</td><td style=\"text-align: right;\">0.00</td><td style=\"text-align: right;\">0</td><td style=\"text-align: right;\">0.00</td><td style=\"text-align: right;\">0</td><td style=\"text-align: right;\">0.00</td><td style=\"text-align: right;\">0</td><td style=\"text-align: right;\">0.00</td></tr>\n",
       "<tr><td style=\"text-align: right;\">353920</td><td style=\"text-align: right;\">136,500,677</td><td style=\"text-align: right;\">137,726</td><td style=\"text-align: right;\">7</td><td style=\"text-align: right;\">28</td><td style=\"text-align: right;\">0.18</td><td style=\"text-align: right;\">5</td><td style=\"text-align: right;\">0.01</td><td style=\"text-align: right;\">5</td><td style=\"text-align: right;\">4.97</td><td style=\"text-align: right;\">0</td><td style=\"text-align: right;\">0.00</td><td style=\"text-align: right;\">0</td><td style=\"text-align: right;\">0.00</td><td style=\"text-align: right;\">0</td><td style=\"text-align: right;\">0.00</td><td style=\"text-align: right;\">0</td><td style=\"text-align: right;\">0.00</td><td style=\"text-align: right;\">0</td><td style=\"text-align: right;\">0.00</td><td style=\"text-align: right;\">0</td><td style=\"text-align: right;\">0.00</td></tr>\n",
       "<tr class=\"even\"><td style=\"text-align: right;\">353338</td><td style=\"text-align: right;\">135,798,652</td><td style=\"text-align: right;\">364,908</td><td style=\"text-align: right;\">6</td><td style=\"text-align: right;\">28</td><td style=\"text-align: right;\">1.00</td><td style=\"text-align: right;\">28</td><td style=\"text-align: right;\">0.06</td><td style=\"text-align: right;\">19</td><td style=\"text-align: right;\">3.37</td><td style=\"text-align: right;\">9</td><td style=\"text-align: right;\">5.13</td><td style=\"text-align: right;\">0</td><td style=\"text-align: right;\">0.00</td><td style=\"text-align: right;\">0</td><td style=\"text-align: right;\">0.00</td><td style=\"text-align: right;\">0</td><td style=\"text-align: right;\">0.00</td><td style=\"text-align: right;\">0</td><td style=\"text-align: right;\">0.00</td><td style=\"text-align: right;\">0</td><td style=\"text-align: right;\">0.00</td></tr>\n",
       "<tr><td style=\"text-align: right;\">354101</td><td style=\"text-align: right;\">136,633,976</td><td style=\"text-align: right;\">108,844</td><td style=\"text-align: right;\">6</td><td style=\"text-align: right;\">27</td><td style=\"text-align: right;\">0.93</td><td style=\"text-align: right;\">25</td><td style=\"text-align: right;\">0.06</td><td style=\"text-align: right;\">15</td><td style=\"text-align: right;\">2.98</td><td style=\"text-align: right;\">9</td><td style=\"text-align: right;\">5.74</td><td style=\"text-align: right;\">1</td><td style=\"text-align: right;\">0.29</td><td style=\"text-align: right;\">0</td><td style=\"text-align: right;\">0.00</td><td style=\"text-align: right;\">0</td><td style=\"text-align: right;\">0.00</td><td style=\"text-align: right;\">0</td><td style=\"text-align: right;\">0.00</td><td style=\"text-align: right;\">0</td><td style=\"text-align: right;\">0.00</td></tr>\n",
       "<tr class=\"even\"><td style=\"text-align: right;\">354042</td><td style=\"text-align: right;\">136,592,964</td><td style=\"text-align: right;\">134,843</td><td style=\"text-align: right;\">4</td><td style=\"text-align: right;\">27</td><td style=\"text-align: right;\">0.93</td><td style=\"text-align: right;\">25</td><td style=\"text-align: right;\">0.06</td><td style=\"text-align: right;\">21</td><td style=\"text-align: right;\">4.17</td><td style=\"text-align: right;\">4</td><td style=\"text-align: right;\">2.55</td><td style=\"text-align: right;\">0</td><td style=\"text-align: right;\">0.00</td><td style=\"text-align: right;\">0</td><td style=\"text-align: right;\">0.00</td><td style=\"text-align: right;\">0</td><td style=\"text-align: right;\">0.00</td><td style=\"text-align: right;\">0</td><td style=\"text-align: right;\">0.00</td><td style=\"text-align: right;\">0</td><td style=\"text-align: right;\">0.00</td></tr>\n",
       "<tr><td style=\"text-align: right;\">353496</td><td style=\"text-align: right;\">135,956,166</td><td style=\"text-align: right;\">528,513</td><td style=\"text-align: right;\">25</td><td style=\"text-align: right;\">27</td><td style=\"text-align: right;\">1.00</td><td style=\"text-align: right;\">27</td><td style=\"text-align: right;\">0.06</td><td style=\"text-align: right;\">18</td><td style=\"text-align: right;\">3.31</td><td style=\"text-align: right;\">7</td><td style=\"text-align: right;\">4.13</td><td style=\"text-align: right;\">2</td><td style=\"text-align: right;\">0.53</td><td style=\"text-align: right;\">0</td><td style=\"text-align: right;\">0.00</td><td style=\"text-align: right;\">0</td><td style=\"text-align: right;\">0.00</td><td style=\"text-align: right;\">0</td><td style=\"text-align: right;\">0.00</td><td style=\"text-align: right;\">0</td><td style=\"text-align: right;\">0.00</td></tr>\n",
       "<tr class=\"even\"><td style=\"text-align: right;\">353388</td><td style=\"text-align: right;\">135,841,328</td><td style=\"text-align: right;\">88,121</td><td style=\"text-align: right;\">4</td><td style=\"text-align: right;\">21</td><td style=\"text-align: right;\">0.05</td><td style=\"text-align: right;\">1</td><td style=\"text-align: right;\">0.00</td><td style=\"text-align: right;\">0</td><td style=\"text-align: right;\">0.00</td><td style=\"text-align: right;\">0</td><td style=\"text-align: right;\">0.00</td><td style=\"text-align: right;\">1</td><td style=\"text-align: right;\">7.22</td><td style=\"text-align: right;\">0</td><td style=\"text-align: right;\">0.00</td><td style=\"text-align: right;\">0</td><td style=\"text-align: right;\">0.00</td><td style=\"text-align: right;\">0</td><td style=\"text-align: right;\">0.00</td><td style=\"text-align: right;\">0</td><td style=\"text-align: right;\">0.00</td></tr>\n",
       "<tr><td style=\"text-align: right;\">353246</td><td style=\"text-align: right;\">135,758,423</td><td style=\"text-align: right;\">563,280</td><td style=\"text-align: right;\">7</td><td style=\"text-align: right;\">21</td><td style=\"text-align: right;\">1.00</td><td style=\"text-align: right;\">21</td><td style=\"text-align: right;\">0.05</td><td style=\"text-align: right;\">14</td><td style=\"text-align: right;\">3.31</td><td style=\"text-align: right;\">7</td><td style=\"text-align: right;\">5.32</td><td style=\"text-align: right;\">0</td><td style=\"text-align: right;\">0.00</td><td style=\"text-align: right;\">0</td><td style=\"text-align: right;\">0.00</td><td style=\"text-align: right;\">0</td><td style=\"text-align: right;\">0.00</td><td style=\"text-align: right;\">0</td><td style=\"text-align: right;\">0.00</td><td style=\"text-align: right;\">0</td><td style=\"text-align: right;\">0.00</td></tr>\n",
       "<tr class=\"even\"><td style=\"text-align: right;\">353801</td><td style=\"text-align: right;\">136,401,175</td><td style=\"text-align: right;\">45,059</td><td style=\"text-align: right;\">7</td><td style=\"text-align: right;\">18</td><td style=\"text-align: right;\">0.06</td><td style=\"text-align: right;\">1</td><td style=\"text-align: right;\">0.00</td><td style=\"text-align: right;\">1</td><td style=\"text-align: right;\">4.97</td><td style=\"text-align: right;\">0</td><td style=\"text-align: right;\">0.00</td><td style=\"text-align: right;\">0</td><td style=\"text-align: right;\">0.00</td><td style=\"text-align: right;\">0</td><td style=\"text-align: right;\">0.00</td><td style=\"text-align: right;\">0</td><td style=\"text-align: right;\">0.00</td><td style=\"text-align: right;\">0</td><td style=\"text-align: right;\">0.00</td><td style=\"text-align: right;\">0</td><td style=\"text-align: right;\">0.00</td></tr>\n",
       "<tr><td style=\"text-align: right;\">353960</td><td style=\"text-align: right;\">136,538,887</td><td style=\"text-align: right;\">98,774</td><td style=\"text-align: right;\">4</td><td style=\"text-align: right;\">17</td><td style=\"text-align: right;\">0.29</td><td style=\"text-align: right;\">5</td><td style=\"text-align: right;\">0.01</td><td style=\"text-align: right;\">5</td><td style=\"text-align: right;\">4.97</td><td style=\"text-align: right;\">0</td><td style=\"text-align: right;\">0.00</td><td style=\"text-align: right;\">0</td><td style=\"text-align: right;\">0.00</td><td style=\"text-align: right;\">0</td><td style=\"text-align: right;\">0.00</td><td style=\"text-align: right;\">0</td><td style=\"text-align: right;\">0.00</td><td style=\"text-align: right;\">0</td><td style=\"text-align: right;\">0.00</td><td style=\"text-align: right;\">0</td><td style=\"text-align: right;\">0.00</td></tr>\n",
       "<tr class=\"even\"><td style=\"text-align: right;\">353922</td><td style=\"text-align: right;\">136,504,541</td><td style=\"text-align: right;\">23,683</td><td style=\"text-align: right;\">4</td><td style=\"text-align: right;\">17</td><td style=\"text-align: right;\">0.29</td><td style=\"text-align: right;\">5</td><td style=\"text-align: right;\">0.01</td><td style=\"text-align: right;\">5</td><td style=\"text-align: right;\">4.97</td><td style=\"text-align: right;\">0</td><td style=\"text-align: right;\">0.00</td><td style=\"text-align: right;\">0</td><td style=\"text-align: right;\">0.00</td><td style=\"text-align: right;\">0</td><td style=\"text-align: right;\">0.00</td><td style=\"text-align: right;\">0</td><td style=\"text-align: right;\">0.00</td><td style=\"text-align: right;\">0</td><td style=\"text-align: right;\">0.00</td><td style=\"text-align: right;\">0</td><td style=\"text-align: right;\">0.00</td></tr>\n",
       "<tr><td style=\"text-align: right;\">353401</td><td style=\"text-align: right;\">135,850,274</td><td style=\"text-align: right;\">858,652</td><td style=\"text-align: right;\">10</td><td style=\"text-align: right;\">17</td><td style=\"text-align: right;\">1.00</td><td style=\"text-align: right;\">17</td><td style=\"text-align: right;\">0.04</td><td style=\"text-align: right;\">13</td><td style=\"text-align: right;\">3.80</td><td style=\"text-align: right;\">4</td><td style=\"text-align: right;\">3.75</td><td style=\"text-align: right;\">0</td><td style=\"text-align: right;\">0.00</td><td style=\"text-align: right;\">0</td><td style=\"text-align: right;\">0.00</td><td style=\"text-align: right;\">0</td><td style=\"text-align: right;\">0.00</td><td style=\"text-align: right;\">0</td><td style=\"text-align: right;\">0.00</td><td style=\"text-align: right;\">0</td><td style=\"text-align: right;\">0.00</td></tr>\n",
       "<tr class=\"even\"><td style=\"text-align: right;\">353298</td><td style=\"text-align: right;\">135,778,267</td><td style=\"text-align: right;\">401,992</td><td style=\"text-align: right;\">15</td><td style=\"text-align: right;\">17</td><td style=\"text-align: right;\">1.00</td><td style=\"text-align: right;\">17</td><td style=\"text-align: right;\">0.04</td><td style=\"text-align: right;\">12</td><td style=\"text-align: right;\">3.51</td><td style=\"text-align: right;\">5</td><td style=\"text-align: right;\">4.69</td><td style=\"text-align: right;\">0</td><td style=\"text-align: right;\">0.00</td><td style=\"text-align: right;\">0</td><td style=\"text-align: right;\">0.00</td><td style=\"text-align: right;\">0</td><td style=\"text-align: right;\">0.00</td><td style=\"text-align: right;\">0</td><td style=\"text-align: right;\">0.00</td><td style=\"text-align: right;\">0</td><td style=\"text-align: right;\">0.00</td></tr>\n",
       "<tr><td style=\"text-align: right;\">353241</td><td style=\"text-align: right;\">135,757,652</td><td style=\"text-align: right;\">888,994</td><td style=\"text-align: right;\">10</td><td style=\"text-align: right;\">17</td><td style=\"text-align: right;\">1.00</td><td style=\"text-align: right;\">17</td><td style=\"text-align: right;\">0.04</td><td style=\"text-align: right;\">16</td><td style=\"text-align: right;\">4.68</td><td style=\"text-align: right;\">1</td><td style=\"text-align: right;\">0.94</td><td style=\"text-align: right;\">0</td><td style=\"text-align: right;\">0.00</td><td style=\"text-align: right;\">0</td><td style=\"text-align: right;\">0.00</td><td style=\"text-align: right;\">0</td><td style=\"text-align: right;\">0.00</td><td style=\"text-align: right;\">0</td><td style=\"text-align: right;\">0.00</td><td style=\"text-align: right;\">0</td><td style=\"text-align: right;\">0.00</td></tr>\n",
       "<tr class=\"even\"><td style=\"text-align: right;\">353821</td><td style=\"text-align: right;\">136,414,097</td><td style=\"text-align: right;\">323,071</td><td style=\"text-align: right;\">5</td><td style=\"text-align: right;\">16</td><td style=\"text-align: right;\">0.06</td><td style=\"text-align: right;\">1</td><td style=\"text-align: right;\">0.00</td><td style=\"text-align: right;\">1</td><td style=\"text-align: right;\">4.97</td><td style=\"text-align: right;\">0</td><td style=\"text-align: right;\">0.00</td><td style=\"text-align: right;\">0</td><td style=\"text-align: right;\">0.00</td><td style=\"text-align: right;\">0</td><td style=\"text-align: right;\">0.00</td><td style=\"text-align: right;\">0</td><td style=\"text-align: right;\">0.00</td><td style=\"text-align: right;\">0</td><td style=\"text-align: right;\">0.00</td><td style=\"text-align: right;\">0</td><td style=\"text-align: right;\">0.00</td></tr>\n",
       "</table>"
      ],
      "text/plain": [
       "<IPython.core.display.HTML object>"
      ]
     },
     "execution_count": 3,
     "metadata": {},
     "output_type": "execute_result"
    }
   ],
   "source": [
    "plt_obj = dm.superset_yes_no([dm.di_28_434], min_match=0.001)\n",
    "plt_obj.do_plot()\n",
    "HTML(plt_obj.get_html())"
   ]
  },
  {
   "cell_type": "code",
   "execution_count": 4,
   "metadata": {
    "collapsed": false
   },
   "outputs": [
    {
     "data": {
      "text/html": [
       "\n",
       "\n",
       "    <div class=\"bk-root\">\n",
       "        <div class=\"plotdiv\" id=\"bbbffc32-4f94-471c-8738-9acd4c4381af\"></div>\n",
       "    </div>\n",
       "<script type=\"text/javascript\">\n",
       "  \n",
       "  (function(global) {\n",
       "    function now() {\n",
       "      return new Date();\n",
       "    }\n",
       "  \n",
       "    if (typeof (window._bokeh_onload_callbacks) === \"undefined\") {\n",
       "      window._bokeh_onload_callbacks = [];\n",
       "    }\n",
       "  \n",
       "    function run_callbacks() {\n",
       "      window._bokeh_onload_callbacks.forEach(function(callback) { callback() });\n",
       "      delete window._bokeh_onload_callbacks\n",
       "      console.info(\"Bokeh: all callbacks have finished\");\n",
       "    }\n",
       "  \n",
       "    function load_libs(js_urls, callback) {\n",
       "      window._bokeh_onload_callbacks.push(callback);\n",
       "      if (window._bokeh_is_loading > 0) {\n",
       "        console.log(\"Bokeh: BokehJS is being loaded, scheduling callback at\", now());\n",
       "        return null;\n",
       "      }\n",
       "      if (js_urls == null || js_urls.length === 0) {\n",
       "        run_callbacks();\n",
       "        return null;\n",
       "      }\n",
       "      console.log(\"Bokeh: BokehJS not loaded, scheduling load and callback at\", now());\n",
       "      window._bokeh_is_loading = js_urls.length;\n",
       "      for (var i = 0; i < js_urls.length; i++) {\n",
       "        var url = js_urls[i];\n",
       "        var s = document.createElement('script');\n",
       "        s.src = url;\n",
       "        s.async = false;\n",
       "        s.onreadystatechange = s.onload = function() {\n",
       "          window._bokeh_is_loading--;\n",
       "          if (window._bokeh_is_loading === 0) {\n",
       "            console.log(\"Bokeh: all BokehJS libraries loaded\");\n",
       "            run_callbacks()\n",
       "          }\n",
       "        };\n",
       "        s.onerror = function() {\n",
       "          console.warn(\"failed to load library \" + url);\n",
       "        };\n",
       "        console.log(\"Bokeh: injecting script tag for BokehJS library: \", url);\n",
       "        document.getElementsByTagName(\"head\")[0].appendChild(s);\n",
       "      }\n",
       "    };var element = document.getElementById(\"bbbffc32-4f94-471c-8738-9acd4c4381af\");\n",
       "    if (element == null) {\n",
       "      console.log(\"Bokeh: ERROR: autoload.js configured with elementid 'bbbffc32-4f94-471c-8738-9acd4c4381af' but no matching script tag was found. \")\n",
       "      return false;\n",
       "    }\n",
       "  \n",
       "    var js_urls = [];\n",
       "  \n",
       "    var inline_js = [\n",
       "      function(Bokeh) {\n",
       "        Bokeh.$(function() {\n",
       "            var docs_json = {\"79c46e78-1b53-4f1c-a733-4d8174001a6c\":{\"roots\":{\"references\":[{\"attributes\":{\"plot\":{\"id\":\"ec64f90b-7b7d-4d38-98ef-8862bdf15632\",\"subtype\":\"Figure\",\"type\":\"Plot\"}},\"id\":\"ed24ba2d-2daa-4790-b2b0-a1e7166d3bc1\",\"type\":\"WheelZoomTool\"},{\"attributes\":{},\"id\":\"e9bce517-1a05-4beb-9f8a-9f20eb3872a9\",\"type\":\"ToolEvents\"},{\"attributes\":{\"plot\":{\"id\":\"ec64f90b-7b7d-4d38-98ef-8862bdf15632\",\"subtype\":\"Figure\",\"type\":\"Plot\"}},\"id\":\"4d01a4e9-f0f8-45b9-bc5a-ccfe4c8b8034\",\"type\":\"PanTool\"},{\"attributes\":{},\"id\":\"188d589e-67b7-4ac0-acae-30e929bde219\",\"type\":\"BasicTicker\"},{\"attributes\":{},\"id\":\"bcbb83ba-cb5b-4e9d-9a56-668374cc91e2\",\"type\":\"BasicTickFormatter\"},{\"attributes\":{},\"id\":\"354a8892-9408-46fd-82bd-c409095bb0a5\",\"type\":\"BasicTicker\"},{\"attributes\":{\"line_color\":{\"value\":\"#1f77b4\"},\"x\":{\"field\":\"x\"},\"y\":{\"field\":\"y\"}},\"id\":\"fe0e7c7d-b9c1-4182-ab86-6d375ab3f5ab\",\"type\":\"Line\"},{\"attributes\":{\"callback\":null,\"end\":4933.5},\"id\":\"cd183599-d67c-4844-8038-fe54fda7bb95\",\"type\":\"Range1d\"},{\"attributes\":{\"callback\":null,\"column_names\":[\"y\",\"x\"],\"data\":{\"x\":[-0.5,-0.5,0.5,0.5,1.5,1.5,2.5,2.5,10.5,10.5,11.5,11.5,12.5,12.5,13.5,13.5,14.5,14.5,15.5,15.5,16.5,16.5,22.5,22.5,23.5,23.5,24.5,24.5,25.5,25.5,26.5,26.5,27.5,27.5,28.5,28.5],\"y\":[0.0,4485.0,4485.0,73.0,73.0,2.0,2.0,0.0,0.0,1.0,1.0,0.0,0.0,2.0,2.0,3.0,3.0,5.0,5.0,2.0,2.0,0.0,0.0,1.0,1.0,0.0,0.0,1.0,1.0,2.0,2.0,24.0,24.0,407.0,407.0,0.0]}},\"id\":\"7a3241c6-1e76-4c08-b593-6e5d12dde2bf\",\"type\":\"ColumnDataSource\"},{\"attributes\":{\"active_drag\":\"auto\",\"active_scroll\":\"auto\",\"active_tap\":\"auto\",\"tools\":[{\"id\":\"4d01a4e9-f0f8-45b9-bc5a-ccfe4c8b8034\",\"type\":\"PanTool\"},{\"id\":\"ed24ba2d-2daa-4790-b2b0-a1e7166d3bc1\",\"type\":\"WheelZoomTool\"},{\"id\":\"e134454a-b5b8-4b32-87e3-4d5b3739251f\",\"type\":\"BoxZoomTool\"},{\"id\":\"b7b365c4-49d7-4723-b7b5-247b5d099512\",\"type\":\"SaveTool\"},{\"id\":\"4e458349-45e0-43ff-a2c4-26e526d67397\",\"type\":\"ResetTool\"},{\"id\":\"6ca29d8d-3b2d-418a-b583-42ea4348e652\",\"type\":\"HelpTool\"}]},\"id\":\"e6eefc66-12ef-4742-a05c-e4d1d38da66a\",\"type\":\"Toolbar\"},{\"attributes\":{\"callback\":null,\"end\":29.5,\"start\":-0.5},\"id\":\"eebb00d8-9a54-4d76-84d3-beea23d2aaf6\",\"type\":\"Range1d\"},{\"attributes\":{\"line_alpha\":{\"value\":0.1},\"line_color\":{\"value\":\"#1f77b4\"},\"x\":{\"field\":\"x\"},\"y\":{\"field\":\"y\"}},\"id\":\"8e4b3052-1dfe-41e4-8f3b-c13a2b5b9d3d\",\"type\":\"Line\"},{\"attributes\":{\"dimension\":1,\"plot\":{\"id\":\"ec64f90b-7b7d-4d38-98ef-8862bdf15632\",\"subtype\":\"Figure\",\"type\":\"Plot\"},\"ticker\":{\"id\":\"354a8892-9408-46fd-82bd-c409095bb0a5\",\"type\":\"BasicTicker\"}},\"id\":\"d76cd895-85e7-4933-9126-11f4dfb8d3da\",\"type\":\"Grid\"},{\"attributes\":{\"plot\":{\"id\":\"ec64f90b-7b7d-4d38-98ef-8862bdf15632\",\"subtype\":\"Figure\",\"type\":\"Plot\"}},\"id\":\"4e458349-45e0-43ff-a2c4-26e526d67397\",\"type\":\"ResetTool\"},{\"attributes\":{\"data_source\":{\"id\":\"7a3241c6-1e76-4c08-b593-6e5d12dde2bf\",\"type\":\"ColumnDataSource\"},\"glyph\":{\"id\":\"fe0e7c7d-b9c1-4182-ab86-6d375ab3f5ab\",\"type\":\"Line\"},\"hover_glyph\":null,\"nonselection_glyph\":{\"id\":\"8e4b3052-1dfe-41e4-8f3b-c13a2b5b9d3d\",\"type\":\"Line\"},\"selection_glyph\":null},\"id\":\"4782bad2-7378-410c-b2a7-61a53d728edf\",\"type\":\"GlyphRenderer\"},{\"attributes\":{\"formatter\":{\"id\":\"9d764942-be61-4554-811d-73178dd3ed1c\",\"type\":\"BasicTickFormatter\"},\"plot\":{\"id\":\"ec64f90b-7b7d-4d38-98ef-8862bdf15632\",\"subtype\":\"Figure\",\"type\":\"Plot\"},\"ticker\":{\"id\":\"188d589e-67b7-4ac0-acae-30e929bde219\",\"type\":\"BasicTicker\"}},\"id\":\"d9d07412-02dc-4793-bcbb-d2260adc139a\",\"type\":\"LinearAxis\"},{\"attributes\":{},\"id\":\"9d764942-be61-4554-811d-73178dd3ed1c\",\"type\":\"BasicTickFormatter\"},{\"attributes\":{\"plot\":null,\"text\":null},\"id\":\"23c580e8-ce8c-41cd-954e-047140b33787\",\"type\":\"Title\"},{\"attributes\":{\"overlay\":{\"id\":\"5dd655f8-3f0a-46a4-a2cb-f2091d181cf2\",\"type\":\"BoxAnnotation\"},\"plot\":{\"id\":\"ec64f90b-7b7d-4d38-98ef-8862bdf15632\",\"subtype\":\"Figure\",\"type\":\"Plot\"}},\"id\":\"e134454a-b5b8-4b32-87e3-4d5b3739251f\",\"type\":\"BoxZoomTool\"},{\"attributes\":{\"bottom_units\":\"screen\",\"fill_alpha\":{\"value\":0.5},\"fill_color\":{\"value\":\"lightgrey\"},\"left_units\":\"screen\",\"level\":\"overlay\",\"line_alpha\":{\"value\":1.0},\"line_color\":{\"value\":\"black\"},\"line_dash\":[4,4],\"line_width\":{\"value\":2},\"plot\":null,\"render_mode\":\"css\",\"right_units\":\"screen\",\"top_units\":\"screen\"},\"id\":\"5dd655f8-3f0a-46a4-a2cb-f2091d181cf2\",\"type\":\"BoxAnnotation\"},{\"attributes\":{\"formatter\":{\"id\":\"bcbb83ba-cb5b-4e9d-9a56-668374cc91e2\",\"type\":\"BasicTickFormatter\"},\"plot\":{\"id\":\"ec64f90b-7b7d-4d38-98ef-8862bdf15632\",\"subtype\":\"Figure\",\"type\":\"Plot\"},\"ticker\":{\"id\":\"354a8892-9408-46fd-82bd-c409095bb0a5\",\"type\":\"BasicTicker\"}},\"id\":\"edae1f14-32c8-4c32-ba16-f5cacbbe13fb\",\"type\":\"LinearAxis\"},{\"attributes\":{\"plot\":{\"id\":\"ec64f90b-7b7d-4d38-98ef-8862bdf15632\",\"subtype\":\"Figure\",\"type\":\"Plot\"}},\"id\":\"6ca29d8d-3b2d-418a-b583-42ea4348e652\",\"type\":\"HelpTool\"},{\"attributes\":{\"plot\":{\"id\":\"ec64f90b-7b7d-4d38-98ef-8862bdf15632\",\"subtype\":\"Figure\",\"type\":\"Plot\"},\"ticker\":{\"id\":\"188d589e-67b7-4ac0-acae-30e929bde219\",\"type\":\"BasicTicker\"}},\"id\":\"6f85e8b5-3443-409e-a9f7-bedab32a90c0\",\"type\":\"Grid\"},{\"attributes\":{\"plot\":{\"id\":\"ec64f90b-7b7d-4d38-98ef-8862bdf15632\",\"subtype\":\"Figure\",\"type\":\"Plot\"}},\"id\":\"b7b365c4-49d7-4723-b7b5-247b5d099512\",\"type\":\"SaveTool\"},{\"attributes\":{\"below\":[{\"id\":\"d9d07412-02dc-4793-bcbb-d2260adc139a\",\"type\":\"LinearAxis\"}],\"left\":[{\"id\":\"edae1f14-32c8-4c32-ba16-f5cacbbe13fb\",\"type\":\"LinearAxis\"}],\"plot_height\":400,\"plot_width\":900,\"renderers\":[{\"id\":\"d9d07412-02dc-4793-bcbb-d2260adc139a\",\"type\":\"LinearAxis\"},{\"id\":\"6f85e8b5-3443-409e-a9f7-bedab32a90c0\",\"type\":\"Grid\"},{\"id\":\"edae1f14-32c8-4c32-ba16-f5cacbbe13fb\",\"type\":\"LinearAxis\"},{\"id\":\"d76cd895-85e7-4933-9126-11f4dfb8d3da\",\"type\":\"Grid\"},{\"id\":\"5dd655f8-3f0a-46a4-a2cb-f2091d181cf2\",\"type\":\"BoxAnnotation\"},{\"id\":\"4782bad2-7378-410c-b2a7-61a53d728edf\",\"type\":\"GlyphRenderer\"}],\"title\":{\"id\":\"23c580e8-ce8c-41cd-954e-047140b33787\",\"type\":\"Title\"},\"tool_events\":{\"id\":\"e9bce517-1a05-4beb-9f8a-9f20eb3872a9\",\"type\":\"ToolEvents\"},\"toolbar\":{\"id\":\"e6eefc66-12ef-4742-a05c-e4d1d38da66a\",\"type\":\"Toolbar\"},\"toolbar_location\":null,\"x_range\":{\"id\":\"eebb00d8-9a54-4d76-84d3-beea23d2aaf6\",\"type\":\"Range1d\"},\"y_range\":{\"id\":\"cd183599-d67c-4844-8038-fe54fda7bb95\",\"type\":\"Range1d\"}},\"id\":\"ec64f90b-7b7d-4d38-98ef-8862bdf15632\",\"subtype\":\"Figure\",\"type\":\"Plot\"}],\"root_ids\":[\"ec64f90b-7b7d-4d38-98ef-8862bdf15632\"]},\"title\":\"Bokeh Application\",\"version\":\"0.12.0\"}};\n",
       "            var render_items = [{\"docid\":\"79c46e78-1b53-4f1c-a733-4d8174001a6c\",\"elementid\":\"bbbffc32-4f94-471c-8738-9acd4c4381af\",\"modelid\":\"ec64f90b-7b7d-4d38-98ef-8862bdf15632\",\"notebook_comms_target\":\"bf69d323-f4d9-4e52-b925-3cf8a4be5ebc\"}];\n",
       "            \n",
       "            Bokeh.embed.embed_items(docs_json, render_items);\n",
       "        });\n",
       "      },\n",
       "      function(Bokeh) {\n",
       "      }\n",
       "    ];\n",
       "  \n",
       "    function run_inline_js() {\n",
       "      for (var i = 0; i < inline_js.length; i++) {\n",
       "        inline_js[i](window.Bokeh);\n",
       "      }\n",
       "    }\n",
       "  \n",
       "    if (window._bokeh_is_loading === 0) {\n",
       "      console.log(\"Bokeh: BokehJS loaded, going straight to plotting\");\n",
       "      run_inline_js();\n",
       "    } else {\n",
       "      load_libs(js_urls, function() {\n",
       "        console.log(\"Bokeh: BokehJS plotting callback run at\", now());\n",
       "        run_inline_js();\n",
       "      });\n",
       "    }\n",
       "  }(this));\n",
       "</script>"
      ]
     },
     "metadata": {},
     "output_type": "display_data"
    },
    {
     "data": {
      "text/html": [
       "<p><code>&lt;Bokeh Notebook handle for <strong>In[4]</strong>&gt;</code></p>"
      ],
      "text/plain": [
       "<bokeh.io._CommsHandle at 0x7f3f60208290>"
      ]
     },
     "execution_count": 4,
     "metadata": {},
     "output_type": "execute_result"
    }
   ],
   "source": [
    "count_data = sa_28_434.unique_snps_per_allele()\n",
    "plt_obj = smcp(count_data)\n",
    "plt = plt_obj.do_plot()\n",
    "show(plt)"
   ]
  },
  {
   "cell_type": "code",
   "execution_count": 5,
   "metadata": {
    "collapsed": false
   },
   "outputs": [
    {
     "data": {
      "text/plain": [
       "array([(0, 4485), (1, 73), (2, 2), (11, 1), (13, 2), (14, 3), (15, 5),\n",
       "       (16, 2), (23, 1), (25, 1), (26, 2), (27, 24), (28, 407)], \n",
       "      dtype=[('count', '<u2'), ('snps', '<u2')])"
      ]
     },
     "execution_count": 5,
     "metadata": {},
     "output_type": "execute_result"
    }
   ],
   "source": [
    "count_data"
   ]
  },
  {
   "cell_type": "code",
   "execution_count": 6,
   "metadata": {
    "collapsed": true
   },
   "outputs": [],
   "source": [
    "am1 = an.lct_obj.yes_no_data_indexes([dm.di_28_434, dm.di_123_1561, dm.di_117_1685])\n",
    "am2 = an.lct_obj.yes_no_data_indexes([dm.di_28_434, dm.di_123_1561, dm.di_13_1696], [dm.di_117_1685])\n",
    "am3 = an.lct_obj.yes_no_data_indexes([dm.di_28_434, dm.di_123_1561], [dm.di_13_1696, dm.di_117_1685])\n",
    "am4 = an.lct_obj.yes_no_data_indexes([dm.di_28_434, dm.di_117_1685, dm.di_49_136], [dm.di_13_1696, dm.di_123_1561])\n",
    "am5 = an.lct_obj.yes_no_data_indexes([dm.di_28_434, dm.di_117_1685], [dm.di_49_136, dm.di_13_1696, dm.di_123_1561])\n",
    "am6 = an.lct_obj.yes_no_data_indexes([dm.di_28_434, dm.di_117_1685, dm.di_13_1696], [dm.di_123_1561])\n",
    "am7 = an.lct_obj.yes_no_data_indexes([dm.di_28_434, dm.di_4_1699], [dm.di_117_1685, dm.di_123_1561])\n",
    "am8 = an.lct_obj.yes_no_data_indexes([dm.di_28_434], [dm.di_4_1699, dm.di_117_1685, dm.di_123_1561])"
   ]
  },
  {
   "cell_type": "code",
   "execution_count": 7,
   "metadata": {
    "collapsed": false
   },
   "outputs": [
    {
     "data": {
      "text/plain": [
       "(29, 251, 5, 62, 11, 74, 1, 1)"
      ]
     },
     "execution_count": 7,
     "metadata": {},
     "output_type": "execute_result"
    }
   ],
   "source": [
    "am1.sum(), am2.sum(), am3.sum(), am4.sum(), am5.sum(), am6.sum(), am7.sum(), am8.sum()"
   ]
  },
  {
   "cell_type": "code",
   "execution_count": 8,
   "metadata": {
    "collapsed": false
   },
   "outputs": [
    {
     "data": {
      "text/plain": [
       "434"
      ]
     },
     "execution_count": 8,
     "metadata": {},
     "output_type": "execute_result"
    }
   ],
   "source": [
    "29+251+5+62+11+74+2"
   ]
  },
  {
   "cell_type": "code",
   "execution_count": 9,
   "metadata": {
    "collapsed": false
   },
   "outputs": [
    {
     "data": {
      "text/html": [
       "\n",
       "\n",
       "    <div class=\"bk-root\">\n",
       "        <div class=\"plotdiv\" id=\"f6e8f220-3da7-41a9-98e2-9545c05d2540\"></div>\n",
       "    </div>\n",
       "<script type=\"text/javascript\">\n",
       "  \n",
       "  (function(global) {\n",
       "    function now() {\n",
       "      return new Date();\n",
       "    }\n",
       "  \n",
       "    if (typeof (window._bokeh_onload_callbacks) === \"undefined\") {\n",
       "      window._bokeh_onload_callbacks = [];\n",
       "    }\n",
       "  \n",
       "    function run_callbacks() {\n",
       "      window._bokeh_onload_callbacks.forEach(function(callback) { callback() });\n",
       "      delete window._bokeh_onload_callbacks\n",
       "      console.info(\"Bokeh: all callbacks have finished\");\n",
       "    }\n",
       "  \n",
       "    function load_libs(js_urls, callback) {\n",
       "      window._bokeh_onload_callbacks.push(callback);\n",
       "      if (window._bokeh_is_loading > 0) {\n",
       "        console.log(\"Bokeh: BokehJS is being loaded, scheduling callback at\", now());\n",
       "        return null;\n",
       "      }\n",
       "      if (js_urls == null || js_urls.length === 0) {\n",
       "        run_callbacks();\n",
       "        return null;\n",
       "      }\n",
       "      console.log(\"Bokeh: BokehJS not loaded, scheduling load and callback at\", now());\n",
       "      window._bokeh_is_loading = js_urls.length;\n",
       "      for (var i = 0; i < js_urls.length; i++) {\n",
       "        var url = js_urls[i];\n",
       "        var s = document.createElement('script');\n",
       "        s.src = url;\n",
       "        s.async = false;\n",
       "        s.onreadystatechange = s.onload = function() {\n",
       "          window._bokeh_is_loading--;\n",
       "          if (window._bokeh_is_loading === 0) {\n",
       "            console.log(\"Bokeh: all BokehJS libraries loaded\");\n",
       "            run_callbacks()\n",
       "          }\n",
       "        };\n",
       "        s.onerror = function() {\n",
       "          console.warn(\"failed to load library \" + url);\n",
       "        };\n",
       "        console.log(\"Bokeh: injecting script tag for BokehJS library: \", url);\n",
       "        document.getElementsByTagName(\"head\")[0].appendChild(s);\n",
       "      }\n",
       "    };var element = document.getElementById(\"f6e8f220-3da7-41a9-98e2-9545c05d2540\");\n",
       "    if (element == null) {\n",
       "      console.log(\"Bokeh: ERROR: autoload.js configured with elementid 'f6e8f220-3da7-41a9-98e2-9545c05d2540' but no matching script tag was found. \")\n",
       "      return false;\n",
       "    }\n",
       "  \n",
       "    var js_urls = [];\n",
       "  \n",
       "    var inline_js = [\n",
       "      function(Bokeh) {\n",
       "        Bokeh.$(function() {\n",
       "            var docs_json = {\"54dcde32-d1fd-417c-9bb2-b9fb28d63eea\":{\"roots\":{\"references\":[{\"attributes\":{\"formatter\":{\"id\":\"db247f2b-3150-496c-ba23-e912f9a208bc\",\"type\":\"BasicTickFormatter\"},\"plot\":{\"id\":\"9e27539d-a673-47d6-adbf-33444ac99e69\",\"subtype\":\"Figure\",\"type\":\"Plot\"},\"ticker\":{\"id\":\"d6b75581-7cfe-4706-86fb-8678a64cfe50\",\"type\":\"BasicTicker\"}},\"id\":\"7ec6b5cf-b872-493f-9ae0-8f2768027e20\",\"type\":\"LinearAxis\"},{\"attributes\":{\"data_source\":{\"id\":\"51ba9034-0a10-42dd-a07e-b83b1574a822\",\"type\":\"ColumnDataSource\"},\"glyph\":{\"id\":\"e39ae9cf-2172-4b03-8b62-60667364fc96\",\"type\":\"Line\"},\"hover_glyph\":null,\"nonselection_glyph\":{\"id\":\"07273713-d8e5-4422-8b43-a8ed7934cf10\",\"type\":\"Line\"},\"selection_glyph\":null},\"id\":\"a9098a40-769f-4508-9221-1876a80b7eb1\",\"type\":\"GlyphRenderer\"},{\"attributes\":{\"active_drag\":\"auto\",\"active_scroll\":\"auto\",\"active_tap\":\"auto\",\"tools\":[{\"id\":\"6fa05811-bdb8-4b9d-9f16-e2d31762d66d\",\"type\":\"PanTool\"},{\"id\":\"963d3d01-9970-4877-9898-e727a0f8be5f\",\"type\":\"WheelZoomTool\"},{\"id\":\"41decc99-64d7-4367-8117-bbb7b635b664\",\"type\":\"BoxZoomTool\"},{\"id\":\"6fd6996f-933c-47d2-9916-44585ae16c41\",\"type\":\"SaveTool\"},{\"id\":\"f4280223-10e9-49e0-9d8d-b35f006166e3\",\"type\":\"ResetTool\"},{\"id\":\"1e14e270-d56b-4861-bd6e-ad82adf05366\",\"type\":\"HelpTool\"}]},\"id\":\"e0060d07-cba4-42a7-b3fd-1ec4c34923d9\",\"type\":\"Toolbar\"},{\"attributes\":{},\"id\":\"d6b75581-7cfe-4706-86fb-8678a64cfe50\",\"type\":\"BasicTicker\"},{\"attributes\":{\"plot\":{\"id\":\"9e27539d-a673-47d6-adbf-33444ac99e69\",\"subtype\":\"Figure\",\"type\":\"Plot\"}},\"id\":\"963d3d01-9970-4877-9898-e727a0f8be5f\",\"type\":\"WheelZoomTool\"},{\"attributes\":{\"callback\":null,\"end\":181.50000000000003},\"id\":\"af729d64-a008-411d-b106-0c056fad6d85\",\"type\":\"Range1d\"},{\"attributes\":{\"bottom_units\":\"screen\",\"fill_alpha\":{\"value\":0.5},\"fill_color\":{\"value\":\"lightgrey\"},\"left_units\":\"screen\",\"level\":\"overlay\",\"line_alpha\":{\"value\":1.0},\"line_color\":{\"value\":\"black\"},\"line_dash\":[4,4],\"line_width\":{\"value\":2},\"plot\":null,\"render_mode\":\"css\",\"right_units\":\"screen\",\"top_units\":\"screen\"},\"id\":\"02e64dae-9598-424b-8f94-ab6d2db79b0e\",\"type\":\"BoxAnnotation\"},{\"attributes\":{\"plot\":{\"id\":\"9e27539d-a673-47d6-adbf-33444ac99e69\",\"subtype\":\"Figure\",\"type\":\"Plot\"}},\"id\":\"f4280223-10e9-49e0-9d8d-b35f006166e3\",\"type\":\"ResetTool\"},{\"attributes\":{\"plot\":{\"id\":\"9e27539d-a673-47d6-adbf-33444ac99e69\",\"subtype\":\"Figure\",\"type\":\"Plot\"}},\"id\":\"6fd6996f-933c-47d2-9916-44585ae16c41\",\"type\":\"SaveTool\"},{\"attributes\":{\"dimension\":1,\"plot\":{\"id\":\"9e27539d-a673-47d6-adbf-33444ac99e69\",\"subtype\":\"Figure\",\"type\":\"Plot\"},\"ticker\":{\"id\":\"d6b75581-7cfe-4706-86fb-8678a64cfe50\",\"type\":\"BasicTicker\"}},\"id\":\"a5c0b36d-7c0e-4cc8-ba2f-31ac6ff7ebb4\",\"type\":\"Grid\"},{\"attributes\":{\"plot\":{\"id\":\"9e27539d-a673-47d6-adbf-33444ac99e69\",\"subtype\":\"Figure\",\"type\":\"Plot\"}},\"id\":\"1e14e270-d56b-4861-bd6e-ad82adf05366\",\"type\":\"HelpTool\"},{\"attributes\":{},\"id\":\"3a7696be-62cd-4fe0-8146-f055efb609f0\",\"type\":\"ToolEvents\"},{\"attributes\":{\"below\":[{\"id\":\"dd23658c-ca69-4dff-bc83-ea89eb08c4a6\",\"type\":\"LinearAxis\"}],\"left\":[{\"id\":\"7ec6b5cf-b872-493f-9ae0-8f2768027e20\",\"type\":\"LinearAxis\"}],\"plot_height\":400,\"plot_width\":900,\"renderers\":[{\"id\":\"dd23658c-ca69-4dff-bc83-ea89eb08c4a6\",\"type\":\"LinearAxis\"},{\"id\":\"2600da63-c0d1-4c10-be83-587e87b539bd\",\"type\":\"Grid\"},{\"id\":\"7ec6b5cf-b872-493f-9ae0-8f2768027e20\",\"type\":\"LinearAxis\"},{\"id\":\"a5c0b36d-7c0e-4cc8-ba2f-31ac6ff7ebb4\",\"type\":\"Grid\"},{\"id\":\"02e64dae-9598-424b-8f94-ab6d2db79b0e\",\"type\":\"BoxAnnotation\"},{\"id\":\"a9098a40-769f-4508-9221-1876a80b7eb1\",\"type\":\"GlyphRenderer\"}],\"title\":{\"id\":\"3958780f-d009-4157-9f9f-e2b168ca22c3\",\"type\":\"Title\"},\"tool_events\":{\"id\":\"3a7696be-62cd-4fe0-8146-f055efb609f0\",\"type\":\"ToolEvents\"},\"toolbar\":{\"id\":\"e0060d07-cba4-42a7-b3fd-1ec4c34923d9\",\"type\":\"Toolbar\"},\"toolbar_location\":null,\"x_range\":{\"id\":\"9e76abc7-b803-4a6e-9a3b-bcc29ee8e41b\",\"type\":\"Range1d\"},\"y_range\":{\"id\":\"af729d64-a008-411d-b106-0c056fad6d85\",\"type\":\"Range1d\"}},\"id\":\"9e27539d-a673-47d6-adbf-33444ac99e69\",\"subtype\":\"Figure\",\"type\":\"Plot\"},{\"attributes\":{\"plot\":null,\"text\":null},\"id\":\"3958780f-d009-4157-9f9f-e2b168ca22c3\",\"type\":\"Title\"},{\"attributes\":{\"plot\":{\"id\":\"9e27539d-a673-47d6-adbf-33444ac99e69\",\"subtype\":\"Figure\",\"type\":\"Plot\"}},\"id\":\"6fa05811-bdb8-4b9d-9f16-e2d31762d66d\",\"type\":\"PanTool\"},{\"attributes\":{\"line_color\":{\"value\":\"#1f77b4\"},\"x\":{\"field\":\"x\"},\"y\":{\"field\":\"y\"}},\"id\":\"e39ae9cf-2172-4b03-8b62-60667364fc96\",\"type\":\"Line\"},{\"attributes\":{\"line_alpha\":{\"value\":0.1},\"line_color\":{\"value\":\"#1f77b4\"},\"x\":{\"field\":\"x\"},\"y\":{\"field\":\"y\"}},\"id\":\"07273713-d8e5-4422-8b43-a8ed7934cf10\",\"type\":\"Line\"},{\"attributes\":{\"callback\":null,\"end\":118.5,\"start\":-0.5},\"id\":\"9e76abc7-b803-4a6e-9a3b-bcc29ee8e41b\",\"type\":\"Range1d\"},{\"attributes\":{\"plot\":{\"id\":\"9e27539d-a673-47d6-adbf-33444ac99e69\",\"subtype\":\"Figure\",\"type\":\"Plot\"},\"ticker\":{\"id\":\"1b8d55d2-38b9-4ee9-a57e-bd063731d8b1\",\"type\":\"BasicTicker\"}},\"id\":\"2600da63-c0d1-4c10-be83-587e87b539bd\",\"type\":\"Grid\"},{\"attributes\":{\"formatter\":{\"id\":\"f1ddf955-2222-495b-b7f8-9b7854509a98\",\"type\":\"BasicTickFormatter\"},\"plot\":{\"id\":\"9e27539d-a673-47d6-adbf-33444ac99e69\",\"subtype\":\"Figure\",\"type\":\"Plot\"},\"ticker\":{\"id\":\"1b8d55d2-38b9-4ee9-a57e-bd063731d8b1\",\"type\":\"BasicTicker\"}},\"id\":\"dd23658c-ca69-4dff-bc83-ea89eb08c4a6\",\"type\":\"LinearAxis\"},{\"attributes\":{\"callback\":null,\"column_names\":[\"y\",\"x\"],\"data\":{\"x\":[-0.5,-0.5,12.5,12.5,13.5,13.5,56.5,56.5,57.5,57.5,58.5,58.5,59.5,59.5,60.5,60.5,61.5,61.5,62.5,62.5,63.5,63.5,67.5,67.5,68.5,68.5,91.5,91.5,92.5,92.5,93.5,93.5,97.5,97.5,98.5,98.5,99.5,99.5,100.5,100.5,104.5,104.5,105.5,105.5,106.5,106.5,107.5,107.5,113.5,113.5,114.5,114.5,115.5,115.5,116.5,116.5,117.5,117.5],\"y\":[0.0,0.0,0.0,1.0,1.0,0.0,0.0,1.0,1.0,0.0,0.0,1.0,1.0,27.0,27.0,165.0,165.0,53.0,53.0,2.0,2.0,0.0,0.0,1.0,1.0,0.0,0.0,4.0,4.0,1.0,1.0,0.0,0.0,1.0,1.0,0.0,0.0,1.0,1.0,0.0,0.0,3.0,3.0,69.0,69.0,2.0,2.0,0.0,0.0,5.0,5.0,9.0,9.0,58.0,58.0,30.0,30.0,0.0]}},\"id\":\"51ba9034-0a10-42dd-a07e-b83b1574a822\",\"type\":\"ColumnDataSource\"},{\"attributes\":{},\"id\":\"f1ddf955-2222-495b-b7f8-9b7854509a98\",\"type\":\"BasicTickFormatter\"},{\"attributes\":{\"overlay\":{\"id\":\"02e64dae-9598-424b-8f94-ab6d2db79b0e\",\"type\":\"BoxAnnotation\"},\"plot\":{\"id\":\"9e27539d-a673-47d6-adbf-33444ac99e69\",\"subtype\":\"Figure\",\"type\":\"Plot\"}},\"id\":\"41decc99-64d7-4367-8117-bbb7b635b664\",\"type\":\"BoxZoomTool\"},{\"attributes\":{},\"id\":\"db247f2b-3150-496c-ba23-e912f9a208bc\",\"type\":\"BasicTickFormatter\"},{\"attributes\":{},\"id\":\"1b8d55d2-38b9-4ee9-a57e-bd063731d8b1\",\"type\":\"BasicTicker\"}],\"root_ids\":[\"9e27539d-a673-47d6-adbf-33444ac99e69\"]},\"title\":\"Bokeh Application\",\"version\":\"0.12.0\"}};\n",
       "            var render_items = [{\"docid\":\"54dcde32-d1fd-417c-9bb2-b9fb28d63eea\",\"elementid\":\"f6e8f220-3da7-41a9-98e2-9545c05d2540\",\"modelid\":\"9e27539d-a673-47d6-adbf-33444ac99e69\",\"notebook_comms_target\":\"b5176397-e007-4e95-bcef-4dbd57c49e79\"}];\n",
       "            \n",
       "            Bokeh.embed.embed_items(docs_json, render_items);\n",
       "        });\n",
       "      },\n",
       "      function(Bokeh) {\n",
       "      }\n",
       "    ];\n",
       "  \n",
       "    function run_inline_js() {\n",
       "      for (var i = 0; i < inline_js.length; i++) {\n",
       "        inline_js[i](window.Bokeh);\n",
       "      }\n",
       "    }\n",
       "  \n",
       "    if (window._bokeh_is_loading === 0) {\n",
       "      console.log(\"Bokeh: BokehJS loaded, going straight to plotting\");\n",
       "      run_inline_js();\n",
       "    } else {\n",
       "      load_libs(js_urls, function() {\n",
       "        console.log(\"Bokeh: BokehJS plotting callback run at\", now());\n",
       "        run_inline_js();\n",
       "      });\n",
       "    }\n",
       "  }(this));\n",
       "</script>"
      ]
     },
     "metadata": {},
     "output_type": "display_data"
    },
    {
     "data": {
      "text/html": [
       "<p><code>&lt;Bokeh Notebook handle for <strong>In[9]</strong>&gt;</code></p>"
      ],
      "text/plain": [
       "<bokeh.io._CommsHandle at 0x7f3f6075d4d0>"
      ]
     },
     "execution_count": 9,
     "metadata": {},
     "output_type": "execute_result"
    }
   ],
   "source": [
    "count_data = an.sa_117_1685.unique_snps_per_allele(am_28_434)\n",
    "plt_obj = smcp(count_data)\n",
    "plt = plt_obj.do_plot()\n",
    "show(plt)"
   ]
  },
  {
   "cell_type": "code",
   "execution_count": 10,
   "metadata": {
    "collapsed": false
   },
   "outputs": [
    {
     "data": {
      "text/plain": [
       "array([(13, 1), (57, 1), (59, 1), (60, 27), (61, 165), (62, 53), (63, 2),\n",
       "       (68, 1), (92, 4), (93, 1), (98, 1), (100, 1), (105, 3), (106, 69),\n",
       "       (107, 2), (114, 5), (115, 9), (116, 58), (117, 30)], \n",
       "      dtype=[('count', '<u2'), ('snps', '<u2')])"
      ]
     },
     "execution_count": 10,
     "metadata": {},
     "output_type": "execute_result"
    }
   ],
   "source": [
    "count_data"
   ]
  },
  {
   "cell_type": "code",
   "execution_count": 11,
   "metadata": {
    "collapsed": false
   },
   "outputs": [
    {
     "data": {
      "text/html": [
       "\n",
       "\n",
       "    <div class=\"bk-root\">\n",
       "        <div class=\"plotdiv\" id=\"30a75fcf-7db3-4bfd-9e81-c82332ea6c79\"></div>\n",
       "    </div>\n",
       "<script type=\"text/javascript\">\n",
       "  \n",
       "  (function(global) {\n",
       "    function now() {\n",
       "      return new Date();\n",
       "    }\n",
       "  \n",
       "    if (typeof (window._bokeh_onload_callbacks) === \"undefined\") {\n",
       "      window._bokeh_onload_callbacks = [];\n",
       "    }\n",
       "  \n",
       "    function run_callbacks() {\n",
       "      window._bokeh_onload_callbacks.forEach(function(callback) { callback() });\n",
       "      delete window._bokeh_onload_callbacks\n",
       "      console.info(\"Bokeh: all callbacks have finished\");\n",
       "    }\n",
       "  \n",
       "    function load_libs(js_urls, callback) {\n",
       "      window._bokeh_onload_callbacks.push(callback);\n",
       "      if (window._bokeh_is_loading > 0) {\n",
       "        console.log(\"Bokeh: BokehJS is being loaded, scheduling callback at\", now());\n",
       "        return null;\n",
       "      }\n",
       "      if (js_urls == null || js_urls.length === 0) {\n",
       "        run_callbacks();\n",
       "        return null;\n",
       "      }\n",
       "      console.log(\"Bokeh: BokehJS not loaded, scheduling load and callback at\", now());\n",
       "      window._bokeh_is_loading = js_urls.length;\n",
       "      for (var i = 0; i < js_urls.length; i++) {\n",
       "        var url = js_urls[i];\n",
       "        var s = document.createElement('script');\n",
       "        s.src = url;\n",
       "        s.async = false;\n",
       "        s.onreadystatechange = s.onload = function() {\n",
       "          window._bokeh_is_loading--;\n",
       "          if (window._bokeh_is_loading === 0) {\n",
       "            console.log(\"Bokeh: all BokehJS libraries loaded\");\n",
       "            run_callbacks()\n",
       "          }\n",
       "        };\n",
       "        s.onerror = function() {\n",
       "          console.warn(\"failed to load library \" + url);\n",
       "        };\n",
       "        console.log(\"Bokeh: injecting script tag for BokehJS library: \", url);\n",
       "        document.getElementsByTagName(\"head\")[0].appendChild(s);\n",
       "      }\n",
       "    };var element = document.getElementById(\"30a75fcf-7db3-4bfd-9e81-c82332ea6c79\");\n",
       "    if (element == null) {\n",
       "      console.log(\"Bokeh: ERROR: autoload.js configured with elementid '30a75fcf-7db3-4bfd-9e81-c82332ea6c79' but no matching script tag was found. \")\n",
       "      return false;\n",
       "    }\n",
       "  \n",
       "    var js_urls = [];\n",
       "  \n",
       "    var inline_js = [\n",
       "      function(Bokeh) {\n",
       "        Bokeh.$(function() {\n",
       "            var docs_json = {\"87123a0d-f364-4036-b585-14d003aa127f\":{\"roots\":{\"references\":[{\"attributes\":{\"bottom_units\":\"screen\",\"fill_alpha\":{\"value\":0.5},\"fill_color\":{\"value\":\"lightgrey\"},\"left_units\":\"screen\",\"level\":\"overlay\",\"line_alpha\":{\"value\":1.0},\"line_color\":{\"value\":\"black\"},\"line_dash\":[4,4],\"line_width\":{\"value\":2},\"plot\":null,\"render_mode\":\"css\",\"right_units\":\"screen\",\"top_units\":\"screen\"},\"id\":\"d19f51c7-0c71-4640-a9df-8631db1895a4\",\"type\":\"BoxAnnotation\"},{\"attributes\":{},\"id\":\"ee9ea758-37d7-4fbf-b884-59c3f3a64825\",\"type\":\"BasicTicker\"},{\"attributes\":{\"plot\":{\"id\":\"05531cf5-879e-4a68-8e5d-3a1fd8bf6b6a\",\"subtype\":\"Figure\",\"type\":\"Plot\"}},\"id\":\"a50d2d26-30f1-4b6a-805c-891126a29771\",\"type\":\"ResetTool\"},{\"attributes\":{\"plot\":{\"id\":\"05531cf5-879e-4a68-8e5d-3a1fd8bf6b6a\",\"subtype\":\"Figure\",\"type\":\"Plot\"}},\"id\":\"3631a0c8-034e-41fd-a6c1-ac0df33782a8\",\"type\":\"SaveTool\"},{\"attributes\":{\"callback\":null,\"column_names\":[\"y\",\"x\"],\"data\":{\"x\":[-0.5,-0.5,65.5,65.5,66.5,66.5,85.5,85.5,86.5,86.5,105.5,105.5,106.5,106.5,107.5,107.5,108.5,108.5,109.5,109.5,110.5,110.5,114.5,114.5,115.5,115.5,116.5,116.5,119.5,119.5,120.5,120.5,121.5,121.5,122.5,122.5,123.5,123.5],\"y\":[0.0,0.0,0.0,1.0,1.0,0.0,0.0,1.0,1.0,0.0,0.0,2.0,2.0,12.0,12.0,56.0,56.0,59.0,59.0,18.0,18.0,0.0,0.0,24.0,24.0,2.0,2.0,0.0,0.0,8.0,8.0,11.0,11.0,79.0,79.0,161.0,161.0,0.0]}},\"id\":\"d9f0207a-c44f-4204-8435-a42e91554f72\",\"type\":\"ColumnDataSource\"},{\"attributes\":{\"line_alpha\":{\"value\":0.1},\"line_color\":{\"value\":\"#1f77b4\"},\"x\":{\"field\":\"x\"},\"y\":{\"field\":\"y\"}},\"id\":\"80d626cf-76ad-4d85-a23d-88907a8b5b6f\",\"type\":\"Line\"},{\"attributes\":{\"plot\":{\"id\":\"05531cf5-879e-4a68-8e5d-3a1fd8bf6b6a\",\"subtype\":\"Figure\",\"type\":\"Plot\"}},\"id\":\"9f7188ac-8ba3-4507-9a82-5ce6113220c0\",\"type\":\"HelpTool\"},{\"attributes\":{\"dimension\":1,\"plot\":{\"id\":\"05531cf5-879e-4a68-8e5d-3a1fd8bf6b6a\",\"subtype\":\"Figure\",\"type\":\"Plot\"},\"ticker\":{\"id\":\"9e77d99b-c31c-46bf-9c38-464d20d65995\",\"type\":\"BasicTicker\"}},\"id\":\"5a1b351d-fc90-4b13-a1ee-cd565fc037eb\",\"type\":\"Grid\"},{\"attributes\":{\"plot\":{\"id\":\"05531cf5-879e-4a68-8e5d-3a1fd8bf6b6a\",\"subtype\":\"Figure\",\"type\":\"Plot\"},\"ticker\":{\"id\":\"ee9ea758-37d7-4fbf-b884-59c3f3a64825\",\"type\":\"BasicTicker\"}},\"id\":\"eb964749-de4a-4037-917c-e35e069916d4\",\"type\":\"Grid\"},{\"attributes\":{\"callback\":null,\"end\":124.5,\"start\":-0.5},\"id\":\"8a76a2b4-bac6-4507-a38e-1e1d390cea66\",\"type\":\"Range1d\"},{\"attributes\":{\"callback\":null,\"end\":177.10000000000002},\"id\":\"9275857b-6507-469f-9ec2-47a1115baf9b\",\"type\":\"Range1d\"},{\"attributes\":{\"plot\":{\"id\":\"05531cf5-879e-4a68-8e5d-3a1fd8bf6b6a\",\"subtype\":\"Figure\",\"type\":\"Plot\"}},\"id\":\"c5902042-2ded-4326-b6ba-7ed75338aa01\",\"type\":\"PanTool\"},{\"attributes\":{\"active_drag\":\"auto\",\"active_scroll\":\"auto\",\"active_tap\":\"auto\",\"tools\":[{\"id\":\"c5902042-2ded-4326-b6ba-7ed75338aa01\",\"type\":\"PanTool\"},{\"id\":\"172a0bd1-896f-4a6e-95f7-968bfe32b9ba\",\"type\":\"WheelZoomTool\"},{\"id\":\"c249326e-a848-4d70-8674-4f7bed082177\",\"type\":\"BoxZoomTool\"},{\"id\":\"3631a0c8-034e-41fd-a6c1-ac0df33782a8\",\"type\":\"SaveTool\"},{\"id\":\"a50d2d26-30f1-4b6a-805c-891126a29771\",\"type\":\"ResetTool\"},{\"id\":\"9f7188ac-8ba3-4507-9a82-5ce6113220c0\",\"type\":\"HelpTool\"}]},\"id\":\"1893c6c6-22e5-4ab9-9b1e-4d826707a373\",\"type\":\"Toolbar\"},{\"attributes\":{},\"id\":\"9e77d99b-c31c-46bf-9c38-464d20d65995\",\"type\":\"BasicTicker\"},{\"attributes\":{\"data_source\":{\"id\":\"d9f0207a-c44f-4204-8435-a42e91554f72\",\"type\":\"ColumnDataSource\"},\"glyph\":{\"id\":\"b9fbbfa7-d741-4c7b-92c1-a1b14e60b3b4\",\"type\":\"Line\"},\"hover_glyph\":null,\"nonselection_glyph\":{\"id\":\"80d626cf-76ad-4d85-a23d-88907a8b5b6f\",\"type\":\"Line\"},\"selection_glyph\":null},\"id\":\"fd534b9b-adb0-4cd2-aa26-b19d10bd37b3\",\"type\":\"GlyphRenderer\"},{\"attributes\":{},\"id\":\"76094f93-ce40-460c-a85e-0228f65a61c7\",\"type\":\"BasicTickFormatter\"},{\"attributes\":{\"line_color\":{\"value\":\"#1f77b4\"},\"x\":{\"field\":\"x\"},\"y\":{\"field\":\"y\"}},\"id\":\"b9fbbfa7-d741-4c7b-92c1-a1b14e60b3b4\",\"type\":\"Line\"},{\"attributes\":{\"formatter\":{\"id\":\"76094f93-ce40-460c-a85e-0228f65a61c7\",\"type\":\"BasicTickFormatter\"},\"plot\":{\"id\":\"05531cf5-879e-4a68-8e5d-3a1fd8bf6b6a\",\"subtype\":\"Figure\",\"type\":\"Plot\"},\"ticker\":{\"id\":\"ee9ea758-37d7-4fbf-b884-59c3f3a64825\",\"type\":\"BasicTicker\"}},\"id\":\"00e70185-6cf4-4bad-b9d3-2ff0f0794c13\",\"type\":\"LinearAxis\"},{\"attributes\":{},\"id\":\"2c92b1a9-0f00-4a83-aaf1-3cb2d10ccd33\",\"type\":\"BasicTickFormatter\"},{\"attributes\":{\"plot\":{\"id\":\"05531cf5-879e-4a68-8e5d-3a1fd8bf6b6a\",\"subtype\":\"Figure\",\"type\":\"Plot\"}},\"id\":\"172a0bd1-896f-4a6e-95f7-968bfe32b9ba\",\"type\":\"WheelZoomTool\"},{\"attributes\":{\"overlay\":{\"id\":\"d19f51c7-0c71-4640-a9df-8631db1895a4\",\"type\":\"BoxAnnotation\"},\"plot\":{\"id\":\"05531cf5-879e-4a68-8e5d-3a1fd8bf6b6a\",\"subtype\":\"Figure\",\"type\":\"Plot\"}},\"id\":\"c249326e-a848-4d70-8674-4f7bed082177\",\"type\":\"BoxZoomTool\"},{\"attributes\":{\"plot\":null,\"text\":null},\"id\":\"8bcc0e5e-6c7d-4a37-97bc-29cea6e03ac0\",\"type\":\"Title\"},{\"attributes\":{\"below\":[{\"id\":\"00e70185-6cf4-4bad-b9d3-2ff0f0794c13\",\"type\":\"LinearAxis\"}],\"left\":[{\"id\":\"01c99987-f1c4-4bf9-84f3-a581a9ee4e25\",\"type\":\"LinearAxis\"}],\"plot_height\":400,\"plot_width\":900,\"renderers\":[{\"id\":\"00e70185-6cf4-4bad-b9d3-2ff0f0794c13\",\"type\":\"LinearAxis\"},{\"id\":\"eb964749-de4a-4037-917c-e35e069916d4\",\"type\":\"Grid\"},{\"id\":\"01c99987-f1c4-4bf9-84f3-a581a9ee4e25\",\"type\":\"LinearAxis\"},{\"id\":\"5a1b351d-fc90-4b13-a1ee-cd565fc037eb\",\"type\":\"Grid\"},{\"id\":\"d19f51c7-0c71-4640-a9df-8631db1895a4\",\"type\":\"BoxAnnotation\"},{\"id\":\"fd534b9b-adb0-4cd2-aa26-b19d10bd37b3\",\"type\":\"GlyphRenderer\"}],\"title\":{\"id\":\"8bcc0e5e-6c7d-4a37-97bc-29cea6e03ac0\",\"type\":\"Title\"},\"tool_events\":{\"id\":\"22a88734-ca2d-48ed-afa6-41346e1cd160\",\"type\":\"ToolEvents\"},\"toolbar\":{\"id\":\"1893c6c6-22e5-4ab9-9b1e-4d826707a373\",\"type\":\"Toolbar\"},\"toolbar_location\":null,\"x_range\":{\"id\":\"8a76a2b4-bac6-4507-a38e-1e1d390cea66\",\"type\":\"Range1d\"},\"y_range\":{\"id\":\"9275857b-6507-469f-9ec2-47a1115baf9b\",\"type\":\"Range1d\"}},\"id\":\"05531cf5-879e-4a68-8e5d-3a1fd8bf6b6a\",\"subtype\":\"Figure\",\"type\":\"Plot\"},{\"attributes\":{\"formatter\":{\"id\":\"2c92b1a9-0f00-4a83-aaf1-3cb2d10ccd33\",\"type\":\"BasicTickFormatter\"},\"plot\":{\"id\":\"05531cf5-879e-4a68-8e5d-3a1fd8bf6b6a\",\"subtype\":\"Figure\",\"type\":\"Plot\"},\"ticker\":{\"id\":\"9e77d99b-c31c-46bf-9c38-464d20d65995\",\"type\":\"BasicTicker\"}},\"id\":\"01c99987-f1c4-4bf9-84f3-a581a9ee4e25\",\"type\":\"LinearAxis\"},{\"attributes\":{},\"id\":\"22a88734-ca2d-48ed-afa6-41346e1cd160\",\"type\":\"ToolEvents\"}],\"root_ids\":[\"05531cf5-879e-4a68-8e5d-3a1fd8bf6b6a\"]},\"title\":\"Bokeh Application\",\"version\":\"0.12.0\"}};\n",
       "            var render_items = [{\"docid\":\"87123a0d-f364-4036-b585-14d003aa127f\",\"elementid\":\"30a75fcf-7db3-4bfd-9e81-c82332ea6c79\",\"modelid\":\"05531cf5-879e-4a68-8e5d-3a1fd8bf6b6a\",\"notebook_comms_target\":\"7712b842-9726-44cb-8756-129d8c1b7d4a\"}];\n",
       "            \n",
       "            Bokeh.embed.embed_items(docs_json, render_items);\n",
       "        });\n",
       "      },\n",
       "      function(Bokeh) {\n",
       "      }\n",
       "    ];\n",
       "  \n",
       "    function run_inline_js() {\n",
       "      for (var i = 0; i < inline_js.length; i++) {\n",
       "        inline_js[i](window.Bokeh);\n",
       "      }\n",
       "    }\n",
       "  \n",
       "    if (window._bokeh_is_loading === 0) {\n",
       "      console.log(\"Bokeh: BokehJS loaded, going straight to plotting\");\n",
       "      run_inline_js();\n",
       "    } else {\n",
       "      load_libs(js_urls, function() {\n",
       "        console.log(\"Bokeh: BokehJS plotting callback run at\", now());\n",
       "        run_inline_js();\n",
       "      });\n",
       "    }\n",
       "  }(this));\n",
       "</script>"
      ]
     },
     "metadata": {},
     "output_type": "display_data"
    },
    {
     "data": {
      "text/html": [
       "<p><code>&lt;Bokeh Notebook handle for <strong>In[11]</strong>&gt;</code></p>"
      ],
      "text/plain": [
       "<bokeh.io._CommsHandle at 0x7f3f901eb310>"
      ]
     },
     "execution_count": 11,
     "metadata": {},
     "output_type": "execute_result"
    }
   ],
   "source": [
    "count_data = an.sa_123_1561.unique_snps_per_allele(am_28_434)\n",
    "plt_obj = smcp(count_data)\n",
    "plt = plt_obj.do_plot()\n",
    "show(plt)"
   ]
  },
  {
   "cell_type": "code",
   "execution_count": 12,
   "metadata": {
    "collapsed": false
   },
   "outputs": [
    {
     "data": {
      "text/plain": [
       "array([(66, 1), (86, 1), (106, 2), (107, 12), (108, 56), (109, 59),\n",
       "       (110, 18), (115, 24), (116, 2), (120, 8), (121, 11), (122, 79),\n",
       "       (123, 161)], \n",
       "      dtype=[('count', '<u2'), ('snps', '<u2')])"
      ]
     },
     "execution_count": 12,
     "metadata": {},
     "output_type": "execute_result"
    }
   ],
   "source": [
    "count_data"
   ]
  },
  {
   "cell_type": "code",
   "execution_count": 13,
   "metadata": {
    "collapsed": false
   },
   "outputs": [
    {
     "data": {
      "text/html": [
       "\n",
       "\n",
       "    <div class=\"bk-root\">\n",
       "        <div class=\"plotdiv\" id=\"123bda74-a0ae-41fb-969f-5c6f815d0df6\"></div>\n",
       "    </div>\n",
       "<script type=\"text/javascript\">\n",
       "  \n",
       "  (function(global) {\n",
       "    function now() {\n",
       "      return new Date();\n",
       "    }\n",
       "  \n",
       "    if (typeof (window._bokeh_onload_callbacks) === \"undefined\") {\n",
       "      window._bokeh_onload_callbacks = [];\n",
       "    }\n",
       "  \n",
       "    function run_callbacks() {\n",
       "      window._bokeh_onload_callbacks.forEach(function(callback) { callback() });\n",
       "      delete window._bokeh_onload_callbacks\n",
       "      console.info(\"Bokeh: all callbacks have finished\");\n",
       "    }\n",
       "  \n",
       "    function load_libs(js_urls, callback) {\n",
       "      window._bokeh_onload_callbacks.push(callback);\n",
       "      if (window._bokeh_is_loading > 0) {\n",
       "        console.log(\"Bokeh: BokehJS is being loaded, scheduling callback at\", now());\n",
       "        return null;\n",
       "      }\n",
       "      if (js_urls == null || js_urls.length === 0) {\n",
       "        run_callbacks();\n",
       "        return null;\n",
       "      }\n",
       "      console.log(\"Bokeh: BokehJS not loaded, scheduling load and callback at\", now());\n",
       "      window._bokeh_is_loading = js_urls.length;\n",
       "      for (var i = 0; i < js_urls.length; i++) {\n",
       "        var url = js_urls[i];\n",
       "        var s = document.createElement('script');\n",
       "        s.src = url;\n",
       "        s.async = false;\n",
       "        s.onreadystatechange = s.onload = function() {\n",
       "          window._bokeh_is_loading--;\n",
       "          if (window._bokeh_is_loading === 0) {\n",
       "            console.log(\"Bokeh: all BokehJS libraries loaded\");\n",
       "            run_callbacks()\n",
       "          }\n",
       "        };\n",
       "        s.onerror = function() {\n",
       "          console.warn(\"failed to load library \" + url);\n",
       "        };\n",
       "        console.log(\"Bokeh: injecting script tag for BokehJS library: \", url);\n",
       "        document.getElementsByTagName(\"head\")[0].appendChild(s);\n",
       "      }\n",
       "    };var element = document.getElementById(\"123bda74-a0ae-41fb-969f-5c6f815d0df6\");\n",
       "    if (element == null) {\n",
       "      console.log(\"Bokeh: ERROR: autoload.js configured with elementid '123bda74-a0ae-41fb-969f-5c6f815d0df6' but no matching script tag was found. \")\n",
       "      return false;\n",
       "    }\n",
       "  \n",
       "    var js_urls = [];\n",
       "  \n",
       "    var inline_js = [\n",
       "      function(Bokeh) {\n",
       "        Bokeh.$(function() {\n",
       "            var docs_json = {\"5346dce8-3c9e-402e-83ce-16cff07fc7dd\":{\"roots\":{\"references\":[{\"attributes\":{\"formatter\":{\"id\":\"e1871d5d-7576-4108-a1a0-b1434eb950d2\",\"type\":\"BasicTickFormatter\"},\"plot\":{\"id\":\"8a00189e-1d90-4fba-99ed-4f3208c921d1\",\"subtype\":\"Figure\",\"type\":\"Plot\"},\"ticker\":{\"id\":\"f1ea7e27-f4eb-46ea-9758-8a16f66751d8\",\"type\":\"BasicTicker\"}},\"id\":\"f30f776c-1218-4573-acff-3f4b8b613314\",\"type\":\"LinearAxis\"},{\"attributes\":{},\"id\":\"614cba22-28c5-45c9-9387-130f838510dc\",\"type\":\"BasicTickFormatter\"},{\"attributes\":{\"callback\":null,\"column_names\":[\"y\",\"x\"],\"data\":{\"x\":[-0.5,-0.5,0.5,0.5,1.5,1.5,2.5,2.5,3.5,3.5,4.5,4.5,10.5,10.5,11.5,11.5,12.5,12.5,13.5,13.5],\"y\":[0.0,100.0,100.0,1.0,1.0,1.0,1.0,0.0,0.0,1.0,1.0,0.0,0.0,4.0,4.0,19.0,19.0,308.0,308.0,0.0]}},\"id\":\"feea28ea-d4aa-4beb-84c3-a20ea360327a\",\"type\":\"ColumnDataSource\"},{\"attributes\":{\"bottom_units\":\"screen\",\"fill_alpha\":{\"value\":0.5},\"fill_color\":{\"value\":\"lightgrey\"},\"left_units\":\"screen\",\"level\":\"overlay\",\"line_alpha\":{\"value\":1.0},\"line_color\":{\"value\":\"black\"},\"line_dash\":[4,4],\"line_width\":{\"value\":2},\"plot\":null,\"render_mode\":\"css\",\"right_units\":\"screen\",\"top_units\":\"screen\"},\"id\":\"0696565c-3fec-498c-bd5b-68eaa40a938b\",\"type\":\"BoxAnnotation\"},{\"attributes\":{\"callback\":null,\"end\":338.8},\"id\":\"410d0823-e974-4ea0-add4-82b9902567e1\",\"type\":\"Range1d\"},{\"attributes\":{\"plot\":{\"id\":\"8a00189e-1d90-4fba-99ed-4f3208c921d1\",\"subtype\":\"Figure\",\"type\":\"Plot\"}},\"id\":\"1e04c107-bade-45ba-b383-65e2c34da157\",\"type\":\"PanTool\"},{\"attributes\":{},\"id\":\"f67cbe76-66c0-4d6d-a66b-a4adad3b3c4a\",\"type\":\"ToolEvents\"},{\"attributes\":{\"formatter\":{\"id\":\"614cba22-28c5-45c9-9387-130f838510dc\",\"type\":\"BasicTickFormatter\"},\"plot\":{\"id\":\"8a00189e-1d90-4fba-99ed-4f3208c921d1\",\"subtype\":\"Figure\",\"type\":\"Plot\"},\"ticker\":{\"id\":\"1d44465e-9932-4f67-9340-99efe4ac68af\",\"type\":\"BasicTicker\"}},\"id\":\"9037baa5-65e7-4ab5-8188-451affcfa3fc\",\"type\":\"LinearAxis\"},{\"attributes\":{\"overlay\":{\"id\":\"0696565c-3fec-498c-bd5b-68eaa40a938b\",\"type\":\"BoxAnnotation\"},\"plot\":{\"id\":\"8a00189e-1d90-4fba-99ed-4f3208c921d1\",\"subtype\":\"Figure\",\"type\":\"Plot\"}},\"id\":\"40f1fb7c-68e1-4574-b35c-269dc1edc3ca\",\"type\":\"BoxZoomTool\"},{\"attributes\":{\"plot\":{\"id\":\"8a00189e-1d90-4fba-99ed-4f3208c921d1\",\"subtype\":\"Figure\",\"type\":\"Plot\"}},\"id\":\"d299e105-aeb8-420a-b822-50a8f0b90de8\",\"type\":\"HelpTool\"},{\"attributes\":{\"line_alpha\":{\"value\":0.1},\"line_color\":{\"value\":\"#1f77b4\"},\"x\":{\"field\":\"x\"},\"y\":{\"field\":\"y\"}},\"id\":\"23db3a89-bec1-4376-8892-751d3627f6a8\",\"type\":\"Line\"},{\"attributes\":{},\"id\":\"1d44465e-9932-4f67-9340-99efe4ac68af\",\"type\":\"BasicTicker\"},{\"attributes\":{},\"id\":\"e1871d5d-7576-4108-a1a0-b1434eb950d2\",\"type\":\"BasicTickFormatter\"},{\"attributes\":{\"dimension\":1,\"plot\":{\"id\":\"8a00189e-1d90-4fba-99ed-4f3208c921d1\",\"subtype\":\"Figure\",\"type\":\"Plot\"},\"ticker\":{\"id\":\"1d44465e-9932-4f67-9340-99efe4ac68af\",\"type\":\"BasicTicker\"}},\"id\":\"2178ce4c-6c7f-4897-a63f-3569bbff288f\",\"type\":\"Grid\"},{\"attributes\":{\"plot\":{\"id\":\"8a00189e-1d90-4fba-99ed-4f3208c921d1\",\"subtype\":\"Figure\",\"type\":\"Plot\"}},\"id\":\"cf3a12c4-fc86-4ea5-9aeb-b3370e62afad\",\"type\":\"ResetTool\"},{\"attributes\":{},\"id\":\"f1ea7e27-f4eb-46ea-9758-8a16f66751d8\",\"type\":\"BasicTicker\"},{\"attributes\":{\"plot\":{\"id\":\"8a00189e-1d90-4fba-99ed-4f3208c921d1\",\"subtype\":\"Figure\",\"type\":\"Plot\"}},\"id\":\"750dda52-c821-4b7d-bddd-1a763befead7\",\"type\":\"WheelZoomTool\"},{\"attributes\":{\"below\":[{\"id\":\"f30f776c-1218-4573-acff-3f4b8b613314\",\"type\":\"LinearAxis\"}],\"left\":[{\"id\":\"9037baa5-65e7-4ab5-8188-451affcfa3fc\",\"type\":\"LinearAxis\"}],\"plot_height\":400,\"plot_width\":900,\"renderers\":[{\"id\":\"f30f776c-1218-4573-acff-3f4b8b613314\",\"type\":\"LinearAxis\"},{\"id\":\"f49cbda4-0426-4e72-9a8e-7874376ffbd5\",\"type\":\"Grid\"},{\"id\":\"9037baa5-65e7-4ab5-8188-451affcfa3fc\",\"type\":\"LinearAxis\"},{\"id\":\"2178ce4c-6c7f-4897-a63f-3569bbff288f\",\"type\":\"Grid\"},{\"id\":\"0696565c-3fec-498c-bd5b-68eaa40a938b\",\"type\":\"BoxAnnotation\"},{\"id\":\"5f919a15-b0d0-42f9-9701-045eb348e5a4\",\"type\":\"GlyphRenderer\"}],\"title\":{\"id\":\"c0d12a04-1fe0-42cf-8874-67b408bbdc30\",\"type\":\"Title\"},\"tool_events\":{\"id\":\"f67cbe76-66c0-4d6d-a66b-a4adad3b3c4a\",\"type\":\"ToolEvents\"},\"toolbar\":{\"id\":\"6548eb19-6014-49a6-931c-0e79b70b5ef6\",\"type\":\"Toolbar\"},\"toolbar_location\":null,\"x_range\":{\"id\":\"b81a08b6-995b-49f1-87f6-96dc4eaf8625\",\"type\":\"Range1d\"},\"y_range\":{\"id\":\"410d0823-e974-4ea0-add4-82b9902567e1\",\"type\":\"Range1d\"}},\"id\":\"8a00189e-1d90-4fba-99ed-4f3208c921d1\",\"subtype\":\"Figure\",\"type\":\"Plot\"},{\"attributes\":{\"plot\":{\"id\":\"8a00189e-1d90-4fba-99ed-4f3208c921d1\",\"subtype\":\"Figure\",\"type\":\"Plot\"}},\"id\":\"07ce51df-f773-4046-b7fc-aaf05564674e\",\"type\":\"SaveTool\"},{\"attributes\":{\"data_source\":{\"id\":\"feea28ea-d4aa-4beb-84c3-a20ea360327a\",\"type\":\"ColumnDataSource\"},\"glyph\":{\"id\":\"9576e608-a0db-4598-af2a-23257b22ee44\",\"type\":\"Line\"},\"hover_glyph\":null,\"nonselection_glyph\":{\"id\":\"23db3a89-bec1-4376-8892-751d3627f6a8\",\"type\":\"Line\"},\"selection_glyph\":null},\"id\":\"5f919a15-b0d0-42f9-9701-045eb348e5a4\",\"type\":\"GlyphRenderer\"},{\"attributes\":{\"plot\":{\"id\":\"8a00189e-1d90-4fba-99ed-4f3208c921d1\",\"subtype\":\"Figure\",\"type\":\"Plot\"},\"ticker\":{\"id\":\"f1ea7e27-f4eb-46ea-9758-8a16f66751d8\",\"type\":\"BasicTicker\"}},\"id\":\"f49cbda4-0426-4e72-9a8e-7874376ffbd5\",\"type\":\"Grid\"},{\"attributes\":{\"plot\":null,\"text\":null},\"id\":\"c0d12a04-1fe0-42cf-8874-67b408bbdc30\",\"type\":\"Title\"},{\"attributes\":{\"active_drag\":\"auto\",\"active_scroll\":\"auto\",\"active_tap\":\"auto\",\"tools\":[{\"id\":\"1e04c107-bade-45ba-b383-65e2c34da157\",\"type\":\"PanTool\"},{\"id\":\"750dda52-c821-4b7d-bddd-1a763befead7\",\"type\":\"WheelZoomTool\"},{\"id\":\"40f1fb7c-68e1-4574-b35c-269dc1edc3ca\",\"type\":\"BoxZoomTool\"},{\"id\":\"07ce51df-f773-4046-b7fc-aaf05564674e\",\"type\":\"SaveTool\"},{\"id\":\"cf3a12c4-fc86-4ea5-9aeb-b3370e62afad\",\"type\":\"ResetTool\"},{\"id\":\"d299e105-aeb8-420a-b822-50a8f0b90de8\",\"type\":\"HelpTool\"}]},\"id\":\"6548eb19-6014-49a6-931c-0e79b70b5ef6\",\"type\":\"Toolbar\"},{\"attributes\":{\"callback\":null,\"end\":14.5,\"start\":-0.5},\"id\":\"b81a08b6-995b-49f1-87f6-96dc4eaf8625\",\"type\":\"Range1d\"},{\"attributes\":{\"line_color\":{\"value\":\"#1f77b4\"},\"x\":{\"field\":\"x\"},\"y\":{\"field\":\"y\"}},\"id\":\"9576e608-a0db-4598-af2a-23257b22ee44\",\"type\":\"Line\"}],\"root_ids\":[\"8a00189e-1d90-4fba-99ed-4f3208c921d1\"]},\"title\":\"Bokeh Application\",\"version\":\"0.12.0\"}};\n",
       "            var render_items = [{\"docid\":\"5346dce8-3c9e-402e-83ce-16cff07fc7dd\",\"elementid\":\"123bda74-a0ae-41fb-969f-5c6f815d0df6\",\"modelid\":\"8a00189e-1d90-4fba-99ed-4f3208c921d1\",\"notebook_comms_target\":\"e2136926-fa6c-422d-a4f8-0690697ddd78\"}];\n",
       "            \n",
       "            Bokeh.embed.embed_items(docs_json, render_items);\n",
       "        });\n",
       "      },\n",
       "      function(Bokeh) {\n",
       "      }\n",
       "    ];\n",
       "  \n",
       "    function run_inline_js() {\n",
       "      for (var i = 0; i < inline_js.length; i++) {\n",
       "        inline_js[i](window.Bokeh);\n",
       "      }\n",
       "    }\n",
       "  \n",
       "    if (window._bokeh_is_loading === 0) {\n",
       "      console.log(\"Bokeh: BokehJS loaded, going straight to plotting\");\n",
       "      run_inline_js();\n",
       "    } else {\n",
       "      load_libs(js_urls, function() {\n",
       "        console.log(\"Bokeh: BokehJS plotting callback run at\", now());\n",
       "        run_inline_js();\n",
       "      });\n",
       "    }\n",
       "  }(this));\n",
       "</script>"
      ]
     },
     "metadata": {},
     "output_type": "display_data"
    },
    {
     "data": {
      "text/html": [
       "<p><code>&lt;Bokeh Notebook handle for <strong>In[13]</strong>&gt;</code></p>"
      ],
      "text/plain": [
       "<bokeh.io._CommsHandle at 0x7f3f60778a90>"
      ]
     },
     "execution_count": 13,
     "metadata": {},
     "output_type": "execute_result"
    }
   ],
   "source": [
    "count_data = an.sa_13_1696.unique_snps_per_allele(am_28_434)\n",
    "plt_obj = smcp(count_data)\n",
    "plt = plt_obj.do_plot()\n",
    "show(plt)"
   ]
  },
  {
   "cell_type": "code",
   "execution_count": 14,
   "metadata": {
    "collapsed": false
   },
   "outputs": [
    {
     "data": {
      "text/plain": [
       "array([(0, 100), (1, 1), (2, 1), (4, 1), (11, 4), (12, 19), (13, 308)], \n",
       "      dtype=[('count', '<u2'), ('snps', '<u2')])"
      ]
     },
     "execution_count": 14,
     "metadata": {},
     "output_type": "execute_result"
    }
   ],
   "source": [
    "count_data"
   ]
  },
  {
   "cell_type": "code",
   "execution_count": 15,
   "metadata": {
    "collapsed": false
   },
   "outputs": [
    {
     "data": {
      "text/html": [
       "\n",
       "\n",
       "    <div class=\"bk-root\">\n",
       "        <div class=\"plotdiv\" id=\"e3b01863-6a6e-4d10-bd71-4286494e12c2\"></div>\n",
       "    </div>\n",
       "<script type=\"text/javascript\">\n",
       "  \n",
       "  (function(global) {\n",
       "    function now() {\n",
       "      return new Date();\n",
       "    }\n",
       "  \n",
       "    if (typeof (window._bokeh_onload_callbacks) === \"undefined\") {\n",
       "      window._bokeh_onload_callbacks = [];\n",
       "    }\n",
       "  \n",
       "    function run_callbacks() {\n",
       "      window._bokeh_onload_callbacks.forEach(function(callback) { callback() });\n",
       "      delete window._bokeh_onload_callbacks\n",
       "      console.info(\"Bokeh: all callbacks have finished\");\n",
       "    }\n",
       "  \n",
       "    function load_libs(js_urls, callback) {\n",
       "      window._bokeh_onload_callbacks.push(callback);\n",
       "      if (window._bokeh_is_loading > 0) {\n",
       "        console.log(\"Bokeh: BokehJS is being loaded, scheduling callback at\", now());\n",
       "        return null;\n",
       "      }\n",
       "      if (js_urls == null || js_urls.length === 0) {\n",
       "        run_callbacks();\n",
       "        return null;\n",
       "      }\n",
       "      console.log(\"Bokeh: BokehJS not loaded, scheduling load and callback at\", now());\n",
       "      window._bokeh_is_loading = js_urls.length;\n",
       "      for (var i = 0; i < js_urls.length; i++) {\n",
       "        var url = js_urls[i];\n",
       "        var s = document.createElement('script');\n",
       "        s.src = url;\n",
       "        s.async = false;\n",
       "        s.onreadystatechange = s.onload = function() {\n",
       "          window._bokeh_is_loading--;\n",
       "          if (window._bokeh_is_loading === 0) {\n",
       "            console.log(\"Bokeh: all BokehJS libraries loaded\");\n",
       "            run_callbacks()\n",
       "          }\n",
       "        };\n",
       "        s.onerror = function() {\n",
       "          console.warn(\"failed to load library \" + url);\n",
       "        };\n",
       "        console.log(\"Bokeh: injecting script tag for BokehJS library: \", url);\n",
       "        document.getElementsByTagName(\"head\")[0].appendChild(s);\n",
       "      }\n",
       "    };var element = document.getElementById(\"e3b01863-6a6e-4d10-bd71-4286494e12c2\");\n",
       "    if (element == null) {\n",
       "      console.log(\"Bokeh: ERROR: autoload.js configured with elementid 'e3b01863-6a6e-4d10-bd71-4286494e12c2' but no matching script tag was found. \")\n",
       "      return false;\n",
       "    }\n",
       "  \n",
       "    var js_urls = [];\n",
       "  \n",
       "    var inline_js = [\n",
       "      function(Bokeh) {\n",
       "        Bokeh.$(function() {\n",
       "            var docs_json = {\"824aa1aa-6864-417c-bfae-275709cdc27a\":{\"roots\":{\"references\":[{\"attributes\":{},\"id\":\"cb881932-596f-425c-a940-000cbd26c1eb\",\"type\":\"BasicTicker\"},{\"attributes\":{\"line_color\":{\"value\":\"#1f77b4\"},\"x\":{\"field\":\"x\"},\"y\":{\"field\":\"y\"}},\"id\":\"3ae34f0c-f287-4e9e-8ec2-e979359e901f\",\"type\":\"Line\"},{\"attributes\":{},\"id\":\"3e901d75-6910-4f44-bcfc-41074010eab1\",\"type\":\"BasicTicker\"},{\"attributes\":{\"below\":[{\"id\":\"00ce8c1f-b402-466c-9ee0-b28a6f4a42b9\",\"type\":\"LinearAxis\"}],\"left\":[{\"id\":\"02c1f13c-2597-4421-b295-a4df411c7ca3\",\"type\":\"LinearAxis\"}],\"plot_height\":400,\"plot_width\":900,\"renderers\":[{\"id\":\"00ce8c1f-b402-466c-9ee0-b28a6f4a42b9\",\"type\":\"LinearAxis\"},{\"id\":\"037b950f-42b0-4384-ab6d-5a9826733c48\",\"type\":\"Grid\"},{\"id\":\"02c1f13c-2597-4421-b295-a4df411c7ca3\",\"type\":\"LinearAxis\"},{\"id\":\"8c637325-5b90-4506-9310-fbc0060b7113\",\"type\":\"Grid\"},{\"id\":\"b3a2c634-ea97-48a5-bdd6-512439ca5acb\",\"type\":\"BoxAnnotation\"},{\"id\":\"2915ab43-3c3c-42ef-8798-a8d2c77bb46b\",\"type\":\"GlyphRenderer\"}],\"title\":{\"id\":\"d80685c3-d836-4b7c-ac4a-5ef62b9484ea\",\"type\":\"Title\"},\"tool_events\":{\"id\":\"dc7ad60a-6651-4815-a02f-130afd484c5a\",\"type\":\"ToolEvents\"},\"toolbar\":{\"id\":\"013a0347-a468-4efb-9d68-d34d58721a50\",\"type\":\"Toolbar\"},\"toolbar_location\":null,\"x_range\":{\"id\":\"b11d8c30-df8d-45c1-8ba6-02a2cd2b795d\",\"type\":\"Range1d\"},\"y_range\":{\"id\":\"fec48323-1a92-4c9d-9026-6dadc8514a4f\",\"type\":\"Range1d\"}},\"id\":\"c10030f8-0ecc-42f5-ad87-7416bda4246a\",\"subtype\":\"Figure\",\"type\":\"Plot\"},{\"attributes\":{\"data_source\":{\"id\":\"9f946c8e-48c7-4a76-bf15-fb50825d51dc\",\"type\":\"ColumnDataSource\"},\"glyph\":{\"id\":\"3ae34f0c-f287-4e9e-8ec2-e979359e901f\",\"type\":\"Line\"},\"hover_glyph\":null,\"nonselection_glyph\":{\"id\":\"93c5d341-26b0-45d9-9e0c-3fde3d857869\",\"type\":\"Line\"},\"selection_glyph\":null},\"id\":\"2915ab43-3c3c-42ef-8798-a8d2c77bb46b\",\"type\":\"GlyphRenderer\"},{\"attributes\":{\"plot\":{\"id\":\"c10030f8-0ecc-42f5-ad87-7416bda4246a\",\"subtype\":\"Figure\",\"type\":\"Plot\"},\"ticker\":{\"id\":\"3e901d75-6910-4f44-bcfc-41074010eab1\",\"type\":\"BasicTicker\"}},\"id\":\"037b950f-42b0-4384-ab6d-5a9826733c48\",\"type\":\"Grid\"},{\"attributes\":{\"bottom_units\":\"screen\",\"fill_alpha\":{\"value\":0.5},\"fill_color\":{\"value\":\"lightgrey\"},\"left_units\":\"screen\",\"level\":\"overlay\",\"line_alpha\":{\"value\":1.0},\"line_color\":{\"value\":\"black\"},\"line_dash\":[4,4],\"line_width\":{\"value\":2},\"plot\":null,\"render_mode\":\"css\",\"right_units\":\"screen\",\"top_units\":\"screen\"},\"id\":\"b3a2c634-ea97-48a5-bdd6-512439ca5acb\",\"type\":\"BoxAnnotation\"},{\"attributes\":{},\"id\":\"1835bb73-3f0c-4fbc-8baf-ffe5a11634df\",\"type\":\"BasicTickFormatter\"},{\"attributes\":{\"formatter\":{\"id\":\"1835bb73-3f0c-4fbc-8baf-ffe5a11634df\",\"type\":\"BasicTickFormatter\"},\"plot\":{\"id\":\"c10030f8-0ecc-42f5-ad87-7416bda4246a\",\"subtype\":\"Figure\",\"type\":\"Plot\"},\"ticker\":{\"id\":\"3e901d75-6910-4f44-bcfc-41074010eab1\",\"type\":\"BasicTicker\"}},\"id\":\"00ce8c1f-b402-466c-9ee0-b28a6f4a42b9\",\"type\":\"LinearAxis\"},{\"attributes\":{\"plot\":{\"id\":\"c10030f8-0ecc-42f5-ad87-7416bda4246a\",\"subtype\":\"Figure\",\"type\":\"Plot\"}},\"id\":\"08abcad8-9d9e-448e-9bac-d7acea5899f1\",\"type\":\"WheelZoomTool\"},{\"attributes\":{},\"id\":\"7bd73006-c39b-4e05-913b-e64b7651982e\",\"type\":\"BasicTickFormatter\"},{\"attributes\":{\"formatter\":{\"id\":\"7bd73006-c39b-4e05-913b-e64b7651982e\",\"type\":\"BasicTickFormatter\"},\"plot\":{\"id\":\"c10030f8-0ecc-42f5-ad87-7416bda4246a\",\"subtype\":\"Figure\",\"type\":\"Plot\"},\"ticker\":{\"id\":\"cb881932-596f-425c-a940-000cbd26c1eb\",\"type\":\"BasicTicker\"}},\"id\":\"02c1f13c-2597-4421-b295-a4df411c7ca3\",\"type\":\"LinearAxis\"},{\"attributes\":{\"callback\":null,\"column_names\":[\"y\",\"x\"],\"data\":{\"x\":[-0.5,-0.5,0.5,0.5,1.5,1.5,2.5,2.5,3.5,3.5,4.5,4.5,5.5,5.5,6.5,6.5,7.5,7.5,8.5,8.5,19.5,19.5,20.5,20.5,21.5,21.5,22.5,22.5],\"y\":[0.0,252.0,252.0,6.0,6.0,19.0,19.0,35.0,35.0,21.0,21.0,25.0,25.0,20.0,20.0,23.0,23.0,4.0,4.0,0.0,0.0,18.0,18.0,2.0,2.0,9.0,9.0,0.0]}},\"id\":\"9f946c8e-48c7-4a76-bf15-fb50825d51dc\",\"type\":\"ColumnDataSource\"},{\"attributes\":{\"plot\":null,\"text\":null},\"id\":\"d80685c3-d836-4b7c-ac4a-5ef62b9484ea\",\"type\":\"Title\"},{\"attributes\":{\"dimension\":1,\"plot\":{\"id\":\"c10030f8-0ecc-42f5-ad87-7416bda4246a\",\"subtype\":\"Figure\",\"type\":\"Plot\"},\"ticker\":{\"id\":\"cb881932-596f-425c-a940-000cbd26c1eb\",\"type\":\"BasicTicker\"}},\"id\":\"8c637325-5b90-4506-9310-fbc0060b7113\",\"type\":\"Grid\"},{\"attributes\":{\"line_alpha\":{\"value\":0.1},\"line_color\":{\"value\":\"#1f77b4\"},\"x\":{\"field\":\"x\"},\"y\":{\"field\":\"y\"}},\"id\":\"93c5d341-26b0-45d9-9e0c-3fde3d857869\",\"type\":\"Line\"},{\"attributes\":{\"plot\":{\"id\":\"c10030f8-0ecc-42f5-ad87-7416bda4246a\",\"subtype\":\"Figure\",\"type\":\"Plot\"}},\"id\":\"0782ed4b-8aa1-4314-9c4f-e4fe74b17452\",\"type\":\"HelpTool\"},{\"attributes\":{\"callback\":null,\"end\":277.20000000000005},\"id\":\"fec48323-1a92-4c9d-9026-6dadc8514a4f\",\"type\":\"Range1d\"},{\"attributes\":{\"active_drag\":\"auto\",\"active_scroll\":\"auto\",\"active_tap\":\"auto\",\"tools\":[{\"id\":\"007dba13-1a9e-401b-808d-f6ff536c2572\",\"type\":\"PanTool\"},{\"id\":\"08abcad8-9d9e-448e-9bac-d7acea5899f1\",\"type\":\"WheelZoomTool\"},{\"id\":\"bb5cb50a-c93f-4bbc-af25-4008f8c94994\",\"type\":\"BoxZoomTool\"},{\"id\":\"8519a387-b9ba-4511-97a5-053374011115\",\"type\":\"SaveTool\"},{\"id\":\"d155f859-3ab9-4cf1-b589-f3d1feb36152\",\"type\":\"ResetTool\"},{\"id\":\"0782ed4b-8aa1-4314-9c4f-e4fe74b17452\",\"type\":\"HelpTool\"}]},\"id\":\"013a0347-a468-4efb-9d68-d34d58721a50\",\"type\":\"Toolbar\"},{\"attributes\":{\"plot\":{\"id\":\"c10030f8-0ecc-42f5-ad87-7416bda4246a\",\"subtype\":\"Figure\",\"type\":\"Plot\"}},\"id\":\"d155f859-3ab9-4cf1-b589-f3d1feb36152\",\"type\":\"ResetTool\"},{\"attributes\":{\"callback\":null,\"end\":23.5,\"start\":-0.5},\"id\":\"b11d8c30-df8d-45c1-8ba6-02a2cd2b795d\",\"type\":\"Range1d\"},{\"attributes\":{\"plot\":{\"id\":\"c10030f8-0ecc-42f5-ad87-7416bda4246a\",\"subtype\":\"Figure\",\"type\":\"Plot\"}},\"id\":\"007dba13-1a9e-401b-808d-f6ff536c2572\",\"type\":\"PanTool\"},{\"attributes\":{\"overlay\":{\"id\":\"b3a2c634-ea97-48a5-bdd6-512439ca5acb\",\"type\":\"BoxAnnotation\"},\"plot\":{\"id\":\"c10030f8-0ecc-42f5-ad87-7416bda4246a\",\"subtype\":\"Figure\",\"type\":\"Plot\"}},\"id\":\"bb5cb50a-c93f-4bbc-af25-4008f8c94994\",\"type\":\"BoxZoomTool\"},{\"attributes\":{\"plot\":{\"id\":\"c10030f8-0ecc-42f5-ad87-7416bda4246a\",\"subtype\":\"Figure\",\"type\":\"Plot\"}},\"id\":\"8519a387-b9ba-4511-97a5-053374011115\",\"type\":\"SaveTool\"},{\"attributes\":{},\"id\":\"dc7ad60a-6651-4815-a02f-130afd484c5a\",\"type\":\"ToolEvents\"}],\"root_ids\":[\"c10030f8-0ecc-42f5-ad87-7416bda4246a\"]},\"title\":\"Bokeh Application\",\"version\":\"0.12.0\"}};\n",
       "            var render_items = [{\"docid\":\"824aa1aa-6864-417c-bfae-275709cdc27a\",\"elementid\":\"e3b01863-6a6e-4d10-bd71-4286494e12c2\",\"modelid\":\"c10030f8-0ecc-42f5-ad87-7416bda4246a\",\"notebook_comms_target\":\"c1bc6c7a-62ae-4132-94e1-3b59c4a3ff8b\"}];\n",
       "            \n",
       "            Bokeh.embed.embed_items(docs_json, render_items);\n",
       "        });\n",
       "      },\n",
       "      function(Bokeh) {\n",
       "      }\n",
       "    ];\n",
       "  \n",
       "    function run_inline_js() {\n",
       "      for (var i = 0; i < inline_js.length; i++) {\n",
       "        inline_js[i](window.Bokeh);\n",
       "      }\n",
       "    }\n",
       "  \n",
       "    if (window._bokeh_is_loading === 0) {\n",
       "      console.log(\"Bokeh: BokehJS loaded, going straight to plotting\");\n",
       "      run_inline_js();\n",
       "    } else {\n",
       "      load_libs(js_urls, function() {\n",
       "        console.log(\"Bokeh: BokehJS plotting callback run at\", now());\n",
       "        run_inline_js();\n",
       "      });\n",
       "    }\n",
       "  }(this));\n",
       "</script>"
      ]
     },
     "metadata": {},
     "output_type": "display_data"
    },
    {
     "data": {
      "text/html": [
       "<p><code>&lt;Bokeh Notebook handle for <strong>In[15]</strong>&gt;</code></p>"
      ],
      "text/plain": [
       "<bokeh.io._CommsHandle at 0x7f3f6075d7d0>"
      ]
     },
     "execution_count": 15,
     "metadata": {},
     "output_type": "execute_result"
    }
   ],
   "source": [
    "count_data = an.sa_62_1265.unique_snps_per_allele(am_28_434)\n",
    "plt_obj = smcp(count_data)\n",
    "plt = plt_obj.do_plot()\n",
    "show(plt)"
   ]
  },
  {
   "cell_type": "code",
   "execution_count": 16,
   "metadata": {
    "collapsed": false
   },
   "outputs": [
    {
     "data": {
      "text/plain": [
       "array([(0, 252), (1, 6), (2, 19), (3, 35), (4, 21), (5, 25), (6, 20),\n",
       "       (7, 23), (8, 4), (20, 18), (21, 2), (22, 9)], \n",
       "      dtype=[('count', '<u2'), ('snps', '<u2')])"
      ]
     },
     "execution_count": 16,
     "metadata": {},
     "output_type": "execute_result"
    }
   ],
   "source": [
    "count_data"
   ]
  },
  {
   "cell_type": "code",
   "execution_count": 17,
   "metadata": {
    "collapsed": false
   },
   "outputs": [
    {
     "data": {
      "text/html": [
       "\n",
       "\n",
       "    <div class=\"bk-root\">\n",
       "        <div class=\"plotdiv\" id=\"1809b86a-6387-4af7-b592-3d79b6fb8342\"></div>\n",
       "    </div>\n",
       "<script type=\"text/javascript\">\n",
       "  \n",
       "  (function(global) {\n",
       "    function now() {\n",
       "      return new Date();\n",
       "    }\n",
       "  \n",
       "    if (typeof (window._bokeh_onload_callbacks) === \"undefined\") {\n",
       "      window._bokeh_onload_callbacks = [];\n",
       "    }\n",
       "  \n",
       "    function run_callbacks() {\n",
       "      window._bokeh_onload_callbacks.forEach(function(callback) { callback() });\n",
       "      delete window._bokeh_onload_callbacks\n",
       "      console.info(\"Bokeh: all callbacks have finished\");\n",
       "    }\n",
       "  \n",
       "    function load_libs(js_urls, callback) {\n",
       "      window._bokeh_onload_callbacks.push(callback);\n",
       "      if (window._bokeh_is_loading > 0) {\n",
       "        console.log(\"Bokeh: BokehJS is being loaded, scheduling callback at\", now());\n",
       "        return null;\n",
       "      }\n",
       "      if (js_urls == null || js_urls.length === 0) {\n",
       "        run_callbacks();\n",
       "        return null;\n",
       "      }\n",
       "      console.log(\"Bokeh: BokehJS not loaded, scheduling load and callback at\", now());\n",
       "      window._bokeh_is_loading = js_urls.length;\n",
       "      for (var i = 0; i < js_urls.length; i++) {\n",
       "        var url = js_urls[i];\n",
       "        var s = document.createElement('script');\n",
       "        s.src = url;\n",
       "        s.async = false;\n",
       "        s.onreadystatechange = s.onload = function() {\n",
       "          window._bokeh_is_loading--;\n",
       "          if (window._bokeh_is_loading === 0) {\n",
       "            console.log(\"Bokeh: all BokehJS libraries loaded\");\n",
       "            run_callbacks()\n",
       "          }\n",
       "        };\n",
       "        s.onerror = function() {\n",
       "          console.warn(\"failed to load library \" + url);\n",
       "        };\n",
       "        console.log(\"Bokeh: injecting script tag for BokehJS library: \", url);\n",
       "        document.getElementsByTagName(\"head\")[0].appendChild(s);\n",
       "      }\n",
       "    };var element = document.getElementById(\"1809b86a-6387-4af7-b592-3d79b6fb8342\");\n",
       "    if (element == null) {\n",
       "      console.log(\"Bokeh: ERROR: autoload.js configured with elementid '1809b86a-6387-4af7-b592-3d79b6fb8342' but no matching script tag was found. \")\n",
       "      return false;\n",
       "    }\n",
       "  \n",
       "    var js_urls = [];\n",
       "  \n",
       "    var inline_js = [\n",
       "      function(Bokeh) {\n",
       "        Bokeh.$(function() {\n",
       "            var docs_json = {\"07428b82-27fa-4a98-af39-e833efe26803\":{\"roots\":{\"references\":[{\"attributes\":{\"plot\":{\"id\":\"6a8d9fd8-9777-4c64-8c4a-ca6d594565db\",\"subtype\":\"Figure\",\"type\":\"Plot\"}},\"id\":\"b632a9b7-97e2-4a30-ac1a-e679dad9270e\",\"type\":\"ResetTool\"},{\"attributes\":{\"plot\":{\"id\":\"6a8d9fd8-9777-4c64-8c4a-ca6d594565db\",\"subtype\":\"Figure\",\"type\":\"Plot\"},\"ticker\":{\"id\":\"d63eefa0-be31-45eb-ab9e-66b6d9ab2afe\",\"type\":\"BasicTicker\"}},\"id\":\"b50c31d6-e454-4055-a348-6ff51caa6b3a\",\"type\":\"Grid\"},{\"attributes\":{\"plot\":{\"id\":\"6a8d9fd8-9777-4c64-8c4a-ca6d594565db\",\"subtype\":\"Figure\",\"type\":\"Plot\"}},\"id\":\"d701a29b-bc0d-43e9-a4f9-fa01812b0000\",\"type\":\"SaveTool\"},{\"attributes\":{\"plot\":null,\"text\":null},\"id\":\"277654ce-b78f-4bc3-9021-2f058acde826\",\"type\":\"Title\"},{\"attributes\":{},\"id\":\"d63eefa0-be31-45eb-ab9e-66b6d9ab2afe\",\"type\":\"BasicTicker\"},{\"attributes\":{},\"id\":\"fe683737-6c19-4e40-a6c1-0c993a29cd73\",\"type\":\"BasicTickFormatter\"},{\"attributes\":{\"callback\":null,\"end\":279.40000000000003},\"id\":\"1ad3874a-6567-4215-a211-6e7e2784c367\",\"type\":\"Range1d\"},{\"attributes\":{\"callback\":null,\"column_names\":[\"y\",\"x\"],\"data\":{\"x\":[-0.5,-0.5,0.5,0.5,1.5,1.5,2.5,2.5,3.5,3.5,4.5,4.5,5.5,5.5,7.5,7.5,8.5,8.5,28.5,28.5,29.5,29.5,53.5,53.5,54.5,54.5,55.5,55.5],\"y\":[0.0,254.0,254.0,19.0,19.0,128.0,128.0,1.0,1.0,1.0,1.0,1.0,1.0,0.0,0.0,1.0,1.0,0.0,0.0,1.0,1.0,0.0,0.0,1.0,1.0,27.0,27.0,0.0]}},\"id\":\"49ca7580-18c7-4ca9-8336-3348f77ee58c\",\"type\":\"ColumnDataSource\"},{\"attributes\":{\"plot\":{\"id\":\"6a8d9fd8-9777-4c64-8c4a-ca6d594565db\",\"subtype\":\"Figure\",\"type\":\"Plot\"}},\"id\":\"97514289-0cdf-4eb6-b188-d2047ea99af1\",\"type\":\"PanTool\"},{\"attributes\":{\"dimension\":1,\"plot\":{\"id\":\"6a8d9fd8-9777-4c64-8c4a-ca6d594565db\",\"subtype\":\"Figure\",\"type\":\"Plot\"},\"ticker\":{\"id\":\"96182632-a2e1-47ca-856e-942ad7c0ae66\",\"type\":\"BasicTicker\"}},\"id\":\"4f5d97fe-8931-40e0-86a9-11efce9c02ce\",\"type\":\"Grid\"},{\"attributes\":{\"active_drag\":\"auto\",\"active_scroll\":\"auto\",\"active_tap\":\"auto\",\"tools\":[{\"id\":\"97514289-0cdf-4eb6-b188-d2047ea99af1\",\"type\":\"PanTool\"},{\"id\":\"f7d2238b-85fe-4095-924f-830a1d3ae968\",\"type\":\"WheelZoomTool\"},{\"id\":\"b9da850b-1587-438e-9c52-b0496dd3bbcd\",\"type\":\"BoxZoomTool\"},{\"id\":\"d701a29b-bc0d-43e9-a4f9-fa01812b0000\",\"type\":\"SaveTool\"},{\"id\":\"b632a9b7-97e2-4a30-ac1a-e679dad9270e\",\"type\":\"ResetTool\"},{\"id\":\"63acc249-3fc0-4d77-abc4-d0948599b673\",\"type\":\"HelpTool\"}]},\"id\":\"8f3bb180-80d4-4b54-8a41-01e484a0ec55\",\"type\":\"Toolbar\"},{\"attributes\":{\"formatter\":{\"id\":\"4f907874-5da9-44eb-b748-1cbdb805ad61\",\"type\":\"BasicTickFormatter\"},\"plot\":{\"id\":\"6a8d9fd8-9777-4c64-8c4a-ca6d594565db\",\"subtype\":\"Figure\",\"type\":\"Plot\"},\"ticker\":{\"id\":\"d63eefa0-be31-45eb-ab9e-66b6d9ab2afe\",\"type\":\"BasicTicker\"}},\"id\":\"8f186e9f-a909-44e9-8532-cdcfd267393d\",\"type\":\"LinearAxis\"},{\"attributes\":{\"plot\":{\"id\":\"6a8d9fd8-9777-4c64-8c4a-ca6d594565db\",\"subtype\":\"Figure\",\"type\":\"Plot\"}},\"id\":\"63acc249-3fc0-4d77-abc4-d0948599b673\",\"type\":\"HelpTool\"},{\"attributes\":{\"data_source\":{\"id\":\"49ca7580-18c7-4ca9-8336-3348f77ee58c\",\"type\":\"ColumnDataSource\"},\"glyph\":{\"id\":\"bbbd63af-746b-49b5-bd7a-1b24e75cd4db\",\"type\":\"Line\"},\"hover_glyph\":null,\"nonselection_glyph\":{\"id\":\"4fda3b76-dc9d-41d4-a94b-f0168ab49d74\",\"type\":\"Line\"},\"selection_glyph\":null},\"id\":\"44df31c3-e304-44c1-a69e-b0be76f80bda\",\"type\":\"GlyphRenderer\"},{\"attributes\":{\"line_alpha\":{\"value\":0.1},\"line_color\":{\"value\":\"#1f77b4\"},\"x\":{\"field\":\"x\"},\"y\":{\"field\":\"y\"}},\"id\":\"4fda3b76-dc9d-41d4-a94b-f0168ab49d74\",\"type\":\"Line\"},{\"attributes\":{\"bottom_units\":\"screen\",\"fill_alpha\":{\"value\":0.5},\"fill_color\":{\"value\":\"lightgrey\"},\"left_units\":\"screen\",\"level\":\"overlay\",\"line_alpha\":{\"value\":1.0},\"line_color\":{\"value\":\"black\"},\"line_dash\":[4,4],\"line_width\":{\"value\":2},\"plot\":null,\"render_mode\":\"css\",\"right_units\":\"screen\",\"top_units\":\"screen\"},\"id\":\"d4329c5a-b41c-4394-bc4a-8a4f53b42fa3\",\"type\":\"BoxAnnotation\"},{\"attributes\":{},\"id\":\"96182632-a2e1-47ca-856e-942ad7c0ae66\",\"type\":\"BasicTicker\"},{\"attributes\":{},\"id\":\"d5329888-54e7-41a7-a7b9-572a7dece6d1\",\"type\":\"ToolEvents\"},{\"attributes\":{\"formatter\":{\"id\":\"fe683737-6c19-4e40-a6c1-0c993a29cd73\",\"type\":\"BasicTickFormatter\"},\"plot\":{\"id\":\"6a8d9fd8-9777-4c64-8c4a-ca6d594565db\",\"subtype\":\"Figure\",\"type\":\"Plot\"},\"ticker\":{\"id\":\"96182632-a2e1-47ca-856e-942ad7c0ae66\",\"type\":\"BasicTicker\"}},\"id\":\"e59f9ee2-3bab-4315-9236-345b6fb3708e\",\"type\":\"LinearAxis\"},{\"attributes\":{\"line_color\":{\"value\":\"#1f77b4\"},\"x\":{\"field\":\"x\"},\"y\":{\"field\":\"y\"}},\"id\":\"bbbd63af-746b-49b5-bd7a-1b24e75cd4db\",\"type\":\"Line\"},{\"attributes\":{\"below\":[{\"id\":\"8f186e9f-a909-44e9-8532-cdcfd267393d\",\"type\":\"LinearAxis\"}],\"left\":[{\"id\":\"e59f9ee2-3bab-4315-9236-345b6fb3708e\",\"type\":\"LinearAxis\"}],\"plot_height\":400,\"plot_width\":900,\"renderers\":[{\"id\":\"8f186e9f-a909-44e9-8532-cdcfd267393d\",\"type\":\"LinearAxis\"},{\"id\":\"b50c31d6-e454-4055-a348-6ff51caa6b3a\",\"type\":\"Grid\"},{\"id\":\"e59f9ee2-3bab-4315-9236-345b6fb3708e\",\"type\":\"LinearAxis\"},{\"id\":\"4f5d97fe-8931-40e0-86a9-11efce9c02ce\",\"type\":\"Grid\"},{\"id\":\"d4329c5a-b41c-4394-bc4a-8a4f53b42fa3\",\"type\":\"BoxAnnotation\"},{\"id\":\"44df31c3-e304-44c1-a69e-b0be76f80bda\",\"type\":\"GlyphRenderer\"}],\"title\":{\"id\":\"277654ce-b78f-4bc3-9021-2f058acde826\",\"type\":\"Title\"},\"tool_events\":{\"id\":\"d5329888-54e7-41a7-a7b9-572a7dece6d1\",\"type\":\"ToolEvents\"},\"toolbar\":{\"id\":\"8f3bb180-80d4-4b54-8a41-01e484a0ec55\",\"type\":\"Toolbar\"},\"toolbar_location\":null,\"x_range\":{\"id\":\"d520eaa7-0db4-4d9b-9497-703916da3d2f\",\"type\":\"Range1d\"},\"y_range\":{\"id\":\"1ad3874a-6567-4215-a211-6e7e2784c367\",\"type\":\"Range1d\"}},\"id\":\"6a8d9fd8-9777-4c64-8c4a-ca6d594565db\",\"subtype\":\"Figure\",\"type\":\"Plot\"},{\"attributes\":{\"overlay\":{\"id\":\"d4329c5a-b41c-4394-bc4a-8a4f53b42fa3\",\"type\":\"BoxAnnotation\"},\"plot\":{\"id\":\"6a8d9fd8-9777-4c64-8c4a-ca6d594565db\",\"subtype\":\"Figure\",\"type\":\"Plot\"}},\"id\":\"b9da850b-1587-438e-9c52-b0496dd3bbcd\",\"type\":\"BoxZoomTool\"},{\"attributes\":{},\"id\":\"4f907874-5da9-44eb-b748-1cbdb805ad61\",\"type\":\"BasicTickFormatter\"},{\"attributes\":{\"plot\":{\"id\":\"6a8d9fd8-9777-4c64-8c4a-ca6d594565db\",\"subtype\":\"Figure\",\"type\":\"Plot\"}},\"id\":\"f7d2238b-85fe-4095-924f-830a1d3ae968\",\"type\":\"WheelZoomTool\"},{\"attributes\":{\"callback\":null,\"end\":56.5,\"start\":-0.5},\"id\":\"d520eaa7-0db4-4d9b-9497-703916da3d2f\",\"type\":\"Range1d\"}],\"root_ids\":[\"6a8d9fd8-9777-4c64-8c4a-ca6d594565db\"]},\"title\":\"Bokeh Application\",\"version\":\"0.12.0\"}};\n",
       "            var render_items = [{\"docid\":\"07428b82-27fa-4a98-af39-e833efe26803\",\"elementid\":\"1809b86a-6387-4af7-b592-3d79b6fb8342\",\"modelid\":\"6a8d9fd8-9777-4c64-8c4a-ca6d594565db\",\"notebook_comms_target\":\"03685b40-c90d-44b2-96d7-225a0e65101a\"}];\n",
       "            \n",
       "            Bokeh.embed.embed_items(docs_json, render_items);\n",
       "        });\n",
       "      },\n",
       "      function(Bokeh) {\n",
       "      }\n",
       "    ];\n",
       "  \n",
       "    function run_inline_js() {\n",
       "      for (var i = 0; i < inline_js.length; i++) {\n",
       "        inline_js[i](window.Bokeh);\n",
       "      }\n",
       "    }\n",
       "  \n",
       "    if (window._bokeh_is_loading === 0) {\n",
       "      console.log(\"Bokeh: BokehJS loaded, going straight to plotting\");\n",
       "      run_inline_js();\n",
       "    } else {\n",
       "      load_libs(js_urls, function() {\n",
       "        console.log(\"Bokeh: BokehJS plotting callback run at\", now());\n",
       "        run_inline_js();\n",
       "      });\n",
       "    }\n",
       "  }(this));\n",
       "</script>"
      ]
     },
     "metadata": {},
     "output_type": "display_data"
    },
    {
     "data": {
      "text/html": [
       "<p><code>&lt;Bokeh Notebook handle for <strong>In[17]</strong>&gt;</code></p>"
      ],
      "text/plain": [
       "<bokeh.io._CommsHandle at 0x7f3f9017f450>"
      ]
     },
     "execution_count": 17,
     "metadata": {},
     "output_type": "execute_result"
    }
   ],
   "source": [
    "count_data = an.sa_193_843.unique_snps_per_allele(am_28_434)\n",
    "plt_obj = smcp(count_data)\n",
    "plt = plt_obj.do_plot()\n",
    "show(plt)"
   ]
  },
  {
   "cell_type": "code",
   "execution_count": 18,
   "metadata": {
    "collapsed": false
   },
   "outputs": [
    {
     "data": {
      "text/plain": [
       "array([(0, 254), (1, 19), (2, 128), (3, 1), (4, 1), (5, 1), (8, 1),\n",
       "       (29, 1), (54, 1), (55, 27)], \n",
       "      dtype=[('count', '<u2'), ('snps', '<u2')])"
      ]
     },
     "execution_count": 18,
     "metadata": {},
     "output_type": "execute_result"
    }
   ],
   "source": [
    "count_data"
   ]
  },
  {
   "cell_type": "code",
   "execution_count": 19,
   "metadata": {
    "collapsed": false
   },
   "outputs": [
    {
     "data": {
      "text/plain": [
       "array([(0, 27), (1, 27), (2, 27), (3, 27), (4, 27), (5, 27), (6, 27),\n",
       "       (7, 27), (8, 27), (9, 27), (10, 27), (11, 27), (12, 27), (13, 27),\n",
       "       (14, 27), (15, 27), (16, 27), (17, 27), (18, 27), (19, 27),\n",
       "       (20, 27), (21, 27), (22, 27), (23, 27), (24, 27), (25, 27),\n",
       "       (26, 27), (27, 27), (28, 0), (29, 27), (30, 27), (31, 27), (32, 27),\n",
       "       (33, 27), (34, 27), (35, 27), (36, 27), (37, 27), (38, 27),\n",
       "       (39, 27), (40, 27), (41, 27), (42, 27), (43, 27), (44, 27),\n",
       "       (45, 27), (46, 27), (47, 27), (48, 27), (49, 27), (50, 27), (51, 0),\n",
       "       (52, 27), (53, 27), (54, 0), (55, 0), (56, 0), (57, 27), (58, 27),\n",
       "       (59, 0), (60, 27), (61, 0), (62, 0), (63, 0), (64, 0), (65, 0),\n",
       "       (66, 0), (67, 0), (68, 0), (69, 0), (70, 0), (71, 0), (72, 0),\n",
       "       (73, 0), (74, 0), (75, 0), (76, 0), (77, 0), (78, 0), (79, 0),\n",
       "       (80, 0), (81, 0), (82, 0), (83, 0), (84, 0), (85, 0), (86, 0),\n",
       "       (87, 0), (88, 0), (89, 0), (90, 0), (91, 0), (92, 0), (93, 0),\n",
       "       (94, 0), (95, 0), (96, 0), (97, 0), (98, 0), (99, 0), (100, 0),\n",
       "       (101, 0), (102, 0), (103, 0), (104, 0), (105, 0), (106, 0),\n",
       "       (107, 0), (108, 0), (109, 0), (110, 0), (111, 0), (112, 0),\n",
       "       (113, 0), (114, 0), (115, 0), (116, 0), (117, 0), (118, 0),\n",
       "       (119, 0), (120, 0), (121, 0), (122, 0), (123, 0), (124, 0),\n",
       "       (125, 0), (126, 0), (127, 0), (128, 0), (129, 0), (130, 0),\n",
       "       (131, 0), (132, 0), (133, 0), (134, 0), (135, 0), (136, 0),\n",
       "       (137, 0), (138, 0), (139, 0), (140, 0), (141, 0), (142, 0),\n",
       "       (143, 0), (144, 0), (145, 0), (146, 0), (147, 0), (148, 0),\n",
       "       (149, 0), (150, 0), (151, 0), (152, 0), (153, 0), (154, 0),\n",
       "       (155, 0), (156, 0), (157, 0), (158, 0), (159, 0), (160, 0),\n",
       "       (161, 0), (162, 0), (163, 0), (164, 0), (165, 0), (166, 0),\n",
       "       (167, 0), (168, 0), (169, 0), (170, 0), (171, 0), (172, 0),\n",
       "       (173, 0), (174, 0), (175, 0), (176, 0), (177, 0), (178, 0),\n",
       "       (179, 0), (180, 0), (181, 0), (182, 0), (183, 0), (184, 0),\n",
       "       (185, 0), (186, 0), (187, 0), (188, 0), (189, 0), (190, 0),\n",
       "       (191, 0), (192, 0)], \n",
       "      dtype=[('index', '<u2'), ('snp_count', '<u2')])"
      ]
     },
     "execution_count": 19,
     "metadata": {},
     "output_type": "execute_result"
    }
   ],
   "source": [
    "tf = an.snp_anal.series_fragment_finder_cls(an.sa_193_843, am_28_434)\n",
    "tf.alleles_per_snp_from_count(55)"
   ]
  },
  {
   "cell_type": "code",
   "execution_count": 20,
   "metadata": {
    "collapsed": false
   },
   "outputs": [
    {
     "data": {
      "text/plain": [
       "array([(0, 54), (1, 0), (2, 0), (3, 0), (4, 0), (5, 0), (6, 0), (7, 0),\n",
       "       (8, 0), (9, 0), (10, 0), (11, 0), (12, 0), (13, 0), (14, 0),\n",
       "       (15, 0), (16, 0), (17, 1), (18, 0), (19, 0), (20, 0), (21, 0),\n",
       "       (22, 0), (23, 0), (24, 0), (25, 0), (26, 0), (27, 0), (28, 0),\n",
       "       (29, 0), (30, 0), (31, 0), (32, 0), (33, 0), (34, 0), (35, 0),\n",
       "       (36, 0), (37, 0), (38, 0), (39, 0), (40, 0), (41, 0), (42, 0),\n",
       "       (43, 0), (44, 0), (45, 0), (46, 0), (47, 0), (48, 0), (49, 0),\n",
       "       (50, 0), (51, 0), (52, 0), (53, 0), (54, 0), (55, 0), (56, 0),\n",
       "       (57, 0), (58, 0), (59, 0), (60, 0), (61, 0), (62, 4), (63, 0),\n",
       "       (64, 0), (65, 0), (66, 0), (67, 0), (68, 0), (69, 0), (70, 0),\n",
       "       (71, 0), (72, 0), (73, 0), (74, 0), (75, 0), (76, 0), (77, 0),\n",
       "       (78, 0), (79, 0), (80, 0), (81, 0), (82, 0), (83, 0), (84, 0),\n",
       "       (85, 0), (86, 0), (87, 0), (88, 0), (89, 0), (90, 0), (91, 0),\n",
       "       (92, 0), (93, 74), (94, 74), (95, 0), (96, 0), (97, 0), (98, 0),\n",
       "       (99, 0), (100, 0), (101, 0), (102, 0), (103, 0), (104, 0), (105, 0),\n",
       "       (106, 0), (107, 0), (108, 0), (109, 0), (110, 0), (111, 0),\n",
       "       (112, 0), (113, 0), (114, 0), (115, 0), (116, 0), (117, 0),\n",
       "       (118, 0), (119, 0), (120, 0), (121, 0), (122, 0), (123, 0),\n",
       "       (124, 0), (125, 12), (126, 0), (127, 0), (128, 0), (129, 0),\n",
       "       (130, 0), (131, 0), (132, 0), (133, 0), (134, 0), (135, 0),\n",
       "       (136, 0), (137, 0), (138, 0), (139, 0), (140, 0), (141, 0),\n",
       "       (142, 0), (143, 0), (144, 0), (145, 0), (146, 0), (147, 0),\n",
       "       (148, 0), (149, 0), (150, 0), (151, 0), (152, 0), (153, 0),\n",
       "       (154, 0), (155, 0), (156, 0), (157, 0), (158, 0), (159, 0),\n",
       "       (160, 0), (161, 0), (162, 0), (163, 0), (164, 37), (165, 0),\n",
       "       (166, 0), (167, 0), (168, 0), (169, 0), (170, 0), (171, 0),\n",
       "       (172, 0), (173, 0), (174, 0), (175, 0), (176, 0), (177, 0),\n",
       "       (178, 0), (179, 0), (180, 0), (181, 0), (182, 0), (183, 0),\n",
       "       (184, 0), (185, 0), (186, 0), (187, 0), (188, 0), (189, 0),\n",
       "       (190, 0), (191, 0), (192, 0)], \n",
       "      dtype=[('index', '<u2'), ('snp_count', '<u2')])"
      ]
     },
     "execution_count": 20,
     "metadata": {},
     "output_type": "execute_result"
    }
   ],
   "source": [
    "tf.alleles_per_snp_from_count(2)"
   ]
  },
  {
   "cell_type": "code",
   "execution_count": 21,
   "metadata": {
    "collapsed": true
   },
   "outputs": [],
   "source": [
    "am_2_93 = tf.am_from_index(93)"
   ]
  },
  {
   "cell_type": "code",
   "execution_count": 22,
   "metadata": {
    "collapsed": false
   },
   "outputs": [
    {
     "data": {
      "text/plain": [
       "array([ 0,  0,  0,  0,  0,  0,  0,  0,  0,  0,  0,  0,  0,  0,  0,  0,  0,\n",
       "        0,  0,  0,  0,  0,  0,  0,  0,  0,  0,  0,  0,  0,  0,  0,  0,  0,\n",
       "        0,  0,  0,  0,  0,  0,  0,  0,  0,  0,  0,  0,  0,  0,  0,  0,  0,\n",
       "        0,  0,  0,  0,  0,  0,  0,  0,  0,  0,  0,  0,  0,  0,  0,  0,  0,\n",
       "        0,  0,  0,  0,  0,  0,  0,  0,  0,  0,  0,  0,  0,  0,  0,  0,  0,\n",
       "        0,  0,  0,  0,  0,  0,  0,  0, 75, 75,  0,  0,  0,  0,  0,  0,  0,\n",
       "        0,  0,  0,  0,  0,  0,  0,  0,  0,  0,  0,  0,  0,  0,  0,  0,  0,\n",
       "        0,  0,  0,  0,  0,  0,  0,  0,  0,  0,  1,  0,  0,  0,  0,  0,  0,\n",
       "        0,  0,  0,  0,  0,  0,  0,  0,  0,  0,  0,  0,  0,  0,  0,  0,  0,\n",
       "        0,  0,  0,  0,  0,  0,  0,  0,  0,  0,  0,  0,  0,  0,  0,  0,  0,\n",
       "        0,  0,  0,  0,  0,  0,  0,  0,  0,  0,  0,  0,  0,  0,  0,  0,  0,\n",
       "        0,  0,  0,  0,  0,  0])"
      ]
     },
     "execution_count": 22,
     "metadata": {},
     "output_type": "execute_result"
    }
   ],
   "source": [
    "an.sa_193_843.alleles_per_snp(am_2_93)"
   ]
  },
  {
   "cell_type": "code",
   "execution_count": 23,
   "metadata": {
    "collapsed": false
   },
   "outputs": [
    {
     "data": {
      "text/html": [
       "\n",
       "\n",
       "    <div class=\"bk-root\">\n",
       "        <div class=\"plotdiv\" id=\"0107b1b7-12a5-4f45-bbc7-f8ec3cd83153\"></div>\n",
       "    </div>\n",
       "<script type=\"text/javascript\">\n",
       "  \n",
       "  (function(global) {\n",
       "    function now() {\n",
       "      return new Date();\n",
       "    }\n",
       "  \n",
       "    if (typeof (window._bokeh_onload_callbacks) === \"undefined\") {\n",
       "      window._bokeh_onload_callbacks = [];\n",
       "    }\n",
       "  \n",
       "    function run_callbacks() {\n",
       "      window._bokeh_onload_callbacks.forEach(function(callback) { callback() });\n",
       "      delete window._bokeh_onload_callbacks\n",
       "      console.info(\"Bokeh: all callbacks have finished\");\n",
       "    }\n",
       "  \n",
       "    function load_libs(js_urls, callback) {\n",
       "      window._bokeh_onload_callbacks.push(callback);\n",
       "      if (window._bokeh_is_loading > 0) {\n",
       "        console.log(\"Bokeh: BokehJS is being loaded, scheduling callback at\", now());\n",
       "        return null;\n",
       "      }\n",
       "      if (js_urls == null || js_urls.length === 0) {\n",
       "        run_callbacks();\n",
       "        return null;\n",
       "      }\n",
       "      console.log(\"Bokeh: BokehJS not loaded, scheduling load and callback at\", now());\n",
       "      window._bokeh_is_loading = js_urls.length;\n",
       "      for (var i = 0; i < js_urls.length; i++) {\n",
       "        var url = js_urls[i];\n",
       "        var s = document.createElement('script');\n",
       "        s.src = url;\n",
       "        s.async = false;\n",
       "        s.onreadystatechange = s.onload = function() {\n",
       "          window._bokeh_is_loading--;\n",
       "          if (window._bokeh_is_loading === 0) {\n",
       "            console.log(\"Bokeh: all BokehJS libraries loaded\");\n",
       "            run_callbacks()\n",
       "          }\n",
       "        };\n",
       "        s.onerror = function() {\n",
       "          console.warn(\"failed to load library \" + url);\n",
       "        };\n",
       "        console.log(\"Bokeh: injecting script tag for BokehJS library: \", url);\n",
       "        document.getElementsByTagName(\"head\")[0].appendChild(s);\n",
       "      }\n",
       "    };var element = document.getElementById(\"0107b1b7-12a5-4f45-bbc7-f8ec3cd83153\");\n",
       "    if (element == null) {\n",
       "      console.log(\"Bokeh: ERROR: autoload.js configured with elementid '0107b1b7-12a5-4f45-bbc7-f8ec3cd83153' but no matching script tag was found. \")\n",
       "      return false;\n",
       "    }\n",
       "  \n",
       "    var js_urls = [];\n",
       "  \n",
       "    var inline_js = [\n",
       "      function(Bokeh) {\n",
       "        Bokeh.$(function() {\n",
       "            var docs_json = {\"437017f8-7941-4504-a27b-79425e6e01f0\":{\"roots\":{\"references\":[{\"attributes\":{\"callback\":null,\"column_names\":[\"right\",\"bottom\",\"top\",\"left\"],\"data\":{\"bottom\":[1045,1045,1045,1045,1045,1045,1045],\"left\":[135809835,135957574,136289083,136499189,136545415,136597196,136664254],\"right\":[135928279,136288182,136482839,136542633,136594750,136634047,136743222],\"top\":[1075,1075,1075,1075,1075,1075,1075]}},\"id\":\"2259a17c-6d71-4bf1-8748-97a6fa3572d1\",\"type\":\"ColumnDataSource\"},{\"attributes\":{\"callback\":null,\"column_names\":[\"right\",\"bottom\",\"top\",\"left\",\"fill_color\"],\"data\":{\"bottom\":[950,850,150,250,550,450,50,650,350,450,650,550,450,150,250,850,750,150,250,650,750,850],\"fill_color\":[\"#808080\",\"#808080\",\"#ff0000\",\"#ff0000\",\"#ff0000\",\"#ff0000\",\"#ff0000\",\"#61c4c4\",\"#ff0000\",\"#ff0000\",\"#ff0000\",\"#ff0000\",\"#c46161\",\"#ff0000\",\"#ff0000\",\"#808080\",\"#808080\",\"#ff0000\",\"#ff0000\",\"#808080\",\"#808080\",\"#808080\"],\"left\":[135757320,135758231,135761470,135780924,135784351,135810535,135837488,135964764,136008173,136115507,136309239,136364916,136392700,136403061,136499188,136506375,136535876,136589701,136651969,136652491,136652953,136653925],\"right\":[135777504,136376515,136371080,136017139,135902220,135898023,136346675,136101132,136381251,136385280,136361560,136387893,136550806,136487844,136631424,136538939,136554890,136641268,136775985,136732772,136761175,136761853],\"top\":[996,896,169,274,588,486,65,691,376,484,690,587,476,168,271,894,794,169,272,692,794,895]}},\"id\":\"5f38ac06-add8-46e3-9e40-77ddb96775cf\",\"type\":\"ColumnDataSource\"},{\"attributes\":{\"plot\":{\"id\":\"33a5abdf-ff7d-4f7e-8655-1d9e82c8cecf\",\"subtype\":\"Figure\",\"type\":\"Plot\"}},\"id\":\"824f32f3-10cf-4bf0-b4ec-eee37911c369\",\"type\":\"HelpTool\"},{\"attributes\":{\"plot\":{\"id\":\"33a5abdf-ff7d-4f7e-8655-1d9e82c8cecf\",\"subtype\":\"Figure\",\"type\":\"Plot\"}},\"id\":\"87879591-e1ac-4f30-b6e5-b24c6cbda0eb\",\"type\":\"SaveTool\"},{\"attributes\":{\"data_source\":{\"id\":\"5f38ac06-add8-46e3-9e40-77ddb96775cf\",\"type\":\"ColumnDataSource\"},\"glyph\":{\"id\":\"831b979c-1665-487c-acb2-63dca9353673\",\"type\":\"Quad\"},\"hover_glyph\":null,\"nonselection_glyph\":{\"id\":\"f1f1e8ca-b2cd-4595-8417-535e3fbe9a61\",\"type\":\"Quad\"},\"selection_glyph\":null},\"id\":\"f49c384e-cc2b-4e47-b7a5-e7aed187b777\",\"type\":\"GlyphRenderer\"},{\"attributes\":{},\"id\":\"d64326a0-eb8b-4fb5-849d-92f6f89abe62\",\"type\":\"BasicTicker\"},{\"attributes\":{\"level\":\"glyph\",\"plot\":{\"id\":\"33a5abdf-ff7d-4f7e-8655-1d9e82c8cecf\",\"subtype\":\"Figure\",\"type\":\"Plot\"},\"source\":{\"id\":\"ed9169b8-de1c-40fb-afa9-599a89539a04\",\"type\":\"ColumnDataSource\"},\"text\":{\"field\":\"vals\"},\"text_align\":\"center\",\"text_baseline\":\"middle\",\"text_font_size\":{\"value\":\"8pt\"},\"x\":{\"field\":\"x\"},\"y\":{\"field\":\"y\"}},\"id\":\"676c6857-6ee0-4fdc-ac5a-b0c753771ad6\",\"type\":\"LabelSet\"},{\"attributes\":{\"callback\":null,\"end\":1100},\"id\":\"4e19fea6-b7cd-433d-a21a-298c4812a91e\",\"type\":\"Range1d\"},{\"attributes\":{\"bottom_units\":\"screen\",\"fill_alpha\":{\"value\":0.5},\"fill_color\":{\"value\":\"lightgrey\"},\"left_units\":\"screen\",\"level\":\"overlay\",\"line_alpha\":{\"value\":1.0},\"line_color\":{\"value\":\"black\"},\"line_dash\":[4,4],\"line_width\":{\"value\":2},\"plot\":null,\"render_mode\":\"css\",\"right_units\":\"screen\",\"top_units\":\"screen\"},\"id\":\"7c3420d4-4e96-4baa-b6cf-4a73d5666c3c\",\"type\":\"BoxAnnotation\"},{\"attributes\":{\"plot\":{\"id\":\"33a5abdf-ff7d-4f7e-8655-1d9e82c8cecf\",\"subtype\":\"Figure\",\"type\":\"Plot\"}},\"id\":\"609c8195-ed43-4e40-ac5c-e443b0f901dd\",\"type\":\"ResetTool\"},{\"attributes\":{\"data_source\":{\"id\":\"2259a17c-6d71-4bf1-8748-97a6fa3572d1\",\"type\":\"ColumnDataSource\"},\"glyph\":{\"id\":\"23a550a4-27c0-4461-9c95-87780e39b416\",\"type\":\"Quad\"},\"hover_glyph\":null,\"nonselection_glyph\":{\"id\":\"c386471f-a475-493d-b485-2b14c223ab34\",\"type\":\"Quad\"},\"selection_glyph\":null},\"id\":\"e9ad6d08-a51a-486a-9579-aea64335314c\",\"type\":\"GlyphRenderer\"},{\"attributes\":{},\"id\":\"30d1610e-3035-4596-bd8e-e241de53e831\",\"type\":\"BasicTickFormatter\"},{\"attributes\":{\"callback\":null,\"end\":136786630,\"start\":135757320},\"id\":\"f7e7c75a-451e-467a-ac8f-2a74689cdff8\",\"type\":\"Range1d\"},{\"attributes\":{},\"id\":\"7888600c-cd2f-4994-b4e3-eaa9c1f73288\",\"type\":\"BasicTickFormatter\"},{\"attributes\":{\"bottom\":{\"field\":\"bottom\"},\"fill_alpha\":{\"value\":0.1},\"fill_color\":{\"value\":\"#1f77b4\"},\"left\":{\"field\":\"left\"},\"line_alpha\":{\"value\":0.1},\"line_color\":{\"value\":\"#1f77b4\"},\"right\":{\"field\":\"right\"},\"top\":{\"field\":\"top\"}},\"id\":\"f1f1e8ca-b2cd-4595-8417-535e3fbe9a61\",\"type\":\"Quad\"},{\"attributes\":{\"overlay\":{\"id\":\"7c3420d4-4e96-4baa-b6cf-4a73d5666c3c\",\"type\":\"BoxAnnotation\"},\"plot\":{\"id\":\"33a5abdf-ff7d-4f7e-8655-1d9e82c8cecf\",\"subtype\":\"Figure\",\"type\":\"Plot\"}},\"id\":\"db1ac6ef-be79-47b9-9860-aebc7eee222b\",\"type\":\"BoxZoomTool\"},{\"attributes\":{},\"id\":\"63cc1a62-c8a4-4a55-bf1c-76d9e89e4ae2\",\"type\":\"ToolEvents\"},{\"attributes\":{\"plot\":null,\"text\":null},\"id\":\"17cdcc8d-8512-4f94-bd33-100523b63622\",\"type\":\"Title\"},{\"attributes\":{\"dimension\":1,\"plot\":{\"id\":\"33a5abdf-ff7d-4f7e-8655-1d9e82c8cecf\",\"subtype\":\"Figure\",\"type\":\"Plot\"},\"ticker\":{\"id\":\"9b516381-9e6e-4619-8264-f190b672dfc8\",\"type\":\"BasicTicker\"}},\"id\":\"7d05b82c-8c39-42f5-8d72-1824cbb9da04\",\"type\":\"Grid\"},{\"attributes\":{\"formatter\":{\"id\":\"30d1610e-3035-4596-bd8e-e241de53e831\",\"type\":\"BasicTickFormatter\"},\"plot\":{\"id\":\"33a5abdf-ff7d-4f7e-8655-1d9e82c8cecf\",\"subtype\":\"Figure\",\"type\":\"Plot\"},\"ticker\":{\"id\":\"9b516381-9e6e-4619-8264-f190b672dfc8\",\"type\":\"BasicTicker\"},\"visible\":null},\"id\":\"61a7e26f-c4c4-4901-b0b5-58ac9fa71fe2\",\"type\":\"LinearAxis\"},{\"attributes\":{\"plot\":{\"id\":\"33a5abdf-ff7d-4f7e-8655-1d9e82c8cecf\",\"subtype\":\"Figure\",\"type\":\"Plot\"}},\"id\":\"be6979d8-2035-43c3-9a9a-33d719bc9b8d\",\"type\":\"WheelZoomTool\"},{\"attributes\":{\"active_drag\":\"auto\",\"active_scroll\":\"auto\",\"active_tap\":\"auto\",\"tools\":[{\"id\":\"d7c9235b-ad9a-47b5-b403-688746a6bdb0\",\"type\":\"PanTool\"},{\"id\":\"be6979d8-2035-43c3-9a9a-33d719bc9b8d\",\"type\":\"WheelZoomTool\"},{\"id\":\"db1ac6ef-be79-47b9-9860-aebc7eee222b\",\"type\":\"BoxZoomTool\"},{\"id\":\"87879591-e1ac-4f30-b6e5-b24c6cbda0eb\",\"type\":\"SaveTool\"},{\"id\":\"609c8195-ed43-4e40-ac5c-e443b0f901dd\",\"type\":\"ResetTool\"},{\"id\":\"824f32f3-10cf-4bf0-b4ec-eee37911c369\",\"type\":\"HelpTool\"}]},\"id\":\"266fdd30-1b28-4878-a19d-77b9f97d17c6\",\"type\":\"Toolbar\"},{\"attributes\":{\"callback\":null,\"column_names\":[\"xs\",\"ys\",\"line_color\"],\"data\":{\"line_color\":[\"black\",\"black\",\"black\",\"black\",\"black\",\"black\",\"black\",\"black\",\"black\",\"black\",\"black\",\"black\",\"black\",\"black\",\"black\",\"black\",\"black\",\"black\",\"black\",\"black\",\"black\",\"black\",\"black\",\"black\",\"black\",\"black\",\"black\",\"black\",\"black\",\"black\",\"black\",\"black\",\"black\",\"black\",\"black\",\"black\",\"black\",\"black\",\"black\",\"black\",\"black\",\"black\",\"black\",\"black\",\"black\",\"black\",\"black\",\"black\",\"black\",\"black\",\"black\",\"black\",\"black\",\"black\",\"black\",\"black\",\"black\",\"black\",\"black\",\"black\",\"black\",\"black\",\"black\",\"black\",\"black\",\"black\",\"black\",\"black\",\"black\",\"black\",\"black\",\"black\",\"black\",\"black\",\"black\",\"black\",\"black\",\"black\",\"black\",\"black\",\"black\",\"black\",\"black\",\"black\",\"black\",\"black\",\"black\",\"black\",\"black\",\"black\",\"black\",\"black\",\"black\",\"black\",\"black\",\"black\",\"black\",\"black\",\"black\",\"black\",\"black\",\"black\",\"black\",\"black\",\"black\",\"black\",\"black\",\"black\",\"black\",\"black\",\"black\",\"black\",\"black\",\"black\",\"black\",\"black\",\"black\",\"black\",\"black\",\"black\",\"black\",\"black\",\"black\",\"black\",\"black\",\"black\",\"black\",\"black\",\"black\",\"black\",\"black\",\"black\",\"black\",\"black\",\"black\",\"black\",\"black\",\"black\",\"black\",\"black\",\"black\",\"black\",\"black\",\"black\",\"black\",\"black\",\"black\",\"black\",\"black\",\"black\",\"black\",\"black\",\"black\",\"black\",\"black\",\"black\",\"black\",\"black\",\"black\",\"black\",\"black\",\"black\",\"black\",\"black\",\"black\",\"black\",\"black\",\"black\",\"black\",\"black\",\"black\",\"black\",\"black\",\"black\",\"black\",\"black\",\"black\",\"black\",\"black\",\"black\",\"black\",\"black\",\"black\",\"black\",\"black\",\"black\",\"black\",\"black\",\"black\",\"black\",\"black\",\"black\",\"black\",\"black\",\"black\",\"black\",\"black\",\"black\",\"black\",\"black\",\"black\",\"black\",\"black\",\"black\",\"black\",\"black\",\"black\",\"black\",\"black\",\"black\",\"black\",\"black\",\"black\",\"black\",\"black\",\"black\",\"black\",\"black\",\"black\",\"black\",\"black\",\"black\",\"black\",\"black\",\"black\",\"black\",\"black\",\"black\",\"black\",\"black\",\"black\",\"black\",\"black\",\"black\",\"black\",\"black\",\"black\",\"black\",\"black\",\"black\",\"black\",\"black\",\"black\",\"black\",\"black\",\"black\",\"black\",\"black\",\"black\",\"black\",\"black\",\"black\",\"black\",\"black\",\"black\",\"black\",\"black\",\"black\",\"black\",\"black\",\"black\",\"black\",\"black\",\"black\",\"black\",\"black\",\"black\",\"black\",\"black\",\"black\",\"black\",\"black\",\"black\",\"black\",\"black\",\"black\",\"black\",\"black\",\"black\",\"black\",\"black\",\"black\",\"black\",\"black\",\"black\",\"black\",\"black\",\"black\",\"black\",\"black\",\"black\",\"black\",\"black\",\"black\",\"black\",\"black\",\"black\",\"black\",\"black\",\"black\",\"black\",\"black\",\"black\",\"black\",\"black\",\"black\",\"black\",\"black\",\"black\",\"black\",\"black\",\"black\",\"black\",\"black\",\"black\",\"black\",\"black\",\"black\",\"black\",\"black\",\"black\",\"black\",\"black\",\"black\",\"black\",\"black\",\"black\",\"black\",\"black\",\"black\",\"black\",\"black\",\"black\",\"black\",\"black\",\"black\",\"black\",\"black\",\"black\",\"black\",\"black\",\"black\",\"black\",\"black\",\"black\",\"black\",\"black\",\"black\",\"black\",\"black\",\"black\",\"black\",\"black\",\"black\",\"black\",\"black\",\"black\",\"black\",\"black\",\"black\",\"black\",\"black\",\"black\",\"black\",\"black\",\"black\",\"black\",\"black\",\"black\",\"black\",\"black\",\"black\",\"black\",\"black\",\"black\",\"black\",\"black\",\"black\",\"black\",\"black\",\"black\",\"black\",\"black\",\"black\",\"black\",\"black\",\"black\",\"black\",\"black\",\"black\",\"black\",\"black\",\"black\",\"black\",\"black\",\"black\",\"black\",\"black\",\"black\",\"black\",\"black\",\"black\",\"black\",\"black\",\"black\",\"black\",\"black\",\"black\",\"black\",\"black\",\"black\",\"black\",\"black\",\"black\",\"black\",\"black\",\"black\",\"black\",\"black\",\"black\",\"black\",\"black\",\"black\",\"black\",\"black\",\"black\",\"black\",\"black\",\"black\",\"black\",\"black\",\"black\",\"black\",\"black\",\"black\",\"black\",\"black\",\"black\",\"black\",\"black\",\"black\",\"black\",\"black\",\"black\",\"black\",\"black\",\"black\",\"black\",\"black\",\"black\",\"black\",\"black\",\"black\",\"black\",\"black\",\"black\",\"black\",\"black\",\"black\",\"black\",\"black\",\"black\",\"black\",\"black\",\"black\",\"black\",\"black\",\"black\",\"black\",\"black\",\"black\",\"black\",\"black\",\"black\",\"black\",\"black\",\"black\",\"black\",\"black\",\"black\",\"black\",\"black\",\"black\",\"black\",\"black\",\"black\",\"black\",\"black\",\"black\",\"black\",\"black\",\"black\",\"black\",\"black\",\"black\",\"black\",\"black\",\"black\",\"black\",\"black\",\"black\",\"black\"],\"xs\":[[135757320,135757320],[135761078,135761078],[135761271,135761271],[135762344,135762344],[135762980,135762980],[135763280,135763280],[135768815,135768815],[135769093,135769093],[135769127,135769127],[135770940,135770940],[135770951,135770951],[135776728,135776728],[135777504,135777504],[135758231,135758231],[135758520,135758520],[135766072,135766072],[135773420,135773420],[135773446,135773446],[135773617,135773617],[135773692,135773692],[135774681,135774681],[135775049,135775049],[135776430,135776430],[135778656,135778656],[135780168,135780168],[135780587,135780587],[135781301,135781301],[135781522,135781522],[135781635,135781635],[135782456,135782456],[135783157,135783157],[135783366,135783366],[135783367,135783367],[135784227,135784227],[135784733,135784733],[135785066,135785066],[135785068,135785068],[135785149,135785149],[135787148,135787148],[135787642,135787642],[135789405,135789405],[135789472,135789472],[135789682,135789682],[135789784,135789784],[135792338,135792338],[135792528,135792528],[135793565,135793565],[135793684,135793684],[135793845,135793845],[135794367,135794367],[135794986,135794986],[135795040,135795040],[135795095,135795095],[135795150,135795150],[135795385,135795385],[135795396,135795396],[135795443,135795443],[135795595,135795595],[135796000,135796000],[135796155,135796155],[135796410,135796410],[135796965,135796965],[135797223,135797223],[135797747,135797747],[135798082,135798082],[135798758,135798758],[135799082,135799082],[135800085,135800085],[135800601,135800601],[135800757,135800757],[135801228,135801228],[135801956,135801956],[135802020,135802020],[135802028,135802028],[135802050,135802050],[135802148,135802148],[135803766,135803766],[135809241,135809241],[135812969,135812969],[135814716,135814716],[135818907,135818907],[135829432,135829432],[135832131,135832131],[135849613,135849613],[135853807,135853807],[135859923,135859923],[135860305,135860305],[135861497,135861497],[135863143,135863143],[135864294,135864294],[135871624,135871624],[135872646,135872646],[135874038,135874038],[135874622,135874622],[135878814,135878814],[135880013,135880013],[135884487,135884487],[135885357,135885357],[135893853,135893853],[135895809,135895809],[135895879,135895879],[135899069,135899069],[135909462,135909462],[135912977,135912977],[135914038,135914038],[135921839,135921839],[135925002,135925002],[135928312,135928312],[135935049,135935049],[135962711,135962711],[135984172,135984172],[135994753,135994753],[135994754,135994754],[136016079,136016079],[136027264,136027264],[136052004,136052004],[136100473,136100473],[136110129,136110129],[136166536,136166536],[136169799,136169799],[136191314,136191314],[136228887,136228887],[136238453,136238453],[136288273,136288273],[136292425,136292425],[136321951,136321951],[136324564,136324564],[136327299,136327299],[136327302,136327302],[136376515,136376515],[135761470,135761470],[135766160,135766160],[135775474,135775474],[135775547,135775547],[135954337,135954337],[135971171,135971171],[136035016,136035016],[136106795,136106795],[136139229,136139229],[136140930,136140930],[136143414,136143414],[136160220,136160220],[136164187,136164187],[136164304,136164304],[136177628,136177628],[136213160,136213160],[136229089,136229089],[136229185,136229185],[136268862,136268862],[136308277,136308277],[136344372,136344372],[136371080,136371080],[135780924,135780924],[135783872,135783872],[135784174,135784174],[135784652,135784652],[135787686,135787686],[135788712,135788712],[135794686,135794686],[135815035,135815035],[135815806,135815806],[135816299,135816299],[135817965,135817965],[135819405,135819405],[135820455,135820455],[135822556,135822556],[135830362,135830362],[135838113,135838113],[135843398,135843398],[135845084,135845084],[135850778,135850778],[135853281,135853281],[135858199,135858199],[135859428,135859428],[135867144,135867144],[135867538,135867538],[135874606,135874606],[135880487,135880487],[135882089,135882089],[135883468,135883468],[135892685,135892685],[135894666,135894666],[135894837,135894837],[135894879,135894879],[135896985,135896985],[135904659,135904659],[135908007,135908007],[135910415,135910415],[135917924,135917924],[135926486,135926486],[135942475,135942475],[135955537,135955537],[135964420,135964420],[135965002,135965002],[135981071,135981071],[135988224,135988224],[135991508,135991508],[135991714,135991714],[135997479,135997479],[136001913,136001913],[136017139,136017139],[135784351,135784351],[135829309,135829309],[135835508,135835508],[135861297,135861297],[135863459,135863459],[135873845,135873845],[135902172,135902172],[135902220,135902220],[135810535,135810535],[135817760,135817760],[135857538,135857538],[135862191,135862191],[135869380,135869380],[135869761,135869761],[135886486,135886486],[135888078,135888078],[135898023,135898023],[135837488,135837488],[135839857,135839857],[135895742,135895742],[135915568,135915568],[135959654,135959654],[136296989,136296989],[136346675,136346675],[135964764,135964764],[135964765,135964765],[136099127,136099127],[136099650,136099650],[136100705,136100705],[136101132,136101132],[136008173,136008173],[136008446,136008446],[136014236,136014236],[136036997,136036997],[136037702,136037702],[136040078,136040078],[136046601,136046601],[136048235,136048235],[136050624,136050624],[136051458,136051458],[136053800,136053800],[136069666,136069666],[136070320,136070320],[136071268,136071268],[136085307,136085307],[136107478,136107478],[136116965,136116965],[136119487,136119487],[136133726,136133726],[136136964,136136964],[136137013,136137013],[136141365,136141365],[136151898,136151898],[136153771,136153771],[136157319,136157319],[136157786,136157786],[136160634,136160634],[136161546,136161546],[136161613,136161613],[136163239,136163239],[136166288,136166288],[136171078,136171078],[136174848,136174848],[136177152,136177152],[136188784,136188784],[136191498,136191498],[136192069,136192069],[136192914,136192914],[136202038,136202038],[136206988,136206988],[136208169,136208169],[136211700,136211700],[136214800,136214800],[136223293,136223293],[136238330,136238330],[136242667,136242667],[136249834,136249834],[136255405,136255405],[136261219,136261219],[136264924,136264924],[136265494,136265494],[136267386,136267386],[136267415,136267415],[136277320,136277320],[136279720,136279720],[136279756,136279756],[136283113,136283113],[136299020,136299020],[136304442,136304442],[136308679,136308679],[136319192,136319192],[136324543,136324543],[136330131,136330131],[136347919,136347919],[136353065,136353065],[136360339,136360339],[136370954,136370954],[136371399,136371399],[136376994,136376994],[136381251,136381251],[136115507,136115507],[136133627,136133627],[136135820,136135820],[136145676,136145676],[136166014,136166014],[136173684,136173684],[136176031,136176031],[136214307,136214307],[136215590,136215590],[136219265,136219265],[136219831,136219831],[136289471,136289471],[136298739,136298739],[136302296,136302296],[136302897,136302897],[136348702,136348702],[136348964,136348964],[136358707,136358707],[136359608,136359608],[136360402,136360402],[136365624,136365624],[136366970,136366970],[136367871,136367871],[136368393,136368393],[136370701,136370701],[136378539,136378539],[136378895,136378895],[136385280,136385280],[136309239,136309239],[136322472,136322472],[136323787,136323787],[136323862,136323862],[136326765,136326765],[136329500,136329500],[136331657,136331657],[136345356,136345356],[136361560,136361560],[136364916,136364916],[136369497,136369497],[136369580,136369580],[136380846,136380846],[136387893,136387893],[136392700,136392700],[136400692,136400692],[136408881,136408881],[136409096,136409096],[136413099,136413099],[136413116,136413116],[136413618,136413618],[136417468,136417468],[136421589,136421589],[136425362,136425362],[136430479,136430479],[136439871,136439871],[136442318,136442318],[136444284,136444284],[136444985,136444985],[136445838,136445838],[136446249,136446249],[136447867,136447867],[136449090,136449090],[136449671,136449671],[136451724,136451724],[136452322,136452322],[136459565,136459565],[136460977,136460977],[136462831,136462831],[136464615,136464615],[136464818,136464818],[136464885,136464885],[136465856,136465856],[136467164,136467164],[136483721,136483721],[136485246,136485246],[136485657,136485657],[136493550,136493550],[136500338,136500338],[136500597,136500597],[136502199,136502199],[136506995,136506995],[136507804,136507804],[136509222,136509222],[136510091,136510091],[136512545,136512545],[136517471,136517471],[136522377,136522377],[136523696,136523696],[136523874,136523874],[136526324,136526324],[136528006,136528006],[136529000,136529000],[136533161,136533161],[136539413,136539413],[136548116,136548116],[136548169,136548169],[136548192,136548192],[136550806,136550806],[136403061,136403061],[136426893,136426893],[136451328,136451328],[136487844,136487844],[136499188,136499188],[136509186,136509186],[136559598,136559598],[136562813,136562813],[136565028,136565028],[136567633,136567633],[136573415,136573415],[136575534,136575534],[136577844,136577844],[136578703,136578703],[136578866,136578866],[136581354,136581354],[136586585,136586585],[136588968,136588968],[136589082,136589082],[136589514,136589514],[136606360,136606360],[136606741,136606741],[136607870,136607870],[136607871,136607871],[136608466,136608466],[136622825,136622825],[136626986,136626986],[136629325,136629325],[136629993,136629993],[136631424,136631424],[136506375,136506375],[136506927,136506927],[136510012,136510012],[136538939,136538939],[136535876,136535876],[136544651,136544651],[136545844,136545844],[136552526,136552526],[136553022,136553022],[136554797,136554797],[136554890,136554890],[136589701,136589701],[136593535,136593535],[136606413,136606413],[136641268,136641268],[136651969,136651969],[136652131,136652131],[136654256,136654256],[136654345,136654345],[136666824,136666824],[136671138,136671138],[136711512,136711512],[136720021,136720021],[136720176,136720176],[136721793,136721793],[136722148,136722148],[136722710,136722710],[136726393,136726393],[136731643,136731643],[136733117,136733117],[136734614,136734614],[136737647,136737647],[136740031,136740031],[136757003,136757003],[136762512,136762512],[136765924,136765924],[136766523,136766523],[136768607,136768607],[136775985,136775985],[136652491,136652491],[136652524,136652524],[136661150,136661150],[136669264,136669264],[136726567,136726567],[136732772,136732772],[136652953,136652953],[136655582,136655582],[136674028,136674028],[136684940,136684940],[136761175,136761175],[136653925,136653925],[136654833,136654833],[136656534,136656534],[136656536,136656536],[136657252,136657252],[136667301,136667301],[136667487,136667487],[136672775,136672775],[136680534,136680534],[136686393,136686393],[136688749,136688749],[136692553,136692553],[136697371,136697371],[136708787,136708787],[136710372,136710372],[136711064,136711064],[136715324,136715324],[136723504,136723504],[136737460,136737460],[136743143,136743143],[136746224,136746224],[136751842,136751842],[136759379,136759379],[136761853,136761853]],\"ys\":[[950,996],[950,996],[950,996],[950,996],[950,996],[950,996],[950,996],[950,996],[950,996],[950,996],[950,996],[950,996],[950,996],[850,896],[850,896],[850,896],[850,896],[850,896],[850,896],[850,896],[850,896],[850,896],[850,896],[850,896],[850,896],[850,896],[850,896],[850,896],[850,896],[850,896],[850,896],[850,896],[850,896],[850,896],[850,896],[850,896],[850,896],[850,896],[850,896],[850,896],[850,896],[850,896],[850,896],[850,896],[850,896],[850,896],[850,896],[850,896],[850,896],[850,896],[850,896],[850,896],[850,896],[850,896],[850,896],[850,896],[850,896],[850,896],[850,896],[850,896],[850,896],[850,896],[850,896],[850,896],[850,896],[850,896],[850,896],[850,896],[850,896],[850,896],[850,896],[850,896],[850,896],[850,896],[850,896],[850,896],[850,896],[850,896],[850,896],[850,896],[850,896],[850,896],[850,896],[850,896],[850,896],[850,896],[850,896],[850,896],[850,896],[850,896],[850,896],[850,896],[850,896],[850,896],[850,896],[850,896],[850,896],[850,896],[850,896],[850,896],[850,896],[850,896],[850,896],[850,896],[850,896],[850,896],[850,896],[850,896],[850,896],[850,896],[850,896],[850,896],[850,896],[850,896],[850,896],[850,896],[850,896],[850,896],[850,896],[850,896],[850,896],[850,896],[850,896],[850,896],[850,896],[850,896],[850,896],[850,896],[850,896],[850,896],[150,169],[150,169],[150,169],[150,169],[150,169],[150,169],[150,169],[150,169],[150,169],[150,169],[150,169],[150,169],[150,169],[150,169],[150,169],[150,169],[150,169],[150,169],[150,169],[150,169],[150,169],[150,169],[250,274],[250,274],[250,274],[250,274],[250,274],[250,274],[250,274],[250,274],[250,274],[250,274],[250,274],[250,274],[250,274],[250,274],[250,274],[250,274],[250,274],[250,274],[250,274],[250,274],[250,274],[250,274],[250,274],[250,274],[250,274],[250,274],[250,274],[250,274],[250,274],[250,274],[250,274],[250,274],[250,274],[250,274],[250,274],[250,274],[250,274],[250,274],[250,274],[250,274],[250,274],[250,274],[250,274],[250,274],[250,274],[250,274],[250,274],[250,274],[250,274],[550,588],[550,588],[550,588],[550,588],[550,588],[550,588],[550,588],[550,588],[450,486],[450,486],[450,486],[450,486],[450,486],[450,486],[450,486],[450,486],[450,486],[50,65],[50,65],[50,65],[50,65],[50,65],[50,65],[50,65],[650,691],[650,691],[650,691],[650,691],[650,691],[650,691],[350,376],[350,376],[350,376],[350,376],[350,376],[350,376],[350,376],[350,376],[350,376],[350,376],[350,376],[350,376],[350,376],[350,376],[350,376],[350,376],[350,376],[350,376],[350,376],[350,376],[350,376],[350,376],[350,376],[350,376],[350,376],[350,376],[350,376],[350,376],[350,376],[350,376],[350,376],[350,376],[350,376],[350,376],[350,376],[350,376],[350,376],[350,376],[350,376],[350,376],[350,376],[350,376],[350,376],[350,376],[350,376],[350,376],[350,376],[350,376],[350,376],[350,376],[350,376],[350,376],[350,376],[350,376],[350,376],[350,376],[350,376],[350,376],[350,376],[350,376],[350,376],[350,376],[350,376],[350,376],[350,376],[350,376],[350,376],[350,376],[350,376],[350,376],[450,484],[450,484],[450,484],[450,484],[450,484],[450,484],[450,484],[450,484],[450,484],[450,484],[450,484],[450,484],[450,484],[450,484],[450,484],[450,484],[450,484],[450,484],[450,484],[450,484],[450,484],[450,484],[450,484],[450,484],[450,484],[450,484],[450,484],[450,484],[650,690],[650,690],[650,690],[650,690],[650,690],[650,690],[650,690],[650,690],[650,690],[550,587],[550,587],[550,587],[550,587],[550,587],[450,476],[450,476],[450,476],[450,476],[450,476],[450,476],[450,476],[450,476],[450,476],[450,476],[450,476],[450,476],[450,476],[450,476],[450,476],[450,476],[450,476],[450,476],[450,476],[450,476],[450,476],[450,476],[450,476],[450,476],[450,476],[450,476],[450,476],[450,476],[450,476],[450,476],[450,476],[450,476],[450,476],[450,476],[450,476],[450,476],[450,476],[450,476],[450,476],[450,476],[450,476],[450,476],[450,476],[450,476],[450,476],[450,476],[450,476],[450,476],[450,476],[450,476],[450,476],[450,476],[450,476],[450,476],[450,476],[150,168],[150,168],[150,168],[150,168],[250,271],[250,271],[250,271],[250,271],[250,271],[250,271],[250,271],[250,271],[250,271],[250,271],[250,271],[250,271],[250,271],[250,271],[250,271],[250,271],[250,271],[250,271],[250,271],[250,271],[250,271],[250,271],[250,271],[250,271],[250,271],[250,271],[850,894],[850,894],[850,894],[850,894],[750,794],[750,794],[750,794],[750,794],[750,794],[750,794],[750,794],[150,169],[150,169],[150,169],[150,169],[250,272],[250,272],[250,272],[250,272],[250,272],[250,272],[250,272],[250,272],[250,272],[250,272],[250,272],[250,272],[250,272],[250,272],[250,272],[250,272],[250,272],[250,272],[250,272],[250,272],[250,272],[250,272],[250,272],[250,272],[650,692],[650,692],[650,692],[650,692],[650,692],[650,692],[750,794],[750,794],[750,794],[750,794],[750,794],[850,895],[850,895],[850,895],[850,895],[850,895],[850,895],[850,895],[850,895],[850,895],[850,895],[850,895],[850,895],[850,895],[850,895],[850,895],[850,895],[850,895],[850,895],[850,895],[850,895],[850,895],[850,895],[850,895],[850,895]]}},\"id\":\"8ee9c923-df79-47a0-a048-5697e457659d\",\"type\":\"ColumnDataSource\"},{\"attributes\":{},\"id\":\"9b516381-9e6e-4619-8264-f190b672dfc8\",\"type\":\"BasicTicker\"},{\"attributes\":{\"line_color\":{\"field\":\"line_color\"},\"xs\":{\"field\":\"xs\"},\"ys\":{\"field\":\"ys\"}},\"id\":\"df6cc743-e4ed-42fb-bf8b-bee89f501558\",\"type\":\"MultiLine\"},{\"attributes\":{\"bottom\":{\"field\":\"bottom\"},\"fill_color\":{\"value\":\"white\"},\"left\":{\"field\":\"left\"},\"right\":{\"field\":\"right\"},\"top\":{\"field\":\"top\"}},\"id\":\"23a550a4-27c0-4461-9c95-87780e39b416\",\"type\":\"Quad\"},{\"attributes\":{\"callback\":null,\"column_names\":[\"y\",\"x\",\"vals\"],\"data\":{\"vals\":[\"RAB3GAP1\",\"ZRANB3\",\"R3HDM1\",\"UBXN4\",\"LCT\",\"MCM6\",\"DARS\"],\"x\":[135869057.0,136122878.0,136385961.0,136520911.0,136570082.5,136615621.5,136703738.0],\"y\":[1060.0,1060.0,1060.0,1060.0,1060.0,1060.0,1060.0]}},\"id\":\"ed9169b8-de1c-40fb-afa9-599a89539a04\",\"type\":\"ColumnDataSource\"},{\"attributes\":{\"bottom\":{\"field\":\"bottom\"},\"fill_alpha\":{\"value\":0.1},\"fill_color\":{\"value\":\"#1f77b4\"},\"left\":{\"field\":\"left\"},\"line_alpha\":{\"value\":0.1},\"line_color\":{\"value\":\"#1f77b4\"},\"right\":{\"field\":\"right\"},\"top\":{\"field\":\"top\"}},\"id\":\"c386471f-a475-493d-b485-2b14c223ab34\",\"type\":\"Quad\"},{\"attributes\":{\"formatter\":{\"id\":\"7888600c-cd2f-4994-b4e3-eaa9c1f73288\",\"type\":\"BasicTickFormatter\"},\"plot\":{\"id\":\"33a5abdf-ff7d-4f7e-8655-1d9e82c8cecf\",\"subtype\":\"Figure\",\"type\":\"Plot\"},\"ticker\":{\"id\":\"d64326a0-eb8b-4fb5-849d-92f6f89abe62\",\"type\":\"BasicTicker\"}},\"id\":\"e32f3689-e5e2-4494-9f4b-052d96df932c\",\"type\":\"LinearAxis\"},{\"attributes\":{\"plot\":{\"id\":\"33a5abdf-ff7d-4f7e-8655-1d9e82c8cecf\",\"subtype\":\"Figure\",\"type\":\"Plot\"}},\"id\":\"d7c9235b-ad9a-47b5-b403-688746a6bdb0\",\"type\":\"PanTool\"},{\"attributes\":{\"line_alpha\":{\"value\":0.1},\"line_color\":{\"value\":\"#1f77b4\"},\"xs\":{\"field\":\"xs\"},\"ys\":{\"field\":\"ys\"}},\"id\":\"97c602a5-1588-48f5-93dc-e3cf3c43c244\",\"type\":\"MultiLine\"},{\"attributes\":{\"level\":\"glyph\",\"plot\":{\"id\":\"33a5abdf-ff7d-4f7e-8655-1d9e82c8cecf\",\"subtype\":\"Figure\",\"type\":\"Plot\"},\"source\":{\"id\":\"a788fc1b-54fb-4370-bae9-e6708933fe74\",\"type\":\"ColumnDataSource\"},\"text\":{\"field\":\"vals\"},\"text_font_size\":{\"value\":\"9pt\"},\"text_font_style\":\"bold\",\"x\":{\"field\":\"x\"},\"y\":{\"field\":\"y\"}},\"id\":\"00f77201-10f4-463c-b4f3-4d657b181739\",\"type\":\"LabelSet\"},{\"attributes\":{\"callback\":null,\"column_names\":[\"y\",\"x\",\"vals\"],\"data\":{\"vals\":[\"13_1696\",\"117_1685\",\"22_73\",\"49_136\",\"8_718\",\"9_545\",\"7_49\",\"6_946\",\"70_166\",\"28_434\",\"9_887\",\"5_588\",\"55_180\",\"4_67\",\"26_96\",\"4_1442\",\"7_1303\",\"4_80\",\"24_113\",\"6_1114\",\"5_1296\",\"24_1504\"],\"x\":[135757320,135758231,135761470,135780924,135784351,135810535,135837488,135964764,136008173,136115507,136309239,136364916,136392700,136403061,136499188,136506375,136535876,136589701,136651969,136652491,136652953,136653925],\"y\":[1001.0,901.0,174.0,279.0,593.0,491.0,70.0,696.0,381.0,489.0,695.0,592.0,481.0,173.0,276.0,899.0,799.0,174.0,277.0,697.0,799.0,900.0]}},\"id\":\"a788fc1b-54fb-4370-bae9-e6708933fe74\",\"type\":\"ColumnDataSource\"},{\"attributes\":{\"plot\":{\"id\":\"33a5abdf-ff7d-4f7e-8655-1d9e82c8cecf\",\"subtype\":\"Figure\",\"type\":\"Plot\"},\"ticker\":{\"id\":\"d64326a0-eb8b-4fb5-849d-92f6f89abe62\",\"type\":\"BasicTicker\"}},\"id\":\"650de757-8c25-4dab-b1fb-3bf607b5bf0f\",\"type\":\"Grid\"},{\"attributes\":{\"bottom\":{\"field\":\"bottom\"},\"fill_color\":{\"field\":\"fill_color\"},\"left\":{\"field\":\"left\"},\"line_color\":{\"value\":null},\"right\":{\"field\":\"right\"},\"top\":{\"field\":\"top\"}},\"id\":\"831b979c-1665-487c-acb2-63dca9353673\",\"type\":\"Quad\"},{\"attributes\":{\"data_source\":{\"id\":\"8ee9c923-df79-47a0-a048-5697e457659d\",\"type\":\"ColumnDataSource\"},\"glyph\":{\"id\":\"df6cc743-e4ed-42fb-bf8b-bee89f501558\",\"type\":\"MultiLine\"},\"hover_glyph\":null,\"nonselection_glyph\":{\"id\":\"97c602a5-1588-48f5-93dc-e3cf3c43c244\",\"type\":\"MultiLine\"},\"selection_glyph\":null},\"id\":\"b5e3ba00-5a24-4b54-82b3-79d27238841b\",\"type\":\"GlyphRenderer\"},{\"attributes\":{\"below\":[{\"id\":\"e32f3689-e5e2-4494-9f4b-052d96df932c\",\"type\":\"LinearAxis\"}],\"left\":[{\"id\":\"61a7e26f-c4c4-4901-b0b5-58ac9fa71fe2\",\"type\":\"LinearAxis\"}],\"plot_height\":1100,\"plot_width\":900,\"renderers\":[{\"id\":\"e32f3689-e5e2-4494-9f4b-052d96df932c\",\"type\":\"LinearAxis\"},{\"id\":\"650de757-8c25-4dab-b1fb-3bf607b5bf0f\",\"type\":\"Grid\"},{\"id\":\"61a7e26f-c4c4-4901-b0b5-58ac9fa71fe2\",\"type\":\"LinearAxis\"},{\"id\":\"7d05b82c-8c39-42f5-8d72-1824cbb9da04\",\"type\":\"Grid\"},{\"id\":\"7c3420d4-4e96-4baa-b6cf-4a73d5666c3c\",\"type\":\"BoxAnnotation\"},{\"id\":\"f49c384e-cc2b-4e47-b7a5-e7aed187b777\",\"type\":\"GlyphRenderer\"},{\"id\":\"b5e3ba00-5a24-4b54-82b3-79d27238841b\",\"type\":\"GlyphRenderer\"},{\"id\":\"00f77201-10f4-463c-b4f3-4d657b181739\",\"type\":\"LabelSet\"},{\"id\":\"e9ad6d08-a51a-486a-9579-aea64335314c\",\"type\":\"GlyphRenderer\"},{\"id\":\"676c6857-6ee0-4fdc-ac5a-b0c753771ad6\",\"type\":\"LabelSet\"}],\"title\":{\"id\":\"17cdcc8d-8512-4f94-bd33-100523b63622\",\"type\":\"Title\"},\"tool_events\":{\"id\":\"63cc1a62-c8a4-4a55-bf1c-76d9e89e4ae2\",\"type\":\"ToolEvents\"},\"toolbar\":{\"id\":\"266fdd30-1b28-4878-a19d-77b9f97d17c6\",\"type\":\"Toolbar\"},\"toolbar_location\":null,\"x_range\":{\"id\":\"f7e7c75a-451e-467a-ac8f-2a74689cdff8\",\"type\":\"Range1d\"},\"y_range\":{\"id\":\"4e19fea6-b7cd-433d-a21a-298c4812a91e\",\"type\":\"Range1d\"}},\"id\":\"33a5abdf-ff7d-4f7e-8655-1d9e82c8cecf\",\"subtype\":\"Figure\",\"type\":\"Plot\"}],\"root_ids\":[\"33a5abdf-ff7d-4f7e-8655-1d9e82c8cecf\"]},\"title\":\"Bokeh Application\",\"version\":\"0.12.0\"}};\n",
       "            var render_items = [{\"docid\":\"437017f8-7941-4504-a27b-79425e6e01f0\",\"elementid\":\"0107b1b7-12a5-4f45-bbc7-f8ec3cd83153\",\"modelid\":\"33a5abdf-ff7d-4f7e-8655-1d9e82c8cecf\",\"notebook_comms_target\":\"5f948793-9be4-44f0-bb4b-435b77009179\"}];\n",
       "            \n",
       "            Bokeh.embed.embed_items(docs_json, render_items);\n",
       "        });\n",
       "      },\n",
       "      function(Bokeh) {\n",
       "      }\n",
       "    ];\n",
       "  \n",
       "    function run_inline_js() {\n",
       "      for (var i = 0; i < inline_js.length; i++) {\n",
       "        inline_js[i](window.Bokeh);\n",
       "      }\n",
       "    }\n",
       "  \n",
       "    if (window._bokeh_is_loading === 0) {\n",
       "      console.log(\"Bokeh: BokehJS loaded, going straight to plotting\");\n",
       "      run_inline_js();\n",
       "    } else {\n",
       "      load_libs(js_urls, function() {\n",
       "        console.log(\"Bokeh: BokehJS plotting callback run at\", now());\n",
       "        run_inline_js();\n",
       "      });\n",
       "    }\n",
       "  }(this));\n",
       "</script>"
      ]
     },
     "metadata": {},
     "output_type": "display_data"
    },
    {
     "data": {
      "text/html": [
       "<p><code>&lt;Bokeh Notebook handle for <strong>In[23]</strong>&gt;</code></p>"
      ],
      "text/plain": [
       "<bokeh.io._CommsHandle at 0x7f3f60239910>"
      ]
     },
     "execution_count": 23,
     "metadata": {},
     "output_type": "execute_result"
    }
   ],
   "source": [
    "plt_obj = dm.superset_allele_mask(am_2_93, min_match=0.5)\n",
    "plt = plt_obj.do_plot()\n",
    "show(plt)"
   ]
  },
  {
   "cell_type": "code",
   "execution_count": 24,
   "metadata": {
    "collapsed": false
   },
   "outputs": [
    {
     "data": {
      "text/html": [
       "<table>\n",
       "<thead><tr><th style=\"text-align:center\">index</th><th style=\"text-align:center\">first</th><th style=\"text-align:center\">length</th><th style=\"text-align:center\">snps</th><th style=\"text-align:center\" colspan=2>alleles</th><th style=\"text-align:center\" colspan=2>matches</th><th style=\"text-align:center\" colspan=2>afr</th><th style=\"text-align:center\" colspan=2>afx</th><th style=\"text-align:center\" colspan=2>amr</th><th style=\"text-align:center\" colspan=2>eas</th><th style=\"text-align:center\" colspan=2>eur</th><th style=\"text-align:center\" colspan=2>sas</th><th style=\"text-align:center\" colspan=2>sax</th></tr></thead>\n",
       "<tr class=\"even\"><td style=\"text-align: right;\">353240</td><td style=\"text-align: right;\">135,757,320</td><td style=\"text-align: right;\">20,184</td><td style=\"text-align: right;\">13</td><td style=\"text-align: right;\">1696</td><td style=\"text-align: right;\">0.04</td><td style=\"text-align: right;\">74</td><td style=\"text-align: right;\">0.99</td><td style=\"text-align: right;\">47</td><td style=\"text-align: right;\">3.16</td><td style=\"text-align: right;\">26</td><td style=\"text-align: right;\">5.60</td><td style=\"text-align: right;\">1</td><td style=\"text-align: right;\">0.10</td><td style=\"text-align: right;\">0</td><td style=\"text-align: right;\">0.00</td><td style=\"text-align: right;\">0</td><td style=\"text-align: right;\">0.00</td><td style=\"text-align: right;\">0</td><td style=\"text-align: right;\">0.00</td><td style=\"text-align: right;\">0</td><td style=\"text-align: right;\">0.00</td></tr>\n",
       "<tr><td style=\"text-align: right;\">353244</td><td style=\"text-align: right;\">135,758,231</td><td style=\"text-align: right;\">618,284</td><td style=\"text-align: right;\">117</td><td style=\"text-align: right;\">1685</td><td style=\"text-align: right;\">0.04</td><td style=\"text-align: right;\">75</td><td style=\"text-align: right;\">1.00</td><td style=\"text-align: right;\">47</td><td style=\"text-align: right;\">3.11</td><td style=\"text-align: right;\">27</td><td style=\"text-align: right;\">5.74</td><td style=\"text-align: right;\">1</td><td style=\"text-align: right;\">0.10</td><td style=\"text-align: right;\">0</td><td style=\"text-align: right;\">0.00</td><td style=\"text-align: right;\">0</td><td style=\"text-align: right;\">0.00</td><td style=\"text-align: right;\">0</td><td style=\"text-align: right;\">0.00</td><td style=\"text-align: right;\">0</td><td style=\"text-align: right;\">0.00</td></tr>\n",
       "<tr class=\"even\"><td style=\"text-align: right;\">354130</td><td style=\"text-align: right;\">136,653,925</td><td style=\"text-align: right;\">107,928</td><td style=\"text-align: right;\">24</td><td style=\"text-align: right;\">1504</td><td style=\"text-align: right;\">0.04</td><td style=\"text-align: right;\">65</td><td style=\"text-align: right;\">0.87</td><td style=\"text-align: right;\">41</td><td style=\"text-align: right;\">3.13</td><td style=\"text-align: right;\">23</td><td style=\"text-align: right;\">5.64</td><td style=\"text-align: right;\">1</td><td style=\"text-align: right;\">0.11</td><td style=\"text-align: right;\">0</td><td style=\"text-align: right;\">0.00</td><td style=\"text-align: right;\">0</td><td style=\"text-align: right;\">0.00</td><td style=\"text-align: right;\">0</td><td style=\"text-align: right;\">0.00</td><td style=\"text-align: right;\">0</td><td style=\"text-align: right;\">0.00</td></tr>\n",
       "<tr><td style=\"text-align: right;\">353925</td><td style=\"text-align: right;\">136,506,375</td><td style=\"text-align: right;\">32,564</td><td style=\"text-align: right;\">4</td><td style=\"text-align: right;\">1442</td><td style=\"text-align: right;\">0.05</td><td style=\"text-align: right;\">67</td><td style=\"text-align: right;\">0.89</td><td style=\"text-align: right;\">42</td><td style=\"text-align: right;\">3.11</td><td style=\"text-align: right;\">24</td><td style=\"text-align: right;\">5.71</td><td style=\"text-align: right;\">1</td><td style=\"text-align: right;\">0.11</td><td style=\"text-align: right;\">0</td><td style=\"text-align: right;\">0.00</td><td style=\"text-align: right;\">0</td><td style=\"text-align: right;\">0.00</td><td style=\"text-align: right;\">0</td><td style=\"text-align: right;\">0.00</td><td style=\"text-align: right;\">0</td><td style=\"text-align: right;\">0.00</td></tr>\n",
       "<tr class=\"even\"><td style=\"text-align: right;\">353958</td><td style=\"text-align: right;\">136,535,876</td><td style=\"text-align: right;\">19,014</td><td style=\"text-align: right;\">7</td><td style=\"text-align: right;\">1303</td><td style=\"text-align: right;\">0.05</td><td style=\"text-align: right;\">67</td><td style=\"text-align: right;\">0.89</td><td style=\"text-align: right;\">42</td><td style=\"text-align: right;\">3.11</td><td style=\"text-align: right;\">24</td><td style=\"text-align: right;\">5.71</td><td style=\"text-align: right;\">1</td><td style=\"text-align: right;\">0.11</td><td style=\"text-align: right;\">0</td><td style=\"text-align: right;\">0.00</td><td style=\"text-align: right;\">0</td><td style=\"text-align: right;\">0.00</td><td style=\"text-align: right;\">0</td><td style=\"text-align: right;\">0.00</td><td style=\"text-align: right;\">0</td><td style=\"text-align: right;\">0.00</td></tr>\n",
       "<tr><td style=\"text-align: right;\">354129</td><td style=\"text-align: right;\">136,652,953</td><td style=\"text-align: right;\">108,222</td><td style=\"text-align: right;\">5</td><td style=\"text-align: right;\">1296</td><td style=\"text-align: right;\">0.05</td><td style=\"text-align: right;\">65</td><td style=\"text-align: right;\">0.87</td><td style=\"text-align: right;\">41</td><td style=\"text-align: right;\">3.13</td><td style=\"text-align: right;\">23</td><td style=\"text-align: right;\">5.64</td><td style=\"text-align: right;\">1</td><td style=\"text-align: right;\">0.11</td><td style=\"text-align: right;\">0</td><td style=\"text-align: right;\">0.00</td><td style=\"text-align: right;\">0</td><td style=\"text-align: right;\">0.00</td><td style=\"text-align: right;\">0</td><td style=\"text-align: right;\">0.00</td><td style=\"text-align: right;\">0</td><td style=\"text-align: right;\">0.00</td></tr>\n",
       "<tr class=\"even\"><td style=\"text-align: right;\">354127</td><td style=\"text-align: right;\">136,652,491</td><td style=\"text-align: right;\">80,281</td><td style=\"text-align: right;\">6</td><td style=\"text-align: right;\">1114</td><td style=\"text-align: right;\">0.06</td><td style=\"text-align: right;\">65</td><td style=\"text-align: right;\">0.87</td><td style=\"text-align: right;\">41</td><td style=\"text-align: right;\">3.13</td><td style=\"text-align: right;\">23</td><td style=\"text-align: right;\">5.64</td><td style=\"text-align: right;\">1</td><td style=\"text-align: right;\">0.11</td><td style=\"text-align: right;\">0</td><td style=\"text-align: right;\">0.00</td><td style=\"text-align: right;\">0</td><td style=\"text-align: right;\">0.00</td><td style=\"text-align: right;\">0</td><td style=\"text-align: right;\">0.00</td><td style=\"text-align: right;\">0</td><td style=\"text-align: right;\">0.00</td></tr>\n",
       "<tr><td style=\"text-align: right;\">353504</td><td style=\"text-align: right;\">135,964,764</td><td style=\"text-align: right;\">136,368</td><td style=\"text-align: right;\">6</td><td style=\"text-align: right;\">946</td><td style=\"text-align: right;\">0.07</td><td style=\"text-align: right;\">62</td><td style=\"text-align: right;\">0.83</td><td style=\"text-align: right;\">37</td><td style=\"text-align: right;\">2.96</td><td style=\"text-align: right;\">24</td><td style=\"text-align: right;\">6.17</td><td style=\"text-align: right;\">1</td><td style=\"text-align: right;\">0.12</td><td style=\"text-align: right;\">0</td><td style=\"text-align: right;\">0.00</td><td style=\"text-align: right;\">0</td><td style=\"text-align: right;\">0.00</td><td style=\"text-align: right;\">0</td><td style=\"text-align: right;\">0.00</td><td style=\"text-align: right;\">0</td><td style=\"text-align: right;\">0.00</td></tr>\n",
       "<tr class=\"even\"><td style=\"text-align: right;\">353729</td><td style=\"text-align: right;\">136,309,239</td><td style=\"text-align: right;\">52,321</td><td style=\"text-align: right;\">9</td><td style=\"text-align: right;\">887</td><td style=\"text-align: right;\">0.08</td><td style=\"text-align: right;\">75</td><td style=\"text-align: right;\">1.00</td><td style=\"text-align: right;\">47</td><td style=\"text-align: right;\">3.11</td><td style=\"text-align: right;\">27</td><td style=\"text-align: right;\">5.74</td><td style=\"text-align: right;\">1</td><td style=\"text-align: right;\">0.10</td><td style=\"text-align: right;\">0</td><td style=\"text-align: right;\">0.00</td><td style=\"text-align: right;\">0</td><td style=\"text-align: right;\">0.00</td><td style=\"text-align: right;\">0</td><td style=\"text-align: right;\">0.00</td><td style=\"text-align: right;\">0</td><td style=\"text-align: right;\">0.00</td></tr>\n",
       "<tr><td style=\"text-align: right;\">353312</td><td style=\"text-align: right;\">135,784,351</td><td style=\"text-align: right;\">117,869</td><td style=\"text-align: right;\">8</td><td style=\"text-align: right;\">718</td><td style=\"text-align: right;\">0.10</td><td style=\"text-align: right;\">75</td><td style=\"text-align: right;\">1.00</td><td style=\"text-align: right;\">47</td><td style=\"text-align: right;\">3.11</td><td style=\"text-align: right;\">27</td><td style=\"text-align: right;\">5.74</td><td style=\"text-align: right;\">1</td><td style=\"text-align: right;\">0.10</td><td style=\"text-align: right;\">0</td><td style=\"text-align: right;\">0.00</td><td style=\"text-align: right;\">0</td><td style=\"text-align: right;\">0.00</td><td style=\"text-align: right;\">0</td><td style=\"text-align: right;\">0.00</td><td style=\"text-align: right;\">0</td><td style=\"text-align: right;\">0.00</td></tr>\n",
       "<tr class=\"even\"><td style=\"text-align: right;\">353764</td><td style=\"text-align: right;\">136,364,916</td><td style=\"text-align: right;\">22,977</td><td style=\"text-align: right;\">5</td><td style=\"text-align: right;\">588</td><td style=\"text-align: right;\">0.12</td><td style=\"text-align: right;\">72</td><td style=\"text-align: right;\">0.96</td><td style=\"text-align: right;\">45</td><td style=\"text-align: right;\">3.11</td><td style=\"text-align: right;\">26</td><td style=\"text-align: right;\">5.76</td><td style=\"text-align: right;\">1</td><td style=\"text-align: right;\">0.10</td><td style=\"text-align: right;\">0</td><td style=\"text-align: right;\">0.00</td><td style=\"text-align: right;\">0</td><td style=\"text-align: right;\">0.00</td><td style=\"text-align: right;\">0</td><td style=\"text-align: right;\">0.00</td><td style=\"text-align: right;\">0</td><td style=\"text-align: right;\">0.00</td></tr>\n",
       "<tr><td style=\"text-align: right;\">353349</td><td style=\"text-align: right;\">135,810,535</td><td style=\"text-align: right;\">87,488</td><td style=\"text-align: right;\">9</td><td style=\"text-align: right;\">545</td><td style=\"text-align: right;\">0.14</td><td style=\"text-align: right;\">75</td><td style=\"text-align: right;\">1.00</td><td style=\"text-align: right;\">47</td><td style=\"text-align: right;\">3.11</td><td style=\"text-align: right;\">27</td><td style=\"text-align: right;\">5.74</td><td style=\"text-align: right;\">1</td><td style=\"text-align: right;\">0.10</td><td style=\"text-align: right;\">0</td><td style=\"text-align: right;\">0.00</td><td style=\"text-align: right;\">0</td><td style=\"text-align: right;\">0.00</td><td style=\"text-align: right;\">0</td><td style=\"text-align: right;\">0.00</td><td style=\"text-align: right;\">0</td><td style=\"text-align: right;\">0.00</td></tr>\n",
       "<tr class=\"even\"><td style=\"text-align: right;\">353614</td><td style=\"text-align: right;\">136,115,507</td><td style=\"text-align: right;\">269,773</td><td style=\"text-align: right;\">28</td><td style=\"text-align: right;\">434</td><td style=\"text-align: right;\">0.17</td><td style=\"text-align: right;\">75</td><td style=\"text-align: right;\">1.00</td><td style=\"text-align: right;\">47</td><td style=\"text-align: right;\">3.11</td><td style=\"text-align: right;\">27</td><td style=\"text-align: right;\">5.74</td><td style=\"text-align: right;\">1</td><td style=\"text-align: right;\">0.10</td><td style=\"text-align: right;\">0</td><td style=\"text-align: right;\">0.00</td><td style=\"text-align: right;\">0</td><td style=\"text-align: right;\">0.00</td><td style=\"text-align: right;\">0</td><td style=\"text-align: right;\">0.00</td><td style=\"text-align: right;\">0</td><td style=\"text-align: right;\">0.00</td></tr>\n",
       "<tr><td style=\"text-align: right;\">353788</td><td style=\"text-align: right;\">136,392,700</td><td style=\"text-align: right;\">158,106</td><td style=\"text-align: right;\">55</td><td style=\"text-align: right;\">180</td><td style=\"text-align: right;\">0.35</td><td style=\"text-align: right;\">63</td><td style=\"text-align: right;\">0.84</td><td style=\"text-align: right;\">38</td><td style=\"text-align: right;\">3.00</td><td style=\"text-align: right;\">24</td><td style=\"text-align: right;\">6.08</td><td style=\"text-align: right;\">1</td><td style=\"text-align: right;\">0.11</td><td style=\"text-align: right;\">0</td><td style=\"text-align: right;\">0.00</td><td style=\"text-align: right;\">0</td><td style=\"text-align: right;\">0.00</td><td style=\"text-align: right;\">0</td><td style=\"text-align: right;\">0.00</td><td style=\"text-align: right;\">0</td><td style=\"text-align: right;\">0.00</td></tr>\n",
       "<tr class=\"even\"><td style=\"text-align: right;\">353538</td><td style=\"text-align: right;\">136,008,173</td><td style=\"text-align: right;\">373,078</td><td style=\"text-align: right;\">70</td><td style=\"text-align: right;\">166</td><td style=\"text-align: right;\">0.45</td><td style=\"text-align: right;\">75</td><td style=\"text-align: right;\">1.00</td><td style=\"text-align: right;\">47</td><td style=\"text-align: right;\">3.11</td><td style=\"text-align: right;\">27</td><td style=\"text-align: right;\">5.74</td><td style=\"text-align: right;\">1</td><td style=\"text-align: right;\">0.10</td><td style=\"text-align: right;\">0</td><td style=\"text-align: right;\">0.00</td><td style=\"text-align: right;\">0</td><td style=\"text-align: right;\">0.00</td><td style=\"text-align: right;\">0</td><td style=\"text-align: right;\">0.00</td><td style=\"text-align: right;\">0</td><td style=\"text-align: right;\">0.00</td></tr>\n",
       "<tr><td style=\"text-align: right;\">353304</td><td style=\"text-align: right;\">135,780,924</td><td style=\"text-align: right;\">236,215</td><td style=\"text-align: right;\">49</td><td style=\"text-align: right;\">136</td><td style=\"text-align: right;\">0.55</td><td style=\"text-align: right;\">75</td><td style=\"text-align: right;\">1.00</td><td style=\"text-align: right;\">47</td><td style=\"text-align: right;\">3.11</td><td style=\"text-align: right;\">27</td><td style=\"text-align: right;\">5.74</td><td style=\"text-align: right;\">1</td><td style=\"text-align: right;\">0.10</td><td style=\"text-align: right;\">0</td><td style=\"text-align: right;\">0.00</td><td style=\"text-align: right;\">0</td><td style=\"text-align: right;\">0.00</td><td style=\"text-align: right;\">0</td><td style=\"text-align: right;\">0.00</td><td style=\"text-align: right;\">0</td><td style=\"text-align: right;\">0.00</td></tr>\n",
       "<tr class=\"even\"><td style=\"text-align: right;\">354125</td><td style=\"text-align: right;\">136,651,969</td><td style=\"text-align: right;\">124,016</td><td style=\"text-align: right;\">24</td><td style=\"text-align: right;\">113</td><td style=\"text-align: right;\">0.55</td><td style=\"text-align: right;\">62</td><td style=\"text-align: right;\">0.83</td><td style=\"text-align: right;\">38</td><td style=\"text-align: right;\">3.05</td><td style=\"text-align: right;\">23</td><td style=\"text-align: right;\">5.92</td><td style=\"text-align: right;\">1</td><td style=\"text-align: right;\">0.12</td><td style=\"text-align: right;\">0</td><td style=\"text-align: right;\">0.00</td><td style=\"text-align: right;\">0</td><td style=\"text-align: right;\">0.00</td><td style=\"text-align: right;\">0</td><td style=\"text-align: right;\">0.00</td><td style=\"text-align: right;\">0</td><td style=\"text-align: right;\">0.00</td></tr>\n",
       "<tr><td style=\"text-align: right;\">353915</td><td style=\"text-align: right;\">136,499,188</td><td style=\"text-align: right;\">132,236</td><td style=\"text-align: right;\">26</td><td style=\"text-align: right;\">96</td><td style=\"text-align: right;\">0.64</td><td style=\"text-align: right;\">61</td><td style=\"text-align: right;\">0.81</td><td style=\"text-align: right;\">37</td><td style=\"text-align: right;\">3.01</td><td style=\"text-align: right;\">23</td><td style=\"text-align: right;\">6.01</td><td style=\"text-align: right;\">1</td><td style=\"text-align: right;\">0.12</td><td style=\"text-align: right;\">0</td><td style=\"text-align: right;\">0.00</td><td style=\"text-align: right;\">0</td><td style=\"text-align: right;\">0.00</td><td style=\"text-align: right;\">0</td><td style=\"text-align: right;\">0.00</td><td style=\"text-align: right;\">0</td><td style=\"text-align: right;\">0.00</td></tr>\n",
       "<tr class=\"even\"><td style=\"text-align: right;\">354037</td><td style=\"text-align: right;\">136,589,701</td><td style=\"text-align: right;\">51,567</td><td style=\"text-align: right;\">4</td><td style=\"text-align: right;\">80</td><td style=\"text-align: right;\">0.76</td><td style=\"text-align: right;\">61</td><td style=\"text-align: right;\">0.81</td><td style=\"text-align: right;\">36</td><td style=\"text-align: right;\">2.93</td><td style=\"text-align: right;\">24</td><td style=\"text-align: right;\">6.28</td><td style=\"text-align: right;\">1</td><td style=\"text-align: right;\">0.12</td><td style=\"text-align: right;\">0</td><td style=\"text-align: right;\">0.00</td><td style=\"text-align: right;\">0</td><td style=\"text-align: right;\">0.00</td><td style=\"text-align: right;\">0</td><td style=\"text-align: right;\">0.00</td><td style=\"text-align: right;\">0</td><td style=\"text-align: right;\">0.00</td></tr>\n",
       "<tr><td style=\"text-align: right;\">353259</td><td style=\"text-align: right;\">135,761,470</td><td style=\"text-align: right;\">609,610</td><td style=\"text-align: right;\">22</td><td style=\"text-align: right;\">73</td><td style=\"text-align: right;\">1.00</td><td style=\"text-align: right;\">73</td><td style=\"text-align: right;\">0.97</td><td style=\"text-align: right;\">46</td><td style=\"text-align: right;\">3.13</td><td style=\"text-align: right;\">26</td><td style=\"text-align: right;\">5.68</td><td style=\"text-align: right;\">1</td><td style=\"text-align: right;\">0.10</td><td style=\"text-align: right;\">0</td><td style=\"text-align: right;\">0.00</td><td style=\"text-align: right;\">0</td><td style=\"text-align: right;\">0.00</td><td style=\"text-align: right;\">0</td><td style=\"text-align: right;\">0.00</td><td style=\"text-align: right;\">0</td><td style=\"text-align: right;\">0.00</td></tr>\n",
       "<tr class=\"even\"><td style=\"text-align: right;\">353806</td><td style=\"text-align: right;\">136,403,061</td><td style=\"text-align: right;\">84,783</td><td style=\"text-align: right;\">4</td><td style=\"text-align: right;\">67</td><td style=\"text-align: right;\">0.97</td><td style=\"text-align: right;\">65</td><td style=\"text-align: right;\">0.87</td><td style=\"text-align: right;\">40</td><td style=\"text-align: right;\">3.06</td><td style=\"text-align: right;\">24</td><td style=\"text-align: right;\">5.89</td><td style=\"text-align: right;\">1</td><td style=\"text-align: right;\">0.11</td><td style=\"text-align: right;\">0</td><td style=\"text-align: right;\">0.00</td><td style=\"text-align: right;\">0</td><td style=\"text-align: right;\">0.00</td><td style=\"text-align: right;\">0</td><td style=\"text-align: right;\">0.00</td><td style=\"text-align: right;\">0</td><td style=\"text-align: right;\">0.00</td></tr>\n",
       "<tr><td style=\"text-align: right;\">353379</td><td style=\"text-align: right;\">135,837,488</td><td style=\"text-align: right;\">509,187</td><td style=\"text-align: right;\">7</td><td style=\"text-align: right;\">49</td><td style=\"text-align: right;\">1.00</td><td style=\"text-align: right;\">49</td><td style=\"text-align: right;\">0.65</td><td style=\"text-align: right;\">31</td><td style=\"text-align: right;\">3.14</td><td style=\"text-align: right;\">17</td><td style=\"text-align: right;\">5.53</td><td style=\"text-align: right;\">1</td><td style=\"text-align: right;\">0.15</td><td style=\"text-align: right;\">0</td><td style=\"text-align: right;\">0.00</td><td style=\"text-align: right;\">0</td><td style=\"text-align: right;\">0.00</td><td style=\"text-align: right;\">0</td><td style=\"text-align: right;\">0.00</td><td style=\"text-align: right;\">0</td><td style=\"text-align: right;\">0.00</td></tr>\n",
       "</table>"
      ],
      "text/plain": [
       "<IPython.core.display.HTML object>"
      ]
     },
     "execution_count": 24,
     "metadata": {},
     "output_type": "execute_result"
    }
   ],
   "source": [
    "HTML(plt_obj.get_html())"
   ]
  },
  {
   "cell_type": "code",
   "execution_count": 25,
   "metadata": {
    "collapsed": false
   },
   "outputs": [
    {
     "data": {
      "text/html": [
       "\n",
       "\n",
       "    <div class=\"bk-root\">\n",
       "        <div class=\"plotdiv\" id=\"68dc0051-6649-4925-873f-202a745562f5\"></div>\n",
       "    </div>\n",
       "<script type=\"text/javascript\">\n",
       "  \n",
       "  (function(global) {\n",
       "    function now() {\n",
       "      return new Date();\n",
       "    }\n",
       "  \n",
       "    if (typeof (window._bokeh_onload_callbacks) === \"undefined\") {\n",
       "      window._bokeh_onload_callbacks = [];\n",
       "    }\n",
       "  \n",
       "    function run_callbacks() {\n",
       "      window._bokeh_onload_callbacks.forEach(function(callback) { callback() });\n",
       "      delete window._bokeh_onload_callbacks\n",
       "      console.info(\"Bokeh: all callbacks have finished\");\n",
       "    }\n",
       "  \n",
       "    function load_libs(js_urls, callback) {\n",
       "      window._bokeh_onload_callbacks.push(callback);\n",
       "      if (window._bokeh_is_loading > 0) {\n",
       "        console.log(\"Bokeh: BokehJS is being loaded, scheduling callback at\", now());\n",
       "        return null;\n",
       "      }\n",
       "      if (js_urls == null || js_urls.length === 0) {\n",
       "        run_callbacks();\n",
       "        return null;\n",
       "      }\n",
       "      console.log(\"Bokeh: BokehJS not loaded, scheduling load and callback at\", now());\n",
       "      window._bokeh_is_loading = js_urls.length;\n",
       "      for (var i = 0; i < js_urls.length; i++) {\n",
       "        var url = js_urls[i];\n",
       "        var s = document.createElement('script');\n",
       "        s.src = url;\n",
       "        s.async = false;\n",
       "        s.onreadystatechange = s.onload = function() {\n",
       "          window._bokeh_is_loading--;\n",
       "          if (window._bokeh_is_loading === 0) {\n",
       "            console.log(\"Bokeh: all BokehJS libraries loaded\");\n",
       "            run_callbacks()\n",
       "          }\n",
       "        };\n",
       "        s.onerror = function() {\n",
       "          console.warn(\"failed to load library \" + url);\n",
       "        };\n",
       "        console.log(\"Bokeh: injecting script tag for BokehJS library: \", url);\n",
       "        document.getElementsByTagName(\"head\")[0].appendChild(s);\n",
       "      }\n",
       "    };var element = document.getElementById(\"68dc0051-6649-4925-873f-202a745562f5\");\n",
       "    if (element == null) {\n",
       "      console.log(\"Bokeh: ERROR: autoload.js configured with elementid '68dc0051-6649-4925-873f-202a745562f5' but no matching script tag was found. \")\n",
       "      return false;\n",
       "    }\n",
       "  \n",
       "    var js_urls = [];\n",
       "  \n",
       "    var inline_js = [\n",
       "      function(Bokeh) {\n",
       "        Bokeh.$(function() {\n",
       "            var docs_json = {\"aa3f1c2b-16a2-427a-97ce-4805e2889cba\":{\"roots\":{\"references\":[{\"attributes\":{\"data_source\":{\"id\":\"cacfc797-3de8-4552-af6e-d86ce8780b08\",\"type\":\"ColumnDataSource\"},\"glyph\":{\"id\":\"2932495a-f7e7-4ae8-9d1d-8ee90d338346\",\"type\":\"MultiLine\"},\"hover_glyph\":null,\"nonselection_glyph\":{\"id\":\"6fb6741a-4236-4186-b397-8f15b9dcb3bb\",\"type\":\"MultiLine\"},\"selection_glyph\":null},\"id\":\"4de20cac-baf5-48a8-bff5-2e3561618fb6\",\"type\":\"GlyphRenderer\"},{\"attributes\":{\"callback\":null,\"column_names\":[\"y\",\"x\",\"vals\"],\"data\":{\"vals\":[\"RAB3GAP1\",\"ZRANB3\",\"R3HDM1\",\"UBXN4\",\"LCT\",\"MCM6\",\"DARS\"],\"x\":[135869057.0,136122878.0,136385961.0,136520911.0,136570082.5,136615621.5,136703738.0],\"y\":[960.0,960.0,960.0,960.0,960.0,960.0,960.0]}},\"id\":\"f199a3c0-2b4d-4328-9e3d-ea6ddcd6a3ef\",\"type\":\"ColumnDataSource\"},{\"attributes\":{\"overlay\":{\"id\":\"1d09f507-7093-4fc9-89c0-d8f09d6ce125\",\"type\":\"BoxAnnotation\"},\"plot\":{\"id\":\"cea451c8-9f49-42b1-9fb9-77734d7c6ce9\",\"subtype\":\"Figure\",\"type\":\"Plot\"}},\"id\":\"3d87ac79-0e6a-4ddd-a8d7-a0c3db9f3edc\",\"type\":\"BoxZoomTool\"},{\"attributes\":{\"plot\":{\"id\":\"cea451c8-9f49-42b1-9fb9-77734d7c6ce9\",\"subtype\":\"Figure\",\"type\":\"Plot\"},\"ticker\":{\"id\":\"8726ae1b-b00b-41fd-9aeb-4715e7d94429\",\"type\":\"BasicTicker\"}},\"id\":\"96d96218-53c9-429e-9488-e6ccce642d2d\",\"type\":\"Grid\"},{\"attributes\":{\"data_source\":{\"id\":\"0136dbe5-66aa-4079-9b31-b427d7dd4bcb\",\"type\":\"ColumnDataSource\"},\"glyph\":{\"id\":\"ca7f30e9-2cb6-4e63-ab28-5a2dfbb9e0b2\",\"type\":\"Quad\"},\"hover_glyph\":null,\"nonselection_glyph\":{\"id\":\"32bf4a51-b675-4986-9716-e3833d1e5dd7\",\"type\":\"Quad\"},\"selection_glyph\":null},\"id\":\"aba5dea6-33bc-4d33-889e-369246fe910e\",\"type\":\"GlyphRenderer\"},{\"attributes\":{\"dimension\":1,\"plot\":{\"id\":\"cea451c8-9f49-42b1-9fb9-77734d7c6ce9\",\"subtype\":\"Figure\",\"type\":\"Plot\"},\"ticker\":{\"id\":\"31e126cc-0dd6-4e17-b472-1dfafdd9ba3a\",\"type\":\"BasicTicker\"}},\"id\":\"943a97b0-5e46-4c24-9e1b-2d06bf713630\",\"type\":\"Grid\"},{\"attributes\":{\"plot\":{\"id\":\"cea451c8-9f49-42b1-9fb9-77734d7c6ce9\",\"subtype\":\"Figure\",\"type\":\"Plot\"}},\"id\":\"e4e33634-71c7-4463-890a-c6b93917ef2e\",\"type\":\"SaveTool\"},{\"attributes\":{\"formatter\":{\"id\":\"eba5ddb9-a530-493b-b804-220e3288c0ee\",\"type\":\"BasicTickFormatter\"},\"plot\":{\"id\":\"cea451c8-9f49-42b1-9fb9-77734d7c6ce9\",\"subtype\":\"Figure\",\"type\":\"Plot\"},\"ticker\":{\"id\":\"8726ae1b-b00b-41fd-9aeb-4715e7d94429\",\"type\":\"BasicTicker\"}},\"id\":\"817ac276-4dae-4198-aa84-c5d4e55b85dd\",\"type\":\"LinearAxis\"},{\"attributes\":{\"bottom_units\":\"screen\",\"fill_alpha\":{\"value\":0.5},\"fill_color\":{\"value\":\"lightgrey\"},\"left_units\":\"screen\",\"level\":\"overlay\",\"line_alpha\":{\"value\":1.0},\"line_color\":{\"value\":\"black\"},\"line_dash\":[4,4],\"line_width\":{\"value\":2},\"plot\":null,\"render_mode\":\"css\",\"right_units\":\"screen\",\"top_units\":\"screen\"},\"id\":\"1d09f507-7093-4fc9-89c0-d8f09d6ce125\",\"type\":\"BoxAnnotation\"},{\"attributes\":{},\"id\":\"eba5ddb9-a530-493b-b804-220e3288c0ee\",\"type\":\"BasicTickFormatter\"},{\"attributes\":{\"plot\":null,\"text\":null},\"id\":\"463b795d-52a9-4974-9257-4fdafde2c5f5\",\"type\":\"Title\"},{\"attributes\":{\"level\":\"glyph\",\"plot\":{\"id\":\"cea451c8-9f49-42b1-9fb9-77734d7c6ce9\",\"subtype\":\"Figure\",\"type\":\"Plot\"},\"source\":{\"id\":\"f199a3c0-2b4d-4328-9e3d-ea6ddcd6a3ef\",\"type\":\"ColumnDataSource\"},\"text\":{\"field\":\"vals\"},\"text_align\":\"center\",\"text_baseline\":\"middle\",\"text_font_size\":{\"value\":\"8pt\"},\"x\":{\"field\":\"x\"},\"y\":{\"field\":\"y\"}},\"id\":\"a6e48d9b-acbe-4a77-a883-6c6757fbcb6d\",\"type\":\"LabelSet\"},{\"attributes\":{\"callback\":null,\"end\":136786630,\"start\":135757320},\"id\":\"e5a33f05-8aa1-4dbf-a54c-070b6697e1fb\",\"type\":\"Range1d\"},{\"attributes\":{},\"id\":\"b6e1bdf6-a853-4a7d-abda-9da21449ce75\",\"type\":\"BasicTickFormatter\"},{\"attributes\":{\"level\":\"glyph\",\"plot\":{\"id\":\"cea451c8-9f49-42b1-9fb9-77734d7c6ce9\",\"subtype\":\"Figure\",\"type\":\"Plot\"},\"source\":{\"id\":\"c2e5d186-5c08-418c-8e5a-756b3a6b3e4d\",\"type\":\"ColumnDataSource\"},\"text\":{\"field\":\"vals\"},\"text_font_size\":{\"value\":\"9pt\"},\"text_font_style\":\"bold\",\"x\":{\"field\":\"x\"},\"y\":{\"field\":\"y\"}},\"id\":\"a6657ef6-ac11-44af-972f-87718565282f\",\"type\":\"LabelSet\"},{\"attributes\":{\"callback\":null,\"column_names\":[\"right\",\"bottom\",\"top\",\"left\",\"fill_color\"],\"data\":{\"bottom\":[850,750,50,350,150,250,450,650,550,450,750,650,350,450,850,350,450,550,150,850],\"fill_color\":[\"#808080\",\"#c46161\",\"#ff0000\",\"#ff0000\",\"#ff0000\",\"#ff0000\",\"#ff0000\",\"#ff0000\",\"#ff0000\",\"#ff0000\",\"#808080\",\"#ff0000\",\"#ff0000\",\"#ff0000\",\"#c46161\",\"#ff0000\",\"#ff0000\",\"#c46161\",\"#ff0000\",\"#61c461\"],\"left\":[135758231,135933921,135956166,136008173,136033448,136056699,136115507,136309239,136364916,136402778,136406646,136448855,136497006,136509361,136588031,136589521,136602291,136603638,136633976,136682274],\"right\":[136376515,136368563,136484679,136381251,136412169,136433902,136385280,136361560,136387893,136493430,136438078,136466831,136588738,136538117,136593678,136642012,136629987,136632125,136742820,136775898],\"top\":[896,795,60,376,162,268,484,690,587,482,795,687,369,476,896,373,478,585,160,897]}},\"id\":\"0136dbe5-66aa-4079-9b31-b427d7dd4bcb\",\"type\":\"ColumnDataSource\"},{\"attributes\":{\"bottom\":{\"field\":\"bottom\"},\"fill_color\":{\"value\":\"white\"},\"left\":{\"field\":\"left\"},\"right\":{\"field\":\"right\"},\"top\":{\"field\":\"top\"}},\"id\":\"d79063a0-6c5f-45c2-85e5-c40a9010b0e0\",\"type\":\"Quad\"},{\"attributes\":{\"formatter\":{\"id\":\"b6e1bdf6-a853-4a7d-abda-9da21449ce75\",\"type\":\"BasicTickFormatter\"},\"plot\":{\"id\":\"cea451c8-9f49-42b1-9fb9-77734d7c6ce9\",\"subtype\":\"Figure\",\"type\":\"Plot\"},\"ticker\":{\"id\":\"31e126cc-0dd6-4e17-b472-1dfafdd9ba3a\",\"type\":\"BasicTicker\"},\"visible\":null},\"id\":\"cb6f9729-2c71-4e19-aecb-82a4d5c0204b\",\"type\":\"LinearAxis\"},{\"attributes\":{\"callback\":null,\"column_names\":[\"xs\",\"ys\",\"line_color\"],\"data\":{\"line_color\":[\"black\",\"black\",\"black\",\"black\",\"black\",\"black\",\"black\",\"black\",\"black\",\"black\",\"black\",\"black\",\"black\",\"black\",\"black\",\"black\",\"black\",\"black\",\"black\",\"black\",\"black\",\"black\",\"black\",\"black\",\"black\",\"black\",\"black\",\"black\",\"black\",\"black\",\"black\",\"black\",\"black\",\"black\",\"black\",\"black\",\"black\",\"black\",\"black\",\"black\",\"black\",\"black\",\"black\",\"black\",\"black\",\"black\",\"black\",\"black\",\"black\",\"black\",\"black\",\"black\",\"black\",\"black\",\"black\",\"black\",\"black\",\"black\",\"black\",\"black\",\"black\",\"black\",\"black\",\"black\",\"black\",\"black\",\"black\",\"black\",\"black\",\"black\",\"black\",\"black\",\"black\",\"black\",\"black\",\"black\",\"black\",\"black\",\"black\",\"black\",\"black\",\"black\",\"black\",\"black\",\"black\",\"black\",\"black\",\"black\",\"black\",\"black\",\"black\",\"black\",\"black\",\"black\",\"black\",\"black\",\"black\",\"black\",\"black\",\"black\",\"black\",\"black\",\"black\",\"black\",\"black\",\"black\",\"black\",\"black\",\"black\",\"black\",\"black\",\"black\",\"black\",\"black\",\"black\",\"black\",\"black\",\"black\",\"black\",\"black\",\"black\",\"black\",\"black\",\"black\",\"black\",\"black\",\"black\",\"black\",\"black\",\"black\",\"black\",\"black\",\"black\",\"black\",\"black\",\"black\",\"black\",\"black\",\"black\",\"black\",\"black\",\"black\",\"black\",\"black\",\"black\",\"black\",\"black\",\"black\",\"black\",\"black\",\"black\",\"black\",\"black\",\"black\",\"black\",\"black\",\"black\",\"black\",\"black\",\"black\",\"black\",\"black\",\"black\",\"black\",\"black\",\"black\",\"black\",\"black\",\"black\",\"black\",\"black\",\"black\",\"black\",\"black\",\"black\",\"black\",\"black\",\"black\",\"black\",\"black\",\"black\",\"black\",\"black\",\"black\",\"black\",\"black\",\"black\",\"black\",\"black\",\"black\",\"black\",\"black\",\"black\",\"black\",\"black\",\"black\",\"black\",\"black\",\"black\",\"black\",\"black\",\"black\",\"black\",\"black\",\"black\",\"black\",\"black\",\"black\",\"black\",\"black\",\"black\",\"black\",\"black\",\"black\",\"black\",\"black\",\"black\",\"black\",\"black\",\"black\",\"black\",\"black\",\"black\",\"black\",\"black\",\"black\",\"black\",\"black\",\"black\",\"black\",\"black\",\"black\",\"black\",\"black\",\"black\",\"black\",\"black\",\"black\",\"black\",\"black\",\"black\",\"black\",\"black\",\"black\",\"black\",\"black\",\"black\",\"black\",\"black\",\"black\",\"black\",\"black\",\"black\",\"black\",\"black\",\"black\",\"black\",\"black\",\"black\",\"black\",\"black\",\"black\",\"black\",\"black\",\"black\",\"black\",\"black\",\"black\",\"black\",\"black\",\"black\",\"black\",\"black\",\"black\",\"black\",\"black\",\"black\",\"black\",\"black\",\"black\",\"black\",\"black\",\"black\",\"black\",\"black\",\"black\",\"black\",\"black\",\"black\",\"black\",\"black\",\"black\",\"black\",\"black\",\"black\",\"black\",\"black\",\"black\",\"black\",\"black\",\"black\",\"black\",\"black\",\"black\",\"black\",\"black\",\"black\",\"black\",\"black\",\"black\",\"black\",\"black\",\"black\",\"black\",\"black\",\"black\",\"black\",\"black\",\"black\",\"black\",\"black\",\"black\",\"black\",\"black\",\"black\",\"black\",\"black\",\"black\",\"black\",\"black\",\"black\",\"black\",\"black\",\"black\",\"black\",\"black\",\"black\",\"black\",\"black\",\"black\",\"black\",\"black\",\"black\",\"black\",\"black\",\"black\",\"black\",\"black\",\"black\",\"black\",\"black\",\"black\",\"black\",\"black\",\"black\",\"black\",\"black\",\"black\",\"black\",\"black\",\"black\",\"black\",\"black\",\"black\",\"black\",\"black\",\"black\",\"black\",\"black\",\"black\",\"black\",\"black\",\"black\",\"black\",\"black\",\"black\",\"black\",\"black\",\"black\",\"black\",\"black\",\"black\",\"black\",\"black\",\"black\",\"black\",\"black\",\"black\",\"black\",\"black\",\"black\",\"black\",\"black\",\"black\",\"black\",\"black\",\"black\",\"black\",\"black\",\"black\",\"black\",\"black\",\"black\",\"black\",\"black\",\"black\",\"black\",\"black\",\"black\",\"black\",\"black\",\"black\",\"black\",\"black\",\"black\",\"black\",\"black\",\"black\",\"black\",\"black\",\"black\",\"black\",\"black\",\"black\",\"black\",\"black\",\"black\",\"black\",\"black\",\"black\",\"black\",\"black\",\"black\",\"black\",\"black\",\"black\",\"black\",\"black\",\"black\",\"black\",\"black\",\"black\",\"black\",\"black\",\"black\",\"black\",\"black\",\"black\",\"black\",\"black\",\"black\",\"black\",\"black\",\"black\",\"black\",\"black\",\"black\",\"black\",\"black\",\"black\",\"black\",\"black\",\"black\",\"black\",\"black\",\"black\",\"black\",\"black\",\"black\",\"black\",\"black\",\"black\",\"black\",\"black\",\"black\",\"black\",\"black\",\"black\",\"black\",\"black\",\"black\",\"black\",\"black\",\"black\",\"black\",\"black\",\"black\",\"black\",\"black\",\"black\",\"black\",\"black\",\"black\",\"black\",\"black\",\"black\",\"black\",\"black\",\"black\",\"black\",\"black\",\"black\",\"black\",\"black\",\"black\",\"black\",\"black\",\"black\",\"black\"],\"xs\":[[135758231,135758231],[135758520,135758520],[135766072,135766072],[135773420,135773420],[135773446,135773446],[135773617,135773617],[135773692,135773692],[135774681,135774681],[135775049,135775049],[135776430,135776430],[135778656,135778656],[135780168,135780168],[135780587,135780587],[135781301,135781301],[135781522,135781522],[135781635,135781635],[135782456,135782456],[135783157,135783157],[135783366,135783366],[135783367,135783367],[135784227,135784227],[135784733,135784733],[135785066,135785066],[135785068,135785068],[135785149,135785149],[135787148,135787148],[135787642,135787642],[135789405,135789405],[135789472,135789472],[135789682,135789682],[135789784,135789784],[135792338,135792338],[135792528,135792528],[135793565,135793565],[135793684,135793684],[135793845,135793845],[135794367,135794367],[135794986,135794986],[135795040,135795040],[135795095,135795095],[135795150,135795150],[135795385,135795385],[135795396,135795396],[135795443,135795443],[135795595,135795595],[135796000,135796000],[135796155,135796155],[135796410,135796410],[135796965,135796965],[135797223,135797223],[135797747,135797747],[135798082,135798082],[135798758,135798758],[135799082,135799082],[135800085,135800085],[135800601,135800601],[135800757,135800757],[135801228,135801228],[135801956,135801956],[135802020,135802020],[135802028,135802028],[135802050,135802050],[135802148,135802148],[135803766,135803766],[135809241,135809241],[135812969,135812969],[135814716,135814716],[135818907,135818907],[135829432,135829432],[135832131,135832131],[135849613,135849613],[135853807,135853807],[135859923,135859923],[135860305,135860305],[135861497,135861497],[135863143,135863143],[135864294,135864294],[135871624,135871624],[135872646,135872646],[135874038,135874038],[135874622,135874622],[135878814,135878814],[135880013,135880013],[135884487,135884487],[135885357,135885357],[135893853,135893853],[135895809,135895809],[135895879,135895879],[135899069,135899069],[135909462,135909462],[135912977,135912977],[135914038,135914038],[135921839,135921839],[135925002,135925002],[135928312,135928312],[135935049,135935049],[135962711,135962711],[135984172,135984172],[135994753,135994753],[135994754,135994754],[136016079,136016079],[136027264,136027264],[136052004,136052004],[136100473,136100473],[136110129,136110129],[136166536,136166536],[136169799,136169799],[136191314,136191314],[136228887,136228887],[136238453,136238453],[136288273,136288273],[136292425,136292425],[136321951,136321951],[136324564,136324564],[136327299,136327299],[136327302,136327302],[136376515,136376515],[135933921,135933921],[135939824,135939824],[135941503,135941503],[135943900,135943900],[135945474,135945474],[135949715,135949715],[135956745,135956745],[135958693,135958693],[135967778,135967778],[135972093,135972093],[135973768,135973768],[135976498,135976498],[135978428,135978428],[135990031,135990031],[135992481,135992481],[135993925,135993925],[135994838,135994838],[136000253,136000253],[136003567,136003567],[136005477,136005477],[136005971,136005971],[136020977,136020977],[136027535,136027535],[136031588,136031588],[136032905,136032905],[136042480,136042480],[136043885,136043885],[136050471,136050471],[136052898,136052898],[136054815,136054815],[136056285,136056285],[136061560,136061560],[136063685,136063685],[136069060,136069060],[136072179,136072179],[136074233,136074233],[136080721,136080721],[136080822,136080822],[136088440,136088440],[136088643,136088643],[136092416,136092416],[136092869,136092869],[136094615,136094615],[136095505,136095505],[136095604,136095604],[136096766,136096766],[136097091,136097091],[136097394,136097394],[136100243,136100243],[136101823,136101823],[136106561,136106561],[136115501,136115501],[136122622,136122622],[136123014,136123014],[136123848,136123848],[136127100,136127100],[136127950,136127950],[136128630,136128630],[136129630,136129630],[136129791,136129791],[136131324,136131324],[136135383,136135383],[136135994,136135994],[136136224,136136224],[136136366,136136366],[136136440,136136440],[136138145,136138145],[136140568,136140568],[136145882,136145882],[136147948,136147948],[136148630,136148630],[136151485,136151485],[136152802,136152802],[136156753,136156753],[136157913,136157913],[136160902,136160902],[136165765,136165765],[136171649,136171649],[136173220,136173220],[136173735,136173735],[136174552,136174552],[136175692,136175692],[136176805,136176805],[136182484,136182484],[136183188,136183188],[136187252,136187252],[136187345,136187345],[136189475,136189475],[136197702,136197702],[136198435,136198435],[136202937,136202937],[136219999,136219999],[136221500,136221500],[136226626,136226626],[136228929,136228929],[136229598,136229598],[136238270,136238270],[136238346,136238346],[136240769,136240769],[136244171,136244171],[136249245,136249245],[136250285,136250285],[136254419,136254419],[136266241,136266241],[136267808,136267808],[136272074,136272074],[136277304,136277304],[136290607,136290607],[136290663,136290663],[136291310,136291310],[136296051,136296051],[136305392,136305392],[136306890,136306890],[136310803,136310803],[136324225,136324225],[136324465,136324465],[136327305,136327305],[136329618,136329618],[136333300,136333300],[136350089,136350089],[136354204,136354204],[136360455,136360455],[136368563,136368563],[135956166,135956166],[135981152,135981152],[136024681,136024681],[136038077,136038077],[136097226,136097226],[136101953,136101953],[136105148,136105148],[136106696,136106696],[136144471,136144471],[136165664,136165664],[136181766,136181766],[136254791,136254791],[136272424,136272424],[136285987,136285987],[136297654,136297654],[136301099,136301099],[136332306,136332306],[136342800,136342800],[136370517,136370517],[136378974,136378974],[136390282,136390282],[136406419,136406419],[136440339,136440339],[136481338,136481338],[136484679,136484679],[136008173,136008173],[136008446,136008446],[136014236,136014236],[136036997,136036997],[136037702,136037702],[136040078,136040078],[136046601,136046601],[136048235,136048235],[136050624,136050624],[136051458,136051458],[136053800,136053800],[136069666,136069666],[136070320,136070320],[136071268,136071268],[136085307,136085307],[136107478,136107478],[136116965,136116965],[136119487,136119487],[136133726,136133726],[136136964,136136964],[136137013,136137013],[136141365,136141365],[136151898,136151898],[136153771,136153771],[136157319,136157319],[136157786,136157786],[136160634,136160634],[136161546,136161546],[136161613,136161613],[136163239,136163239],[136166288,136166288],[136171078,136171078],[136174848,136174848],[136177152,136177152],[136188784,136188784],[136191498,136191498],[136192069,136192069],[136192914,136192914],[136202038,136202038],[136206988,136206988],[136208169,136208169],[136211700,136211700],[136214800,136214800],[136223293,136223293],[136238330,136238330],[136242667,136242667],[136249834,136249834],[136255405,136255405],[136261219,136261219],[136264924,136264924],[136265494,136265494],[136267386,136267386],[136267415,136267415],[136277320,136277320],[136279720,136279720],[136279756,136279756],[136283113,136283113],[136299020,136299020],[136304442,136304442],[136308679,136308679],[136319192,136319192],[136324543,136324543],[136330131,136330131],[136347919,136347919],[136353065,136353065],[136360339,136360339],[136370954,136370954],[136371399,136371399],[136376994,136376994],[136381251,136381251],[136033448,136033448],[136045628,136045628],[136081974,136081974],[136220746,136220746],[136322033,136322033],[136376416,136376416],[136412169,136412169],[136056699,136056699],[136316658,136316658],[136390794,136390794],[136421460,136421460],[136433902,136433902],[136115507,136115507],[136133627,136133627],[136135820,136135820],[136145676,136145676],[136166014,136166014],[136173684,136173684],[136176031,136176031],[136214307,136214307],[136215590,136215590],[136219265,136219265],[136219831,136219831],[136289471,136289471],[136298739,136298739],[136302296,136302296],[136302897,136302897],[136348702,136348702],[136348964,136348964],[136358707,136358707],[136359608,136359608],[136360402,136360402],[136365624,136365624],[136366970,136366970],[136367871,136367871],[136368393,136368393],[136370701,136370701],[136378539,136378539],[136378895,136378895],[136385280,136385280],[136309239,136309239],[136322472,136322472],[136323787,136323787],[136323862,136323862],[136326765,136326765],[136329500,136329500],[136331657,136331657],[136345356,136345356],[136361560,136361560],[136364916,136364916],[136369497,136369497],[136369580,136369580],[136380846,136380846],[136387893,136387893],[136402778,136402778],[136402779,136402779],[136402780,136402780],[136402781,136402781],[136403272,136403272],[136406356,136406356],[136407068,136407068],[136414770,136414770],[136415861,136415861],[136416407,136416407],[136420009,136420009],[136429439,136429439],[136438468,136438468],[136444542,136444542],[136448142,136448142],[136452728,136452728],[136453540,136453540],[136455296,136455296],[136458856,136458856],[136467559,136467559],[136493430,136493430],[136406646,136406646],[136408821,136408821],[136412472,136412472],[136416959,136416959],[136438078,136438078],[136448855,136448855],[136456090,136456090],[136456675,136456675],[136466831,136466831],[136497006,136497006],[136501661,136501661],[136504728,136504728],[136507878,136507878],[136545910,136545910],[136548951,136548951],[136554041,136554041],[136555054,136555054],[136555957,136555957],[136562876,136562876],[136563725,136563725],[136565901,136565901],[136567203,136567203],[136574563,136574563],[136581775,136581775],[136584623,136584623],[136587297,136587297],[136588380,136588380],[136588738,136588738],[136509361,136509361],[136509955,136509955],[136510059,136510059],[136516416,136516416],[136522394,136522394],[136523911,136523911],[136527801,136527801],[136530264,136530264],[136530476,136530476],[136532528,136532528],[136538117,136538117],[136588031,136588031],[136589278,136589278],[136589379,136589379],[136589741,136589741],[136590746,136590746],[136593553,136593553],[136593678,136593678],[136589521,136589521],[136590781,136590781],[136591977,136591977],[136592979,136592979],[136593065,136593065],[136593066,136593066],[136593077,136593077],[136593079,136593079],[136593136,136593136],[136593809,136593809],[136596836,136596836],[136619277,136619277],[136622982,136622982],[136631545,136631545],[136634340,136634340],[136638199,136638199],[136642012,136642012],[136602291,136602291],[136607932,136607932],[136616036,136616036],[136617917,136617917],[136619615,136619615],[136627507,136627507],[136629987,136629987],[136603638,136603638],[136603690,136603690],[136604210,136604210],[136604345,136604345],[136604346,136604346],[136605111,136605111],[136612598,136612598],[136614955,136614955],[136619114,136619114],[136619213,136619213],[136623900,136623900],[136624123,136624123],[136624155,136624155],[136630170,136630170],[136631415,136631415],[136632125,136632125],[136633976,136633976],[136674547,136674547],[136720711,136720711],[136722941,136722941],[136733249,136733249],[136742820,136742820],[136682274,136682274],[136691825,136691825],[136698098,136698098],[136721603,136721603],[136721995,136721995],[136755684,136755684],[136775898,136775898]],\"ys\":[[850,896],[850,896],[850,896],[850,896],[850,896],[850,896],[850,896],[850,896],[850,896],[850,896],[850,896],[850,896],[850,896],[850,896],[850,896],[850,896],[850,896],[850,896],[850,896],[850,896],[850,896],[850,896],[850,896],[850,896],[850,896],[850,896],[850,896],[850,896],[850,896],[850,896],[850,896],[850,896],[850,896],[850,896],[850,896],[850,896],[850,896],[850,896],[850,896],[850,896],[850,896],[850,896],[850,896],[850,896],[850,896],[850,896],[850,896],[850,896],[850,896],[850,896],[850,896],[850,896],[850,896],[850,896],[850,896],[850,896],[850,896],[850,896],[850,896],[850,896],[850,896],[850,896],[850,896],[850,896],[850,896],[850,896],[850,896],[850,896],[850,896],[850,896],[850,896],[850,896],[850,896],[850,896],[850,896],[850,896],[850,896],[850,896],[850,896],[850,896],[850,896],[850,896],[850,896],[850,896],[850,896],[850,896],[850,896],[850,896],[850,896],[850,896],[850,896],[850,896],[850,896],[850,896],[850,896],[850,896],[850,896],[850,896],[850,896],[850,896],[850,896],[850,896],[850,896],[850,896],[850,896],[850,896],[850,896],[850,896],[850,896],[850,896],[850,896],[850,896],[850,896],[850,896],[850,896],[850,896],[850,896],[750,795],[750,795],[750,795],[750,795],[750,795],[750,795],[750,795],[750,795],[750,795],[750,795],[750,795],[750,795],[750,795],[750,795],[750,795],[750,795],[750,795],[750,795],[750,795],[750,795],[750,795],[750,795],[750,795],[750,795],[750,795],[750,795],[750,795],[750,795],[750,795],[750,795],[750,795],[750,795],[750,795],[750,795],[750,795],[750,795],[750,795],[750,795],[750,795],[750,795],[750,795],[750,795],[750,795],[750,795],[750,795],[750,795],[750,795],[750,795],[750,795],[750,795],[750,795],[750,795],[750,795],[750,795],[750,795],[750,795],[750,795],[750,795],[750,795],[750,795],[750,795],[750,795],[750,795],[750,795],[750,795],[750,795],[750,795],[750,795],[750,795],[750,795],[750,795],[750,795],[750,795],[750,795],[750,795],[750,795],[750,795],[750,795],[750,795],[750,795],[750,795],[750,795],[750,795],[750,795],[750,795],[750,795],[750,795],[750,795],[750,795],[750,795],[750,795],[750,795],[750,795],[750,795],[750,795],[750,795],[750,795],[750,795],[750,795],[750,795],[750,795],[750,795],[750,795],[750,795],[750,795],[750,795],[750,795],[750,795],[750,795],[750,795],[750,795],[750,795],[750,795],[750,795],[750,795],[750,795],[750,795],[750,795],[750,795],[750,795],[750,795],[750,795],[750,795],[50,60],[50,60],[50,60],[50,60],[50,60],[50,60],[50,60],[50,60],[50,60],[50,60],[50,60],[50,60],[50,60],[50,60],[50,60],[50,60],[50,60],[50,60],[50,60],[50,60],[50,60],[50,60],[50,60],[50,60],[50,60],[350,376],[350,376],[350,376],[350,376],[350,376],[350,376],[350,376],[350,376],[350,376],[350,376],[350,376],[350,376],[350,376],[350,376],[350,376],[350,376],[350,376],[350,376],[350,376],[350,376],[350,376],[350,376],[350,376],[350,376],[350,376],[350,376],[350,376],[350,376],[350,376],[350,376],[350,376],[350,376],[350,376],[350,376],[350,376],[350,376],[350,376],[350,376],[350,376],[350,376],[350,376],[350,376],[350,376],[350,376],[350,376],[350,376],[350,376],[350,376],[350,376],[350,376],[350,376],[350,376],[350,376],[350,376],[350,376],[350,376],[350,376],[350,376],[350,376],[350,376],[350,376],[350,376],[350,376],[350,376],[350,376],[350,376],[350,376],[350,376],[350,376],[350,376],[150,162],[150,162],[150,162],[150,162],[150,162],[150,162],[150,162],[250,268],[250,268],[250,268],[250,268],[250,268],[450,484],[450,484],[450,484],[450,484],[450,484],[450,484],[450,484],[450,484],[450,484],[450,484],[450,484],[450,484],[450,484],[450,484],[450,484],[450,484],[450,484],[450,484],[450,484],[450,484],[450,484],[450,484],[450,484],[450,484],[450,484],[450,484],[450,484],[450,484],[650,690],[650,690],[650,690],[650,690],[650,690],[650,690],[650,690],[650,690],[650,690],[550,587],[550,587],[550,587],[550,587],[550,587],[450,482],[450,482],[450,482],[450,482],[450,482],[450,482],[450,482],[450,482],[450,482],[450,482],[450,482],[450,482],[450,482],[450,482],[450,482],[450,482],[450,482],[450,482],[450,482],[450,482],[450,482],[750,795],[750,795],[750,795],[750,795],[750,795],[650,687],[650,687],[650,687],[650,687],[350,369],[350,369],[350,369],[350,369],[350,369],[350,369],[350,369],[350,369],[350,369],[350,369],[350,369],[350,369],[350,369],[350,369],[350,369],[350,369],[350,369],[350,369],[350,369],[450,476],[450,476],[450,476],[450,476],[450,476],[450,476],[450,476],[450,476],[450,476],[450,476],[450,476],[850,896],[850,896],[850,896],[850,896],[850,896],[850,896],[850,896],[350,373],[350,373],[350,373],[350,373],[350,373],[350,373],[350,373],[350,373],[350,373],[350,373],[350,373],[350,373],[350,373],[350,373],[350,373],[350,373],[350,373],[450,478],[450,478],[450,478],[450,478],[450,478],[450,478],[450,478],[550,585],[550,585],[550,585],[550,585],[550,585],[550,585],[550,585],[550,585],[550,585],[550,585],[550,585],[550,585],[550,585],[550,585],[550,585],[550,585],[150,160],[150,160],[150,160],[150,160],[150,160],[150,160],[850,897],[850,897],[850,897],[850,897],[850,897],[850,897],[850,897]]}},\"id\":\"cacfc797-3de8-4552-af6e-d86ce8780b08\",\"type\":\"ColumnDataSource\"},{\"attributes\":{},\"id\":\"8726ae1b-b00b-41fd-9aeb-4715e7d94429\",\"type\":\"BasicTicker\"},{\"attributes\":{\"callback\":null,\"column_names\":[\"y\",\"x\",\"vals\"],\"data\":{\"vals\":[\"117_1685\",\"123_1561\",\"25_27\",\"70_166\",\"7_34\",\"5_69\",\"28_434\",\"9_887\",\"5_588\",\"21_332\",\"5_1460\",\"4_612\",\"19_77\",\"11_173\",\"7_1760\",\"17_127\",\"7_226\",\"16_511\",\"6_27\",\"7_1868\"],\"x\":[135758231,135933921,135956166,136008173,136033448,136056699,136115507,136309239,136364916,136402778,136406646,136448855,136497006,136509361,136588031,136589521,136602291,136603638,136633976,136682274],\"y\":[901.0,800.0,65.0,381.0,167.0,273.0,489.0,695.0,592.0,487.0,800.0,692.0,374.0,481.0,901.0,378.0,483.0,590.0,165.0,902.0]}},\"id\":\"c2e5d186-5c08-418c-8e5a-756b3a6b3e4d\",\"type\":\"ColumnDataSource\"},{\"attributes\":{\"line_alpha\":{\"value\":0.1},\"line_color\":{\"value\":\"#1f77b4\"},\"xs\":{\"field\":\"xs\"},\"ys\":{\"field\":\"ys\"}},\"id\":\"6fb6741a-4236-4186-b397-8f15b9dcb3bb\",\"type\":\"MultiLine\"},{\"attributes\":{\"bottom\":{\"field\":\"bottom\"},\"fill_color\":{\"field\":\"fill_color\"},\"left\":{\"field\":\"left\"},\"line_color\":{\"value\":null},\"right\":{\"field\":\"right\"},\"top\":{\"field\":\"top\"}},\"id\":\"ca7f30e9-2cb6-4e63-ab28-5a2dfbb9e0b2\",\"type\":\"Quad\"},{\"attributes\":{\"callback\":null,\"column_names\":[\"right\",\"bottom\",\"top\",\"left\"],\"data\":{\"bottom\":[945,945,945,945,945,945,945],\"left\":[135809835,135957574,136289083,136499189,136545415,136597196,136664254],\"right\":[135928279,136288182,136482839,136542633,136594750,136634047,136743222],\"top\":[975,975,975,975,975,975,975]}},\"id\":\"5fd235c0-e4a7-4dab-b51d-f511152ea75b\",\"type\":\"ColumnDataSource\"},{\"attributes\":{\"plot\":{\"id\":\"cea451c8-9f49-42b1-9fb9-77734d7c6ce9\",\"subtype\":\"Figure\",\"type\":\"Plot\"}},\"id\":\"08fae58b-2c20-400c-a923-ebc6294b0a9e\",\"type\":\"PanTool\"},{\"attributes\":{\"below\":[{\"id\":\"817ac276-4dae-4198-aa84-c5d4e55b85dd\",\"type\":\"LinearAxis\"}],\"left\":[{\"id\":\"cb6f9729-2c71-4e19-aecb-82a4d5c0204b\",\"type\":\"LinearAxis\"}],\"plot_height\":1000,\"plot_width\":900,\"renderers\":[{\"id\":\"817ac276-4dae-4198-aa84-c5d4e55b85dd\",\"type\":\"LinearAxis\"},{\"id\":\"96d96218-53c9-429e-9488-e6ccce642d2d\",\"type\":\"Grid\"},{\"id\":\"cb6f9729-2c71-4e19-aecb-82a4d5c0204b\",\"type\":\"LinearAxis\"},{\"id\":\"943a97b0-5e46-4c24-9e1b-2d06bf713630\",\"type\":\"Grid\"},{\"id\":\"1d09f507-7093-4fc9-89c0-d8f09d6ce125\",\"type\":\"BoxAnnotation\"},{\"id\":\"aba5dea6-33bc-4d33-889e-369246fe910e\",\"type\":\"GlyphRenderer\"},{\"id\":\"4de20cac-baf5-48a8-bff5-2e3561618fb6\",\"type\":\"GlyphRenderer\"},{\"id\":\"a6657ef6-ac11-44af-972f-87718565282f\",\"type\":\"LabelSet\"},{\"id\":\"45b7b6e7-566c-448b-b8d4-4b26be3bc2f7\",\"type\":\"GlyphRenderer\"},{\"id\":\"a6e48d9b-acbe-4a77-a883-6c6757fbcb6d\",\"type\":\"LabelSet\"}],\"title\":{\"id\":\"463b795d-52a9-4974-9257-4fdafde2c5f5\",\"type\":\"Title\"},\"tool_events\":{\"id\":\"a9ba1b6c-b459-4ea8-89ee-db3aaabf0144\",\"type\":\"ToolEvents\"},\"toolbar\":{\"id\":\"075cf968-202c-4ac9-bfd8-10c852fd899c\",\"type\":\"Toolbar\"},\"toolbar_location\":null,\"x_range\":{\"id\":\"e5a33f05-8aa1-4dbf-a54c-070b6697e1fb\",\"type\":\"Range1d\"},\"y_range\":{\"id\":\"0dc3ad20-5198-41fa-8327-5723acabb83e\",\"type\":\"Range1d\"}},\"id\":\"cea451c8-9f49-42b1-9fb9-77734d7c6ce9\",\"subtype\":\"Figure\",\"type\":\"Plot\"},{\"attributes\":{\"callback\":null,\"end\":1000},\"id\":\"0dc3ad20-5198-41fa-8327-5723acabb83e\",\"type\":\"Range1d\"},{\"attributes\":{\"plot\":{\"id\":\"cea451c8-9f49-42b1-9fb9-77734d7c6ce9\",\"subtype\":\"Figure\",\"type\":\"Plot\"}},\"id\":\"dcab9bb7-bbaf-4a00-b969-407fe8aefed0\",\"type\":\"HelpTool\"},{\"attributes\":{\"bottom\":{\"field\":\"bottom\"},\"fill_alpha\":{\"value\":0.1},\"fill_color\":{\"value\":\"#1f77b4\"},\"left\":{\"field\":\"left\"},\"line_alpha\":{\"value\":0.1},\"line_color\":{\"value\":\"#1f77b4\"},\"right\":{\"field\":\"right\"},\"top\":{\"field\":\"top\"}},\"id\":\"32bf4a51-b675-4986-9716-e3833d1e5dd7\",\"type\":\"Quad\"},{\"attributes\":{\"data_source\":{\"id\":\"5fd235c0-e4a7-4dab-b51d-f511152ea75b\",\"type\":\"ColumnDataSource\"},\"glyph\":{\"id\":\"d79063a0-6c5f-45c2-85e5-c40a9010b0e0\",\"type\":\"Quad\"},\"hover_glyph\":null,\"nonselection_glyph\":{\"id\":\"4e0069e6-2d0b-41cf-be83-4b9280b288c1\",\"type\":\"Quad\"},\"selection_glyph\":null},\"id\":\"45b7b6e7-566c-448b-b8d4-4b26be3bc2f7\",\"type\":\"GlyphRenderer\"},{\"attributes\":{\"line_color\":{\"field\":\"line_color\"},\"xs\":{\"field\":\"xs\"},\"ys\":{\"field\":\"ys\"}},\"id\":\"2932495a-f7e7-4ae8-9d1d-8ee90d338346\",\"type\":\"MultiLine\"},{\"attributes\":{\"active_drag\":\"auto\",\"active_scroll\":\"auto\",\"active_tap\":\"auto\",\"tools\":[{\"id\":\"08fae58b-2c20-400c-a923-ebc6294b0a9e\",\"type\":\"PanTool\"},{\"id\":\"bd94fa16-7764-4d10-871c-37d0b452db80\",\"type\":\"WheelZoomTool\"},{\"id\":\"3d87ac79-0e6a-4ddd-a8d7-a0c3db9f3edc\",\"type\":\"BoxZoomTool\"},{\"id\":\"e4e33634-71c7-4463-890a-c6b93917ef2e\",\"type\":\"SaveTool\"},{\"id\":\"988d25ff-5e71-4785-9965-1e0652aaff1f\",\"type\":\"ResetTool\"},{\"id\":\"dcab9bb7-bbaf-4a00-b969-407fe8aefed0\",\"type\":\"HelpTool\"}]},\"id\":\"075cf968-202c-4ac9-bfd8-10c852fd899c\",\"type\":\"Toolbar\"},{\"attributes\":{},\"id\":\"31e126cc-0dd6-4e17-b472-1dfafdd9ba3a\",\"type\":\"BasicTicker\"},{\"attributes\":{\"plot\":{\"id\":\"cea451c8-9f49-42b1-9fb9-77734d7c6ce9\",\"subtype\":\"Figure\",\"type\":\"Plot\"}},\"id\":\"bd94fa16-7764-4d10-871c-37d0b452db80\",\"type\":\"WheelZoomTool\"},{\"attributes\":{\"plot\":{\"id\":\"cea451c8-9f49-42b1-9fb9-77734d7c6ce9\",\"subtype\":\"Figure\",\"type\":\"Plot\"}},\"id\":\"988d25ff-5e71-4785-9965-1e0652aaff1f\",\"type\":\"ResetTool\"},{\"attributes\":{\"bottom\":{\"field\":\"bottom\"},\"fill_alpha\":{\"value\":0.1},\"fill_color\":{\"value\":\"#1f77b4\"},\"left\":{\"field\":\"left\"},\"line_alpha\":{\"value\":0.1},\"line_color\":{\"value\":\"#1f77b4\"},\"right\":{\"field\":\"right\"},\"top\":{\"field\":\"top\"}},\"id\":\"4e0069e6-2d0b-41cf-be83-4b9280b288c1\",\"type\":\"Quad\"},{\"attributes\":{},\"id\":\"a9ba1b6c-b459-4ea8-89ee-db3aaabf0144\",\"type\":\"ToolEvents\"}],\"root_ids\":[\"cea451c8-9f49-42b1-9fb9-77734d7c6ce9\"]},\"title\":\"Bokeh Application\",\"version\":\"0.12.0\"}};\n",
       "            var render_items = [{\"docid\":\"aa3f1c2b-16a2-427a-97ce-4805e2889cba\",\"elementid\":\"68dc0051-6649-4925-873f-202a745562f5\",\"modelid\":\"cea451c8-9f49-42b1-9fb9-77734d7c6ce9\",\"notebook_comms_target\":\"f0accc60-ecab-443f-9e36-f6df2ec6785e\"}];\n",
       "            \n",
       "            Bokeh.embed.embed_items(docs_json, render_items);\n",
       "        });\n",
       "      },\n",
       "      function(Bokeh) {\n",
       "      }\n",
       "    ];\n",
       "  \n",
       "    function run_inline_js() {\n",
       "      for (var i = 0; i < inline_js.length; i++) {\n",
       "        inline_js[i](window.Bokeh);\n",
       "      }\n",
       "    }\n",
       "  \n",
       "    if (window._bokeh_is_loading === 0) {\n",
       "      console.log(\"Bokeh: BokehJS loaded, going straight to plotting\");\n",
       "      run_inline_js();\n",
       "    } else {\n",
       "      load_libs(js_urls, function() {\n",
       "        console.log(\"Bokeh: BokehJS plotting callback run at\", now());\n",
       "        run_inline_js();\n",
       "      });\n",
       "    }\n",
       "  }(this));\n",
       "</script>"
      ]
     },
     "metadata": {},
     "output_type": "display_data"
    },
    {
     "data": {
      "text/html": [
       "<p><code>&lt;Bokeh Notebook handle for <strong>In[25]</strong>&gt;</code></p>"
      ],
      "text/plain": [
       "<bokeh.io._CommsHandle at 0x7f3f601bb8d0>"
      ]
     },
     "execution_count": 25,
     "metadata": {},
     "output_type": "execute_result"
    }
   ],
   "source": [
    "plt_obj = dm.superset_allele_mask(am1, min_match=0.5)\n",
    "plt = plt_obj.do_plot()\n",
    "show(plt)"
   ]
  },
  {
   "cell_type": "code",
   "execution_count": 26,
   "metadata": {
    "collapsed": false
   },
   "outputs": [
    {
     "data": {
      "text/html": [
       "<table>\n",
       "<thead><tr><th style=\"text-align:center\">index</th><th style=\"text-align:center\">first</th><th style=\"text-align:center\">length</th><th style=\"text-align:center\">snps</th><th style=\"text-align:center\" colspan=2>alleles</th><th style=\"text-align:center\" colspan=2>matches</th><th style=\"text-align:center\" colspan=2>afr</th><th style=\"text-align:center\" colspan=2>afx</th><th style=\"text-align:center\" colspan=2>amr</th><th style=\"text-align:center\" colspan=2>eas</th><th style=\"text-align:center\" colspan=2>eur</th><th style=\"text-align:center\" colspan=2>sas</th><th style=\"text-align:center\" colspan=2>sax</th></tr></thead>\n",
       "<tr class=\"even\"><td style=\"text-align: right;\">354170</td><td style=\"text-align: right;\">136,682,274</td><td style=\"text-align: right;\">93,624</td><td style=\"text-align: right;\">7</td><td style=\"text-align: right;\">1868</td><td style=\"text-align: right;\">0.01</td><td style=\"text-align: right;\">17</td><td style=\"text-align: right;\">0.59</td><td style=\"text-align: right;\">10</td><td style=\"text-align: right;\">2.92</td><td style=\"text-align: right;\">6</td><td style=\"text-align: right;\">5.63</td><td style=\"text-align: right;\">1</td><td style=\"text-align: right;\">0.42</td><td style=\"text-align: right;\">0</td><td style=\"text-align: right;\">0.00</td><td style=\"text-align: right;\">0</td><td style=\"text-align: right;\">0.00</td><td style=\"text-align: right;\">0</td><td style=\"text-align: right;\">0.00</td><td style=\"text-align: right;\">0</td><td style=\"text-align: right;\">0.00</td></tr>\n",
       "<tr><td style=\"text-align: right;\">354033</td><td style=\"text-align: right;\">136,588,031</td><td style=\"text-align: right;\">5,647</td><td style=\"text-align: right;\">7</td><td style=\"text-align: right;\">1760</td><td style=\"text-align: right;\">0.01</td><td style=\"text-align: right;\">20</td><td style=\"text-align: right;\">0.69</td><td style=\"text-align: right;\">11</td><td style=\"text-align: right;\">2.73</td><td style=\"text-align: right;\">8</td><td style=\"text-align: right;\">6.38</td><td style=\"text-align: right;\">1</td><td style=\"text-align: right;\">0.36</td><td style=\"text-align: right;\">0</td><td style=\"text-align: right;\">0.00</td><td style=\"text-align: right;\">0</td><td style=\"text-align: right;\">0.00</td><td style=\"text-align: right;\">0</td><td style=\"text-align: right;\">0.00</td><td style=\"text-align: right;\">0</td><td style=\"text-align: right;\">0.00</td></tr>\n",
       "<tr class=\"even\"><td style=\"text-align: right;\">353244</td><td style=\"text-align: right;\">135,758,231</td><td style=\"text-align: right;\">618,284</td><td style=\"text-align: right;\">117</td><td style=\"text-align: right;\">1685</td><td style=\"text-align: right;\">0.02</td><td style=\"text-align: right;\">29</td><td style=\"text-align: right;\">1.00</td><td style=\"text-align: right;\">19</td><td style=\"text-align: right;\">3.26</td><td style=\"text-align: right;\">8</td><td style=\"text-align: right;\">4.40</td><td style=\"text-align: right;\">2</td><td style=\"text-align: right;\">0.50</td><td style=\"text-align: right;\">0</td><td style=\"text-align: right;\">0.00</td><td style=\"text-align: right;\">0</td><td style=\"text-align: right;\">0.00</td><td style=\"text-align: right;\">0</td><td style=\"text-align: right;\">0.00</td><td style=\"text-align: right;\">0</td><td style=\"text-align: right;\">0.00</td></tr>\n",
       "<tr><td style=\"text-align: right;\">353478</td><td style=\"text-align: right;\">135,933,921</td><td style=\"text-align: right;\">434,642</td><td style=\"text-align: right;\">123</td><td style=\"text-align: right;\">1561</td><td style=\"text-align: right;\">0.02</td><td style=\"text-align: right;\">29</td><td style=\"text-align: right;\">1.00</td><td style=\"text-align: right;\">19</td><td style=\"text-align: right;\">3.26</td><td style=\"text-align: right;\">8</td><td style=\"text-align: right;\">4.40</td><td style=\"text-align: right;\">2</td><td style=\"text-align: right;\">0.50</td><td style=\"text-align: right;\">0</td><td style=\"text-align: right;\">0.00</td><td style=\"text-align: right;\">0</td><td style=\"text-align: right;\">0.00</td><td style=\"text-align: right;\">0</td><td style=\"text-align: right;\">0.00</td><td style=\"text-align: right;\">0</td><td style=\"text-align: right;\">0.00</td></tr>\n",
       "<tr class=\"even\"><td style=\"text-align: right;\">353814</td><td style=\"text-align: right;\">136,406,646</td><td style=\"text-align: right;\">31,432</td><td style=\"text-align: right;\">5</td><td style=\"text-align: right;\">1460</td><td style=\"text-align: right;\">0.02</td><td style=\"text-align: right;\">29</td><td style=\"text-align: right;\">1.00</td><td style=\"text-align: right;\">19</td><td style=\"text-align: right;\">3.26</td><td style=\"text-align: right;\">8</td><td style=\"text-align: right;\">4.40</td><td style=\"text-align: right;\">2</td><td style=\"text-align: right;\">0.50</td><td style=\"text-align: right;\">0</td><td style=\"text-align: right;\">0.00</td><td style=\"text-align: right;\">0</td><td style=\"text-align: right;\">0.00</td><td style=\"text-align: right;\">0</td><td style=\"text-align: right;\">0.00</td><td style=\"text-align: right;\">0</td><td style=\"text-align: right;\">0.00</td></tr>\n",
       "<tr><td style=\"text-align: right;\">353729</td><td style=\"text-align: right;\">136,309,239</td><td style=\"text-align: right;\">52,321</td><td style=\"text-align: right;\">9</td><td style=\"text-align: right;\">887</td><td style=\"text-align: right;\">0.03</td><td style=\"text-align: right;\">29</td><td style=\"text-align: right;\">1.00</td><td style=\"text-align: right;\">19</td><td style=\"text-align: right;\">3.26</td><td style=\"text-align: right;\">8</td><td style=\"text-align: right;\">4.40</td><td style=\"text-align: right;\">2</td><td style=\"text-align: right;\">0.50</td><td style=\"text-align: right;\">0</td><td style=\"text-align: right;\">0.00</td><td style=\"text-align: right;\">0</td><td style=\"text-align: right;\">0.00</td><td style=\"text-align: right;\">0</td><td style=\"text-align: right;\">0.00</td><td style=\"text-align: right;\">0</td><td style=\"text-align: right;\">0.00</td></tr>\n",
       "<tr class=\"even\"><td style=\"text-align: right;\">353851</td><td style=\"text-align: right;\">136,448,855</td><td style=\"text-align: right;\">17,976</td><td style=\"text-align: right;\">4</td><td style=\"text-align: right;\">612</td><td style=\"text-align: right;\">0.05</td><td style=\"text-align: right;\">29</td><td style=\"text-align: right;\">1.00</td><td style=\"text-align: right;\">19</td><td style=\"text-align: right;\">3.26</td><td style=\"text-align: right;\">8</td><td style=\"text-align: right;\">4.40</td><td style=\"text-align: right;\">2</td><td style=\"text-align: right;\">0.50</td><td style=\"text-align: right;\">0</td><td style=\"text-align: right;\">0.00</td><td style=\"text-align: right;\">0</td><td style=\"text-align: right;\">0.00</td><td style=\"text-align: right;\">0</td><td style=\"text-align: right;\">0.00</td><td style=\"text-align: right;\">0</td><td style=\"text-align: right;\">0.00</td></tr>\n",
       "<tr><td style=\"text-align: right;\">353764</td><td style=\"text-align: right;\">136,364,916</td><td style=\"text-align: right;\">22,977</td><td style=\"text-align: right;\">5</td><td style=\"text-align: right;\">588</td><td style=\"text-align: right;\">0.05</td><td style=\"text-align: right;\">29</td><td style=\"text-align: right;\">1.00</td><td style=\"text-align: right;\">19</td><td style=\"text-align: right;\">3.26</td><td style=\"text-align: right;\">8</td><td style=\"text-align: right;\">4.40</td><td style=\"text-align: right;\">2</td><td style=\"text-align: right;\">0.50</td><td style=\"text-align: right;\">0</td><td style=\"text-align: right;\">0.00</td><td style=\"text-align: right;\">0</td><td style=\"text-align: right;\">0.00</td><td style=\"text-align: right;\">0</td><td style=\"text-align: right;\">0.00</td><td style=\"text-align: right;\">0</td><td style=\"text-align: right;\">0.00</td></tr>\n",
       "<tr class=\"even\"><td style=\"text-align: right;\">354061</td><td style=\"text-align: right;\">136,603,638</td><td style=\"text-align: right;\">28,487</td><td style=\"text-align: right;\">16</td><td style=\"text-align: right;\">511</td><td style=\"text-align: right;\">0.03</td><td style=\"text-align: right;\">16</td><td style=\"text-align: right;\">0.55</td><td style=\"text-align: right;\">9</td><td style=\"text-align: right;\">2.79</td><td style=\"text-align: right;\">6</td><td style=\"text-align: right;\">5.98</td><td style=\"text-align: right;\">1</td><td style=\"text-align: right;\">0.45</td><td style=\"text-align: right;\">0</td><td style=\"text-align: right;\">0.00</td><td style=\"text-align: right;\">0</td><td style=\"text-align: right;\">0.00</td><td style=\"text-align: right;\">0</td><td style=\"text-align: right;\">0.00</td><td style=\"text-align: right;\">0</td><td style=\"text-align: right;\">0.00</td></tr>\n",
       "<tr><td style=\"text-align: right;\">353614</td><td style=\"text-align: right;\">136,115,507</td><td style=\"text-align: right;\">269,773</td><td style=\"text-align: right;\">28</td><td style=\"text-align: right;\">434</td><td style=\"text-align: right;\">0.07</td><td style=\"text-align: right;\">29</td><td style=\"text-align: right;\">1.00</td><td style=\"text-align: right;\">19</td><td style=\"text-align: right;\">3.26</td><td style=\"text-align: right;\">8</td><td style=\"text-align: right;\">4.40</td><td style=\"text-align: right;\">2</td><td style=\"text-align: right;\">0.50</td><td style=\"text-align: right;\">0</td><td style=\"text-align: right;\">0.00</td><td style=\"text-align: right;\">0</td><td style=\"text-align: right;\">0.00</td><td style=\"text-align: right;\">0</td><td style=\"text-align: right;\">0.00</td><td style=\"text-align: right;\">0</td><td style=\"text-align: right;\">0.00</td></tr>\n",
       "<tr class=\"even\"><td style=\"text-align: right;\">353804</td><td style=\"text-align: right;\">136,402,778</td><td style=\"text-align: right;\">90,652</td><td style=\"text-align: right;\">21</td><td style=\"text-align: right;\">332</td><td style=\"text-align: right;\">0.08</td><td style=\"text-align: right;\">26</td><td style=\"text-align: right;\">0.90</td><td style=\"text-align: right;\">17</td><td style=\"text-align: right;\">3.25</td><td style=\"text-align: right;\">7</td><td style=\"text-align: right;\">4.29</td><td style=\"text-align: right;\">2</td><td style=\"text-align: right;\">0.56</td><td style=\"text-align: right;\">0</td><td style=\"text-align: right;\">0.00</td><td style=\"text-align: right;\">0</td><td style=\"text-align: right;\">0.00</td><td style=\"text-align: right;\">0</td><td style=\"text-align: right;\">0.00</td><td style=\"text-align: right;\">0</td><td style=\"text-align: right;\">0.00</td></tr>\n",
       "<tr><td style=\"text-align: right;\">354057</td><td style=\"text-align: right;\">136,602,291</td><td style=\"text-align: right;\">27,696</td><td style=\"text-align: right;\">7</td><td style=\"text-align: right;\">226</td><td style=\"text-align: right;\">0.07</td><td style=\"text-align: right;\">16</td><td style=\"text-align: right;\">0.55</td><td style=\"text-align: right;\">9</td><td style=\"text-align: right;\">2.79</td><td style=\"text-align: right;\">6</td><td style=\"text-align: right;\">5.98</td><td style=\"text-align: right;\">1</td><td style=\"text-align: right;\">0.45</td><td style=\"text-align: right;\">0</td><td style=\"text-align: right;\">0.00</td><td style=\"text-align: right;\">0</td><td style=\"text-align: right;\">0.00</td><td style=\"text-align: right;\">0</td><td style=\"text-align: right;\">0.00</td><td style=\"text-align: right;\">0</td><td style=\"text-align: right;\">0.00</td></tr>\n",
       "<tr class=\"even\"><td style=\"text-align: right;\">353931</td><td style=\"text-align: right;\">136,509,361</td><td style=\"text-align: right;\">28,756</td><td style=\"text-align: right;\">11</td><td style=\"text-align: right;\">173</td><td style=\"text-align: right;\">0.09</td><td style=\"text-align: right;\">16</td><td style=\"text-align: right;\">0.55</td><td style=\"text-align: right;\">9</td><td style=\"text-align: right;\">2.79</td><td style=\"text-align: right;\">6</td><td style=\"text-align: right;\">5.98</td><td style=\"text-align: right;\">1</td><td style=\"text-align: right;\">0.45</td><td style=\"text-align: right;\">0</td><td style=\"text-align: right;\">0.00</td><td style=\"text-align: right;\">0</td><td style=\"text-align: right;\">0.00</td><td style=\"text-align: right;\">0</td><td style=\"text-align: right;\">0.00</td><td style=\"text-align: right;\">0</td><td style=\"text-align: right;\">0.00</td></tr>\n",
       "<tr><td style=\"text-align: right;\">353538</td><td style=\"text-align: right;\">136,008,173</td><td style=\"text-align: right;\">373,078</td><td style=\"text-align: right;\">70</td><td style=\"text-align: right;\">166</td><td style=\"text-align: right;\">0.16</td><td style=\"text-align: right;\">26</td><td style=\"text-align: right;\">0.90</td><td style=\"text-align: right;\">17</td><td style=\"text-align: right;\">3.25</td><td style=\"text-align: right;\">7</td><td style=\"text-align: right;\">4.29</td><td style=\"text-align: right;\">2</td><td style=\"text-align: right;\">0.56</td><td style=\"text-align: right;\">0</td><td style=\"text-align: right;\">0.00</td><td style=\"text-align: right;\">0</td><td style=\"text-align: right;\">0.00</td><td style=\"text-align: right;\">0</td><td style=\"text-align: right;\">0.00</td><td style=\"text-align: right;\">0</td><td style=\"text-align: right;\">0.00</td></tr>\n",
       "<tr class=\"even\"><td style=\"text-align: right;\">354036</td><td style=\"text-align: right;\">136,589,521</td><td style=\"text-align: right;\">52,491</td><td style=\"text-align: right;\">17</td><td style=\"text-align: right;\">127</td><td style=\"text-align: right;\">0.13</td><td style=\"text-align: right;\">16</td><td style=\"text-align: right;\">0.55</td><td style=\"text-align: right;\">9</td><td style=\"text-align: right;\">2.79</td><td style=\"text-align: right;\">6</td><td style=\"text-align: right;\">5.98</td><td style=\"text-align: right;\">1</td><td style=\"text-align: right;\">0.45</td><td style=\"text-align: right;\">0</td><td style=\"text-align: right;\">0.00</td><td style=\"text-align: right;\">0</td><td style=\"text-align: right;\">0.00</td><td style=\"text-align: right;\">0</td><td style=\"text-align: right;\">0.00</td><td style=\"text-align: right;\">0</td><td style=\"text-align: right;\">0.00</td></tr>\n",
       "<tr><td style=\"text-align: right;\">353910</td><td style=\"text-align: right;\">136,497,006</td><td style=\"text-align: right;\">91,732</td><td style=\"text-align: right;\">19</td><td style=\"text-align: right;\">77</td><td style=\"text-align: right;\">0.21</td><td style=\"text-align: right;\">16</td><td style=\"text-align: right;\">0.55</td><td style=\"text-align: right;\">9</td><td style=\"text-align: right;\">2.79</td><td style=\"text-align: right;\">6</td><td style=\"text-align: right;\">5.98</td><td style=\"text-align: right;\">1</td><td style=\"text-align: right;\">0.45</td><td style=\"text-align: right;\">0</td><td style=\"text-align: right;\">0.00</td><td style=\"text-align: right;\">0</td><td style=\"text-align: right;\">0.00</td><td style=\"text-align: right;\">0</td><td style=\"text-align: right;\">0.00</td><td style=\"text-align: right;\">0</td><td style=\"text-align: right;\">0.00</td></tr>\n",
       "<tr class=\"even\"><td style=\"text-align: right;\">353581</td><td style=\"text-align: right;\">136,056,699</td><td style=\"text-align: right;\">377,203</td><td style=\"text-align: right;\">5</td><td style=\"text-align: right;\">69</td><td style=\"text-align: right;\">0.36</td><td style=\"text-align: right;\">25</td><td style=\"text-align: right;\">0.86</td><td style=\"text-align: right;\">16</td><td style=\"text-align: right;\">3.18</td><td style=\"text-align: right;\">7</td><td style=\"text-align: right;\">4.47</td><td style=\"text-align: right;\">2</td><td style=\"text-align: right;\">0.58</td><td style=\"text-align: right;\">0</td><td style=\"text-align: right;\">0.00</td><td style=\"text-align: right;\">0</td><td style=\"text-align: right;\">0.00</td><td style=\"text-align: right;\">0</td><td style=\"text-align: right;\">0.00</td><td style=\"text-align: right;\">0</td><td style=\"text-align: right;\">0.00</td></tr>\n",
       "<tr><td style=\"text-align: right;\">353563</td><td style=\"text-align: right;\">136,033,448</td><td style=\"text-align: right;\">378,721</td><td style=\"text-align: right;\">7</td><td style=\"text-align: right;\">34</td><td style=\"text-align: right;\">0.76</td><td style=\"text-align: right;\">26</td><td style=\"text-align: right;\">0.90</td><td style=\"text-align: right;\">17</td><td style=\"text-align: right;\">3.25</td><td style=\"text-align: right;\">7</td><td style=\"text-align: right;\">4.29</td><td style=\"text-align: right;\">2</td><td style=\"text-align: right;\">0.56</td><td style=\"text-align: right;\">0</td><td style=\"text-align: right;\">0.00</td><td style=\"text-align: right;\">0</td><td style=\"text-align: right;\">0.00</td><td style=\"text-align: right;\">0</td><td style=\"text-align: right;\">0.00</td><td style=\"text-align: right;\">0</td><td style=\"text-align: right;\">0.00</td></tr>\n",
       "<tr class=\"even\"><td style=\"text-align: right;\">354101</td><td style=\"text-align: right;\">136,633,976</td><td style=\"text-align: right;\">108,844</td><td style=\"text-align: right;\">6</td><td style=\"text-align: right;\">27</td><td style=\"text-align: right;\">0.59</td><td style=\"text-align: right;\">16</td><td style=\"text-align: right;\">0.55</td><td style=\"text-align: right;\">9</td><td style=\"text-align: right;\">2.79</td><td style=\"text-align: right;\">6</td><td style=\"text-align: right;\">5.98</td><td style=\"text-align: right;\">1</td><td style=\"text-align: right;\">0.45</td><td style=\"text-align: right;\">0</td><td style=\"text-align: right;\">0.00</td><td style=\"text-align: right;\">0</td><td style=\"text-align: right;\">0.00</td><td style=\"text-align: right;\">0</td><td style=\"text-align: right;\">0.00</td><td style=\"text-align: right;\">0</td><td style=\"text-align: right;\">0.00</td></tr>\n",
       "<tr><td style=\"text-align: right;\">353496</td><td style=\"text-align: right;\">135,956,166</td><td style=\"text-align: right;\">528,513</td><td style=\"text-align: right;\">25</td><td style=\"text-align: right;\">27</td><td style=\"text-align: right;\">0.93</td><td style=\"text-align: right;\">25</td><td style=\"text-align: right;\">0.86</td><td style=\"text-align: right;\">16</td><td style=\"text-align: right;\">3.18</td><td style=\"text-align: right;\">7</td><td style=\"text-align: right;\">4.47</td><td style=\"text-align: right;\">2</td><td style=\"text-align: right;\">0.58</td><td style=\"text-align: right;\">0</td><td style=\"text-align: right;\">0.00</td><td style=\"text-align: right;\">0</td><td style=\"text-align: right;\">0.00</td><td style=\"text-align: right;\">0</td><td style=\"text-align: right;\">0.00</td><td style=\"text-align: right;\">0</td><td style=\"text-align: right;\">0.00</td></tr>\n",
       "</table>"
      ],
      "text/plain": [
       "<IPython.core.display.HTML object>"
      ]
     },
     "execution_count": 26,
     "metadata": {},
     "output_type": "execute_result"
    }
   ],
   "source": [
    "HTML(plt_obj.get_html())"
   ]
  },
  {
   "cell_type": "code",
   "execution_count": 27,
   "metadata": {
    "collapsed": false
   },
   "outputs": [
    {
     "data": {
      "text/plain": [
       "array([(114, 1), (115, 2), (116, 1), (117, 25)], \n",
       "      dtype=[('count', '<u2'), ('snps', '<u2')])"
      ]
     },
     "execution_count": 27,
     "metadata": {},
     "output_type": "execute_result"
    }
   ],
   "source": [
    "an.sa_117_1685.unique_snps_per_allele(am1)"
   ]
  },
  {
   "cell_type": "code",
   "execution_count": 28,
   "metadata": {
    "collapsed": false
   },
   "outputs": [
    {
     "data": {
      "text/plain": [
       "array([(115, 24), (116, 2), (121, 1), (122, 1), (123, 1)], \n",
       "      dtype=[('count', '<u2'), ('snps', '<u2')])"
      ]
     },
     "execution_count": 28,
     "metadata": {},
     "output_type": "execute_result"
    }
   ],
   "source": [
    "an.sa_123_1561.unique_snps_per_allele(am1)"
   ]
  },
  {
   "cell_type": "code",
   "execution_count": 29,
   "metadata": {
    "collapsed": false
   },
   "outputs": [
    {
     "data": {
      "text/plain": [
       "array([(0, 135933921L, 24), (1, 135939824L, 24), (2, 135941503L, 24),\n",
       "       (3, 135943900L, 24), (4, 135945474L, 24), (5, 135949715L, 24),\n",
       "       (6, 135956745L, 24), (7, 135958693L, 24), (8, 135967778L, 24),\n",
       "       (9, 135972093L, 24), (10, 135973768L, 24), (11, 135976498L, 24),\n",
       "       (12, 135978428L, 24), (13, 135990031L, 24), (14, 135992481L, 24),\n",
       "       (15, 135993925L, 24), (16, 135994838L, 24), (17, 136000253L, 0),\n",
       "       (18, 136003567L, 24), (19, 136005477L, 24), (20, 136005971L, 0),\n",
       "       (21, 136020977L, 24), (22, 136027535L, 24), (23, 136031588L, 0),\n",
       "       (24, 136032905L, 24), (25, 136042480L, 24), (26, 136043885L, 24),\n",
       "       (27, 136050471L, 24), (28, 136052898L, 24), (29, 136054815L, 24),\n",
       "       (30, 136056285L, 24), (31, 136061560L, 24), (32, 136063685L, 0),\n",
       "       (33, 136069060L, 24), (34, 136072179L, 24), (35, 136074233L, 24),\n",
       "       (36, 136080721L, 24), (37, 136080822L, 24), (38, 136088440L, 24),\n",
       "       (39, 136088643L, 24), (40, 136092416L, 24), (41, 136092869L, 24),\n",
       "       (42, 136094615L, 24), (43, 136095505L, 24), (44, 136095604L, 24),\n",
       "       (45, 136096766L, 24), (46, 136097091L, 24), (47, 136097394L, 24),\n",
       "       (48, 136100243L, 24), (49, 136101823L, 24), (50, 136106561L, 24),\n",
       "       (51, 136115501L, 24), (52, 136122622L, 24), (53, 136123014L, 24),\n",
       "       (54, 136123848L, 24), (55, 136127100L, 24), (56, 136127950L, 24),\n",
       "       (57, 136128630L, 24), (58, 136129630L, 24), (59, 136129791L, 24),\n",
       "       (60, 136131324L, 24), (61, 136135383L, 0), (62, 136135994L, 24),\n",
       "       (63, 136136224L, 24), (64, 136136366L, 24), (65, 136136440L, 24),\n",
       "       (66, 136138145L, 24), (67, 136140568L, 24), (68, 136145882L, 24),\n",
       "       (69, 136147948L, 24), (70, 136148630L, 24), (71, 136151485L, 24),\n",
       "       (72, 136152802L, 24), (73, 136156753L, 24), (74, 136157913L, 24),\n",
       "       (75, 136160902L, 24), (76, 136165765L, 24), (77, 136171649L, 24),\n",
       "       (78, 136173220L, 24), (79, 136173735L, 0), (80, 136174552L, 24),\n",
       "       (81, 136175692L, 24), (82, 136176805L, 24), (83, 136182484L, 24),\n",
       "       (84, 136183188L, 0), (85, 136187252L, 24), (86, 136187345L, 24),\n",
       "       (87, 136189475L, 24), (88, 136197702L, 24), (89, 136198435L, 24),\n",
       "       (90, 136202937L, 24), (91, 136219999L, 24), (92, 136221500L, 24),\n",
       "       (93, 136226626L, 24), (94, 136228929L, 24), (95, 136229598L, 24),\n",
       "       (96, 136238270L, 24), (97, 136238346L, 24), (98, 136240769L, 24),\n",
       "       (99, 136244171L, 24), (100, 136249245L, 24), (101, 136250285L, 24),\n",
       "       (102, 136254419L, 24), (103, 136266241L, 24), (104, 136267808L, 24),\n",
       "       (105, 136272074L, 0), (106, 136277304L, 24), (107, 136290607L, 24),\n",
       "       (108, 136290663L, 24), (109, 136291310L, 24), (110, 136296051L, 24),\n",
       "       (111, 136305392L, 24), (112, 136306890L, 24), (113, 136310803L, 24),\n",
       "       (114, 136324225L, 24), (115, 136324465L, 24), (116, 136327305L, 24),\n",
       "       (117, 136329618L, 24), (118, 136333300L, 24), (119, 136350089L, 24),\n",
       "       (120, 136354204L, 24), (121, 136360455L, 24), (122, 136368563L, 24)], \n",
       "      dtype=[('index', '<u2'), ('pos', '<u4'), ('snp_count', '<u2')])"
      ]
     },
     "execution_count": 29,
     "metadata": {},
     "output_type": "execute_result"
    }
   ],
   "source": [
    "tf = an.snp_anal.series_fragment_finder_cls(an.sa_123_1561, am1)\n",
    "data = tf.alleles_per_snp_from_count(115)\n",
    "tf.aps_with_pos(data)"
   ]
  },
  {
   "cell_type": "code",
   "execution_count": 30,
   "metadata": {
    "collapsed": false
   },
   "outputs": [
    {
     "data": {
      "text/plain": [
       "array([24, 24, 24, 24, 24, 24, 24, 24, 24, 24, 24, 24, 24, 24, 24, 24, 24,\n",
       "        0, 24, 24,  0, 24, 24,  0, 24, 24, 24, 24, 24, 24, 24, 24,  0, 24,\n",
       "       24, 24, 24, 24, 24, 24, 24, 24, 24, 24, 24, 24, 24, 24, 24, 24, 24,\n",
       "       24, 24, 24, 24, 24, 24, 24, 24, 24, 24,  0, 24, 24, 24, 24, 24, 24,\n",
       "       24, 24, 24, 24, 24, 24, 24, 24, 24, 24, 24,  0, 24, 24, 24, 24,  0,\n",
       "       24, 24, 24, 24, 24, 24, 24, 24, 24, 24, 24, 24, 24, 24, 24, 24, 24,\n",
       "       24, 24, 24,  0, 24, 24, 24, 24, 24, 24, 24, 24, 24, 24, 24, 24, 24,\n",
       "       24, 24, 24, 24])"
      ]
     },
     "execution_count": 30,
     "metadata": {},
     "output_type": "execute_result"
    }
   ],
   "source": [
    "spa1_115, am1_115 = an.sa_123_1561.snps_from_aps_value(115, am1)\n",
    "spa1_115"
   ]
  },
  {
   "cell_type": "code",
   "execution_count": 31,
   "metadata": {
    "collapsed": false
   },
   "outputs": [
    {
     "data": {
      "text/html": [
       "\n",
       "\n",
       "    <div class=\"bk-root\">\n",
       "        <div class=\"plotdiv\" id=\"bd1ec8c5-8ef9-4b5a-a035-1e347868c5dc\"></div>\n",
       "    </div>\n",
       "<script type=\"text/javascript\">\n",
       "  \n",
       "  (function(global) {\n",
       "    function now() {\n",
       "      return new Date();\n",
       "    }\n",
       "  \n",
       "    if (typeof (window._bokeh_onload_callbacks) === \"undefined\") {\n",
       "      window._bokeh_onload_callbacks = [];\n",
       "    }\n",
       "  \n",
       "    function run_callbacks() {\n",
       "      window._bokeh_onload_callbacks.forEach(function(callback) { callback() });\n",
       "      delete window._bokeh_onload_callbacks\n",
       "      console.info(\"Bokeh: all callbacks have finished\");\n",
       "    }\n",
       "  \n",
       "    function load_libs(js_urls, callback) {\n",
       "      window._bokeh_onload_callbacks.push(callback);\n",
       "      if (window._bokeh_is_loading > 0) {\n",
       "        console.log(\"Bokeh: BokehJS is being loaded, scheduling callback at\", now());\n",
       "        return null;\n",
       "      }\n",
       "      if (js_urls == null || js_urls.length === 0) {\n",
       "        run_callbacks();\n",
       "        return null;\n",
       "      }\n",
       "      console.log(\"Bokeh: BokehJS not loaded, scheduling load and callback at\", now());\n",
       "      window._bokeh_is_loading = js_urls.length;\n",
       "      for (var i = 0; i < js_urls.length; i++) {\n",
       "        var url = js_urls[i];\n",
       "        var s = document.createElement('script');\n",
       "        s.src = url;\n",
       "        s.async = false;\n",
       "        s.onreadystatechange = s.onload = function() {\n",
       "          window._bokeh_is_loading--;\n",
       "          if (window._bokeh_is_loading === 0) {\n",
       "            console.log(\"Bokeh: all BokehJS libraries loaded\");\n",
       "            run_callbacks()\n",
       "          }\n",
       "        };\n",
       "        s.onerror = function() {\n",
       "          console.warn(\"failed to load library \" + url);\n",
       "        };\n",
       "        console.log(\"Bokeh: injecting script tag for BokehJS library: \", url);\n",
       "        document.getElementsByTagName(\"head\")[0].appendChild(s);\n",
       "      }\n",
       "    };var element = document.getElementById(\"bd1ec8c5-8ef9-4b5a-a035-1e347868c5dc\");\n",
       "    if (element == null) {\n",
       "      console.log(\"Bokeh: ERROR: autoload.js configured with elementid 'bd1ec8c5-8ef9-4b5a-a035-1e347868c5dc' but no matching script tag was found. \")\n",
       "      return false;\n",
       "    }\n",
       "  \n",
       "    var js_urls = [];\n",
       "  \n",
       "    var inline_js = [\n",
       "      function(Bokeh) {\n",
       "        Bokeh.$(function() {\n",
       "            var docs_json = {\"28bdb1cb-41d2-4245-aef3-64c3ff5a519a\":{\"roots\":{\"references\":[{\"attributes\":{\"plot\":null,\"text\":null},\"id\":\"c9b1a396-37e9-4d19-baa3-db8b040274c7\",\"type\":\"Title\"},{\"attributes\":{},\"id\":\"0e924f27-6e6d-4899-bf70-3a5e7b507d8c\",\"type\":\"BasicTicker\"},{\"attributes\":{\"callback\":null,\"column_names\":[\"y\",\"x\",\"vals\"],\"data\":{\"vals\":[\"117_1685\",\"123_1561\",\"25_27\",\"70_166\",\"7_34\",\"5_69\",\"28_434\",\"9_887\",\"5_588\",\"21_332\",\"5_1460\",\"4_612\",\"19_77\",\"11_173\",\"7_1760\",\"17_127\",\"7_226\",\"16_511\",\"6_27\",\"7_1868\"],\"x\":[135758231,135933921,135956166,136008173,136033448,136056699,136115507,136309239,136364916,136402778,136406646,136448855,136497006,136509361,136588031,136589521,136602291,136603638,136633976,136682274],\"y\":[901.0,800.0,65.0,381.0,167.0,273.0,489.0,695.0,592.0,487.0,800.0,692.0,374.0,481.0,901.0,378.0,483.0,590.0,165.0,902.0]}},\"id\":\"ae639f97-7c7f-4eb5-966f-91334e9d2667\",\"type\":\"ColumnDataSource\"},{\"attributes\":{\"bottom\":{\"field\":\"bottom\"},\"fill_color\":{\"value\":\"white\"},\"left\":{\"field\":\"left\"},\"right\":{\"field\":\"right\"},\"top\":{\"field\":\"top\"}},\"id\":\"ac87152f-0ff4-467b-bb28-9c2931676374\",\"type\":\"Quad\"},{\"attributes\":{\"plot\":{\"id\":\"128b1390-36f6-4fda-8730-647df955218f\",\"subtype\":\"Figure\",\"type\":\"Plot\"},\"ticker\":{\"id\":\"b2d49cbd-9f70-4014-942a-eb0641cec202\",\"type\":\"BasicTicker\"}},\"id\":\"db693923-80ac-4602-849b-2d8007776e49\",\"type\":\"Grid\"},{\"attributes\":{\"data_source\":{\"id\":\"a6d3b361-62e0-4037-91b2-0c52010ddb97\",\"type\":\"ColumnDataSource\"},\"glyph\":{\"id\":\"d0ca4db6-8b34-4d3f-a1f2-82e2fdf2a5b4\",\"type\":\"MultiLine\"},\"hover_glyph\":null,\"nonselection_glyph\":{\"id\":\"d6118f81-61ae-48ad-975f-669aac793524\",\"type\":\"MultiLine\"},\"selection_glyph\":null},\"id\":\"2d89115b-3ddd-42c3-83d1-12c367a1b9ee\",\"type\":\"GlyphRenderer\"},{\"attributes\":{\"data_source\":{\"id\":\"3f30c3fc-9fd8-4998-b7f6-e976807ebe7e\",\"type\":\"ColumnDataSource\"},\"glyph\":{\"id\":\"ac87152f-0ff4-467b-bb28-9c2931676374\",\"type\":\"Quad\"},\"hover_glyph\":null,\"nonselection_glyph\":{\"id\":\"0f9f6d34-7a90-4db4-b62b-ed1c0a955562\",\"type\":\"Quad\"},\"selection_glyph\":null},\"id\":\"a69f40ba-3709-4aaf-9664-791983191964\",\"type\":\"GlyphRenderer\"},{\"attributes\":{\"line_alpha\":{\"value\":0.1},\"line_color\":{\"value\":\"#1f77b4\"},\"xs\":{\"field\":\"xs\"},\"ys\":{\"field\":\"ys\"}},\"id\":\"d6118f81-61ae-48ad-975f-669aac793524\",\"type\":\"MultiLine\"},{\"attributes\":{\"callback\":null,\"column_names\":[\"right\",\"bottom\",\"top\",\"left\"],\"data\":{\"bottom\":[945,945,945,945,945,945,945],\"left\":[135809835,135957574,136289083,136499189,136545415,136597196,136664254],\"right\":[135928279,136288182,136482839,136542633,136594750,136634047,136743222],\"top\":[975,975,975,975,975,975,975]}},\"id\":\"3f30c3fc-9fd8-4998-b7f6-e976807ebe7e\",\"type\":\"ColumnDataSource\"},{\"attributes\":{\"overlay\":{\"id\":\"568208a1-7ae9-440e-8962-34eafc80a590\",\"type\":\"BoxAnnotation\"},\"plot\":{\"id\":\"128b1390-36f6-4fda-8730-647df955218f\",\"subtype\":\"Figure\",\"type\":\"Plot\"}},\"id\":\"917a5145-0637-4389-ad11-8d54fe8ac685\",\"type\":\"BoxZoomTool\"},{\"attributes\":{\"callback\":null,\"column_names\":[\"xs\",\"ys\",\"line_color\"],\"data\":{\"line_color\":[\"black\",\"black\",\"black\",\"black\",\"black\",\"black\",\"black\",\"black\",\"black\",\"black\",\"black\",\"black\",\"black\",\"black\",\"black\",\"black\",\"black\",\"black\",\"black\",\"black\",\"black\",\"black\",\"black\",\"black\",\"black\",\"black\",\"black\",\"black\",\"black\",\"black\",\"black\",\"black\",\"black\",\"black\",\"black\",\"black\",\"black\",\"black\",\"black\",\"black\",\"black\",\"black\",\"black\",\"black\",\"black\",\"black\",\"black\",\"black\",\"black\",\"black\",\"black\",\"black\",\"black\",\"black\",\"black\",\"black\",\"black\",\"black\",\"black\",\"black\",\"black\",\"black\",\"black\",\"black\",\"black\",\"black\",\"black\",\"black\",\"black\",\"black\",\"black\",\"black\",\"black\",\"black\",\"black\",\"black\",\"black\",\"black\",\"black\",\"black\",\"black\",\"black\",\"black\",\"black\",\"black\",\"black\",\"black\",\"black\",\"black\",\"black\",\"black\",\"black\",\"black\",\"black\",\"black\",\"black\",\"black\",\"black\",\"black\",\"black\",\"black\",\"black\",\"black\",\"black\",\"black\",\"black\",\"black\",\"black\",\"black\",\"black\",\"black\",\"black\",\"black\",\"black\",\"black\",\"black\",\"black\",\"black\",\"black\",\"black\",\"black\",\"black\",\"black\",\"black\",\"black\",\"black\",\"black\",\"black\",\"black\",\"black\",\"black\",\"black\",\"black\",\"black\",\"black\",\"black\",\"black\",\"black\",\"black\",\"black\",\"black\",\"black\",\"black\",\"black\",\"black\",\"black\",\"black\",\"black\",\"black\",\"black\",\"black\",\"black\",\"black\",\"black\",\"black\",\"black\",\"black\",\"black\",\"black\",\"black\",\"black\",\"black\",\"black\",\"black\",\"black\",\"black\",\"black\",\"black\",\"black\",\"black\",\"black\",\"black\",\"black\",\"black\",\"black\",\"black\",\"black\",\"black\",\"black\",\"black\",\"black\",\"black\",\"black\",\"black\",\"black\",\"black\",\"black\",\"black\",\"black\",\"black\",\"black\",\"black\",\"black\",\"black\",\"black\",\"black\",\"black\",\"black\",\"black\",\"black\",\"black\",\"black\",\"black\",\"black\",\"black\",\"black\",\"black\",\"black\",\"black\",\"black\",\"black\",\"black\",\"black\",\"black\",\"black\",\"black\",\"black\",\"black\",\"black\",\"black\",\"black\",\"black\",\"black\",\"black\",\"black\",\"black\",\"black\",\"black\",\"black\",\"black\",\"black\",\"black\",\"black\",\"black\",\"black\",\"black\",\"black\",\"black\",\"black\",\"black\",\"black\",\"black\",\"black\",\"black\",\"black\",\"black\",\"black\",\"black\",\"black\",\"black\",\"black\",\"black\",\"black\",\"black\",\"black\",\"black\",\"black\",\"black\",\"black\",\"black\",\"black\",\"black\",\"black\",\"black\",\"black\",\"black\",\"black\",\"black\",\"black\",\"black\",\"black\",\"black\",\"black\",\"black\",\"black\",\"black\",\"black\",\"black\",\"black\",\"black\",\"black\",\"black\",\"black\",\"black\",\"black\",\"black\",\"black\",\"black\",\"black\",\"black\",\"black\",\"black\",\"black\",\"black\",\"black\",\"black\",\"black\",\"black\",\"black\",\"black\",\"black\",\"black\",\"black\",\"black\",\"black\",\"black\",\"black\",\"black\",\"black\",\"black\",\"black\",\"black\",\"black\",\"black\",\"black\",\"black\",\"black\",\"black\",\"black\",\"black\",\"black\",\"black\",\"black\",\"black\",\"black\",\"black\",\"black\",\"black\",\"black\",\"black\",\"black\",\"black\",\"black\",\"black\",\"black\",\"black\",\"black\",\"black\",\"black\",\"black\",\"black\",\"black\",\"black\",\"black\",\"black\",\"black\",\"black\",\"black\",\"black\",\"black\",\"black\",\"black\",\"black\",\"black\",\"black\",\"black\",\"black\",\"black\",\"black\",\"black\",\"black\",\"black\",\"black\",\"black\",\"black\",\"black\",\"black\",\"black\",\"black\",\"black\",\"black\",\"black\",\"black\",\"black\",\"black\",\"black\",\"black\",\"black\",\"black\",\"black\",\"black\",\"black\",\"black\",\"black\",\"black\",\"black\",\"black\",\"black\",\"black\",\"black\",\"black\",\"black\",\"black\",\"black\",\"black\",\"black\",\"black\",\"black\",\"black\",\"black\",\"black\",\"black\",\"black\",\"black\",\"black\",\"black\",\"black\",\"black\",\"black\",\"black\",\"black\",\"black\",\"black\",\"black\",\"black\",\"black\",\"black\",\"black\",\"black\",\"black\",\"black\",\"black\",\"black\",\"black\",\"black\",\"black\",\"black\",\"black\",\"black\",\"black\",\"black\",\"black\",\"black\",\"black\",\"black\",\"black\",\"black\",\"black\",\"black\",\"black\",\"black\",\"black\",\"black\",\"black\",\"black\",\"black\",\"black\",\"black\",\"black\",\"black\",\"black\",\"black\",\"black\",\"black\",\"black\",\"black\",\"black\",\"black\",\"black\",\"black\",\"black\",\"black\",\"black\",\"black\",\"black\",\"black\",\"black\",\"black\",\"black\",\"black\",\"black\",\"black\",\"black\",\"black\",\"black\",\"black\",\"black\",\"black\",\"black\",\"black\",\"black\",\"black\",\"black\",\"black\",\"black\",\"black\",\"black\",\"black\",\"black\",\"black\",\"black\",\"black\",\"black\",\"black\",\"black\",\"black\",\"black\",\"black\",\"black\",\"black\",\"black\",\"black\",\"black\",\"black\",\"black\",\"black\",\"black\",\"black\",\"black\"],\"xs\":[[135758231,135758231],[135758520,135758520],[135766072,135766072],[135773420,135773420],[135773446,135773446],[135773617,135773617],[135773692,135773692],[135774681,135774681],[135775049,135775049],[135776430,135776430],[135778656,135778656],[135780168,135780168],[135780587,135780587],[135781301,135781301],[135781522,135781522],[135781635,135781635],[135782456,135782456],[135783157,135783157],[135783366,135783366],[135783367,135783367],[135784227,135784227],[135784733,135784733],[135785066,135785066],[135785068,135785068],[135785149,135785149],[135787148,135787148],[135787642,135787642],[135789405,135789405],[135789472,135789472],[135789682,135789682],[135789784,135789784],[135792338,135792338],[135792528,135792528],[135793565,135793565],[135793684,135793684],[135793845,135793845],[135794367,135794367],[135794986,135794986],[135795040,135795040],[135795095,135795095],[135795150,135795150],[135795385,135795385],[135795396,135795396],[135795443,135795443],[135795595,135795595],[135796000,135796000],[135796155,135796155],[135796410,135796410],[135796965,135796965],[135797223,135797223],[135797747,135797747],[135798082,135798082],[135798758,135798758],[135799082,135799082],[135800085,135800085],[135800601,135800601],[135800757,135800757],[135801228,135801228],[135801956,135801956],[135802020,135802020],[135802028,135802028],[135802050,135802050],[135802148,135802148],[135803766,135803766],[135809241,135809241],[135812969,135812969],[135814716,135814716],[135818907,135818907],[135829432,135829432],[135832131,135832131],[135849613,135849613],[135853807,135853807],[135859923,135859923],[135860305,135860305],[135861497,135861497],[135863143,135863143],[135864294,135864294],[135871624,135871624],[135872646,135872646],[135874038,135874038],[135874622,135874622],[135878814,135878814],[135880013,135880013],[135884487,135884487],[135885357,135885357],[135893853,135893853],[135895809,135895809],[135895879,135895879],[135899069,135899069],[135909462,135909462],[135912977,135912977],[135914038,135914038],[135921839,135921839],[135925002,135925002],[135928312,135928312],[135935049,135935049],[135962711,135962711],[135984172,135984172],[135994753,135994753],[135994754,135994754],[136016079,136016079],[136027264,136027264],[136052004,136052004],[136100473,136100473],[136110129,136110129],[136166536,136166536],[136169799,136169799],[136191314,136191314],[136228887,136228887],[136238453,136238453],[136288273,136288273],[136292425,136292425],[136321951,136321951],[136324564,136324564],[136327299,136327299],[136327302,136327302],[136376515,136376515],[135933921,135933921],[135939824,135939824],[135941503,135941503],[135943900,135943900],[135945474,135945474],[135949715,135949715],[135956745,135956745],[135958693,135958693],[135967778,135967778],[135972093,135972093],[135973768,135973768],[135976498,135976498],[135978428,135978428],[135990031,135990031],[135992481,135992481],[135993925,135993925],[135994838,135994838],[136000253,136000253],[136003567,136003567],[136005477,136005477],[136005971,136005971],[136020977,136020977],[136027535,136027535],[136031588,136031588],[136032905,136032905],[136042480,136042480],[136043885,136043885],[136050471,136050471],[136052898,136052898],[136054815,136054815],[136056285,136056285],[136061560,136061560],[136063685,136063685],[136069060,136069060],[136072179,136072179],[136074233,136074233],[136080721,136080721],[136080822,136080822],[136088440,136088440],[136088643,136088643],[136092416,136092416],[136092869,136092869],[136094615,136094615],[136095505,136095505],[136095604,136095604],[136096766,136096766],[136097091,136097091],[136097394,136097394],[136100243,136100243],[136101823,136101823],[136106561,136106561],[136115501,136115501],[136122622,136122622],[136123014,136123014],[136123848,136123848],[136127100,136127100],[136127950,136127950],[136128630,136128630],[136129630,136129630],[136129791,136129791],[136131324,136131324],[136135383,136135383],[136135994,136135994],[136136224,136136224],[136136366,136136366],[136136440,136136440],[136138145,136138145],[136140568,136140568],[136145882,136145882],[136147948,136147948],[136148630,136148630],[136151485,136151485],[136152802,136152802],[136156753,136156753],[136157913,136157913],[136160902,136160902],[136165765,136165765],[136171649,136171649],[136173220,136173220],[136173735,136173735],[136174552,136174552],[136175692,136175692],[136176805,136176805],[136182484,136182484],[136183188,136183188],[136187252,136187252],[136187345,136187345],[136189475,136189475],[136197702,136197702],[136198435,136198435],[136202937,136202937],[136219999,136219999],[136221500,136221500],[136226626,136226626],[136228929,136228929],[136229598,136229598],[136238270,136238270],[136238346,136238346],[136240769,136240769],[136244171,136244171],[136249245,136249245],[136250285,136250285],[136254419,136254419],[136266241,136266241],[136267808,136267808],[136272074,136272074],[136277304,136277304],[136290607,136290607],[136290663,136290663],[136291310,136291310],[136296051,136296051],[136305392,136305392],[136306890,136306890],[136310803,136310803],[136324225,136324225],[136324465,136324465],[136327305,136327305],[136329618,136329618],[136333300,136333300],[136350089,136350089],[136354204,136354204],[136360455,136360455],[136368563,136368563],[135956166,135956166],[135981152,135981152],[136024681,136024681],[136038077,136038077],[136097226,136097226],[136101953,136101953],[136105148,136105148],[136106696,136106696],[136144471,136144471],[136165664,136165664],[136181766,136181766],[136254791,136254791],[136272424,136272424],[136285987,136285987],[136297654,136297654],[136301099,136301099],[136332306,136332306],[136342800,136342800],[136370517,136370517],[136378974,136378974],[136390282,136390282],[136406419,136406419],[136440339,136440339],[136481338,136481338],[136484679,136484679],[136008173,136008173],[136008446,136008446],[136014236,136014236],[136036997,136036997],[136037702,136037702],[136040078,136040078],[136046601,136046601],[136048235,136048235],[136050624,136050624],[136051458,136051458],[136053800,136053800],[136069666,136069666],[136070320,136070320],[136071268,136071268],[136085307,136085307],[136107478,136107478],[136116965,136116965],[136119487,136119487],[136133726,136133726],[136136964,136136964],[136137013,136137013],[136141365,136141365],[136151898,136151898],[136153771,136153771],[136157319,136157319],[136157786,136157786],[136160634,136160634],[136161546,136161546],[136161613,136161613],[136163239,136163239],[136166288,136166288],[136171078,136171078],[136174848,136174848],[136177152,136177152],[136188784,136188784],[136191498,136191498],[136192069,136192069],[136192914,136192914],[136202038,136202038],[136206988,136206988],[136208169,136208169],[136211700,136211700],[136214800,136214800],[136223293,136223293],[136238330,136238330],[136242667,136242667],[136249834,136249834],[136255405,136255405],[136261219,136261219],[136264924,136264924],[136265494,136265494],[136267386,136267386],[136267415,136267415],[136277320,136277320],[136279720,136279720],[136279756,136279756],[136283113,136283113],[136299020,136299020],[136304442,136304442],[136308679,136308679],[136319192,136319192],[136324543,136324543],[136330131,136330131],[136347919,136347919],[136353065,136353065],[136360339,136360339],[136370954,136370954],[136371399,136371399],[136376994,136376994],[136381251,136381251],[136033448,136033448],[136045628,136045628],[136081974,136081974],[136220746,136220746],[136322033,136322033],[136376416,136376416],[136412169,136412169],[136056699,136056699],[136316658,136316658],[136390794,136390794],[136421460,136421460],[136433902,136433902],[136115507,136115507],[136133627,136133627],[136135820,136135820],[136145676,136145676],[136166014,136166014],[136173684,136173684],[136176031,136176031],[136214307,136214307],[136215590,136215590],[136219265,136219265],[136219831,136219831],[136289471,136289471],[136298739,136298739],[136302296,136302296],[136302897,136302897],[136348702,136348702],[136348964,136348964],[136358707,136358707],[136359608,136359608],[136360402,136360402],[136365624,136365624],[136366970,136366970],[136367871,136367871],[136368393,136368393],[136370701,136370701],[136378539,136378539],[136378895,136378895],[136385280,136385280],[136309239,136309239],[136322472,136322472],[136323787,136323787],[136323862,136323862],[136326765,136326765],[136329500,136329500],[136331657,136331657],[136345356,136345356],[136361560,136361560],[136364916,136364916],[136369497,136369497],[136369580,136369580],[136380846,136380846],[136387893,136387893],[136402778,136402778],[136402779,136402779],[136402780,136402780],[136402781,136402781],[136403272,136403272],[136406356,136406356],[136407068,136407068],[136414770,136414770],[136415861,136415861],[136416407,136416407],[136420009,136420009],[136429439,136429439],[136438468,136438468],[136444542,136444542],[136448142,136448142],[136452728,136452728],[136453540,136453540],[136455296,136455296],[136458856,136458856],[136467559,136467559],[136493430,136493430],[136406646,136406646],[136408821,136408821],[136412472,136412472],[136416959,136416959],[136438078,136438078],[136448855,136448855],[136456090,136456090],[136456675,136456675],[136466831,136466831],[136497006,136497006],[136501661,136501661],[136504728,136504728],[136507878,136507878],[136545910,136545910],[136548951,136548951],[136554041,136554041],[136555054,136555054],[136555957,136555957],[136562876,136562876],[136563725,136563725],[136565901,136565901],[136567203,136567203],[136574563,136574563],[136581775,136581775],[136584623,136584623],[136587297,136587297],[136588380,136588380],[136588738,136588738],[136509361,136509361],[136509955,136509955],[136510059,136510059],[136516416,136516416],[136522394,136522394],[136523911,136523911],[136527801,136527801],[136530264,136530264],[136530476,136530476],[136532528,136532528],[136538117,136538117],[136588031,136588031],[136589278,136589278],[136589379,136589379],[136589741,136589741],[136590746,136590746],[136593553,136593553],[136593678,136593678],[136589521,136589521],[136590781,136590781],[136591977,136591977],[136592979,136592979],[136593065,136593065],[136593066,136593066],[136593077,136593077],[136593079,136593079],[136593136,136593136],[136593809,136593809],[136596836,136596836],[136619277,136619277],[136622982,136622982],[136631545,136631545],[136634340,136634340],[136638199,136638199],[136642012,136642012],[136602291,136602291],[136607932,136607932],[136616036,136616036],[136617917,136617917],[136619615,136619615],[136627507,136627507],[136629987,136629987],[136603638,136603638],[136603690,136603690],[136604210,136604210],[136604345,136604345],[136604346,136604346],[136605111,136605111],[136612598,136612598],[136614955,136614955],[136619114,136619114],[136619213,136619213],[136623900,136623900],[136624123,136624123],[136624155,136624155],[136630170,136630170],[136631415,136631415],[136632125,136632125],[136633976,136633976],[136674547,136674547],[136720711,136720711],[136722941,136722941],[136733249,136733249],[136742820,136742820],[136682274,136682274],[136691825,136691825],[136698098,136698098],[136721603,136721603],[136721995,136721995],[136755684,136755684],[136775898,136775898]],\"ys\":[[850,896],[850,896],[850,896],[850,896],[850,896],[850,896],[850,896],[850,896],[850,896],[850,896],[850,896],[850,896],[850,896],[850,896],[850,896],[850,896],[850,896],[850,896],[850,896],[850,896],[850,896],[850,896],[850,896],[850,896],[850,896],[850,896],[850,896],[850,896],[850,896],[850,896],[850,896],[850,896],[850,896],[850,896],[850,896],[850,896],[850,896],[850,896],[850,896],[850,896],[850,896],[850,896],[850,896],[850,896],[850,896],[850,896],[850,896],[850,896],[850,896],[850,896],[850,896],[850,896],[850,896],[850,896],[850,896],[850,896],[850,896],[850,896],[850,896],[850,896],[850,896],[850,896],[850,896],[850,896],[850,896],[850,896],[850,896],[850,896],[850,896],[850,896],[850,896],[850,896],[850,896],[850,896],[850,896],[850,896],[850,896],[850,896],[850,896],[850,896],[850,896],[850,896],[850,896],[850,896],[850,896],[850,896],[850,896],[850,896],[850,896],[850,896],[850,896],[850,896],[850,896],[850,896],[850,896],[850,896],[850,896],[850,896],[850,896],[850,896],[850,896],[850,896],[850,896],[850,896],[850,896],[850,896],[850,896],[850,896],[850,896],[850,896],[850,896],[850,896],[850,896],[850,896],[850,896],[850,896],[850,896],[750,795],[750,795],[750,795],[750,795],[750,795],[750,795],[750,795],[750,795],[750,795],[750,795],[750,795],[750,795],[750,795],[750,795],[750,795],[750,795],[750,795],[750,795],[750,795],[750,795],[750,795],[750,795],[750,795],[750,795],[750,795],[750,795],[750,795],[750,795],[750,795],[750,795],[750,795],[750,795],[750,795],[750,795],[750,795],[750,795],[750,795],[750,795],[750,795],[750,795],[750,795],[750,795],[750,795],[750,795],[750,795],[750,795],[750,795],[750,795],[750,795],[750,795],[750,795],[750,795],[750,795],[750,795],[750,795],[750,795],[750,795],[750,795],[750,795],[750,795],[750,795],[750,795],[750,795],[750,795],[750,795],[750,795],[750,795],[750,795],[750,795],[750,795],[750,795],[750,795],[750,795],[750,795],[750,795],[750,795],[750,795],[750,795],[750,795],[750,795],[750,795],[750,795],[750,795],[750,795],[750,795],[750,795],[750,795],[750,795],[750,795],[750,795],[750,795],[750,795],[750,795],[750,795],[750,795],[750,795],[750,795],[750,795],[750,795],[750,795],[750,795],[750,795],[750,795],[750,795],[750,795],[750,795],[750,795],[750,795],[750,795],[750,795],[750,795],[750,795],[750,795],[750,795],[750,795],[750,795],[750,795],[750,795],[750,795],[750,795],[750,795],[750,795],[750,795],[50,60],[50,60],[50,60],[50,60],[50,60],[50,60],[50,60],[50,60],[50,60],[50,60],[50,60],[50,60],[50,60],[50,60],[50,60],[50,60],[50,60],[50,60],[50,60],[50,60],[50,60],[50,60],[50,60],[50,60],[50,60],[350,376],[350,376],[350,376],[350,376],[350,376],[350,376],[350,376],[350,376],[350,376],[350,376],[350,376],[350,376],[350,376],[350,376],[350,376],[350,376],[350,376],[350,376],[350,376],[350,376],[350,376],[350,376],[350,376],[350,376],[350,376],[350,376],[350,376],[350,376],[350,376],[350,376],[350,376],[350,376],[350,376],[350,376],[350,376],[350,376],[350,376],[350,376],[350,376],[350,376],[350,376],[350,376],[350,376],[350,376],[350,376],[350,376],[350,376],[350,376],[350,376],[350,376],[350,376],[350,376],[350,376],[350,376],[350,376],[350,376],[350,376],[350,376],[350,376],[350,376],[350,376],[350,376],[350,376],[350,376],[350,376],[350,376],[350,376],[350,376],[350,376],[350,376],[150,162],[150,162],[150,162],[150,162],[150,162],[150,162],[150,162],[250,268],[250,268],[250,268],[250,268],[250,268],[450,484],[450,484],[450,484],[450,484],[450,484],[450,484],[450,484],[450,484],[450,484],[450,484],[450,484],[450,484],[450,484],[450,484],[450,484],[450,484],[450,484],[450,484],[450,484],[450,484],[450,484],[450,484],[450,484],[450,484],[450,484],[450,484],[450,484],[450,484],[650,690],[650,690],[650,690],[650,690],[650,690],[650,690],[650,690],[650,690],[650,690],[550,587],[550,587],[550,587],[550,587],[550,587],[450,482],[450,482],[450,482],[450,482],[450,482],[450,482],[450,482],[450,482],[450,482],[450,482],[450,482],[450,482],[450,482],[450,482],[450,482],[450,482],[450,482],[450,482],[450,482],[450,482],[450,482],[750,795],[750,795],[750,795],[750,795],[750,795],[650,687],[650,687],[650,687],[650,687],[350,369],[350,369],[350,369],[350,369],[350,369],[350,369],[350,369],[350,369],[350,369],[350,369],[350,369],[350,369],[350,369],[350,369],[350,369],[350,369],[350,369],[350,369],[350,369],[450,476],[450,476],[450,476],[450,476],[450,476],[450,476],[450,476],[450,476],[450,476],[450,476],[450,476],[850,896],[850,896],[850,896],[850,896],[850,896],[850,896],[850,896],[350,373],[350,373],[350,373],[350,373],[350,373],[350,373],[350,373],[350,373],[350,373],[350,373],[350,373],[350,373],[350,373],[350,373],[350,373],[350,373],[350,373],[450,478],[450,478],[450,478],[450,478],[450,478],[450,478],[450,478],[550,585],[550,585],[550,585],[550,585],[550,585],[550,585],[550,585],[550,585],[550,585],[550,585],[550,585],[550,585],[550,585],[550,585],[550,585],[550,585],[150,160],[150,160],[150,160],[150,160],[150,160],[150,160],[850,897],[850,897],[850,897],[850,897],[850,897],[850,897],[850,897]]}},\"id\":\"a6d3b361-62e0-4037-91b2-0c52010ddb97\",\"type\":\"ColumnDataSource\"},{\"attributes\":{\"below\":[{\"id\":\"9f54dc15-cbd5-4659-90f4-943897dcb523\",\"type\":\"LinearAxis\"}],\"left\":[{\"id\":\"33cd2da9-1fe7-4f52-9924-dc2b10171973\",\"type\":\"LinearAxis\"}],\"plot_height\":1000,\"plot_width\":900,\"renderers\":[{\"id\":\"9f54dc15-cbd5-4659-90f4-943897dcb523\",\"type\":\"LinearAxis\"},{\"id\":\"db693923-80ac-4602-849b-2d8007776e49\",\"type\":\"Grid\"},{\"id\":\"33cd2da9-1fe7-4f52-9924-dc2b10171973\",\"type\":\"LinearAxis\"},{\"id\":\"6c5c1548-a6a9-45b2-9994-85092ebb02fa\",\"type\":\"Grid\"},{\"id\":\"568208a1-7ae9-440e-8962-34eafc80a590\",\"type\":\"BoxAnnotation\"},{\"id\":\"668a213f-2cb8-4da5-a5e1-2b59cecde94e\",\"type\":\"GlyphRenderer\"},{\"id\":\"2d89115b-3ddd-42c3-83d1-12c367a1b9ee\",\"type\":\"GlyphRenderer\"},{\"id\":\"c53041aa-318f-4704-90a2-0e6b5db5a637\",\"type\":\"LabelSet\"},{\"id\":\"a69f40ba-3709-4aaf-9664-791983191964\",\"type\":\"GlyphRenderer\"},{\"id\":\"90f00714-6ef5-45f7-9ecd-870c69a39319\",\"type\":\"LabelSet\"}],\"title\":{\"id\":\"c9b1a396-37e9-4d19-baa3-db8b040274c7\",\"type\":\"Title\"},\"tool_events\":{\"id\":\"ee61728c-20e3-44ec-a3a0-87c0b5537afb\",\"type\":\"ToolEvents\"},\"toolbar\":{\"id\":\"4605075d-b757-4813-83fa-147e6f84b048\",\"type\":\"Toolbar\"},\"toolbar_location\":null,\"x_range\":{\"id\":\"72178e81-a87f-4652-af6d-acfb8fc3aaee\",\"type\":\"Range1d\"},\"y_range\":{\"id\":\"9402e620-77dd-49fd-a9d5-18c932e9cca9\",\"type\":\"Range1d\"}},\"id\":\"128b1390-36f6-4fda-8730-647df955218f\",\"subtype\":\"Figure\",\"type\":\"Plot\"},{\"attributes\":{},\"id\":\"171e6436-0950-433b-9a72-32d1f862ef7e\",\"type\":\"BasicTickFormatter\"},{\"attributes\":{\"callback\":null,\"end\":1000},\"id\":\"9402e620-77dd-49fd-a9d5-18c932e9cca9\",\"type\":\"Range1d\"},{\"attributes\":{\"callback\":null,\"column_names\":[\"y\",\"x\",\"vals\"],\"data\":{\"vals\":[\"RAB3GAP1\",\"ZRANB3\",\"R3HDM1\",\"UBXN4\",\"LCT\",\"MCM6\",\"DARS\"],\"x\":[135869057.0,136122878.0,136385961.0,136520911.0,136570082.5,136615621.5,136703738.0],\"y\":[960.0,960.0,960.0,960.0,960.0,960.0,960.0]}},\"id\":\"8d5b9035-9b17-4923-ae22-9f2a76af5134\",\"type\":\"ColumnDataSource\"},{\"attributes\":{},\"id\":\"b2d49cbd-9f70-4014-942a-eb0641cec202\",\"type\":\"BasicTicker\"},{\"attributes\":{\"data_source\":{\"id\":\"cbf2468a-0906-4b82-9802-ef0bcd454207\",\"type\":\"ColumnDataSource\"},\"glyph\":{\"id\":\"f17abdf1-7484-4c02-803f-6c633b2a3c82\",\"type\":\"Quad\"},\"hover_glyph\":null,\"nonselection_glyph\":{\"id\":\"19229a00-6c81-4de7-8649-6fe0bf177ce4\",\"type\":\"Quad\"},\"selection_glyph\":null},\"id\":\"668a213f-2cb8-4da5-a5e1-2b59cecde94e\",\"type\":\"GlyphRenderer\"},{\"attributes\":{},\"id\":\"ee61728c-20e3-44ec-a3a0-87c0b5537afb\",\"type\":\"ToolEvents\"},{\"attributes\":{\"plot\":{\"id\":\"128b1390-36f6-4fda-8730-647df955218f\",\"subtype\":\"Figure\",\"type\":\"Plot\"}},\"id\":\"d499e784-791c-4860-91af-ca149d01062d\",\"type\":\"HelpTool\"},{\"attributes\":{\"line_color\":{\"field\":\"line_color\"},\"xs\":{\"field\":\"xs\"},\"ys\":{\"field\":\"ys\"}},\"id\":\"d0ca4db6-8b34-4d3f-a1f2-82e2fdf2a5b4\",\"type\":\"MultiLine\"},{\"attributes\":{\"dimension\":1,\"plot\":{\"id\":\"128b1390-36f6-4fda-8730-647df955218f\",\"subtype\":\"Figure\",\"type\":\"Plot\"},\"ticker\":{\"id\":\"0e924f27-6e6d-4899-bf70-3a5e7b507d8c\",\"type\":\"BasicTicker\"}},\"id\":\"6c5c1548-a6a9-45b2-9994-85092ebb02fa\",\"type\":\"Grid\"},{\"attributes\":{\"plot\":{\"id\":\"128b1390-36f6-4fda-8730-647df955218f\",\"subtype\":\"Figure\",\"type\":\"Plot\"}},\"id\":\"8a8c9f00-04a3-40a1-9319-b8f27b45f6cd\",\"type\":\"SaveTool\"},{\"attributes\":{\"bottom_units\":\"screen\",\"fill_alpha\":{\"value\":0.5},\"fill_color\":{\"value\":\"lightgrey\"},\"left_units\":\"screen\",\"level\":\"overlay\",\"line_alpha\":{\"value\":1.0},\"line_color\":{\"value\":\"black\"},\"line_dash\":[4,4],\"line_width\":{\"value\":2},\"plot\":null,\"render_mode\":\"css\",\"right_units\":\"screen\",\"top_units\":\"screen\"},\"id\":\"568208a1-7ae9-440e-8962-34eafc80a590\",\"type\":\"BoxAnnotation\"},{\"attributes\":{\"plot\":{\"id\":\"128b1390-36f6-4fda-8730-647df955218f\",\"subtype\":\"Figure\",\"type\":\"Plot\"}},\"id\":\"5c2576b7-2f29-477b-b8fe-3c1c2cbe8424\",\"type\":\"PanTool\"},{\"attributes\":{\"plot\":{\"id\":\"128b1390-36f6-4fda-8730-647df955218f\",\"subtype\":\"Figure\",\"type\":\"Plot\"}},\"id\":\"c1877f54-0f6f-4008-809d-1b3c452403e2\",\"type\":\"ResetTool\"},{\"attributes\":{\"level\":\"glyph\",\"plot\":{\"id\":\"128b1390-36f6-4fda-8730-647df955218f\",\"subtype\":\"Figure\",\"type\":\"Plot\"},\"source\":{\"id\":\"8d5b9035-9b17-4923-ae22-9f2a76af5134\",\"type\":\"ColumnDataSource\"},\"text\":{\"field\":\"vals\"},\"text_align\":\"center\",\"text_baseline\":\"middle\",\"text_font_size\":{\"value\":\"8pt\"},\"x\":{\"field\":\"x\"},\"y\":{\"field\":\"y\"}},\"id\":\"90f00714-6ef5-45f7-9ecd-870c69a39319\",\"type\":\"LabelSet\"},{\"attributes\":{\"bottom\":{\"field\":\"bottom\"},\"fill_alpha\":{\"value\":0.1},\"fill_color\":{\"value\":\"#1f77b4\"},\"left\":{\"field\":\"left\"},\"line_alpha\":{\"value\":0.1},\"line_color\":{\"value\":\"#1f77b4\"},\"right\":{\"field\":\"right\"},\"top\":{\"field\":\"top\"}},\"id\":\"19229a00-6c81-4de7-8649-6fe0bf177ce4\",\"type\":\"Quad\"},{\"attributes\":{\"active_drag\":\"auto\",\"active_scroll\":\"auto\",\"active_tap\":\"auto\",\"tools\":[{\"id\":\"5c2576b7-2f29-477b-b8fe-3c1c2cbe8424\",\"type\":\"PanTool\"},{\"id\":\"b4c2d023-cd7e-482e-9017-b20efd955c4f\",\"type\":\"WheelZoomTool\"},{\"id\":\"917a5145-0637-4389-ad11-8d54fe8ac685\",\"type\":\"BoxZoomTool\"},{\"id\":\"8a8c9f00-04a3-40a1-9319-b8f27b45f6cd\",\"type\":\"SaveTool\"},{\"id\":\"c1877f54-0f6f-4008-809d-1b3c452403e2\",\"type\":\"ResetTool\"},{\"id\":\"d499e784-791c-4860-91af-ca149d01062d\",\"type\":\"HelpTool\"}]},\"id\":\"4605075d-b757-4813-83fa-147e6f84b048\",\"type\":\"Toolbar\"},{\"attributes\":{\"callback\":null,\"end\":136786630,\"start\":135757320},\"id\":\"72178e81-a87f-4652-af6d-acfb8fc3aaee\",\"type\":\"Range1d\"},{\"attributes\":{},\"id\":\"68e87cff-8a82-4e2a-84a1-c6d609d06229\",\"type\":\"BasicTickFormatter\"},{\"attributes\":{\"formatter\":{\"id\":\"171e6436-0950-433b-9a72-32d1f862ef7e\",\"type\":\"BasicTickFormatter\"},\"plot\":{\"id\":\"128b1390-36f6-4fda-8730-647df955218f\",\"subtype\":\"Figure\",\"type\":\"Plot\"},\"ticker\":{\"id\":\"0e924f27-6e6d-4899-bf70-3a5e7b507d8c\",\"type\":\"BasicTicker\"},\"visible\":null},\"id\":\"33cd2da9-1fe7-4f52-9924-dc2b10171973\",\"type\":\"LinearAxis\"},{\"attributes\":{\"plot\":{\"id\":\"128b1390-36f6-4fda-8730-647df955218f\",\"subtype\":\"Figure\",\"type\":\"Plot\"}},\"id\":\"b4c2d023-cd7e-482e-9017-b20efd955c4f\",\"type\":\"WheelZoomTool\"},{\"attributes\":{\"callback\":null,\"column_names\":[\"right\",\"bottom\",\"top\",\"left\",\"fill_color\"],\"data\":{\"bottom\":[850,750,50,350,150,250,450,650,550,450,750,650,350,450,850,350,450,550,150,850],\"fill_color\":[\"#808080\",\"#c46161\",\"#ff0000\",\"#ff0000\",\"#ff0000\",\"#ff0000\",\"#ff0000\",\"#ff0000\",\"#ff0000\",\"#ff0000\",\"#808080\",\"#ff0000\",\"#ff0000\",\"#ff0000\",\"#c46161\",\"#ff0000\",\"#ff0000\",\"#c46161\",\"#ff0000\",\"#61c461\"],\"left\":[135758231,135933921,135956166,136008173,136033448,136056699,136115507,136309239,136364916,136402778,136406646,136448855,136497006,136509361,136588031,136589521,136602291,136603638,136633976,136682274],\"right\":[136376515,136368563,136484679,136381251,136412169,136433902,136385280,136361560,136387893,136493430,136438078,136466831,136588738,136538117,136593678,136642012,136629987,136632125,136742820,136775898],\"top\":[896,795,60,376,162,268,484,690,587,482,795,687,369,476,896,373,478,585,160,897]}},\"id\":\"cbf2468a-0906-4b82-9802-ef0bcd454207\",\"type\":\"ColumnDataSource\"},{\"attributes\":{\"level\":\"glyph\",\"plot\":{\"id\":\"128b1390-36f6-4fda-8730-647df955218f\",\"subtype\":\"Figure\",\"type\":\"Plot\"},\"source\":{\"id\":\"ae639f97-7c7f-4eb5-966f-91334e9d2667\",\"type\":\"ColumnDataSource\"},\"text\":{\"field\":\"vals\"},\"text_font_size\":{\"value\":\"9pt\"},\"text_font_style\":\"bold\",\"x\":{\"field\":\"x\"},\"y\":{\"field\":\"y\"}},\"id\":\"c53041aa-318f-4704-90a2-0e6b5db5a637\",\"type\":\"LabelSet\"},{\"attributes\":{\"bottom\":{\"field\":\"bottom\"},\"fill_alpha\":{\"value\":0.1},\"fill_color\":{\"value\":\"#1f77b4\"},\"left\":{\"field\":\"left\"},\"line_alpha\":{\"value\":0.1},\"line_color\":{\"value\":\"#1f77b4\"},\"right\":{\"field\":\"right\"},\"top\":{\"field\":\"top\"}},\"id\":\"0f9f6d34-7a90-4db4-b62b-ed1c0a955562\",\"type\":\"Quad\"},{\"attributes\":{\"bottom\":{\"field\":\"bottom\"},\"fill_color\":{\"field\":\"fill_color\"},\"left\":{\"field\":\"left\"},\"line_color\":{\"value\":null},\"right\":{\"field\":\"right\"},\"top\":{\"field\":\"top\"}},\"id\":\"f17abdf1-7484-4c02-803f-6c633b2a3c82\",\"type\":\"Quad\"},{\"attributes\":{\"formatter\":{\"id\":\"68e87cff-8a82-4e2a-84a1-c6d609d06229\",\"type\":\"BasicTickFormatter\"},\"plot\":{\"id\":\"128b1390-36f6-4fda-8730-647df955218f\",\"subtype\":\"Figure\",\"type\":\"Plot\"},\"ticker\":{\"id\":\"b2d49cbd-9f70-4014-942a-eb0641cec202\",\"type\":\"BasicTicker\"}},\"id\":\"9f54dc15-cbd5-4659-90f4-943897dcb523\",\"type\":\"LinearAxis\"}],\"root_ids\":[\"128b1390-36f6-4fda-8730-647df955218f\"]},\"title\":\"Bokeh Application\",\"version\":\"0.12.0\"}};\n",
       "            var render_items = [{\"docid\":\"28bdb1cb-41d2-4245-aef3-64c3ff5a519a\",\"elementid\":\"bd1ec8c5-8ef9-4b5a-a035-1e347868c5dc\",\"modelid\":\"128b1390-36f6-4fda-8730-647df955218f\",\"notebook_comms_target\":\"1df854be-85f2-4bb5-8495-359e68ba6620\"}];\n",
       "            \n",
       "            Bokeh.embed.embed_items(docs_json, render_items);\n",
       "        });\n",
       "      },\n",
       "      function(Bokeh) {\n",
       "      }\n",
       "    ];\n",
       "  \n",
       "    function run_inline_js() {\n",
       "      for (var i = 0; i < inline_js.length; i++) {\n",
       "        inline_js[i](window.Bokeh);\n",
       "      }\n",
       "    }\n",
       "  \n",
       "    if (window._bokeh_is_loading === 0) {\n",
       "      console.log(\"Bokeh: BokehJS loaded, going straight to plotting\");\n",
       "      run_inline_js();\n",
       "    } else {\n",
       "      load_libs(js_urls, function() {\n",
       "        console.log(\"Bokeh: BokehJS plotting callback run at\", now());\n",
       "        run_inline_js();\n",
       "      });\n",
       "    }\n",
       "  }(this));\n",
       "</script>"
      ]
     },
     "metadata": {},
     "output_type": "display_data"
    },
    {
     "data": {
      "text/html": [
       "<p><code>&lt;Bokeh Notebook handle for <strong>In[31]</strong>&gt;</code></p>"
      ],
      "text/plain": [
       "<bokeh.io._CommsHandle at 0x7f3f6019b8d0>"
      ]
     },
     "execution_count": 31,
     "metadata": {},
     "output_type": "execute_result"
    }
   ],
   "source": [
    "plt_obj = dm.superset_allele_mask(am1_115, min_match=0.5)\n",
    "plt = plt_obj.do_plot()\n",
    "show(plt)"
   ]
  },
  {
   "cell_type": "code",
   "execution_count": 32,
   "metadata": {
    "collapsed": false
   },
   "outputs": [
    {
     "data": {
      "text/html": [
       "<table>\n",
       "<thead><tr><th style=\"text-align:center\">index</th><th style=\"text-align:center\">first</th><th style=\"text-align:center\">length</th><th style=\"text-align:center\">snps</th><th style=\"text-align:center\" colspan=2>alleles</th><th style=\"text-align:center\" colspan=2>matches</th><th style=\"text-align:center\" colspan=2>afr</th><th style=\"text-align:center\" colspan=2>afx</th><th style=\"text-align:center\" colspan=2>amr</th><th style=\"text-align:center\" colspan=2>eas</th><th style=\"text-align:center\" colspan=2>eur</th><th style=\"text-align:center\" colspan=2>sas</th><th style=\"text-align:center\" colspan=2>sax</th></tr></thead>\n",
       "<tr class=\"even\"><td style=\"text-align: right;\">354170</td><td style=\"text-align: right;\">136,682,274</td><td style=\"text-align: right;\">93,624</td><td style=\"text-align: right;\">7</td><td style=\"text-align: right;\">1868</td><td style=\"text-align: right;\">0.01</td><td style=\"text-align: right;\">15</td><td style=\"text-align: right;\">0.62</td><td style=\"text-align: right;\">8</td><td style=\"text-align: right;\">2.65</td><td style=\"text-align: right;\">6</td><td style=\"text-align: right;\">6.38</td><td style=\"text-align: right;\">1</td><td style=\"text-align: right;\">0.48</td><td style=\"text-align: right;\">0</td><td style=\"text-align: right;\">0.00</td><td style=\"text-align: right;\">0</td><td style=\"text-align: right;\">0.00</td><td style=\"text-align: right;\">0</td><td style=\"text-align: right;\">0.00</td><td style=\"text-align: right;\">0</td><td style=\"text-align: right;\">0.00</td></tr>\n",
       "<tr><td style=\"text-align: right;\">354033</td><td style=\"text-align: right;\">136,588,031</td><td style=\"text-align: right;\">5,647</td><td style=\"text-align: right;\">7</td><td style=\"text-align: right;\">1760</td><td style=\"text-align: right;\">0.01</td><td style=\"text-align: right;\">16</td><td style=\"text-align: right;\">0.67</td><td style=\"text-align: right;\">8</td><td style=\"text-align: right;\">2.48</td><td style=\"text-align: right;\">7</td><td style=\"text-align: right;\">6.98</td><td style=\"text-align: right;\">1</td><td style=\"text-align: right;\">0.45</td><td style=\"text-align: right;\">0</td><td style=\"text-align: right;\">0.00</td><td style=\"text-align: right;\">0</td><td style=\"text-align: right;\">0.00</td><td style=\"text-align: right;\">0</td><td style=\"text-align: right;\">0.00</td><td style=\"text-align: right;\">0</td><td style=\"text-align: right;\">0.00</td></tr>\n",
       "<tr class=\"even\"><td style=\"text-align: right;\">353244</td><td style=\"text-align: right;\">135,758,231</td><td style=\"text-align: right;\">618,284</td><td style=\"text-align: right;\">117</td><td style=\"text-align: right;\">1685</td><td style=\"text-align: right;\">0.01</td><td style=\"text-align: right;\">24</td><td style=\"text-align: right;\">1.00</td><td style=\"text-align: right;\">16</td><td style=\"text-align: right;\">3.31</td><td style=\"text-align: right;\">7</td><td style=\"text-align: right;\">4.65</td><td style=\"text-align: right;\">1</td><td style=\"text-align: right;\">0.30</td><td style=\"text-align: right;\">0</td><td style=\"text-align: right;\">0.00</td><td style=\"text-align: right;\">0</td><td style=\"text-align: right;\">0.00</td><td style=\"text-align: right;\">0</td><td style=\"text-align: right;\">0.00</td><td style=\"text-align: right;\">0</td><td style=\"text-align: right;\">0.00</td></tr>\n",
       "<tr><td style=\"text-align: right;\">353478</td><td style=\"text-align: right;\">135,933,921</td><td style=\"text-align: right;\">434,642</td><td style=\"text-align: right;\">123</td><td style=\"text-align: right;\">1561</td><td style=\"text-align: right;\">0.02</td><td style=\"text-align: right;\">24</td><td style=\"text-align: right;\">1.00</td><td style=\"text-align: right;\">16</td><td style=\"text-align: right;\">3.31</td><td style=\"text-align: right;\">7</td><td style=\"text-align: right;\">4.65</td><td style=\"text-align: right;\">1</td><td style=\"text-align: right;\">0.30</td><td style=\"text-align: right;\">0</td><td style=\"text-align: right;\">0.00</td><td style=\"text-align: right;\">0</td><td style=\"text-align: right;\">0.00</td><td style=\"text-align: right;\">0</td><td style=\"text-align: right;\">0.00</td><td style=\"text-align: right;\">0</td><td style=\"text-align: right;\">0.00</td></tr>\n",
       "<tr class=\"even\"><td style=\"text-align: right;\">353814</td><td style=\"text-align: right;\">136,406,646</td><td style=\"text-align: right;\">31,432</td><td style=\"text-align: right;\">5</td><td style=\"text-align: right;\">1460</td><td style=\"text-align: right;\">0.02</td><td style=\"text-align: right;\">24</td><td style=\"text-align: right;\">1.00</td><td style=\"text-align: right;\">16</td><td style=\"text-align: right;\">3.31</td><td style=\"text-align: right;\">7</td><td style=\"text-align: right;\">4.65</td><td style=\"text-align: right;\">1</td><td style=\"text-align: right;\">0.30</td><td style=\"text-align: right;\">0</td><td style=\"text-align: right;\">0.00</td><td style=\"text-align: right;\">0</td><td style=\"text-align: right;\">0.00</td><td style=\"text-align: right;\">0</td><td style=\"text-align: right;\">0.00</td><td style=\"text-align: right;\">0</td><td style=\"text-align: right;\">0.00</td></tr>\n",
       "<tr><td style=\"text-align: right;\">353729</td><td style=\"text-align: right;\">136,309,239</td><td style=\"text-align: right;\">52,321</td><td style=\"text-align: right;\">9</td><td style=\"text-align: right;\">887</td><td style=\"text-align: right;\">0.03</td><td style=\"text-align: right;\">24</td><td style=\"text-align: right;\">1.00</td><td style=\"text-align: right;\">16</td><td style=\"text-align: right;\">3.31</td><td style=\"text-align: right;\">7</td><td style=\"text-align: right;\">4.65</td><td style=\"text-align: right;\">1</td><td style=\"text-align: right;\">0.30</td><td style=\"text-align: right;\">0</td><td style=\"text-align: right;\">0.00</td><td style=\"text-align: right;\">0</td><td style=\"text-align: right;\">0.00</td><td style=\"text-align: right;\">0</td><td style=\"text-align: right;\">0.00</td><td style=\"text-align: right;\">0</td><td style=\"text-align: right;\">0.00</td></tr>\n",
       "<tr class=\"even\"><td style=\"text-align: right;\">353851</td><td style=\"text-align: right;\">136,448,855</td><td style=\"text-align: right;\">17,976</td><td style=\"text-align: right;\">4</td><td style=\"text-align: right;\">612</td><td style=\"text-align: right;\">0.04</td><td style=\"text-align: right;\">24</td><td style=\"text-align: right;\">1.00</td><td style=\"text-align: right;\">16</td><td style=\"text-align: right;\">3.31</td><td style=\"text-align: right;\">7</td><td style=\"text-align: right;\">4.65</td><td style=\"text-align: right;\">1</td><td style=\"text-align: right;\">0.30</td><td style=\"text-align: right;\">0</td><td style=\"text-align: right;\">0.00</td><td style=\"text-align: right;\">0</td><td style=\"text-align: right;\">0.00</td><td style=\"text-align: right;\">0</td><td style=\"text-align: right;\">0.00</td><td style=\"text-align: right;\">0</td><td style=\"text-align: right;\">0.00</td></tr>\n",
       "<tr><td style=\"text-align: right;\">353764</td><td style=\"text-align: right;\">136,364,916</td><td style=\"text-align: right;\">22,977</td><td style=\"text-align: right;\">5</td><td style=\"text-align: right;\">588</td><td style=\"text-align: right;\">0.04</td><td style=\"text-align: right;\">24</td><td style=\"text-align: right;\">1.00</td><td style=\"text-align: right;\">16</td><td style=\"text-align: right;\">3.31</td><td style=\"text-align: right;\">7</td><td style=\"text-align: right;\">4.65</td><td style=\"text-align: right;\">1</td><td style=\"text-align: right;\">0.30</td><td style=\"text-align: right;\">0</td><td style=\"text-align: right;\">0.00</td><td style=\"text-align: right;\">0</td><td style=\"text-align: right;\">0.00</td><td style=\"text-align: right;\">0</td><td style=\"text-align: right;\">0.00</td><td style=\"text-align: right;\">0</td><td style=\"text-align: right;\">0.00</td></tr>\n",
       "<tr class=\"even\"><td style=\"text-align: right;\">354061</td><td style=\"text-align: right;\">136,603,638</td><td style=\"text-align: right;\">28,487</td><td style=\"text-align: right;\">16</td><td style=\"text-align: right;\">511</td><td style=\"text-align: right;\">0.03</td><td style=\"text-align: right;\">15</td><td style=\"text-align: right;\">0.62</td><td style=\"text-align: right;\">8</td><td style=\"text-align: right;\">2.65</td><td style=\"text-align: right;\">6</td><td style=\"text-align: right;\">6.38</td><td style=\"text-align: right;\">1</td><td style=\"text-align: right;\">0.48</td><td style=\"text-align: right;\">0</td><td style=\"text-align: right;\">0.00</td><td style=\"text-align: right;\">0</td><td style=\"text-align: right;\">0.00</td><td style=\"text-align: right;\">0</td><td style=\"text-align: right;\">0.00</td><td style=\"text-align: right;\">0</td><td style=\"text-align: right;\">0.00</td></tr>\n",
       "<tr><td style=\"text-align: right;\">353614</td><td style=\"text-align: right;\">136,115,507</td><td style=\"text-align: right;\">269,773</td><td style=\"text-align: right;\">28</td><td style=\"text-align: right;\">434</td><td style=\"text-align: right;\">0.06</td><td style=\"text-align: right;\">24</td><td style=\"text-align: right;\">1.00</td><td style=\"text-align: right;\">16</td><td style=\"text-align: right;\">3.31</td><td style=\"text-align: right;\">7</td><td style=\"text-align: right;\">4.65</td><td style=\"text-align: right;\">1</td><td style=\"text-align: right;\">0.30</td><td style=\"text-align: right;\">0</td><td style=\"text-align: right;\">0.00</td><td style=\"text-align: right;\">0</td><td style=\"text-align: right;\">0.00</td><td style=\"text-align: right;\">0</td><td style=\"text-align: right;\">0.00</td><td style=\"text-align: right;\">0</td><td style=\"text-align: right;\">0.00</td></tr>\n",
       "<tr class=\"even\"><td style=\"text-align: right;\">353804</td><td style=\"text-align: right;\">136,402,778</td><td style=\"text-align: right;\">90,652</td><td style=\"text-align: right;\">21</td><td style=\"text-align: right;\">332</td><td style=\"text-align: right;\">0.07</td><td style=\"text-align: right;\">24</td><td style=\"text-align: right;\">1.00</td><td style=\"text-align: right;\">16</td><td style=\"text-align: right;\">3.31</td><td style=\"text-align: right;\">7</td><td style=\"text-align: right;\">4.65</td><td style=\"text-align: right;\">1</td><td style=\"text-align: right;\">0.30</td><td style=\"text-align: right;\">0</td><td style=\"text-align: right;\">0.00</td><td style=\"text-align: right;\">0</td><td style=\"text-align: right;\">0.00</td><td style=\"text-align: right;\">0</td><td style=\"text-align: right;\">0.00</td><td style=\"text-align: right;\">0</td><td style=\"text-align: right;\">0.00</td></tr>\n",
       "<tr><td style=\"text-align: right;\">354057</td><td style=\"text-align: right;\">136,602,291</td><td style=\"text-align: right;\">27,696</td><td style=\"text-align: right;\">7</td><td style=\"text-align: right;\">226</td><td style=\"text-align: right;\">0.07</td><td style=\"text-align: right;\">15</td><td style=\"text-align: right;\">0.62</td><td style=\"text-align: right;\">8</td><td style=\"text-align: right;\">2.65</td><td style=\"text-align: right;\">6</td><td style=\"text-align: right;\">6.38</td><td style=\"text-align: right;\">1</td><td style=\"text-align: right;\">0.48</td><td style=\"text-align: right;\">0</td><td style=\"text-align: right;\">0.00</td><td style=\"text-align: right;\">0</td><td style=\"text-align: right;\">0.00</td><td style=\"text-align: right;\">0</td><td style=\"text-align: right;\">0.00</td><td style=\"text-align: right;\">0</td><td style=\"text-align: right;\">0.00</td></tr>\n",
       "<tr class=\"even\"><td style=\"text-align: right;\">353931</td><td style=\"text-align: right;\">136,509,361</td><td style=\"text-align: right;\">28,756</td><td style=\"text-align: right;\">11</td><td style=\"text-align: right;\">173</td><td style=\"text-align: right;\">0.09</td><td style=\"text-align: right;\">15</td><td style=\"text-align: right;\">0.62</td><td style=\"text-align: right;\">8</td><td style=\"text-align: right;\">2.65</td><td style=\"text-align: right;\">6</td><td style=\"text-align: right;\">6.38</td><td style=\"text-align: right;\">1</td><td style=\"text-align: right;\">0.48</td><td style=\"text-align: right;\">0</td><td style=\"text-align: right;\">0.00</td><td style=\"text-align: right;\">0</td><td style=\"text-align: right;\">0.00</td><td style=\"text-align: right;\">0</td><td style=\"text-align: right;\">0.00</td><td style=\"text-align: right;\">0</td><td style=\"text-align: right;\">0.00</td></tr>\n",
       "<tr><td style=\"text-align: right;\">353538</td><td style=\"text-align: right;\">136,008,173</td><td style=\"text-align: right;\">373,078</td><td style=\"text-align: right;\">70</td><td style=\"text-align: right;\">166</td><td style=\"text-align: right;\">0.14</td><td style=\"text-align: right;\">24</td><td style=\"text-align: right;\">1.00</td><td style=\"text-align: right;\">16</td><td style=\"text-align: right;\">3.31</td><td style=\"text-align: right;\">7</td><td style=\"text-align: right;\">4.65</td><td style=\"text-align: right;\">1</td><td style=\"text-align: right;\">0.30</td><td style=\"text-align: right;\">0</td><td style=\"text-align: right;\">0.00</td><td style=\"text-align: right;\">0</td><td style=\"text-align: right;\">0.00</td><td style=\"text-align: right;\">0</td><td style=\"text-align: right;\">0.00</td><td style=\"text-align: right;\">0</td><td style=\"text-align: right;\">0.00</td></tr>\n",
       "<tr class=\"even\"><td style=\"text-align: right;\">354036</td><td style=\"text-align: right;\">136,589,521</td><td style=\"text-align: right;\">52,491</td><td style=\"text-align: right;\">17</td><td style=\"text-align: right;\">127</td><td style=\"text-align: right;\">0.12</td><td style=\"text-align: right;\">15</td><td style=\"text-align: right;\">0.62</td><td style=\"text-align: right;\">8</td><td style=\"text-align: right;\">2.65</td><td style=\"text-align: right;\">6</td><td style=\"text-align: right;\">6.38</td><td style=\"text-align: right;\">1</td><td style=\"text-align: right;\">0.48</td><td style=\"text-align: right;\">0</td><td style=\"text-align: right;\">0.00</td><td style=\"text-align: right;\">0</td><td style=\"text-align: right;\">0.00</td><td style=\"text-align: right;\">0</td><td style=\"text-align: right;\">0.00</td><td style=\"text-align: right;\">0</td><td style=\"text-align: right;\">0.00</td></tr>\n",
       "<tr><td style=\"text-align: right;\">353910</td><td style=\"text-align: right;\">136,497,006</td><td style=\"text-align: right;\">91,732</td><td style=\"text-align: right;\">19</td><td style=\"text-align: right;\">77</td><td style=\"text-align: right;\">0.19</td><td style=\"text-align: right;\">15</td><td style=\"text-align: right;\">0.62</td><td style=\"text-align: right;\">8</td><td style=\"text-align: right;\">2.65</td><td style=\"text-align: right;\">6</td><td style=\"text-align: right;\">6.38</td><td style=\"text-align: right;\">1</td><td style=\"text-align: right;\">0.48</td><td style=\"text-align: right;\">0</td><td style=\"text-align: right;\">0.00</td><td style=\"text-align: right;\">0</td><td style=\"text-align: right;\">0.00</td><td style=\"text-align: right;\">0</td><td style=\"text-align: right;\">0.00</td><td style=\"text-align: right;\">0</td><td style=\"text-align: right;\">0.00</td></tr>\n",
       "<tr class=\"even\"><td style=\"text-align: right;\">353581</td><td style=\"text-align: right;\">136,056,699</td><td style=\"text-align: right;\">377,203</td><td style=\"text-align: right;\">5</td><td style=\"text-align: right;\">69</td><td style=\"text-align: right;\">0.33</td><td style=\"text-align: right;\">23</td><td style=\"text-align: right;\">0.96</td><td style=\"text-align: right;\">15</td><td style=\"text-align: right;\">3.24</td><td style=\"text-align: right;\">7</td><td style=\"text-align: right;\">4.85</td><td style=\"text-align: right;\">1</td><td style=\"text-align: right;\">0.31</td><td style=\"text-align: right;\">0</td><td style=\"text-align: right;\">0.00</td><td style=\"text-align: right;\">0</td><td style=\"text-align: right;\">0.00</td><td style=\"text-align: right;\">0</td><td style=\"text-align: right;\">0.00</td><td style=\"text-align: right;\">0</td><td style=\"text-align: right;\">0.00</td></tr>\n",
       "<tr><td style=\"text-align: right;\">353563</td><td style=\"text-align: right;\">136,033,448</td><td style=\"text-align: right;\">378,721</td><td style=\"text-align: right;\">7</td><td style=\"text-align: right;\">34</td><td style=\"text-align: right;\">0.71</td><td style=\"text-align: right;\">24</td><td style=\"text-align: right;\">1.00</td><td style=\"text-align: right;\">16</td><td style=\"text-align: right;\">3.31</td><td style=\"text-align: right;\">7</td><td style=\"text-align: right;\">4.65</td><td style=\"text-align: right;\">1</td><td style=\"text-align: right;\">0.30</td><td style=\"text-align: right;\">0</td><td style=\"text-align: right;\">0.00</td><td style=\"text-align: right;\">0</td><td style=\"text-align: right;\">0.00</td><td style=\"text-align: right;\">0</td><td style=\"text-align: right;\">0.00</td><td style=\"text-align: right;\">0</td><td style=\"text-align: right;\">0.00</td></tr>\n",
       "<tr class=\"even\"><td style=\"text-align: right;\">354101</td><td style=\"text-align: right;\">136,633,976</td><td style=\"text-align: right;\">108,844</td><td style=\"text-align: right;\">6</td><td style=\"text-align: right;\">27</td><td style=\"text-align: right;\">0.56</td><td style=\"text-align: right;\">15</td><td style=\"text-align: right;\">0.62</td><td style=\"text-align: right;\">8</td><td style=\"text-align: right;\">2.65</td><td style=\"text-align: right;\">6</td><td style=\"text-align: right;\">6.38</td><td style=\"text-align: right;\">1</td><td style=\"text-align: right;\">0.48</td><td style=\"text-align: right;\">0</td><td style=\"text-align: right;\">0.00</td><td style=\"text-align: right;\">0</td><td style=\"text-align: right;\">0.00</td><td style=\"text-align: right;\">0</td><td style=\"text-align: right;\">0.00</td><td style=\"text-align: right;\">0</td><td style=\"text-align: right;\">0.00</td></tr>\n",
       "<tr><td style=\"text-align: right;\">353496</td><td style=\"text-align: right;\">135,956,166</td><td style=\"text-align: right;\">528,513</td><td style=\"text-align: right;\">25</td><td style=\"text-align: right;\">27</td><td style=\"text-align: right;\">0.85</td><td style=\"text-align: right;\">23</td><td style=\"text-align: right;\">0.96</td><td style=\"text-align: right;\">15</td><td style=\"text-align: right;\">3.24</td><td style=\"text-align: right;\">7</td><td style=\"text-align: right;\">4.85</td><td style=\"text-align: right;\">1</td><td style=\"text-align: right;\">0.31</td><td style=\"text-align: right;\">0</td><td style=\"text-align: right;\">0.00</td><td style=\"text-align: right;\">0</td><td style=\"text-align: right;\">0.00</td><td style=\"text-align: right;\">0</td><td style=\"text-align: right;\">0.00</td><td style=\"text-align: right;\">0</td><td style=\"text-align: right;\">0.00</td></tr>\n",
       "</table>"
      ],
      "text/plain": [
       "<IPython.core.display.HTML object>"
      ]
     },
     "execution_count": 32,
     "metadata": {},
     "output_type": "execute_result"
    }
   ],
   "source": [
    "HTML(plt_obj.get_html())"
   ]
  },
  {
   "cell_type": "code",
   "execution_count": 33,
   "metadata": {
    "collapsed": false
   },
   "outputs": [
    {
     "data": {
      "text/html": [
       "\n",
       "\n",
       "    <div class=\"bk-root\">\n",
       "        <div class=\"plotdiv\" id=\"82c8e3bd-5c5f-474a-9680-138ca2057d27\"></div>\n",
       "    </div>\n",
       "<script type=\"text/javascript\">\n",
       "  \n",
       "  (function(global) {\n",
       "    function now() {\n",
       "      return new Date();\n",
       "    }\n",
       "  \n",
       "    if (typeof (window._bokeh_onload_callbacks) === \"undefined\") {\n",
       "      window._bokeh_onload_callbacks = [];\n",
       "    }\n",
       "  \n",
       "    function run_callbacks() {\n",
       "      window._bokeh_onload_callbacks.forEach(function(callback) { callback() });\n",
       "      delete window._bokeh_onload_callbacks\n",
       "      console.info(\"Bokeh: all callbacks have finished\");\n",
       "    }\n",
       "  \n",
       "    function load_libs(js_urls, callback) {\n",
       "      window._bokeh_onload_callbacks.push(callback);\n",
       "      if (window._bokeh_is_loading > 0) {\n",
       "        console.log(\"Bokeh: BokehJS is being loaded, scheduling callback at\", now());\n",
       "        return null;\n",
       "      }\n",
       "      if (js_urls == null || js_urls.length === 0) {\n",
       "        run_callbacks();\n",
       "        return null;\n",
       "      }\n",
       "      console.log(\"Bokeh: BokehJS not loaded, scheduling load and callback at\", now());\n",
       "      window._bokeh_is_loading = js_urls.length;\n",
       "      for (var i = 0; i < js_urls.length; i++) {\n",
       "        var url = js_urls[i];\n",
       "        var s = document.createElement('script');\n",
       "        s.src = url;\n",
       "        s.async = false;\n",
       "        s.onreadystatechange = s.onload = function() {\n",
       "          window._bokeh_is_loading--;\n",
       "          if (window._bokeh_is_loading === 0) {\n",
       "            console.log(\"Bokeh: all BokehJS libraries loaded\");\n",
       "            run_callbacks()\n",
       "          }\n",
       "        };\n",
       "        s.onerror = function() {\n",
       "          console.warn(\"failed to load library \" + url);\n",
       "        };\n",
       "        console.log(\"Bokeh: injecting script tag for BokehJS library: \", url);\n",
       "        document.getElementsByTagName(\"head\")[0].appendChild(s);\n",
       "      }\n",
       "    };var element = document.getElementById(\"82c8e3bd-5c5f-474a-9680-138ca2057d27\");\n",
       "    if (element == null) {\n",
       "      console.log(\"Bokeh: ERROR: autoload.js configured with elementid '82c8e3bd-5c5f-474a-9680-138ca2057d27' but no matching script tag was found. \")\n",
       "      return false;\n",
       "    }\n",
       "  \n",
       "    var js_urls = [];\n",
       "  \n",
       "    var inline_js = [\n",
       "      function(Bokeh) {\n",
       "        Bokeh.$(function() {\n",
       "            var docs_json = {\"190e396a-e82f-4927-b837-7446c0e56834\":{\"roots\":{\"references\":[{\"attributes\":{\"data_source\":{\"id\":\"6debf415-9608-439d-8009-1876f8804af0\",\"type\":\"ColumnDataSource\"},\"glyph\":{\"id\":\"72ee82d6-ef3c-47a0-a4aa-09bb48cf0725\",\"type\":\"Quad\"},\"hover_glyph\":null,\"nonselection_glyph\":{\"id\":\"aebf53dc-c335-4f9e-82ac-c7c72340f6cd\",\"type\":\"Quad\"},\"selection_glyph\":null},\"id\":\"10a1076f-d8c0-4740-ab8e-336d340f5cb6\",\"type\":\"GlyphRenderer\"},{\"attributes\":{},\"id\":\"008df215-6586-4d35-b226-04c1ca91368f\",\"type\":\"ToolEvents\"},{\"attributes\":{\"callback\":null,\"column_names\":[\"xs\",\"ys\",\"line_color\"],\"data\":{\"line_color\":[\"black\",\"black\",\"black\",\"black\",\"black\",\"black\",\"black\",\"black\",\"black\",\"black\",\"black\",\"black\",\"black\",\"black\",\"black\",\"black\",\"black\",\"black\",\"black\",\"black\",\"black\",\"black\",\"black\",\"black\",\"black\",\"black\",\"black\",\"black\",\"black\",\"black\",\"black\",\"black\",\"black\",\"black\",\"black\",\"black\",\"black\",\"black\",\"black\",\"black\",\"black\",\"black\",\"black\",\"black\",\"black\",\"black\",\"black\",\"black\",\"black\",\"black\",\"black\",\"black\",\"black\",\"black\",\"black\",\"black\",\"black\",\"black\",\"black\",\"black\",\"black\",\"black\",\"black\",\"black\",\"black\",\"black\",\"black\",\"black\",\"black\",\"black\",\"black\",\"black\",\"black\",\"black\",\"black\",\"black\",\"black\",\"black\",\"black\",\"black\",\"black\",\"black\",\"black\",\"black\",\"black\",\"black\",\"black\",\"black\",\"black\",\"black\",\"black\",\"black\",\"black\",\"black\",\"black\",\"black\",\"black\",\"black\",\"black\",\"black\",\"black\",\"black\",\"black\",\"black\",\"black\",\"black\",\"black\",\"black\",\"black\",\"black\",\"black\",\"black\",\"black\",\"black\",\"black\",\"black\",\"black\",\"black\",\"black\",\"black\",\"black\",\"black\",\"black\",\"black\",\"black\",\"black\",\"black\",\"black\",\"black\",\"black\",\"black\",\"black\",\"black\",\"black\",\"black\",\"black\",\"black\",\"black\",\"black\",\"black\",\"black\",\"black\",\"black\",\"black\",\"black\",\"black\",\"black\",\"black\",\"black\",\"black\",\"black\",\"black\",\"black\",\"black\",\"black\",\"black\",\"black\",\"black\",\"black\",\"black\",\"black\",\"black\",\"black\",\"black\",\"black\",\"black\",\"black\",\"black\",\"black\",\"black\",\"black\",\"black\",\"black\",\"black\",\"black\",\"black\",\"black\",\"black\",\"black\",\"black\",\"black\",\"black\",\"black\",\"black\",\"black\",\"black\",\"black\",\"black\",\"black\",\"black\",\"black\",\"black\",\"black\",\"black\",\"black\",\"black\",\"black\",\"black\",\"black\",\"black\",\"black\",\"black\",\"black\",\"black\",\"black\",\"black\",\"black\",\"black\",\"black\",\"black\",\"black\",\"black\",\"black\",\"black\",\"black\",\"black\",\"black\",\"black\",\"black\",\"black\",\"black\",\"black\",\"black\",\"black\",\"black\",\"black\",\"black\",\"black\",\"black\",\"black\",\"black\",\"black\",\"black\",\"black\",\"black\",\"black\",\"black\",\"black\",\"black\",\"black\",\"black\",\"black\",\"black\",\"black\",\"black\",\"black\",\"black\",\"black\",\"black\",\"black\",\"black\",\"black\",\"black\",\"black\",\"black\",\"black\",\"black\",\"black\",\"black\",\"black\",\"black\",\"black\",\"black\",\"black\",\"black\",\"black\",\"black\",\"black\",\"black\",\"black\",\"black\",\"black\",\"black\",\"black\",\"black\",\"black\",\"black\",\"black\",\"black\",\"black\",\"black\",\"black\",\"black\",\"black\",\"black\",\"black\",\"black\",\"black\",\"black\",\"black\",\"black\",\"black\",\"black\",\"black\",\"black\",\"black\",\"black\",\"black\",\"black\",\"black\",\"black\",\"black\",\"black\",\"black\",\"black\",\"black\",\"black\",\"black\",\"black\",\"black\",\"black\",\"black\",\"black\",\"black\",\"black\",\"black\",\"black\",\"black\",\"black\",\"black\",\"black\",\"black\",\"black\",\"black\",\"black\",\"black\",\"black\",\"black\",\"black\",\"black\",\"black\",\"black\",\"black\",\"black\",\"black\",\"black\",\"black\",\"black\",\"black\",\"black\",\"black\",\"black\",\"black\",\"black\",\"black\",\"black\",\"black\",\"black\",\"black\",\"black\",\"black\",\"black\",\"black\",\"black\",\"black\",\"black\",\"black\",\"black\",\"black\",\"black\",\"black\",\"black\",\"black\",\"black\",\"black\",\"black\",\"black\",\"black\",\"black\",\"black\",\"black\",\"black\",\"black\",\"black\",\"black\",\"black\",\"black\",\"black\",\"black\",\"black\",\"black\",\"black\",\"black\",\"black\",\"black\",\"black\",\"black\",\"black\",\"black\",\"black\",\"black\",\"black\",\"black\",\"black\",\"black\",\"black\",\"black\",\"black\",\"black\",\"black\",\"black\",\"black\",\"black\",\"black\",\"black\",\"black\",\"black\",\"black\",\"black\",\"black\",\"black\",\"black\",\"black\",\"black\",\"black\",\"black\",\"black\",\"black\",\"black\",\"black\",\"black\",\"black\",\"black\",\"black\",\"black\",\"black\",\"black\",\"black\",\"black\",\"black\",\"black\",\"black\",\"black\",\"black\",\"black\",\"black\",\"black\",\"black\",\"black\",\"black\",\"black\",\"black\",\"black\",\"black\",\"black\",\"black\",\"black\",\"black\",\"black\",\"black\"],\"xs\":[[135757320,135757320],[135761078,135761078],[135761271,135761271],[135762344,135762344],[135762980,135762980],[135763280,135763280],[135768815,135768815],[135769093,135769093],[135769127,135769127],[135770940,135770940],[135770951,135770951],[135776728,135776728],[135777504,135777504],[135773319,135773319],[135782994,135782994],[135782995,135782995],[135782998,135782998],[135782999,135782999],[135801096,135801096],[135810349,135810349],[135810793,135810793],[135813701,135813701],[135818281,135818281],[135822991,135822991],[135823450,135823450],[135823834,135823834],[135824823,135824823],[135828466,135828466],[135829333,135829333],[135830819,135830819],[135840645,135840645],[135840827,135840827],[135846028,135846028],[135850786,135850786],[135850950,135850950],[135851737,135851737],[135851739,135851739],[135852332,135852332],[135853861,135853861],[135854068,135854068],[135854685,135854685],[135856038,135856038],[135862109,135862109],[135862401,135862401],[135863691,135863691],[135866027,135866027],[135867563,135867563],[135871434,135871434],[135876120,135876120],[135881988,135881988],[135891281,135891281],[135895394,135895394],[135896642,135896642],[135897756,135897756],[135912026,135912026],[135914126,135914126],[135916951,135916951],[135918112,135918112],[135924787,135924787],[135927729,135927729],[135930265,135930265],[135931222,135931222],[135948127,135948127],[135949701,135949701],[135957703,135957703],[135962001,135962001],[135968466,135968466],[135975199,135975199],[135977079,135977079],[135980808,135980808],[135981536,135981536],[135987191,135987191],[135989869,135989869],[135991527,135991527],[135992684,135992684],[135998422,135998422],[135998865,135998865],[136003411,136003411],[136008335,136008335],[136009537,136009537],[136010391,136010391],[136035323,136035323],[136037259,136037259],[136052308,136052308],[136054376,136054376],[136055105,136055105],[136058763,136058763],[136064157,136064157],[136074280,136074280],[136074561,136074561],[136078097,136078097],[136078353,136078353],[136079270,136079270],[136097431,136097431],[136104885,136104885],[136107710,136107710],[136113140,136113140],[136115065,136115065],[136117883,136117883],[136122092,136122092],[136123060,136123060],[136124958,136124958],[136129031,136129031],[136137878,136137878],[136138964,136138964],[136147793,136147793],[136148463,136148463],[136151303,136151303],[136153889,136153889],[136155242,136155242],[136158852,136158852],[136160609,136160609],[136160636,136160636],[136160958,136160958],[136161678,136161678],[136161990,136161990],[136163171,136163171],[136163485,136163485],[136163668,136163668],[136163967,136163967],[136165084,136165084],[136175947,136175947],[136191718,136191718],[136201571,136201571],[136203522,136203522],[136203641,136203641],[136204451,136204451],[136204593,136204593],[136204888,136204888],[136216623,136216623],[136219114,136219114],[136222602,136222602],[136228129,136228129],[136228291,136228291],[136229670,136229670],[136230061,136230061],[136232059,136232059],[136238344,136238344],[136241355,136241355],[136244591,136244591],[136246156,136246156],[136249895,136249895],[136250642,136250642],[136251546,136251546],[136255406,136255406],[136255837,136255837],[136256724,136256724],[136256777,136256777],[136263271,136263271],[136263320,136263320],[136274857,136274857],[136279222,136279222],[136279705,136279705],[136280288,136280288],[136290299,136290299],[136300341,136300341],[136300434,136300434],[136305610,136305610],[136305952,136305952],[136309180,136309180],[136309308,136309308],[136310715,136310715],[136330715,136330715],[136333105,136333105],[136337792,136337792],[136339080,136339080],[136339412,136339412],[136339826,136339826],[136340974,136340974],[136349862,136349862],[136353068,136353068],[136355227,136355227],[136356763,136356763],[136359056,136359056],[136360706,136360706],[136367510,136367510],[136368043,136368043],[136371507,136371507],[136375075,136375075],[136382614,136382614],[136402029,136402029],[136411311,136411311],[136439260,136439260],[136439470,136439470],[136442758,136442758],[136452302,136452302],[136456531,136456531],[136464549,136464549],[136474865,136474865],[136479740,136479740],[136490447,136490447],[136492077,136492077],[136494131,136494131],[135778464,135778464],[135821962,135821962],[135840758,135840758],[135852808,135852808],[135894761,135894761],[135901370,135901370],[136001333,136001333],[136021546,136021546],[136054404,136054404],[136054495,136054495],[136091209,136091209],[136104902,136104902],[136114632,136114632],[136134542,136134542],[136176598,136176598],[136180757,136180757],[136246916,136246916],[136251889,136251889],[136261397,136261397],[136278650,136278650],[136308610,136308610],[136372213,136372213],[136386964,136386964],[135933921,135933921],[135939824,135939824],[135941503,135941503],[135943900,135943900],[135945474,135945474],[135949715,135949715],[135956745,135956745],[135958693,135958693],[135967778,135967778],[135972093,135972093],[135973768,135973768],[135976498,135976498],[135978428,135978428],[135990031,135990031],[135992481,135992481],[135993925,135993925],[135994838,135994838],[136000253,136000253],[136003567,136003567],[136005477,136005477],[136005971,136005971],[136020977,136020977],[136027535,136027535],[136031588,136031588],[136032905,136032905],[136042480,136042480],[136043885,136043885],[136050471,136050471],[136052898,136052898],[136054815,136054815],[136056285,136056285],[136061560,136061560],[136063685,136063685],[136069060,136069060],[136072179,136072179],[136074233,136074233],[136080721,136080721],[136080822,136080822],[136088440,136088440],[136088643,136088643],[136092416,136092416],[136092869,136092869],[136094615,136094615],[136095505,136095505],[136095604,136095604],[136096766,136096766],[136097091,136097091],[136097394,136097394],[136100243,136100243],[136101823,136101823],[136106561,136106561],[136115501,136115501],[136122622,136122622],[136123014,136123014],[136123848,136123848],[136127100,136127100],[136127950,136127950],[136128630,136128630],[136129630,136129630],[136129791,136129791],[136131324,136131324],[136135383,136135383],[136135994,136135994],[136136224,136136224],[136136366,136136366],[136136440,136136440],[136138145,136138145],[136140568,136140568],[136145882,136145882],[136147948,136147948],[136148630,136148630],[136151485,136151485],[136152802,136152802],[136156753,136156753],[136157913,136157913],[136160902,136160902],[136165765,136165765],[136171649,136171649],[136173220,136173220],[136173735,136173735],[136174552,136174552],[136175692,136175692],[136176805,136176805],[136182484,136182484],[136183188,136183188],[136187252,136187252],[136187345,136187345],[136189475,136189475],[136197702,136197702],[136198435,136198435],[136202937,136202937],[136219999,136219999],[136221500,136221500],[136226626,136226626],[136228929,136228929],[136229598,136229598],[136238270,136238270],[136238346,136238346],[136240769,136240769],[136244171,136244171],[136249245,136249245],[136250285,136250285],[136254419,136254419],[136266241,136266241],[136267808,136267808],[136272074,136272074],[136277304,136277304],[136290607,136290607],[136290663,136290663],[136291310,136291310],[136296051,136296051],[136305392,136305392],[136306890,136306890],[136310803,136310803],[136324225,136324225],[136324465,136324465],[136327305,136327305],[136329618,136329618],[136333300,136333300],[136350089,136350089],[136354204,136354204],[136360455,136360455],[136368563,136368563],[136115507,136115507],[136133627,136133627],[136135820,136135820],[136145676,136145676],[136166014,136166014],[136173684,136173684],[136176031,136176031],[136214307,136214307],[136215590,136215590],[136219265,136219265],[136219831,136219831],[136289471,136289471],[136298739,136298739],[136302296,136302296],[136302897,136302897],[136348702,136348702],[136348964,136348964],[136358707,136358707],[136359608,136359608],[136360402,136360402],[136365624,136365624],[136366970,136366970],[136367871,136367871],[136368393,136368393],[136370701,136370701],[136378539,136378539],[136378895,136378895],[136385280,136385280],[136309239,136309239],[136322472,136322472],[136323787,136323787],[136323862,136323862],[136326765,136326765],[136329500,136329500],[136331657,136331657],[136345356,136345356],[136361560,136361560],[136364916,136364916],[136369497,136369497],[136369580,136369580],[136380846,136380846],[136387893,136387893],[136393157,136393157],[136397433,136397433],[136402116,136402116],[136408291,136408291],[136421548,136421548],[136422784,136422784],[136427745,136427745],[136438950,136438950],[136439805,136439805],[136441410,136441410],[136448855,136448855],[136456090,136456090],[136456675,136456675],[136466831,136466831],[136496493,136496493],[136496639,136496639],[136496928,136496928],[136509573,136509573],[136511951,136511951],[136537057,136537057],[136546635,136546635],[136553438,136553438],[136553925,136553925],[136496875,136496875],[136499066,136499066],[136505438,136505438],[136508372,136508372],[136514164,136514164],[136514846,136514846],[136517177,136517177],[136520305,136520305],[136521243,136521243],[136522001,136522001],[136523281,136523281],[136533585,136533585],[136534168,136534168],[136543228,136543228],[136544100,136544100],[136546151,136546151],[136547483,136547483],[136548206,136548206],[136511874,136511874],[136530248,136530248],[136530556,136530556],[136531252,136531252],[136533195,136533195],[136588031,136588031],[136589278,136589278],[136589379,136589379],[136589741,136589741],[136590746,136590746],[136593553,136593553],[136593678,136593678],[136603638,136603638],[136603690,136603690],[136604210,136604210],[136604345,136604345],[136604346,136604346],[136605111,136605111],[136612598,136612598],[136614955,136614955],[136619114,136619114],[136619213,136619213],[136623900,136623900],[136624123,136624123],[136624155,136624155],[136630170,136630170],[136631415,136631415],[136632125,136632125]],\"ys\":[[550,596],[550,596],[550,596],[550,596],[550,596],[550,596],[550,596],[550,596],[550,596],[550,596],[550,596],[550,596],[550,596],[150,179],[150,179],[150,179],[150,179],[150,179],[150,179],[150,179],[150,179],[150,179],[150,179],[150,179],[150,179],[150,179],[150,179],[150,179],[150,179],[150,179],[150,179],[150,179],[150,179],[150,179],[150,179],[150,179],[150,179],[150,179],[150,179],[150,179],[150,179],[150,179],[150,179],[150,179],[150,179],[150,179],[150,179],[150,179],[150,179],[150,179],[150,179],[150,179],[150,179],[150,179],[150,179],[150,179],[150,179],[150,179],[150,179],[150,179],[150,179],[150,179],[150,179],[150,179],[150,179],[150,179],[150,179],[150,179],[150,179],[150,179],[150,179],[150,179],[150,179],[150,179],[150,179],[150,179],[150,179],[150,179],[150,179],[150,179],[150,179],[150,179],[150,179],[150,179],[150,179],[150,179],[150,179],[150,179],[150,179],[150,179],[150,179],[150,179],[150,179],[150,179],[150,179],[150,179],[150,179],[150,179],[150,179],[150,179],[150,179],[150,179],[150,179],[150,179],[150,179],[150,179],[150,179],[150,179],[150,179],[150,179],[150,179],[150,179],[150,179],[150,179],[150,179],[150,179],[150,179],[150,179],[150,179],[150,179],[150,179],[150,179],[150,179],[150,179],[150,179],[150,179],[150,179],[150,179],[150,179],[150,179],[150,179],[150,179],[150,179],[150,179],[150,179],[150,179],[150,179],[150,179],[150,179],[150,179],[150,179],[150,179],[150,179],[150,179],[150,179],[150,179],[150,179],[150,179],[150,179],[150,179],[150,179],[150,179],[150,179],[150,179],[150,179],[150,179],[150,179],[150,179],[150,179],[150,179],[150,179],[150,179],[150,179],[150,179],[150,179],[150,179],[150,179],[150,179],[150,179],[150,179],[150,179],[150,179],[150,179],[150,179],[150,179],[150,179],[150,179],[150,179],[150,179],[150,179],[150,179],[150,179],[150,179],[150,179],[150,179],[150,179],[150,179],[150,179],[150,179],[150,179],[150,179],[150,179],[150,179],[50,78],[50,78],[50,78],[50,78],[50,78],[50,78],[50,78],[50,78],[50,78],[50,78],[50,78],[50,78],[50,78],[50,78],[50,78],[50,78],[50,78],[50,78],[50,78],[50,78],[50,78],[50,78],[50,78],[550,595],[550,595],[550,595],[550,595],[550,595],[550,595],[550,595],[550,595],[550,595],[550,595],[550,595],[550,595],[550,595],[550,595],[550,595],[550,595],[550,595],[550,595],[550,595],[550,595],[550,595],[550,595],[550,595],[550,595],[550,595],[550,595],[550,595],[550,595],[550,595],[550,595],[550,595],[550,595],[550,595],[550,595],[550,595],[550,595],[550,595],[550,595],[550,595],[550,595],[550,595],[550,595],[550,595],[550,595],[550,595],[550,595],[550,595],[550,595],[550,595],[550,595],[550,595],[550,595],[550,595],[550,595],[550,595],[550,595],[550,595],[550,595],[550,595],[550,595],[550,595],[550,595],[550,595],[550,595],[550,595],[550,595],[550,595],[550,595],[550,595],[550,595],[550,595],[550,595],[550,595],[550,595],[550,595],[550,595],[550,595],[550,595],[550,595],[550,595],[550,595],[550,595],[550,595],[550,595],[550,595],[550,595],[550,595],[550,595],[550,595],[550,595],[550,595],[550,595],[550,595],[550,595],[550,595],[550,595],[550,595],[550,595],[550,595],[550,595],[550,595],[550,595],[550,595],[550,595],[550,595],[550,595],[550,595],[550,595],[550,595],[550,595],[550,595],[550,595],[550,595],[550,595],[550,595],[550,595],[550,595],[550,595],[550,595],[550,595],[550,595],[550,595],[550,595],[250,284],[250,284],[250,284],[250,284],[250,284],[250,284],[250,284],[250,284],[250,284],[250,284],[250,284],[250,284],[250,284],[250,284],[250,284],[250,284],[250,284],[250,284],[250,284],[250,284],[250,284],[250,284],[250,284],[250,284],[250,284],[250,284],[250,284],[250,284],[450,490],[450,490],[450,490],[450,490],[450,490],[450,490],[450,490],[450,490],[450,490],[350,387],[350,387],[350,387],[350,387],[350,387],[550,593],[550,593],[550,593],[550,593],[550,593],[550,593],[550,593],[550,593],[550,593],[550,593],[450,487],[450,487],[450,487],[450,487],[550,593],[550,593],[550,593],[550,593],[550,593],[550,593],[550,593],[550,593],[550,593],[50,75],[50,75],[50,75],[50,75],[50,75],[50,75],[50,75],[50,75],[50,75],[50,75],[50,75],[50,75],[50,75],[50,75],[50,75],[50,75],[50,75],[50,75],[450,491],[450,491],[450,491],[450,491],[450,491],[550,596],[550,596],[550,596],[550,596],[550,596],[550,596],[550,596],[350,385],[350,385],[350,385],[350,385],[350,385],[350,385],[350,385],[350,385],[350,385],[350,385],[350,385],[350,385],[350,385],[350,385],[350,385],[350,385]]}},\"id\":\"be7b6d60-f08b-414f-9450-a15515e5651e\",\"type\":\"ColumnDataSource\"},{\"attributes\":{\"line_alpha\":{\"value\":0.1},\"line_color\":{\"value\":\"#1f77b4\"},\"xs\":{\"field\":\"xs\"},\"ys\":{\"field\":\"ys\"}},\"id\":\"6fb50e33-7d3b-4b73-b5f0-6a833b005d39\",\"type\":\"MultiLine\"},{\"attributes\":{\"plot\":{\"id\":\"63763228-354d-4a3b-a3ea-51defaff49fa\",\"subtype\":\"Figure\",\"type\":\"Plot\"}},\"id\":\"bc967067-dc29-4324-8f3b-bcc1b2825936\",\"type\":\"HelpTool\"},{\"attributes\":{\"formatter\":{\"id\":\"e932637a-6b42-4e56-bd6f-60064fc61f30\",\"type\":\"BasicTickFormatter\"},\"plot\":{\"id\":\"63763228-354d-4a3b-a3ea-51defaff49fa\",\"subtype\":\"Figure\",\"type\":\"Plot\"},\"ticker\":{\"id\":\"10adb097-2c97-4f4e-9b49-1c458dcd229e\",\"type\":\"BasicTicker\"}},\"id\":\"9b045bf5-a811-4f08-aef4-d29802327d94\",\"type\":\"LinearAxis\"},{\"attributes\":{\"bottom_units\":\"screen\",\"fill_alpha\":{\"value\":0.5},\"fill_color\":{\"value\":\"lightgrey\"},\"left_units\":\"screen\",\"level\":\"overlay\",\"line_alpha\":{\"value\":1.0},\"line_color\":{\"value\":\"black\"},\"line_dash\":[4,4],\"line_width\":{\"value\":2},\"plot\":null,\"render_mode\":\"css\",\"right_units\":\"screen\",\"top_units\":\"screen\"},\"id\":\"0823aee0-a544-43d0-b14f-1a4b963e32ae\",\"type\":\"BoxAnnotation\"},{\"attributes\":{\"bottom\":{\"field\":\"bottom\"},\"fill_alpha\":{\"value\":0.1},\"fill_color\":{\"value\":\"#1f77b4\"},\"left\":{\"field\":\"left\"},\"line_alpha\":{\"value\":0.1},\"line_color\":{\"value\":\"#1f77b4\"},\"right\":{\"field\":\"right\"},\"top\":{\"field\":\"top\"}},\"id\":\"e1735996-52f0-4b8f-8221-41ad26713e6c\",\"type\":\"Quad\"},{\"attributes\":{\"plot\":{\"id\":\"63763228-354d-4a3b-a3ea-51defaff49fa\",\"subtype\":\"Figure\",\"type\":\"Plot\"}},\"id\":\"594000b0-09f5-48c5-8218-4949ff09513e\",\"type\":\"ResetTool\"},{\"attributes\":{\"plot\":{\"id\":\"63763228-354d-4a3b-a3ea-51defaff49fa\",\"subtype\":\"Figure\",\"type\":\"Plot\"},\"ticker\":{\"id\":\"10adb097-2c97-4f4e-9b49-1c458dcd229e\",\"type\":\"BasicTicker\"}},\"id\":\"5a0e1d0c-8025-46ef-82fc-e24a0cffc6ac\",\"type\":\"Grid\"},{\"attributes\":{\"plot\":{\"id\":\"63763228-354d-4a3b-a3ea-51defaff49fa\",\"subtype\":\"Figure\",\"type\":\"Plot\"}},\"id\":\"9ed8b10c-1d54-4992-acb0-753522d00d4e\",\"type\":\"SaveTool\"},{\"attributes\":{},\"id\":\"e932637a-6b42-4e56-bd6f-60064fc61f30\",\"type\":\"BasicTickFormatter\"},{\"attributes\":{\"callback\":null,\"end\":700},\"id\":\"da69953f-57b9-4069-9f79-a615825bc137\",\"type\":\"Range1d\"},{\"attributes\":{\"callback\":null,\"end\":136786630,\"start\":135757320},\"id\":\"07531d1e-18bc-420b-9aae-7b744ee9a5f3\",\"type\":\"Range1d\"},{\"attributes\":{\"bottom\":{\"field\":\"bottom\"},\"fill_alpha\":{\"value\":0.1},\"fill_color\":{\"value\":\"#1f77b4\"},\"left\":{\"field\":\"left\"},\"line_alpha\":{\"value\":0.1},\"line_color\":{\"value\":\"#1f77b4\"},\"right\":{\"field\":\"right\"},\"top\":{\"field\":\"top\"}},\"id\":\"aebf53dc-c335-4f9e-82ac-c7c72340f6cd\",\"type\":\"Quad\"},{\"attributes\":{\"plot\":{\"id\":\"63763228-354d-4a3b-a3ea-51defaff49fa\",\"subtype\":\"Figure\",\"type\":\"Plot\"}},\"id\":\"ba8a6bee-e8a2-446a-a6a4-7a0b338b550f\",\"type\":\"WheelZoomTool\"},{\"attributes\":{\"active_drag\":\"auto\",\"active_scroll\":\"auto\",\"active_tap\":\"auto\",\"tools\":[{\"id\":\"325d221d-9ede-4a41-88ba-4312db9b77c0\",\"type\":\"PanTool\"},{\"id\":\"ba8a6bee-e8a2-446a-a6a4-7a0b338b550f\",\"type\":\"WheelZoomTool\"},{\"id\":\"f6d0bd54-786b-46f5-9f14-2f65623aca9b\",\"type\":\"BoxZoomTool\"},{\"id\":\"9ed8b10c-1d54-4992-acb0-753522d00d4e\",\"type\":\"SaveTool\"},{\"id\":\"594000b0-09f5-48c5-8218-4949ff09513e\",\"type\":\"ResetTool\"},{\"id\":\"bc967067-dc29-4324-8f3b-bcc1b2825936\",\"type\":\"HelpTool\"}]},\"id\":\"9423d5c1-e08c-4ed6-ac89-b09b5c836d9c\",\"type\":\"Toolbar\"},{\"attributes\":{\"bottom\":{\"field\":\"bottom\"},\"fill_color\":{\"field\":\"fill_color\"},\"left\":{\"field\":\"left\"},\"line_color\":{\"value\":null},\"right\":{\"field\":\"right\"},\"top\":{\"field\":\"top\"}},\"id\":\"f5fdee16-a9e0-4964-89ee-b357d00b0d9c\",\"type\":\"Quad\"},{\"attributes\":{\"plot\":null,\"text\":null},\"id\":\"3318bf4a-84a9-4e60-b0a4-b7731a246860\",\"type\":\"Title\"},{\"attributes\":{},\"id\":\"10adb097-2c97-4f4e-9b49-1c458dcd229e\",\"type\":\"BasicTicker\"},{\"attributes\":{\"callback\":null,\"column_names\":[\"y\",\"x\",\"vals\"],\"data\":{\"vals\":[\"RAB3GAP1\",\"ZRANB3\",\"R3HDM1\",\"UBXN4\",\"LCT\",\"MCM6\",\"DARS\"],\"x\":[135869057.0,136122878.0,136385961.0,136520911.0,136570082.5,136615621.5,136703738.0],\"y\":[660.0,660.0,660.0,660.0,660.0,660.0,660.0]}},\"id\":\"5ffa132f-efc8-4e78-935f-86672563de17\",\"type\":\"ColumnDataSource\"},{\"attributes\":{\"callback\":null,\"column_names\":[\"y\",\"x\",\"vals\"],\"data\":{\"vals\":[\"13_1696\",\"180_251\",\"23_226\",\"123_1561\",\"28_434\",\"9_887\",\"5_588\",\"10_1218\",\"4_612\",\"9_1170\",\"18_148\",\"5_976\",\"7_1760\",\"16_511\"],\"x\":[135757320,135773319,135778464,135933921,136115507,136309239,136364916,136393157,136448855,136496493,136496875,136511874,136588031,136603638],\"y\":[601.0,184.0,83.0,600.0,289.0,495.0,392.0,598.0,492.0,598.0,80.0,496.0,601.0,390.0]}},\"id\":\"845d45d0-73a5-44a5-9243-bd50944bce7f\",\"type\":\"ColumnDataSource\"},{\"attributes\":{\"data_source\":{\"id\":\"d038015e-1453-4961-bbfa-98b8aced8968\",\"type\":\"ColumnDataSource\"},\"glyph\":{\"id\":\"f5fdee16-a9e0-4964-89ee-b357d00b0d9c\",\"type\":\"Quad\"},\"hover_glyph\":null,\"nonselection_glyph\":{\"id\":\"e1735996-52f0-4b8f-8221-41ad26713e6c\",\"type\":\"Quad\"},\"selection_glyph\":null},\"id\":\"c9b7b858-79cd-4043-9c20-5fa980e2e88a\",\"type\":\"GlyphRenderer\"},{\"attributes\":{},\"id\":\"faba85ee-961e-44a8-b37e-ba546fdc5598\",\"type\":\"BasicTickFormatter\"},{\"attributes\":{\"level\":\"glyph\",\"plot\":{\"id\":\"63763228-354d-4a3b-a3ea-51defaff49fa\",\"subtype\":\"Figure\",\"type\":\"Plot\"},\"source\":{\"id\":\"5ffa132f-efc8-4e78-935f-86672563de17\",\"type\":\"ColumnDataSource\"},\"text\":{\"field\":\"vals\"},\"text_align\":\"center\",\"text_baseline\":\"middle\",\"text_font_size\":{\"value\":\"8pt\"},\"x\":{\"field\":\"x\"},\"y\":{\"field\":\"y\"}},\"id\":\"966c454b-bab1-4e40-9d78-77806d42dba1\",\"type\":\"LabelSet\"},{\"attributes\":{\"callback\":null,\"column_names\":[\"right\",\"bottom\",\"top\",\"left\"],\"data\":{\"bottom\":[645,645,645,645,645,645,645],\"left\":[135809835,135957574,136289083,136499189,136545415,136597196,136664254],\"right\":[135928279,136288182,136482839,136542633,136594750,136634047,136743222],\"top\":[675,675,675,675,675,675,675]}},\"id\":\"6debf415-9608-439d-8009-1876f8804af0\",\"type\":\"ColumnDataSource\"},{\"attributes\":{\"dimension\":1,\"plot\":{\"id\":\"63763228-354d-4a3b-a3ea-51defaff49fa\",\"subtype\":\"Figure\",\"type\":\"Plot\"},\"ticker\":{\"id\":\"8604de21-06b3-4779-b962-b9e5fd2055af\",\"type\":\"BasicTicker\"}},\"id\":\"91e39ea9-f98c-43bc-85e7-d4e00207e6bb\",\"type\":\"Grid\"},{\"attributes\":{\"data_source\":{\"id\":\"be7b6d60-f08b-414f-9450-a15515e5651e\",\"type\":\"ColumnDataSource\"},\"glyph\":{\"id\":\"6b7ac242-490f-40ea-a24b-7723cf9aa178\",\"type\":\"MultiLine\"},\"hover_glyph\":null,\"nonselection_glyph\":{\"id\":\"6fb50e33-7d3b-4b73-b5f0-6a833b005d39\",\"type\":\"MultiLine\"},\"selection_glyph\":null},\"id\":\"c320427d-b3fa-4002-b2c7-28f15cf2648a\",\"type\":\"GlyphRenderer\"},{\"attributes\":{\"line_color\":{\"field\":\"line_color\"},\"xs\":{\"field\":\"xs\"},\"ys\":{\"field\":\"ys\"}},\"id\":\"6b7ac242-490f-40ea-a24b-7723cf9aa178\",\"type\":\"MultiLine\"},{\"attributes\":{},\"id\":\"8604de21-06b3-4779-b962-b9e5fd2055af\",\"type\":\"BasicTicker\"},{\"attributes\":{\"overlay\":{\"id\":\"0823aee0-a544-43d0-b14f-1a4b963e32ae\",\"type\":\"BoxAnnotation\"},\"plot\":{\"id\":\"63763228-354d-4a3b-a3ea-51defaff49fa\",\"subtype\":\"Figure\",\"type\":\"Plot\"}},\"id\":\"f6d0bd54-786b-46f5-9f14-2f65623aca9b\",\"type\":\"BoxZoomTool\"},{\"attributes\":{\"plot\":{\"id\":\"63763228-354d-4a3b-a3ea-51defaff49fa\",\"subtype\":\"Figure\",\"type\":\"Plot\"}},\"id\":\"325d221d-9ede-4a41-88ba-4312db9b77c0\",\"type\":\"PanTool\"},{\"attributes\":{\"formatter\":{\"id\":\"faba85ee-961e-44a8-b37e-ba546fdc5598\",\"type\":\"BasicTickFormatter\"},\"plot\":{\"id\":\"63763228-354d-4a3b-a3ea-51defaff49fa\",\"subtype\":\"Figure\",\"type\":\"Plot\"},\"ticker\":{\"id\":\"8604de21-06b3-4779-b962-b9e5fd2055af\",\"type\":\"BasicTicker\"},\"visible\":null},\"id\":\"4d573a6e-7a27-4697-a286-ce3d8370aa2f\",\"type\":\"LinearAxis\"},{\"attributes\":{\"callback\":null,\"column_names\":[\"right\",\"bottom\",\"top\",\"left\",\"fill_color\"],\"data\":{\"bottom\":[550,150,50,550,250,450,350,550,450,550,50,450,550,350],\"fill_color\":[\"#808080\",\"#ff0000\",\"#ff0000\",\"#c46161\",\"#ff0000\",\"#ff0000\",\"#ff0000\",\"#808080\",\"#ff0000\",\"#808080\",\"#ff0000\",\"#808080\",\"#c46161\",\"#c46161\"],\"left\":[135757320,135773319,135778464,135933921,136115507,136309239,136364916,136393157,136448855,136496493,136496875,136511874,136588031,136603638],\"right\":[135777504,136494131,136386964,136368563,136385280,136361560,136387893,136441410,136466831,136553925,136548206,136533195,136593678,136632125],\"top\":[596,179,78,595,284,490,387,593,487,593,75,491,596,385]}},\"id\":\"d038015e-1453-4961-bbfa-98b8aced8968\",\"type\":\"ColumnDataSource\"},{\"attributes\":{\"below\":[{\"id\":\"9b045bf5-a811-4f08-aef4-d29802327d94\",\"type\":\"LinearAxis\"}],\"left\":[{\"id\":\"4d573a6e-7a27-4697-a286-ce3d8370aa2f\",\"type\":\"LinearAxis\"}],\"plot_height\":700,\"plot_width\":900,\"renderers\":[{\"id\":\"9b045bf5-a811-4f08-aef4-d29802327d94\",\"type\":\"LinearAxis\"},{\"id\":\"5a0e1d0c-8025-46ef-82fc-e24a0cffc6ac\",\"type\":\"Grid\"},{\"id\":\"4d573a6e-7a27-4697-a286-ce3d8370aa2f\",\"type\":\"LinearAxis\"},{\"id\":\"91e39ea9-f98c-43bc-85e7-d4e00207e6bb\",\"type\":\"Grid\"},{\"id\":\"0823aee0-a544-43d0-b14f-1a4b963e32ae\",\"type\":\"BoxAnnotation\"},{\"id\":\"c9b7b858-79cd-4043-9c20-5fa980e2e88a\",\"type\":\"GlyphRenderer\"},{\"id\":\"c320427d-b3fa-4002-b2c7-28f15cf2648a\",\"type\":\"GlyphRenderer\"},{\"id\":\"5386daa5-f1f7-43c0-9569-644f46a032be\",\"type\":\"LabelSet\"},{\"id\":\"10a1076f-d8c0-4740-ab8e-336d340f5cb6\",\"type\":\"GlyphRenderer\"},{\"id\":\"966c454b-bab1-4e40-9d78-77806d42dba1\",\"type\":\"LabelSet\"}],\"title\":{\"id\":\"3318bf4a-84a9-4e60-b0a4-b7731a246860\",\"type\":\"Title\"},\"tool_events\":{\"id\":\"008df215-6586-4d35-b226-04c1ca91368f\",\"type\":\"ToolEvents\"},\"toolbar\":{\"id\":\"9423d5c1-e08c-4ed6-ac89-b09b5c836d9c\",\"type\":\"Toolbar\"},\"toolbar_location\":null,\"x_range\":{\"id\":\"07531d1e-18bc-420b-9aae-7b744ee9a5f3\",\"type\":\"Range1d\"},\"y_range\":{\"id\":\"da69953f-57b9-4069-9f79-a615825bc137\",\"type\":\"Range1d\"}},\"id\":\"63763228-354d-4a3b-a3ea-51defaff49fa\",\"subtype\":\"Figure\",\"type\":\"Plot\"},{\"attributes\":{\"level\":\"glyph\",\"plot\":{\"id\":\"63763228-354d-4a3b-a3ea-51defaff49fa\",\"subtype\":\"Figure\",\"type\":\"Plot\"},\"source\":{\"id\":\"845d45d0-73a5-44a5-9243-bd50944bce7f\",\"type\":\"ColumnDataSource\"},\"text\":{\"field\":\"vals\"},\"text_font_size\":{\"value\":\"9pt\"},\"text_font_style\":\"bold\",\"x\":{\"field\":\"x\"},\"y\":{\"field\":\"y\"}},\"id\":\"5386daa5-f1f7-43c0-9569-644f46a032be\",\"type\":\"LabelSet\"},{\"attributes\":{\"bottom\":{\"field\":\"bottom\"},\"fill_color\":{\"value\":\"white\"},\"left\":{\"field\":\"left\"},\"right\":{\"field\":\"right\"},\"top\":{\"field\":\"top\"}},\"id\":\"72ee82d6-ef3c-47a0-a4aa-09bb48cf0725\",\"type\":\"Quad\"}],\"root_ids\":[\"63763228-354d-4a3b-a3ea-51defaff49fa\"]},\"title\":\"Bokeh Application\",\"version\":\"0.12.0\"}};\n",
       "            var render_items = [{\"docid\":\"190e396a-e82f-4927-b837-7446c0e56834\",\"elementid\":\"82c8e3bd-5c5f-474a-9680-138ca2057d27\",\"modelid\":\"63763228-354d-4a3b-a3ea-51defaff49fa\",\"notebook_comms_target\":\"3c072dfb-af51-4443-b19c-bbb18416c85c\"}];\n",
       "            \n",
       "            Bokeh.embed.embed_items(docs_json, render_items);\n",
       "        });\n",
       "      },\n",
       "      function(Bokeh) {\n",
       "      }\n",
       "    ];\n",
       "  \n",
       "    function run_inline_js() {\n",
       "      for (var i = 0; i < inline_js.length; i++) {\n",
       "        inline_js[i](window.Bokeh);\n",
       "      }\n",
       "    }\n",
       "  \n",
       "    if (window._bokeh_is_loading === 0) {\n",
       "      console.log(\"Bokeh: BokehJS loaded, going straight to plotting\");\n",
       "      run_inline_js();\n",
       "    } else {\n",
       "      load_libs(js_urls, function() {\n",
       "        console.log(\"Bokeh: BokehJS plotting callback run at\", now());\n",
       "        run_inline_js();\n",
       "      });\n",
       "    }\n",
       "  }(this));\n",
       "</script>"
      ]
     },
     "metadata": {},
     "output_type": "display_data"
    },
    {
     "data": {
      "text/html": [
       "<p><code>&lt;Bokeh Notebook handle for <strong>In[33]</strong>&gt;</code></p>"
      ],
      "text/plain": [
       "<bokeh.io._CommsHandle at 0x7f3f60239e50>"
      ]
     },
     "execution_count": 33,
     "metadata": {},
     "output_type": "execute_result"
    }
   ],
   "source": [
    "plt_obj = dm.superset_allele_mask(am2, min_match=0.5)\n",
    "plt = plt_obj.do_plot()\n",
    "show(plt)"
   ]
  },
  {
   "cell_type": "code",
   "execution_count": 34,
   "metadata": {
    "collapsed": false
   },
   "outputs": [
    {
     "data": {
      "text/html": [
       "<table>\n",
       "<thead><tr><th style=\"text-align:center\">index</th><th style=\"text-align:center\">first</th><th style=\"text-align:center\">length</th><th style=\"text-align:center\">snps</th><th style=\"text-align:center\" colspan=2>alleles</th><th style=\"text-align:center\" colspan=2>matches</th><th style=\"text-align:center\" colspan=2>afr</th><th style=\"text-align:center\" colspan=2>afx</th><th style=\"text-align:center\" colspan=2>amr</th><th style=\"text-align:center\" colspan=2>eas</th><th style=\"text-align:center\" colspan=2>eur</th><th style=\"text-align:center\" colspan=2>sas</th><th style=\"text-align:center\" colspan=2>sax</th></tr></thead>\n",
       "<tr class=\"even\"><td style=\"text-align: right;\">354033</td><td style=\"text-align: right;\">136,588,031</td><td style=\"text-align: right;\">5,647</td><td style=\"text-align: right;\">7</td><td style=\"text-align: right;\">1760</td><td style=\"text-align: right;\">0.10</td><td style=\"text-align: right;\">184</td><td style=\"text-align: right;\">0.73</td><td style=\"text-align: right;\">144</td><td style=\"text-align: right;\">3.89</td><td style=\"text-align: right;\">37</td><td style=\"text-align: right;\">3.21</td><td style=\"text-align: right;\">3</td><td style=\"text-align: right;\">0.12</td><td style=\"text-align: right;\">0</td><td style=\"text-align: right;\">0.00</td><td style=\"text-align: right;\">0</td><td style=\"text-align: right;\">0.00</td><td style=\"text-align: right;\">0</td><td style=\"text-align: right;\">0.00</td><td style=\"text-align: right;\">0</td><td style=\"text-align: right;\">0.00</td></tr>\n",
       "<tr><td style=\"text-align: right;\">353240</td><td style=\"text-align: right;\">135,757,320</td><td style=\"text-align: right;\">20,184</td><td style=\"text-align: right;\">13</td><td style=\"text-align: right;\">1696</td><td style=\"text-align: right;\">0.15</td><td style=\"text-align: right;\">251</td><td style=\"text-align: right;\">1.00</td><td style=\"text-align: right;\">191</td><td style=\"text-align: right;\">3.78</td><td style=\"text-align: right;\">56</td><td style=\"text-align: right;\">3.56</td><td style=\"text-align: right;\">4</td><td style=\"text-align: right;\">0.11</td><td style=\"text-align: right;\">0</td><td style=\"text-align: right;\">0.00</td><td style=\"text-align: right;\">0</td><td style=\"text-align: right;\">0.00</td><td style=\"text-align: right;\">0</td><td style=\"text-align: right;\">0.00</td><td style=\"text-align: right;\">0</td><td style=\"text-align: right;\">0.00</td></tr>\n",
       "<tr class=\"even\"><td style=\"text-align: right;\">353478</td><td style=\"text-align: right;\">135,933,921</td><td style=\"text-align: right;\">434,642</td><td style=\"text-align: right;\">123</td><td style=\"text-align: right;\">1561</td><td style=\"text-align: right;\">0.16</td><td style=\"text-align: right;\">251</td><td style=\"text-align: right;\">1.00</td><td style=\"text-align: right;\">191</td><td style=\"text-align: right;\">3.78</td><td style=\"text-align: right;\">56</td><td style=\"text-align: right;\">3.56</td><td style=\"text-align: right;\">4</td><td style=\"text-align: right;\">0.11</td><td style=\"text-align: right;\">0</td><td style=\"text-align: right;\">0.00</td><td style=\"text-align: right;\">0</td><td style=\"text-align: right;\">0.00</td><td style=\"text-align: right;\">0</td><td style=\"text-align: right;\">0.00</td><td style=\"text-align: right;\">0</td><td style=\"text-align: right;\">0.00</td></tr>\n",
       "<tr><td style=\"text-align: right;\">353790</td><td style=\"text-align: right;\">136,393,157</td><td style=\"text-align: right;\">48,253</td><td style=\"text-align: right;\">10</td><td style=\"text-align: right;\">1218</td><td style=\"text-align: right;\">0.20</td><td style=\"text-align: right;\">240</td><td style=\"text-align: right;\">0.96</td><td style=\"text-align: right;\">181</td><td style=\"text-align: right;\">3.75</td><td style=\"text-align: right;\">55</td><td style=\"text-align: right;\">3.65</td><td style=\"text-align: right;\">4</td><td style=\"text-align: right;\">0.12</td><td style=\"text-align: right;\">0</td><td style=\"text-align: right;\">0.00</td><td style=\"text-align: right;\">0</td><td style=\"text-align: right;\">0.00</td><td style=\"text-align: right;\">0</td><td style=\"text-align: right;\">0.00</td><td style=\"text-align: right;\">0</td><td style=\"text-align: right;\">0.00</td></tr>\n",
       "<tr class=\"even\"><td style=\"text-align: right;\">353906</td><td style=\"text-align: right;\">136,496,493</td><td style=\"text-align: right;\">57,432</td><td style=\"text-align: right;\">9</td><td style=\"text-align: right;\">1170</td><td style=\"text-align: right;\">0.12</td><td style=\"text-align: right;\">138</td><td style=\"text-align: right;\">0.55</td><td style=\"text-align: right;\">100</td><td style=\"text-align: right;\">3.60</td><td style=\"text-align: right;\">36</td><td style=\"text-align: right;\">4.16</td><td style=\"text-align: right;\">2</td><td style=\"text-align: right;\">0.10</td><td style=\"text-align: right;\">0</td><td style=\"text-align: right;\">0.00</td><td style=\"text-align: right;\">0</td><td style=\"text-align: right;\">0.00</td><td style=\"text-align: right;\">0</td><td style=\"text-align: right;\">0.00</td><td style=\"text-align: right;\">0</td><td style=\"text-align: right;\">0.00</td></tr>\n",
       "<tr><td style=\"text-align: right;\">353935</td><td style=\"text-align: right;\">136,511,874</td><td style=\"text-align: right;\">21,321</td><td style=\"text-align: right;\">5</td><td style=\"text-align: right;\">976</td><td style=\"text-align: right;\">0.14</td><td style=\"text-align: right;\">138</td><td style=\"text-align: right;\">0.55</td><td style=\"text-align: right;\">100</td><td style=\"text-align: right;\">3.60</td><td style=\"text-align: right;\">36</td><td style=\"text-align: right;\">4.16</td><td style=\"text-align: right;\">2</td><td style=\"text-align: right;\">0.10</td><td style=\"text-align: right;\">0</td><td style=\"text-align: right;\">0.00</td><td style=\"text-align: right;\">0</td><td style=\"text-align: right;\">0.00</td><td style=\"text-align: right;\">0</td><td style=\"text-align: right;\">0.00</td><td style=\"text-align: right;\">0</td><td style=\"text-align: right;\">0.00</td></tr>\n",
       "<tr class=\"even\"><td style=\"text-align: right;\">353729</td><td style=\"text-align: right;\">136,309,239</td><td style=\"text-align: right;\">52,321</td><td style=\"text-align: right;\">9</td><td style=\"text-align: right;\">887</td><td style=\"text-align: right;\">0.28</td><td style=\"text-align: right;\">251</td><td style=\"text-align: right;\">1.00</td><td style=\"text-align: right;\">191</td><td style=\"text-align: right;\">3.78</td><td style=\"text-align: right;\">56</td><td style=\"text-align: right;\">3.56</td><td style=\"text-align: right;\">4</td><td style=\"text-align: right;\">0.11</td><td style=\"text-align: right;\">0</td><td style=\"text-align: right;\">0.00</td><td style=\"text-align: right;\">0</td><td style=\"text-align: right;\">0.00</td><td style=\"text-align: right;\">0</td><td style=\"text-align: right;\">0.00</td><td style=\"text-align: right;\">0</td><td style=\"text-align: right;\">0.00</td></tr>\n",
       "<tr><td style=\"text-align: right;\">353851</td><td style=\"text-align: right;\">136,448,855</td><td style=\"text-align: right;\">17,976</td><td style=\"text-align: right;\">4</td><td style=\"text-align: right;\">612</td><td style=\"text-align: right;\">0.36</td><td style=\"text-align: right;\">223</td><td style=\"text-align: right;\">0.89</td><td style=\"text-align: right;\">167</td><td style=\"text-align: right;\">3.72</td><td style=\"text-align: right;\">52</td><td style=\"text-align: right;\">3.72</td><td style=\"text-align: right;\">4</td><td style=\"text-align: right;\">0.13</td><td style=\"text-align: right;\">0</td><td style=\"text-align: right;\">0.00</td><td style=\"text-align: right;\">0</td><td style=\"text-align: right;\">0.00</td><td style=\"text-align: right;\">0</td><td style=\"text-align: right;\">0.00</td><td style=\"text-align: right;\">0</td><td style=\"text-align: right;\">0.00</td></tr>\n",
       "<tr class=\"even\"><td style=\"text-align: right;\">353764</td><td style=\"text-align: right;\">136,364,916</td><td style=\"text-align: right;\">22,977</td><td style=\"text-align: right;\">5</td><td style=\"text-align: right;\">588</td><td style=\"text-align: right;\">0.43</td><td style=\"text-align: right;\">250</td><td style=\"text-align: right;\">1.00</td><td style=\"text-align: right;\">190</td><td style=\"text-align: right;\">3.78</td><td style=\"text-align: right;\">56</td><td style=\"text-align: right;\">3.57</td><td style=\"text-align: right;\">4</td><td style=\"text-align: right;\">0.12</td><td style=\"text-align: right;\">0</td><td style=\"text-align: right;\">0.00</td><td style=\"text-align: right;\">0</td><td style=\"text-align: right;\">0.00</td><td style=\"text-align: right;\">0</td><td style=\"text-align: right;\">0.00</td><td style=\"text-align: right;\">0</td><td style=\"text-align: right;\">0.00</td></tr>\n",
       "<tr><td style=\"text-align: right;\">354061</td><td style=\"text-align: right;\">136,603,638</td><td style=\"text-align: right;\">28,487</td><td style=\"text-align: right;\">16</td><td style=\"text-align: right;\">511</td><td style=\"text-align: right;\">0.25</td><td style=\"text-align: right;\">126</td><td style=\"text-align: right;\">0.50</td><td style=\"text-align: right;\">103</td><td style=\"text-align: right;\">4.06</td><td style=\"text-align: right;\">21</td><td style=\"text-align: right;\">2.66</td><td style=\"text-align: right;\">2</td><td style=\"text-align: right;\">0.11</td><td style=\"text-align: right;\">0</td><td style=\"text-align: right;\">0.00</td><td style=\"text-align: right;\">0</td><td style=\"text-align: right;\">0.00</td><td style=\"text-align: right;\">0</td><td style=\"text-align: right;\">0.00</td><td style=\"text-align: right;\">0</td><td style=\"text-align: right;\">0.00</td></tr>\n",
       "<tr class=\"even\"><td style=\"text-align: right;\">353614</td><td style=\"text-align: right;\">136,115,507</td><td style=\"text-align: right;\">269,773</td><td style=\"text-align: right;\">28</td><td style=\"text-align: right;\">434</td><td style=\"text-align: right;\">0.58</td><td style=\"text-align: right;\">251</td><td style=\"text-align: right;\">1.00</td><td style=\"text-align: right;\">191</td><td style=\"text-align: right;\">3.78</td><td style=\"text-align: right;\">56</td><td style=\"text-align: right;\">3.56</td><td style=\"text-align: right;\">4</td><td style=\"text-align: right;\">0.11</td><td style=\"text-align: right;\">0</td><td style=\"text-align: right;\">0.00</td><td style=\"text-align: right;\">0</td><td style=\"text-align: right;\">0.00</td><td style=\"text-align: right;\">0</td><td style=\"text-align: right;\">0.00</td><td style=\"text-align: right;\">0</td><td style=\"text-align: right;\">0.00</td></tr>\n",
       "<tr><td style=\"text-align: right;\">353288</td><td style=\"text-align: right;\">135,773,319</td><td style=\"text-align: right;\">720,812</td><td style=\"text-align: right;\">180</td><td style=\"text-align: right;\">251</td><td style=\"text-align: right;\">0.99</td><td style=\"text-align: right;\">249</td><td style=\"text-align: right;\">0.99</td><td style=\"text-align: right;\">189</td><td style=\"text-align: right;\">3.77</td><td style=\"text-align: right;\">56</td><td style=\"text-align: right;\">3.59</td><td style=\"text-align: right;\">4</td><td style=\"text-align: right;\">0.12</td><td style=\"text-align: right;\">0</td><td style=\"text-align: right;\">0.00</td><td style=\"text-align: right;\">0</td><td style=\"text-align: right;\">0.00</td><td style=\"text-align: right;\">0</td><td style=\"text-align: right;\">0.00</td><td style=\"text-align: right;\">0</td><td style=\"text-align: right;\">0.00</td></tr>\n",
       "<tr class=\"even\"><td style=\"text-align: right;\">353300</td><td style=\"text-align: right;\">135,778,464</td><td style=\"text-align: right;\">608,500</td><td style=\"text-align: right;\">23</td><td style=\"text-align: right;\">226</td><td style=\"text-align: right;\">0.99</td><td style=\"text-align: right;\">223</td><td style=\"text-align: right;\">0.89</td><td style=\"text-align: right;\">170</td><td style=\"text-align: right;\">3.79</td><td style=\"text-align: right;\">50</td><td style=\"text-align: right;\">3.58</td><td style=\"text-align: right;\">3</td><td style=\"text-align: right;\">0.10</td><td style=\"text-align: right;\">0</td><td style=\"text-align: right;\">0.00</td><td style=\"text-align: right;\">0</td><td style=\"text-align: right;\">0.00</td><td style=\"text-align: right;\">0</td><td style=\"text-align: right;\">0.00</td><td style=\"text-align: right;\">0</td><td style=\"text-align: right;\">0.00</td></tr>\n",
       "<tr><td style=\"text-align: right;\">353909</td><td style=\"text-align: right;\">136,496,875</td><td style=\"text-align: right;\">51,331</td><td style=\"text-align: right;\">18</td><td style=\"text-align: right;\">148</td><td style=\"text-align: right;\">0.89</td><td style=\"text-align: right;\">132</td><td style=\"text-align: right;\">0.53</td><td style=\"text-align: right;\">96</td><td style=\"text-align: right;\">3.61</td><td style=\"text-align: right;\">34</td><td style=\"text-align: right;\">4.11</td><td style=\"text-align: right;\">2</td><td style=\"text-align: right;\">0.11</td><td style=\"text-align: right;\">0</td><td style=\"text-align: right;\">0.00</td><td style=\"text-align: right;\">0</td><td style=\"text-align: right;\">0.00</td><td style=\"text-align: right;\">0</td><td style=\"text-align: right;\">0.00</td><td style=\"text-align: right;\">0</td><td style=\"text-align: right;\">0.00</td></tr>\n",
       "</table>"
      ],
      "text/plain": [
       "<IPython.core.display.HTML object>"
      ]
     },
     "execution_count": 34,
     "metadata": {},
     "output_type": "execute_result"
    }
   ],
   "source": [
    "HTML(plt_obj.get_html())"
   ]
  },
  {
   "cell_type": "code",
   "execution_count": 35,
   "metadata": {
    "collapsed": false
   },
   "outputs": [
    {
     "data": {
      "text/plain": [
       "array([(57, 1), (59, 1), (60, 27), (61, 165), (62, 50), (63, 2), (92, 4),\n",
       "       (93, 1)], \n",
       "      dtype=[('count', '<u2'), ('snps', '<u2')])"
      ]
     },
     "execution_count": 35,
     "metadata": {},
     "output_type": "execute_result"
    }
   ],
   "source": [
    "an.sa_117_1685.unique_snps_per_allele(am2)"
   ]
  },
  {
   "cell_type": "code",
   "execution_count": 36,
   "metadata": {
    "collapsed": false
   },
   "outputs": [
    {
     "data": {
      "text/plain": [
       "array([(0, 0), (1, 0), (2, 0), (3, 0), (4, 0), (5, 0), (6, 0), (7, 0),\n",
       "       (8, 0), (9, 0), (10, 0), (11, 165), (12, 165), (13, 0), (14, 165),\n",
       "       (15, 0), (16, 0), (17, 0), (18, 0), (19, 0), (20, 165), (21, 165),\n",
       "       (22, 0), (23, 0), (24, 0), (25, 165), (26, 0), (27, 0), (28, 0),\n",
       "       (29, 165), (30, 1), (31, 0), (32, 0), (33, 0), (34, 0), (35, 0),\n",
       "       (36, 0), (37, 0), (38, 0), (39, 0), (40, 0), (41, 0), (42, 0),\n",
       "       (43, 0), (44, 0), (45, 0), (46, 0), (47, 0), (48, 0), (49, 0),\n",
       "       (50, 0), (51, 0), (52, 0), (53, 0), (54, 43), (55, 0), (56, 0),\n",
       "       (57, 0), (58, 0), (59, 0), (60, 0), (61, 0), (62, 0), (63, 165),\n",
       "       (64, 165), (65, 165), (66, 165), (67, 165), (68, 165), (69, 165),\n",
       "       (70, 165), (71, 165), (72, 165), (73, 165), (74, 165), (75, 165),\n",
       "       (76, 165), (77, 165), (78, 165), (79, 165), (80, 165), (81, 165),\n",
       "       (82, 165), (83, 165), (84, 165), (85, 165), (86, 165), (87, 165),\n",
       "       (88, 165), (89, 165), (90, 165), (91, 165), (92, 165), (93, 165),\n",
       "       (94, 165), (95, 165), (96, 165), (97, 165), (98, 165), (99, 165),\n",
       "       (100, 165), (101, 165), (102, 165), (103, 121), (104, 165),\n",
       "       (105, 165), (106, 165), (107, 165), (108, 165), (109, 165),\n",
       "       (110, 165), (111, 165), (112, 165), (113, 165), (114, 165),\n",
       "       (115, 165), (116, 165)], \n",
       "      dtype=[('index', '<u2'), ('snp_count', '<u2')])"
      ]
     },
     "execution_count": 36,
     "metadata": {},
     "output_type": "execute_result"
    }
   ],
   "source": [
    "tf = an.snp_anal.series_fragment_finder_cls(an.sa_117_1685, am2)\n",
    "tf.alleles_per_snp_from_count(61)"
   ]
  },
  {
   "cell_type": "code",
   "execution_count": 37,
   "metadata": {
    "collapsed": false
   },
   "outputs": [
    {
     "data": {
      "text/plain": [
       "array([(0, 0), (1, 0), (2, 0), (3, 0), (4, 0), (5, 0), (6, 0), (7, 0),\n",
       "       (8, 0), (9, 0), (10, 0), (11, 27), (12, 27), (13, 0), (14, 27),\n",
       "       (15, 0), (16, 0), (17, 0), (18, 0), (19, 0), (20, 27), (21, 27),\n",
       "       (22, 0), (23, 0), (24, 0), (25, 27), (26, 0), (27, 0), (28, 0),\n",
       "       (29, 27), (30, 0), (31, 0), (32, 0), (33, 0), (34, 0), (35, 0),\n",
       "       (36, 0), (37, 0), (38, 0), (39, 0), (40, 0), (41, 0), (42, 0),\n",
       "       (43, 0), (44, 0), (45, 0), (46, 0), (47, 0), (48, 0), (49, 0),\n",
       "       (50, 0), (51, 0), (52, 0), (53, 0), (54, 0), (55, 0), (56, 0),\n",
       "       (57, 0), (58, 0), (59, 0), (60, 0), (61, 0), (62, 0), (63, 27),\n",
       "       (64, 27), (65, 27), (66, 27), (67, 27), (68, 27), (69, 27),\n",
       "       (70, 27), (71, 27), (72, 27), (73, 27), (74, 27), (75, 27),\n",
       "       (76, 27), (77, 27), (78, 27), (79, 27), (80, 27), (81, 27),\n",
       "       (82, 27), (83, 27), (84, 27), (85, 27), (86, 27), (87, 27),\n",
       "       (88, 27), (89, 27), (90, 27), (91, 27), (92, 27), (93, 27),\n",
       "       (94, 27), (95, 27), (96, 27), (97, 27), (98, 27), (99, 27),\n",
       "       (100, 27), (101, 27), (102, 27), (103, 0), (104, 27), (105, 27),\n",
       "       (106, 27), (107, 27), (108, 27), (109, 27), (110, 27), (111, 27),\n",
       "       (112, 27), (113, 27), (114, 27), (115, 27), (116, 27)], \n",
       "      dtype=[('index', '<u2'), ('snp_count', '<u2')])"
      ]
     },
     "execution_count": 37,
     "metadata": {},
     "output_type": "execute_result"
    }
   ],
   "source": [
    "tf.alleles_per_snp_from_count(60)"
   ]
  },
  {
   "cell_type": "code",
   "execution_count": 38,
   "metadata": {
    "collapsed": false
   },
   "outputs": [
    {
     "data": {
      "text/plain": [
       "array([(0, 0), (1, 0), (2, 0), (3, 0), (4, 0), (5, 0), (6, 0), (7, 0),\n",
       "       (8, 0), (9, 0), (10, 0), (11, 50), (12, 50), (13, 0), (14, 50),\n",
       "       (15, 0), (16, 0), (17, 0), (18, 0), (19, 0), (20, 50), (21, 50),\n",
       "       (22, 0), (23, 0), (24, 0), (25, 50), (26, 0), (27, 0), (28, 0),\n",
       "       (29, 50), (30, 0), (31, 0), (32, 0), (33, 0), (34, 0), (35, 0),\n",
       "       (36, 0), (37, 0), (38, 0), (39, 0), (40, 0), (41, 0), (42, 0),\n",
       "       (43, 0), (44, 0), (45, 0), (46, 0), (47, 0), (48, 0), (49, 0),\n",
       "       (50, 0), (51, 0), (52, 0), (53, 0), (54, 50), (55, 0), (56, 0),\n",
       "       (57, 0), (58, 0), (59, 0), (60, 0), (61, 0), (62, 0), (63, 50),\n",
       "       (64, 50), (65, 50), (66, 50), (67, 50), (68, 50), (69, 50),\n",
       "       (70, 50), (71, 50), (72, 50), (73, 50), (74, 50), (75, 50),\n",
       "       (76, 50), (77, 50), (78, 50), (79, 50), (80, 50), (81, 50),\n",
       "       (82, 50), (83, 50), (84, 50), (85, 50), (86, 50), (87, 50),\n",
       "       (88, 50), (89, 50), (90, 50), (91, 50), (92, 50), (93, 50),\n",
       "       (94, 50), (95, 50), (96, 50), (97, 50), (98, 50), (99, 50),\n",
       "       (100, 50), (101, 50), (102, 50), (103, 50), (104, 50), (105, 50),\n",
       "       (106, 50), (107, 50), (108, 50), (109, 50), (110, 50), (111, 50),\n",
       "       (112, 50), (113, 50), (114, 50), (115, 50), (116, 50)], \n",
       "      dtype=[('index', '<u2'), ('snp_count', '<u2')])"
      ]
     },
     "execution_count": 38,
     "metadata": {},
     "output_type": "execute_result"
    }
   ],
   "source": [
    "tf.alleles_per_snp_from_count(62)"
   ]
  },
  {
   "cell_type": "code",
   "execution_count": 39,
   "metadata": {
    "collapsed": false
   },
   "outputs": [
    {
     "data": {
      "text/plain": [
       "array([(120, 8), (121, 9), (122, 74), (123, 160)], \n",
       "      dtype=[('count', '<u2'), ('snps', '<u2')])"
      ]
     },
     "execution_count": 39,
     "metadata": {},
     "output_type": "execute_result"
    }
   ],
   "source": [
    "an.sa_123_1561.unique_snps_per_allele(am2)"
   ]
  },
  {
   "cell_type": "code",
   "execution_count": 40,
   "metadata": {
    "collapsed": false
   },
   "outputs": [
    {
     "data": {
      "text/html": [
       "\n",
       "\n",
       "    <div class=\"bk-root\">\n",
       "        <div class=\"plotdiv\" id=\"f6e2ec9c-035a-40dc-aa20-3ec1835148bd\"></div>\n",
       "    </div>\n",
       "<script type=\"text/javascript\">\n",
       "  \n",
       "  (function(global) {\n",
       "    function now() {\n",
       "      return new Date();\n",
       "    }\n",
       "  \n",
       "    if (typeof (window._bokeh_onload_callbacks) === \"undefined\") {\n",
       "      window._bokeh_onload_callbacks = [];\n",
       "    }\n",
       "  \n",
       "    function run_callbacks() {\n",
       "      window._bokeh_onload_callbacks.forEach(function(callback) { callback() });\n",
       "      delete window._bokeh_onload_callbacks\n",
       "      console.info(\"Bokeh: all callbacks have finished\");\n",
       "    }\n",
       "  \n",
       "    function load_libs(js_urls, callback) {\n",
       "      window._bokeh_onload_callbacks.push(callback);\n",
       "      if (window._bokeh_is_loading > 0) {\n",
       "        console.log(\"Bokeh: BokehJS is being loaded, scheduling callback at\", now());\n",
       "        return null;\n",
       "      }\n",
       "      if (js_urls == null || js_urls.length === 0) {\n",
       "        run_callbacks();\n",
       "        return null;\n",
       "      }\n",
       "      console.log(\"Bokeh: BokehJS not loaded, scheduling load and callback at\", now());\n",
       "      window._bokeh_is_loading = js_urls.length;\n",
       "      for (var i = 0; i < js_urls.length; i++) {\n",
       "        var url = js_urls[i];\n",
       "        var s = document.createElement('script');\n",
       "        s.src = url;\n",
       "        s.async = false;\n",
       "        s.onreadystatechange = s.onload = function() {\n",
       "          window._bokeh_is_loading--;\n",
       "          if (window._bokeh_is_loading === 0) {\n",
       "            console.log(\"Bokeh: all BokehJS libraries loaded\");\n",
       "            run_callbacks()\n",
       "          }\n",
       "        };\n",
       "        s.onerror = function() {\n",
       "          console.warn(\"failed to load library \" + url);\n",
       "        };\n",
       "        console.log(\"Bokeh: injecting script tag for BokehJS library: \", url);\n",
       "        document.getElementsByTagName(\"head\")[0].appendChild(s);\n",
       "      }\n",
       "    };var element = document.getElementById(\"f6e2ec9c-035a-40dc-aa20-3ec1835148bd\");\n",
       "    if (element == null) {\n",
       "      console.log(\"Bokeh: ERROR: autoload.js configured with elementid 'f6e2ec9c-035a-40dc-aa20-3ec1835148bd' but no matching script tag was found. \")\n",
       "      return false;\n",
       "    }\n",
       "  \n",
       "    var js_urls = [];\n",
       "  \n",
       "    var inline_js = [\n",
       "      function(Bokeh) {\n",
       "        Bokeh.$(function() {\n",
       "            var docs_json = {\"b4b611af-1927-43a6-aeb2-45dfa0c1a065\":{\"roots\":{\"references\":[{\"attributes\":{\"plot\":{\"id\":\"12676407-6188-473c-b394-069f0b56d12d\",\"subtype\":\"Figure\",\"type\":\"Plot\"}},\"id\":\"811cb397-b390-4a63-97ac-39cebdb00cf1\",\"type\":\"ResetTool\"},{\"attributes\":{\"callback\":null,\"column_names\":[\"right\",\"bottom\",\"top\",\"left\"],\"data\":{\"bottom\":[745,745,745,745,745,745,745],\"left\":[135809835,135957574,136289083,136499189,136545415,136597196,136664254],\"right\":[135928279,136288182,136482839,136542633,136594750,136634047,136743222],\"top\":[775,775,775,775,775,775,775]}},\"id\":\"4ea2363c-c23b-4c0a-aa06-9bc6d22371d4\",\"type\":\"ColumnDataSource\"},{\"attributes\":{\"level\":\"glyph\",\"plot\":{\"id\":\"12676407-6188-473c-b394-069f0b56d12d\",\"subtype\":\"Figure\",\"type\":\"Plot\"},\"source\":{\"id\":\"166be922-4168-4eea-87ce-55d70ded273e\",\"type\":\"ColumnDataSource\"},\"text\":{\"field\":\"vals\"},\"text_align\":\"center\",\"text_baseline\":\"middle\",\"text_font_size\":{\"value\":\"8pt\"},\"x\":{\"field\":\"x\"},\"y\":{\"field\":\"y\"}},\"id\":\"fad0ceef-a669-4eec-9328-99e3e0c7bcca\",\"type\":\"LabelSet\"},{\"attributes\":{\"level\":\"glyph\",\"plot\":{\"id\":\"12676407-6188-473c-b394-069f0b56d12d\",\"subtype\":\"Figure\",\"type\":\"Plot\"},\"source\":{\"id\":\"036c5865-9cc3-4ecb-80ed-768530eb5d96\",\"type\":\"ColumnDataSource\"},\"text\":{\"field\":\"vals\"},\"text_font_size\":{\"value\":\"9pt\"},\"text_font_style\":\"bold\",\"x\":{\"field\":\"x\"},\"y\":{\"field\":\"y\"}},\"id\":\"28cdbe35-acbb-433f-98b0-abf23cd96efa\",\"type\":\"LabelSet\"},{\"attributes\":{\"dimension\":1,\"plot\":{\"id\":\"12676407-6188-473c-b394-069f0b56d12d\",\"subtype\":\"Figure\",\"type\":\"Plot\"},\"ticker\":{\"id\":\"9bebf867-aa1d-4c19-b019-b667c5e7947d\",\"type\":\"BasicTicker\"}},\"id\":\"9e363c2f-bcd5-446e-9e42-54fbd0e16c6b\",\"type\":\"Grid\"},{\"attributes\":{\"plot\":{\"id\":\"12676407-6188-473c-b394-069f0b56d12d\",\"subtype\":\"Figure\",\"type\":\"Plot\"}},\"id\":\"00307a05-e0e7-48ad-98d0-bbee2b272129\",\"type\":\"WheelZoomTool\"},{\"attributes\":{\"bottom\":{\"field\":\"bottom\"},\"fill_alpha\":{\"value\":0.1},\"fill_color\":{\"value\":\"#1f77b4\"},\"left\":{\"field\":\"left\"},\"line_alpha\":{\"value\":0.1},\"line_color\":{\"value\":\"#1f77b4\"},\"right\":{\"field\":\"right\"},\"top\":{\"field\":\"top\"}},\"id\":\"027ca172-db85-4e6e-af0d-696e8981f777\",\"type\":\"Quad\"},{\"attributes\":{\"plot\":{\"id\":\"12676407-6188-473c-b394-069f0b56d12d\",\"subtype\":\"Figure\",\"type\":\"Plot\"},\"ticker\":{\"id\":\"39dfae79-e860-40dd-bc66-d4b956eb0b3f\",\"type\":\"BasicTicker\"}},\"id\":\"5c1b8888-cec6-4400-a05d-6b0a21efdfda\",\"type\":\"Grid\"},{\"attributes\":{\"formatter\":{\"id\":\"ea988f84-d564-4154-8d9d-b7d2e91fccad\",\"type\":\"BasicTickFormatter\"},\"plot\":{\"id\":\"12676407-6188-473c-b394-069f0b56d12d\",\"subtype\":\"Figure\",\"type\":\"Plot\"},\"ticker\":{\"id\":\"9bebf867-aa1d-4c19-b019-b667c5e7947d\",\"type\":\"BasicTicker\"},\"visible\":null},\"id\":\"b6e8faee-3fce-4562-8915-971d24f69416\",\"type\":\"LinearAxis\"},{\"attributes\":{\"active_drag\":\"auto\",\"active_scroll\":\"auto\",\"active_tap\":\"auto\",\"tools\":[{\"id\":\"51649350-96d9-4f33-a8b7-23fa9bb014bc\",\"type\":\"PanTool\"},{\"id\":\"00307a05-e0e7-48ad-98d0-bbee2b272129\",\"type\":\"WheelZoomTool\"},{\"id\":\"06806ec5-e011-4d48-bc32-c8058b9259f5\",\"type\":\"BoxZoomTool\"},{\"id\":\"097e0d5c-1db7-48ca-bad8-4e94108c88bd\",\"type\":\"SaveTool\"},{\"id\":\"811cb397-b390-4a63-97ac-39cebdb00cf1\",\"type\":\"ResetTool\"},{\"id\":\"e81494e9-f288-40da-98f7-84ad19528e15\",\"type\":\"HelpTool\"}]},\"id\":\"8d11796c-6ed7-48d3-af78-30c7b8f9d146\",\"type\":\"Toolbar\"},{\"attributes\":{\"callback\":null,\"column_names\":[\"right\",\"bottom\",\"top\",\"left\",\"fill_color\"],\"data\":{\"bottom\":[650,350,550,450,550,650,650,550,650,150,50,250,350],\"fill_color\":[\"#c46161\",\"#ff0000\",\"#ff0000\",\"#ff0000\",\"#808080\",\"#808080\",\"#808080\",\"#808080\",\"#808080\",\"#c46161\",\"#c46161\",\"#ff0000\",\"#ff0000\"],\"left\":[135933921,136115507,136309239,136364916,136393157,136406646,136506375,136535876,136653925,136658238,136666402,136696010,136704466],\"right\":[136368563,136385280,136361560,136387893,136441410,136438078,136538939,136554890,136761853,136677919,136768655,136764564,136732214],\"top\":[695,384,590,487,593,695,694,594,695,176,73,276,378]}},\"id\":\"782fcfed-b414-4797-8ad5-b46e8b4f2e5b\",\"type\":\"ColumnDataSource\"},{\"attributes\":{\"data_source\":{\"id\":\"4ea2363c-c23b-4c0a-aa06-9bc6d22371d4\",\"type\":\"ColumnDataSource\"},\"glyph\":{\"id\":\"802b1afb-3bb6-4c64-98c9-1913156e050b\",\"type\":\"Quad\"},\"hover_glyph\":null,\"nonselection_glyph\":{\"id\":\"1ce4ac55-1f24-466e-a46b-f1956098b5b8\",\"type\":\"Quad\"},\"selection_glyph\":null},\"id\":\"29a10274-e50f-418b-b93b-a1707fda15ed\",\"type\":\"GlyphRenderer\"},{\"attributes\":{},\"id\":\"ea988f84-d564-4154-8d9d-b7d2e91fccad\",\"type\":\"BasicTickFormatter\"},{\"attributes\":{},\"id\":\"0fd77b95-e34b-4929-9b80-25cf73e7e307\",\"type\":\"BasicTickFormatter\"},{\"attributes\":{},\"id\":\"39dfae79-e860-40dd-bc66-d4b956eb0b3f\",\"type\":\"BasicTicker\"},{\"attributes\":{\"callback\":null,\"column_names\":[\"y\",\"x\",\"vals\"],\"data\":{\"vals\":[\"RAB3GAP1\",\"ZRANB3\",\"R3HDM1\",\"UBXN4\",\"LCT\",\"MCM6\",\"DARS\"],\"x\":[135869057.0,136122878.0,136385961.0,136520911.0,136570082.5,136615621.5,136703738.0],\"y\":[760.0,760.0,760.0,760.0,760.0,760.0,760.0]}},\"id\":\"166be922-4168-4eea-87ce-55d70ded273e\",\"type\":\"ColumnDataSource\"},{\"attributes\":{\"bottom\":{\"field\":\"bottom\"},\"fill_alpha\":{\"value\":0.1},\"fill_color\":{\"value\":\"#1f77b4\"},\"left\":{\"field\":\"left\"},\"line_alpha\":{\"value\":0.1},\"line_color\":{\"value\":\"#1f77b4\"},\"right\":{\"field\":\"right\"},\"top\":{\"field\":\"top\"}},\"id\":\"1ce4ac55-1f24-466e-a46b-f1956098b5b8\",\"type\":\"Quad\"},{\"attributes\":{\"data_source\":{\"id\":\"782fcfed-b414-4797-8ad5-b46e8b4f2e5b\",\"type\":\"ColumnDataSource\"},\"glyph\":{\"id\":\"a9b0bca2-3fbb-4cbd-a926-dc1d5f66e501\",\"type\":\"Quad\"},\"hover_glyph\":null,\"nonselection_glyph\":{\"id\":\"027ca172-db85-4e6e-af0d-696e8981f777\",\"type\":\"Quad\"},\"selection_glyph\":null},\"id\":\"2c74fdbc-f8de-4a00-a90e-d2494c2627d6\",\"type\":\"GlyphRenderer\"},{\"attributes\":{\"callback\":null,\"end\":800},\"id\":\"667b21da-7217-490e-9016-3790bd414a24\",\"type\":\"Range1d\"},{\"attributes\":{\"plot\":{\"id\":\"12676407-6188-473c-b394-069f0b56d12d\",\"subtype\":\"Figure\",\"type\":\"Plot\"}},\"id\":\"097e0d5c-1db7-48ca-bad8-4e94108c88bd\",\"type\":\"SaveTool\"},{\"attributes\":{\"plot\":null,\"text\":null},\"id\":\"5a30dffe-9005-47f6-9d09-41d674ba78a6\",\"type\":\"Title\"},{\"attributes\":{\"bottom\":{\"field\":\"bottom\"},\"fill_color\":{\"field\":\"fill_color\"},\"left\":{\"field\":\"left\"},\"line_color\":{\"value\":null},\"right\":{\"field\":\"right\"},\"top\":{\"field\":\"top\"}},\"id\":\"a9b0bca2-3fbb-4cbd-a926-dc1d5f66e501\",\"type\":\"Quad\"},{\"attributes\":{\"line_alpha\":{\"value\":0.1},\"line_color\":{\"value\":\"#1f77b4\"},\"xs\":{\"field\":\"xs\"},\"ys\":{\"field\":\"ys\"}},\"id\":\"3f4704f5-a0aa-4012-8e4f-450bb914db33\",\"type\":\"MultiLine\"},{\"attributes\":{\"bottom\":{\"field\":\"bottom\"},\"fill_color\":{\"value\":\"white\"},\"left\":{\"field\":\"left\"},\"right\":{\"field\":\"right\"},\"top\":{\"field\":\"top\"}},\"id\":\"802b1afb-3bb6-4c64-98c9-1913156e050b\",\"type\":\"Quad\"},{\"attributes\":{\"below\":[{\"id\":\"0175b6e1-ee02-41b0-bb0b-43165a58a9d6\",\"type\":\"LinearAxis\"}],\"left\":[{\"id\":\"b6e8faee-3fce-4562-8915-971d24f69416\",\"type\":\"LinearAxis\"}],\"plot_height\":800,\"plot_width\":900,\"renderers\":[{\"id\":\"0175b6e1-ee02-41b0-bb0b-43165a58a9d6\",\"type\":\"LinearAxis\"},{\"id\":\"5c1b8888-cec6-4400-a05d-6b0a21efdfda\",\"type\":\"Grid\"},{\"id\":\"b6e8faee-3fce-4562-8915-971d24f69416\",\"type\":\"LinearAxis\"},{\"id\":\"9e363c2f-bcd5-446e-9e42-54fbd0e16c6b\",\"type\":\"Grid\"},{\"id\":\"7cda8197-dea9-4eb9-86fa-641c54ed69ea\",\"type\":\"BoxAnnotation\"},{\"id\":\"2c74fdbc-f8de-4a00-a90e-d2494c2627d6\",\"type\":\"GlyphRenderer\"},{\"id\":\"874aee31-a083-4f49-b9a7-fbfcf08cda34\",\"type\":\"GlyphRenderer\"},{\"id\":\"28cdbe35-acbb-433f-98b0-abf23cd96efa\",\"type\":\"LabelSet\"},{\"id\":\"29a10274-e50f-418b-b93b-a1707fda15ed\",\"type\":\"GlyphRenderer\"},{\"id\":\"fad0ceef-a669-4eec-9328-99e3e0c7bcca\",\"type\":\"LabelSet\"}],\"title\":{\"id\":\"5a30dffe-9005-47f6-9d09-41d674ba78a6\",\"type\":\"Title\"},\"tool_events\":{\"id\":\"86b9265d-2863-4fb5-ba82-b88329d78443\",\"type\":\"ToolEvents\"},\"toolbar\":{\"id\":\"8d11796c-6ed7-48d3-af78-30c7b8f9d146\",\"type\":\"Toolbar\"},\"toolbar_location\":null,\"x_range\":{\"id\":\"a0481570-b624-440a-8765-a84b37241282\",\"type\":\"Range1d\"},\"y_range\":{\"id\":\"667b21da-7217-490e-9016-3790bd414a24\",\"type\":\"Range1d\"}},\"id\":\"12676407-6188-473c-b394-069f0b56d12d\",\"subtype\":\"Figure\",\"type\":\"Plot\"},{\"attributes\":{},\"id\":\"9bebf867-aa1d-4c19-b019-b667c5e7947d\",\"type\":\"BasicTicker\"},{\"attributes\":{\"plot\":{\"id\":\"12676407-6188-473c-b394-069f0b56d12d\",\"subtype\":\"Figure\",\"type\":\"Plot\"}},\"id\":\"e81494e9-f288-40da-98f7-84ad19528e15\",\"type\":\"HelpTool\"},{\"attributes\":{\"plot\":{\"id\":\"12676407-6188-473c-b394-069f0b56d12d\",\"subtype\":\"Figure\",\"type\":\"Plot\"}},\"id\":\"51649350-96d9-4f33-a8b7-23fa9bb014bc\",\"type\":\"PanTool\"},{\"attributes\":{\"formatter\":{\"id\":\"0fd77b95-e34b-4929-9b80-25cf73e7e307\",\"type\":\"BasicTickFormatter\"},\"plot\":{\"id\":\"12676407-6188-473c-b394-069f0b56d12d\",\"subtype\":\"Figure\",\"type\":\"Plot\"},\"ticker\":{\"id\":\"39dfae79-e860-40dd-bc66-d4b956eb0b3f\",\"type\":\"BasicTicker\"}},\"id\":\"0175b6e1-ee02-41b0-bb0b-43165a58a9d6\",\"type\":\"LinearAxis\"},{\"attributes\":{\"line_color\":{\"field\":\"line_color\"},\"xs\":{\"field\":\"xs\"},\"ys\":{\"field\":\"ys\"}},\"id\":\"6c0b8284-ad4d-4050-a269-7bda252701d7\",\"type\":\"MultiLine\"},{\"attributes\":{},\"id\":\"86b9265d-2863-4fb5-ba82-b88329d78443\",\"type\":\"ToolEvents\"},{\"attributes\":{\"overlay\":{\"id\":\"7cda8197-dea9-4eb9-86fa-641c54ed69ea\",\"type\":\"BoxAnnotation\"},\"plot\":{\"id\":\"12676407-6188-473c-b394-069f0b56d12d\",\"subtype\":\"Figure\",\"type\":\"Plot\"}},\"id\":\"06806ec5-e011-4d48-bc32-c8058b9259f5\",\"type\":\"BoxZoomTool\"},{\"attributes\":{\"bottom_units\":\"screen\",\"fill_alpha\":{\"value\":0.5},\"fill_color\":{\"value\":\"lightgrey\"},\"left_units\":\"screen\",\"level\":\"overlay\",\"line_alpha\":{\"value\":1.0},\"line_color\":{\"value\":\"black\"},\"line_dash\":[4,4],\"line_width\":{\"value\":2},\"plot\":null,\"render_mode\":\"css\",\"right_units\":\"screen\",\"top_units\":\"screen\"},\"id\":\"7cda8197-dea9-4eb9-86fa-641c54ed69ea\",\"type\":\"BoxAnnotation\"},{\"attributes\":{\"callback\":null,\"column_names\":[\"xs\",\"ys\",\"line_color\"],\"data\":{\"line_color\":[\"black\",\"black\",\"black\",\"black\",\"black\",\"black\",\"black\",\"black\",\"black\",\"black\",\"black\",\"black\",\"black\",\"black\",\"black\",\"black\",\"black\",\"black\",\"black\",\"black\",\"black\",\"black\",\"black\",\"black\",\"black\",\"black\",\"black\",\"black\",\"black\",\"black\",\"black\",\"black\",\"black\",\"black\",\"black\",\"black\",\"black\",\"black\",\"black\",\"black\",\"black\",\"black\",\"black\",\"black\",\"black\",\"black\",\"black\",\"black\",\"black\",\"black\",\"black\",\"black\",\"black\",\"black\",\"black\",\"black\",\"black\",\"black\",\"black\",\"black\",\"black\",\"black\",\"black\",\"black\",\"black\",\"black\",\"black\",\"black\",\"black\",\"black\",\"black\",\"black\",\"black\",\"black\",\"black\",\"black\",\"black\",\"black\",\"black\",\"black\",\"black\",\"black\",\"black\",\"black\",\"black\",\"black\",\"black\",\"black\",\"black\",\"black\",\"black\",\"black\",\"black\",\"black\",\"black\",\"black\",\"black\",\"black\",\"black\",\"black\",\"black\",\"black\",\"black\",\"black\",\"black\",\"black\",\"black\",\"black\",\"black\",\"black\",\"black\",\"black\",\"black\",\"black\",\"black\",\"black\",\"black\",\"black\",\"black\",\"black\",\"black\",\"black\",\"black\",\"black\",\"black\",\"black\",\"black\",\"black\",\"black\",\"black\",\"black\",\"black\",\"black\",\"black\",\"black\",\"black\",\"black\",\"black\",\"black\",\"black\",\"black\",\"black\",\"black\",\"black\",\"black\",\"black\",\"black\",\"black\",\"black\",\"black\",\"black\",\"black\",\"black\",\"black\",\"black\",\"black\",\"black\",\"black\",\"black\",\"black\",\"black\",\"black\",\"black\",\"black\",\"black\",\"black\",\"black\",\"black\",\"black\",\"black\",\"black\",\"black\",\"black\",\"black\",\"black\",\"black\",\"black\",\"black\",\"black\",\"black\",\"black\",\"black\",\"black\",\"black\",\"black\",\"black\",\"black\",\"black\",\"black\",\"black\",\"black\",\"black\",\"black\",\"black\",\"black\",\"black\",\"black\",\"black\",\"black\",\"black\",\"black\",\"black\",\"black\",\"black\",\"black\",\"black\",\"black\",\"black\",\"black\",\"black\",\"black\",\"black\",\"black\",\"black\",\"black\",\"black\",\"black\",\"black\",\"black\",\"black\",\"black\",\"black\",\"black\",\"black\",\"black\",\"black\",\"black\",\"black\",\"black\",\"black\",\"black\",\"black\",\"black\",\"black\",\"black\",\"black\",\"black\",\"black\",\"black\",\"black\",\"black\",\"black\",\"black\",\"black\",\"black\",\"black\",\"black\",\"black\",\"black\",\"black\",\"black\",\"black\",\"black\",\"black\",\"black\",\"black\",\"black\",\"black\",\"black\",\"black\",\"black\"],\"xs\":[[135933921,135933921],[135939824,135939824],[135941503,135941503],[135943900,135943900],[135945474,135945474],[135949715,135949715],[135956745,135956745],[135958693,135958693],[135967778,135967778],[135972093,135972093],[135973768,135973768],[135976498,135976498],[135978428,135978428],[135990031,135990031],[135992481,135992481],[135993925,135993925],[135994838,135994838],[136000253,136000253],[136003567,136003567],[136005477,136005477],[136005971,136005971],[136020977,136020977],[136027535,136027535],[136031588,136031588],[136032905,136032905],[136042480,136042480],[136043885,136043885],[136050471,136050471],[136052898,136052898],[136054815,136054815],[136056285,136056285],[136061560,136061560],[136063685,136063685],[136069060,136069060],[136072179,136072179],[136074233,136074233],[136080721,136080721],[136080822,136080822],[136088440,136088440],[136088643,136088643],[136092416,136092416],[136092869,136092869],[136094615,136094615],[136095505,136095505],[136095604,136095604],[136096766,136096766],[136097091,136097091],[136097394,136097394],[136100243,136100243],[136101823,136101823],[136106561,136106561],[136115501,136115501],[136122622,136122622],[136123014,136123014],[136123848,136123848],[136127100,136127100],[136127950,136127950],[136128630,136128630],[136129630,136129630],[136129791,136129791],[136131324,136131324],[136135383,136135383],[136135994,136135994],[136136224,136136224],[136136366,136136366],[136136440,136136440],[136138145,136138145],[136140568,136140568],[136145882,136145882],[136147948,136147948],[136148630,136148630],[136151485,136151485],[136152802,136152802],[136156753,136156753],[136157913,136157913],[136160902,136160902],[136165765,136165765],[136171649,136171649],[136173220,136173220],[136173735,136173735],[136174552,136174552],[136175692,136175692],[136176805,136176805],[136182484,136182484],[136183188,136183188],[136187252,136187252],[136187345,136187345],[136189475,136189475],[136197702,136197702],[136198435,136198435],[136202937,136202937],[136219999,136219999],[136221500,136221500],[136226626,136226626],[136228929,136228929],[136229598,136229598],[136238270,136238270],[136238346,136238346],[136240769,136240769],[136244171,136244171],[136249245,136249245],[136250285,136250285],[136254419,136254419],[136266241,136266241],[136267808,136267808],[136272074,136272074],[136277304,136277304],[136290607,136290607],[136290663,136290663],[136291310,136291310],[136296051,136296051],[136305392,136305392],[136306890,136306890],[136310803,136310803],[136324225,136324225],[136324465,136324465],[136327305,136327305],[136329618,136329618],[136333300,136333300],[136350089,136350089],[136354204,136354204],[136360455,136360455],[136368563,136368563],[136115507,136115507],[136133627,136133627],[136135820,136135820],[136145676,136145676],[136166014,136166014],[136173684,136173684],[136176031,136176031],[136214307,136214307],[136215590,136215590],[136219265,136219265],[136219831,136219831],[136289471,136289471],[136298739,136298739],[136302296,136302296],[136302897,136302897],[136348702,136348702],[136348964,136348964],[136358707,136358707],[136359608,136359608],[136360402,136360402],[136365624,136365624],[136366970,136366970],[136367871,136367871],[136368393,136368393],[136370701,136370701],[136378539,136378539],[136378895,136378895],[136385280,136385280],[136309239,136309239],[136322472,136322472],[136323787,136323787],[136323862,136323862],[136326765,136326765],[136329500,136329500],[136331657,136331657],[136345356,136345356],[136361560,136361560],[136364916,136364916],[136369497,136369497],[136369580,136369580],[136380846,136380846],[136387893,136387893],[136393157,136393157],[136397433,136397433],[136402116,136402116],[136408291,136408291],[136421548,136421548],[136422784,136422784],[136427745,136427745],[136438950,136438950],[136439805,136439805],[136441410,136441410],[136406646,136406646],[136408821,136408821],[136412472,136412472],[136416959,136416959],[136438078,136438078],[136506375,136506375],[136506927,136506927],[136510012,136510012],[136538939,136538939],[136535876,136535876],[136544651,136544651],[136545844,136545844],[136552526,136552526],[136553022,136553022],[136554797,136554797],[136554890,136554890],[136653925,136653925],[136654833,136654833],[136656534,136656534],[136656536,136656536],[136657252,136657252],[136667301,136667301],[136667487,136667487],[136672775,136672775],[136680534,136680534],[136686393,136686393],[136688749,136688749],[136692553,136692553],[136697371,136697371],[136708787,136708787],[136710372,136710372],[136711064,136711064],[136715324,136715324],[136723504,136723504],[136737460,136737460],[136743143,136743143],[136746224,136746224],[136751842,136751842],[136759379,136759379],[136761853,136761853],[136658238,136658238],[136658821,136658821],[136664975,136664975],[136674123,136674123],[136677052,136677052],[136677919,136677919],[136666402,136666402],[136687260,136687260],[136688452,136688452],[136698242,136698242],[136701773,136701773],[136701926,136701926],[136701930,136701930],[136708426,136708426],[136714412,136714412],[136721430,136721430],[136729906,136729906],[136750914,136750914],[136751990,136751990],[136753305,136753305],[136755711,136755711],[136760887,136760887],[136768655,136768655],[136696010,136696010],[136696794,136696794],[136700762,136700762],[136703387,136703387],[136708405,136708405],[136708737,136708737],[136710616,136710616],[136715715,136715715],[136716781,136716781],[136731550,136731550],[136735482,136735482],[136736120,136736120],[136738235,136738235],[136739038,136739038],[136743138,136743138],[136744366,136744366],[136754269,136754269],[136764564,136764564],[136704466,136704466],[136714792,136714792],[136724974,136724974],[136725890,136725890],[136732214,136732214]],\"ys\":[[650,695],[650,695],[650,695],[650,695],[650,695],[650,695],[650,695],[650,695],[650,695],[650,695],[650,695],[650,695],[650,695],[650,695],[650,695],[650,695],[650,695],[650,695],[650,695],[650,695],[650,695],[650,695],[650,695],[650,695],[650,695],[650,695],[650,695],[650,695],[650,695],[650,695],[650,695],[650,695],[650,695],[650,695],[650,695],[650,695],[650,695],[650,695],[650,695],[650,695],[650,695],[650,695],[650,695],[650,695],[650,695],[650,695],[650,695],[650,695],[650,695],[650,695],[650,695],[650,695],[650,695],[650,695],[650,695],[650,695],[650,695],[650,695],[650,695],[650,695],[650,695],[650,695],[650,695],[650,695],[650,695],[650,695],[650,695],[650,695],[650,695],[650,695],[650,695],[650,695],[650,695],[650,695],[650,695],[650,695],[650,695],[650,695],[650,695],[650,695],[650,695],[650,695],[650,695],[650,695],[650,695],[650,695],[650,695],[650,695],[650,695],[650,695],[650,695],[650,695],[650,695],[650,695],[650,695],[650,695],[650,695],[650,695],[650,695],[650,695],[650,695],[650,695],[650,695],[650,695],[650,695],[650,695],[650,695],[650,695],[650,695],[650,695],[650,695],[650,695],[650,695],[650,695],[650,695],[650,695],[650,695],[650,695],[650,695],[650,695],[650,695],[650,695],[650,695],[350,384],[350,384],[350,384],[350,384],[350,384],[350,384],[350,384],[350,384],[350,384],[350,384],[350,384],[350,384],[350,384],[350,384],[350,384],[350,384],[350,384],[350,384],[350,384],[350,384],[350,384],[350,384],[350,384],[350,384],[350,384],[350,384],[350,384],[350,384],[550,590],[550,590],[550,590],[550,590],[550,590],[550,590],[550,590],[550,590],[550,590],[450,487],[450,487],[450,487],[450,487],[450,487],[550,593],[550,593],[550,593],[550,593],[550,593],[550,593],[550,593],[550,593],[550,593],[550,593],[650,695],[650,695],[650,695],[650,695],[650,695],[650,694],[650,694],[650,694],[650,694],[550,594],[550,594],[550,594],[550,594],[550,594],[550,594],[550,594],[650,695],[650,695],[650,695],[650,695],[650,695],[650,695],[650,695],[650,695],[650,695],[650,695],[650,695],[650,695],[650,695],[650,695],[650,695],[650,695],[650,695],[650,695],[650,695],[650,695],[650,695],[650,695],[650,695],[650,695],[150,176],[150,176],[150,176],[150,176],[150,176],[150,176],[50,73],[50,73],[50,73],[50,73],[50,73],[50,73],[50,73],[50,73],[50,73],[50,73],[50,73],[50,73],[50,73],[50,73],[50,73],[50,73],[50,73],[250,276],[250,276],[250,276],[250,276],[250,276],[250,276],[250,276],[250,276],[250,276],[250,276],[250,276],[250,276],[250,276],[250,276],[250,276],[250,276],[250,276],[250,276],[350,378],[350,378],[350,378],[350,378],[350,378]]}},\"id\":\"5b6cc3eb-e447-43b0-917a-ccb07923187d\",\"type\":\"ColumnDataSource\"},{\"attributes\":{\"callback\":null,\"end\":136786630,\"start\":135757320},\"id\":\"a0481570-b624-440a-8765-a84b37241282\",\"type\":\"Range1d\"},{\"attributes\":{\"data_source\":{\"id\":\"5b6cc3eb-e447-43b0-917a-ccb07923187d\",\"type\":\"ColumnDataSource\"},\"glyph\":{\"id\":\"6c0b8284-ad4d-4050-a269-7bda252701d7\",\"type\":\"MultiLine\"},\"hover_glyph\":null,\"nonselection_glyph\":{\"id\":\"3f4704f5-a0aa-4012-8e4f-450bb914db33\",\"type\":\"MultiLine\"},\"selection_glyph\":null},\"id\":\"874aee31-a083-4f49-b9a7-fbfcf08cda34\",\"type\":\"GlyphRenderer\"},{\"attributes\":{\"callback\":null,\"column_names\":[\"y\",\"x\",\"vals\"],\"data\":{\"vals\":[\"123_1561\",\"28_434\",\"9_887\",\"5_588\",\"10_1218\",\"5_1460\",\"4_1442\",\"7_1303\",\"24_1504\",\"6_167\",\"17_121\",\"18_172\",\"5_212\"],\"x\":[135933921,136115507,136309239,136364916,136393157,136406646,136506375,136535876,136653925,136658238,136666402,136696010,136704466],\"y\":[700.0,389.0,595.0,492.0,598.0,700.0,699.0,599.0,700.0,181.0,78.0,281.0,383.0]}},\"id\":\"036c5865-9cc3-4ecb-80ed-768530eb5d96\",\"type\":\"ColumnDataSource\"}],\"root_ids\":[\"12676407-6188-473c-b394-069f0b56d12d\"]},\"title\":\"Bokeh Application\",\"version\":\"0.12.0\"}};\n",
       "            var render_items = [{\"docid\":\"b4b611af-1927-43a6-aeb2-45dfa0c1a065\",\"elementid\":\"f6e2ec9c-035a-40dc-aa20-3ec1835148bd\",\"modelid\":\"12676407-6188-473c-b394-069f0b56d12d\",\"notebook_comms_target\":\"bf5920ac-7fe3-49b9-842f-c8c7b53a257f\"}];\n",
       "            \n",
       "            Bokeh.embed.embed_items(docs_json, render_items);\n",
       "        });\n",
       "      },\n",
       "      function(Bokeh) {\n",
       "      }\n",
       "    ];\n",
       "  \n",
       "    function run_inline_js() {\n",
       "      for (var i = 0; i < inline_js.length; i++) {\n",
       "        inline_js[i](window.Bokeh);\n",
       "      }\n",
       "    }\n",
       "  \n",
       "    if (window._bokeh_is_loading === 0) {\n",
       "      console.log(\"Bokeh: BokehJS loaded, going straight to plotting\");\n",
       "      run_inline_js();\n",
       "    } else {\n",
       "      load_libs(js_urls, function() {\n",
       "        console.log(\"Bokeh: BokehJS plotting callback run at\", now());\n",
       "        run_inline_js();\n",
       "      });\n",
       "    }\n",
       "  }(this));\n",
       "</script>"
      ]
     },
     "metadata": {},
     "output_type": "display_data"
    },
    {
     "data": {
      "text/html": [
       "<p><code>&lt;Bokeh Notebook handle for <strong>In[40]</strong>&gt;</code></p>"
      ],
      "text/plain": [
       "<bokeh.io._CommsHandle at 0x7f3f60145a90>"
      ]
     },
     "execution_count": 40,
     "metadata": {},
     "output_type": "execute_result"
    }
   ],
   "source": [
    "plt_obj = dm.superset_allele_mask(am3, min_match=0.5)\n",
    "plt = plt_obj.do_plot()\n",
    "show(plt)"
   ]
  },
  {
   "cell_type": "code",
   "execution_count": 41,
   "metadata": {
    "collapsed": false
   },
   "outputs": [
    {
     "data": {
      "text/html": [
       "<table>\n",
       "<thead><tr><th style=\"text-align:center\">index</th><th style=\"text-align:center\">first</th><th style=\"text-align:center\">length</th><th style=\"text-align:center\">snps</th><th style=\"text-align:center\" colspan=2>alleles</th><th style=\"text-align:center\" colspan=2>matches</th><th style=\"text-align:center\" colspan=2>afr</th><th style=\"text-align:center\" colspan=2>afx</th><th style=\"text-align:center\" colspan=2>amr</th><th style=\"text-align:center\" colspan=2>eas</th><th style=\"text-align:center\" colspan=2>eur</th><th style=\"text-align:center\" colspan=2>sas</th><th style=\"text-align:center\" colspan=2>sax</th></tr></thead>\n",
       "<tr class=\"even\"><td style=\"text-align: right;\">353478</td><td style=\"text-align: right;\">135,933,921</td><td style=\"text-align: right;\">434,642</td><td style=\"text-align: right;\">123</td><td style=\"text-align: right;\">1561</td><td style=\"text-align: right;\">0.00</td><td style=\"text-align: right;\">5</td><td style=\"text-align: right;\">1.00</td><td style=\"text-align: right;\">4</td><td style=\"text-align: right;\">3.97</td><td style=\"text-align: right;\">0</td><td style=\"text-align: right;\">0.00</td><td style=\"text-align: right;\">1</td><td style=\"text-align: right;\">1.44</td><td style=\"text-align: right;\">0</td><td style=\"text-align: right;\">0.00</td><td style=\"text-align: right;\">0</td><td style=\"text-align: right;\">0.00</td><td style=\"text-align: right;\">0</td><td style=\"text-align: right;\">0.00</td><td style=\"text-align: right;\">0</td><td style=\"text-align: right;\">0.00</td></tr>\n",
       "<tr><td style=\"text-align: right;\">354130</td><td style=\"text-align: right;\">136,653,925</td><td style=\"text-align: right;\">107,928</td><td style=\"text-align: right;\">24</td><td style=\"text-align: right;\">1504</td><td style=\"text-align: right;\">0.00</td><td style=\"text-align: right;\">3</td><td style=\"text-align: right;\">0.60</td><td style=\"text-align: right;\">3</td><td style=\"text-align: right;\">4.97</td><td style=\"text-align: right;\">0</td><td style=\"text-align: right;\">0.00</td><td style=\"text-align: right;\">0</td><td style=\"text-align: right;\">0.00</td><td style=\"text-align: right;\">0</td><td style=\"text-align: right;\">0.00</td><td style=\"text-align: right;\">0</td><td style=\"text-align: right;\">0.00</td><td style=\"text-align: right;\">0</td><td style=\"text-align: right;\">0.00</td><td style=\"text-align: right;\">0</td><td style=\"text-align: right;\">0.00</td></tr>\n",
       "<tr class=\"even\"><td style=\"text-align: right;\">353814</td><td style=\"text-align: right;\">136,406,646</td><td style=\"text-align: right;\">31,432</td><td style=\"text-align: right;\">5</td><td style=\"text-align: right;\">1460</td><td style=\"text-align: right;\">0.00</td><td style=\"text-align: right;\">4</td><td style=\"text-align: right;\">0.80</td><td style=\"text-align: right;\">3</td><td style=\"text-align: right;\">3.73</td><td style=\"text-align: right;\">0</td><td style=\"text-align: right;\">0.00</td><td style=\"text-align: right;\">1</td><td style=\"text-align: right;\">1.80</td><td style=\"text-align: right;\">0</td><td style=\"text-align: right;\">0.00</td><td style=\"text-align: right;\">0</td><td style=\"text-align: right;\">0.00</td><td style=\"text-align: right;\">0</td><td style=\"text-align: right;\">0.00</td><td style=\"text-align: right;\">0</td><td style=\"text-align: right;\">0.00</td></tr>\n",
       "<tr><td style=\"text-align: right;\">353925</td><td style=\"text-align: right;\">136,506,375</td><td style=\"text-align: right;\">32,564</td><td style=\"text-align: right;\">4</td><td style=\"text-align: right;\">1442</td><td style=\"text-align: right;\">0.00</td><td style=\"text-align: right;\">3</td><td style=\"text-align: right;\">0.60</td><td style=\"text-align: right;\">3</td><td style=\"text-align: right;\">4.97</td><td style=\"text-align: right;\">0</td><td style=\"text-align: right;\">0.00</td><td style=\"text-align: right;\">0</td><td style=\"text-align: right;\">0.00</td><td style=\"text-align: right;\">0</td><td style=\"text-align: right;\">0.00</td><td style=\"text-align: right;\">0</td><td style=\"text-align: right;\">0.00</td><td style=\"text-align: right;\">0</td><td style=\"text-align: right;\">0.00</td><td style=\"text-align: right;\">0</td><td style=\"text-align: right;\">0.00</td></tr>\n",
       "<tr class=\"even\"><td style=\"text-align: right;\">353958</td><td style=\"text-align: right;\">136,535,876</td><td style=\"text-align: right;\">19,014</td><td style=\"text-align: right;\">7</td><td style=\"text-align: right;\">1303</td><td style=\"text-align: right;\">0.00</td><td style=\"text-align: right;\">4</td><td style=\"text-align: right;\">0.80</td><td style=\"text-align: right;\">4</td><td style=\"text-align: right;\">4.97</td><td style=\"text-align: right;\">0</td><td style=\"text-align: right;\">0.00</td><td style=\"text-align: right;\">0</td><td style=\"text-align: right;\">0.00</td><td style=\"text-align: right;\">0</td><td style=\"text-align: right;\">0.00</td><td style=\"text-align: right;\">0</td><td style=\"text-align: right;\">0.00</td><td style=\"text-align: right;\">0</td><td style=\"text-align: right;\">0.00</td><td style=\"text-align: right;\">0</td><td style=\"text-align: right;\">0.00</td></tr>\n",
       "<tr><td style=\"text-align: right;\">353790</td><td style=\"text-align: right;\">136,393,157</td><td style=\"text-align: right;\">48,253</td><td style=\"text-align: right;\">10</td><td style=\"text-align: right;\">1218</td><td style=\"text-align: right;\">0.00</td><td style=\"text-align: right;\">4</td><td style=\"text-align: right;\">0.80</td><td style=\"text-align: right;\">4</td><td style=\"text-align: right;\">4.97</td><td style=\"text-align: right;\">0</td><td style=\"text-align: right;\">0.00</td><td style=\"text-align: right;\">0</td><td style=\"text-align: right;\">0.00</td><td style=\"text-align: right;\">0</td><td style=\"text-align: right;\">0.00</td><td style=\"text-align: right;\">0</td><td style=\"text-align: right;\">0.00</td><td style=\"text-align: right;\">0</td><td style=\"text-align: right;\">0.00</td><td style=\"text-align: right;\">0</td><td style=\"text-align: right;\">0.00</td></tr>\n",
       "<tr class=\"even\"><td style=\"text-align: right;\">353729</td><td style=\"text-align: right;\">136,309,239</td><td style=\"text-align: right;\">52,321</td><td style=\"text-align: right;\">9</td><td style=\"text-align: right;\">887</td><td style=\"text-align: right;\">0.01</td><td style=\"text-align: right;\">5</td><td style=\"text-align: right;\">1.00</td><td style=\"text-align: right;\">4</td><td style=\"text-align: right;\">3.97</td><td style=\"text-align: right;\">0</td><td style=\"text-align: right;\">0.00</td><td style=\"text-align: right;\">1</td><td style=\"text-align: right;\">1.44</td><td style=\"text-align: right;\">0</td><td style=\"text-align: right;\">0.00</td><td style=\"text-align: right;\">0</td><td style=\"text-align: right;\">0.00</td><td style=\"text-align: right;\">0</td><td style=\"text-align: right;\">0.00</td><td style=\"text-align: right;\">0</td><td style=\"text-align: right;\">0.00</td></tr>\n",
       "<tr><td style=\"text-align: right;\">353764</td><td style=\"text-align: right;\">136,364,916</td><td style=\"text-align: right;\">22,977</td><td style=\"text-align: right;\">5</td><td style=\"text-align: right;\">588</td><td style=\"text-align: right;\">0.01</td><td style=\"text-align: right;\">5</td><td style=\"text-align: right;\">1.00</td><td style=\"text-align: right;\">4</td><td style=\"text-align: right;\">3.97</td><td style=\"text-align: right;\">0</td><td style=\"text-align: right;\">0.00</td><td style=\"text-align: right;\">1</td><td style=\"text-align: right;\">1.44</td><td style=\"text-align: right;\">0</td><td style=\"text-align: right;\">0.00</td><td style=\"text-align: right;\">0</td><td style=\"text-align: right;\">0.00</td><td style=\"text-align: right;\">0</td><td style=\"text-align: right;\">0.00</td><td style=\"text-align: right;\">0</td><td style=\"text-align: right;\">0.00</td></tr>\n",
       "<tr class=\"even\"><td style=\"text-align: right;\">353614</td><td style=\"text-align: right;\">136,115,507</td><td style=\"text-align: right;\">269,773</td><td style=\"text-align: right;\">28</td><td style=\"text-align: right;\">434</td><td style=\"text-align: right;\">0.01</td><td style=\"text-align: right;\">5</td><td style=\"text-align: right;\">1.00</td><td style=\"text-align: right;\">4</td><td style=\"text-align: right;\">3.97</td><td style=\"text-align: right;\">0</td><td style=\"text-align: right;\">0.00</td><td style=\"text-align: right;\">1</td><td style=\"text-align: right;\">1.44</td><td style=\"text-align: right;\">0</td><td style=\"text-align: right;\">0.00</td><td style=\"text-align: right;\">0</td><td style=\"text-align: right;\">0.00</td><td style=\"text-align: right;\">0</td><td style=\"text-align: right;\">0.00</td><td style=\"text-align: right;\">0</td><td style=\"text-align: right;\">0.00</td></tr>\n",
       "<tr><td style=\"text-align: right;\">354189</td><td style=\"text-align: right;\">136,704,466</td><td style=\"text-align: right;\">27,748</td><td style=\"text-align: right;\">5</td><td style=\"text-align: right;\">212</td><td style=\"text-align: right;\">0.01</td><td style=\"text-align: right;\">3</td><td style=\"text-align: right;\">0.60</td><td style=\"text-align: right;\">3</td><td style=\"text-align: right;\">4.97</td><td style=\"text-align: right;\">0</td><td style=\"text-align: right;\">0.00</td><td style=\"text-align: right;\">0</td><td style=\"text-align: right;\">0.00</td><td style=\"text-align: right;\">0</td><td style=\"text-align: right;\">0.00</td><td style=\"text-align: right;\">0</td><td style=\"text-align: right;\">0.00</td><td style=\"text-align: right;\">0</td><td style=\"text-align: right;\">0.00</td><td style=\"text-align: right;\">0</td><td style=\"text-align: right;\">0.00</td></tr>\n",
       "<tr class=\"even\"><td style=\"text-align: right;\">354181</td><td style=\"text-align: right;\">136,696,010</td><td style=\"text-align: right;\">68,554</td><td style=\"text-align: right;\">18</td><td style=\"text-align: right;\">172</td><td style=\"text-align: right;\">0.02</td><td style=\"text-align: right;\">3</td><td style=\"text-align: right;\">0.60</td><td style=\"text-align: right;\">3</td><td style=\"text-align: right;\">4.97</td><td style=\"text-align: right;\">0</td><td style=\"text-align: right;\">0.00</td><td style=\"text-align: right;\">0</td><td style=\"text-align: right;\">0.00</td><td style=\"text-align: right;\">0</td><td style=\"text-align: right;\">0.00</td><td style=\"text-align: right;\">0</td><td style=\"text-align: right;\">0.00</td><td style=\"text-align: right;\">0</td><td style=\"text-align: right;\">0.00</td><td style=\"text-align: right;\">0</td><td style=\"text-align: right;\">0.00</td></tr>\n",
       "<tr><td style=\"text-align: right;\">354143</td><td style=\"text-align: right;\">136,658,238</td><td style=\"text-align: right;\">19,681</td><td style=\"text-align: right;\">6</td><td style=\"text-align: right;\">167</td><td style=\"text-align: right;\">0.02</td><td style=\"text-align: right;\">3</td><td style=\"text-align: right;\">0.60</td><td style=\"text-align: right;\">3</td><td style=\"text-align: right;\">4.97</td><td style=\"text-align: right;\">0</td><td style=\"text-align: right;\">0.00</td><td style=\"text-align: right;\">0</td><td style=\"text-align: right;\">0.00</td><td style=\"text-align: right;\">0</td><td style=\"text-align: right;\">0.00</td><td style=\"text-align: right;\">0</td><td style=\"text-align: right;\">0.00</td><td style=\"text-align: right;\">0</td><td style=\"text-align: right;\">0.00</td><td style=\"text-align: right;\">0</td><td style=\"text-align: right;\">0.00</td></tr>\n",
       "<tr class=\"even\"><td style=\"text-align: right;\">354156</td><td style=\"text-align: right;\">136,666,402</td><td style=\"text-align: right;\">102,253</td><td style=\"text-align: right;\">17</td><td style=\"text-align: right;\">121</td><td style=\"text-align: right;\">0.02</td><td style=\"text-align: right;\">3</td><td style=\"text-align: right;\">0.60</td><td style=\"text-align: right;\">3</td><td style=\"text-align: right;\">4.97</td><td style=\"text-align: right;\">0</td><td style=\"text-align: right;\">0.00</td><td style=\"text-align: right;\">0</td><td style=\"text-align: right;\">0.00</td><td style=\"text-align: right;\">0</td><td style=\"text-align: right;\">0.00</td><td style=\"text-align: right;\">0</td><td style=\"text-align: right;\">0.00</td><td style=\"text-align: right;\">0</td><td style=\"text-align: right;\">0.00</td><td style=\"text-align: right;\">0</td><td style=\"text-align: right;\">0.00</td></tr>\n",
       "</table>"
      ],
      "text/plain": [
       "<IPython.core.display.HTML object>"
      ]
     },
     "execution_count": 41,
     "metadata": {},
     "output_type": "execute_result"
    }
   ],
   "source": [
    "HTML(plt_obj.get_html())"
   ]
  },
  {
   "cell_type": "code",
   "execution_count": 42,
   "metadata": {
    "collapsed": false
   },
   "outputs": [
    {
     "data": {
      "text/plain": [
       "array([(62, 3), (68, 1), (98, 1)], \n",
       "      dtype=[('count', '<u2'), ('snps', '<u2')])"
      ]
     },
     "execution_count": 42,
     "metadata": {},
     "output_type": "execute_result"
    }
   ],
   "source": [
    "an.sa_117_1685.unique_snps_per_allele(am3)"
   ]
  },
  {
   "cell_type": "code",
   "execution_count": 43,
   "metadata": {
    "collapsed": false
   },
   "outputs": [
    {
     "data": {
      "text/plain": [
       "array([(0, 0), (1, 3), (2, 0), (3, 0), (4, 0), (5, 0), (6, 0), (7, 0),\n",
       "       (8, 0), (9, 0), (10, 0), (11, 3), (12, 3), (13, 0), (14, 3),\n",
       "       (15, 0), (16, 0), (17, 0), (18, 0), (19, 0), (20, 3), (21, 3),\n",
       "       (22, 0), (23, 0), (24, 0), (25, 3), (26, 0), (27, 0), (28, 0),\n",
       "       (29, 3), (30, 0), (31, 0), (32, 0), (33, 0), (34, 0), (35, 0),\n",
       "       (36, 0), (37, 0), (38, 0), (39, 0), (40, 0), (41, 0), (42, 0),\n",
       "       (43, 0), (44, 0), (45, 0), (46, 0), (47, 0), (48, 0), (49, 0),\n",
       "       (50, 0), (51, 0), (52, 0), (53, 0), (54, 1), (55, 0), (56, 0),\n",
       "       (57, 0), (58, 0), (59, 0), (60, 0), (61, 0), (62, 0), (63, 3),\n",
       "       (64, 3), (65, 3), (66, 3), (67, 3), (68, 3), (69, 3), (70, 3),\n",
       "       (71, 3), (72, 3), (73, 3), (74, 3), (75, 3), (76, 3), (77, 3),\n",
       "       (78, 3), (79, 3), (80, 3), (81, 3), (82, 3), (83, 3), (84, 3),\n",
       "       (85, 3), (86, 3), (87, 3), (88, 3), (89, 3), (90, 3), (91, 3),\n",
       "       (92, 3), (93, 3), (94, 3), (95, 3), (96, 3), (97, 3), (98, 3),\n",
       "       (99, 3), (100, 3), (101, 3), (102, 3), (103, 2), (104, 3), (105, 3),\n",
       "       (106, 3), (107, 3), (108, 3), (109, 3), (110, 3), (111, 3),\n",
       "       (112, 3), (113, 3), (114, 3), (115, 3), (116, 3)], \n",
       "      dtype=[('index', '<u2'), ('snp_count', '<u2')])"
      ]
     },
     "execution_count": 43,
     "metadata": {},
     "output_type": "execute_result"
    }
   ],
   "source": [
    "tf = an.snp_anal.series_fragment_finder_cls(an.sa_117_1685, am3)\n",
    "tf.alleles_per_snp_from_count(62)"
   ]
  },
  {
   "cell_type": "code",
   "execution_count": 44,
   "metadata": {
    "collapsed": false
   },
   "outputs": [
    {
     "data": {
      "text/plain": [
       "array([(121, 1), (122, 4)], \n",
       "      dtype=[('count', '<u2'), ('snps', '<u2')])"
      ]
     },
     "execution_count": 44,
     "metadata": {},
     "output_type": "execute_result"
    }
   ],
   "source": [
    "an.sa_123_1561.unique_snps_per_allele(am3)"
   ]
  },
  {
   "cell_type": "code",
   "execution_count": 45,
   "metadata": {
    "collapsed": false
   },
   "outputs": [
    {
     "data": {
      "text/plain": [
       "array([(0, 4), (1, 4), (2, 4), (3, 4), (4, 4), (5, 4), (6, 4), (7, 4),\n",
       "       (8, 4), (9, 4), (10, 4), (11, 4), (12, 4), (13, 4), (14, 4),\n",
       "       (15, 4), (16, 4), (17, 4), (18, 4), (19, 4), (20, 4), (21, 4),\n",
       "       (22, 4), (23, 4), (24, 4), (25, 4), (26, 4), (27, 2), (28, 4),\n",
       "       (29, 4), (30, 4), (31, 4), (32, 4), (33, 4), (34, 4), (35, 4),\n",
       "       (36, 4), (37, 4), (38, 4), (39, 4), (40, 4), (41, 4), (42, 4),\n",
       "       (43, 4), (44, 4), (45, 4), (46, 4), (47, 4), (48, 2), (49, 4),\n",
       "       (50, 4), (51, 4), (52, 4), (53, 4), (54, 4), (55, 4), (56, 4),\n",
       "       (57, 4), (58, 4), (59, 4), (60, 4), (61, 4), (62, 4), (63, 4),\n",
       "       (64, 4), (65, 4), (66, 4), (67, 4), (68, 4), (69, 4), (70, 4),\n",
       "       (71, 4), (72, 4), (73, 4), (74, 4), (75, 4), (76, 4), (77, 4),\n",
       "       (78, 4), (79, 4), (80, 4), (81, 4), (82, 4), (83, 4), (84, 4),\n",
       "       (85, 4), (86, 4), (87, 4), (88, 4), (89, 4), (90, 4), (91, 4),\n",
       "       (92, 4), (93, 4), (94, 4), (95, 4), (96, 4), (97, 4), (98, 4),\n",
       "       (99, 4), (100, 4), (101, 4), (102, 4), (103, 4), (104, 4), (105, 4),\n",
       "       (106, 4), (107, 4), (108, 4), (109, 4), (110, 4), (111, 4),\n",
       "       (112, 4), (113, 4), (114, 4), (115, 4), (116, 4), (117, 4),\n",
       "       (118, 4), (119, 4), (120, 4), (121, 4), (122, 4)], \n",
       "      dtype=[('index', '<u2'), ('snp_count', '<u2')])"
      ]
     },
     "execution_count": 45,
     "metadata": {},
     "output_type": "execute_result"
    }
   ],
   "source": [
    "tf = an.snp_anal.series_fragment_finder_cls(an.sa_123_1561, am3)\n",
    "tf.alleles_per_snp_from_count(122)"
   ]
  },
  {
   "cell_type": "code",
   "execution_count": 46,
   "metadata": {
    "collapsed": false
   },
   "outputs": [
    {
     "data": {
      "text/plain": [
       "array([(0, 1), (1, 1), (2, 1), (3, 1), (4, 1), (5, 1), (6, 1), (7, 1),\n",
       "       (8, 1), (9, 1), (10, 1), (11, 1), (12, 1), (13, 1), (14, 1),\n",
       "       (15, 1), (16, 1), (17, 1), (18, 1), (19, 1), (20, 1), (21, 1),\n",
       "       (22, 1), (23, 1), (24, 1), (25, 1), (26, 1), (27, 0), (28, 1),\n",
       "       (29, 1), (30, 1), (31, 1), (32, 1), (33, 1), (34, 1), (35, 1),\n",
       "       (36, 1), (37, 1), (38, 1), (39, 1), (40, 1), (41, 1), (42, 1),\n",
       "       (43, 1), (44, 1), (45, 1), (46, 1), (47, 1), (48, 0), (49, 1),\n",
       "       (50, 1), (51, 1), (52, 1), (53, 1), (54, 1), (55, 1), (56, 1),\n",
       "       (57, 1), (58, 1), (59, 1), (60, 1), (61, 1), (62, 1), (63, 1),\n",
       "       (64, 1), (65, 1), (66, 1), (67, 1), (68, 1), (69, 1), (70, 1),\n",
       "       (71, 1), (72, 1), (73, 1), (74, 1), (75, 1), (76, 1), (77, 1),\n",
       "       (78, 1), (79, 1), (80, 1), (81, 1), (82, 1), (83, 1), (84, 1),\n",
       "       (85, 1), (86, 1), (87, 1), (88, 1), (89, 1), (90, 1), (91, 1),\n",
       "       (92, 1), (93, 1), (94, 1), (95, 1), (96, 1), (97, 1), (98, 1),\n",
       "       (99, 1), (100, 1), (101, 1), (102, 1), (103, 1), (104, 1), (105, 1),\n",
       "       (106, 1), (107, 1), (108, 1), (109, 1), (110, 1), (111, 1),\n",
       "       (112, 1), (113, 1), (114, 1), (115, 1), (116, 1), (117, 1),\n",
       "       (118, 1), (119, 1), (120, 1), (121, 1), (122, 1)], \n",
       "      dtype=[('index', '<u2'), ('snp_count', '<u2')])"
      ]
     },
     "execution_count": 46,
     "metadata": {},
     "output_type": "execute_result"
    }
   ],
   "source": [
    "tf = an.snp_anal.series_fragment_finder_cls(an.sa_123_1561, am3)\n",
    "tf.alleles_per_snp_from_count(121)"
   ]
  },
  {
   "cell_type": "code",
   "execution_count": 47,
   "metadata": {
    "collapsed": false
   },
   "outputs": [
    {
     "data": {
      "text/html": [
       "\n",
       "\n",
       "    <div class=\"bk-root\">\n",
       "        <div class=\"plotdiv\" id=\"28efbbe1-d57a-4eb2-8a07-6925a35307bb\"></div>\n",
       "    </div>\n",
       "<script type=\"text/javascript\">\n",
       "  \n",
       "  (function(global) {\n",
       "    function now() {\n",
       "      return new Date();\n",
       "    }\n",
       "  \n",
       "    if (typeof (window._bokeh_onload_callbacks) === \"undefined\") {\n",
       "      window._bokeh_onload_callbacks = [];\n",
       "    }\n",
       "  \n",
       "    function run_callbacks() {\n",
       "      window._bokeh_onload_callbacks.forEach(function(callback) { callback() });\n",
       "      delete window._bokeh_onload_callbacks\n",
       "      console.info(\"Bokeh: all callbacks have finished\");\n",
       "    }\n",
       "  \n",
       "    function load_libs(js_urls, callback) {\n",
       "      window._bokeh_onload_callbacks.push(callback);\n",
       "      if (window._bokeh_is_loading > 0) {\n",
       "        console.log(\"Bokeh: BokehJS is being loaded, scheduling callback at\", now());\n",
       "        return null;\n",
       "      }\n",
       "      if (js_urls == null || js_urls.length === 0) {\n",
       "        run_callbacks();\n",
       "        return null;\n",
       "      }\n",
       "      console.log(\"Bokeh: BokehJS not loaded, scheduling load and callback at\", now());\n",
       "      window._bokeh_is_loading = js_urls.length;\n",
       "      for (var i = 0; i < js_urls.length; i++) {\n",
       "        var url = js_urls[i];\n",
       "        var s = document.createElement('script');\n",
       "        s.src = url;\n",
       "        s.async = false;\n",
       "        s.onreadystatechange = s.onload = function() {\n",
       "          window._bokeh_is_loading--;\n",
       "          if (window._bokeh_is_loading === 0) {\n",
       "            console.log(\"Bokeh: all BokehJS libraries loaded\");\n",
       "            run_callbacks()\n",
       "          }\n",
       "        };\n",
       "        s.onerror = function() {\n",
       "          console.warn(\"failed to load library \" + url);\n",
       "        };\n",
       "        console.log(\"Bokeh: injecting script tag for BokehJS library: \", url);\n",
       "        document.getElementsByTagName(\"head\")[0].appendChild(s);\n",
       "      }\n",
       "    };var element = document.getElementById(\"28efbbe1-d57a-4eb2-8a07-6925a35307bb\");\n",
       "    if (element == null) {\n",
       "      console.log(\"Bokeh: ERROR: autoload.js configured with elementid '28efbbe1-d57a-4eb2-8a07-6925a35307bb' but no matching script tag was found. \")\n",
       "      return false;\n",
       "    }\n",
       "  \n",
       "    var js_urls = [];\n",
       "  \n",
       "    var inline_js = [\n",
       "      function(Bokeh) {\n",
       "        Bokeh.$(function() {\n",
       "            var docs_json = {\"6944ecb2-10f0-485d-9107-5d6daa8b2fa0\":{\"roots\":{\"references\":[{\"attributes\":{},\"id\":\"21c230dd-cd51-4c4d-b916-c2ea8422b418\",\"type\":\"BasicTicker\"},{\"attributes\":{\"plot\":{\"id\":\"3389f72f-9e55-4c57-a1ba-1d49e5f7b037\",\"subtype\":\"Figure\",\"type\":\"Plot\"}},\"id\":\"5f3c68fa-d655-4b24-9207-920638895888\",\"type\":\"PanTool\"},{\"attributes\":{\"formatter\":{\"id\":\"50e6cacb-d666-443e-8ead-2a3d1b40baff\",\"type\":\"BasicTickFormatter\"},\"plot\":{\"id\":\"3389f72f-9e55-4c57-a1ba-1d49e5f7b037\",\"subtype\":\"Figure\",\"type\":\"Plot\"},\"ticker\":{\"id\":\"2fc8e851-58ca-4a60-9c50-c5d358f8049c\",\"type\":\"BasicTicker\"}},\"id\":\"91df1486-3078-45c1-8360-9b657bfbc7dc\",\"type\":\"LinearAxis\"},{\"attributes\":{\"line_color\":{\"field\":\"line_color\"},\"xs\":{\"field\":\"xs\"},\"ys\":{\"field\":\"ys\"}},\"id\":\"932367ce-85db-4cbe-b88f-7147bb647bb0\",\"type\":\"MultiLine\"},{\"attributes\":{\"plot\":{\"id\":\"3389f72f-9e55-4c57-a1ba-1d49e5f7b037\",\"subtype\":\"Figure\",\"type\":\"Plot\"}},\"id\":\"01416bcc-4a1a-43f3-815b-e717f4fc6b6f\",\"type\":\"ResetTool\"},{\"attributes\":{\"level\":\"glyph\",\"plot\":{\"id\":\"3389f72f-9e55-4c57-a1ba-1d49e5f7b037\",\"subtype\":\"Figure\",\"type\":\"Plot\"},\"source\":{\"id\":\"6072992e-0037-4369-ba04-c6194f3043f3\",\"type\":\"ColumnDataSource\"},\"text\":{\"field\":\"vals\"},\"text_align\":\"center\",\"text_baseline\":\"middle\",\"text_font_size\":{\"value\":\"8pt\"},\"x\":{\"field\":\"x\"},\"y\":{\"field\":\"y\"}},\"id\":\"69f0e291-e891-49fc-87e2-d67a3c7c9dbc\",\"type\":\"LabelSet\"},{\"attributes\":{\"data_source\":{\"id\":\"c4a6c65c-2c76-409b-b4e6-3472dc2bff98\",\"type\":\"ColumnDataSource\"},\"glyph\":{\"id\":\"932367ce-85db-4cbe-b88f-7147bb647bb0\",\"type\":\"MultiLine\"},\"hover_glyph\":null,\"nonselection_glyph\":{\"id\":\"39e183dc-771b-480d-8bd5-07e639baf34f\",\"type\":\"MultiLine\"},\"selection_glyph\":null},\"id\":\"2eb61eef-6c69-4b92-98f9-9f06645ec3c5\",\"type\":\"GlyphRenderer\"},{\"attributes\":{\"bottom\":{\"field\":\"bottom\"},\"fill_color\":{\"value\":\"white\"},\"left\":{\"field\":\"left\"},\"right\":{\"field\":\"right\"},\"top\":{\"field\":\"top\"}},\"id\":\"0a0595d4-086f-447e-a3eb-1da16c817c75\",\"type\":\"Quad\"},{\"attributes\":{\"plot\":{\"id\":\"3389f72f-9e55-4c57-a1ba-1d49e5f7b037\",\"subtype\":\"Figure\",\"type\":\"Plot\"}},\"id\":\"d44245a3-0185-4240-963b-7a14128c122f\",\"type\":\"HelpTool\"},{\"attributes\":{\"callback\":null,\"column_names\":[\"right\",\"bottom\",\"top\",\"left\"],\"data\":{\"bottom\":[845,845,845,845,845,845,845],\"left\":[135809835,135957574,136289083,136499189,136545415,136597196,136664254],\"right\":[135928279,136288182,136482839,136542633,136594750,136634047,136743222],\"top\":[875,875,875,875,875,875,875]}},\"id\":\"28021e9a-4995-41b4-be3d-8710bdbd51b4\",\"type\":\"ColumnDataSource\"},{\"attributes\":{\"callback\":null,\"column_names\":[\"right\",\"bottom\",\"top\",\"left\",\"fill_color\"],\"data\":{\"bottom\":[750,150,250,650,550,50,350,250,450,650,550,450,650,550,750,550,750],\"fill_color\":[\"#808080\",\"#ff0000\",\"#ff0000\",\"#ff0000\",\"#ff0000\",\"#ff0000\",\"#ff0000\",\"#ff0000\",\"#ff0000\",\"#ff0000\",\"#ff0000\",\"#ff0000\",\"#808080\",\"#ff0000\",\"#c46161\",\"#c46161\",\"#808080\"],\"left\":[135758231,135758713,135780924,135784351,135810535,135814021,136008173,136056699,136115507,136309239,136364916,136402778,136406646,136448855,136588031,136603638,136653925],\"right\":[136376515,135778233,136017139,135902220,135898023,136424548,136381251,136433902,136385280,136361560,136387893,136493430,136438078,136466831,136593678,136632125,136761853],\"top\":[796,168,274,688,586,63,376,268,484,690,587,482,695,587,796,585,795]}},\"id\":\"5d44a425-169b-4210-938a-6c12bb0bc820\",\"type\":\"ColumnDataSource\"},{\"attributes\":{},\"id\":\"957b623a-e685-4124-a2a4-05208546b264\",\"type\":\"ToolEvents\"},{\"attributes\":{},\"id\":\"50e6cacb-d666-443e-8ead-2a3d1b40baff\",\"type\":\"BasicTickFormatter\"},{\"attributes\":{\"line_alpha\":{\"value\":0.1},\"line_color\":{\"value\":\"#1f77b4\"},\"xs\":{\"field\":\"xs\"},\"ys\":{\"field\":\"ys\"}},\"id\":\"39e183dc-771b-480d-8bd5-07e639baf34f\",\"type\":\"MultiLine\"},{\"attributes\":{\"plot\":{\"id\":\"3389f72f-9e55-4c57-a1ba-1d49e5f7b037\",\"subtype\":\"Figure\",\"type\":\"Plot\"}},\"id\":\"09f70df0-bfe6-4d21-9147-f631ccd640dd\",\"type\":\"SaveTool\"},{\"attributes\":{\"callback\":null,\"column_names\":[\"xs\",\"ys\",\"line_color\"],\"data\":{\"line_color\":[\"black\",\"black\",\"black\",\"black\",\"black\",\"black\",\"black\",\"black\",\"black\",\"black\",\"black\",\"black\",\"black\",\"black\",\"black\",\"black\",\"black\",\"black\",\"black\",\"black\",\"black\",\"black\",\"black\",\"black\",\"black\",\"black\",\"black\",\"black\",\"black\",\"black\",\"black\",\"black\",\"black\",\"black\",\"black\",\"black\",\"black\",\"black\",\"black\",\"black\",\"black\",\"black\",\"black\",\"black\",\"black\",\"black\",\"black\",\"black\",\"black\",\"black\",\"black\",\"black\",\"black\",\"black\",\"black\",\"black\",\"black\",\"black\",\"black\",\"black\",\"black\",\"black\",\"black\",\"black\",\"black\",\"black\",\"black\",\"black\",\"black\",\"black\",\"black\",\"black\",\"black\",\"black\",\"black\",\"black\",\"black\",\"black\",\"black\",\"black\",\"black\",\"black\",\"black\",\"black\",\"black\",\"black\",\"black\",\"black\",\"black\",\"black\",\"black\",\"black\",\"black\",\"black\",\"black\",\"black\",\"black\",\"black\",\"black\",\"black\",\"black\",\"black\",\"black\",\"black\",\"black\",\"black\",\"black\",\"black\",\"black\",\"black\",\"black\",\"black\",\"black\",\"black\",\"black\",\"black\",\"black\",\"black\",\"black\",\"black\",\"black\",\"black\",\"black\",\"black\",\"black\",\"black\",\"black\",\"black\",\"black\",\"black\",\"black\",\"black\",\"black\",\"black\",\"black\",\"black\",\"black\",\"black\",\"black\",\"black\",\"black\",\"black\",\"black\",\"black\",\"black\",\"black\",\"black\",\"black\",\"black\",\"black\",\"black\",\"black\",\"black\",\"black\",\"black\",\"black\",\"black\",\"black\",\"black\",\"black\",\"black\",\"black\",\"black\",\"black\",\"black\",\"black\",\"black\",\"black\",\"black\",\"black\",\"black\",\"black\",\"black\",\"black\",\"black\",\"black\",\"black\",\"black\",\"black\",\"black\",\"black\",\"black\",\"black\",\"black\",\"black\",\"black\",\"black\",\"black\",\"black\",\"black\",\"black\",\"black\",\"black\",\"black\",\"black\",\"black\",\"black\",\"black\",\"black\",\"black\",\"black\",\"black\",\"black\",\"black\",\"black\",\"black\",\"black\",\"black\",\"black\",\"black\",\"black\",\"black\",\"black\",\"black\",\"black\",\"black\",\"black\",\"black\",\"black\",\"black\",\"black\",\"black\",\"black\",\"black\",\"black\",\"black\",\"black\",\"black\",\"black\",\"black\",\"black\",\"black\",\"black\",\"black\",\"black\",\"black\",\"black\",\"black\",\"black\",\"black\",\"black\",\"black\",\"black\",\"black\",\"black\",\"black\",\"black\",\"black\",\"black\",\"black\",\"black\",\"black\",\"black\",\"black\",\"black\",\"black\",\"black\",\"black\",\"black\",\"black\",\"black\",\"black\",\"black\",\"black\",\"black\",\"black\",\"black\",\"black\",\"black\",\"black\",\"black\",\"black\",\"black\",\"black\",\"black\",\"black\",\"black\",\"black\",\"black\",\"black\",\"black\",\"black\",\"black\",\"black\",\"black\",\"black\",\"black\",\"black\",\"black\",\"black\",\"black\",\"black\",\"black\",\"black\",\"black\",\"black\",\"black\",\"black\",\"black\",\"black\",\"black\",\"black\",\"black\",\"black\",\"black\",\"black\",\"black\",\"black\",\"black\",\"black\",\"black\",\"black\",\"black\",\"black\",\"black\",\"black\",\"black\",\"black\",\"black\",\"black\",\"black\",\"black\",\"black\",\"black\",\"black\",\"black\",\"black\",\"black\",\"black\",\"black\",\"black\",\"black\",\"black\",\"black\",\"black\",\"black\",\"black\",\"black\",\"black\",\"black\",\"black\",\"black\",\"black\",\"black\",\"black\",\"black\",\"black\",\"black\",\"black\",\"black\",\"black\",\"black\",\"black\",\"black\",\"black\",\"black\",\"black\",\"black\",\"black\",\"black\",\"black\",\"black\",\"black\",\"black\",\"black\",\"black\",\"black\",\"black\",\"black\",\"black\",\"black\",\"black\",\"black\",\"black\",\"black\",\"black\",\"black\",\"black\",\"black\",\"black\",\"black\",\"black\",\"black\",\"black\",\"black\",\"black\",\"black\",\"black\",\"black\",\"black\",\"black\",\"black\",\"black\",\"black\",\"black\",\"black\",\"black\"],\"xs\":[[135758231,135758231],[135758520,135758520],[135766072,135766072],[135773420,135773420],[135773446,135773446],[135773617,135773617],[135773692,135773692],[135774681,135774681],[135775049,135775049],[135776430,135776430],[135778656,135778656],[135780168,135780168],[135780587,135780587],[135781301,135781301],[135781522,135781522],[135781635,135781635],[135782456,135782456],[135783157,135783157],[135783366,135783366],[135783367,135783367],[135784227,135784227],[135784733,135784733],[135785066,135785066],[135785068,135785068],[135785149,135785149],[135787148,135787148],[135787642,135787642],[135789405,135789405],[135789472,135789472],[135789682,135789682],[135789784,135789784],[135792338,135792338],[135792528,135792528],[135793565,135793565],[135793684,135793684],[135793845,135793845],[135794367,135794367],[135794986,135794986],[135795040,135795040],[135795095,135795095],[135795150,135795150],[135795385,135795385],[135795396,135795396],[135795443,135795443],[135795595,135795595],[135796000,135796000],[135796155,135796155],[135796410,135796410],[135796965,135796965],[135797223,135797223],[135797747,135797747],[135798082,135798082],[135798758,135798758],[135799082,135799082],[135800085,135800085],[135800601,135800601],[135800757,135800757],[135801228,135801228],[135801956,135801956],[135802020,135802020],[135802028,135802028],[135802050,135802050],[135802148,135802148],[135803766,135803766],[135809241,135809241],[135812969,135812969],[135814716,135814716],[135818907,135818907],[135829432,135829432],[135832131,135832131],[135849613,135849613],[135853807,135853807],[135859923,135859923],[135860305,135860305],[135861497,135861497],[135863143,135863143],[135864294,135864294],[135871624,135871624],[135872646,135872646],[135874038,135874038],[135874622,135874622],[135878814,135878814],[135880013,135880013],[135884487,135884487],[135885357,135885357],[135893853,135893853],[135895809,135895809],[135895879,135895879],[135899069,135899069],[135909462,135909462],[135912977,135912977],[135914038,135914038],[135921839,135921839],[135925002,135925002],[135928312,135928312],[135935049,135935049],[135962711,135962711],[135984172,135984172],[135994753,135994753],[135994754,135994754],[136016079,136016079],[136027264,136027264],[136052004,136052004],[136100473,136100473],[136110129,136110129],[136166536,136166536],[136169799,136169799],[136191314,136191314],[136228887,136228887],[136238453,136238453],[136288273,136288273],[136292425,136292425],[136321951,136321951],[136324564,136324564],[136327299,136327299],[136327302,136327302],[136376515,136376515],[135758713,135758713],[135759717,135759717],[135762608,135762608],[135764416,135764416],[135772876,135772876],[135778233,135778233],[135780924,135780924],[135783872,135783872],[135784174,135784174],[135784652,135784652],[135787686,135787686],[135788712,135788712],[135794686,135794686],[135815035,135815035],[135815806,135815806],[135816299,135816299],[135817965,135817965],[135819405,135819405],[135820455,135820455],[135822556,135822556],[135830362,135830362],[135838113,135838113],[135843398,135843398],[135845084,135845084],[135850778,135850778],[135853281,135853281],[135858199,135858199],[135859428,135859428],[135867144,135867144],[135867538,135867538],[135874606,135874606],[135880487,135880487],[135882089,135882089],[135883468,135883468],[135892685,135892685],[135894666,135894666],[135894837,135894837],[135894879,135894879],[135896985,135896985],[135904659,135904659],[135908007,135908007],[135910415,135910415],[135917924,135917924],[135926486,135926486],[135942475,135942475],[135955537,135955537],[135964420,135964420],[135965002,135965002],[135981071,135981071],[135988224,135988224],[135991508,135991508],[135991714,135991714],[135997479,135997479],[136001913,136001913],[136017139,136017139],[135784351,135784351],[135829309,135829309],[135835508,135835508],[135861297,135861297],[135863459,135863459],[135873845,135873845],[135902172,135902172],[135902220,135902220],[135810535,135810535],[135817760,135817760],[135857538,135857538],[135862191,135862191],[135869380,135869380],[135869761,135869761],[135886486,135886486],[135888078,135888078],[135898023,135898023],[135814021,135814021],[135834746,135834746],[135857775,135857775],[135879478,135879478],[136067042,136067042],[136105702,136105702],[136169393,136169393],[136188000,136188000],[136199620,136199620],[136246376,136246376],[136293592,136293592],[136352108,136352108],[136361995,136361995],[136424548,136424548],[136008173,136008173],[136008446,136008446],[136014236,136014236],[136036997,136036997],[136037702,136037702],[136040078,136040078],[136046601,136046601],[136048235,136048235],[136050624,136050624],[136051458,136051458],[136053800,136053800],[136069666,136069666],[136070320,136070320],[136071268,136071268],[136085307,136085307],[136107478,136107478],[136116965,136116965],[136119487,136119487],[136133726,136133726],[136136964,136136964],[136137013,136137013],[136141365,136141365],[136151898,136151898],[136153771,136153771],[136157319,136157319],[136157786,136157786],[136160634,136160634],[136161546,136161546],[136161613,136161613],[136163239,136163239],[136166288,136166288],[136171078,136171078],[136174848,136174848],[136177152,136177152],[136188784,136188784],[136191498,136191498],[136192069,136192069],[136192914,136192914],[136202038,136202038],[136206988,136206988],[136208169,136208169],[136211700,136211700],[136214800,136214800],[136223293,136223293],[136238330,136238330],[136242667,136242667],[136249834,136249834],[136255405,136255405],[136261219,136261219],[136264924,136264924],[136265494,136265494],[136267386,136267386],[136267415,136267415],[136277320,136277320],[136279720,136279720],[136279756,136279756],[136283113,136283113],[136299020,136299020],[136304442,136304442],[136308679,136308679],[136319192,136319192],[136324543,136324543],[136330131,136330131],[136347919,136347919],[136353065,136353065],[136360339,136360339],[136370954,136370954],[136371399,136371399],[136376994,136376994],[136381251,136381251],[136056699,136056699],[136316658,136316658],[136390794,136390794],[136421460,136421460],[136433902,136433902],[136115507,136115507],[136133627,136133627],[136135820,136135820],[136145676,136145676],[136166014,136166014],[136173684,136173684],[136176031,136176031],[136214307,136214307],[136215590,136215590],[136219265,136219265],[136219831,136219831],[136289471,136289471],[136298739,136298739],[136302296,136302296],[136302897,136302897],[136348702,136348702],[136348964,136348964],[136358707,136358707],[136359608,136359608],[136360402,136360402],[136365624,136365624],[136366970,136366970],[136367871,136367871],[136368393,136368393],[136370701,136370701],[136378539,136378539],[136378895,136378895],[136385280,136385280],[136309239,136309239],[136322472,136322472],[136323787,136323787],[136323862,136323862],[136326765,136326765],[136329500,136329500],[136331657,136331657],[136345356,136345356],[136361560,136361560],[136364916,136364916],[136369497,136369497],[136369580,136369580],[136380846,136380846],[136387893,136387893],[136402778,136402778],[136402779,136402779],[136402780,136402780],[136402781,136402781],[136403272,136403272],[136406356,136406356],[136407068,136407068],[136414770,136414770],[136415861,136415861],[136416407,136416407],[136420009,136420009],[136429439,136429439],[136438468,136438468],[136444542,136444542],[136448142,136448142],[136452728,136452728],[136453540,136453540],[136455296,136455296],[136458856,136458856],[136467559,136467559],[136493430,136493430],[136406646,136406646],[136408821,136408821],[136412472,136412472],[136416959,136416959],[136438078,136438078],[136448855,136448855],[136456090,136456090],[136456675,136456675],[136466831,136466831],[136588031,136588031],[136589278,136589278],[136589379,136589379],[136589741,136589741],[136590746,136590746],[136593553,136593553],[136593678,136593678],[136603638,136603638],[136603690,136603690],[136604210,136604210],[136604345,136604345],[136604346,136604346],[136605111,136605111],[136612598,136612598],[136614955,136614955],[136619114,136619114],[136619213,136619213],[136623900,136623900],[136624123,136624123],[136624155,136624155],[136630170,136630170],[136631415,136631415],[136632125,136632125],[136653925,136653925],[136654833,136654833],[136656534,136656534],[136656536,136656536],[136657252,136657252],[136667301,136667301],[136667487,136667487],[136672775,136672775],[136680534,136680534],[136686393,136686393],[136688749,136688749],[136692553,136692553],[136697371,136697371],[136708787,136708787],[136710372,136710372],[136711064,136711064],[136715324,136715324],[136723504,136723504],[136737460,136737460],[136743143,136743143],[136746224,136746224],[136751842,136751842],[136759379,136759379],[136761853,136761853]],\"ys\":[[750,796],[750,796],[750,796],[750,796],[750,796],[750,796],[750,796],[750,796],[750,796],[750,796],[750,796],[750,796],[750,796],[750,796],[750,796],[750,796],[750,796],[750,796],[750,796],[750,796],[750,796],[750,796],[750,796],[750,796],[750,796],[750,796],[750,796],[750,796],[750,796],[750,796],[750,796],[750,796],[750,796],[750,796],[750,796],[750,796],[750,796],[750,796],[750,796],[750,796],[750,796],[750,796],[750,796],[750,796],[750,796],[750,796],[750,796],[750,796],[750,796],[750,796],[750,796],[750,796],[750,796],[750,796],[750,796],[750,796],[750,796],[750,796],[750,796],[750,796],[750,796],[750,796],[750,796],[750,796],[750,796],[750,796],[750,796],[750,796],[750,796],[750,796],[750,796],[750,796],[750,796],[750,796],[750,796],[750,796],[750,796],[750,796],[750,796],[750,796],[750,796],[750,796],[750,796],[750,796],[750,796],[750,796],[750,796],[750,796],[750,796],[750,796],[750,796],[750,796],[750,796],[750,796],[750,796],[750,796],[750,796],[750,796],[750,796],[750,796],[750,796],[750,796],[750,796],[750,796],[750,796],[750,796],[750,796],[750,796],[750,796],[750,796],[750,796],[750,796],[750,796],[750,796],[750,796],[750,796],[750,796],[150,168],[150,168],[150,168],[150,168],[150,168],[150,168],[250,274],[250,274],[250,274],[250,274],[250,274],[250,274],[250,274],[250,274],[250,274],[250,274],[250,274],[250,274],[250,274],[250,274],[250,274],[250,274],[250,274],[250,274],[250,274],[250,274],[250,274],[250,274],[250,274],[250,274],[250,274],[250,274],[250,274],[250,274],[250,274],[250,274],[250,274],[250,274],[250,274],[250,274],[250,274],[250,274],[250,274],[250,274],[250,274],[250,274],[250,274],[250,274],[250,274],[250,274],[250,274],[250,274],[250,274],[250,274],[250,274],[650,688],[650,688],[650,688],[650,688],[650,688],[650,688],[650,688],[650,688],[550,586],[550,586],[550,586],[550,586],[550,586],[550,586],[550,586],[550,586],[550,586],[50,63],[50,63],[50,63],[50,63],[50,63],[50,63],[50,63],[50,63],[50,63],[50,63],[50,63],[50,63],[50,63],[50,63],[350,376],[350,376],[350,376],[350,376],[350,376],[350,376],[350,376],[350,376],[350,376],[350,376],[350,376],[350,376],[350,376],[350,376],[350,376],[350,376],[350,376],[350,376],[350,376],[350,376],[350,376],[350,376],[350,376],[350,376],[350,376],[350,376],[350,376],[350,376],[350,376],[350,376],[350,376],[350,376],[350,376],[350,376],[350,376],[350,376],[350,376],[350,376],[350,376],[350,376],[350,376],[350,376],[350,376],[350,376],[350,376],[350,376],[350,376],[350,376],[350,376],[350,376],[350,376],[350,376],[350,376],[350,376],[350,376],[350,376],[350,376],[350,376],[350,376],[350,376],[350,376],[350,376],[350,376],[350,376],[350,376],[350,376],[350,376],[350,376],[350,376],[350,376],[250,268],[250,268],[250,268],[250,268],[250,268],[450,484],[450,484],[450,484],[450,484],[450,484],[450,484],[450,484],[450,484],[450,484],[450,484],[450,484],[450,484],[450,484],[450,484],[450,484],[450,484],[450,484],[450,484],[450,484],[450,484],[450,484],[450,484],[450,484],[450,484],[450,484],[450,484],[450,484],[450,484],[650,690],[650,690],[650,690],[650,690],[650,690],[650,690],[650,690],[650,690],[650,690],[550,587],[550,587],[550,587],[550,587],[550,587],[450,482],[450,482],[450,482],[450,482],[450,482],[450,482],[450,482],[450,482],[450,482],[450,482],[450,482],[450,482],[450,482],[450,482],[450,482],[450,482],[450,482],[450,482],[450,482],[450,482],[450,482],[650,695],[650,695],[650,695],[650,695],[650,695],[550,587],[550,587],[550,587],[550,587],[750,796],[750,796],[750,796],[750,796],[750,796],[750,796],[750,796],[550,585],[550,585],[550,585],[550,585],[550,585],[550,585],[550,585],[550,585],[550,585],[550,585],[550,585],[550,585],[550,585],[550,585],[550,585],[550,585],[750,795],[750,795],[750,795],[750,795],[750,795],[750,795],[750,795],[750,795],[750,795],[750,795],[750,795],[750,795],[750,795],[750,795],[750,795],[750,795],[750,795],[750,795],[750,795],[750,795],[750,795],[750,795],[750,795],[750,795]]}},\"id\":\"c4a6c65c-2c76-409b-b4e6-3472dc2bff98\",\"type\":\"ColumnDataSource\"},{\"attributes\":{\"bottom\":{\"field\":\"bottom\"},\"fill_alpha\":{\"value\":0.1},\"fill_color\":{\"value\":\"#1f77b4\"},\"left\":{\"field\":\"left\"},\"line_alpha\":{\"value\":0.1},\"line_color\":{\"value\":\"#1f77b4\"},\"right\":{\"field\":\"right\"},\"top\":{\"field\":\"top\"}},\"id\":\"47e50590-0a63-4d6d-ab75-585da240b14a\",\"type\":\"Quad\"},{\"attributes\":{\"bottom_units\":\"screen\",\"fill_alpha\":{\"value\":0.5},\"fill_color\":{\"value\":\"lightgrey\"},\"left_units\":\"screen\",\"level\":\"overlay\",\"line_alpha\":{\"value\":1.0},\"line_color\":{\"value\":\"black\"},\"line_dash\":[4,4],\"line_width\":{\"value\":2},\"plot\":null,\"render_mode\":\"css\",\"right_units\":\"screen\",\"top_units\":\"screen\"},\"id\":\"39d33100-2a6f-404f-87ce-094b0e487539\",\"type\":\"BoxAnnotation\"},{\"attributes\":{\"plot\":{\"id\":\"3389f72f-9e55-4c57-a1ba-1d49e5f7b037\",\"subtype\":\"Figure\",\"type\":\"Plot\"}},\"id\":\"ec850f95-b8e5-4460-a274-089662103661\",\"type\":\"WheelZoomTool\"},{\"attributes\":{\"level\":\"glyph\",\"plot\":{\"id\":\"3389f72f-9e55-4c57-a1ba-1d49e5f7b037\",\"subtype\":\"Figure\",\"type\":\"Plot\"},\"source\":{\"id\":\"cefe3d47-cb64-4f5d-8a8f-8a542b00baca\",\"type\":\"ColumnDataSource\"},\"text\":{\"field\":\"vals\"},\"text_font_size\":{\"value\":\"9pt\"},\"text_font_style\":\"bold\",\"x\":{\"field\":\"x\"},\"y\":{\"field\":\"y\"}},\"id\":\"8c9b726c-3cf3-4df0-a92e-7210d419b78e\",\"type\":\"LabelSet\"},{\"attributes\":{\"data_source\":{\"id\":\"5d44a425-169b-4210-938a-6c12bb0bc820\",\"type\":\"ColumnDataSource\"},\"glyph\":{\"id\":\"26d269ba-9955-4102-b596-204cd20a98d3\",\"type\":\"Quad\"},\"hover_glyph\":null,\"nonselection_glyph\":{\"id\":\"47e50590-0a63-4d6d-ab75-585da240b14a\",\"type\":\"Quad\"},\"selection_glyph\":null},\"id\":\"302dd007-1160-44e7-8d58-458775a5c469\",\"type\":\"GlyphRenderer\"},{\"attributes\":{\"bottom\":{\"field\":\"bottom\"},\"fill_color\":{\"field\":\"fill_color\"},\"left\":{\"field\":\"left\"},\"line_color\":{\"value\":null},\"right\":{\"field\":\"right\"},\"top\":{\"field\":\"top\"}},\"id\":\"26d269ba-9955-4102-b596-204cd20a98d3\",\"type\":\"Quad\"},{\"attributes\":{\"below\":[{\"id\":\"91df1486-3078-45c1-8360-9b657bfbc7dc\",\"type\":\"LinearAxis\"}],\"left\":[{\"id\":\"52f375f0-f370-4f7f-baf5-ae911f1e4d8b\",\"type\":\"LinearAxis\"}],\"plot_height\":900,\"plot_width\":900,\"renderers\":[{\"id\":\"91df1486-3078-45c1-8360-9b657bfbc7dc\",\"type\":\"LinearAxis\"},{\"id\":\"681d2d6e-24e4-49b7-99ed-eecbbbe45f29\",\"type\":\"Grid\"},{\"id\":\"52f375f0-f370-4f7f-baf5-ae911f1e4d8b\",\"type\":\"LinearAxis\"},{\"id\":\"1936d7cc-cfde-4316-966a-d8bb48dde8ef\",\"type\":\"Grid\"},{\"id\":\"39d33100-2a6f-404f-87ce-094b0e487539\",\"type\":\"BoxAnnotation\"},{\"id\":\"302dd007-1160-44e7-8d58-458775a5c469\",\"type\":\"GlyphRenderer\"},{\"id\":\"2eb61eef-6c69-4b92-98f9-9f06645ec3c5\",\"type\":\"GlyphRenderer\"},{\"id\":\"8c9b726c-3cf3-4df0-a92e-7210d419b78e\",\"type\":\"LabelSet\"},{\"id\":\"a01d8e8f-f5d8-446a-9cab-2ed8031d8a84\",\"type\":\"GlyphRenderer\"},{\"id\":\"69f0e291-e891-49fc-87e2-d67a3c7c9dbc\",\"type\":\"LabelSet\"}],\"title\":{\"id\":\"2131923f-d4bb-453a-99ec-0e0384ef0cd2\",\"type\":\"Title\"},\"tool_events\":{\"id\":\"957b623a-e685-4124-a2a4-05208546b264\",\"type\":\"ToolEvents\"},\"toolbar\":{\"id\":\"184e9659-7fc8-47f5-9dc5-67132d6e1b3e\",\"type\":\"Toolbar\"},\"toolbar_location\":null,\"x_range\":{\"id\":\"4462a7f7-9fbf-42ed-b06d-869ec97030f9\",\"type\":\"Range1d\"},\"y_range\":{\"id\":\"0efea329-6642-4ff4-9ed7-e97a39ed9e78\",\"type\":\"Range1d\"}},\"id\":\"3389f72f-9e55-4c57-a1ba-1d49e5f7b037\",\"subtype\":\"Figure\",\"type\":\"Plot\"},{\"attributes\":{\"plot\":{\"id\":\"3389f72f-9e55-4c57-a1ba-1d49e5f7b037\",\"subtype\":\"Figure\",\"type\":\"Plot\"},\"ticker\":{\"id\":\"2fc8e851-58ca-4a60-9c50-c5d358f8049c\",\"type\":\"BasicTicker\"}},\"id\":\"681d2d6e-24e4-49b7-99ed-eecbbbe45f29\",\"type\":\"Grid\"},{\"attributes\":{\"callback\":null,\"column_names\":[\"y\",\"x\",\"vals\"],\"data\":{\"vals\":[\"RAB3GAP1\",\"ZRANB3\",\"R3HDM1\",\"UBXN4\",\"LCT\",\"MCM6\",\"DARS\"],\"x\":[135869057.0,136122878.0,136385961.0,136520911.0,136570082.5,136615621.5,136703738.0],\"y\":[860.0,860.0,860.0,860.0,860.0,860.0,860.0]}},\"id\":\"6072992e-0037-4369-ba04-c6194f3043f3\",\"type\":\"ColumnDataSource\"},{\"attributes\":{},\"id\":\"2fc8e851-58ca-4a60-9c50-c5d358f8049c\",\"type\":\"BasicTicker\"},{\"attributes\":{\"formatter\":{\"id\":\"c1ce38b9-5e2b-4d09-930d-3d5c96f54b46\",\"type\":\"BasicTickFormatter\"},\"plot\":{\"id\":\"3389f72f-9e55-4c57-a1ba-1d49e5f7b037\",\"subtype\":\"Figure\",\"type\":\"Plot\"},\"ticker\":{\"id\":\"21c230dd-cd51-4c4d-b916-c2ea8422b418\",\"type\":\"BasicTicker\"},\"visible\":null},\"id\":\"52f375f0-f370-4f7f-baf5-ae911f1e4d8b\",\"type\":\"LinearAxis\"},{\"attributes\":{\"overlay\":{\"id\":\"39d33100-2a6f-404f-87ce-094b0e487539\",\"type\":\"BoxAnnotation\"},\"plot\":{\"id\":\"3389f72f-9e55-4c57-a1ba-1d49e5f7b037\",\"subtype\":\"Figure\",\"type\":\"Plot\"}},\"id\":\"fd043f19-ce88-421f-bbba-8279b3974793\",\"type\":\"BoxZoomTool\"},{\"attributes\":{\"dimension\":1,\"plot\":{\"id\":\"3389f72f-9e55-4c57-a1ba-1d49e5f7b037\",\"subtype\":\"Figure\",\"type\":\"Plot\"},\"ticker\":{\"id\":\"21c230dd-cd51-4c4d-b916-c2ea8422b418\",\"type\":\"BasicTicker\"}},\"id\":\"1936d7cc-cfde-4316-966a-d8bb48dde8ef\",\"type\":\"Grid\"},{\"attributes\":{\"bottom\":{\"field\":\"bottom\"},\"fill_alpha\":{\"value\":0.1},\"fill_color\":{\"value\":\"#1f77b4\"},\"left\":{\"field\":\"left\"},\"line_alpha\":{\"value\":0.1},\"line_color\":{\"value\":\"#1f77b4\"},\"right\":{\"field\":\"right\"},\"top\":{\"field\":\"top\"}},\"id\":\"fc11bd64-541f-442c-b556-d010b80eb5b8\",\"type\":\"Quad\"},{\"attributes\":{},\"id\":\"c1ce38b9-5e2b-4d09-930d-3d5c96f54b46\",\"type\":\"BasicTickFormatter\"},{\"attributes\":{\"active_drag\":\"auto\",\"active_scroll\":\"auto\",\"active_tap\":\"auto\",\"tools\":[{\"id\":\"5f3c68fa-d655-4b24-9207-920638895888\",\"type\":\"PanTool\"},{\"id\":\"ec850f95-b8e5-4460-a274-089662103661\",\"type\":\"WheelZoomTool\"},{\"id\":\"fd043f19-ce88-421f-bbba-8279b3974793\",\"type\":\"BoxZoomTool\"},{\"id\":\"09f70df0-bfe6-4d21-9147-f631ccd640dd\",\"type\":\"SaveTool\"},{\"id\":\"01416bcc-4a1a-43f3-815b-e717f4fc6b6f\",\"type\":\"ResetTool\"},{\"id\":\"d44245a3-0185-4240-963b-7a14128c122f\",\"type\":\"HelpTool\"}]},\"id\":\"184e9659-7fc8-47f5-9dc5-67132d6e1b3e\",\"type\":\"Toolbar\"},{\"attributes\":{\"callback\":null,\"end\":136786630,\"start\":135757320},\"id\":\"4462a7f7-9fbf-42ed-b06d-869ec97030f9\",\"type\":\"Range1d\"},{\"attributes\":{\"callback\":null,\"end\":900},\"id\":\"0efea329-6642-4ff4-9ed7-e97a39ed9e78\",\"type\":\"Range1d\"},{\"attributes\":{\"callback\":null,\"column_names\":[\"y\",\"x\",\"vals\"],\"data\":{\"vals\":[\"117_1685\",\"6_68\",\"49_136\",\"8_718\",\"9_545\",\"14_40\",\"70_166\",\"5_69\",\"28_434\",\"9_887\",\"5_588\",\"21_332\",\"5_1460\",\"4_612\",\"7_1760\",\"16_511\",\"24_1504\"],\"x\":[135758231,135758713,135780924,135784351,135810535,135814021,136008173,136056699,136115507,136309239,136364916,136402778,136406646,136448855,136588031,136603638,136653925],\"y\":[801.0,173.0,279.0,693.0,591.0,68.0,381.0,273.0,489.0,695.0,592.0,487.0,700.0,592.0,801.0,590.0,800.0]}},\"id\":\"cefe3d47-cb64-4f5d-8a8f-8a542b00baca\",\"type\":\"ColumnDataSource\"},{\"attributes\":{\"data_source\":{\"id\":\"28021e9a-4995-41b4-be3d-8710bdbd51b4\",\"type\":\"ColumnDataSource\"},\"glyph\":{\"id\":\"0a0595d4-086f-447e-a3eb-1da16c817c75\",\"type\":\"Quad\"},\"hover_glyph\":null,\"nonselection_glyph\":{\"id\":\"fc11bd64-541f-442c-b556-d010b80eb5b8\",\"type\":\"Quad\"},\"selection_glyph\":null},\"id\":\"a01d8e8f-f5d8-446a-9cab-2ed8031d8a84\",\"type\":\"GlyphRenderer\"},{\"attributes\":{\"plot\":null,\"text\":null},\"id\":\"2131923f-d4bb-453a-99ec-0e0384ef0cd2\",\"type\":\"Title\"}],\"root_ids\":[\"3389f72f-9e55-4c57-a1ba-1d49e5f7b037\"]},\"title\":\"Bokeh Application\",\"version\":\"0.12.0\"}};\n",
       "            var render_items = [{\"docid\":\"6944ecb2-10f0-485d-9107-5d6daa8b2fa0\",\"elementid\":\"28efbbe1-d57a-4eb2-8a07-6925a35307bb\",\"modelid\":\"3389f72f-9e55-4c57-a1ba-1d49e5f7b037\",\"notebook_comms_target\":\"0c85ceee-7a80-4d66-acea-fd438641d739\"}];\n",
       "            \n",
       "            Bokeh.embed.embed_items(docs_json, render_items);\n",
       "        });\n",
       "      },\n",
       "      function(Bokeh) {\n",
       "      }\n",
       "    ];\n",
       "  \n",
       "    function run_inline_js() {\n",
       "      for (var i = 0; i < inline_js.length; i++) {\n",
       "        inline_js[i](window.Bokeh);\n",
       "      }\n",
       "    }\n",
       "  \n",
       "    if (window._bokeh_is_loading === 0) {\n",
       "      console.log(\"Bokeh: BokehJS loaded, going straight to plotting\");\n",
       "      run_inline_js();\n",
       "    } else {\n",
       "      load_libs(js_urls, function() {\n",
       "        console.log(\"Bokeh: BokehJS plotting callback run at\", now());\n",
       "        run_inline_js();\n",
       "      });\n",
       "    }\n",
       "  }(this));\n",
       "</script>"
      ]
     },
     "metadata": {},
     "output_type": "display_data"
    },
    {
     "data": {
      "text/html": [
       "<p><code>&lt;Bokeh Notebook handle for <strong>In[47]</strong>&gt;</code></p>"
      ],
      "text/plain": [
       "<bokeh.io._CommsHandle at 0x7f3f6010c210>"
      ]
     },
     "execution_count": 47,
     "metadata": {},
     "output_type": "execute_result"
    }
   ],
   "source": [
    "plt_obj = dm.superset_allele_mask(am4, min_match=0.5)\n",
    "plt = plt_obj.do_plot()\n",
    "show(plt)"
   ]
  },
  {
   "cell_type": "code",
   "execution_count": 48,
   "metadata": {
    "collapsed": false
   },
   "outputs": [
    {
     "data": {
      "text/html": [
       "<table>\n",
       "<thead><tr><th style=\"text-align:center\">index</th><th style=\"text-align:center\">first</th><th style=\"text-align:center\">length</th><th style=\"text-align:center\">snps</th><th style=\"text-align:center\" colspan=2>alleles</th><th style=\"text-align:center\" colspan=2>matches</th><th style=\"text-align:center\" colspan=2>afr</th><th style=\"text-align:center\" colspan=2>afx</th><th style=\"text-align:center\" colspan=2>amr</th><th style=\"text-align:center\" colspan=2>eas</th><th style=\"text-align:center\" colspan=2>eur</th><th style=\"text-align:center\" colspan=2>sas</th><th style=\"text-align:center\" colspan=2>sax</th></tr></thead>\n",
       "<tr class=\"even\"><td style=\"text-align: right;\">354033</td><td style=\"text-align: right;\">136,588,031</td><td style=\"text-align: right;\">5,647</td><td style=\"text-align: right;\">7</td><td style=\"text-align: right;\">1760</td><td style=\"text-align: right;\">0.02</td><td style=\"text-align: right;\">40</td><td style=\"text-align: right;\">0.65</td><td style=\"text-align: right;\">31</td><td style=\"text-align: right;\">3.85</td><td style=\"text-align: right;\">9</td><td style=\"text-align: right;\">3.59</td><td style=\"text-align: right;\">0</td><td style=\"text-align: right;\">0.00</td><td style=\"text-align: right;\">0</td><td style=\"text-align: right;\">0.00</td><td style=\"text-align: right;\">0</td><td style=\"text-align: right;\">0.00</td><td style=\"text-align: right;\">0</td><td style=\"text-align: right;\">0.00</td><td style=\"text-align: right;\">0</td><td style=\"text-align: right;\">0.00</td></tr>\n",
       "<tr><td style=\"text-align: right;\">353244</td><td style=\"text-align: right;\">135,758,231</td><td style=\"text-align: right;\">618,284</td><td style=\"text-align: right;\">117</td><td style=\"text-align: right;\">1685</td><td style=\"text-align: right;\">0.04</td><td style=\"text-align: right;\">62</td><td style=\"text-align: right;\">1.00</td><td style=\"text-align: right;\">47</td><td style=\"text-align: right;\">3.77</td><td style=\"text-align: right;\">14</td><td style=\"text-align: right;\">3.60</td><td style=\"text-align: right;\">1</td><td style=\"text-align: right;\">0.12</td><td style=\"text-align: right;\">0</td><td style=\"text-align: right;\">0.00</td><td style=\"text-align: right;\">0</td><td style=\"text-align: right;\">0.00</td><td style=\"text-align: right;\">0</td><td style=\"text-align: right;\">0.00</td><td style=\"text-align: right;\">0</td><td style=\"text-align: right;\">0.00</td></tr>\n",
       "<tr class=\"even\"><td style=\"text-align: right;\">354130</td><td style=\"text-align: right;\">136,653,925</td><td style=\"text-align: right;\">107,928</td><td style=\"text-align: right;\">24</td><td style=\"text-align: right;\">1504</td><td style=\"text-align: right;\">0.02</td><td style=\"text-align: right;\">31</td><td style=\"text-align: right;\">0.50</td><td style=\"text-align: right;\">20</td><td style=\"text-align: right;\">3.21</td><td style=\"text-align: right;\">10</td><td style=\"text-align: right;\">5.14</td><td style=\"text-align: right;\">1</td><td style=\"text-align: right;\">0.23</td><td style=\"text-align: right;\">0</td><td style=\"text-align: right;\">0.00</td><td style=\"text-align: right;\">0</td><td style=\"text-align: right;\">0.00</td><td style=\"text-align: right;\">0</td><td style=\"text-align: right;\">0.00</td><td style=\"text-align: right;\">0</td><td style=\"text-align: right;\">0.00</td></tr>\n",
       "<tr><td style=\"text-align: right;\">353814</td><td style=\"text-align: right;\">136,406,646</td><td style=\"text-align: right;\">31,432</td><td style=\"text-align: right;\">5</td><td style=\"text-align: right;\">1460</td><td style=\"text-align: right;\">0.03</td><td style=\"text-align: right;\">47</td><td style=\"text-align: right;\">0.76</td><td style=\"text-align: right;\">34</td><td style=\"text-align: right;\">3.59</td><td style=\"text-align: right;\">13</td><td style=\"text-align: right;\">4.41</td><td style=\"text-align: right;\">0</td><td style=\"text-align: right;\">0.00</td><td style=\"text-align: right;\">0</td><td style=\"text-align: right;\">0.00</td><td style=\"text-align: right;\">0</td><td style=\"text-align: right;\">0.00</td><td style=\"text-align: right;\">0</td><td style=\"text-align: right;\">0.00</td><td style=\"text-align: right;\">0</td><td style=\"text-align: right;\">0.00</td></tr>\n",
       "<tr class=\"even\"><td style=\"text-align: right;\">353729</td><td style=\"text-align: right;\">136,309,239</td><td style=\"text-align: right;\">52,321</td><td style=\"text-align: right;\">9</td><td style=\"text-align: right;\">887</td><td style=\"text-align: right;\">0.07</td><td style=\"text-align: right;\">62</td><td style=\"text-align: right;\">1.00</td><td style=\"text-align: right;\">47</td><td style=\"text-align: right;\">3.77</td><td style=\"text-align: right;\">14</td><td style=\"text-align: right;\">3.60</td><td style=\"text-align: right;\">1</td><td style=\"text-align: right;\">0.12</td><td style=\"text-align: right;\">0</td><td style=\"text-align: right;\">0.00</td><td style=\"text-align: right;\">0</td><td style=\"text-align: right;\">0.00</td><td style=\"text-align: right;\">0</td><td style=\"text-align: right;\">0.00</td><td style=\"text-align: right;\">0</td><td style=\"text-align: right;\">0.00</td></tr>\n",
       "<tr><td style=\"text-align: right;\">353312</td><td style=\"text-align: right;\">135,784,351</td><td style=\"text-align: right;\">117,869</td><td style=\"text-align: right;\">8</td><td style=\"text-align: right;\">718</td><td style=\"text-align: right;\">0.09</td><td style=\"text-align: right;\">62</td><td style=\"text-align: right;\">1.00</td><td style=\"text-align: right;\">47</td><td style=\"text-align: right;\">3.77</td><td style=\"text-align: right;\">14</td><td style=\"text-align: right;\">3.60</td><td style=\"text-align: right;\">1</td><td style=\"text-align: right;\">0.12</td><td style=\"text-align: right;\">0</td><td style=\"text-align: right;\">0.00</td><td style=\"text-align: right;\">0</td><td style=\"text-align: right;\">0.00</td><td style=\"text-align: right;\">0</td><td style=\"text-align: right;\">0.00</td><td style=\"text-align: right;\">0</td><td style=\"text-align: right;\">0.00</td></tr>\n",
       "<tr class=\"even\"><td style=\"text-align: right;\">353851</td><td style=\"text-align: right;\">136,448,855</td><td style=\"text-align: right;\">17,976</td><td style=\"text-align: right;\">4</td><td style=\"text-align: right;\">612</td><td style=\"text-align: right;\">0.06</td><td style=\"text-align: right;\">38</td><td style=\"text-align: right;\">0.61</td><td style=\"text-align: right;\">29</td><td style=\"text-align: right;\">3.79</td><td style=\"text-align: right;\">9</td><td style=\"text-align: right;\">3.78</td><td style=\"text-align: right;\">0</td><td style=\"text-align: right;\">0.00</td><td style=\"text-align: right;\">0</td><td style=\"text-align: right;\">0.00</td><td style=\"text-align: right;\">0</td><td style=\"text-align: right;\">0.00</td><td style=\"text-align: right;\">0</td><td style=\"text-align: right;\">0.00</td><td style=\"text-align: right;\">0</td><td style=\"text-align: right;\">0.00</td></tr>\n",
       "<tr><td style=\"text-align: right;\">353764</td><td style=\"text-align: right;\">136,364,916</td><td style=\"text-align: right;\">22,977</td><td style=\"text-align: right;\">5</td><td style=\"text-align: right;\">588</td><td style=\"text-align: right;\">0.11</td><td style=\"text-align: right;\">62</td><td style=\"text-align: right;\">1.00</td><td style=\"text-align: right;\">47</td><td style=\"text-align: right;\">3.77</td><td style=\"text-align: right;\">14</td><td style=\"text-align: right;\">3.60</td><td style=\"text-align: right;\">1</td><td style=\"text-align: right;\">0.12</td><td style=\"text-align: right;\">0</td><td style=\"text-align: right;\">0.00</td><td style=\"text-align: right;\">0</td><td style=\"text-align: right;\">0.00</td><td style=\"text-align: right;\">0</td><td style=\"text-align: right;\">0.00</td><td style=\"text-align: right;\">0</td><td style=\"text-align: right;\">0.00</td></tr>\n",
       "<tr class=\"even\"><td style=\"text-align: right;\">353349</td><td style=\"text-align: right;\">135,810,535</td><td style=\"text-align: right;\">87,488</td><td style=\"text-align: right;\">9</td><td style=\"text-align: right;\">545</td><td style=\"text-align: right;\">0.11</td><td style=\"text-align: right;\">62</td><td style=\"text-align: right;\">1.00</td><td style=\"text-align: right;\">47</td><td style=\"text-align: right;\">3.77</td><td style=\"text-align: right;\">14</td><td style=\"text-align: right;\">3.60</td><td style=\"text-align: right;\">1</td><td style=\"text-align: right;\">0.12</td><td style=\"text-align: right;\">0</td><td style=\"text-align: right;\">0.00</td><td style=\"text-align: right;\">0</td><td style=\"text-align: right;\">0.00</td><td style=\"text-align: right;\">0</td><td style=\"text-align: right;\">0.00</td><td style=\"text-align: right;\">0</td><td style=\"text-align: right;\">0.00</td></tr>\n",
       "<tr><td style=\"text-align: right;\">354061</td><td style=\"text-align: right;\">136,603,638</td><td style=\"text-align: right;\">28,487</td><td style=\"text-align: right;\">16</td><td style=\"text-align: right;\">511</td><td style=\"text-align: right;\">0.06</td><td style=\"text-align: right;\">31</td><td style=\"text-align: right;\">0.50</td><td style=\"text-align: right;\">25</td><td style=\"text-align: right;\">4.01</td><td style=\"text-align: right;\">6</td><td style=\"text-align: right;\">3.09</td><td style=\"text-align: right;\">0</td><td style=\"text-align: right;\">0.00</td><td style=\"text-align: right;\">0</td><td style=\"text-align: right;\">0.00</td><td style=\"text-align: right;\">0</td><td style=\"text-align: right;\">0.00</td><td style=\"text-align: right;\">0</td><td style=\"text-align: right;\">0.00</td><td style=\"text-align: right;\">0</td><td style=\"text-align: right;\">0.00</td></tr>\n",
       "<tr class=\"even\"><td style=\"text-align: right;\">353614</td><td style=\"text-align: right;\">136,115,507</td><td style=\"text-align: right;\">269,773</td><td style=\"text-align: right;\">28</td><td style=\"text-align: right;\">434</td><td style=\"text-align: right;\">0.14</td><td style=\"text-align: right;\">62</td><td style=\"text-align: right;\">1.00</td><td style=\"text-align: right;\">47</td><td style=\"text-align: right;\">3.77</td><td style=\"text-align: right;\">14</td><td style=\"text-align: right;\">3.60</td><td style=\"text-align: right;\">1</td><td style=\"text-align: right;\">0.12</td><td style=\"text-align: right;\">0</td><td style=\"text-align: right;\">0.00</td><td style=\"text-align: right;\">0</td><td style=\"text-align: right;\">0.00</td><td style=\"text-align: right;\">0</td><td style=\"text-align: right;\">0.00</td><td style=\"text-align: right;\">0</td><td style=\"text-align: right;\">0.00</td></tr>\n",
       "<tr><td style=\"text-align: right;\">353804</td><td style=\"text-align: right;\">136,402,778</td><td style=\"text-align: right;\">90,652</td><td style=\"text-align: right;\">21</td><td style=\"text-align: right;\">332</td><td style=\"text-align: right;\">0.11</td><td style=\"text-align: right;\">38</td><td style=\"text-align: right;\">0.61</td><td style=\"text-align: right;\">29</td><td style=\"text-align: right;\">3.79</td><td style=\"text-align: right;\">9</td><td style=\"text-align: right;\">3.78</td><td style=\"text-align: right;\">0</td><td style=\"text-align: right;\">0.00</td><td style=\"text-align: right;\">0</td><td style=\"text-align: right;\">0.00</td><td style=\"text-align: right;\">0</td><td style=\"text-align: right;\">0.00</td><td style=\"text-align: right;\">0</td><td style=\"text-align: right;\">0.00</td><td style=\"text-align: right;\">0</td><td style=\"text-align: right;\">0.00</td></tr>\n",
       "<tr class=\"even\"><td style=\"text-align: right;\">353538</td><td style=\"text-align: right;\">136,008,173</td><td style=\"text-align: right;\">373,078</td><td style=\"text-align: right;\">70</td><td style=\"text-align: right;\">166</td><td style=\"text-align: right;\">0.37</td><td style=\"text-align: right;\">62</td><td style=\"text-align: right;\">1.00</td><td style=\"text-align: right;\">47</td><td style=\"text-align: right;\">3.77</td><td style=\"text-align: right;\">14</td><td style=\"text-align: right;\">3.60</td><td style=\"text-align: right;\">1</td><td style=\"text-align: right;\">0.12</td><td style=\"text-align: right;\">0</td><td style=\"text-align: right;\">0.00</td><td style=\"text-align: right;\">0</td><td style=\"text-align: right;\">0.00</td><td style=\"text-align: right;\">0</td><td style=\"text-align: right;\">0.00</td><td style=\"text-align: right;\">0</td><td style=\"text-align: right;\">0.00</td></tr>\n",
       "<tr><td style=\"text-align: right;\">353304</td><td style=\"text-align: right;\">135,780,924</td><td style=\"text-align: right;\">236,215</td><td style=\"text-align: right;\">49</td><td style=\"text-align: right;\">136</td><td style=\"text-align: right;\">0.46</td><td style=\"text-align: right;\">62</td><td style=\"text-align: right;\">1.00</td><td style=\"text-align: right;\">47</td><td style=\"text-align: right;\">3.77</td><td style=\"text-align: right;\">14</td><td style=\"text-align: right;\">3.60</td><td style=\"text-align: right;\">1</td><td style=\"text-align: right;\">0.12</td><td style=\"text-align: right;\">0</td><td style=\"text-align: right;\">0.00</td><td style=\"text-align: right;\">0</td><td style=\"text-align: right;\">0.00</td><td style=\"text-align: right;\">0</td><td style=\"text-align: right;\">0.00</td><td style=\"text-align: right;\">0</td><td style=\"text-align: right;\">0.00</td></tr>\n",
       "<tr class=\"even\"><td style=\"text-align: right;\">353581</td><td style=\"text-align: right;\">136,056,699</td><td style=\"text-align: right;\">377,203</td><td style=\"text-align: right;\">5</td><td style=\"text-align: right;\">69</td><td style=\"text-align: right;\">0.61</td><td style=\"text-align: right;\">42</td><td style=\"text-align: right;\">0.68</td><td style=\"text-align: right;\">30</td><td style=\"text-align: right;\">3.55</td><td style=\"text-align: right;\">12</td><td style=\"text-align: right;\">4.56</td><td style=\"text-align: right;\">0</td><td style=\"text-align: right;\">0.00</td><td style=\"text-align: right;\">0</td><td style=\"text-align: right;\">0.00</td><td style=\"text-align: right;\">0</td><td style=\"text-align: right;\">0.00</td><td style=\"text-align: right;\">0</td><td style=\"text-align: right;\">0.00</td><td style=\"text-align: right;\">0</td><td style=\"text-align: right;\">0.00</td></tr>\n",
       "<tr><td style=\"text-align: right;\">353247</td><td style=\"text-align: right;\">135,758,713</td><td style=\"text-align: right;\">19,520</td><td style=\"text-align: right;\">6</td><td style=\"text-align: right;\">68</td><td style=\"text-align: right;\">0.90</td><td style=\"text-align: right;\">61</td><td style=\"text-align: right;\">0.98</td><td style=\"text-align: right;\">47</td><td style=\"text-align: right;\">3.83</td><td style=\"text-align: right;\">13</td><td style=\"text-align: right;\">3.40</td><td style=\"text-align: right;\">1</td><td style=\"text-align: right;\">0.12</td><td style=\"text-align: right;\">0</td><td style=\"text-align: right;\">0.00</td><td style=\"text-align: right;\">0</td><td style=\"text-align: right;\">0.00</td><td style=\"text-align: right;\">0</td><td style=\"text-align: right;\">0.00</td><td style=\"text-align: right;\">0</td><td style=\"text-align: right;\">0.00</td></tr>\n",
       "<tr class=\"even\"><td style=\"text-align: right;\">353354</td><td style=\"text-align: right;\">135,814,021</td><td style=\"text-align: right;\">610,527</td><td style=\"text-align: right;\">14</td><td style=\"text-align: right;\">40</td><td style=\"text-align: right;\">1.00</td><td style=\"text-align: right;\">40</td><td style=\"text-align: right;\">0.65</td><td style=\"text-align: right;\">30</td><td style=\"text-align: right;\">3.73</td><td style=\"text-align: right;\">10</td><td style=\"text-align: right;\">3.99</td><td style=\"text-align: right;\">0</td><td style=\"text-align: right;\">0.00</td><td style=\"text-align: right;\">0</td><td style=\"text-align: right;\">0.00</td><td style=\"text-align: right;\">0</td><td style=\"text-align: right;\">0.00</td><td style=\"text-align: right;\">0</td><td style=\"text-align: right;\">0.00</td><td style=\"text-align: right;\">0</td><td style=\"text-align: right;\">0.00</td></tr>\n",
       "</table>"
      ],
      "text/plain": [
       "<IPython.core.display.HTML object>"
      ]
     },
     "execution_count": 48,
     "metadata": {},
     "output_type": "execute_result"
    }
   ],
   "source": [
    "HTML(plt_obj.get_html())"
   ]
  },
  {
   "cell_type": "code",
   "execution_count": 49,
   "metadata": {
    "collapsed": false
   },
   "outputs": [
    {
     "data": {
      "text/plain": [
       "array([(114, 2), (115, 7), (116, 53)], \n",
       "      dtype=[('count', '<u2'), ('snps', '<u2')])"
      ]
     },
     "execution_count": 49,
     "metadata": {},
     "output_type": "execute_result"
    }
   ],
   "source": [
    "an.sa_117_1685.unique_snps_per_allele(am4)"
   ]
  },
  {
   "cell_type": "code",
   "execution_count": 50,
   "metadata": {
    "collapsed": false
   },
   "outputs": [
    {
     "data": {
      "text/plain": [
       "array([(0, 53), (1, 53), (2, 53), (3, 53), (4, 53), (5, 53), (6, 53),\n",
       "       (7, 53), (8, 53), (9, 53), (10, 53), (11, 53), (12, 53), (13, 53),\n",
       "       (14, 53), (15, 53), (16, 53), (17, 53), (18, 53), (19, 53),\n",
       "       (20, 53), (21, 53), (22, 53), (23, 53), (24, 53), (25, 53),\n",
       "       (26, 53), (27, 53), (28, 53), (29, 53), (30, 53), (31, 53),\n",
       "       (32, 53), (33, 53), (34, 53), (35, 53), (36, 53), (37, 53),\n",
       "       (38, 53), (39, 53), (40, 53), (41, 53), (42, 53), (43, 53),\n",
       "       (44, 53), (45, 53), (46, 53), (47, 53), (48, 53), (49, 53),\n",
       "       (50, 53), (51, 53), (52, 53), (53, 53), (54, 53), (55, 53),\n",
       "       (56, 53), (57, 53), (58, 53), (59, 53), (60, 53), (61, 53),\n",
       "       (62, 53), (63, 53), (64, 53), (65, 53), (66, 53), (67, 53),\n",
       "       (68, 53), (69, 53), (70, 53), (71, 53), (72, 53), (73, 53),\n",
       "       (74, 53), (75, 53), (76, 53), (77, 0), (78, 53), (79, 53), (80, 53),\n",
       "       (81, 53), (82, 53), (83, 53), (84, 53), (85, 53), (86, 53),\n",
       "       (87, 53), (88, 53), (89, 53), (90, 53), (91, 53), (92, 53),\n",
       "       (93, 53), (94, 53), (95, 53), (96, 53), (97, 53), (98, 53),\n",
       "       (99, 53), (100, 53), (101, 53), (102, 53), (103, 53), (104, 53),\n",
       "       (105, 53), (106, 53), (107, 53), (108, 53), (109, 53), (110, 53),\n",
       "       (111, 53), (112, 53), (113, 53), (114, 53), (115, 53), (116, 53)], \n",
       "      dtype=[('index', '<u2'), ('snp_count', '<u2')])"
      ]
     },
     "execution_count": 50,
     "metadata": {},
     "output_type": "execute_result"
    }
   ],
   "source": [
    "tf = an.snp_anal.series_fragment_finder_cls(an.sa_117_1685, am4)\n",
    "tf.alleles_per_snp_from_count(116)"
   ]
  },
  {
   "cell_type": "code",
   "execution_count": 51,
   "metadata": {
    "collapsed": false
   },
   "outputs": [
    {
     "data": {
      "text/plain": [
       "array([(106, 1), (107, 3), (108, 3), (109, 38), (110, 17)], \n",
       "      dtype=[('count', '<u2'), ('snps', '<u2')])"
      ]
     },
     "execution_count": 51,
     "metadata": {},
     "output_type": "execute_result"
    }
   ],
   "source": [
    "an.sa_123_1561.unique_snps_per_allele(am4)"
   ]
  },
  {
   "cell_type": "code",
   "execution_count": 52,
   "metadata": {
    "collapsed": false
   },
   "outputs": [
    {
     "data": {
      "text/plain": [
       "array([(0, 38), (1, 38), (2, 38), (3, 38), (4, 0), (5, 38), (6, 0),\n",
       "       (7, 38), (8, 38), (9, 0), (10, 0), (11, 38), (12, 38), (13, 38),\n",
       "       (14, 0), (15, 0), (16, 0), (17, 0), (18, 38), (19, 38), (20, 0),\n",
       "       (21, 38), (22, 38), (23, 0), (24, 38), (25, 38), (26, 38), (27, 38),\n",
       "       (28, 38), (29, 38), (30, 38), (31, 38), (32, 0), (33, 38), (34, 38),\n",
       "       (35, 38), (36, 38), (37, 38), (38, 38), (39, 38), (40, 38),\n",
       "       (41, 38), (42, 38), (43, 38), (44, 38), (45, 38), (46, 38),\n",
       "       (47, 38), (48, 38), (49, 38), (50, 38), (51, 38), (52, 38),\n",
       "       (53, 38), (54, 38), (55, 38), (56, 38), (57, 38), (58, 38),\n",
       "       (59, 38), (60, 38), (61, 0), (62, 38), (63, 38), (64, 38), (65, 38),\n",
       "       (66, 38), (67, 38), (68, 38), (69, 38), (70, 38), (71, 38),\n",
       "       (72, 38), (73, 38), (74, 38), (75, 38), (76, 38), (77, 38),\n",
       "       (78, 38), (79, 38), (80, 38), (81, 38), (82, 38), (83, 38), (84, 0),\n",
       "       (85, 38), (86, 38), (87, 38), (88, 38), (89, 38), (90, 38),\n",
       "       (91, 38), (92, 38), (93, 38), (94, 38), (95, 38), (96, 38),\n",
       "       (97, 38), (98, 38), (99, 38), (100, 38), (101, 38), (102, 38),\n",
       "       (103, 38), (104, 38), (105, 0), (106, 38), (107, 38), (108, 38),\n",
       "       (109, 38), (110, 38), (111, 38), (112, 38), (113, 38), (114, 38),\n",
       "       (115, 38), (116, 38), (117, 38), (118, 38), (119, 38), (120, 38),\n",
       "       (121, 38), (122, 38)], \n",
       "      dtype=[('index', '<u2'), ('snp_count', '<u2')])"
      ]
     },
     "execution_count": 52,
     "metadata": {},
     "output_type": "execute_result"
    }
   ],
   "source": [
    "tf = an.snp_anal.series_fragment_finder_cls(an.sa_123_1561, am4)\n",
    "tf.alleles_per_snp_from_count(109)"
   ]
  },
  {
   "cell_type": "code",
   "execution_count": 53,
   "metadata": {
    "collapsed": false
   },
   "outputs": [
    {
     "data": {
      "text/plain": [
       "array([(114, 2), (116, 4), (117, 5)], \n",
       "      dtype=[('count', '<u2'), ('snps', '<u2')])"
      ]
     },
     "execution_count": 53,
     "metadata": {},
     "output_type": "execute_result"
    }
   ],
   "source": [
    "an.sa_117_1685.unique_snps_per_allele(am5)"
   ]
  },
  {
   "cell_type": "code",
   "execution_count": 54,
   "metadata": {
    "collapsed": false
   },
   "outputs": [
    {
     "data": {
      "text/plain": [
       "array([(66, 1), (106, 1), (107, 1), (108, 2), (109, 6)], \n",
       "      dtype=[('count', '<u2'), ('snps', '<u2')])"
      ]
     },
     "execution_count": 54,
     "metadata": {},
     "output_type": "execute_result"
    }
   ],
   "source": [
    "an.sa_123_1561.unique_snps_per_allele(am5)"
   ]
  },
  {
   "cell_type": "code",
   "execution_count": 55,
   "metadata": {
    "collapsed": false
   },
   "outputs": [
    {
     "data": {
      "text/html": [
       "\n",
       "\n",
       "    <div class=\"bk-root\">\n",
       "        <div class=\"plotdiv\" id=\"500225da-ca13-4743-8b9b-a80e6ede2fc1\"></div>\n",
       "    </div>\n",
       "<script type=\"text/javascript\">\n",
       "  \n",
       "  (function(global) {\n",
       "    function now() {\n",
       "      return new Date();\n",
       "    }\n",
       "  \n",
       "    if (typeof (window._bokeh_onload_callbacks) === \"undefined\") {\n",
       "      window._bokeh_onload_callbacks = [];\n",
       "    }\n",
       "  \n",
       "    function run_callbacks() {\n",
       "      window._bokeh_onload_callbacks.forEach(function(callback) { callback() });\n",
       "      delete window._bokeh_onload_callbacks\n",
       "      console.info(\"Bokeh: all callbacks have finished\");\n",
       "    }\n",
       "  \n",
       "    function load_libs(js_urls, callback) {\n",
       "      window._bokeh_onload_callbacks.push(callback);\n",
       "      if (window._bokeh_is_loading > 0) {\n",
       "        console.log(\"Bokeh: BokehJS is being loaded, scheduling callback at\", now());\n",
       "        return null;\n",
       "      }\n",
       "      if (js_urls == null || js_urls.length === 0) {\n",
       "        run_callbacks();\n",
       "        return null;\n",
       "      }\n",
       "      console.log(\"Bokeh: BokehJS not loaded, scheduling load and callback at\", now());\n",
       "      window._bokeh_is_loading = js_urls.length;\n",
       "      for (var i = 0; i < js_urls.length; i++) {\n",
       "        var url = js_urls[i];\n",
       "        var s = document.createElement('script');\n",
       "        s.src = url;\n",
       "        s.async = false;\n",
       "        s.onreadystatechange = s.onload = function() {\n",
       "          window._bokeh_is_loading--;\n",
       "          if (window._bokeh_is_loading === 0) {\n",
       "            console.log(\"Bokeh: all BokehJS libraries loaded\");\n",
       "            run_callbacks()\n",
       "          }\n",
       "        };\n",
       "        s.onerror = function() {\n",
       "          console.warn(\"failed to load library \" + url);\n",
       "        };\n",
       "        console.log(\"Bokeh: injecting script tag for BokehJS library: \", url);\n",
       "        document.getElementsByTagName(\"head\")[0].appendChild(s);\n",
       "      }\n",
       "    };var element = document.getElementById(\"500225da-ca13-4743-8b9b-a80e6ede2fc1\");\n",
       "    if (element == null) {\n",
       "      console.log(\"Bokeh: ERROR: autoload.js configured with elementid '500225da-ca13-4743-8b9b-a80e6ede2fc1' but no matching script tag was found. \")\n",
       "      return false;\n",
       "    }\n",
       "  \n",
       "    var js_urls = [];\n",
       "  \n",
       "    var inline_js = [\n",
       "      function(Bokeh) {\n",
       "        Bokeh.$(function() {\n",
       "            var docs_json = {\"c70f6d6f-5aa7-4404-88b6-7c9ed111b4a8\":{\"roots\":{\"references\":[{\"attributes\":{\"callback\":null,\"column_names\":[\"xs\",\"ys\",\"line_color\"],\"data\":{\"line_color\":[\"black\",\"black\",\"black\",\"black\",\"black\",\"black\",\"black\",\"black\",\"black\",\"black\",\"black\",\"black\",\"black\",\"black\",\"black\",\"black\",\"black\",\"black\",\"black\",\"black\",\"black\",\"black\",\"black\",\"black\",\"black\",\"black\",\"black\",\"black\",\"black\",\"black\",\"black\",\"black\",\"black\",\"black\",\"black\",\"black\",\"black\",\"black\",\"black\",\"black\",\"black\",\"black\",\"black\",\"black\",\"black\",\"black\",\"black\",\"black\",\"black\",\"black\",\"black\",\"black\",\"black\",\"black\",\"black\",\"black\",\"black\",\"black\",\"black\",\"black\",\"black\",\"black\",\"black\",\"black\",\"black\",\"black\",\"black\",\"black\",\"black\",\"black\",\"black\",\"black\",\"black\",\"black\",\"black\",\"black\",\"black\",\"black\",\"black\",\"black\",\"black\",\"black\",\"black\",\"black\",\"black\",\"black\",\"black\",\"black\",\"black\",\"black\",\"black\",\"black\",\"black\",\"black\",\"black\",\"black\",\"black\",\"black\",\"black\",\"black\",\"black\",\"black\",\"black\",\"black\",\"black\",\"black\",\"black\",\"black\",\"black\",\"black\",\"black\",\"black\",\"black\",\"black\",\"black\",\"black\",\"black\",\"black\",\"black\",\"black\",\"black\",\"black\",\"black\",\"black\",\"black\",\"black\",\"black\",\"black\",\"black\",\"black\",\"black\",\"black\",\"black\",\"black\",\"black\",\"black\",\"black\",\"black\",\"black\",\"black\",\"black\",\"black\",\"black\",\"black\",\"black\",\"black\",\"black\",\"black\",\"black\",\"black\",\"black\",\"black\",\"black\",\"black\",\"black\",\"black\",\"black\",\"black\",\"black\",\"black\",\"black\",\"black\",\"black\",\"black\",\"black\",\"black\",\"black\",\"black\",\"black\",\"black\",\"black\",\"black\",\"black\",\"black\",\"black\",\"black\",\"black\",\"black\",\"black\",\"black\",\"black\",\"black\",\"black\",\"black\",\"black\",\"black\",\"black\",\"black\",\"black\",\"black\",\"black\",\"black\",\"black\",\"black\",\"black\",\"black\",\"black\",\"black\",\"black\",\"black\",\"black\",\"black\",\"black\",\"black\",\"black\",\"black\",\"black\",\"black\",\"black\",\"black\",\"black\",\"black\",\"black\",\"black\",\"black\",\"black\",\"black\",\"black\",\"black\",\"black\",\"black\",\"black\",\"black\",\"black\",\"black\",\"black\",\"black\",\"black\",\"black\",\"black\",\"black\",\"black\",\"black\",\"black\",\"black\",\"black\",\"black\",\"black\",\"black\",\"black\",\"black\"],\"xs\":[[135758231,135758231],[135758520,135758520],[135766072,135766072],[135773420,135773420],[135773446,135773446],[135773617,135773617],[135773692,135773692],[135774681,135774681],[135775049,135775049],[135776430,135776430],[135778656,135778656],[135780168,135780168],[135780587,135780587],[135781301,135781301],[135781522,135781522],[135781635,135781635],[135782456,135782456],[135783157,135783157],[135783366,135783366],[135783367,135783367],[135784227,135784227],[135784733,135784733],[135785066,135785066],[135785068,135785068],[135785149,135785149],[135787148,135787148],[135787642,135787642],[135789405,135789405],[135789472,135789472],[135789682,135789682],[135789784,135789784],[135792338,135792338],[135792528,135792528],[135793565,135793565],[135793684,135793684],[135793845,135793845],[135794367,135794367],[135794986,135794986],[135795040,135795040],[135795095,135795095],[135795150,135795150],[135795385,135795385],[135795396,135795396],[135795443,135795443],[135795595,135795595],[135796000,135796000],[135796155,135796155],[135796410,135796410],[135796965,135796965],[135797223,135797223],[135797747,135797747],[135798082,135798082],[135798758,135798758],[135799082,135799082],[135800085,135800085],[135800601,135800601],[135800757,135800757],[135801228,135801228],[135801956,135801956],[135802020,135802020],[135802028,135802028],[135802050,135802050],[135802148,135802148],[135803766,135803766],[135809241,135809241],[135812969,135812969],[135814716,135814716],[135818907,135818907],[135829432,135829432],[135832131,135832131],[135849613,135849613],[135853807,135853807],[135859923,135859923],[135860305,135860305],[135861497,135861497],[135863143,135863143],[135864294,135864294],[135871624,135871624],[135872646,135872646],[135874038,135874038],[135874622,135874622],[135878814,135878814],[135880013,135880013],[135884487,135884487],[135885357,135885357],[135893853,135893853],[135895809,135895809],[135895879,135895879],[135899069,135899069],[135909462,135909462],[135912977,135912977],[135914038,135914038],[135921839,135921839],[135925002,135925002],[135928312,135928312],[135935049,135935049],[135962711,135962711],[135984172,135984172],[135994753,135994753],[135994754,135994754],[136016079,136016079],[136027264,136027264],[136052004,136052004],[136100473,136100473],[136110129,136110129],[136166536,136166536],[136169799,136169799],[136191314,136191314],[136228887,136228887],[136238453,136238453],[136288273,136288273],[136292425,136292425],[136321951,136321951],[136324564,136324564],[136327299,136327299],[136327302,136327302],[136376515,136376515],[135758713,135758713],[135759717,135759717],[135762608,135762608],[135764416,135764416],[135772876,135772876],[135778233,135778233],[135784351,135784351],[135829309,135829309],[135835508,135835508],[135861297,135861297],[135863459,135863459],[135873845,135873845],[135902172,135902172],[135902220,135902220],[135810535,135810535],[135817760,135817760],[135857538,135857538],[135862191,135862191],[135869380,135869380],[135869761,135869761],[135886486,135886486],[135888078,135888078],[135898023,135898023],[136115507,136115507],[136133627,136133627],[136135820,136135820],[136145676,136145676],[136166014,136166014],[136173684,136173684],[136176031,136176031],[136214307,136214307],[136215590,136215590],[136219265,136219265],[136219831,136219831],[136289471,136289471],[136298739,136298739],[136302296,136302296],[136302897,136302897],[136348702,136348702],[136348964,136348964],[136358707,136358707],[136359608,136359608],[136360402,136360402],[136365624,136365624],[136366970,136366970],[136367871,136367871],[136368393,136368393],[136370701,136370701],[136378539,136378539],[136378895,136378895],[136385280,136385280],[136309239,136309239],[136322472,136322472],[136323787,136323787],[136323862,136323862],[136326765,136326765],[136329500,136329500],[136331657,136331657],[136345356,136345356],[136361560,136361560],[136364916,136364916],[136369497,136369497],[136369580,136369580],[136380846,136380846],[136387893,136387893],[136402778,136402778],[136402779,136402779],[136402780,136402780],[136402781,136402781],[136403272,136403272],[136406356,136406356],[136407068,136407068],[136414770,136414770],[136415861,136415861],[136416407,136416407],[136420009,136420009],[136429439,136429439],[136438468,136438468],[136444542,136444542],[136448142,136448142],[136452728,136452728],[136453540,136453540],[136455296,136455296],[136458856,136458856],[136467559,136467559],[136493430,136493430],[136406646,136406646],[136408821,136408821],[136412472,136412472],[136416959,136416959],[136438078,136438078],[136448855,136448855],[136456090,136456090],[136456675,136456675],[136466831,136466831],[136496493,136496493],[136496639,136496639],[136496928,136496928],[136509573,136509573],[136511951,136511951],[136537057,136537057],[136546635,136546635],[136553438,136553438],[136553925,136553925],[136496805,136496805],[136496910,136496910],[136515859,136515859],[136515924,136515924],[136520186,136520186],[136524766,136524766],[136535364,136535364],[136536113,136536113],[136552629,136552629],[136511874,136511874],[136530248,136530248],[136530556,136530556],[136531252,136531252],[136533195,136533195],[136514709,136514709],[136516308,136516308],[136520100,136520100],[136521595,136521595],[136523045,136523045],[136543147,136543147]],\"ys\":[[550,596],[550,596],[550,596],[550,596],[550,596],[550,596],[550,596],[550,596],[550,596],[550,596],[550,596],[550,596],[550,596],[550,596],[550,596],[550,596],[550,596],[550,596],[550,596],[550,596],[550,596],[550,596],[550,596],[550,596],[550,596],[550,596],[550,596],[550,596],[550,596],[550,596],[550,596],[550,596],[550,596],[550,596],[550,596],[550,596],[550,596],[550,596],[550,596],[550,596],[550,596],[550,596],[550,596],[550,596],[550,596],[550,596],[550,596],[550,596],[550,596],[550,596],[550,596],[550,596],[550,596],[550,596],[550,596],[550,596],[550,596],[550,596],[550,596],[550,596],[550,596],[550,596],[550,596],[550,596],[550,596],[550,596],[550,596],[550,596],[550,596],[550,596],[550,596],[550,596],[550,596],[550,596],[550,596],[550,596],[550,596],[550,596],[550,596],[550,596],[550,596],[550,596],[550,596],[550,596],[550,596],[550,596],[550,596],[550,596],[550,596],[550,596],[550,596],[550,596],[550,596],[550,596],[550,596],[550,596],[550,596],[550,596],[550,596],[550,596],[550,596],[550,596],[550,596],[550,596],[550,596],[550,596],[550,596],[550,596],[550,596],[550,596],[550,596],[550,596],[550,596],[550,596],[550,596],[550,596],[550,596],[50,68],[50,68],[50,68],[50,68],[50,68],[50,68],[250,288],[250,288],[250,288],[250,288],[250,288],[250,288],[250,288],[250,288],[150,186],[150,186],[150,186],[150,186],[150,186],[150,186],[150,186],[150,186],[150,186],[150,184],[150,184],[150,184],[150,184],[150,184],[150,184],[150,184],[150,184],[150,184],[150,184],[150,184],[150,184],[150,184],[150,184],[150,184],[150,184],[150,184],[150,184],[150,184],[150,184],[150,184],[150,184],[150,184],[150,184],[150,184],[150,184],[150,184],[150,184],[350,390],[350,390],[350,390],[350,390],[350,390],[350,390],[350,390],[350,390],[350,390],[250,287],[250,287],[250,287],[250,287],[250,287],[150,182],[150,182],[150,182],[150,182],[150,182],[150,182],[150,182],[150,182],[150,182],[150,182],[150,182],[150,182],[150,182],[150,182],[150,182],[150,182],[150,182],[150,182],[150,182],[150,182],[150,182],[550,595],[550,595],[550,595],[550,595],[550,595],[250,287],[250,287],[250,287],[250,287],[550,593],[550,593],[550,593],[550,593],[550,593],[550,593],[550,593],[550,593],[550,593],[450,491],[450,491],[450,491],[450,491],[450,491],[450,491],[450,491],[450,491],[450,491],[350,391],[350,391],[350,391],[350,391],[350,391],[250,290],[250,290],[250,290],[250,290],[250,290],[250,290]]}},\"id\":\"aacc0d39-f12d-40e0-9e19-5f869aed15d6\",\"type\":\"ColumnDataSource\"},{\"attributes\":{\"line_color\":{\"field\":\"line_color\"},\"xs\":{\"field\":\"xs\"},\"ys\":{\"field\":\"ys\"}},\"id\":\"bc7ed972-f8d2-4dba-aa53-b5e6efbf1a65\",\"type\":\"MultiLine\"},{\"attributes\":{\"plot\":{\"id\":\"706dd7f7-fbcf-4d3b-a2e0-c40edb81a4f4\",\"subtype\":\"Figure\",\"type\":\"Plot\"}},\"id\":\"275ad1cc-960e-4978-aeac-ee63c19c8f0a\",\"type\":\"ResetTool\"},{\"attributes\":{\"callback\":null,\"column_names\":[\"y\",\"x\",\"vals\"],\"data\":{\"vals\":[\"117_1685\",\"6_68\",\"8_718\",\"9_545\",\"28_434\",\"9_887\",\"5_588\",\"21_332\",\"5_1460\",\"4_612\",\"9_1170\",\"9_1023\",\"5_976\",\"6_820\"],\"x\":[135758231,135758713,135784351,135810535,136115507,136309239,136364916,136402778,136406646,136448855,136496493,136496805,136511874,136514709],\"y\":[601.0,73.0,293.0,191.0,189.0,395.0,292.0,187.0,600.0,292.0,598.0,496.0,396.0,295.0]}},\"id\":\"1c13eca1-e5af-4941-a377-6dfd56664e3c\",\"type\":\"ColumnDataSource\"},{\"attributes\":{\"data_source\":{\"id\":\"d78c9066-51d1-4f2b-b444-b0e96fd8e6fd\",\"type\":\"ColumnDataSource\"},\"glyph\":{\"id\":\"4bdb1e19-6cc2-41ea-b13b-ce077341b377\",\"type\":\"Quad\"},\"hover_glyph\":null,\"nonselection_glyph\":{\"id\":\"58ee1aff-3568-434c-9cca-1e8950a1949e\",\"type\":\"Quad\"},\"selection_glyph\":null},\"id\":\"dcb320c2-c98a-4406-82f8-306459fb6ff1\",\"type\":\"GlyphRenderer\"},{\"attributes\":{},\"id\":\"1f639964-18e0-4169-9ffb-15f97af66bd6\",\"type\":\"BasicTicker\"},{\"attributes\":{\"active_drag\":\"auto\",\"active_scroll\":\"auto\",\"active_tap\":\"auto\",\"tools\":[{\"id\":\"a683c977-07ed-4cc1-b2f7-1750e6723765\",\"type\":\"PanTool\"},{\"id\":\"8ad6f8d6-6dda-4a6f-bccd-4d25cf55e2db\",\"type\":\"WheelZoomTool\"},{\"id\":\"4abf9fd2-0966-48bd-b6cf-891fb132d754\",\"type\":\"BoxZoomTool\"},{\"id\":\"60b54464-230b-4e8f-a633-370d358df392\",\"type\":\"SaveTool\"},{\"id\":\"275ad1cc-960e-4978-aeac-ee63c19c8f0a\",\"type\":\"ResetTool\"},{\"id\":\"1a9a0f8c-4229-448e-9271-541899cd2427\",\"type\":\"HelpTool\"}]},\"id\":\"cfbf41d8-6495-45a6-b93b-2d7d994efdca\",\"type\":\"Toolbar\"},{\"attributes\":{\"dimension\":1,\"plot\":{\"id\":\"706dd7f7-fbcf-4d3b-a2e0-c40edb81a4f4\",\"subtype\":\"Figure\",\"type\":\"Plot\"},\"ticker\":{\"id\":\"c9dc2e8e-f8f9-4e9e-b6ed-3991ecd808c9\",\"type\":\"BasicTicker\"}},\"id\":\"b954a941-3146-4f24-ab17-11045b40ec26\",\"type\":\"Grid\"},{\"attributes\":{\"plot\":{\"id\":\"706dd7f7-fbcf-4d3b-a2e0-c40edb81a4f4\",\"subtype\":\"Figure\",\"type\":\"Plot\"},\"ticker\":{\"id\":\"1f639964-18e0-4169-9ffb-15f97af66bd6\",\"type\":\"BasicTicker\"}},\"id\":\"6cfa28df-8014-409a-9dac-db4c2e375d05\",\"type\":\"Grid\"},{\"attributes\":{\"formatter\":{\"id\":\"5a10f740-0237-4602-82d4-29e29a7f90b7\",\"type\":\"BasicTickFormatter\"},\"plot\":{\"id\":\"706dd7f7-fbcf-4d3b-a2e0-c40edb81a4f4\",\"subtype\":\"Figure\",\"type\":\"Plot\"},\"ticker\":{\"id\":\"c9dc2e8e-f8f9-4e9e-b6ed-3991ecd808c9\",\"type\":\"BasicTicker\"},\"visible\":null},\"id\":\"6897f840-20cd-4c38-bc4e-3f40e0386831\",\"type\":\"LinearAxis\"},{\"attributes\":{\"level\":\"glyph\",\"plot\":{\"id\":\"706dd7f7-fbcf-4d3b-a2e0-c40edb81a4f4\",\"subtype\":\"Figure\",\"type\":\"Plot\"},\"source\":{\"id\":\"4379f04a-9e96-47ff-8b49-7939b1a03c2b\",\"type\":\"ColumnDataSource\"},\"text\":{\"field\":\"vals\"},\"text_align\":\"center\",\"text_baseline\":\"middle\",\"text_font_size\":{\"value\":\"8pt\"},\"x\":{\"field\":\"x\"},\"y\":{\"field\":\"y\"}},\"id\":\"a783b3f2-1b88-4ea9-9749-b62ccde7d8c5\",\"type\":\"LabelSet\"},{\"attributes\":{\"plot\":null,\"text\":null},\"id\":\"e2902566-d901-44c8-ad73-048fed6f7a62\",\"type\":\"Title\"},{\"attributes\":{\"formatter\":{\"id\":\"e3106968-813f-47be-b844-accb65c5c1b4\",\"type\":\"BasicTickFormatter\"},\"plot\":{\"id\":\"706dd7f7-fbcf-4d3b-a2e0-c40edb81a4f4\",\"subtype\":\"Figure\",\"type\":\"Plot\"},\"ticker\":{\"id\":\"1f639964-18e0-4169-9ffb-15f97af66bd6\",\"type\":\"BasicTicker\"}},\"id\":\"31f8167f-a3b2-4bd3-bffb-9469dab24b0f\",\"type\":\"LinearAxis\"},{\"attributes\":{\"data_source\":{\"id\":\"1be4f528-6dbd-4803-a98d-5a00ca015104\",\"type\":\"ColumnDataSource\"},\"glyph\":{\"id\":\"be26a18a-9ea8-42b9-8267-1cc5fb59914f\",\"type\":\"Quad\"},\"hover_glyph\":null,\"nonselection_glyph\":{\"id\":\"dc83bbeb-c0cb-482c-8d94-7e0f1df555b8\",\"type\":\"Quad\"},\"selection_glyph\":null},\"id\":\"331cc9fe-18b3-4aa7-b2c7-333c9bd7990e\",\"type\":\"GlyphRenderer\"},{\"attributes\":{\"bottom\":{\"field\":\"bottom\"},\"fill_color\":{\"value\":\"white\"},\"left\":{\"field\":\"left\"},\"right\":{\"field\":\"right\"},\"top\":{\"field\":\"top\"}},\"id\":\"4bdb1e19-6cc2-41ea-b13b-ce077341b377\",\"type\":\"Quad\"},{\"attributes\":{\"callback\":null,\"column_names\":[\"right\",\"bottom\",\"top\",\"left\"],\"data\":{\"bottom\":[645,645,645,645,645,645,645],\"left\":[135809835,135957574,136289083,136499189,136545415,136597196,136664254],\"right\":[135928279,136288182,136482839,136542633,136594750,136634047,136743222],\"top\":[675,675,675,675,675,675,675]}},\"id\":\"d78c9066-51d1-4f2b-b444-b0e96fd8e6fd\",\"type\":\"ColumnDataSource\"},{\"attributes\":{},\"id\":\"e3106968-813f-47be-b844-accb65c5c1b4\",\"type\":\"BasicTickFormatter\"},{\"attributes\":{\"bottom\":{\"field\":\"bottom\"},\"fill_color\":{\"field\":\"fill_color\"},\"left\":{\"field\":\"left\"},\"line_color\":{\"value\":null},\"right\":{\"field\":\"right\"},\"top\":{\"field\":\"top\"}},\"id\":\"be26a18a-9ea8-42b9-8267-1cc5fb59914f\",\"type\":\"Quad\"},{\"attributes\":{\"plot\":{\"id\":\"706dd7f7-fbcf-4d3b-a2e0-c40edb81a4f4\",\"subtype\":\"Figure\",\"type\":\"Plot\"}},\"id\":\"a683c977-07ed-4cc1-b2f7-1750e6723765\",\"type\":\"PanTool\"},{\"attributes\":{\"plot\":{\"id\":\"706dd7f7-fbcf-4d3b-a2e0-c40edb81a4f4\",\"subtype\":\"Figure\",\"type\":\"Plot\"}},\"id\":\"8ad6f8d6-6dda-4a6f-bccd-4d25cf55e2db\",\"type\":\"WheelZoomTool\"},{\"attributes\":{\"callback\":null,\"column_names\":[\"right\",\"bottom\",\"top\",\"left\",\"fill_color\"],\"data\":{\"bottom\":[550,50,250,150,150,350,250,150,550,250,550,450,350,250],\"fill_color\":[\"#808080\",\"#ff0000\",\"#ff0000\",\"#ff0000\",\"#ff0000\",\"#ff0000\",\"#ff0000\",\"#ff0000\",\"#808080\",\"#ff0000\",\"#808080\",\"#61c4c4\",\"#808080\",\"#61c4c4\"],\"left\":[135758231,135758713,135784351,135810535,136115507,136309239,136364916,136402778,136406646,136448855,136496493,136496805,136511874,136514709],\"right\":[136376515,135778233,135902220,135898023,136385280,136361560,136387893,136493430,136438078,136466831,136553925,136552629,136533195,136543147],\"top\":[596,68,288,186,184,390,287,182,595,287,593,491,391,290]}},\"id\":\"1be4f528-6dbd-4803-a98d-5a00ca015104\",\"type\":\"ColumnDataSource\"},{\"attributes\":{\"callback\":null,\"end\":136786630,\"start\":135757320},\"id\":\"893073da-4daf-41a6-be5f-cf1e1aacf7f8\",\"type\":\"Range1d\"},{\"attributes\":{},\"id\":\"c9dc2e8e-f8f9-4e9e-b6ed-3991ecd808c9\",\"type\":\"BasicTicker\"},{\"attributes\":{},\"id\":\"979cc478-5d3d-449d-9606-55fefe90f334\",\"type\":\"ToolEvents\"},{\"attributes\":{\"bottom\":{\"field\":\"bottom\"},\"fill_alpha\":{\"value\":0.1},\"fill_color\":{\"value\":\"#1f77b4\"},\"left\":{\"field\":\"left\"},\"line_alpha\":{\"value\":0.1},\"line_color\":{\"value\":\"#1f77b4\"},\"right\":{\"field\":\"right\"},\"top\":{\"field\":\"top\"}},\"id\":\"58ee1aff-3568-434c-9cca-1e8950a1949e\",\"type\":\"Quad\"},{\"attributes\":{\"plot\":{\"id\":\"706dd7f7-fbcf-4d3b-a2e0-c40edb81a4f4\",\"subtype\":\"Figure\",\"type\":\"Plot\"}},\"id\":\"1a9a0f8c-4229-448e-9271-541899cd2427\",\"type\":\"HelpTool\"},{\"attributes\":{\"bottom_units\":\"screen\",\"fill_alpha\":{\"value\":0.5},\"fill_color\":{\"value\":\"lightgrey\"},\"left_units\":\"screen\",\"level\":\"overlay\",\"line_alpha\":{\"value\":1.0},\"line_color\":{\"value\":\"black\"},\"line_dash\":[4,4],\"line_width\":{\"value\":2},\"plot\":null,\"render_mode\":\"css\",\"right_units\":\"screen\",\"top_units\":\"screen\"},\"id\":\"65cd029b-12df-4224-8c9d-a8942199aca7\",\"type\":\"BoxAnnotation\"},{\"attributes\":{\"plot\":{\"id\":\"706dd7f7-fbcf-4d3b-a2e0-c40edb81a4f4\",\"subtype\":\"Figure\",\"type\":\"Plot\"}},\"id\":\"60b54464-230b-4e8f-a633-370d358df392\",\"type\":\"SaveTool\"},{\"attributes\":{\"below\":[{\"id\":\"31f8167f-a3b2-4bd3-bffb-9469dab24b0f\",\"type\":\"LinearAxis\"}],\"left\":[{\"id\":\"6897f840-20cd-4c38-bc4e-3f40e0386831\",\"type\":\"LinearAxis\"}],\"plot_height\":700,\"plot_width\":900,\"renderers\":[{\"id\":\"31f8167f-a3b2-4bd3-bffb-9469dab24b0f\",\"type\":\"LinearAxis\"},{\"id\":\"6cfa28df-8014-409a-9dac-db4c2e375d05\",\"type\":\"Grid\"},{\"id\":\"6897f840-20cd-4c38-bc4e-3f40e0386831\",\"type\":\"LinearAxis\"},{\"id\":\"b954a941-3146-4f24-ab17-11045b40ec26\",\"type\":\"Grid\"},{\"id\":\"65cd029b-12df-4224-8c9d-a8942199aca7\",\"type\":\"BoxAnnotation\"},{\"id\":\"331cc9fe-18b3-4aa7-b2c7-333c9bd7990e\",\"type\":\"GlyphRenderer\"},{\"id\":\"05fa66ed-fa5d-4808-9812-bc14eca9e6cf\",\"type\":\"GlyphRenderer\"},{\"id\":\"46a47ebe-965b-4963-a24f-1e376388aaee\",\"type\":\"LabelSet\"},{\"id\":\"dcb320c2-c98a-4406-82f8-306459fb6ff1\",\"type\":\"GlyphRenderer\"},{\"id\":\"a783b3f2-1b88-4ea9-9749-b62ccde7d8c5\",\"type\":\"LabelSet\"}],\"title\":{\"id\":\"e2902566-d901-44c8-ad73-048fed6f7a62\",\"type\":\"Title\"},\"tool_events\":{\"id\":\"979cc478-5d3d-449d-9606-55fefe90f334\",\"type\":\"ToolEvents\"},\"toolbar\":{\"id\":\"cfbf41d8-6495-45a6-b93b-2d7d994efdca\",\"type\":\"Toolbar\"},\"toolbar_location\":null,\"x_range\":{\"id\":\"893073da-4daf-41a6-be5f-cf1e1aacf7f8\",\"type\":\"Range1d\"},\"y_range\":{\"id\":\"49f427a1-56e0-470d-8293-93a7793db4b6\",\"type\":\"Range1d\"}},\"id\":\"706dd7f7-fbcf-4d3b-a2e0-c40edb81a4f4\",\"subtype\":\"Figure\",\"type\":\"Plot\"},{\"attributes\":{\"line_alpha\":{\"value\":0.1},\"line_color\":{\"value\":\"#1f77b4\"},\"xs\":{\"field\":\"xs\"},\"ys\":{\"field\":\"ys\"}},\"id\":\"a0e809eb-47eb-4220-81da-c690f922c7e8\",\"type\":\"MultiLine\"},{\"attributes\":{\"level\":\"glyph\",\"plot\":{\"id\":\"706dd7f7-fbcf-4d3b-a2e0-c40edb81a4f4\",\"subtype\":\"Figure\",\"type\":\"Plot\"},\"source\":{\"id\":\"1c13eca1-e5af-4941-a377-6dfd56664e3c\",\"type\":\"ColumnDataSource\"},\"text\":{\"field\":\"vals\"},\"text_font_size\":{\"value\":\"9pt\"},\"text_font_style\":\"bold\",\"x\":{\"field\":\"x\"},\"y\":{\"field\":\"y\"}},\"id\":\"46a47ebe-965b-4963-a24f-1e376388aaee\",\"type\":\"LabelSet\"},{\"attributes\":{\"callback\":null,\"end\":700},\"id\":\"49f427a1-56e0-470d-8293-93a7793db4b6\",\"type\":\"Range1d\"},{\"attributes\":{\"callback\":null,\"column_names\":[\"y\",\"x\",\"vals\"],\"data\":{\"vals\":[\"RAB3GAP1\",\"ZRANB3\",\"R3HDM1\",\"UBXN4\",\"LCT\",\"MCM6\",\"DARS\"],\"x\":[135869057.0,136122878.0,136385961.0,136520911.0,136570082.5,136615621.5,136703738.0],\"y\":[660.0,660.0,660.0,660.0,660.0,660.0,660.0]}},\"id\":\"4379f04a-9e96-47ff-8b49-7939b1a03c2b\",\"type\":\"ColumnDataSource\"},{\"attributes\":{\"data_source\":{\"id\":\"aacc0d39-f12d-40e0-9e19-5f869aed15d6\",\"type\":\"ColumnDataSource\"},\"glyph\":{\"id\":\"bc7ed972-f8d2-4dba-aa53-b5e6efbf1a65\",\"type\":\"MultiLine\"},\"hover_glyph\":null,\"nonselection_glyph\":{\"id\":\"a0e809eb-47eb-4220-81da-c690f922c7e8\",\"type\":\"MultiLine\"},\"selection_glyph\":null},\"id\":\"05fa66ed-fa5d-4808-9812-bc14eca9e6cf\",\"type\":\"GlyphRenderer\"},{\"attributes\":{},\"id\":\"5a10f740-0237-4602-82d4-29e29a7f90b7\",\"type\":\"BasicTickFormatter\"},{\"attributes\":{\"overlay\":{\"id\":\"65cd029b-12df-4224-8c9d-a8942199aca7\",\"type\":\"BoxAnnotation\"},\"plot\":{\"id\":\"706dd7f7-fbcf-4d3b-a2e0-c40edb81a4f4\",\"subtype\":\"Figure\",\"type\":\"Plot\"}},\"id\":\"4abf9fd2-0966-48bd-b6cf-891fb132d754\",\"type\":\"BoxZoomTool\"},{\"attributes\":{\"bottom\":{\"field\":\"bottom\"},\"fill_alpha\":{\"value\":0.1},\"fill_color\":{\"value\":\"#1f77b4\"},\"left\":{\"field\":\"left\"},\"line_alpha\":{\"value\":0.1},\"line_color\":{\"value\":\"#1f77b4\"},\"right\":{\"field\":\"right\"},\"top\":{\"field\":\"top\"}},\"id\":\"dc83bbeb-c0cb-482c-8d94-7e0f1df555b8\",\"type\":\"Quad\"}],\"root_ids\":[\"706dd7f7-fbcf-4d3b-a2e0-c40edb81a4f4\"]},\"title\":\"Bokeh Application\",\"version\":\"0.12.0\"}};\n",
       "            var render_items = [{\"docid\":\"c70f6d6f-5aa7-4404-88b6-7c9ed111b4a8\",\"elementid\":\"500225da-ca13-4743-8b9b-a80e6ede2fc1\",\"modelid\":\"706dd7f7-fbcf-4d3b-a2e0-c40edb81a4f4\",\"notebook_comms_target\":\"991c7519-37b9-4fdb-abaf-3f5f45569549\"}];\n",
       "            \n",
       "            Bokeh.embed.embed_items(docs_json, render_items);\n",
       "        });\n",
       "      },\n",
       "      function(Bokeh) {\n",
       "      }\n",
       "    ];\n",
       "  \n",
       "    function run_inline_js() {\n",
       "      for (var i = 0; i < inline_js.length; i++) {\n",
       "        inline_js[i](window.Bokeh);\n",
       "      }\n",
       "    }\n",
       "  \n",
       "    if (window._bokeh_is_loading === 0) {\n",
       "      console.log(\"Bokeh: BokehJS loaded, going straight to plotting\");\n",
       "      run_inline_js();\n",
       "    } else {\n",
       "      load_libs(js_urls, function() {\n",
       "        console.log(\"Bokeh: BokehJS plotting callback run at\", now());\n",
       "        run_inline_js();\n",
       "      });\n",
       "    }\n",
       "  }(this));\n",
       "</script>"
      ]
     },
     "metadata": {},
     "output_type": "display_data"
    },
    {
     "data": {
      "text/html": [
       "<p><code>&lt;Bokeh Notebook handle for <strong>In[55]</strong>&gt;</code></p>"
      ],
      "text/plain": [
       "<bokeh.io._CommsHandle at 0x7f3f6017ce90>"
      ]
     },
     "execution_count": 55,
     "metadata": {},
     "output_type": "execute_result"
    }
   ],
   "source": [
    "plt_obj = dm.superset_allele_mask(am5, min_match=0.5)\n",
    "plt = plt_obj.do_plot()\n",
    "show(plt)"
   ]
  },
  {
   "cell_type": "code",
   "execution_count": 56,
   "metadata": {
    "collapsed": false
   },
   "outputs": [
    {
     "data": {
      "text/html": [
       "<table>\n",
       "<thead><tr><th style=\"text-align:center\">index</th><th style=\"text-align:center\">first</th><th style=\"text-align:center\">length</th><th style=\"text-align:center\">snps</th><th style=\"text-align:center\" colspan=2>alleles</th><th style=\"text-align:center\" colspan=2>matches</th><th style=\"text-align:center\" colspan=2>afr</th><th style=\"text-align:center\" colspan=2>afx</th><th style=\"text-align:center\" colspan=2>amr</th><th style=\"text-align:center\" colspan=2>eas</th><th style=\"text-align:center\" colspan=2>eur</th><th style=\"text-align:center\" colspan=2>sas</th><th style=\"text-align:center\" colspan=2>sax</th></tr></thead>\n",
       "<tr class=\"even\"><td style=\"text-align: right;\">353244</td><td style=\"text-align: right;\">135,758,231</td><td style=\"text-align: right;\">618,284</td><td style=\"text-align: right;\">117</td><td style=\"text-align: right;\">1685</td><td style=\"text-align: right;\">0.01</td><td style=\"text-align: right;\">11</td><td style=\"text-align: right;\">1.00</td><td style=\"text-align: right;\">9</td><td style=\"text-align: right;\">4.06</td><td style=\"text-align: right;\">1</td><td style=\"text-align: right;\">1.45</td><td style=\"text-align: right;\">1</td><td style=\"text-align: right;\">0.66</td><td style=\"text-align: right;\">0</td><td style=\"text-align: right;\">0.00</td><td style=\"text-align: right;\">0</td><td style=\"text-align: right;\">0.00</td><td style=\"text-align: right;\">0</td><td style=\"text-align: right;\">0.00</td><td style=\"text-align: right;\">0</td><td style=\"text-align: right;\">0.00</td></tr>\n",
       "<tr><td style=\"text-align: right;\">353814</td><td style=\"text-align: right;\">136,406,646</td><td style=\"text-align: right;\">31,432</td><td style=\"text-align: right;\">5</td><td style=\"text-align: right;\">1460</td><td style=\"text-align: right;\">0.00</td><td style=\"text-align: right;\">6</td><td style=\"text-align: right;\">0.55</td><td style=\"text-align: right;\">4</td><td style=\"text-align: right;\">3.31</td><td style=\"text-align: right;\">1</td><td style=\"text-align: right;\">2.66</td><td style=\"text-align: right;\">1</td><td style=\"text-align: right;\">1.20</td><td style=\"text-align: right;\">0</td><td style=\"text-align: right;\">0.00</td><td style=\"text-align: right;\">0</td><td style=\"text-align: right;\">0.00</td><td style=\"text-align: right;\">0</td><td style=\"text-align: right;\">0.00</td><td style=\"text-align: right;\">0</td><td style=\"text-align: right;\">0.00</td></tr>\n",
       "<tr class=\"even\"><td style=\"text-align: right;\">353906</td><td style=\"text-align: right;\">136,496,493</td><td style=\"text-align: right;\">57,432</td><td style=\"text-align: right;\">9</td><td style=\"text-align: right;\">1170</td><td style=\"text-align: right;\">0.01</td><td style=\"text-align: right;\">7</td><td style=\"text-align: right;\">0.64</td><td style=\"text-align: right;\">7</td><td style=\"text-align: right;\">4.97</td><td style=\"text-align: right;\">0</td><td style=\"text-align: right;\">0.00</td><td style=\"text-align: right;\">0</td><td style=\"text-align: right;\">0.00</td><td style=\"text-align: right;\">0</td><td style=\"text-align: right;\">0.00</td><td style=\"text-align: right;\">0</td><td style=\"text-align: right;\">0.00</td><td style=\"text-align: right;\">0</td><td style=\"text-align: right;\">0.00</td><td style=\"text-align: right;\">0</td><td style=\"text-align: right;\">0.00</td></tr>\n",
       "<tr><td style=\"text-align: right;\">353907</td><td style=\"text-align: right;\">136,496,805</td><td style=\"text-align: right;\">55,824</td><td style=\"text-align: right;\">9</td><td style=\"text-align: right;\">1023</td><td style=\"text-align: right;\">0.01</td><td style=\"text-align: right;\">6</td><td style=\"text-align: right;\">0.55</td><td style=\"text-align: right;\">6</td><td style=\"text-align: right;\">4.97</td><td style=\"text-align: right;\">0</td><td style=\"text-align: right;\">0.00</td><td style=\"text-align: right;\">0</td><td style=\"text-align: right;\">0.00</td><td style=\"text-align: right;\">0</td><td style=\"text-align: right;\">0.00</td><td style=\"text-align: right;\">0</td><td style=\"text-align: right;\">0.00</td><td style=\"text-align: right;\">0</td><td style=\"text-align: right;\">0.00</td><td style=\"text-align: right;\">0</td><td style=\"text-align: right;\">0.00</td></tr>\n",
       "<tr class=\"even\"><td style=\"text-align: right;\">353935</td><td style=\"text-align: right;\">136,511,874</td><td style=\"text-align: right;\">21,321</td><td style=\"text-align: right;\">5</td><td style=\"text-align: right;\">976</td><td style=\"text-align: right;\">0.01</td><td style=\"text-align: right;\">7</td><td style=\"text-align: right;\">0.64</td><td style=\"text-align: right;\">7</td><td style=\"text-align: right;\">4.97</td><td style=\"text-align: right;\">0</td><td style=\"text-align: right;\">0.00</td><td style=\"text-align: right;\">0</td><td style=\"text-align: right;\">0.00</td><td style=\"text-align: right;\">0</td><td style=\"text-align: right;\">0.00</td><td style=\"text-align: right;\">0</td><td style=\"text-align: right;\">0.00</td><td style=\"text-align: right;\">0</td><td style=\"text-align: right;\">0.00</td><td style=\"text-align: right;\">0</td><td style=\"text-align: right;\">0.00</td></tr>\n",
       "<tr><td style=\"text-align: right;\">353729</td><td style=\"text-align: right;\">136,309,239</td><td style=\"text-align: right;\">52,321</td><td style=\"text-align: right;\">9</td><td style=\"text-align: right;\">887</td><td style=\"text-align: right;\">0.01</td><td style=\"text-align: right;\">11</td><td style=\"text-align: right;\">1.00</td><td style=\"text-align: right;\">9</td><td style=\"text-align: right;\">4.06</td><td style=\"text-align: right;\">1</td><td style=\"text-align: right;\">1.45</td><td style=\"text-align: right;\">1</td><td style=\"text-align: right;\">0.66</td><td style=\"text-align: right;\">0</td><td style=\"text-align: right;\">0.00</td><td style=\"text-align: right;\">0</td><td style=\"text-align: right;\">0.00</td><td style=\"text-align: right;\">0</td><td style=\"text-align: right;\">0.00</td><td style=\"text-align: right;\">0</td><td style=\"text-align: right;\">0.00</td></tr>\n",
       "<tr class=\"even\"><td style=\"text-align: right;\">353938</td><td style=\"text-align: right;\">136,514,709</td><td style=\"text-align: right;\">28,438</td><td style=\"text-align: right;\">6</td><td style=\"text-align: right;\">820</td><td style=\"text-align: right;\">0.01</td><td style=\"text-align: right;\">6</td><td style=\"text-align: right;\">0.55</td><td style=\"text-align: right;\">6</td><td style=\"text-align: right;\">4.97</td><td style=\"text-align: right;\">0</td><td style=\"text-align: right;\">0.00</td><td style=\"text-align: right;\">0</td><td style=\"text-align: right;\">0.00</td><td style=\"text-align: right;\">0</td><td style=\"text-align: right;\">0.00</td><td style=\"text-align: right;\">0</td><td style=\"text-align: right;\">0.00</td><td style=\"text-align: right;\">0</td><td style=\"text-align: right;\">0.00</td><td style=\"text-align: right;\">0</td><td style=\"text-align: right;\">0.00</td></tr>\n",
       "<tr><td style=\"text-align: right;\">353312</td><td style=\"text-align: right;\">135,784,351</td><td style=\"text-align: right;\">117,869</td><td style=\"text-align: right;\">8</td><td style=\"text-align: right;\">718</td><td style=\"text-align: right;\">0.01</td><td style=\"text-align: right;\">9</td><td style=\"text-align: right;\">0.82</td><td style=\"text-align: right;\">7</td><td style=\"text-align: right;\">3.86</td><td style=\"text-align: right;\">1</td><td style=\"text-align: right;\">1.77</td><td style=\"text-align: right;\">1</td><td style=\"text-align: right;\">0.80</td><td style=\"text-align: right;\">0</td><td style=\"text-align: right;\">0.00</td><td style=\"text-align: right;\">0</td><td style=\"text-align: right;\">0.00</td><td style=\"text-align: right;\">0</td><td style=\"text-align: right;\">0.00</td><td style=\"text-align: right;\">0</td><td style=\"text-align: right;\">0.00</td></tr>\n",
       "<tr class=\"even\"><td style=\"text-align: right;\">353851</td><td style=\"text-align: right;\">136,448,855</td><td style=\"text-align: right;\">17,976</td><td style=\"text-align: right;\">4</td><td style=\"text-align: right;\">612</td><td style=\"text-align: right;\">0.02</td><td style=\"text-align: right;\">11</td><td style=\"text-align: right;\">1.00</td><td style=\"text-align: right;\">9</td><td style=\"text-align: right;\">4.06</td><td style=\"text-align: right;\">1</td><td style=\"text-align: right;\">1.45</td><td style=\"text-align: right;\">1</td><td style=\"text-align: right;\">0.66</td><td style=\"text-align: right;\">0</td><td style=\"text-align: right;\">0.00</td><td style=\"text-align: right;\">0</td><td style=\"text-align: right;\">0.00</td><td style=\"text-align: right;\">0</td><td style=\"text-align: right;\">0.00</td><td style=\"text-align: right;\">0</td><td style=\"text-align: right;\">0.00</td></tr>\n",
       "<tr><td style=\"text-align: right;\">353764</td><td style=\"text-align: right;\">136,364,916</td><td style=\"text-align: right;\">22,977</td><td style=\"text-align: right;\">5</td><td style=\"text-align: right;\">588</td><td style=\"text-align: right;\">0.02</td><td style=\"text-align: right;\">11</td><td style=\"text-align: right;\">1.00</td><td style=\"text-align: right;\">9</td><td style=\"text-align: right;\">4.06</td><td style=\"text-align: right;\">1</td><td style=\"text-align: right;\">1.45</td><td style=\"text-align: right;\">1</td><td style=\"text-align: right;\">0.66</td><td style=\"text-align: right;\">0</td><td style=\"text-align: right;\">0.00</td><td style=\"text-align: right;\">0</td><td style=\"text-align: right;\">0.00</td><td style=\"text-align: right;\">0</td><td style=\"text-align: right;\">0.00</td><td style=\"text-align: right;\">0</td><td style=\"text-align: right;\">0.00</td></tr>\n",
       "<tr class=\"even\"><td style=\"text-align: right;\">353349</td><td style=\"text-align: right;\">135,810,535</td><td style=\"text-align: right;\">87,488</td><td style=\"text-align: right;\">9</td><td style=\"text-align: right;\">545</td><td style=\"text-align: right;\">0.01</td><td style=\"text-align: right;\">6</td><td style=\"text-align: right;\">0.55</td><td style=\"text-align: right;\">6</td><td style=\"text-align: right;\">4.97</td><td style=\"text-align: right;\">0</td><td style=\"text-align: right;\">0.00</td><td style=\"text-align: right;\">0</td><td style=\"text-align: right;\">0.00</td><td style=\"text-align: right;\">0</td><td style=\"text-align: right;\">0.00</td><td style=\"text-align: right;\">0</td><td style=\"text-align: right;\">0.00</td><td style=\"text-align: right;\">0</td><td style=\"text-align: right;\">0.00</td><td style=\"text-align: right;\">0</td><td style=\"text-align: right;\">0.00</td></tr>\n",
       "<tr><td style=\"text-align: right;\">353614</td><td style=\"text-align: right;\">136,115,507</td><td style=\"text-align: right;\">269,773</td><td style=\"text-align: right;\">28</td><td style=\"text-align: right;\">434</td><td style=\"text-align: right;\">0.03</td><td style=\"text-align: right;\">11</td><td style=\"text-align: right;\">1.00</td><td style=\"text-align: right;\">9</td><td style=\"text-align: right;\">4.06</td><td style=\"text-align: right;\">1</td><td style=\"text-align: right;\">1.45</td><td style=\"text-align: right;\">1</td><td style=\"text-align: right;\">0.66</td><td style=\"text-align: right;\">0</td><td style=\"text-align: right;\">0.00</td><td style=\"text-align: right;\">0</td><td style=\"text-align: right;\">0.00</td><td style=\"text-align: right;\">0</td><td style=\"text-align: right;\">0.00</td><td style=\"text-align: right;\">0</td><td style=\"text-align: right;\">0.00</td></tr>\n",
       "<tr class=\"even\"><td style=\"text-align: right;\">353804</td><td style=\"text-align: right;\">136,402,778</td><td style=\"text-align: right;\">90,652</td><td style=\"text-align: right;\">21</td><td style=\"text-align: right;\">332</td><td style=\"text-align: right;\">0.02</td><td style=\"text-align: right;\">6</td><td style=\"text-align: right;\">0.55</td><td style=\"text-align: right;\">4</td><td style=\"text-align: right;\">3.31</td><td style=\"text-align: right;\">1</td><td style=\"text-align: right;\">2.66</td><td style=\"text-align: right;\">1</td><td style=\"text-align: right;\">1.20</td><td style=\"text-align: right;\">0</td><td style=\"text-align: right;\">0.00</td><td style=\"text-align: right;\">0</td><td style=\"text-align: right;\">0.00</td><td style=\"text-align: right;\">0</td><td style=\"text-align: right;\">0.00</td><td style=\"text-align: right;\">0</td><td style=\"text-align: right;\">0.00</td></tr>\n",
       "<tr><td style=\"text-align: right;\">353247</td><td style=\"text-align: right;\">135,758,713</td><td style=\"text-align: right;\">19,520</td><td style=\"text-align: right;\">6</td><td style=\"text-align: right;\">68</td><td style=\"text-align: right;\">0.09</td><td style=\"text-align: right;\">6</td><td style=\"text-align: right;\">0.55</td><td style=\"text-align: right;\">6</td><td style=\"text-align: right;\">4.97</td><td style=\"text-align: right;\">0</td><td style=\"text-align: right;\">0.00</td><td style=\"text-align: right;\">0</td><td style=\"text-align: right;\">0.00</td><td style=\"text-align: right;\">0</td><td style=\"text-align: right;\">0.00</td><td style=\"text-align: right;\">0</td><td style=\"text-align: right;\">0.00</td><td style=\"text-align: right;\">0</td><td style=\"text-align: right;\">0.00</td><td style=\"text-align: right;\">0</td><td style=\"text-align: right;\">0.00</td></tr>\n",
       "</table>"
      ],
      "text/plain": [
       "<IPython.core.display.HTML object>"
      ]
     },
     "execution_count": 56,
     "metadata": {},
     "output_type": "execute_result"
    }
   ],
   "source": [
    "HTML(plt_obj.get_html())"
   ]
  },
  {
   "cell_type": "code",
   "execution_count": 57,
   "metadata": {
    "collapsed": false
   },
   "outputs": [
    {
     "data": {
      "text/plain": [
       "array([(105, 3), (106, 69), (107, 2)], \n",
       "      dtype=[('count', '<u2'), ('snps', '<u2')])"
      ]
     },
     "execution_count": 57,
     "metadata": {},
     "output_type": "execute_result"
    }
   ],
   "source": [
    "an.sa_117_1685.unique_snps_per_allele(am6)"
   ]
  },
  {
   "cell_type": "code",
   "execution_count": 58,
   "metadata": {
    "collapsed": false
   },
   "outputs": [
    {
     "data": {
      "text/plain": [
       "array([(107, 8), (108, 50), (109, 15), (110, 1)], \n",
       "      dtype=[('count', '<u2'), ('snps', '<u2')])"
      ]
     },
     "execution_count": 58,
     "metadata": {},
     "output_type": "execute_result"
    }
   ],
   "source": [
    "an.sa_123_1561.unique_snps_per_allele(am6)"
   ]
  },
  {
   "cell_type": "code",
   "execution_count": 59,
   "metadata": {
    "collapsed": false
   },
   "outputs": [
    {
     "data": {
      "text/plain": [
       "array([(13, 1)], \n",
       "      dtype=[('count', '<u2'), ('snps', '<u2')])"
      ]
     },
     "execution_count": 59,
     "metadata": {},
     "output_type": "execute_result"
    }
   ],
   "source": [
    "an.sa_117_1685.unique_snps_per_allele(am7)"
   ]
  },
  {
   "cell_type": "code",
   "execution_count": 60,
   "metadata": {
    "collapsed": false
   },
   "outputs": [
    {
     "data": {
      "text/plain": [
       "array([(0, 0), (1, 0), (2, 0), (3, 0), (4, 0), (5, 0), (6, 0), (7, 0),\n",
       "       (8, 0), (9, 0), (10, 0), (11, 0), (12, 0), (13, 0), (14, 0),\n",
       "       (15, 0), (16, 0), (17, 0), (18, 0), (19, 0), (20, 0), (21, 0),\n",
       "       (22, 0), (23, 0), (24, 0), (25, 0), (26, 0), (27, 0), (28, 0),\n",
       "       (29, 0), (30, 0), (31, 0), (32, 0), (33, 0), (34, 0), (35, 0),\n",
       "       (36, 0), (37, 0), (38, 0), (39, 0), (40, 0), (41, 0), (42, 0),\n",
       "       (43, 0), (44, 0), (45, 0), (46, 0), (47, 0), (48, 0), (49, 0),\n",
       "       (50, 0), (51, 0), (52, 0), (53, 0), (54, 0), (55, 0), (56, 0),\n",
       "       (57, 0), (58, 0), (59, 0), (60, 0), (61, 0), (62, 0), (63, 0),\n",
       "       (64, 0), (65, 0), (66, 0), (67, 0), (68, 0), (69, 0), (70, 0),\n",
       "       (71, 0), (72, 0), (73, 0), (74, 0), (75, 0), (76, 0), (77, 0),\n",
       "       (78, 0), (79, 0), (80, 0), (81, 0), (82, 0), (83, 0), (84, 0),\n",
       "       (85, 0), (86, 0), (87, 0), (88, 0), (89, 0), (90, 0), (91, 0),\n",
       "       (92, 0), (93, 0), (94, 0), (95, 0), (96, 0), (97, 0), (98, 0),\n",
       "       (99, 0), (100, 0), (101, 0), (102, 0), (103, 0), (104, 1), (105, 1),\n",
       "       (106, 1), (107, 1), (108, 1), (109, 1), (110, 1), (111, 1),\n",
       "       (112, 1), (113, 1), (114, 1), (115, 1), (116, 1)], \n",
       "      dtype=[('index', '<u2'), ('snp_count', '<u2')])"
      ]
     },
     "execution_count": 60,
     "metadata": {},
     "output_type": "execute_result"
    }
   ],
   "source": [
    "tf = an.snp_anal.series_fragment_finder_cls(an.sa_117_1685, am7)\n",
    "tf.alleles_per_snp_from_count(13)"
   ]
  },
  {
   "cell_type": "code",
   "execution_count": 61,
   "metadata": {
    "collapsed": false
   },
   "outputs": [
    {
     "data": {
      "text/plain": [
       "array([(107, 8), (108, 50), (109, 15), (110, 1)], \n",
       "      dtype=[('count', '<u2'), ('snps', '<u2')])"
      ]
     },
     "execution_count": 61,
     "metadata": {},
     "output_type": "execute_result"
    }
   ],
   "source": [
    "an.sa_123_1561.unique_snps_per_allele(am6)"
   ]
  },
  {
   "cell_type": "code",
   "execution_count": 62,
   "metadata": {
    "collapsed": false
   },
   "outputs": [
    {
     "data": {
      "text/plain": [
       "array([(0, 50), (1, 50), (2, 50), (3, 50), (4, 0), (5, 0), (6, 0), (7, 50),\n",
       "       (8, 50), (9, 0), (10, 0), (11, 50), (12, 50), (13, 50), (14, 0),\n",
       "       (15, 0), (16, 0), (17, 0), (18, 50), (19, 50), (20, 0), (21, 50),\n",
       "       (22, 50), (23, 0), (24, 50), (25, 50), (26, 50), (27, 50), (28, 50),\n",
       "       (29, 50), (30, 50), (31, 50), (32, 0), (33, 50), (34, 50), (35, 50),\n",
       "       (36, 50), (37, 50), (38, 50), (39, 50), (40, 50), (41, 50),\n",
       "       (42, 50), (43, 50), (44, 50), (45, 50), (46, 50), (47, 50),\n",
       "       (48, 50), (49, 50), (50, 50), (51, 50), (52, 50), (53, 50),\n",
       "       (54, 50), (55, 50), (56, 50), (57, 50), (58, 50), (59, 50),\n",
       "       (60, 50), (61, 0), (62, 50), (63, 50), (64, 50), (65, 50), (66, 50),\n",
       "       (67, 50), (68, 50), (69, 50), (70, 50), (71, 50), (72, 50),\n",
       "       (73, 50), (74, 50), (75, 50), (76, 50), (77, 50), (78, 50),\n",
       "       (79, 50), (80, 50), (81, 50), (82, 50), (83, 50), (84, 0), (85, 50),\n",
       "       (86, 50), (87, 50), (88, 50), (89, 50), (90, 50), (91, 50),\n",
       "       (92, 50), (93, 50), (94, 50), (95, 50), (96, 50), (97, 50),\n",
       "       (98, 50), (99, 50), (100, 50), (101, 50), (102, 50), (103, 50),\n",
       "       (104, 50), (105, 0), (106, 50), (107, 50), (108, 50), (109, 50),\n",
       "       (110, 50), (111, 50), (112, 50), (113, 50), (114, 50), (115, 50),\n",
       "       (116, 50), (117, 50), (118, 50), (119, 50), (120, 50), (121, 50),\n",
       "       (122, 50)], \n",
       "      dtype=[('index', '<u2'), ('snp_count', '<u2')])"
      ]
     },
     "execution_count": 62,
     "metadata": {},
     "output_type": "execute_result"
    }
   ],
   "source": [
    "tf = an.snp_anal.series_fragment_finder_cls(an.sa_123_1561, am6)\n",
    "tf.alleles_per_snp_from_count(108)"
   ]
  },
  {
   "cell_type": "code",
   "execution_count": 63,
   "metadata": {
    "collapsed": false
   },
   "outputs": [
    {
     "data": {
      "text/plain": [
       "array([(13, 1)], \n",
       "      dtype=[('count', '<u2'), ('snps', '<u2')])"
      ]
     },
     "execution_count": 63,
     "metadata": {},
     "output_type": "execute_result"
    }
   ],
   "source": [
    "an.sa_117_1685.unique_snps_per_allele(am7)"
   ]
  },
  {
   "cell_type": "code",
   "execution_count": 64,
   "metadata": {
    "collapsed": false
   },
   "outputs": [
    {
     "data": {
      "text/plain": [
       "array([(0, 0), (1, 0), (2, 0), (3, 0), (4, 0), (5, 0), (6, 0), (7, 0),\n",
       "       (8, 0), (9, 0), (10, 0), (11, 0), (12, 0), (13, 0), (14, 0),\n",
       "       (15, 0), (16, 0), (17, 0), (18, 0), (19, 0), (20, 0), (21, 0),\n",
       "       (22, 0), (23, 0), (24, 0), (25, 0), (26, 0), (27, 0), (28, 0),\n",
       "       (29, 0), (30, 0), (31, 0), (32, 0), (33, 0), (34, 0), (35, 0),\n",
       "       (36, 0), (37, 0), (38, 0), (39, 0), (40, 0), (41, 0), (42, 0),\n",
       "       (43, 0), (44, 0), (45, 0), (46, 0), (47, 0), (48, 0), (49, 0),\n",
       "       (50, 0), (51, 0), (52, 0), (53, 0), (54, 0), (55, 0), (56, 0),\n",
       "       (57, 0), (58, 0), (59, 0), (60, 0), (61, 0), (62, 0), (63, 0),\n",
       "       (64, 0), (65, 0), (66, 0), (67, 0), (68, 0), (69, 0), (70, 0),\n",
       "       (71, 0), (72, 0), (73, 0), (74, 0), (75, 0), (76, 0), (77, 0),\n",
       "       (78, 0), (79, 0), (80, 0), (81, 0), (82, 0), (83, 0), (84, 0),\n",
       "       (85, 0), (86, 0), (87, 0), (88, 0), (89, 0), (90, 0), (91, 0),\n",
       "       (92, 0), (93, 0), (94, 0), (95, 0), (96, 0), (97, 0), (98, 0),\n",
       "       (99, 0), (100, 0), (101, 0), (102, 0), (103, 0), (104, 1), (105, 1),\n",
       "       (106, 1), (107, 1), (108, 1), (109, 1), (110, 1), (111, 1),\n",
       "       (112, 1), (113, 1), (114, 1), (115, 1), (116, 1)], \n",
       "      dtype=[('index', '<u2'), ('snp_count', '<u2')])"
      ]
     },
     "execution_count": 64,
     "metadata": {},
     "output_type": "execute_result"
    }
   ],
   "source": [
    "tf = an.snp_anal.series_fragment_finder_cls(an.sa_117_1685, am7)\n",
    "tf.alleles_per_snp_from_count(13)"
   ]
  },
  {
   "cell_type": "code",
   "execution_count": 65,
   "metadata": {
    "collapsed": false
   },
   "outputs": [
    {
     "data": {
      "text/plain": [
       "array([(86, 1)], \n",
       "      dtype=[('count', '<u2'), ('snps', '<u2')])"
      ]
     },
     "execution_count": 65,
     "metadata": {},
     "output_type": "execute_result"
    }
   ],
   "source": [
    "an.sa_123_1561.unique_snps_per_allele(am7)"
   ]
  },
  {
   "cell_type": "code",
   "execution_count": 66,
   "metadata": {
    "collapsed": false
   },
   "outputs": [
    {
     "data": {
      "text/plain": [
       "array([(0, 0), (1, 0), (2, 0), (3, 0), (4, 0), (5, 0), (6, 0), (7, 0),\n",
       "       (8, 0), (9, 0), (10, 0), (11, 0), (12, 0), (13, 0), (14, 0),\n",
       "       (15, 0), (16, 0), (17, 0), (18, 0), (19, 0), (20, 0), (21, 0),\n",
       "       (22, 0), (23, 0), (24, 0), (25, 0), (26, 0), (27, 0), (28, 0),\n",
       "       (29, 0), (30, 0), (31, 0), (32, 0), (33, 0), (34, 0), (35, 0),\n",
       "       (36, 1), (37, 1), (38, 1), (39, 1), (40, 1), (41, 1), (42, 1),\n",
       "       (43, 1), (44, 1), (45, 1), (46, 1), (47, 1), (48, 0), (49, 1),\n",
       "       (50, 1), (51, 1), (52, 1), (53, 1), (54, 1), (55, 1), (56, 1),\n",
       "       (57, 1), (58, 1), (59, 1), (60, 1), (61, 1), (62, 1), (63, 1),\n",
       "       (64, 1), (65, 1), (66, 1), (67, 1), (68, 1), (69, 1), (70, 1),\n",
       "       (71, 1), (72, 1), (73, 1), (74, 1), (75, 1), (76, 1), (77, 1),\n",
       "       (78, 1), (79, 1), (80, 1), (81, 1), (82, 1), (83, 1), (84, 1),\n",
       "       (85, 1), (86, 1), (87, 1), (88, 1), (89, 1), (90, 1), (91, 1),\n",
       "       (92, 1), (93, 1), (94, 1), (95, 1), (96, 1), (97, 1), (98, 1),\n",
       "       (99, 1), (100, 1), (101, 1), (102, 1), (103, 1), (104, 1), (105, 1),\n",
       "       (106, 1), (107, 1), (108, 1), (109, 1), (110, 1), (111, 1),\n",
       "       (112, 1), (113, 1), (114, 1), (115, 1), (116, 1), (117, 1),\n",
       "       (118, 1), (119, 1), (120, 1), (121, 1), (122, 1)], \n",
       "      dtype=[('index', '<u2'), ('snp_count', '<u2')])"
      ]
     },
     "execution_count": 66,
     "metadata": {},
     "output_type": "execute_result"
    }
   ],
   "source": [
    "tf = an.snp_anal.series_fragment_finder_cls(an.sa_123_1561, am7)\n",
    "tf.alleles_per_snp_from_count(86)"
   ]
  },
  {
   "cell_type": "code",
   "execution_count": 67,
   "metadata": {
    "collapsed": true
   },
   "outputs": [],
   "source": [
    "tf = an.snp_anal.series_fragment_finder_cls(an.sa_62_1265, am_28_434)"
   ]
  },
  {
   "cell_type": "code",
   "execution_count": 68,
   "metadata": {
    "collapsed": false
   },
   "outputs": [
    {
     "data": {
      "text/plain": [
       "array([(0, 9), (1, 9), (2, 9), (3, 9), (4, 9), (5, 9), (6, 9), (7, 9),\n",
       "       (8, 9), (9, 9), (10, 9), (11, 9), (12, 9), (13, 9), (14, 9),\n",
       "       (15, 9), (16, 9), (17, 9), (18, 0), (19, 9), (20, 9), (21, 0),\n",
       "       (22, 9), (23, 0), (24, 0), (25, 0), (26, 0), (27, 0), (28, 0),\n",
       "       (29, 0), (30, 0), (31, 0), (32, 0), (33, 0), (34, 0), (35, 0),\n",
       "       (36, 0), (37, 0), (38, 0), (39, 0), (40, 9), (41, 0), (42, 0),\n",
       "       (43, 0), (44, 0), (45, 0), (46, 0), (47, 0), (48, 0), (49, 0),\n",
       "       (50, 0), (51, 0), (52, 0), (53, 0), (54, 0), (55, 0), (56, 0),\n",
       "       (57, 0), (58, 0), (59, 0), (60, 0), (61, 0)], \n",
       "      dtype=[('index', '<u2'), ('snp_count', '<u2')])"
      ]
     },
     "execution_count": 68,
     "metadata": {},
     "output_type": "execute_result"
    }
   ],
   "source": [
    "tf.alleles_per_snp_from_count(22)"
   ]
  },
  {
   "cell_type": "code",
   "execution_count": 69,
   "metadata": {
    "collapsed": false
   },
   "outputs": [],
   "source": [
    "am_9 = tf.am_from_spa_count_and_index(22,0)"
   ]
  },
  {
   "cell_type": "code",
   "execution_count": 70,
   "metadata": {
    "collapsed": false
   },
   "outputs": [
    {
     "data": {
      "text/plain": [
       "9"
      ]
     },
     "execution_count": 70,
     "metadata": {},
     "output_type": "execute_result"
    }
   ],
   "source": [
    "am_9.sum()"
   ]
  },
  {
   "cell_type": "code",
   "execution_count": 71,
   "metadata": {
    "collapsed": false
   },
   "outputs": [
    {
     "data": {
      "text/html": [
       "\n",
       "\n",
       "    <div class=\"bk-root\">\n",
       "        <div class=\"plotdiv\" id=\"8c60efad-a55e-44d1-b868-0d7eb0855839\"></div>\n",
       "    </div>\n",
       "<script type=\"text/javascript\">\n",
       "  \n",
       "  (function(global) {\n",
       "    function now() {\n",
       "      return new Date();\n",
       "    }\n",
       "  \n",
       "    if (typeof (window._bokeh_onload_callbacks) === \"undefined\") {\n",
       "      window._bokeh_onload_callbacks = [];\n",
       "    }\n",
       "  \n",
       "    function run_callbacks() {\n",
       "      window._bokeh_onload_callbacks.forEach(function(callback) { callback() });\n",
       "      delete window._bokeh_onload_callbacks\n",
       "      console.info(\"Bokeh: all callbacks have finished\");\n",
       "    }\n",
       "  \n",
       "    function load_libs(js_urls, callback) {\n",
       "      window._bokeh_onload_callbacks.push(callback);\n",
       "      if (window._bokeh_is_loading > 0) {\n",
       "        console.log(\"Bokeh: BokehJS is being loaded, scheduling callback at\", now());\n",
       "        return null;\n",
       "      }\n",
       "      if (js_urls == null || js_urls.length === 0) {\n",
       "        run_callbacks();\n",
       "        return null;\n",
       "      }\n",
       "      console.log(\"Bokeh: BokehJS not loaded, scheduling load and callback at\", now());\n",
       "      window._bokeh_is_loading = js_urls.length;\n",
       "      for (var i = 0; i < js_urls.length; i++) {\n",
       "        var url = js_urls[i];\n",
       "        var s = document.createElement('script');\n",
       "        s.src = url;\n",
       "        s.async = false;\n",
       "        s.onreadystatechange = s.onload = function() {\n",
       "          window._bokeh_is_loading--;\n",
       "          if (window._bokeh_is_loading === 0) {\n",
       "            console.log(\"Bokeh: all BokehJS libraries loaded\");\n",
       "            run_callbacks()\n",
       "          }\n",
       "        };\n",
       "        s.onerror = function() {\n",
       "          console.warn(\"failed to load library \" + url);\n",
       "        };\n",
       "        console.log(\"Bokeh: injecting script tag for BokehJS library: \", url);\n",
       "        document.getElementsByTagName(\"head\")[0].appendChild(s);\n",
       "      }\n",
       "    };var element = document.getElementById(\"8c60efad-a55e-44d1-b868-0d7eb0855839\");\n",
       "    if (element == null) {\n",
       "      console.log(\"Bokeh: ERROR: autoload.js configured with elementid '8c60efad-a55e-44d1-b868-0d7eb0855839' but no matching script tag was found. \")\n",
       "      return false;\n",
       "    }\n",
       "  \n",
       "    var js_urls = [];\n",
       "  \n",
       "    var inline_js = [\n",
       "      function(Bokeh) {\n",
       "        Bokeh.$(function() {\n",
       "            var docs_json = {\"6772d475-f8d2-4d58-9e46-8b190cc823ad\":{\"roots\":{\"references\":[{\"attributes\":{\"callback\":null,\"column_names\":[\"right\",\"bottom\",\"top\",\"left\",\"fill_color\"],\"data\":{\"bottom\":[850,750,50,350,150,250,450,650,550,450,750,650,350,450,850,350,450,550,150,850],\"fill_color\":[\"#808080\",\"#c46161\",\"#ff0000\",\"#ff0000\",\"#ff0000\",\"#ff0000\",\"#ff0000\",\"#ff0000\",\"#ff0000\",\"#ff0000\",\"#808080\",\"#ff0000\",\"#ff0000\",\"#ff0000\",\"#c46161\",\"#ff0000\",\"#ff0000\",\"#c46161\",\"#ff0000\",\"#61c461\"],\"left\":[135758231,135933921,135956166,136008173,136033448,136056699,136115507,136309239,136364916,136402778,136406646,136448855,136497006,136509361,136588031,136589521,136602291,136603638,136633976,136682274],\"right\":[136376515,136368563,136484679,136381251,136412169,136433902,136385280,136361560,136387893,136493430,136438078,136466831,136588738,136538117,136593678,136642012,136629987,136632125,136742820,136775898],\"top\":[896,795,60,376,162,268,484,690,587,482,795,687,369,476,896,373,478,585,160,897]}},\"id\":\"9ddd665d-03fa-4fe9-a02f-e6995b0150f7\",\"type\":\"ColumnDataSource\"},{\"attributes\":{\"data_source\":{\"id\":\"cb8d70e9-c096-4d9f-a1db-7885fab6a50b\",\"type\":\"ColumnDataSource\"},\"glyph\":{\"id\":\"f0883b44-362d-43a7-bb97-88b1d677d1ee\",\"type\":\"MultiLine\"},\"hover_glyph\":null,\"nonselection_glyph\":{\"id\":\"3c134776-90bb-409a-9514-51c5131d02a0\",\"type\":\"MultiLine\"},\"selection_glyph\":null},\"id\":\"aba23da5-dcc1-42b5-859c-e2fdfdfd5388\",\"type\":\"GlyphRenderer\"},{\"attributes\":{\"callback\":null,\"column_names\":[\"y\",\"x\",\"vals\"],\"data\":{\"vals\":[\"117_1685\",\"123_1561\",\"25_27\",\"70_166\",\"7_34\",\"5_69\",\"28_434\",\"9_887\",\"5_588\",\"21_332\",\"5_1460\",\"4_612\",\"19_77\",\"11_173\",\"7_1760\",\"17_127\",\"7_226\",\"16_511\",\"6_27\",\"7_1868\"],\"x\":[135758231,135933921,135956166,136008173,136033448,136056699,136115507,136309239,136364916,136402778,136406646,136448855,136497006,136509361,136588031,136589521,136602291,136603638,136633976,136682274],\"y\":[901.0,800.0,65.0,381.0,167.0,273.0,489.0,695.0,592.0,487.0,800.0,692.0,374.0,481.0,901.0,378.0,483.0,590.0,165.0,902.0]}},\"id\":\"45c12860-faea-4b11-ba98-2caa384225dc\",\"type\":\"ColumnDataSource\"},{\"attributes\":{\"plot\":{\"id\":\"ffbb0b77-05de-4218-9519-4004ad9a4c17\",\"subtype\":\"Figure\",\"type\":\"Plot\"}},\"id\":\"f6a32090-6020-47b2-992b-2443b8190cae\",\"type\":\"HelpTool\"},{\"attributes\":{\"level\":\"glyph\",\"plot\":{\"id\":\"ffbb0b77-05de-4218-9519-4004ad9a4c17\",\"subtype\":\"Figure\",\"type\":\"Plot\"},\"source\":{\"id\":\"b9f5ed84-5262-4177-9a3a-06357bf197e1\",\"type\":\"ColumnDataSource\"},\"text\":{\"field\":\"vals\"},\"text_align\":\"center\",\"text_baseline\":\"middle\",\"text_font_size\":{\"value\":\"8pt\"},\"x\":{\"field\":\"x\"},\"y\":{\"field\":\"y\"}},\"id\":\"2f3f15ed-f435-4d7d-a896-430da82512d3\",\"type\":\"LabelSet\"},{\"attributes\":{\"below\":[{\"id\":\"4ee36d68-1e2b-4a91-8555-cde237e272e9\",\"type\":\"LinearAxis\"}],\"left\":[{\"id\":\"04c8a8da-b7d6-440d-b9ad-1d8ffce3a0c8\",\"type\":\"LinearAxis\"}],\"plot_height\":1000,\"plot_width\":900,\"renderers\":[{\"id\":\"4ee36d68-1e2b-4a91-8555-cde237e272e9\",\"type\":\"LinearAxis\"},{\"id\":\"9112c1ba-bc30-49a3-abad-f1f4944eb7bb\",\"type\":\"Grid\"},{\"id\":\"04c8a8da-b7d6-440d-b9ad-1d8ffce3a0c8\",\"type\":\"LinearAxis\"},{\"id\":\"0435bf75-f524-4824-8dae-f6b3c2c0a77e\",\"type\":\"Grid\"},{\"id\":\"06ae9e0f-8fe0-4f83-98ce-f1b16cb3732b\",\"type\":\"BoxAnnotation\"},{\"id\":\"a3547f15-2524-489a-9b91-98f81f407669\",\"type\":\"GlyphRenderer\"},{\"id\":\"aba23da5-dcc1-42b5-859c-e2fdfdfd5388\",\"type\":\"GlyphRenderer\"},{\"id\":\"756c58e8-5d99-4e13-93df-023109ab760e\",\"type\":\"LabelSet\"},{\"id\":\"9b139793-a670-44f2-80ad-9de5e5fe901f\",\"type\":\"GlyphRenderer\"},{\"id\":\"2f3f15ed-f435-4d7d-a896-430da82512d3\",\"type\":\"LabelSet\"}],\"title\":{\"id\":\"afbcd275-0f30-4df1-8bce-93534eb984c9\",\"type\":\"Title\"},\"tool_events\":{\"id\":\"ef90b18b-8124-4bbb-a7ff-230bf1ab4481\",\"type\":\"ToolEvents\"},\"toolbar\":{\"id\":\"91ce9aac-543e-4d2f-b7e7-800fcae4a0e0\",\"type\":\"Toolbar\"},\"toolbar_location\":null,\"x_range\":{\"id\":\"6f964482-6567-4ccd-b572-7ff7fa722559\",\"type\":\"Range1d\"},\"y_range\":{\"id\":\"02f388c8-aca6-4137-8189-e719dc434f49\",\"type\":\"Range1d\"}},\"id\":\"ffbb0b77-05de-4218-9519-4004ad9a4c17\",\"subtype\":\"Figure\",\"type\":\"Plot\"},{\"attributes\":{\"formatter\":{\"id\":\"7c84d423-c8bf-458d-ad10-97e252a9bc06\",\"type\":\"BasicTickFormatter\"},\"plot\":{\"id\":\"ffbb0b77-05de-4218-9519-4004ad9a4c17\",\"subtype\":\"Figure\",\"type\":\"Plot\"},\"ticker\":{\"id\":\"7b6736e8-e632-4f61-b5b4-16b12f79d4db\",\"type\":\"BasicTicker\"},\"visible\":null},\"id\":\"04c8a8da-b7d6-440d-b9ad-1d8ffce3a0c8\",\"type\":\"LinearAxis\"},{\"attributes\":{\"line_alpha\":{\"value\":0.1},\"line_color\":{\"value\":\"#1f77b4\"},\"xs\":{\"field\":\"xs\"},\"ys\":{\"field\":\"ys\"}},\"id\":\"3c134776-90bb-409a-9514-51c5131d02a0\",\"type\":\"MultiLine\"},{\"attributes\":{\"callback\":null,\"end\":136786630,\"start\":135757320},\"id\":\"6f964482-6567-4ccd-b572-7ff7fa722559\",\"type\":\"Range1d\"},{\"attributes\":{\"plot\":{\"id\":\"ffbb0b77-05de-4218-9519-4004ad9a4c17\",\"subtype\":\"Figure\",\"type\":\"Plot\"}},\"id\":\"b4255470-7c91-4383-a82c-aab7a68881a8\",\"type\":\"SaveTool\"},{\"attributes\":{\"plot\":{\"id\":\"ffbb0b77-05de-4218-9519-4004ad9a4c17\",\"subtype\":\"Figure\",\"type\":\"Plot\"}},\"id\":\"9665cfae-3ba7-41a6-bc73-d2650717b2ab\",\"type\":\"ResetTool\"},{\"attributes\":{\"callback\":null,\"column_names\":[\"xs\",\"ys\",\"line_color\"],\"data\":{\"line_color\":[\"black\",\"black\",\"black\",\"black\",\"black\",\"black\",\"black\",\"black\",\"black\",\"black\",\"black\",\"black\",\"black\",\"black\",\"black\",\"black\",\"black\",\"black\",\"black\",\"black\",\"black\",\"black\",\"black\",\"black\",\"black\",\"black\",\"black\",\"black\",\"black\",\"black\",\"black\",\"black\",\"black\",\"black\",\"black\",\"black\",\"black\",\"black\",\"black\",\"black\",\"black\",\"black\",\"black\",\"black\",\"black\",\"black\",\"black\",\"black\",\"black\",\"black\",\"black\",\"black\",\"black\",\"black\",\"black\",\"black\",\"black\",\"black\",\"black\",\"black\",\"black\",\"black\",\"black\",\"black\",\"black\",\"black\",\"black\",\"black\",\"black\",\"black\",\"black\",\"black\",\"black\",\"black\",\"black\",\"black\",\"black\",\"black\",\"black\",\"black\",\"black\",\"black\",\"black\",\"black\",\"black\",\"black\",\"black\",\"black\",\"black\",\"black\",\"black\",\"black\",\"black\",\"black\",\"black\",\"black\",\"black\",\"black\",\"black\",\"black\",\"black\",\"black\",\"black\",\"black\",\"black\",\"black\",\"black\",\"black\",\"black\",\"black\",\"black\",\"black\",\"black\",\"black\",\"black\",\"black\",\"black\",\"black\",\"black\",\"black\",\"black\",\"black\",\"black\",\"black\",\"black\",\"black\",\"black\",\"black\",\"black\",\"black\",\"black\",\"black\",\"black\",\"black\",\"black\",\"black\",\"black\",\"black\",\"black\",\"black\",\"black\",\"black\",\"black\",\"black\",\"black\",\"black\",\"black\",\"black\",\"black\",\"black\",\"black\",\"black\",\"black\",\"black\",\"black\",\"black\",\"black\",\"black\",\"black\",\"black\",\"black\",\"black\",\"black\",\"black\",\"black\",\"black\",\"black\",\"black\",\"black\",\"black\",\"black\",\"black\",\"black\",\"black\",\"black\",\"black\",\"black\",\"black\",\"black\",\"black\",\"black\",\"black\",\"black\",\"black\",\"black\",\"black\",\"black\",\"black\",\"black\",\"black\",\"black\",\"black\",\"black\",\"black\",\"black\",\"black\",\"black\",\"black\",\"black\",\"black\",\"black\",\"black\",\"black\",\"black\",\"black\",\"black\",\"black\",\"black\",\"black\",\"black\",\"black\",\"black\",\"black\",\"black\",\"black\",\"black\",\"black\",\"black\",\"black\",\"black\",\"black\",\"black\",\"black\",\"black\",\"black\",\"black\",\"black\",\"black\",\"black\",\"black\",\"black\",\"black\",\"black\",\"black\",\"black\",\"black\",\"black\",\"black\",\"black\",\"black\",\"black\",\"black\",\"black\",\"black\",\"black\",\"black\",\"black\",\"black\",\"black\",\"black\",\"black\",\"black\",\"black\",\"black\",\"black\",\"black\",\"black\",\"black\",\"black\",\"black\",\"black\",\"black\",\"black\",\"black\",\"black\",\"black\",\"black\",\"black\",\"black\",\"black\",\"black\",\"black\",\"black\",\"black\",\"black\",\"black\",\"black\",\"black\",\"black\",\"black\",\"black\",\"black\",\"black\",\"black\",\"black\",\"black\",\"black\",\"black\",\"black\",\"black\",\"black\",\"black\",\"black\",\"black\",\"black\",\"black\",\"black\",\"black\",\"black\",\"black\",\"black\",\"black\",\"black\",\"black\",\"black\",\"black\",\"black\",\"black\",\"black\",\"black\",\"black\",\"black\",\"black\",\"black\",\"black\",\"black\",\"black\",\"black\",\"black\",\"black\",\"black\",\"black\",\"black\",\"black\",\"black\",\"black\",\"black\",\"black\",\"black\",\"black\",\"black\",\"black\",\"black\",\"black\",\"black\",\"black\",\"black\",\"black\",\"black\",\"black\",\"black\",\"black\",\"black\",\"black\",\"black\",\"black\",\"black\",\"black\",\"black\",\"black\",\"black\",\"black\",\"black\",\"black\",\"black\",\"black\",\"black\",\"black\",\"black\",\"black\",\"black\",\"black\",\"black\",\"black\",\"black\",\"black\",\"black\",\"black\",\"black\",\"black\",\"black\",\"black\",\"black\",\"black\",\"black\",\"black\",\"black\",\"black\",\"black\",\"black\",\"black\",\"black\",\"black\",\"black\",\"black\",\"black\",\"black\",\"black\",\"black\",\"black\",\"black\",\"black\",\"black\",\"black\",\"black\",\"black\",\"black\",\"black\",\"black\",\"black\",\"black\",\"black\",\"black\",\"black\",\"black\",\"black\",\"black\",\"black\",\"black\",\"black\",\"black\",\"black\",\"black\",\"black\",\"black\",\"black\",\"black\",\"black\",\"black\",\"black\",\"black\",\"black\",\"black\",\"black\",\"black\",\"black\",\"black\",\"black\",\"black\",\"black\",\"black\",\"black\",\"black\",\"black\",\"black\",\"black\",\"black\",\"black\",\"black\",\"black\",\"black\",\"black\",\"black\",\"black\",\"black\",\"black\",\"black\",\"black\",\"black\",\"black\",\"black\",\"black\",\"black\",\"black\",\"black\",\"black\",\"black\",\"black\",\"black\",\"black\",\"black\",\"black\",\"black\",\"black\",\"black\",\"black\",\"black\",\"black\",\"black\",\"black\",\"black\",\"black\",\"black\",\"black\",\"black\",\"black\",\"black\",\"black\",\"black\",\"black\",\"black\",\"black\",\"black\",\"black\",\"black\",\"black\",\"black\",\"black\",\"black\",\"black\",\"black\",\"black\",\"black\",\"black\",\"black\",\"black\",\"black\",\"black\",\"black\",\"black\",\"black\",\"black\",\"black\",\"black\",\"black\",\"black\",\"black\",\"black\",\"black\"],\"xs\":[[135758231,135758231],[135758520,135758520],[135766072,135766072],[135773420,135773420],[135773446,135773446],[135773617,135773617],[135773692,135773692],[135774681,135774681],[135775049,135775049],[135776430,135776430],[135778656,135778656],[135780168,135780168],[135780587,135780587],[135781301,135781301],[135781522,135781522],[135781635,135781635],[135782456,135782456],[135783157,135783157],[135783366,135783366],[135783367,135783367],[135784227,135784227],[135784733,135784733],[135785066,135785066],[135785068,135785068],[135785149,135785149],[135787148,135787148],[135787642,135787642],[135789405,135789405],[135789472,135789472],[135789682,135789682],[135789784,135789784],[135792338,135792338],[135792528,135792528],[135793565,135793565],[135793684,135793684],[135793845,135793845],[135794367,135794367],[135794986,135794986],[135795040,135795040],[135795095,135795095],[135795150,135795150],[135795385,135795385],[135795396,135795396],[135795443,135795443],[135795595,135795595],[135796000,135796000],[135796155,135796155],[135796410,135796410],[135796965,135796965],[135797223,135797223],[135797747,135797747],[135798082,135798082],[135798758,135798758],[135799082,135799082],[135800085,135800085],[135800601,135800601],[135800757,135800757],[135801228,135801228],[135801956,135801956],[135802020,135802020],[135802028,135802028],[135802050,135802050],[135802148,135802148],[135803766,135803766],[135809241,135809241],[135812969,135812969],[135814716,135814716],[135818907,135818907],[135829432,135829432],[135832131,135832131],[135849613,135849613],[135853807,135853807],[135859923,135859923],[135860305,135860305],[135861497,135861497],[135863143,135863143],[135864294,135864294],[135871624,135871624],[135872646,135872646],[135874038,135874038],[135874622,135874622],[135878814,135878814],[135880013,135880013],[135884487,135884487],[135885357,135885357],[135893853,135893853],[135895809,135895809],[135895879,135895879],[135899069,135899069],[135909462,135909462],[135912977,135912977],[135914038,135914038],[135921839,135921839],[135925002,135925002],[135928312,135928312],[135935049,135935049],[135962711,135962711],[135984172,135984172],[135994753,135994753],[135994754,135994754],[136016079,136016079],[136027264,136027264],[136052004,136052004],[136100473,136100473],[136110129,136110129],[136166536,136166536],[136169799,136169799],[136191314,136191314],[136228887,136228887],[136238453,136238453],[136288273,136288273],[136292425,136292425],[136321951,136321951],[136324564,136324564],[136327299,136327299],[136327302,136327302],[136376515,136376515],[135933921,135933921],[135939824,135939824],[135941503,135941503],[135943900,135943900],[135945474,135945474],[135949715,135949715],[135956745,135956745],[135958693,135958693],[135967778,135967778],[135972093,135972093],[135973768,135973768],[135976498,135976498],[135978428,135978428],[135990031,135990031],[135992481,135992481],[135993925,135993925],[135994838,135994838],[136000253,136000253],[136003567,136003567],[136005477,136005477],[136005971,136005971],[136020977,136020977],[136027535,136027535],[136031588,136031588],[136032905,136032905],[136042480,136042480],[136043885,136043885],[136050471,136050471],[136052898,136052898],[136054815,136054815],[136056285,136056285],[136061560,136061560],[136063685,136063685],[136069060,136069060],[136072179,136072179],[136074233,136074233],[136080721,136080721],[136080822,136080822],[136088440,136088440],[136088643,136088643],[136092416,136092416],[136092869,136092869],[136094615,136094615],[136095505,136095505],[136095604,136095604],[136096766,136096766],[136097091,136097091],[136097394,136097394],[136100243,136100243],[136101823,136101823],[136106561,136106561],[136115501,136115501],[136122622,136122622],[136123014,136123014],[136123848,136123848],[136127100,136127100],[136127950,136127950],[136128630,136128630],[136129630,136129630],[136129791,136129791],[136131324,136131324],[136135383,136135383],[136135994,136135994],[136136224,136136224],[136136366,136136366],[136136440,136136440],[136138145,136138145],[136140568,136140568],[136145882,136145882],[136147948,136147948],[136148630,136148630],[136151485,136151485],[136152802,136152802],[136156753,136156753],[136157913,136157913],[136160902,136160902],[136165765,136165765],[136171649,136171649],[136173220,136173220],[136173735,136173735],[136174552,136174552],[136175692,136175692],[136176805,136176805],[136182484,136182484],[136183188,136183188],[136187252,136187252],[136187345,136187345],[136189475,136189475],[136197702,136197702],[136198435,136198435],[136202937,136202937],[136219999,136219999],[136221500,136221500],[136226626,136226626],[136228929,136228929],[136229598,136229598],[136238270,136238270],[136238346,136238346],[136240769,136240769],[136244171,136244171],[136249245,136249245],[136250285,136250285],[136254419,136254419],[136266241,136266241],[136267808,136267808],[136272074,136272074],[136277304,136277304],[136290607,136290607],[136290663,136290663],[136291310,136291310],[136296051,136296051],[136305392,136305392],[136306890,136306890],[136310803,136310803],[136324225,136324225],[136324465,136324465],[136327305,136327305],[136329618,136329618],[136333300,136333300],[136350089,136350089],[136354204,136354204],[136360455,136360455],[136368563,136368563],[135956166,135956166],[135981152,135981152],[136024681,136024681],[136038077,136038077],[136097226,136097226],[136101953,136101953],[136105148,136105148],[136106696,136106696],[136144471,136144471],[136165664,136165664],[136181766,136181766],[136254791,136254791],[136272424,136272424],[136285987,136285987],[136297654,136297654],[136301099,136301099],[136332306,136332306],[136342800,136342800],[136370517,136370517],[136378974,136378974],[136390282,136390282],[136406419,136406419],[136440339,136440339],[136481338,136481338],[136484679,136484679],[136008173,136008173],[136008446,136008446],[136014236,136014236],[136036997,136036997],[136037702,136037702],[136040078,136040078],[136046601,136046601],[136048235,136048235],[136050624,136050624],[136051458,136051458],[136053800,136053800],[136069666,136069666],[136070320,136070320],[136071268,136071268],[136085307,136085307],[136107478,136107478],[136116965,136116965],[136119487,136119487],[136133726,136133726],[136136964,136136964],[136137013,136137013],[136141365,136141365],[136151898,136151898],[136153771,136153771],[136157319,136157319],[136157786,136157786],[136160634,136160634],[136161546,136161546],[136161613,136161613],[136163239,136163239],[136166288,136166288],[136171078,136171078],[136174848,136174848],[136177152,136177152],[136188784,136188784],[136191498,136191498],[136192069,136192069],[136192914,136192914],[136202038,136202038],[136206988,136206988],[136208169,136208169],[136211700,136211700],[136214800,136214800],[136223293,136223293],[136238330,136238330],[136242667,136242667],[136249834,136249834],[136255405,136255405],[136261219,136261219],[136264924,136264924],[136265494,136265494],[136267386,136267386],[136267415,136267415],[136277320,136277320],[136279720,136279720],[136279756,136279756],[136283113,136283113],[136299020,136299020],[136304442,136304442],[136308679,136308679],[136319192,136319192],[136324543,136324543],[136330131,136330131],[136347919,136347919],[136353065,136353065],[136360339,136360339],[136370954,136370954],[136371399,136371399],[136376994,136376994],[136381251,136381251],[136033448,136033448],[136045628,136045628],[136081974,136081974],[136220746,136220746],[136322033,136322033],[136376416,136376416],[136412169,136412169],[136056699,136056699],[136316658,136316658],[136390794,136390794],[136421460,136421460],[136433902,136433902],[136115507,136115507],[136133627,136133627],[136135820,136135820],[136145676,136145676],[136166014,136166014],[136173684,136173684],[136176031,136176031],[136214307,136214307],[136215590,136215590],[136219265,136219265],[136219831,136219831],[136289471,136289471],[136298739,136298739],[136302296,136302296],[136302897,136302897],[136348702,136348702],[136348964,136348964],[136358707,136358707],[136359608,136359608],[136360402,136360402],[136365624,136365624],[136366970,136366970],[136367871,136367871],[136368393,136368393],[136370701,136370701],[136378539,136378539],[136378895,136378895],[136385280,136385280],[136309239,136309239],[136322472,136322472],[136323787,136323787],[136323862,136323862],[136326765,136326765],[136329500,136329500],[136331657,136331657],[136345356,136345356],[136361560,136361560],[136364916,136364916],[136369497,136369497],[136369580,136369580],[136380846,136380846],[136387893,136387893],[136402778,136402778],[136402779,136402779],[136402780,136402780],[136402781,136402781],[136403272,136403272],[136406356,136406356],[136407068,136407068],[136414770,136414770],[136415861,136415861],[136416407,136416407],[136420009,136420009],[136429439,136429439],[136438468,136438468],[136444542,136444542],[136448142,136448142],[136452728,136452728],[136453540,136453540],[136455296,136455296],[136458856,136458856],[136467559,136467559],[136493430,136493430],[136406646,136406646],[136408821,136408821],[136412472,136412472],[136416959,136416959],[136438078,136438078],[136448855,136448855],[136456090,136456090],[136456675,136456675],[136466831,136466831],[136497006,136497006],[136501661,136501661],[136504728,136504728],[136507878,136507878],[136545910,136545910],[136548951,136548951],[136554041,136554041],[136555054,136555054],[136555957,136555957],[136562876,136562876],[136563725,136563725],[136565901,136565901],[136567203,136567203],[136574563,136574563],[136581775,136581775],[136584623,136584623],[136587297,136587297],[136588380,136588380],[136588738,136588738],[136509361,136509361],[136509955,136509955],[136510059,136510059],[136516416,136516416],[136522394,136522394],[136523911,136523911],[136527801,136527801],[136530264,136530264],[136530476,136530476],[136532528,136532528],[136538117,136538117],[136588031,136588031],[136589278,136589278],[136589379,136589379],[136589741,136589741],[136590746,136590746],[136593553,136593553],[136593678,136593678],[136589521,136589521],[136590781,136590781],[136591977,136591977],[136592979,136592979],[136593065,136593065],[136593066,136593066],[136593077,136593077],[136593079,136593079],[136593136,136593136],[136593809,136593809],[136596836,136596836],[136619277,136619277],[136622982,136622982],[136631545,136631545],[136634340,136634340],[136638199,136638199],[136642012,136642012],[136602291,136602291],[136607932,136607932],[136616036,136616036],[136617917,136617917],[136619615,136619615],[136627507,136627507],[136629987,136629987],[136603638,136603638],[136603690,136603690],[136604210,136604210],[136604345,136604345],[136604346,136604346],[136605111,136605111],[136612598,136612598],[136614955,136614955],[136619114,136619114],[136619213,136619213],[136623900,136623900],[136624123,136624123],[136624155,136624155],[136630170,136630170],[136631415,136631415],[136632125,136632125],[136633976,136633976],[136674547,136674547],[136720711,136720711],[136722941,136722941],[136733249,136733249],[136742820,136742820],[136682274,136682274],[136691825,136691825],[136698098,136698098],[136721603,136721603],[136721995,136721995],[136755684,136755684],[136775898,136775898]],\"ys\":[[850,896],[850,896],[850,896],[850,896],[850,896],[850,896],[850,896],[850,896],[850,896],[850,896],[850,896],[850,896],[850,896],[850,896],[850,896],[850,896],[850,896],[850,896],[850,896],[850,896],[850,896],[850,896],[850,896],[850,896],[850,896],[850,896],[850,896],[850,896],[850,896],[850,896],[850,896],[850,896],[850,896],[850,896],[850,896],[850,896],[850,896],[850,896],[850,896],[850,896],[850,896],[850,896],[850,896],[850,896],[850,896],[850,896],[850,896],[850,896],[850,896],[850,896],[850,896],[850,896],[850,896],[850,896],[850,896],[850,896],[850,896],[850,896],[850,896],[850,896],[850,896],[850,896],[850,896],[850,896],[850,896],[850,896],[850,896],[850,896],[850,896],[850,896],[850,896],[850,896],[850,896],[850,896],[850,896],[850,896],[850,896],[850,896],[850,896],[850,896],[850,896],[850,896],[850,896],[850,896],[850,896],[850,896],[850,896],[850,896],[850,896],[850,896],[850,896],[850,896],[850,896],[850,896],[850,896],[850,896],[850,896],[850,896],[850,896],[850,896],[850,896],[850,896],[850,896],[850,896],[850,896],[850,896],[850,896],[850,896],[850,896],[850,896],[850,896],[850,896],[850,896],[850,896],[850,896],[850,896],[850,896],[750,795],[750,795],[750,795],[750,795],[750,795],[750,795],[750,795],[750,795],[750,795],[750,795],[750,795],[750,795],[750,795],[750,795],[750,795],[750,795],[750,795],[750,795],[750,795],[750,795],[750,795],[750,795],[750,795],[750,795],[750,795],[750,795],[750,795],[750,795],[750,795],[750,795],[750,795],[750,795],[750,795],[750,795],[750,795],[750,795],[750,795],[750,795],[750,795],[750,795],[750,795],[750,795],[750,795],[750,795],[750,795],[750,795],[750,795],[750,795],[750,795],[750,795],[750,795],[750,795],[750,795],[750,795],[750,795],[750,795],[750,795],[750,795],[750,795],[750,795],[750,795],[750,795],[750,795],[750,795],[750,795],[750,795],[750,795],[750,795],[750,795],[750,795],[750,795],[750,795],[750,795],[750,795],[750,795],[750,795],[750,795],[750,795],[750,795],[750,795],[750,795],[750,795],[750,795],[750,795],[750,795],[750,795],[750,795],[750,795],[750,795],[750,795],[750,795],[750,795],[750,795],[750,795],[750,795],[750,795],[750,795],[750,795],[750,795],[750,795],[750,795],[750,795],[750,795],[750,795],[750,795],[750,795],[750,795],[750,795],[750,795],[750,795],[750,795],[750,795],[750,795],[750,795],[750,795],[750,795],[750,795],[750,795],[750,795],[750,795],[750,795],[750,795],[750,795],[50,60],[50,60],[50,60],[50,60],[50,60],[50,60],[50,60],[50,60],[50,60],[50,60],[50,60],[50,60],[50,60],[50,60],[50,60],[50,60],[50,60],[50,60],[50,60],[50,60],[50,60],[50,60],[50,60],[50,60],[50,60],[350,376],[350,376],[350,376],[350,376],[350,376],[350,376],[350,376],[350,376],[350,376],[350,376],[350,376],[350,376],[350,376],[350,376],[350,376],[350,376],[350,376],[350,376],[350,376],[350,376],[350,376],[350,376],[350,376],[350,376],[350,376],[350,376],[350,376],[350,376],[350,376],[350,376],[350,376],[350,376],[350,376],[350,376],[350,376],[350,376],[350,376],[350,376],[350,376],[350,376],[350,376],[350,376],[350,376],[350,376],[350,376],[350,376],[350,376],[350,376],[350,376],[350,376],[350,376],[350,376],[350,376],[350,376],[350,376],[350,376],[350,376],[350,376],[350,376],[350,376],[350,376],[350,376],[350,376],[350,376],[350,376],[350,376],[350,376],[350,376],[350,376],[350,376],[150,162],[150,162],[150,162],[150,162],[150,162],[150,162],[150,162],[250,268],[250,268],[250,268],[250,268],[250,268],[450,484],[450,484],[450,484],[450,484],[450,484],[450,484],[450,484],[450,484],[450,484],[450,484],[450,484],[450,484],[450,484],[450,484],[450,484],[450,484],[450,484],[450,484],[450,484],[450,484],[450,484],[450,484],[450,484],[450,484],[450,484],[450,484],[450,484],[450,484],[650,690],[650,690],[650,690],[650,690],[650,690],[650,690],[650,690],[650,690],[650,690],[550,587],[550,587],[550,587],[550,587],[550,587],[450,482],[450,482],[450,482],[450,482],[450,482],[450,482],[450,482],[450,482],[450,482],[450,482],[450,482],[450,482],[450,482],[450,482],[450,482],[450,482],[450,482],[450,482],[450,482],[450,482],[450,482],[750,795],[750,795],[750,795],[750,795],[750,795],[650,687],[650,687],[650,687],[650,687],[350,369],[350,369],[350,369],[350,369],[350,369],[350,369],[350,369],[350,369],[350,369],[350,369],[350,369],[350,369],[350,369],[350,369],[350,369],[350,369],[350,369],[350,369],[350,369],[450,476],[450,476],[450,476],[450,476],[450,476],[450,476],[450,476],[450,476],[450,476],[450,476],[450,476],[850,896],[850,896],[850,896],[850,896],[850,896],[850,896],[850,896],[350,373],[350,373],[350,373],[350,373],[350,373],[350,373],[350,373],[350,373],[350,373],[350,373],[350,373],[350,373],[350,373],[350,373],[350,373],[350,373],[350,373],[450,478],[450,478],[450,478],[450,478],[450,478],[450,478],[450,478],[550,585],[550,585],[550,585],[550,585],[550,585],[550,585],[550,585],[550,585],[550,585],[550,585],[550,585],[550,585],[550,585],[550,585],[550,585],[550,585],[150,160],[150,160],[150,160],[150,160],[150,160],[150,160],[850,897],[850,897],[850,897],[850,897],[850,897],[850,897],[850,897]]}},\"id\":\"cb8d70e9-c096-4d9f-a1db-7885fab6a50b\",\"type\":\"ColumnDataSource\"},{\"attributes\":{\"plot\":null,\"text\":null},\"id\":\"afbcd275-0f30-4df1-8bce-93534eb984c9\",\"type\":\"Title\"},{\"attributes\":{\"bottom\":{\"field\":\"bottom\"},\"fill_alpha\":{\"value\":0.1},\"fill_color\":{\"value\":\"#1f77b4\"},\"left\":{\"field\":\"left\"},\"line_alpha\":{\"value\":0.1},\"line_color\":{\"value\":\"#1f77b4\"},\"right\":{\"field\":\"right\"},\"top\":{\"field\":\"top\"}},\"id\":\"7a7cf8e0-af05-4b82-91f9-0aa628f95350\",\"type\":\"Quad\"},{\"attributes\":{\"active_drag\":\"auto\",\"active_scroll\":\"auto\",\"active_tap\":\"auto\",\"tools\":[{\"id\":\"7243aea8-4fdc-4fe3-842e-09a3d7721330\",\"type\":\"PanTool\"},{\"id\":\"a24b2cc1-b021-4219-94bf-ed3b72821446\",\"type\":\"WheelZoomTool\"},{\"id\":\"d95b107c-ba13-40bf-b67a-e9604eb01aec\",\"type\":\"BoxZoomTool\"},{\"id\":\"b4255470-7c91-4383-a82c-aab7a68881a8\",\"type\":\"SaveTool\"},{\"id\":\"9665cfae-3ba7-41a6-bc73-d2650717b2ab\",\"type\":\"ResetTool\"},{\"id\":\"f6a32090-6020-47b2-992b-2443b8190cae\",\"type\":\"HelpTool\"}]},\"id\":\"91ce9aac-543e-4d2f-b7e7-800fcae4a0e0\",\"type\":\"Toolbar\"},{\"attributes\":{\"plot\":{\"id\":\"ffbb0b77-05de-4218-9519-4004ad9a4c17\",\"subtype\":\"Figure\",\"type\":\"Plot\"},\"ticker\":{\"id\":\"6ad5ac52-14e3-4a05-a9f4-df1390996fe9\",\"type\":\"BasicTicker\"}},\"id\":\"9112c1ba-bc30-49a3-abad-f1f4944eb7bb\",\"type\":\"Grid\"},{\"attributes\":{\"bottom_units\":\"screen\",\"fill_alpha\":{\"value\":0.5},\"fill_color\":{\"value\":\"lightgrey\"},\"left_units\":\"screen\",\"level\":\"overlay\",\"line_alpha\":{\"value\":1.0},\"line_color\":{\"value\":\"black\"},\"line_dash\":[4,4],\"line_width\":{\"value\":2},\"plot\":null,\"render_mode\":\"css\",\"right_units\":\"screen\",\"top_units\":\"screen\"},\"id\":\"06ae9e0f-8fe0-4f83-98ce-f1b16cb3732b\",\"type\":\"BoxAnnotation\"},{\"attributes\":{\"callback\":null,\"column_names\":[\"right\",\"bottom\",\"top\",\"left\"],\"data\":{\"bottom\":[945,945,945,945,945,945,945],\"left\":[135809835,135957574,136289083,136499189,136545415,136597196,136664254],\"right\":[135928279,136288182,136482839,136542633,136594750,136634047,136743222],\"top\":[975,975,975,975,975,975,975]}},\"id\":\"89190ca0-9652-40a5-9e83-e3e1ba2e06e5\",\"type\":\"ColumnDataSource\"},{\"attributes\":{\"plot\":{\"id\":\"ffbb0b77-05de-4218-9519-4004ad9a4c17\",\"subtype\":\"Figure\",\"type\":\"Plot\"}},\"id\":\"7243aea8-4fdc-4fe3-842e-09a3d7721330\",\"type\":\"PanTool\"},{\"attributes\":{\"bottom\":{\"field\":\"bottom\"},\"fill_alpha\":{\"value\":0.1},\"fill_color\":{\"value\":\"#1f77b4\"},\"left\":{\"field\":\"left\"},\"line_alpha\":{\"value\":0.1},\"line_color\":{\"value\":\"#1f77b4\"},\"right\":{\"field\":\"right\"},\"top\":{\"field\":\"top\"}},\"id\":\"3a64b30d-a6ab-4437-a9ab-efa2d6b0bba4\",\"type\":\"Quad\"},{\"attributes\":{\"data_source\":{\"id\":\"89190ca0-9652-40a5-9e83-e3e1ba2e06e5\",\"type\":\"ColumnDataSource\"},\"glyph\":{\"id\":\"397b35d2-ef2e-4646-bda2-6c613b17b4dc\",\"type\":\"Quad\"},\"hover_glyph\":null,\"nonselection_glyph\":{\"id\":\"7a7cf8e0-af05-4b82-91f9-0aa628f95350\",\"type\":\"Quad\"},\"selection_glyph\":null},\"id\":\"9b139793-a670-44f2-80ad-9de5e5fe901f\",\"type\":\"GlyphRenderer\"},{\"attributes\":{\"bottom\":{\"field\":\"bottom\"},\"fill_color\":{\"field\":\"fill_color\"},\"left\":{\"field\":\"left\"},\"line_color\":{\"value\":null},\"right\":{\"field\":\"right\"},\"top\":{\"field\":\"top\"}},\"id\":\"214a5df3-f7af-4207-9379-af3f273eb238\",\"type\":\"Quad\"},{\"attributes\":{\"data_source\":{\"id\":\"9ddd665d-03fa-4fe9-a02f-e6995b0150f7\",\"type\":\"ColumnDataSource\"},\"glyph\":{\"id\":\"214a5df3-f7af-4207-9379-af3f273eb238\",\"type\":\"Quad\"},\"hover_glyph\":null,\"nonselection_glyph\":{\"id\":\"3a64b30d-a6ab-4437-a9ab-efa2d6b0bba4\",\"type\":\"Quad\"},\"selection_glyph\":null},\"id\":\"a3547f15-2524-489a-9b91-98f81f407669\",\"type\":\"GlyphRenderer\"},{\"attributes\":{},\"id\":\"1cb7aba7-a219-44a6-a7a4-c573062860f7\",\"type\":\"BasicTickFormatter\"},{\"attributes\":{},\"id\":\"6ad5ac52-14e3-4a05-a9f4-df1390996fe9\",\"type\":\"BasicTicker\"},{\"attributes\":{\"line_color\":{\"field\":\"line_color\"},\"xs\":{\"field\":\"xs\"},\"ys\":{\"field\":\"ys\"}},\"id\":\"f0883b44-362d-43a7-bb97-88b1d677d1ee\",\"type\":\"MultiLine\"},{\"attributes\":{\"bottom\":{\"field\":\"bottom\"},\"fill_color\":{\"value\":\"white\"},\"left\":{\"field\":\"left\"},\"right\":{\"field\":\"right\"},\"top\":{\"field\":\"top\"}},\"id\":\"397b35d2-ef2e-4646-bda2-6c613b17b4dc\",\"type\":\"Quad\"},{\"attributes\":{\"dimension\":1,\"plot\":{\"id\":\"ffbb0b77-05de-4218-9519-4004ad9a4c17\",\"subtype\":\"Figure\",\"type\":\"Plot\"},\"ticker\":{\"id\":\"7b6736e8-e632-4f61-b5b4-16b12f79d4db\",\"type\":\"BasicTicker\"}},\"id\":\"0435bf75-f524-4824-8dae-f6b3c2c0a77e\",\"type\":\"Grid\"},{\"attributes\":{\"overlay\":{\"id\":\"06ae9e0f-8fe0-4f83-98ce-f1b16cb3732b\",\"type\":\"BoxAnnotation\"},\"plot\":{\"id\":\"ffbb0b77-05de-4218-9519-4004ad9a4c17\",\"subtype\":\"Figure\",\"type\":\"Plot\"}},\"id\":\"d95b107c-ba13-40bf-b67a-e9604eb01aec\",\"type\":\"BoxZoomTool\"},{\"attributes\":{\"formatter\":{\"id\":\"1cb7aba7-a219-44a6-a7a4-c573062860f7\",\"type\":\"BasicTickFormatter\"},\"plot\":{\"id\":\"ffbb0b77-05de-4218-9519-4004ad9a4c17\",\"subtype\":\"Figure\",\"type\":\"Plot\"},\"ticker\":{\"id\":\"6ad5ac52-14e3-4a05-a9f4-df1390996fe9\",\"type\":\"BasicTicker\"}},\"id\":\"4ee36d68-1e2b-4a91-8555-cde237e272e9\",\"type\":\"LinearAxis\"},{\"attributes\":{\"callback\":null,\"column_names\":[\"y\",\"x\",\"vals\"],\"data\":{\"vals\":[\"RAB3GAP1\",\"ZRANB3\",\"R3HDM1\",\"UBXN4\",\"LCT\",\"MCM6\",\"DARS\"],\"x\":[135869057.0,136122878.0,136385961.0,136520911.0,136570082.5,136615621.5,136703738.0],\"y\":[960.0,960.0,960.0,960.0,960.0,960.0,960.0]}},\"id\":\"b9f5ed84-5262-4177-9a3a-06357bf197e1\",\"type\":\"ColumnDataSource\"},{\"attributes\":{},\"id\":\"7b6736e8-e632-4f61-b5b4-16b12f79d4db\",\"type\":\"BasicTicker\"},{\"attributes\":{\"callback\":null,\"end\":1000},\"id\":\"02f388c8-aca6-4137-8189-e719dc434f49\",\"type\":\"Range1d\"},{\"attributes\":{},\"id\":\"7c84d423-c8bf-458d-ad10-97e252a9bc06\",\"type\":\"BasicTickFormatter\"},{\"attributes\":{\"level\":\"glyph\",\"plot\":{\"id\":\"ffbb0b77-05de-4218-9519-4004ad9a4c17\",\"subtype\":\"Figure\",\"type\":\"Plot\"},\"source\":{\"id\":\"45c12860-faea-4b11-ba98-2caa384225dc\",\"type\":\"ColumnDataSource\"},\"text\":{\"field\":\"vals\"},\"text_font_size\":{\"value\":\"9pt\"},\"text_font_style\":\"bold\",\"x\":{\"field\":\"x\"},\"y\":{\"field\":\"y\"}},\"id\":\"756c58e8-5d99-4e13-93df-023109ab760e\",\"type\":\"LabelSet\"},{\"attributes\":{},\"id\":\"ef90b18b-8124-4bbb-a7ff-230bf1ab4481\",\"type\":\"ToolEvents\"},{\"attributes\":{\"plot\":{\"id\":\"ffbb0b77-05de-4218-9519-4004ad9a4c17\",\"subtype\":\"Figure\",\"type\":\"Plot\"}},\"id\":\"a24b2cc1-b021-4219-94bf-ed3b72821446\",\"type\":\"WheelZoomTool\"}],\"root_ids\":[\"ffbb0b77-05de-4218-9519-4004ad9a4c17\"]},\"title\":\"Bokeh Application\",\"version\":\"0.12.0\"}};\n",
       "            var render_items = [{\"docid\":\"6772d475-f8d2-4d58-9e46-8b190cc823ad\",\"elementid\":\"8c60efad-a55e-44d1-b868-0d7eb0855839\",\"modelid\":\"ffbb0b77-05de-4218-9519-4004ad9a4c17\",\"notebook_comms_target\":\"58081acf-9cf4-4a0f-8ff6-453a0504c40f\"}];\n",
       "            \n",
       "            Bokeh.embed.embed_items(docs_json, render_items);\n",
       "        });\n",
       "      },\n",
       "      function(Bokeh) {\n",
       "      }\n",
       "    ];\n",
       "  \n",
       "    function run_inline_js() {\n",
       "      for (var i = 0; i < inline_js.length; i++) {\n",
       "        inline_js[i](window.Bokeh);\n",
       "      }\n",
       "    }\n",
       "  \n",
       "    if (window._bokeh_is_loading === 0) {\n",
       "      console.log(\"Bokeh: BokehJS loaded, going straight to plotting\");\n",
       "      run_inline_js();\n",
       "    } else {\n",
       "      load_libs(js_urls, function() {\n",
       "        console.log(\"Bokeh: BokehJS plotting callback run at\", now());\n",
       "        run_inline_js();\n",
       "      });\n",
       "    }\n",
       "  }(this));\n",
       "</script>"
      ]
     },
     "metadata": {},
     "output_type": "display_data"
    },
    {
     "data": {
      "text/html": [
       "<p><code>&lt;Bokeh Notebook handle for <strong>In[71]</strong>&gt;</code></p>"
      ],
      "text/plain": [
       "<bokeh.io._CommsHandle at 0x7f3f6010c790>"
      ]
     },
     "execution_count": 71,
     "metadata": {},
     "output_type": "execute_result"
    }
   ],
   "source": [
    "plt_obj = dm.superset_allele_mask(am_9, min_match=0.5)\n",
    "plt = plt_obj.do_plot()\n",
    "show(plt)"
   ]
  },
  {
   "cell_type": "code",
   "execution_count": 72,
   "metadata": {
    "collapsed": false
   },
   "outputs": [
    {
     "data": {
      "text/html": [
       "<table>\n",
       "<thead><tr><th style=\"text-align:center\">index</th><th style=\"text-align:center\">first</th><th style=\"text-align:center\">length</th><th style=\"text-align:center\">snps</th><th style=\"text-align:center\" colspan=2>alleles</th><th style=\"text-align:center\" colspan=2>matches</th><th style=\"text-align:center\" colspan=2>afr</th><th style=\"text-align:center\" colspan=2>afx</th><th style=\"text-align:center\" colspan=2>amr</th><th style=\"text-align:center\" colspan=2>eas</th><th style=\"text-align:center\" colspan=2>eur</th><th style=\"text-align:center\" colspan=2>sas</th><th style=\"text-align:center\" colspan=2>sax</th></tr></thead>\n",
       "<tr class=\"even\"><td style=\"text-align: right;\">354170</td><td style=\"text-align: right;\">136,682,274</td><td style=\"text-align: right;\">93,624</td><td style=\"text-align: right;\">7</td><td style=\"text-align: right;\">1868</td><td style=\"text-align: right;\">0.00</td><td style=\"text-align: right;\">8</td><td style=\"text-align: right;\">0.89</td><td style=\"text-align: right;\">3</td><td style=\"text-align: right;\">1.86</td><td style=\"text-align: right;\">4</td><td style=\"text-align: right;\">7.97</td><td style=\"text-align: right;\">1</td><td style=\"text-align: right;\">0.90</td><td style=\"text-align: right;\">0</td><td style=\"text-align: right;\">0.00</td><td style=\"text-align: right;\">0</td><td style=\"text-align: right;\">0.00</td><td style=\"text-align: right;\">0</td><td style=\"text-align: right;\">0.00</td><td style=\"text-align: right;\">0</td><td style=\"text-align: right;\">0.00</td></tr>\n",
       "<tr><td style=\"text-align: right;\">354033</td><td style=\"text-align: right;\">136,588,031</td><td style=\"text-align: right;\">5,647</td><td style=\"text-align: right;\">7</td><td style=\"text-align: right;\">1760</td><td style=\"text-align: right;\">0.00</td><td style=\"text-align: right;\">8</td><td style=\"text-align: right;\">0.89</td><td style=\"text-align: right;\">3</td><td style=\"text-align: right;\">1.86</td><td style=\"text-align: right;\">4</td><td style=\"text-align: right;\">7.97</td><td style=\"text-align: right;\">1</td><td style=\"text-align: right;\">0.90</td><td style=\"text-align: right;\">0</td><td style=\"text-align: right;\">0.00</td><td style=\"text-align: right;\">0</td><td style=\"text-align: right;\">0.00</td><td style=\"text-align: right;\">0</td><td style=\"text-align: right;\">0.00</td><td style=\"text-align: right;\">0</td><td style=\"text-align: right;\">0.00</td></tr>\n",
       "<tr class=\"even\"><td style=\"text-align: right;\">353244</td><td style=\"text-align: right;\">135,758,231</td><td style=\"text-align: right;\">618,284</td><td style=\"text-align: right;\">117</td><td style=\"text-align: right;\">1685</td><td style=\"text-align: right;\">0.01</td><td style=\"text-align: right;\">9</td><td style=\"text-align: right;\">1.00</td><td style=\"text-align: right;\">4</td><td style=\"text-align: right;\">2.21</td><td style=\"text-align: right;\">4</td><td style=\"text-align: right;\">7.09</td><td style=\"text-align: right;\">1</td><td style=\"text-align: right;\">0.80</td><td style=\"text-align: right;\">0</td><td style=\"text-align: right;\">0.00</td><td style=\"text-align: right;\">0</td><td style=\"text-align: right;\">0.00</td><td style=\"text-align: right;\">0</td><td style=\"text-align: right;\">0.00</td><td style=\"text-align: right;\">0</td><td style=\"text-align: right;\">0.00</td></tr>\n",
       "<tr><td style=\"text-align: right;\">353478</td><td style=\"text-align: right;\">135,933,921</td><td style=\"text-align: right;\">434,642</td><td style=\"text-align: right;\">123</td><td style=\"text-align: right;\">1561</td><td style=\"text-align: right;\">0.01</td><td style=\"text-align: right;\">9</td><td style=\"text-align: right;\">1.00</td><td style=\"text-align: right;\">4</td><td style=\"text-align: right;\">2.21</td><td style=\"text-align: right;\">4</td><td style=\"text-align: right;\">7.09</td><td style=\"text-align: right;\">1</td><td style=\"text-align: right;\">0.80</td><td style=\"text-align: right;\">0</td><td style=\"text-align: right;\">0.00</td><td style=\"text-align: right;\">0</td><td style=\"text-align: right;\">0.00</td><td style=\"text-align: right;\">0</td><td style=\"text-align: right;\">0.00</td><td style=\"text-align: right;\">0</td><td style=\"text-align: right;\">0.00</td></tr>\n",
       "<tr class=\"even\"><td style=\"text-align: right;\">353814</td><td style=\"text-align: right;\">136,406,646</td><td style=\"text-align: right;\">31,432</td><td style=\"text-align: right;\">5</td><td style=\"text-align: right;\">1460</td><td style=\"text-align: right;\">0.01</td><td style=\"text-align: right;\">9</td><td style=\"text-align: right;\">1.00</td><td style=\"text-align: right;\">4</td><td style=\"text-align: right;\">2.21</td><td style=\"text-align: right;\">4</td><td style=\"text-align: right;\">7.09</td><td style=\"text-align: right;\">1</td><td style=\"text-align: right;\">0.80</td><td style=\"text-align: right;\">0</td><td style=\"text-align: right;\">0.00</td><td style=\"text-align: right;\">0</td><td style=\"text-align: right;\">0.00</td><td style=\"text-align: right;\">0</td><td style=\"text-align: right;\">0.00</td><td style=\"text-align: right;\">0</td><td style=\"text-align: right;\">0.00</td></tr>\n",
       "<tr><td style=\"text-align: right;\">353729</td><td style=\"text-align: right;\">136,309,239</td><td style=\"text-align: right;\">52,321</td><td style=\"text-align: right;\">9</td><td style=\"text-align: right;\">887</td><td style=\"text-align: right;\">0.01</td><td style=\"text-align: right;\">9</td><td style=\"text-align: right;\">1.00</td><td style=\"text-align: right;\">4</td><td style=\"text-align: right;\">2.21</td><td style=\"text-align: right;\">4</td><td style=\"text-align: right;\">7.09</td><td style=\"text-align: right;\">1</td><td style=\"text-align: right;\">0.80</td><td style=\"text-align: right;\">0</td><td style=\"text-align: right;\">0.00</td><td style=\"text-align: right;\">0</td><td style=\"text-align: right;\">0.00</td><td style=\"text-align: right;\">0</td><td style=\"text-align: right;\">0.00</td><td style=\"text-align: right;\">0</td><td style=\"text-align: right;\">0.00</td></tr>\n",
       "<tr class=\"even\"><td style=\"text-align: right;\">353851</td><td style=\"text-align: right;\">136,448,855</td><td style=\"text-align: right;\">17,976</td><td style=\"text-align: right;\">4</td><td style=\"text-align: right;\">612</td><td style=\"text-align: right;\">0.01</td><td style=\"text-align: right;\">9</td><td style=\"text-align: right;\">1.00</td><td style=\"text-align: right;\">4</td><td style=\"text-align: right;\">2.21</td><td style=\"text-align: right;\">4</td><td style=\"text-align: right;\">7.09</td><td style=\"text-align: right;\">1</td><td style=\"text-align: right;\">0.80</td><td style=\"text-align: right;\">0</td><td style=\"text-align: right;\">0.00</td><td style=\"text-align: right;\">0</td><td style=\"text-align: right;\">0.00</td><td style=\"text-align: right;\">0</td><td style=\"text-align: right;\">0.00</td><td style=\"text-align: right;\">0</td><td style=\"text-align: right;\">0.00</td></tr>\n",
       "<tr><td style=\"text-align: right;\">353764</td><td style=\"text-align: right;\">136,364,916</td><td style=\"text-align: right;\">22,977</td><td style=\"text-align: right;\">5</td><td style=\"text-align: right;\">588</td><td style=\"text-align: right;\">0.02</td><td style=\"text-align: right;\">9</td><td style=\"text-align: right;\">1.00</td><td style=\"text-align: right;\">4</td><td style=\"text-align: right;\">2.21</td><td style=\"text-align: right;\">4</td><td style=\"text-align: right;\">7.09</td><td style=\"text-align: right;\">1</td><td style=\"text-align: right;\">0.80</td><td style=\"text-align: right;\">0</td><td style=\"text-align: right;\">0.00</td><td style=\"text-align: right;\">0</td><td style=\"text-align: right;\">0.00</td><td style=\"text-align: right;\">0</td><td style=\"text-align: right;\">0.00</td><td style=\"text-align: right;\">0</td><td style=\"text-align: right;\">0.00</td></tr>\n",
       "<tr class=\"even\"><td style=\"text-align: right;\">354061</td><td style=\"text-align: right;\">136,603,638</td><td style=\"text-align: right;\">28,487</td><td style=\"text-align: right;\">16</td><td style=\"text-align: right;\">511</td><td style=\"text-align: right;\">0.02</td><td style=\"text-align: right;\">8</td><td style=\"text-align: right;\">0.89</td><td style=\"text-align: right;\">3</td><td style=\"text-align: right;\">1.86</td><td style=\"text-align: right;\">4</td><td style=\"text-align: right;\">7.97</td><td style=\"text-align: right;\">1</td><td style=\"text-align: right;\">0.90</td><td style=\"text-align: right;\">0</td><td style=\"text-align: right;\">0.00</td><td style=\"text-align: right;\">0</td><td style=\"text-align: right;\">0.00</td><td style=\"text-align: right;\">0</td><td style=\"text-align: right;\">0.00</td><td style=\"text-align: right;\">0</td><td style=\"text-align: right;\">0.00</td></tr>\n",
       "<tr><td style=\"text-align: right;\">353614</td><td style=\"text-align: right;\">136,115,507</td><td style=\"text-align: right;\">269,773</td><td style=\"text-align: right;\">28</td><td style=\"text-align: right;\">434</td><td style=\"text-align: right;\">0.02</td><td style=\"text-align: right;\">9</td><td style=\"text-align: right;\">1.00</td><td style=\"text-align: right;\">4</td><td style=\"text-align: right;\">2.21</td><td style=\"text-align: right;\">4</td><td style=\"text-align: right;\">7.09</td><td style=\"text-align: right;\">1</td><td style=\"text-align: right;\">0.80</td><td style=\"text-align: right;\">0</td><td style=\"text-align: right;\">0.00</td><td style=\"text-align: right;\">0</td><td style=\"text-align: right;\">0.00</td><td style=\"text-align: right;\">0</td><td style=\"text-align: right;\">0.00</td><td style=\"text-align: right;\">0</td><td style=\"text-align: right;\">0.00</td></tr>\n",
       "<tr class=\"even\"><td style=\"text-align: right;\">353804</td><td style=\"text-align: right;\">136,402,778</td><td style=\"text-align: right;\">90,652</td><td style=\"text-align: right;\">21</td><td style=\"text-align: right;\">332</td><td style=\"text-align: right;\">0.03</td><td style=\"text-align: right;\">9</td><td style=\"text-align: right;\">1.00</td><td style=\"text-align: right;\">4</td><td style=\"text-align: right;\">2.21</td><td style=\"text-align: right;\">4</td><td style=\"text-align: right;\">7.09</td><td style=\"text-align: right;\">1</td><td style=\"text-align: right;\">0.80</td><td style=\"text-align: right;\">0</td><td style=\"text-align: right;\">0.00</td><td style=\"text-align: right;\">0</td><td style=\"text-align: right;\">0.00</td><td style=\"text-align: right;\">0</td><td style=\"text-align: right;\">0.00</td><td style=\"text-align: right;\">0</td><td style=\"text-align: right;\">0.00</td></tr>\n",
       "<tr><td style=\"text-align: right;\">354057</td><td style=\"text-align: right;\">136,602,291</td><td style=\"text-align: right;\">27,696</td><td style=\"text-align: right;\">7</td><td style=\"text-align: right;\">226</td><td style=\"text-align: right;\">0.04</td><td style=\"text-align: right;\">8</td><td style=\"text-align: right;\">0.89</td><td style=\"text-align: right;\">3</td><td style=\"text-align: right;\">1.86</td><td style=\"text-align: right;\">4</td><td style=\"text-align: right;\">7.97</td><td style=\"text-align: right;\">1</td><td style=\"text-align: right;\">0.90</td><td style=\"text-align: right;\">0</td><td style=\"text-align: right;\">0.00</td><td style=\"text-align: right;\">0</td><td style=\"text-align: right;\">0.00</td><td style=\"text-align: right;\">0</td><td style=\"text-align: right;\">0.00</td><td style=\"text-align: right;\">0</td><td style=\"text-align: right;\">0.00</td></tr>\n",
       "<tr class=\"even\"><td style=\"text-align: right;\">353931</td><td style=\"text-align: right;\">136,509,361</td><td style=\"text-align: right;\">28,756</td><td style=\"text-align: right;\">11</td><td style=\"text-align: right;\">173</td><td style=\"text-align: right;\">0.05</td><td style=\"text-align: right;\">8</td><td style=\"text-align: right;\">0.89</td><td style=\"text-align: right;\">3</td><td style=\"text-align: right;\">1.86</td><td style=\"text-align: right;\">4</td><td style=\"text-align: right;\">7.97</td><td style=\"text-align: right;\">1</td><td style=\"text-align: right;\">0.90</td><td style=\"text-align: right;\">0</td><td style=\"text-align: right;\">0.00</td><td style=\"text-align: right;\">0</td><td style=\"text-align: right;\">0.00</td><td style=\"text-align: right;\">0</td><td style=\"text-align: right;\">0.00</td><td style=\"text-align: right;\">0</td><td style=\"text-align: right;\">0.00</td></tr>\n",
       "<tr><td style=\"text-align: right;\">353538</td><td style=\"text-align: right;\">136,008,173</td><td style=\"text-align: right;\">373,078</td><td style=\"text-align: right;\">70</td><td style=\"text-align: right;\">166</td><td style=\"text-align: right;\">0.05</td><td style=\"text-align: right;\">9</td><td style=\"text-align: right;\">1.00</td><td style=\"text-align: right;\">4</td><td style=\"text-align: right;\">2.21</td><td style=\"text-align: right;\">4</td><td style=\"text-align: right;\">7.09</td><td style=\"text-align: right;\">1</td><td style=\"text-align: right;\">0.80</td><td style=\"text-align: right;\">0</td><td style=\"text-align: right;\">0.00</td><td style=\"text-align: right;\">0</td><td style=\"text-align: right;\">0.00</td><td style=\"text-align: right;\">0</td><td style=\"text-align: right;\">0.00</td><td style=\"text-align: right;\">0</td><td style=\"text-align: right;\">0.00</td></tr>\n",
       "<tr class=\"even\"><td style=\"text-align: right;\">354036</td><td style=\"text-align: right;\">136,589,521</td><td style=\"text-align: right;\">52,491</td><td style=\"text-align: right;\">17</td><td style=\"text-align: right;\">127</td><td style=\"text-align: right;\">0.06</td><td style=\"text-align: right;\">8</td><td style=\"text-align: right;\">0.89</td><td style=\"text-align: right;\">3</td><td style=\"text-align: right;\">1.86</td><td style=\"text-align: right;\">4</td><td style=\"text-align: right;\">7.97</td><td style=\"text-align: right;\">1</td><td style=\"text-align: right;\">0.90</td><td style=\"text-align: right;\">0</td><td style=\"text-align: right;\">0.00</td><td style=\"text-align: right;\">0</td><td style=\"text-align: right;\">0.00</td><td style=\"text-align: right;\">0</td><td style=\"text-align: right;\">0.00</td><td style=\"text-align: right;\">0</td><td style=\"text-align: right;\">0.00</td></tr>\n",
       "<tr><td style=\"text-align: right;\">353910</td><td style=\"text-align: right;\">136,497,006</td><td style=\"text-align: right;\">91,732</td><td style=\"text-align: right;\">19</td><td style=\"text-align: right;\">77</td><td style=\"text-align: right;\">0.10</td><td style=\"text-align: right;\">8</td><td style=\"text-align: right;\">0.89</td><td style=\"text-align: right;\">3</td><td style=\"text-align: right;\">1.86</td><td style=\"text-align: right;\">4</td><td style=\"text-align: right;\">7.97</td><td style=\"text-align: right;\">1</td><td style=\"text-align: right;\">0.90</td><td style=\"text-align: right;\">0</td><td style=\"text-align: right;\">0.00</td><td style=\"text-align: right;\">0</td><td style=\"text-align: right;\">0.00</td><td style=\"text-align: right;\">0</td><td style=\"text-align: right;\">0.00</td><td style=\"text-align: right;\">0</td><td style=\"text-align: right;\">0.00</td></tr>\n",
       "<tr class=\"even\"><td style=\"text-align: right;\">353581</td><td style=\"text-align: right;\">136,056,699</td><td style=\"text-align: right;\">377,203</td><td style=\"text-align: right;\">5</td><td style=\"text-align: right;\">69</td><td style=\"text-align: right;\">0.12</td><td style=\"text-align: right;\">8</td><td style=\"text-align: right;\">0.89</td><td style=\"text-align: right;\">3</td><td style=\"text-align: right;\">1.86</td><td style=\"text-align: right;\">4</td><td style=\"text-align: right;\">7.97</td><td style=\"text-align: right;\">1</td><td style=\"text-align: right;\">0.90</td><td style=\"text-align: right;\">0</td><td style=\"text-align: right;\">0.00</td><td style=\"text-align: right;\">0</td><td style=\"text-align: right;\">0.00</td><td style=\"text-align: right;\">0</td><td style=\"text-align: right;\">0.00</td><td style=\"text-align: right;\">0</td><td style=\"text-align: right;\">0.00</td></tr>\n",
       "<tr><td style=\"text-align: right;\">353563</td><td style=\"text-align: right;\">136,033,448</td><td style=\"text-align: right;\">378,721</td><td style=\"text-align: right;\">7</td><td style=\"text-align: right;\">34</td><td style=\"text-align: right;\">0.26</td><td style=\"text-align: right;\">9</td><td style=\"text-align: right;\">1.00</td><td style=\"text-align: right;\">4</td><td style=\"text-align: right;\">2.21</td><td style=\"text-align: right;\">4</td><td style=\"text-align: right;\">7.09</td><td style=\"text-align: right;\">1</td><td style=\"text-align: right;\">0.80</td><td style=\"text-align: right;\">0</td><td style=\"text-align: right;\">0.00</td><td style=\"text-align: right;\">0</td><td style=\"text-align: right;\">0.00</td><td style=\"text-align: right;\">0</td><td style=\"text-align: right;\">0.00</td><td style=\"text-align: right;\">0</td><td style=\"text-align: right;\">0.00</td></tr>\n",
       "<tr class=\"even\"><td style=\"text-align: right;\">354101</td><td style=\"text-align: right;\">136,633,976</td><td style=\"text-align: right;\">108,844</td><td style=\"text-align: right;\">6</td><td style=\"text-align: right;\">27</td><td style=\"text-align: right;\">0.30</td><td style=\"text-align: right;\">8</td><td style=\"text-align: right;\">0.89</td><td style=\"text-align: right;\">3</td><td style=\"text-align: right;\">1.86</td><td style=\"text-align: right;\">4</td><td style=\"text-align: right;\">7.97</td><td style=\"text-align: right;\">1</td><td style=\"text-align: right;\">0.90</td><td style=\"text-align: right;\">0</td><td style=\"text-align: right;\">0.00</td><td style=\"text-align: right;\">0</td><td style=\"text-align: right;\">0.00</td><td style=\"text-align: right;\">0</td><td style=\"text-align: right;\">0.00</td><td style=\"text-align: right;\">0</td><td style=\"text-align: right;\">0.00</td></tr>\n",
       "<tr><td style=\"text-align: right;\">353496</td><td style=\"text-align: right;\">135,956,166</td><td style=\"text-align: right;\">528,513</td><td style=\"text-align: right;\">25</td><td style=\"text-align: right;\">27</td><td style=\"text-align: right;\">0.30</td><td style=\"text-align: right;\">8</td><td style=\"text-align: right;\">0.89</td><td style=\"text-align: right;\">3</td><td style=\"text-align: right;\">1.86</td><td style=\"text-align: right;\">4</td><td style=\"text-align: right;\">7.97</td><td style=\"text-align: right;\">1</td><td style=\"text-align: right;\">0.90</td><td style=\"text-align: right;\">0</td><td style=\"text-align: right;\">0.00</td><td style=\"text-align: right;\">0</td><td style=\"text-align: right;\">0.00</td><td style=\"text-align: right;\">0</td><td style=\"text-align: right;\">0.00</td><td style=\"text-align: right;\">0</td><td style=\"text-align: right;\">0.00</td></tr>\n",
       "</table>"
      ],
      "text/plain": [
       "<IPython.core.display.HTML object>"
      ]
     },
     "execution_count": 72,
     "metadata": {},
     "output_type": "execute_result"
    }
   ],
   "source": [
    "HTML(plt_obj.get_html())"
   ]
  },
  {
   "cell_type": "code",
   "execution_count": 73,
   "metadata": {
    "collapsed": false
   },
   "outputs": [
    {
     "data": {
      "text/plain": [
       "array([(0, 18), (1, 18), (2, 18), (3, 0), (4, 0), (5, 18), (6, 18),\n",
       "       (7, 18), (8, 18), (9, 18), (10, 18), (11, 18), (12, 18), (13, 18),\n",
       "       (14, 18), (15, 18), (16, 18), (17, 18), (18, 0), (19, 18), (20, 18),\n",
       "       (21, 0), (22, 18), (23, 0), (24, 0), (25, 0), (26, 0), (27, 0),\n",
       "       (28, 0), (29, 0), (30, 0), (31, 0), (32, 0), (33, 0), (34, 0),\n",
       "       (35, 0), (36, 0), (37, 0), (38, 0), (39, 0), (40, 18), (41, 0),\n",
       "       (42, 0), (43, 0), (44, 0), (45, 0), (46, 0), (47, 0), (48, 0),\n",
       "       (49, 0), (50, 0), (51, 0), (52, 0), (53, 0), (54, 0), (55, 0),\n",
       "       (56, 0), (57, 0), (58, 0), (59, 0), (60, 0), (61, 0)], \n",
       "      dtype=[('index', '<u2'), ('snp_count', '<u2')])"
      ]
     },
     "execution_count": 73,
     "metadata": {},
     "output_type": "execute_result"
    }
   ],
   "source": [
    "tf.alleles_per_snp_from_count(20)"
   ]
  },
  {
   "cell_type": "code",
   "execution_count": 74,
   "metadata": {
    "collapsed": true
   },
   "outputs": [],
   "source": [
    "am_18 = tf.am_from_spa_count_and_index(20,0)"
   ]
  },
  {
   "cell_type": "code",
   "execution_count": 75,
   "metadata": {
    "collapsed": false
   },
   "outputs": [
    {
     "data": {
      "text/html": [
       "\n",
       "\n",
       "    <div class=\"bk-root\">\n",
       "        <div class=\"plotdiv\" id=\"d294e8d7-022e-41a7-98f6-8ed957858642\"></div>\n",
       "    </div>\n",
       "<script type=\"text/javascript\">\n",
       "  \n",
       "  (function(global) {\n",
       "    function now() {\n",
       "      return new Date();\n",
       "    }\n",
       "  \n",
       "    if (typeof (window._bokeh_onload_callbacks) === \"undefined\") {\n",
       "      window._bokeh_onload_callbacks = [];\n",
       "    }\n",
       "  \n",
       "    function run_callbacks() {\n",
       "      window._bokeh_onload_callbacks.forEach(function(callback) { callback() });\n",
       "      delete window._bokeh_onload_callbacks\n",
       "      console.info(\"Bokeh: all callbacks have finished\");\n",
       "    }\n",
       "  \n",
       "    function load_libs(js_urls, callback) {\n",
       "      window._bokeh_onload_callbacks.push(callback);\n",
       "      if (window._bokeh_is_loading > 0) {\n",
       "        console.log(\"Bokeh: BokehJS is being loaded, scheduling callback at\", now());\n",
       "        return null;\n",
       "      }\n",
       "      if (js_urls == null || js_urls.length === 0) {\n",
       "        run_callbacks();\n",
       "        return null;\n",
       "      }\n",
       "      console.log(\"Bokeh: BokehJS not loaded, scheduling load and callback at\", now());\n",
       "      window._bokeh_is_loading = js_urls.length;\n",
       "      for (var i = 0; i < js_urls.length; i++) {\n",
       "        var url = js_urls[i];\n",
       "        var s = document.createElement('script');\n",
       "        s.src = url;\n",
       "        s.async = false;\n",
       "        s.onreadystatechange = s.onload = function() {\n",
       "          window._bokeh_is_loading--;\n",
       "          if (window._bokeh_is_loading === 0) {\n",
       "            console.log(\"Bokeh: all BokehJS libraries loaded\");\n",
       "            run_callbacks()\n",
       "          }\n",
       "        };\n",
       "        s.onerror = function() {\n",
       "          console.warn(\"failed to load library \" + url);\n",
       "        };\n",
       "        console.log(\"Bokeh: injecting script tag for BokehJS library: \", url);\n",
       "        document.getElementsByTagName(\"head\")[0].appendChild(s);\n",
       "      }\n",
       "    };var element = document.getElementById(\"d294e8d7-022e-41a7-98f6-8ed957858642\");\n",
       "    if (element == null) {\n",
       "      console.log(\"Bokeh: ERROR: autoload.js configured with elementid 'd294e8d7-022e-41a7-98f6-8ed957858642' but no matching script tag was found. \")\n",
       "      return false;\n",
       "    }\n",
       "  \n",
       "    var js_urls = [];\n",
       "  \n",
       "    var inline_js = [\n",
       "      function(Bokeh) {\n",
       "        Bokeh.$(function() {\n",
       "            var docs_json = {\"cff34847-0813-43e2-a20c-fed6c06db731\":{\"roots\":{\"references\":[{\"attributes\":{\"callback\":null,\"column_names\":[\"right\",\"bottom\",\"top\",\"left\"],\"data\":{\"bottom\":[1045,1045,1045,1045,1045,1045,1045],\"left\":[135809835,135957574,136289083,136499189,136545415,136597196,136664254],\"right\":[135928279,136288182,136482839,136542633,136594750,136634047,136743222],\"top\":[1075,1075,1075,1075,1075,1075,1075]}},\"id\":\"be4eca17-be3b-4a1f-b2d4-5ec465320376\",\"type\":\"ColumnDataSource\"},{\"attributes\":{\"line_alpha\":{\"value\":0.1},\"line_color\":{\"value\":\"#1f77b4\"},\"xs\":{\"field\":\"xs\"},\"ys\":{\"field\":\"ys\"}},\"id\":\"f318e1be-847f-470a-8089-a45f1ffb7051\",\"type\":\"MultiLine\"},{\"attributes\":{\"formatter\":{\"id\":\"5d7971a8-7a7c-4980-bb3d-898116729085\",\"type\":\"BasicTickFormatter\"},\"plot\":{\"id\":\"482494dc-cc63-4a96-a78b-9c054e5b8e35\",\"subtype\":\"Figure\",\"type\":\"Plot\"},\"ticker\":{\"id\":\"492e915d-983d-4ad7-8e57-bfc7c37544b4\",\"type\":\"BasicTicker\"},\"visible\":null},\"id\":\"4cac213d-d90a-4bbd-913e-9aaebb54e4d3\",\"type\":\"LinearAxis\"},{\"attributes\":{},\"id\":\"492e915d-983d-4ad7-8e57-bfc7c37544b4\",\"type\":\"BasicTicker\"},{\"attributes\":{\"level\":\"glyph\",\"plot\":{\"id\":\"482494dc-cc63-4a96-a78b-9c054e5b8e35\",\"subtype\":\"Figure\",\"type\":\"Plot\"},\"source\":{\"id\":\"ac52acbc-27e6-426f-aabd-453e4a22fcf5\",\"type\":\"ColumnDataSource\"},\"text\":{\"field\":\"vals\"},\"text_align\":\"center\",\"text_baseline\":\"middle\",\"text_font_size\":{\"value\":\"8pt\"},\"x\":{\"field\":\"x\"},\"y\":{\"field\":\"y\"}},\"id\":\"0f753477-97a4-4da5-be23-977634960305\",\"type\":\"LabelSet\"},{\"attributes\":{\"plot\":{\"id\":\"482494dc-cc63-4a96-a78b-9c054e5b8e35\",\"subtype\":\"Figure\",\"type\":\"Plot\"}},\"id\":\"317de330-e182-4720-bb9b-333bbf0f4a0b\",\"type\":\"HelpTool\"},{\"attributes\":{\"bottom\":{\"field\":\"bottom\"},\"fill_color\":{\"field\":\"fill_color\"},\"left\":{\"field\":\"left\"},\"line_color\":{\"value\":null},\"right\":{\"field\":\"right\"},\"top\":{\"field\":\"top\"}},\"id\":\"e5736e6b-391b-4fb8-bb09-80576b626dc3\",\"type\":\"Quad\"},{\"attributes\":{\"active_drag\":\"auto\",\"active_scroll\":\"auto\",\"active_tap\":\"auto\",\"tools\":[{\"id\":\"1ee09e77-b3f0-420f-ac57-6a870fceb79b\",\"type\":\"PanTool\"},{\"id\":\"e616299d-9dfe-4820-aec6-da8b1a2d562a\",\"type\":\"WheelZoomTool\"},{\"id\":\"5cf87304-165a-4b73-a33b-8ab431f4d3f8\",\"type\":\"BoxZoomTool\"},{\"id\":\"17a8e01a-ae54-4cf6-ad84-423eaa706103\",\"type\":\"SaveTool\"},{\"id\":\"cf6ecaae-74b4-4170-ac37-444d02e35a2b\",\"type\":\"ResetTool\"},{\"id\":\"317de330-e182-4720-bb9b-333bbf0f4a0b\",\"type\":\"HelpTool\"}]},\"id\":\"9cea8213-f9e1-411a-8f95-ae3f7e186e89\",\"type\":\"Toolbar\"},{\"attributes\":{},\"id\":\"de9a6c63-7a79-4ec2-a868-62c5ea2eec8f\",\"type\":\"ToolEvents\"},{\"attributes\":{\"plot\":{\"id\":\"482494dc-cc63-4a96-a78b-9c054e5b8e35\",\"subtype\":\"Figure\",\"type\":\"Plot\"}},\"id\":\"e616299d-9dfe-4820-aec6-da8b1a2d562a\",\"type\":\"WheelZoomTool\"},{\"attributes\":{\"plot\":{\"id\":\"482494dc-cc63-4a96-a78b-9c054e5b8e35\",\"subtype\":\"Figure\",\"type\":\"Plot\"}},\"id\":\"cf6ecaae-74b4-4170-ac37-444d02e35a2b\",\"type\":\"ResetTool\"},{\"attributes\":{\"level\":\"glyph\",\"plot\":{\"id\":\"482494dc-cc63-4a96-a78b-9c054e5b8e35\",\"subtype\":\"Figure\",\"type\":\"Plot\"},\"source\":{\"id\":\"3f724b32-62c3-4d9f-8116-96b7cfc85274\",\"type\":\"ColumnDataSource\"},\"text\":{\"field\":\"vals\"},\"text_font_size\":{\"value\":\"9pt\"},\"text_font_style\":\"bold\",\"x\":{\"field\":\"x\"},\"y\":{\"field\":\"y\"}},\"id\":\"5e8264a1-4f1b-47e8-a0c6-f0c23be85210\",\"type\":\"LabelSet\"},{\"attributes\":{\"callback\":null,\"column_names\":[\"right\",\"bottom\",\"top\",\"left\",\"fill_color\"],\"data\":{\"bottom\":[950,850,50,350,150,250,450,650,550,450,850,650,350,850,450,750,950,350,450,550,150,650,750,850,950],\"fill_color\":[\"#808080\",\"#c46161\",\"#ff0000\",\"#ff0000\",\"#ff0000\",\"#ff0000\",\"#ff0000\",\"#ff0000\",\"#ff0000\",\"#ff0000\",\"#808080\",\"#ff0000\",\"#ff0000\",\"#808080\",\"#ff0000\",\"#808080\",\"#c46161\",\"#ff0000\",\"#ff0000\",\"#c46161\",\"#ff0000\",\"#808080\",\"#808080\",\"#808080\",\"#61c461\"],\"left\":[135758231,135933921,135956166,136008173,136033448,136056699,136115507,136309239,136364916,136402778,136406646,136448855,136497006,136506375,136509361,136535876,136588031,136589521,136602291,136603638,136633976,136652491,136652953,136653925,136682274],\"right\":[136376515,136368563,136484679,136381251,136412169,136433902,136385280,136361560,136387893,136493430,136438078,136466831,136588738,136538939,136538117,136554890,136593678,136642012,136629987,136632125,136742820,136732772,136761175,136761853,136775898],\"top\":[996,895,60,376,162,268,484,690,587,482,895,687,369,894,476,794,996,373,478,585,160,692,794,895,997]}},\"id\":\"b032e44e-c483-4b97-b060-f26ee0f405d1\",\"type\":\"ColumnDataSource\"},{\"attributes\":{\"formatter\":{\"id\":\"13c156f7-e80a-44c5-aff4-dada5164233a\",\"type\":\"BasicTickFormatter\"},\"plot\":{\"id\":\"482494dc-cc63-4a96-a78b-9c054e5b8e35\",\"subtype\":\"Figure\",\"type\":\"Plot\"},\"ticker\":{\"id\":\"53d32c8f-8ba7-47c0-916a-26db98843f74\",\"type\":\"BasicTicker\"}},\"id\":\"e554224a-1db9-401e-8ffa-1a83bcb3013d\",\"type\":\"LinearAxis\"},{\"attributes\":{\"plot\":{\"id\":\"482494dc-cc63-4a96-a78b-9c054e5b8e35\",\"subtype\":\"Figure\",\"type\":\"Plot\"},\"ticker\":{\"id\":\"53d32c8f-8ba7-47c0-916a-26db98843f74\",\"type\":\"BasicTicker\"}},\"id\":\"7d121d62-7e70-4f3b-8c68-309540c7ffc1\",\"type\":\"Grid\"},{\"attributes\":{\"line_color\":{\"field\":\"line_color\"},\"xs\":{\"field\":\"xs\"},\"ys\":{\"field\":\"ys\"}},\"id\":\"cf45faa7-0585-410e-b29f-a97d4dc08601\",\"type\":\"MultiLine\"},{\"attributes\":{\"callback\":null,\"column_names\":[\"y\",\"x\",\"vals\"],\"data\":{\"vals\":[\"RAB3GAP1\",\"ZRANB3\",\"R3HDM1\",\"UBXN4\",\"LCT\",\"MCM6\",\"DARS\"],\"x\":[135869057.0,136122878.0,136385961.0,136520911.0,136570082.5,136615621.5,136703738.0],\"y\":[1060.0,1060.0,1060.0,1060.0,1060.0,1060.0,1060.0]}},\"id\":\"ac52acbc-27e6-426f-aabd-453e4a22fcf5\",\"type\":\"ColumnDataSource\"},{\"attributes\":{\"plot\":null,\"text\":null},\"id\":\"a66fb2ef-f273-43ff-aa11-cca166a227c9\",\"type\":\"Title\"},{\"attributes\":{\"callback\":null,\"end\":136786630,\"start\":135757320},\"id\":\"27b593ef-75b0-470f-919d-f5240e7fb248\",\"type\":\"Range1d\"},{\"attributes\":{\"bottom\":{\"field\":\"bottom\"},\"fill_alpha\":{\"value\":0.1},\"fill_color\":{\"value\":\"#1f77b4\"},\"left\":{\"field\":\"left\"},\"line_alpha\":{\"value\":0.1},\"line_color\":{\"value\":\"#1f77b4\"},\"right\":{\"field\":\"right\"},\"top\":{\"field\":\"top\"}},\"id\":\"c2e97fd9-0386-437a-9b68-9bdfc3e47fce\",\"type\":\"Quad\"},{\"attributes\":{\"callback\":null,\"column_names\":[\"xs\",\"ys\",\"line_color\"],\"data\":{\"line_color\":[\"black\",\"black\",\"black\",\"black\",\"black\",\"black\",\"black\",\"black\",\"black\",\"black\",\"black\",\"black\",\"black\",\"black\",\"black\",\"black\",\"black\",\"black\",\"black\",\"black\",\"black\",\"black\",\"black\",\"black\",\"black\",\"black\",\"black\",\"black\",\"black\",\"black\",\"black\",\"black\",\"black\",\"black\",\"black\",\"black\",\"black\",\"black\",\"black\",\"black\",\"black\",\"black\",\"black\",\"black\",\"black\",\"black\",\"black\",\"black\",\"black\",\"black\",\"black\",\"black\",\"black\",\"black\",\"black\",\"black\",\"black\",\"black\",\"black\",\"black\",\"black\",\"black\",\"black\",\"black\",\"black\",\"black\",\"black\",\"black\",\"black\",\"black\",\"black\",\"black\",\"black\",\"black\",\"black\",\"black\",\"black\",\"black\",\"black\",\"black\",\"black\",\"black\",\"black\",\"black\",\"black\",\"black\",\"black\",\"black\",\"black\",\"black\",\"black\",\"black\",\"black\",\"black\",\"black\",\"black\",\"black\",\"black\",\"black\",\"black\",\"black\",\"black\",\"black\",\"black\",\"black\",\"black\",\"black\",\"black\",\"black\",\"black\",\"black\",\"black\",\"black\",\"black\",\"black\",\"black\",\"black\",\"black\",\"black\",\"black\",\"black\",\"black\",\"black\",\"black\",\"black\",\"black\",\"black\",\"black\",\"black\",\"black\",\"black\",\"black\",\"black\",\"black\",\"black\",\"black\",\"black\",\"black\",\"black\",\"black\",\"black\",\"black\",\"black\",\"black\",\"black\",\"black\",\"black\",\"black\",\"black\",\"black\",\"black\",\"black\",\"black\",\"black\",\"black\",\"black\",\"black\",\"black\",\"black\",\"black\",\"black\",\"black\",\"black\",\"black\",\"black\",\"black\",\"black\",\"black\",\"black\",\"black\",\"black\",\"black\",\"black\",\"black\",\"black\",\"black\",\"black\",\"black\",\"black\",\"black\",\"black\",\"black\",\"black\",\"black\",\"black\",\"black\",\"black\",\"black\",\"black\",\"black\",\"black\",\"black\",\"black\",\"black\",\"black\",\"black\",\"black\",\"black\",\"black\",\"black\",\"black\",\"black\",\"black\",\"black\",\"black\",\"black\",\"black\",\"black\",\"black\",\"black\",\"black\",\"black\",\"black\",\"black\",\"black\",\"black\",\"black\",\"black\",\"black\",\"black\",\"black\",\"black\",\"black\",\"black\",\"black\",\"black\",\"black\",\"black\",\"black\",\"black\",\"black\",\"black\",\"black\",\"black\",\"black\",\"black\",\"black\",\"black\",\"black\",\"black\",\"black\",\"black\",\"black\",\"black\",\"black\",\"black\",\"black\",\"black\",\"black\",\"black\",\"black\",\"black\",\"black\",\"black\",\"black\",\"black\",\"black\",\"black\",\"black\",\"black\",\"black\",\"black\",\"black\",\"black\",\"black\",\"black\",\"black\",\"black\",\"black\",\"black\",\"black\",\"black\",\"black\",\"black\",\"black\",\"black\",\"black\",\"black\",\"black\",\"black\",\"black\",\"black\",\"black\",\"black\",\"black\",\"black\",\"black\",\"black\",\"black\",\"black\",\"black\",\"black\",\"black\",\"black\",\"black\",\"black\",\"black\",\"black\",\"black\",\"black\",\"black\",\"black\",\"black\",\"black\",\"black\",\"black\",\"black\",\"black\",\"black\",\"black\",\"black\",\"black\",\"black\",\"black\",\"black\",\"black\",\"black\",\"black\",\"black\",\"black\",\"black\",\"black\",\"black\",\"black\",\"black\",\"black\",\"black\",\"black\",\"black\",\"black\",\"black\",\"black\",\"black\",\"black\",\"black\",\"black\",\"black\",\"black\",\"black\",\"black\",\"black\",\"black\",\"black\",\"black\",\"black\",\"black\",\"black\",\"black\",\"black\",\"black\",\"black\",\"black\",\"black\",\"black\",\"black\",\"black\",\"black\",\"black\",\"black\",\"black\",\"black\",\"black\",\"black\",\"black\",\"black\",\"black\",\"black\",\"black\",\"black\",\"black\",\"black\",\"black\",\"black\",\"black\",\"black\",\"black\",\"black\",\"black\",\"black\",\"black\",\"black\",\"black\",\"black\",\"black\",\"black\",\"black\",\"black\",\"black\",\"black\",\"black\",\"black\",\"black\",\"black\",\"black\",\"black\",\"black\",\"black\",\"black\",\"black\",\"black\",\"black\",\"black\",\"black\",\"black\",\"black\",\"black\",\"black\",\"black\",\"black\",\"black\",\"black\",\"black\",\"black\",\"black\",\"black\",\"black\",\"black\",\"black\",\"black\",\"black\",\"black\",\"black\",\"black\",\"black\",\"black\",\"black\",\"black\",\"black\",\"black\",\"black\",\"black\",\"black\",\"black\",\"black\",\"black\",\"black\",\"black\",\"black\",\"black\",\"black\",\"black\",\"black\",\"black\",\"black\",\"black\",\"black\",\"black\",\"black\",\"black\",\"black\",\"black\",\"black\",\"black\",\"black\",\"black\",\"black\",\"black\",\"black\",\"black\",\"black\",\"black\",\"black\",\"black\",\"black\",\"black\",\"black\",\"black\",\"black\",\"black\",\"black\",\"black\",\"black\",\"black\",\"black\",\"black\",\"black\",\"black\",\"black\",\"black\",\"black\",\"black\",\"black\",\"black\",\"black\",\"black\",\"black\",\"black\",\"black\",\"black\",\"black\",\"black\",\"black\",\"black\",\"black\",\"black\",\"black\",\"black\",\"black\",\"black\",\"black\",\"black\",\"black\",\"black\",\"black\",\"black\",\"black\",\"black\",\"black\",\"black\",\"black\",\"black\",\"black\",\"black\",\"black\",\"black\",\"black\",\"black\",\"black\",\"black\",\"black\",\"black\",\"black\",\"black\",\"black\",\"black\",\"black\",\"black\",\"black\",\"black\",\"black\",\"black\",\"black\",\"black\",\"black\",\"black\",\"black\",\"black\",\"black\",\"black\",\"black\",\"black\",\"black\",\"black\",\"black\",\"black\",\"black\",\"black\",\"black\",\"black\",\"black\",\"black\",\"black\",\"black\",\"black\",\"black\"],\"xs\":[[135758231,135758231],[135758520,135758520],[135766072,135766072],[135773420,135773420],[135773446,135773446],[135773617,135773617],[135773692,135773692],[135774681,135774681],[135775049,135775049],[135776430,135776430],[135778656,135778656],[135780168,135780168],[135780587,135780587],[135781301,135781301],[135781522,135781522],[135781635,135781635],[135782456,135782456],[135783157,135783157],[135783366,135783366],[135783367,135783367],[135784227,135784227],[135784733,135784733],[135785066,135785066],[135785068,135785068],[135785149,135785149],[135787148,135787148],[135787642,135787642],[135789405,135789405],[135789472,135789472],[135789682,135789682],[135789784,135789784],[135792338,135792338],[135792528,135792528],[135793565,135793565],[135793684,135793684],[135793845,135793845],[135794367,135794367],[135794986,135794986],[135795040,135795040],[135795095,135795095],[135795150,135795150],[135795385,135795385],[135795396,135795396],[135795443,135795443],[135795595,135795595],[135796000,135796000],[135796155,135796155],[135796410,135796410],[135796965,135796965],[135797223,135797223],[135797747,135797747],[135798082,135798082],[135798758,135798758],[135799082,135799082],[135800085,135800085],[135800601,135800601],[135800757,135800757],[135801228,135801228],[135801956,135801956],[135802020,135802020],[135802028,135802028],[135802050,135802050],[135802148,135802148],[135803766,135803766],[135809241,135809241],[135812969,135812969],[135814716,135814716],[135818907,135818907],[135829432,135829432],[135832131,135832131],[135849613,135849613],[135853807,135853807],[135859923,135859923],[135860305,135860305],[135861497,135861497],[135863143,135863143],[135864294,135864294],[135871624,135871624],[135872646,135872646],[135874038,135874038],[135874622,135874622],[135878814,135878814],[135880013,135880013],[135884487,135884487],[135885357,135885357],[135893853,135893853],[135895809,135895809],[135895879,135895879],[135899069,135899069],[135909462,135909462],[135912977,135912977],[135914038,135914038],[135921839,135921839],[135925002,135925002],[135928312,135928312],[135935049,135935049],[135962711,135962711],[135984172,135984172],[135994753,135994753],[135994754,135994754],[136016079,136016079],[136027264,136027264],[136052004,136052004],[136100473,136100473],[136110129,136110129],[136166536,136166536],[136169799,136169799],[136191314,136191314],[136228887,136228887],[136238453,136238453],[136288273,136288273],[136292425,136292425],[136321951,136321951],[136324564,136324564],[136327299,136327299],[136327302,136327302],[136376515,136376515],[135933921,135933921],[135939824,135939824],[135941503,135941503],[135943900,135943900],[135945474,135945474],[135949715,135949715],[135956745,135956745],[135958693,135958693],[135967778,135967778],[135972093,135972093],[135973768,135973768],[135976498,135976498],[135978428,135978428],[135990031,135990031],[135992481,135992481],[135993925,135993925],[135994838,135994838],[136000253,136000253],[136003567,136003567],[136005477,136005477],[136005971,136005971],[136020977,136020977],[136027535,136027535],[136031588,136031588],[136032905,136032905],[136042480,136042480],[136043885,136043885],[136050471,136050471],[136052898,136052898],[136054815,136054815],[136056285,136056285],[136061560,136061560],[136063685,136063685],[136069060,136069060],[136072179,136072179],[136074233,136074233],[136080721,136080721],[136080822,136080822],[136088440,136088440],[136088643,136088643],[136092416,136092416],[136092869,136092869],[136094615,136094615],[136095505,136095505],[136095604,136095604],[136096766,136096766],[136097091,136097091],[136097394,136097394],[136100243,136100243],[136101823,136101823],[136106561,136106561],[136115501,136115501],[136122622,136122622],[136123014,136123014],[136123848,136123848],[136127100,136127100],[136127950,136127950],[136128630,136128630],[136129630,136129630],[136129791,136129791],[136131324,136131324],[136135383,136135383],[136135994,136135994],[136136224,136136224],[136136366,136136366],[136136440,136136440],[136138145,136138145],[136140568,136140568],[136145882,136145882],[136147948,136147948],[136148630,136148630],[136151485,136151485],[136152802,136152802],[136156753,136156753],[136157913,136157913],[136160902,136160902],[136165765,136165765],[136171649,136171649],[136173220,136173220],[136173735,136173735],[136174552,136174552],[136175692,136175692],[136176805,136176805],[136182484,136182484],[136183188,136183188],[136187252,136187252],[136187345,136187345],[136189475,136189475],[136197702,136197702],[136198435,136198435],[136202937,136202937],[136219999,136219999],[136221500,136221500],[136226626,136226626],[136228929,136228929],[136229598,136229598],[136238270,136238270],[136238346,136238346],[136240769,136240769],[136244171,136244171],[136249245,136249245],[136250285,136250285],[136254419,136254419],[136266241,136266241],[136267808,136267808],[136272074,136272074],[136277304,136277304],[136290607,136290607],[136290663,136290663],[136291310,136291310],[136296051,136296051],[136305392,136305392],[136306890,136306890],[136310803,136310803],[136324225,136324225],[136324465,136324465],[136327305,136327305],[136329618,136329618],[136333300,136333300],[136350089,136350089],[136354204,136354204],[136360455,136360455],[136368563,136368563],[135956166,135956166],[135981152,135981152],[136024681,136024681],[136038077,136038077],[136097226,136097226],[136101953,136101953],[136105148,136105148],[136106696,136106696],[136144471,136144471],[136165664,136165664],[136181766,136181766],[136254791,136254791],[136272424,136272424],[136285987,136285987],[136297654,136297654],[136301099,136301099],[136332306,136332306],[136342800,136342800],[136370517,136370517],[136378974,136378974],[136390282,136390282],[136406419,136406419],[136440339,136440339],[136481338,136481338],[136484679,136484679],[136008173,136008173],[136008446,136008446],[136014236,136014236],[136036997,136036997],[136037702,136037702],[136040078,136040078],[136046601,136046601],[136048235,136048235],[136050624,136050624],[136051458,136051458],[136053800,136053800],[136069666,136069666],[136070320,136070320],[136071268,136071268],[136085307,136085307],[136107478,136107478],[136116965,136116965],[136119487,136119487],[136133726,136133726],[136136964,136136964],[136137013,136137013],[136141365,136141365],[136151898,136151898],[136153771,136153771],[136157319,136157319],[136157786,136157786],[136160634,136160634],[136161546,136161546],[136161613,136161613],[136163239,136163239],[136166288,136166288],[136171078,136171078],[136174848,136174848],[136177152,136177152],[136188784,136188784],[136191498,136191498],[136192069,136192069],[136192914,136192914],[136202038,136202038],[136206988,136206988],[136208169,136208169],[136211700,136211700],[136214800,136214800],[136223293,136223293],[136238330,136238330],[136242667,136242667],[136249834,136249834],[136255405,136255405],[136261219,136261219],[136264924,136264924],[136265494,136265494],[136267386,136267386],[136267415,136267415],[136277320,136277320],[136279720,136279720],[136279756,136279756],[136283113,136283113],[136299020,136299020],[136304442,136304442],[136308679,136308679],[136319192,136319192],[136324543,136324543],[136330131,136330131],[136347919,136347919],[136353065,136353065],[136360339,136360339],[136370954,136370954],[136371399,136371399],[136376994,136376994],[136381251,136381251],[136033448,136033448],[136045628,136045628],[136081974,136081974],[136220746,136220746],[136322033,136322033],[136376416,136376416],[136412169,136412169],[136056699,136056699],[136316658,136316658],[136390794,136390794],[136421460,136421460],[136433902,136433902],[136115507,136115507],[136133627,136133627],[136135820,136135820],[136145676,136145676],[136166014,136166014],[136173684,136173684],[136176031,136176031],[136214307,136214307],[136215590,136215590],[136219265,136219265],[136219831,136219831],[136289471,136289471],[136298739,136298739],[136302296,136302296],[136302897,136302897],[136348702,136348702],[136348964,136348964],[136358707,136358707],[136359608,136359608],[136360402,136360402],[136365624,136365624],[136366970,136366970],[136367871,136367871],[136368393,136368393],[136370701,136370701],[136378539,136378539],[136378895,136378895],[136385280,136385280],[136309239,136309239],[136322472,136322472],[136323787,136323787],[136323862,136323862],[136326765,136326765],[136329500,136329500],[136331657,136331657],[136345356,136345356],[136361560,136361560],[136364916,136364916],[136369497,136369497],[136369580,136369580],[136380846,136380846],[136387893,136387893],[136402778,136402778],[136402779,136402779],[136402780,136402780],[136402781,136402781],[136403272,136403272],[136406356,136406356],[136407068,136407068],[136414770,136414770],[136415861,136415861],[136416407,136416407],[136420009,136420009],[136429439,136429439],[136438468,136438468],[136444542,136444542],[136448142,136448142],[136452728,136452728],[136453540,136453540],[136455296,136455296],[136458856,136458856],[136467559,136467559],[136493430,136493430],[136406646,136406646],[136408821,136408821],[136412472,136412472],[136416959,136416959],[136438078,136438078],[136448855,136448855],[136456090,136456090],[136456675,136456675],[136466831,136466831],[136497006,136497006],[136501661,136501661],[136504728,136504728],[136507878,136507878],[136545910,136545910],[136548951,136548951],[136554041,136554041],[136555054,136555054],[136555957,136555957],[136562876,136562876],[136563725,136563725],[136565901,136565901],[136567203,136567203],[136574563,136574563],[136581775,136581775],[136584623,136584623],[136587297,136587297],[136588380,136588380],[136588738,136588738],[136506375,136506375],[136506927,136506927],[136510012,136510012],[136538939,136538939],[136509361,136509361],[136509955,136509955],[136510059,136510059],[136516416,136516416],[136522394,136522394],[136523911,136523911],[136527801,136527801],[136530264,136530264],[136530476,136530476],[136532528,136532528],[136538117,136538117],[136535876,136535876],[136544651,136544651],[136545844,136545844],[136552526,136552526],[136553022,136553022],[136554797,136554797],[136554890,136554890],[136588031,136588031],[136589278,136589278],[136589379,136589379],[136589741,136589741],[136590746,136590746],[136593553,136593553],[136593678,136593678],[136589521,136589521],[136590781,136590781],[136591977,136591977],[136592979,136592979],[136593065,136593065],[136593066,136593066],[136593077,136593077],[136593079,136593079],[136593136,136593136],[136593809,136593809],[136596836,136596836],[136619277,136619277],[136622982,136622982],[136631545,136631545],[136634340,136634340],[136638199,136638199],[136642012,136642012],[136602291,136602291],[136607932,136607932],[136616036,136616036],[136617917,136617917],[136619615,136619615],[136627507,136627507],[136629987,136629987],[136603638,136603638],[136603690,136603690],[136604210,136604210],[136604345,136604345],[136604346,136604346],[136605111,136605111],[136612598,136612598],[136614955,136614955],[136619114,136619114],[136619213,136619213],[136623900,136623900],[136624123,136624123],[136624155,136624155],[136630170,136630170],[136631415,136631415],[136632125,136632125],[136633976,136633976],[136674547,136674547],[136720711,136720711],[136722941,136722941],[136733249,136733249],[136742820,136742820],[136652491,136652491],[136652524,136652524],[136661150,136661150],[136669264,136669264],[136726567,136726567],[136732772,136732772],[136652953,136652953],[136655582,136655582],[136674028,136674028],[136684940,136684940],[136761175,136761175],[136653925,136653925],[136654833,136654833],[136656534,136656534],[136656536,136656536],[136657252,136657252],[136667301,136667301],[136667487,136667487],[136672775,136672775],[136680534,136680534],[136686393,136686393],[136688749,136688749],[136692553,136692553],[136697371,136697371],[136708787,136708787],[136710372,136710372],[136711064,136711064],[136715324,136715324],[136723504,136723504],[136737460,136737460],[136743143,136743143],[136746224,136746224],[136751842,136751842],[136759379,136759379],[136761853,136761853],[136682274,136682274],[136691825,136691825],[136698098,136698098],[136721603,136721603],[136721995,136721995],[136755684,136755684],[136775898,136775898]],\"ys\":[[950,996],[950,996],[950,996],[950,996],[950,996],[950,996],[950,996],[950,996],[950,996],[950,996],[950,996],[950,996],[950,996],[950,996],[950,996],[950,996],[950,996],[950,996],[950,996],[950,996],[950,996],[950,996],[950,996],[950,996],[950,996],[950,996],[950,996],[950,996],[950,996],[950,996],[950,996],[950,996],[950,996],[950,996],[950,996],[950,996],[950,996],[950,996],[950,996],[950,996],[950,996],[950,996],[950,996],[950,996],[950,996],[950,996],[950,996],[950,996],[950,996],[950,996],[950,996],[950,996],[950,996],[950,996],[950,996],[950,996],[950,996],[950,996],[950,996],[950,996],[950,996],[950,996],[950,996],[950,996],[950,996],[950,996],[950,996],[950,996],[950,996],[950,996],[950,996],[950,996],[950,996],[950,996],[950,996],[950,996],[950,996],[950,996],[950,996],[950,996],[950,996],[950,996],[950,996],[950,996],[950,996],[950,996],[950,996],[950,996],[950,996],[950,996],[950,996],[950,996],[950,996],[950,996],[950,996],[950,996],[950,996],[950,996],[950,996],[950,996],[950,996],[950,996],[950,996],[950,996],[950,996],[950,996],[950,996],[950,996],[950,996],[950,996],[950,996],[950,996],[950,996],[950,996],[950,996],[950,996],[950,996],[850,895],[850,895],[850,895],[850,895],[850,895],[850,895],[850,895],[850,895],[850,895],[850,895],[850,895],[850,895],[850,895],[850,895],[850,895],[850,895],[850,895],[850,895],[850,895],[850,895],[850,895],[850,895],[850,895],[850,895],[850,895],[850,895],[850,895],[850,895],[850,895],[850,895],[850,895],[850,895],[850,895],[850,895],[850,895],[850,895],[850,895],[850,895],[850,895],[850,895],[850,895],[850,895],[850,895],[850,895],[850,895],[850,895],[850,895],[850,895],[850,895],[850,895],[850,895],[850,895],[850,895],[850,895],[850,895],[850,895],[850,895],[850,895],[850,895],[850,895],[850,895],[850,895],[850,895],[850,895],[850,895],[850,895],[850,895],[850,895],[850,895],[850,895],[850,895],[850,895],[850,895],[850,895],[850,895],[850,895],[850,895],[850,895],[850,895],[850,895],[850,895],[850,895],[850,895],[850,895],[850,895],[850,895],[850,895],[850,895],[850,895],[850,895],[850,895],[850,895],[850,895],[850,895],[850,895],[850,895],[850,895],[850,895],[850,895],[850,895],[850,895],[850,895],[850,895],[850,895],[850,895],[850,895],[850,895],[850,895],[850,895],[850,895],[850,895],[850,895],[850,895],[850,895],[850,895],[850,895],[850,895],[850,895],[850,895],[850,895],[850,895],[850,895],[850,895],[50,60],[50,60],[50,60],[50,60],[50,60],[50,60],[50,60],[50,60],[50,60],[50,60],[50,60],[50,60],[50,60],[50,60],[50,60],[50,60],[50,60],[50,60],[50,60],[50,60],[50,60],[50,60],[50,60],[50,60],[50,60],[350,376],[350,376],[350,376],[350,376],[350,376],[350,376],[350,376],[350,376],[350,376],[350,376],[350,376],[350,376],[350,376],[350,376],[350,376],[350,376],[350,376],[350,376],[350,376],[350,376],[350,376],[350,376],[350,376],[350,376],[350,376],[350,376],[350,376],[350,376],[350,376],[350,376],[350,376],[350,376],[350,376],[350,376],[350,376],[350,376],[350,376],[350,376],[350,376],[350,376],[350,376],[350,376],[350,376],[350,376],[350,376],[350,376],[350,376],[350,376],[350,376],[350,376],[350,376],[350,376],[350,376],[350,376],[350,376],[350,376],[350,376],[350,376],[350,376],[350,376],[350,376],[350,376],[350,376],[350,376],[350,376],[350,376],[350,376],[350,376],[350,376],[350,376],[150,162],[150,162],[150,162],[150,162],[150,162],[150,162],[150,162],[250,268],[250,268],[250,268],[250,268],[250,268],[450,484],[450,484],[450,484],[450,484],[450,484],[450,484],[450,484],[450,484],[450,484],[450,484],[450,484],[450,484],[450,484],[450,484],[450,484],[450,484],[450,484],[450,484],[450,484],[450,484],[450,484],[450,484],[450,484],[450,484],[450,484],[450,484],[450,484],[450,484],[650,690],[650,690],[650,690],[650,690],[650,690],[650,690],[650,690],[650,690],[650,690],[550,587],[550,587],[550,587],[550,587],[550,587],[450,482],[450,482],[450,482],[450,482],[450,482],[450,482],[450,482],[450,482],[450,482],[450,482],[450,482],[450,482],[450,482],[450,482],[450,482],[450,482],[450,482],[450,482],[450,482],[450,482],[450,482],[850,895],[850,895],[850,895],[850,895],[850,895],[650,687],[650,687],[650,687],[650,687],[350,369],[350,369],[350,369],[350,369],[350,369],[350,369],[350,369],[350,369],[350,369],[350,369],[350,369],[350,369],[350,369],[350,369],[350,369],[350,369],[350,369],[350,369],[350,369],[850,894],[850,894],[850,894],[850,894],[450,476],[450,476],[450,476],[450,476],[450,476],[450,476],[450,476],[450,476],[450,476],[450,476],[450,476],[750,794],[750,794],[750,794],[750,794],[750,794],[750,794],[750,794],[950,996],[950,996],[950,996],[950,996],[950,996],[950,996],[950,996],[350,373],[350,373],[350,373],[350,373],[350,373],[350,373],[350,373],[350,373],[350,373],[350,373],[350,373],[350,373],[350,373],[350,373],[350,373],[350,373],[350,373],[450,478],[450,478],[450,478],[450,478],[450,478],[450,478],[450,478],[550,585],[550,585],[550,585],[550,585],[550,585],[550,585],[550,585],[550,585],[550,585],[550,585],[550,585],[550,585],[550,585],[550,585],[550,585],[550,585],[150,160],[150,160],[150,160],[150,160],[150,160],[150,160],[650,692],[650,692],[650,692],[650,692],[650,692],[650,692],[750,794],[750,794],[750,794],[750,794],[750,794],[850,895],[850,895],[850,895],[850,895],[850,895],[850,895],[850,895],[850,895],[850,895],[850,895],[850,895],[850,895],[850,895],[850,895],[850,895],[850,895],[850,895],[850,895],[850,895],[850,895],[850,895],[850,895],[850,895],[850,895],[950,997],[950,997],[950,997],[950,997],[950,997],[950,997],[950,997]]}},\"id\":\"4fe2ab82-b693-4f71-84bd-4805f82dec7e\",\"type\":\"ColumnDataSource\"},{\"attributes\":{\"callback\":null,\"column_names\":[\"y\",\"x\",\"vals\"],\"data\":{\"vals\":[\"117_1685\",\"123_1561\",\"25_27\",\"70_166\",\"7_34\",\"5_69\",\"28_434\",\"9_887\",\"5_588\",\"21_332\",\"5_1460\",\"4_612\",\"19_77\",\"4_1442\",\"11_173\",\"7_1303\",\"7_1760\",\"17_127\",\"7_226\",\"16_511\",\"6_27\",\"6_1114\",\"5_1296\",\"24_1504\",\"7_1868\"],\"x\":[135758231,135933921,135956166,136008173,136033448,136056699,136115507,136309239,136364916,136402778,136406646,136448855,136497006,136506375,136509361,136535876,136588031,136589521,136602291,136603638,136633976,136652491,136652953,136653925,136682274],\"y\":[1001.0,900.0,65.0,381.0,167.0,273.0,489.0,695.0,592.0,487.0,900.0,692.0,374.0,899.0,481.0,799.0,1001.0,378.0,483.0,590.0,165.0,697.0,799.0,900.0,1002.0]}},\"id\":\"3f724b32-62c3-4d9f-8116-96b7cfc85274\",\"type\":\"ColumnDataSource\"},{\"attributes\":{},\"id\":\"53d32c8f-8ba7-47c0-916a-26db98843f74\",\"type\":\"BasicTicker\"},{\"attributes\":{\"bottom_units\":\"screen\",\"fill_alpha\":{\"value\":0.5},\"fill_color\":{\"value\":\"lightgrey\"},\"left_units\":\"screen\",\"level\":\"overlay\",\"line_alpha\":{\"value\":1.0},\"line_color\":{\"value\":\"black\"},\"line_dash\":[4,4],\"line_width\":{\"value\":2},\"plot\":null,\"render_mode\":\"css\",\"right_units\":\"screen\",\"top_units\":\"screen\"},\"id\":\"28ed1ed0-7ac6-48a9-912a-68b4e3ca4c5a\",\"type\":\"BoxAnnotation\"},{\"attributes\":{},\"id\":\"13c156f7-e80a-44c5-aff4-dada5164233a\",\"type\":\"BasicTickFormatter\"},{\"attributes\":{},\"id\":\"5d7971a8-7a7c-4980-bb3d-898116729085\",\"type\":\"BasicTickFormatter\"},{\"attributes\":{\"bottom\":{\"field\":\"bottom\"},\"fill_alpha\":{\"value\":0.1},\"fill_color\":{\"value\":\"#1f77b4\"},\"left\":{\"field\":\"left\"},\"line_alpha\":{\"value\":0.1},\"line_color\":{\"value\":\"#1f77b4\"},\"right\":{\"field\":\"right\"},\"top\":{\"field\":\"top\"}},\"id\":\"bb6e9cf3-e00a-4b6f-8648-f7856dc486c7\",\"type\":\"Quad\"},{\"attributes\":{\"overlay\":{\"id\":\"28ed1ed0-7ac6-48a9-912a-68b4e3ca4c5a\",\"type\":\"BoxAnnotation\"},\"plot\":{\"id\":\"482494dc-cc63-4a96-a78b-9c054e5b8e35\",\"subtype\":\"Figure\",\"type\":\"Plot\"}},\"id\":\"5cf87304-165a-4b73-a33b-8ab431f4d3f8\",\"type\":\"BoxZoomTool\"},{\"attributes\":{\"below\":[{\"id\":\"e554224a-1db9-401e-8ffa-1a83bcb3013d\",\"type\":\"LinearAxis\"}],\"left\":[{\"id\":\"4cac213d-d90a-4bbd-913e-9aaebb54e4d3\",\"type\":\"LinearAxis\"}],\"plot_height\":1100,\"plot_width\":900,\"renderers\":[{\"id\":\"e554224a-1db9-401e-8ffa-1a83bcb3013d\",\"type\":\"LinearAxis\"},{\"id\":\"7d121d62-7e70-4f3b-8c68-309540c7ffc1\",\"type\":\"Grid\"},{\"id\":\"4cac213d-d90a-4bbd-913e-9aaebb54e4d3\",\"type\":\"LinearAxis\"},{\"id\":\"27705548-35ae-4d14-bdfb-43985b78b09a\",\"type\":\"Grid\"},{\"id\":\"28ed1ed0-7ac6-48a9-912a-68b4e3ca4c5a\",\"type\":\"BoxAnnotation\"},{\"id\":\"b6ec7126-5c7f-424d-b328-8e60c5713dc5\",\"type\":\"GlyphRenderer\"},{\"id\":\"dbdcdae0-d195-4fd9-a3fd-b7fc7884e799\",\"type\":\"GlyphRenderer\"},{\"id\":\"5e8264a1-4f1b-47e8-a0c6-f0c23be85210\",\"type\":\"LabelSet\"},{\"id\":\"fb6114ce-c9b3-45d7-a9ce-b592f9be1a55\",\"type\":\"GlyphRenderer\"},{\"id\":\"0f753477-97a4-4da5-be23-977634960305\",\"type\":\"LabelSet\"}],\"title\":{\"id\":\"a66fb2ef-f273-43ff-aa11-cca166a227c9\",\"type\":\"Title\"},\"tool_events\":{\"id\":\"de9a6c63-7a79-4ec2-a868-62c5ea2eec8f\",\"type\":\"ToolEvents\"},\"toolbar\":{\"id\":\"9cea8213-f9e1-411a-8f95-ae3f7e186e89\",\"type\":\"Toolbar\"},\"toolbar_location\":null,\"x_range\":{\"id\":\"27b593ef-75b0-470f-919d-f5240e7fb248\",\"type\":\"Range1d\"},\"y_range\":{\"id\":\"ce250717-6b90-4567-8415-7fc971c6b839\",\"type\":\"Range1d\"}},\"id\":\"482494dc-cc63-4a96-a78b-9c054e5b8e35\",\"subtype\":\"Figure\",\"type\":\"Plot\"},{\"attributes\":{\"plot\":{\"id\":\"482494dc-cc63-4a96-a78b-9c054e5b8e35\",\"subtype\":\"Figure\",\"type\":\"Plot\"}},\"id\":\"17a8e01a-ae54-4cf6-ad84-423eaa706103\",\"type\":\"SaveTool\"},{\"attributes\":{\"callback\":null,\"end\":1100},\"id\":\"ce250717-6b90-4567-8415-7fc971c6b839\",\"type\":\"Range1d\"},{\"attributes\":{\"bottom\":{\"field\":\"bottom\"},\"fill_color\":{\"value\":\"white\"},\"left\":{\"field\":\"left\"},\"right\":{\"field\":\"right\"},\"top\":{\"field\":\"top\"}},\"id\":\"24116f0e-bdc0-44fd-a934-97314523b80e\",\"type\":\"Quad\"},{\"attributes\":{\"data_source\":{\"id\":\"be4eca17-be3b-4a1f-b2d4-5ec465320376\",\"type\":\"ColumnDataSource\"},\"glyph\":{\"id\":\"24116f0e-bdc0-44fd-a934-97314523b80e\",\"type\":\"Quad\"},\"hover_glyph\":null,\"nonselection_glyph\":{\"id\":\"bb6e9cf3-e00a-4b6f-8648-f7856dc486c7\",\"type\":\"Quad\"},\"selection_glyph\":null},\"id\":\"fb6114ce-c9b3-45d7-a9ce-b592f9be1a55\",\"type\":\"GlyphRenderer\"},{\"attributes\":{\"data_source\":{\"id\":\"b032e44e-c483-4b97-b060-f26ee0f405d1\",\"type\":\"ColumnDataSource\"},\"glyph\":{\"id\":\"e5736e6b-391b-4fb8-bb09-80576b626dc3\",\"type\":\"Quad\"},\"hover_glyph\":null,\"nonselection_glyph\":{\"id\":\"c2e97fd9-0386-437a-9b68-9bdfc3e47fce\",\"type\":\"Quad\"},\"selection_glyph\":null},\"id\":\"b6ec7126-5c7f-424d-b328-8e60c5713dc5\",\"type\":\"GlyphRenderer\"},{\"attributes\":{\"dimension\":1,\"plot\":{\"id\":\"482494dc-cc63-4a96-a78b-9c054e5b8e35\",\"subtype\":\"Figure\",\"type\":\"Plot\"},\"ticker\":{\"id\":\"492e915d-983d-4ad7-8e57-bfc7c37544b4\",\"type\":\"BasicTicker\"}},\"id\":\"27705548-35ae-4d14-bdfb-43985b78b09a\",\"type\":\"Grid\"},{\"attributes\":{\"plot\":{\"id\":\"482494dc-cc63-4a96-a78b-9c054e5b8e35\",\"subtype\":\"Figure\",\"type\":\"Plot\"}},\"id\":\"1ee09e77-b3f0-420f-ac57-6a870fceb79b\",\"type\":\"PanTool\"},{\"attributes\":{\"data_source\":{\"id\":\"4fe2ab82-b693-4f71-84bd-4805f82dec7e\",\"type\":\"ColumnDataSource\"},\"glyph\":{\"id\":\"cf45faa7-0585-410e-b29f-a97d4dc08601\",\"type\":\"MultiLine\"},\"hover_glyph\":null,\"nonselection_glyph\":{\"id\":\"f318e1be-847f-470a-8089-a45f1ffb7051\",\"type\":\"MultiLine\"},\"selection_glyph\":null},\"id\":\"dbdcdae0-d195-4fd9-a3fd-b7fc7884e799\",\"type\":\"GlyphRenderer\"}],\"root_ids\":[\"482494dc-cc63-4a96-a78b-9c054e5b8e35\"]},\"title\":\"Bokeh Application\",\"version\":\"0.12.0\"}};\n",
       "            var render_items = [{\"docid\":\"cff34847-0813-43e2-a20c-fed6c06db731\",\"elementid\":\"d294e8d7-022e-41a7-98f6-8ed957858642\",\"modelid\":\"482494dc-cc63-4a96-a78b-9c054e5b8e35\",\"notebook_comms_target\":\"8e38eaad-de5e-4a56-b567-a5f9383433ec\"}];\n",
       "            \n",
       "            Bokeh.embed.embed_items(docs_json, render_items);\n",
       "        });\n",
       "      },\n",
       "      function(Bokeh) {\n",
       "      }\n",
       "    ];\n",
       "  \n",
       "    function run_inline_js() {\n",
       "      for (var i = 0; i < inline_js.length; i++) {\n",
       "        inline_js[i](window.Bokeh);\n",
       "      }\n",
       "    }\n",
       "  \n",
       "    if (window._bokeh_is_loading === 0) {\n",
       "      console.log(\"Bokeh: BokehJS loaded, going straight to plotting\");\n",
       "      run_inline_js();\n",
       "    } else {\n",
       "      load_libs(js_urls, function() {\n",
       "        console.log(\"Bokeh: BokehJS plotting callback run at\", now());\n",
       "        run_inline_js();\n",
       "      });\n",
       "    }\n",
       "  }(this));\n",
       "</script>"
      ]
     },
     "metadata": {},
     "output_type": "display_data"
    },
    {
     "data": {
      "text/html": [
       "<p><code>&lt;Bokeh Notebook handle for <strong>In[75]</strong>&gt;</code></p>"
      ],
      "text/plain": [
       "<bokeh.io._CommsHandle at 0x7f3f601eed10>"
      ]
     },
     "execution_count": 75,
     "metadata": {},
     "output_type": "execute_result"
    }
   ],
   "source": [
    "plt_obj = dm.superset_allele_mask(am_18, min_match=0.5)\n",
    "plt = plt_obj.do_plot()\n",
    "show(plt)"
   ]
  },
  {
   "cell_type": "code",
   "execution_count": 76,
   "metadata": {
    "collapsed": false
   },
   "outputs": [
    {
     "data": {
      "text/plain": [
       "array([(0, 100), (1, 1), (2, 1), (4, 1), (11, 4), (12, 19), (13, 308)], \n",
       "      dtype=[('count', '<u2'), ('snps', '<u2')])"
      ]
     },
     "execution_count": 76,
     "metadata": {},
     "output_type": "execute_result"
    }
   ],
   "source": [
    "an.sa_13_1696.unique_snps_per_allele(am_28_434)"
   ]
  },
  {
   "cell_type": "code",
   "execution_count": 77,
   "metadata": {
    "collapsed": false
   },
   "outputs": [
    {
     "data": {
      "text/plain": [
       "array([(0, 6), (1, 19), (2, 19), (3, 19), (4, 19), (5, 13), (6, 19),\n",
       "       (7, 19), (8, 19), (9, 19), (10, 19), (11, 19), (12, 19)], \n",
       "      dtype=[('index', '<u2'), ('snp_count', '<u2')])"
      ]
     },
     "execution_count": 77,
     "metadata": {},
     "output_type": "execute_result"
    }
   ],
   "source": [
    "tf_13_1696 = an.snp_anal.series_fragment_finder_cls(an.sa_13_1696, am_28_434)\n",
    "tf_13_1696.alleles_per_snp_from_count(12)"
   ]
  },
  {
   "cell_type": "code",
   "execution_count": 78,
   "metadata": {
    "collapsed": true
   },
   "outputs": [],
   "source": [
    "am_6 = tf_13_1696.am_from_spa_count_and_index(12,0)\n",
    "am_13 = tf_13_1696.am_from_spa_count_and_index(12,5)"
   ]
  },
  {
   "cell_type": "code",
   "execution_count": 79,
   "metadata": {
    "collapsed": false
   },
   "outputs": [
    {
     "data": {
      "text/plain": [
       "13"
      ]
     },
     "execution_count": 79,
     "metadata": {},
     "output_type": "execute_result"
    }
   ],
   "source": [
    "am_13.sum()"
   ]
  },
  {
   "cell_type": "code",
   "execution_count": 80,
   "metadata": {
    "collapsed": false
   },
   "outputs": [
    {
     "data": {
      "text/html": [
       "\n",
       "\n",
       "    <div class=\"bk-root\">\n",
       "        <div class=\"plotdiv\" id=\"32ee43fb-ed83-477c-85c7-21028fa63cc3\"></div>\n",
       "    </div>\n",
       "<script type=\"text/javascript\">\n",
       "  \n",
       "  (function(global) {\n",
       "    function now() {\n",
       "      return new Date();\n",
       "    }\n",
       "  \n",
       "    if (typeof (window._bokeh_onload_callbacks) === \"undefined\") {\n",
       "      window._bokeh_onload_callbacks = [];\n",
       "    }\n",
       "  \n",
       "    function run_callbacks() {\n",
       "      window._bokeh_onload_callbacks.forEach(function(callback) { callback() });\n",
       "      delete window._bokeh_onload_callbacks\n",
       "      console.info(\"Bokeh: all callbacks have finished\");\n",
       "    }\n",
       "  \n",
       "    function load_libs(js_urls, callback) {\n",
       "      window._bokeh_onload_callbacks.push(callback);\n",
       "      if (window._bokeh_is_loading > 0) {\n",
       "        console.log(\"Bokeh: BokehJS is being loaded, scheduling callback at\", now());\n",
       "        return null;\n",
       "      }\n",
       "      if (js_urls == null || js_urls.length === 0) {\n",
       "        run_callbacks();\n",
       "        return null;\n",
       "      }\n",
       "      console.log(\"Bokeh: BokehJS not loaded, scheduling load and callback at\", now());\n",
       "      window._bokeh_is_loading = js_urls.length;\n",
       "      for (var i = 0; i < js_urls.length; i++) {\n",
       "        var url = js_urls[i];\n",
       "        var s = document.createElement('script');\n",
       "        s.src = url;\n",
       "        s.async = false;\n",
       "        s.onreadystatechange = s.onload = function() {\n",
       "          window._bokeh_is_loading--;\n",
       "          if (window._bokeh_is_loading === 0) {\n",
       "            console.log(\"Bokeh: all BokehJS libraries loaded\");\n",
       "            run_callbacks()\n",
       "          }\n",
       "        };\n",
       "        s.onerror = function() {\n",
       "          console.warn(\"failed to load library \" + url);\n",
       "        };\n",
       "        console.log(\"Bokeh: injecting script tag for BokehJS library: \", url);\n",
       "        document.getElementsByTagName(\"head\")[0].appendChild(s);\n",
       "      }\n",
       "    };var element = document.getElementById(\"32ee43fb-ed83-477c-85c7-21028fa63cc3\");\n",
       "    if (element == null) {\n",
       "      console.log(\"Bokeh: ERROR: autoload.js configured with elementid '32ee43fb-ed83-477c-85c7-21028fa63cc3' but no matching script tag was found. \")\n",
       "      return false;\n",
       "    }\n",
       "  \n",
       "    var js_urls = [];\n",
       "  \n",
       "    var inline_js = [\n",
       "      function(Bokeh) {\n",
       "        Bokeh.$(function() {\n",
       "            var docs_json = {\"188ecb15-3758-4ef6-adc5-9969e6443ad3\":{\"roots\":{\"references\":[{\"attributes\":{\"callback\":null,\"column_names\":[\"y\",\"x\",\"vals\"],\"data\":{\"vals\":[\"13_1696\",\"180_251\",\"123_1561\",\"28_434\",\"9_887\",\"5_588\",\"10_1218\",\"4_612\",\"10_2206\",\"7_1760\",\"5_86\",\"14_104\",\"16_511\",\"24_1504\",\"6_167\",\"17_121\",\"18_172\",\"5_212\"],\"x\":[135757320,135773319,135933921,136115507,136309239,136364916,136393157,136448855,136501840,136588031,136592050,136602952,136603638,136653925,136658238,136666402,136696010,136704466],\"y\":[901.0,484.0,900.0,589.0,795.0,692.0,898.0,792.0,1003.0,1001.0,75.0,177.0,690.0,900.0,281.0,178.0,381.0,483.0]}},\"id\":\"fe1cafd4-ccfa-4242-8ec8-f90d22ca8685\",\"type\":\"ColumnDataSource\"},{\"attributes\":{\"formatter\":{\"id\":\"6b69ca44-f5a0-4d40-8400-ec3962154c45\",\"type\":\"BasicTickFormatter\"},\"plot\":{\"id\":\"03e9bafa-5f44-4c5e-8a36-d2bac6d9f930\",\"subtype\":\"Figure\",\"type\":\"Plot\"},\"ticker\":{\"id\":\"dbc06e82-f0c3-46b0-9394-8d4b5772b849\",\"type\":\"BasicTicker\"}},\"id\":\"34c99e18-5e93-490a-93d9-68aaad27fcb2\",\"type\":\"LinearAxis\"},{\"attributes\":{\"bottom_units\":\"screen\",\"fill_alpha\":{\"value\":0.5},\"fill_color\":{\"value\":\"lightgrey\"},\"left_units\":\"screen\",\"level\":\"overlay\",\"line_alpha\":{\"value\":1.0},\"line_color\":{\"value\":\"black\"},\"line_dash\":[4,4],\"line_width\":{\"value\":2},\"plot\":null,\"render_mode\":\"css\",\"right_units\":\"screen\",\"top_units\":\"screen\"},\"id\":\"45bdf4ac-aa26-43e6-ad85-410a8258067a\",\"type\":\"BoxAnnotation\"},{\"attributes\":{},\"id\":\"dbc06e82-f0c3-46b0-9394-8d4b5772b849\",\"type\":\"BasicTicker\"},{\"attributes\":{\"line_color\":{\"field\":\"line_color\"},\"xs\":{\"field\":\"xs\"},\"ys\":{\"field\":\"ys\"}},\"id\":\"a11f39d1-8051-4edd-865d-18e0ea8b3c08\",\"type\":\"MultiLine\"},{\"attributes\":{\"callback\":null,\"column_names\":[\"y\",\"x\",\"vals\"],\"data\":{\"vals\":[\"RAB3GAP1\",\"ZRANB3\",\"R3HDM1\",\"UBXN4\",\"LCT\",\"MCM6\",\"DARS\"],\"x\":[135869057.0,136122878.0,136385961.0,136520911.0,136570082.5,136615621.5,136703738.0],\"y\":[1060.0,1060.0,1060.0,1060.0,1060.0,1060.0,1060.0]}},\"id\":\"8d07ea54-064a-41ab-8074-540c5d29e1d7\",\"type\":\"ColumnDataSource\"},{\"attributes\":{\"data_source\":{\"id\":\"bb20719f-8292-40d6-b0b4-9fe20fe46575\",\"type\":\"ColumnDataSource\"},\"glyph\":{\"id\":\"a11f39d1-8051-4edd-865d-18e0ea8b3c08\",\"type\":\"MultiLine\"},\"hover_glyph\":null,\"nonselection_glyph\":{\"id\":\"f112be10-5d61-4efd-8d99-6e3d664e9a28\",\"type\":\"MultiLine\"},\"selection_glyph\":null},\"id\":\"2d2c0cc6-7042-42a9-9e2d-5210c0c99188\",\"type\":\"GlyphRenderer\"},{\"attributes\":{},\"id\":\"979eaf5a-4295-4f7d-8641-9f009396b516\",\"type\":\"ToolEvents\"},{\"attributes\":{},\"id\":\"91f6ca8c-cf78-4c25-a16e-b921300b5df6\",\"type\":\"BasicTicker\"},{\"attributes\":{\"data_source\":{\"id\":\"12089b7c-f5fe-444e-983d-8457adf867d5\",\"type\":\"ColumnDataSource\"},\"glyph\":{\"id\":\"8646f46d-d700-432d-b667-a6967ddce507\",\"type\":\"Quad\"},\"hover_glyph\":null,\"nonselection_glyph\":{\"id\":\"8314a7ab-9889-4a41-81ee-1155e24c304f\",\"type\":\"Quad\"},\"selection_glyph\":null},\"id\":\"f306d30e-cb25-46d2-a494-f2a13bc6a8d1\",\"type\":\"GlyphRenderer\"},{\"attributes\":{\"callback\":null,\"end\":1100},\"id\":\"574b45aa-50be-44a8-aee8-5075c2850191\",\"type\":\"Range1d\"},{\"attributes\":{\"plot\":{\"id\":\"03e9bafa-5f44-4c5e-8a36-d2bac6d9f930\",\"subtype\":\"Figure\",\"type\":\"Plot\"},\"ticker\":{\"id\":\"dbc06e82-f0c3-46b0-9394-8d4b5772b849\",\"type\":\"BasicTicker\"}},\"id\":\"bde65089-fb0b-4c37-bdfd-128ae309b48e\",\"type\":\"Grid\"},{\"attributes\":{\"plot\":{\"id\":\"03e9bafa-5f44-4c5e-8a36-d2bac6d9f930\",\"subtype\":\"Figure\",\"type\":\"Plot\"}},\"id\":\"1bdff22a-bb1f-4bdb-ba48-799010d58911\",\"type\":\"SaveTool\"},{\"attributes\":{\"below\":[{\"id\":\"34c99e18-5e93-490a-93d9-68aaad27fcb2\",\"type\":\"LinearAxis\"}],\"left\":[{\"id\":\"6c2b1d9d-7ee7-43d4-86fa-1d24a00991d6\",\"type\":\"LinearAxis\"}],\"plot_height\":1100,\"plot_width\":900,\"renderers\":[{\"id\":\"34c99e18-5e93-490a-93d9-68aaad27fcb2\",\"type\":\"LinearAxis\"},{\"id\":\"bde65089-fb0b-4c37-bdfd-128ae309b48e\",\"type\":\"Grid\"},{\"id\":\"6c2b1d9d-7ee7-43d4-86fa-1d24a00991d6\",\"type\":\"LinearAxis\"},{\"id\":\"aef28d45-7b92-4a1d-951d-6e5fc9ec1996\",\"type\":\"Grid\"},{\"id\":\"45bdf4ac-aa26-43e6-ad85-410a8258067a\",\"type\":\"BoxAnnotation\"},{\"id\":\"f306d30e-cb25-46d2-a494-f2a13bc6a8d1\",\"type\":\"GlyphRenderer\"},{\"id\":\"2d2c0cc6-7042-42a9-9e2d-5210c0c99188\",\"type\":\"GlyphRenderer\"},{\"id\":\"dd9e0249-2ea7-4aeb-9466-2ca230d810af\",\"type\":\"LabelSet\"},{\"id\":\"3b892241-9fd9-4782-9a08-d16405ff7a7a\",\"type\":\"GlyphRenderer\"},{\"id\":\"2e71d5c6-0a5a-4021-9984-03585b6d2ea4\",\"type\":\"LabelSet\"}],\"title\":{\"id\":\"f7518e78-c62e-4dbb-b322-45669d5c494f\",\"type\":\"Title\"},\"tool_events\":{\"id\":\"979eaf5a-4295-4f7d-8641-9f009396b516\",\"type\":\"ToolEvents\"},\"toolbar\":{\"id\":\"614d4fad-b5c3-46a5-954e-3301088cc677\",\"type\":\"Toolbar\"},\"toolbar_location\":null,\"x_range\":{\"id\":\"a46e11a3-5099-44fa-8702-3b34676924e4\",\"type\":\"Range1d\"},\"y_range\":{\"id\":\"574b45aa-50be-44a8-aee8-5075c2850191\",\"type\":\"Range1d\"}},\"id\":\"03e9bafa-5f44-4c5e-8a36-d2bac6d9f930\",\"subtype\":\"Figure\",\"type\":\"Plot\"},{\"attributes\":{\"callback\":null,\"column_names\":[\"right\",\"bottom\",\"top\",\"left\",\"fill_color\"],\"data\":{\"bottom\":[850,450,850,550,750,650,850,750,950,950,50,150,650,850,250,150,350,450],\"fill_color\":[\"#808080\",\"#ff0000\",\"#c46161\",\"#ff0000\",\"#ff0000\",\"#ff0000\",\"#808080\",\"#ff0000\",\"#808080\",\"#c46161\",\"#ff0000\",\"#ff0000\",\"#c46161\",\"#808080\",\"#c46161\",\"#c46161\",\"#ff0000\",\"#ff0000\"],\"left\":[135757320,135773319,135933921,136115507,136309239,136364916,136393157,136448855,136501840,136588031,136592050,136602952,136603638,136653925,136658238,136666402,136696010,136704466],\"right\":[135777504,136494131,136368563,136385280,136361560,136387893,136441410,136466831,136555659,136593678,136598860,136630687,136632125,136761853,136677919,136768655,136764564,136732214],\"top\":[896,479,895,584,790,687,893,787,998,996,70,172,685,895,276,173,376,478]}},\"id\":\"12089b7c-f5fe-444e-983d-8457adf867d5\",\"type\":\"ColumnDataSource\"},{\"attributes\":{\"formatter\":{\"id\":\"84731374-d1a7-4c06-ad44-fdd4042894a0\",\"type\":\"BasicTickFormatter\"},\"plot\":{\"id\":\"03e9bafa-5f44-4c5e-8a36-d2bac6d9f930\",\"subtype\":\"Figure\",\"type\":\"Plot\"},\"ticker\":{\"id\":\"91f6ca8c-cf78-4c25-a16e-b921300b5df6\",\"type\":\"BasicTicker\"},\"visible\":null},\"id\":\"6c2b1d9d-7ee7-43d4-86fa-1d24a00991d6\",\"type\":\"LinearAxis\"},{\"attributes\":{\"bottom\":{\"field\":\"bottom\"},\"fill_alpha\":{\"value\":0.1},\"fill_color\":{\"value\":\"#1f77b4\"},\"left\":{\"field\":\"left\"},\"line_alpha\":{\"value\":0.1},\"line_color\":{\"value\":\"#1f77b4\"},\"right\":{\"field\":\"right\"},\"top\":{\"field\":\"top\"}},\"id\":\"cc9047c1-e6a0-4480-8331-749b5f487b6d\",\"type\":\"Quad\"},{\"attributes\":{\"level\":\"glyph\",\"plot\":{\"id\":\"03e9bafa-5f44-4c5e-8a36-d2bac6d9f930\",\"subtype\":\"Figure\",\"type\":\"Plot\"},\"source\":{\"id\":\"fe1cafd4-ccfa-4242-8ec8-f90d22ca8685\",\"type\":\"ColumnDataSource\"},\"text\":{\"field\":\"vals\"},\"text_font_size\":{\"value\":\"9pt\"},\"text_font_style\":\"bold\",\"x\":{\"field\":\"x\"},\"y\":{\"field\":\"y\"}},\"id\":\"dd9e0249-2ea7-4aeb-9466-2ca230d810af\",\"type\":\"LabelSet\"},{\"attributes\":{\"line_alpha\":{\"value\":0.1},\"line_color\":{\"value\":\"#1f77b4\"},\"xs\":{\"field\":\"xs\"},\"ys\":{\"field\":\"ys\"}},\"id\":\"f112be10-5d61-4efd-8d99-6e3d664e9a28\",\"type\":\"MultiLine\"},{\"attributes\":{\"plot\":{\"id\":\"03e9bafa-5f44-4c5e-8a36-d2bac6d9f930\",\"subtype\":\"Figure\",\"type\":\"Plot\"}},\"id\":\"a67901dc-6697-4271-a9e3-3739891b9631\",\"type\":\"PanTool\"},{\"attributes\":{\"plot\":null,\"text\":null},\"id\":\"f7518e78-c62e-4dbb-b322-45669d5c494f\",\"type\":\"Title\"},{\"attributes\":{\"plot\":{\"id\":\"03e9bafa-5f44-4c5e-8a36-d2bac6d9f930\",\"subtype\":\"Figure\",\"type\":\"Plot\"}},\"id\":\"6a034b2b-7621-49d9-8778-b0e5bf1d10ea\",\"type\":\"HelpTool\"},{\"attributes\":{\"bottom\":{\"field\":\"bottom\"},\"fill_color\":{\"field\":\"fill_color\"},\"left\":{\"field\":\"left\"},\"line_color\":{\"value\":null},\"right\":{\"field\":\"right\"},\"top\":{\"field\":\"top\"}},\"id\":\"8646f46d-d700-432d-b667-a6967ddce507\",\"type\":\"Quad\"},{\"attributes\":{\"callback\":null,\"end\":136786630,\"start\":135757320},\"id\":\"a46e11a3-5099-44fa-8702-3b34676924e4\",\"type\":\"Range1d\"},{\"attributes\":{\"dimension\":1,\"plot\":{\"id\":\"03e9bafa-5f44-4c5e-8a36-d2bac6d9f930\",\"subtype\":\"Figure\",\"type\":\"Plot\"},\"ticker\":{\"id\":\"91f6ca8c-cf78-4c25-a16e-b921300b5df6\",\"type\":\"BasicTicker\"}},\"id\":\"aef28d45-7b92-4a1d-951d-6e5fc9ec1996\",\"type\":\"Grid\"},{\"attributes\":{},\"id\":\"84731374-d1a7-4c06-ad44-fdd4042894a0\",\"type\":\"BasicTickFormatter\"},{\"attributes\":{\"plot\":{\"id\":\"03e9bafa-5f44-4c5e-8a36-d2bac6d9f930\",\"subtype\":\"Figure\",\"type\":\"Plot\"}},\"id\":\"689cf8cb-11aa-49c4-90e3-ed4eff2fac77\",\"type\":\"WheelZoomTool\"},{\"attributes\":{\"bottom\":{\"field\":\"bottom\"},\"fill_color\":{\"value\":\"white\"},\"left\":{\"field\":\"left\"},\"right\":{\"field\":\"right\"},\"top\":{\"field\":\"top\"}},\"id\":\"45101bb7-b778-431e-94c5-002ad812e879\",\"type\":\"Quad\"},{\"attributes\":{\"level\":\"glyph\",\"plot\":{\"id\":\"03e9bafa-5f44-4c5e-8a36-d2bac6d9f930\",\"subtype\":\"Figure\",\"type\":\"Plot\"},\"source\":{\"id\":\"8d07ea54-064a-41ab-8074-540c5d29e1d7\",\"type\":\"ColumnDataSource\"},\"text\":{\"field\":\"vals\"},\"text_align\":\"center\",\"text_baseline\":\"middle\",\"text_font_size\":{\"value\":\"8pt\"},\"x\":{\"field\":\"x\"},\"y\":{\"field\":\"y\"}},\"id\":\"2e71d5c6-0a5a-4021-9984-03585b6d2ea4\",\"type\":\"LabelSet\"},{\"attributes\":{\"callback\":null,\"column_names\":[\"xs\",\"ys\",\"line_color\"],\"data\":{\"line_color\":[\"black\",\"black\",\"black\",\"black\",\"black\",\"black\",\"black\",\"black\",\"black\",\"black\",\"black\",\"black\",\"black\",\"black\",\"black\",\"black\",\"black\",\"black\",\"black\",\"black\",\"black\",\"black\",\"black\",\"black\",\"black\",\"black\",\"black\",\"black\",\"black\",\"black\",\"black\",\"black\",\"black\",\"black\",\"black\",\"black\",\"black\",\"black\",\"black\",\"black\",\"black\",\"black\",\"black\",\"black\",\"black\",\"black\",\"black\",\"black\",\"black\",\"black\",\"black\",\"black\",\"black\",\"black\",\"black\",\"black\",\"black\",\"black\",\"black\",\"black\",\"black\",\"black\",\"black\",\"black\",\"black\",\"black\",\"black\",\"black\",\"black\",\"black\",\"black\",\"black\",\"black\",\"black\",\"black\",\"black\",\"black\",\"black\",\"black\",\"black\",\"black\",\"black\",\"black\",\"black\",\"black\",\"black\",\"black\",\"black\",\"black\",\"black\",\"black\",\"black\",\"black\",\"black\",\"black\",\"black\",\"black\",\"black\",\"black\",\"black\",\"black\",\"black\",\"black\",\"black\",\"black\",\"black\",\"black\",\"black\",\"black\",\"black\",\"black\",\"black\",\"black\",\"black\",\"black\",\"black\",\"black\",\"black\",\"black\",\"black\",\"black\",\"black\",\"black\",\"black\",\"black\",\"black\",\"black\",\"black\",\"black\",\"black\",\"black\",\"black\",\"black\",\"black\",\"black\",\"black\",\"black\",\"black\",\"black\",\"black\",\"black\",\"black\",\"black\",\"black\",\"black\",\"black\",\"black\",\"black\",\"black\",\"black\",\"black\",\"black\",\"black\",\"black\",\"black\",\"black\",\"black\",\"black\",\"black\",\"black\",\"black\",\"black\",\"black\",\"black\",\"black\",\"black\",\"black\",\"black\",\"black\",\"black\",\"black\",\"black\",\"black\",\"black\",\"black\",\"black\",\"black\",\"black\",\"black\",\"black\",\"black\",\"black\",\"black\",\"black\",\"black\",\"black\",\"black\",\"black\",\"black\",\"black\",\"black\",\"black\",\"black\",\"black\",\"black\",\"black\",\"black\",\"black\",\"black\",\"black\",\"black\",\"black\",\"black\",\"black\",\"black\",\"black\",\"black\",\"black\",\"black\",\"black\",\"black\",\"black\",\"black\",\"black\",\"black\",\"black\",\"black\",\"black\",\"black\",\"black\",\"black\",\"black\",\"black\",\"black\",\"black\",\"black\",\"black\",\"black\",\"black\",\"black\",\"black\",\"black\",\"black\",\"black\",\"black\",\"black\",\"black\",\"black\",\"black\",\"black\",\"black\",\"black\",\"black\",\"black\",\"black\",\"black\",\"black\",\"black\",\"black\",\"black\",\"black\",\"black\",\"black\",\"black\",\"black\",\"black\",\"black\",\"black\",\"black\",\"black\",\"black\",\"black\",\"black\",\"black\",\"black\",\"black\",\"black\",\"black\",\"black\",\"black\",\"black\",\"black\",\"black\",\"black\",\"black\",\"black\",\"black\",\"black\",\"black\",\"black\",\"black\",\"black\",\"black\",\"black\",\"black\",\"black\",\"black\",\"black\",\"black\",\"black\",\"black\",\"black\",\"black\",\"black\",\"black\",\"black\",\"black\",\"black\",\"black\",\"black\",\"black\",\"black\",\"black\",\"black\",\"black\",\"black\",\"black\",\"black\",\"black\",\"black\",\"black\",\"black\",\"black\",\"black\",\"black\",\"black\",\"black\",\"black\",\"black\",\"black\",\"black\",\"black\",\"black\",\"black\",\"black\",\"black\",\"black\",\"black\",\"black\",\"black\",\"black\",\"black\",\"black\",\"black\",\"black\",\"black\",\"black\",\"black\",\"black\",\"black\",\"black\",\"black\",\"black\",\"black\",\"black\",\"black\",\"black\",\"black\",\"black\",\"black\",\"black\",\"black\",\"black\",\"black\",\"black\",\"black\",\"black\",\"black\",\"black\",\"black\",\"black\",\"black\",\"black\",\"black\",\"black\",\"black\",\"black\",\"black\",\"black\",\"black\",\"black\",\"black\",\"black\",\"black\",\"black\",\"black\",\"black\",\"black\",\"black\",\"black\",\"black\",\"black\",\"black\",\"black\",\"black\",\"black\",\"black\",\"black\",\"black\",\"black\",\"black\",\"black\",\"black\",\"black\",\"black\",\"black\",\"black\",\"black\",\"black\",\"black\",\"black\",\"black\",\"black\",\"black\",\"black\",\"black\",\"black\",\"black\",\"black\",\"black\",\"black\",\"black\",\"black\",\"black\",\"black\",\"black\",\"black\",\"black\",\"black\",\"black\",\"black\",\"black\",\"black\",\"black\",\"black\",\"black\",\"black\",\"black\",\"black\",\"black\",\"black\",\"black\",\"black\",\"black\",\"black\",\"black\",\"black\",\"black\",\"black\",\"black\",\"black\",\"black\",\"black\",\"black\",\"black\",\"black\",\"black\",\"black\",\"black\",\"black\",\"black\",\"black\",\"black\",\"black\",\"black\",\"black\",\"black\",\"black\",\"black\",\"black\",\"black\",\"black\",\"black\",\"black\",\"black\",\"black\",\"black\",\"black\",\"black\",\"black\",\"black\",\"black\",\"black\",\"black\",\"black\",\"black\",\"black\",\"black\",\"black\",\"black\",\"black\",\"black\",\"black\",\"black\",\"black\",\"black\",\"black\",\"black\",\"black\",\"black\",\"black\",\"black\",\"black\",\"black\"],\"xs\":[[135757320,135757320],[135761078,135761078],[135761271,135761271],[135762344,135762344],[135762980,135762980],[135763280,135763280],[135768815,135768815],[135769093,135769093],[135769127,135769127],[135770940,135770940],[135770951,135770951],[135776728,135776728],[135777504,135777504],[135773319,135773319],[135782994,135782994],[135782995,135782995],[135782998,135782998],[135782999,135782999],[135801096,135801096],[135810349,135810349],[135810793,135810793],[135813701,135813701],[135818281,135818281],[135822991,135822991],[135823450,135823450],[135823834,135823834],[135824823,135824823],[135828466,135828466],[135829333,135829333],[135830819,135830819],[135840645,135840645],[135840827,135840827],[135846028,135846028],[135850786,135850786],[135850950,135850950],[135851737,135851737],[135851739,135851739],[135852332,135852332],[135853861,135853861],[135854068,135854068],[135854685,135854685],[135856038,135856038],[135862109,135862109],[135862401,135862401],[135863691,135863691],[135866027,135866027],[135867563,135867563],[135871434,135871434],[135876120,135876120],[135881988,135881988],[135891281,135891281],[135895394,135895394],[135896642,135896642],[135897756,135897756],[135912026,135912026],[135914126,135914126],[135916951,135916951],[135918112,135918112],[135924787,135924787],[135927729,135927729],[135930265,135930265],[135931222,135931222],[135948127,135948127],[135949701,135949701],[135957703,135957703],[135962001,135962001],[135968466,135968466],[135975199,135975199],[135977079,135977079],[135980808,135980808],[135981536,135981536],[135987191,135987191],[135989869,135989869],[135991527,135991527],[135992684,135992684],[135998422,135998422],[135998865,135998865],[136003411,136003411],[136008335,136008335],[136009537,136009537],[136010391,136010391],[136035323,136035323],[136037259,136037259],[136052308,136052308],[136054376,136054376],[136055105,136055105],[136058763,136058763],[136064157,136064157],[136074280,136074280],[136074561,136074561],[136078097,136078097],[136078353,136078353],[136079270,136079270],[136097431,136097431],[136104885,136104885],[136107710,136107710],[136113140,136113140],[136115065,136115065],[136117883,136117883],[136122092,136122092],[136123060,136123060],[136124958,136124958],[136129031,136129031],[136137878,136137878],[136138964,136138964],[136147793,136147793],[136148463,136148463],[136151303,136151303],[136153889,136153889],[136155242,136155242],[136158852,136158852],[136160609,136160609],[136160636,136160636],[136160958,136160958],[136161678,136161678],[136161990,136161990],[136163171,136163171],[136163485,136163485],[136163668,136163668],[136163967,136163967],[136165084,136165084],[136175947,136175947],[136191718,136191718],[136201571,136201571],[136203522,136203522],[136203641,136203641],[136204451,136204451],[136204593,136204593],[136204888,136204888],[136216623,136216623],[136219114,136219114],[136222602,136222602],[136228129,136228129],[136228291,136228291],[136229670,136229670],[136230061,136230061],[136232059,136232059],[136238344,136238344],[136241355,136241355],[136244591,136244591],[136246156,136246156],[136249895,136249895],[136250642,136250642],[136251546,136251546],[136255406,136255406],[136255837,136255837],[136256724,136256724],[136256777,136256777],[136263271,136263271],[136263320,136263320],[136274857,136274857],[136279222,136279222],[136279705,136279705],[136280288,136280288],[136290299,136290299],[136300341,136300341],[136300434,136300434],[136305610,136305610],[136305952,136305952],[136309180,136309180],[136309308,136309308],[136310715,136310715],[136330715,136330715],[136333105,136333105],[136337792,136337792],[136339080,136339080],[136339412,136339412],[136339826,136339826],[136340974,136340974],[136349862,136349862],[136353068,136353068],[136355227,136355227],[136356763,136356763],[136359056,136359056],[136360706,136360706],[136367510,136367510],[136368043,136368043],[136371507,136371507],[136375075,136375075],[136382614,136382614],[136402029,136402029],[136411311,136411311],[136439260,136439260],[136439470,136439470],[136442758,136442758],[136452302,136452302],[136456531,136456531],[136464549,136464549],[136474865,136474865],[136479740,136479740],[136490447,136490447],[136492077,136492077],[136494131,136494131],[135933921,135933921],[135939824,135939824],[135941503,135941503],[135943900,135943900],[135945474,135945474],[135949715,135949715],[135956745,135956745],[135958693,135958693],[135967778,135967778],[135972093,135972093],[135973768,135973768],[135976498,135976498],[135978428,135978428],[135990031,135990031],[135992481,135992481],[135993925,135993925],[135994838,135994838],[136000253,136000253],[136003567,136003567],[136005477,136005477],[136005971,136005971],[136020977,136020977],[136027535,136027535],[136031588,136031588],[136032905,136032905],[136042480,136042480],[136043885,136043885],[136050471,136050471],[136052898,136052898],[136054815,136054815],[136056285,136056285],[136061560,136061560],[136063685,136063685],[136069060,136069060],[136072179,136072179],[136074233,136074233],[136080721,136080721],[136080822,136080822],[136088440,136088440],[136088643,136088643],[136092416,136092416],[136092869,136092869],[136094615,136094615],[136095505,136095505],[136095604,136095604],[136096766,136096766],[136097091,136097091],[136097394,136097394],[136100243,136100243],[136101823,136101823],[136106561,136106561],[136115501,136115501],[136122622,136122622],[136123014,136123014],[136123848,136123848],[136127100,136127100],[136127950,136127950],[136128630,136128630],[136129630,136129630],[136129791,136129791],[136131324,136131324],[136135383,136135383],[136135994,136135994],[136136224,136136224],[136136366,136136366],[136136440,136136440],[136138145,136138145],[136140568,136140568],[136145882,136145882],[136147948,136147948],[136148630,136148630],[136151485,136151485],[136152802,136152802],[136156753,136156753],[136157913,136157913],[136160902,136160902],[136165765,136165765],[136171649,136171649],[136173220,136173220],[136173735,136173735],[136174552,136174552],[136175692,136175692],[136176805,136176805],[136182484,136182484],[136183188,136183188],[136187252,136187252],[136187345,136187345],[136189475,136189475],[136197702,136197702],[136198435,136198435],[136202937,136202937],[136219999,136219999],[136221500,136221500],[136226626,136226626],[136228929,136228929],[136229598,136229598],[136238270,136238270],[136238346,136238346],[136240769,136240769],[136244171,136244171],[136249245,136249245],[136250285,136250285],[136254419,136254419],[136266241,136266241],[136267808,136267808],[136272074,136272074],[136277304,136277304],[136290607,136290607],[136290663,136290663],[136291310,136291310],[136296051,136296051],[136305392,136305392],[136306890,136306890],[136310803,136310803],[136324225,136324225],[136324465,136324465],[136327305,136327305],[136329618,136329618],[136333300,136333300],[136350089,136350089],[136354204,136354204],[136360455,136360455],[136368563,136368563],[136115507,136115507],[136133627,136133627],[136135820,136135820],[136145676,136145676],[136166014,136166014],[136173684,136173684],[136176031,136176031],[136214307,136214307],[136215590,136215590],[136219265,136219265],[136219831,136219831],[136289471,136289471],[136298739,136298739],[136302296,136302296],[136302897,136302897],[136348702,136348702],[136348964,136348964],[136358707,136358707],[136359608,136359608],[136360402,136360402],[136365624,136365624],[136366970,136366970],[136367871,136367871],[136368393,136368393],[136370701,136370701],[136378539,136378539],[136378895,136378895],[136385280,136385280],[136309239,136309239],[136322472,136322472],[136323787,136323787],[136323862,136323862],[136326765,136326765],[136329500,136329500],[136331657,136331657],[136345356,136345356],[136361560,136361560],[136364916,136364916],[136369497,136369497],[136369580,136369580],[136380846,136380846],[136387893,136387893],[136393157,136393157],[136397433,136397433],[136402116,136402116],[136408291,136408291],[136421548,136421548],[136422784,136422784],[136427745,136427745],[136438950,136438950],[136439805,136439805],[136441410,136441410],[136448855,136448855],[136456090,136456090],[136456675,136456675],[136466831,136466831],[136501840,136501840],[136505546,136505546],[136516748,136516748],[136522710,136522710],[136528004,136528004],[136539513,136539513],[136544752,136544752],[136546110,136546110],[136553529,136553529],[136555659,136555659],[136588031,136588031],[136589278,136589278],[136589379,136589379],[136589741,136589741],[136590746,136590746],[136593553,136593553],[136593678,136593678],[136592050,136592050],[136593702,136593702],[136594286,136594286],[136597208,136597208],[136598860,136598860],[136602952,136602952],[136604560,136604560],[136609719,136609719],[136609746,136609746],[136611251,136611251],[136614905,136614905],[136617387,136617387],[136618520,136618520],[136619484,136619484],[136621603,136621603],[136625862,136625862],[136628308,136628308],[136630618,136630618],[136630687,136630687],[136603638,136603638],[136603690,136603690],[136604210,136604210],[136604345,136604345],[136604346,136604346],[136605111,136605111],[136612598,136612598],[136614955,136614955],[136619114,136619114],[136619213,136619213],[136623900,136623900],[136624123,136624123],[136624155,136624155],[136630170,136630170],[136631415,136631415],[136632125,136632125],[136653925,136653925],[136654833,136654833],[136656534,136656534],[136656536,136656536],[136657252,136657252],[136667301,136667301],[136667487,136667487],[136672775,136672775],[136680534,136680534],[136686393,136686393],[136688749,136688749],[136692553,136692553],[136697371,136697371],[136708787,136708787],[136710372,136710372],[136711064,136711064],[136715324,136715324],[136723504,136723504],[136737460,136737460],[136743143,136743143],[136746224,136746224],[136751842,136751842],[136759379,136759379],[136761853,136761853],[136658238,136658238],[136658821,136658821],[136664975,136664975],[136674123,136674123],[136677052,136677052],[136677919,136677919],[136666402,136666402],[136687260,136687260],[136688452,136688452],[136698242,136698242],[136701773,136701773],[136701926,136701926],[136701930,136701930],[136708426,136708426],[136714412,136714412],[136721430,136721430],[136729906,136729906],[136750914,136750914],[136751990,136751990],[136753305,136753305],[136755711,136755711],[136760887,136760887],[136768655,136768655],[136696010,136696010],[136696794,136696794],[136700762,136700762],[136703387,136703387],[136708405,136708405],[136708737,136708737],[136710616,136710616],[136715715,136715715],[136716781,136716781],[136731550,136731550],[136735482,136735482],[136736120,136736120],[136738235,136738235],[136739038,136739038],[136743138,136743138],[136744366,136744366],[136754269,136754269],[136764564,136764564],[136704466,136704466],[136714792,136714792],[136724974,136724974],[136725890,136725890],[136732214,136732214]],\"ys\":[[850,896],[850,896],[850,896],[850,896],[850,896],[850,896],[850,896],[850,896],[850,896],[850,896],[850,896],[850,896],[850,896],[450,479],[450,479],[450,479],[450,479],[450,479],[450,479],[450,479],[450,479],[450,479],[450,479],[450,479],[450,479],[450,479],[450,479],[450,479],[450,479],[450,479],[450,479],[450,479],[450,479],[450,479],[450,479],[450,479],[450,479],[450,479],[450,479],[450,479],[450,479],[450,479],[450,479],[450,479],[450,479],[450,479],[450,479],[450,479],[450,479],[450,479],[450,479],[450,479],[450,479],[450,479],[450,479],[450,479],[450,479],[450,479],[450,479],[450,479],[450,479],[450,479],[450,479],[450,479],[450,479],[450,479],[450,479],[450,479],[450,479],[450,479],[450,479],[450,479],[450,479],[450,479],[450,479],[450,479],[450,479],[450,479],[450,479],[450,479],[450,479],[450,479],[450,479],[450,479],[450,479],[450,479],[450,479],[450,479],[450,479],[450,479],[450,479],[450,479],[450,479],[450,479],[450,479],[450,479],[450,479],[450,479],[450,479],[450,479],[450,479],[450,479],[450,479],[450,479],[450,479],[450,479],[450,479],[450,479],[450,479],[450,479],[450,479],[450,479],[450,479],[450,479],[450,479],[450,479],[450,479],[450,479],[450,479],[450,479],[450,479],[450,479],[450,479],[450,479],[450,479],[450,479],[450,479],[450,479],[450,479],[450,479],[450,479],[450,479],[450,479],[450,479],[450,479],[450,479],[450,479],[450,479],[450,479],[450,479],[450,479],[450,479],[450,479],[450,479],[450,479],[450,479],[450,479],[450,479],[450,479],[450,479],[450,479],[450,479],[450,479],[450,479],[450,479],[450,479],[450,479],[450,479],[450,479],[450,479],[450,479],[450,479],[450,479],[450,479],[450,479],[450,479],[450,479],[450,479],[450,479],[450,479],[450,479],[450,479],[450,479],[450,479],[450,479],[450,479],[450,479],[450,479],[450,479],[450,479],[450,479],[450,479],[450,479],[450,479],[450,479],[450,479],[450,479],[450,479],[450,479],[450,479],[450,479],[450,479],[450,479],[850,895],[850,895],[850,895],[850,895],[850,895],[850,895],[850,895],[850,895],[850,895],[850,895],[850,895],[850,895],[850,895],[850,895],[850,895],[850,895],[850,895],[850,895],[850,895],[850,895],[850,895],[850,895],[850,895],[850,895],[850,895],[850,895],[850,895],[850,895],[850,895],[850,895],[850,895],[850,895],[850,895],[850,895],[850,895],[850,895],[850,895],[850,895],[850,895],[850,895],[850,895],[850,895],[850,895],[850,895],[850,895],[850,895],[850,895],[850,895],[850,895],[850,895],[850,895],[850,895],[850,895],[850,895],[850,895],[850,895],[850,895],[850,895],[850,895],[850,895],[850,895],[850,895],[850,895],[850,895],[850,895],[850,895],[850,895],[850,895],[850,895],[850,895],[850,895],[850,895],[850,895],[850,895],[850,895],[850,895],[850,895],[850,895],[850,895],[850,895],[850,895],[850,895],[850,895],[850,895],[850,895],[850,895],[850,895],[850,895],[850,895],[850,895],[850,895],[850,895],[850,895],[850,895],[850,895],[850,895],[850,895],[850,895],[850,895],[850,895],[850,895],[850,895],[850,895],[850,895],[850,895],[850,895],[850,895],[850,895],[850,895],[850,895],[850,895],[850,895],[850,895],[850,895],[850,895],[850,895],[850,895],[850,895],[850,895],[850,895],[850,895],[850,895],[850,895],[550,584],[550,584],[550,584],[550,584],[550,584],[550,584],[550,584],[550,584],[550,584],[550,584],[550,584],[550,584],[550,584],[550,584],[550,584],[550,584],[550,584],[550,584],[550,584],[550,584],[550,584],[550,584],[550,584],[550,584],[550,584],[550,584],[550,584],[550,584],[750,790],[750,790],[750,790],[750,790],[750,790],[750,790],[750,790],[750,790],[750,790],[650,687],[650,687],[650,687],[650,687],[650,687],[850,893],[850,893],[850,893],[850,893],[850,893],[850,893],[850,893],[850,893],[850,893],[850,893],[750,787],[750,787],[750,787],[750,787],[950,998],[950,998],[950,998],[950,998],[950,998],[950,998],[950,998],[950,998],[950,998],[950,998],[950,996],[950,996],[950,996],[950,996],[950,996],[950,996],[950,996],[50,70],[50,70],[50,70],[50,70],[50,70],[150,172],[150,172],[150,172],[150,172],[150,172],[150,172],[150,172],[150,172],[150,172],[150,172],[150,172],[150,172],[150,172],[150,172],[650,685],[650,685],[650,685],[650,685],[650,685],[650,685],[650,685],[650,685],[650,685],[650,685],[650,685],[650,685],[650,685],[650,685],[650,685],[650,685],[850,895],[850,895],[850,895],[850,895],[850,895],[850,895],[850,895],[850,895],[850,895],[850,895],[850,895],[850,895],[850,895],[850,895],[850,895],[850,895],[850,895],[850,895],[850,895],[850,895],[850,895],[850,895],[850,895],[850,895],[250,276],[250,276],[250,276],[250,276],[250,276],[250,276],[150,173],[150,173],[150,173],[150,173],[150,173],[150,173],[150,173],[150,173],[150,173],[150,173],[150,173],[150,173],[150,173],[150,173],[150,173],[150,173],[150,173],[350,376],[350,376],[350,376],[350,376],[350,376],[350,376],[350,376],[350,376],[350,376],[350,376],[350,376],[350,376],[350,376],[350,376],[350,376],[350,376],[350,376],[350,376],[450,478],[450,478],[450,478],[450,478],[450,478]]}},\"id\":\"bb20719f-8292-40d6-b0b4-9fe20fe46575\",\"type\":\"ColumnDataSource\"},{\"attributes\":{},\"id\":\"6b69ca44-f5a0-4d40-8400-ec3962154c45\",\"type\":\"BasicTickFormatter\"},{\"attributes\":{\"bottom\":{\"field\":\"bottom\"},\"fill_alpha\":{\"value\":0.1},\"fill_color\":{\"value\":\"#1f77b4\"},\"left\":{\"field\":\"left\"},\"line_alpha\":{\"value\":0.1},\"line_color\":{\"value\":\"#1f77b4\"},\"right\":{\"field\":\"right\"},\"top\":{\"field\":\"top\"}},\"id\":\"8314a7ab-9889-4a41-81ee-1155e24c304f\",\"type\":\"Quad\"},{\"attributes\":{\"callback\":null,\"column_names\":[\"right\",\"bottom\",\"top\",\"left\"],\"data\":{\"bottom\":[1045,1045,1045,1045,1045,1045,1045],\"left\":[135809835,135957574,136289083,136499189,136545415,136597196,136664254],\"right\":[135928279,136288182,136482839,136542633,136594750,136634047,136743222],\"top\":[1075,1075,1075,1075,1075,1075,1075]}},\"id\":\"fd856163-6023-4eef-9c3c-8412af021a64\",\"type\":\"ColumnDataSource\"},{\"attributes\":{\"active_drag\":\"auto\",\"active_scroll\":\"auto\",\"active_tap\":\"auto\",\"tools\":[{\"id\":\"a67901dc-6697-4271-a9e3-3739891b9631\",\"type\":\"PanTool\"},{\"id\":\"689cf8cb-11aa-49c4-90e3-ed4eff2fac77\",\"type\":\"WheelZoomTool\"},{\"id\":\"addbb6f2-a27d-4dc3-b8a0-71c88bfdb47e\",\"type\":\"BoxZoomTool\"},{\"id\":\"1bdff22a-bb1f-4bdb-ba48-799010d58911\",\"type\":\"SaveTool\"},{\"id\":\"982376d0-83d5-42f6-b171-3e5c090236f2\",\"type\":\"ResetTool\"},{\"id\":\"6a034b2b-7621-49d9-8778-b0e5bf1d10ea\",\"type\":\"HelpTool\"}]},\"id\":\"614d4fad-b5c3-46a5-954e-3301088cc677\",\"type\":\"Toolbar\"},{\"attributes\":{\"overlay\":{\"id\":\"45bdf4ac-aa26-43e6-ad85-410a8258067a\",\"type\":\"BoxAnnotation\"},\"plot\":{\"id\":\"03e9bafa-5f44-4c5e-8a36-d2bac6d9f930\",\"subtype\":\"Figure\",\"type\":\"Plot\"}},\"id\":\"addbb6f2-a27d-4dc3-b8a0-71c88bfdb47e\",\"type\":\"BoxZoomTool\"},{\"attributes\":{\"plot\":{\"id\":\"03e9bafa-5f44-4c5e-8a36-d2bac6d9f930\",\"subtype\":\"Figure\",\"type\":\"Plot\"}},\"id\":\"982376d0-83d5-42f6-b171-3e5c090236f2\",\"type\":\"ResetTool\"},{\"attributes\":{\"data_source\":{\"id\":\"fd856163-6023-4eef-9c3c-8412af021a64\",\"type\":\"ColumnDataSource\"},\"glyph\":{\"id\":\"45101bb7-b778-431e-94c5-002ad812e879\",\"type\":\"Quad\"},\"hover_glyph\":null,\"nonselection_glyph\":{\"id\":\"cc9047c1-e6a0-4480-8331-749b5f487b6d\",\"type\":\"Quad\"},\"selection_glyph\":null},\"id\":\"3b892241-9fd9-4782-9a08-d16405ff7a7a\",\"type\":\"GlyphRenderer\"}],\"root_ids\":[\"03e9bafa-5f44-4c5e-8a36-d2bac6d9f930\"]},\"title\":\"Bokeh Application\",\"version\":\"0.12.0\"}};\n",
       "            var render_items = [{\"docid\":\"188ecb15-3758-4ef6-adc5-9969e6443ad3\",\"elementid\":\"32ee43fb-ed83-477c-85c7-21028fa63cc3\",\"modelid\":\"03e9bafa-5f44-4c5e-8a36-d2bac6d9f930\",\"notebook_comms_target\":\"1eba90ef-490f-4ba2-9ee5-00bd489c6929\"}];\n",
       "            \n",
       "            Bokeh.embed.embed_items(docs_json, render_items);\n",
       "        });\n",
       "      },\n",
       "      function(Bokeh) {\n",
       "      }\n",
       "    ];\n",
       "  \n",
       "    function run_inline_js() {\n",
       "      for (var i = 0; i < inline_js.length; i++) {\n",
       "        inline_js[i](window.Bokeh);\n",
       "      }\n",
       "    }\n",
       "  \n",
       "    if (window._bokeh_is_loading === 0) {\n",
       "      console.log(\"Bokeh: BokehJS loaded, going straight to plotting\");\n",
       "      run_inline_js();\n",
       "    } else {\n",
       "      load_libs(js_urls, function() {\n",
       "        console.log(\"Bokeh: BokehJS plotting callback run at\", now());\n",
       "        run_inline_js();\n",
       "      });\n",
       "    }\n",
       "  }(this));\n",
       "</script>"
      ]
     },
     "metadata": {},
     "output_type": "display_data"
    },
    {
     "data": {
      "text/html": [
       "<p><code>&lt;Bokeh Notebook handle for <strong>In[80]</strong>&gt;</code></p>"
      ],
      "text/plain": [
       "<bokeh.io._CommsHandle at 0x7f3f6017ca10>"
      ]
     },
     "execution_count": 80,
     "metadata": {},
     "output_type": "execute_result"
    }
   ],
   "source": [
    "plt_obj = dm.superset_allele_mask(am_6, min_match=0.5)\n",
    "plt = plt_obj.do_plot()\n",
    "show(plt)"
   ]
  },
  {
   "cell_type": "code",
   "execution_count": 81,
   "metadata": {
    "collapsed": false
   },
   "outputs": [
    {
     "data": {
      "text/html": [
       "<table>\n",
       "<thead><tr><th style=\"text-align:center\">index</th><th style=\"text-align:center\">first</th><th style=\"text-align:center\">length</th><th style=\"text-align:center\">snps</th><th style=\"text-align:center\" colspan=2>alleles</th><th style=\"text-align:center\" colspan=2>matches</th><th style=\"text-align:center\" colspan=2>afr</th><th style=\"text-align:center\" colspan=2>afx</th><th style=\"text-align:center\" colspan=2>amr</th><th style=\"text-align:center\" colspan=2>eas</th><th style=\"text-align:center\" colspan=2>eur</th><th style=\"text-align:center\" colspan=2>sas</th><th style=\"text-align:center\" colspan=2>sax</th></tr></thead>\n",
       "<tr class=\"even\"><td style=\"text-align: right;\">353921</td><td style=\"text-align: right;\">136,501,840</td><td style=\"text-align: right;\">53,819</td><td style=\"text-align: right;\">10</td><td style=\"text-align: right;\">2206</td><td style=\"text-align: right;\">0.00</td><td style=\"text-align: right;\">5</td><td style=\"text-align: right;\">0.83</td><td style=\"text-align: right;\">4</td><td style=\"text-align: right;\">3.97</td><td style=\"text-align: right;\">0</td><td style=\"text-align: right;\">0.00</td><td style=\"text-align: right;\">1</td><td style=\"text-align: right;\">1.44</td><td style=\"text-align: right;\">0</td><td style=\"text-align: right;\">0.00</td><td style=\"text-align: right;\">0</td><td style=\"text-align: right;\">0.00</td><td style=\"text-align: right;\">0</td><td style=\"text-align: right;\">0.00</td><td style=\"text-align: right;\">0</td><td style=\"text-align: right;\">0.00</td></tr>\n",
       "<tr><td style=\"text-align: right;\">354033</td><td style=\"text-align: right;\">136,588,031</td><td style=\"text-align: right;\">5,647</td><td style=\"text-align: right;\">7</td><td style=\"text-align: right;\">1760</td><td style=\"text-align: right;\">0.00</td><td style=\"text-align: right;\">6</td><td style=\"text-align: right;\">1.00</td><td style=\"text-align: right;\">4</td><td style=\"text-align: right;\">3.31</td><td style=\"text-align: right;\">0</td><td style=\"text-align: right;\">0.00</td><td style=\"text-align: right;\">2</td><td style=\"text-align: right;\">2.41</td><td style=\"text-align: right;\">0</td><td style=\"text-align: right;\">0.00</td><td style=\"text-align: right;\">0</td><td style=\"text-align: right;\">0.00</td><td style=\"text-align: right;\">0</td><td style=\"text-align: right;\">0.00</td><td style=\"text-align: right;\">0</td><td style=\"text-align: right;\">0.00</td></tr>\n",
       "<tr class=\"even\"><td style=\"text-align: right;\">353240</td><td style=\"text-align: right;\">135,757,320</td><td style=\"text-align: right;\">20,184</td><td style=\"text-align: right;\">13</td><td style=\"text-align: right;\">1696</td><td style=\"text-align: right;\">0.00</td><td style=\"text-align: right;\">6</td><td style=\"text-align: right;\">1.00</td><td style=\"text-align: right;\">4</td><td style=\"text-align: right;\">3.31</td><td style=\"text-align: right;\">0</td><td style=\"text-align: right;\">0.00</td><td style=\"text-align: right;\">2</td><td style=\"text-align: right;\">2.41</td><td style=\"text-align: right;\">0</td><td style=\"text-align: right;\">0.00</td><td style=\"text-align: right;\">0</td><td style=\"text-align: right;\">0.00</td><td style=\"text-align: right;\">0</td><td style=\"text-align: right;\">0.00</td><td style=\"text-align: right;\">0</td><td style=\"text-align: right;\">0.00</td></tr>\n",
       "<tr><td style=\"text-align: right;\">353478</td><td style=\"text-align: right;\">135,933,921</td><td style=\"text-align: right;\">434,642</td><td style=\"text-align: right;\">123</td><td style=\"text-align: right;\">1561</td><td style=\"text-align: right;\">0.00</td><td style=\"text-align: right;\">5</td><td style=\"text-align: right;\">0.83</td><td style=\"text-align: right;\">4</td><td style=\"text-align: right;\">3.97</td><td style=\"text-align: right;\">0</td><td style=\"text-align: right;\">0.00</td><td style=\"text-align: right;\">1</td><td style=\"text-align: right;\">1.44</td><td style=\"text-align: right;\">0</td><td style=\"text-align: right;\">0.00</td><td style=\"text-align: right;\">0</td><td style=\"text-align: right;\">0.00</td><td style=\"text-align: right;\">0</td><td style=\"text-align: right;\">0.00</td><td style=\"text-align: right;\">0</td><td style=\"text-align: right;\">0.00</td></tr>\n",
       "<tr class=\"even\"><td style=\"text-align: right;\">354130</td><td style=\"text-align: right;\">136,653,925</td><td style=\"text-align: right;\">107,928</td><td style=\"text-align: right;\">24</td><td style=\"text-align: right;\">1504</td><td style=\"text-align: right;\">0.00</td><td style=\"text-align: right;\">6</td><td style=\"text-align: right;\">1.00</td><td style=\"text-align: right;\">4</td><td style=\"text-align: right;\">3.31</td><td style=\"text-align: right;\">0</td><td style=\"text-align: right;\">0.00</td><td style=\"text-align: right;\">2</td><td style=\"text-align: right;\">2.41</td><td style=\"text-align: right;\">0</td><td style=\"text-align: right;\">0.00</td><td style=\"text-align: right;\">0</td><td style=\"text-align: right;\">0.00</td><td style=\"text-align: right;\">0</td><td style=\"text-align: right;\">0.00</td><td style=\"text-align: right;\">0</td><td style=\"text-align: right;\">0.00</td></tr>\n",
       "<tr><td style=\"text-align: right;\">353790</td><td style=\"text-align: right;\">136,393,157</td><td style=\"text-align: right;\">48,253</td><td style=\"text-align: right;\">10</td><td style=\"text-align: right;\">1218</td><td style=\"text-align: right;\">0.00</td><td style=\"text-align: right;\">5</td><td style=\"text-align: right;\">0.83</td><td style=\"text-align: right;\">4</td><td style=\"text-align: right;\">3.97</td><td style=\"text-align: right;\">0</td><td style=\"text-align: right;\">0.00</td><td style=\"text-align: right;\">1</td><td style=\"text-align: right;\">1.44</td><td style=\"text-align: right;\">0</td><td style=\"text-align: right;\">0.00</td><td style=\"text-align: right;\">0</td><td style=\"text-align: right;\">0.00</td><td style=\"text-align: right;\">0</td><td style=\"text-align: right;\">0.00</td><td style=\"text-align: right;\">0</td><td style=\"text-align: right;\">0.00</td></tr>\n",
       "<tr class=\"even\"><td style=\"text-align: right;\">353729</td><td style=\"text-align: right;\">136,309,239</td><td style=\"text-align: right;\">52,321</td><td style=\"text-align: right;\">9</td><td style=\"text-align: right;\">887</td><td style=\"text-align: right;\">0.01</td><td style=\"text-align: right;\">6</td><td style=\"text-align: right;\">1.00</td><td style=\"text-align: right;\">4</td><td style=\"text-align: right;\">3.31</td><td style=\"text-align: right;\">0</td><td style=\"text-align: right;\">0.00</td><td style=\"text-align: right;\">2</td><td style=\"text-align: right;\">2.41</td><td style=\"text-align: right;\">0</td><td style=\"text-align: right;\">0.00</td><td style=\"text-align: right;\">0</td><td style=\"text-align: right;\">0.00</td><td style=\"text-align: right;\">0</td><td style=\"text-align: right;\">0.00</td><td style=\"text-align: right;\">0</td><td style=\"text-align: right;\">0.00</td></tr>\n",
       "<tr><td style=\"text-align: right;\">353851</td><td style=\"text-align: right;\">136,448,855</td><td style=\"text-align: right;\">17,976</td><td style=\"text-align: right;\">4</td><td style=\"text-align: right;\">612</td><td style=\"text-align: right;\">0.01</td><td style=\"text-align: right;\">6</td><td style=\"text-align: right;\">1.00</td><td style=\"text-align: right;\">4</td><td style=\"text-align: right;\">3.31</td><td style=\"text-align: right;\">0</td><td style=\"text-align: right;\">0.00</td><td style=\"text-align: right;\">2</td><td style=\"text-align: right;\">2.41</td><td style=\"text-align: right;\">0</td><td style=\"text-align: right;\">0.00</td><td style=\"text-align: right;\">0</td><td style=\"text-align: right;\">0.00</td><td style=\"text-align: right;\">0</td><td style=\"text-align: right;\">0.00</td><td style=\"text-align: right;\">0</td><td style=\"text-align: right;\">0.00</td></tr>\n",
       "<tr class=\"even\"><td style=\"text-align: right;\">353764</td><td style=\"text-align: right;\">136,364,916</td><td style=\"text-align: right;\">22,977</td><td style=\"text-align: right;\">5</td><td style=\"text-align: right;\">588</td><td style=\"text-align: right;\">0.01</td><td style=\"text-align: right;\">6</td><td style=\"text-align: right;\">1.00</td><td style=\"text-align: right;\">4</td><td style=\"text-align: right;\">3.31</td><td style=\"text-align: right;\">0</td><td style=\"text-align: right;\">0.00</td><td style=\"text-align: right;\">2</td><td style=\"text-align: right;\">2.41</td><td style=\"text-align: right;\">0</td><td style=\"text-align: right;\">0.00</td><td style=\"text-align: right;\">0</td><td style=\"text-align: right;\">0.00</td><td style=\"text-align: right;\">0</td><td style=\"text-align: right;\">0.00</td><td style=\"text-align: right;\">0</td><td style=\"text-align: right;\">0.00</td></tr>\n",
       "<tr><td style=\"text-align: right;\">354061</td><td style=\"text-align: right;\">136,603,638</td><td style=\"text-align: right;\">28,487</td><td style=\"text-align: right;\">16</td><td style=\"text-align: right;\">511</td><td style=\"text-align: right;\">0.01</td><td style=\"text-align: right;\">5</td><td style=\"text-align: right;\">0.83</td><td style=\"text-align: right;\">4</td><td style=\"text-align: right;\">3.97</td><td style=\"text-align: right;\">0</td><td style=\"text-align: right;\">0.00</td><td style=\"text-align: right;\">1</td><td style=\"text-align: right;\">1.44</td><td style=\"text-align: right;\">0</td><td style=\"text-align: right;\">0.00</td><td style=\"text-align: right;\">0</td><td style=\"text-align: right;\">0.00</td><td style=\"text-align: right;\">0</td><td style=\"text-align: right;\">0.00</td><td style=\"text-align: right;\">0</td><td style=\"text-align: right;\">0.00</td></tr>\n",
       "<tr class=\"even\"><td style=\"text-align: right;\">353614</td><td style=\"text-align: right;\">136,115,507</td><td style=\"text-align: right;\">269,773</td><td style=\"text-align: right;\">28</td><td style=\"text-align: right;\">434</td><td style=\"text-align: right;\">0.01</td><td style=\"text-align: right;\">6</td><td style=\"text-align: right;\">1.00</td><td style=\"text-align: right;\">4</td><td style=\"text-align: right;\">3.31</td><td style=\"text-align: right;\">0</td><td style=\"text-align: right;\">0.00</td><td style=\"text-align: right;\">2</td><td style=\"text-align: right;\">2.41</td><td style=\"text-align: right;\">0</td><td style=\"text-align: right;\">0.00</td><td style=\"text-align: right;\">0</td><td style=\"text-align: right;\">0.00</td><td style=\"text-align: right;\">0</td><td style=\"text-align: right;\">0.00</td><td style=\"text-align: right;\">0</td><td style=\"text-align: right;\">0.00</td></tr>\n",
       "<tr><td style=\"text-align: right;\">353288</td><td style=\"text-align: right;\">135,773,319</td><td style=\"text-align: right;\">720,812</td><td style=\"text-align: right;\">180</td><td style=\"text-align: right;\">251</td><td style=\"text-align: right;\">0.02</td><td style=\"text-align: right;\">5</td><td style=\"text-align: right;\">0.83</td><td style=\"text-align: right;\">4</td><td style=\"text-align: right;\">3.97</td><td style=\"text-align: right;\">0</td><td style=\"text-align: right;\">0.00</td><td style=\"text-align: right;\">1</td><td style=\"text-align: right;\">1.44</td><td style=\"text-align: right;\">0</td><td style=\"text-align: right;\">0.00</td><td style=\"text-align: right;\">0</td><td style=\"text-align: right;\">0.00</td><td style=\"text-align: right;\">0</td><td style=\"text-align: right;\">0.00</td><td style=\"text-align: right;\">0</td><td style=\"text-align: right;\">0.00</td></tr>\n",
       "<tr class=\"even\"><td style=\"text-align: right;\">354189</td><td style=\"text-align: right;\">136,704,466</td><td style=\"text-align: right;\">27,748</td><td style=\"text-align: right;\">5</td><td style=\"text-align: right;\">212</td><td style=\"text-align: right;\">0.02</td><td style=\"text-align: right;\">5</td><td style=\"text-align: right;\">0.83</td><td style=\"text-align: right;\">4</td><td style=\"text-align: right;\">3.97</td><td style=\"text-align: right;\">0</td><td style=\"text-align: right;\">0.00</td><td style=\"text-align: right;\">1</td><td style=\"text-align: right;\">1.44</td><td style=\"text-align: right;\">0</td><td style=\"text-align: right;\">0.00</td><td style=\"text-align: right;\">0</td><td style=\"text-align: right;\">0.00</td><td style=\"text-align: right;\">0</td><td style=\"text-align: right;\">0.00</td><td style=\"text-align: right;\">0</td><td style=\"text-align: right;\">0.00</td></tr>\n",
       "<tr><td style=\"text-align: right;\">354181</td><td style=\"text-align: right;\">136,696,010</td><td style=\"text-align: right;\">68,554</td><td style=\"text-align: right;\">18</td><td style=\"text-align: right;\">172</td><td style=\"text-align: right;\">0.03</td><td style=\"text-align: right;\">5</td><td style=\"text-align: right;\">0.83</td><td style=\"text-align: right;\">4</td><td style=\"text-align: right;\">3.97</td><td style=\"text-align: right;\">0</td><td style=\"text-align: right;\">0.00</td><td style=\"text-align: right;\">1</td><td style=\"text-align: right;\">1.44</td><td style=\"text-align: right;\">0</td><td style=\"text-align: right;\">0.00</td><td style=\"text-align: right;\">0</td><td style=\"text-align: right;\">0.00</td><td style=\"text-align: right;\">0</td><td style=\"text-align: right;\">0.00</td><td style=\"text-align: right;\">0</td><td style=\"text-align: right;\">0.00</td></tr>\n",
       "<tr class=\"even\"><td style=\"text-align: right;\">354143</td><td style=\"text-align: right;\">136,658,238</td><td style=\"text-align: right;\">19,681</td><td style=\"text-align: right;\">6</td><td style=\"text-align: right;\">167</td><td style=\"text-align: right;\">0.03</td><td style=\"text-align: right;\">5</td><td style=\"text-align: right;\">0.83</td><td style=\"text-align: right;\">4</td><td style=\"text-align: right;\">3.97</td><td style=\"text-align: right;\">0</td><td style=\"text-align: right;\">0.00</td><td style=\"text-align: right;\">1</td><td style=\"text-align: right;\">1.44</td><td style=\"text-align: right;\">0</td><td style=\"text-align: right;\">0.00</td><td style=\"text-align: right;\">0</td><td style=\"text-align: right;\">0.00</td><td style=\"text-align: right;\">0</td><td style=\"text-align: right;\">0.00</td><td style=\"text-align: right;\">0</td><td style=\"text-align: right;\">0.00</td></tr>\n",
       "<tr><td style=\"text-align: right;\">354156</td><td style=\"text-align: right;\">136,666,402</td><td style=\"text-align: right;\">102,253</td><td style=\"text-align: right;\">17</td><td style=\"text-align: right;\">121</td><td style=\"text-align: right;\">0.04</td><td style=\"text-align: right;\">5</td><td style=\"text-align: right;\">0.83</td><td style=\"text-align: right;\">4</td><td style=\"text-align: right;\">3.97</td><td style=\"text-align: right;\">0</td><td style=\"text-align: right;\">0.00</td><td style=\"text-align: right;\">1</td><td style=\"text-align: right;\">1.44</td><td style=\"text-align: right;\">0</td><td style=\"text-align: right;\">0.00</td><td style=\"text-align: right;\">0</td><td style=\"text-align: right;\">0.00</td><td style=\"text-align: right;\">0</td><td style=\"text-align: right;\">0.00</td><td style=\"text-align: right;\">0</td><td style=\"text-align: right;\">0.00</td></tr>\n",
       "<tr class=\"even\"><td style=\"text-align: right;\">354058</td><td style=\"text-align: right;\">136,602,952</td><td style=\"text-align: right;\">27,735</td><td style=\"text-align: right;\">14</td><td style=\"text-align: right;\">104</td><td style=\"text-align: right;\">0.05</td><td style=\"text-align: right;\">5</td><td style=\"text-align: right;\">0.83</td><td style=\"text-align: right;\">4</td><td style=\"text-align: right;\">3.97</td><td style=\"text-align: right;\">0</td><td style=\"text-align: right;\">0.00</td><td style=\"text-align: right;\">1</td><td style=\"text-align: right;\">1.44</td><td style=\"text-align: right;\">0</td><td style=\"text-align: right;\">0.00</td><td style=\"text-align: right;\">0</td><td style=\"text-align: right;\">0.00</td><td style=\"text-align: right;\">0</td><td style=\"text-align: right;\">0.00</td><td style=\"text-align: right;\">0</td><td style=\"text-align: right;\">0.00</td></tr>\n",
       "<tr><td style=\"text-align: right;\">354039</td><td style=\"text-align: right;\">136,592,050</td><td style=\"text-align: right;\">6,810</td><td style=\"text-align: right;\">5</td><td style=\"text-align: right;\">86</td><td style=\"text-align: right;\">0.06</td><td style=\"text-align: right;\">5</td><td style=\"text-align: right;\">0.83</td><td style=\"text-align: right;\">4</td><td style=\"text-align: right;\">3.97</td><td style=\"text-align: right;\">0</td><td style=\"text-align: right;\">0.00</td><td style=\"text-align: right;\">1</td><td style=\"text-align: right;\">1.44</td><td style=\"text-align: right;\">0</td><td style=\"text-align: right;\">0.00</td><td style=\"text-align: right;\">0</td><td style=\"text-align: right;\">0.00</td><td style=\"text-align: right;\">0</td><td style=\"text-align: right;\">0.00</td><td style=\"text-align: right;\">0</td><td style=\"text-align: right;\">0.00</td></tr>\n",
       "</table>"
      ],
      "text/plain": [
       "<IPython.core.display.HTML object>"
      ]
     },
     "execution_count": 81,
     "metadata": {},
     "output_type": "execute_result"
    }
   ],
   "source": [
    "HTML(plt_obj.get_html())"
   ]
  },
  {
   "cell_type": "code",
   "execution_count": 82,
   "metadata": {
    "collapsed": false
   },
   "outputs": [
    {
     "data": {
      "text/html": [
       "\n",
       "\n",
       "    <div class=\"bk-root\">\n",
       "        <div class=\"plotdiv\" id=\"f8efac15-8c99-466b-88ae-0c5d0dbe1dba\"></div>\n",
       "    </div>\n",
       "<script type=\"text/javascript\">\n",
       "  \n",
       "  (function(global) {\n",
       "    function now() {\n",
       "      return new Date();\n",
       "    }\n",
       "  \n",
       "    if (typeof (window._bokeh_onload_callbacks) === \"undefined\") {\n",
       "      window._bokeh_onload_callbacks = [];\n",
       "    }\n",
       "  \n",
       "    function run_callbacks() {\n",
       "      window._bokeh_onload_callbacks.forEach(function(callback) { callback() });\n",
       "      delete window._bokeh_onload_callbacks\n",
       "      console.info(\"Bokeh: all callbacks have finished\");\n",
       "    }\n",
       "  \n",
       "    function load_libs(js_urls, callback) {\n",
       "      window._bokeh_onload_callbacks.push(callback);\n",
       "      if (window._bokeh_is_loading > 0) {\n",
       "        console.log(\"Bokeh: BokehJS is being loaded, scheduling callback at\", now());\n",
       "        return null;\n",
       "      }\n",
       "      if (js_urls == null || js_urls.length === 0) {\n",
       "        run_callbacks();\n",
       "        return null;\n",
       "      }\n",
       "      console.log(\"Bokeh: BokehJS not loaded, scheduling load and callback at\", now());\n",
       "      window._bokeh_is_loading = js_urls.length;\n",
       "      for (var i = 0; i < js_urls.length; i++) {\n",
       "        var url = js_urls[i];\n",
       "        var s = document.createElement('script');\n",
       "        s.src = url;\n",
       "        s.async = false;\n",
       "        s.onreadystatechange = s.onload = function() {\n",
       "          window._bokeh_is_loading--;\n",
       "          if (window._bokeh_is_loading === 0) {\n",
       "            console.log(\"Bokeh: all BokehJS libraries loaded\");\n",
       "            run_callbacks()\n",
       "          }\n",
       "        };\n",
       "        s.onerror = function() {\n",
       "          console.warn(\"failed to load library \" + url);\n",
       "        };\n",
       "        console.log(\"Bokeh: injecting script tag for BokehJS library: \", url);\n",
       "        document.getElementsByTagName(\"head\")[0].appendChild(s);\n",
       "      }\n",
       "    };var element = document.getElementById(\"f8efac15-8c99-466b-88ae-0c5d0dbe1dba\");\n",
       "    if (element == null) {\n",
       "      console.log(\"Bokeh: ERROR: autoload.js configured with elementid 'f8efac15-8c99-466b-88ae-0c5d0dbe1dba' but no matching script tag was found. \")\n",
       "      return false;\n",
       "    }\n",
       "  \n",
       "    var js_urls = [];\n",
       "  \n",
       "    var inline_js = [\n",
       "      function(Bokeh) {\n",
       "        Bokeh.$(function() {\n",
       "            var docs_json = {\"7d7f20e3-23c6-4a22-a9d8-51f60d4c3cca\":{\"roots\":{\"references\":[{\"attributes\":{\"formatter\":{\"id\":\"076ccab3-be2c-4000-b7e7-eb5d314dd365\",\"type\":\"BasicTickFormatter\"},\"plot\":{\"id\":\"78b54ea6-fc62-4f9d-825e-23e9b6251906\",\"subtype\":\"Figure\",\"type\":\"Plot\"},\"ticker\":{\"id\":\"66884229-3e5c-4811-8c2a-f25c55e119ae\",\"type\":\"BasicTicker\"}},\"id\":\"df7caa7f-fcca-491d-a377-5cadd4da7d2f\",\"type\":\"LinearAxis\"},{\"attributes\":{\"formatter\":{\"id\":\"ea86903f-706e-441f-a515-ded327ac3119\",\"type\":\"BasicTickFormatter\"},\"plot\":{\"id\":\"78b54ea6-fc62-4f9d-825e-23e9b6251906\",\"subtype\":\"Figure\",\"type\":\"Plot\"},\"ticker\":{\"id\":\"4d51abe3-08da-4344-ad03-6ceb560e6e4e\",\"type\":\"BasicTicker\"},\"visible\":null},\"id\":\"e1a5252b-a0e6-49b0-be4f-a4003f4f729f\",\"type\":\"LinearAxis\"},{\"attributes\":{\"callback\":null,\"column_names\":[\"y\",\"x\",\"vals\"],\"data\":{\"vals\":[\"RAB3GAP1\",\"ZRANB3\",\"R3HDM1\",\"UBXN4\",\"LCT\",\"MCM6\",\"DARS\"],\"x\":[135869057.0,136122878.0,136385961.0,136520911.0,136570082.5,136615621.5,136703738.0],\"y\":[960.0,960.0,960.0,960.0,960.0,960.0,960.0]}},\"id\":\"d6d0a6ce-3554-4cb0-9ff8-661ab6530a4c\",\"type\":\"ColumnDataSource\"},{\"attributes\":{\"data_source\":{\"id\":\"a118a20a-02f6-44c4-9fbf-d522f84a4667\",\"type\":\"ColumnDataSource\"},\"glyph\":{\"id\":\"142adda0-b6e2-47b1-9f69-2547b7729e13\",\"type\":\"Quad\"},\"hover_glyph\":null,\"nonselection_glyph\":{\"id\":\"60d3ab21-2808-41f2-9ed2-781b08fe7fbe\",\"type\":\"Quad\"},\"selection_glyph\":null},\"id\":\"5b984ac2-0351-43a4-80ff-98a5cccacafe\",\"type\":\"GlyphRenderer\"},{\"attributes\":{\"plot\":{\"id\":\"78b54ea6-fc62-4f9d-825e-23e9b6251906\",\"subtype\":\"Figure\",\"type\":\"Plot\"}},\"id\":\"3449b10d-f46a-444a-b9bd-f2e94b9417f7\",\"type\":\"PanTool\"},{\"attributes\":{},\"id\":\"ea86903f-706e-441f-a515-ded327ac3119\",\"type\":\"BasicTickFormatter\"},{\"attributes\":{\"bottom\":{\"field\":\"bottom\"},\"fill_alpha\":{\"value\":0.1},\"fill_color\":{\"value\":\"#1f77b4\"},\"left\":{\"field\":\"left\"},\"line_alpha\":{\"value\":0.1},\"line_color\":{\"value\":\"#1f77b4\"},\"right\":{\"field\":\"right\"},\"top\":{\"field\":\"top\"}},\"id\":\"60d3ab21-2808-41f2-9ed2-781b08fe7fbe\",\"type\":\"Quad\"},{\"attributes\":{\"data_source\":{\"id\":\"fd6f525a-ce62-4ca3-9d94-307705934d74\",\"type\":\"ColumnDataSource\"},\"glyph\":{\"id\":\"f89272ee-9d88-492c-bfde-02e19864782c\",\"type\":\"Quad\"},\"hover_glyph\":null,\"nonselection_glyph\":{\"id\":\"58dd0b9c-f257-4323-b881-596bf34d78ee\",\"type\":\"Quad\"},\"selection_glyph\":null},\"id\":\"ea82d81b-953c-4d76-99d3-15c84bca0349\",\"type\":\"GlyphRenderer\"},{\"attributes\":{\"plot\":{\"id\":\"78b54ea6-fc62-4f9d-825e-23e9b6251906\",\"subtype\":\"Figure\",\"type\":\"Plot\"}},\"id\":\"8b1bc634-bad4-4538-8d8f-6cba0e54f6d9\",\"type\":\"ResetTool\"},{\"attributes\":{\"callback\":null,\"column_names\":[\"right\",\"bottom\",\"top\",\"left\"],\"data\":{\"bottom\":[945,945,945,945,945,945,945],\"left\":[135809835,135957574,136289083,136499189,136545415,136597196,136664254],\"right\":[135928279,136288182,136482839,136542633,136594750,136634047,136743222],\"top\":[975,975,975,975,975,975,975]}},\"id\":\"a118a20a-02f6-44c4-9fbf-d522f84a4667\",\"type\":\"ColumnDataSource\"},{\"attributes\":{\"callback\":null,\"end\":1000},\"id\":\"30e3c63e-0171-465a-a268-80554341b6fc\",\"type\":\"Range1d\"},{\"attributes\":{\"level\":\"glyph\",\"plot\":{\"id\":\"78b54ea6-fc62-4f9d-825e-23e9b6251906\",\"subtype\":\"Figure\",\"type\":\"Plot\"},\"source\":{\"id\":\"f73a7048-643b-4f6d-a96d-ebf47547d47b\",\"type\":\"ColumnDataSource\"},\"text\":{\"field\":\"vals\"},\"text_font_size\":{\"value\":\"9pt\"},\"text_font_style\":\"bold\",\"x\":{\"field\":\"x\"},\"y\":{\"field\":\"y\"}},\"id\":\"7da71f22-6cda-4070-a04c-76c52c0f031c\",\"type\":\"LabelSet\"},{\"attributes\":{\"bottom_units\":\"screen\",\"fill_alpha\":{\"value\":0.5},\"fill_color\":{\"value\":\"lightgrey\"},\"left_units\":\"screen\",\"level\":\"overlay\",\"line_alpha\":{\"value\":1.0},\"line_color\":{\"value\":\"black\"},\"line_dash\":[4,4],\"line_width\":{\"value\":2},\"plot\":null,\"render_mode\":\"css\",\"right_units\":\"screen\",\"top_units\":\"screen\"},\"id\":\"145eff98-89dd-453c-a7a9-d21e37743b83\",\"type\":\"BoxAnnotation\"},{\"attributes\":{\"line_alpha\":{\"value\":0.1},\"line_color\":{\"value\":\"#1f77b4\"},\"xs\":{\"field\":\"xs\"},\"ys\":{\"field\":\"ys\"}},\"id\":\"09015200-8c57-45b3-9402-7c97cef28003\",\"type\":\"MultiLine\"},{\"attributes\":{\"dimension\":1,\"plot\":{\"id\":\"78b54ea6-fc62-4f9d-825e-23e9b6251906\",\"subtype\":\"Figure\",\"type\":\"Plot\"},\"ticker\":{\"id\":\"4d51abe3-08da-4344-ad03-6ceb560e6e4e\",\"type\":\"BasicTicker\"}},\"id\":\"4ad5ee6f-d478-4364-9575-b79217395727\",\"type\":\"Grid\"},{\"attributes\":{},\"id\":\"4d51abe3-08da-4344-ad03-6ceb560e6e4e\",\"type\":\"BasicTicker\"},{\"attributes\":{\"plot\":{\"id\":\"78b54ea6-fc62-4f9d-825e-23e9b6251906\",\"subtype\":\"Figure\",\"type\":\"Plot\"},\"ticker\":{\"id\":\"66884229-3e5c-4811-8c2a-f25c55e119ae\",\"type\":\"BasicTicker\"}},\"id\":\"73405551-b2ac-4a66-9f6c-e819b0662b7b\",\"type\":\"Grid\"},{\"attributes\":{},\"id\":\"076ccab3-be2c-4000-b7e7-eb5d314dd365\",\"type\":\"BasicTickFormatter\"},{\"attributes\":{\"active_drag\":\"auto\",\"active_scroll\":\"auto\",\"active_tap\":\"auto\",\"tools\":[{\"id\":\"3449b10d-f46a-444a-b9bd-f2e94b9417f7\",\"type\":\"PanTool\"},{\"id\":\"9bd5743c-18f0-4ee8-b8bc-cb55905659a3\",\"type\":\"WheelZoomTool\"},{\"id\":\"367ae024-0296-44cf-b172-2ad3c0e699b3\",\"type\":\"BoxZoomTool\"},{\"id\":\"78384366-5f58-4e9a-85c8-1119094ddc73\",\"type\":\"SaveTool\"},{\"id\":\"8b1bc634-bad4-4538-8d8f-6cba0e54f6d9\",\"type\":\"ResetTool\"},{\"id\":\"f53fbaf2-9088-41d8-981f-8c4399cd9c41\",\"type\":\"HelpTool\"}]},\"id\":\"92e7c921-7548-41d6-aee9-62a48705d421\",\"type\":\"Toolbar\"},{\"attributes\":{\"below\":[{\"id\":\"df7caa7f-fcca-491d-a377-5cadd4da7d2f\",\"type\":\"LinearAxis\"}],\"left\":[{\"id\":\"e1a5252b-a0e6-49b0-be4f-a4003f4f729f\",\"type\":\"LinearAxis\"}],\"plot_height\":1000,\"plot_width\":900,\"renderers\":[{\"id\":\"df7caa7f-fcca-491d-a377-5cadd4da7d2f\",\"type\":\"LinearAxis\"},{\"id\":\"73405551-b2ac-4a66-9f6c-e819b0662b7b\",\"type\":\"Grid\"},{\"id\":\"e1a5252b-a0e6-49b0-be4f-a4003f4f729f\",\"type\":\"LinearAxis\"},{\"id\":\"4ad5ee6f-d478-4364-9575-b79217395727\",\"type\":\"Grid\"},{\"id\":\"145eff98-89dd-453c-a7a9-d21e37743b83\",\"type\":\"BoxAnnotation\"},{\"id\":\"ea82d81b-953c-4d76-99d3-15c84bca0349\",\"type\":\"GlyphRenderer\"},{\"id\":\"8769e263-9766-40e8-bc3c-e83ddb88b9e3\",\"type\":\"GlyphRenderer\"},{\"id\":\"7da71f22-6cda-4070-a04c-76c52c0f031c\",\"type\":\"LabelSet\"},{\"id\":\"5b984ac2-0351-43a4-80ff-98a5cccacafe\",\"type\":\"GlyphRenderer\"},{\"id\":\"f604cea1-2f46-4032-a606-1a5df068aa95\",\"type\":\"LabelSet\"}],\"title\":{\"id\":\"ba3ff803-5ed0-49cb-9e10-37bd3aecb586\",\"type\":\"Title\"},\"tool_events\":{\"id\":\"9684124e-070d-4341-835a-3d1bbc4f37a1\",\"type\":\"ToolEvents\"},\"toolbar\":{\"id\":\"92e7c921-7548-41d6-aee9-62a48705d421\",\"type\":\"Toolbar\"},\"toolbar_location\":null,\"x_range\":{\"id\":\"fc9f12d6-7929-4569-bf47-a4d9b1fb6e0f\",\"type\":\"Range1d\"},\"y_range\":{\"id\":\"30e3c63e-0171-465a-a268-80554341b6fc\",\"type\":\"Range1d\"}},\"id\":\"78b54ea6-fc62-4f9d-825e-23e9b6251906\",\"subtype\":\"Figure\",\"type\":\"Plot\"},{\"attributes\":{\"data_source\":{\"id\":\"228e1678-fc84-48ba-93ea-87ab7355b33d\",\"type\":\"ColumnDataSource\"},\"glyph\":{\"id\":\"bef40a6a-f361-4efa-b642-1371a16c49be\",\"type\":\"MultiLine\"},\"hover_glyph\":null,\"nonselection_glyph\":{\"id\":\"09015200-8c57-45b3-9402-7c97cef28003\",\"type\":\"MultiLine\"},\"selection_glyph\":null},\"id\":\"8769e263-9766-40e8-bc3c-e83ddb88b9e3\",\"type\":\"GlyphRenderer\"},{\"attributes\":{\"bottom\":{\"field\":\"bottom\"},\"fill_alpha\":{\"value\":0.1},\"fill_color\":{\"value\":\"#1f77b4\"},\"left\":{\"field\":\"left\"},\"line_alpha\":{\"value\":0.1},\"line_color\":{\"value\":\"#1f77b4\"},\"right\":{\"field\":\"right\"},\"top\":{\"field\":\"top\"}},\"id\":\"58dd0b9c-f257-4323-b881-596bf34d78ee\",\"type\":\"Quad\"},{\"attributes\":{},\"id\":\"66884229-3e5c-4811-8c2a-f25c55e119ae\",\"type\":\"BasicTicker\"},{\"attributes\":{\"plot\":{\"id\":\"78b54ea6-fc62-4f9d-825e-23e9b6251906\",\"subtype\":\"Figure\",\"type\":\"Plot\"}},\"id\":\"9bd5743c-18f0-4ee8-b8bc-cb55905659a3\",\"type\":\"WheelZoomTool\"},{\"attributes\":{\"overlay\":{\"id\":\"145eff98-89dd-453c-a7a9-d21e37743b83\",\"type\":\"BoxAnnotation\"},\"plot\":{\"id\":\"78b54ea6-fc62-4f9d-825e-23e9b6251906\",\"subtype\":\"Figure\",\"type\":\"Plot\"}},\"id\":\"367ae024-0296-44cf-b172-2ad3c0e699b3\",\"type\":\"BoxZoomTool\"},{\"attributes\":{\"plot\":{\"id\":\"78b54ea6-fc62-4f9d-825e-23e9b6251906\",\"subtype\":\"Figure\",\"type\":\"Plot\"}},\"id\":\"f53fbaf2-9088-41d8-981f-8c4399cd9c41\",\"type\":\"HelpTool\"},{\"attributes\":{},\"id\":\"9684124e-070d-4341-835a-3d1bbc4f37a1\",\"type\":\"ToolEvents\"},{\"attributes\":{\"callback\":null,\"end\":136786630,\"start\":135757320},\"id\":\"fc9f12d6-7929-4569-bf47-a4d9b1fb6e0f\",\"type\":\"Range1d\"},{\"attributes\":{\"callback\":null,\"column_names\":[\"y\",\"x\",\"vals\"],\"data\":{\"vals\":[\"13_1696\",\"117_1685\",\"22_73\",\"49_136\",\"8_718\",\"9_545\",\"6_946\",\"70_166\",\"28_434\",\"9_887\",\"5_588\",\"55_180\",\"4_67\",\"26_96\",\"4_1442\",\"7_1303\",\"4_80\",\"24_113\",\"6_1114\",\"5_1296\",\"24_1504\"],\"x\":[135757320,135758231,135761470,135780924,135784351,135810535,135964764,136008173,136115507,136309239,136364916,136392700,136403061,136499188,136506375,136535876,136589701,136651969,136652491,136652953,136653925],\"y\":[901.0,801.0,74.0,179.0,493.0,391.0,596.0,281.0,389.0,595.0,492.0,381.0,73.0,176.0,799.0,699.0,74.0,177.0,597.0,699.0,800.0]}},\"id\":\"f73a7048-643b-4f6d-a96d-ebf47547d47b\",\"type\":\"ColumnDataSource\"},{\"attributes\":{\"callback\":null,\"column_names\":[\"xs\",\"ys\",\"line_color\"],\"data\":{\"line_color\":[\"black\",\"black\",\"black\",\"black\",\"black\",\"black\",\"black\",\"black\",\"black\",\"black\",\"black\",\"black\",\"black\",\"black\",\"black\",\"black\",\"black\",\"black\",\"black\",\"black\",\"black\",\"black\",\"black\",\"black\",\"black\",\"black\",\"black\",\"black\",\"black\",\"black\",\"black\",\"black\",\"black\",\"black\",\"black\",\"black\",\"black\",\"black\",\"black\",\"black\",\"black\",\"black\",\"black\",\"black\",\"black\",\"black\",\"black\",\"black\",\"black\",\"black\",\"black\",\"black\",\"black\",\"black\",\"black\",\"black\",\"black\",\"black\",\"black\",\"black\",\"black\",\"black\",\"black\",\"black\",\"black\",\"black\",\"black\",\"black\",\"black\",\"black\",\"black\",\"black\",\"black\",\"black\",\"black\",\"black\",\"black\",\"black\",\"black\",\"black\",\"black\",\"black\",\"black\",\"black\",\"black\",\"black\",\"black\",\"black\",\"black\",\"black\",\"black\",\"black\",\"black\",\"black\",\"black\",\"black\",\"black\",\"black\",\"black\",\"black\",\"black\",\"black\",\"black\",\"black\",\"black\",\"black\",\"black\",\"black\",\"black\",\"black\",\"black\",\"black\",\"black\",\"black\",\"black\",\"black\",\"black\",\"black\",\"black\",\"black\",\"black\",\"black\",\"black\",\"black\",\"black\",\"black\",\"black\",\"black\",\"black\",\"black\",\"black\",\"black\",\"black\",\"black\",\"black\",\"black\",\"black\",\"black\",\"black\",\"black\",\"black\",\"black\",\"black\",\"black\",\"black\",\"black\",\"black\",\"black\",\"black\",\"black\",\"black\",\"black\",\"black\",\"black\",\"black\",\"black\",\"black\",\"black\",\"black\",\"black\",\"black\",\"black\",\"black\",\"black\",\"black\",\"black\",\"black\",\"black\",\"black\",\"black\",\"black\",\"black\",\"black\",\"black\",\"black\",\"black\",\"black\",\"black\",\"black\",\"black\",\"black\",\"black\",\"black\",\"black\",\"black\",\"black\",\"black\",\"black\",\"black\",\"black\",\"black\",\"black\",\"black\",\"black\",\"black\",\"black\",\"black\",\"black\",\"black\",\"black\",\"black\",\"black\",\"black\",\"black\",\"black\",\"black\",\"black\",\"black\",\"black\",\"black\",\"black\",\"black\",\"black\",\"black\",\"black\",\"black\",\"black\",\"black\",\"black\",\"black\",\"black\",\"black\",\"black\",\"black\",\"black\",\"black\",\"black\",\"black\",\"black\",\"black\",\"black\",\"black\",\"black\",\"black\",\"black\",\"black\",\"black\",\"black\",\"black\",\"black\",\"black\",\"black\",\"black\",\"black\",\"black\",\"black\",\"black\",\"black\",\"black\",\"black\",\"black\",\"black\",\"black\",\"black\",\"black\",\"black\",\"black\",\"black\",\"black\",\"black\",\"black\",\"black\",\"black\",\"black\",\"black\",\"black\",\"black\",\"black\",\"black\",\"black\",\"black\",\"black\",\"black\",\"black\",\"black\",\"black\",\"black\",\"black\",\"black\",\"black\",\"black\",\"black\",\"black\",\"black\",\"black\",\"black\",\"black\",\"black\",\"black\",\"black\",\"black\",\"black\",\"black\",\"black\",\"black\",\"black\",\"black\",\"black\",\"black\",\"black\",\"black\",\"black\",\"black\",\"black\",\"black\",\"black\",\"black\",\"black\",\"black\",\"black\",\"black\",\"black\",\"black\",\"black\",\"black\",\"black\",\"black\",\"black\",\"black\",\"black\",\"black\",\"black\",\"black\",\"black\",\"black\",\"black\",\"black\",\"black\",\"black\",\"black\",\"black\",\"black\",\"black\",\"black\",\"black\",\"black\",\"black\",\"black\",\"black\",\"black\",\"black\",\"black\",\"black\",\"black\",\"black\",\"black\",\"black\",\"black\",\"black\",\"black\",\"black\",\"black\",\"black\",\"black\",\"black\",\"black\",\"black\",\"black\",\"black\",\"black\",\"black\",\"black\",\"black\",\"black\",\"black\",\"black\",\"black\",\"black\",\"black\",\"black\",\"black\",\"black\",\"black\",\"black\",\"black\",\"black\",\"black\",\"black\",\"black\",\"black\",\"black\",\"black\",\"black\",\"black\",\"black\",\"black\",\"black\",\"black\",\"black\",\"black\",\"black\",\"black\",\"black\",\"black\",\"black\",\"black\",\"black\",\"black\",\"black\",\"black\",\"black\",\"black\",\"black\",\"black\",\"black\",\"black\",\"black\",\"black\",\"black\",\"black\",\"black\",\"black\",\"black\",\"black\",\"black\",\"black\",\"black\",\"black\",\"black\",\"black\",\"black\",\"black\",\"black\",\"black\",\"black\",\"black\",\"black\",\"black\",\"black\",\"black\",\"black\",\"black\",\"black\",\"black\",\"black\",\"black\",\"black\",\"black\",\"black\",\"black\",\"black\",\"black\",\"black\",\"black\",\"black\",\"black\",\"black\",\"black\",\"black\",\"black\",\"black\",\"black\",\"black\",\"black\",\"black\",\"black\",\"black\",\"black\",\"black\",\"black\",\"black\",\"black\",\"black\",\"black\",\"black\",\"black\",\"black\",\"black\",\"black\",\"black\",\"black\",\"black\",\"black\",\"black\",\"black\",\"black\",\"black\",\"black\",\"black\",\"black\",\"black\",\"black\",\"black\",\"black\",\"black\",\"black\",\"black\",\"black\",\"black\",\"black\",\"black\",\"black\",\"black\",\"black\",\"black\"],\"xs\":[[135757320,135757320],[135761078,135761078],[135761271,135761271],[135762344,135762344],[135762980,135762980],[135763280,135763280],[135768815,135768815],[135769093,135769093],[135769127,135769127],[135770940,135770940],[135770951,135770951],[135776728,135776728],[135777504,135777504],[135758231,135758231],[135758520,135758520],[135766072,135766072],[135773420,135773420],[135773446,135773446],[135773617,135773617],[135773692,135773692],[135774681,135774681],[135775049,135775049],[135776430,135776430],[135778656,135778656],[135780168,135780168],[135780587,135780587],[135781301,135781301],[135781522,135781522],[135781635,135781635],[135782456,135782456],[135783157,135783157],[135783366,135783366],[135783367,135783367],[135784227,135784227],[135784733,135784733],[135785066,135785066],[135785068,135785068],[135785149,135785149],[135787148,135787148],[135787642,135787642],[135789405,135789405],[135789472,135789472],[135789682,135789682],[135789784,135789784],[135792338,135792338],[135792528,135792528],[135793565,135793565],[135793684,135793684],[135793845,135793845],[135794367,135794367],[135794986,135794986],[135795040,135795040],[135795095,135795095],[135795150,135795150],[135795385,135795385],[135795396,135795396],[135795443,135795443],[135795595,135795595],[135796000,135796000],[135796155,135796155],[135796410,135796410],[135796965,135796965],[135797223,135797223],[135797747,135797747],[135798082,135798082],[135798758,135798758],[135799082,135799082],[135800085,135800085],[135800601,135800601],[135800757,135800757],[135801228,135801228],[135801956,135801956],[135802020,135802020],[135802028,135802028],[135802050,135802050],[135802148,135802148],[135803766,135803766],[135809241,135809241],[135812969,135812969],[135814716,135814716],[135818907,135818907],[135829432,135829432],[135832131,135832131],[135849613,135849613],[135853807,135853807],[135859923,135859923],[135860305,135860305],[135861497,135861497],[135863143,135863143],[135864294,135864294],[135871624,135871624],[135872646,135872646],[135874038,135874038],[135874622,135874622],[135878814,135878814],[135880013,135880013],[135884487,135884487],[135885357,135885357],[135893853,135893853],[135895809,135895809],[135895879,135895879],[135899069,135899069],[135909462,135909462],[135912977,135912977],[135914038,135914038],[135921839,135921839],[135925002,135925002],[135928312,135928312],[135935049,135935049],[135962711,135962711],[135984172,135984172],[135994753,135994753],[135994754,135994754],[136016079,136016079],[136027264,136027264],[136052004,136052004],[136100473,136100473],[136110129,136110129],[136166536,136166536],[136169799,136169799],[136191314,136191314],[136228887,136228887],[136238453,136238453],[136288273,136288273],[136292425,136292425],[136321951,136321951],[136324564,136324564],[136327299,136327299],[136327302,136327302],[136376515,136376515],[135761470,135761470],[135766160,135766160],[135775474,135775474],[135775547,135775547],[135954337,135954337],[135971171,135971171],[136035016,136035016],[136106795,136106795],[136139229,136139229],[136140930,136140930],[136143414,136143414],[136160220,136160220],[136164187,136164187],[136164304,136164304],[136177628,136177628],[136213160,136213160],[136229089,136229089],[136229185,136229185],[136268862,136268862],[136308277,136308277],[136344372,136344372],[136371080,136371080],[135780924,135780924],[135783872,135783872],[135784174,135784174],[135784652,135784652],[135787686,135787686],[135788712,135788712],[135794686,135794686],[135815035,135815035],[135815806,135815806],[135816299,135816299],[135817965,135817965],[135819405,135819405],[135820455,135820455],[135822556,135822556],[135830362,135830362],[135838113,135838113],[135843398,135843398],[135845084,135845084],[135850778,135850778],[135853281,135853281],[135858199,135858199],[135859428,135859428],[135867144,135867144],[135867538,135867538],[135874606,135874606],[135880487,135880487],[135882089,135882089],[135883468,135883468],[135892685,135892685],[135894666,135894666],[135894837,135894837],[135894879,135894879],[135896985,135896985],[135904659,135904659],[135908007,135908007],[135910415,135910415],[135917924,135917924],[135926486,135926486],[135942475,135942475],[135955537,135955537],[135964420,135964420],[135965002,135965002],[135981071,135981071],[135988224,135988224],[135991508,135991508],[135991714,135991714],[135997479,135997479],[136001913,136001913],[136017139,136017139],[135784351,135784351],[135829309,135829309],[135835508,135835508],[135861297,135861297],[135863459,135863459],[135873845,135873845],[135902172,135902172],[135902220,135902220],[135810535,135810535],[135817760,135817760],[135857538,135857538],[135862191,135862191],[135869380,135869380],[135869761,135869761],[135886486,135886486],[135888078,135888078],[135898023,135898023],[135964764,135964764],[135964765,135964765],[136099127,136099127],[136099650,136099650],[136100705,136100705],[136101132,136101132],[136008173,136008173],[136008446,136008446],[136014236,136014236],[136036997,136036997],[136037702,136037702],[136040078,136040078],[136046601,136046601],[136048235,136048235],[136050624,136050624],[136051458,136051458],[136053800,136053800],[136069666,136069666],[136070320,136070320],[136071268,136071268],[136085307,136085307],[136107478,136107478],[136116965,136116965],[136119487,136119487],[136133726,136133726],[136136964,136136964],[136137013,136137013],[136141365,136141365],[136151898,136151898],[136153771,136153771],[136157319,136157319],[136157786,136157786],[136160634,136160634],[136161546,136161546],[136161613,136161613],[136163239,136163239],[136166288,136166288],[136171078,136171078],[136174848,136174848],[136177152,136177152],[136188784,136188784],[136191498,136191498],[136192069,136192069],[136192914,136192914],[136202038,136202038],[136206988,136206988],[136208169,136208169],[136211700,136211700],[136214800,136214800],[136223293,136223293],[136238330,136238330],[136242667,136242667],[136249834,136249834],[136255405,136255405],[136261219,136261219],[136264924,136264924],[136265494,136265494],[136267386,136267386],[136267415,136267415],[136277320,136277320],[136279720,136279720],[136279756,136279756],[136283113,136283113],[136299020,136299020],[136304442,136304442],[136308679,136308679],[136319192,136319192],[136324543,136324543],[136330131,136330131],[136347919,136347919],[136353065,136353065],[136360339,136360339],[136370954,136370954],[136371399,136371399],[136376994,136376994],[136381251,136381251],[136115507,136115507],[136133627,136133627],[136135820,136135820],[136145676,136145676],[136166014,136166014],[136173684,136173684],[136176031,136176031],[136214307,136214307],[136215590,136215590],[136219265,136219265],[136219831,136219831],[136289471,136289471],[136298739,136298739],[136302296,136302296],[136302897,136302897],[136348702,136348702],[136348964,136348964],[136358707,136358707],[136359608,136359608],[136360402,136360402],[136365624,136365624],[136366970,136366970],[136367871,136367871],[136368393,136368393],[136370701,136370701],[136378539,136378539],[136378895,136378895],[136385280,136385280],[136309239,136309239],[136322472,136322472],[136323787,136323787],[136323862,136323862],[136326765,136326765],[136329500,136329500],[136331657,136331657],[136345356,136345356],[136361560,136361560],[136364916,136364916],[136369497,136369497],[136369580,136369580],[136380846,136380846],[136387893,136387893],[136392700,136392700],[136400692,136400692],[136408881,136408881],[136409096,136409096],[136413099,136413099],[136413116,136413116],[136413618,136413618],[136417468,136417468],[136421589,136421589],[136425362,136425362],[136430479,136430479],[136439871,136439871],[136442318,136442318],[136444284,136444284],[136444985,136444985],[136445838,136445838],[136446249,136446249],[136447867,136447867],[136449090,136449090],[136449671,136449671],[136451724,136451724],[136452322,136452322],[136459565,136459565],[136460977,136460977],[136462831,136462831],[136464615,136464615],[136464818,136464818],[136464885,136464885],[136465856,136465856],[136467164,136467164],[136483721,136483721],[136485246,136485246],[136485657,136485657],[136493550,136493550],[136500338,136500338],[136500597,136500597],[136502199,136502199],[136506995,136506995],[136507804,136507804],[136509222,136509222],[136510091,136510091],[136512545,136512545],[136517471,136517471],[136522377,136522377],[136523696,136523696],[136523874,136523874],[136526324,136526324],[136528006,136528006],[136529000,136529000],[136533161,136533161],[136539413,136539413],[136548116,136548116],[136548169,136548169],[136548192,136548192],[136550806,136550806],[136403061,136403061],[136426893,136426893],[136451328,136451328],[136487844,136487844],[136499188,136499188],[136509186,136509186],[136559598,136559598],[136562813,136562813],[136565028,136565028],[136567633,136567633],[136573415,136573415],[136575534,136575534],[136577844,136577844],[136578703,136578703],[136578866,136578866],[136581354,136581354],[136586585,136586585],[136588968,136588968],[136589082,136589082],[136589514,136589514],[136606360,136606360],[136606741,136606741],[136607870,136607870],[136607871,136607871],[136608466,136608466],[136622825,136622825],[136626986,136626986],[136629325,136629325],[136629993,136629993],[136631424,136631424],[136506375,136506375],[136506927,136506927],[136510012,136510012],[136538939,136538939],[136535876,136535876],[136544651,136544651],[136545844,136545844],[136552526,136552526],[136553022,136553022],[136554797,136554797],[136554890,136554890],[136589701,136589701],[136593535,136593535],[136606413,136606413],[136641268,136641268],[136651969,136651969],[136652131,136652131],[136654256,136654256],[136654345,136654345],[136666824,136666824],[136671138,136671138],[136711512,136711512],[136720021,136720021],[136720176,136720176],[136721793,136721793],[136722148,136722148],[136722710,136722710],[136726393,136726393],[136731643,136731643],[136733117,136733117],[136734614,136734614],[136737647,136737647],[136740031,136740031],[136757003,136757003],[136762512,136762512],[136765924,136765924],[136766523,136766523],[136768607,136768607],[136775985,136775985],[136652491,136652491],[136652524,136652524],[136661150,136661150],[136669264,136669264],[136726567,136726567],[136732772,136732772],[136652953,136652953],[136655582,136655582],[136674028,136674028],[136684940,136684940],[136761175,136761175],[136653925,136653925],[136654833,136654833],[136656534,136656534],[136656536,136656536],[136657252,136657252],[136667301,136667301],[136667487,136667487],[136672775,136672775],[136680534,136680534],[136686393,136686393],[136688749,136688749],[136692553,136692553],[136697371,136697371],[136708787,136708787],[136710372,136710372],[136711064,136711064],[136715324,136715324],[136723504,136723504],[136737460,136737460],[136743143,136743143],[136746224,136746224],[136751842,136751842],[136759379,136759379],[136761853,136761853]],\"ys\":[[850,896],[850,896],[850,896],[850,896],[850,896],[850,896],[850,896],[850,896],[850,896],[850,896],[850,896],[850,896],[850,896],[750,796],[750,796],[750,796],[750,796],[750,796],[750,796],[750,796],[750,796],[750,796],[750,796],[750,796],[750,796],[750,796],[750,796],[750,796],[750,796],[750,796],[750,796],[750,796],[750,796],[750,796],[750,796],[750,796],[750,796],[750,796],[750,796],[750,796],[750,796],[750,796],[750,796],[750,796],[750,796],[750,796],[750,796],[750,796],[750,796],[750,796],[750,796],[750,796],[750,796],[750,796],[750,796],[750,796],[750,796],[750,796],[750,796],[750,796],[750,796],[750,796],[750,796],[750,796],[750,796],[750,796],[750,796],[750,796],[750,796],[750,796],[750,796],[750,796],[750,796],[750,796],[750,796],[750,796],[750,796],[750,796],[750,796],[750,796],[750,796],[750,796],[750,796],[750,796],[750,796],[750,796],[750,796],[750,796],[750,796],[750,796],[750,796],[750,796],[750,796],[750,796],[750,796],[750,796],[750,796],[750,796],[750,796],[750,796],[750,796],[750,796],[750,796],[750,796],[750,796],[750,796],[750,796],[750,796],[750,796],[750,796],[750,796],[750,796],[750,796],[750,796],[750,796],[750,796],[750,796],[750,796],[750,796],[750,796],[750,796],[750,796],[750,796],[750,796],[750,796],[750,796],[750,796],[750,796],[750,796],[750,796],[50,69],[50,69],[50,69],[50,69],[50,69],[50,69],[50,69],[50,69],[50,69],[50,69],[50,69],[50,69],[50,69],[50,69],[50,69],[50,69],[50,69],[50,69],[50,69],[50,69],[50,69],[50,69],[150,174],[150,174],[150,174],[150,174],[150,174],[150,174],[150,174],[150,174],[150,174],[150,174],[150,174],[150,174],[150,174],[150,174],[150,174],[150,174],[150,174],[150,174],[150,174],[150,174],[150,174],[150,174],[150,174],[150,174],[150,174],[150,174],[150,174],[150,174],[150,174],[150,174],[150,174],[150,174],[150,174],[150,174],[150,174],[150,174],[150,174],[150,174],[150,174],[150,174],[150,174],[150,174],[150,174],[150,174],[150,174],[150,174],[150,174],[150,174],[150,174],[450,488],[450,488],[450,488],[450,488],[450,488],[450,488],[450,488],[450,488],[350,386],[350,386],[350,386],[350,386],[350,386],[350,386],[350,386],[350,386],[350,386],[550,591],[550,591],[550,591],[550,591],[550,591],[550,591],[250,276],[250,276],[250,276],[250,276],[250,276],[250,276],[250,276],[250,276],[250,276],[250,276],[250,276],[250,276],[250,276],[250,276],[250,276],[250,276],[250,276],[250,276],[250,276],[250,276],[250,276],[250,276],[250,276],[250,276],[250,276],[250,276],[250,276],[250,276],[250,276],[250,276],[250,276],[250,276],[250,276],[250,276],[250,276],[250,276],[250,276],[250,276],[250,276],[250,276],[250,276],[250,276],[250,276],[250,276],[250,276],[250,276],[250,276],[250,276],[250,276],[250,276],[250,276],[250,276],[250,276],[250,276],[250,276],[250,276],[250,276],[250,276],[250,276],[250,276],[250,276],[250,276],[250,276],[250,276],[250,276],[250,276],[250,276],[250,276],[250,276],[250,276],[350,384],[350,384],[350,384],[350,384],[350,384],[350,384],[350,384],[350,384],[350,384],[350,384],[350,384],[350,384],[350,384],[350,384],[350,384],[350,384],[350,384],[350,384],[350,384],[350,384],[350,384],[350,384],[350,384],[350,384],[350,384],[350,384],[350,384],[350,384],[550,590],[550,590],[550,590],[550,590],[550,590],[550,590],[550,590],[550,590],[550,590],[450,487],[450,487],[450,487],[450,487],[450,487],[350,376],[350,376],[350,376],[350,376],[350,376],[350,376],[350,376],[350,376],[350,376],[350,376],[350,376],[350,376],[350,376],[350,376],[350,376],[350,376],[350,376],[350,376],[350,376],[350,376],[350,376],[350,376],[350,376],[350,376],[350,376],[350,376],[350,376],[350,376],[350,376],[350,376],[350,376],[350,376],[350,376],[350,376],[350,376],[350,376],[350,376],[350,376],[350,376],[350,376],[350,376],[350,376],[350,376],[350,376],[350,376],[350,376],[350,376],[350,376],[350,376],[350,376],[350,376],[350,376],[350,376],[350,376],[350,376],[50,68],[50,68],[50,68],[50,68],[150,171],[150,171],[150,171],[150,171],[150,171],[150,171],[150,171],[150,171],[150,171],[150,171],[150,171],[150,171],[150,171],[150,171],[150,171],[150,171],[150,171],[150,171],[150,171],[150,171],[150,171],[150,171],[150,171],[150,171],[150,171],[150,171],[750,794],[750,794],[750,794],[750,794],[650,694],[650,694],[650,694],[650,694],[650,694],[650,694],[650,694],[50,69],[50,69],[50,69],[50,69],[150,172],[150,172],[150,172],[150,172],[150,172],[150,172],[150,172],[150,172],[150,172],[150,172],[150,172],[150,172],[150,172],[150,172],[150,172],[150,172],[150,172],[150,172],[150,172],[150,172],[150,172],[150,172],[150,172],[150,172],[550,592],[550,592],[550,592],[550,592],[550,592],[550,592],[650,694],[650,694],[650,694],[650,694],[650,694],[750,795],[750,795],[750,795],[750,795],[750,795],[750,795],[750,795],[750,795],[750,795],[750,795],[750,795],[750,795],[750,795],[750,795],[750,795],[750,795],[750,795],[750,795],[750,795],[750,795],[750,795],[750,795],[750,795],[750,795]]}},\"id\":\"228e1678-fc84-48ba-93ea-87ab7355b33d\",\"type\":\"ColumnDataSource\"},{\"attributes\":{\"line_color\":{\"field\":\"line_color\"},\"xs\":{\"field\":\"xs\"},\"ys\":{\"field\":\"ys\"}},\"id\":\"bef40a6a-f361-4efa-b642-1371a16c49be\",\"type\":\"MultiLine\"},{\"attributes\":{\"bottom\":{\"field\":\"bottom\"},\"fill_color\":{\"field\":\"fill_color\"},\"left\":{\"field\":\"left\"},\"line_color\":{\"value\":null},\"right\":{\"field\":\"right\"},\"top\":{\"field\":\"top\"}},\"id\":\"f89272ee-9d88-492c-bfde-02e19864782c\",\"type\":\"Quad\"},{\"attributes\":{\"level\":\"glyph\",\"plot\":{\"id\":\"78b54ea6-fc62-4f9d-825e-23e9b6251906\",\"subtype\":\"Figure\",\"type\":\"Plot\"},\"source\":{\"id\":\"d6d0a6ce-3554-4cb0-9ff8-661ab6530a4c\",\"type\":\"ColumnDataSource\"},\"text\":{\"field\":\"vals\"},\"text_align\":\"center\",\"text_baseline\":\"middle\",\"text_font_size\":{\"value\":\"8pt\"},\"x\":{\"field\":\"x\"},\"y\":{\"field\":\"y\"}},\"id\":\"f604cea1-2f46-4032-a606-1a5df068aa95\",\"type\":\"LabelSet\"},{\"attributes\":{\"bottom\":{\"field\":\"bottom\"},\"fill_color\":{\"value\":\"white\"},\"left\":{\"field\":\"left\"},\"right\":{\"field\":\"right\"},\"top\":{\"field\":\"top\"}},\"id\":\"142adda0-b6e2-47b1-9f69-2547b7729e13\",\"type\":\"Quad\"},{\"attributes\":{\"plot\":null,\"text\":null},\"id\":\"ba3ff803-5ed0-49cb-9e10-37bd3aecb586\",\"type\":\"Title\"},{\"attributes\":{\"callback\":null,\"column_names\":[\"right\",\"bottom\",\"top\",\"left\",\"fill_color\"],\"data\":{\"bottom\":[850,750,50,150,450,350,550,250,350,550,450,350,50,150,750,650,50,150,550,650,750],\"fill_color\":[\"#808080\",\"#808080\",\"#ff0000\",\"#ff0000\",\"#ff0000\",\"#ff0000\",\"#61c4c4\",\"#ff0000\",\"#ff0000\",\"#ff0000\",\"#ff0000\",\"#c46161\",\"#ff0000\",\"#ff0000\",\"#808080\",\"#808080\",\"#ff0000\",\"#ff0000\",\"#808080\",\"#808080\",\"#808080\"],\"left\":[135757320,135758231,135761470,135780924,135784351,135810535,135964764,136008173,136115507,136309239,136364916,136392700,136403061,136499188,136506375,136535876,136589701,136651969,136652491,136652953,136653925],\"right\":[135777504,136376515,136371080,136017139,135902220,135898023,136101132,136381251,136385280,136361560,136387893,136550806,136487844,136631424,136538939,136554890,136641268,136775985,136732772,136761175,136761853],\"top\":[896,796,69,174,488,386,591,276,384,590,487,376,68,171,794,694,69,172,592,694,795]}},\"id\":\"fd6f525a-ce62-4ca3-9d94-307705934d74\",\"type\":\"ColumnDataSource\"},{\"attributes\":{\"plot\":{\"id\":\"78b54ea6-fc62-4f9d-825e-23e9b6251906\",\"subtype\":\"Figure\",\"type\":\"Plot\"}},\"id\":\"78384366-5f58-4e9a-85c8-1119094ddc73\",\"type\":\"SaveTool\"}],\"root_ids\":[\"78b54ea6-fc62-4f9d-825e-23e9b6251906\"]},\"title\":\"Bokeh Application\",\"version\":\"0.12.0\"}};\n",
       "            var render_items = [{\"docid\":\"7d7f20e3-23c6-4a22-a9d8-51f60d4c3cca\",\"elementid\":\"f8efac15-8c99-466b-88ae-0c5d0dbe1dba\",\"modelid\":\"78b54ea6-fc62-4f9d-825e-23e9b6251906\",\"notebook_comms_target\":\"1c3952e8-e49f-4a25-8bb1-d16217a742f0\"}];\n",
       "            \n",
       "            Bokeh.embed.embed_items(docs_json, render_items);\n",
       "        });\n",
       "      },\n",
       "      function(Bokeh) {\n",
       "      }\n",
       "    ];\n",
       "  \n",
       "    function run_inline_js() {\n",
       "      for (var i = 0; i < inline_js.length; i++) {\n",
       "        inline_js[i](window.Bokeh);\n",
       "      }\n",
       "    }\n",
       "  \n",
       "    if (window._bokeh_is_loading === 0) {\n",
       "      console.log(\"Bokeh: BokehJS loaded, going straight to plotting\");\n",
       "      run_inline_js();\n",
       "    } else {\n",
       "      load_libs(js_urls, function() {\n",
       "        console.log(\"Bokeh: BokehJS plotting callback run at\", now());\n",
       "        run_inline_js();\n",
       "      });\n",
       "    }\n",
       "  }(this));\n",
       "</script>"
      ]
     },
     "metadata": {},
     "output_type": "display_data"
    },
    {
     "data": {
      "text/html": [
       "<p><code>&lt;Bokeh Notebook handle for <strong>In[82]</strong>&gt;</code></p>"
      ],
      "text/plain": [
       "<bokeh.io._CommsHandle at 0x7f3f6010ce50>"
      ]
     },
     "execution_count": 82,
     "metadata": {},
     "output_type": "execute_result"
    }
   ],
   "source": [
    "plt_obj = dm.superset_allele_mask(am_13, min_match=0.5)\n",
    "plt = plt_obj.do_plot()\n",
    "show(plt)"
   ]
  },
  {
   "cell_type": "code",
   "execution_count": 83,
   "metadata": {
    "collapsed": false
   },
   "outputs": [
    {
     "data": {
      "text/html": [
       "<table>\n",
       "<thead><tr><th style=\"text-align:center\">index</th><th style=\"text-align:center\">first</th><th style=\"text-align:center\">length</th><th style=\"text-align:center\">snps</th><th style=\"text-align:center\" colspan=2>alleles</th><th style=\"text-align:center\" colspan=2>matches</th><th style=\"text-align:center\" colspan=2>afr</th><th style=\"text-align:center\" colspan=2>afx</th><th style=\"text-align:center\" colspan=2>amr</th><th style=\"text-align:center\" colspan=2>eas</th><th style=\"text-align:center\" colspan=2>eur</th><th style=\"text-align:center\" colspan=2>sas</th><th style=\"text-align:center\" colspan=2>sax</th></tr></thead>\n",
       "<tr class=\"even\"><td style=\"text-align: right;\">353240</td><td style=\"text-align: right;\">135,757,320</td><td style=\"text-align: right;\">20,184</td><td style=\"text-align: right;\">13</td><td style=\"text-align: right;\">1696</td><td style=\"text-align: right;\">0.01</td><td style=\"text-align: right;\">13</td><td style=\"text-align: right;\">1.00</td><td style=\"text-align: right;\">7</td><td style=\"text-align: right;\">2.68</td><td style=\"text-align: right;\">6</td><td style=\"text-align: right;\">7.36</td><td style=\"text-align: right;\">0</td><td style=\"text-align: right;\">0.00</td><td style=\"text-align: right;\">0</td><td style=\"text-align: right;\">0.00</td><td style=\"text-align: right;\">0</td><td style=\"text-align: right;\">0.00</td><td style=\"text-align: right;\">0</td><td style=\"text-align: right;\">0.00</td><td style=\"text-align: right;\">0</td><td style=\"text-align: right;\">0.00</td></tr>\n",
       "<tr><td style=\"text-align: right;\">353244</td><td style=\"text-align: right;\">135,758,231</td><td style=\"text-align: right;\">618,284</td><td style=\"text-align: right;\">117</td><td style=\"text-align: right;\">1685</td><td style=\"text-align: right;\">0.01</td><td style=\"text-align: right;\">11</td><td style=\"text-align: right;\">0.85</td><td style=\"text-align: right;\">5</td><td style=\"text-align: right;\">2.26</td><td style=\"text-align: right;\">6</td><td style=\"text-align: right;\">8.70</td><td style=\"text-align: right;\">0</td><td style=\"text-align: right;\">0.00</td><td style=\"text-align: right;\">0</td><td style=\"text-align: right;\">0.00</td><td style=\"text-align: right;\">0</td><td style=\"text-align: right;\">0.00</td><td style=\"text-align: right;\">0</td><td style=\"text-align: right;\">0.00</td><td style=\"text-align: right;\">0</td><td style=\"text-align: right;\">0.00</td></tr>\n",
       "<tr class=\"even\"><td style=\"text-align: right;\">354130</td><td style=\"text-align: right;\">136,653,925</td><td style=\"text-align: right;\">107,928</td><td style=\"text-align: right;\">24</td><td style=\"text-align: right;\">1504</td><td style=\"text-align: right;\">0.01</td><td style=\"text-align: right;\">12</td><td style=\"text-align: right;\">0.92</td><td style=\"text-align: right;\">6</td><td style=\"text-align: right;\">2.48</td><td style=\"text-align: right;\">6</td><td style=\"text-align: right;\">7.97</td><td style=\"text-align: right;\">0</td><td style=\"text-align: right;\">0.00</td><td style=\"text-align: right;\">0</td><td style=\"text-align: right;\">0.00</td><td style=\"text-align: right;\">0</td><td style=\"text-align: right;\">0.00</td><td style=\"text-align: right;\">0</td><td style=\"text-align: right;\">0.00</td><td style=\"text-align: right;\">0</td><td style=\"text-align: right;\">0.00</td></tr>\n",
       "<tr><td style=\"text-align: right;\">353925</td><td style=\"text-align: right;\">136,506,375</td><td style=\"text-align: right;\">32,564</td><td style=\"text-align: right;\">4</td><td style=\"text-align: right;\">1442</td><td style=\"text-align: right;\">0.01</td><td style=\"text-align: right;\">11</td><td style=\"text-align: right;\">0.85</td><td style=\"text-align: right;\">5</td><td style=\"text-align: right;\">2.26</td><td style=\"text-align: right;\">6</td><td style=\"text-align: right;\">8.70</td><td style=\"text-align: right;\">0</td><td style=\"text-align: right;\">0.00</td><td style=\"text-align: right;\">0</td><td style=\"text-align: right;\">0.00</td><td style=\"text-align: right;\">0</td><td style=\"text-align: right;\">0.00</td><td style=\"text-align: right;\">0</td><td style=\"text-align: right;\">0.00</td><td style=\"text-align: right;\">0</td><td style=\"text-align: right;\">0.00</td></tr>\n",
       "<tr class=\"even\"><td style=\"text-align: right;\">353958</td><td style=\"text-align: right;\">136,535,876</td><td style=\"text-align: right;\">19,014</td><td style=\"text-align: right;\">7</td><td style=\"text-align: right;\">1303</td><td style=\"text-align: right;\">0.01</td><td style=\"text-align: right;\">12</td><td style=\"text-align: right;\">0.92</td><td style=\"text-align: right;\">6</td><td style=\"text-align: right;\">2.48</td><td style=\"text-align: right;\">6</td><td style=\"text-align: right;\">7.97</td><td style=\"text-align: right;\">0</td><td style=\"text-align: right;\">0.00</td><td style=\"text-align: right;\">0</td><td style=\"text-align: right;\">0.00</td><td style=\"text-align: right;\">0</td><td style=\"text-align: right;\">0.00</td><td style=\"text-align: right;\">0</td><td style=\"text-align: right;\">0.00</td><td style=\"text-align: right;\">0</td><td style=\"text-align: right;\">0.00</td></tr>\n",
       "<tr><td style=\"text-align: right;\">354129</td><td style=\"text-align: right;\">136,652,953</td><td style=\"text-align: right;\">108,222</td><td style=\"text-align: right;\">5</td><td style=\"text-align: right;\">1296</td><td style=\"text-align: right;\">0.01</td><td style=\"text-align: right;\">11</td><td style=\"text-align: right;\">0.85</td><td style=\"text-align: right;\">5</td><td style=\"text-align: right;\">2.26</td><td style=\"text-align: right;\">6</td><td style=\"text-align: right;\">8.70</td><td style=\"text-align: right;\">0</td><td style=\"text-align: right;\">0.00</td><td style=\"text-align: right;\">0</td><td style=\"text-align: right;\">0.00</td><td style=\"text-align: right;\">0</td><td style=\"text-align: right;\">0.00</td><td style=\"text-align: right;\">0</td><td style=\"text-align: right;\">0.00</td><td style=\"text-align: right;\">0</td><td style=\"text-align: right;\">0.00</td></tr>\n",
       "<tr class=\"even\"><td style=\"text-align: right;\">354127</td><td style=\"text-align: right;\">136,652,491</td><td style=\"text-align: right;\">80,281</td><td style=\"text-align: right;\">6</td><td style=\"text-align: right;\">1114</td><td style=\"text-align: right;\">0.01</td><td style=\"text-align: right;\">11</td><td style=\"text-align: right;\">0.85</td><td style=\"text-align: right;\">5</td><td style=\"text-align: right;\">2.26</td><td style=\"text-align: right;\">6</td><td style=\"text-align: right;\">8.70</td><td style=\"text-align: right;\">0</td><td style=\"text-align: right;\">0.00</td><td style=\"text-align: right;\">0</td><td style=\"text-align: right;\">0.00</td><td style=\"text-align: right;\">0</td><td style=\"text-align: right;\">0.00</td><td style=\"text-align: right;\">0</td><td style=\"text-align: right;\">0.00</td><td style=\"text-align: right;\">0</td><td style=\"text-align: right;\">0.00</td></tr>\n",
       "<tr><td style=\"text-align: right;\">353504</td><td style=\"text-align: right;\">135,964,764</td><td style=\"text-align: right;\">136,368</td><td style=\"text-align: right;\">6</td><td style=\"text-align: right;\">946</td><td style=\"text-align: right;\">0.01</td><td style=\"text-align: right;\">11</td><td style=\"text-align: right;\">0.85</td><td style=\"text-align: right;\">5</td><td style=\"text-align: right;\">2.26</td><td style=\"text-align: right;\">6</td><td style=\"text-align: right;\">8.70</td><td style=\"text-align: right;\">0</td><td style=\"text-align: right;\">0.00</td><td style=\"text-align: right;\">0</td><td style=\"text-align: right;\">0.00</td><td style=\"text-align: right;\">0</td><td style=\"text-align: right;\">0.00</td><td style=\"text-align: right;\">0</td><td style=\"text-align: right;\">0.00</td><td style=\"text-align: right;\">0</td><td style=\"text-align: right;\">0.00</td></tr>\n",
       "<tr class=\"even\"><td style=\"text-align: right;\">353729</td><td style=\"text-align: right;\">136,309,239</td><td style=\"text-align: right;\">52,321</td><td style=\"text-align: right;\">9</td><td style=\"text-align: right;\">887</td><td style=\"text-align: right;\">0.01</td><td style=\"text-align: right;\">13</td><td style=\"text-align: right;\">1.00</td><td style=\"text-align: right;\">7</td><td style=\"text-align: right;\">2.68</td><td style=\"text-align: right;\">6</td><td style=\"text-align: right;\">7.36</td><td style=\"text-align: right;\">0</td><td style=\"text-align: right;\">0.00</td><td style=\"text-align: right;\">0</td><td style=\"text-align: right;\">0.00</td><td style=\"text-align: right;\">0</td><td style=\"text-align: right;\">0.00</td><td style=\"text-align: right;\">0</td><td style=\"text-align: right;\">0.00</td><td style=\"text-align: right;\">0</td><td style=\"text-align: right;\">0.00</td></tr>\n",
       "<tr><td style=\"text-align: right;\">353312</td><td style=\"text-align: right;\">135,784,351</td><td style=\"text-align: right;\">117,869</td><td style=\"text-align: right;\">8</td><td style=\"text-align: right;\">718</td><td style=\"text-align: right;\">0.02</td><td style=\"text-align: right;\">11</td><td style=\"text-align: right;\">0.85</td><td style=\"text-align: right;\">5</td><td style=\"text-align: right;\">2.26</td><td style=\"text-align: right;\">6</td><td style=\"text-align: right;\">8.70</td><td style=\"text-align: right;\">0</td><td style=\"text-align: right;\">0.00</td><td style=\"text-align: right;\">0</td><td style=\"text-align: right;\">0.00</td><td style=\"text-align: right;\">0</td><td style=\"text-align: right;\">0.00</td><td style=\"text-align: right;\">0</td><td style=\"text-align: right;\">0.00</td><td style=\"text-align: right;\">0</td><td style=\"text-align: right;\">0.00</td></tr>\n",
       "<tr class=\"even\"><td style=\"text-align: right;\">353764</td><td style=\"text-align: right;\">136,364,916</td><td style=\"text-align: right;\">22,977</td><td style=\"text-align: right;\">5</td><td style=\"text-align: right;\">588</td><td style=\"text-align: right;\">0.02</td><td style=\"text-align: right;\">13</td><td style=\"text-align: right;\">1.00</td><td style=\"text-align: right;\">7</td><td style=\"text-align: right;\">2.68</td><td style=\"text-align: right;\">6</td><td style=\"text-align: right;\">7.36</td><td style=\"text-align: right;\">0</td><td style=\"text-align: right;\">0.00</td><td style=\"text-align: right;\">0</td><td style=\"text-align: right;\">0.00</td><td style=\"text-align: right;\">0</td><td style=\"text-align: right;\">0.00</td><td style=\"text-align: right;\">0</td><td style=\"text-align: right;\">0.00</td><td style=\"text-align: right;\">0</td><td style=\"text-align: right;\">0.00</td></tr>\n",
       "<tr><td style=\"text-align: right;\">353349</td><td style=\"text-align: right;\">135,810,535</td><td style=\"text-align: right;\">87,488</td><td style=\"text-align: right;\">9</td><td style=\"text-align: right;\">545</td><td style=\"text-align: right;\">0.02</td><td style=\"text-align: right;\">11</td><td style=\"text-align: right;\">0.85</td><td style=\"text-align: right;\">5</td><td style=\"text-align: right;\">2.26</td><td style=\"text-align: right;\">6</td><td style=\"text-align: right;\">8.70</td><td style=\"text-align: right;\">0</td><td style=\"text-align: right;\">0.00</td><td style=\"text-align: right;\">0</td><td style=\"text-align: right;\">0.00</td><td style=\"text-align: right;\">0</td><td style=\"text-align: right;\">0.00</td><td style=\"text-align: right;\">0</td><td style=\"text-align: right;\">0.00</td><td style=\"text-align: right;\">0</td><td style=\"text-align: right;\">0.00</td></tr>\n",
       "<tr class=\"even\"><td style=\"text-align: right;\">353614</td><td style=\"text-align: right;\">136,115,507</td><td style=\"text-align: right;\">269,773</td><td style=\"text-align: right;\">28</td><td style=\"text-align: right;\">434</td><td style=\"text-align: right;\">0.03</td><td style=\"text-align: right;\">13</td><td style=\"text-align: right;\">1.00</td><td style=\"text-align: right;\">7</td><td style=\"text-align: right;\">2.68</td><td style=\"text-align: right;\">6</td><td style=\"text-align: right;\">7.36</td><td style=\"text-align: right;\">0</td><td style=\"text-align: right;\">0.00</td><td style=\"text-align: right;\">0</td><td style=\"text-align: right;\">0.00</td><td style=\"text-align: right;\">0</td><td style=\"text-align: right;\">0.00</td><td style=\"text-align: right;\">0</td><td style=\"text-align: right;\">0.00</td><td style=\"text-align: right;\">0</td><td style=\"text-align: right;\">0.00</td></tr>\n",
       "<tr><td style=\"text-align: right;\">353788</td><td style=\"text-align: right;\">136,392,700</td><td style=\"text-align: right;\">158,106</td><td style=\"text-align: right;\">55</td><td style=\"text-align: right;\">180</td><td style=\"text-align: right;\">0.06</td><td style=\"text-align: right;\">11</td><td style=\"text-align: right;\">0.85</td><td style=\"text-align: right;\">5</td><td style=\"text-align: right;\">2.26</td><td style=\"text-align: right;\">6</td><td style=\"text-align: right;\">8.70</td><td style=\"text-align: right;\">0</td><td style=\"text-align: right;\">0.00</td><td style=\"text-align: right;\">0</td><td style=\"text-align: right;\">0.00</td><td style=\"text-align: right;\">0</td><td style=\"text-align: right;\">0.00</td><td style=\"text-align: right;\">0</td><td style=\"text-align: right;\">0.00</td><td style=\"text-align: right;\">0</td><td style=\"text-align: right;\">0.00</td></tr>\n",
       "<tr class=\"even\"><td style=\"text-align: right;\">353538</td><td style=\"text-align: right;\">136,008,173</td><td style=\"text-align: right;\">373,078</td><td style=\"text-align: right;\">70</td><td style=\"text-align: right;\">166</td><td style=\"text-align: right;\">0.07</td><td style=\"text-align: right;\">11</td><td style=\"text-align: right;\">0.85</td><td style=\"text-align: right;\">5</td><td style=\"text-align: right;\">2.26</td><td style=\"text-align: right;\">6</td><td style=\"text-align: right;\">8.70</td><td style=\"text-align: right;\">0</td><td style=\"text-align: right;\">0.00</td><td style=\"text-align: right;\">0</td><td style=\"text-align: right;\">0.00</td><td style=\"text-align: right;\">0</td><td style=\"text-align: right;\">0.00</td><td style=\"text-align: right;\">0</td><td style=\"text-align: right;\">0.00</td><td style=\"text-align: right;\">0</td><td style=\"text-align: right;\">0.00</td></tr>\n",
       "<tr><td style=\"text-align: right;\">353304</td><td style=\"text-align: right;\">135,780,924</td><td style=\"text-align: right;\">236,215</td><td style=\"text-align: right;\">49</td><td style=\"text-align: right;\">136</td><td style=\"text-align: right;\">0.08</td><td style=\"text-align: right;\">11</td><td style=\"text-align: right;\">0.85</td><td style=\"text-align: right;\">5</td><td style=\"text-align: right;\">2.26</td><td style=\"text-align: right;\">6</td><td style=\"text-align: right;\">8.70</td><td style=\"text-align: right;\">0</td><td style=\"text-align: right;\">0.00</td><td style=\"text-align: right;\">0</td><td style=\"text-align: right;\">0.00</td><td style=\"text-align: right;\">0</td><td style=\"text-align: right;\">0.00</td><td style=\"text-align: right;\">0</td><td style=\"text-align: right;\">0.00</td><td style=\"text-align: right;\">0</td><td style=\"text-align: right;\">0.00</td></tr>\n",
       "<tr class=\"even\"><td style=\"text-align: right;\">354125</td><td style=\"text-align: right;\">136,651,969</td><td style=\"text-align: right;\">124,016</td><td style=\"text-align: right;\">24</td><td style=\"text-align: right;\">113</td><td style=\"text-align: right;\">0.10</td><td style=\"text-align: right;\">11</td><td style=\"text-align: right;\">0.85</td><td style=\"text-align: right;\">5</td><td style=\"text-align: right;\">2.26</td><td style=\"text-align: right;\">6</td><td style=\"text-align: right;\">8.70</td><td style=\"text-align: right;\">0</td><td style=\"text-align: right;\">0.00</td><td style=\"text-align: right;\">0</td><td style=\"text-align: right;\">0.00</td><td style=\"text-align: right;\">0</td><td style=\"text-align: right;\">0.00</td><td style=\"text-align: right;\">0</td><td style=\"text-align: right;\">0.00</td><td style=\"text-align: right;\">0</td><td style=\"text-align: right;\">0.00</td></tr>\n",
       "<tr><td style=\"text-align: right;\">353915</td><td style=\"text-align: right;\">136,499,188</td><td style=\"text-align: right;\">132,236</td><td style=\"text-align: right;\">26</td><td style=\"text-align: right;\">96</td><td style=\"text-align: right;\">0.11</td><td style=\"text-align: right;\">11</td><td style=\"text-align: right;\">0.85</td><td style=\"text-align: right;\">5</td><td style=\"text-align: right;\">2.26</td><td style=\"text-align: right;\">6</td><td style=\"text-align: right;\">8.70</td><td style=\"text-align: right;\">0</td><td style=\"text-align: right;\">0.00</td><td style=\"text-align: right;\">0</td><td style=\"text-align: right;\">0.00</td><td style=\"text-align: right;\">0</td><td style=\"text-align: right;\">0.00</td><td style=\"text-align: right;\">0</td><td style=\"text-align: right;\">0.00</td><td style=\"text-align: right;\">0</td><td style=\"text-align: right;\">0.00</td></tr>\n",
       "<tr class=\"even\"><td style=\"text-align: right;\">354037</td><td style=\"text-align: right;\">136,589,701</td><td style=\"text-align: right;\">51,567</td><td style=\"text-align: right;\">4</td><td style=\"text-align: right;\">80</td><td style=\"text-align: right;\">0.14</td><td style=\"text-align: right;\">11</td><td style=\"text-align: right;\">0.85</td><td style=\"text-align: right;\">5</td><td style=\"text-align: right;\">2.26</td><td style=\"text-align: right;\">6</td><td style=\"text-align: right;\">8.70</td><td style=\"text-align: right;\">0</td><td style=\"text-align: right;\">0.00</td><td style=\"text-align: right;\">0</td><td style=\"text-align: right;\">0.00</td><td style=\"text-align: right;\">0</td><td style=\"text-align: right;\">0.00</td><td style=\"text-align: right;\">0</td><td style=\"text-align: right;\">0.00</td><td style=\"text-align: right;\">0</td><td style=\"text-align: right;\">0.00</td></tr>\n",
       "<tr><td style=\"text-align: right;\">353259</td><td style=\"text-align: right;\">135,761,470</td><td style=\"text-align: right;\">609,610</td><td style=\"text-align: right;\">22</td><td style=\"text-align: right;\">73</td><td style=\"text-align: right;\">0.15</td><td style=\"text-align: right;\">11</td><td style=\"text-align: right;\">0.85</td><td style=\"text-align: right;\">5</td><td style=\"text-align: right;\">2.26</td><td style=\"text-align: right;\">6</td><td style=\"text-align: right;\">8.70</td><td style=\"text-align: right;\">0</td><td style=\"text-align: right;\">0.00</td><td style=\"text-align: right;\">0</td><td style=\"text-align: right;\">0.00</td><td style=\"text-align: right;\">0</td><td style=\"text-align: right;\">0.00</td><td style=\"text-align: right;\">0</td><td style=\"text-align: right;\">0.00</td><td style=\"text-align: right;\">0</td><td style=\"text-align: right;\">0.00</td></tr>\n",
       "<tr class=\"even\"><td style=\"text-align: right;\">353806</td><td style=\"text-align: right;\">136,403,061</td><td style=\"text-align: right;\">84,783</td><td style=\"text-align: right;\">4</td><td style=\"text-align: right;\">67</td><td style=\"text-align: right;\">0.16</td><td style=\"text-align: right;\">11</td><td style=\"text-align: right;\">0.85</td><td style=\"text-align: right;\">5</td><td style=\"text-align: right;\">2.26</td><td style=\"text-align: right;\">6</td><td style=\"text-align: right;\">8.70</td><td style=\"text-align: right;\">0</td><td style=\"text-align: right;\">0.00</td><td style=\"text-align: right;\">0</td><td style=\"text-align: right;\">0.00</td><td style=\"text-align: right;\">0</td><td style=\"text-align: right;\">0.00</td><td style=\"text-align: right;\">0</td><td style=\"text-align: right;\">0.00</td><td style=\"text-align: right;\">0</td><td style=\"text-align: right;\">0.00</td></tr>\n",
       "</table>"
      ],
      "text/plain": [
       "<IPython.core.display.HTML object>"
      ]
     },
     "execution_count": 83,
     "metadata": {},
     "output_type": "execute_result"
    }
   ],
   "source": [
    "HTML(plt_obj.get_html())"
   ]
  },
  {
   "cell_type": "code",
   "execution_count": 84,
   "metadata": {
    "collapsed": false
   },
   "outputs": [
    {
     "data": {
      "text/plain": [
       "array([(2, 1), (7, 1), (8, 1), (20, 17), (22, 9)], \n",
       "      dtype=[('count', '<u2'), ('snps', '<u2')])"
      ]
     },
     "execution_count": 84,
     "metadata": {},
     "output_type": "execute_result"
    }
   ],
   "source": [
    "an.sa_62_1265.unique_snps_per_allele(am1)"
   ]
  },
  {
   "cell_type": "code",
   "execution_count": 85,
   "metadata": {
    "collapsed": false
   },
   "outputs": [
    {
     "data": {
      "text/plain": [
       "array([(0, 246), (1, 4), (4, 1)], \n",
       "      dtype=[('count', '<u2'), ('snps', '<u2')])"
      ]
     },
     "execution_count": 85,
     "metadata": {},
     "output_type": "execute_result"
    }
   ],
   "source": [
    "an.sa_62_1265.unique_snps_per_allele(am2)"
   ]
  },
  {
   "cell_type": "code",
   "execution_count": 86,
   "metadata": {
    "collapsed": false
   },
   "outputs": [
    {
     "data": {
      "text/plain": [
       "array([(0, 3), (1, 1), (5, 1)], \n",
       "      dtype=[('count', '<u2'), ('snps', '<u2')])"
      ]
     },
     "execution_count": 86,
     "metadata": {},
     "output_type": "execute_result"
    }
   ],
   "source": [
    "an.sa_62_1265.unique_snps_per_allele(am3)"
   ]
  },
  {
   "cell_type": "code",
   "execution_count": 87,
   "metadata": {
    "collapsed": false
   },
   "outputs": [
    {
     "data": {
      "text/plain": [
       "array([(3, 1), (4, 8), (5, 11), (6, 17), (7, 22), (8, 3)], \n",
       "      dtype=[('count', '<u2'), ('snps', '<u2')])"
      ]
     },
     "execution_count": 87,
     "metadata": {},
     "output_type": "execute_result"
    }
   ],
   "source": [
    "an.sa_62_1265.unique_snps_per_allele(am4)"
   ]
  },
  {
   "cell_type": "code",
   "execution_count": 88,
   "metadata": {
    "collapsed": false
   },
   "outputs": [
    {
     "data": {
      "text/plain": [
       "array([(0, 2), (1, 1), (5, 3), (6, 3), (20, 1), (21, 1)], \n",
       "      dtype=[('count', '<u2'), ('snps', '<u2')])"
      ]
     },
     "execution_count": 88,
     "metadata": {},
     "output_type": "execute_result"
    }
   ],
   "source": [
    "an.sa_62_1265.unique_snps_per_allele(am5)"
   ]
  },
  {
   "cell_type": "code",
   "execution_count": 89,
   "metadata": {
    "collapsed": false
   },
   "outputs": [
    {
     "data": {
      "text/plain": [
       "array([(2, 18), (3, 34), (4, 12), (5, 10)], \n",
       "      dtype=[('count', '<u2'), ('snps', '<u2')])"
      ]
     },
     "execution_count": 89,
     "metadata": {},
     "output_type": "execute_result"
    }
   ],
   "source": [
    "an.sa_62_1265.unique_snps_per_allele(am6)"
   ]
  },
  {
   "cell_type": "code",
   "execution_count": 90,
   "metadata": {
    "collapsed": false
   },
   "outputs": [
    {
     "data": {
      "text/plain": [
       "array([(0, 1)], \n",
       "      dtype=[('count', '<u2'), ('snps', '<u2')])"
      ]
     },
     "execution_count": 90,
     "metadata": {},
     "output_type": "execute_result"
    }
   ],
   "source": [
    "an.sa_62_1265.unique_snps_per_allele(am7)"
   ]
  },
  {
   "cell_type": "code",
   "execution_count": 91,
   "metadata": {
    "collapsed": false
   },
   "outputs": [
    {
     "data": {
      "text/plain": [
       "array([(21, 1)], \n",
       "      dtype=[('count', '<u2'), ('snps', '<u2')])"
      ]
     },
     "execution_count": 91,
     "metadata": {},
     "output_type": "execute_result"
    }
   ],
   "source": [
    "an.sa_62_1265.unique_snps_per_allele(am8)"
   ]
  }
 ],
 "metadata": {
  "anaconda-cloud": {},
  "kernelspec": {
   "display_name": "Python [Root]",
   "language": "python",
   "name": "Python [Root]"
  },
  "language_info": {
   "codemirror_mode": {
    "name": "ipython",
    "version": 2
   },
   "file_extension": ".py",
   "mimetype": "text/x-python",
   "name": "python",
   "nbconvert_exporter": "python",
   "pygments_lexer": "ipython2",
   "version": "2.7.12"
  }
 },
 "nbformat": 4,
 "nbformat_minor": 0
}
