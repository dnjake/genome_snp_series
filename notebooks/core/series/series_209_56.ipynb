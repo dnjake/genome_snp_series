{
 "cells": [
  {
   "cell_type": "code",
   "execution_count": 1,
   "metadata": {
    "collapsed": false
   },
   "outputs": [
    {
     "data": {
      "text/html": []
     },
     "metadata": {},
     "output_type": "display_data"
    },
    {
     "data": {
      "application/javascript": [
       "\n",
       "(function(global) {\n",
       "  function now() {\n",
       "    return new Date();\n",
       "  }\n",
       "\n",
       "  if (typeof (window._bokeh_onload_callbacks) === \"undefined\") {\n",
       "    window._bokeh_onload_callbacks = [];\n",
       "  }\n",
       "\n",
       "  function run_callbacks() {\n",
       "    window._bokeh_onload_callbacks.forEach(function(callback) { callback() });\n",
       "    delete window._bokeh_onload_callbacks\n",
       "    console.info(\"Bokeh: all callbacks have finished\");\n",
       "  }\n",
       "\n",
       "  function load_libs(js_urls, callback) {\n",
       "    window._bokeh_onload_callbacks.push(callback);\n",
       "    if (window._bokeh_is_loading > 0) {\n",
       "      console.log(\"Bokeh: BokehJS is being loaded, scheduling callback at\", now());\n",
       "      return null;\n",
       "    }\n",
       "    if (js_urls == null || js_urls.length === 0) {\n",
       "      run_callbacks();\n",
       "      return null;\n",
       "    }\n",
       "    console.log(\"Bokeh: BokehJS not loaded, scheduling load and callback at\", now());\n",
       "    window._bokeh_is_loading = js_urls.length;\n",
       "    for (var i = 0; i < js_urls.length; i++) {\n",
       "      var url = js_urls[i];\n",
       "      var s = document.createElement('script');\n",
       "      s.src = url;\n",
       "      s.async = false;\n",
       "      s.onreadystatechange = s.onload = function() {\n",
       "        window._bokeh_is_loading--;\n",
       "        if (window._bokeh_is_loading === 0) {\n",
       "          console.log(\"Bokeh: all BokehJS libraries loaded\");\n",
       "          run_callbacks()\n",
       "        }\n",
       "      };\n",
       "      s.onerror = function() {\n",
       "        console.warn(\"failed to load library \" + url);\n",
       "      };\n",
       "      console.log(\"Bokeh: injecting script tag for BokehJS library: \", url);\n",
       "      document.getElementsByTagName(\"head\")[0].appendChild(s);\n",
       "    }\n",
       "  };\n",
       "\n",
       "  var js_urls = ['https://cdn.pydata.org/bokeh/release/bokeh-0.12.0.min.js', 'https://cdn.pydata.org/bokeh/release/bokeh-widgets-0.12.0.min.js', 'https://cdn.pydata.org/bokeh/release/bokeh-compiler-0.12.0.min.js'];\n",
       "\n",
       "  var inline_js = [\n",
       "    function(Bokeh) {\n",
       "      Bokeh.set_log_level(\"info\");\n",
       "    },\n",
       "    \n",
       "    function(Bokeh) {\n",
       "      Bokeh.$(\"#3e4b0581-51a5-41d0-bf5d-79d43bf10165\").text(\"BokehJS successfully loaded\");\n",
       "    },\n",
       "    function(Bokeh) {\n",
       "      console.log(\"Bokeh: injecting CSS: https://cdn.pydata.org/bokeh/release/bokeh-0.12.0.min.css\");\n",
       "      Bokeh.embed.inject_css(\"https://cdn.pydata.org/bokeh/release/bokeh-0.12.0.min.css\");\n",
       "      console.log(\"Bokeh: injecting CSS: https://cdn.pydata.org/bokeh/release/bokeh-widgets-0.12.0.min.css\");\n",
       "      Bokeh.embed.inject_css(\"https://cdn.pydata.org/bokeh/release/bokeh-widgets-0.12.0.min.css\");\n",
       "    }\n",
       "  ];\n",
       "\n",
       "  function run_inline_js() {\n",
       "    for (var i = 0; i < inline_js.length; i++) {\n",
       "      inline_js[i](window.Bokeh);\n",
       "    }\n",
       "  }\n",
       "\n",
       "  if (window._bokeh_is_loading === 0) {\n",
       "    console.log(\"Bokeh: BokehJS loaded, going straight to plotting\");\n",
       "    run_inline_js();\n",
       "  } else {\n",
       "    load_libs(js_urls, function() {\n",
       "      console.log(\"Bokeh: BokehJS plotting callback run at\", now());\n",
       "      run_inline_js();\n",
       "    });\n",
       "  }\n",
       "}(this));"
      ]
     },
     "metadata": {},
     "output_type": "display_data"
    }
   ],
   "source": [
    "import numpy as np\n",
    "from IPython.display import HTML\n",
    "from bokeh.plotting import output_notebook, show\n",
    "import genomes_dnj.lct_interval.series_plots as dm\n",
    "import genomes_dnj.lct_interval.anal_series as an\n",
    "import genomes_dnj.lct_interval_snp_anal.lct_interval_snp_anal as snp_anal\n",
    "import genomes_dnj.lct_interval.series_masks as sm\n",
    "from genomes_dnj.lct_interval.bokeh_match_count_plot import snp_match_count_plot_cls as smcp\n",
    "output_notebook(hide_banner=True)\n",
    "sa_209_56 = snp_anal.series_anal_cls(dm.di_209_56, sm.series_data)\n",
    "am_209_56 = dm.allele_mask_from_index(dm.di_209_56)"
   ]
  },
  {
   "cell_type": "markdown",
   "metadata": {},
   "source": [
    "<h3>Series 209_56</h3>\n",
    "<div style=\"width:700px\">\n",
    "<p>\n",
    "This notebook documents the series 209_56 and its 209 SNPs. The 1000 genomes data includes 4899\n",
    "chromosome 2 samples that express none of these 209 SNPs and 48 samples that express all 209 of them.\n",
    "Another 6 samples express 208 of them.  The series extends over 617,000 DNA bases in the same part\n",
    "of chromosome 2 as the series 117_1685, 123_1561, 62_1265, and 193_843.  All 56 of the chromosome\n",
    "samples that express 209_56 also express 117_1685, 123_1561, and 62_1265.\n",
    "<p>\n",
    "209_56 is a third case like 193_843 and 67_329 where a long series of a large number of SNPs has\n",
    "selected an hierarchy that includes the same three other long series of large numbers of SNPs.\n",
    "The only difference in this case is that the instances of 123_1561 associated with 209_56 are\n",
    "missing one of the 123_1561 SNPs.\n",
    "<p>\n",
    "The series 209_56 is also strongly associated with 26_1414, 10_2206, and 14_48.  The emergence\n",
    "of 209_56 appears to have marked an independent selection of 26_1414_and 10_2206, two series\n",
    "that are part of the EUR tree root.  However, the version of 26_1414 associated with 209_56 has\n",
    "lost 3 of its 26 SNPs."
   ]
  },
  {
   "cell_type": "code",
   "execution_count": 2,
   "metadata": {
    "collapsed": false,
    "scrolled": false
   },
   "outputs": [
    {
     "data": {
      "text/html": [
       "<p>\n",
       "<b>209_56 series</b>\n",
       "</p><p>\n",
       "<table>\n",
       "<thead><tr><th style=\"text-align:center\">index</th><th style=\"text-align:center\">first</th><th style=\"text-align:center\">length</th><th style=\"text-align:center\">snps</th><th style=\"text-align:center\">alleles</th><th style=\"text-align:center\" colspan=2>afr</th><th style=\"text-align:center\" colspan=2>afx</th><th style=\"text-align:center\" colspan=2>amr</th><th style=\"text-align:center\" colspan=2>eas</th><th style=\"text-align:center\" colspan=2>eur</th><th style=\"text-align:center\" colspan=2>sas</th><th style=\"text-align:center\" colspan=2>sax</th></tr></thead>\n",
       "<tr class=\"even\"><td style=\"text-align: right;\">353276</td><td style=\"text-align: right;\">135,769,240</td><td style=\"text-align: right;\">617,518</td><td style=\"text-align: right;\">209</td><td style=\"text-align: right;\">56</td><td style=\"text-align: right;\">40</td><td style=\"text-align: right;\">3.55</td><td style=\"text-align: right;\">11</td><td style=\"text-align: right;\">3.13</td><td style=\"text-align: right;\">5</td><td style=\"text-align: right;\">0.64</td><td style=\"text-align: right;\">0</td><td style=\"text-align: right;\">0.00</td><td style=\"text-align: right;\">0</td><td style=\"text-align: right;\">0.00</td><td style=\"text-align: right;\">0</td><td style=\"text-align: right;\">0.00</td><td style=\"text-align: right;\">0</td><td style=\"text-align: right;\">0.00</td></tr>\n",
       "</table>\n",
       "</p>\n",
       "<p>\n",
       "<b>209_56 series snps</b>\n",
       "</p><p>\n",
       "<table>\n",
       "<thead><tr><th style=\"text-align:center\">index</th><th style=\"text-align:center\">pos</th><th style=\"text-align:center\">id</th><th style=\"text-align:center\">niv</th><th style=\"text-align:center\">alleles</th><th style=\"text-align:center\" colspan=2>afr</th><th style=\"text-align:center\" colspan=2>afx</th><th style=\"text-align:center\" colspan=2>amr</th><th style=\"text-align:center\" colspan=2>eas</th><th style=\"text-align:center\" colspan=2>eur</th><th style=\"text-align:center\" colspan=2>sas</th><th style=\"text-align:center\" colspan=2>sax</th></tr></thead>\n",
       "<tr class=\"even\"><td style=\"text-align: right;\">875065</td><td style=\"text-align: right;\">135,769,240</td><td>rs114322716</td><td>0</td><td style=\"text-align: right;\">52</td><td style=\"text-align: right;\">37</td><td style=\"text-align: right;\">3.54</td><td style=\"text-align: right;\">10</td><td style=\"text-align: right;\">3.07</td><td style=\"text-align: right;\">5</td><td style=\"text-align: right;\">0.69</td><td style=\"text-align: right;\">0</td><td style=\"text-align: right;\">0.00</td><td style=\"text-align: right;\">0</td><td style=\"text-align: right;\">0.00</td><td style=\"text-align: right;\">0</td><td style=\"text-align: right;\">0.00</td><td style=\"text-align: right;\">0</td><td style=\"text-align: right;\">0.00</td></tr>\n",
       "<tr><td style=\"text-align: right;\">875103</td><td style=\"text-align: right;\">135,775,679</td><td>rs147379105</td><td>0</td><td style=\"text-align: right;\">56</td><td style=\"text-align: right;\">39</td><td style=\"text-align: right;\">3.46</td><td style=\"text-align: right;\">11</td><td style=\"text-align: right;\">3.13</td><td style=\"text-align: right;\">5</td><td style=\"text-align: right;\">0.64</td><td style=\"text-align: right;\">0</td><td style=\"text-align: right;\">0.00</td><td style=\"text-align: right;\">0</td><td style=\"text-align: right;\">0.00</td><td style=\"text-align: right;\">0</td><td style=\"text-align: right;\">0.00</td><td style=\"text-align: right;\">1</td><td style=\"text-align: right;\">0.15</td></tr>\n",
       "<tr class=\"even\"><td style=\"text-align: right;\">875109</td><td style=\"text-align: right;\">135,776,654</td><td>rs116084438</td><td>0</td><td style=\"text-align: right;\">54</td><td style=\"text-align: right;\">38</td><td style=\"text-align: right;\">3.50</td><td style=\"text-align: right;\">11</td><td style=\"text-align: right;\">3.25</td><td style=\"text-align: right;\">5</td><td style=\"text-align: right;\">0.67</td><td style=\"text-align: right;\">0</td><td style=\"text-align: right;\">0.00</td><td style=\"text-align: right;\">0</td><td style=\"text-align: right;\">0.00</td><td style=\"text-align: right;\">0</td><td style=\"text-align: right;\">0.00</td><td style=\"text-align: right;\">0</td><td style=\"text-align: right;\">0.00</td></tr>\n",
       "<tr><td style=\"text-align: right;\">875129</td><td style=\"text-align: right;\">135,779,989</td><td>rs76433902</td><td>0</td><td style=\"text-align: right;\">55</td><td style=\"text-align: right;\">39</td><td style=\"text-align: right;\">3.52</td><td style=\"text-align: right;\">11</td><td style=\"text-align: right;\">3.19</td><td style=\"text-align: right;\">5</td><td style=\"text-align: right;\">0.66</td><td style=\"text-align: right;\">0</td><td style=\"text-align: right;\">0.00</td><td style=\"text-align: right;\">0</td><td style=\"text-align: right;\">0.00</td><td style=\"text-align: right;\">0</td><td style=\"text-align: right;\">0.00</td><td style=\"text-align: right;\">0</td><td style=\"text-align: right;\">0.00</td></tr>\n",
       "<tr class=\"even\"><td style=\"text-align: right;\">875201</td><td style=\"text-align: right;\">135,790,113</td><td>rs116187644</td><td>0</td><td style=\"text-align: right;\">55</td><td style=\"text-align: right;\">39</td><td style=\"text-align: right;\">3.52</td><td style=\"text-align: right;\">11</td><td style=\"text-align: right;\">3.19</td><td style=\"text-align: right;\">5</td><td style=\"text-align: right;\">0.66</td><td style=\"text-align: right;\">0</td><td style=\"text-align: right;\">0.00</td><td style=\"text-align: right;\">0</td><td style=\"text-align: right;\">0.00</td><td style=\"text-align: right;\">0</td><td style=\"text-align: right;\">0.00</td><td style=\"text-align: right;\">0</td><td style=\"text-align: right;\">0.00</td></tr>\n",
       "<tr><td style=\"text-align: right;\">875234</td><td style=\"text-align: right;\">135,795,146</td><td>rs77926302</td><td>0</td><td style=\"text-align: right;\">57</td><td style=\"text-align: right;\">41</td><td style=\"text-align: right;\">3.57</td><td style=\"text-align: right;\">11</td><td style=\"text-align: right;\">3.08</td><td style=\"text-align: right;\">5</td><td style=\"text-align: right;\">0.63</td><td style=\"text-align: right;\">0</td><td style=\"text-align: right;\">0.00</td><td style=\"text-align: right;\">0</td><td style=\"text-align: right;\">0.00</td><td style=\"text-align: right;\">0</td><td style=\"text-align: right;\">0.00</td><td style=\"text-align: right;\">0</td><td style=\"text-align: right;\">0.00</td></tr>\n",
       "<tr class=\"even\"><td style=\"text-align: right;\">875260</td><td style=\"text-align: right;\">135,798,635</td><td>rs79468479</td><td>0</td><td style=\"text-align: right;\">57</td><td style=\"text-align: right;\">41</td><td style=\"text-align: right;\">3.57</td><td style=\"text-align: right;\">11</td><td style=\"text-align: right;\">3.08</td><td style=\"text-align: right;\">5</td><td style=\"text-align: right;\">0.63</td><td style=\"text-align: right;\">0</td><td style=\"text-align: right;\">0.00</td><td style=\"text-align: right;\">0</td><td style=\"text-align: right;\">0.00</td><td style=\"text-align: right;\">0</td><td style=\"text-align: right;\">0.00</td><td style=\"text-align: right;\">0</td><td style=\"text-align: right;\">0.00</td></tr>\n",
       "<tr><td style=\"text-align: right;\">875275</td><td style=\"text-align: right;\">135,801,926</td><td>rs144522199</td><td>0</td><td style=\"text-align: right;\">57</td><td style=\"text-align: right;\">41</td><td style=\"text-align: right;\">3.57</td><td style=\"text-align: right;\">11</td><td style=\"text-align: right;\">3.08</td><td style=\"text-align: right;\">5</td><td style=\"text-align: right;\">0.63</td><td style=\"text-align: right;\">0</td><td style=\"text-align: right;\">0.00</td><td style=\"text-align: right;\">0</td><td style=\"text-align: right;\">0.00</td><td style=\"text-align: right;\">0</td><td style=\"text-align: right;\">0.00</td><td style=\"text-align: right;\">0</td><td style=\"text-align: right;\">0.00</td></tr>\n",
       "<tr class=\"even\"><td style=\"text-align: right;\">875312</td><td style=\"text-align: right;\">135,811,188</td><td>rs115169554</td><td>0</td><td style=\"text-align: right;\">57</td><td style=\"text-align: right;\">41</td><td style=\"text-align: right;\">3.57</td><td style=\"text-align: right;\">11</td><td style=\"text-align: right;\">3.08</td><td style=\"text-align: right;\">5</td><td style=\"text-align: right;\">0.63</td><td style=\"text-align: right;\">0</td><td style=\"text-align: right;\">0.00</td><td style=\"text-align: right;\">0</td><td style=\"text-align: right;\">0.00</td><td style=\"text-align: right;\">0</td><td style=\"text-align: right;\">0.00</td><td style=\"text-align: right;\">0</td><td style=\"text-align: right;\">0.00</td></tr>\n",
       "<tr><td style=\"text-align: right;\">875356</td><td style=\"text-align: right;\">135,819,013</td><td>rs80312826</td><td>0</td><td style=\"text-align: right;\">57</td><td style=\"text-align: right;\">41</td><td style=\"text-align: right;\">3.57</td><td style=\"text-align: right;\">11</td><td style=\"text-align: right;\">3.08</td><td style=\"text-align: right;\">5</td><td style=\"text-align: right;\">0.63</td><td style=\"text-align: right;\">0</td><td style=\"text-align: right;\">0.00</td><td style=\"text-align: right;\">0</td><td style=\"text-align: right;\">0.00</td><td style=\"text-align: right;\">0</td><td style=\"text-align: right;\">0.00</td><td style=\"text-align: right;\">0</td><td style=\"text-align: right;\">0.00</td></tr>\n",
       "<tr class=\"even\"><td style=\"text-align: right;\">875358</td><td style=\"text-align: right;\">135,819,513</td><td>rs116002158</td><td>0</td><td style=\"text-align: right;\">57</td><td style=\"text-align: right;\">41</td><td style=\"text-align: right;\">3.57</td><td style=\"text-align: right;\">11</td><td style=\"text-align: right;\">3.08</td><td style=\"text-align: right;\">5</td><td style=\"text-align: right;\">0.63</td><td style=\"text-align: right;\">0</td><td style=\"text-align: right;\">0.00</td><td style=\"text-align: right;\">0</td><td style=\"text-align: right;\">0.00</td><td style=\"text-align: right;\">0</td><td style=\"text-align: right;\">0.00</td><td style=\"text-align: right;\">0</td><td style=\"text-align: right;\">0.00</td></tr>\n",
       "<tr><td style=\"text-align: right;\">875360</td><td style=\"text-align: right;\">135,819,780</td><td>rs77397386</td><td>0</td><td style=\"text-align: right;\">57</td><td style=\"text-align: right;\">41</td><td style=\"text-align: right;\">3.57</td><td style=\"text-align: right;\">11</td><td style=\"text-align: right;\">3.08</td><td style=\"text-align: right;\">5</td><td style=\"text-align: right;\">0.63</td><td style=\"text-align: right;\">0</td><td style=\"text-align: right;\">0.00</td><td style=\"text-align: right;\">0</td><td style=\"text-align: right;\">0.00</td><td style=\"text-align: right;\">0</td><td style=\"text-align: right;\">0.00</td><td style=\"text-align: right;\">0</td><td style=\"text-align: right;\">0.00</td></tr>\n",
       "<tr class=\"even\"><td style=\"text-align: right;\">875368</td><td style=\"text-align: right;\">135,821,332</td><td>rs76339011</td><td>0</td><td style=\"text-align: right;\">57</td><td style=\"text-align: right;\">41</td><td style=\"text-align: right;\">3.57</td><td style=\"text-align: right;\">11</td><td style=\"text-align: right;\">3.08</td><td style=\"text-align: right;\">5</td><td style=\"text-align: right;\">0.63</td><td style=\"text-align: right;\">0</td><td style=\"text-align: right;\">0.00</td><td style=\"text-align: right;\">0</td><td style=\"text-align: right;\">0.00</td><td style=\"text-align: right;\">0</td><td style=\"text-align: right;\">0.00</td><td style=\"text-align: right;\">0</td><td style=\"text-align: right;\">0.00</td></tr>\n",
       "<tr><td style=\"text-align: right;\">875369</td><td style=\"text-align: right;\">135,821,676</td><td>rs78315044</td><td>0</td><td style=\"text-align: right;\">57</td><td style=\"text-align: right;\">41</td><td style=\"text-align: right;\">3.57</td><td style=\"text-align: right;\">11</td><td style=\"text-align: right;\">3.08</td><td style=\"text-align: right;\">5</td><td style=\"text-align: right;\">0.63</td><td style=\"text-align: right;\">0</td><td style=\"text-align: right;\">0.00</td><td style=\"text-align: right;\">0</td><td style=\"text-align: right;\">0.00</td><td style=\"text-align: right;\">0</td><td style=\"text-align: right;\">0.00</td><td style=\"text-align: right;\">0</td><td style=\"text-align: right;\">0.00</td></tr>\n",
       "<tr class=\"even\"><td style=\"text-align: right;\">875372</td><td style=\"text-align: right;\">135,821,993</td><td>rs116623301</td><td>0</td><td style=\"text-align: right;\">57</td><td style=\"text-align: right;\">41</td><td style=\"text-align: right;\">3.57</td><td style=\"text-align: right;\">11</td><td style=\"text-align: right;\">3.08</td><td style=\"text-align: right;\">5</td><td style=\"text-align: right;\">0.63</td><td style=\"text-align: right;\">0</td><td style=\"text-align: right;\">0.00</td><td style=\"text-align: right;\">0</td><td style=\"text-align: right;\">0.00</td><td style=\"text-align: right;\">0</td><td style=\"text-align: right;\">0.00</td><td style=\"text-align: right;\">0</td><td style=\"text-align: right;\">0.00</td></tr>\n",
       "<tr><td style=\"text-align: right;\">875375</td><td style=\"text-align: right;\">135,822,311</td><td>rs74468029</td><td>0</td><td style=\"text-align: right;\">57</td><td style=\"text-align: right;\">41</td><td style=\"text-align: right;\">3.57</td><td style=\"text-align: right;\">11</td><td style=\"text-align: right;\">3.08</td><td style=\"text-align: right;\">5</td><td style=\"text-align: right;\">0.63</td><td style=\"text-align: right;\">0</td><td style=\"text-align: right;\">0.00</td><td style=\"text-align: right;\">0</td><td style=\"text-align: right;\">0.00</td><td style=\"text-align: right;\">0</td><td style=\"text-align: right;\">0.00</td><td style=\"text-align: right;\">0</td><td style=\"text-align: right;\">0.00</td></tr>\n",
       "<tr class=\"even\"><td style=\"text-align: right;\">875387</td><td style=\"text-align: right;\">135,823,639</td><td>rs116114791</td><td>0</td><td style=\"text-align: right;\">57</td><td style=\"text-align: right;\">41</td><td style=\"text-align: right;\">3.57</td><td style=\"text-align: right;\">11</td><td style=\"text-align: right;\">3.08</td><td style=\"text-align: right;\">5</td><td style=\"text-align: right;\">0.63</td><td style=\"text-align: right;\">0</td><td style=\"text-align: right;\">0.00</td><td style=\"text-align: right;\">0</td><td style=\"text-align: right;\">0.00</td><td style=\"text-align: right;\">0</td><td style=\"text-align: right;\">0.00</td><td style=\"text-align: right;\">0</td><td style=\"text-align: right;\">0.00</td></tr>\n",
       "<tr><td style=\"text-align: right;\">875417</td><td style=\"text-align: right;\">135,830,336</td><td>rs6727598</td><td>0</td><td style=\"text-align: right;\">57</td><td style=\"text-align: right;\">41</td><td style=\"text-align: right;\">3.57</td><td style=\"text-align: right;\">11</td><td style=\"text-align: right;\">3.08</td><td style=\"text-align: right;\">5</td><td style=\"text-align: right;\">0.63</td><td style=\"text-align: right;\">0</td><td style=\"text-align: right;\">0.00</td><td style=\"text-align: right;\">0</td><td style=\"text-align: right;\">0.00</td><td style=\"text-align: right;\">0</td><td style=\"text-align: right;\">0.00</td><td style=\"text-align: right;\">0</td><td style=\"text-align: right;\">0.00</td></tr>\n",
       "<tr class=\"even\"><td style=\"text-align: right;\">875420</td><td style=\"text-align: right;\">135,830,617</td><td>rs6740804</td><td>0</td><td style=\"text-align: right;\">57</td><td style=\"text-align: right;\">41</td><td style=\"text-align: right;\">3.57</td><td style=\"text-align: right;\">11</td><td style=\"text-align: right;\">3.08</td><td style=\"text-align: right;\">5</td><td style=\"text-align: right;\">0.63</td><td style=\"text-align: right;\">0</td><td style=\"text-align: right;\">0.00</td><td style=\"text-align: right;\">0</td><td style=\"text-align: right;\">0.00</td><td style=\"text-align: right;\">0</td><td style=\"text-align: right;\">0.00</td><td style=\"text-align: right;\">0</td><td style=\"text-align: right;\">0.00</td></tr>\n",
       "<tr><td style=\"text-align: right;\">875421</td><td style=\"text-align: right;\">135,830,805</td><td>rs74612771</td><td>0</td><td style=\"text-align: right;\">57</td><td style=\"text-align: right;\">41</td><td style=\"text-align: right;\">3.57</td><td style=\"text-align: right;\">11</td><td style=\"text-align: right;\">3.08</td><td style=\"text-align: right;\">5</td><td style=\"text-align: right;\">0.63</td><td style=\"text-align: right;\">0</td><td style=\"text-align: right;\">0.00</td><td style=\"text-align: right;\">0</td><td style=\"text-align: right;\">0.00</td><td style=\"text-align: right;\">0</td><td style=\"text-align: right;\">0.00</td><td style=\"text-align: right;\">0</td><td style=\"text-align: right;\">0.00</td></tr>\n",
       "<tr class=\"even\"><td style=\"text-align: right;\">875425</td><td style=\"text-align: right;\">135,832,014</td><td>rs77665765</td><td>0</td><td style=\"text-align: right;\">57</td><td style=\"text-align: right;\">41</td><td style=\"text-align: right;\">3.57</td><td style=\"text-align: right;\">11</td><td style=\"text-align: right;\">3.08</td><td style=\"text-align: right;\">5</td><td style=\"text-align: right;\">0.63</td><td style=\"text-align: right;\">0</td><td style=\"text-align: right;\">0.00</td><td style=\"text-align: right;\">0</td><td style=\"text-align: right;\">0.00</td><td style=\"text-align: right;\">0</td><td style=\"text-align: right;\">0.00</td><td style=\"text-align: right;\">0</td><td style=\"text-align: right;\">0.00</td></tr>\n",
       "<tr><td style=\"text-align: right;\">875445</td><td style=\"text-align: right;\">135,837,481</td><td>rs192873185</td><td>0</td><td style=\"text-align: right;\">58</td><td style=\"text-align: right;\">41</td><td style=\"text-align: right;\">3.51</td><td style=\"text-align: right;\">11</td><td style=\"text-align: right;\">3.02</td><td style=\"text-align: right;\">5</td><td style=\"text-align: right;\">0.62</td><td style=\"text-align: right;\">0</td><td style=\"text-align: right;\">0.00</td><td style=\"text-align: right;\">0</td><td style=\"text-align: right;\">0.00</td><td style=\"text-align: right;\">0</td><td style=\"text-align: right;\">0.00</td><td style=\"text-align: right;\">1</td><td style=\"text-align: right;\">0.14</td></tr>\n",
       "<tr class=\"even\"><td style=\"text-align: right;\">875452</td><td style=\"text-align: right;\">135,838,094</td><td>rs7571119</td><td>0</td><td style=\"text-align: right;\">60</td><td style=\"text-align: right;\">41</td><td style=\"text-align: right;\">3.39</td><td style=\"text-align: right;\">11</td><td style=\"text-align: right;\">2.92</td><td style=\"text-align: right;\">5</td><td style=\"text-align: right;\">0.60</td><td style=\"text-align: right;\">3</td><td style=\"text-align: right;\">0.25</td><td style=\"text-align: right;\">0</td><td style=\"text-align: right;\">0.00</td><td style=\"text-align: right;\">0</td><td style=\"text-align: right;\">0.00</td><td style=\"text-align: right;\">0</td><td style=\"text-align: right;\">0.00</td></tr>\n",
       "<tr><td style=\"text-align: right;\">875454</td><td style=\"text-align: right;\">135,838,407</td><td>rs7574206</td><td>0</td><td style=\"text-align: right;\">55</td><td style=\"text-align: right;\">39</td><td style=\"text-align: right;\">3.52</td><td style=\"text-align: right;\">11</td><td style=\"text-align: right;\">3.19</td><td style=\"text-align: right;\">5</td><td style=\"text-align: right;\">0.66</td><td style=\"text-align: right;\">0</td><td style=\"text-align: right;\">0.00</td><td style=\"text-align: right;\">0</td><td style=\"text-align: right;\">0.00</td><td style=\"text-align: right;\">0</td><td style=\"text-align: right;\">0.00</td><td style=\"text-align: right;\">0</td><td style=\"text-align: right;\">0.00</td></tr>\n",
       "<tr class=\"even\"><td style=\"text-align: right;\">875484</td><td style=\"text-align: right;\">135,846,114</td><td>rs138669731</td><td>0</td><td style=\"text-align: right;\">57</td><td style=\"text-align: right;\">41</td><td style=\"text-align: right;\">3.57</td><td style=\"text-align: right;\">11</td><td style=\"text-align: right;\">3.08</td><td style=\"text-align: right;\">5</td><td style=\"text-align: right;\">0.63</td><td style=\"text-align: right;\">0</td><td style=\"text-align: right;\">0.00</td><td style=\"text-align: right;\">0</td><td style=\"text-align: right;\">0.00</td><td style=\"text-align: right;\">0</td><td style=\"text-align: right;\">0.00</td><td style=\"text-align: right;\">0</td><td style=\"text-align: right;\">0.00</td></tr>\n",
       "<tr><td style=\"text-align: right;\">875521</td><td style=\"text-align: right;\">135,854,369</td><td>rs77058177</td><td>0</td><td style=\"text-align: right;\">57</td><td style=\"text-align: right;\">41</td><td style=\"text-align: right;\">3.57</td><td style=\"text-align: right;\">11</td><td style=\"text-align: right;\">3.08</td><td style=\"text-align: right;\">5</td><td style=\"text-align: right;\">0.63</td><td style=\"text-align: right;\">0</td><td style=\"text-align: right;\">0.00</td><td style=\"text-align: right;\">0</td><td style=\"text-align: right;\">0.00</td><td style=\"text-align: right;\">0</td><td style=\"text-align: right;\">0.00</td><td style=\"text-align: right;\">0</td><td style=\"text-align: right;\">0.00</td></tr>\n",
       "<tr class=\"even\"><td style=\"text-align: right;\">875530</td><td style=\"text-align: right;\">135,856,671</td><td>rs114008293</td><td>0</td><td style=\"text-align: right;\">55</td><td style=\"text-align: right;\">38</td><td style=\"text-align: right;\">3.43</td><td style=\"text-align: right;\">11</td><td style=\"text-align: right;\">3.19</td><td style=\"text-align: right;\">5</td><td style=\"text-align: right;\">0.66</td><td style=\"text-align: right;\">0</td><td style=\"text-align: right;\">0.00</td><td style=\"text-align: right;\">1</td><td style=\"text-align: right;\">0.09</td><td style=\"text-align: right;\">0</td><td style=\"text-align: right;\">0.00</td><td style=\"text-align: right;\">0</td><td style=\"text-align: right;\">0.00</td></tr>\n",
       "<tr><td style=\"text-align: right;\">875543</td><td style=\"text-align: right;\">135,859,827</td><td>rs76587425</td><td>0</td><td style=\"text-align: right;\">54</td><td style=\"text-align: right;\">38</td><td style=\"text-align: right;\">3.50</td><td style=\"text-align: right;\">11</td><td style=\"text-align: right;\">3.25</td><td style=\"text-align: right;\">5</td><td style=\"text-align: right;\">0.67</td><td style=\"text-align: right;\">0</td><td style=\"text-align: right;\">0.00</td><td style=\"text-align: right;\">0</td><td style=\"text-align: right;\">0.00</td><td style=\"text-align: right;\">0</td><td style=\"text-align: right;\">0.00</td><td style=\"text-align: right;\">0</td><td style=\"text-align: right;\">0.00</td></tr>\n",
       "<tr class=\"even\"><td style=\"text-align: right;\">875548</td><td style=\"text-align: right;\">135,860,347</td><td>rs142456791</td><td>0</td><td style=\"text-align: right;\">56</td><td style=\"text-align: right;\">40</td><td style=\"text-align: right;\">3.55</td><td style=\"text-align: right;\">11</td><td style=\"text-align: right;\">3.13</td><td style=\"text-align: right;\">5</td><td style=\"text-align: right;\">0.64</td><td style=\"text-align: right;\">0</td><td style=\"text-align: right;\">0.00</td><td style=\"text-align: right;\">0</td><td style=\"text-align: right;\">0.00</td><td style=\"text-align: right;\">0</td><td style=\"text-align: right;\">0.00</td><td style=\"text-align: right;\">0</td><td style=\"text-align: right;\">0.00</td></tr>\n",
       "<tr><td style=\"text-align: right;\">875552</td><td style=\"text-align: right;\">135,861,038</td><td>rs115460513</td><td>0</td><td style=\"text-align: right;\">55</td><td style=\"text-align: right;\">38</td><td style=\"text-align: right;\">3.43</td><td style=\"text-align: right;\">11</td><td style=\"text-align: right;\">3.19</td><td style=\"text-align: right;\">5</td><td style=\"text-align: right;\">0.66</td><td style=\"text-align: right;\">0</td><td style=\"text-align: right;\">0.00</td><td style=\"text-align: right;\">0</td><td style=\"text-align: right;\">0.00</td><td style=\"text-align: right;\">0</td><td style=\"text-align: right;\">0.00</td><td style=\"text-align: right;\">1</td><td style=\"text-align: right;\">0.15</td></tr>\n",
       "<tr class=\"even\"><td style=\"text-align: right;\">875575</td><td style=\"text-align: right;\">135,863,516</td><td>.</td><td>0</td><td style=\"text-align: right;\">58</td><td style=\"text-align: right;\">41</td><td style=\"text-align: right;\">3.51</td><td style=\"text-align: right;\">12</td><td style=\"text-align: right;\">3.30</td><td style=\"text-align: right;\">5</td><td style=\"text-align: right;\">0.62</td><td style=\"text-align: right;\">0</td><td style=\"text-align: right;\">0.00</td><td style=\"text-align: right;\">0</td><td style=\"text-align: right;\">0.00</td><td style=\"text-align: right;\">0</td><td style=\"text-align: right;\">0.00</td><td style=\"text-align: right;\">0</td><td style=\"text-align: right;\">0.00</td></tr>\n",
       "<tr><td style=\"text-align: right;\">875591</td><td style=\"text-align: right;\">135,866,555</td><td>rs116534922</td><td>0</td><td style=\"text-align: right;\">58</td><td style=\"text-align: right;\">41</td><td style=\"text-align: right;\">3.51</td><td style=\"text-align: right;\">11</td><td style=\"text-align: right;\">3.02</td><td style=\"text-align: right;\">5</td><td style=\"text-align: right;\">0.62</td><td style=\"text-align: right;\">0</td><td style=\"text-align: right;\">0.00</td><td style=\"text-align: right;\">0</td><td style=\"text-align: right;\">0.00</td><td style=\"text-align: right;\">0</td><td style=\"text-align: right;\">0.00</td><td style=\"text-align: right;\">1</td><td style=\"text-align: right;\">0.14</td></tr>\n",
       "<tr class=\"even\"><td style=\"text-align: right;\">875600</td><td style=\"text-align: right;\">135,867,373</td><td>rs146386333</td><td>0</td><td style=\"text-align: right;\">59</td><td style=\"text-align: right;\">42</td><td style=\"text-align: right;\">3.54</td><td style=\"text-align: right;\">11</td><td style=\"text-align: right;\">2.97</td><td style=\"text-align: right;\">5</td><td style=\"text-align: right;\">0.61</td><td style=\"text-align: right;\">0</td><td style=\"text-align: right;\">0.00</td><td style=\"text-align: right;\">1</td><td style=\"text-align: right;\">0.08</td><td style=\"text-align: right;\">0</td><td style=\"text-align: right;\">0.00</td><td style=\"text-align: right;\">0</td><td style=\"text-align: right;\">0.00</td></tr>\n",
       "<tr><td style=\"text-align: right;\">875609</td><td style=\"text-align: right;\">135,869,590</td><td>rs80166870</td><td>0</td><td style=\"text-align: right;\">55</td><td style=\"text-align: right;\">39</td><td style=\"text-align: right;\">3.52</td><td style=\"text-align: right;\">11</td><td style=\"text-align: right;\">3.19</td><td style=\"text-align: right;\">5</td><td style=\"text-align: right;\">0.66</td><td style=\"text-align: right;\">0</td><td style=\"text-align: right;\">0.00</td><td style=\"text-align: right;\">0</td><td style=\"text-align: right;\">0.00</td><td style=\"text-align: right;\">0</td><td style=\"text-align: right;\">0.00</td><td style=\"text-align: right;\">0</td><td style=\"text-align: right;\">0.00</td></tr>\n",
       "<tr class=\"even\"><td style=\"text-align: right;\">875659</td><td style=\"text-align: right;\">135,881,194</td><td>rs79308664</td><td>0</td><td style=\"text-align: right;\">57</td><td style=\"text-align: right;\">41</td><td style=\"text-align: right;\">3.57</td><td style=\"text-align: right;\">11</td><td style=\"text-align: right;\">3.08</td><td style=\"text-align: right;\">5</td><td style=\"text-align: right;\">0.63</td><td style=\"text-align: right;\">0</td><td style=\"text-align: right;\">0.00</td><td style=\"text-align: right;\">0</td><td style=\"text-align: right;\">0.00</td><td style=\"text-align: right;\">0</td><td style=\"text-align: right;\">0.00</td><td style=\"text-align: right;\">0</td><td style=\"text-align: right;\">0.00</td></tr>\n",
       "<tr><td style=\"text-align: right;\">875660</td><td style=\"text-align: right;\">135,881,477</td><td>rs115289700</td><td>0</td><td style=\"text-align: right;\">57</td><td style=\"text-align: right;\">41</td><td style=\"text-align: right;\">3.57</td><td style=\"text-align: right;\">11</td><td style=\"text-align: right;\">3.08</td><td style=\"text-align: right;\">5</td><td style=\"text-align: right;\">0.63</td><td style=\"text-align: right;\">0</td><td style=\"text-align: right;\">0.00</td><td style=\"text-align: right;\">0</td><td style=\"text-align: right;\">0.00</td><td style=\"text-align: right;\">0</td><td style=\"text-align: right;\">0.00</td><td style=\"text-align: right;\">0</td><td style=\"text-align: right;\">0.00</td></tr>\n",
       "<tr class=\"even\"><td style=\"text-align: right;\">875667</td><td style=\"text-align: right;\">135,882,391</td><td>rs115994916</td><td>0</td><td style=\"text-align: right;\">57</td><td style=\"text-align: right;\">41</td><td style=\"text-align: right;\">3.57</td><td style=\"text-align: right;\">11</td><td style=\"text-align: right;\">3.08</td><td style=\"text-align: right;\">5</td><td style=\"text-align: right;\">0.63</td><td style=\"text-align: right;\">0</td><td style=\"text-align: right;\">0.00</td><td style=\"text-align: right;\">0</td><td style=\"text-align: right;\">0.00</td><td style=\"text-align: right;\">0</td><td style=\"text-align: right;\">0.00</td><td style=\"text-align: right;\">0</td><td style=\"text-align: right;\">0.00</td></tr>\n",
       "<tr><td style=\"text-align: right;\">875699</td><td style=\"text-align: right;\">135,888,827</td><td>rs149472384</td><td>0</td><td style=\"text-align: right;\">57</td><td style=\"text-align: right;\">41</td><td style=\"text-align: right;\">3.57</td><td style=\"text-align: right;\">11</td><td style=\"text-align: right;\">3.08</td><td style=\"text-align: right;\">5</td><td style=\"text-align: right;\">0.63</td><td style=\"text-align: right;\">0</td><td style=\"text-align: right;\">0.00</td><td style=\"text-align: right;\">0</td><td style=\"text-align: right;\">0.00</td><td style=\"text-align: right;\">0</td><td style=\"text-align: right;\">0.00</td><td style=\"text-align: right;\">0</td><td style=\"text-align: right;\">0.00</td></tr>\n",
       "<tr class=\"even\"><td style=\"text-align: right;\">875707</td><td style=\"text-align: right;\">135,890,553</td><td>rs114901298</td><td>0</td><td style=\"text-align: right;\">57</td><td style=\"text-align: right;\">41</td><td style=\"text-align: right;\">3.57</td><td style=\"text-align: right;\">11</td><td style=\"text-align: right;\">3.08</td><td style=\"text-align: right;\">5</td><td style=\"text-align: right;\">0.63</td><td style=\"text-align: right;\">0</td><td style=\"text-align: right;\">0.00</td><td style=\"text-align: right;\">0</td><td style=\"text-align: right;\">0.00</td><td style=\"text-align: right;\">0</td><td style=\"text-align: right;\">0.00</td><td style=\"text-align: right;\">0</td><td style=\"text-align: right;\">0.00</td></tr>\n",
       "<tr><td style=\"text-align: right;\">875713</td><td style=\"text-align: right;\">135,891,360</td><td>rs76932809</td><td>0</td><td style=\"text-align: right;\">57</td><td style=\"text-align: right;\">41</td><td style=\"text-align: right;\">3.57</td><td style=\"text-align: right;\">11</td><td style=\"text-align: right;\">3.08</td><td style=\"text-align: right;\">5</td><td style=\"text-align: right;\">0.63</td><td style=\"text-align: right;\">0</td><td style=\"text-align: right;\">0.00</td><td style=\"text-align: right;\">0</td><td style=\"text-align: right;\">0.00</td><td style=\"text-align: right;\">0</td><td style=\"text-align: right;\">0.00</td><td style=\"text-align: right;\">0</td><td style=\"text-align: right;\">0.00</td></tr>\n",
       "<tr class=\"even\"><td style=\"text-align: right;\">875739</td><td style=\"text-align: right;\">135,897,567</td><td>rs78443136</td><td>0</td><td style=\"text-align: right;\">56</td><td style=\"text-align: right;\">40</td><td style=\"text-align: right;\">3.55</td><td style=\"text-align: right;\">11</td><td style=\"text-align: right;\">3.13</td><td style=\"text-align: right;\">5</td><td style=\"text-align: right;\">0.64</td><td style=\"text-align: right;\">0</td><td style=\"text-align: right;\">0.00</td><td style=\"text-align: right;\">0</td><td style=\"text-align: right;\">0.00</td><td style=\"text-align: right;\">0</td><td style=\"text-align: right;\">0.00</td><td style=\"text-align: right;\">0</td><td style=\"text-align: right;\">0.00</td></tr>\n",
       "<tr><td style=\"text-align: right;\">875750</td><td style=\"text-align: right;\">135,900,218</td><td>rs6726200</td><td>0</td><td style=\"text-align: right;\">56</td><td style=\"text-align: right;\">40</td><td style=\"text-align: right;\">3.55</td><td style=\"text-align: right;\">11</td><td style=\"text-align: right;\">3.13</td><td style=\"text-align: right;\">5</td><td style=\"text-align: right;\">0.64</td><td style=\"text-align: right;\">0</td><td style=\"text-align: right;\">0.00</td><td style=\"text-align: right;\">0</td><td style=\"text-align: right;\">0.00</td><td style=\"text-align: right;\">0</td><td style=\"text-align: right;\">0.00</td><td style=\"text-align: right;\">0</td><td style=\"text-align: right;\">0.00</td></tr>\n",
       "<tr class=\"even\"><td style=\"text-align: right;\">875765</td><td style=\"text-align: right;\">135,905,949</td><td>rs77047758</td><td>0</td><td style=\"text-align: right;\">57</td><td style=\"text-align: right;\">41</td><td style=\"text-align: right;\">3.57</td><td style=\"text-align: right;\">11</td><td style=\"text-align: right;\">3.08</td><td style=\"text-align: right;\">5</td><td style=\"text-align: right;\">0.63</td><td style=\"text-align: right;\">0</td><td style=\"text-align: right;\">0.00</td><td style=\"text-align: right;\">0</td><td style=\"text-align: right;\">0.00</td><td style=\"text-align: right;\">0</td><td style=\"text-align: right;\">0.00</td><td style=\"text-align: right;\">0</td><td style=\"text-align: right;\">0.00</td></tr>\n",
       "<tr><td style=\"text-align: right;\">875778</td><td style=\"text-align: right;\">135,909,647</td><td>rs7593626</td><td>0</td><td style=\"text-align: right;\">57</td><td style=\"text-align: right;\">41</td><td style=\"text-align: right;\">3.57</td><td style=\"text-align: right;\">11</td><td style=\"text-align: right;\">3.08</td><td style=\"text-align: right;\">5</td><td style=\"text-align: right;\">0.63</td><td style=\"text-align: right;\">0</td><td style=\"text-align: right;\">0.00</td><td style=\"text-align: right;\">0</td><td style=\"text-align: right;\">0.00</td><td style=\"text-align: right;\">0</td><td style=\"text-align: right;\">0.00</td><td style=\"text-align: right;\">0</td><td style=\"text-align: right;\">0.00</td></tr>\n",
       "<tr class=\"even\"><td style=\"text-align: right;\">875779</td><td style=\"text-align: right;\">135,909,907</td><td>rs7577511</td><td>0</td><td style=\"text-align: right;\">55</td><td style=\"text-align: right;\">39</td><td style=\"text-align: right;\">3.52</td><td style=\"text-align: right;\">11</td><td style=\"text-align: right;\">3.19</td><td style=\"text-align: right;\">5</td><td style=\"text-align: right;\">0.66</td><td style=\"text-align: right;\">0</td><td style=\"text-align: right;\">0.00</td><td style=\"text-align: right;\">0</td><td style=\"text-align: right;\">0.00</td><td style=\"text-align: right;\">0</td><td style=\"text-align: right;\">0.00</td><td style=\"text-align: right;\">0</td><td style=\"text-align: right;\">0.00</td></tr>\n",
       "<tr><td style=\"text-align: right;\">875786</td><td style=\"text-align: right;\">135,912,277</td><td>rs116254496</td><td>0</td><td style=\"text-align: right;\">57</td><td style=\"text-align: right;\">41</td><td style=\"text-align: right;\">3.57</td><td style=\"text-align: right;\">11</td><td style=\"text-align: right;\">3.08</td><td style=\"text-align: right;\">5</td><td style=\"text-align: right;\">0.63</td><td style=\"text-align: right;\">0</td><td style=\"text-align: right;\">0.00</td><td style=\"text-align: right;\">0</td><td style=\"text-align: right;\">0.00</td><td style=\"text-align: right;\">0</td><td style=\"text-align: right;\">0.00</td><td style=\"text-align: right;\">0</td><td style=\"text-align: right;\">0.00</td></tr>\n",
       "<tr class=\"even\"><td style=\"text-align: right;\">875787</td><td style=\"text-align: right;\">135,912,645</td><td>rs115345228</td><td>0</td><td style=\"text-align: right;\">57</td><td style=\"text-align: right;\">41</td><td style=\"text-align: right;\">3.57</td><td style=\"text-align: right;\">11</td><td style=\"text-align: right;\">3.08</td><td style=\"text-align: right;\">5</td><td style=\"text-align: right;\">0.63</td><td style=\"text-align: right;\">0</td><td style=\"text-align: right;\">0.00</td><td style=\"text-align: right;\">0</td><td style=\"text-align: right;\">0.00</td><td style=\"text-align: right;\">0</td><td style=\"text-align: right;\">0.00</td><td style=\"text-align: right;\">0</td><td style=\"text-align: right;\">0.00</td></tr>\n",
       "<tr><td style=\"text-align: right;\">875795</td><td style=\"text-align: right;\">135,914,642</td><td>rs74701392</td><td>0</td><td style=\"text-align: right;\">57</td><td style=\"text-align: right;\">41</td><td style=\"text-align: right;\">3.57</td><td style=\"text-align: right;\">11</td><td style=\"text-align: right;\">3.08</td><td style=\"text-align: right;\">5</td><td style=\"text-align: right;\">0.63</td><td style=\"text-align: right;\">0</td><td style=\"text-align: right;\">0.00</td><td style=\"text-align: right;\">0</td><td style=\"text-align: right;\">0.00</td><td style=\"text-align: right;\">0</td><td style=\"text-align: right;\">0.00</td><td style=\"text-align: right;\">0</td><td style=\"text-align: right;\">0.00</td></tr>\n",
       "<tr class=\"even\"><td style=\"text-align: right;\">875800</td><td style=\"text-align: right;\">135,915,190</td><td>rs149621667</td><td>0</td><td style=\"text-align: right;\">57</td><td style=\"text-align: right;\">41</td><td style=\"text-align: right;\">3.57</td><td style=\"text-align: right;\">11</td><td style=\"text-align: right;\">3.08</td><td style=\"text-align: right;\">5</td><td style=\"text-align: right;\">0.63</td><td style=\"text-align: right;\">0</td><td style=\"text-align: right;\">0.00</td><td style=\"text-align: right;\">0</td><td style=\"text-align: right;\">0.00</td><td style=\"text-align: right;\">0</td><td style=\"text-align: right;\">0.00</td><td style=\"text-align: right;\">0</td><td style=\"text-align: right;\">0.00</td></tr>\n",
       "<tr><td style=\"text-align: right;\">875814</td><td style=\"text-align: right;\">135,917,969</td><td>rs114278317</td><td>0</td><td style=\"text-align: right;\">57</td><td style=\"text-align: right;\">41</td><td style=\"text-align: right;\">3.57</td><td style=\"text-align: right;\">11</td><td style=\"text-align: right;\">3.08</td><td style=\"text-align: right;\">5</td><td style=\"text-align: right;\">0.63</td><td style=\"text-align: right;\">0</td><td style=\"text-align: right;\">0.00</td><td style=\"text-align: right;\">0</td><td style=\"text-align: right;\">0.00</td><td style=\"text-align: right;\">0</td><td style=\"text-align: right;\">0.00</td><td style=\"text-align: right;\">0</td><td style=\"text-align: right;\">0.00</td></tr>\n",
       "<tr class=\"even\"><td style=\"text-align: right;\">875848</td><td style=\"text-align: right;\">135,927,346</td><td>rs116237324</td><td>0</td><td style=\"text-align: right;\">59</td><td style=\"text-align: right;\">41</td><td style=\"text-align: right;\">3.45</td><td style=\"text-align: right;\">11</td><td style=\"text-align: right;\">2.97</td><td style=\"text-align: right;\">5</td><td style=\"text-align: right;\">0.61</td><td style=\"text-align: right;\">1</td><td style=\"text-align: right;\">0.08</td><td style=\"text-align: right;\">1</td><td style=\"text-align: right;\">0.08</td><td style=\"text-align: right;\">0</td><td style=\"text-align: right;\">0.00</td><td style=\"text-align: right;\">0</td><td style=\"text-align: right;\">0.00</td></tr>\n",
       "<tr><td style=\"text-align: right;\">875864</td><td style=\"text-align: right;\">135,930,832</td><td>rs115113008</td><td>0</td><td style=\"text-align: right;\">57</td><td style=\"text-align: right;\">41</td><td style=\"text-align: right;\">3.57</td><td style=\"text-align: right;\">11</td><td style=\"text-align: right;\">3.08</td><td style=\"text-align: right;\">5</td><td style=\"text-align: right;\">0.63</td><td style=\"text-align: right;\">0</td><td style=\"text-align: right;\">0.00</td><td style=\"text-align: right;\">0</td><td style=\"text-align: right;\">0.00</td><td style=\"text-align: right;\">0</td><td style=\"text-align: right;\">0.00</td><td style=\"text-align: right;\">0</td><td style=\"text-align: right;\">0.00</td></tr>\n",
       "<tr class=\"even\"><td style=\"text-align: right;\">875871</td><td style=\"text-align: right;\">135,932,468</td><td>rs74588351</td><td>0</td><td style=\"text-align: right;\">58</td><td style=\"text-align: right;\">41</td><td style=\"text-align: right;\">3.51</td><td style=\"text-align: right;\">11</td><td style=\"text-align: right;\">3.02</td><td style=\"text-align: right;\">5</td><td style=\"text-align: right;\">0.62</td><td style=\"text-align: right;\">1</td><td style=\"text-align: right;\">0.09</td><td style=\"text-align: right;\">0</td><td style=\"text-align: right;\">0.00</td><td style=\"text-align: right;\">0</td><td style=\"text-align: right;\">0.00</td><td style=\"text-align: right;\">0</td><td style=\"text-align: right;\">0.00</td></tr>\n",
       "<tr><td style=\"text-align: right;\">875878</td><td style=\"text-align: right;\">135,933,695</td><td>rs114720180</td><td>0</td><td style=\"text-align: right;\">57</td><td style=\"text-align: right;\">41</td><td style=\"text-align: right;\">3.57</td><td style=\"text-align: right;\">11</td><td style=\"text-align: right;\">3.08</td><td style=\"text-align: right;\">5</td><td style=\"text-align: right;\">0.63</td><td style=\"text-align: right;\">0</td><td style=\"text-align: right;\">0.00</td><td style=\"text-align: right;\">0</td><td style=\"text-align: right;\">0.00</td><td style=\"text-align: right;\">0</td><td style=\"text-align: right;\">0.00</td><td style=\"text-align: right;\">0</td><td style=\"text-align: right;\">0.00</td></tr>\n",
       "<tr class=\"even\"><td style=\"text-align: right;\">875883</td><td style=\"text-align: right;\">135,934,807</td><td>rs151089071</td><td>0</td><td style=\"text-align: right;\">57</td><td style=\"text-align: right;\">41</td><td style=\"text-align: right;\">3.57</td><td style=\"text-align: right;\">11</td><td style=\"text-align: right;\">3.08</td><td style=\"text-align: right;\">5</td><td style=\"text-align: right;\">0.63</td><td style=\"text-align: right;\">0</td><td style=\"text-align: right;\">0.00</td><td style=\"text-align: right;\">0</td><td style=\"text-align: right;\">0.00</td><td style=\"text-align: right;\">0</td><td style=\"text-align: right;\">0.00</td><td style=\"text-align: right;\">0</td><td style=\"text-align: right;\">0.00</td></tr>\n",
       "<tr><td style=\"text-align: right;\">875885</td><td style=\"text-align: right;\">135,934,852</td><td>rs114170060</td><td>0</td><td style=\"text-align: right;\">62</td><td style=\"text-align: right;\">45</td><td style=\"text-align: right;\">3.61</td><td style=\"text-align: right;\">11</td><td style=\"text-align: right;\">2.83</td><td style=\"text-align: right;\">6</td><td style=\"text-align: right;\">0.70</td><td style=\"text-align: right;\">0</td><td style=\"text-align: right;\">0.00</td><td style=\"text-align: right;\">0</td><td style=\"text-align: right;\">0.00</td><td style=\"text-align: right;\">0</td><td style=\"text-align: right;\">0.00</td><td style=\"text-align: right;\">0</td><td style=\"text-align: right;\">0.00</td></tr>\n",
       "<tr class=\"even\"><td style=\"text-align: right;\">875892</td><td style=\"text-align: right;\">135,938,287</td><td>rs191589598</td><td>0</td><td style=\"text-align: right;\">62</td><td style=\"text-align: right;\">45</td><td style=\"text-align: right;\">3.61</td><td style=\"text-align: right;\">11</td><td style=\"text-align: right;\">2.83</td><td style=\"text-align: right;\">6</td><td style=\"text-align: right;\">0.70</td><td style=\"text-align: right;\">0</td><td style=\"text-align: right;\">0.00</td><td style=\"text-align: right;\">0</td><td style=\"text-align: right;\">0.00</td><td style=\"text-align: right;\">0</td><td style=\"text-align: right;\">0.00</td><td style=\"text-align: right;\">0</td><td style=\"text-align: right;\">0.00</td></tr>\n",
       "<tr><td style=\"text-align: right;\">875933</td><td style=\"text-align: right;\">135,945,971</td><td>rs115930491</td><td>0</td><td style=\"text-align: right;\">62</td><td style=\"text-align: right;\">45</td><td style=\"text-align: right;\">3.61</td><td style=\"text-align: right;\">11</td><td style=\"text-align: right;\">2.83</td><td style=\"text-align: right;\">6</td><td style=\"text-align: right;\">0.70</td><td style=\"text-align: right;\">0</td><td style=\"text-align: right;\">0.00</td><td style=\"text-align: right;\">0</td><td style=\"text-align: right;\">0.00</td><td style=\"text-align: right;\">0</td><td style=\"text-align: right;\">0.00</td><td style=\"text-align: right;\">0</td><td style=\"text-align: right;\">0.00</td></tr>\n",
       "<tr class=\"even\"><td style=\"text-align: right;\">875945</td><td style=\"text-align: right;\">135,948,340</td><td>rs6741378</td><td>0</td><td style=\"text-align: right;\">58</td><td style=\"text-align: right;\">41</td><td style=\"text-align: right;\">3.51</td><td style=\"text-align: right;\">11</td><td style=\"text-align: right;\">3.02</td><td style=\"text-align: right;\">5</td><td style=\"text-align: right;\">0.62</td><td style=\"text-align: right;\">1</td><td style=\"text-align: right;\">0.09</td><td style=\"text-align: right;\">0</td><td style=\"text-align: right;\">0.00</td><td style=\"text-align: right;\">0</td><td style=\"text-align: right;\">0.00</td><td style=\"text-align: right;\">0</td><td style=\"text-align: right;\">0.00</td></tr>\n",
       "<tr><td style=\"text-align: right;\">875951</td><td style=\"text-align: right;\">135,949,143</td><td>rs191501567</td><td>0</td><td style=\"text-align: right;\">57</td><td style=\"text-align: right;\">41</td><td style=\"text-align: right;\">3.57</td><td style=\"text-align: right;\">11</td><td style=\"text-align: right;\">3.08</td><td style=\"text-align: right;\">5</td><td style=\"text-align: right;\">0.63</td><td style=\"text-align: right;\">0</td><td style=\"text-align: right;\">0.00</td><td style=\"text-align: right;\">0</td><td style=\"text-align: right;\">0.00</td><td style=\"text-align: right;\">0</td><td style=\"text-align: right;\">0.00</td><td style=\"text-align: right;\">0</td><td style=\"text-align: right;\">0.00</td></tr>\n",
       "<tr class=\"even\"><td style=\"text-align: right;\">875964</td><td style=\"text-align: right;\">135,951,639</td><td>rs6732643</td><td>0</td><td style=\"text-align: right;\">56</td><td style=\"text-align: right;\">41</td><td style=\"text-align: right;\">3.64</td><td style=\"text-align: right;\">11</td><td style=\"text-align: right;\">3.13</td><td style=\"text-align: right;\">4</td><td style=\"text-align: right;\">0.52</td><td style=\"text-align: right;\">0</td><td style=\"text-align: right;\">0.00</td><td style=\"text-align: right;\">0</td><td style=\"text-align: right;\">0.00</td><td style=\"text-align: right;\">0</td><td style=\"text-align: right;\">0.00</td><td style=\"text-align: right;\">0</td><td style=\"text-align: right;\">0.00</td></tr>\n",
       "<tr><td style=\"text-align: right;\">875989</td><td style=\"text-align: right;\">135,957,087</td><td>rs115424595</td><td>0</td><td style=\"text-align: right;\">58</td><td style=\"text-align: right;\">42</td><td style=\"text-align: right;\">3.60</td><td style=\"text-align: right;\">11</td><td style=\"text-align: right;\">3.02</td><td style=\"text-align: right;\">5</td><td style=\"text-align: right;\">0.62</td><td style=\"text-align: right;\">0</td><td style=\"text-align: right;\">0.00</td><td style=\"text-align: right;\">0</td><td style=\"text-align: right;\">0.00</td><td style=\"text-align: right;\">0</td><td style=\"text-align: right;\">0.00</td><td style=\"text-align: right;\">0</td><td style=\"text-align: right;\">0.00</td></tr>\n",
       "<tr class=\"even\"><td style=\"text-align: right;\">875994</td><td style=\"text-align: right;\">135,958,451</td><td>rs148783789</td><td>0</td><td style=\"text-align: right;\">58</td><td style=\"text-align: right;\">42</td><td style=\"text-align: right;\">3.60</td><td style=\"text-align: right;\">11</td><td style=\"text-align: right;\">3.02</td><td style=\"text-align: right;\">5</td><td style=\"text-align: right;\">0.62</td><td style=\"text-align: right;\">0</td><td style=\"text-align: right;\">0.00</td><td style=\"text-align: right;\">0</td><td style=\"text-align: right;\">0.00</td><td style=\"text-align: right;\">0</td><td style=\"text-align: right;\">0.00</td><td style=\"text-align: right;\">0</td><td style=\"text-align: right;\">0.00</td></tr>\n",
       "<tr><td style=\"text-align: right;\">876010</td><td style=\"text-align: right;\">135,962,106</td><td>rs7566572</td><td>0</td><td style=\"text-align: right;\">62</td><td style=\"text-align: right;\">45</td><td style=\"text-align: right;\">3.61</td><td style=\"text-align: right;\">11</td><td style=\"text-align: right;\">2.83</td><td style=\"text-align: right;\">6</td><td style=\"text-align: right;\">0.70</td><td style=\"text-align: right;\">0</td><td style=\"text-align: right;\">0.00</td><td style=\"text-align: right;\">0</td><td style=\"text-align: right;\">0.00</td><td style=\"text-align: right;\">0</td><td style=\"text-align: right;\">0.00</td><td style=\"text-align: right;\">0</td><td style=\"text-align: right;\">0.00</td></tr>\n",
       "<tr class=\"even\"><td style=\"text-align: right;\">876049</td><td style=\"text-align: right;\">135,969,510</td><td>rs74370034</td><td>0</td><td style=\"text-align: right;\">58</td><td style=\"text-align: right;\">42</td><td style=\"text-align: right;\">3.60</td><td style=\"text-align: right;\">11</td><td style=\"text-align: right;\">3.02</td><td style=\"text-align: right;\">5</td><td style=\"text-align: right;\">0.62</td><td style=\"text-align: right;\">0</td><td style=\"text-align: right;\">0.00</td><td style=\"text-align: right;\">0</td><td style=\"text-align: right;\">0.00</td><td style=\"text-align: right;\">0</td><td style=\"text-align: right;\">0.00</td><td style=\"text-align: right;\">0</td><td style=\"text-align: right;\">0.00</td></tr>\n",
       "<tr><td style=\"text-align: right;\">876060</td><td style=\"text-align: right;\">135,972,041</td><td>rs77797846</td><td>0</td><td style=\"text-align: right;\">62</td><td style=\"text-align: right;\">45</td><td style=\"text-align: right;\">3.61</td><td style=\"text-align: right;\">11</td><td style=\"text-align: right;\">2.83</td><td style=\"text-align: right;\">6</td><td style=\"text-align: right;\">0.70</td><td style=\"text-align: right;\">0</td><td style=\"text-align: right;\">0.00</td><td style=\"text-align: right;\">0</td><td style=\"text-align: right;\">0.00</td><td style=\"text-align: right;\">0</td><td style=\"text-align: right;\">0.00</td><td style=\"text-align: right;\">0</td><td style=\"text-align: right;\">0.00</td></tr>\n",
       "<tr class=\"even\"><td style=\"text-align: right;\">876088</td><td style=\"text-align: right;\">135,978,043</td><td>rs142244122</td><td>0</td><td style=\"text-align: right;\">62</td><td style=\"text-align: right;\">45</td><td style=\"text-align: right;\">3.61</td><td style=\"text-align: right;\">11</td><td style=\"text-align: right;\">2.83</td><td style=\"text-align: right;\">6</td><td style=\"text-align: right;\">0.70</td><td style=\"text-align: right;\">0</td><td style=\"text-align: right;\">0.00</td><td style=\"text-align: right;\">0</td><td style=\"text-align: right;\">0.00</td><td style=\"text-align: right;\">0</td><td style=\"text-align: right;\">0.00</td><td style=\"text-align: right;\">0</td><td style=\"text-align: right;\">0.00</td></tr>\n",
       "<tr><td style=\"text-align: right;\">876127</td><td style=\"text-align: right;\">135,985,885</td><td>rs185680308</td><td>0</td><td style=\"text-align: right;\">59</td><td style=\"text-align: right;\">43</td><td style=\"text-align: right;\">3.62</td><td style=\"text-align: right;\">11</td><td style=\"text-align: right;\">2.97</td><td style=\"text-align: right;\">5</td><td style=\"text-align: right;\">0.61</td><td style=\"text-align: right;\">0</td><td style=\"text-align: right;\">0.00</td><td style=\"text-align: right;\">0</td><td style=\"text-align: right;\">0.00</td><td style=\"text-align: right;\">0</td><td style=\"text-align: right;\">0.00</td><td style=\"text-align: right;\">0</td><td style=\"text-align: right;\">0.00</td></tr>\n",
       "<tr class=\"even\"><td style=\"text-align: right;\">876165</td><td style=\"text-align: right;\">135,990,912</td><td>rs147557859</td><td>0</td><td style=\"text-align: right;\">58</td><td style=\"text-align: right;\">41</td><td style=\"text-align: right;\">3.51</td><td style=\"text-align: right;\">12</td><td style=\"text-align: right;\">3.30</td><td style=\"text-align: right;\">5</td><td style=\"text-align: right;\">0.62</td><td style=\"text-align: right;\">0</td><td style=\"text-align: right;\">0.00</td><td style=\"text-align: right;\">0</td><td style=\"text-align: right;\">0.00</td><td style=\"text-align: right;\">0</td><td style=\"text-align: right;\">0.00</td><td style=\"text-align: right;\">0</td><td style=\"text-align: right;\">0.00</td></tr>\n",
       "<tr><td style=\"text-align: right;\">876185</td><td style=\"text-align: right;\">135,992,317</td><td>rs148779238</td><td>0</td><td style=\"text-align: right;\">58</td><td style=\"text-align: right;\">40</td><td style=\"text-align: right;\">3.43</td><td style=\"text-align: right;\">11</td><td style=\"text-align: right;\">3.02</td><td style=\"text-align: right;\">6</td><td style=\"text-align: right;\">0.75</td><td style=\"text-align: right;\">1</td><td style=\"text-align: right;\">0.09</td><td style=\"text-align: right;\">0</td><td style=\"text-align: right;\">0.00</td><td style=\"text-align: right;\">0</td><td style=\"text-align: right;\">0.00</td><td style=\"text-align: right;\">0</td><td style=\"text-align: right;\">0.00</td></tr>\n",
       "<tr class=\"even\"><td style=\"text-align: right;\">876259</td><td style=\"text-align: right;\">136,003,581</td><td>rs149869246</td><td>0</td><td style=\"text-align: right;\">62</td><td style=\"text-align: right;\">45</td><td style=\"text-align: right;\">3.61</td><td style=\"text-align: right;\">11</td><td style=\"text-align: right;\">2.83</td><td style=\"text-align: right;\">6</td><td style=\"text-align: right;\">0.70</td><td style=\"text-align: right;\">0</td><td style=\"text-align: right;\">0.00</td><td style=\"text-align: right;\">0</td><td style=\"text-align: right;\">0.00</td><td style=\"text-align: right;\">0</td><td style=\"text-align: right;\">0.00</td><td style=\"text-align: right;\">0</td><td style=\"text-align: right;\">0.00</td></tr>\n",
       "<tr><td style=\"text-align: right;\">876284</td><td style=\"text-align: right;\">136,008,550</td><td>rs149110935</td><td>0</td><td style=\"text-align: right;\">61</td><td style=\"text-align: right;\">44</td><td style=\"text-align: right;\">3.58</td><td style=\"text-align: right;\">11</td><td style=\"text-align: right;\">2.88</td><td style=\"text-align: right;\">6</td><td style=\"text-align: right;\">0.71</td><td style=\"text-align: right;\">0</td><td style=\"text-align: right;\">0.00</td><td style=\"text-align: right;\">0</td><td style=\"text-align: right;\">0.00</td><td style=\"text-align: right;\">0</td><td style=\"text-align: right;\">0.00</td><td style=\"text-align: right;\">0</td><td style=\"text-align: right;\">0.00</td></tr>\n",
       "<tr class=\"even\"><td style=\"text-align: right;\">876291</td><td style=\"text-align: right;\">136,009,382</td><td>rs147042261</td><td>0</td><td style=\"text-align: right;\">57</td><td style=\"text-align: right;\">41</td><td style=\"text-align: right;\">3.57</td><td style=\"text-align: right;\">11</td><td style=\"text-align: right;\">3.08</td><td style=\"text-align: right;\">5</td><td style=\"text-align: right;\">0.63</td><td style=\"text-align: right;\">0</td><td style=\"text-align: right;\">0.00</td><td style=\"text-align: right;\">0</td><td style=\"text-align: right;\">0.00</td><td style=\"text-align: right;\">0</td><td style=\"text-align: right;\">0.00</td><td style=\"text-align: right;\">0</td><td style=\"text-align: right;\">0.00</td></tr>\n",
       "<tr><td style=\"text-align: right;\">876371</td><td style=\"text-align: right;\">136,028,894</td><td>rs114746085</td><td>0</td><td style=\"text-align: right;\">62</td><td style=\"text-align: right;\">45</td><td style=\"text-align: right;\">3.61</td><td style=\"text-align: right;\">11</td><td style=\"text-align: right;\">2.83</td><td style=\"text-align: right;\">6</td><td style=\"text-align: right;\">0.70</td><td style=\"text-align: right;\">0</td><td style=\"text-align: right;\">0.00</td><td style=\"text-align: right;\">0</td><td style=\"text-align: right;\">0.00</td><td style=\"text-align: right;\">0</td><td style=\"text-align: right;\">0.00</td><td style=\"text-align: right;\">0</td><td style=\"text-align: right;\">0.00</td></tr>\n",
       "<tr class=\"even\"><td style=\"text-align: right;\">876389</td><td style=\"text-align: right;\">136,032,873</td><td>rs182820244</td><td>0</td><td style=\"text-align: right;\">57</td><td style=\"text-align: right;\">41</td><td style=\"text-align: right;\">3.57</td><td style=\"text-align: right;\">11</td><td style=\"text-align: right;\">3.08</td><td style=\"text-align: right;\">5</td><td style=\"text-align: right;\">0.63</td><td style=\"text-align: right;\">0</td><td style=\"text-align: right;\">0.00</td><td style=\"text-align: right;\">0</td><td style=\"text-align: right;\">0.00</td><td style=\"text-align: right;\">0</td><td style=\"text-align: right;\">0.00</td><td style=\"text-align: right;\">0</td><td style=\"text-align: right;\">0.00</td></tr>\n",
       "<tr><td style=\"text-align: right;\">876420</td><td style=\"text-align: right;\">136,038,061</td><td>rs181548778</td><td>0</td><td style=\"text-align: right;\">64</td><td style=\"text-align: right;\">46</td><td style=\"text-align: right;\">3.57</td><td style=\"text-align: right;\">12</td><td style=\"text-align: right;\">2.99</td><td style=\"text-align: right;\">6</td><td style=\"text-align: right;\">0.68</td><td style=\"text-align: right;\">0</td><td style=\"text-align: right;\">0.00</td><td style=\"text-align: right;\">0</td><td style=\"text-align: right;\">0.00</td><td style=\"text-align: right;\">0</td><td style=\"text-align: right;\">0.00</td><td style=\"text-align: right;\">0</td><td style=\"text-align: right;\">0.00</td></tr>\n",
       "<tr class=\"even\"><td style=\"text-align: right;\">876425</td><td style=\"text-align: right;\">136,039,638</td><td>rs149039836</td><td>0</td><td style=\"text-align: right;\">58</td><td style=\"text-align: right;\">42</td><td style=\"text-align: right;\">3.60</td><td style=\"text-align: right;\">11</td><td style=\"text-align: right;\">3.02</td><td style=\"text-align: right;\">5</td><td style=\"text-align: right;\">0.62</td><td style=\"text-align: right;\">0</td><td style=\"text-align: right;\">0.00</td><td style=\"text-align: right;\">0</td><td style=\"text-align: right;\">0.00</td><td style=\"text-align: right;\">0</td><td style=\"text-align: right;\">0.00</td><td style=\"text-align: right;\">0</td><td style=\"text-align: right;\">0.00</td></tr>\n",
       "<tr><td style=\"text-align: right;\">876434</td><td style=\"text-align: right;\">136,040,972</td><td>rs184602963</td><td>0</td><td style=\"text-align: right;\">64</td><td style=\"text-align: right;\">46</td><td style=\"text-align: right;\">3.57</td><td style=\"text-align: right;\">12</td><td style=\"text-align: right;\">2.99</td><td style=\"text-align: right;\">6</td><td style=\"text-align: right;\">0.68</td><td style=\"text-align: right;\">0</td><td style=\"text-align: right;\">0.00</td><td style=\"text-align: right;\">0</td><td style=\"text-align: right;\">0.00</td><td style=\"text-align: right;\">0</td><td style=\"text-align: right;\">0.00</td><td style=\"text-align: right;\">0</td><td style=\"text-align: right;\">0.00</td></tr>\n",
       "<tr class=\"even\"><td style=\"text-align: right;\">876486</td><td style=\"text-align: right;\">136,049,936</td><td>.</td><td>0</td><td style=\"text-align: right;\">55</td><td style=\"text-align: right;\">39</td><td style=\"text-align: right;\">3.52</td><td style=\"text-align: right;\">11</td><td style=\"text-align: right;\">3.19</td><td style=\"text-align: right;\">5</td><td style=\"text-align: right;\">0.66</td><td style=\"text-align: right;\">0</td><td style=\"text-align: right;\">0.00</td><td style=\"text-align: right;\">0</td><td style=\"text-align: right;\">0.00</td><td style=\"text-align: right;\">0</td><td style=\"text-align: right;\">0.00</td><td style=\"text-align: right;\">0</td><td style=\"text-align: right;\">0.00</td></tr>\n",
       "<tr><td style=\"text-align: right;\">876524</td><td style=\"text-align: right;\">136,054,795</td><td>rs190996686</td><td>0</td><td style=\"text-align: right;\">58</td><td style=\"text-align: right;\">41</td><td style=\"text-align: right;\">3.51</td><td style=\"text-align: right;\">11</td><td style=\"text-align: right;\">3.02</td><td style=\"text-align: right;\">5</td><td style=\"text-align: right;\">0.62</td><td style=\"text-align: right;\">1</td><td style=\"text-align: right;\">0.09</td><td style=\"text-align: right;\">0</td><td style=\"text-align: right;\">0.00</td><td style=\"text-align: right;\">0</td><td style=\"text-align: right;\">0.00</td><td style=\"text-align: right;\">0</td><td style=\"text-align: right;\">0.00</td></tr>\n",
       "<tr class=\"even\"><td style=\"text-align: right;\">876547</td><td style=\"text-align: right;\">136,057,955</td><td>rs114454588</td><td>0</td><td style=\"text-align: right;\">57</td><td style=\"text-align: right;\">41</td><td style=\"text-align: right;\">3.57</td><td style=\"text-align: right;\">11</td><td style=\"text-align: right;\">3.08</td><td style=\"text-align: right;\">5</td><td style=\"text-align: right;\">0.63</td><td style=\"text-align: right;\">0</td><td style=\"text-align: right;\">0.00</td><td style=\"text-align: right;\">0</td><td style=\"text-align: right;\">0.00</td><td style=\"text-align: right;\">0</td><td style=\"text-align: right;\">0.00</td><td style=\"text-align: right;\">0</td><td style=\"text-align: right;\">0.00</td></tr>\n",
       "<tr><td style=\"text-align: right;\">876576</td><td style=\"text-align: right;\">136,064,335</td><td>rs146843433</td><td>0</td><td style=\"text-align: right;\">59</td><td style=\"text-align: right;\">42</td><td style=\"text-align: right;\">3.54</td><td style=\"text-align: right;\">12</td><td style=\"text-align: right;\">3.24</td><td style=\"text-align: right;\">5</td><td style=\"text-align: right;\">0.61</td><td style=\"text-align: right;\">0</td><td style=\"text-align: right;\">0.00</td><td style=\"text-align: right;\">0</td><td style=\"text-align: right;\">0.00</td><td style=\"text-align: right;\">0</td><td style=\"text-align: right;\">0.00</td><td style=\"text-align: right;\">0</td><td style=\"text-align: right;\">0.00</td></tr>\n",
       "<tr class=\"even\"><td style=\"text-align: right;\">876579</td><td style=\"text-align: right;\">136,064,741</td><td>rs115791861</td><td>0</td><td style=\"text-align: right;\">59</td><td style=\"text-align: right;\">42</td><td style=\"text-align: right;\">3.54</td><td style=\"text-align: right;\">12</td><td style=\"text-align: right;\">3.24</td><td style=\"text-align: right;\">5</td><td style=\"text-align: right;\">0.61</td><td style=\"text-align: right;\">0</td><td style=\"text-align: right;\">0.00</td><td style=\"text-align: right;\">0</td><td style=\"text-align: right;\">0.00</td><td style=\"text-align: right;\">0</td><td style=\"text-align: right;\">0.00</td><td style=\"text-align: right;\">0</td><td style=\"text-align: right;\">0.00</td></tr>\n",
       "<tr><td style=\"text-align: right;\">876592</td><td style=\"text-align: right;\">136,066,863</td><td>rs115855940</td><td>0</td><td style=\"text-align: right;\">58</td><td style=\"text-align: right;\">41</td><td style=\"text-align: right;\">3.51</td><td style=\"text-align: right;\">12</td><td style=\"text-align: right;\">3.30</td><td style=\"text-align: right;\">5</td><td style=\"text-align: right;\">0.62</td><td style=\"text-align: right;\">0</td><td style=\"text-align: right;\">0.00</td><td style=\"text-align: right;\">0</td><td style=\"text-align: right;\">0.00</td><td style=\"text-align: right;\">0</td><td style=\"text-align: right;\">0.00</td><td style=\"text-align: right;\">0</td><td style=\"text-align: right;\">0.00</td></tr>\n",
       "<tr class=\"even\"><td style=\"text-align: right;\">876638</td><td style=\"text-align: right;\">136,077,256</td><td>rs115963791</td><td>0</td><td style=\"text-align: right;\">57</td><td style=\"text-align: right;\">41</td><td style=\"text-align: right;\">3.57</td><td style=\"text-align: right;\">11</td><td style=\"text-align: right;\">3.08</td><td style=\"text-align: right;\">5</td><td style=\"text-align: right;\">0.63</td><td style=\"text-align: right;\">0</td><td style=\"text-align: right;\">0.00</td><td style=\"text-align: right;\">0</td><td style=\"text-align: right;\">0.00</td><td style=\"text-align: right;\">0</td><td style=\"text-align: right;\">0.00</td><td style=\"text-align: right;\">0</td><td style=\"text-align: right;\">0.00</td></tr>\n",
       "<tr><td style=\"text-align: right;\">876661</td><td style=\"text-align: right;\">136,082,398</td><td>.</td><td>0</td><td style=\"text-align: right;\">59</td><td style=\"text-align: right;\">42</td><td style=\"text-align: right;\">3.54</td><td style=\"text-align: right;\">12</td><td style=\"text-align: right;\">3.24</td><td style=\"text-align: right;\">5</td><td style=\"text-align: right;\">0.61</td><td style=\"text-align: right;\">0</td><td style=\"text-align: right;\">0.00</td><td style=\"text-align: right;\">0</td><td style=\"text-align: right;\">0.00</td><td style=\"text-align: right;\">0</td><td style=\"text-align: right;\">0.00</td><td style=\"text-align: right;\">0</td><td style=\"text-align: right;\">0.00</td></tr>\n",
       "<tr class=\"even\"><td style=\"text-align: right;\">876662</td><td style=\"text-align: right;\">136,082,399</td><td>.</td><td>0</td><td style=\"text-align: right;\">59</td><td style=\"text-align: right;\">42</td><td style=\"text-align: right;\">3.54</td><td style=\"text-align: right;\">12</td><td style=\"text-align: right;\">3.24</td><td style=\"text-align: right;\">5</td><td style=\"text-align: right;\">0.61</td><td style=\"text-align: right;\">0</td><td style=\"text-align: right;\">0.00</td><td style=\"text-align: right;\">0</td><td style=\"text-align: right;\">0.00</td><td style=\"text-align: right;\">0</td><td style=\"text-align: right;\">0.00</td><td style=\"text-align: right;\">0</td><td style=\"text-align: right;\">0.00</td></tr>\n",
       "<tr><td style=\"text-align: right;\">876663</td><td style=\"text-align: right;\">136,082,428</td><td>.</td><td>0</td><td style=\"text-align: right;\">59</td><td style=\"text-align: right;\">42</td><td style=\"text-align: right;\">3.54</td><td style=\"text-align: right;\">12</td><td style=\"text-align: right;\">3.24</td><td style=\"text-align: right;\">5</td><td style=\"text-align: right;\">0.61</td><td style=\"text-align: right;\">0</td><td style=\"text-align: right;\">0.00</td><td style=\"text-align: right;\">0</td><td style=\"text-align: right;\">0.00</td><td style=\"text-align: right;\">0</td><td style=\"text-align: right;\">0.00</td><td style=\"text-align: right;\">0</td><td style=\"text-align: right;\">0.00</td></tr>\n",
       "<tr class=\"even\"><td style=\"text-align: right;\">876664</td><td style=\"text-align: right;\">136,082,464</td><td>rs186114795</td><td>0</td><td style=\"text-align: right;\">59</td><td style=\"text-align: right;\">42</td><td style=\"text-align: right;\">3.54</td><td style=\"text-align: right;\">12</td><td style=\"text-align: right;\">3.24</td><td style=\"text-align: right;\">5</td><td style=\"text-align: right;\">0.61</td><td style=\"text-align: right;\">0</td><td style=\"text-align: right;\">0.00</td><td style=\"text-align: right;\">0</td><td style=\"text-align: right;\">0.00</td><td style=\"text-align: right;\">0</td><td style=\"text-align: right;\">0.00</td><td style=\"text-align: right;\">0</td><td style=\"text-align: right;\">0.00</td></tr>\n",
       "<tr><td style=\"text-align: right;\">876681</td><td style=\"text-align: right;\">136,086,800</td><td>rs184047578</td><td>0</td><td style=\"text-align: right;\">59</td><td style=\"text-align: right;\">42</td><td style=\"text-align: right;\">3.54</td><td style=\"text-align: right;\">12</td><td style=\"text-align: right;\">3.24</td><td style=\"text-align: right;\">5</td><td style=\"text-align: right;\">0.61</td><td style=\"text-align: right;\">0</td><td style=\"text-align: right;\">0.00</td><td style=\"text-align: right;\">0</td><td style=\"text-align: right;\">0.00</td><td style=\"text-align: right;\">0</td><td style=\"text-align: right;\">0.00</td><td style=\"text-align: right;\">0</td><td style=\"text-align: right;\">0.00</td></tr>\n",
       "<tr class=\"even\"><td style=\"text-align: right;\">876719</td><td style=\"text-align: right;\">136,096,932</td><td>rs7599174</td><td>0</td><td style=\"text-align: right;\">59</td><td style=\"text-align: right;\">42</td><td style=\"text-align: right;\">3.54</td><td style=\"text-align: right;\">12</td><td style=\"text-align: right;\">3.24</td><td style=\"text-align: right;\">5</td><td style=\"text-align: right;\">0.61</td><td style=\"text-align: right;\">0</td><td style=\"text-align: right;\">0.00</td><td style=\"text-align: right;\">0</td><td style=\"text-align: right;\">0.00</td><td style=\"text-align: right;\">0</td><td style=\"text-align: right;\">0.00</td><td style=\"text-align: right;\">0</td><td style=\"text-align: right;\">0.00</td></tr>\n",
       "<tr><td style=\"text-align: right;\">876731</td><td style=\"text-align: right;\">136,097,877</td><td>rs138305205</td><td>0</td><td style=\"text-align: right;\">59</td><td style=\"text-align: right;\">42</td><td style=\"text-align: right;\">3.54</td><td style=\"text-align: right;\">12</td><td style=\"text-align: right;\">3.24</td><td style=\"text-align: right;\">5</td><td style=\"text-align: right;\">0.61</td><td style=\"text-align: right;\">0</td><td style=\"text-align: right;\">0.00</td><td style=\"text-align: right;\">0</td><td style=\"text-align: right;\">0.00</td><td style=\"text-align: right;\">0</td><td style=\"text-align: right;\">0.00</td><td style=\"text-align: right;\">0</td><td style=\"text-align: right;\">0.00</td></tr>\n",
       "<tr class=\"even\"><td style=\"text-align: right;\">876733</td><td style=\"text-align: right;\">136,097,960</td><td>rs115016703</td><td>0</td><td style=\"text-align: right;\">59</td><td style=\"text-align: right;\">42</td><td style=\"text-align: right;\">3.54</td><td style=\"text-align: right;\">12</td><td style=\"text-align: right;\">3.24</td><td style=\"text-align: right;\">5</td><td style=\"text-align: right;\">0.61</td><td style=\"text-align: right;\">0</td><td style=\"text-align: right;\">0.00</td><td style=\"text-align: right;\">0</td><td style=\"text-align: right;\">0.00</td><td style=\"text-align: right;\">0</td><td style=\"text-align: right;\">0.00</td><td style=\"text-align: right;\">0</td><td style=\"text-align: right;\">0.00</td></tr>\n",
       "<tr><td style=\"text-align: right;\">876817</td><td style=\"text-align: right;\">136,112,643</td><td>rs114940556</td><td>0</td><td style=\"text-align: right;\">59</td><td style=\"text-align: right;\">42</td><td style=\"text-align: right;\">3.54</td><td style=\"text-align: right;\">12</td><td style=\"text-align: right;\">3.24</td><td style=\"text-align: right;\">5</td><td style=\"text-align: right;\">0.61</td><td style=\"text-align: right;\">0</td><td style=\"text-align: right;\">0.00</td><td style=\"text-align: right;\">0</td><td style=\"text-align: right;\">0.00</td><td style=\"text-align: right;\">0</td><td style=\"text-align: right;\">0.00</td><td style=\"text-align: right;\">0</td><td style=\"text-align: right;\">0.00</td></tr>\n",
       "<tr class=\"even\"><td style=\"text-align: right;\">876822</td><td style=\"text-align: right;\">136,113,845</td><td>rs114217668</td><td>0</td><td style=\"text-align: right;\">55</td><td style=\"text-align: right;\">39</td><td style=\"text-align: right;\">3.52</td><td style=\"text-align: right;\">11</td><td style=\"text-align: right;\">3.19</td><td style=\"text-align: right;\">5</td><td style=\"text-align: right;\">0.66</td><td style=\"text-align: right;\">0</td><td style=\"text-align: right;\">0.00</td><td style=\"text-align: right;\">0</td><td style=\"text-align: right;\">0.00</td><td style=\"text-align: right;\">0</td><td style=\"text-align: right;\">0.00</td><td style=\"text-align: right;\">0</td><td style=\"text-align: right;\">0.00</td></tr>\n",
       "<tr><td style=\"text-align: right;\">876831</td><td style=\"text-align: right;\">136,115,806</td><td>rs75935540</td><td>0</td><td style=\"text-align: right;\">59</td><td style=\"text-align: right;\">42</td><td style=\"text-align: right;\">3.54</td><td style=\"text-align: right;\">12</td><td style=\"text-align: right;\">3.24</td><td style=\"text-align: right;\">5</td><td style=\"text-align: right;\">0.61</td><td style=\"text-align: right;\">0</td><td style=\"text-align: right;\">0.00</td><td style=\"text-align: right;\">0</td><td style=\"text-align: right;\">0.00</td><td style=\"text-align: right;\">0</td><td style=\"text-align: right;\">0.00</td><td style=\"text-align: right;\">0</td><td style=\"text-align: right;\">0.00</td></tr>\n",
       "<tr class=\"even\"><td style=\"text-align: right;\">876833</td><td style=\"text-align: right;\">136,116,092</td><td>rs115718764</td><td>0</td><td style=\"text-align: right;\">59</td><td style=\"text-align: right;\">42</td><td style=\"text-align: right;\">3.54</td><td style=\"text-align: right;\">12</td><td style=\"text-align: right;\">3.24</td><td style=\"text-align: right;\">5</td><td style=\"text-align: right;\">0.61</td><td style=\"text-align: right;\">0</td><td style=\"text-align: right;\">0.00</td><td style=\"text-align: right;\">0</td><td style=\"text-align: right;\">0.00</td><td style=\"text-align: right;\">0</td><td style=\"text-align: right;\">0.00</td><td style=\"text-align: right;\">0</td><td style=\"text-align: right;\">0.00</td></tr>\n",
       "<tr><td style=\"text-align: right;\">876852</td><td style=\"text-align: right;\">136,120,042</td><td>rs80009036</td><td>0</td><td style=\"text-align: right;\">59</td><td style=\"text-align: right;\">42</td><td style=\"text-align: right;\">3.54</td><td style=\"text-align: right;\">12</td><td style=\"text-align: right;\">3.24</td><td style=\"text-align: right;\">5</td><td style=\"text-align: right;\">0.61</td><td style=\"text-align: right;\">0</td><td style=\"text-align: right;\">0.00</td><td style=\"text-align: right;\">0</td><td style=\"text-align: right;\">0.00</td><td style=\"text-align: right;\">0</td><td style=\"text-align: right;\">0.00</td><td style=\"text-align: right;\">0</td><td style=\"text-align: right;\">0.00</td></tr>\n",
       "<tr class=\"even\"><td style=\"text-align: right;\">876866</td><td style=\"text-align: right;\">136,122,168</td><td>rs145644703</td><td>0</td><td style=\"text-align: right;\">59</td><td style=\"text-align: right;\">42</td><td style=\"text-align: right;\">3.54</td><td style=\"text-align: right;\">12</td><td style=\"text-align: right;\">3.24</td><td style=\"text-align: right;\">5</td><td style=\"text-align: right;\">0.61</td><td style=\"text-align: right;\">0</td><td style=\"text-align: right;\">0.00</td><td style=\"text-align: right;\">0</td><td style=\"text-align: right;\">0.00</td><td style=\"text-align: right;\">0</td><td style=\"text-align: right;\">0.00</td><td style=\"text-align: right;\">0</td><td style=\"text-align: right;\">0.00</td></tr>\n",
       "<tr><td style=\"text-align: right;\">876874</td><td style=\"text-align: right;\">136,123,768</td><td>.</td><td>0</td><td style=\"text-align: right;\">59</td><td style=\"text-align: right;\">42</td><td style=\"text-align: right;\">3.54</td><td style=\"text-align: right;\">12</td><td style=\"text-align: right;\">3.24</td><td style=\"text-align: right;\">5</td><td style=\"text-align: right;\">0.61</td><td style=\"text-align: right;\">0</td><td style=\"text-align: right;\">0.00</td><td style=\"text-align: right;\">0</td><td style=\"text-align: right;\">0.00</td><td style=\"text-align: right;\">0</td><td style=\"text-align: right;\">0.00</td><td style=\"text-align: right;\">0</td><td style=\"text-align: right;\">0.00</td></tr>\n",
       "<tr class=\"even\"><td style=\"text-align: right;\">876877</td><td style=\"text-align: right;\">136,124,508</td><td>rs147528698</td><td>0</td><td style=\"text-align: right;\">59</td><td style=\"text-align: right;\">42</td><td style=\"text-align: right;\">3.54</td><td style=\"text-align: right;\">12</td><td style=\"text-align: right;\">3.24</td><td style=\"text-align: right;\">5</td><td style=\"text-align: right;\">0.61</td><td style=\"text-align: right;\">0</td><td style=\"text-align: right;\">0.00</td><td style=\"text-align: right;\">0</td><td style=\"text-align: right;\">0.00</td><td style=\"text-align: right;\">0</td><td style=\"text-align: right;\">0.00</td><td style=\"text-align: right;\">0</td><td style=\"text-align: right;\">0.00</td></tr>\n",
       "<tr><td style=\"text-align: right;\">876886</td><td style=\"text-align: right;\">136,126,309</td><td>rs140448528</td><td>0</td><td style=\"text-align: right;\">59</td><td style=\"text-align: right;\">42</td><td style=\"text-align: right;\">3.54</td><td style=\"text-align: right;\">12</td><td style=\"text-align: right;\">3.24</td><td style=\"text-align: right;\">5</td><td style=\"text-align: right;\">0.61</td><td style=\"text-align: right;\">0</td><td style=\"text-align: right;\">0.00</td><td style=\"text-align: right;\">0</td><td style=\"text-align: right;\">0.00</td><td style=\"text-align: right;\">0</td><td style=\"text-align: right;\">0.00</td><td style=\"text-align: right;\">0</td><td style=\"text-align: right;\">0.00</td></tr>\n",
       "<tr class=\"even\"><td style=\"text-align: right;\">876917</td><td style=\"text-align: right;\">136,132,505</td><td>rs78536353</td><td>0</td><td style=\"text-align: right;\">60</td><td style=\"text-align: right;\">43</td><td style=\"text-align: right;\">3.56</td><td style=\"text-align: right;\">12</td><td style=\"text-align: right;\">3.19</td><td style=\"text-align: right;\">5</td><td style=\"text-align: right;\">0.60</td><td style=\"text-align: right;\">0</td><td style=\"text-align: right;\">0.00</td><td style=\"text-align: right;\">0</td><td style=\"text-align: right;\">0.00</td><td style=\"text-align: right;\">0</td><td style=\"text-align: right;\">0.00</td><td style=\"text-align: right;\">0</td><td style=\"text-align: right;\">0.00</td></tr>\n",
       "<tr><td style=\"text-align: right;\">876918</td><td style=\"text-align: right;\">136,132,704</td><td>rs115014771</td><td>0</td><td style=\"text-align: right;\">59</td><td style=\"text-align: right;\">42</td><td style=\"text-align: right;\">3.54</td><td style=\"text-align: right;\">12</td><td style=\"text-align: right;\">3.24</td><td style=\"text-align: right;\">5</td><td style=\"text-align: right;\">0.61</td><td style=\"text-align: right;\">0</td><td style=\"text-align: right;\">0.00</td><td style=\"text-align: right;\">0</td><td style=\"text-align: right;\">0.00</td><td style=\"text-align: right;\">0</td><td style=\"text-align: right;\">0.00</td><td style=\"text-align: right;\">0</td><td style=\"text-align: right;\">0.00</td></tr>\n",
       "<tr class=\"even\"><td style=\"text-align: right;\">876950</td><td style=\"text-align: right;\">136,137,936</td><td>rs148429653</td><td>0</td><td style=\"text-align: right;\">59</td><td style=\"text-align: right;\">42</td><td style=\"text-align: right;\">3.54</td><td style=\"text-align: right;\">12</td><td style=\"text-align: right;\">3.24</td><td style=\"text-align: right;\">5</td><td style=\"text-align: right;\">0.61</td><td style=\"text-align: right;\">0</td><td style=\"text-align: right;\">0.00</td><td style=\"text-align: right;\">0</td><td style=\"text-align: right;\">0.00</td><td style=\"text-align: right;\">0</td><td style=\"text-align: right;\">0.00</td><td style=\"text-align: right;\">0</td><td style=\"text-align: right;\">0.00</td></tr>\n",
       "<tr><td style=\"text-align: right;\">876958</td><td style=\"text-align: right;\">136,139,103</td><td>rs114577235</td><td>0</td><td style=\"text-align: right;\">61</td><td style=\"text-align: right;\">42</td><td style=\"text-align: right;\">3.42</td><td style=\"text-align: right;\">12</td><td style=\"text-align: right;\">3.14</td><td style=\"text-align: right;\">5</td><td style=\"text-align: right;\">0.59</td><td style=\"text-align: right;\">2</td><td style=\"text-align: right;\">0.16</td><td style=\"text-align: right;\">0</td><td style=\"text-align: right;\">0.00</td><td style=\"text-align: right;\">0</td><td style=\"text-align: right;\">0.00</td><td style=\"text-align: right;\">0</td><td style=\"text-align: right;\">0.00</td></tr>\n",
       "<tr class=\"even\"><td style=\"text-align: right;\">876967</td><td style=\"text-align: right;\">136,139,506</td><td>rs138491051</td><td>0</td><td style=\"text-align: right;\">59</td><td style=\"text-align: right;\">42</td><td style=\"text-align: right;\">3.54</td><td style=\"text-align: right;\">12</td><td style=\"text-align: right;\">3.24</td><td style=\"text-align: right;\">5</td><td style=\"text-align: right;\">0.61</td><td style=\"text-align: right;\">0</td><td style=\"text-align: right;\">0.00</td><td style=\"text-align: right;\">0</td><td style=\"text-align: right;\">0.00</td><td style=\"text-align: right;\">0</td><td style=\"text-align: right;\">0.00</td><td style=\"text-align: right;\">0</td><td style=\"text-align: right;\">0.00</td></tr>\n",
       "<tr><td style=\"text-align: right;\">876993</td><td style=\"text-align: right;\">136,143,493</td><td>rs188066441</td><td>0</td><td style=\"text-align: right;\">60</td><td style=\"text-align: right;\">42</td><td style=\"text-align: right;\">3.48</td><td style=\"text-align: right;\">12</td><td style=\"text-align: right;\">3.19</td><td style=\"text-align: right;\">5</td><td style=\"text-align: right;\">0.60</td><td style=\"text-align: right;\">1</td><td style=\"text-align: right;\">0.08</td><td style=\"text-align: right;\">0</td><td style=\"text-align: right;\">0.00</td><td style=\"text-align: right;\">0</td><td style=\"text-align: right;\">0.00</td><td style=\"text-align: right;\">0</td><td style=\"text-align: right;\">0.00</td></tr>\n",
       "<tr class=\"even\"><td style=\"text-align: right;\">876996</td><td style=\"text-align: right;\">136,144,113</td><td>rs147988715</td><td>0</td><td style=\"text-align: right;\">59</td><td style=\"text-align: right;\">42</td><td style=\"text-align: right;\">3.54</td><td style=\"text-align: right;\">12</td><td style=\"text-align: right;\">3.24</td><td style=\"text-align: right;\">5</td><td style=\"text-align: right;\">0.61</td><td style=\"text-align: right;\">0</td><td style=\"text-align: right;\">0.00</td><td style=\"text-align: right;\">0</td><td style=\"text-align: right;\">0.00</td><td style=\"text-align: right;\">0</td><td style=\"text-align: right;\">0.00</td><td style=\"text-align: right;\">0</td><td style=\"text-align: right;\">0.00</td></tr>\n",
       "<tr><td style=\"text-align: right;\">877025</td><td style=\"text-align: right;\">136,149,213</td><td>rs181364635</td><td>0</td><td style=\"text-align: right;\">61</td><td style=\"text-align: right;\">43</td><td style=\"text-align: right;\">3.50</td><td style=\"text-align: right;\">13</td><td style=\"text-align: right;\">3.40</td><td style=\"text-align: right;\">5</td><td style=\"text-align: right;\">0.59</td><td style=\"text-align: right;\">0</td><td style=\"text-align: right;\">0.00</td><td style=\"text-align: right;\">0</td><td style=\"text-align: right;\">0.00</td><td style=\"text-align: right;\">0</td><td style=\"text-align: right;\">0.00</td><td style=\"text-align: right;\">0</td><td style=\"text-align: right;\">0.00</td></tr>\n",
       "<tr class=\"even\"><td style=\"text-align: right;\">877035</td><td style=\"text-align: right;\">136,151,252</td><td>rs6729515</td><td>0</td><td style=\"text-align: right;\">59</td><td style=\"text-align: right;\">42</td><td style=\"text-align: right;\">3.54</td><td style=\"text-align: right;\">12</td><td style=\"text-align: right;\">3.24</td><td style=\"text-align: right;\">5</td><td style=\"text-align: right;\">0.61</td><td style=\"text-align: right;\">0</td><td style=\"text-align: right;\">0.00</td><td style=\"text-align: right;\">0</td><td style=\"text-align: right;\">0.00</td><td style=\"text-align: right;\">0</td><td style=\"text-align: right;\">0.00</td><td style=\"text-align: right;\">0</td><td style=\"text-align: right;\">0.00</td></tr>\n",
       "<tr><td style=\"text-align: right;\">877053</td><td style=\"text-align: right;\">136,154,993</td><td>rs115785540</td><td>0</td><td style=\"text-align: right;\">59</td><td style=\"text-align: right;\">42</td><td style=\"text-align: right;\">3.54</td><td style=\"text-align: right;\">12</td><td style=\"text-align: right;\">3.24</td><td style=\"text-align: right;\">5</td><td style=\"text-align: right;\">0.61</td><td style=\"text-align: right;\">0</td><td style=\"text-align: right;\">0.00</td><td style=\"text-align: right;\">0</td><td style=\"text-align: right;\">0.00</td><td style=\"text-align: right;\">0</td><td style=\"text-align: right;\">0.00</td><td style=\"text-align: right;\">0</td><td style=\"text-align: right;\">0.00</td></tr>\n",
       "<tr class=\"even\"><td style=\"text-align: right;\">877055</td><td style=\"text-align: right;\">136,155,729</td><td>rs185161310</td><td>0</td><td style=\"text-align: right;\">60</td><td style=\"text-align: right;\">43</td><td style=\"text-align: right;\">3.56</td><td style=\"text-align: right;\">12</td><td style=\"text-align: right;\">3.19</td><td style=\"text-align: right;\">5</td><td style=\"text-align: right;\">0.60</td><td style=\"text-align: right;\">0</td><td style=\"text-align: right;\">0.00</td><td style=\"text-align: right;\">0</td><td style=\"text-align: right;\">0.00</td><td style=\"text-align: right;\">0</td><td style=\"text-align: right;\">0.00</td><td style=\"text-align: right;\">0</td><td style=\"text-align: right;\">0.00</td></tr>\n",
       "<tr><td style=\"text-align: right;\">877062</td><td style=\"text-align: right;\">136,156,335</td><td>rs183294026</td><td>0</td><td style=\"text-align: right;\">60</td><td style=\"text-align: right;\">43</td><td style=\"text-align: right;\">3.56</td><td style=\"text-align: right;\">12</td><td style=\"text-align: right;\">3.19</td><td style=\"text-align: right;\">5</td><td style=\"text-align: right;\">0.60</td><td style=\"text-align: right;\">0</td><td style=\"text-align: right;\">0.00</td><td style=\"text-align: right;\">0</td><td style=\"text-align: right;\">0.00</td><td style=\"text-align: right;\">0</td><td style=\"text-align: right;\">0.00</td><td style=\"text-align: right;\">0</td><td style=\"text-align: right;\">0.00</td></tr>\n",
       "<tr class=\"even\"><td style=\"text-align: right;\">877080</td><td style=\"text-align: right;\">136,159,683</td><td>rs7570498</td><td>0</td><td style=\"text-align: right;\">60</td><td style=\"text-align: right;\">43</td><td style=\"text-align: right;\">3.56</td><td style=\"text-align: right;\">12</td><td style=\"text-align: right;\">3.19</td><td style=\"text-align: right;\">5</td><td style=\"text-align: right;\">0.60</td><td style=\"text-align: right;\">0</td><td style=\"text-align: right;\">0.00</td><td style=\"text-align: right;\">0</td><td style=\"text-align: right;\">0.00</td><td style=\"text-align: right;\">0</td><td style=\"text-align: right;\">0.00</td><td style=\"text-align: right;\">0</td><td style=\"text-align: right;\">0.00</td></tr>\n",
       "<tr><td style=\"text-align: right;\">877125</td><td style=\"text-align: right;\">136,163,956</td><td>rs151227784</td><td>0</td><td style=\"text-align: right;\">60</td><td style=\"text-align: right;\">43</td><td style=\"text-align: right;\">3.56</td><td style=\"text-align: right;\">12</td><td style=\"text-align: right;\">3.19</td><td style=\"text-align: right;\">5</td><td style=\"text-align: right;\">0.60</td><td style=\"text-align: right;\">0</td><td style=\"text-align: right;\">0.00</td><td style=\"text-align: right;\">0</td><td style=\"text-align: right;\">0.00</td><td style=\"text-align: right;\">0</td><td style=\"text-align: right;\">0.00</td><td style=\"text-align: right;\">0</td><td style=\"text-align: right;\">0.00</td></tr>\n",
       "<tr class=\"even\"><td style=\"text-align: right;\">877127</td><td style=\"text-align: right;\">136,164,114</td><td>rs184637026</td><td>0</td><td style=\"text-align: right;\">60</td><td style=\"text-align: right;\">43</td><td style=\"text-align: right;\">3.56</td><td style=\"text-align: right;\">12</td><td style=\"text-align: right;\">3.19</td><td style=\"text-align: right;\">5</td><td style=\"text-align: right;\">0.60</td><td style=\"text-align: right;\">0</td><td style=\"text-align: right;\">0.00</td><td style=\"text-align: right;\">0</td><td style=\"text-align: right;\">0.00</td><td style=\"text-align: right;\">0</td><td style=\"text-align: right;\">0.00</td><td style=\"text-align: right;\">0</td><td style=\"text-align: right;\">0.00</td></tr>\n",
       "<tr><td style=\"text-align: right;\">877162</td><td style=\"text-align: right;\">136,166,437</td><td>rs141128957</td><td>0</td><td style=\"text-align: right;\">59</td><td style=\"text-align: right;\">42</td><td style=\"text-align: right;\">3.54</td><td style=\"text-align: right;\">12</td><td style=\"text-align: right;\">3.24</td><td style=\"text-align: right;\">5</td><td style=\"text-align: right;\">0.61</td><td style=\"text-align: right;\">0</td><td style=\"text-align: right;\">0.00</td><td style=\"text-align: right;\">0</td><td style=\"text-align: right;\">0.00</td><td style=\"text-align: right;\">0</td><td style=\"text-align: right;\">0.00</td><td style=\"text-align: right;\">0</td><td style=\"text-align: right;\">0.00</td></tr>\n",
       "<tr class=\"even\"><td style=\"text-align: right;\">877163</td><td style=\"text-align: right;\">136,166,511</td><td>rs112917893</td><td>0</td><td style=\"text-align: right;\">59</td><td style=\"text-align: right;\">42</td><td style=\"text-align: right;\">3.54</td><td style=\"text-align: right;\">12</td><td style=\"text-align: right;\">3.24</td><td style=\"text-align: right;\">5</td><td style=\"text-align: right;\">0.61</td><td style=\"text-align: right;\">0</td><td style=\"text-align: right;\">0.00</td><td style=\"text-align: right;\">0</td><td style=\"text-align: right;\">0.00</td><td style=\"text-align: right;\">0</td><td style=\"text-align: right;\">0.00</td><td style=\"text-align: right;\">0</td><td style=\"text-align: right;\">0.00</td></tr>\n",
       "<tr><td style=\"text-align: right;\">877176</td><td style=\"text-align: right;\">136,169,830</td><td>rs75665061</td><td>0</td><td style=\"text-align: right;\">57</td><td style=\"text-align: right;\">40</td><td style=\"text-align: right;\">3.49</td><td style=\"text-align: right;\">12</td><td style=\"text-align: right;\">3.36</td><td style=\"text-align: right;\">5</td><td style=\"text-align: right;\">0.63</td><td style=\"text-align: right;\">0</td><td style=\"text-align: right;\">0.00</td><td style=\"text-align: right;\">0</td><td style=\"text-align: right;\">0.00</td><td style=\"text-align: right;\">0</td><td style=\"text-align: right;\">0.00</td><td style=\"text-align: right;\">0</td><td style=\"text-align: right;\">0.00</td></tr>\n",
       "<tr class=\"even\"><td style=\"text-align: right;\">877178</td><td style=\"text-align: right;\">136,170,081</td><td>rs147908566</td><td>0</td><td style=\"text-align: right;\">59</td><td style=\"text-align: right;\">42</td><td style=\"text-align: right;\">3.54</td><td style=\"text-align: right;\">12</td><td style=\"text-align: right;\">3.24</td><td style=\"text-align: right;\">5</td><td style=\"text-align: right;\">0.61</td><td style=\"text-align: right;\">0</td><td style=\"text-align: right;\">0.00</td><td style=\"text-align: right;\">0</td><td style=\"text-align: right;\">0.00</td><td style=\"text-align: right;\">0</td><td style=\"text-align: right;\">0.00</td><td style=\"text-align: right;\">0</td><td style=\"text-align: right;\">0.00</td></tr>\n",
       "<tr><td style=\"text-align: right;\">877181</td><td style=\"text-align: right;\">136,170,318</td><td>rs150458561</td><td>0</td><td style=\"text-align: right;\">59</td><td style=\"text-align: right;\">42</td><td style=\"text-align: right;\">3.54</td><td style=\"text-align: right;\">12</td><td style=\"text-align: right;\">3.24</td><td style=\"text-align: right;\">5</td><td style=\"text-align: right;\">0.61</td><td style=\"text-align: right;\">0</td><td style=\"text-align: right;\">0.00</td><td style=\"text-align: right;\">0</td><td style=\"text-align: right;\">0.00</td><td style=\"text-align: right;\">0</td><td style=\"text-align: right;\">0.00</td><td style=\"text-align: right;\">0</td><td style=\"text-align: right;\">0.00</td></tr>\n",
       "<tr class=\"even\"><td style=\"text-align: right;\">877207</td><td style=\"text-align: right;\">136,173,354</td><td>rs183974309</td><td>0</td><td style=\"text-align: right;\">59</td><td style=\"text-align: right;\">42</td><td style=\"text-align: right;\">3.54</td><td style=\"text-align: right;\">12</td><td style=\"text-align: right;\">3.24</td><td style=\"text-align: right;\">5</td><td style=\"text-align: right;\">0.61</td><td style=\"text-align: right;\">0</td><td style=\"text-align: right;\">0.00</td><td style=\"text-align: right;\">0</td><td style=\"text-align: right;\">0.00</td><td style=\"text-align: right;\">0</td><td style=\"text-align: right;\">0.00</td><td style=\"text-align: right;\">0</td><td style=\"text-align: right;\">0.00</td></tr>\n",
       "<tr><td style=\"text-align: right;\">877209</td><td style=\"text-align: right;\">136,173,562</td><td>.</td><td>0</td><td style=\"text-align: right;\">64</td><td style=\"text-align: right;\">42</td><td style=\"text-align: right;\">3.26</td><td style=\"text-align: right;\">12</td><td style=\"text-align: right;\">2.99</td><td style=\"text-align: right;\">5</td><td style=\"text-align: right;\">0.56</td><td style=\"text-align: right;\">0</td><td style=\"text-align: right;\">0.00</td><td style=\"text-align: right;\">0</td><td style=\"text-align: right;\">0.00</td><td style=\"text-align: right;\">1</td><td style=\"text-align: right;\">0.21</td><td style=\"text-align: right;\">4</td><td style=\"text-align: right;\">0.51</td></tr>\n",
       "<tr class=\"even\"><td style=\"text-align: right;\">877221</td><td style=\"text-align: right;\">136,175,684</td><td>rs7590796</td><td>0</td><td style=\"text-align: right;\">59</td><td style=\"text-align: right;\">42</td><td style=\"text-align: right;\">3.54</td><td style=\"text-align: right;\">12</td><td style=\"text-align: right;\">3.24</td><td style=\"text-align: right;\">5</td><td style=\"text-align: right;\">0.61</td><td style=\"text-align: right;\">0</td><td style=\"text-align: right;\">0.00</td><td style=\"text-align: right;\">0</td><td style=\"text-align: right;\">0.00</td><td style=\"text-align: right;\">0</td><td style=\"text-align: right;\">0.00</td><td style=\"text-align: right;\">0</td><td style=\"text-align: right;\">0.00</td></tr>\n",
       "<tr><td style=\"text-align: right;\">877237</td><td style=\"text-align: right;\">136,176,991</td><td>rs74780175</td><td>0</td><td style=\"text-align: right;\">59</td><td style=\"text-align: right;\">42</td><td style=\"text-align: right;\">3.54</td><td style=\"text-align: right;\">12</td><td style=\"text-align: right;\">3.24</td><td style=\"text-align: right;\">5</td><td style=\"text-align: right;\">0.61</td><td style=\"text-align: right;\">0</td><td style=\"text-align: right;\">0.00</td><td style=\"text-align: right;\">0</td><td style=\"text-align: right;\">0.00</td><td style=\"text-align: right;\">0</td><td style=\"text-align: right;\">0.00</td><td style=\"text-align: right;\">0</td><td style=\"text-align: right;\">0.00</td></tr>\n",
       "<tr class=\"even\"><td style=\"text-align: right;\">877240</td><td style=\"text-align: right;\">136,177,726</td><td>rs116583392</td><td>0</td><td style=\"text-align: right;\">58</td><td style=\"text-align: right;\">41</td><td style=\"text-align: right;\">3.51</td><td style=\"text-align: right;\">12</td><td style=\"text-align: right;\">3.30</td><td style=\"text-align: right;\">5</td><td style=\"text-align: right;\">0.62</td><td style=\"text-align: right;\">0</td><td style=\"text-align: right;\">0.00</td><td style=\"text-align: right;\">0</td><td style=\"text-align: right;\">0.00</td><td style=\"text-align: right;\">0</td><td style=\"text-align: right;\">0.00</td><td style=\"text-align: right;\">0</td><td style=\"text-align: right;\">0.00</td></tr>\n",
       "<tr><td style=\"text-align: right;\">877242</td><td style=\"text-align: right;\">136,178,944</td><td>rs149179430</td><td>0</td><td style=\"text-align: right;\">59</td><td style=\"text-align: right;\">42</td><td style=\"text-align: right;\">3.54</td><td style=\"text-align: right;\">12</td><td style=\"text-align: right;\">3.24</td><td style=\"text-align: right;\">5</td><td style=\"text-align: right;\">0.61</td><td style=\"text-align: right;\">0</td><td style=\"text-align: right;\">0.00</td><td style=\"text-align: right;\">0</td><td style=\"text-align: right;\">0.00</td><td style=\"text-align: right;\">0</td><td style=\"text-align: right;\">0.00</td><td style=\"text-align: right;\">0</td><td style=\"text-align: right;\">0.00</td></tr>\n",
       "<tr class=\"even\"><td style=\"text-align: right;\">877250</td><td style=\"text-align: right;\">136,180,920</td><td>rs115892268</td><td>0</td><td style=\"text-align: right;\">61</td><td style=\"text-align: right;\">44</td><td style=\"text-align: right;\">3.58</td><td style=\"text-align: right;\">12</td><td style=\"text-align: right;\">3.14</td><td style=\"text-align: right;\">5</td><td style=\"text-align: right;\">0.59</td><td style=\"text-align: right;\">0</td><td style=\"text-align: right;\">0.00</td><td style=\"text-align: right;\">0</td><td style=\"text-align: right;\">0.00</td><td style=\"text-align: right;\">0</td><td style=\"text-align: right;\">0.00</td><td style=\"text-align: right;\">0</td><td style=\"text-align: right;\">0.00</td></tr>\n",
       "<tr><td style=\"text-align: right;\">877260</td><td style=\"text-align: right;\">136,183,187</td><td>.</td><td>0</td><td style=\"text-align: right;\">59</td><td style=\"text-align: right;\">42</td><td style=\"text-align: right;\">3.54</td><td style=\"text-align: right;\">12</td><td style=\"text-align: right;\">3.24</td><td style=\"text-align: right;\">5</td><td style=\"text-align: right;\">0.61</td><td style=\"text-align: right;\">0</td><td style=\"text-align: right;\">0.00</td><td style=\"text-align: right;\">0</td><td style=\"text-align: right;\">0.00</td><td style=\"text-align: right;\">0</td><td style=\"text-align: right;\">0.00</td><td style=\"text-align: right;\">0</td><td style=\"text-align: right;\">0.00</td></tr>\n",
       "<tr class=\"even\"><td style=\"text-align: right;\">877264</td><td style=\"text-align: right;\">136,184,170</td><td>rs187460319</td><td>0</td><td style=\"text-align: right;\">59</td><td style=\"text-align: right;\">42</td><td style=\"text-align: right;\">3.54</td><td style=\"text-align: right;\">12</td><td style=\"text-align: right;\">3.24</td><td style=\"text-align: right;\">5</td><td style=\"text-align: right;\">0.61</td><td style=\"text-align: right;\">0</td><td style=\"text-align: right;\">0.00</td><td style=\"text-align: right;\">0</td><td style=\"text-align: right;\">0.00</td><td style=\"text-align: right;\">0</td><td style=\"text-align: right;\">0.00</td><td style=\"text-align: right;\">0</td><td style=\"text-align: right;\">0.00</td></tr>\n",
       "<tr><td style=\"text-align: right;\">877311</td><td style=\"text-align: right;\">136,192,621</td><td>rs76760399</td><td>0</td><td style=\"text-align: right;\">59</td><td style=\"text-align: right;\">42</td><td style=\"text-align: right;\">3.54</td><td style=\"text-align: right;\">12</td><td style=\"text-align: right;\">3.24</td><td style=\"text-align: right;\">5</td><td style=\"text-align: right;\">0.61</td><td style=\"text-align: right;\">0</td><td style=\"text-align: right;\">0.00</td><td style=\"text-align: right;\">0</td><td style=\"text-align: right;\">0.00</td><td style=\"text-align: right;\">0</td><td style=\"text-align: right;\">0.00</td><td style=\"text-align: right;\">0</td><td style=\"text-align: right;\">0.00</td></tr>\n",
       "<tr class=\"even\"><td style=\"text-align: right;\">877318</td><td style=\"text-align: right;\">136,195,642</td><td>rs75933554</td><td>0</td><td style=\"text-align: right;\">59</td><td style=\"text-align: right;\">42</td><td style=\"text-align: right;\">3.54</td><td style=\"text-align: right;\">12</td><td style=\"text-align: right;\">3.24</td><td style=\"text-align: right;\">5</td><td style=\"text-align: right;\">0.61</td><td style=\"text-align: right;\">0</td><td style=\"text-align: right;\">0.00</td><td style=\"text-align: right;\">0</td><td style=\"text-align: right;\">0.00</td><td style=\"text-align: right;\">0</td><td style=\"text-align: right;\">0.00</td><td style=\"text-align: right;\">0</td><td style=\"text-align: right;\">0.00</td></tr>\n",
       "<tr><td style=\"text-align: right;\">877336</td><td style=\"text-align: right;\">136,200,886</td><td>rs191050500</td><td>0</td><td style=\"text-align: right;\">63</td><td style=\"text-align: right;\">42</td><td style=\"text-align: right;\">3.31</td><td style=\"text-align: right;\">12</td><td style=\"text-align: right;\">3.04</td><td style=\"text-align: right;\">8</td><td style=\"text-align: right;\">0.92</td><td style=\"text-align: right;\">0</td><td style=\"text-align: right;\">0.00</td><td style=\"text-align: right;\">1</td><td style=\"text-align: right;\">0.08</td><td style=\"text-align: right;\">0</td><td style=\"text-align: right;\">0.00</td><td style=\"text-align: right;\">0</td><td style=\"text-align: right;\">0.00</td></tr>\n",
       "<tr class=\"even\"><td style=\"text-align: right;\">877339</td><td style=\"text-align: right;\">136,200,957</td><td>rs190840109</td><td>0</td><td style=\"text-align: right;\">59</td><td style=\"text-align: right;\">42</td><td style=\"text-align: right;\">3.54</td><td style=\"text-align: right;\">12</td><td style=\"text-align: right;\">3.24</td><td style=\"text-align: right;\">5</td><td style=\"text-align: right;\">0.61</td><td style=\"text-align: right;\">0</td><td style=\"text-align: right;\">0.00</td><td style=\"text-align: right;\">0</td><td style=\"text-align: right;\">0.00</td><td style=\"text-align: right;\">0</td><td style=\"text-align: right;\">0.00</td><td style=\"text-align: right;\">0</td><td style=\"text-align: right;\">0.00</td></tr>\n",
       "<tr><td style=\"text-align: right;\">877345</td><td style=\"text-align: right;\">136,202,788</td><td>rs142546495</td><td>0</td><td style=\"text-align: right;\">60</td><td style=\"text-align: right;\">42</td><td style=\"text-align: right;\">3.48</td><td style=\"text-align: right;\">12</td><td style=\"text-align: right;\">3.19</td><td style=\"text-align: right;\">5</td><td style=\"text-align: right;\">0.60</td><td style=\"text-align: right;\">0</td><td style=\"text-align: right;\">0.00</td><td style=\"text-align: right;\">1</td><td style=\"text-align: right;\">0.08</td><td style=\"text-align: right;\">0</td><td style=\"text-align: right;\">0.00</td><td style=\"text-align: right;\">0</td><td style=\"text-align: right;\">0.00</td></tr>\n",
       "<tr class=\"even\"><td style=\"text-align: right;\">877378</td><td style=\"text-align: right;\">136,209,103</td><td>rs146885167</td><td>0</td><td style=\"text-align: right;\">59</td><td style=\"text-align: right;\">42</td><td style=\"text-align: right;\">3.54</td><td style=\"text-align: right;\">12</td><td style=\"text-align: right;\">3.24</td><td style=\"text-align: right;\">5</td><td style=\"text-align: right;\">0.61</td><td style=\"text-align: right;\">0</td><td style=\"text-align: right;\">0.00</td><td style=\"text-align: right;\">0</td><td style=\"text-align: right;\">0.00</td><td style=\"text-align: right;\">0</td><td style=\"text-align: right;\">0.00</td><td style=\"text-align: right;\">0</td><td style=\"text-align: right;\">0.00</td></tr>\n",
       "<tr><td style=\"text-align: right;\">877383</td><td style=\"text-align: right;\">136,211,015</td><td>rs139275074</td><td>0</td><td style=\"text-align: right;\">59</td><td style=\"text-align: right;\">42</td><td style=\"text-align: right;\">3.54</td><td style=\"text-align: right;\">12</td><td style=\"text-align: right;\">3.24</td><td style=\"text-align: right;\">5</td><td style=\"text-align: right;\">0.61</td><td style=\"text-align: right;\">0</td><td style=\"text-align: right;\">0.00</td><td style=\"text-align: right;\">0</td><td style=\"text-align: right;\">0.00</td><td style=\"text-align: right;\">0</td><td style=\"text-align: right;\">0.00</td><td style=\"text-align: right;\">0</td><td style=\"text-align: right;\">0.00</td></tr>\n",
       "<tr class=\"even\"><td style=\"text-align: right;\">877390</td><td style=\"text-align: right;\">136,212,781</td><td>.</td><td>0</td><td style=\"text-align: right;\">59</td><td style=\"text-align: right;\">42</td><td style=\"text-align: right;\">3.54</td><td style=\"text-align: right;\">12</td><td style=\"text-align: right;\">3.24</td><td style=\"text-align: right;\">5</td><td style=\"text-align: right;\">0.61</td><td style=\"text-align: right;\">0</td><td style=\"text-align: right;\">0.00</td><td style=\"text-align: right;\">0</td><td style=\"text-align: right;\">0.00</td><td style=\"text-align: right;\">0</td><td style=\"text-align: right;\">0.00</td><td style=\"text-align: right;\">0</td><td style=\"text-align: right;\">0.00</td></tr>\n",
       "<tr><td style=\"text-align: right;\">877401</td><td style=\"text-align: right;\">136,213,377</td><td>rs182333516</td><td>0</td><td style=\"text-align: right;\">59</td><td style=\"text-align: right;\">42</td><td style=\"text-align: right;\">3.54</td><td style=\"text-align: right;\">12</td><td style=\"text-align: right;\">3.24</td><td style=\"text-align: right;\">5</td><td style=\"text-align: right;\">0.61</td><td style=\"text-align: right;\">0</td><td style=\"text-align: right;\">0.00</td><td style=\"text-align: right;\">0</td><td style=\"text-align: right;\">0.00</td><td style=\"text-align: right;\">0</td><td style=\"text-align: right;\">0.00</td><td style=\"text-align: right;\">0</td><td style=\"text-align: right;\">0.00</td></tr>\n",
       "<tr class=\"even\"><td style=\"text-align: right;\">877415</td><td style=\"text-align: right;\">136,218,364</td><td>rs114050309</td><td>0</td><td style=\"text-align: right;\">59</td><td style=\"text-align: right;\">42</td><td style=\"text-align: right;\">3.54</td><td style=\"text-align: right;\">12</td><td style=\"text-align: right;\">3.24</td><td style=\"text-align: right;\">5</td><td style=\"text-align: right;\">0.61</td><td style=\"text-align: right;\">0</td><td style=\"text-align: right;\">0.00</td><td style=\"text-align: right;\">0</td><td style=\"text-align: right;\">0.00</td><td style=\"text-align: right;\">0</td><td style=\"text-align: right;\">0.00</td><td style=\"text-align: right;\">0</td><td style=\"text-align: right;\">0.00</td></tr>\n",
       "<tr><td style=\"text-align: right;\">877429</td><td style=\"text-align: right;\">136,221,951</td><td>rs114225084</td><td>0</td><td style=\"text-align: right;\">59</td><td style=\"text-align: right;\">42</td><td style=\"text-align: right;\">3.54</td><td style=\"text-align: right;\">12</td><td style=\"text-align: right;\">3.24</td><td style=\"text-align: right;\">5</td><td style=\"text-align: right;\">0.61</td><td style=\"text-align: right;\">0</td><td style=\"text-align: right;\">0.00</td><td style=\"text-align: right;\">0</td><td style=\"text-align: right;\">0.00</td><td style=\"text-align: right;\">0</td><td style=\"text-align: right;\">0.00</td><td style=\"text-align: right;\">0</td><td style=\"text-align: right;\">0.00</td></tr>\n",
       "<tr class=\"even\"><td style=\"text-align: right;\">877430</td><td style=\"text-align: right;\">136,222,181</td><td>rs188872068</td><td>0</td><td style=\"text-align: right;\">59</td><td style=\"text-align: right;\">42</td><td style=\"text-align: right;\">3.54</td><td style=\"text-align: right;\">12</td><td style=\"text-align: right;\">3.24</td><td style=\"text-align: right;\">5</td><td style=\"text-align: right;\">0.61</td><td style=\"text-align: right;\">0</td><td style=\"text-align: right;\">0.00</td><td style=\"text-align: right;\">0</td><td style=\"text-align: right;\">0.00</td><td style=\"text-align: right;\">0</td><td style=\"text-align: right;\">0.00</td><td style=\"text-align: right;\">0</td><td style=\"text-align: right;\">0.00</td></tr>\n",
       "<tr><td style=\"text-align: right;\">877436</td><td style=\"text-align: right;\">136,223,624</td><td>rs116510703</td><td>0</td><td style=\"text-align: right;\">59</td><td style=\"text-align: right;\">42</td><td style=\"text-align: right;\">3.54</td><td style=\"text-align: right;\">12</td><td style=\"text-align: right;\">3.24</td><td style=\"text-align: right;\">5</td><td style=\"text-align: right;\">0.61</td><td style=\"text-align: right;\">0</td><td style=\"text-align: right;\">0.00</td><td style=\"text-align: right;\">0</td><td style=\"text-align: right;\">0.00</td><td style=\"text-align: right;\">0</td><td style=\"text-align: right;\">0.00</td><td style=\"text-align: right;\">0</td><td style=\"text-align: right;\">0.00</td></tr>\n",
       "<tr class=\"even\"><td style=\"text-align: right;\">877438</td><td style=\"text-align: right;\">136,224,203</td><td>rs141457057</td><td>0</td><td style=\"text-align: right;\">59</td><td style=\"text-align: right;\">42</td><td style=\"text-align: right;\">3.54</td><td style=\"text-align: right;\">12</td><td style=\"text-align: right;\">3.24</td><td style=\"text-align: right;\">5</td><td style=\"text-align: right;\">0.61</td><td style=\"text-align: right;\">0</td><td style=\"text-align: right;\">0.00</td><td style=\"text-align: right;\">0</td><td style=\"text-align: right;\">0.00</td><td style=\"text-align: right;\">0</td><td style=\"text-align: right;\">0.00</td><td style=\"text-align: right;\">0</td><td style=\"text-align: right;\">0.00</td></tr>\n",
       "<tr><td style=\"text-align: right;\">877439</td><td style=\"text-align: right;\">136,224,481</td><td>rs116393977</td><td>0</td><td style=\"text-align: right;\">59</td><td style=\"text-align: right;\">42</td><td style=\"text-align: right;\">3.54</td><td style=\"text-align: right;\">12</td><td style=\"text-align: right;\">3.24</td><td style=\"text-align: right;\">5</td><td style=\"text-align: right;\">0.61</td><td style=\"text-align: right;\">0</td><td style=\"text-align: right;\">0.00</td><td style=\"text-align: right;\">0</td><td style=\"text-align: right;\">0.00</td><td style=\"text-align: right;\">0</td><td style=\"text-align: right;\">0.00</td><td style=\"text-align: right;\">0</td><td style=\"text-align: right;\">0.00</td></tr>\n",
       "<tr class=\"even\"><td style=\"text-align: right;\">877457</td><td style=\"text-align: right;\">136,228,905</td><td>rs116785717</td><td>0</td><td style=\"text-align: right;\">59</td><td style=\"text-align: right;\">42</td><td style=\"text-align: right;\">3.54</td><td style=\"text-align: right;\">12</td><td style=\"text-align: right;\">3.24</td><td style=\"text-align: right;\">5</td><td style=\"text-align: right;\">0.61</td><td style=\"text-align: right;\">0</td><td style=\"text-align: right;\">0.00</td><td style=\"text-align: right;\">0</td><td style=\"text-align: right;\">0.00</td><td style=\"text-align: right;\">0</td><td style=\"text-align: right;\">0.00</td><td style=\"text-align: right;\">0</td><td style=\"text-align: right;\">0.00</td></tr>\n",
       "<tr><td style=\"text-align: right;\">877460</td><td style=\"text-align: right;\">136,229,120</td><td>rs115276465</td><td>0</td><td style=\"text-align: right;\">54</td><td style=\"text-align: right;\">38</td><td style=\"text-align: right;\">3.50</td><td style=\"text-align: right;\">11</td><td style=\"text-align: right;\">3.25</td><td style=\"text-align: right;\">5</td><td style=\"text-align: right;\">0.67</td><td style=\"text-align: right;\">0</td><td style=\"text-align: right;\">0.00</td><td style=\"text-align: right;\">0</td><td style=\"text-align: right;\">0.00</td><td style=\"text-align: right;\">0</td><td style=\"text-align: right;\">0.00</td><td style=\"text-align: right;\">0</td><td style=\"text-align: right;\">0.00</td></tr>\n",
       "<tr class=\"even\"><td style=\"text-align: right;\">877469</td><td style=\"text-align: right;\">136,230,002</td><td>rs140226810</td><td>0</td><td style=\"text-align: right;\">60</td><td style=\"text-align: right;\">42</td><td style=\"text-align: right;\">3.48</td><td style=\"text-align: right;\">12</td><td style=\"text-align: right;\">3.19</td><td style=\"text-align: right;\">5</td><td style=\"text-align: right;\">0.60</td><td style=\"text-align: right;\">1</td><td style=\"text-align: right;\">0.08</td><td style=\"text-align: right;\">0</td><td style=\"text-align: right;\">0.00</td><td style=\"text-align: right;\">0</td><td style=\"text-align: right;\">0.00</td><td style=\"text-align: right;\">0</td><td style=\"text-align: right;\">0.00</td></tr>\n",
       "<tr><td style=\"text-align: right;\">877492</td><td style=\"text-align: right;\">136,236,007</td><td>rs115988113</td><td>0</td><td style=\"text-align: right;\">59</td><td style=\"text-align: right;\">42</td><td style=\"text-align: right;\">3.54</td><td style=\"text-align: right;\">12</td><td style=\"text-align: right;\">3.24</td><td style=\"text-align: right;\">5</td><td style=\"text-align: right;\">0.61</td><td style=\"text-align: right;\">0</td><td style=\"text-align: right;\">0.00</td><td style=\"text-align: right;\">0</td><td style=\"text-align: right;\">0.00</td><td style=\"text-align: right;\">0</td><td style=\"text-align: right;\">0.00</td><td style=\"text-align: right;\">0</td><td style=\"text-align: right;\">0.00</td></tr>\n",
       "<tr class=\"even\"><td style=\"text-align: right;\">877498</td><td style=\"text-align: right;\">136,237,438</td><td>rs74908321</td><td>0</td><td style=\"text-align: right;\">59</td><td style=\"text-align: right;\">42</td><td style=\"text-align: right;\">3.54</td><td style=\"text-align: right;\">12</td><td style=\"text-align: right;\">3.24</td><td style=\"text-align: right;\">5</td><td style=\"text-align: right;\">0.61</td><td style=\"text-align: right;\">0</td><td style=\"text-align: right;\">0.00</td><td style=\"text-align: right;\">0</td><td style=\"text-align: right;\">0.00</td><td style=\"text-align: right;\">0</td><td style=\"text-align: right;\">0.00</td><td style=\"text-align: right;\">0</td><td style=\"text-align: right;\">0.00</td></tr>\n",
       "<tr><td style=\"text-align: right;\">877499</td><td style=\"text-align: right;\">136,237,803</td><td>rs116582348</td><td>0</td><td style=\"text-align: right;\">54</td><td style=\"text-align: right;\">38</td><td style=\"text-align: right;\">3.50</td><td style=\"text-align: right;\">11</td><td style=\"text-align: right;\">3.25</td><td style=\"text-align: right;\">5</td><td style=\"text-align: right;\">0.67</td><td style=\"text-align: right;\">0</td><td style=\"text-align: right;\">0.00</td><td style=\"text-align: right;\">0</td><td style=\"text-align: right;\">0.00</td><td style=\"text-align: right;\">0</td><td style=\"text-align: right;\">0.00</td><td style=\"text-align: right;\">0</td><td style=\"text-align: right;\">0.00</td></tr>\n",
       "<tr class=\"even\"><td style=\"text-align: right;\">877500</td><td style=\"text-align: right;\">136,237,967</td><td>rs144386394</td><td>0</td><td style=\"text-align: right;\">59</td><td style=\"text-align: right;\">42</td><td style=\"text-align: right;\">3.54</td><td style=\"text-align: right;\">12</td><td style=\"text-align: right;\">3.24</td><td style=\"text-align: right;\">5</td><td style=\"text-align: right;\">0.61</td><td style=\"text-align: right;\">0</td><td style=\"text-align: right;\">0.00</td><td style=\"text-align: right;\">0</td><td style=\"text-align: right;\">0.00</td><td style=\"text-align: right;\">0</td><td style=\"text-align: right;\">0.00</td><td style=\"text-align: right;\">0</td><td style=\"text-align: right;\">0.00</td></tr>\n",
       "<tr><td style=\"text-align: right;\">877527</td><td style=\"text-align: right;\">136,242,219</td><td>rs192622351</td><td>0</td><td style=\"text-align: right;\">59</td><td style=\"text-align: right;\">42</td><td style=\"text-align: right;\">3.54</td><td style=\"text-align: right;\">12</td><td style=\"text-align: right;\">3.24</td><td style=\"text-align: right;\">5</td><td style=\"text-align: right;\">0.61</td><td style=\"text-align: right;\">0</td><td style=\"text-align: right;\">0.00</td><td style=\"text-align: right;\">0</td><td style=\"text-align: right;\">0.00</td><td style=\"text-align: right;\">0</td><td style=\"text-align: right;\">0.00</td><td style=\"text-align: right;\">0</td><td style=\"text-align: right;\">0.00</td></tr>\n",
       "<tr class=\"even\"><td style=\"text-align: right;\">877547</td><td style=\"text-align: right;\">136,245,297</td><td>rs75443478</td><td>0</td><td style=\"text-align: right;\">59</td><td style=\"text-align: right;\">42</td><td style=\"text-align: right;\">3.54</td><td style=\"text-align: right;\">12</td><td style=\"text-align: right;\">3.24</td><td style=\"text-align: right;\">5</td><td style=\"text-align: right;\">0.61</td><td style=\"text-align: right;\">0</td><td style=\"text-align: right;\">0.00</td><td style=\"text-align: right;\">0</td><td style=\"text-align: right;\">0.00</td><td style=\"text-align: right;\">0</td><td style=\"text-align: right;\">0.00</td><td style=\"text-align: right;\">0</td><td style=\"text-align: right;\">0.00</td></tr>\n",
       "<tr><td style=\"text-align: right;\">877558</td><td style=\"text-align: right;\">136,247,425</td><td>rs115386449</td><td>0</td><td style=\"text-align: right;\">59</td><td style=\"text-align: right;\">42</td><td style=\"text-align: right;\">3.54</td><td style=\"text-align: right;\">12</td><td style=\"text-align: right;\">3.24</td><td style=\"text-align: right;\">5</td><td style=\"text-align: right;\">0.61</td><td style=\"text-align: right;\">0</td><td style=\"text-align: right;\">0.00</td><td style=\"text-align: right;\">0</td><td style=\"text-align: right;\">0.00</td><td style=\"text-align: right;\">0</td><td style=\"text-align: right;\">0.00</td><td style=\"text-align: right;\">0</td><td style=\"text-align: right;\">0.00</td></tr>\n",
       "<tr class=\"even\"><td style=\"text-align: right;\">877560</td><td style=\"text-align: right;\">136,248,075</td><td>rs114926010</td><td>0</td><td style=\"text-align: right;\">59</td><td style=\"text-align: right;\">42</td><td style=\"text-align: right;\">3.54</td><td style=\"text-align: right;\">12</td><td style=\"text-align: right;\">3.24</td><td style=\"text-align: right;\">5</td><td style=\"text-align: right;\">0.61</td><td style=\"text-align: right;\">0</td><td style=\"text-align: right;\">0.00</td><td style=\"text-align: right;\">0</td><td style=\"text-align: right;\">0.00</td><td style=\"text-align: right;\">0</td><td style=\"text-align: right;\">0.00</td><td style=\"text-align: right;\">0</td><td style=\"text-align: right;\">0.00</td></tr>\n",
       "<tr><td style=\"text-align: right;\">877564</td><td style=\"text-align: right;\">136,248,808</td><td>rs115488578</td><td>0</td><td style=\"text-align: right;\">59</td><td style=\"text-align: right;\">42</td><td style=\"text-align: right;\">3.54</td><td style=\"text-align: right;\">12</td><td style=\"text-align: right;\">3.24</td><td style=\"text-align: right;\">5</td><td style=\"text-align: right;\">0.61</td><td style=\"text-align: right;\">0</td><td style=\"text-align: right;\">0.00</td><td style=\"text-align: right;\">0</td><td style=\"text-align: right;\">0.00</td><td style=\"text-align: right;\">0</td><td style=\"text-align: right;\">0.00</td><td style=\"text-align: right;\">0</td><td style=\"text-align: right;\">0.00</td></tr>\n",
       "<tr class=\"even\"><td style=\"text-align: right;\">877570</td><td style=\"text-align: right;\">136,249,592</td><td>rs75423803</td><td>0</td><td style=\"text-align: right;\">56</td><td style=\"text-align: right;\">40</td><td style=\"text-align: right;\">3.55</td><td style=\"text-align: right;\">11</td><td style=\"text-align: right;\">3.13</td><td style=\"text-align: right;\">5</td><td style=\"text-align: right;\">0.64</td><td style=\"text-align: right;\">0</td><td style=\"text-align: right;\">0.00</td><td style=\"text-align: right;\">0</td><td style=\"text-align: right;\">0.00</td><td style=\"text-align: right;\">0</td><td style=\"text-align: right;\">0.00</td><td style=\"text-align: right;\">0</td><td style=\"text-align: right;\">0.00</td></tr>\n",
       "<tr><td style=\"text-align: right;\">877585</td><td style=\"text-align: right;\">136,251,533</td><td>rs139083970</td><td>0</td><td style=\"text-align: right;\">60</td><td style=\"text-align: right;\">43</td><td style=\"text-align: right;\">3.56</td><td style=\"text-align: right;\">12</td><td style=\"text-align: right;\">3.19</td><td style=\"text-align: right;\">5</td><td style=\"text-align: right;\">0.60</td><td style=\"text-align: right;\">0</td><td style=\"text-align: right;\">0.00</td><td style=\"text-align: right;\">0</td><td style=\"text-align: right;\">0.00</td><td style=\"text-align: right;\">0</td><td style=\"text-align: right;\">0.00</td><td style=\"text-align: right;\">0</td><td style=\"text-align: right;\">0.00</td></tr>\n",
       "<tr class=\"even\"><td style=\"text-align: right;\">877593</td><td style=\"text-align: right;\">136,253,260</td><td>rs142775145</td><td>0</td><td style=\"text-align: right;\">59</td><td style=\"text-align: right;\">42</td><td style=\"text-align: right;\">3.54</td><td style=\"text-align: right;\">12</td><td style=\"text-align: right;\">3.24</td><td style=\"text-align: right;\">5</td><td style=\"text-align: right;\">0.61</td><td style=\"text-align: right;\">0</td><td style=\"text-align: right;\">0.00</td><td style=\"text-align: right;\">0</td><td style=\"text-align: right;\">0.00</td><td style=\"text-align: right;\">0</td><td style=\"text-align: right;\">0.00</td><td style=\"text-align: right;\">0</td><td style=\"text-align: right;\">0.00</td></tr>\n",
       "<tr><td style=\"text-align: right;\">877600</td><td style=\"text-align: right;\">136,254,669</td><td>rs115439603</td><td>0</td><td style=\"text-align: right;\">56</td><td style=\"text-align: right;\">40</td><td style=\"text-align: right;\">3.55</td><td style=\"text-align: right;\">11</td><td style=\"text-align: right;\">3.13</td><td style=\"text-align: right;\">5</td><td style=\"text-align: right;\">0.64</td><td style=\"text-align: right;\">0</td><td style=\"text-align: right;\">0.00</td><td style=\"text-align: right;\">0</td><td style=\"text-align: right;\">0.00</td><td style=\"text-align: right;\">0</td><td style=\"text-align: right;\">0.00</td><td style=\"text-align: right;\">0</td><td style=\"text-align: right;\">0.00</td></tr>\n",
       "<tr class=\"even\"><td style=\"text-align: right;\">877606</td><td style=\"text-align: right;\">136,255,510</td><td>rs180745131</td><td>0</td><td style=\"text-align: right;\">59</td><td style=\"text-align: right;\">42</td><td style=\"text-align: right;\">3.54</td><td style=\"text-align: right;\">12</td><td style=\"text-align: right;\">3.24</td><td style=\"text-align: right;\">5</td><td style=\"text-align: right;\">0.61</td><td style=\"text-align: right;\">0</td><td style=\"text-align: right;\">0.00</td><td style=\"text-align: right;\">0</td><td style=\"text-align: right;\">0.00</td><td style=\"text-align: right;\">0</td><td style=\"text-align: right;\">0.00</td><td style=\"text-align: right;\">0</td><td style=\"text-align: right;\">0.00</td></tr>\n",
       "<tr><td style=\"text-align: right;\">877613</td><td style=\"text-align: right;\">136,256,138</td><td>rs141632172</td><td>0</td><td style=\"text-align: right;\">59</td><td style=\"text-align: right;\">42</td><td style=\"text-align: right;\">3.54</td><td style=\"text-align: right;\">12</td><td style=\"text-align: right;\">3.24</td><td style=\"text-align: right;\">5</td><td style=\"text-align: right;\">0.61</td><td style=\"text-align: right;\">0</td><td style=\"text-align: right;\">0.00</td><td style=\"text-align: right;\">0</td><td style=\"text-align: right;\">0.00</td><td style=\"text-align: right;\">0</td><td style=\"text-align: right;\">0.00</td><td style=\"text-align: right;\">0</td><td style=\"text-align: right;\">0.00</td></tr>\n",
       "<tr class=\"even\"><td style=\"text-align: right;\">877623</td><td style=\"text-align: right;\">136,259,181</td><td>rs76509105</td><td>0</td><td style=\"text-align: right;\">59</td><td style=\"text-align: right;\">42</td><td style=\"text-align: right;\">3.54</td><td style=\"text-align: right;\">12</td><td style=\"text-align: right;\">3.24</td><td style=\"text-align: right;\">5</td><td style=\"text-align: right;\">0.61</td><td style=\"text-align: right;\">0</td><td style=\"text-align: right;\">0.00</td><td style=\"text-align: right;\">0</td><td style=\"text-align: right;\">0.00</td><td style=\"text-align: right;\">0</td><td style=\"text-align: right;\">0.00</td><td style=\"text-align: right;\">0</td><td style=\"text-align: right;\">0.00</td></tr>\n",
       "<tr><td style=\"text-align: right;\">877626</td><td style=\"text-align: right;\">136,259,814</td><td>rs77029835</td><td>0</td><td style=\"text-align: right;\">59</td><td style=\"text-align: right;\">42</td><td style=\"text-align: right;\">3.54</td><td style=\"text-align: right;\">12</td><td style=\"text-align: right;\">3.24</td><td style=\"text-align: right;\">5</td><td style=\"text-align: right;\">0.61</td><td style=\"text-align: right;\">0</td><td style=\"text-align: right;\">0.00</td><td style=\"text-align: right;\">0</td><td style=\"text-align: right;\">0.00</td><td style=\"text-align: right;\">0</td><td style=\"text-align: right;\">0.00</td><td style=\"text-align: right;\">0</td><td style=\"text-align: right;\">0.00</td></tr>\n",
       "<tr class=\"even\"><td style=\"text-align: right;\">877632</td><td style=\"text-align: right;\">136,262,461</td><td>rs148026728</td><td>0</td><td style=\"text-align: right;\">59</td><td style=\"text-align: right;\">42</td><td style=\"text-align: right;\">3.54</td><td style=\"text-align: right;\">12</td><td style=\"text-align: right;\">3.24</td><td style=\"text-align: right;\">5</td><td style=\"text-align: right;\">0.61</td><td style=\"text-align: right;\">0</td><td style=\"text-align: right;\">0.00</td><td style=\"text-align: right;\">0</td><td style=\"text-align: right;\">0.00</td><td style=\"text-align: right;\">0</td><td style=\"text-align: right;\">0.00</td><td style=\"text-align: right;\">0</td><td style=\"text-align: right;\">0.00</td></tr>\n",
       "<tr><td style=\"text-align: right;\">877639</td><td style=\"text-align: right;\">136,263,873</td><td>rs114179390</td><td>0</td><td style=\"text-align: right;\">58</td><td style=\"text-align: right;\">42</td><td style=\"text-align: right;\">3.60</td><td style=\"text-align: right;\">11</td><td style=\"text-align: right;\">3.02</td><td style=\"text-align: right;\">5</td><td style=\"text-align: right;\">0.62</td><td style=\"text-align: right;\">0</td><td style=\"text-align: right;\">0.00</td><td style=\"text-align: right;\">0</td><td style=\"text-align: right;\">0.00</td><td style=\"text-align: right;\">0</td><td style=\"text-align: right;\">0.00</td><td style=\"text-align: right;\">0</td><td style=\"text-align: right;\">0.00</td></tr>\n",
       "<tr class=\"even\"><td style=\"text-align: right;\">877654</td><td style=\"text-align: right;\">136,266,648</td><td>rs116024893</td><td>0</td><td style=\"text-align: right;\">54</td><td style=\"text-align: right;\">38</td><td style=\"text-align: right;\">3.50</td><td style=\"text-align: right;\">11</td><td style=\"text-align: right;\">3.25</td><td style=\"text-align: right;\">5</td><td style=\"text-align: right;\">0.67</td><td style=\"text-align: right;\">0</td><td style=\"text-align: right;\">0.00</td><td style=\"text-align: right;\">0</td><td style=\"text-align: right;\">0.00</td><td style=\"text-align: right;\">0</td><td style=\"text-align: right;\">0.00</td><td style=\"text-align: right;\">0</td><td style=\"text-align: right;\">0.00</td></tr>\n",
       "<tr><td style=\"text-align: right;\">877676</td><td style=\"text-align: right;\">136,271,146</td><td>rs116212194</td><td>0</td><td style=\"text-align: right;\">59</td><td style=\"text-align: right;\">42</td><td style=\"text-align: right;\">3.54</td><td style=\"text-align: right;\">12</td><td style=\"text-align: right;\">3.24</td><td style=\"text-align: right;\">5</td><td style=\"text-align: right;\">0.61</td><td style=\"text-align: right;\">0</td><td style=\"text-align: right;\">0.00</td><td style=\"text-align: right;\">0</td><td style=\"text-align: right;\">0.00</td><td style=\"text-align: right;\">0</td><td style=\"text-align: right;\">0.00</td><td style=\"text-align: right;\">0</td><td style=\"text-align: right;\">0.00</td></tr>\n",
       "<tr class=\"even\"><td style=\"text-align: right;\">877681</td><td style=\"text-align: right;\">136,273,035</td><td>rs146998823</td><td>0</td><td style=\"text-align: right;\">59</td><td style=\"text-align: right;\">42</td><td style=\"text-align: right;\">3.54</td><td style=\"text-align: right;\">12</td><td style=\"text-align: right;\">3.24</td><td style=\"text-align: right;\">5</td><td style=\"text-align: right;\">0.61</td><td style=\"text-align: right;\">0</td><td style=\"text-align: right;\">0.00</td><td style=\"text-align: right;\">0</td><td style=\"text-align: right;\">0.00</td><td style=\"text-align: right;\">0</td><td style=\"text-align: right;\">0.00</td><td style=\"text-align: right;\">0</td><td style=\"text-align: right;\">0.00</td></tr>\n",
       "<tr><td style=\"text-align: right;\">877689</td><td style=\"text-align: right;\">136,275,433</td><td>rs150857469</td><td>0</td><td style=\"text-align: right;\">59</td><td style=\"text-align: right;\">42</td><td style=\"text-align: right;\">3.54</td><td style=\"text-align: right;\">12</td><td style=\"text-align: right;\">3.24</td><td style=\"text-align: right;\">5</td><td style=\"text-align: right;\">0.61</td><td style=\"text-align: right;\">0</td><td style=\"text-align: right;\">0.00</td><td style=\"text-align: right;\">0</td><td style=\"text-align: right;\">0.00</td><td style=\"text-align: right;\">0</td><td style=\"text-align: right;\">0.00</td><td style=\"text-align: right;\">0</td><td style=\"text-align: right;\">0.00</td></tr>\n",
       "<tr class=\"even\"><td style=\"text-align: right;\">877704</td><td style=\"text-align: right;\">136,277,483</td><td>rs114464975</td><td>0</td><td style=\"text-align: right;\">59</td><td style=\"text-align: right;\">42</td><td style=\"text-align: right;\">3.54</td><td style=\"text-align: right;\">12</td><td style=\"text-align: right;\">3.24</td><td style=\"text-align: right;\">5</td><td style=\"text-align: right;\">0.61</td><td style=\"text-align: right;\">0</td><td style=\"text-align: right;\">0.00</td><td style=\"text-align: right;\">0</td><td style=\"text-align: right;\">0.00</td><td style=\"text-align: right;\">0</td><td style=\"text-align: right;\">0.00</td><td style=\"text-align: right;\">0</td><td style=\"text-align: right;\">0.00</td></tr>\n",
       "<tr><td style=\"text-align: right;\">877710</td><td style=\"text-align: right;\">136,279,131</td><td>rs6759071</td><td>0</td><td style=\"text-align: right;\">59</td><td style=\"text-align: right;\">42</td><td style=\"text-align: right;\">3.54</td><td style=\"text-align: right;\">12</td><td style=\"text-align: right;\">3.24</td><td style=\"text-align: right;\">5</td><td style=\"text-align: right;\">0.61</td><td style=\"text-align: right;\">0</td><td style=\"text-align: right;\">0.00</td><td style=\"text-align: right;\">0</td><td style=\"text-align: right;\">0.00</td><td style=\"text-align: right;\">0</td><td style=\"text-align: right;\">0.00</td><td style=\"text-align: right;\">0</td><td style=\"text-align: right;\">0.00</td></tr>\n",
       "<tr class=\"even\"><td style=\"text-align: right;\">877727</td><td style=\"text-align: right;\">136,283,367</td><td>rs138302779</td><td>0</td><td style=\"text-align: right;\">55</td><td style=\"text-align: right;\">38</td><td style=\"text-align: right;\">3.43</td><td style=\"text-align: right;\">11</td><td style=\"text-align: right;\">3.19</td><td style=\"text-align: right;\">5</td><td style=\"text-align: right;\">0.66</td><td style=\"text-align: right;\">0</td><td style=\"text-align: right;\">0.00</td><td style=\"text-align: right;\">0</td><td style=\"text-align: right;\">0.00</td><td style=\"text-align: right;\">0</td><td style=\"text-align: right;\">0.00</td><td style=\"text-align: right;\">1</td><td style=\"text-align: right;\">0.15</td></tr>\n",
       "<tr><td style=\"text-align: right;\">877743</td><td style=\"text-align: right;\">136,286,647</td><td>rs116801788</td><td>0</td><td style=\"text-align: right;\">59</td><td style=\"text-align: right;\">42</td><td style=\"text-align: right;\">3.54</td><td style=\"text-align: right;\">12</td><td style=\"text-align: right;\">3.24</td><td style=\"text-align: right;\">5</td><td style=\"text-align: right;\">0.61</td><td style=\"text-align: right;\">0</td><td style=\"text-align: right;\">0.00</td><td style=\"text-align: right;\">0</td><td style=\"text-align: right;\">0.00</td><td style=\"text-align: right;\">0</td><td style=\"text-align: right;\">0.00</td><td style=\"text-align: right;\">0</td><td style=\"text-align: right;\">0.00</td></tr>\n",
       "<tr class=\"even\"><td style=\"text-align: right;\">877749</td><td style=\"text-align: right;\">136,287,630</td><td>rs191670155</td><td>0</td><td style=\"text-align: right;\">59</td><td style=\"text-align: right;\">42</td><td style=\"text-align: right;\">3.54</td><td style=\"text-align: right;\">12</td><td style=\"text-align: right;\">3.24</td><td style=\"text-align: right;\">5</td><td style=\"text-align: right;\">0.61</td><td style=\"text-align: right;\">0</td><td style=\"text-align: right;\">0.00</td><td style=\"text-align: right;\">0</td><td style=\"text-align: right;\">0.00</td><td style=\"text-align: right;\">0</td><td style=\"text-align: right;\">0.00</td><td style=\"text-align: right;\">0</td><td style=\"text-align: right;\">0.00</td></tr>\n",
       "<tr><td style=\"text-align: right;\">877753</td><td style=\"text-align: right;\">136,288,460</td><td>rs6727251</td><td>0</td><td style=\"text-align: right;\">59</td><td style=\"text-align: right;\">42</td><td style=\"text-align: right;\">3.54</td><td style=\"text-align: right;\">12</td><td style=\"text-align: right;\">3.24</td><td style=\"text-align: right;\">5</td><td style=\"text-align: right;\">0.61</td><td style=\"text-align: right;\">0</td><td style=\"text-align: right;\">0.00</td><td style=\"text-align: right;\">0</td><td style=\"text-align: right;\">0.00</td><td style=\"text-align: right;\">0</td><td style=\"text-align: right;\">0.00</td><td style=\"text-align: right;\">0</td><td style=\"text-align: right;\">0.00</td></tr>\n",
       "<tr class=\"even\"><td style=\"text-align: right;\">877761</td><td style=\"text-align: right;\">136,289,685</td><td>rs190207496</td><td>0</td><td style=\"text-align: right;\">59</td><td style=\"text-align: right;\">42</td><td style=\"text-align: right;\">3.54</td><td style=\"text-align: right;\">12</td><td style=\"text-align: right;\">3.24</td><td style=\"text-align: right;\">5</td><td style=\"text-align: right;\">0.61</td><td style=\"text-align: right;\">0</td><td style=\"text-align: right;\">0.00</td><td style=\"text-align: right;\">0</td><td style=\"text-align: right;\">0.00</td><td style=\"text-align: right;\">0</td><td style=\"text-align: right;\">0.00</td><td style=\"text-align: right;\">0</td><td style=\"text-align: right;\">0.00</td></tr>\n",
       "<tr><td style=\"text-align: right;\">877772</td><td style=\"text-align: right;\">136,293,257</td><td>rs6705527</td><td>0</td><td style=\"text-align: right;\">59</td><td style=\"text-align: right;\">42</td><td style=\"text-align: right;\">3.54</td><td style=\"text-align: right;\">12</td><td style=\"text-align: right;\">3.24</td><td style=\"text-align: right;\">5</td><td style=\"text-align: right;\">0.61</td><td style=\"text-align: right;\">0</td><td style=\"text-align: right;\">0.00</td><td style=\"text-align: right;\">0</td><td style=\"text-align: right;\">0.00</td><td style=\"text-align: right;\">0</td><td style=\"text-align: right;\">0.00</td><td style=\"text-align: right;\">0</td><td style=\"text-align: right;\">0.00</td></tr>\n",
       "<tr class=\"even\"><td style=\"text-align: right;\">877781</td><td style=\"text-align: right;\">136,296,110</td><td>rs115991322</td><td>0</td><td style=\"text-align: right;\">59</td><td style=\"text-align: right;\">42</td><td style=\"text-align: right;\">3.54</td><td style=\"text-align: right;\">12</td><td style=\"text-align: right;\">3.24</td><td style=\"text-align: right;\">5</td><td style=\"text-align: right;\">0.61</td><td style=\"text-align: right;\">0</td><td style=\"text-align: right;\">0.00</td><td style=\"text-align: right;\">0</td><td style=\"text-align: right;\">0.00</td><td style=\"text-align: right;\">0</td><td style=\"text-align: right;\">0.00</td><td style=\"text-align: right;\">0</td><td style=\"text-align: right;\">0.00</td></tr>\n",
       "<tr><td style=\"text-align: right;\">877785</td><td style=\"text-align: right;\">136,297,327</td><td>rs116182869</td><td>0</td><td style=\"text-align: right;\">59</td><td style=\"text-align: right;\">42</td><td style=\"text-align: right;\">3.54</td><td style=\"text-align: right;\">12</td><td style=\"text-align: right;\">3.24</td><td style=\"text-align: right;\">5</td><td style=\"text-align: right;\">0.61</td><td style=\"text-align: right;\">0</td><td style=\"text-align: right;\">0.00</td><td style=\"text-align: right;\">0</td><td style=\"text-align: right;\">0.00</td><td style=\"text-align: right;\">0</td><td style=\"text-align: right;\">0.00</td><td style=\"text-align: right;\">0</td><td style=\"text-align: right;\">0.00</td></tr>\n",
       "<tr class=\"even\"><td style=\"text-align: right;\">877797</td><td style=\"text-align: right;\">136,298,967</td><td>rs149998088</td><td>0</td><td style=\"text-align: right;\">59</td><td style=\"text-align: right;\">42</td><td style=\"text-align: right;\">3.54</td><td style=\"text-align: right;\">12</td><td style=\"text-align: right;\">3.24</td><td style=\"text-align: right;\">5</td><td style=\"text-align: right;\">0.61</td><td style=\"text-align: right;\">0</td><td style=\"text-align: right;\">0.00</td><td style=\"text-align: right;\">0</td><td style=\"text-align: right;\">0.00</td><td style=\"text-align: right;\">0</td><td style=\"text-align: right;\">0.00</td><td style=\"text-align: right;\">0</td><td style=\"text-align: right;\">0.00</td></tr>\n",
       "<tr><td style=\"text-align: right;\">877802</td><td style=\"text-align: right;\">136,300,143</td><td>rs80149631</td><td>0</td><td style=\"text-align: right;\">59</td><td style=\"text-align: right;\">42</td><td style=\"text-align: right;\">3.54</td><td style=\"text-align: right;\">12</td><td style=\"text-align: right;\">3.24</td><td style=\"text-align: right;\">5</td><td style=\"text-align: right;\">0.61</td><td style=\"text-align: right;\">0</td><td style=\"text-align: right;\">0.00</td><td style=\"text-align: right;\">0</td><td style=\"text-align: right;\">0.00</td><td style=\"text-align: right;\">0</td><td style=\"text-align: right;\">0.00</td><td style=\"text-align: right;\">0</td><td style=\"text-align: right;\">0.00</td></tr>\n",
       "<tr class=\"even\"><td style=\"text-align: right;\">877813</td><td style=\"text-align: right;\">136,303,912</td><td>rs79192518</td><td>0</td><td style=\"text-align: right;\">57</td><td style=\"text-align: right;\">40</td><td style=\"text-align: right;\">3.49</td><td style=\"text-align: right;\">12</td><td style=\"text-align: right;\">3.36</td><td style=\"text-align: right;\">5</td><td style=\"text-align: right;\">0.63</td><td style=\"text-align: right;\">0</td><td style=\"text-align: right;\">0.00</td><td style=\"text-align: right;\">0</td><td style=\"text-align: right;\">0.00</td><td style=\"text-align: right;\">0</td><td style=\"text-align: right;\">0.00</td><td style=\"text-align: right;\">0</td><td style=\"text-align: right;\">0.00</td></tr>\n",
       "<tr><td style=\"text-align: right;\">877816</td><td style=\"text-align: right;\">136,304,538</td><td>rs116486175</td><td>0</td><td style=\"text-align: right;\">59</td><td style=\"text-align: right;\">42</td><td style=\"text-align: right;\">3.54</td><td style=\"text-align: right;\">12</td><td style=\"text-align: right;\">3.24</td><td style=\"text-align: right;\">5</td><td style=\"text-align: right;\">0.61</td><td style=\"text-align: right;\">0</td><td style=\"text-align: right;\">0.00</td><td style=\"text-align: right;\">0</td><td style=\"text-align: right;\">0.00</td><td style=\"text-align: right;\">0</td><td style=\"text-align: right;\">0.00</td><td style=\"text-align: right;\">0</td><td style=\"text-align: right;\">0.00</td></tr>\n",
       "<tr class=\"even\"><td style=\"text-align: right;\">877817</td><td style=\"text-align: right;\">136,304,671</td><td>rs116090869</td><td>0</td><td style=\"text-align: right;\">59</td><td style=\"text-align: right;\">42</td><td style=\"text-align: right;\">3.54</td><td style=\"text-align: right;\">12</td><td style=\"text-align: right;\">3.24</td><td style=\"text-align: right;\">5</td><td style=\"text-align: right;\">0.61</td><td style=\"text-align: right;\">0</td><td style=\"text-align: right;\">0.00</td><td style=\"text-align: right;\">0</td><td style=\"text-align: right;\">0.00</td><td style=\"text-align: right;\">0</td><td style=\"text-align: right;\">0.00</td><td style=\"text-align: right;\">0</td><td style=\"text-align: right;\">0.00</td></tr>\n",
       "<tr><td style=\"text-align: right;\">877818</td><td style=\"text-align: right;\">136,304,809</td><td>rs78243395</td><td>0</td><td style=\"text-align: right;\">59</td><td style=\"text-align: right;\">42</td><td style=\"text-align: right;\">3.54</td><td style=\"text-align: right;\">12</td><td style=\"text-align: right;\">3.24</td><td style=\"text-align: right;\">5</td><td style=\"text-align: right;\">0.61</td><td style=\"text-align: right;\">0</td><td style=\"text-align: right;\">0.00</td><td style=\"text-align: right;\">0</td><td style=\"text-align: right;\">0.00</td><td style=\"text-align: right;\">0</td><td style=\"text-align: right;\">0.00</td><td style=\"text-align: right;\">0</td><td style=\"text-align: right;\">0.00</td></tr>\n",
       "<tr class=\"even\"><td style=\"text-align: right;\">877850</td><td style=\"text-align: right;\">136,312,586</td><td>rs114999837</td><td>0</td><td style=\"text-align: right;\">59</td><td style=\"text-align: right;\">42</td><td style=\"text-align: right;\">3.54</td><td style=\"text-align: right;\">12</td><td style=\"text-align: right;\">3.24</td><td style=\"text-align: right;\">5</td><td style=\"text-align: right;\">0.61</td><td style=\"text-align: right;\">0</td><td style=\"text-align: right;\">0.00</td><td style=\"text-align: right;\">0</td><td style=\"text-align: right;\">0.00</td><td style=\"text-align: right;\">0</td><td style=\"text-align: right;\">0.00</td><td style=\"text-align: right;\">0</td><td style=\"text-align: right;\">0.00</td></tr>\n",
       "<tr><td style=\"text-align: right;\">877853</td><td style=\"text-align: right;\">136,312,653</td><td>rs150274636</td><td>0</td><td style=\"text-align: right;\">59</td><td style=\"text-align: right;\">42</td><td style=\"text-align: right;\">3.54</td><td style=\"text-align: right;\">12</td><td style=\"text-align: right;\">3.24</td><td style=\"text-align: right;\">5</td><td style=\"text-align: right;\">0.61</td><td style=\"text-align: right;\">0</td><td style=\"text-align: right;\">0.00</td><td style=\"text-align: right;\">0</td><td style=\"text-align: right;\">0.00</td><td style=\"text-align: right;\">0</td><td style=\"text-align: right;\">0.00</td><td style=\"text-align: right;\">0</td><td style=\"text-align: right;\">0.00</td></tr>\n",
       "<tr class=\"even\"><td style=\"text-align: right;\">877873</td><td style=\"text-align: right;\">136,316,662</td><td>.</td><td>0</td><td style=\"text-align: right;\">62</td><td style=\"text-align: right;\">43</td><td style=\"text-align: right;\">3.45</td><td style=\"text-align: right;\">13</td><td style=\"text-align: right;\">3.34</td><td style=\"text-align: right;\">5</td><td style=\"text-align: right;\">0.58</td><td style=\"text-align: right;\">0</td><td style=\"text-align: right;\">0.00</td><td style=\"text-align: right;\">0</td><td style=\"text-align: right;\">0.00</td><td style=\"text-align: right;\">0</td><td style=\"text-align: right;\">0.00</td><td style=\"text-align: right;\">1</td><td style=\"text-align: right;\">0.13</td></tr>\n",
       "<tr><td style=\"text-align: right;\">877878</td><td style=\"text-align: right;\">136,317,926</td><td>rs114803192</td><td>0</td><td style=\"text-align: right;\">59</td><td style=\"text-align: right;\">42</td><td style=\"text-align: right;\">3.54</td><td style=\"text-align: right;\">12</td><td style=\"text-align: right;\">3.24</td><td style=\"text-align: right;\">5</td><td style=\"text-align: right;\">0.61</td><td style=\"text-align: right;\">0</td><td style=\"text-align: right;\">0.00</td><td style=\"text-align: right;\">0</td><td style=\"text-align: right;\">0.00</td><td style=\"text-align: right;\">0</td><td style=\"text-align: right;\">0.00</td><td style=\"text-align: right;\">0</td><td style=\"text-align: right;\">0.00</td></tr>\n",
       "<tr class=\"even\"><td style=\"text-align: right;\">877901</td><td style=\"text-align: right;\">136,322,254</td><td>rs7597350</td><td>0</td><td style=\"text-align: right;\">58</td><td style=\"text-align: right;\">41</td><td style=\"text-align: right;\">3.51</td><td style=\"text-align: right;\">12</td><td style=\"text-align: right;\">3.30</td><td style=\"text-align: right;\">5</td><td style=\"text-align: right;\">0.62</td><td style=\"text-align: right;\">0</td><td style=\"text-align: right;\">0.00</td><td style=\"text-align: right;\">0</td><td style=\"text-align: right;\">0.00</td><td style=\"text-align: right;\">0</td><td style=\"text-align: right;\">0.00</td><td style=\"text-align: right;\">0</td><td style=\"text-align: right;\">0.00</td></tr>\n",
       "<tr><td style=\"text-align: right;\">877904</td><td style=\"text-align: right;\">136,322,849</td><td>rs115673545</td><td>0</td><td style=\"text-align: right;\">59</td><td style=\"text-align: right;\">42</td><td style=\"text-align: right;\">3.54</td><td style=\"text-align: right;\">12</td><td style=\"text-align: right;\">3.24</td><td style=\"text-align: right;\">5</td><td style=\"text-align: right;\">0.61</td><td style=\"text-align: right;\">0</td><td style=\"text-align: right;\">0.00</td><td style=\"text-align: right;\">0</td><td style=\"text-align: right;\">0.00</td><td style=\"text-align: right;\">0</td><td style=\"text-align: right;\">0.00</td><td style=\"text-align: right;\">0</td><td style=\"text-align: right;\">0.00</td></tr>\n",
       "<tr class=\"even\"><td style=\"text-align: right;\">877918</td><td style=\"text-align: right;\">136,324,620</td><td>rs6739541</td><td>0</td><td style=\"text-align: right;\">59</td><td style=\"text-align: right;\">42</td><td style=\"text-align: right;\">3.54</td><td style=\"text-align: right;\">12</td><td style=\"text-align: right;\">3.24</td><td style=\"text-align: right;\">5</td><td style=\"text-align: right;\">0.61</td><td style=\"text-align: right;\">0</td><td style=\"text-align: right;\">0.00</td><td style=\"text-align: right;\">0</td><td style=\"text-align: right;\">0.00</td><td style=\"text-align: right;\">0</td><td style=\"text-align: right;\">0.00</td><td style=\"text-align: right;\">0</td><td style=\"text-align: right;\">0.00</td></tr>\n",
       "<tr><td style=\"text-align: right;\">877920</td><td style=\"text-align: right;\">136,325,049</td><td>rs78359363</td><td>0</td><td style=\"text-align: right;\">59</td><td style=\"text-align: right;\">42</td><td style=\"text-align: right;\">3.54</td><td style=\"text-align: right;\">12</td><td style=\"text-align: right;\">3.24</td><td style=\"text-align: right;\">5</td><td style=\"text-align: right;\">0.61</td><td style=\"text-align: right;\">0</td><td style=\"text-align: right;\">0.00</td><td style=\"text-align: right;\">0</td><td style=\"text-align: right;\">0.00</td><td style=\"text-align: right;\">0</td><td style=\"text-align: right;\">0.00</td><td style=\"text-align: right;\">0</td><td style=\"text-align: right;\">0.00</td></tr>\n",
       "<tr class=\"even\"><td style=\"text-align: right;\">877934</td><td style=\"text-align: right;\">136,327,601</td><td>rs114826573</td><td>0</td><td style=\"text-align: right;\">55</td><td style=\"text-align: right;\">39</td><td style=\"text-align: right;\">3.52</td><td style=\"text-align: right;\">11</td><td style=\"text-align: right;\">3.19</td><td style=\"text-align: right;\">5</td><td style=\"text-align: right;\">0.66</td><td style=\"text-align: right;\">0</td><td style=\"text-align: right;\">0.00</td><td style=\"text-align: right;\">0</td><td style=\"text-align: right;\">0.00</td><td style=\"text-align: right;\">0</td><td style=\"text-align: right;\">0.00</td><td style=\"text-align: right;\">0</td><td style=\"text-align: right;\">0.00</td></tr>\n",
       "<tr><td style=\"text-align: right;\">877958</td><td style=\"text-align: right;\">136,334,099</td><td>rs116525126</td><td>0</td><td style=\"text-align: right;\">59</td><td style=\"text-align: right;\">42</td><td style=\"text-align: right;\">3.54</td><td style=\"text-align: right;\">12</td><td style=\"text-align: right;\">3.24</td><td style=\"text-align: right;\">5</td><td style=\"text-align: right;\">0.61</td><td style=\"text-align: right;\">0</td><td style=\"text-align: right;\">0.00</td><td style=\"text-align: right;\">0</td><td style=\"text-align: right;\">0.00</td><td style=\"text-align: right;\">0</td><td style=\"text-align: right;\">0.00</td><td style=\"text-align: right;\">0</td><td style=\"text-align: right;\">0.00</td></tr>\n",
       "<tr class=\"even\"><td style=\"text-align: right;\">877973</td><td style=\"text-align: right;\">136,339,534</td><td>rs115164587</td><td>0</td><td style=\"text-align: right;\">59</td><td style=\"text-align: right;\">42</td><td style=\"text-align: right;\">3.54</td><td style=\"text-align: right;\">12</td><td style=\"text-align: right;\">3.24</td><td style=\"text-align: right;\">5</td><td style=\"text-align: right;\">0.61</td><td style=\"text-align: right;\">0</td><td style=\"text-align: right;\">0.00</td><td style=\"text-align: right;\">0</td><td style=\"text-align: right;\">0.00</td><td style=\"text-align: right;\">0</td><td style=\"text-align: right;\">0.00</td><td style=\"text-align: right;\">0</td><td style=\"text-align: right;\">0.00</td></tr>\n",
       "<tr><td style=\"text-align: right;\">877976</td><td style=\"text-align: right;\">136,339,845</td><td>rs181341834</td><td>0</td><td style=\"text-align: right;\">59</td><td style=\"text-align: right;\">42</td><td style=\"text-align: right;\">3.54</td><td style=\"text-align: right;\">12</td><td style=\"text-align: right;\">3.24</td><td style=\"text-align: right;\">5</td><td style=\"text-align: right;\">0.61</td><td style=\"text-align: right;\">0</td><td style=\"text-align: right;\">0.00</td><td style=\"text-align: right;\">0</td><td style=\"text-align: right;\">0.00</td><td style=\"text-align: right;\">0</td><td style=\"text-align: right;\">0.00</td><td style=\"text-align: right;\">0</td><td style=\"text-align: right;\">0.00</td></tr>\n",
       "<tr class=\"even\"><td style=\"text-align: right;\">877987</td><td style=\"text-align: right;\">136,343,401</td><td>rs80247978</td><td>0</td><td style=\"text-align: right;\">57</td><td style=\"text-align: right;\">40</td><td style=\"text-align: right;\">3.49</td><td style=\"text-align: right;\">12</td><td style=\"text-align: right;\">3.36</td><td style=\"text-align: right;\">5</td><td style=\"text-align: right;\">0.63</td><td style=\"text-align: right;\">0</td><td style=\"text-align: right;\">0.00</td><td style=\"text-align: right;\">0</td><td style=\"text-align: right;\">0.00</td><td style=\"text-align: right;\">0</td><td style=\"text-align: right;\">0.00</td><td style=\"text-align: right;\">0</td><td style=\"text-align: right;\">0.00</td></tr>\n",
       "<tr><td style=\"text-align: right;\">878023</td><td style=\"text-align: right;\">136,354,814</td><td>rs116306210</td><td>0</td><td style=\"text-align: right;\">59</td><td style=\"text-align: right;\">42</td><td style=\"text-align: right;\">3.54</td><td style=\"text-align: right;\">12</td><td style=\"text-align: right;\">3.24</td><td style=\"text-align: right;\">5</td><td style=\"text-align: right;\">0.61</td><td style=\"text-align: right;\">0</td><td style=\"text-align: right;\">0.00</td><td style=\"text-align: right;\">0</td><td style=\"text-align: right;\">0.00</td><td style=\"text-align: right;\">0</td><td style=\"text-align: right;\">0.00</td><td style=\"text-align: right;\">0</td><td style=\"text-align: right;\">0.00</td></tr>\n",
       "<tr class=\"even\"><td style=\"text-align: right;\">878033</td><td style=\"text-align: right;\">136,357,638</td><td>rs116388025</td><td>0</td><td style=\"text-align: right;\">59</td><td style=\"text-align: right;\">42</td><td style=\"text-align: right;\">3.54</td><td style=\"text-align: right;\">12</td><td style=\"text-align: right;\">3.24</td><td style=\"text-align: right;\">5</td><td style=\"text-align: right;\">0.61</td><td style=\"text-align: right;\">0</td><td style=\"text-align: right;\">0.00</td><td style=\"text-align: right;\">0</td><td style=\"text-align: right;\">0.00</td><td style=\"text-align: right;\">0</td><td style=\"text-align: right;\">0.00</td><td style=\"text-align: right;\">0</td><td style=\"text-align: right;\">0.00</td></tr>\n",
       "<tr><td style=\"text-align: right;\">878049</td><td style=\"text-align: right;\">136,361,093</td><td>rs6706859</td><td>0</td><td style=\"text-align: right;\">60</td><td style=\"text-align: right;\">43</td><td style=\"text-align: right;\">3.56</td><td style=\"text-align: right;\">12</td><td style=\"text-align: right;\">3.19</td><td style=\"text-align: right;\">5</td><td style=\"text-align: right;\">0.60</td><td style=\"text-align: right;\">0</td><td style=\"text-align: right;\">0.00</td><td style=\"text-align: right;\">0</td><td style=\"text-align: right;\">0.00</td><td style=\"text-align: right;\">0</td><td style=\"text-align: right;\">0.00</td><td style=\"text-align: right;\">0</td><td style=\"text-align: right;\">0.00</td></tr>\n",
       "<tr class=\"even\"><td style=\"text-align: right;\">878095</td><td style=\"text-align: right;\">136,371,668</td><td>rs75966466</td><td>0</td><td style=\"text-align: right;\">59</td><td style=\"text-align: right;\">42</td><td style=\"text-align: right;\">3.54</td><td style=\"text-align: right;\">12</td><td style=\"text-align: right;\">3.24</td><td style=\"text-align: right;\">5</td><td style=\"text-align: right;\">0.61</td><td style=\"text-align: right;\">0</td><td style=\"text-align: right;\">0.00</td><td style=\"text-align: right;\">0</td><td style=\"text-align: right;\">0.00</td><td style=\"text-align: right;\">0</td><td style=\"text-align: right;\">0.00</td><td style=\"text-align: right;\">0</td><td style=\"text-align: right;\">0.00</td></tr>\n",
       "<tr><td style=\"text-align: right;\">878119</td><td style=\"text-align: right;\">136,379,205</td><td>.</td><td>0</td><td style=\"text-align: right;\">54</td><td style=\"text-align: right;\">38</td><td style=\"text-align: right;\">3.50</td><td style=\"text-align: right;\">11</td><td style=\"text-align: right;\">3.25</td><td style=\"text-align: right;\">5</td><td style=\"text-align: right;\">0.67</td><td style=\"text-align: right;\">0</td><td style=\"text-align: right;\">0.00</td><td style=\"text-align: right;\">0</td><td style=\"text-align: right;\">0.00</td><td style=\"text-align: right;\">0</td><td style=\"text-align: right;\">0.00</td><td style=\"text-align: right;\">0</td><td style=\"text-align: right;\">0.00</td></tr>\n",
       "<tr class=\"even\"><td style=\"text-align: right;\">878146</td><td style=\"text-align: right;\">136,386,153</td><td>rs115746974</td><td>0</td><td style=\"text-align: right;\">59</td><td style=\"text-align: right;\">42</td><td style=\"text-align: right;\">3.54</td><td style=\"text-align: right;\">12</td><td style=\"text-align: right;\">3.24</td><td style=\"text-align: right;\">5</td><td style=\"text-align: right;\">0.61</td><td style=\"text-align: right;\">0</td><td style=\"text-align: right;\">0.00</td><td style=\"text-align: right;\">0</td><td style=\"text-align: right;\">0.00</td><td style=\"text-align: right;\">0</td><td style=\"text-align: right;\">0.00</td><td style=\"text-align: right;\">0</td><td style=\"text-align: right;\">0.00</td></tr>\n",
       "<tr><td style=\"text-align: right;\">878149</td><td style=\"text-align: right;\">136,386,690</td><td>rs186918845</td><td>0</td><td style=\"text-align: right;\">59</td><td style=\"text-align: right;\">42</td><td style=\"text-align: right;\">3.54</td><td style=\"text-align: right;\">12</td><td style=\"text-align: right;\">3.24</td><td style=\"text-align: right;\">5</td><td style=\"text-align: right;\">0.61</td><td style=\"text-align: right;\">0</td><td style=\"text-align: right;\">0.00</td><td style=\"text-align: right;\">0</td><td style=\"text-align: right;\">0.00</td><td style=\"text-align: right;\">0</td><td style=\"text-align: right;\">0.00</td><td style=\"text-align: right;\">0</td><td style=\"text-align: right;\">0.00</td></tr>\n",
       "<tr class=\"even\"><td style=\"text-align: right;\">878151</td><td style=\"text-align: right;\">136,386,758</td><td>rs140654089</td><td>0</td><td style=\"text-align: right;\">59</td><td style=\"text-align: right;\">42</td><td style=\"text-align: right;\">3.54</td><td style=\"text-align: right;\">12</td><td style=\"text-align: right;\">3.24</td><td style=\"text-align: right;\">5</td><td style=\"text-align: right;\">0.61</td><td style=\"text-align: right;\">0</td><td style=\"text-align: right;\">0.00</td><td style=\"text-align: right;\">0</td><td style=\"text-align: right;\">0.00</td><td style=\"text-align: right;\">0</td><td style=\"text-align: right;\">0.00</td><td style=\"text-align: right;\">0</td><td style=\"text-align: right;\">0.00</td></tr>\n",
       "</table>"
      ],
      "text/plain": [
       "<IPython.core.display.HTML object>"
      ]
     },
     "execution_count": 2,
     "metadata": {},
     "output_type": "execute_result"
    }
   ],
   "source": [
    "HTML(dm.series_html(dm.di_209_56))"
   ]
  },
  {
   "cell_type": "code",
   "execution_count": 3,
   "metadata": {
    "collapsed": false
   },
   "outputs": [
    {
     "data": {
      "text/html": [
       "\n",
       "\n",
       "    <div class=\"bk-root\">\n",
       "        <div class=\"plotdiv\" id=\"81de88c3-965a-4cb7-840b-a005353b74d1\"></div>\n",
       "    </div>\n",
       "<script type=\"text/javascript\">\n",
       "  \n",
       "  (function(global) {\n",
       "    function now() {\n",
       "      return new Date();\n",
       "    }\n",
       "  \n",
       "    if (typeof (window._bokeh_onload_callbacks) === \"undefined\") {\n",
       "      window._bokeh_onload_callbacks = [];\n",
       "    }\n",
       "  \n",
       "    function run_callbacks() {\n",
       "      window._bokeh_onload_callbacks.forEach(function(callback) { callback() });\n",
       "      delete window._bokeh_onload_callbacks\n",
       "      console.info(\"Bokeh: all callbacks have finished\");\n",
       "    }\n",
       "  \n",
       "    function load_libs(js_urls, callback) {\n",
       "      window._bokeh_onload_callbacks.push(callback);\n",
       "      if (window._bokeh_is_loading > 0) {\n",
       "        console.log(\"Bokeh: BokehJS is being loaded, scheduling callback at\", now());\n",
       "        return null;\n",
       "      }\n",
       "      if (js_urls == null || js_urls.length === 0) {\n",
       "        run_callbacks();\n",
       "        return null;\n",
       "      }\n",
       "      console.log(\"Bokeh: BokehJS not loaded, scheduling load and callback at\", now());\n",
       "      window._bokeh_is_loading = js_urls.length;\n",
       "      for (var i = 0; i < js_urls.length; i++) {\n",
       "        var url = js_urls[i];\n",
       "        var s = document.createElement('script');\n",
       "        s.src = url;\n",
       "        s.async = false;\n",
       "        s.onreadystatechange = s.onload = function() {\n",
       "          window._bokeh_is_loading--;\n",
       "          if (window._bokeh_is_loading === 0) {\n",
       "            console.log(\"Bokeh: all BokehJS libraries loaded\");\n",
       "            run_callbacks()\n",
       "          }\n",
       "        };\n",
       "        s.onerror = function() {\n",
       "          console.warn(\"failed to load library \" + url);\n",
       "        };\n",
       "        console.log(\"Bokeh: injecting script tag for BokehJS library: \", url);\n",
       "        document.getElementsByTagName(\"head\")[0].appendChild(s);\n",
       "      }\n",
       "    };var element = document.getElementById(\"81de88c3-965a-4cb7-840b-a005353b74d1\");\n",
       "    if (element == null) {\n",
       "      console.log(\"Bokeh: ERROR: autoload.js configured with elementid '81de88c3-965a-4cb7-840b-a005353b74d1' but no matching script tag was found. \")\n",
       "      return false;\n",
       "    }\n",
       "  \n",
       "    var js_urls = [];\n",
       "  \n",
       "    var inline_js = [\n",
       "      function(Bokeh) {\n",
       "        Bokeh.$(function() {\n",
       "            var docs_json = {\"94c7bcc5-6a63-47cb-8b92-c75145265673\":{\"roots\":{\"references\":[{\"attributes\":{\"bottom\":{\"field\":\"bottom\"},\"fill_alpha\":{\"value\":0.1},\"fill_color\":{\"value\":\"#1f77b4\"},\"left\":{\"field\":\"left\"},\"line_alpha\":{\"value\":0.1},\"line_color\":{\"value\":\"#1f77b4\"},\"right\":{\"field\":\"right\"},\"top\":{\"field\":\"top\"}},\"id\":\"3f9c4313-c871-465f-96f3-efadf8dc1de6\",\"type\":\"Quad\"},{\"attributes\":{\"plot\":{\"id\":\"b5a6c926-e379-430a-8492-7fd81271dc09\",\"subtype\":\"Figure\",\"type\":\"Plot\"}},\"id\":\"962020e7-d1cf-4fbb-be45-47ceddd9e50a\",\"type\":\"WheelZoomTool\"},{\"attributes\":{\"plot\":null,\"text\":null},\"id\":\"14ff1c7a-2cce-42bc-9318-f9b7b9aacbee\",\"type\":\"Title\"},{\"attributes\":{\"dimension\":1,\"plot\":{\"id\":\"b5a6c926-e379-430a-8492-7fd81271dc09\",\"subtype\":\"Figure\",\"type\":\"Plot\"},\"ticker\":{\"id\":\"3afacef0-d945-44ca-9b1e-699e289cfffa\",\"type\":\"BasicTicker\"}},\"id\":\"7fc6a31a-26b4-493a-a3f9-98a9247e951d\",\"type\":\"Grid\"},{\"attributes\":{\"callback\":null,\"end\":136786630,\"start\":135757320},\"id\":\"9696511b-d9ef-4647-9834-5feae64e8fc0\",\"type\":\"Range1d\"},{\"attributes\":{\"plot\":{\"id\":\"b5a6c926-e379-430a-8492-7fd81271dc09\",\"subtype\":\"Figure\",\"type\":\"Plot\"}},\"id\":\"a8e3d381-6805-4300-b6ab-4d1abe8ddf1f\",\"type\":\"HelpTool\"},{\"attributes\":{\"data_source\":{\"id\":\"c2ce3191-30dc-4864-97a4-70e669ed57f5\",\"type\":\"ColumnDataSource\"},\"glyph\":{\"id\":\"54ab9fc6-843a-421d-879e-687177c64eb3\",\"type\":\"Quad\"},\"hover_glyph\":null,\"nonselection_glyph\":{\"id\":\"c3f73bbc-e22e-4571-832c-72e319bf8eab\",\"type\":\"Quad\"},\"selection_glyph\":null},\"id\":\"2e7109f2-4a6d-40a4-8649-2410e7ed538c\",\"type\":\"GlyphRenderer\"},{\"attributes\":{\"plot\":{\"id\":\"b5a6c926-e379-430a-8492-7fd81271dc09\",\"subtype\":\"Figure\",\"type\":\"Plot\"}},\"id\":\"dbad64d4-13e7-47fd-9c8c-135c9cf74775\",\"type\":\"ResetTool\"},{\"attributes\":{},\"id\":\"c75ac906-1437-4d9d-973a-28cee92bb831\",\"type\":\"BasicTickFormatter\"},{\"attributes\":{\"bottom\":{\"field\":\"bottom\"},\"fill_alpha\":{\"value\":0.1},\"fill_color\":{\"value\":\"#1f77b4\"},\"left\":{\"field\":\"left\"},\"line_alpha\":{\"value\":0.1},\"line_color\":{\"value\":\"#1f77b4\"},\"right\":{\"field\":\"right\"},\"top\":{\"field\":\"top\"}},\"id\":\"c3f73bbc-e22e-4571-832c-72e319bf8eab\",\"type\":\"Quad\"},{\"attributes\":{\"data_source\":{\"id\":\"f179f6a6-ee43-4c6b-b41f-eefd69045139\",\"type\":\"ColumnDataSource\"},\"glyph\":{\"id\":\"c0a20fc4-b622-4fb5-8eac-f8e231dbe593\",\"type\":\"MultiLine\"},\"hover_glyph\":null,\"nonselection_glyph\":{\"id\":\"bf0055c7-e9cd-4d6d-bf2a-8c2103bc13d2\",\"type\":\"MultiLine\"},\"selection_glyph\":null},\"id\":\"47540ca4-222b-4dac-bde6-63aba5097bbf\",\"type\":\"GlyphRenderer\"},{\"attributes\":{\"plot\":{\"id\":\"b5a6c926-e379-430a-8492-7fd81271dc09\",\"subtype\":\"Figure\",\"type\":\"Plot\"},\"ticker\":{\"id\":\"e9d3272d-f631-45b6-88db-c600d43f403b\",\"type\":\"BasicTicker\"}},\"id\":\"b2921ecc-be56-4f19-8e01-3c59d6c8a423\",\"type\":\"Grid\"},{\"attributes\":{\"callback\":null,\"column_names\":[\"right\",\"bottom\",\"top\",\"left\",\"fill_color\"],\"data\":{\"bottom\":[650,450,150,50,350,550,250,450,350,550,150,650,50,550,250,350],\"fill_color\":[\"#808080\",\"#808080\",\"#ff0000\",\"#ff0000\",\"#ff0000\",\"#c46161\",\"#ff0000\",\"#ff0000\",\"#ff0000\",\"#61c461\",\"#ff0000\",\"#808080\",\"#ff0000\",\"#808080\",\"#c46161\",\"#ff0000\"],\"left\":[135758231,135766890,135769240,135809270,135810535,135933921,135946660,136309239,136364916,136398174,136428402,136501840,136652918,136653925,136658238,136704466],\"right\":[136376515,136275985,136386758,136300642,135898023,136368563,136103328,136361560,136387893,136474098,136649641,136555659,136786630,136761853,136677919,136732214],\"top\":[696,493,166,64,386,595,271,490,387,594,165,698,63,595,276,378]}},\"id\":\"c2ce3191-30dc-4864-97a4-70e669ed57f5\",\"type\":\"ColumnDataSource\"},{\"attributes\":{\"callback\":null,\"column_names\":[\"xs\",\"ys\",\"line_color\"],\"data\":{\"line_color\":[\"black\",\"black\",\"black\",\"black\",\"black\",\"black\",\"black\",\"black\",\"black\",\"black\",\"black\",\"black\",\"black\",\"black\",\"black\",\"black\",\"black\",\"black\",\"black\",\"black\",\"black\",\"black\",\"black\",\"black\",\"black\",\"black\",\"black\",\"black\",\"black\",\"black\",\"black\",\"black\",\"black\",\"black\",\"black\",\"black\",\"black\",\"black\",\"black\",\"black\",\"black\",\"black\",\"black\",\"black\",\"black\",\"black\",\"black\",\"black\",\"black\",\"black\",\"black\",\"black\",\"black\",\"black\",\"black\",\"black\",\"black\",\"black\",\"black\",\"black\",\"black\",\"black\",\"black\",\"black\",\"black\",\"black\",\"black\",\"black\",\"black\",\"black\",\"black\",\"black\",\"black\",\"black\",\"black\",\"black\",\"black\",\"black\",\"black\",\"black\",\"black\",\"black\",\"black\",\"black\",\"black\",\"black\",\"black\",\"black\",\"black\",\"black\",\"black\",\"black\",\"black\",\"black\",\"black\",\"black\",\"black\",\"black\",\"black\",\"black\",\"black\",\"black\",\"black\",\"black\",\"black\",\"black\",\"black\",\"black\",\"black\",\"black\",\"black\",\"black\",\"black\",\"black\",\"black\",\"black\",\"black\",\"black\",\"black\",\"black\",\"black\",\"black\",\"black\",\"black\",\"black\",\"black\",\"black\",\"black\",\"black\",\"black\",\"black\",\"black\",\"black\",\"black\",\"black\",\"black\",\"black\",\"black\",\"black\",\"black\",\"black\",\"black\",\"black\",\"black\",\"black\",\"black\",\"black\",\"black\",\"black\",\"black\",\"black\",\"black\",\"black\",\"black\",\"black\",\"black\",\"black\",\"black\",\"black\",\"black\",\"black\",\"black\",\"black\",\"black\",\"black\",\"black\",\"black\",\"black\",\"black\",\"black\",\"black\",\"black\",\"black\",\"black\",\"black\",\"black\",\"black\",\"black\",\"black\",\"black\",\"black\",\"black\",\"black\",\"black\",\"black\",\"black\",\"black\",\"black\",\"black\",\"black\",\"black\",\"black\",\"black\",\"black\",\"black\",\"black\",\"black\",\"black\",\"black\",\"black\",\"black\",\"black\",\"black\",\"black\",\"black\",\"black\",\"black\",\"black\",\"black\",\"black\",\"black\",\"black\",\"black\",\"black\",\"black\",\"black\",\"black\",\"black\",\"black\",\"black\",\"black\",\"black\",\"black\",\"black\",\"black\",\"black\",\"black\",\"black\",\"black\",\"black\",\"black\",\"black\",\"black\",\"black\",\"black\",\"black\",\"black\",\"black\",\"black\",\"black\",\"black\",\"black\",\"black\",\"black\",\"black\",\"black\",\"black\",\"black\",\"black\",\"black\",\"black\",\"black\",\"black\",\"black\",\"black\",\"black\",\"black\",\"black\",\"black\",\"black\",\"black\",\"black\",\"black\",\"black\",\"black\",\"black\",\"black\",\"black\",\"black\",\"black\",\"black\",\"black\",\"black\",\"black\",\"black\",\"black\",\"black\",\"black\",\"black\",\"black\",\"black\",\"black\",\"black\",\"black\",\"black\",\"black\",\"black\",\"black\",\"black\",\"black\",\"black\",\"black\",\"black\",\"black\",\"black\",\"black\",\"black\",\"black\",\"black\",\"black\",\"black\",\"black\",\"black\",\"black\",\"black\",\"black\",\"black\",\"black\",\"black\",\"black\",\"black\",\"black\",\"black\",\"black\",\"black\",\"black\",\"black\",\"black\",\"black\",\"black\",\"black\",\"black\",\"black\",\"black\",\"black\",\"black\",\"black\",\"black\",\"black\",\"black\",\"black\",\"black\",\"black\",\"black\",\"black\",\"black\",\"black\",\"black\",\"black\",\"black\",\"black\",\"black\",\"black\",\"black\",\"black\",\"black\",\"black\",\"black\",\"black\",\"black\",\"black\",\"black\",\"black\",\"black\",\"black\",\"black\",\"black\",\"black\",\"black\",\"black\",\"black\",\"black\",\"black\",\"black\",\"black\",\"black\",\"black\",\"black\",\"black\",\"black\",\"black\",\"black\",\"black\",\"black\",\"black\",\"black\",\"black\",\"black\",\"black\",\"black\",\"black\",\"black\",\"black\",\"black\",\"black\",\"black\",\"black\",\"black\",\"black\",\"black\",\"black\",\"black\",\"black\",\"black\",\"black\",\"black\",\"black\",\"black\",\"black\",\"black\",\"black\",\"black\",\"black\",\"black\",\"black\",\"black\",\"black\",\"black\",\"black\",\"black\",\"black\",\"black\",\"black\",\"black\",\"black\",\"black\",\"black\",\"black\",\"black\",\"black\",\"black\",\"black\",\"black\",\"black\",\"black\",\"black\",\"black\",\"black\",\"black\",\"black\",\"black\",\"black\",\"black\",\"black\",\"black\",\"black\",\"black\",\"black\",\"black\",\"black\",\"black\",\"black\",\"black\",\"black\",\"black\",\"black\",\"black\",\"black\",\"black\",\"black\",\"black\",\"black\",\"black\",\"black\",\"black\",\"black\",\"black\",\"black\",\"black\",\"black\",\"black\",\"black\",\"black\",\"black\",\"black\",\"black\",\"black\",\"black\",\"black\",\"black\",\"black\",\"black\",\"black\",\"black\",\"black\",\"black\",\"black\",\"black\",\"black\",\"black\",\"black\",\"black\",\"black\",\"black\",\"black\",\"black\",\"black\",\"black\",\"black\",\"black\",\"black\",\"black\",\"black\",\"black\",\"black\",\"black\",\"black\",\"black\",\"black\",\"black\",\"black\",\"black\",\"black\",\"black\",\"black\",\"black\",\"black\",\"black\",\"black\",\"black\",\"black\",\"black\",\"black\",\"black\",\"black\",\"black\",\"black\",\"black\",\"black\",\"black\",\"black\",\"black\",\"black\",\"black\",\"black\",\"black\",\"black\",\"black\",\"black\",\"black\",\"black\",\"black\",\"black\",\"black\",\"black\",\"black\",\"black\",\"black\",\"black\",\"black\",\"black\",\"black\",\"black\",\"black\",\"black\",\"black\",\"black\",\"black\",\"black\",\"black\",\"black\",\"black\",\"black\",\"black\",\"black\",\"black\",\"black\",\"black\",\"black\",\"black\",\"black\",\"black\",\"black\",\"black\",\"black\",\"black\",\"black\",\"black\",\"black\",\"black\",\"black\",\"black\",\"black\",\"black\",\"black\",\"black\",\"black\",\"black\",\"black\",\"black\",\"black\",\"black\",\"black\",\"black\",\"black\",\"black\",\"black\",\"black\",\"black\",\"black\",\"black\",\"black\",\"black\",\"black\",\"black\",\"black\",\"black\",\"black\",\"black\",\"black\",\"black\",\"black\",\"black\",\"black\",\"black\",\"black\",\"black\",\"black\",\"black\",\"black\",\"black\",\"black\",\"black\",\"black\",\"black\",\"black\",\"black\",\"black\",\"black\",\"black\",\"black\",\"black\",\"black\",\"black\",\"black\",\"black\",\"black\",\"black\",\"black\",\"black\",\"black\",\"black\",\"black\",\"black\",\"black\",\"black\",\"black\",\"black\",\"black\",\"black\",\"black\",\"black\",\"black\",\"black\",\"black\",\"black\",\"black\",\"black\",\"black\",\"black\",\"black\",\"black\",\"black\",\"black\",\"black\",\"black\",\"black\",\"black\",\"black\",\"black\",\"black\",\"black\",\"black\",\"black\",\"black\",\"black\",\"black\",\"black\",\"black\",\"black\",\"black\",\"black\",\"black\",\"black\",\"black\",\"black\",\"black\",\"black\",\"black\",\"black\",\"black\",\"black\",\"black\",\"black\",\"black\",\"black\",\"black\",\"black\",\"black\",\"black\",\"black\",\"black\",\"black\",\"black\",\"black\",\"black\",\"black\",\"black\",\"black\",\"black\",\"black\",\"black\",\"black\",\"black\",\"black\",\"black\",\"black\",\"black\",\"black\",\"black\",\"black\",\"black\",\"black\",\"black\"],\"xs\":[[135758231,135758231],[135758520,135758520],[135766072,135766072],[135773420,135773420],[135773446,135773446],[135773617,135773617],[135773692,135773692],[135774681,135774681],[135775049,135775049],[135776430,135776430],[135778656,135778656],[135780168,135780168],[135780587,135780587],[135781301,135781301],[135781522,135781522],[135781635,135781635],[135782456,135782456],[135783157,135783157],[135783366,135783366],[135783367,135783367],[135784227,135784227],[135784733,135784733],[135785066,135785066],[135785068,135785068],[135785149,135785149],[135787148,135787148],[135787642,135787642],[135789405,135789405],[135789472,135789472],[135789682,135789682],[135789784,135789784],[135792338,135792338],[135792528,135792528],[135793565,135793565],[135793684,135793684],[135793845,135793845],[135794367,135794367],[135794986,135794986],[135795040,135795040],[135795095,135795095],[135795150,135795150],[135795385,135795385],[135795396,135795396],[135795443,135795443],[135795595,135795595],[135796000,135796000],[135796155,135796155],[135796410,135796410],[135796965,135796965],[135797223,135797223],[135797747,135797747],[135798082,135798082],[135798758,135798758],[135799082,135799082],[135800085,135800085],[135800601,135800601],[135800757,135800757],[135801228,135801228],[135801956,135801956],[135802020,135802020],[135802028,135802028],[135802050,135802050],[135802148,135802148],[135803766,135803766],[135809241,135809241],[135812969,135812969],[135814716,135814716],[135818907,135818907],[135829432,135829432],[135832131,135832131],[135849613,135849613],[135853807,135853807],[135859923,135859923],[135860305,135860305],[135861497,135861497],[135863143,135863143],[135864294,135864294],[135871624,135871624],[135872646,135872646],[135874038,135874038],[135874622,135874622],[135878814,135878814],[135880013,135880013],[135884487,135884487],[135885357,135885357],[135893853,135893853],[135895809,135895809],[135895879,135895879],[135899069,135899069],[135909462,135909462],[135912977,135912977],[135914038,135914038],[135921839,135921839],[135925002,135925002],[135928312,135928312],[135935049,135935049],[135962711,135962711],[135984172,135984172],[135994753,135994753],[135994754,135994754],[136016079,136016079],[136027264,136027264],[136052004,136052004],[136100473,136100473],[136110129,136110129],[136166536,136166536],[136169799,136169799],[136191314,136191314],[136228887,136228887],[136238453,136238453],[136288273,136288273],[136292425,136292425],[136321951,136321951],[136324564,136324564],[136327299,136327299],[136327302,136327302],[136376515,136376515],[135766890,135766890],[135778708,135778708],[135779588,135779588],[135805941,135805941],[135805943,135805943],[135932720,135932720],[135933317,135933317],[135934842,135934842],[135952376,135952376],[135958853,135958853],[135962864,135962864],[135963304,135963304],[135965376,135965376],[135980201,135980201],[135981554,135981554],[135988127,135988127],[135988416,135988416],[135991470,135991470],[136000500,136000500],[136001215,136001215],[136001295,136001295],[136016514,136016514],[136017388,136017388],[136041102,136041102],[136041662,136041662],[136047387,136047387],[136052936,136052936],[136055275,136055275],[136063118,136063118],[136066802,136066802],[136068890,136068890],[136069577,136069577],[136081193,136081193],[136105193,136105193],[136107839,136107839],[136110835,136110835],[136138026,136138026],[136142092,136142092],[136146499,136146499],[136147607,136147607],[136148401,136148401],[136150512,136150512],[136154734,136154734],[136155805,136155805],[136163001,136163001],[136163266,136163266],[136163568,136163568],[136163821,136163821],[136165965,136165965],[136183312,136183312],[136185945,136185945],[136191729,136191729],[136204827,136204827],[136208747,136208747],[136217980,136217980],[136229438,136229438],[136232572,136232572],[136240942,136240942],[136251329,136251329],[136265187,136265187],[136265188,136265188],[136275985,136275985],[135769240,135769240],[135775679,135775679],[135776654,135776654],[135779989,135779989],[135790113,135790113],[135795146,135795146],[135798635,135798635],[135801926,135801926],[135811188,135811188],[135819013,135819013],[135819513,135819513],[135819780,135819780],[135821332,135821332],[135821676,135821676],[135821993,135821993],[135822311,135822311],[135823639,135823639],[135830336,135830336],[135830617,135830617],[135830805,135830805],[135832014,135832014],[135837481,135837481],[135838094,135838094],[135838407,135838407],[135846114,135846114],[135854369,135854369],[135856671,135856671],[135859827,135859827],[135860347,135860347],[135861038,135861038],[135863516,135863516],[135866555,135866555],[135867373,135867373],[135869590,135869590],[135881194,135881194],[135881477,135881477],[135882391,135882391],[135888827,135888827],[135890553,135890553],[135891360,135891360],[135897567,135897567],[135900218,135900218],[135905949,135905949],[135909647,135909647],[135909907,135909907],[135912277,135912277],[135912645,135912645],[135914642,135914642],[135915190,135915190],[135917969,135917969],[135927346,135927346],[135930832,135930832],[135932468,135932468],[135933695,135933695],[135934807,135934807],[135934852,135934852],[135938287,135938287],[135945971,135945971],[135948340,135948340],[135949143,135949143],[135951639,135951639],[135957087,135957087],[135958451,135958451],[135962106,135962106],[135969510,135969510],[135972041,135972041],[135978043,135978043],[135985885,135985885],[135990912,135990912],[135992317,135992317],[136003581,136003581],[136008550,136008550],[136009382,136009382],[136028894,136028894],[136032873,136032873],[136038061,136038061],[136039638,136039638],[136040972,136040972],[136049936,136049936],[136054795,136054795],[136057955,136057955],[136064335,136064335],[136064741,136064741],[136066863,136066863],[136077256,136077256],[136082398,136082398],[136082399,136082399],[136082428,136082428],[136082464,136082464],[136086800,136086800],[136096932,136096932],[136097877,136097877],[136097960,136097960],[136112643,136112643],[136113845,136113845],[136115806,136115806],[136116092,136116092],[136120042,136120042],[136122168,136122168],[136123768,136123768],[136124508,136124508],[136126309,136126309],[136132505,136132505],[136132704,136132704],[136137936,136137936],[136139103,136139103],[136139506,136139506],[136143493,136143493],[136144113,136144113],[136149213,136149213],[136151252,136151252],[136154993,136154993],[136155729,136155729],[136156335,136156335],[136159683,136159683],[136163956,136163956],[136164114,136164114],[136166437,136166437],[136166511,136166511],[136169830,136169830],[136170081,136170081],[136170318,136170318],[136173354,136173354],[136173562,136173562],[136175684,136175684],[136176991,136176991],[136177726,136177726],[136178944,136178944],[136180920,136180920],[136183187,136183187],[136184170,136184170],[136192621,136192621],[136195642,136195642],[136200886,136200886],[136200957,136200957],[136202788,136202788],[136209103,136209103],[136211015,136211015],[136212781,136212781],[136213377,136213377],[136218364,136218364],[136221951,136221951],[136222181,136222181],[136223624,136223624],[136224203,136224203],[136224481,136224481],[136228905,136228905],[136229120,136229120],[136230002,136230002],[136236007,136236007],[136237438,136237438],[136237803,136237803],[136237967,136237967],[136242219,136242219],[136245297,136245297],[136247425,136247425],[136248075,136248075],[136248808,136248808],[136249592,136249592],[136251533,136251533],[136253260,136253260],[136254669,136254669],[136255510,136255510],[136256138,136256138],[136259181,136259181],[136259814,136259814],[136262461,136262461],[136263873,136263873],[136266648,136266648],[136271146,136271146],[136273035,136273035],[136275433,136275433],[136277483,136277483],[136279131,136279131],[136283367,136283367],[136286647,136286647],[136287630,136287630],[136288460,136288460],[136289685,136289685],[136293257,136293257],[136296110,136296110],[136297327,136297327],[136298967,136298967],[136300143,136300143],[136303912,136303912],[136304538,136304538],[136304671,136304671],[136304809,136304809],[136312586,136312586],[136312653,136312653],[136316662,136316662],[136317926,136317926],[136322254,136322254],[136322849,136322849],[136324620,136324620],[136325049,136325049],[136327601,136327601],[136334099,136334099],[136339534,136339534],[136339845,136339845],[136343401,136343401],[136354814,136354814],[136357638,136357638],[136361093,136361093],[136371668,136371668],[136379205,136379205],[136386153,136386153],[136386690,136386690],[136386758,136386758],[135809270,135809270],[136040317,136040317],[136043375,136043375],[136055135,136055135],[136071494,136071494],[136155813,136155813],[136172579,136172579],[136176553,136176553],[136232292,136232292],[136300642,136300642],[135810535,135810535],[135817760,135817760],[135857538,135857538],[135862191,135862191],[135869380,135869380],[135869761,135869761],[135886486,135886486],[135888078,135888078],[135898023,135898023],[135933921,135933921],[135939824,135939824],[135941503,135941503],[135943900,135943900],[135945474,135945474],[135949715,135949715],[135956745,135956745],[135958693,135958693],[135967778,135967778],[135972093,135972093],[135973768,135973768],[135976498,135976498],[135978428,135978428],[135990031,135990031],[135992481,135992481],[135993925,135993925],[135994838,135994838],[136000253,136000253],[136003567,136003567],[136005477,136005477],[136005971,136005971],[136020977,136020977],[136027535,136027535],[136031588,136031588],[136032905,136032905],[136042480,136042480],[136043885,136043885],[136050471,136050471],[136052898,136052898],[136054815,136054815],[136056285,136056285],[136061560,136061560],[136063685,136063685],[136069060,136069060],[136072179,136072179],[136074233,136074233],[136080721,136080721],[136080822,136080822],[136088440,136088440],[136088643,136088643],[136092416,136092416],[136092869,136092869],[136094615,136094615],[136095505,136095505],[136095604,136095604],[136096766,136096766],[136097091,136097091],[136097394,136097394],[136100243,136100243],[136101823,136101823],[136106561,136106561],[136115501,136115501],[136122622,136122622],[136123014,136123014],[136123848,136123848],[136127100,136127100],[136127950,136127950],[136128630,136128630],[136129630,136129630],[136129791,136129791],[136131324,136131324],[136135383,136135383],[136135994,136135994],[136136224,136136224],[136136366,136136366],[136136440,136136440],[136138145,136138145],[136140568,136140568],[136145882,136145882],[136147948,136147948],[136148630,136148630],[136151485,136151485],[136152802,136152802],[136156753,136156753],[136157913,136157913],[136160902,136160902],[136165765,136165765],[136171649,136171649],[136173220,136173220],[136173735,136173735],[136174552,136174552],[136175692,136175692],[136176805,136176805],[136182484,136182484],[136183188,136183188],[136187252,136187252],[136187345,136187345],[136189475,136189475],[136197702,136197702],[136198435,136198435],[136202937,136202937],[136219999,136219999],[136221500,136221500],[136226626,136226626],[136228929,136228929],[136229598,136229598],[136238270,136238270],[136238346,136238346],[136240769,136240769],[136244171,136244171],[136249245,136249245],[136250285,136250285],[136254419,136254419],[136266241,136266241],[136267808,136267808],[136272074,136272074],[136277304,136277304],[136290607,136290607],[136290663,136290663],[136291310,136291310],[136296051,136296051],[136305392,136305392],[136306890,136306890],[136310803,136310803],[136324225,136324225],[136324465,136324465],[136327305,136327305],[136329618,136329618],[136333300,136333300],[136350089,136350089],[136354204,136354204],[136360455,136360455],[136368563,136368563],[135946660,135946660],[135948297,135948297],[135982812,135982812],[136068800,136068800],[136103328,136103328],[136309239,136309239],[136322472,136322472],[136323787,136323787],[136323862,136323862],[136326765,136326765],[136329500,136329500],[136331657,136331657],[136345356,136345356],[136361560,136361560],[136364916,136364916],[136369497,136369497],[136369580,136369580],[136380846,136380846],[136387893,136387893],[136398174,136398174],[136402117,136402117],[136403749,136403749],[136409073,136409073],[136410299,136410299],[136413359,136413359],[136416855,136416855],[136416941,136416941],[136418348,136418348],[136419961,136419961],[136420690,136420690],[136422171,136422171],[136428460,136428460],[136430866,136430866],[136432103,136432103],[136437507,136437507],[136439090,136439090],[136439517,136439517],[136444123,136444123],[136445526,136445526],[136445869,136445869],[136455600,136455600],[136456642,136456642],[136462441,136462441],[136470714,136470714],[136474098,136474098],[136428402,136428402],[136443005,136443005],[136452676,136452676],[136470407,136470407],[136474079,136474079],[136474234,136474234],[136515584,136515584],[136546910,136546910],[136561197,136561197],[136605093,136605093],[136605441,136605441],[136627309,136627309],[136649405,136649405],[136649641,136649641],[136501840,136501840],[136505546,136505546],[136516748,136516748],[136522710,136522710],[136528004,136528004],[136539513,136539513],[136544752,136544752],[136546110,136546110],[136553529,136553529],[136555659,136555659],[136652918,136652918],[136654337,136654337],[136656539,136656539],[136662655,136662655],[136664620,136664620],[136666397,136666397],[136668691,136668691],[136676934,136676934],[136686353,136686353],[136686541,136686541],[136688512,136688512],[136688514,136688514],[136690571,136690571],[136691446,136691446],[136694495,136694495],[136697642,136697642],[136699995,136699995],[136703199,136703199],[136703587,136703587],[136703910,136703910],[136704096,136704096],[136704732,136704732],[136705287,136705287],[136705630,136705630],[136705653,136705653],[136706851,136706851],[136707713,136707713],[136709013,136709013],[136710163,136710163],[136710189,136710189],[136710223,136710223],[136710282,136710282],[136711055,136711055],[136713946,136713946],[136715079,136715079],[136717377,136717377],[136719354,136719354],[136720874,136720874],[136720941,136720941],[136721621,136721621],[136722365,136722365],[136723537,136723537],[136724692,136724692],[136725023,136725023],[136725212,136725212],[136725779,136725779],[136726084,136726084],[136727282,136727282],[136727577,136727577],[136729594,136729594],[136729666,136729666],[136731911,136731911],[136732476,136732476],[136739056,136739056],[136740189,136740189],[136741173,136741173],[136743840,136743840],[136746479,136746479],[136748199,136748199],[136748566,136748566],[136749565,136749565],[136752613,136752613],[136753806,136753806],[136754802,136754802],[136756172,136756172],[136757136,136757136],[136757880,136757880],[136759001,136759001],[136759206,136759206],[136762992,136762992],[136764007,136764007],[136765273,136765273],[136768615,136768615],[136772207,136772207],[136774885,136774885],[136775417,136775417],[136775505,136775505],[136776308,136776308],[136779174,136779174],[136786630,136786630],[136653925,136653925],[136654833,136654833],[136656534,136656534],[136656536,136656536],[136657252,136657252],[136667301,136667301],[136667487,136667487],[136672775,136672775],[136680534,136680534],[136686393,136686393],[136688749,136688749],[136692553,136692553],[136697371,136697371],[136708787,136708787],[136710372,136710372],[136711064,136711064],[136715324,136715324],[136723504,136723504],[136737460,136737460],[136743143,136743143],[136746224,136746224],[136751842,136751842],[136759379,136759379],[136761853,136761853],[136658238,136658238],[136658821,136658821],[136664975,136664975],[136674123,136674123],[136677052,136677052],[136677919,136677919],[136704466,136704466],[136714792,136714792],[136724974,136724974],[136725890,136725890],[136732214,136732214]],\"ys\":[[650,696],[650,696],[650,696],[650,696],[650,696],[650,696],[650,696],[650,696],[650,696],[650,696],[650,696],[650,696],[650,696],[650,696],[650,696],[650,696],[650,696],[650,696],[650,696],[650,696],[650,696],[650,696],[650,696],[650,696],[650,696],[650,696],[650,696],[650,696],[650,696],[650,696],[650,696],[650,696],[650,696],[650,696],[650,696],[650,696],[650,696],[650,696],[650,696],[650,696],[650,696],[650,696],[650,696],[650,696],[650,696],[650,696],[650,696],[650,696],[650,696],[650,696],[650,696],[650,696],[650,696],[650,696],[650,696],[650,696],[650,696],[650,696],[650,696],[650,696],[650,696],[650,696],[650,696],[650,696],[650,696],[650,696],[650,696],[650,696],[650,696],[650,696],[650,696],[650,696],[650,696],[650,696],[650,696],[650,696],[650,696],[650,696],[650,696],[650,696],[650,696],[650,696],[650,696],[650,696],[650,696],[650,696],[650,696],[650,696],[650,696],[650,696],[650,696],[650,696],[650,696],[650,696],[650,696],[650,696],[650,696],[650,696],[650,696],[650,696],[650,696],[650,696],[650,696],[650,696],[650,696],[650,696],[650,696],[650,696],[650,696],[650,696],[650,696],[650,696],[650,696],[650,696],[650,696],[650,696],[650,696],[450,493],[450,493],[450,493],[450,493],[450,493],[450,493],[450,493],[450,493],[450,493],[450,493],[450,493],[450,493],[450,493],[450,493],[450,493],[450,493],[450,493],[450,493],[450,493],[450,493],[450,493],[450,493],[450,493],[450,493],[450,493],[450,493],[450,493],[450,493],[450,493],[450,493],[450,493],[450,493],[450,493],[450,493],[450,493],[450,493],[450,493],[450,493],[450,493],[450,493],[450,493],[450,493],[450,493],[450,493],[450,493],[450,493],[450,493],[450,493],[450,493],[450,493],[450,493],[450,493],[450,493],[450,493],[450,493],[450,493],[450,493],[450,493],[450,493],[450,493],[450,493],[450,493],[150,166],[150,166],[150,166],[150,166],[150,166],[150,166],[150,166],[150,166],[150,166],[150,166],[150,166],[150,166],[150,166],[150,166],[150,166],[150,166],[150,166],[150,166],[150,166],[150,166],[150,166],[150,166],[150,166],[150,166],[150,166],[150,166],[150,166],[150,166],[150,166],[150,166],[150,166],[150,166],[150,166],[150,166],[150,166],[150,166],[150,166],[150,166],[150,166],[150,166],[150,166],[150,166],[150,166],[150,166],[150,166],[150,166],[150,166],[150,166],[150,166],[150,166],[150,166],[150,166],[150,166],[150,166],[150,166],[150,166],[150,166],[150,166],[150,166],[150,166],[150,166],[150,166],[150,166],[150,166],[150,166],[150,166],[150,166],[150,166],[150,166],[150,166],[150,166],[150,166],[150,166],[150,166],[150,166],[150,166],[150,166],[150,166],[150,166],[150,166],[150,166],[150,166],[150,166],[150,166],[150,166],[150,166],[150,166],[150,166],[150,166],[150,166],[150,166],[150,166],[150,166],[150,166],[150,166],[150,166],[150,166],[150,166],[150,166],[150,166],[150,166],[150,166],[150,166],[150,166],[150,166],[150,166],[150,166],[150,166],[150,166],[150,166],[150,166],[150,166],[150,166],[150,166],[150,166],[150,166],[150,166],[150,166],[150,166],[150,166],[150,166],[150,166],[150,166],[150,166],[150,166],[150,166],[150,166],[150,166],[150,166],[150,166],[150,166],[150,166],[150,166],[150,166],[150,166],[150,166],[150,166],[150,166],[150,166],[150,166],[150,166],[150,166],[150,166],[150,166],[150,166],[150,166],[150,166],[150,166],[150,166],[150,166],[150,166],[150,166],[150,166],[150,166],[150,166],[150,166],[150,166],[150,166],[150,166],[150,166],[150,166],[150,166],[150,166],[150,166],[150,166],[150,166],[150,166],[150,166],[150,166],[150,166],[150,166],[150,166],[150,166],[150,166],[150,166],[150,166],[150,166],[150,166],[150,166],[150,166],[150,166],[150,166],[150,166],[150,166],[150,166],[150,166],[150,166],[150,166],[150,166],[150,166],[150,166],[150,166],[150,166],[150,166],[150,166],[150,166],[150,166],[150,166],[150,166],[150,166],[150,166],[150,166],[150,166],[150,166],[150,166],[150,166],[150,166],[150,166],[150,166],[50,64],[50,64],[50,64],[50,64],[50,64],[50,64],[50,64],[50,64],[50,64],[50,64],[350,386],[350,386],[350,386],[350,386],[350,386],[350,386],[350,386],[350,386],[350,386],[550,595],[550,595],[550,595],[550,595],[550,595],[550,595],[550,595],[550,595],[550,595],[550,595],[550,595],[550,595],[550,595],[550,595],[550,595],[550,595],[550,595],[550,595],[550,595],[550,595],[550,595],[550,595],[550,595],[550,595],[550,595],[550,595],[550,595],[550,595],[550,595],[550,595],[550,595],[550,595],[550,595],[550,595],[550,595],[550,595],[550,595],[550,595],[550,595],[550,595],[550,595],[550,595],[550,595],[550,595],[550,595],[550,595],[550,595],[550,595],[550,595],[550,595],[550,595],[550,595],[550,595],[550,595],[550,595],[550,595],[550,595],[550,595],[550,595],[550,595],[550,595],[550,595],[550,595],[550,595],[550,595],[550,595],[550,595],[550,595],[550,595],[550,595],[550,595],[550,595],[550,595],[550,595],[550,595],[550,595],[550,595],[550,595],[550,595],[550,595],[550,595],[550,595],[550,595],[550,595],[550,595],[550,595],[550,595],[550,595],[550,595],[550,595],[550,595],[550,595],[550,595],[550,595],[550,595],[550,595],[550,595],[550,595],[550,595],[550,595],[550,595],[550,595],[550,595],[550,595],[550,595],[550,595],[550,595],[550,595],[550,595],[550,595],[550,595],[550,595],[550,595],[550,595],[550,595],[550,595],[550,595],[550,595],[550,595],[550,595],[550,595],[550,595],[550,595],[250,271],[250,271],[250,271],[250,271],[250,271],[450,490],[450,490],[450,490],[450,490],[450,490],[450,490],[450,490],[450,490],[450,490],[350,387],[350,387],[350,387],[350,387],[350,387],[550,594],[550,594],[550,594],[550,594],[550,594],[550,594],[550,594],[550,594],[550,594],[550,594],[550,594],[550,594],[550,594],[550,594],[550,594],[550,594],[550,594],[550,594],[550,594],[550,594],[550,594],[550,594],[550,594],[550,594],[550,594],[550,594],[150,165],[150,165],[150,165],[150,165],[150,165],[150,165],[150,165],[150,165],[150,165],[150,165],[150,165],[150,165],[150,165],[150,165],[650,698],[650,698],[650,698],[650,698],[650,698],[650,698],[650,698],[650,698],[650,698],[650,698],[50,63],[50,63],[50,63],[50,63],[50,63],[50,63],[50,63],[50,63],[50,63],[50,63],[50,63],[50,63],[50,63],[50,63],[50,63],[50,63],[50,63],[50,63],[50,63],[50,63],[50,63],[50,63],[50,63],[50,63],[50,63],[50,63],[50,63],[50,63],[50,63],[50,63],[50,63],[50,63],[50,63],[50,63],[50,63],[50,63],[50,63],[50,63],[50,63],[50,63],[50,63],[50,63],[50,63],[50,63],[50,63],[50,63],[50,63],[50,63],[50,63],[50,63],[50,63],[50,63],[50,63],[50,63],[50,63],[50,63],[50,63],[50,63],[50,63],[50,63],[50,63],[50,63],[50,63],[50,63],[50,63],[50,63],[50,63],[50,63],[50,63],[50,63],[50,63],[50,63],[50,63],[50,63],[50,63],[50,63],[50,63],[50,63],[50,63],[50,63],[550,595],[550,595],[550,595],[550,595],[550,595],[550,595],[550,595],[550,595],[550,595],[550,595],[550,595],[550,595],[550,595],[550,595],[550,595],[550,595],[550,595],[550,595],[550,595],[550,595],[550,595],[550,595],[550,595],[550,595],[250,276],[250,276],[250,276],[250,276],[250,276],[250,276],[350,378],[350,378],[350,378],[350,378],[350,378]]}},\"id\":\"f179f6a6-ee43-4c6b-b41f-eefd69045139\",\"type\":\"ColumnDataSource\"},{\"attributes\":{\"callback\":null,\"column_names\":[\"right\",\"bottom\",\"top\",\"left\"],\"data\":{\"bottom\":[745,745,745,745,745,745,745],\"left\":[135809835,135957574,136289083,136499189,136545415,136597196,136664254],\"right\":[135928279,136288182,136482839,136542633,136594750,136634047,136743222],\"top\":[775,775,775,775,775,775,775]}},\"id\":\"a30977fc-fb9e-4fcc-a607-bfdfa0fd0eac\",\"type\":\"ColumnDataSource\"},{\"attributes\":{\"bottom\":{\"field\":\"bottom\"},\"fill_color\":{\"value\":\"white\"},\"left\":{\"field\":\"left\"},\"right\":{\"field\":\"right\"},\"top\":{\"field\":\"top\"}},\"id\":\"09615025-0c0c-4807-bc18-e5d7eede2d01\",\"type\":\"Quad\"},{\"attributes\":{\"formatter\":{\"id\":\"c75ac906-1437-4d9d-973a-28cee92bb831\",\"type\":\"BasicTickFormatter\"},\"plot\":{\"id\":\"b5a6c926-e379-430a-8492-7fd81271dc09\",\"subtype\":\"Figure\",\"type\":\"Plot\"},\"ticker\":{\"id\":\"e9d3272d-f631-45b6-88db-c600d43f403b\",\"type\":\"BasicTicker\"}},\"id\":\"29bd7b04-2a2b-4cb8-8c08-2e4a6b7e225f\",\"type\":\"LinearAxis\"},{\"attributes\":{},\"id\":\"ee8c996f-5474-4579-9333-de169596a451\",\"type\":\"BasicTickFormatter\"},{\"attributes\":{\"plot\":{\"id\":\"b5a6c926-e379-430a-8492-7fd81271dc09\",\"subtype\":\"Figure\",\"type\":\"Plot\"}},\"id\":\"9150404b-b4bb-44bf-b1af-f719f5d27ab9\",\"type\":\"PanTool\"},{\"attributes\":{\"overlay\":{\"id\":\"6e562d73-2c64-49dc-ab2d-5e53f150a0e8\",\"type\":\"BoxAnnotation\"},\"plot\":{\"id\":\"b5a6c926-e379-430a-8492-7fd81271dc09\",\"subtype\":\"Figure\",\"type\":\"Plot\"}},\"id\":\"032df7fe-2f49-437e-88b5-b1a488c14f9f\",\"type\":\"BoxZoomTool\"},{\"attributes\":{\"line_color\":{\"field\":\"line_color\"},\"xs\":{\"field\":\"xs\"},\"ys\":{\"field\":\"ys\"}},\"id\":\"c0a20fc4-b622-4fb5-8eac-f8e231dbe593\",\"type\":\"MultiLine\"},{\"attributes\":{\"bottom_units\":\"screen\",\"fill_alpha\":{\"value\":0.5},\"fill_color\":{\"value\":\"lightgrey\"},\"left_units\":\"screen\",\"level\":\"overlay\",\"line_alpha\":{\"value\":1.0},\"line_color\":{\"value\":\"black\"},\"line_dash\":[4,4],\"line_width\":{\"value\":2},\"plot\":null,\"render_mode\":\"css\",\"right_units\":\"screen\",\"top_units\":\"screen\"},\"id\":\"6e562d73-2c64-49dc-ab2d-5e53f150a0e8\",\"type\":\"BoxAnnotation\"},{\"attributes\":{\"line_alpha\":{\"value\":0.1},\"line_color\":{\"value\":\"#1f77b4\"},\"xs\":{\"field\":\"xs\"},\"ys\":{\"field\":\"ys\"}},\"id\":\"bf0055c7-e9cd-4d6d-bf2a-8c2103bc13d2\",\"type\":\"MultiLine\"},{\"attributes\":{\"data_source\":{\"id\":\"a30977fc-fb9e-4fcc-a607-bfdfa0fd0eac\",\"type\":\"ColumnDataSource\"},\"glyph\":{\"id\":\"09615025-0c0c-4807-bc18-e5d7eede2d01\",\"type\":\"Quad\"},\"hover_glyph\":null,\"nonselection_glyph\":{\"id\":\"3f9c4313-c871-465f-96f3-efadf8dc1de6\",\"type\":\"Quad\"},\"selection_glyph\":null},\"id\":\"60138e24-c5d8-4cb7-a910-2d19e48b0f34\",\"type\":\"GlyphRenderer\"},{\"attributes\":{\"level\":\"glyph\",\"plot\":{\"id\":\"b5a6c926-e379-430a-8492-7fd81271dc09\",\"subtype\":\"Figure\",\"type\":\"Plot\"},\"source\":{\"id\":\"7366012d-a03f-494f-ac06-010f898f3577\",\"type\":\"ColumnDataSource\"},\"text\":{\"field\":\"vals\"},\"text_font_size\":{\"value\":\"9pt\"},\"text_font_style\":\"bold\",\"x\":{\"field\":\"x\"},\"y\":{\"field\":\"y\"}},\"id\":\"faac1188-b193-4722-b86d-c14e70832f19\",\"type\":\"LabelSet\"},{\"attributes\":{\"level\":\"glyph\",\"plot\":{\"id\":\"b5a6c926-e379-430a-8492-7fd81271dc09\",\"subtype\":\"Figure\",\"type\":\"Plot\"},\"source\":{\"id\":\"5453342d-d50a-47e9-b626-c8484add2bb5\",\"type\":\"ColumnDataSource\"},\"text\":{\"field\":\"vals\"},\"text_align\":\"center\",\"text_baseline\":\"middle\",\"text_font_size\":{\"value\":\"8pt\"},\"x\":{\"field\":\"x\"},\"y\":{\"field\":\"y\"}},\"id\":\"de6cbdc3-eebd-44d6-bf52-94a94fd67cb3\",\"type\":\"LabelSet\"},{\"attributes\":{\"formatter\":{\"id\":\"ee8c996f-5474-4579-9333-de169596a451\",\"type\":\"BasicTickFormatter\"},\"plot\":{\"id\":\"b5a6c926-e379-430a-8492-7fd81271dc09\",\"subtype\":\"Figure\",\"type\":\"Plot\"},\"ticker\":{\"id\":\"3afacef0-d945-44ca-9b1e-699e289cfffa\",\"type\":\"BasicTicker\"},\"visible\":null},\"id\":\"0c8b225b-afb1-4e7e-b097-074e9e13b9fd\",\"type\":\"LinearAxis\"},{\"attributes\":{\"active_drag\":\"auto\",\"active_scroll\":\"auto\",\"active_tap\":\"auto\",\"tools\":[{\"id\":\"9150404b-b4bb-44bf-b1af-f719f5d27ab9\",\"type\":\"PanTool\"},{\"id\":\"962020e7-d1cf-4fbb-be45-47ceddd9e50a\",\"type\":\"WheelZoomTool\"},{\"id\":\"032df7fe-2f49-437e-88b5-b1a488c14f9f\",\"type\":\"BoxZoomTool\"},{\"id\":\"a5925db0-1ca0-4cbc-87d1-7f47faf17131\",\"type\":\"SaveTool\"},{\"id\":\"dbad64d4-13e7-47fd-9c8c-135c9cf74775\",\"type\":\"ResetTool\"},{\"id\":\"a8e3d381-6805-4300-b6ab-4d1abe8ddf1f\",\"type\":\"HelpTool\"}]},\"id\":\"24dcafa3-8efa-40c8-804b-e886beea89af\",\"type\":\"Toolbar\"},{\"attributes\":{},\"id\":\"e9d3272d-f631-45b6-88db-c600d43f403b\",\"type\":\"BasicTicker\"},{\"attributes\":{\"callback\":null,\"column_names\":[\"y\",\"x\",\"vals\"],\"data\":{\"vals\":[\"RAB3GAP1\",\"ZRANB3\",\"R3HDM1\",\"UBXN4\",\"LCT\",\"MCM6\",\"DARS\"],\"x\":[135869057.0,136122878.0,136385961.0,136520911.0,136570082.5,136615621.5,136703738.0],\"y\":[760.0,760.0,760.0,760.0,760.0,760.0,760.0]}},\"id\":\"5453342d-d50a-47e9-b626-c8484add2bb5\",\"type\":\"ColumnDataSource\"},{\"attributes\":{\"plot\":{\"id\":\"b5a6c926-e379-430a-8492-7fd81271dc09\",\"subtype\":\"Figure\",\"type\":\"Plot\"}},\"id\":\"a5925db0-1ca0-4cbc-87d1-7f47faf17131\",\"type\":\"SaveTool\"},{\"attributes\":{},\"id\":\"26aec7cc-e5ab-4126-b2c6-0858c82ade83\",\"type\":\"ToolEvents\"},{\"attributes\":{\"callback\":null,\"end\":800},\"id\":\"9d617fa3-d414-4292-8fa5-432b108bdca5\",\"type\":\"Range1d\"},{\"attributes\":{\"below\":[{\"id\":\"29bd7b04-2a2b-4cb8-8c08-2e4a6b7e225f\",\"type\":\"LinearAxis\"}],\"left\":[{\"id\":\"0c8b225b-afb1-4e7e-b097-074e9e13b9fd\",\"type\":\"LinearAxis\"}],\"plot_height\":800,\"plot_width\":900,\"renderers\":[{\"id\":\"29bd7b04-2a2b-4cb8-8c08-2e4a6b7e225f\",\"type\":\"LinearAxis\"},{\"id\":\"b2921ecc-be56-4f19-8e01-3c59d6c8a423\",\"type\":\"Grid\"},{\"id\":\"0c8b225b-afb1-4e7e-b097-074e9e13b9fd\",\"type\":\"LinearAxis\"},{\"id\":\"7fc6a31a-26b4-493a-a3f9-98a9247e951d\",\"type\":\"Grid\"},{\"id\":\"6e562d73-2c64-49dc-ab2d-5e53f150a0e8\",\"type\":\"BoxAnnotation\"},{\"id\":\"2e7109f2-4a6d-40a4-8649-2410e7ed538c\",\"type\":\"GlyphRenderer\"},{\"id\":\"47540ca4-222b-4dac-bde6-63aba5097bbf\",\"type\":\"GlyphRenderer\"},{\"id\":\"faac1188-b193-4722-b86d-c14e70832f19\",\"type\":\"LabelSet\"},{\"id\":\"60138e24-c5d8-4cb7-a910-2d19e48b0f34\",\"type\":\"GlyphRenderer\"},{\"id\":\"de6cbdc3-eebd-44d6-bf52-94a94fd67cb3\",\"type\":\"LabelSet\"}],\"title\":{\"id\":\"14ff1c7a-2cce-42bc-9318-f9b7b9aacbee\",\"type\":\"Title\"},\"tool_events\":{\"id\":\"26aec7cc-e5ab-4126-b2c6-0858c82ade83\",\"type\":\"ToolEvents\"},\"toolbar\":{\"id\":\"24dcafa3-8efa-40c8-804b-e886beea89af\",\"type\":\"Toolbar\"},\"toolbar_location\":null,\"x_range\":{\"id\":\"9696511b-d9ef-4647-9834-5feae64e8fc0\",\"type\":\"Range1d\"},\"y_range\":{\"id\":\"9d617fa3-d414-4292-8fa5-432b108bdca5\",\"type\":\"Range1d\"}},\"id\":\"b5a6c926-e379-430a-8492-7fd81271dc09\",\"subtype\":\"Figure\",\"type\":\"Plot\"},{\"attributes\":{},\"id\":\"3afacef0-d945-44ca-9b1e-699e289cfffa\",\"type\":\"BasicTicker\"},{\"attributes\":{\"callback\":null,\"column_names\":[\"y\",\"x\",\"vals\"],\"data\":{\"vals\":[\"117_1685\",\"62_1265\",\"209_56\",\"10_43\",\"9_545\",\"123_1561\",\"5_96\",\"9_887\",\"5_588\",\"26_1414\",\"14_48\",\"10_2206\",\"80_38\",\"24_1504\",\"6_167\",\"5_212\"],\"x\":[135758231,135766890,135769240,135809270,135810535,135933921,135946660,136309239,136364916,136398174,136428402,136501840,136652918,136653925,136658238,136704466],\"y\":[701.0,498.0,171.0,69.0,391.0,600.0,276.0,495.0,392.0,599.0,170.0,703.0,68.0,600.0,281.0,383.0]}},\"id\":\"7366012d-a03f-494f-ac06-010f898f3577\",\"type\":\"ColumnDataSource\"},{\"attributes\":{\"bottom\":{\"field\":\"bottom\"},\"fill_color\":{\"field\":\"fill_color\"},\"left\":{\"field\":\"left\"},\"line_color\":{\"value\":null},\"right\":{\"field\":\"right\"},\"top\":{\"field\":\"top\"}},\"id\":\"54ab9fc6-843a-421d-879e-687177c64eb3\",\"type\":\"Quad\"}],\"root_ids\":[\"b5a6c926-e379-430a-8492-7fd81271dc09\"]},\"title\":\"Bokeh Application\",\"version\":\"0.12.0\"}};\n",
       "            var render_items = [{\"docid\":\"94c7bcc5-6a63-47cb-8b92-c75145265673\",\"elementid\":\"81de88c3-965a-4cb7-840b-a005353b74d1\",\"modelid\":\"b5a6c926-e379-430a-8492-7fd81271dc09\",\"notebook_comms_target\":\"979381e6-be7c-4cf4-84ab-e657a7800f29\"}];\n",
       "            \n",
       "            Bokeh.embed.embed_items(docs_json, render_items);\n",
       "        });\n",
       "      },\n",
       "      function(Bokeh) {\n",
       "      }\n",
       "    ];\n",
       "  \n",
       "    function run_inline_js() {\n",
       "      for (var i = 0; i < inline_js.length; i++) {\n",
       "        inline_js[i](window.Bokeh);\n",
       "      }\n",
       "    }\n",
       "  \n",
       "    if (window._bokeh_is_loading === 0) {\n",
       "      console.log(\"Bokeh: BokehJS loaded, going straight to plotting\");\n",
       "      run_inline_js();\n",
       "    } else {\n",
       "      load_libs(js_urls, function() {\n",
       "        console.log(\"Bokeh: BokehJS plotting callback run at\", now());\n",
       "        run_inline_js();\n",
       "      });\n",
       "    }\n",
       "  }(this));\n",
       "</script>"
      ]
     },
     "metadata": {},
     "output_type": "display_data"
    },
    {
     "data": {
      "text/html": [
       "<p><code>&lt;Bokeh Notebook handle for <strong>In[3]</strong>&gt;</code></p>"
      ],
      "text/plain": [
       "<bokeh.io._CommsHandle at 0x7f950bf24a90>"
      ]
     },
     "execution_count": 3,
     "metadata": {},
     "output_type": "execute_result"
    }
   ],
   "source": [
    "plt_obj = dm.superset_yes_no([dm.di_209_56], min_match=0.5)\n",
    "plt = plt_obj.do_plot()\n",
    "show(plt)"
   ]
  },
  {
   "cell_type": "code",
   "execution_count": 4,
   "metadata": {
    "collapsed": false
   },
   "outputs": [
    {
     "data": {
      "text/html": [
       "<table>\n",
       "<thead><tr><th style=\"text-align:center\">index</th><th style=\"text-align:center\">first</th><th style=\"text-align:center\">length</th><th style=\"text-align:center\">snps</th><th style=\"text-align:center\" colspan=2>alleles</th><th style=\"text-align:center\" colspan=2>matches</th><th style=\"text-align:center\" colspan=2>afr</th><th style=\"text-align:center\" colspan=2>afx</th><th style=\"text-align:center\" colspan=2>amr</th><th style=\"text-align:center\" colspan=2>eas</th><th style=\"text-align:center\" colspan=2>eur</th><th style=\"text-align:center\" colspan=2>sas</th><th style=\"text-align:center\" colspan=2>sax</th></tr></thead>\n",
       "<tr class=\"even\"><td style=\"text-align: right;\">353921</td><td style=\"text-align: right;\">136,501,840</td><td style=\"text-align: right;\">53,819</td><td style=\"text-align: right;\">10</td><td style=\"text-align: right;\">2206</td><td style=\"text-align: right;\">0.02</td><td style=\"text-align: right;\">51</td><td style=\"text-align: right;\">0.91</td><td style=\"text-align: right;\">36</td><td style=\"text-align: right;\">3.51</td><td style=\"text-align: right;\">10</td><td style=\"text-align: right;\">3.13</td><td style=\"text-align: right;\">5</td><td style=\"text-align: right;\">0.71</td><td style=\"text-align: right;\">0</td><td style=\"text-align: right;\">0.00</td><td style=\"text-align: right;\">0</td><td style=\"text-align: right;\">0.00</td><td style=\"text-align: right;\">0</td><td style=\"text-align: right;\">0.00</td><td style=\"text-align: right;\">0</td><td style=\"text-align: right;\">0.00</td></tr>\n",
       "<tr><td style=\"text-align: right;\">353244</td><td style=\"text-align: right;\">135,758,231</td><td style=\"text-align: right;\">618,284</td><td style=\"text-align: right;\">117</td><td style=\"text-align: right;\">1685</td><td style=\"text-align: right;\">0.03</td><td style=\"text-align: right;\">56</td><td style=\"text-align: right;\">1.00</td><td style=\"text-align: right;\">40</td><td style=\"text-align: right;\">3.55</td><td style=\"text-align: right;\">11</td><td style=\"text-align: right;\">3.13</td><td style=\"text-align: right;\">5</td><td style=\"text-align: right;\">0.64</td><td style=\"text-align: right;\">0</td><td style=\"text-align: right;\">0.00</td><td style=\"text-align: right;\">0</td><td style=\"text-align: right;\">0.00</td><td style=\"text-align: right;\">0</td><td style=\"text-align: right;\">0.00</td><td style=\"text-align: right;\">0</td><td style=\"text-align: right;\">0.00</td></tr>\n",
       "<tr class=\"even\"><td style=\"text-align: right;\">353478</td><td style=\"text-align: right;\">135,933,921</td><td style=\"text-align: right;\">434,642</td><td style=\"text-align: right;\">123</td><td style=\"text-align: right;\">1561</td><td style=\"text-align: right;\">0.04</td><td style=\"text-align: right;\">56</td><td style=\"text-align: right;\">1.00</td><td style=\"text-align: right;\">40</td><td style=\"text-align: right;\">3.55</td><td style=\"text-align: right;\">11</td><td style=\"text-align: right;\">3.13</td><td style=\"text-align: right;\">5</td><td style=\"text-align: right;\">0.64</td><td style=\"text-align: right;\">0</td><td style=\"text-align: right;\">0.00</td><td style=\"text-align: right;\">0</td><td style=\"text-align: right;\">0.00</td><td style=\"text-align: right;\">0</td><td style=\"text-align: right;\">0.00</td><td style=\"text-align: right;\">0</td><td style=\"text-align: right;\">0.00</td></tr>\n",
       "<tr><td style=\"text-align: right;\">354130</td><td style=\"text-align: right;\">136,653,925</td><td style=\"text-align: right;\">107,928</td><td style=\"text-align: right;\">24</td><td style=\"text-align: right;\">1504</td><td style=\"text-align: right;\">0.02</td><td style=\"text-align: right;\">37</td><td style=\"text-align: right;\">0.66</td><td style=\"text-align: right;\">26</td><td style=\"text-align: right;\">3.49</td><td style=\"text-align: right;\">6</td><td style=\"text-align: right;\">2.59</td><td style=\"text-align: right;\">5</td><td style=\"text-align: right;\">0.98</td><td style=\"text-align: right;\">0</td><td style=\"text-align: right;\">0.00</td><td style=\"text-align: right;\">0</td><td style=\"text-align: right;\">0.00</td><td style=\"text-align: right;\">0</td><td style=\"text-align: right;\">0.00</td><td style=\"text-align: right;\">0</td><td style=\"text-align: right;\">0.00</td></tr>\n",
       "<tr class=\"even\"><td style=\"text-align: right;\">353797</td><td style=\"text-align: right;\">136,398,174</td><td style=\"text-align: right;\">75,924</td><td style=\"text-align: right;\">26</td><td style=\"text-align: right;\">1414</td><td style=\"text-align: right;\">0.04</td><td style=\"text-align: right;\">51</td><td style=\"text-align: right;\">0.91</td><td style=\"text-align: right;\">37</td><td style=\"text-align: right;\">3.60</td><td style=\"text-align: right;\">10</td><td style=\"text-align: right;\">3.13</td><td style=\"text-align: right;\">4</td><td style=\"text-align: right;\">0.57</td><td style=\"text-align: right;\">0</td><td style=\"text-align: right;\">0.00</td><td style=\"text-align: right;\">0</td><td style=\"text-align: right;\">0.00</td><td style=\"text-align: right;\">0</td><td style=\"text-align: right;\">0.00</td><td style=\"text-align: right;\">0</td><td style=\"text-align: right;\">0.00</td></tr>\n",
       "<tr><td style=\"text-align: right;\">353269</td><td style=\"text-align: right;\">135,766,890</td><td style=\"text-align: right;\">509,095</td><td style=\"text-align: right;\">62</td><td style=\"text-align: right;\">1265</td><td style=\"text-align: right;\">0.04</td><td style=\"text-align: right;\">56</td><td style=\"text-align: right;\">1.00</td><td style=\"text-align: right;\">40</td><td style=\"text-align: right;\">3.55</td><td style=\"text-align: right;\">11</td><td style=\"text-align: right;\">3.13</td><td style=\"text-align: right;\">5</td><td style=\"text-align: right;\">0.64</td><td style=\"text-align: right;\">0</td><td style=\"text-align: right;\">0.00</td><td style=\"text-align: right;\">0</td><td style=\"text-align: right;\">0.00</td><td style=\"text-align: right;\">0</td><td style=\"text-align: right;\">0.00</td><td style=\"text-align: right;\">0</td><td style=\"text-align: right;\">0.00</td></tr>\n",
       "<tr class=\"even\"><td style=\"text-align: right;\">353729</td><td style=\"text-align: right;\">136,309,239</td><td style=\"text-align: right;\">52,321</td><td style=\"text-align: right;\">9</td><td style=\"text-align: right;\">887</td><td style=\"text-align: right;\">0.06</td><td style=\"text-align: right;\">56</td><td style=\"text-align: right;\">1.00</td><td style=\"text-align: right;\">40</td><td style=\"text-align: right;\">3.55</td><td style=\"text-align: right;\">11</td><td style=\"text-align: right;\">3.13</td><td style=\"text-align: right;\">5</td><td style=\"text-align: right;\">0.64</td><td style=\"text-align: right;\">0</td><td style=\"text-align: right;\">0.00</td><td style=\"text-align: right;\">0</td><td style=\"text-align: right;\">0.00</td><td style=\"text-align: right;\">0</td><td style=\"text-align: right;\">0.00</td><td style=\"text-align: right;\">0</td><td style=\"text-align: right;\">0.00</td></tr>\n",
       "<tr><td style=\"text-align: right;\">353764</td><td style=\"text-align: right;\">136,364,916</td><td style=\"text-align: right;\">22,977</td><td style=\"text-align: right;\">5</td><td style=\"text-align: right;\">588</td><td style=\"text-align: right;\">0.10</td><td style=\"text-align: right;\">56</td><td style=\"text-align: right;\">1.00</td><td style=\"text-align: right;\">40</td><td style=\"text-align: right;\">3.55</td><td style=\"text-align: right;\">11</td><td style=\"text-align: right;\">3.13</td><td style=\"text-align: right;\">5</td><td style=\"text-align: right;\">0.64</td><td style=\"text-align: right;\">0</td><td style=\"text-align: right;\">0.00</td><td style=\"text-align: right;\">0</td><td style=\"text-align: right;\">0.00</td><td style=\"text-align: right;\">0</td><td style=\"text-align: right;\">0.00</td><td style=\"text-align: right;\">0</td><td style=\"text-align: right;\">0.00</td></tr>\n",
       "<tr class=\"even\"><td style=\"text-align: right;\">353349</td><td style=\"text-align: right;\">135,810,535</td><td style=\"text-align: right;\">87,488</td><td style=\"text-align: right;\">9</td><td style=\"text-align: right;\">545</td><td style=\"text-align: right;\">0.10</td><td style=\"text-align: right;\">56</td><td style=\"text-align: right;\">1.00</td><td style=\"text-align: right;\">40</td><td style=\"text-align: right;\">3.55</td><td style=\"text-align: right;\">11</td><td style=\"text-align: right;\">3.13</td><td style=\"text-align: right;\">5</td><td style=\"text-align: right;\">0.64</td><td style=\"text-align: right;\">0</td><td style=\"text-align: right;\">0.00</td><td style=\"text-align: right;\">0</td><td style=\"text-align: right;\">0.00</td><td style=\"text-align: right;\">0</td><td style=\"text-align: right;\">0.00</td><td style=\"text-align: right;\">0</td><td style=\"text-align: right;\">0.00</td></tr>\n",
       "<tr><td style=\"text-align: right;\">354189</td><td style=\"text-align: right;\">136,704,466</td><td style=\"text-align: right;\">27,748</td><td style=\"text-align: right;\">5</td><td style=\"text-align: right;\">212</td><td style=\"text-align: right;\">0.17</td><td style=\"text-align: right;\">36</td><td style=\"text-align: right;\">0.64</td><td style=\"text-align: right;\">26</td><td style=\"text-align: right;\">3.59</td><td style=\"text-align: right;\">6</td><td style=\"text-align: right;\">2.66</td><td style=\"text-align: right;\">4</td><td style=\"text-align: right;\">0.80</td><td style=\"text-align: right;\">0</td><td style=\"text-align: right;\">0.00</td><td style=\"text-align: right;\">0</td><td style=\"text-align: right;\">0.00</td><td style=\"text-align: right;\">0</td><td style=\"text-align: right;\">0.00</td><td style=\"text-align: right;\">0</td><td style=\"text-align: right;\">0.00</td></tr>\n",
       "<tr class=\"even\"><td style=\"text-align: right;\">354143</td><td style=\"text-align: right;\">136,658,238</td><td style=\"text-align: right;\">19,681</td><td style=\"text-align: right;\">6</td><td style=\"text-align: right;\">167</td><td style=\"text-align: right;\">0.22</td><td style=\"text-align: right;\">36</td><td style=\"text-align: right;\">0.64</td><td style=\"text-align: right;\">26</td><td style=\"text-align: right;\">3.59</td><td style=\"text-align: right;\">6</td><td style=\"text-align: right;\">2.66</td><td style=\"text-align: right;\">4</td><td style=\"text-align: right;\">0.80</td><td style=\"text-align: right;\">0</td><td style=\"text-align: right;\">0.00</td><td style=\"text-align: right;\">0</td><td style=\"text-align: right;\">0.00</td><td style=\"text-align: right;\">0</td><td style=\"text-align: right;\">0.00</td><td style=\"text-align: right;\">0</td><td style=\"text-align: right;\">0.00</td></tr>\n",
       "<tr><td style=\"text-align: right;\">353486</td><td style=\"text-align: right;\">135,946,660</td><td style=\"text-align: right;\">156,668</td><td style=\"text-align: right;\">5</td><td style=\"text-align: right;\">96</td><td style=\"text-align: right;\">0.58</td><td style=\"text-align: right;\">56</td><td style=\"text-align: right;\">1.00</td><td style=\"text-align: right;\">40</td><td style=\"text-align: right;\">3.55</td><td style=\"text-align: right;\">11</td><td style=\"text-align: right;\">3.13</td><td style=\"text-align: right;\">5</td><td style=\"text-align: right;\">0.64</td><td style=\"text-align: right;\">0</td><td style=\"text-align: right;\">0.00</td><td style=\"text-align: right;\">0</td><td style=\"text-align: right;\">0.00</td><td style=\"text-align: right;\">0</td><td style=\"text-align: right;\">0.00</td><td style=\"text-align: right;\">0</td><td style=\"text-align: right;\">0.00</td></tr>\n",
       "<tr class=\"even\"><td style=\"text-align: right;\">353276</td><td style=\"text-align: right;\">135,769,240</td><td style=\"text-align: right;\">617,518</td><td style=\"text-align: right;\">209</td><td style=\"text-align: right;\">56</td><td style=\"text-align: right;\">1.00</td><td style=\"text-align: right;\">56</td><td style=\"text-align: right;\">1.00</td><td style=\"text-align: right;\">40</td><td style=\"text-align: right;\">3.55</td><td style=\"text-align: right;\">11</td><td style=\"text-align: right;\">3.13</td><td style=\"text-align: right;\">5</td><td style=\"text-align: right;\">0.64</td><td style=\"text-align: right;\">0</td><td style=\"text-align: right;\">0.00</td><td style=\"text-align: right;\">0</td><td style=\"text-align: right;\">0.00</td><td style=\"text-align: right;\">0</td><td style=\"text-align: right;\">0.00</td><td style=\"text-align: right;\">0</td><td style=\"text-align: right;\">0.00</td></tr>\n",
       "<tr><td style=\"text-align: right;\">353833</td><td style=\"text-align: right;\">136,428,402</td><td style=\"text-align: right;\">221,239</td><td style=\"text-align: right;\">14</td><td style=\"text-align: right;\">48</td><td style=\"text-align: right;\">0.96</td><td style=\"text-align: right;\">46</td><td style=\"text-align: right;\">0.82</td><td style=\"text-align: right;\">33</td><td style=\"text-align: right;\">3.56</td><td style=\"text-align: right;\">9</td><td style=\"text-align: right;\">3.12</td><td style=\"text-align: right;\">4</td><td style=\"text-align: right;\">0.63</td><td style=\"text-align: right;\">0</td><td style=\"text-align: right;\">0.00</td><td style=\"text-align: right;\">0</td><td style=\"text-align: right;\">0.00</td><td style=\"text-align: right;\">0</td><td style=\"text-align: right;\">0.00</td><td style=\"text-align: right;\">0</td><td style=\"text-align: right;\">0.00</td></tr>\n",
       "<tr class=\"even\"><td style=\"text-align: right;\">353347</td><td style=\"text-align: right;\">135,809,270</td><td style=\"text-align: right;\">491,372</td><td style=\"text-align: right;\">10</td><td style=\"text-align: right;\">43</td><td style=\"text-align: right;\">1.00</td><td style=\"text-align: right;\">43</td><td style=\"text-align: right;\">0.77</td><td style=\"text-align: right;\">31</td><td style=\"text-align: right;\">3.58</td><td style=\"text-align: right;\">8</td><td style=\"text-align: right;\">2.97</td><td style=\"text-align: right;\">4</td><td style=\"text-align: right;\">0.67</td><td style=\"text-align: right;\">0</td><td style=\"text-align: right;\">0.00</td><td style=\"text-align: right;\">0</td><td style=\"text-align: right;\">0.00</td><td style=\"text-align: right;\">0</td><td style=\"text-align: right;\">0.00</td><td style=\"text-align: right;\">0</td><td style=\"text-align: right;\">0.00</td></tr>\n",
       "<tr><td style=\"text-align: right;\">354128</td><td style=\"text-align: right;\">136,652,918</td><td style=\"text-align: right;\">133,712</td><td style=\"text-align: right;\">80</td><td style=\"text-align: right;\">38</td><td style=\"text-align: right;\">0.95</td><td style=\"text-align: right;\">36</td><td style=\"text-align: right;\">0.64</td><td style=\"text-align: right;\">26</td><td style=\"text-align: right;\">3.59</td><td style=\"text-align: right;\">6</td><td style=\"text-align: right;\">2.66</td><td style=\"text-align: right;\">4</td><td style=\"text-align: right;\">0.80</td><td style=\"text-align: right;\">0</td><td style=\"text-align: right;\">0.00</td><td style=\"text-align: right;\">0</td><td style=\"text-align: right;\">0.00</td><td style=\"text-align: right;\">0</td><td style=\"text-align: right;\">0.00</td><td style=\"text-align: right;\">0</td><td style=\"text-align: right;\">0.00</td></tr>\n",
       "</table>"
      ],
      "text/plain": [
       "<IPython.core.display.HTML object>"
      ]
     },
     "execution_count": 4,
     "metadata": {},
     "output_type": "execute_result"
    }
   ],
   "source": [
    "HTML(plt_obj.get_html())"
   ]
  },
  {
   "cell_type": "code",
   "execution_count": 5,
   "metadata": {
    "collapsed": false
   },
   "outputs": [
    {
     "data": {
      "text/html": [
       "\n",
       "\n",
       "    <div class=\"bk-root\">\n",
       "        <div class=\"plotdiv\" id=\"913f4328-79d2-4560-8d43-20a08d45308e\"></div>\n",
       "    </div>\n",
       "<script type=\"text/javascript\">\n",
       "  \n",
       "  (function(global) {\n",
       "    function now() {\n",
       "      return new Date();\n",
       "    }\n",
       "  \n",
       "    if (typeof (window._bokeh_onload_callbacks) === \"undefined\") {\n",
       "      window._bokeh_onload_callbacks = [];\n",
       "    }\n",
       "  \n",
       "    function run_callbacks() {\n",
       "      window._bokeh_onload_callbacks.forEach(function(callback) { callback() });\n",
       "      delete window._bokeh_onload_callbacks\n",
       "      console.info(\"Bokeh: all callbacks have finished\");\n",
       "    }\n",
       "  \n",
       "    function load_libs(js_urls, callback) {\n",
       "      window._bokeh_onload_callbacks.push(callback);\n",
       "      if (window._bokeh_is_loading > 0) {\n",
       "        console.log(\"Bokeh: BokehJS is being loaded, scheduling callback at\", now());\n",
       "        return null;\n",
       "      }\n",
       "      if (js_urls == null || js_urls.length === 0) {\n",
       "        run_callbacks();\n",
       "        return null;\n",
       "      }\n",
       "      console.log(\"Bokeh: BokehJS not loaded, scheduling load and callback at\", now());\n",
       "      window._bokeh_is_loading = js_urls.length;\n",
       "      for (var i = 0; i < js_urls.length; i++) {\n",
       "        var url = js_urls[i];\n",
       "        var s = document.createElement('script');\n",
       "        s.src = url;\n",
       "        s.async = false;\n",
       "        s.onreadystatechange = s.onload = function() {\n",
       "          window._bokeh_is_loading--;\n",
       "          if (window._bokeh_is_loading === 0) {\n",
       "            console.log(\"Bokeh: all BokehJS libraries loaded\");\n",
       "            run_callbacks()\n",
       "          }\n",
       "        };\n",
       "        s.onerror = function() {\n",
       "          console.warn(\"failed to load library \" + url);\n",
       "        };\n",
       "        console.log(\"Bokeh: injecting script tag for BokehJS library: \", url);\n",
       "        document.getElementsByTagName(\"head\")[0].appendChild(s);\n",
       "      }\n",
       "    };var element = document.getElementById(\"913f4328-79d2-4560-8d43-20a08d45308e\");\n",
       "    if (element == null) {\n",
       "      console.log(\"Bokeh: ERROR: autoload.js configured with elementid '913f4328-79d2-4560-8d43-20a08d45308e' but no matching script tag was found. \")\n",
       "      return false;\n",
       "    }\n",
       "  \n",
       "    var js_urls = [];\n",
       "  \n",
       "    var inline_js = [\n",
       "      function(Bokeh) {\n",
       "        Bokeh.$(function() {\n",
       "            var docs_json = {\"aa65424c-a407-45da-9d09-7122be08eee5\":{\"roots\":{\"references\":[{\"attributes\":{\"bottom_units\":\"screen\",\"fill_alpha\":{\"value\":0.5},\"fill_color\":{\"value\":\"lightgrey\"},\"left_units\":\"screen\",\"level\":\"overlay\",\"line_alpha\":{\"value\":1.0},\"line_color\":{\"value\":\"black\"},\"line_dash\":[4,4],\"line_width\":{\"value\":2},\"plot\":null,\"render_mode\":\"css\",\"right_units\":\"screen\",\"top_units\":\"screen\"},\"id\":\"546a49d3-915a-478e-9076-6f20f30d6b7f\",\"type\":\"BoxAnnotation\"},{\"attributes\":{\"callback\":null,\"end\":5388.900000000001},\"id\":\"91d4172c-5d16-49f4-8c3e-05d5e2d34362\",\"type\":\"Range1d\"},{\"attributes\":{\"plot\":{\"id\":\"0ba5f960-5f92-4bc8-8d9c-697f91bb60fc\",\"subtype\":\"Figure\",\"type\":\"Plot\"}},\"id\":\"757356a9-ca0f-4932-9a95-593d794ef47f\",\"type\":\"ResetTool\"},{\"attributes\":{\"plot\":{\"id\":\"0ba5f960-5f92-4bc8-8d9c-697f91bb60fc\",\"subtype\":\"Figure\",\"type\":\"Plot\"}},\"id\":\"4dba7961-b18b-4980-9ad1-fec8cefb47da\",\"type\":\"WheelZoomTool\"},{\"attributes\":{\"data_source\":{\"id\":\"c6ecc14e-a6d5-4e62-91b8-b1a129214236\",\"type\":\"ColumnDataSource\"},\"glyph\":{\"id\":\"68a6f524-46a0-4b9f-9b3b-d08956aaa6d2\",\"type\":\"Line\"},\"hover_glyph\":null,\"nonselection_glyph\":{\"id\":\"539de7a3-3949-4676-b9be-6dc0d544dbf5\",\"type\":\"Line\"},\"selection_glyph\":null},\"id\":\"974b7c4f-d9e1-4b89-a72d-0d79abc161a5\",\"type\":\"GlyphRenderer\"},{\"attributes\":{\"formatter\":{\"id\":\"49414ad9-cb6a-4f16-91b1-dddab1db9125\",\"type\":\"BasicTickFormatter\"},\"plot\":{\"id\":\"0ba5f960-5f92-4bc8-8d9c-697f91bb60fc\",\"subtype\":\"Figure\",\"type\":\"Plot\"},\"ticker\":{\"id\":\"3557ac62-8194-4218-b91c-4f8e909627d3\",\"type\":\"BasicTicker\"}},\"id\":\"c1d7c27a-9249-4b47-8768-78cb95458dfc\",\"type\":\"LinearAxis\"},{\"attributes\":{\"plot\":null,\"text\":null},\"id\":\"8fe66437-cd5f-420f-b68f-f7aefeee57a5\",\"type\":\"Title\"},{\"attributes\":{},\"id\":\"135e7aaf-4290-4784-b6e3-297f7000153c\",\"type\":\"ToolEvents\"},{\"attributes\":{\"plot\":{\"id\":\"0ba5f960-5f92-4bc8-8d9c-697f91bb60fc\",\"subtype\":\"Figure\",\"type\":\"Plot\"}},\"id\":\"ea185d71-437d-4a4d-a731-5b9c1a7c6a73\",\"type\":\"HelpTool\"},{\"attributes\":{},\"id\":\"49414ad9-cb6a-4f16-91b1-dddab1db9125\",\"type\":\"BasicTickFormatter\"},{\"attributes\":{\"line_color\":{\"value\":\"#1f77b4\"},\"x\":{\"field\":\"x\"},\"y\":{\"field\":\"y\"}},\"id\":\"68a6f524-46a0-4b9f-9b3b-d08956aaa6d2\",\"type\":\"Line\"},{\"attributes\":{\"below\":[{\"id\":\"99841a0d-72ed-481d-871d-4891f36e92df\",\"type\":\"LinearAxis\"}],\"left\":[{\"id\":\"c1d7c27a-9249-4b47-8768-78cb95458dfc\",\"type\":\"LinearAxis\"}],\"plot_height\":400,\"plot_width\":900,\"renderers\":[{\"id\":\"99841a0d-72ed-481d-871d-4891f36e92df\",\"type\":\"LinearAxis\"},{\"id\":\"b2a1812f-13de-4d14-98fc-781a26ae8207\",\"type\":\"Grid\"},{\"id\":\"c1d7c27a-9249-4b47-8768-78cb95458dfc\",\"type\":\"LinearAxis\"},{\"id\":\"a4c634c2-5f2e-4c76-8308-3b41839c54ae\",\"type\":\"Grid\"},{\"id\":\"546a49d3-915a-478e-9076-6f20f30d6b7f\",\"type\":\"BoxAnnotation\"},{\"id\":\"974b7c4f-d9e1-4b89-a72d-0d79abc161a5\",\"type\":\"GlyphRenderer\"}],\"title\":{\"id\":\"8fe66437-cd5f-420f-b68f-f7aefeee57a5\",\"type\":\"Title\"},\"tool_events\":{\"id\":\"135e7aaf-4290-4784-b6e3-297f7000153c\",\"type\":\"ToolEvents\"},\"toolbar\":{\"id\":\"3d9a3560-3b7b-495f-a505-025885de1509\",\"type\":\"Toolbar\"},\"toolbar_location\":null,\"x_range\":{\"id\":\"6c1c6f34-d498-4ac1-8988-a7d7f8ac4e3e\",\"type\":\"Range1d\"},\"y_range\":{\"id\":\"91d4172c-5d16-49f4-8c3e-05d5e2d34362\",\"type\":\"Range1d\"}},\"id\":\"0ba5f960-5f92-4bc8-8d9c-697f91bb60fc\",\"subtype\":\"Figure\",\"type\":\"Plot\"},{\"attributes\":{},\"id\":\"01d9abf9-0bfa-4321-8f94-a3ef00e8d12f\",\"type\":\"BasicTicker\"},{\"attributes\":{},\"id\":\"a6593673-005f-4689-a329-bdd843341741\",\"type\":\"BasicTickFormatter\"},{\"attributes\":{\"formatter\":{\"id\":\"a6593673-005f-4689-a329-bdd843341741\",\"type\":\"BasicTickFormatter\"},\"plot\":{\"id\":\"0ba5f960-5f92-4bc8-8d9c-697f91bb60fc\",\"subtype\":\"Figure\",\"type\":\"Plot\"},\"ticker\":{\"id\":\"01d9abf9-0bfa-4321-8f94-a3ef00e8d12f\",\"type\":\"BasicTicker\"}},\"id\":\"99841a0d-72ed-481d-871d-4891f36e92df\",\"type\":\"LinearAxis\"},{\"attributes\":{\"line_alpha\":{\"value\":0.1},\"line_color\":{\"value\":\"#1f77b4\"},\"x\":{\"field\":\"x\"},\"y\":{\"field\":\"y\"}},\"id\":\"539de7a3-3949-4676-b9be-6dc0d544dbf5\",\"type\":\"Line\"},{\"attributes\":{\"overlay\":{\"id\":\"546a49d3-915a-478e-9076-6f20f30d6b7f\",\"type\":\"BoxAnnotation\"},\"plot\":{\"id\":\"0ba5f960-5f92-4bc8-8d9c-697f91bb60fc\",\"subtype\":\"Figure\",\"type\":\"Plot\"}},\"id\":\"37d8a9b5-b3a7-400c-883c-539163d279ec\",\"type\":\"BoxZoomTool\"},{\"attributes\":{\"plot\":{\"id\":\"0ba5f960-5f92-4bc8-8d9c-697f91bb60fc\",\"subtype\":\"Figure\",\"type\":\"Plot\"}},\"id\":\"48ea02b4-0f89-46ca-a7d5-952c5f16ad29\",\"type\":\"SaveTool\"},{\"attributes\":{\"plot\":{\"id\":\"0ba5f960-5f92-4bc8-8d9c-697f91bb60fc\",\"subtype\":\"Figure\",\"type\":\"Plot\"},\"ticker\":{\"id\":\"01d9abf9-0bfa-4321-8f94-a3ef00e8d12f\",\"type\":\"BasicTicker\"}},\"id\":\"b2a1812f-13de-4d14-98fc-781a26ae8207\",\"type\":\"Grid\"},{\"attributes\":{\"plot\":{\"id\":\"0ba5f960-5f92-4bc8-8d9c-697f91bb60fc\",\"subtype\":\"Figure\",\"type\":\"Plot\"}},\"id\":\"f783390f-fd96-400d-8861-002f89f2a9ee\",\"type\":\"PanTool\"},{\"attributes\":{\"active_drag\":\"auto\",\"active_scroll\":\"auto\",\"active_tap\":\"auto\",\"tools\":[{\"id\":\"f783390f-fd96-400d-8861-002f89f2a9ee\",\"type\":\"PanTool\"},{\"id\":\"4dba7961-b18b-4980-9ad1-fec8cefb47da\",\"type\":\"WheelZoomTool\"},{\"id\":\"37d8a9b5-b3a7-400c-883c-539163d279ec\",\"type\":\"BoxZoomTool\"},{\"id\":\"48ea02b4-0f89-46ca-a7d5-952c5f16ad29\",\"type\":\"SaveTool\"},{\"id\":\"757356a9-ca0f-4932-9a95-593d794ef47f\",\"type\":\"ResetTool\"},{\"id\":\"ea185d71-437d-4a4d-a731-5b9c1a7c6a73\",\"type\":\"HelpTool\"}]},\"id\":\"3d9a3560-3b7b-495f-a505-025885de1509\",\"type\":\"Toolbar\"},{\"attributes\":{},\"id\":\"3557ac62-8194-4218-b91c-4f8e909627d3\",\"type\":\"BasicTicker\"},{\"attributes\":{\"callback\":null,\"end\":210.5,\"start\":-0.5},\"id\":\"6c1c6f34-d498-4ac1-8988-a7d7f8ac4e3e\",\"type\":\"Range1d\"},{\"attributes\":{\"dimension\":1,\"plot\":{\"id\":\"0ba5f960-5f92-4bc8-8d9c-697f91bb60fc\",\"subtype\":\"Figure\",\"type\":\"Plot\"},\"ticker\":{\"id\":\"3557ac62-8194-4218-b91c-4f8e909627d3\",\"type\":\"BasicTicker\"}},\"id\":\"a4c634c2-5f2e-4c76-8308-3b41839c54ae\",\"type\":\"Grid\"},{\"attributes\":{\"callback\":null,\"column_names\":[\"y\",\"x\"],\"data\":{\"x\":[-0.5,-0.5,0.5,0.5,1.5,1.5,2.5,2.5,3.5,3.5,4.5,4.5,5.5,5.5,10.5,10.5,11.5,11.5,13.5,13.5,14.5,14.5,118.5,118.5,119.5,119.5,120.5,120.5,185.5,185.5,186.5,186.5,188.5,188.5,189.5,189.5,191.5,191.5,192.5,192.5,207.5,207.5,208.5,208.5,209.5,209.5],\"y\":[0.0,4899.0,4899.0,43.0,43.0,0.0,0.0,1.0,1.0,0.0,0.0,1.0,1.0,0.0,0.0,4.0,4.0,0.0,0.0,1.0,1.0,0.0,0.0,1.0,1.0,1.0,1.0,0.0,0.0,1.0,1.0,0.0,0.0,1.0,1.0,0.0,0.0,1.0,1.0,0.0,0.0,6.0,6.0,48.0,48.0,0.0]}},\"id\":\"c6ecc14e-a6d5-4e62-91b8-b1a129214236\",\"type\":\"ColumnDataSource\"}],\"root_ids\":[\"0ba5f960-5f92-4bc8-8d9c-697f91bb60fc\"]},\"title\":\"Bokeh Application\",\"version\":\"0.12.0\"}};\n",
       "            var render_items = [{\"docid\":\"aa65424c-a407-45da-9d09-7122be08eee5\",\"elementid\":\"913f4328-79d2-4560-8d43-20a08d45308e\",\"modelid\":\"0ba5f960-5f92-4bc8-8d9c-697f91bb60fc\",\"notebook_comms_target\":\"dc2dfba7-ca25-4427-a5ab-31582f0f2ebf\"}];\n",
       "            \n",
       "            Bokeh.embed.embed_items(docs_json, render_items);\n",
       "        });\n",
       "      },\n",
       "      function(Bokeh) {\n",
       "      }\n",
       "    ];\n",
       "  \n",
       "    function run_inline_js() {\n",
       "      for (var i = 0; i < inline_js.length; i++) {\n",
       "        inline_js[i](window.Bokeh);\n",
       "      }\n",
       "    }\n",
       "  \n",
       "    if (window._bokeh_is_loading === 0) {\n",
       "      console.log(\"Bokeh: BokehJS loaded, going straight to plotting\");\n",
       "      run_inline_js();\n",
       "    } else {\n",
       "      load_libs(js_urls, function() {\n",
       "        console.log(\"Bokeh: BokehJS plotting callback run at\", now());\n",
       "        run_inline_js();\n",
       "      });\n",
       "    }\n",
       "  }(this));\n",
       "</script>"
      ]
     },
     "metadata": {},
     "output_type": "display_data"
    },
    {
     "data": {
      "text/html": [
       "<p><code>&lt;Bokeh Notebook handle for <strong>In[5]</strong>&gt;</code></p>"
      ],
      "text/plain": [
       "<bokeh.io._CommsHandle at 0x7f950dda0c10>"
      ]
     },
     "execution_count": 5,
     "metadata": {},
     "output_type": "execute_result"
    }
   ],
   "source": [
    "count_data = sa_209_56.unique_snps_per_allele()\n",
    "plt_obj = smcp(count_data)\n",
    "plt = plt_obj.do_plot()\n",
    "show(plt)"
   ]
  },
  {
   "cell_type": "code",
   "execution_count": 6,
   "metadata": {
    "collapsed": false
   },
   "outputs": [
    {
     "data": {
      "text/plain": [
       "array([(0, 4899), (1, 43), (3, 1), (5, 1), (11, 4), (14, 1), (119, 1),\n",
       "       (120, 1), (186, 1), (189, 1), (192, 1), (208, 6), (209, 48)], \n",
       "      dtype=[('count', '<u2'), ('snps', '<u2')])"
      ]
     },
     "execution_count": 6,
     "metadata": {},
     "output_type": "execute_result"
    }
   ],
   "source": [
    "count_data"
   ]
  },
  {
   "cell_type": "code",
   "execution_count": 7,
   "metadata": {
    "collapsed": false
   },
   "outputs": [
    {
     "data": {
      "text/html": [
       "\n",
       "\n",
       "    <div class=\"bk-root\">\n",
       "        <div class=\"plotdiv\" id=\"abbf2443-49ee-4652-83af-7af750a0d7e9\"></div>\n",
       "    </div>\n",
       "<script type=\"text/javascript\">\n",
       "  \n",
       "  (function(global) {\n",
       "    function now() {\n",
       "      return new Date();\n",
       "    }\n",
       "  \n",
       "    if (typeof (window._bokeh_onload_callbacks) === \"undefined\") {\n",
       "      window._bokeh_onload_callbacks = [];\n",
       "    }\n",
       "  \n",
       "    function run_callbacks() {\n",
       "      window._bokeh_onload_callbacks.forEach(function(callback) { callback() });\n",
       "      delete window._bokeh_onload_callbacks\n",
       "      console.info(\"Bokeh: all callbacks have finished\");\n",
       "    }\n",
       "  \n",
       "    function load_libs(js_urls, callback) {\n",
       "      window._bokeh_onload_callbacks.push(callback);\n",
       "      if (window._bokeh_is_loading > 0) {\n",
       "        console.log(\"Bokeh: BokehJS is being loaded, scheduling callback at\", now());\n",
       "        return null;\n",
       "      }\n",
       "      if (js_urls == null || js_urls.length === 0) {\n",
       "        run_callbacks();\n",
       "        return null;\n",
       "      }\n",
       "      console.log(\"Bokeh: BokehJS not loaded, scheduling load and callback at\", now());\n",
       "      window._bokeh_is_loading = js_urls.length;\n",
       "      for (var i = 0; i < js_urls.length; i++) {\n",
       "        var url = js_urls[i];\n",
       "        var s = document.createElement('script');\n",
       "        s.src = url;\n",
       "        s.async = false;\n",
       "        s.onreadystatechange = s.onload = function() {\n",
       "          window._bokeh_is_loading--;\n",
       "          if (window._bokeh_is_loading === 0) {\n",
       "            console.log(\"Bokeh: all BokehJS libraries loaded\");\n",
       "            run_callbacks()\n",
       "          }\n",
       "        };\n",
       "        s.onerror = function() {\n",
       "          console.warn(\"failed to load library \" + url);\n",
       "        };\n",
       "        console.log(\"Bokeh: injecting script tag for BokehJS library: \", url);\n",
       "        document.getElementsByTagName(\"head\")[0].appendChild(s);\n",
       "      }\n",
       "    };var element = document.getElementById(\"abbf2443-49ee-4652-83af-7af750a0d7e9\");\n",
       "    if (element == null) {\n",
       "      console.log(\"Bokeh: ERROR: autoload.js configured with elementid 'abbf2443-49ee-4652-83af-7af750a0d7e9' but no matching script tag was found. \")\n",
       "      return false;\n",
       "    }\n",
       "  \n",
       "    var js_urls = [];\n",
       "  \n",
       "    var inline_js = [\n",
       "      function(Bokeh) {\n",
       "        Bokeh.$(function() {\n",
       "            var docs_json = {\"f9a1e721-7c6c-425c-9294-117b48d4104d\":{\"roots\":{\"references\":[{\"attributes\":{\"plot\":{\"id\":\"43873e0e-74fd-4fb6-b6ef-2ff6ddae2f3d\",\"subtype\":\"Figure\",\"type\":\"Plot\"}},\"id\":\"11a683c6-0364-43e5-9685-8eff405088ee\",\"type\":\"SaveTool\"},{\"attributes\":{\"overlay\":{\"id\":\"a2beff6f-3f7c-4047-8bf5-1cb784aba96c\",\"type\":\"BoxAnnotation\"},\"plot\":{\"id\":\"43873e0e-74fd-4fb6-b6ef-2ff6ddae2f3d\",\"subtype\":\"Figure\",\"type\":\"Plot\"}},\"id\":\"d150b7a0-faf9-4d19-bbc5-09a23d559819\",\"type\":\"BoxZoomTool\"},{\"attributes\":{\"bottom_units\":\"screen\",\"fill_alpha\":{\"value\":0.5},\"fill_color\":{\"value\":\"lightgrey\"},\"left_units\":\"screen\",\"level\":\"overlay\",\"line_alpha\":{\"value\":1.0},\"line_color\":{\"value\":\"black\"},\"line_dash\":[4,4],\"line_width\":{\"value\":2},\"plot\":null,\"render_mode\":\"css\",\"right_units\":\"screen\",\"top_units\":\"screen\"},\"id\":\"a2beff6f-3f7c-4047-8bf5-1cb784aba96c\",\"type\":\"BoxAnnotation\"},{\"attributes\":{\"formatter\":{\"id\":\"8f0f9f8d-f12d-4843-96fc-bdc107c19de8\",\"type\":\"BasicTickFormatter\"},\"plot\":{\"id\":\"43873e0e-74fd-4fb6-b6ef-2ff6ddae2f3d\",\"subtype\":\"Figure\",\"type\":\"Plot\"},\"ticker\":{\"id\":\"297e0193-0cc3-4a20-8f21-0e8bb2a8a025\",\"type\":\"BasicTicker\"}},\"id\":\"871eae38-2ab6-4830-b440-57b436104c8e\",\"type\":\"LinearAxis\"},{\"attributes\":{},\"id\":\"297e0193-0cc3-4a20-8f21-0e8bb2a8a025\",\"type\":\"BasicTicker\"},{\"attributes\":{\"formatter\":{\"id\":\"db55163c-2d12-41eb-aeab-f850be1d56e0\",\"type\":\"BasicTickFormatter\"},\"plot\":{\"id\":\"43873e0e-74fd-4fb6-b6ef-2ff6ddae2f3d\",\"subtype\":\"Figure\",\"type\":\"Plot\"},\"ticker\":{\"id\":\"c80cc872-4915-44db-9dc3-4e1deafe0de8\",\"type\":\"BasicTicker\"}},\"id\":\"2d13c4d4-17c3-4eb8-bed9-e620a5c385b1\",\"type\":\"LinearAxis\"},{\"attributes\":{\"plot\":{\"id\":\"43873e0e-74fd-4fb6-b6ef-2ff6ddae2f3d\",\"subtype\":\"Figure\",\"type\":\"Plot\"}},\"id\":\"94640437-4979-429c-93d5-f6b5c7c58931\",\"type\":\"ResetTool\"},{\"attributes\":{\"callback\":null,\"end\":118.5,\"start\":-0.5},\"id\":\"9379f44c-caa7-4c3d-a8e1-10b122c229cd\",\"type\":\"Range1d\"},{\"attributes\":{\"plot\":{\"id\":\"43873e0e-74fd-4fb6-b6ef-2ff6ddae2f3d\",\"subtype\":\"Figure\",\"type\":\"Plot\"}},\"id\":\"ba8cbc1e-9406-431d-8f9a-30c7c9ccfb49\",\"type\":\"HelpTool\"},{\"attributes\":{\"line_alpha\":{\"value\":0.1},\"line_color\":{\"value\":\"#1f77b4\"},\"x\":{\"field\":\"x\"},\"y\":{\"field\":\"y\"}},\"id\":\"7a112abe-e4ea-4cb3-b926-2f2b76e5a3dd\",\"type\":\"Line\"},{\"attributes\":{\"line_color\":{\"value\":\"#1f77b4\"},\"x\":{\"field\":\"x\"},\"y\":{\"field\":\"y\"}},\"id\":\"cb7e3679-f8b7-4644-a80e-b43b57a8680a\",\"type\":\"Line\"},{\"attributes\":{\"plot\":{\"id\":\"43873e0e-74fd-4fb6-b6ef-2ff6ddae2f3d\",\"subtype\":\"Figure\",\"type\":\"Plot\"}},\"id\":\"e535821b-7276-4a81-b676-a68024cac04b\",\"type\":\"WheelZoomTool\"},{\"attributes\":{\"callback\":null,\"column_names\":[\"y\",\"x\"],\"data\":{\"x\":[-0.5,-0.5,115.5,115.5,116.5,116.5,117.5,117.5],\"y\":[0.0,0.0,0.0,16.0,16.0,40.0,40.0,0.0]}},\"id\":\"898cc8ce-52da-4761-a005-0193681d852c\",\"type\":\"ColumnDataSource\"},{\"attributes\":{\"below\":[{\"id\":\"2d13c4d4-17c3-4eb8-bed9-e620a5c385b1\",\"type\":\"LinearAxis\"}],\"left\":[{\"id\":\"871eae38-2ab6-4830-b440-57b436104c8e\",\"type\":\"LinearAxis\"}],\"plot_height\":400,\"plot_width\":900,\"renderers\":[{\"id\":\"2d13c4d4-17c3-4eb8-bed9-e620a5c385b1\",\"type\":\"LinearAxis\"},{\"id\":\"0eacba29-7e52-45f5-a0f8-1db4d50b61e7\",\"type\":\"Grid\"},{\"id\":\"871eae38-2ab6-4830-b440-57b436104c8e\",\"type\":\"LinearAxis\"},{\"id\":\"c4d49126-24c0-4a84-b258-16dce8c40b2f\",\"type\":\"Grid\"},{\"id\":\"a2beff6f-3f7c-4047-8bf5-1cb784aba96c\",\"type\":\"BoxAnnotation\"},{\"id\":\"7d330706-fbba-4acb-a4e6-9b448577133c\",\"type\":\"GlyphRenderer\"}],\"title\":{\"id\":\"ceb782f2-d1b7-4b5d-a90e-18eaf36ab362\",\"type\":\"Title\"},\"tool_events\":{\"id\":\"68013e0b-be6f-4b00-92a7-c072a0b37423\",\"type\":\"ToolEvents\"},\"toolbar\":{\"id\":\"ecdccd4a-38f2-4bfd-a947-5f3b803ee44d\",\"type\":\"Toolbar\"},\"toolbar_location\":null,\"x_range\":{\"id\":\"9379f44c-caa7-4c3d-a8e1-10b122c229cd\",\"type\":\"Range1d\"},\"y_range\":{\"id\":\"8eeff1a4-5e44-47b2-aee8-0897284a115e\",\"type\":\"Range1d\"}},\"id\":\"43873e0e-74fd-4fb6-b6ef-2ff6ddae2f3d\",\"subtype\":\"Figure\",\"type\":\"Plot\"},{\"attributes\":{},\"id\":\"68013e0b-be6f-4b00-92a7-c072a0b37423\",\"type\":\"ToolEvents\"},{\"attributes\":{\"dimension\":1,\"plot\":{\"id\":\"43873e0e-74fd-4fb6-b6ef-2ff6ddae2f3d\",\"subtype\":\"Figure\",\"type\":\"Plot\"},\"ticker\":{\"id\":\"297e0193-0cc3-4a20-8f21-0e8bb2a8a025\",\"type\":\"BasicTicker\"}},\"id\":\"c4d49126-24c0-4a84-b258-16dce8c40b2f\",\"type\":\"Grid\"},{\"attributes\":{\"plot\":{\"id\":\"43873e0e-74fd-4fb6-b6ef-2ff6ddae2f3d\",\"subtype\":\"Figure\",\"type\":\"Plot\"},\"ticker\":{\"id\":\"c80cc872-4915-44db-9dc3-4e1deafe0de8\",\"type\":\"BasicTicker\"}},\"id\":\"0eacba29-7e52-45f5-a0f8-1db4d50b61e7\",\"type\":\"Grid\"},{\"attributes\":{\"plot\":null,\"text\":null},\"id\":\"ceb782f2-d1b7-4b5d-a90e-18eaf36ab362\",\"type\":\"Title\"},{\"attributes\":{\"data_source\":{\"id\":\"898cc8ce-52da-4761-a005-0193681d852c\",\"type\":\"ColumnDataSource\"},\"glyph\":{\"id\":\"cb7e3679-f8b7-4644-a80e-b43b57a8680a\",\"type\":\"Line\"},\"hover_glyph\":null,\"nonselection_glyph\":{\"id\":\"7a112abe-e4ea-4cb3-b926-2f2b76e5a3dd\",\"type\":\"Line\"},\"selection_glyph\":null},\"id\":\"7d330706-fbba-4acb-a4e6-9b448577133c\",\"type\":\"GlyphRenderer\"},{\"attributes\":{},\"id\":\"8f0f9f8d-f12d-4843-96fc-bdc107c19de8\",\"type\":\"BasicTickFormatter\"},{\"attributes\":{\"callback\":null,\"end\":44.0},\"id\":\"8eeff1a4-5e44-47b2-aee8-0897284a115e\",\"type\":\"Range1d\"},{\"attributes\":{},\"id\":\"c80cc872-4915-44db-9dc3-4e1deafe0de8\",\"type\":\"BasicTicker\"},{\"attributes\":{\"plot\":{\"id\":\"43873e0e-74fd-4fb6-b6ef-2ff6ddae2f3d\",\"subtype\":\"Figure\",\"type\":\"Plot\"}},\"id\":\"74e2c7e4-419c-4678-8baa-7314c713a880\",\"type\":\"PanTool\"},{\"attributes\":{},\"id\":\"db55163c-2d12-41eb-aeab-f850be1d56e0\",\"type\":\"BasicTickFormatter\"},{\"attributes\":{\"active_drag\":\"auto\",\"active_scroll\":\"auto\",\"active_tap\":\"auto\",\"tools\":[{\"id\":\"74e2c7e4-419c-4678-8baa-7314c713a880\",\"type\":\"PanTool\"},{\"id\":\"e535821b-7276-4a81-b676-a68024cac04b\",\"type\":\"WheelZoomTool\"},{\"id\":\"d150b7a0-faf9-4d19-bbc5-09a23d559819\",\"type\":\"BoxZoomTool\"},{\"id\":\"11a683c6-0364-43e5-9685-8eff405088ee\",\"type\":\"SaveTool\"},{\"id\":\"94640437-4979-429c-93d5-f6b5c7c58931\",\"type\":\"ResetTool\"},{\"id\":\"ba8cbc1e-9406-431d-8f9a-30c7c9ccfb49\",\"type\":\"HelpTool\"}]},\"id\":\"ecdccd4a-38f2-4bfd-a947-5f3b803ee44d\",\"type\":\"Toolbar\"}],\"root_ids\":[\"43873e0e-74fd-4fb6-b6ef-2ff6ddae2f3d\"]},\"title\":\"Bokeh Application\",\"version\":\"0.12.0\"}};\n",
       "            var render_items = [{\"docid\":\"f9a1e721-7c6c-425c-9294-117b48d4104d\",\"elementid\":\"abbf2443-49ee-4652-83af-7af750a0d7e9\",\"modelid\":\"43873e0e-74fd-4fb6-b6ef-2ff6ddae2f3d\",\"notebook_comms_target\":\"24392569-9521-492d-9c98-762d24c9ed7f\"}];\n",
       "            \n",
       "            Bokeh.embed.embed_items(docs_json, render_items);\n",
       "        });\n",
       "      },\n",
       "      function(Bokeh) {\n",
       "      }\n",
       "    ];\n",
       "  \n",
       "    function run_inline_js() {\n",
       "      for (var i = 0; i < inline_js.length; i++) {\n",
       "        inline_js[i](window.Bokeh);\n",
       "      }\n",
       "    }\n",
       "  \n",
       "    if (window._bokeh_is_loading === 0) {\n",
       "      console.log(\"Bokeh: BokehJS loaded, going straight to plotting\");\n",
       "      run_inline_js();\n",
       "    } else {\n",
       "      load_libs(js_urls, function() {\n",
       "        console.log(\"Bokeh: BokehJS plotting callback run at\", now());\n",
       "        run_inline_js();\n",
       "      });\n",
       "    }\n",
       "  }(this));\n",
       "</script>"
      ]
     },
     "metadata": {},
     "output_type": "display_data"
    },
    {
     "data": {
      "text/html": [
       "<p><code>&lt;Bokeh Notebook handle for <strong>In[7]</strong>&gt;</code></p>"
      ],
      "text/plain": [
       "<bokeh.io._CommsHandle at 0x7f950dd8afd0>"
      ]
     },
     "execution_count": 7,
     "metadata": {},
     "output_type": "execute_result"
    }
   ],
   "source": [
    "count_data = an.sa_117_1685.unique_snps_per_allele(am_209_56)\n",
    "plt_obj = smcp(count_data)\n",
    "plt = plt_obj.do_plot()\n",
    "show(plt)"
   ]
  },
  {
   "cell_type": "code",
   "execution_count": 8,
   "metadata": {
    "collapsed": false
   },
   "outputs": [
    {
     "data": {
      "text/plain": [
       "array([(116, 16), (117, 40)], \n",
       "      dtype=[('count', '<u2'), ('snps', '<u2')])"
      ]
     },
     "execution_count": 8,
     "metadata": {},
     "output_type": "execute_result"
    }
   ],
   "source": [
    "count_data"
   ]
  },
  {
   "cell_type": "code",
   "execution_count": 9,
   "metadata": {
    "collapsed": false
   },
   "outputs": [
    {
     "data": {
      "text/html": [
       "\n",
       "\n",
       "    <div class=\"bk-root\">\n",
       "        <div class=\"plotdiv\" id=\"3b6bc7f9-53b0-4871-bd42-47a2b00a777c\"></div>\n",
       "    </div>\n",
       "<script type=\"text/javascript\">\n",
       "  \n",
       "  (function(global) {\n",
       "    function now() {\n",
       "      return new Date();\n",
       "    }\n",
       "  \n",
       "    if (typeof (window._bokeh_onload_callbacks) === \"undefined\") {\n",
       "      window._bokeh_onload_callbacks = [];\n",
       "    }\n",
       "  \n",
       "    function run_callbacks() {\n",
       "      window._bokeh_onload_callbacks.forEach(function(callback) { callback() });\n",
       "      delete window._bokeh_onload_callbacks\n",
       "      console.info(\"Bokeh: all callbacks have finished\");\n",
       "    }\n",
       "  \n",
       "    function load_libs(js_urls, callback) {\n",
       "      window._bokeh_onload_callbacks.push(callback);\n",
       "      if (window._bokeh_is_loading > 0) {\n",
       "        console.log(\"Bokeh: BokehJS is being loaded, scheduling callback at\", now());\n",
       "        return null;\n",
       "      }\n",
       "      if (js_urls == null || js_urls.length === 0) {\n",
       "        run_callbacks();\n",
       "        return null;\n",
       "      }\n",
       "      console.log(\"Bokeh: BokehJS not loaded, scheduling load and callback at\", now());\n",
       "      window._bokeh_is_loading = js_urls.length;\n",
       "      for (var i = 0; i < js_urls.length; i++) {\n",
       "        var url = js_urls[i];\n",
       "        var s = document.createElement('script');\n",
       "        s.src = url;\n",
       "        s.async = false;\n",
       "        s.onreadystatechange = s.onload = function() {\n",
       "          window._bokeh_is_loading--;\n",
       "          if (window._bokeh_is_loading === 0) {\n",
       "            console.log(\"Bokeh: all BokehJS libraries loaded\");\n",
       "            run_callbacks()\n",
       "          }\n",
       "        };\n",
       "        s.onerror = function() {\n",
       "          console.warn(\"failed to load library \" + url);\n",
       "        };\n",
       "        console.log(\"Bokeh: injecting script tag for BokehJS library: \", url);\n",
       "        document.getElementsByTagName(\"head\")[0].appendChild(s);\n",
       "      }\n",
       "    };var element = document.getElementById(\"3b6bc7f9-53b0-4871-bd42-47a2b00a777c\");\n",
       "    if (element == null) {\n",
       "      console.log(\"Bokeh: ERROR: autoload.js configured with elementid '3b6bc7f9-53b0-4871-bd42-47a2b00a777c' but no matching script tag was found. \")\n",
       "      return false;\n",
       "    }\n",
       "  \n",
       "    var js_urls = [];\n",
       "  \n",
       "    var inline_js = [\n",
       "      function(Bokeh) {\n",
       "        Bokeh.$(function() {\n",
       "            var docs_json = {\"c4fb0dea-fda9-4d92-8e23-dbfad115a541\":{\"roots\":{\"references\":[{\"attributes\":{\"data_source\":{\"id\":\"aa5e75d6-7a4c-4ab2-ae40-38ef89c292fb\",\"type\":\"ColumnDataSource\"},\"glyph\":{\"id\":\"557b4314-6de7-4157-9b1b-0b0bb9529561\",\"type\":\"Line\"},\"hover_glyph\":null,\"nonselection_glyph\":{\"id\":\"2ed42479-64a5-4493-870a-9dbac06c1102\",\"type\":\"Line\"},\"selection_glyph\":null},\"id\":\"48991254-5d72-465a-8be0-85de0c3c0bed\",\"type\":\"GlyphRenderer\"},{\"attributes\":{\"line_alpha\":{\"value\":0.1},\"line_color\":{\"value\":\"#1f77b4\"},\"x\":{\"field\":\"x\"},\"y\":{\"field\":\"y\"}},\"id\":\"2ed42479-64a5-4493-870a-9dbac06c1102\",\"type\":\"Line\"},{\"attributes\":{\"callback\":null,\"column_names\":[\"y\",\"x\"],\"data\":{\"x\":[-0.5,-0.5,120.5,120.5,121.5,121.5,122.5,122.5],\"y\":[0.0,0.0,0.0,7.0,7.0,49.0,49.0,0.0]}},\"id\":\"aa5e75d6-7a4c-4ab2-ae40-38ef89c292fb\",\"type\":\"ColumnDataSource\"},{\"attributes\":{},\"id\":\"90679726-322e-4549-9dda-10a57b0a430f\",\"type\":\"BasicTickFormatter\"},{\"attributes\":{\"callback\":null,\"end\":123.5,\"start\":-0.5},\"id\":\"0399ddd7-246b-4602-af42-f5f3526b4459\",\"type\":\"Range1d\"},{\"attributes\":{\"plot\":{\"id\":\"cbdd3f60-acb6-4d89-acb3-0719680285af\",\"subtype\":\"Figure\",\"type\":\"Plot\"}},\"id\":\"e8ff3f72-01fc-4575-9895-8dff32ea856d\",\"type\":\"SaveTool\"},{\"attributes\":{\"plot\":{\"id\":\"cbdd3f60-acb6-4d89-acb3-0719680285af\",\"subtype\":\"Figure\",\"type\":\"Plot\"}},\"id\":\"c0103d97-93ee-47d3-842e-11221ca6b3b0\",\"type\":\"WheelZoomTool\"},{\"attributes\":{},\"id\":\"20d4065f-7b18-494f-9098-fd6c9678b422\",\"type\":\"BasicTicker\"},{\"attributes\":{\"overlay\":{\"id\":\"743eecd1-124d-454c-908f-a0df4611f337\",\"type\":\"BoxAnnotation\"},\"plot\":{\"id\":\"cbdd3f60-acb6-4d89-acb3-0719680285af\",\"subtype\":\"Figure\",\"type\":\"Plot\"}},\"id\":\"e736d72d-9d5c-4473-8439-052ed82f2180\",\"type\":\"BoxZoomTool\"},{\"attributes\":{\"formatter\":{\"id\":\"b7f55890-41dd-499e-8694-f5dd62ed511e\",\"type\":\"BasicTickFormatter\"},\"plot\":{\"id\":\"cbdd3f60-acb6-4d89-acb3-0719680285af\",\"subtype\":\"Figure\",\"type\":\"Plot\"},\"ticker\":{\"id\":\"20d4065f-7b18-494f-9098-fd6c9678b422\",\"type\":\"BasicTicker\"}},\"id\":\"4930ab80-2280-4e1c-908f-1fcf73926889\",\"type\":\"LinearAxis\"},{\"attributes\":{\"plot\":{\"id\":\"cbdd3f60-acb6-4d89-acb3-0719680285af\",\"subtype\":\"Figure\",\"type\":\"Plot\"}},\"id\":\"f8880589-e179-4c62-b10f-f541641825e7\",\"type\":\"ResetTool\"},{\"attributes\":{\"callback\":null,\"end\":53.900000000000006},\"id\":\"2153956a-66ec-464b-ad66-506e7d35fdc7\",\"type\":\"Range1d\"},{\"attributes\":{},\"id\":\"5a37e2c1-23a3-4999-b4a7-8795534cbee4\",\"type\":\"BasicTicker\"},{\"attributes\":{\"line_color\":{\"value\":\"#1f77b4\"},\"x\":{\"field\":\"x\"},\"y\":{\"field\":\"y\"}},\"id\":\"557b4314-6de7-4157-9b1b-0b0bb9529561\",\"type\":\"Line\"},{\"attributes\":{\"below\":[{\"id\":\"179655ef-88e8-43ca-81a3-9fc5107d20da\",\"type\":\"LinearAxis\"}],\"left\":[{\"id\":\"4930ab80-2280-4e1c-908f-1fcf73926889\",\"type\":\"LinearAxis\"}],\"plot_height\":400,\"plot_width\":900,\"renderers\":[{\"id\":\"179655ef-88e8-43ca-81a3-9fc5107d20da\",\"type\":\"LinearAxis\"},{\"id\":\"66e8ae83-a749-441a-9382-fa57d898d9a7\",\"type\":\"Grid\"},{\"id\":\"4930ab80-2280-4e1c-908f-1fcf73926889\",\"type\":\"LinearAxis\"},{\"id\":\"5273ce6d-b34d-4546-b4f3-81cc5400b1a3\",\"type\":\"Grid\"},{\"id\":\"743eecd1-124d-454c-908f-a0df4611f337\",\"type\":\"BoxAnnotation\"},{\"id\":\"48991254-5d72-465a-8be0-85de0c3c0bed\",\"type\":\"GlyphRenderer\"}],\"title\":{\"id\":\"06e104d7-10c3-467b-afe6-afa51e15d6e6\",\"type\":\"Title\"},\"tool_events\":{\"id\":\"6c93c315-9528-40ab-abac-0134e6fe3d98\",\"type\":\"ToolEvents\"},\"toolbar\":{\"id\":\"da308509-01ba-4318-969a-7c6c04bca93a\",\"type\":\"Toolbar\"},\"toolbar_location\":null,\"x_range\":{\"id\":\"0399ddd7-246b-4602-af42-f5f3526b4459\",\"type\":\"Range1d\"},\"y_range\":{\"id\":\"2153956a-66ec-464b-ad66-506e7d35fdc7\",\"type\":\"Range1d\"}},\"id\":\"cbdd3f60-acb6-4d89-acb3-0719680285af\",\"subtype\":\"Figure\",\"type\":\"Plot\"},{\"attributes\":{\"plot\":null,\"text\":null},\"id\":\"06e104d7-10c3-467b-afe6-afa51e15d6e6\",\"type\":\"Title\"},{\"attributes\":{\"plot\":{\"id\":\"cbdd3f60-acb6-4d89-acb3-0719680285af\",\"subtype\":\"Figure\",\"type\":\"Plot\"}},\"id\":\"705985ec-a382-4744-97a0-1992f3f033f5\",\"type\":\"PanTool\"},{\"attributes\":{},\"id\":\"b7f55890-41dd-499e-8694-f5dd62ed511e\",\"type\":\"BasicTickFormatter\"},{\"attributes\":{\"plot\":{\"id\":\"cbdd3f60-acb6-4d89-acb3-0719680285af\",\"subtype\":\"Figure\",\"type\":\"Plot\"}},\"id\":\"deca6bf1-bdf7-4516-a52b-94a12a4f1b49\",\"type\":\"HelpTool\"},{\"attributes\":{\"formatter\":{\"id\":\"90679726-322e-4549-9dda-10a57b0a430f\",\"type\":\"BasicTickFormatter\"},\"plot\":{\"id\":\"cbdd3f60-acb6-4d89-acb3-0719680285af\",\"subtype\":\"Figure\",\"type\":\"Plot\"},\"ticker\":{\"id\":\"5a37e2c1-23a3-4999-b4a7-8795534cbee4\",\"type\":\"BasicTicker\"}},\"id\":\"179655ef-88e8-43ca-81a3-9fc5107d20da\",\"type\":\"LinearAxis\"},{\"attributes\":{\"plot\":{\"id\":\"cbdd3f60-acb6-4d89-acb3-0719680285af\",\"subtype\":\"Figure\",\"type\":\"Plot\"},\"ticker\":{\"id\":\"5a37e2c1-23a3-4999-b4a7-8795534cbee4\",\"type\":\"BasicTicker\"}},\"id\":\"66e8ae83-a749-441a-9382-fa57d898d9a7\",\"type\":\"Grid\"},{\"attributes\":{\"dimension\":1,\"plot\":{\"id\":\"cbdd3f60-acb6-4d89-acb3-0719680285af\",\"subtype\":\"Figure\",\"type\":\"Plot\"},\"ticker\":{\"id\":\"20d4065f-7b18-494f-9098-fd6c9678b422\",\"type\":\"BasicTicker\"}},\"id\":\"5273ce6d-b34d-4546-b4f3-81cc5400b1a3\",\"type\":\"Grid\"},{\"attributes\":{\"bottom_units\":\"screen\",\"fill_alpha\":{\"value\":0.5},\"fill_color\":{\"value\":\"lightgrey\"},\"left_units\":\"screen\",\"level\":\"overlay\",\"line_alpha\":{\"value\":1.0},\"line_color\":{\"value\":\"black\"},\"line_dash\":[4,4],\"line_width\":{\"value\":2},\"plot\":null,\"render_mode\":\"css\",\"right_units\":\"screen\",\"top_units\":\"screen\"},\"id\":\"743eecd1-124d-454c-908f-a0df4611f337\",\"type\":\"BoxAnnotation\"},{\"attributes\":{\"active_drag\":\"auto\",\"active_scroll\":\"auto\",\"active_tap\":\"auto\",\"tools\":[{\"id\":\"705985ec-a382-4744-97a0-1992f3f033f5\",\"type\":\"PanTool\"},{\"id\":\"c0103d97-93ee-47d3-842e-11221ca6b3b0\",\"type\":\"WheelZoomTool\"},{\"id\":\"e736d72d-9d5c-4473-8439-052ed82f2180\",\"type\":\"BoxZoomTool\"},{\"id\":\"e8ff3f72-01fc-4575-9895-8dff32ea856d\",\"type\":\"SaveTool\"},{\"id\":\"f8880589-e179-4c62-b10f-f541641825e7\",\"type\":\"ResetTool\"},{\"id\":\"deca6bf1-bdf7-4516-a52b-94a12a4f1b49\",\"type\":\"HelpTool\"}]},\"id\":\"da308509-01ba-4318-969a-7c6c04bca93a\",\"type\":\"Toolbar\"},{\"attributes\":{},\"id\":\"6c93c315-9528-40ab-abac-0134e6fe3d98\",\"type\":\"ToolEvents\"}],\"root_ids\":[\"cbdd3f60-acb6-4d89-acb3-0719680285af\"]},\"title\":\"Bokeh Application\",\"version\":\"0.12.0\"}};\n",
       "            var render_items = [{\"docid\":\"c4fb0dea-fda9-4d92-8e23-dbfad115a541\",\"elementid\":\"3b6bc7f9-53b0-4871-bd42-47a2b00a777c\",\"modelid\":\"cbdd3f60-acb6-4d89-acb3-0719680285af\",\"notebook_comms_target\":\"dbcd395a-77ec-4b23-a580-d681a716b3ec\"}];\n",
       "            \n",
       "            Bokeh.embed.embed_items(docs_json, render_items);\n",
       "        });\n",
       "      },\n",
       "      function(Bokeh) {\n",
       "      }\n",
       "    ];\n",
       "  \n",
       "    function run_inline_js() {\n",
       "      for (var i = 0; i < inline_js.length; i++) {\n",
       "        inline_js[i](window.Bokeh);\n",
       "      }\n",
       "    }\n",
       "  \n",
       "    if (window._bokeh_is_loading === 0) {\n",
       "      console.log(\"Bokeh: BokehJS loaded, going straight to plotting\");\n",
       "      run_inline_js();\n",
       "    } else {\n",
       "      load_libs(js_urls, function() {\n",
       "        console.log(\"Bokeh: BokehJS plotting callback run at\", now());\n",
       "        run_inline_js();\n",
       "      });\n",
       "    }\n",
       "  }(this));\n",
       "</script>"
      ]
     },
     "metadata": {},
     "output_type": "display_data"
    },
    {
     "data": {
      "text/html": [
       "<p><code>&lt;Bokeh Notebook handle for <strong>In[9]</strong>&gt;</code></p>"
      ],
      "text/plain": [
       "<bokeh.io._CommsHandle at 0x7f950ddd5e90>"
      ]
     },
     "execution_count": 9,
     "metadata": {},
     "output_type": "execute_result"
    }
   ],
   "source": [
    "count_data = an.sa_123_1561.unique_snps_per_allele(am_209_56)\n",
    "plt_obj = smcp(count_data)\n",
    "plt = plt_obj.do_plot()\n",
    "show(plt)"
   ]
  },
  {
   "cell_type": "code",
   "execution_count": 10,
   "metadata": {
    "collapsed": false
   },
   "outputs": [
    {
     "data": {
      "text/plain": [
       "array([(121, 7), (122, 49)], \n",
       "      dtype=[('count', '<u2'), ('snps', '<u2')])"
      ]
     },
     "execution_count": 10,
     "metadata": {},
     "output_type": "execute_result"
    }
   ],
   "source": [
    "count_data"
   ]
  },
  {
   "cell_type": "code",
   "execution_count": 11,
   "metadata": {
    "collapsed": false
   },
   "outputs": [
    {
     "data": {
      "text/plain": [
       "array([49, 49, 49, 49, 49, 49, 49, 49, 49, 49,  0, 49, 49, 49, 49, 49, 49,\n",
       "       49, 49, 49, 49, 49, 49, 49, 49, 49, 49, 49, 49, 49, 49, 49, 49, 49,\n",
       "       49, 49, 49, 49, 49, 49, 49, 49, 49, 49, 49, 49, 49, 49, 49, 49, 49,\n",
       "       49, 49, 49, 49, 49, 49, 49, 49, 49, 49, 49, 49, 49, 49, 49, 49, 49,\n",
       "       49, 49, 49, 49, 49, 49, 49, 49, 49, 49, 49, 49, 49, 49, 49, 49, 49,\n",
       "       49, 49, 49, 49, 49, 49, 49, 49, 49, 49, 49, 49, 49, 49, 49, 49, 49,\n",
       "       49, 49, 49, 49, 49, 49, 49, 49, 49, 49, 49, 49, 49, 49, 49, 49, 49,\n",
       "       49, 49, 49, 49])"
      ]
     },
     "execution_count": 11,
     "metadata": {},
     "output_type": "execute_result"
    }
   ],
   "source": [
    "aps_122, am_122 = an.sa_123_1561.snps_from_aps_value(122, am_209_56)\n",
    "aps_122"
   ]
  },
  {
   "cell_type": "code",
   "execution_count": 12,
   "metadata": {
    "collapsed": false
   },
   "outputs": [
    {
     "data": {
      "text/plain": [
       "array([7, 7, 7, 7, 7, 7, 7, 7, 7, 7, 0, 7, 7, 7, 7, 7, 7, 7, 7, 7, 7, 7, 7,\n",
       "       7, 7, 7, 7, 7, 7, 7, 7, 7, 7, 7, 7, 7, 7, 7, 7, 7, 7, 6, 7, 7, 7, 7,\n",
       "       7, 7, 7, 7, 7, 7, 7, 7, 7, 7, 6, 7, 7, 7, 7, 7, 7, 7, 7, 7, 7, 7, 7,\n",
       "       7, 7, 7, 7, 7, 7, 7, 7, 7, 7, 7, 7, 7, 7, 7, 7, 7, 7, 7, 7, 7, 7, 7,\n",
       "       7, 7, 7, 7, 7, 7, 4, 7, 7, 7, 7, 7, 7, 7, 7, 7, 7, 7, 7, 7, 7, 7, 7,\n",
       "       7, 7, 7, 7, 5, 7, 7, 7])"
      ]
     },
     "execution_count": 12,
     "metadata": {},
     "output_type": "execute_result"
    }
   ],
   "source": [
    "aps_121, am_121 = an.sa_123_1561.snps_from_aps_value(121, am_209_56)\n",
    "aps_121"
   ]
  },
  {
   "cell_type": "code",
   "execution_count": 13,
   "metadata": {
    "collapsed": false
   },
   "outputs": [
    {
     "data": {
      "text/html": [
       "\n",
       "\n",
       "    <div class=\"bk-root\">\n",
       "        <div class=\"plotdiv\" id=\"7137b343-797d-4271-97a4-9a1e64c9f379\"></div>\n",
       "    </div>\n",
       "<script type=\"text/javascript\">\n",
       "  \n",
       "  (function(global) {\n",
       "    function now() {\n",
       "      return new Date();\n",
       "    }\n",
       "  \n",
       "    if (typeof (window._bokeh_onload_callbacks) === \"undefined\") {\n",
       "      window._bokeh_onload_callbacks = [];\n",
       "    }\n",
       "  \n",
       "    function run_callbacks() {\n",
       "      window._bokeh_onload_callbacks.forEach(function(callback) { callback() });\n",
       "      delete window._bokeh_onload_callbacks\n",
       "      console.info(\"Bokeh: all callbacks have finished\");\n",
       "    }\n",
       "  \n",
       "    function load_libs(js_urls, callback) {\n",
       "      window._bokeh_onload_callbacks.push(callback);\n",
       "      if (window._bokeh_is_loading > 0) {\n",
       "        console.log(\"Bokeh: BokehJS is being loaded, scheduling callback at\", now());\n",
       "        return null;\n",
       "      }\n",
       "      if (js_urls == null || js_urls.length === 0) {\n",
       "        run_callbacks();\n",
       "        return null;\n",
       "      }\n",
       "      console.log(\"Bokeh: BokehJS not loaded, scheduling load and callback at\", now());\n",
       "      window._bokeh_is_loading = js_urls.length;\n",
       "      for (var i = 0; i < js_urls.length; i++) {\n",
       "        var url = js_urls[i];\n",
       "        var s = document.createElement('script');\n",
       "        s.src = url;\n",
       "        s.async = false;\n",
       "        s.onreadystatechange = s.onload = function() {\n",
       "          window._bokeh_is_loading--;\n",
       "          if (window._bokeh_is_loading === 0) {\n",
       "            console.log(\"Bokeh: all BokehJS libraries loaded\");\n",
       "            run_callbacks()\n",
       "          }\n",
       "        };\n",
       "        s.onerror = function() {\n",
       "          console.warn(\"failed to load library \" + url);\n",
       "        };\n",
       "        console.log(\"Bokeh: injecting script tag for BokehJS library: \", url);\n",
       "        document.getElementsByTagName(\"head\")[0].appendChild(s);\n",
       "      }\n",
       "    };var element = document.getElementById(\"7137b343-797d-4271-97a4-9a1e64c9f379\");\n",
       "    if (element == null) {\n",
       "      console.log(\"Bokeh: ERROR: autoload.js configured with elementid '7137b343-797d-4271-97a4-9a1e64c9f379' but no matching script tag was found. \")\n",
       "      return false;\n",
       "    }\n",
       "  \n",
       "    var js_urls = [];\n",
       "  \n",
       "    var inline_js = [\n",
       "      function(Bokeh) {\n",
       "        Bokeh.$(function() {\n",
       "            var docs_json = {\"512f7698-fe43-4e06-9da0-29237e4d8864\":{\"roots\":{\"references\":[{\"attributes\":{\"formatter\":{\"id\":\"0363c3ad-891e-473d-9f96-0dd1e870e182\",\"type\":\"BasicTickFormatter\"},\"plot\":{\"id\":\"0d46d8a6-5432-4a09-a675-cdf6277ba89d\",\"subtype\":\"Figure\",\"type\":\"Plot\"},\"ticker\":{\"id\":\"f566ac65-eb6c-4ea9-a743-903fa93fc0ff\",\"type\":\"BasicTicker\"}},\"id\":\"0cdf81cf-6ef6-4dcd-b7cb-44cdf38e51d7\",\"type\":\"LinearAxis\"},{\"attributes\":{\"data_source\":{\"id\":\"db74885d-c2fe-44a4-ab91-59459afe9ca6\",\"type\":\"ColumnDataSource\"},\"glyph\":{\"id\":\"65e34cbb-c246-46c8-b31c-1619ca407ad2\",\"type\":\"Line\"},\"hover_glyph\":null,\"nonselection_glyph\":{\"id\":\"a7ceee84-7372-476f-aada-b4ec63c58b4a\",\"type\":\"Line\"},\"selection_glyph\":null},\"id\":\"62af79f4-6c0c-4af0-b25e-93d5c1148ed5\",\"type\":\"GlyphRenderer\"},{\"attributes\":{\"bottom_units\":\"screen\",\"fill_alpha\":{\"value\":0.5},\"fill_color\":{\"value\":\"lightgrey\"},\"left_units\":\"screen\",\"level\":\"overlay\",\"line_alpha\":{\"value\":1.0},\"line_color\":{\"value\":\"black\"},\"line_dash\":[4,4],\"line_width\":{\"value\":2},\"plot\":null,\"render_mode\":\"css\",\"right_units\":\"screen\",\"top_units\":\"screen\"},\"id\":\"a27a22f2-19e3-48fa-8657-d03570301ba8\",\"type\":\"BoxAnnotation\"},{\"attributes\":{},\"id\":\"ea88f005-1546-4846-84ef-1e816b7d5b68\",\"type\":\"BasicTickFormatter\"},{\"attributes\":{\"plot\":{\"id\":\"0d46d8a6-5432-4a09-a675-cdf6277ba89d\",\"subtype\":\"Figure\",\"type\":\"Plot\"}},\"id\":\"d2c92c94-1188-4f1c-94eb-dd29a16cb366\",\"type\":\"HelpTool\"},{\"attributes\":{\"plot\":{\"id\":\"0d46d8a6-5432-4a09-a675-cdf6277ba89d\",\"subtype\":\"Figure\",\"type\":\"Plot\"}},\"id\":\"3ebd4513-5196-489b-9615-ab52b92d5931\",\"type\":\"WheelZoomTool\"},{\"attributes\":{\"plot\":{\"id\":\"0d46d8a6-5432-4a09-a675-cdf6277ba89d\",\"subtype\":\"Figure\",\"type\":\"Plot\"}},\"id\":\"106217d4-5038-4574-b7be-1137a50aa243\",\"type\":\"PanTool\"},{\"attributes\":{\"callback\":null,\"end\":63.5,\"start\":-0.5},\"id\":\"365d1e74-84af-454f-9530-7df120ab8a70\",\"type\":\"Range1d\"},{\"attributes\":{\"plot\":{\"id\":\"0d46d8a6-5432-4a09-a675-cdf6277ba89d\",\"subtype\":\"Figure\",\"type\":\"Plot\"}},\"id\":\"e4e0e49a-7a8c-4f8c-8534-3b8b4aa85c1c\",\"type\":\"SaveTool\"},{\"attributes\":{\"callback\":null,\"column_names\":[\"y\",\"x\"],\"data\":{\"x\":[-0.5,-0.5,60.5,60.5,61.5,61.5,62.5,62.5],\"y\":[0.0,0.0,0.0,2.0,2.0,54.0,54.0,0.0]}},\"id\":\"db74885d-c2fe-44a4-ab91-59459afe9ca6\",\"type\":\"ColumnDataSource\"},{\"attributes\":{\"formatter\":{\"id\":\"ea88f005-1546-4846-84ef-1e816b7d5b68\",\"type\":\"BasicTickFormatter\"},\"plot\":{\"id\":\"0d46d8a6-5432-4a09-a675-cdf6277ba89d\",\"subtype\":\"Figure\",\"type\":\"Plot\"},\"ticker\":{\"id\":\"eb4dc3e6-342a-404a-8ae9-42703eefbc7a\",\"type\":\"BasicTicker\"}},\"id\":\"e008c6dc-58d4-438c-81b6-b4ca1514555b\",\"type\":\"LinearAxis\"},{\"attributes\":{\"plot\":null,\"text\":null},\"id\":\"d9581f83-5a23-4e30-ba7f-99f7d1de2d61\",\"type\":\"Title\"},{\"attributes\":{\"plot\":{\"id\":\"0d46d8a6-5432-4a09-a675-cdf6277ba89d\",\"subtype\":\"Figure\",\"type\":\"Plot\"},\"ticker\":{\"id\":\"f566ac65-eb6c-4ea9-a743-903fa93fc0ff\",\"type\":\"BasicTicker\"}},\"id\":\"a003cae2-d55b-4a01-a555-4974ff46b5c2\",\"type\":\"Grid\"},{\"attributes\":{},\"id\":\"0363c3ad-891e-473d-9f96-0dd1e870e182\",\"type\":\"BasicTickFormatter\"},{\"attributes\":{},\"id\":\"d12d097e-c7e1-4ff7-af4e-8446c5879429\",\"type\":\"ToolEvents\"},{\"attributes\":{\"dimension\":1,\"plot\":{\"id\":\"0d46d8a6-5432-4a09-a675-cdf6277ba89d\",\"subtype\":\"Figure\",\"type\":\"Plot\"},\"ticker\":{\"id\":\"eb4dc3e6-342a-404a-8ae9-42703eefbc7a\",\"type\":\"BasicTicker\"}},\"id\":\"4ed35d03-f388-4f86-920d-014ba8218837\",\"type\":\"Grid\"},{\"attributes\":{\"active_drag\":\"auto\",\"active_scroll\":\"auto\",\"active_tap\":\"auto\",\"tools\":[{\"id\":\"106217d4-5038-4574-b7be-1137a50aa243\",\"type\":\"PanTool\"},{\"id\":\"3ebd4513-5196-489b-9615-ab52b92d5931\",\"type\":\"WheelZoomTool\"},{\"id\":\"e3a10b75-9ffe-4a95-be6a-9d6a673995a9\",\"type\":\"BoxZoomTool\"},{\"id\":\"e4e0e49a-7a8c-4f8c-8534-3b8b4aa85c1c\",\"type\":\"SaveTool\"},{\"id\":\"33a75165-3f2e-40c9-a908-9bcbdefcc93e\",\"type\":\"ResetTool\"},{\"id\":\"d2c92c94-1188-4f1c-94eb-dd29a16cb366\",\"type\":\"HelpTool\"}]},\"id\":\"5aea8fb4-480e-4854-b2b4-10eb501dd020\",\"type\":\"Toolbar\"},{\"attributes\":{\"line_alpha\":{\"value\":0.1},\"line_color\":{\"value\":\"#1f77b4\"},\"x\":{\"field\":\"x\"},\"y\":{\"field\":\"y\"}},\"id\":\"a7ceee84-7372-476f-aada-b4ec63c58b4a\",\"type\":\"Line\"},{\"attributes\":{\"plot\":{\"id\":\"0d46d8a6-5432-4a09-a675-cdf6277ba89d\",\"subtype\":\"Figure\",\"type\":\"Plot\"}},\"id\":\"33a75165-3f2e-40c9-a908-9bcbdefcc93e\",\"type\":\"ResetTool\"},{\"attributes\":{\"callback\":null,\"end\":59.400000000000006},\"id\":\"854c4474-a8b0-48ab-b2c1-ba4ebd659487\",\"type\":\"Range1d\"},{\"attributes\":{},\"id\":\"eb4dc3e6-342a-404a-8ae9-42703eefbc7a\",\"type\":\"BasicTicker\"},{\"attributes\":{\"below\":[{\"id\":\"0cdf81cf-6ef6-4dcd-b7cb-44cdf38e51d7\",\"type\":\"LinearAxis\"}],\"left\":[{\"id\":\"e008c6dc-58d4-438c-81b6-b4ca1514555b\",\"type\":\"LinearAxis\"}],\"plot_height\":400,\"plot_width\":900,\"renderers\":[{\"id\":\"0cdf81cf-6ef6-4dcd-b7cb-44cdf38e51d7\",\"type\":\"LinearAxis\"},{\"id\":\"a003cae2-d55b-4a01-a555-4974ff46b5c2\",\"type\":\"Grid\"},{\"id\":\"e008c6dc-58d4-438c-81b6-b4ca1514555b\",\"type\":\"LinearAxis\"},{\"id\":\"4ed35d03-f388-4f86-920d-014ba8218837\",\"type\":\"Grid\"},{\"id\":\"a27a22f2-19e3-48fa-8657-d03570301ba8\",\"type\":\"BoxAnnotation\"},{\"id\":\"62af79f4-6c0c-4af0-b25e-93d5c1148ed5\",\"type\":\"GlyphRenderer\"}],\"title\":{\"id\":\"d9581f83-5a23-4e30-ba7f-99f7d1de2d61\",\"type\":\"Title\"},\"tool_events\":{\"id\":\"d12d097e-c7e1-4ff7-af4e-8446c5879429\",\"type\":\"ToolEvents\"},\"toolbar\":{\"id\":\"5aea8fb4-480e-4854-b2b4-10eb501dd020\",\"type\":\"Toolbar\"},\"toolbar_location\":null,\"x_range\":{\"id\":\"365d1e74-84af-454f-9530-7df120ab8a70\",\"type\":\"Range1d\"},\"y_range\":{\"id\":\"854c4474-a8b0-48ab-b2c1-ba4ebd659487\",\"type\":\"Range1d\"}},\"id\":\"0d46d8a6-5432-4a09-a675-cdf6277ba89d\",\"subtype\":\"Figure\",\"type\":\"Plot\"},{\"attributes\":{\"line_color\":{\"value\":\"#1f77b4\"},\"x\":{\"field\":\"x\"},\"y\":{\"field\":\"y\"}},\"id\":\"65e34cbb-c246-46c8-b31c-1619ca407ad2\",\"type\":\"Line\"},{\"attributes\":{\"overlay\":{\"id\":\"a27a22f2-19e3-48fa-8657-d03570301ba8\",\"type\":\"BoxAnnotation\"},\"plot\":{\"id\":\"0d46d8a6-5432-4a09-a675-cdf6277ba89d\",\"subtype\":\"Figure\",\"type\":\"Plot\"}},\"id\":\"e3a10b75-9ffe-4a95-be6a-9d6a673995a9\",\"type\":\"BoxZoomTool\"},{\"attributes\":{},\"id\":\"f566ac65-eb6c-4ea9-a743-903fa93fc0ff\",\"type\":\"BasicTicker\"}],\"root_ids\":[\"0d46d8a6-5432-4a09-a675-cdf6277ba89d\"]},\"title\":\"Bokeh Application\",\"version\":\"0.12.0\"}};\n",
       "            var render_items = [{\"docid\":\"512f7698-fe43-4e06-9da0-29237e4d8864\",\"elementid\":\"7137b343-797d-4271-97a4-9a1e64c9f379\",\"modelid\":\"0d46d8a6-5432-4a09-a675-cdf6277ba89d\",\"notebook_comms_target\":\"63a960e2-b07b-467f-b763-dc226ba93a1f\"}];\n",
       "            \n",
       "            Bokeh.embed.embed_items(docs_json, render_items);\n",
       "        });\n",
       "      },\n",
       "      function(Bokeh) {\n",
       "      }\n",
       "    ];\n",
       "  \n",
       "    function run_inline_js() {\n",
       "      for (var i = 0; i < inline_js.length; i++) {\n",
       "        inline_js[i](window.Bokeh);\n",
       "      }\n",
       "    }\n",
       "  \n",
       "    if (window._bokeh_is_loading === 0) {\n",
       "      console.log(\"Bokeh: BokehJS loaded, going straight to plotting\");\n",
       "      run_inline_js();\n",
       "    } else {\n",
       "      load_libs(js_urls, function() {\n",
       "        console.log(\"Bokeh: BokehJS plotting callback run at\", now());\n",
       "        run_inline_js();\n",
       "      });\n",
       "    }\n",
       "  }(this));\n",
       "</script>"
      ]
     },
     "metadata": {},
     "output_type": "display_data"
    },
    {
     "data": {
      "text/html": [
       "<p><code>&lt;Bokeh Notebook handle for <strong>In[13]</strong>&gt;</code></p>"
      ],
      "text/plain": [
       "<bokeh.io._CommsHandle at 0x7f950bf52dd0>"
      ]
     },
     "execution_count": 13,
     "metadata": {},
     "output_type": "execute_result"
    }
   ],
   "source": [
    "count_data = an.sa_62_1265.unique_snps_per_allele(am_209_56)\n",
    "plt_obj = smcp(count_data)\n",
    "plt = plt_obj.do_plot()\n",
    "show(plt)"
   ]
  },
  {
   "cell_type": "code",
   "execution_count": 14,
   "metadata": {
    "collapsed": false
   },
   "outputs": [
    {
     "data": {
      "text/plain": [
       "array([(61, 2), (62, 54)], \n",
       "      dtype=[('count', '<u2'), ('snps', '<u2')])"
      ]
     },
     "execution_count": 14,
     "metadata": {},
     "output_type": "execute_result"
    }
   ],
   "source": [
    "count_data"
   ]
  },
  {
   "cell_type": "code",
   "execution_count": 15,
   "metadata": {
    "collapsed": false
   },
   "outputs": [
    {
     "data": {
      "text/html": [
       "\n",
       "\n",
       "    <div class=\"bk-root\">\n",
       "        <div class=\"plotdiv\" id=\"e38f9307-67ca-463a-b861-332012c885f8\"></div>\n",
       "    </div>\n",
       "<script type=\"text/javascript\">\n",
       "  \n",
       "  (function(global) {\n",
       "    function now() {\n",
       "      return new Date();\n",
       "    }\n",
       "  \n",
       "    if (typeof (window._bokeh_onload_callbacks) === \"undefined\") {\n",
       "      window._bokeh_onload_callbacks = [];\n",
       "    }\n",
       "  \n",
       "    function run_callbacks() {\n",
       "      window._bokeh_onload_callbacks.forEach(function(callback) { callback() });\n",
       "      delete window._bokeh_onload_callbacks\n",
       "      console.info(\"Bokeh: all callbacks have finished\");\n",
       "    }\n",
       "  \n",
       "    function load_libs(js_urls, callback) {\n",
       "      window._bokeh_onload_callbacks.push(callback);\n",
       "      if (window._bokeh_is_loading > 0) {\n",
       "        console.log(\"Bokeh: BokehJS is being loaded, scheduling callback at\", now());\n",
       "        return null;\n",
       "      }\n",
       "      if (js_urls == null || js_urls.length === 0) {\n",
       "        run_callbacks();\n",
       "        return null;\n",
       "      }\n",
       "      console.log(\"Bokeh: BokehJS not loaded, scheduling load and callback at\", now());\n",
       "      window._bokeh_is_loading = js_urls.length;\n",
       "      for (var i = 0; i < js_urls.length; i++) {\n",
       "        var url = js_urls[i];\n",
       "        var s = document.createElement('script');\n",
       "        s.src = url;\n",
       "        s.async = false;\n",
       "        s.onreadystatechange = s.onload = function() {\n",
       "          window._bokeh_is_loading--;\n",
       "          if (window._bokeh_is_loading === 0) {\n",
       "            console.log(\"Bokeh: all BokehJS libraries loaded\");\n",
       "            run_callbacks()\n",
       "          }\n",
       "        };\n",
       "        s.onerror = function() {\n",
       "          console.warn(\"failed to load library \" + url);\n",
       "        };\n",
       "        console.log(\"Bokeh: injecting script tag for BokehJS library: \", url);\n",
       "        document.getElementsByTagName(\"head\")[0].appendChild(s);\n",
       "      }\n",
       "    };var element = document.getElementById(\"e38f9307-67ca-463a-b861-332012c885f8\");\n",
       "    if (element == null) {\n",
       "      console.log(\"Bokeh: ERROR: autoload.js configured with elementid 'e38f9307-67ca-463a-b861-332012c885f8' but no matching script tag was found. \")\n",
       "      return false;\n",
       "    }\n",
       "  \n",
       "    var js_urls = [];\n",
       "  \n",
       "    var inline_js = [\n",
       "      function(Bokeh) {\n",
       "        Bokeh.$(function() {\n",
       "            var docs_json = {\"e0794b86-9afb-4f49-8738-f1e3d1f96a66\":{\"roots\":{\"references\":[{\"attributes\":{\"formatter\":{\"id\":\"fed1a9de-8d2d-4c86-973d-b63eee358be8\",\"type\":\"BasicTickFormatter\"},\"plot\":{\"id\":\"4eccdb14-e4d4-4935-b025-dd2071430208\",\"subtype\":\"Figure\",\"type\":\"Plot\"},\"ticker\":{\"id\":\"9380b02f-7d95-4110-8ee4-bbd060e7ed98\",\"type\":\"BasicTicker\"}},\"id\":\"efe1e7dd-ad20-4f80-8b14-572208826903\",\"type\":\"LinearAxis\"},{\"attributes\":{\"line_alpha\":{\"value\":0.1},\"line_color\":{\"value\":\"#1f77b4\"},\"x\":{\"field\":\"x\"},\"y\":{\"field\":\"y\"}},\"id\":\"8e143151-93a7-458e-a282-7f16193f243d\",\"type\":\"Line\"},{\"attributes\":{\"plot\":{\"id\":\"4eccdb14-e4d4-4935-b025-dd2071430208\",\"subtype\":\"Figure\",\"type\":\"Plot\"}},\"id\":\"28804fe6-7e4a-4502-aa45-161171be7c6d\",\"type\":\"ResetTool\"},{\"attributes\":{\"overlay\":{\"id\":\"52330b2e-6f11-4425-b1a4-3bd4f2b6d80c\",\"type\":\"BoxAnnotation\"},\"plot\":{\"id\":\"4eccdb14-e4d4-4935-b025-dd2071430208\",\"subtype\":\"Figure\",\"type\":\"Plot\"}},\"id\":\"a1e42363-9d94-42b3-9986-0954bd0b73ac\",\"type\":\"BoxZoomTool\"},{\"attributes\":{\"plot\":{\"id\":\"4eccdb14-e4d4-4935-b025-dd2071430208\",\"subtype\":\"Figure\",\"type\":\"Plot\"}},\"id\":\"d556fa04-ee20-4fec-a0a8-45217e243bd6\",\"type\":\"PanTool\"},{\"attributes\":{\"plot\":{\"id\":\"4eccdb14-e4d4-4935-b025-dd2071430208\",\"subtype\":\"Figure\",\"type\":\"Plot\"}},\"id\":\"7b83f8ca-77ed-4988-8d06-30ab1f22d7ba\",\"type\":\"WheelZoomTool\"},{\"attributes\":{\"plot\":{\"id\":\"4eccdb14-e4d4-4935-b025-dd2071430208\",\"subtype\":\"Figure\",\"type\":\"Plot\"},\"ticker\":{\"id\":\"9380b02f-7d95-4110-8ee4-bbd060e7ed98\",\"type\":\"BasicTicker\"}},\"id\":\"bf958a0f-10cc-449c-a162-48e9ef9fadee\",\"type\":\"Grid\"},{\"attributes\":{\"formatter\":{\"id\":\"55131b4e-94f9-4aa4-8bf4-f5823488a50b\",\"type\":\"BasicTickFormatter\"},\"plot\":{\"id\":\"4eccdb14-e4d4-4935-b025-dd2071430208\",\"subtype\":\"Figure\",\"type\":\"Plot\"},\"ticker\":{\"id\":\"f439e8a1-2e29-4898-adaa-1ced1785ee5f\",\"type\":\"BasicTicker\"}},\"id\":\"153a0c6e-ff86-4b71-8d0a-bc48604f625d\",\"type\":\"LinearAxis\"},{\"attributes\":{\"bottom_units\":\"screen\",\"fill_alpha\":{\"value\":0.5},\"fill_color\":{\"value\":\"lightgrey\"},\"left_units\":\"screen\",\"level\":\"overlay\",\"line_alpha\":{\"value\":1.0},\"line_color\":{\"value\":\"black\"},\"line_dash\":[4,4],\"line_width\":{\"value\":2},\"plot\":null,\"render_mode\":\"css\",\"right_units\":\"screen\",\"top_units\":\"screen\"},\"id\":\"52330b2e-6f11-4425-b1a4-3bd4f2b6d80c\",\"type\":\"BoxAnnotation\"},{\"attributes\":{\"plot\":{\"id\":\"4eccdb14-e4d4-4935-b025-dd2071430208\",\"subtype\":\"Figure\",\"type\":\"Plot\"}},\"id\":\"b3956e80-66d0-4804-8cb3-a6834c26da43\",\"type\":\"SaveTool\"},{\"attributes\":{\"callback\":null,\"column_names\":[\"y\",\"x\"],\"data\":{\"x\":[-0.5,-0.5,4.5,4.5,5.5,5.5,6.5,6.5,7.5,7.5],\"y\":[0.0,0.0,0.0,49.0,49.0,6.0,6.0,1.0,1.0,0.0]}},\"id\":\"e1e79ab1-88bb-401a-943f-204c9f141038\",\"type\":\"ColumnDataSource\"},{\"attributes\":{\"below\":[{\"id\":\"efe1e7dd-ad20-4f80-8b14-572208826903\",\"type\":\"LinearAxis\"}],\"left\":[{\"id\":\"153a0c6e-ff86-4b71-8d0a-bc48604f625d\",\"type\":\"LinearAxis\"}],\"plot_height\":400,\"plot_width\":900,\"renderers\":[{\"id\":\"efe1e7dd-ad20-4f80-8b14-572208826903\",\"type\":\"LinearAxis\"},{\"id\":\"bf958a0f-10cc-449c-a162-48e9ef9fadee\",\"type\":\"Grid\"},{\"id\":\"153a0c6e-ff86-4b71-8d0a-bc48604f625d\",\"type\":\"LinearAxis\"},{\"id\":\"24f4fb2d-5788-4c31-b34c-1a6541bd6748\",\"type\":\"Grid\"},{\"id\":\"52330b2e-6f11-4425-b1a4-3bd4f2b6d80c\",\"type\":\"BoxAnnotation\"},{\"id\":\"9e9c550b-d415-4317-bd20-f263de02dfb5\",\"type\":\"GlyphRenderer\"}],\"title\":{\"id\":\"d6f8a711-d509-4957-8a76-40debe787c9d\",\"type\":\"Title\"},\"tool_events\":{\"id\":\"f17ad9cd-b312-47a9-b6fe-f2c2f3644d2e\",\"type\":\"ToolEvents\"},\"toolbar\":{\"id\":\"796a8eae-c1a1-481c-99d3-7aef68972ec8\",\"type\":\"Toolbar\"},\"toolbar_location\":null,\"x_range\":{\"id\":\"f92dbbac-8628-4bfb-a821-af5963075a42\",\"type\":\"Range1d\"},\"y_range\":{\"id\":\"e6607f0f-5dfe-44b9-a05b-10eceaf25d9b\",\"type\":\"Range1d\"}},\"id\":\"4eccdb14-e4d4-4935-b025-dd2071430208\",\"subtype\":\"Figure\",\"type\":\"Plot\"},{\"attributes\":{},\"id\":\"f439e8a1-2e29-4898-adaa-1ced1785ee5f\",\"type\":\"BasicTicker\"},{\"attributes\":{\"plot\":null,\"text\":null},\"id\":\"d6f8a711-d509-4957-8a76-40debe787c9d\",\"type\":\"Title\"},{\"attributes\":{},\"id\":\"55131b4e-94f9-4aa4-8bf4-f5823488a50b\",\"type\":\"BasicTickFormatter\"},{\"attributes\":{},\"id\":\"f17ad9cd-b312-47a9-b6fe-f2c2f3644d2e\",\"type\":\"ToolEvents\"},{\"attributes\":{\"active_drag\":\"auto\",\"active_scroll\":\"auto\",\"active_tap\":\"auto\",\"tools\":[{\"id\":\"d556fa04-ee20-4fec-a0a8-45217e243bd6\",\"type\":\"PanTool\"},{\"id\":\"7b83f8ca-77ed-4988-8d06-30ab1f22d7ba\",\"type\":\"WheelZoomTool\"},{\"id\":\"a1e42363-9d94-42b3-9986-0954bd0b73ac\",\"type\":\"BoxZoomTool\"},{\"id\":\"b3956e80-66d0-4804-8cb3-a6834c26da43\",\"type\":\"SaveTool\"},{\"id\":\"28804fe6-7e4a-4502-aa45-161171be7c6d\",\"type\":\"ResetTool\"},{\"id\":\"866ef420-4a52-4f56-9a0a-7a1286ae657c\",\"type\":\"HelpTool\"}]},\"id\":\"796a8eae-c1a1-481c-99d3-7aef68972ec8\",\"type\":\"Toolbar\"},{\"attributes\":{\"data_source\":{\"id\":\"e1e79ab1-88bb-401a-943f-204c9f141038\",\"type\":\"ColumnDataSource\"},\"glyph\":{\"id\":\"83d4df5c-84ea-4478-a74c-de8aae5a864c\",\"type\":\"Line\"},\"hover_glyph\":null,\"nonselection_glyph\":{\"id\":\"8e143151-93a7-458e-a282-7f16193f243d\",\"type\":\"Line\"},\"selection_glyph\":null},\"id\":\"9e9c550b-d415-4317-bd20-f263de02dfb5\",\"type\":\"GlyphRenderer\"},{\"attributes\":{\"plot\":{\"id\":\"4eccdb14-e4d4-4935-b025-dd2071430208\",\"subtype\":\"Figure\",\"type\":\"Plot\"}},\"id\":\"866ef420-4a52-4f56-9a0a-7a1286ae657c\",\"type\":\"HelpTool\"},{\"attributes\":{},\"id\":\"9380b02f-7d95-4110-8ee4-bbd060e7ed98\",\"type\":\"BasicTicker\"},{\"attributes\":{},\"id\":\"fed1a9de-8d2d-4c86-973d-b63eee358be8\",\"type\":\"BasicTickFormatter\"},{\"attributes\":{\"callback\":null,\"end\":53.900000000000006},\"id\":\"e6607f0f-5dfe-44b9-a05b-10eceaf25d9b\",\"type\":\"Range1d\"},{\"attributes\":{\"callback\":null,\"end\":8.5,\"start\":-0.5},\"id\":\"f92dbbac-8628-4bfb-a821-af5963075a42\",\"type\":\"Range1d\"},{\"attributes\":{\"line_color\":{\"value\":\"#1f77b4\"},\"x\":{\"field\":\"x\"},\"y\":{\"field\":\"y\"}},\"id\":\"83d4df5c-84ea-4478-a74c-de8aae5a864c\",\"type\":\"Line\"},{\"attributes\":{\"dimension\":1,\"plot\":{\"id\":\"4eccdb14-e4d4-4935-b025-dd2071430208\",\"subtype\":\"Figure\",\"type\":\"Plot\"},\"ticker\":{\"id\":\"f439e8a1-2e29-4898-adaa-1ced1785ee5f\",\"type\":\"BasicTicker\"}},\"id\":\"24f4fb2d-5788-4c31-b34c-1a6541bd6748\",\"type\":\"Grid\"}],\"root_ids\":[\"4eccdb14-e4d4-4935-b025-dd2071430208\"]},\"title\":\"Bokeh Application\",\"version\":\"0.12.0\"}};\n",
       "            var render_items = [{\"docid\":\"e0794b86-9afb-4f49-8738-f1e3d1f96a66\",\"elementid\":\"e38f9307-67ca-463a-b861-332012c885f8\",\"modelid\":\"4eccdb14-e4d4-4935-b025-dd2071430208\",\"notebook_comms_target\":\"ec6a1820-d4ca-4ed1-935d-34eb862914f0\"}];\n",
       "            \n",
       "            Bokeh.embed.embed_items(docs_json, render_items);\n",
       "        });\n",
       "      },\n",
       "      function(Bokeh) {\n",
       "      }\n",
       "    ];\n",
       "  \n",
       "    function run_inline_js() {\n",
       "      for (var i = 0; i < inline_js.length; i++) {\n",
       "        inline_js[i](window.Bokeh);\n",
       "      }\n",
       "    }\n",
       "  \n",
       "    if (window._bokeh_is_loading === 0) {\n",
       "      console.log(\"Bokeh: BokehJS loaded, going straight to plotting\");\n",
       "      run_inline_js();\n",
       "    } else {\n",
       "      load_libs(js_urls, function() {\n",
       "        console.log(\"Bokeh: BokehJS plotting callback run at\", now());\n",
       "        run_inline_js();\n",
       "      });\n",
       "    }\n",
       "  }(this));\n",
       "</script>"
      ]
     },
     "metadata": {},
     "output_type": "display_data"
    },
    {
     "data": {
      "text/html": [
       "<p><code>&lt;Bokeh Notebook handle for <strong>In[15]</strong>&gt;</code></p>"
      ],
      "text/plain": [
       "<bokeh.io._CommsHandle at 0x7f950a5dd450>"
      ]
     },
     "execution_count": 15,
     "metadata": {},
     "output_type": "execute_result"
    }
   ],
   "source": [
    "count_data = an.sa_193_843.unique_snps_per_allele(am_209_56)\n",
    "plt_obj = smcp(count_data)\n",
    "plt = plt_obj.do_plot()\n",
    "show(plt)"
   ]
  },
  {
   "cell_type": "code",
   "execution_count": 16,
   "metadata": {
    "collapsed": false
   },
   "outputs": [
    {
     "data": {
      "text/plain": [
       "array([(5, 49), (6, 6), (7, 1)], \n",
       "      dtype=[('count', '<u2'), ('snps', '<u2')])"
      ]
     },
     "execution_count": 16,
     "metadata": {},
     "output_type": "execute_result"
    }
   ],
   "source": [
    "count_data"
   ]
  },
  {
   "cell_type": "code",
   "execution_count": 17,
   "metadata": {
    "collapsed": false
   },
   "outputs": [
    {
     "data": {
      "text/plain": [
       "array([49,  0, 49,  0, 49, 49, 49,  0,  0,  0,  0,  0,  0,  0,  0,  0,  0,\n",
       "        0,  0,  0,  0,  0,  0,  0,  0,  0,  0,  0,  0,  0,  0,  0,  0,  0,\n",
       "        0,  0,  0,  0,  0,  0,  0,  0,  0,  0,  0,  0,  0,  0,  0,  0,  0,\n",
       "        0,  0,  0,  0,  0,  0,  0,  0,  0,  0,  0,  0,  0,  0,  0,  0,  0,\n",
       "        0,  0,  0,  0,  0,  0,  0,  0,  0,  0,  0,  0,  0,  0,  0,  0,  0,\n",
       "        0,  0,  0,  0,  0,  0,  0,  0,  0,  0,  0,  0,  0,  0,  0,  0,  0,\n",
       "        0,  0,  0,  0,  0,  0,  0,  0,  0,  0,  0,  0,  0,  0,  0,  0,  0,\n",
       "        0,  0,  0,  0,  0,  0,  0,  0,  0,  0,  0,  0,  0,  0,  0,  0,  0,\n",
       "        0,  0,  0,  0,  0,  0,  0,  0,  0,  0,  0,  0,  0,  0,  0,  0,  0,\n",
       "        0,  0,  0,  0,  0,  0,  0,  0,  0,  0,  0,  0,  0,  0,  0,  0,  0,\n",
       "        0,  0,  0,  0,  0,  0,  0,  0,  0,  0,  0,  0,  0,  0,  0,  0,  0,\n",
       "        0,  0,  0,  0,  0,  0])"
      ]
     },
     "execution_count": 17,
     "metadata": {},
     "output_type": "execute_result"
    }
   ],
   "source": [
    "aps_5, am_5 = an.sa_193_843.snps_from_aps_value(5, am_209_56)\n",
    "aps_5"
   ]
  },
  {
   "cell_type": "code",
   "execution_count": 18,
   "metadata": {
    "collapsed": false
   },
   "outputs": [
    {
     "data": {
      "text/html": [
       "\n",
       "\n",
       "    <div class=\"bk-root\">\n",
       "        <div class=\"plotdiv\" id=\"bc876f0d-c4cb-4154-b35b-889e41aa997e\"></div>\n",
       "    </div>\n",
       "<script type=\"text/javascript\">\n",
       "  \n",
       "  (function(global) {\n",
       "    function now() {\n",
       "      return new Date();\n",
       "    }\n",
       "  \n",
       "    if (typeof (window._bokeh_onload_callbacks) === \"undefined\") {\n",
       "      window._bokeh_onload_callbacks = [];\n",
       "    }\n",
       "  \n",
       "    function run_callbacks() {\n",
       "      window._bokeh_onload_callbacks.forEach(function(callback) { callback() });\n",
       "      delete window._bokeh_onload_callbacks\n",
       "      console.info(\"Bokeh: all callbacks have finished\");\n",
       "    }\n",
       "  \n",
       "    function load_libs(js_urls, callback) {\n",
       "      window._bokeh_onload_callbacks.push(callback);\n",
       "      if (window._bokeh_is_loading > 0) {\n",
       "        console.log(\"Bokeh: BokehJS is being loaded, scheduling callback at\", now());\n",
       "        return null;\n",
       "      }\n",
       "      if (js_urls == null || js_urls.length === 0) {\n",
       "        run_callbacks();\n",
       "        return null;\n",
       "      }\n",
       "      console.log(\"Bokeh: BokehJS not loaded, scheduling load and callback at\", now());\n",
       "      window._bokeh_is_loading = js_urls.length;\n",
       "      for (var i = 0; i < js_urls.length; i++) {\n",
       "        var url = js_urls[i];\n",
       "        var s = document.createElement('script');\n",
       "        s.src = url;\n",
       "        s.async = false;\n",
       "        s.onreadystatechange = s.onload = function() {\n",
       "          window._bokeh_is_loading--;\n",
       "          if (window._bokeh_is_loading === 0) {\n",
       "            console.log(\"Bokeh: all BokehJS libraries loaded\");\n",
       "            run_callbacks()\n",
       "          }\n",
       "        };\n",
       "        s.onerror = function() {\n",
       "          console.warn(\"failed to load library \" + url);\n",
       "        };\n",
       "        console.log(\"Bokeh: injecting script tag for BokehJS library: \", url);\n",
       "        document.getElementsByTagName(\"head\")[0].appendChild(s);\n",
       "      }\n",
       "    };var element = document.getElementById(\"bc876f0d-c4cb-4154-b35b-889e41aa997e\");\n",
       "    if (element == null) {\n",
       "      console.log(\"Bokeh: ERROR: autoload.js configured with elementid 'bc876f0d-c4cb-4154-b35b-889e41aa997e' but no matching script tag was found. \")\n",
       "      return false;\n",
       "    }\n",
       "  \n",
       "    var js_urls = [];\n",
       "  \n",
       "    var inline_js = [\n",
       "      function(Bokeh) {\n",
       "        Bokeh.$(function() {\n",
       "            var docs_json = {\"4cdff09b-03af-44cb-b3ed-b20c71fa2aee\":{\"roots\":{\"references\":[{\"attributes\":{\"data_source\":{\"id\":\"913d5516-0ec6-41e5-b6c2-c3cd3a392a3e\",\"type\":\"ColumnDataSource\"},\"glyph\":{\"id\":\"22bdffd1-90e9-4884-bc41-952130f9add7\",\"type\":\"Line\"},\"hover_glyph\":null,\"nonselection_glyph\":{\"id\":\"93097519-db04-4f98-a2a4-50afdf60c090\",\"type\":\"Line\"},\"selection_glyph\":null},\"id\":\"487d02d2-2d1e-485b-a797-8173ece10c3b\",\"type\":\"GlyphRenderer\"},{\"attributes\":{\"plot\":null,\"text\":null},\"id\":\"045a48b2-85f1-49e6-91b1-f1de2322bbb1\",\"type\":\"Title\"},{\"attributes\":{\"formatter\":{\"id\":\"ee83421e-d6e4-43bc-aefc-3b7dcefff4fd\",\"type\":\"BasicTickFormatter\"},\"plot\":{\"id\":\"40495f9b-72e5-4db4-bdb8-5cfb3e156ffc\",\"subtype\":\"Figure\",\"type\":\"Plot\"},\"ticker\":{\"id\":\"1cf64653-7c6c-4e3a-af8f-aa1c6d8df152\",\"type\":\"BasicTicker\"}},\"id\":\"979abaf9-2c2f-4228-bca4-ed8861b022f5\",\"type\":\"LinearAxis\"},{\"attributes\":{},\"id\":\"d166bc5a-c805-4f6d-8b5c-31a62385cb79\",\"type\":\"BasicTickFormatter\"},{\"attributes\":{},\"id\":\"ee83421e-d6e4-43bc-aefc-3b7dcefff4fd\",\"type\":\"BasicTickFormatter\"},{\"attributes\":{\"plot\":{\"id\":\"40495f9b-72e5-4db4-bdb8-5cfb3e156ffc\",\"subtype\":\"Figure\",\"type\":\"Plot\"}},\"id\":\"9a1e370a-144a-45f9-b01b-ef125060c4d0\",\"type\":\"WheelZoomTool\"},{\"attributes\":{\"bottom_units\":\"screen\",\"fill_alpha\":{\"value\":0.5},\"fill_color\":{\"value\":\"lightgrey\"},\"left_units\":\"screen\",\"level\":\"overlay\",\"line_alpha\":{\"value\":1.0},\"line_color\":{\"value\":\"black\"},\"line_dash\":[4,4],\"line_width\":{\"value\":2},\"plot\":null,\"render_mode\":\"css\",\"right_units\":\"screen\",\"top_units\":\"screen\"},\"id\":\"b9a791a7-41a3-4655-a75b-395820f0026b\",\"type\":\"BoxAnnotation\"},{\"attributes\":{\"active_drag\":\"auto\",\"active_scroll\":\"auto\",\"active_tap\":\"auto\",\"tools\":[{\"id\":\"a77efd16-4a41-4993-bb4a-cc7fbfd44048\",\"type\":\"PanTool\"},{\"id\":\"9a1e370a-144a-45f9-b01b-ef125060c4d0\",\"type\":\"WheelZoomTool\"},{\"id\":\"7dec0f6d-02e5-4d7e-8805-d0664bc98a9d\",\"type\":\"BoxZoomTool\"},{\"id\":\"afd56bc4-a5bc-4de1-80a0-dcdf7fd4c942\",\"type\":\"SaveTool\"},{\"id\":\"99cc6db2-c6ee-4970-9876-a1fcb29f9967\",\"type\":\"ResetTool\"},{\"id\":\"fe368b4f-8ed0-42e2-9f0e-34e73b91eeea\",\"type\":\"HelpTool\"}]},\"id\":\"2fc95478-8e84-4ee9-bd29-6f4ba7bd711b\",\"type\":\"Toolbar\"},{\"attributes\":{\"dimension\":1,\"plot\":{\"id\":\"40495f9b-72e5-4db4-bdb8-5cfb3e156ffc\",\"subtype\":\"Figure\",\"type\":\"Plot\"},\"ticker\":{\"id\":\"1cf64653-7c6c-4e3a-af8f-aa1c6d8df152\",\"type\":\"BasicTicker\"}},\"id\":\"09f197e8-f8d3-4307-89af-6c09d59477e3\",\"type\":\"Grid\"},{\"attributes\":{\"formatter\":{\"id\":\"d166bc5a-c805-4f6d-8b5c-31a62385cb79\",\"type\":\"BasicTickFormatter\"},\"plot\":{\"id\":\"40495f9b-72e5-4db4-bdb8-5cfb3e156ffc\",\"subtype\":\"Figure\",\"type\":\"Plot\"},\"ticker\":{\"id\":\"118e83ec-4ff2-4e55-874c-db64b06d1d83\",\"type\":\"BasicTicker\"}},\"id\":\"8a3154f0-f685-46b8-b5f6-e022d81091f5\",\"type\":\"LinearAxis\"},{\"attributes\":{},\"id\":\"118e83ec-4ff2-4e55-874c-db64b06d1d83\",\"type\":\"BasicTicker\"},{\"attributes\":{\"line_color\":{\"value\":\"#1f77b4\"},\"x\":{\"field\":\"x\"},\"y\":{\"field\":\"y\"}},\"id\":\"22bdffd1-90e9-4884-bc41-952130f9add7\",\"type\":\"Line\"},{\"attributes\":{\"plot\":{\"id\":\"40495f9b-72e5-4db4-bdb8-5cfb3e156ffc\",\"subtype\":\"Figure\",\"type\":\"Plot\"}},\"id\":\"99cc6db2-c6ee-4970-9876-a1fcb29f9967\",\"type\":\"ResetTool\"},{\"attributes\":{\"below\":[{\"id\":\"8a3154f0-f685-46b8-b5f6-e022d81091f5\",\"type\":\"LinearAxis\"}],\"left\":[{\"id\":\"979abaf9-2c2f-4228-bca4-ed8861b022f5\",\"type\":\"LinearAxis\"}],\"plot_height\":400,\"plot_width\":900,\"renderers\":[{\"id\":\"8a3154f0-f685-46b8-b5f6-e022d81091f5\",\"type\":\"LinearAxis\"},{\"id\":\"a18ac83e-962f-4a9b-8c43-ad19bf34fe3a\",\"type\":\"Grid\"},{\"id\":\"979abaf9-2c2f-4228-bca4-ed8861b022f5\",\"type\":\"LinearAxis\"},{\"id\":\"09f197e8-f8d3-4307-89af-6c09d59477e3\",\"type\":\"Grid\"},{\"id\":\"b9a791a7-41a3-4655-a75b-395820f0026b\",\"type\":\"BoxAnnotation\"},{\"id\":\"487d02d2-2d1e-485b-a797-8173ece10c3b\",\"type\":\"GlyphRenderer\"}],\"title\":{\"id\":\"045a48b2-85f1-49e6-91b1-f1de2322bbb1\",\"type\":\"Title\"},\"tool_events\":{\"id\":\"985092a9-f810-4702-bc2e-9ad1dbd35e45\",\"type\":\"ToolEvents\"},\"toolbar\":{\"id\":\"2fc95478-8e84-4ee9-bd29-6f4ba7bd711b\",\"type\":\"Toolbar\"},\"toolbar_location\":null,\"x_range\":{\"id\":\"d7586a29-7fbc-4e24-b0cb-5c21ca410bbc\",\"type\":\"Range1d\"},\"y_range\":{\"id\":\"e0c7935f-a13c-4e76-b87d-5ce8e8ad59d8\",\"type\":\"Range1d\"}},\"id\":\"40495f9b-72e5-4db4-bdb8-5cfb3e156ffc\",\"subtype\":\"Figure\",\"type\":\"Plot\"},{\"attributes\":{\"callback\":null,\"column_names\":[\"y\",\"x\"],\"data\":{\"x\":[-0.5,-0.5,0.5,0.5,16.5,16.5,17.5,17.5,22.5,22.5,23.5,23.5,25.5,25.5,26.5,26.5],\"y\":[0.0,4.0,4.0,0.0,0.0,1.0,1.0,0.0,0.0,50.0,50.0,0.0,0.0,1.0,1.0,0.0]}},\"id\":\"913d5516-0ec6-41e5-b6c2-c3cd3a392a3e\",\"type\":\"ColumnDataSource\"},{\"attributes\":{},\"id\":\"1cf64653-7c6c-4e3a-af8f-aa1c6d8df152\",\"type\":\"BasicTicker\"},{\"attributes\":{\"callback\":null,\"end\":55.00000000000001},\"id\":\"e0c7935f-a13c-4e76-b87d-5ce8e8ad59d8\",\"type\":\"Range1d\"},{\"attributes\":{\"callback\":null,\"end\":27.5,\"start\":-0.5},\"id\":\"d7586a29-7fbc-4e24-b0cb-5c21ca410bbc\",\"type\":\"Range1d\"},{\"attributes\":{\"plot\":{\"id\":\"40495f9b-72e5-4db4-bdb8-5cfb3e156ffc\",\"subtype\":\"Figure\",\"type\":\"Plot\"}},\"id\":\"a77efd16-4a41-4993-bb4a-cc7fbfd44048\",\"type\":\"PanTool\"},{\"attributes\":{\"line_alpha\":{\"value\":0.1},\"line_color\":{\"value\":\"#1f77b4\"},\"x\":{\"field\":\"x\"},\"y\":{\"field\":\"y\"}},\"id\":\"93097519-db04-4f98-a2a4-50afdf60c090\",\"type\":\"Line\"},{\"attributes\":{},\"id\":\"985092a9-f810-4702-bc2e-9ad1dbd35e45\",\"type\":\"ToolEvents\"},{\"attributes\":{\"plot\":{\"id\":\"40495f9b-72e5-4db4-bdb8-5cfb3e156ffc\",\"subtype\":\"Figure\",\"type\":\"Plot\"},\"ticker\":{\"id\":\"118e83ec-4ff2-4e55-874c-db64b06d1d83\",\"type\":\"BasicTicker\"}},\"id\":\"a18ac83e-962f-4a9b-8c43-ad19bf34fe3a\",\"type\":\"Grid\"},{\"attributes\":{\"plot\":{\"id\":\"40495f9b-72e5-4db4-bdb8-5cfb3e156ffc\",\"subtype\":\"Figure\",\"type\":\"Plot\"}},\"id\":\"afd56bc4-a5bc-4de1-80a0-dcdf7fd4c942\",\"type\":\"SaveTool\"},{\"attributes\":{\"overlay\":{\"id\":\"b9a791a7-41a3-4655-a75b-395820f0026b\",\"type\":\"BoxAnnotation\"},\"plot\":{\"id\":\"40495f9b-72e5-4db4-bdb8-5cfb3e156ffc\",\"subtype\":\"Figure\",\"type\":\"Plot\"}},\"id\":\"7dec0f6d-02e5-4d7e-8805-d0664bc98a9d\",\"type\":\"BoxZoomTool\"},{\"attributes\":{\"plot\":{\"id\":\"40495f9b-72e5-4db4-bdb8-5cfb3e156ffc\",\"subtype\":\"Figure\",\"type\":\"Plot\"}},\"id\":\"fe368b4f-8ed0-42e2-9f0e-34e73b91eeea\",\"type\":\"HelpTool\"}],\"root_ids\":[\"40495f9b-72e5-4db4-bdb8-5cfb3e156ffc\"]},\"title\":\"Bokeh Application\",\"version\":\"0.12.0\"}};\n",
       "            var render_items = [{\"docid\":\"4cdff09b-03af-44cb-b3ed-b20c71fa2aee\",\"elementid\":\"bc876f0d-c4cb-4154-b35b-889e41aa997e\",\"modelid\":\"40495f9b-72e5-4db4-bdb8-5cfb3e156ffc\",\"notebook_comms_target\":\"757f3b07-4705-477e-bb8d-f7704e26971f\"}];\n",
       "            \n",
       "            Bokeh.embed.embed_items(docs_json, render_items);\n",
       "        });\n",
       "      },\n",
       "      function(Bokeh) {\n",
       "      }\n",
       "    ];\n",
       "  \n",
       "    function run_inline_js() {\n",
       "      for (var i = 0; i < inline_js.length; i++) {\n",
       "        inline_js[i](window.Bokeh);\n",
       "      }\n",
       "    }\n",
       "  \n",
       "    if (window._bokeh_is_loading === 0) {\n",
       "      console.log(\"Bokeh: BokehJS loaded, going straight to plotting\");\n",
       "      run_inline_js();\n",
       "    } else {\n",
       "      load_libs(js_urls, function() {\n",
       "        console.log(\"Bokeh: BokehJS plotting callback run at\", now());\n",
       "        run_inline_js();\n",
       "      });\n",
       "    }\n",
       "  }(this));\n",
       "</script>"
      ]
     },
     "metadata": {},
     "output_type": "display_data"
    },
    {
     "data": {
      "text/html": [
       "<p><code>&lt;Bokeh Notebook handle for <strong>In[18]</strong>&gt;</code></p>"
      ],
      "text/plain": [
       "<bokeh.io._CommsHandle at 0x7f950a5ddc10>"
      ]
     },
     "execution_count": 18,
     "metadata": {},
     "output_type": "execute_result"
    }
   ],
   "source": [
    "count_data = an.sa_26_1414.unique_snps_per_allele(am_209_56)\n",
    "plt_obj = smcp(count_data)\n",
    "plt = plt_obj.do_plot()\n",
    "show(plt)"
   ]
  },
  {
   "cell_type": "code",
   "execution_count": 19,
   "metadata": {
    "collapsed": false
   },
   "outputs": [
    {
     "data": {
      "text/plain": [
       "array([(0, 4), (17, 1), (23, 50), (26, 1)], \n",
       "      dtype=[('count', '<u2'), ('snps', '<u2')])"
      ]
     },
     "execution_count": 19,
     "metadata": {},
     "output_type": "execute_result"
    }
   ],
   "source": [
    "count_data"
   ]
  },
  {
   "cell_type": "code",
   "execution_count": 20,
   "metadata": {
    "collapsed": false
   },
   "outputs": [
    {
     "data": {
      "text/plain": [
       "array([50, 50, 50, 50, 50, 50, 50, 50, 50, 50, 50, 50, 50, 50, 50, 50, 50,\n",
       "        0, 50, 50, 50,  0, 50,  0, 50, 50])"
      ]
     },
     "execution_count": 20,
     "metadata": {},
     "output_type": "execute_result"
    }
   ],
   "source": [
    "aps_23, am_23 = an.sa_26_1414.snps_from_aps_value(23, am_209_56)\n",
    "aps_23"
   ]
  },
  {
   "cell_type": "code",
   "execution_count": 21,
   "metadata": {
    "collapsed": false
   },
   "outputs": [
    {
     "data": {
      "text/html": [
       "\n",
       "\n",
       "    <div class=\"bk-root\">\n",
       "        <div class=\"plotdiv\" id=\"0a7d8d39-3a46-4e55-9f59-ed5e7bffb0aa\"></div>\n",
       "    </div>\n",
       "<script type=\"text/javascript\">\n",
       "  \n",
       "  (function(global) {\n",
       "    function now() {\n",
       "      return new Date();\n",
       "    }\n",
       "  \n",
       "    if (typeof (window._bokeh_onload_callbacks) === \"undefined\") {\n",
       "      window._bokeh_onload_callbacks = [];\n",
       "    }\n",
       "  \n",
       "    function run_callbacks() {\n",
       "      window._bokeh_onload_callbacks.forEach(function(callback) { callback() });\n",
       "      delete window._bokeh_onload_callbacks\n",
       "      console.info(\"Bokeh: all callbacks have finished\");\n",
       "    }\n",
       "  \n",
       "    function load_libs(js_urls, callback) {\n",
       "      window._bokeh_onload_callbacks.push(callback);\n",
       "      if (window._bokeh_is_loading > 0) {\n",
       "        console.log(\"Bokeh: BokehJS is being loaded, scheduling callback at\", now());\n",
       "        return null;\n",
       "      }\n",
       "      if (js_urls == null || js_urls.length === 0) {\n",
       "        run_callbacks();\n",
       "        return null;\n",
       "      }\n",
       "      console.log(\"Bokeh: BokehJS not loaded, scheduling load and callback at\", now());\n",
       "      window._bokeh_is_loading = js_urls.length;\n",
       "      for (var i = 0; i < js_urls.length; i++) {\n",
       "        var url = js_urls[i];\n",
       "        var s = document.createElement('script');\n",
       "        s.src = url;\n",
       "        s.async = false;\n",
       "        s.onreadystatechange = s.onload = function() {\n",
       "          window._bokeh_is_loading--;\n",
       "          if (window._bokeh_is_loading === 0) {\n",
       "            console.log(\"Bokeh: all BokehJS libraries loaded\");\n",
       "            run_callbacks()\n",
       "          }\n",
       "        };\n",
       "        s.onerror = function() {\n",
       "          console.warn(\"failed to load library \" + url);\n",
       "        };\n",
       "        console.log(\"Bokeh: injecting script tag for BokehJS library: \", url);\n",
       "        document.getElementsByTagName(\"head\")[0].appendChild(s);\n",
       "      }\n",
       "    };var element = document.getElementById(\"0a7d8d39-3a46-4e55-9f59-ed5e7bffb0aa\");\n",
       "    if (element == null) {\n",
       "      console.log(\"Bokeh: ERROR: autoload.js configured with elementid '0a7d8d39-3a46-4e55-9f59-ed5e7bffb0aa' but no matching script tag was found. \")\n",
       "      return false;\n",
       "    }\n",
       "  \n",
       "    var js_urls = [];\n",
       "  \n",
       "    var inline_js = [\n",
       "      function(Bokeh) {\n",
       "        Bokeh.$(function() {\n",
       "            var docs_json = {\"46e31c4f-08db-47ca-8c23-65ade23699e0\":{\"roots\":{\"references\":[{\"attributes\":{\"plot\":{\"id\":\"762bbd52-9e5f-4a31-bcba-bc70c6e843bd\",\"subtype\":\"Figure\",\"type\":\"Plot\"}},\"id\":\"06069e28-7ef9-42d6-9ddc-f5244aa75a5c\",\"type\":\"ResetTool\"},{\"attributes\":{\"callback\":null,\"end\":15.5,\"start\":-0.5},\"id\":\"73bff175-5d58-4a5c-ab4b-5beca99465e6\",\"type\":\"Range1d\"},{\"attributes\":{},\"id\":\"7d1a41a0-a58e-458f-9cc4-a42be7037592\",\"type\":\"BasicTicker\"},{\"attributes\":{\"dimension\":1,\"plot\":{\"id\":\"762bbd52-9e5f-4a31-bcba-bc70c6e843bd\",\"subtype\":\"Figure\",\"type\":\"Plot\"},\"ticker\":{\"id\":\"0d428c94-b9a8-44a1-80fe-26da2046831b\",\"type\":\"BasicTicker\"}},\"id\":\"ef8b28f6-7fbb-4b36-b053-814e2b35f1d7\",\"type\":\"Grid\"},{\"attributes\":{},\"id\":\"74d9180b-586e-47a9-bfcc-a1948bb33d37\",\"type\":\"ToolEvents\"},{\"attributes\":{\"plot\":{\"id\":\"762bbd52-9e5f-4a31-bcba-bc70c6e843bd\",\"subtype\":\"Figure\",\"type\":\"Plot\"}},\"id\":\"a1d90228-dc51-4fa2-ae34-15c40db90bcd\",\"type\":\"HelpTool\"},{\"attributes\":{\"plot\":{\"id\":\"762bbd52-9e5f-4a31-bcba-bc70c6e843bd\",\"subtype\":\"Figure\",\"type\":\"Plot\"},\"ticker\":{\"id\":\"7d1a41a0-a58e-458f-9cc4-a42be7037592\",\"type\":\"BasicTicker\"}},\"id\":\"35ba15b8-d371-47ec-a174-10a8d3589321\",\"type\":\"Grid\"},{\"attributes\":{},\"id\":\"e4895e92-af63-46d4-b91e-e8b6778389c9\",\"type\":\"BasicTickFormatter\"},{\"attributes\":{\"plot\":{\"id\":\"762bbd52-9e5f-4a31-bcba-bc70c6e843bd\",\"subtype\":\"Figure\",\"type\":\"Plot\"}},\"id\":\"e165d3e8-acc9-40c6-a2eb-7dcb8a4390c5\",\"type\":\"WheelZoomTool\"},{\"attributes\":{\"line_color\":{\"value\":\"#1f77b4\"},\"x\":{\"field\":\"x\"},\"y\":{\"field\":\"y\"}},\"id\":\"a91a2eeb-0a9a-4f20-a037-2a5cbedc7d35\",\"type\":\"Line\"},{\"attributes\":{\"callback\":null,\"column_names\":[\"y\",\"x\"],\"data\":{\"x\":[-0.5,-0.5,0.5,0.5,5.5,5.5,6.5,6.5,8.5,8.5,9.5,9.5,13.5,13.5,14.5,14.5],\"y\":[0.0,6.0,6.0,0.0,0.0,1.0,1.0,0.0,0.0,3.0,3.0,0.0,0.0,46.0,46.0,0.0]}},\"id\":\"254a207e-a06e-4c12-adc0-11e83d3e304f\",\"type\":\"ColumnDataSource\"},{\"attributes\":{\"overlay\":{\"id\":\"e3ca1a6a-b7f2-4526-a658-c6d15ddfa089\",\"type\":\"BoxAnnotation\"},\"plot\":{\"id\":\"762bbd52-9e5f-4a31-bcba-bc70c6e843bd\",\"subtype\":\"Figure\",\"type\":\"Plot\"}},\"id\":\"201dfdcd-46fe-4b8c-ae6c-7fde57b4d51b\",\"type\":\"BoxZoomTool\"},{\"attributes\":{\"plot\":null,\"text\":null},\"id\":\"952bc1cf-b81e-49c1-b331-0db475656850\",\"type\":\"Title\"},{\"attributes\":{\"line_alpha\":{\"value\":0.1},\"line_color\":{\"value\":\"#1f77b4\"},\"x\":{\"field\":\"x\"},\"y\":{\"field\":\"y\"}},\"id\":\"25310577-c425-4391-b173-a901b557c619\",\"type\":\"Line\"},{\"attributes\":{\"below\":[{\"id\":\"86bbcf9f-1e3d-49c6-8599-c80c9fe865c1\",\"type\":\"LinearAxis\"}],\"left\":[{\"id\":\"26bd4a2c-c10b-4b8b-ac24-e92f2ddce359\",\"type\":\"LinearAxis\"}],\"plot_height\":400,\"plot_width\":900,\"renderers\":[{\"id\":\"86bbcf9f-1e3d-49c6-8599-c80c9fe865c1\",\"type\":\"LinearAxis\"},{\"id\":\"35ba15b8-d371-47ec-a174-10a8d3589321\",\"type\":\"Grid\"},{\"id\":\"26bd4a2c-c10b-4b8b-ac24-e92f2ddce359\",\"type\":\"LinearAxis\"},{\"id\":\"ef8b28f6-7fbb-4b36-b053-814e2b35f1d7\",\"type\":\"Grid\"},{\"id\":\"e3ca1a6a-b7f2-4526-a658-c6d15ddfa089\",\"type\":\"BoxAnnotation\"},{\"id\":\"7b3b7cce-92bd-4f12-a485-5a3760cf3caa\",\"type\":\"GlyphRenderer\"}],\"title\":{\"id\":\"952bc1cf-b81e-49c1-b331-0db475656850\",\"type\":\"Title\"},\"tool_events\":{\"id\":\"74d9180b-586e-47a9-bfcc-a1948bb33d37\",\"type\":\"ToolEvents\"},\"toolbar\":{\"id\":\"1c8c52bf-72ce-48d4-a3c1-b77160775a2d\",\"type\":\"Toolbar\"},\"toolbar_location\":null,\"x_range\":{\"id\":\"73bff175-5d58-4a5c-ab4b-5beca99465e6\",\"type\":\"Range1d\"},\"y_range\":{\"id\":\"427bf500-89c5-4a36-ade3-24b5c5c135c7\",\"type\":\"Range1d\"}},\"id\":\"762bbd52-9e5f-4a31-bcba-bc70c6e843bd\",\"subtype\":\"Figure\",\"type\":\"Plot\"},{\"attributes\":{\"active_drag\":\"auto\",\"active_scroll\":\"auto\",\"active_tap\":\"auto\",\"tools\":[{\"id\":\"e2755b8a-4494-4179-897e-1f13e160acce\",\"type\":\"PanTool\"},{\"id\":\"e165d3e8-acc9-40c6-a2eb-7dcb8a4390c5\",\"type\":\"WheelZoomTool\"},{\"id\":\"201dfdcd-46fe-4b8c-ae6c-7fde57b4d51b\",\"type\":\"BoxZoomTool\"},{\"id\":\"fffcf052-c694-40ff-8734-f0db81f34c7c\",\"type\":\"SaveTool\"},{\"id\":\"06069e28-7ef9-42d6-9ddc-f5244aa75a5c\",\"type\":\"ResetTool\"},{\"id\":\"a1d90228-dc51-4fa2-ae34-15c40db90bcd\",\"type\":\"HelpTool\"}]},\"id\":\"1c8c52bf-72ce-48d4-a3c1-b77160775a2d\",\"type\":\"Toolbar\"},{\"attributes\":{\"plot\":{\"id\":\"762bbd52-9e5f-4a31-bcba-bc70c6e843bd\",\"subtype\":\"Figure\",\"type\":\"Plot\"}},\"id\":\"fffcf052-c694-40ff-8734-f0db81f34c7c\",\"type\":\"SaveTool\"},{\"attributes\":{\"plot\":{\"id\":\"762bbd52-9e5f-4a31-bcba-bc70c6e843bd\",\"subtype\":\"Figure\",\"type\":\"Plot\"}},\"id\":\"e2755b8a-4494-4179-897e-1f13e160acce\",\"type\":\"PanTool\"},{\"attributes\":{\"bottom_units\":\"screen\",\"fill_alpha\":{\"value\":0.5},\"fill_color\":{\"value\":\"lightgrey\"},\"left_units\":\"screen\",\"level\":\"overlay\",\"line_alpha\":{\"value\":1.0},\"line_color\":{\"value\":\"black\"},\"line_dash\":[4,4],\"line_width\":{\"value\":2},\"plot\":null,\"render_mode\":\"css\",\"right_units\":\"screen\",\"top_units\":\"screen\"},\"id\":\"e3ca1a6a-b7f2-4526-a658-c6d15ddfa089\",\"type\":\"BoxAnnotation\"},{\"attributes\":{\"data_source\":{\"id\":\"254a207e-a06e-4c12-adc0-11e83d3e304f\",\"type\":\"ColumnDataSource\"},\"glyph\":{\"id\":\"a91a2eeb-0a9a-4f20-a037-2a5cbedc7d35\",\"type\":\"Line\"},\"hover_glyph\":null,\"nonselection_glyph\":{\"id\":\"25310577-c425-4391-b173-a901b557c619\",\"type\":\"Line\"},\"selection_glyph\":null},\"id\":\"7b3b7cce-92bd-4f12-a485-5a3760cf3caa\",\"type\":\"GlyphRenderer\"},{\"attributes\":{\"formatter\":{\"id\":\"19b7deb5-0db1-466c-8a67-ae46b241f5cc\",\"type\":\"BasicTickFormatter\"},\"plot\":{\"id\":\"762bbd52-9e5f-4a31-bcba-bc70c6e843bd\",\"subtype\":\"Figure\",\"type\":\"Plot\"},\"ticker\":{\"id\":\"7d1a41a0-a58e-458f-9cc4-a42be7037592\",\"type\":\"BasicTicker\"}},\"id\":\"86bbcf9f-1e3d-49c6-8599-c80c9fe865c1\",\"type\":\"LinearAxis\"},{\"attributes\":{\"callback\":null,\"end\":50.6},\"id\":\"427bf500-89c5-4a36-ade3-24b5c5c135c7\",\"type\":\"Range1d\"},{\"attributes\":{},\"id\":\"0d428c94-b9a8-44a1-80fe-26da2046831b\",\"type\":\"BasicTicker\"},{\"attributes\":{\"formatter\":{\"id\":\"e4895e92-af63-46d4-b91e-e8b6778389c9\",\"type\":\"BasicTickFormatter\"},\"plot\":{\"id\":\"762bbd52-9e5f-4a31-bcba-bc70c6e843bd\",\"subtype\":\"Figure\",\"type\":\"Plot\"},\"ticker\":{\"id\":\"0d428c94-b9a8-44a1-80fe-26da2046831b\",\"type\":\"BasicTicker\"}},\"id\":\"26bd4a2c-c10b-4b8b-ac24-e92f2ddce359\",\"type\":\"LinearAxis\"},{\"attributes\":{},\"id\":\"19b7deb5-0db1-466c-8a67-ae46b241f5cc\",\"type\":\"BasicTickFormatter\"}],\"root_ids\":[\"762bbd52-9e5f-4a31-bcba-bc70c6e843bd\"]},\"title\":\"Bokeh Application\",\"version\":\"0.12.0\"}};\n",
       "            var render_items = [{\"docid\":\"46e31c4f-08db-47ca-8c23-65ade23699e0\",\"elementid\":\"0a7d8d39-3a46-4e55-9f59-ed5e7bffb0aa\",\"modelid\":\"762bbd52-9e5f-4a31-bcba-bc70c6e843bd\",\"notebook_comms_target\":\"3102426c-0ff7-48ae-9ab8-6d55dc1a4b82\"}];\n",
       "            \n",
       "            Bokeh.embed.embed_items(docs_json, render_items);\n",
       "        });\n",
       "      },\n",
       "      function(Bokeh) {\n",
       "      }\n",
       "    ];\n",
       "  \n",
       "    function run_inline_js() {\n",
       "      for (var i = 0; i < inline_js.length; i++) {\n",
       "        inline_js[i](window.Bokeh);\n",
       "      }\n",
       "    }\n",
       "  \n",
       "    if (window._bokeh_is_loading === 0) {\n",
       "      console.log(\"Bokeh: BokehJS loaded, going straight to plotting\");\n",
       "      run_inline_js();\n",
       "    } else {\n",
       "      load_libs(js_urls, function() {\n",
       "        console.log(\"Bokeh: BokehJS plotting callback run at\", now());\n",
       "        run_inline_js();\n",
       "      });\n",
       "    }\n",
       "  }(this));\n",
       "</script>"
      ]
     },
     "metadata": {},
     "output_type": "display_data"
    },
    {
     "data": {
      "text/html": [
       "<p><code>&lt;Bokeh Notebook handle for <strong>In[21]</strong>&gt;</code></p>"
      ],
      "text/plain": [
       "<bokeh.io._CommsHandle at 0x7f950a613710>"
      ]
     },
     "execution_count": 21,
     "metadata": {},
     "output_type": "execute_result"
    }
   ],
   "source": [
    "di_14_48 = 353833\n",
    "sa_14_48 = snp_anal.series_anal_cls(di_14_48, sm.series_data)\n",
    "am_14_48 = dm.allele_mask_from_index(di_14_48)\n",
    "count_data = sa_14_48.unique_snps_per_allele(am_209_56)\n",
    "plt_obj = smcp(count_data)\n",
    "plt = plt_obj.do_plot()\n",
    "show(plt)"
   ]
  },
  {
   "cell_type": "code",
   "execution_count": 22,
   "metadata": {
    "collapsed": false
   },
   "outputs": [
    {
     "data": {
      "text/plain": [
       "array([(0, 6), (6, 1), (9, 3), (14, 46)], \n",
       "      dtype=[('count', '<u2'), ('snps', '<u2')])"
      ]
     },
     "execution_count": 22,
     "metadata": {},
     "output_type": "execute_result"
    }
   ],
   "source": [
    "count_data"
   ]
  },
  {
   "cell_type": "code",
   "execution_count": 23,
   "metadata": {
    "collapsed": false
   },
   "outputs": [
    {
     "data": {
      "text/plain": [
       "array([50, 50, 50, 50, 50, 50, 49, 49, 49, 46, 46, 46, 46, 46])"
      ]
     },
     "execution_count": 23,
     "metadata": {},
     "output_type": "execute_result"
    }
   ],
   "source": [
    "sa_14_48.alleles_per_snp(am_209_56)"
   ]
  }
 ],
 "metadata": {
  "anaconda-cloud": {},
  "kernelspec": {
   "display_name": "Python [Root]",
   "language": "python",
   "name": "Python [Root]"
  },
  "language_info": {
   "codemirror_mode": {
    "name": "ipython",
    "version": 2
   },
   "file_extension": ".py",
   "mimetype": "text/x-python",
   "name": "python",
   "nbconvert_exporter": "python",
   "pygments_lexer": "ipython2",
   "version": "2.7.12"
  }
 },
 "nbformat": 4,
 "nbformat_minor": 0
}
