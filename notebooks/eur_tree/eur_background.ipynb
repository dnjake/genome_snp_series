{
 "cells": [
  {
   "cell_type": "code",
   "execution_count": 1,
   "metadata": {
    "collapsed": false,
    "deletable": true,
    "editable": true
   },
   "outputs": [
    {
     "data": {
      "text/html": []
     },
     "metadata": {},
     "output_type": "display_data"
    },
    {
     "data": {
      "application/javascript": [
       "\n",
       "(function(global) {\n",
       "  function now() {\n",
       "    return new Date();\n",
       "  }\n",
       "\n",
       "  if (typeof (window._bokeh_onload_callbacks) === \"undefined\") {\n",
       "    window._bokeh_onload_callbacks = [];\n",
       "  }\n",
       "\n",
       "  function run_callbacks() {\n",
       "    window._bokeh_onload_callbacks.forEach(function(callback) { callback() });\n",
       "    delete window._bokeh_onload_callbacks\n",
       "    console.info(\"Bokeh: all callbacks have finished\");\n",
       "  }\n",
       "\n",
       "  function load_libs(js_urls, callback) {\n",
       "    window._bokeh_onload_callbacks.push(callback);\n",
       "    if (window._bokeh_is_loading > 0) {\n",
       "      console.log(\"Bokeh: BokehJS is being loaded, scheduling callback at\", now());\n",
       "      return null;\n",
       "    }\n",
       "    if (js_urls == null || js_urls.length === 0) {\n",
       "      run_callbacks();\n",
       "      return null;\n",
       "    }\n",
       "    console.log(\"Bokeh: BokehJS not loaded, scheduling load and callback at\", now());\n",
       "    window._bokeh_is_loading = js_urls.length;\n",
       "    for (var i = 0; i < js_urls.length; i++) {\n",
       "      var url = js_urls[i];\n",
       "      var s = document.createElement('script');\n",
       "      s.src = url;\n",
       "      s.async = false;\n",
       "      s.onreadystatechange = s.onload = function() {\n",
       "        window._bokeh_is_loading--;\n",
       "        if (window._bokeh_is_loading === 0) {\n",
       "          console.log(\"Bokeh: all BokehJS libraries loaded\");\n",
       "          run_callbacks()\n",
       "        }\n",
       "      };\n",
       "      s.onerror = function() {\n",
       "        console.warn(\"failed to load library \" + url);\n",
       "      };\n",
       "      console.log(\"Bokeh: injecting script tag for BokehJS library: \", url);\n",
       "      document.getElementsByTagName(\"head\")[0].appendChild(s);\n",
       "    }\n",
       "  };\n",
       "\n",
       "  var js_urls = ['https://cdn.pydata.org/bokeh/release/bokeh-0.12.0.min.js', 'https://cdn.pydata.org/bokeh/release/bokeh-widgets-0.12.0.min.js', 'https://cdn.pydata.org/bokeh/release/bokeh-compiler-0.12.0.min.js'];\n",
       "\n",
       "  var inline_js = [\n",
       "    function(Bokeh) {\n",
       "      Bokeh.set_log_level(\"info\");\n",
       "    },\n",
       "    \n",
       "    function(Bokeh) {\n",
       "      Bokeh.$(\"#9120e309-9e8d-4ca7-a951-8b5856b719c2\").text(\"BokehJS successfully loaded\");\n",
       "    },\n",
       "    function(Bokeh) {\n",
       "      console.log(\"Bokeh: injecting CSS: https://cdn.pydata.org/bokeh/release/bokeh-0.12.0.min.css\");\n",
       "      Bokeh.embed.inject_css(\"https://cdn.pydata.org/bokeh/release/bokeh-0.12.0.min.css\");\n",
       "      console.log(\"Bokeh: injecting CSS: https://cdn.pydata.org/bokeh/release/bokeh-widgets-0.12.0.min.css\");\n",
       "      Bokeh.embed.inject_css(\"https://cdn.pydata.org/bokeh/release/bokeh-widgets-0.12.0.min.css\");\n",
       "    }\n",
       "  ];\n",
       "\n",
       "  function run_inline_js() {\n",
       "    for (var i = 0; i < inline_js.length; i++) {\n",
       "      inline_js[i](window.Bokeh);\n",
       "    }\n",
       "  }\n",
       "\n",
       "  if (window._bokeh_is_loading === 0) {\n",
       "    console.log(\"Bokeh: BokehJS loaded, going straight to plotting\");\n",
       "    run_inline_js();\n",
       "  } else {\n",
       "    load_libs(js_urls, function() {\n",
       "      console.log(\"Bokeh: BokehJS plotting callback run at\", now());\n",
       "      run_inline_js();\n",
       "    });\n",
       "  }\n",
       "}(this));"
      ]
     },
     "metadata": {},
     "output_type": "display_data"
    }
   ],
   "source": [
    "import numpy as np\n",
    "from IPython.display import HTML\n",
    "from bokeh.plotting import output_notebook, show\n",
    "import genomes_dnj.lct_interval.series_plots as dm\n",
    "output_notebook(hide_banner=True)"
   ]
  },
  {
   "cell_type": "markdown",
   "metadata": {},
   "source": [
    "<div style=\"width:700px\">\n",
    "<p>\n",
    "The association between the series 6_1503, 4_1699, 26_1414, 64_1575, 10_2206, and 7_1868\n",
    "forms the root of the EUR tree.  Most of the large overexpression of this association\n",
    "of series has resulted from the processes that selected descendant series 4_911, 11_755,\n",
    "6_57, 6_35, 7_22, and 7_20 for overexpression.  But, there are also a large number of samples\n",
    "that just express the root series or express some association of some of those series that\n",
    "has resulted from some kind of recombination event.  This notebook explores the associations\n",
    "of series expressed by samples that express a significant subset of the EUR tree root but not\n",
    "any of its descendants.\n",
    "<p>\n",
    "The first plot shows the 158 samples that express all of the series in the standard EUR\n",
    "root and no other series in this region.  African populations are strongly under represented.\n",
    "Otherwise the samples are relatively evenly spread over the 1000 genome regional populations.\n",
    "</div>"
   ]
  },
  {
   "cell_type": "code",
   "execution_count": 2,
   "metadata": {
    "collapsed": true,
    "deletable": true,
    "editable": true
   },
   "outputs": [],
   "source": [
    "di_6_57 = 353444\n",
    "di_6_35 = 353407\n",
    "di_7_22 = 353315\n",
    "di_7_20 = 353570"
   ]
  },
  {
   "cell_type": "code",
   "execution_count": 3,
   "metadata": {
    "collapsed": false,
    "deletable": true,
    "editable": true
   },
   "outputs": [
    {
     "data": {
      "text/html": [
       "\n",
       "\n",
       "    <div class=\"bk-root\">\n",
       "        <div class=\"plotdiv\" id=\"bc188457-3a00-404a-8663-44841732d6d1\"></div>\n",
       "    </div>\n",
       "<script type=\"text/javascript\">\n",
       "  \n",
       "  (function(global) {\n",
       "    function now() {\n",
       "      return new Date();\n",
       "    }\n",
       "  \n",
       "    if (typeof (window._bokeh_onload_callbacks) === \"undefined\") {\n",
       "      window._bokeh_onload_callbacks = [];\n",
       "    }\n",
       "  \n",
       "    function run_callbacks() {\n",
       "      window._bokeh_onload_callbacks.forEach(function(callback) { callback() });\n",
       "      delete window._bokeh_onload_callbacks\n",
       "      console.info(\"Bokeh: all callbacks have finished\");\n",
       "    }\n",
       "  \n",
       "    function load_libs(js_urls, callback) {\n",
       "      window._bokeh_onload_callbacks.push(callback);\n",
       "      if (window._bokeh_is_loading > 0) {\n",
       "        console.log(\"Bokeh: BokehJS is being loaded, scheduling callback at\", now());\n",
       "        return null;\n",
       "      }\n",
       "      if (js_urls == null || js_urls.length === 0) {\n",
       "        run_callbacks();\n",
       "        return null;\n",
       "      }\n",
       "      console.log(\"Bokeh: BokehJS not loaded, scheduling load and callback at\", now());\n",
       "      window._bokeh_is_loading = js_urls.length;\n",
       "      for (var i = 0; i < js_urls.length; i++) {\n",
       "        var url = js_urls[i];\n",
       "        var s = document.createElement('script');\n",
       "        s.src = url;\n",
       "        s.async = false;\n",
       "        s.onreadystatechange = s.onload = function() {\n",
       "          window._bokeh_is_loading--;\n",
       "          if (window._bokeh_is_loading === 0) {\n",
       "            console.log(\"Bokeh: all BokehJS libraries loaded\");\n",
       "            run_callbacks()\n",
       "          }\n",
       "        };\n",
       "        s.onerror = function() {\n",
       "          console.warn(\"failed to load library \" + url);\n",
       "        };\n",
       "        console.log(\"Bokeh: injecting script tag for BokehJS library: \", url);\n",
       "        document.getElementsByTagName(\"head\")[0].appendChild(s);\n",
       "      }\n",
       "    };var element = document.getElementById(\"bc188457-3a00-404a-8663-44841732d6d1\");\n",
       "    if (element == null) {\n",
       "      console.log(\"Bokeh: ERROR: autoload.js configured with elementid 'bc188457-3a00-404a-8663-44841732d6d1' but no matching script tag was found. \")\n",
       "      return false;\n",
       "    }\n",
       "  \n",
       "    var js_urls = [];\n",
       "  \n",
       "    var inline_js = [\n",
       "      function(Bokeh) {\n",
       "        Bokeh.$(function() {\n",
       "            var docs_json = {\"2231ce45-c214-4e51-ba21-3805ccbc6e53\":{\"roots\":{\"references\":[{\"attributes\":{\"formatter\":{\"id\":\"283780ab-1c81-42f6-87c5-7389c069a4dc\",\"type\":\"BasicTickFormatter\"},\"plot\":{\"id\":\"c1e548bc-66be-4898-a8cd-9bcfcd4a297c\",\"subtype\":\"Figure\",\"type\":\"Plot\"},\"ticker\":{\"id\":\"526ca3f5-d7ed-47ee-b16a-3eb4a5e22dba\",\"type\":\"BasicTicker\"}},\"id\":\"8ce4895d-4a80-48d4-9fa7-5359e0dc7233\",\"type\":\"LinearAxis\"},{\"attributes\":{\"formatter\":{\"id\":\"751a3189-a09b-465d-8e37-e5bc3ef26f75\",\"type\":\"BasicTickFormatter\"},\"plot\":{\"id\":\"c1e548bc-66be-4898-a8cd-9bcfcd4a297c\",\"subtype\":\"Figure\",\"type\":\"Plot\"},\"ticker\":{\"id\":\"7ab5b02f-b751-47e4-bc79-8b07be557443\",\"type\":\"BasicTicker\"},\"visible\":null},\"id\":\"9eddbc2f-9073-40ac-93d2-1749a9f5b417\",\"type\":\"LinearAxis\"},{\"attributes\":{\"bottom_units\":\"screen\",\"fill_alpha\":{\"value\":0.5},\"fill_color\":{\"value\":\"lightgrey\"},\"left_units\":\"screen\",\"level\":\"overlay\",\"line_alpha\":{\"value\":1.0},\"line_color\":{\"value\":\"black\"},\"line_dash\":[4,4],\"line_width\":{\"value\":2},\"plot\":null,\"render_mode\":\"css\",\"right_units\":\"screen\",\"top_units\":\"screen\"},\"id\":\"f328e474-652b-4788-8eda-7c2034f792cd\",\"type\":\"BoxAnnotation\"},{\"attributes\":{\"callback\":null,\"column_names\":[\"y\",\"x\",\"vals\"],\"data\":{\"vals\":[\"RAB3GAP1\",\"ZRANB3\",\"R3HDM1\",\"UBXN4\",\"LCT\",\"MCM6\",\"DARS\"],\"x\":[135869057.0,136122878.0,136385961.0,136520911.0,136570082.5,136615621.5,136703738.0],\"y\":[360.0,360.0,360.0,360.0,360.0,360.0,360.0]}},\"id\":\"21fcdbb7-ebf7-4813-9d69-fbde887fd239\",\"type\":\"ColumnDataSource\"},{\"attributes\":{\"callback\":null,\"column_names\":[\"y\",\"x\",\"vals\"],\"data\":{\"vals\":[\"6_1503\",\"4_1699\",\"26_1414\",\"64_1575\",\"10_2206\",\"7_1868\"],\"x\":[135771974,135915358,136398174,136494186,136501840,136682274],\"y\":[100.0,201.0,99.0,200.0,303.0,302.0]}},\"id\":\"5b1ec597-4f35-4f05-a7ab-bc09a03a6954\",\"type\":\"ColumnDataSource\"},{\"attributes\":{\"plot\":null,\"text\":null},\"id\":\"623b076c-8002-4102-b2eb-a12afde03c92\",\"type\":\"Title\"},{\"attributes\":{},\"id\":\"526ca3f5-d7ed-47ee-b16a-3eb4a5e22dba\",\"type\":\"BasicTicker\"},{\"attributes\":{\"level\":\"glyph\",\"plot\":{\"id\":\"c1e548bc-66be-4898-a8cd-9bcfcd4a297c\",\"subtype\":\"Figure\",\"type\":\"Plot\"},\"source\":{\"id\":\"21fcdbb7-ebf7-4813-9d69-fbde887fd239\",\"type\":\"ColumnDataSource\"},\"text\":{\"field\":\"vals\"},\"text_align\":\"center\",\"text_baseline\":\"middle\",\"text_font_size\":{\"value\":\"8pt\"},\"x\":{\"field\":\"x\"},\"y\":{\"field\":\"y\"}},\"id\":\"35519487-e1a1-4856-973d-34928ab8c79f\",\"type\":\"LabelSet\"},{\"attributes\":{\"data_source\":{\"id\":\"e4f6f3a0-44dd-4f01-9fd1-9345916a023d\",\"type\":\"ColumnDataSource\"},\"glyph\":{\"id\":\"7b0c3d77-a03c-4871-afba-01b4fc4dddcf\",\"type\":\"Quad\"},\"hover_glyph\":null,\"nonselection_glyph\":{\"id\":\"91baafd8-0f6a-4221-ba1f-0fac9dee3631\",\"type\":\"Quad\"},\"selection_glyph\":null},\"id\":\"545e74f1-a978-4904-9234-c7888afa0c5b\",\"type\":\"GlyphRenderer\"},{\"attributes\":{},\"id\":\"7ab5b02f-b751-47e4-bc79-8b07be557443\",\"type\":\"BasicTicker\"},{\"attributes\":{\"callback\":null,\"column_names\":[\"xs\",\"ys\",\"line_color\"],\"data\":{\"line_color\":[\"black\",\"black\",\"black\",\"black\",\"black\",\"black\",\"black\",\"black\",\"black\",\"black\",\"black\",\"black\",\"black\",\"black\",\"black\",\"black\",\"black\",\"black\",\"black\",\"black\",\"black\",\"black\",\"black\",\"black\",\"black\",\"black\",\"black\",\"black\",\"black\",\"black\",\"black\",\"black\",\"black\",\"black\",\"black\",\"black\",\"black\",\"black\",\"black\",\"black\",\"black\",\"black\",\"black\",\"black\",\"black\",\"black\",\"black\",\"black\",\"black\",\"black\",\"black\",\"black\",\"black\",\"black\",\"black\",\"black\",\"black\",\"black\",\"black\",\"black\",\"black\",\"black\",\"black\",\"black\",\"black\",\"black\",\"black\",\"black\",\"black\",\"black\",\"black\",\"black\",\"black\",\"black\",\"black\",\"black\",\"black\",\"black\",\"black\",\"black\",\"black\",\"black\",\"black\",\"black\",\"black\",\"black\",\"black\",\"black\",\"black\",\"black\",\"black\",\"black\",\"black\",\"black\",\"black\",\"black\",\"black\",\"black\",\"black\",\"black\",\"black\",\"black\",\"black\",\"black\",\"black\",\"black\",\"black\",\"black\",\"black\",\"black\",\"black\",\"black\",\"black\",\"black\",\"black\",\"black\",\"black\"],\"xs\":[[135771974,135771974],[135859371,135859371],[135877562,135877562],[136022798,136022798],[136058820,136058820],[136140304,136140304],[135915358,135915358],[135954405,135954405],[135995073,135995073],[135995079,135995079],[136398174,136398174],[136402117,136402117],[136403749,136403749],[136409073,136409073],[136410299,136410299],[136413359,136413359],[136416855,136416855],[136416941,136416941],[136418348,136418348],[136419961,136419961],[136420690,136420690],[136422171,136422171],[136428460,136428460],[136430866,136430866],[136432103,136432103],[136437507,136437507],[136439090,136439090],[136439517,136439517],[136444123,136444123],[136445526,136445526],[136445869,136445869],[136455600,136455600],[136456642,136456642],[136462441,136462441],[136470714,136470714],[136474098,136474098],[136494186,136494186],[136495300,136495300],[136495619,136495619],[136499166,136499166],[136502792,136502792],[136503157,136503157],[136507039,136507039],[136511575,136511575],[136518103,136518103],[136521514,136521514],[136522675,136522675],[136522941,136522941],[136526981,136526981],[136535410,136535410],[136539122,136539122],[136544197,136544197],[136550109,136550109],[136551694,136551694],[136553188,136553188],[136553639,136553639],[136554800,136554800],[136557319,136557319],[136558157,136558157],[136569848,136569848],[136575199,136575199],[136576577,136576577],[136578536,136578536],[136580287,136580287],[136583192,136583192],[136586958,136586958],[136588478,136588478],[136589612,136589612],[136591178,136591178],[136591859,136591859],[136593760,136593760],[136594158,136594158],[136603276,136603276],[136603366,136603366],[136608231,136608231],[136609975,136609975],[136610598,136610598],[136611624,136611624],[136613780,136613780],[136614255,136614255],[136614813,136614813],[136617524,136617524],[136622216,136622216],[136625602,136625602],[136629911,136629911],[136630757,136630757],[136630989,136630989],[136631031,136631031],[136633771,136633771],[136636324,136636324],[136638216,136638216],[136640233,136640233],[136641882,136641882],[136643555,136643555],[136658345,136658345],[136670298,136670298],[136685228,136685228],[136696138,136696138],[136740900,136740900],[136765951,136765951],[136501840,136501840],[136505546,136505546],[136516748,136516748],[136522710,136522710],[136528004,136528004],[136539513,136539513],[136544752,136544752],[136546110,136546110],[136553529,136553529],[136555659,136555659],[136682274,136682274],[136691825,136691825],[136698098,136698098],[136721603,136721603],[136721995,136721995],[136755684,136755684],[136775898,136775898]],\"ys\":[[50,95],[50,95],[50,95],[50,95],[50,95],[50,95],[150,196],[150,196],[150,196],[150,196],[50,94],[50,94],[50,94],[50,94],[50,94],[50,94],[50,94],[50,94],[50,94],[50,94],[50,94],[50,94],[50,94],[50,94],[50,94],[50,94],[50,94],[50,94],[50,94],[50,94],[50,94],[50,94],[50,94],[50,94],[50,94],[50,94],[150,195],[150,195],[150,195],[150,195],[150,195],[150,195],[150,195],[150,195],[150,195],[150,195],[150,195],[150,195],[150,195],[150,195],[150,195],[150,195],[150,195],[150,195],[150,195],[150,195],[150,195],[150,195],[150,195],[150,195],[150,195],[150,195],[150,195],[150,195],[150,195],[150,195],[150,195],[150,195],[150,195],[150,195],[150,195],[150,195],[150,195],[150,195],[150,195],[150,195],[150,195],[150,195],[150,195],[150,195],[150,195],[150,195],[150,195],[150,195],[150,195],[150,195],[150,195],[150,195],[150,195],[150,195],[150,195],[150,195],[150,195],[150,195],[150,195],[150,195],[150,195],[150,195],[150,195],[150,195],[250,298],[250,298],[250,298],[250,298],[250,298],[250,298],[250,298],[250,298],[250,298],[250,298],[250,297],[250,297],[250,297],[250,297],[250,297],[250,297],[250,297]]}},\"id\":\"90fe814f-260f-4f92-9c33-4a7a31169d2b\",\"type\":\"ColumnDataSource\"},{\"attributes\":{\"callback\":null,\"end\":136786630,\"start\":135757320},\"id\":\"0d1392e7-f4b1-428d-9989-4ad644d07b26\",\"type\":\"Range1d\"},{\"attributes\":{\"plot\":{\"id\":\"c1e548bc-66be-4898-a8cd-9bcfcd4a297c\",\"subtype\":\"Figure\",\"type\":\"Plot\"}},\"id\":\"bc329a3c-afd1-4244-8b37-b1413cf9a18e\",\"type\":\"SaveTool\"},{\"attributes\":{\"callback\":null,\"column_names\":[\"right\",\"bottom\",\"top\",\"left\",\"fill_color\"],\"data\":{\"bottom\":[50,150,50,150,250,250],\"fill_color\":[\"#61c461\",\"#61c461\",\"#61c461\",\"#61c461\",\"#808080\",\"#61c461\"],\"left\":[135771974,135915358,136398174,136494186,136501840,136682274],\"right\":[136140304,135995079,136474098,136765951,136555659,136775898],\"top\":[95,196,94,195,298,297]}},\"id\":\"7719c885-5812-40c3-895b-3bf11bc1462c\",\"type\":\"ColumnDataSource\"},{\"attributes\":{\"bottom\":{\"field\":\"bottom\"},\"fill_alpha\":{\"value\":0.1},\"fill_color\":{\"value\":\"#1f77b4\"},\"left\":{\"field\":\"left\"},\"line_alpha\":{\"value\":0.1},\"line_color\":{\"value\":\"#1f77b4\"},\"right\":{\"field\":\"right\"},\"top\":{\"field\":\"top\"}},\"id\":\"91baafd8-0f6a-4221-ba1f-0fac9dee3631\",\"type\":\"Quad\"},{\"attributes\":{\"plot\":{\"id\":\"c1e548bc-66be-4898-a8cd-9bcfcd4a297c\",\"subtype\":\"Figure\",\"type\":\"Plot\"}},\"id\":\"8355d720-9b91-4b47-940f-5212d34d764b\",\"type\":\"WheelZoomTool\"},{\"attributes\":{\"data_source\":{\"id\":\"90fe814f-260f-4f92-9c33-4a7a31169d2b\",\"type\":\"ColumnDataSource\"},\"glyph\":{\"id\":\"2eb3e26e-69bd-43a9-b5a5-f94ddd92b32b\",\"type\":\"MultiLine\"},\"hover_glyph\":null,\"nonselection_glyph\":{\"id\":\"fa5b47bc-074a-45a9-a34d-acce41be8585\",\"type\":\"MultiLine\"},\"selection_glyph\":null},\"id\":\"eff05e79-b2ff-4ab9-ac38-05bf98e43563\",\"type\":\"GlyphRenderer\"},{\"attributes\":{\"callback\":null,\"column_names\":[\"right\",\"bottom\",\"top\",\"left\"],\"data\":{\"bottom\":[345,345,345,345,345,345,345],\"left\":[135809835,135957574,136289083,136499189,136545415,136597196,136664254],\"right\":[135928279,136288182,136482839,136542633,136594750,136634047,136743222],\"top\":[375,375,375,375,375,375,375]}},\"id\":\"e4f6f3a0-44dd-4f01-9fd1-9345916a023d\",\"type\":\"ColumnDataSource\"},{\"attributes\":{\"plot\":{\"id\":\"c1e548bc-66be-4898-a8cd-9bcfcd4a297c\",\"subtype\":\"Figure\",\"type\":\"Plot\"}},\"id\":\"82caefb8-5017-4d70-a994-f49185ef6519\",\"type\":\"PanTool\"},{\"attributes\":{\"overlay\":{\"id\":\"f328e474-652b-4788-8eda-7c2034f792cd\",\"type\":\"BoxAnnotation\"},\"plot\":{\"id\":\"c1e548bc-66be-4898-a8cd-9bcfcd4a297c\",\"subtype\":\"Figure\",\"type\":\"Plot\"}},\"id\":\"8ffa2a72-0eed-4040-80ad-3d0d879aa236\",\"type\":\"BoxZoomTool\"},{\"attributes\":{},\"id\":\"0fca9ce9-4e52-41e4-b9c3-1beff8b3d9df\",\"type\":\"ToolEvents\"},{\"attributes\":{\"level\":\"glyph\",\"plot\":{\"id\":\"c1e548bc-66be-4898-a8cd-9bcfcd4a297c\",\"subtype\":\"Figure\",\"type\":\"Plot\"},\"source\":{\"id\":\"5b1ec597-4f35-4f05-a7ab-bc09a03a6954\",\"type\":\"ColumnDataSource\"},\"text\":{\"field\":\"vals\"},\"text_font_size\":{\"value\":\"9pt\"},\"text_font_style\":\"bold\",\"x\":{\"field\":\"x\"},\"y\":{\"field\":\"y\"}},\"id\":\"52cac1b5-6728-419b-927a-d2cee27b35ea\",\"type\":\"LabelSet\"},{\"attributes\":{\"bottom\":{\"field\":\"bottom\"},\"fill_color\":{\"field\":\"fill_color\"},\"left\":{\"field\":\"left\"},\"line_color\":{\"value\":null},\"right\":{\"field\":\"right\"},\"top\":{\"field\":\"top\"}},\"id\":\"ea88aedd-2253-498b-bbf0-5b5c61ff7e93\",\"type\":\"Quad\"},{\"attributes\":{\"plot\":{\"id\":\"c1e548bc-66be-4898-a8cd-9bcfcd4a297c\",\"subtype\":\"Figure\",\"type\":\"Plot\"}},\"id\":\"c993f808-4846-4ce0-8f81-2f2d0187fce7\",\"type\":\"HelpTool\"},{\"attributes\":{\"line_color\":{\"field\":\"line_color\"},\"xs\":{\"field\":\"xs\"},\"ys\":{\"field\":\"ys\"}},\"id\":\"2eb3e26e-69bd-43a9-b5a5-f94ddd92b32b\",\"type\":\"MultiLine\"},{\"attributes\":{\"plot\":{\"id\":\"c1e548bc-66be-4898-a8cd-9bcfcd4a297c\",\"subtype\":\"Figure\",\"type\":\"Plot\"},\"ticker\":{\"id\":\"526ca3f5-d7ed-47ee-b16a-3eb4a5e22dba\",\"type\":\"BasicTicker\"}},\"id\":\"4d40579f-3ff6-48f2-a3e0-d0b2a50807e9\",\"type\":\"Grid\"},{\"attributes\":{\"bottom\":{\"field\":\"bottom\"},\"fill_alpha\":{\"value\":0.1},\"fill_color\":{\"value\":\"#1f77b4\"},\"left\":{\"field\":\"left\"},\"line_alpha\":{\"value\":0.1},\"line_color\":{\"value\":\"#1f77b4\"},\"right\":{\"field\":\"right\"},\"top\":{\"field\":\"top\"}},\"id\":\"6a81870b-e431-42b8-b708-8f78890725bd\",\"type\":\"Quad\"},{\"attributes\":{\"dimension\":1,\"plot\":{\"id\":\"c1e548bc-66be-4898-a8cd-9bcfcd4a297c\",\"subtype\":\"Figure\",\"type\":\"Plot\"},\"ticker\":{\"id\":\"7ab5b02f-b751-47e4-bc79-8b07be557443\",\"type\":\"BasicTicker\"}},\"id\":\"149d4c11-05ad-4e98-9431-169b0da3a40c\",\"type\":\"Grid\"},{\"attributes\":{},\"id\":\"283780ab-1c81-42f6-87c5-7389c069a4dc\",\"type\":\"BasicTickFormatter\"},{\"attributes\":{\"plot\":{\"id\":\"c1e548bc-66be-4898-a8cd-9bcfcd4a297c\",\"subtype\":\"Figure\",\"type\":\"Plot\"}},\"id\":\"3766444e-85d6-47ac-afca-7fdc9bbb8dc7\",\"type\":\"ResetTool\"},{\"attributes\":{\"bottom\":{\"field\":\"bottom\"},\"fill_color\":{\"value\":\"white\"},\"left\":{\"field\":\"left\"},\"right\":{\"field\":\"right\"},\"top\":{\"field\":\"top\"}},\"id\":\"7b0c3d77-a03c-4871-afba-01b4fc4dddcf\",\"type\":\"Quad\"},{\"attributes\":{\"line_alpha\":{\"value\":0.1},\"line_color\":{\"value\":\"#1f77b4\"},\"xs\":{\"field\":\"xs\"},\"ys\":{\"field\":\"ys\"}},\"id\":\"fa5b47bc-074a-45a9-a34d-acce41be8585\",\"type\":\"MultiLine\"},{\"attributes\":{},\"id\":\"751a3189-a09b-465d-8e37-e5bc3ef26f75\",\"type\":\"BasicTickFormatter\"},{\"attributes\":{\"data_source\":{\"id\":\"7719c885-5812-40c3-895b-3bf11bc1462c\",\"type\":\"ColumnDataSource\"},\"glyph\":{\"id\":\"ea88aedd-2253-498b-bbf0-5b5c61ff7e93\",\"type\":\"Quad\"},\"hover_glyph\":null,\"nonselection_glyph\":{\"id\":\"6a81870b-e431-42b8-b708-8f78890725bd\",\"type\":\"Quad\"},\"selection_glyph\":null},\"id\":\"8501a128-e1a0-41d8-8604-c8b5b8674a1f\",\"type\":\"GlyphRenderer\"},{\"attributes\":{\"callback\":null,\"end\":400},\"id\":\"d5a0f42b-68e8-4fb6-bc9d-13da4934ae0a\",\"type\":\"Range1d\"},{\"attributes\":{\"below\":[{\"id\":\"8ce4895d-4a80-48d4-9fa7-5359e0dc7233\",\"type\":\"LinearAxis\"}],\"left\":[{\"id\":\"9eddbc2f-9073-40ac-93d2-1749a9f5b417\",\"type\":\"LinearAxis\"}],\"plot_height\":400,\"plot_width\":900,\"renderers\":[{\"id\":\"8ce4895d-4a80-48d4-9fa7-5359e0dc7233\",\"type\":\"LinearAxis\"},{\"id\":\"4d40579f-3ff6-48f2-a3e0-d0b2a50807e9\",\"type\":\"Grid\"},{\"id\":\"9eddbc2f-9073-40ac-93d2-1749a9f5b417\",\"type\":\"LinearAxis\"},{\"id\":\"149d4c11-05ad-4e98-9431-169b0da3a40c\",\"type\":\"Grid\"},{\"id\":\"f328e474-652b-4788-8eda-7c2034f792cd\",\"type\":\"BoxAnnotation\"},{\"id\":\"8501a128-e1a0-41d8-8604-c8b5b8674a1f\",\"type\":\"GlyphRenderer\"},{\"id\":\"eff05e79-b2ff-4ab9-ac38-05bf98e43563\",\"type\":\"GlyphRenderer\"},{\"id\":\"52cac1b5-6728-419b-927a-d2cee27b35ea\",\"type\":\"LabelSet\"},{\"id\":\"545e74f1-a978-4904-9234-c7888afa0c5b\",\"type\":\"GlyphRenderer\"},{\"id\":\"35519487-e1a1-4856-973d-34928ab8c79f\",\"type\":\"LabelSet\"}],\"title\":{\"id\":\"623b076c-8002-4102-b2eb-a12afde03c92\",\"type\":\"Title\"},\"tool_events\":{\"id\":\"0fca9ce9-4e52-41e4-b9c3-1beff8b3d9df\",\"type\":\"ToolEvents\"},\"toolbar\":{\"id\":\"0292c139-6c59-4681-9713-fd46bd9a09b1\",\"type\":\"Toolbar\"},\"toolbar_location\":null,\"x_range\":{\"id\":\"0d1392e7-f4b1-428d-9989-4ad644d07b26\",\"type\":\"Range1d\"},\"y_range\":{\"id\":\"d5a0f42b-68e8-4fb6-bc9d-13da4934ae0a\",\"type\":\"Range1d\"}},\"id\":\"c1e548bc-66be-4898-a8cd-9bcfcd4a297c\",\"subtype\":\"Figure\",\"type\":\"Plot\"},{\"attributes\":{\"active_drag\":\"auto\",\"active_scroll\":\"auto\",\"active_tap\":\"auto\",\"tools\":[{\"id\":\"82caefb8-5017-4d70-a994-f49185ef6519\",\"type\":\"PanTool\"},{\"id\":\"8355d720-9b91-4b47-940f-5212d34d764b\",\"type\":\"WheelZoomTool\"},{\"id\":\"8ffa2a72-0eed-4040-80ad-3d0d879aa236\",\"type\":\"BoxZoomTool\"},{\"id\":\"bc329a3c-afd1-4244-8b37-b1413cf9a18e\",\"type\":\"SaveTool\"},{\"id\":\"3766444e-85d6-47ac-afca-7fdc9bbb8dc7\",\"type\":\"ResetTool\"},{\"id\":\"c993f808-4846-4ce0-8f81-2f2d0187fce7\",\"type\":\"HelpTool\"}]},\"id\":\"0292c139-6c59-4681-9713-fd46bd9a09b1\",\"type\":\"Toolbar\"}],\"root_ids\":[\"c1e548bc-66be-4898-a8cd-9bcfcd4a297c\"]},\"title\":\"Bokeh Application\",\"version\":\"0.12.0\"}};\n",
       "            var render_items = [{\"docid\":\"2231ce45-c214-4e51-ba21-3805ccbc6e53\",\"elementid\":\"bc188457-3a00-404a-8663-44841732d6d1\",\"modelid\":\"c1e548bc-66be-4898-a8cd-9bcfcd4a297c\",\"notebook_comms_target\":\"f98e8c9d-8df4-45db-992a-4f96a6d45194\"}];\n",
       "            \n",
       "            Bokeh.embed.embed_items(docs_json, render_items);\n",
       "        });\n",
       "      },\n",
       "      function(Bokeh) {\n",
       "      }\n",
       "    ];\n",
       "  \n",
       "    function run_inline_js() {\n",
       "      for (var i = 0; i < inline_js.length; i++) {\n",
       "        inline_js[i](window.Bokeh);\n",
       "      }\n",
       "    }\n",
       "  \n",
       "    if (window._bokeh_is_loading === 0) {\n",
       "      console.log(\"Bokeh: BokehJS loaded, going straight to plotting\");\n",
       "      run_inline_js();\n",
       "    } else {\n",
       "      load_libs(js_urls, function() {\n",
       "        console.log(\"Bokeh: BokehJS plotting callback run at\", now());\n",
       "        run_inline_js();\n",
       "      });\n",
       "    }\n",
       "  }(this));\n",
       "</script>"
      ]
     },
     "metadata": {},
     "output_type": "display_data"
    },
    {
     "data": {
      "text/html": [
       "<p><code>&lt;Bokeh Notebook handle for <strong>In[3]</strong>&gt;</code></p>"
      ],
      "text/plain": [
       "<bokeh.io._CommsHandle at 0x7ff6b473b0d0>"
      ]
     },
     "execution_count": 3,
     "metadata": {},
     "output_type": "execute_result"
    }
   ],
   "source": [
    "di_12_32 = 353252 \n",
    "di_5_18 = 353692\n",
    "plt_obj = dm.superset_yes_no([dm.di_6_1503, dm.di_26_1414, dm.di_10_2206, dm.di_64_1575, dm.di_7_1868, dm.di_4_1699],\n",
    "                             [dm.di_13_1696, di_12_32, di_5_18,\n",
    "                              dm.di_4_911, dm.di_11_765, di_6_57, di_6_35, di_7_22, di_7_20],\n",
    "                             min_match=0.001)\n",
    "plt = plt_obj.do_plot()\n",
    "show(plt)"
   ]
  },
  {
   "cell_type": "code",
   "execution_count": 4,
   "metadata": {
    "collapsed": false,
    "deletable": true,
    "editable": true
   },
   "outputs": [
    {
     "data": {
      "text/html": [
       "<table>\n",
       "<thead><tr><th style=\"text-align:center\">index</th><th style=\"text-align:center\">first</th><th style=\"text-align:center\">length</th><th style=\"text-align:center\">snps</th><th style=\"text-align:center\" colspan=2>alleles</th><th style=\"text-align:center\" colspan=2>matches</th><th style=\"text-align:center\" colspan=2>afr</th><th style=\"text-align:center\" colspan=2>afx</th><th style=\"text-align:center\" colspan=2>amr</th><th style=\"text-align:center\" colspan=2>eas</th><th style=\"text-align:center\" colspan=2>eur</th><th style=\"text-align:center\" colspan=2>sas</th><th style=\"text-align:center\" colspan=2>sax</th></tr></thead>\n",
       "<tr class=\"even\"><td style=\"text-align: right;\">353921</td><td style=\"text-align: right;\">136,501,840</td><td style=\"text-align: right;\">53,819</td><td style=\"text-align: right;\">10</td><td style=\"text-align: right;\">2206</td><td style=\"text-align: right;\">0.07</td><td style=\"text-align: right;\">158</td><td style=\"text-align: right;\">1.00</td><td style=\"text-align: right;\">6</td><td style=\"text-align: right;\">0.17</td><td style=\"text-align: right;\">1</td><td style=\"text-align: right;\">0.11</td><td style=\"text-align: right;\">18</td><td style=\"text-align: right;\">0.91</td><td style=\"text-align: right;\">63</td><td style=\"text-align: right;\">1.47</td><td style=\"text-align: right;\">20</td><td style=\"text-align: right;\">1.18</td><td style=\"text-align: right;\">17</td><td style=\"text-align: right;\">1.39</td><td style=\"text-align: right;\">33</td><td style=\"text-align: right;\">1.49</td></tr>\n",
       "<tr><td style=\"text-align: right;\">354170</td><td style=\"text-align: right;\">136,682,274</td><td style=\"text-align: right;\">93,624</td><td style=\"text-align: right;\">7</td><td style=\"text-align: right;\">1868</td><td style=\"text-align: right;\">0.08</td><td style=\"text-align: right;\">158</td><td style=\"text-align: right;\">1.00</td><td style=\"text-align: right;\">6</td><td style=\"text-align: right;\">0.17</td><td style=\"text-align: right;\">1</td><td style=\"text-align: right;\">0.11</td><td style=\"text-align: right;\">18</td><td style=\"text-align: right;\">0.91</td><td style=\"text-align: right;\">63</td><td style=\"text-align: right;\">1.47</td><td style=\"text-align: right;\">20</td><td style=\"text-align: right;\">1.18</td><td style=\"text-align: right;\">17</td><td style=\"text-align: right;\">1.39</td><td style=\"text-align: right;\">33</td><td style=\"text-align: right;\">1.49</td></tr>\n",
       "<tr class=\"even\"><td style=\"text-align: right;\">353462</td><td style=\"text-align: right;\">135,915,358</td><td style=\"text-align: right;\">79,721</td><td style=\"text-align: right;\">4</td><td style=\"text-align: right;\">1699</td><td style=\"text-align: right;\">0.09</td><td style=\"text-align: right;\">158</td><td style=\"text-align: right;\">1.00</td><td style=\"text-align: right;\">6</td><td style=\"text-align: right;\">0.17</td><td style=\"text-align: right;\">1</td><td style=\"text-align: right;\">0.11</td><td style=\"text-align: right;\">18</td><td style=\"text-align: right;\">0.91</td><td style=\"text-align: right;\">63</td><td style=\"text-align: right;\">1.47</td><td style=\"text-align: right;\">20</td><td style=\"text-align: right;\">1.18</td><td style=\"text-align: right;\">17</td><td style=\"text-align: right;\">1.39</td><td style=\"text-align: right;\">33</td><td style=\"text-align: right;\">1.49</td></tr>\n",
       "<tr><td style=\"text-align: right;\">353901</td><td style=\"text-align: right;\">136,494,186</td><td style=\"text-align: right;\">271,765</td><td style=\"text-align: right;\">64</td><td style=\"text-align: right;\">1575</td><td style=\"text-align: right;\">0.10</td><td style=\"text-align: right;\">158</td><td style=\"text-align: right;\">1.00</td><td style=\"text-align: right;\">6</td><td style=\"text-align: right;\">0.17</td><td style=\"text-align: right;\">1</td><td style=\"text-align: right;\">0.11</td><td style=\"text-align: right;\">18</td><td style=\"text-align: right;\">0.91</td><td style=\"text-align: right;\">63</td><td style=\"text-align: right;\">1.47</td><td style=\"text-align: right;\">20</td><td style=\"text-align: right;\">1.18</td><td style=\"text-align: right;\">17</td><td style=\"text-align: right;\">1.39</td><td style=\"text-align: right;\">33</td><td style=\"text-align: right;\">1.49</td></tr>\n",
       "<tr class=\"even\"><td style=\"text-align: right;\">353283</td><td style=\"text-align: right;\">135,771,974</td><td style=\"text-align: right;\">368,330</td><td style=\"text-align: right;\">6</td><td style=\"text-align: right;\">1503</td><td style=\"text-align: right;\">0.11</td><td style=\"text-align: right;\">158</td><td style=\"text-align: right;\">1.00</td><td style=\"text-align: right;\">6</td><td style=\"text-align: right;\">0.17</td><td style=\"text-align: right;\">1</td><td style=\"text-align: right;\">0.11</td><td style=\"text-align: right;\">18</td><td style=\"text-align: right;\">0.91</td><td style=\"text-align: right;\">63</td><td style=\"text-align: right;\">1.47</td><td style=\"text-align: right;\">20</td><td style=\"text-align: right;\">1.18</td><td style=\"text-align: right;\">17</td><td style=\"text-align: right;\">1.39</td><td style=\"text-align: right;\">33</td><td style=\"text-align: right;\">1.49</td></tr>\n",
       "<tr><td style=\"text-align: right;\">353797</td><td style=\"text-align: right;\">136,398,174</td><td style=\"text-align: right;\">75,924</td><td style=\"text-align: right;\">26</td><td style=\"text-align: right;\">1414</td><td style=\"text-align: right;\">0.11</td><td style=\"text-align: right;\">158</td><td style=\"text-align: right;\">1.00</td><td style=\"text-align: right;\">6</td><td style=\"text-align: right;\">0.17</td><td style=\"text-align: right;\">1</td><td style=\"text-align: right;\">0.11</td><td style=\"text-align: right;\">18</td><td style=\"text-align: right;\">0.91</td><td style=\"text-align: right;\">63</td><td style=\"text-align: right;\">1.47</td><td style=\"text-align: right;\">20</td><td style=\"text-align: right;\">1.18</td><td style=\"text-align: right;\">17</td><td style=\"text-align: right;\">1.39</td><td style=\"text-align: right;\">33</td><td style=\"text-align: right;\">1.49</td></tr>\n",
       "</table>"
      ],
      "text/plain": [
       "<IPython.core.display.HTML object>"
      ]
     },
     "execution_count": 4,
     "metadata": {},
     "output_type": "execute_result"
    }
   ],
   "source": [
    "HTML(plt_obj.get_html())"
   ]
  },
  {
   "cell_type": "markdown",
   "metadata": {
    "collapsed": true
   },
   "source": [
    "<div style=\"width:700px\">\n",
    "<p>\n",
    "The plot below shows the series associations for 36 mainly East Asian and American samples\n",
    "that have lost the series 64_1575 and 7_1868.  The analysis of fragments of the SNPs from\n",
    "64_1575 expressed by these chromosome samples presented in the notebook [eur_root_fragments](eur_root_fragments.ipynb)\n",
    "shows that 28 of these samples appear to derive from a single recombination event that left only the\n",
    "first 31 SNPs of 64_1575 associated with the rest of the series normally part of the EUR tree root.\n",
    "</div>"
   ]
  },
  {
   "cell_type": "code",
   "execution_count": 5,
   "metadata": {
    "collapsed": false,
    "editable": true
   },
   "outputs": [
    {
     "data": {
      "text/html": [
       "\n",
       "\n",
       "    <div class=\"bk-root\">\n",
       "        <div class=\"plotdiv\" id=\"05f345e2-151b-4580-8b4f-3f21ac752483\"></div>\n",
       "    </div>\n",
       "<script type=\"text/javascript\">\n",
       "  \n",
       "  (function(global) {\n",
       "    function now() {\n",
       "      return new Date();\n",
       "    }\n",
       "  \n",
       "    if (typeof (window._bokeh_onload_callbacks) === \"undefined\") {\n",
       "      window._bokeh_onload_callbacks = [];\n",
       "    }\n",
       "  \n",
       "    function run_callbacks() {\n",
       "      window._bokeh_onload_callbacks.forEach(function(callback) { callback() });\n",
       "      delete window._bokeh_onload_callbacks\n",
       "      console.info(\"Bokeh: all callbacks have finished\");\n",
       "    }\n",
       "  \n",
       "    function load_libs(js_urls, callback) {\n",
       "      window._bokeh_onload_callbacks.push(callback);\n",
       "      if (window._bokeh_is_loading > 0) {\n",
       "        console.log(\"Bokeh: BokehJS is being loaded, scheduling callback at\", now());\n",
       "        return null;\n",
       "      }\n",
       "      if (js_urls == null || js_urls.length === 0) {\n",
       "        run_callbacks();\n",
       "        return null;\n",
       "      }\n",
       "      console.log(\"Bokeh: BokehJS not loaded, scheduling load and callback at\", now());\n",
       "      window._bokeh_is_loading = js_urls.length;\n",
       "      for (var i = 0; i < js_urls.length; i++) {\n",
       "        var url = js_urls[i];\n",
       "        var s = document.createElement('script');\n",
       "        s.src = url;\n",
       "        s.async = false;\n",
       "        s.onreadystatechange = s.onload = function() {\n",
       "          window._bokeh_is_loading--;\n",
       "          if (window._bokeh_is_loading === 0) {\n",
       "            console.log(\"Bokeh: all BokehJS libraries loaded\");\n",
       "            run_callbacks()\n",
       "          }\n",
       "        };\n",
       "        s.onerror = function() {\n",
       "          console.warn(\"failed to load library \" + url);\n",
       "        };\n",
       "        console.log(\"Bokeh: injecting script tag for BokehJS library: \", url);\n",
       "        document.getElementsByTagName(\"head\")[0].appendChild(s);\n",
       "      }\n",
       "    };var element = document.getElementById(\"05f345e2-151b-4580-8b4f-3f21ac752483\");\n",
       "    if (element == null) {\n",
       "      console.log(\"Bokeh: ERROR: autoload.js configured with elementid '05f345e2-151b-4580-8b4f-3f21ac752483' but no matching script tag was found. \")\n",
       "      return false;\n",
       "    }\n",
       "  \n",
       "    var js_urls = [];\n",
       "  \n",
       "    var inline_js = [\n",
       "      function(Bokeh) {\n",
       "        Bokeh.$(function() {\n",
       "            var docs_json = {\"3c9fba73-fc5e-48a9-b0d6-cf1e4fce0055\":{\"roots\":{\"references\":[{\"attributes\":{},\"id\":\"042a0514-88b6-4ea8-ab07-3ae12cfc0e3a\",\"type\":\"ToolEvents\"},{\"attributes\":{\"bottom\":{\"field\":\"bottom\"},\"fill_alpha\":{\"value\":0.1},\"fill_color\":{\"value\":\"#1f77b4\"},\"left\":{\"field\":\"left\"},\"line_alpha\":{\"value\":0.1},\"line_color\":{\"value\":\"#1f77b4\"},\"right\":{\"field\":\"right\"},\"top\":{\"field\":\"top\"}},\"id\":\"14abe7f8-3e33-46ee-a5b0-58918529bbe6\",\"type\":\"Quad\"},{\"attributes\":{\"plot\":null,\"text\":null},\"id\":\"145c0fb3-323a-4fda-a7be-a1437874fd7f\",\"type\":\"Title\"},{\"attributes\":{\"bottom_units\":\"screen\",\"fill_alpha\":{\"value\":0.5},\"fill_color\":{\"value\":\"lightgrey\"},\"left_units\":\"screen\",\"level\":\"overlay\",\"line_alpha\":{\"value\":1.0},\"line_color\":{\"value\":\"black\"},\"line_dash\":[4,4],\"line_width\":{\"value\":2},\"plot\":null,\"render_mode\":\"css\",\"right_units\":\"screen\",\"top_units\":\"screen\"},\"id\":\"6fc824ed-8403-40f6-928d-df4cbb63088b\",\"type\":\"BoxAnnotation\"},{\"attributes\":{\"data_source\":{\"id\":\"7bca9eb3-2e59-4d2f-9d49-1f5bce8357ca\",\"type\":\"ColumnDataSource\"},\"glyph\":{\"id\":\"e7b8b441-b794-4950-822f-1cd23769b91f\",\"type\":\"Quad\"},\"hover_glyph\":null,\"nonselection_glyph\":{\"id\":\"be01bf9e-5a70-49b2-a4f6-851a75e3639a\",\"type\":\"Quad\"},\"selection_glyph\":null},\"id\":\"83e5dac7-6a91-4e36-8dd8-a9e2c03ef3a6\",\"type\":\"GlyphRenderer\"},{\"attributes\":{\"plot\":{\"id\":\"82b683ec-0ade-483a-828b-cd18b55a75e2\",\"subtype\":\"Figure\",\"type\":\"Plot\"}},\"id\":\"33e6a8d5-f526-4eda-8a7c-a9ce02773b25\",\"type\":\"WheelZoomTool\"},{\"attributes\":{\"level\":\"glyph\",\"plot\":{\"id\":\"82b683ec-0ade-483a-828b-cd18b55a75e2\",\"subtype\":\"Figure\",\"type\":\"Plot\"},\"source\":{\"id\":\"d94e4bf6-395e-42bf-b109-5026d16ba639\",\"type\":\"ColumnDataSource\"},\"text\":{\"field\":\"vals\"},\"text_align\":\"center\",\"text_baseline\":\"middle\",\"text_font_size\":{\"value\":\"8pt\"},\"x\":{\"field\":\"x\"},\"y\":{\"field\":\"y\"}},\"id\":\"c4988aec-7fcb-4b8b-9e3d-43acd5b37f21\",\"type\":\"LabelSet\"},{\"attributes\":{\"callback\":null,\"column_names\":[\"y\",\"x\",\"vals\"],\"data\":{\"vals\":[\"RAB3GAP1\",\"ZRANB3\",\"R3HDM1\",\"UBXN4\",\"LCT\",\"MCM6\",\"DARS\"],\"x\":[135869057.0,136122878.0,136385961.0,136520911.0,136570082.5,136615621.5,136703738.0],\"y\":[260.0,260.0,260.0,260.0,260.0,260.0,260.0]}},\"id\":\"d94e4bf6-395e-42bf-b109-5026d16ba639\",\"type\":\"ColumnDataSource\"},{\"attributes\":{\"plot\":{\"id\":\"82b683ec-0ade-483a-828b-cd18b55a75e2\",\"subtype\":\"Figure\",\"type\":\"Plot\"}},\"id\":\"d8486492-e080-48a7-917f-776d10dce6d0\",\"type\":\"PanTool\"},{\"attributes\":{\"callback\":null,\"end\":136786630,\"start\":135757320},\"id\":\"71bd2f92-17d3-4eb1-8a55-ee5343f9d802\",\"type\":\"Range1d\"},{\"attributes\":{\"level\":\"glyph\",\"plot\":{\"id\":\"82b683ec-0ade-483a-828b-cd18b55a75e2\",\"subtype\":\"Figure\",\"type\":\"Plot\"},\"source\":{\"id\":\"0ef09ca6-74e8-40fe-8a47-23862481a522\",\"type\":\"ColumnDataSource\"},\"text\":{\"field\":\"vals\"},\"text_font_size\":{\"value\":\"9pt\"},\"text_font_style\":\"bold\",\"x\":{\"field\":\"x\"},\"y\":{\"field\":\"y\"}},\"id\":\"10542498-9aba-46aa-9645-1b49288cabd8\",\"type\":\"LabelSet\"},{\"attributes\":{\"data_source\":{\"id\":\"90d25d6f-ef4c-432b-8db9-a23dff835fbf\",\"type\":\"ColumnDataSource\"},\"glyph\":{\"id\":\"7a81c1ce-7b6c-44c9-94fd-f863e92b96ae\",\"type\":\"Quad\"},\"hover_glyph\":null,\"nonselection_glyph\":{\"id\":\"14abe7f8-3e33-46ee-a5b0-58918529bbe6\",\"type\":\"Quad\"},\"selection_glyph\":null},\"id\":\"ed3d569e-9cc9-4030-bd89-0cbe8ca0de95\",\"type\":\"GlyphRenderer\"},{\"attributes\":{\"callback\":null,\"column_names\":[\"right\",\"bottom\",\"top\",\"left\",\"fill_color\"],\"data\":{\"bottom\":[50,150,50,150],\"fill_color\":[\"#61c461\",\"#61c461\",\"#61c461\",\"#808080\"],\"left\":[135771974,135915358,136398174,136501840],\"right\":[136140304,135995079,136474098,136555659],\"top\":[95,196,94,198]}},\"id\":\"7bca9eb3-2e59-4d2f-9d49-1f5bce8357ca\",\"type\":\"ColumnDataSource\"},{\"attributes\":{\"bottom\":{\"field\":\"bottom\"},\"fill_alpha\":{\"value\":0.1},\"fill_color\":{\"value\":\"#1f77b4\"},\"left\":{\"field\":\"left\"},\"line_alpha\":{\"value\":0.1},\"line_color\":{\"value\":\"#1f77b4\"},\"right\":{\"field\":\"right\"},\"top\":{\"field\":\"top\"}},\"id\":\"be01bf9e-5a70-49b2-a4f6-851a75e3639a\",\"type\":\"Quad\"},{\"attributes\":{\"callback\":null,\"column_names\":[\"right\",\"bottom\",\"top\",\"left\"],\"data\":{\"bottom\":[245,245,245,245,245,245,245],\"left\":[135809835,135957574,136289083,136499189,136545415,136597196,136664254],\"right\":[135928279,136288182,136482839,136542633,136594750,136634047,136743222],\"top\":[275,275,275,275,275,275,275]}},\"id\":\"90d25d6f-ef4c-432b-8db9-a23dff835fbf\",\"type\":\"ColumnDataSource\"},{\"attributes\":{},\"id\":\"525ce677-75b2-47f4-8ec7-b866ab24abca\",\"type\":\"BasicTicker\"},{\"attributes\":{\"callback\":null,\"column_names\":[\"xs\",\"ys\",\"line_color\"],\"data\":{\"line_color\":[\"black\",\"black\",\"black\",\"black\",\"black\",\"black\",\"black\",\"black\",\"black\",\"black\",\"black\",\"black\",\"black\",\"black\",\"black\",\"black\",\"black\",\"black\",\"black\",\"black\",\"black\",\"black\",\"black\",\"black\",\"black\",\"black\",\"black\",\"black\",\"black\",\"black\",\"black\",\"black\",\"black\",\"black\",\"black\",\"black\",\"black\",\"black\",\"black\",\"black\",\"black\",\"black\",\"black\",\"black\",\"black\",\"black\"],\"xs\":[[135771974,135771974],[135859371,135859371],[135877562,135877562],[136022798,136022798],[136058820,136058820],[136140304,136140304],[135915358,135915358],[135954405,135954405],[135995073,135995073],[135995079,135995079],[136398174,136398174],[136402117,136402117],[136403749,136403749],[136409073,136409073],[136410299,136410299],[136413359,136413359],[136416855,136416855],[136416941,136416941],[136418348,136418348],[136419961,136419961],[136420690,136420690],[136422171,136422171],[136428460,136428460],[136430866,136430866],[136432103,136432103],[136437507,136437507],[136439090,136439090],[136439517,136439517],[136444123,136444123],[136445526,136445526],[136445869,136445869],[136455600,136455600],[136456642,136456642],[136462441,136462441],[136470714,136470714],[136474098,136474098],[136501840,136501840],[136505546,136505546],[136516748,136516748],[136522710,136522710],[136528004,136528004],[136539513,136539513],[136544752,136544752],[136546110,136546110],[136553529,136553529],[136555659,136555659]],\"ys\":[[50,95],[50,95],[50,95],[50,95],[50,95],[50,95],[150,196],[150,196],[150,196],[150,196],[50,94],[50,94],[50,94],[50,94],[50,94],[50,94],[50,94],[50,94],[50,94],[50,94],[50,94],[50,94],[50,94],[50,94],[50,94],[50,94],[50,94],[50,94],[50,94],[50,94],[50,94],[50,94],[50,94],[50,94],[50,94],[50,94],[150,198],[150,198],[150,198],[150,198],[150,198],[150,198],[150,198],[150,198],[150,198],[150,198]]}},\"id\":\"12c7565b-4979-4cbe-b965-f94f08c5b55e\",\"type\":\"ColumnDataSource\"},{\"attributes\":{},\"id\":\"50fefec1-eaf3-4f65-bd71-3834141e9156\",\"type\":\"BasicTicker\"},{\"attributes\":{\"dimension\":1,\"plot\":{\"id\":\"82b683ec-0ade-483a-828b-cd18b55a75e2\",\"subtype\":\"Figure\",\"type\":\"Plot\"},\"ticker\":{\"id\":\"50fefec1-eaf3-4f65-bd71-3834141e9156\",\"type\":\"BasicTicker\"}},\"id\":\"40c124a2-af15-4ab9-947e-19fc95e02a7f\",\"type\":\"Grid\"},{\"attributes\":{},\"id\":\"ec9470b6-eee7-4865-affd-64cc7efa506b\",\"type\":\"BasicTickFormatter\"},{\"attributes\":{\"formatter\":{\"id\":\"42f6ab7a-9df3-438b-b67d-494b5fd86923\",\"type\":\"BasicTickFormatter\"},\"plot\":{\"id\":\"82b683ec-0ade-483a-828b-cd18b55a75e2\",\"subtype\":\"Figure\",\"type\":\"Plot\"},\"ticker\":{\"id\":\"50fefec1-eaf3-4f65-bd71-3834141e9156\",\"type\":\"BasicTicker\"},\"visible\":null},\"id\":\"54c42c49-597a-451d-8bfb-1bb432dd64f3\",\"type\":\"LinearAxis\"},{\"attributes\":{\"bottom\":{\"field\":\"bottom\"},\"fill_color\":{\"value\":\"white\"},\"left\":{\"field\":\"left\"},\"right\":{\"field\":\"right\"},\"top\":{\"field\":\"top\"}},\"id\":\"7a81c1ce-7b6c-44c9-94fd-f863e92b96ae\",\"type\":\"Quad\"},{\"attributes\":{\"below\":[{\"id\":\"9a26dd99-ed77-4420-8e66-cdc8e8b1b840\",\"type\":\"LinearAxis\"}],\"left\":[{\"id\":\"54c42c49-597a-451d-8bfb-1bb432dd64f3\",\"type\":\"LinearAxis\"}],\"plot_height\":300,\"plot_width\":900,\"renderers\":[{\"id\":\"9a26dd99-ed77-4420-8e66-cdc8e8b1b840\",\"type\":\"LinearAxis\"},{\"id\":\"d9206cc3-2d7e-4eb1-adac-04c92db4d65b\",\"type\":\"Grid\"},{\"id\":\"54c42c49-597a-451d-8bfb-1bb432dd64f3\",\"type\":\"LinearAxis\"},{\"id\":\"40c124a2-af15-4ab9-947e-19fc95e02a7f\",\"type\":\"Grid\"},{\"id\":\"6fc824ed-8403-40f6-928d-df4cbb63088b\",\"type\":\"BoxAnnotation\"},{\"id\":\"83e5dac7-6a91-4e36-8dd8-a9e2c03ef3a6\",\"type\":\"GlyphRenderer\"},{\"id\":\"e68973bd-fb38-4487-aa5c-22891f5f0f26\",\"type\":\"GlyphRenderer\"},{\"id\":\"10542498-9aba-46aa-9645-1b49288cabd8\",\"type\":\"LabelSet\"},{\"id\":\"ed3d569e-9cc9-4030-bd89-0cbe8ca0de95\",\"type\":\"GlyphRenderer\"},{\"id\":\"c4988aec-7fcb-4b8b-9e3d-43acd5b37f21\",\"type\":\"LabelSet\"}],\"title\":{\"id\":\"145c0fb3-323a-4fda-a7be-a1437874fd7f\",\"type\":\"Title\"},\"tool_events\":{\"id\":\"042a0514-88b6-4ea8-ab07-3ae12cfc0e3a\",\"type\":\"ToolEvents\"},\"toolbar\":{\"id\":\"98cb7beb-1665-4d6a-9e24-db344cbe92ab\",\"type\":\"Toolbar\"},\"toolbar_location\":null,\"x_range\":{\"id\":\"71bd2f92-17d3-4eb1-8a55-ee5343f9d802\",\"type\":\"Range1d\"},\"y_range\":{\"id\":\"30c056f3-8c98-4a49-913b-192e3c112778\",\"type\":\"Range1d\"}},\"id\":\"82b683ec-0ade-483a-828b-cd18b55a75e2\",\"subtype\":\"Figure\",\"type\":\"Plot\"},{\"attributes\":{\"callback\":null,\"column_names\":[\"y\",\"x\",\"vals\"],\"data\":{\"vals\":[\"6_1503\",\"4_1699\",\"26_1414\",\"10_2206\"],\"x\":[135771974,135915358,136398174,136501840],\"y\":[100.0,201.0,99.0,203.0]}},\"id\":\"0ef09ca6-74e8-40fe-8a47-23862481a522\",\"type\":\"ColumnDataSource\"},{\"attributes\":{\"formatter\":{\"id\":\"ec9470b6-eee7-4865-affd-64cc7efa506b\",\"type\":\"BasicTickFormatter\"},\"plot\":{\"id\":\"82b683ec-0ade-483a-828b-cd18b55a75e2\",\"subtype\":\"Figure\",\"type\":\"Plot\"},\"ticker\":{\"id\":\"525ce677-75b2-47f4-8ec7-b866ab24abca\",\"type\":\"BasicTicker\"}},\"id\":\"9a26dd99-ed77-4420-8e66-cdc8e8b1b840\",\"type\":\"LinearAxis\"},{\"attributes\":{\"data_source\":{\"id\":\"12c7565b-4979-4cbe-b965-f94f08c5b55e\",\"type\":\"ColumnDataSource\"},\"glyph\":{\"id\":\"57ebfdce-4cdd-4acf-8ee2-813c65aafa50\",\"type\":\"MultiLine\"},\"hover_glyph\":null,\"nonselection_glyph\":{\"id\":\"2f94cb94-119f-499c-a4ee-db5ce5aa8d63\",\"type\":\"MultiLine\"},\"selection_glyph\":null},\"id\":\"e68973bd-fb38-4487-aa5c-22891f5f0f26\",\"type\":\"GlyphRenderer\"},{\"attributes\":{\"bottom\":{\"field\":\"bottom\"},\"fill_color\":{\"field\":\"fill_color\"},\"left\":{\"field\":\"left\"},\"line_color\":{\"value\":null},\"right\":{\"field\":\"right\"},\"top\":{\"field\":\"top\"}},\"id\":\"e7b8b441-b794-4950-822f-1cd23769b91f\",\"type\":\"Quad\"},{\"attributes\":{\"plot\":{\"id\":\"82b683ec-0ade-483a-828b-cd18b55a75e2\",\"subtype\":\"Figure\",\"type\":\"Plot\"}},\"id\":\"caabefe6-cb8e-44e1-8418-032f40d2d22c\",\"type\":\"ResetTool\"},{\"attributes\":{},\"id\":\"42f6ab7a-9df3-438b-b67d-494b5fd86923\",\"type\":\"BasicTickFormatter\"},{\"attributes\":{\"plot\":{\"id\":\"82b683ec-0ade-483a-828b-cd18b55a75e2\",\"subtype\":\"Figure\",\"type\":\"Plot\"}},\"id\":\"4a6fb4c1-782a-4633-84e2-47da4632fc69\",\"type\":\"SaveTool\"},{\"attributes\":{\"plot\":{\"id\":\"82b683ec-0ade-483a-828b-cd18b55a75e2\",\"subtype\":\"Figure\",\"type\":\"Plot\"}},\"id\":\"3946a9a9-1d56-4556-9f83-8039a59e669a\",\"type\":\"HelpTool\"},{\"attributes\":{\"active_drag\":\"auto\",\"active_scroll\":\"auto\",\"active_tap\":\"auto\",\"tools\":[{\"id\":\"d8486492-e080-48a7-917f-776d10dce6d0\",\"type\":\"PanTool\"},{\"id\":\"33e6a8d5-f526-4eda-8a7c-a9ce02773b25\",\"type\":\"WheelZoomTool\"},{\"id\":\"3f91ee69-688b-4126-81b1-08b7a507474f\",\"type\":\"BoxZoomTool\"},{\"id\":\"4a6fb4c1-782a-4633-84e2-47da4632fc69\",\"type\":\"SaveTool\"},{\"id\":\"caabefe6-cb8e-44e1-8418-032f40d2d22c\",\"type\":\"ResetTool\"},{\"id\":\"3946a9a9-1d56-4556-9f83-8039a59e669a\",\"type\":\"HelpTool\"}]},\"id\":\"98cb7beb-1665-4d6a-9e24-db344cbe92ab\",\"type\":\"Toolbar\"},{\"attributes\":{\"line_color\":{\"field\":\"line_color\"},\"xs\":{\"field\":\"xs\"},\"ys\":{\"field\":\"ys\"}},\"id\":\"57ebfdce-4cdd-4acf-8ee2-813c65aafa50\",\"type\":\"MultiLine\"},{\"attributes\":{\"plot\":{\"id\":\"82b683ec-0ade-483a-828b-cd18b55a75e2\",\"subtype\":\"Figure\",\"type\":\"Plot\"},\"ticker\":{\"id\":\"525ce677-75b2-47f4-8ec7-b866ab24abca\",\"type\":\"BasicTicker\"}},\"id\":\"d9206cc3-2d7e-4eb1-adac-04c92db4d65b\",\"type\":\"Grid\"},{\"attributes\":{\"overlay\":{\"id\":\"6fc824ed-8403-40f6-928d-df4cbb63088b\",\"type\":\"BoxAnnotation\"},\"plot\":{\"id\":\"82b683ec-0ade-483a-828b-cd18b55a75e2\",\"subtype\":\"Figure\",\"type\":\"Plot\"}},\"id\":\"3f91ee69-688b-4126-81b1-08b7a507474f\",\"type\":\"BoxZoomTool\"},{\"attributes\":{\"line_alpha\":{\"value\":0.1},\"line_color\":{\"value\":\"#1f77b4\"},\"xs\":{\"field\":\"xs\"},\"ys\":{\"field\":\"ys\"}},\"id\":\"2f94cb94-119f-499c-a4ee-db5ce5aa8d63\",\"type\":\"MultiLine\"},{\"attributes\":{\"callback\":null,\"end\":300},\"id\":\"30c056f3-8c98-4a49-913b-192e3c112778\",\"type\":\"Range1d\"}],\"root_ids\":[\"82b683ec-0ade-483a-828b-cd18b55a75e2\"]},\"title\":\"Bokeh Application\",\"version\":\"0.12.0\"}};\n",
       "            var render_items = [{\"docid\":\"3c9fba73-fc5e-48a9-b0d6-cf1e4fce0055\",\"elementid\":\"05f345e2-151b-4580-8b4f-3f21ac752483\",\"modelid\":\"82b683ec-0ade-483a-828b-cd18b55a75e2\",\"notebook_comms_target\":\"5cae83e3-7a73-44a0-aed7-3155f2134c6a\"}];\n",
       "            \n",
       "            Bokeh.embed.embed_items(docs_json, render_items);\n",
       "        });\n",
       "      },\n",
       "      function(Bokeh) {\n",
       "      }\n",
       "    ];\n",
       "  \n",
       "    function run_inline_js() {\n",
       "      for (var i = 0; i < inline_js.length; i++) {\n",
       "        inline_js[i](window.Bokeh);\n",
       "      }\n",
       "    }\n",
       "  \n",
       "    if (window._bokeh_is_loading === 0) {\n",
       "      console.log(\"Bokeh: BokehJS loaded, going straight to plotting\");\n",
       "      run_inline_js();\n",
       "    } else {\n",
       "      load_libs(js_urls, function() {\n",
       "        console.log(\"Bokeh: BokehJS plotting callback run at\", now());\n",
       "        run_inline_js();\n",
       "      });\n",
       "    }\n",
       "  }(this));\n",
       "</script>"
      ]
     },
     "metadata": {},
     "output_type": "display_data"
    },
    {
     "data": {
      "text/html": [
       "<p><code>&lt;Bokeh Notebook handle for <strong>In[5]</strong>&gt;</code></p>"
      ],
      "text/plain": [
       "<bokeh.io._CommsHandle at 0x7ff6b469dbd0>"
      ]
     },
     "execution_count": 5,
     "metadata": {},
     "output_type": "execute_result"
    }
   ],
   "source": [
    "di_8_328 = 354064\n",
    "plt_obj = dm.superset_yes_no([dm.di_6_1503, dm.di_26_1414, dm.di_10_2206], \n",
    "                             [di_8_328, dm.di_7_1868, \n",
    "                              dm.di_24_1504, dm.di_7_1760, dm.di_39_1014, dm.di_64_1575,\n",
    "                              dm.di_4_911, dm.di_11_765, di_6_57, di_6_35, di_7_22, di_7_20],\n",
    "                             min_match=0.001)\n",
    "plt = plt_obj.do_plot()\n",
    "show(plt)"
   ]
  },
  {
   "cell_type": "code",
   "execution_count": 6,
   "metadata": {
    "collapsed": false,
    "editable": true
   },
   "outputs": [
    {
     "data": {
      "text/html": [
       "<table>\n",
       "<thead><tr><th style=\"text-align:center\">index</th><th style=\"text-align:center\">first</th><th style=\"text-align:center\">length</th><th style=\"text-align:center\">snps</th><th style=\"text-align:center\" colspan=2>alleles</th><th style=\"text-align:center\" colspan=2>matches</th><th style=\"text-align:center\" colspan=2>afr</th><th style=\"text-align:center\" colspan=2>afx</th><th style=\"text-align:center\" colspan=2>amr</th><th style=\"text-align:center\" colspan=2>eas</th><th style=\"text-align:center\" colspan=2>eur</th><th style=\"text-align:center\" colspan=2>sas</th><th style=\"text-align:center\" colspan=2>sax</th></tr></thead>\n",
       "<tr class=\"even\"><td style=\"text-align: right;\">353921</td><td style=\"text-align: right;\">136,501,840</td><td style=\"text-align: right;\">53,819</td><td style=\"text-align: right;\">10</td><td style=\"text-align: right;\">2206</td><td style=\"text-align: right;\">0.02</td><td style=\"text-align: right;\">36</td><td style=\"text-align: right;\">1.00</td><td style=\"text-align: right;\">0</td><td style=\"text-align: right;\">0.00</td><td style=\"text-align: right;\">1</td><td style=\"text-align: right;\">0.30</td><td style=\"text-align: right;\">18</td><td style=\"text-align: right;\">2.83</td><td style=\"text-align: right;\">15</td><td style=\"text-align: right;\">1.81</td><td style=\"text-align: right;\">0</td><td style=\"text-align: right;\">0.00</td><td style=\"text-align: right;\">1</td><td style=\"text-align: right;\">0.72</td><td style=\"text-align: right;\">1</td><td style=\"text-align: right;\">0.23</td></tr>\n",
       "<tr><td style=\"text-align: right;\">353462</td><td style=\"text-align: right;\">135,915,358</td><td style=\"text-align: right;\">79,721</td><td style=\"text-align: right;\">4</td><td style=\"text-align: right;\">1699</td><td style=\"text-align: right;\">0.02</td><td style=\"text-align: right;\">36</td><td style=\"text-align: right;\">1.00</td><td style=\"text-align: right;\">0</td><td style=\"text-align: right;\">0.00</td><td style=\"text-align: right;\">1</td><td style=\"text-align: right;\">0.30</td><td style=\"text-align: right;\">18</td><td style=\"text-align: right;\">2.83</td><td style=\"text-align: right;\">15</td><td style=\"text-align: right;\">1.81</td><td style=\"text-align: right;\">0</td><td style=\"text-align: right;\">0.00</td><td style=\"text-align: right;\">1</td><td style=\"text-align: right;\">0.72</td><td style=\"text-align: right;\">1</td><td style=\"text-align: right;\">0.23</td></tr>\n",
       "<tr class=\"even\"><td style=\"text-align: right;\">353283</td><td style=\"text-align: right;\">135,771,974</td><td style=\"text-align: right;\">368,330</td><td style=\"text-align: right;\">6</td><td style=\"text-align: right;\">1503</td><td style=\"text-align: right;\">0.02</td><td style=\"text-align: right;\">36</td><td style=\"text-align: right;\">1.00</td><td style=\"text-align: right;\">0</td><td style=\"text-align: right;\">0.00</td><td style=\"text-align: right;\">1</td><td style=\"text-align: right;\">0.30</td><td style=\"text-align: right;\">18</td><td style=\"text-align: right;\">2.83</td><td style=\"text-align: right;\">15</td><td style=\"text-align: right;\">1.81</td><td style=\"text-align: right;\">0</td><td style=\"text-align: right;\">0.00</td><td style=\"text-align: right;\">1</td><td style=\"text-align: right;\">0.72</td><td style=\"text-align: right;\">1</td><td style=\"text-align: right;\">0.23</td></tr>\n",
       "<tr><td style=\"text-align: right;\">353797</td><td style=\"text-align: right;\">136,398,174</td><td style=\"text-align: right;\">75,924</td><td style=\"text-align: right;\">26</td><td style=\"text-align: right;\">1414</td><td style=\"text-align: right;\">0.03</td><td style=\"text-align: right;\">36</td><td style=\"text-align: right;\">1.00</td><td style=\"text-align: right;\">0</td><td style=\"text-align: right;\">0.00</td><td style=\"text-align: right;\">1</td><td style=\"text-align: right;\">0.30</td><td style=\"text-align: right;\">18</td><td style=\"text-align: right;\">2.83</td><td style=\"text-align: right;\">15</td><td style=\"text-align: right;\">1.81</td><td style=\"text-align: right;\">0</td><td style=\"text-align: right;\">0.00</td><td style=\"text-align: right;\">1</td><td style=\"text-align: right;\">0.72</td><td style=\"text-align: right;\">1</td><td style=\"text-align: right;\">0.23</td></tr>\n",
       "</table>"
      ],
      "text/plain": [
       "<IPython.core.display.HTML object>"
      ]
     },
     "execution_count": 6,
     "metadata": {},
     "output_type": "execute_result"
    }
   ],
   "source": [
    "HTML(plt_obj.get_html())"
   ]
  },
  {
   "cell_type": "markdown",
   "metadata": {
    "collapsed": true
   },
   "source": [
    "<div style=\"width:700px\">\n",
    "<p>\n",
    "The plot below shows the association of series for two samples that have only lost 64_1575.\n",
    "</div>"
   ]
  },
  {
   "cell_type": "code",
   "execution_count": 7,
   "metadata": {
    "collapsed": false,
    "editable": true
   },
   "outputs": [
    {
     "data": {
      "text/html": [
       "\n",
       "\n",
       "    <div class=\"bk-root\">\n",
       "        <div class=\"plotdiv\" id=\"bd54753c-c352-4668-b29c-25542fed3502\"></div>\n",
       "    </div>\n",
       "<script type=\"text/javascript\">\n",
       "  \n",
       "  (function(global) {\n",
       "    function now() {\n",
       "      return new Date();\n",
       "    }\n",
       "  \n",
       "    if (typeof (window._bokeh_onload_callbacks) === \"undefined\") {\n",
       "      window._bokeh_onload_callbacks = [];\n",
       "    }\n",
       "  \n",
       "    function run_callbacks() {\n",
       "      window._bokeh_onload_callbacks.forEach(function(callback) { callback() });\n",
       "      delete window._bokeh_onload_callbacks\n",
       "      console.info(\"Bokeh: all callbacks have finished\");\n",
       "    }\n",
       "  \n",
       "    function load_libs(js_urls, callback) {\n",
       "      window._bokeh_onload_callbacks.push(callback);\n",
       "      if (window._bokeh_is_loading > 0) {\n",
       "        console.log(\"Bokeh: BokehJS is being loaded, scheduling callback at\", now());\n",
       "        return null;\n",
       "      }\n",
       "      if (js_urls == null || js_urls.length === 0) {\n",
       "        run_callbacks();\n",
       "        return null;\n",
       "      }\n",
       "      console.log(\"Bokeh: BokehJS not loaded, scheduling load and callback at\", now());\n",
       "      window._bokeh_is_loading = js_urls.length;\n",
       "      for (var i = 0; i < js_urls.length; i++) {\n",
       "        var url = js_urls[i];\n",
       "        var s = document.createElement('script');\n",
       "        s.src = url;\n",
       "        s.async = false;\n",
       "        s.onreadystatechange = s.onload = function() {\n",
       "          window._bokeh_is_loading--;\n",
       "          if (window._bokeh_is_loading === 0) {\n",
       "            console.log(\"Bokeh: all BokehJS libraries loaded\");\n",
       "            run_callbacks()\n",
       "          }\n",
       "        };\n",
       "        s.onerror = function() {\n",
       "          console.warn(\"failed to load library \" + url);\n",
       "        };\n",
       "        console.log(\"Bokeh: injecting script tag for BokehJS library: \", url);\n",
       "        document.getElementsByTagName(\"head\")[0].appendChild(s);\n",
       "      }\n",
       "    };var element = document.getElementById(\"bd54753c-c352-4668-b29c-25542fed3502\");\n",
       "    if (element == null) {\n",
       "      console.log(\"Bokeh: ERROR: autoload.js configured with elementid 'bd54753c-c352-4668-b29c-25542fed3502' but no matching script tag was found. \")\n",
       "      return false;\n",
       "    }\n",
       "  \n",
       "    var js_urls = [];\n",
       "  \n",
       "    var inline_js = [\n",
       "      function(Bokeh) {\n",
       "        Bokeh.$(function() {\n",
       "            var docs_json = {\"3a53b349-125a-43bd-b47f-cc83bd173221\":{\"roots\":{\"references\":[{\"attributes\":{\"data_source\":{\"id\":\"4b9cda3f-80b4-4ba4-9d92-8b212476f95f\",\"type\":\"ColumnDataSource\"},\"glyph\":{\"id\":\"8c1c60b5-07f5-41f6-ad24-0767a87dd3a5\",\"type\":\"MultiLine\"},\"hover_glyph\":null,\"nonselection_glyph\":{\"id\":\"bee72e94-d816-4cd1-b22f-39aa55ae152a\",\"type\":\"MultiLine\"},\"selection_glyph\":null},\"id\":\"147215b6-a105-4660-99d6-7b44b615caaf\",\"type\":\"GlyphRenderer\"},{\"attributes\":{},\"id\":\"4562e501-69f2-4302-929a-0a96a217012f\",\"type\":\"ToolEvents\"},{\"attributes\":{\"line_alpha\":{\"value\":0.1},\"line_color\":{\"value\":\"#1f77b4\"},\"xs\":{\"field\":\"xs\"},\"ys\":{\"field\":\"ys\"}},\"id\":\"bee72e94-d816-4cd1-b22f-39aa55ae152a\",\"type\":\"MultiLine\"},{\"attributes\":{\"plot\":{\"id\":\"0dd815ac-7763-4070-a015-47382c197195\",\"subtype\":\"Figure\",\"type\":\"Plot\"}},\"id\":\"977596b1-b1d7-44a1-b580-fe22b7f7d4e8\",\"type\":\"HelpTool\"},{\"attributes\":{\"data_source\":{\"id\":\"7484fdca-4799-4dc7-af6c-6fcc030ac467\",\"type\":\"ColumnDataSource\"},\"glyph\":{\"id\":\"f6a20966-b13e-4d50-af7d-65f2033a67d6\",\"type\":\"Quad\"},\"hover_glyph\":null,\"nonselection_glyph\":{\"id\":\"36276179-550a-49cf-821a-45bd54ce9255\",\"type\":\"Quad\"},\"selection_glyph\":null},\"id\":\"cdaa81d1-bb17-4096-bd0b-7912f2224de0\",\"type\":\"GlyphRenderer\"},{\"attributes\":{\"active_drag\":\"auto\",\"active_scroll\":\"auto\",\"active_tap\":\"auto\",\"tools\":[{\"id\":\"db0359e9-33e3-4fcf-bff2-cd9af229b2b9\",\"type\":\"PanTool\"},{\"id\":\"73caf467-a282-404a-8226-7cb284fb0acd\",\"type\":\"WheelZoomTool\"},{\"id\":\"dac54784-7434-4507-bcc4-8cf178518ba1\",\"type\":\"BoxZoomTool\"},{\"id\":\"4e8f0fb7-d350-4426-98b8-9fa4b31c121d\",\"type\":\"SaveTool\"},{\"id\":\"f7306aab-7810-466e-847b-3995b40c2b3d\",\"type\":\"ResetTool\"},{\"id\":\"977596b1-b1d7-44a1-b580-fe22b7f7d4e8\",\"type\":\"HelpTool\"}]},\"id\":\"bf4fcf26-4837-479d-b9d0-5a45607226e6\",\"type\":\"Toolbar\"},{\"attributes\":{\"bottom\":{\"field\":\"bottom\"},\"fill_alpha\":{\"value\":0.1},\"fill_color\":{\"value\":\"#1f77b4\"},\"left\":{\"field\":\"left\"},\"line_alpha\":{\"value\":0.1},\"line_color\":{\"value\":\"#1f77b4\"},\"right\":{\"field\":\"right\"},\"top\":{\"field\":\"top\"}},\"id\":\"36276179-550a-49cf-821a-45bd54ce9255\",\"type\":\"Quad\"},{\"attributes\":{\"overlay\":{\"id\":\"de6a3cc7-5e00-44e9-8947-b7cd56e201ee\",\"type\":\"BoxAnnotation\"},\"plot\":{\"id\":\"0dd815ac-7763-4070-a015-47382c197195\",\"subtype\":\"Figure\",\"type\":\"Plot\"}},\"id\":\"dac54784-7434-4507-bcc4-8cf178518ba1\",\"type\":\"BoxZoomTool\"},{\"attributes\":{\"plot\":{\"id\":\"0dd815ac-7763-4070-a015-47382c197195\",\"subtype\":\"Figure\",\"type\":\"Plot\"}},\"id\":\"f7306aab-7810-466e-847b-3995b40c2b3d\",\"type\":\"ResetTool\"},{\"attributes\":{\"level\":\"glyph\",\"plot\":{\"id\":\"0dd815ac-7763-4070-a015-47382c197195\",\"subtype\":\"Figure\",\"type\":\"Plot\"},\"source\":{\"id\":\"0996d5f4-ccd6-4f00-a9da-9ed6092ed88d\",\"type\":\"ColumnDataSource\"},\"text\":{\"field\":\"vals\"},\"text_font_size\":{\"value\":\"9pt\"},\"text_font_style\":\"bold\",\"x\":{\"field\":\"x\"},\"y\":{\"field\":\"y\"}},\"id\":\"12a686c9-1646-4dd3-82e4-ff447b228c2e\",\"type\":\"LabelSet\"},{\"attributes\":{\"below\":[{\"id\":\"d31427c5-f518-46cf-884b-0de7ad7c6034\",\"type\":\"LinearAxis\"}],\"left\":[{\"id\":\"23c9bf6f-b9ac-4fee-ac05-a4ede8ddb4d9\",\"type\":\"LinearAxis\"}],\"plot_height\":400,\"plot_width\":900,\"renderers\":[{\"id\":\"d31427c5-f518-46cf-884b-0de7ad7c6034\",\"type\":\"LinearAxis\"},{\"id\":\"eb905d21-2733-4fee-b79d-ecff1688f1fe\",\"type\":\"Grid\"},{\"id\":\"23c9bf6f-b9ac-4fee-ac05-a4ede8ddb4d9\",\"type\":\"LinearAxis\"},{\"id\":\"a3b9ef83-3aaa-46c2-bfc4-fa32c8798a9b\",\"type\":\"Grid\"},{\"id\":\"de6a3cc7-5e00-44e9-8947-b7cd56e201ee\",\"type\":\"BoxAnnotation\"},{\"id\":\"cdaa81d1-bb17-4096-bd0b-7912f2224de0\",\"type\":\"GlyphRenderer\"},{\"id\":\"147215b6-a105-4660-99d6-7b44b615caaf\",\"type\":\"GlyphRenderer\"},{\"id\":\"12a686c9-1646-4dd3-82e4-ff447b228c2e\",\"type\":\"LabelSet\"},{\"id\":\"66d1588c-67fa-4679-aff9-b70f415d1fc0\",\"type\":\"GlyphRenderer\"},{\"id\":\"55656e32-d457-4b3f-ac58-7f6ee8ea0e42\",\"type\":\"LabelSet\"}],\"title\":{\"id\":\"90d4118e-bc01-4a42-9104-e2e25886ed22\",\"type\":\"Title\"},\"tool_events\":{\"id\":\"4562e501-69f2-4302-929a-0a96a217012f\",\"type\":\"ToolEvents\"},\"toolbar\":{\"id\":\"bf4fcf26-4837-479d-b9d0-5a45607226e6\",\"type\":\"Toolbar\"},\"toolbar_location\":null,\"x_range\":{\"id\":\"5b58ae38-921c-4032-b710-9399e67c4f64\",\"type\":\"Range1d\"},\"y_range\":{\"id\":\"242d7de1-5f41-4756-9dec-aabc7fb15fd3\",\"type\":\"Range1d\"}},\"id\":\"0dd815ac-7763-4070-a015-47382c197195\",\"subtype\":\"Figure\",\"type\":\"Plot\"},{\"attributes\":{},\"id\":\"27589dfd-9ee9-435f-9b09-c6be29ecf02e\",\"type\":\"BasicTickFormatter\"},{\"attributes\":{},\"id\":\"a281001c-3e96-4b04-b573-252698561ab8\",\"type\":\"BasicTickFormatter\"},{\"attributes\":{\"plot\":{\"id\":\"0dd815ac-7763-4070-a015-47382c197195\",\"subtype\":\"Figure\",\"type\":\"Plot\"}},\"id\":\"db0359e9-33e3-4fcf-bff2-cd9af229b2b9\",\"type\":\"PanTool\"},{\"attributes\":{\"level\":\"glyph\",\"plot\":{\"id\":\"0dd815ac-7763-4070-a015-47382c197195\",\"subtype\":\"Figure\",\"type\":\"Plot\"},\"source\":{\"id\":\"a54e10a3-006e-489a-ae38-655c4c43b7fe\",\"type\":\"ColumnDataSource\"},\"text\":{\"field\":\"vals\"},\"text_align\":\"center\",\"text_baseline\":\"middle\",\"text_font_size\":{\"value\":\"8pt\"},\"x\":{\"field\":\"x\"},\"y\":{\"field\":\"y\"}},\"id\":\"55656e32-d457-4b3f-ac58-7f6ee8ea0e42\",\"type\":\"LabelSet\"},{\"attributes\":{\"callback\":null,\"column_names\":[\"y\",\"x\",\"vals\"],\"data\":{\"vals\":[\"RAB3GAP1\",\"ZRANB3\",\"R3HDM1\",\"UBXN4\",\"LCT\",\"MCM6\",\"DARS\"],\"x\":[135869057.0,136122878.0,136385961.0,136520911.0,136570082.5,136615621.5,136703738.0],\"y\":[360.0,360.0,360.0,360.0,360.0,360.0,360.0]}},\"id\":\"a54e10a3-006e-489a-ae38-655c4c43b7fe\",\"type\":\"ColumnDataSource\"},{\"attributes\":{\"dimension\":1,\"plot\":{\"id\":\"0dd815ac-7763-4070-a015-47382c197195\",\"subtype\":\"Figure\",\"type\":\"Plot\"},\"ticker\":{\"id\":\"6693fd4f-1e31-440d-ac58-ee21d12193e0\",\"type\":\"BasicTicker\"}},\"id\":\"a3b9ef83-3aaa-46c2-bfc4-fa32c8798a9b\",\"type\":\"Grid\"},{\"attributes\":{\"formatter\":{\"id\":\"a281001c-3e96-4b04-b573-252698561ab8\",\"type\":\"BasicTickFormatter\"},\"plot\":{\"id\":\"0dd815ac-7763-4070-a015-47382c197195\",\"subtype\":\"Figure\",\"type\":\"Plot\"},\"ticker\":{\"id\":\"6693fd4f-1e31-440d-ac58-ee21d12193e0\",\"type\":\"BasicTicker\"},\"visible\":null},\"id\":\"23c9bf6f-b9ac-4fee-ac05-a4ede8ddb4d9\",\"type\":\"LinearAxis\"},{\"attributes\":{\"plot\":null,\"text\":null},\"id\":\"90d4118e-bc01-4a42-9104-e2e25886ed22\",\"type\":\"Title\"},{\"attributes\":{\"bottom\":{\"field\":\"bottom\"},\"fill_color\":{\"field\":\"fill_color\"},\"left\":{\"field\":\"left\"},\"line_color\":{\"value\":null},\"right\":{\"field\":\"right\"},\"top\":{\"field\":\"top\"}},\"id\":\"f6a20966-b13e-4d50-af7d-65f2033a67d6\",\"type\":\"Quad\"},{\"attributes\":{\"callback\":null,\"end\":136786630,\"start\":135757320},\"id\":\"5b58ae38-921c-4032-b710-9399e67c4f64\",\"type\":\"Range1d\"},{\"attributes\":{\"bottom_units\":\"screen\",\"fill_alpha\":{\"value\":0.5},\"fill_color\":{\"value\":\"lightgrey\"},\"left_units\":\"screen\",\"level\":\"overlay\",\"line_alpha\":{\"value\":1.0},\"line_color\":{\"value\":\"black\"},\"line_dash\":[4,4],\"line_width\":{\"value\":2},\"plot\":null,\"render_mode\":\"css\",\"right_units\":\"screen\",\"top_units\":\"screen\"},\"id\":\"de6a3cc7-5e00-44e9-8947-b7cd56e201ee\",\"type\":\"BoxAnnotation\"},{\"attributes\":{\"plot\":{\"id\":\"0dd815ac-7763-4070-a015-47382c197195\",\"subtype\":\"Figure\",\"type\":\"Plot\"},\"ticker\":{\"id\":\"ee10a277-ca9c-4be7-b85e-a6bed704226e\",\"type\":\"BasicTicker\"}},\"id\":\"eb905d21-2733-4fee-b79d-ecff1688f1fe\",\"type\":\"Grid\"},{\"attributes\":{\"line_color\":{\"field\":\"line_color\"},\"xs\":{\"field\":\"xs\"},\"ys\":{\"field\":\"ys\"}},\"id\":\"8c1c60b5-07f5-41f6-ad24-0767a87dd3a5\",\"type\":\"MultiLine\"},{\"attributes\":{},\"id\":\"ee10a277-ca9c-4be7-b85e-a6bed704226e\",\"type\":\"BasicTicker\"},{\"attributes\":{\"callback\":null,\"column_names\":[\"xs\",\"ys\",\"line_color\"],\"data\":{\"line_color\":[\"black\",\"black\",\"black\",\"black\",\"black\",\"black\",\"black\",\"black\",\"black\",\"black\",\"black\",\"black\",\"black\",\"black\",\"black\",\"black\",\"black\",\"black\",\"black\",\"black\",\"black\",\"black\",\"black\",\"black\",\"black\",\"black\",\"black\",\"black\",\"black\",\"black\",\"black\",\"black\",\"black\",\"black\",\"black\",\"black\",\"black\",\"black\",\"black\",\"black\",\"black\",\"black\",\"black\",\"black\",\"black\",\"black\",\"black\",\"black\",\"black\",\"black\",\"black\",\"black\",\"black\"],\"xs\":[[135771974,135771974],[135859371,135859371],[135877562,135877562],[136022798,136022798],[136058820,136058820],[136140304,136140304],[135915358,135915358],[135954405,135954405],[135995073,135995073],[135995079,135995079],[136398174,136398174],[136402117,136402117],[136403749,136403749],[136409073,136409073],[136410299,136410299],[136413359,136413359],[136416855,136416855],[136416941,136416941],[136418348,136418348],[136419961,136419961],[136420690,136420690],[136422171,136422171],[136428460,136428460],[136430866,136430866],[136432103,136432103],[136437507,136437507],[136439090,136439090],[136439517,136439517],[136444123,136444123],[136445526,136445526],[136445869,136445869],[136455600,136455600],[136456642,136456642],[136462441,136462441],[136470714,136470714],[136474098,136474098],[136501840,136501840],[136505546,136505546],[136516748,136516748],[136522710,136522710],[136528004,136528004],[136539513,136539513],[136544752,136544752],[136546110,136546110],[136553529,136553529],[136555659,136555659],[136682274,136682274],[136691825,136691825],[136698098,136698098],[136721603,136721603],[136721995,136721995],[136755684,136755684],[136775898,136775898]],\"ys\":[[50,95],[50,95],[50,95],[50,95],[50,95],[50,95],[150,196],[150,196],[150,196],[150,196],[50,94],[50,94],[50,94],[50,94],[50,94],[50,94],[50,94],[50,94],[50,94],[50,94],[50,94],[50,94],[50,94],[50,94],[50,94],[50,94],[50,94],[50,94],[50,94],[50,94],[50,94],[50,94],[50,94],[50,94],[50,94],[50,94],[250,298],[250,298],[250,298],[250,298],[250,298],[250,298],[250,298],[250,298],[250,298],[250,298],[250,297],[250,297],[250,297],[250,297],[250,297],[250,297],[250,297]]}},\"id\":\"4b9cda3f-80b4-4ba4-9d92-8b212476f95f\",\"type\":\"ColumnDataSource\"},{\"attributes\":{\"callback\":null,\"column_names\":[\"y\",\"x\",\"vals\"],\"data\":{\"vals\":[\"6_1503\",\"4_1699\",\"26_1414\",\"10_2206\",\"7_1868\"],\"x\":[135771974,135915358,136398174,136501840,136682274],\"y\":[100.0,201.0,99.0,303.0,302.0]}},\"id\":\"0996d5f4-ccd6-4f00-a9da-9ed6092ed88d\",\"type\":\"ColumnDataSource\"},{\"attributes\":{},\"id\":\"6693fd4f-1e31-440d-ac58-ee21d12193e0\",\"type\":\"BasicTicker\"},{\"attributes\":{\"plot\":{\"id\":\"0dd815ac-7763-4070-a015-47382c197195\",\"subtype\":\"Figure\",\"type\":\"Plot\"}},\"id\":\"73caf467-a282-404a-8226-7cb284fb0acd\",\"type\":\"WheelZoomTool\"},{\"attributes\":{\"callback\":null,\"column_names\":[\"right\",\"bottom\",\"top\",\"left\",\"fill_color\"],\"data\":{\"bottom\":[50,150,50,250,250],\"fill_color\":[\"#61c461\",\"#61c461\",\"#61c461\",\"#808080\",\"#61c461\"],\"left\":[135771974,135915358,136398174,136501840,136682274],\"right\":[136140304,135995079,136474098,136555659,136775898],\"top\":[95,196,94,298,297]}},\"id\":\"7484fdca-4799-4dc7-af6c-6fcc030ac467\",\"type\":\"ColumnDataSource\"},{\"attributes\":{\"bottom\":{\"field\":\"bottom\"},\"fill_color\":{\"value\":\"white\"},\"left\":{\"field\":\"left\"},\"right\":{\"field\":\"right\"},\"top\":{\"field\":\"top\"}},\"id\":\"34d6e4ea-d9d2-4de7-a27f-dbdda5ff1a76\",\"type\":\"Quad\"},{\"attributes\":{\"plot\":{\"id\":\"0dd815ac-7763-4070-a015-47382c197195\",\"subtype\":\"Figure\",\"type\":\"Plot\"}},\"id\":\"4e8f0fb7-d350-4426-98b8-9fa4b31c121d\",\"type\":\"SaveTool\"},{\"attributes\":{\"formatter\":{\"id\":\"27589dfd-9ee9-435f-9b09-c6be29ecf02e\",\"type\":\"BasicTickFormatter\"},\"plot\":{\"id\":\"0dd815ac-7763-4070-a015-47382c197195\",\"subtype\":\"Figure\",\"type\":\"Plot\"},\"ticker\":{\"id\":\"ee10a277-ca9c-4be7-b85e-a6bed704226e\",\"type\":\"BasicTicker\"}},\"id\":\"d31427c5-f518-46cf-884b-0de7ad7c6034\",\"type\":\"LinearAxis\"},{\"attributes\":{\"callback\":null,\"end\":400},\"id\":\"242d7de1-5f41-4756-9dec-aabc7fb15fd3\",\"type\":\"Range1d\"},{\"attributes\":{\"bottom\":{\"field\":\"bottom\"},\"fill_alpha\":{\"value\":0.1},\"fill_color\":{\"value\":\"#1f77b4\"},\"left\":{\"field\":\"left\"},\"line_alpha\":{\"value\":0.1},\"line_color\":{\"value\":\"#1f77b4\"},\"right\":{\"field\":\"right\"},\"top\":{\"field\":\"top\"}},\"id\":\"14b920ad-3eb7-4da3-bf98-048fc880ec7e\",\"type\":\"Quad\"},{\"attributes\":{\"data_source\":{\"id\":\"20577531-7144-44c2-9325-09e4a3273706\",\"type\":\"ColumnDataSource\"},\"glyph\":{\"id\":\"34d6e4ea-d9d2-4de7-a27f-dbdda5ff1a76\",\"type\":\"Quad\"},\"hover_glyph\":null,\"nonselection_glyph\":{\"id\":\"14b920ad-3eb7-4da3-bf98-048fc880ec7e\",\"type\":\"Quad\"},\"selection_glyph\":null},\"id\":\"66d1588c-67fa-4679-aff9-b70f415d1fc0\",\"type\":\"GlyphRenderer\"},{\"attributes\":{\"callback\":null,\"column_names\":[\"right\",\"bottom\",\"top\",\"left\"],\"data\":{\"bottom\":[345,345,345,345,345,345,345],\"left\":[135809835,135957574,136289083,136499189,136545415,136597196,136664254],\"right\":[135928279,136288182,136482839,136542633,136594750,136634047,136743222],\"top\":[375,375,375,375,375,375,375]}},\"id\":\"20577531-7144-44c2-9325-09e4a3273706\",\"type\":\"ColumnDataSource\"}],\"root_ids\":[\"0dd815ac-7763-4070-a015-47382c197195\"]},\"title\":\"Bokeh Application\",\"version\":\"0.12.0\"}};\n",
       "            var render_items = [{\"docid\":\"3a53b349-125a-43bd-b47f-cc83bd173221\",\"elementid\":\"bd54753c-c352-4668-b29c-25542fed3502\",\"modelid\":\"0dd815ac-7763-4070-a015-47382c197195\",\"notebook_comms_target\":\"66041570-91bc-4f3f-9921-96131dcb7dec\"}];\n",
       "            \n",
       "            Bokeh.embed.embed_items(docs_json, render_items);\n",
       "        });\n",
       "      },\n",
       "      function(Bokeh) {\n",
       "      }\n",
       "    ];\n",
       "  \n",
       "    function run_inline_js() {\n",
       "      for (var i = 0; i < inline_js.length; i++) {\n",
       "        inline_js[i](window.Bokeh);\n",
       "      }\n",
       "    }\n",
       "  \n",
       "    if (window._bokeh_is_loading === 0) {\n",
       "      console.log(\"Bokeh: BokehJS loaded, going straight to plotting\");\n",
       "      run_inline_js();\n",
       "    } else {\n",
       "      load_libs(js_urls, function() {\n",
       "        console.log(\"Bokeh: BokehJS plotting callback run at\", now());\n",
       "        run_inline_js();\n",
       "      });\n",
       "    }\n",
       "  }(this));\n",
       "</script>"
      ]
     },
     "metadata": {},
     "output_type": "display_data"
    },
    {
     "data": {
      "text/html": [
       "<p><code>&lt;Bokeh Notebook handle for <strong>In[7]</strong>&gt;</code></p>"
      ],
      "text/plain": [
       "<bokeh.io._CommsHandle at 0x7ff6b468fc50>"
      ]
     },
     "execution_count": 7,
     "metadata": {},
     "output_type": "execute_result"
    }
   ],
   "source": [
    "plt_obj = dm.superset_yes_no([dm.di_6_1503, dm.di_26_1414, dm.di_10_2206, dm.di_7_1868], \n",
    "                             [dm.di_24_1504, dm.di_7_1760, dm.di_39_1014, dm.di_64_1575,\n",
    "                              dm.di_4_911, dm.di_11_765, di_6_57, di_6_35, di_7_22, di_7_20],\n",
    "                             min_match=0.001)\n",
    "plt = plt_obj.do_plot()\n",
    "show(plt)"
   ]
  },
  {
   "cell_type": "code",
   "execution_count": 8,
   "metadata": {
    "collapsed": false,
    "editable": true
   },
   "outputs": [
    {
     "data": {
      "text/html": [
       "<table>\n",
       "<thead><tr><th style=\"text-align:center\">index</th><th style=\"text-align:center\">first</th><th style=\"text-align:center\">length</th><th style=\"text-align:center\">snps</th><th style=\"text-align:center\" colspan=2>alleles</th><th style=\"text-align:center\" colspan=2>matches</th><th style=\"text-align:center\" colspan=2>afr</th><th style=\"text-align:center\" colspan=2>afx</th><th style=\"text-align:center\" colspan=2>amr</th><th style=\"text-align:center\" colspan=2>eas</th><th style=\"text-align:center\" colspan=2>eur</th><th style=\"text-align:center\" colspan=2>sas</th><th style=\"text-align:center\" colspan=2>sax</th></tr></thead>\n",
       "<tr class=\"even\"><td style=\"text-align: right;\">353921</td><td style=\"text-align: right;\">136,501,840</td><td style=\"text-align: right;\">53,819</td><td style=\"text-align: right;\">10</td><td style=\"text-align: right;\">2206</td><td style=\"text-align: right;\">0.00</td><td style=\"text-align: right;\">2</td><td style=\"text-align: right;\">1.00</td><td style=\"text-align: right;\">0</td><td style=\"text-align: right;\">0.00</td><td style=\"text-align: right;\">0</td><td style=\"text-align: right;\">0.00</td><td style=\"text-align: right;\">2</td><td style=\"text-align: right;\">8.68</td><td style=\"text-align: right;\">0</td><td style=\"text-align: right;\">0.00</td><td style=\"text-align: right;\">0</td><td style=\"text-align: right;\">0.00</td><td style=\"text-align: right;\">0</td><td style=\"text-align: right;\">0.00</td><td style=\"text-align: right;\">0</td><td style=\"text-align: right;\">0.00</td></tr>\n",
       "<tr><td style=\"text-align: right;\">354170</td><td style=\"text-align: right;\">136,682,274</td><td style=\"text-align: right;\">93,624</td><td style=\"text-align: right;\">7</td><td style=\"text-align: right;\">1868</td><td style=\"text-align: right;\">0.00</td><td style=\"text-align: right;\">2</td><td style=\"text-align: right;\">1.00</td><td style=\"text-align: right;\">0</td><td style=\"text-align: right;\">0.00</td><td style=\"text-align: right;\">0</td><td style=\"text-align: right;\">0.00</td><td style=\"text-align: right;\">2</td><td style=\"text-align: right;\">8.68</td><td style=\"text-align: right;\">0</td><td style=\"text-align: right;\">0.00</td><td style=\"text-align: right;\">0</td><td style=\"text-align: right;\">0.00</td><td style=\"text-align: right;\">0</td><td style=\"text-align: right;\">0.00</td><td style=\"text-align: right;\">0</td><td style=\"text-align: right;\">0.00</td></tr>\n",
       "<tr class=\"even\"><td style=\"text-align: right;\">353462</td><td style=\"text-align: right;\">135,915,358</td><td style=\"text-align: right;\">79,721</td><td style=\"text-align: right;\">4</td><td style=\"text-align: right;\">1699</td><td style=\"text-align: right;\">0.00</td><td style=\"text-align: right;\">2</td><td style=\"text-align: right;\">1.00</td><td style=\"text-align: right;\">0</td><td style=\"text-align: right;\">0.00</td><td style=\"text-align: right;\">0</td><td style=\"text-align: right;\">0.00</td><td style=\"text-align: right;\">2</td><td style=\"text-align: right;\">8.68</td><td style=\"text-align: right;\">0</td><td style=\"text-align: right;\">0.00</td><td style=\"text-align: right;\">0</td><td style=\"text-align: right;\">0.00</td><td style=\"text-align: right;\">0</td><td style=\"text-align: right;\">0.00</td><td style=\"text-align: right;\">0</td><td style=\"text-align: right;\">0.00</td></tr>\n",
       "<tr><td style=\"text-align: right;\">353283</td><td style=\"text-align: right;\">135,771,974</td><td style=\"text-align: right;\">368,330</td><td style=\"text-align: right;\">6</td><td style=\"text-align: right;\">1503</td><td style=\"text-align: right;\">0.00</td><td style=\"text-align: right;\">2</td><td style=\"text-align: right;\">1.00</td><td style=\"text-align: right;\">0</td><td style=\"text-align: right;\">0.00</td><td style=\"text-align: right;\">0</td><td style=\"text-align: right;\">0.00</td><td style=\"text-align: right;\">2</td><td style=\"text-align: right;\">8.68</td><td style=\"text-align: right;\">0</td><td style=\"text-align: right;\">0.00</td><td style=\"text-align: right;\">0</td><td style=\"text-align: right;\">0.00</td><td style=\"text-align: right;\">0</td><td style=\"text-align: right;\">0.00</td><td style=\"text-align: right;\">0</td><td style=\"text-align: right;\">0.00</td></tr>\n",
       "<tr class=\"even\"><td style=\"text-align: right;\">353797</td><td style=\"text-align: right;\">136,398,174</td><td style=\"text-align: right;\">75,924</td><td style=\"text-align: right;\">26</td><td style=\"text-align: right;\">1414</td><td style=\"text-align: right;\">0.00</td><td style=\"text-align: right;\">2</td><td style=\"text-align: right;\">1.00</td><td style=\"text-align: right;\">0</td><td style=\"text-align: right;\">0.00</td><td style=\"text-align: right;\">0</td><td style=\"text-align: right;\">0.00</td><td style=\"text-align: right;\">2</td><td style=\"text-align: right;\">8.68</td><td style=\"text-align: right;\">0</td><td style=\"text-align: right;\">0.00</td><td style=\"text-align: right;\">0</td><td style=\"text-align: right;\">0.00</td><td style=\"text-align: right;\">0</td><td style=\"text-align: right;\">0.00</td><td style=\"text-align: right;\">0</td><td style=\"text-align: right;\">0.00</td></tr>\n",
       "</table>"
      ],
      "text/plain": [
       "<IPython.core.display.HTML object>"
      ]
     },
     "execution_count": 8,
     "metadata": {},
     "output_type": "execute_result"
    }
   ],
   "source": [
    "HTML(plt_obj.get_html())"
   ]
  },
  {
   "cell_type": "markdown",
   "metadata": {
    "collapsed": true
   },
   "source": [
    "<div style=\"width:700px\">\n",
    "<p>\n",
    "The plot below shows the series expressed by 4 samples that have lost 7_1868.\n",
    "</div>"
   ]
  },
  {
   "cell_type": "code",
   "execution_count": 9,
   "metadata": {
    "collapsed": false,
    "editable": true
   },
   "outputs": [
    {
     "data": {
      "text/html": [
       "\n",
       "\n",
       "    <div class=\"bk-root\">\n",
       "        <div class=\"plotdiv\" id=\"21cbbba7-4437-4602-b4ab-85d3d2dbd619\"></div>\n",
       "    </div>\n",
       "<script type=\"text/javascript\">\n",
       "  \n",
       "  (function(global) {\n",
       "    function now() {\n",
       "      return new Date();\n",
       "    }\n",
       "  \n",
       "    if (typeof (window._bokeh_onload_callbacks) === \"undefined\") {\n",
       "      window._bokeh_onload_callbacks = [];\n",
       "    }\n",
       "  \n",
       "    function run_callbacks() {\n",
       "      window._bokeh_onload_callbacks.forEach(function(callback) { callback() });\n",
       "      delete window._bokeh_onload_callbacks\n",
       "      console.info(\"Bokeh: all callbacks have finished\");\n",
       "    }\n",
       "  \n",
       "    function load_libs(js_urls, callback) {\n",
       "      window._bokeh_onload_callbacks.push(callback);\n",
       "      if (window._bokeh_is_loading > 0) {\n",
       "        console.log(\"Bokeh: BokehJS is being loaded, scheduling callback at\", now());\n",
       "        return null;\n",
       "      }\n",
       "      if (js_urls == null || js_urls.length === 0) {\n",
       "        run_callbacks();\n",
       "        return null;\n",
       "      }\n",
       "      console.log(\"Bokeh: BokehJS not loaded, scheduling load and callback at\", now());\n",
       "      window._bokeh_is_loading = js_urls.length;\n",
       "      for (var i = 0; i < js_urls.length; i++) {\n",
       "        var url = js_urls[i];\n",
       "        var s = document.createElement('script');\n",
       "        s.src = url;\n",
       "        s.async = false;\n",
       "        s.onreadystatechange = s.onload = function() {\n",
       "          window._bokeh_is_loading--;\n",
       "          if (window._bokeh_is_loading === 0) {\n",
       "            console.log(\"Bokeh: all BokehJS libraries loaded\");\n",
       "            run_callbacks()\n",
       "          }\n",
       "        };\n",
       "        s.onerror = function() {\n",
       "          console.warn(\"failed to load library \" + url);\n",
       "        };\n",
       "        console.log(\"Bokeh: injecting script tag for BokehJS library: \", url);\n",
       "        document.getElementsByTagName(\"head\")[0].appendChild(s);\n",
       "      }\n",
       "    };var element = document.getElementById(\"21cbbba7-4437-4602-b4ab-85d3d2dbd619\");\n",
       "    if (element == null) {\n",
       "      console.log(\"Bokeh: ERROR: autoload.js configured with elementid '21cbbba7-4437-4602-b4ab-85d3d2dbd619' but no matching script tag was found. \")\n",
       "      return false;\n",
       "    }\n",
       "  \n",
       "    var js_urls = [];\n",
       "  \n",
       "    var inline_js = [\n",
       "      function(Bokeh) {\n",
       "        Bokeh.$(function() {\n",
       "            var docs_json = {\"6040adfe-8025-4cdf-91e7-a54344973475\":{\"roots\":{\"references\":[{\"attributes\":{\"data_source\":{\"id\":\"5df5bce0-6ca4-4911-854a-3036b2618624\",\"type\":\"ColumnDataSource\"},\"glyph\":{\"id\":\"9360e8f5-d476-45a5-84e9-3816a64f4af4\",\"type\":\"Quad\"},\"hover_glyph\":null,\"nonselection_glyph\":{\"id\":\"a918cbae-0881-4114-be1c-e2e8859fc6cf\",\"type\":\"Quad\"},\"selection_glyph\":null},\"id\":\"04c780ab-a5a7-4b24-9acf-d54a5ad35f1d\",\"type\":\"GlyphRenderer\"},{\"attributes\":{\"callback\":null,\"column_names\":[\"right\",\"bottom\",\"top\",\"left\"],\"data\":{\"bottom\":[245,245,245,245,245,245,245],\"left\":[135809835,135957574,136289083,136499189,136545415,136597196,136664254],\"right\":[135928279,136288182,136482839,136542633,136594750,136634047,136743222],\"top\":[275,275,275,275,275,275,275]}},\"id\":\"566658dc-a746-401f-abbd-d2d0f6b33e21\",\"type\":\"ColumnDataSource\"},{\"attributes\":{},\"id\":\"8f9b9126-5eed-4eaf-8b3b-9307ab52232a\",\"type\":\"BasicTicker\"},{\"attributes\":{\"callback\":null,\"column_names\":[\"xs\",\"ys\",\"line_color\"],\"data\":{\"line_color\":[\"black\",\"black\",\"black\",\"black\",\"black\",\"black\",\"black\",\"black\",\"black\",\"black\",\"black\",\"black\",\"black\",\"black\",\"black\",\"black\",\"black\",\"black\",\"black\",\"black\",\"black\",\"black\",\"black\",\"black\",\"black\",\"black\",\"black\",\"black\",\"black\",\"black\",\"black\",\"black\",\"black\",\"black\",\"black\",\"black\",\"black\",\"black\",\"black\",\"black\",\"black\",\"black\",\"black\",\"black\",\"black\",\"black\",\"black\",\"black\",\"black\",\"black\",\"black\",\"black\",\"black\",\"black\",\"black\",\"black\",\"black\",\"black\",\"black\",\"black\",\"black\",\"black\",\"black\",\"black\",\"black\",\"black\",\"black\",\"black\",\"black\",\"black\",\"black\",\"black\",\"black\",\"black\",\"black\",\"black\",\"black\",\"black\",\"black\",\"black\",\"black\",\"black\",\"black\",\"black\",\"black\",\"black\",\"black\",\"black\",\"black\",\"black\",\"black\",\"black\",\"black\",\"black\",\"black\",\"black\",\"black\",\"black\",\"black\",\"black\",\"black\",\"black\",\"black\",\"black\",\"black\",\"black\",\"black\",\"black\",\"black\",\"black\"],\"xs\":[[135771974,135771974],[135859371,135859371],[135877562,135877562],[136022798,136022798],[136058820,136058820],[136140304,136140304],[135915358,135915358],[135954405,135954405],[135995073,135995073],[135995079,135995079],[136398174,136398174],[136402117,136402117],[136403749,136403749],[136409073,136409073],[136410299,136410299],[136413359,136413359],[136416855,136416855],[136416941,136416941],[136418348,136418348],[136419961,136419961],[136420690,136420690],[136422171,136422171],[136428460,136428460],[136430866,136430866],[136432103,136432103],[136437507,136437507],[136439090,136439090],[136439517,136439517],[136444123,136444123],[136445526,136445526],[136445869,136445869],[136455600,136455600],[136456642,136456642],[136462441,136462441],[136470714,136470714],[136474098,136474098],[136494186,136494186],[136495300,136495300],[136495619,136495619],[136499166,136499166],[136502792,136502792],[136503157,136503157],[136507039,136507039],[136511575,136511575],[136518103,136518103],[136521514,136521514],[136522675,136522675],[136522941,136522941],[136526981,136526981],[136535410,136535410],[136539122,136539122],[136544197,136544197],[136550109,136550109],[136551694,136551694],[136553188,136553188],[136553639,136553639],[136554800,136554800],[136557319,136557319],[136558157,136558157],[136569848,136569848],[136575199,136575199],[136576577,136576577],[136578536,136578536],[136580287,136580287],[136583192,136583192],[136586958,136586958],[136588478,136588478],[136589612,136589612],[136591178,136591178],[136591859,136591859],[136593760,136593760],[136594158,136594158],[136603276,136603276],[136603366,136603366],[136608231,136608231],[136609975,136609975],[136610598,136610598],[136611624,136611624],[136613780,136613780],[136614255,136614255],[136614813,136614813],[136617524,136617524],[136622216,136622216],[136625602,136625602],[136629911,136629911],[136630757,136630757],[136630989,136630989],[136631031,136631031],[136633771,136633771],[136636324,136636324],[136638216,136638216],[136640233,136640233],[136641882,136641882],[136643555,136643555],[136658345,136658345],[136670298,136670298],[136685228,136685228],[136696138,136696138],[136740900,136740900],[136765951,136765951],[136501840,136501840],[136505546,136505546],[136516748,136516748],[136522710,136522710],[136528004,136528004],[136539513,136539513],[136544752,136544752],[136546110,136546110],[136553529,136553529],[136555659,136555659]],\"ys\":[[50,95],[50,95],[50,95],[50,95],[50,95],[50,95],[150,196],[150,196],[150,196],[150,196],[50,94],[50,94],[50,94],[50,94],[50,94],[50,94],[50,94],[50,94],[50,94],[50,94],[50,94],[50,94],[50,94],[50,94],[50,94],[50,94],[50,94],[50,94],[50,94],[50,94],[50,94],[50,94],[50,94],[50,94],[50,94],[50,94],[50,95],[50,95],[50,95],[50,95],[50,95],[50,95],[50,95],[50,95],[50,95],[50,95],[50,95],[50,95],[50,95],[50,95],[50,95],[50,95],[50,95],[50,95],[50,95],[50,95],[50,95],[50,95],[50,95],[50,95],[50,95],[50,95],[50,95],[50,95],[50,95],[50,95],[50,95],[50,95],[50,95],[50,95],[50,95],[50,95],[50,95],[50,95],[50,95],[50,95],[50,95],[50,95],[50,95],[50,95],[50,95],[50,95],[50,95],[50,95],[50,95],[50,95],[50,95],[50,95],[50,95],[50,95],[50,95],[50,95],[50,95],[50,95],[50,95],[50,95],[50,95],[50,95],[50,95],[50,95],[150,198],[150,198],[150,198],[150,198],[150,198],[150,198],[150,198],[150,198],[150,198],[150,198]]}},\"id\":\"baaecd10-f3c4-4fbf-a0a4-01e72143f3e8\",\"type\":\"ColumnDataSource\"},{\"attributes\":{\"callback\":null,\"end\":300},\"id\":\"138a3e70-92fd-436e-9d18-15bdbb3eb035\",\"type\":\"Range1d\"},{\"attributes\":{},\"id\":\"e100b09e-3911-4850-9028-280206d23196\",\"type\":\"BasicTickFormatter\"},{\"attributes\":{\"bottom_units\":\"screen\",\"fill_alpha\":{\"value\":0.5},\"fill_color\":{\"value\":\"lightgrey\"},\"left_units\":\"screen\",\"level\":\"overlay\",\"line_alpha\":{\"value\":1.0},\"line_color\":{\"value\":\"black\"},\"line_dash\":[4,4],\"line_width\":{\"value\":2},\"plot\":null,\"render_mode\":\"css\",\"right_units\":\"screen\",\"top_units\":\"screen\"},\"id\":\"323e1a3b-3341-4a88-b64e-baa6bc42c498\",\"type\":\"BoxAnnotation\"},{\"attributes\":{\"line_color\":{\"field\":\"line_color\"},\"xs\":{\"field\":\"xs\"},\"ys\":{\"field\":\"ys\"}},\"id\":\"9741fe5d-fb5c-4cb2-9879-234e6a8451f0\",\"type\":\"MultiLine\"},{\"attributes\":{\"plot\":{\"id\":\"d9c97ea4-d8cd-44cc-84df-175e9d2bcf51\",\"subtype\":\"Figure\",\"type\":\"Plot\"}},\"id\":\"98f05ff8-61e0-4149-b6e6-d9bcf444c46e\",\"type\":\"SaveTool\"},{\"attributes\":{\"callback\":null,\"column_names\":[\"y\",\"x\",\"vals\"],\"data\":{\"vals\":[\"6_1503\",\"4_1699\",\"26_1414\",\"64_1575\",\"10_2206\"],\"x\":[135771974,135915358,136398174,136494186,136501840],\"y\":[100.0,201.0,99.0,100.0,203.0]}},\"id\":\"a7c42218-534e-4ae7-9d5d-f87973de4a95\",\"type\":\"ColumnDataSource\"},{\"attributes\":{},\"id\":\"82a1f91c-f468-408b-a9da-a27bb1f23b88\",\"type\":\"BasicTicker\"},{\"attributes\":{\"callback\":null,\"column_names\":[\"y\",\"x\",\"vals\"],\"data\":{\"vals\":[\"RAB3GAP1\",\"ZRANB3\",\"R3HDM1\",\"UBXN4\",\"LCT\",\"MCM6\",\"DARS\"],\"x\":[135869057.0,136122878.0,136385961.0,136520911.0,136570082.5,136615621.5,136703738.0],\"y\":[260.0,260.0,260.0,260.0,260.0,260.0,260.0]}},\"id\":\"b7624c6d-8b45-4595-bb02-343d4b9fb865\",\"type\":\"ColumnDataSource\"},{\"attributes\":{\"callback\":null,\"column_names\":[\"right\",\"bottom\",\"top\",\"left\",\"fill_color\"],\"data\":{\"bottom\":[50,150,50,50,150],\"fill_color\":[\"#61c461\",\"#61c461\",\"#61c461\",\"#61c461\",\"#808080\"],\"left\":[135771974,135915358,136398174,136494186,136501840],\"right\":[136140304,135995079,136474098,136765951,136555659],\"top\":[95,196,94,95,198]}},\"id\":\"5df5bce0-6ca4-4911-854a-3036b2618624\",\"type\":\"ColumnDataSource\"},{\"attributes\":{\"formatter\":{\"id\":\"8f6a6c67-dcd0-49f1-a656-97dc68565ae4\",\"type\":\"BasicTickFormatter\"},\"plot\":{\"id\":\"d9c97ea4-d8cd-44cc-84df-175e9d2bcf51\",\"subtype\":\"Figure\",\"type\":\"Plot\"},\"ticker\":{\"id\":\"82a1f91c-f468-408b-a9da-a27bb1f23b88\",\"type\":\"BasicTicker\"}},\"id\":\"d4d18256-69df-4540-aaa1-089445445973\",\"type\":\"LinearAxis\"},{\"attributes\":{\"callback\":null,\"end\":136786630,\"start\":135757320},\"id\":\"b4696480-51e3-4d62-b18f-95030b510b90\",\"type\":\"Range1d\"},{\"attributes\":{\"plot\":{\"id\":\"d9c97ea4-d8cd-44cc-84df-175e9d2bcf51\",\"subtype\":\"Figure\",\"type\":\"Plot\"}},\"id\":\"8061e0a1-c50a-4dee-a2a8-dd46fcb435a8\",\"type\":\"ResetTool\"},{\"attributes\":{\"data_source\":{\"id\":\"baaecd10-f3c4-4fbf-a0a4-01e72143f3e8\",\"type\":\"ColumnDataSource\"},\"glyph\":{\"id\":\"9741fe5d-fb5c-4cb2-9879-234e6a8451f0\",\"type\":\"MultiLine\"},\"hover_glyph\":null,\"nonselection_glyph\":{\"id\":\"c501f09e-ee16-4584-a9e2-7e9001dcb5ee\",\"type\":\"MultiLine\"},\"selection_glyph\":null},\"id\":\"4d747101-d672-48ea-9a82-dae73162d853\",\"type\":\"GlyphRenderer\"},{\"attributes\":{\"level\":\"glyph\",\"plot\":{\"id\":\"d9c97ea4-d8cd-44cc-84df-175e9d2bcf51\",\"subtype\":\"Figure\",\"type\":\"Plot\"},\"source\":{\"id\":\"b7624c6d-8b45-4595-bb02-343d4b9fb865\",\"type\":\"ColumnDataSource\"},\"text\":{\"field\":\"vals\"},\"text_align\":\"center\",\"text_baseline\":\"middle\",\"text_font_size\":{\"value\":\"8pt\"},\"x\":{\"field\":\"x\"},\"y\":{\"field\":\"y\"}},\"id\":\"4d99eb63-c8c5-4c03-bacf-59bea8686d10\",\"type\":\"LabelSet\"},{\"attributes\":{},\"id\":\"8f6a6c67-dcd0-49f1-a656-97dc68565ae4\",\"type\":\"BasicTickFormatter\"},{\"attributes\":{\"bottom\":{\"field\":\"bottom\"},\"fill_color\":{\"value\":\"white\"},\"left\":{\"field\":\"left\"},\"right\":{\"field\":\"right\"},\"top\":{\"field\":\"top\"}},\"id\":\"477eb281-fee9-41ab-b679-05a53ea3d0ee\",\"type\":\"Quad\"},{\"attributes\":{\"plot\":{\"id\":\"d9c97ea4-d8cd-44cc-84df-175e9d2bcf51\",\"subtype\":\"Figure\",\"type\":\"Plot\"},\"ticker\":{\"id\":\"82a1f91c-f468-408b-a9da-a27bb1f23b88\",\"type\":\"BasicTicker\"}},\"id\":\"97a2c600-7ca3-460a-a46b-7b8143d370be\",\"type\":\"Grid\"},{\"attributes\":{\"dimension\":1,\"plot\":{\"id\":\"d9c97ea4-d8cd-44cc-84df-175e9d2bcf51\",\"subtype\":\"Figure\",\"type\":\"Plot\"},\"ticker\":{\"id\":\"8f9b9126-5eed-4eaf-8b3b-9307ab52232a\",\"type\":\"BasicTicker\"}},\"id\":\"aed03b30-b557-4d85-9495-41a1fb69cea5\",\"type\":\"Grid\"},{\"attributes\":{\"line_alpha\":{\"value\":0.1},\"line_color\":{\"value\":\"#1f77b4\"},\"xs\":{\"field\":\"xs\"},\"ys\":{\"field\":\"ys\"}},\"id\":\"c501f09e-ee16-4584-a9e2-7e9001dcb5ee\",\"type\":\"MultiLine\"},{\"attributes\":{\"level\":\"glyph\",\"plot\":{\"id\":\"d9c97ea4-d8cd-44cc-84df-175e9d2bcf51\",\"subtype\":\"Figure\",\"type\":\"Plot\"},\"source\":{\"id\":\"a7c42218-534e-4ae7-9d5d-f87973de4a95\",\"type\":\"ColumnDataSource\"},\"text\":{\"field\":\"vals\"},\"text_font_size\":{\"value\":\"9pt\"},\"text_font_style\":\"bold\",\"x\":{\"field\":\"x\"},\"y\":{\"field\":\"y\"}},\"id\":\"c53fca57-6e23-473e-a98e-33fd6ccac7af\",\"type\":\"LabelSet\"},{\"attributes\":{\"formatter\":{\"id\":\"e100b09e-3911-4850-9028-280206d23196\",\"type\":\"BasicTickFormatter\"},\"plot\":{\"id\":\"d9c97ea4-d8cd-44cc-84df-175e9d2bcf51\",\"subtype\":\"Figure\",\"type\":\"Plot\"},\"ticker\":{\"id\":\"8f9b9126-5eed-4eaf-8b3b-9307ab52232a\",\"type\":\"BasicTicker\"},\"visible\":null},\"id\":\"fd3c29ee-110d-4d90-a0c0-d68ec6b688de\",\"type\":\"LinearAxis\"},{\"attributes\":{\"bottom\":{\"field\":\"bottom\"},\"fill_alpha\":{\"value\":0.1},\"fill_color\":{\"value\":\"#1f77b4\"},\"left\":{\"field\":\"left\"},\"line_alpha\":{\"value\":0.1},\"line_color\":{\"value\":\"#1f77b4\"},\"right\":{\"field\":\"right\"},\"top\":{\"field\":\"top\"}},\"id\":\"6af5ca5b-ed79-4f07-996a-3fa84af23ec2\",\"type\":\"Quad\"},{\"attributes\":{},\"id\":\"619a1872-629b-48fd-80f7-866d8aef0c8a\",\"type\":\"ToolEvents\"},{\"attributes\":{\"plot\":null,\"text\":null},\"id\":\"607586c7-d35a-490a-b7a3-1dc7994a0a4c\",\"type\":\"Title\"},{\"attributes\":{\"below\":[{\"id\":\"d4d18256-69df-4540-aaa1-089445445973\",\"type\":\"LinearAxis\"}],\"left\":[{\"id\":\"fd3c29ee-110d-4d90-a0c0-d68ec6b688de\",\"type\":\"LinearAxis\"}],\"plot_height\":300,\"plot_width\":900,\"renderers\":[{\"id\":\"d4d18256-69df-4540-aaa1-089445445973\",\"type\":\"LinearAxis\"},{\"id\":\"97a2c600-7ca3-460a-a46b-7b8143d370be\",\"type\":\"Grid\"},{\"id\":\"fd3c29ee-110d-4d90-a0c0-d68ec6b688de\",\"type\":\"LinearAxis\"},{\"id\":\"aed03b30-b557-4d85-9495-41a1fb69cea5\",\"type\":\"Grid\"},{\"id\":\"323e1a3b-3341-4a88-b64e-baa6bc42c498\",\"type\":\"BoxAnnotation\"},{\"id\":\"04c780ab-a5a7-4b24-9acf-d54a5ad35f1d\",\"type\":\"GlyphRenderer\"},{\"id\":\"4d747101-d672-48ea-9a82-dae73162d853\",\"type\":\"GlyphRenderer\"},{\"id\":\"c53fca57-6e23-473e-a98e-33fd6ccac7af\",\"type\":\"LabelSet\"},{\"id\":\"b665fc66-43a2-423e-ba99-b44a3ba453fa\",\"type\":\"GlyphRenderer\"},{\"id\":\"4d99eb63-c8c5-4c03-bacf-59bea8686d10\",\"type\":\"LabelSet\"}],\"title\":{\"id\":\"607586c7-d35a-490a-b7a3-1dc7994a0a4c\",\"type\":\"Title\"},\"tool_events\":{\"id\":\"619a1872-629b-48fd-80f7-866d8aef0c8a\",\"type\":\"ToolEvents\"},\"toolbar\":{\"id\":\"4806b389-9890-4586-b1d0-3e3a124082e1\",\"type\":\"Toolbar\"},\"toolbar_location\":null,\"x_range\":{\"id\":\"b4696480-51e3-4d62-b18f-95030b510b90\",\"type\":\"Range1d\"},\"y_range\":{\"id\":\"138a3e70-92fd-436e-9d18-15bdbb3eb035\",\"type\":\"Range1d\"}},\"id\":\"d9c97ea4-d8cd-44cc-84df-175e9d2bcf51\",\"subtype\":\"Figure\",\"type\":\"Plot\"},{\"attributes\":{\"overlay\":{\"id\":\"323e1a3b-3341-4a88-b64e-baa6bc42c498\",\"type\":\"BoxAnnotation\"},\"plot\":{\"id\":\"d9c97ea4-d8cd-44cc-84df-175e9d2bcf51\",\"subtype\":\"Figure\",\"type\":\"Plot\"}},\"id\":\"76b022ba-5a24-4129-8e70-12020ea66ebf\",\"type\":\"BoxZoomTool\"},{\"attributes\":{\"data_source\":{\"id\":\"566658dc-a746-401f-abbd-d2d0f6b33e21\",\"type\":\"ColumnDataSource\"},\"glyph\":{\"id\":\"477eb281-fee9-41ab-b679-05a53ea3d0ee\",\"type\":\"Quad\"},\"hover_glyph\":null,\"nonselection_glyph\":{\"id\":\"6af5ca5b-ed79-4f07-996a-3fa84af23ec2\",\"type\":\"Quad\"},\"selection_glyph\":null},\"id\":\"b665fc66-43a2-423e-ba99-b44a3ba453fa\",\"type\":\"GlyphRenderer\"},{\"attributes\":{\"plot\":{\"id\":\"d9c97ea4-d8cd-44cc-84df-175e9d2bcf51\",\"subtype\":\"Figure\",\"type\":\"Plot\"}},\"id\":\"5a436233-96ac-4b60-a268-97b2de39d5e8\",\"type\":\"PanTool\"},{\"attributes\":{\"plot\":{\"id\":\"d9c97ea4-d8cd-44cc-84df-175e9d2bcf51\",\"subtype\":\"Figure\",\"type\":\"Plot\"}},\"id\":\"8e460e51-7d87-43b6-92ea-7cb9ced7f68c\",\"type\":\"HelpTool\"},{\"attributes\":{\"bottom\":{\"field\":\"bottom\"},\"fill_alpha\":{\"value\":0.1},\"fill_color\":{\"value\":\"#1f77b4\"},\"left\":{\"field\":\"left\"},\"line_alpha\":{\"value\":0.1},\"line_color\":{\"value\":\"#1f77b4\"},\"right\":{\"field\":\"right\"},\"top\":{\"field\":\"top\"}},\"id\":\"a918cbae-0881-4114-be1c-e2e8859fc6cf\",\"type\":\"Quad\"},{\"attributes\":{\"bottom\":{\"field\":\"bottom\"},\"fill_color\":{\"field\":\"fill_color\"},\"left\":{\"field\":\"left\"},\"line_color\":{\"value\":null},\"right\":{\"field\":\"right\"},\"top\":{\"field\":\"top\"}},\"id\":\"9360e8f5-d476-45a5-84e9-3816a64f4af4\",\"type\":\"Quad\"},{\"attributes\":{\"plot\":{\"id\":\"d9c97ea4-d8cd-44cc-84df-175e9d2bcf51\",\"subtype\":\"Figure\",\"type\":\"Plot\"}},\"id\":\"7baddd61-2e54-4788-ba43-0d51632fce47\",\"type\":\"WheelZoomTool\"},{\"attributes\":{\"active_drag\":\"auto\",\"active_scroll\":\"auto\",\"active_tap\":\"auto\",\"tools\":[{\"id\":\"5a436233-96ac-4b60-a268-97b2de39d5e8\",\"type\":\"PanTool\"},{\"id\":\"7baddd61-2e54-4788-ba43-0d51632fce47\",\"type\":\"WheelZoomTool\"},{\"id\":\"76b022ba-5a24-4129-8e70-12020ea66ebf\",\"type\":\"BoxZoomTool\"},{\"id\":\"98f05ff8-61e0-4149-b6e6-d9bcf444c46e\",\"type\":\"SaveTool\"},{\"id\":\"8061e0a1-c50a-4dee-a2a8-dd46fcb435a8\",\"type\":\"ResetTool\"},{\"id\":\"8e460e51-7d87-43b6-92ea-7cb9ced7f68c\",\"type\":\"HelpTool\"}]},\"id\":\"4806b389-9890-4586-b1d0-3e3a124082e1\",\"type\":\"Toolbar\"}],\"root_ids\":[\"d9c97ea4-d8cd-44cc-84df-175e9d2bcf51\"]},\"title\":\"Bokeh Application\",\"version\":\"0.12.0\"}};\n",
       "            var render_items = [{\"docid\":\"6040adfe-8025-4cdf-91e7-a54344973475\",\"elementid\":\"21cbbba7-4437-4602-b4ab-85d3d2dbd619\",\"modelid\":\"d9c97ea4-d8cd-44cc-84df-175e9d2bcf51\",\"notebook_comms_target\":\"ee3aef8a-22da-461b-a1a4-9c5cd7220d43\"}];\n",
       "            \n",
       "            Bokeh.embed.embed_items(docs_json, render_items);\n",
       "        });\n",
       "      },\n",
       "      function(Bokeh) {\n",
       "      }\n",
       "    ];\n",
       "  \n",
       "    function run_inline_js() {\n",
       "      for (var i = 0; i < inline_js.length; i++) {\n",
       "        inline_js[i](window.Bokeh);\n",
       "      }\n",
       "    }\n",
       "  \n",
       "    if (window._bokeh_is_loading === 0) {\n",
       "      console.log(\"Bokeh: BokehJS loaded, going straight to plotting\");\n",
       "      run_inline_js();\n",
       "    } else {\n",
       "      load_libs(js_urls, function() {\n",
       "        console.log(\"Bokeh: BokehJS plotting callback run at\", now());\n",
       "        run_inline_js();\n",
       "      });\n",
       "    }\n",
       "  }(this));\n",
       "</script>"
      ]
     },
     "metadata": {},
     "output_type": "display_data"
    },
    {
     "data": {
      "text/html": [
       "<p><code>&lt;Bokeh Notebook handle for <strong>In[9]</strong>&gt;</code></p>"
      ],
      "text/plain": [
       "<bokeh.io._CommsHandle at 0x7ff6b468fad0>"
      ]
     },
     "execution_count": 9,
     "metadata": {},
     "output_type": "execute_result"
    }
   ],
   "source": [
    "plt_obj = dm.superset_yes_no([dm.di_6_1503, dm.di_26_1414, dm.di_10_2206, dm.di_64_1575], \n",
    "                             [dm.di_24_1504, dm.di_7_1868,\n",
    "                              dm.di_4_911, dm.di_11_765, di_6_57, di_6_35, di_7_22, di_7_20],\n",
    "                             min_match=0.001)\n",
    "plt = plt_obj.do_plot()\n",
    "show(plt)"
   ]
  },
  {
   "cell_type": "code",
   "execution_count": 10,
   "metadata": {
    "collapsed": false,
    "editable": true
   },
   "outputs": [
    {
     "data": {
      "text/html": [
       "<table>\n",
       "<thead><tr><th style=\"text-align:center\">index</th><th style=\"text-align:center\">first</th><th style=\"text-align:center\">length</th><th style=\"text-align:center\">snps</th><th style=\"text-align:center\" colspan=2>alleles</th><th style=\"text-align:center\" colspan=2>matches</th><th style=\"text-align:center\" colspan=2>afr</th><th style=\"text-align:center\" colspan=2>afx</th><th style=\"text-align:center\" colspan=2>amr</th><th style=\"text-align:center\" colspan=2>eas</th><th style=\"text-align:center\" colspan=2>eur</th><th style=\"text-align:center\" colspan=2>sas</th><th style=\"text-align:center\" colspan=2>sax</th></tr></thead>\n",
       "<tr class=\"even\"><td style=\"text-align: right;\">353921</td><td style=\"text-align: right;\">136,501,840</td><td style=\"text-align: right;\">53,819</td><td style=\"text-align: right;\">10</td><td style=\"text-align: right;\">2206</td><td style=\"text-align: right;\">0.00</td><td style=\"text-align: right;\">4</td><td style=\"text-align: right;\">1.00</td><td style=\"text-align: right;\">0</td><td style=\"text-align: right;\">0.00</td><td style=\"text-align: right;\">0</td><td style=\"text-align: right;\">0.00</td><td style=\"text-align: right;\">1</td><td style=\"text-align: right;\">1.67</td><td style=\"text-align: right;\">2</td><td style=\"text-align: right;\">3.11</td><td style=\"text-align: right;\">0</td><td style=\"text-align: right;\">0.00</td><td style=\"text-align: right;\">0</td><td style=\"text-align: right;\">0.00</td><td style=\"text-align: right;\">1</td><td style=\"text-align: right;\">1.69</td></tr>\n",
       "<tr><td style=\"text-align: right;\">353462</td><td style=\"text-align: right;\">135,915,358</td><td style=\"text-align: right;\">79,721</td><td style=\"text-align: right;\">4</td><td style=\"text-align: right;\">1699</td><td style=\"text-align: right;\">0.00</td><td style=\"text-align: right;\">4</td><td style=\"text-align: right;\">1.00</td><td style=\"text-align: right;\">0</td><td style=\"text-align: right;\">0.00</td><td style=\"text-align: right;\">0</td><td style=\"text-align: right;\">0.00</td><td style=\"text-align: right;\">1</td><td style=\"text-align: right;\">1.67</td><td style=\"text-align: right;\">2</td><td style=\"text-align: right;\">3.11</td><td style=\"text-align: right;\">0</td><td style=\"text-align: right;\">0.00</td><td style=\"text-align: right;\">0</td><td style=\"text-align: right;\">0.00</td><td style=\"text-align: right;\">1</td><td style=\"text-align: right;\">1.69</td></tr>\n",
       "<tr class=\"even\"><td style=\"text-align: right;\">353901</td><td style=\"text-align: right;\">136,494,186</td><td style=\"text-align: right;\">271,765</td><td style=\"text-align: right;\">64</td><td style=\"text-align: right;\">1575</td><td style=\"text-align: right;\">0.00</td><td style=\"text-align: right;\">4</td><td style=\"text-align: right;\">1.00</td><td style=\"text-align: right;\">0</td><td style=\"text-align: right;\">0.00</td><td style=\"text-align: right;\">0</td><td style=\"text-align: right;\">0.00</td><td style=\"text-align: right;\">1</td><td style=\"text-align: right;\">1.67</td><td style=\"text-align: right;\">2</td><td style=\"text-align: right;\">3.11</td><td style=\"text-align: right;\">0</td><td style=\"text-align: right;\">0.00</td><td style=\"text-align: right;\">0</td><td style=\"text-align: right;\">0.00</td><td style=\"text-align: right;\">1</td><td style=\"text-align: right;\">1.69</td></tr>\n",
       "<tr><td style=\"text-align: right;\">353283</td><td style=\"text-align: right;\">135,771,974</td><td style=\"text-align: right;\">368,330</td><td style=\"text-align: right;\">6</td><td style=\"text-align: right;\">1503</td><td style=\"text-align: right;\">0.00</td><td style=\"text-align: right;\">4</td><td style=\"text-align: right;\">1.00</td><td style=\"text-align: right;\">0</td><td style=\"text-align: right;\">0.00</td><td style=\"text-align: right;\">0</td><td style=\"text-align: right;\">0.00</td><td style=\"text-align: right;\">1</td><td style=\"text-align: right;\">1.67</td><td style=\"text-align: right;\">2</td><td style=\"text-align: right;\">3.11</td><td style=\"text-align: right;\">0</td><td style=\"text-align: right;\">0.00</td><td style=\"text-align: right;\">0</td><td style=\"text-align: right;\">0.00</td><td style=\"text-align: right;\">1</td><td style=\"text-align: right;\">1.69</td></tr>\n",
       "<tr class=\"even\"><td style=\"text-align: right;\">353797</td><td style=\"text-align: right;\">136,398,174</td><td style=\"text-align: right;\">75,924</td><td style=\"text-align: right;\">26</td><td style=\"text-align: right;\">1414</td><td style=\"text-align: right;\">0.00</td><td style=\"text-align: right;\">4</td><td style=\"text-align: right;\">1.00</td><td style=\"text-align: right;\">0</td><td style=\"text-align: right;\">0.00</td><td style=\"text-align: right;\">0</td><td style=\"text-align: right;\">0.00</td><td style=\"text-align: right;\">1</td><td style=\"text-align: right;\">1.67</td><td style=\"text-align: right;\">2</td><td style=\"text-align: right;\">3.11</td><td style=\"text-align: right;\">0</td><td style=\"text-align: right;\">0.00</td><td style=\"text-align: right;\">0</td><td style=\"text-align: right;\">0.00</td><td style=\"text-align: right;\">1</td><td style=\"text-align: right;\">1.69</td></tr>\n",
       "</table>"
      ],
      "text/plain": [
       "<IPython.core.display.HTML object>"
      ]
     },
     "execution_count": 10,
     "metadata": {},
     "output_type": "execute_result"
    }
   ],
   "source": [
    "HTML(plt_obj.get_html())"
   ]
  },
  {
   "cell_type": "markdown",
   "metadata": {
    "collapsed": true
   },
   "source": [
    "<div style=\"width:700px\">\n",
    "<p>\n",
    "The plot below shows an association of series expressed by 9 mostly East Asian\n",
    "samples.  The series 64_1575 and 7_1868 appear to have been lost through\n",
    "a recombination event that associated the series 39_1014 with the rest of the\n",
    "EUR tree root series.  The series 39_1014 is mostly associated with the series\n",
    "at the root of the SAS tree.\n",
    "</div>"
   ]
  },
  {
   "cell_type": "code",
   "execution_count": 11,
   "metadata": {
    "collapsed": false,
    "editable": true
   },
   "outputs": [
    {
     "data": {
      "text/html": [
       "\n",
       "\n",
       "    <div class=\"bk-root\">\n",
       "        <div class=\"plotdiv\" id=\"cf9aad71-9ec6-4e40-bf5a-0d9c8352984c\"></div>\n",
       "    </div>\n",
       "<script type=\"text/javascript\">\n",
       "  \n",
       "  (function(global) {\n",
       "    function now() {\n",
       "      return new Date();\n",
       "    }\n",
       "  \n",
       "    if (typeof (window._bokeh_onload_callbacks) === \"undefined\") {\n",
       "      window._bokeh_onload_callbacks = [];\n",
       "    }\n",
       "  \n",
       "    function run_callbacks() {\n",
       "      window._bokeh_onload_callbacks.forEach(function(callback) { callback() });\n",
       "      delete window._bokeh_onload_callbacks\n",
       "      console.info(\"Bokeh: all callbacks have finished\");\n",
       "    }\n",
       "  \n",
       "    function load_libs(js_urls, callback) {\n",
       "      window._bokeh_onload_callbacks.push(callback);\n",
       "      if (window._bokeh_is_loading > 0) {\n",
       "        console.log(\"Bokeh: BokehJS is being loaded, scheduling callback at\", now());\n",
       "        return null;\n",
       "      }\n",
       "      if (js_urls == null || js_urls.length === 0) {\n",
       "        run_callbacks();\n",
       "        return null;\n",
       "      }\n",
       "      console.log(\"Bokeh: BokehJS not loaded, scheduling load and callback at\", now());\n",
       "      window._bokeh_is_loading = js_urls.length;\n",
       "      for (var i = 0; i < js_urls.length; i++) {\n",
       "        var url = js_urls[i];\n",
       "        var s = document.createElement('script');\n",
       "        s.src = url;\n",
       "        s.async = false;\n",
       "        s.onreadystatechange = s.onload = function() {\n",
       "          window._bokeh_is_loading--;\n",
       "          if (window._bokeh_is_loading === 0) {\n",
       "            console.log(\"Bokeh: all BokehJS libraries loaded\");\n",
       "            run_callbacks()\n",
       "          }\n",
       "        };\n",
       "        s.onerror = function() {\n",
       "          console.warn(\"failed to load library \" + url);\n",
       "        };\n",
       "        console.log(\"Bokeh: injecting script tag for BokehJS library: \", url);\n",
       "        document.getElementsByTagName(\"head\")[0].appendChild(s);\n",
       "      }\n",
       "    };var element = document.getElementById(\"cf9aad71-9ec6-4e40-bf5a-0d9c8352984c\");\n",
       "    if (element == null) {\n",
       "      console.log(\"Bokeh: ERROR: autoload.js configured with elementid 'cf9aad71-9ec6-4e40-bf5a-0d9c8352984c' but no matching script tag was found. \")\n",
       "      return false;\n",
       "    }\n",
       "  \n",
       "    var js_urls = [];\n",
       "  \n",
       "    var inline_js = [\n",
       "      function(Bokeh) {\n",
       "        Bokeh.$(function() {\n",
       "            var docs_json = {\"20ddacc7-71a0-4957-ba3d-814b4e4fa396\":{\"roots\":{\"references\":[{\"attributes\":{\"callback\":null,\"end\":300},\"id\":\"3712e0a6-8846-4354-9524-69971ea21bcf\",\"type\":\"Range1d\"},{\"attributes\":{\"plot\":{\"id\":\"9e13e56c-7faa-4f1f-82c9-68f39f5e920f\",\"subtype\":\"Figure\",\"type\":\"Plot\"}},\"id\":\"0fd72016-5c7c-46a1-86b1-feab7ccaffb0\",\"type\":\"PanTool\"},{\"attributes\":{\"data_source\":{\"id\":\"bdc4ec02-a6a5-4978-9644-b02260e5d056\",\"type\":\"ColumnDataSource\"},\"glyph\":{\"id\":\"19561e40-c49a-41d6-a9a5-9852b9378ef4\",\"type\":\"MultiLine\"},\"hover_glyph\":null,\"nonselection_glyph\":{\"id\":\"d62f91e6-17c1-4d39-9071-8177c7a9c7de\",\"type\":\"MultiLine\"},\"selection_glyph\":null},\"id\":\"d558866d-bfad-4242-a052-4cadbea228bb\",\"type\":\"GlyphRenderer\"},{\"attributes\":{\"plot\":null,\"text\":null},\"id\":\"045a84e9-6737-471e-a89b-89825f31e4a6\",\"type\":\"Title\"},{\"attributes\":{\"callback\":null,\"column_names\":[\"y\",\"x\",\"vals\"],\"data\":{\"vals\":[\"RAB3GAP1\",\"ZRANB3\",\"R3HDM1\",\"UBXN4\",\"LCT\",\"MCM6\",\"DARS\"],\"x\":[135869057.0,136122878.0,136385961.0,136520911.0,136570082.5,136615621.5,136703738.0],\"y\":[260.0,260.0,260.0,260.0,260.0,260.0,260.0]}},\"id\":\"939c4f00-c536-44ea-b488-f5929c58c3fa\",\"type\":\"ColumnDataSource\"},{\"attributes\":{\"below\":[{\"id\":\"25564860-8562-4920-942a-40d2a559537c\",\"type\":\"LinearAxis\"}],\"left\":[{\"id\":\"b9026366-96bb-4a2c-995a-513c3529fb24\",\"type\":\"LinearAxis\"}],\"plot_height\":300,\"plot_width\":900,\"renderers\":[{\"id\":\"25564860-8562-4920-942a-40d2a559537c\",\"type\":\"LinearAxis\"},{\"id\":\"40f027a1-6d59-467e-8cb5-ddb61f394d13\",\"type\":\"Grid\"},{\"id\":\"b9026366-96bb-4a2c-995a-513c3529fb24\",\"type\":\"LinearAxis\"},{\"id\":\"c4f44166-7430-4188-92bd-88bab1eacba4\",\"type\":\"Grid\"},{\"id\":\"c6c064bc-0795-4ab8-b30a-62d8ac03099c\",\"type\":\"BoxAnnotation\"},{\"id\":\"45a70a5e-0c33-433d-8f5a-db56a326ff2a\",\"type\":\"GlyphRenderer\"},{\"id\":\"d558866d-bfad-4242-a052-4cadbea228bb\",\"type\":\"GlyphRenderer\"},{\"id\":\"a65782fc-6912-4ec9-9463-1e8cb44738d1\",\"type\":\"LabelSet\"},{\"id\":\"7a8f5592-4219-427a-acde-5982c339d422\",\"type\":\"GlyphRenderer\"},{\"id\":\"ad7a388b-3c68-489f-b9d0-54f73875b871\",\"type\":\"LabelSet\"}],\"title\":{\"id\":\"045a84e9-6737-471e-a89b-89825f31e4a6\",\"type\":\"Title\"},\"tool_events\":{\"id\":\"d30aece5-8d7e-4170-b173-9cd91728ca28\",\"type\":\"ToolEvents\"},\"toolbar\":{\"id\":\"2e7b0cf2-8392-4825-bb74-7ef9b83da941\",\"type\":\"Toolbar\"},\"toolbar_location\":null,\"x_range\":{\"id\":\"1bc69ecb-adbc-430b-87ad-96daa9e27b88\",\"type\":\"Range1d\"},\"y_range\":{\"id\":\"3712e0a6-8846-4354-9524-69971ea21bcf\",\"type\":\"Range1d\"}},\"id\":\"9e13e56c-7faa-4f1f-82c9-68f39f5e920f\",\"subtype\":\"Figure\",\"type\":\"Plot\"},{\"attributes\":{\"active_drag\":\"auto\",\"active_scroll\":\"auto\",\"active_tap\":\"auto\",\"tools\":[{\"id\":\"0fd72016-5c7c-46a1-86b1-feab7ccaffb0\",\"type\":\"PanTool\"},{\"id\":\"6393d02b-6265-478d-a043-6cf4b4351046\",\"type\":\"WheelZoomTool\"},{\"id\":\"6b4398dd-d36c-40da-8aa1-22783dc0689a\",\"type\":\"BoxZoomTool\"},{\"id\":\"4bb46fe7-3bee-4a50-9ad1-3fb9ba965b99\",\"type\":\"SaveTool\"},{\"id\":\"a6c2b1a9-72bd-4adb-80e4-43ec235ace4c\",\"type\":\"ResetTool\"},{\"id\":\"787164d9-3467-42be-b4c7-25f959aa1539\",\"type\":\"HelpTool\"}]},\"id\":\"2e7b0cf2-8392-4825-bb74-7ef9b83da941\",\"type\":\"Toolbar\"},{\"attributes\":{\"plot\":{\"id\":\"9e13e56c-7faa-4f1f-82c9-68f39f5e920f\",\"subtype\":\"Figure\",\"type\":\"Plot\"}},\"id\":\"a6c2b1a9-72bd-4adb-80e4-43ec235ace4c\",\"type\":\"ResetTool\"},{\"attributes\":{\"bottom\":{\"field\":\"bottom\"},\"fill_alpha\":{\"value\":0.1},\"fill_color\":{\"value\":\"#1f77b4\"},\"left\":{\"field\":\"left\"},\"line_alpha\":{\"value\":0.1},\"line_color\":{\"value\":\"#1f77b4\"},\"right\":{\"field\":\"right\"},\"top\":{\"field\":\"top\"}},\"id\":\"9359b2c2-9e07-4e7d-b3fb-f8aefb1f7c83\",\"type\":\"Quad\"},{\"attributes\":{},\"id\":\"d30aece5-8d7e-4170-b173-9cd91728ca28\",\"type\":\"ToolEvents\"},{\"attributes\":{\"data_source\":{\"id\":\"d394abea-f2b3-4a80-bc23-1db29dec197b\",\"type\":\"ColumnDataSource\"},\"glyph\":{\"id\":\"30c0e665-a377-4839-b5a2-7a3e15137ee4\",\"type\":\"Quad\"},\"hover_glyph\":null,\"nonselection_glyph\":{\"id\":\"9359b2c2-9e07-4e7d-b3fb-f8aefb1f7c83\",\"type\":\"Quad\"},\"selection_glyph\":null},\"id\":\"7a8f5592-4219-427a-acde-5982c339d422\",\"type\":\"GlyphRenderer\"},{\"attributes\":{\"callback\":null,\"column_names\":[\"right\",\"bottom\",\"top\",\"left\",\"fill_color\"],\"data\":{\"bottom\":[50,150,50,150,50],\"fill_color\":[\"#61c461\",\"#61c461\",\"#61c461\",\"#808080\",\"#808080\"],\"left\":[135771974,135915358,136398174,136501840,136556805],\"right\":[136140304,135995079,136474098,136555659,136747085],\"top\":[95,196,94,198,91]}},\"id\":\"4de3d4e9-4834-45f1-8083-9c973658e470\",\"type\":\"ColumnDataSource\"},{\"attributes\":{},\"id\":\"3b621424-f0f7-48c4-a771-0f5dcaf6b6aa\",\"type\":\"BasicTickFormatter\"},{\"attributes\":{\"bottom\":{\"field\":\"bottom\"},\"fill_color\":{\"value\":\"white\"},\"left\":{\"field\":\"left\"},\"right\":{\"field\":\"right\"},\"top\":{\"field\":\"top\"}},\"id\":\"30c0e665-a377-4839-b5a2-7a3e15137ee4\",\"type\":\"Quad\"},{\"attributes\":{\"bottom\":{\"field\":\"bottom\"},\"fill_color\":{\"field\":\"fill_color\"},\"left\":{\"field\":\"left\"},\"line_color\":{\"value\":null},\"right\":{\"field\":\"right\"},\"top\":{\"field\":\"top\"}},\"id\":\"1104ebab-068e-4f89-a5f9-a256fbce8dec\",\"type\":\"Quad\"},{\"attributes\":{\"callback\":null,\"end\":136786630,\"start\":135757320},\"id\":\"1bc69ecb-adbc-430b-87ad-96daa9e27b88\",\"type\":\"Range1d\"},{\"attributes\":{\"dimension\":1,\"plot\":{\"id\":\"9e13e56c-7faa-4f1f-82c9-68f39f5e920f\",\"subtype\":\"Figure\",\"type\":\"Plot\"},\"ticker\":{\"id\":\"fc0d1575-cf48-4d6a-a7bb-113f7e9f2826\",\"type\":\"BasicTicker\"}},\"id\":\"c4f44166-7430-4188-92bd-88bab1eacba4\",\"type\":\"Grid\"},{\"attributes\":{\"line_color\":{\"field\":\"line_color\"},\"xs\":{\"field\":\"xs\"},\"ys\":{\"field\":\"ys\"}},\"id\":\"19561e40-c49a-41d6-a9a5-9852b9378ef4\",\"type\":\"MultiLine\"},{\"attributes\":{\"formatter\":{\"id\":\"34c5ab95-9a5d-4fc5-8482-90e9cca6d19e\",\"type\":\"BasicTickFormatter\"},\"plot\":{\"id\":\"9e13e56c-7faa-4f1f-82c9-68f39f5e920f\",\"subtype\":\"Figure\",\"type\":\"Plot\"},\"ticker\":{\"id\":\"fc0d1575-cf48-4d6a-a7bb-113f7e9f2826\",\"type\":\"BasicTicker\"},\"visible\":null},\"id\":\"b9026366-96bb-4a2c-995a-513c3529fb24\",\"type\":\"LinearAxis\"},{\"attributes\":{\"plot\":{\"id\":\"9e13e56c-7faa-4f1f-82c9-68f39f5e920f\",\"subtype\":\"Figure\",\"type\":\"Plot\"}},\"id\":\"6393d02b-6265-478d-a043-6cf4b4351046\",\"type\":\"WheelZoomTool\"},{\"attributes\":{\"data_source\":{\"id\":\"4de3d4e9-4834-45f1-8083-9c973658e470\",\"type\":\"ColumnDataSource\"},\"glyph\":{\"id\":\"1104ebab-068e-4f89-a5f9-a256fbce8dec\",\"type\":\"Quad\"},\"hover_glyph\":null,\"nonselection_glyph\":{\"id\":\"60708e4a-ac3f-4337-bd08-ba37b7ed4dde\",\"type\":\"Quad\"},\"selection_glyph\":null},\"id\":\"45a70a5e-0c33-433d-8f5a-db56a326ff2a\",\"type\":\"GlyphRenderer\"},{\"attributes\":{\"plot\":{\"id\":\"9e13e56c-7faa-4f1f-82c9-68f39f5e920f\",\"subtype\":\"Figure\",\"type\":\"Plot\"}},\"id\":\"787164d9-3467-42be-b4c7-25f959aa1539\",\"type\":\"HelpTool\"},{\"attributes\":{\"line_alpha\":{\"value\":0.1},\"line_color\":{\"value\":\"#1f77b4\"},\"xs\":{\"field\":\"xs\"},\"ys\":{\"field\":\"ys\"}},\"id\":\"d62f91e6-17c1-4d39-9071-8177c7a9c7de\",\"type\":\"MultiLine\"},{\"attributes\":{\"callback\":null,\"column_names\":[\"y\",\"x\",\"vals\"],\"data\":{\"vals\":[\"6_1503\",\"4_1699\",\"26_1414\",\"10_2206\",\"39_1014\"],\"x\":[135771974,135915358,136398174,136501840,136556805],\"y\":[100.0,201.0,99.0,203.0,96.0]}},\"id\":\"9e338395-cdc6-4078-abd8-38b78a605246\",\"type\":\"ColumnDataSource\"},{\"attributes\":{\"callback\":null,\"column_names\":[\"xs\",\"ys\",\"line_color\"],\"data\":{\"line_color\":[\"black\",\"black\",\"black\",\"black\",\"black\",\"black\",\"black\",\"black\",\"black\",\"black\",\"black\",\"black\",\"black\",\"black\",\"black\",\"black\",\"black\",\"black\",\"black\",\"black\",\"black\",\"black\",\"black\",\"black\",\"black\",\"black\",\"black\",\"black\",\"black\",\"black\",\"black\",\"black\",\"black\",\"black\",\"black\",\"black\",\"black\",\"black\",\"black\",\"black\",\"black\",\"black\",\"black\",\"black\",\"black\",\"black\",\"black\",\"black\",\"black\",\"black\",\"black\",\"black\",\"black\",\"black\",\"black\",\"black\",\"black\",\"black\",\"black\",\"black\",\"black\",\"black\",\"black\",\"black\",\"black\",\"black\",\"black\",\"black\",\"black\",\"black\",\"black\",\"black\",\"black\",\"black\",\"black\",\"black\",\"black\",\"black\",\"black\",\"black\",\"black\",\"black\",\"black\",\"black\",\"black\"],\"xs\":[[135771974,135771974],[135859371,135859371],[135877562,135877562],[136022798,136022798],[136058820,136058820],[136140304,136140304],[135915358,135915358],[135954405,135954405],[135995073,135995073],[135995079,135995079],[136398174,136398174],[136402117,136402117],[136403749,136403749],[136409073,136409073],[136410299,136410299],[136413359,136413359],[136416855,136416855],[136416941,136416941],[136418348,136418348],[136419961,136419961],[136420690,136420690],[136422171,136422171],[136428460,136428460],[136430866,136430866],[136432103,136432103],[136437507,136437507],[136439090,136439090],[136439517,136439517],[136444123,136444123],[136445526,136445526],[136445869,136445869],[136455600,136455600],[136456642,136456642],[136462441,136462441],[136470714,136470714],[136474098,136474098],[136501840,136501840],[136505546,136505546],[136516748,136516748],[136522710,136522710],[136528004,136528004],[136539513,136539513],[136544752,136544752],[136546110,136546110],[136553529,136553529],[136555659,136555659],[136556805,136556805],[136560003,136560003],[136562472,136562472],[136563248,136563248],[136565328,136565328],[136570613,136570613],[136571982,136571982],[136574305,136574305],[136578040,136578040],[136578194,136578194],[136580398,136580398],[136586828,136586828],[136590558,136590558],[136592309,136592309],[136593541,136593541],[136593694,136593694],[136595426,136595426],[136615222,136615222],[136624919,136624919],[136626004,136626004],[136628380,136628380],[136636909,136636909],[136637350,136637350],[136637622,136637622],[136639487,136639487],[136646900,136646900],[136652093,136652093],[136652859,136652859],[136655620,136655620],[136667896,136667896],[136671801,136671801],[136677192,136677192],[136683293,136683293],[136704414,136704414],[136720344,136720344],[136731066,136731066],[136733897,136733897],[136743490,136743490],[136747085,136747085]],\"ys\":[[50,95],[50,95],[50,95],[50,95],[50,95],[50,95],[150,196],[150,196],[150,196],[150,196],[50,94],[50,94],[50,94],[50,94],[50,94],[50,94],[50,94],[50,94],[50,94],[50,94],[50,94],[50,94],[50,94],[50,94],[50,94],[50,94],[50,94],[50,94],[50,94],[50,94],[50,94],[50,94],[50,94],[50,94],[50,94],[50,94],[150,198],[150,198],[150,198],[150,198],[150,198],[150,198],[150,198],[150,198],[150,198],[150,198],[50,91],[50,91],[50,91],[50,91],[50,91],[50,91],[50,91],[50,91],[50,91],[50,91],[50,91],[50,91],[50,91],[50,91],[50,91],[50,91],[50,91],[50,91],[50,91],[50,91],[50,91],[50,91],[50,91],[50,91],[50,91],[50,91],[50,91],[50,91],[50,91],[50,91],[50,91],[50,91],[50,91],[50,91],[50,91],[50,91],[50,91],[50,91],[50,91]]}},\"id\":\"bdc4ec02-a6a5-4978-9644-b02260e5d056\",\"type\":\"ColumnDataSource\"},{\"attributes\":{\"bottom\":{\"field\":\"bottom\"},\"fill_alpha\":{\"value\":0.1},\"fill_color\":{\"value\":\"#1f77b4\"},\"left\":{\"field\":\"left\"},\"line_alpha\":{\"value\":0.1},\"line_color\":{\"value\":\"#1f77b4\"},\"right\":{\"field\":\"right\"},\"top\":{\"field\":\"top\"}},\"id\":\"60708e4a-ac3f-4337-bd08-ba37b7ed4dde\",\"type\":\"Quad\"},{\"attributes\":{},\"id\":\"34c5ab95-9a5d-4fc5-8482-90e9cca6d19e\",\"type\":\"BasicTickFormatter\"},{\"attributes\":{\"overlay\":{\"id\":\"c6c064bc-0795-4ab8-b30a-62d8ac03099c\",\"type\":\"BoxAnnotation\"},\"plot\":{\"id\":\"9e13e56c-7faa-4f1f-82c9-68f39f5e920f\",\"subtype\":\"Figure\",\"type\":\"Plot\"}},\"id\":\"6b4398dd-d36c-40da-8aa1-22783dc0689a\",\"type\":\"BoxZoomTool\"},{\"attributes\":{\"plot\":{\"id\":\"9e13e56c-7faa-4f1f-82c9-68f39f5e920f\",\"subtype\":\"Figure\",\"type\":\"Plot\"},\"ticker\":{\"id\":\"714067d1-e425-4b7a-b267-d3025ce268ce\",\"type\":\"BasicTicker\"}},\"id\":\"40f027a1-6d59-467e-8cb5-ddb61f394d13\",\"type\":\"Grid\"},{\"attributes\":{\"bottom_units\":\"screen\",\"fill_alpha\":{\"value\":0.5},\"fill_color\":{\"value\":\"lightgrey\"},\"left_units\":\"screen\",\"level\":\"overlay\",\"line_alpha\":{\"value\":1.0},\"line_color\":{\"value\":\"black\"},\"line_dash\":[4,4],\"line_width\":{\"value\":2},\"plot\":null,\"render_mode\":\"css\",\"right_units\":\"screen\",\"top_units\":\"screen\"},\"id\":\"c6c064bc-0795-4ab8-b30a-62d8ac03099c\",\"type\":\"BoxAnnotation\"},{\"attributes\":{\"callback\":null,\"column_names\":[\"right\",\"bottom\",\"top\",\"left\"],\"data\":{\"bottom\":[245,245,245,245,245,245,245],\"left\":[135809835,135957574,136289083,136499189,136545415,136597196,136664254],\"right\":[135928279,136288182,136482839,136542633,136594750,136634047,136743222],\"top\":[275,275,275,275,275,275,275]}},\"id\":\"d394abea-f2b3-4a80-bc23-1db29dec197b\",\"type\":\"ColumnDataSource\"},{\"attributes\":{\"level\":\"glyph\",\"plot\":{\"id\":\"9e13e56c-7faa-4f1f-82c9-68f39f5e920f\",\"subtype\":\"Figure\",\"type\":\"Plot\"},\"source\":{\"id\":\"939c4f00-c536-44ea-b488-f5929c58c3fa\",\"type\":\"ColumnDataSource\"},\"text\":{\"field\":\"vals\"},\"text_align\":\"center\",\"text_baseline\":\"middle\",\"text_font_size\":{\"value\":\"8pt\"},\"x\":{\"field\":\"x\"},\"y\":{\"field\":\"y\"}},\"id\":\"ad7a388b-3c68-489f-b9d0-54f73875b871\",\"type\":\"LabelSet\"},{\"attributes\":{},\"id\":\"714067d1-e425-4b7a-b267-d3025ce268ce\",\"type\":\"BasicTicker\"},{\"attributes\":{\"formatter\":{\"id\":\"3b621424-f0f7-48c4-a771-0f5dcaf6b6aa\",\"type\":\"BasicTickFormatter\"},\"plot\":{\"id\":\"9e13e56c-7faa-4f1f-82c9-68f39f5e920f\",\"subtype\":\"Figure\",\"type\":\"Plot\"},\"ticker\":{\"id\":\"714067d1-e425-4b7a-b267-d3025ce268ce\",\"type\":\"BasicTicker\"}},\"id\":\"25564860-8562-4920-942a-40d2a559537c\",\"type\":\"LinearAxis\"},{\"attributes\":{\"plot\":{\"id\":\"9e13e56c-7faa-4f1f-82c9-68f39f5e920f\",\"subtype\":\"Figure\",\"type\":\"Plot\"}},\"id\":\"4bb46fe7-3bee-4a50-9ad1-3fb9ba965b99\",\"type\":\"SaveTool\"},{\"attributes\":{},\"id\":\"fc0d1575-cf48-4d6a-a7bb-113f7e9f2826\",\"type\":\"BasicTicker\"},{\"attributes\":{\"level\":\"glyph\",\"plot\":{\"id\":\"9e13e56c-7faa-4f1f-82c9-68f39f5e920f\",\"subtype\":\"Figure\",\"type\":\"Plot\"},\"source\":{\"id\":\"9e338395-cdc6-4078-abd8-38b78a605246\",\"type\":\"ColumnDataSource\"},\"text\":{\"field\":\"vals\"},\"text_font_size\":{\"value\":\"9pt\"},\"text_font_style\":\"bold\",\"x\":{\"field\":\"x\"},\"y\":{\"field\":\"y\"}},\"id\":\"a65782fc-6912-4ec9-9463-1e8cb44738d1\",\"type\":\"LabelSet\"}],\"root_ids\":[\"9e13e56c-7faa-4f1f-82c9-68f39f5e920f\"]},\"title\":\"Bokeh Application\",\"version\":\"0.12.0\"}};\n",
       "            var render_items = [{\"docid\":\"20ddacc7-71a0-4957-ba3d-814b4e4fa396\",\"elementid\":\"cf9aad71-9ec6-4e40-bf5a-0d9c8352984c\",\"modelid\":\"9e13e56c-7faa-4f1f-82c9-68f39f5e920f\",\"notebook_comms_target\":\"ab751d86-1d00-4288-96bc-42e9a8e9b5e3\"}];\n",
       "            \n",
       "            Bokeh.embed.embed_items(docs_json, render_items);\n",
       "        });\n",
       "      },\n",
       "      function(Bokeh) {\n",
       "      }\n",
       "    ];\n",
       "  \n",
       "    function run_inline_js() {\n",
       "      for (var i = 0; i < inline_js.length; i++) {\n",
       "        inline_js[i](window.Bokeh);\n",
       "      }\n",
       "    }\n",
       "  \n",
       "    if (window._bokeh_is_loading === 0) {\n",
       "      console.log(\"Bokeh: BokehJS loaded, going straight to plotting\");\n",
       "      run_inline_js();\n",
       "    } else {\n",
       "      load_libs(js_urls, function() {\n",
       "        console.log(\"Bokeh: BokehJS plotting callback run at\", now());\n",
       "        run_inline_js();\n",
       "      });\n",
       "    }\n",
       "  }(this));\n",
       "</script>"
      ]
     },
     "metadata": {},
     "output_type": "display_data"
    },
    {
     "data": {
      "text/html": [
       "<p><code>&lt;Bokeh Notebook handle for <strong>In[11]</strong>&gt;</code></p>"
      ],
      "text/plain": [
       "<bokeh.io._CommsHandle at 0x7ff6b470ffd0>"
      ]
     },
     "execution_count": 11,
     "metadata": {},
     "output_type": "execute_result"
    }
   ],
   "source": [
    "plt_obj = dm.superset_yes_no([dm.di_6_1503, dm.di_26_1414, dm.di_10_2206, dm.di_39_1014], \n",
    "                             [dm.di_64_1575,\n",
    "                              dm.di_4_911, dm.di_11_765, di_6_57, di_6_35, di_7_22, di_7_20],\n",
    "                             min_match=0.001)\n",
    "plt = plt_obj.do_plot()\n",
    "show(plt)"
   ]
  },
  {
   "cell_type": "code",
   "execution_count": 12,
   "metadata": {
    "collapsed": false,
    "editable": true
   },
   "outputs": [
    {
     "data": {
      "text/html": [
       "<table>\n",
       "<thead><tr><th style=\"text-align:center\">index</th><th style=\"text-align:center\">first</th><th style=\"text-align:center\">length</th><th style=\"text-align:center\">snps</th><th style=\"text-align:center\" colspan=2>alleles</th><th style=\"text-align:center\" colspan=2>matches</th><th style=\"text-align:center\" colspan=2>afr</th><th style=\"text-align:center\" colspan=2>afx</th><th style=\"text-align:center\" colspan=2>amr</th><th style=\"text-align:center\" colspan=2>eas</th><th style=\"text-align:center\" colspan=2>eur</th><th style=\"text-align:center\" colspan=2>sas</th><th style=\"text-align:center\" colspan=2>sax</th></tr></thead>\n",
       "<tr class=\"even\"><td style=\"text-align: right;\">353921</td><td style=\"text-align: right;\">136,501,840</td><td style=\"text-align: right;\">53,819</td><td style=\"text-align: right;\">10</td><td style=\"text-align: right;\">2206</td><td style=\"text-align: right;\">0.00</td><td style=\"text-align: right;\">9</td><td style=\"text-align: right;\">1.00</td><td style=\"text-align: right;\">0</td><td style=\"text-align: right;\">0.00</td><td style=\"text-align: right;\">0</td><td style=\"text-align: right;\">0.00</td><td style=\"text-align: right;\">0</td><td style=\"text-align: right;\">0.00</td><td style=\"text-align: right;\">7</td><td style=\"text-align: right;\">3.96</td><td style=\"text-align: right;\">1</td><td style=\"text-align: right;\">0.96</td><td style=\"text-align: right;\">1</td><td style=\"text-align: right;\">1.57</td><td style=\"text-align: right;\">0</td><td style=\"text-align: right;\">0.00</td></tr>\n",
       "<tr><td style=\"text-align: right;\">353462</td><td style=\"text-align: right;\">135,915,358</td><td style=\"text-align: right;\">79,721</td><td style=\"text-align: right;\">4</td><td style=\"text-align: right;\">1699</td><td style=\"text-align: right;\">0.01</td><td style=\"text-align: right;\">9</td><td style=\"text-align: right;\">1.00</td><td style=\"text-align: right;\">0</td><td style=\"text-align: right;\">0.00</td><td style=\"text-align: right;\">0</td><td style=\"text-align: right;\">0.00</td><td style=\"text-align: right;\">0</td><td style=\"text-align: right;\">0.00</td><td style=\"text-align: right;\">7</td><td style=\"text-align: right;\">3.96</td><td style=\"text-align: right;\">1</td><td style=\"text-align: right;\">0.96</td><td style=\"text-align: right;\">1</td><td style=\"text-align: right;\">1.57</td><td style=\"text-align: right;\">0</td><td style=\"text-align: right;\">0.00</td></tr>\n",
       "<tr class=\"even\"><td style=\"text-align: right;\">353283</td><td style=\"text-align: right;\">135,771,974</td><td style=\"text-align: right;\">368,330</td><td style=\"text-align: right;\">6</td><td style=\"text-align: right;\">1503</td><td style=\"text-align: right;\">0.01</td><td style=\"text-align: right;\">9</td><td style=\"text-align: right;\">1.00</td><td style=\"text-align: right;\">0</td><td style=\"text-align: right;\">0.00</td><td style=\"text-align: right;\">0</td><td style=\"text-align: right;\">0.00</td><td style=\"text-align: right;\">0</td><td style=\"text-align: right;\">0.00</td><td style=\"text-align: right;\">7</td><td style=\"text-align: right;\">3.96</td><td style=\"text-align: right;\">1</td><td style=\"text-align: right;\">0.96</td><td style=\"text-align: right;\">1</td><td style=\"text-align: right;\">1.57</td><td style=\"text-align: right;\">0</td><td style=\"text-align: right;\">0.00</td></tr>\n",
       "<tr><td style=\"text-align: right;\">353797</td><td style=\"text-align: right;\">136,398,174</td><td style=\"text-align: right;\">75,924</td><td style=\"text-align: right;\">26</td><td style=\"text-align: right;\">1414</td><td style=\"text-align: right;\">0.01</td><td style=\"text-align: right;\">9</td><td style=\"text-align: right;\">1.00</td><td style=\"text-align: right;\">0</td><td style=\"text-align: right;\">0.00</td><td style=\"text-align: right;\">0</td><td style=\"text-align: right;\">0.00</td><td style=\"text-align: right;\">0</td><td style=\"text-align: right;\">0.00</td><td style=\"text-align: right;\">7</td><td style=\"text-align: right;\">3.96</td><td style=\"text-align: right;\">1</td><td style=\"text-align: right;\">0.96</td><td style=\"text-align: right;\">1</td><td style=\"text-align: right;\">1.57</td><td style=\"text-align: right;\">0</td><td style=\"text-align: right;\">0.00</td></tr>\n",
       "<tr class=\"even\"><td style=\"text-align: right;\">353984</td><td style=\"text-align: right;\">136,556,805</td><td style=\"text-align: right;\">190,280</td><td style=\"text-align: right;\">39</td><td style=\"text-align: right;\">1014</td><td style=\"text-align: right;\">0.01</td><td style=\"text-align: right;\">9</td><td style=\"text-align: right;\">1.00</td><td style=\"text-align: right;\">0</td><td style=\"text-align: right;\">0.00</td><td style=\"text-align: right;\">0</td><td style=\"text-align: right;\">0.00</td><td style=\"text-align: right;\">0</td><td style=\"text-align: right;\">0.00</td><td style=\"text-align: right;\">7</td><td style=\"text-align: right;\">3.96</td><td style=\"text-align: right;\">1</td><td style=\"text-align: right;\">0.96</td><td style=\"text-align: right;\">1</td><td style=\"text-align: right;\">1.57</td><td style=\"text-align: right;\">0</td><td style=\"text-align: right;\">0.00</td></tr>\n",
       "</table>"
      ],
      "text/plain": [
       "<IPython.core.display.HTML object>"
      ]
     },
     "execution_count": 12,
     "metadata": {},
     "output_type": "execute_result"
    }
   ],
   "source": [
    "HTML(plt_obj.get_html())"
   ]
  },
  {
   "cell_type": "markdown",
   "metadata": {
    "collapsed": true
   },
   "source": [
    "<div style=\"width:700px\">\n",
    "<p>\n",
    "The plots below show a variety of low frequency associations that include 6_1503 and\n",
    "26_1414, the core signature of the EUR tree root.\n",
    "</div>"
   ]
  },
  {
   "cell_type": "code",
   "execution_count": 13,
   "metadata": {
    "collapsed": false,
    "editable": true
   },
   "outputs": [
    {
     "data": {
      "text/html": [
       "\n",
       "\n",
       "    <div class=\"bk-root\">\n",
       "        <div class=\"plotdiv\" id=\"001e2006-56e1-451d-9843-9f2551e0ac21\"></div>\n",
       "    </div>\n",
       "<script type=\"text/javascript\">\n",
       "  \n",
       "  (function(global) {\n",
       "    function now() {\n",
       "      return new Date();\n",
       "    }\n",
       "  \n",
       "    if (typeof (window._bokeh_onload_callbacks) === \"undefined\") {\n",
       "      window._bokeh_onload_callbacks = [];\n",
       "    }\n",
       "  \n",
       "    function run_callbacks() {\n",
       "      window._bokeh_onload_callbacks.forEach(function(callback) { callback() });\n",
       "      delete window._bokeh_onload_callbacks\n",
       "      console.info(\"Bokeh: all callbacks have finished\");\n",
       "    }\n",
       "  \n",
       "    function load_libs(js_urls, callback) {\n",
       "      window._bokeh_onload_callbacks.push(callback);\n",
       "      if (window._bokeh_is_loading > 0) {\n",
       "        console.log(\"Bokeh: BokehJS is being loaded, scheduling callback at\", now());\n",
       "        return null;\n",
       "      }\n",
       "      if (js_urls == null || js_urls.length === 0) {\n",
       "        run_callbacks();\n",
       "        return null;\n",
       "      }\n",
       "      console.log(\"Bokeh: BokehJS not loaded, scheduling load and callback at\", now());\n",
       "      window._bokeh_is_loading = js_urls.length;\n",
       "      for (var i = 0; i < js_urls.length; i++) {\n",
       "        var url = js_urls[i];\n",
       "        var s = document.createElement('script');\n",
       "        s.src = url;\n",
       "        s.async = false;\n",
       "        s.onreadystatechange = s.onload = function() {\n",
       "          window._bokeh_is_loading--;\n",
       "          if (window._bokeh_is_loading === 0) {\n",
       "            console.log(\"Bokeh: all BokehJS libraries loaded\");\n",
       "            run_callbacks()\n",
       "          }\n",
       "        };\n",
       "        s.onerror = function() {\n",
       "          console.warn(\"failed to load library \" + url);\n",
       "        };\n",
       "        console.log(\"Bokeh: injecting script tag for BokehJS library: \", url);\n",
       "        document.getElementsByTagName(\"head\")[0].appendChild(s);\n",
       "      }\n",
       "    };var element = document.getElementById(\"001e2006-56e1-451d-9843-9f2551e0ac21\");\n",
       "    if (element == null) {\n",
       "      console.log(\"Bokeh: ERROR: autoload.js configured with elementid '001e2006-56e1-451d-9843-9f2551e0ac21' but no matching script tag was found. \")\n",
       "      return false;\n",
       "    }\n",
       "  \n",
       "    var js_urls = [];\n",
       "  \n",
       "    var inline_js = [\n",
       "      function(Bokeh) {\n",
       "        Bokeh.$(function() {\n",
       "            var docs_json = {\"81417861-a1ab-4634-aa39-1f518a31fdcb\":{\"roots\":{\"references\":[{\"attributes\":{\"plot\":{\"id\":\"79659dff-ab4b-49e0-a95f-8d6ebf479b45\",\"subtype\":\"Figure\",\"type\":\"Plot\"},\"ticker\":{\"id\":\"f76c1246-5a0a-4fc0-a32f-323d6ef45ff3\",\"type\":\"BasicTicker\"}},\"id\":\"822bd72f-8c25-4fac-8a5b-260edbc79f1d\",\"type\":\"Grid\"},{\"attributes\":{\"bottom\":{\"field\":\"bottom\"},\"fill_color\":{\"field\":\"fill_color\"},\"left\":{\"field\":\"left\"},\"line_color\":{\"value\":null},\"right\":{\"field\":\"right\"},\"top\":{\"field\":\"top\"}},\"id\":\"3123eb8b-996f-4751-8fd3-8873c85a5145\",\"type\":\"Quad\"},{\"attributes\":{},\"id\":\"f76c1246-5a0a-4fc0-a32f-323d6ef45ff3\",\"type\":\"BasicTicker\"},{\"attributes\":{\"callback\":null,\"column_names\":[\"y\",\"x\",\"vals\"],\"data\":{\"vals\":[\"6_1503\",\"4_1699\",\"26_1414\",\"10_2206\",\"6_1114\",\"5_1296\",\"24_1504\"],\"x\":[135771974,135915358,136398174,136501840,136652491,136652953,136653925],\"y\":[200.0,301.0,199.0,303.0,97.0,199.0,300.0]}},\"id\":\"25b05ede-a2d3-435e-bb8a-a0b35b81e2f9\",\"type\":\"ColumnDataSource\"},{\"attributes\":{\"plot\":null,\"text\":null},\"id\":\"cf99f6c8-74f0-4496-b126-0a31abf15b02\",\"type\":\"Title\"},{\"attributes\":{\"plot\":{\"id\":\"79659dff-ab4b-49e0-a95f-8d6ebf479b45\",\"subtype\":\"Figure\",\"type\":\"Plot\"}},\"id\":\"cd172602-2092-4ee8-95ae-55343e2e2756\",\"type\":\"ResetTool\"},{\"attributes\":{\"formatter\":{\"id\":\"b6266bfe-6c3a-421d-8a79-9ffce52a4e1b\",\"type\":\"BasicTickFormatter\"},\"plot\":{\"id\":\"79659dff-ab4b-49e0-a95f-8d6ebf479b45\",\"subtype\":\"Figure\",\"type\":\"Plot\"},\"ticker\":{\"id\":\"2b85fe56-ac16-4a57-9803-facf6e6bedda\",\"type\":\"BasicTicker\"},\"visible\":null},\"id\":\"8cd47797-941d-454d-a087-bcf17cec47d9\",\"type\":\"LinearAxis\"},{\"attributes\":{\"callback\":null,\"column_names\":[\"right\",\"bottom\",\"top\",\"left\"],\"data\":{\"bottom\":[345,345,345,345,345,345,345],\"left\":[135809835,135957574,136289083,136499189,136545415,136597196,136664254],\"right\":[135928279,136288182,136482839,136542633,136594750,136634047,136743222],\"top\":[375,375,375,375,375,375,375]}},\"id\":\"5ea83acd-2666-44ba-af5d-35dc555703f2\",\"type\":\"ColumnDataSource\"},{\"attributes\":{\"active_drag\":\"auto\",\"active_scroll\":\"auto\",\"active_tap\":\"auto\",\"tools\":[{\"id\":\"019c5f68-399e-490d-b077-fb5d3289cb93\",\"type\":\"PanTool\"},{\"id\":\"6b63a8fe-7e8d-4729-9f33-ee03142eef13\",\"type\":\"WheelZoomTool\"},{\"id\":\"0bf47585-cade-43c8-88e9-79b59e975f69\",\"type\":\"BoxZoomTool\"},{\"id\":\"e765ff9c-8937-4282-9e83-99a2f6a53c90\",\"type\":\"SaveTool\"},{\"id\":\"cd172602-2092-4ee8-95ae-55343e2e2756\",\"type\":\"ResetTool\"},{\"id\":\"ec72b73e-63dc-4eab-a526-693958771605\",\"type\":\"HelpTool\"}]},\"id\":\"3e8a75d0-5b9c-48be-9e97-c640c964b585\",\"type\":\"Toolbar\"},{\"attributes\":{\"level\":\"glyph\",\"plot\":{\"id\":\"79659dff-ab4b-49e0-a95f-8d6ebf479b45\",\"subtype\":\"Figure\",\"type\":\"Plot\"},\"source\":{\"id\":\"25b05ede-a2d3-435e-bb8a-a0b35b81e2f9\",\"type\":\"ColumnDataSource\"},\"text\":{\"field\":\"vals\"},\"text_font_size\":{\"value\":\"9pt\"},\"text_font_style\":\"bold\",\"x\":{\"field\":\"x\"},\"y\":{\"field\":\"y\"}},\"id\":\"79a4e13f-4aa6-474f-be71-1bea0bf6788a\",\"type\":\"LabelSet\"},{\"attributes\":{\"callback\":null,\"column_names\":[\"xs\",\"ys\",\"line_color\"],\"data\":{\"line_color\":[\"black\",\"black\",\"black\",\"black\",\"black\",\"black\",\"black\",\"black\",\"black\",\"black\",\"black\",\"black\",\"black\",\"black\",\"black\",\"black\",\"black\",\"black\",\"black\",\"black\",\"black\",\"black\",\"black\",\"black\",\"black\",\"black\",\"black\",\"black\",\"black\",\"black\",\"black\",\"black\",\"black\",\"black\",\"black\",\"black\",\"black\",\"black\",\"black\",\"black\",\"black\",\"black\",\"black\",\"black\",\"black\",\"black\",\"black\",\"black\",\"black\",\"black\",\"black\",\"black\",\"black\",\"black\",\"black\",\"black\",\"black\",\"black\",\"black\",\"black\",\"black\",\"black\",\"black\",\"black\",\"black\",\"black\",\"black\",\"black\",\"black\",\"black\",\"black\",\"black\",\"black\",\"black\",\"black\",\"black\",\"black\",\"black\",\"black\",\"black\",\"black\"],\"xs\":[[135771974,135771974],[135859371,135859371],[135877562,135877562],[136022798,136022798],[136058820,136058820],[136140304,136140304],[135915358,135915358],[135954405,135954405],[135995073,135995073],[135995079,135995079],[136398174,136398174],[136402117,136402117],[136403749,136403749],[136409073,136409073],[136410299,136410299],[136413359,136413359],[136416855,136416855],[136416941,136416941],[136418348,136418348],[136419961,136419961],[136420690,136420690],[136422171,136422171],[136428460,136428460],[136430866,136430866],[136432103,136432103],[136437507,136437507],[136439090,136439090],[136439517,136439517],[136444123,136444123],[136445526,136445526],[136445869,136445869],[136455600,136455600],[136456642,136456642],[136462441,136462441],[136470714,136470714],[136474098,136474098],[136501840,136501840],[136505546,136505546],[136516748,136516748],[136522710,136522710],[136528004,136528004],[136539513,136539513],[136544752,136544752],[136546110,136546110],[136553529,136553529],[136555659,136555659],[136652491,136652491],[136652524,136652524],[136661150,136661150],[136669264,136669264],[136726567,136726567],[136732772,136732772],[136652953,136652953],[136655582,136655582],[136674028,136674028],[136684940,136684940],[136761175,136761175],[136653925,136653925],[136654833,136654833],[136656534,136656534],[136656536,136656536],[136657252,136657252],[136667301,136667301],[136667487,136667487],[136672775,136672775],[136680534,136680534],[136686393,136686393],[136688749,136688749],[136692553,136692553],[136697371,136697371],[136708787,136708787],[136710372,136710372],[136711064,136711064],[136715324,136715324],[136723504,136723504],[136737460,136737460],[136743143,136743143],[136746224,136746224],[136751842,136751842],[136759379,136759379],[136761853,136761853]],\"ys\":[[150,195],[150,195],[150,195],[150,195],[150,195],[150,195],[250,296],[250,296],[250,296],[250,296],[150,194],[150,194],[150,194],[150,194],[150,194],[150,194],[150,194],[150,194],[150,194],[150,194],[150,194],[150,194],[150,194],[150,194],[150,194],[150,194],[150,194],[150,194],[150,194],[150,194],[150,194],[150,194],[150,194],[150,194],[150,194],[150,194],[250,298],[250,298],[250,298],[250,298],[250,298],[250,298],[250,298],[250,298],[250,298],[250,298],[50,92],[50,92],[50,92],[50,92],[50,92],[50,92],[150,194],[150,194],[150,194],[150,194],[150,194],[250,295],[250,295],[250,295],[250,295],[250,295],[250,295],[250,295],[250,295],[250,295],[250,295],[250,295],[250,295],[250,295],[250,295],[250,295],[250,295],[250,295],[250,295],[250,295],[250,295],[250,295],[250,295],[250,295],[250,295]]}},\"id\":\"1c126d1e-0bcd-4fa8-8a70-409eef2e2864\",\"type\":\"ColumnDataSource\"},{\"attributes\":{\"callback\":null,\"column_names\":[\"right\",\"bottom\",\"top\",\"left\",\"fill_color\"],\"data\":{\"bottom\":[150,250,150,250,50,150,250],\"fill_color\":[\"#61c461\",\"#61c461\",\"#61c461\",\"#808080\",\"#808080\",\"#808080\",\"#808080\"],\"left\":[135771974,135915358,136398174,136501840,136652491,136652953,136653925],\"right\":[136140304,135995079,136474098,136555659,136732772,136761175,136761853],\"top\":[195,296,194,298,92,194,295]}},\"id\":\"3af010f9-7e4a-4619-a081-eff8673034a9\",\"type\":\"ColumnDataSource\"},{\"attributes\":{\"bottom\":{\"field\":\"bottom\"},\"fill_color\":{\"value\":\"white\"},\"left\":{\"field\":\"left\"},\"right\":{\"field\":\"right\"},\"top\":{\"field\":\"top\"}},\"id\":\"b82bc4bf-4000-4220-9f04-138981f9fb62\",\"type\":\"Quad\"},{\"attributes\":{\"data_source\":{\"id\":\"1c126d1e-0bcd-4fa8-8a70-409eef2e2864\",\"type\":\"ColumnDataSource\"},\"glyph\":{\"id\":\"a1e9fe11-8e51-41ef-a13b-907a2859cb91\",\"type\":\"MultiLine\"},\"hover_glyph\":null,\"nonselection_glyph\":{\"id\":\"55b9b8f5-5890-4ed4-aa27-a5014b20057c\",\"type\":\"MultiLine\"},\"selection_glyph\":null},\"id\":\"02d06582-875e-4ba2-96cd-2772ab456a79\",\"type\":\"GlyphRenderer\"},{\"attributes\":{},\"id\":\"07e2d519-50a9-4266-b6db-dc794605029b\",\"type\":\"BasicTickFormatter\"},{\"attributes\":{},\"id\":\"ed58b205-8fc2-403f-bd6c-17dca5de3abe\",\"type\":\"ToolEvents\"},{\"attributes\":{\"data_source\":{\"id\":\"5ea83acd-2666-44ba-af5d-35dc555703f2\",\"type\":\"ColumnDataSource\"},\"glyph\":{\"id\":\"b82bc4bf-4000-4220-9f04-138981f9fb62\",\"type\":\"Quad\"},\"hover_glyph\":null,\"nonselection_glyph\":{\"id\":\"901a9050-18da-4af9-9628-c6381e85d4f2\",\"type\":\"Quad\"},\"selection_glyph\":null},\"id\":\"c99a00cc-78d3-40bd-a172-457d50b30694\",\"type\":\"GlyphRenderer\"},{\"attributes\":{\"plot\":{\"id\":\"79659dff-ab4b-49e0-a95f-8d6ebf479b45\",\"subtype\":\"Figure\",\"type\":\"Plot\"}},\"id\":\"019c5f68-399e-490d-b077-fb5d3289cb93\",\"type\":\"PanTool\"},{\"attributes\":{\"level\":\"glyph\",\"plot\":{\"id\":\"79659dff-ab4b-49e0-a95f-8d6ebf479b45\",\"subtype\":\"Figure\",\"type\":\"Plot\"},\"source\":{\"id\":\"2a5c568b-bcf6-4884-a721-7e42b31dad26\",\"type\":\"ColumnDataSource\"},\"text\":{\"field\":\"vals\"},\"text_align\":\"center\",\"text_baseline\":\"middle\",\"text_font_size\":{\"value\":\"8pt\"},\"x\":{\"field\":\"x\"},\"y\":{\"field\":\"y\"}},\"id\":\"8d220ed2-e24d-4227-92e7-3230f6f23df5\",\"type\":\"LabelSet\"},{\"attributes\":{\"callback\":null,\"end\":136786630,\"start\":135757320},\"id\":\"d987fd3c-8ecf-48aa-9c6e-facf9d396612\",\"type\":\"Range1d\"},{\"attributes\":{\"line_color\":{\"field\":\"line_color\"},\"xs\":{\"field\":\"xs\"},\"ys\":{\"field\":\"ys\"}},\"id\":\"a1e9fe11-8e51-41ef-a13b-907a2859cb91\",\"type\":\"MultiLine\"},{\"attributes\":{\"line_alpha\":{\"value\":0.1},\"line_color\":{\"value\":\"#1f77b4\"},\"xs\":{\"field\":\"xs\"},\"ys\":{\"field\":\"ys\"}},\"id\":\"55b9b8f5-5890-4ed4-aa27-a5014b20057c\",\"type\":\"MultiLine\"},{\"attributes\":{\"bottom\":{\"field\":\"bottom\"},\"fill_alpha\":{\"value\":0.1},\"fill_color\":{\"value\":\"#1f77b4\"},\"left\":{\"field\":\"left\"},\"line_alpha\":{\"value\":0.1},\"line_color\":{\"value\":\"#1f77b4\"},\"right\":{\"field\":\"right\"},\"top\":{\"field\":\"top\"}},\"id\":\"901a9050-18da-4af9-9628-c6381e85d4f2\",\"type\":\"Quad\"},{\"attributes\":{\"below\":[{\"id\":\"02332e3e-508e-41b5-9bcb-464ae04721f4\",\"type\":\"LinearAxis\"}],\"left\":[{\"id\":\"8cd47797-941d-454d-a087-bcf17cec47d9\",\"type\":\"LinearAxis\"}],\"plot_height\":400,\"plot_width\":900,\"renderers\":[{\"id\":\"02332e3e-508e-41b5-9bcb-464ae04721f4\",\"type\":\"LinearAxis\"},{\"id\":\"822bd72f-8c25-4fac-8a5b-260edbc79f1d\",\"type\":\"Grid\"},{\"id\":\"8cd47797-941d-454d-a087-bcf17cec47d9\",\"type\":\"LinearAxis\"},{\"id\":\"d25d3929-926d-4916-8c54-c4a7ff3cdf58\",\"type\":\"Grid\"},{\"id\":\"54029dbc-3d84-4e2c-bf9a-86c905451f40\",\"type\":\"BoxAnnotation\"},{\"id\":\"6c6f3ab9-fb01-4183-9c72-40f1423a09c0\",\"type\":\"GlyphRenderer\"},{\"id\":\"02d06582-875e-4ba2-96cd-2772ab456a79\",\"type\":\"GlyphRenderer\"},{\"id\":\"79a4e13f-4aa6-474f-be71-1bea0bf6788a\",\"type\":\"LabelSet\"},{\"id\":\"c99a00cc-78d3-40bd-a172-457d50b30694\",\"type\":\"GlyphRenderer\"},{\"id\":\"8d220ed2-e24d-4227-92e7-3230f6f23df5\",\"type\":\"LabelSet\"}],\"title\":{\"id\":\"cf99f6c8-74f0-4496-b126-0a31abf15b02\",\"type\":\"Title\"},\"tool_events\":{\"id\":\"ed58b205-8fc2-403f-bd6c-17dca5de3abe\",\"type\":\"ToolEvents\"},\"toolbar\":{\"id\":\"3e8a75d0-5b9c-48be-9e97-c640c964b585\",\"type\":\"Toolbar\"},\"toolbar_location\":null,\"x_range\":{\"id\":\"d987fd3c-8ecf-48aa-9c6e-facf9d396612\",\"type\":\"Range1d\"},\"y_range\":{\"id\":\"9afd21bf-9eba-4660-88e5-3bad7e38f0a0\",\"type\":\"Range1d\"}},\"id\":\"79659dff-ab4b-49e0-a95f-8d6ebf479b45\",\"subtype\":\"Figure\",\"type\":\"Plot\"},{\"attributes\":{\"bottom\":{\"field\":\"bottom\"},\"fill_alpha\":{\"value\":0.1},\"fill_color\":{\"value\":\"#1f77b4\"},\"left\":{\"field\":\"left\"},\"line_alpha\":{\"value\":0.1},\"line_color\":{\"value\":\"#1f77b4\"},\"right\":{\"field\":\"right\"},\"top\":{\"field\":\"top\"}},\"id\":\"2c86dcdf-5f03-42fa-9dba-d1bd46b80c11\",\"type\":\"Quad\"},{\"attributes\":{\"plot\":{\"id\":\"79659dff-ab4b-49e0-a95f-8d6ebf479b45\",\"subtype\":\"Figure\",\"type\":\"Plot\"}},\"id\":\"ec72b73e-63dc-4eab-a526-693958771605\",\"type\":\"HelpTool\"},{\"attributes\":{},\"id\":\"2b85fe56-ac16-4a57-9803-facf6e6bedda\",\"type\":\"BasicTicker\"},{\"attributes\":{\"dimension\":1,\"plot\":{\"id\":\"79659dff-ab4b-49e0-a95f-8d6ebf479b45\",\"subtype\":\"Figure\",\"type\":\"Plot\"},\"ticker\":{\"id\":\"2b85fe56-ac16-4a57-9803-facf6e6bedda\",\"type\":\"BasicTicker\"}},\"id\":\"d25d3929-926d-4916-8c54-c4a7ff3cdf58\",\"type\":\"Grid\"},{\"attributes\":{},\"id\":\"b6266bfe-6c3a-421d-8a79-9ffce52a4e1b\",\"type\":\"BasicTickFormatter\"},{\"attributes\":{\"data_source\":{\"id\":\"3af010f9-7e4a-4619-a081-eff8673034a9\",\"type\":\"ColumnDataSource\"},\"glyph\":{\"id\":\"3123eb8b-996f-4751-8fd3-8873c85a5145\",\"type\":\"Quad\"},\"hover_glyph\":null,\"nonselection_glyph\":{\"id\":\"2c86dcdf-5f03-42fa-9dba-d1bd46b80c11\",\"type\":\"Quad\"},\"selection_glyph\":null},\"id\":\"6c6f3ab9-fb01-4183-9c72-40f1423a09c0\",\"type\":\"GlyphRenderer\"},{\"attributes\":{\"plot\":{\"id\":\"79659dff-ab4b-49e0-a95f-8d6ebf479b45\",\"subtype\":\"Figure\",\"type\":\"Plot\"}},\"id\":\"e765ff9c-8937-4282-9e83-99a2f6a53c90\",\"type\":\"SaveTool\"},{\"attributes\":{\"bottom_units\":\"screen\",\"fill_alpha\":{\"value\":0.5},\"fill_color\":{\"value\":\"lightgrey\"},\"left_units\":\"screen\",\"level\":\"overlay\",\"line_alpha\":{\"value\":1.0},\"line_color\":{\"value\":\"black\"},\"line_dash\":[4,4],\"line_width\":{\"value\":2},\"plot\":null,\"render_mode\":\"css\",\"right_units\":\"screen\",\"top_units\":\"screen\"},\"id\":\"54029dbc-3d84-4e2c-bf9a-86c905451f40\",\"type\":\"BoxAnnotation\"},{\"attributes\":{\"callback\":null,\"end\":400},\"id\":\"9afd21bf-9eba-4660-88e5-3bad7e38f0a0\",\"type\":\"Range1d\"},{\"attributes\":{\"overlay\":{\"id\":\"54029dbc-3d84-4e2c-bf9a-86c905451f40\",\"type\":\"BoxAnnotation\"},\"plot\":{\"id\":\"79659dff-ab4b-49e0-a95f-8d6ebf479b45\",\"subtype\":\"Figure\",\"type\":\"Plot\"}},\"id\":\"0bf47585-cade-43c8-88e9-79b59e975f69\",\"type\":\"BoxZoomTool\"},{\"attributes\":{\"plot\":{\"id\":\"79659dff-ab4b-49e0-a95f-8d6ebf479b45\",\"subtype\":\"Figure\",\"type\":\"Plot\"}},\"id\":\"6b63a8fe-7e8d-4729-9f33-ee03142eef13\",\"type\":\"WheelZoomTool\"},{\"attributes\":{\"callback\":null,\"column_names\":[\"y\",\"x\",\"vals\"],\"data\":{\"vals\":[\"RAB3GAP1\",\"ZRANB3\",\"R3HDM1\",\"UBXN4\",\"LCT\",\"MCM6\",\"DARS\"],\"x\":[135869057.0,136122878.0,136385961.0,136520911.0,136570082.5,136615621.5,136703738.0],\"y\":[360.0,360.0,360.0,360.0,360.0,360.0,360.0]}},\"id\":\"2a5c568b-bcf6-4884-a721-7e42b31dad26\",\"type\":\"ColumnDataSource\"},{\"attributes\":{\"formatter\":{\"id\":\"07e2d519-50a9-4266-b6db-dc794605029b\",\"type\":\"BasicTickFormatter\"},\"plot\":{\"id\":\"79659dff-ab4b-49e0-a95f-8d6ebf479b45\",\"subtype\":\"Figure\",\"type\":\"Plot\"},\"ticker\":{\"id\":\"f76c1246-5a0a-4fc0-a32f-323d6ef45ff3\",\"type\":\"BasicTicker\"}},\"id\":\"02332e3e-508e-41b5-9bcb-464ae04721f4\",\"type\":\"LinearAxis\"}],\"root_ids\":[\"79659dff-ab4b-49e0-a95f-8d6ebf479b45\"]},\"title\":\"Bokeh Application\",\"version\":\"0.12.0\"}};\n",
       "            var render_items = [{\"docid\":\"81417861-a1ab-4634-aa39-1f518a31fdcb\",\"elementid\":\"001e2006-56e1-451d-9843-9f2551e0ac21\",\"modelid\":\"79659dff-ab4b-49e0-a95f-8d6ebf479b45\",\"notebook_comms_target\":\"242ad7bf-aa79-44b0-9b18-9d41782ddfed\"}];\n",
       "            \n",
       "            Bokeh.embed.embed_items(docs_json, render_items);\n",
       "        });\n",
       "      },\n",
       "      function(Bokeh) {\n",
       "      }\n",
       "    ];\n",
       "  \n",
       "    function run_inline_js() {\n",
       "      for (var i = 0; i < inline_js.length; i++) {\n",
       "        inline_js[i](window.Bokeh);\n",
       "      }\n",
       "    }\n",
       "  \n",
       "    if (window._bokeh_is_loading === 0) {\n",
       "      console.log(\"Bokeh: BokehJS loaded, going straight to plotting\");\n",
       "      run_inline_js();\n",
       "    } else {\n",
       "      load_libs(js_urls, function() {\n",
       "        console.log(\"Bokeh: BokehJS plotting callback run at\", now());\n",
       "        run_inline_js();\n",
       "      });\n",
       "    }\n",
       "  }(this));\n",
       "</script>"
      ]
     },
     "metadata": {},
     "output_type": "display_data"
    },
    {
     "data": {
      "text/html": [
       "<p><code>&lt;Bokeh Notebook handle for <strong>In[13]</strong>&gt;</code></p>"
      ],
      "text/plain": [
       "<bokeh.io._CommsHandle at 0x7ff6b46b64d0>"
      ]
     },
     "execution_count": 13,
     "metadata": {},
     "output_type": "execute_result"
    }
   ],
   "source": [
    "plt_obj = dm.superset_yes_no([dm.di_6_1503, dm.di_26_1414, dm.di_10_2206, dm.di_24_1504], \n",
    "                             [dm.di_7_1760, dm.di_39_1014, dm.di_64_1575,\n",
    "                              dm.di_4_911, dm.di_11_765, di_6_57, di_6_35, di_7_22, di_7_20],\n",
    "                             min_match=0.001)\n",
    "plt = plt_obj.do_plot()\n",
    "show(plt)"
   ]
  },
  {
   "cell_type": "code",
   "execution_count": 14,
   "metadata": {
    "collapsed": false,
    "editable": true
   },
   "outputs": [
    {
     "data": {
      "text/html": [
       "<table>\n",
       "<thead><tr><th style=\"text-align:center\">index</th><th style=\"text-align:center\">first</th><th style=\"text-align:center\">length</th><th style=\"text-align:center\">snps</th><th style=\"text-align:center\" colspan=2>alleles</th><th style=\"text-align:center\" colspan=2>matches</th><th style=\"text-align:center\" colspan=2>afr</th><th style=\"text-align:center\" colspan=2>afx</th><th style=\"text-align:center\" colspan=2>amr</th><th style=\"text-align:center\" colspan=2>eas</th><th style=\"text-align:center\" colspan=2>eur</th><th style=\"text-align:center\" colspan=2>sas</th><th style=\"text-align:center\" colspan=2>sax</th></tr></thead>\n",
       "<tr class=\"even\"><td style=\"text-align: right;\">353921</td><td style=\"text-align: right;\">136,501,840</td><td style=\"text-align: right;\">53,819</td><td style=\"text-align: right;\">10</td><td style=\"text-align: right;\">2206</td><td style=\"text-align: right;\">0.00</td><td style=\"text-align: right;\">6</td><td style=\"text-align: right;\">1.00</td><td style=\"text-align: right;\">0</td><td style=\"text-align: right;\">0.00</td><td style=\"text-align: right;\">0</td><td style=\"text-align: right;\">0.00</td><td style=\"text-align: right;\">0</td><td style=\"text-align: right;\">0.00</td><td style=\"text-align: right;\">1</td><td style=\"text-align: right;\">0.83</td><td style=\"text-align: right;\">1</td><td style=\"text-align: right;\">2.49</td><td style=\"text-align: right;\">2</td><td style=\"text-align: right;\">6.22</td><td style=\"text-align: right;\">2</td><td style=\"text-align: right;\">2.97</td></tr>\n",
       "<tr><td style=\"text-align: right;\">353462</td><td style=\"text-align: right;\">135,915,358</td><td style=\"text-align: right;\">79,721</td><td style=\"text-align: right;\">4</td><td style=\"text-align: right;\">1699</td><td style=\"text-align: right;\">0.00</td><td style=\"text-align: right;\">6</td><td style=\"text-align: right;\">1.00</td><td style=\"text-align: right;\">0</td><td style=\"text-align: right;\">0.00</td><td style=\"text-align: right;\">0</td><td style=\"text-align: right;\">0.00</td><td style=\"text-align: right;\">0</td><td style=\"text-align: right;\">0.00</td><td style=\"text-align: right;\">1</td><td style=\"text-align: right;\">0.83</td><td style=\"text-align: right;\">1</td><td style=\"text-align: right;\">2.49</td><td style=\"text-align: right;\">2</td><td style=\"text-align: right;\">6.22</td><td style=\"text-align: right;\">2</td><td style=\"text-align: right;\">2.97</td></tr>\n",
       "<tr class=\"even\"><td style=\"text-align: right;\">354130</td><td style=\"text-align: right;\">136,653,925</td><td style=\"text-align: right;\">107,928</td><td style=\"text-align: right;\">24</td><td style=\"text-align: right;\">1504</td><td style=\"text-align: right;\">0.00</td><td style=\"text-align: right;\">6</td><td style=\"text-align: right;\">1.00</td><td style=\"text-align: right;\">0</td><td style=\"text-align: right;\">0.00</td><td style=\"text-align: right;\">0</td><td style=\"text-align: right;\">0.00</td><td style=\"text-align: right;\">0</td><td style=\"text-align: right;\">0.00</td><td style=\"text-align: right;\">1</td><td style=\"text-align: right;\">0.83</td><td style=\"text-align: right;\">1</td><td style=\"text-align: right;\">2.49</td><td style=\"text-align: right;\">2</td><td style=\"text-align: right;\">6.22</td><td style=\"text-align: right;\">2</td><td style=\"text-align: right;\">2.97</td></tr>\n",
       "<tr><td style=\"text-align: right;\">353283</td><td style=\"text-align: right;\">135,771,974</td><td style=\"text-align: right;\">368,330</td><td style=\"text-align: right;\">6</td><td style=\"text-align: right;\">1503</td><td style=\"text-align: right;\">0.00</td><td style=\"text-align: right;\">6</td><td style=\"text-align: right;\">1.00</td><td style=\"text-align: right;\">0</td><td style=\"text-align: right;\">0.00</td><td style=\"text-align: right;\">0</td><td style=\"text-align: right;\">0.00</td><td style=\"text-align: right;\">0</td><td style=\"text-align: right;\">0.00</td><td style=\"text-align: right;\">1</td><td style=\"text-align: right;\">0.83</td><td style=\"text-align: right;\">1</td><td style=\"text-align: right;\">2.49</td><td style=\"text-align: right;\">2</td><td style=\"text-align: right;\">6.22</td><td style=\"text-align: right;\">2</td><td style=\"text-align: right;\">2.97</td></tr>\n",
       "<tr class=\"even\"><td style=\"text-align: right;\">353797</td><td style=\"text-align: right;\">136,398,174</td><td style=\"text-align: right;\">75,924</td><td style=\"text-align: right;\">26</td><td style=\"text-align: right;\">1414</td><td style=\"text-align: right;\">0.00</td><td style=\"text-align: right;\">6</td><td style=\"text-align: right;\">1.00</td><td style=\"text-align: right;\">0</td><td style=\"text-align: right;\">0.00</td><td style=\"text-align: right;\">0</td><td style=\"text-align: right;\">0.00</td><td style=\"text-align: right;\">0</td><td style=\"text-align: right;\">0.00</td><td style=\"text-align: right;\">1</td><td style=\"text-align: right;\">0.83</td><td style=\"text-align: right;\">1</td><td style=\"text-align: right;\">2.49</td><td style=\"text-align: right;\">2</td><td style=\"text-align: right;\">6.22</td><td style=\"text-align: right;\">2</td><td style=\"text-align: right;\">2.97</td></tr>\n",
       "<tr><td style=\"text-align: right;\">354129</td><td style=\"text-align: right;\">136,652,953</td><td style=\"text-align: right;\">108,222</td><td style=\"text-align: right;\">5</td><td style=\"text-align: right;\">1296</td><td style=\"text-align: right;\">0.00</td><td style=\"text-align: right;\">6</td><td style=\"text-align: right;\">1.00</td><td style=\"text-align: right;\">0</td><td style=\"text-align: right;\">0.00</td><td style=\"text-align: right;\">0</td><td style=\"text-align: right;\">0.00</td><td style=\"text-align: right;\">0</td><td style=\"text-align: right;\">0.00</td><td style=\"text-align: right;\">1</td><td style=\"text-align: right;\">0.83</td><td style=\"text-align: right;\">1</td><td style=\"text-align: right;\">2.49</td><td style=\"text-align: right;\">2</td><td style=\"text-align: right;\">6.22</td><td style=\"text-align: right;\">2</td><td style=\"text-align: right;\">2.97</td></tr>\n",
       "<tr class=\"even\"><td style=\"text-align: right;\">354127</td><td style=\"text-align: right;\">136,652,491</td><td style=\"text-align: right;\">80,281</td><td style=\"text-align: right;\">6</td><td style=\"text-align: right;\">1114</td><td style=\"text-align: right;\">0.01</td><td style=\"text-align: right;\">6</td><td style=\"text-align: right;\">1.00</td><td style=\"text-align: right;\">0</td><td style=\"text-align: right;\">0.00</td><td style=\"text-align: right;\">0</td><td style=\"text-align: right;\">0.00</td><td style=\"text-align: right;\">0</td><td style=\"text-align: right;\">0.00</td><td style=\"text-align: right;\">1</td><td style=\"text-align: right;\">0.83</td><td style=\"text-align: right;\">1</td><td style=\"text-align: right;\">2.49</td><td style=\"text-align: right;\">2</td><td style=\"text-align: right;\">6.22</td><td style=\"text-align: right;\">2</td><td style=\"text-align: right;\">2.97</td></tr>\n",
       "</table>"
      ],
      "text/plain": [
       "<IPython.core.display.HTML object>"
      ]
     },
     "execution_count": 14,
     "metadata": {},
     "output_type": "execute_result"
    }
   ],
   "source": [
    "HTML(plt_obj.get_html())"
   ]
  },
  {
   "cell_type": "code",
   "execution_count": 15,
   "metadata": {
    "collapsed": false,
    "editable": true
   },
   "outputs": [
    {
     "data": {
      "text/html": [
       "\n",
       "\n",
       "    <div class=\"bk-root\">\n",
       "        <div class=\"plotdiv\" id=\"59bec860-bf09-4905-825b-f49f59601ee3\"></div>\n",
       "    </div>\n",
       "<script type=\"text/javascript\">\n",
       "  \n",
       "  (function(global) {\n",
       "    function now() {\n",
       "      return new Date();\n",
       "    }\n",
       "  \n",
       "    if (typeof (window._bokeh_onload_callbacks) === \"undefined\") {\n",
       "      window._bokeh_onload_callbacks = [];\n",
       "    }\n",
       "  \n",
       "    function run_callbacks() {\n",
       "      window._bokeh_onload_callbacks.forEach(function(callback) { callback() });\n",
       "      delete window._bokeh_onload_callbacks\n",
       "      console.info(\"Bokeh: all callbacks have finished\");\n",
       "    }\n",
       "  \n",
       "    function load_libs(js_urls, callback) {\n",
       "      window._bokeh_onload_callbacks.push(callback);\n",
       "      if (window._bokeh_is_loading > 0) {\n",
       "        console.log(\"Bokeh: BokehJS is being loaded, scheduling callback at\", now());\n",
       "        return null;\n",
       "      }\n",
       "      if (js_urls == null || js_urls.length === 0) {\n",
       "        run_callbacks();\n",
       "        return null;\n",
       "      }\n",
       "      console.log(\"Bokeh: BokehJS not loaded, scheduling load and callback at\", now());\n",
       "      window._bokeh_is_loading = js_urls.length;\n",
       "      for (var i = 0; i < js_urls.length; i++) {\n",
       "        var url = js_urls[i];\n",
       "        var s = document.createElement('script');\n",
       "        s.src = url;\n",
       "        s.async = false;\n",
       "        s.onreadystatechange = s.onload = function() {\n",
       "          window._bokeh_is_loading--;\n",
       "          if (window._bokeh_is_loading === 0) {\n",
       "            console.log(\"Bokeh: all BokehJS libraries loaded\");\n",
       "            run_callbacks()\n",
       "          }\n",
       "        };\n",
       "        s.onerror = function() {\n",
       "          console.warn(\"failed to load library \" + url);\n",
       "        };\n",
       "        console.log(\"Bokeh: injecting script tag for BokehJS library: \", url);\n",
       "        document.getElementsByTagName(\"head\")[0].appendChild(s);\n",
       "      }\n",
       "    };var element = document.getElementById(\"59bec860-bf09-4905-825b-f49f59601ee3\");\n",
       "    if (element == null) {\n",
       "      console.log(\"Bokeh: ERROR: autoload.js configured with elementid '59bec860-bf09-4905-825b-f49f59601ee3' but no matching script tag was found. \")\n",
       "      return false;\n",
       "    }\n",
       "  \n",
       "    var js_urls = [];\n",
       "  \n",
       "    var inline_js = [\n",
       "      function(Bokeh) {\n",
       "        Bokeh.$(function() {\n",
       "            var docs_json = {\"370e2640-827b-41cc-bbdc-b472a5cfa8ce\":{\"roots\":{\"references\":[{\"attributes\":{\"plot\":{\"id\":\"a7cb23ae-ea8c-4f1e-84f4-b64de372aaeb\",\"subtype\":\"Figure\",\"type\":\"Plot\"}},\"id\":\"92ed9199-255b-4f1e-9967-6c484f9fc064\",\"type\":\"PanTool\"},{\"attributes\":{\"line_color\":{\"field\":\"line_color\"},\"xs\":{\"field\":\"xs\"},\"ys\":{\"field\":\"ys\"}},\"id\":\"cf379e68-5461-4250-97bd-79ea1d7803b7\",\"type\":\"MultiLine\"},{\"attributes\":{\"plot\":{\"id\":\"a7cb23ae-ea8c-4f1e-84f4-b64de372aaeb\",\"subtype\":\"Figure\",\"type\":\"Plot\"}},\"id\":\"d71232e2-fbc8-4c83-bd24-c70b6dbaa994\",\"type\":\"ResetTool\"},{\"attributes\":{\"callback\":null,\"column_names\":[\"y\",\"x\",\"vals\"],\"data\":{\"vals\":[\"RAB3GAP1\",\"ZRANB3\",\"R3HDM1\",\"UBXN4\",\"LCT\",\"MCM6\",\"DARS\"],\"x\":[135869057.0,136122878.0,136385961.0,136520911.0,136570082.5,136615621.5,136703738.0],\"y\":[560.0,560.0,560.0,560.0,560.0,560.0,560.0]}},\"id\":\"62033e55-e47c-4d2e-bc92-e33f35801700\",\"type\":\"ColumnDataSource\"},{\"attributes\":{\"bottom\":{\"field\":\"bottom\"},\"fill_color\":{\"field\":\"fill_color\"},\"left\":{\"field\":\"left\"},\"line_color\":{\"value\":null},\"right\":{\"field\":\"right\"},\"top\":{\"field\":\"top\"}},\"id\":\"e7b57508-0bea-4d01-962a-34424c43d07f\",\"type\":\"Quad\"},{\"attributes\":{\"bottom\":{\"field\":\"bottom\"},\"fill_alpha\":{\"value\":0.1},\"fill_color\":{\"value\":\"#1f77b4\"},\"left\":{\"field\":\"left\"},\"line_alpha\":{\"value\":0.1},\"line_color\":{\"value\":\"#1f77b4\"},\"right\":{\"field\":\"right\"},\"top\":{\"field\":\"top\"}},\"id\":\"5813fc0f-9017-4ef2-a710-9b8e29742bef\",\"type\":\"Quad\"},{\"attributes\":{\"bottom_units\":\"screen\",\"fill_alpha\":{\"value\":0.5},\"fill_color\":{\"value\":\"lightgrey\"},\"left_units\":\"screen\",\"level\":\"overlay\",\"line_alpha\":{\"value\":1.0},\"line_color\":{\"value\":\"black\"},\"line_dash\":[4,4],\"line_width\":{\"value\":2},\"plot\":null,\"render_mode\":\"css\",\"right_units\":\"screen\",\"top_units\":\"screen\"},\"id\":\"a7f5108c-90c3-440e-b1d8-79c4de309ebc\",\"type\":\"BoxAnnotation\"},{\"attributes\":{},\"id\":\"478de6ef-08f6-4b0e-81b1-ad6172ec9077\",\"type\":\"ToolEvents\"},{\"attributes\":{\"formatter\":{\"id\":\"24104b28-3da8-4a7c-8728-50a857c7d4a9\",\"type\":\"BasicTickFormatter\"},\"plot\":{\"id\":\"a7cb23ae-ea8c-4f1e-84f4-b64de372aaeb\",\"subtype\":\"Figure\",\"type\":\"Plot\"},\"ticker\":{\"id\":\"a222e1b2-169e-4ff8-9879-dddfc719c6c6\",\"type\":\"BasicTicker\"},\"visible\":null},\"id\":\"0ff0238d-70d1-408a-948c-02ca116bbaaf\",\"type\":\"LinearAxis\"},{\"attributes\":{\"plot\":null,\"text\":null},\"id\":\"05dd22fd-5428-4be9-a85f-85bdc506fd86\",\"type\":\"Title\"},{\"attributes\":{\"callback\":null,\"column_names\":[\"y\",\"x\",\"vals\"],\"data\":{\"vals\":[\"6_1503\",\"4_1699\",\"26_1414\",\"64_1575\",\"10_2206\",\"51_176\",\"5_1296\",\"24_1504\"],\"x\":[135771974,135915358,136398174,136494186,136501840,136651773,136652953,136653925],\"y\":[300.0,501.0,299.0,400.0,503.0,81.0,199.0,300.0]}},\"id\":\"bfe91bde-e770-4ac8-84a8-f1a814fab224\",\"type\":\"ColumnDataSource\"},{\"attributes\":{\"plot\":{\"id\":\"a7cb23ae-ea8c-4f1e-84f4-b64de372aaeb\",\"subtype\":\"Figure\",\"type\":\"Plot\"},\"ticker\":{\"id\":\"d448048e-42b8-4607-bf79-a1ae5a549f11\",\"type\":\"BasicTicker\"}},\"id\":\"fde6fc98-689d-414c-810d-473379f93a46\",\"type\":\"Grid\"},{\"attributes\":{\"callback\":null,\"column_names\":[\"right\",\"bottom\",\"top\",\"left\"],\"data\":{\"bottom\":[545,545,545,545,545,545,545],\"left\":[135809835,135957574,136289083,136499189,136545415,136597196,136664254],\"right\":[135928279,136288182,136482839,136542633,136594750,136634047,136743222],\"top\":[575,575,575,575,575,575,575]}},\"id\":\"d0e37364-8414-4542-8f07-5638996d2e7e\",\"type\":\"ColumnDataSource\"},{\"attributes\":{\"overlay\":{\"id\":\"a7f5108c-90c3-440e-b1d8-79c4de309ebc\",\"type\":\"BoxAnnotation\"},\"plot\":{\"id\":\"a7cb23ae-ea8c-4f1e-84f4-b64de372aaeb\",\"subtype\":\"Figure\",\"type\":\"Plot\"}},\"id\":\"6d8eddd2-7ca0-43a2-9c79-81a34798e9e9\",\"type\":\"BoxZoomTool\"},{\"attributes\":{},\"id\":\"24104b28-3da8-4a7c-8728-50a857c7d4a9\",\"type\":\"BasicTickFormatter\"},{\"attributes\":{\"bottom\":{\"field\":\"bottom\"},\"fill_color\":{\"value\":\"white\"},\"left\":{\"field\":\"left\"},\"right\":{\"field\":\"right\"},\"top\":{\"field\":\"top\"}},\"id\":\"5cda21dd-7695-4c06-be00-da84ad889fcc\",\"type\":\"Quad\"},{\"attributes\":{},\"id\":\"a3599063-6c4a-401a-ab19-1070406eb2ff\",\"type\":\"BasicTickFormatter\"},{\"attributes\":{\"callback\":null,\"end\":136786630,\"start\":135757320},\"id\":\"0ae1154a-8641-4f7b-b982-9fbe3dfb0c92\",\"type\":\"Range1d\"},{\"attributes\":{\"data_source\":{\"id\":\"717f129e-e2b6-4d29-a4ce-1764c742b9cd\",\"type\":\"ColumnDataSource\"},\"glyph\":{\"id\":\"cf379e68-5461-4250-97bd-79ea1d7803b7\",\"type\":\"MultiLine\"},\"hover_glyph\":null,\"nonselection_glyph\":{\"id\":\"d5a81289-43fe-434f-8b46-b38fd49be830\",\"type\":\"MultiLine\"},\"selection_glyph\":null},\"id\":\"fc80e088-64e4-4b89-9b58-60f2cf8fcf64\",\"type\":\"GlyphRenderer\"},{\"attributes\":{},\"id\":\"a222e1b2-169e-4ff8-9879-dddfc719c6c6\",\"type\":\"BasicTicker\"},{\"attributes\":{\"level\":\"glyph\",\"plot\":{\"id\":\"a7cb23ae-ea8c-4f1e-84f4-b64de372aaeb\",\"subtype\":\"Figure\",\"type\":\"Plot\"},\"source\":{\"id\":\"62033e55-e47c-4d2e-bc92-e33f35801700\",\"type\":\"ColumnDataSource\"},\"text\":{\"field\":\"vals\"},\"text_align\":\"center\",\"text_baseline\":\"middle\",\"text_font_size\":{\"value\":\"8pt\"},\"x\":{\"field\":\"x\"},\"y\":{\"field\":\"y\"}},\"id\":\"27e20324-79a2-4943-a0ee-dd6a088c9eee\",\"type\":\"LabelSet\"},{\"attributes\":{\"below\":[{\"id\":\"20e92eeb-efa7-4bea-a19d-114c9f03d202\",\"type\":\"LinearAxis\"}],\"left\":[{\"id\":\"0ff0238d-70d1-408a-948c-02ca116bbaaf\",\"type\":\"LinearAxis\"}],\"plot_width\":900,\"renderers\":[{\"id\":\"20e92eeb-efa7-4bea-a19d-114c9f03d202\",\"type\":\"LinearAxis\"},{\"id\":\"fde6fc98-689d-414c-810d-473379f93a46\",\"type\":\"Grid\"},{\"id\":\"0ff0238d-70d1-408a-948c-02ca116bbaaf\",\"type\":\"LinearAxis\"},{\"id\":\"c094fe19-50b4-405d-808b-7d1f559db541\",\"type\":\"Grid\"},{\"id\":\"a7f5108c-90c3-440e-b1d8-79c4de309ebc\",\"type\":\"BoxAnnotation\"},{\"id\":\"3ee0c9cf-9ad4-40d0-8fd4-2b3d667dcd81\",\"type\":\"GlyphRenderer\"},{\"id\":\"fc80e088-64e4-4b89-9b58-60f2cf8fcf64\",\"type\":\"GlyphRenderer\"},{\"id\":\"ccd76d94-0342-48dd-891c-c51066caa4fe\",\"type\":\"LabelSet\"},{\"id\":\"8f055deb-213b-4d03-8441-ca59f44214cd\",\"type\":\"GlyphRenderer\"},{\"id\":\"27e20324-79a2-4943-a0ee-dd6a088c9eee\",\"type\":\"LabelSet\"}],\"title\":{\"id\":\"05dd22fd-5428-4be9-a85f-85bdc506fd86\",\"type\":\"Title\"},\"tool_events\":{\"id\":\"478de6ef-08f6-4b0e-81b1-ad6172ec9077\",\"type\":\"ToolEvents\"},\"toolbar\":{\"id\":\"64479a28-0f1b-45a1-897f-267ccbe33ec5\",\"type\":\"Toolbar\"},\"toolbar_location\":null,\"x_range\":{\"id\":\"0ae1154a-8641-4f7b-b982-9fbe3dfb0c92\",\"type\":\"Range1d\"},\"y_range\":{\"id\":\"131bf883-6a39-4145-9268-5a9954af7155\",\"type\":\"Range1d\"}},\"id\":\"a7cb23ae-ea8c-4f1e-84f4-b64de372aaeb\",\"subtype\":\"Figure\",\"type\":\"Plot\"},{\"attributes\":{\"data_source\":{\"id\":\"d0e37364-8414-4542-8f07-5638996d2e7e\",\"type\":\"ColumnDataSource\"},\"glyph\":{\"id\":\"5cda21dd-7695-4c06-be00-da84ad889fcc\",\"type\":\"Quad\"},\"hover_glyph\":null,\"nonselection_glyph\":{\"id\":\"5481dd37-be62-4170-9e36-641fa16815b7\",\"type\":\"Quad\"},\"selection_glyph\":null},\"id\":\"8f055deb-213b-4d03-8441-ca59f44214cd\",\"type\":\"GlyphRenderer\"},{\"attributes\":{\"plot\":{\"id\":\"a7cb23ae-ea8c-4f1e-84f4-b64de372aaeb\",\"subtype\":\"Figure\",\"type\":\"Plot\"}},\"id\":\"563cbfaa-6d3a-4ded-90c7-0f9b5ed3ea1f\",\"type\":\"HelpTool\"},{\"attributes\":{\"plot\":{\"id\":\"a7cb23ae-ea8c-4f1e-84f4-b64de372aaeb\",\"subtype\":\"Figure\",\"type\":\"Plot\"}},\"id\":\"5d6199ec-8976-4ea0-b371-09e3e73bc8eb\",\"type\":\"SaveTool\"},{\"attributes\":{\"formatter\":{\"id\":\"a3599063-6c4a-401a-ab19-1070406eb2ff\",\"type\":\"BasicTickFormatter\"},\"plot\":{\"id\":\"a7cb23ae-ea8c-4f1e-84f4-b64de372aaeb\",\"subtype\":\"Figure\",\"type\":\"Plot\"},\"ticker\":{\"id\":\"d448048e-42b8-4607-bf79-a1ae5a549f11\",\"type\":\"BasicTicker\"}},\"id\":\"20e92eeb-efa7-4bea-a19d-114c9f03d202\",\"type\":\"LinearAxis\"},{\"attributes\":{\"level\":\"glyph\",\"plot\":{\"id\":\"a7cb23ae-ea8c-4f1e-84f4-b64de372aaeb\",\"subtype\":\"Figure\",\"type\":\"Plot\"},\"source\":{\"id\":\"bfe91bde-e770-4ac8-84a8-f1a814fab224\",\"type\":\"ColumnDataSource\"},\"text\":{\"field\":\"vals\"},\"text_font_size\":{\"value\":\"9pt\"},\"text_font_style\":\"bold\",\"x\":{\"field\":\"x\"},\"y\":{\"field\":\"y\"}},\"id\":\"ccd76d94-0342-48dd-891c-c51066caa4fe\",\"type\":\"LabelSet\"},{\"attributes\":{},\"id\":\"d448048e-42b8-4607-bf79-a1ae5a549f11\",\"type\":\"BasicTicker\"},{\"attributes\":{\"callback\":null,\"column_names\":[\"xs\",\"ys\",\"line_color\"],\"data\":{\"line_color\":[\"black\",\"black\",\"black\",\"black\",\"black\",\"black\",\"black\",\"black\",\"black\",\"black\",\"black\",\"black\",\"black\",\"black\",\"black\",\"black\",\"black\",\"black\",\"black\",\"black\",\"black\",\"black\",\"black\",\"black\",\"black\",\"black\",\"black\",\"black\",\"black\",\"black\",\"black\",\"black\",\"black\",\"black\",\"black\",\"black\",\"black\",\"black\",\"black\",\"black\",\"black\",\"black\",\"black\",\"black\",\"black\",\"black\",\"black\",\"black\",\"black\",\"black\",\"black\",\"black\",\"black\",\"black\",\"black\",\"black\",\"black\",\"black\",\"black\",\"black\",\"black\",\"black\",\"black\",\"black\",\"black\",\"black\",\"black\",\"black\",\"black\",\"black\",\"black\",\"black\",\"black\",\"black\",\"black\",\"black\",\"black\",\"black\",\"black\",\"black\",\"black\",\"black\",\"black\",\"black\",\"black\",\"black\",\"black\",\"black\",\"black\",\"black\",\"black\",\"black\",\"black\",\"black\",\"black\",\"black\",\"black\",\"black\",\"black\",\"black\",\"black\",\"black\",\"black\",\"black\",\"black\",\"black\",\"black\",\"black\",\"black\",\"black\",\"black\",\"black\",\"black\",\"black\",\"black\",\"black\",\"black\",\"black\",\"black\",\"black\",\"black\",\"black\",\"black\",\"black\",\"black\",\"black\",\"black\",\"black\",\"black\",\"black\",\"black\",\"black\",\"black\",\"black\",\"black\",\"black\",\"black\",\"black\",\"black\",\"black\",\"black\",\"black\",\"black\",\"black\",\"black\",\"black\",\"black\",\"black\",\"black\",\"black\",\"black\",\"black\",\"black\",\"black\",\"black\",\"black\",\"black\",\"black\",\"black\",\"black\",\"black\",\"black\",\"black\",\"black\",\"black\",\"black\",\"black\",\"black\",\"black\",\"black\",\"black\",\"black\",\"black\",\"black\",\"black\",\"black\",\"black\",\"black\",\"black\",\"black\",\"black\",\"black\",\"black\",\"black\",\"black\",\"black\",\"black\",\"black\",\"black\",\"black\"],\"xs\":[[135771974,135771974],[135859371,135859371],[135877562,135877562],[136022798,136022798],[136058820,136058820],[136140304,136140304],[135915358,135915358],[135954405,135954405],[135995073,135995073],[135995079,135995079],[136398174,136398174],[136402117,136402117],[136403749,136403749],[136409073,136409073],[136410299,136410299],[136413359,136413359],[136416855,136416855],[136416941,136416941],[136418348,136418348],[136419961,136419961],[136420690,136420690],[136422171,136422171],[136428460,136428460],[136430866,136430866],[136432103,136432103],[136437507,136437507],[136439090,136439090],[136439517,136439517],[136444123,136444123],[136445526,136445526],[136445869,136445869],[136455600,136455600],[136456642,136456642],[136462441,136462441],[136470714,136470714],[136474098,136474098],[136494186,136494186],[136495300,136495300],[136495619,136495619],[136499166,136499166],[136502792,136502792],[136503157,136503157],[136507039,136507039],[136511575,136511575],[136518103,136518103],[136521514,136521514],[136522675,136522675],[136522941,136522941],[136526981,136526981],[136535410,136535410],[136539122,136539122],[136544197,136544197],[136550109,136550109],[136551694,136551694],[136553188,136553188],[136553639,136553639],[136554800,136554800],[136557319,136557319],[136558157,136558157],[136569848,136569848],[136575199,136575199],[136576577,136576577],[136578536,136578536],[136580287,136580287],[136583192,136583192],[136586958,136586958],[136588478,136588478],[136589612,136589612],[136591178,136591178],[136591859,136591859],[136593760,136593760],[136594158,136594158],[136603276,136603276],[136603366,136603366],[136608231,136608231],[136609975,136609975],[136610598,136610598],[136611624,136611624],[136613780,136613780],[136614255,136614255],[136614813,136614813],[136617524,136617524],[136622216,136622216],[136625602,136625602],[136629911,136629911],[136630757,136630757],[136630989,136630989],[136631031,136631031],[136633771,136633771],[136636324,136636324],[136638216,136638216],[136640233,136640233],[136641882,136641882],[136643555,136643555],[136658345,136658345],[136670298,136670298],[136685228,136685228],[136696138,136696138],[136740900,136740900],[136765951,136765951],[136501840,136501840],[136505546,136505546],[136516748,136516748],[136522710,136522710],[136528004,136528004],[136539513,136539513],[136544752,136544752],[136546110,136546110],[136553529,136553529],[136555659,136555659],[136651773,136651773],[136653553,136653553],[136662561,136662561],[136666144,136666144],[136668014,136668014],[136668363,136668363],[136670923,136670923],[136671242,136671242],[136673605,136673605],[136674629,136674629],[136676187,136676187],[136677580,136677580],[136684994,136684994],[136691142,136691142],[136693702,136693702],[136693718,136693718],[136693984,136693984],[136694866,136694866],[136695772,136695772],[136698366,136698366],[136700927,136700927],[136702325,136702325],[136702713,136702713],[136706891,136706891],[136707277,136707277],[136710828,136710828],[136713108,136713108],[136713194,136713194],[136719313,136719313],[136724569,136724569],[136734276,136734276],[136735127,136735127],[136737090,136737090],[136738950,136738950],[136741828,136741828],[136743080,136743080],[136743310,136743310],[136746683,136746683],[136747967,136747967],[136748809,136748809],[136758353,136758353],[136758922,136758922],[136762147,136762147],[136762198,136762198],[136764012,136764012],[136764818,136764818],[136770019,136770019],[136772954,136772954],[136772959,136772959],[136772961,136772961],[136774627,136774627],[136652953,136652953],[136655582,136655582],[136674028,136674028],[136684940,136684940],[136761175,136761175],[136653925,136653925],[136654833,136654833],[136656534,136656534],[136656536,136656536],[136657252,136657252],[136667301,136667301],[136667487,136667487],[136672775,136672775],[136680534,136680534],[136686393,136686393],[136688749,136688749],[136692553,136692553],[136697371,136697371],[136708787,136708787],[136710372,136710372],[136711064,136711064],[136715324,136715324],[136723504,136723504],[136737460,136737460],[136743143,136743143],[136746224,136746224],[136751842,136751842],[136759379,136759379],[136761853,136761853]],\"ys\":[[250,295],[250,295],[250,295],[250,295],[250,295],[250,295],[450,496],[450,496],[450,496],[450,496],[250,294],[250,294],[250,294],[250,294],[250,294],[250,294],[250,294],[250,294],[250,294],[250,294],[250,294],[250,294],[250,294],[250,294],[250,294],[250,294],[250,294],[250,294],[250,294],[250,294],[250,294],[250,294],[250,294],[250,294],[250,294],[250,294],[350,395],[350,395],[350,395],[350,395],[350,395],[350,395],[350,395],[350,395],[350,395],[350,395],[350,395],[350,395],[350,395],[350,395],[350,395],[350,395],[350,395],[350,395],[350,395],[350,395],[350,395],[350,395],[350,395],[350,395],[350,395],[350,395],[350,395],[350,395],[350,395],[350,395],[350,395],[350,395],[350,395],[350,395],[350,395],[350,395],[350,395],[350,395],[350,395],[350,395],[350,395],[350,395],[350,395],[350,395],[350,395],[350,395],[350,395],[350,395],[350,395],[350,395],[350,395],[350,395],[350,395],[350,395],[350,395],[350,395],[350,395],[350,395],[350,395],[350,395],[350,395],[350,395],[350,395],[350,395],[450,498],[450,498],[450,498],[450,498],[450,498],[450,498],[450,498],[450,498],[450,498],[450,498],[50,76],[50,76],[50,76],[50,76],[50,76],[50,76],[50,76],[50,76],[50,76],[50,76],[50,76],[50,76],[50,76],[50,76],[50,76],[50,76],[50,76],[50,76],[50,76],[50,76],[50,76],[50,76],[50,76],[50,76],[50,76],[50,76],[50,76],[50,76],[50,76],[50,76],[50,76],[50,76],[50,76],[50,76],[50,76],[50,76],[50,76],[50,76],[50,76],[50,76],[50,76],[50,76],[50,76],[50,76],[50,76],[50,76],[50,76],[50,76],[50,76],[50,76],[50,76],[150,194],[150,194],[150,194],[150,194],[150,194],[250,295],[250,295],[250,295],[250,295],[250,295],[250,295],[250,295],[250,295],[250,295],[250,295],[250,295],[250,295],[250,295],[250,295],[250,295],[250,295],[250,295],[250,295],[250,295],[250,295],[250,295],[250,295],[250,295],[250,295]]}},\"id\":\"717f129e-e2b6-4d29-a4ce-1764c742b9cd\",\"type\":\"ColumnDataSource\"},{\"attributes\":{\"bottom\":{\"field\":\"bottom\"},\"fill_alpha\":{\"value\":0.1},\"fill_color\":{\"value\":\"#1f77b4\"},\"left\":{\"field\":\"left\"},\"line_alpha\":{\"value\":0.1},\"line_color\":{\"value\":\"#1f77b4\"},\"right\":{\"field\":\"right\"},\"top\":{\"field\":\"top\"}},\"id\":\"5481dd37-be62-4170-9e36-641fa16815b7\",\"type\":\"Quad\"},{\"attributes\":{\"dimension\":1,\"plot\":{\"id\":\"a7cb23ae-ea8c-4f1e-84f4-b64de372aaeb\",\"subtype\":\"Figure\",\"type\":\"Plot\"},\"ticker\":{\"id\":\"a222e1b2-169e-4ff8-9879-dddfc719c6c6\",\"type\":\"BasicTicker\"}},\"id\":\"c094fe19-50b4-405d-808b-7d1f559db541\",\"type\":\"Grid\"},{\"attributes\":{\"line_alpha\":{\"value\":0.1},\"line_color\":{\"value\":\"#1f77b4\"},\"xs\":{\"field\":\"xs\"},\"ys\":{\"field\":\"ys\"}},\"id\":\"d5a81289-43fe-434f-8b46-b38fd49be830\",\"type\":\"MultiLine\"},{\"attributes\":{\"active_drag\":\"auto\",\"active_scroll\":\"auto\",\"active_tap\":\"auto\",\"tools\":[{\"id\":\"92ed9199-255b-4f1e-9967-6c484f9fc064\",\"type\":\"PanTool\"},{\"id\":\"5066dd46-8069-44b2-ad12-bea16b57a247\",\"type\":\"WheelZoomTool\"},{\"id\":\"6d8eddd2-7ca0-43a2-9c79-81a34798e9e9\",\"type\":\"BoxZoomTool\"},{\"id\":\"5d6199ec-8976-4ea0-b371-09e3e73bc8eb\",\"type\":\"SaveTool\"},{\"id\":\"d71232e2-fbc8-4c83-bd24-c70b6dbaa994\",\"type\":\"ResetTool\"},{\"id\":\"563cbfaa-6d3a-4ded-90c7-0f9b5ed3ea1f\",\"type\":\"HelpTool\"}]},\"id\":\"64479a28-0f1b-45a1-897f-267ccbe33ec5\",\"type\":\"Toolbar\"},{\"attributes\":{\"plot\":{\"id\":\"a7cb23ae-ea8c-4f1e-84f4-b64de372aaeb\",\"subtype\":\"Figure\",\"type\":\"Plot\"}},\"id\":\"5066dd46-8069-44b2-ad12-bea16b57a247\",\"type\":\"WheelZoomTool\"},{\"attributes\":{\"data_source\":{\"id\":\"df569f56-ad75-454d-bdf5-8def101e8b0d\",\"type\":\"ColumnDataSource\"},\"glyph\":{\"id\":\"e7b57508-0bea-4d01-962a-34424c43d07f\",\"type\":\"Quad\"},\"hover_glyph\":null,\"nonselection_glyph\":{\"id\":\"5813fc0f-9017-4ef2-a710-9b8e29742bef\",\"type\":\"Quad\"},\"selection_glyph\":null},\"id\":\"3ee0c9cf-9ad4-40d0-8fd4-2b3d667dcd81\",\"type\":\"GlyphRenderer\"},{\"attributes\":{\"callback\":null,\"end\":600},\"id\":\"131bf883-6a39-4145-9268-5a9954af7155\",\"type\":\"Range1d\"},{\"attributes\":{\"callback\":null,\"column_names\":[\"right\",\"bottom\",\"top\",\"left\",\"fill_color\"],\"data\":{\"bottom\":[250,450,250,350,450,50,150,250],\"fill_color\":[\"#61c461\",\"#61c461\",\"#61c461\",\"#61c461\",\"#808080\",\"#ffff00\",\"#808080\",\"#808080\"],\"left\":[135771974,135915358,136398174,136494186,136501840,136651773,136652953,136653925],\"right\":[136140304,135995079,136474098,136765951,136555659,136774627,136761175,136761853],\"top\":[295,496,294,395,498,76,194,295]}},\"id\":\"df569f56-ad75-454d-bdf5-8def101e8b0d\",\"type\":\"ColumnDataSource\"}],\"root_ids\":[\"a7cb23ae-ea8c-4f1e-84f4-b64de372aaeb\"]},\"title\":\"Bokeh Application\",\"version\":\"0.12.0\"}};\n",
       "            var render_items = [{\"docid\":\"370e2640-827b-41cc-bbdc-b472a5cfa8ce\",\"elementid\":\"59bec860-bf09-4905-825b-f49f59601ee3\",\"modelid\":\"a7cb23ae-ea8c-4f1e-84f4-b64de372aaeb\",\"notebook_comms_target\":\"20fe3be3-7f28-4b71-aa1e-a387b6417d17\"}];\n",
       "            \n",
       "            Bokeh.embed.embed_items(docs_json, render_items);\n",
       "        });\n",
       "      },\n",
       "      function(Bokeh) {\n",
       "      }\n",
       "    ];\n",
       "  \n",
       "    function run_inline_js() {\n",
       "      for (var i = 0; i < inline_js.length; i++) {\n",
       "        inline_js[i](window.Bokeh);\n",
       "      }\n",
       "    }\n",
       "  \n",
       "    if (window._bokeh_is_loading === 0) {\n",
       "      console.log(\"Bokeh: BokehJS loaded, going straight to plotting\");\n",
       "      run_inline_js();\n",
       "    } else {\n",
       "      load_libs(js_urls, function() {\n",
       "        console.log(\"Bokeh: BokehJS plotting callback run at\", now());\n",
       "        run_inline_js();\n",
       "      });\n",
       "    }\n",
       "  }(this));\n",
       "</script>"
      ]
     },
     "metadata": {},
     "output_type": "display_data"
    },
    {
     "data": {
      "text/html": [
       "<p><code>&lt;Bokeh Notebook handle for <strong>In[15]</strong>&gt;</code></p>"
      ],
      "text/plain": [
       "<bokeh.io._CommsHandle at 0x7ff6b46b6e10>"
      ]
     },
     "execution_count": 15,
     "metadata": {},
     "output_type": "execute_result"
    }
   ],
   "source": [
    "plt_obj = dm.superset_yes_no([dm.di_6_1503, dm.di_26_1414, dm.di_10_2206, dm.di_64_1575, dm.di_24_1504,\n",
    "                              dm.di_51_176], \n",
    "                             [dm.di_7_1868,\n",
    "                              dm.di_4_911, dm.di_11_765, di_6_57, di_6_35, di_7_22, di_7_20],\n",
    "                             min_match=0.001)\n",
    "plt = plt_obj.do_plot()\n",
    "show(plt)"
   ]
  },
  {
   "cell_type": "code",
   "execution_count": 16,
   "metadata": {
    "collapsed": false,
    "editable": true
   },
   "outputs": [
    {
     "data": {
      "text/html": [
       "\n",
       "\n",
       "    <div class=\"bk-root\">\n",
       "        <div class=\"plotdiv\" id=\"d8b79993-a49f-4dc9-9fb2-1b279e28910b\"></div>\n",
       "    </div>\n",
       "<script type=\"text/javascript\">\n",
       "  \n",
       "  (function(global) {\n",
       "    function now() {\n",
       "      return new Date();\n",
       "    }\n",
       "  \n",
       "    if (typeof (window._bokeh_onload_callbacks) === \"undefined\") {\n",
       "      window._bokeh_onload_callbacks = [];\n",
       "    }\n",
       "  \n",
       "    function run_callbacks() {\n",
       "      window._bokeh_onload_callbacks.forEach(function(callback) { callback() });\n",
       "      delete window._bokeh_onload_callbacks\n",
       "      console.info(\"Bokeh: all callbacks have finished\");\n",
       "    }\n",
       "  \n",
       "    function load_libs(js_urls, callback) {\n",
       "      window._bokeh_onload_callbacks.push(callback);\n",
       "      if (window._bokeh_is_loading > 0) {\n",
       "        console.log(\"Bokeh: BokehJS is being loaded, scheduling callback at\", now());\n",
       "        return null;\n",
       "      }\n",
       "      if (js_urls == null || js_urls.length === 0) {\n",
       "        run_callbacks();\n",
       "        return null;\n",
       "      }\n",
       "      console.log(\"Bokeh: BokehJS not loaded, scheduling load and callback at\", now());\n",
       "      window._bokeh_is_loading = js_urls.length;\n",
       "      for (var i = 0; i < js_urls.length; i++) {\n",
       "        var url = js_urls[i];\n",
       "        var s = document.createElement('script');\n",
       "        s.src = url;\n",
       "        s.async = false;\n",
       "        s.onreadystatechange = s.onload = function() {\n",
       "          window._bokeh_is_loading--;\n",
       "          if (window._bokeh_is_loading === 0) {\n",
       "            console.log(\"Bokeh: all BokehJS libraries loaded\");\n",
       "            run_callbacks()\n",
       "          }\n",
       "        };\n",
       "        s.onerror = function() {\n",
       "          console.warn(\"failed to load library \" + url);\n",
       "        };\n",
       "        console.log(\"Bokeh: injecting script tag for BokehJS library: \", url);\n",
       "        document.getElementsByTagName(\"head\")[0].appendChild(s);\n",
       "      }\n",
       "    };var element = document.getElementById(\"d8b79993-a49f-4dc9-9fb2-1b279e28910b\");\n",
       "    if (element == null) {\n",
       "      console.log(\"Bokeh: ERROR: autoload.js configured with elementid 'd8b79993-a49f-4dc9-9fb2-1b279e28910b' but no matching script tag was found. \")\n",
       "      return false;\n",
       "    }\n",
       "  \n",
       "    var js_urls = [];\n",
       "  \n",
       "    var inline_js = [\n",
       "      function(Bokeh) {\n",
       "        Bokeh.$(function() {\n",
       "            var docs_json = {\"dd9a0533-0e78-4bec-9ead-e35fc70e952d\":{\"roots\":{\"references\":[{\"attributes\":{\"overlay\":{\"id\":\"39a3562b-b5d3-41c6-b789-0f480b2d0c73\",\"type\":\"BoxAnnotation\"},\"plot\":{\"id\":\"c2755411-e162-4417-abac-e20dac1c2b8f\",\"subtype\":\"Figure\",\"type\":\"Plot\"}},\"id\":\"3a9540c7-5bbc-44e7-9a31-351d96a04a72\",\"type\":\"BoxZoomTool\"},{\"attributes\":{\"bottom_units\":\"screen\",\"fill_alpha\":{\"value\":0.5},\"fill_color\":{\"value\":\"lightgrey\"},\"left_units\":\"screen\",\"level\":\"overlay\",\"line_alpha\":{\"value\":1.0},\"line_color\":{\"value\":\"black\"},\"line_dash\":[4,4],\"line_width\":{\"value\":2},\"plot\":null,\"render_mode\":\"css\",\"right_units\":\"screen\",\"top_units\":\"screen\"},\"id\":\"39a3562b-b5d3-41c6-b789-0f480b2d0c73\",\"type\":\"BoxAnnotation\"},{\"attributes\":{\"plot\":{\"id\":\"c2755411-e162-4417-abac-e20dac1c2b8f\",\"subtype\":\"Figure\",\"type\":\"Plot\"}},\"id\":\"69552746-7d0a-4dda-80fa-f7e15cee15bd\",\"type\":\"SaveTool\"},{\"attributes\":{\"active_drag\":\"auto\",\"active_scroll\":\"auto\",\"active_tap\":\"auto\",\"tools\":[{\"id\":\"69e1b104-2fb7-483f-9e3a-8b827de8f93e\",\"type\":\"PanTool\"},{\"id\":\"857d6929-d85a-430c-a175-f6b80977b96e\",\"type\":\"WheelZoomTool\"},{\"id\":\"3a9540c7-5bbc-44e7-9a31-351d96a04a72\",\"type\":\"BoxZoomTool\"},{\"id\":\"69552746-7d0a-4dda-80fa-f7e15cee15bd\",\"type\":\"SaveTool\"},{\"id\":\"30802973-50dc-4d8c-9e9d-69b158583aad\",\"type\":\"ResetTool\"},{\"id\":\"7eb4063f-83e2-4034-a864-d4d9e1cd663e\",\"type\":\"HelpTool\"}]},\"id\":\"16dd780c-f02b-48d8-b5d5-418f6fc36f5e\",\"type\":\"Toolbar\"},{\"attributes\":{\"formatter\":{\"id\":\"1339b43a-ad4a-40d6-a4f8-025a1a70a0a3\",\"type\":\"BasicTickFormatter\"},\"plot\":{\"id\":\"c2755411-e162-4417-abac-e20dac1c2b8f\",\"subtype\":\"Figure\",\"type\":\"Plot\"},\"ticker\":{\"id\":\"26a67cc3-c6d0-41d6-ac5d-7307b869fee8\",\"type\":\"BasicTicker\"},\"visible\":null},\"id\":\"2d2a9cf1-4dad-4582-812f-4bc7d3d3d689\",\"type\":\"LinearAxis\"},{\"attributes\":{\"callback\":null,\"column_names\":[\"right\",\"bottom\",\"top\",\"left\",\"fill_color\"],\"data\":{\"bottom\":[450,550,450,250,150,350,450,150,50],\"fill_color\":[\"#61c461\",\"#61c461\",\"#61c461\",\"#808080\",\"#61c4c4\",\"#808080\",\"#808080\",\"#808080\",\"#00ff00\"],\"left\":[135771974,135915358,136398174,136496493,136496805,136500475,136506375,136556805,136560126],\"right\":[136140304,135995079,136474098,136553925,136552629,136542560,136538939,136747085,136742080],\"top\":[495,596,494,293,191,393,494,191,66]}},\"id\":\"6b63f20b-d172-4b1c-951b-8234a9657030\",\"type\":\"ColumnDataSource\"},{\"attributes\":{\"data_source\":{\"id\":\"6b63f20b-d172-4b1c-951b-8234a9657030\",\"type\":\"ColumnDataSource\"},\"glyph\":{\"id\":\"35d5fe8f-9e93-454b-94be-a2e5e3c92a14\",\"type\":\"Quad\"},\"hover_glyph\":null,\"nonselection_glyph\":{\"id\":\"6d58096f-1568-4b18-ba07-65e8c4160a92\",\"type\":\"Quad\"},\"selection_glyph\":null},\"id\":\"7a87e987-ec64-4b01-b498-a5fc27333200\",\"type\":\"GlyphRenderer\"},{\"attributes\":{\"callback\":null,\"end\":700},\"id\":\"6ae98039-86a9-4a0f-b05c-00d7f8db169e\",\"type\":\"Range1d\"},{\"attributes\":{\"data_source\":{\"id\":\"fd8ea352-1b0d-49c1-bc81-e63f15a69a38\",\"type\":\"ColumnDataSource\"},\"glyph\":{\"id\":\"4543bbae-729c-458f-928c-6f9d3bd12c0f\",\"type\":\"MultiLine\"},\"hover_glyph\":null,\"nonselection_glyph\":{\"id\":\"8ad028a2-250b-4753-ae1b-cf9794404460\",\"type\":\"MultiLine\"},\"selection_glyph\":null},\"id\":\"b65a4214-6936-4d6f-ac70-03a247205cfb\",\"type\":\"GlyphRenderer\"},{\"attributes\":{\"level\":\"glyph\",\"plot\":{\"id\":\"c2755411-e162-4417-abac-e20dac1c2b8f\",\"subtype\":\"Figure\",\"type\":\"Plot\"},\"source\":{\"id\":\"cbf944fd-1ebd-400c-b5bf-14c593f69828\",\"type\":\"ColumnDataSource\"},\"text\":{\"field\":\"vals\"},\"text_font_size\":{\"value\":\"9pt\"},\"text_font_style\":\"bold\",\"x\":{\"field\":\"x\"},\"y\":{\"field\":\"y\"}},\"id\":\"d4a2d2c5-585e-4d08-8f41-b9c1b7c5edce\",\"type\":\"LabelSet\"},{\"attributes\":{\"bottom\":{\"field\":\"bottom\"},\"fill_color\":{\"field\":\"fill_color\"},\"left\":{\"field\":\"left\"},\"line_color\":{\"value\":null},\"right\":{\"field\":\"right\"},\"top\":{\"field\":\"top\"}},\"id\":\"35d5fe8f-9e93-454b-94be-a2e5e3c92a14\",\"type\":\"Quad\"},{\"attributes\":{\"dimension\":1,\"plot\":{\"id\":\"c2755411-e162-4417-abac-e20dac1c2b8f\",\"subtype\":\"Figure\",\"type\":\"Plot\"},\"ticker\":{\"id\":\"26a67cc3-c6d0-41d6-ac5d-7307b869fee8\",\"type\":\"BasicTicker\"}},\"id\":\"f7cc404b-55bf-4114-b747-67ac2976198d\",\"type\":\"Grid\"},{\"attributes\":{\"plot\":{\"id\":\"c2755411-e162-4417-abac-e20dac1c2b8f\",\"subtype\":\"Figure\",\"type\":\"Plot\"}},\"id\":\"857d6929-d85a-430c-a175-f6b80977b96e\",\"type\":\"WheelZoomTool\"},{\"attributes\":{\"data_source\":{\"id\":\"92dd3816-9ccc-4cce-9631-f91b709b3715\",\"type\":\"ColumnDataSource\"},\"glyph\":{\"id\":\"dbcb4db4-994d-4525-a88d-4bc2b02bcc74\",\"type\":\"Quad\"},\"hover_glyph\":null,\"nonselection_glyph\":{\"id\":\"9aba03e9-c812-46fb-9b8a-1f1b1dc9fdc0\",\"type\":\"Quad\"},\"selection_glyph\":null},\"id\":\"13878548-c3d4-4378-a720-59eb70cd4f72\",\"type\":\"GlyphRenderer\"},{\"attributes\":{},\"id\":\"26a67cc3-c6d0-41d6-ac5d-7307b869fee8\",\"type\":\"BasicTicker\"},{\"attributes\":{\"below\":[{\"id\":\"3732ad4b-f771-43d7-bdee-1ffd207de192\",\"type\":\"LinearAxis\"}],\"left\":[{\"id\":\"2d2a9cf1-4dad-4582-812f-4bc7d3d3d689\",\"type\":\"LinearAxis\"}],\"plot_height\":700,\"plot_width\":900,\"renderers\":[{\"id\":\"3732ad4b-f771-43d7-bdee-1ffd207de192\",\"type\":\"LinearAxis\"},{\"id\":\"63adbee3-5bea-40df-9e88-8330d2230b70\",\"type\":\"Grid\"},{\"id\":\"2d2a9cf1-4dad-4582-812f-4bc7d3d3d689\",\"type\":\"LinearAxis\"},{\"id\":\"f7cc404b-55bf-4114-b747-67ac2976198d\",\"type\":\"Grid\"},{\"id\":\"39a3562b-b5d3-41c6-b789-0f480b2d0c73\",\"type\":\"BoxAnnotation\"},{\"id\":\"7a87e987-ec64-4b01-b498-a5fc27333200\",\"type\":\"GlyphRenderer\"},{\"id\":\"b65a4214-6936-4d6f-ac70-03a247205cfb\",\"type\":\"GlyphRenderer\"},{\"id\":\"d4a2d2c5-585e-4d08-8f41-b9c1b7c5edce\",\"type\":\"LabelSet\"},{\"id\":\"13878548-c3d4-4378-a720-59eb70cd4f72\",\"type\":\"GlyphRenderer\"},{\"id\":\"4dac2ae3-4729-442d-bb26-47db837342c9\",\"type\":\"LabelSet\"}],\"title\":{\"id\":\"56844dd7-b719-4289-8a5f-1038689581f6\",\"type\":\"Title\"},\"tool_events\":{\"id\":\"31224a3d-2295-4ab8-93f0-edf11b2b4ceb\",\"type\":\"ToolEvents\"},\"toolbar\":{\"id\":\"16dd780c-f02b-48d8-b5d5-418f6fc36f5e\",\"type\":\"Toolbar\"},\"toolbar_location\":null,\"x_range\":{\"id\":\"24c82dcb-1015-4285-b0a9-863e9c530f85\",\"type\":\"Range1d\"},\"y_range\":{\"id\":\"6ae98039-86a9-4a0f-b05c-00d7f8db169e\",\"type\":\"Range1d\"}},\"id\":\"c2755411-e162-4417-abac-e20dac1c2b8f\",\"subtype\":\"Figure\",\"type\":\"Plot\"},{\"attributes\":{\"callback\":null,\"column_names\":[\"y\",\"x\",\"vals\"],\"data\":{\"vals\":[\"6_1503\",\"4_1699\",\"26_1414\",\"9_1170\",\"9_1023\",\"13_1227\",\"4_1442\",\"39_1014\",\"4_57\"],\"x\":[135771974,135915358,136398174,136496493,136496805,136500475,136506375,136556805,136560126],\"y\":[500.0,601.0,499.0,298.0,196.0,398.0,499.0,196.0,71.0]}},\"id\":\"cbf944fd-1ebd-400c-b5bf-14c593f69828\",\"type\":\"ColumnDataSource\"},{\"attributes\":{\"bottom\":{\"field\":\"bottom\"},\"fill_alpha\":{\"value\":0.1},\"fill_color\":{\"value\":\"#1f77b4\"},\"left\":{\"field\":\"left\"},\"line_alpha\":{\"value\":0.1},\"line_color\":{\"value\":\"#1f77b4\"},\"right\":{\"field\":\"right\"},\"top\":{\"field\":\"top\"}},\"id\":\"6d58096f-1568-4b18-ba07-65e8c4160a92\",\"type\":\"Quad\"},{\"attributes\":{\"line_color\":{\"field\":\"line_color\"},\"xs\":{\"field\":\"xs\"},\"ys\":{\"field\":\"ys\"}},\"id\":\"4543bbae-729c-458f-928c-6f9d3bd12c0f\",\"type\":\"MultiLine\"},{\"attributes\":{},\"id\":\"1339b43a-ad4a-40d6-a4f8-025a1a70a0a3\",\"type\":\"BasicTickFormatter\"},{\"attributes\":{},\"id\":\"e5e3064c-0fb3-451f-b7f3-eb21c94d1909\",\"type\":\"BasicTickFormatter\"},{\"attributes\":{\"line_alpha\":{\"value\":0.1},\"line_color\":{\"value\":\"#1f77b4\"},\"xs\":{\"field\":\"xs\"},\"ys\":{\"field\":\"ys\"}},\"id\":\"8ad028a2-250b-4753-ae1b-cf9794404460\",\"type\":\"MultiLine\"},{\"attributes\":{\"plot\":{\"id\":\"c2755411-e162-4417-abac-e20dac1c2b8f\",\"subtype\":\"Figure\",\"type\":\"Plot\"}},\"id\":\"7eb4063f-83e2-4034-a864-d4d9e1cd663e\",\"type\":\"HelpTool\"},{\"attributes\":{\"plot\":{\"id\":\"c2755411-e162-4417-abac-e20dac1c2b8f\",\"subtype\":\"Figure\",\"type\":\"Plot\"},\"ticker\":{\"id\":\"3f462c0d-095f-4a39-b18c-f8349a3dc645\",\"type\":\"BasicTicker\"}},\"id\":\"63adbee3-5bea-40df-9e88-8330d2230b70\",\"type\":\"Grid\"},{\"attributes\":{},\"id\":\"3f462c0d-095f-4a39-b18c-f8349a3dc645\",\"type\":\"BasicTicker\"},{\"attributes\":{\"plot\":{\"id\":\"c2755411-e162-4417-abac-e20dac1c2b8f\",\"subtype\":\"Figure\",\"type\":\"Plot\"}},\"id\":\"30802973-50dc-4d8c-9e9d-69b158583aad\",\"type\":\"ResetTool\"},{\"attributes\":{\"formatter\":{\"id\":\"e5e3064c-0fb3-451f-b7f3-eb21c94d1909\",\"type\":\"BasicTickFormatter\"},\"plot\":{\"id\":\"c2755411-e162-4417-abac-e20dac1c2b8f\",\"subtype\":\"Figure\",\"type\":\"Plot\"},\"ticker\":{\"id\":\"3f462c0d-095f-4a39-b18c-f8349a3dc645\",\"type\":\"BasicTicker\"}},\"id\":\"3732ad4b-f771-43d7-bdee-1ffd207de192\",\"type\":\"LinearAxis\"},{\"attributes\":{\"callback\":null,\"column_names\":[\"right\",\"bottom\",\"top\",\"left\"],\"data\":{\"bottom\":[645,645,645,645,645,645,645],\"left\":[135809835,135957574,136289083,136499189,136545415,136597196,136664254],\"right\":[135928279,136288182,136482839,136542633,136594750,136634047,136743222],\"top\":[675,675,675,675,675,675,675]}},\"id\":\"92dd3816-9ccc-4cce-9631-f91b709b3715\",\"type\":\"ColumnDataSource\"},{\"attributes\":{\"callback\":null,\"column_names\":[\"y\",\"x\",\"vals\"],\"data\":{\"vals\":[\"RAB3GAP1\",\"ZRANB3\",\"R3HDM1\",\"UBXN4\",\"LCT\",\"MCM6\",\"DARS\"],\"x\":[135869057.0,136122878.0,136385961.0,136520911.0,136570082.5,136615621.5,136703738.0],\"y\":[660.0,660.0,660.0,660.0,660.0,660.0,660.0]}},\"id\":\"440f9e10-e12d-4fb7-8cb8-e562eb512b0a\",\"type\":\"ColumnDataSource\"},{\"attributes\":{\"bottom\":{\"field\":\"bottom\"},\"fill_alpha\":{\"value\":0.1},\"fill_color\":{\"value\":\"#1f77b4\"},\"left\":{\"field\":\"left\"},\"line_alpha\":{\"value\":0.1},\"line_color\":{\"value\":\"#1f77b4\"},\"right\":{\"field\":\"right\"},\"top\":{\"field\":\"top\"}},\"id\":\"9aba03e9-c812-46fb-9b8a-1f1b1dc9fdc0\",\"type\":\"Quad\"},{\"attributes\":{\"level\":\"glyph\",\"plot\":{\"id\":\"c2755411-e162-4417-abac-e20dac1c2b8f\",\"subtype\":\"Figure\",\"type\":\"Plot\"},\"source\":{\"id\":\"440f9e10-e12d-4fb7-8cb8-e562eb512b0a\",\"type\":\"ColumnDataSource\"},\"text\":{\"field\":\"vals\"},\"text_align\":\"center\",\"text_baseline\":\"middle\",\"text_font_size\":{\"value\":\"8pt\"},\"x\":{\"field\":\"x\"},\"y\":{\"field\":\"y\"}},\"id\":\"4dac2ae3-4729-442d-bb26-47db837342c9\",\"type\":\"LabelSet\"},{\"attributes\":{\"bottom\":{\"field\":\"bottom\"},\"fill_color\":{\"value\":\"white\"},\"left\":{\"field\":\"left\"},\"right\":{\"field\":\"right\"},\"top\":{\"field\":\"top\"}},\"id\":\"dbcb4db4-994d-4525-a88d-4bc2b02bcc74\",\"type\":\"Quad\"},{\"attributes\":{\"plot\":{\"id\":\"c2755411-e162-4417-abac-e20dac1c2b8f\",\"subtype\":\"Figure\",\"type\":\"Plot\"}},\"id\":\"69e1b104-2fb7-483f-9e3a-8b827de8f93e\",\"type\":\"PanTool\"},{\"attributes\":{\"callback\":null,\"end\":136786630,\"start\":135757320},\"id\":\"24c82dcb-1015-4285-b0a9-863e9c530f85\",\"type\":\"Range1d\"},{\"attributes\":{\"plot\":null,\"text\":null},\"id\":\"56844dd7-b719-4289-8a5f-1038689581f6\",\"type\":\"Title\"},{\"attributes\":{},\"id\":\"31224a3d-2295-4ab8-93f0-edf11b2b4ceb\",\"type\":\"ToolEvents\"},{\"attributes\":{\"callback\":null,\"column_names\":[\"xs\",\"ys\",\"line_color\"],\"data\":{\"line_color\":[\"black\",\"black\",\"black\",\"black\",\"black\",\"black\",\"black\",\"black\",\"black\",\"black\",\"black\",\"black\",\"black\",\"black\",\"black\",\"black\",\"black\",\"black\",\"black\",\"black\",\"black\",\"black\",\"black\",\"black\",\"black\",\"black\",\"black\",\"black\",\"black\",\"black\",\"black\",\"black\",\"black\",\"black\",\"black\",\"black\",\"black\",\"black\",\"black\",\"black\",\"black\",\"black\",\"black\",\"black\",\"black\",\"black\",\"black\",\"black\",\"black\",\"black\",\"black\",\"black\",\"black\",\"black\",\"black\",\"black\",\"black\",\"black\",\"black\",\"black\",\"black\",\"black\",\"black\",\"black\",\"black\",\"black\",\"black\",\"black\",\"black\",\"black\",\"black\",\"black\",\"black\",\"black\",\"black\",\"black\",\"black\",\"black\",\"black\",\"black\",\"black\",\"black\",\"black\",\"black\",\"black\",\"black\",\"black\",\"black\",\"black\",\"black\",\"black\",\"black\",\"black\",\"black\",\"black\",\"black\",\"black\",\"black\",\"black\",\"black\",\"black\",\"black\",\"black\",\"black\",\"black\",\"black\",\"black\",\"black\",\"black\",\"black\",\"black\",\"black\",\"black\",\"black\"],\"xs\":[[135771974,135771974],[135859371,135859371],[135877562,135877562],[136022798,136022798],[136058820,136058820],[136140304,136140304],[135915358,135915358],[135954405,135954405],[135995073,135995073],[135995079,135995079],[136398174,136398174],[136402117,136402117],[136403749,136403749],[136409073,136409073],[136410299,136410299],[136413359,136413359],[136416855,136416855],[136416941,136416941],[136418348,136418348],[136419961,136419961],[136420690,136420690],[136422171,136422171],[136428460,136428460],[136430866,136430866],[136432103,136432103],[136437507,136437507],[136439090,136439090],[136439517,136439517],[136444123,136444123],[136445526,136445526],[136445869,136445869],[136455600,136455600],[136456642,136456642],[136462441,136462441],[136470714,136470714],[136474098,136474098],[136496493,136496493],[136496639,136496639],[136496928,136496928],[136509573,136509573],[136511951,136511951],[136537057,136537057],[136546635,136546635],[136553438,136553438],[136553925,136553925],[136496805,136496805],[136496910,136496910],[136515859,136515859],[136515924,136515924],[136520186,136520186],[136524766,136524766],[136535364,136535364],[136536113,136536113],[136552629,136552629],[136500475,136500475],[136501509,136501509],[136504101,136504101],[136509868,136509868],[136520043,136520043],[136527120,136527120],[136530379,136530379],[136530443,136530443],[136539330,136539330],[136539670,136539670],[136540083,136540083],[136542559,136542559],[136542560,136542560],[136506375,136506375],[136506927,136506927],[136510012,136510012],[136538939,136538939],[136556805,136556805],[136560003,136560003],[136562472,136562472],[136563248,136563248],[136565328,136565328],[136570613,136570613],[136571982,136571982],[136574305,136574305],[136578040,136578040],[136578194,136578194],[136580398,136580398],[136586828,136586828],[136590558,136590558],[136592309,136592309],[136593541,136593541],[136593694,136593694],[136595426,136595426],[136615222,136615222],[136624919,136624919],[136626004,136626004],[136628380,136628380],[136636909,136636909],[136637350,136637350],[136637622,136637622],[136639487,136639487],[136646900,136646900],[136652093,136652093],[136652859,136652859],[136655620,136655620],[136667896,136667896],[136671801,136671801],[136677192,136677192],[136683293,136683293],[136704414,136704414],[136720344,136720344],[136731066,136731066],[136733897,136733897],[136743490,136743490],[136747085,136747085],[136560126,136560126],[136580744,136580744],[136657998,136657998],[136742080,136742080]],\"ys\":[[450,495],[450,495],[450,495],[450,495],[450,495],[450,495],[550,596],[550,596],[550,596],[550,596],[450,494],[450,494],[450,494],[450,494],[450,494],[450,494],[450,494],[450,494],[450,494],[450,494],[450,494],[450,494],[450,494],[450,494],[450,494],[450,494],[450,494],[450,494],[450,494],[450,494],[450,494],[450,494],[450,494],[450,494],[450,494],[450,494],[250,293],[250,293],[250,293],[250,293],[250,293],[250,293],[250,293],[250,293],[250,293],[150,191],[150,191],[150,191],[150,191],[150,191],[150,191],[150,191],[150,191],[150,191],[350,393],[350,393],[350,393],[350,393],[350,393],[350,393],[350,393],[350,393],[350,393],[350,393],[350,393],[350,393],[350,393],[450,494],[450,494],[450,494],[450,494],[150,191],[150,191],[150,191],[150,191],[150,191],[150,191],[150,191],[150,191],[150,191],[150,191],[150,191],[150,191],[150,191],[150,191],[150,191],[150,191],[150,191],[150,191],[150,191],[150,191],[150,191],[150,191],[150,191],[150,191],[150,191],[150,191],[150,191],[150,191],[150,191],[150,191],[150,191],[150,191],[150,191],[150,191],[150,191],[150,191],[150,191],[150,191],[150,191],[50,66],[50,66],[50,66],[50,66]]}},\"id\":\"fd8ea352-1b0d-49c1-bc81-e63f15a69a38\",\"type\":\"ColumnDataSource\"}],\"root_ids\":[\"c2755411-e162-4417-abac-e20dac1c2b8f\"]},\"title\":\"Bokeh Application\",\"version\":\"0.12.0\"}};\n",
       "            var render_items = [{\"docid\":\"dd9a0533-0e78-4bec-9ead-e35fc70e952d\",\"elementid\":\"d8b79993-a49f-4dc9-9fb2-1b279e28910b\",\"modelid\":\"c2755411-e162-4417-abac-e20dac1c2b8f\",\"notebook_comms_target\":\"d6a2dcf5-bf76-4e51-af3f-66143b5cac5a\"}];\n",
       "            \n",
       "            Bokeh.embed.embed_items(docs_json, render_items);\n",
       "        });\n",
       "      },\n",
       "      function(Bokeh) {\n",
       "      }\n",
       "    ];\n",
       "  \n",
       "    function run_inline_js() {\n",
       "      for (var i = 0; i < inline_js.length; i++) {\n",
       "        inline_js[i](window.Bokeh);\n",
       "      }\n",
       "    }\n",
       "  \n",
       "    if (window._bokeh_is_loading === 0) {\n",
       "      console.log(\"Bokeh: BokehJS loaded, going straight to plotting\");\n",
       "      run_inline_js();\n",
       "    } else {\n",
       "      load_libs(js_urls, function() {\n",
       "        console.log(\"Bokeh: BokehJS plotting callback run at\", now());\n",
       "        run_inline_js();\n",
       "      });\n",
       "    }\n",
       "  }(this));\n",
       "</script>"
      ]
     },
     "metadata": {},
     "output_type": "display_data"
    },
    {
     "data": {
      "text/html": [
       "<p><code>&lt;Bokeh Notebook handle for <strong>In[16]</strong>&gt;</code></p>"
      ],
      "text/plain": [
       "<bokeh.io._CommsHandle at 0x7ff6b46793d0>"
      ]
     },
     "execution_count": 16,
     "metadata": {},
     "output_type": "execute_result"
    }
   ],
   "source": [
    "plt_obj = dm.superset_yes_no([dm.di_6_1503, dm.di_26_1414, dm.di_4_1442], \n",
    "                             [dm.di_7_1760, dm.di_10_2206,\n",
    "                              dm.di_4_911, dm.di_11_765, di_6_57, di_6_35, di_7_22, di_7_20],\n",
    "                             min_match=0.001)\n",
    "plt = plt_obj.do_plot()\n",
    "show(plt)"
   ]
  },
  {
   "cell_type": "code",
   "execution_count": 17,
   "metadata": {
    "collapsed": false,
    "editable": true
   },
   "outputs": [
    {
     "data": {
      "text/html": [
       "<table>\n",
       "<thead><tr><th style=\"text-align:center\">index</th><th style=\"text-align:center\">first</th><th style=\"text-align:center\">length</th><th style=\"text-align:center\">snps</th><th style=\"text-align:center\" colspan=2>alleles</th><th style=\"text-align:center\" colspan=2>matches</th><th style=\"text-align:center\" colspan=2>afr</th><th style=\"text-align:center\" colspan=2>afx</th><th style=\"text-align:center\" colspan=2>amr</th><th style=\"text-align:center\" colspan=2>eas</th><th style=\"text-align:center\" colspan=2>eur</th><th style=\"text-align:center\" colspan=2>sas</th><th style=\"text-align:center\" colspan=2>sax</th></tr></thead>\n",
       "<tr class=\"even\"><td style=\"text-align: right;\">353462</td><td style=\"text-align: right;\">135,915,358</td><td style=\"text-align: right;\">79,721</td><td style=\"text-align: right;\">4</td><td style=\"text-align: right;\">1699</td><td style=\"text-align: right;\">0.00</td><td style=\"text-align: right;\">1</td><td style=\"text-align: right;\">1.00</td><td style=\"text-align: right;\">0</td><td style=\"text-align: right;\">0.00</td><td style=\"text-align: right;\">0</td><td style=\"text-align: right;\">0.00</td><td style=\"text-align: right;\">0</td><td style=\"text-align: right;\">0.00</td><td style=\"text-align: right;\">0</td><td style=\"text-align: right;\">0.00</td><td style=\"text-align: right;\">0</td><td style=\"text-align: right;\">0.00</td><td style=\"text-align: right;\">1</td><td style=\"text-align: right;\">11.33</td><td style=\"text-align: right;\">0</td><td style=\"text-align: right;\">0.00</td></tr>\n",
       "<tr><td style=\"text-align: right;\">353283</td><td style=\"text-align: right;\">135,771,974</td><td style=\"text-align: right;\">368,330</td><td style=\"text-align: right;\">6</td><td style=\"text-align: right;\">1503</td><td style=\"text-align: right;\">0.00</td><td style=\"text-align: right;\">1</td><td style=\"text-align: right;\">1.00</td><td style=\"text-align: right;\">0</td><td style=\"text-align: right;\">0.00</td><td style=\"text-align: right;\">0</td><td style=\"text-align: right;\">0.00</td><td style=\"text-align: right;\">0</td><td style=\"text-align: right;\">0.00</td><td style=\"text-align: right;\">0</td><td style=\"text-align: right;\">0.00</td><td style=\"text-align: right;\">0</td><td style=\"text-align: right;\">0.00</td><td style=\"text-align: right;\">1</td><td style=\"text-align: right;\">11.33</td><td style=\"text-align: right;\">0</td><td style=\"text-align: right;\">0.00</td></tr>\n",
       "<tr class=\"even\"><td style=\"text-align: right;\">353925</td><td style=\"text-align: right;\">136,506,375</td><td style=\"text-align: right;\">32,564</td><td style=\"text-align: right;\">4</td><td style=\"text-align: right;\">1442</td><td style=\"text-align: right;\">0.00</td><td style=\"text-align: right;\">1</td><td style=\"text-align: right;\">1.00</td><td style=\"text-align: right;\">0</td><td style=\"text-align: right;\">0.00</td><td style=\"text-align: right;\">0</td><td style=\"text-align: right;\">0.00</td><td style=\"text-align: right;\">0</td><td style=\"text-align: right;\">0.00</td><td style=\"text-align: right;\">0</td><td style=\"text-align: right;\">0.00</td><td style=\"text-align: right;\">0</td><td style=\"text-align: right;\">0.00</td><td style=\"text-align: right;\">1</td><td style=\"text-align: right;\">11.33</td><td style=\"text-align: right;\">0</td><td style=\"text-align: right;\">0.00</td></tr>\n",
       "<tr><td style=\"text-align: right;\">353797</td><td style=\"text-align: right;\">136,398,174</td><td style=\"text-align: right;\">75,924</td><td style=\"text-align: right;\">26</td><td style=\"text-align: right;\">1414</td><td style=\"text-align: right;\">0.00</td><td style=\"text-align: right;\">1</td><td style=\"text-align: right;\">1.00</td><td style=\"text-align: right;\">0</td><td style=\"text-align: right;\">0.00</td><td style=\"text-align: right;\">0</td><td style=\"text-align: right;\">0.00</td><td style=\"text-align: right;\">0</td><td style=\"text-align: right;\">0.00</td><td style=\"text-align: right;\">0</td><td style=\"text-align: right;\">0.00</td><td style=\"text-align: right;\">0</td><td style=\"text-align: right;\">0.00</td><td style=\"text-align: right;\">1</td><td style=\"text-align: right;\">11.33</td><td style=\"text-align: right;\">0</td><td style=\"text-align: right;\">0.00</td></tr>\n",
       "<tr class=\"even\"><td style=\"text-align: right;\">353919</td><td style=\"text-align: right;\">136,500,475</td><td style=\"text-align: right;\">42,085</td><td style=\"text-align: right;\">13</td><td style=\"text-align: right;\">1227</td><td style=\"text-align: right;\">0.00</td><td style=\"text-align: right;\">1</td><td style=\"text-align: right;\">1.00</td><td style=\"text-align: right;\">0</td><td style=\"text-align: right;\">0.00</td><td style=\"text-align: right;\">0</td><td style=\"text-align: right;\">0.00</td><td style=\"text-align: right;\">0</td><td style=\"text-align: right;\">0.00</td><td style=\"text-align: right;\">0</td><td style=\"text-align: right;\">0.00</td><td style=\"text-align: right;\">0</td><td style=\"text-align: right;\">0.00</td><td style=\"text-align: right;\">1</td><td style=\"text-align: right;\">11.33</td><td style=\"text-align: right;\">0</td><td style=\"text-align: right;\">0.00</td></tr>\n",
       "<tr><td style=\"text-align: right;\">353906</td><td style=\"text-align: right;\">136,496,493</td><td style=\"text-align: right;\">57,432</td><td style=\"text-align: right;\">9</td><td style=\"text-align: right;\">1170</td><td style=\"text-align: right;\">0.00</td><td style=\"text-align: right;\">1</td><td style=\"text-align: right;\">1.00</td><td style=\"text-align: right;\">0</td><td style=\"text-align: right;\">0.00</td><td style=\"text-align: right;\">0</td><td style=\"text-align: right;\">0.00</td><td style=\"text-align: right;\">0</td><td style=\"text-align: right;\">0.00</td><td style=\"text-align: right;\">0</td><td style=\"text-align: right;\">0.00</td><td style=\"text-align: right;\">0</td><td style=\"text-align: right;\">0.00</td><td style=\"text-align: right;\">1</td><td style=\"text-align: right;\">11.33</td><td style=\"text-align: right;\">0</td><td style=\"text-align: right;\">0.00</td></tr>\n",
       "<tr class=\"even\"><td style=\"text-align: right;\">353907</td><td style=\"text-align: right;\">136,496,805</td><td style=\"text-align: right;\">55,824</td><td style=\"text-align: right;\">9</td><td style=\"text-align: right;\">1023</td><td style=\"text-align: right;\">0.00</td><td style=\"text-align: right;\">1</td><td style=\"text-align: right;\">1.00</td><td style=\"text-align: right;\">0</td><td style=\"text-align: right;\">0.00</td><td style=\"text-align: right;\">0</td><td style=\"text-align: right;\">0.00</td><td style=\"text-align: right;\">0</td><td style=\"text-align: right;\">0.00</td><td style=\"text-align: right;\">0</td><td style=\"text-align: right;\">0.00</td><td style=\"text-align: right;\">0</td><td style=\"text-align: right;\">0.00</td><td style=\"text-align: right;\">1</td><td style=\"text-align: right;\">11.33</td><td style=\"text-align: right;\">0</td><td style=\"text-align: right;\">0.00</td></tr>\n",
       "<tr><td style=\"text-align: right;\">353984</td><td style=\"text-align: right;\">136,556,805</td><td style=\"text-align: right;\">190,280</td><td style=\"text-align: right;\">39</td><td style=\"text-align: right;\">1014</td><td style=\"text-align: right;\">0.00</td><td style=\"text-align: right;\">1</td><td style=\"text-align: right;\">1.00</td><td style=\"text-align: right;\">0</td><td style=\"text-align: right;\">0.00</td><td style=\"text-align: right;\">0</td><td style=\"text-align: right;\">0.00</td><td style=\"text-align: right;\">0</td><td style=\"text-align: right;\">0.00</td><td style=\"text-align: right;\">0</td><td style=\"text-align: right;\">0.00</td><td style=\"text-align: right;\">0</td><td style=\"text-align: right;\">0.00</td><td style=\"text-align: right;\">1</td><td style=\"text-align: right;\">11.33</td><td style=\"text-align: right;\">0</td><td style=\"text-align: right;\">0.00</td></tr>\n",
       "<tr class=\"even\"><td style=\"text-align: right;\">353987</td><td style=\"text-align: right;\">136,560,126</td><td style=\"text-align: right;\">181,954</td><td style=\"text-align: right;\">4</td><td style=\"text-align: right;\">57</td><td style=\"text-align: right;\">0.02</td><td style=\"text-align: right;\">1</td><td style=\"text-align: right;\">1.00</td><td style=\"text-align: right;\">0</td><td style=\"text-align: right;\">0.00</td><td style=\"text-align: right;\">0</td><td style=\"text-align: right;\">0.00</td><td style=\"text-align: right;\">0</td><td style=\"text-align: right;\">0.00</td><td style=\"text-align: right;\">0</td><td style=\"text-align: right;\">0.00</td><td style=\"text-align: right;\">0</td><td style=\"text-align: right;\">0.00</td><td style=\"text-align: right;\">1</td><td style=\"text-align: right;\">11.33</td><td style=\"text-align: right;\">0</td><td style=\"text-align: right;\">0.00</td></tr>\n",
       "</table>"
      ],
      "text/plain": [
       "<IPython.core.display.HTML object>"
      ]
     },
     "execution_count": 17,
     "metadata": {},
     "output_type": "execute_result"
    }
   ],
   "source": [
    "HTML(plt_obj.get_html())"
   ]
  },
  {
   "cell_type": "code",
   "execution_count": 18,
   "metadata": {
    "collapsed": false,
    "editable": true
   },
   "outputs": [
    {
     "data": {
      "text/html": [
       "\n",
       "\n",
       "    <div class=\"bk-root\">\n",
       "        <div class=\"plotdiv\" id=\"a7e1f377-172d-4175-b8be-2b4c06c4c61e\"></div>\n",
       "    </div>\n",
       "<script type=\"text/javascript\">\n",
       "  \n",
       "  (function(global) {\n",
       "    function now() {\n",
       "      return new Date();\n",
       "    }\n",
       "  \n",
       "    if (typeof (window._bokeh_onload_callbacks) === \"undefined\") {\n",
       "      window._bokeh_onload_callbacks = [];\n",
       "    }\n",
       "  \n",
       "    function run_callbacks() {\n",
       "      window._bokeh_onload_callbacks.forEach(function(callback) { callback() });\n",
       "      delete window._bokeh_onload_callbacks\n",
       "      console.info(\"Bokeh: all callbacks have finished\");\n",
       "    }\n",
       "  \n",
       "    function load_libs(js_urls, callback) {\n",
       "      window._bokeh_onload_callbacks.push(callback);\n",
       "      if (window._bokeh_is_loading > 0) {\n",
       "        console.log(\"Bokeh: BokehJS is being loaded, scheduling callback at\", now());\n",
       "        return null;\n",
       "      }\n",
       "      if (js_urls == null || js_urls.length === 0) {\n",
       "        run_callbacks();\n",
       "        return null;\n",
       "      }\n",
       "      console.log(\"Bokeh: BokehJS not loaded, scheduling load and callback at\", now());\n",
       "      window._bokeh_is_loading = js_urls.length;\n",
       "      for (var i = 0; i < js_urls.length; i++) {\n",
       "        var url = js_urls[i];\n",
       "        var s = document.createElement('script');\n",
       "        s.src = url;\n",
       "        s.async = false;\n",
       "        s.onreadystatechange = s.onload = function() {\n",
       "          window._bokeh_is_loading--;\n",
       "          if (window._bokeh_is_loading === 0) {\n",
       "            console.log(\"Bokeh: all BokehJS libraries loaded\");\n",
       "            run_callbacks()\n",
       "          }\n",
       "        };\n",
       "        s.onerror = function() {\n",
       "          console.warn(\"failed to load library \" + url);\n",
       "        };\n",
       "        console.log(\"Bokeh: injecting script tag for BokehJS library: \", url);\n",
       "        document.getElementsByTagName(\"head\")[0].appendChild(s);\n",
       "      }\n",
       "    };var element = document.getElementById(\"a7e1f377-172d-4175-b8be-2b4c06c4c61e\");\n",
       "    if (element == null) {\n",
       "      console.log(\"Bokeh: ERROR: autoload.js configured with elementid 'a7e1f377-172d-4175-b8be-2b4c06c4c61e' but no matching script tag was found. \")\n",
       "      return false;\n",
       "    }\n",
       "  \n",
       "    var js_urls = [];\n",
       "  \n",
       "    var inline_js = [\n",
       "      function(Bokeh) {\n",
       "        Bokeh.$(function() {\n",
       "            var docs_json = {\"1b2634fc-9804-4c7d-aedc-969bba167497\":{\"roots\":{\"references\":[{\"attributes\":{\"callback\":null,\"end\":500},\"id\":\"74007913-01fa-466f-9f39-6d6a89d16b23\",\"type\":\"Range1d\"},{\"attributes\":{\"plot\":{\"id\":\"e11dfd2b-e1bd-48db-9bb4-5b3f50325cd1\",\"subtype\":\"Figure\",\"type\":\"Plot\"}},\"id\":\"8e3d0f35-da2d-4ba6-9865-19ec0fb4b80f\",\"type\":\"WheelZoomTool\"},{\"attributes\":{\"data_source\":{\"id\":\"4155bdc4-cfed-4d1e-929d-320ea7a7d721\",\"type\":\"ColumnDataSource\"},\"glyph\":{\"id\":\"135171c9-a719-42d0-a747-43b627b26705\",\"type\":\"Quad\"},\"hover_glyph\":null,\"nonselection_glyph\":{\"id\":\"769c9479-270d-43e6-81e0-492aa4551fbb\",\"type\":\"Quad\"},\"selection_glyph\":null},\"id\":\"f7eb97e3-1b56-4f3a-a19a-dee235b7addd\",\"type\":\"GlyphRenderer\"},{\"attributes\":{\"data_source\":{\"id\":\"2eb593ec-2cd0-4f28-b900-597ea45add04\",\"type\":\"ColumnDataSource\"},\"glyph\":{\"id\":\"67ccd478-133b-4a49-8439-2a792ea8148f\",\"type\":\"Quad\"},\"hover_glyph\":null,\"nonselection_glyph\":{\"id\":\"1bb95ee9-3247-43eb-8675-46143374c070\",\"type\":\"Quad\"},\"selection_glyph\":null},\"id\":\"92d08379-aced-4cb9-9da8-932ada7f6548\",\"type\":\"GlyphRenderer\"},{\"attributes\":{\"data_source\":{\"id\":\"75bba60a-5c1b-4d57-9f8b-7292909a10e6\",\"type\":\"ColumnDataSource\"},\"glyph\":{\"id\":\"a23433f9-87f4-4c32-99bd-16956831dac4\",\"type\":\"MultiLine\"},\"hover_glyph\":null,\"nonselection_glyph\":{\"id\":\"5eab0aba-2f1d-49db-af87-eea828fc15e2\",\"type\":\"MultiLine\"},\"selection_glyph\":null},\"id\":\"17b0498e-e571-4182-853c-38b131dd3747\",\"type\":\"GlyphRenderer\"},{\"attributes\":{\"level\":\"glyph\",\"plot\":{\"id\":\"e11dfd2b-e1bd-48db-9bb4-5b3f50325cd1\",\"subtype\":\"Figure\",\"type\":\"Plot\"},\"source\":{\"id\":\"4ef238b2-157c-41f0-9247-9f103a0f1d20\",\"type\":\"ColumnDataSource\"},\"text\":{\"field\":\"vals\"},\"text_align\":\"center\",\"text_baseline\":\"middle\",\"text_font_size\":{\"value\":\"8pt\"},\"x\":{\"field\":\"x\"},\"y\":{\"field\":\"y\"}},\"id\":\"007c5e26-d9cb-40d0-9e9e-370896f14fe9\",\"type\":\"LabelSet\"},{\"attributes\":{\"line_alpha\":{\"value\":0.1},\"line_color\":{\"value\":\"#1f77b4\"},\"xs\":{\"field\":\"xs\"},\"ys\":{\"field\":\"ys\"}},\"id\":\"5eab0aba-2f1d-49db-af87-eea828fc15e2\",\"type\":\"MultiLine\"},{\"attributes\":{\"bottom\":{\"field\":\"bottom\"},\"fill_color\":{\"value\":\"white\"},\"left\":{\"field\":\"left\"},\"right\":{\"field\":\"right\"},\"top\":{\"field\":\"top\"}},\"id\":\"135171c9-a719-42d0-a747-43b627b26705\",\"type\":\"Quad\"},{\"attributes\":{\"formatter\":{\"id\":\"c12d7b2c-0452-45d4-9c08-570c46f11828\",\"type\":\"BasicTickFormatter\"},\"plot\":{\"id\":\"e11dfd2b-e1bd-48db-9bb4-5b3f50325cd1\",\"subtype\":\"Figure\",\"type\":\"Plot\"},\"ticker\":{\"id\":\"ad7d90f6-bfbb-43e5-a468-ec5f9994d3f1\",\"type\":\"BasicTicker\"}},\"id\":\"1d8bca47-14b0-41ec-beaa-da87e659a0f9\",\"type\":\"LinearAxis\"},{\"attributes\":{},\"id\":\"2466c9ef-3893-45e5-ad5a-ed04ccaa4064\",\"type\":\"ToolEvents\"},{\"attributes\":{\"bottom_units\":\"screen\",\"fill_alpha\":{\"value\":0.5},\"fill_color\":{\"value\":\"lightgrey\"},\"left_units\":\"screen\",\"level\":\"overlay\",\"line_alpha\":{\"value\":1.0},\"line_color\":{\"value\":\"black\"},\"line_dash\":[4,4],\"line_width\":{\"value\":2},\"plot\":null,\"render_mode\":\"css\",\"right_units\":\"screen\",\"top_units\":\"screen\"},\"id\":\"a2b35aa8-9baa-4622-9666-0a9d3bdedf63\",\"type\":\"BoxAnnotation\"},{\"attributes\":{\"bottom\":{\"field\":\"bottom\"},\"fill_alpha\":{\"value\":0.1},\"fill_color\":{\"value\":\"#1f77b4\"},\"left\":{\"field\":\"left\"},\"line_alpha\":{\"value\":0.1},\"line_color\":{\"value\":\"#1f77b4\"},\"right\":{\"field\":\"right\"},\"top\":{\"field\":\"top\"}},\"id\":\"769c9479-270d-43e6-81e0-492aa4551fbb\",\"type\":\"Quad\"},{\"attributes\":{\"below\":[{\"id\":\"1d8bca47-14b0-41ec-beaa-da87e659a0f9\",\"type\":\"LinearAxis\"}],\"left\":[{\"id\":\"6a3614e7-34a2-4f22-aa4e-f35afc341266\",\"type\":\"LinearAxis\"}],\"plot_height\":500,\"plot_width\":900,\"renderers\":[{\"id\":\"1d8bca47-14b0-41ec-beaa-da87e659a0f9\",\"type\":\"LinearAxis\"},{\"id\":\"1264efa8-3aca-4ff2-aaff-46ca2fe025b2\",\"type\":\"Grid\"},{\"id\":\"6a3614e7-34a2-4f22-aa4e-f35afc341266\",\"type\":\"LinearAxis\"},{\"id\":\"9d229fd6-26fb-466d-9d2f-d3f35e94737e\",\"type\":\"Grid\"},{\"id\":\"a2b35aa8-9baa-4622-9666-0a9d3bdedf63\",\"type\":\"BoxAnnotation\"},{\"id\":\"92d08379-aced-4cb9-9da8-932ada7f6548\",\"type\":\"GlyphRenderer\"},{\"id\":\"17b0498e-e571-4182-853c-38b131dd3747\",\"type\":\"GlyphRenderer\"},{\"id\":\"52a702b8-2100-4e3f-8df7-dae50f76078b\",\"type\":\"LabelSet\"},{\"id\":\"f7eb97e3-1b56-4f3a-a19a-dee235b7addd\",\"type\":\"GlyphRenderer\"},{\"id\":\"007c5e26-d9cb-40d0-9e9e-370896f14fe9\",\"type\":\"LabelSet\"}],\"title\":{\"id\":\"181a9216-d45d-47be-81af-762371d7690f\",\"type\":\"Title\"},\"tool_events\":{\"id\":\"2466c9ef-3893-45e5-ad5a-ed04ccaa4064\",\"type\":\"ToolEvents\"},\"toolbar\":{\"id\":\"00923351-4c38-44be-85ae-61063d4ac42a\",\"type\":\"Toolbar\"},\"toolbar_location\":null,\"x_range\":{\"id\":\"0fe29719-721c-4001-9997-c9b1e48e9cd5\",\"type\":\"Range1d\"},\"y_range\":{\"id\":\"74007913-01fa-466f-9f39-6d6a89d16b23\",\"type\":\"Range1d\"}},\"id\":\"e11dfd2b-e1bd-48db-9bb4-5b3f50325cd1\",\"subtype\":\"Figure\",\"type\":\"Plot\"},{\"attributes\":{\"plot\":null,\"text\":null},\"id\":\"181a9216-d45d-47be-81af-762371d7690f\",\"type\":\"Title\"},{\"attributes\":{\"plot\":{\"id\":\"e11dfd2b-e1bd-48db-9bb4-5b3f50325cd1\",\"subtype\":\"Figure\",\"type\":\"Plot\"}},\"id\":\"51effc3c-787c-468c-9673-ed0737a4cc44\",\"type\":\"SaveTool\"},{\"attributes\":{\"callback\":null,\"column_names\":[\"xs\",\"ys\",\"line_color\"],\"data\":{\"line_color\":[\"black\",\"black\",\"black\",\"black\",\"black\",\"black\",\"black\",\"black\",\"black\",\"black\",\"black\",\"black\",\"black\",\"black\",\"black\",\"black\",\"black\",\"black\",\"black\",\"black\",\"black\",\"black\",\"black\",\"black\",\"black\",\"black\",\"black\",\"black\",\"black\",\"black\",\"black\",\"black\",\"black\",\"black\",\"black\",\"black\",\"black\",\"black\",\"black\",\"black\",\"black\",\"black\",\"black\",\"black\",\"black\",\"black\",\"black\",\"black\",\"black\",\"black\",\"black\",\"black\",\"black\",\"black\",\"black\",\"black\",\"black\",\"black\",\"black\",\"black\",\"black\",\"black\",\"black\",\"black\",\"black\",\"black\",\"black\",\"black\",\"black\",\"black\",\"black\",\"black\",\"black\",\"black\",\"black\",\"black\",\"black\",\"black\",\"black\",\"black\",\"black\",\"black\",\"black\",\"black\",\"black\",\"black\",\"black\",\"black\",\"black\",\"black\",\"black\",\"black\",\"black\",\"black\",\"black\",\"black\",\"black\",\"black\",\"black\",\"black\",\"black\",\"black\",\"black\",\"black\",\"black\",\"black\",\"black\",\"black\",\"black\",\"black\",\"black\",\"black\",\"black\",\"black\",\"black\",\"black\",\"black\",\"black\",\"black\",\"black\",\"black\",\"black\",\"black\",\"black\",\"black\",\"black\",\"black\",\"black\",\"black\",\"black\",\"black\",\"black\",\"black\",\"black\",\"black\",\"black\",\"black\",\"black\",\"black\"],\"xs\":[[135771974,135771974],[135859371,135859371],[135877562,135877562],[136022798,136022798],[136058820,136058820],[136140304,136140304],[135915358,135915358],[135954405,135954405],[135995073,135995073],[135995079,135995079],[136398174,136398174],[136402117,136402117],[136403749,136403749],[136409073,136409073],[136410299,136410299],[136413359,136413359],[136416855,136416855],[136416941,136416941],[136418348,136418348],[136419961,136419961],[136420690,136420690],[136422171,136422171],[136428460,136428460],[136430866,136430866],[136432103,136432103],[136437507,136437507],[136439090,136439090],[136439517,136439517],[136444123,136444123],[136445526,136445526],[136445869,136445869],[136455600,136455600],[136456642,136456642],[136462441,136462441],[136470714,136470714],[136474098,136474098],[136494186,136494186],[136495300,136495300],[136495619,136495619],[136499166,136499166],[136502792,136502792],[136503157,136503157],[136507039,136507039],[136511575,136511575],[136518103,136518103],[136521514,136521514],[136522675,136522675],[136522941,136522941],[136526981,136526981],[136535410,136535410],[136539122,136539122],[136544197,136544197],[136550109,136550109],[136551694,136551694],[136553188,136553188],[136553639,136553639],[136554800,136554800],[136557319,136557319],[136558157,136558157],[136569848,136569848],[136575199,136575199],[136576577,136576577],[136578536,136578536],[136580287,136580287],[136583192,136583192],[136586958,136586958],[136588478,136588478],[136589612,136589612],[136591178,136591178],[136591859,136591859],[136593760,136593760],[136594158,136594158],[136603276,136603276],[136603366,136603366],[136608231,136608231],[136609975,136609975],[136610598,136610598],[136611624,136611624],[136613780,136613780],[136614255,136614255],[136614813,136614813],[136617524,136617524],[136622216,136622216],[136625602,136625602],[136629911,136629911],[136630757,136630757],[136630989,136630989],[136631031,136631031],[136633771,136633771],[136636324,136636324],[136638216,136638216],[136640233,136640233],[136641882,136641882],[136643555,136643555],[136658345,136658345],[136670298,136670298],[136685228,136685228],[136696138,136696138],[136740900,136740900],[136765951,136765951],[136501840,136501840],[136505546,136505546],[136516748,136516748],[136522710,136522710],[136528004,136528004],[136539513,136539513],[136544752,136544752],[136546110,136546110],[136553529,136553529],[136555659,136555659],[136652953,136652953],[136655582,136655582],[136674028,136674028],[136684940,136684940],[136761175,136761175],[136653925,136653925],[136654833,136654833],[136656534,136656534],[136656536,136656536],[136657252,136657252],[136667301,136667301],[136667487,136667487],[136672775,136672775],[136680534,136680534],[136686393,136686393],[136688749,136688749],[136692553,136692553],[136697371,136697371],[136708787,136708787],[136710372,136710372],[136711064,136711064],[136715324,136715324],[136723504,136723504],[136737460,136737460],[136743143,136743143],[136746224,136746224],[136751842,136751842],[136759379,136759379],[136761853,136761853]],\"ys\":[[150,195],[150,195],[150,195],[150,195],[150,195],[150,195],[350,396],[350,396],[350,396],[350,396],[150,194],[150,194],[150,194],[150,194],[150,194],[150,194],[150,194],[150,194],[150,194],[150,194],[150,194],[150,194],[150,194],[150,194],[150,194],[150,194],[150,194],[150,194],[150,194],[150,194],[150,194],[150,194],[150,194],[150,194],[150,194],[150,194],[250,295],[250,295],[250,295],[250,295],[250,295],[250,295],[250,295],[250,295],[250,295],[250,295],[250,295],[250,295],[250,295],[250,295],[250,295],[250,295],[250,295],[250,295],[250,295],[250,295],[250,295],[250,295],[250,295],[250,295],[250,295],[250,295],[250,295],[250,295],[250,295],[250,295],[250,295],[250,295],[250,295],[250,295],[250,295],[250,295],[250,295],[250,295],[250,295],[250,295],[250,295],[250,295],[250,295],[250,295],[250,295],[250,295],[250,295],[250,295],[250,295],[250,295],[250,295],[250,295],[250,295],[250,295],[250,295],[250,295],[250,295],[250,295],[250,295],[250,295],[250,295],[250,295],[250,295],[250,295],[350,398],[350,398],[350,398],[350,398],[350,398],[350,398],[350,398],[350,398],[350,398],[350,398],[50,94],[50,94],[50,94],[50,94],[50,94],[150,195],[150,195],[150,195],[150,195],[150,195],[150,195],[150,195],[150,195],[150,195],[150,195],[150,195],[150,195],[150,195],[150,195],[150,195],[150,195],[150,195],[150,195],[150,195],[150,195],[150,195],[150,195],[150,195],[150,195]]}},\"id\":\"75bba60a-5c1b-4d57-9f8b-7292909a10e6\",\"type\":\"ColumnDataSource\"},{\"attributes\":{\"callback\":null,\"column_names\":[\"y\",\"x\",\"vals\"],\"data\":{\"vals\":[\"6_1503\",\"4_1699\",\"26_1414\",\"64_1575\",\"10_2206\",\"5_1296\",\"24_1504\"],\"x\":[135771974,135915358,136398174,136494186,136501840,136652953,136653925],\"y\":[200.0,401.0,199.0,300.0,403.0,99.0,200.0]}},\"id\":\"e712875e-a652-4556-8f7b-432d2e4071ff\",\"type\":\"ColumnDataSource\"},{\"attributes\":{\"plot\":{\"id\":\"e11dfd2b-e1bd-48db-9bb4-5b3f50325cd1\",\"subtype\":\"Figure\",\"type\":\"Plot\"}},\"id\":\"d05282aa-cf68-4751-bc52-d2cdef5d98c6\",\"type\":\"HelpTool\"},{\"attributes\":{\"dimension\":1,\"plot\":{\"id\":\"e11dfd2b-e1bd-48db-9bb4-5b3f50325cd1\",\"subtype\":\"Figure\",\"type\":\"Plot\"},\"ticker\":{\"id\":\"72d25147-b526-4722-aa48-cd5bcd765107\",\"type\":\"BasicTicker\"}},\"id\":\"9d229fd6-26fb-466d-9d2f-d3f35e94737e\",\"type\":\"Grid\"},{\"attributes\":{},\"id\":\"c12d7b2c-0452-45d4-9c08-570c46f11828\",\"type\":\"BasicTickFormatter\"},{\"attributes\":{\"overlay\":{\"id\":\"a2b35aa8-9baa-4622-9666-0a9d3bdedf63\",\"type\":\"BoxAnnotation\"},\"plot\":{\"id\":\"e11dfd2b-e1bd-48db-9bb4-5b3f50325cd1\",\"subtype\":\"Figure\",\"type\":\"Plot\"}},\"id\":\"315d3c56-d9bd-4259-96b0-079d5e992fe9\",\"type\":\"BoxZoomTool\"},{\"attributes\":{\"callback\":null,\"column_names\":[\"right\",\"bottom\",\"top\",\"left\",\"fill_color\"],\"data\":{\"bottom\":[150,350,150,250,350,50,150],\"fill_color\":[\"#61c461\",\"#61c461\",\"#61c461\",\"#61c461\",\"#808080\",\"#808080\",\"#808080\"],\"left\":[135771974,135915358,136398174,136494186,136501840,136652953,136653925],\"right\":[136140304,135995079,136474098,136765951,136555659,136761175,136761853],\"top\":[195,396,194,295,398,94,195]}},\"id\":\"2eb593ec-2cd0-4f28-b900-597ea45add04\",\"type\":\"ColumnDataSource\"},{\"attributes\":{},\"id\":\"ad7d90f6-bfbb-43e5-a468-ec5f9994d3f1\",\"type\":\"BasicTicker\"},{\"attributes\":{\"plot\":{\"id\":\"e11dfd2b-e1bd-48db-9bb4-5b3f50325cd1\",\"subtype\":\"Figure\",\"type\":\"Plot\"},\"ticker\":{\"id\":\"ad7d90f6-bfbb-43e5-a468-ec5f9994d3f1\",\"type\":\"BasicTicker\"}},\"id\":\"1264efa8-3aca-4ff2-aaff-46ca2fe025b2\",\"type\":\"Grid\"},{\"attributes\":{\"bottom\":{\"field\":\"bottom\"},\"fill_alpha\":{\"value\":0.1},\"fill_color\":{\"value\":\"#1f77b4\"},\"left\":{\"field\":\"left\"},\"line_alpha\":{\"value\":0.1},\"line_color\":{\"value\":\"#1f77b4\"},\"right\":{\"field\":\"right\"},\"top\":{\"field\":\"top\"}},\"id\":\"1bb95ee9-3247-43eb-8675-46143374c070\",\"type\":\"Quad\"},{\"attributes\":{\"active_drag\":\"auto\",\"active_scroll\":\"auto\",\"active_tap\":\"auto\",\"tools\":[{\"id\":\"a8fe949c-b2ec-43db-a503-32e5f71a3be8\",\"type\":\"PanTool\"},{\"id\":\"8e3d0f35-da2d-4ba6-9865-19ec0fb4b80f\",\"type\":\"WheelZoomTool\"},{\"id\":\"315d3c56-d9bd-4259-96b0-079d5e992fe9\",\"type\":\"BoxZoomTool\"},{\"id\":\"51effc3c-787c-468c-9673-ed0737a4cc44\",\"type\":\"SaveTool\"},{\"id\":\"260f9e65-188d-45a5-92a0-669c5c9331f4\",\"type\":\"ResetTool\"},{\"id\":\"d05282aa-cf68-4751-bc52-d2cdef5d98c6\",\"type\":\"HelpTool\"}]},\"id\":\"00923351-4c38-44be-85ae-61063d4ac42a\",\"type\":\"Toolbar\"},{\"attributes\":{\"plot\":{\"id\":\"e11dfd2b-e1bd-48db-9bb4-5b3f50325cd1\",\"subtype\":\"Figure\",\"type\":\"Plot\"}},\"id\":\"a8fe949c-b2ec-43db-a503-32e5f71a3be8\",\"type\":\"PanTool\"},{\"attributes\":{\"callback\":null,\"column_names\":[\"right\",\"bottom\",\"top\",\"left\"],\"data\":{\"bottom\":[445,445,445,445,445,445,445],\"left\":[135809835,135957574,136289083,136499189,136545415,136597196,136664254],\"right\":[135928279,136288182,136482839,136542633,136594750,136634047,136743222],\"top\":[475,475,475,475,475,475,475]}},\"id\":\"4155bdc4-cfed-4d1e-929d-320ea7a7d721\",\"type\":\"ColumnDataSource\"},{\"attributes\":{\"level\":\"glyph\",\"plot\":{\"id\":\"e11dfd2b-e1bd-48db-9bb4-5b3f50325cd1\",\"subtype\":\"Figure\",\"type\":\"Plot\"},\"source\":{\"id\":\"e712875e-a652-4556-8f7b-432d2e4071ff\",\"type\":\"ColumnDataSource\"},\"text\":{\"field\":\"vals\"},\"text_font_size\":{\"value\":\"9pt\"},\"text_font_style\":\"bold\",\"x\":{\"field\":\"x\"},\"y\":{\"field\":\"y\"}},\"id\":\"52a702b8-2100-4e3f-8df7-dae50f76078b\",\"type\":\"LabelSet\"},{\"attributes\":{\"line_color\":{\"field\":\"line_color\"},\"xs\":{\"field\":\"xs\"},\"ys\":{\"field\":\"ys\"}},\"id\":\"a23433f9-87f4-4c32-99bd-16956831dac4\",\"type\":\"MultiLine\"},{\"attributes\":{},\"id\":\"01bef86d-7188-424f-b7ae-e5ea064745ad\",\"type\":\"BasicTickFormatter\"},{\"attributes\":{\"plot\":{\"id\":\"e11dfd2b-e1bd-48db-9bb4-5b3f50325cd1\",\"subtype\":\"Figure\",\"type\":\"Plot\"}},\"id\":\"260f9e65-188d-45a5-92a0-669c5c9331f4\",\"type\":\"ResetTool\"},{\"attributes\":{\"callback\":null,\"end\":136786630,\"start\":135757320},\"id\":\"0fe29719-721c-4001-9997-c9b1e48e9cd5\",\"type\":\"Range1d\"},{\"attributes\":{\"bottom\":{\"field\":\"bottom\"},\"fill_color\":{\"field\":\"fill_color\"},\"left\":{\"field\":\"left\"},\"line_color\":{\"value\":null},\"right\":{\"field\":\"right\"},\"top\":{\"field\":\"top\"}},\"id\":\"67ccd478-133b-4a49-8439-2a792ea8148f\",\"type\":\"Quad\"},{\"attributes\":{\"formatter\":{\"id\":\"01bef86d-7188-424f-b7ae-e5ea064745ad\",\"type\":\"BasicTickFormatter\"},\"plot\":{\"id\":\"e11dfd2b-e1bd-48db-9bb4-5b3f50325cd1\",\"subtype\":\"Figure\",\"type\":\"Plot\"},\"ticker\":{\"id\":\"72d25147-b526-4722-aa48-cd5bcd765107\",\"type\":\"BasicTicker\"},\"visible\":null},\"id\":\"6a3614e7-34a2-4f22-aa4e-f35afc341266\",\"type\":\"LinearAxis\"},{\"attributes\":{\"callback\":null,\"column_names\":[\"y\",\"x\",\"vals\"],\"data\":{\"vals\":[\"RAB3GAP1\",\"ZRANB3\",\"R3HDM1\",\"UBXN4\",\"LCT\",\"MCM6\",\"DARS\"],\"x\":[135869057.0,136122878.0,136385961.0,136520911.0,136570082.5,136615621.5,136703738.0],\"y\":[460.0,460.0,460.0,460.0,460.0,460.0,460.0]}},\"id\":\"4ef238b2-157c-41f0-9247-9f103a0f1d20\",\"type\":\"ColumnDataSource\"},{\"attributes\":{},\"id\":\"72d25147-b526-4722-aa48-cd5bcd765107\",\"type\":\"BasicTicker\"}],\"root_ids\":[\"e11dfd2b-e1bd-48db-9bb4-5b3f50325cd1\"]},\"title\":\"Bokeh Application\",\"version\":\"0.12.0\"}};\n",
       "            var render_items = [{\"docid\":\"1b2634fc-9804-4c7d-aedc-969bba167497\",\"elementid\":\"a7e1f377-172d-4175-b8be-2b4c06c4c61e\",\"modelid\":\"e11dfd2b-e1bd-48db-9bb4-5b3f50325cd1\",\"notebook_comms_target\":\"faf1fd25-68b8-4776-b5d0-d49fa80a0149\"}];\n",
       "            \n",
       "            Bokeh.embed.embed_items(docs_json, render_items);\n",
       "        });\n",
       "      },\n",
       "      function(Bokeh) {\n",
       "      }\n",
       "    ];\n",
       "  \n",
       "    function run_inline_js() {\n",
       "      for (var i = 0; i < inline_js.length; i++) {\n",
       "        inline_js[i](window.Bokeh);\n",
       "      }\n",
       "    }\n",
       "  \n",
       "    if (window._bokeh_is_loading === 0) {\n",
       "      console.log(\"Bokeh: BokehJS loaded, going straight to plotting\");\n",
       "      run_inline_js();\n",
       "    } else {\n",
       "      load_libs(js_urls, function() {\n",
       "        console.log(\"Bokeh: BokehJS plotting callback run at\", now());\n",
       "        run_inline_js();\n",
       "      });\n",
       "    }\n",
       "  }(this));\n",
       "</script>"
      ]
     },
     "metadata": {},
     "output_type": "display_data"
    },
    {
     "data": {
      "text/html": [
       "<p><code>&lt;Bokeh Notebook handle for <strong>In[18]</strong>&gt;</code></p>"
      ],
      "text/plain": [
       "<bokeh.io._CommsHandle at 0x7ff6b4679990>"
      ]
     },
     "execution_count": 18,
     "metadata": {},
     "output_type": "execute_result"
    }
   ],
   "source": [
    "plt_obj = dm.superset_yes_no([dm.di_6_1503, dm.di_26_1414, dm.di_10_2206, dm.di_64_1575, dm.di_24_1504],\n",
    "                             [dm.di_51_176, dm.di_7_1868,\n",
    "                              dm.di_4_911, dm.di_11_765, di_6_57, di_6_35, di_7_22, di_7_20],\n",
    "                             min_match=0.001)\n",
    "plt = plt_obj.do_plot()\n",
    "show(plt)"
   ]
  },
  {
   "cell_type": "code",
   "execution_count": 19,
   "metadata": {
    "collapsed": false,
    "editable": true
   },
   "outputs": [
    {
     "data": {
      "text/html": [
       "<table>\n",
       "<thead><tr><th style=\"text-align:center\">index</th><th style=\"text-align:center\">first</th><th style=\"text-align:center\">length</th><th style=\"text-align:center\">snps</th><th style=\"text-align:center\" colspan=2>alleles</th><th style=\"text-align:center\" colspan=2>matches</th><th style=\"text-align:center\" colspan=2>afr</th><th style=\"text-align:center\" colspan=2>afx</th><th style=\"text-align:center\" colspan=2>amr</th><th style=\"text-align:center\" colspan=2>eas</th><th style=\"text-align:center\" colspan=2>eur</th><th style=\"text-align:center\" colspan=2>sas</th><th style=\"text-align:center\" colspan=2>sax</th></tr></thead>\n",
       "<tr class=\"even\"><td style=\"text-align: right;\">353921</td><td style=\"text-align: right;\">136,501,840</td><td style=\"text-align: right;\">53,819</td><td style=\"text-align: right;\">10</td><td style=\"text-align: right;\">2206</td><td style=\"text-align: right;\">0.00</td><td style=\"text-align: right;\">3</td><td style=\"text-align: right;\">1.00</td><td style=\"text-align: right;\">0</td><td style=\"text-align: right;\">0.00</td><td style=\"text-align: right;\">0</td><td style=\"text-align: right;\">0.00</td><td style=\"text-align: right;\">0</td><td style=\"text-align: right;\">0.00</td><td style=\"text-align: right;\">3</td><td style=\"text-align: right;\">6.11</td><td style=\"text-align: right;\">0</td><td style=\"text-align: right;\">0.00</td><td style=\"text-align: right;\">0</td><td style=\"text-align: right;\">0.00</td><td style=\"text-align: right;\">0</td><td style=\"text-align: right;\">0.00</td></tr>\n",
       "<tr><td style=\"text-align: right;\">353462</td><td style=\"text-align: right;\">135,915,358</td><td style=\"text-align: right;\">79,721</td><td style=\"text-align: right;\">4</td><td style=\"text-align: right;\">1699</td><td style=\"text-align: right;\">0.00</td><td style=\"text-align: right;\">3</td><td style=\"text-align: right;\">1.00</td><td style=\"text-align: right;\">0</td><td style=\"text-align: right;\">0.00</td><td style=\"text-align: right;\">0</td><td style=\"text-align: right;\">0.00</td><td style=\"text-align: right;\">0</td><td style=\"text-align: right;\">0.00</td><td style=\"text-align: right;\">3</td><td style=\"text-align: right;\">6.11</td><td style=\"text-align: right;\">0</td><td style=\"text-align: right;\">0.00</td><td style=\"text-align: right;\">0</td><td style=\"text-align: right;\">0.00</td><td style=\"text-align: right;\">0</td><td style=\"text-align: right;\">0.00</td></tr>\n",
       "<tr class=\"even\"><td style=\"text-align: right;\">353901</td><td style=\"text-align: right;\">136,494,186</td><td style=\"text-align: right;\">271,765</td><td style=\"text-align: right;\">64</td><td style=\"text-align: right;\">1575</td><td style=\"text-align: right;\">0.00</td><td style=\"text-align: right;\">3</td><td style=\"text-align: right;\">1.00</td><td style=\"text-align: right;\">0</td><td style=\"text-align: right;\">0.00</td><td style=\"text-align: right;\">0</td><td style=\"text-align: right;\">0.00</td><td style=\"text-align: right;\">0</td><td style=\"text-align: right;\">0.00</td><td style=\"text-align: right;\">3</td><td style=\"text-align: right;\">6.11</td><td style=\"text-align: right;\">0</td><td style=\"text-align: right;\">0.00</td><td style=\"text-align: right;\">0</td><td style=\"text-align: right;\">0.00</td><td style=\"text-align: right;\">0</td><td style=\"text-align: right;\">0.00</td></tr>\n",
       "<tr><td style=\"text-align: right;\">354130</td><td style=\"text-align: right;\">136,653,925</td><td style=\"text-align: right;\">107,928</td><td style=\"text-align: right;\">24</td><td style=\"text-align: right;\">1504</td><td style=\"text-align: right;\">0.00</td><td style=\"text-align: right;\">3</td><td style=\"text-align: right;\">1.00</td><td style=\"text-align: right;\">0</td><td style=\"text-align: right;\">0.00</td><td style=\"text-align: right;\">0</td><td style=\"text-align: right;\">0.00</td><td style=\"text-align: right;\">0</td><td style=\"text-align: right;\">0.00</td><td style=\"text-align: right;\">3</td><td style=\"text-align: right;\">6.11</td><td style=\"text-align: right;\">0</td><td style=\"text-align: right;\">0.00</td><td style=\"text-align: right;\">0</td><td style=\"text-align: right;\">0.00</td><td style=\"text-align: right;\">0</td><td style=\"text-align: right;\">0.00</td></tr>\n",
       "<tr class=\"even\"><td style=\"text-align: right;\">353283</td><td style=\"text-align: right;\">135,771,974</td><td style=\"text-align: right;\">368,330</td><td style=\"text-align: right;\">6</td><td style=\"text-align: right;\">1503</td><td style=\"text-align: right;\">0.00</td><td style=\"text-align: right;\">3</td><td style=\"text-align: right;\">1.00</td><td style=\"text-align: right;\">0</td><td style=\"text-align: right;\">0.00</td><td style=\"text-align: right;\">0</td><td style=\"text-align: right;\">0.00</td><td style=\"text-align: right;\">0</td><td style=\"text-align: right;\">0.00</td><td style=\"text-align: right;\">3</td><td style=\"text-align: right;\">6.11</td><td style=\"text-align: right;\">0</td><td style=\"text-align: right;\">0.00</td><td style=\"text-align: right;\">0</td><td style=\"text-align: right;\">0.00</td><td style=\"text-align: right;\">0</td><td style=\"text-align: right;\">0.00</td></tr>\n",
       "<tr><td style=\"text-align: right;\">353797</td><td style=\"text-align: right;\">136,398,174</td><td style=\"text-align: right;\">75,924</td><td style=\"text-align: right;\">26</td><td style=\"text-align: right;\">1414</td><td style=\"text-align: right;\">0.00</td><td style=\"text-align: right;\">3</td><td style=\"text-align: right;\">1.00</td><td style=\"text-align: right;\">0</td><td style=\"text-align: right;\">0.00</td><td style=\"text-align: right;\">0</td><td style=\"text-align: right;\">0.00</td><td style=\"text-align: right;\">0</td><td style=\"text-align: right;\">0.00</td><td style=\"text-align: right;\">3</td><td style=\"text-align: right;\">6.11</td><td style=\"text-align: right;\">0</td><td style=\"text-align: right;\">0.00</td><td style=\"text-align: right;\">0</td><td style=\"text-align: right;\">0.00</td><td style=\"text-align: right;\">0</td><td style=\"text-align: right;\">0.00</td></tr>\n",
       "<tr class=\"even\"><td style=\"text-align: right;\">354129</td><td style=\"text-align: right;\">136,652,953</td><td style=\"text-align: right;\">108,222</td><td style=\"text-align: right;\">5</td><td style=\"text-align: right;\">1296</td><td style=\"text-align: right;\">0.00</td><td style=\"text-align: right;\">3</td><td style=\"text-align: right;\">1.00</td><td style=\"text-align: right;\">0</td><td style=\"text-align: right;\">0.00</td><td style=\"text-align: right;\">0</td><td style=\"text-align: right;\">0.00</td><td style=\"text-align: right;\">0</td><td style=\"text-align: right;\">0.00</td><td style=\"text-align: right;\">3</td><td style=\"text-align: right;\">6.11</td><td style=\"text-align: right;\">0</td><td style=\"text-align: right;\">0.00</td><td style=\"text-align: right;\">0</td><td style=\"text-align: right;\">0.00</td><td style=\"text-align: right;\">0</td><td style=\"text-align: right;\">0.00</td></tr>\n",
       "</table>"
      ],
      "text/plain": [
       "<IPython.core.display.HTML object>"
      ]
     },
     "execution_count": 19,
     "metadata": {},
     "output_type": "execute_result"
    }
   ],
   "source": [
    "HTML(plt_obj.get_html())"
   ]
  },
  {
   "cell_type": "code",
   "execution_count": 20,
   "metadata": {
    "collapsed": false,
    "editable": true
   },
   "outputs": [
    {
     "data": {
      "text/html": [
       "\n",
       "\n",
       "    <div class=\"bk-root\">\n",
       "        <div class=\"plotdiv\" id=\"82da49bb-5796-495f-9036-6c0e86b9ac55\"></div>\n",
       "    </div>\n",
       "<script type=\"text/javascript\">\n",
       "  \n",
       "  (function(global) {\n",
       "    function now() {\n",
       "      return new Date();\n",
       "    }\n",
       "  \n",
       "    if (typeof (window._bokeh_onload_callbacks) === \"undefined\") {\n",
       "      window._bokeh_onload_callbacks = [];\n",
       "    }\n",
       "  \n",
       "    function run_callbacks() {\n",
       "      window._bokeh_onload_callbacks.forEach(function(callback) { callback() });\n",
       "      delete window._bokeh_onload_callbacks\n",
       "      console.info(\"Bokeh: all callbacks have finished\");\n",
       "    }\n",
       "  \n",
       "    function load_libs(js_urls, callback) {\n",
       "      window._bokeh_onload_callbacks.push(callback);\n",
       "      if (window._bokeh_is_loading > 0) {\n",
       "        console.log(\"Bokeh: BokehJS is being loaded, scheduling callback at\", now());\n",
       "        return null;\n",
       "      }\n",
       "      if (js_urls == null || js_urls.length === 0) {\n",
       "        run_callbacks();\n",
       "        return null;\n",
       "      }\n",
       "      console.log(\"Bokeh: BokehJS not loaded, scheduling load and callback at\", now());\n",
       "      window._bokeh_is_loading = js_urls.length;\n",
       "      for (var i = 0; i < js_urls.length; i++) {\n",
       "        var url = js_urls[i];\n",
       "        var s = document.createElement('script');\n",
       "        s.src = url;\n",
       "        s.async = false;\n",
       "        s.onreadystatechange = s.onload = function() {\n",
       "          window._bokeh_is_loading--;\n",
       "          if (window._bokeh_is_loading === 0) {\n",
       "            console.log(\"Bokeh: all BokehJS libraries loaded\");\n",
       "            run_callbacks()\n",
       "          }\n",
       "        };\n",
       "        s.onerror = function() {\n",
       "          console.warn(\"failed to load library \" + url);\n",
       "        };\n",
       "        console.log(\"Bokeh: injecting script tag for BokehJS library: \", url);\n",
       "        document.getElementsByTagName(\"head\")[0].appendChild(s);\n",
       "      }\n",
       "    };var element = document.getElementById(\"82da49bb-5796-495f-9036-6c0e86b9ac55\");\n",
       "    if (element == null) {\n",
       "      console.log(\"Bokeh: ERROR: autoload.js configured with elementid '82da49bb-5796-495f-9036-6c0e86b9ac55' but no matching script tag was found. \")\n",
       "      return false;\n",
       "    }\n",
       "  \n",
       "    var js_urls = [];\n",
       "  \n",
       "    var inline_js = [\n",
       "      function(Bokeh) {\n",
       "        Bokeh.$(function() {\n",
       "            var docs_json = {\"47a688b7-e840-497c-8bb2-a792172b8424\":{\"roots\":{\"references\":[{\"attributes\":{\"plot\":{\"id\":\"8e6afe21-d5e5-445f-a5ca-4ef7dfd9fcec\",\"subtype\":\"Figure\",\"type\":\"Plot\"},\"ticker\":{\"id\":\"385bad85-d0ad-497a-bf66-4f500806a1a0\",\"type\":\"BasicTicker\"}},\"id\":\"241836d0-b974-4f92-b1b7-f2e6cff3998a\",\"type\":\"Grid\"},{\"attributes\":{\"bottom\":{\"field\":\"bottom\"},\"fill_alpha\":{\"value\":0.1},\"fill_color\":{\"value\":\"#1f77b4\"},\"left\":{\"field\":\"left\"},\"line_alpha\":{\"value\":0.1},\"line_color\":{\"value\":\"#1f77b4\"},\"right\":{\"field\":\"right\"},\"top\":{\"field\":\"top\"}},\"id\":\"1b633828-af8d-4733-a8e2-84a0254e61a6\",\"type\":\"Quad\"},{\"attributes\":{\"bottom\":{\"field\":\"bottom\"},\"fill_alpha\":{\"value\":0.1},\"fill_color\":{\"value\":\"#1f77b4\"},\"left\":{\"field\":\"left\"},\"line_alpha\":{\"value\":0.1},\"line_color\":{\"value\":\"#1f77b4\"},\"right\":{\"field\":\"right\"},\"top\":{\"field\":\"top\"}},\"id\":\"1025b99d-7eea-4dfa-aecc-3ad1c1be083c\",\"type\":\"Quad\"},{\"attributes\":{\"overlay\":{\"id\":\"824594cc-6aef-4801-aae5-6253614c77b6\",\"type\":\"BoxAnnotation\"},\"plot\":{\"id\":\"8e6afe21-d5e5-445f-a5ca-4ef7dfd9fcec\",\"subtype\":\"Figure\",\"type\":\"Plot\"}},\"id\":\"409c56b4-9a83-4329-904e-c5478eef7e53\",\"type\":\"BoxZoomTool\"},{\"attributes\":{\"callback\":null,\"end\":136786630,\"start\":135757320},\"id\":\"6e7c37eb-faeb-4e1c-b523-4e1a5ae1fa31\",\"type\":\"Range1d\"},{\"attributes\":{\"bottom\":{\"field\":\"bottom\"},\"fill_color\":{\"field\":\"fill_color\"},\"left\":{\"field\":\"left\"},\"line_color\":{\"value\":null},\"right\":{\"field\":\"right\"},\"top\":{\"field\":\"top\"}},\"id\":\"c3a4ddcf-51c3-4ec8-8a63-460cecf231c0\",\"type\":\"Quad\"},{\"attributes\":{\"data_source\":{\"id\":\"faa896b6-a7f5-45b2-aa87-e34253538bfc\",\"type\":\"ColumnDataSource\"},\"glyph\":{\"id\":\"05be1af2-fa50-4afa-aa61-5ea7203ed8c6\",\"type\":\"Quad\"},\"hover_glyph\":null,\"nonselection_glyph\":{\"id\":\"1025b99d-7eea-4dfa-aecc-3ad1c1be083c\",\"type\":\"Quad\"},\"selection_glyph\":null},\"id\":\"97644ef5-d72d-415f-a2ae-3b1b5cf96d12\",\"type\":\"GlyphRenderer\"},{\"attributes\":{\"plot\":{\"id\":\"8e6afe21-d5e5-445f-a5ca-4ef7dfd9fcec\",\"subtype\":\"Figure\",\"type\":\"Plot\"}},\"id\":\"28e42b22-9589-4542-b2b5-5f8eac316067\",\"type\":\"SaveTool\"},{\"attributes\":{\"plot\":null,\"text\":null},\"id\":\"c61bac44-47ff-466b-8956-308c3223f500\",\"type\":\"Title\"},{\"attributes\":{\"plot\":{\"id\":\"8e6afe21-d5e5-445f-a5ca-4ef7dfd9fcec\",\"subtype\":\"Figure\",\"type\":\"Plot\"}},\"id\":\"1ffb6976-e3a4-429f-a85b-c10953536f25\",\"type\":\"ResetTool\"},{\"attributes\":{\"bottom_units\":\"screen\",\"fill_alpha\":{\"value\":0.5},\"fill_color\":{\"value\":\"lightgrey\"},\"left_units\":\"screen\",\"level\":\"overlay\",\"line_alpha\":{\"value\":1.0},\"line_color\":{\"value\":\"black\"},\"line_dash\":[4,4],\"line_width\":{\"value\":2},\"plot\":null,\"render_mode\":\"css\",\"right_units\":\"screen\",\"top_units\":\"screen\"},\"id\":\"824594cc-6aef-4801-aae5-6253614c77b6\",\"type\":\"BoxAnnotation\"},{\"attributes\":{\"formatter\":{\"id\":\"0ff890ff-f4ea-47fd-95ed-f1d9b0bf6119\",\"type\":\"BasicTickFormatter\"},\"plot\":{\"id\":\"8e6afe21-d5e5-445f-a5ca-4ef7dfd9fcec\",\"subtype\":\"Figure\",\"type\":\"Plot\"},\"ticker\":{\"id\":\"385bad85-d0ad-497a-bf66-4f500806a1a0\",\"type\":\"BasicTicker\"}},\"id\":\"91d02593-ca29-4d2b-ad5f-49fccb4f35b8\",\"type\":\"LinearAxis\"},{\"attributes\":{\"formatter\":{\"id\":\"6858ad98-e7e2-4b69-9aa8-12c13493ace5\",\"type\":\"BasicTickFormatter\"},\"plot\":{\"id\":\"8e6afe21-d5e5-445f-a5ca-4ef7dfd9fcec\",\"subtype\":\"Figure\",\"type\":\"Plot\"},\"ticker\":{\"id\":\"8737c6d0-9c88-4d28-bb4d-8ce996a8ca0d\",\"type\":\"BasicTicker\"},\"visible\":null},\"id\":\"0f25460f-722f-4307-874a-4cb4fca46e7d\",\"type\":\"LinearAxis\"},{\"attributes\":{},\"id\":\"385bad85-d0ad-497a-bf66-4f500806a1a0\",\"type\":\"BasicTicker\"},{\"attributes\":{\"below\":[{\"id\":\"91d02593-ca29-4d2b-ad5f-49fccb4f35b8\",\"type\":\"LinearAxis\"}],\"left\":[{\"id\":\"0f25460f-722f-4307-874a-4cb4fca46e7d\",\"type\":\"LinearAxis\"}],\"plot_width\":900,\"renderers\":[{\"id\":\"91d02593-ca29-4d2b-ad5f-49fccb4f35b8\",\"type\":\"LinearAxis\"},{\"id\":\"241836d0-b974-4f92-b1b7-f2e6cff3998a\",\"type\":\"Grid\"},{\"id\":\"0f25460f-722f-4307-874a-4cb4fca46e7d\",\"type\":\"LinearAxis\"},{\"id\":\"75467d1f-9b72-4d77-bc24-c1fed04ba16e\",\"type\":\"Grid\"},{\"id\":\"824594cc-6aef-4801-aae5-6253614c77b6\",\"type\":\"BoxAnnotation\"},{\"id\":\"9c242939-e6e0-4a3f-b990-1b243d8e8357\",\"type\":\"GlyphRenderer\"},{\"id\":\"b91a3ccd-f49f-4485-b43b-d0e8a61e37de\",\"type\":\"GlyphRenderer\"},{\"id\":\"17a47e0f-ae71-4d89-bff1-b2e94f6f7e67\",\"type\":\"LabelSet\"},{\"id\":\"97644ef5-d72d-415f-a2ae-3b1b5cf96d12\",\"type\":\"GlyphRenderer\"},{\"id\":\"85e08bc3-c210-44df-a7f3-71a8d3c8c8b5\",\"type\":\"LabelSet\"}],\"title\":{\"id\":\"c61bac44-47ff-466b-8956-308c3223f500\",\"type\":\"Title\"},\"tool_events\":{\"id\":\"e2e8de5d-02e6-44f1-a6dd-5b856ccd2fc5\",\"type\":\"ToolEvents\"},\"toolbar\":{\"id\":\"37dcd2f5-8779-4194-a1fb-30ab60955958\",\"type\":\"Toolbar\"},\"toolbar_location\":null,\"x_range\":{\"id\":\"6e7c37eb-faeb-4e1c-b523-4e1a5ae1fa31\",\"type\":\"Range1d\"},\"y_range\":{\"id\":\"43dc4ee6-9118-46ac-947b-1901406ba977\",\"type\":\"Range1d\"}},\"id\":\"8e6afe21-d5e5-445f-a5ca-4ef7dfd9fcec\",\"subtype\":\"Figure\",\"type\":\"Plot\"},{\"attributes\":{\"callback\":null,\"column_names\":[\"right\",\"bottom\",\"top\",\"left\"],\"data\":{\"bottom\":[545,545,545,545,545,545,545],\"left\":[135809835,135957574,136289083,136499189,136545415,136597196,136664254],\"right\":[135928279,136288182,136482839,136542633,136594750,136634047,136743222],\"top\":[575,575,575,575,575,575,575]}},\"id\":\"faa896b6-a7f5-45b2-aa87-e34253538bfc\",\"type\":\"ColumnDataSource\"},{\"attributes\":{},\"id\":\"0ff890ff-f4ea-47fd-95ed-f1d9b0bf6119\",\"type\":\"BasicTickFormatter\"},{\"attributes\":{\"dimension\":1,\"plot\":{\"id\":\"8e6afe21-d5e5-445f-a5ca-4ef7dfd9fcec\",\"subtype\":\"Figure\",\"type\":\"Plot\"},\"ticker\":{\"id\":\"8737c6d0-9c88-4d28-bb4d-8ce996a8ca0d\",\"type\":\"BasicTicker\"}},\"id\":\"75467d1f-9b72-4d77-bc24-c1fed04ba16e\",\"type\":\"Grid\"},{\"attributes\":{\"line_color\":{\"field\":\"line_color\"},\"xs\":{\"field\":\"xs\"},\"ys\":{\"field\":\"ys\"}},\"id\":\"44a55fda-60fd-44d1-9f51-51c00ebbe2b7\",\"type\":\"MultiLine\"},{\"attributes\":{\"line_alpha\":{\"value\":0.1},\"line_color\":{\"value\":\"#1f77b4\"},\"xs\":{\"field\":\"xs\"},\"ys\":{\"field\":\"ys\"}},\"id\":\"e423facf-6cc6-4880-8245-5623e4f3764e\",\"type\":\"MultiLine\"},{\"attributes\":{\"bottom\":{\"field\":\"bottom\"},\"fill_color\":{\"value\":\"white\"},\"left\":{\"field\":\"left\"},\"right\":{\"field\":\"right\"},\"top\":{\"field\":\"top\"}},\"id\":\"05be1af2-fa50-4afa-aa61-5ea7203ed8c6\",\"type\":\"Quad\"},{\"attributes\":{},\"id\":\"8737c6d0-9c88-4d28-bb4d-8ce996a8ca0d\",\"type\":\"BasicTicker\"},{\"attributes\":{\"active_drag\":\"auto\",\"active_scroll\":\"auto\",\"active_tap\":\"auto\",\"tools\":[{\"id\":\"c6842f9f-9f1d-4ccc-9af6-e1e1a0aeb520\",\"type\":\"PanTool\"},{\"id\":\"eef7bb63-3f2f-4a58-8f42-53a02bd0ce6e\",\"type\":\"WheelZoomTool\"},{\"id\":\"409c56b4-9a83-4329-904e-c5478eef7e53\",\"type\":\"BoxZoomTool\"},{\"id\":\"28e42b22-9589-4542-b2b5-5f8eac316067\",\"type\":\"SaveTool\"},{\"id\":\"1ffb6976-e3a4-429f-a85b-c10953536f25\",\"type\":\"ResetTool\"},{\"id\":\"4b30a314-9504-43bf-8693-82f689b3c39b\",\"type\":\"HelpTool\"}]},\"id\":\"37dcd2f5-8779-4194-a1fb-30ab60955958\",\"type\":\"Toolbar\"},{\"attributes\":{\"callback\":null,\"end\":600},\"id\":\"43dc4ee6-9118-46ac-947b-1901406ba977\",\"type\":\"Range1d\"},{\"attributes\":{\"callback\":null,\"column_names\":[\"y\",\"x\",\"vals\"],\"data\":{\"vals\":[\"RAB3GAP1\",\"ZRANB3\",\"R3HDM1\",\"UBXN4\",\"LCT\",\"MCM6\",\"DARS\"],\"x\":[135869057.0,136122878.0,136385961.0,136520911.0,136570082.5,136615621.5,136703738.0],\"y\":[560.0,560.0,560.0,560.0,560.0,560.0,560.0]}},\"id\":\"fe6a1094-8bbf-45cc-b0a7-933fca81f892\",\"type\":\"ColumnDataSource\"},{\"attributes\":{\"callback\":null,\"column_names\":[\"y\",\"x\",\"vals\"],\"data\":{\"vals\":[\"6_1503\",\"4_1699\",\"26_1414\",\"10_2206\",\"7_1760\",\"16_511\",\"51_176\",\"5_1296\",\"24_1504\"],\"x\":[135771974,135915358,136398174,136501840,136588031,136603638,136651773,136652953,136653925],\"y\":[300.0,401.0,299.0,503.0,501.0,190.0,81.0,299.0,400.0]}},\"id\":\"06f48221-9540-48c5-83df-a52c69b5b514\",\"type\":\"ColumnDataSource\"},{\"attributes\":{\"data_source\":{\"id\":\"991bd609-642c-4858-a22d-9af4a504d18d\",\"type\":\"ColumnDataSource\"},\"glyph\":{\"id\":\"c3a4ddcf-51c3-4ec8-8a63-460cecf231c0\",\"type\":\"Quad\"},\"hover_glyph\":null,\"nonselection_glyph\":{\"id\":\"1b633828-af8d-4733-a8e2-84a0254e61a6\",\"type\":\"Quad\"},\"selection_glyph\":null},\"id\":\"9c242939-e6e0-4a3f-b990-1b243d8e8357\",\"type\":\"GlyphRenderer\"},{\"attributes\":{},\"id\":\"6858ad98-e7e2-4b69-9aa8-12c13493ace5\",\"type\":\"BasicTickFormatter\"},{\"attributes\":{\"callback\":null,\"column_names\":[\"right\",\"bottom\",\"top\",\"left\",\"fill_color\"],\"data\":{\"bottom\":[250,350,250,450,450,150,50,250,350],\"fill_color\":[\"#61c461\",\"#61c461\",\"#61c461\",\"#808080\",\"#c46161\",\"#c46161\",\"#ffff00\",\"#808080\",\"#808080\"],\"left\":[135771974,135915358,136398174,136501840,136588031,136603638,136651773,136652953,136653925],\"right\":[136140304,135995079,136474098,136555659,136593678,136632125,136774627,136761175,136761853],\"top\":[295,396,294,498,496,185,76,294,395]}},\"id\":\"991bd609-642c-4858-a22d-9af4a504d18d\",\"type\":\"ColumnDataSource\"},{\"attributes\":{\"data_source\":{\"id\":\"be8bddda-1f10-4359-96ff-ae83cf69ae1f\",\"type\":\"ColumnDataSource\"},\"glyph\":{\"id\":\"44a55fda-60fd-44d1-9f51-51c00ebbe2b7\",\"type\":\"MultiLine\"},\"hover_glyph\":null,\"nonselection_glyph\":{\"id\":\"e423facf-6cc6-4880-8245-5623e4f3764e\",\"type\":\"MultiLine\"},\"selection_glyph\":null},\"id\":\"b91a3ccd-f49f-4485-b43b-d0e8a61e37de\",\"type\":\"GlyphRenderer\"},{\"attributes\":{},\"id\":\"e2e8de5d-02e6-44f1-a6dd-5b856ccd2fc5\",\"type\":\"ToolEvents\"},{\"attributes\":{\"plot\":{\"id\":\"8e6afe21-d5e5-445f-a5ca-4ef7dfd9fcec\",\"subtype\":\"Figure\",\"type\":\"Plot\"}},\"id\":\"4b30a314-9504-43bf-8693-82f689b3c39b\",\"type\":\"HelpTool\"},{\"attributes\":{\"plot\":{\"id\":\"8e6afe21-d5e5-445f-a5ca-4ef7dfd9fcec\",\"subtype\":\"Figure\",\"type\":\"Plot\"}},\"id\":\"eef7bb63-3f2f-4a58-8f42-53a02bd0ce6e\",\"type\":\"WheelZoomTool\"},{\"attributes\":{\"level\":\"glyph\",\"plot\":{\"id\":\"8e6afe21-d5e5-445f-a5ca-4ef7dfd9fcec\",\"subtype\":\"Figure\",\"type\":\"Plot\"},\"source\":{\"id\":\"06f48221-9540-48c5-83df-a52c69b5b514\",\"type\":\"ColumnDataSource\"},\"text\":{\"field\":\"vals\"},\"text_font_size\":{\"value\":\"9pt\"},\"text_font_style\":\"bold\",\"x\":{\"field\":\"x\"},\"y\":{\"field\":\"y\"}},\"id\":\"17a47e0f-ae71-4d89-bff1-b2e94f6f7e67\",\"type\":\"LabelSet\"},{\"attributes\":{\"level\":\"glyph\",\"plot\":{\"id\":\"8e6afe21-d5e5-445f-a5ca-4ef7dfd9fcec\",\"subtype\":\"Figure\",\"type\":\"Plot\"},\"source\":{\"id\":\"fe6a1094-8bbf-45cc-b0a7-933fca81f892\",\"type\":\"ColumnDataSource\"},\"text\":{\"field\":\"vals\"},\"text_align\":\"center\",\"text_baseline\":\"middle\",\"text_font_size\":{\"value\":\"8pt\"},\"x\":{\"field\":\"x\"},\"y\":{\"field\":\"y\"}},\"id\":\"85e08bc3-c210-44df-a7f3-71a8d3c8c8b5\",\"type\":\"LabelSet\"},{\"attributes\":{\"plot\":{\"id\":\"8e6afe21-d5e5-445f-a5ca-4ef7dfd9fcec\",\"subtype\":\"Figure\",\"type\":\"Plot\"}},\"id\":\"c6842f9f-9f1d-4ccc-9af6-e1e1a0aeb520\",\"type\":\"PanTool\"},{\"attributes\":{\"callback\":null,\"column_names\":[\"xs\",\"ys\",\"line_color\"],\"data\":{\"line_color\":[\"black\",\"black\",\"black\",\"black\",\"black\",\"black\",\"black\",\"black\",\"black\",\"black\",\"black\",\"black\",\"black\",\"black\",\"black\",\"black\",\"black\",\"black\",\"black\",\"black\",\"black\",\"black\",\"black\",\"black\",\"black\",\"black\",\"black\",\"black\",\"black\",\"black\",\"black\",\"black\",\"black\",\"black\",\"black\",\"black\",\"black\",\"black\",\"black\",\"black\",\"black\",\"black\",\"black\",\"black\",\"black\",\"black\",\"black\",\"black\",\"black\",\"black\",\"black\",\"black\",\"black\",\"black\",\"black\",\"black\",\"black\",\"black\",\"black\",\"black\",\"black\",\"black\",\"black\",\"black\",\"black\",\"black\",\"black\",\"black\",\"black\",\"black\",\"black\",\"black\",\"black\",\"black\",\"black\",\"black\",\"black\",\"black\",\"black\",\"black\",\"black\",\"black\",\"black\",\"black\",\"black\",\"black\",\"black\",\"black\",\"black\",\"black\",\"black\",\"black\",\"black\",\"black\",\"black\",\"black\",\"black\",\"black\",\"black\",\"black\",\"black\",\"black\",\"black\",\"black\",\"black\",\"black\",\"black\",\"black\",\"black\",\"black\",\"black\",\"black\",\"black\",\"black\",\"black\",\"black\",\"black\",\"black\",\"black\",\"black\",\"black\",\"black\",\"black\",\"black\",\"black\",\"black\",\"black\",\"black\",\"black\",\"black\",\"black\",\"black\",\"black\",\"black\",\"black\",\"black\",\"black\",\"black\",\"black\",\"black\",\"black\",\"black\",\"black\",\"black\",\"black\",\"black\",\"black\",\"black\",\"black\"],\"xs\":[[135771974,135771974],[135859371,135859371],[135877562,135877562],[136022798,136022798],[136058820,136058820],[136140304,136140304],[135915358,135915358],[135954405,135954405],[135995073,135995073],[135995079,135995079],[136398174,136398174],[136402117,136402117],[136403749,136403749],[136409073,136409073],[136410299,136410299],[136413359,136413359],[136416855,136416855],[136416941,136416941],[136418348,136418348],[136419961,136419961],[136420690,136420690],[136422171,136422171],[136428460,136428460],[136430866,136430866],[136432103,136432103],[136437507,136437507],[136439090,136439090],[136439517,136439517],[136444123,136444123],[136445526,136445526],[136445869,136445869],[136455600,136455600],[136456642,136456642],[136462441,136462441],[136470714,136470714],[136474098,136474098],[136501840,136501840],[136505546,136505546],[136516748,136516748],[136522710,136522710],[136528004,136528004],[136539513,136539513],[136544752,136544752],[136546110,136546110],[136553529,136553529],[136555659,136555659],[136588031,136588031],[136589278,136589278],[136589379,136589379],[136589741,136589741],[136590746,136590746],[136593553,136593553],[136593678,136593678],[136603638,136603638],[136603690,136603690],[136604210,136604210],[136604345,136604345],[136604346,136604346],[136605111,136605111],[136612598,136612598],[136614955,136614955],[136619114,136619114],[136619213,136619213],[136623900,136623900],[136624123,136624123],[136624155,136624155],[136630170,136630170],[136631415,136631415],[136632125,136632125],[136651773,136651773],[136653553,136653553],[136662561,136662561],[136666144,136666144],[136668014,136668014],[136668363,136668363],[136670923,136670923],[136671242,136671242],[136673605,136673605],[136674629,136674629],[136676187,136676187],[136677580,136677580],[136684994,136684994],[136691142,136691142],[136693702,136693702],[136693718,136693718],[136693984,136693984],[136694866,136694866],[136695772,136695772],[136698366,136698366],[136700927,136700927],[136702325,136702325],[136702713,136702713],[136706891,136706891],[136707277,136707277],[136710828,136710828],[136713108,136713108],[136713194,136713194],[136719313,136719313],[136724569,136724569],[136734276,136734276],[136735127,136735127],[136737090,136737090],[136738950,136738950],[136741828,136741828],[136743080,136743080],[136743310,136743310],[136746683,136746683],[136747967,136747967],[136748809,136748809],[136758353,136758353],[136758922,136758922],[136762147,136762147],[136762198,136762198],[136764012,136764012],[136764818,136764818],[136770019,136770019],[136772954,136772954],[136772959,136772959],[136772961,136772961],[136774627,136774627],[136652953,136652953],[136655582,136655582],[136674028,136674028],[136684940,136684940],[136761175,136761175],[136653925,136653925],[136654833,136654833],[136656534,136656534],[136656536,136656536],[136657252,136657252],[136667301,136667301],[136667487,136667487],[136672775,136672775],[136680534,136680534],[136686393,136686393],[136688749,136688749],[136692553,136692553],[136697371,136697371],[136708787,136708787],[136710372,136710372],[136711064,136711064],[136715324,136715324],[136723504,136723504],[136737460,136737460],[136743143,136743143],[136746224,136746224],[136751842,136751842],[136759379,136759379],[136761853,136761853]],\"ys\":[[250,295],[250,295],[250,295],[250,295],[250,295],[250,295],[350,396],[350,396],[350,396],[350,396],[250,294],[250,294],[250,294],[250,294],[250,294],[250,294],[250,294],[250,294],[250,294],[250,294],[250,294],[250,294],[250,294],[250,294],[250,294],[250,294],[250,294],[250,294],[250,294],[250,294],[250,294],[250,294],[250,294],[250,294],[250,294],[250,294],[450,498],[450,498],[450,498],[450,498],[450,498],[450,498],[450,498],[450,498],[450,498],[450,498],[450,496],[450,496],[450,496],[450,496],[450,496],[450,496],[450,496],[150,185],[150,185],[150,185],[150,185],[150,185],[150,185],[150,185],[150,185],[150,185],[150,185],[150,185],[150,185],[150,185],[150,185],[150,185],[150,185],[50,76],[50,76],[50,76],[50,76],[50,76],[50,76],[50,76],[50,76],[50,76],[50,76],[50,76],[50,76],[50,76],[50,76],[50,76],[50,76],[50,76],[50,76],[50,76],[50,76],[50,76],[50,76],[50,76],[50,76],[50,76],[50,76],[50,76],[50,76],[50,76],[50,76],[50,76],[50,76],[50,76],[50,76],[50,76],[50,76],[50,76],[50,76],[50,76],[50,76],[50,76],[50,76],[50,76],[50,76],[50,76],[50,76],[50,76],[50,76],[50,76],[50,76],[50,76],[250,294],[250,294],[250,294],[250,294],[250,294],[350,395],[350,395],[350,395],[350,395],[350,395],[350,395],[350,395],[350,395],[350,395],[350,395],[350,395],[350,395],[350,395],[350,395],[350,395],[350,395],[350,395],[350,395],[350,395],[350,395],[350,395],[350,395],[350,395],[350,395]]}},\"id\":\"be8bddda-1f10-4359-96ff-ae83cf69ae1f\",\"type\":\"ColumnDataSource\"}],\"root_ids\":[\"8e6afe21-d5e5-445f-a5ca-4ef7dfd9fcec\"]},\"title\":\"Bokeh Application\",\"version\":\"0.12.0\"}};\n",
       "            var render_items = [{\"docid\":\"47a688b7-e840-497c-8bb2-a792172b8424\",\"elementid\":\"82da49bb-5796-495f-9036-6c0e86b9ac55\",\"modelid\":\"8e6afe21-d5e5-445f-a5ca-4ef7dfd9fcec\",\"notebook_comms_target\":\"047b17ab-7b83-4006-b4a7-d3e77d7ba28f\"}];\n",
       "            \n",
       "            Bokeh.embed.embed_items(docs_json, render_items);\n",
       "        });\n",
       "      },\n",
       "      function(Bokeh) {\n",
       "      }\n",
       "    ];\n",
       "  \n",
       "    function run_inline_js() {\n",
       "      for (var i = 0; i < inline_js.length; i++) {\n",
       "        inline_js[i](window.Bokeh);\n",
       "      }\n",
       "    }\n",
       "  \n",
       "    if (window._bokeh_is_loading === 0) {\n",
       "      console.log(\"Bokeh: BokehJS loaded, going straight to plotting\");\n",
       "      run_inline_js();\n",
       "    } else {\n",
       "      load_libs(js_urls, function() {\n",
       "        console.log(\"Bokeh: BokehJS plotting callback run at\", now());\n",
       "        run_inline_js();\n",
       "      });\n",
       "    }\n",
       "  }(this));\n",
       "</script>"
      ]
     },
     "metadata": {},
     "output_type": "display_data"
    },
    {
     "data": {
      "text/html": [
       "<p><code>&lt;Bokeh Notebook handle for <strong>In[20]</strong>&gt;</code></p>"
      ],
      "text/plain": [
       "<bokeh.io._CommsHandle at 0x7ff6b469dd50>"
      ]
     },
     "execution_count": 20,
     "metadata": {},
     "output_type": "execute_result"
    }
   ],
   "source": [
    "plt_obj = dm.superset_yes_no([dm.di_6_1503, dm.di_26_1414, dm.di_10_2206, dm.di_7_1760, dm.di_24_1504], \n",
    "                             [dm.di_39_1014, dm.di_64_1575,\n",
    "                              dm.di_4_911, dm.di_11_765, di_6_57, di_6_35, di_7_22, di_7_20],\n",
    "                             min_match=0.001)\n",
    "plt = plt_obj.do_plot()\n",
    "show(plt)"
   ]
  },
  {
   "cell_type": "code",
   "execution_count": 21,
   "metadata": {
    "collapsed": false,
    "editable": true
   },
   "outputs": [
    {
     "data": {
      "text/html": [
       "<table>\n",
       "<thead><tr><th style=\"text-align:center\">index</th><th style=\"text-align:center\">first</th><th style=\"text-align:center\">length</th><th style=\"text-align:center\">snps</th><th style=\"text-align:center\" colspan=2>alleles</th><th style=\"text-align:center\" colspan=2>matches</th><th style=\"text-align:center\" colspan=2>afr</th><th style=\"text-align:center\" colspan=2>afx</th><th style=\"text-align:center\" colspan=2>amr</th><th style=\"text-align:center\" colspan=2>eas</th><th style=\"text-align:center\" colspan=2>eur</th><th style=\"text-align:center\" colspan=2>sas</th><th style=\"text-align:center\" colspan=2>sax</th></tr></thead>\n",
       "<tr class=\"even\"><td style=\"text-align: right;\">353921</td><td style=\"text-align: right;\">136,501,840</td><td style=\"text-align: right;\">53,819</td><td style=\"text-align: right;\">10</td><td style=\"text-align: right;\">2206</td><td style=\"text-align: right;\">0.00</td><td style=\"text-align: right;\">1</td><td style=\"text-align: right;\">1.00</td><td style=\"text-align: right;\">0</td><td style=\"text-align: right;\">0.00</td><td style=\"text-align: right;\">0</td><td style=\"text-align: right;\">0.00</td><td style=\"text-align: right;\">0</td><td style=\"text-align: right;\">0.00</td><td style=\"text-align: right;\">1</td><td style=\"text-align: right;\">4.74</td><td style=\"text-align: right;\">0</td><td style=\"text-align: right;\">0.00</td><td style=\"text-align: right;\">0</td><td style=\"text-align: right;\">0.00</td><td style=\"text-align: right;\">0</td><td style=\"text-align: right;\">0.00</td></tr>\n",
       "<tr><td style=\"text-align: right;\">354033</td><td style=\"text-align: right;\">136,588,031</td><td style=\"text-align: right;\">5,647</td><td style=\"text-align: right;\">7</td><td style=\"text-align: right;\">1760</td><td style=\"text-align: right;\">0.00</td><td style=\"text-align: right;\">1</td><td style=\"text-align: right;\">1.00</td><td style=\"text-align: right;\">0</td><td style=\"text-align: right;\">0.00</td><td style=\"text-align: right;\">0</td><td style=\"text-align: right;\">0.00</td><td style=\"text-align: right;\">0</td><td style=\"text-align: right;\">0.00</td><td style=\"text-align: right;\">1</td><td style=\"text-align: right;\">4.74</td><td style=\"text-align: right;\">0</td><td style=\"text-align: right;\">0.00</td><td style=\"text-align: right;\">0</td><td style=\"text-align: right;\">0.00</td><td style=\"text-align: right;\">0</td><td style=\"text-align: right;\">0.00</td></tr>\n",
       "<tr class=\"even\"><td style=\"text-align: right;\">353462</td><td style=\"text-align: right;\">135,915,358</td><td style=\"text-align: right;\">79,721</td><td style=\"text-align: right;\">4</td><td style=\"text-align: right;\">1699</td><td style=\"text-align: right;\">0.00</td><td style=\"text-align: right;\">1</td><td style=\"text-align: right;\">1.00</td><td style=\"text-align: right;\">0</td><td style=\"text-align: right;\">0.00</td><td style=\"text-align: right;\">0</td><td style=\"text-align: right;\">0.00</td><td style=\"text-align: right;\">0</td><td style=\"text-align: right;\">0.00</td><td style=\"text-align: right;\">1</td><td style=\"text-align: right;\">4.74</td><td style=\"text-align: right;\">0</td><td style=\"text-align: right;\">0.00</td><td style=\"text-align: right;\">0</td><td style=\"text-align: right;\">0.00</td><td style=\"text-align: right;\">0</td><td style=\"text-align: right;\">0.00</td></tr>\n",
       "<tr><td style=\"text-align: right;\">354130</td><td style=\"text-align: right;\">136,653,925</td><td style=\"text-align: right;\">107,928</td><td style=\"text-align: right;\">24</td><td style=\"text-align: right;\">1504</td><td style=\"text-align: right;\">0.00</td><td style=\"text-align: right;\">1</td><td style=\"text-align: right;\">1.00</td><td style=\"text-align: right;\">0</td><td style=\"text-align: right;\">0.00</td><td style=\"text-align: right;\">0</td><td style=\"text-align: right;\">0.00</td><td style=\"text-align: right;\">0</td><td style=\"text-align: right;\">0.00</td><td style=\"text-align: right;\">1</td><td style=\"text-align: right;\">4.74</td><td style=\"text-align: right;\">0</td><td style=\"text-align: right;\">0.00</td><td style=\"text-align: right;\">0</td><td style=\"text-align: right;\">0.00</td><td style=\"text-align: right;\">0</td><td style=\"text-align: right;\">0.00</td></tr>\n",
       "<tr class=\"even\"><td style=\"text-align: right;\">353283</td><td style=\"text-align: right;\">135,771,974</td><td style=\"text-align: right;\">368,330</td><td style=\"text-align: right;\">6</td><td style=\"text-align: right;\">1503</td><td style=\"text-align: right;\">0.00</td><td style=\"text-align: right;\">1</td><td style=\"text-align: right;\">1.00</td><td style=\"text-align: right;\">0</td><td style=\"text-align: right;\">0.00</td><td style=\"text-align: right;\">0</td><td style=\"text-align: right;\">0.00</td><td style=\"text-align: right;\">0</td><td style=\"text-align: right;\">0.00</td><td style=\"text-align: right;\">1</td><td style=\"text-align: right;\">4.74</td><td style=\"text-align: right;\">0</td><td style=\"text-align: right;\">0.00</td><td style=\"text-align: right;\">0</td><td style=\"text-align: right;\">0.00</td><td style=\"text-align: right;\">0</td><td style=\"text-align: right;\">0.00</td></tr>\n",
       "<tr><td style=\"text-align: right;\">353797</td><td style=\"text-align: right;\">136,398,174</td><td style=\"text-align: right;\">75,924</td><td style=\"text-align: right;\">26</td><td style=\"text-align: right;\">1414</td><td style=\"text-align: right;\">0.00</td><td style=\"text-align: right;\">1</td><td style=\"text-align: right;\">1.00</td><td style=\"text-align: right;\">0</td><td style=\"text-align: right;\">0.00</td><td style=\"text-align: right;\">0</td><td style=\"text-align: right;\">0.00</td><td style=\"text-align: right;\">0</td><td style=\"text-align: right;\">0.00</td><td style=\"text-align: right;\">1</td><td style=\"text-align: right;\">4.74</td><td style=\"text-align: right;\">0</td><td style=\"text-align: right;\">0.00</td><td style=\"text-align: right;\">0</td><td style=\"text-align: right;\">0.00</td><td style=\"text-align: right;\">0</td><td style=\"text-align: right;\">0.00</td></tr>\n",
       "<tr class=\"even\"><td style=\"text-align: right;\">354129</td><td style=\"text-align: right;\">136,652,953</td><td style=\"text-align: right;\">108,222</td><td style=\"text-align: right;\">5</td><td style=\"text-align: right;\">1296</td><td style=\"text-align: right;\">0.00</td><td style=\"text-align: right;\">1</td><td style=\"text-align: right;\">1.00</td><td style=\"text-align: right;\">0</td><td style=\"text-align: right;\">0.00</td><td style=\"text-align: right;\">0</td><td style=\"text-align: right;\">0.00</td><td style=\"text-align: right;\">0</td><td style=\"text-align: right;\">0.00</td><td style=\"text-align: right;\">1</td><td style=\"text-align: right;\">4.74</td><td style=\"text-align: right;\">0</td><td style=\"text-align: right;\">0.00</td><td style=\"text-align: right;\">0</td><td style=\"text-align: right;\">0.00</td><td style=\"text-align: right;\">0</td><td style=\"text-align: right;\">0.00</td></tr>\n",
       "<tr><td style=\"text-align: right;\">354061</td><td style=\"text-align: right;\">136,603,638</td><td style=\"text-align: right;\">28,487</td><td style=\"text-align: right;\">16</td><td style=\"text-align: right;\">511</td><td style=\"text-align: right;\">0.00</td><td style=\"text-align: right;\">1</td><td style=\"text-align: right;\">1.00</td><td style=\"text-align: right;\">0</td><td style=\"text-align: right;\">0.00</td><td style=\"text-align: right;\">0</td><td style=\"text-align: right;\">0.00</td><td style=\"text-align: right;\">0</td><td style=\"text-align: right;\">0.00</td><td style=\"text-align: right;\">1</td><td style=\"text-align: right;\">4.74</td><td style=\"text-align: right;\">0</td><td style=\"text-align: right;\">0.00</td><td style=\"text-align: right;\">0</td><td style=\"text-align: right;\">0.00</td><td style=\"text-align: right;\">0</td><td style=\"text-align: right;\">0.00</td></tr>\n",
       "<tr class=\"even\"><td style=\"text-align: right;\">354123</td><td style=\"text-align: right;\">136,651,773</td><td style=\"text-align: right;\">122,854</td><td style=\"text-align: right;\">51</td><td style=\"text-align: right;\">176</td><td style=\"text-align: right;\">0.01</td><td style=\"text-align: right;\">1</td><td style=\"text-align: right;\">1.00</td><td style=\"text-align: right;\">0</td><td style=\"text-align: right;\">0.00</td><td style=\"text-align: right;\">0</td><td style=\"text-align: right;\">0.00</td><td style=\"text-align: right;\">0</td><td style=\"text-align: right;\">0.00</td><td style=\"text-align: right;\">1</td><td style=\"text-align: right;\">4.74</td><td style=\"text-align: right;\">0</td><td style=\"text-align: right;\">0.00</td><td style=\"text-align: right;\">0</td><td style=\"text-align: right;\">0.00</td><td style=\"text-align: right;\">0</td><td style=\"text-align: right;\">0.00</td></tr>\n",
       "</table>"
      ],
      "text/plain": [
       "<IPython.core.display.HTML object>"
      ]
     },
     "execution_count": 21,
     "metadata": {},
     "output_type": "execute_result"
    }
   ],
   "source": [
    "HTML(plt_obj.get_html())"
   ]
  },
  {
   "cell_type": "code",
   "execution_count": 22,
   "metadata": {
    "collapsed": false,
    "deletable": true,
    "editable": true
   },
   "outputs": [
    {
     "data": {
      "text/html": [
       "\n",
       "\n",
       "    <div class=\"bk-root\">\n",
       "        <div class=\"plotdiv\" id=\"b02dd6ac-8e6c-4cdf-8a92-ea54374ce183\"></div>\n",
       "    </div>\n",
       "<script type=\"text/javascript\">\n",
       "  \n",
       "  (function(global) {\n",
       "    function now() {\n",
       "      return new Date();\n",
       "    }\n",
       "  \n",
       "    if (typeof (window._bokeh_onload_callbacks) === \"undefined\") {\n",
       "      window._bokeh_onload_callbacks = [];\n",
       "    }\n",
       "  \n",
       "    function run_callbacks() {\n",
       "      window._bokeh_onload_callbacks.forEach(function(callback) { callback() });\n",
       "      delete window._bokeh_onload_callbacks\n",
       "      console.info(\"Bokeh: all callbacks have finished\");\n",
       "    }\n",
       "  \n",
       "    function load_libs(js_urls, callback) {\n",
       "      window._bokeh_onload_callbacks.push(callback);\n",
       "      if (window._bokeh_is_loading > 0) {\n",
       "        console.log(\"Bokeh: BokehJS is being loaded, scheduling callback at\", now());\n",
       "        return null;\n",
       "      }\n",
       "      if (js_urls == null || js_urls.length === 0) {\n",
       "        run_callbacks();\n",
       "        return null;\n",
       "      }\n",
       "      console.log(\"Bokeh: BokehJS not loaded, scheduling load and callback at\", now());\n",
       "      window._bokeh_is_loading = js_urls.length;\n",
       "      for (var i = 0; i < js_urls.length; i++) {\n",
       "        var url = js_urls[i];\n",
       "        var s = document.createElement('script');\n",
       "        s.src = url;\n",
       "        s.async = false;\n",
       "        s.onreadystatechange = s.onload = function() {\n",
       "          window._bokeh_is_loading--;\n",
       "          if (window._bokeh_is_loading === 0) {\n",
       "            console.log(\"Bokeh: all BokehJS libraries loaded\");\n",
       "            run_callbacks()\n",
       "          }\n",
       "        };\n",
       "        s.onerror = function() {\n",
       "          console.warn(\"failed to load library \" + url);\n",
       "        };\n",
       "        console.log(\"Bokeh: injecting script tag for BokehJS library: \", url);\n",
       "        document.getElementsByTagName(\"head\")[0].appendChild(s);\n",
       "      }\n",
       "    };var element = document.getElementById(\"b02dd6ac-8e6c-4cdf-8a92-ea54374ce183\");\n",
       "    if (element == null) {\n",
       "      console.log(\"Bokeh: ERROR: autoload.js configured with elementid 'b02dd6ac-8e6c-4cdf-8a92-ea54374ce183' but no matching script tag was found. \")\n",
       "      return false;\n",
       "    }\n",
       "  \n",
       "    var js_urls = [];\n",
       "  \n",
       "    var inline_js = [\n",
       "      function(Bokeh) {\n",
       "        Bokeh.$(function() {\n",
       "            var docs_json = {\"1d30777e-7635-48df-b693-e29a49b8ac70\":{\"roots\":{\"references\":[{\"attributes\":{\"dimension\":1,\"plot\":{\"id\":\"a44c7d66-0fea-4efc-8286-c33e5415f8ad\",\"subtype\":\"Figure\",\"type\":\"Plot\"},\"ticker\":{\"id\":\"f64dc989-f42e-4130-b18e-0fe2cb59e62d\",\"type\":\"BasicTicker\"}},\"id\":\"3fbd27fc-9433-4837-b7d7-72068bf82d14\",\"type\":\"Grid\"},{\"attributes\":{\"level\":\"glyph\",\"plot\":{\"id\":\"a44c7d66-0fea-4efc-8286-c33e5415f8ad\",\"subtype\":\"Figure\",\"type\":\"Plot\"},\"source\":{\"id\":\"3988ba3a-db1c-4dd6-bbfd-ca2eb76ae273\",\"type\":\"ColumnDataSource\"},\"text\":{\"field\":\"vals\"},\"text_align\":\"center\",\"text_baseline\":\"middle\",\"text_font_size\":{\"value\":\"8pt\"},\"x\":{\"field\":\"x\"},\"y\":{\"field\":\"y\"}},\"id\":\"d2179734-a8d6-4beb-ad6d-1cc4e379e0a3\",\"type\":\"LabelSet\"},{\"attributes\":{\"plot\":{\"id\":\"a44c7d66-0fea-4efc-8286-c33e5415f8ad\",\"subtype\":\"Figure\",\"type\":\"Plot\"}},\"id\":\"d377e713-e4a7-416a-8ff3-0d763200324f\",\"type\":\"HelpTool\"},{\"attributes\":{},\"id\":\"7c9b1cad-d1bd-4cf8-98a0-220c03becfac\",\"type\":\"BasicTickFormatter\"},{\"attributes\":{\"callback\":null,\"column_names\":[\"y\",\"x\",\"vals\"],\"data\":{\"vals\":[\"6_1503\",\"4_1699\",\"5_18\",\"26_1414\",\"64_1575\",\"10_2206\",\"7_1868\"],\"x\":[135771974,135915358,136243714,136398174,136494186,136501840,136682274],\"y\":[100.0,201.0,62.0,99.0,200.0,303.0,302.0]}},\"id\":\"98597662-20d4-4be7-a446-11d8f5312817\",\"type\":\"ColumnDataSource\"},{\"attributes\":{\"callback\":null,\"end\":136786630,\"start\":135757320},\"id\":\"5811b6e8-7b9c-494f-b989-2f9dbcbe3320\",\"type\":\"Range1d\"},{\"attributes\":{\"callback\":null,\"end\":400},\"id\":\"c6a1a5ad-2763-4780-8f74-7286f7f09bbc\",\"type\":\"Range1d\"},{\"attributes\":{\"plot\":{\"id\":\"a44c7d66-0fea-4efc-8286-c33e5415f8ad\",\"subtype\":\"Figure\",\"type\":\"Plot\"}},\"id\":\"f82edfdc-795d-484b-9ee9-c4d54db3591f\",\"type\":\"ResetTool\"},{\"attributes\":{},\"id\":\"235519d5-c36a-4b53-92ab-9905005c06a4\",\"type\":\"BasicTicker\"},{\"attributes\":{\"data_source\":{\"id\":\"6a7338b0-4916-40b3-bc59-85baf761d36c\",\"type\":\"ColumnDataSource\"},\"glyph\":{\"id\":\"f60f60d4-dbb8-4a8b-bce2-b4ad16a8f827\",\"type\":\"MultiLine\"},\"hover_glyph\":null,\"nonselection_glyph\":{\"id\":\"b87638ae-c3c8-4799-9d40-2b0e047a913e\",\"type\":\"MultiLine\"},\"selection_glyph\":null},\"id\":\"4deba9db-6bb7-4b3f-a6b0-09ec8b64600f\",\"type\":\"GlyphRenderer\"},{\"attributes\":{\"formatter\":{\"id\":\"6f34f446-ea71-403b-9721-f0a5f53952f0\",\"type\":\"BasicTickFormatter\"},\"plot\":{\"id\":\"a44c7d66-0fea-4efc-8286-c33e5415f8ad\",\"subtype\":\"Figure\",\"type\":\"Plot\"},\"ticker\":{\"id\":\"f64dc989-f42e-4130-b18e-0fe2cb59e62d\",\"type\":\"BasicTicker\"},\"visible\":null},\"id\":\"7ef37ec5-9bd5-4c42-a5c6-ae8eb12ef8a8\",\"type\":\"LinearAxis\"},{\"attributes\":{\"below\":[{\"id\":\"719e081e-6656-49ff-b70e-976c4e244e04\",\"type\":\"LinearAxis\"}],\"left\":[{\"id\":\"7ef37ec5-9bd5-4c42-a5c6-ae8eb12ef8a8\",\"type\":\"LinearAxis\"}],\"plot_height\":400,\"plot_width\":900,\"renderers\":[{\"id\":\"719e081e-6656-49ff-b70e-976c4e244e04\",\"type\":\"LinearAxis\"},{\"id\":\"e1bfa592-36f4-464f-9892-a9d8a74beb04\",\"type\":\"Grid\"},{\"id\":\"7ef37ec5-9bd5-4c42-a5c6-ae8eb12ef8a8\",\"type\":\"LinearAxis\"},{\"id\":\"3fbd27fc-9433-4837-b7d7-72068bf82d14\",\"type\":\"Grid\"},{\"id\":\"60884dca-0d48-43de-bc64-6b2c5cb7ebbe\",\"type\":\"BoxAnnotation\"},{\"id\":\"2db218a2-5d21-4236-b151-9c5677b11fed\",\"type\":\"GlyphRenderer\"},{\"id\":\"4deba9db-6bb7-4b3f-a6b0-09ec8b64600f\",\"type\":\"GlyphRenderer\"},{\"id\":\"d920964a-1ab5-411d-bece-ea32ef198f49\",\"type\":\"LabelSet\"},{\"id\":\"4c8391b3-ed94-44dc-8d76-ced4253c4ac1\",\"type\":\"GlyphRenderer\"},{\"id\":\"d2179734-a8d6-4beb-ad6d-1cc4e379e0a3\",\"type\":\"LabelSet\"}],\"title\":{\"id\":\"8aed9a55-a793-46a1-b237-5dad051f621b\",\"type\":\"Title\"},\"tool_events\":{\"id\":\"ca5aa126-1cfb-4923-87b7-fbc06217ffbe\",\"type\":\"ToolEvents\"},\"toolbar\":{\"id\":\"8aa28663-7cab-4daf-b37d-fccc32c3eb7a\",\"type\":\"Toolbar\"},\"toolbar_location\":null,\"x_range\":{\"id\":\"5811b6e8-7b9c-494f-b989-2f9dbcbe3320\",\"type\":\"Range1d\"},\"y_range\":{\"id\":\"c6a1a5ad-2763-4780-8f74-7286f7f09bbc\",\"type\":\"Range1d\"}},\"id\":\"a44c7d66-0fea-4efc-8286-c33e5415f8ad\",\"subtype\":\"Figure\",\"type\":\"Plot\"},{\"attributes\":{\"bottom_units\":\"screen\",\"fill_alpha\":{\"value\":0.5},\"fill_color\":{\"value\":\"lightgrey\"},\"left_units\":\"screen\",\"level\":\"overlay\",\"line_alpha\":{\"value\":1.0},\"line_color\":{\"value\":\"black\"},\"line_dash\":[4,4],\"line_width\":{\"value\":2},\"plot\":null,\"render_mode\":\"css\",\"right_units\":\"screen\",\"top_units\":\"screen\"},\"id\":\"60884dca-0d48-43de-bc64-6b2c5cb7ebbe\",\"type\":\"BoxAnnotation\"},{\"attributes\":{\"plot\":null,\"text\":null},\"id\":\"8aed9a55-a793-46a1-b237-5dad051f621b\",\"type\":\"Title\"},{\"attributes\":{\"level\":\"glyph\",\"plot\":{\"id\":\"a44c7d66-0fea-4efc-8286-c33e5415f8ad\",\"subtype\":\"Figure\",\"type\":\"Plot\"},\"source\":{\"id\":\"98597662-20d4-4be7-a446-11d8f5312817\",\"type\":\"ColumnDataSource\"},\"text\":{\"field\":\"vals\"},\"text_font_size\":{\"value\":\"9pt\"},\"text_font_style\":\"bold\",\"x\":{\"field\":\"x\"},\"y\":{\"field\":\"y\"}},\"id\":\"d920964a-1ab5-411d-bece-ea32ef198f49\",\"type\":\"LabelSet\"},{\"attributes\":{\"plot\":{\"id\":\"a44c7d66-0fea-4efc-8286-c33e5415f8ad\",\"subtype\":\"Figure\",\"type\":\"Plot\"}},\"id\":\"72d3c508-72a3-4862-842a-fdc96e20a10a\",\"type\":\"PanTool\"},{\"attributes\":{\"overlay\":{\"id\":\"60884dca-0d48-43de-bc64-6b2c5cb7ebbe\",\"type\":\"BoxAnnotation\"},\"plot\":{\"id\":\"a44c7d66-0fea-4efc-8286-c33e5415f8ad\",\"subtype\":\"Figure\",\"type\":\"Plot\"}},\"id\":\"13205051-b913-44ea-ab80-826a728aa107\",\"type\":\"BoxZoomTool\"},{\"attributes\":{\"bottom\":{\"field\":\"bottom\"},\"fill_color\":{\"value\":\"white\"},\"left\":{\"field\":\"left\"},\"right\":{\"field\":\"right\"},\"top\":{\"field\":\"top\"}},\"id\":\"d14df9fb-cdfb-4821-a1d8-17b270b2d397\",\"type\":\"Quad\"},{\"attributes\":{\"line_alpha\":{\"value\":0.1},\"line_color\":{\"value\":\"#1f77b4\"},\"xs\":{\"field\":\"xs\"},\"ys\":{\"field\":\"ys\"}},\"id\":\"b87638ae-c3c8-4799-9d40-2b0e047a913e\",\"type\":\"MultiLine\"},{\"attributes\":{\"callback\":null,\"column_names\":[\"y\",\"x\",\"vals\"],\"data\":{\"vals\":[\"RAB3GAP1\",\"ZRANB3\",\"R3HDM1\",\"UBXN4\",\"LCT\",\"MCM6\",\"DARS\"],\"x\":[135869057.0,136122878.0,136385961.0,136520911.0,136570082.5,136615621.5,136703738.0],\"y\":[360.0,360.0,360.0,360.0,360.0,360.0,360.0]}},\"id\":\"3988ba3a-db1c-4dd6-bbfd-ca2eb76ae273\",\"type\":\"ColumnDataSource\"},{\"attributes\":{\"formatter\":{\"id\":\"7c9b1cad-d1bd-4cf8-98a0-220c03becfac\",\"type\":\"BasicTickFormatter\"},\"plot\":{\"id\":\"a44c7d66-0fea-4efc-8286-c33e5415f8ad\",\"subtype\":\"Figure\",\"type\":\"Plot\"},\"ticker\":{\"id\":\"235519d5-c36a-4b53-92ab-9905005c06a4\",\"type\":\"BasicTicker\"}},\"id\":\"719e081e-6656-49ff-b70e-976c4e244e04\",\"type\":\"LinearAxis\"},{\"attributes\":{},\"id\":\"f64dc989-f42e-4130-b18e-0fe2cb59e62d\",\"type\":\"BasicTicker\"},{\"attributes\":{\"plot\":{\"id\":\"a44c7d66-0fea-4efc-8286-c33e5415f8ad\",\"subtype\":\"Figure\",\"type\":\"Plot\"}},\"id\":\"3f89cfe0-f116-48fa-9431-34d653487245\",\"type\":\"WheelZoomTool\"},{\"attributes\":{\"active_drag\":\"auto\",\"active_scroll\":\"auto\",\"active_tap\":\"auto\",\"tools\":[{\"id\":\"72d3c508-72a3-4862-842a-fdc96e20a10a\",\"type\":\"PanTool\"},{\"id\":\"3f89cfe0-f116-48fa-9431-34d653487245\",\"type\":\"WheelZoomTool\"},{\"id\":\"13205051-b913-44ea-ab80-826a728aa107\",\"type\":\"BoxZoomTool\"},{\"id\":\"dfa36b34-f2fd-499b-bb5d-6b1d703b0b0f\",\"type\":\"SaveTool\"},{\"id\":\"f82edfdc-795d-484b-9ee9-c4d54db3591f\",\"type\":\"ResetTool\"},{\"id\":\"d377e713-e4a7-416a-8ff3-0d763200324f\",\"type\":\"HelpTool\"}]},\"id\":\"8aa28663-7cab-4daf-b37d-fccc32c3eb7a\",\"type\":\"Toolbar\"},{\"attributes\":{\"bottom\":{\"field\":\"bottom\"},\"fill_alpha\":{\"value\":0.1},\"fill_color\":{\"value\":\"#1f77b4\"},\"left\":{\"field\":\"left\"},\"line_alpha\":{\"value\":0.1},\"line_color\":{\"value\":\"#1f77b4\"},\"right\":{\"field\":\"right\"},\"top\":{\"field\":\"top\"}},\"id\":\"54582dbe-8613-4773-991b-e3b33beb9333\",\"type\":\"Quad\"},{\"attributes\":{\"callback\":null,\"column_names\":[\"right\",\"bottom\",\"top\",\"left\"],\"data\":{\"bottom\":[345,345,345,345,345,345,345],\"left\":[135809835,135957574,136289083,136499189,136545415,136597196,136664254],\"right\":[135928279,136288182,136482839,136542633,136594750,136634047,136743222],\"top\":[375,375,375,375,375,375,375]}},\"id\":\"ca7d7b1b-e3f0-4feb-921b-26cd01ed84a7\",\"type\":\"ColumnDataSource\"},{\"attributes\":{},\"id\":\"ca5aa126-1cfb-4923-87b7-fbc06217ffbe\",\"type\":\"ToolEvents\"},{\"attributes\":{\"plot\":{\"id\":\"a44c7d66-0fea-4efc-8286-c33e5415f8ad\",\"subtype\":\"Figure\",\"type\":\"Plot\"}},\"id\":\"dfa36b34-f2fd-499b-bb5d-6b1d703b0b0f\",\"type\":\"SaveTool\"},{\"attributes\":{\"bottom\":{\"field\":\"bottom\"},\"fill_alpha\":{\"value\":0.1},\"fill_color\":{\"value\":\"#1f77b4\"},\"left\":{\"field\":\"left\"},\"line_alpha\":{\"value\":0.1},\"line_color\":{\"value\":\"#1f77b4\"},\"right\":{\"field\":\"right\"},\"top\":{\"field\":\"top\"}},\"id\":\"b475b0ff-e35a-4ab2-98a4-035ef2256e69\",\"type\":\"Quad\"},{\"attributes\":{\"plot\":{\"id\":\"a44c7d66-0fea-4efc-8286-c33e5415f8ad\",\"subtype\":\"Figure\",\"type\":\"Plot\"},\"ticker\":{\"id\":\"235519d5-c36a-4b53-92ab-9905005c06a4\",\"type\":\"BasicTicker\"}},\"id\":\"e1bfa592-36f4-464f-9892-a9d8a74beb04\",\"type\":\"Grid\"},{\"attributes\":{\"line_color\":{\"field\":\"line_color\"},\"xs\":{\"field\":\"xs\"},\"ys\":{\"field\":\"ys\"}},\"id\":\"f60f60d4-dbb8-4a8b-bce2-b4ad16a8f827\",\"type\":\"MultiLine\"},{\"attributes\":{\"callback\":null,\"column_names\":[\"xs\",\"ys\",\"line_color\"],\"data\":{\"line_color\":[\"black\",\"black\",\"black\",\"black\",\"black\",\"black\",\"black\",\"black\",\"black\",\"black\",\"black\",\"black\",\"black\",\"black\",\"black\",\"black\",\"black\",\"black\",\"black\",\"black\",\"black\",\"black\",\"black\",\"black\",\"black\",\"black\",\"black\",\"black\",\"black\",\"black\",\"black\",\"black\",\"black\",\"black\",\"black\",\"black\",\"black\",\"black\",\"black\",\"black\",\"black\",\"black\",\"black\",\"black\",\"black\",\"black\",\"black\",\"black\",\"black\",\"black\",\"black\",\"black\",\"black\",\"black\",\"black\",\"black\",\"black\",\"black\",\"black\",\"black\",\"black\",\"black\",\"black\",\"black\",\"black\",\"black\",\"black\",\"black\",\"black\",\"black\",\"black\",\"black\",\"black\",\"black\",\"black\",\"black\",\"black\",\"black\",\"black\",\"black\",\"black\",\"black\",\"black\",\"black\",\"black\",\"black\",\"black\",\"black\",\"black\",\"black\",\"black\",\"black\",\"black\",\"black\",\"black\",\"black\",\"black\",\"black\",\"black\",\"black\",\"black\",\"black\",\"black\",\"black\",\"black\",\"black\",\"black\",\"black\",\"black\",\"black\",\"black\",\"black\",\"black\",\"black\",\"black\",\"black\",\"black\",\"black\",\"black\",\"black\",\"black\",\"black\"],\"xs\":[[135771974,135771974],[135859371,135859371],[135877562,135877562],[136022798,136022798],[136058820,136058820],[136140304,136140304],[135915358,135915358],[135954405,135954405],[135995073,135995073],[135995079,135995079],[136243714,136243714],[136252958,136252958],[136276448,136276448],[136280207,136280207],[136351532,136351532],[136398174,136398174],[136402117,136402117],[136403749,136403749],[136409073,136409073],[136410299,136410299],[136413359,136413359],[136416855,136416855],[136416941,136416941],[136418348,136418348],[136419961,136419961],[136420690,136420690],[136422171,136422171],[136428460,136428460],[136430866,136430866],[136432103,136432103],[136437507,136437507],[136439090,136439090],[136439517,136439517],[136444123,136444123],[136445526,136445526],[136445869,136445869],[136455600,136455600],[136456642,136456642],[136462441,136462441],[136470714,136470714],[136474098,136474098],[136494186,136494186],[136495300,136495300],[136495619,136495619],[136499166,136499166],[136502792,136502792],[136503157,136503157],[136507039,136507039],[136511575,136511575],[136518103,136518103],[136521514,136521514],[136522675,136522675],[136522941,136522941],[136526981,136526981],[136535410,136535410],[136539122,136539122],[136544197,136544197],[136550109,136550109],[136551694,136551694],[136553188,136553188],[136553639,136553639],[136554800,136554800],[136557319,136557319],[136558157,136558157],[136569848,136569848],[136575199,136575199],[136576577,136576577],[136578536,136578536],[136580287,136580287],[136583192,136583192],[136586958,136586958],[136588478,136588478],[136589612,136589612],[136591178,136591178],[136591859,136591859],[136593760,136593760],[136594158,136594158],[136603276,136603276],[136603366,136603366],[136608231,136608231],[136609975,136609975],[136610598,136610598],[136611624,136611624],[136613780,136613780],[136614255,136614255],[136614813,136614813],[136617524,136617524],[136622216,136622216],[136625602,136625602],[136629911,136629911],[136630757,136630757],[136630989,136630989],[136631031,136631031],[136633771,136633771],[136636324,136636324],[136638216,136638216],[136640233,136640233],[136641882,136641882],[136643555,136643555],[136658345,136658345],[136670298,136670298],[136685228,136685228],[136696138,136696138],[136740900,136740900],[136765951,136765951],[136501840,136501840],[136505546,136505546],[136516748,136516748],[136522710,136522710],[136528004,136528004],[136539513,136539513],[136544752,136544752],[136546110,136546110],[136553529,136553529],[136555659,136555659],[136682274,136682274],[136691825,136691825],[136698098,136698098],[136721603,136721603],[136721995,136721995],[136755684,136755684],[136775898,136775898]],\"ys\":[[50,95],[50,95],[50,95],[50,95],[50,95],[50,95],[150,196],[150,196],[150,196],[150,196],[50,57],[50,57],[50,57],[50,57],[50,57],[50,94],[50,94],[50,94],[50,94],[50,94],[50,94],[50,94],[50,94],[50,94],[50,94],[50,94],[50,94],[50,94],[50,94],[50,94],[50,94],[50,94],[50,94],[50,94],[50,94],[50,94],[50,94],[50,94],[50,94],[50,94],[50,94],[150,195],[150,195],[150,195],[150,195],[150,195],[150,195],[150,195],[150,195],[150,195],[150,195],[150,195],[150,195],[150,195],[150,195],[150,195],[150,195],[150,195],[150,195],[150,195],[150,195],[150,195],[150,195],[150,195],[150,195],[150,195],[150,195],[150,195],[150,195],[150,195],[150,195],[150,195],[150,195],[150,195],[150,195],[150,195],[150,195],[150,195],[150,195],[150,195],[150,195],[150,195],[150,195],[150,195],[150,195],[150,195],[150,195],[150,195],[150,195],[150,195],[150,195],[150,195],[150,195],[150,195],[150,195],[150,195],[150,195],[150,195],[150,195],[150,195],[150,195],[150,195],[150,195],[150,195],[150,195],[250,298],[250,298],[250,298],[250,298],[250,298],[250,298],[250,298],[250,298],[250,298],[250,298],[250,297],[250,297],[250,297],[250,297],[250,297],[250,297],[250,297]]}},\"id\":\"6a7338b0-4916-40b3-bc59-85baf761d36c\",\"type\":\"ColumnDataSource\"},{\"attributes\":{\"bottom\":{\"field\":\"bottom\"},\"fill_color\":{\"field\":\"fill_color\"},\"left\":{\"field\":\"left\"},\"line_color\":{\"value\":null},\"right\":{\"field\":\"right\"},\"top\":{\"field\":\"top\"}},\"id\":\"02f926d9-8ceb-48c6-bff8-ed993d465fba\",\"type\":\"Quad\"},{\"attributes\":{\"data_source\":{\"id\":\"7dc6c10c-73fe-4233-9326-d7deb447a2f1\",\"type\":\"ColumnDataSource\"},\"glyph\":{\"id\":\"02f926d9-8ceb-48c6-bff8-ed993d465fba\",\"type\":\"Quad\"},\"hover_glyph\":null,\"nonselection_glyph\":{\"id\":\"54582dbe-8613-4773-991b-e3b33beb9333\",\"type\":\"Quad\"},\"selection_glyph\":null},\"id\":\"2db218a2-5d21-4236-b151-9c5677b11fed\",\"type\":\"GlyphRenderer\"},{\"attributes\":{\"data_source\":{\"id\":\"ca7d7b1b-e3f0-4feb-921b-26cd01ed84a7\",\"type\":\"ColumnDataSource\"},\"glyph\":{\"id\":\"d14df9fb-cdfb-4821-a1d8-17b270b2d397\",\"type\":\"Quad\"},\"hover_glyph\":null,\"nonselection_glyph\":{\"id\":\"b475b0ff-e35a-4ab2-98a4-035ef2256e69\",\"type\":\"Quad\"},\"selection_glyph\":null},\"id\":\"4c8391b3-ed94-44dc-8d76-ced4253c4ac1\",\"type\":\"GlyphRenderer\"},{\"attributes\":{},\"id\":\"6f34f446-ea71-403b-9721-f0a5f53952f0\",\"type\":\"BasicTickFormatter\"},{\"attributes\":{\"callback\":null,\"column_names\":[\"right\",\"bottom\",\"top\",\"left\",\"fill_color\"],\"data\":{\"bottom\":[50,150,50,50,150,250,250],\"fill_color\":[\"#61c461\",\"#61c461\",\"#ff00ff\",\"#61c461\",\"#61c461\",\"#808080\",\"#61c461\"],\"left\":[135771974,135915358,136243714,136398174,136494186,136501840,136682274],\"right\":[136140304,135995079,136351532,136474098,136765951,136555659,136775898],\"top\":[95,196,57,94,195,298,297]}},\"id\":\"7dc6c10c-73fe-4233-9326-d7deb447a2f1\",\"type\":\"ColumnDataSource\"}],\"root_ids\":[\"a44c7d66-0fea-4efc-8286-c33e5415f8ad\"]},\"title\":\"Bokeh Application\",\"version\":\"0.12.0\"}};\n",
       "            var render_items = [{\"docid\":\"1d30777e-7635-48df-b693-e29a49b8ac70\",\"elementid\":\"b02dd6ac-8e6c-4cdf-8a92-ea54374ce183\",\"modelid\":\"a44c7d66-0fea-4efc-8286-c33e5415f8ad\",\"notebook_comms_target\":\"109c8eb5-3a64-41bb-b4de-436cd12f728d\"}];\n",
       "            \n",
       "            Bokeh.embed.embed_items(docs_json, render_items);\n",
       "        });\n",
       "      },\n",
       "      function(Bokeh) {\n",
       "      }\n",
       "    ];\n",
       "  \n",
       "    function run_inline_js() {\n",
       "      for (var i = 0; i < inline_js.length; i++) {\n",
       "        inline_js[i](window.Bokeh);\n",
       "      }\n",
       "    }\n",
       "  \n",
       "    if (window._bokeh_is_loading === 0) {\n",
       "      console.log(\"Bokeh: BokehJS loaded, going straight to plotting\");\n",
       "      run_inline_js();\n",
       "    } else {\n",
       "      load_libs(js_urls, function() {\n",
       "        console.log(\"Bokeh: BokehJS plotting callback run at\", now());\n",
       "        run_inline_js();\n",
       "      });\n",
       "    }\n",
       "  }(this));\n",
       "</script>"
      ]
     },
     "metadata": {},
     "output_type": "display_data"
    },
    {
     "data": {
      "text/html": [
       "<p><code>&lt;Bokeh Notebook handle for <strong>In[22]</strong>&gt;</code></p>"
      ],
      "text/plain": [
       "<bokeh.io._CommsHandle at 0x7ff6b46b6dd0>"
      ]
     },
     "execution_count": 22,
     "metadata": {},
     "output_type": "execute_result"
    }
   ],
   "source": [
    "plt_obj = dm.superset_yes_no([dm.di_6_1503, dm.di_26_1414, dm.di_10_2206, dm.di_64_1575, dm.di_7_1868, dm.di_4_1699,\n",
    "                              di_5_18],\n",
    "                             [dm.di_4_911, dm.di_11_765, di_6_57, di_6_35, di_7_22, di_7_20],\n",
    "                             min_match=0.001)\n",
    "plt = plt_obj.do_plot()\n",
    "show(plt)"
   ]
  },
  {
   "cell_type": "code",
   "execution_count": 23,
   "metadata": {
    "collapsed": false,
    "deletable": true,
    "editable": true
   },
   "outputs": [
    {
     "data": {
      "text/html": [
       "<table>\n",
       "<thead><tr><th style=\"text-align:center\">index</th><th style=\"text-align:center\">first</th><th style=\"text-align:center\">length</th><th style=\"text-align:center\">snps</th><th style=\"text-align:center\" colspan=2>alleles</th><th style=\"text-align:center\" colspan=2>matches</th><th style=\"text-align:center\" colspan=2>afr</th><th style=\"text-align:center\" colspan=2>afx</th><th style=\"text-align:center\" colspan=2>amr</th><th style=\"text-align:center\" colspan=2>eas</th><th style=\"text-align:center\" colspan=2>eur</th><th style=\"text-align:center\" colspan=2>sas</th><th style=\"text-align:center\" colspan=2>sax</th></tr></thead>\n",
       "<tr class=\"even\"><td style=\"text-align: right;\">353921</td><td style=\"text-align: right;\">136,501,840</td><td style=\"text-align: right;\">53,819</td><td style=\"text-align: right;\">10</td><td style=\"text-align: right;\">2206</td><td style=\"text-align: right;\">0.00</td><td style=\"text-align: right;\">1</td><td style=\"text-align: right;\">1.00</td><td style=\"text-align: right;\">0</td><td style=\"text-align: right;\">0.00</td><td style=\"text-align: right;\">0</td><td style=\"text-align: right;\">0.00</td><td style=\"text-align: right;\">1</td><td style=\"text-align: right;\">8.71</td><td style=\"text-align: right;\">0</td><td style=\"text-align: right;\">0.00</td><td style=\"text-align: right;\">0</td><td style=\"text-align: right;\">0.00</td><td style=\"text-align: right;\">0</td><td style=\"text-align: right;\">0.00</td><td style=\"text-align: right;\">0</td><td style=\"text-align: right;\">0.00</td></tr>\n",
       "<tr><td style=\"text-align: right;\">354170</td><td style=\"text-align: right;\">136,682,274</td><td style=\"text-align: right;\">93,624</td><td style=\"text-align: right;\">7</td><td style=\"text-align: right;\">1868</td><td style=\"text-align: right;\">0.00</td><td style=\"text-align: right;\">1</td><td style=\"text-align: right;\">1.00</td><td style=\"text-align: right;\">0</td><td style=\"text-align: right;\">0.00</td><td style=\"text-align: right;\">0</td><td style=\"text-align: right;\">0.00</td><td style=\"text-align: right;\">1</td><td style=\"text-align: right;\">8.71</td><td style=\"text-align: right;\">0</td><td style=\"text-align: right;\">0.00</td><td style=\"text-align: right;\">0</td><td style=\"text-align: right;\">0.00</td><td style=\"text-align: right;\">0</td><td style=\"text-align: right;\">0.00</td><td style=\"text-align: right;\">0</td><td style=\"text-align: right;\">0.00</td></tr>\n",
       "<tr class=\"even\"><td style=\"text-align: right;\">353462</td><td style=\"text-align: right;\">135,915,358</td><td style=\"text-align: right;\">79,721</td><td style=\"text-align: right;\">4</td><td style=\"text-align: right;\">1699</td><td style=\"text-align: right;\">0.00</td><td style=\"text-align: right;\">1</td><td style=\"text-align: right;\">1.00</td><td style=\"text-align: right;\">0</td><td style=\"text-align: right;\">0.00</td><td style=\"text-align: right;\">0</td><td style=\"text-align: right;\">0.00</td><td style=\"text-align: right;\">1</td><td style=\"text-align: right;\">8.71</td><td style=\"text-align: right;\">0</td><td style=\"text-align: right;\">0.00</td><td style=\"text-align: right;\">0</td><td style=\"text-align: right;\">0.00</td><td style=\"text-align: right;\">0</td><td style=\"text-align: right;\">0.00</td><td style=\"text-align: right;\">0</td><td style=\"text-align: right;\">0.00</td></tr>\n",
       "<tr><td style=\"text-align: right;\">353901</td><td style=\"text-align: right;\">136,494,186</td><td style=\"text-align: right;\">271,765</td><td style=\"text-align: right;\">64</td><td style=\"text-align: right;\">1575</td><td style=\"text-align: right;\">0.00</td><td style=\"text-align: right;\">1</td><td style=\"text-align: right;\">1.00</td><td style=\"text-align: right;\">0</td><td style=\"text-align: right;\">0.00</td><td style=\"text-align: right;\">0</td><td style=\"text-align: right;\">0.00</td><td style=\"text-align: right;\">1</td><td style=\"text-align: right;\">8.71</td><td style=\"text-align: right;\">0</td><td style=\"text-align: right;\">0.00</td><td style=\"text-align: right;\">0</td><td style=\"text-align: right;\">0.00</td><td style=\"text-align: right;\">0</td><td style=\"text-align: right;\">0.00</td><td style=\"text-align: right;\">0</td><td style=\"text-align: right;\">0.00</td></tr>\n",
       "<tr class=\"even\"><td style=\"text-align: right;\">353283</td><td style=\"text-align: right;\">135,771,974</td><td style=\"text-align: right;\">368,330</td><td style=\"text-align: right;\">6</td><td style=\"text-align: right;\">1503</td><td style=\"text-align: right;\">0.00</td><td style=\"text-align: right;\">1</td><td style=\"text-align: right;\">1.00</td><td style=\"text-align: right;\">0</td><td style=\"text-align: right;\">0.00</td><td style=\"text-align: right;\">0</td><td style=\"text-align: right;\">0.00</td><td style=\"text-align: right;\">1</td><td style=\"text-align: right;\">8.71</td><td style=\"text-align: right;\">0</td><td style=\"text-align: right;\">0.00</td><td style=\"text-align: right;\">0</td><td style=\"text-align: right;\">0.00</td><td style=\"text-align: right;\">0</td><td style=\"text-align: right;\">0.00</td><td style=\"text-align: right;\">0</td><td style=\"text-align: right;\">0.00</td></tr>\n",
       "<tr><td style=\"text-align: right;\">353797</td><td style=\"text-align: right;\">136,398,174</td><td style=\"text-align: right;\">75,924</td><td style=\"text-align: right;\">26</td><td style=\"text-align: right;\">1414</td><td style=\"text-align: right;\">0.00</td><td style=\"text-align: right;\">1</td><td style=\"text-align: right;\">1.00</td><td style=\"text-align: right;\">0</td><td style=\"text-align: right;\">0.00</td><td style=\"text-align: right;\">0</td><td style=\"text-align: right;\">0.00</td><td style=\"text-align: right;\">1</td><td style=\"text-align: right;\">8.71</td><td style=\"text-align: right;\">0</td><td style=\"text-align: right;\">0.00</td><td style=\"text-align: right;\">0</td><td style=\"text-align: right;\">0.00</td><td style=\"text-align: right;\">0</td><td style=\"text-align: right;\">0.00</td><td style=\"text-align: right;\">0</td><td style=\"text-align: right;\">0.00</td></tr>\n",
       "<tr class=\"even\"><td style=\"text-align: right;\">353692</td><td style=\"text-align: right;\">136,243,714</td><td style=\"text-align: right;\">107,818</td><td style=\"text-align: right;\">5</td><td style=\"text-align: right;\">18</td><td style=\"text-align: right;\">0.06</td><td style=\"text-align: right;\">1</td><td style=\"text-align: right;\">1.00</td><td style=\"text-align: right;\">0</td><td style=\"text-align: right;\">0.00</td><td style=\"text-align: right;\">0</td><td style=\"text-align: right;\">0.00</td><td style=\"text-align: right;\">1</td><td style=\"text-align: right;\">8.71</td><td style=\"text-align: right;\">0</td><td style=\"text-align: right;\">0.00</td><td style=\"text-align: right;\">0</td><td style=\"text-align: right;\">0.00</td><td style=\"text-align: right;\">0</td><td style=\"text-align: right;\">0.00</td><td style=\"text-align: right;\">0</td><td style=\"text-align: right;\">0.00</td></tr>\n",
       "</table>"
      ],
      "text/plain": [
       "<IPython.core.display.HTML object>"
      ]
     },
     "execution_count": 23,
     "metadata": {},
     "output_type": "execute_result"
    }
   ],
   "source": [
    "HTML(plt_obj.get_html())"
   ]
  },
  {
   "cell_type": "code",
   "execution_count": 24,
   "metadata": {
    "collapsed": false,
    "deletable": true,
    "editable": true
   },
   "outputs": [
    {
     "data": {
      "text/html": [
       "\n",
       "\n",
       "    <div class=\"bk-root\">\n",
       "        <div class=\"plotdiv\" id=\"f0a5f5c1-1cff-468e-b0eb-1c7c8acfcc57\"></div>\n",
       "    </div>\n",
       "<script type=\"text/javascript\">\n",
       "  \n",
       "  (function(global) {\n",
       "    function now() {\n",
       "      return new Date();\n",
       "    }\n",
       "  \n",
       "    if (typeof (window._bokeh_onload_callbacks) === \"undefined\") {\n",
       "      window._bokeh_onload_callbacks = [];\n",
       "    }\n",
       "  \n",
       "    function run_callbacks() {\n",
       "      window._bokeh_onload_callbacks.forEach(function(callback) { callback() });\n",
       "      delete window._bokeh_onload_callbacks\n",
       "      console.info(\"Bokeh: all callbacks have finished\");\n",
       "    }\n",
       "  \n",
       "    function load_libs(js_urls, callback) {\n",
       "      window._bokeh_onload_callbacks.push(callback);\n",
       "      if (window._bokeh_is_loading > 0) {\n",
       "        console.log(\"Bokeh: BokehJS is being loaded, scheduling callback at\", now());\n",
       "        return null;\n",
       "      }\n",
       "      if (js_urls == null || js_urls.length === 0) {\n",
       "        run_callbacks();\n",
       "        return null;\n",
       "      }\n",
       "      console.log(\"Bokeh: BokehJS not loaded, scheduling load and callback at\", now());\n",
       "      window._bokeh_is_loading = js_urls.length;\n",
       "      for (var i = 0; i < js_urls.length; i++) {\n",
       "        var url = js_urls[i];\n",
       "        var s = document.createElement('script');\n",
       "        s.src = url;\n",
       "        s.async = false;\n",
       "        s.onreadystatechange = s.onload = function() {\n",
       "          window._bokeh_is_loading--;\n",
       "          if (window._bokeh_is_loading === 0) {\n",
       "            console.log(\"Bokeh: all BokehJS libraries loaded\");\n",
       "            run_callbacks()\n",
       "          }\n",
       "        };\n",
       "        s.onerror = function() {\n",
       "          console.warn(\"failed to load library \" + url);\n",
       "        };\n",
       "        console.log(\"Bokeh: injecting script tag for BokehJS library: \", url);\n",
       "        document.getElementsByTagName(\"head\")[0].appendChild(s);\n",
       "      }\n",
       "    };var element = document.getElementById(\"f0a5f5c1-1cff-468e-b0eb-1c7c8acfcc57\");\n",
       "    if (element == null) {\n",
       "      console.log(\"Bokeh: ERROR: autoload.js configured with elementid 'f0a5f5c1-1cff-468e-b0eb-1c7c8acfcc57' but no matching script tag was found. \")\n",
       "      return false;\n",
       "    }\n",
       "  \n",
       "    var js_urls = [];\n",
       "  \n",
       "    var inline_js = [\n",
       "      function(Bokeh) {\n",
       "        Bokeh.$(function() {\n",
       "            var docs_json = {\"0bc055e2-2ec0-45de-9115-ec415bd51cab\":{\"roots\":{\"references\":[{\"attributes\":{\"callback\":null,\"column_names\":[\"right\",\"bottom\",\"top\",\"left\",\"fill_color\"],\"data\":{\"bottom\":[50,150,250,150,250,350,50,350],\"fill_color\":[\"#ff0000\",\"#61c461\",\"#61c461\",\"#61c461\",\"#61c461\",\"#808080\",\"#ff0000\",\"#61c461\"],\"left\":[135759628,135771974,135915358,136398174,136494186,136501840,136608339,136682274],\"right\":[136443550,136140304,135995079,136474098,136765951,136555659,136738273,136775898],\"top\":[62,195,296,194,295,398,61,397]}},\"id\":\"e8e46a96-5fc9-499c-bb94-f5fd6c7bcc3f\",\"type\":\"ColumnDataSource\"},{\"attributes\":{\"bottom\":{\"field\":\"bottom\"},\"fill_alpha\":{\"value\":0.1},\"fill_color\":{\"value\":\"#1f77b4\"},\"left\":{\"field\":\"left\"},\"line_alpha\":{\"value\":0.1},\"line_color\":{\"value\":\"#1f77b4\"},\"right\":{\"field\":\"right\"},\"top\":{\"field\":\"top\"}},\"id\":\"e32a0799-4e16-45c3-91b5-ab4c7ae99d6e\",\"type\":\"Quad\"},{\"attributes\":{\"dimension\":1,\"plot\":{\"id\":\"8e762247-f769-44fd-a888-5713c2198ecc\",\"subtype\":\"Figure\",\"type\":\"Plot\"},\"ticker\":{\"id\":\"9fe57a47-3196-4ddd-b413-747fd3073b94\",\"type\":\"BasicTicker\"}},\"id\":\"648f1886-4a58-4eb6-88d9-7a88fab87681\",\"type\":\"Grid\"},{\"attributes\":{\"callback\":null,\"column_names\":[\"y\",\"x\",\"vals\"],\"data\":{\"vals\":[\"RAB3GAP1\",\"ZRANB3\",\"R3HDM1\",\"UBXN4\",\"LCT\",\"MCM6\",\"DARS\"],\"x\":[135869057.0,136122878.0,136385961.0,136520911.0,136570082.5,136615621.5,136703738.0],\"y\":[460.0,460.0,460.0,460.0,460.0,460.0,460.0]}},\"id\":\"4b99910f-fb54-47ee-98e1-39eb038cc875\",\"type\":\"ColumnDataSource\"},{\"attributes\":{},\"id\":\"a959df09-ec77-4604-a37a-81e703df8902\",\"type\":\"BasicTicker\"},{\"attributes\":{\"bottom\":{\"field\":\"bottom\"},\"fill_color\":{\"field\":\"fill_color\"},\"left\":{\"field\":\"left\"},\"line_color\":{\"value\":null},\"right\":{\"field\":\"right\"},\"top\":{\"field\":\"top\"}},\"id\":\"bd96146b-db7d-40d1-a066-03fbc2a333ee\",\"type\":\"Quad\"},{\"attributes\":{\"plot\":{\"id\":\"8e762247-f769-44fd-a888-5713c2198ecc\",\"subtype\":\"Figure\",\"type\":\"Plot\"}},\"id\":\"78130477-369c-46cf-ae73-dbe99c53ac45\",\"type\":\"WheelZoomTool\"},{\"attributes\":{\"formatter\":{\"id\":\"0e711063-9b17-4180-98bd-f897c3227535\",\"type\":\"BasicTickFormatter\"},\"plot\":{\"id\":\"8e762247-f769-44fd-a888-5713c2198ecc\",\"subtype\":\"Figure\",\"type\":\"Plot\"},\"ticker\":{\"id\":\"a959df09-ec77-4604-a37a-81e703df8902\",\"type\":\"BasicTicker\"}},\"id\":\"22d9d744-c2bf-46e3-b6ab-07e6201d3326\",\"type\":\"LinearAxis\"},{\"attributes\":{\"callback\":null,\"column_names\":[\"y\",\"x\",\"vals\"],\"data\":{\"vals\":[\"12_32\",\"6_1503\",\"4_1699\",\"26_1414\",\"64_1575\",\"10_2206\",\"7_31\",\"7_1868\"],\"x\":[135759628,135771974,135915358,136398174,136494186,136501840,136608339,136682274],\"y\":[67.0,200.0,301.0,199.0,300.0,403.0,66.0,402.0]}},\"id\":\"9392d2ec-d7df-4b56-9569-52ead54dd890\",\"type\":\"ColumnDataSource\"},{\"attributes\":{\"plot\":null,\"text\":null},\"id\":\"52bb5718-1769-4743-a320-1d4c58d6a57b\",\"type\":\"Title\"},{\"attributes\":{\"plot\":{\"id\":\"8e762247-f769-44fd-a888-5713c2198ecc\",\"subtype\":\"Figure\",\"type\":\"Plot\"}},\"id\":\"a37cad57-bedd-41f6-917b-57debdf8547c\",\"type\":\"ResetTool\"},{\"attributes\":{\"active_drag\":\"auto\",\"active_scroll\":\"auto\",\"active_tap\":\"auto\",\"tools\":[{\"id\":\"2c2d91d6-8f9a-4eea-86c9-cd7547e09ef0\",\"type\":\"PanTool\"},{\"id\":\"78130477-369c-46cf-ae73-dbe99c53ac45\",\"type\":\"WheelZoomTool\"},{\"id\":\"1c71750f-bf74-4007-9922-15b2d8968f50\",\"type\":\"BoxZoomTool\"},{\"id\":\"ca8d6599-8b66-4938-a303-a10e049f2a1e\",\"type\":\"SaveTool\"},{\"id\":\"a37cad57-bedd-41f6-917b-57debdf8547c\",\"type\":\"ResetTool\"},{\"id\":\"f758e59d-fd30-49b9-b9d5-8d906397317b\",\"type\":\"HelpTool\"}]},\"id\":\"e4c8118a-c8ea-490e-b7c9-8bacedbb97a0\",\"type\":\"Toolbar\"},{\"attributes\":{\"plot\":{\"id\":\"8e762247-f769-44fd-a888-5713c2198ecc\",\"subtype\":\"Figure\",\"type\":\"Plot\"}},\"id\":\"ca8d6599-8b66-4938-a303-a10e049f2a1e\",\"type\":\"SaveTool\"},{\"attributes\":{},\"id\":\"9fe57a47-3196-4ddd-b413-747fd3073b94\",\"type\":\"BasicTicker\"},{\"attributes\":{\"data_source\":{\"id\":\"e8e46a96-5fc9-499c-bb94-f5fd6c7bcc3f\",\"type\":\"ColumnDataSource\"},\"glyph\":{\"id\":\"bd96146b-db7d-40d1-a066-03fbc2a333ee\",\"type\":\"Quad\"},\"hover_glyph\":null,\"nonselection_glyph\":{\"id\":\"79e4a1b1-2173-42c2-a517-8a0092efc38e\",\"type\":\"Quad\"},\"selection_glyph\":null},\"id\":\"34d071d2-2277-43b1-87f3-c6285c98dfd7\",\"type\":\"GlyphRenderer\"},{\"attributes\":{\"below\":[{\"id\":\"22d9d744-c2bf-46e3-b6ab-07e6201d3326\",\"type\":\"LinearAxis\"}],\"left\":[{\"id\":\"575040d8-6d7a-4d6d-b2e8-ebed0eff96f2\",\"type\":\"LinearAxis\"}],\"plot_height\":500,\"plot_width\":900,\"renderers\":[{\"id\":\"22d9d744-c2bf-46e3-b6ab-07e6201d3326\",\"type\":\"LinearAxis\"},{\"id\":\"92877e9b-83c7-4623-8b84-92520491e9a3\",\"type\":\"Grid\"},{\"id\":\"575040d8-6d7a-4d6d-b2e8-ebed0eff96f2\",\"type\":\"LinearAxis\"},{\"id\":\"648f1886-4a58-4eb6-88d9-7a88fab87681\",\"type\":\"Grid\"},{\"id\":\"2de8ad16-fd26-4be4-a3cf-32d3190576f0\",\"type\":\"BoxAnnotation\"},{\"id\":\"34d071d2-2277-43b1-87f3-c6285c98dfd7\",\"type\":\"GlyphRenderer\"},{\"id\":\"dd757153-3f04-4e20-9c94-498558db9c66\",\"type\":\"GlyphRenderer\"},{\"id\":\"63e5b879-c379-42db-a037-abc318174181\",\"type\":\"LabelSet\"},{\"id\":\"82de409c-005b-4405-840d-2c567f829703\",\"type\":\"GlyphRenderer\"},{\"id\":\"dd927c43-3551-4585-bd42-cd5b84d958df\",\"type\":\"LabelSet\"}],\"title\":{\"id\":\"52bb5718-1769-4743-a320-1d4c58d6a57b\",\"type\":\"Title\"},\"tool_events\":{\"id\":\"ea5071c3-9dbb-43b2-9513-e9d757327c9d\",\"type\":\"ToolEvents\"},\"toolbar\":{\"id\":\"e4c8118a-c8ea-490e-b7c9-8bacedbb97a0\",\"type\":\"Toolbar\"},\"toolbar_location\":null,\"x_range\":{\"id\":\"d2473a1b-b134-43d8-a80a-1172e5259b67\",\"type\":\"Range1d\"},\"y_range\":{\"id\":\"cb3cfb8b-54ec-4c2d-ad09-0bd9e87a6413\",\"type\":\"Range1d\"}},\"id\":\"8e762247-f769-44fd-a888-5713c2198ecc\",\"subtype\":\"Figure\",\"type\":\"Plot\"},{\"attributes\":{\"callback\":null,\"end\":500},\"id\":\"cb3cfb8b-54ec-4c2d-ad09-0bd9e87a6413\",\"type\":\"Range1d\"},{\"attributes\":{\"callback\":null,\"column_names\":[\"right\",\"bottom\",\"top\",\"left\"],\"data\":{\"bottom\":[445,445,445,445,445,445,445],\"left\":[135809835,135957574,136289083,136499189,136545415,136597196,136664254],\"right\":[135928279,136288182,136482839,136542633,136594750,136634047,136743222],\"top\":[475,475,475,475,475,475,475]}},\"id\":\"b4b21b5b-d504-4d82-82e6-5e4c6151f220\",\"type\":\"ColumnDataSource\"},{\"attributes\":{},\"id\":\"76c75789-43f3-428a-aa9c-f4842f826d07\",\"type\":\"BasicTickFormatter\"},{\"attributes\":{\"plot\":{\"id\":\"8e762247-f769-44fd-a888-5713c2198ecc\",\"subtype\":\"Figure\",\"type\":\"Plot\"}},\"id\":\"f758e59d-fd30-49b9-b9d5-8d906397317b\",\"type\":\"HelpTool\"},{\"attributes\":{},\"id\":\"ea5071c3-9dbb-43b2-9513-e9d757327c9d\",\"type\":\"ToolEvents\"},{\"attributes\":{\"bottom\":{\"field\":\"bottom\"},\"fill_alpha\":{\"value\":0.1},\"fill_color\":{\"value\":\"#1f77b4\"},\"left\":{\"field\":\"left\"},\"line_alpha\":{\"value\":0.1},\"line_color\":{\"value\":\"#1f77b4\"},\"right\":{\"field\":\"right\"},\"top\":{\"field\":\"top\"}},\"id\":\"79e4a1b1-2173-42c2-a517-8a0092efc38e\",\"type\":\"Quad\"},{\"attributes\":{\"level\":\"glyph\",\"plot\":{\"id\":\"8e762247-f769-44fd-a888-5713c2198ecc\",\"subtype\":\"Figure\",\"type\":\"Plot\"},\"source\":{\"id\":\"4b99910f-fb54-47ee-98e1-39eb038cc875\",\"type\":\"ColumnDataSource\"},\"text\":{\"field\":\"vals\"},\"text_align\":\"center\",\"text_baseline\":\"middle\",\"text_font_size\":{\"value\":\"8pt\"},\"x\":{\"field\":\"x\"},\"y\":{\"field\":\"y\"}},\"id\":\"dd927c43-3551-4585-bd42-cd5b84d958df\",\"type\":\"LabelSet\"},{\"attributes\":{\"plot\":{\"id\":\"8e762247-f769-44fd-a888-5713c2198ecc\",\"subtype\":\"Figure\",\"type\":\"Plot\"},\"ticker\":{\"id\":\"a959df09-ec77-4604-a37a-81e703df8902\",\"type\":\"BasicTicker\"}},\"id\":\"92877e9b-83c7-4623-8b84-92520491e9a3\",\"type\":\"Grid\"},{\"attributes\":{\"data_source\":{\"id\":\"78249894-9c25-4302-a94a-1a236e333257\",\"type\":\"ColumnDataSource\"},\"glyph\":{\"id\":\"a8b89869-4181-4255-badd-adc31e7432f2\",\"type\":\"MultiLine\"},\"hover_glyph\":null,\"nonselection_glyph\":{\"id\":\"f55f36ee-2644-4cf8-bb82-b80827fc3b77\",\"type\":\"MultiLine\"},\"selection_glyph\":null},\"id\":\"dd757153-3f04-4e20-9c94-498558db9c66\",\"type\":\"GlyphRenderer\"},{\"attributes\":{\"callback\":null,\"end\":136786630,\"start\":135757320},\"id\":\"d2473a1b-b134-43d8-a80a-1172e5259b67\",\"type\":\"Range1d\"},{\"attributes\":{\"line_color\":{\"field\":\"line_color\"},\"xs\":{\"field\":\"xs\"},\"ys\":{\"field\":\"ys\"}},\"id\":\"a8b89869-4181-4255-badd-adc31e7432f2\",\"type\":\"MultiLine\"},{\"attributes\":{\"formatter\":{\"id\":\"76c75789-43f3-428a-aa9c-f4842f826d07\",\"type\":\"BasicTickFormatter\"},\"plot\":{\"id\":\"8e762247-f769-44fd-a888-5713c2198ecc\",\"subtype\":\"Figure\",\"type\":\"Plot\"},\"ticker\":{\"id\":\"9fe57a47-3196-4ddd-b413-747fd3073b94\",\"type\":\"BasicTicker\"},\"visible\":null},\"id\":\"575040d8-6d7a-4d6d-b2e8-ebed0eff96f2\",\"type\":\"LinearAxis\"},{\"attributes\":{\"bottom\":{\"field\":\"bottom\"},\"fill_color\":{\"value\":\"white\"},\"left\":{\"field\":\"left\"},\"right\":{\"field\":\"right\"},\"top\":{\"field\":\"top\"}},\"id\":\"6aef180f-1be6-46b2-879b-4be6ed409d1f\",\"type\":\"Quad\"},{\"attributes\":{\"data_source\":{\"id\":\"b4b21b5b-d504-4d82-82e6-5e4c6151f220\",\"type\":\"ColumnDataSource\"},\"glyph\":{\"id\":\"6aef180f-1be6-46b2-879b-4be6ed409d1f\",\"type\":\"Quad\"},\"hover_glyph\":null,\"nonselection_glyph\":{\"id\":\"e32a0799-4e16-45c3-91b5-ab4c7ae99d6e\",\"type\":\"Quad\"},\"selection_glyph\":null},\"id\":\"82de409c-005b-4405-840d-2c567f829703\",\"type\":\"GlyphRenderer\"},{\"attributes\":{\"callback\":null,\"column_names\":[\"xs\",\"ys\",\"line_color\"],\"data\":{\"line_color\":[\"black\",\"black\",\"black\",\"black\",\"black\",\"black\",\"black\",\"black\",\"black\",\"black\",\"black\",\"black\",\"black\",\"black\",\"black\",\"black\",\"black\",\"black\",\"black\",\"black\",\"black\",\"black\",\"black\",\"black\",\"black\",\"black\",\"black\",\"black\",\"black\",\"black\",\"black\",\"black\",\"black\",\"black\",\"black\",\"black\",\"black\",\"black\",\"black\",\"black\",\"black\",\"black\",\"black\",\"black\",\"black\",\"black\",\"black\",\"black\",\"black\",\"black\",\"black\",\"black\",\"black\",\"black\",\"black\",\"black\",\"black\",\"black\",\"black\",\"black\",\"black\",\"black\",\"black\",\"black\",\"black\",\"black\",\"black\",\"black\",\"black\",\"black\",\"black\",\"black\",\"black\",\"black\",\"black\",\"black\",\"black\",\"black\",\"black\",\"black\",\"black\",\"black\",\"black\",\"black\",\"black\",\"black\",\"black\",\"black\",\"black\",\"black\",\"black\",\"black\",\"black\",\"black\",\"black\",\"black\",\"black\",\"black\",\"black\",\"black\",\"black\",\"black\",\"black\",\"black\",\"black\",\"black\",\"black\",\"black\",\"black\",\"black\",\"black\",\"black\",\"black\",\"black\",\"black\",\"black\",\"black\",\"black\",\"black\",\"black\",\"black\",\"black\",\"black\",\"black\",\"black\",\"black\",\"black\",\"black\",\"black\",\"black\",\"black\",\"black\",\"black\",\"black\",\"black\",\"black\"],\"xs\":[[135759628,135759628],[135822319,135822319],[135846209,135846209],[135959550,135959550],[136147148,136147148],[136187567,136187567],[136191148,136191148],[136227526,136227526],[136248973,136248973],[136328222,136328222],[136337566,136337566],[136443550,136443550],[135771974,135771974],[135859371,135859371],[135877562,135877562],[136022798,136022798],[136058820,136058820],[136140304,136140304],[135915358,135915358],[135954405,135954405],[135995073,135995073],[135995079,135995079],[136398174,136398174],[136402117,136402117],[136403749,136403749],[136409073,136409073],[136410299,136410299],[136413359,136413359],[136416855,136416855],[136416941,136416941],[136418348,136418348],[136419961,136419961],[136420690,136420690],[136422171,136422171],[136428460,136428460],[136430866,136430866],[136432103,136432103],[136437507,136437507],[136439090,136439090],[136439517,136439517],[136444123,136444123],[136445526,136445526],[136445869,136445869],[136455600,136455600],[136456642,136456642],[136462441,136462441],[136470714,136470714],[136474098,136474098],[136494186,136494186],[136495300,136495300],[136495619,136495619],[136499166,136499166],[136502792,136502792],[136503157,136503157],[136507039,136507039],[136511575,136511575],[136518103,136518103],[136521514,136521514],[136522675,136522675],[136522941,136522941],[136526981,136526981],[136535410,136535410],[136539122,136539122],[136544197,136544197],[136550109,136550109],[136551694,136551694],[136553188,136553188],[136553639,136553639],[136554800,136554800],[136557319,136557319],[136558157,136558157],[136569848,136569848],[136575199,136575199],[136576577,136576577],[136578536,136578536],[136580287,136580287],[136583192,136583192],[136586958,136586958],[136588478,136588478],[136589612,136589612],[136591178,136591178],[136591859,136591859],[136593760,136593760],[136594158,136594158],[136603276,136603276],[136603366,136603366],[136608231,136608231],[136609975,136609975],[136610598,136610598],[136611624,136611624],[136613780,136613780],[136614255,136614255],[136614813,136614813],[136617524,136617524],[136622216,136622216],[136625602,136625602],[136629911,136629911],[136630757,136630757],[136630989,136630989],[136631031,136631031],[136633771,136633771],[136636324,136636324],[136638216,136638216],[136640233,136640233],[136641882,136641882],[136643555,136643555],[136658345,136658345],[136670298,136670298],[136685228,136685228],[136696138,136696138],[136740900,136740900],[136765951,136765951],[136501840,136501840],[136505546,136505546],[136516748,136516748],[136522710,136522710],[136528004,136528004],[136539513,136539513],[136544752,136544752],[136546110,136546110],[136553529,136553529],[136555659,136555659],[136608339,136608339],[136637201,136637201],[136645466,136645466],[136657649,136657649],[136669367,136669367],[136671087,136671087],[136738273,136738273],[136682274,136682274],[136691825,136691825],[136698098,136698098],[136721603,136721603],[136721995,136721995],[136755684,136755684],[136775898,136775898]],\"ys\":[[50,62],[50,62],[50,62],[50,62],[50,62],[50,62],[50,62],[50,62],[50,62],[50,62],[50,62],[50,62],[150,195],[150,195],[150,195],[150,195],[150,195],[150,195],[250,296],[250,296],[250,296],[250,296],[150,194],[150,194],[150,194],[150,194],[150,194],[150,194],[150,194],[150,194],[150,194],[150,194],[150,194],[150,194],[150,194],[150,194],[150,194],[150,194],[150,194],[150,194],[150,194],[150,194],[150,194],[150,194],[150,194],[150,194],[150,194],[150,194],[250,295],[250,295],[250,295],[250,295],[250,295],[250,295],[250,295],[250,295],[250,295],[250,295],[250,295],[250,295],[250,295],[250,295],[250,295],[250,295],[250,295],[250,295],[250,295],[250,295],[250,295],[250,295],[250,295],[250,295],[250,295],[250,295],[250,295],[250,295],[250,295],[250,295],[250,295],[250,295],[250,295],[250,295],[250,295],[250,295],[250,295],[250,295],[250,295],[250,295],[250,295],[250,295],[250,295],[250,295],[250,295],[250,295],[250,295],[250,295],[250,295],[250,295],[250,295],[250,295],[250,295],[250,295],[250,295],[250,295],[250,295],[250,295],[250,295],[250,295],[250,295],[250,295],[250,295],[250,295],[350,398],[350,398],[350,398],[350,398],[350,398],[350,398],[350,398],[350,398],[350,398],[350,398],[50,61],[50,61],[50,61],[50,61],[50,61],[50,61],[50,61],[350,397],[350,397],[350,397],[350,397],[350,397],[350,397],[350,397]]}},\"id\":\"78249894-9c25-4302-a94a-1a236e333257\",\"type\":\"ColumnDataSource\"},{\"attributes\":{\"line_alpha\":{\"value\":0.1},\"line_color\":{\"value\":\"#1f77b4\"},\"xs\":{\"field\":\"xs\"},\"ys\":{\"field\":\"ys\"}},\"id\":\"f55f36ee-2644-4cf8-bb82-b80827fc3b77\",\"type\":\"MultiLine\"},{\"attributes\":{\"plot\":{\"id\":\"8e762247-f769-44fd-a888-5713c2198ecc\",\"subtype\":\"Figure\",\"type\":\"Plot\"}},\"id\":\"2c2d91d6-8f9a-4eea-86c9-cd7547e09ef0\",\"type\":\"PanTool\"},{\"attributes\":{\"overlay\":{\"id\":\"2de8ad16-fd26-4be4-a3cf-32d3190576f0\",\"type\":\"BoxAnnotation\"},\"plot\":{\"id\":\"8e762247-f769-44fd-a888-5713c2198ecc\",\"subtype\":\"Figure\",\"type\":\"Plot\"}},\"id\":\"1c71750f-bf74-4007-9922-15b2d8968f50\",\"type\":\"BoxZoomTool\"},{\"attributes\":{\"level\":\"glyph\",\"plot\":{\"id\":\"8e762247-f769-44fd-a888-5713c2198ecc\",\"subtype\":\"Figure\",\"type\":\"Plot\"},\"source\":{\"id\":\"9392d2ec-d7df-4b56-9569-52ead54dd890\",\"type\":\"ColumnDataSource\"},\"text\":{\"field\":\"vals\"},\"text_font_size\":{\"value\":\"9pt\"},\"text_font_style\":\"bold\",\"x\":{\"field\":\"x\"},\"y\":{\"field\":\"y\"}},\"id\":\"63e5b879-c379-42db-a037-abc318174181\",\"type\":\"LabelSet\"},{\"attributes\":{},\"id\":\"0e711063-9b17-4180-98bd-f897c3227535\",\"type\":\"BasicTickFormatter\"},{\"attributes\":{\"bottom_units\":\"screen\",\"fill_alpha\":{\"value\":0.5},\"fill_color\":{\"value\":\"lightgrey\"},\"left_units\":\"screen\",\"level\":\"overlay\",\"line_alpha\":{\"value\":1.0},\"line_color\":{\"value\":\"black\"},\"line_dash\":[4,4],\"line_width\":{\"value\":2},\"plot\":null,\"render_mode\":\"css\",\"right_units\":\"screen\",\"top_units\":\"screen\"},\"id\":\"2de8ad16-fd26-4be4-a3cf-32d3190576f0\",\"type\":\"BoxAnnotation\"}],\"root_ids\":[\"8e762247-f769-44fd-a888-5713c2198ecc\"]},\"title\":\"Bokeh Application\",\"version\":\"0.12.0\"}};\n",
       "            var render_items = [{\"docid\":\"0bc055e2-2ec0-45de-9115-ec415bd51cab\",\"elementid\":\"f0a5f5c1-1cff-468e-b0eb-1c7c8acfcc57\",\"modelid\":\"8e762247-f769-44fd-a888-5713c2198ecc\",\"notebook_comms_target\":\"2b261c5f-fbc5-45c6-8898-62a48e6a95f9\"}];\n",
       "            \n",
       "            Bokeh.embed.embed_items(docs_json, render_items);\n",
       "        });\n",
       "      },\n",
       "      function(Bokeh) {\n",
       "      }\n",
       "    ];\n",
       "  \n",
       "    function run_inline_js() {\n",
       "      for (var i = 0; i < inline_js.length; i++) {\n",
       "        inline_js[i](window.Bokeh);\n",
       "      }\n",
       "    }\n",
       "  \n",
       "    if (window._bokeh_is_loading === 0) {\n",
       "      console.log(\"Bokeh: BokehJS loaded, going straight to plotting\");\n",
       "      run_inline_js();\n",
       "    } else {\n",
       "      load_libs(js_urls, function() {\n",
       "        console.log(\"Bokeh: BokehJS plotting callback run at\", now());\n",
       "        run_inline_js();\n",
       "      });\n",
       "    }\n",
       "  }(this));\n",
       "</script>"
      ]
     },
     "metadata": {},
     "output_type": "display_data"
    },
    {
     "data": {
      "text/html": [
       "<p><code>&lt;Bokeh Notebook handle for <strong>In[24]</strong>&gt;</code></p>"
      ],
      "text/plain": [
       "<bokeh.io._CommsHandle at 0x7ff6b4679e90>"
      ]
     },
     "execution_count": 24,
     "metadata": {},
     "output_type": "execute_result"
    }
   ],
   "source": [
    "plt_obj = dm.superset_yes_no([dm.di_6_1503, dm.di_26_1414, dm.di_10_2206, dm.di_64_1575, dm.di_7_1868, dm.di_4_1699,\n",
    "                              di_12_32],\n",
    "                             [dm.di_4_911, dm.di_11_765, di_6_57, di_6_35, di_7_22, di_7_20],\n",
    "                             min_match=0.001)\n",
    "plt = plt_obj.do_plot()\n",
    "show(plt)"
   ]
  },
  {
   "cell_type": "code",
   "execution_count": 25,
   "metadata": {
    "collapsed": false,
    "deletable": true,
    "editable": true
   },
   "outputs": [
    {
     "data": {
      "text/html": [
       "<table>\n",
       "<thead><tr><th style=\"text-align:center\">index</th><th style=\"text-align:center\">first</th><th style=\"text-align:center\">length</th><th style=\"text-align:center\">snps</th><th style=\"text-align:center\" colspan=2>alleles</th><th style=\"text-align:center\" colspan=2>matches</th><th style=\"text-align:center\" colspan=2>afr</th><th style=\"text-align:center\" colspan=2>afx</th><th style=\"text-align:center\" colspan=2>amr</th><th style=\"text-align:center\" colspan=2>eas</th><th style=\"text-align:center\" colspan=2>eur</th><th style=\"text-align:center\" colspan=2>sas</th><th style=\"text-align:center\" colspan=2>sax</th></tr></thead>\n",
       "<tr class=\"even\"><td style=\"text-align: right;\">353921</td><td style=\"text-align: right;\">136,501,840</td><td style=\"text-align: right;\">53,819</td><td style=\"text-align: right;\">10</td><td style=\"text-align: right;\">2206</td><td style=\"text-align: right;\">0.00</td><td style=\"text-align: right;\">1</td><td style=\"text-align: right;\">1.00</td><td style=\"text-align: right;\">1</td><td style=\"text-align: right;\">3.95</td><td style=\"text-align: right;\">0</td><td style=\"text-align: right;\">0.00</td><td style=\"text-align: right;\">0</td><td style=\"text-align: right;\">0.00</td><td style=\"text-align: right;\">0</td><td style=\"text-align: right;\">0.00</td><td style=\"text-align: right;\">0</td><td style=\"text-align: right;\">0.00</td><td style=\"text-align: right;\">0</td><td style=\"text-align: right;\">0.00</td><td style=\"text-align: right;\">0</td><td style=\"text-align: right;\">0.00</td></tr>\n",
       "<tr><td style=\"text-align: right;\">354170</td><td style=\"text-align: right;\">136,682,274</td><td style=\"text-align: right;\">93,624</td><td style=\"text-align: right;\">7</td><td style=\"text-align: right;\">1868</td><td style=\"text-align: right;\">0.00</td><td style=\"text-align: right;\">1</td><td style=\"text-align: right;\">1.00</td><td style=\"text-align: right;\">1</td><td style=\"text-align: right;\">3.95</td><td style=\"text-align: right;\">0</td><td style=\"text-align: right;\">0.00</td><td style=\"text-align: right;\">0</td><td style=\"text-align: right;\">0.00</td><td style=\"text-align: right;\">0</td><td style=\"text-align: right;\">0.00</td><td style=\"text-align: right;\">0</td><td style=\"text-align: right;\">0.00</td><td style=\"text-align: right;\">0</td><td style=\"text-align: right;\">0.00</td><td style=\"text-align: right;\">0</td><td style=\"text-align: right;\">0.00</td></tr>\n",
       "<tr class=\"even\"><td style=\"text-align: right;\">353462</td><td style=\"text-align: right;\">135,915,358</td><td style=\"text-align: right;\">79,721</td><td style=\"text-align: right;\">4</td><td style=\"text-align: right;\">1699</td><td style=\"text-align: right;\">0.00</td><td style=\"text-align: right;\">1</td><td style=\"text-align: right;\">1.00</td><td style=\"text-align: right;\">1</td><td style=\"text-align: right;\">3.95</td><td style=\"text-align: right;\">0</td><td style=\"text-align: right;\">0.00</td><td style=\"text-align: right;\">0</td><td style=\"text-align: right;\">0.00</td><td style=\"text-align: right;\">0</td><td style=\"text-align: right;\">0.00</td><td style=\"text-align: right;\">0</td><td style=\"text-align: right;\">0.00</td><td style=\"text-align: right;\">0</td><td style=\"text-align: right;\">0.00</td><td style=\"text-align: right;\">0</td><td style=\"text-align: right;\">0.00</td></tr>\n",
       "<tr><td style=\"text-align: right;\">353901</td><td style=\"text-align: right;\">136,494,186</td><td style=\"text-align: right;\">271,765</td><td style=\"text-align: right;\">64</td><td style=\"text-align: right;\">1575</td><td style=\"text-align: right;\">0.00</td><td style=\"text-align: right;\">1</td><td style=\"text-align: right;\">1.00</td><td style=\"text-align: right;\">1</td><td style=\"text-align: right;\">3.95</td><td style=\"text-align: right;\">0</td><td style=\"text-align: right;\">0.00</td><td style=\"text-align: right;\">0</td><td style=\"text-align: right;\">0.00</td><td style=\"text-align: right;\">0</td><td style=\"text-align: right;\">0.00</td><td style=\"text-align: right;\">0</td><td style=\"text-align: right;\">0.00</td><td style=\"text-align: right;\">0</td><td style=\"text-align: right;\">0.00</td><td style=\"text-align: right;\">0</td><td style=\"text-align: right;\">0.00</td></tr>\n",
       "<tr class=\"even\"><td style=\"text-align: right;\">353283</td><td style=\"text-align: right;\">135,771,974</td><td style=\"text-align: right;\">368,330</td><td style=\"text-align: right;\">6</td><td style=\"text-align: right;\">1503</td><td style=\"text-align: right;\">0.00</td><td style=\"text-align: right;\">1</td><td style=\"text-align: right;\">1.00</td><td style=\"text-align: right;\">1</td><td style=\"text-align: right;\">3.95</td><td style=\"text-align: right;\">0</td><td style=\"text-align: right;\">0.00</td><td style=\"text-align: right;\">0</td><td style=\"text-align: right;\">0.00</td><td style=\"text-align: right;\">0</td><td style=\"text-align: right;\">0.00</td><td style=\"text-align: right;\">0</td><td style=\"text-align: right;\">0.00</td><td style=\"text-align: right;\">0</td><td style=\"text-align: right;\">0.00</td><td style=\"text-align: right;\">0</td><td style=\"text-align: right;\">0.00</td></tr>\n",
       "<tr><td style=\"text-align: right;\">353797</td><td style=\"text-align: right;\">136,398,174</td><td style=\"text-align: right;\">75,924</td><td style=\"text-align: right;\">26</td><td style=\"text-align: right;\">1414</td><td style=\"text-align: right;\">0.00</td><td style=\"text-align: right;\">1</td><td style=\"text-align: right;\">1.00</td><td style=\"text-align: right;\">1</td><td style=\"text-align: right;\">3.95</td><td style=\"text-align: right;\">0</td><td style=\"text-align: right;\">0.00</td><td style=\"text-align: right;\">0</td><td style=\"text-align: right;\">0.00</td><td style=\"text-align: right;\">0</td><td style=\"text-align: right;\">0.00</td><td style=\"text-align: right;\">0</td><td style=\"text-align: right;\">0.00</td><td style=\"text-align: right;\">0</td><td style=\"text-align: right;\">0.00</td><td style=\"text-align: right;\">0</td><td style=\"text-align: right;\">0.00</td></tr>\n",
       "<tr class=\"even\"><td style=\"text-align: right;\">353252</td><td style=\"text-align: right;\">135,759,628</td><td style=\"text-align: right;\">683,922</td><td style=\"text-align: right;\">12</td><td style=\"text-align: right;\">32</td><td style=\"text-align: right;\">0.03</td><td style=\"text-align: right;\">1</td><td style=\"text-align: right;\">1.00</td><td style=\"text-align: right;\">1</td><td style=\"text-align: right;\">3.95</td><td style=\"text-align: right;\">0</td><td style=\"text-align: right;\">0.00</td><td style=\"text-align: right;\">0</td><td style=\"text-align: right;\">0.00</td><td style=\"text-align: right;\">0</td><td style=\"text-align: right;\">0.00</td><td style=\"text-align: right;\">0</td><td style=\"text-align: right;\">0.00</td><td style=\"text-align: right;\">0</td><td style=\"text-align: right;\">0.00</td><td style=\"text-align: right;\">0</td><td style=\"text-align: right;\">0.00</td></tr>\n",
       "<tr><td style=\"text-align: right;\">354074</td><td style=\"text-align: right;\">136,608,339</td><td style=\"text-align: right;\">129,934</td><td style=\"text-align: right;\">7</td><td style=\"text-align: right;\">31</td><td style=\"text-align: right;\">0.03</td><td style=\"text-align: right;\">1</td><td style=\"text-align: right;\">1.00</td><td style=\"text-align: right;\">1</td><td style=\"text-align: right;\">3.95</td><td style=\"text-align: right;\">0</td><td style=\"text-align: right;\">0.00</td><td style=\"text-align: right;\">0</td><td style=\"text-align: right;\">0.00</td><td style=\"text-align: right;\">0</td><td style=\"text-align: right;\">0.00</td><td style=\"text-align: right;\">0</td><td style=\"text-align: right;\">0.00</td><td style=\"text-align: right;\">0</td><td style=\"text-align: right;\">0.00</td><td style=\"text-align: right;\">0</td><td style=\"text-align: right;\">0.00</td></tr>\n",
       "</table>"
      ],
      "text/plain": [
       "<IPython.core.display.HTML object>"
      ]
     },
     "execution_count": 25,
     "metadata": {},
     "output_type": "execute_result"
    }
   ],
   "source": [
    "HTML(plt_obj.get_html())"
   ]
  },
  {
   "cell_type": "code",
   "execution_count": 26,
   "metadata": {
    "collapsed": false,
    "deletable": true,
    "editable": true
   },
   "outputs": [
    {
     "data": {
      "text/html": [
       "\n",
       "\n",
       "    <div class=\"bk-root\">\n",
       "        <div class=\"plotdiv\" id=\"6e7d0a48-26a4-4cd9-9bc0-a8b9d787497f\"></div>\n",
       "    </div>\n",
       "<script type=\"text/javascript\">\n",
       "  \n",
       "  (function(global) {\n",
       "    function now() {\n",
       "      return new Date();\n",
       "    }\n",
       "  \n",
       "    if (typeof (window._bokeh_onload_callbacks) === \"undefined\") {\n",
       "      window._bokeh_onload_callbacks = [];\n",
       "    }\n",
       "  \n",
       "    function run_callbacks() {\n",
       "      window._bokeh_onload_callbacks.forEach(function(callback) { callback() });\n",
       "      delete window._bokeh_onload_callbacks\n",
       "      console.info(\"Bokeh: all callbacks have finished\");\n",
       "    }\n",
       "  \n",
       "    function load_libs(js_urls, callback) {\n",
       "      window._bokeh_onload_callbacks.push(callback);\n",
       "      if (window._bokeh_is_loading > 0) {\n",
       "        console.log(\"Bokeh: BokehJS is being loaded, scheduling callback at\", now());\n",
       "        return null;\n",
       "      }\n",
       "      if (js_urls == null || js_urls.length === 0) {\n",
       "        run_callbacks();\n",
       "        return null;\n",
       "      }\n",
       "      console.log(\"Bokeh: BokehJS not loaded, scheduling load and callback at\", now());\n",
       "      window._bokeh_is_loading = js_urls.length;\n",
       "      for (var i = 0; i < js_urls.length; i++) {\n",
       "        var url = js_urls[i];\n",
       "        var s = document.createElement('script');\n",
       "        s.src = url;\n",
       "        s.async = false;\n",
       "        s.onreadystatechange = s.onload = function() {\n",
       "          window._bokeh_is_loading--;\n",
       "          if (window._bokeh_is_loading === 0) {\n",
       "            console.log(\"Bokeh: all BokehJS libraries loaded\");\n",
       "            run_callbacks()\n",
       "          }\n",
       "        };\n",
       "        s.onerror = function() {\n",
       "          console.warn(\"failed to load library \" + url);\n",
       "        };\n",
       "        console.log(\"Bokeh: injecting script tag for BokehJS library: \", url);\n",
       "        document.getElementsByTagName(\"head\")[0].appendChild(s);\n",
       "      }\n",
       "    };var element = document.getElementById(\"6e7d0a48-26a4-4cd9-9bc0-a8b9d787497f\");\n",
       "    if (element == null) {\n",
       "      console.log(\"Bokeh: ERROR: autoload.js configured with elementid '6e7d0a48-26a4-4cd9-9bc0-a8b9d787497f' but no matching script tag was found. \")\n",
       "      return false;\n",
       "    }\n",
       "  \n",
       "    var js_urls = [];\n",
       "  \n",
       "    var inline_js = [\n",
       "      function(Bokeh) {\n",
       "        Bokeh.$(function() {\n",
       "            var docs_json = {\"66704eee-2162-46d4-81b3-96be3dcddb28\":{\"roots\":{\"references\":[{\"attributes\":{\"dimension\":1,\"plot\":{\"id\":\"b32efe69-74f1-46f7-a844-11c8a2c10135\",\"subtype\":\"Figure\",\"type\":\"Plot\"},\"ticker\":{\"id\":\"95a969cb-a46b-4c3f-a25a-ec3b9b9e193e\",\"type\":\"BasicTicker\"}},\"id\":\"ff328816-4aa9-46fb-b892-1d1b11b56e8d\",\"type\":\"Grid\"},{\"attributes\":{\"line_alpha\":{\"value\":0.1},\"line_color\":{\"value\":\"#1f77b4\"},\"xs\":{\"field\":\"xs\"},\"ys\":{\"field\":\"ys\"}},\"id\":\"82cd2d24-0063-45e1-9a2f-cd8c75901b12\",\"type\":\"MultiLine\"},{\"attributes\":{\"line_color\":{\"field\":\"line_color\"},\"xs\":{\"field\":\"xs\"},\"ys\":{\"field\":\"ys\"}},\"id\":\"d53f0d7b-fab1-4f6d-9623-dfa255388f0e\",\"type\":\"MultiLine\"},{\"attributes\":{\"plot\":{\"id\":\"b32efe69-74f1-46f7-a844-11c8a2c10135\",\"subtype\":\"Figure\",\"type\":\"Plot\"}},\"id\":\"4011030a-e05b-4bf5-89bf-00e278d39564\",\"type\":\"WheelZoomTool\"},{\"attributes\":{\"level\":\"glyph\",\"plot\":{\"id\":\"b32efe69-74f1-46f7-a844-11c8a2c10135\",\"subtype\":\"Figure\",\"type\":\"Plot\"},\"source\":{\"id\":\"ac54540d-6f44-46d0-b5d1-9d866a151715\",\"type\":\"ColumnDataSource\"},\"text\":{\"field\":\"vals\"},\"text_align\":\"center\",\"text_baseline\":\"middle\",\"text_font_size\":{\"value\":\"8pt\"},\"x\":{\"field\":\"x\"},\"y\":{\"field\":\"y\"}},\"id\":\"fa35860a-dbb6-4f2f-94f2-52507d638b19\",\"type\":\"LabelSet\"},{\"attributes\":{\"below\":[{\"id\":\"dd353ea3-74cd-4b56-be83-e7092b76b2f1\",\"type\":\"LinearAxis\"}],\"left\":[{\"id\":\"c5282c37-2d66-4ada-9f06-b110f3ba354e\",\"type\":\"LinearAxis\"}],\"plot_height\":400,\"plot_width\":900,\"renderers\":[{\"id\":\"dd353ea3-74cd-4b56-be83-e7092b76b2f1\",\"type\":\"LinearAxis\"},{\"id\":\"0bf945c4-d0af-417b-8044-c0be94c5a77f\",\"type\":\"Grid\"},{\"id\":\"c5282c37-2d66-4ada-9f06-b110f3ba354e\",\"type\":\"LinearAxis\"},{\"id\":\"ff328816-4aa9-46fb-b892-1d1b11b56e8d\",\"type\":\"Grid\"},{\"id\":\"3d7d00b3-760c-4069-80d9-6ea7f42ed9aa\",\"type\":\"BoxAnnotation\"},{\"id\":\"dcbe19df-2250-4fdb-8813-87f10fefb35e\",\"type\":\"GlyphRenderer\"},{\"id\":\"4d793c40-73bd-4131-ab2c-e66cf3d6080e\",\"type\":\"GlyphRenderer\"},{\"id\":\"5843c31a-b5cf-418a-bcf1-eec6e917591c\",\"type\":\"LabelSet\"},{\"id\":\"f8634167-4b6e-44fb-9e43-e578ef943aba\",\"type\":\"GlyphRenderer\"},{\"id\":\"fa35860a-dbb6-4f2f-94f2-52507d638b19\",\"type\":\"LabelSet\"}],\"title\":{\"id\":\"7be5e3c0-ffef-4912-9f09-df0161ae8790\",\"type\":\"Title\"},\"tool_events\":{\"id\":\"5128bc7f-4784-4546-ae67-eceab4540543\",\"type\":\"ToolEvents\"},\"toolbar\":{\"id\":\"76adfd2d-08d0-4794-bb16-5dfd0704f0cb\",\"type\":\"Toolbar\"},\"toolbar_location\":null,\"x_range\":{\"id\":\"f7bef041-c603-49db-aa18-dffea28b101f\",\"type\":\"Range1d\"},\"y_range\":{\"id\":\"d4c15249-b253-4a64-9339-fa87226e6ce3\",\"type\":\"Range1d\"}},\"id\":\"b32efe69-74f1-46f7-a844-11c8a2c10135\",\"subtype\":\"Figure\",\"type\":\"Plot\"},{\"attributes\":{},\"id\":\"3f6364bb-943e-4fb0-8ec6-a37419e6979a\",\"type\":\"BasicTickFormatter\"},{\"attributes\":{\"bottom_units\":\"screen\",\"fill_alpha\":{\"value\":0.5},\"fill_color\":{\"value\":\"lightgrey\"},\"left_units\":\"screen\",\"level\":\"overlay\",\"line_alpha\":{\"value\":1.0},\"line_color\":{\"value\":\"black\"},\"line_dash\":[4,4],\"line_width\":{\"value\":2},\"plot\":null,\"render_mode\":\"css\",\"right_units\":\"screen\",\"top_units\":\"screen\"},\"id\":\"3d7d00b3-760c-4069-80d9-6ea7f42ed9aa\",\"type\":\"BoxAnnotation\"},{\"attributes\":{},\"id\":\"cf9a413c-2ad5-4b1c-85b4-4b3e6b7577c8\",\"type\":\"BasicTickFormatter\"},{\"attributes\":{\"data_source\":{\"id\":\"28899346-98f8-49c3-a647-0e0dcac5228f\",\"type\":\"ColumnDataSource\"},\"glyph\":{\"id\":\"19c3f3e1-8fb5-41d0-a785-1114893acb2f\",\"type\":\"Quad\"},\"hover_glyph\":null,\"nonselection_glyph\":{\"id\":\"34312888-5a61-4cb4-aeb0-1fcc88608c3a\",\"type\":\"Quad\"},\"selection_glyph\":null},\"id\":\"dcbe19df-2250-4fdb-8813-87f10fefb35e\",\"type\":\"GlyphRenderer\"},{\"attributes\":{},\"id\":\"95a969cb-a46b-4c3f-a25a-ec3b9b9e193e\",\"type\":\"BasicTicker\"},{\"attributes\":{\"callback\":null,\"end\":136786630,\"start\":135757320},\"id\":\"f7bef041-c603-49db-aa18-dffea28b101f\",\"type\":\"Range1d\"},{\"attributes\":{},\"id\":\"5128bc7f-4784-4546-ae67-eceab4540543\",\"type\":\"ToolEvents\"},{\"attributes\":{\"level\":\"glyph\",\"plot\":{\"id\":\"b32efe69-74f1-46f7-a844-11c8a2c10135\",\"subtype\":\"Figure\",\"type\":\"Plot\"},\"source\":{\"id\":\"c8d611db-d33b-44e7-945a-bd3a352c7807\",\"type\":\"ColumnDataSource\"},\"text\":{\"field\":\"vals\"},\"text_font_size\":{\"value\":\"9pt\"},\"text_font_style\":\"bold\",\"x\":{\"field\":\"x\"},\"y\":{\"field\":\"y\"}},\"id\":\"5843c31a-b5cf-418a-bcf1-eec6e917591c\",\"type\":\"LabelSet\"},{\"attributes\":{\"data_source\":{\"id\":\"bde9e26a-6300-4a00-b21b-74f83807c93d\",\"type\":\"ColumnDataSource\"},\"glyph\":{\"id\":\"f676df0c-8908-444f-891c-1d544d60476a\",\"type\":\"Quad\"},\"hover_glyph\":null,\"nonselection_glyph\":{\"id\":\"7661734c-1335-49a4-b420-bc0f72d93114\",\"type\":\"Quad\"},\"selection_glyph\":null},\"id\":\"f8634167-4b6e-44fb-9e43-e578ef943aba\",\"type\":\"GlyphRenderer\"},{\"attributes\":{\"callback\":null,\"column_names\":[\"right\",\"bottom\",\"top\",\"left\",\"fill_color\"],\"data\":{\"bottom\":[150,50,150,50,150,250,250],\"fill_color\":[\"#808080\",\"#61c461\",\"#61c461\",\"#61c461\",\"#61c461\",\"#808080\",\"#61c461\"],\"left\":[135757320,135771974,135915358,136398174,136494186,136501840,136682274],\"right\":[135777504,136140304,135995079,136474098,136765951,136555659,136775898],\"top\":[196,95,196,94,195,298,297]}},\"id\":\"28899346-98f8-49c3-a647-0e0dcac5228f\",\"type\":\"ColumnDataSource\"},{\"attributes\":{\"bottom\":{\"field\":\"bottom\"},\"fill_color\":{\"field\":\"fill_color\"},\"left\":{\"field\":\"left\"},\"line_color\":{\"value\":null},\"right\":{\"field\":\"right\"},\"top\":{\"field\":\"top\"}},\"id\":\"19c3f3e1-8fb5-41d0-a785-1114893acb2f\",\"type\":\"Quad\"},{\"attributes\":{\"overlay\":{\"id\":\"3d7d00b3-760c-4069-80d9-6ea7f42ed9aa\",\"type\":\"BoxAnnotation\"},\"plot\":{\"id\":\"b32efe69-74f1-46f7-a844-11c8a2c10135\",\"subtype\":\"Figure\",\"type\":\"Plot\"}},\"id\":\"994450ef-eaa5-461d-b026-82ddae816c66\",\"type\":\"BoxZoomTool\"},{\"attributes\":{\"callback\":null,\"end\":400},\"id\":\"d4c15249-b253-4a64-9339-fa87226e6ce3\",\"type\":\"Range1d\"},{\"attributes\":{\"bottom\":{\"field\":\"bottom\"},\"fill_alpha\":{\"value\":0.1},\"fill_color\":{\"value\":\"#1f77b4\"},\"left\":{\"field\":\"left\"},\"line_alpha\":{\"value\":0.1},\"line_color\":{\"value\":\"#1f77b4\"},\"right\":{\"field\":\"right\"},\"top\":{\"field\":\"top\"}},\"id\":\"34312888-5a61-4cb4-aeb0-1fcc88608c3a\",\"type\":\"Quad\"},{\"attributes\":{\"callback\":null,\"column_names\":[\"y\",\"x\",\"vals\"],\"data\":{\"vals\":[\"13_1696\",\"6_1503\",\"4_1699\",\"26_1414\",\"64_1575\",\"10_2206\",\"7_1868\"],\"x\":[135757320,135771974,135915358,136398174,136494186,136501840,136682274],\"y\":[201.0,100.0,201.0,99.0,200.0,303.0,302.0]}},\"id\":\"c8d611db-d33b-44e7-945a-bd3a352c7807\",\"type\":\"ColumnDataSource\"},{\"attributes\":{\"plot\":{\"id\":\"b32efe69-74f1-46f7-a844-11c8a2c10135\",\"subtype\":\"Figure\",\"type\":\"Plot\"},\"ticker\":{\"id\":\"ea103e75-6614-4f00-a502-aa40fbdf36a8\",\"type\":\"BasicTicker\"}},\"id\":\"0bf945c4-d0af-417b-8044-c0be94c5a77f\",\"type\":\"Grid\"},{\"attributes\":{\"bottom\":{\"field\":\"bottom\"},\"fill_alpha\":{\"value\":0.1},\"fill_color\":{\"value\":\"#1f77b4\"},\"left\":{\"field\":\"left\"},\"line_alpha\":{\"value\":0.1},\"line_color\":{\"value\":\"#1f77b4\"},\"right\":{\"field\":\"right\"},\"top\":{\"field\":\"top\"}},\"id\":\"7661734c-1335-49a4-b420-bc0f72d93114\",\"type\":\"Quad\"},{\"attributes\":{\"data_source\":{\"id\":\"18793c11-10fb-434c-852b-07c5c87086c0\",\"type\":\"ColumnDataSource\"},\"glyph\":{\"id\":\"d53f0d7b-fab1-4f6d-9623-dfa255388f0e\",\"type\":\"MultiLine\"},\"hover_glyph\":null,\"nonselection_glyph\":{\"id\":\"82cd2d24-0063-45e1-9a2f-cd8c75901b12\",\"type\":\"MultiLine\"},\"selection_glyph\":null},\"id\":\"4d793c40-73bd-4131-ab2c-e66cf3d6080e\",\"type\":\"GlyphRenderer\"},{\"attributes\":{\"bottom\":{\"field\":\"bottom\"},\"fill_color\":{\"value\":\"white\"},\"left\":{\"field\":\"left\"},\"right\":{\"field\":\"right\"},\"top\":{\"field\":\"top\"}},\"id\":\"f676df0c-8908-444f-891c-1d544d60476a\",\"type\":\"Quad\"},{\"attributes\":{\"callback\":null,\"column_names\":[\"right\",\"bottom\",\"top\",\"left\"],\"data\":{\"bottom\":[345,345,345,345,345,345,345],\"left\":[135809835,135957574,136289083,136499189,136545415,136597196,136664254],\"right\":[135928279,136288182,136482839,136542633,136594750,136634047,136743222],\"top\":[375,375,375,375,375,375,375]}},\"id\":\"bde9e26a-6300-4a00-b21b-74f83807c93d\",\"type\":\"ColumnDataSource\"},{\"attributes\":{\"formatter\":{\"id\":\"3f6364bb-943e-4fb0-8ec6-a37419e6979a\",\"type\":\"BasicTickFormatter\"},\"plot\":{\"id\":\"b32efe69-74f1-46f7-a844-11c8a2c10135\",\"subtype\":\"Figure\",\"type\":\"Plot\"},\"ticker\":{\"id\":\"95a969cb-a46b-4c3f-a25a-ec3b9b9e193e\",\"type\":\"BasicTicker\"},\"visible\":null},\"id\":\"c5282c37-2d66-4ada-9f06-b110f3ba354e\",\"type\":\"LinearAxis\"},{\"attributes\":{\"plot\":null,\"text\":null},\"id\":\"7be5e3c0-ffef-4912-9f09-df0161ae8790\",\"type\":\"Title\"},{\"attributes\":{\"active_drag\":\"auto\",\"active_scroll\":\"auto\",\"active_tap\":\"auto\",\"tools\":[{\"id\":\"b8555404-63f3-45b9-bffd-a9bc5ded3ba3\",\"type\":\"PanTool\"},{\"id\":\"4011030a-e05b-4bf5-89bf-00e278d39564\",\"type\":\"WheelZoomTool\"},{\"id\":\"994450ef-eaa5-461d-b026-82ddae816c66\",\"type\":\"BoxZoomTool\"},{\"id\":\"ccb9502e-e4e1-4861-811b-91cda2730ddd\",\"type\":\"SaveTool\"},{\"id\":\"d18934c0-b297-4ba4-8a59-0dbb1fb9cb66\",\"type\":\"ResetTool\"},{\"id\":\"897036f3-3fbc-44cd-9f5a-7259aad0930d\",\"type\":\"HelpTool\"}]},\"id\":\"76adfd2d-08d0-4794-bb16-5dfd0704f0cb\",\"type\":\"Toolbar\"},{\"attributes\":{\"callback\":null,\"column_names\":[\"y\",\"x\",\"vals\"],\"data\":{\"vals\":[\"RAB3GAP1\",\"ZRANB3\",\"R3HDM1\",\"UBXN4\",\"LCT\",\"MCM6\",\"DARS\"],\"x\":[135869057.0,136122878.0,136385961.0,136520911.0,136570082.5,136615621.5,136703738.0],\"y\":[360.0,360.0,360.0,360.0,360.0,360.0,360.0]}},\"id\":\"ac54540d-6f44-46d0-b5d1-9d866a151715\",\"type\":\"ColumnDataSource\"},{\"attributes\":{\"plot\":{\"id\":\"b32efe69-74f1-46f7-a844-11c8a2c10135\",\"subtype\":\"Figure\",\"type\":\"Plot\"}},\"id\":\"b8555404-63f3-45b9-bffd-a9bc5ded3ba3\",\"type\":\"PanTool\"},{\"attributes\":{\"plot\":{\"id\":\"b32efe69-74f1-46f7-a844-11c8a2c10135\",\"subtype\":\"Figure\",\"type\":\"Plot\"}},\"id\":\"d18934c0-b297-4ba4-8a59-0dbb1fb9cb66\",\"type\":\"ResetTool\"},{\"attributes\":{\"callback\":null,\"column_names\":[\"xs\",\"ys\",\"line_color\"],\"data\":{\"line_color\":[\"black\",\"black\",\"black\",\"black\",\"black\",\"black\",\"black\",\"black\",\"black\",\"black\",\"black\",\"black\",\"black\",\"black\",\"black\",\"black\",\"black\",\"black\",\"black\",\"black\",\"black\",\"black\",\"black\",\"black\",\"black\",\"black\",\"black\",\"black\",\"black\",\"black\",\"black\",\"black\",\"black\",\"black\",\"black\",\"black\",\"black\",\"black\",\"black\",\"black\",\"black\",\"black\",\"black\",\"black\",\"black\",\"black\",\"black\",\"black\",\"black\",\"black\",\"black\",\"black\",\"black\",\"black\",\"black\",\"black\",\"black\",\"black\",\"black\",\"black\",\"black\",\"black\",\"black\",\"black\",\"black\",\"black\",\"black\",\"black\",\"black\",\"black\",\"black\",\"black\",\"black\",\"black\",\"black\",\"black\",\"black\",\"black\",\"black\",\"black\",\"black\",\"black\",\"black\",\"black\",\"black\",\"black\",\"black\",\"black\",\"black\",\"black\",\"black\",\"black\",\"black\",\"black\",\"black\",\"black\",\"black\",\"black\",\"black\",\"black\",\"black\",\"black\",\"black\",\"black\",\"black\",\"black\",\"black\",\"black\",\"black\",\"black\",\"black\",\"black\",\"black\",\"black\",\"black\",\"black\",\"black\",\"black\",\"black\",\"black\",\"black\",\"black\",\"black\",\"black\",\"black\",\"black\",\"black\",\"black\",\"black\",\"black\"],\"xs\":[[135757320,135757320],[135761078,135761078],[135761271,135761271],[135762344,135762344],[135762980,135762980],[135763280,135763280],[135768815,135768815],[135769093,135769093],[135769127,135769127],[135770940,135770940],[135770951,135770951],[135776728,135776728],[135777504,135777504],[135771974,135771974],[135859371,135859371],[135877562,135877562],[136022798,136022798],[136058820,136058820],[136140304,136140304],[135915358,135915358],[135954405,135954405],[135995073,135995073],[135995079,135995079],[136398174,136398174],[136402117,136402117],[136403749,136403749],[136409073,136409073],[136410299,136410299],[136413359,136413359],[136416855,136416855],[136416941,136416941],[136418348,136418348],[136419961,136419961],[136420690,136420690],[136422171,136422171],[136428460,136428460],[136430866,136430866],[136432103,136432103],[136437507,136437507],[136439090,136439090],[136439517,136439517],[136444123,136444123],[136445526,136445526],[136445869,136445869],[136455600,136455600],[136456642,136456642],[136462441,136462441],[136470714,136470714],[136474098,136474098],[136494186,136494186],[136495300,136495300],[136495619,136495619],[136499166,136499166],[136502792,136502792],[136503157,136503157],[136507039,136507039],[136511575,136511575],[136518103,136518103],[136521514,136521514],[136522675,136522675],[136522941,136522941],[136526981,136526981],[136535410,136535410],[136539122,136539122],[136544197,136544197],[136550109,136550109],[136551694,136551694],[136553188,136553188],[136553639,136553639],[136554800,136554800],[136557319,136557319],[136558157,136558157],[136569848,136569848],[136575199,136575199],[136576577,136576577],[136578536,136578536],[136580287,136580287],[136583192,136583192],[136586958,136586958],[136588478,136588478],[136589612,136589612],[136591178,136591178],[136591859,136591859],[136593760,136593760],[136594158,136594158],[136603276,136603276],[136603366,136603366],[136608231,136608231],[136609975,136609975],[136610598,136610598],[136611624,136611624],[136613780,136613780],[136614255,136614255],[136614813,136614813],[136617524,136617524],[136622216,136622216],[136625602,136625602],[136629911,136629911],[136630757,136630757],[136630989,136630989],[136631031,136631031],[136633771,136633771],[136636324,136636324],[136638216,136638216],[136640233,136640233],[136641882,136641882],[136643555,136643555],[136658345,136658345],[136670298,136670298],[136685228,136685228],[136696138,136696138],[136740900,136740900],[136765951,136765951],[136501840,136501840],[136505546,136505546],[136516748,136516748],[136522710,136522710],[136528004,136528004],[136539513,136539513],[136544752,136544752],[136546110,136546110],[136553529,136553529],[136555659,136555659],[136682274,136682274],[136691825,136691825],[136698098,136698098],[136721603,136721603],[136721995,136721995],[136755684,136755684],[136775898,136775898]],\"ys\":[[150,196],[150,196],[150,196],[150,196],[150,196],[150,196],[150,196],[150,196],[150,196],[150,196],[150,196],[150,196],[150,196],[50,95],[50,95],[50,95],[50,95],[50,95],[50,95],[150,196],[150,196],[150,196],[150,196],[50,94],[50,94],[50,94],[50,94],[50,94],[50,94],[50,94],[50,94],[50,94],[50,94],[50,94],[50,94],[50,94],[50,94],[50,94],[50,94],[50,94],[50,94],[50,94],[50,94],[50,94],[50,94],[50,94],[50,94],[50,94],[50,94],[150,195],[150,195],[150,195],[150,195],[150,195],[150,195],[150,195],[150,195],[150,195],[150,195],[150,195],[150,195],[150,195],[150,195],[150,195],[150,195],[150,195],[150,195],[150,195],[150,195],[150,195],[150,195],[150,195],[150,195],[150,195],[150,195],[150,195],[150,195],[150,195],[150,195],[150,195],[150,195],[150,195],[150,195],[150,195],[150,195],[150,195],[150,195],[150,195],[150,195],[150,195],[150,195],[150,195],[150,195],[150,195],[150,195],[150,195],[150,195],[150,195],[150,195],[150,195],[150,195],[150,195],[150,195],[150,195],[150,195],[150,195],[150,195],[150,195],[150,195],[150,195],[150,195],[150,195],[150,195],[250,298],[250,298],[250,298],[250,298],[250,298],[250,298],[250,298],[250,298],[250,298],[250,298],[250,297],[250,297],[250,297],[250,297],[250,297],[250,297],[250,297]]}},\"id\":\"18793c11-10fb-434c-852b-07c5c87086c0\",\"type\":\"ColumnDataSource\"},{\"attributes\":{\"plot\":{\"id\":\"b32efe69-74f1-46f7-a844-11c8a2c10135\",\"subtype\":\"Figure\",\"type\":\"Plot\"}},\"id\":\"ccb9502e-e4e1-4861-811b-91cda2730ddd\",\"type\":\"SaveTool\"},{\"attributes\":{\"plot\":{\"id\":\"b32efe69-74f1-46f7-a844-11c8a2c10135\",\"subtype\":\"Figure\",\"type\":\"Plot\"}},\"id\":\"897036f3-3fbc-44cd-9f5a-7259aad0930d\",\"type\":\"HelpTool\"},{\"attributes\":{},\"id\":\"ea103e75-6614-4f00-a502-aa40fbdf36a8\",\"type\":\"BasicTicker\"},{\"attributes\":{\"formatter\":{\"id\":\"cf9a413c-2ad5-4b1c-85b4-4b3e6b7577c8\",\"type\":\"BasicTickFormatter\"},\"plot\":{\"id\":\"b32efe69-74f1-46f7-a844-11c8a2c10135\",\"subtype\":\"Figure\",\"type\":\"Plot\"},\"ticker\":{\"id\":\"ea103e75-6614-4f00-a502-aa40fbdf36a8\",\"type\":\"BasicTicker\"}},\"id\":\"dd353ea3-74cd-4b56-be83-e7092b76b2f1\",\"type\":\"LinearAxis\"}],\"root_ids\":[\"b32efe69-74f1-46f7-a844-11c8a2c10135\"]},\"title\":\"Bokeh Application\",\"version\":\"0.12.0\"}};\n",
       "            var render_items = [{\"docid\":\"66704eee-2162-46d4-81b3-96be3dcddb28\",\"elementid\":\"6e7d0a48-26a4-4cd9-9bc0-a8b9d787497f\",\"modelid\":\"b32efe69-74f1-46f7-a844-11c8a2c10135\",\"notebook_comms_target\":\"8f08e165-347a-4a1e-8530-227baf7579f4\"}];\n",
       "            \n",
       "            Bokeh.embed.embed_items(docs_json, render_items);\n",
       "        });\n",
       "      },\n",
       "      function(Bokeh) {\n",
       "      }\n",
       "    ];\n",
       "  \n",
       "    function run_inline_js() {\n",
       "      for (var i = 0; i < inline_js.length; i++) {\n",
       "        inline_js[i](window.Bokeh);\n",
       "      }\n",
       "    }\n",
       "  \n",
       "    if (window._bokeh_is_loading === 0) {\n",
       "      console.log(\"Bokeh: BokehJS loaded, going straight to plotting\");\n",
       "      run_inline_js();\n",
       "    } else {\n",
       "      load_libs(js_urls, function() {\n",
       "        console.log(\"Bokeh: BokehJS plotting callback run at\", now());\n",
       "        run_inline_js();\n",
       "      });\n",
       "    }\n",
       "  }(this));\n",
       "</script>"
      ]
     },
     "metadata": {},
     "output_type": "display_data"
    },
    {
     "data": {
      "text/html": [
       "<p><code>&lt;Bokeh Notebook handle for <strong>In[26]</strong>&gt;</code></p>"
      ],
      "text/plain": [
       "<bokeh.io._CommsHandle at 0x7ff6b42fb310>"
      ]
     },
     "execution_count": 26,
     "metadata": {},
     "output_type": "execute_result"
    }
   ],
   "source": [
    "plt_obj = dm.superset_yes_no([dm.di_6_1503, dm.di_26_1414, dm.di_10_2206, dm.di_64_1575, dm.di_7_1868, dm.di_4_1699,\n",
    "                              dm.di_13_1696],\n",
    "                             [dm.di_4_911, dm.di_11_765, di_6_57, di_6_35, di_7_22, di_7_20],\n",
    "                             min_match=0.001)\n",
    "plt = plt_obj.do_plot()\n",
    "show(plt)"
   ]
  },
  {
   "cell_type": "code",
   "execution_count": 27,
   "metadata": {
    "collapsed": false,
    "deletable": true,
    "editable": true
   },
   "outputs": [
    {
     "data": {
      "text/html": [
       "<table>\n",
       "<thead><tr><th style=\"text-align:center\">index</th><th style=\"text-align:center\">first</th><th style=\"text-align:center\">length</th><th style=\"text-align:center\">snps</th><th style=\"text-align:center\" colspan=2>alleles</th><th style=\"text-align:center\" colspan=2>matches</th><th style=\"text-align:center\" colspan=2>afr</th><th style=\"text-align:center\" colspan=2>afx</th><th style=\"text-align:center\" colspan=2>amr</th><th style=\"text-align:center\" colspan=2>eas</th><th style=\"text-align:center\" colspan=2>eur</th><th style=\"text-align:center\" colspan=2>sas</th><th style=\"text-align:center\" colspan=2>sax</th></tr></thead>\n",
       "<tr class=\"even\"><td style=\"text-align: right;\">353921</td><td style=\"text-align: right;\">136,501,840</td><td style=\"text-align: right;\">53,819</td><td style=\"text-align: right;\">10</td><td style=\"text-align: right;\">2206</td><td style=\"text-align: right;\">0.00</td><td style=\"text-align: right;\">1</td><td style=\"text-align: right;\">1.00</td><td style=\"text-align: right;\">0</td><td style=\"text-align: right;\">0.00</td><td style=\"text-align: right;\">0</td><td style=\"text-align: right;\">0.00</td><td style=\"text-align: right;\">0</td><td style=\"text-align: right;\">0.00</td><td style=\"text-align: right;\">0</td><td style=\"text-align: right;\">0.00</td><td style=\"text-align: right;\">0</td><td style=\"text-align: right;\">0.00</td><td style=\"text-align: right;\">1</td><td style=\"text-align: right;\">14.10</td><td style=\"text-align: right;\">0</td><td style=\"text-align: right;\">0.00</td></tr>\n",
       "<tr><td style=\"text-align: right;\">354170</td><td style=\"text-align: right;\">136,682,274</td><td style=\"text-align: right;\">93,624</td><td style=\"text-align: right;\">7</td><td style=\"text-align: right;\">1868</td><td style=\"text-align: right;\">0.00</td><td style=\"text-align: right;\">1</td><td style=\"text-align: right;\">1.00</td><td style=\"text-align: right;\">0</td><td style=\"text-align: right;\">0.00</td><td style=\"text-align: right;\">0</td><td style=\"text-align: right;\">0.00</td><td style=\"text-align: right;\">0</td><td style=\"text-align: right;\">0.00</td><td style=\"text-align: right;\">0</td><td style=\"text-align: right;\">0.00</td><td style=\"text-align: right;\">0</td><td style=\"text-align: right;\">0.00</td><td style=\"text-align: right;\">1</td><td style=\"text-align: right;\">14.10</td><td style=\"text-align: right;\">0</td><td style=\"text-align: right;\">0.00</td></tr>\n",
       "<tr class=\"even\"><td style=\"text-align: right;\">353462</td><td style=\"text-align: right;\">135,915,358</td><td style=\"text-align: right;\">79,721</td><td style=\"text-align: right;\">4</td><td style=\"text-align: right;\">1699</td><td style=\"text-align: right;\">0.00</td><td style=\"text-align: right;\">1</td><td style=\"text-align: right;\">1.00</td><td style=\"text-align: right;\">0</td><td style=\"text-align: right;\">0.00</td><td style=\"text-align: right;\">0</td><td style=\"text-align: right;\">0.00</td><td style=\"text-align: right;\">0</td><td style=\"text-align: right;\">0.00</td><td style=\"text-align: right;\">0</td><td style=\"text-align: right;\">0.00</td><td style=\"text-align: right;\">0</td><td style=\"text-align: right;\">0.00</td><td style=\"text-align: right;\">1</td><td style=\"text-align: right;\">14.10</td><td style=\"text-align: right;\">0</td><td style=\"text-align: right;\">0.00</td></tr>\n",
       "<tr><td style=\"text-align: right;\">353240</td><td style=\"text-align: right;\">135,757,320</td><td style=\"text-align: right;\">20,184</td><td style=\"text-align: right;\">13</td><td style=\"text-align: right;\">1696</td><td style=\"text-align: right;\">0.00</td><td style=\"text-align: right;\">1</td><td style=\"text-align: right;\">1.00</td><td style=\"text-align: right;\">0</td><td style=\"text-align: right;\">0.00</td><td style=\"text-align: right;\">0</td><td style=\"text-align: right;\">0.00</td><td style=\"text-align: right;\">0</td><td style=\"text-align: right;\">0.00</td><td style=\"text-align: right;\">0</td><td style=\"text-align: right;\">0.00</td><td style=\"text-align: right;\">0</td><td style=\"text-align: right;\">0.00</td><td style=\"text-align: right;\">1</td><td style=\"text-align: right;\">14.10</td><td style=\"text-align: right;\">0</td><td style=\"text-align: right;\">0.00</td></tr>\n",
       "<tr class=\"even\"><td style=\"text-align: right;\">353901</td><td style=\"text-align: right;\">136,494,186</td><td style=\"text-align: right;\">271,765</td><td style=\"text-align: right;\">64</td><td style=\"text-align: right;\">1575</td><td style=\"text-align: right;\">0.00</td><td style=\"text-align: right;\">1</td><td style=\"text-align: right;\">1.00</td><td style=\"text-align: right;\">0</td><td style=\"text-align: right;\">0.00</td><td style=\"text-align: right;\">0</td><td style=\"text-align: right;\">0.00</td><td style=\"text-align: right;\">0</td><td style=\"text-align: right;\">0.00</td><td style=\"text-align: right;\">0</td><td style=\"text-align: right;\">0.00</td><td style=\"text-align: right;\">0</td><td style=\"text-align: right;\">0.00</td><td style=\"text-align: right;\">1</td><td style=\"text-align: right;\">14.10</td><td style=\"text-align: right;\">0</td><td style=\"text-align: right;\">0.00</td></tr>\n",
       "<tr><td style=\"text-align: right;\">353283</td><td style=\"text-align: right;\">135,771,974</td><td style=\"text-align: right;\">368,330</td><td style=\"text-align: right;\">6</td><td style=\"text-align: right;\">1503</td><td style=\"text-align: right;\">0.00</td><td style=\"text-align: right;\">1</td><td style=\"text-align: right;\">1.00</td><td style=\"text-align: right;\">0</td><td style=\"text-align: right;\">0.00</td><td style=\"text-align: right;\">0</td><td style=\"text-align: right;\">0.00</td><td style=\"text-align: right;\">0</td><td style=\"text-align: right;\">0.00</td><td style=\"text-align: right;\">0</td><td style=\"text-align: right;\">0.00</td><td style=\"text-align: right;\">0</td><td style=\"text-align: right;\">0.00</td><td style=\"text-align: right;\">1</td><td style=\"text-align: right;\">14.10</td><td style=\"text-align: right;\">0</td><td style=\"text-align: right;\">0.00</td></tr>\n",
       "<tr class=\"even\"><td style=\"text-align: right;\">353797</td><td style=\"text-align: right;\">136,398,174</td><td style=\"text-align: right;\">75,924</td><td style=\"text-align: right;\">26</td><td style=\"text-align: right;\">1414</td><td style=\"text-align: right;\">0.00</td><td style=\"text-align: right;\">1</td><td style=\"text-align: right;\">1.00</td><td style=\"text-align: right;\">0</td><td style=\"text-align: right;\">0.00</td><td style=\"text-align: right;\">0</td><td style=\"text-align: right;\">0.00</td><td style=\"text-align: right;\">0</td><td style=\"text-align: right;\">0.00</td><td style=\"text-align: right;\">0</td><td style=\"text-align: right;\">0.00</td><td style=\"text-align: right;\">0</td><td style=\"text-align: right;\">0.00</td><td style=\"text-align: right;\">1</td><td style=\"text-align: right;\">14.10</td><td style=\"text-align: right;\">0</td><td style=\"text-align: right;\">0.00</td></tr>\n",
       "</table>"
      ],
      "text/plain": [
       "<IPython.core.display.HTML object>"
      ]
     },
     "execution_count": 27,
     "metadata": {},
     "output_type": "execute_result"
    }
   ],
   "source": [
    "HTML(plt_obj.get_html())"
   ]
  },
  {
   "cell_type": "code",
   "execution_count": 28,
   "metadata": {
    "collapsed": false,
    "deletable": true,
    "editable": true
   },
   "outputs": [
    {
     "data": {
      "text/html": [
       "\n",
       "\n",
       "    <div class=\"bk-root\">\n",
       "        <div class=\"plotdiv\" id=\"ed506bb7-366e-494c-acc5-892844eca56d\"></div>\n",
       "    </div>\n",
       "<script type=\"text/javascript\">\n",
       "  \n",
       "  (function(global) {\n",
       "    function now() {\n",
       "      return new Date();\n",
       "    }\n",
       "  \n",
       "    if (typeof (window._bokeh_onload_callbacks) === \"undefined\") {\n",
       "      window._bokeh_onload_callbacks = [];\n",
       "    }\n",
       "  \n",
       "    function run_callbacks() {\n",
       "      window._bokeh_onload_callbacks.forEach(function(callback) { callback() });\n",
       "      delete window._bokeh_onload_callbacks\n",
       "      console.info(\"Bokeh: all callbacks have finished\");\n",
       "    }\n",
       "  \n",
       "    function load_libs(js_urls, callback) {\n",
       "      window._bokeh_onload_callbacks.push(callback);\n",
       "      if (window._bokeh_is_loading > 0) {\n",
       "        console.log(\"Bokeh: BokehJS is being loaded, scheduling callback at\", now());\n",
       "        return null;\n",
       "      }\n",
       "      if (js_urls == null || js_urls.length === 0) {\n",
       "        run_callbacks();\n",
       "        return null;\n",
       "      }\n",
       "      console.log(\"Bokeh: BokehJS not loaded, scheduling load and callback at\", now());\n",
       "      window._bokeh_is_loading = js_urls.length;\n",
       "      for (var i = 0; i < js_urls.length; i++) {\n",
       "        var url = js_urls[i];\n",
       "        var s = document.createElement('script');\n",
       "        s.src = url;\n",
       "        s.async = false;\n",
       "        s.onreadystatechange = s.onload = function() {\n",
       "          window._bokeh_is_loading--;\n",
       "          if (window._bokeh_is_loading === 0) {\n",
       "            console.log(\"Bokeh: all BokehJS libraries loaded\");\n",
       "            run_callbacks()\n",
       "          }\n",
       "        };\n",
       "        s.onerror = function() {\n",
       "          console.warn(\"failed to load library \" + url);\n",
       "        };\n",
       "        console.log(\"Bokeh: injecting script tag for BokehJS library: \", url);\n",
       "        document.getElementsByTagName(\"head\")[0].appendChild(s);\n",
       "      }\n",
       "    };var element = document.getElementById(\"ed506bb7-366e-494c-acc5-892844eca56d\");\n",
       "    if (element == null) {\n",
       "      console.log(\"Bokeh: ERROR: autoload.js configured with elementid 'ed506bb7-366e-494c-acc5-892844eca56d' but no matching script tag was found. \")\n",
       "      return false;\n",
       "    }\n",
       "  \n",
       "    var js_urls = [];\n",
       "  \n",
       "    var inline_js = [\n",
       "      function(Bokeh) {\n",
       "        Bokeh.$(function() {\n",
       "            var docs_json = {\"a62f80d0-dbda-47de-9dbd-f21ab8581797\":{\"roots\":{\"references\":[{\"attributes\":{\"active_drag\":\"auto\",\"active_scroll\":\"auto\",\"active_tap\":\"auto\",\"tools\":[{\"id\":\"18c184dc-e0f4-4283-b4f1-1716e31455e5\",\"type\":\"PanTool\"},{\"id\":\"b9775cc9-3e24-4320-aaa0-0526cfc96f20\",\"type\":\"WheelZoomTool\"},{\"id\":\"54a09d79-0b27-420a-b86a-8d19fd6e809c\",\"type\":\"BoxZoomTool\"},{\"id\":\"ccaa5469-d321-48ce-957b-c8ea3bf17636\",\"type\":\"SaveTool\"},{\"id\":\"ae12403f-851c-44c9-a727-10dd66c01f2b\",\"type\":\"ResetTool\"},{\"id\":\"ab5e6ba4-bd4b-4e1d-8561-e629840f562d\",\"type\":\"HelpTool\"}]},\"id\":\"3db650b5-4084-47b9-b7e7-a73a193d3286\",\"type\":\"Toolbar\"},{\"attributes\":{\"formatter\":{\"id\":\"bfe75f12-1540-446d-bcc4-752172a810d0\",\"type\":\"BasicTickFormatter\"},\"plot\":{\"id\":\"e75ff025-de2c-4c58-b676-4d036e95c9d8\",\"subtype\":\"Figure\",\"type\":\"Plot\"},\"ticker\":{\"id\":\"fe613d0c-ae89-4fc2-ae9c-f64c46ac08e1\",\"type\":\"BasicTicker\"}},\"id\":\"8da83910-342d-4322-8210-4d80bbdbaf74\",\"type\":\"LinearAxis\"},{\"attributes\":{\"formatter\":{\"id\":\"3cc8cd8d-ff90-43ad-831c-b3029f6616e6\",\"type\":\"BasicTickFormatter\"},\"plot\":{\"id\":\"e75ff025-de2c-4c58-b676-4d036e95c9d8\",\"subtype\":\"Figure\",\"type\":\"Plot\"},\"ticker\":{\"id\":\"892b5c32-a5f5-4086-b848-07698637eac6\",\"type\":\"BasicTicker\"},\"visible\":null},\"id\":\"85fcaf5e-099e-4246-aa45-3c25c7b3c9c8\",\"type\":\"LinearAxis\"},{\"attributes\":{\"line_color\":{\"field\":\"line_color\"},\"xs\":{\"field\":\"xs\"},\"ys\":{\"field\":\"ys\"}},\"id\":\"5a32146f-c573-4940-804b-d5facbe4242b\",\"type\":\"MultiLine\"},{\"attributes\":{\"bottom\":{\"field\":\"bottom\"},\"fill_color\":{\"field\":\"fill_color\"},\"left\":{\"field\":\"left\"},\"line_color\":{\"value\":null},\"right\":{\"field\":\"right\"},\"top\":{\"field\":\"top\"}},\"id\":\"f953dcb7-1945-4327-98d6-1e56d651a006\",\"type\":\"Quad\"},{\"attributes\":{\"data_source\":{\"id\":\"a911790e-ad98-47d2-9a80-4828e51b83c0\",\"type\":\"ColumnDataSource\"},\"glyph\":{\"id\":\"f953dcb7-1945-4327-98d6-1e56d651a006\",\"type\":\"Quad\"},\"hover_glyph\":null,\"nonselection_glyph\":{\"id\":\"80941546-e875-4071-ba8b-1a271c991b43\",\"type\":\"Quad\"},\"selection_glyph\":null},\"id\":\"fe2826e5-31c2-4b94-a341-5efa487b0751\",\"type\":\"GlyphRenderer\"},{\"attributes\":{\"plot\":{\"id\":\"e75ff025-de2c-4c58-b676-4d036e95c9d8\",\"subtype\":\"Figure\",\"type\":\"Plot\"}},\"id\":\"18c184dc-e0f4-4283-b4f1-1716e31455e5\",\"type\":\"PanTool\"},{\"attributes\":{},\"id\":\"3cc8cd8d-ff90-43ad-831c-b3029f6616e6\",\"type\":\"BasicTickFormatter\"},{\"attributes\":{\"overlay\":{\"id\":\"a22c017a-19cd-420b-9b59-df7ac77c4702\",\"type\":\"BoxAnnotation\"},\"plot\":{\"id\":\"e75ff025-de2c-4c58-b676-4d036e95c9d8\",\"subtype\":\"Figure\",\"type\":\"Plot\"}},\"id\":\"54a09d79-0b27-420a-b86a-8d19fd6e809c\",\"type\":\"BoxZoomTool\"},{\"attributes\":{},\"id\":\"892b5c32-a5f5-4086-b848-07698637eac6\",\"type\":\"BasicTicker\"},{\"attributes\":{\"callback\":null,\"column_names\":[\"right\",\"bottom\",\"top\",\"left\",\"fill_color\"],\"data\":{\"bottom\":[50,50,50,150,150],\"fill_color\":[\"#61c461\",\"#61c461\",\"#61c461\",\"#808080\",\"#61c461\"],\"left\":[135771974,136398174,136494186,136501840,136682274],\"right\":[136140304,136474098,136765951,136555659,136775898],\"top\":[95,94,95,198,197]}},\"id\":\"a911790e-ad98-47d2-9a80-4828e51b83c0\",\"type\":\"ColumnDataSource\"},{\"attributes\":{\"callback\":null,\"column_names\":[\"y\",\"x\",\"vals\"],\"data\":{\"vals\":[\"6_1503\",\"26_1414\",\"64_1575\",\"10_2206\",\"7_1868\"],\"x\":[135771974,136398174,136494186,136501840,136682274],\"y\":[100.0,99.0,100.0,203.0,202.0]}},\"id\":\"09beb13b-25f5-403a-a426-e067792f08af\",\"type\":\"ColumnDataSource\"},{\"attributes\":{\"line_alpha\":{\"value\":0.1},\"line_color\":{\"value\":\"#1f77b4\"},\"xs\":{\"field\":\"xs\"},\"ys\":{\"field\":\"ys\"}},\"id\":\"0b4ceb34-7f72-45d5-beb2-2626993a4f23\",\"type\":\"MultiLine\"},{\"attributes\":{\"plot\":null,\"text\":null},\"id\":\"db71fe89-d805-4c75-b8ac-d14a227cb747\",\"type\":\"Title\"},{\"attributes\":{\"plot\":{\"id\":\"e75ff025-de2c-4c58-b676-4d036e95c9d8\",\"subtype\":\"Figure\",\"type\":\"Plot\"}},\"id\":\"ab5e6ba4-bd4b-4e1d-8561-e629840f562d\",\"type\":\"HelpTool\"},{\"attributes\":{\"plot\":{\"id\":\"e75ff025-de2c-4c58-b676-4d036e95c9d8\",\"subtype\":\"Figure\",\"type\":\"Plot\"}},\"id\":\"ccaa5469-d321-48ce-957b-c8ea3bf17636\",\"type\":\"SaveTool\"},{\"attributes\":{\"plot\":{\"id\":\"e75ff025-de2c-4c58-b676-4d036e95c9d8\",\"subtype\":\"Figure\",\"type\":\"Plot\"}},\"id\":\"ae12403f-851c-44c9-a727-10dd66c01f2b\",\"type\":\"ResetTool\"},{\"attributes\":{\"callback\":null,\"column_names\":[\"right\",\"bottom\",\"top\",\"left\"],\"data\":{\"bottom\":[245,245,245,245,245,245,245],\"left\":[135809835,135957574,136289083,136499189,136545415,136597196,136664254],\"right\":[135928279,136288182,136482839,136542633,136594750,136634047,136743222],\"top\":[275,275,275,275,275,275,275]}},\"id\":\"9a8fc814-b472-4fe3-87f6-1eaeb0e299f5\",\"type\":\"ColumnDataSource\"},{\"attributes\":{\"bottom\":{\"field\":\"bottom\"},\"fill_color\":{\"value\":\"white\"},\"left\":{\"field\":\"left\"},\"right\":{\"field\":\"right\"},\"top\":{\"field\":\"top\"}},\"id\":\"96e96e4f-1bf3-4a80-8aed-12263d10dd76\",\"type\":\"Quad\"},{\"attributes\":{},\"id\":\"e213bf44-0209-4b09-8814-6494b7a44517\",\"type\":\"ToolEvents\"},{\"attributes\":{\"bottom\":{\"field\":\"bottom\"},\"fill_alpha\":{\"value\":0.1},\"fill_color\":{\"value\":\"#1f77b4\"},\"left\":{\"field\":\"left\"},\"line_alpha\":{\"value\":0.1},\"line_color\":{\"value\":\"#1f77b4\"},\"right\":{\"field\":\"right\"},\"top\":{\"field\":\"top\"}},\"id\":\"f11c21dd-c9a5-4603-bb95-f89696f92700\",\"type\":\"Quad\"},{\"attributes\":{\"data_source\":{\"id\":\"cc5e3755-5431-4e7d-973e-2634d9c09cd5\",\"type\":\"ColumnDataSource\"},\"glyph\":{\"id\":\"5a32146f-c573-4940-804b-d5facbe4242b\",\"type\":\"MultiLine\"},\"hover_glyph\":null,\"nonselection_glyph\":{\"id\":\"0b4ceb34-7f72-45d5-beb2-2626993a4f23\",\"type\":\"MultiLine\"},\"selection_glyph\":null},\"id\":\"d7bf6417-1510-4fa5-8ab9-2c5d00224070\",\"type\":\"GlyphRenderer\"},{\"attributes\":{\"callback\":null,\"end\":300},\"id\":\"39023579-0e56-4850-88a6-3c1781ec9641\",\"type\":\"Range1d\"},{\"attributes\":{},\"id\":\"fe613d0c-ae89-4fc2-ae9c-f64c46ac08e1\",\"type\":\"BasicTicker\"},{\"attributes\":{\"callback\":null,\"column_names\":[\"y\",\"x\",\"vals\"],\"data\":{\"vals\":[\"RAB3GAP1\",\"ZRANB3\",\"R3HDM1\",\"UBXN4\",\"LCT\",\"MCM6\",\"DARS\"],\"x\":[135869057.0,136122878.0,136385961.0,136520911.0,136570082.5,136615621.5,136703738.0],\"y\":[260.0,260.0,260.0,260.0,260.0,260.0,260.0]}},\"id\":\"f3fd9fe3-998b-4c5e-a0ad-a66ce8b82733\",\"type\":\"ColumnDataSource\"},{\"attributes\":{\"dimension\":1,\"plot\":{\"id\":\"e75ff025-de2c-4c58-b676-4d036e95c9d8\",\"subtype\":\"Figure\",\"type\":\"Plot\"},\"ticker\":{\"id\":\"892b5c32-a5f5-4086-b848-07698637eac6\",\"type\":\"BasicTicker\"}},\"id\":\"dbb72d26-3fe7-41c9-bc11-a373d6dea378\",\"type\":\"Grid\"},{\"attributes\":{\"bottom\":{\"field\":\"bottom\"},\"fill_alpha\":{\"value\":0.1},\"fill_color\":{\"value\":\"#1f77b4\"},\"left\":{\"field\":\"left\"},\"line_alpha\":{\"value\":0.1},\"line_color\":{\"value\":\"#1f77b4\"},\"right\":{\"field\":\"right\"},\"top\":{\"field\":\"top\"}},\"id\":\"80941546-e875-4071-ba8b-1a271c991b43\",\"type\":\"Quad\"},{\"attributes\":{\"bottom_units\":\"screen\",\"fill_alpha\":{\"value\":0.5},\"fill_color\":{\"value\":\"lightgrey\"},\"left_units\":\"screen\",\"level\":\"overlay\",\"line_alpha\":{\"value\":1.0},\"line_color\":{\"value\":\"black\"},\"line_dash\":[4,4],\"line_width\":{\"value\":2},\"plot\":null,\"render_mode\":\"css\",\"right_units\":\"screen\",\"top_units\":\"screen\"},\"id\":\"a22c017a-19cd-420b-9b59-df7ac77c4702\",\"type\":\"BoxAnnotation\"},{\"attributes\":{\"below\":[{\"id\":\"8da83910-342d-4322-8210-4d80bbdbaf74\",\"type\":\"LinearAxis\"}],\"left\":[{\"id\":\"85fcaf5e-099e-4246-aa45-3c25c7b3c9c8\",\"type\":\"LinearAxis\"}],\"plot_height\":300,\"plot_width\":900,\"renderers\":[{\"id\":\"8da83910-342d-4322-8210-4d80bbdbaf74\",\"type\":\"LinearAxis\"},{\"id\":\"6687d17d-5114-4fd5-ae23-8889082c3cf5\",\"type\":\"Grid\"},{\"id\":\"85fcaf5e-099e-4246-aa45-3c25c7b3c9c8\",\"type\":\"LinearAxis\"},{\"id\":\"dbb72d26-3fe7-41c9-bc11-a373d6dea378\",\"type\":\"Grid\"},{\"id\":\"a22c017a-19cd-420b-9b59-df7ac77c4702\",\"type\":\"BoxAnnotation\"},{\"id\":\"fe2826e5-31c2-4b94-a341-5efa487b0751\",\"type\":\"GlyphRenderer\"},{\"id\":\"d7bf6417-1510-4fa5-8ab9-2c5d00224070\",\"type\":\"GlyphRenderer\"},{\"id\":\"5d4e8275-36b5-4cd5-bd3c-6d67f8f64bee\",\"type\":\"LabelSet\"},{\"id\":\"092212c8-5ed8-44e7-a80b-c097eab12c4b\",\"type\":\"GlyphRenderer\"},{\"id\":\"f67102b0-0088-4b65-9370-a9a6fc918a4e\",\"type\":\"LabelSet\"}],\"title\":{\"id\":\"db71fe89-d805-4c75-b8ac-d14a227cb747\",\"type\":\"Title\"},\"tool_events\":{\"id\":\"e213bf44-0209-4b09-8814-6494b7a44517\",\"type\":\"ToolEvents\"},\"toolbar\":{\"id\":\"3db650b5-4084-47b9-b7e7-a73a193d3286\",\"type\":\"Toolbar\"},\"toolbar_location\":null,\"x_range\":{\"id\":\"89e12c16-242b-4e6c-bcb9-ace780977b93\",\"type\":\"Range1d\"},\"y_range\":{\"id\":\"39023579-0e56-4850-88a6-3c1781ec9641\",\"type\":\"Range1d\"}},\"id\":\"e75ff025-de2c-4c58-b676-4d036e95c9d8\",\"subtype\":\"Figure\",\"type\":\"Plot\"},{\"attributes\":{\"callback\":null,\"end\":136786630,\"start\":135757320},\"id\":\"89e12c16-242b-4e6c-bcb9-ace780977b93\",\"type\":\"Range1d\"},{\"attributes\":{\"level\":\"glyph\",\"plot\":{\"id\":\"e75ff025-de2c-4c58-b676-4d036e95c9d8\",\"subtype\":\"Figure\",\"type\":\"Plot\"},\"source\":{\"id\":\"09beb13b-25f5-403a-a426-e067792f08af\",\"type\":\"ColumnDataSource\"},\"text\":{\"field\":\"vals\"},\"text_font_size\":{\"value\":\"9pt\"},\"text_font_style\":\"bold\",\"x\":{\"field\":\"x\"},\"y\":{\"field\":\"y\"}},\"id\":\"5d4e8275-36b5-4cd5-bd3c-6d67f8f64bee\",\"type\":\"LabelSet\"},{\"attributes\":{\"callback\":null,\"column_names\":[\"xs\",\"ys\",\"line_color\"],\"data\":{\"line_color\":[\"black\",\"black\",\"black\",\"black\",\"black\",\"black\",\"black\",\"black\",\"black\",\"black\",\"black\",\"black\",\"black\",\"black\",\"black\",\"black\",\"black\",\"black\",\"black\",\"black\",\"black\",\"black\",\"black\",\"black\",\"black\",\"black\",\"black\",\"black\",\"black\",\"black\",\"black\",\"black\",\"black\",\"black\",\"black\",\"black\",\"black\",\"black\",\"black\",\"black\",\"black\",\"black\",\"black\",\"black\",\"black\",\"black\",\"black\",\"black\",\"black\",\"black\",\"black\",\"black\",\"black\",\"black\",\"black\",\"black\",\"black\",\"black\",\"black\",\"black\",\"black\",\"black\",\"black\",\"black\",\"black\",\"black\",\"black\",\"black\",\"black\",\"black\",\"black\",\"black\",\"black\",\"black\",\"black\",\"black\",\"black\",\"black\",\"black\",\"black\",\"black\",\"black\",\"black\",\"black\",\"black\",\"black\",\"black\",\"black\",\"black\",\"black\",\"black\",\"black\",\"black\",\"black\",\"black\",\"black\",\"black\",\"black\",\"black\",\"black\",\"black\",\"black\",\"black\",\"black\",\"black\",\"black\",\"black\",\"black\",\"black\",\"black\",\"black\",\"black\",\"black\"],\"xs\":[[135771974,135771974],[135859371,135859371],[135877562,135877562],[136022798,136022798],[136058820,136058820],[136140304,136140304],[136398174,136398174],[136402117,136402117],[136403749,136403749],[136409073,136409073],[136410299,136410299],[136413359,136413359],[136416855,136416855],[136416941,136416941],[136418348,136418348],[136419961,136419961],[136420690,136420690],[136422171,136422171],[136428460,136428460],[136430866,136430866],[136432103,136432103],[136437507,136437507],[136439090,136439090],[136439517,136439517],[136444123,136444123],[136445526,136445526],[136445869,136445869],[136455600,136455600],[136456642,136456642],[136462441,136462441],[136470714,136470714],[136474098,136474098],[136494186,136494186],[136495300,136495300],[136495619,136495619],[136499166,136499166],[136502792,136502792],[136503157,136503157],[136507039,136507039],[136511575,136511575],[136518103,136518103],[136521514,136521514],[136522675,136522675],[136522941,136522941],[136526981,136526981],[136535410,136535410],[136539122,136539122],[136544197,136544197],[136550109,136550109],[136551694,136551694],[136553188,136553188],[136553639,136553639],[136554800,136554800],[136557319,136557319],[136558157,136558157],[136569848,136569848],[136575199,136575199],[136576577,136576577],[136578536,136578536],[136580287,136580287],[136583192,136583192],[136586958,136586958],[136588478,136588478],[136589612,136589612],[136591178,136591178],[136591859,136591859],[136593760,136593760],[136594158,136594158],[136603276,136603276],[136603366,136603366],[136608231,136608231],[136609975,136609975],[136610598,136610598],[136611624,136611624],[136613780,136613780],[136614255,136614255],[136614813,136614813],[136617524,136617524],[136622216,136622216],[136625602,136625602],[136629911,136629911],[136630757,136630757],[136630989,136630989],[136631031,136631031],[136633771,136633771],[136636324,136636324],[136638216,136638216],[136640233,136640233],[136641882,136641882],[136643555,136643555],[136658345,136658345],[136670298,136670298],[136685228,136685228],[136696138,136696138],[136740900,136740900],[136765951,136765951],[136501840,136501840],[136505546,136505546],[136516748,136516748],[136522710,136522710],[136528004,136528004],[136539513,136539513],[136544752,136544752],[136546110,136546110],[136553529,136553529],[136555659,136555659],[136682274,136682274],[136691825,136691825],[136698098,136698098],[136721603,136721603],[136721995,136721995],[136755684,136755684],[136775898,136775898]],\"ys\":[[50,95],[50,95],[50,95],[50,95],[50,95],[50,95],[50,94],[50,94],[50,94],[50,94],[50,94],[50,94],[50,94],[50,94],[50,94],[50,94],[50,94],[50,94],[50,94],[50,94],[50,94],[50,94],[50,94],[50,94],[50,94],[50,94],[50,94],[50,94],[50,94],[50,94],[50,94],[50,94],[50,95],[50,95],[50,95],[50,95],[50,95],[50,95],[50,95],[50,95],[50,95],[50,95],[50,95],[50,95],[50,95],[50,95],[50,95],[50,95],[50,95],[50,95],[50,95],[50,95],[50,95],[50,95],[50,95],[50,95],[50,95],[50,95],[50,95],[50,95],[50,95],[50,95],[50,95],[50,95],[50,95],[50,95],[50,95],[50,95],[50,95],[50,95],[50,95],[50,95],[50,95],[50,95],[50,95],[50,95],[50,95],[50,95],[50,95],[50,95],[50,95],[50,95],[50,95],[50,95],[50,95],[50,95],[50,95],[50,95],[50,95],[50,95],[50,95],[50,95],[50,95],[50,95],[50,95],[50,95],[150,198],[150,198],[150,198],[150,198],[150,198],[150,198],[150,198],[150,198],[150,198],[150,198],[150,197],[150,197],[150,197],[150,197],[150,197],[150,197],[150,197]]}},\"id\":\"cc5e3755-5431-4e7d-973e-2634d9c09cd5\",\"type\":\"ColumnDataSource\"},{\"attributes\":{\"level\":\"glyph\",\"plot\":{\"id\":\"e75ff025-de2c-4c58-b676-4d036e95c9d8\",\"subtype\":\"Figure\",\"type\":\"Plot\"},\"source\":{\"id\":\"f3fd9fe3-998b-4c5e-a0ad-a66ce8b82733\",\"type\":\"ColumnDataSource\"},\"text\":{\"field\":\"vals\"},\"text_align\":\"center\",\"text_baseline\":\"middle\",\"text_font_size\":{\"value\":\"8pt\"},\"x\":{\"field\":\"x\"},\"y\":{\"field\":\"y\"}},\"id\":\"f67102b0-0088-4b65-9370-a9a6fc918a4e\",\"type\":\"LabelSet\"},{\"attributes\":{\"data_source\":{\"id\":\"9a8fc814-b472-4fe3-87f6-1eaeb0e299f5\",\"type\":\"ColumnDataSource\"},\"glyph\":{\"id\":\"96e96e4f-1bf3-4a80-8aed-12263d10dd76\",\"type\":\"Quad\"},\"hover_glyph\":null,\"nonselection_glyph\":{\"id\":\"f11c21dd-c9a5-4603-bb95-f89696f92700\",\"type\":\"Quad\"},\"selection_glyph\":null},\"id\":\"092212c8-5ed8-44e7-a80b-c097eab12c4b\",\"type\":\"GlyphRenderer\"},{\"attributes\":{},\"id\":\"bfe75f12-1540-446d-bcc4-752172a810d0\",\"type\":\"BasicTickFormatter\"},{\"attributes\":{\"plot\":{\"id\":\"e75ff025-de2c-4c58-b676-4d036e95c9d8\",\"subtype\":\"Figure\",\"type\":\"Plot\"}},\"id\":\"b9775cc9-3e24-4320-aaa0-0526cfc96f20\",\"type\":\"WheelZoomTool\"},{\"attributes\":{\"plot\":{\"id\":\"e75ff025-de2c-4c58-b676-4d036e95c9d8\",\"subtype\":\"Figure\",\"type\":\"Plot\"},\"ticker\":{\"id\":\"fe613d0c-ae89-4fc2-ae9c-f64c46ac08e1\",\"type\":\"BasicTicker\"}},\"id\":\"6687d17d-5114-4fd5-ae23-8889082c3cf5\",\"type\":\"Grid\"}],\"root_ids\":[\"e75ff025-de2c-4c58-b676-4d036e95c9d8\"]},\"title\":\"Bokeh Application\",\"version\":\"0.12.0\"}};\n",
       "            var render_items = [{\"docid\":\"a62f80d0-dbda-47de-9dbd-f21ab8581797\",\"elementid\":\"ed506bb7-366e-494c-acc5-892844eca56d\",\"modelid\":\"e75ff025-de2c-4c58-b676-4d036e95c9d8\",\"notebook_comms_target\":\"846f9009-f8d6-4801-b2c2-ac020c9e2c18\"}];\n",
       "            \n",
       "            Bokeh.embed.embed_items(docs_json, render_items);\n",
       "        });\n",
       "      },\n",
       "      function(Bokeh) {\n",
       "      }\n",
       "    ];\n",
       "  \n",
       "    function run_inline_js() {\n",
       "      for (var i = 0; i < inline_js.length; i++) {\n",
       "        inline_js[i](window.Bokeh);\n",
       "      }\n",
       "    }\n",
       "  \n",
       "    if (window._bokeh_is_loading === 0) {\n",
       "      console.log(\"Bokeh: BokehJS loaded, going straight to plotting\");\n",
       "      run_inline_js();\n",
       "    } else {\n",
       "      load_libs(js_urls, function() {\n",
       "        console.log(\"Bokeh: BokehJS plotting callback run at\", now());\n",
       "        run_inline_js();\n",
       "      });\n",
       "    }\n",
       "  }(this));\n",
       "</script>"
      ]
     },
     "metadata": {},
     "output_type": "display_data"
    },
    {
     "data": {
      "text/html": [
       "<p><code>&lt;Bokeh Notebook handle for <strong>In[28]</strong>&gt;</code></p>"
      ],
      "text/plain": [
       "<bokeh.io._CommsHandle at 0x7ff6b457f6d0>"
      ]
     },
     "execution_count": 28,
     "metadata": {},
     "output_type": "execute_result"
    }
   ],
   "source": [
    "plt_obj = dm.superset_yes_no([dm.di_6_1503, dm.di_26_1414, dm.di_10_2206, dm.di_64_1575, dm.di_7_1868], \n",
    "                             [dm.di_4_1699,\n",
    "                              dm.di_4_911, dm.di_11_765, di_6_57, di_6_35, di_7_22, di_7_20],\n",
    "                             min_match=0.001)\n",
    "plt = plt_obj.do_plot()\n",
    "show(plt)"
   ]
  },
  {
   "cell_type": "code",
   "execution_count": 29,
   "metadata": {
    "collapsed": false,
    "deletable": true,
    "editable": true
   },
   "outputs": [
    {
     "data": {
      "text/html": [
       "<table>\n",
       "<thead><tr><th style=\"text-align:center\">index</th><th style=\"text-align:center\">first</th><th style=\"text-align:center\">length</th><th style=\"text-align:center\">snps</th><th style=\"text-align:center\" colspan=2>alleles</th><th style=\"text-align:center\" colspan=2>matches</th><th style=\"text-align:center\" colspan=2>afr</th><th style=\"text-align:center\" colspan=2>afx</th><th style=\"text-align:center\" colspan=2>amr</th><th style=\"text-align:center\" colspan=2>eas</th><th style=\"text-align:center\" colspan=2>eur</th><th style=\"text-align:center\" colspan=2>sas</th><th style=\"text-align:center\" colspan=2>sax</th></tr></thead>\n",
       "<tr class=\"even\"><td style=\"text-align: right;\">353921</td><td style=\"text-align: right;\">136,501,840</td><td style=\"text-align: right;\">53,819</td><td style=\"text-align: right;\">10</td><td style=\"text-align: right;\">2206</td><td style=\"text-align: right;\">0.00</td><td style=\"text-align: right;\">1</td><td style=\"text-align: right;\">1.00</td><td style=\"text-align: right;\">0</td><td style=\"text-align: right;\">0.00</td><td style=\"text-align: right;\">0</td><td style=\"text-align: right;\">0.00</td><td style=\"text-align: right;\">0</td><td style=\"text-align: right;\">0.00</td><td style=\"text-align: right;\">0</td><td style=\"text-align: right;\">0.00</td><td style=\"text-align: right;\">0</td><td style=\"text-align: right;\">0.00</td><td style=\"text-align: right;\">0</td><td style=\"text-align: right;\">0.00</td><td style=\"text-align: right;\">1</td><td style=\"text-align: right;\">6.73</td></tr>\n",
       "<tr><td style=\"text-align: right;\">354170</td><td style=\"text-align: right;\">136,682,274</td><td style=\"text-align: right;\">93,624</td><td style=\"text-align: right;\">7</td><td style=\"text-align: right;\">1868</td><td style=\"text-align: right;\">0.00</td><td style=\"text-align: right;\">1</td><td style=\"text-align: right;\">1.00</td><td style=\"text-align: right;\">0</td><td style=\"text-align: right;\">0.00</td><td style=\"text-align: right;\">0</td><td style=\"text-align: right;\">0.00</td><td style=\"text-align: right;\">0</td><td style=\"text-align: right;\">0.00</td><td style=\"text-align: right;\">0</td><td style=\"text-align: right;\">0.00</td><td style=\"text-align: right;\">0</td><td style=\"text-align: right;\">0.00</td><td style=\"text-align: right;\">0</td><td style=\"text-align: right;\">0.00</td><td style=\"text-align: right;\">1</td><td style=\"text-align: right;\">6.73</td></tr>\n",
       "<tr class=\"even\"><td style=\"text-align: right;\">353901</td><td style=\"text-align: right;\">136,494,186</td><td style=\"text-align: right;\">271,765</td><td style=\"text-align: right;\">64</td><td style=\"text-align: right;\">1575</td><td style=\"text-align: right;\">0.00</td><td style=\"text-align: right;\">1</td><td style=\"text-align: right;\">1.00</td><td style=\"text-align: right;\">0</td><td style=\"text-align: right;\">0.00</td><td style=\"text-align: right;\">0</td><td style=\"text-align: right;\">0.00</td><td style=\"text-align: right;\">0</td><td style=\"text-align: right;\">0.00</td><td style=\"text-align: right;\">0</td><td style=\"text-align: right;\">0.00</td><td style=\"text-align: right;\">0</td><td style=\"text-align: right;\">0.00</td><td style=\"text-align: right;\">0</td><td style=\"text-align: right;\">0.00</td><td style=\"text-align: right;\">1</td><td style=\"text-align: right;\">6.73</td></tr>\n",
       "<tr><td style=\"text-align: right;\">353283</td><td style=\"text-align: right;\">135,771,974</td><td style=\"text-align: right;\">368,330</td><td style=\"text-align: right;\">6</td><td style=\"text-align: right;\">1503</td><td style=\"text-align: right;\">0.00</td><td style=\"text-align: right;\">1</td><td style=\"text-align: right;\">1.00</td><td style=\"text-align: right;\">0</td><td style=\"text-align: right;\">0.00</td><td style=\"text-align: right;\">0</td><td style=\"text-align: right;\">0.00</td><td style=\"text-align: right;\">0</td><td style=\"text-align: right;\">0.00</td><td style=\"text-align: right;\">0</td><td style=\"text-align: right;\">0.00</td><td style=\"text-align: right;\">0</td><td style=\"text-align: right;\">0.00</td><td style=\"text-align: right;\">0</td><td style=\"text-align: right;\">0.00</td><td style=\"text-align: right;\">1</td><td style=\"text-align: right;\">6.73</td></tr>\n",
       "<tr class=\"even\"><td style=\"text-align: right;\">353797</td><td style=\"text-align: right;\">136,398,174</td><td style=\"text-align: right;\">75,924</td><td style=\"text-align: right;\">26</td><td style=\"text-align: right;\">1414</td><td style=\"text-align: right;\">0.00</td><td style=\"text-align: right;\">1</td><td style=\"text-align: right;\">1.00</td><td style=\"text-align: right;\">0</td><td style=\"text-align: right;\">0.00</td><td style=\"text-align: right;\">0</td><td style=\"text-align: right;\">0.00</td><td style=\"text-align: right;\">0</td><td style=\"text-align: right;\">0.00</td><td style=\"text-align: right;\">0</td><td style=\"text-align: right;\">0.00</td><td style=\"text-align: right;\">0</td><td style=\"text-align: right;\">0.00</td><td style=\"text-align: right;\">0</td><td style=\"text-align: right;\">0.00</td><td style=\"text-align: right;\">1</td><td style=\"text-align: right;\">6.73</td></tr>\n",
       "</table>"
      ],
      "text/plain": [
       "<IPython.core.display.HTML object>"
      ]
     },
     "execution_count": 29,
     "metadata": {},
     "output_type": "execute_result"
    }
   ],
   "source": [
    "HTML(plt_obj.get_html())"
   ]
  },
  {
   "cell_type": "code",
   "execution_count": 30,
   "metadata": {
    "collapsed": false,
    "deletable": true,
    "editable": true
   },
   "outputs": [
    {
     "data": {
      "text/html": [
       "\n",
       "\n",
       "    <div class=\"bk-root\">\n",
       "        <div class=\"plotdiv\" id=\"75eaef1f-f6a4-4550-a63a-9d83ceeb02a4\"></div>\n",
       "    </div>\n",
       "<script type=\"text/javascript\">\n",
       "  \n",
       "  (function(global) {\n",
       "    function now() {\n",
       "      return new Date();\n",
       "    }\n",
       "  \n",
       "    if (typeof (window._bokeh_onload_callbacks) === \"undefined\") {\n",
       "      window._bokeh_onload_callbacks = [];\n",
       "    }\n",
       "  \n",
       "    function run_callbacks() {\n",
       "      window._bokeh_onload_callbacks.forEach(function(callback) { callback() });\n",
       "      delete window._bokeh_onload_callbacks\n",
       "      console.info(\"Bokeh: all callbacks have finished\");\n",
       "    }\n",
       "  \n",
       "    function load_libs(js_urls, callback) {\n",
       "      window._bokeh_onload_callbacks.push(callback);\n",
       "      if (window._bokeh_is_loading > 0) {\n",
       "        console.log(\"Bokeh: BokehJS is being loaded, scheduling callback at\", now());\n",
       "        return null;\n",
       "      }\n",
       "      if (js_urls == null || js_urls.length === 0) {\n",
       "        run_callbacks();\n",
       "        return null;\n",
       "      }\n",
       "      console.log(\"Bokeh: BokehJS not loaded, scheduling load and callback at\", now());\n",
       "      window._bokeh_is_loading = js_urls.length;\n",
       "      for (var i = 0; i < js_urls.length; i++) {\n",
       "        var url = js_urls[i];\n",
       "        var s = document.createElement('script');\n",
       "        s.src = url;\n",
       "        s.async = false;\n",
       "        s.onreadystatechange = s.onload = function() {\n",
       "          window._bokeh_is_loading--;\n",
       "          if (window._bokeh_is_loading === 0) {\n",
       "            console.log(\"Bokeh: all BokehJS libraries loaded\");\n",
       "            run_callbacks()\n",
       "          }\n",
       "        };\n",
       "        s.onerror = function() {\n",
       "          console.warn(\"failed to load library \" + url);\n",
       "        };\n",
       "        console.log(\"Bokeh: injecting script tag for BokehJS library: \", url);\n",
       "        document.getElementsByTagName(\"head\")[0].appendChild(s);\n",
       "      }\n",
       "    };var element = document.getElementById(\"75eaef1f-f6a4-4550-a63a-9d83ceeb02a4\");\n",
       "    if (element == null) {\n",
       "      console.log(\"Bokeh: ERROR: autoload.js configured with elementid '75eaef1f-f6a4-4550-a63a-9d83ceeb02a4' but no matching script tag was found. \")\n",
       "      return false;\n",
       "    }\n",
       "  \n",
       "    var js_urls = [];\n",
       "  \n",
       "    var inline_js = [\n",
       "      function(Bokeh) {\n",
       "        Bokeh.$(function() {\n",
       "            var docs_json = {\"fb017357-bd06-4d91-828b-c68548bbc1b1\":{\"roots\":{\"references\":[{\"attributes\":{},\"id\":\"f73137d4-1ebe-4f1c-aaed-91b2ecaffa65\",\"type\":\"ToolEvents\"},{\"attributes\":{\"callback\":null,\"column_names\":[\"y\",\"x\",\"vals\"],\"data\":{\"vals\":[\"6_1503\",\"4_1699\",\"26_1414\",\"10_2206\",\"7_1760\",\"16_511\"],\"x\":[135771974,135915358,136398174,136501840,136588031,136603638],\"y\":[100.0,201.0,99.0,303.0,301.0,90.0]}},\"id\":\"3c78a0a7-0963-4271-ae95-46c072f50697\",\"type\":\"ColumnDataSource\"},{\"attributes\":{},\"id\":\"ccd80749-fb7c-4b72-9393-c9ce417a3c24\",\"type\":\"BasicTickFormatter\"},{\"attributes\":{\"callback\":null,\"column_names\":[\"right\",\"bottom\",\"top\",\"left\",\"fill_color\"],\"data\":{\"bottom\":[50,150,50,250,250,50],\"fill_color\":[\"#61c461\",\"#61c461\",\"#61c461\",\"#808080\",\"#c46161\",\"#c46161\"],\"left\":[135771974,135915358,136398174,136501840,136588031,136603638],\"right\":[136140304,135995079,136474098,136555659,136593678,136632125],\"top\":[95,196,94,298,296,85]}},\"id\":\"f4e02095-2bb8-4452-85a4-a26fa6d148d8\",\"type\":\"ColumnDataSource\"},{\"attributes\":{\"level\":\"glyph\",\"plot\":{\"id\":\"4ea335ca-f36c-4f0b-b8d1-6cafbd54a261\",\"subtype\":\"Figure\",\"type\":\"Plot\"},\"source\":{\"id\":\"3c78a0a7-0963-4271-ae95-46c072f50697\",\"type\":\"ColumnDataSource\"},\"text\":{\"field\":\"vals\"},\"text_font_size\":{\"value\":\"9pt\"},\"text_font_style\":\"bold\",\"x\":{\"field\":\"x\"},\"y\":{\"field\":\"y\"}},\"id\":\"2c22b0d8-3212-4400-b987-dbe44f8e8e37\",\"type\":\"LabelSet\"},{\"attributes\":{},\"id\":\"92ae76e1-5ce9-475b-bdf5-a89f535303f5\",\"type\":\"BasicTickFormatter\"},{\"attributes\":{\"line_color\":{\"field\":\"line_color\"},\"xs\":{\"field\":\"xs\"},\"ys\":{\"field\":\"ys\"}},\"id\":\"3a18d00b-3e45-43b5-a39b-b3b796b877f9\",\"type\":\"MultiLine\"},{\"attributes\":{\"callback\":null,\"end\":136786630,\"start\":135757320},\"id\":\"a668ffa8-3361-4503-ba08-3a9441244dfd\",\"type\":\"Range1d\"},{\"attributes\":{\"plot\":{\"id\":\"4ea335ca-f36c-4f0b-b8d1-6cafbd54a261\",\"subtype\":\"Figure\",\"type\":\"Plot\"}},\"id\":\"59aa4217-da66-4624-ae21-21b7d23694e1\",\"type\":\"SaveTool\"},{\"attributes\":{\"callback\":null,\"column_names\":[\"right\",\"bottom\",\"top\",\"left\"],\"data\":{\"bottom\":[345,345,345,345,345,345,345],\"left\":[135809835,135957574,136289083,136499189,136545415,136597196,136664254],\"right\":[135928279,136288182,136482839,136542633,136594750,136634047,136743222],\"top\":[375,375,375,375,375,375,375]}},\"id\":\"7b582597-d94b-4332-b7a5-5ed03f2dbfae\",\"type\":\"ColumnDataSource\"},{\"attributes\":{\"data_source\":{\"id\":\"f4e02095-2bb8-4452-85a4-a26fa6d148d8\",\"type\":\"ColumnDataSource\"},\"glyph\":{\"id\":\"8c0a284c-1cff-4391-a98c-f6f44ed846da\",\"type\":\"Quad\"},\"hover_glyph\":null,\"nonselection_glyph\":{\"id\":\"f3ceda72-d3b3-4969-8843-e061d1e6105d\",\"type\":\"Quad\"},\"selection_glyph\":null},\"id\":\"9744fa97-011f-4196-909e-167e80a4571a\",\"type\":\"GlyphRenderer\"},{\"attributes\":{},\"id\":\"2c59b033-3753-4b77-ade0-0e1d83fd1888\",\"type\":\"BasicTicker\"},{\"attributes\":{\"bottom\":{\"field\":\"bottom\"},\"fill_alpha\":{\"value\":0.1},\"fill_color\":{\"value\":\"#1f77b4\"},\"left\":{\"field\":\"left\"},\"line_alpha\":{\"value\":0.1},\"line_color\":{\"value\":\"#1f77b4\"},\"right\":{\"field\":\"right\"},\"top\":{\"field\":\"top\"}},\"id\":\"f3ceda72-d3b3-4969-8843-e061d1e6105d\",\"type\":\"Quad\"},{\"attributes\":{\"plot\":{\"id\":\"4ea335ca-f36c-4f0b-b8d1-6cafbd54a261\",\"subtype\":\"Figure\",\"type\":\"Plot\"}},\"id\":\"e10113b1-1aec-46a1-bf30-a7e743820fd6\",\"type\":\"PanTool\"},{\"attributes\":{\"plot\":null,\"text\":null},\"id\":\"7aa2669e-49aa-4afe-9337-47dcf82971a6\",\"type\":\"Title\"},{\"attributes\":{\"below\":[{\"id\":\"fa36414f-2270-4009-8724-afe76d4ca0a9\",\"type\":\"LinearAxis\"}],\"left\":[{\"id\":\"bb6fe2bf-1717-4cc5-948f-359f035a34f5\",\"type\":\"LinearAxis\"}],\"plot_height\":400,\"plot_width\":900,\"renderers\":[{\"id\":\"fa36414f-2270-4009-8724-afe76d4ca0a9\",\"type\":\"LinearAxis\"},{\"id\":\"90619209-8883-4190-b0e6-020f7ce486c7\",\"type\":\"Grid\"},{\"id\":\"bb6fe2bf-1717-4cc5-948f-359f035a34f5\",\"type\":\"LinearAxis\"},{\"id\":\"ad7ae2cc-be17-4390-8b70-d5eacb1a39d2\",\"type\":\"Grid\"},{\"id\":\"75780f5d-ee37-4d33-93c2-51efab40c642\",\"type\":\"BoxAnnotation\"},{\"id\":\"9744fa97-011f-4196-909e-167e80a4571a\",\"type\":\"GlyphRenderer\"},{\"id\":\"548c17d0-fb94-410d-ab8b-9ff8b7ef4d45\",\"type\":\"GlyphRenderer\"},{\"id\":\"2c22b0d8-3212-4400-b987-dbe44f8e8e37\",\"type\":\"LabelSet\"},{\"id\":\"27b0679b-33ec-40b3-9e97-896f28026d3a\",\"type\":\"GlyphRenderer\"},{\"id\":\"1379451a-4ad9-4357-8a2c-34855cec896a\",\"type\":\"LabelSet\"}],\"title\":{\"id\":\"7aa2669e-49aa-4afe-9337-47dcf82971a6\",\"type\":\"Title\"},\"tool_events\":{\"id\":\"f73137d4-1ebe-4f1c-aaed-91b2ecaffa65\",\"type\":\"ToolEvents\"},\"toolbar\":{\"id\":\"ddc2f074-9135-408c-96b6-6898a039fd89\",\"type\":\"Toolbar\"},\"toolbar_location\":null,\"x_range\":{\"id\":\"a668ffa8-3361-4503-ba08-3a9441244dfd\",\"type\":\"Range1d\"},\"y_range\":{\"id\":\"40fe2672-77e7-458f-b8a9-819c27851650\",\"type\":\"Range1d\"}},\"id\":\"4ea335ca-f36c-4f0b-b8d1-6cafbd54a261\",\"subtype\":\"Figure\",\"type\":\"Plot\"},{\"attributes\":{\"dimension\":1,\"plot\":{\"id\":\"4ea335ca-f36c-4f0b-b8d1-6cafbd54a261\",\"subtype\":\"Figure\",\"type\":\"Plot\"},\"ticker\":{\"id\":\"2c59b033-3753-4b77-ade0-0e1d83fd1888\",\"type\":\"BasicTicker\"}},\"id\":\"ad7ae2cc-be17-4390-8b70-d5eacb1a39d2\",\"type\":\"Grid\"},{\"attributes\":{\"formatter\":{\"id\":\"92ae76e1-5ce9-475b-bdf5-a89f535303f5\",\"type\":\"BasicTickFormatter\"},\"plot\":{\"id\":\"4ea335ca-f36c-4f0b-b8d1-6cafbd54a261\",\"subtype\":\"Figure\",\"type\":\"Plot\"},\"ticker\":{\"id\":\"2c59b033-3753-4b77-ade0-0e1d83fd1888\",\"type\":\"BasicTicker\"},\"visible\":null},\"id\":\"bb6fe2bf-1717-4cc5-948f-359f035a34f5\",\"type\":\"LinearAxis\"},{\"attributes\":{\"plot\":{\"id\":\"4ea335ca-f36c-4f0b-b8d1-6cafbd54a261\",\"subtype\":\"Figure\",\"type\":\"Plot\"}},\"id\":\"09aa254c-d662-4b14-bcad-c5d3c1d8cf56\",\"type\":\"WheelZoomTool\"},{\"attributes\":{\"data_source\":{\"id\":\"7b582597-d94b-4332-b7a5-5ed03f2dbfae\",\"type\":\"ColumnDataSource\"},\"glyph\":{\"id\":\"6b2bba3d-68ef-4fcf-ae0b-d354f8006248\",\"type\":\"Quad\"},\"hover_glyph\":null,\"nonselection_glyph\":{\"id\":\"ef5a2ace-a8be-4325-982d-b8d8c694647b\",\"type\":\"Quad\"},\"selection_glyph\":null},\"id\":\"27b0679b-33ec-40b3-9e97-896f28026d3a\",\"type\":\"GlyphRenderer\"},{\"attributes\":{\"formatter\":{\"id\":\"ccd80749-fb7c-4b72-9393-c9ce417a3c24\",\"type\":\"BasicTickFormatter\"},\"plot\":{\"id\":\"4ea335ca-f36c-4f0b-b8d1-6cafbd54a261\",\"subtype\":\"Figure\",\"type\":\"Plot\"},\"ticker\":{\"id\":\"9e4074aa-2aec-4b68-8b3b-b3a34bc9d34f\",\"type\":\"BasicTicker\"}},\"id\":\"fa36414f-2270-4009-8724-afe76d4ca0a9\",\"type\":\"LinearAxis\"},{\"attributes\":{\"callback\":null,\"column_names\":[\"xs\",\"ys\",\"line_color\"],\"data\":{\"line_color\":[\"black\",\"black\",\"black\",\"black\",\"black\",\"black\",\"black\",\"black\",\"black\",\"black\",\"black\",\"black\",\"black\",\"black\",\"black\",\"black\",\"black\",\"black\",\"black\",\"black\",\"black\",\"black\",\"black\",\"black\",\"black\",\"black\",\"black\",\"black\",\"black\",\"black\",\"black\",\"black\",\"black\",\"black\",\"black\",\"black\",\"black\",\"black\",\"black\",\"black\",\"black\",\"black\",\"black\",\"black\",\"black\",\"black\",\"black\",\"black\",\"black\",\"black\",\"black\",\"black\",\"black\",\"black\",\"black\",\"black\",\"black\",\"black\",\"black\",\"black\",\"black\",\"black\",\"black\",\"black\",\"black\",\"black\",\"black\",\"black\",\"black\"],\"xs\":[[135771974,135771974],[135859371,135859371],[135877562,135877562],[136022798,136022798],[136058820,136058820],[136140304,136140304],[135915358,135915358],[135954405,135954405],[135995073,135995073],[135995079,135995079],[136398174,136398174],[136402117,136402117],[136403749,136403749],[136409073,136409073],[136410299,136410299],[136413359,136413359],[136416855,136416855],[136416941,136416941],[136418348,136418348],[136419961,136419961],[136420690,136420690],[136422171,136422171],[136428460,136428460],[136430866,136430866],[136432103,136432103],[136437507,136437507],[136439090,136439090],[136439517,136439517],[136444123,136444123],[136445526,136445526],[136445869,136445869],[136455600,136455600],[136456642,136456642],[136462441,136462441],[136470714,136470714],[136474098,136474098],[136501840,136501840],[136505546,136505546],[136516748,136516748],[136522710,136522710],[136528004,136528004],[136539513,136539513],[136544752,136544752],[136546110,136546110],[136553529,136553529],[136555659,136555659],[136588031,136588031],[136589278,136589278],[136589379,136589379],[136589741,136589741],[136590746,136590746],[136593553,136593553],[136593678,136593678],[136603638,136603638],[136603690,136603690],[136604210,136604210],[136604345,136604345],[136604346,136604346],[136605111,136605111],[136612598,136612598],[136614955,136614955],[136619114,136619114],[136619213,136619213],[136623900,136623900],[136624123,136624123],[136624155,136624155],[136630170,136630170],[136631415,136631415],[136632125,136632125]],\"ys\":[[50,95],[50,95],[50,95],[50,95],[50,95],[50,95],[150,196],[150,196],[150,196],[150,196],[50,94],[50,94],[50,94],[50,94],[50,94],[50,94],[50,94],[50,94],[50,94],[50,94],[50,94],[50,94],[50,94],[50,94],[50,94],[50,94],[50,94],[50,94],[50,94],[50,94],[50,94],[50,94],[50,94],[50,94],[50,94],[50,94],[250,298],[250,298],[250,298],[250,298],[250,298],[250,298],[250,298],[250,298],[250,298],[250,298],[250,296],[250,296],[250,296],[250,296],[250,296],[250,296],[250,296],[50,85],[50,85],[50,85],[50,85],[50,85],[50,85],[50,85],[50,85],[50,85],[50,85],[50,85],[50,85],[50,85],[50,85],[50,85],[50,85]]}},\"id\":\"38f7d3bf-2c4c-4114-9b62-45855bd3baa7\",\"type\":\"ColumnDataSource\"},{\"attributes\":{\"overlay\":{\"id\":\"75780f5d-ee37-4d33-93c2-51efab40c642\",\"type\":\"BoxAnnotation\"},\"plot\":{\"id\":\"4ea335ca-f36c-4f0b-b8d1-6cafbd54a261\",\"subtype\":\"Figure\",\"type\":\"Plot\"}},\"id\":\"6e1b02f6-806c-4af4-adb1-4e2757116d76\",\"type\":\"BoxZoomTool\"},{\"attributes\":{\"plot\":{\"id\":\"4ea335ca-f36c-4f0b-b8d1-6cafbd54a261\",\"subtype\":\"Figure\",\"type\":\"Plot\"}},\"id\":\"ba13365f-f36a-4805-8b05-8e62e6bb9f61\",\"type\":\"ResetTool\"},{\"attributes\":{\"level\":\"glyph\",\"plot\":{\"id\":\"4ea335ca-f36c-4f0b-b8d1-6cafbd54a261\",\"subtype\":\"Figure\",\"type\":\"Plot\"},\"source\":{\"id\":\"51e9d965-9da1-43a4-b389-9599cd495449\",\"type\":\"ColumnDataSource\"},\"text\":{\"field\":\"vals\"},\"text_align\":\"center\",\"text_baseline\":\"middle\",\"text_font_size\":{\"value\":\"8pt\"},\"x\":{\"field\":\"x\"},\"y\":{\"field\":\"y\"}},\"id\":\"1379451a-4ad9-4357-8a2c-34855cec896a\",\"type\":\"LabelSet\"},{\"attributes\":{\"data_source\":{\"id\":\"38f7d3bf-2c4c-4114-9b62-45855bd3baa7\",\"type\":\"ColumnDataSource\"},\"glyph\":{\"id\":\"3a18d00b-3e45-43b5-a39b-b3b796b877f9\",\"type\":\"MultiLine\"},\"hover_glyph\":null,\"nonselection_glyph\":{\"id\":\"77a3a571-92d1-4773-b7e7-1a18cbe1e907\",\"type\":\"MultiLine\"},\"selection_glyph\":null},\"id\":\"548c17d0-fb94-410d-ab8b-9ff8b7ef4d45\",\"type\":\"GlyphRenderer\"},{\"attributes\":{\"callback\":null,\"column_names\":[\"y\",\"x\",\"vals\"],\"data\":{\"vals\":[\"RAB3GAP1\",\"ZRANB3\",\"R3HDM1\",\"UBXN4\",\"LCT\",\"MCM6\",\"DARS\"],\"x\":[135869057.0,136122878.0,136385961.0,136520911.0,136570082.5,136615621.5,136703738.0],\"y\":[360.0,360.0,360.0,360.0,360.0,360.0,360.0]}},\"id\":\"51e9d965-9da1-43a4-b389-9599cd495449\",\"type\":\"ColumnDataSource\"},{\"attributes\":{\"active_drag\":\"auto\",\"active_scroll\":\"auto\",\"active_tap\":\"auto\",\"tools\":[{\"id\":\"e10113b1-1aec-46a1-bf30-a7e743820fd6\",\"type\":\"PanTool\"},{\"id\":\"09aa254c-d662-4b14-bcad-c5d3c1d8cf56\",\"type\":\"WheelZoomTool\"},{\"id\":\"6e1b02f6-806c-4af4-adb1-4e2757116d76\",\"type\":\"BoxZoomTool\"},{\"id\":\"59aa4217-da66-4624-ae21-21b7d23694e1\",\"type\":\"SaveTool\"},{\"id\":\"ba13365f-f36a-4805-8b05-8e62e6bb9f61\",\"type\":\"ResetTool\"},{\"id\":\"68903f85-520b-44f6-9469-360c0ba824ef\",\"type\":\"HelpTool\"}]},\"id\":\"ddc2f074-9135-408c-96b6-6898a039fd89\",\"type\":\"Toolbar\"},{\"attributes\":{},\"id\":\"9e4074aa-2aec-4b68-8b3b-b3a34bc9d34f\",\"type\":\"BasicTicker\"},{\"attributes\":{\"bottom\":{\"field\":\"bottom\"},\"fill_color\":{\"field\":\"fill_color\"},\"left\":{\"field\":\"left\"},\"line_color\":{\"value\":null},\"right\":{\"field\":\"right\"},\"top\":{\"field\":\"top\"}},\"id\":\"8c0a284c-1cff-4391-a98c-f6f44ed846da\",\"type\":\"Quad\"},{\"attributes\":{\"bottom_units\":\"screen\",\"fill_alpha\":{\"value\":0.5},\"fill_color\":{\"value\":\"lightgrey\"},\"left_units\":\"screen\",\"level\":\"overlay\",\"line_alpha\":{\"value\":1.0},\"line_color\":{\"value\":\"black\"},\"line_dash\":[4,4],\"line_width\":{\"value\":2},\"plot\":null,\"render_mode\":\"css\",\"right_units\":\"screen\",\"top_units\":\"screen\"},\"id\":\"75780f5d-ee37-4d33-93c2-51efab40c642\",\"type\":\"BoxAnnotation\"},{\"attributes\":{\"plot\":{\"id\":\"4ea335ca-f36c-4f0b-b8d1-6cafbd54a261\",\"subtype\":\"Figure\",\"type\":\"Plot\"}},\"id\":\"68903f85-520b-44f6-9469-360c0ba824ef\",\"type\":\"HelpTool\"},{\"attributes\":{\"bottom\":{\"field\":\"bottom\"},\"fill_color\":{\"value\":\"white\"},\"left\":{\"field\":\"left\"},\"right\":{\"field\":\"right\"},\"top\":{\"field\":\"top\"}},\"id\":\"6b2bba3d-68ef-4fcf-ae0b-d354f8006248\",\"type\":\"Quad\"},{\"attributes\":{\"callback\":null,\"end\":400},\"id\":\"40fe2672-77e7-458f-b8a9-819c27851650\",\"type\":\"Range1d\"},{\"attributes\":{\"line_alpha\":{\"value\":0.1},\"line_color\":{\"value\":\"#1f77b4\"},\"xs\":{\"field\":\"xs\"},\"ys\":{\"field\":\"ys\"}},\"id\":\"77a3a571-92d1-4773-b7e7-1a18cbe1e907\",\"type\":\"MultiLine\"},{\"attributes\":{\"bottom\":{\"field\":\"bottom\"},\"fill_alpha\":{\"value\":0.1},\"fill_color\":{\"value\":\"#1f77b4\"},\"left\":{\"field\":\"left\"},\"line_alpha\":{\"value\":0.1},\"line_color\":{\"value\":\"#1f77b4\"},\"right\":{\"field\":\"right\"},\"top\":{\"field\":\"top\"}},\"id\":\"ef5a2ace-a8be-4325-982d-b8d8c694647b\",\"type\":\"Quad\"},{\"attributes\":{\"plot\":{\"id\":\"4ea335ca-f36c-4f0b-b8d1-6cafbd54a261\",\"subtype\":\"Figure\",\"type\":\"Plot\"},\"ticker\":{\"id\":\"9e4074aa-2aec-4b68-8b3b-b3a34bc9d34f\",\"type\":\"BasicTicker\"}},\"id\":\"90619209-8883-4190-b0e6-020f7ce486c7\",\"type\":\"Grid\"}],\"root_ids\":[\"4ea335ca-f36c-4f0b-b8d1-6cafbd54a261\"]},\"title\":\"Bokeh Application\",\"version\":\"0.12.0\"}};\n",
       "            var render_items = [{\"docid\":\"fb017357-bd06-4d91-828b-c68548bbc1b1\",\"elementid\":\"75eaef1f-f6a4-4550-a63a-9d83ceeb02a4\",\"modelid\":\"4ea335ca-f36c-4f0b-b8d1-6cafbd54a261\",\"notebook_comms_target\":\"dfaa6a71-d68c-48f4-a68e-35a3cd0e323b\"}];\n",
       "            \n",
       "            Bokeh.embed.embed_items(docs_json, render_items);\n",
       "        });\n",
       "      },\n",
       "      function(Bokeh) {\n",
       "      }\n",
       "    ];\n",
       "  \n",
       "    function run_inline_js() {\n",
       "      for (var i = 0; i < inline_js.length; i++) {\n",
       "        inline_js[i](window.Bokeh);\n",
       "      }\n",
       "    }\n",
       "  \n",
       "    if (window._bokeh_is_loading === 0) {\n",
       "      console.log(\"Bokeh: BokehJS loaded, going straight to plotting\");\n",
       "      run_inline_js();\n",
       "    } else {\n",
       "      load_libs(js_urls, function() {\n",
       "        console.log(\"Bokeh: BokehJS plotting callback run at\", now());\n",
       "        run_inline_js();\n",
       "      });\n",
       "    }\n",
       "  }(this));\n",
       "</script>"
      ]
     },
     "metadata": {},
     "output_type": "display_data"
    },
    {
     "data": {
      "text/html": [
       "<p><code>&lt;Bokeh Notebook handle for <strong>In[30]</strong>&gt;</code></p>"
      ],
      "text/plain": [
       "<bokeh.io._CommsHandle at 0x7ff6b46a5550>"
      ]
     },
     "execution_count": 30,
     "metadata": {},
     "output_type": "execute_result"
    }
   ],
   "source": [
    "plt_obj = dm.superset_yes_no([dm.di_6_1503, dm.di_26_1414, dm.di_10_2206, dm.di_7_1760], \n",
    "                             [dm.di_24_1504, dm.di_39_1014, dm.di_64_1575,\n",
    "                              dm.di_4_911, dm.di_11_765, di_6_57, di_6_35, di_7_22, di_7_20],\n",
    "                             min_match=0.001)\n",
    "plt = plt_obj.do_plot()\n",
    "show(plt)"
   ]
  },
  {
   "cell_type": "code",
   "execution_count": 31,
   "metadata": {
    "collapsed": false,
    "deletable": true,
    "editable": true
   },
   "outputs": [
    {
     "data": {
      "text/html": [
       "<table>\n",
       "<thead><tr><th style=\"text-align:center\">index</th><th style=\"text-align:center\">first</th><th style=\"text-align:center\">length</th><th style=\"text-align:center\">snps</th><th style=\"text-align:center\" colspan=2>alleles</th><th style=\"text-align:center\" colspan=2>matches</th><th style=\"text-align:center\" colspan=2>afr</th><th style=\"text-align:center\" colspan=2>afx</th><th style=\"text-align:center\" colspan=2>amr</th><th style=\"text-align:center\" colspan=2>eas</th><th style=\"text-align:center\" colspan=2>eur</th><th style=\"text-align:center\" colspan=2>sas</th><th style=\"text-align:center\" colspan=2>sax</th></tr></thead>\n",
       "<tr class=\"even\"><td style=\"text-align: right;\">353921</td><td style=\"text-align: right;\">136,501,840</td><td style=\"text-align: right;\">53,819</td><td style=\"text-align: right;\">10</td><td style=\"text-align: right;\">2206</td><td style=\"text-align: right;\">0.00</td><td style=\"text-align: right;\">1</td><td style=\"text-align: right;\">1.00</td><td style=\"text-align: right;\">0</td><td style=\"text-align: right;\">0.00</td><td style=\"text-align: right;\">0</td><td style=\"text-align: right;\">0.00</td><td style=\"text-align: right;\">1</td><td style=\"text-align: right;\">11.97</td><td style=\"text-align: right;\">0</td><td style=\"text-align: right;\">0.00</td><td style=\"text-align: right;\">0</td><td style=\"text-align: right;\">0.00</td><td style=\"text-align: right;\">0</td><td style=\"text-align: right;\">0.00</td><td style=\"text-align: right;\">0</td><td style=\"text-align: right;\">0.00</td></tr>\n",
       "<tr><td style=\"text-align: right;\">354033</td><td style=\"text-align: right;\">136,588,031</td><td style=\"text-align: right;\">5,647</td><td style=\"text-align: right;\">7</td><td style=\"text-align: right;\">1760</td><td style=\"text-align: right;\">0.00</td><td style=\"text-align: right;\">1</td><td style=\"text-align: right;\">1.00</td><td style=\"text-align: right;\">0</td><td style=\"text-align: right;\">0.00</td><td style=\"text-align: right;\">0</td><td style=\"text-align: right;\">0.00</td><td style=\"text-align: right;\">1</td><td style=\"text-align: right;\">11.97</td><td style=\"text-align: right;\">0</td><td style=\"text-align: right;\">0.00</td><td style=\"text-align: right;\">0</td><td style=\"text-align: right;\">0.00</td><td style=\"text-align: right;\">0</td><td style=\"text-align: right;\">0.00</td><td style=\"text-align: right;\">0</td><td style=\"text-align: right;\">0.00</td></tr>\n",
       "<tr class=\"even\"><td style=\"text-align: right;\">353462</td><td style=\"text-align: right;\">135,915,358</td><td style=\"text-align: right;\">79,721</td><td style=\"text-align: right;\">4</td><td style=\"text-align: right;\">1699</td><td style=\"text-align: right;\">0.00</td><td style=\"text-align: right;\">1</td><td style=\"text-align: right;\">1.00</td><td style=\"text-align: right;\">0</td><td style=\"text-align: right;\">0.00</td><td style=\"text-align: right;\">0</td><td style=\"text-align: right;\">0.00</td><td style=\"text-align: right;\">1</td><td style=\"text-align: right;\">11.97</td><td style=\"text-align: right;\">0</td><td style=\"text-align: right;\">0.00</td><td style=\"text-align: right;\">0</td><td style=\"text-align: right;\">0.00</td><td style=\"text-align: right;\">0</td><td style=\"text-align: right;\">0.00</td><td style=\"text-align: right;\">0</td><td style=\"text-align: right;\">0.00</td></tr>\n",
       "<tr><td style=\"text-align: right;\">353283</td><td style=\"text-align: right;\">135,771,974</td><td style=\"text-align: right;\">368,330</td><td style=\"text-align: right;\">6</td><td style=\"text-align: right;\">1503</td><td style=\"text-align: right;\">0.00</td><td style=\"text-align: right;\">1</td><td style=\"text-align: right;\">1.00</td><td style=\"text-align: right;\">0</td><td style=\"text-align: right;\">0.00</td><td style=\"text-align: right;\">0</td><td style=\"text-align: right;\">0.00</td><td style=\"text-align: right;\">1</td><td style=\"text-align: right;\">11.97</td><td style=\"text-align: right;\">0</td><td style=\"text-align: right;\">0.00</td><td style=\"text-align: right;\">0</td><td style=\"text-align: right;\">0.00</td><td style=\"text-align: right;\">0</td><td style=\"text-align: right;\">0.00</td><td style=\"text-align: right;\">0</td><td style=\"text-align: right;\">0.00</td></tr>\n",
       "<tr class=\"even\"><td style=\"text-align: right;\">353797</td><td style=\"text-align: right;\">136,398,174</td><td style=\"text-align: right;\">75,924</td><td style=\"text-align: right;\">26</td><td style=\"text-align: right;\">1414</td><td style=\"text-align: right;\">0.00</td><td style=\"text-align: right;\">1</td><td style=\"text-align: right;\">1.00</td><td style=\"text-align: right;\">0</td><td style=\"text-align: right;\">0.00</td><td style=\"text-align: right;\">0</td><td style=\"text-align: right;\">0.00</td><td style=\"text-align: right;\">1</td><td style=\"text-align: right;\">11.97</td><td style=\"text-align: right;\">0</td><td style=\"text-align: right;\">0.00</td><td style=\"text-align: right;\">0</td><td style=\"text-align: right;\">0.00</td><td style=\"text-align: right;\">0</td><td style=\"text-align: right;\">0.00</td><td style=\"text-align: right;\">0</td><td style=\"text-align: right;\">0.00</td></tr>\n",
       "<tr><td style=\"text-align: right;\">354061</td><td style=\"text-align: right;\">136,603,638</td><td style=\"text-align: right;\">28,487</td><td style=\"text-align: right;\">16</td><td style=\"text-align: right;\">511</td><td style=\"text-align: right;\">0.00</td><td style=\"text-align: right;\">1</td><td style=\"text-align: right;\">1.00</td><td style=\"text-align: right;\">0</td><td style=\"text-align: right;\">0.00</td><td style=\"text-align: right;\">0</td><td style=\"text-align: right;\">0.00</td><td style=\"text-align: right;\">1</td><td style=\"text-align: right;\">11.97</td><td style=\"text-align: right;\">0</td><td style=\"text-align: right;\">0.00</td><td style=\"text-align: right;\">0</td><td style=\"text-align: right;\">0.00</td><td style=\"text-align: right;\">0</td><td style=\"text-align: right;\">0.00</td><td style=\"text-align: right;\">0</td><td style=\"text-align: right;\">0.00</td></tr>\n",
       "</table>"
      ],
      "text/plain": [
       "<IPython.core.display.HTML object>"
      ]
     },
     "execution_count": 31,
     "metadata": {},
     "output_type": "execute_result"
    }
   ],
   "source": [
    "HTML(plt_obj.get_html())"
   ]
  },
  {
   "cell_type": "code",
   "execution_count": 32,
   "metadata": {
    "collapsed": false,
    "deletable": true,
    "editable": true
   },
   "outputs": [
    {
     "data": {
      "text/html": [
       "\n",
       "\n",
       "    <div class=\"bk-root\">\n",
       "        <div class=\"plotdiv\" id=\"ba9f8ec2-b2b5-40eb-95de-21f3a5789069\"></div>\n",
       "    </div>\n",
       "<script type=\"text/javascript\">\n",
       "  \n",
       "  (function(global) {\n",
       "    function now() {\n",
       "      return new Date();\n",
       "    }\n",
       "  \n",
       "    if (typeof (window._bokeh_onload_callbacks) === \"undefined\") {\n",
       "      window._bokeh_onload_callbacks = [];\n",
       "    }\n",
       "  \n",
       "    function run_callbacks() {\n",
       "      window._bokeh_onload_callbacks.forEach(function(callback) { callback() });\n",
       "      delete window._bokeh_onload_callbacks\n",
       "      console.info(\"Bokeh: all callbacks have finished\");\n",
       "    }\n",
       "  \n",
       "    function load_libs(js_urls, callback) {\n",
       "      window._bokeh_onload_callbacks.push(callback);\n",
       "      if (window._bokeh_is_loading > 0) {\n",
       "        console.log(\"Bokeh: BokehJS is being loaded, scheduling callback at\", now());\n",
       "        return null;\n",
       "      }\n",
       "      if (js_urls == null || js_urls.length === 0) {\n",
       "        run_callbacks();\n",
       "        return null;\n",
       "      }\n",
       "      console.log(\"Bokeh: BokehJS not loaded, scheduling load and callback at\", now());\n",
       "      window._bokeh_is_loading = js_urls.length;\n",
       "      for (var i = 0; i < js_urls.length; i++) {\n",
       "        var url = js_urls[i];\n",
       "        var s = document.createElement('script');\n",
       "        s.src = url;\n",
       "        s.async = false;\n",
       "        s.onreadystatechange = s.onload = function() {\n",
       "          window._bokeh_is_loading--;\n",
       "          if (window._bokeh_is_loading === 0) {\n",
       "            console.log(\"Bokeh: all BokehJS libraries loaded\");\n",
       "            run_callbacks()\n",
       "          }\n",
       "        };\n",
       "        s.onerror = function() {\n",
       "          console.warn(\"failed to load library \" + url);\n",
       "        };\n",
       "        console.log(\"Bokeh: injecting script tag for BokehJS library: \", url);\n",
       "        document.getElementsByTagName(\"head\")[0].appendChild(s);\n",
       "      }\n",
       "    };var element = document.getElementById(\"ba9f8ec2-b2b5-40eb-95de-21f3a5789069\");\n",
       "    if (element == null) {\n",
       "      console.log(\"Bokeh: ERROR: autoload.js configured with elementid 'ba9f8ec2-b2b5-40eb-95de-21f3a5789069' but no matching script tag was found. \")\n",
       "      return false;\n",
       "    }\n",
       "  \n",
       "    var js_urls = [];\n",
       "  \n",
       "    var inline_js = [\n",
       "      function(Bokeh) {\n",
       "        Bokeh.$(function() {\n",
       "            var docs_json = {\"554dbe6a-7cf7-4699-adef-782b119e83b3\":{\"roots\":{\"references\":[{\"attributes\":{\"overlay\":{\"id\":\"97e69d94-f376-4e93-8928-a7c9c36a2fbc\",\"type\":\"BoxAnnotation\"},\"plot\":{\"id\":\"8f69d9c5-236c-4c2c-beb9-9e80c31181cb\",\"subtype\":\"Figure\",\"type\":\"Plot\"}},\"id\":\"3cc44a36-89ba-4ec7-8246-4affe1602144\",\"type\":\"BoxZoomTool\"},{\"attributes\":{\"callback\":null,\"column_names\":[\"y\",\"x\",\"vals\"],\"data\":{\"vals\":[\"6_1503\",\"4_1699\",\"26_1414\",\"10_2206\",\"17_137\",\"8_328\"],\"x\":[135771974,135915358,136398174,136501840,136596162,136605402],\"y\":[200.0,301.0,199.0,303.0,79.0,187.0]}},\"id\":\"86db910c-af0d-4ba4-963b-84cb0b5f7127\",\"type\":\"ColumnDataSource\"},{\"attributes\":{},\"id\":\"39e0326e-0094-462b-a9e8-a37317fdf01e\",\"type\":\"BasicTicker\"},{\"attributes\":{},\"id\":\"ef62bbc8-ff25-4558-b826-8f201144cf7a\",\"type\":\"BasicTickFormatter\"},{\"attributes\":{\"bottom_units\":\"screen\",\"fill_alpha\":{\"value\":0.5},\"fill_color\":{\"value\":\"lightgrey\"},\"left_units\":\"screen\",\"level\":\"overlay\",\"line_alpha\":{\"value\":1.0},\"line_color\":{\"value\":\"black\"},\"line_dash\":[4,4],\"line_width\":{\"value\":2},\"plot\":null,\"render_mode\":\"css\",\"right_units\":\"screen\",\"top_units\":\"screen\"},\"id\":\"97e69d94-f376-4e93-8928-a7c9c36a2fbc\",\"type\":\"BoxAnnotation\"},{\"attributes\":{\"callback\":null,\"end\":136786630,\"start\":135757320},\"id\":\"23fcfa48-9f07-4637-932f-f598dc450c43\",\"type\":\"Range1d\"},{\"attributes\":{\"line_color\":{\"field\":\"line_color\"},\"xs\":{\"field\":\"xs\"},\"ys\":{\"field\":\"ys\"}},\"id\":\"ed2b10cf-fc70-44c4-8011-00a2e6446ed3\",\"type\":\"MultiLine\"},{\"attributes\":{\"callback\":null,\"column_names\":[\"y\",\"x\",\"vals\"],\"data\":{\"vals\":[\"RAB3GAP1\",\"ZRANB3\",\"R3HDM1\",\"UBXN4\",\"LCT\",\"MCM6\",\"DARS\"],\"x\":[135869057.0,136122878.0,136385961.0,136520911.0,136570082.5,136615621.5,136703738.0],\"y\":[360.0,360.0,360.0,360.0,360.0,360.0,360.0]}},\"id\":\"6a13b328-7d43-45b6-8c60-4d5ca21e6f7a\",\"type\":\"ColumnDataSource\"},{\"attributes\":{\"data_source\":{\"id\":\"27887d4c-63c8-4f5a-a906-23a9d34cfabb\",\"type\":\"ColumnDataSource\"},\"glyph\":{\"id\":\"f80034eb-f2a7-4bca-9e7e-a13c1b766aca\",\"type\":\"Quad\"},\"hover_glyph\":null,\"nonselection_glyph\":{\"id\":\"3218c088-3bbd-4632-81dc-e7bbdf4e0d13\",\"type\":\"Quad\"},\"selection_glyph\":null},\"id\":\"a50cef1d-ea5a-4f6f-89d5-e1c7ba0d619c\",\"type\":\"GlyphRenderer\"},{\"attributes\":{\"level\":\"glyph\",\"plot\":{\"id\":\"8f69d9c5-236c-4c2c-beb9-9e80c31181cb\",\"subtype\":\"Figure\",\"type\":\"Plot\"},\"source\":{\"id\":\"6a13b328-7d43-45b6-8c60-4d5ca21e6f7a\",\"type\":\"ColumnDataSource\"},\"text\":{\"field\":\"vals\"},\"text_align\":\"center\",\"text_baseline\":\"middle\",\"text_font_size\":{\"value\":\"8pt\"},\"x\":{\"field\":\"x\"},\"y\":{\"field\":\"y\"}},\"id\":\"380dc378-ab03-441e-862c-d97d218c1ee5\",\"type\":\"LabelSet\"},{\"attributes\":{\"bottom\":{\"field\":\"bottom\"},\"fill_color\":{\"field\":\"fill_color\"},\"left\":{\"field\":\"left\"},\"line_color\":{\"value\":null},\"right\":{\"field\":\"right\"},\"top\":{\"field\":\"top\"}},\"id\":\"f80034eb-f2a7-4bca-9e7e-a13c1b766aca\",\"type\":\"Quad\"},{\"attributes\":{\"bottom\":{\"field\":\"bottom\"},\"fill_alpha\":{\"value\":0.1},\"fill_color\":{\"value\":\"#1f77b4\"},\"left\":{\"field\":\"left\"},\"line_alpha\":{\"value\":0.1},\"line_color\":{\"value\":\"#1f77b4\"},\"right\":{\"field\":\"right\"},\"top\":{\"field\":\"top\"}},\"id\":\"3218c088-3bbd-4632-81dc-e7bbdf4e0d13\",\"type\":\"Quad\"},{\"attributes\":{\"line_alpha\":{\"value\":0.1},\"line_color\":{\"value\":\"#1f77b4\"},\"xs\":{\"field\":\"xs\"},\"ys\":{\"field\":\"ys\"}},\"id\":\"192c4015-101f-4821-8687-3a1c5b88ec6c\",\"type\":\"MultiLine\"},{\"attributes\":{\"callback\":null,\"column_names\":[\"right\",\"bottom\",\"top\",\"left\"],\"data\":{\"bottom\":[345,345,345,345,345,345,345],\"left\":[135809835,135957574,136289083,136499189,136545415,136597196,136664254],\"right\":[135928279,136288182,136482839,136542633,136594750,136634047,136743222],\"top\":[375,375,375,375,375,375,375]}},\"id\":\"0d54f493-56ab-4adc-9398-d6097c51adbc\",\"type\":\"ColumnDataSource\"},{\"attributes\":{\"plot\":{\"id\":\"8f69d9c5-236c-4c2c-beb9-9e80c31181cb\",\"subtype\":\"Figure\",\"type\":\"Plot\"}},\"id\":\"66058081-30df-4ad5-b028-b78c52aabc57\",\"type\":\"HelpTool\"},{\"attributes\":{},\"id\":\"521ae24c-75ac-4a8a-b358-b808463e6df3\",\"type\":\"ToolEvents\"},{\"attributes\":{\"below\":[{\"id\":\"79479ae3-f273-407c-a3ed-ab1a1cc109f1\",\"type\":\"LinearAxis\"}],\"left\":[{\"id\":\"3ea60b38-c795-4a7d-89fd-d00cfecc5570\",\"type\":\"LinearAxis\"}],\"plot_height\":400,\"plot_width\":900,\"renderers\":[{\"id\":\"79479ae3-f273-407c-a3ed-ab1a1cc109f1\",\"type\":\"LinearAxis\"},{\"id\":\"9b70cbf7-97fe-49b9-9c9a-294ab8d1cb10\",\"type\":\"Grid\"},{\"id\":\"3ea60b38-c795-4a7d-89fd-d00cfecc5570\",\"type\":\"LinearAxis\"},{\"id\":\"17cb0255-2a95-4fa5-b4af-27a6f3cab06c\",\"type\":\"Grid\"},{\"id\":\"97e69d94-f376-4e93-8928-a7c9c36a2fbc\",\"type\":\"BoxAnnotation\"},{\"id\":\"a50cef1d-ea5a-4f6f-89d5-e1c7ba0d619c\",\"type\":\"GlyphRenderer\"},{\"id\":\"0832a176-2135-4c38-b36a-436316562b50\",\"type\":\"GlyphRenderer\"},{\"id\":\"a3c141a6-bf69-49ae-8079-e6d1ceefa09c\",\"type\":\"LabelSet\"},{\"id\":\"323c1e08-19bf-42c1-8e20-85167620e807\",\"type\":\"GlyphRenderer\"},{\"id\":\"380dc378-ab03-441e-862c-d97d218c1ee5\",\"type\":\"LabelSet\"}],\"title\":{\"id\":\"7f065fea-2724-4d59-b842-d14f781967db\",\"type\":\"Title\"},\"tool_events\":{\"id\":\"521ae24c-75ac-4a8a-b358-b808463e6df3\",\"type\":\"ToolEvents\"},\"toolbar\":{\"id\":\"b45b125a-0a15-4082-bf49-558578c8492b\",\"type\":\"Toolbar\"},\"toolbar_location\":null,\"x_range\":{\"id\":\"23fcfa48-9f07-4637-932f-f598dc450c43\",\"type\":\"Range1d\"},\"y_range\":{\"id\":\"0acef31c-85a5-438c-8a0f-cf9d4986745a\",\"type\":\"Range1d\"}},\"id\":\"8f69d9c5-236c-4c2c-beb9-9e80c31181cb\",\"subtype\":\"Figure\",\"type\":\"Plot\"},{\"attributes\":{\"callback\":null,\"column_names\":[\"right\",\"bottom\",\"top\",\"left\",\"fill_color\"],\"data\":{\"bottom\":[150,250,150,250,50,150],\"fill_color\":[\"#61c461\",\"#61c461\",\"#61c461\",\"#808080\",\"#c4c461\",\"#c46161\"],\"left\":[135771974,135915358,136398174,136501840,136596162,136605402],\"right\":[136140304,135995079,136474098,136555659,136785729,136624686],\"top\":[195,296,194,298,74,182]}},\"id\":\"27887d4c-63c8-4f5a-a906-23a9d34cfabb\",\"type\":\"ColumnDataSource\"},{\"attributes\":{\"formatter\":{\"id\":\"ef62bbc8-ff25-4558-b826-8f201144cf7a\",\"type\":\"BasicTickFormatter\"},\"plot\":{\"id\":\"8f69d9c5-236c-4c2c-beb9-9e80c31181cb\",\"subtype\":\"Figure\",\"type\":\"Plot\"},\"ticker\":{\"id\":\"39e0326e-0094-462b-a9e8-a37317fdf01e\",\"type\":\"BasicTicker\"}},\"id\":\"79479ae3-f273-407c-a3ed-ab1a1cc109f1\",\"type\":\"LinearAxis\"},{\"attributes\":{\"plot\":{\"id\":\"8f69d9c5-236c-4c2c-beb9-9e80c31181cb\",\"subtype\":\"Figure\",\"type\":\"Plot\"}},\"id\":\"b339d031-01f4-4fb3-a5d9-19c72194d2d0\",\"type\":\"ResetTool\"},{\"attributes\":{\"callback\":null,\"end\":400},\"id\":\"0acef31c-85a5-438c-8a0f-cf9d4986745a\",\"type\":\"Range1d\"},{\"attributes\":{\"plot\":{\"id\":\"8f69d9c5-236c-4c2c-beb9-9e80c31181cb\",\"subtype\":\"Figure\",\"type\":\"Plot\"},\"ticker\":{\"id\":\"39e0326e-0094-462b-a9e8-a37317fdf01e\",\"type\":\"BasicTicker\"}},\"id\":\"9b70cbf7-97fe-49b9-9c9a-294ab8d1cb10\",\"type\":\"Grid\"},{\"attributes\":{\"plot\":{\"id\":\"8f69d9c5-236c-4c2c-beb9-9e80c31181cb\",\"subtype\":\"Figure\",\"type\":\"Plot\"}},\"id\":\"62341fc9-385e-4252-8282-259baa3abe0a\",\"type\":\"SaveTool\"},{\"attributes\":{\"bottom\":{\"field\":\"bottom\"},\"fill_color\":{\"value\":\"white\"},\"left\":{\"field\":\"left\"},\"right\":{\"field\":\"right\"},\"top\":{\"field\":\"top\"}},\"id\":\"dd951484-d921-4004-8dad-dea238703961\",\"type\":\"Quad\"},{\"attributes\":{},\"id\":\"2c4c2624-b63f-4fd0-a6b2-9698d701eb1f\",\"type\":\"BasicTickFormatter\"},{\"attributes\":{},\"id\":\"e9891a1e-efa0-4a79-af07-0a1e3bc93c9f\",\"type\":\"BasicTicker\"},{\"attributes\":{\"plot\":null,\"text\":null},\"id\":\"7f065fea-2724-4d59-b842-d14f781967db\",\"type\":\"Title\"},{\"attributes\":{\"dimension\":1,\"plot\":{\"id\":\"8f69d9c5-236c-4c2c-beb9-9e80c31181cb\",\"subtype\":\"Figure\",\"type\":\"Plot\"},\"ticker\":{\"id\":\"e9891a1e-efa0-4a79-af07-0a1e3bc93c9f\",\"type\":\"BasicTicker\"}},\"id\":\"17cb0255-2a95-4fa5-b4af-27a6f3cab06c\",\"type\":\"Grid\"},{\"attributes\":{\"plot\":{\"id\":\"8f69d9c5-236c-4c2c-beb9-9e80c31181cb\",\"subtype\":\"Figure\",\"type\":\"Plot\"}},\"id\":\"2517130a-15d9-4931-a1c9-fd3b797be070\",\"type\":\"PanTool\"},{\"attributes\":{\"bottom\":{\"field\":\"bottom\"},\"fill_alpha\":{\"value\":0.1},\"fill_color\":{\"value\":\"#1f77b4\"},\"left\":{\"field\":\"left\"},\"line_alpha\":{\"value\":0.1},\"line_color\":{\"value\":\"#1f77b4\"},\"right\":{\"field\":\"right\"},\"top\":{\"field\":\"top\"}},\"id\":\"8fe305cf-d167-4330-973d-ccc2ca5b9a3f\",\"type\":\"Quad\"},{\"attributes\":{\"active_drag\":\"auto\",\"active_scroll\":\"auto\",\"active_tap\":\"auto\",\"tools\":[{\"id\":\"2517130a-15d9-4931-a1c9-fd3b797be070\",\"type\":\"PanTool\"},{\"id\":\"d24d0fa9-667c-4b8f-9fab-385f23c78b3a\",\"type\":\"WheelZoomTool\"},{\"id\":\"3cc44a36-89ba-4ec7-8246-4affe1602144\",\"type\":\"BoxZoomTool\"},{\"id\":\"62341fc9-385e-4252-8282-259baa3abe0a\",\"type\":\"SaveTool\"},{\"id\":\"b339d031-01f4-4fb3-a5d9-19c72194d2d0\",\"type\":\"ResetTool\"},{\"id\":\"66058081-30df-4ad5-b028-b78c52aabc57\",\"type\":\"HelpTool\"}]},\"id\":\"b45b125a-0a15-4082-bf49-558578c8492b\",\"type\":\"Toolbar\"},{\"attributes\":{\"callback\":null,\"column_names\":[\"xs\",\"ys\",\"line_color\"],\"data\":{\"line_color\":[\"black\",\"black\",\"black\",\"black\",\"black\",\"black\",\"black\",\"black\",\"black\",\"black\",\"black\",\"black\",\"black\",\"black\",\"black\",\"black\",\"black\",\"black\",\"black\",\"black\",\"black\",\"black\",\"black\",\"black\",\"black\",\"black\",\"black\",\"black\",\"black\",\"black\",\"black\",\"black\",\"black\",\"black\",\"black\",\"black\",\"black\",\"black\",\"black\",\"black\",\"black\",\"black\",\"black\",\"black\",\"black\",\"black\",\"black\",\"black\",\"black\",\"black\",\"black\",\"black\",\"black\",\"black\",\"black\",\"black\",\"black\",\"black\",\"black\",\"black\",\"black\",\"black\",\"black\",\"black\",\"black\",\"black\",\"black\",\"black\",\"black\",\"black\",\"black\"],\"xs\":[[135771974,135771974],[135859371,135859371],[135877562,135877562],[136022798,136022798],[136058820,136058820],[136140304,136140304],[135915358,135915358],[135954405,135954405],[135995073,135995073],[135995079,135995079],[136398174,136398174],[136402117,136402117],[136403749,136403749],[136409073,136409073],[136410299,136410299],[136413359,136413359],[136416855,136416855],[136416941,136416941],[136418348,136418348],[136419961,136419961],[136420690,136420690],[136422171,136422171],[136428460,136428460],[136430866,136430866],[136432103,136432103],[136437507,136437507],[136439090,136439090],[136439517,136439517],[136444123,136444123],[136445526,136445526],[136445869,136445869],[136455600,136455600],[136456642,136456642],[136462441,136462441],[136470714,136470714],[136474098,136474098],[136501840,136501840],[136505546,136505546],[136516748,136516748],[136522710,136522710],[136528004,136528004],[136539513,136539513],[136544752,136544752],[136546110,136546110],[136553529,136553529],[136555659,136555659],[136596162,136596162],[136598316,136598316],[136599520,136599520],[136601167,136601167],[136604113,136604113],[136604610,136604610],[136604699,136604699],[136609671,136609671],[136620957,136620957],[136646667,136646667],[136683320,136683320],[136697769,136697769],[136743172,136743172],[136776381,136776381],[136784743,136784743],[136785727,136785727],[136785729,136785729],[136605402,136605402],[136609320,136609320],[136611400,136611400],[136619744,136619744],[136621858,136621858],[136621941,136621941],[136624382,136624382],[136624686,136624686]],\"ys\":[[150,195],[150,195],[150,195],[150,195],[150,195],[150,195],[250,296],[250,296],[250,296],[250,296],[150,194],[150,194],[150,194],[150,194],[150,194],[150,194],[150,194],[150,194],[150,194],[150,194],[150,194],[150,194],[150,194],[150,194],[150,194],[150,194],[150,194],[150,194],[150,194],[150,194],[150,194],[150,194],[150,194],[150,194],[150,194],[150,194],[250,298],[250,298],[250,298],[250,298],[250,298],[250,298],[250,298],[250,298],[250,298],[250,298],[50,74],[50,74],[50,74],[50,74],[50,74],[50,74],[50,74],[50,74],[50,74],[50,74],[50,74],[50,74],[50,74],[50,74],[50,74],[50,74],[50,74],[150,182],[150,182],[150,182],[150,182],[150,182],[150,182],[150,182],[150,182]]}},\"id\":\"ed49521d-e359-4b4f-8a52-ae196cb84e82\",\"type\":\"ColumnDataSource\"},{\"attributes\":{\"plot\":{\"id\":\"8f69d9c5-236c-4c2c-beb9-9e80c31181cb\",\"subtype\":\"Figure\",\"type\":\"Plot\"}},\"id\":\"d24d0fa9-667c-4b8f-9fab-385f23c78b3a\",\"type\":\"WheelZoomTool\"},{\"attributes\":{\"level\":\"glyph\",\"plot\":{\"id\":\"8f69d9c5-236c-4c2c-beb9-9e80c31181cb\",\"subtype\":\"Figure\",\"type\":\"Plot\"},\"source\":{\"id\":\"86db910c-af0d-4ba4-963b-84cb0b5f7127\",\"type\":\"ColumnDataSource\"},\"text\":{\"field\":\"vals\"},\"text_font_size\":{\"value\":\"9pt\"},\"text_font_style\":\"bold\",\"x\":{\"field\":\"x\"},\"y\":{\"field\":\"y\"}},\"id\":\"a3c141a6-bf69-49ae-8079-e6d1ceefa09c\",\"type\":\"LabelSet\"},{\"attributes\":{\"formatter\":{\"id\":\"2c4c2624-b63f-4fd0-a6b2-9698d701eb1f\",\"type\":\"BasicTickFormatter\"},\"plot\":{\"id\":\"8f69d9c5-236c-4c2c-beb9-9e80c31181cb\",\"subtype\":\"Figure\",\"type\":\"Plot\"},\"ticker\":{\"id\":\"e9891a1e-efa0-4a79-af07-0a1e3bc93c9f\",\"type\":\"BasicTicker\"},\"visible\":null},\"id\":\"3ea60b38-c795-4a7d-89fd-d00cfecc5570\",\"type\":\"LinearAxis\"},{\"attributes\":{\"data_source\":{\"id\":\"0d54f493-56ab-4adc-9398-d6097c51adbc\",\"type\":\"ColumnDataSource\"},\"glyph\":{\"id\":\"dd951484-d921-4004-8dad-dea238703961\",\"type\":\"Quad\"},\"hover_glyph\":null,\"nonselection_glyph\":{\"id\":\"8fe305cf-d167-4330-973d-ccc2ca5b9a3f\",\"type\":\"Quad\"},\"selection_glyph\":null},\"id\":\"323c1e08-19bf-42c1-8e20-85167620e807\",\"type\":\"GlyphRenderer\"},{\"attributes\":{\"data_source\":{\"id\":\"ed49521d-e359-4b4f-8a52-ae196cb84e82\",\"type\":\"ColumnDataSource\"},\"glyph\":{\"id\":\"ed2b10cf-fc70-44c4-8011-00a2e6446ed3\",\"type\":\"MultiLine\"},\"hover_glyph\":null,\"nonselection_glyph\":{\"id\":\"192c4015-101f-4821-8687-3a1c5b88ec6c\",\"type\":\"MultiLine\"},\"selection_glyph\":null},\"id\":\"0832a176-2135-4c38-b36a-436316562b50\",\"type\":\"GlyphRenderer\"}],\"root_ids\":[\"8f69d9c5-236c-4c2c-beb9-9e80c31181cb\"]},\"title\":\"Bokeh Application\",\"version\":\"0.12.0\"}};\n",
       "            var render_items = [{\"docid\":\"554dbe6a-7cf7-4699-adef-782b119e83b3\",\"elementid\":\"ba9f8ec2-b2b5-40eb-95de-21f3a5789069\",\"modelid\":\"8f69d9c5-236c-4c2c-beb9-9e80c31181cb\",\"notebook_comms_target\":\"672ef94a-3047-47d4-95a9-89a1d2a72754\"}];\n",
       "            \n",
       "            Bokeh.embed.embed_items(docs_json, render_items);\n",
       "        });\n",
       "      },\n",
       "      function(Bokeh) {\n",
       "      }\n",
       "    ];\n",
       "  \n",
       "    function run_inline_js() {\n",
       "      for (var i = 0; i < inline_js.length; i++) {\n",
       "        inline_js[i](window.Bokeh);\n",
       "      }\n",
       "    }\n",
       "  \n",
       "    if (window._bokeh_is_loading === 0) {\n",
       "      console.log(\"Bokeh: BokehJS loaded, going straight to plotting\");\n",
       "      run_inline_js();\n",
       "    } else {\n",
       "      load_libs(js_urls, function() {\n",
       "        console.log(\"Bokeh: BokehJS plotting callback run at\", now());\n",
       "        run_inline_js();\n",
       "      });\n",
       "    }\n",
       "  }(this));\n",
       "</script>"
      ]
     },
     "metadata": {},
     "output_type": "display_data"
    },
    {
     "data": {
      "text/html": [
       "<p><code>&lt;Bokeh Notebook handle for <strong>In[32]</strong>&gt;</code></p>"
      ],
      "text/plain": [
       "<bokeh.io._CommsHandle at 0x7ff6b42fbc50>"
      ]
     },
     "execution_count": 32,
     "metadata": {},
     "output_type": "execute_result"
    }
   ],
   "source": [
    "plt_obj = dm.superset_yes_no([dm.di_6_1503, dm.di_26_1414, dm.di_10_2206, di_8_328], \n",
    "                             [dm.di_7_1868, \n",
    "                              dm.di_24_1504, dm.di_7_1760, dm.di_39_1014, dm.di_64_1575,\n",
    "                              dm.di_4_911, dm.di_11_765, di_6_57, di_6_35, di_7_22, di_7_20],\n",
    "                             min_match=0.001)\n",
    "plt = plt_obj.do_plot()\n",
    "show(plt)"
   ]
  },
  {
   "cell_type": "code",
   "execution_count": 33,
   "metadata": {
    "collapsed": false,
    "deletable": true,
    "editable": true
   },
   "outputs": [
    {
     "data": {
      "text/html": [
       "<table>\n",
       "<thead><tr><th style=\"text-align:center\">index</th><th style=\"text-align:center\">first</th><th style=\"text-align:center\">length</th><th style=\"text-align:center\">snps</th><th style=\"text-align:center\" colspan=2>alleles</th><th style=\"text-align:center\" colspan=2>matches</th><th style=\"text-align:center\" colspan=2>afr</th><th style=\"text-align:center\" colspan=2>afx</th><th style=\"text-align:center\" colspan=2>amr</th><th style=\"text-align:center\" colspan=2>eas</th><th style=\"text-align:center\" colspan=2>eur</th><th style=\"text-align:center\" colspan=2>sas</th><th style=\"text-align:center\" colspan=2>sax</th></tr></thead>\n",
       "<tr class=\"even\"><td style=\"text-align: right;\">353921</td><td style=\"text-align: right;\">136,501,840</td><td style=\"text-align: right;\">53,819</td><td style=\"text-align: right;\">10</td><td style=\"text-align: right;\">2206</td><td style=\"text-align: right;\">0.00</td><td style=\"text-align: right;\">1</td><td style=\"text-align: right;\">1.00</td><td style=\"text-align: right;\">0</td><td style=\"text-align: right;\">0.00</td><td style=\"text-align: right;\">0</td><td style=\"text-align: right;\">0.00</td><td style=\"text-align: right;\">0</td><td style=\"text-align: right;\">0.00</td><td style=\"text-align: right;\">1</td><td style=\"text-align: right;\">3.31</td><td style=\"text-align: right;\">0</td><td style=\"text-align: right;\">0.00</td><td style=\"text-align: right;\">0</td><td style=\"text-align: right;\">0.00</td><td style=\"text-align: right;\">0</td><td style=\"text-align: right;\">0.00</td></tr>\n",
       "<tr><td style=\"text-align: right;\">353462</td><td style=\"text-align: right;\">135,915,358</td><td style=\"text-align: right;\">79,721</td><td style=\"text-align: right;\">4</td><td style=\"text-align: right;\">1699</td><td style=\"text-align: right;\">0.00</td><td style=\"text-align: right;\">1</td><td style=\"text-align: right;\">1.00</td><td style=\"text-align: right;\">0</td><td style=\"text-align: right;\">0.00</td><td style=\"text-align: right;\">0</td><td style=\"text-align: right;\">0.00</td><td style=\"text-align: right;\">0</td><td style=\"text-align: right;\">0.00</td><td style=\"text-align: right;\">1</td><td style=\"text-align: right;\">3.31</td><td style=\"text-align: right;\">0</td><td style=\"text-align: right;\">0.00</td><td style=\"text-align: right;\">0</td><td style=\"text-align: right;\">0.00</td><td style=\"text-align: right;\">0</td><td style=\"text-align: right;\">0.00</td></tr>\n",
       "<tr class=\"even\"><td style=\"text-align: right;\">353283</td><td style=\"text-align: right;\">135,771,974</td><td style=\"text-align: right;\">368,330</td><td style=\"text-align: right;\">6</td><td style=\"text-align: right;\">1503</td><td style=\"text-align: right;\">0.00</td><td style=\"text-align: right;\">1</td><td style=\"text-align: right;\">1.00</td><td style=\"text-align: right;\">0</td><td style=\"text-align: right;\">0.00</td><td style=\"text-align: right;\">0</td><td style=\"text-align: right;\">0.00</td><td style=\"text-align: right;\">0</td><td style=\"text-align: right;\">0.00</td><td style=\"text-align: right;\">1</td><td style=\"text-align: right;\">3.31</td><td style=\"text-align: right;\">0</td><td style=\"text-align: right;\">0.00</td><td style=\"text-align: right;\">0</td><td style=\"text-align: right;\">0.00</td><td style=\"text-align: right;\">0</td><td style=\"text-align: right;\">0.00</td></tr>\n",
       "<tr><td style=\"text-align: right;\">353797</td><td style=\"text-align: right;\">136,398,174</td><td style=\"text-align: right;\">75,924</td><td style=\"text-align: right;\">26</td><td style=\"text-align: right;\">1414</td><td style=\"text-align: right;\">0.00</td><td style=\"text-align: right;\">1</td><td style=\"text-align: right;\">1.00</td><td style=\"text-align: right;\">0</td><td style=\"text-align: right;\">0.00</td><td style=\"text-align: right;\">0</td><td style=\"text-align: right;\">0.00</td><td style=\"text-align: right;\">0</td><td style=\"text-align: right;\">0.00</td><td style=\"text-align: right;\">1</td><td style=\"text-align: right;\">3.31</td><td style=\"text-align: right;\">0</td><td style=\"text-align: right;\">0.00</td><td style=\"text-align: right;\">0</td><td style=\"text-align: right;\">0.00</td><td style=\"text-align: right;\">0</td><td style=\"text-align: right;\">0.00</td></tr>\n",
       "<tr class=\"even\"><td style=\"text-align: right;\">354064</td><td style=\"text-align: right;\">136,605,402</td><td style=\"text-align: right;\">19,284</td><td style=\"text-align: right;\">8</td><td style=\"text-align: right;\">328</td><td style=\"text-align: right;\">0.00</td><td style=\"text-align: right;\">1</td><td style=\"text-align: right;\">1.00</td><td style=\"text-align: right;\">0</td><td style=\"text-align: right;\">0.00</td><td style=\"text-align: right;\">0</td><td style=\"text-align: right;\">0.00</td><td style=\"text-align: right;\">0</td><td style=\"text-align: right;\">0.00</td><td style=\"text-align: right;\">1</td><td style=\"text-align: right;\">3.31</td><td style=\"text-align: right;\">0</td><td style=\"text-align: right;\">0.00</td><td style=\"text-align: right;\">0</td><td style=\"text-align: right;\">0.00</td><td style=\"text-align: right;\">0</td><td style=\"text-align: right;\">0.00</td></tr>\n",
       "<tr><td style=\"text-align: right;\">354051</td><td style=\"text-align: right;\">136,596,162</td><td style=\"text-align: right;\">189,567</td><td style=\"text-align: right;\">17</td><td style=\"text-align: right;\">137</td><td style=\"text-align: right;\">0.01</td><td style=\"text-align: right;\">1</td><td style=\"text-align: right;\">1.00</td><td style=\"text-align: right;\">0</td><td style=\"text-align: right;\">0.00</td><td style=\"text-align: right;\">0</td><td style=\"text-align: right;\">0.00</td><td style=\"text-align: right;\">0</td><td style=\"text-align: right;\">0.00</td><td style=\"text-align: right;\">1</td><td style=\"text-align: right;\">3.31</td><td style=\"text-align: right;\">0</td><td style=\"text-align: right;\">0.00</td><td style=\"text-align: right;\">0</td><td style=\"text-align: right;\">0.00</td><td style=\"text-align: right;\">0</td><td style=\"text-align: right;\">0.00</td></tr>\n",
       "</table>"
      ],
      "text/plain": [
       "<IPython.core.display.HTML object>"
      ]
     },
     "execution_count": 33,
     "metadata": {},
     "output_type": "execute_result"
    }
   ],
   "source": [
    "HTML(plt_obj.get_html())"
   ]
  },
  {
   "cell_type": "code",
   "execution_count": 34,
   "metadata": {
    "collapsed": false,
    "deletable": true,
    "editable": true
   },
   "outputs": [
    {
     "data": {
      "text/html": [
       "\n",
       "\n",
       "    <div class=\"bk-root\">\n",
       "        <div class=\"plotdiv\" id=\"fdf7a2df-edb2-44e5-b174-62c66c369306\"></div>\n",
       "    </div>\n",
       "<script type=\"text/javascript\">\n",
       "  \n",
       "  (function(global) {\n",
       "    function now() {\n",
       "      return new Date();\n",
       "    }\n",
       "  \n",
       "    if (typeof (window._bokeh_onload_callbacks) === \"undefined\") {\n",
       "      window._bokeh_onload_callbacks = [];\n",
       "    }\n",
       "  \n",
       "    function run_callbacks() {\n",
       "      window._bokeh_onload_callbacks.forEach(function(callback) { callback() });\n",
       "      delete window._bokeh_onload_callbacks\n",
       "      console.info(\"Bokeh: all callbacks have finished\");\n",
       "    }\n",
       "  \n",
       "    function load_libs(js_urls, callback) {\n",
       "      window._bokeh_onload_callbacks.push(callback);\n",
       "      if (window._bokeh_is_loading > 0) {\n",
       "        console.log(\"Bokeh: BokehJS is being loaded, scheduling callback at\", now());\n",
       "        return null;\n",
       "      }\n",
       "      if (js_urls == null || js_urls.length === 0) {\n",
       "        run_callbacks();\n",
       "        return null;\n",
       "      }\n",
       "      console.log(\"Bokeh: BokehJS not loaded, scheduling load and callback at\", now());\n",
       "      window._bokeh_is_loading = js_urls.length;\n",
       "      for (var i = 0; i < js_urls.length; i++) {\n",
       "        var url = js_urls[i];\n",
       "        var s = document.createElement('script');\n",
       "        s.src = url;\n",
       "        s.async = false;\n",
       "        s.onreadystatechange = s.onload = function() {\n",
       "          window._bokeh_is_loading--;\n",
       "          if (window._bokeh_is_loading === 0) {\n",
       "            console.log(\"Bokeh: all BokehJS libraries loaded\");\n",
       "            run_callbacks()\n",
       "          }\n",
       "        };\n",
       "        s.onerror = function() {\n",
       "          console.warn(\"failed to load library \" + url);\n",
       "        };\n",
       "        console.log(\"Bokeh: injecting script tag for BokehJS library: \", url);\n",
       "        document.getElementsByTagName(\"head\")[0].appendChild(s);\n",
       "      }\n",
       "    };var element = document.getElementById(\"fdf7a2df-edb2-44e5-b174-62c66c369306\");\n",
       "    if (element == null) {\n",
       "      console.log(\"Bokeh: ERROR: autoload.js configured with elementid 'fdf7a2df-edb2-44e5-b174-62c66c369306' but no matching script tag was found. \")\n",
       "      return false;\n",
       "    }\n",
       "  \n",
       "    var js_urls = [];\n",
       "  \n",
       "    var inline_js = [\n",
       "      function(Bokeh) {\n",
       "        Bokeh.$(function() {\n",
       "            var docs_json = {\"502c4d81-4022-47c5-81ad-c7d3f6ecb67a\":{\"roots\":{\"references\":[{\"attributes\":{\"callback\":null,\"column_names\":[\"y\",\"x\",\"vals\"],\"data\":{\"vals\":[\"6_1503\",\"4_1699\",\"26_1414\",\"81_857\",\"13_1227\",\"4_1442\",\"7_1303\",\"7_1760\",\"6_1114\",\"5_1296\",\"24_1504\",\"4_25\"],\"x\":[135771974,135915358,136398174,136494985,136500475,136506375,136535876,136588031,136652491,136652953,136653925,136687844],\"y\":[500.0,601.0,499.0,195.0,298.0,499.0,399.0,601.0,297.0,399.0,600.0,64.0]}},\"id\":\"42613e59-1c35-40d7-b4ed-1254285cf5bb\",\"type\":\"ColumnDataSource\"},{\"attributes\":{\"level\":\"glyph\",\"plot\":{\"id\":\"596b968d-43b7-4f2e-8c78-0a15933f9a47\",\"subtype\":\"Figure\",\"type\":\"Plot\"},\"source\":{\"id\":\"42613e59-1c35-40d7-b4ed-1254285cf5bb\",\"type\":\"ColumnDataSource\"},\"text\":{\"field\":\"vals\"},\"text_font_size\":{\"value\":\"9pt\"},\"text_font_style\":\"bold\",\"x\":{\"field\":\"x\"},\"y\":{\"field\":\"y\"}},\"id\":\"bd1f2c3a-4626-4937-af53-34094f66768a\",\"type\":\"LabelSet\"},{\"attributes\":{\"plot\":{\"id\":\"596b968d-43b7-4f2e-8c78-0a15933f9a47\",\"subtype\":\"Figure\",\"type\":\"Plot\"},\"ticker\":{\"id\":\"aa91edb4-37eb-4d51-97c3-13e49f26922b\",\"type\":\"BasicTicker\"}},\"id\":\"4d798a71-af2a-434b-9e40-f57badf749c9\",\"type\":\"Grid\"},{\"attributes\":{\"callback\":null,\"column_names\":[\"right\",\"bottom\",\"top\",\"left\",\"fill_color\"],\"data\":{\"bottom\":[450,550,450,150,250,450,350,550,250,350,550,50],\"fill_color\":[\"#61c461\",\"#61c461\",\"#61c461\",\"#808080\",\"#808080\",\"#808080\",\"#808080\",\"#c46161\",\"#808080\",\"#808080\",\"#808080\",\"#ffff00\"],\"left\":[135771974,135915358,136398174,136494985,136500475,136506375,136535876,136588031,136652491,136652953,136653925,136687844],\"right\":[136140304,135995079,136474098,136773638,136542560,136538939,136554890,136593678,136732772,136761175,136761853,136709809],\"top\":[495,596,494,190,293,494,394,596,292,394,595,59]}},\"id\":\"9bdb5be1-afc0-4801-905a-b21166bcebf0\",\"type\":\"ColumnDataSource\"},{\"attributes\":{\"bottom\":{\"field\":\"bottom\"},\"fill_color\":{\"value\":\"white\"},\"left\":{\"field\":\"left\"},\"right\":{\"field\":\"right\"},\"top\":{\"field\":\"top\"}},\"id\":\"d2dc9876-b3ea-436c-9855-1df20dd236e4\",\"type\":\"Quad\"},{\"attributes\":{\"formatter\":{\"id\":\"e2501792-1d67-4279-a25b-a8aac6862139\",\"type\":\"BasicTickFormatter\"},\"plot\":{\"id\":\"596b968d-43b7-4f2e-8c78-0a15933f9a47\",\"subtype\":\"Figure\",\"type\":\"Plot\"},\"ticker\":{\"id\":\"4c0dab05-7a34-4173-ae6f-a6e13993e27c\",\"type\":\"BasicTicker\"},\"visible\":null},\"id\":\"5d2f18e1-e3e9-4a57-b005-f967c6873d25\",\"type\":\"LinearAxis\"},{\"attributes\":{\"level\":\"glyph\",\"plot\":{\"id\":\"596b968d-43b7-4f2e-8c78-0a15933f9a47\",\"subtype\":\"Figure\",\"type\":\"Plot\"},\"source\":{\"id\":\"9bb009d5-604d-472e-8c1c-c0a738a86d01\",\"type\":\"ColumnDataSource\"},\"text\":{\"field\":\"vals\"},\"text_align\":\"center\",\"text_baseline\":\"middle\",\"text_font_size\":{\"value\":\"8pt\"},\"x\":{\"field\":\"x\"},\"y\":{\"field\":\"y\"}},\"id\":\"4b6b5ef4-b202-400d-985c-94a74ae05f00\",\"type\":\"LabelSet\"},{\"attributes\":{\"callback\":null,\"column_names\":[\"y\",\"x\",\"vals\"],\"data\":{\"vals\":[\"RAB3GAP1\",\"ZRANB3\",\"R3HDM1\",\"UBXN4\",\"LCT\",\"MCM6\",\"DARS\"],\"x\":[135869057.0,136122878.0,136385961.0,136520911.0,136570082.5,136615621.5,136703738.0],\"y\":[660.0,660.0,660.0,660.0,660.0,660.0,660.0]}},\"id\":\"9bb009d5-604d-472e-8c1c-c0a738a86d01\",\"type\":\"ColumnDataSource\"},{\"attributes\":{\"plot\":{\"id\":\"596b968d-43b7-4f2e-8c78-0a15933f9a47\",\"subtype\":\"Figure\",\"type\":\"Plot\"}},\"id\":\"1c2e262e-be66-4540-a3b0-920340616ed8\",\"type\":\"PanTool\"},{\"attributes\":{},\"id\":\"e7a3b422-617c-44aa-9a50-f3a2fb48f731\",\"type\":\"ToolEvents\"},{\"attributes\":{\"callback\":null,\"column_names\":[\"xs\",\"ys\",\"line_color\"],\"data\":{\"line_color\":[\"black\",\"black\",\"black\",\"black\",\"black\",\"black\",\"black\",\"black\",\"black\",\"black\",\"black\",\"black\",\"black\",\"black\",\"black\",\"black\",\"black\",\"black\",\"black\",\"black\",\"black\",\"black\",\"black\",\"black\",\"black\",\"black\",\"black\",\"black\",\"black\",\"black\",\"black\",\"black\",\"black\",\"black\",\"black\",\"black\",\"black\",\"black\",\"black\",\"black\",\"black\",\"black\",\"black\",\"black\",\"black\",\"black\",\"black\",\"black\",\"black\",\"black\",\"black\",\"black\",\"black\",\"black\",\"black\",\"black\",\"black\",\"black\",\"black\",\"black\",\"black\",\"black\",\"black\",\"black\",\"black\",\"black\",\"black\",\"black\",\"black\",\"black\",\"black\",\"black\",\"black\",\"black\",\"black\",\"black\",\"black\",\"black\",\"black\",\"black\",\"black\",\"black\",\"black\",\"black\",\"black\",\"black\",\"black\",\"black\",\"black\",\"black\",\"black\",\"black\",\"black\",\"black\",\"black\",\"black\",\"black\",\"black\",\"black\",\"black\",\"black\",\"black\",\"black\",\"black\",\"black\",\"black\",\"black\",\"black\",\"black\",\"black\",\"black\",\"black\",\"black\",\"black\",\"black\",\"black\",\"black\",\"black\",\"black\",\"black\",\"black\",\"black\",\"black\",\"black\",\"black\",\"black\",\"black\",\"black\",\"black\",\"black\",\"black\",\"black\",\"black\",\"black\",\"black\",\"black\",\"black\",\"black\",\"black\",\"black\",\"black\",\"black\",\"black\",\"black\",\"black\",\"black\",\"black\",\"black\",\"black\",\"black\",\"black\",\"black\",\"black\",\"black\",\"black\",\"black\",\"black\",\"black\",\"black\",\"black\",\"black\",\"black\",\"black\",\"black\",\"black\",\"black\",\"black\",\"black\",\"black\",\"black\",\"black\",\"black\",\"black\",\"black\",\"black\",\"black\",\"black\",\"black\",\"black\",\"black\",\"black\",\"black\",\"black\",\"black\",\"black\",\"black\",\"black\"],\"xs\":[[135771974,135771974],[135859371,135859371],[135877562,135877562],[136022798,136022798],[136058820,136058820],[136140304,136140304],[135915358,135915358],[135954405,135954405],[135995073,135995073],[135995079,135995079],[136398174,136398174],[136402117,136402117],[136403749,136403749],[136409073,136409073],[136410299,136410299],[136413359,136413359],[136416855,136416855],[136416941,136416941],[136418348,136418348],[136419961,136419961],[136420690,136420690],[136422171,136422171],[136428460,136428460],[136430866,136430866],[136432103,136432103],[136437507,136437507],[136439090,136439090],[136439517,136439517],[136444123,136444123],[136445526,136445526],[136445869,136445869],[136455600,136455600],[136456642,136456642],[136462441,136462441],[136470714,136470714],[136474098,136474098],[136494985,136494985],[136497199,136497199],[136511817,136511817],[136513670,136513670],[136515458,136515458],[136516970,136516970],[136525309,136525309],[136528034,136528034],[136532225,136532225],[136535235,136535235],[136536095,136536095],[136544423,136544423],[136546927,136546927],[136552188,136552188],[136552517,136552517],[136555525,136555525],[136556480,136556480],[136560464,136560464],[136572285,136572285],[136582694,136582694],[136582809,136582809],[136584538,136584538],[136585323,136585323],[136586825,136586825],[136600662,136600662],[136612036,136612036],[136618178,136618178],[136618507,136618507],[136622543,136622543],[136624947,136624947],[136625113,136625113],[136626078,136626078],[136628121,136628121],[136632300,136632300],[136633962,136633962],[136635343,136635343],[136638113,136638113],[136640101,136640101],[136641593,136641593],[136646582,136646582],[136648077,136648077],[136648883,136648883],[136652045,136652045],[136653848,136653848],[136656094,136656094],[136661110,136661110],[136663110,136663110],[136663605,136663605],[136665162,136665162],[136665711,136665711],[136668123,136668123],[136670419,136670419],[136672680,136672680],[136673546,136673546],[136684632,136684632],[136686114,136686114],[136690425,136690425],[136690783,136690783],[136692893,136692893],[136694905,136694905],[136695694,136695694],[136695705,136695705],[136696608,136696608],[136697372,136697372],[136697468,136697468],[136700024,136700024],[136701539,136701539],[136702118,136702118],[136707480,136707480],[136710554,136710554],[136714178,136714178],[136719173,136719173],[136725459,136725459],[136734569,136734569],[136744678,136744678],[136748779,136748779],[136751488,136751488],[136754183,136754183],[136763242,136763242],[136765074,136765074],[136773638,136773638],[136500475,136500475],[136501509,136501509],[136504101,136504101],[136509868,136509868],[136520043,136520043],[136527120,136527120],[136530379,136530379],[136530443,136530443],[136539330,136539330],[136539670,136539670],[136540083,136540083],[136542559,136542559],[136542560,136542560],[136506375,136506375],[136506927,136506927],[136510012,136510012],[136538939,136538939],[136535876,136535876],[136544651,136544651],[136545844,136545844],[136552526,136552526],[136553022,136553022],[136554797,136554797],[136554890,136554890],[136588031,136588031],[136589278,136589278],[136589379,136589379],[136589741,136589741],[136590746,136590746],[136593553,136593553],[136593678,136593678],[136652491,136652491],[136652524,136652524],[136661150,136661150],[136669264,136669264],[136726567,136726567],[136732772,136732772],[136652953,136652953],[136655582,136655582],[136674028,136674028],[136684940,136684940],[136761175,136761175],[136653925,136653925],[136654833,136654833],[136656534,136656534],[136656536,136656536],[136657252,136657252],[136667301,136667301],[136667487,136667487],[136672775,136672775],[136680534,136680534],[136686393,136686393],[136688749,136688749],[136692553,136692553],[136697371,136697371],[136708787,136708787],[136710372,136710372],[136711064,136711064],[136715324,136715324],[136723504,136723504],[136737460,136737460],[136743143,136743143],[136746224,136746224],[136751842,136751842],[136759379,136759379],[136761853,136761853],[136687844,136687844],[136688159,136688159],[136688517,136688517],[136709809,136709809]],\"ys\":[[450,495],[450,495],[450,495],[450,495],[450,495],[450,495],[550,596],[550,596],[550,596],[550,596],[450,494],[450,494],[450,494],[450,494],[450,494],[450,494],[450,494],[450,494],[450,494],[450,494],[450,494],[450,494],[450,494],[450,494],[450,494],[450,494],[450,494],[450,494],[450,494],[450,494],[450,494],[450,494],[450,494],[450,494],[450,494],[450,494],[150,190],[150,190],[150,190],[150,190],[150,190],[150,190],[150,190],[150,190],[150,190],[150,190],[150,190],[150,190],[150,190],[150,190],[150,190],[150,190],[150,190],[150,190],[150,190],[150,190],[150,190],[150,190],[150,190],[150,190],[150,190],[150,190],[150,190],[150,190],[150,190],[150,190],[150,190],[150,190],[150,190],[150,190],[150,190],[150,190],[150,190],[150,190],[150,190],[150,190],[150,190],[150,190],[150,190],[150,190],[150,190],[150,190],[150,190],[150,190],[150,190],[150,190],[150,190],[150,190],[150,190],[150,190],[150,190],[150,190],[150,190],[150,190],[150,190],[150,190],[150,190],[150,190],[150,190],[150,190],[150,190],[150,190],[150,190],[150,190],[150,190],[150,190],[150,190],[150,190],[150,190],[150,190],[150,190],[150,190],[150,190],[150,190],[150,190],[150,190],[150,190],[250,293],[250,293],[250,293],[250,293],[250,293],[250,293],[250,293],[250,293],[250,293],[250,293],[250,293],[250,293],[250,293],[450,494],[450,494],[450,494],[450,494],[350,394],[350,394],[350,394],[350,394],[350,394],[350,394],[350,394],[550,596],[550,596],[550,596],[550,596],[550,596],[550,596],[550,596],[250,292],[250,292],[250,292],[250,292],[250,292],[250,292],[350,394],[350,394],[350,394],[350,394],[350,394],[550,595],[550,595],[550,595],[550,595],[550,595],[550,595],[550,595],[550,595],[550,595],[550,595],[550,595],[550,595],[550,595],[550,595],[550,595],[550,595],[550,595],[550,595],[550,595],[550,595],[550,595],[550,595],[550,595],[550,595],[50,59],[50,59],[50,59],[50,59]]}},\"id\":\"8d7cb4ea-0df2-4ce6-950a-c8a9e5d3d437\",\"type\":\"ColumnDataSource\"},{\"attributes\":{\"plot\":{\"id\":\"596b968d-43b7-4f2e-8c78-0a15933f9a47\",\"subtype\":\"Figure\",\"type\":\"Plot\"}},\"id\":\"81bfba31-5ab1-490c-b3f3-89316a247e96\",\"type\":\"ResetTool\"},{\"attributes\":{\"callback\":null,\"end\":136786630,\"start\":135757320},\"id\":\"4f1e9e49-6e1f-4b40-a060-e9b93b32dc2d\",\"type\":\"Range1d\"},{\"attributes\":{},\"id\":\"aa91edb4-37eb-4d51-97c3-13e49f26922b\",\"type\":\"BasicTicker\"},{\"attributes\":{\"line_color\":{\"field\":\"line_color\"},\"xs\":{\"field\":\"xs\"},\"ys\":{\"field\":\"ys\"}},\"id\":\"43c22038-2beb-44b1-9e71-f1bba700b978\",\"type\":\"MultiLine\"},{\"attributes\":{\"dimension\":1,\"plot\":{\"id\":\"596b968d-43b7-4f2e-8c78-0a15933f9a47\",\"subtype\":\"Figure\",\"type\":\"Plot\"},\"ticker\":{\"id\":\"4c0dab05-7a34-4173-ae6f-a6e13993e27c\",\"type\":\"BasicTicker\"}},\"id\":\"70f95687-e568-45fd-85cb-00446fbfed35\",\"type\":\"Grid\"},{\"attributes\":{\"line_alpha\":{\"value\":0.1},\"line_color\":{\"value\":\"#1f77b4\"},\"xs\":{\"field\":\"xs\"},\"ys\":{\"field\":\"ys\"}},\"id\":\"f8c7662c-2c5e-48a9-b5a7-aef6e5fd3711\",\"type\":\"MultiLine\"},{\"attributes\":{\"plot\":{\"id\":\"596b968d-43b7-4f2e-8c78-0a15933f9a47\",\"subtype\":\"Figure\",\"type\":\"Plot\"}},\"id\":\"dd907bbd-df41-4d5e-abf8-df843abd1c2f\",\"type\":\"HelpTool\"},{\"attributes\":{\"bottom\":{\"field\":\"bottom\"},\"fill_color\":{\"field\":\"fill_color\"},\"left\":{\"field\":\"left\"},\"line_color\":{\"value\":null},\"right\":{\"field\":\"right\"},\"top\":{\"field\":\"top\"}},\"id\":\"3ef576db-3625-44ea-af75-75170a0c3c7d\",\"type\":\"Quad\"},{\"attributes\":{\"bottom\":{\"field\":\"bottom\"},\"fill_alpha\":{\"value\":0.1},\"fill_color\":{\"value\":\"#1f77b4\"},\"left\":{\"field\":\"left\"},\"line_alpha\":{\"value\":0.1},\"line_color\":{\"value\":\"#1f77b4\"},\"right\":{\"field\":\"right\"},\"top\":{\"field\":\"top\"}},\"id\":\"07f6a6f3-11db-4083-9295-448d442fa131\",\"type\":\"Quad\"},{\"attributes\":{\"overlay\":{\"id\":\"3112c969-d235-4770-835d-6779e72a8f13\",\"type\":\"BoxAnnotation\"},\"plot\":{\"id\":\"596b968d-43b7-4f2e-8c78-0a15933f9a47\",\"subtype\":\"Figure\",\"type\":\"Plot\"}},\"id\":\"dfa9491d-d738-44f5-a0ca-5f3be67ff54d\",\"type\":\"BoxZoomTool\"},{\"attributes\":{\"active_drag\":\"auto\",\"active_scroll\":\"auto\",\"active_tap\":\"auto\",\"tools\":[{\"id\":\"1c2e262e-be66-4540-a3b0-920340616ed8\",\"type\":\"PanTool\"},{\"id\":\"43bac7d8-9bbf-4388-91eb-2529d335c1cb\",\"type\":\"WheelZoomTool\"},{\"id\":\"dfa9491d-d738-44f5-a0ca-5f3be67ff54d\",\"type\":\"BoxZoomTool\"},{\"id\":\"aad5dd33-d0e7-4228-86c9-0d7657750759\",\"type\":\"SaveTool\"},{\"id\":\"81bfba31-5ab1-490c-b3f3-89316a247e96\",\"type\":\"ResetTool\"},{\"id\":\"dd907bbd-df41-4d5e-abf8-df843abd1c2f\",\"type\":\"HelpTool\"}]},\"id\":\"fc0cf8dc-3b78-4ec6-a72e-09be429acb64\",\"type\":\"Toolbar\"},{\"attributes\":{\"data_source\":{\"id\":\"8d7cb4ea-0df2-4ce6-950a-c8a9e5d3d437\",\"type\":\"ColumnDataSource\"},\"glyph\":{\"id\":\"43c22038-2beb-44b1-9e71-f1bba700b978\",\"type\":\"MultiLine\"},\"hover_glyph\":null,\"nonselection_glyph\":{\"id\":\"f8c7662c-2c5e-48a9-b5a7-aef6e5fd3711\",\"type\":\"MultiLine\"},\"selection_glyph\":null},\"id\":\"ef65ec02-0c6a-4dab-afed-6ad0236633a3\",\"type\":\"GlyphRenderer\"},{\"attributes\":{},\"id\":\"4c0dab05-7a34-4173-ae6f-a6e13993e27c\",\"type\":\"BasicTicker\"},{\"attributes\":{},\"id\":\"e2501792-1d67-4279-a25b-a8aac6862139\",\"type\":\"BasicTickFormatter\"},{\"attributes\":{\"callback\":null,\"end\":700},\"id\":\"6b063c7f-f55f-4131-b0c0-f707536f4d30\",\"type\":\"Range1d\"},{\"attributes\":{\"bottom\":{\"field\":\"bottom\"},\"fill_alpha\":{\"value\":0.1},\"fill_color\":{\"value\":\"#1f77b4\"},\"left\":{\"field\":\"left\"},\"line_alpha\":{\"value\":0.1},\"line_color\":{\"value\":\"#1f77b4\"},\"right\":{\"field\":\"right\"},\"top\":{\"field\":\"top\"}},\"id\":\"daa22e37-33a3-4fb2-a61f-f8e124229818\",\"type\":\"Quad\"},{\"attributes\":{},\"id\":\"0e0ce7c9-a6e0-4795-9a9a-3410d7e1bb25\",\"type\":\"BasicTickFormatter\"},{\"attributes\":{\"plot\":{\"id\":\"596b968d-43b7-4f2e-8c78-0a15933f9a47\",\"subtype\":\"Figure\",\"type\":\"Plot\"}},\"id\":\"aad5dd33-d0e7-4228-86c9-0d7657750759\",\"type\":\"SaveTool\"},{\"attributes\":{\"bottom_units\":\"screen\",\"fill_alpha\":{\"value\":0.5},\"fill_color\":{\"value\":\"lightgrey\"},\"left_units\":\"screen\",\"level\":\"overlay\",\"line_alpha\":{\"value\":1.0},\"line_color\":{\"value\":\"black\"},\"line_dash\":[4,4],\"line_width\":{\"value\":2},\"plot\":null,\"render_mode\":\"css\",\"right_units\":\"screen\",\"top_units\":\"screen\"},\"id\":\"3112c969-d235-4770-835d-6779e72a8f13\",\"type\":\"BoxAnnotation\"},{\"attributes\":{\"plot\":{\"id\":\"596b968d-43b7-4f2e-8c78-0a15933f9a47\",\"subtype\":\"Figure\",\"type\":\"Plot\"}},\"id\":\"43bac7d8-9bbf-4388-91eb-2529d335c1cb\",\"type\":\"WheelZoomTool\"},{\"attributes\":{\"formatter\":{\"id\":\"0e0ce7c9-a6e0-4795-9a9a-3410d7e1bb25\",\"type\":\"BasicTickFormatter\"},\"plot\":{\"id\":\"596b968d-43b7-4f2e-8c78-0a15933f9a47\",\"subtype\":\"Figure\",\"type\":\"Plot\"},\"ticker\":{\"id\":\"aa91edb4-37eb-4d51-97c3-13e49f26922b\",\"type\":\"BasicTicker\"}},\"id\":\"6e5d9c41-021e-4110-86a0-7d4ea282aa6b\",\"type\":\"LinearAxis\"},{\"attributes\":{\"data_source\":{\"id\":\"9bdb5be1-afc0-4801-905a-b21166bcebf0\",\"type\":\"ColumnDataSource\"},\"glyph\":{\"id\":\"3ef576db-3625-44ea-af75-75170a0c3c7d\",\"type\":\"Quad\"},\"hover_glyph\":null,\"nonselection_glyph\":{\"id\":\"07f6a6f3-11db-4083-9295-448d442fa131\",\"type\":\"Quad\"},\"selection_glyph\":null},\"id\":\"57706a01-6bf2-41f6-af8c-e8be2b6eafae\",\"type\":\"GlyphRenderer\"},{\"attributes\":{\"callback\":null,\"column_names\":[\"right\",\"bottom\",\"top\",\"left\"],\"data\":{\"bottom\":[645,645,645,645,645,645,645],\"left\":[135809835,135957574,136289083,136499189,136545415,136597196,136664254],\"right\":[135928279,136288182,136482839,136542633,136594750,136634047,136743222],\"top\":[675,675,675,675,675,675,675]}},\"id\":\"e18c2c64-6104-4f2b-8442-3b568ecd5697\",\"type\":\"ColumnDataSource\"},{\"attributes\":{\"plot\":null,\"text\":null},\"id\":\"1f30eb4b-6d24-454d-be86-a0dea3aabea0\",\"type\":\"Title\"},{\"attributes\":{\"data_source\":{\"id\":\"e18c2c64-6104-4f2b-8442-3b568ecd5697\",\"type\":\"ColumnDataSource\"},\"glyph\":{\"id\":\"d2dc9876-b3ea-436c-9855-1df20dd236e4\",\"type\":\"Quad\"},\"hover_glyph\":null,\"nonselection_glyph\":{\"id\":\"daa22e37-33a3-4fb2-a61f-f8e124229818\",\"type\":\"Quad\"},\"selection_glyph\":null},\"id\":\"586b2ed3-0d83-44d9-b617-d1a79ab7990b\",\"type\":\"GlyphRenderer\"},{\"attributes\":{\"below\":[{\"id\":\"6e5d9c41-021e-4110-86a0-7d4ea282aa6b\",\"type\":\"LinearAxis\"}],\"left\":[{\"id\":\"5d2f18e1-e3e9-4a57-b005-f967c6873d25\",\"type\":\"LinearAxis\"}],\"plot_height\":700,\"plot_width\":900,\"renderers\":[{\"id\":\"6e5d9c41-021e-4110-86a0-7d4ea282aa6b\",\"type\":\"LinearAxis\"},{\"id\":\"4d798a71-af2a-434b-9e40-f57badf749c9\",\"type\":\"Grid\"},{\"id\":\"5d2f18e1-e3e9-4a57-b005-f967c6873d25\",\"type\":\"LinearAxis\"},{\"id\":\"70f95687-e568-45fd-85cb-00446fbfed35\",\"type\":\"Grid\"},{\"id\":\"3112c969-d235-4770-835d-6779e72a8f13\",\"type\":\"BoxAnnotation\"},{\"id\":\"57706a01-6bf2-41f6-af8c-e8be2b6eafae\",\"type\":\"GlyphRenderer\"},{\"id\":\"ef65ec02-0c6a-4dab-afed-6ad0236633a3\",\"type\":\"GlyphRenderer\"},{\"id\":\"bd1f2c3a-4626-4937-af53-34094f66768a\",\"type\":\"LabelSet\"},{\"id\":\"586b2ed3-0d83-44d9-b617-d1a79ab7990b\",\"type\":\"GlyphRenderer\"},{\"id\":\"4b6b5ef4-b202-400d-985c-94a74ae05f00\",\"type\":\"LabelSet\"}],\"title\":{\"id\":\"1f30eb4b-6d24-454d-be86-a0dea3aabea0\",\"type\":\"Title\"},\"tool_events\":{\"id\":\"e7a3b422-617c-44aa-9a50-f3a2fb48f731\",\"type\":\"ToolEvents\"},\"toolbar\":{\"id\":\"fc0cf8dc-3b78-4ec6-a72e-09be429acb64\",\"type\":\"Toolbar\"},\"toolbar_location\":null,\"x_range\":{\"id\":\"4f1e9e49-6e1f-4b40-a060-e9b93b32dc2d\",\"type\":\"Range1d\"},\"y_range\":{\"id\":\"6b063c7f-f55f-4131-b0c0-f707536f4d30\",\"type\":\"Range1d\"}},\"id\":\"596b968d-43b7-4f2e-8c78-0a15933f9a47\",\"subtype\":\"Figure\",\"type\":\"Plot\"}],\"root_ids\":[\"596b968d-43b7-4f2e-8c78-0a15933f9a47\"]},\"title\":\"Bokeh Application\",\"version\":\"0.12.0\"}};\n",
       "            var render_items = [{\"docid\":\"502c4d81-4022-47c5-81ad-c7d3f6ecb67a\",\"elementid\":\"fdf7a2df-edb2-44e5-b174-62c66c369306\",\"modelid\":\"596b968d-43b7-4f2e-8c78-0a15933f9a47\",\"notebook_comms_target\":\"0c75c465-f41f-4c27-b305-add8acc32d2a\"}];\n",
       "            \n",
       "            Bokeh.embed.embed_items(docs_json, render_items);\n",
       "        });\n",
       "      },\n",
       "      function(Bokeh) {\n",
       "      }\n",
       "    ];\n",
       "  \n",
       "    function run_inline_js() {\n",
       "      for (var i = 0; i < inline_js.length; i++) {\n",
       "        inline_js[i](window.Bokeh);\n",
       "      }\n",
       "    }\n",
       "  \n",
       "    if (window._bokeh_is_loading === 0) {\n",
       "      console.log(\"Bokeh: BokehJS loaded, going straight to plotting\");\n",
       "      run_inline_js();\n",
       "    } else {\n",
       "      load_libs(js_urls, function() {\n",
       "        console.log(\"Bokeh: BokehJS plotting callback run at\", now());\n",
       "        run_inline_js();\n",
       "      });\n",
       "    }\n",
       "  }(this));\n",
       "</script>"
      ]
     },
     "metadata": {},
     "output_type": "display_data"
    },
    {
     "data": {
      "text/html": [
       "<p><code>&lt;Bokeh Notebook handle for <strong>In[34]</strong>&gt;</code></p>"
      ],
      "text/plain": [
       "<bokeh.io._CommsHandle at 0x7ff6b4700e50>"
      ]
     },
     "execution_count": 34,
     "metadata": {},
     "output_type": "execute_result"
    }
   ],
   "source": [
    "plt_obj = dm.superset_yes_no([dm.di_6_1503, dm.di_26_1414, dm.di_4_1442, dm.di_7_1760, dm.di_24_1504], \n",
    "                             [dm.di_10_2206,\n",
    "                              dm.di_4_911, dm.di_11_765, di_6_57, di_6_35, di_7_22, di_7_20],\n",
    "                             min_match=0.001)\n",
    "plt = plt_obj.do_plot()\n",
    "show(plt)"
   ]
  },
  {
   "cell_type": "code",
   "execution_count": 35,
   "metadata": {
    "collapsed": false,
    "deletable": true,
    "editable": true
   },
   "outputs": [
    {
     "data": {
      "text/html": [
       "<table>\n",
       "<thead><tr><th style=\"text-align:center\">index</th><th style=\"text-align:center\">first</th><th style=\"text-align:center\">length</th><th style=\"text-align:center\">snps</th><th style=\"text-align:center\" colspan=2>alleles</th><th style=\"text-align:center\" colspan=2>matches</th><th style=\"text-align:center\" colspan=2>afr</th><th style=\"text-align:center\" colspan=2>afx</th><th style=\"text-align:center\" colspan=2>amr</th><th style=\"text-align:center\" colspan=2>eas</th><th style=\"text-align:center\" colspan=2>eur</th><th style=\"text-align:center\" colspan=2>sas</th><th style=\"text-align:center\" colspan=2>sax</th></tr></thead>\n",
       "<tr class=\"even\"><td style=\"text-align: right;\">354033</td><td style=\"text-align: right;\">136,588,031</td><td style=\"text-align: right;\">5,647</td><td style=\"text-align: right;\">7</td><td style=\"text-align: right;\">1760</td><td style=\"text-align: right;\">0.00</td><td style=\"text-align: right;\">1</td><td style=\"text-align: right;\">1.00</td><td style=\"text-align: right;\">0</td><td style=\"text-align: right;\">0.00</td><td style=\"text-align: right;\">0</td><td style=\"text-align: right;\">0.00</td><td style=\"text-align: right;\">0</td><td style=\"text-align: right;\">0.00</td><td style=\"text-align: right;\">1</td><td style=\"text-align: right;\">4.93</td><td style=\"text-align: right;\">0</td><td style=\"text-align: right;\">0.00</td><td style=\"text-align: right;\">0</td><td style=\"text-align: right;\">0.00</td><td style=\"text-align: right;\">0</td><td style=\"text-align: right;\">0.00</td></tr>\n",
       "<tr><td style=\"text-align: right;\">353462</td><td style=\"text-align: right;\">135,915,358</td><td style=\"text-align: right;\">79,721</td><td style=\"text-align: right;\">4</td><td style=\"text-align: right;\">1699</td><td style=\"text-align: right;\">0.00</td><td style=\"text-align: right;\">1</td><td style=\"text-align: right;\">1.00</td><td style=\"text-align: right;\">0</td><td style=\"text-align: right;\">0.00</td><td style=\"text-align: right;\">0</td><td style=\"text-align: right;\">0.00</td><td style=\"text-align: right;\">0</td><td style=\"text-align: right;\">0.00</td><td style=\"text-align: right;\">1</td><td style=\"text-align: right;\">4.93</td><td style=\"text-align: right;\">0</td><td style=\"text-align: right;\">0.00</td><td style=\"text-align: right;\">0</td><td style=\"text-align: right;\">0.00</td><td style=\"text-align: right;\">0</td><td style=\"text-align: right;\">0.00</td></tr>\n",
       "<tr class=\"even\"><td style=\"text-align: right;\">354130</td><td style=\"text-align: right;\">136,653,925</td><td style=\"text-align: right;\">107,928</td><td style=\"text-align: right;\">24</td><td style=\"text-align: right;\">1504</td><td style=\"text-align: right;\">0.00</td><td style=\"text-align: right;\">1</td><td style=\"text-align: right;\">1.00</td><td style=\"text-align: right;\">0</td><td style=\"text-align: right;\">0.00</td><td style=\"text-align: right;\">0</td><td style=\"text-align: right;\">0.00</td><td style=\"text-align: right;\">0</td><td style=\"text-align: right;\">0.00</td><td style=\"text-align: right;\">1</td><td style=\"text-align: right;\">4.93</td><td style=\"text-align: right;\">0</td><td style=\"text-align: right;\">0.00</td><td style=\"text-align: right;\">0</td><td style=\"text-align: right;\">0.00</td><td style=\"text-align: right;\">0</td><td style=\"text-align: right;\">0.00</td></tr>\n",
       "<tr><td style=\"text-align: right;\">353283</td><td style=\"text-align: right;\">135,771,974</td><td style=\"text-align: right;\">368,330</td><td style=\"text-align: right;\">6</td><td style=\"text-align: right;\">1503</td><td style=\"text-align: right;\">0.00</td><td style=\"text-align: right;\">1</td><td style=\"text-align: right;\">1.00</td><td style=\"text-align: right;\">0</td><td style=\"text-align: right;\">0.00</td><td style=\"text-align: right;\">0</td><td style=\"text-align: right;\">0.00</td><td style=\"text-align: right;\">0</td><td style=\"text-align: right;\">0.00</td><td style=\"text-align: right;\">1</td><td style=\"text-align: right;\">4.93</td><td style=\"text-align: right;\">0</td><td style=\"text-align: right;\">0.00</td><td style=\"text-align: right;\">0</td><td style=\"text-align: right;\">0.00</td><td style=\"text-align: right;\">0</td><td style=\"text-align: right;\">0.00</td></tr>\n",
       "<tr class=\"even\"><td style=\"text-align: right;\">353925</td><td style=\"text-align: right;\">136,506,375</td><td style=\"text-align: right;\">32,564</td><td style=\"text-align: right;\">4</td><td style=\"text-align: right;\">1442</td><td style=\"text-align: right;\">0.00</td><td style=\"text-align: right;\">1</td><td style=\"text-align: right;\">1.00</td><td style=\"text-align: right;\">0</td><td style=\"text-align: right;\">0.00</td><td style=\"text-align: right;\">0</td><td style=\"text-align: right;\">0.00</td><td style=\"text-align: right;\">0</td><td style=\"text-align: right;\">0.00</td><td style=\"text-align: right;\">1</td><td style=\"text-align: right;\">4.93</td><td style=\"text-align: right;\">0</td><td style=\"text-align: right;\">0.00</td><td style=\"text-align: right;\">0</td><td style=\"text-align: right;\">0.00</td><td style=\"text-align: right;\">0</td><td style=\"text-align: right;\">0.00</td></tr>\n",
       "<tr><td style=\"text-align: right;\">353797</td><td style=\"text-align: right;\">136,398,174</td><td style=\"text-align: right;\">75,924</td><td style=\"text-align: right;\">26</td><td style=\"text-align: right;\">1414</td><td style=\"text-align: right;\">0.00</td><td style=\"text-align: right;\">1</td><td style=\"text-align: right;\">1.00</td><td style=\"text-align: right;\">0</td><td style=\"text-align: right;\">0.00</td><td style=\"text-align: right;\">0</td><td style=\"text-align: right;\">0.00</td><td style=\"text-align: right;\">0</td><td style=\"text-align: right;\">0.00</td><td style=\"text-align: right;\">1</td><td style=\"text-align: right;\">4.93</td><td style=\"text-align: right;\">0</td><td style=\"text-align: right;\">0.00</td><td style=\"text-align: right;\">0</td><td style=\"text-align: right;\">0.00</td><td style=\"text-align: right;\">0</td><td style=\"text-align: right;\">0.00</td></tr>\n",
       "<tr class=\"even\"><td style=\"text-align: right;\">353958</td><td style=\"text-align: right;\">136,535,876</td><td style=\"text-align: right;\">19,014</td><td style=\"text-align: right;\">7</td><td style=\"text-align: right;\">1303</td><td style=\"text-align: right;\">0.00</td><td style=\"text-align: right;\">1</td><td style=\"text-align: right;\">1.00</td><td style=\"text-align: right;\">0</td><td style=\"text-align: right;\">0.00</td><td style=\"text-align: right;\">0</td><td style=\"text-align: right;\">0.00</td><td style=\"text-align: right;\">0</td><td style=\"text-align: right;\">0.00</td><td style=\"text-align: right;\">1</td><td style=\"text-align: right;\">4.93</td><td style=\"text-align: right;\">0</td><td style=\"text-align: right;\">0.00</td><td style=\"text-align: right;\">0</td><td style=\"text-align: right;\">0.00</td><td style=\"text-align: right;\">0</td><td style=\"text-align: right;\">0.00</td></tr>\n",
       "<tr><td style=\"text-align: right;\">354129</td><td style=\"text-align: right;\">136,652,953</td><td style=\"text-align: right;\">108,222</td><td style=\"text-align: right;\">5</td><td style=\"text-align: right;\">1296</td><td style=\"text-align: right;\">0.00</td><td style=\"text-align: right;\">1</td><td style=\"text-align: right;\">1.00</td><td style=\"text-align: right;\">0</td><td style=\"text-align: right;\">0.00</td><td style=\"text-align: right;\">0</td><td style=\"text-align: right;\">0.00</td><td style=\"text-align: right;\">0</td><td style=\"text-align: right;\">0.00</td><td style=\"text-align: right;\">1</td><td style=\"text-align: right;\">4.93</td><td style=\"text-align: right;\">0</td><td style=\"text-align: right;\">0.00</td><td style=\"text-align: right;\">0</td><td style=\"text-align: right;\">0.00</td><td style=\"text-align: right;\">0</td><td style=\"text-align: right;\">0.00</td></tr>\n",
       "<tr class=\"even\"><td style=\"text-align: right;\">353919</td><td style=\"text-align: right;\">136,500,475</td><td style=\"text-align: right;\">42,085</td><td style=\"text-align: right;\">13</td><td style=\"text-align: right;\">1227</td><td style=\"text-align: right;\">0.00</td><td style=\"text-align: right;\">1</td><td style=\"text-align: right;\">1.00</td><td style=\"text-align: right;\">0</td><td style=\"text-align: right;\">0.00</td><td style=\"text-align: right;\">0</td><td style=\"text-align: right;\">0.00</td><td style=\"text-align: right;\">0</td><td style=\"text-align: right;\">0.00</td><td style=\"text-align: right;\">1</td><td style=\"text-align: right;\">4.93</td><td style=\"text-align: right;\">0</td><td style=\"text-align: right;\">0.00</td><td style=\"text-align: right;\">0</td><td style=\"text-align: right;\">0.00</td><td style=\"text-align: right;\">0</td><td style=\"text-align: right;\">0.00</td></tr>\n",
       "<tr><td style=\"text-align: right;\">354127</td><td style=\"text-align: right;\">136,652,491</td><td style=\"text-align: right;\">80,281</td><td style=\"text-align: right;\">6</td><td style=\"text-align: right;\">1114</td><td style=\"text-align: right;\">0.00</td><td style=\"text-align: right;\">1</td><td style=\"text-align: right;\">1.00</td><td style=\"text-align: right;\">0</td><td style=\"text-align: right;\">0.00</td><td style=\"text-align: right;\">0</td><td style=\"text-align: right;\">0.00</td><td style=\"text-align: right;\">0</td><td style=\"text-align: right;\">0.00</td><td style=\"text-align: right;\">1</td><td style=\"text-align: right;\">4.93</td><td style=\"text-align: right;\">0</td><td style=\"text-align: right;\">0.00</td><td style=\"text-align: right;\">0</td><td style=\"text-align: right;\">0.00</td><td style=\"text-align: right;\">0</td><td style=\"text-align: right;\">0.00</td></tr>\n",
       "<tr class=\"even\"><td style=\"text-align: right;\">353902</td><td style=\"text-align: right;\">136,494,985</td><td style=\"text-align: right;\">278,653</td><td style=\"text-align: right;\">81</td><td style=\"text-align: right;\">857</td><td style=\"text-align: right;\">0.00</td><td style=\"text-align: right;\">1</td><td style=\"text-align: right;\">1.00</td><td style=\"text-align: right;\">0</td><td style=\"text-align: right;\">0.00</td><td style=\"text-align: right;\">0</td><td style=\"text-align: right;\">0.00</td><td style=\"text-align: right;\">0</td><td style=\"text-align: right;\">0.00</td><td style=\"text-align: right;\">1</td><td style=\"text-align: right;\">4.93</td><td style=\"text-align: right;\">0</td><td style=\"text-align: right;\">0.00</td><td style=\"text-align: right;\">0</td><td style=\"text-align: right;\">0.00</td><td style=\"text-align: right;\">0</td><td style=\"text-align: right;\">0.00</td></tr>\n",
       "<tr><td style=\"text-align: right;\">354176</td><td style=\"text-align: right;\">136,687,844</td><td style=\"text-align: right;\">21,965</td><td style=\"text-align: right;\">4</td><td style=\"text-align: right;\">25</td><td style=\"text-align: right;\">0.04</td><td style=\"text-align: right;\">1</td><td style=\"text-align: right;\">1.00</td><td style=\"text-align: right;\">0</td><td style=\"text-align: right;\">0.00</td><td style=\"text-align: right;\">0</td><td style=\"text-align: right;\">0.00</td><td style=\"text-align: right;\">0</td><td style=\"text-align: right;\">0.00</td><td style=\"text-align: right;\">1</td><td style=\"text-align: right;\">4.93</td><td style=\"text-align: right;\">0</td><td style=\"text-align: right;\">0.00</td><td style=\"text-align: right;\">0</td><td style=\"text-align: right;\">0.00</td><td style=\"text-align: right;\">0</td><td style=\"text-align: right;\">0.00</td></tr>\n",
       "</table>"
      ],
      "text/plain": [
       "<IPython.core.display.HTML object>"
      ]
     },
     "execution_count": 35,
     "metadata": {},
     "output_type": "execute_result"
    }
   ],
   "source": [
    "HTML(plt_obj.get_html())"
   ]
  },
  {
   "cell_type": "code",
   "execution_count": 36,
   "metadata": {
    "collapsed": false,
    "deletable": true,
    "editable": true
   },
   "outputs": [
    {
     "data": {
      "text/html": [
       "\n",
       "\n",
       "    <div class=\"bk-root\">\n",
       "        <div class=\"plotdiv\" id=\"4ac3997a-1c87-49fa-9898-7a7dd680a832\"></div>\n",
       "    </div>\n",
       "<script type=\"text/javascript\">\n",
       "  \n",
       "  (function(global) {\n",
       "    function now() {\n",
       "      return new Date();\n",
       "    }\n",
       "  \n",
       "    if (typeof (window._bokeh_onload_callbacks) === \"undefined\") {\n",
       "      window._bokeh_onload_callbacks = [];\n",
       "    }\n",
       "  \n",
       "    function run_callbacks() {\n",
       "      window._bokeh_onload_callbacks.forEach(function(callback) { callback() });\n",
       "      delete window._bokeh_onload_callbacks\n",
       "      console.info(\"Bokeh: all callbacks have finished\");\n",
       "    }\n",
       "  \n",
       "    function load_libs(js_urls, callback) {\n",
       "      window._bokeh_onload_callbacks.push(callback);\n",
       "      if (window._bokeh_is_loading > 0) {\n",
       "        console.log(\"Bokeh: BokehJS is being loaded, scheduling callback at\", now());\n",
       "        return null;\n",
       "      }\n",
       "      if (js_urls == null || js_urls.length === 0) {\n",
       "        run_callbacks();\n",
       "        return null;\n",
       "      }\n",
       "      console.log(\"Bokeh: BokehJS not loaded, scheduling load and callback at\", now());\n",
       "      window._bokeh_is_loading = js_urls.length;\n",
       "      for (var i = 0; i < js_urls.length; i++) {\n",
       "        var url = js_urls[i];\n",
       "        var s = document.createElement('script');\n",
       "        s.src = url;\n",
       "        s.async = false;\n",
       "        s.onreadystatechange = s.onload = function() {\n",
       "          window._bokeh_is_loading--;\n",
       "          if (window._bokeh_is_loading === 0) {\n",
       "            console.log(\"Bokeh: all BokehJS libraries loaded\");\n",
       "            run_callbacks()\n",
       "          }\n",
       "        };\n",
       "        s.onerror = function() {\n",
       "          console.warn(\"failed to load library \" + url);\n",
       "        };\n",
       "        console.log(\"Bokeh: injecting script tag for BokehJS library: \", url);\n",
       "        document.getElementsByTagName(\"head\")[0].appendChild(s);\n",
       "      }\n",
       "    };var element = document.getElementById(\"4ac3997a-1c87-49fa-9898-7a7dd680a832\");\n",
       "    if (element == null) {\n",
       "      console.log(\"Bokeh: ERROR: autoload.js configured with elementid '4ac3997a-1c87-49fa-9898-7a7dd680a832' but no matching script tag was found. \")\n",
       "      return false;\n",
       "    }\n",
       "  \n",
       "    var js_urls = [];\n",
       "  \n",
       "    var inline_js = [\n",
       "      function(Bokeh) {\n",
       "        Bokeh.$(function() {\n",
       "            var docs_json = {\"72102346-9f2d-49dd-94cd-4e44fb384655\":{\"roots\":{\"references\":[{\"attributes\":{\"dimension\":1,\"plot\":{\"id\":\"ff612865-2c21-4aeb-98a4-ca5fd310c3d2\",\"subtype\":\"Figure\",\"type\":\"Plot\"},\"ticker\":{\"id\":\"26f7148f-32fa-47f4-b06e-5b572e60ef32\",\"type\":\"BasicTicker\"}},\"id\":\"e343f4c6-fe8f-4cea-a748-985e25d75c05\",\"type\":\"Grid\"},{\"attributes\":{\"plot\":{\"id\":\"ff612865-2c21-4aeb-98a4-ca5fd310c3d2\",\"subtype\":\"Figure\",\"type\":\"Plot\"}},\"id\":\"faa0da07-31c1-4e6e-9f69-bb52a0fbd17e\",\"type\":\"PanTool\"},{\"attributes\":{\"bottom\":{\"field\":\"bottom\"},\"fill_color\":{\"value\":\"white\"},\"left\":{\"field\":\"left\"},\"right\":{\"field\":\"right\"},\"top\":{\"field\":\"top\"}},\"id\":\"81c94f92-f355-457a-b3d0-dbdd6f4acdf3\",\"type\":\"Quad\"},{\"attributes\":{\"bottom\":{\"field\":\"bottom\"},\"fill_alpha\":{\"value\":0.1},\"fill_color\":{\"value\":\"#1f77b4\"},\"left\":{\"field\":\"left\"},\"line_alpha\":{\"value\":0.1},\"line_color\":{\"value\":\"#1f77b4\"},\"right\":{\"field\":\"right\"},\"top\":{\"field\":\"top\"}},\"id\":\"011fd25f-0171-4564-b0cc-c76e319a84ce\",\"type\":\"Quad\"},{\"attributes\":{\"plot\":{\"id\":\"ff612865-2c21-4aeb-98a4-ca5fd310c3d2\",\"subtype\":\"Figure\",\"type\":\"Plot\"},\"ticker\":{\"id\":\"07bc9907-5d1f-450c-9c92-39672982bb9f\",\"type\":\"BasicTicker\"}},\"id\":\"e6899024-2c54-4b00-8cf3-ec162801c0b1\",\"type\":\"Grid\"},{\"attributes\":{\"bottom\":{\"field\":\"bottom\"},\"fill_alpha\":{\"value\":0.1},\"fill_color\":{\"value\":\"#1f77b4\"},\"left\":{\"field\":\"left\"},\"line_alpha\":{\"value\":0.1},\"line_color\":{\"value\":\"#1f77b4\"},\"right\":{\"field\":\"right\"},\"top\":{\"field\":\"top\"}},\"id\":\"d63be80e-dd38-44c1-97cb-d0a4f84d13b3\",\"type\":\"Quad\"},{\"attributes\":{\"active_drag\":\"auto\",\"active_scroll\":\"auto\",\"active_tap\":\"auto\",\"tools\":[{\"id\":\"faa0da07-31c1-4e6e-9f69-bb52a0fbd17e\",\"type\":\"PanTool\"},{\"id\":\"82012e38-02e0-44a9-bed4-c1308342de22\",\"type\":\"WheelZoomTool\"},{\"id\":\"58e0eb05-c8bd-43f2-be73-e5c6f0737e93\",\"type\":\"BoxZoomTool\"},{\"id\":\"3cb48ff3-a4eb-4e42-b3ee-23f0cd1b15e4\",\"type\":\"SaveTool\"},{\"id\":\"008e806c-a5ff-4ab9-8bb2-e0396a700a40\",\"type\":\"ResetTool\"},{\"id\":\"6f891cb5-1d7f-4f5e-928c-f691d62aa8f7\",\"type\":\"HelpTool\"}]},\"id\":\"863009a8-b4ae-4ae3-aed9-6d4c12708859\",\"type\":\"Toolbar\"},{\"attributes\":{\"data_source\":{\"id\":\"9703bafe-a75b-4795-bd78-8e6407bf22d1\",\"type\":\"ColumnDataSource\"},\"glyph\":{\"id\":\"67056dd3-78dd-4c4a-9f8b-b356e32bd77b\",\"type\":\"Quad\"},\"hover_glyph\":null,\"nonselection_glyph\":{\"id\":\"011fd25f-0171-4564-b0cc-c76e319a84ce\",\"type\":\"Quad\"},\"selection_glyph\":null},\"id\":\"03f09827-083a-4ac2-8d58-d85de88b2731\",\"type\":\"GlyphRenderer\"},{\"attributes\":{\"callback\":null,\"column_names\":[\"right\",\"bottom\",\"top\",\"left\"],\"data\":{\"bottom\":[545,545,545,545,545,545,545],\"left\":[135809835,135957574,136289083,136499189,136545415,136597196,136664254],\"right\":[135928279,136288182,136482839,136542633,136594750,136634047,136743222],\"top\":[575,575,575,575,575,575,575]}},\"id\":\"ab7eb12f-977e-4439-bf27-3a1aeaacfe66\",\"type\":\"ColumnDataSource\"},{\"attributes\":{\"callback\":null,\"column_names\":[\"y\",\"x\",\"vals\"],\"data\":{\"vals\":[\"12_32\",\"6_1503\",\"4_1699\",\"26_1414\",\"13_1227\",\"4_1442\",\"7_1303\",\"7_1760\",\"24_128\",\"14_54\"],\"x\":[135759628,135771974,135915358,136398174,136500475,136506375,136535876,136588031,136656176,136666483],\"y\":[67.0,400.0,501.0,399.0,198.0,399.0,299.0,501.0,179.0,71.0]}},\"id\":\"596e9e6b-60e9-45a9-aabe-698376e1e1b2\",\"type\":\"ColumnDataSource\"},{\"attributes\":{\"plot\":{\"id\":\"ff612865-2c21-4aeb-98a4-ca5fd310c3d2\",\"subtype\":\"Figure\",\"type\":\"Plot\"}},\"id\":\"008e806c-a5ff-4ab9-8bb2-e0396a700a40\",\"type\":\"ResetTool\"},{\"attributes\":{\"callback\":null,\"end\":136786630,\"start\":135757320},\"id\":\"9d16719d-7d61-4afd-a721-c778246fdd43\",\"type\":\"Range1d\"},{\"attributes\":{\"plot\":{\"id\":\"ff612865-2c21-4aeb-98a4-ca5fd310c3d2\",\"subtype\":\"Figure\",\"type\":\"Plot\"}},\"id\":\"6f891cb5-1d7f-4f5e-928c-f691d62aa8f7\",\"type\":\"HelpTool\"},{\"attributes\":{\"line_color\":{\"field\":\"line_color\"},\"xs\":{\"field\":\"xs\"},\"ys\":{\"field\":\"ys\"}},\"id\":\"dbef3351-95d1-4308-aa80-3f8cf30ee1e9\",\"type\":\"MultiLine\"},{\"attributes\":{},\"id\":\"7a13fce7-1f8f-414d-a282-38881b8af455\",\"type\":\"ToolEvents\"},{\"attributes\":{\"formatter\":{\"id\":\"5ae9ecdd-3593-4665-b254-6204f6eaec98\",\"type\":\"BasicTickFormatter\"},\"plot\":{\"id\":\"ff612865-2c21-4aeb-98a4-ca5fd310c3d2\",\"subtype\":\"Figure\",\"type\":\"Plot\"},\"ticker\":{\"id\":\"07bc9907-5d1f-450c-9c92-39672982bb9f\",\"type\":\"BasicTicker\"}},\"id\":\"ce55a3fb-e360-42ab-bc32-a66eebfade8a\",\"type\":\"LinearAxis\"},{\"attributes\":{\"callback\":null,\"column_names\":[\"xs\",\"ys\",\"line_color\"],\"data\":{\"line_color\":[\"black\",\"black\",\"black\",\"black\",\"black\",\"black\",\"black\",\"black\",\"black\",\"black\",\"black\",\"black\",\"black\",\"black\",\"black\",\"black\",\"black\",\"black\",\"black\",\"black\",\"black\",\"black\",\"black\",\"black\",\"black\",\"black\",\"black\",\"black\",\"black\",\"black\",\"black\",\"black\",\"black\",\"black\",\"black\",\"black\",\"black\",\"black\",\"black\",\"black\",\"black\",\"black\",\"black\",\"black\",\"black\",\"black\",\"black\",\"black\",\"black\",\"black\",\"black\",\"black\",\"black\",\"black\",\"black\",\"black\",\"black\",\"black\",\"black\",\"black\",\"black\",\"black\",\"black\",\"black\",\"black\",\"black\",\"black\",\"black\",\"black\",\"black\",\"black\",\"black\",\"black\",\"black\",\"black\",\"black\",\"black\",\"black\",\"black\",\"black\",\"black\",\"black\",\"black\",\"black\",\"black\",\"black\",\"black\",\"black\",\"black\",\"black\",\"black\",\"black\",\"black\",\"black\",\"black\",\"black\",\"black\",\"black\",\"black\",\"black\",\"black\",\"black\",\"black\",\"black\",\"black\",\"black\",\"black\",\"black\",\"black\",\"black\",\"black\",\"black\",\"black\",\"black\",\"black\",\"black\",\"black\"],\"xs\":[[135759628,135759628],[135822319,135822319],[135846209,135846209],[135959550,135959550],[136147148,136147148],[136187567,136187567],[136191148,136191148],[136227526,136227526],[136248973,136248973],[136328222,136328222],[136337566,136337566],[136443550,136443550],[135771974,135771974],[135859371,135859371],[135877562,135877562],[136022798,136022798],[136058820,136058820],[136140304,136140304],[135915358,135915358],[135954405,135954405],[135995073,135995073],[135995079,135995079],[136398174,136398174],[136402117,136402117],[136403749,136403749],[136409073,136409073],[136410299,136410299],[136413359,136413359],[136416855,136416855],[136416941,136416941],[136418348,136418348],[136419961,136419961],[136420690,136420690],[136422171,136422171],[136428460,136428460],[136430866,136430866],[136432103,136432103],[136437507,136437507],[136439090,136439090],[136439517,136439517],[136444123,136444123],[136445526,136445526],[136445869,136445869],[136455600,136455600],[136456642,136456642],[136462441,136462441],[136470714,136470714],[136474098,136474098],[136500475,136500475],[136501509,136501509],[136504101,136504101],[136509868,136509868],[136520043,136520043],[136527120,136527120],[136530379,136530379],[136530443,136530443],[136539330,136539330],[136539670,136539670],[136540083,136540083],[136542559,136542559],[136542560,136542560],[136506375,136506375],[136506927,136506927],[136510012,136510012],[136538939,136538939],[136535876,136535876],[136544651,136544651],[136545844,136545844],[136552526,136552526],[136553022,136553022],[136554797,136554797],[136554890,136554890],[136588031,136588031],[136589278,136589278],[136589379,136589379],[136589741,136589741],[136590746,136590746],[136593553,136593553],[136593678,136593678],[136656176,136656176],[136661161,136661161],[136663055,136663055],[136670876,136670876],[136672955,136672955],[136674091,136674091],[136694315,136694315],[136698632,136698632],[136700159,136700159],[136701784,136701784],[136702783,136702783],[136710655,136710655],[136711921,136711921],[136731273,136731273],[136731612,136731612],[136735491,136735491],[136754561,136754561],[136756554,136756554],[136759664,136759664],[136762495,136762495],[136767751,136767751],[136768885,136768885],[136771868,136771868],[136775735,136775735],[136666483,136666483],[136686007,136686007],[136688682,136688682],[136699991,136699991],[136706268,136706268],[136716273,136716273],[136721335,136721335],[136726376,136726376],[136763379,136763379],[136769390,136769390],[136771447,136771447],[136775172,136775172],[136775801,136775801],[136778253,136778253]],\"ys\":[[50,62],[50,62],[50,62],[50,62],[50,62],[50,62],[50,62],[50,62],[50,62],[50,62],[50,62],[50,62],[350,395],[350,395],[350,395],[350,395],[350,395],[350,395],[450,496],[450,496],[450,496],[450,496],[350,394],[350,394],[350,394],[350,394],[350,394],[350,394],[350,394],[350,394],[350,394],[350,394],[350,394],[350,394],[350,394],[350,394],[350,394],[350,394],[350,394],[350,394],[350,394],[350,394],[350,394],[350,394],[350,394],[350,394],[350,394],[350,394],[150,193],[150,193],[150,193],[150,193],[150,193],[150,193],[150,193],[150,193],[150,193],[150,193],[150,193],[150,193],[150,193],[350,394],[350,394],[350,394],[350,394],[250,294],[250,294],[250,294],[250,294],[250,294],[250,294],[250,294],[450,496],[450,496],[450,496],[450,496],[450,496],[450,496],[450,496],[150,174],[150,174],[150,174],[150,174],[150,174],[150,174],[150,174],[150,174],[150,174],[150,174],[150,174],[150,174],[150,174],[150,174],[150,174],[150,174],[150,174],[150,174],[150,174],[150,174],[150,174],[150,174],[150,174],[150,174],[50,66],[50,66],[50,66],[50,66],[50,66],[50,66],[50,66],[50,66],[50,66],[50,66],[50,66],[50,66],[50,66],[50,66]]}},\"id\":\"0cbeca32-ef5e-4a74-82be-0556872db05b\",\"type\":\"ColumnDataSource\"},{\"attributes\":{},\"id\":\"07bc9907-5d1f-450c-9c92-39672982bb9f\",\"type\":\"BasicTicker\"},{\"attributes\":{\"data_source\":{\"id\":\"ab7eb12f-977e-4439-bf27-3a1aeaacfe66\",\"type\":\"ColumnDataSource\"},\"glyph\":{\"id\":\"81c94f92-f355-457a-b3d0-dbdd6f4acdf3\",\"type\":\"Quad\"},\"hover_glyph\":null,\"nonselection_glyph\":{\"id\":\"d63be80e-dd38-44c1-97cb-d0a4f84d13b3\",\"type\":\"Quad\"},\"selection_glyph\":null},\"id\":\"27bca7d9-bae2-4789-bbaa-349fe7ec21ea\",\"type\":\"GlyphRenderer\"},{\"attributes\":{\"plot\":null,\"text\":null},\"id\":\"a51372c2-6ddd-402c-aab5-e02d5cfddb38\",\"type\":\"Title\"},{\"attributes\":{\"plot\":{\"id\":\"ff612865-2c21-4aeb-98a4-ca5fd310c3d2\",\"subtype\":\"Figure\",\"type\":\"Plot\"}},\"id\":\"3cb48ff3-a4eb-4e42-b3ee-23f0cd1b15e4\",\"type\":\"SaveTool\"},{\"attributes\":{\"level\":\"glyph\",\"plot\":{\"id\":\"ff612865-2c21-4aeb-98a4-ca5fd310c3d2\",\"subtype\":\"Figure\",\"type\":\"Plot\"},\"source\":{\"id\":\"596e9e6b-60e9-45a9-aabe-698376e1e1b2\",\"type\":\"ColumnDataSource\"},\"text\":{\"field\":\"vals\"},\"text_font_size\":{\"value\":\"9pt\"},\"text_font_style\":\"bold\",\"x\":{\"field\":\"x\"},\"y\":{\"field\":\"y\"}},\"id\":\"ce1b13c2-7a0d-43ac-8cfc-e62dfb36a17d\",\"type\":\"LabelSet\"},{\"attributes\":{\"callback\":null,\"column_names\":[\"right\",\"bottom\",\"top\",\"left\",\"fill_color\"],\"data\":{\"bottom\":[50,350,450,350,150,350,250,450,150,50],\"fill_color\":[\"#ff0000\",\"#61c461\",\"#61c461\",\"#61c461\",\"#808080\",\"#808080\",\"#808080\",\"#c46161\",\"#ff0000\",\"#ff0000\"],\"left\":[135759628,135771974,135915358,136398174,136500475,136506375,136535876,136588031,136656176,136666483],\"right\":[136443550,136140304,135995079,136474098,136542560,136538939,136554890,136593678,136775735,136778253],\"top\":[62,395,496,394,193,394,294,496,174,66]}},\"id\":\"9703bafe-a75b-4795-bd78-8e6407bf22d1\",\"type\":\"ColumnDataSource\"},{\"attributes\":{\"bottom_units\":\"screen\",\"fill_alpha\":{\"value\":0.5},\"fill_color\":{\"value\":\"lightgrey\"},\"left_units\":\"screen\",\"level\":\"overlay\",\"line_alpha\":{\"value\":1.0},\"line_color\":{\"value\":\"black\"},\"line_dash\":[4,4],\"line_width\":{\"value\":2},\"plot\":null,\"render_mode\":\"css\",\"right_units\":\"screen\",\"top_units\":\"screen\"},\"id\":\"bbf8595a-21cf-4d71-b66d-a7d0131f37d2\",\"type\":\"BoxAnnotation\"},{\"attributes\":{\"data_source\":{\"id\":\"0cbeca32-ef5e-4a74-82be-0556872db05b\",\"type\":\"ColumnDataSource\"},\"glyph\":{\"id\":\"dbef3351-95d1-4308-aa80-3f8cf30ee1e9\",\"type\":\"MultiLine\"},\"hover_glyph\":null,\"nonselection_glyph\":{\"id\":\"519923d2-234d-426f-85b2-9222b2778d34\",\"type\":\"MultiLine\"},\"selection_glyph\":null},\"id\":\"49ae602b-f77f-46f1-801a-fcc08535adb2\",\"type\":\"GlyphRenderer\"},{\"attributes\":{\"overlay\":{\"id\":\"bbf8595a-21cf-4d71-b66d-a7d0131f37d2\",\"type\":\"BoxAnnotation\"},\"plot\":{\"id\":\"ff612865-2c21-4aeb-98a4-ca5fd310c3d2\",\"subtype\":\"Figure\",\"type\":\"Plot\"}},\"id\":\"58e0eb05-c8bd-43f2-be73-e5c6f0737e93\",\"type\":\"BoxZoomTool\"},{\"attributes\":{\"bottom\":{\"field\":\"bottom\"},\"fill_color\":{\"field\":\"fill_color\"},\"left\":{\"field\":\"left\"},\"line_color\":{\"value\":null},\"right\":{\"field\":\"right\"},\"top\":{\"field\":\"top\"}},\"id\":\"67056dd3-78dd-4c4a-9f8b-b356e32bd77b\",\"type\":\"Quad\"},{\"attributes\":{\"below\":[{\"id\":\"ce55a3fb-e360-42ab-bc32-a66eebfade8a\",\"type\":\"LinearAxis\"}],\"left\":[{\"id\":\"1b38db17-544d-4f64-9e5e-4c3530e3de40\",\"type\":\"LinearAxis\"}],\"plot_width\":900,\"renderers\":[{\"id\":\"ce55a3fb-e360-42ab-bc32-a66eebfade8a\",\"type\":\"LinearAxis\"},{\"id\":\"e6899024-2c54-4b00-8cf3-ec162801c0b1\",\"type\":\"Grid\"},{\"id\":\"1b38db17-544d-4f64-9e5e-4c3530e3de40\",\"type\":\"LinearAxis\"},{\"id\":\"e343f4c6-fe8f-4cea-a748-985e25d75c05\",\"type\":\"Grid\"},{\"id\":\"bbf8595a-21cf-4d71-b66d-a7d0131f37d2\",\"type\":\"BoxAnnotation\"},{\"id\":\"03f09827-083a-4ac2-8d58-d85de88b2731\",\"type\":\"GlyphRenderer\"},{\"id\":\"49ae602b-f77f-46f1-801a-fcc08535adb2\",\"type\":\"GlyphRenderer\"},{\"id\":\"ce1b13c2-7a0d-43ac-8cfc-e62dfb36a17d\",\"type\":\"LabelSet\"},{\"id\":\"27bca7d9-bae2-4789-bbaa-349fe7ec21ea\",\"type\":\"GlyphRenderer\"},{\"id\":\"099a596e-80eb-4ba1-a99d-c8a702584c87\",\"type\":\"LabelSet\"}],\"title\":{\"id\":\"a51372c2-6ddd-402c-aab5-e02d5cfddb38\",\"type\":\"Title\"},\"tool_events\":{\"id\":\"7a13fce7-1f8f-414d-a282-38881b8af455\",\"type\":\"ToolEvents\"},\"toolbar\":{\"id\":\"863009a8-b4ae-4ae3-aed9-6d4c12708859\",\"type\":\"Toolbar\"},\"toolbar_location\":null,\"x_range\":{\"id\":\"9d16719d-7d61-4afd-a721-c778246fdd43\",\"type\":\"Range1d\"},\"y_range\":{\"id\":\"4ebf4246-bbeb-4e9f-b30e-9a1f07f45315\",\"type\":\"Range1d\"}},\"id\":\"ff612865-2c21-4aeb-98a4-ca5fd310c3d2\",\"subtype\":\"Figure\",\"type\":\"Plot\"},{\"attributes\":{\"plot\":{\"id\":\"ff612865-2c21-4aeb-98a4-ca5fd310c3d2\",\"subtype\":\"Figure\",\"type\":\"Plot\"}},\"id\":\"82012e38-02e0-44a9-bed4-c1308342de22\",\"type\":\"WheelZoomTool\"},{\"attributes\":{\"callback\":null,\"column_names\":[\"y\",\"x\",\"vals\"],\"data\":{\"vals\":[\"RAB3GAP1\",\"ZRANB3\",\"R3HDM1\",\"UBXN4\",\"LCT\",\"MCM6\",\"DARS\"],\"x\":[135869057.0,136122878.0,136385961.0,136520911.0,136570082.5,136615621.5,136703738.0],\"y\":[560.0,560.0,560.0,560.0,560.0,560.0,560.0]}},\"id\":\"50496938-6c99-4b1e-adbf-d2c4b676080d\",\"type\":\"ColumnDataSource\"},{\"attributes\":{},\"id\":\"83423122-54e3-4234-aa82-447895fe97ae\",\"type\":\"BasicTickFormatter\"},{\"attributes\":{\"callback\":null,\"end\":600},\"id\":\"4ebf4246-bbeb-4e9f-b30e-9a1f07f45315\",\"type\":\"Range1d\"},{\"attributes\":{},\"id\":\"26f7148f-32fa-47f4-b06e-5b572e60ef32\",\"type\":\"BasicTicker\"},{\"attributes\":{\"line_alpha\":{\"value\":0.1},\"line_color\":{\"value\":\"#1f77b4\"},\"xs\":{\"field\":\"xs\"},\"ys\":{\"field\":\"ys\"}},\"id\":\"519923d2-234d-426f-85b2-9222b2778d34\",\"type\":\"MultiLine\"},{\"attributes\":{},\"id\":\"5ae9ecdd-3593-4665-b254-6204f6eaec98\",\"type\":\"BasicTickFormatter\"},{\"attributes\":{\"level\":\"glyph\",\"plot\":{\"id\":\"ff612865-2c21-4aeb-98a4-ca5fd310c3d2\",\"subtype\":\"Figure\",\"type\":\"Plot\"},\"source\":{\"id\":\"50496938-6c99-4b1e-adbf-d2c4b676080d\",\"type\":\"ColumnDataSource\"},\"text\":{\"field\":\"vals\"},\"text_align\":\"center\",\"text_baseline\":\"middle\",\"text_font_size\":{\"value\":\"8pt\"},\"x\":{\"field\":\"x\"},\"y\":{\"field\":\"y\"}},\"id\":\"099a596e-80eb-4ba1-a99d-c8a702584c87\",\"type\":\"LabelSet\"},{\"attributes\":{\"formatter\":{\"id\":\"83423122-54e3-4234-aa82-447895fe97ae\",\"type\":\"BasicTickFormatter\"},\"plot\":{\"id\":\"ff612865-2c21-4aeb-98a4-ca5fd310c3d2\",\"subtype\":\"Figure\",\"type\":\"Plot\"},\"ticker\":{\"id\":\"26f7148f-32fa-47f4-b06e-5b572e60ef32\",\"type\":\"BasicTicker\"},\"visible\":null},\"id\":\"1b38db17-544d-4f64-9e5e-4c3530e3de40\",\"type\":\"LinearAxis\"}],\"root_ids\":[\"ff612865-2c21-4aeb-98a4-ca5fd310c3d2\"]},\"title\":\"Bokeh Application\",\"version\":\"0.12.0\"}};\n",
       "            var render_items = [{\"docid\":\"72102346-9f2d-49dd-94cd-4e44fb384655\",\"elementid\":\"4ac3997a-1c87-49fa-9898-7a7dd680a832\",\"modelid\":\"ff612865-2c21-4aeb-98a4-ca5fd310c3d2\",\"notebook_comms_target\":\"73804205-04dc-4da7-8cc9-ba1c0770115f\"}];\n",
       "            \n",
       "            Bokeh.embed.embed_items(docs_json, render_items);\n",
       "        });\n",
       "      },\n",
       "      function(Bokeh) {\n",
       "      }\n",
       "    ];\n",
       "  \n",
       "    function run_inline_js() {\n",
       "      for (var i = 0; i < inline_js.length; i++) {\n",
       "        inline_js[i](window.Bokeh);\n",
       "      }\n",
       "    }\n",
       "  \n",
       "    if (window._bokeh_is_loading === 0) {\n",
       "      console.log(\"Bokeh: BokehJS loaded, going straight to plotting\");\n",
       "      run_inline_js();\n",
       "    } else {\n",
       "      load_libs(js_urls, function() {\n",
       "        console.log(\"Bokeh: BokehJS plotting callback run at\", now());\n",
       "        run_inline_js();\n",
       "      });\n",
       "    }\n",
       "  }(this));\n",
       "</script>"
      ]
     },
     "metadata": {},
     "output_type": "display_data"
    },
    {
     "data": {
      "text/html": [
       "<p><code>&lt;Bokeh Notebook handle for <strong>In[36]</strong>&gt;</code></p>"
      ],
      "text/plain": [
       "<bokeh.io._CommsHandle at 0x7ff6b4679810>"
      ]
     },
     "execution_count": 36,
     "metadata": {},
     "output_type": "execute_result"
    }
   ],
   "source": [
    "plt_obj = dm.superset_yes_no([dm.di_6_1503, dm.di_26_1414, dm.di_4_1442, dm.di_7_1760], \n",
    "                             [dm.di_24_1504, dm.di_10_2206,\n",
    "                              dm.di_4_911, dm.di_11_765, di_6_57, di_6_35, di_7_22, di_7_20],\n",
    "                             min_match=0.001)\n",
    "plt = plt_obj.do_plot()\n",
    "show(plt)"
   ]
  },
  {
   "cell_type": "code",
   "execution_count": 37,
   "metadata": {
    "collapsed": false,
    "deletable": true,
    "editable": true
   },
   "outputs": [
    {
     "data": {
      "text/html": [
       "<table>\n",
       "<thead><tr><th style=\"text-align:center\">index</th><th style=\"text-align:center\">first</th><th style=\"text-align:center\">length</th><th style=\"text-align:center\">snps</th><th style=\"text-align:center\" colspan=2>alleles</th><th style=\"text-align:center\" colspan=2>matches</th><th style=\"text-align:center\" colspan=2>afr</th><th style=\"text-align:center\" colspan=2>afx</th><th style=\"text-align:center\" colspan=2>amr</th><th style=\"text-align:center\" colspan=2>eas</th><th style=\"text-align:center\" colspan=2>eur</th><th style=\"text-align:center\" colspan=2>sas</th><th style=\"text-align:center\" colspan=2>sax</th></tr></thead>\n",
       "<tr class=\"even\"><td style=\"text-align: right;\">354033</td><td style=\"text-align: right;\">136,588,031</td><td style=\"text-align: right;\">5,647</td><td style=\"text-align: right;\">7</td><td style=\"text-align: right;\">1760</td><td style=\"text-align: right;\">0.00</td><td style=\"text-align: right;\">1</td><td style=\"text-align: right;\">1.00</td><td style=\"text-align: right;\">0</td><td style=\"text-align: right;\">0.00</td><td style=\"text-align: right;\">0</td><td style=\"text-align: right;\">0.00</td><td style=\"text-align: right;\">1</td><td style=\"text-align: right;\">7.09</td><td style=\"text-align: right;\">0</td><td style=\"text-align: right;\">0.00</td><td style=\"text-align: right;\">0</td><td style=\"text-align: right;\">0.00</td><td style=\"text-align: right;\">0</td><td style=\"text-align: right;\">0.00</td><td style=\"text-align: right;\">0</td><td style=\"text-align: right;\">0.00</td></tr>\n",
       "<tr><td style=\"text-align: right;\">353462</td><td style=\"text-align: right;\">135,915,358</td><td style=\"text-align: right;\">79,721</td><td style=\"text-align: right;\">4</td><td style=\"text-align: right;\">1699</td><td style=\"text-align: right;\">0.00</td><td style=\"text-align: right;\">1</td><td style=\"text-align: right;\">1.00</td><td style=\"text-align: right;\">0</td><td style=\"text-align: right;\">0.00</td><td style=\"text-align: right;\">0</td><td style=\"text-align: right;\">0.00</td><td style=\"text-align: right;\">1</td><td style=\"text-align: right;\">7.09</td><td style=\"text-align: right;\">0</td><td style=\"text-align: right;\">0.00</td><td style=\"text-align: right;\">0</td><td style=\"text-align: right;\">0.00</td><td style=\"text-align: right;\">0</td><td style=\"text-align: right;\">0.00</td><td style=\"text-align: right;\">0</td><td style=\"text-align: right;\">0.00</td></tr>\n",
       "<tr class=\"even\"><td style=\"text-align: right;\">353283</td><td style=\"text-align: right;\">135,771,974</td><td style=\"text-align: right;\">368,330</td><td style=\"text-align: right;\">6</td><td style=\"text-align: right;\">1503</td><td style=\"text-align: right;\">0.00</td><td style=\"text-align: right;\">1</td><td style=\"text-align: right;\">1.00</td><td style=\"text-align: right;\">0</td><td style=\"text-align: right;\">0.00</td><td style=\"text-align: right;\">0</td><td style=\"text-align: right;\">0.00</td><td style=\"text-align: right;\">1</td><td style=\"text-align: right;\">7.09</td><td style=\"text-align: right;\">0</td><td style=\"text-align: right;\">0.00</td><td style=\"text-align: right;\">0</td><td style=\"text-align: right;\">0.00</td><td style=\"text-align: right;\">0</td><td style=\"text-align: right;\">0.00</td><td style=\"text-align: right;\">0</td><td style=\"text-align: right;\">0.00</td></tr>\n",
       "<tr><td style=\"text-align: right;\">353925</td><td style=\"text-align: right;\">136,506,375</td><td style=\"text-align: right;\">32,564</td><td style=\"text-align: right;\">4</td><td style=\"text-align: right;\">1442</td><td style=\"text-align: right;\">0.00</td><td style=\"text-align: right;\">1</td><td style=\"text-align: right;\">1.00</td><td style=\"text-align: right;\">0</td><td style=\"text-align: right;\">0.00</td><td style=\"text-align: right;\">0</td><td style=\"text-align: right;\">0.00</td><td style=\"text-align: right;\">1</td><td style=\"text-align: right;\">7.09</td><td style=\"text-align: right;\">0</td><td style=\"text-align: right;\">0.00</td><td style=\"text-align: right;\">0</td><td style=\"text-align: right;\">0.00</td><td style=\"text-align: right;\">0</td><td style=\"text-align: right;\">0.00</td><td style=\"text-align: right;\">0</td><td style=\"text-align: right;\">0.00</td></tr>\n",
       "<tr class=\"even\"><td style=\"text-align: right;\">353797</td><td style=\"text-align: right;\">136,398,174</td><td style=\"text-align: right;\">75,924</td><td style=\"text-align: right;\">26</td><td style=\"text-align: right;\">1414</td><td style=\"text-align: right;\">0.00</td><td style=\"text-align: right;\">1</td><td style=\"text-align: right;\">1.00</td><td style=\"text-align: right;\">0</td><td style=\"text-align: right;\">0.00</td><td style=\"text-align: right;\">0</td><td style=\"text-align: right;\">0.00</td><td style=\"text-align: right;\">1</td><td style=\"text-align: right;\">7.09</td><td style=\"text-align: right;\">0</td><td style=\"text-align: right;\">0.00</td><td style=\"text-align: right;\">0</td><td style=\"text-align: right;\">0.00</td><td style=\"text-align: right;\">0</td><td style=\"text-align: right;\">0.00</td><td style=\"text-align: right;\">0</td><td style=\"text-align: right;\">0.00</td></tr>\n",
       "<tr><td style=\"text-align: right;\">353958</td><td style=\"text-align: right;\">136,535,876</td><td style=\"text-align: right;\">19,014</td><td style=\"text-align: right;\">7</td><td style=\"text-align: right;\">1303</td><td style=\"text-align: right;\">0.00</td><td style=\"text-align: right;\">1</td><td style=\"text-align: right;\">1.00</td><td style=\"text-align: right;\">0</td><td style=\"text-align: right;\">0.00</td><td style=\"text-align: right;\">0</td><td style=\"text-align: right;\">0.00</td><td style=\"text-align: right;\">1</td><td style=\"text-align: right;\">7.09</td><td style=\"text-align: right;\">0</td><td style=\"text-align: right;\">0.00</td><td style=\"text-align: right;\">0</td><td style=\"text-align: right;\">0.00</td><td style=\"text-align: right;\">0</td><td style=\"text-align: right;\">0.00</td><td style=\"text-align: right;\">0</td><td style=\"text-align: right;\">0.00</td></tr>\n",
       "<tr class=\"even\"><td style=\"text-align: right;\">353919</td><td style=\"text-align: right;\">136,500,475</td><td style=\"text-align: right;\">42,085</td><td style=\"text-align: right;\">13</td><td style=\"text-align: right;\">1227</td><td style=\"text-align: right;\">0.00</td><td style=\"text-align: right;\">1</td><td style=\"text-align: right;\">1.00</td><td style=\"text-align: right;\">0</td><td style=\"text-align: right;\">0.00</td><td style=\"text-align: right;\">0</td><td style=\"text-align: right;\">0.00</td><td style=\"text-align: right;\">1</td><td style=\"text-align: right;\">7.09</td><td style=\"text-align: right;\">0</td><td style=\"text-align: right;\">0.00</td><td style=\"text-align: right;\">0</td><td style=\"text-align: right;\">0.00</td><td style=\"text-align: right;\">0</td><td style=\"text-align: right;\">0.00</td><td style=\"text-align: right;\">0</td><td style=\"text-align: right;\">0.00</td></tr>\n",
       "<tr><td style=\"text-align: right;\">354136</td><td style=\"text-align: right;\">136,656,176</td><td style=\"text-align: right;\">119,559</td><td style=\"text-align: right;\">24</td><td style=\"text-align: right;\">128</td><td style=\"text-align: right;\">0.01</td><td style=\"text-align: right;\">1</td><td style=\"text-align: right;\">1.00</td><td style=\"text-align: right;\">0</td><td style=\"text-align: right;\">0.00</td><td style=\"text-align: right;\">0</td><td style=\"text-align: right;\">0.00</td><td style=\"text-align: right;\">1</td><td style=\"text-align: right;\">7.09</td><td style=\"text-align: right;\">0</td><td style=\"text-align: right;\">0.00</td><td style=\"text-align: right;\">0</td><td style=\"text-align: right;\">0.00</td><td style=\"text-align: right;\">0</td><td style=\"text-align: right;\">0.00</td><td style=\"text-align: right;\">0</td><td style=\"text-align: right;\">0.00</td></tr>\n",
       "<tr class=\"even\"><td style=\"text-align: right;\">354157</td><td style=\"text-align: right;\">136,666,483</td><td style=\"text-align: right;\">111,770</td><td style=\"text-align: right;\">14</td><td style=\"text-align: right;\">54</td><td style=\"text-align: right;\">0.02</td><td style=\"text-align: right;\">1</td><td style=\"text-align: right;\">1.00</td><td style=\"text-align: right;\">0</td><td style=\"text-align: right;\">0.00</td><td style=\"text-align: right;\">0</td><td style=\"text-align: right;\">0.00</td><td style=\"text-align: right;\">1</td><td style=\"text-align: right;\">7.09</td><td style=\"text-align: right;\">0</td><td style=\"text-align: right;\">0.00</td><td style=\"text-align: right;\">0</td><td style=\"text-align: right;\">0.00</td><td style=\"text-align: right;\">0</td><td style=\"text-align: right;\">0.00</td><td style=\"text-align: right;\">0</td><td style=\"text-align: right;\">0.00</td></tr>\n",
       "<tr><td style=\"text-align: right;\">353252</td><td style=\"text-align: right;\">135,759,628</td><td style=\"text-align: right;\">683,922</td><td style=\"text-align: right;\">12</td><td style=\"text-align: right;\">32</td><td style=\"text-align: right;\">0.03</td><td style=\"text-align: right;\">1</td><td style=\"text-align: right;\">1.00</td><td style=\"text-align: right;\">0</td><td style=\"text-align: right;\">0.00</td><td style=\"text-align: right;\">0</td><td style=\"text-align: right;\">0.00</td><td style=\"text-align: right;\">1</td><td style=\"text-align: right;\">7.09</td><td style=\"text-align: right;\">0</td><td style=\"text-align: right;\">0.00</td><td style=\"text-align: right;\">0</td><td style=\"text-align: right;\">0.00</td><td style=\"text-align: right;\">0</td><td style=\"text-align: right;\">0.00</td><td style=\"text-align: right;\">0</td><td style=\"text-align: right;\">0.00</td></tr>\n",
       "</table>"
      ],
      "text/plain": [
       "<IPython.core.display.HTML object>"
      ]
     },
     "execution_count": 37,
     "metadata": {},
     "output_type": "execute_result"
    }
   ],
   "source": [
    "HTML(plt_obj.get_html())"
   ]
  },
  {
   "cell_type": "code",
   "execution_count": 38,
   "metadata": {
    "collapsed": false,
    "deletable": true,
    "editable": true
   },
   "outputs": [
    {
     "data": {
      "text/html": [
       "\n",
       "\n",
       "    <div class=\"bk-root\">\n",
       "        <div class=\"plotdiv\" id=\"2d0b098d-0cd8-424a-8720-ff0d19fdc2ea\"></div>\n",
       "    </div>\n",
       "<script type=\"text/javascript\">\n",
       "  \n",
       "  (function(global) {\n",
       "    function now() {\n",
       "      return new Date();\n",
       "    }\n",
       "  \n",
       "    if (typeof (window._bokeh_onload_callbacks) === \"undefined\") {\n",
       "      window._bokeh_onload_callbacks = [];\n",
       "    }\n",
       "  \n",
       "    function run_callbacks() {\n",
       "      window._bokeh_onload_callbacks.forEach(function(callback) { callback() });\n",
       "      delete window._bokeh_onload_callbacks\n",
       "      console.info(\"Bokeh: all callbacks have finished\");\n",
       "    }\n",
       "  \n",
       "    function load_libs(js_urls, callback) {\n",
       "      window._bokeh_onload_callbacks.push(callback);\n",
       "      if (window._bokeh_is_loading > 0) {\n",
       "        console.log(\"Bokeh: BokehJS is being loaded, scheduling callback at\", now());\n",
       "        return null;\n",
       "      }\n",
       "      if (js_urls == null || js_urls.length === 0) {\n",
       "        run_callbacks();\n",
       "        return null;\n",
       "      }\n",
       "      console.log(\"Bokeh: BokehJS not loaded, scheduling load and callback at\", now());\n",
       "      window._bokeh_is_loading = js_urls.length;\n",
       "      for (var i = 0; i < js_urls.length; i++) {\n",
       "        var url = js_urls[i];\n",
       "        var s = document.createElement('script');\n",
       "        s.src = url;\n",
       "        s.async = false;\n",
       "        s.onreadystatechange = s.onload = function() {\n",
       "          window._bokeh_is_loading--;\n",
       "          if (window._bokeh_is_loading === 0) {\n",
       "            console.log(\"Bokeh: all BokehJS libraries loaded\");\n",
       "            run_callbacks()\n",
       "          }\n",
       "        };\n",
       "        s.onerror = function() {\n",
       "          console.warn(\"failed to load library \" + url);\n",
       "        };\n",
       "        console.log(\"Bokeh: injecting script tag for BokehJS library: \", url);\n",
       "        document.getElementsByTagName(\"head\")[0].appendChild(s);\n",
       "      }\n",
       "    };var element = document.getElementById(\"2d0b098d-0cd8-424a-8720-ff0d19fdc2ea\");\n",
       "    if (element == null) {\n",
       "      console.log(\"Bokeh: ERROR: autoload.js configured with elementid '2d0b098d-0cd8-424a-8720-ff0d19fdc2ea' but no matching script tag was found. \")\n",
       "      return false;\n",
       "    }\n",
       "  \n",
       "    var js_urls = [];\n",
       "  \n",
       "    var inline_js = [\n",
       "      function(Bokeh) {\n",
       "        Bokeh.$(function() {\n",
       "            var docs_json = {\"83ddb529-1761-4b1f-b8a7-01b26cdd5383\":{\"roots\":{\"references\":[{\"attributes\":{\"plot\":{\"id\":\"98ef7d02-aa71-4128-8f4c-552c54587833\",\"subtype\":\"Figure\",\"type\":\"Plot\"},\"ticker\":{\"id\":\"b6dceffc-72e0-4531-9b54-4f7ce8dd9e50\",\"type\":\"BasicTicker\"}},\"id\":\"7da68c19-b18e-4432-88d9-f7de8e38c5a6\",\"type\":\"Grid\"},{\"attributes\":{},\"id\":\"d30903ba-806f-40df-8188-e38791c644dd\",\"type\":\"BasicTicker\"},{\"attributes\":{\"plot\":{\"id\":\"98ef7d02-aa71-4128-8f4c-552c54587833\",\"subtype\":\"Figure\",\"type\":\"Plot\"}},\"id\":\"b20a736f-03be-47cd-932e-328e16aba76f\",\"type\":\"WheelZoomTool\"},{\"attributes\":{\"callback\":null,\"column_names\":[\"right\",\"bottom\",\"top\",\"left\"],\"data\":{\"bottom\":[345,345,345,345,345,345,345],\"left\":[135809835,135957574,136289083,136499189,136545415,136597196,136664254],\"right\":[135928279,136288182,136482839,136542633,136594750,136634047,136743222],\"top\":[375,375,375,375,375,375,375]}},\"id\":\"13f164fe-7ba4-4bdb-bd95-2deddb2c46ac\",\"type\":\"ColumnDataSource\"},{\"attributes\":{\"plot\":{\"id\":\"98ef7d02-aa71-4128-8f4c-552c54587833\",\"subtype\":\"Figure\",\"type\":\"Plot\"}},\"id\":\"521e3351-0b47-45c1-b8c4-7318887e84dd\",\"type\":\"SaveTool\"},{\"attributes\":{\"callback\":null,\"column_names\":[\"xs\",\"ys\",\"line_color\"],\"data\":{\"line_color\":[\"black\",\"black\",\"black\",\"black\",\"black\",\"black\",\"black\",\"black\",\"black\",\"black\",\"black\",\"black\",\"black\",\"black\",\"black\",\"black\",\"black\",\"black\",\"black\",\"black\",\"black\",\"black\",\"black\",\"black\",\"black\",\"black\",\"black\",\"black\",\"black\",\"black\",\"black\",\"black\",\"black\",\"black\",\"black\",\"black\",\"black\",\"black\",\"black\",\"black\",\"black\",\"black\",\"black\",\"black\",\"black\",\"black\",\"black\",\"black\",\"black\",\"black\",\"black\",\"black\",\"black\",\"black\",\"black\",\"black\",\"black\",\"black\",\"black\",\"black\",\"black\",\"black\",\"black\",\"black\",\"black\",\"black\",\"black\",\"black\",\"black\",\"black\",\"black\",\"black\",\"black\",\"black\",\"black\",\"black\",\"black\",\"black\"],\"xs\":[[135771974,135771974],[135859371,135859371],[135877562,135877562],[136022798,136022798],[136058820,136058820],[136140304,136140304],[135915358,135915358],[135954405,135954405],[135995073,135995073],[135995079,135995079],[136398174,136398174],[136402117,136402117],[136403749,136403749],[136409073,136409073],[136410299,136410299],[136413359,136413359],[136416855,136416855],[136416941,136416941],[136418348,136418348],[136419961,136419961],[136420690,136420690],[136422171,136422171],[136428460,136428460],[136430866,136430866],[136432103,136432103],[136437507,136437507],[136439090,136439090],[136439517,136439517],[136444123,136444123],[136445526,136445526],[136445869,136445869],[136455600,136455600],[136456642,136456642],[136462441,136462441],[136470714,136470714],[136474098,136474098],[136588031,136588031],[136589278,136589278],[136589379,136589379],[136589741,136589741],[136590746,136590746],[136593553,136593553],[136593678,136593678],[136652491,136652491],[136652524,136652524],[136661150,136661150],[136669264,136669264],[136726567,136726567],[136732772,136732772],[136652953,136652953],[136655582,136655582],[136674028,136674028],[136684940,136684940],[136761175,136761175],[136653925,136653925],[136654833,136654833],[136656534,136656534],[136656536,136656536],[136657252,136657252],[136667301,136667301],[136667487,136667487],[136672775,136672775],[136680534,136680534],[136686393,136686393],[136688749,136688749],[136692553,136692553],[136697371,136697371],[136708787,136708787],[136710372,136710372],[136711064,136711064],[136715324,136715324],[136723504,136723504],[136737460,136737460],[136743143,136743143],[136746224,136746224],[136751842,136751842],[136759379,136759379],[136761853,136761853]],\"ys\":[[150,195],[150,195],[150,195],[150,195],[150,195],[150,195],[250,296],[250,296],[250,296],[250,296],[150,194],[150,194],[150,194],[150,194],[150,194],[150,194],[150,194],[150,194],[150,194],[150,194],[150,194],[150,194],[150,194],[150,194],[150,194],[150,194],[150,194],[150,194],[150,194],[150,194],[150,194],[150,194],[150,194],[150,194],[150,194],[150,194],[250,296],[250,296],[250,296],[250,296],[250,296],[250,296],[250,296],[50,92],[50,92],[50,92],[50,92],[50,92],[50,92],[150,194],[150,194],[150,194],[150,194],[150,194],[250,295],[250,295],[250,295],[250,295],[250,295],[250,295],[250,295],[250,295],[250,295],[250,295],[250,295],[250,295],[250,295],[250,295],[250,295],[250,295],[250,295],[250,295],[250,295],[250,295],[250,295],[250,295],[250,295],[250,295]]}},\"id\":\"a71b1379-0281-402d-b564-d6e152c232a8\",\"type\":\"ColumnDataSource\"},{\"attributes\":{\"callback\":null,\"column_names\":[\"right\",\"bottom\",\"top\",\"left\",\"fill_color\"],\"data\":{\"bottom\":[150,250,150,250,50,150,250],\"fill_color\":[\"#61c461\",\"#61c461\",\"#61c461\",\"#c46161\",\"#808080\",\"#808080\",\"#808080\"],\"left\":[135771974,135915358,136398174,136588031,136652491,136652953,136653925],\"right\":[136140304,135995079,136474098,136593678,136732772,136761175,136761853],\"top\":[195,296,194,296,92,194,295]}},\"id\":\"c3e81e22-ce1b-41e2-8df4-e1d0f2bae6ca\",\"type\":\"ColumnDataSource\"},{\"attributes\":{\"active_drag\":\"auto\",\"active_scroll\":\"auto\",\"active_tap\":\"auto\",\"tools\":[{\"id\":\"16ccb90f-f0fb-4cce-9cf7-ac5e9cae5d65\",\"type\":\"PanTool\"},{\"id\":\"b20a736f-03be-47cd-932e-328e16aba76f\",\"type\":\"WheelZoomTool\"},{\"id\":\"bac94a48-ad32-4e3d-81e8-739795369a00\",\"type\":\"BoxZoomTool\"},{\"id\":\"521e3351-0b47-45c1-b8c4-7318887e84dd\",\"type\":\"SaveTool\"},{\"id\":\"53e4b3bb-354f-44ee-b169-ca356ab187d5\",\"type\":\"ResetTool\"},{\"id\":\"9dd7751c-f4db-44fc-a377-1e6118d4c45a\",\"type\":\"HelpTool\"}]},\"id\":\"7b3f7542-1709-463a-b08a-78c8d30119fc\",\"type\":\"Toolbar\"},{\"attributes\":{\"below\":[{\"id\":\"a6ed60b4-d1ec-44dc-b468-765c56be4c57\",\"type\":\"LinearAxis\"}],\"left\":[{\"id\":\"cf669860-eb84-469d-8428-3d57f7745c4a\",\"type\":\"LinearAxis\"}],\"plot_height\":400,\"plot_width\":900,\"renderers\":[{\"id\":\"a6ed60b4-d1ec-44dc-b468-765c56be4c57\",\"type\":\"LinearAxis\"},{\"id\":\"7da68c19-b18e-4432-88d9-f7de8e38c5a6\",\"type\":\"Grid\"},{\"id\":\"cf669860-eb84-469d-8428-3d57f7745c4a\",\"type\":\"LinearAxis\"},{\"id\":\"d25926a1-454b-446a-928b-6bec2ea55bf6\",\"type\":\"Grid\"},{\"id\":\"439855c9-fd47-4bd7-ae9a-3056365ede06\",\"type\":\"BoxAnnotation\"},{\"id\":\"5b5e93a2-7663-4119-8bdb-df0669228d89\",\"type\":\"GlyphRenderer\"},{\"id\":\"7d40871c-33e7-4e0d-91bf-31afb6516823\",\"type\":\"GlyphRenderer\"},{\"id\":\"dccb48a7-aad1-46dd-a044-448258115524\",\"type\":\"LabelSet\"},{\"id\":\"b5f6cae7-1ce9-410c-bc21-e06bec10d497\",\"type\":\"GlyphRenderer\"},{\"id\":\"eff329bc-4f90-4c01-81a8-d6eb54f1b5c1\",\"type\":\"LabelSet\"}],\"title\":{\"id\":\"4384dde0-2398-44e9-bc31-849e5136eb35\",\"type\":\"Title\"},\"tool_events\":{\"id\":\"8dd0f319-3ab3-4e4c-9730-678cf6cc420f\",\"type\":\"ToolEvents\"},\"toolbar\":{\"id\":\"7b3f7542-1709-463a-b08a-78c8d30119fc\",\"type\":\"Toolbar\"},\"toolbar_location\":null,\"x_range\":{\"id\":\"38c397ef-df29-4a53-8d55-78148f5179cb\",\"type\":\"Range1d\"},\"y_range\":{\"id\":\"68b3101f-6d39-49e9-8672-14a8aa0b7ac7\",\"type\":\"Range1d\"}},\"id\":\"98ef7d02-aa71-4128-8f4c-552c54587833\",\"subtype\":\"Figure\",\"type\":\"Plot\"},{\"attributes\":{\"data_source\":{\"id\":\"13f164fe-7ba4-4bdb-bd95-2deddb2c46ac\",\"type\":\"ColumnDataSource\"},\"glyph\":{\"id\":\"33d5b47c-bec5-488e-bcb4-ff77b282e4ff\",\"type\":\"Quad\"},\"hover_glyph\":null,\"nonselection_glyph\":{\"id\":\"26479974-e161-4576-b7fc-37e75a13f6f1\",\"type\":\"Quad\"},\"selection_glyph\":null},\"id\":\"b5f6cae7-1ce9-410c-bc21-e06bec10d497\",\"type\":\"GlyphRenderer\"},{\"attributes\":{\"formatter\":{\"id\":\"43241ab0-09c3-46c9-b989-c3e3182a8633\",\"type\":\"BasicTickFormatter\"},\"plot\":{\"id\":\"98ef7d02-aa71-4128-8f4c-552c54587833\",\"subtype\":\"Figure\",\"type\":\"Plot\"},\"ticker\":{\"id\":\"b6dceffc-72e0-4531-9b54-4f7ce8dd9e50\",\"type\":\"BasicTicker\"}},\"id\":\"a6ed60b4-d1ec-44dc-b468-765c56be4c57\",\"type\":\"LinearAxis\"},{\"attributes\":{\"callback\":null,\"column_names\":[\"y\",\"x\",\"vals\"],\"data\":{\"vals\":[\"RAB3GAP1\",\"ZRANB3\",\"R3HDM1\",\"UBXN4\",\"LCT\",\"MCM6\",\"DARS\"],\"x\":[135869057.0,136122878.0,136385961.0,136520911.0,136570082.5,136615621.5,136703738.0],\"y\":[360.0,360.0,360.0,360.0,360.0,360.0,360.0]}},\"id\":\"5c86cd59-da95-4e6b-936e-6e9037f58038\",\"type\":\"ColumnDataSource\"},{\"attributes\":{\"line_color\":{\"field\":\"line_color\"},\"xs\":{\"field\":\"xs\"},\"ys\":{\"field\":\"ys\"}},\"id\":\"d0a800bd-f763-4c57-9b45-9a96050dd2b5\",\"type\":\"MultiLine\"},{\"attributes\":{},\"id\":\"43241ab0-09c3-46c9-b989-c3e3182a8633\",\"type\":\"BasicTickFormatter\"},{\"attributes\":{\"bottom\":{\"field\":\"bottom\"},\"fill_color\":{\"value\":\"white\"},\"left\":{\"field\":\"left\"},\"right\":{\"field\":\"right\"},\"top\":{\"field\":\"top\"}},\"id\":\"33d5b47c-bec5-488e-bcb4-ff77b282e4ff\",\"type\":\"Quad\"},{\"attributes\":{\"level\":\"glyph\",\"plot\":{\"id\":\"98ef7d02-aa71-4128-8f4c-552c54587833\",\"subtype\":\"Figure\",\"type\":\"Plot\"},\"source\":{\"id\":\"5c86cd59-da95-4e6b-936e-6e9037f58038\",\"type\":\"ColumnDataSource\"},\"text\":{\"field\":\"vals\"},\"text_align\":\"center\",\"text_baseline\":\"middle\",\"text_font_size\":{\"value\":\"8pt\"},\"x\":{\"field\":\"x\"},\"y\":{\"field\":\"y\"}},\"id\":\"eff329bc-4f90-4c01-81a8-d6eb54f1b5c1\",\"type\":\"LabelSet\"},{\"attributes\":{\"callback\":null,\"column_names\":[\"y\",\"x\",\"vals\"],\"data\":{\"vals\":[\"6_1503\",\"4_1699\",\"26_1414\",\"7_1760\",\"6_1114\",\"5_1296\",\"24_1504\"],\"x\":[135771974,135915358,136398174,136588031,136652491,136652953,136653925],\"y\":[200.0,301.0,199.0,301.0,97.0,199.0,300.0]}},\"id\":\"9c03b84e-47ef-469d-b3dc-6fe9cb8b5f7a\",\"type\":\"ColumnDataSource\"},{\"attributes\":{\"plot\":{\"id\":\"98ef7d02-aa71-4128-8f4c-552c54587833\",\"subtype\":\"Figure\",\"type\":\"Plot\"}},\"id\":\"53e4b3bb-354f-44ee-b169-ca356ab187d5\",\"type\":\"ResetTool\"},{\"attributes\":{\"dimension\":1,\"plot\":{\"id\":\"98ef7d02-aa71-4128-8f4c-552c54587833\",\"subtype\":\"Figure\",\"type\":\"Plot\"},\"ticker\":{\"id\":\"d30903ba-806f-40df-8188-e38791c644dd\",\"type\":\"BasicTicker\"}},\"id\":\"d25926a1-454b-446a-928b-6bec2ea55bf6\",\"type\":\"Grid\"},{\"attributes\":{},\"id\":\"b9a31612-7413-469b-ae58-f00d35d7deb9\",\"type\":\"BasicTickFormatter\"},{\"attributes\":{\"bottom\":{\"field\":\"bottom\"},\"fill_alpha\":{\"value\":0.1},\"fill_color\":{\"value\":\"#1f77b4\"},\"left\":{\"field\":\"left\"},\"line_alpha\":{\"value\":0.1},\"line_color\":{\"value\":\"#1f77b4\"},\"right\":{\"field\":\"right\"},\"top\":{\"field\":\"top\"}},\"id\":\"26479974-e161-4576-b7fc-37e75a13f6f1\",\"type\":\"Quad\"},{\"attributes\":{\"level\":\"glyph\",\"plot\":{\"id\":\"98ef7d02-aa71-4128-8f4c-552c54587833\",\"subtype\":\"Figure\",\"type\":\"Plot\"},\"source\":{\"id\":\"9c03b84e-47ef-469d-b3dc-6fe9cb8b5f7a\",\"type\":\"ColumnDataSource\"},\"text\":{\"field\":\"vals\"},\"text_font_size\":{\"value\":\"9pt\"},\"text_font_style\":\"bold\",\"x\":{\"field\":\"x\"},\"y\":{\"field\":\"y\"}},\"id\":\"dccb48a7-aad1-46dd-a044-448258115524\",\"type\":\"LabelSet\"},{\"attributes\":{},\"id\":\"b6dceffc-72e0-4531-9b54-4f7ce8dd9e50\",\"type\":\"BasicTicker\"},{\"attributes\":{\"callback\":null,\"end\":400},\"id\":\"68b3101f-6d39-49e9-8672-14a8aa0b7ac7\",\"type\":\"Range1d\"},{\"attributes\":{\"plot\":{\"id\":\"98ef7d02-aa71-4128-8f4c-552c54587833\",\"subtype\":\"Figure\",\"type\":\"Plot\"}},\"id\":\"16ccb90f-f0fb-4cce-9cf7-ac5e9cae5d65\",\"type\":\"PanTool\"},{\"attributes\":{\"formatter\":{\"id\":\"b9a31612-7413-469b-ae58-f00d35d7deb9\",\"type\":\"BasicTickFormatter\"},\"plot\":{\"id\":\"98ef7d02-aa71-4128-8f4c-552c54587833\",\"subtype\":\"Figure\",\"type\":\"Plot\"},\"ticker\":{\"id\":\"d30903ba-806f-40df-8188-e38791c644dd\",\"type\":\"BasicTicker\"},\"visible\":null},\"id\":\"cf669860-eb84-469d-8428-3d57f7745c4a\",\"type\":\"LinearAxis\"},{\"attributes\":{\"plot\":{\"id\":\"98ef7d02-aa71-4128-8f4c-552c54587833\",\"subtype\":\"Figure\",\"type\":\"Plot\"}},\"id\":\"9dd7751c-f4db-44fc-a377-1e6118d4c45a\",\"type\":\"HelpTool\"},{\"attributes\":{\"data_source\":{\"id\":\"c3e81e22-ce1b-41e2-8df4-e1d0f2bae6ca\",\"type\":\"ColumnDataSource\"},\"glyph\":{\"id\":\"139884e8-3416-42a4-babc-62b15c17aff5\",\"type\":\"Quad\"},\"hover_glyph\":null,\"nonselection_glyph\":{\"id\":\"1405364a-788f-47aa-981f-afc66d64379e\",\"type\":\"Quad\"},\"selection_glyph\":null},\"id\":\"5b5e93a2-7663-4119-8bdb-df0669228d89\",\"type\":\"GlyphRenderer\"},{\"attributes\":{\"callback\":null,\"end\":136786630,\"start\":135757320},\"id\":\"38c397ef-df29-4a53-8d55-78148f5179cb\",\"type\":\"Range1d\"},{\"attributes\":{\"bottom\":{\"field\":\"bottom\"},\"fill_alpha\":{\"value\":0.1},\"fill_color\":{\"value\":\"#1f77b4\"},\"left\":{\"field\":\"left\"},\"line_alpha\":{\"value\":0.1},\"line_color\":{\"value\":\"#1f77b4\"},\"right\":{\"field\":\"right\"},\"top\":{\"field\":\"top\"}},\"id\":\"1405364a-788f-47aa-981f-afc66d64379e\",\"type\":\"Quad\"},{\"attributes\":{\"data_source\":{\"id\":\"a71b1379-0281-402d-b564-d6e152c232a8\",\"type\":\"ColumnDataSource\"},\"glyph\":{\"id\":\"d0a800bd-f763-4c57-9b45-9a96050dd2b5\",\"type\":\"MultiLine\"},\"hover_glyph\":null,\"nonselection_glyph\":{\"id\":\"ec208010-62e4-4fd5-991a-5e73bc0b4e4a\",\"type\":\"MultiLine\"},\"selection_glyph\":null},\"id\":\"7d40871c-33e7-4e0d-91bf-31afb6516823\",\"type\":\"GlyphRenderer\"},{\"attributes\":{\"line_alpha\":{\"value\":0.1},\"line_color\":{\"value\":\"#1f77b4\"},\"xs\":{\"field\":\"xs\"},\"ys\":{\"field\":\"ys\"}},\"id\":\"ec208010-62e4-4fd5-991a-5e73bc0b4e4a\",\"type\":\"MultiLine\"},{\"attributes\":{\"overlay\":{\"id\":\"439855c9-fd47-4bd7-ae9a-3056365ede06\",\"type\":\"BoxAnnotation\"},\"plot\":{\"id\":\"98ef7d02-aa71-4128-8f4c-552c54587833\",\"subtype\":\"Figure\",\"type\":\"Plot\"}},\"id\":\"bac94a48-ad32-4e3d-81e8-739795369a00\",\"type\":\"BoxZoomTool\"},{\"attributes\":{\"plot\":null,\"text\":null},\"id\":\"4384dde0-2398-44e9-bc31-849e5136eb35\",\"type\":\"Title\"},{\"attributes\":{\"bottom_units\":\"screen\",\"fill_alpha\":{\"value\":0.5},\"fill_color\":{\"value\":\"lightgrey\"},\"left_units\":\"screen\",\"level\":\"overlay\",\"line_alpha\":{\"value\":1.0},\"line_color\":{\"value\":\"black\"},\"line_dash\":[4,4],\"line_width\":{\"value\":2},\"plot\":null,\"render_mode\":\"css\",\"right_units\":\"screen\",\"top_units\":\"screen\"},\"id\":\"439855c9-fd47-4bd7-ae9a-3056365ede06\",\"type\":\"BoxAnnotation\"},{\"attributes\":{},\"id\":\"8dd0f319-3ab3-4e4c-9730-678cf6cc420f\",\"type\":\"ToolEvents\"},{\"attributes\":{\"bottom\":{\"field\":\"bottom\"},\"fill_color\":{\"field\":\"fill_color\"},\"left\":{\"field\":\"left\"},\"line_color\":{\"value\":null},\"right\":{\"field\":\"right\"},\"top\":{\"field\":\"top\"}},\"id\":\"139884e8-3416-42a4-babc-62b15c17aff5\",\"type\":\"Quad\"}],\"root_ids\":[\"98ef7d02-aa71-4128-8f4c-552c54587833\"]},\"title\":\"Bokeh Application\",\"version\":\"0.12.0\"}};\n",
       "            var render_items = [{\"docid\":\"83ddb529-1761-4b1f-b8a7-01b26cdd5383\",\"elementid\":\"2d0b098d-0cd8-424a-8720-ff0d19fdc2ea\",\"modelid\":\"98ef7d02-aa71-4128-8f4c-552c54587833\",\"notebook_comms_target\":\"48eba7e8-d551-4a6d-a8c3-1df476f6706d\"}];\n",
       "            \n",
       "            Bokeh.embed.embed_items(docs_json, render_items);\n",
       "        });\n",
       "      },\n",
       "      function(Bokeh) {\n",
       "      }\n",
       "    ];\n",
       "  \n",
       "    function run_inline_js() {\n",
       "      for (var i = 0; i < inline_js.length; i++) {\n",
       "        inline_js[i](window.Bokeh);\n",
       "      }\n",
       "    }\n",
       "  \n",
       "    if (window._bokeh_is_loading === 0) {\n",
       "      console.log(\"Bokeh: BokehJS loaded, going straight to plotting\");\n",
       "      run_inline_js();\n",
       "    } else {\n",
       "      load_libs(js_urls, function() {\n",
       "        console.log(\"Bokeh: BokehJS plotting callback run at\", now());\n",
       "        run_inline_js();\n",
       "      });\n",
       "    }\n",
       "  }(this));\n",
       "</script>"
      ]
     },
     "metadata": {},
     "output_type": "display_data"
    },
    {
     "data": {
      "text/html": [
       "<p><code>&lt;Bokeh Notebook handle for <strong>In[38]</strong>&gt;</code></p>"
      ],
      "text/plain": [
       "<bokeh.io._CommsHandle at 0x7ff6b4139d50>"
      ]
     },
     "execution_count": 38,
     "metadata": {},
     "output_type": "execute_result"
    }
   ],
   "source": [
    "plt_obj = dm.superset_yes_no([dm.di_6_1503, dm.di_26_1414, dm.di_7_1760], \n",
    "                             [dm.di_4_1442, dm.di_10_2206,\n",
    "                              dm.di_4_911, dm.di_11_765, di_6_57, di_6_35, di_7_22, di_7_20],\n",
    "                             min_match=0.001)\n",
    "plt = plt_obj.do_plot()\n",
    "show(plt)"
   ]
  },
  {
   "cell_type": "code",
   "execution_count": 39,
   "metadata": {
    "collapsed": false,
    "deletable": true,
    "editable": true
   },
   "outputs": [
    {
     "data": {
      "text/html": [
       "<table>\n",
       "<thead><tr><th style=\"text-align:center\">index</th><th style=\"text-align:center\">first</th><th style=\"text-align:center\">length</th><th style=\"text-align:center\">snps</th><th style=\"text-align:center\" colspan=2>alleles</th><th style=\"text-align:center\" colspan=2>matches</th><th style=\"text-align:center\" colspan=2>afr</th><th style=\"text-align:center\" colspan=2>afx</th><th style=\"text-align:center\" colspan=2>amr</th><th style=\"text-align:center\" colspan=2>eas</th><th style=\"text-align:center\" colspan=2>eur</th><th style=\"text-align:center\" colspan=2>sas</th><th style=\"text-align:center\" colspan=2>sax</th></tr></thead>\n",
       "<tr class=\"even\"><td style=\"text-align: right;\">354033</td><td style=\"text-align: right;\">136,588,031</td><td style=\"text-align: right;\">5,647</td><td style=\"text-align: right;\">7</td><td style=\"text-align: right;\">1760</td><td style=\"text-align: right;\">0.00</td><td style=\"text-align: right;\">1</td><td style=\"text-align: right;\">1.00</td><td style=\"text-align: right;\">0</td><td style=\"text-align: right;\">0.00</td><td style=\"text-align: right;\">0</td><td style=\"text-align: right;\">0.00</td><td style=\"text-align: right;\">0</td><td style=\"text-align: right;\">0.00</td><td style=\"text-align: right;\">1</td><td style=\"text-align: right;\">4.01</td><td style=\"text-align: right;\">0</td><td style=\"text-align: right;\">0.00</td><td style=\"text-align: right;\">0</td><td style=\"text-align: right;\">0.00</td><td style=\"text-align: right;\">0</td><td style=\"text-align: right;\">0.00</td></tr>\n",
       "<tr><td style=\"text-align: right;\">353462</td><td style=\"text-align: right;\">135,915,358</td><td style=\"text-align: right;\">79,721</td><td style=\"text-align: right;\">4</td><td style=\"text-align: right;\">1699</td><td style=\"text-align: right;\">0.00</td><td style=\"text-align: right;\">1</td><td style=\"text-align: right;\">1.00</td><td style=\"text-align: right;\">0</td><td style=\"text-align: right;\">0.00</td><td style=\"text-align: right;\">0</td><td style=\"text-align: right;\">0.00</td><td style=\"text-align: right;\">0</td><td style=\"text-align: right;\">0.00</td><td style=\"text-align: right;\">1</td><td style=\"text-align: right;\">4.01</td><td style=\"text-align: right;\">0</td><td style=\"text-align: right;\">0.00</td><td style=\"text-align: right;\">0</td><td style=\"text-align: right;\">0.00</td><td style=\"text-align: right;\">0</td><td style=\"text-align: right;\">0.00</td></tr>\n",
       "<tr class=\"even\"><td style=\"text-align: right;\">354130</td><td style=\"text-align: right;\">136,653,925</td><td style=\"text-align: right;\">107,928</td><td style=\"text-align: right;\">24</td><td style=\"text-align: right;\">1504</td><td style=\"text-align: right;\">0.00</td><td style=\"text-align: right;\">1</td><td style=\"text-align: right;\">1.00</td><td style=\"text-align: right;\">0</td><td style=\"text-align: right;\">0.00</td><td style=\"text-align: right;\">0</td><td style=\"text-align: right;\">0.00</td><td style=\"text-align: right;\">0</td><td style=\"text-align: right;\">0.00</td><td style=\"text-align: right;\">1</td><td style=\"text-align: right;\">4.01</td><td style=\"text-align: right;\">0</td><td style=\"text-align: right;\">0.00</td><td style=\"text-align: right;\">0</td><td style=\"text-align: right;\">0.00</td><td style=\"text-align: right;\">0</td><td style=\"text-align: right;\">0.00</td></tr>\n",
       "<tr><td style=\"text-align: right;\">353283</td><td style=\"text-align: right;\">135,771,974</td><td style=\"text-align: right;\">368,330</td><td style=\"text-align: right;\">6</td><td style=\"text-align: right;\">1503</td><td style=\"text-align: right;\">0.00</td><td style=\"text-align: right;\">1</td><td style=\"text-align: right;\">1.00</td><td style=\"text-align: right;\">0</td><td style=\"text-align: right;\">0.00</td><td style=\"text-align: right;\">0</td><td style=\"text-align: right;\">0.00</td><td style=\"text-align: right;\">0</td><td style=\"text-align: right;\">0.00</td><td style=\"text-align: right;\">1</td><td style=\"text-align: right;\">4.01</td><td style=\"text-align: right;\">0</td><td style=\"text-align: right;\">0.00</td><td style=\"text-align: right;\">0</td><td style=\"text-align: right;\">0.00</td><td style=\"text-align: right;\">0</td><td style=\"text-align: right;\">0.00</td></tr>\n",
       "<tr class=\"even\"><td style=\"text-align: right;\">353797</td><td style=\"text-align: right;\">136,398,174</td><td style=\"text-align: right;\">75,924</td><td style=\"text-align: right;\">26</td><td style=\"text-align: right;\">1414</td><td style=\"text-align: right;\">0.00</td><td style=\"text-align: right;\">1</td><td style=\"text-align: right;\">1.00</td><td style=\"text-align: right;\">0</td><td style=\"text-align: right;\">0.00</td><td style=\"text-align: right;\">0</td><td style=\"text-align: right;\">0.00</td><td style=\"text-align: right;\">0</td><td style=\"text-align: right;\">0.00</td><td style=\"text-align: right;\">1</td><td style=\"text-align: right;\">4.01</td><td style=\"text-align: right;\">0</td><td style=\"text-align: right;\">0.00</td><td style=\"text-align: right;\">0</td><td style=\"text-align: right;\">0.00</td><td style=\"text-align: right;\">0</td><td style=\"text-align: right;\">0.00</td></tr>\n",
       "<tr><td style=\"text-align: right;\">354129</td><td style=\"text-align: right;\">136,652,953</td><td style=\"text-align: right;\">108,222</td><td style=\"text-align: right;\">5</td><td style=\"text-align: right;\">1296</td><td style=\"text-align: right;\">0.00</td><td style=\"text-align: right;\">1</td><td style=\"text-align: right;\">1.00</td><td style=\"text-align: right;\">0</td><td style=\"text-align: right;\">0.00</td><td style=\"text-align: right;\">0</td><td style=\"text-align: right;\">0.00</td><td style=\"text-align: right;\">0</td><td style=\"text-align: right;\">0.00</td><td style=\"text-align: right;\">1</td><td style=\"text-align: right;\">4.01</td><td style=\"text-align: right;\">0</td><td style=\"text-align: right;\">0.00</td><td style=\"text-align: right;\">0</td><td style=\"text-align: right;\">0.00</td><td style=\"text-align: right;\">0</td><td style=\"text-align: right;\">0.00</td></tr>\n",
       "<tr class=\"even\"><td style=\"text-align: right;\">354127</td><td style=\"text-align: right;\">136,652,491</td><td style=\"text-align: right;\">80,281</td><td style=\"text-align: right;\">6</td><td style=\"text-align: right;\">1114</td><td style=\"text-align: right;\">0.00</td><td style=\"text-align: right;\">1</td><td style=\"text-align: right;\">1.00</td><td style=\"text-align: right;\">0</td><td style=\"text-align: right;\">0.00</td><td style=\"text-align: right;\">0</td><td style=\"text-align: right;\">0.00</td><td style=\"text-align: right;\">0</td><td style=\"text-align: right;\">0.00</td><td style=\"text-align: right;\">1</td><td style=\"text-align: right;\">4.01</td><td style=\"text-align: right;\">0</td><td style=\"text-align: right;\">0.00</td><td style=\"text-align: right;\">0</td><td style=\"text-align: right;\">0.00</td><td style=\"text-align: right;\">0</td><td style=\"text-align: right;\">0.00</td></tr>\n",
       "</table>"
      ],
      "text/plain": [
       "<IPython.core.display.HTML object>"
      ]
     },
     "execution_count": 39,
     "metadata": {},
     "output_type": "execute_result"
    }
   ],
   "source": [
    "HTML(plt_obj.get_html())"
   ]
  },
  {
   "cell_type": "code",
   "execution_count": 40,
   "metadata": {
    "collapsed": false,
    "deletable": true,
    "editable": true
   },
   "outputs": [
    {
     "data": {
      "text/html": [
       "\n",
       "\n",
       "    <div class=\"bk-root\">\n",
       "        <div class=\"plotdiv\" id=\"faab77b7-1d18-4a6b-bdac-6b67c850c55b\"></div>\n",
       "    </div>\n",
       "<script type=\"text/javascript\">\n",
       "  \n",
       "  (function(global) {\n",
       "    function now() {\n",
       "      return new Date();\n",
       "    }\n",
       "  \n",
       "    if (typeof (window._bokeh_onload_callbacks) === \"undefined\") {\n",
       "      window._bokeh_onload_callbacks = [];\n",
       "    }\n",
       "  \n",
       "    function run_callbacks() {\n",
       "      window._bokeh_onload_callbacks.forEach(function(callback) { callback() });\n",
       "      delete window._bokeh_onload_callbacks\n",
       "      console.info(\"Bokeh: all callbacks have finished\");\n",
       "    }\n",
       "  \n",
       "    function load_libs(js_urls, callback) {\n",
       "      window._bokeh_onload_callbacks.push(callback);\n",
       "      if (window._bokeh_is_loading > 0) {\n",
       "        console.log(\"Bokeh: BokehJS is being loaded, scheduling callback at\", now());\n",
       "        return null;\n",
       "      }\n",
       "      if (js_urls == null || js_urls.length === 0) {\n",
       "        run_callbacks();\n",
       "        return null;\n",
       "      }\n",
       "      console.log(\"Bokeh: BokehJS not loaded, scheduling load and callback at\", now());\n",
       "      window._bokeh_is_loading = js_urls.length;\n",
       "      for (var i = 0; i < js_urls.length; i++) {\n",
       "        var url = js_urls[i];\n",
       "        var s = document.createElement('script');\n",
       "        s.src = url;\n",
       "        s.async = false;\n",
       "        s.onreadystatechange = s.onload = function() {\n",
       "          window._bokeh_is_loading--;\n",
       "          if (window._bokeh_is_loading === 0) {\n",
       "            console.log(\"Bokeh: all BokehJS libraries loaded\");\n",
       "            run_callbacks()\n",
       "          }\n",
       "        };\n",
       "        s.onerror = function() {\n",
       "          console.warn(\"failed to load library \" + url);\n",
       "        };\n",
       "        console.log(\"Bokeh: injecting script tag for BokehJS library: \", url);\n",
       "        document.getElementsByTagName(\"head\")[0].appendChild(s);\n",
       "      }\n",
       "    };var element = document.getElementById(\"faab77b7-1d18-4a6b-bdac-6b67c850c55b\");\n",
       "    if (element == null) {\n",
       "      console.log(\"Bokeh: ERROR: autoload.js configured with elementid 'faab77b7-1d18-4a6b-bdac-6b67c850c55b' but no matching script tag was found. \")\n",
       "      return false;\n",
       "    }\n",
       "  \n",
       "    var js_urls = [];\n",
       "  \n",
       "    var inline_js = [\n",
       "      function(Bokeh) {\n",
       "        Bokeh.$(function() {\n",
       "            var docs_json = {\"8a2fa43f-c491-4f14-9773-9e43fef38d1a\":{\"roots\":{\"references\":[{\"attributes\":{\"callback\":null,\"column_names\":[\"xs\",\"ys\",\"line_color\"],\"data\":{\"line_color\":[\"black\",\"black\",\"black\",\"black\",\"black\",\"black\",\"black\",\"black\",\"black\",\"black\",\"black\",\"black\",\"black\",\"black\",\"black\",\"black\",\"black\",\"black\",\"black\",\"black\",\"black\",\"black\",\"black\",\"black\",\"black\",\"black\",\"black\",\"black\",\"black\",\"black\",\"black\",\"black\",\"black\",\"black\",\"black\",\"black\",\"black\",\"black\",\"black\",\"black\",\"black\",\"black\",\"black\",\"black\",\"black\",\"black\",\"black\",\"black\",\"black\",\"black\",\"black\",\"black\",\"black\",\"black\",\"black\",\"black\",\"black\",\"black\",\"black\",\"black\",\"black\",\"black\",\"black\",\"black\",\"black\",\"black\",\"black\",\"black\",\"black\",\"black\",\"black\",\"black\",\"black\",\"black\",\"black\",\"black\",\"black\",\"black\",\"black\",\"black\",\"black\",\"black\",\"black\",\"black\",\"black\",\"black\",\"black\",\"black\",\"black\",\"black\",\"black\",\"black\",\"black\",\"black\",\"black\",\"black\",\"black\",\"black\",\"black\",\"black\",\"black\",\"black\",\"black\",\"black\",\"black\",\"black\",\"black\",\"black\"],\"xs\":[[135771974,135771974],[135859371,135859371],[135877562,135877562],[136022798,136022798],[136058820,136058820],[136140304,136140304],[135915358,135915358],[135954405,135954405],[135995073,135995073],[135995079,135995079],[136398174,136398174],[136402117,136402117],[136403749,136403749],[136409073,136409073],[136410299,136410299],[136413359,136413359],[136416855,136416855],[136416941,136416941],[136418348,136418348],[136419961,136419961],[136420690,136420690],[136422171,136422171],[136428460,136428460],[136430866,136430866],[136432103,136432103],[136437507,136437507],[136439090,136439090],[136439517,136439517],[136444123,136444123],[136445526,136445526],[136445869,136445869],[136455600,136455600],[136456642,136456642],[136462441,136462441],[136470714,136470714],[136474098,136474098],[136496493,136496493],[136496639,136496639],[136496928,136496928],[136509573,136509573],[136511951,136511951],[136537057,136537057],[136546635,136546635],[136553438,136553438],[136553925,136553925],[136496805,136496805],[136496910,136496910],[136515859,136515859],[136515924,136515924],[136520186,136520186],[136524766,136524766],[136535364,136535364],[136536113,136536113],[136552629,136552629],[136504541,136504541],[136513977,136513977],[136526501,136526501],[136528224,136528224],[136511874,136511874],[136530248,136530248],[136530556,136530556],[136531252,136531252],[136533195,136533195],[136514709,136514709],[136516308,136516308],[136520100,136520100],[136521595,136521595],[136523045,136523045],[136543147,136543147],[136556805,136556805],[136560003,136560003],[136562472,136562472],[136563248,136563248],[136565328,136565328],[136570613,136570613],[136571982,136571982],[136574305,136574305],[136578040,136578040],[136578194,136578194],[136580398,136580398],[136586828,136586828],[136590558,136590558],[136592309,136592309],[136593541,136593541],[136593694,136593694],[136595426,136595426],[136615222,136615222],[136624919,136624919],[136626004,136626004],[136628380,136628380],[136636909,136636909],[136637350,136637350],[136637622,136637622],[136639487,136639487],[136646900,136646900],[136652093,136652093],[136652859,136652859],[136655620,136655620],[136667896,136667896],[136671801,136671801],[136677192,136677192],[136683293,136683293],[136704414,136704414],[136720344,136720344],[136731066,136731066],[136733897,136733897],[136743490,136743490],[136747085,136747085]],\"ys\":[[450,495],[450,495],[450,495],[450,495],[450,495],[450,495],[550,596],[550,596],[550,596],[550,596],[450,494],[450,494],[450,494],[450,494],[450,494],[450,494],[450,494],[450,494],[450,494],[450,494],[450,494],[450,494],[450,494],[450,494],[450,494],[450,494],[450,494],[450,494],[450,494],[450,494],[450,494],[450,494],[450,494],[450,494],[450,494],[450,494],[450,493],[450,493],[450,493],[450,493],[450,493],[450,493],[450,493],[450,493],[450,493],[350,391],[350,391],[350,391],[350,391],[350,391],[350,391],[350,391],[350,391],[350,391],[50,56],[50,56],[50,56],[50,56],[250,291],[250,291],[250,291],[250,291],[250,291],[150,190],[150,190],[150,190],[150,190],[150,190],[150,190],[350,391],[350,391],[350,391],[350,391],[350,391],[350,391],[350,391],[350,391],[350,391],[350,391],[350,391],[350,391],[350,391],[350,391],[350,391],[350,391],[350,391],[350,391],[350,391],[350,391],[350,391],[350,391],[350,391],[350,391],[350,391],[350,391],[350,391],[350,391],[350,391],[350,391],[350,391],[350,391],[350,391],[350,391],[350,391],[350,391],[350,391],[350,391],[350,391]]}},\"id\":\"a9ff5aad-b6dd-4b61-afa3-353848797f83\",\"type\":\"ColumnDataSource\"},{\"attributes\":{\"plot\":{\"id\":\"6eec4c1b-c933-4fc6-8f16-023fae9f8f42\",\"subtype\":\"Figure\",\"type\":\"Plot\"}},\"id\":\"332a5466-d5a6-4274-b8eb-c07b2618cf68\",\"type\":\"WheelZoomTool\"},{\"attributes\":{\"plot\":{\"id\":\"6eec4c1b-c933-4fc6-8f16-023fae9f8f42\",\"subtype\":\"Figure\",\"type\":\"Plot\"}},\"id\":\"4d603ad0-69c2-43e0-8b55-4ff28790f7aa\",\"type\":\"SaveTool\"},{\"attributes\":{\"bottom\":{\"field\":\"bottom\"},\"fill_alpha\":{\"value\":0.1},\"fill_color\":{\"value\":\"#1f77b4\"},\"left\":{\"field\":\"left\"},\"line_alpha\":{\"value\":0.1},\"line_color\":{\"value\":\"#1f77b4\"},\"right\":{\"field\":\"right\"},\"top\":{\"field\":\"top\"}},\"id\":\"93aeca5a-241c-4964-a29e-9566280a0b2a\",\"type\":\"Quad\"},{\"attributes\":{\"bottom\":{\"field\":\"bottom\"},\"fill_alpha\":{\"value\":0.1},\"fill_color\":{\"value\":\"#1f77b4\"},\"left\":{\"field\":\"left\"},\"line_alpha\":{\"value\":0.1},\"line_color\":{\"value\":\"#1f77b4\"},\"right\":{\"field\":\"right\"},\"top\":{\"field\":\"top\"}},\"id\":\"c7cae2bb-e499-4ace-942b-dd6cf003282a\",\"type\":\"Quad\"},{\"attributes\":{\"plot\":{\"id\":\"6eec4c1b-c933-4fc6-8f16-023fae9f8f42\",\"subtype\":\"Figure\",\"type\":\"Plot\"}},\"id\":\"cde9f612-ee69-4b5c-a3aa-ff13074f151b\",\"type\":\"ResetTool\"},{\"attributes\":{\"plot\":{\"id\":\"6eec4c1b-c933-4fc6-8f16-023fae9f8f42\",\"subtype\":\"Figure\",\"type\":\"Plot\"},\"ticker\":{\"id\":\"163807ba-ac14-4c36-bffa-09039ae926b4\",\"type\":\"BasicTicker\"}},\"id\":\"aea5f723-3b12-41f0-b439-857e60b80f1f\",\"type\":\"Grid\"},{\"attributes\":{\"plot\":null,\"text\":null},\"id\":\"73417973-0bb7-43cf-bdfa-27c7d2dc23d4\",\"type\":\"Title\"},{\"attributes\":{\"line_color\":{\"field\":\"line_color\"},\"xs\":{\"field\":\"xs\"},\"ys\":{\"field\":\"ys\"}},\"id\":\"90ced1cd-7b18-4743-ba63-cb2917e63d25\",\"type\":\"MultiLine\"},{\"attributes\":{\"overlay\":{\"id\":\"36605460-b568-4ad5-b4f6-2ac71db4df46\",\"type\":\"BoxAnnotation\"},\"plot\":{\"id\":\"6eec4c1b-c933-4fc6-8f16-023fae9f8f42\",\"subtype\":\"Figure\",\"type\":\"Plot\"}},\"id\":\"70398665-d710-4a68-b2a1-7d7f1530d4fd\",\"type\":\"BoxZoomTool\"},{\"attributes\":{\"data_source\":{\"id\":\"0811c6cf-d807-48d8-b988-837abf89a063\",\"type\":\"ColumnDataSource\"},\"glyph\":{\"id\":\"e1d2dc23-326b-4507-a2c5-149b66f10336\",\"type\":\"Quad\"},\"hover_glyph\":null,\"nonselection_glyph\":{\"id\":\"93aeca5a-241c-4964-a29e-9566280a0b2a\",\"type\":\"Quad\"},\"selection_glyph\":null},\"id\":\"f294a0d8-0480-4462-9cee-ac2852294fe3\",\"type\":\"GlyphRenderer\"},{\"attributes\":{\"level\":\"glyph\",\"plot\":{\"id\":\"6eec4c1b-c933-4fc6-8f16-023fae9f8f42\",\"subtype\":\"Figure\",\"type\":\"Plot\"},\"source\":{\"id\":\"4ad4ff71-8a54-479a-a243-9ff74809ff80\",\"type\":\"ColumnDataSource\"},\"text\":{\"field\":\"vals\"},\"text_font_size\":{\"value\":\"9pt\"},\"text_font_style\":\"bold\",\"x\":{\"field\":\"x\"},\"y\":{\"field\":\"y\"}},\"id\":\"f015ba9c-18e4-441e-8b41-f55329e3ff65\",\"type\":\"LabelSet\"},{\"attributes\":{\"below\":[{\"id\":\"07be8314-266e-4181-bae7-c18cb8211e91\",\"type\":\"LinearAxis\"}],\"left\":[{\"id\":\"2c17936f-6cb5-46b8-85d6-31fdda2cc62b\",\"type\":\"LinearAxis\"}],\"plot_height\":700,\"plot_width\":900,\"renderers\":[{\"id\":\"07be8314-266e-4181-bae7-c18cb8211e91\",\"type\":\"LinearAxis\"},{\"id\":\"aea5f723-3b12-41f0-b439-857e60b80f1f\",\"type\":\"Grid\"},{\"id\":\"2c17936f-6cb5-46b8-85d6-31fdda2cc62b\",\"type\":\"LinearAxis\"},{\"id\":\"50a78d70-dbf9-4179-a132-e0332ec179f5\",\"type\":\"Grid\"},{\"id\":\"36605460-b568-4ad5-b4f6-2ac71db4df46\",\"type\":\"BoxAnnotation\"},{\"id\":\"4712e9e0-eadf-4016-830f-12130459ca48\",\"type\":\"GlyphRenderer\"},{\"id\":\"924af766-28f0-449f-8cfa-3a95bb36d2c3\",\"type\":\"GlyphRenderer\"},{\"id\":\"f015ba9c-18e4-441e-8b41-f55329e3ff65\",\"type\":\"LabelSet\"},{\"id\":\"f294a0d8-0480-4462-9cee-ac2852294fe3\",\"type\":\"GlyphRenderer\"},{\"id\":\"c318f550-92f8-4630-be7f-93a457ea28cd\",\"type\":\"LabelSet\"}],\"title\":{\"id\":\"73417973-0bb7-43cf-bdfa-27c7d2dc23d4\",\"type\":\"Title\"},\"tool_events\":{\"id\":\"8552bbd8-3a21-42ce-b415-868bc8af630a\",\"type\":\"ToolEvents\"},\"toolbar\":{\"id\":\"54234953-f601-486c-9f7a-57ea7e1faa66\",\"type\":\"Toolbar\"},\"toolbar_location\":null,\"x_range\":{\"id\":\"68c842de-90e7-4a91-903d-91857a292592\",\"type\":\"Range1d\"},\"y_range\":{\"id\":\"c610b7eb-0147-4cd6-b046-6d236e183252\",\"type\":\"Range1d\"}},\"id\":\"6eec4c1b-c933-4fc6-8f16-023fae9f8f42\",\"subtype\":\"Figure\",\"type\":\"Plot\"},{\"attributes\":{\"plot\":{\"id\":\"6eec4c1b-c933-4fc6-8f16-023fae9f8f42\",\"subtype\":\"Figure\",\"type\":\"Plot\"}},\"id\":\"74b7700e-f387-463c-aa4b-11df274c4589\",\"type\":\"HelpTool\"},{\"attributes\":{\"formatter\":{\"id\":\"4574d780-1356-4c2f-997b-c75655299132\",\"type\":\"BasicTickFormatter\"},\"plot\":{\"id\":\"6eec4c1b-c933-4fc6-8f16-023fae9f8f42\",\"subtype\":\"Figure\",\"type\":\"Plot\"},\"ticker\":{\"id\":\"163807ba-ac14-4c36-bffa-09039ae926b4\",\"type\":\"BasicTicker\"}},\"id\":\"07be8314-266e-4181-bae7-c18cb8211e91\",\"type\":\"LinearAxis\"},{\"attributes\":{},\"id\":\"4574d780-1356-4c2f-997b-c75655299132\",\"type\":\"BasicTickFormatter\"},{\"attributes\":{\"dimension\":1,\"plot\":{\"id\":\"6eec4c1b-c933-4fc6-8f16-023fae9f8f42\",\"subtype\":\"Figure\",\"type\":\"Plot\"},\"ticker\":{\"id\":\"d9ff6760-c740-4209-8d57-32f6dbfb9b1d\",\"type\":\"BasicTicker\"}},\"id\":\"50a78d70-dbf9-4179-a132-e0332ec179f5\",\"type\":\"Grid\"},{\"attributes\":{\"level\":\"glyph\",\"plot\":{\"id\":\"6eec4c1b-c933-4fc6-8f16-023fae9f8f42\",\"subtype\":\"Figure\",\"type\":\"Plot\"},\"source\":{\"id\":\"a04254eb-434b-4646-a5aa-9ac9121f95ed\",\"type\":\"ColumnDataSource\"},\"text\":{\"field\":\"vals\"},\"text_align\":\"center\",\"text_baseline\":\"middle\",\"text_font_size\":{\"value\":\"8pt\"},\"x\":{\"field\":\"x\"},\"y\":{\"field\":\"y\"}},\"id\":\"c318f550-92f8-4630-be7f-93a457ea28cd\",\"type\":\"LabelSet\"},{\"attributes\":{\"bottom\":{\"field\":\"bottom\"},\"fill_color\":{\"value\":\"white\"},\"left\":{\"field\":\"left\"},\"right\":{\"field\":\"right\"},\"top\":{\"field\":\"top\"}},\"id\":\"e1d2dc23-326b-4507-a2c5-149b66f10336\",\"type\":\"Quad\"},{\"attributes\":{\"bottom_units\":\"screen\",\"fill_alpha\":{\"value\":0.5},\"fill_color\":{\"value\":\"lightgrey\"},\"left_units\":\"screen\",\"level\":\"overlay\",\"line_alpha\":{\"value\":1.0},\"line_color\":{\"value\":\"black\"},\"line_dash\":[4,4],\"line_width\":{\"value\":2},\"plot\":null,\"render_mode\":\"css\",\"right_units\":\"screen\",\"top_units\":\"screen\"},\"id\":\"36605460-b568-4ad5-b4f6-2ac71db4df46\",\"type\":\"BoxAnnotation\"},{\"attributes\":{\"callback\":null,\"end\":700},\"id\":\"c610b7eb-0147-4cd6-b046-6d236e183252\",\"type\":\"Range1d\"},{\"attributes\":{\"plot\":{\"id\":\"6eec4c1b-c933-4fc6-8f16-023fae9f8f42\",\"subtype\":\"Figure\",\"type\":\"Plot\"}},\"id\":\"30ad429d-0d19-4a7f-ae4d-632287f8c024\",\"type\":\"PanTool\"},{\"attributes\":{\"line_alpha\":{\"value\":0.1},\"line_color\":{\"value\":\"#1f77b4\"},\"xs\":{\"field\":\"xs\"},\"ys\":{\"field\":\"ys\"}},\"id\":\"bf123aee-f237-4183-bc72-6b4704ea3cc9\",\"type\":\"MultiLine\"},{\"attributes\":{\"callback\":null,\"column_names\":[\"y\",\"x\",\"vals\"],\"data\":{\"vals\":[\"6_1503\",\"4_1699\",\"26_1414\",\"9_1170\",\"9_1023\",\"4_17\",\"5_976\",\"6_820\",\"39_1014\"],\"x\":[135771974,135915358,136398174,136496493,136496805,136504541,136511874,136514709,136556805],\"y\":[500.0,601.0,499.0,498.0,396.0,61.0,296.0,195.0,396.0]}},\"id\":\"4ad4ff71-8a54-479a-a243-9ff74809ff80\",\"type\":\"ColumnDataSource\"},{\"attributes\":{\"callback\":null,\"column_names\":[\"right\",\"bottom\",\"top\",\"left\",\"fill_color\"],\"data\":{\"bottom\":[450,550,450,450,350,50,250,150,350],\"fill_color\":[\"#61c461\",\"#61c461\",\"#61c461\",\"#808080\",\"#61c4c4\",\"#ff0000\",\"#808080\",\"#61c4c4\",\"#808080\"],\"left\":[135771974,135915358,136398174,136496493,136496805,136504541,136511874,136514709,136556805],\"right\":[136140304,135995079,136474098,136553925,136552629,136528224,136533195,136543147,136747085],\"top\":[495,596,494,493,391,56,291,190,391]}},\"id\":\"bfd722d4-df33-4a7f-a671-3e1da5490254\",\"type\":\"ColumnDataSource\"},{\"attributes\":{\"callback\":null,\"column_names\":[\"right\",\"bottom\",\"top\",\"left\"],\"data\":{\"bottom\":[645,645,645,645,645,645,645],\"left\":[135809835,135957574,136289083,136499189,136545415,136597196,136664254],\"right\":[135928279,136288182,136482839,136542633,136594750,136634047,136743222],\"top\":[675,675,675,675,675,675,675]}},\"id\":\"0811c6cf-d807-48d8-b988-837abf89a063\",\"type\":\"ColumnDataSource\"},{\"attributes\":{\"formatter\":{\"id\":\"bb257b7f-555d-42aa-b457-6596069fc0ad\",\"type\":\"BasicTickFormatter\"},\"plot\":{\"id\":\"6eec4c1b-c933-4fc6-8f16-023fae9f8f42\",\"subtype\":\"Figure\",\"type\":\"Plot\"},\"ticker\":{\"id\":\"d9ff6760-c740-4209-8d57-32f6dbfb9b1d\",\"type\":\"BasicTicker\"},\"visible\":null},\"id\":\"2c17936f-6cb5-46b8-85d6-31fdda2cc62b\",\"type\":\"LinearAxis\"},{\"attributes\":{\"data_source\":{\"id\":\"a9ff5aad-b6dd-4b61-afa3-353848797f83\",\"type\":\"ColumnDataSource\"},\"glyph\":{\"id\":\"90ced1cd-7b18-4743-ba63-cb2917e63d25\",\"type\":\"MultiLine\"},\"hover_glyph\":null,\"nonselection_glyph\":{\"id\":\"bf123aee-f237-4183-bc72-6b4704ea3cc9\",\"type\":\"MultiLine\"},\"selection_glyph\":null},\"id\":\"924af766-28f0-449f-8cfa-3a95bb36d2c3\",\"type\":\"GlyphRenderer\"},{\"attributes\":{\"callback\":null,\"column_names\":[\"y\",\"x\",\"vals\"],\"data\":{\"vals\":[\"RAB3GAP1\",\"ZRANB3\",\"R3HDM1\",\"UBXN4\",\"LCT\",\"MCM6\",\"DARS\"],\"x\":[135869057.0,136122878.0,136385961.0,136520911.0,136570082.5,136615621.5,136703738.0],\"y\":[660.0,660.0,660.0,660.0,660.0,660.0,660.0]}},\"id\":\"a04254eb-434b-4646-a5aa-9ac9121f95ed\",\"type\":\"ColumnDataSource\"},{\"attributes\":{\"callback\":null,\"end\":136786630,\"start\":135757320},\"id\":\"68c842de-90e7-4a91-903d-91857a292592\",\"type\":\"Range1d\"},{\"attributes\":{\"active_drag\":\"auto\",\"active_scroll\":\"auto\",\"active_tap\":\"auto\",\"tools\":[{\"id\":\"30ad429d-0d19-4a7f-ae4d-632287f8c024\",\"type\":\"PanTool\"},{\"id\":\"332a5466-d5a6-4274-b8eb-c07b2618cf68\",\"type\":\"WheelZoomTool\"},{\"id\":\"70398665-d710-4a68-b2a1-7d7f1530d4fd\",\"type\":\"BoxZoomTool\"},{\"id\":\"4d603ad0-69c2-43e0-8b55-4ff28790f7aa\",\"type\":\"SaveTool\"},{\"id\":\"cde9f612-ee69-4b5c-a3aa-ff13074f151b\",\"type\":\"ResetTool\"},{\"id\":\"74b7700e-f387-463c-aa4b-11df274c4589\",\"type\":\"HelpTool\"}]},\"id\":\"54234953-f601-486c-9f7a-57ea7e1faa66\",\"type\":\"Toolbar\"},{\"attributes\":{\"bottom\":{\"field\":\"bottom\"},\"fill_color\":{\"field\":\"fill_color\"},\"left\":{\"field\":\"left\"},\"line_color\":{\"value\":null},\"right\":{\"field\":\"right\"},\"top\":{\"field\":\"top\"}},\"id\":\"02d4d209-adf6-4318-94ea-c607bb297dfd\",\"type\":\"Quad\"},{\"attributes\":{},\"id\":\"163807ba-ac14-4c36-bffa-09039ae926b4\",\"type\":\"BasicTicker\"},{\"attributes\":{},\"id\":\"bb257b7f-555d-42aa-b457-6596069fc0ad\",\"type\":\"BasicTickFormatter\"},{\"attributes\":{},\"id\":\"8552bbd8-3a21-42ce-b415-868bc8af630a\",\"type\":\"ToolEvents\"},{\"attributes\":{\"data_source\":{\"id\":\"bfd722d4-df33-4a7f-a671-3e1da5490254\",\"type\":\"ColumnDataSource\"},\"glyph\":{\"id\":\"02d4d209-adf6-4318-94ea-c607bb297dfd\",\"type\":\"Quad\"},\"hover_glyph\":null,\"nonselection_glyph\":{\"id\":\"c7cae2bb-e499-4ace-942b-dd6cf003282a\",\"type\":\"Quad\"},\"selection_glyph\":null},\"id\":\"4712e9e0-eadf-4016-830f-12130459ca48\",\"type\":\"GlyphRenderer\"},{\"attributes\":{},\"id\":\"d9ff6760-c740-4209-8d57-32f6dbfb9b1d\",\"type\":\"BasicTicker\"}],\"root_ids\":[\"6eec4c1b-c933-4fc6-8f16-023fae9f8f42\"]},\"title\":\"Bokeh Application\",\"version\":\"0.12.0\"}};\n",
       "            var render_items = [{\"docid\":\"8a2fa43f-c491-4f14-9773-9e43fef38d1a\",\"elementid\":\"faab77b7-1d18-4a6b-bdac-6b67c850c55b\",\"modelid\":\"6eec4c1b-c933-4fc6-8f16-023fae9f8f42\",\"notebook_comms_target\":\"a2e72792-c484-45e2-aee2-741264fd17fb\"}];\n",
       "            \n",
       "            Bokeh.embed.embed_items(docs_json, render_items);\n",
       "        });\n",
       "      },\n",
       "      function(Bokeh) {\n",
       "      }\n",
       "    ];\n",
       "  \n",
       "    function run_inline_js() {\n",
       "      for (var i = 0; i < inline_js.length; i++) {\n",
       "        inline_js[i](window.Bokeh);\n",
       "      }\n",
       "    }\n",
       "  \n",
       "    if (window._bokeh_is_loading === 0) {\n",
       "      console.log(\"Bokeh: BokehJS loaded, going straight to plotting\");\n",
       "      run_inline_js();\n",
       "    } else {\n",
       "      load_libs(js_urls, function() {\n",
       "        console.log(\"Bokeh: BokehJS plotting callback run at\", now());\n",
       "        run_inline_js();\n",
       "      });\n",
       "    }\n",
       "  }(this));\n",
       "</script>"
      ]
     },
     "metadata": {},
     "output_type": "display_data"
    },
    {
     "data": {
      "text/html": [
       "<p><code>&lt;Bokeh Notebook handle for <strong>In[40]</strong>&gt;</code></p>"
      ],
      "text/plain": [
       "<bokeh.io._CommsHandle at 0x7ff6b457fd10>"
      ]
     },
     "execution_count": 40,
     "metadata": {},
     "output_type": "execute_result"
    }
   ],
   "source": [
    "plt_obj = dm.superset_yes_no([dm.di_6_1503, dm.di_26_1414], \n",
    "                             [dm.di_7_1760, dm.di_4_1442, dm.di_10_2206,\n",
    "                              dm.di_4_911, dm.di_11_765, di_6_57, di_6_35, di_7_22, di_7_20],\n",
    "                             min_match=0.001)\n",
    "plt = plt_obj.do_plot()\n",
    "show(plt)"
   ]
  },
  {
   "cell_type": "code",
   "execution_count": 41,
   "metadata": {
    "collapsed": false,
    "deletable": true,
    "editable": true
   },
   "outputs": [
    {
     "data": {
      "text/html": [
       "<table>\n",
       "<thead><tr><th style=\"text-align:center\">index</th><th style=\"text-align:center\">first</th><th style=\"text-align:center\">length</th><th style=\"text-align:center\">snps</th><th style=\"text-align:center\" colspan=2>alleles</th><th style=\"text-align:center\" colspan=2>matches</th><th style=\"text-align:center\" colspan=2>afr</th><th style=\"text-align:center\" colspan=2>afx</th><th style=\"text-align:center\" colspan=2>amr</th><th style=\"text-align:center\" colspan=2>eas</th><th style=\"text-align:center\" colspan=2>eur</th><th style=\"text-align:center\" colspan=2>sas</th><th style=\"text-align:center\" colspan=2>sax</th></tr></thead>\n",
       "<tr class=\"even\"><td style=\"text-align: right;\">353462</td><td style=\"text-align: right;\">135,915,358</td><td style=\"text-align: right;\">79,721</td><td style=\"text-align: right;\">4</td><td style=\"text-align: right;\">1699</td><td style=\"text-align: right;\">0.00</td><td style=\"text-align: right;\">2</td><td style=\"text-align: right;\">1.00</td><td style=\"text-align: right;\">1</td><td style=\"text-align: right;\">1.72</td><td style=\"text-align: right;\">0</td><td style=\"text-align: right;\">0.00</td><td style=\"text-align: right;\">0</td><td style=\"text-align: right;\">0.00</td><td style=\"text-align: right;\">0</td><td style=\"text-align: right;\">0.00</td><td style=\"text-align: right;\">0</td><td style=\"text-align: right;\">0.00</td><td style=\"text-align: right;\">1</td><td style=\"text-align: right;\">5.69</td><td style=\"text-align: right;\">0</td><td style=\"text-align: right;\">0.00</td></tr>\n",
       "<tr><td style=\"text-align: right;\">353283</td><td style=\"text-align: right;\">135,771,974</td><td style=\"text-align: right;\">368,330</td><td style=\"text-align: right;\">6</td><td style=\"text-align: right;\">1503</td><td style=\"text-align: right;\">0.00</td><td style=\"text-align: right;\">2</td><td style=\"text-align: right;\">1.00</td><td style=\"text-align: right;\">1</td><td style=\"text-align: right;\">1.72</td><td style=\"text-align: right;\">0</td><td style=\"text-align: right;\">0.00</td><td style=\"text-align: right;\">0</td><td style=\"text-align: right;\">0.00</td><td style=\"text-align: right;\">0</td><td style=\"text-align: right;\">0.00</td><td style=\"text-align: right;\">0</td><td style=\"text-align: right;\">0.00</td><td style=\"text-align: right;\">1</td><td style=\"text-align: right;\">5.69</td><td style=\"text-align: right;\">0</td><td style=\"text-align: right;\">0.00</td></tr>\n",
       "<tr class=\"even\"><td style=\"text-align: right;\">353797</td><td style=\"text-align: right;\">136,398,174</td><td style=\"text-align: right;\">75,924</td><td style=\"text-align: right;\">26</td><td style=\"text-align: right;\">1414</td><td style=\"text-align: right;\">0.00</td><td style=\"text-align: right;\">2</td><td style=\"text-align: right;\">1.00</td><td style=\"text-align: right;\">1</td><td style=\"text-align: right;\">1.72</td><td style=\"text-align: right;\">0</td><td style=\"text-align: right;\">0.00</td><td style=\"text-align: right;\">0</td><td style=\"text-align: right;\">0.00</td><td style=\"text-align: right;\">0</td><td style=\"text-align: right;\">0.00</td><td style=\"text-align: right;\">0</td><td style=\"text-align: right;\">0.00</td><td style=\"text-align: right;\">1</td><td style=\"text-align: right;\">5.69</td><td style=\"text-align: right;\">0</td><td style=\"text-align: right;\">0.00</td></tr>\n",
       "<tr><td style=\"text-align: right;\">353906</td><td style=\"text-align: right;\">136,496,493</td><td style=\"text-align: right;\">57,432</td><td style=\"text-align: right;\">9</td><td style=\"text-align: right;\">1170</td><td style=\"text-align: right;\">0.00</td><td style=\"text-align: right;\">2</td><td style=\"text-align: right;\">1.00</td><td style=\"text-align: right;\">1</td><td style=\"text-align: right;\">1.72</td><td style=\"text-align: right;\">0</td><td style=\"text-align: right;\">0.00</td><td style=\"text-align: right;\">0</td><td style=\"text-align: right;\">0.00</td><td style=\"text-align: right;\">0</td><td style=\"text-align: right;\">0.00</td><td style=\"text-align: right;\">0</td><td style=\"text-align: right;\">0.00</td><td style=\"text-align: right;\">1</td><td style=\"text-align: right;\">5.69</td><td style=\"text-align: right;\">0</td><td style=\"text-align: right;\">0.00</td></tr>\n",
       "<tr class=\"even\"><td style=\"text-align: right;\">353907</td><td style=\"text-align: right;\">136,496,805</td><td style=\"text-align: right;\">55,824</td><td style=\"text-align: right;\">9</td><td style=\"text-align: right;\">1023</td><td style=\"text-align: right;\">0.00</td><td style=\"text-align: right;\">2</td><td style=\"text-align: right;\">1.00</td><td style=\"text-align: right;\">1</td><td style=\"text-align: right;\">1.72</td><td style=\"text-align: right;\">0</td><td style=\"text-align: right;\">0.00</td><td style=\"text-align: right;\">0</td><td style=\"text-align: right;\">0.00</td><td style=\"text-align: right;\">0</td><td style=\"text-align: right;\">0.00</td><td style=\"text-align: right;\">0</td><td style=\"text-align: right;\">0.00</td><td style=\"text-align: right;\">1</td><td style=\"text-align: right;\">5.69</td><td style=\"text-align: right;\">0</td><td style=\"text-align: right;\">0.00</td></tr>\n",
       "<tr><td style=\"text-align: right;\">353984</td><td style=\"text-align: right;\">136,556,805</td><td style=\"text-align: right;\">190,280</td><td style=\"text-align: right;\">39</td><td style=\"text-align: right;\">1014</td><td style=\"text-align: right;\">0.00</td><td style=\"text-align: right;\">2</td><td style=\"text-align: right;\">1.00</td><td style=\"text-align: right;\">1</td><td style=\"text-align: right;\">1.72</td><td style=\"text-align: right;\">0</td><td style=\"text-align: right;\">0.00</td><td style=\"text-align: right;\">0</td><td style=\"text-align: right;\">0.00</td><td style=\"text-align: right;\">0</td><td style=\"text-align: right;\">0.00</td><td style=\"text-align: right;\">0</td><td style=\"text-align: right;\">0.00</td><td style=\"text-align: right;\">1</td><td style=\"text-align: right;\">5.69</td><td style=\"text-align: right;\">0</td><td style=\"text-align: right;\">0.00</td></tr>\n",
       "<tr class=\"even\"><td style=\"text-align: right;\">353935</td><td style=\"text-align: right;\">136,511,874</td><td style=\"text-align: right;\">21,321</td><td style=\"text-align: right;\">5</td><td style=\"text-align: right;\">976</td><td style=\"text-align: right;\">0.00</td><td style=\"text-align: right;\">2</td><td style=\"text-align: right;\">1.00</td><td style=\"text-align: right;\">1</td><td style=\"text-align: right;\">1.72</td><td style=\"text-align: right;\">0</td><td style=\"text-align: right;\">0.00</td><td style=\"text-align: right;\">0</td><td style=\"text-align: right;\">0.00</td><td style=\"text-align: right;\">0</td><td style=\"text-align: right;\">0.00</td><td style=\"text-align: right;\">0</td><td style=\"text-align: right;\">0.00</td><td style=\"text-align: right;\">1</td><td style=\"text-align: right;\">5.69</td><td style=\"text-align: right;\">0</td><td style=\"text-align: right;\">0.00</td></tr>\n",
       "<tr><td style=\"text-align: right;\">353938</td><td style=\"text-align: right;\">136,514,709</td><td style=\"text-align: right;\">28,438</td><td style=\"text-align: right;\">6</td><td style=\"text-align: right;\">820</td><td style=\"text-align: right;\">0.00</td><td style=\"text-align: right;\">2</td><td style=\"text-align: right;\">1.00</td><td style=\"text-align: right;\">1</td><td style=\"text-align: right;\">1.72</td><td style=\"text-align: right;\">0</td><td style=\"text-align: right;\">0.00</td><td style=\"text-align: right;\">0</td><td style=\"text-align: right;\">0.00</td><td style=\"text-align: right;\">0</td><td style=\"text-align: right;\">0.00</td><td style=\"text-align: right;\">0</td><td style=\"text-align: right;\">0.00</td><td style=\"text-align: right;\">1</td><td style=\"text-align: right;\">5.69</td><td style=\"text-align: right;\">0</td><td style=\"text-align: right;\">0.00</td></tr>\n",
       "<tr class=\"even\"><td style=\"text-align: right;\">353922</td><td style=\"text-align: right;\">136,504,541</td><td style=\"text-align: right;\">23,683</td><td style=\"text-align: right;\">4</td><td style=\"text-align: right;\">17</td><td style=\"text-align: right;\">0.06</td><td style=\"text-align: right;\">1</td><td style=\"text-align: right;\">0.50</td><td style=\"text-align: right;\">1</td><td style=\"text-align: right;\">3.43</td><td style=\"text-align: right;\">0</td><td style=\"text-align: right;\">0.00</td><td style=\"text-align: right;\">0</td><td style=\"text-align: right;\">0.00</td><td style=\"text-align: right;\">0</td><td style=\"text-align: right;\">0.00</td><td style=\"text-align: right;\">0</td><td style=\"text-align: right;\">0.00</td><td style=\"text-align: right;\">0</td><td style=\"text-align: right;\">0.00</td><td style=\"text-align: right;\">0</td><td style=\"text-align: right;\">0.00</td></tr>\n",
       "</table>"
      ],
      "text/plain": [
       "<IPython.core.display.HTML object>"
      ]
     },
     "execution_count": 41,
     "metadata": {},
     "output_type": "execute_result"
    }
   ],
   "source": [
    "HTML(plt_obj.get_html())"
   ]
  }
 ],
 "metadata": {
  "kernelspec": {
   "display_name": "Python [Root]",
   "language": "python",
   "name": "Python [Root]"
  },
  "language_info": {
   "codemirror_mode": {
    "name": "ipython",
    "version": 2
   },
   "file_extension": ".py",
   "mimetype": "text/x-python",
   "name": "python",
   "nbconvert_exporter": "python",
   "pygments_lexer": "ipython2",
   "version": "2.7.12"
  }
 },
 "nbformat": 4,
 "nbformat_minor": 0
}
