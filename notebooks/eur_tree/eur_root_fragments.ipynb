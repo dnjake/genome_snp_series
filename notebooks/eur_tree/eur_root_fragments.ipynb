{
 "cells": [
  {
   "cell_type": "code",
   "execution_count": 1,
   "metadata": {
    "collapsed": false,
    "deletable": true,
    "editable": true
   },
   "outputs": [
    {
     "data": {
      "text/html": []
     },
     "metadata": {},
     "output_type": "display_data"
    },
    {
     "data": {
      "application/javascript": [
       "\n",
       "(function(global) {\n",
       "  function now() {\n",
       "    return new Date();\n",
       "  }\n",
       "\n",
       "  if (typeof (window._bokeh_onload_callbacks) === \"undefined\") {\n",
       "    window._bokeh_onload_callbacks = [];\n",
       "  }\n",
       "\n",
       "  function run_callbacks() {\n",
       "    window._bokeh_onload_callbacks.forEach(function(callback) { callback() });\n",
       "    delete window._bokeh_onload_callbacks\n",
       "    console.info(\"Bokeh: all callbacks have finished\");\n",
       "  }\n",
       "\n",
       "  function load_libs(js_urls, callback) {\n",
       "    window._bokeh_onload_callbacks.push(callback);\n",
       "    if (window._bokeh_is_loading > 0) {\n",
       "      console.log(\"Bokeh: BokehJS is being loaded, scheduling callback at\", now());\n",
       "      return null;\n",
       "    }\n",
       "    if (js_urls == null || js_urls.length === 0) {\n",
       "      run_callbacks();\n",
       "      return null;\n",
       "    }\n",
       "    console.log(\"Bokeh: BokehJS not loaded, scheduling load and callback at\", now());\n",
       "    window._bokeh_is_loading = js_urls.length;\n",
       "    for (var i = 0; i < js_urls.length; i++) {\n",
       "      var url = js_urls[i];\n",
       "      var s = document.createElement('script');\n",
       "      s.src = url;\n",
       "      s.async = false;\n",
       "      s.onreadystatechange = s.onload = function() {\n",
       "        window._bokeh_is_loading--;\n",
       "        if (window._bokeh_is_loading === 0) {\n",
       "          console.log(\"Bokeh: all BokehJS libraries loaded\");\n",
       "          run_callbacks()\n",
       "        }\n",
       "      };\n",
       "      s.onerror = function() {\n",
       "        console.warn(\"failed to load library \" + url);\n",
       "      };\n",
       "      console.log(\"Bokeh: injecting script tag for BokehJS library: \", url);\n",
       "      document.getElementsByTagName(\"head\")[0].appendChild(s);\n",
       "    }\n",
       "  };\n",
       "\n",
       "  var js_urls = ['https://cdn.pydata.org/bokeh/release/bokeh-0.12.0.min.js', 'https://cdn.pydata.org/bokeh/release/bokeh-widgets-0.12.0.min.js', 'https://cdn.pydata.org/bokeh/release/bokeh-compiler-0.12.0.min.js'];\n",
       "\n",
       "  var inline_js = [\n",
       "    function(Bokeh) {\n",
       "      Bokeh.set_log_level(\"info\");\n",
       "    },\n",
       "    \n",
       "    function(Bokeh) {\n",
       "      Bokeh.$(\"#7b0c44f9-ddd4-4b42-93d9-f09c8b880706\").text(\"BokehJS successfully loaded\");\n",
       "    },\n",
       "    function(Bokeh) {\n",
       "      console.log(\"Bokeh: injecting CSS: https://cdn.pydata.org/bokeh/release/bokeh-0.12.0.min.css\");\n",
       "      Bokeh.embed.inject_css(\"https://cdn.pydata.org/bokeh/release/bokeh-0.12.0.min.css\");\n",
       "      console.log(\"Bokeh: injecting CSS: https://cdn.pydata.org/bokeh/release/bokeh-widgets-0.12.0.min.css\");\n",
       "      Bokeh.embed.inject_css(\"https://cdn.pydata.org/bokeh/release/bokeh-widgets-0.12.0.min.css\");\n",
       "    }\n",
       "  ];\n",
       "\n",
       "  function run_inline_js() {\n",
       "    for (var i = 0; i < inline_js.length; i++) {\n",
       "      inline_js[i](window.Bokeh);\n",
       "    }\n",
       "  }\n",
       "\n",
       "  if (window._bokeh_is_loading === 0) {\n",
       "    console.log(\"Bokeh: BokehJS loaded, going straight to plotting\");\n",
       "    run_inline_js();\n",
       "  } else {\n",
       "    load_libs(js_urls, function() {\n",
       "      console.log(\"Bokeh: BokehJS plotting callback run at\", now());\n",
       "      run_inline_js();\n",
       "    });\n",
       "  }\n",
       "}(this));"
      ]
     },
     "metadata": {},
     "output_type": "display_data"
    }
   ],
   "source": [
    "import numpy as np\n",
    "from IPython.display import HTML\n",
    "from bokeh.plotting import output_notebook, show\n",
    "import genomes_dnj.lct_interval.series_plots as dm\n",
    "import genomes_dnj.lct_interval.anal_series as an\n",
    "import genomes_dnj.lct_interval_snp_anal.lct_interval_snp_anal as snp_anal\n",
    "import genomes_dnj.lct_interval.series_masks as sm\n",
    "output_notebook(hide_banner=True)\n",
    "sa_64_1575 = snp_anal.series_anal_cls(dm.di_64_1575, sm.series_data)"
   ]
  },
  {
   "cell_type": "markdown",
   "metadata": {},
   "source": [
    "<h3>EUR Root Fragments</h3>\n",
    "<div style=\"width:700px\">\n",
    "<p>\n",
    "The upper 400,000 base region of the EUR tree root includes the series 26_1414, 10_2206, 64_1575, and\n",
    "7_1868.  These 4 series appear to have had an history as a single series of SNPs.  Samples that\n",
    "express 26_1414 without 10_2206 are very uncommon.  But there are a substantial number of samples\n",
    "that express 26_1414 and 10_2206 without 64_1575.  This notebook examines the fragments of\n",
    "the 64_1575 SNPs that are often expressed by these samples in association with 26_1414 and\n",
    "10_2206.\n",
    "<p>\n",
    "This notebook focuses on samples that express the most significant series in the EUR tree root\n",
    "but not any of its descendants.  The first plot shows results for samples selected for the\n",
    "expression of 26_1414 and 6_1503 but not 64_1575.  These criteria identified 38 samples.  All\n",
    "of them expressed both 4_1699 and 10_2206.  None of them come from European populations.\n",
    "The samples from overexpressed populations are the 20 American and the 15 East Asian.\n",
    "</div>"
   ]
  },
  {
   "cell_type": "code",
   "execution_count": 2,
   "metadata": {
    "collapsed": false,
    "deletable": true,
    "editable": true
   },
   "outputs": [
    {
     "data": {
      "text/html": [
       "\n",
       "\n",
       "    <div class=\"bk-root\">\n",
       "        <div class=\"plotdiv\" id=\"765367b0-3fdb-4c87-86f7-4e1f427a0d2e\"></div>\n",
       "    </div>\n",
       "<script type=\"text/javascript\">\n",
       "  \n",
       "  (function(global) {\n",
       "    function now() {\n",
       "      return new Date();\n",
       "    }\n",
       "  \n",
       "    if (typeof (window._bokeh_onload_callbacks) === \"undefined\") {\n",
       "      window._bokeh_onload_callbacks = [];\n",
       "    }\n",
       "  \n",
       "    function run_callbacks() {\n",
       "      window._bokeh_onload_callbacks.forEach(function(callback) { callback() });\n",
       "      delete window._bokeh_onload_callbacks\n",
       "      console.info(\"Bokeh: all callbacks have finished\");\n",
       "    }\n",
       "  \n",
       "    function load_libs(js_urls, callback) {\n",
       "      window._bokeh_onload_callbacks.push(callback);\n",
       "      if (window._bokeh_is_loading > 0) {\n",
       "        console.log(\"Bokeh: BokehJS is being loaded, scheduling callback at\", now());\n",
       "        return null;\n",
       "      }\n",
       "      if (js_urls == null || js_urls.length === 0) {\n",
       "        run_callbacks();\n",
       "        return null;\n",
       "      }\n",
       "      console.log(\"Bokeh: BokehJS not loaded, scheduling load and callback at\", now());\n",
       "      window._bokeh_is_loading = js_urls.length;\n",
       "      for (var i = 0; i < js_urls.length; i++) {\n",
       "        var url = js_urls[i];\n",
       "        var s = document.createElement('script');\n",
       "        s.src = url;\n",
       "        s.async = false;\n",
       "        s.onreadystatechange = s.onload = function() {\n",
       "          window._bokeh_is_loading--;\n",
       "          if (window._bokeh_is_loading === 0) {\n",
       "            console.log(\"Bokeh: all BokehJS libraries loaded\");\n",
       "            run_callbacks()\n",
       "          }\n",
       "        };\n",
       "        s.onerror = function() {\n",
       "          console.warn(\"failed to load library \" + url);\n",
       "        };\n",
       "        console.log(\"Bokeh: injecting script tag for BokehJS library: \", url);\n",
       "        document.getElementsByTagName(\"head\")[0].appendChild(s);\n",
       "      }\n",
       "    };var element = document.getElementById(\"765367b0-3fdb-4c87-86f7-4e1f427a0d2e\");\n",
       "    if (element == null) {\n",
       "      console.log(\"Bokeh: ERROR: autoload.js configured with elementid '765367b0-3fdb-4c87-86f7-4e1f427a0d2e' but no matching script tag was found. \")\n",
       "      return false;\n",
       "    }\n",
       "  \n",
       "    var js_urls = [];\n",
       "  \n",
       "    var inline_js = [\n",
       "      function(Bokeh) {\n",
       "        Bokeh.$(function() {\n",
       "            var docs_json = {\"d9e92481-41ea-4284-a5e2-995108a55be1\":{\"roots\":{\"references\":[{\"attributes\":{\"overlay\":{\"id\":\"4ef29903-6dcc-43aa-b46c-bc38b61a3c04\",\"type\":\"BoxAnnotation\"},\"plot\":{\"id\":\"df9d061b-80bb-4913-809b-bf22c98cfc67\",\"subtype\":\"Figure\",\"type\":\"Plot\"}},\"id\":\"4223b8b6-11f7-4f9f-9562-f3a3e760c2c4\",\"type\":\"BoxZoomTool\"},{\"attributes\":{\"level\":\"glyph\",\"plot\":{\"id\":\"df9d061b-80bb-4913-809b-bf22c98cfc67\",\"subtype\":\"Figure\",\"type\":\"Plot\"},\"source\":{\"id\":\"c2ac78ad-b31f-449d-99c6-e6c8682b3cba\",\"type\":\"ColumnDataSource\"},\"text\":{\"field\":\"vals\"},\"text_align\":\"center\",\"text_baseline\":\"middle\",\"text_font_size\":{\"value\":\"8pt\"},\"x\":{\"field\":\"x\"},\"y\":{\"field\":\"y\"}},\"id\":\"52d029ab-123a-4377-ae02-bf34530299b0\",\"type\":\"LabelSet\"},{\"attributes\":{\"below\":[{\"id\":\"e4f12e85-efc2-4477-beb8-1661e71b034f\",\"type\":\"LinearAxis\"}],\"left\":[{\"id\":\"3eda5487-21e8-40fd-923c-52ca419efbdd\",\"type\":\"LinearAxis\"}],\"plot_height\":300,\"plot_width\":900,\"renderers\":[{\"id\":\"e4f12e85-efc2-4477-beb8-1661e71b034f\",\"type\":\"LinearAxis\"},{\"id\":\"0901f92d-899f-44d9-8b9c-f4fc572b3690\",\"type\":\"Grid\"},{\"id\":\"3eda5487-21e8-40fd-923c-52ca419efbdd\",\"type\":\"LinearAxis\"},{\"id\":\"14b6438b-6f0f-4394-9afa-ab2b9bd999d7\",\"type\":\"Grid\"},{\"id\":\"4ef29903-6dcc-43aa-b46c-bc38b61a3c04\",\"type\":\"BoxAnnotation\"},{\"id\":\"8d9161cb-7120-4cfd-bc04-0fbf5dbf09d6\",\"type\":\"GlyphRenderer\"},{\"id\":\"e04ddd68-9a65-4716-8808-b1ca948c1105\",\"type\":\"GlyphRenderer\"},{\"id\":\"353b6dee-f3b7-4143-989d-2a22a06ab581\",\"type\":\"LabelSet\"},{\"id\":\"8d830659-cc07-4d22-aae4-f6db28081769\",\"type\":\"GlyphRenderer\"},{\"id\":\"52d029ab-123a-4377-ae02-bf34530299b0\",\"type\":\"LabelSet\"}],\"title\":{\"id\":\"b94e0abd-5764-4967-8c48-6030b867b5bf\",\"type\":\"Title\"},\"tool_events\":{\"id\":\"c38e73e4-831a-4f27-baf0-714a8601859c\",\"type\":\"ToolEvents\"},\"toolbar\":{\"id\":\"5a5fb974-d836-40b7-ae9a-091d4ef6b63c\",\"type\":\"Toolbar\"},\"toolbar_location\":null,\"x_range\":{\"id\":\"c8f2d3e7-bc54-4e5e-a0ef-f9971a0b7113\",\"type\":\"Range1d\"},\"y_range\":{\"id\":\"72c3f8fc-294b-4070-a710-43e124b181a1\",\"type\":\"Range1d\"}},\"id\":\"df9d061b-80bb-4913-809b-bf22c98cfc67\",\"subtype\":\"Figure\",\"type\":\"Plot\"},{\"attributes\":{\"active_drag\":\"auto\",\"active_scroll\":\"auto\",\"active_tap\":\"auto\",\"tools\":[{\"id\":\"357fa18b-d159-4e73-8ea4-46348b161e99\",\"type\":\"PanTool\"},{\"id\":\"3e4d024f-f4eb-410b-a0d1-f3b2d6307fb7\",\"type\":\"WheelZoomTool\"},{\"id\":\"4223b8b6-11f7-4f9f-9562-f3a3e760c2c4\",\"type\":\"BoxZoomTool\"},{\"id\":\"237f25fe-13ca-43ef-9a92-5c3c52630ef3\",\"type\":\"SaveTool\"},{\"id\":\"f009eb04-c86a-4cd6-b6e2-959085b2e3e4\",\"type\":\"ResetTool\"},{\"id\":\"48b1db5b-e4b2-4a0f-978f-3ae8dcb62757\",\"type\":\"HelpTool\"}]},\"id\":\"5a5fb974-d836-40b7-ae9a-091d4ef6b63c\",\"type\":\"Toolbar\"},{\"attributes\":{\"plot\":{\"id\":\"df9d061b-80bb-4913-809b-bf22c98cfc67\",\"subtype\":\"Figure\",\"type\":\"Plot\"}},\"id\":\"f009eb04-c86a-4cd6-b6e2-959085b2e3e4\",\"type\":\"ResetTool\"},{\"attributes\":{\"data_source\":{\"id\":\"12342d90-0811-4fa0-8470-ae78ec5121b4\",\"type\":\"ColumnDataSource\"},\"glyph\":{\"id\":\"ad0bbce2-5d93-4428-9c78-e2c872c9da96\",\"type\":\"MultiLine\"},\"hover_glyph\":null,\"nonselection_glyph\":{\"id\":\"594cce2f-4114-401c-bcd6-c8a42dc0de82\",\"type\":\"MultiLine\"},\"selection_glyph\":null},\"id\":\"e04ddd68-9a65-4716-8808-b1ca948c1105\",\"type\":\"GlyphRenderer\"},{\"attributes\":{\"formatter\":{\"id\":\"c8d2fb6f-1711-4ab4-b71f-2d94ade9349d\",\"type\":\"BasicTickFormatter\"},\"plot\":{\"id\":\"df9d061b-80bb-4913-809b-bf22c98cfc67\",\"subtype\":\"Figure\",\"type\":\"Plot\"},\"ticker\":{\"id\":\"c608cc29-fd73-43bb-baf3-df02354b9635\",\"type\":\"BasicTicker\"}},\"id\":\"e4f12e85-efc2-4477-beb8-1661e71b034f\",\"type\":\"LinearAxis\"},{\"attributes\":{\"level\":\"glyph\",\"plot\":{\"id\":\"df9d061b-80bb-4913-809b-bf22c98cfc67\",\"subtype\":\"Figure\",\"type\":\"Plot\"},\"source\":{\"id\":\"22b2b521-48e1-4c79-917e-3ac0de9cc5b9\",\"type\":\"ColumnDataSource\"},\"text\":{\"field\":\"vals\"},\"text_font_size\":{\"value\":\"9pt\"},\"text_font_style\":\"bold\",\"x\":{\"field\":\"x\"},\"y\":{\"field\":\"y\"}},\"id\":\"353b6dee-f3b7-4143-989d-2a22a06ab581\",\"type\":\"LabelSet\"},{\"attributes\":{\"bottom\":{\"field\":\"bottom\"},\"fill_alpha\":{\"value\":0.1},\"fill_color\":{\"value\":\"#1f77b4\"},\"left\":{\"field\":\"left\"},\"line_alpha\":{\"value\":0.1},\"line_color\":{\"value\":\"#1f77b4\"},\"right\":{\"field\":\"right\"},\"top\":{\"field\":\"top\"}},\"id\":\"2206b48b-197d-4813-8976-640ebdd472e9\",\"type\":\"Quad\"},{\"attributes\":{\"plot\":null,\"text\":null},\"id\":\"b94e0abd-5764-4967-8c48-6030b867b5bf\",\"type\":\"Title\"},{\"attributes\":{\"bottom\":{\"field\":\"bottom\"},\"fill_color\":{\"field\":\"fill_color\"},\"left\":{\"field\":\"left\"},\"line_color\":{\"value\":null},\"right\":{\"field\":\"right\"},\"top\":{\"field\":\"top\"}},\"id\":\"f8b37248-e794-4e92-a7d6-6782c44ad922\",\"type\":\"Quad\"},{\"attributes\":{\"bottom\":{\"field\":\"bottom\"},\"fill_alpha\":{\"value\":0.1},\"fill_color\":{\"value\":\"#1f77b4\"},\"left\":{\"field\":\"left\"},\"line_alpha\":{\"value\":0.1},\"line_color\":{\"value\":\"#1f77b4\"},\"right\":{\"field\":\"right\"},\"top\":{\"field\":\"top\"}},\"id\":\"5cc22991-d2ef-430f-9312-7e145a6d7745\",\"type\":\"Quad\"},{\"attributes\":{\"data_source\":{\"id\":\"1766e391-ee8a-40b6-8ab5-2125efcbd739\",\"type\":\"ColumnDataSource\"},\"glyph\":{\"id\":\"f8b37248-e794-4e92-a7d6-6782c44ad922\",\"type\":\"Quad\"},\"hover_glyph\":null,\"nonselection_glyph\":{\"id\":\"5cc22991-d2ef-430f-9312-7e145a6d7745\",\"type\":\"Quad\"},\"selection_glyph\":null},\"id\":\"8d9161cb-7120-4cfd-bc04-0fbf5dbf09d6\",\"type\":\"GlyphRenderer\"},{\"attributes\":{\"callback\":null,\"column_names\":[\"xs\",\"ys\",\"line_color\"],\"data\":{\"line_color\":[\"black\",\"black\",\"black\",\"black\",\"black\",\"black\",\"black\",\"black\",\"black\",\"black\",\"black\",\"black\",\"black\",\"black\",\"black\",\"black\",\"black\",\"black\",\"black\",\"black\",\"black\",\"black\",\"black\",\"black\",\"black\",\"black\",\"black\",\"black\",\"black\",\"black\",\"black\",\"black\",\"black\",\"black\",\"black\",\"black\",\"black\",\"black\",\"black\",\"black\",\"black\",\"black\",\"black\",\"black\",\"black\",\"black\"],\"xs\":[[135771974,135771974],[135859371,135859371],[135877562,135877562],[136022798,136022798],[136058820,136058820],[136140304,136140304],[135915358,135915358],[135954405,135954405],[135995073,135995073],[135995079,135995079],[136398174,136398174],[136402117,136402117],[136403749,136403749],[136409073,136409073],[136410299,136410299],[136413359,136413359],[136416855,136416855],[136416941,136416941],[136418348,136418348],[136419961,136419961],[136420690,136420690],[136422171,136422171],[136428460,136428460],[136430866,136430866],[136432103,136432103],[136437507,136437507],[136439090,136439090],[136439517,136439517],[136444123,136444123],[136445526,136445526],[136445869,136445869],[136455600,136455600],[136456642,136456642],[136462441,136462441],[136470714,136470714],[136474098,136474098],[136501840,136501840],[136505546,136505546],[136516748,136516748],[136522710,136522710],[136528004,136528004],[136539513,136539513],[136544752,136544752],[136546110,136546110],[136553529,136553529],[136555659,136555659]],\"ys\":[[50,95],[50,95],[50,95],[50,95],[50,95],[50,95],[150,196],[150,196],[150,196],[150,196],[50,94],[50,94],[50,94],[50,94],[50,94],[50,94],[50,94],[50,94],[50,94],[50,94],[50,94],[50,94],[50,94],[50,94],[50,94],[50,94],[50,94],[50,94],[50,94],[50,94],[50,94],[50,94],[50,94],[50,94],[50,94],[50,94],[150,198],[150,198],[150,198],[150,198],[150,198],[150,198],[150,198],[150,198],[150,198],[150,198]]}},\"id\":\"12342d90-0811-4fa0-8470-ae78ec5121b4\",\"type\":\"ColumnDataSource\"},{\"attributes\":{\"callback\":null,\"column_names\":[\"right\",\"bottom\",\"top\",\"left\",\"fill_color\"],\"data\":{\"bottom\":[50,150,50,150],\"fill_color\":[\"#61c461\",\"#61c461\",\"#61c461\",\"#808080\"],\"left\":[135771974,135915358,136398174,136501840],\"right\":[136140304,135995079,136474098,136555659],\"top\":[95,196,94,198]}},\"id\":\"1766e391-ee8a-40b6-8ab5-2125efcbd739\",\"type\":\"ColumnDataSource\"},{\"attributes\":{},\"id\":\"c38e73e4-831a-4f27-baf0-714a8601859c\",\"type\":\"ToolEvents\"},{\"attributes\":{\"plot\":{\"id\":\"df9d061b-80bb-4913-809b-bf22c98cfc67\",\"subtype\":\"Figure\",\"type\":\"Plot\"}},\"id\":\"357fa18b-d159-4e73-8ea4-46348b161e99\",\"type\":\"PanTool\"},{\"attributes\":{},\"id\":\"c8d2fb6f-1711-4ab4-b71f-2d94ade9349d\",\"type\":\"BasicTickFormatter\"},{\"attributes\":{\"plot\":{\"id\":\"df9d061b-80bb-4913-809b-bf22c98cfc67\",\"subtype\":\"Figure\",\"type\":\"Plot\"},\"ticker\":{\"id\":\"c608cc29-fd73-43bb-baf3-df02354b9635\",\"type\":\"BasicTicker\"}},\"id\":\"0901f92d-899f-44d9-8b9c-f4fc572b3690\",\"type\":\"Grid\"},{\"attributes\":{\"plot\":{\"id\":\"df9d061b-80bb-4913-809b-bf22c98cfc67\",\"subtype\":\"Figure\",\"type\":\"Plot\"}},\"id\":\"237f25fe-13ca-43ef-9a92-5c3c52630ef3\",\"type\":\"SaveTool\"},{\"attributes\":{\"formatter\":{\"id\":\"c2b86f92-e409-4285-b7d9-915822d4efc6\",\"type\":\"BasicTickFormatter\"},\"plot\":{\"id\":\"df9d061b-80bb-4913-809b-bf22c98cfc67\",\"subtype\":\"Figure\",\"type\":\"Plot\"},\"ticker\":{\"id\":\"ea50ba36-1f45-4452-81e5-b8e6e7a1234c\",\"type\":\"BasicTicker\"},\"visible\":null},\"id\":\"3eda5487-21e8-40fd-923c-52ca419efbdd\",\"type\":\"LinearAxis\"},{\"attributes\":{\"line_color\":{\"field\":\"line_color\"},\"xs\":{\"field\":\"xs\"},\"ys\":{\"field\":\"ys\"}},\"id\":\"ad0bbce2-5d93-4428-9c78-e2c872c9da96\",\"type\":\"MultiLine\"},{\"attributes\":{\"callback\":null,\"column_names\":[\"y\",\"x\",\"vals\"],\"data\":{\"vals\":[\"RAB3GAP1\",\"ZRANB3\",\"R3HDM1\",\"UBXN4\",\"LCT\",\"MCM6\",\"DARS\"],\"x\":[135869057.0,136122878.0,136385961.0,136520911.0,136570082.5,136615621.5,136703738.0],\"y\":[260.0,260.0,260.0,260.0,260.0,260.0,260.0]}},\"id\":\"c2ac78ad-b31f-449d-99c6-e6c8682b3cba\",\"type\":\"ColumnDataSource\"},{\"attributes\":{\"plot\":{\"id\":\"df9d061b-80bb-4913-809b-bf22c98cfc67\",\"subtype\":\"Figure\",\"type\":\"Plot\"}},\"id\":\"3e4d024f-f4eb-410b-a0d1-f3b2d6307fb7\",\"type\":\"WheelZoomTool\"},{\"attributes\":{\"dimension\":1,\"plot\":{\"id\":\"df9d061b-80bb-4913-809b-bf22c98cfc67\",\"subtype\":\"Figure\",\"type\":\"Plot\"},\"ticker\":{\"id\":\"ea50ba36-1f45-4452-81e5-b8e6e7a1234c\",\"type\":\"BasicTicker\"}},\"id\":\"14b6438b-6f0f-4394-9afa-ab2b9bd999d7\",\"type\":\"Grid\"},{\"attributes\":{},\"id\":\"c608cc29-fd73-43bb-baf3-df02354b9635\",\"type\":\"BasicTicker\"},{\"attributes\":{\"bottom\":{\"field\":\"bottom\"},\"fill_color\":{\"value\":\"white\"},\"left\":{\"field\":\"left\"},\"right\":{\"field\":\"right\"},\"top\":{\"field\":\"top\"}},\"id\":\"713ce002-67a1-4303-aa0b-9dbd57b960ee\",\"type\":\"Quad\"},{\"attributes\":{},\"id\":\"ea50ba36-1f45-4452-81e5-b8e6e7a1234c\",\"type\":\"BasicTicker\"},{\"attributes\":{\"data_source\":{\"id\":\"c9f9eaab-05eb-4063-b6db-4dd4fc6358cd\",\"type\":\"ColumnDataSource\"},\"glyph\":{\"id\":\"713ce002-67a1-4303-aa0b-9dbd57b960ee\",\"type\":\"Quad\"},\"hover_glyph\":null,\"nonselection_glyph\":{\"id\":\"2206b48b-197d-4813-8976-640ebdd472e9\",\"type\":\"Quad\"},\"selection_glyph\":null},\"id\":\"8d830659-cc07-4d22-aae4-f6db28081769\",\"type\":\"GlyphRenderer\"},{\"attributes\":{\"callback\":null,\"column_names\":[\"right\",\"bottom\",\"top\",\"left\"],\"data\":{\"bottom\":[245,245,245,245,245,245,245],\"left\":[135809835,135957574,136289083,136499189,136545415,136597196,136664254],\"right\":[135928279,136288182,136482839,136542633,136594750,136634047,136743222],\"top\":[275,275,275,275,275,275,275]}},\"id\":\"c9f9eaab-05eb-4063-b6db-4dd4fc6358cd\",\"type\":\"ColumnDataSource\"},{\"attributes\":{\"callback\":null,\"end\":300},\"id\":\"72c3f8fc-294b-4070-a710-43e124b181a1\",\"type\":\"Range1d\"},{\"attributes\":{},\"id\":\"c2b86f92-e409-4285-b7d9-915822d4efc6\",\"type\":\"BasicTickFormatter\"},{\"attributes\":{\"bottom_units\":\"screen\",\"fill_alpha\":{\"value\":0.5},\"fill_color\":{\"value\":\"lightgrey\"},\"left_units\":\"screen\",\"level\":\"overlay\",\"line_alpha\":{\"value\":1.0},\"line_color\":{\"value\":\"black\"},\"line_dash\":[4,4],\"line_width\":{\"value\":2},\"plot\":null,\"render_mode\":\"css\",\"right_units\":\"screen\",\"top_units\":\"screen\"},\"id\":\"4ef29903-6dcc-43aa-b46c-bc38b61a3c04\",\"type\":\"BoxAnnotation\"},{\"attributes\":{\"callback\":null,\"end\":136786630,\"start\":135757320},\"id\":\"c8f2d3e7-bc54-4e5e-a0ef-f9971a0b7113\",\"type\":\"Range1d\"},{\"attributes\":{\"callback\":null,\"column_names\":[\"y\",\"x\",\"vals\"],\"data\":{\"vals\":[\"6_1503\",\"4_1699\",\"26_1414\",\"10_2206\"],\"x\":[135771974,135915358,136398174,136501840],\"y\":[100.0,201.0,99.0,203.0]}},\"id\":\"22b2b521-48e1-4c79-917e-3ac0de9cc5b9\",\"type\":\"ColumnDataSource\"},{\"attributes\":{\"plot\":{\"id\":\"df9d061b-80bb-4913-809b-bf22c98cfc67\",\"subtype\":\"Figure\",\"type\":\"Plot\"}},\"id\":\"48b1db5b-e4b2-4a0f-978f-3ae8dcb62757\",\"type\":\"HelpTool\"},{\"attributes\":{\"line_alpha\":{\"value\":0.1},\"line_color\":{\"value\":\"#1f77b4\"},\"xs\":{\"field\":\"xs\"},\"ys\":{\"field\":\"ys\"}},\"id\":\"594cce2f-4114-401c-bcd6-c8a42dc0de82\",\"type\":\"MultiLine\"}],\"root_ids\":[\"df9d061b-80bb-4913-809b-bf22c98cfc67\"]},\"title\":\"Bokeh Application\",\"version\":\"0.12.0\"}};\n",
       "            var render_items = [{\"docid\":\"d9e92481-41ea-4284-a5e2-995108a55be1\",\"elementid\":\"765367b0-3fdb-4c87-86f7-4e1f427a0d2e\",\"modelid\":\"df9d061b-80bb-4913-809b-bf22c98cfc67\",\"notebook_comms_target\":\"ad5182a4-a72a-4a5c-a7cf-6b01f3fba94e\"}];\n",
       "            \n",
       "            Bokeh.embed.embed_items(docs_json, render_items);\n",
       "        });\n",
       "      },\n",
       "      function(Bokeh) {\n",
       "      }\n",
       "    ];\n",
       "  \n",
       "    function run_inline_js() {\n",
       "      for (var i = 0; i < inline_js.length; i++) {\n",
       "        inline_js[i](window.Bokeh);\n",
       "      }\n",
       "    }\n",
       "  \n",
       "    if (window._bokeh_is_loading === 0) {\n",
       "      console.log(\"Bokeh: BokehJS loaded, going straight to plotting\");\n",
       "      run_inline_js();\n",
       "    } else {\n",
       "      load_libs(js_urls, function() {\n",
       "        console.log(\"Bokeh: BokehJS plotting callback run at\", now());\n",
       "        run_inline_js();\n",
       "      });\n",
       "    }\n",
       "  }(this));\n",
       "</script>"
      ]
     },
     "metadata": {},
     "output_type": "display_data"
    },
    {
     "data": {
      "text/html": [
       "<p><code>&lt;Bokeh Notebook handle for <strong>In[2]</strong>&gt;</code></p>"
      ],
      "text/plain": [
       "<bokeh.io._CommsHandle at 0x7fab101cc4d0>"
      ]
     },
     "execution_count": 2,
     "metadata": {},
     "output_type": "execute_result"
    }
   ],
   "source": [
    "plt_obj = dm.superset_basis_yes_no(dm.di_26_1414, [dm.di_6_1503], [dm.di_64_1575], min_match=0.1)\n",
    "plt = plt_obj.do_plot()\n",
    "am_not_64_1575 = plt_obj.plot_context.yes_allele_mask\n",
    "show(plt)"
   ]
  },
  {
   "cell_type": "code",
   "execution_count": 3,
   "metadata": {
    "collapsed": false,
    "deletable": true,
    "editable": true
   },
   "outputs": [
    {
     "data": {
      "text/html": [
       "<table>\n",
       "<thead><tr><th style=\"text-align:center\">index</th><th style=\"text-align:center\">first</th><th style=\"text-align:center\">length</th><th style=\"text-align:center\">snps</th><th style=\"text-align:center\" colspan=2>alleles</th><th style=\"text-align:center\" colspan=2>matches</th><th style=\"text-align:center\" colspan=2>afr</th><th style=\"text-align:center\" colspan=2>afx</th><th style=\"text-align:center\" colspan=2>amr</th><th style=\"text-align:center\" colspan=2>eas</th><th style=\"text-align:center\" colspan=2>eur</th><th style=\"text-align:center\" colspan=2>sas</th><th style=\"text-align:center\" colspan=2>sax</th></tr></thead>\n",
       "<tr class=\"even\"><td style=\"text-align: right;\">353921</td><td style=\"text-align: right;\">136,501,840</td><td style=\"text-align: right;\">53,819</td><td style=\"text-align: right;\">10</td><td style=\"text-align: right;\">2206</td><td style=\"text-align: right;\">0.02</td><td style=\"text-align: right;\">38</td><td style=\"text-align: right;\">1.00</td><td style=\"text-align: right;\">0</td><td style=\"text-align: right;\">0.00</td><td style=\"text-align: right;\">1</td><td style=\"text-align: right;\">0.42</td><td style=\"text-align: right;\">20</td><td style=\"text-align: right;\">3.80</td><td style=\"text-align: right;\">15</td><td style=\"text-align: right;\">1.96</td><td style=\"text-align: right;\">0</td><td style=\"text-align: right;\">0.00</td><td style=\"text-align: right;\">1</td><td style=\"text-align: right;\">0.36</td><td style=\"text-align: right;\">1</td><td style=\"text-align: right;\">0.21</td></tr>\n",
       "<tr><td style=\"text-align: right;\">353462</td><td style=\"text-align: right;\">135,915,358</td><td style=\"text-align: right;\">79,721</td><td style=\"text-align: right;\">4</td><td style=\"text-align: right;\">1699</td><td style=\"text-align: right;\">0.02</td><td style=\"text-align: right;\">38</td><td style=\"text-align: right;\">1.00</td><td style=\"text-align: right;\">0</td><td style=\"text-align: right;\">0.00</td><td style=\"text-align: right;\">1</td><td style=\"text-align: right;\">0.42</td><td style=\"text-align: right;\">20</td><td style=\"text-align: right;\">3.80</td><td style=\"text-align: right;\">15</td><td style=\"text-align: right;\">1.96</td><td style=\"text-align: right;\">0</td><td style=\"text-align: right;\">0.00</td><td style=\"text-align: right;\">1</td><td style=\"text-align: right;\">0.36</td><td style=\"text-align: right;\">1</td><td style=\"text-align: right;\">0.21</td></tr>\n",
       "<tr class=\"even\"><td style=\"text-align: right;\">353283</td><td style=\"text-align: right;\">135,771,974</td><td style=\"text-align: right;\">368,330</td><td style=\"text-align: right;\">6</td><td style=\"text-align: right;\">1503</td><td style=\"text-align: right;\">0.03</td><td style=\"text-align: right;\">38</td><td style=\"text-align: right;\">1.00</td><td style=\"text-align: right;\">0</td><td style=\"text-align: right;\">0.00</td><td style=\"text-align: right;\">1</td><td style=\"text-align: right;\">0.42</td><td style=\"text-align: right;\">20</td><td style=\"text-align: right;\">3.80</td><td style=\"text-align: right;\">15</td><td style=\"text-align: right;\">1.96</td><td style=\"text-align: right;\">0</td><td style=\"text-align: right;\">0.00</td><td style=\"text-align: right;\">1</td><td style=\"text-align: right;\">0.36</td><td style=\"text-align: right;\">1</td><td style=\"text-align: right;\">0.21</td></tr>\n",
       "<tr><td style=\"text-align: right;\">353797</td><td style=\"text-align: right;\">136,398,174</td><td style=\"text-align: right;\">75,924</td><td style=\"text-align: right;\">26</td><td style=\"text-align: right;\">1414</td><td style=\"text-align: right;\">0.03</td><td style=\"text-align: right;\">38</td><td style=\"text-align: right;\">1.00</td><td style=\"text-align: right;\">0</td><td style=\"text-align: right;\">0.00</td><td style=\"text-align: right;\">1</td><td style=\"text-align: right;\">0.42</td><td style=\"text-align: right;\">20</td><td style=\"text-align: right;\">3.80</td><td style=\"text-align: right;\">15</td><td style=\"text-align: right;\">1.96</td><td style=\"text-align: right;\">0</td><td style=\"text-align: right;\">0.00</td><td style=\"text-align: right;\">1</td><td style=\"text-align: right;\">0.36</td><td style=\"text-align: right;\">1</td><td style=\"text-align: right;\">0.21</td></tr>\n",
       "</table>"
      ],
      "text/plain": [
       "<IPython.core.display.HTML object>"
      ]
     },
     "execution_count": 3,
     "metadata": {},
     "output_type": "execute_result"
    }
   ],
   "source": [
    "HTML(plt_obj.get_html())"
   ]
  },
  {
   "cell_type": "markdown",
   "metadata": {},
   "source": [
    "<div style=\"width:700px\">\n",
    "<p>\n",
    "The count data below shows the number of samples among the 38 identified above\n",
    "that expressed different numbers of SNPs from the series 64_1575.\n",
    "</div>"
   ]
  },
  {
   "cell_type": "code",
   "execution_count": 4,
   "metadata": {
    "collapsed": false,
    "deletable": true,
    "editable": true
   },
   "outputs": [
    {
     "data": {
      "text/plain": [
       "array([(30, 1), (31, 28), (32, 4), (37, 1), (39, 1), (40, 2), (57, 1)], \n",
       "      dtype=[('count', '<u2'), ('snps', '<u2')])"
      ]
     },
     "execution_count": 4,
     "metadata": {},
     "output_type": "execute_result"
    }
   ],
   "source": [
    "count_data = sa_64_1575.unique_snps_per_allele(am_not_64_1575)\n",
    "count_data"
   ]
  },
  {
   "cell_type": "markdown",
   "metadata": {},
   "source": [
    "<div style=\"width:700px\">\n",
    "<p>\n",
    "The array below shows the number of the 38 samples that express each of 64 SNPs\n",
    "in the series 64_1575.  The first 30 SNPs in 64_1575 are expressed by all 38 samples.\n",
    "</div>"
   ]
  },
  {
   "cell_type": "code",
   "execution_count": 5,
   "metadata": {
    "collapsed": false,
    "deletable": true,
    "editable": true
   },
   "outputs": [
    {
     "data": {
      "text/plain": [
       "array([38, 38, 38, 38, 38, 38, 38, 38, 38, 38, 38, 38, 38, 38, 38, 38, 38,\n",
       "       38, 38, 38, 38, 38, 38, 38, 38, 38, 38, 38, 38, 38, 37,  3,  7,  3,\n",
       "        3,  3,  3,  3,  3,  3,  1,  1,  1,  1,  1,  1,  1,  1,  1,  1,  1,\n",
       "        2,  1,  1,  1,  1,  1,  1,  2,  2,  2,  2,  2,  2])"
      ]
     },
     "execution_count": 5,
     "metadata": {},
     "output_type": "execute_result"
    }
   ],
   "source": [
    "sa_64_1575.alleles_per_snp(am_not_64_1575)"
   ]
  },
  {
   "cell_type": "markdown",
   "metadata": {},
   "source": [
    "<div style=\"width:700px\">\n",
    "<p>\n",
    "The most common case identified above is the 38 samples that express 31 series\n",
    "64_1575 SNPs.  The data below shows that all of these samples express the first\n",
    "31 64_1575 SNPs.  This pattern fits a single recombination event.  None of these\n",
    "28 chromosomes express any series in the region beyond the common association of\n",
    "6_1503, 4_1699, 26_1414, and 10_2206.\n",
    "</div>"
   ]
  },
  {
   "cell_type": "code",
   "execution_count": 6,
   "metadata": {
    "collapsed": false,
    "deletable": true,
    "editable": true
   },
   "outputs": [
    {
     "data": {
      "text/plain": [
       "array([28, 28, 28, 28, 28, 28, 28, 28, 28, 28, 28, 28, 28, 28, 28, 28, 28,\n",
       "       28, 28, 28, 28, 28, 28, 28, 28, 28, 28, 28, 28, 28, 28,  0,  0,  0,\n",
       "        0,  0,  0,  0,  0,  0,  0,  0,  0,  0,  0,  0,  0,  0,  0,  0,  0,\n",
       "        0,  0,  0,  0,  0,  0,  0,  0,  0,  0,  0,  0,  0])"
      ]
     },
     "execution_count": 6,
     "metadata": {},
     "output_type": "execute_result"
    }
   ],
   "source": [
    "aps_31, am_31 = sa_64_1575.snps_from_aps_value(31, am_not_64_1575)\n",
    "aps_31"
   ]
  },
  {
   "cell_type": "code",
   "execution_count": 7,
   "metadata": {
    "collapsed": false,
    "deletable": true,
    "editable": true
   },
   "outputs": [
    {
     "data": {
      "text/html": [
       "\n",
       "\n",
       "    <div class=\"bk-root\">\n",
       "        <div class=\"plotdiv\" id=\"5d7277b5-d34b-4491-894b-989a19af55ed\"></div>\n",
       "    </div>\n",
       "<script type=\"text/javascript\">\n",
       "  \n",
       "  (function(global) {\n",
       "    function now() {\n",
       "      return new Date();\n",
       "    }\n",
       "  \n",
       "    if (typeof (window._bokeh_onload_callbacks) === \"undefined\") {\n",
       "      window._bokeh_onload_callbacks = [];\n",
       "    }\n",
       "  \n",
       "    function run_callbacks() {\n",
       "      window._bokeh_onload_callbacks.forEach(function(callback) { callback() });\n",
       "      delete window._bokeh_onload_callbacks\n",
       "      console.info(\"Bokeh: all callbacks have finished\");\n",
       "    }\n",
       "  \n",
       "    function load_libs(js_urls, callback) {\n",
       "      window._bokeh_onload_callbacks.push(callback);\n",
       "      if (window._bokeh_is_loading > 0) {\n",
       "        console.log(\"Bokeh: BokehJS is being loaded, scheduling callback at\", now());\n",
       "        return null;\n",
       "      }\n",
       "      if (js_urls == null || js_urls.length === 0) {\n",
       "        run_callbacks();\n",
       "        return null;\n",
       "      }\n",
       "      console.log(\"Bokeh: BokehJS not loaded, scheduling load and callback at\", now());\n",
       "      window._bokeh_is_loading = js_urls.length;\n",
       "      for (var i = 0; i < js_urls.length; i++) {\n",
       "        var url = js_urls[i];\n",
       "        var s = document.createElement('script');\n",
       "        s.src = url;\n",
       "        s.async = false;\n",
       "        s.onreadystatechange = s.onload = function() {\n",
       "          window._bokeh_is_loading--;\n",
       "          if (window._bokeh_is_loading === 0) {\n",
       "            console.log(\"Bokeh: all BokehJS libraries loaded\");\n",
       "            run_callbacks()\n",
       "          }\n",
       "        };\n",
       "        s.onerror = function() {\n",
       "          console.warn(\"failed to load library \" + url);\n",
       "        };\n",
       "        console.log(\"Bokeh: injecting script tag for BokehJS library: \", url);\n",
       "        document.getElementsByTagName(\"head\")[0].appendChild(s);\n",
       "      }\n",
       "    };var element = document.getElementById(\"5d7277b5-d34b-4491-894b-989a19af55ed\");\n",
       "    if (element == null) {\n",
       "      console.log(\"Bokeh: ERROR: autoload.js configured with elementid '5d7277b5-d34b-4491-894b-989a19af55ed' but no matching script tag was found. \")\n",
       "      return false;\n",
       "    }\n",
       "  \n",
       "    var js_urls = [];\n",
       "  \n",
       "    var inline_js = [\n",
       "      function(Bokeh) {\n",
       "        Bokeh.$(function() {\n",
       "            var docs_json = {\"10783fae-e1e9-4eed-860b-d75e24821560\":{\"roots\":{\"references\":[{\"attributes\":{\"callback\":null,\"column_names\":[\"right\",\"bottom\",\"top\",\"left\",\"fill_color\"],\"data\":{\"bottom\":[50,150,50,150],\"fill_color\":[\"#61c461\",\"#61c461\",\"#61c461\",\"#808080\"],\"left\":[135771974,135915358,136398174,136501840],\"right\":[136140304,135995079,136474098,136555659],\"top\":[95,196,94,198]}},\"id\":\"6b7497d1-ca77-4459-8000-602220ca11df\",\"type\":\"ColumnDataSource\"},{\"attributes\":{\"bottom\":{\"field\":\"bottom\"},\"fill_alpha\":{\"value\":0.1},\"fill_color\":{\"value\":\"#1f77b4\"},\"left\":{\"field\":\"left\"},\"line_alpha\":{\"value\":0.1},\"line_color\":{\"value\":\"#1f77b4\"},\"right\":{\"field\":\"right\"},\"top\":{\"field\":\"top\"}},\"id\":\"6db62165-3327-4fe3-a859-9ac500ce1c1f\",\"type\":\"Quad\"},{\"attributes\":{\"overlay\":{\"id\":\"3733f891-578b-43fc-8197-01e832a30e49\",\"type\":\"BoxAnnotation\"},\"plot\":{\"id\":\"a70f0fd5-35e6-4877-b0ee-e7c837a552bf\",\"subtype\":\"Figure\",\"type\":\"Plot\"}},\"id\":\"cdc36448-e6c8-4d31-8dc7-369cb6b2621e\",\"type\":\"BoxZoomTool\"},{\"attributes\":{\"dimension\":1,\"plot\":{\"id\":\"a70f0fd5-35e6-4877-b0ee-e7c837a552bf\",\"subtype\":\"Figure\",\"type\":\"Plot\"},\"ticker\":{\"id\":\"5c35288a-ce9a-4c24-b6e3-a1d0d75f1315\",\"type\":\"BasicTicker\"}},\"id\":\"c8c30f3b-be84-4af3-953e-1231ac6573ee\",\"type\":\"Grid\"},{\"attributes\":{\"plot\":{\"id\":\"a70f0fd5-35e6-4877-b0ee-e7c837a552bf\",\"subtype\":\"Figure\",\"type\":\"Plot\"},\"ticker\":{\"id\":\"1bc79231-d24e-4d00-a43d-31c9ddbb21bd\",\"type\":\"BasicTicker\"}},\"id\":\"842490d0-2427-43ec-9dc6-70a4ae6d3251\",\"type\":\"Grid\"},{\"attributes\":{},\"id\":\"fc4206a8-75fe-4c3e-b214-8dc4041422b8\",\"type\":\"BasicTickFormatter\"},{\"attributes\":{\"below\":[{\"id\":\"a75c3286-693a-406b-9988-e9959c72add3\",\"type\":\"LinearAxis\"}],\"left\":[{\"id\":\"46f4eb99-12b8-4f6e-9383-c6f44aaa7ea1\",\"type\":\"LinearAxis\"}],\"plot_height\":300,\"plot_width\":900,\"renderers\":[{\"id\":\"a75c3286-693a-406b-9988-e9959c72add3\",\"type\":\"LinearAxis\"},{\"id\":\"842490d0-2427-43ec-9dc6-70a4ae6d3251\",\"type\":\"Grid\"},{\"id\":\"46f4eb99-12b8-4f6e-9383-c6f44aaa7ea1\",\"type\":\"LinearAxis\"},{\"id\":\"c8c30f3b-be84-4af3-953e-1231ac6573ee\",\"type\":\"Grid\"},{\"id\":\"3733f891-578b-43fc-8197-01e832a30e49\",\"type\":\"BoxAnnotation\"},{\"id\":\"bef6117f-0f34-4609-8006-4a47338b1f8b\",\"type\":\"GlyphRenderer\"},{\"id\":\"e6ccff83-59bb-4c2f-b07b-bb0805080bb1\",\"type\":\"GlyphRenderer\"},{\"id\":\"ac63eb0a-92ac-44c4-91ea-855fc2ca354e\",\"type\":\"LabelSet\"},{\"id\":\"c8b98698-8f6a-4f91-a33a-350e26bd15dd\",\"type\":\"GlyphRenderer\"},{\"id\":\"ac7071e8-d54b-4d03-9268-f904fb997056\",\"type\":\"LabelSet\"}],\"title\":{\"id\":\"64d73602-6cae-4cd4-a330-3033c8bbc548\",\"type\":\"Title\"},\"tool_events\":{\"id\":\"c878fcdb-b1ba-467d-b15c-45d95545fafc\",\"type\":\"ToolEvents\"},\"toolbar\":{\"id\":\"5bdfa421-c642-4c6c-bb70-f3bb062854a6\",\"type\":\"Toolbar\"},\"toolbar_location\":null,\"x_range\":{\"id\":\"cac286f7-bf22-4863-be1b-90d963fdaa57\",\"type\":\"Range1d\"},\"y_range\":{\"id\":\"92782459-bb4f-4ca5-89ba-ca97e2d59a4b\",\"type\":\"Range1d\"}},\"id\":\"a70f0fd5-35e6-4877-b0ee-e7c837a552bf\",\"subtype\":\"Figure\",\"type\":\"Plot\"},{\"attributes\":{\"data_source\":{\"id\":\"6b7497d1-ca77-4459-8000-602220ca11df\",\"type\":\"ColumnDataSource\"},\"glyph\":{\"id\":\"08bee092-fdf9-4447-b4b2-bf2c10e0d650\",\"type\":\"Quad\"},\"hover_glyph\":null,\"nonselection_glyph\":{\"id\":\"6db62165-3327-4fe3-a859-9ac500ce1c1f\",\"type\":\"Quad\"},\"selection_glyph\":null},\"id\":\"bef6117f-0f34-4609-8006-4a47338b1f8b\",\"type\":\"GlyphRenderer\"},{\"attributes\":{\"plot\":{\"id\":\"a70f0fd5-35e6-4877-b0ee-e7c837a552bf\",\"subtype\":\"Figure\",\"type\":\"Plot\"}},\"id\":\"e77130c7-e904-410f-9834-81c11657536f\",\"type\":\"ResetTool\"},{\"attributes\":{\"bottom_units\":\"screen\",\"fill_alpha\":{\"value\":0.5},\"fill_color\":{\"value\":\"lightgrey\"},\"left_units\":\"screen\",\"level\":\"overlay\",\"line_alpha\":{\"value\":1.0},\"line_color\":{\"value\":\"black\"},\"line_dash\":[4,4],\"line_width\":{\"value\":2},\"plot\":null,\"render_mode\":\"css\",\"right_units\":\"screen\",\"top_units\":\"screen\"},\"id\":\"3733f891-578b-43fc-8197-01e832a30e49\",\"type\":\"BoxAnnotation\"},{\"attributes\":{\"bottom\":{\"field\":\"bottom\"},\"fill_color\":{\"field\":\"fill_color\"},\"left\":{\"field\":\"left\"},\"line_color\":{\"value\":null},\"right\":{\"field\":\"right\"},\"top\":{\"field\":\"top\"}},\"id\":\"08bee092-fdf9-4447-b4b2-bf2c10e0d650\",\"type\":\"Quad\"},{\"attributes\":{\"level\":\"glyph\",\"plot\":{\"id\":\"a70f0fd5-35e6-4877-b0ee-e7c837a552bf\",\"subtype\":\"Figure\",\"type\":\"Plot\"},\"source\":{\"id\":\"9afa871e-93b9-4c09-acba-335b2b8d38ee\",\"type\":\"ColumnDataSource\"},\"text\":{\"field\":\"vals\"},\"text_align\":\"center\",\"text_baseline\":\"middle\",\"text_font_size\":{\"value\":\"8pt\"},\"x\":{\"field\":\"x\"},\"y\":{\"field\":\"y\"}},\"id\":\"ac7071e8-d54b-4d03-9268-f904fb997056\",\"type\":\"LabelSet\"},{\"attributes\":{\"callback\":null,\"column_names\":[\"right\",\"bottom\",\"top\",\"left\"],\"data\":{\"bottom\":[245,245,245,245,245,245,245],\"left\":[135809835,135957574,136289083,136499189,136545415,136597196,136664254],\"right\":[135928279,136288182,136482839,136542633,136594750,136634047,136743222],\"top\":[275,275,275,275,275,275,275]}},\"id\":\"f1b8c96f-0553-4ac2-84d1-111db5753556\",\"type\":\"ColumnDataSource\"},{\"attributes\":{\"level\":\"glyph\",\"plot\":{\"id\":\"a70f0fd5-35e6-4877-b0ee-e7c837a552bf\",\"subtype\":\"Figure\",\"type\":\"Plot\"},\"source\":{\"id\":\"c192027d-e267-40ee-bb64-1d69b498eaa1\",\"type\":\"ColumnDataSource\"},\"text\":{\"field\":\"vals\"},\"text_font_size\":{\"value\":\"9pt\"},\"text_font_style\":\"bold\",\"x\":{\"field\":\"x\"},\"y\":{\"field\":\"y\"}},\"id\":\"ac63eb0a-92ac-44c4-91ea-855fc2ca354e\",\"type\":\"LabelSet\"},{\"attributes\":{\"data_source\":{\"id\":\"f3536c10-aca6-4a6b-9141-cfcc1abbf9ae\",\"type\":\"ColumnDataSource\"},\"glyph\":{\"id\":\"9215f217-2637-426c-9d2a-e5df7f30750d\",\"type\":\"MultiLine\"},\"hover_glyph\":null,\"nonselection_glyph\":{\"id\":\"0d2b7952-86d9-49b2-8ffe-8f242a1d2b43\",\"type\":\"MultiLine\"},\"selection_glyph\":null},\"id\":\"e6ccff83-59bb-4c2f-b07b-bb0805080bb1\",\"type\":\"GlyphRenderer\"},{\"attributes\":{\"formatter\":{\"id\":\"fc4206a8-75fe-4c3e-b214-8dc4041422b8\",\"type\":\"BasicTickFormatter\"},\"plot\":{\"id\":\"a70f0fd5-35e6-4877-b0ee-e7c837a552bf\",\"subtype\":\"Figure\",\"type\":\"Plot\"},\"ticker\":{\"id\":\"1bc79231-d24e-4d00-a43d-31c9ddbb21bd\",\"type\":\"BasicTicker\"}},\"id\":\"a75c3286-693a-406b-9988-e9959c72add3\",\"type\":\"LinearAxis\"},{\"attributes\":{\"active_drag\":\"auto\",\"active_scroll\":\"auto\",\"active_tap\":\"auto\",\"tools\":[{\"id\":\"a614a1cb-de0f-48bb-93d7-746fbd6fc770\",\"type\":\"PanTool\"},{\"id\":\"e97fb152-0361-4d41-9a14-618c5c5c7652\",\"type\":\"WheelZoomTool\"},{\"id\":\"cdc36448-e6c8-4d31-8dc7-369cb6b2621e\",\"type\":\"BoxZoomTool\"},{\"id\":\"75939418-1c5c-4408-b348-e25a12a3d371\",\"type\":\"SaveTool\"},{\"id\":\"e77130c7-e904-410f-9834-81c11657536f\",\"type\":\"ResetTool\"},{\"id\":\"aca022fd-42ae-4901-adab-5d2d7c9039de\",\"type\":\"HelpTool\"}]},\"id\":\"5bdfa421-c642-4c6c-bb70-f3bb062854a6\",\"type\":\"Toolbar\"},{\"attributes\":{\"line_color\":{\"field\":\"line_color\"},\"xs\":{\"field\":\"xs\"},\"ys\":{\"field\":\"ys\"}},\"id\":\"9215f217-2637-426c-9d2a-e5df7f30750d\",\"type\":\"MultiLine\"},{\"attributes\":{\"callback\":null,\"column_names\":[\"y\",\"x\",\"vals\"],\"data\":{\"vals\":[\"RAB3GAP1\",\"ZRANB3\",\"R3HDM1\",\"UBXN4\",\"LCT\",\"MCM6\",\"DARS\"],\"x\":[135869057.0,136122878.0,136385961.0,136520911.0,136570082.5,136615621.5,136703738.0],\"y\":[260.0,260.0,260.0,260.0,260.0,260.0,260.0]}},\"id\":\"9afa871e-93b9-4c09-acba-335b2b8d38ee\",\"type\":\"ColumnDataSource\"},{\"attributes\":{\"callback\":null,\"end\":300},\"id\":\"92782459-bb4f-4ca5-89ba-ca97e2d59a4b\",\"type\":\"Range1d\"},{\"attributes\":{\"bottom\":{\"field\":\"bottom\"},\"fill_alpha\":{\"value\":0.1},\"fill_color\":{\"value\":\"#1f77b4\"},\"left\":{\"field\":\"left\"},\"line_alpha\":{\"value\":0.1},\"line_color\":{\"value\":\"#1f77b4\"},\"right\":{\"field\":\"right\"},\"top\":{\"field\":\"top\"}},\"id\":\"a2554f3f-690d-4006-a352-b9155b4fa11b\",\"type\":\"Quad\"},{\"attributes\":{},\"id\":\"c878fcdb-b1ba-467d-b15c-45d95545fafc\",\"type\":\"ToolEvents\"},{\"attributes\":{\"plot\":{\"id\":\"a70f0fd5-35e6-4877-b0ee-e7c837a552bf\",\"subtype\":\"Figure\",\"type\":\"Plot\"}},\"id\":\"e97fb152-0361-4d41-9a14-618c5c5c7652\",\"type\":\"WheelZoomTool\"},{\"attributes\":{},\"id\":\"1bc79231-d24e-4d00-a43d-31c9ddbb21bd\",\"type\":\"BasicTicker\"},{\"attributes\":{\"data_source\":{\"id\":\"f1b8c96f-0553-4ac2-84d1-111db5753556\",\"type\":\"ColumnDataSource\"},\"glyph\":{\"id\":\"db6d6bd3-0b96-4717-a39e-1f0b9362aeab\",\"type\":\"Quad\"},\"hover_glyph\":null,\"nonselection_glyph\":{\"id\":\"a2554f3f-690d-4006-a352-b9155b4fa11b\",\"type\":\"Quad\"},\"selection_glyph\":null},\"id\":\"c8b98698-8f6a-4f91-a33a-350e26bd15dd\",\"type\":\"GlyphRenderer\"},{\"attributes\":{\"callback\":null,\"column_names\":[\"y\",\"x\",\"vals\"],\"data\":{\"vals\":[\"6_1503\",\"4_1699\",\"26_1414\",\"10_2206\"],\"x\":[135771974,135915358,136398174,136501840],\"y\":[100.0,201.0,99.0,203.0]}},\"id\":\"c192027d-e267-40ee-bb64-1d69b498eaa1\",\"type\":\"ColumnDataSource\"},{\"attributes\":{\"callback\":null,\"end\":136786630,\"start\":135757320},\"id\":\"cac286f7-bf22-4863-be1b-90d963fdaa57\",\"type\":\"Range1d\"},{\"attributes\":{\"bottom\":{\"field\":\"bottom\"},\"fill_color\":{\"value\":\"white\"},\"left\":{\"field\":\"left\"},\"right\":{\"field\":\"right\"},\"top\":{\"field\":\"top\"}},\"id\":\"db6d6bd3-0b96-4717-a39e-1f0b9362aeab\",\"type\":\"Quad\"},{\"attributes\":{\"plot\":{\"id\":\"a70f0fd5-35e6-4877-b0ee-e7c837a552bf\",\"subtype\":\"Figure\",\"type\":\"Plot\"}},\"id\":\"75939418-1c5c-4408-b348-e25a12a3d371\",\"type\":\"SaveTool\"},{\"attributes\":{},\"id\":\"aebd5180-7fcf-4b94-beb3-307b16ac2e33\",\"type\":\"BasicTickFormatter\"},{\"attributes\":{},\"id\":\"5c35288a-ce9a-4c24-b6e3-a1d0d75f1315\",\"type\":\"BasicTicker\"},{\"attributes\":{\"formatter\":{\"id\":\"aebd5180-7fcf-4b94-beb3-307b16ac2e33\",\"type\":\"BasicTickFormatter\"},\"plot\":{\"id\":\"a70f0fd5-35e6-4877-b0ee-e7c837a552bf\",\"subtype\":\"Figure\",\"type\":\"Plot\"},\"ticker\":{\"id\":\"5c35288a-ce9a-4c24-b6e3-a1d0d75f1315\",\"type\":\"BasicTicker\"},\"visible\":null},\"id\":\"46f4eb99-12b8-4f6e-9383-c6f44aaa7ea1\",\"type\":\"LinearAxis\"},{\"attributes\":{\"plot\":{\"id\":\"a70f0fd5-35e6-4877-b0ee-e7c837a552bf\",\"subtype\":\"Figure\",\"type\":\"Plot\"}},\"id\":\"a614a1cb-de0f-48bb-93d7-746fbd6fc770\",\"type\":\"PanTool\"},{\"attributes\":{\"line_alpha\":{\"value\":0.1},\"line_color\":{\"value\":\"#1f77b4\"},\"xs\":{\"field\":\"xs\"},\"ys\":{\"field\":\"ys\"}},\"id\":\"0d2b7952-86d9-49b2-8ffe-8f242a1d2b43\",\"type\":\"MultiLine\"},{\"attributes\":{\"plot\":null,\"text\":null},\"id\":\"64d73602-6cae-4cd4-a330-3033c8bbc548\",\"type\":\"Title\"},{\"attributes\":{\"plot\":{\"id\":\"a70f0fd5-35e6-4877-b0ee-e7c837a552bf\",\"subtype\":\"Figure\",\"type\":\"Plot\"}},\"id\":\"aca022fd-42ae-4901-adab-5d2d7c9039de\",\"type\":\"HelpTool\"},{\"attributes\":{\"callback\":null,\"column_names\":[\"xs\",\"ys\",\"line_color\"],\"data\":{\"line_color\":[\"black\",\"black\",\"black\",\"black\",\"black\",\"black\",\"black\",\"black\",\"black\",\"black\",\"black\",\"black\",\"black\",\"black\",\"black\",\"black\",\"black\",\"black\",\"black\",\"black\",\"black\",\"black\",\"black\",\"black\",\"black\",\"black\",\"black\",\"black\",\"black\",\"black\",\"black\",\"black\",\"black\",\"black\",\"black\",\"black\",\"black\",\"black\",\"black\",\"black\",\"black\",\"black\",\"black\",\"black\",\"black\",\"black\"],\"xs\":[[135771974,135771974],[135859371,135859371],[135877562,135877562],[136022798,136022798],[136058820,136058820],[136140304,136140304],[135915358,135915358],[135954405,135954405],[135995073,135995073],[135995079,135995079],[136398174,136398174],[136402117,136402117],[136403749,136403749],[136409073,136409073],[136410299,136410299],[136413359,136413359],[136416855,136416855],[136416941,136416941],[136418348,136418348],[136419961,136419961],[136420690,136420690],[136422171,136422171],[136428460,136428460],[136430866,136430866],[136432103,136432103],[136437507,136437507],[136439090,136439090],[136439517,136439517],[136444123,136444123],[136445526,136445526],[136445869,136445869],[136455600,136455600],[136456642,136456642],[136462441,136462441],[136470714,136470714],[136474098,136474098],[136501840,136501840],[136505546,136505546],[136516748,136516748],[136522710,136522710],[136528004,136528004],[136539513,136539513],[136544752,136544752],[136546110,136546110],[136553529,136553529],[136555659,136555659]],\"ys\":[[50,95],[50,95],[50,95],[50,95],[50,95],[50,95],[150,196],[150,196],[150,196],[150,196],[50,94],[50,94],[50,94],[50,94],[50,94],[50,94],[50,94],[50,94],[50,94],[50,94],[50,94],[50,94],[50,94],[50,94],[50,94],[50,94],[50,94],[50,94],[50,94],[50,94],[50,94],[50,94],[50,94],[50,94],[50,94],[50,94],[150,198],[150,198],[150,198],[150,198],[150,198],[150,198],[150,198],[150,198],[150,198],[150,198]]}},\"id\":\"f3536c10-aca6-4a6b-9141-cfcc1abbf9ae\",\"type\":\"ColumnDataSource\"}],\"root_ids\":[\"a70f0fd5-35e6-4877-b0ee-e7c837a552bf\"]},\"title\":\"Bokeh Application\",\"version\":\"0.12.0\"}};\n",
       "            var render_items = [{\"docid\":\"10783fae-e1e9-4eed-860b-d75e24821560\",\"elementid\":\"5d7277b5-d34b-4491-894b-989a19af55ed\",\"modelid\":\"a70f0fd5-35e6-4877-b0ee-e7c837a552bf\",\"notebook_comms_target\":\"6b104dee-f9e2-4f51-abc6-c970f087c7e0\"}];\n",
       "            \n",
       "            Bokeh.embed.embed_items(docs_json, render_items);\n",
       "        });\n",
       "      },\n",
       "      function(Bokeh) {\n",
       "      }\n",
       "    ];\n",
       "  \n",
       "    function run_inline_js() {\n",
       "      for (var i = 0; i < inline_js.length; i++) {\n",
       "        inline_js[i](window.Bokeh);\n",
       "      }\n",
       "    }\n",
       "  \n",
       "    if (window._bokeh_is_loading === 0) {\n",
       "      console.log(\"Bokeh: BokehJS loaded, going straight to plotting\");\n",
       "      run_inline_js();\n",
       "    } else {\n",
       "      load_libs(js_urls, function() {\n",
       "        console.log(\"Bokeh: BokehJS plotting callback run at\", now());\n",
       "        run_inline_js();\n",
       "      });\n",
       "    }\n",
       "  }(this));\n",
       "</script>"
      ]
     },
     "metadata": {},
     "output_type": "display_data"
    },
    {
     "data": {
      "text/html": [
       "<p><code>&lt;Bokeh Notebook handle for <strong>In[7]</strong>&gt;</code></p>"
      ],
      "text/plain": [
       "<bokeh.io._CommsHandle at 0x7fab101cc950>"
      ]
     },
     "execution_count": 7,
     "metadata": {},
     "output_type": "execute_result"
    }
   ],
   "source": [
    "plt_obj = dm.superset_allele_mask(am_31, min_match=0.001)\n",
    "plt = plt_obj.do_plot()\n",
    "show(plt)"
   ]
  },
  {
   "cell_type": "code",
   "execution_count": 8,
   "metadata": {
    "collapsed": false,
    "deletable": true,
    "editable": true
   },
   "outputs": [
    {
     "data": {
      "text/html": [
       "<table>\n",
       "<thead><tr><th style=\"text-align:center\">index</th><th style=\"text-align:center\">first</th><th style=\"text-align:center\">length</th><th style=\"text-align:center\">snps</th><th style=\"text-align:center\" colspan=2>alleles</th><th style=\"text-align:center\" colspan=2>matches</th><th style=\"text-align:center\" colspan=2>afr</th><th style=\"text-align:center\" colspan=2>afx</th><th style=\"text-align:center\" colspan=2>amr</th><th style=\"text-align:center\" colspan=2>eas</th><th style=\"text-align:center\" colspan=2>eur</th><th style=\"text-align:center\" colspan=2>sas</th><th style=\"text-align:center\" colspan=2>sax</th></tr></thead>\n",
       "<tr class=\"even\"><td style=\"text-align: right;\">353921</td><td style=\"text-align: right;\">136,501,840</td><td style=\"text-align: right;\">53,819</td><td style=\"text-align: right;\">10</td><td style=\"text-align: right;\">2206</td><td style=\"text-align: right;\">0.01</td><td style=\"text-align: right;\">28</td><td style=\"text-align: right;\">1.00</td><td style=\"text-align: right;\">0</td><td style=\"text-align: right;\">0.00</td><td style=\"text-align: right;\">1</td><td style=\"text-align: right;\">0.57</td><td style=\"text-align: right;\">14</td><td style=\"text-align: right;\">3.61</td><td style=\"text-align: right;\">13</td><td style=\"text-align: right;\">2.31</td><td style=\"text-align: right;\">0</td><td style=\"text-align: right;\">0.00</td><td style=\"text-align: right;\">0</td><td style=\"text-align: right;\">0.00</td><td style=\"text-align: right;\">0</td><td style=\"text-align: right;\">0.00</td></tr>\n",
       "<tr><td style=\"text-align: right;\">353462</td><td style=\"text-align: right;\">135,915,358</td><td style=\"text-align: right;\">79,721</td><td style=\"text-align: right;\">4</td><td style=\"text-align: right;\">1699</td><td style=\"text-align: right;\">0.02</td><td style=\"text-align: right;\">28</td><td style=\"text-align: right;\">1.00</td><td style=\"text-align: right;\">0</td><td style=\"text-align: right;\">0.00</td><td style=\"text-align: right;\">1</td><td style=\"text-align: right;\">0.57</td><td style=\"text-align: right;\">14</td><td style=\"text-align: right;\">3.61</td><td style=\"text-align: right;\">13</td><td style=\"text-align: right;\">2.31</td><td style=\"text-align: right;\">0</td><td style=\"text-align: right;\">0.00</td><td style=\"text-align: right;\">0</td><td style=\"text-align: right;\">0.00</td><td style=\"text-align: right;\">0</td><td style=\"text-align: right;\">0.00</td></tr>\n",
       "<tr class=\"even\"><td style=\"text-align: right;\">353283</td><td style=\"text-align: right;\">135,771,974</td><td style=\"text-align: right;\">368,330</td><td style=\"text-align: right;\">6</td><td style=\"text-align: right;\">1503</td><td style=\"text-align: right;\">0.02</td><td style=\"text-align: right;\">28</td><td style=\"text-align: right;\">1.00</td><td style=\"text-align: right;\">0</td><td style=\"text-align: right;\">0.00</td><td style=\"text-align: right;\">1</td><td style=\"text-align: right;\">0.57</td><td style=\"text-align: right;\">14</td><td style=\"text-align: right;\">3.61</td><td style=\"text-align: right;\">13</td><td style=\"text-align: right;\">2.31</td><td style=\"text-align: right;\">0</td><td style=\"text-align: right;\">0.00</td><td style=\"text-align: right;\">0</td><td style=\"text-align: right;\">0.00</td><td style=\"text-align: right;\">0</td><td style=\"text-align: right;\">0.00</td></tr>\n",
       "<tr><td style=\"text-align: right;\">353797</td><td style=\"text-align: right;\">136,398,174</td><td style=\"text-align: right;\">75,924</td><td style=\"text-align: right;\">26</td><td style=\"text-align: right;\">1414</td><td style=\"text-align: right;\">0.02</td><td style=\"text-align: right;\">28</td><td style=\"text-align: right;\">1.00</td><td style=\"text-align: right;\">0</td><td style=\"text-align: right;\">0.00</td><td style=\"text-align: right;\">1</td><td style=\"text-align: right;\">0.57</td><td style=\"text-align: right;\">14</td><td style=\"text-align: right;\">3.61</td><td style=\"text-align: right;\">13</td><td style=\"text-align: right;\">2.31</td><td style=\"text-align: right;\">0</td><td style=\"text-align: right;\">0.00</td><td style=\"text-align: right;\">0</td><td style=\"text-align: right;\">0.00</td><td style=\"text-align: right;\">0</td><td style=\"text-align: right;\">0.00</td></tr>\n",
       "</table>"
      ],
      "text/plain": [
       "<IPython.core.display.HTML object>"
      ]
     },
     "execution_count": 8,
     "metadata": {},
     "output_type": "execute_result"
    }
   ],
   "source": [
    "HTML(plt_obj.get_html())"
   ]
  },
  {
   "cell_type": "markdown",
   "metadata": {},
   "source": [
    "<div style=\"width:700px\">\n",
    "<p>\n",
    "The data below is for 4 samples that express 32 64_1575 SNPs.  Again\n",
    "all of the first 31 SNPs are expressed.  The samples all come from AMR or EAS\n",
    "populations.  All 4 samples also don't express the SNP after the first 31, but\n",
    "do express the next one.  This pattern would fit an event that mutated that SNP in\n",
    "an instance of the population derived from the recombination event identified above.\n",
    "</div>"
   ]
  },
  {
   "cell_type": "code",
   "execution_count": 9,
   "metadata": {
    "collapsed": false,
    "deletable": true,
    "editable": true
   },
   "outputs": [
    {
     "data": {
      "text/plain": [
       "array([4, 4, 4, 4, 4, 4, 4, 4, 4, 4, 4, 4, 4, 4, 4, 4, 4, 4, 4, 4, 4, 4, 4,\n",
       "       4, 4, 4, 4, 4, 4, 4, 4, 0, 4, 0, 0, 0, 0, 0, 0, 0, 0, 0, 0, 0, 0, 0,\n",
       "       0, 0, 0, 0, 0, 0, 0, 0, 0, 0, 0, 0, 0, 0, 0, 0, 0, 0])"
      ]
     },
     "execution_count": 9,
     "metadata": {},
     "output_type": "execute_result"
    }
   ],
   "source": [
    "aps_32, am_32 = sa_64_1575.snps_from_aps_value(32, am_not_64_1575)\n",
    "aps_32"
   ]
  },
  {
   "cell_type": "code",
   "execution_count": 10,
   "metadata": {
    "collapsed": false,
    "deletable": true,
    "editable": true
   },
   "outputs": [
    {
     "data": {
      "text/html": [
       "\n",
       "\n",
       "    <div class=\"bk-root\">\n",
       "        <div class=\"plotdiv\" id=\"cd326238-8b23-4d13-85a7-c7d5d7d0716c\"></div>\n",
       "    </div>\n",
       "<script type=\"text/javascript\">\n",
       "  \n",
       "  (function(global) {\n",
       "    function now() {\n",
       "      return new Date();\n",
       "    }\n",
       "  \n",
       "    if (typeof (window._bokeh_onload_callbacks) === \"undefined\") {\n",
       "      window._bokeh_onload_callbacks = [];\n",
       "    }\n",
       "  \n",
       "    function run_callbacks() {\n",
       "      window._bokeh_onload_callbacks.forEach(function(callback) { callback() });\n",
       "      delete window._bokeh_onload_callbacks\n",
       "      console.info(\"Bokeh: all callbacks have finished\");\n",
       "    }\n",
       "  \n",
       "    function load_libs(js_urls, callback) {\n",
       "      window._bokeh_onload_callbacks.push(callback);\n",
       "      if (window._bokeh_is_loading > 0) {\n",
       "        console.log(\"Bokeh: BokehJS is being loaded, scheduling callback at\", now());\n",
       "        return null;\n",
       "      }\n",
       "      if (js_urls == null || js_urls.length === 0) {\n",
       "        run_callbacks();\n",
       "        return null;\n",
       "      }\n",
       "      console.log(\"Bokeh: BokehJS not loaded, scheduling load and callback at\", now());\n",
       "      window._bokeh_is_loading = js_urls.length;\n",
       "      for (var i = 0; i < js_urls.length; i++) {\n",
       "        var url = js_urls[i];\n",
       "        var s = document.createElement('script');\n",
       "        s.src = url;\n",
       "        s.async = false;\n",
       "        s.onreadystatechange = s.onload = function() {\n",
       "          window._bokeh_is_loading--;\n",
       "          if (window._bokeh_is_loading === 0) {\n",
       "            console.log(\"Bokeh: all BokehJS libraries loaded\");\n",
       "            run_callbacks()\n",
       "          }\n",
       "        };\n",
       "        s.onerror = function() {\n",
       "          console.warn(\"failed to load library \" + url);\n",
       "        };\n",
       "        console.log(\"Bokeh: injecting script tag for BokehJS library: \", url);\n",
       "        document.getElementsByTagName(\"head\")[0].appendChild(s);\n",
       "      }\n",
       "    };var element = document.getElementById(\"cd326238-8b23-4d13-85a7-c7d5d7d0716c\");\n",
       "    if (element == null) {\n",
       "      console.log(\"Bokeh: ERROR: autoload.js configured with elementid 'cd326238-8b23-4d13-85a7-c7d5d7d0716c' but no matching script tag was found. \")\n",
       "      return false;\n",
       "    }\n",
       "  \n",
       "    var js_urls = [];\n",
       "  \n",
       "    var inline_js = [\n",
       "      function(Bokeh) {\n",
       "        Bokeh.$(function() {\n",
       "            var docs_json = {\"8ce301af-59ab-4ee6-b320-21852fdd4b71\":{\"roots\":{\"references\":[{\"attributes\":{\"data_source\":{\"id\":\"cd32c03a-9863-45c6-acc1-e29711f8d986\",\"type\":\"ColumnDataSource\"},\"glyph\":{\"id\":\"bd67724c-fcab-47a2-8fa3-bf92533a26f4\",\"type\":\"Quad\"},\"hover_glyph\":null,\"nonselection_glyph\":{\"id\":\"3d301a03-f46a-43c6-90ab-d95d780445d3\",\"type\":\"Quad\"},\"selection_glyph\":null},\"id\":\"bd7e110b-9ec2-47dc-a8d7-ae5d3d80301c\",\"type\":\"GlyphRenderer\"},{\"attributes\":{\"data_source\":{\"id\":\"e8935a1a-c1ac-4a44-a198-b8a6ef0b23b3\",\"type\":\"ColumnDataSource\"},\"glyph\":{\"id\":\"26c4aac6-9f57-4e3c-abaa-5a62b2b36f7d\",\"type\":\"MultiLine\"},\"hover_glyph\":null,\"nonselection_glyph\":{\"id\":\"e0b0eecf-232d-4573-ac82-127935f8297c\",\"type\":\"MultiLine\"},\"selection_glyph\":null},\"id\":\"68d5ab69-1fe1-4521-b7ae-fae545f8fe88\",\"type\":\"GlyphRenderer\"},{\"attributes\":{},\"id\":\"045ce7f8-8cb6-4cc3-b413-c926b3f6405f\",\"type\":\"BasicTickFormatter\"},{\"attributes\":{\"plot\":{\"id\":\"a5363b4c-b450-41a6-9d4d-55a045ee78ed\",\"subtype\":\"Figure\",\"type\":\"Plot\"}},\"id\":\"1c3eeab5-e9a2-47fc-b716-7cbdb9ca97ce\",\"type\":\"ResetTool\"},{\"attributes\":{\"bottom_units\":\"screen\",\"fill_alpha\":{\"value\":0.5},\"fill_color\":{\"value\":\"lightgrey\"},\"left_units\":\"screen\",\"level\":\"overlay\",\"line_alpha\":{\"value\":1.0},\"line_color\":{\"value\":\"black\"},\"line_dash\":[4,4],\"line_width\":{\"value\":2},\"plot\":null,\"render_mode\":\"css\",\"right_units\":\"screen\",\"top_units\":\"screen\"},\"id\":\"0b224c00-eb10-427c-ae46-c691983926c6\",\"type\":\"BoxAnnotation\"},{\"attributes\":{\"plot\":{\"id\":\"a5363b4c-b450-41a6-9d4d-55a045ee78ed\",\"subtype\":\"Figure\",\"type\":\"Plot\"}},\"id\":\"cadaf410-d898-41e4-b953-dcc07ed216cf\",\"type\":\"SaveTool\"},{\"attributes\":{\"formatter\":{\"id\":\"045ce7f8-8cb6-4cc3-b413-c926b3f6405f\",\"type\":\"BasicTickFormatter\"},\"plot\":{\"id\":\"a5363b4c-b450-41a6-9d4d-55a045ee78ed\",\"subtype\":\"Figure\",\"type\":\"Plot\"},\"ticker\":{\"id\":\"315f14a8-112c-4446-8139-5348d859e713\",\"type\":\"BasicTicker\"},\"visible\":null},\"id\":\"310d414d-497d-4a8a-8e4f-030a840345b0\",\"type\":\"LinearAxis\"},{\"attributes\":{\"plot\":{\"id\":\"a5363b4c-b450-41a6-9d4d-55a045ee78ed\",\"subtype\":\"Figure\",\"type\":\"Plot\"},\"ticker\":{\"id\":\"a745b149-b385-4462-9e4d-969402724971\",\"type\":\"BasicTicker\"}},\"id\":\"b01bb789-0506-42f0-8cf5-b1f9b1a159d2\",\"type\":\"Grid\"},{\"attributes\":{\"overlay\":{\"id\":\"0b224c00-eb10-427c-ae46-c691983926c6\",\"type\":\"BoxAnnotation\"},\"plot\":{\"id\":\"a5363b4c-b450-41a6-9d4d-55a045ee78ed\",\"subtype\":\"Figure\",\"type\":\"Plot\"}},\"id\":\"4a55609e-794a-4d63-9dbd-f8626154a674\",\"type\":\"BoxZoomTool\"},{\"attributes\":{\"dimension\":1,\"plot\":{\"id\":\"a5363b4c-b450-41a6-9d4d-55a045ee78ed\",\"subtype\":\"Figure\",\"type\":\"Plot\"},\"ticker\":{\"id\":\"315f14a8-112c-4446-8139-5348d859e713\",\"type\":\"BasicTicker\"}},\"id\":\"776c591f-7330-4a73-a6a1-11b4e1df8dfb\",\"type\":\"Grid\"},{\"attributes\":{\"callback\":null,\"column_names\":[\"y\",\"x\",\"vals\"],\"data\":{\"vals\":[\"6_1503\",\"4_1699\",\"26_1414\",\"10_2206\"],\"x\":[135771974,135915358,136398174,136501840],\"y\":[100.0,201.0,99.0,203.0]}},\"id\":\"36f445c1-90de-43f2-9235-a62ab6d7baf1\",\"type\":\"ColumnDataSource\"},{\"attributes\":{\"callback\":null,\"end\":136786630,\"start\":135757320},\"id\":\"8f8614bb-39d0-4f48-a651-826f34382905\",\"type\":\"Range1d\"},{\"attributes\":{\"line_alpha\":{\"value\":0.1},\"line_color\":{\"value\":\"#1f77b4\"},\"xs\":{\"field\":\"xs\"},\"ys\":{\"field\":\"ys\"}},\"id\":\"e0b0eecf-232d-4573-ac82-127935f8297c\",\"type\":\"MultiLine\"},{\"attributes\":{\"formatter\":{\"id\":\"15ec7249-985f-4d4b-9d51-185984ad5f25\",\"type\":\"BasicTickFormatter\"},\"plot\":{\"id\":\"a5363b4c-b450-41a6-9d4d-55a045ee78ed\",\"subtype\":\"Figure\",\"type\":\"Plot\"},\"ticker\":{\"id\":\"a745b149-b385-4462-9e4d-969402724971\",\"type\":\"BasicTicker\"}},\"id\":\"18ac72e2-893e-41f7-afee-9fed8773ff63\",\"type\":\"LinearAxis\"},{\"attributes\":{\"callback\":null,\"column_names\":[\"right\",\"bottom\",\"top\",\"left\",\"fill_color\"],\"data\":{\"bottom\":[50,150,50,150],\"fill_color\":[\"#61c461\",\"#61c461\",\"#61c461\",\"#808080\"],\"left\":[135771974,135915358,136398174,136501840],\"right\":[136140304,135995079,136474098,136555659],\"top\":[95,196,94,198]}},\"id\":\"32a255a1-1f4a-4f7f-b906-0c060e503f0d\",\"type\":\"ColumnDataSource\"},{\"attributes\":{},\"id\":\"315f14a8-112c-4446-8139-5348d859e713\",\"type\":\"BasicTicker\"},{\"attributes\":{\"bottom\":{\"field\":\"bottom\"},\"fill_color\":{\"value\":\"white\"},\"left\":{\"field\":\"left\"},\"right\":{\"field\":\"right\"},\"top\":{\"field\":\"top\"}},\"id\":\"bd67724c-fcab-47a2-8fa3-bf92533a26f4\",\"type\":\"Quad\"},{\"attributes\":{\"level\":\"glyph\",\"plot\":{\"id\":\"a5363b4c-b450-41a6-9d4d-55a045ee78ed\",\"subtype\":\"Figure\",\"type\":\"Plot\"},\"source\":{\"id\":\"f95b4d23-ddc1-48ff-af6b-307d81208a4f\",\"type\":\"ColumnDataSource\"},\"text\":{\"field\":\"vals\"},\"text_align\":\"center\",\"text_baseline\":\"middle\",\"text_font_size\":{\"value\":\"8pt\"},\"x\":{\"field\":\"x\"},\"y\":{\"field\":\"y\"}},\"id\":\"7c52a8ab-9200-43ce-a830-1111e75f169c\",\"type\":\"LabelSet\"},{\"attributes\":{\"callback\":null,\"column_names\":[\"xs\",\"ys\",\"line_color\"],\"data\":{\"line_color\":[\"black\",\"black\",\"black\",\"black\",\"black\",\"black\",\"black\",\"black\",\"black\",\"black\",\"black\",\"black\",\"black\",\"black\",\"black\",\"black\",\"black\",\"black\",\"black\",\"black\",\"black\",\"black\",\"black\",\"black\",\"black\",\"black\",\"black\",\"black\",\"black\",\"black\",\"black\",\"black\",\"black\",\"black\",\"black\",\"black\",\"black\",\"black\",\"black\",\"black\",\"black\",\"black\",\"black\",\"black\",\"black\",\"black\"],\"xs\":[[135771974,135771974],[135859371,135859371],[135877562,135877562],[136022798,136022798],[136058820,136058820],[136140304,136140304],[135915358,135915358],[135954405,135954405],[135995073,135995073],[135995079,135995079],[136398174,136398174],[136402117,136402117],[136403749,136403749],[136409073,136409073],[136410299,136410299],[136413359,136413359],[136416855,136416855],[136416941,136416941],[136418348,136418348],[136419961,136419961],[136420690,136420690],[136422171,136422171],[136428460,136428460],[136430866,136430866],[136432103,136432103],[136437507,136437507],[136439090,136439090],[136439517,136439517],[136444123,136444123],[136445526,136445526],[136445869,136445869],[136455600,136455600],[136456642,136456642],[136462441,136462441],[136470714,136470714],[136474098,136474098],[136501840,136501840],[136505546,136505546],[136516748,136516748],[136522710,136522710],[136528004,136528004],[136539513,136539513],[136544752,136544752],[136546110,136546110],[136553529,136553529],[136555659,136555659]],\"ys\":[[50,95],[50,95],[50,95],[50,95],[50,95],[50,95],[150,196],[150,196],[150,196],[150,196],[50,94],[50,94],[50,94],[50,94],[50,94],[50,94],[50,94],[50,94],[50,94],[50,94],[50,94],[50,94],[50,94],[50,94],[50,94],[50,94],[50,94],[50,94],[50,94],[50,94],[50,94],[50,94],[50,94],[50,94],[50,94],[50,94],[150,198],[150,198],[150,198],[150,198],[150,198],[150,198],[150,198],[150,198],[150,198],[150,198]]}},\"id\":\"e8935a1a-c1ac-4a44-a198-b8a6ef0b23b3\",\"type\":\"ColumnDataSource\"},{\"attributes\":{\"bottom\":{\"field\":\"bottom\"},\"fill_alpha\":{\"value\":0.1},\"fill_color\":{\"value\":\"#1f77b4\"},\"left\":{\"field\":\"left\"},\"line_alpha\":{\"value\":0.1},\"line_color\":{\"value\":\"#1f77b4\"},\"right\":{\"field\":\"right\"},\"top\":{\"field\":\"top\"}},\"id\":\"289b9e43-a72b-4404-8ba5-313ff00d7263\",\"type\":\"Quad\"},{\"attributes\":{\"plot\":{\"id\":\"a5363b4c-b450-41a6-9d4d-55a045ee78ed\",\"subtype\":\"Figure\",\"type\":\"Plot\"}},\"id\":\"ed80a3b9-6c60-4069-b7fc-9910454000de\",\"type\":\"HelpTool\"},{\"attributes\":{\"bottom\":{\"field\":\"bottom\"},\"fill_alpha\":{\"value\":0.1},\"fill_color\":{\"value\":\"#1f77b4\"},\"left\":{\"field\":\"left\"},\"line_alpha\":{\"value\":0.1},\"line_color\":{\"value\":\"#1f77b4\"},\"right\":{\"field\":\"right\"},\"top\":{\"field\":\"top\"}},\"id\":\"3d301a03-f46a-43c6-90ab-d95d780445d3\",\"type\":\"Quad\"},{\"attributes\":{\"callback\":null,\"end\":300},\"id\":\"cbcf1109-8dde-4c23-bc05-b400bf92dd93\",\"type\":\"Range1d\"},{\"attributes\":{\"bottom\":{\"field\":\"bottom\"},\"fill_color\":{\"field\":\"fill_color\"},\"left\":{\"field\":\"left\"},\"line_color\":{\"value\":null},\"right\":{\"field\":\"right\"},\"top\":{\"field\":\"top\"}},\"id\":\"f5d62c51-23ab-47f9-b00e-daf54da900b5\",\"type\":\"Quad\"},{\"attributes\":{},\"id\":\"15ec7249-985f-4d4b-9d51-185984ad5f25\",\"type\":\"BasicTickFormatter\"},{\"attributes\":{\"callback\":null,\"column_names\":[\"right\",\"bottom\",\"top\",\"left\"],\"data\":{\"bottom\":[245,245,245,245,245,245,245],\"left\":[135809835,135957574,136289083,136499189,136545415,136597196,136664254],\"right\":[135928279,136288182,136482839,136542633,136594750,136634047,136743222],\"top\":[275,275,275,275,275,275,275]}},\"id\":\"cd32c03a-9863-45c6-acc1-e29711f8d986\",\"type\":\"ColumnDataSource\"},{\"attributes\":{\"line_color\":{\"field\":\"line_color\"},\"xs\":{\"field\":\"xs\"},\"ys\":{\"field\":\"ys\"}},\"id\":\"26c4aac6-9f57-4e3c-abaa-5a62b2b36f7d\",\"type\":\"MultiLine\"},{\"attributes\":{\"callback\":null,\"column_names\":[\"y\",\"x\",\"vals\"],\"data\":{\"vals\":[\"RAB3GAP1\",\"ZRANB3\",\"R3HDM1\",\"UBXN4\",\"LCT\",\"MCM6\",\"DARS\"],\"x\":[135869057.0,136122878.0,136385961.0,136520911.0,136570082.5,136615621.5,136703738.0],\"y\":[260.0,260.0,260.0,260.0,260.0,260.0,260.0]}},\"id\":\"f95b4d23-ddc1-48ff-af6b-307d81208a4f\",\"type\":\"ColumnDataSource\"},{\"attributes\":{},\"id\":\"a745b149-b385-4462-9e4d-969402724971\",\"type\":\"BasicTicker\"},{\"attributes\":{\"level\":\"glyph\",\"plot\":{\"id\":\"a5363b4c-b450-41a6-9d4d-55a045ee78ed\",\"subtype\":\"Figure\",\"type\":\"Plot\"},\"source\":{\"id\":\"36f445c1-90de-43f2-9235-a62ab6d7baf1\",\"type\":\"ColumnDataSource\"},\"text\":{\"field\":\"vals\"},\"text_font_size\":{\"value\":\"9pt\"},\"text_font_style\":\"bold\",\"x\":{\"field\":\"x\"},\"y\":{\"field\":\"y\"}},\"id\":\"d44d7dc6-246d-47cc-ba19-7da66e710b09\",\"type\":\"LabelSet\"},{\"attributes\":{\"below\":[{\"id\":\"18ac72e2-893e-41f7-afee-9fed8773ff63\",\"type\":\"LinearAxis\"}],\"left\":[{\"id\":\"310d414d-497d-4a8a-8e4f-030a840345b0\",\"type\":\"LinearAxis\"}],\"plot_height\":300,\"plot_width\":900,\"renderers\":[{\"id\":\"18ac72e2-893e-41f7-afee-9fed8773ff63\",\"type\":\"LinearAxis\"},{\"id\":\"b01bb789-0506-42f0-8cf5-b1f9b1a159d2\",\"type\":\"Grid\"},{\"id\":\"310d414d-497d-4a8a-8e4f-030a840345b0\",\"type\":\"LinearAxis\"},{\"id\":\"776c591f-7330-4a73-a6a1-11b4e1df8dfb\",\"type\":\"Grid\"},{\"id\":\"0b224c00-eb10-427c-ae46-c691983926c6\",\"type\":\"BoxAnnotation\"},{\"id\":\"ce19c485-d875-4522-8df0-e23764702078\",\"type\":\"GlyphRenderer\"},{\"id\":\"68d5ab69-1fe1-4521-b7ae-fae545f8fe88\",\"type\":\"GlyphRenderer\"},{\"id\":\"d44d7dc6-246d-47cc-ba19-7da66e710b09\",\"type\":\"LabelSet\"},{\"id\":\"bd7e110b-9ec2-47dc-a8d7-ae5d3d80301c\",\"type\":\"GlyphRenderer\"},{\"id\":\"7c52a8ab-9200-43ce-a830-1111e75f169c\",\"type\":\"LabelSet\"}],\"title\":{\"id\":\"5ebbd6b2-14d5-4235-a76d-71c530cccb39\",\"type\":\"Title\"},\"tool_events\":{\"id\":\"f961c082-3685-4996-b140-a0fc9e6fb41d\",\"type\":\"ToolEvents\"},\"toolbar\":{\"id\":\"8c21c998-8054-492b-b5b0-b6ee94a5a544\",\"type\":\"Toolbar\"},\"toolbar_location\":null,\"x_range\":{\"id\":\"8f8614bb-39d0-4f48-a651-826f34382905\",\"type\":\"Range1d\"},\"y_range\":{\"id\":\"cbcf1109-8dde-4c23-bc05-b400bf92dd93\",\"type\":\"Range1d\"}},\"id\":\"a5363b4c-b450-41a6-9d4d-55a045ee78ed\",\"subtype\":\"Figure\",\"type\":\"Plot\"},{\"attributes\":{\"active_drag\":\"auto\",\"active_scroll\":\"auto\",\"active_tap\":\"auto\",\"tools\":[{\"id\":\"f31fa841-4f11-478d-b9c0-41ae4b6e1b36\",\"type\":\"PanTool\"},{\"id\":\"d8bc44a7-f02d-4845-b9ab-24501e8e7e5f\",\"type\":\"WheelZoomTool\"},{\"id\":\"4a55609e-794a-4d63-9dbd-f8626154a674\",\"type\":\"BoxZoomTool\"},{\"id\":\"cadaf410-d898-41e4-b953-dcc07ed216cf\",\"type\":\"SaveTool\"},{\"id\":\"1c3eeab5-e9a2-47fc-b716-7cbdb9ca97ce\",\"type\":\"ResetTool\"},{\"id\":\"ed80a3b9-6c60-4069-b7fc-9910454000de\",\"type\":\"HelpTool\"}]},\"id\":\"8c21c998-8054-492b-b5b0-b6ee94a5a544\",\"type\":\"Toolbar\"},{\"attributes\":{},\"id\":\"f961c082-3685-4996-b140-a0fc9e6fb41d\",\"type\":\"ToolEvents\"},{\"attributes\":{\"plot\":null,\"text\":null},\"id\":\"5ebbd6b2-14d5-4235-a76d-71c530cccb39\",\"type\":\"Title\"},{\"attributes\":{\"data_source\":{\"id\":\"32a255a1-1f4a-4f7f-b906-0c060e503f0d\",\"type\":\"ColumnDataSource\"},\"glyph\":{\"id\":\"f5d62c51-23ab-47f9-b00e-daf54da900b5\",\"type\":\"Quad\"},\"hover_glyph\":null,\"nonselection_glyph\":{\"id\":\"289b9e43-a72b-4404-8ba5-313ff00d7263\",\"type\":\"Quad\"},\"selection_glyph\":null},\"id\":\"ce19c485-d875-4522-8df0-e23764702078\",\"type\":\"GlyphRenderer\"},{\"attributes\":{\"plot\":{\"id\":\"a5363b4c-b450-41a6-9d4d-55a045ee78ed\",\"subtype\":\"Figure\",\"type\":\"Plot\"}},\"id\":\"f31fa841-4f11-478d-b9c0-41ae4b6e1b36\",\"type\":\"PanTool\"},{\"attributes\":{\"plot\":{\"id\":\"a5363b4c-b450-41a6-9d4d-55a045ee78ed\",\"subtype\":\"Figure\",\"type\":\"Plot\"}},\"id\":\"d8bc44a7-f02d-4845-b9ab-24501e8e7e5f\",\"type\":\"WheelZoomTool\"}],\"root_ids\":[\"a5363b4c-b450-41a6-9d4d-55a045ee78ed\"]},\"title\":\"Bokeh Application\",\"version\":\"0.12.0\"}};\n",
       "            var render_items = [{\"docid\":\"8ce301af-59ab-4ee6-b320-21852fdd4b71\",\"elementid\":\"cd326238-8b23-4d13-85a7-c7d5d7d0716c\",\"modelid\":\"a5363b4c-b450-41a6-9d4d-55a045ee78ed\",\"notebook_comms_target\":\"e3b7507a-5dbe-4763-8f1f-6c7baa135a50\"}];\n",
       "            \n",
       "            Bokeh.embed.embed_items(docs_json, render_items);\n",
       "        });\n",
       "      },\n",
       "      function(Bokeh) {\n",
       "      }\n",
       "    ];\n",
       "  \n",
       "    function run_inline_js() {\n",
       "      for (var i = 0; i < inline_js.length; i++) {\n",
       "        inline_js[i](window.Bokeh);\n",
       "      }\n",
       "    }\n",
       "  \n",
       "    if (window._bokeh_is_loading === 0) {\n",
       "      console.log(\"Bokeh: BokehJS loaded, going straight to plotting\");\n",
       "      run_inline_js();\n",
       "    } else {\n",
       "      load_libs(js_urls, function() {\n",
       "        console.log(\"Bokeh: BokehJS plotting callback run at\", now());\n",
       "        run_inline_js();\n",
       "      });\n",
       "    }\n",
       "  }(this));\n",
       "</script>"
      ]
     },
     "metadata": {},
     "output_type": "display_data"
    },
    {
     "data": {
      "text/html": [
       "<p><code>&lt;Bokeh Notebook handle for <strong>In[10]</strong>&gt;</code></p>"
      ],
      "text/plain": [
       "<bokeh.io._CommsHandle at 0x7fab101a1890>"
      ]
     },
     "execution_count": 10,
     "metadata": {},
     "output_type": "execute_result"
    }
   ],
   "source": [
    "plt_obj = dm.superset_allele_mask(am_32, min_match=0.001)\n",
    "plt = plt_obj.do_plot()\n",
    "show(plt)"
   ]
  },
  {
   "cell_type": "code",
   "execution_count": 11,
   "metadata": {
    "collapsed": false,
    "deletable": true,
    "editable": true
   },
   "outputs": [
    {
     "data": {
      "text/html": [
       "<table>\n",
       "<thead><tr><th style=\"text-align:center\">index</th><th style=\"text-align:center\">first</th><th style=\"text-align:center\">length</th><th style=\"text-align:center\">snps</th><th style=\"text-align:center\" colspan=2>alleles</th><th style=\"text-align:center\" colspan=2>matches</th><th style=\"text-align:center\" colspan=2>afr</th><th style=\"text-align:center\" colspan=2>afx</th><th style=\"text-align:center\" colspan=2>amr</th><th style=\"text-align:center\" colspan=2>eas</th><th style=\"text-align:center\" colspan=2>eur</th><th style=\"text-align:center\" colspan=2>sas</th><th style=\"text-align:center\" colspan=2>sax</th></tr></thead>\n",
       "<tr class=\"even\"><td style=\"text-align: right;\">353921</td><td style=\"text-align: right;\">136,501,840</td><td style=\"text-align: right;\">53,819</td><td style=\"text-align: right;\">10</td><td style=\"text-align: right;\">2206</td><td style=\"text-align: right;\">0.00</td><td style=\"text-align: right;\">4</td><td style=\"text-align: right;\">1.00</td><td style=\"text-align: right;\">0</td><td style=\"text-align: right;\">0.00</td><td style=\"text-align: right;\">0</td><td style=\"text-align: right;\">0.00</td><td style=\"text-align: right;\">2</td><td style=\"text-align: right;\">3.61</td><td style=\"text-align: right;\">2</td><td style=\"text-align: right;\">2.48</td><td style=\"text-align: right;\">0</td><td style=\"text-align: right;\">0.00</td><td style=\"text-align: right;\">0</td><td style=\"text-align: right;\">0.00</td><td style=\"text-align: right;\">0</td><td style=\"text-align: right;\">0.00</td></tr>\n",
       "<tr><td style=\"text-align: right;\">353462</td><td style=\"text-align: right;\">135,915,358</td><td style=\"text-align: right;\">79,721</td><td style=\"text-align: right;\">4</td><td style=\"text-align: right;\">1699</td><td style=\"text-align: right;\">0.00</td><td style=\"text-align: right;\">4</td><td style=\"text-align: right;\">1.00</td><td style=\"text-align: right;\">0</td><td style=\"text-align: right;\">0.00</td><td style=\"text-align: right;\">0</td><td style=\"text-align: right;\">0.00</td><td style=\"text-align: right;\">2</td><td style=\"text-align: right;\">3.61</td><td style=\"text-align: right;\">2</td><td style=\"text-align: right;\">2.48</td><td style=\"text-align: right;\">0</td><td style=\"text-align: right;\">0.00</td><td style=\"text-align: right;\">0</td><td style=\"text-align: right;\">0.00</td><td style=\"text-align: right;\">0</td><td style=\"text-align: right;\">0.00</td></tr>\n",
       "<tr class=\"even\"><td style=\"text-align: right;\">353283</td><td style=\"text-align: right;\">135,771,974</td><td style=\"text-align: right;\">368,330</td><td style=\"text-align: right;\">6</td><td style=\"text-align: right;\">1503</td><td style=\"text-align: right;\">0.00</td><td style=\"text-align: right;\">4</td><td style=\"text-align: right;\">1.00</td><td style=\"text-align: right;\">0</td><td style=\"text-align: right;\">0.00</td><td style=\"text-align: right;\">0</td><td style=\"text-align: right;\">0.00</td><td style=\"text-align: right;\">2</td><td style=\"text-align: right;\">3.61</td><td style=\"text-align: right;\">2</td><td style=\"text-align: right;\">2.48</td><td style=\"text-align: right;\">0</td><td style=\"text-align: right;\">0.00</td><td style=\"text-align: right;\">0</td><td style=\"text-align: right;\">0.00</td><td style=\"text-align: right;\">0</td><td style=\"text-align: right;\">0.00</td></tr>\n",
       "<tr><td style=\"text-align: right;\">353797</td><td style=\"text-align: right;\">136,398,174</td><td style=\"text-align: right;\">75,924</td><td style=\"text-align: right;\">26</td><td style=\"text-align: right;\">1414</td><td style=\"text-align: right;\">0.00</td><td style=\"text-align: right;\">4</td><td style=\"text-align: right;\">1.00</td><td style=\"text-align: right;\">0</td><td style=\"text-align: right;\">0.00</td><td style=\"text-align: right;\">0</td><td style=\"text-align: right;\">0.00</td><td style=\"text-align: right;\">2</td><td style=\"text-align: right;\">3.61</td><td style=\"text-align: right;\">2</td><td style=\"text-align: right;\">2.48</td><td style=\"text-align: right;\">0</td><td style=\"text-align: right;\">0.00</td><td style=\"text-align: right;\">0</td><td style=\"text-align: right;\">0.00</td><td style=\"text-align: right;\">0</td><td style=\"text-align: right;\">0.00</td></tr>\n",
       "</table>"
      ],
      "text/plain": [
       "<IPython.core.display.HTML object>"
      ]
     },
     "execution_count": 11,
     "metadata": {},
     "output_type": "execute_result"
    }
   ],
   "source": [
    "HTML(plt_obj.get_html())"
   ]
  },
  {
   "cell_type": "markdown",
   "metadata": {},
   "source": [
    "<div style=\"width:700px\">\n",
    "<p>\n",
    "The data below identifies another apparent recombination event that has left the\n",
    "first 40 SNPs of 64_1575 associated with the lower region of the EUR tree root.\n",
    "This event appears of have taken place in a South Asian population.\n",
    "</div>"
   ]
  },
  {
   "cell_type": "code",
   "execution_count": 12,
   "metadata": {
    "collapsed": false,
    "deletable": true,
    "editable": true
   },
   "outputs": [
    {
     "data": {
      "text/plain": [
       "array([2, 2, 2, 2, 2, 2, 2, 2, 2, 2, 2, 2, 2, 2, 2, 2, 2, 2, 2, 2, 2, 2, 2,\n",
       "       2, 2, 2, 2, 2, 2, 2, 2, 2, 2, 2, 2, 2, 2, 2, 2, 2, 0, 0, 0, 0, 0, 0,\n",
       "       0, 0, 0, 0, 0, 0, 0, 0, 0, 0, 0, 0, 0, 0, 0, 0, 0, 0])"
      ]
     },
     "execution_count": 12,
     "metadata": {},
     "output_type": "execute_result"
    }
   ],
   "source": [
    "aps_40, am_40 = sa_64_1575.snps_from_aps_value(40, am_not_64_1575)\n",
    "aps_40"
   ]
  },
  {
   "cell_type": "code",
   "execution_count": 13,
   "metadata": {
    "collapsed": false,
    "deletable": true,
    "editable": true
   },
   "outputs": [
    {
     "data": {
      "text/html": [
       "\n",
       "\n",
       "    <div class=\"bk-root\">\n",
       "        <div class=\"plotdiv\" id=\"69ac7d71-46ca-4fdd-a99c-e685e6303249\"></div>\n",
       "    </div>\n",
       "<script type=\"text/javascript\">\n",
       "  \n",
       "  (function(global) {\n",
       "    function now() {\n",
       "      return new Date();\n",
       "    }\n",
       "  \n",
       "    if (typeof (window._bokeh_onload_callbacks) === \"undefined\") {\n",
       "      window._bokeh_onload_callbacks = [];\n",
       "    }\n",
       "  \n",
       "    function run_callbacks() {\n",
       "      window._bokeh_onload_callbacks.forEach(function(callback) { callback() });\n",
       "      delete window._bokeh_onload_callbacks\n",
       "      console.info(\"Bokeh: all callbacks have finished\");\n",
       "    }\n",
       "  \n",
       "    function load_libs(js_urls, callback) {\n",
       "      window._bokeh_onload_callbacks.push(callback);\n",
       "      if (window._bokeh_is_loading > 0) {\n",
       "        console.log(\"Bokeh: BokehJS is being loaded, scheduling callback at\", now());\n",
       "        return null;\n",
       "      }\n",
       "      if (js_urls == null || js_urls.length === 0) {\n",
       "        run_callbacks();\n",
       "        return null;\n",
       "      }\n",
       "      console.log(\"Bokeh: BokehJS not loaded, scheduling load and callback at\", now());\n",
       "      window._bokeh_is_loading = js_urls.length;\n",
       "      for (var i = 0; i < js_urls.length; i++) {\n",
       "        var url = js_urls[i];\n",
       "        var s = document.createElement('script');\n",
       "        s.src = url;\n",
       "        s.async = false;\n",
       "        s.onreadystatechange = s.onload = function() {\n",
       "          window._bokeh_is_loading--;\n",
       "          if (window._bokeh_is_loading === 0) {\n",
       "            console.log(\"Bokeh: all BokehJS libraries loaded\");\n",
       "            run_callbacks()\n",
       "          }\n",
       "        };\n",
       "        s.onerror = function() {\n",
       "          console.warn(\"failed to load library \" + url);\n",
       "        };\n",
       "        console.log(\"Bokeh: injecting script tag for BokehJS library: \", url);\n",
       "        document.getElementsByTagName(\"head\")[0].appendChild(s);\n",
       "      }\n",
       "    };var element = document.getElementById(\"69ac7d71-46ca-4fdd-a99c-e685e6303249\");\n",
       "    if (element == null) {\n",
       "      console.log(\"Bokeh: ERROR: autoload.js configured with elementid '69ac7d71-46ca-4fdd-a99c-e685e6303249' but no matching script tag was found. \")\n",
       "      return false;\n",
       "    }\n",
       "  \n",
       "    var js_urls = [];\n",
       "  \n",
       "    var inline_js = [\n",
       "      function(Bokeh) {\n",
       "        Bokeh.$(function() {\n",
       "            var docs_json = {\"3a6f9988-9b2a-4cd7-9908-a198508b5b3b\":{\"roots\":{\"references\":[{\"attributes\":{\"plot\":{\"id\":\"c260fcdf-2613-4a3b-8aa2-f3dfeff920a4\",\"subtype\":\"Figure\",\"type\":\"Plot\"}},\"id\":\"f5709b81-fbc7-4f95-ba9a-4071453aa77a\",\"type\":\"ResetTool\"},{\"attributes\":{\"below\":[{\"id\":\"0b330edf-daa3-4f30-8ba8-e4e83d270d45\",\"type\":\"LinearAxis\"}],\"left\":[{\"id\":\"f9b08828-29ad-4a5d-be69-48d3d63f9a3c\",\"type\":\"LinearAxis\"}],\"plot_height\":300,\"plot_width\":900,\"renderers\":[{\"id\":\"0b330edf-daa3-4f30-8ba8-e4e83d270d45\",\"type\":\"LinearAxis\"},{\"id\":\"d2d8f4e4-68fa-4802-90ac-7b3f1e065921\",\"type\":\"Grid\"},{\"id\":\"f9b08828-29ad-4a5d-be69-48d3d63f9a3c\",\"type\":\"LinearAxis\"},{\"id\":\"89bf8ec1-70c2-420c-a0f3-09eb03f2a57c\",\"type\":\"Grid\"},{\"id\":\"04898be3-cff4-487f-80a0-db3f1326f00a\",\"type\":\"BoxAnnotation\"},{\"id\":\"f422411b-6102-409b-999c-daed03d3b168\",\"type\":\"GlyphRenderer\"},{\"id\":\"98dd8e16-c092-43fe-a9e0-a223d4d6095e\",\"type\":\"GlyphRenderer\"},{\"id\":\"5c20a2d9-7c15-4bda-9ba9-e0e045eb0897\",\"type\":\"LabelSet\"},{\"id\":\"8b1e5bd7-9e7d-4042-9b5a-ed785ef5eb39\",\"type\":\"GlyphRenderer\"},{\"id\":\"0a6dc6a1-bb92-49cb-b0cf-f1791cb662c7\",\"type\":\"LabelSet\"}],\"title\":{\"id\":\"a288c208-6910-4823-8bb2-7e72066ea8e5\",\"type\":\"Title\"},\"tool_events\":{\"id\":\"347b940b-9604-453c-9fc7-82c8ff921b6a\",\"type\":\"ToolEvents\"},\"toolbar\":{\"id\":\"5041e21c-e790-4e4f-be48-8e3b15b90d68\",\"type\":\"Toolbar\"},\"toolbar_location\":null,\"x_range\":{\"id\":\"13066d48-0f66-4cfe-9068-b120c629ef0f\",\"type\":\"Range1d\"},\"y_range\":{\"id\":\"3e786cdc-82f7-40d3-ad2e-948af7f7d649\",\"type\":\"Range1d\"}},\"id\":\"c260fcdf-2613-4a3b-8aa2-f3dfeff920a4\",\"subtype\":\"Figure\",\"type\":\"Plot\"},{\"attributes\":{\"overlay\":{\"id\":\"04898be3-cff4-487f-80a0-db3f1326f00a\",\"type\":\"BoxAnnotation\"},\"plot\":{\"id\":\"c260fcdf-2613-4a3b-8aa2-f3dfeff920a4\",\"subtype\":\"Figure\",\"type\":\"Plot\"}},\"id\":\"c932fe2f-e842-43d6-bfd9-b89e0e100933\",\"type\":\"BoxZoomTool\"},{\"attributes\":{},\"id\":\"b0608ea0-ac63-4109-82fe-5e328fee3d3c\",\"type\":\"BasicTicker\"},{\"attributes\":{\"callback\":null,\"column_names\":[\"xs\",\"ys\",\"line_color\"],\"data\":{\"line_color\":[\"black\",\"black\",\"black\",\"black\",\"black\",\"black\",\"black\",\"black\",\"black\",\"black\",\"black\",\"black\",\"black\",\"black\",\"black\",\"black\",\"black\",\"black\",\"black\",\"black\",\"black\",\"black\",\"black\",\"black\",\"black\",\"black\",\"black\",\"black\",\"black\",\"black\",\"black\",\"black\",\"black\",\"black\",\"black\",\"black\",\"black\",\"black\",\"black\",\"black\",\"black\",\"black\",\"black\",\"black\",\"black\",\"black\"],\"xs\":[[135771974,135771974],[135859371,135859371],[135877562,135877562],[136022798,136022798],[136058820,136058820],[136140304,136140304],[135915358,135915358],[135954405,135954405],[135995073,135995073],[135995079,135995079],[136398174,136398174],[136402117,136402117],[136403749,136403749],[136409073,136409073],[136410299,136410299],[136413359,136413359],[136416855,136416855],[136416941,136416941],[136418348,136418348],[136419961,136419961],[136420690,136420690],[136422171,136422171],[136428460,136428460],[136430866,136430866],[136432103,136432103],[136437507,136437507],[136439090,136439090],[136439517,136439517],[136444123,136444123],[136445526,136445526],[136445869,136445869],[136455600,136455600],[136456642,136456642],[136462441,136462441],[136470714,136470714],[136474098,136474098],[136501840,136501840],[136505546,136505546],[136516748,136516748],[136522710,136522710],[136528004,136528004],[136539513,136539513],[136544752,136544752],[136546110,136546110],[136553529,136553529],[136555659,136555659]],\"ys\":[[50,95],[50,95],[50,95],[50,95],[50,95],[50,95],[150,196],[150,196],[150,196],[150,196],[50,94],[50,94],[50,94],[50,94],[50,94],[50,94],[50,94],[50,94],[50,94],[50,94],[50,94],[50,94],[50,94],[50,94],[50,94],[50,94],[50,94],[50,94],[50,94],[50,94],[50,94],[50,94],[50,94],[50,94],[50,94],[50,94],[150,198],[150,198],[150,198],[150,198],[150,198],[150,198],[150,198],[150,198],[150,198],[150,198]]}},\"id\":\"4e7a7c61-e28f-43f3-aa1b-5121c69eb560\",\"type\":\"ColumnDataSource\"},{\"attributes\":{\"level\":\"glyph\",\"plot\":{\"id\":\"c260fcdf-2613-4a3b-8aa2-f3dfeff920a4\",\"subtype\":\"Figure\",\"type\":\"Plot\"},\"source\":{\"id\":\"3bd6323d-051d-44c9-909a-f4e1d5b2cef3\",\"type\":\"ColumnDataSource\"},\"text\":{\"field\":\"vals\"},\"text_font_size\":{\"value\":\"9pt\"},\"text_font_style\":\"bold\",\"x\":{\"field\":\"x\"},\"y\":{\"field\":\"y\"}},\"id\":\"5c20a2d9-7c15-4bda-9ba9-e0e045eb0897\",\"type\":\"LabelSet\"},{\"attributes\":{\"data_source\":{\"id\":\"1ec2ff84-cfae-4955-8e23-562fef2b9209\",\"type\":\"ColumnDataSource\"},\"glyph\":{\"id\":\"5f97e72f-bbd3-4eed-a4ea-d01aa3ce05c3\",\"type\":\"Quad\"},\"hover_glyph\":null,\"nonselection_glyph\":{\"id\":\"648cd185-bfcb-446d-a6b8-a5f661db7d6a\",\"type\":\"Quad\"},\"selection_glyph\":null},\"id\":\"f422411b-6102-409b-999c-daed03d3b168\",\"type\":\"GlyphRenderer\"},{\"attributes\":{\"plot\":{\"id\":\"c260fcdf-2613-4a3b-8aa2-f3dfeff920a4\",\"subtype\":\"Figure\",\"type\":\"Plot\"}},\"id\":\"f37095b0-42ee-4744-9100-078c817f1501\",\"type\":\"HelpTool\"},{\"attributes\":{\"callback\":null,\"column_names\":[\"right\",\"bottom\",\"top\",\"left\"],\"data\":{\"bottom\":[245,245,245,245,245,245,245],\"left\":[135809835,135957574,136289083,136499189,136545415,136597196,136664254],\"right\":[135928279,136288182,136482839,136542633,136594750,136634047,136743222],\"top\":[275,275,275,275,275,275,275]}},\"id\":\"8a7cb04e-61b6-408d-ae5e-cdbe651108b2\",\"type\":\"ColumnDataSource\"},{\"attributes\":{\"formatter\":{\"id\":\"e678a118-60f9-49f2-b497-29ff1181ec16\",\"type\":\"BasicTickFormatter\"},\"plot\":{\"id\":\"c260fcdf-2613-4a3b-8aa2-f3dfeff920a4\",\"subtype\":\"Figure\",\"type\":\"Plot\"},\"ticker\":{\"id\":\"b0608ea0-ac63-4109-82fe-5e328fee3d3c\",\"type\":\"BasicTicker\"}},\"id\":\"0b330edf-daa3-4f30-8ba8-e4e83d270d45\",\"type\":\"LinearAxis\"},{\"attributes\":{\"plot\":null,\"text\":null},\"id\":\"a288c208-6910-4823-8bb2-7e72066ea8e5\",\"type\":\"Title\"},{\"attributes\":{\"callback\":null,\"end\":300},\"id\":\"3e786cdc-82f7-40d3-ad2e-948af7f7d649\",\"type\":\"Range1d\"},{\"attributes\":{\"bottom\":{\"field\":\"bottom\"},\"fill_alpha\":{\"value\":0.1},\"fill_color\":{\"value\":\"#1f77b4\"},\"left\":{\"field\":\"left\"},\"line_alpha\":{\"value\":0.1},\"line_color\":{\"value\":\"#1f77b4\"},\"right\":{\"field\":\"right\"},\"top\":{\"field\":\"top\"}},\"id\":\"648cd185-bfcb-446d-a6b8-a5f661db7d6a\",\"type\":\"Quad\"},{\"attributes\":{\"plot\":{\"id\":\"c260fcdf-2613-4a3b-8aa2-f3dfeff920a4\",\"subtype\":\"Figure\",\"type\":\"Plot\"}},\"id\":\"c577c15f-113c-4c32-b79b-00fbd23a60eb\",\"type\":\"SaveTool\"},{\"attributes\":{},\"id\":\"6c767c87-52a6-4fbc-ad7c-8c0d412a5ccf\",\"type\":\"BasicTicker\"},{\"attributes\":{\"line_color\":{\"field\":\"line_color\"},\"xs\":{\"field\":\"xs\"},\"ys\":{\"field\":\"ys\"}},\"id\":\"ee6a9a0d-ce8c-4a12-a1dc-14b4bde31576\",\"type\":\"MultiLine\"},{\"attributes\":{},\"id\":\"e678a118-60f9-49f2-b497-29ff1181ec16\",\"type\":\"BasicTickFormatter\"},{\"attributes\":{\"data_source\":{\"id\":\"4e7a7c61-e28f-43f3-aa1b-5121c69eb560\",\"type\":\"ColumnDataSource\"},\"glyph\":{\"id\":\"ee6a9a0d-ce8c-4a12-a1dc-14b4bde31576\",\"type\":\"MultiLine\"},\"hover_glyph\":null,\"nonselection_glyph\":{\"id\":\"5f7c2fea-0e78-4857-81e4-451ec4066433\",\"type\":\"MultiLine\"},\"selection_glyph\":null},\"id\":\"98dd8e16-c092-43fe-a9e0-a223d4d6095e\",\"type\":\"GlyphRenderer\"},{\"attributes\":{\"level\":\"glyph\",\"plot\":{\"id\":\"c260fcdf-2613-4a3b-8aa2-f3dfeff920a4\",\"subtype\":\"Figure\",\"type\":\"Plot\"},\"source\":{\"id\":\"16b4f73b-d370-4869-a671-810c2bbc093d\",\"type\":\"ColumnDataSource\"},\"text\":{\"field\":\"vals\"},\"text_align\":\"center\",\"text_baseline\":\"middle\",\"text_font_size\":{\"value\":\"8pt\"},\"x\":{\"field\":\"x\"},\"y\":{\"field\":\"y\"}},\"id\":\"0a6dc6a1-bb92-49cb-b0cf-f1791cb662c7\",\"type\":\"LabelSet\"},{\"attributes\":{\"bottom\":{\"field\":\"bottom\"},\"fill_color\":{\"value\":\"white\"},\"left\":{\"field\":\"left\"},\"right\":{\"field\":\"right\"},\"top\":{\"field\":\"top\"}},\"id\":\"789248bf-ea53-40f7-b820-dddbbb37fa98\",\"type\":\"Quad\"},{\"attributes\":{\"plot\":{\"id\":\"c260fcdf-2613-4a3b-8aa2-f3dfeff920a4\",\"subtype\":\"Figure\",\"type\":\"Plot\"}},\"id\":\"45c5fcf2-366f-40c4-9d4e-ad35ce529e30\",\"type\":\"PanTool\"},{\"attributes\":{\"bottom_units\":\"screen\",\"fill_alpha\":{\"value\":0.5},\"fill_color\":{\"value\":\"lightgrey\"},\"left_units\":\"screen\",\"level\":\"overlay\",\"line_alpha\":{\"value\":1.0},\"line_color\":{\"value\":\"black\"},\"line_dash\":[4,4],\"line_width\":{\"value\":2},\"plot\":null,\"render_mode\":\"css\",\"right_units\":\"screen\",\"top_units\":\"screen\"},\"id\":\"04898be3-cff4-487f-80a0-db3f1326f00a\",\"type\":\"BoxAnnotation\"},{\"attributes\":{\"callback\":null,\"column_names\":[\"y\",\"x\",\"vals\"],\"data\":{\"vals\":[\"6_1503\",\"4_1699\",\"26_1414\",\"10_2206\"],\"x\":[135771974,135915358,136398174,136501840],\"y\":[100.0,201.0,99.0,203.0]}},\"id\":\"3bd6323d-051d-44c9-909a-f4e1d5b2cef3\",\"type\":\"ColumnDataSource\"},{\"attributes\":{\"callback\":null,\"end\":136786630,\"start\":135757320},\"id\":\"13066d48-0f66-4cfe-9068-b120c629ef0f\",\"type\":\"Range1d\"},{\"attributes\":{\"dimension\":1,\"plot\":{\"id\":\"c260fcdf-2613-4a3b-8aa2-f3dfeff920a4\",\"subtype\":\"Figure\",\"type\":\"Plot\"},\"ticker\":{\"id\":\"6c767c87-52a6-4fbc-ad7c-8c0d412a5ccf\",\"type\":\"BasicTicker\"}},\"id\":\"89bf8ec1-70c2-420c-a0f3-09eb03f2a57c\",\"type\":\"Grid\"},{\"attributes\":{\"callback\":null,\"column_names\":[\"y\",\"x\",\"vals\"],\"data\":{\"vals\":[\"RAB3GAP1\",\"ZRANB3\",\"R3HDM1\",\"UBXN4\",\"LCT\",\"MCM6\",\"DARS\"],\"x\":[135869057.0,136122878.0,136385961.0,136520911.0,136570082.5,136615621.5,136703738.0],\"y\":[260.0,260.0,260.0,260.0,260.0,260.0,260.0]}},\"id\":\"16b4f73b-d370-4869-a671-810c2bbc093d\",\"type\":\"ColumnDataSource\"},{\"attributes\":{\"plot\":{\"id\":\"c260fcdf-2613-4a3b-8aa2-f3dfeff920a4\",\"subtype\":\"Figure\",\"type\":\"Plot\"},\"ticker\":{\"id\":\"b0608ea0-ac63-4109-82fe-5e328fee3d3c\",\"type\":\"BasicTicker\"}},\"id\":\"d2d8f4e4-68fa-4802-90ac-7b3f1e065921\",\"type\":\"Grid\"},{\"attributes\":{\"line_alpha\":{\"value\":0.1},\"line_color\":{\"value\":\"#1f77b4\"},\"xs\":{\"field\":\"xs\"},\"ys\":{\"field\":\"ys\"}},\"id\":\"5f7c2fea-0e78-4857-81e4-451ec4066433\",\"type\":\"MultiLine\"},{\"attributes\":{\"active_drag\":\"auto\",\"active_scroll\":\"auto\",\"active_tap\":\"auto\",\"tools\":[{\"id\":\"45c5fcf2-366f-40c4-9d4e-ad35ce529e30\",\"type\":\"PanTool\"},{\"id\":\"b49a87c6-6ab7-4445-978b-336128cd1c9a\",\"type\":\"WheelZoomTool\"},{\"id\":\"c932fe2f-e842-43d6-bfd9-b89e0e100933\",\"type\":\"BoxZoomTool\"},{\"id\":\"c577c15f-113c-4c32-b79b-00fbd23a60eb\",\"type\":\"SaveTool\"},{\"id\":\"f5709b81-fbc7-4f95-ba9a-4071453aa77a\",\"type\":\"ResetTool\"},{\"id\":\"f37095b0-42ee-4744-9100-078c817f1501\",\"type\":\"HelpTool\"}]},\"id\":\"5041e21c-e790-4e4f-be48-8e3b15b90d68\",\"type\":\"Toolbar\"},{\"attributes\":{\"plot\":{\"id\":\"c260fcdf-2613-4a3b-8aa2-f3dfeff920a4\",\"subtype\":\"Figure\",\"type\":\"Plot\"}},\"id\":\"b49a87c6-6ab7-4445-978b-336128cd1c9a\",\"type\":\"WheelZoomTool\"},{\"attributes\":{\"data_source\":{\"id\":\"8a7cb04e-61b6-408d-ae5e-cdbe651108b2\",\"type\":\"ColumnDataSource\"},\"glyph\":{\"id\":\"789248bf-ea53-40f7-b820-dddbbb37fa98\",\"type\":\"Quad\"},\"hover_glyph\":null,\"nonselection_glyph\":{\"id\":\"163dac34-4f24-4834-8b9a-7bb651409ed7\",\"type\":\"Quad\"},\"selection_glyph\":null},\"id\":\"8b1e5bd7-9e7d-4042-9b5a-ed785ef5eb39\",\"type\":\"GlyphRenderer\"},{\"attributes\":{\"callback\":null,\"column_names\":[\"right\",\"bottom\",\"top\",\"left\",\"fill_color\"],\"data\":{\"bottom\":[50,150,50,150],\"fill_color\":[\"#61c461\",\"#61c461\",\"#61c461\",\"#808080\"],\"left\":[135771974,135915358,136398174,136501840],\"right\":[136140304,135995079,136474098,136555659],\"top\":[95,196,94,198]}},\"id\":\"1ec2ff84-cfae-4955-8e23-562fef2b9209\",\"type\":\"ColumnDataSource\"},{\"attributes\":{},\"id\":\"ca64960b-762c-4656-ae31-c336681d2d28\",\"type\":\"BasicTickFormatter\"},{\"attributes\":{\"bottom\":{\"field\":\"bottom\"},\"fill_alpha\":{\"value\":0.1},\"fill_color\":{\"value\":\"#1f77b4\"},\"left\":{\"field\":\"left\"},\"line_alpha\":{\"value\":0.1},\"line_color\":{\"value\":\"#1f77b4\"},\"right\":{\"field\":\"right\"},\"top\":{\"field\":\"top\"}},\"id\":\"163dac34-4f24-4834-8b9a-7bb651409ed7\",\"type\":\"Quad\"},{\"attributes\":{\"formatter\":{\"id\":\"ca64960b-762c-4656-ae31-c336681d2d28\",\"type\":\"BasicTickFormatter\"},\"plot\":{\"id\":\"c260fcdf-2613-4a3b-8aa2-f3dfeff920a4\",\"subtype\":\"Figure\",\"type\":\"Plot\"},\"ticker\":{\"id\":\"6c767c87-52a6-4fbc-ad7c-8c0d412a5ccf\",\"type\":\"BasicTicker\"},\"visible\":null},\"id\":\"f9b08828-29ad-4a5d-be69-48d3d63f9a3c\",\"type\":\"LinearAxis\"},{\"attributes\":{},\"id\":\"347b940b-9604-453c-9fc7-82c8ff921b6a\",\"type\":\"ToolEvents\"},{\"attributes\":{\"bottom\":{\"field\":\"bottom\"},\"fill_color\":{\"field\":\"fill_color\"},\"left\":{\"field\":\"left\"},\"line_color\":{\"value\":null},\"right\":{\"field\":\"right\"},\"top\":{\"field\":\"top\"}},\"id\":\"5f97e72f-bbd3-4eed-a4ea-d01aa3ce05c3\",\"type\":\"Quad\"}],\"root_ids\":[\"c260fcdf-2613-4a3b-8aa2-f3dfeff920a4\"]},\"title\":\"Bokeh Application\",\"version\":\"0.12.0\"}};\n",
       "            var render_items = [{\"docid\":\"3a6f9988-9b2a-4cd7-9908-a198508b5b3b\",\"elementid\":\"69ac7d71-46ca-4fdd-a99c-e685e6303249\",\"modelid\":\"c260fcdf-2613-4a3b-8aa2-f3dfeff920a4\",\"notebook_comms_target\":\"ed99e506-f1fb-4ce9-a374-c61382186ff8\"}];\n",
       "            \n",
       "            Bokeh.embed.embed_items(docs_json, render_items);\n",
       "        });\n",
       "      },\n",
       "      function(Bokeh) {\n",
       "      }\n",
       "    ];\n",
       "  \n",
       "    function run_inline_js() {\n",
       "      for (var i = 0; i < inline_js.length; i++) {\n",
       "        inline_js[i](window.Bokeh);\n",
       "      }\n",
       "    }\n",
       "  \n",
       "    if (window._bokeh_is_loading === 0) {\n",
       "      console.log(\"Bokeh: BokehJS loaded, going straight to plotting\");\n",
       "      run_inline_js();\n",
       "    } else {\n",
       "      load_libs(js_urls, function() {\n",
       "        console.log(\"Bokeh: BokehJS plotting callback run at\", now());\n",
       "        run_inline_js();\n",
       "      });\n",
       "    }\n",
       "  }(this));\n",
       "</script>"
      ]
     },
     "metadata": {},
     "output_type": "display_data"
    },
    {
     "data": {
      "text/html": [
       "<p><code>&lt;Bokeh Notebook handle for <strong>In[13]</strong>&gt;</code></p>"
      ],
      "text/plain": [
       "<bokeh.io._CommsHandle at 0x7fab1022d3d0>"
      ]
     },
     "execution_count": 13,
     "metadata": {},
     "output_type": "execute_result"
    }
   ],
   "source": [
    "plt_obj = dm.superset_allele_mask(am_40, min_match=0.001)\n",
    "plt = plt_obj.do_plot()\n",
    "show(plt)"
   ]
  },
  {
   "cell_type": "code",
   "execution_count": 14,
   "metadata": {
    "collapsed": false,
    "deletable": true,
    "editable": true
   },
   "outputs": [
    {
     "data": {
      "text/html": [
       "<table>\n",
       "<thead><tr><th style=\"text-align:center\">index</th><th style=\"text-align:center\">first</th><th style=\"text-align:center\">length</th><th style=\"text-align:center\">snps</th><th style=\"text-align:center\" colspan=2>alleles</th><th style=\"text-align:center\" colspan=2>matches</th><th style=\"text-align:center\" colspan=2>afr</th><th style=\"text-align:center\" colspan=2>afx</th><th style=\"text-align:center\" colspan=2>amr</th><th style=\"text-align:center\" colspan=2>eas</th><th style=\"text-align:center\" colspan=2>eur</th><th style=\"text-align:center\" colspan=2>sas</th><th style=\"text-align:center\" colspan=2>sax</th></tr></thead>\n",
       "<tr class=\"even\"><td style=\"text-align: right;\">353921</td><td style=\"text-align: right;\">136,501,840</td><td style=\"text-align: right;\">53,819</td><td style=\"text-align: right;\">10</td><td style=\"text-align: right;\">2206</td><td style=\"text-align: right;\">0.00</td><td style=\"text-align: right;\">2</td><td style=\"text-align: right;\">1.00</td><td style=\"text-align: right;\">0</td><td style=\"text-align: right;\">0.00</td><td style=\"text-align: right;\">0</td><td style=\"text-align: right;\">0.00</td><td style=\"text-align: right;\">0</td><td style=\"text-align: right;\">0.00</td><td style=\"text-align: right;\">0</td><td style=\"text-align: right;\">0.00</td><td style=\"text-align: right;\">0</td><td style=\"text-align: right;\">0.00</td><td style=\"text-align: right;\">1</td><td style=\"text-align: right;\">6.88</td><td style=\"text-align: right;\">1</td><td style=\"text-align: right;\">4.08</td></tr>\n",
       "<tr><td style=\"text-align: right;\">353462</td><td style=\"text-align: right;\">135,915,358</td><td style=\"text-align: right;\">79,721</td><td style=\"text-align: right;\">4</td><td style=\"text-align: right;\">1699</td><td style=\"text-align: right;\">0.00</td><td style=\"text-align: right;\">2</td><td style=\"text-align: right;\">1.00</td><td style=\"text-align: right;\">0</td><td style=\"text-align: right;\">0.00</td><td style=\"text-align: right;\">0</td><td style=\"text-align: right;\">0.00</td><td style=\"text-align: right;\">0</td><td style=\"text-align: right;\">0.00</td><td style=\"text-align: right;\">0</td><td style=\"text-align: right;\">0.00</td><td style=\"text-align: right;\">0</td><td style=\"text-align: right;\">0.00</td><td style=\"text-align: right;\">1</td><td style=\"text-align: right;\">6.88</td><td style=\"text-align: right;\">1</td><td style=\"text-align: right;\">4.08</td></tr>\n",
       "<tr class=\"even\"><td style=\"text-align: right;\">353283</td><td style=\"text-align: right;\">135,771,974</td><td style=\"text-align: right;\">368,330</td><td style=\"text-align: right;\">6</td><td style=\"text-align: right;\">1503</td><td style=\"text-align: right;\">0.00</td><td style=\"text-align: right;\">2</td><td style=\"text-align: right;\">1.00</td><td style=\"text-align: right;\">0</td><td style=\"text-align: right;\">0.00</td><td style=\"text-align: right;\">0</td><td style=\"text-align: right;\">0.00</td><td style=\"text-align: right;\">0</td><td style=\"text-align: right;\">0.00</td><td style=\"text-align: right;\">0</td><td style=\"text-align: right;\">0.00</td><td style=\"text-align: right;\">0</td><td style=\"text-align: right;\">0.00</td><td style=\"text-align: right;\">1</td><td style=\"text-align: right;\">6.88</td><td style=\"text-align: right;\">1</td><td style=\"text-align: right;\">4.08</td></tr>\n",
       "<tr><td style=\"text-align: right;\">353797</td><td style=\"text-align: right;\">136,398,174</td><td style=\"text-align: right;\">75,924</td><td style=\"text-align: right;\">26</td><td style=\"text-align: right;\">1414</td><td style=\"text-align: right;\">0.00</td><td style=\"text-align: right;\">2</td><td style=\"text-align: right;\">1.00</td><td style=\"text-align: right;\">0</td><td style=\"text-align: right;\">0.00</td><td style=\"text-align: right;\">0</td><td style=\"text-align: right;\">0.00</td><td style=\"text-align: right;\">0</td><td style=\"text-align: right;\">0.00</td><td style=\"text-align: right;\">0</td><td style=\"text-align: right;\">0.00</td><td style=\"text-align: right;\">0</td><td style=\"text-align: right;\">0.00</td><td style=\"text-align: right;\">1</td><td style=\"text-align: right;\">6.88</td><td style=\"text-align: right;\">1</td><td style=\"text-align: right;\">4.08</td></tr>\n",
       "</table>"
      ],
      "text/plain": [
       "<IPython.core.display.HTML object>"
      ]
     },
     "execution_count": 14,
     "metadata": {},
     "output_type": "execute_result"
    }
   ],
   "source": [
    "HTML(plt_obj.get_html())"
   ]
  },
  {
   "cell_type": "markdown",
   "metadata": {},
   "source": [
    "<div style=\"width:700px\">\n",
    "<p>\n",
    "The data below identifies one American samples that expresses the first 30 SNPs\n",
    "of 64_1575.  Perhaps it is a separate recombination event.  Or perhaps it is a case\n",
    "of an instance of the 31 SNP recombination event going through another genetic event\n",
    "that mutated the last SNP back to the common value.\n",
    "</div>"
   ]
  },
  {
   "cell_type": "code",
   "execution_count": 15,
   "metadata": {
    "collapsed": false,
    "deletable": true,
    "editable": true
   },
   "outputs": [
    {
     "data": {
      "text/plain": [
       "array([1, 1, 1, 1, 1, 1, 1, 1, 1, 1, 1, 1, 1, 1, 1, 1, 1, 1, 1, 1, 1, 1, 1,\n",
       "       1, 1, 1, 1, 1, 1, 1, 0, 0, 0, 0, 0, 0, 0, 0, 0, 0, 0, 0, 0, 0, 0, 0,\n",
       "       0, 0, 0, 0, 0, 0, 0, 0, 0, 0, 0, 0, 0, 0, 0, 0, 0, 0])"
      ]
     },
     "execution_count": 15,
     "metadata": {},
     "output_type": "execute_result"
    }
   ],
   "source": [
    "aps_30, am_30 = sa_64_1575.snps_from_aps_value(30, am_not_64_1575)\n",
    "aps_30"
   ]
  },
  {
   "cell_type": "code",
   "execution_count": 16,
   "metadata": {
    "collapsed": false,
    "deletable": true,
    "editable": true
   },
   "outputs": [
    {
     "data": {
      "text/html": [
       "\n",
       "\n",
       "    <div class=\"bk-root\">\n",
       "        <div class=\"plotdiv\" id=\"4d234b9a-2f1f-4347-b718-80c8bd232b1d\"></div>\n",
       "    </div>\n",
       "<script type=\"text/javascript\">\n",
       "  \n",
       "  (function(global) {\n",
       "    function now() {\n",
       "      return new Date();\n",
       "    }\n",
       "  \n",
       "    if (typeof (window._bokeh_onload_callbacks) === \"undefined\") {\n",
       "      window._bokeh_onload_callbacks = [];\n",
       "    }\n",
       "  \n",
       "    function run_callbacks() {\n",
       "      window._bokeh_onload_callbacks.forEach(function(callback) { callback() });\n",
       "      delete window._bokeh_onload_callbacks\n",
       "      console.info(\"Bokeh: all callbacks have finished\");\n",
       "    }\n",
       "  \n",
       "    function load_libs(js_urls, callback) {\n",
       "      window._bokeh_onload_callbacks.push(callback);\n",
       "      if (window._bokeh_is_loading > 0) {\n",
       "        console.log(\"Bokeh: BokehJS is being loaded, scheduling callback at\", now());\n",
       "        return null;\n",
       "      }\n",
       "      if (js_urls == null || js_urls.length === 0) {\n",
       "        run_callbacks();\n",
       "        return null;\n",
       "      }\n",
       "      console.log(\"Bokeh: BokehJS not loaded, scheduling load and callback at\", now());\n",
       "      window._bokeh_is_loading = js_urls.length;\n",
       "      for (var i = 0; i < js_urls.length; i++) {\n",
       "        var url = js_urls[i];\n",
       "        var s = document.createElement('script');\n",
       "        s.src = url;\n",
       "        s.async = false;\n",
       "        s.onreadystatechange = s.onload = function() {\n",
       "          window._bokeh_is_loading--;\n",
       "          if (window._bokeh_is_loading === 0) {\n",
       "            console.log(\"Bokeh: all BokehJS libraries loaded\");\n",
       "            run_callbacks()\n",
       "          }\n",
       "        };\n",
       "        s.onerror = function() {\n",
       "          console.warn(\"failed to load library \" + url);\n",
       "        };\n",
       "        console.log(\"Bokeh: injecting script tag for BokehJS library: \", url);\n",
       "        document.getElementsByTagName(\"head\")[0].appendChild(s);\n",
       "      }\n",
       "    };var element = document.getElementById(\"4d234b9a-2f1f-4347-b718-80c8bd232b1d\");\n",
       "    if (element == null) {\n",
       "      console.log(\"Bokeh: ERROR: autoload.js configured with elementid '4d234b9a-2f1f-4347-b718-80c8bd232b1d' but no matching script tag was found. \")\n",
       "      return false;\n",
       "    }\n",
       "  \n",
       "    var js_urls = [];\n",
       "  \n",
       "    var inline_js = [\n",
       "      function(Bokeh) {\n",
       "        Bokeh.$(function() {\n",
       "            var docs_json = {\"c42f4b0a-6e7b-4b48-a116-8f8be1b3305e\":{\"roots\":{\"references\":[{\"attributes\":{\"callback\":null,\"column_names\":[\"xs\",\"ys\",\"line_color\"],\"data\":{\"line_color\":[\"black\",\"black\",\"black\",\"black\",\"black\",\"black\",\"black\",\"black\",\"black\",\"black\",\"black\",\"black\",\"black\",\"black\",\"black\",\"black\",\"black\",\"black\",\"black\",\"black\",\"black\",\"black\",\"black\",\"black\",\"black\",\"black\",\"black\",\"black\",\"black\",\"black\",\"black\",\"black\",\"black\",\"black\",\"black\",\"black\",\"black\",\"black\",\"black\",\"black\",\"black\",\"black\",\"black\",\"black\",\"black\",\"black\"],\"xs\":[[135771974,135771974],[135859371,135859371],[135877562,135877562],[136022798,136022798],[136058820,136058820],[136140304,136140304],[135915358,135915358],[135954405,135954405],[135995073,135995073],[135995079,135995079],[136398174,136398174],[136402117,136402117],[136403749,136403749],[136409073,136409073],[136410299,136410299],[136413359,136413359],[136416855,136416855],[136416941,136416941],[136418348,136418348],[136419961,136419961],[136420690,136420690],[136422171,136422171],[136428460,136428460],[136430866,136430866],[136432103,136432103],[136437507,136437507],[136439090,136439090],[136439517,136439517],[136444123,136444123],[136445526,136445526],[136445869,136445869],[136455600,136455600],[136456642,136456642],[136462441,136462441],[136470714,136470714],[136474098,136474098],[136501840,136501840],[136505546,136505546],[136516748,136516748],[136522710,136522710],[136528004,136528004],[136539513,136539513],[136544752,136544752],[136546110,136546110],[136553529,136553529],[136555659,136555659]],\"ys\":[[50,95],[50,95],[50,95],[50,95],[50,95],[50,95],[150,196],[150,196],[150,196],[150,196],[50,94],[50,94],[50,94],[50,94],[50,94],[50,94],[50,94],[50,94],[50,94],[50,94],[50,94],[50,94],[50,94],[50,94],[50,94],[50,94],[50,94],[50,94],[50,94],[50,94],[50,94],[50,94],[50,94],[50,94],[50,94],[50,94],[150,198],[150,198],[150,198],[150,198],[150,198],[150,198],[150,198],[150,198],[150,198],[150,198]]}},\"id\":\"bca5acf2-9e88-46d5-a5a7-b9b45aa94466\",\"type\":\"ColumnDataSource\"},{\"attributes\":{\"plot\":{\"id\":\"7c3e4cc6-bcbc-4b3f-8483-bd53a4c0cfd1\",\"subtype\":\"Figure\",\"type\":\"Plot\"}},\"id\":\"813a2cc7-15c3-41af-a3ea-2a031bda1a8d\",\"type\":\"PanTool\"},{\"attributes\":{\"below\":[{\"id\":\"5f0a07ea-4e91-4567-8a58-dd00bec6b6f3\",\"type\":\"LinearAxis\"}],\"left\":[{\"id\":\"50b79e8a-f279-43df-a599-749fdd85f9bb\",\"type\":\"LinearAxis\"}],\"plot_height\":300,\"plot_width\":900,\"renderers\":[{\"id\":\"5f0a07ea-4e91-4567-8a58-dd00bec6b6f3\",\"type\":\"LinearAxis\"},{\"id\":\"b0d34da5-b2a8-418c-bb51-df1ceae0ce9a\",\"type\":\"Grid\"},{\"id\":\"50b79e8a-f279-43df-a599-749fdd85f9bb\",\"type\":\"LinearAxis\"},{\"id\":\"12558fe0-43b4-40ac-8928-2b682acd65b2\",\"type\":\"Grid\"},{\"id\":\"ae809db2-2b2c-4089-a3bc-4c1b6e580252\",\"type\":\"BoxAnnotation\"},{\"id\":\"b4f420fa-8412-4fb6-af5a-e56bea621794\",\"type\":\"GlyphRenderer\"},{\"id\":\"d8bfcb19-1fa3-40f2-aac7-b50c55a07b19\",\"type\":\"GlyphRenderer\"},{\"id\":\"19bee021-95c6-443b-9658-0e3fcecdfdaf\",\"type\":\"LabelSet\"},{\"id\":\"5640ec4f-9503-4ae9-b2bf-ffe063d941e6\",\"type\":\"GlyphRenderer\"},{\"id\":\"0ff96295-77cf-4cc8-906a-8d97ec536d42\",\"type\":\"LabelSet\"}],\"title\":{\"id\":\"d801e0e1-40cb-483c-b48c-736ea2407b28\",\"type\":\"Title\"},\"tool_events\":{\"id\":\"05c85d2a-9ed7-424c-8f06-89321a90f899\",\"type\":\"ToolEvents\"},\"toolbar\":{\"id\":\"6f601167-9713-46af-8895-781e9624a9c2\",\"type\":\"Toolbar\"},\"toolbar_location\":null,\"x_range\":{\"id\":\"76bc11d8-3347-4417-839a-cf3aa1cb9573\",\"type\":\"Range1d\"},\"y_range\":{\"id\":\"0ed4fb95-c03a-43a4-83a6-b19932272c38\",\"type\":\"Range1d\"}},\"id\":\"7c3e4cc6-bcbc-4b3f-8483-bd53a4c0cfd1\",\"subtype\":\"Figure\",\"type\":\"Plot\"},{\"attributes\":{\"plot\":null,\"text\":null},\"id\":\"d801e0e1-40cb-483c-b48c-736ea2407b28\",\"type\":\"Title\"},{\"attributes\":{\"bottom\":{\"field\":\"bottom\"},\"fill_alpha\":{\"value\":0.1},\"fill_color\":{\"value\":\"#1f77b4\"},\"left\":{\"field\":\"left\"},\"line_alpha\":{\"value\":0.1},\"line_color\":{\"value\":\"#1f77b4\"},\"right\":{\"field\":\"right\"},\"top\":{\"field\":\"top\"}},\"id\":\"6b60d2d8-b893-4034-a673-3e91eb0e65aa\",\"type\":\"Quad\"},{\"attributes\":{\"plot\":{\"id\":\"7c3e4cc6-bcbc-4b3f-8483-bd53a4c0cfd1\",\"subtype\":\"Figure\",\"type\":\"Plot\"}},\"id\":\"1c09c408-c823-4e43-808d-7484c8841f39\",\"type\":\"WheelZoomTool\"},{\"attributes\":{},\"id\":\"ac389acf-8bf1-4586-aa0a-313361a65895\",\"type\":\"BasicTickFormatter\"},{\"attributes\":{\"dimension\":1,\"plot\":{\"id\":\"7c3e4cc6-bcbc-4b3f-8483-bd53a4c0cfd1\",\"subtype\":\"Figure\",\"type\":\"Plot\"},\"ticker\":{\"id\":\"1df22809-921f-454d-a1c2-5ea92851ccd8\",\"type\":\"BasicTicker\"}},\"id\":\"12558fe0-43b4-40ac-8928-2b682acd65b2\",\"type\":\"Grid\"},{\"attributes\":{},\"id\":\"f07aa665-d7bc-49b2-8fe4-b038bb2734cb\",\"type\":\"BasicTickFormatter\"},{\"attributes\":{},\"id\":\"809bad25-51a9-4ca6-9a43-23baadeb4118\",\"type\":\"BasicTicker\"},{\"attributes\":{\"line_alpha\":{\"value\":0.1},\"line_color\":{\"value\":\"#1f77b4\"},\"xs\":{\"field\":\"xs\"},\"ys\":{\"field\":\"ys\"}},\"id\":\"5527343c-ae2d-4ebc-a4c1-9bff350ebefc\",\"type\":\"MultiLine\"},{\"attributes\":{\"callback\":null,\"column_names\":[\"y\",\"x\",\"vals\"],\"data\":{\"vals\":[\"6_1503\",\"4_1699\",\"26_1414\",\"10_2206\"],\"x\":[135771974,135915358,136398174,136501840],\"y\":[100.0,201.0,99.0,203.0]}},\"id\":\"ee5d1741-8a93-415d-808e-77de68651ecb\",\"type\":\"ColumnDataSource\"},{\"attributes\":{\"bottom\":{\"field\":\"bottom\"},\"fill_color\":{\"value\":\"white\"},\"left\":{\"field\":\"left\"},\"right\":{\"field\":\"right\"},\"top\":{\"field\":\"top\"}},\"id\":\"aeb6a0dc-ff12-452b-8ea2-5c7402759cfc\",\"type\":\"Quad\"},{\"attributes\":{\"plot\":{\"id\":\"7c3e4cc6-bcbc-4b3f-8483-bd53a4c0cfd1\",\"subtype\":\"Figure\",\"type\":\"Plot\"},\"ticker\":{\"id\":\"809bad25-51a9-4ca6-9a43-23baadeb4118\",\"type\":\"BasicTicker\"}},\"id\":\"b0d34da5-b2a8-418c-bb51-df1ceae0ce9a\",\"type\":\"Grid\"},{\"attributes\":{\"line_color\":{\"field\":\"line_color\"},\"xs\":{\"field\":\"xs\"},\"ys\":{\"field\":\"ys\"}},\"id\":\"fc211d56-6144-42e7-aa17-0e71dde90f71\",\"type\":\"MultiLine\"},{\"attributes\":{\"active_drag\":\"auto\",\"active_scroll\":\"auto\",\"active_tap\":\"auto\",\"tools\":[{\"id\":\"813a2cc7-15c3-41af-a3ea-2a031bda1a8d\",\"type\":\"PanTool\"},{\"id\":\"1c09c408-c823-4e43-808d-7484c8841f39\",\"type\":\"WheelZoomTool\"},{\"id\":\"96c751f1-03fc-4c12-8fc8-c5691e350c2c\",\"type\":\"BoxZoomTool\"},{\"id\":\"40b504e5-61c4-44e1-92d6-309e23f5db88\",\"type\":\"SaveTool\"},{\"id\":\"a49fd5df-bd7f-4645-aaa8-b579fac10d7c\",\"type\":\"ResetTool\"},{\"id\":\"7060c12f-10ce-4d56-b0c0-6667885b6a09\",\"type\":\"HelpTool\"}]},\"id\":\"6f601167-9713-46af-8895-781e9624a9c2\",\"type\":\"Toolbar\"},{\"attributes\":{\"data_source\":{\"id\":\"bca5acf2-9e88-46d5-a5a7-b9b45aa94466\",\"type\":\"ColumnDataSource\"},\"glyph\":{\"id\":\"fc211d56-6144-42e7-aa17-0e71dde90f71\",\"type\":\"MultiLine\"},\"hover_glyph\":null,\"nonselection_glyph\":{\"id\":\"5527343c-ae2d-4ebc-a4c1-9bff350ebefc\",\"type\":\"MultiLine\"},\"selection_glyph\":null},\"id\":\"d8bfcb19-1fa3-40f2-aac7-b50c55a07b19\",\"type\":\"GlyphRenderer\"},{\"attributes\":{\"plot\":{\"id\":\"7c3e4cc6-bcbc-4b3f-8483-bd53a4c0cfd1\",\"subtype\":\"Figure\",\"type\":\"Plot\"}},\"id\":\"a49fd5df-bd7f-4645-aaa8-b579fac10d7c\",\"type\":\"ResetTool\"},{\"attributes\":{\"level\":\"glyph\",\"plot\":{\"id\":\"7c3e4cc6-bcbc-4b3f-8483-bd53a4c0cfd1\",\"subtype\":\"Figure\",\"type\":\"Plot\"},\"source\":{\"id\":\"a06a6611-3888-4de6-b743-9c14816c3b1c\",\"type\":\"ColumnDataSource\"},\"text\":{\"field\":\"vals\"},\"text_align\":\"center\",\"text_baseline\":\"middle\",\"text_font_size\":{\"value\":\"8pt\"},\"x\":{\"field\":\"x\"},\"y\":{\"field\":\"y\"}},\"id\":\"0ff96295-77cf-4cc8-906a-8d97ec536d42\",\"type\":\"LabelSet\"},{\"attributes\":{\"plot\":{\"id\":\"7c3e4cc6-bcbc-4b3f-8483-bd53a4c0cfd1\",\"subtype\":\"Figure\",\"type\":\"Plot\"}},\"id\":\"7060c12f-10ce-4d56-b0c0-6667885b6a09\",\"type\":\"HelpTool\"},{\"attributes\":{\"formatter\":{\"id\":\"ac389acf-8bf1-4586-aa0a-313361a65895\",\"type\":\"BasicTickFormatter\"},\"plot\":{\"id\":\"7c3e4cc6-bcbc-4b3f-8483-bd53a4c0cfd1\",\"subtype\":\"Figure\",\"type\":\"Plot\"},\"ticker\":{\"id\":\"1df22809-921f-454d-a1c2-5ea92851ccd8\",\"type\":\"BasicTicker\"},\"visible\":null},\"id\":\"50b79e8a-f279-43df-a599-749fdd85f9bb\",\"type\":\"LinearAxis\"},{\"attributes\":{\"level\":\"glyph\",\"plot\":{\"id\":\"7c3e4cc6-bcbc-4b3f-8483-bd53a4c0cfd1\",\"subtype\":\"Figure\",\"type\":\"Plot\"},\"source\":{\"id\":\"ee5d1741-8a93-415d-808e-77de68651ecb\",\"type\":\"ColumnDataSource\"},\"text\":{\"field\":\"vals\"},\"text_font_size\":{\"value\":\"9pt\"},\"text_font_style\":\"bold\",\"x\":{\"field\":\"x\"},\"y\":{\"field\":\"y\"}},\"id\":\"19bee021-95c6-443b-9658-0e3fcecdfdaf\",\"type\":\"LabelSet\"},{\"attributes\":{\"callback\":null,\"column_names\":[\"right\",\"bottom\",\"top\",\"left\"],\"data\":{\"bottom\":[245,245,245,245,245,245,245],\"left\":[135809835,135957574,136289083,136499189,136545415,136597196,136664254],\"right\":[135928279,136288182,136482839,136542633,136594750,136634047,136743222],\"top\":[275,275,275,275,275,275,275]}},\"id\":\"5cee322f-e042-4ca6-bc92-84108a17307e\",\"type\":\"ColumnDataSource\"},{\"attributes\":{\"callback\":null,\"end\":300},\"id\":\"0ed4fb95-c03a-43a4-83a6-b19932272c38\",\"type\":\"Range1d\"},{\"attributes\":{\"callback\":null,\"end\":136786630,\"start\":135757320},\"id\":\"76bc11d8-3347-4417-839a-cf3aa1cb9573\",\"type\":\"Range1d\"},{\"attributes\":{\"overlay\":{\"id\":\"ae809db2-2b2c-4089-a3bc-4c1b6e580252\",\"type\":\"BoxAnnotation\"},\"plot\":{\"id\":\"7c3e4cc6-bcbc-4b3f-8483-bd53a4c0cfd1\",\"subtype\":\"Figure\",\"type\":\"Plot\"}},\"id\":\"96c751f1-03fc-4c12-8fc8-c5691e350c2c\",\"type\":\"BoxZoomTool\"},{\"attributes\":{\"data_source\":{\"id\":\"1db4f547-50c1-4e50-b340-ade32f0ada5b\",\"type\":\"ColumnDataSource\"},\"glyph\":{\"id\":\"5be40957-759b-4aa3-92fc-8817108d1e99\",\"type\":\"Quad\"},\"hover_glyph\":null,\"nonselection_glyph\":{\"id\":\"6b60d2d8-b893-4034-a673-3e91eb0e65aa\",\"type\":\"Quad\"},\"selection_glyph\":null},\"id\":\"b4f420fa-8412-4fb6-af5a-e56bea621794\",\"type\":\"GlyphRenderer\"},{\"attributes\":{},\"id\":\"05c85d2a-9ed7-424c-8f06-89321a90f899\",\"type\":\"ToolEvents\"},{\"attributes\":{},\"id\":\"1df22809-921f-454d-a1c2-5ea92851ccd8\",\"type\":\"BasicTicker\"},{\"attributes\":{\"bottom\":{\"field\":\"bottom\"},\"fill_alpha\":{\"value\":0.1},\"fill_color\":{\"value\":\"#1f77b4\"},\"left\":{\"field\":\"left\"},\"line_alpha\":{\"value\":0.1},\"line_color\":{\"value\":\"#1f77b4\"},\"right\":{\"field\":\"right\"},\"top\":{\"field\":\"top\"}},\"id\":\"34832859-25ca-4dda-bb3c-d194fc148808\",\"type\":\"Quad\"},{\"attributes\":{\"callback\":null,\"column_names\":[\"y\",\"x\",\"vals\"],\"data\":{\"vals\":[\"RAB3GAP1\",\"ZRANB3\",\"R3HDM1\",\"UBXN4\",\"LCT\",\"MCM6\",\"DARS\"],\"x\":[135869057.0,136122878.0,136385961.0,136520911.0,136570082.5,136615621.5,136703738.0],\"y\":[260.0,260.0,260.0,260.0,260.0,260.0,260.0]}},\"id\":\"a06a6611-3888-4de6-b743-9c14816c3b1c\",\"type\":\"ColumnDataSource\"},{\"attributes\":{\"bottom_units\":\"screen\",\"fill_alpha\":{\"value\":0.5},\"fill_color\":{\"value\":\"lightgrey\"},\"left_units\":\"screen\",\"level\":\"overlay\",\"line_alpha\":{\"value\":1.0},\"line_color\":{\"value\":\"black\"},\"line_dash\":[4,4],\"line_width\":{\"value\":2},\"plot\":null,\"render_mode\":\"css\",\"right_units\":\"screen\",\"top_units\":\"screen\"},\"id\":\"ae809db2-2b2c-4089-a3bc-4c1b6e580252\",\"type\":\"BoxAnnotation\"},{\"attributes\":{\"plot\":{\"id\":\"7c3e4cc6-bcbc-4b3f-8483-bd53a4c0cfd1\",\"subtype\":\"Figure\",\"type\":\"Plot\"}},\"id\":\"40b504e5-61c4-44e1-92d6-309e23f5db88\",\"type\":\"SaveTool\"},{\"attributes\":{\"bottom\":{\"field\":\"bottom\"},\"fill_color\":{\"field\":\"fill_color\"},\"left\":{\"field\":\"left\"},\"line_color\":{\"value\":null},\"right\":{\"field\":\"right\"},\"top\":{\"field\":\"top\"}},\"id\":\"5be40957-759b-4aa3-92fc-8817108d1e99\",\"type\":\"Quad\"},{\"attributes\":{\"callback\":null,\"column_names\":[\"right\",\"bottom\",\"top\",\"left\",\"fill_color\"],\"data\":{\"bottom\":[50,150,50,150],\"fill_color\":[\"#61c461\",\"#61c461\",\"#61c461\",\"#808080\"],\"left\":[135771974,135915358,136398174,136501840],\"right\":[136140304,135995079,136474098,136555659],\"top\":[95,196,94,198]}},\"id\":\"1db4f547-50c1-4e50-b340-ade32f0ada5b\",\"type\":\"ColumnDataSource\"},{\"attributes\":{\"data_source\":{\"id\":\"5cee322f-e042-4ca6-bc92-84108a17307e\",\"type\":\"ColumnDataSource\"},\"glyph\":{\"id\":\"aeb6a0dc-ff12-452b-8ea2-5c7402759cfc\",\"type\":\"Quad\"},\"hover_glyph\":null,\"nonselection_glyph\":{\"id\":\"34832859-25ca-4dda-bb3c-d194fc148808\",\"type\":\"Quad\"},\"selection_glyph\":null},\"id\":\"5640ec4f-9503-4ae9-b2bf-ffe063d941e6\",\"type\":\"GlyphRenderer\"},{\"attributes\":{\"formatter\":{\"id\":\"f07aa665-d7bc-49b2-8fe4-b038bb2734cb\",\"type\":\"BasicTickFormatter\"},\"plot\":{\"id\":\"7c3e4cc6-bcbc-4b3f-8483-bd53a4c0cfd1\",\"subtype\":\"Figure\",\"type\":\"Plot\"},\"ticker\":{\"id\":\"809bad25-51a9-4ca6-9a43-23baadeb4118\",\"type\":\"BasicTicker\"}},\"id\":\"5f0a07ea-4e91-4567-8a58-dd00bec6b6f3\",\"type\":\"LinearAxis\"}],\"root_ids\":[\"7c3e4cc6-bcbc-4b3f-8483-bd53a4c0cfd1\"]},\"title\":\"Bokeh Application\",\"version\":\"0.12.0\"}};\n",
       "            var render_items = [{\"docid\":\"c42f4b0a-6e7b-4b48-a116-8f8be1b3305e\",\"elementid\":\"4d234b9a-2f1f-4347-b718-80c8bd232b1d\",\"modelid\":\"7c3e4cc6-bcbc-4b3f-8483-bd53a4c0cfd1\",\"notebook_comms_target\":\"0d8807de-1360-448c-9e73-6504b207682d\"}];\n",
       "            \n",
       "            Bokeh.embed.embed_items(docs_json, render_items);\n",
       "        });\n",
       "      },\n",
       "      function(Bokeh) {\n",
       "      }\n",
       "    ];\n",
       "  \n",
       "    function run_inline_js() {\n",
       "      for (var i = 0; i < inline_js.length; i++) {\n",
       "        inline_js[i](window.Bokeh);\n",
       "      }\n",
       "    }\n",
       "  \n",
       "    if (window._bokeh_is_loading === 0) {\n",
       "      console.log(\"Bokeh: BokehJS loaded, going straight to plotting\");\n",
       "      run_inline_js();\n",
       "    } else {\n",
       "      load_libs(js_urls, function() {\n",
       "        console.log(\"Bokeh: BokehJS plotting callback run at\", now());\n",
       "        run_inline_js();\n",
       "      });\n",
       "    }\n",
       "  }(this));\n",
       "</script>"
      ]
     },
     "metadata": {},
     "output_type": "display_data"
    },
    {
     "data": {
      "text/html": [
       "<p><code>&lt;Bokeh Notebook handle for <strong>In[16]</strong>&gt;</code></p>"
      ],
      "text/plain": [
       "<bokeh.io._CommsHandle at 0x7fab101cc390>"
      ]
     },
     "execution_count": 16,
     "metadata": {},
     "output_type": "execute_result"
    }
   ],
   "source": [
    "plt_obj = dm.superset_allele_mask(am_30, min_match=0.001)\n",
    "plt = plt_obj.do_plot()\n",
    "show(plt)"
   ]
  },
  {
   "cell_type": "code",
   "execution_count": 17,
   "metadata": {
    "collapsed": false,
    "deletable": true,
    "editable": true
   },
   "outputs": [
    {
     "data": {
      "text/html": [
       "<table>\n",
       "<thead><tr><th style=\"text-align:center\">index</th><th style=\"text-align:center\">first</th><th style=\"text-align:center\">length</th><th style=\"text-align:center\">snps</th><th style=\"text-align:center\" colspan=2>alleles</th><th style=\"text-align:center\" colspan=2>matches</th><th style=\"text-align:center\" colspan=2>afr</th><th style=\"text-align:center\" colspan=2>afx</th><th style=\"text-align:center\" colspan=2>amr</th><th style=\"text-align:center\" colspan=2>eas</th><th style=\"text-align:center\" colspan=2>eur</th><th style=\"text-align:center\" colspan=2>sas</th><th style=\"text-align:center\" colspan=2>sax</th></tr></thead>\n",
       "<tr class=\"even\"><td style=\"text-align: right;\">353921</td><td style=\"text-align: right;\">136,501,840</td><td style=\"text-align: right;\">53,819</td><td style=\"text-align: right;\">10</td><td style=\"text-align: right;\">2206</td><td style=\"text-align: right;\">0.00</td><td style=\"text-align: right;\">1</td><td style=\"text-align: right;\">1.00</td><td style=\"text-align: right;\">0</td><td style=\"text-align: right;\">0.00</td><td style=\"text-align: right;\">0</td><td style=\"text-align: right;\">0.00</td><td style=\"text-align: right;\">1</td><td style=\"text-align: right;\">7.22</td><td style=\"text-align: right;\">0</td><td style=\"text-align: right;\">0.00</td><td style=\"text-align: right;\">0</td><td style=\"text-align: right;\">0.00</td><td style=\"text-align: right;\">0</td><td style=\"text-align: right;\">0.00</td><td style=\"text-align: right;\">0</td><td style=\"text-align: right;\">0.00</td></tr>\n",
       "<tr><td style=\"text-align: right;\">353462</td><td style=\"text-align: right;\">135,915,358</td><td style=\"text-align: right;\">79,721</td><td style=\"text-align: right;\">4</td><td style=\"text-align: right;\">1699</td><td style=\"text-align: right;\">0.00</td><td style=\"text-align: right;\">1</td><td style=\"text-align: right;\">1.00</td><td style=\"text-align: right;\">0</td><td style=\"text-align: right;\">0.00</td><td style=\"text-align: right;\">0</td><td style=\"text-align: right;\">0.00</td><td style=\"text-align: right;\">1</td><td style=\"text-align: right;\">7.22</td><td style=\"text-align: right;\">0</td><td style=\"text-align: right;\">0.00</td><td style=\"text-align: right;\">0</td><td style=\"text-align: right;\">0.00</td><td style=\"text-align: right;\">0</td><td style=\"text-align: right;\">0.00</td><td style=\"text-align: right;\">0</td><td style=\"text-align: right;\">0.00</td></tr>\n",
       "<tr class=\"even\"><td style=\"text-align: right;\">353283</td><td style=\"text-align: right;\">135,771,974</td><td style=\"text-align: right;\">368,330</td><td style=\"text-align: right;\">6</td><td style=\"text-align: right;\">1503</td><td style=\"text-align: right;\">0.00</td><td style=\"text-align: right;\">1</td><td style=\"text-align: right;\">1.00</td><td style=\"text-align: right;\">0</td><td style=\"text-align: right;\">0.00</td><td style=\"text-align: right;\">0</td><td style=\"text-align: right;\">0.00</td><td style=\"text-align: right;\">1</td><td style=\"text-align: right;\">7.22</td><td style=\"text-align: right;\">0</td><td style=\"text-align: right;\">0.00</td><td style=\"text-align: right;\">0</td><td style=\"text-align: right;\">0.00</td><td style=\"text-align: right;\">0</td><td style=\"text-align: right;\">0.00</td><td style=\"text-align: right;\">0</td><td style=\"text-align: right;\">0.00</td></tr>\n",
       "<tr><td style=\"text-align: right;\">353797</td><td style=\"text-align: right;\">136,398,174</td><td style=\"text-align: right;\">75,924</td><td style=\"text-align: right;\">26</td><td style=\"text-align: right;\">1414</td><td style=\"text-align: right;\">0.00</td><td style=\"text-align: right;\">1</td><td style=\"text-align: right;\">1.00</td><td style=\"text-align: right;\">0</td><td style=\"text-align: right;\">0.00</td><td style=\"text-align: right;\">0</td><td style=\"text-align: right;\">0.00</td><td style=\"text-align: right;\">1</td><td style=\"text-align: right;\">7.22</td><td style=\"text-align: right;\">0</td><td style=\"text-align: right;\">0.00</td><td style=\"text-align: right;\">0</td><td style=\"text-align: right;\">0.00</td><td style=\"text-align: right;\">0</td><td style=\"text-align: right;\">0.00</td><td style=\"text-align: right;\">0</td><td style=\"text-align: right;\">0.00</td></tr>\n",
       "</table>"
      ],
      "text/plain": [
       "<IPython.core.display.HTML object>"
      ]
     },
     "execution_count": 17,
     "metadata": {},
     "output_type": "execute_result"
    }
   ],
   "source": [
    "HTML(plt_obj.get_html())"
   ]
  },
  {
   "cell_type": "markdown",
   "metadata": {},
   "source": [
    "<div style=\"width:700px\">\n",
    "<p>\n",
    "The data below identifies one American sample that expresses the first 31 SNPs\n",
    "and the last 6 of 64_1575.  It looks like another American instance of the 31 SNP mutation\n",
    "that has experienced a second recombination event that restored 7_1868 and an associated\n",
    "fragment of the end of 64_1575.\n",
    "</div>"
   ]
  },
  {
   "cell_type": "code",
   "execution_count": 18,
   "metadata": {
    "collapsed": false,
    "deletable": true,
    "editable": true
   },
   "outputs": [
    {
     "data": {
      "text/plain": [
       "array([1, 1, 1, 1, 1, 1, 1, 1, 1, 1, 1, 1, 1, 1, 1, 1, 1, 1, 1, 1, 1, 1, 1,\n",
       "       1, 1, 1, 1, 1, 1, 1, 1, 0, 0, 0, 0, 0, 0, 0, 0, 0, 0, 0, 0, 0, 0, 0,\n",
       "       0, 0, 0, 0, 0, 0, 0, 0, 0, 0, 0, 0, 1, 1, 1, 1, 1, 1])"
      ]
     },
     "execution_count": 18,
     "metadata": {},
     "output_type": "execute_result"
    }
   ],
   "source": [
    "aps_37, am_37 = sa_64_1575.snps_from_aps_value(37, am_not_64_1575)\n",
    "aps_37"
   ]
  },
  {
   "cell_type": "code",
   "execution_count": 19,
   "metadata": {
    "collapsed": false,
    "deletable": true,
    "editable": true
   },
   "outputs": [
    {
     "data": {
      "text/html": [
       "\n",
       "\n",
       "    <div class=\"bk-root\">\n",
       "        <div class=\"plotdiv\" id=\"ab17ce07-c909-447e-b1d3-393b0756ecce\"></div>\n",
       "    </div>\n",
       "<script type=\"text/javascript\">\n",
       "  \n",
       "  (function(global) {\n",
       "    function now() {\n",
       "      return new Date();\n",
       "    }\n",
       "  \n",
       "    if (typeof (window._bokeh_onload_callbacks) === \"undefined\") {\n",
       "      window._bokeh_onload_callbacks = [];\n",
       "    }\n",
       "  \n",
       "    function run_callbacks() {\n",
       "      window._bokeh_onload_callbacks.forEach(function(callback) { callback() });\n",
       "      delete window._bokeh_onload_callbacks\n",
       "      console.info(\"Bokeh: all callbacks have finished\");\n",
       "    }\n",
       "  \n",
       "    function load_libs(js_urls, callback) {\n",
       "      window._bokeh_onload_callbacks.push(callback);\n",
       "      if (window._bokeh_is_loading > 0) {\n",
       "        console.log(\"Bokeh: BokehJS is being loaded, scheduling callback at\", now());\n",
       "        return null;\n",
       "      }\n",
       "      if (js_urls == null || js_urls.length === 0) {\n",
       "        run_callbacks();\n",
       "        return null;\n",
       "      }\n",
       "      console.log(\"Bokeh: BokehJS not loaded, scheduling load and callback at\", now());\n",
       "      window._bokeh_is_loading = js_urls.length;\n",
       "      for (var i = 0; i < js_urls.length; i++) {\n",
       "        var url = js_urls[i];\n",
       "        var s = document.createElement('script');\n",
       "        s.src = url;\n",
       "        s.async = false;\n",
       "        s.onreadystatechange = s.onload = function() {\n",
       "          window._bokeh_is_loading--;\n",
       "          if (window._bokeh_is_loading === 0) {\n",
       "            console.log(\"Bokeh: all BokehJS libraries loaded\");\n",
       "            run_callbacks()\n",
       "          }\n",
       "        };\n",
       "        s.onerror = function() {\n",
       "          console.warn(\"failed to load library \" + url);\n",
       "        };\n",
       "        console.log(\"Bokeh: injecting script tag for BokehJS library: \", url);\n",
       "        document.getElementsByTagName(\"head\")[0].appendChild(s);\n",
       "      }\n",
       "    };var element = document.getElementById(\"ab17ce07-c909-447e-b1d3-393b0756ecce\");\n",
       "    if (element == null) {\n",
       "      console.log(\"Bokeh: ERROR: autoload.js configured with elementid 'ab17ce07-c909-447e-b1d3-393b0756ecce' but no matching script tag was found. \")\n",
       "      return false;\n",
       "    }\n",
       "  \n",
       "    var js_urls = [];\n",
       "  \n",
       "    var inline_js = [\n",
       "      function(Bokeh) {\n",
       "        Bokeh.$(function() {\n",
       "            var docs_json = {\"11da0413-3fed-40b0-92f5-36ec93cfb396\":{\"roots\":{\"references\":[{\"attributes\":{\"below\":[{\"id\":\"87b37187-1a82-4dd2-b61f-2bcc61d0119a\",\"type\":\"LinearAxis\"}],\"left\":[{\"id\":\"123794b8-b9ba-41fc-995b-d33cf0c79264\",\"type\":\"LinearAxis\"}],\"plot_height\":400,\"plot_width\":900,\"renderers\":[{\"id\":\"87b37187-1a82-4dd2-b61f-2bcc61d0119a\",\"type\":\"LinearAxis\"},{\"id\":\"440926d9-3dad-40ef-a1e7-c02ab0d9f3c1\",\"type\":\"Grid\"},{\"id\":\"123794b8-b9ba-41fc-995b-d33cf0c79264\",\"type\":\"LinearAxis\"},{\"id\":\"8c81033c-4cf4-4c76-9042-a0a6b9ee2208\",\"type\":\"Grid\"},{\"id\":\"29b68001-0f4c-4ca1-a29f-a8c30b76a30d\",\"type\":\"BoxAnnotation\"},{\"id\":\"ac869410-b1b0-4fb4-872a-3bc78d3cf614\",\"type\":\"GlyphRenderer\"},{\"id\":\"3e39b475-52b8-482a-87f5-469420cac17b\",\"type\":\"GlyphRenderer\"},{\"id\":\"536bcae3-2471-4892-9a4f-924eca3d808d\",\"type\":\"LabelSet\"},{\"id\":\"8d566d7c-d66a-4dd4-8c24-176de6527516\",\"type\":\"GlyphRenderer\"},{\"id\":\"38c869e3-f6b1-4493-b90d-d58608778466\",\"type\":\"LabelSet\"}],\"title\":{\"id\":\"46a799ea-1dc8-4ef2-9da2-e4e758ec2709\",\"type\":\"Title\"},\"tool_events\":{\"id\":\"ab915408-6880-4983-b48b-d20ee3c44897\",\"type\":\"ToolEvents\"},\"toolbar\":{\"id\":\"a246c2a7-5d77-4492-b8e5-2118dcecb71c\",\"type\":\"Toolbar\"},\"toolbar_location\":null,\"x_range\":{\"id\":\"94d4e871-6439-43ac-a7c5-aa8bf1a9daaf\",\"type\":\"Range1d\"},\"y_range\":{\"id\":\"68db02cc-07dd-4d1c-9848-71ccd045fb31\",\"type\":\"Range1d\"}},\"id\":\"b92a5339-5b3c-436a-b887-4da73d9d8902\",\"subtype\":\"Figure\",\"type\":\"Plot\"},{\"attributes\":{\"callback\":null,\"column_names\":[\"y\",\"x\",\"vals\"],\"data\":{\"vals\":[\"RAB3GAP1\",\"ZRANB3\",\"R3HDM1\",\"UBXN4\",\"LCT\",\"MCM6\",\"DARS\"],\"x\":[135869057.0,136122878.0,136385961.0,136520911.0,136570082.5,136615621.5,136703738.0],\"y\":[360.0,360.0,360.0,360.0,360.0,360.0,360.0]}},\"id\":\"1ff1beed-b6c1-4262-8d47-a664d27607c3\",\"type\":\"ColumnDataSource\"},{\"attributes\":{\"overlay\":{\"id\":\"29b68001-0f4c-4ca1-a29f-a8c30b76a30d\",\"type\":\"BoxAnnotation\"},\"plot\":{\"id\":\"b92a5339-5b3c-436a-b887-4da73d9d8902\",\"subtype\":\"Figure\",\"type\":\"Plot\"}},\"id\":\"e72a4e00-3de7-4ab9-90df-f5f09c96f36d\",\"type\":\"BoxZoomTool\"},{\"attributes\":{\"callback\":null,\"column_names\":[\"y\",\"x\",\"vals\"],\"data\":{\"vals\":[\"6_1503\",\"4_1699\",\"26_1414\",\"10_2206\",\"7_1868\"],\"x\":[135771974,135915358,136398174,136501840,136682274],\"y\":[100.0,201.0,99.0,303.0,302.0]}},\"id\":\"488c3663-45f4-4239-9b42-3750ef68ff75\",\"type\":\"ColumnDataSource\"},{\"attributes\":{\"line_color\":{\"field\":\"line_color\"},\"xs\":{\"field\":\"xs\"},\"ys\":{\"field\":\"ys\"}},\"id\":\"88a6352b-7c55-4f6f-9121-153670855d52\",\"type\":\"MultiLine\"},{\"attributes\":{\"bottom\":{\"field\":\"bottom\"},\"fill_color\":{\"value\":\"white\"},\"left\":{\"field\":\"left\"},\"right\":{\"field\":\"right\"},\"top\":{\"field\":\"top\"}},\"id\":\"4fbdac42-c3ed-4221-9110-fae7a281474f\",\"type\":\"Quad\"},{\"attributes\":{\"plot\":{\"id\":\"b92a5339-5b3c-436a-b887-4da73d9d8902\",\"subtype\":\"Figure\",\"type\":\"Plot\"}},\"id\":\"8cf109e3-a140-4909-b633-e7c5f8b8b851\",\"type\":\"HelpTool\"},{\"attributes\":{\"plot\":{\"id\":\"b92a5339-5b3c-436a-b887-4da73d9d8902\",\"subtype\":\"Figure\",\"type\":\"Plot\"}},\"id\":\"64447902-2ac5-4f0d-baf7-11bb13f4e8bf\",\"type\":\"WheelZoomTool\"},{\"attributes\":{\"callback\":null,\"column_names\":[\"right\",\"bottom\",\"top\",\"left\",\"fill_color\"],\"data\":{\"bottom\":[50,150,50,250,250],\"fill_color\":[\"#61c461\",\"#61c461\",\"#61c461\",\"#808080\",\"#61c461\"],\"left\":[135771974,135915358,136398174,136501840,136682274],\"right\":[136140304,135995079,136474098,136555659,136775898],\"top\":[95,196,94,298,297]}},\"id\":\"6c0026ce-31cf-46d5-bd7e-7db09ffea2c7\",\"type\":\"ColumnDataSource\"},{\"attributes\":{\"line_alpha\":{\"value\":0.1},\"line_color\":{\"value\":\"#1f77b4\"},\"xs\":{\"field\":\"xs\"},\"ys\":{\"field\":\"ys\"}},\"id\":\"82da8140-d30c-4ba7-bc92-ef774a6da993\",\"type\":\"MultiLine\"},{\"attributes\":{\"formatter\":{\"id\":\"acd87125-ff2c-43a8-8388-381d5a568b64\",\"type\":\"BasicTickFormatter\"},\"plot\":{\"id\":\"b92a5339-5b3c-436a-b887-4da73d9d8902\",\"subtype\":\"Figure\",\"type\":\"Plot\"},\"ticker\":{\"id\":\"4f056a00-4682-4360-b359-cca411575288\",\"type\":\"BasicTicker\"},\"visible\":null},\"id\":\"123794b8-b9ba-41fc-995b-d33cf0c79264\",\"type\":\"LinearAxis\"},{\"attributes\":{},\"id\":\"c86065c4-1b89-4fab-9aa7-d373ac68148c\",\"type\":\"BasicTicker\"},{\"attributes\":{\"callback\":null,\"end\":400},\"id\":\"68db02cc-07dd-4d1c-9848-71ccd045fb31\",\"type\":\"Range1d\"},{\"attributes\":{\"formatter\":{\"id\":\"f52a69a3-8020-4e0d-99eb-7ddb02068505\",\"type\":\"BasicTickFormatter\"},\"plot\":{\"id\":\"b92a5339-5b3c-436a-b887-4da73d9d8902\",\"subtype\":\"Figure\",\"type\":\"Plot\"},\"ticker\":{\"id\":\"c86065c4-1b89-4fab-9aa7-d373ac68148c\",\"type\":\"BasicTicker\"}},\"id\":\"87b37187-1a82-4dd2-b61f-2bcc61d0119a\",\"type\":\"LinearAxis\"},{\"attributes\":{\"plot\":{\"id\":\"b92a5339-5b3c-436a-b887-4da73d9d8902\",\"subtype\":\"Figure\",\"type\":\"Plot\"}},\"id\":\"62a2224b-a124-443e-85ac-f7a63231b822\",\"type\":\"ResetTool\"},{\"attributes\":{\"bottom_units\":\"screen\",\"fill_alpha\":{\"value\":0.5},\"fill_color\":{\"value\":\"lightgrey\"},\"left_units\":\"screen\",\"level\":\"overlay\",\"line_alpha\":{\"value\":1.0},\"line_color\":{\"value\":\"black\"},\"line_dash\":[4,4],\"line_width\":{\"value\":2},\"plot\":null,\"render_mode\":\"css\",\"right_units\":\"screen\",\"top_units\":\"screen\"},\"id\":\"29b68001-0f4c-4ca1-a29f-a8c30b76a30d\",\"type\":\"BoxAnnotation\"},{\"attributes\":{},\"id\":\"acd87125-ff2c-43a8-8388-381d5a568b64\",\"type\":\"BasicTickFormatter\"},{\"attributes\":{\"bottom\":{\"field\":\"bottom\"},\"fill_alpha\":{\"value\":0.1},\"fill_color\":{\"value\":\"#1f77b4\"},\"left\":{\"field\":\"left\"},\"line_alpha\":{\"value\":0.1},\"line_color\":{\"value\":\"#1f77b4\"},\"right\":{\"field\":\"right\"},\"top\":{\"field\":\"top\"}},\"id\":\"ad21625d-e23c-4390-82e7-8c5d9fb67c73\",\"type\":\"Quad\"},{\"attributes\":{},\"id\":\"4f056a00-4682-4360-b359-cca411575288\",\"type\":\"BasicTicker\"},{\"attributes\":{\"plot\":{\"id\":\"b92a5339-5b3c-436a-b887-4da73d9d8902\",\"subtype\":\"Figure\",\"type\":\"Plot\"},\"ticker\":{\"id\":\"c86065c4-1b89-4fab-9aa7-d373ac68148c\",\"type\":\"BasicTicker\"}},\"id\":\"440926d9-3dad-40ef-a1e7-c02ab0d9f3c1\",\"type\":\"Grid\"},{\"attributes\":{\"active_drag\":\"auto\",\"active_scroll\":\"auto\",\"active_tap\":\"auto\",\"tools\":[{\"id\":\"f50c6f6a-6bdb-4e75-9163-55b3fca6541c\",\"type\":\"PanTool\"},{\"id\":\"64447902-2ac5-4f0d-baf7-11bb13f4e8bf\",\"type\":\"WheelZoomTool\"},{\"id\":\"e72a4e00-3de7-4ab9-90df-f5f09c96f36d\",\"type\":\"BoxZoomTool\"},{\"id\":\"e79c2c88-66a4-4fa1-a125-c8acce8b1758\",\"type\":\"SaveTool\"},{\"id\":\"62a2224b-a124-443e-85ac-f7a63231b822\",\"type\":\"ResetTool\"},{\"id\":\"8cf109e3-a140-4909-b633-e7c5f8b8b851\",\"type\":\"HelpTool\"}]},\"id\":\"a246c2a7-5d77-4492-b8e5-2118dcecb71c\",\"type\":\"Toolbar\"},{\"attributes\":{\"level\":\"glyph\",\"plot\":{\"id\":\"b92a5339-5b3c-436a-b887-4da73d9d8902\",\"subtype\":\"Figure\",\"type\":\"Plot\"},\"source\":{\"id\":\"1ff1beed-b6c1-4262-8d47-a664d27607c3\",\"type\":\"ColumnDataSource\"},\"text\":{\"field\":\"vals\"},\"text_align\":\"center\",\"text_baseline\":\"middle\",\"text_font_size\":{\"value\":\"8pt\"},\"x\":{\"field\":\"x\"},\"y\":{\"field\":\"y\"}},\"id\":\"38c869e3-f6b1-4493-b90d-d58608778466\",\"type\":\"LabelSet\"},{\"attributes\":{\"data_source\":{\"id\":\"6c0026ce-31cf-46d5-bd7e-7db09ffea2c7\",\"type\":\"ColumnDataSource\"},\"glyph\":{\"id\":\"83e4017c-d0cf-40f7-be58-478ede5f0c8a\",\"type\":\"Quad\"},\"hover_glyph\":null,\"nonselection_glyph\":{\"id\":\"a5f93760-b56f-4e24-93ff-5ee7f9cc2a81\",\"type\":\"Quad\"},\"selection_glyph\":null},\"id\":\"ac869410-b1b0-4fb4-872a-3bc78d3cf614\",\"type\":\"GlyphRenderer\"},{\"attributes\":{},\"id\":\"f52a69a3-8020-4e0d-99eb-7ddb02068505\",\"type\":\"BasicTickFormatter\"},{\"attributes\":{\"bottom\":{\"field\":\"bottom\"},\"fill_color\":{\"field\":\"fill_color\"},\"left\":{\"field\":\"left\"},\"line_color\":{\"value\":null},\"right\":{\"field\":\"right\"},\"top\":{\"field\":\"top\"}},\"id\":\"83e4017c-d0cf-40f7-be58-478ede5f0c8a\",\"type\":\"Quad\"},{\"attributes\":{\"data_source\":{\"id\":\"6c6c7138-1c26-4c5c-ac14-d08438cafcba\",\"type\":\"ColumnDataSource\"},\"glyph\":{\"id\":\"88a6352b-7c55-4f6f-9121-153670855d52\",\"type\":\"MultiLine\"},\"hover_glyph\":null,\"nonselection_glyph\":{\"id\":\"82da8140-d30c-4ba7-bc92-ef774a6da993\",\"type\":\"MultiLine\"},\"selection_glyph\":null},\"id\":\"3e39b475-52b8-482a-87f5-469420cac17b\",\"type\":\"GlyphRenderer\"},{\"attributes\":{\"dimension\":1,\"plot\":{\"id\":\"b92a5339-5b3c-436a-b887-4da73d9d8902\",\"subtype\":\"Figure\",\"type\":\"Plot\"},\"ticker\":{\"id\":\"4f056a00-4682-4360-b359-cca411575288\",\"type\":\"BasicTicker\"}},\"id\":\"8c81033c-4cf4-4c76-9042-a0a6b9ee2208\",\"type\":\"Grid\"},{\"attributes\":{},\"id\":\"ab915408-6880-4983-b48b-d20ee3c44897\",\"type\":\"ToolEvents\"},{\"attributes\":{\"level\":\"glyph\",\"plot\":{\"id\":\"b92a5339-5b3c-436a-b887-4da73d9d8902\",\"subtype\":\"Figure\",\"type\":\"Plot\"},\"source\":{\"id\":\"488c3663-45f4-4239-9b42-3750ef68ff75\",\"type\":\"ColumnDataSource\"},\"text\":{\"field\":\"vals\"},\"text_font_size\":{\"value\":\"9pt\"},\"text_font_style\":\"bold\",\"x\":{\"field\":\"x\"},\"y\":{\"field\":\"y\"}},\"id\":\"536bcae3-2471-4892-9a4f-924eca3d808d\",\"type\":\"LabelSet\"},{\"attributes\":{\"plot\":{\"id\":\"b92a5339-5b3c-436a-b887-4da73d9d8902\",\"subtype\":\"Figure\",\"type\":\"Plot\"}},\"id\":\"f50c6f6a-6bdb-4e75-9163-55b3fca6541c\",\"type\":\"PanTool\"},{\"attributes\":{\"data_source\":{\"id\":\"b541b2a9-f7ee-4e67-ad1f-cc11962fde6b\",\"type\":\"ColumnDataSource\"},\"glyph\":{\"id\":\"4fbdac42-c3ed-4221-9110-fae7a281474f\",\"type\":\"Quad\"},\"hover_glyph\":null,\"nonselection_glyph\":{\"id\":\"ad21625d-e23c-4390-82e7-8c5d9fb67c73\",\"type\":\"Quad\"},\"selection_glyph\":null},\"id\":\"8d566d7c-d66a-4dd4-8c24-176de6527516\",\"type\":\"GlyphRenderer\"},{\"attributes\":{\"callback\":null,\"column_names\":[\"right\",\"bottom\",\"top\",\"left\"],\"data\":{\"bottom\":[345,345,345,345,345,345,345],\"left\":[135809835,135957574,136289083,136499189,136545415,136597196,136664254],\"right\":[135928279,136288182,136482839,136542633,136594750,136634047,136743222],\"top\":[375,375,375,375,375,375,375]}},\"id\":\"b541b2a9-f7ee-4e67-ad1f-cc11962fde6b\",\"type\":\"ColumnDataSource\"},{\"attributes\":{\"callback\":null,\"end\":136786630,\"start\":135757320},\"id\":\"94d4e871-6439-43ac-a7c5-aa8bf1a9daaf\",\"type\":\"Range1d\"},{\"attributes\":{\"plot\":{\"id\":\"b92a5339-5b3c-436a-b887-4da73d9d8902\",\"subtype\":\"Figure\",\"type\":\"Plot\"}},\"id\":\"e79c2c88-66a4-4fa1-a125-c8acce8b1758\",\"type\":\"SaveTool\"},{\"attributes\":{\"callback\":null,\"column_names\":[\"xs\",\"ys\",\"line_color\"],\"data\":{\"line_color\":[\"black\",\"black\",\"black\",\"black\",\"black\",\"black\",\"black\",\"black\",\"black\",\"black\",\"black\",\"black\",\"black\",\"black\",\"black\",\"black\",\"black\",\"black\",\"black\",\"black\",\"black\",\"black\",\"black\",\"black\",\"black\",\"black\",\"black\",\"black\",\"black\",\"black\",\"black\",\"black\",\"black\",\"black\",\"black\",\"black\",\"black\",\"black\",\"black\",\"black\",\"black\",\"black\",\"black\",\"black\",\"black\",\"black\",\"black\",\"black\",\"black\",\"black\",\"black\",\"black\",\"black\"],\"xs\":[[135771974,135771974],[135859371,135859371],[135877562,135877562],[136022798,136022798],[136058820,136058820],[136140304,136140304],[135915358,135915358],[135954405,135954405],[135995073,135995073],[135995079,135995079],[136398174,136398174],[136402117,136402117],[136403749,136403749],[136409073,136409073],[136410299,136410299],[136413359,136413359],[136416855,136416855],[136416941,136416941],[136418348,136418348],[136419961,136419961],[136420690,136420690],[136422171,136422171],[136428460,136428460],[136430866,136430866],[136432103,136432103],[136437507,136437507],[136439090,136439090],[136439517,136439517],[136444123,136444123],[136445526,136445526],[136445869,136445869],[136455600,136455600],[136456642,136456642],[136462441,136462441],[136470714,136470714],[136474098,136474098],[136501840,136501840],[136505546,136505546],[136516748,136516748],[136522710,136522710],[136528004,136528004],[136539513,136539513],[136544752,136544752],[136546110,136546110],[136553529,136553529],[136555659,136555659],[136682274,136682274],[136691825,136691825],[136698098,136698098],[136721603,136721603],[136721995,136721995],[136755684,136755684],[136775898,136775898]],\"ys\":[[50,95],[50,95],[50,95],[50,95],[50,95],[50,95],[150,196],[150,196],[150,196],[150,196],[50,94],[50,94],[50,94],[50,94],[50,94],[50,94],[50,94],[50,94],[50,94],[50,94],[50,94],[50,94],[50,94],[50,94],[50,94],[50,94],[50,94],[50,94],[50,94],[50,94],[50,94],[50,94],[50,94],[50,94],[50,94],[50,94],[250,298],[250,298],[250,298],[250,298],[250,298],[250,298],[250,298],[250,298],[250,298],[250,298],[250,297],[250,297],[250,297],[250,297],[250,297],[250,297],[250,297]]}},\"id\":\"6c6c7138-1c26-4c5c-ac14-d08438cafcba\",\"type\":\"ColumnDataSource\"},{\"attributes\":{\"bottom\":{\"field\":\"bottom\"},\"fill_alpha\":{\"value\":0.1},\"fill_color\":{\"value\":\"#1f77b4\"},\"left\":{\"field\":\"left\"},\"line_alpha\":{\"value\":0.1},\"line_color\":{\"value\":\"#1f77b4\"},\"right\":{\"field\":\"right\"},\"top\":{\"field\":\"top\"}},\"id\":\"a5f93760-b56f-4e24-93ff-5ee7f9cc2a81\",\"type\":\"Quad\"},{\"attributes\":{\"plot\":null,\"text\":null},\"id\":\"46a799ea-1dc8-4ef2-9da2-e4e758ec2709\",\"type\":\"Title\"}],\"root_ids\":[\"b92a5339-5b3c-436a-b887-4da73d9d8902\"]},\"title\":\"Bokeh Application\",\"version\":\"0.12.0\"}};\n",
       "            var render_items = [{\"docid\":\"11da0413-3fed-40b0-92f5-36ec93cfb396\",\"elementid\":\"ab17ce07-c909-447e-b1d3-393b0756ecce\",\"modelid\":\"b92a5339-5b3c-436a-b887-4da73d9d8902\",\"notebook_comms_target\":\"065ab5ae-e316-4f3c-be7e-90bb969f9de3\"}];\n",
       "            \n",
       "            Bokeh.embed.embed_items(docs_json, render_items);\n",
       "        });\n",
       "      },\n",
       "      function(Bokeh) {\n",
       "      }\n",
       "    ];\n",
       "  \n",
       "    function run_inline_js() {\n",
       "      for (var i = 0; i < inline_js.length; i++) {\n",
       "        inline_js[i](window.Bokeh);\n",
       "      }\n",
       "    }\n",
       "  \n",
       "    if (window._bokeh_is_loading === 0) {\n",
       "      console.log(\"Bokeh: BokehJS loaded, going straight to plotting\");\n",
       "      run_inline_js();\n",
       "    } else {\n",
       "      load_libs(js_urls, function() {\n",
       "        console.log(\"Bokeh: BokehJS plotting callback run at\", now());\n",
       "        run_inline_js();\n",
       "      });\n",
       "    }\n",
       "  }(this));\n",
       "</script>"
      ]
     },
     "metadata": {},
     "output_type": "display_data"
    },
    {
     "data": {
      "text/html": [
       "<p><code>&lt;Bokeh Notebook handle for <strong>In[19]</strong>&gt;</code></p>"
      ],
      "text/plain": [
       "<bokeh.io._CommsHandle at 0x7fab10155090>"
      ]
     },
     "execution_count": 19,
     "metadata": {},
     "output_type": "execute_result"
    }
   ],
   "source": [
    "plt_obj = dm.superset_allele_mask(am_37, min_match=0.001)\n",
    "plt = plt_obj.do_plot()\n",
    "show(plt)"
   ]
  },
  {
   "cell_type": "code",
   "execution_count": 20,
   "metadata": {
    "collapsed": false,
    "deletable": true,
    "editable": true
   },
   "outputs": [
    {
     "data": {
      "text/html": [
       "<table>\n",
       "<thead><tr><th style=\"text-align:center\">index</th><th style=\"text-align:center\">first</th><th style=\"text-align:center\">length</th><th style=\"text-align:center\">snps</th><th style=\"text-align:center\" colspan=2>alleles</th><th style=\"text-align:center\" colspan=2>matches</th><th style=\"text-align:center\" colspan=2>afr</th><th style=\"text-align:center\" colspan=2>afx</th><th style=\"text-align:center\" colspan=2>amr</th><th style=\"text-align:center\" colspan=2>eas</th><th style=\"text-align:center\" colspan=2>eur</th><th style=\"text-align:center\" colspan=2>sas</th><th style=\"text-align:center\" colspan=2>sax</th></tr></thead>\n",
       "<tr class=\"even\"><td style=\"text-align: right;\">353921</td><td style=\"text-align: right;\">136,501,840</td><td style=\"text-align: right;\">53,819</td><td style=\"text-align: right;\">10</td><td style=\"text-align: right;\">2206</td><td style=\"text-align: right;\">0.00</td><td style=\"text-align: right;\">1</td><td style=\"text-align: right;\">1.00</td><td style=\"text-align: right;\">0</td><td style=\"text-align: right;\">0.00</td><td style=\"text-align: right;\">0</td><td style=\"text-align: right;\">0.00</td><td style=\"text-align: right;\">1</td><td style=\"text-align: right;\">7.22</td><td style=\"text-align: right;\">0</td><td style=\"text-align: right;\">0.00</td><td style=\"text-align: right;\">0</td><td style=\"text-align: right;\">0.00</td><td style=\"text-align: right;\">0</td><td style=\"text-align: right;\">0.00</td><td style=\"text-align: right;\">0</td><td style=\"text-align: right;\">0.00</td></tr>\n",
       "<tr><td style=\"text-align: right;\">354170</td><td style=\"text-align: right;\">136,682,274</td><td style=\"text-align: right;\">93,624</td><td style=\"text-align: right;\">7</td><td style=\"text-align: right;\">1868</td><td style=\"text-align: right;\">0.00</td><td style=\"text-align: right;\">1</td><td style=\"text-align: right;\">1.00</td><td style=\"text-align: right;\">0</td><td style=\"text-align: right;\">0.00</td><td style=\"text-align: right;\">0</td><td style=\"text-align: right;\">0.00</td><td style=\"text-align: right;\">1</td><td style=\"text-align: right;\">7.22</td><td style=\"text-align: right;\">0</td><td style=\"text-align: right;\">0.00</td><td style=\"text-align: right;\">0</td><td style=\"text-align: right;\">0.00</td><td style=\"text-align: right;\">0</td><td style=\"text-align: right;\">0.00</td><td style=\"text-align: right;\">0</td><td style=\"text-align: right;\">0.00</td></tr>\n",
       "<tr class=\"even\"><td style=\"text-align: right;\">353462</td><td style=\"text-align: right;\">135,915,358</td><td style=\"text-align: right;\">79,721</td><td style=\"text-align: right;\">4</td><td style=\"text-align: right;\">1699</td><td style=\"text-align: right;\">0.00</td><td style=\"text-align: right;\">1</td><td style=\"text-align: right;\">1.00</td><td style=\"text-align: right;\">0</td><td style=\"text-align: right;\">0.00</td><td style=\"text-align: right;\">0</td><td style=\"text-align: right;\">0.00</td><td style=\"text-align: right;\">1</td><td style=\"text-align: right;\">7.22</td><td style=\"text-align: right;\">0</td><td style=\"text-align: right;\">0.00</td><td style=\"text-align: right;\">0</td><td style=\"text-align: right;\">0.00</td><td style=\"text-align: right;\">0</td><td style=\"text-align: right;\">0.00</td><td style=\"text-align: right;\">0</td><td style=\"text-align: right;\">0.00</td></tr>\n",
       "<tr><td style=\"text-align: right;\">353283</td><td style=\"text-align: right;\">135,771,974</td><td style=\"text-align: right;\">368,330</td><td style=\"text-align: right;\">6</td><td style=\"text-align: right;\">1503</td><td style=\"text-align: right;\">0.00</td><td style=\"text-align: right;\">1</td><td style=\"text-align: right;\">1.00</td><td style=\"text-align: right;\">0</td><td style=\"text-align: right;\">0.00</td><td style=\"text-align: right;\">0</td><td style=\"text-align: right;\">0.00</td><td style=\"text-align: right;\">1</td><td style=\"text-align: right;\">7.22</td><td style=\"text-align: right;\">0</td><td style=\"text-align: right;\">0.00</td><td style=\"text-align: right;\">0</td><td style=\"text-align: right;\">0.00</td><td style=\"text-align: right;\">0</td><td style=\"text-align: right;\">0.00</td><td style=\"text-align: right;\">0</td><td style=\"text-align: right;\">0.00</td></tr>\n",
       "<tr class=\"even\"><td style=\"text-align: right;\">353797</td><td style=\"text-align: right;\">136,398,174</td><td style=\"text-align: right;\">75,924</td><td style=\"text-align: right;\">26</td><td style=\"text-align: right;\">1414</td><td style=\"text-align: right;\">0.00</td><td style=\"text-align: right;\">1</td><td style=\"text-align: right;\">1.00</td><td style=\"text-align: right;\">0</td><td style=\"text-align: right;\">0.00</td><td style=\"text-align: right;\">0</td><td style=\"text-align: right;\">0.00</td><td style=\"text-align: right;\">1</td><td style=\"text-align: right;\">7.22</td><td style=\"text-align: right;\">0</td><td style=\"text-align: right;\">0.00</td><td style=\"text-align: right;\">0</td><td style=\"text-align: right;\">0.00</td><td style=\"text-align: right;\">0</td><td style=\"text-align: right;\">0.00</td><td style=\"text-align: right;\">0</td><td style=\"text-align: right;\">0.00</td></tr>\n",
       "</table>"
      ],
      "text/plain": [
       "<IPython.core.display.HTML object>"
      ]
     },
     "execution_count": 20,
     "metadata": {},
     "output_type": "execute_result"
    }
   ],
   "source": [
    "HTML(plt_obj.get_html())"
   ]
  },
  {
   "cell_type": "markdown",
   "metadata": {},
   "source": [
    "<div style=\"width:700px\">\n",
    "<p>\n",
    "The data below shows another American sample that appears to be derived\n",
    "from the 31 SNP recombination event.  It also expresses the last 7 SNPs\n",
    "of 64_1575 and 1 in the middle.  It is most likely the result of another\n",
    "event that recombined the 31 SNP fragment with 7_1868 and an overlapping\n",
    "fragment of the upper part of 64_1575.  Somewhere in the history another\n",
    "mutation generated the isolated middle SNP.\n",
    "</div>"
   ]
  },
  {
   "cell_type": "code",
   "execution_count": 21,
   "metadata": {
    "collapsed": false,
    "deletable": true,
    "editable": true
   },
   "outputs": [
    {
     "data": {
      "text/plain": [
       "array([1, 1, 1, 1, 1, 1, 1, 1, 1, 1, 1, 1, 1, 1, 1, 1, 1, 1, 1, 1, 1, 1, 1,\n",
       "       1, 1, 1, 1, 1, 1, 1, 1, 0, 0, 0, 0, 0, 0, 0, 0, 0, 0, 0, 0, 0, 0, 0,\n",
       "       0, 0, 0, 0, 0, 1, 0, 0, 0, 0, 0, 1, 1, 1, 1, 1, 1, 1])"
      ]
     },
     "execution_count": 21,
     "metadata": {},
     "output_type": "execute_result"
    }
   ],
   "source": [
    "aps_39, am_39 = sa_64_1575.snps_from_aps_value(39, am_not_64_1575)\n",
    "aps_39"
   ]
  },
  {
   "cell_type": "code",
   "execution_count": 22,
   "metadata": {
    "collapsed": false,
    "deletable": true,
    "editable": true
   },
   "outputs": [
    {
     "data": {
      "text/html": [
       "\n",
       "\n",
       "    <div class=\"bk-root\">\n",
       "        <div class=\"plotdiv\" id=\"1ec7d26b-246e-4198-9306-b728bcbaa434\"></div>\n",
       "    </div>\n",
       "<script type=\"text/javascript\">\n",
       "  \n",
       "  (function(global) {\n",
       "    function now() {\n",
       "      return new Date();\n",
       "    }\n",
       "  \n",
       "    if (typeof (window._bokeh_onload_callbacks) === \"undefined\") {\n",
       "      window._bokeh_onload_callbacks = [];\n",
       "    }\n",
       "  \n",
       "    function run_callbacks() {\n",
       "      window._bokeh_onload_callbacks.forEach(function(callback) { callback() });\n",
       "      delete window._bokeh_onload_callbacks\n",
       "      console.info(\"Bokeh: all callbacks have finished\");\n",
       "    }\n",
       "  \n",
       "    function load_libs(js_urls, callback) {\n",
       "      window._bokeh_onload_callbacks.push(callback);\n",
       "      if (window._bokeh_is_loading > 0) {\n",
       "        console.log(\"Bokeh: BokehJS is being loaded, scheduling callback at\", now());\n",
       "        return null;\n",
       "      }\n",
       "      if (js_urls == null || js_urls.length === 0) {\n",
       "        run_callbacks();\n",
       "        return null;\n",
       "      }\n",
       "      console.log(\"Bokeh: BokehJS not loaded, scheduling load and callback at\", now());\n",
       "      window._bokeh_is_loading = js_urls.length;\n",
       "      for (var i = 0; i < js_urls.length; i++) {\n",
       "        var url = js_urls[i];\n",
       "        var s = document.createElement('script');\n",
       "        s.src = url;\n",
       "        s.async = false;\n",
       "        s.onreadystatechange = s.onload = function() {\n",
       "          window._bokeh_is_loading--;\n",
       "          if (window._bokeh_is_loading === 0) {\n",
       "            console.log(\"Bokeh: all BokehJS libraries loaded\");\n",
       "            run_callbacks()\n",
       "          }\n",
       "        };\n",
       "        s.onerror = function() {\n",
       "          console.warn(\"failed to load library \" + url);\n",
       "        };\n",
       "        console.log(\"Bokeh: injecting script tag for BokehJS library: \", url);\n",
       "        document.getElementsByTagName(\"head\")[0].appendChild(s);\n",
       "      }\n",
       "    };var element = document.getElementById(\"1ec7d26b-246e-4198-9306-b728bcbaa434\");\n",
       "    if (element == null) {\n",
       "      console.log(\"Bokeh: ERROR: autoload.js configured with elementid '1ec7d26b-246e-4198-9306-b728bcbaa434' but no matching script tag was found. \")\n",
       "      return false;\n",
       "    }\n",
       "  \n",
       "    var js_urls = [];\n",
       "  \n",
       "    var inline_js = [\n",
       "      function(Bokeh) {\n",
       "        Bokeh.$(function() {\n",
       "            var docs_json = {\"bd70b18b-eb8f-441c-bc40-04b6291c43df\":{\"roots\":{\"references\":[{\"attributes\":{\"callback\":null,\"column_names\":[\"xs\",\"ys\",\"line_color\"],\"data\":{\"line_color\":[\"black\",\"black\",\"black\",\"black\",\"black\",\"black\",\"black\",\"black\",\"black\",\"black\",\"black\",\"black\",\"black\",\"black\",\"black\",\"black\",\"black\",\"black\",\"black\",\"black\",\"black\",\"black\",\"black\",\"black\",\"black\",\"black\",\"black\",\"black\",\"black\",\"black\",\"black\",\"black\",\"black\",\"black\",\"black\",\"black\",\"black\",\"black\",\"black\",\"black\",\"black\",\"black\",\"black\",\"black\",\"black\",\"black\",\"black\",\"black\",\"black\",\"black\",\"black\",\"black\",\"black\"],\"xs\":[[135771974,135771974],[135859371,135859371],[135877562,135877562],[136022798,136022798],[136058820,136058820],[136140304,136140304],[135915358,135915358],[135954405,135954405],[135995073,135995073],[135995079,135995079],[136398174,136398174],[136402117,136402117],[136403749,136403749],[136409073,136409073],[136410299,136410299],[136413359,136413359],[136416855,136416855],[136416941,136416941],[136418348,136418348],[136419961,136419961],[136420690,136420690],[136422171,136422171],[136428460,136428460],[136430866,136430866],[136432103,136432103],[136437507,136437507],[136439090,136439090],[136439517,136439517],[136444123,136444123],[136445526,136445526],[136445869,136445869],[136455600,136455600],[136456642,136456642],[136462441,136462441],[136470714,136470714],[136474098,136474098],[136501840,136501840],[136505546,136505546],[136516748,136516748],[136522710,136522710],[136528004,136528004],[136539513,136539513],[136544752,136544752],[136546110,136546110],[136553529,136553529],[136555659,136555659],[136682274,136682274],[136691825,136691825],[136698098,136698098],[136721603,136721603],[136721995,136721995],[136755684,136755684],[136775898,136775898]],\"ys\":[[50,95],[50,95],[50,95],[50,95],[50,95],[50,95],[150,196],[150,196],[150,196],[150,196],[50,94],[50,94],[50,94],[50,94],[50,94],[50,94],[50,94],[50,94],[50,94],[50,94],[50,94],[50,94],[50,94],[50,94],[50,94],[50,94],[50,94],[50,94],[50,94],[50,94],[50,94],[50,94],[50,94],[50,94],[50,94],[50,94],[250,298],[250,298],[250,298],[250,298],[250,298],[250,298],[250,298],[250,298],[250,298],[250,298],[250,297],[250,297],[250,297],[250,297],[250,297],[250,297],[250,297]]}},\"id\":\"e8551dbd-2ef9-4b0b-b67a-07c1a5cd14c2\",\"type\":\"ColumnDataSource\"},{\"attributes\":{\"plot\":{\"id\":\"451f1861-4f43-4de0-a513-2bc3a6089bcb\",\"subtype\":\"Figure\",\"type\":\"Plot\"}},\"id\":\"0d5ab26c-78e8-4214-8d30-bc4a9af9bbb7\",\"type\":\"WheelZoomTool\"},{\"attributes\":{\"dimension\":1,\"plot\":{\"id\":\"451f1861-4f43-4de0-a513-2bc3a6089bcb\",\"subtype\":\"Figure\",\"type\":\"Plot\"},\"ticker\":{\"id\":\"07724a9f-9239-4738-b39b-e2338446c860\",\"type\":\"BasicTicker\"}},\"id\":\"4f81e17b-24a2-4604-848e-bb31f5a0e88e\",\"type\":\"Grid\"},{\"attributes\":{},\"id\":\"7b95276d-3ed2-453a-9f02-71a7a988cb31\",\"type\":\"ToolEvents\"},{\"attributes\":{\"plot\":{\"id\":\"451f1861-4f43-4de0-a513-2bc3a6089bcb\",\"subtype\":\"Figure\",\"type\":\"Plot\"}},\"id\":\"9fbe8344-790b-4d23-94ed-7a90165da732\",\"type\":\"SaveTool\"},{\"attributes\":{\"plot\":{\"id\":\"451f1861-4f43-4de0-a513-2bc3a6089bcb\",\"subtype\":\"Figure\",\"type\":\"Plot\"}},\"id\":\"c985000c-31eb-4b35-bfc9-a52d33953847\",\"type\":\"ResetTool\"},{\"attributes\":{\"plot\":{\"id\":\"451f1861-4f43-4de0-a513-2bc3a6089bcb\",\"subtype\":\"Figure\",\"type\":\"Plot\"}},\"id\":\"95f0cfe5-0331-4a99-8f0e-85c2e555cbb7\",\"type\":\"PanTool\"},{\"attributes\":{\"plot\":null,\"text\":null},\"id\":\"b2727e12-6711-4375-a459-85fbdd880ad7\",\"type\":\"Title\"},{\"attributes\":{\"plot\":{\"id\":\"451f1861-4f43-4de0-a513-2bc3a6089bcb\",\"subtype\":\"Figure\",\"type\":\"Plot\"}},\"id\":\"9e5a7475-5bc3-4f15-a51e-e06786b323ae\",\"type\":\"HelpTool\"},{\"attributes\":{\"bottom\":{\"field\":\"bottom\"},\"fill_alpha\":{\"value\":0.1},\"fill_color\":{\"value\":\"#1f77b4\"},\"left\":{\"field\":\"left\"},\"line_alpha\":{\"value\":0.1},\"line_color\":{\"value\":\"#1f77b4\"},\"right\":{\"field\":\"right\"},\"top\":{\"field\":\"top\"}},\"id\":\"0c4fb6dd-99d3-48e5-8660-7fcf093ce6c7\",\"type\":\"Quad\"},{\"attributes\":{\"bottom_units\":\"screen\",\"fill_alpha\":{\"value\":0.5},\"fill_color\":{\"value\":\"lightgrey\"},\"left_units\":\"screen\",\"level\":\"overlay\",\"line_alpha\":{\"value\":1.0},\"line_color\":{\"value\":\"black\"},\"line_dash\":[4,4],\"line_width\":{\"value\":2},\"plot\":null,\"render_mode\":\"css\",\"right_units\":\"screen\",\"top_units\":\"screen\"},\"id\":\"eff18384-46a1-4fef-bb15-393206ad86a6\",\"type\":\"BoxAnnotation\"},{\"attributes\":{\"line_alpha\":{\"value\":0.1},\"line_color\":{\"value\":\"#1f77b4\"},\"xs\":{\"field\":\"xs\"},\"ys\":{\"field\":\"ys\"}},\"id\":\"5e091fc1-5635-43aa-aac0-1f8cb9f6348f\",\"type\":\"MultiLine\"},{\"attributes\":{\"callback\":null,\"end\":136786630,\"start\":135757320},\"id\":\"0f3d042d-c6d9-4df3-9473-4704ed3e5aa8\",\"type\":\"Range1d\"},{\"attributes\":{\"callback\":null,\"column_names\":[\"y\",\"x\",\"vals\"],\"data\":{\"vals\":[\"RAB3GAP1\",\"ZRANB3\",\"R3HDM1\",\"UBXN4\",\"LCT\",\"MCM6\",\"DARS\"],\"x\":[135869057.0,136122878.0,136385961.0,136520911.0,136570082.5,136615621.5,136703738.0],\"y\":[360.0,360.0,360.0,360.0,360.0,360.0,360.0]}},\"id\":\"a04be847-46ac-426f-9ddc-d54d9719465b\",\"type\":\"ColumnDataSource\"},{\"attributes\":{\"data_source\":{\"id\":\"e8551dbd-2ef9-4b0b-b67a-07c1a5cd14c2\",\"type\":\"ColumnDataSource\"},\"glyph\":{\"id\":\"dbd5fa33-5f1f-4eaa-a130-18ccebd0a049\",\"type\":\"MultiLine\"},\"hover_glyph\":null,\"nonselection_glyph\":{\"id\":\"5e091fc1-5635-43aa-aac0-1f8cb9f6348f\",\"type\":\"MultiLine\"},\"selection_glyph\":null},\"id\":\"693ea99a-6523-4913-becd-3bc09f66287a\",\"type\":\"GlyphRenderer\"},{\"attributes\":{\"level\":\"glyph\",\"plot\":{\"id\":\"451f1861-4f43-4de0-a513-2bc3a6089bcb\",\"subtype\":\"Figure\",\"type\":\"Plot\"},\"source\":{\"id\":\"d7009375-14a6-44f7-81bf-a55c676c8986\",\"type\":\"ColumnDataSource\"},\"text\":{\"field\":\"vals\"},\"text_font_size\":{\"value\":\"9pt\"},\"text_font_style\":\"bold\",\"x\":{\"field\":\"x\"},\"y\":{\"field\":\"y\"}},\"id\":\"df17f9d8-5ea2-48f4-9b52-59123e425ff6\",\"type\":\"LabelSet\"},{\"attributes\":{\"below\":[{\"id\":\"44986de3-1ded-4986-aa2a-9eb834730051\",\"type\":\"LinearAxis\"}],\"left\":[{\"id\":\"5421ecec-4d59-4e3e-8cbe-65e2a831d864\",\"type\":\"LinearAxis\"}],\"plot_height\":400,\"plot_width\":900,\"renderers\":[{\"id\":\"44986de3-1ded-4986-aa2a-9eb834730051\",\"type\":\"LinearAxis\"},{\"id\":\"7deead25-ffc2-4099-9229-178e0140fe98\",\"type\":\"Grid\"},{\"id\":\"5421ecec-4d59-4e3e-8cbe-65e2a831d864\",\"type\":\"LinearAxis\"},{\"id\":\"4f81e17b-24a2-4604-848e-bb31f5a0e88e\",\"type\":\"Grid\"},{\"id\":\"eff18384-46a1-4fef-bb15-393206ad86a6\",\"type\":\"BoxAnnotation\"},{\"id\":\"c6b34d9e-05b1-4384-8093-f5f40923320a\",\"type\":\"GlyphRenderer\"},{\"id\":\"693ea99a-6523-4913-becd-3bc09f66287a\",\"type\":\"GlyphRenderer\"},{\"id\":\"df17f9d8-5ea2-48f4-9b52-59123e425ff6\",\"type\":\"LabelSet\"},{\"id\":\"d0734076-9c6c-4be7-aee1-38cc935633af\",\"type\":\"GlyphRenderer\"},{\"id\":\"42f29840-c444-4257-a5f4-3ba3f502c281\",\"type\":\"LabelSet\"}],\"title\":{\"id\":\"b2727e12-6711-4375-a459-85fbdd880ad7\",\"type\":\"Title\"},\"tool_events\":{\"id\":\"7b95276d-3ed2-453a-9f02-71a7a988cb31\",\"type\":\"ToolEvents\"},\"toolbar\":{\"id\":\"ee2aa264-37cd-40c0-a941-4094fcc61696\",\"type\":\"Toolbar\"},\"toolbar_location\":null,\"x_range\":{\"id\":\"0f3d042d-c6d9-4df3-9473-4704ed3e5aa8\",\"type\":\"Range1d\"},\"y_range\":{\"id\":\"80ddb6b2-cd36-4ce5-8871-d35a8692a8ca\",\"type\":\"Range1d\"}},\"id\":\"451f1861-4f43-4de0-a513-2bc3a6089bcb\",\"subtype\":\"Figure\",\"type\":\"Plot\"},{\"attributes\":{\"callback\":null,\"column_names\":[\"right\",\"bottom\",\"top\",\"left\"],\"data\":{\"bottom\":[345,345,345,345,345,345,345],\"left\":[135809835,135957574,136289083,136499189,136545415,136597196,136664254],\"right\":[135928279,136288182,136482839,136542633,136594750,136634047,136743222],\"top\":[375,375,375,375,375,375,375]}},\"id\":\"82fa4253-e823-4f79-a3dc-1a6b84d59ebd\",\"type\":\"ColumnDataSource\"},{\"attributes\":{\"plot\":{\"id\":\"451f1861-4f43-4de0-a513-2bc3a6089bcb\",\"subtype\":\"Figure\",\"type\":\"Plot\"},\"ticker\":{\"id\":\"234a1885-fdd0-4b81-8b4a-cb8066c34406\",\"type\":\"BasicTicker\"}},\"id\":\"7deead25-ffc2-4099-9229-178e0140fe98\",\"type\":\"Grid\"},{\"attributes\":{\"data_source\":{\"id\":\"82fa4253-e823-4f79-a3dc-1a6b84d59ebd\",\"type\":\"ColumnDataSource\"},\"glyph\":{\"id\":\"0afe7177-76f2-49f7-ba9b-4c1bbb8eaed1\",\"type\":\"Quad\"},\"hover_glyph\":null,\"nonselection_glyph\":{\"id\":\"0c4fb6dd-99d3-48e5-8660-7fcf093ce6c7\",\"type\":\"Quad\"},\"selection_glyph\":null},\"id\":\"d0734076-9c6c-4be7-aee1-38cc935633af\",\"type\":\"GlyphRenderer\"},{\"attributes\":{\"formatter\":{\"id\":\"fcee98a5-4871-4cf0-9427-b137b71d488d\",\"type\":\"BasicTickFormatter\"},\"plot\":{\"id\":\"451f1861-4f43-4de0-a513-2bc3a6089bcb\",\"subtype\":\"Figure\",\"type\":\"Plot\"},\"ticker\":{\"id\":\"234a1885-fdd0-4b81-8b4a-cb8066c34406\",\"type\":\"BasicTicker\"}},\"id\":\"44986de3-1ded-4986-aa2a-9eb834730051\",\"type\":\"LinearAxis\"},{\"attributes\":{\"bottom\":{\"field\":\"bottom\"},\"fill_color\":{\"field\":\"fill_color\"},\"left\":{\"field\":\"left\"},\"line_color\":{\"value\":null},\"right\":{\"field\":\"right\"},\"top\":{\"field\":\"top\"}},\"id\":\"254fce69-75ae-4b35-a121-43d94de1716f\",\"type\":\"Quad\"},{\"attributes\":{\"bottom\":{\"field\":\"bottom\"},\"fill_alpha\":{\"value\":0.1},\"fill_color\":{\"value\":\"#1f77b4\"},\"left\":{\"field\":\"left\"},\"line_alpha\":{\"value\":0.1},\"line_color\":{\"value\":\"#1f77b4\"},\"right\":{\"field\":\"right\"},\"top\":{\"field\":\"top\"}},\"id\":\"4730df9f-9b20-41d9-9a22-dc7fa0323efc\",\"type\":\"Quad\"},{\"attributes\":{\"callback\":null,\"end\":400},\"id\":\"80ddb6b2-cd36-4ce5-8871-d35a8692a8ca\",\"type\":\"Range1d\"},{\"attributes\":{\"level\":\"glyph\",\"plot\":{\"id\":\"451f1861-4f43-4de0-a513-2bc3a6089bcb\",\"subtype\":\"Figure\",\"type\":\"Plot\"},\"source\":{\"id\":\"a04be847-46ac-426f-9ddc-d54d9719465b\",\"type\":\"ColumnDataSource\"},\"text\":{\"field\":\"vals\"},\"text_align\":\"center\",\"text_baseline\":\"middle\",\"text_font_size\":{\"value\":\"8pt\"},\"x\":{\"field\":\"x\"},\"y\":{\"field\":\"y\"}},\"id\":\"42f29840-c444-4257-a5f4-3ba3f502c281\",\"type\":\"LabelSet\"},{\"attributes\":{},\"id\":\"07724a9f-9239-4738-b39b-e2338446c860\",\"type\":\"BasicTicker\"},{\"attributes\":{\"callback\":null,\"column_names\":[\"right\",\"bottom\",\"top\",\"left\",\"fill_color\"],\"data\":{\"bottom\":[50,150,50,250,250],\"fill_color\":[\"#61c461\",\"#61c461\",\"#61c461\",\"#808080\",\"#61c461\"],\"left\":[135771974,135915358,136398174,136501840,136682274],\"right\":[136140304,135995079,136474098,136555659,136775898],\"top\":[95,196,94,298,297]}},\"id\":\"ec8db2b5-717e-4a84-819e-1a3adade3920\",\"type\":\"ColumnDataSource\"},{\"attributes\":{\"overlay\":{\"id\":\"eff18384-46a1-4fef-bb15-393206ad86a6\",\"type\":\"BoxAnnotation\"},\"plot\":{\"id\":\"451f1861-4f43-4de0-a513-2bc3a6089bcb\",\"subtype\":\"Figure\",\"type\":\"Plot\"}},\"id\":\"f401a8be-0b42-483a-8d53-01ca1a648709\",\"type\":\"BoxZoomTool\"},{\"attributes\":{\"active_drag\":\"auto\",\"active_scroll\":\"auto\",\"active_tap\":\"auto\",\"tools\":[{\"id\":\"95f0cfe5-0331-4a99-8f0e-85c2e555cbb7\",\"type\":\"PanTool\"},{\"id\":\"0d5ab26c-78e8-4214-8d30-bc4a9af9bbb7\",\"type\":\"WheelZoomTool\"},{\"id\":\"f401a8be-0b42-483a-8d53-01ca1a648709\",\"type\":\"BoxZoomTool\"},{\"id\":\"9fbe8344-790b-4d23-94ed-7a90165da732\",\"type\":\"SaveTool\"},{\"id\":\"c985000c-31eb-4b35-bfc9-a52d33953847\",\"type\":\"ResetTool\"},{\"id\":\"9e5a7475-5bc3-4f15-a51e-e06786b323ae\",\"type\":\"HelpTool\"}]},\"id\":\"ee2aa264-37cd-40c0-a941-4094fcc61696\",\"type\":\"Toolbar\"},{\"attributes\":{\"formatter\":{\"id\":\"a658a9d1-1668-46a5-8467-6ab5ba16c893\",\"type\":\"BasicTickFormatter\"},\"plot\":{\"id\":\"451f1861-4f43-4de0-a513-2bc3a6089bcb\",\"subtype\":\"Figure\",\"type\":\"Plot\"},\"ticker\":{\"id\":\"07724a9f-9239-4738-b39b-e2338446c860\",\"type\":\"BasicTicker\"},\"visible\":null},\"id\":\"5421ecec-4d59-4e3e-8cbe-65e2a831d864\",\"type\":\"LinearAxis\"},{\"attributes\":{\"data_source\":{\"id\":\"ec8db2b5-717e-4a84-819e-1a3adade3920\",\"type\":\"ColumnDataSource\"},\"glyph\":{\"id\":\"254fce69-75ae-4b35-a121-43d94de1716f\",\"type\":\"Quad\"},\"hover_glyph\":null,\"nonselection_glyph\":{\"id\":\"4730df9f-9b20-41d9-9a22-dc7fa0323efc\",\"type\":\"Quad\"},\"selection_glyph\":null},\"id\":\"c6b34d9e-05b1-4384-8093-f5f40923320a\",\"type\":\"GlyphRenderer\"},{\"attributes\":{},\"id\":\"234a1885-fdd0-4b81-8b4a-cb8066c34406\",\"type\":\"BasicTicker\"},{\"attributes\":{},\"id\":\"fcee98a5-4871-4cf0-9427-b137b71d488d\",\"type\":\"BasicTickFormatter\"},{\"attributes\":{\"callback\":null,\"column_names\":[\"y\",\"x\",\"vals\"],\"data\":{\"vals\":[\"6_1503\",\"4_1699\",\"26_1414\",\"10_2206\",\"7_1868\"],\"x\":[135771974,135915358,136398174,136501840,136682274],\"y\":[100.0,201.0,99.0,303.0,302.0]}},\"id\":\"d7009375-14a6-44f7-81bf-a55c676c8986\",\"type\":\"ColumnDataSource\"},{\"attributes\":{},\"id\":\"a658a9d1-1668-46a5-8467-6ab5ba16c893\",\"type\":\"BasicTickFormatter\"},{\"attributes\":{\"line_color\":{\"field\":\"line_color\"},\"xs\":{\"field\":\"xs\"},\"ys\":{\"field\":\"ys\"}},\"id\":\"dbd5fa33-5f1f-4eaa-a130-18ccebd0a049\",\"type\":\"MultiLine\"},{\"attributes\":{\"bottom\":{\"field\":\"bottom\"},\"fill_color\":{\"value\":\"white\"},\"left\":{\"field\":\"left\"},\"right\":{\"field\":\"right\"},\"top\":{\"field\":\"top\"}},\"id\":\"0afe7177-76f2-49f7-ba9b-4c1bbb8eaed1\",\"type\":\"Quad\"}],\"root_ids\":[\"451f1861-4f43-4de0-a513-2bc3a6089bcb\"]},\"title\":\"Bokeh Application\",\"version\":\"0.12.0\"}};\n",
       "            var render_items = [{\"docid\":\"bd70b18b-eb8f-441c-bc40-04b6291c43df\",\"elementid\":\"1ec7d26b-246e-4198-9306-b728bcbaa434\",\"modelid\":\"451f1861-4f43-4de0-a513-2bc3a6089bcb\",\"notebook_comms_target\":\"142cde38-bfee-4d9b-89e3-8587ef1affad\"}];\n",
       "            \n",
       "            Bokeh.embed.embed_items(docs_json, render_items);\n",
       "        });\n",
       "      },\n",
       "      function(Bokeh) {\n",
       "      }\n",
       "    ];\n",
       "  \n",
       "    function run_inline_js() {\n",
       "      for (var i = 0; i < inline_js.length; i++) {\n",
       "        inline_js[i](window.Bokeh);\n",
       "      }\n",
       "    }\n",
       "  \n",
       "    if (window._bokeh_is_loading === 0) {\n",
       "      console.log(\"Bokeh: BokehJS loaded, going straight to plotting\");\n",
       "      run_inline_js();\n",
       "    } else {\n",
       "      load_libs(js_urls, function() {\n",
       "        console.log(\"Bokeh: BokehJS plotting callback run at\", now());\n",
       "        run_inline_js();\n",
       "      });\n",
       "    }\n",
       "  }(this));\n",
       "</script>"
      ]
     },
     "metadata": {},
     "output_type": "display_data"
    },
    {
     "data": {
      "text/html": [
       "<p><code>&lt;Bokeh Notebook handle for <strong>In[22]</strong>&gt;</code></p>"
      ],
      "text/plain": [
       "<bokeh.io._CommsHandle at 0x7fab101a1110>"
      ]
     },
     "execution_count": 22,
     "metadata": {},
     "output_type": "execute_result"
    }
   ],
   "source": [
    "plt_obj = dm.superset_allele_mask(am_39, min_match=0.001)\n",
    "plt = plt_obj.do_plot()\n",
    "show(plt)"
   ]
  },
  {
   "cell_type": "code",
   "execution_count": 23,
   "metadata": {
    "collapsed": false,
    "deletable": true,
    "editable": true
   },
   "outputs": [
    {
     "data": {
      "text/html": [
       "<table>\n",
       "<thead><tr><th style=\"text-align:center\">index</th><th style=\"text-align:center\">first</th><th style=\"text-align:center\">length</th><th style=\"text-align:center\">snps</th><th style=\"text-align:center\" colspan=2>alleles</th><th style=\"text-align:center\" colspan=2>matches</th><th style=\"text-align:center\" colspan=2>afr</th><th style=\"text-align:center\" colspan=2>afx</th><th style=\"text-align:center\" colspan=2>amr</th><th style=\"text-align:center\" colspan=2>eas</th><th style=\"text-align:center\" colspan=2>eur</th><th style=\"text-align:center\" colspan=2>sas</th><th style=\"text-align:center\" colspan=2>sax</th></tr></thead>\n",
       "<tr class=\"even\"><td style=\"text-align: right;\">353921</td><td style=\"text-align: right;\">136,501,840</td><td style=\"text-align: right;\">53,819</td><td style=\"text-align: right;\">10</td><td style=\"text-align: right;\">2206</td><td style=\"text-align: right;\">0.00</td><td style=\"text-align: right;\">1</td><td style=\"text-align: right;\">1.00</td><td style=\"text-align: right;\">0</td><td style=\"text-align: right;\">0.00</td><td style=\"text-align: right;\">0</td><td style=\"text-align: right;\">0.00</td><td style=\"text-align: right;\">1</td><td style=\"text-align: right;\">7.22</td><td style=\"text-align: right;\">0</td><td style=\"text-align: right;\">0.00</td><td style=\"text-align: right;\">0</td><td style=\"text-align: right;\">0.00</td><td style=\"text-align: right;\">0</td><td style=\"text-align: right;\">0.00</td><td style=\"text-align: right;\">0</td><td style=\"text-align: right;\">0.00</td></tr>\n",
       "<tr><td style=\"text-align: right;\">354170</td><td style=\"text-align: right;\">136,682,274</td><td style=\"text-align: right;\">93,624</td><td style=\"text-align: right;\">7</td><td style=\"text-align: right;\">1868</td><td style=\"text-align: right;\">0.00</td><td style=\"text-align: right;\">1</td><td style=\"text-align: right;\">1.00</td><td style=\"text-align: right;\">0</td><td style=\"text-align: right;\">0.00</td><td style=\"text-align: right;\">0</td><td style=\"text-align: right;\">0.00</td><td style=\"text-align: right;\">1</td><td style=\"text-align: right;\">7.22</td><td style=\"text-align: right;\">0</td><td style=\"text-align: right;\">0.00</td><td style=\"text-align: right;\">0</td><td style=\"text-align: right;\">0.00</td><td style=\"text-align: right;\">0</td><td style=\"text-align: right;\">0.00</td><td style=\"text-align: right;\">0</td><td style=\"text-align: right;\">0.00</td></tr>\n",
       "<tr class=\"even\"><td style=\"text-align: right;\">353462</td><td style=\"text-align: right;\">135,915,358</td><td style=\"text-align: right;\">79,721</td><td style=\"text-align: right;\">4</td><td style=\"text-align: right;\">1699</td><td style=\"text-align: right;\">0.00</td><td style=\"text-align: right;\">1</td><td style=\"text-align: right;\">1.00</td><td style=\"text-align: right;\">0</td><td style=\"text-align: right;\">0.00</td><td style=\"text-align: right;\">0</td><td style=\"text-align: right;\">0.00</td><td style=\"text-align: right;\">1</td><td style=\"text-align: right;\">7.22</td><td style=\"text-align: right;\">0</td><td style=\"text-align: right;\">0.00</td><td style=\"text-align: right;\">0</td><td style=\"text-align: right;\">0.00</td><td style=\"text-align: right;\">0</td><td style=\"text-align: right;\">0.00</td><td style=\"text-align: right;\">0</td><td style=\"text-align: right;\">0.00</td></tr>\n",
       "<tr><td style=\"text-align: right;\">353283</td><td style=\"text-align: right;\">135,771,974</td><td style=\"text-align: right;\">368,330</td><td style=\"text-align: right;\">6</td><td style=\"text-align: right;\">1503</td><td style=\"text-align: right;\">0.00</td><td style=\"text-align: right;\">1</td><td style=\"text-align: right;\">1.00</td><td style=\"text-align: right;\">0</td><td style=\"text-align: right;\">0.00</td><td style=\"text-align: right;\">0</td><td style=\"text-align: right;\">0.00</td><td style=\"text-align: right;\">1</td><td style=\"text-align: right;\">7.22</td><td style=\"text-align: right;\">0</td><td style=\"text-align: right;\">0.00</td><td style=\"text-align: right;\">0</td><td style=\"text-align: right;\">0.00</td><td style=\"text-align: right;\">0</td><td style=\"text-align: right;\">0.00</td><td style=\"text-align: right;\">0</td><td style=\"text-align: right;\">0.00</td></tr>\n",
       "<tr class=\"even\"><td style=\"text-align: right;\">353797</td><td style=\"text-align: right;\">136,398,174</td><td style=\"text-align: right;\">75,924</td><td style=\"text-align: right;\">26</td><td style=\"text-align: right;\">1414</td><td style=\"text-align: right;\">0.00</td><td style=\"text-align: right;\">1</td><td style=\"text-align: right;\">1.00</td><td style=\"text-align: right;\">0</td><td style=\"text-align: right;\">0.00</td><td style=\"text-align: right;\">0</td><td style=\"text-align: right;\">0.00</td><td style=\"text-align: right;\">1</td><td style=\"text-align: right;\">7.22</td><td style=\"text-align: right;\">0</td><td style=\"text-align: right;\">0.00</td><td style=\"text-align: right;\">0</td><td style=\"text-align: right;\">0.00</td><td style=\"text-align: right;\">0</td><td style=\"text-align: right;\">0.00</td><td style=\"text-align: right;\">0</td><td style=\"text-align: right;\">0.00</td></tr>\n",
       "</table>"
      ],
      "text/plain": [
       "<IPython.core.display.HTML object>"
      ]
     },
     "execution_count": 23,
     "metadata": {},
     "output_type": "execute_result"
    }
   ],
   "source": [
    "HTML(plt_obj.get_html())"
   ]
  },
  {
   "cell_type": "markdown",
   "metadata": {},
   "source": [
    "<div style=\"width:700px\">\n",
    "<p>\n",
    "The data below shows another American sample that has experienced a\n",
    "recombination event that left it expressing the first 57 SNPs of 64_1575.\n",
    "</div>"
   ]
  },
  {
   "cell_type": "code",
   "execution_count": 24,
   "metadata": {
    "collapsed": false,
    "deletable": true,
    "editable": true
   },
   "outputs": [
    {
     "data": {
      "text/plain": [
       "array([1, 1, 1, 1, 1, 1, 1, 1, 1, 1, 1, 1, 1, 1, 1, 1, 1, 1, 1, 1, 1, 1, 1,\n",
       "       1, 1, 1, 1, 1, 1, 1, 1, 1, 1, 1, 1, 1, 1, 1, 1, 1, 1, 1, 1, 1, 1, 1,\n",
       "       1, 1, 1, 1, 1, 1, 1, 1, 1, 1, 1, 0, 0, 0, 0, 0, 0, 0])"
      ]
     },
     "execution_count": 24,
     "metadata": {},
     "output_type": "execute_result"
    }
   ],
   "source": [
    "aps_57, am_57 = sa_64_1575.snps_from_aps_value(57, am_not_64_1575)\n",
    "aps_57"
   ]
  },
  {
   "cell_type": "code",
   "execution_count": 25,
   "metadata": {
    "collapsed": false,
    "deletable": true,
    "editable": true
   },
   "outputs": [
    {
     "data": {
      "text/html": [
       "\n",
       "\n",
       "    <div class=\"bk-root\">\n",
       "        <div class=\"plotdiv\" id=\"7d4e3613-e607-4de1-8841-972a08059fd2\"></div>\n",
       "    </div>\n",
       "<script type=\"text/javascript\">\n",
       "  \n",
       "  (function(global) {\n",
       "    function now() {\n",
       "      return new Date();\n",
       "    }\n",
       "  \n",
       "    if (typeof (window._bokeh_onload_callbacks) === \"undefined\") {\n",
       "      window._bokeh_onload_callbacks = [];\n",
       "    }\n",
       "  \n",
       "    function run_callbacks() {\n",
       "      window._bokeh_onload_callbacks.forEach(function(callback) { callback() });\n",
       "      delete window._bokeh_onload_callbacks\n",
       "      console.info(\"Bokeh: all callbacks have finished\");\n",
       "    }\n",
       "  \n",
       "    function load_libs(js_urls, callback) {\n",
       "      window._bokeh_onload_callbacks.push(callback);\n",
       "      if (window._bokeh_is_loading > 0) {\n",
       "        console.log(\"Bokeh: BokehJS is being loaded, scheduling callback at\", now());\n",
       "        return null;\n",
       "      }\n",
       "      if (js_urls == null || js_urls.length === 0) {\n",
       "        run_callbacks();\n",
       "        return null;\n",
       "      }\n",
       "      console.log(\"Bokeh: BokehJS not loaded, scheduling load and callback at\", now());\n",
       "      window._bokeh_is_loading = js_urls.length;\n",
       "      for (var i = 0; i < js_urls.length; i++) {\n",
       "        var url = js_urls[i];\n",
       "        var s = document.createElement('script');\n",
       "        s.src = url;\n",
       "        s.async = false;\n",
       "        s.onreadystatechange = s.onload = function() {\n",
       "          window._bokeh_is_loading--;\n",
       "          if (window._bokeh_is_loading === 0) {\n",
       "            console.log(\"Bokeh: all BokehJS libraries loaded\");\n",
       "            run_callbacks()\n",
       "          }\n",
       "        };\n",
       "        s.onerror = function() {\n",
       "          console.warn(\"failed to load library \" + url);\n",
       "        };\n",
       "        console.log(\"Bokeh: injecting script tag for BokehJS library: \", url);\n",
       "        document.getElementsByTagName(\"head\")[0].appendChild(s);\n",
       "      }\n",
       "    };var element = document.getElementById(\"7d4e3613-e607-4de1-8841-972a08059fd2\");\n",
       "    if (element == null) {\n",
       "      console.log(\"Bokeh: ERROR: autoload.js configured with elementid '7d4e3613-e607-4de1-8841-972a08059fd2' but no matching script tag was found. \")\n",
       "      return false;\n",
       "    }\n",
       "  \n",
       "    var js_urls = [];\n",
       "  \n",
       "    var inline_js = [\n",
       "      function(Bokeh) {\n",
       "        Bokeh.$(function() {\n",
       "            var docs_json = {\"411359be-cc20-4d7a-b219-cfeadda02b9c\":{\"roots\":{\"references\":[{\"attributes\":{\"callback\":null,\"end\":136786630,\"start\":135757320},\"id\":\"975a651f-67ef-42be-9a44-5423e0903acb\",\"type\":\"Range1d\"},{\"attributes\":{\"level\":\"glyph\",\"plot\":{\"id\":\"c8b61fcb-e258-47bf-82c4-690802ae5354\",\"subtype\":\"Figure\",\"type\":\"Plot\"},\"source\":{\"id\":\"25dbbb4e-d8fe-4365-9e13-23feac0bf49f\",\"type\":\"ColumnDataSource\"},\"text\":{\"field\":\"vals\"},\"text_align\":\"center\",\"text_baseline\":\"middle\",\"text_font_size\":{\"value\":\"8pt\"},\"x\":{\"field\":\"x\"},\"y\":{\"field\":\"y\"}},\"id\":\"98c88c7f-261e-4cda-ad81-c38b8e8e716e\",\"type\":\"LabelSet\"},{\"attributes\":{\"line_color\":{\"field\":\"line_color\"},\"xs\":{\"field\":\"xs\"},\"ys\":{\"field\":\"ys\"}},\"id\":\"661d4d00-0257-426e-b520-0355ca99edb8\",\"type\":\"MultiLine\"},{\"attributes\":{\"plot\":{\"id\":\"c8b61fcb-e258-47bf-82c4-690802ae5354\",\"subtype\":\"Figure\",\"type\":\"Plot\"}},\"id\":\"063b10c9-083d-448d-8455-11c542ac415a\",\"type\":\"PanTool\"},{\"attributes\":{},\"id\":\"8bd8cc33-f463-4e6b-bcdc-8c796b3cbca1\",\"type\":\"ToolEvents\"},{\"attributes\":{},\"id\":\"a211361e-8c24-4b28-81e5-3cac7528b579\",\"type\":\"BasicTickFormatter\"},{\"attributes\":{\"callback\":null,\"column_names\":[\"y\",\"x\",\"vals\"],\"data\":{\"vals\":[\"6_1503\",\"4_1699\",\"26_1414\",\"10_2206\"],\"x\":[135771974,135915358,136398174,136501840],\"y\":[100.0,201.0,99.0,203.0]}},\"id\":\"5ef8f47c-e166-4afc-9849-75d5b9ff1584\",\"type\":\"ColumnDataSource\"},{\"attributes\":{\"formatter\":{\"id\":\"a211361e-8c24-4b28-81e5-3cac7528b579\",\"type\":\"BasicTickFormatter\"},\"plot\":{\"id\":\"c8b61fcb-e258-47bf-82c4-690802ae5354\",\"subtype\":\"Figure\",\"type\":\"Plot\"},\"ticker\":{\"id\":\"25400986-5610-4de5-9d67-c7e0ffce7b1c\",\"type\":\"BasicTicker\"},\"visible\":null},\"id\":\"3218cfdf-854c-4e1c-ae53-9371180c6585\",\"type\":\"LinearAxis\"},{\"attributes\":{\"plot\":{\"id\":\"c8b61fcb-e258-47bf-82c4-690802ae5354\",\"subtype\":\"Figure\",\"type\":\"Plot\"}},\"id\":\"8c1df63f-4bbb-4180-9c69-479204b81e9d\",\"type\":\"WheelZoomTool\"},{\"attributes\":{\"bottom\":{\"field\":\"bottom\"},\"fill_alpha\":{\"value\":0.1},\"fill_color\":{\"value\":\"#1f77b4\"},\"left\":{\"field\":\"left\"},\"line_alpha\":{\"value\":0.1},\"line_color\":{\"value\":\"#1f77b4\"},\"right\":{\"field\":\"right\"},\"top\":{\"field\":\"top\"}},\"id\":\"ddee1d7f-ffd0-45d4-ada7-ce1e29d576ad\",\"type\":\"Quad\"},{\"attributes\":{},\"id\":\"d46b686b-8849-4402-a1ab-b5ba676d760c\",\"type\":\"BasicTickFormatter\"},{\"attributes\":{\"bottom\":{\"field\":\"bottom\"},\"fill_alpha\":{\"value\":0.1},\"fill_color\":{\"value\":\"#1f77b4\"},\"left\":{\"field\":\"left\"},\"line_alpha\":{\"value\":0.1},\"line_color\":{\"value\":\"#1f77b4\"},\"right\":{\"field\":\"right\"},\"top\":{\"field\":\"top\"}},\"id\":\"22ae9be7-106e-42b0-8d5d-6d31f3f5369d\",\"type\":\"Quad\"},{\"attributes\":{},\"id\":\"9f044679-52cd-48fc-85b3-16ea2a773ab5\",\"type\":\"BasicTicker\"},{\"attributes\":{\"data_source\":{\"id\":\"507f9bfd-b9ad-4324-b353-e7d961e3d892\",\"type\":\"ColumnDataSource\"},\"glyph\":{\"id\":\"03c127f1-52bd-4639-b2bf-9aa7b83a4e9b\",\"type\":\"Quad\"},\"hover_glyph\":null,\"nonselection_glyph\":{\"id\":\"22ae9be7-106e-42b0-8d5d-6d31f3f5369d\",\"type\":\"Quad\"},\"selection_glyph\":null},\"id\":\"c1d9bdfd-d0fd-4e03-b90d-64f6aa3e0cf4\",\"type\":\"GlyphRenderer\"},{\"attributes\":{\"bottom_units\":\"screen\",\"fill_alpha\":{\"value\":0.5},\"fill_color\":{\"value\":\"lightgrey\"},\"left_units\":\"screen\",\"level\":\"overlay\",\"line_alpha\":{\"value\":1.0},\"line_color\":{\"value\":\"black\"},\"line_dash\":[4,4],\"line_width\":{\"value\":2},\"plot\":null,\"render_mode\":\"css\",\"right_units\":\"screen\",\"top_units\":\"screen\"},\"id\":\"e99823be-34cc-446d-a85f-dbd680c6201f\",\"type\":\"BoxAnnotation\"},{\"attributes\":{\"below\":[{\"id\":\"ed1e274d-a017-4da1-b2f3-72c83f0d46e3\",\"type\":\"LinearAxis\"}],\"left\":[{\"id\":\"3218cfdf-854c-4e1c-ae53-9371180c6585\",\"type\":\"LinearAxis\"}],\"plot_height\":300,\"plot_width\":900,\"renderers\":[{\"id\":\"ed1e274d-a017-4da1-b2f3-72c83f0d46e3\",\"type\":\"LinearAxis\"},{\"id\":\"9a2e7e5c-f61b-4dea-acf1-b3ea32894e30\",\"type\":\"Grid\"},{\"id\":\"3218cfdf-854c-4e1c-ae53-9371180c6585\",\"type\":\"LinearAxis\"},{\"id\":\"ede2e0fb-62af-47ee-aa1a-73c9f172437a\",\"type\":\"Grid\"},{\"id\":\"e99823be-34cc-446d-a85f-dbd680c6201f\",\"type\":\"BoxAnnotation\"},{\"id\":\"94e900a5-4322-4024-841c-3151b5a49bcc\",\"type\":\"GlyphRenderer\"},{\"id\":\"f6ec4f5c-bb83-495d-802a-e4ae37353e94\",\"type\":\"GlyphRenderer\"},{\"id\":\"0d5044f0-57f4-4a28-a54d-23e9d79fcbe8\",\"type\":\"LabelSet\"},{\"id\":\"c1d9bdfd-d0fd-4e03-b90d-64f6aa3e0cf4\",\"type\":\"GlyphRenderer\"},{\"id\":\"98c88c7f-261e-4cda-ad81-c38b8e8e716e\",\"type\":\"LabelSet\"}],\"title\":{\"id\":\"7344a3aa-e955-4757-978a-3d7b13d97533\",\"type\":\"Title\"},\"tool_events\":{\"id\":\"8bd8cc33-f463-4e6b-bcdc-8c796b3cbca1\",\"type\":\"ToolEvents\"},\"toolbar\":{\"id\":\"5c72494a-ed9a-4963-979b-ba822ace06e3\",\"type\":\"Toolbar\"},\"toolbar_location\":null,\"x_range\":{\"id\":\"975a651f-67ef-42be-9a44-5423e0903acb\",\"type\":\"Range1d\"},\"y_range\":{\"id\":\"9e51b1ad-1039-49c2-a228-3bb69b264468\",\"type\":\"Range1d\"}},\"id\":\"c8b61fcb-e258-47bf-82c4-690802ae5354\",\"subtype\":\"Figure\",\"type\":\"Plot\"},{\"attributes\":{\"plot\":{\"id\":\"c8b61fcb-e258-47bf-82c4-690802ae5354\",\"subtype\":\"Figure\",\"type\":\"Plot\"}},\"id\":\"82b7bdf4-2e8a-43c1-906b-228f33a93cd7\",\"type\":\"HelpTool\"},{\"attributes\":{\"data_source\":{\"id\":\"b3fdc0f0-2fb3-471f-83c8-7679285e7452\",\"type\":\"ColumnDataSource\"},\"glyph\":{\"id\":\"26a8dac2-39be-4613-a015-fba2ceaf8310\",\"type\":\"Quad\"},\"hover_glyph\":null,\"nonselection_glyph\":{\"id\":\"ddee1d7f-ffd0-45d4-ada7-ce1e29d576ad\",\"type\":\"Quad\"},\"selection_glyph\":null},\"id\":\"94e900a5-4322-4024-841c-3151b5a49bcc\",\"type\":\"GlyphRenderer\"},{\"attributes\":{\"callback\":null,\"column_names\":[\"xs\",\"ys\",\"line_color\"],\"data\":{\"line_color\":[\"black\",\"black\",\"black\",\"black\",\"black\",\"black\",\"black\",\"black\",\"black\",\"black\",\"black\",\"black\",\"black\",\"black\",\"black\",\"black\",\"black\",\"black\",\"black\",\"black\",\"black\",\"black\",\"black\",\"black\",\"black\",\"black\",\"black\",\"black\",\"black\",\"black\",\"black\",\"black\",\"black\",\"black\",\"black\",\"black\",\"black\",\"black\",\"black\",\"black\",\"black\",\"black\",\"black\",\"black\",\"black\",\"black\"],\"xs\":[[135771974,135771974],[135859371,135859371],[135877562,135877562],[136022798,136022798],[136058820,136058820],[136140304,136140304],[135915358,135915358],[135954405,135954405],[135995073,135995073],[135995079,135995079],[136398174,136398174],[136402117,136402117],[136403749,136403749],[136409073,136409073],[136410299,136410299],[136413359,136413359],[136416855,136416855],[136416941,136416941],[136418348,136418348],[136419961,136419961],[136420690,136420690],[136422171,136422171],[136428460,136428460],[136430866,136430866],[136432103,136432103],[136437507,136437507],[136439090,136439090],[136439517,136439517],[136444123,136444123],[136445526,136445526],[136445869,136445869],[136455600,136455600],[136456642,136456642],[136462441,136462441],[136470714,136470714],[136474098,136474098],[136501840,136501840],[136505546,136505546],[136516748,136516748],[136522710,136522710],[136528004,136528004],[136539513,136539513],[136544752,136544752],[136546110,136546110],[136553529,136553529],[136555659,136555659]],\"ys\":[[50,95],[50,95],[50,95],[50,95],[50,95],[50,95],[150,196],[150,196],[150,196],[150,196],[50,94],[50,94],[50,94],[50,94],[50,94],[50,94],[50,94],[50,94],[50,94],[50,94],[50,94],[50,94],[50,94],[50,94],[50,94],[50,94],[50,94],[50,94],[50,94],[50,94],[50,94],[50,94],[50,94],[50,94],[50,94],[50,94],[150,198],[150,198],[150,198],[150,198],[150,198],[150,198],[150,198],[150,198],[150,198],[150,198]]}},\"id\":\"3bddd260-5992-4546-9ed5-4f935f02c3c8\",\"type\":\"ColumnDataSource\"},{\"attributes\":{},\"id\":\"25400986-5610-4de5-9d67-c7e0ffce7b1c\",\"type\":\"BasicTicker\"},{\"attributes\":{\"bottom\":{\"field\":\"bottom\"},\"fill_color\":{\"field\":\"fill_color\"},\"left\":{\"field\":\"left\"},\"line_color\":{\"value\":null},\"right\":{\"field\":\"right\"},\"top\":{\"field\":\"top\"}},\"id\":\"26a8dac2-39be-4613-a015-fba2ceaf8310\",\"type\":\"Quad\"},{\"attributes\":{\"plot\":{\"id\":\"c8b61fcb-e258-47bf-82c4-690802ae5354\",\"subtype\":\"Figure\",\"type\":\"Plot\"}},\"id\":\"de3604e0-ac6a-4a96-b6f1-c6984ce20de6\",\"type\":\"ResetTool\"},{\"attributes\":{\"dimension\":1,\"plot\":{\"id\":\"c8b61fcb-e258-47bf-82c4-690802ae5354\",\"subtype\":\"Figure\",\"type\":\"Plot\"},\"ticker\":{\"id\":\"25400986-5610-4de5-9d67-c7e0ffce7b1c\",\"type\":\"BasicTicker\"}},\"id\":\"ede2e0fb-62af-47ee-aa1a-73c9f172437a\",\"type\":\"Grid\"},{\"attributes\":{\"plot\":{\"id\":\"c8b61fcb-e258-47bf-82c4-690802ae5354\",\"subtype\":\"Figure\",\"type\":\"Plot\"}},\"id\":\"6952a871-b1b3-4a1d-8e6d-d7b47ba151b4\",\"type\":\"SaveTool\"},{\"attributes\":{\"active_drag\":\"auto\",\"active_scroll\":\"auto\",\"active_tap\":\"auto\",\"tools\":[{\"id\":\"063b10c9-083d-448d-8455-11c542ac415a\",\"type\":\"PanTool\"},{\"id\":\"8c1df63f-4bbb-4180-9c69-479204b81e9d\",\"type\":\"WheelZoomTool\"},{\"id\":\"69d8a95a-430e-4517-9efc-fd7559313f15\",\"type\":\"BoxZoomTool\"},{\"id\":\"6952a871-b1b3-4a1d-8e6d-d7b47ba151b4\",\"type\":\"SaveTool\"},{\"id\":\"de3604e0-ac6a-4a96-b6f1-c6984ce20de6\",\"type\":\"ResetTool\"},{\"id\":\"82b7bdf4-2e8a-43c1-906b-228f33a93cd7\",\"type\":\"HelpTool\"}]},\"id\":\"5c72494a-ed9a-4963-979b-ba822ace06e3\",\"type\":\"Toolbar\"},{\"attributes\":{\"data_source\":{\"id\":\"3bddd260-5992-4546-9ed5-4f935f02c3c8\",\"type\":\"ColumnDataSource\"},\"glyph\":{\"id\":\"661d4d00-0257-426e-b520-0355ca99edb8\",\"type\":\"MultiLine\"},\"hover_glyph\":null,\"nonselection_glyph\":{\"id\":\"ed8842a0-846d-40dc-ab6a-eb104a47d9f0\",\"type\":\"MultiLine\"},\"selection_glyph\":null},\"id\":\"f6ec4f5c-bb83-495d-802a-e4ae37353e94\",\"type\":\"GlyphRenderer\"},{\"attributes\":{\"bottom\":{\"field\":\"bottom\"},\"fill_color\":{\"value\":\"white\"},\"left\":{\"field\":\"left\"},\"right\":{\"field\":\"right\"},\"top\":{\"field\":\"top\"}},\"id\":\"03c127f1-52bd-4639-b2bf-9aa7b83a4e9b\",\"type\":\"Quad\"},{\"attributes\":{\"plot\":{\"id\":\"c8b61fcb-e258-47bf-82c4-690802ae5354\",\"subtype\":\"Figure\",\"type\":\"Plot\"},\"ticker\":{\"id\":\"9f044679-52cd-48fc-85b3-16ea2a773ab5\",\"type\":\"BasicTicker\"}},\"id\":\"9a2e7e5c-f61b-4dea-acf1-b3ea32894e30\",\"type\":\"Grid\"},{\"attributes\":{\"line_alpha\":{\"value\":0.1},\"line_color\":{\"value\":\"#1f77b4\"},\"xs\":{\"field\":\"xs\"},\"ys\":{\"field\":\"ys\"}},\"id\":\"ed8842a0-846d-40dc-ab6a-eb104a47d9f0\",\"type\":\"MultiLine\"},{\"attributes\":{\"overlay\":{\"id\":\"e99823be-34cc-446d-a85f-dbd680c6201f\",\"type\":\"BoxAnnotation\"},\"plot\":{\"id\":\"c8b61fcb-e258-47bf-82c4-690802ae5354\",\"subtype\":\"Figure\",\"type\":\"Plot\"}},\"id\":\"69d8a95a-430e-4517-9efc-fd7559313f15\",\"type\":\"BoxZoomTool\"},{\"attributes\":{\"callback\":null,\"column_names\":[\"right\",\"bottom\",\"top\",\"left\",\"fill_color\"],\"data\":{\"bottom\":[50,150,50,150],\"fill_color\":[\"#61c461\",\"#61c461\",\"#61c461\",\"#808080\"],\"left\":[135771974,135915358,136398174,136501840],\"right\":[136140304,135995079,136474098,136555659],\"top\":[95,196,94,198]}},\"id\":\"b3fdc0f0-2fb3-471f-83c8-7679285e7452\",\"type\":\"ColumnDataSource\"},{\"attributes\":{\"level\":\"glyph\",\"plot\":{\"id\":\"c8b61fcb-e258-47bf-82c4-690802ae5354\",\"subtype\":\"Figure\",\"type\":\"Plot\"},\"source\":{\"id\":\"5ef8f47c-e166-4afc-9849-75d5b9ff1584\",\"type\":\"ColumnDataSource\"},\"text\":{\"field\":\"vals\"},\"text_font_size\":{\"value\":\"9pt\"},\"text_font_style\":\"bold\",\"x\":{\"field\":\"x\"},\"y\":{\"field\":\"y\"}},\"id\":\"0d5044f0-57f4-4a28-a54d-23e9d79fcbe8\",\"type\":\"LabelSet\"},{\"attributes\":{\"callback\":null,\"end\":300},\"id\":\"9e51b1ad-1039-49c2-a228-3bb69b264468\",\"type\":\"Range1d\"},{\"attributes\":{\"formatter\":{\"id\":\"d46b686b-8849-4402-a1ab-b5ba676d760c\",\"type\":\"BasicTickFormatter\"},\"plot\":{\"id\":\"c8b61fcb-e258-47bf-82c4-690802ae5354\",\"subtype\":\"Figure\",\"type\":\"Plot\"},\"ticker\":{\"id\":\"9f044679-52cd-48fc-85b3-16ea2a773ab5\",\"type\":\"BasicTicker\"}},\"id\":\"ed1e274d-a017-4da1-b2f3-72c83f0d46e3\",\"type\":\"LinearAxis\"},{\"attributes\":{\"callback\":null,\"column_names\":[\"y\",\"x\",\"vals\"],\"data\":{\"vals\":[\"RAB3GAP1\",\"ZRANB3\",\"R3HDM1\",\"UBXN4\",\"LCT\",\"MCM6\",\"DARS\"],\"x\":[135869057.0,136122878.0,136385961.0,136520911.0,136570082.5,136615621.5,136703738.0],\"y\":[260.0,260.0,260.0,260.0,260.0,260.0,260.0]}},\"id\":\"25dbbb4e-d8fe-4365-9e13-23feac0bf49f\",\"type\":\"ColumnDataSource\"},{\"attributes\":{\"plot\":null,\"text\":null},\"id\":\"7344a3aa-e955-4757-978a-3d7b13d97533\",\"type\":\"Title\"},{\"attributes\":{\"callback\":null,\"column_names\":[\"right\",\"bottom\",\"top\",\"left\"],\"data\":{\"bottom\":[245,245,245,245,245,245,245],\"left\":[135809835,135957574,136289083,136499189,136545415,136597196,136664254],\"right\":[135928279,136288182,136482839,136542633,136594750,136634047,136743222],\"top\":[275,275,275,275,275,275,275]}},\"id\":\"507f9bfd-b9ad-4324-b353-e7d961e3d892\",\"type\":\"ColumnDataSource\"}],\"root_ids\":[\"c8b61fcb-e258-47bf-82c4-690802ae5354\"]},\"title\":\"Bokeh Application\",\"version\":\"0.12.0\"}};\n",
       "            var render_items = [{\"docid\":\"411359be-cc20-4d7a-b219-cfeadda02b9c\",\"elementid\":\"7d4e3613-e607-4de1-8841-972a08059fd2\",\"modelid\":\"c8b61fcb-e258-47bf-82c4-690802ae5354\",\"notebook_comms_target\":\"51dcd0e3-6a85-454a-a35e-3aca60df503d\"}];\n",
       "            \n",
       "            Bokeh.embed.embed_items(docs_json, render_items);\n",
       "        });\n",
       "      },\n",
       "      function(Bokeh) {\n",
       "      }\n",
       "    ];\n",
       "  \n",
       "    function run_inline_js() {\n",
       "      for (var i = 0; i < inline_js.length; i++) {\n",
       "        inline_js[i](window.Bokeh);\n",
       "      }\n",
       "    }\n",
       "  \n",
       "    if (window._bokeh_is_loading === 0) {\n",
       "      console.log(\"Bokeh: BokehJS loaded, going straight to plotting\");\n",
       "      run_inline_js();\n",
       "    } else {\n",
       "      load_libs(js_urls, function() {\n",
       "        console.log(\"Bokeh: BokehJS plotting callback run at\", now());\n",
       "        run_inline_js();\n",
       "      });\n",
       "    }\n",
       "  }(this));\n",
       "</script>"
      ]
     },
     "metadata": {},
     "output_type": "display_data"
    },
    {
     "data": {
      "text/html": [
       "<p><code>&lt;Bokeh Notebook handle for <strong>In[25]</strong>&gt;</code></p>"
      ],
      "text/plain": [
       "<bokeh.io._CommsHandle at 0x7fab101a9210>"
      ]
     },
     "execution_count": 25,
     "metadata": {},
     "output_type": "execute_result"
    }
   ],
   "source": [
    "plt_obj = dm.superset_allele_mask(am_57, min_match=0.001)\n",
    "plt = plt_obj.do_plot()\n",
    "show(plt)"
   ]
  },
  {
   "cell_type": "code",
   "execution_count": 26,
   "metadata": {
    "collapsed": false,
    "deletable": true,
    "editable": true
   },
   "outputs": [
    {
     "data": {
      "text/html": [
       "<table>\n",
       "<thead><tr><th style=\"text-align:center\">index</th><th style=\"text-align:center\">first</th><th style=\"text-align:center\">length</th><th style=\"text-align:center\">snps</th><th style=\"text-align:center\" colspan=2>alleles</th><th style=\"text-align:center\" colspan=2>matches</th><th style=\"text-align:center\" colspan=2>afr</th><th style=\"text-align:center\" colspan=2>afx</th><th style=\"text-align:center\" colspan=2>amr</th><th style=\"text-align:center\" colspan=2>eas</th><th style=\"text-align:center\" colspan=2>eur</th><th style=\"text-align:center\" colspan=2>sas</th><th style=\"text-align:center\" colspan=2>sax</th></tr></thead>\n",
       "<tr class=\"even\"><td style=\"text-align: right;\">353921</td><td style=\"text-align: right;\">136,501,840</td><td style=\"text-align: right;\">53,819</td><td style=\"text-align: right;\">10</td><td style=\"text-align: right;\">2206</td><td style=\"text-align: right;\">0.00</td><td style=\"text-align: right;\">1</td><td style=\"text-align: right;\">1.00</td><td style=\"text-align: right;\">0</td><td style=\"text-align: right;\">0.00</td><td style=\"text-align: right;\">0</td><td style=\"text-align: right;\">0.00</td><td style=\"text-align: right;\">1</td><td style=\"text-align: right;\">7.22</td><td style=\"text-align: right;\">0</td><td style=\"text-align: right;\">0.00</td><td style=\"text-align: right;\">0</td><td style=\"text-align: right;\">0.00</td><td style=\"text-align: right;\">0</td><td style=\"text-align: right;\">0.00</td><td style=\"text-align: right;\">0</td><td style=\"text-align: right;\">0.00</td></tr>\n",
       "<tr><td style=\"text-align: right;\">353462</td><td style=\"text-align: right;\">135,915,358</td><td style=\"text-align: right;\">79,721</td><td style=\"text-align: right;\">4</td><td style=\"text-align: right;\">1699</td><td style=\"text-align: right;\">0.00</td><td style=\"text-align: right;\">1</td><td style=\"text-align: right;\">1.00</td><td style=\"text-align: right;\">0</td><td style=\"text-align: right;\">0.00</td><td style=\"text-align: right;\">0</td><td style=\"text-align: right;\">0.00</td><td style=\"text-align: right;\">1</td><td style=\"text-align: right;\">7.22</td><td style=\"text-align: right;\">0</td><td style=\"text-align: right;\">0.00</td><td style=\"text-align: right;\">0</td><td style=\"text-align: right;\">0.00</td><td style=\"text-align: right;\">0</td><td style=\"text-align: right;\">0.00</td><td style=\"text-align: right;\">0</td><td style=\"text-align: right;\">0.00</td></tr>\n",
       "<tr class=\"even\"><td style=\"text-align: right;\">353283</td><td style=\"text-align: right;\">135,771,974</td><td style=\"text-align: right;\">368,330</td><td style=\"text-align: right;\">6</td><td style=\"text-align: right;\">1503</td><td style=\"text-align: right;\">0.00</td><td style=\"text-align: right;\">1</td><td style=\"text-align: right;\">1.00</td><td style=\"text-align: right;\">0</td><td style=\"text-align: right;\">0.00</td><td style=\"text-align: right;\">0</td><td style=\"text-align: right;\">0.00</td><td style=\"text-align: right;\">1</td><td style=\"text-align: right;\">7.22</td><td style=\"text-align: right;\">0</td><td style=\"text-align: right;\">0.00</td><td style=\"text-align: right;\">0</td><td style=\"text-align: right;\">0.00</td><td style=\"text-align: right;\">0</td><td style=\"text-align: right;\">0.00</td><td style=\"text-align: right;\">0</td><td style=\"text-align: right;\">0.00</td></tr>\n",
       "<tr><td style=\"text-align: right;\">353797</td><td style=\"text-align: right;\">136,398,174</td><td style=\"text-align: right;\">75,924</td><td style=\"text-align: right;\">26</td><td style=\"text-align: right;\">1414</td><td style=\"text-align: right;\">0.00</td><td style=\"text-align: right;\">1</td><td style=\"text-align: right;\">1.00</td><td style=\"text-align: right;\">0</td><td style=\"text-align: right;\">0.00</td><td style=\"text-align: right;\">0</td><td style=\"text-align: right;\">0.00</td><td style=\"text-align: right;\">1</td><td style=\"text-align: right;\">7.22</td><td style=\"text-align: right;\">0</td><td style=\"text-align: right;\">0.00</td><td style=\"text-align: right;\">0</td><td style=\"text-align: right;\">0.00</td><td style=\"text-align: right;\">0</td><td style=\"text-align: right;\">0.00</td><td style=\"text-align: right;\">0</td><td style=\"text-align: right;\">0.00</td></tr>\n",
       "</table>"
      ],
      "text/plain": [
       "<IPython.core.display.HTML object>"
      ]
     },
     "execution_count": 26,
     "metadata": {},
     "output_type": "execute_result"
    }
   ],
   "source": [
    "HTML(plt_obj.get_html())"
   ]
  }
 ],
 "metadata": {
  "kernelspec": {
   "display_name": "Python [Root]",
   "language": "python",
   "name": "Python [Root]"
  },
  "language_info": {
   "codemirror_mode": {
    "name": "ipython",
    "version": 2
   },
   "file_extension": ".py",
   "mimetype": "text/x-python",
   "name": "python",
   "nbconvert_exporter": "python",
   "pygments_lexer": "ipython2",
   "version": "2.7.12"
  }
 },
 "nbformat": 4,
 "nbformat_minor": 0
}
