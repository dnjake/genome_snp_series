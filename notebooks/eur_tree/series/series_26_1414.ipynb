{
 "cells": [
  {
   "cell_type": "code",
   "execution_count": 1,
   "metadata": {
    "collapsed": false
   },
   "outputs": [
    {
     "data": {
      "text/html": []
     },
     "metadata": {},
     "output_type": "display_data"
    },
    {
     "data": {
      "application/javascript": [
       "\n",
       "(function(global) {\n",
       "  function now() {\n",
       "    return new Date();\n",
       "  }\n",
       "\n",
       "  if (typeof (window._bokeh_onload_callbacks) === \"undefined\") {\n",
       "    window._bokeh_onload_callbacks = [];\n",
       "  }\n",
       "\n",
       "  function run_callbacks() {\n",
       "    window._bokeh_onload_callbacks.forEach(function(callback) { callback() });\n",
       "    delete window._bokeh_onload_callbacks\n",
       "    console.info(\"Bokeh: all callbacks have finished\");\n",
       "  }\n",
       "\n",
       "  function load_libs(js_urls, callback) {\n",
       "    window._bokeh_onload_callbacks.push(callback);\n",
       "    if (window._bokeh_is_loading > 0) {\n",
       "      console.log(\"Bokeh: BokehJS is being loaded, scheduling callback at\", now());\n",
       "      return null;\n",
       "    }\n",
       "    if (js_urls == null || js_urls.length === 0) {\n",
       "      run_callbacks();\n",
       "      return null;\n",
       "    }\n",
       "    console.log(\"Bokeh: BokehJS not loaded, scheduling load and callback at\", now());\n",
       "    window._bokeh_is_loading = js_urls.length;\n",
       "    for (var i = 0; i < js_urls.length; i++) {\n",
       "      var url = js_urls[i];\n",
       "      var s = document.createElement('script');\n",
       "      s.src = url;\n",
       "      s.async = false;\n",
       "      s.onreadystatechange = s.onload = function() {\n",
       "        window._bokeh_is_loading--;\n",
       "        if (window._bokeh_is_loading === 0) {\n",
       "          console.log(\"Bokeh: all BokehJS libraries loaded\");\n",
       "          run_callbacks()\n",
       "        }\n",
       "      };\n",
       "      s.onerror = function() {\n",
       "        console.warn(\"failed to load library \" + url);\n",
       "      };\n",
       "      console.log(\"Bokeh: injecting script tag for BokehJS library: \", url);\n",
       "      document.getElementsByTagName(\"head\")[0].appendChild(s);\n",
       "    }\n",
       "  };\n",
       "\n",
       "  var js_urls = ['https://cdn.pydata.org/bokeh/release/bokeh-0.12.0.min.js', 'https://cdn.pydata.org/bokeh/release/bokeh-widgets-0.12.0.min.js', 'https://cdn.pydata.org/bokeh/release/bokeh-compiler-0.12.0.min.js'];\n",
       "\n",
       "  var inline_js = [\n",
       "    function(Bokeh) {\n",
       "      Bokeh.set_log_level(\"info\");\n",
       "    },\n",
       "    \n",
       "    function(Bokeh) {\n",
       "      Bokeh.$(\"#9117356c-fec7-4dc1-a518-fb4e48d42744\").text(\"BokehJS successfully loaded\");\n",
       "    },\n",
       "    function(Bokeh) {\n",
       "      console.log(\"Bokeh: injecting CSS: https://cdn.pydata.org/bokeh/release/bokeh-0.12.0.min.css\");\n",
       "      Bokeh.embed.inject_css(\"https://cdn.pydata.org/bokeh/release/bokeh-0.12.0.min.css\");\n",
       "      console.log(\"Bokeh: injecting CSS: https://cdn.pydata.org/bokeh/release/bokeh-widgets-0.12.0.min.css\");\n",
       "      Bokeh.embed.inject_css(\"https://cdn.pydata.org/bokeh/release/bokeh-widgets-0.12.0.min.css\");\n",
       "    }\n",
       "  ];\n",
       "\n",
       "  function run_inline_js() {\n",
       "    for (var i = 0; i < inline_js.length; i++) {\n",
       "      inline_js[i](window.Bokeh);\n",
       "    }\n",
       "  }\n",
       "\n",
       "  if (window._bokeh_is_loading === 0) {\n",
       "    console.log(\"Bokeh: BokehJS loaded, going straight to plotting\");\n",
       "    run_inline_js();\n",
       "  } else {\n",
       "    load_libs(js_urls, function() {\n",
       "      console.log(\"Bokeh: BokehJS plotting callback run at\", now());\n",
       "      run_inline_js();\n",
       "    });\n",
       "  }\n",
       "}(this));"
      ]
     },
     "metadata": {},
     "output_type": "display_data"
    }
   ],
   "source": [
    "import numpy as np\n",
    "from IPython.display import HTML\n",
    "from bokeh.plotting import output_notebook, show\n",
    "import genomes_dnj.lct_interval.series_plots as dm\n",
    "import genomes_dnj.lct_interval.anal_series as an\n",
    "import genomes_dnj.lct_interval.series_masks as sm\n",
    "import genomes_dnj.lct_interval_snp_anal.lct_interval_snp_anal as snp_anal\n",
    "from genomes_dnj.lct_interval.bokeh_match_count_plot import snp_match_count_plot_cls as smcp\n",
    "output_notebook(hide_banner=True)\n",
    "sa_26_1414 = snp_anal.series_anal_cls(dm.di_26_1414, sm.series_data)\n",
    "sa_64_1575 = snp_anal.series_anal_cls(dm.di_64_1575, sm.series_data)\n",
    "sa_5_684 = snp_anal.series_anal_cls(dm.di_5_684, sm.series_data)\n",
    "sa_9_944 = snp_anal.series_anal_cls(dm.di_9_944, sm.series_data)"
   ]
  },
  {
   "cell_type": "markdown",
   "metadata": {},
   "source": [
    "<h3>Series 26_1414</h3>\n",
    "<div style=\"width:700px\">\n",
    "<p>\n",
    "This notebook documents the series 26_1414 and its 26 SNPs.  The 1000 genomes data includes\n",
    "3571 samples that express none of its 26 SNPs and 1302 samples that express all 26 of them.\n",
    "38 samples express 25 SNPs, 22 samples express 24 SNPs, and 52 samples express 23 SNPs.\n",
    "The series covers more than a 136,000 DNA base region that includes the the upper part of the \n",
    "gene r3hdm1.\n",
    "<p>\n",
    "The association between 26_1414 and 6_1503 essentially defines the root of the EUR tree.\n",
    "That association is expressed by 1270 1000 genomes chromosome 2 samples. This notebook explores \n",
    "the associations of 26_1414 that give the series an identity beyond the EUR tree.  \n",
    "<p>\n",
    "There are two cases of selection of 26_1414 in African populations.  But both cases select for less\n",
    "that the full 26 SNPs.  The series 5_16 selects for a 24 SNP series that has lost the first 2 26_1414\n",
    "SNPs.  The series 14_48 selects for a 23 SNP series that has lost 3 interspersed 26_1414 SNPs\n",
    "</div>"
   ]
  },
  {
   "cell_type": "code",
   "execution_count": 2,
   "metadata": {
    "collapsed": false
   },
   "outputs": [
    {
     "data": {
      "text/html": [
       "<p>\n",
       "<b>26_1414 series</b>\n",
       "</p><p>\n",
       "<table>\n",
       "<thead><tr><th style=\"text-align:center\">index</th><th style=\"text-align:center\">first</th><th style=\"text-align:center\">length</th><th style=\"text-align:center\">snps</th><th style=\"text-align:center\">alleles</th><th style=\"text-align:center\" colspan=2>afr</th><th style=\"text-align:center\" colspan=2>afx</th><th style=\"text-align:center\" colspan=2>amr</th><th style=\"text-align:center\" colspan=2>eas</th><th style=\"text-align:center\" colspan=2>eur</th><th style=\"text-align:center\" colspan=2>sas</th><th style=\"text-align:center\" colspan=2>sax</th></tr></thead>\n",
       "<tr class=\"even\"><td style=\"text-align: right;\">353797</td><td style=\"text-align: right;\">136,398,174</td><td style=\"text-align: right;\">75,924</td><td style=\"text-align: right;\">26</td><td style=\"text-align: right;\">1414</td><td style=\"text-align: right;\">93</td><td style=\"text-align: right;\">0.33</td><td style=\"text-align: right;\">60</td><td style=\"text-align: right;\">0.68</td><td style=\"text-align: right;\">288</td><td style=\"text-align: right;\">1.47</td><td style=\"text-align: right;\">128</td><td style=\"text-align: right;\">0.45</td><td style=\"text-align: right;\">608</td><td style=\"text-align: right;\">2.14</td><td style=\"text-align: right;\">111</td><td style=\"text-align: right;\">1.08</td><td style=\"text-align: right;\">126</td><td style=\"text-align: right;\">0.73</td></tr>\n",
       "</table>\n",
       "</p>\n",
       "<p>\n",
       "<b>26_1414 series snps</b>\n",
       "</p><p>\n",
       "<table>\n",
       "<thead><tr><th style=\"text-align:center\">index</th><th style=\"text-align:center\">pos</th><th style=\"text-align:center\">id</th><th style=\"text-align:center\">niv</th><th style=\"text-align:center\">alleles</th><th style=\"text-align:center\" colspan=2>afr</th><th style=\"text-align:center\" colspan=2>afx</th><th style=\"text-align:center\" colspan=2>amr</th><th style=\"text-align:center\" colspan=2>eas</th><th style=\"text-align:center\" colspan=2>eur</th><th style=\"text-align:center\" colspan=2>sas</th><th style=\"text-align:center\" colspan=2>sax</th></tr></thead>\n",
       "<tr class=\"even\"><td style=\"text-align: right;\">878194</td><td style=\"text-align: right;\">136,398,174</td><td>rs12619365</td><td>1</td><td style=\"text-align: right;\">1402</td><td style=\"text-align: right;\">78</td><td style=\"text-align: right;\">0.28</td><td style=\"text-align: right;\">56</td><td style=\"text-align: right;\">0.64</td><td style=\"text-align: right;\">289</td><td style=\"text-align: right;\">1.49</td><td style=\"text-align: right;\">130</td><td style=\"text-align: right;\">0.46</td><td style=\"text-align: right;\">608</td><td style=\"text-align: right;\">2.16</td><td style=\"text-align: right;\">112</td><td style=\"text-align: right;\">1.10</td><td style=\"text-align: right;\">129</td><td style=\"text-align: right;\">0.75</td></tr>\n",
       "<tr><td style=\"text-align: right;\">878208</td><td style=\"text-align: right;\">136,402,117</td><td>rs4954276</td><td>1</td><td style=\"text-align: right;\">1399</td><td style=\"text-align: right;\">78</td><td style=\"text-align: right;\">0.28</td><td style=\"text-align: right;\">56</td><td style=\"text-align: right;\">0.64</td><td style=\"text-align: right;\">289</td><td style=\"text-align: right;\">1.49</td><td style=\"text-align: right;\">129</td><td style=\"text-align: right;\">0.46</td><td style=\"text-align: right;\">607</td><td style=\"text-align: right;\">2.16</td><td style=\"text-align: right;\">112</td><td style=\"text-align: right;\">1.10</td><td style=\"text-align: right;\">128</td><td style=\"text-align: right;\">0.75</td></tr>\n",
       "<tr class=\"even\"><td style=\"text-align: right;\">878220</td><td style=\"text-align: right;\">136,403,749</td><td>rs13413639</td><td>1</td><td style=\"text-align: right;\">1424</td><td style=\"text-align: right;\">95</td><td style=\"text-align: right;\">0.33</td><td style=\"text-align: right;\">61</td><td style=\"text-align: right;\">0.68</td><td style=\"text-align: right;\">289</td><td style=\"text-align: right;\">1.46</td><td style=\"text-align: right;\">128</td><td style=\"text-align: right;\">0.45</td><td style=\"text-align: right;\">609</td><td style=\"text-align: right;\">2.13</td><td style=\"text-align: right;\">112</td><td style=\"text-align: right;\">1.08</td><td style=\"text-align: right;\">130</td><td style=\"text-align: right;\">0.74</td></tr>\n",
       "<tr><td style=\"text-align: right;\">878251</td><td style=\"text-align: right;\">136,409,073</td><td>rs4954279</td><td>1</td><td style=\"text-align: right;\">1423</td><td style=\"text-align: right;\">95</td><td style=\"text-align: right;\">0.33</td><td style=\"text-align: right;\">61</td><td style=\"text-align: right;\">0.68</td><td style=\"text-align: right;\">289</td><td style=\"text-align: right;\">1.47</td><td style=\"text-align: right;\">130</td><td style=\"text-align: right;\">0.45</td><td style=\"text-align: right;\">607</td><td style=\"text-align: right;\">2.12</td><td style=\"text-align: right;\">112</td><td style=\"text-align: right;\">1.08</td><td style=\"text-align: right;\">129</td><td style=\"text-align: right;\">0.74</td></tr>\n",
       "<tr class=\"even\"><td style=\"text-align: right;\">878256</td><td style=\"text-align: right;\">136,410,299</td><td>rs10928542</td><td>1</td><td style=\"text-align: right;\">1423</td><td style=\"text-align: right;\">95</td><td style=\"text-align: right;\">0.33</td><td style=\"text-align: right;\">61</td><td style=\"text-align: right;\">0.68</td><td style=\"text-align: right;\">289</td><td style=\"text-align: right;\">1.47</td><td style=\"text-align: right;\">129</td><td style=\"text-align: right;\">0.45</td><td style=\"text-align: right;\">608</td><td style=\"text-align: right;\">2.13</td><td style=\"text-align: right;\">112</td><td style=\"text-align: right;\">1.08</td><td style=\"text-align: right;\">129</td><td style=\"text-align: right;\">0.74</td></tr>\n",
       "<tr><td style=\"text-align: right;\">878278</td><td style=\"text-align: right;\">136,413,359</td><td>rs7608045</td><td>1</td><td style=\"text-align: right;\">1421</td><td style=\"text-align: right;\">95</td><td style=\"text-align: right;\">0.33</td><td style=\"text-align: right;\">60</td><td style=\"text-align: right;\">0.67</td><td style=\"text-align: right;\">289</td><td style=\"text-align: right;\">1.47</td><td style=\"text-align: right;\">128</td><td style=\"text-align: right;\">0.45</td><td style=\"text-align: right;\">608</td><td style=\"text-align: right;\">2.13</td><td style=\"text-align: right;\">112</td><td style=\"text-align: right;\">1.08</td><td style=\"text-align: right;\">129</td><td style=\"text-align: right;\">0.74</td></tr>\n",
       "<tr class=\"even\"><td style=\"text-align: right;\">878294</td><td style=\"text-align: right;\">136,416,855</td><td>rs6715856</td><td>1</td><td style=\"text-align: right;\">1421</td><td style=\"text-align: right;\">95</td><td style=\"text-align: right;\">0.33</td><td style=\"text-align: right;\">60</td><td style=\"text-align: right;\">0.67</td><td style=\"text-align: right;\">289</td><td style=\"text-align: right;\">1.47</td><td style=\"text-align: right;\">129</td><td style=\"text-align: right;\">0.45</td><td style=\"text-align: right;\">608</td><td style=\"text-align: right;\">2.13</td><td style=\"text-align: right;\">112</td><td style=\"text-align: right;\">1.08</td><td style=\"text-align: right;\">128</td><td style=\"text-align: right;\">0.73</td></tr>\n",
       "<tr><td style=\"text-align: right;\">878295</td><td style=\"text-align: right;\">136,416,941</td><td>rs6755383</td><td>1</td><td style=\"text-align: right;\">1421</td><td style=\"text-align: right;\">95</td><td style=\"text-align: right;\">0.33</td><td style=\"text-align: right;\">60</td><td style=\"text-align: right;\">0.67</td><td style=\"text-align: right;\">289</td><td style=\"text-align: right;\">1.47</td><td style=\"text-align: right;\">129</td><td style=\"text-align: right;\">0.45</td><td style=\"text-align: right;\">608</td><td style=\"text-align: right;\">2.13</td><td style=\"text-align: right;\">112</td><td style=\"text-align: right;\">1.08</td><td style=\"text-align: right;\">128</td><td style=\"text-align: right;\">0.73</td></tr>\n",
       "<tr class=\"even\"><td style=\"text-align: right;\">878304</td><td style=\"text-align: right;\">136,418,348</td><td>rs6720287</td><td>1</td><td style=\"text-align: right;\">1420</td><td style=\"text-align: right;\">95</td><td style=\"text-align: right;\">0.33</td><td style=\"text-align: right;\">60</td><td style=\"text-align: right;\">0.67</td><td style=\"text-align: right;\">289</td><td style=\"text-align: right;\">1.47</td><td style=\"text-align: right;\">128</td><td style=\"text-align: right;\">0.45</td><td style=\"text-align: right;\">608</td><td style=\"text-align: right;\">2.13</td><td style=\"text-align: right;\">112</td><td style=\"text-align: right;\">1.09</td><td style=\"text-align: right;\">128</td><td style=\"text-align: right;\">0.74</td></tr>\n",
       "<tr><td style=\"text-align: right;\">878308</td><td style=\"text-align: right;\">136,419,961</td><td>rs1446584</td><td>1</td><td style=\"text-align: right;\">1421</td><td style=\"text-align: right;\">96</td><td style=\"text-align: right;\">0.34</td><td style=\"text-align: right;\">60</td><td style=\"text-align: right;\">0.67</td><td style=\"text-align: right;\">289</td><td style=\"text-align: right;\">1.47</td><td style=\"text-align: right;\">128</td><td style=\"text-align: right;\">0.45</td><td style=\"text-align: right;\">608</td><td style=\"text-align: right;\">2.13</td><td style=\"text-align: right;\">112</td><td style=\"text-align: right;\">1.08</td><td style=\"text-align: right;\">128</td><td style=\"text-align: right;\">0.73</td></tr>\n",
       "<tr class=\"even\"><td style=\"text-align: right;\">878313</td><td style=\"text-align: right;\">136,420,690</td><td>rs4954280</td><td>1</td><td style=\"text-align: right;\">1419</td><td style=\"text-align: right;\">94</td><td style=\"text-align: right;\">0.33</td><td style=\"text-align: right;\">60</td><td style=\"text-align: right;\">0.67</td><td style=\"text-align: right;\">289</td><td style=\"text-align: right;\">1.47</td><td style=\"text-align: right;\">128</td><td style=\"text-align: right;\">0.45</td><td style=\"text-align: right;\">608</td><td style=\"text-align: right;\">2.13</td><td style=\"text-align: right;\">112</td><td style=\"text-align: right;\">1.09</td><td style=\"text-align: right;\">128</td><td style=\"text-align: right;\">0.74</td></tr>\n",
       "<tr><td style=\"text-align: right;\">878322</td><td style=\"text-align: right;\">136,422,171</td><td>rs2034276</td><td>1</td><td style=\"text-align: right;\">1422</td><td style=\"text-align: right;\">96</td><td style=\"text-align: right;\">0.34</td><td style=\"text-align: right;\">60</td><td style=\"text-align: right;\">0.67</td><td style=\"text-align: right;\">289</td><td style=\"text-align: right;\">1.47</td><td style=\"text-align: right;\">128</td><td style=\"text-align: right;\">0.45</td><td style=\"text-align: right;\">608</td><td style=\"text-align: right;\">2.13</td><td style=\"text-align: right;\">112</td><td style=\"text-align: right;\">1.08</td><td style=\"text-align: right;\">129</td><td style=\"text-align: right;\">0.74</td></tr>\n",
       "<tr class=\"even\"><td style=\"text-align: right;\">878348</td><td style=\"text-align: right;\">136,428,460</td><td>rs656326</td><td>1</td><td style=\"text-align: right;\">1421</td><td style=\"text-align: right;\">96</td><td style=\"text-align: right;\">0.34</td><td style=\"text-align: right;\">60</td><td style=\"text-align: right;\">0.67</td><td style=\"text-align: right;\">289</td><td style=\"text-align: right;\">1.47</td><td style=\"text-align: right;\">128</td><td style=\"text-align: right;\">0.45</td><td style=\"text-align: right;\">607</td><td style=\"text-align: right;\">2.13</td><td style=\"text-align: right;\">112</td><td style=\"text-align: right;\">1.08</td><td style=\"text-align: right;\">129</td><td style=\"text-align: right;\">0.74</td></tr>\n",
       "<tr><td style=\"text-align: right;\">878362</td><td style=\"text-align: right;\">136,430,866</td><td>rs313522</td><td>1</td><td style=\"text-align: right;\">1422</td><td style=\"text-align: right;\">96</td><td style=\"text-align: right;\">0.34</td><td style=\"text-align: right;\">60</td><td style=\"text-align: right;\">0.67</td><td style=\"text-align: right;\">289</td><td style=\"text-align: right;\">1.47</td><td style=\"text-align: right;\">129</td><td style=\"text-align: right;\">0.45</td><td style=\"text-align: right;\">608</td><td style=\"text-align: right;\">2.13</td><td style=\"text-align: right;\">112</td><td style=\"text-align: right;\">1.08</td><td style=\"text-align: right;\">128</td><td style=\"text-align: right;\">0.73</td></tr>\n",
       "<tr class=\"even\"><td style=\"text-align: right;\">878364</td><td style=\"text-align: right;\">136,432,103</td><td>rs313523</td><td>1</td><td style=\"text-align: right;\">1422</td><td style=\"text-align: right;\">96</td><td style=\"text-align: right;\">0.34</td><td style=\"text-align: right;\">60</td><td style=\"text-align: right;\">0.67</td><td style=\"text-align: right;\">289</td><td style=\"text-align: right;\">1.47</td><td style=\"text-align: right;\">129</td><td style=\"text-align: right;\">0.45</td><td style=\"text-align: right;\">608</td><td style=\"text-align: right;\">2.13</td><td style=\"text-align: right;\">112</td><td style=\"text-align: right;\">1.08</td><td style=\"text-align: right;\">128</td><td style=\"text-align: right;\">0.73</td></tr>\n",
       "<tr><td style=\"text-align: right;\">878389</td><td style=\"text-align: right;\">136,437,507</td><td>rs313517</td><td>1</td><td style=\"text-align: right;\">1422</td><td style=\"text-align: right;\">96</td><td style=\"text-align: right;\">0.34</td><td style=\"text-align: right;\">60</td><td style=\"text-align: right;\">0.67</td><td style=\"text-align: right;\">289</td><td style=\"text-align: right;\">1.47</td><td style=\"text-align: right;\">129</td><td style=\"text-align: right;\">0.45</td><td style=\"text-align: right;\">608</td><td style=\"text-align: right;\">2.13</td><td style=\"text-align: right;\">112</td><td style=\"text-align: right;\">1.08</td><td style=\"text-align: right;\">128</td><td style=\"text-align: right;\">0.73</td></tr>\n",
       "<tr class=\"even\"><td style=\"text-align: right;\">878398</td><td style=\"text-align: right;\">136,439,090</td><td>rs313518</td><td>1</td><td style=\"text-align: right;\">1422</td><td style=\"text-align: right;\">95</td><td style=\"text-align: right;\">0.33</td><td style=\"text-align: right;\">60</td><td style=\"text-align: right;\">0.67</td><td style=\"text-align: right;\">289</td><td style=\"text-align: right;\">1.47</td><td style=\"text-align: right;\">129</td><td style=\"text-align: right;\">0.45</td><td style=\"text-align: right;\">608</td><td style=\"text-align: right;\">2.13</td><td style=\"text-align: right;\">112</td><td style=\"text-align: right;\">1.08</td><td style=\"text-align: right;\">129</td><td style=\"text-align: right;\">0.74</td></tr>\n",
       "<tr><td style=\"text-align: right;\">878402</td><td style=\"text-align: right;\">136,439,517</td><td>rs313519</td><td>1</td><td style=\"text-align: right;\">1368</td><td style=\"text-align: right;\">57</td><td style=\"text-align: right;\">0.21</td><td style=\"text-align: right;\">49</td><td style=\"text-align: right;\">0.57</td><td style=\"text-align: right;\">285</td><td style=\"text-align: right;\">1.50</td><td style=\"text-align: right;\">129</td><td style=\"text-align: right;\">0.47</td><td style=\"text-align: right;\">608</td><td style=\"text-align: right;\">2.21</td><td style=\"text-align: right;\">112</td><td style=\"text-align: right;\">1.13</td><td style=\"text-align: right;\">128</td><td style=\"text-align: right;\">0.76</td></tr>\n",
       "<tr class=\"even\"><td style=\"text-align: right;\">878430</td><td style=\"text-align: right;\">136,444,123</td><td>rs313524</td><td>1</td><td style=\"text-align: right;\">1422</td><td style=\"text-align: right;\">95</td><td style=\"text-align: right;\">0.33</td><td style=\"text-align: right;\">60</td><td style=\"text-align: right;\">0.67</td><td style=\"text-align: right;\">288</td><td style=\"text-align: right;\">1.46</td><td style=\"text-align: right;\">129</td><td style=\"text-align: right;\">0.45</td><td style=\"text-align: right;\">609</td><td style=\"text-align: right;\">2.13</td><td style=\"text-align: right;\">112</td><td style=\"text-align: right;\">1.08</td><td style=\"text-align: right;\">129</td><td style=\"text-align: right;\">0.74</td></tr>\n",
       "<tr><td style=\"text-align: right;\">878443</td><td style=\"text-align: right;\">136,445,526</td><td>rs313526</td><td>1</td><td style=\"text-align: right;\">1420</td><td style=\"text-align: right;\">93</td><td style=\"text-align: right;\">0.33</td><td style=\"text-align: right;\">60</td><td style=\"text-align: right;\">0.67</td><td style=\"text-align: right;\">288</td><td style=\"text-align: right;\">1.46</td><td style=\"text-align: right;\">129</td><td style=\"text-align: right;\">0.45</td><td style=\"text-align: right;\">609</td><td style=\"text-align: right;\">2.13</td><td style=\"text-align: right;\">112</td><td style=\"text-align: right;\">1.09</td><td style=\"text-align: right;\">129</td><td style=\"text-align: right;\">0.74</td></tr>\n",
       "<tr class=\"even\"><td style=\"text-align: right;\">878445</td><td style=\"text-align: right;\">136,445,869</td><td>rs313528</td><td>1</td><td style=\"text-align: right;\">1421</td><td style=\"text-align: right;\">94</td><td style=\"text-align: right;\">0.33</td><td style=\"text-align: right;\">60</td><td style=\"text-align: right;\">0.67</td><td style=\"text-align: right;\">288</td><td style=\"text-align: right;\">1.46</td><td style=\"text-align: right;\">129</td><td style=\"text-align: right;\">0.45</td><td style=\"text-align: right;\">609</td><td style=\"text-align: right;\">2.13</td><td style=\"text-align: right;\">112</td><td style=\"text-align: right;\">1.08</td><td style=\"text-align: right;\">129</td><td style=\"text-align: right;\">0.74</td></tr>\n",
       "<tr><td style=\"text-align: right;\">878486</td><td style=\"text-align: right;\">136,455,600</td><td>rs71348714</td><td>0</td><td style=\"text-align: right;\">1367</td><td style=\"text-align: right;\">56</td><td style=\"text-align: right;\">0.20</td><td style=\"text-align: right;\">49</td><td style=\"text-align: right;\">0.57</td><td style=\"text-align: right;\">285</td><td style=\"text-align: right;\">1.50</td><td style=\"text-align: right;\">129</td><td style=\"text-align: right;\">0.47</td><td style=\"text-align: right;\">609</td><td style=\"text-align: right;\">2.22</td><td style=\"text-align: right;\">111</td><td style=\"text-align: right;\">1.12</td><td style=\"text-align: right;\">128</td><td style=\"text-align: right;\">0.76</td></tr>\n",
       "<tr class=\"even\"><td style=\"text-align: right;\">878492</td><td style=\"text-align: right;\">136,456,642</td><td>rs12185712</td><td>0</td><td style=\"text-align: right;\">1385</td><td style=\"text-align: right;\">93</td><td style=\"text-align: right;\">0.33</td><td style=\"text-align: right;\">58</td><td style=\"text-align: right;\">0.67</td><td style=\"text-align: right;\">284</td><td style=\"text-align: right;\">1.48</td><td style=\"text-align: right;\">129</td><td style=\"text-align: right;\">0.46</td><td style=\"text-align: right;\">585</td><td style=\"text-align: right;\">2.10</td><td style=\"text-align: right;\">108</td><td style=\"text-align: right;\">1.07</td><td style=\"text-align: right;\">128</td><td style=\"text-align: right;\">0.75</td></tr>\n",
       "<tr><td style=\"text-align: right;\">878514</td><td style=\"text-align: right;\">136,462,441</td><td>rs7355359</td><td>0</td><td style=\"text-align: right;\">1368</td><td style=\"text-align: right;\">56</td><td style=\"text-align: right;\">0.20</td><td style=\"text-align: right;\">49</td><td style=\"text-align: right;\">0.57</td><td style=\"text-align: right;\">285</td><td style=\"text-align: right;\">1.50</td><td style=\"text-align: right;\">129</td><td style=\"text-align: right;\">0.47</td><td style=\"text-align: right;\">610</td><td style=\"text-align: right;\">2.22</td><td style=\"text-align: right;\">111</td><td style=\"text-align: right;\">1.12</td><td style=\"text-align: right;\">128</td><td style=\"text-align: right;\">0.76</td></tr>\n",
       "<tr class=\"even\"><td style=\"text-align: right;\">878556</td><td style=\"text-align: right;\">136,470,714</td><td>rs13412397</td><td>0</td><td style=\"text-align: right;\">1421</td><td style=\"text-align: right;\">93</td><td style=\"text-align: right;\">0.33</td><td style=\"text-align: right;\">60</td><td style=\"text-align: right;\">0.67</td><td style=\"text-align: right;\">292</td><td style=\"text-align: right;\">1.48</td><td style=\"text-align: right;\">127</td><td style=\"text-align: right;\">0.44</td><td style=\"text-align: right;\">610</td><td style=\"text-align: right;\">2.14</td><td style=\"text-align: right;\">111</td><td style=\"text-align: right;\">1.07</td><td style=\"text-align: right;\">128</td><td style=\"text-align: right;\">0.73</td></tr>\n",
       "<tr><td style=\"text-align: right;\">878567</td><td style=\"text-align: right;\">136,474,098</td><td>rs11679508</td><td>0</td><td style=\"text-align: right;\">1421</td><td style=\"text-align: right;\">93</td><td style=\"text-align: right;\">0.33</td><td style=\"text-align: right;\">60</td><td style=\"text-align: right;\">0.67</td><td style=\"text-align: right;\">292</td><td style=\"text-align: right;\">1.48</td><td style=\"text-align: right;\">127</td><td style=\"text-align: right;\">0.44</td><td style=\"text-align: right;\">610</td><td style=\"text-align: right;\">2.14</td><td style=\"text-align: right;\">111</td><td style=\"text-align: right;\">1.07</td><td style=\"text-align: right;\">128</td><td style=\"text-align: right;\">0.73</td></tr>\n",
       "</table>"
      ],
      "text/plain": [
       "<IPython.core.display.HTML object>"
      ]
     },
     "execution_count": 2,
     "metadata": {},
     "output_type": "execute_result"
    }
   ],
   "source": [
    "HTML(dm.series_html(dm.di_26_1414))"
   ]
  },
  {
   "cell_type": "code",
   "execution_count": 3,
   "metadata": {
    "collapsed": false
   },
   "outputs": [
    {
     "data": {
      "text/plain": [
       "array([(0, 3571), (1, 4), (2, 4), (3, 1), (4, 1), (5, 2), (8, 3), (13, 1),\n",
       "       (15, 1), (16, 1), (17, 1), (18, 2), (21, 2), (23, 52), (24, 22),\n",
       "       (25, 38), (26, 1302)], \n",
       "      dtype=[('count', '<u2'), ('snps', '<u2')])"
      ]
     },
     "execution_count": 3,
     "metadata": {},
     "output_type": "execute_result"
    }
   ],
   "source": [
    "count_data = sa_26_1414.unique_snps_per_allele()\n",
    "count_data"
   ]
  },
  {
   "cell_type": "markdown",
   "metadata": {},
   "source": [
    "<div style=\"width:700px\">\n",
    "<p>\n",
    "This plot shows the series most commonly associated with 26_1414.  They include the root\n",
    "of the EUR tree plus the series 4_911 and 11_765.  The 765 chromosomes that express the series\n",
    "11_765 associated with lactase persisitence are slightly more than half of those that\n",
    "express 26_1414.  The association of 26_1414 and 6_1503 defines the root of the EUR tree.  The\n",
    "1270 chromosomes that express this association are 90% of those that express 26_1414.  The strength\n",
    "of the association between 26_1414 and 10_2206 is stronger then the association of\n",
    "26_1414 with the EUR tree or with lactase persistence.  The rest of this notebook explores\n",
    "the associations of 26_1414 outside the EUR tree.\n",
    "</div>"
   ]
  },
  {
   "cell_type": "code",
   "execution_count": 4,
   "metadata": {
    "collapsed": false
   },
   "outputs": [
    {
     "data": {
      "text/html": [
       "\n",
       "\n",
       "    <div class=\"bk-root\">\n",
       "        <div class=\"plotdiv\" id=\"d0b7f665-bd53-4a63-b185-d9dfa1c6483e\"></div>\n",
       "    </div>\n",
       "<script type=\"text/javascript\">\n",
       "  \n",
       "  (function(global) {\n",
       "    function now() {\n",
       "      return new Date();\n",
       "    }\n",
       "  \n",
       "    if (typeof (window._bokeh_onload_callbacks) === \"undefined\") {\n",
       "      window._bokeh_onload_callbacks = [];\n",
       "    }\n",
       "  \n",
       "    function run_callbacks() {\n",
       "      window._bokeh_onload_callbacks.forEach(function(callback) { callback() });\n",
       "      delete window._bokeh_onload_callbacks\n",
       "      console.info(\"Bokeh: all callbacks have finished\");\n",
       "    }\n",
       "  \n",
       "    function load_libs(js_urls, callback) {\n",
       "      window._bokeh_onload_callbacks.push(callback);\n",
       "      if (window._bokeh_is_loading > 0) {\n",
       "        console.log(\"Bokeh: BokehJS is being loaded, scheduling callback at\", now());\n",
       "        return null;\n",
       "      }\n",
       "      if (js_urls == null || js_urls.length === 0) {\n",
       "        run_callbacks();\n",
       "        return null;\n",
       "      }\n",
       "      console.log(\"Bokeh: BokehJS not loaded, scheduling load and callback at\", now());\n",
       "      window._bokeh_is_loading = js_urls.length;\n",
       "      for (var i = 0; i < js_urls.length; i++) {\n",
       "        var url = js_urls[i];\n",
       "        var s = document.createElement('script');\n",
       "        s.src = url;\n",
       "        s.async = false;\n",
       "        s.onreadystatechange = s.onload = function() {\n",
       "          window._bokeh_is_loading--;\n",
       "          if (window._bokeh_is_loading === 0) {\n",
       "            console.log(\"Bokeh: all BokehJS libraries loaded\");\n",
       "            run_callbacks()\n",
       "          }\n",
       "        };\n",
       "        s.onerror = function() {\n",
       "          console.warn(\"failed to load library \" + url);\n",
       "        };\n",
       "        console.log(\"Bokeh: injecting script tag for BokehJS library: \", url);\n",
       "        document.getElementsByTagName(\"head\")[0].appendChild(s);\n",
       "      }\n",
       "    };var element = document.getElementById(\"d0b7f665-bd53-4a63-b185-d9dfa1c6483e\");\n",
       "    if (element == null) {\n",
       "      console.log(\"Bokeh: ERROR: autoload.js configured with elementid 'd0b7f665-bd53-4a63-b185-d9dfa1c6483e' but no matching script tag was found. \")\n",
       "      return false;\n",
       "    }\n",
       "  \n",
       "    var js_urls = [];\n",
       "  \n",
       "    var inline_js = [\n",
       "      function(Bokeh) {\n",
       "        Bokeh.$(function() {\n",
       "            var docs_json = {\"ed1f51f4-5d51-4d21-8ec0-3a02c98ec84e\":{\"roots\":{\"references\":[{\"attributes\":{\"formatter\":{\"id\":\"80972436-8a33-455e-96f2-574073b24aec\",\"type\":\"BasicTickFormatter\"},\"plot\":{\"id\":\"5a342694-6745-4aec-bab4-9a2d29c98a7e\",\"subtype\":\"Figure\",\"type\":\"Plot\"},\"ticker\":{\"id\":\"fcab9a92-7d4c-486b-a8c4-d1cb180b4fe5\",\"type\":\"BasicTicker\"}},\"id\":\"dc3bd2dc-9be8-4974-a91f-6812852ba35e\",\"type\":\"LinearAxis\"},{\"attributes\":{\"data_source\":{\"id\":\"9326406e-3177-486b-865e-efdf3edf1557\",\"type\":\"ColumnDataSource\"},\"glyph\":{\"id\":\"69647a56-72b1-4781-b093-a77682cd384f\",\"type\":\"MultiLine\"},\"hover_glyph\":null,\"nonselection_glyph\":{\"id\":\"ea62cf07-e734-409d-b63b-c1951c1e824b\",\"type\":\"MultiLine\"},\"selection_glyph\":null},\"id\":\"71eb3048-f3e6-40d2-8911-1fdfad7c777f\",\"type\":\"GlyphRenderer\"},{\"attributes\":{\"bottom\":{\"field\":\"bottom\"},\"fill_color\":{\"value\":\"white\"},\"left\":{\"field\":\"left\"},\"right\":{\"field\":\"right\"},\"top\":{\"field\":\"top\"}},\"id\":\"0ce37d9d-f10f-44d9-b905-07457683735c\",\"type\":\"Quad\"},{\"attributes\":{\"data_source\":{\"id\":\"871bf3ba-4266-49b5-94f4-55d12d7c1c01\",\"type\":\"ColumnDataSource\"},\"glyph\":{\"id\":\"0ce37d9d-f10f-44d9-b905-07457683735c\",\"type\":\"Quad\"},\"hover_glyph\":null,\"nonselection_glyph\":{\"id\":\"db15a4f9-dd0e-4273-857c-4ffc15086bf7\",\"type\":\"Quad\"},\"selection_glyph\":null},\"id\":\"42929dec-fae0-4fa6-a5e9-46817cc4744f\",\"type\":\"GlyphRenderer\"},{\"attributes\":{},\"id\":\"80972436-8a33-455e-96f2-574073b24aec\",\"type\":\"BasicTickFormatter\"},{\"attributes\":{\"plot\":{\"id\":\"5a342694-6745-4aec-bab4-9a2d29c98a7e\",\"subtype\":\"Figure\",\"type\":\"Plot\"}},\"id\":\"6faf4847-fe2f-4d9c-b2f8-3bd929c158d5\",\"type\":\"HelpTool\"},{\"attributes\":{\"below\":[{\"id\":\"dc3bd2dc-9be8-4974-a91f-6812852ba35e\",\"type\":\"LinearAxis\"}],\"left\":[{\"id\":\"d3aee0bd-fa73-4eda-b4f7-7d875b20cba6\",\"type\":\"LinearAxis\"}],\"plot_width\":900,\"renderers\":[{\"id\":\"dc3bd2dc-9be8-4974-a91f-6812852ba35e\",\"type\":\"LinearAxis\"},{\"id\":\"d81b6c51-f2fa-4b3d-97df-c6e484e1c938\",\"type\":\"Grid\"},{\"id\":\"d3aee0bd-fa73-4eda-b4f7-7d875b20cba6\",\"type\":\"LinearAxis\"},{\"id\":\"96a942a7-fde5-4b2a-8894-ada1d8b9e60e\",\"type\":\"Grid\"},{\"id\":\"0881ea2d-795a-4d7a-94e2-e47142ff8f4d\",\"type\":\"BoxAnnotation\"},{\"id\":\"3323d79b-e6f6-4f5b-86c2-8fbd16976467\",\"type\":\"GlyphRenderer\"},{\"id\":\"71eb3048-f3e6-40d2-8911-1fdfad7c777f\",\"type\":\"GlyphRenderer\"},{\"id\":\"92eea223-2d1e-42e2-9700-0621820a519d\",\"type\":\"LabelSet\"},{\"id\":\"42929dec-fae0-4fa6-a5e9-46817cc4744f\",\"type\":\"GlyphRenderer\"},{\"id\":\"a69357c5-7416-47c2-b255-aeb417fcd04f\",\"type\":\"LabelSet\"}],\"title\":{\"id\":\"a44f3795-aa40-4332-8072-ef901e00f049\",\"type\":\"Title\"},\"tool_events\":{\"id\":\"9c7cddfd-80db-4796-90c1-16aaa1ec602c\",\"type\":\"ToolEvents\"},\"toolbar\":{\"id\":\"2d9521e8-c248-4a3c-8e1c-4ee9b00eee2e\",\"type\":\"Toolbar\"},\"toolbar_location\":null,\"x_range\":{\"id\":\"408832bd-cc26-4e55-8455-25d224f01370\",\"type\":\"Range1d\"},\"y_range\":{\"id\":\"cfba02d9-9dfe-4502-b7c0-00d1528031db\",\"type\":\"Range1d\"}},\"id\":\"5a342694-6745-4aec-bab4-9a2d29c98a7e\",\"subtype\":\"Figure\",\"type\":\"Plot\"},{\"attributes\":{\"data_source\":{\"id\":\"d68a193d-a8fb-412d-a7fe-583f18261b67\",\"type\":\"ColumnDataSource\"},\"glyph\":{\"id\":\"2e0a2c79-d39d-4a3a-8413-36c012f9acaa\",\"type\":\"Quad\"},\"hover_glyph\":null,\"nonselection_glyph\":{\"id\":\"9defe419-8cfb-441e-a3bb-7487a9dda674\",\"type\":\"Quad\"},\"selection_glyph\":null},\"id\":\"3323d79b-e6f6-4f5b-86c2-8fbd16976467\",\"type\":\"GlyphRenderer\"},{\"attributes\":{\"plot\":{\"id\":\"5a342694-6745-4aec-bab4-9a2d29c98a7e\",\"subtype\":\"Figure\",\"type\":\"Plot\"}},\"id\":\"c5638250-5eb5-4f50-962f-f2eeb8e7e9ce\",\"type\":\"SaveTool\"},{\"attributes\":{\"plot\":{\"id\":\"5a342694-6745-4aec-bab4-9a2d29c98a7e\",\"subtype\":\"Figure\",\"type\":\"Plot\"},\"ticker\":{\"id\":\"fcab9a92-7d4c-486b-a8c4-d1cb180b4fe5\",\"type\":\"BasicTicker\"}},\"id\":\"d81b6c51-f2fa-4b3d-97df-c6e484e1c938\",\"type\":\"Grid\"},{\"attributes\":{\"callback\":null,\"column_names\":[\"y\",\"x\",\"vals\"],\"data\":{\"vals\":[\"RAB3GAP1\",\"ZRANB3\",\"R3HDM1\",\"UBXN4\",\"LCT\",\"MCM6\",\"DARS\"],\"x\":[135869057.0,136122878.0,136385961.0,136520911.0,136570082.5,136615621.5,136703738.0],\"y\":[560.0,560.0,560.0,560.0,560.0,560.0,560.0]}},\"id\":\"45f0adce-d5c8-4b03-9409-46713fd335fa\",\"type\":\"ColumnDataSource\"},{\"attributes\":{\"formatter\":{\"id\":\"c503bead-493a-4098-b2d3-1d2825282418\",\"type\":\"BasicTickFormatter\"},\"plot\":{\"id\":\"5a342694-6745-4aec-bab4-9a2d29c98a7e\",\"subtype\":\"Figure\",\"type\":\"Plot\"},\"ticker\":{\"id\":\"df9f5a75-a893-458b-b166-5376b796fc04\",\"type\":\"BasicTicker\"},\"visible\":null},\"id\":\"d3aee0bd-fa73-4eda-b4f7-7d875b20cba6\",\"type\":\"LinearAxis\"},{\"attributes\":{\"callback\":null,\"end\":600},\"id\":\"cfba02d9-9dfe-4502-b7c0-00d1528031db\",\"type\":\"Range1d\"},{\"attributes\":{\"bottom\":{\"field\":\"bottom\"},\"fill_color\":{\"field\":\"fill_color\"},\"left\":{\"field\":\"left\"},\"line_color\":{\"value\":null},\"right\":{\"field\":\"right\"},\"top\":{\"field\":\"top\"}},\"id\":\"2e0a2c79-d39d-4a3a-8413-36c012f9acaa\",\"type\":\"Quad\"},{\"attributes\":{\"callback\":null,\"column_names\":[\"right\",\"bottom\",\"top\",\"left\"],\"data\":{\"bottom\":[545,545,545,545,545,545,545],\"left\":[135809835,135957574,136289083,136499189,136545415,136597196,136664254],\"right\":[135928279,136288182,136482839,136542633,136594750,136634047,136743222],\"top\":[575,575,575,575,575,575,575]}},\"id\":\"871bf3ba-4266-49b5-94f4-55d12d7c1c01\",\"type\":\"ColumnDataSource\"},{\"attributes\":{\"bottom\":{\"field\":\"bottom\"},\"fill_alpha\":{\"value\":0.1},\"fill_color\":{\"value\":\"#1f77b4\"},\"left\":{\"field\":\"left\"},\"line_alpha\":{\"value\":0.1},\"line_color\":{\"value\":\"#1f77b4\"},\"right\":{\"field\":\"right\"},\"top\":{\"field\":\"top\"}},\"id\":\"db15a4f9-dd0e-4273-857c-4ffc15086bf7\",\"type\":\"Quad\"},{\"attributes\":{\"plot\":{\"id\":\"5a342694-6745-4aec-bab4-9a2d29c98a7e\",\"subtype\":\"Figure\",\"type\":\"Plot\"}},\"id\":\"ed6c33d0-bf32-496e-a806-9d2836205630\",\"type\":\"PanTool\"},{\"attributes\":{\"line_alpha\":{\"value\":0.1},\"line_color\":{\"value\":\"#1f77b4\"},\"xs\":{\"field\":\"xs\"},\"ys\":{\"field\":\"ys\"}},\"id\":\"ea62cf07-e734-409d-b63b-c1951c1e824b\",\"type\":\"MultiLine\"},{\"attributes\":{},\"id\":\"9c7cddfd-80db-4796-90c1-16aaa1ec602c\",\"type\":\"ToolEvents\"},{\"attributes\":{\"bottom\":{\"field\":\"bottom\"},\"fill_alpha\":{\"value\":0.1},\"fill_color\":{\"value\":\"#1f77b4\"},\"left\":{\"field\":\"left\"},\"line_alpha\":{\"value\":0.1},\"line_color\":{\"value\":\"#1f77b4\"},\"right\":{\"field\":\"right\"},\"top\":{\"field\":\"top\"}},\"id\":\"9defe419-8cfb-441e-a3bb-7487a9dda674\",\"type\":\"Quad\"},{\"attributes\":{\"plot\":{\"id\":\"5a342694-6745-4aec-bab4-9a2d29c98a7e\",\"subtype\":\"Figure\",\"type\":\"Plot\"}},\"id\":\"c4d2658f-0305-471e-9930-f567a3ebe4d4\",\"type\":\"WheelZoomTool\"},{\"attributes\":{\"bottom_units\":\"screen\",\"fill_alpha\":{\"value\":0.5},\"fill_color\":{\"value\":\"lightgrey\"},\"left_units\":\"screen\",\"level\":\"overlay\",\"line_alpha\":{\"value\":1.0},\"line_color\":{\"value\":\"black\"},\"line_dash\":[4,4],\"line_width\":{\"value\":2},\"plot\":null,\"render_mode\":\"css\",\"right_units\":\"screen\",\"top_units\":\"screen\"},\"id\":\"0881ea2d-795a-4d7a-94e2-e47142ff8f4d\",\"type\":\"BoxAnnotation\"},{\"attributes\":{},\"id\":\"fcab9a92-7d4c-486b-a8c4-d1cb180b4fe5\",\"type\":\"BasicTicker\"},{\"attributes\":{\"dimension\":1,\"plot\":{\"id\":\"5a342694-6745-4aec-bab4-9a2d29c98a7e\",\"subtype\":\"Figure\",\"type\":\"Plot\"},\"ticker\":{\"id\":\"df9f5a75-a893-458b-b166-5376b796fc04\",\"type\":\"BasicTicker\"}},\"id\":\"96a942a7-fde5-4b2a-8894-ada1d8b9e60e\",\"type\":\"Grid\"},{\"attributes\":{},\"id\":\"df9f5a75-a893-458b-b166-5376b796fc04\",\"type\":\"BasicTicker\"},{\"attributes\":{\"plot\":null,\"text\":null},\"id\":\"a44f3795-aa40-4332-8072-ef901e00f049\",\"type\":\"Title\"},{\"attributes\":{\"callback\":null,\"end\":136786630,\"start\":135757320},\"id\":\"408832bd-cc26-4e55-8455-25d224f01370\",\"type\":\"Range1d\"},{\"attributes\":{\"plot\":{\"id\":\"5a342694-6745-4aec-bab4-9a2d29c98a7e\",\"subtype\":\"Figure\",\"type\":\"Plot\"}},\"id\":\"e0b00f32-370a-4084-a6a0-fa177bc1ecd7\",\"type\":\"ResetTool\"},{\"attributes\":{\"level\":\"glyph\",\"plot\":{\"id\":\"5a342694-6745-4aec-bab4-9a2d29c98a7e\",\"subtype\":\"Figure\",\"type\":\"Plot\"},\"source\":{\"id\":\"45f0adce-d5c8-4b03-9409-46713fd335fa\",\"type\":\"ColumnDataSource\"},\"text\":{\"field\":\"vals\"},\"text_align\":\"center\",\"text_baseline\":\"middle\",\"text_font_size\":{\"value\":\"8pt\"},\"x\":{\"field\":\"x\"},\"y\":{\"field\":\"y\"}},\"id\":\"a69357c5-7416-47c2-b255-aeb417fcd04f\",\"type\":\"LabelSet\"},{\"attributes\":{},\"id\":\"c503bead-493a-4098-b2d3-1d2825282418\",\"type\":\"BasicTickFormatter\"},{\"attributes\":{\"callback\":null,\"column_names\":[\"y\",\"x\",\"vals\"],\"data\":{\"vals\":[\"6_1503\",\"11_765\",\"4_1699\",\"4_911\",\"26_1414\",\"64_1575\",\"10_2206\",\"7_1868\"],\"x\":[135771974,135837906,135915358,136092061,136398174,136494186,136501840,136682274],\"y\":[300.0,94.0,401.0,195.0,299.0,400.0,503.0,502.0]}},\"id\":\"840c2c55-fa7e-4d6b-ac3d-f79f7c60bebc\",\"type\":\"ColumnDataSource\"},{\"attributes\":{\"level\":\"glyph\",\"plot\":{\"id\":\"5a342694-6745-4aec-bab4-9a2d29c98a7e\",\"subtype\":\"Figure\",\"type\":\"Plot\"},\"source\":{\"id\":\"840c2c55-fa7e-4d6b-ac3d-f79f7c60bebc\",\"type\":\"ColumnDataSource\"},\"text\":{\"field\":\"vals\"},\"text_font_size\":{\"value\":\"9pt\"},\"text_font_style\":\"bold\",\"x\":{\"field\":\"x\"},\"y\":{\"field\":\"y\"}},\"id\":\"92eea223-2d1e-42e2-9700-0621820a519d\",\"type\":\"LabelSet\"},{\"attributes\":{\"active_drag\":\"auto\",\"active_scroll\":\"auto\",\"active_tap\":\"auto\",\"tools\":[{\"id\":\"ed6c33d0-bf32-496e-a806-9d2836205630\",\"type\":\"PanTool\"},{\"id\":\"c4d2658f-0305-471e-9930-f567a3ebe4d4\",\"type\":\"WheelZoomTool\"},{\"id\":\"f1371046-8dcd-4b93-9ce7-c0ca1bb32ab1\",\"type\":\"BoxZoomTool\"},{\"id\":\"c5638250-5eb5-4f50-962f-f2eeb8e7e9ce\",\"type\":\"SaveTool\"},{\"id\":\"e0b00f32-370a-4084-a6a0-fa177bc1ecd7\",\"type\":\"ResetTool\"},{\"id\":\"6faf4847-fe2f-4d9c-b2f8-3bd929c158d5\",\"type\":\"HelpTool\"}]},\"id\":\"2d9521e8-c248-4a3c-8e1c-4ee9b00eee2e\",\"type\":\"Toolbar\"},{\"attributes\":{\"overlay\":{\"id\":\"0881ea2d-795a-4d7a-94e2-e47142ff8f4d\",\"type\":\"BoxAnnotation\"},\"plot\":{\"id\":\"5a342694-6745-4aec-bab4-9a2d29c98a7e\",\"subtype\":\"Figure\",\"type\":\"Plot\"}},\"id\":\"f1371046-8dcd-4b93-9ce7-c0ca1bb32ab1\",\"type\":\"BoxZoomTool\"},{\"attributes\":{\"callback\":null,\"column_names\":[\"xs\",\"ys\",\"line_color\"],\"data\":{\"line_color\":[\"black\",\"black\",\"black\",\"black\",\"black\",\"black\",\"black\",\"black\",\"black\",\"black\",\"black\",\"black\",\"black\",\"black\",\"black\",\"black\",\"black\",\"black\",\"black\",\"black\",\"black\",\"black\",\"black\",\"black\",\"black\",\"black\",\"black\",\"black\",\"black\",\"black\",\"black\",\"black\",\"black\",\"black\",\"black\",\"black\",\"black\",\"black\",\"black\",\"black\",\"black\",\"black\",\"black\",\"black\",\"black\",\"black\",\"black\",\"black\",\"black\",\"black\",\"black\",\"black\",\"black\",\"black\",\"black\",\"black\",\"black\",\"black\",\"black\",\"black\",\"black\",\"black\",\"black\",\"black\",\"black\",\"black\",\"black\",\"black\",\"black\",\"black\",\"black\",\"black\",\"black\",\"black\",\"black\",\"black\",\"black\",\"black\",\"black\",\"black\",\"black\",\"black\",\"black\",\"black\",\"black\",\"black\",\"black\",\"black\",\"black\",\"black\",\"black\",\"black\",\"black\",\"black\",\"black\",\"black\",\"black\",\"black\",\"black\",\"black\",\"black\",\"black\",\"black\",\"black\",\"black\",\"black\",\"black\",\"black\",\"black\",\"black\",\"black\",\"black\",\"black\",\"black\",\"black\",\"black\",\"black\",\"black\",\"black\",\"black\",\"black\",\"black\",\"black\",\"black\",\"black\",\"black\",\"black\",\"black\",\"black\",\"black\",\"black\",\"black\"],\"xs\":[[135771974,135771974],[135859371,135859371],[135877562,135877562],[136022798,136022798],[136058820,136058820],[136140304,136140304],[135837906,135837906],[135907088,135907088],[135954797,135954797],[136138627,136138627],[136176540,136176540],[136328890,136328890],[136381348,136381348],[136429366,136429366],[136608646,136608646],[136616754,136616754],[136707982,136707982],[135915358,135915358],[135954405,135954405],[135995073,135995073],[135995079,135995079],[136092061,136092061],[136273578,136273578],[136322676,136322676],[136407479,136407479],[136398174,136398174],[136402117,136402117],[136403749,136403749],[136409073,136409073],[136410299,136410299],[136413359,136413359],[136416855,136416855],[136416941,136416941],[136418348,136418348],[136419961,136419961],[136420690,136420690],[136422171,136422171],[136428460,136428460],[136430866,136430866],[136432103,136432103],[136437507,136437507],[136439090,136439090],[136439517,136439517],[136444123,136444123],[136445526,136445526],[136445869,136445869],[136455600,136455600],[136456642,136456642],[136462441,136462441],[136470714,136470714],[136474098,136474098],[136494186,136494186],[136495300,136495300],[136495619,136495619],[136499166,136499166],[136502792,136502792],[136503157,136503157],[136507039,136507039],[136511575,136511575],[136518103,136518103],[136521514,136521514],[136522675,136522675],[136522941,136522941],[136526981,136526981],[136535410,136535410],[136539122,136539122],[136544197,136544197],[136550109,136550109],[136551694,136551694],[136553188,136553188],[136553639,136553639],[136554800,136554800],[136557319,136557319],[136558157,136558157],[136569848,136569848],[136575199,136575199],[136576577,136576577],[136578536,136578536],[136580287,136580287],[136583192,136583192],[136586958,136586958],[136588478,136588478],[136589612,136589612],[136591178,136591178],[136591859,136591859],[136593760,136593760],[136594158,136594158],[136603276,136603276],[136603366,136603366],[136608231,136608231],[136609975,136609975],[136610598,136610598],[136611624,136611624],[136613780,136613780],[136614255,136614255],[136614813,136614813],[136617524,136617524],[136622216,136622216],[136625602,136625602],[136629911,136629911],[136630757,136630757],[136630989,136630989],[136631031,136631031],[136633771,136633771],[136636324,136636324],[136638216,136638216],[136640233,136640233],[136641882,136641882],[136643555,136643555],[136658345,136658345],[136670298,136670298],[136685228,136685228],[136696138,136696138],[136740900,136740900],[136765951,136765951],[136501840,136501840],[136505546,136505546],[136516748,136516748],[136522710,136522710],[136528004,136528004],[136539513,136539513],[136544752,136544752],[136546110,136546110],[136553529,136553529],[136555659,136555659],[136682274,136682274],[136691825,136691825],[136698098,136698098],[136721603,136721603],[136721995,136721995],[136755684,136755684],[136775898,136775898]],\"ys\":[[250,295],[250,295],[250,295],[250,295],[250,295],[250,295],[50,89],[50,89],[50,89],[50,89],[50,89],[50,89],[50,89],[50,89],[50,89],[50,89],[50,89],[350,396],[350,396],[350,396],[350,396],[150,190],[150,190],[150,190],[150,190],[250,294],[250,294],[250,294],[250,294],[250,294],[250,294],[250,294],[250,294],[250,294],[250,294],[250,294],[250,294],[250,294],[250,294],[250,294],[250,294],[250,294],[250,294],[250,294],[250,294],[250,294],[250,294],[250,294],[250,294],[250,294],[250,294],[350,395],[350,395],[350,395],[350,395],[350,395],[350,395],[350,395],[350,395],[350,395],[350,395],[350,395],[350,395],[350,395],[350,395],[350,395],[350,395],[350,395],[350,395],[350,395],[350,395],[350,395],[350,395],[350,395],[350,395],[350,395],[350,395],[350,395],[350,395],[350,395],[350,395],[350,395],[350,395],[350,395],[350,395],[350,395],[350,395],[350,395],[350,395],[350,395],[350,395],[350,395],[350,395],[350,395],[350,395],[350,395],[350,395],[350,395],[350,395],[350,395],[350,395],[350,395],[350,395],[350,395],[350,395],[350,395],[350,395],[350,395],[350,395],[350,395],[350,395],[350,395],[350,395],[350,395],[350,395],[450,498],[450,498],[450,498],[450,498],[450,498],[450,498],[450,498],[450,498],[450,498],[450,498],[450,497],[450,497],[450,497],[450,497],[450,497],[450,497],[450,497]]}},\"id\":\"9326406e-3177-486b-865e-efdf3edf1557\",\"type\":\"ColumnDataSource\"},{\"attributes\":{\"callback\":null,\"column_names\":[\"right\",\"bottom\",\"top\",\"left\",\"fill_color\"],\"data\":{\"bottom\":[250,50,350,150,250,350,450,450],\"fill_color\":[\"#61c461\",\"#00ff00\",\"#61c461\",\"#00ff00\",\"#61c461\",\"#61c461\",\"#808080\",\"#61c461\"],\"left\":[135771974,135837906,135915358,136092061,136398174,136494186,136501840,136682274],\"right\":[136140304,136707982,135995079,136407479,136474098,136765951,136555659,136775898],\"top\":[295,89,396,190,294,395,498,497]}},\"id\":\"d68a193d-a8fb-412d-a7fe-583f18261b67\",\"type\":\"ColumnDataSource\"},{\"attributes\":{\"line_color\":{\"field\":\"line_color\"},\"xs\":{\"field\":\"xs\"},\"ys\":{\"field\":\"ys\"}},\"id\":\"69647a56-72b1-4781-b093-a77682cd384f\",\"type\":\"MultiLine\"}],\"root_ids\":[\"5a342694-6745-4aec-bab4-9a2d29c98a7e\"]},\"title\":\"Bokeh Application\",\"version\":\"0.12.0\"}};\n",
       "            var render_items = [{\"docid\":\"ed1f51f4-5d51-4d21-8ec0-3a02c98ec84e\",\"elementid\":\"d0b7f665-bd53-4a63-b185-d9dfa1c6483e\",\"modelid\":\"5a342694-6745-4aec-bab4-9a2d29c98a7e\",\"notebook_comms_target\":\"66dc92f3-24cd-4ceb-8182-cc5a0266e771\"}];\n",
       "            \n",
       "            Bokeh.embed.embed_items(docs_json, render_items);\n",
       "        });\n",
       "      },\n",
       "      function(Bokeh) {\n",
       "      }\n",
       "    ];\n",
       "  \n",
       "    function run_inline_js() {\n",
       "      for (var i = 0; i < inline_js.length; i++) {\n",
       "        inline_js[i](window.Bokeh);\n",
       "      }\n",
       "    }\n",
       "  \n",
       "    if (window._bokeh_is_loading === 0) {\n",
       "      console.log(\"Bokeh: BokehJS loaded, going straight to plotting\");\n",
       "      run_inline_js();\n",
       "    } else {\n",
       "      load_libs(js_urls, function() {\n",
       "        console.log(\"Bokeh: BokehJS plotting callback run at\", now());\n",
       "        run_inline_js();\n",
       "      });\n",
       "    }\n",
       "  }(this));\n",
       "</script>"
      ]
     },
     "metadata": {},
     "output_type": "display_data"
    },
    {
     "data": {
      "text/html": [
       "<p><code>&lt;Bokeh Notebook handle for <strong>In[4]</strong>&gt;</code></p>"
      ],
      "text/plain": [
       "<bokeh.io._CommsHandle at 0x7f4394068f10>"
      ]
     },
     "execution_count": 4,
     "metadata": {},
     "output_type": "execute_result"
    }
   ],
   "source": [
    "plt_obj = dm.superset_yes_no([dm.di_26_1414], min_match=0.5)\n",
    "plt = plt_obj.do_plot()\n",
    "show(plt)"
   ]
  },
  {
   "cell_type": "code",
   "execution_count": 5,
   "metadata": {
    "collapsed": false
   },
   "outputs": [
    {
     "data": {
      "text/html": [
       "<table>\n",
       "<thead><tr><th style=\"text-align:center\">index</th><th style=\"text-align:center\">first</th><th style=\"text-align:center\">length</th><th style=\"text-align:center\">snps</th><th style=\"text-align:center\" colspan=2>alleles</th><th style=\"text-align:center\" colspan=2>matches</th><th style=\"text-align:center\" colspan=2>afr</th><th style=\"text-align:center\" colspan=2>afx</th><th style=\"text-align:center\" colspan=2>amr</th><th style=\"text-align:center\" colspan=2>eas</th><th style=\"text-align:center\" colspan=2>eur</th><th style=\"text-align:center\" colspan=2>sas</th><th style=\"text-align:center\" colspan=2>sax</th></tr></thead>\n",
       "<tr class=\"even\"><td style=\"text-align: right;\">353921</td><td style=\"text-align: right;\">136,501,840</td><td style=\"text-align: right;\">53,819</td><td style=\"text-align: right;\">10</td><td style=\"text-align: right;\">2206</td><td style=\"text-align: right;\">0.63</td><td style=\"text-align: right;\">1391</td><td style=\"text-align: right;\">0.98</td><td style=\"text-align: right;\">89</td><td style=\"text-align: right;\">0.32</td><td style=\"text-align: right;\">60</td><td style=\"text-align: right;\">0.69</td><td style=\"text-align: right;\">283</td><td style=\"text-align: right;\">1.47</td><td style=\"text-align: right;\">126</td><td style=\"text-align: right;\">0.45</td><td style=\"text-align: right;\">604</td><td style=\"text-align: right;\">2.16</td><td style=\"text-align: right;\">108</td><td style=\"text-align: right;\">1.07</td><td style=\"text-align: right;\">121</td><td style=\"text-align: right;\">0.71</td></tr>\n",
       "<tr><td style=\"text-align: right;\">354170</td><td style=\"text-align: right;\">136,682,274</td><td style=\"text-align: right;\">93,624</td><td style=\"text-align: right;\">7</td><td style=\"text-align: right;\">1868</td><td style=\"text-align: right;\">0.63</td><td style=\"text-align: right;\">1175</td><td style=\"text-align: right;\">0.83</td><td style=\"text-align: right;\">50</td><td style=\"text-align: right;\">0.21</td><td style=\"text-align: right;\">46</td><td style=\"text-align: right;\">0.62</td><td style=\"text-align: right;\">228</td><td style=\"text-align: right;\">1.40</td><td style=\"text-align: right;\">92</td><td style=\"text-align: right;\">0.39</td><td style=\"text-align: right;\">570</td><td style=\"text-align: right;\">2.41</td><td style=\"text-align: right;\">91</td><td style=\"text-align: right;\">1.07</td><td style=\"text-align: right;\">98</td><td style=\"text-align: right;\">0.68</td></tr>\n",
       "<tr class=\"even\"><td style=\"text-align: right;\">353462</td><td style=\"text-align: right;\">135,915,358</td><td style=\"text-align: right;\">79,721</td><td style=\"text-align: right;\">4</td><td style=\"text-align: right;\">1699</td><td style=\"text-align: right;\">0.77</td><td style=\"text-align: right;\">1307</td><td style=\"text-align: right;\">0.92</td><td style=\"text-align: right;\">37</td><td style=\"text-align: right;\">0.14</td><td style=\"text-align: right;\">43</td><td style=\"text-align: right;\">0.52</td><td style=\"text-align: right;\">281</td><td style=\"text-align: right;\">1.55</td><td style=\"text-align: right;\">116</td><td style=\"text-align: right;\">0.44</td><td style=\"text-align: right;\">602</td><td style=\"text-align: right;\">2.29</td><td style=\"text-align: right;\">108</td><td style=\"text-align: right;\">1.14</td><td style=\"text-align: right;\">120</td><td style=\"text-align: right;\">0.75</td></tr>\n",
       "<tr><td style=\"text-align: right;\">353901</td><td style=\"text-align: right;\">136,494,186</td><td style=\"text-align: right;\">271,765</td><td style=\"text-align: right;\">64</td><td style=\"text-align: right;\">1575</td><td style=\"text-align: right;\">0.75</td><td style=\"text-align: right;\">1187</td><td style=\"text-align: right;\">0.84</td><td style=\"text-align: right;\">48</td><td style=\"text-align: right;\">0.20</td><td style=\"text-align: right;\">48</td><td style=\"text-align: right;\">0.64</td><td style=\"text-align: right;\">232</td><td style=\"text-align: right;\">1.41</td><td style=\"text-align: right;\">98</td><td style=\"text-align: right;\">0.41</td><td style=\"text-align: right;\">572</td><td style=\"text-align: right;\">2.40</td><td style=\"text-align: right;\">89</td><td style=\"text-align: right;\">1.03</td><td style=\"text-align: right;\">100</td><td style=\"text-align: right;\">0.69</td></tr>\n",
       "<tr class=\"even\"><td style=\"text-align: right;\">353283</td><td style=\"text-align: right;\">135,771,974</td><td style=\"text-align: right;\">368,330</td><td style=\"text-align: right;\">6</td><td style=\"text-align: right;\">1503</td><td style=\"text-align: right;\">0.84</td><td style=\"text-align: right;\">1270</td><td style=\"text-align: right;\">0.90</td><td style=\"text-align: right;\">13</td><td style=\"text-align: right;\">0.05</td><td style=\"text-align: right;\">37</td><td style=\"text-align: right;\">0.46</td><td style=\"text-align: right;\">276</td><td style=\"text-align: right;\">1.57</td><td style=\"text-align: right;\">115</td><td style=\"text-align: right;\">0.45</td><td style=\"text-align: right;\">602</td><td style=\"text-align: right;\">2.36</td><td style=\"text-align: right;\">107</td><td style=\"text-align: right;\">1.16</td><td style=\"text-align: right;\">120</td><td style=\"text-align: right;\">0.77</td></tr>\n",
       "<tr><td style=\"text-align: right;\">353797</td><td style=\"text-align: right;\">136,398,174</td><td style=\"text-align: right;\">75,924</td><td style=\"text-align: right;\">26</td><td style=\"text-align: right;\">1414</td><td style=\"text-align: right;\">1.00</td><td style=\"text-align: right;\">1414</td><td style=\"text-align: right;\">1.00</td><td style=\"text-align: right;\">93</td><td style=\"text-align: right;\">0.33</td><td style=\"text-align: right;\">60</td><td style=\"text-align: right;\">0.68</td><td style=\"text-align: right;\">288</td><td style=\"text-align: right;\">1.47</td><td style=\"text-align: right;\">128</td><td style=\"text-align: right;\">0.45</td><td style=\"text-align: right;\">608</td><td style=\"text-align: right;\">2.14</td><td style=\"text-align: right;\">111</td><td style=\"text-align: right;\">1.08</td><td style=\"text-align: right;\">126</td><td style=\"text-align: right;\">0.73</td></tr>\n",
       "<tr class=\"even\"><td style=\"text-align: right;\">353604</td><td style=\"text-align: right;\">136,092,061</td><td style=\"text-align: right;\">315,418</td><td style=\"text-align: right;\">4</td><td style=\"text-align: right;\">911</td><td style=\"text-align: right;\">1.00</td><td style=\"text-align: right;\">911</td><td style=\"text-align: right;\">0.64</td><td style=\"text-align: right;\">2</td><td style=\"text-align: right;\">0.01</td><td style=\"text-align: right;\">31</td><td style=\"text-align: right;\">0.54</td><td style=\"text-align: right;\">205</td><td style=\"text-align: right;\">1.62</td><td style=\"text-align: right;\">0</td><td style=\"text-align: right;\">0.00</td><td style=\"text-align: right;\">524</td><td style=\"text-align: right;\">2.86</td><td style=\"text-align: right;\">71</td><td style=\"text-align: right;\">1.07</td><td style=\"text-align: right;\">78</td><td style=\"text-align: right;\">0.70</td></tr>\n",
       "<tr><td style=\"text-align: right;\">353380</td><td style=\"text-align: right;\">135,837,906</td><td style=\"text-align: right;\">870,076</td><td style=\"text-align: right;\">11</td><td style=\"text-align: right;\">765</td><td style=\"text-align: right;\">1.00</td><td style=\"text-align: right;\">765</td><td style=\"text-align: right;\">0.54</td><td style=\"text-align: right;\">2</td><td style=\"text-align: right;\">0.01</td><td style=\"text-align: right;\">32</td><td style=\"text-align: right;\">0.67</td><td style=\"text-align: right;\">146</td><td style=\"text-align: right;\">1.38</td><td style=\"text-align: right;\">0</td><td style=\"text-align: right;\">0.00</td><td style=\"text-align: right;\">484</td><td style=\"text-align: right;\">3.15</td><td style=\"text-align: right;\">56</td><td style=\"text-align: right;\">1.01</td><td style=\"text-align: right;\">45</td><td style=\"text-align: right;\">0.48</td></tr>\n",
       "</table>"
      ],
      "text/plain": [
       "<IPython.core.display.HTML object>"
      ]
     },
     "execution_count": 5,
     "metadata": {},
     "output_type": "execute_result"
    }
   ],
   "source": [
    "HTML(plt_obj.get_html())"
   ]
  },
  {
   "cell_type": "markdown",
   "metadata": {},
   "source": [
    "<div style=\"width:700px\">\n",
    "<p>\n",
    "This plot shows the most common series for chromosomes that express 26_1414, 4_1699, but not\n",
    "6_1503.  Most of the plotted associations appear to have resulted from selection by the series\n",
    "12_32.  The 39 samples in the plot include 30 of the 32 that express 12_32.\n",
    "</div>"
   ]
  },
  {
   "cell_type": "code",
   "execution_count": 6,
   "metadata": {
    "collapsed": false
   },
   "outputs": [
    {
     "data": {
      "text/html": [
       "\n",
       "\n",
       "    <div class=\"bk-root\">\n",
       "        <div class=\"plotdiv\" id=\"17dad0c1-2c20-4843-96c7-f2b55b5ee9b1\"></div>\n",
       "    </div>\n",
       "<script type=\"text/javascript\">\n",
       "  \n",
       "  (function(global) {\n",
       "    function now() {\n",
       "      return new Date();\n",
       "    }\n",
       "  \n",
       "    if (typeof (window._bokeh_onload_callbacks) === \"undefined\") {\n",
       "      window._bokeh_onload_callbacks = [];\n",
       "    }\n",
       "  \n",
       "    function run_callbacks() {\n",
       "      window._bokeh_onload_callbacks.forEach(function(callback) { callback() });\n",
       "      delete window._bokeh_onload_callbacks\n",
       "      console.info(\"Bokeh: all callbacks have finished\");\n",
       "    }\n",
       "  \n",
       "    function load_libs(js_urls, callback) {\n",
       "      window._bokeh_onload_callbacks.push(callback);\n",
       "      if (window._bokeh_is_loading > 0) {\n",
       "        console.log(\"Bokeh: BokehJS is being loaded, scheduling callback at\", now());\n",
       "        return null;\n",
       "      }\n",
       "      if (js_urls == null || js_urls.length === 0) {\n",
       "        run_callbacks();\n",
       "        return null;\n",
       "      }\n",
       "      console.log(\"Bokeh: BokehJS not loaded, scheduling load and callback at\", now());\n",
       "      window._bokeh_is_loading = js_urls.length;\n",
       "      for (var i = 0; i < js_urls.length; i++) {\n",
       "        var url = js_urls[i];\n",
       "        var s = document.createElement('script');\n",
       "        s.src = url;\n",
       "        s.async = false;\n",
       "        s.onreadystatechange = s.onload = function() {\n",
       "          window._bokeh_is_loading--;\n",
       "          if (window._bokeh_is_loading === 0) {\n",
       "            console.log(\"Bokeh: all BokehJS libraries loaded\");\n",
       "            run_callbacks()\n",
       "          }\n",
       "        };\n",
       "        s.onerror = function() {\n",
       "          console.warn(\"failed to load library \" + url);\n",
       "        };\n",
       "        console.log(\"Bokeh: injecting script tag for BokehJS library: \", url);\n",
       "        document.getElementsByTagName(\"head\")[0].appendChild(s);\n",
       "      }\n",
       "    };var element = document.getElementById(\"17dad0c1-2c20-4843-96c7-f2b55b5ee9b1\");\n",
       "    if (element == null) {\n",
       "      console.log(\"Bokeh: ERROR: autoload.js configured with elementid '17dad0c1-2c20-4843-96c7-f2b55b5ee9b1' but no matching script tag was found. \")\n",
       "      return false;\n",
       "    }\n",
       "  \n",
       "    var js_urls = [];\n",
       "  \n",
       "    var inline_js = [\n",
       "      function(Bokeh) {\n",
       "        Bokeh.$(function() {\n",
       "            var docs_json = {\"43ed9c53-6cd4-471e-9ca4-c48ba983a596\":{\"roots\":{\"references\":[{\"attributes\":{},\"id\":\"e57f25df-6e7c-4a1f-a1f0-abd0a36e8ffc\",\"type\":\"BasicTickFormatter\"},{\"attributes\":{},\"id\":\"764a193d-9731-4888-9309-da68a775165e\",\"type\":\"ToolEvents\"},{\"attributes\":{\"callback\":null,\"column_names\":[\"xs\",\"ys\",\"line_color\"],\"data\":{\"line_color\":[\"black\",\"black\",\"black\",\"black\",\"black\",\"black\",\"black\",\"black\",\"black\",\"black\",\"black\",\"black\",\"black\",\"black\",\"black\",\"black\",\"black\",\"black\",\"black\",\"black\",\"black\",\"black\",\"black\",\"black\",\"black\",\"black\",\"black\",\"black\",\"black\",\"black\",\"black\",\"black\",\"black\",\"black\",\"black\",\"black\",\"black\",\"black\",\"black\",\"black\",\"black\",\"black\",\"black\",\"black\",\"black\",\"black\",\"black\",\"black\",\"black\",\"black\",\"black\",\"black\",\"black\",\"black\",\"black\",\"black\",\"black\",\"black\",\"black\",\"black\",\"black\",\"black\",\"black\",\"black\",\"black\",\"black\",\"black\",\"black\",\"black\",\"black\",\"black\",\"black\",\"black\",\"black\",\"black\",\"black\",\"black\",\"black\",\"black\",\"black\",\"black\",\"black\",\"black\",\"black\",\"black\",\"black\",\"black\",\"black\",\"black\",\"black\",\"black\",\"black\",\"black\",\"black\",\"black\",\"black\",\"black\",\"black\",\"black\",\"black\",\"black\",\"black\",\"black\",\"black\",\"black\",\"black\",\"black\",\"black\",\"black\",\"black\",\"black\",\"black\",\"black\",\"black\",\"black\",\"black\",\"black\",\"black\",\"black\",\"black\",\"black\",\"black\",\"black\",\"black\",\"black\",\"black\",\"black\",\"black\",\"black\",\"black\"],\"xs\":[[135759628,135759628],[135822319,135822319],[135846209,135846209],[135959550,135959550],[136147148,136147148],[136187567,136187567],[136191148,136191148],[136227526,136227526],[136248973,136248973],[136328222,136328222],[136337566,136337566],[136443550,136443550],[135915358,135915358],[135954405,135954405],[135995073,135995073],[135995079,135995079],[136398174,136398174],[136402117,136402117],[136403749,136403749],[136409073,136409073],[136410299,136410299],[136413359,136413359],[136416855,136416855],[136416941,136416941],[136418348,136418348],[136419961,136419961],[136420690,136420690],[136422171,136422171],[136428460,136428460],[136430866,136430866],[136432103,136432103],[136437507,136437507],[136439090,136439090],[136439517,136439517],[136444123,136444123],[136445526,136445526],[136445869,136445869],[136455600,136455600],[136456642,136456642],[136462441,136462441],[136470714,136470714],[136474098,136474098],[136494186,136494186],[136495300,136495300],[136495619,136495619],[136499166,136499166],[136502792,136502792],[136503157,136503157],[136507039,136507039],[136511575,136511575],[136518103,136518103],[136521514,136521514],[136522675,136522675],[136522941,136522941],[136526981,136526981],[136535410,136535410],[136539122,136539122],[136544197,136544197],[136550109,136550109],[136551694,136551694],[136553188,136553188],[136553639,136553639],[136554800,136554800],[136557319,136557319],[136558157,136558157],[136569848,136569848],[136575199,136575199],[136576577,136576577],[136578536,136578536],[136580287,136580287],[136583192,136583192],[136586958,136586958],[136588478,136588478],[136589612,136589612],[136591178,136591178],[136591859,136591859],[136593760,136593760],[136594158,136594158],[136603276,136603276],[136603366,136603366],[136608231,136608231],[136609975,136609975],[136610598,136610598],[136611624,136611624],[136613780,136613780],[136614255,136614255],[136614813,136614813],[136617524,136617524],[136622216,136622216],[136625602,136625602],[136629911,136629911],[136630757,136630757],[136630989,136630989],[136631031,136631031],[136633771,136633771],[136636324,136636324],[136638216,136638216],[136640233,136640233],[136641882,136641882],[136643555,136643555],[136658345,136658345],[136670298,136670298],[136685228,136685228],[136696138,136696138],[136740900,136740900],[136765951,136765951],[136501840,136501840],[136505546,136505546],[136516748,136516748],[136522710,136522710],[136528004,136528004],[136539513,136539513],[136544752,136544752],[136546110,136546110],[136553529,136553529],[136555659,136555659],[136608339,136608339],[136637201,136637201],[136645466,136645466],[136657649,136657649],[136669367,136669367],[136671087,136671087],[136738273,136738273],[136682274,136682274],[136691825,136691825],[136698098,136698098],[136721603,136721603],[136721995,136721995],[136755684,136755684],[136775898,136775898]],\"ys\":[[50,62],[50,62],[50,62],[50,62],[50,62],[50,62],[50,62],[50,62],[50,62],[50,62],[50,62],[50,62],[150,196],[150,196],[150,196],[150,196],[150,194],[150,194],[150,194],[150,194],[150,194],[150,194],[150,194],[150,194],[150,194],[150,194],[150,194],[150,194],[150,194],[150,194],[150,194],[150,194],[150,194],[150,194],[150,194],[150,194],[150,194],[150,194],[150,194],[150,194],[150,194],[150,194],[150,195],[150,195],[150,195],[150,195],[150,195],[150,195],[150,195],[150,195],[150,195],[150,195],[150,195],[150,195],[150,195],[150,195],[150,195],[150,195],[150,195],[150,195],[150,195],[150,195],[150,195],[150,195],[150,195],[150,195],[150,195],[150,195],[150,195],[150,195],[150,195],[150,195],[150,195],[150,195],[150,195],[150,195],[150,195],[150,195],[150,195],[150,195],[150,195],[150,195],[150,195],[150,195],[150,195],[150,195],[150,195],[150,195],[150,195],[150,195],[150,195],[150,195],[150,195],[150,195],[150,195],[150,195],[150,195],[150,195],[150,195],[150,195],[150,195],[150,195],[150,195],[150,195],[150,195],[150,195],[250,298],[250,298],[250,298],[250,298],[250,298],[250,298],[250,298],[250,298],[250,298],[250,298],[50,61],[50,61],[50,61],[50,61],[50,61],[50,61],[50,61],[250,297],[250,297],[250,297],[250,297],[250,297],[250,297],[250,297]]}},\"id\":\"faff5592-fbd8-449d-a088-a078783e3b5b\",\"type\":\"ColumnDataSource\"},{\"attributes\":{\"plot\":{\"id\":\"690c6808-4d5d-4b1e-bde5-ed00ab7f3ff3\",\"subtype\":\"Figure\",\"type\":\"Plot\"}},\"id\":\"5db3b3cc-d3b0-47c9-9219-f5549104b93c\",\"type\":\"HelpTool\"},{\"attributes\":{\"bottom_units\":\"screen\",\"fill_alpha\":{\"value\":0.5},\"fill_color\":{\"value\":\"lightgrey\"},\"left_units\":\"screen\",\"level\":\"overlay\",\"line_alpha\":{\"value\":1.0},\"line_color\":{\"value\":\"black\"},\"line_dash\":[4,4],\"line_width\":{\"value\":2},\"plot\":null,\"render_mode\":\"css\",\"right_units\":\"screen\",\"top_units\":\"screen\"},\"id\":\"cfeef1b0-807e-4b13-bad5-125a508f0ea8\",\"type\":\"BoxAnnotation\"},{\"attributes\":{},\"id\":\"c41f125e-0de6-472b-8604-d0126d2b91cd\",\"type\":\"BasicTickFormatter\"},{\"attributes\":{\"data_source\":{\"id\":\"faff5592-fbd8-449d-a088-a078783e3b5b\",\"type\":\"ColumnDataSource\"},\"glyph\":{\"id\":\"9b0ea41e-55ff-4089-a6a8-1dad63e62a20\",\"type\":\"MultiLine\"},\"hover_glyph\":null,\"nonselection_glyph\":{\"id\":\"c553d1c2-f5c5-4850-95ae-494478c85f9f\",\"type\":\"MultiLine\"},\"selection_glyph\":null},\"id\":\"7716b72b-fc6c-4660-be3c-5d3c9f223233\",\"type\":\"GlyphRenderer\"},{\"attributes\":{\"callback\":null,\"column_names\":[\"right\",\"bottom\",\"top\",\"left\"],\"data\":{\"bottom\":[345,345,345,345,345,345,345],\"left\":[135809835,135957574,136289083,136499189,136545415,136597196,136664254],\"right\":[135928279,136288182,136482839,136542633,136594750,136634047,136743222],\"top\":[375,375,375,375,375,375,375]}},\"id\":\"b0b78c8d-6be4-4e00-9951-07e621127124\",\"type\":\"ColumnDataSource\"},{\"attributes\":{\"overlay\":{\"id\":\"cfeef1b0-807e-4b13-bad5-125a508f0ea8\",\"type\":\"BoxAnnotation\"},\"plot\":{\"id\":\"690c6808-4d5d-4b1e-bde5-ed00ab7f3ff3\",\"subtype\":\"Figure\",\"type\":\"Plot\"}},\"id\":\"fcc07e04-dd2f-49e4-943b-dd4c01f96c0a\",\"type\":\"BoxZoomTool\"},{\"attributes\":{\"plot\":null,\"text\":null},\"id\":\"6c82a114-0fe0-4766-b783-cce9090959d4\",\"type\":\"Title\"},{\"attributes\":{\"dimension\":1,\"plot\":{\"id\":\"690c6808-4d5d-4b1e-bde5-ed00ab7f3ff3\",\"subtype\":\"Figure\",\"type\":\"Plot\"},\"ticker\":{\"id\":\"cc66ed03-1046-48ca-8a45-5cb4766b106b\",\"type\":\"BasicTicker\"}},\"id\":\"d2b68989-8bd4-4f83-bddb-fff44d762eb6\",\"type\":\"Grid\"},{\"attributes\":{\"active_drag\":\"auto\",\"active_scroll\":\"auto\",\"active_tap\":\"auto\",\"tools\":[{\"id\":\"b4cf0382-80eb-4b95-99fd-9e80b1161412\",\"type\":\"PanTool\"},{\"id\":\"30ac52e8-bff3-4860-b844-8244f52eb1ca\",\"type\":\"WheelZoomTool\"},{\"id\":\"fcc07e04-dd2f-49e4-943b-dd4c01f96c0a\",\"type\":\"BoxZoomTool\"},{\"id\":\"bf89235d-c16e-4973-83dd-bd0f746e0dc8\",\"type\":\"SaveTool\"},{\"id\":\"27b78610-dcde-45f1-98b5-068b3bf2502d\",\"type\":\"ResetTool\"},{\"id\":\"5db3b3cc-d3b0-47c9-9219-f5549104b93c\",\"type\":\"HelpTool\"}]},\"id\":\"8ba940b8-0dfe-4ec3-b194-c182a3a4cc5e\",\"type\":\"Toolbar\"},{\"attributes\":{\"callback\":null,\"column_names\":[\"y\",\"x\",\"vals\"],\"data\":{\"vals\":[\"RAB3GAP1\",\"ZRANB3\",\"R3HDM1\",\"UBXN4\",\"LCT\",\"MCM6\",\"DARS\"],\"x\":[135869057.0,136122878.0,136385961.0,136520911.0,136570082.5,136615621.5,136703738.0],\"y\":[360.0,360.0,360.0,360.0,360.0,360.0,360.0]}},\"id\":\"490e512e-4b3f-4941-8414-3b56be60e9fc\",\"type\":\"ColumnDataSource\"},{\"attributes\":{\"data_source\":{\"id\":\"a4f78108-22b2-4409-a567-a29422c4ac2c\",\"type\":\"ColumnDataSource\"},\"glyph\":{\"id\":\"ad813f8b-9100-41f6-aa12-ca25453ef6c4\",\"type\":\"Quad\"},\"hover_glyph\":null,\"nonselection_glyph\":{\"id\":\"3cb4d97c-572d-4d19-b037-4f75e807cb71\",\"type\":\"Quad\"},\"selection_glyph\":null},\"id\":\"cd0ad572-495b-4f0a-be03-01c9d4cfc829\",\"type\":\"GlyphRenderer\"},{\"attributes\":{\"bottom\":{\"field\":\"bottom\"},\"fill_alpha\":{\"value\":0.1},\"fill_color\":{\"value\":\"#1f77b4\"},\"left\":{\"field\":\"left\"},\"line_alpha\":{\"value\":0.1},\"line_color\":{\"value\":\"#1f77b4\"},\"right\":{\"field\":\"right\"},\"top\":{\"field\":\"top\"}},\"id\":\"3cb4d97c-572d-4d19-b037-4f75e807cb71\",\"type\":\"Quad\"},{\"attributes\":{\"data_source\":{\"id\":\"b0b78c8d-6be4-4e00-9951-07e621127124\",\"type\":\"ColumnDataSource\"},\"glyph\":{\"id\":\"658aed75-e34c-4804-933d-17cb3d19586f\",\"type\":\"Quad\"},\"hover_glyph\":null,\"nonselection_glyph\":{\"id\":\"b9c9264b-5c18-446e-a149-f113871a5988\",\"type\":\"Quad\"},\"selection_glyph\":null},\"id\":\"d6f0343c-6dd6-482e-89aa-ca7ce293618c\",\"type\":\"GlyphRenderer\"},{\"attributes\":{\"below\":[{\"id\":\"0a7802b3-3b60-4297-8f77-3bf376172f69\",\"type\":\"LinearAxis\"}],\"left\":[{\"id\":\"da12d66a-c299-45f3-9056-b9d8d6f802fe\",\"type\":\"LinearAxis\"}],\"plot_height\":400,\"plot_width\":900,\"renderers\":[{\"id\":\"0a7802b3-3b60-4297-8f77-3bf376172f69\",\"type\":\"LinearAxis\"},{\"id\":\"089e19a1-835f-4574-8fe4-012c2aa1f9a9\",\"type\":\"Grid\"},{\"id\":\"da12d66a-c299-45f3-9056-b9d8d6f802fe\",\"type\":\"LinearAxis\"},{\"id\":\"d2b68989-8bd4-4f83-bddb-fff44d762eb6\",\"type\":\"Grid\"},{\"id\":\"cfeef1b0-807e-4b13-bad5-125a508f0ea8\",\"type\":\"BoxAnnotation\"},{\"id\":\"cd0ad572-495b-4f0a-be03-01c9d4cfc829\",\"type\":\"GlyphRenderer\"},{\"id\":\"7716b72b-fc6c-4660-be3c-5d3c9f223233\",\"type\":\"GlyphRenderer\"},{\"id\":\"4f060296-52e6-47da-b49a-6801737d8f95\",\"type\":\"LabelSet\"},{\"id\":\"d6f0343c-6dd6-482e-89aa-ca7ce293618c\",\"type\":\"GlyphRenderer\"},{\"id\":\"d3b92abf-ae90-4c6a-897f-99383ca5785c\",\"type\":\"LabelSet\"}],\"title\":{\"id\":\"6c82a114-0fe0-4766-b783-cce9090959d4\",\"type\":\"Title\"},\"tool_events\":{\"id\":\"764a193d-9731-4888-9309-da68a775165e\",\"type\":\"ToolEvents\"},\"toolbar\":{\"id\":\"8ba940b8-0dfe-4ec3-b194-c182a3a4cc5e\",\"type\":\"Toolbar\"},\"toolbar_location\":null,\"x_range\":{\"id\":\"2396df64-aa51-47c6-a0bd-0258cae88fc8\",\"type\":\"Range1d\"},\"y_range\":{\"id\":\"5147c43a-b81d-4c56-b734-25dbd1c9b9b9\",\"type\":\"Range1d\"}},\"id\":\"690c6808-4d5d-4b1e-bde5-ed00ab7f3ff3\",\"subtype\":\"Figure\",\"type\":\"Plot\"},{\"attributes\":{\"plot\":{\"id\":\"690c6808-4d5d-4b1e-bde5-ed00ab7f3ff3\",\"subtype\":\"Figure\",\"type\":\"Plot\"}},\"id\":\"30ac52e8-bff3-4860-b844-8244f52eb1ca\",\"type\":\"WheelZoomTool\"},{\"attributes\":{\"callback\":null,\"end\":400},\"id\":\"5147c43a-b81d-4c56-b734-25dbd1c9b9b9\",\"type\":\"Range1d\"},{\"attributes\":{\"bottom\":{\"field\":\"bottom\"},\"fill_color\":{\"value\":\"white\"},\"left\":{\"field\":\"left\"},\"right\":{\"field\":\"right\"},\"top\":{\"field\":\"top\"}},\"id\":\"658aed75-e34c-4804-933d-17cb3d19586f\",\"type\":\"Quad\"},{\"attributes\":{},\"id\":\"cc66ed03-1046-48ca-8a45-5cb4766b106b\",\"type\":\"BasicTicker\"},{\"attributes\":{\"plot\":{\"id\":\"690c6808-4d5d-4b1e-bde5-ed00ab7f3ff3\",\"subtype\":\"Figure\",\"type\":\"Plot\"}},\"id\":\"27b78610-dcde-45f1-98b5-068b3bf2502d\",\"type\":\"ResetTool\"},{\"attributes\":{\"level\":\"glyph\",\"plot\":{\"id\":\"690c6808-4d5d-4b1e-bde5-ed00ab7f3ff3\",\"subtype\":\"Figure\",\"type\":\"Plot\"},\"source\":{\"id\":\"5ef1dbd9-e912-4172-a419-12ad9414d0c8\",\"type\":\"ColumnDataSource\"},\"text\":{\"field\":\"vals\"},\"text_font_size\":{\"value\":\"9pt\"},\"text_font_style\":\"bold\",\"x\":{\"field\":\"x\"},\"y\":{\"field\":\"y\"}},\"id\":\"4f060296-52e6-47da-b49a-6801737d8f95\",\"type\":\"LabelSet\"},{\"attributes\":{},\"id\":\"73792c88-2783-4df1-8a33-ff288b13e703\",\"type\":\"BasicTicker\"},{\"attributes\":{\"callback\":null,\"column_names\":[\"y\",\"x\",\"vals\"],\"data\":{\"vals\":[\"12_32\",\"4_1699\",\"26_1414\",\"64_1575\",\"10_2206\",\"7_31\",\"7_1868\"],\"x\":[135759628,135915358,136398174,136494186,136501840,136608339,136682274],\"y\":[67.0,201.0,199.0,200.0,303.0,66.0,302.0]}},\"id\":\"5ef1dbd9-e912-4172-a419-12ad9414d0c8\",\"type\":\"ColumnDataSource\"},{\"attributes\":{\"plot\":{\"id\":\"690c6808-4d5d-4b1e-bde5-ed00ab7f3ff3\",\"subtype\":\"Figure\",\"type\":\"Plot\"}},\"id\":\"bf89235d-c16e-4973-83dd-bd0f746e0dc8\",\"type\":\"SaveTool\"},{\"attributes\":{\"callback\":null,\"column_names\":[\"right\",\"bottom\",\"top\",\"left\",\"fill_color\"],\"data\":{\"bottom\":[50,150,150,150,250,50,250],\"fill_color\":[\"#ff0000\",\"#61c461\",\"#61c461\",\"#61c461\",\"#808080\",\"#ff0000\",\"#61c461\"],\"left\":[135759628,135915358,136398174,136494186,136501840,136608339,136682274],\"right\":[136443550,135995079,136474098,136765951,136555659,136738273,136775898],\"top\":[62,196,194,195,298,61,297]}},\"id\":\"a4f78108-22b2-4409-a567-a29422c4ac2c\",\"type\":\"ColumnDataSource\"},{\"attributes\":{\"formatter\":{\"id\":\"c41f125e-0de6-472b-8604-d0126d2b91cd\",\"type\":\"BasicTickFormatter\"},\"plot\":{\"id\":\"690c6808-4d5d-4b1e-bde5-ed00ab7f3ff3\",\"subtype\":\"Figure\",\"type\":\"Plot\"},\"ticker\":{\"id\":\"73792c88-2783-4df1-8a33-ff288b13e703\",\"type\":\"BasicTicker\"}},\"id\":\"0a7802b3-3b60-4297-8f77-3bf376172f69\",\"type\":\"LinearAxis\"},{\"attributes\":{\"formatter\":{\"id\":\"e57f25df-6e7c-4a1f-a1f0-abd0a36e8ffc\",\"type\":\"BasicTickFormatter\"},\"plot\":{\"id\":\"690c6808-4d5d-4b1e-bde5-ed00ab7f3ff3\",\"subtype\":\"Figure\",\"type\":\"Plot\"},\"ticker\":{\"id\":\"cc66ed03-1046-48ca-8a45-5cb4766b106b\",\"type\":\"BasicTicker\"},\"visible\":null},\"id\":\"da12d66a-c299-45f3-9056-b9d8d6f802fe\",\"type\":\"LinearAxis\"},{\"attributes\":{\"line_color\":{\"field\":\"line_color\"},\"xs\":{\"field\":\"xs\"},\"ys\":{\"field\":\"ys\"}},\"id\":\"9b0ea41e-55ff-4089-a6a8-1dad63e62a20\",\"type\":\"MultiLine\"},{\"attributes\":{\"line_alpha\":{\"value\":0.1},\"line_color\":{\"value\":\"#1f77b4\"},\"xs\":{\"field\":\"xs\"},\"ys\":{\"field\":\"ys\"}},\"id\":\"c553d1c2-f5c5-4850-95ae-494478c85f9f\",\"type\":\"MultiLine\"},{\"attributes\":{\"callback\":null,\"end\":136786630,\"start\":135757320},\"id\":\"2396df64-aa51-47c6-a0bd-0258cae88fc8\",\"type\":\"Range1d\"},{\"attributes\":{\"plot\":{\"id\":\"690c6808-4d5d-4b1e-bde5-ed00ab7f3ff3\",\"subtype\":\"Figure\",\"type\":\"Plot\"},\"ticker\":{\"id\":\"73792c88-2783-4df1-8a33-ff288b13e703\",\"type\":\"BasicTicker\"}},\"id\":\"089e19a1-835f-4574-8fe4-012c2aa1f9a9\",\"type\":\"Grid\"},{\"attributes\":{\"level\":\"glyph\",\"plot\":{\"id\":\"690c6808-4d5d-4b1e-bde5-ed00ab7f3ff3\",\"subtype\":\"Figure\",\"type\":\"Plot\"},\"source\":{\"id\":\"490e512e-4b3f-4941-8414-3b56be60e9fc\",\"type\":\"ColumnDataSource\"},\"text\":{\"field\":\"vals\"},\"text_align\":\"center\",\"text_baseline\":\"middle\",\"text_font_size\":{\"value\":\"8pt\"},\"x\":{\"field\":\"x\"},\"y\":{\"field\":\"y\"}},\"id\":\"d3b92abf-ae90-4c6a-897f-99383ca5785c\",\"type\":\"LabelSet\"},{\"attributes\":{\"plot\":{\"id\":\"690c6808-4d5d-4b1e-bde5-ed00ab7f3ff3\",\"subtype\":\"Figure\",\"type\":\"Plot\"}},\"id\":\"b4cf0382-80eb-4b95-99fd-9e80b1161412\",\"type\":\"PanTool\"},{\"attributes\":{\"bottom\":{\"field\":\"bottom\"},\"fill_color\":{\"field\":\"fill_color\"},\"left\":{\"field\":\"left\"},\"line_color\":{\"value\":null},\"right\":{\"field\":\"right\"},\"top\":{\"field\":\"top\"}},\"id\":\"ad813f8b-9100-41f6-aa12-ca25453ef6c4\",\"type\":\"Quad\"},{\"attributes\":{\"bottom\":{\"field\":\"bottom\"},\"fill_alpha\":{\"value\":0.1},\"fill_color\":{\"value\":\"#1f77b4\"},\"left\":{\"field\":\"left\"},\"line_alpha\":{\"value\":0.1},\"line_color\":{\"value\":\"#1f77b4\"},\"right\":{\"field\":\"right\"},\"top\":{\"field\":\"top\"}},\"id\":\"b9c9264b-5c18-446e-a149-f113871a5988\",\"type\":\"Quad\"}],\"root_ids\":[\"690c6808-4d5d-4b1e-bde5-ed00ab7f3ff3\"]},\"title\":\"Bokeh Application\",\"version\":\"0.12.0\"}};\n",
       "            var render_items = [{\"docid\":\"43ed9c53-6cd4-471e-9ca4-c48ba983a596\",\"elementid\":\"17dad0c1-2c20-4843-96c7-f2b55b5ee9b1\",\"modelid\":\"690c6808-4d5d-4b1e-bde5-ed00ab7f3ff3\",\"notebook_comms_target\":\"cd9c88a5-d847-449f-845e-0ba5f4e42c18\"}];\n",
       "            \n",
       "            Bokeh.embed.embed_items(docs_json, render_items);\n",
       "        });\n",
       "      },\n",
       "      function(Bokeh) {\n",
       "      }\n",
       "    ];\n",
       "  \n",
       "    function run_inline_js() {\n",
       "      for (var i = 0; i < inline_js.length; i++) {\n",
       "        inline_js[i](window.Bokeh);\n",
       "      }\n",
       "    }\n",
       "  \n",
       "    if (window._bokeh_is_loading === 0) {\n",
       "      console.log(\"Bokeh: BokehJS loaded, going straight to plotting\");\n",
       "      run_inline_js();\n",
       "    } else {\n",
       "      load_libs(js_urls, function() {\n",
       "        console.log(\"Bokeh: BokehJS plotting callback run at\", now());\n",
       "        run_inline_js();\n",
       "      });\n",
       "    }\n",
       "  }(this));\n",
       "</script>"
      ]
     },
     "metadata": {},
     "output_type": "display_data"
    },
    {
     "data": {
      "text/html": [
       "<p><code>&lt;Bokeh Notebook handle for <strong>In[6]</strong>&gt;</code></p>"
      ],
      "text/plain": [
       "<bokeh.io._CommsHandle at 0x7f4365049450>"
      ]
     },
     "execution_count": 6,
     "metadata": {},
     "output_type": "execute_result"
    }
   ],
   "source": [
    "plt_obj = dm.superset_yes_no([dm.di_26_1414, dm.di_4_1699], [dm.di_6_1503], min_match=0.5)\n",
    "plt = plt_obj.do_plot()\n",
    "show(plt)"
   ]
  },
  {
   "cell_type": "code",
   "execution_count": 7,
   "metadata": {
    "collapsed": false
   },
   "outputs": [
    {
     "data": {
      "text/html": [
       "<table>\n",
       "<thead><tr><th style=\"text-align:center\">index</th><th style=\"text-align:center\">first</th><th style=\"text-align:center\">length</th><th style=\"text-align:center\">snps</th><th style=\"text-align:center\" colspan=2>alleles</th><th style=\"text-align:center\" colspan=2>matches</th><th style=\"text-align:center\" colspan=2>afr</th><th style=\"text-align:center\" colspan=2>afx</th><th style=\"text-align:center\" colspan=2>amr</th><th style=\"text-align:center\" colspan=2>eas</th><th style=\"text-align:center\" colspan=2>eur</th><th style=\"text-align:center\" colspan=2>sas</th><th style=\"text-align:center\" colspan=2>sax</th></tr></thead>\n",
       "<tr class=\"even\"><td style=\"text-align: right;\">353921</td><td style=\"text-align: right;\">136,501,840</td><td style=\"text-align: right;\">53,819</td><td style=\"text-align: right;\">10</td><td style=\"text-align: right;\">2206</td><td style=\"text-align: right;\">0.02</td><td style=\"text-align: right;\">37</td><td style=\"text-align: right;\">0.95</td><td style=\"text-align: right;\">22</td><td style=\"text-align: right;\">2.10</td><td style=\"text-align: right;\">6</td><td style=\"text-align: right;\">2.05</td><td style=\"text-align: right;\">6</td><td style=\"text-align: right;\">1.47</td><td style=\"text-align: right;\">1</td><td style=\"text-align: right;\">0.13</td><td style=\"text-align: right;\">0</td><td style=\"text-align: right;\">0.00</td><td style=\"text-align: right;\">1</td><td style=\"text-align: right;\">0.37</td><td style=\"text-align: right;\">1</td><td style=\"text-align: right;\">0.19</td></tr>\n",
       "<tr><td style=\"text-align: right;\">354170</td><td style=\"text-align: right;\">136,682,274</td><td style=\"text-align: right;\">93,624</td><td style=\"text-align: right;\">7</td><td style=\"text-align: right;\">1868</td><td style=\"text-align: right;\">0.02</td><td style=\"text-align: right;\">31</td><td style=\"text-align: right;\">0.79</td><td style=\"text-align: right;\">19</td><td style=\"text-align: right;\">2.16</td><td style=\"text-align: right;\">4</td><td style=\"text-align: right;\">1.63</td><td style=\"text-align: right;\">6</td><td style=\"text-align: right;\">1.75</td><td style=\"text-align: right;\">0</td><td style=\"text-align: right;\">0.00</td><td style=\"text-align: right;\">0</td><td style=\"text-align: right;\">0.00</td><td style=\"text-align: right;\">1</td><td style=\"text-align: right;\">0.44</td><td style=\"text-align: right;\">1</td><td style=\"text-align: right;\">0.23</td></tr>\n",
       "<tr class=\"even\"><td style=\"text-align: right;\">353462</td><td style=\"text-align: right;\">135,915,358</td><td style=\"text-align: right;\">79,721</td><td style=\"text-align: right;\">4</td><td style=\"text-align: right;\">1699</td><td style=\"text-align: right;\">0.02</td><td style=\"text-align: right;\">39</td><td style=\"text-align: right;\">1.00</td><td style=\"text-align: right;\">24</td><td style=\"text-align: right;\">2.17</td><td style=\"text-align: right;\">6</td><td style=\"text-align: right;\">1.95</td><td style=\"text-align: right;\">6</td><td style=\"text-align: right;\">1.39</td><td style=\"text-align: right;\">1</td><td style=\"text-align: right;\">0.13</td><td style=\"text-align: right;\">0</td><td style=\"text-align: right;\">0.00</td><td style=\"text-align: right;\">1</td><td style=\"text-align: right;\">0.35</td><td style=\"text-align: right;\">1</td><td style=\"text-align: right;\">0.18</td></tr>\n",
       "<tr><td style=\"text-align: right;\">353901</td><td style=\"text-align: right;\">136,494,186</td><td style=\"text-align: right;\">271,765</td><td style=\"text-align: right;\">64</td><td style=\"text-align: right;\">1575</td><td style=\"text-align: right;\">0.02</td><td style=\"text-align: right;\">33</td><td style=\"text-align: right;\">0.85</td><td style=\"text-align: right;\">19</td><td style=\"text-align: right;\">2.03</td><td style=\"text-align: right;\">6</td><td style=\"text-align: right;\">2.30</td><td style=\"text-align: right;\">6</td><td style=\"text-align: right;\">1.65</td><td style=\"text-align: right;\">0</td><td style=\"text-align: right;\">0.00</td><td style=\"text-align: right;\">0</td><td style=\"text-align: right;\">0.00</td><td style=\"text-align: right;\">1</td><td style=\"text-align: right;\">0.42</td><td style=\"text-align: right;\">1</td><td style=\"text-align: right;\">0.22</td></tr>\n",
       "<tr class=\"even\"><td style=\"text-align: right;\">353797</td><td style=\"text-align: right;\">136,398,174</td><td style=\"text-align: right;\">75,924</td><td style=\"text-align: right;\">26</td><td style=\"text-align: right;\">1414</td><td style=\"text-align: right;\">0.03</td><td style=\"text-align: right;\">39</td><td style=\"text-align: right;\">1.00</td><td style=\"text-align: right;\">24</td><td style=\"text-align: right;\">2.17</td><td style=\"text-align: right;\">6</td><td style=\"text-align: right;\">1.95</td><td style=\"text-align: right;\">6</td><td style=\"text-align: right;\">1.39</td><td style=\"text-align: right;\">1</td><td style=\"text-align: right;\">0.13</td><td style=\"text-align: right;\">0</td><td style=\"text-align: right;\">0.00</td><td style=\"text-align: right;\">1</td><td style=\"text-align: right;\">0.35</td><td style=\"text-align: right;\">1</td><td style=\"text-align: right;\">0.18</td></tr>\n",
       "<tr><td style=\"text-align: right;\">353252</td><td style=\"text-align: right;\">135,759,628</td><td style=\"text-align: right;\">683,922</td><td style=\"text-align: right;\">12</td><td style=\"text-align: right;\">32</td><td style=\"text-align: right;\">0.94</td><td style=\"text-align: right;\">30</td><td style=\"text-align: right;\">0.77</td><td style=\"text-align: right;\">20</td><td style=\"text-align: right;\">2.35</td><td style=\"text-align: right;\">6</td><td style=\"text-align: right;\">2.53</td><td style=\"text-align: right;\">4</td><td style=\"text-align: right;\">1.21</td><td style=\"text-align: right;\">0</td><td style=\"text-align: right;\">0.00</td><td style=\"text-align: right;\">0</td><td style=\"text-align: right;\">0.00</td><td style=\"text-align: right;\">0</td><td style=\"text-align: right;\">0.00</td><td style=\"text-align: right;\">0</td><td style=\"text-align: right;\">0.00</td></tr>\n",
       "<tr class=\"even\"><td style=\"text-align: right;\">354074</td><td style=\"text-align: right;\">136,608,339</td><td style=\"text-align: right;\">129,934</td><td style=\"text-align: right;\">7</td><td style=\"text-align: right;\">31</td><td style=\"text-align: right;\">0.81</td><td style=\"text-align: right;\">25</td><td style=\"text-align: right;\">0.64</td><td style=\"text-align: right;\">18</td><td style=\"text-align: right;\">2.54</td><td style=\"text-align: right;\">3</td><td style=\"text-align: right;\">1.52</td><td style=\"text-align: right;\">4</td><td style=\"text-align: right;\">1.45</td><td style=\"text-align: right;\">0</td><td style=\"text-align: right;\">0.00</td><td style=\"text-align: right;\">0</td><td style=\"text-align: right;\">0.00</td><td style=\"text-align: right;\">0</td><td style=\"text-align: right;\">0.00</td><td style=\"text-align: right;\">0</td><td style=\"text-align: right;\">0.00</td></tr>\n",
       "</table>"
      ],
      "text/plain": [
       "<IPython.core.display.HTML object>"
      ]
     },
     "execution_count": 7,
     "metadata": {},
     "output_type": "execute_result"
    }
   ],
   "source": [
    "HTML(plt_obj.get_html())"
   ]
  },
  {
   "cell_type": "markdown",
   "metadata": {},
   "source": [
    "<div style=\"width:700px\">\n",
    "<p>\n",
    "This plot shows most common series for samples that express 26_1414 but are\n",
    "not part of the EUR tree.  The criteria used to identify these samples was\n",
    "expression of 26_1414 but not 6_1503.  The 144 samples that meet these \n",
    "criteria include 81 that express 117_1685.\n",
    "</div>"
   ]
  },
  {
   "cell_type": "code",
   "execution_count": 8,
   "metadata": {
    "collapsed": false
   },
   "outputs": [
    {
     "data": {
      "text/html": [
       "\n",
       "\n",
       "    <div class=\"bk-root\">\n",
       "        <div class=\"plotdiv\" id=\"aec936ed-b8ea-4df0-a34c-0ec160759b8f\"></div>\n",
       "    </div>\n",
       "<script type=\"text/javascript\">\n",
       "  \n",
       "  (function(global) {\n",
       "    function now() {\n",
       "      return new Date();\n",
       "    }\n",
       "  \n",
       "    if (typeof (window._bokeh_onload_callbacks) === \"undefined\") {\n",
       "      window._bokeh_onload_callbacks = [];\n",
       "    }\n",
       "  \n",
       "    function run_callbacks() {\n",
       "      window._bokeh_onload_callbacks.forEach(function(callback) { callback() });\n",
       "      delete window._bokeh_onload_callbacks\n",
       "      console.info(\"Bokeh: all callbacks have finished\");\n",
       "    }\n",
       "  \n",
       "    function load_libs(js_urls, callback) {\n",
       "      window._bokeh_onload_callbacks.push(callback);\n",
       "      if (window._bokeh_is_loading > 0) {\n",
       "        console.log(\"Bokeh: BokehJS is being loaded, scheduling callback at\", now());\n",
       "        return null;\n",
       "      }\n",
       "      if (js_urls == null || js_urls.length === 0) {\n",
       "        run_callbacks();\n",
       "        return null;\n",
       "      }\n",
       "      console.log(\"Bokeh: BokehJS not loaded, scheduling load and callback at\", now());\n",
       "      window._bokeh_is_loading = js_urls.length;\n",
       "      for (var i = 0; i < js_urls.length; i++) {\n",
       "        var url = js_urls[i];\n",
       "        var s = document.createElement('script');\n",
       "        s.src = url;\n",
       "        s.async = false;\n",
       "        s.onreadystatechange = s.onload = function() {\n",
       "          window._bokeh_is_loading--;\n",
       "          if (window._bokeh_is_loading === 0) {\n",
       "            console.log(\"Bokeh: all BokehJS libraries loaded\");\n",
       "            run_callbacks()\n",
       "          }\n",
       "        };\n",
       "        s.onerror = function() {\n",
       "          console.warn(\"failed to load library \" + url);\n",
       "        };\n",
       "        console.log(\"Bokeh: injecting script tag for BokehJS library: \", url);\n",
       "        document.getElementsByTagName(\"head\")[0].appendChild(s);\n",
       "      }\n",
       "    };var element = document.getElementById(\"aec936ed-b8ea-4df0-a34c-0ec160759b8f\");\n",
       "    if (element == null) {\n",
       "      console.log(\"Bokeh: ERROR: autoload.js configured with elementid 'aec936ed-b8ea-4df0-a34c-0ec160759b8f' but no matching script tag was found. \")\n",
       "      return false;\n",
       "    }\n",
       "  \n",
       "    var js_urls = [];\n",
       "  \n",
       "    var inline_js = [\n",
       "      function(Bokeh) {\n",
       "        Bokeh.$(function() {\n",
       "            var docs_json = {\"ba4b679f-0483-4211-b142-227f3a88c8fc\":{\"roots\":{\"references\":[{\"attributes\":{\"formatter\":{\"id\":\"0344a77a-d8c5-4f5e-8ed7-fea1466bcd50\",\"type\":\"BasicTickFormatter\"},\"plot\":{\"id\":\"dbc97ac9-47ac-401e-84ec-4bea2907e751\",\"subtype\":\"Figure\",\"type\":\"Plot\"},\"ticker\":{\"id\":\"082e3d6a-e760-4ff7-84db-773c5c57aa7f\",\"type\":\"BasicTicker\"},\"visible\":null},\"id\":\"ce14549b-3deb-4387-8437-7b4b81d8460b\",\"type\":\"LinearAxis\"},{\"attributes\":{\"callback\":null,\"column_names\":[\"xs\",\"ys\",\"line_color\"],\"data\":{\"line_color\":[\"black\",\"black\",\"black\",\"black\",\"black\",\"black\",\"black\",\"black\",\"black\",\"black\",\"black\",\"black\",\"black\",\"black\",\"black\",\"black\",\"black\",\"black\",\"black\",\"black\",\"black\",\"black\",\"black\",\"black\",\"black\",\"black\",\"black\",\"black\",\"black\",\"black\",\"black\",\"black\",\"black\",\"black\",\"black\",\"black\",\"black\",\"black\",\"black\",\"black\",\"black\",\"black\",\"black\",\"black\",\"black\",\"black\",\"black\",\"black\",\"black\",\"black\",\"black\",\"black\",\"black\",\"black\",\"black\",\"black\",\"black\",\"black\",\"black\",\"black\",\"black\",\"black\",\"black\",\"black\",\"black\",\"black\",\"black\",\"black\",\"black\",\"black\",\"black\",\"black\",\"black\",\"black\",\"black\",\"black\",\"black\",\"black\",\"black\",\"black\",\"black\",\"black\",\"black\",\"black\",\"black\",\"black\",\"black\",\"black\",\"black\",\"black\",\"black\",\"black\",\"black\",\"black\",\"black\",\"black\",\"black\",\"black\",\"black\",\"black\",\"black\",\"black\",\"black\",\"black\",\"black\",\"black\",\"black\",\"black\",\"black\",\"black\",\"black\",\"black\",\"black\",\"black\",\"black\",\"black\",\"black\",\"black\",\"black\",\"black\",\"black\",\"black\",\"black\",\"black\",\"black\",\"black\",\"black\",\"black\",\"black\",\"black\",\"black\",\"black\",\"black\",\"black\",\"black\",\"black\",\"black\",\"black\",\"black\",\"black\",\"black\",\"black\",\"black\",\"black\",\"black\",\"black\",\"black\",\"black\",\"black\",\"black\",\"black\",\"black\",\"black\",\"black\",\"black\",\"black\",\"black\",\"black\",\"black\",\"black\",\"black\",\"black\",\"black\",\"black\",\"black\",\"black\",\"black\",\"black\",\"black\",\"black\",\"black\",\"black\",\"black\",\"black\",\"black\",\"black\",\"black\",\"black\",\"black\",\"black\",\"black\",\"black\",\"black\",\"black\",\"black\",\"black\",\"black\",\"black\",\"black\",\"black\",\"black\",\"black\",\"black\",\"black\",\"black\",\"black\",\"black\",\"black\",\"black\",\"black\",\"black\",\"black\",\"black\",\"black\",\"black\",\"black\",\"black\",\"black\",\"black\",\"black\",\"black\",\"black\",\"black\",\"black\",\"black\",\"black\",\"black\",\"black\",\"black\",\"black\",\"black\",\"black\",\"black\",\"black\",\"black\",\"black\",\"black\",\"black\",\"black\",\"black\",\"black\",\"black\",\"black\",\"black\",\"black\",\"black\",\"black\",\"black\",\"black\",\"black\",\"black\",\"black\",\"black\",\"black\",\"black\",\"black\",\"black\",\"black\",\"black\",\"black\",\"black\",\"black\",\"black\",\"black\",\"black\",\"black\",\"black\",\"black\",\"black\",\"black\",\"black\",\"black\",\"black\",\"black\",\"black\",\"black\",\"black\",\"black\",\"black\",\"black\",\"black\",\"black\",\"black\",\"black\",\"black\",\"black\",\"black\",\"black\",\"black\",\"black\",\"black\",\"black\",\"black\",\"black\",\"black\",\"black\",\"black\",\"black\",\"black\",\"black\",\"black\",\"black\",\"black\",\"black\",\"black\",\"black\",\"black\",\"black\",\"black\",\"black\",\"black\",\"black\",\"black\",\"black\",\"black\",\"black\",\"black\",\"black\",\"black\",\"black\",\"black\",\"black\",\"black\",\"black\",\"black\",\"black\",\"black\",\"black\",\"black\",\"black\",\"black\",\"black\",\"black\",\"black\",\"black\",\"black\",\"black\",\"black\",\"black\",\"black\",\"black\",\"black\",\"black\",\"black\",\"black\",\"black\",\"black\",\"black\",\"black\",\"black\",\"black\",\"black\",\"black\",\"black\",\"black\",\"black\",\"black\",\"black\",\"black\",\"black\",\"black\",\"black\",\"black\",\"black\",\"black\",\"black\",\"black\",\"black\",\"black\",\"black\",\"black\",\"black\",\"black\",\"black\",\"black\",\"black\",\"black\",\"black\",\"black\",\"black\",\"black\",\"black\",\"black\",\"black\",\"black\",\"black\",\"black\",\"black\",\"black\",\"black\",\"black\",\"black\",\"black\",\"black\",\"black\",\"black\",\"black\",\"black\",\"black\",\"black\",\"black\",\"black\",\"black\",\"black\",\"black\",\"black\",\"black\",\"black\",\"black\",\"black\",\"black\",\"black\",\"black\",\"black\",\"black\",\"black\",\"black\",\"black\",\"black\",\"black\",\"black\",\"black\",\"black\",\"black\",\"black\",\"black\",\"black\",\"black\"],\"xs\":[[135758231,135758231],[135758520,135758520],[135766072,135766072],[135773420,135773420],[135773446,135773446],[135773617,135773617],[135773692,135773692],[135774681,135774681],[135775049,135775049],[135776430,135776430],[135778656,135778656],[135780168,135780168],[135780587,135780587],[135781301,135781301],[135781522,135781522],[135781635,135781635],[135782456,135782456],[135783157,135783157],[135783366,135783366],[135783367,135783367],[135784227,135784227],[135784733,135784733],[135785066,135785066],[135785068,135785068],[135785149,135785149],[135787148,135787148],[135787642,135787642],[135789405,135789405],[135789472,135789472],[135789682,135789682],[135789784,135789784],[135792338,135792338],[135792528,135792528],[135793565,135793565],[135793684,135793684],[135793845,135793845],[135794367,135794367],[135794986,135794986],[135795040,135795040],[135795095,135795095],[135795150,135795150],[135795385,135795385],[135795396,135795396],[135795443,135795443],[135795595,135795595],[135796000,135796000],[135796155,135796155],[135796410,135796410],[135796965,135796965],[135797223,135797223],[135797747,135797747],[135798082,135798082],[135798758,135798758],[135799082,135799082],[135800085,135800085],[135800601,135800601],[135800757,135800757],[135801228,135801228],[135801956,135801956],[135802020,135802020],[135802028,135802028],[135802050,135802050],[135802148,135802148],[135803766,135803766],[135809241,135809241],[135812969,135812969],[135814716,135814716],[135818907,135818907],[135829432,135829432],[135832131,135832131],[135849613,135849613],[135853807,135853807],[135859923,135859923],[135860305,135860305],[135861497,135861497],[135863143,135863143],[135864294,135864294],[135871624,135871624],[135872646,135872646],[135874038,135874038],[135874622,135874622],[135878814,135878814],[135880013,135880013],[135884487,135884487],[135885357,135885357],[135893853,135893853],[135895809,135895809],[135895879,135895879],[135899069,135899069],[135909462,135909462],[135912977,135912977],[135914038,135914038],[135921839,135921839],[135925002,135925002],[135928312,135928312],[135935049,135935049],[135962711,135962711],[135984172,135984172],[135994753,135994753],[135994754,135994754],[136016079,136016079],[136027264,136027264],[136052004,136052004],[136100473,136100473],[136110129,136110129],[136166536,136166536],[136169799,136169799],[136191314,136191314],[136228887,136228887],[136238453,136238453],[136288273,136288273],[136292425,136292425],[136321951,136321951],[136324564,136324564],[136327299,136327299],[136327302,136327302],[136376515,136376515],[135766890,135766890],[135778708,135778708],[135779588,135779588],[135805941,135805941],[135805943,135805943],[135932720,135932720],[135933317,135933317],[135934842,135934842],[135952376,135952376],[135958853,135958853],[135962864,135962864],[135963304,135963304],[135965376,135965376],[135980201,135980201],[135981554,135981554],[135988127,135988127],[135988416,135988416],[135991470,135991470],[136000500,136000500],[136001215,136001215],[136001295,136001295],[136016514,136016514],[136017388,136017388],[136041102,136041102],[136041662,136041662],[136047387,136047387],[136052936,136052936],[136055275,136055275],[136063118,136063118],[136066802,136066802],[136068890,136068890],[136069577,136069577],[136081193,136081193],[136105193,136105193],[136107839,136107839],[136110835,136110835],[136138026,136138026],[136142092,136142092],[136146499,136146499],[136147607,136147607],[136148401,136148401],[136150512,136150512],[136154734,136154734],[136155805,136155805],[136163001,136163001],[136163266,136163266],[136163568,136163568],[136163821,136163821],[136165965,136165965],[136183312,136183312],[136185945,136185945],[136191729,136191729],[136204827,136204827],[136208747,136208747],[136217980,136217980],[136229438,136229438],[136232572,136232572],[136240942,136240942],[136251329,136251329],[136265187,136265187],[136265188,136265188],[136275985,136275985],[135933921,135933921],[135939824,135939824],[135941503,135941503],[135943900,135943900],[135945474,135945474],[135949715,135949715],[135956745,135956745],[135958693,135958693],[135967778,135967778],[135972093,135972093],[135973768,135973768],[135976498,135976498],[135978428,135978428],[135990031,135990031],[135992481,135992481],[135993925,135993925],[135994838,135994838],[136000253,136000253],[136003567,136003567],[136005477,136005477],[136005971,136005971],[136020977,136020977],[136027535,136027535],[136031588,136031588],[136032905,136032905],[136042480,136042480],[136043885,136043885],[136050471,136050471],[136052898,136052898],[136054815,136054815],[136056285,136056285],[136061560,136061560],[136063685,136063685],[136069060,136069060],[136072179,136072179],[136074233,136074233],[136080721,136080721],[136080822,136080822],[136088440,136088440],[136088643,136088643],[136092416,136092416],[136092869,136092869],[136094615,136094615],[136095505,136095505],[136095604,136095604],[136096766,136096766],[136097091,136097091],[136097394,136097394],[136100243,136100243],[136101823,136101823],[136106561,136106561],[136115501,136115501],[136122622,136122622],[136123014,136123014],[136123848,136123848],[136127100,136127100],[136127950,136127950],[136128630,136128630],[136129630,136129630],[136129791,136129791],[136131324,136131324],[136135383,136135383],[136135994,136135994],[136136224,136136224],[136136366,136136366],[136136440,136136440],[136138145,136138145],[136140568,136140568],[136145882,136145882],[136147948,136147948],[136148630,136148630],[136151485,136151485],[136152802,136152802],[136156753,136156753],[136157913,136157913],[136160902,136160902],[136165765,136165765],[136171649,136171649],[136173220,136173220],[136173735,136173735],[136174552,136174552],[136175692,136175692],[136176805,136176805],[136182484,136182484],[136183188,136183188],[136187252,136187252],[136187345,136187345],[136189475,136189475],[136197702,136197702],[136198435,136198435],[136202937,136202937],[136219999,136219999],[136221500,136221500],[136226626,136226626],[136228929,136228929],[136229598,136229598],[136238270,136238270],[136238346,136238346],[136240769,136240769],[136244171,136244171],[136249245,136249245],[136250285,136250285],[136254419,136254419],[136266241,136266241],[136267808,136267808],[136272074,136272074],[136277304,136277304],[136290607,136290607],[136290663,136290663],[136291310,136291310],[136296051,136296051],[136305392,136305392],[136306890,136306890],[136310803,136310803],[136324225,136324225],[136324465,136324465],[136327305,136327305],[136329618,136329618],[136333300,136333300],[136350089,136350089],[136354204,136354204],[136360455,136360455],[136368563,136368563],[136309239,136309239],[136322472,136322472],[136323787,136323787],[136323862,136323862],[136326765,136326765],[136329500,136329500],[136331657,136331657],[136345356,136345356],[136361560,136361560],[136398174,136398174],[136402117,136402117],[136403749,136403749],[136409073,136409073],[136410299,136410299],[136413359,136413359],[136416855,136416855],[136416941,136416941],[136418348,136418348],[136419961,136419961],[136420690,136420690],[136422171,136422171],[136428460,136428460],[136430866,136430866],[136432103,136432103],[136437507,136437507],[136439090,136439090],[136439517,136439517],[136444123,136444123],[136445526,136445526],[136445869,136445869],[136455600,136455600],[136456642,136456642],[136462441,136462441],[136470714,136470714],[136474098,136474098],[136494186,136494186],[136495300,136495300],[136495619,136495619],[136499166,136499166],[136502792,136502792],[136503157,136503157],[136507039,136507039],[136511575,136511575],[136518103,136518103],[136521514,136521514],[136522675,136522675],[136522941,136522941],[136526981,136526981],[136535410,136535410],[136539122,136539122],[136544197,136544197],[136550109,136550109],[136551694,136551694],[136553188,136553188],[136553639,136553639],[136554800,136554800],[136557319,136557319],[136558157,136558157],[136569848,136569848],[136575199,136575199],[136576577,136576577],[136578536,136578536],[136580287,136580287],[136583192,136583192],[136586958,136586958],[136588478,136588478],[136589612,136589612],[136591178,136591178],[136591859,136591859],[136593760,136593760],[136594158,136594158],[136603276,136603276],[136603366,136603366],[136608231,136608231],[136609975,136609975],[136610598,136610598],[136611624,136611624],[136613780,136613780],[136614255,136614255],[136614813,136614813],[136617524,136617524],[136622216,136622216],[136625602,136625602],[136629911,136629911],[136630757,136630757],[136630989,136630989],[136631031,136631031],[136633771,136633771],[136636324,136636324],[136638216,136638216],[136640233,136640233],[136641882,136641882],[136643555,136643555],[136658345,136658345],[136670298,136670298],[136685228,136685228],[136696138,136696138],[136740900,136740900],[136765951,136765951],[136501840,136501840],[136505546,136505546],[136516748,136516748],[136522710,136522710],[136528004,136528004],[136539513,136539513],[136544752,136544752],[136546110,136546110],[136553529,136553529],[136555659,136555659],[136682274,136682274],[136691825,136691825],[136698098,136698098],[136721603,136721603],[136721995,136721995],[136755684,136755684],[136775898,136775898]],\"ys\":[[250,296],[250,296],[250,296],[250,296],[250,296],[250,296],[250,296],[250,296],[250,296],[250,296],[250,296],[250,296],[250,296],[250,296],[250,296],[250,296],[250,296],[250,296],[250,296],[250,296],[250,296],[250,296],[250,296],[250,296],[250,296],[250,296],[250,296],[250,296],[250,296],[250,296],[250,296],[250,296],[250,296],[250,296],[250,296],[250,296],[250,296],[250,296],[250,296],[250,296],[250,296],[250,296],[250,296],[250,296],[250,296],[250,296],[250,296],[250,296],[250,296],[250,296],[250,296],[250,296],[250,296],[250,296],[250,296],[250,296],[250,296],[250,296],[250,296],[250,296],[250,296],[250,296],[250,296],[250,296],[250,296],[250,296],[250,296],[250,296],[250,296],[250,296],[250,296],[250,296],[250,296],[250,296],[250,296],[250,296],[250,296],[250,296],[250,296],[250,296],[250,296],[250,296],[250,296],[250,296],[250,296],[250,296],[250,296],[250,296],[250,296],[250,296],[250,296],[250,296],[250,296],[250,296],[250,296],[250,296],[250,296],[250,296],[250,296],[250,296],[250,296],[250,296],[250,296],[250,296],[250,296],[250,296],[250,296],[250,296],[250,296],[250,296],[250,296],[250,296],[250,296],[250,296],[250,296],[250,296],[250,296],[50,93],[50,93],[50,93],[50,93],[50,93],[50,93],[50,93],[50,93],[50,93],[50,93],[50,93],[50,93],[50,93],[50,93],[50,93],[50,93],[50,93],[50,93],[50,93],[50,93],[50,93],[50,93],[50,93],[50,93],[50,93],[50,93],[50,93],[50,93],[50,93],[50,93],[50,93],[50,93],[50,93],[50,93],[50,93],[50,93],[50,93],[50,93],[50,93],[50,93],[50,93],[50,93],[50,93],[50,93],[50,93],[50,93],[50,93],[50,93],[50,93],[50,93],[50,93],[50,93],[50,93],[50,93],[50,93],[50,93],[50,93],[50,93],[50,93],[50,93],[50,93],[50,93],[150,195],[150,195],[150,195],[150,195],[150,195],[150,195],[150,195],[150,195],[150,195],[150,195],[150,195],[150,195],[150,195],[150,195],[150,195],[150,195],[150,195],[150,195],[150,195],[150,195],[150,195],[150,195],[150,195],[150,195],[150,195],[150,195],[150,195],[150,195],[150,195],[150,195],[150,195],[150,195],[150,195],[150,195],[150,195],[150,195],[150,195],[150,195],[150,195],[150,195],[150,195],[150,195],[150,195],[150,195],[150,195],[150,195],[150,195],[150,195],[150,195],[150,195],[150,195],[150,195],[150,195],[150,195],[150,195],[150,195],[150,195],[150,195],[150,195],[150,195],[150,195],[150,195],[150,195],[150,195],[150,195],[150,195],[150,195],[150,195],[150,195],[150,195],[150,195],[150,195],[150,195],[150,195],[150,195],[150,195],[150,195],[150,195],[150,195],[150,195],[150,195],[150,195],[150,195],[150,195],[150,195],[150,195],[150,195],[150,195],[150,195],[150,195],[150,195],[150,195],[150,195],[150,195],[150,195],[150,195],[150,195],[150,195],[150,195],[150,195],[150,195],[150,195],[150,195],[150,195],[150,195],[150,195],[150,195],[150,195],[150,195],[150,195],[150,195],[150,195],[150,195],[150,195],[150,195],[150,195],[150,195],[150,195],[150,195],[150,195],[150,195],[150,195],[150,195],[50,90],[50,90],[50,90],[50,90],[50,90],[50,90],[50,90],[50,90],[50,90],[150,194],[150,194],[150,194],[150,194],[150,194],[150,194],[150,194],[150,194],[150,194],[150,194],[150,194],[150,194],[150,194],[150,194],[150,194],[150,194],[150,194],[150,194],[150,194],[150,194],[150,194],[150,194],[150,194],[150,194],[150,194],[150,194],[250,295],[250,295],[250,295],[250,295],[250,295],[250,295],[250,295],[250,295],[250,295],[250,295],[250,295],[250,295],[250,295],[250,295],[250,295],[250,295],[250,295],[250,295],[250,295],[250,295],[250,295],[250,295],[250,295],[250,295],[250,295],[250,295],[250,295],[250,295],[250,295],[250,295],[250,295],[250,295],[250,295],[250,295],[250,295],[250,295],[250,295],[250,295],[250,295],[250,295],[250,295],[250,295],[250,295],[250,295],[250,295],[250,295],[250,295],[250,295],[250,295],[250,295],[250,295],[250,295],[250,295],[250,295],[250,295],[250,295],[250,295],[250,295],[250,295],[250,295],[250,295],[250,295],[250,295],[250,295],[350,398],[350,398],[350,398],[350,398],[350,398],[350,398],[350,398],[350,398],[350,398],[350,398],[350,397],[350,397],[350,397],[350,397],[350,397],[350,397],[350,397]]}},\"id\":\"03960809-8628-4422-bef0-165c3eb46a91\",\"type\":\"ColumnDataSource\"},{\"attributes\":{\"bottom_units\":\"screen\",\"fill_alpha\":{\"value\":0.5},\"fill_color\":{\"value\":\"lightgrey\"},\"left_units\":\"screen\",\"level\":\"overlay\",\"line_alpha\":{\"value\":1.0},\"line_color\":{\"value\":\"black\"},\"line_dash\":[4,4],\"line_width\":{\"value\":2},\"plot\":null,\"render_mode\":\"css\",\"right_units\":\"screen\",\"top_units\":\"screen\"},\"id\":\"9333eed9-c843-4364-beac-4f926702bab0\",\"type\":\"BoxAnnotation\"},{\"attributes\":{\"callback\":null,\"column_names\":[\"y\",\"x\",\"vals\"],\"data\":{\"vals\":[\"117_1685\",\"62_1265\",\"123_1561\",\"9_887\",\"26_1414\",\"64_1575\",\"10_2206\",\"7_1868\"],\"x\":[135758231,135766890,135933921,136309239,136398174,136494186,136501840,136682274],\"y\":[301.0,98.0,200.0,95.0,199.0,300.0,403.0,402.0]}},\"id\":\"d6776fe4-67c5-46ab-820b-02b9aa0e71ef\",\"type\":\"ColumnDataSource\"},{\"attributes\":{},\"id\":\"358d30f8-925a-476f-a354-b65e25e52b71\",\"type\":\"BasicTicker\"},{\"attributes\":{\"plot\":{\"id\":\"dbc97ac9-47ac-401e-84ec-4bea2907e751\",\"subtype\":\"Figure\",\"type\":\"Plot\"}},\"id\":\"79aa4be8-dee8-4cf1-89fa-6a1444afe158\",\"type\":\"SaveTool\"},{\"attributes\":{\"formatter\":{\"id\":\"9003e608-0056-4b65-a89c-52aaf60c0a6e\",\"type\":\"BasicTickFormatter\"},\"plot\":{\"id\":\"dbc97ac9-47ac-401e-84ec-4bea2907e751\",\"subtype\":\"Figure\",\"type\":\"Plot\"},\"ticker\":{\"id\":\"358d30f8-925a-476f-a354-b65e25e52b71\",\"type\":\"BasicTicker\"}},\"id\":\"4f7567e5-943d-4cfb-ba1b-7b7576f50bfe\",\"type\":\"LinearAxis\"},{\"attributes\":{},\"id\":\"a6a8d50c-6507-4f1a-94e6-200df73fbc92\",\"type\":\"ToolEvents\"},{\"attributes\":{\"callback\":null,\"column_names\":[\"right\",\"bottom\",\"top\",\"left\",\"fill_color\"],\"data\":{\"bottom\":[250,50,150,50,150,250,350,350],\"fill_color\":[\"#808080\",\"#808080\",\"#c46161\",\"#ff0000\",\"#61c461\",\"#61c461\",\"#808080\",\"#61c461\"],\"left\":[135758231,135766890,135933921,136309239,136398174,136494186,136501840,136682274],\"right\":[136376515,136275985,136368563,136361560,136474098,136765951,136555659,136775898],\"top\":[296,93,195,90,194,295,398,397]}},\"id\":\"b3451177-13b1-4a07-b144-fa275988c627\",\"type\":\"ColumnDataSource\"},{\"attributes\":{\"data_source\":{\"id\":\"03960809-8628-4422-bef0-165c3eb46a91\",\"type\":\"ColumnDataSource\"},\"glyph\":{\"id\":\"8d2af0de-a82d-427f-8f73-0c5138760eee\",\"type\":\"MultiLine\"},\"hover_glyph\":null,\"nonselection_glyph\":{\"id\":\"5e96e67d-6b07-4299-b01d-5893d28339a0\",\"type\":\"MultiLine\"},\"selection_glyph\":null},\"id\":\"6deaa73d-c268-43a1-a103-93eed9ae2ad9\",\"type\":\"GlyphRenderer\"},{\"attributes\":{\"line_alpha\":{\"value\":0.1},\"line_color\":{\"value\":\"#1f77b4\"},\"xs\":{\"field\":\"xs\"},\"ys\":{\"field\":\"ys\"}},\"id\":\"5e96e67d-6b07-4299-b01d-5893d28339a0\",\"type\":\"MultiLine\"},{\"attributes\":{\"level\":\"glyph\",\"plot\":{\"id\":\"dbc97ac9-47ac-401e-84ec-4bea2907e751\",\"subtype\":\"Figure\",\"type\":\"Plot\"},\"source\":{\"id\":\"d6776fe4-67c5-46ab-820b-02b9aa0e71ef\",\"type\":\"ColumnDataSource\"},\"text\":{\"field\":\"vals\"},\"text_font_size\":{\"value\":\"9pt\"},\"text_font_style\":\"bold\",\"x\":{\"field\":\"x\"},\"y\":{\"field\":\"y\"}},\"id\":\"9c37ea8a-1254-44bc-9282-fc695d96cfdb\",\"type\":\"LabelSet\"},{\"attributes\":{\"active_drag\":\"auto\",\"active_scroll\":\"auto\",\"active_tap\":\"auto\",\"tools\":[{\"id\":\"59b862a2-779d-43e0-9fcc-c55e592842e6\",\"type\":\"PanTool\"},{\"id\":\"031e8956-ff40-4abb-abe4-be0a44662d1f\",\"type\":\"WheelZoomTool\"},{\"id\":\"c2c1b3ff-6876-4351-a97e-0dc355e1965f\",\"type\":\"BoxZoomTool\"},{\"id\":\"79aa4be8-dee8-4cf1-89fa-6a1444afe158\",\"type\":\"SaveTool\"},{\"id\":\"af0fab2d-688e-42ef-837a-a6d3d5f4f817\",\"type\":\"ResetTool\"},{\"id\":\"9cd2c747-e960-4056-9e2e-8241adf69146\",\"type\":\"HelpTool\"}]},\"id\":\"fba789dc-36f2-4653-8733-3a23995d3f0c\",\"type\":\"Toolbar\"},{\"attributes\":{\"bottom\":{\"field\":\"bottom\"},\"fill_alpha\":{\"value\":0.1},\"fill_color\":{\"value\":\"#1f77b4\"},\"left\":{\"field\":\"left\"},\"line_alpha\":{\"value\":0.1},\"line_color\":{\"value\":\"#1f77b4\"},\"right\":{\"field\":\"right\"},\"top\":{\"field\":\"top\"}},\"id\":\"89e4ceb0-dc8f-485c-a883-64903875e77e\",\"type\":\"Quad\"},{\"attributes\":{\"callback\":null,\"end\":136786630,\"start\":135757320},\"id\":\"1b1031d7-a982-45c6-a8f2-22975036648f\",\"type\":\"Range1d\"},{\"attributes\":{\"plot\":{\"id\":\"dbc97ac9-47ac-401e-84ec-4bea2907e751\",\"subtype\":\"Figure\",\"type\":\"Plot\"}},\"id\":\"59b862a2-779d-43e0-9fcc-c55e592842e6\",\"type\":\"PanTool\"},{\"attributes\":{\"data_source\":{\"id\":\"57bbe5e0-02b0-4a44-9b22-ca18def95892\",\"type\":\"ColumnDataSource\"},\"glyph\":{\"id\":\"2fc8a293-9392-4096-90cf-508d039a8949\",\"type\":\"Quad\"},\"hover_glyph\":null,\"nonselection_glyph\":{\"id\":\"553c336e-8341-44e6-9047-fceb0686e846\",\"type\":\"Quad\"},\"selection_glyph\":null},\"id\":\"f698c5cd-2797-4d18-897f-43ab804b3ee3\",\"type\":\"GlyphRenderer\"},{\"attributes\":{\"line_color\":{\"field\":\"line_color\"},\"xs\":{\"field\":\"xs\"},\"ys\":{\"field\":\"ys\"}},\"id\":\"8d2af0de-a82d-427f-8f73-0c5138760eee\",\"type\":\"MultiLine\"},{\"attributes\":{\"callback\":null,\"end\":500},\"id\":\"0534208b-f1d3-469e-b7cc-fa5027c87333\",\"type\":\"Range1d\"},{\"attributes\":{\"bottom\":{\"field\":\"bottom\"},\"fill_color\":{\"value\":\"white\"},\"left\":{\"field\":\"left\"},\"right\":{\"field\":\"right\"},\"top\":{\"field\":\"top\"}},\"id\":\"2fc8a293-9392-4096-90cf-508d039a8949\",\"type\":\"Quad\"},{\"attributes\":{\"bottom\":{\"field\":\"bottom\"},\"fill_color\":{\"field\":\"fill_color\"},\"left\":{\"field\":\"left\"},\"line_color\":{\"value\":null},\"right\":{\"field\":\"right\"},\"top\":{\"field\":\"top\"}},\"id\":\"4a430523-bbf1-44dc-aeee-7779f7360cf3\",\"type\":\"Quad\"},{\"attributes\":{\"plot\":{\"id\":\"dbc97ac9-47ac-401e-84ec-4bea2907e751\",\"subtype\":\"Figure\",\"type\":\"Plot\"}},\"id\":\"031e8956-ff40-4abb-abe4-be0a44662d1f\",\"type\":\"WheelZoomTool\"},{\"attributes\":{\"level\":\"glyph\",\"plot\":{\"id\":\"dbc97ac9-47ac-401e-84ec-4bea2907e751\",\"subtype\":\"Figure\",\"type\":\"Plot\"},\"source\":{\"id\":\"8b676605-d7b0-4075-b79f-a5c71461a38f\",\"type\":\"ColumnDataSource\"},\"text\":{\"field\":\"vals\"},\"text_align\":\"center\",\"text_baseline\":\"middle\",\"text_font_size\":{\"value\":\"8pt\"},\"x\":{\"field\":\"x\"},\"y\":{\"field\":\"y\"}},\"id\":\"980eb657-05f3-4729-b1a8-aa0966b190f1\",\"type\":\"LabelSet\"},{\"attributes\":{\"below\":[{\"id\":\"4f7567e5-943d-4cfb-ba1b-7b7576f50bfe\",\"type\":\"LinearAxis\"}],\"left\":[{\"id\":\"ce14549b-3deb-4387-8437-7b4b81d8460b\",\"type\":\"LinearAxis\"}],\"plot_height\":500,\"plot_width\":900,\"renderers\":[{\"id\":\"4f7567e5-943d-4cfb-ba1b-7b7576f50bfe\",\"type\":\"LinearAxis\"},{\"id\":\"b26fd90f-8ae8-49d7-9e8e-fd74bd96f0fc\",\"type\":\"Grid\"},{\"id\":\"ce14549b-3deb-4387-8437-7b4b81d8460b\",\"type\":\"LinearAxis\"},{\"id\":\"f22e9631-e326-487e-b210-cc6df3fd72fb\",\"type\":\"Grid\"},{\"id\":\"9333eed9-c843-4364-beac-4f926702bab0\",\"type\":\"BoxAnnotation\"},{\"id\":\"fcf94fa1-b6ec-4ecb-aba4-40e8af459978\",\"type\":\"GlyphRenderer\"},{\"id\":\"6deaa73d-c268-43a1-a103-93eed9ae2ad9\",\"type\":\"GlyphRenderer\"},{\"id\":\"9c37ea8a-1254-44bc-9282-fc695d96cfdb\",\"type\":\"LabelSet\"},{\"id\":\"f698c5cd-2797-4d18-897f-43ab804b3ee3\",\"type\":\"GlyphRenderer\"},{\"id\":\"980eb657-05f3-4729-b1a8-aa0966b190f1\",\"type\":\"LabelSet\"}],\"title\":{\"id\":\"8d58fe9b-6967-4286-b308-e9d63fdcb389\",\"type\":\"Title\"},\"tool_events\":{\"id\":\"a6a8d50c-6507-4f1a-94e6-200df73fbc92\",\"type\":\"ToolEvents\"},\"toolbar\":{\"id\":\"fba789dc-36f2-4653-8733-3a23995d3f0c\",\"type\":\"Toolbar\"},\"toolbar_location\":null,\"x_range\":{\"id\":\"1b1031d7-a982-45c6-a8f2-22975036648f\",\"type\":\"Range1d\"},\"y_range\":{\"id\":\"0534208b-f1d3-469e-b7cc-fa5027c87333\",\"type\":\"Range1d\"}},\"id\":\"dbc97ac9-47ac-401e-84ec-4bea2907e751\",\"subtype\":\"Figure\",\"type\":\"Plot\"},{\"attributes\":{\"callback\":null,\"column_names\":[\"y\",\"x\",\"vals\"],\"data\":{\"vals\":[\"RAB3GAP1\",\"ZRANB3\",\"R3HDM1\",\"UBXN4\",\"LCT\",\"MCM6\",\"DARS\"],\"x\":[135869057.0,136122878.0,136385961.0,136520911.0,136570082.5,136615621.5,136703738.0],\"y\":[460.0,460.0,460.0,460.0,460.0,460.0,460.0]}},\"id\":\"8b676605-d7b0-4075-b79f-a5c71461a38f\",\"type\":\"ColumnDataSource\"},{\"attributes\":{},\"id\":\"0344a77a-d8c5-4f5e-8ed7-fea1466bcd50\",\"type\":\"BasicTickFormatter\"},{\"attributes\":{\"bottom\":{\"field\":\"bottom\"},\"fill_alpha\":{\"value\":0.1},\"fill_color\":{\"value\":\"#1f77b4\"},\"left\":{\"field\":\"left\"},\"line_alpha\":{\"value\":0.1},\"line_color\":{\"value\":\"#1f77b4\"},\"right\":{\"field\":\"right\"},\"top\":{\"field\":\"top\"}},\"id\":\"553c336e-8341-44e6-9047-fceb0686e846\",\"type\":\"Quad\"},{\"attributes\":{\"overlay\":{\"id\":\"9333eed9-c843-4364-beac-4f926702bab0\",\"type\":\"BoxAnnotation\"},\"plot\":{\"id\":\"dbc97ac9-47ac-401e-84ec-4bea2907e751\",\"subtype\":\"Figure\",\"type\":\"Plot\"}},\"id\":\"c2c1b3ff-6876-4351-a97e-0dc355e1965f\",\"type\":\"BoxZoomTool\"},{\"attributes\":{\"plot\":{\"id\":\"dbc97ac9-47ac-401e-84ec-4bea2907e751\",\"subtype\":\"Figure\",\"type\":\"Plot\"},\"ticker\":{\"id\":\"358d30f8-925a-476f-a354-b65e25e52b71\",\"type\":\"BasicTicker\"}},\"id\":\"b26fd90f-8ae8-49d7-9e8e-fd74bd96f0fc\",\"type\":\"Grid\"},{\"attributes\":{\"plot\":null,\"text\":null},\"id\":\"8d58fe9b-6967-4286-b308-e9d63fdcb389\",\"type\":\"Title\"},{\"attributes\":{\"plot\":{\"id\":\"dbc97ac9-47ac-401e-84ec-4bea2907e751\",\"subtype\":\"Figure\",\"type\":\"Plot\"}},\"id\":\"9cd2c747-e960-4056-9e2e-8241adf69146\",\"type\":\"HelpTool\"},{\"attributes\":{\"data_source\":{\"id\":\"b3451177-13b1-4a07-b144-fa275988c627\",\"type\":\"ColumnDataSource\"},\"glyph\":{\"id\":\"4a430523-bbf1-44dc-aeee-7779f7360cf3\",\"type\":\"Quad\"},\"hover_glyph\":null,\"nonselection_glyph\":{\"id\":\"89e4ceb0-dc8f-485c-a883-64903875e77e\",\"type\":\"Quad\"},\"selection_glyph\":null},\"id\":\"fcf94fa1-b6ec-4ecb-aba4-40e8af459978\",\"type\":\"GlyphRenderer\"},{\"attributes\":{\"dimension\":1,\"plot\":{\"id\":\"dbc97ac9-47ac-401e-84ec-4bea2907e751\",\"subtype\":\"Figure\",\"type\":\"Plot\"},\"ticker\":{\"id\":\"082e3d6a-e760-4ff7-84db-773c5c57aa7f\",\"type\":\"BasicTicker\"}},\"id\":\"f22e9631-e326-487e-b210-cc6df3fd72fb\",\"type\":\"Grid\"},{\"attributes\":{\"callback\":null,\"column_names\":[\"right\",\"bottom\",\"top\",\"left\"],\"data\":{\"bottom\":[445,445,445,445,445,445,445],\"left\":[135809835,135957574,136289083,136499189,136545415,136597196,136664254],\"right\":[135928279,136288182,136482839,136542633,136594750,136634047,136743222],\"top\":[475,475,475,475,475,475,475]}},\"id\":\"57bbe5e0-02b0-4a44-9b22-ca18def95892\",\"type\":\"ColumnDataSource\"},{\"attributes\":{},\"id\":\"9003e608-0056-4b65-a89c-52aaf60c0a6e\",\"type\":\"BasicTickFormatter\"},{\"attributes\":{},\"id\":\"082e3d6a-e760-4ff7-84db-773c5c57aa7f\",\"type\":\"BasicTicker\"},{\"attributes\":{\"plot\":{\"id\":\"dbc97ac9-47ac-401e-84ec-4bea2907e751\",\"subtype\":\"Figure\",\"type\":\"Plot\"}},\"id\":\"af0fab2d-688e-42ef-837a-a6d3d5f4f817\",\"type\":\"ResetTool\"}],\"root_ids\":[\"dbc97ac9-47ac-401e-84ec-4bea2907e751\"]},\"title\":\"Bokeh Application\",\"version\":\"0.12.0\"}};\n",
       "            var render_items = [{\"docid\":\"ba4b679f-0483-4211-b142-227f3a88c8fc\",\"elementid\":\"aec936ed-b8ea-4df0-a34c-0ec160759b8f\",\"modelid\":\"dbc97ac9-47ac-401e-84ec-4bea2907e751\",\"notebook_comms_target\":\"5b5583a6-2f16-4510-95e9-e59b59a1aa84\"}];\n",
       "            \n",
       "            Bokeh.embed.embed_items(docs_json, render_items);\n",
       "        });\n",
       "      },\n",
       "      function(Bokeh) {\n",
       "      }\n",
       "    ];\n",
       "  \n",
       "    function run_inline_js() {\n",
       "      for (var i = 0; i < inline_js.length; i++) {\n",
       "        inline_js[i](window.Bokeh);\n",
       "      }\n",
       "    }\n",
       "  \n",
       "    if (window._bokeh_is_loading === 0) {\n",
       "      console.log(\"Bokeh: BokehJS loaded, going straight to plotting\");\n",
       "      run_inline_js();\n",
       "    } else {\n",
       "      load_libs(js_urls, function() {\n",
       "        console.log(\"Bokeh: BokehJS plotting callback run at\", now());\n",
       "        run_inline_js();\n",
       "      });\n",
       "    }\n",
       "  }(this));\n",
       "</script>"
      ]
     },
     "metadata": {},
     "output_type": "display_data"
    },
    {
     "data": {
      "text/html": [
       "<p><code>&lt;Bokeh Notebook handle for <strong>In[8]</strong>&gt;</code></p>"
      ],
      "text/plain": [
       "<bokeh.io._CommsHandle at 0x7f43655b93d0>"
      ]
     },
     "execution_count": 8,
     "metadata": {},
     "output_type": "execute_result"
    }
   ],
   "source": [
    "plt_obj = dm.superset_yes_no([dm.di_26_1414], [dm.di_6_1503], min_match=0.5)\n",
    "plt = plt_obj.do_plot()\n",
    "show(plt)"
   ]
  },
  {
   "cell_type": "code",
   "execution_count": 9,
   "metadata": {
    "collapsed": false
   },
   "outputs": [
    {
     "data": {
      "text/html": [
       "<table>\n",
       "<thead><tr><th style=\"text-align:center\">index</th><th style=\"text-align:center\">first</th><th style=\"text-align:center\">length</th><th style=\"text-align:center\">snps</th><th style=\"text-align:center\" colspan=2>alleles</th><th style=\"text-align:center\" colspan=2>matches</th><th style=\"text-align:center\" colspan=2>afr</th><th style=\"text-align:center\" colspan=2>afx</th><th style=\"text-align:center\" colspan=2>amr</th><th style=\"text-align:center\" colspan=2>eas</th><th style=\"text-align:center\" colspan=2>eur</th><th style=\"text-align:center\" colspan=2>sas</th><th style=\"text-align:center\" colspan=2>sax</th></tr></thead>\n",
       "<tr class=\"even\"><td style=\"text-align: right;\">353921</td><td style=\"text-align: right;\">136,501,840</td><td style=\"text-align: right;\">53,819</td><td style=\"text-align: right;\">10</td><td style=\"text-align: right;\">2206</td><td style=\"text-align: right;\">0.06</td><td style=\"text-align: right;\">140</td><td style=\"text-align: right;\">0.97</td><td style=\"text-align: right;\">77</td><td style=\"text-align: right;\">1.94</td><td style=\"text-align: right;\">23</td><td style=\"text-align: right;\">2.08</td><td style=\"text-align: right;\">12</td><td style=\"text-align: right;\">0.78</td><td style=\"text-align: right;\">13</td><td style=\"text-align: right;\">0.46</td><td style=\"text-align: right;\">6</td><td style=\"text-align: right;\">0.38</td><td style=\"text-align: right;\">4</td><td style=\"text-align: right;\">0.39</td><td style=\"text-align: right;\">5</td><td style=\"text-align: right;\">0.25</td></tr>\n",
       "<tr><td style=\"text-align: right;\">354170</td><td style=\"text-align: right;\">136,682,274</td><td style=\"text-align: right;\">93,624</td><td style=\"text-align: right;\">7</td><td style=\"text-align: right;\">1868</td><td style=\"text-align: right;\">0.04</td><td style=\"text-align: right;\">81</td><td style=\"text-align: right;\">0.56</td><td style=\"text-align: right;\">38</td><td style=\"text-align: right;\">1.65</td><td style=\"text-align: right;\">10</td><td style=\"text-align: right;\">1.56</td><td style=\"text-align: right;\">8</td><td style=\"text-align: right;\">0.89</td><td style=\"text-align: right;\">11</td><td style=\"text-align: right;\">0.68</td><td style=\"text-align: right;\">6</td><td style=\"text-align: right;\">0.65</td><td style=\"text-align: right;\">3</td><td style=\"text-align: right;\">0.51</td><td style=\"text-align: right;\">5</td><td style=\"text-align: right;\">0.44</td></tr>\n",
       "<tr class=\"even\"><td style=\"text-align: right;\">353244</td><td style=\"text-align: right;\">135,758,231</td><td style=\"text-align: right;\">618,284</td><td style=\"text-align: right;\">117</td><td style=\"text-align: right;\">1685</td><td style=\"text-align: right;\">0.05</td><td style=\"text-align: right;\">81</td><td style=\"text-align: right;\">0.56</td><td style=\"text-align: right;\">53</td><td style=\"text-align: right;\">2.31</td><td style=\"text-align: right;\">16</td><td style=\"text-align: right;\">2.50</td><td style=\"text-align: right;\">4</td><td style=\"text-align: right;\">0.45</td><td style=\"text-align: right;\">3</td><td style=\"text-align: right;\">0.18</td><td style=\"text-align: right;\">4</td><td style=\"text-align: right;\">0.43</td><td style=\"text-align: right;\">1</td><td style=\"text-align: right;\">0.17</td><td style=\"text-align: right;\">0</td><td style=\"text-align: right;\">0.00</td></tr>\n",
       "<tr><td style=\"text-align: right;\">353901</td><td style=\"text-align: right;\">136,494,186</td><td style=\"text-align: right;\">271,765</td><td style=\"text-align: right;\">64</td><td style=\"text-align: right;\">1575</td><td style=\"text-align: right;\">0.05</td><td style=\"text-align: right;\">81</td><td style=\"text-align: right;\">0.56</td><td style=\"text-align: right;\">36</td><td style=\"text-align: right;\">1.57</td><td style=\"text-align: right;\">12</td><td style=\"text-align: right;\">1.87</td><td style=\"text-align: right;\">8</td><td style=\"text-align: right;\">0.89</td><td style=\"text-align: right;\">11</td><td style=\"text-align: right;\">0.68</td><td style=\"text-align: right;\">6</td><td style=\"text-align: right;\">0.65</td><td style=\"text-align: right;\">3</td><td style=\"text-align: right;\">0.51</td><td style=\"text-align: right;\">5</td><td style=\"text-align: right;\">0.44</td></tr>\n",
       "<tr class=\"even\"><td style=\"text-align: right;\">353478</td><td style=\"text-align: right;\">135,933,921</td><td style=\"text-align: right;\">434,642</td><td style=\"text-align: right;\">123</td><td style=\"text-align: right;\">1561</td><td style=\"text-align: right;\">0.05</td><td style=\"text-align: right;\">80</td><td style=\"text-align: right;\">0.56</td><td style=\"text-align: right;\">55</td><td style=\"text-align: right;\">2.42</td><td style=\"text-align: right;\">15</td><td style=\"text-align: right;\">2.37</td><td style=\"text-align: right;\">4</td><td style=\"text-align: right;\">0.45</td><td style=\"text-align: right;\">3</td><td style=\"text-align: right;\">0.19</td><td style=\"text-align: right;\">2</td><td style=\"text-align: right;\">0.22</td><td style=\"text-align: right;\">1</td><td style=\"text-align: right;\">0.17</td><td style=\"text-align: right;\">0</td><td style=\"text-align: right;\">0.00</td></tr>\n",
       "<tr><td style=\"text-align: right;\">353797</td><td style=\"text-align: right;\">136,398,174</td><td style=\"text-align: right;\">75,924</td><td style=\"text-align: right;\">26</td><td style=\"text-align: right;\">1414</td><td style=\"text-align: right;\">0.10</td><td style=\"text-align: right;\">144</td><td style=\"text-align: right;\">1.00</td><td style=\"text-align: right;\">80</td><td style=\"text-align: right;\">1.96</td><td style=\"text-align: right;\">23</td><td style=\"text-align: right;\">2.02</td><td style=\"text-align: right;\">12</td><td style=\"text-align: right;\">0.75</td><td style=\"text-align: right;\">13</td><td style=\"text-align: right;\">0.45</td><td style=\"text-align: right;\">6</td><td style=\"text-align: right;\">0.37</td><td style=\"text-align: right;\">4</td><td style=\"text-align: right;\">0.38</td><td style=\"text-align: right;\">6</td><td style=\"text-align: right;\">0.30</td></tr>\n",
       "<tr class=\"even\"><td style=\"text-align: right;\">353269</td><td style=\"text-align: right;\">135,766,890</td><td style=\"text-align: right;\">509,095</td><td style=\"text-align: right;\">62</td><td style=\"text-align: right;\">1265</td><td style=\"text-align: right;\">0.06</td><td style=\"text-align: right;\">77</td><td style=\"text-align: right;\">0.53</td><td style=\"text-align: right;\">52</td><td style=\"text-align: right;\">2.38</td><td style=\"text-align: right;\">15</td><td style=\"text-align: right;\">2.46</td><td style=\"text-align: right;\">4</td><td style=\"text-align: right;\">0.47</td><td style=\"text-align: right;\">3</td><td style=\"text-align: right;\">0.19</td><td style=\"text-align: right;\">2</td><td style=\"text-align: right;\">0.23</td><td style=\"text-align: right;\">1</td><td style=\"text-align: right;\">0.18</td><td style=\"text-align: right;\">0</td><td style=\"text-align: right;\">0.00</td></tr>\n",
       "<tr><td style=\"text-align: right;\">353729</td><td style=\"text-align: right;\">136,309,239</td><td style=\"text-align: right;\">52,321</td><td style=\"text-align: right;\">9</td><td style=\"text-align: right;\">887</td><td style=\"text-align: right;\">0.08</td><td style=\"text-align: right;\">74</td><td style=\"text-align: right;\">0.51</td><td style=\"text-align: right;\">54</td><td style=\"text-align: right;\">2.57</td><td style=\"text-align: right;\">15</td><td style=\"text-align: right;\">2.56</td><td style=\"text-align: right;\">4</td><td style=\"text-align: right;\">0.49</td><td style=\"text-align: right;\">0</td><td style=\"text-align: right;\">0.00</td><td style=\"text-align: right;\">0</td><td style=\"text-align: right;\">0.00</td><td style=\"text-align: right;\">1</td><td style=\"text-align: right;\">0.19</td><td style=\"text-align: right;\">0</td><td style=\"text-align: right;\">0.00</td></tr>\n",
       "</table>"
      ],
      "text/plain": [
       "<IPython.core.display.HTML object>"
      ]
     },
     "execution_count": 9,
     "metadata": {},
     "output_type": "execute_result"
    }
   ],
   "source": [
    "HTML(plt_obj.get_html())"
   ]
  },
  {
   "cell_type": "markdown",
   "metadata": {},
   "source": [
    "<div style=\"width:700px\">\n",
    "<p>\n",
    "This plot shows the most common series for  the 81 samples that express \n",
    "26_1414 and 117_1685.  These samples include 51 of the 56 chromosomes\n",
    "that express the series 209_56.  They also include all 48 of the chromosomes\n",
    "that express the series 14_48.\n",
    "</div>"
   ]
  },
  {
   "cell_type": "code",
   "execution_count": 10,
   "metadata": {
    "collapsed": false
   },
   "outputs": [
    {
     "data": {
      "text/html": [
       "\n",
       "\n",
       "    <div class=\"bk-root\">\n",
       "        <div class=\"plotdiv\" id=\"66f937c1-74b1-4f4d-8027-554033657637\"></div>\n",
       "    </div>\n",
       "<script type=\"text/javascript\">\n",
       "  \n",
       "  (function(global) {\n",
       "    function now() {\n",
       "      return new Date();\n",
       "    }\n",
       "  \n",
       "    if (typeof (window._bokeh_onload_callbacks) === \"undefined\") {\n",
       "      window._bokeh_onload_callbacks = [];\n",
       "    }\n",
       "  \n",
       "    function run_callbacks() {\n",
       "      window._bokeh_onload_callbacks.forEach(function(callback) { callback() });\n",
       "      delete window._bokeh_onload_callbacks\n",
       "      console.info(\"Bokeh: all callbacks have finished\");\n",
       "    }\n",
       "  \n",
       "    function load_libs(js_urls, callback) {\n",
       "      window._bokeh_onload_callbacks.push(callback);\n",
       "      if (window._bokeh_is_loading > 0) {\n",
       "        console.log(\"Bokeh: BokehJS is being loaded, scheduling callback at\", now());\n",
       "        return null;\n",
       "      }\n",
       "      if (js_urls == null || js_urls.length === 0) {\n",
       "        run_callbacks();\n",
       "        return null;\n",
       "      }\n",
       "      console.log(\"Bokeh: BokehJS not loaded, scheduling load and callback at\", now());\n",
       "      window._bokeh_is_loading = js_urls.length;\n",
       "      for (var i = 0; i < js_urls.length; i++) {\n",
       "        var url = js_urls[i];\n",
       "        var s = document.createElement('script');\n",
       "        s.src = url;\n",
       "        s.async = false;\n",
       "        s.onreadystatechange = s.onload = function() {\n",
       "          window._bokeh_is_loading--;\n",
       "          if (window._bokeh_is_loading === 0) {\n",
       "            console.log(\"Bokeh: all BokehJS libraries loaded\");\n",
       "            run_callbacks()\n",
       "          }\n",
       "        };\n",
       "        s.onerror = function() {\n",
       "          console.warn(\"failed to load library \" + url);\n",
       "        };\n",
       "        console.log(\"Bokeh: injecting script tag for BokehJS library: \", url);\n",
       "        document.getElementsByTagName(\"head\")[0].appendChild(s);\n",
       "      }\n",
       "    };var element = document.getElementById(\"66f937c1-74b1-4f4d-8027-554033657637\");\n",
       "    if (element == null) {\n",
       "      console.log(\"Bokeh: ERROR: autoload.js configured with elementid '66f937c1-74b1-4f4d-8027-554033657637' but no matching script tag was found. \")\n",
       "      return false;\n",
       "    }\n",
       "  \n",
       "    var js_urls = [];\n",
       "  \n",
       "    var inline_js = [\n",
       "      function(Bokeh) {\n",
       "        Bokeh.$(function() {\n",
       "            var docs_json = {\"59ddf732-c5bc-449c-8956-a7054449c708\":{\"roots\":{\"references\":[{\"attributes\":{\"bottom\":{\"field\":\"bottom\"},\"fill_alpha\":{\"value\":0.1},\"fill_color\":{\"value\":\"#1f77b4\"},\"left\":{\"field\":\"left\"},\"line_alpha\":{\"value\":0.1},\"line_color\":{\"value\":\"#1f77b4\"},\"right\":{\"field\":\"right\"},\"top\":{\"field\":\"top\"}},\"id\":\"f3b192a0-14aa-429b-a91f-2b0ce33a91da\",\"type\":\"Quad\"},{\"attributes\":{\"active_drag\":\"auto\",\"active_scroll\":\"auto\",\"active_tap\":\"auto\",\"tools\":[{\"id\":\"f4911970-b950-41fa-b45a-4da24894a75e\",\"type\":\"PanTool\"},{\"id\":\"18883a7a-c14e-4eca-8a82-2fe0236f6db9\",\"type\":\"WheelZoomTool\"},{\"id\":\"dc7bb2f5-84f7-42a6-9b09-b5bca79f3b11\",\"type\":\"BoxZoomTool\"},{\"id\":\"29995a32-bf38-4075-b998-dd2855f616f3\",\"type\":\"SaveTool\"},{\"id\":\"51d1dccc-8f7d-460b-a33b-69cd538a907b\",\"type\":\"ResetTool\"},{\"id\":\"403f36db-cd90-456b-9e6f-12739b26c7d7\",\"type\":\"HelpTool\"}]},\"id\":\"2a44b2d4-c569-425a-825e-eaecbc212368\",\"type\":\"Toolbar\"},{\"attributes\":{\"below\":[{\"id\":\"cd7f6be4-efcf-4082-9ecc-976ec9aba97c\",\"type\":\"LinearAxis\"}],\"left\":[{\"id\":\"5ed59c13-b78a-46a8-8e52-d5521e601673\",\"type\":\"LinearAxis\"}],\"plot_width\":900,\"renderers\":[{\"id\":\"cd7f6be4-efcf-4082-9ecc-976ec9aba97c\",\"type\":\"LinearAxis\"},{\"id\":\"668b6376-9ff8-46b7-8f74-c4d759137b0f\",\"type\":\"Grid\"},{\"id\":\"5ed59c13-b78a-46a8-8e52-d5521e601673\",\"type\":\"LinearAxis\"},{\"id\":\"29553f43-0913-4715-a934-fdce876a79b7\",\"type\":\"Grid\"},{\"id\":\"d0b217ec-78bd-4b78-b7fc-2612cd12e1ab\",\"type\":\"BoxAnnotation\"},{\"id\":\"c1f87577-cb78-4ad0-894d-4e6040e7a211\",\"type\":\"GlyphRenderer\"},{\"id\":\"ca83f778-0dbe-4824-996f-a78fcaf689a1\",\"type\":\"GlyphRenderer\"},{\"id\":\"a62e937a-2339-455d-bbd1-535767d68d0f\",\"type\":\"LabelSet\"},{\"id\":\"6a8433bc-2319-4ea1-b7e7-ce22244000a6\",\"type\":\"GlyphRenderer\"},{\"id\":\"7aecb653-7ad0-4f4b-be16-1eebb9549082\",\"type\":\"LabelSet\"}],\"title\":{\"id\":\"203b3fde-76c4-4679-97cb-22fda8fb1390\",\"type\":\"Title\"},\"tool_events\":{\"id\":\"1901f6eb-6100-48bb-b81b-d213b89a006b\",\"type\":\"ToolEvents\"},\"toolbar\":{\"id\":\"2a44b2d4-c569-425a-825e-eaecbc212368\",\"type\":\"Toolbar\"},\"toolbar_location\":null,\"x_range\":{\"id\":\"b978d456-8d1e-4e8f-892b-7793c5195ec1\",\"type\":\"Range1d\"},\"y_range\":{\"id\":\"a78819db-5b87-4023-a594-55fed1ed0bde\",\"type\":\"Range1d\"}},\"id\":\"d730ac30-923a-4b22-bb20-4950c2e194df\",\"subtype\":\"Figure\",\"type\":\"Plot\"},{\"attributes\":{\"level\":\"glyph\",\"plot\":{\"id\":\"d730ac30-923a-4b22-bb20-4950c2e194df\",\"subtype\":\"Figure\",\"type\":\"Plot\"},\"source\":{\"id\":\"87d21774-9787-4b93-80f8-002db9e2dee8\",\"type\":\"ColumnDataSource\"},\"text\":{\"field\":\"vals\"},\"text_font_size\":{\"value\":\"9pt\"},\"text_font_style\":\"bold\",\"x\":{\"field\":\"x\"},\"y\":{\"field\":\"y\"}},\"id\":\"a62e937a-2339-455d-bbd1-535767d68d0f\",\"type\":\"LabelSet\"},{\"attributes\":{\"callback\":null,\"column_names\":[\"xs\",\"ys\",\"line_color\"],\"data\":{\"line_color\":[\"black\",\"black\",\"black\",\"black\",\"black\",\"black\",\"black\",\"black\",\"black\",\"black\",\"black\",\"black\",\"black\",\"black\",\"black\",\"black\",\"black\",\"black\",\"black\",\"black\",\"black\",\"black\",\"black\",\"black\",\"black\",\"black\",\"black\",\"black\",\"black\",\"black\",\"black\",\"black\",\"black\",\"black\",\"black\",\"black\",\"black\",\"black\",\"black\",\"black\",\"black\",\"black\",\"black\",\"black\",\"black\",\"black\",\"black\",\"black\",\"black\",\"black\",\"black\",\"black\",\"black\",\"black\",\"black\",\"black\",\"black\",\"black\",\"black\",\"black\",\"black\",\"black\",\"black\",\"black\",\"black\",\"black\",\"black\",\"black\",\"black\",\"black\",\"black\",\"black\",\"black\",\"black\",\"black\",\"black\",\"black\",\"black\",\"black\",\"black\",\"black\",\"black\",\"black\",\"black\",\"black\",\"black\",\"black\",\"black\",\"black\",\"black\",\"black\",\"black\",\"black\",\"black\",\"black\",\"black\",\"black\",\"black\",\"black\",\"black\",\"black\",\"black\",\"black\",\"black\",\"black\",\"black\",\"black\",\"black\",\"black\",\"black\",\"black\",\"black\",\"black\",\"black\",\"black\",\"black\",\"black\",\"black\",\"black\",\"black\",\"black\",\"black\",\"black\",\"black\",\"black\",\"black\",\"black\",\"black\",\"black\",\"black\",\"black\",\"black\",\"black\",\"black\",\"black\",\"black\",\"black\",\"black\",\"black\",\"black\",\"black\",\"black\",\"black\",\"black\",\"black\",\"black\",\"black\",\"black\",\"black\",\"black\",\"black\",\"black\",\"black\",\"black\",\"black\",\"black\",\"black\",\"black\",\"black\",\"black\",\"black\",\"black\",\"black\",\"black\",\"black\",\"black\",\"black\",\"black\",\"black\",\"black\",\"black\",\"black\",\"black\",\"black\",\"black\",\"black\",\"black\",\"black\",\"black\",\"black\",\"black\",\"black\",\"black\",\"black\",\"black\",\"black\",\"black\",\"black\",\"black\",\"black\",\"black\",\"black\",\"black\",\"black\",\"black\",\"black\",\"black\",\"black\",\"black\",\"black\",\"black\",\"black\",\"black\",\"black\",\"black\",\"black\",\"black\",\"black\",\"black\",\"black\",\"black\",\"black\",\"black\",\"black\",\"black\",\"black\",\"black\",\"black\",\"black\",\"black\",\"black\",\"black\",\"black\",\"black\",\"black\",\"black\",\"black\",\"black\",\"black\",\"black\",\"black\",\"black\",\"black\",\"black\",\"black\",\"black\",\"black\",\"black\",\"black\",\"black\",\"black\",\"black\",\"black\",\"black\",\"black\",\"black\",\"black\",\"black\",\"black\",\"black\",\"black\",\"black\",\"black\",\"black\",\"black\",\"black\",\"black\",\"black\",\"black\",\"black\",\"black\",\"black\",\"black\",\"black\",\"black\",\"black\",\"black\",\"black\",\"black\",\"black\",\"black\",\"black\",\"black\",\"black\",\"black\",\"black\",\"black\",\"black\",\"black\",\"black\",\"black\",\"black\",\"black\",\"black\",\"black\",\"black\",\"black\",\"black\",\"black\",\"black\",\"black\",\"black\",\"black\",\"black\",\"black\",\"black\",\"black\",\"black\",\"black\",\"black\",\"black\",\"black\",\"black\",\"black\",\"black\",\"black\",\"black\",\"black\",\"black\",\"black\",\"black\",\"black\",\"black\",\"black\",\"black\",\"black\",\"black\",\"black\",\"black\",\"black\",\"black\",\"black\",\"black\",\"black\",\"black\",\"black\",\"black\",\"black\",\"black\",\"black\",\"black\",\"black\",\"black\",\"black\",\"black\",\"black\",\"black\",\"black\",\"black\",\"black\",\"black\",\"black\",\"black\",\"black\",\"black\",\"black\",\"black\",\"black\",\"black\",\"black\",\"black\",\"black\",\"black\",\"black\",\"black\",\"black\",\"black\",\"black\",\"black\",\"black\",\"black\",\"black\",\"black\",\"black\",\"black\",\"black\",\"black\",\"black\",\"black\",\"black\",\"black\",\"black\",\"black\",\"black\",\"black\",\"black\",\"black\",\"black\",\"black\",\"black\",\"black\",\"black\",\"black\",\"black\",\"black\",\"black\",\"black\",\"black\",\"black\",\"black\",\"black\",\"black\",\"black\",\"black\",\"black\",\"black\",\"black\",\"black\",\"black\",\"black\",\"black\",\"black\",\"black\",\"black\",\"black\",\"black\",\"black\",\"black\",\"black\",\"black\",\"black\",\"black\",\"black\",\"black\",\"black\",\"black\",\"black\",\"black\",\"black\",\"black\",\"black\",\"black\",\"black\",\"black\",\"black\",\"black\",\"black\",\"black\",\"black\",\"black\",\"black\",\"black\",\"black\",\"black\",\"black\",\"black\",\"black\",\"black\",\"black\",\"black\",\"black\",\"black\",\"black\",\"black\",\"black\",\"black\",\"black\",\"black\",\"black\",\"black\",\"black\",\"black\",\"black\",\"black\",\"black\",\"black\",\"black\",\"black\",\"black\",\"black\",\"black\",\"black\",\"black\",\"black\",\"black\",\"black\",\"black\",\"black\",\"black\",\"black\",\"black\",\"black\",\"black\",\"black\",\"black\",\"black\",\"black\",\"black\",\"black\",\"black\",\"black\",\"black\",\"black\",\"black\",\"black\",\"black\",\"black\",\"black\",\"black\",\"black\",\"black\",\"black\",\"black\",\"black\",\"black\",\"black\",\"black\",\"black\",\"black\",\"black\",\"black\",\"black\",\"black\",\"black\",\"black\",\"black\",\"black\",\"black\",\"black\",\"black\",\"black\",\"black\",\"black\",\"black\",\"black\",\"black\",\"black\",\"black\",\"black\",\"black\",\"black\",\"black\",\"black\",\"black\",\"black\",\"black\",\"black\",\"black\",\"black\",\"black\",\"black\",\"black\",\"black\",\"black\",\"black\",\"black\",\"black\",\"black\",\"black\",\"black\",\"black\",\"black\",\"black\",\"black\",\"black\",\"black\",\"black\",\"black\",\"black\",\"black\",\"black\",\"black\",\"black\",\"black\",\"black\",\"black\",\"black\",\"black\",\"black\",\"black\",\"black\",\"black\",\"black\",\"black\",\"black\",\"black\",\"black\",\"black\",\"black\",\"black\",\"black\",\"black\",\"black\",\"black\",\"black\",\"black\",\"black\",\"black\",\"black\",\"black\",\"black\",\"black\",\"black\",\"black\",\"black\",\"black\",\"black\",\"black\",\"black\"],\"xs\":[[135758231,135758231],[135758520,135758520],[135766072,135766072],[135773420,135773420],[135773446,135773446],[135773617,135773617],[135773692,135773692],[135774681,135774681],[135775049,135775049],[135776430,135776430],[135778656,135778656],[135780168,135780168],[135780587,135780587],[135781301,135781301],[135781522,135781522],[135781635,135781635],[135782456,135782456],[135783157,135783157],[135783366,135783366],[135783367,135783367],[135784227,135784227],[135784733,135784733],[135785066,135785066],[135785068,135785068],[135785149,135785149],[135787148,135787148],[135787642,135787642],[135789405,135789405],[135789472,135789472],[135789682,135789682],[135789784,135789784],[135792338,135792338],[135792528,135792528],[135793565,135793565],[135793684,135793684],[135793845,135793845],[135794367,135794367],[135794986,135794986],[135795040,135795040],[135795095,135795095],[135795150,135795150],[135795385,135795385],[135795396,135795396],[135795443,135795443],[135795595,135795595],[135796000,135796000],[135796155,135796155],[135796410,135796410],[135796965,135796965],[135797223,135797223],[135797747,135797747],[135798082,135798082],[135798758,135798758],[135799082,135799082],[135800085,135800085],[135800601,135800601],[135800757,135800757],[135801228,135801228],[135801956,135801956],[135802020,135802020],[135802028,135802028],[135802050,135802050],[135802148,135802148],[135803766,135803766],[135809241,135809241],[135812969,135812969],[135814716,135814716],[135818907,135818907],[135829432,135829432],[135832131,135832131],[135849613,135849613],[135853807,135853807],[135859923,135859923],[135860305,135860305],[135861497,135861497],[135863143,135863143],[135864294,135864294],[135871624,135871624],[135872646,135872646],[135874038,135874038],[135874622,135874622],[135878814,135878814],[135880013,135880013],[135884487,135884487],[135885357,135885357],[135893853,135893853],[135895809,135895809],[135895879,135895879],[135899069,135899069],[135909462,135909462],[135912977,135912977],[135914038,135914038],[135921839,135921839],[135925002,135925002],[135928312,135928312],[135935049,135935049],[135962711,135962711],[135984172,135984172],[135994753,135994753],[135994754,135994754],[136016079,136016079],[136027264,136027264],[136052004,136052004],[136100473,136100473],[136110129,136110129],[136166536,136166536],[136169799,136169799],[136191314,136191314],[136228887,136228887],[136238453,136238453],[136288273,136288273],[136292425,136292425],[136321951,136321951],[136324564,136324564],[136327299,136327299],[136327302,136327302],[136376515,136376515],[135766890,135766890],[135778708,135778708],[135779588,135779588],[135805941,135805941],[135805943,135805943],[135932720,135932720],[135933317,135933317],[135934842,135934842],[135952376,135952376],[135958853,135958853],[135962864,135962864],[135963304,135963304],[135965376,135965376],[135980201,135980201],[135981554,135981554],[135988127,135988127],[135988416,135988416],[135991470,135991470],[136000500,136000500],[136001215,136001215],[136001295,136001295],[136016514,136016514],[136017388,136017388],[136041102,136041102],[136041662,136041662],[136047387,136047387],[136052936,136052936],[136055275,136055275],[136063118,136063118],[136066802,136066802],[136068890,136068890],[136069577,136069577],[136081193,136081193],[136105193,136105193],[136107839,136107839],[136110835,136110835],[136138026,136138026],[136142092,136142092],[136146499,136146499],[136147607,136147607],[136148401,136148401],[136150512,136150512],[136154734,136154734],[136155805,136155805],[136163001,136163001],[136163266,136163266],[136163568,136163568],[136163821,136163821],[136165965,136165965],[136183312,136183312],[136185945,136185945],[136191729,136191729],[136204827,136204827],[136208747,136208747],[136217980,136217980],[136229438,136229438],[136232572,136232572],[136240942,136240942],[136251329,136251329],[136265187,136265187],[136265188,136265188],[136275985,136275985],[135769240,135769240],[135775679,135775679],[135776654,135776654],[135779989,135779989],[135790113,135790113],[135795146,135795146],[135798635,135798635],[135801926,135801926],[135811188,135811188],[135819013,135819013],[135819513,135819513],[135819780,135819780],[135821332,135821332],[135821676,135821676],[135821993,135821993],[135822311,135822311],[135823639,135823639],[135830336,135830336],[135830617,135830617],[135830805,135830805],[135832014,135832014],[135837481,135837481],[135838094,135838094],[135838407,135838407],[135846114,135846114],[135854369,135854369],[135856671,135856671],[135859827,135859827],[135860347,135860347],[135861038,135861038],[135863516,135863516],[135866555,135866555],[135867373,135867373],[135869590,135869590],[135881194,135881194],[135881477,135881477],[135882391,135882391],[135888827,135888827],[135890553,135890553],[135891360,135891360],[135897567,135897567],[135900218,135900218],[135905949,135905949],[135909647,135909647],[135909907,135909907],[135912277,135912277],[135912645,135912645],[135914642,135914642],[135915190,135915190],[135917969,135917969],[135927346,135927346],[135930832,135930832],[135932468,135932468],[135933695,135933695],[135934807,135934807],[135934852,135934852],[135938287,135938287],[135945971,135945971],[135948340,135948340],[135949143,135949143],[135951639,135951639],[135957087,135957087],[135958451,135958451],[135962106,135962106],[135969510,135969510],[135972041,135972041],[135978043,135978043],[135985885,135985885],[135990912,135990912],[135992317,135992317],[136003581,136003581],[136008550,136008550],[136009382,136009382],[136028894,136028894],[136032873,136032873],[136038061,136038061],[136039638,136039638],[136040972,136040972],[136049936,136049936],[136054795,136054795],[136057955,136057955],[136064335,136064335],[136064741,136064741],[136066863,136066863],[136077256,136077256],[136082398,136082398],[136082399,136082399],[136082428,136082428],[136082464,136082464],[136086800,136086800],[136096932,136096932],[136097877,136097877],[136097960,136097960],[136112643,136112643],[136113845,136113845],[136115806,136115806],[136116092,136116092],[136120042,136120042],[136122168,136122168],[136123768,136123768],[136124508,136124508],[136126309,136126309],[136132505,136132505],[136132704,136132704],[136137936,136137936],[136139103,136139103],[136139506,136139506],[136143493,136143493],[136144113,136144113],[136149213,136149213],[136151252,136151252],[136154993,136154993],[136155729,136155729],[136156335,136156335],[136159683,136159683],[136163956,136163956],[136164114,136164114],[136166437,136166437],[136166511,136166511],[136169830,136169830],[136170081,136170081],[136170318,136170318],[136173354,136173354],[136173562,136173562],[136175684,136175684],[136176991,136176991],[136177726,136177726],[136178944,136178944],[136180920,136180920],[136183187,136183187],[136184170,136184170],[136192621,136192621],[136195642,136195642],[136200886,136200886],[136200957,136200957],[136202788,136202788],[136209103,136209103],[136211015,136211015],[136212781,136212781],[136213377,136213377],[136218364,136218364],[136221951,136221951],[136222181,136222181],[136223624,136223624],[136224203,136224203],[136224481,136224481],[136228905,136228905],[136229120,136229120],[136230002,136230002],[136236007,136236007],[136237438,136237438],[136237803,136237803],[136237967,136237967],[136242219,136242219],[136245297,136245297],[136247425,136247425],[136248075,136248075],[136248808,136248808],[136249592,136249592],[136251533,136251533],[136253260,136253260],[136254669,136254669],[136255510,136255510],[136256138,136256138],[136259181,136259181],[136259814,136259814],[136262461,136262461],[136263873,136263873],[136266648,136266648],[136271146,136271146],[136273035,136273035],[136275433,136275433],[136277483,136277483],[136279131,136279131],[136283367,136283367],[136286647,136286647],[136287630,136287630],[136288460,136288460],[136289685,136289685],[136293257,136293257],[136296110,136296110],[136297327,136297327],[136298967,136298967],[136300143,136300143],[136303912,136303912],[136304538,136304538],[136304671,136304671],[136304809,136304809],[136312586,136312586],[136312653,136312653],[136316662,136316662],[136317926,136317926],[136322254,136322254],[136322849,136322849],[136324620,136324620],[136325049,136325049],[136327601,136327601],[136334099,136334099],[136339534,136339534],[136339845,136339845],[136343401,136343401],[136354814,136354814],[136357638,136357638],[136361093,136361093],[136371668,136371668],[136379205,136379205],[136386153,136386153],[136386690,136386690],[136386758,136386758],[135810535,135810535],[135817760,135817760],[135857538,135857538],[135862191,135862191],[135869380,135869380],[135869761,135869761],[135886486,135886486],[135888078,135888078],[135898023,135898023],[135933921,135933921],[135939824,135939824],[135941503,135941503],[135943900,135943900],[135945474,135945474],[135949715,135949715],[135956745,135956745],[135958693,135958693],[135967778,135967778],[135972093,135972093],[135973768,135973768],[135976498,135976498],[135978428,135978428],[135990031,135990031],[135992481,135992481],[135993925,135993925],[135994838,135994838],[136000253,136000253],[136003567,136003567],[136005477,136005477],[136005971,136005971],[136020977,136020977],[136027535,136027535],[136031588,136031588],[136032905,136032905],[136042480,136042480],[136043885,136043885],[136050471,136050471],[136052898,136052898],[136054815,136054815],[136056285,136056285],[136061560,136061560],[136063685,136063685],[136069060,136069060],[136072179,136072179],[136074233,136074233],[136080721,136080721],[136080822,136080822],[136088440,136088440],[136088643,136088643],[136092416,136092416],[136092869,136092869],[136094615,136094615],[136095505,136095505],[136095604,136095604],[136096766,136096766],[136097091,136097091],[136097394,136097394],[136100243,136100243],[136101823,136101823],[136106561,136106561],[136115501,136115501],[136122622,136122622],[136123014,136123014],[136123848,136123848],[136127100,136127100],[136127950,136127950],[136128630,136128630],[136129630,136129630],[136129791,136129791],[136131324,136131324],[136135383,136135383],[136135994,136135994],[136136224,136136224],[136136366,136136366],[136136440,136136440],[136138145,136138145],[136140568,136140568],[136145882,136145882],[136147948,136147948],[136148630,136148630],[136151485,136151485],[136152802,136152802],[136156753,136156753],[136157913,136157913],[136160902,136160902],[136165765,136165765],[136171649,136171649],[136173220,136173220],[136173735,136173735],[136174552,136174552],[136175692,136175692],[136176805,136176805],[136182484,136182484],[136183188,136183188],[136187252,136187252],[136187345,136187345],[136189475,136189475],[136197702,136197702],[136198435,136198435],[136202937,136202937],[136219999,136219999],[136221500,136221500],[136226626,136226626],[136228929,136228929],[136229598,136229598],[136238270,136238270],[136238346,136238346],[136240769,136240769],[136244171,136244171],[136249245,136249245],[136250285,136250285],[136254419,136254419],[136266241,136266241],[136267808,136267808],[136272074,136272074],[136277304,136277304],[136290607,136290607],[136290663,136290663],[136291310,136291310],[136296051,136296051],[136305392,136305392],[136306890,136306890],[136310803,136310803],[136324225,136324225],[136324465,136324465],[136327305,136327305],[136329618,136329618],[136333300,136333300],[136350089,136350089],[136354204,136354204],[136360455,136360455],[136368563,136368563],[135946660,135946660],[135948297,135948297],[135982812,135982812],[136068800,136068800],[136103328,136103328],[136309239,136309239],[136322472,136322472],[136323787,136323787],[136323862,136323862],[136326765,136326765],[136329500,136329500],[136331657,136331657],[136345356,136345356],[136361560,136361560],[136364916,136364916],[136369497,136369497],[136369580,136369580],[136380846,136380846],[136387893,136387893],[136398174,136398174],[136402117,136402117],[136403749,136403749],[136409073,136409073],[136410299,136410299],[136413359,136413359],[136416855,136416855],[136416941,136416941],[136418348,136418348],[136419961,136419961],[136420690,136420690],[136422171,136422171],[136428460,136428460],[136430866,136430866],[136432103,136432103],[136437507,136437507],[136439090,136439090],[136439517,136439517],[136444123,136444123],[136445526,136445526],[136445869,136445869],[136455600,136455600],[136456642,136456642],[136462441,136462441],[136470714,136470714],[136474098,136474098],[136428402,136428402],[136443005,136443005],[136452676,136452676],[136470407,136470407],[136474079,136474079],[136474234,136474234],[136515584,136515584],[136546910,136546910],[136561197,136561197],[136605093,136605093],[136605441,136605441],[136627309,136627309],[136649405,136649405],[136649641,136649641],[136501840,136501840],[136505546,136505546],[136516748,136516748],[136522710,136522710],[136528004,136528004],[136539513,136539513],[136544752,136544752],[136546110,136546110],[136553529,136553529],[136555659,136555659]],\"ys\":[[450,496],[450,496],[450,496],[450,496],[450,496],[450,496],[450,496],[450,496],[450,496],[450,496],[450,496],[450,496],[450,496],[450,496],[450,496],[450,496],[450,496],[450,496],[450,496],[450,496],[450,496],[450,496],[450,496],[450,496],[450,496],[450,496],[450,496],[450,496],[450,496],[450,496],[450,496],[450,496],[450,496],[450,496],[450,496],[450,496],[450,496],[450,496],[450,496],[450,496],[450,496],[450,496],[450,496],[450,496],[450,496],[450,496],[450,496],[450,496],[450,496],[450,496],[450,496],[450,496],[450,496],[450,496],[450,496],[450,496],[450,496],[450,496],[450,496],[450,496],[450,496],[450,496],[450,496],[450,496],[450,496],[450,496],[450,496],[450,496],[450,496],[450,496],[450,496],[450,496],[450,496],[450,496],[450,496],[450,496],[450,496],[450,496],[450,496],[450,496],[450,496],[450,496],[450,496],[450,496],[450,496],[450,496],[450,496],[450,496],[450,496],[450,496],[450,496],[450,496],[450,496],[450,496],[450,496],[450,496],[450,496],[450,496],[450,496],[450,496],[450,496],[450,496],[450,496],[450,496],[450,496],[450,496],[450,496],[450,496],[450,496],[450,496],[450,496],[450,496],[450,496],[450,496],[450,496],[450,496],[450,496],[250,293],[250,293],[250,293],[250,293],[250,293],[250,293],[250,293],[250,293],[250,293],[250,293],[250,293],[250,293],[250,293],[250,293],[250,293],[250,293],[250,293],[250,293],[250,293],[250,293],[250,293],[250,293],[250,293],[250,293],[250,293],[250,293],[250,293],[250,293],[250,293],[250,293],[250,293],[250,293],[250,293],[250,293],[250,293],[250,293],[250,293],[250,293],[250,293],[250,293],[250,293],[250,293],[250,293],[250,293],[250,293],[250,293],[250,293],[250,293],[250,293],[250,293],[250,293],[250,293],[250,293],[250,293],[250,293],[250,293],[250,293],[250,293],[250,293],[250,293],[250,293],[250,293],[50,66],[50,66],[50,66],[50,66],[50,66],[50,66],[50,66],[50,66],[50,66],[50,66],[50,66],[50,66],[50,66],[50,66],[50,66],[50,66],[50,66],[50,66],[50,66],[50,66],[50,66],[50,66],[50,66],[50,66],[50,66],[50,66],[50,66],[50,66],[50,66],[50,66],[50,66],[50,66],[50,66],[50,66],[50,66],[50,66],[50,66],[50,66],[50,66],[50,66],[50,66],[50,66],[50,66],[50,66],[50,66],[50,66],[50,66],[50,66],[50,66],[50,66],[50,66],[50,66],[50,66],[50,66],[50,66],[50,66],[50,66],[50,66],[50,66],[50,66],[50,66],[50,66],[50,66],[50,66],[50,66],[50,66],[50,66],[50,66],[50,66],[50,66],[50,66],[50,66],[50,66],[50,66],[50,66],[50,66],[50,66],[50,66],[50,66],[50,66],[50,66],[50,66],[50,66],[50,66],[50,66],[50,66],[50,66],[50,66],[50,66],[50,66],[50,66],[50,66],[50,66],[50,66],[50,66],[50,66],[50,66],[50,66],[50,66],[50,66],[50,66],[50,66],[50,66],[50,66],[50,66],[50,66],[50,66],[50,66],[50,66],[50,66],[50,66],[50,66],[50,66],[50,66],[50,66],[50,66],[50,66],[50,66],[50,66],[50,66],[50,66],[50,66],[50,66],[50,66],[50,66],[50,66],[50,66],[50,66],[50,66],[50,66],[50,66],[50,66],[50,66],[50,66],[50,66],[50,66],[50,66],[50,66],[50,66],[50,66],[50,66],[50,66],[50,66],[50,66],[50,66],[50,66],[50,66],[50,66],[50,66],[50,66],[50,66],[50,66],[50,66],[50,66],[50,66],[50,66],[50,66],[50,66],[50,66],[50,66],[50,66],[50,66],[50,66],[50,66],[50,66],[50,66],[50,66],[50,66],[50,66],[50,66],[50,66],[50,66],[50,66],[50,66],[50,66],[50,66],[50,66],[50,66],[50,66],[50,66],[50,66],[50,66],[50,66],[50,66],[50,66],[50,66],[50,66],[50,66],[50,66],[50,66],[50,66],[50,66],[50,66],[50,66],[50,66],[50,66],[50,66],[50,66],[50,66],[50,66],[50,66],[50,66],[50,66],[50,66],[50,66],[50,66],[50,66],[50,66],[50,66],[150,186],[150,186],[150,186],[150,186],[150,186],[150,186],[150,186],[150,186],[150,186],[350,395],[350,395],[350,395],[350,395],[350,395],[350,395],[350,395],[350,395],[350,395],[350,395],[350,395],[350,395],[350,395],[350,395],[350,395],[350,395],[350,395],[350,395],[350,395],[350,395],[350,395],[350,395],[350,395],[350,395],[350,395],[350,395],[350,395],[350,395],[350,395],[350,395],[350,395],[350,395],[350,395],[350,395],[350,395],[350,395],[350,395],[350,395],[350,395],[350,395],[350,395],[350,395],[350,395],[350,395],[350,395],[350,395],[350,395],[350,395],[350,395],[350,395],[350,395],[350,395],[350,395],[350,395],[350,395],[350,395],[350,395],[350,395],[350,395],[350,395],[350,395],[350,395],[350,395],[350,395],[350,395],[350,395],[350,395],[350,395],[350,395],[350,395],[350,395],[350,395],[350,395],[350,395],[350,395],[350,395],[350,395],[350,395],[350,395],[350,395],[350,395],[350,395],[350,395],[350,395],[350,395],[350,395],[350,395],[350,395],[350,395],[350,395],[350,395],[350,395],[350,395],[350,395],[350,395],[350,395],[350,395],[350,395],[350,395],[350,395],[350,395],[350,395],[350,395],[350,395],[350,395],[350,395],[350,395],[350,395],[350,395],[350,395],[350,395],[350,395],[350,395],[350,395],[350,395],[350,395],[350,395],[350,395],[350,395],[350,395],[350,395],[350,395],[350,395],[150,171],[150,171],[150,171],[150,171],[150,171],[250,290],[250,290],[250,290],[250,290],[250,290],[250,290],[250,290],[250,290],[250,290],[150,187],[150,187],[150,187],[150,187],[150,187],[350,394],[350,394],[350,394],[350,394],[350,394],[350,394],[350,394],[350,394],[350,394],[350,394],[350,394],[350,394],[350,394],[350,394],[350,394],[350,394],[350,394],[350,394],[350,394],[350,394],[350,394],[350,394],[350,394],[350,394],[350,394],[350,394],[50,65],[50,65],[50,65],[50,65],[50,65],[50,65],[50,65],[50,65],[50,65],[50,65],[50,65],[50,65],[50,65],[50,65],[450,498],[450,498],[450,498],[450,498],[450,498],[450,498],[450,498],[450,498],[450,498],[450,498]]}},\"id\":\"5807f796-c5f6-4bc7-b3da-b91665aabd1e\",\"type\":\"ColumnDataSource\"},{\"attributes\":{\"callback\":null,\"column_names\":[\"right\",\"bottom\",\"top\",\"left\",\"fill_color\"],\"data\":{\"bottom\":[450,250,50,150,350,150,250,150,350,50,450],\"fill_color\":[\"#808080\",\"#808080\",\"#ff0000\",\"#ff0000\",\"#c46161\",\"#ff0000\",\"#ff0000\",\"#ff0000\",\"#61c461\",\"#ff0000\",\"#808080\"],\"left\":[135758231,135766890,135769240,135810535,135933921,135946660,136309239,136364916,136398174,136428402,136501840],\"right\":[136376515,136275985,136386758,135898023,136368563,136103328,136361560,136387893,136474098,136649641,136555659],\"top\":[496,293,66,186,395,171,290,187,394,65,498]}},\"id\":\"dbaa2f7b-78e0-4bc6-bc4d-a88e236dbad4\",\"type\":\"ColumnDataSource\"},{\"attributes\":{\"data_source\":{\"id\":\"dbaa2f7b-78e0-4bc6-bc4d-a88e236dbad4\",\"type\":\"ColumnDataSource\"},\"glyph\":{\"id\":\"63f1e127-0737-45b1-9f31-df15112f6d75\",\"type\":\"Quad\"},\"hover_glyph\":null,\"nonselection_glyph\":{\"id\":\"81dbf939-d6f4-4485-b81a-f9764cf77ebd\",\"type\":\"Quad\"},\"selection_glyph\":null},\"id\":\"c1f87577-cb78-4ad0-894d-4e6040e7a211\",\"type\":\"GlyphRenderer\"},{\"attributes\":{\"callback\":null,\"column_names\":[\"y\",\"x\",\"vals\"],\"data\":{\"vals\":[\"RAB3GAP1\",\"ZRANB3\",\"R3HDM1\",\"UBXN4\",\"LCT\",\"MCM6\",\"DARS\"],\"x\":[135869057.0,136122878.0,136385961.0,136520911.0,136570082.5,136615621.5,136703738.0],\"y\":[560.0,560.0,560.0,560.0,560.0,560.0,560.0]}},\"id\":\"d35ccd32-d1b9-41f1-8041-8c575f7ba8f9\",\"type\":\"ColumnDataSource\"},{\"attributes\":{\"callback\":null,\"end\":600},\"id\":\"a78819db-5b87-4023-a594-55fed1ed0bde\",\"type\":\"Range1d\"},{\"attributes\":{\"plot\":{\"id\":\"d730ac30-923a-4b22-bb20-4950c2e194df\",\"subtype\":\"Figure\",\"type\":\"Plot\"},\"ticker\":{\"id\":\"3925d912-b1ac-420d-b3a6-eee460fa94d6\",\"type\":\"BasicTicker\"}},\"id\":\"668b6376-9ff8-46b7-8f74-c4d759137b0f\",\"type\":\"Grid\"},{\"attributes\":{},\"id\":\"3925d912-b1ac-420d-b3a6-eee460fa94d6\",\"type\":\"BasicTicker\"},{\"attributes\":{\"plot\":{\"id\":\"d730ac30-923a-4b22-bb20-4950c2e194df\",\"subtype\":\"Figure\",\"type\":\"Plot\"}},\"id\":\"403f36db-cd90-456b-9e6f-12739b26c7d7\",\"type\":\"HelpTool\"},{\"attributes\":{\"callback\":null,\"end\":136786630,\"start\":135757320},\"id\":\"b978d456-8d1e-4e8f-892b-7793c5195ec1\",\"type\":\"Range1d\"},{\"attributes\":{\"line_color\":{\"field\":\"line_color\"},\"xs\":{\"field\":\"xs\"},\"ys\":{\"field\":\"ys\"}},\"id\":\"3ca287cc-8d97-497b-8efa-844084669360\",\"type\":\"MultiLine\"},{\"attributes\":{\"data_source\":{\"id\":\"5807f796-c5f6-4bc7-b3da-b91665aabd1e\",\"type\":\"ColumnDataSource\"},\"glyph\":{\"id\":\"3ca287cc-8d97-497b-8efa-844084669360\",\"type\":\"MultiLine\"},\"hover_glyph\":null,\"nonselection_glyph\":{\"id\":\"fe929ef6-349f-4aa6-a306-ed59d6be91b2\",\"type\":\"MultiLine\"},\"selection_glyph\":null},\"id\":\"ca83f778-0dbe-4824-996f-a78fcaf689a1\",\"type\":\"GlyphRenderer\"},{\"attributes\":{},\"id\":\"c8c46948-13f5-4f33-aca4-bc3fbac6e25f\",\"type\":\"BasicTickFormatter\"},{\"attributes\":{\"formatter\":{\"id\":\"c8c46948-13f5-4f33-aca4-bc3fbac6e25f\",\"type\":\"BasicTickFormatter\"},\"plot\":{\"id\":\"d730ac30-923a-4b22-bb20-4950c2e194df\",\"subtype\":\"Figure\",\"type\":\"Plot\"},\"ticker\":{\"id\":\"bcc676a6-252b-4f44-965e-2f7717108ea9\",\"type\":\"BasicTicker\"},\"visible\":null},\"id\":\"5ed59c13-b78a-46a8-8e52-d5521e601673\",\"type\":\"LinearAxis\"},{\"attributes\":{\"formatter\":{\"id\":\"1bf8a93e-92f9-4c37-a31d-b41bd34767e5\",\"type\":\"BasicTickFormatter\"},\"plot\":{\"id\":\"d730ac30-923a-4b22-bb20-4950c2e194df\",\"subtype\":\"Figure\",\"type\":\"Plot\"},\"ticker\":{\"id\":\"3925d912-b1ac-420d-b3a6-eee460fa94d6\",\"type\":\"BasicTicker\"}},\"id\":\"cd7f6be4-efcf-4082-9ecc-976ec9aba97c\",\"type\":\"LinearAxis\"},{\"attributes\":{},\"id\":\"1901f6eb-6100-48bb-b81b-d213b89a006b\",\"type\":\"ToolEvents\"},{\"attributes\":{\"bottom\":{\"field\":\"bottom\"},\"fill_alpha\":{\"value\":0.1},\"fill_color\":{\"value\":\"#1f77b4\"},\"left\":{\"field\":\"left\"},\"line_alpha\":{\"value\":0.1},\"line_color\":{\"value\":\"#1f77b4\"},\"right\":{\"field\":\"right\"},\"top\":{\"field\":\"top\"}},\"id\":\"81dbf939-d6f4-4485-b81a-f9764cf77ebd\",\"type\":\"Quad\"},{\"attributes\":{\"level\":\"glyph\",\"plot\":{\"id\":\"d730ac30-923a-4b22-bb20-4950c2e194df\",\"subtype\":\"Figure\",\"type\":\"Plot\"},\"source\":{\"id\":\"d35ccd32-d1b9-41f1-8041-8c575f7ba8f9\",\"type\":\"ColumnDataSource\"},\"text\":{\"field\":\"vals\"},\"text_align\":\"center\",\"text_baseline\":\"middle\",\"text_font_size\":{\"value\":\"8pt\"},\"x\":{\"field\":\"x\"},\"y\":{\"field\":\"y\"}},\"id\":\"7aecb653-7ad0-4f4b-be16-1eebb9549082\",\"type\":\"LabelSet\"},{\"attributes\":{\"plot\":{\"id\":\"d730ac30-923a-4b22-bb20-4950c2e194df\",\"subtype\":\"Figure\",\"type\":\"Plot\"}},\"id\":\"f4911970-b950-41fa-b45a-4da24894a75e\",\"type\":\"PanTool\"},{\"attributes\":{},\"id\":\"bcc676a6-252b-4f44-965e-2f7717108ea9\",\"type\":\"BasicTicker\"},{\"attributes\":{\"data_source\":{\"id\":\"a16cc4c9-068a-428b-b499-73be78ab09cd\",\"type\":\"ColumnDataSource\"},\"glyph\":{\"id\":\"61d0370c-d666-4917-9b71-b3999de3ad7c\",\"type\":\"Quad\"},\"hover_glyph\":null,\"nonselection_glyph\":{\"id\":\"f3b192a0-14aa-429b-a91f-2b0ce33a91da\",\"type\":\"Quad\"},\"selection_glyph\":null},\"id\":\"6a8433bc-2319-4ea1-b7e7-ce22244000a6\",\"type\":\"GlyphRenderer\"},{\"attributes\":{\"callback\":null,\"column_names\":[\"y\",\"x\",\"vals\"],\"data\":{\"vals\":[\"117_1685\",\"62_1265\",\"209_56\",\"9_545\",\"123_1561\",\"5_96\",\"9_887\",\"5_588\",\"26_1414\",\"14_48\",\"10_2206\"],\"x\":[135758231,135766890,135769240,135810535,135933921,135946660,136309239,136364916,136398174,136428402,136501840],\"y\":[501.0,298.0,71.0,191.0,400.0,176.0,295.0,192.0,399.0,70.0,503.0]}},\"id\":\"87d21774-9787-4b93-80f8-002db9e2dee8\",\"type\":\"ColumnDataSource\"},{\"attributes\":{\"plot\":{\"id\":\"d730ac30-923a-4b22-bb20-4950c2e194df\",\"subtype\":\"Figure\",\"type\":\"Plot\"}},\"id\":\"18883a7a-c14e-4eca-8a82-2fe0236f6db9\",\"type\":\"WheelZoomTool\"},{\"attributes\":{\"plot\":null,\"text\":null},\"id\":\"203b3fde-76c4-4679-97cb-22fda8fb1390\",\"type\":\"Title\"},{\"attributes\":{\"bottom\":{\"field\":\"bottom\"},\"fill_color\":{\"value\":\"white\"},\"left\":{\"field\":\"left\"},\"right\":{\"field\":\"right\"},\"top\":{\"field\":\"top\"}},\"id\":\"61d0370c-d666-4917-9b71-b3999de3ad7c\",\"type\":\"Quad\"},{\"attributes\":{\"callback\":null,\"column_names\":[\"right\",\"bottom\",\"top\",\"left\"],\"data\":{\"bottom\":[545,545,545,545,545,545,545],\"left\":[135809835,135957574,136289083,136499189,136545415,136597196,136664254],\"right\":[135928279,136288182,136482839,136542633,136594750,136634047,136743222],\"top\":[575,575,575,575,575,575,575]}},\"id\":\"a16cc4c9-068a-428b-b499-73be78ab09cd\",\"type\":\"ColumnDataSource\"},{\"attributes\":{\"bottom_units\":\"screen\",\"fill_alpha\":{\"value\":0.5},\"fill_color\":{\"value\":\"lightgrey\"},\"left_units\":\"screen\",\"level\":\"overlay\",\"line_alpha\":{\"value\":1.0},\"line_color\":{\"value\":\"black\"},\"line_dash\":[4,4],\"line_width\":{\"value\":2},\"plot\":null,\"render_mode\":\"css\",\"right_units\":\"screen\",\"top_units\":\"screen\"},\"id\":\"d0b217ec-78bd-4b78-b7fc-2612cd12e1ab\",\"type\":\"BoxAnnotation\"},{\"attributes\":{\"overlay\":{\"id\":\"d0b217ec-78bd-4b78-b7fc-2612cd12e1ab\",\"type\":\"BoxAnnotation\"},\"plot\":{\"id\":\"d730ac30-923a-4b22-bb20-4950c2e194df\",\"subtype\":\"Figure\",\"type\":\"Plot\"}},\"id\":\"dc7bb2f5-84f7-42a6-9b09-b5bca79f3b11\",\"type\":\"BoxZoomTool\"},{\"attributes\":{\"dimension\":1,\"plot\":{\"id\":\"d730ac30-923a-4b22-bb20-4950c2e194df\",\"subtype\":\"Figure\",\"type\":\"Plot\"},\"ticker\":{\"id\":\"bcc676a6-252b-4f44-965e-2f7717108ea9\",\"type\":\"BasicTicker\"}},\"id\":\"29553f43-0913-4715-a934-fdce876a79b7\",\"type\":\"Grid\"},{\"attributes\":{\"plot\":{\"id\":\"d730ac30-923a-4b22-bb20-4950c2e194df\",\"subtype\":\"Figure\",\"type\":\"Plot\"}},\"id\":\"29995a32-bf38-4075-b998-dd2855f616f3\",\"type\":\"SaveTool\"},{\"attributes\":{\"plot\":{\"id\":\"d730ac30-923a-4b22-bb20-4950c2e194df\",\"subtype\":\"Figure\",\"type\":\"Plot\"}},\"id\":\"51d1dccc-8f7d-460b-a33b-69cd538a907b\",\"type\":\"ResetTool\"},{\"attributes\":{},\"id\":\"1bf8a93e-92f9-4c37-a31d-b41bd34767e5\",\"type\":\"BasicTickFormatter\"},{\"attributes\":{\"bottom\":{\"field\":\"bottom\"},\"fill_color\":{\"field\":\"fill_color\"},\"left\":{\"field\":\"left\"},\"line_color\":{\"value\":null},\"right\":{\"field\":\"right\"},\"top\":{\"field\":\"top\"}},\"id\":\"63f1e127-0737-45b1-9f31-df15112f6d75\",\"type\":\"Quad\"},{\"attributes\":{\"line_alpha\":{\"value\":0.1},\"line_color\":{\"value\":\"#1f77b4\"},\"xs\":{\"field\":\"xs\"},\"ys\":{\"field\":\"ys\"}},\"id\":\"fe929ef6-349f-4aa6-a306-ed59d6be91b2\",\"type\":\"MultiLine\"}],\"root_ids\":[\"d730ac30-923a-4b22-bb20-4950c2e194df\"]},\"title\":\"Bokeh Application\",\"version\":\"0.12.0\"}};\n",
       "            var render_items = [{\"docid\":\"59ddf732-c5bc-449c-8956-a7054449c708\",\"elementid\":\"66f937c1-74b1-4f4d-8027-554033657637\",\"modelid\":\"d730ac30-923a-4b22-bb20-4950c2e194df\",\"notebook_comms_target\":\"db4e596a-df84-48d3-ac81-93485550acd1\"}];\n",
       "            \n",
       "            Bokeh.embed.embed_items(docs_json, render_items);\n",
       "        });\n",
       "      },\n",
       "      function(Bokeh) {\n",
       "      }\n",
       "    ];\n",
       "  \n",
       "    function run_inline_js() {\n",
       "      for (var i = 0; i < inline_js.length; i++) {\n",
       "        inline_js[i](window.Bokeh);\n",
       "      }\n",
       "    }\n",
       "  \n",
       "    if (window._bokeh_is_loading === 0) {\n",
       "      console.log(\"Bokeh: BokehJS loaded, going straight to plotting\");\n",
       "      run_inline_js();\n",
       "    } else {\n",
       "      load_libs(js_urls, function() {\n",
       "        console.log(\"Bokeh: BokehJS plotting callback run at\", now());\n",
       "        run_inline_js();\n",
       "      });\n",
       "    }\n",
       "  }(this));\n",
       "</script>"
      ]
     },
     "metadata": {},
     "output_type": "display_data"
    },
    {
     "data": {
      "text/html": [
       "<p><code>&lt;Bokeh Notebook handle for <strong>In[10]</strong>&gt;</code></p>"
      ],
      "text/plain": [
       "<bokeh.io._CommsHandle at 0x7f4364fc1d90>"
      ]
     },
     "execution_count": 10,
     "metadata": {},
     "output_type": "execute_result"
    }
   ],
   "source": [
    "plt_obj = dm.superset_yes_no([dm.di_26_1414, dm.di_117_1685], min_match=0.5)\n",
    "plt = plt_obj.do_plot()\n",
    "show(plt)"
   ]
  },
  {
   "cell_type": "code",
   "execution_count": 11,
   "metadata": {
    "collapsed": false
   },
   "outputs": [
    {
     "data": {
      "text/html": [
       "<table>\n",
       "<thead><tr><th style=\"text-align:center\">index</th><th style=\"text-align:center\">first</th><th style=\"text-align:center\">length</th><th style=\"text-align:center\">snps</th><th style=\"text-align:center\" colspan=2>alleles</th><th style=\"text-align:center\" colspan=2>matches</th><th style=\"text-align:center\" colspan=2>afr</th><th style=\"text-align:center\" colspan=2>afx</th><th style=\"text-align:center\" colspan=2>amr</th><th style=\"text-align:center\" colspan=2>eas</th><th style=\"text-align:center\" colspan=2>eur</th><th style=\"text-align:center\" colspan=2>sas</th><th style=\"text-align:center\" colspan=2>sax</th></tr></thead>\n",
       "<tr class=\"even\"><td style=\"text-align: right;\">353921</td><td style=\"text-align: right;\">136,501,840</td><td style=\"text-align: right;\">53,819</td><td style=\"text-align: right;\">10</td><td style=\"text-align: right;\">2206</td><td style=\"text-align: right;\">0.04</td><td style=\"text-align: right;\">80</td><td style=\"text-align: right;\">0.99</td><td style=\"text-align: right;\">52</td><td style=\"text-align: right;\">3.23</td><td style=\"text-align: right;\">16</td><td style=\"text-align: right;\">3.19</td><td style=\"text-align: right;\">4</td><td style=\"text-align: right;\">0.36</td><td style=\"text-align: right;\">3</td><td style=\"text-align: right;\">0.19</td><td style=\"text-align: right;\">4</td><td style=\"text-align: right;\">0.25</td><td style=\"text-align: right;\">1</td><td style=\"text-align: right;\">0.17</td><td style=\"text-align: right;\">0</td><td style=\"text-align: right;\">0.00</td></tr>\n",
       "<tr><td style=\"text-align: right;\">353244</td><td style=\"text-align: right;\">135,758,231</td><td style=\"text-align: right;\">618,284</td><td style=\"text-align: right;\">117</td><td style=\"text-align: right;\">1685</td><td style=\"text-align: right;\">0.05</td><td style=\"text-align: right;\">81</td><td style=\"text-align: right;\">1.00</td><td style=\"text-align: right;\">53</td><td style=\"text-align: right;\">3.25</td><td style=\"text-align: right;\">16</td><td style=\"text-align: right;\">3.15</td><td style=\"text-align: right;\">4</td><td style=\"text-align: right;\">0.36</td><td style=\"text-align: right;\">3</td><td style=\"text-align: right;\">0.18</td><td style=\"text-align: right;\">4</td><td style=\"text-align: right;\">0.25</td><td style=\"text-align: right;\">1</td><td style=\"text-align: right;\">0.17</td><td style=\"text-align: right;\">0</td><td style=\"text-align: right;\">0.00</td></tr>\n",
       "<tr class=\"even\"><td style=\"text-align: right;\">353478</td><td style=\"text-align: right;\">135,933,921</td><td style=\"text-align: right;\">434,642</td><td style=\"text-align: right;\">123</td><td style=\"text-align: right;\">1561</td><td style=\"text-align: right;\">0.05</td><td style=\"text-align: right;\">77</td><td style=\"text-align: right;\">0.95</td><td style=\"text-align: right;\">52</td><td style=\"text-align: right;\">3.36</td><td style=\"text-align: right;\">15</td><td style=\"text-align: right;\">3.11</td><td style=\"text-align: right;\">4</td><td style=\"text-align: right;\">0.37</td><td style=\"text-align: right;\">3</td><td style=\"text-align: right;\">0.19</td><td style=\"text-align: right;\">2</td><td style=\"text-align: right;\">0.13</td><td style=\"text-align: right;\">1</td><td style=\"text-align: right;\">0.18</td><td style=\"text-align: right;\">0</td><td style=\"text-align: right;\">0.00</td></tr>\n",
       "<tr><td style=\"text-align: right;\">353797</td><td style=\"text-align: right;\">136,398,174</td><td style=\"text-align: right;\">75,924</td><td style=\"text-align: right;\">26</td><td style=\"text-align: right;\">1414</td><td style=\"text-align: right;\">0.06</td><td style=\"text-align: right;\">81</td><td style=\"text-align: right;\">1.00</td><td style=\"text-align: right;\">53</td><td style=\"text-align: right;\">3.25</td><td style=\"text-align: right;\">16</td><td style=\"text-align: right;\">3.15</td><td style=\"text-align: right;\">4</td><td style=\"text-align: right;\">0.36</td><td style=\"text-align: right;\">3</td><td style=\"text-align: right;\">0.18</td><td style=\"text-align: right;\">4</td><td style=\"text-align: right;\">0.25</td><td style=\"text-align: right;\">1</td><td style=\"text-align: right;\">0.17</td><td style=\"text-align: right;\">0</td><td style=\"text-align: right;\">0.00</td></tr>\n",
       "<tr class=\"even\"><td style=\"text-align: right;\">353269</td><td style=\"text-align: right;\">135,766,890</td><td style=\"text-align: right;\">509,095</td><td style=\"text-align: right;\">62</td><td style=\"text-align: right;\">1265</td><td style=\"text-align: right;\">0.06</td><td style=\"text-align: right;\">77</td><td style=\"text-align: right;\">0.95</td><td style=\"text-align: right;\">52</td><td style=\"text-align: right;\">3.36</td><td style=\"text-align: right;\">15</td><td style=\"text-align: right;\">3.11</td><td style=\"text-align: right;\">4</td><td style=\"text-align: right;\">0.37</td><td style=\"text-align: right;\">3</td><td style=\"text-align: right;\">0.19</td><td style=\"text-align: right;\">2</td><td style=\"text-align: right;\">0.13</td><td style=\"text-align: right;\">1</td><td style=\"text-align: right;\">0.18</td><td style=\"text-align: right;\">0</td><td style=\"text-align: right;\">0.00</td></tr>\n",
       "<tr><td style=\"text-align: right;\">353729</td><td style=\"text-align: right;\">136,309,239</td><td style=\"text-align: right;\">52,321</td><td style=\"text-align: right;\">9</td><td style=\"text-align: right;\">887</td><td style=\"text-align: right;\">0.08</td><td style=\"text-align: right;\">71</td><td style=\"text-align: right;\">0.88</td><td style=\"text-align: right;\">51</td><td style=\"text-align: right;\">3.57</td><td style=\"text-align: right;\">15</td><td style=\"text-align: right;\">3.37</td><td style=\"text-align: right;\">4</td><td style=\"text-align: right;\">0.41</td><td style=\"text-align: right;\">0</td><td style=\"text-align: right;\">0.00</td><td style=\"text-align: right;\">0</td><td style=\"text-align: right;\">0.00</td><td style=\"text-align: right;\">1</td><td style=\"text-align: right;\">0.19</td><td style=\"text-align: right;\">0</td><td style=\"text-align: right;\">0.00</td></tr>\n",
       "<tr class=\"even\"><td style=\"text-align: right;\">353764</td><td style=\"text-align: right;\">136,364,916</td><td style=\"text-align: right;\">22,977</td><td style=\"text-align: right;\">5</td><td style=\"text-align: right;\">588</td><td style=\"text-align: right;\">0.09</td><td style=\"text-align: right;\">51</td><td style=\"text-align: right;\">0.63</td><td style=\"text-align: right;\">37</td><td style=\"text-align: right;\">3.60</td><td style=\"text-align: right;\">10</td><td style=\"text-align: right;\">3.13</td><td style=\"text-align: right;\">4</td><td style=\"text-align: right;\">0.57</td><td style=\"text-align: right;\">0</td><td style=\"text-align: right;\">0.00</td><td style=\"text-align: right;\">0</td><td style=\"text-align: right;\">0.00</td><td style=\"text-align: right;\">0</td><td style=\"text-align: right;\">0.00</td><td style=\"text-align: right;\">0</td><td style=\"text-align: right;\">0.00</td></tr>\n",
       "<tr><td style=\"text-align: right;\">353349</td><td style=\"text-align: right;\">135,810,535</td><td style=\"text-align: right;\">87,488</td><td style=\"text-align: right;\">9</td><td style=\"text-align: right;\">545</td><td style=\"text-align: right;\">0.13</td><td style=\"text-align: right;\">71</td><td style=\"text-align: right;\">0.88</td><td style=\"text-align: right;\">51</td><td style=\"text-align: right;\">3.57</td><td style=\"text-align: right;\">15</td><td style=\"text-align: right;\">3.37</td><td style=\"text-align: right;\">4</td><td style=\"text-align: right;\">0.41</td><td style=\"text-align: right;\">0</td><td style=\"text-align: right;\">0.00</td><td style=\"text-align: right;\">0</td><td style=\"text-align: right;\">0.00</td><td style=\"text-align: right;\">1</td><td style=\"text-align: right;\">0.19</td><td style=\"text-align: right;\">0</td><td style=\"text-align: right;\">0.00</td></tr>\n",
       "<tr class=\"even\"><td style=\"text-align: right;\">353486</td><td style=\"text-align: right;\">135,946,660</td><td style=\"text-align: right;\">156,668</td><td style=\"text-align: right;\">5</td><td style=\"text-align: right;\">96</td><td style=\"text-align: right;\">0.54</td><td style=\"text-align: right;\">52</td><td style=\"text-align: right;\">0.64</td><td style=\"text-align: right;\">38</td><td style=\"text-align: right;\">3.63</td><td style=\"text-align: right;\">10</td><td style=\"text-align: right;\">3.07</td><td style=\"text-align: right;\">4</td><td style=\"text-align: right;\">0.56</td><td style=\"text-align: right;\">0</td><td style=\"text-align: right;\">0.00</td><td style=\"text-align: right;\">0</td><td style=\"text-align: right;\">0.00</td><td style=\"text-align: right;\">0</td><td style=\"text-align: right;\">0.00</td><td style=\"text-align: right;\">0</td><td style=\"text-align: right;\">0.00</td></tr>\n",
       "<tr><td style=\"text-align: right;\">353276</td><td style=\"text-align: right;\">135,769,240</td><td style=\"text-align: right;\">617,518</td><td style=\"text-align: right;\">209</td><td style=\"text-align: right;\">56</td><td style=\"text-align: right;\">0.91</td><td style=\"text-align: right;\">51</td><td style=\"text-align: right;\">0.63</td><td style=\"text-align: right;\">37</td><td style=\"text-align: right;\">3.60</td><td style=\"text-align: right;\">10</td><td style=\"text-align: right;\">3.13</td><td style=\"text-align: right;\">4</td><td style=\"text-align: right;\">0.57</td><td style=\"text-align: right;\">0</td><td style=\"text-align: right;\">0.00</td><td style=\"text-align: right;\">0</td><td style=\"text-align: right;\">0.00</td><td style=\"text-align: right;\">0</td><td style=\"text-align: right;\">0.00</td><td style=\"text-align: right;\">0</td><td style=\"text-align: right;\">0.00</td></tr>\n",
       "<tr class=\"even\"><td style=\"text-align: right;\">353833</td><td style=\"text-align: right;\">136,428,402</td><td style=\"text-align: right;\">221,239</td><td style=\"text-align: right;\">14</td><td style=\"text-align: right;\">48</td><td style=\"text-align: right;\">1.00</td><td style=\"text-align: right;\">48</td><td style=\"text-align: right;\">0.59</td><td style=\"text-align: right;\">34</td><td style=\"text-align: right;\">3.52</td><td style=\"text-align: right;\">10</td><td style=\"text-align: right;\">3.32</td><td style=\"text-align: right;\">4</td><td style=\"text-align: right;\">0.60</td><td style=\"text-align: right;\">0</td><td style=\"text-align: right;\">0.00</td><td style=\"text-align: right;\">0</td><td style=\"text-align: right;\">0.00</td><td style=\"text-align: right;\">0</td><td style=\"text-align: right;\">0.00</td><td style=\"text-align: right;\">0</td><td style=\"text-align: right;\">0.00</td></tr>\n",
       "</table>"
      ],
      "text/plain": [
       "<IPython.core.display.HTML object>"
      ]
     },
     "execution_count": 11,
     "metadata": {},
     "output_type": "execute_result"
    }
   ],
   "source": [
    "HTML(plt_obj.get_html())"
   ]
  },
  {
   "cell_type": "markdown",
   "metadata": {},
   "source": [
    "<div style=\"width:700px\">\n",
    "<p>\n",
    "The data in this plot shows the most common series for samples that\n",
    "express the series 14_48.  All 48 of the samples express 117_1685,\n",
    "26_1414, and 10_2206.  Those samples include 46 that express the series 209_56.\n",
    "The association of 26_1414 with 10_2206 is the only one in common with the EUR tree.\n",
    "All 48 of these samples express a 23 SNP subset of the standard 26_1414 SNPs \n",
    "and a 52 SNP subset of the 64_1575 SNPs.\n",
    "</div>"
   ]
  },
  {
   "cell_type": "code",
   "execution_count": 12,
   "metadata": {
    "collapsed": false
   },
   "outputs": [
    {
     "data": {
      "text/html": [
       "\n",
       "\n",
       "    <div class=\"bk-root\">\n",
       "        <div class=\"plotdiv\" id=\"df470241-0814-4599-83b8-e20e88b36a32\"></div>\n",
       "    </div>\n",
       "<script type=\"text/javascript\">\n",
       "  \n",
       "  (function(global) {\n",
       "    function now() {\n",
       "      return new Date();\n",
       "    }\n",
       "  \n",
       "    if (typeof (window._bokeh_onload_callbacks) === \"undefined\") {\n",
       "      window._bokeh_onload_callbacks = [];\n",
       "    }\n",
       "  \n",
       "    function run_callbacks() {\n",
       "      window._bokeh_onload_callbacks.forEach(function(callback) { callback() });\n",
       "      delete window._bokeh_onload_callbacks\n",
       "      console.info(\"Bokeh: all callbacks have finished\");\n",
       "    }\n",
       "  \n",
       "    function load_libs(js_urls, callback) {\n",
       "      window._bokeh_onload_callbacks.push(callback);\n",
       "      if (window._bokeh_is_loading > 0) {\n",
       "        console.log(\"Bokeh: BokehJS is being loaded, scheduling callback at\", now());\n",
       "        return null;\n",
       "      }\n",
       "      if (js_urls == null || js_urls.length === 0) {\n",
       "        run_callbacks();\n",
       "        return null;\n",
       "      }\n",
       "      console.log(\"Bokeh: BokehJS not loaded, scheduling load and callback at\", now());\n",
       "      window._bokeh_is_loading = js_urls.length;\n",
       "      for (var i = 0; i < js_urls.length; i++) {\n",
       "        var url = js_urls[i];\n",
       "        var s = document.createElement('script');\n",
       "        s.src = url;\n",
       "        s.async = false;\n",
       "        s.onreadystatechange = s.onload = function() {\n",
       "          window._bokeh_is_loading--;\n",
       "          if (window._bokeh_is_loading === 0) {\n",
       "            console.log(\"Bokeh: all BokehJS libraries loaded\");\n",
       "            run_callbacks()\n",
       "          }\n",
       "        };\n",
       "        s.onerror = function() {\n",
       "          console.warn(\"failed to load library \" + url);\n",
       "        };\n",
       "        console.log(\"Bokeh: injecting script tag for BokehJS library: \", url);\n",
       "        document.getElementsByTagName(\"head\")[0].appendChild(s);\n",
       "      }\n",
       "    };var element = document.getElementById(\"df470241-0814-4599-83b8-e20e88b36a32\");\n",
       "    if (element == null) {\n",
       "      console.log(\"Bokeh: ERROR: autoload.js configured with elementid 'df470241-0814-4599-83b8-e20e88b36a32' but no matching script tag was found. \")\n",
       "      return false;\n",
       "    }\n",
       "  \n",
       "    var js_urls = [];\n",
       "  \n",
       "    var inline_js = [\n",
       "      function(Bokeh) {\n",
       "        Bokeh.$(function() {\n",
       "            var docs_json = {\"9404b6da-d55d-4ebb-a2b4-f5eb632a5308\":{\"roots\":{\"references\":[{\"attributes\":{\"line_alpha\":{\"value\":0.1},\"line_color\":{\"value\":\"#1f77b4\"},\"xs\":{\"field\":\"xs\"},\"ys\":{\"field\":\"ys\"}},\"id\":\"186cbca7-7883-43af-871f-cebd6bf9845f\",\"type\":\"MultiLine\"},{\"attributes\":{},\"id\":\"036819c0-63a2-4dc7-bac7-473b83e4da93\",\"type\":\"BasicTicker\"},{\"attributes\":{\"plot\":{\"id\":\"4860796d-2ccb-429a-b955-e8c5b61e209b\",\"subtype\":\"Figure\",\"type\":\"Plot\"}},\"id\":\"100b750e-d989-4417-bc71-622d2e0e4702\",\"type\":\"ResetTool\"},{\"attributes\":{\"callback\":null,\"column_names\":[\"y\",\"x\",\"vals\"],\"data\":{\"vals\":[\"117_1685\",\"62_1265\",\"209_56\",\"10_43\",\"9_545\",\"123_1561\",\"5_96\",\"9_887\",\"5_588\",\"26_1414\",\"14_48\",\"10_2206\",\"80_38\",\"24_1504\",\"6_167\",\"5_212\"],\"x\":[135758231,135766890,135769240,135809270,135810535,135933921,135946660,136309239,136364916,136398174,136428402,136501840,136652918,136653925,136658238,136704466],\"y\":[701.0,498.0,171.0,69.0,391.0,600.0,276.0,495.0,392.0,599.0,170.0,703.0,68.0,600.0,281.0,383.0]}},\"id\":\"c0824a05-587d-4c82-9a4a-0b17b8ce7dd8\",\"type\":\"ColumnDataSource\"},{\"attributes\":{\"overlay\":{\"id\":\"63b6b0e8-b843-4add-8cbd-f2362bdbb2df\",\"type\":\"BoxAnnotation\"},\"plot\":{\"id\":\"4860796d-2ccb-429a-b955-e8c5b61e209b\",\"subtype\":\"Figure\",\"type\":\"Plot\"}},\"id\":\"85f0d9d4-6655-4d54-913d-84f28b2db15c\",\"type\":\"BoxZoomTool\"},{\"attributes\":{\"line_color\":{\"field\":\"line_color\"},\"xs\":{\"field\":\"xs\"},\"ys\":{\"field\":\"ys\"}},\"id\":\"d190efb2-305c-49ba-9357-b7ab491a93f9\",\"type\":\"MultiLine\"},{\"attributes\":{\"data_source\":{\"id\":\"9307e91c-35f3-45ed-a047-d414b813176b\",\"type\":\"ColumnDataSource\"},\"glyph\":{\"id\":\"4110dd4e-3667-4771-8e1c-2e14ae316a66\",\"type\":\"Quad\"},\"hover_glyph\":null,\"nonselection_glyph\":{\"id\":\"0a0c38c1-6af4-4160-aa69-2c93ea403c13\",\"type\":\"Quad\"},\"selection_glyph\":null},\"id\":\"da5a94b8-cdae-45a4-bac0-063d6304dac9\",\"type\":\"GlyphRenderer\"},{\"attributes\":{\"plot\":{\"id\":\"4860796d-2ccb-429a-b955-e8c5b61e209b\",\"subtype\":\"Figure\",\"type\":\"Plot\"}},\"id\":\"9b7c9222-cc0e-40fe-afb6-a78854a3a610\",\"type\":\"WheelZoomTool\"},{\"attributes\":{\"active_drag\":\"auto\",\"active_scroll\":\"auto\",\"active_tap\":\"auto\",\"tools\":[{\"id\":\"6f2a3383-1aef-4421-9269-5053c2b7bc16\",\"type\":\"PanTool\"},{\"id\":\"9b7c9222-cc0e-40fe-afb6-a78854a3a610\",\"type\":\"WheelZoomTool\"},{\"id\":\"85f0d9d4-6655-4d54-913d-84f28b2db15c\",\"type\":\"BoxZoomTool\"},{\"id\":\"c56c459e-6914-4d74-985b-d27446adb2fd\",\"type\":\"SaveTool\"},{\"id\":\"100b750e-d989-4417-bc71-622d2e0e4702\",\"type\":\"ResetTool\"},{\"id\":\"ba017699-e6b3-4090-97d2-77d36f2da24a\",\"type\":\"HelpTool\"}]},\"id\":\"a97ad8ec-ed66-4720-bd85-a2fb7d65c09e\",\"type\":\"Toolbar\"},{\"attributes\":{\"below\":[{\"id\":\"c52d571a-3000-4804-b86a-9e114191633a\",\"type\":\"LinearAxis\"}],\"left\":[{\"id\":\"fe82b826-5980-472b-9b25-5f1f0e096220\",\"type\":\"LinearAxis\"}],\"plot_height\":800,\"plot_width\":900,\"renderers\":[{\"id\":\"c52d571a-3000-4804-b86a-9e114191633a\",\"type\":\"LinearAxis\"},{\"id\":\"fd824d4c-c065-4cb2-8feb-1882072c3809\",\"type\":\"Grid\"},{\"id\":\"fe82b826-5980-472b-9b25-5f1f0e096220\",\"type\":\"LinearAxis\"},{\"id\":\"4145ad51-7a13-4e95-8101-a44810095913\",\"type\":\"Grid\"},{\"id\":\"63b6b0e8-b843-4add-8cbd-f2362bdbb2df\",\"type\":\"BoxAnnotation\"},{\"id\":\"06dee20b-9839-4446-bc25-f02390238f85\",\"type\":\"GlyphRenderer\"},{\"id\":\"110948aa-984f-49ba-8e47-72426b787ec3\",\"type\":\"GlyphRenderer\"},{\"id\":\"b52ec123-de0e-4575-85c4-11c81f75b459\",\"type\":\"LabelSet\"},{\"id\":\"da5a94b8-cdae-45a4-bac0-063d6304dac9\",\"type\":\"GlyphRenderer\"},{\"id\":\"d1e7bff5-2d16-4228-87ef-0b613c5c2ca2\",\"type\":\"LabelSet\"}],\"title\":{\"id\":\"1f213aea-66c6-4746-b261-32219e70c1f1\",\"type\":\"Title\"},\"tool_events\":{\"id\":\"8964aa23-ed9b-4869-8569-198a985521ad\",\"type\":\"ToolEvents\"},\"toolbar\":{\"id\":\"a97ad8ec-ed66-4720-bd85-a2fb7d65c09e\",\"type\":\"Toolbar\"},\"toolbar_location\":null,\"x_range\":{\"id\":\"ce748875-c17c-400c-aaff-07f407a1baaf\",\"type\":\"Range1d\"},\"y_range\":{\"id\":\"0755b31b-3fd1-4bf6-bf65-d051b3a8475b\",\"type\":\"Range1d\"}},\"id\":\"4860796d-2ccb-429a-b955-e8c5b61e209b\",\"subtype\":\"Figure\",\"type\":\"Plot\"},{\"attributes\":{\"data_source\":{\"id\":\"a5c8bb29-8ad0-4a2b-a59d-aa024c5af493\",\"type\":\"ColumnDataSource\"},\"glyph\":{\"id\":\"d190efb2-305c-49ba-9357-b7ab491a93f9\",\"type\":\"MultiLine\"},\"hover_glyph\":null,\"nonselection_glyph\":{\"id\":\"186cbca7-7883-43af-871f-cebd6bf9845f\",\"type\":\"MultiLine\"},\"selection_glyph\":null},\"id\":\"110948aa-984f-49ba-8e47-72426b787ec3\",\"type\":\"GlyphRenderer\"},{\"attributes\":{\"plot\":{\"id\":\"4860796d-2ccb-429a-b955-e8c5b61e209b\",\"subtype\":\"Figure\",\"type\":\"Plot\"}},\"id\":\"c56c459e-6914-4d74-985b-d27446adb2fd\",\"type\":\"SaveTool\"},{\"attributes\":{\"callback\":null,\"column_names\":[\"y\",\"x\",\"vals\"],\"data\":{\"vals\":[\"RAB3GAP1\",\"ZRANB3\",\"R3HDM1\",\"UBXN4\",\"LCT\",\"MCM6\",\"DARS\"],\"x\":[135869057.0,136122878.0,136385961.0,136520911.0,136570082.5,136615621.5,136703738.0],\"y\":[760.0,760.0,760.0,760.0,760.0,760.0,760.0]}},\"id\":\"40d38f09-72e6-4bfe-8976-a99f5bdd3933\",\"type\":\"ColumnDataSource\"},{\"attributes\":{\"formatter\":{\"id\":\"6e3e4c60-5d36-4484-abd3-27c42b4cbbe0\",\"type\":\"BasicTickFormatter\"},\"plot\":{\"id\":\"4860796d-2ccb-429a-b955-e8c5b61e209b\",\"subtype\":\"Figure\",\"type\":\"Plot\"},\"ticker\":{\"id\":\"036819c0-63a2-4dc7-bac7-473b83e4da93\",\"type\":\"BasicTicker\"}},\"id\":\"c52d571a-3000-4804-b86a-9e114191633a\",\"type\":\"LinearAxis\"},{\"attributes\":{\"plot\":{\"id\":\"4860796d-2ccb-429a-b955-e8c5b61e209b\",\"subtype\":\"Figure\",\"type\":\"Plot\"},\"ticker\":{\"id\":\"036819c0-63a2-4dc7-bac7-473b83e4da93\",\"type\":\"BasicTicker\"}},\"id\":\"fd824d4c-c065-4cb2-8feb-1882072c3809\",\"type\":\"Grid\"},{\"attributes\":{\"bottom\":{\"field\":\"bottom\"},\"fill_alpha\":{\"value\":0.1},\"fill_color\":{\"value\":\"#1f77b4\"},\"left\":{\"field\":\"left\"},\"line_alpha\":{\"value\":0.1},\"line_color\":{\"value\":\"#1f77b4\"},\"right\":{\"field\":\"right\"},\"top\":{\"field\":\"top\"}},\"id\":\"0a0c38c1-6af4-4160-aa69-2c93ea403c13\",\"type\":\"Quad\"},{\"attributes\":{\"level\":\"glyph\",\"plot\":{\"id\":\"4860796d-2ccb-429a-b955-e8c5b61e209b\",\"subtype\":\"Figure\",\"type\":\"Plot\"},\"source\":{\"id\":\"40d38f09-72e6-4bfe-8976-a99f5bdd3933\",\"type\":\"ColumnDataSource\"},\"text\":{\"field\":\"vals\"},\"text_align\":\"center\",\"text_baseline\":\"middle\",\"text_font_size\":{\"value\":\"8pt\"},\"x\":{\"field\":\"x\"},\"y\":{\"field\":\"y\"}},\"id\":\"d1e7bff5-2d16-4228-87ef-0b613c5c2ca2\",\"type\":\"LabelSet\"},{\"attributes\":{},\"id\":\"541348a1-b4d5-466c-9dd2-509c684e38ea\",\"type\":\"BasicTickFormatter\"},{\"attributes\":{\"bottom\":{\"field\":\"bottom\"},\"fill_color\":{\"field\":\"fill_color\"},\"left\":{\"field\":\"left\"},\"line_color\":{\"value\":null},\"right\":{\"field\":\"right\"},\"top\":{\"field\":\"top\"}},\"id\":\"a2773c9f-f4c9-4550-9746-c1e38df192fa\",\"type\":\"Quad\"},{\"attributes\":{\"plot\":null,\"text\":null},\"id\":\"1f213aea-66c6-4746-b261-32219e70c1f1\",\"type\":\"Title\"},{\"attributes\":{\"callback\":null,\"end\":800},\"id\":\"0755b31b-3fd1-4bf6-bf65-d051b3a8475b\",\"type\":\"Range1d\"},{\"attributes\":{},\"id\":\"8964aa23-ed9b-4869-8569-198a985521ad\",\"type\":\"ToolEvents\"},{\"attributes\":{\"callback\":null,\"column_names\":[\"xs\",\"ys\",\"line_color\"],\"data\":{\"line_color\":[\"black\",\"black\",\"black\",\"black\",\"black\",\"black\",\"black\",\"black\",\"black\",\"black\",\"black\",\"black\",\"black\",\"black\",\"black\",\"black\",\"black\",\"black\",\"black\",\"black\",\"black\",\"black\",\"black\",\"black\",\"black\",\"black\",\"black\",\"black\",\"black\",\"black\",\"black\",\"black\",\"black\",\"black\",\"black\",\"black\",\"black\",\"black\",\"black\",\"black\",\"black\",\"black\",\"black\",\"black\",\"black\",\"black\",\"black\",\"black\",\"black\",\"black\",\"black\",\"black\",\"black\",\"black\",\"black\",\"black\",\"black\",\"black\",\"black\",\"black\",\"black\",\"black\",\"black\",\"black\",\"black\",\"black\",\"black\",\"black\",\"black\",\"black\",\"black\",\"black\",\"black\",\"black\",\"black\",\"black\",\"black\",\"black\",\"black\",\"black\",\"black\",\"black\",\"black\",\"black\",\"black\",\"black\",\"black\",\"black\",\"black\",\"black\",\"black\",\"black\",\"black\",\"black\",\"black\",\"black\",\"black\",\"black\",\"black\",\"black\",\"black\",\"black\",\"black\",\"black\",\"black\",\"black\",\"black\",\"black\",\"black\",\"black\",\"black\",\"black\",\"black\",\"black\",\"black\",\"black\",\"black\",\"black\",\"black\",\"black\",\"black\",\"black\",\"black\",\"black\",\"black\",\"black\",\"black\",\"black\",\"black\",\"black\",\"black\",\"black\",\"black\",\"black\",\"black\",\"black\",\"black\",\"black\",\"black\",\"black\",\"black\",\"black\",\"black\",\"black\",\"black\",\"black\",\"black\",\"black\",\"black\",\"black\",\"black\",\"black\",\"black\",\"black\",\"black\",\"black\",\"black\",\"black\",\"black\",\"black\",\"black\",\"black\",\"black\",\"black\",\"black\",\"black\",\"black\",\"black\",\"black\",\"black\",\"black\",\"black\",\"black\",\"black\",\"black\",\"black\",\"black\",\"black\",\"black\",\"black\",\"black\",\"black\",\"black\",\"black\",\"black\",\"black\",\"black\",\"black\",\"black\",\"black\",\"black\",\"black\",\"black\",\"black\",\"black\",\"black\",\"black\",\"black\",\"black\",\"black\",\"black\",\"black\",\"black\",\"black\",\"black\",\"black\",\"black\",\"black\",\"black\",\"black\",\"black\",\"black\",\"black\",\"black\",\"black\",\"black\",\"black\",\"black\",\"black\",\"black\",\"black\",\"black\",\"black\",\"black\",\"black\",\"black\",\"black\",\"black\",\"black\",\"black\",\"black\",\"black\",\"black\",\"black\",\"black\",\"black\",\"black\",\"black\",\"black\",\"black\",\"black\",\"black\",\"black\",\"black\",\"black\",\"black\",\"black\",\"black\",\"black\",\"black\",\"black\",\"black\",\"black\",\"black\",\"black\",\"black\",\"black\",\"black\",\"black\",\"black\",\"black\",\"black\",\"black\",\"black\",\"black\",\"black\",\"black\",\"black\",\"black\",\"black\",\"black\",\"black\",\"black\",\"black\",\"black\",\"black\",\"black\",\"black\",\"black\",\"black\",\"black\",\"black\",\"black\",\"black\",\"black\",\"black\",\"black\",\"black\",\"black\",\"black\",\"black\",\"black\",\"black\",\"black\",\"black\",\"black\",\"black\",\"black\",\"black\",\"black\",\"black\",\"black\",\"black\",\"black\",\"black\",\"black\",\"black\",\"black\",\"black\",\"black\",\"black\",\"black\",\"black\",\"black\",\"black\",\"black\",\"black\",\"black\",\"black\",\"black\",\"black\",\"black\",\"black\",\"black\",\"black\",\"black\",\"black\",\"black\",\"black\",\"black\",\"black\",\"black\",\"black\",\"black\",\"black\",\"black\",\"black\",\"black\",\"black\",\"black\",\"black\",\"black\",\"black\",\"black\",\"black\",\"black\",\"black\",\"black\",\"black\",\"black\",\"black\",\"black\",\"black\",\"black\",\"black\",\"black\",\"black\",\"black\",\"black\",\"black\",\"black\",\"black\",\"black\",\"black\",\"black\",\"black\",\"black\",\"black\",\"black\",\"black\",\"black\",\"black\",\"black\",\"black\",\"black\",\"black\",\"black\",\"black\",\"black\",\"black\",\"black\",\"black\",\"black\",\"black\",\"black\",\"black\",\"black\",\"black\",\"black\",\"black\",\"black\",\"black\",\"black\",\"black\",\"black\",\"black\",\"black\",\"black\",\"black\",\"black\",\"black\",\"black\",\"black\",\"black\",\"black\",\"black\",\"black\",\"black\",\"black\",\"black\",\"black\",\"black\",\"black\",\"black\",\"black\",\"black\",\"black\",\"black\",\"black\",\"black\",\"black\",\"black\",\"black\",\"black\",\"black\",\"black\",\"black\",\"black\",\"black\",\"black\",\"black\",\"black\",\"black\",\"black\",\"black\",\"black\",\"black\",\"black\",\"black\",\"black\",\"black\",\"black\",\"black\",\"black\",\"black\",\"black\",\"black\",\"black\",\"black\",\"black\",\"black\",\"black\",\"black\",\"black\",\"black\",\"black\",\"black\",\"black\",\"black\",\"black\",\"black\",\"black\",\"black\",\"black\",\"black\",\"black\",\"black\",\"black\",\"black\",\"black\",\"black\",\"black\",\"black\",\"black\",\"black\",\"black\",\"black\",\"black\",\"black\",\"black\",\"black\",\"black\",\"black\",\"black\",\"black\",\"black\",\"black\",\"black\",\"black\",\"black\",\"black\",\"black\",\"black\",\"black\",\"black\",\"black\",\"black\",\"black\",\"black\",\"black\",\"black\",\"black\",\"black\",\"black\",\"black\",\"black\",\"black\",\"black\",\"black\",\"black\",\"black\",\"black\",\"black\",\"black\",\"black\",\"black\",\"black\",\"black\",\"black\",\"black\",\"black\",\"black\",\"black\",\"black\",\"black\",\"black\",\"black\",\"black\",\"black\",\"black\",\"black\",\"black\",\"black\",\"black\",\"black\",\"black\",\"black\",\"black\",\"black\",\"black\",\"black\",\"black\",\"black\",\"black\",\"black\",\"black\",\"black\",\"black\",\"black\",\"black\",\"black\",\"black\",\"black\",\"black\",\"black\",\"black\",\"black\",\"black\",\"black\",\"black\",\"black\",\"black\",\"black\",\"black\",\"black\",\"black\",\"black\",\"black\",\"black\",\"black\",\"black\",\"black\",\"black\",\"black\",\"black\",\"black\",\"black\",\"black\",\"black\",\"black\",\"black\",\"black\",\"black\",\"black\",\"black\",\"black\",\"black\",\"black\",\"black\",\"black\",\"black\",\"black\",\"black\",\"black\",\"black\",\"black\",\"black\",\"black\",\"black\",\"black\",\"black\",\"black\",\"black\",\"black\",\"black\",\"black\",\"black\",\"black\",\"black\",\"black\",\"black\",\"black\",\"black\",\"black\",\"black\",\"black\",\"black\",\"black\",\"black\",\"black\",\"black\",\"black\",\"black\",\"black\",\"black\",\"black\",\"black\",\"black\",\"black\",\"black\",\"black\",\"black\",\"black\",\"black\",\"black\",\"black\",\"black\",\"black\",\"black\",\"black\",\"black\",\"black\",\"black\",\"black\",\"black\",\"black\",\"black\",\"black\",\"black\",\"black\",\"black\",\"black\",\"black\",\"black\",\"black\",\"black\",\"black\",\"black\",\"black\",\"black\",\"black\",\"black\",\"black\",\"black\",\"black\",\"black\",\"black\",\"black\",\"black\",\"black\",\"black\",\"black\",\"black\",\"black\",\"black\",\"black\",\"black\",\"black\",\"black\",\"black\",\"black\",\"black\",\"black\",\"black\",\"black\",\"black\",\"black\",\"black\",\"black\",\"black\",\"black\",\"black\",\"black\",\"black\",\"black\",\"black\",\"black\",\"black\",\"black\",\"black\",\"black\",\"black\",\"black\",\"black\",\"black\",\"black\",\"black\",\"black\",\"black\",\"black\",\"black\",\"black\",\"black\",\"black\"],\"xs\":[[135758231,135758231],[135758520,135758520],[135766072,135766072],[135773420,135773420],[135773446,135773446],[135773617,135773617],[135773692,135773692],[135774681,135774681],[135775049,135775049],[135776430,135776430],[135778656,135778656],[135780168,135780168],[135780587,135780587],[135781301,135781301],[135781522,135781522],[135781635,135781635],[135782456,135782456],[135783157,135783157],[135783366,135783366],[135783367,135783367],[135784227,135784227],[135784733,135784733],[135785066,135785066],[135785068,135785068],[135785149,135785149],[135787148,135787148],[135787642,135787642],[135789405,135789405],[135789472,135789472],[135789682,135789682],[135789784,135789784],[135792338,135792338],[135792528,135792528],[135793565,135793565],[135793684,135793684],[135793845,135793845],[135794367,135794367],[135794986,135794986],[135795040,135795040],[135795095,135795095],[135795150,135795150],[135795385,135795385],[135795396,135795396],[135795443,135795443],[135795595,135795595],[135796000,135796000],[135796155,135796155],[135796410,135796410],[135796965,135796965],[135797223,135797223],[135797747,135797747],[135798082,135798082],[135798758,135798758],[135799082,135799082],[135800085,135800085],[135800601,135800601],[135800757,135800757],[135801228,135801228],[135801956,135801956],[135802020,135802020],[135802028,135802028],[135802050,135802050],[135802148,135802148],[135803766,135803766],[135809241,135809241],[135812969,135812969],[135814716,135814716],[135818907,135818907],[135829432,135829432],[135832131,135832131],[135849613,135849613],[135853807,135853807],[135859923,135859923],[135860305,135860305],[135861497,135861497],[135863143,135863143],[135864294,135864294],[135871624,135871624],[135872646,135872646],[135874038,135874038],[135874622,135874622],[135878814,135878814],[135880013,135880013],[135884487,135884487],[135885357,135885357],[135893853,135893853],[135895809,135895809],[135895879,135895879],[135899069,135899069],[135909462,135909462],[135912977,135912977],[135914038,135914038],[135921839,135921839],[135925002,135925002],[135928312,135928312],[135935049,135935049],[135962711,135962711],[135984172,135984172],[135994753,135994753],[135994754,135994754],[136016079,136016079],[136027264,136027264],[136052004,136052004],[136100473,136100473],[136110129,136110129],[136166536,136166536],[136169799,136169799],[136191314,136191314],[136228887,136228887],[136238453,136238453],[136288273,136288273],[136292425,136292425],[136321951,136321951],[136324564,136324564],[136327299,136327299],[136327302,136327302],[136376515,136376515],[135766890,135766890],[135778708,135778708],[135779588,135779588],[135805941,135805941],[135805943,135805943],[135932720,135932720],[135933317,135933317],[135934842,135934842],[135952376,135952376],[135958853,135958853],[135962864,135962864],[135963304,135963304],[135965376,135965376],[135980201,135980201],[135981554,135981554],[135988127,135988127],[135988416,135988416],[135991470,135991470],[136000500,136000500],[136001215,136001215],[136001295,136001295],[136016514,136016514],[136017388,136017388],[136041102,136041102],[136041662,136041662],[136047387,136047387],[136052936,136052936],[136055275,136055275],[136063118,136063118],[136066802,136066802],[136068890,136068890],[136069577,136069577],[136081193,136081193],[136105193,136105193],[136107839,136107839],[136110835,136110835],[136138026,136138026],[136142092,136142092],[136146499,136146499],[136147607,136147607],[136148401,136148401],[136150512,136150512],[136154734,136154734],[136155805,136155805],[136163001,136163001],[136163266,136163266],[136163568,136163568],[136163821,136163821],[136165965,136165965],[136183312,136183312],[136185945,136185945],[136191729,136191729],[136204827,136204827],[136208747,136208747],[136217980,136217980],[136229438,136229438],[136232572,136232572],[136240942,136240942],[136251329,136251329],[136265187,136265187],[136265188,136265188],[136275985,136275985],[135769240,135769240],[135775679,135775679],[135776654,135776654],[135779989,135779989],[135790113,135790113],[135795146,135795146],[135798635,135798635],[135801926,135801926],[135811188,135811188],[135819013,135819013],[135819513,135819513],[135819780,135819780],[135821332,135821332],[135821676,135821676],[135821993,135821993],[135822311,135822311],[135823639,135823639],[135830336,135830336],[135830617,135830617],[135830805,135830805],[135832014,135832014],[135837481,135837481],[135838094,135838094],[135838407,135838407],[135846114,135846114],[135854369,135854369],[135856671,135856671],[135859827,135859827],[135860347,135860347],[135861038,135861038],[135863516,135863516],[135866555,135866555],[135867373,135867373],[135869590,135869590],[135881194,135881194],[135881477,135881477],[135882391,135882391],[135888827,135888827],[135890553,135890553],[135891360,135891360],[135897567,135897567],[135900218,135900218],[135905949,135905949],[135909647,135909647],[135909907,135909907],[135912277,135912277],[135912645,135912645],[135914642,135914642],[135915190,135915190],[135917969,135917969],[135927346,135927346],[135930832,135930832],[135932468,135932468],[135933695,135933695],[135934807,135934807],[135934852,135934852],[135938287,135938287],[135945971,135945971],[135948340,135948340],[135949143,135949143],[135951639,135951639],[135957087,135957087],[135958451,135958451],[135962106,135962106],[135969510,135969510],[135972041,135972041],[135978043,135978043],[135985885,135985885],[135990912,135990912],[135992317,135992317],[136003581,136003581],[136008550,136008550],[136009382,136009382],[136028894,136028894],[136032873,136032873],[136038061,136038061],[136039638,136039638],[136040972,136040972],[136049936,136049936],[136054795,136054795],[136057955,136057955],[136064335,136064335],[136064741,136064741],[136066863,136066863],[136077256,136077256],[136082398,136082398],[136082399,136082399],[136082428,136082428],[136082464,136082464],[136086800,136086800],[136096932,136096932],[136097877,136097877],[136097960,136097960],[136112643,136112643],[136113845,136113845],[136115806,136115806],[136116092,136116092],[136120042,136120042],[136122168,136122168],[136123768,136123768],[136124508,136124508],[136126309,136126309],[136132505,136132505],[136132704,136132704],[136137936,136137936],[136139103,136139103],[136139506,136139506],[136143493,136143493],[136144113,136144113],[136149213,136149213],[136151252,136151252],[136154993,136154993],[136155729,136155729],[136156335,136156335],[136159683,136159683],[136163956,136163956],[136164114,136164114],[136166437,136166437],[136166511,136166511],[136169830,136169830],[136170081,136170081],[136170318,136170318],[136173354,136173354],[136173562,136173562],[136175684,136175684],[136176991,136176991],[136177726,136177726],[136178944,136178944],[136180920,136180920],[136183187,136183187],[136184170,136184170],[136192621,136192621],[136195642,136195642],[136200886,136200886],[136200957,136200957],[136202788,136202788],[136209103,136209103],[136211015,136211015],[136212781,136212781],[136213377,136213377],[136218364,136218364],[136221951,136221951],[136222181,136222181],[136223624,136223624],[136224203,136224203],[136224481,136224481],[136228905,136228905],[136229120,136229120],[136230002,136230002],[136236007,136236007],[136237438,136237438],[136237803,136237803],[136237967,136237967],[136242219,136242219],[136245297,136245297],[136247425,136247425],[136248075,136248075],[136248808,136248808],[136249592,136249592],[136251533,136251533],[136253260,136253260],[136254669,136254669],[136255510,136255510],[136256138,136256138],[136259181,136259181],[136259814,136259814],[136262461,136262461],[136263873,136263873],[136266648,136266648],[136271146,136271146],[136273035,136273035],[136275433,136275433],[136277483,136277483],[136279131,136279131],[136283367,136283367],[136286647,136286647],[136287630,136287630],[136288460,136288460],[136289685,136289685],[136293257,136293257],[136296110,136296110],[136297327,136297327],[136298967,136298967],[136300143,136300143],[136303912,136303912],[136304538,136304538],[136304671,136304671],[136304809,136304809],[136312586,136312586],[136312653,136312653],[136316662,136316662],[136317926,136317926],[136322254,136322254],[136322849,136322849],[136324620,136324620],[136325049,136325049],[136327601,136327601],[136334099,136334099],[136339534,136339534],[136339845,136339845],[136343401,136343401],[136354814,136354814],[136357638,136357638],[136361093,136361093],[136371668,136371668],[136379205,136379205],[136386153,136386153],[136386690,136386690],[136386758,136386758],[135809270,135809270],[136040317,136040317],[136043375,136043375],[136055135,136055135],[136071494,136071494],[136155813,136155813],[136172579,136172579],[136176553,136176553],[136232292,136232292],[136300642,136300642],[135810535,135810535],[135817760,135817760],[135857538,135857538],[135862191,135862191],[135869380,135869380],[135869761,135869761],[135886486,135886486],[135888078,135888078],[135898023,135898023],[135933921,135933921],[135939824,135939824],[135941503,135941503],[135943900,135943900],[135945474,135945474],[135949715,135949715],[135956745,135956745],[135958693,135958693],[135967778,135967778],[135972093,135972093],[135973768,135973768],[135976498,135976498],[135978428,135978428],[135990031,135990031],[135992481,135992481],[135993925,135993925],[135994838,135994838],[136000253,136000253],[136003567,136003567],[136005477,136005477],[136005971,136005971],[136020977,136020977],[136027535,136027535],[136031588,136031588],[136032905,136032905],[136042480,136042480],[136043885,136043885],[136050471,136050471],[136052898,136052898],[136054815,136054815],[136056285,136056285],[136061560,136061560],[136063685,136063685],[136069060,136069060],[136072179,136072179],[136074233,136074233],[136080721,136080721],[136080822,136080822],[136088440,136088440],[136088643,136088643],[136092416,136092416],[136092869,136092869],[136094615,136094615],[136095505,136095505],[136095604,136095604],[136096766,136096766],[136097091,136097091],[136097394,136097394],[136100243,136100243],[136101823,136101823],[136106561,136106561],[136115501,136115501],[136122622,136122622],[136123014,136123014],[136123848,136123848],[136127100,136127100],[136127950,136127950],[136128630,136128630],[136129630,136129630],[136129791,136129791],[136131324,136131324],[136135383,136135383],[136135994,136135994],[136136224,136136224],[136136366,136136366],[136136440,136136440],[136138145,136138145],[136140568,136140568],[136145882,136145882],[136147948,136147948],[136148630,136148630],[136151485,136151485],[136152802,136152802],[136156753,136156753],[136157913,136157913],[136160902,136160902],[136165765,136165765],[136171649,136171649],[136173220,136173220],[136173735,136173735],[136174552,136174552],[136175692,136175692],[136176805,136176805],[136182484,136182484],[136183188,136183188],[136187252,136187252],[136187345,136187345],[136189475,136189475],[136197702,136197702],[136198435,136198435],[136202937,136202937],[136219999,136219999],[136221500,136221500],[136226626,136226626],[136228929,136228929],[136229598,136229598],[136238270,136238270],[136238346,136238346],[136240769,136240769],[136244171,136244171],[136249245,136249245],[136250285,136250285],[136254419,136254419],[136266241,136266241],[136267808,136267808],[136272074,136272074],[136277304,136277304],[136290607,136290607],[136290663,136290663],[136291310,136291310],[136296051,136296051],[136305392,136305392],[136306890,136306890],[136310803,136310803],[136324225,136324225],[136324465,136324465],[136327305,136327305],[136329618,136329618],[136333300,136333300],[136350089,136350089],[136354204,136354204],[136360455,136360455],[136368563,136368563],[135946660,135946660],[135948297,135948297],[135982812,135982812],[136068800,136068800],[136103328,136103328],[136309239,136309239],[136322472,136322472],[136323787,136323787],[136323862,136323862],[136326765,136326765],[136329500,136329500],[136331657,136331657],[136345356,136345356],[136361560,136361560],[136364916,136364916],[136369497,136369497],[136369580,136369580],[136380846,136380846],[136387893,136387893],[136398174,136398174],[136402117,136402117],[136403749,136403749],[136409073,136409073],[136410299,136410299],[136413359,136413359],[136416855,136416855],[136416941,136416941],[136418348,136418348],[136419961,136419961],[136420690,136420690],[136422171,136422171],[136428460,136428460],[136430866,136430866],[136432103,136432103],[136437507,136437507],[136439090,136439090],[136439517,136439517],[136444123,136444123],[136445526,136445526],[136445869,136445869],[136455600,136455600],[136456642,136456642],[136462441,136462441],[136470714,136470714],[136474098,136474098],[136428402,136428402],[136443005,136443005],[136452676,136452676],[136470407,136470407],[136474079,136474079],[136474234,136474234],[136515584,136515584],[136546910,136546910],[136561197,136561197],[136605093,136605093],[136605441,136605441],[136627309,136627309],[136649405,136649405],[136649641,136649641],[136501840,136501840],[136505546,136505546],[136516748,136516748],[136522710,136522710],[136528004,136528004],[136539513,136539513],[136544752,136544752],[136546110,136546110],[136553529,136553529],[136555659,136555659],[136652918,136652918],[136654337,136654337],[136656539,136656539],[136662655,136662655],[136664620,136664620],[136666397,136666397],[136668691,136668691],[136676934,136676934],[136686353,136686353],[136686541,136686541],[136688512,136688512],[136688514,136688514],[136690571,136690571],[136691446,136691446],[136694495,136694495],[136697642,136697642],[136699995,136699995],[136703199,136703199],[136703587,136703587],[136703910,136703910],[136704096,136704096],[136704732,136704732],[136705287,136705287],[136705630,136705630],[136705653,136705653],[136706851,136706851],[136707713,136707713],[136709013,136709013],[136710163,136710163],[136710189,136710189],[136710223,136710223],[136710282,136710282],[136711055,136711055],[136713946,136713946],[136715079,136715079],[136717377,136717377],[136719354,136719354],[136720874,136720874],[136720941,136720941],[136721621,136721621],[136722365,136722365],[136723537,136723537],[136724692,136724692],[136725023,136725023],[136725212,136725212],[136725779,136725779],[136726084,136726084],[136727282,136727282],[136727577,136727577],[136729594,136729594],[136729666,136729666],[136731911,136731911],[136732476,136732476],[136739056,136739056],[136740189,136740189],[136741173,136741173],[136743840,136743840],[136746479,136746479],[136748199,136748199],[136748566,136748566],[136749565,136749565],[136752613,136752613],[136753806,136753806],[136754802,136754802],[136756172,136756172],[136757136,136757136],[136757880,136757880],[136759001,136759001],[136759206,136759206],[136762992,136762992],[136764007,136764007],[136765273,136765273],[136768615,136768615],[136772207,136772207],[136774885,136774885],[136775417,136775417],[136775505,136775505],[136776308,136776308],[136779174,136779174],[136786630,136786630],[136653925,136653925],[136654833,136654833],[136656534,136656534],[136656536,136656536],[136657252,136657252],[136667301,136667301],[136667487,136667487],[136672775,136672775],[136680534,136680534],[136686393,136686393],[136688749,136688749],[136692553,136692553],[136697371,136697371],[136708787,136708787],[136710372,136710372],[136711064,136711064],[136715324,136715324],[136723504,136723504],[136737460,136737460],[136743143,136743143],[136746224,136746224],[136751842,136751842],[136759379,136759379],[136761853,136761853],[136658238,136658238],[136658821,136658821],[136664975,136664975],[136674123,136674123],[136677052,136677052],[136677919,136677919],[136704466,136704466],[136714792,136714792],[136724974,136724974],[136725890,136725890],[136732214,136732214]],\"ys\":[[650,696],[650,696],[650,696],[650,696],[650,696],[650,696],[650,696],[650,696],[650,696],[650,696],[650,696],[650,696],[650,696],[650,696],[650,696],[650,696],[650,696],[650,696],[650,696],[650,696],[650,696],[650,696],[650,696],[650,696],[650,696],[650,696],[650,696],[650,696],[650,696],[650,696],[650,696],[650,696],[650,696],[650,696],[650,696],[650,696],[650,696],[650,696],[650,696],[650,696],[650,696],[650,696],[650,696],[650,696],[650,696],[650,696],[650,696],[650,696],[650,696],[650,696],[650,696],[650,696],[650,696],[650,696],[650,696],[650,696],[650,696],[650,696],[650,696],[650,696],[650,696],[650,696],[650,696],[650,696],[650,696],[650,696],[650,696],[650,696],[650,696],[650,696],[650,696],[650,696],[650,696],[650,696],[650,696],[650,696],[650,696],[650,696],[650,696],[650,696],[650,696],[650,696],[650,696],[650,696],[650,696],[650,696],[650,696],[650,696],[650,696],[650,696],[650,696],[650,696],[650,696],[650,696],[650,696],[650,696],[650,696],[650,696],[650,696],[650,696],[650,696],[650,696],[650,696],[650,696],[650,696],[650,696],[650,696],[650,696],[650,696],[650,696],[650,696],[650,696],[650,696],[650,696],[650,696],[650,696],[650,696],[450,493],[450,493],[450,493],[450,493],[450,493],[450,493],[450,493],[450,493],[450,493],[450,493],[450,493],[450,493],[450,493],[450,493],[450,493],[450,493],[450,493],[450,493],[450,493],[450,493],[450,493],[450,493],[450,493],[450,493],[450,493],[450,493],[450,493],[450,493],[450,493],[450,493],[450,493],[450,493],[450,493],[450,493],[450,493],[450,493],[450,493],[450,493],[450,493],[450,493],[450,493],[450,493],[450,493],[450,493],[450,493],[450,493],[450,493],[450,493],[450,493],[450,493],[450,493],[450,493],[450,493],[450,493],[450,493],[450,493],[450,493],[450,493],[450,493],[450,493],[450,493],[450,493],[150,166],[150,166],[150,166],[150,166],[150,166],[150,166],[150,166],[150,166],[150,166],[150,166],[150,166],[150,166],[150,166],[150,166],[150,166],[150,166],[150,166],[150,166],[150,166],[150,166],[150,166],[150,166],[150,166],[150,166],[150,166],[150,166],[150,166],[150,166],[150,166],[150,166],[150,166],[150,166],[150,166],[150,166],[150,166],[150,166],[150,166],[150,166],[150,166],[150,166],[150,166],[150,166],[150,166],[150,166],[150,166],[150,166],[150,166],[150,166],[150,166],[150,166],[150,166],[150,166],[150,166],[150,166],[150,166],[150,166],[150,166],[150,166],[150,166],[150,166],[150,166],[150,166],[150,166],[150,166],[150,166],[150,166],[150,166],[150,166],[150,166],[150,166],[150,166],[150,166],[150,166],[150,166],[150,166],[150,166],[150,166],[150,166],[150,166],[150,166],[150,166],[150,166],[150,166],[150,166],[150,166],[150,166],[150,166],[150,166],[150,166],[150,166],[150,166],[150,166],[150,166],[150,166],[150,166],[150,166],[150,166],[150,166],[150,166],[150,166],[150,166],[150,166],[150,166],[150,166],[150,166],[150,166],[150,166],[150,166],[150,166],[150,166],[150,166],[150,166],[150,166],[150,166],[150,166],[150,166],[150,166],[150,166],[150,166],[150,166],[150,166],[150,166],[150,166],[150,166],[150,166],[150,166],[150,166],[150,166],[150,166],[150,166],[150,166],[150,166],[150,166],[150,166],[150,166],[150,166],[150,166],[150,166],[150,166],[150,166],[150,166],[150,166],[150,166],[150,166],[150,166],[150,166],[150,166],[150,166],[150,166],[150,166],[150,166],[150,166],[150,166],[150,166],[150,166],[150,166],[150,166],[150,166],[150,166],[150,166],[150,166],[150,166],[150,166],[150,166],[150,166],[150,166],[150,166],[150,166],[150,166],[150,166],[150,166],[150,166],[150,166],[150,166],[150,166],[150,166],[150,166],[150,166],[150,166],[150,166],[150,166],[150,166],[150,166],[150,166],[150,166],[150,166],[150,166],[150,166],[150,166],[150,166],[150,166],[150,166],[150,166],[150,166],[150,166],[150,166],[150,166],[150,166],[150,166],[150,166],[150,166],[150,166],[150,166],[150,166],[150,166],[150,166],[150,166],[150,166],[150,166],[50,64],[50,64],[50,64],[50,64],[50,64],[50,64],[50,64],[50,64],[50,64],[50,64],[350,386],[350,386],[350,386],[350,386],[350,386],[350,386],[350,386],[350,386],[350,386],[550,595],[550,595],[550,595],[550,595],[550,595],[550,595],[550,595],[550,595],[550,595],[550,595],[550,595],[550,595],[550,595],[550,595],[550,595],[550,595],[550,595],[550,595],[550,595],[550,595],[550,595],[550,595],[550,595],[550,595],[550,595],[550,595],[550,595],[550,595],[550,595],[550,595],[550,595],[550,595],[550,595],[550,595],[550,595],[550,595],[550,595],[550,595],[550,595],[550,595],[550,595],[550,595],[550,595],[550,595],[550,595],[550,595],[550,595],[550,595],[550,595],[550,595],[550,595],[550,595],[550,595],[550,595],[550,595],[550,595],[550,595],[550,595],[550,595],[550,595],[550,595],[550,595],[550,595],[550,595],[550,595],[550,595],[550,595],[550,595],[550,595],[550,595],[550,595],[550,595],[550,595],[550,595],[550,595],[550,595],[550,595],[550,595],[550,595],[550,595],[550,595],[550,595],[550,595],[550,595],[550,595],[550,595],[550,595],[550,595],[550,595],[550,595],[550,595],[550,595],[550,595],[550,595],[550,595],[550,595],[550,595],[550,595],[550,595],[550,595],[550,595],[550,595],[550,595],[550,595],[550,595],[550,595],[550,595],[550,595],[550,595],[550,595],[550,595],[550,595],[550,595],[550,595],[550,595],[550,595],[550,595],[550,595],[550,595],[550,595],[550,595],[550,595],[550,595],[250,271],[250,271],[250,271],[250,271],[250,271],[450,490],[450,490],[450,490],[450,490],[450,490],[450,490],[450,490],[450,490],[450,490],[350,387],[350,387],[350,387],[350,387],[350,387],[550,594],[550,594],[550,594],[550,594],[550,594],[550,594],[550,594],[550,594],[550,594],[550,594],[550,594],[550,594],[550,594],[550,594],[550,594],[550,594],[550,594],[550,594],[550,594],[550,594],[550,594],[550,594],[550,594],[550,594],[550,594],[550,594],[150,165],[150,165],[150,165],[150,165],[150,165],[150,165],[150,165],[150,165],[150,165],[150,165],[150,165],[150,165],[150,165],[150,165],[650,698],[650,698],[650,698],[650,698],[650,698],[650,698],[650,698],[650,698],[650,698],[650,698],[50,63],[50,63],[50,63],[50,63],[50,63],[50,63],[50,63],[50,63],[50,63],[50,63],[50,63],[50,63],[50,63],[50,63],[50,63],[50,63],[50,63],[50,63],[50,63],[50,63],[50,63],[50,63],[50,63],[50,63],[50,63],[50,63],[50,63],[50,63],[50,63],[50,63],[50,63],[50,63],[50,63],[50,63],[50,63],[50,63],[50,63],[50,63],[50,63],[50,63],[50,63],[50,63],[50,63],[50,63],[50,63],[50,63],[50,63],[50,63],[50,63],[50,63],[50,63],[50,63],[50,63],[50,63],[50,63],[50,63],[50,63],[50,63],[50,63],[50,63],[50,63],[50,63],[50,63],[50,63],[50,63],[50,63],[50,63],[50,63],[50,63],[50,63],[50,63],[50,63],[50,63],[50,63],[50,63],[50,63],[50,63],[50,63],[50,63],[50,63],[550,595],[550,595],[550,595],[550,595],[550,595],[550,595],[550,595],[550,595],[550,595],[550,595],[550,595],[550,595],[550,595],[550,595],[550,595],[550,595],[550,595],[550,595],[550,595],[550,595],[550,595],[550,595],[550,595],[550,595],[250,276],[250,276],[250,276],[250,276],[250,276],[250,276],[350,378],[350,378],[350,378],[350,378],[350,378]]}},\"id\":\"a5c8bb29-8ad0-4a2b-a59d-aa024c5af493\",\"type\":\"ColumnDataSource\"},{\"attributes\":{\"callback\":null,\"end\":136786630,\"start\":135757320},\"id\":\"ce748875-c17c-400c-aaff-07f407a1baaf\",\"type\":\"Range1d\"},{\"attributes\":{\"plot\":{\"id\":\"4860796d-2ccb-429a-b955-e8c5b61e209b\",\"subtype\":\"Figure\",\"type\":\"Plot\"}},\"id\":\"ba017699-e6b3-4090-97d2-77d36f2da24a\",\"type\":\"HelpTool\"},{\"attributes\":{\"bottom_units\":\"screen\",\"fill_alpha\":{\"value\":0.5},\"fill_color\":{\"value\":\"lightgrey\"},\"left_units\":\"screen\",\"level\":\"overlay\",\"line_alpha\":{\"value\":1.0},\"line_color\":{\"value\":\"black\"},\"line_dash\":[4,4],\"line_width\":{\"value\":2},\"plot\":null,\"render_mode\":\"css\",\"right_units\":\"screen\",\"top_units\":\"screen\"},\"id\":\"63b6b0e8-b843-4add-8cbd-f2362bdbb2df\",\"type\":\"BoxAnnotation\"},{\"attributes\":{},\"id\":\"6e3e4c60-5d36-4484-abd3-27c42b4cbbe0\",\"type\":\"BasicTickFormatter\"},{\"attributes\":{},\"id\":\"ab62570e-0d4c-4c57-84ae-22524fefb586\",\"type\":\"BasicTicker\"},{\"attributes\":{\"callback\":null,\"column_names\":[\"right\",\"bottom\",\"top\",\"left\"],\"data\":{\"bottom\":[745,745,745,745,745,745,745],\"left\":[135809835,135957574,136289083,136499189,136545415,136597196,136664254],\"right\":[135928279,136288182,136482839,136542633,136594750,136634047,136743222],\"top\":[775,775,775,775,775,775,775]}},\"id\":\"9307e91c-35f3-45ed-a047-d414b813176b\",\"type\":\"ColumnDataSource\"},{\"attributes\":{\"dimension\":1,\"plot\":{\"id\":\"4860796d-2ccb-429a-b955-e8c5b61e209b\",\"subtype\":\"Figure\",\"type\":\"Plot\"},\"ticker\":{\"id\":\"ab62570e-0d4c-4c57-84ae-22524fefb586\",\"type\":\"BasicTicker\"}},\"id\":\"4145ad51-7a13-4e95-8101-a44810095913\",\"type\":\"Grid\"},{\"attributes\":{\"data_source\":{\"id\":\"b9ec8374-8653-4c09-94aa-b0105c36fb5b\",\"type\":\"ColumnDataSource\"},\"glyph\":{\"id\":\"a2773c9f-f4c9-4550-9746-c1e38df192fa\",\"type\":\"Quad\"},\"hover_glyph\":null,\"nonselection_glyph\":{\"id\":\"2e684eb5-ccba-43c3-895e-30fe2b19bcbf\",\"type\":\"Quad\"},\"selection_glyph\":null},\"id\":\"06dee20b-9839-4446-bc25-f02390238f85\",\"type\":\"GlyphRenderer\"},{\"attributes\":{\"formatter\":{\"id\":\"541348a1-b4d5-466c-9dd2-509c684e38ea\",\"type\":\"BasicTickFormatter\"},\"plot\":{\"id\":\"4860796d-2ccb-429a-b955-e8c5b61e209b\",\"subtype\":\"Figure\",\"type\":\"Plot\"},\"ticker\":{\"id\":\"ab62570e-0d4c-4c57-84ae-22524fefb586\",\"type\":\"BasicTicker\"},\"visible\":null},\"id\":\"fe82b826-5980-472b-9b25-5f1f0e096220\",\"type\":\"LinearAxis\"},{\"attributes\":{\"plot\":{\"id\":\"4860796d-2ccb-429a-b955-e8c5b61e209b\",\"subtype\":\"Figure\",\"type\":\"Plot\"}},\"id\":\"6f2a3383-1aef-4421-9269-5053c2b7bc16\",\"type\":\"PanTool\"},{\"attributes\":{\"callback\":null,\"column_names\":[\"right\",\"bottom\",\"top\",\"left\",\"fill_color\"],\"data\":{\"bottom\":[650,450,150,50,350,550,250,450,350,550,150,650,50,550,250,350],\"fill_color\":[\"#808080\",\"#808080\",\"#ff0000\",\"#ff0000\",\"#ff0000\",\"#c46161\",\"#ff0000\",\"#ff0000\",\"#ff0000\",\"#61c461\",\"#ff0000\",\"#808080\",\"#ff0000\",\"#808080\",\"#c46161\",\"#ff0000\"],\"left\":[135758231,135766890,135769240,135809270,135810535,135933921,135946660,136309239,136364916,136398174,136428402,136501840,136652918,136653925,136658238,136704466],\"right\":[136376515,136275985,136386758,136300642,135898023,136368563,136103328,136361560,136387893,136474098,136649641,136555659,136786630,136761853,136677919,136732214],\"top\":[696,493,166,64,386,595,271,490,387,594,165,698,63,595,276,378]}},\"id\":\"b9ec8374-8653-4c09-94aa-b0105c36fb5b\",\"type\":\"ColumnDataSource\"},{\"attributes\":{\"level\":\"glyph\",\"plot\":{\"id\":\"4860796d-2ccb-429a-b955-e8c5b61e209b\",\"subtype\":\"Figure\",\"type\":\"Plot\"},\"source\":{\"id\":\"c0824a05-587d-4c82-9a4a-0b17b8ce7dd8\",\"type\":\"ColumnDataSource\"},\"text\":{\"field\":\"vals\"},\"text_font_size\":{\"value\":\"9pt\"},\"text_font_style\":\"bold\",\"x\":{\"field\":\"x\"},\"y\":{\"field\":\"y\"}},\"id\":\"b52ec123-de0e-4575-85c4-11c81f75b459\",\"type\":\"LabelSet\"},{\"attributes\":{\"bottom\":{\"field\":\"bottom\"},\"fill_color\":{\"value\":\"white\"},\"left\":{\"field\":\"left\"},\"right\":{\"field\":\"right\"},\"top\":{\"field\":\"top\"}},\"id\":\"4110dd4e-3667-4771-8e1c-2e14ae316a66\",\"type\":\"Quad\"},{\"attributes\":{\"bottom\":{\"field\":\"bottom\"},\"fill_alpha\":{\"value\":0.1},\"fill_color\":{\"value\":\"#1f77b4\"},\"left\":{\"field\":\"left\"},\"line_alpha\":{\"value\":0.1},\"line_color\":{\"value\":\"#1f77b4\"},\"right\":{\"field\":\"right\"},\"top\":{\"field\":\"top\"}},\"id\":\"2e684eb5-ccba-43c3-895e-30fe2b19bcbf\",\"type\":\"Quad\"}],\"root_ids\":[\"4860796d-2ccb-429a-b955-e8c5b61e209b\"]},\"title\":\"Bokeh Application\",\"version\":\"0.12.0\"}};\n",
       "            var render_items = [{\"docid\":\"9404b6da-d55d-4ebb-a2b4-f5eb632a5308\",\"elementid\":\"df470241-0814-4599-83b8-e20e88b36a32\",\"modelid\":\"4860796d-2ccb-429a-b955-e8c5b61e209b\",\"notebook_comms_target\":\"2e87e30a-8f86-4313-bc3a-760c772eb8c6\"}];\n",
       "            \n",
       "            Bokeh.embed.embed_items(docs_json, render_items);\n",
       "        });\n",
       "      },\n",
       "      function(Bokeh) {\n",
       "      }\n",
       "    ];\n",
       "  \n",
       "    function run_inline_js() {\n",
       "      for (var i = 0; i < inline_js.length; i++) {\n",
       "        inline_js[i](window.Bokeh);\n",
       "      }\n",
       "    }\n",
       "  \n",
       "    if (window._bokeh_is_loading === 0) {\n",
       "      console.log(\"Bokeh: BokehJS loaded, going straight to plotting\");\n",
       "      run_inline_js();\n",
       "    } else {\n",
       "      load_libs(js_urls, function() {\n",
       "        console.log(\"Bokeh: BokehJS plotting callback run at\", now());\n",
       "        run_inline_js();\n",
       "      });\n",
       "    }\n",
       "  }(this));\n",
       "</script>"
      ]
     },
     "metadata": {},
     "output_type": "display_data"
    },
    {
     "data": {
      "text/html": [
       "<p><code>&lt;Bokeh Notebook handle for <strong>In[12]</strong>&gt;</code></p>"
      ],
      "text/plain": [
       "<bokeh.io._CommsHandle at 0x7f436559cf10>"
      ]
     },
     "execution_count": 12,
     "metadata": {},
     "output_type": "execute_result"
    }
   ],
   "source": [
    "di_14_48 = 353833\n",
    "plt_obj = dm.superset_yes_no([di_14_48], min_match=0.5)\n",
    "plt = plt_obj.do_plot()\n",
    "am_14_48 = plt_obj.plot_context.yes_allele_mask\n",
    "show(plt)"
   ]
  },
  {
   "cell_type": "code",
   "execution_count": 13,
   "metadata": {
    "collapsed": false
   },
   "outputs": [
    {
     "data": {
      "text/html": [
       "<table>\n",
       "<thead><tr><th style=\"text-align:center\">index</th><th style=\"text-align:center\">first</th><th style=\"text-align:center\">length</th><th style=\"text-align:center\">snps</th><th style=\"text-align:center\" colspan=2>alleles</th><th style=\"text-align:center\" colspan=2>matches</th><th style=\"text-align:center\" colspan=2>afr</th><th style=\"text-align:center\" colspan=2>afx</th><th style=\"text-align:center\" colspan=2>amr</th><th style=\"text-align:center\" colspan=2>eas</th><th style=\"text-align:center\" colspan=2>eur</th><th style=\"text-align:center\" colspan=2>sas</th><th style=\"text-align:center\" colspan=2>sax</th></tr></thead>\n",
       "<tr class=\"even\"><td style=\"text-align: right;\">353921</td><td style=\"text-align: right;\">136,501,840</td><td style=\"text-align: right;\">53,819</td><td style=\"text-align: right;\">10</td><td style=\"text-align: right;\">2206</td><td style=\"text-align: right;\">0.02</td><td style=\"text-align: right;\">48</td><td style=\"text-align: right;\">1.00</td><td style=\"text-align: right;\">34</td><td style=\"text-align: right;\">3.52</td><td style=\"text-align: right;\">10</td><td style=\"text-align: right;\">3.32</td><td style=\"text-align: right;\">4</td><td style=\"text-align: right;\">0.60</td><td style=\"text-align: right;\">0</td><td style=\"text-align: right;\">0.00</td><td style=\"text-align: right;\">0</td><td style=\"text-align: right;\">0.00</td><td style=\"text-align: right;\">0</td><td style=\"text-align: right;\">0.00</td><td style=\"text-align: right;\">0</td><td style=\"text-align: right;\">0.00</td></tr>\n",
       "<tr><td style=\"text-align: right;\">353244</td><td style=\"text-align: right;\">135,758,231</td><td style=\"text-align: right;\">618,284</td><td style=\"text-align: right;\">117</td><td style=\"text-align: right;\">1685</td><td style=\"text-align: right;\">0.03</td><td style=\"text-align: right;\">48</td><td style=\"text-align: right;\">1.00</td><td style=\"text-align: right;\">34</td><td style=\"text-align: right;\">3.52</td><td style=\"text-align: right;\">10</td><td style=\"text-align: right;\">3.32</td><td style=\"text-align: right;\">4</td><td style=\"text-align: right;\">0.60</td><td style=\"text-align: right;\">0</td><td style=\"text-align: right;\">0.00</td><td style=\"text-align: right;\">0</td><td style=\"text-align: right;\">0.00</td><td style=\"text-align: right;\">0</td><td style=\"text-align: right;\">0.00</td><td style=\"text-align: right;\">0</td><td style=\"text-align: right;\">0.00</td></tr>\n",
       "<tr class=\"even\"><td style=\"text-align: right;\">353478</td><td style=\"text-align: right;\">135,933,921</td><td style=\"text-align: right;\">434,642</td><td style=\"text-align: right;\">123</td><td style=\"text-align: right;\">1561</td><td style=\"text-align: right;\">0.03</td><td style=\"text-align: right;\">46</td><td style=\"text-align: right;\">0.96</td><td style=\"text-align: right;\">33</td><td style=\"text-align: right;\">3.56</td><td style=\"text-align: right;\">9</td><td style=\"text-align: right;\">3.12</td><td style=\"text-align: right;\">4</td><td style=\"text-align: right;\">0.63</td><td style=\"text-align: right;\">0</td><td style=\"text-align: right;\">0.00</td><td style=\"text-align: right;\">0</td><td style=\"text-align: right;\">0.00</td><td style=\"text-align: right;\">0</td><td style=\"text-align: right;\">0.00</td><td style=\"text-align: right;\">0</td><td style=\"text-align: right;\">0.00</td></tr>\n",
       "<tr><td style=\"text-align: right;\">354130</td><td style=\"text-align: right;\">136,653,925</td><td style=\"text-align: right;\">107,928</td><td style=\"text-align: right;\">24</td><td style=\"text-align: right;\">1504</td><td style=\"text-align: right;\">0.02</td><td style=\"text-align: right;\">36</td><td style=\"text-align: right;\">0.75</td><td style=\"text-align: right;\">26</td><td style=\"text-align: right;\">3.59</td><td style=\"text-align: right;\">6</td><td style=\"text-align: right;\">2.66</td><td style=\"text-align: right;\">4</td><td style=\"text-align: right;\">0.80</td><td style=\"text-align: right;\">0</td><td style=\"text-align: right;\">0.00</td><td style=\"text-align: right;\">0</td><td style=\"text-align: right;\">0.00</td><td style=\"text-align: right;\">0</td><td style=\"text-align: right;\">0.00</td><td style=\"text-align: right;\">0</td><td style=\"text-align: right;\">0.00</td></tr>\n",
       "<tr class=\"even\"><td style=\"text-align: right;\">353797</td><td style=\"text-align: right;\">136,398,174</td><td style=\"text-align: right;\">75,924</td><td style=\"text-align: right;\">26</td><td style=\"text-align: right;\">1414</td><td style=\"text-align: right;\">0.03</td><td style=\"text-align: right;\">48</td><td style=\"text-align: right;\">1.00</td><td style=\"text-align: right;\">34</td><td style=\"text-align: right;\">3.52</td><td style=\"text-align: right;\">10</td><td style=\"text-align: right;\">3.32</td><td style=\"text-align: right;\">4</td><td style=\"text-align: right;\">0.60</td><td style=\"text-align: right;\">0</td><td style=\"text-align: right;\">0.00</td><td style=\"text-align: right;\">0</td><td style=\"text-align: right;\">0.00</td><td style=\"text-align: right;\">0</td><td style=\"text-align: right;\">0.00</td><td style=\"text-align: right;\">0</td><td style=\"text-align: right;\">0.00</td></tr>\n",
       "<tr><td style=\"text-align: right;\">353269</td><td style=\"text-align: right;\">135,766,890</td><td style=\"text-align: right;\">509,095</td><td style=\"text-align: right;\">62</td><td style=\"text-align: right;\">1265</td><td style=\"text-align: right;\">0.04</td><td style=\"text-align: right;\">46</td><td style=\"text-align: right;\">0.96</td><td style=\"text-align: right;\">33</td><td style=\"text-align: right;\">3.56</td><td style=\"text-align: right;\">9</td><td style=\"text-align: right;\">3.12</td><td style=\"text-align: right;\">4</td><td style=\"text-align: right;\">0.63</td><td style=\"text-align: right;\">0</td><td style=\"text-align: right;\">0.00</td><td style=\"text-align: right;\">0</td><td style=\"text-align: right;\">0.00</td><td style=\"text-align: right;\">0</td><td style=\"text-align: right;\">0.00</td><td style=\"text-align: right;\">0</td><td style=\"text-align: right;\">0.00</td></tr>\n",
       "<tr class=\"even\"><td style=\"text-align: right;\">353729</td><td style=\"text-align: right;\">136,309,239</td><td style=\"text-align: right;\">52,321</td><td style=\"text-align: right;\">9</td><td style=\"text-align: right;\">887</td><td style=\"text-align: right;\">0.05</td><td style=\"text-align: right;\">46</td><td style=\"text-align: right;\">0.96</td><td style=\"text-align: right;\">33</td><td style=\"text-align: right;\">3.56</td><td style=\"text-align: right;\">9</td><td style=\"text-align: right;\">3.12</td><td style=\"text-align: right;\">4</td><td style=\"text-align: right;\">0.63</td><td style=\"text-align: right;\">0</td><td style=\"text-align: right;\">0.00</td><td style=\"text-align: right;\">0</td><td style=\"text-align: right;\">0.00</td><td style=\"text-align: right;\">0</td><td style=\"text-align: right;\">0.00</td><td style=\"text-align: right;\">0</td><td style=\"text-align: right;\">0.00</td></tr>\n",
       "<tr><td style=\"text-align: right;\">353764</td><td style=\"text-align: right;\">136,364,916</td><td style=\"text-align: right;\">22,977</td><td style=\"text-align: right;\">5</td><td style=\"text-align: right;\">588</td><td style=\"text-align: right;\">0.08</td><td style=\"text-align: right;\">46</td><td style=\"text-align: right;\">0.96</td><td style=\"text-align: right;\">33</td><td style=\"text-align: right;\">3.56</td><td style=\"text-align: right;\">9</td><td style=\"text-align: right;\">3.12</td><td style=\"text-align: right;\">4</td><td style=\"text-align: right;\">0.63</td><td style=\"text-align: right;\">0</td><td style=\"text-align: right;\">0.00</td><td style=\"text-align: right;\">0</td><td style=\"text-align: right;\">0.00</td><td style=\"text-align: right;\">0</td><td style=\"text-align: right;\">0.00</td><td style=\"text-align: right;\">0</td><td style=\"text-align: right;\">0.00</td></tr>\n",
       "<tr class=\"even\"><td style=\"text-align: right;\">353349</td><td style=\"text-align: right;\">135,810,535</td><td style=\"text-align: right;\">87,488</td><td style=\"text-align: right;\">9</td><td style=\"text-align: right;\">545</td><td style=\"text-align: right;\">0.08</td><td style=\"text-align: right;\">46</td><td style=\"text-align: right;\">0.96</td><td style=\"text-align: right;\">33</td><td style=\"text-align: right;\">3.56</td><td style=\"text-align: right;\">9</td><td style=\"text-align: right;\">3.12</td><td style=\"text-align: right;\">4</td><td style=\"text-align: right;\">0.63</td><td style=\"text-align: right;\">0</td><td style=\"text-align: right;\">0.00</td><td style=\"text-align: right;\">0</td><td style=\"text-align: right;\">0.00</td><td style=\"text-align: right;\">0</td><td style=\"text-align: right;\">0.00</td><td style=\"text-align: right;\">0</td><td style=\"text-align: right;\">0.00</td></tr>\n",
       "<tr><td style=\"text-align: right;\">354189</td><td style=\"text-align: right;\">136,704,466</td><td style=\"text-align: right;\">27,748</td><td style=\"text-align: right;\">5</td><td style=\"text-align: right;\">212</td><td style=\"text-align: right;\">0.17</td><td style=\"text-align: right;\">36</td><td style=\"text-align: right;\">0.75</td><td style=\"text-align: right;\">26</td><td style=\"text-align: right;\">3.59</td><td style=\"text-align: right;\">6</td><td style=\"text-align: right;\">2.66</td><td style=\"text-align: right;\">4</td><td style=\"text-align: right;\">0.80</td><td style=\"text-align: right;\">0</td><td style=\"text-align: right;\">0.00</td><td style=\"text-align: right;\">0</td><td style=\"text-align: right;\">0.00</td><td style=\"text-align: right;\">0</td><td style=\"text-align: right;\">0.00</td><td style=\"text-align: right;\">0</td><td style=\"text-align: right;\">0.00</td></tr>\n",
       "<tr class=\"even\"><td style=\"text-align: right;\">354143</td><td style=\"text-align: right;\">136,658,238</td><td style=\"text-align: right;\">19,681</td><td style=\"text-align: right;\">6</td><td style=\"text-align: right;\">167</td><td style=\"text-align: right;\">0.22</td><td style=\"text-align: right;\">36</td><td style=\"text-align: right;\">0.75</td><td style=\"text-align: right;\">26</td><td style=\"text-align: right;\">3.59</td><td style=\"text-align: right;\">6</td><td style=\"text-align: right;\">2.66</td><td style=\"text-align: right;\">4</td><td style=\"text-align: right;\">0.80</td><td style=\"text-align: right;\">0</td><td style=\"text-align: right;\">0.00</td><td style=\"text-align: right;\">0</td><td style=\"text-align: right;\">0.00</td><td style=\"text-align: right;\">0</td><td style=\"text-align: right;\">0.00</td><td style=\"text-align: right;\">0</td><td style=\"text-align: right;\">0.00</td></tr>\n",
       "<tr><td style=\"text-align: right;\">353486</td><td style=\"text-align: right;\">135,946,660</td><td style=\"text-align: right;\">156,668</td><td style=\"text-align: right;\">5</td><td style=\"text-align: right;\">96</td><td style=\"text-align: right;\">0.48</td><td style=\"text-align: right;\">46</td><td style=\"text-align: right;\">0.96</td><td style=\"text-align: right;\">33</td><td style=\"text-align: right;\">3.56</td><td style=\"text-align: right;\">9</td><td style=\"text-align: right;\">3.12</td><td style=\"text-align: right;\">4</td><td style=\"text-align: right;\">0.63</td><td style=\"text-align: right;\">0</td><td style=\"text-align: right;\">0.00</td><td style=\"text-align: right;\">0</td><td style=\"text-align: right;\">0.00</td><td style=\"text-align: right;\">0</td><td style=\"text-align: right;\">0.00</td><td style=\"text-align: right;\">0</td><td style=\"text-align: right;\">0.00</td></tr>\n",
       "<tr class=\"even\"><td style=\"text-align: right;\">353276</td><td style=\"text-align: right;\">135,769,240</td><td style=\"text-align: right;\">617,518</td><td style=\"text-align: right;\">209</td><td style=\"text-align: right;\">56</td><td style=\"text-align: right;\">0.82</td><td style=\"text-align: right;\">46</td><td style=\"text-align: right;\">0.96</td><td style=\"text-align: right;\">33</td><td style=\"text-align: right;\">3.56</td><td style=\"text-align: right;\">9</td><td style=\"text-align: right;\">3.12</td><td style=\"text-align: right;\">4</td><td style=\"text-align: right;\">0.63</td><td style=\"text-align: right;\">0</td><td style=\"text-align: right;\">0.00</td><td style=\"text-align: right;\">0</td><td style=\"text-align: right;\">0.00</td><td style=\"text-align: right;\">0</td><td style=\"text-align: right;\">0.00</td><td style=\"text-align: right;\">0</td><td style=\"text-align: right;\">0.00</td></tr>\n",
       "<tr><td style=\"text-align: right;\">353833</td><td style=\"text-align: right;\">136,428,402</td><td style=\"text-align: right;\">221,239</td><td style=\"text-align: right;\">14</td><td style=\"text-align: right;\">48</td><td style=\"text-align: right;\">1.00</td><td style=\"text-align: right;\">48</td><td style=\"text-align: right;\">1.00</td><td style=\"text-align: right;\">34</td><td style=\"text-align: right;\">3.52</td><td style=\"text-align: right;\">10</td><td style=\"text-align: right;\">3.32</td><td style=\"text-align: right;\">4</td><td style=\"text-align: right;\">0.60</td><td style=\"text-align: right;\">0</td><td style=\"text-align: right;\">0.00</td><td style=\"text-align: right;\">0</td><td style=\"text-align: right;\">0.00</td><td style=\"text-align: right;\">0</td><td style=\"text-align: right;\">0.00</td><td style=\"text-align: right;\">0</td><td style=\"text-align: right;\">0.00</td></tr>\n",
       "<tr class=\"even\"><td style=\"text-align: right;\">353347</td><td style=\"text-align: right;\">135,809,270</td><td style=\"text-align: right;\">491,372</td><td style=\"text-align: right;\">10</td><td style=\"text-align: right;\">43</td><td style=\"text-align: right;\">0.88</td><td style=\"text-align: right;\">38</td><td style=\"text-align: right;\">0.79</td><td style=\"text-align: right;\">28</td><td style=\"text-align: right;\">3.66</td><td style=\"text-align: right;\">7</td><td style=\"text-align: right;\">2.94</td><td style=\"text-align: right;\">3</td><td style=\"text-align: right;\">0.57</td><td style=\"text-align: right;\">0</td><td style=\"text-align: right;\">0.00</td><td style=\"text-align: right;\">0</td><td style=\"text-align: right;\">0.00</td><td style=\"text-align: right;\">0</td><td style=\"text-align: right;\">0.00</td><td style=\"text-align: right;\">0</td><td style=\"text-align: right;\">0.00</td></tr>\n",
       "<tr><td style=\"text-align: right;\">354128</td><td style=\"text-align: right;\">136,652,918</td><td style=\"text-align: right;\">133,712</td><td style=\"text-align: right;\">80</td><td style=\"text-align: right;\">38</td><td style=\"text-align: right;\">0.95</td><td style=\"text-align: right;\">36</td><td style=\"text-align: right;\">0.75</td><td style=\"text-align: right;\">26</td><td style=\"text-align: right;\">3.59</td><td style=\"text-align: right;\">6</td><td style=\"text-align: right;\">2.66</td><td style=\"text-align: right;\">4</td><td style=\"text-align: right;\">0.80</td><td style=\"text-align: right;\">0</td><td style=\"text-align: right;\">0.00</td><td style=\"text-align: right;\">0</td><td style=\"text-align: right;\">0.00</td><td style=\"text-align: right;\">0</td><td style=\"text-align: right;\">0.00</td><td style=\"text-align: right;\">0</td><td style=\"text-align: right;\">0.00</td></tr>\n",
       "</table>"
      ],
      "text/plain": [
       "<IPython.core.display.HTML object>"
      ]
     },
     "execution_count": 13,
     "metadata": {},
     "output_type": "execute_result"
    }
   ],
   "source": [
    "HTML(plt_obj.get_html())"
   ]
  },
  {
   "cell_type": "code",
   "execution_count": 14,
   "metadata": {
    "collapsed": false
   },
   "outputs": [
    {
     "data": {
      "text/plain": [
       "array([48, 48, 48, 48, 48, 48, 48, 48, 48, 48, 48, 48, 48, 48, 48, 48, 48,\n",
       "        0, 48, 48, 48,  0, 48,  0, 48, 48])"
      ]
     },
     "execution_count": 14,
     "metadata": {},
     "output_type": "execute_result"
    }
   ],
   "source": [
    "an.sa_26_1414.alleles_per_snp(am_14_48)"
   ]
  },
  {
   "cell_type": "code",
   "execution_count": 15,
   "metadata": {
    "collapsed": false
   },
   "outputs": [
    {
     "data": {
      "text/plain": [
       "array([48, 48,  0, 48, 48, 48, 48, 48, 48,  0, 48,  0, 48, 48, 48,  2, 48,\n",
       "       48, 48, 48, 48, 48, 48, 48, 48, 48, 48, 48, 48, 48, 48, 48, 48, 48,\n",
       "       48, 48, 48, 48, 48, 48, 48, 48, 48, 47, 48, 48, 48, 48, 48, 48, 48,\n",
       "       48,  0, 48, 48, 48, 48,  0,  0,  0,  0,  0,  0,  0])"
      ]
     },
     "execution_count": 15,
     "metadata": {},
     "output_type": "execute_result"
    }
   ],
   "source": [
    "sa_64_1575.alleles_per_snp(am_14_48)"
   ]
  },
  {
   "cell_type": "markdown",
   "metadata": {},
   "source": [
    "<div style=\"width:700px\">\n",
    "<p>\n",
    "This plot shows the most common series for the 33 samples that express\n",
    "26_1414 and 117_1685 but not 14_48.  The samples include 19 that express\n",
    "the series 67_329.\n",
    "</div>"
   ]
  },
  {
   "cell_type": "code",
   "execution_count": 16,
   "metadata": {
    "collapsed": false
   },
   "outputs": [
    {
     "data": {
      "text/html": [
       "\n",
       "\n",
       "    <div class=\"bk-root\">\n",
       "        <div class=\"plotdiv\" id=\"88a83cfc-db83-468a-b277-29eccf7c6f1a\"></div>\n",
       "    </div>\n",
       "<script type=\"text/javascript\">\n",
       "  \n",
       "  (function(global) {\n",
       "    function now() {\n",
       "      return new Date();\n",
       "    }\n",
       "  \n",
       "    if (typeof (window._bokeh_onload_callbacks) === \"undefined\") {\n",
       "      window._bokeh_onload_callbacks = [];\n",
       "    }\n",
       "  \n",
       "    function run_callbacks() {\n",
       "      window._bokeh_onload_callbacks.forEach(function(callback) { callback() });\n",
       "      delete window._bokeh_onload_callbacks\n",
       "      console.info(\"Bokeh: all callbacks have finished\");\n",
       "    }\n",
       "  \n",
       "    function load_libs(js_urls, callback) {\n",
       "      window._bokeh_onload_callbacks.push(callback);\n",
       "      if (window._bokeh_is_loading > 0) {\n",
       "        console.log(\"Bokeh: BokehJS is being loaded, scheduling callback at\", now());\n",
       "        return null;\n",
       "      }\n",
       "      if (js_urls == null || js_urls.length === 0) {\n",
       "        run_callbacks();\n",
       "        return null;\n",
       "      }\n",
       "      console.log(\"Bokeh: BokehJS not loaded, scheduling load and callback at\", now());\n",
       "      window._bokeh_is_loading = js_urls.length;\n",
       "      for (var i = 0; i < js_urls.length; i++) {\n",
       "        var url = js_urls[i];\n",
       "        var s = document.createElement('script');\n",
       "        s.src = url;\n",
       "        s.async = false;\n",
       "        s.onreadystatechange = s.onload = function() {\n",
       "          window._bokeh_is_loading--;\n",
       "          if (window._bokeh_is_loading === 0) {\n",
       "            console.log(\"Bokeh: all BokehJS libraries loaded\");\n",
       "            run_callbacks()\n",
       "          }\n",
       "        };\n",
       "        s.onerror = function() {\n",
       "          console.warn(\"failed to load library \" + url);\n",
       "        };\n",
       "        console.log(\"Bokeh: injecting script tag for BokehJS library: \", url);\n",
       "        document.getElementsByTagName(\"head\")[0].appendChild(s);\n",
       "      }\n",
       "    };var element = document.getElementById(\"88a83cfc-db83-468a-b277-29eccf7c6f1a\");\n",
       "    if (element == null) {\n",
       "      console.log(\"Bokeh: ERROR: autoload.js configured with elementid '88a83cfc-db83-468a-b277-29eccf7c6f1a' but no matching script tag was found. \")\n",
       "      return false;\n",
       "    }\n",
       "  \n",
       "    var js_urls = [];\n",
       "  \n",
       "    var inline_js = [\n",
       "      function(Bokeh) {\n",
       "        Bokeh.$(function() {\n",
       "            var docs_json = {\"9e3f9caf-ac9e-4a44-acc4-dbcd3a790ac4\":{\"roots\":{\"references\":[{\"attributes\":{},\"id\":\"578d645a-50c1-456b-9de3-ac36b0120430\",\"type\":\"ToolEvents\"},{\"attributes\":{\"bottom\":{\"field\":\"bottom\"},\"fill_alpha\":{\"value\":0.1},\"fill_color\":{\"value\":\"#1f77b4\"},\"left\":{\"field\":\"left\"},\"line_alpha\":{\"value\":0.1},\"line_color\":{\"value\":\"#1f77b4\"},\"right\":{\"field\":\"right\"},\"top\":{\"field\":\"top\"}},\"id\":\"59fd8aab-4136-4b67-a375-83fced2975e0\",\"type\":\"Quad\"},{\"attributes\":{\"level\":\"glyph\",\"plot\":{\"id\":\"806959c9-493e-416c-94d3-269ff82f0409\",\"subtype\":\"Figure\",\"type\":\"Plot\"},\"source\":{\"id\":\"34b7f2bc-a6d0-4688-958d-52d806903fe7\",\"type\":\"ColumnDataSource\"},\"text\":{\"field\":\"vals\"},\"text_align\":\"center\",\"text_baseline\":\"middle\",\"text_font_size\":{\"value\":\"8pt\"},\"x\":{\"field\":\"x\"},\"y\":{\"field\":\"y\"}},\"id\":\"f7675c1f-c985-4e61-8d7a-21ed93547a03\",\"type\":\"LabelSet\"},{\"attributes\":{},\"id\":\"87df9f70-596e-44a9-b9db-d7305fec49c0\",\"type\":\"BasicTickFormatter\"},{\"attributes\":{\"dimension\":1,\"plot\":{\"id\":\"806959c9-493e-416c-94d3-269ff82f0409\",\"subtype\":\"Figure\",\"type\":\"Plot\"},\"ticker\":{\"id\":\"61d1ac46-5bbf-4273-b5d0-751cd1484e74\",\"type\":\"BasicTicker\"}},\"id\":\"0ab1b0fa-54cd-42a9-95f5-f9f1de7b7923\",\"type\":\"Grid\"},{\"attributes\":{\"plot\":{\"id\":\"806959c9-493e-416c-94d3-269ff82f0409\",\"subtype\":\"Figure\",\"type\":\"Plot\"}},\"id\":\"da732f59-4fd4-4eb0-ab30-321593ef9e6a\",\"type\":\"SaveTool\"},{\"attributes\":{\"formatter\":{\"id\":\"87df9f70-596e-44a9-b9db-d7305fec49c0\",\"type\":\"BasicTickFormatter\"},\"plot\":{\"id\":\"806959c9-493e-416c-94d3-269ff82f0409\",\"subtype\":\"Figure\",\"type\":\"Plot\"},\"ticker\":{\"id\":\"e40831ab-9ec7-47bb-952a-af0f91ab60a7\",\"type\":\"BasicTicker\"}},\"id\":\"9b60ad0e-019d-44bc-aa11-785f370100b9\",\"type\":\"LinearAxis\"},{\"attributes\":{\"level\":\"glyph\",\"plot\":{\"id\":\"806959c9-493e-416c-94d3-269ff82f0409\",\"subtype\":\"Figure\",\"type\":\"Plot\"},\"source\":{\"id\":\"eb949573-90a4-4077-97cd-0197e8dd1a29\",\"type\":\"ColumnDataSource\"},\"text\":{\"field\":\"vals\"},\"text_font_size\":{\"value\":\"9pt\"},\"text_font_style\":\"bold\",\"x\":{\"field\":\"x\"},\"y\":{\"field\":\"y\"}},\"id\":\"7fefd83a-4185-458f-957a-0b4b5e1d0f4f\",\"type\":\"LabelSet\"},{\"attributes\":{\"callback\":null,\"column_names\":[\"y\",\"x\",\"vals\"],\"data\":{\"vals\":[\"RAB3GAP1\",\"ZRANB3\",\"R3HDM1\",\"UBXN4\",\"LCT\",\"MCM6\",\"DARS\"],\"x\":[135869057.0,136122878.0,136385961.0,136520911.0,136570082.5,136615621.5,136703738.0],\"y\":[960.0,960.0,960.0,960.0,960.0,960.0,960.0]}},\"id\":\"34b7f2bc-a6d0-4688-958d-52d806903fe7\",\"type\":\"ColumnDataSource\"},{\"attributes\":{\"plot\":null,\"text\":null},\"id\":\"aebc2dc2-daa9-4cf2-96b1-5ed27ac2bc44\",\"type\":\"Title\"},{\"attributes\":{\"plot\":{\"id\":\"806959c9-493e-416c-94d3-269ff82f0409\",\"subtype\":\"Figure\",\"type\":\"Plot\"}},\"id\":\"880c1c86-bb2f-43aa-afe1-aab84081fdd0\",\"type\":\"HelpTool\"},{\"attributes\":{\"callback\":null,\"column_names\":[\"xs\",\"ys\",\"line_color\"],\"data\":{\"line_color\":[\"black\",\"black\",\"black\",\"black\",\"black\",\"black\",\"black\",\"black\",\"black\",\"black\",\"black\",\"black\",\"black\",\"black\",\"black\",\"black\",\"black\",\"black\",\"black\",\"black\",\"black\",\"black\",\"black\",\"black\",\"black\",\"black\",\"black\",\"black\",\"black\",\"black\",\"black\",\"black\",\"black\",\"black\",\"black\",\"black\",\"black\",\"black\",\"black\",\"black\",\"black\",\"black\",\"black\",\"black\",\"black\",\"black\",\"black\",\"black\",\"black\",\"black\",\"black\",\"black\",\"black\",\"black\",\"black\",\"black\",\"black\",\"black\",\"black\",\"black\",\"black\",\"black\",\"black\",\"black\",\"black\",\"black\",\"black\",\"black\",\"black\",\"black\",\"black\",\"black\",\"black\",\"black\",\"black\",\"black\",\"black\",\"black\",\"black\",\"black\",\"black\",\"black\",\"black\",\"black\",\"black\",\"black\",\"black\",\"black\",\"black\",\"black\",\"black\",\"black\",\"black\",\"black\",\"black\",\"black\",\"black\",\"black\",\"black\",\"black\",\"black\",\"black\",\"black\",\"black\",\"black\",\"black\",\"black\",\"black\",\"black\",\"black\",\"black\",\"black\",\"black\",\"black\",\"black\",\"black\",\"black\",\"black\",\"black\",\"black\",\"black\",\"black\",\"black\",\"black\",\"black\",\"black\",\"black\",\"black\",\"black\",\"black\",\"black\",\"black\",\"black\",\"black\",\"black\",\"black\",\"black\",\"black\",\"black\",\"black\",\"black\",\"black\",\"black\",\"black\",\"black\",\"black\",\"black\",\"black\",\"black\",\"black\",\"black\",\"black\",\"black\",\"black\",\"black\",\"black\",\"black\",\"black\",\"black\",\"black\",\"black\",\"black\",\"black\",\"black\",\"black\",\"black\",\"black\",\"black\",\"black\",\"black\",\"black\",\"black\",\"black\",\"black\",\"black\",\"black\",\"black\",\"black\",\"black\",\"black\",\"black\",\"black\",\"black\",\"black\",\"black\",\"black\",\"black\",\"black\",\"black\",\"black\",\"black\",\"black\",\"black\",\"black\",\"black\",\"black\",\"black\",\"black\",\"black\",\"black\",\"black\",\"black\",\"black\",\"black\",\"black\",\"black\",\"black\",\"black\",\"black\",\"black\",\"black\",\"black\",\"black\",\"black\",\"black\",\"black\",\"black\",\"black\",\"black\",\"black\",\"black\",\"black\",\"black\",\"black\",\"black\",\"black\",\"black\",\"black\",\"black\",\"black\",\"black\",\"black\",\"black\",\"black\",\"black\",\"black\",\"black\",\"black\",\"black\",\"black\",\"black\",\"black\",\"black\",\"black\",\"black\",\"black\",\"black\",\"black\",\"black\",\"black\",\"black\",\"black\",\"black\",\"black\",\"black\",\"black\",\"black\",\"black\",\"black\",\"black\",\"black\",\"black\",\"black\",\"black\",\"black\",\"black\",\"black\",\"black\",\"black\",\"black\",\"black\",\"black\",\"black\",\"black\",\"black\",\"black\",\"black\",\"black\",\"black\",\"black\",\"black\",\"black\",\"black\",\"black\",\"black\",\"black\",\"black\",\"black\",\"black\",\"black\",\"black\",\"black\",\"black\",\"black\",\"black\",\"black\",\"black\",\"black\",\"black\",\"black\",\"black\",\"black\",\"black\",\"black\",\"black\",\"black\",\"black\",\"black\",\"black\",\"black\",\"black\",\"black\",\"black\",\"black\",\"black\",\"black\",\"black\",\"black\",\"black\",\"black\",\"black\",\"black\",\"black\",\"black\",\"black\",\"black\",\"black\",\"black\",\"black\",\"black\",\"black\",\"black\",\"black\",\"black\",\"black\",\"black\",\"black\",\"black\",\"black\",\"black\",\"black\",\"black\",\"black\",\"black\",\"black\",\"black\",\"black\",\"black\",\"black\",\"black\",\"black\",\"black\",\"black\",\"black\",\"black\",\"black\",\"black\",\"black\",\"black\",\"black\",\"black\",\"black\",\"black\",\"black\",\"black\",\"black\",\"black\",\"black\",\"black\",\"black\",\"black\",\"black\",\"black\",\"black\",\"black\",\"black\",\"black\",\"black\",\"black\",\"black\",\"black\",\"black\",\"black\",\"black\",\"black\",\"black\",\"black\",\"black\",\"black\",\"black\",\"black\",\"black\",\"black\",\"black\",\"black\",\"black\",\"black\",\"black\",\"black\",\"black\",\"black\",\"black\",\"black\",\"black\",\"black\",\"black\",\"black\",\"black\",\"black\",\"black\",\"black\",\"black\",\"black\",\"black\",\"black\",\"black\",\"black\",\"black\",\"black\",\"black\",\"black\",\"black\",\"black\",\"black\",\"black\",\"black\",\"black\",\"black\",\"black\",\"black\",\"black\",\"black\",\"black\",\"black\",\"black\",\"black\",\"black\",\"black\",\"black\",\"black\",\"black\",\"black\",\"black\",\"black\",\"black\",\"black\",\"black\",\"black\",\"black\",\"black\",\"black\",\"black\",\"black\",\"black\",\"black\",\"black\",\"black\",\"black\",\"black\",\"black\",\"black\",\"black\",\"black\",\"black\",\"black\",\"black\",\"black\",\"black\",\"black\",\"black\",\"black\",\"black\",\"black\",\"black\",\"black\",\"black\",\"black\",\"black\",\"black\",\"black\",\"black\",\"black\",\"black\",\"black\",\"black\",\"black\",\"black\",\"black\",\"black\",\"black\",\"black\",\"black\",\"black\",\"black\",\"black\",\"black\",\"black\",\"black\",\"black\",\"black\",\"black\",\"black\",\"black\",\"black\",\"black\",\"black\",\"black\",\"black\",\"black\",\"black\",\"black\",\"black\",\"black\",\"black\",\"black\",\"black\",\"black\",\"black\",\"black\",\"black\",\"black\",\"black\",\"black\",\"black\",\"black\",\"black\",\"black\",\"black\",\"black\",\"black\",\"black\",\"black\",\"black\",\"black\",\"black\",\"black\",\"black\",\"black\",\"black\",\"black\",\"black\",\"black\",\"black\",\"black\",\"black\",\"black\",\"black\",\"black\",\"black\",\"black\",\"black\",\"black\",\"black\",\"black\",\"black\",\"black\",\"black\",\"black\",\"black\",\"black\",\"black\",\"black\",\"black\",\"black\",\"black\",\"black\",\"black\",\"black\",\"black\",\"black\",\"black\",\"black\",\"black\",\"black\",\"black\",\"black\",\"black\",\"black\",\"black\",\"black\",\"black\",\"black\",\"black\",\"black\",\"black\",\"black\",\"black\",\"black\",\"black\",\"black\",\"black\",\"black\",\"black\",\"black\",\"black\",\"black\",\"black\",\"black\",\"black\",\"black\",\"black\",\"black\",\"black\",\"black\",\"black\",\"black\",\"black\",\"black\",\"black\",\"black\",\"black\",\"black\",\"black\",\"black\",\"black\",\"black\",\"black\",\"black\",\"black\",\"black\",\"black\",\"black\",\"black\",\"black\",\"black\",\"black\",\"black\",\"black\",\"black\",\"black\",\"black\",\"black\",\"black\",\"black\",\"black\",\"black\",\"black\"],\"xs\":[[135758231,135758231],[135758520,135758520],[135766072,135766072],[135773420,135773420],[135773446,135773446],[135773617,135773617],[135773692,135773692],[135774681,135774681],[135775049,135775049],[135776430,135776430],[135778656,135778656],[135780168,135780168],[135780587,135780587],[135781301,135781301],[135781522,135781522],[135781635,135781635],[135782456,135782456],[135783157,135783157],[135783366,135783366],[135783367,135783367],[135784227,135784227],[135784733,135784733],[135785066,135785066],[135785068,135785068],[135785149,135785149],[135787148,135787148],[135787642,135787642],[135789405,135789405],[135789472,135789472],[135789682,135789682],[135789784,135789784],[135792338,135792338],[135792528,135792528],[135793565,135793565],[135793684,135793684],[135793845,135793845],[135794367,135794367],[135794986,135794986],[135795040,135795040],[135795095,135795095],[135795150,135795150],[135795385,135795385],[135795396,135795396],[135795443,135795443],[135795595,135795595],[135796000,135796000],[135796155,135796155],[135796410,135796410],[135796965,135796965],[135797223,135797223],[135797747,135797747],[135798082,135798082],[135798758,135798758],[135799082,135799082],[135800085,135800085],[135800601,135800601],[135800757,135800757],[135801228,135801228],[135801956,135801956],[135802020,135802020],[135802028,135802028],[135802050,135802050],[135802148,135802148],[135803766,135803766],[135809241,135809241],[135812969,135812969],[135814716,135814716],[135818907,135818907],[135829432,135829432],[135832131,135832131],[135849613,135849613],[135853807,135853807],[135859923,135859923],[135860305,135860305],[135861497,135861497],[135863143,135863143],[135864294,135864294],[135871624,135871624],[135872646,135872646],[135874038,135874038],[135874622,135874622],[135878814,135878814],[135880013,135880013],[135884487,135884487],[135885357,135885357],[135893853,135893853],[135895809,135895809],[135895879,135895879],[135899069,135899069],[135909462,135909462],[135912977,135912977],[135914038,135914038],[135921839,135921839],[135925002,135925002],[135928312,135928312],[135935049,135935049],[135962711,135962711],[135984172,135984172],[135994753,135994753],[135994754,135994754],[136016079,136016079],[136027264,136027264],[136052004,136052004],[136100473,136100473],[136110129,136110129],[136166536,136166536],[136169799,136169799],[136191314,136191314],[136228887,136228887],[136238453,136238453],[136288273,136288273],[136292425,136292425],[136321951,136321951],[136324564,136324564],[136327299,136327299],[136327302,136327302],[136376515,136376515],[135764184,135764184],[135764753,135764753],[135773231,135773231],[135783057,135783057],[135784205,135784205],[135789287,135789287],[135793327,135793327],[135794677,135794677],[135794926,135794926],[135811191,135811191],[135817572,135817572],[135818667,135818667],[135822511,135822511],[135823278,135823278],[135826536,135826536],[135826575,135826575],[135828997,135828997],[135831859,135831859],[135833810,135833810],[135836338,135836338],[135837013,135837013],[135837560,135837560],[135837592,135837592],[135838952,135838952],[135845903,135845903],[135847928,135847928],[135852167,135852167],[135863477,135863477],[135863862,135863862],[135888634,135888634],[135899652,135899652],[135906692,135906692],[135920108,135920108],[135927428,135927428],[135928292,135928292],[135929399,135929399],[135930540,135930540],[135933072,135933072],[135933954,135933954],[135940980,135940980],[135943312,135943312],[135945776,135945776],[135946949,135946949],[135947723,135947723],[135948035,135948035],[135948915,135948915],[135953682,135953682],[135959737,135959737],[135960553,135960553],[135960616,135960616],[135961451,135961451],[135967575,135967575],[135967999,135967999],[135974160,135974160],[135976740,135976740],[135977954,135977954],[135978063,135978063],[135980342,135980342],[135984721,135984721],[135987024,135987024],[135989926,135989926],[135992172,135992172],[135994968,135994968],[136003353,136003353],[136005403,136005403],[136007349,136007349],[136010797,136010797],[136011050,136011050],[136011779,136011779],[136012383,136012383],[136018428,136018428],[136037656,136037656],[136037694,136037694],[136042345,136042345],[136046052,136046052],[136046774,136046774],[136050578,136050578],[136052012,136052012],[136054793,136054793],[136056521,136056521],[136056962,136056962],[136057940,136057940],[136061024,136061024],[136064758,136064758],[136066699,136066699],[136068369,136068369],[136069524,136069524],[136073211,136073211],[136078873,136078873],[136079662,136079662],[136089758,136089758],[136091422,136091422],[136092167,136092167],[136092266,136092266],[136098070,136098070],[136102214,136102214],[136103773,136103773],[136106554,136106554],[136108397,136108397],[136110118,136110118],[135766890,135766890],[135778708,135778708],[135779588,135779588],[135805941,135805941],[135805943,135805943],[135932720,135932720],[135933317,135933317],[135934842,135934842],[135952376,135952376],[135958853,135958853],[135962864,135962864],[135963304,135963304],[135965376,135965376],[135980201,135980201],[135981554,135981554],[135988127,135988127],[135988416,135988416],[135991470,135991470],[136000500,136000500],[136001215,136001215],[136001295,136001295],[136016514,136016514],[136017388,136017388],[136041102,136041102],[136041662,136041662],[136047387,136047387],[136052936,136052936],[136055275,136055275],[136063118,136063118],[136066802,136066802],[136068890,136068890],[136069577,136069577],[136081193,136081193],[136105193,136105193],[136107839,136107839],[136110835,136110835],[136138026,136138026],[136142092,136142092],[136146499,136146499],[136147607,136147607],[136148401,136148401],[136150512,136150512],[136154734,136154734],[136155805,136155805],[136163001,136163001],[136163266,136163266],[136163568,136163568],[136163821,136163821],[136165965,136165965],[136183312,136183312],[136185945,136185945],[136191729,136191729],[136204827,136204827],[136208747,136208747],[136217980,136217980],[136229438,136229438],[136232572,136232572],[136240942,136240942],[136251329,136251329],[136265187,136265187],[136265188,136265188],[136275985,136275985],[135771350,135771350],[135783750,135783750],[135786285,135786285],[135805792,135805792],[135813865,135813865],[135829428,135829428],[135872146,135872146],[135882159,135882159],[135889802,135889802],[135925623,135925623],[135948854,135948854],[135956095,135956095],[136027525,136027525],[136043677,136043677],[136053624,136053624],[136068718,136068718],[136105275,136105275],[136105389,136105389],[136112320,136112320],[136119943,136119943],[136151412,136151412],[136162141,136162141],[136164927,136164927],[136167553,136167553],[136176291,136176291],[136199180,136199180],[136221320,136221320],[136234761,136234761],[136238377,136238377],[136282110,136282110],[136285317,136285317],[136294045,136294045],[136314384,136314384],[136318445,136318445],[136340817,136340817],[135784351,135784351],[135829309,135829309],[135835508,135835508],[135861297,135861297],[135863459,135863459],[135873845,135873845],[135902172,135902172],[135902220,135902220],[135795222,135795222],[135920091,135920091],[136117271,136117271],[136122102,136122102],[136129859,136129859],[136135294,136135294],[136135451,136135451],[136144548,136144548],[136149219,136149219],[136152962,136152962],[136158473,136158473],[136160769,136160769],[136163389,136163389],[136164606,136164606],[136165624,136165624],[136165766,136165766],[136167030,136167030],[136170213,136170213],[136170889,136170889],[136170934,136170934],[136172028,136172028],[136175128,136175128],[136176923,136176923],[136180106,136180106],[136184333,136184333],[136188849,136188849],[136189408,136189408],[136189428,136189428],[136193318,136193318],[136196359,136196359],[136202820,136202820],[136203439,136203439],[136207999,136207999],[136213991,136213991],[136215173,136215173],[136220995,136220995],[136221233,136221233],[136223360,136223360],[136231459,136231459],[136233507,136233507],[136245723,136245723],[136246135,136246135],[136246877,136246877],[136251413,136251413],[136251832,136251832],[136252477,136252477],[136254415,136254415],[136255986,136255986],[136256216,136256216],[136256806,136256806],[136264344,136264344],[136269048,136269048],[136271210,136271210],[136276688,136276688],[136277343,136277343],[136286021,136286021],[136303450,136303450],[136317535,136317535],[136319030,136319030],[136326192,136326192],[136330558,136330558],[136332552,136332552],[136334724,136334724],[136337506,136337506],[136351111,136351111],[136351470,136351470],[136382700,136382700],[135810535,135810535],[135817760,135817760],[135857538,135857538],[135862191,135862191],[135869380,135869380],[135869761,135869761],[135886486,135886486],[135888078,135888078],[135898023,135898023],[135933921,135933921],[135939824,135939824],[135941503,135941503],[135943900,135943900],[135945474,135945474],[135949715,135949715],[135956745,135956745],[135958693,135958693],[135967778,135967778],[135972093,135972093],[135973768,135973768],[135976498,135976498],[135978428,135978428],[135990031,135990031],[135992481,135992481],[135993925,135993925],[135994838,135994838],[136000253,136000253],[136003567,136003567],[136005477,136005477],[136005971,136005971],[136020977,136020977],[136027535,136027535],[136031588,136031588],[136032905,136032905],[136042480,136042480],[136043885,136043885],[136050471,136050471],[136052898,136052898],[136054815,136054815],[136056285,136056285],[136061560,136061560],[136063685,136063685],[136069060,136069060],[136072179,136072179],[136074233,136074233],[136080721,136080721],[136080822,136080822],[136088440,136088440],[136088643,136088643],[136092416,136092416],[136092869,136092869],[136094615,136094615],[136095505,136095505],[136095604,136095604],[136096766,136096766],[136097091,136097091],[136097394,136097394],[136100243,136100243],[136101823,136101823],[136106561,136106561],[136115501,136115501],[136122622,136122622],[136123014,136123014],[136123848,136123848],[136127100,136127100],[136127950,136127950],[136128630,136128630],[136129630,136129630],[136129791,136129791],[136131324,136131324],[136135383,136135383],[136135994,136135994],[136136224,136136224],[136136366,136136366],[136136440,136136440],[136138145,136138145],[136140568,136140568],[136145882,136145882],[136147948,136147948],[136148630,136148630],[136151485,136151485],[136152802,136152802],[136156753,136156753],[136157913,136157913],[136160902,136160902],[136165765,136165765],[136171649,136171649],[136173220,136173220],[136173735,136173735],[136174552,136174552],[136175692,136175692],[136176805,136176805],[136182484,136182484],[136183188,136183188],[136187252,136187252],[136187345,136187345],[136189475,136189475],[136197702,136197702],[136198435,136198435],[136202937,136202937],[136219999,136219999],[136221500,136221500],[136226626,136226626],[136228929,136228929],[136229598,136229598],[136238270,136238270],[136238346,136238346],[136240769,136240769],[136244171,136244171],[136249245,136249245],[136250285,136250285],[136254419,136254419],[136266241,136266241],[136267808,136267808],[136272074,136272074],[136277304,136277304],[136290607,136290607],[136290663,136290663],[136291310,136291310],[136296051,136296051],[136305392,136305392],[136306890,136306890],[136310803,136310803],[136324225,136324225],[136324465,136324465],[136327305,136327305],[136329618,136329618],[136333300,136333300],[136350089,136350089],[136354204,136354204],[136360455,136360455],[136368563,136368563],[136309239,136309239],[136322472,136322472],[136323787,136323787],[136323862,136323862],[136326765,136326765],[136329500,136329500],[136331657,136331657],[136345356,136345356],[136361560,136361560],[136398174,136398174],[136402117,136402117],[136403749,136403749],[136409073,136409073],[136410299,136410299],[136413359,136413359],[136416855,136416855],[136416941,136416941],[136418348,136418348],[136419961,136419961],[136420690,136420690],[136422171,136422171],[136428460,136428460],[136430866,136430866],[136432103,136432103],[136437507,136437507],[136439090,136439090],[136439517,136439517],[136444123,136444123],[136445526,136445526],[136445869,136445869],[136455600,136455600],[136456642,136456642],[136462441,136462441],[136470714,136470714],[136474098,136474098],[136494186,136494186],[136495300,136495300],[136495619,136495619],[136499166,136499166],[136502792,136502792],[136503157,136503157],[136507039,136507039],[136511575,136511575],[136518103,136518103],[136521514,136521514],[136522675,136522675],[136522941,136522941],[136526981,136526981],[136535410,136535410],[136539122,136539122],[136544197,136544197],[136550109,136550109],[136551694,136551694],[136553188,136553188],[136553639,136553639],[136554800,136554800],[136557319,136557319],[136558157,136558157],[136569848,136569848],[136575199,136575199],[136576577,136576577],[136578536,136578536],[136580287,136580287],[136583192,136583192],[136586958,136586958],[136588478,136588478],[136589612,136589612],[136591178,136591178],[136591859,136591859],[136593760,136593760],[136594158,136594158],[136603276,136603276],[136603366,136603366],[136608231,136608231],[136609975,136609975],[136610598,136610598],[136611624,136611624],[136613780,136613780],[136614255,136614255],[136614813,136614813],[136617524,136617524],[136622216,136622216],[136625602,136625602],[136629911,136629911],[136630757,136630757],[136630989,136630989],[136631031,136631031],[136633771,136633771],[136636324,136636324],[136638216,136638216],[136640233,136640233],[136641882,136641882],[136643555,136643555],[136658345,136658345],[136670298,136670298],[136685228,136685228],[136696138,136696138],[136740900,136740900],[136765951,136765951],[136501840,136501840],[136505546,136505546],[136516748,136516748],[136522710,136522710],[136528004,136528004],[136539513,136539513],[136544752,136544752],[136546110,136546110],[136553529,136553529],[136555659,136555659],[136682274,136682274],[136691825,136691825],[136698098,136698098],[136721603,136721603],[136721995,136721995],[136755684,136755684],[136775898,136775898]],\"ys\":[[750,796],[750,796],[750,796],[750,796],[750,796],[750,796],[750,796],[750,796],[750,796],[750,796],[750,796],[750,796],[750,796],[750,796],[750,796],[750,796],[750,796],[750,796],[750,796],[750,796],[750,796],[750,796],[750,796],[750,796],[750,796],[750,796],[750,796],[750,796],[750,796],[750,796],[750,796],[750,796],[750,796],[750,796],[750,796],[750,796],[750,796],[750,796],[750,796],[750,796],[750,796],[750,796],[750,796],[750,796],[750,796],[750,796],[750,796],[750,796],[750,796],[750,796],[750,796],[750,796],[750,796],[750,796],[750,796],[750,796],[750,796],[750,796],[750,796],[750,796],[750,796],[750,796],[750,796],[750,796],[750,796],[750,796],[750,796],[750,796],[750,796],[750,796],[750,796],[750,796],[750,796],[750,796],[750,796],[750,796],[750,796],[750,796],[750,796],[750,796],[750,796],[750,796],[750,796],[750,796],[750,796],[750,796],[750,796],[750,796],[750,796],[750,796],[750,796],[750,796],[750,796],[750,796],[750,796],[750,796],[750,796],[750,796],[750,796],[750,796],[750,796],[750,796],[750,796],[750,796],[750,796],[750,796],[750,796],[750,796],[750,796],[750,796],[750,796],[750,796],[750,796],[750,796],[750,796],[750,796],[750,796],[150,180],[150,180],[150,180],[150,180],[150,180],[150,180],[150,180],[150,180],[150,180],[150,180],[150,180],[150,180],[150,180],[150,180],[150,180],[150,180],[150,180],[150,180],[150,180],[150,180],[150,180],[150,180],[150,180],[150,180],[150,180],[150,180],[150,180],[150,180],[150,180],[150,180],[150,180],[150,180],[150,180],[150,180],[150,180],[150,180],[150,180],[150,180],[150,180],[150,180],[150,180],[150,180],[150,180],[150,180],[150,180],[150,180],[150,180],[150,180],[150,180],[150,180],[150,180],[150,180],[150,180],[150,180],[150,180],[150,180],[150,180],[150,180],[150,180],[150,180],[150,180],[150,180],[150,180],[150,180],[150,180],[150,180],[150,180],[150,180],[150,180],[150,180],[150,180],[150,180],[150,180],[150,180],[150,180],[150,180],[150,180],[150,180],[150,180],[150,180],[150,180],[150,180],[150,180],[150,180],[150,180],[150,180],[150,180],[150,180],[150,180],[150,180],[150,180],[150,180],[150,180],[150,180],[150,180],[150,180],[150,180],[150,180],[150,180],[150,180],[550,593],[550,593],[550,593],[550,593],[550,593],[550,593],[550,593],[550,593],[550,593],[550,593],[550,593],[550,593],[550,593],[550,593],[550,593],[550,593],[550,593],[550,593],[550,593],[550,593],[550,593],[550,593],[550,593],[550,593],[550,593],[550,593],[550,593],[550,593],[550,593],[550,593],[550,593],[550,593],[550,593],[550,593],[550,593],[550,593],[550,593],[550,593],[550,593],[550,593],[550,593],[550,593],[550,593],[550,593],[550,593],[550,593],[550,593],[550,593],[550,593],[550,593],[550,593],[550,593],[550,593],[550,593],[550,593],[550,593],[550,593],[550,593],[550,593],[550,593],[550,593],[550,593],[50,79],[50,79],[50,79],[50,79],[50,79],[50,79],[50,79],[50,79],[50,79],[50,79],[50,79],[50,79],[50,79],[50,79],[50,79],[50,79],[50,79],[50,79],[50,79],[50,79],[50,79],[50,79],[50,79],[50,79],[50,79],[50,79],[50,79],[50,79],[50,79],[50,79],[50,79],[50,79],[50,79],[50,79],[50,79],[450,488],[450,488],[450,488],[450,488],[450,488],[450,488],[450,488],[450,488],[250,282],[250,282],[250,282],[250,282],[250,282],[250,282],[250,282],[250,282],[250,282],[250,282],[250,282],[250,282],[250,282],[250,282],[250,282],[250,282],[250,282],[250,282],[250,282],[250,282],[250,282],[250,282],[250,282],[250,282],[250,282],[250,282],[250,282],[250,282],[250,282],[250,282],[250,282],[250,282],[250,282],[250,282],[250,282],[250,282],[250,282],[250,282],[250,282],[250,282],[250,282],[250,282],[250,282],[250,282],[250,282],[250,282],[250,282],[250,282],[250,282],[250,282],[250,282],[250,282],[250,282],[250,282],[250,282],[250,282],[250,282],[250,282],[250,282],[250,282],[250,282],[250,282],[250,282],[250,282],[250,282],[250,282],[250,282],[350,386],[350,386],[350,386],[350,386],[350,386],[350,386],[350,386],[350,386],[350,386],[650,695],[650,695],[650,695],[650,695],[650,695],[650,695],[650,695],[650,695],[650,695],[650,695],[650,695],[650,695],[650,695],[650,695],[650,695],[650,695],[650,695],[650,695],[650,695],[650,695],[650,695],[650,695],[650,695],[650,695],[650,695],[650,695],[650,695],[650,695],[650,695],[650,695],[650,695],[650,695],[650,695],[650,695],[650,695],[650,695],[650,695],[650,695],[650,695],[650,695],[650,695],[650,695],[650,695],[650,695],[650,695],[650,695],[650,695],[650,695],[650,695],[650,695],[650,695],[650,695],[650,695],[650,695],[650,695],[650,695],[650,695],[650,695],[650,695],[650,695],[650,695],[650,695],[650,695],[650,695],[650,695],[650,695],[650,695],[650,695],[650,695],[650,695],[650,695],[650,695],[650,695],[650,695],[650,695],[650,695],[650,695],[650,695],[650,695],[650,695],[650,695],[650,695],[650,695],[650,695],[650,695],[650,695],[650,695],[650,695],[650,695],[650,695],[650,695],[650,695],[650,695],[650,695],[650,695],[650,695],[650,695],[650,695],[650,695],[650,695],[650,695],[650,695],[650,695],[650,695],[650,695],[650,695],[650,695],[650,695],[650,695],[650,695],[650,695],[650,695],[650,695],[650,695],[650,695],[650,695],[650,695],[650,695],[650,695],[650,695],[650,695],[650,695],[650,695],[550,590],[550,590],[550,590],[550,590],[550,590],[550,590],[550,590],[550,590],[550,590],[650,694],[650,694],[650,694],[650,694],[650,694],[650,694],[650,694],[650,694],[650,694],[650,694],[650,694],[650,694],[650,694],[650,694],[650,694],[650,694],[650,694],[650,694],[650,694],[650,694],[650,694],[650,694],[650,694],[650,694],[650,694],[650,694],[750,795],[750,795],[750,795],[750,795],[750,795],[750,795],[750,795],[750,795],[750,795],[750,795],[750,795],[750,795],[750,795],[750,795],[750,795],[750,795],[750,795],[750,795],[750,795],[750,795],[750,795],[750,795],[750,795],[750,795],[750,795],[750,795],[750,795],[750,795],[750,795],[750,795],[750,795],[750,795],[750,795],[750,795],[750,795],[750,795],[750,795],[750,795],[750,795],[750,795],[750,795],[750,795],[750,795],[750,795],[750,795],[750,795],[750,795],[750,795],[750,795],[750,795],[750,795],[750,795],[750,795],[750,795],[750,795],[750,795],[750,795],[750,795],[750,795],[750,795],[750,795],[750,795],[750,795],[750,795],[850,898],[850,898],[850,898],[850,898],[850,898],[850,898],[850,898],[850,898],[850,898],[850,898],[850,897],[850,897],[850,897],[850,897],[850,897],[850,897],[850,897]]}},\"id\":\"2265a32f-60f0-4069-9fbf-955c44862fb0\",\"type\":\"ColumnDataSource\"},{\"attributes\":{},\"id\":\"61d1ac46-5bbf-4273-b5d0-751cd1484e74\",\"type\":\"BasicTicker\"},{\"attributes\":{\"below\":[{\"id\":\"9b60ad0e-019d-44bc-aa11-785f370100b9\",\"type\":\"LinearAxis\"}],\"left\":[{\"id\":\"3923b221-c25b-43ac-8f89-4ce013e930a7\",\"type\":\"LinearAxis\"}],\"plot_height\":1000,\"plot_width\":900,\"renderers\":[{\"id\":\"9b60ad0e-019d-44bc-aa11-785f370100b9\",\"type\":\"LinearAxis\"},{\"id\":\"51ae9966-0d81-4452-bfd9-1c157e107518\",\"type\":\"Grid\"},{\"id\":\"3923b221-c25b-43ac-8f89-4ce013e930a7\",\"type\":\"LinearAxis\"},{\"id\":\"0ab1b0fa-54cd-42a9-95f5-f9f1de7b7923\",\"type\":\"Grid\"},{\"id\":\"e03b7989-9a37-4bf0-9c83-4e50558f048d\",\"type\":\"BoxAnnotation\"},{\"id\":\"9a64d677-2aa6-4fd4-95fb-90d9318709d0\",\"type\":\"GlyphRenderer\"},{\"id\":\"b2e9c96c-a3b2-4200-b912-5c7aa5715e93\",\"type\":\"GlyphRenderer\"},{\"id\":\"7fefd83a-4185-458f-957a-0b4b5e1d0f4f\",\"type\":\"LabelSet\"},{\"id\":\"8484a415-2526-471c-ba5d-ade86867f8fa\",\"type\":\"GlyphRenderer\"},{\"id\":\"f7675c1f-c985-4e61-8d7a-21ed93547a03\",\"type\":\"LabelSet\"}],\"title\":{\"id\":\"aebc2dc2-daa9-4cf2-96b1-5ed27ac2bc44\",\"type\":\"Title\"},\"tool_events\":{\"id\":\"578d645a-50c1-456b-9de3-ac36b0120430\",\"type\":\"ToolEvents\"},\"toolbar\":{\"id\":\"700b6de7-7b7e-4399-b123-a156aa6f7662\",\"type\":\"Toolbar\"},\"toolbar_location\":null,\"x_range\":{\"id\":\"735b7d7a-4a3b-4dbb-9095-52655f768f75\",\"type\":\"Range1d\"},\"y_range\":{\"id\":\"6c2469e7-7cdf-4780-b1c5-57cb81fe1b6b\",\"type\":\"Range1d\"}},\"id\":\"806959c9-493e-416c-94d3-269ff82f0409\",\"subtype\":\"Figure\",\"type\":\"Plot\"},{\"attributes\":{\"bottom\":{\"field\":\"bottom\"},\"fill_alpha\":{\"value\":0.1},\"fill_color\":{\"value\":\"#1f77b4\"},\"left\":{\"field\":\"left\"},\"line_alpha\":{\"value\":0.1},\"line_color\":{\"value\":\"#1f77b4\"},\"right\":{\"field\":\"right\"},\"top\":{\"field\":\"top\"}},\"id\":\"0f8f774b-4283-48b0-9d99-2e0b3c0d3ce6\",\"type\":\"Quad\"},{\"attributes\":{\"plot\":{\"id\":\"806959c9-493e-416c-94d3-269ff82f0409\",\"subtype\":\"Figure\",\"type\":\"Plot\"}},\"id\":\"c4026dec-81e0-4bdc-8ea7-bd6474656776\",\"type\":\"PanTool\"},{\"attributes\":{\"data_source\":{\"id\":\"2265a32f-60f0-4069-9fbf-955c44862fb0\",\"type\":\"ColumnDataSource\"},\"glyph\":{\"id\":\"3e5bc171-6e74-4a6a-b79f-6ed599d0b1c3\",\"type\":\"MultiLine\"},\"hover_glyph\":null,\"nonselection_glyph\":{\"id\":\"df80bb11-0b5e-4cad-9b45-c5a466e48729\",\"type\":\"MultiLine\"},\"selection_glyph\":null},\"id\":\"b2e9c96c-a3b2-4200-b912-5c7aa5715e93\",\"type\":\"GlyphRenderer\"},{\"attributes\":{\"bottom\":{\"field\":\"bottom\"},\"fill_color\":{\"field\":\"fill_color\"},\"left\":{\"field\":\"left\"},\"line_color\":{\"value\":null},\"right\":{\"field\":\"right\"},\"top\":{\"field\":\"top\"}},\"id\":\"a0020ba4-123f-4f0b-bb23-d6cae88f1a30\",\"type\":\"Quad\"},{\"attributes\":{\"plot\":{\"id\":\"806959c9-493e-416c-94d3-269ff82f0409\",\"subtype\":\"Figure\",\"type\":\"Plot\"}},\"id\":\"b2598ef2-d49f-469e-bbb4-f3b8976a8bb9\",\"type\":\"ResetTool\"},{\"attributes\":{\"line_color\":{\"field\":\"line_color\"},\"xs\":{\"field\":\"xs\"},\"ys\":{\"field\":\"ys\"}},\"id\":\"3e5bc171-6e74-4a6a-b79f-6ed599d0b1c3\",\"type\":\"MultiLine\"},{\"attributes\":{\"formatter\":{\"id\":\"eda33a2f-7498-47dd-b8ac-7e2d88203b52\",\"type\":\"BasicTickFormatter\"},\"plot\":{\"id\":\"806959c9-493e-416c-94d3-269ff82f0409\",\"subtype\":\"Figure\",\"type\":\"Plot\"},\"ticker\":{\"id\":\"61d1ac46-5bbf-4273-b5d0-751cd1484e74\",\"type\":\"BasicTicker\"},\"visible\":null},\"id\":\"3923b221-c25b-43ac-8f89-4ce013e930a7\",\"type\":\"LinearAxis\"},{\"attributes\":{\"data_source\":{\"id\":\"062edbae-ffe0-40c3-b6a4-a09f4581f94c\",\"type\":\"ColumnDataSource\"},\"glyph\":{\"id\":\"a0020ba4-123f-4f0b-bb23-d6cae88f1a30\",\"type\":\"Quad\"},\"hover_glyph\":null,\"nonselection_glyph\":{\"id\":\"0f8f774b-4283-48b0-9d99-2e0b3c0d3ce6\",\"type\":\"Quad\"},\"selection_glyph\":null},\"id\":\"9a64d677-2aa6-4fd4-95fb-90d9318709d0\",\"type\":\"GlyphRenderer\"},{\"attributes\":{\"data_source\":{\"id\":\"9ab1041e-5e4b-48d0-aa58-1a73357ab691\",\"type\":\"ColumnDataSource\"},\"glyph\":{\"id\":\"1a8ebeee-729e-4916-943b-faf3beb4af37\",\"type\":\"Quad\"},\"hover_glyph\":null,\"nonselection_glyph\":{\"id\":\"59fd8aab-4136-4b67-a375-83fced2975e0\",\"type\":\"Quad\"},\"selection_glyph\":null},\"id\":\"8484a415-2526-471c-ba5d-ade86867f8fa\",\"type\":\"GlyphRenderer\"},{\"attributes\":{},\"id\":\"e40831ab-9ec7-47bb-952a-af0f91ab60a7\",\"type\":\"BasicTicker\"},{\"attributes\":{\"callback\":null,\"column_names\":[\"right\",\"bottom\",\"top\",\"left\",\"fill_color\"],\"data\":{\"bottom\":[750,150,550,50,450,250,350,650,550,650,750,850,850],\"fill_color\":[\"#808080\",\"#ff0000\",\"#808080\",\"#c46161\",\"#ff0000\",\"#ff0000\",\"#ff0000\",\"#c46161\",\"#ff0000\",\"#61c461\",\"#61c461\",\"#808080\",\"#61c461\"],\"left\":[135758231,135764184,135766890,135771350,135784351,135795222,135810535,135933921,136309239,136398174,136494186,136501840,136682274],\"right\":[136376515,136110118,136275985,136340817,135902220,136382700,135898023,136368563,136361560,136474098,136765951,136555659,136775898],\"top\":[796,180,593,79,488,282,386,695,590,694,795,898,897]}},\"id\":\"062edbae-ffe0-40c3-b6a4-a09f4581f94c\",\"type\":\"ColumnDataSource\"},{\"attributes\":{\"callback\":null,\"column_names\":[\"right\",\"bottom\",\"top\",\"left\"],\"data\":{\"bottom\":[945,945,945,945,945,945,945],\"left\":[135809835,135957574,136289083,136499189,136545415,136597196,136664254],\"right\":[135928279,136288182,136482839,136542633,136594750,136634047,136743222],\"top\":[975,975,975,975,975,975,975]}},\"id\":\"9ab1041e-5e4b-48d0-aa58-1a73357ab691\",\"type\":\"ColumnDataSource\"},{\"attributes\":{\"callback\":null,\"column_names\":[\"y\",\"x\",\"vals\"],\"data\":{\"vals\":[\"117_1685\",\"100_279\",\"62_1265\",\"35_240\",\"8_718\",\"67_329\",\"9_545\",\"123_1561\",\"9_887\",\"26_1414\",\"64_1575\",\"10_2206\",\"7_1868\"],\"x\":[135758231,135764184,135766890,135771350,135784351,135795222,135810535,135933921,136309239,136398174,136494186,136501840,136682274],\"y\":[801.0,185.0,598.0,84.0,493.0,287.0,391.0,700.0,595.0,699.0,800.0,903.0,902.0]}},\"id\":\"eb949573-90a4-4077-97cd-0197e8dd1a29\",\"type\":\"ColumnDataSource\"},{\"attributes\":{\"callback\":null,\"end\":136786630,\"start\":135757320},\"id\":\"735b7d7a-4a3b-4dbb-9095-52655f768f75\",\"type\":\"Range1d\"},{\"attributes\":{\"callback\":null,\"end\":1000},\"id\":\"6c2469e7-7cdf-4780-b1c5-57cb81fe1b6b\",\"type\":\"Range1d\"},{\"attributes\":{\"plot\":{\"id\":\"806959c9-493e-416c-94d3-269ff82f0409\",\"subtype\":\"Figure\",\"type\":\"Plot\"}},\"id\":\"04835b75-ac31-4f53-aa2a-60e28c35d3c9\",\"type\":\"WheelZoomTool\"},{\"attributes\":{\"overlay\":{\"id\":\"e03b7989-9a37-4bf0-9c83-4e50558f048d\",\"type\":\"BoxAnnotation\"},\"plot\":{\"id\":\"806959c9-493e-416c-94d3-269ff82f0409\",\"subtype\":\"Figure\",\"type\":\"Plot\"}},\"id\":\"f0bc7322-aacf-400c-ae4b-7bfdaf2ad6d0\",\"type\":\"BoxZoomTool\"},{\"attributes\":{\"active_drag\":\"auto\",\"active_scroll\":\"auto\",\"active_tap\":\"auto\",\"tools\":[{\"id\":\"c4026dec-81e0-4bdc-8ea7-bd6474656776\",\"type\":\"PanTool\"},{\"id\":\"04835b75-ac31-4f53-aa2a-60e28c35d3c9\",\"type\":\"WheelZoomTool\"},{\"id\":\"f0bc7322-aacf-400c-ae4b-7bfdaf2ad6d0\",\"type\":\"BoxZoomTool\"},{\"id\":\"da732f59-4fd4-4eb0-ab30-321593ef9e6a\",\"type\":\"SaveTool\"},{\"id\":\"b2598ef2-d49f-469e-bbb4-f3b8976a8bb9\",\"type\":\"ResetTool\"},{\"id\":\"880c1c86-bb2f-43aa-afe1-aab84081fdd0\",\"type\":\"HelpTool\"}]},\"id\":\"700b6de7-7b7e-4399-b123-a156aa6f7662\",\"type\":\"Toolbar\"},{\"attributes\":{\"bottom\":{\"field\":\"bottom\"},\"fill_color\":{\"value\":\"white\"},\"left\":{\"field\":\"left\"},\"right\":{\"field\":\"right\"},\"top\":{\"field\":\"top\"}},\"id\":\"1a8ebeee-729e-4916-943b-faf3beb4af37\",\"type\":\"Quad\"},{\"attributes\":{},\"id\":\"eda33a2f-7498-47dd-b8ac-7e2d88203b52\",\"type\":\"BasicTickFormatter\"},{\"attributes\":{\"line_alpha\":{\"value\":0.1},\"line_color\":{\"value\":\"#1f77b4\"},\"xs\":{\"field\":\"xs\"},\"ys\":{\"field\":\"ys\"}},\"id\":\"df80bb11-0b5e-4cad-9b45-c5a466e48729\",\"type\":\"MultiLine\"},{\"attributes\":{\"plot\":{\"id\":\"806959c9-493e-416c-94d3-269ff82f0409\",\"subtype\":\"Figure\",\"type\":\"Plot\"},\"ticker\":{\"id\":\"e40831ab-9ec7-47bb-952a-af0f91ab60a7\",\"type\":\"BasicTicker\"}},\"id\":\"51ae9966-0d81-4452-bfd9-1c157e107518\",\"type\":\"Grid\"},{\"attributes\":{\"bottom_units\":\"screen\",\"fill_alpha\":{\"value\":0.5},\"fill_color\":{\"value\":\"lightgrey\"},\"left_units\":\"screen\",\"level\":\"overlay\",\"line_alpha\":{\"value\":1.0},\"line_color\":{\"value\":\"black\"},\"line_dash\":[4,4],\"line_width\":{\"value\":2},\"plot\":null,\"render_mode\":\"css\",\"right_units\":\"screen\",\"top_units\":\"screen\"},\"id\":\"e03b7989-9a37-4bf0-9c83-4e50558f048d\",\"type\":\"BoxAnnotation\"}],\"root_ids\":[\"806959c9-493e-416c-94d3-269ff82f0409\"]},\"title\":\"Bokeh Application\",\"version\":\"0.12.0\"}};\n",
       "            var render_items = [{\"docid\":\"9e3f9caf-ac9e-4a44-acc4-dbcd3a790ac4\",\"elementid\":\"88a83cfc-db83-468a-b277-29eccf7c6f1a\",\"modelid\":\"806959c9-493e-416c-94d3-269ff82f0409\",\"notebook_comms_target\":\"8a1c6a81-4054-42dd-bd21-eb21ee07b30a\"}];\n",
       "            \n",
       "            Bokeh.embed.embed_items(docs_json, render_items);\n",
       "        });\n",
       "      },\n",
       "      function(Bokeh) {\n",
       "      }\n",
       "    ];\n",
       "  \n",
       "    function run_inline_js() {\n",
       "      for (var i = 0; i < inline_js.length; i++) {\n",
       "        inline_js[i](window.Bokeh);\n",
       "      }\n",
       "    }\n",
       "  \n",
       "    if (window._bokeh_is_loading === 0) {\n",
       "      console.log(\"Bokeh: BokehJS loaded, going straight to plotting\");\n",
       "      run_inline_js();\n",
       "    } else {\n",
       "      load_libs(js_urls, function() {\n",
       "        console.log(\"Bokeh: BokehJS plotting callback run at\", now());\n",
       "        run_inline_js();\n",
       "      });\n",
       "    }\n",
       "  }(this));\n",
       "</script>"
      ]
     },
     "metadata": {},
     "output_type": "display_data"
    },
    {
     "data": {
      "text/html": [
       "<p><code>&lt;Bokeh Notebook handle for <strong>In[16]</strong>&gt;</code></p>"
      ],
      "text/plain": [
       "<bokeh.io._CommsHandle at 0x7f4364fca590>"
      ]
     },
     "execution_count": 16,
     "metadata": {},
     "output_type": "execute_result"
    }
   ],
   "source": [
    "plt_obj = dm.superset_yes_no([dm.di_26_1414, dm.di_117_1685], [di_14_48], min_match=0.5)\n",
    "plt = plt_obj.do_plot()\n",
    "show(plt)"
   ]
  },
  {
   "cell_type": "code",
   "execution_count": 17,
   "metadata": {
    "collapsed": false
   },
   "outputs": [
    {
     "data": {
      "text/html": [
       "<table>\n",
       "<thead><tr><th style=\"text-align:center\">index</th><th style=\"text-align:center\">first</th><th style=\"text-align:center\">length</th><th style=\"text-align:center\">snps</th><th style=\"text-align:center\" colspan=2>alleles</th><th style=\"text-align:center\" colspan=2>matches</th><th style=\"text-align:center\" colspan=2>afr</th><th style=\"text-align:center\" colspan=2>afx</th><th style=\"text-align:center\" colspan=2>amr</th><th style=\"text-align:center\" colspan=2>eas</th><th style=\"text-align:center\" colspan=2>eur</th><th style=\"text-align:center\" colspan=2>sas</th><th style=\"text-align:center\" colspan=2>sax</th></tr></thead>\n",
       "<tr class=\"even\"><td style=\"text-align: right;\">353921</td><td style=\"text-align: right;\">136,501,840</td><td style=\"text-align: right;\">53,819</td><td style=\"text-align: right;\">10</td><td style=\"text-align: right;\">2206</td><td style=\"text-align: right;\">0.01</td><td style=\"text-align: right;\">32</td><td style=\"text-align: right;\">0.97</td><td style=\"text-align: right;\">18</td><td style=\"text-align: right;\">2.86</td><td style=\"text-align: right;\">6</td><td style=\"text-align: right;\">3.06</td><td style=\"text-align: right;\">0</td><td style=\"text-align: right;\">0.00</td><td style=\"text-align: right;\">3</td><td style=\"text-align: right;\">0.46</td><td style=\"text-align: right;\">4</td><td style=\"text-align: right;\">0.62</td><td style=\"text-align: right;\">1</td><td style=\"text-align: right;\">0.43</td><td style=\"text-align: right;\">0</td><td style=\"text-align: right;\">0.00</td></tr>\n",
       "<tr><td style=\"text-align: right;\">354170</td><td style=\"text-align: right;\">136,682,274</td><td style=\"text-align: right;\">93,624</td><td style=\"text-align: right;\">7</td><td style=\"text-align: right;\">1868</td><td style=\"text-align: right;\">0.01</td><td style=\"text-align: right;\">27</td><td style=\"text-align: right;\">0.82</td><td style=\"text-align: right;\">16</td><td style=\"text-align: right;\">3.02</td><td style=\"text-align: right;\">5</td><td style=\"text-align: right;\">3.02</td><td style=\"text-align: right;\">0</td><td style=\"text-align: right;\">0.00</td><td style=\"text-align: right;\">2</td><td style=\"text-align: right;\">0.36</td><td style=\"text-align: right;\">4</td><td style=\"text-align: right;\">0.73</td><td style=\"text-align: right;\">0</td><td style=\"text-align: right;\">0.00</td><td style=\"text-align: right;\">0</td><td style=\"text-align: right;\">0.00</td></tr>\n",
       "<tr class=\"even\"><td style=\"text-align: right;\">353244</td><td style=\"text-align: right;\">135,758,231</td><td style=\"text-align: right;\">618,284</td><td style=\"text-align: right;\">117</td><td style=\"text-align: right;\">1685</td><td style=\"text-align: right;\">0.02</td><td style=\"text-align: right;\">33</td><td style=\"text-align: right;\">1.00</td><td style=\"text-align: right;\">19</td><td style=\"text-align: right;\">2.93</td><td style=\"text-align: right;\">6</td><td style=\"text-align: right;\">2.97</td><td style=\"text-align: right;\">0</td><td style=\"text-align: right;\">0.00</td><td style=\"text-align: right;\">3</td><td style=\"text-align: right;\">0.45</td><td style=\"text-align: right;\">4</td><td style=\"text-align: right;\">0.60</td><td style=\"text-align: right;\">1</td><td style=\"text-align: right;\">0.41</td><td style=\"text-align: right;\">0</td><td style=\"text-align: right;\">0.00</td></tr>\n",
       "<tr><td style=\"text-align: right;\">353901</td><td style=\"text-align: right;\">136,494,186</td><td style=\"text-align: right;\">271,765</td><td style=\"text-align: right;\">64</td><td style=\"text-align: right;\">1575</td><td style=\"text-align: right;\">0.02</td><td style=\"text-align: right;\">25</td><td style=\"text-align: right;\">0.76</td><td style=\"text-align: right;\">14</td><td style=\"text-align: right;\">2.85</td><td style=\"text-align: right;\">5</td><td style=\"text-align: right;\">3.26</td><td style=\"text-align: right;\">0</td><td style=\"text-align: right;\">0.00</td><td style=\"text-align: right;\">2</td><td style=\"text-align: right;\">0.39</td><td style=\"text-align: right;\">4</td><td style=\"text-align: right;\">0.79</td><td style=\"text-align: right;\">0</td><td style=\"text-align: right;\">0.00</td><td style=\"text-align: right;\">0</td><td style=\"text-align: right;\">0.00</td></tr>\n",
       "<tr class=\"even\"><td style=\"text-align: right;\">353478</td><td style=\"text-align: right;\">135,933,921</td><td style=\"text-align: right;\">434,642</td><td style=\"text-align: right;\">123</td><td style=\"text-align: right;\">1561</td><td style=\"text-align: right;\">0.02</td><td style=\"text-align: right;\">31</td><td style=\"text-align: right;\">0.94</td><td style=\"text-align: right;\">19</td><td style=\"text-align: right;\">3.12</td><td style=\"text-align: right;\">6</td><td style=\"text-align: right;\">3.16</td><td style=\"text-align: right;\">0</td><td style=\"text-align: right;\">0.00</td><td style=\"text-align: right;\">3</td><td style=\"text-align: right;\">0.48</td><td style=\"text-align: right;\">2</td><td style=\"text-align: right;\">0.32</td><td style=\"text-align: right;\">1</td><td style=\"text-align: right;\">0.44</td><td style=\"text-align: right;\">0</td><td style=\"text-align: right;\">0.00</td></tr>\n",
       "<tr><td style=\"text-align: right;\">353797</td><td style=\"text-align: right;\">136,398,174</td><td style=\"text-align: right;\">75,924</td><td style=\"text-align: right;\">26</td><td style=\"text-align: right;\">1414</td><td style=\"text-align: right;\">0.02</td><td style=\"text-align: right;\">33</td><td style=\"text-align: right;\">1.00</td><td style=\"text-align: right;\">19</td><td style=\"text-align: right;\">2.93</td><td style=\"text-align: right;\">6</td><td style=\"text-align: right;\">2.97</td><td style=\"text-align: right;\">0</td><td style=\"text-align: right;\">0.00</td><td style=\"text-align: right;\">3</td><td style=\"text-align: right;\">0.45</td><td style=\"text-align: right;\">4</td><td style=\"text-align: right;\">0.60</td><td style=\"text-align: right;\">1</td><td style=\"text-align: right;\">0.41</td><td style=\"text-align: right;\">0</td><td style=\"text-align: right;\">0.00</td></tr>\n",
       "<tr class=\"even\"><td style=\"text-align: right;\">353269</td><td style=\"text-align: right;\">135,766,890</td><td style=\"text-align: right;\">509,095</td><td style=\"text-align: right;\">62</td><td style=\"text-align: right;\">1265</td><td style=\"text-align: right;\">0.02</td><td style=\"text-align: right;\">31</td><td style=\"text-align: right;\">0.94</td><td style=\"text-align: right;\">19</td><td style=\"text-align: right;\">3.12</td><td style=\"text-align: right;\">6</td><td style=\"text-align: right;\">3.16</td><td style=\"text-align: right;\">0</td><td style=\"text-align: right;\">0.00</td><td style=\"text-align: right;\">3</td><td style=\"text-align: right;\">0.48</td><td style=\"text-align: right;\">2</td><td style=\"text-align: right;\">0.32</td><td style=\"text-align: right;\">1</td><td style=\"text-align: right;\">0.44</td><td style=\"text-align: right;\">0</td><td style=\"text-align: right;\">0.00</td></tr>\n",
       "<tr><td style=\"text-align: right;\">353729</td><td style=\"text-align: right;\">136,309,239</td><td style=\"text-align: right;\">52,321</td><td style=\"text-align: right;\">9</td><td style=\"text-align: right;\">887</td><td style=\"text-align: right;\">0.03</td><td style=\"text-align: right;\">25</td><td style=\"text-align: right;\">0.76</td><td style=\"text-align: right;\">18</td><td style=\"text-align: right;\">3.67</td><td style=\"text-align: right;\">6</td><td style=\"text-align: right;\">3.92</td><td style=\"text-align: right;\">0</td><td style=\"text-align: right;\">0.00</td><td style=\"text-align: right;\">0</td><td style=\"text-align: right;\">0.00</td><td style=\"text-align: right;\">0</td><td style=\"text-align: right;\">0.00</td><td style=\"text-align: right;\">1</td><td style=\"text-align: right;\">0.55</td><td style=\"text-align: right;\">0</td><td style=\"text-align: right;\">0.00</td></tr>\n",
       "<tr class=\"even\"><td style=\"text-align: right;\">353312</td><td style=\"text-align: right;\">135,784,351</td><td style=\"text-align: right;\">117,869</td><td style=\"text-align: right;\">8</td><td style=\"text-align: right;\">718</td><td style=\"text-align: right;\">0.03</td><td style=\"text-align: right;\">19</td><td style=\"text-align: right;\">0.58</td><td style=\"text-align: right;\">13</td><td style=\"text-align: right;\">3.48</td><td style=\"text-align: right;\">5</td><td style=\"text-align: right;\">4.29</td><td style=\"text-align: right;\">0</td><td style=\"text-align: right;\">0.00</td><td style=\"text-align: right;\">0</td><td style=\"text-align: right;\">0.00</td><td style=\"text-align: right;\">0</td><td style=\"text-align: right;\">0.00</td><td style=\"text-align: right;\">1</td><td style=\"text-align: right;\">0.72</td><td style=\"text-align: right;\">0</td><td style=\"text-align: right;\">0.00</td></tr>\n",
       "<tr><td style=\"text-align: right;\">353349</td><td style=\"text-align: right;\">135,810,535</td><td style=\"text-align: right;\">87,488</td><td style=\"text-align: right;\">9</td><td style=\"text-align: right;\">545</td><td style=\"text-align: right;\">0.05</td><td style=\"text-align: right;\">25</td><td style=\"text-align: right;\">0.76</td><td style=\"text-align: right;\">18</td><td style=\"text-align: right;\">3.67</td><td style=\"text-align: right;\">6</td><td style=\"text-align: right;\">3.92</td><td style=\"text-align: right;\">0</td><td style=\"text-align: right;\">0.00</td><td style=\"text-align: right;\">0</td><td style=\"text-align: right;\">0.00</td><td style=\"text-align: right;\">0</td><td style=\"text-align: right;\">0.00</td><td style=\"text-align: right;\">1</td><td style=\"text-align: right;\">0.55</td><td style=\"text-align: right;\">0</td><td style=\"text-align: right;\">0.00</td></tr>\n",
       "<tr class=\"even\"><td style=\"text-align: right;\">353331</td><td style=\"text-align: right;\">135,795,222</td><td style=\"text-align: right;\">587,478</td><td style=\"text-align: right;\">67</td><td style=\"text-align: right;\">329</td><td style=\"text-align: right;\">0.06</td><td style=\"text-align: right;\">19</td><td style=\"text-align: right;\">0.58</td><td style=\"text-align: right;\">13</td><td style=\"text-align: right;\">3.48</td><td style=\"text-align: right;\">5</td><td style=\"text-align: right;\">4.29</td><td style=\"text-align: right;\">0</td><td style=\"text-align: right;\">0.00</td><td style=\"text-align: right;\">0</td><td style=\"text-align: right;\">0.00</td><td style=\"text-align: right;\">0</td><td style=\"text-align: right;\">0.00</td><td style=\"text-align: right;\">1</td><td style=\"text-align: right;\">0.72</td><td style=\"text-align: right;\">0</td><td style=\"text-align: right;\">0.00</td></tr>\n",
       "<tr><td style=\"text-align: right;\">353263</td><td style=\"text-align: right;\">135,764,184</td><td style=\"text-align: right;\">345,934</td><td style=\"text-align: right;\">100</td><td style=\"text-align: right;\">279</td><td style=\"text-align: right;\">0.07</td><td style=\"text-align: right;\">19</td><td style=\"text-align: right;\">0.58</td><td style=\"text-align: right;\">13</td><td style=\"text-align: right;\">3.48</td><td style=\"text-align: right;\">5</td><td style=\"text-align: right;\">4.29</td><td style=\"text-align: right;\">0</td><td style=\"text-align: right;\">0.00</td><td style=\"text-align: right;\">0</td><td style=\"text-align: right;\">0.00</td><td style=\"text-align: right;\">0</td><td style=\"text-align: right;\">0.00</td><td style=\"text-align: right;\">1</td><td style=\"text-align: right;\">0.72</td><td style=\"text-align: right;\">0</td><td style=\"text-align: right;\">0.00</td></tr>\n",
       "<tr class=\"even\"><td style=\"text-align: right;\">353281</td><td style=\"text-align: right;\">135,771,350</td><td style=\"text-align: right;\">569,467</td><td style=\"text-align: right;\">35</td><td style=\"text-align: right;\">240</td><td style=\"text-align: right;\">0.08</td><td style=\"text-align: right;\">19</td><td style=\"text-align: right;\">0.58</td><td style=\"text-align: right;\">13</td><td style=\"text-align: right;\">3.48</td><td style=\"text-align: right;\">5</td><td style=\"text-align: right;\">4.29</td><td style=\"text-align: right;\">0</td><td style=\"text-align: right;\">0.00</td><td style=\"text-align: right;\">0</td><td style=\"text-align: right;\">0.00</td><td style=\"text-align: right;\">0</td><td style=\"text-align: right;\">0.00</td><td style=\"text-align: right;\">1</td><td style=\"text-align: right;\">0.72</td><td style=\"text-align: right;\">0</td><td style=\"text-align: right;\">0.00</td></tr>\n",
       "</table>"
      ],
      "text/plain": [
       "<IPython.core.display.HTML object>"
      ]
     },
     "execution_count": 17,
     "metadata": {},
     "output_type": "execute_result"
    }
   ],
   "source": [
    "HTML(plt_obj.get_html())"
   ]
  },
  {
   "cell_type": "markdown",
   "metadata": {},
   "source": [
    "<div style=\"width:700px\">\n",
    "<p>\n",
    "This plot shows the most common series for the 19 samples that express\n",
    "26_1414, 117_1685, and 67_329.  Most of the series are expressed by all\n",
    "19 samples.  One exception is the 1 sample that does not express\n",
    "7_1868.  The other exception is the series 5_16.  These samples include\n",
    "14 of the 16 that express 5_16.\n",
    "</div>"
   ]
  },
  {
   "cell_type": "code",
   "execution_count": 18,
   "metadata": {
    "collapsed": false
   },
   "outputs": [
    {
     "data": {
      "text/html": [
       "\n",
       "\n",
       "    <div class=\"bk-root\">\n",
       "        <div class=\"plotdiv\" id=\"f273f53c-ee79-4e08-ba4a-6325e027482d\"></div>\n",
       "    </div>\n",
       "<script type=\"text/javascript\">\n",
       "  \n",
       "  (function(global) {\n",
       "    function now() {\n",
       "      return new Date();\n",
       "    }\n",
       "  \n",
       "    if (typeof (window._bokeh_onload_callbacks) === \"undefined\") {\n",
       "      window._bokeh_onload_callbacks = [];\n",
       "    }\n",
       "  \n",
       "    function run_callbacks() {\n",
       "      window._bokeh_onload_callbacks.forEach(function(callback) { callback() });\n",
       "      delete window._bokeh_onload_callbacks\n",
       "      console.info(\"Bokeh: all callbacks have finished\");\n",
       "    }\n",
       "  \n",
       "    function load_libs(js_urls, callback) {\n",
       "      window._bokeh_onload_callbacks.push(callback);\n",
       "      if (window._bokeh_is_loading > 0) {\n",
       "        console.log(\"Bokeh: BokehJS is being loaded, scheduling callback at\", now());\n",
       "        return null;\n",
       "      }\n",
       "      if (js_urls == null || js_urls.length === 0) {\n",
       "        run_callbacks();\n",
       "        return null;\n",
       "      }\n",
       "      console.log(\"Bokeh: BokehJS not loaded, scheduling load and callback at\", now());\n",
       "      window._bokeh_is_loading = js_urls.length;\n",
       "      for (var i = 0; i < js_urls.length; i++) {\n",
       "        var url = js_urls[i];\n",
       "        var s = document.createElement('script');\n",
       "        s.src = url;\n",
       "        s.async = false;\n",
       "        s.onreadystatechange = s.onload = function() {\n",
       "          window._bokeh_is_loading--;\n",
       "          if (window._bokeh_is_loading === 0) {\n",
       "            console.log(\"Bokeh: all BokehJS libraries loaded\");\n",
       "            run_callbacks()\n",
       "          }\n",
       "        };\n",
       "        s.onerror = function() {\n",
       "          console.warn(\"failed to load library \" + url);\n",
       "        };\n",
       "        console.log(\"Bokeh: injecting script tag for BokehJS library: \", url);\n",
       "        document.getElementsByTagName(\"head\")[0].appendChild(s);\n",
       "      }\n",
       "    };var element = document.getElementById(\"f273f53c-ee79-4e08-ba4a-6325e027482d\");\n",
       "    if (element == null) {\n",
       "      console.log(\"Bokeh: ERROR: autoload.js configured with elementid 'f273f53c-ee79-4e08-ba4a-6325e027482d' but no matching script tag was found. \")\n",
       "      return false;\n",
       "    }\n",
       "  \n",
       "    var js_urls = [];\n",
       "  \n",
       "    var inline_js = [\n",
       "      function(Bokeh) {\n",
       "        Bokeh.$(function() {\n",
       "            var docs_json = {\"7a4e9193-b8c0-4312-b3f2-326f616a3512\":{\"roots\":{\"references\":[{\"attributes\":{\"data_source\":{\"id\":\"ff916bc9-d769-4ce8-9c69-7c211f25badd\",\"type\":\"ColumnDataSource\"},\"glyph\":{\"id\":\"a0476598-1b28-4684-a98f-19dac830b0a0\",\"type\":\"MultiLine\"},\"hover_glyph\":null,\"nonselection_glyph\":{\"id\":\"36b842b1-ce5a-4e7c-ae3f-f00742e210c9\",\"type\":\"MultiLine\"},\"selection_glyph\":null},\"id\":\"068063a0-dbde-495e-93a0-56e65e96bc70\",\"type\":\"GlyphRenderer\"},{\"attributes\":{},\"id\":\"a3c84404-5868-46cb-83ad-527797066339\",\"type\":\"BasicTickFormatter\"},{\"attributes\":{\"data_source\":{\"id\":\"fa79e912-195a-475e-beed-be9b3269388e\",\"type\":\"ColumnDataSource\"},\"glyph\":{\"id\":\"62eae082-d081-4c10-a8c2-8afbc2419e13\",\"type\":\"Quad\"},\"hover_glyph\":null,\"nonselection_glyph\":{\"id\":\"d29e2c7c-dd6e-48c0-a67b-2662f2905561\",\"type\":\"Quad\"},\"selection_glyph\":null},\"id\":\"a03d4965-fcf6-4af9-a049-6f220fd85a80\",\"type\":\"GlyphRenderer\"},{\"attributes\":{\"callback\":null,\"column_names\":[\"y\",\"x\",\"vals\"],\"data\":{\"vals\":[\"RAB3GAP1\",\"ZRANB3\",\"R3HDM1\",\"UBXN4\",\"LCT\",\"MCM6\",\"DARS\"],\"x\":[135869057.0,136122878.0,136385961.0,136520911.0,136570082.5,136615621.5,136703738.0],\"y\":[960.0,960.0,960.0,960.0,960.0,960.0,960.0]}},\"id\":\"49c67343-f5f2-4003-ae7e-e227580a2469\",\"type\":\"ColumnDataSource\"},{\"attributes\":{\"bottom\":{\"field\":\"bottom\"},\"fill_alpha\":{\"value\":0.1},\"fill_color\":{\"value\":\"#1f77b4\"},\"left\":{\"field\":\"left\"},\"line_alpha\":{\"value\":0.1},\"line_color\":{\"value\":\"#1f77b4\"},\"right\":{\"field\":\"right\"},\"top\":{\"field\":\"top\"}},\"id\":\"d29e2c7c-dd6e-48c0-a67b-2662f2905561\",\"type\":\"Quad\"},{\"attributes\":{\"overlay\":{\"id\":\"94c091d2-7b52-471d-8df9-9b55e2466718\",\"type\":\"BoxAnnotation\"},\"plot\":{\"id\":\"e70680d6-d62f-446b-853a-f5ff7d201319\",\"subtype\":\"Figure\",\"type\":\"Plot\"}},\"id\":\"74f63270-d26d-486c-aaff-919f95c78681\",\"type\":\"BoxZoomTool\"},{\"attributes\":{\"plot\":null,\"text\":null},\"id\":\"9230c851-d423-413b-b7dc-7ff8cfbf756c\",\"type\":\"Title\"},{\"attributes\":{\"line_color\":{\"field\":\"line_color\"},\"xs\":{\"field\":\"xs\"},\"ys\":{\"field\":\"ys\"}},\"id\":\"a0476598-1b28-4684-a98f-19dac830b0a0\",\"type\":\"MultiLine\"},{\"attributes\":{\"data_source\":{\"id\":\"d4e1b9af-1592-40f2-852a-7a15f0120f67\",\"type\":\"ColumnDataSource\"},\"glyph\":{\"id\":\"19e83d25-396f-4866-9c55-090f186ab9ec\",\"type\":\"Quad\"},\"hover_glyph\":null,\"nonselection_glyph\":{\"id\":\"16e37c45-cf87-41d7-8cb3-0446f28a7a09\",\"type\":\"Quad\"},\"selection_glyph\":null},\"id\":\"f9da3401-d936-4e95-bf33-7041e3071f2a\",\"type\":\"GlyphRenderer\"},{\"attributes\":{\"callback\":null,\"end\":1000},\"id\":\"2652bde3-7a19-46ef-ba17-7e0627d0f2eb\",\"type\":\"Range1d\"},{\"attributes\":{\"dimension\":1,\"plot\":{\"id\":\"e70680d6-d62f-446b-853a-f5ff7d201319\",\"subtype\":\"Figure\",\"type\":\"Plot\"},\"ticker\":{\"id\":\"bd5a641b-d187-41b1-a81c-6d951c799d99\",\"type\":\"BasicTicker\"}},\"id\":\"337b9f12-3810-47af-9bb6-d45107d4a95d\",\"type\":\"Grid\"},{\"attributes\":{},\"id\":\"bd5a641b-d187-41b1-a81c-6d951c799d99\",\"type\":\"BasicTicker\"},{\"attributes\":{\"bottom\":{\"field\":\"bottom\"},\"fill_alpha\":{\"value\":0.1},\"fill_color\":{\"value\":\"#1f77b4\"},\"left\":{\"field\":\"left\"},\"line_alpha\":{\"value\":0.1},\"line_color\":{\"value\":\"#1f77b4\"},\"right\":{\"field\":\"right\"},\"top\":{\"field\":\"top\"}},\"id\":\"16e37c45-cf87-41d7-8cb3-0446f28a7a09\",\"type\":\"Quad\"},{\"attributes\":{\"plot\":{\"id\":\"e70680d6-d62f-446b-853a-f5ff7d201319\",\"subtype\":\"Figure\",\"type\":\"Plot\"}},\"id\":\"dce133d5-05fa-42aa-8d8b-45b18c45e162\",\"type\":\"WheelZoomTool\"},{\"attributes\":{\"plot\":{\"id\":\"e70680d6-d62f-446b-853a-f5ff7d201319\",\"subtype\":\"Figure\",\"type\":\"Plot\"}},\"id\":\"fe80bc9a-48a3-4880-8890-e7d54581885f\",\"type\":\"SaveTool\"},{\"attributes\":{\"bottom_units\":\"screen\",\"fill_alpha\":{\"value\":0.5},\"fill_color\":{\"value\":\"lightgrey\"},\"left_units\":\"screen\",\"level\":\"overlay\",\"line_alpha\":{\"value\":1.0},\"line_color\":{\"value\":\"black\"},\"line_dash\":[4,4],\"line_width\":{\"value\":2},\"plot\":null,\"render_mode\":\"css\",\"right_units\":\"screen\",\"top_units\":\"screen\"},\"id\":\"94c091d2-7b52-471d-8df9-9b55e2466718\",\"type\":\"BoxAnnotation\"},{\"attributes\":{\"bottom\":{\"field\":\"bottom\"},\"fill_color\":{\"field\":\"fill_color\"},\"left\":{\"field\":\"left\"},\"line_color\":{\"value\":null},\"right\":{\"field\":\"right\"},\"top\":{\"field\":\"top\"}},\"id\":\"62eae082-d081-4c10-a8c2-8afbc2419e13\",\"type\":\"Quad\"},{\"attributes\":{},\"id\":\"295dc099-eb8e-49c1-a384-c3966263ac91\",\"type\":\"ToolEvents\"},{\"attributes\":{\"plot\":{\"id\":\"e70680d6-d62f-446b-853a-f5ff7d201319\",\"subtype\":\"Figure\",\"type\":\"Plot\"},\"ticker\":{\"id\":\"f3105fc5-f036-43d5-bf75-db436a48059f\",\"type\":\"BasicTicker\"}},\"id\":\"7b5de53d-7f25-4c14-8a3b-2444c1b4b8d9\",\"type\":\"Grid\"},{\"attributes\":{\"callback\":null,\"column_names\":[\"y\",\"x\",\"vals\"],\"data\":{\"vals\":[\"117_1685\",\"100_279\",\"62_1265\",\"35_240\",\"8_718\",\"67_329\",\"9_545\",\"123_1561\",\"9_887\",\"26_1414\",\"5_16\",\"64_1575\",\"10_2206\",\"7_1868\"],\"x\":[135758231,135764184,135766890,135771350,135784351,135795222,135810535,135933921,136309239,136398174,136414097,136494186,136501840,136682274],\"y\":[801.0,185.0,598.0,84.0,493.0,287.0,391.0,700.0,595.0,699.0,61.0,800.0,903.0,902.0]}},\"id\":\"30057080-06df-4c24-b1f7-ec2e5e3d742f\",\"type\":\"ColumnDataSource\"},{\"attributes\":{},\"id\":\"84d5425d-f095-42e1-88cd-5014afe2919f\",\"type\":\"BasicTickFormatter\"},{\"attributes\":{\"callback\":null,\"end\":136786630,\"start\":135757320},\"id\":\"2d99b205-219e-459b-9a86-f0cf11c51c18\",\"type\":\"Range1d\"},{\"attributes\":{},\"id\":\"f3105fc5-f036-43d5-bf75-db436a48059f\",\"type\":\"BasicTicker\"},{\"attributes\":{\"callback\":null,\"column_names\":[\"right\",\"bottom\",\"top\",\"left\"],\"data\":{\"bottom\":[945,945,945,945,945,945,945],\"left\":[135809835,135957574,136289083,136499189,136545415,136597196,136664254],\"right\":[135928279,136288182,136482839,136542633,136594750,136634047,136743222],\"top\":[975,975,975,975,975,975,975]}},\"id\":\"d4e1b9af-1592-40f2-852a-7a15f0120f67\",\"type\":\"ColumnDataSource\"},{\"attributes\":{\"callback\":null,\"column_names\":[\"xs\",\"ys\",\"line_color\"],\"data\":{\"line_color\":[\"black\",\"black\",\"black\",\"black\",\"black\",\"black\",\"black\",\"black\",\"black\",\"black\",\"black\",\"black\",\"black\",\"black\",\"black\",\"black\",\"black\",\"black\",\"black\",\"black\",\"black\",\"black\",\"black\",\"black\",\"black\",\"black\",\"black\",\"black\",\"black\",\"black\",\"black\",\"black\",\"black\",\"black\",\"black\",\"black\",\"black\",\"black\",\"black\",\"black\",\"black\",\"black\",\"black\",\"black\",\"black\",\"black\",\"black\",\"black\",\"black\",\"black\",\"black\",\"black\",\"black\",\"black\",\"black\",\"black\",\"black\",\"black\",\"black\",\"black\",\"black\",\"black\",\"black\",\"black\",\"black\",\"black\",\"black\",\"black\",\"black\",\"black\",\"black\",\"black\",\"black\",\"black\",\"black\",\"black\",\"black\",\"black\",\"black\",\"black\",\"black\",\"black\",\"black\",\"black\",\"black\",\"black\",\"black\",\"black\",\"black\",\"black\",\"black\",\"black\",\"black\",\"black\",\"black\",\"black\",\"black\",\"black\",\"black\",\"black\",\"black\",\"black\",\"black\",\"black\",\"black\",\"black\",\"black\",\"black\",\"black\",\"black\",\"black\",\"black\",\"black\",\"black\",\"black\",\"black\",\"black\",\"black\",\"black\",\"black\",\"black\",\"black\",\"black\",\"black\",\"black\",\"black\",\"black\",\"black\",\"black\",\"black\",\"black\",\"black\",\"black\",\"black\",\"black\",\"black\",\"black\",\"black\",\"black\",\"black\",\"black\",\"black\",\"black\",\"black\",\"black\",\"black\",\"black\",\"black\",\"black\",\"black\",\"black\",\"black\",\"black\",\"black\",\"black\",\"black\",\"black\",\"black\",\"black\",\"black\",\"black\",\"black\",\"black\",\"black\",\"black\",\"black\",\"black\",\"black\",\"black\",\"black\",\"black\",\"black\",\"black\",\"black\",\"black\",\"black\",\"black\",\"black\",\"black\",\"black\",\"black\",\"black\",\"black\",\"black\",\"black\",\"black\",\"black\",\"black\",\"black\",\"black\",\"black\",\"black\",\"black\",\"black\",\"black\",\"black\",\"black\",\"black\",\"black\",\"black\",\"black\",\"black\",\"black\",\"black\",\"black\",\"black\",\"black\",\"black\",\"black\",\"black\",\"black\",\"black\",\"black\",\"black\",\"black\",\"black\",\"black\",\"black\",\"black\",\"black\",\"black\",\"black\",\"black\",\"black\",\"black\",\"black\",\"black\",\"black\",\"black\",\"black\",\"black\",\"black\",\"black\",\"black\",\"black\",\"black\",\"black\",\"black\",\"black\",\"black\",\"black\",\"black\",\"black\",\"black\",\"black\",\"black\",\"black\",\"black\",\"black\",\"black\",\"black\",\"black\",\"black\",\"black\",\"black\",\"black\",\"black\",\"black\",\"black\",\"black\",\"black\",\"black\",\"black\",\"black\",\"black\",\"black\",\"black\",\"black\",\"black\",\"black\",\"black\",\"black\",\"black\",\"black\",\"black\",\"black\",\"black\",\"black\",\"black\",\"black\",\"black\",\"black\",\"black\",\"black\",\"black\",\"black\",\"black\",\"black\",\"black\",\"black\",\"black\",\"black\",\"black\",\"black\",\"black\",\"black\",\"black\",\"black\",\"black\",\"black\",\"black\",\"black\",\"black\",\"black\",\"black\",\"black\",\"black\",\"black\",\"black\",\"black\",\"black\",\"black\",\"black\",\"black\",\"black\",\"black\",\"black\",\"black\",\"black\",\"black\",\"black\",\"black\",\"black\",\"black\",\"black\",\"black\",\"black\",\"black\",\"black\",\"black\",\"black\",\"black\",\"black\",\"black\",\"black\",\"black\",\"black\",\"black\",\"black\",\"black\",\"black\",\"black\",\"black\",\"black\",\"black\",\"black\",\"black\",\"black\",\"black\",\"black\",\"black\",\"black\",\"black\",\"black\",\"black\",\"black\",\"black\",\"black\",\"black\",\"black\",\"black\",\"black\",\"black\",\"black\",\"black\",\"black\",\"black\",\"black\",\"black\",\"black\",\"black\",\"black\",\"black\",\"black\",\"black\",\"black\",\"black\",\"black\",\"black\",\"black\",\"black\",\"black\",\"black\",\"black\",\"black\",\"black\",\"black\",\"black\",\"black\",\"black\",\"black\",\"black\",\"black\",\"black\",\"black\",\"black\",\"black\",\"black\",\"black\",\"black\",\"black\",\"black\",\"black\",\"black\",\"black\",\"black\",\"black\",\"black\",\"black\",\"black\",\"black\",\"black\",\"black\",\"black\",\"black\",\"black\",\"black\",\"black\",\"black\",\"black\",\"black\",\"black\",\"black\",\"black\",\"black\",\"black\",\"black\",\"black\",\"black\",\"black\",\"black\",\"black\",\"black\",\"black\",\"black\",\"black\",\"black\",\"black\",\"black\",\"black\",\"black\",\"black\",\"black\",\"black\",\"black\",\"black\",\"black\",\"black\",\"black\",\"black\",\"black\",\"black\",\"black\",\"black\",\"black\",\"black\",\"black\",\"black\",\"black\",\"black\",\"black\",\"black\",\"black\",\"black\",\"black\",\"black\",\"black\",\"black\",\"black\",\"black\",\"black\",\"black\",\"black\",\"black\",\"black\",\"black\",\"black\",\"black\",\"black\",\"black\",\"black\",\"black\",\"black\",\"black\",\"black\",\"black\",\"black\",\"black\",\"black\",\"black\",\"black\",\"black\",\"black\",\"black\",\"black\",\"black\",\"black\",\"black\",\"black\",\"black\",\"black\",\"black\",\"black\",\"black\",\"black\",\"black\",\"black\",\"black\",\"black\",\"black\",\"black\",\"black\",\"black\",\"black\",\"black\",\"black\",\"black\",\"black\",\"black\",\"black\",\"black\",\"black\",\"black\",\"black\",\"black\",\"black\",\"black\",\"black\",\"black\",\"black\",\"black\",\"black\",\"black\",\"black\",\"black\",\"black\",\"black\",\"black\",\"black\",\"black\",\"black\",\"black\",\"black\",\"black\",\"black\",\"black\",\"black\",\"black\",\"black\",\"black\",\"black\",\"black\",\"black\",\"black\",\"black\",\"black\",\"black\",\"black\",\"black\",\"black\",\"black\",\"black\",\"black\",\"black\",\"black\",\"black\",\"black\",\"black\",\"black\",\"black\",\"black\",\"black\",\"black\",\"black\",\"black\",\"black\",\"black\",\"black\",\"black\",\"black\",\"black\",\"black\",\"black\",\"black\",\"black\",\"black\",\"black\",\"black\",\"black\",\"black\",\"black\",\"black\",\"black\",\"black\",\"black\",\"black\",\"black\",\"black\",\"black\",\"black\",\"black\",\"black\",\"black\",\"black\",\"black\",\"black\",\"black\",\"black\",\"black\",\"black\",\"black\",\"black\",\"black\",\"black\",\"black\",\"black\",\"black\",\"black\",\"black\",\"black\",\"black\",\"black\",\"black\",\"black\",\"black\",\"black\",\"black\",\"black\",\"black\",\"black\",\"black\",\"black\",\"black\",\"black\",\"black\",\"black\",\"black\",\"black\",\"black\",\"black\",\"black\",\"black\"],\"xs\":[[135758231,135758231],[135758520,135758520],[135766072,135766072],[135773420,135773420],[135773446,135773446],[135773617,135773617],[135773692,135773692],[135774681,135774681],[135775049,135775049],[135776430,135776430],[135778656,135778656],[135780168,135780168],[135780587,135780587],[135781301,135781301],[135781522,135781522],[135781635,135781635],[135782456,135782456],[135783157,135783157],[135783366,135783366],[135783367,135783367],[135784227,135784227],[135784733,135784733],[135785066,135785066],[135785068,135785068],[135785149,135785149],[135787148,135787148],[135787642,135787642],[135789405,135789405],[135789472,135789472],[135789682,135789682],[135789784,135789784],[135792338,135792338],[135792528,135792528],[135793565,135793565],[135793684,135793684],[135793845,135793845],[135794367,135794367],[135794986,135794986],[135795040,135795040],[135795095,135795095],[135795150,135795150],[135795385,135795385],[135795396,135795396],[135795443,135795443],[135795595,135795595],[135796000,135796000],[135796155,135796155],[135796410,135796410],[135796965,135796965],[135797223,135797223],[135797747,135797747],[135798082,135798082],[135798758,135798758],[135799082,135799082],[135800085,135800085],[135800601,135800601],[135800757,135800757],[135801228,135801228],[135801956,135801956],[135802020,135802020],[135802028,135802028],[135802050,135802050],[135802148,135802148],[135803766,135803766],[135809241,135809241],[135812969,135812969],[135814716,135814716],[135818907,135818907],[135829432,135829432],[135832131,135832131],[135849613,135849613],[135853807,135853807],[135859923,135859923],[135860305,135860305],[135861497,135861497],[135863143,135863143],[135864294,135864294],[135871624,135871624],[135872646,135872646],[135874038,135874038],[135874622,135874622],[135878814,135878814],[135880013,135880013],[135884487,135884487],[135885357,135885357],[135893853,135893853],[135895809,135895809],[135895879,135895879],[135899069,135899069],[135909462,135909462],[135912977,135912977],[135914038,135914038],[135921839,135921839],[135925002,135925002],[135928312,135928312],[135935049,135935049],[135962711,135962711],[135984172,135984172],[135994753,135994753],[135994754,135994754],[136016079,136016079],[136027264,136027264],[136052004,136052004],[136100473,136100473],[136110129,136110129],[136166536,136166536],[136169799,136169799],[136191314,136191314],[136228887,136228887],[136238453,136238453],[136288273,136288273],[136292425,136292425],[136321951,136321951],[136324564,136324564],[136327299,136327299],[136327302,136327302],[136376515,136376515],[135764184,135764184],[135764753,135764753],[135773231,135773231],[135783057,135783057],[135784205,135784205],[135789287,135789287],[135793327,135793327],[135794677,135794677],[135794926,135794926],[135811191,135811191],[135817572,135817572],[135818667,135818667],[135822511,135822511],[135823278,135823278],[135826536,135826536],[135826575,135826575],[135828997,135828997],[135831859,135831859],[135833810,135833810],[135836338,135836338],[135837013,135837013],[135837560,135837560],[135837592,135837592],[135838952,135838952],[135845903,135845903],[135847928,135847928],[135852167,135852167],[135863477,135863477],[135863862,135863862],[135888634,135888634],[135899652,135899652],[135906692,135906692],[135920108,135920108],[135927428,135927428],[135928292,135928292],[135929399,135929399],[135930540,135930540],[135933072,135933072],[135933954,135933954],[135940980,135940980],[135943312,135943312],[135945776,135945776],[135946949,135946949],[135947723,135947723],[135948035,135948035],[135948915,135948915],[135953682,135953682],[135959737,135959737],[135960553,135960553],[135960616,135960616],[135961451,135961451],[135967575,135967575],[135967999,135967999],[135974160,135974160],[135976740,135976740],[135977954,135977954],[135978063,135978063],[135980342,135980342],[135984721,135984721],[135987024,135987024],[135989926,135989926],[135992172,135992172],[135994968,135994968],[136003353,136003353],[136005403,136005403],[136007349,136007349],[136010797,136010797],[136011050,136011050],[136011779,136011779],[136012383,136012383],[136018428,136018428],[136037656,136037656],[136037694,136037694],[136042345,136042345],[136046052,136046052],[136046774,136046774],[136050578,136050578],[136052012,136052012],[136054793,136054793],[136056521,136056521],[136056962,136056962],[136057940,136057940],[136061024,136061024],[136064758,136064758],[136066699,136066699],[136068369,136068369],[136069524,136069524],[136073211,136073211],[136078873,136078873],[136079662,136079662],[136089758,136089758],[136091422,136091422],[136092167,136092167],[136092266,136092266],[136098070,136098070],[136102214,136102214],[136103773,136103773],[136106554,136106554],[136108397,136108397],[136110118,136110118],[135766890,135766890],[135778708,135778708],[135779588,135779588],[135805941,135805941],[135805943,135805943],[135932720,135932720],[135933317,135933317],[135934842,135934842],[135952376,135952376],[135958853,135958853],[135962864,135962864],[135963304,135963304],[135965376,135965376],[135980201,135980201],[135981554,135981554],[135988127,135988127],[135988416,135988416],[135991470,135991470],[136000500,136000500],[136001215,136001215],[136001295,136001295],[136016514,136016514],[136017388,136017388],[136041102,136041102],[136041662,136041662],[136047387,136047387],[136052936,136052936],[136055275,136055275],[136063118,136063118],[136066802,136066802],[136068890,136068890],[136069577,136069577],[136081193,136081193],[136105193,136105193],[136107839,136107839],[136110835,136110835],[136138026,136138026],[136142092,136142092],[136146499,136146499],[136147607,136147607],[136148401,136148401],[136150512,136150512],[136154734,136154734],[136155805,136155805],[136163001,136163001],[136163266,136163266],[136163568,136163568],[136163821,136163821],[136165965,136165965],[136183312,136183312],[136185945,136185945],[136191729,136191729],[136204827,136204827],[136208747,136208747],[136217980,136217980],[136229438,136229438],[136232572,136232572],[136240942,136240942],[136251329,136251329],[136265187,136265187],[136265188,136265188],[136275985,136275985],[135771350,135771350],[135783750,135783750],[135786285,135786285],[135805792,135805792],[135813865,135813865],[135829428,135829428],[135872146,135872146],[135882159,135882159],[135889802,135889802],[135925623,135925623],[135948854,135948854],[135956095,135956095],[136027525,136027525],[136043677,136043677],[136053624,136053624],[136068718,136068718],[136105275,136105275],[136105389,136105389],[136112320,136112320],[136119943,136119943],[136151412,136151412],[136162141,136162141],[136164927,136164927],[136167553,136167553],[136176291,136176291],[136199180,136199180],[136221320,136221320],[136234761,136234761],[136238377,136238377],[136282110,136282110],[136285317,136285317],[136294045,136294045],[136314384,136314384],[136318445,136318445],[136340817,136340817],[135784351,135784351],[135829309,135829309],[135835508,135835508],[135861297,135861297],[135863459,135863459],[135873845,135873845],[135902172,135902172],[135902220,135902220],[135795222,135795222],[135920091,135920091],[136117271,136117271],[136122102,136122102],[136129859,136129859],[136135294,136135294],[136135451,136135451],[136144548,136144548],[136149219,136149219],[136152962,136152962],[136158473,136158473],[136160769,136160769],[136163389,136163389],[136164606,136164606],[136165624,136165624],[136165766,136165766],[136167030,136167030],[136170213,136170213],[136170889,136170889],[136170934,136170934],[136172028,136172028],[136175128,136175128],[136176923,136176923],[136180106,136180106],[136184333,136184333],[136188849,136188849],[136189408,136189408],[136189428,136189428],[136193318,136193318],[136196359,136196359],[136202820,136202820],[136203439,136203439],[136207999,136207999],[136213991,136213991],[136215173,136215173],[136220995,136220995],[136221233,136221233],[136223360,136223360],[136231459,136231459],[136233507,136233507],[136245723,136245723],[136246135,136246135],[136246877,136246877],[136251413,136251413],[136251832,136251832],[136252477,136252477],[136254415,136254415],[136255986,136255986],[136256216,136256216],[136256806,136256806],[136264344,136264344],[136269048,136269048],[136271210,136271210],[136276688,136276688],[136277343,136277343],[136286021,136286021],[136303450,136303450],[136317535,136317535],[136319030,136319030],[136326192,136326192],[136330558,136330558],[136332552,136332552],[136334724,136334724],[136337506,136337506],[136351111,136351111],[136351470,136351470],[136382700,136382700],[135810535,135810535],[135817760,135817760],[135857538,135857538],[135862191,135862191],[135869380,135869380],[135869761,135869761],[135886486,135886486],[135888078,135888078],[135898023,135898023],[135933921,135933921],[135939824,135939824],[135941503,135941503],[135943900,135943900],[135945474,135945474],[135949715,135949715],[135956745,135956745],[135958693,135958693],[135967778,135967778],[135972093,135972093],[135973768,135973768],[135976498,135976498],[135978428,135978428],[135990031,135990031],[135992481,135992481],[135993925,135993925],[135994838,135994838],[136000253,136000253],[136003567,136003567],[136005477,136005477],[136005971,136005971],[136020977,136020977],[136027535,136027535],[136031588,136031588],[136032905,136032905],[136042480,136042480],[136043885,136043885],[136050471,136050471],[136052898,136052898],[136054815,136054815],[136056285,136056285],[136061560,136061560],[136063685,136063685],[136069060,136069060],[136072179,136072179],[136074233,136074233],[136080721,136080721],[136080822,136080822],[136088440,136088440],[136088643,136088643],[136092416,136092416],[136092869,136092869],[136094615,136094615],[136095505,136095505],[136095604,136095604],[136096766,136096766],[136097091,136097091],[136097394,136097394],[136100243,136100243],[136101823,136101823],[136106561,136106561],[136115501,136115501],[136122622,136122622],[136123014,136123014],[136123848,136123848],[136127100,136127100],[136127950,136127950],[136128630,136128630],[136129630,136129630],[136129791,136129791],[136131324,136131324],[136135383,136135383],[136135994,136135994],[136136224,136136224],[136136366,136136366],[136136440,136136440],[136138145,136138145],[136140568,136140568],[136145882,136145882],[136147948,136147948],[136148630,136148630],[136151485,136151485],[136152802,136152802],[136156753,136156753],[136157913,136157913],[136160902,136160902],[136165765,136165765],[136171649,136171649],[136173220,136173220],[136173735,136173735],[136174552,136174552],[136175692,136175692],[136176805,136176805],[136182484,136182484],[136183188,136183188],[136187252,136187252],[136187345,136187345],[136189475,136189475],[136197702,136197702],[136198435,136198435],[136202937,136202937],[136219999,136219999],[136221500,136221500],[136226626,136226626],[136228929,136228929],[136229598,136229598],[136238270,136238270],[136238346,136238346],[136240769,136240769],[136244171,136244171],[136249245,136249245],[136250285,136250285],[136254419,136254419],[136266241,136266241],[136267808,136267808],[136272074,136272074],[136277304,136277304],[136290607,136290607],[136290663,136290663],[136291310,136291310],[136296051,136296051],[136305392,136305392],[136306890,136306890],[136310803,136310803],[136324225,136324225],[136324465,136324465],[136327305,136327305],[136329618,136329618],[136333300,136333300],[136350089,136350089],[136354204,136354204],[136360455,136360455],[136368563,136368563],[136309239,136309239],[136322472,136322472],[136323787,136323787],[136323862,136323862],[136326765,136326765],[136329500,136329500],[136331657,136331657],[136345356,136345356],[136361560,136361560],[136398174,136398174],[136402117,136402117],[136403749,136403749],[136409073,136409073],[136410299,136410299],[136413359,136413359],[136416855,136416855],[136416941,136416941],[136418348,136418348],[136419961,136419961],[136420690,136420690],[136422171,136422171],[136428460,136428460],[136430866,136430866],[136432103,136432103],[136437507,136437507],[136439090,136439090],[136439517,136439517],[136444123,136444123],[136445526,136445526],[136445869,136445869],[136455600,136455600],[136456642,136456642],[136462441,136462441],[136470714,136470714],[136474098,136474098],[136414097,136414097],[136460694,136460694],[136524223,136524223],[136530615,136530615],[136737168,136737168],[136494186,136494186],[136495300,136495300],[136495619,136495619],[136499166,136499166],[136502792,136502792],[136503157,136503157],[136507039,136507039],[136511575,136511575],[136518103,136518103],[136521514,136521514],[136522675,136522675],[136522941,136522941],[136526981,136526981],[136535410,136535410],[136539122,136539122],[136544197,136544197],[136550109,136550109],[136551694,136551694],[136553188,136553188],[136553639,136553639],[136554800,136554800],[136557319,136557319],[136558157,136558157],[136569848,136569848],[136575199,136575199],[136576577,136576577],[136578536,136578536],[136580287,136580287],[136583192,136583192],[136586958,136586958],[136588478,136588478],[136589612,136589612],[136591178,136591178],[136591859,136591859],[136593760,136593760],[136594158,136594158],[136603276,136603276],[136603366,136603366],[136608231,136608231],[136609975,136609975],[136610598,136610598],[136611624,136611624],[136613780,136613780],[136614255,136614255],[136614813,136614813],[136617524,136617524],[136622216,136622216],[136625602,136625602],[136629911,136629911],[136630757,136630757],[136630989,136630989],[136631031,136631031],[136633771,136633771],[136636324,136636324],[136638216,136638216],[136640233,136640233],[136641882,136641882],[136643555,136643555],[136658345,136658345],[136670298,136670298],[136685228,136685228],[136696138,136696138],[136740900,136740900],[136765951,136765951],[136501840,136501840],[136505546,136505546],[136516748,136516748],[136522710,136522710],[136528004,136528004],[136539513,136539513],[136544752,136544752],[136546110,136546110],[136553529,136553529],[136555659,136555659],[136682274,136682274],[136691825,136691825],[136698098,136698098],[136721603,136721603],[136721995,136721995],[136755684,136755684],[136775898,136775898]],\"ys\":[[750,796],[750,796],[750,796],[750,796],[750,796],[750,796],[750,796],[750,796],[750,796],[750,796],[750,796],[750,796],[750,796],[750,796],[750,796],[750,796],[750,796],[750,796],[750,796],[750,796],[750,796],[750,796],[750,796],[750,796],[750,796],[750,796],[750,796],[750,796],[750,796],[750,796],[750,796],[750,796],[750,796],[750,796],[750,796],[750,796],[750,796],[750,796],[750,796],[750,796],[750,796],[750,796],[750,796],[750,796],[750,796],[750,796],[750,796],[750,796],[750,796],[750,796],[750,796],[750,796],[750,796],[750,796],[750,796],[750,796],[750,796],[750,796],[750,796],[750,796],[750,796],[750,796],[750,796],[750,796],[750,796],[750,796],[750,796],[750,796],[750,796],[750,796],[750,796],[750,796],[750,796],[750,796],[750,796],[750,796],[750,796],[750,796],[750,796],[750,796],[750,796],[750,796],[750,796],[750,796],[750,796],[750,796],[750,796],[750,796],[750,796],[750,796],[750,796],[750,796],[750,796],[750,796],[750,796],[750,796],[750,796],[750,796],[750,796],[750,796],[750,796],[750,796],[750,796],[750,796],[750,796],[750,796],[750,796],[750,796],[750,796],[750,796],[750,796],[750,796],[750,796],[750,796],[750,796],[750,796],[750,796],[150,180],[150,180],[150,180],[150,180],[150,180],[150,180],[150,180],[150,180],[150,180],[150,180],[150,180],[150,180],[150,180],[150,180],[150,180],[150,180],[150,180],[150,180],[150,180],[150,180],[150,180],[150,180],[150,180],[150,180],[150,180],[150,180],[150,180],[150,180],[150,180],[150,180],[150,180],[150,180],[150,180],[150,180],[150,180],[150,180],[150,180],[150,180],[150,180],[150,180],[150,180],[150,180],[150,180],[150,180],[150,180],[150,180],[150,180],[150,180],[150,180],[150,180],[150,180],[150,180],[150,180],[150,180],[150,180],[150,180],[150,180],[150,180],[150,180],[150,180],[150,180],[150,180],[150,180],[150,180],[150,180],[150,180],[150,180],[150,180],[150,180],[150,180],[150,180],[150,180],[150,180],[150,180],[150,180],[150,180],[150,180],[150,180],[150,180],[150,180],[150,180],[150,180],[150,180],[150,180],[150,180],[150,180],[150,180],[150,180],[150,180],[150,180],[150,180],[150,180],[150,180],[150,180],[150,180],[150,180],[150,180],[150,180],[150,180],[150,180],[550,593],[550,593],[550,593],[550,593],[550,593],[550,593],[550,593],[550,593],[550,593],[550,593],[550,593],[550,593],[550,593],[550,593],[550,593],[550,593],[550,593],[550,593],[550,593],[550,593],[550,593],[550,593],[550,593],[550,593],[550,593],[550,593],[550,593],[550,593],[550,593],[550,593],[550,593],[550,593],[550,593],[550,593],[550,593],[550,593],[550,593],[550,593],[550,593],[550,593],[550,593],[550,593],[550,593],[550,593],[550,593],[550,593],[550,593],[550,593],[550,593],[550,593],[550,593],[550,593],[550,593],[550,593],[550,593],[550,593],[550,593],[550,593],[550,593],[550,593],[550,593],[550,593],[50,79],[50,79],[50,79],[50,79],[50,79],[50,79],[50,79],[50,79],[50,79],[50,79],[50,79],[50,79],[50,79],[50,79],[50,79],[50,79],[50,79],[50,79],[50,79],[50,79],[50,79],[50,79],[50,79],[50,79],[50,79],[50,79],[50,79],[50,79],[50,79],[50,79],[50,79],[50,79],[50,79],[50,79],[50,79],[450,488],[450,488],[450,488],[450,488],[450,488],[450,488],[450,488],[450,488],[250,282],[250,282],[250,282],[250,282],[250,282],[250,282],[250,282],[250,282],[250,282],[250,282],[250,282],[250,282],[250,282],[250,282],[250,282],[250,282],[250,282],[250,282],[250,282],[250,282],[250,282],[250,282],[250,282],[250,282],[250,282],[250,282],[250,282],[250,282],[250,282],[250,282],[250,282],[250,282],[250,282],[250,282],[250,282],[250,282],[250,282],[250,282],[250,282],[250,282],[250,282],[250,282],[250,282],[250,282],[250,282],[250,282],[250,282],[250,282],[250,282],[250,282],[250,282],[250,282],[250,282],[250,282],[250,282],[250,282],[250,282],[250,282],[250,282],[250,282],[250,282],[250,282],[250,282],[250,282],[250,282],[250,282],[250,282],[350,386],[350,386],[350,386],[350,386],[350,386],[350,386],[350,386],[350,386],[350,386],[650,695],[650,695],[650,695],[650,695],[650,695],[650,695],[650,695],[650,695],[650,695],[650,695],[650,695],[650,695],[650,695],[650,695],[650,695],[650,695],[650,695],[650,695],[650,695],[650,695],[650,695],[650,695],[650,695],[650,695],[650,695],[650,695],[650,695],[650,695],[650,695],[650,695],[650,695],[650,695],[650,695],[650,695],[650,695],[650,695],[650,695],[650,695],[650,695],[650,695],[650,695],[650,695],[650,695],[650,695],[650,695],[650,695],[650,695],[650,695],[650,695],[650,695],[650,695],[650,695],[650,695],[650,695],[650,695],[650,695],[650,695],[650,695],[650,695],[650,695],[650,695],[650,695],[650,695],[650,695],[650,695],[650,695],[650,695],[650,695],[650,695],[650,695],[650,695],[650,695],[650,695],[650,695],[650,695],[650,695],[650,695],[650,695],[650,695],[650,695],[650,695],[650,695],[650,695],[650,695],[650,695],[650,695],[650,695],[650,695],[650,695],[650,695],[650,695],[650,695],[650,695],[650,695],[650,695],[650,695],[650,695],[650,695],[650,695],[650,695],[650,695],[650,695],[650,695],[650,695],[650,695],[650,695],[650,695],[650,695],[650,695],[650,695],[650,695],[650,695],[650,695],[650,695],[650,695],[650,695],[650,695],[650,695],[650,695],[650,695],[650,695],[650,695],[650,695],[550,590],[550,590],[550,590],[550,590],[550,590],[550,590],[550,590],[550,590],[550,590],[650,694],[650,694],[650,694],[650,694],[650,694],[650,694],[650,694],[650,694],[650,694],[650,694],[650,694],[650,694],[650,694],[650,694],[650,694],[650,694],[650,694],[650,694],[650,694],[650,694],[650,694],[650,694],[650,694],[650,694],[650,694],[650,694],[50,56],[50,56],[50,56],[50,56],[50,56],[750,795],[750,795],[750,795],[750,795],[750,795],[750,795],[750,795],[750,795],[750,795],[750,795],[750,795],[750,795],[750,795],[750,795],[750,795],[750,795],[750,795],[750,795],[750,795],[750,795],[750,795],[750,795],[750,795],[750,795],[750,795],[750,795],[750,795],[750,795],[750,795],[750,795],[750,795],[750,795],[750,795],[750,795],[750,795],[750,795],[750,795],[750,795],[750,795],[750,795],[750,795],[750,795],[750,795],[750,795],[750,795],[750,795],[750,795],[750,795],[750,795],[750,795],[750,795],[750,795],[750,795],[750,795],[750,795],[750,795],[750,795],[750,795],[750,795],[750,795],[750,795],[750,795],[750,795],[750,795],[850,898],[850,898],[850,898],[850,898],[850,898],[850,898],[850,898],[850,898],[850,898],[850,898],[850,897],[850,897],[850,897],[850,897],[850,897],[850,897],[850,897]]}},\"id\":\"ff916bc9-d769-4ce8-9c69-7c211f25badd\",\"type\":\"ColumnDataSource\"},{\"attributes\":{\"formatter\":{\"id\":\"84d5425d-f095-42e1-88cd-5014afe2919f\",\"type\":\"BasicTickFormatter\"},\"plot\":{\"id\":\"e70680d6-d62f-446b-853a-f5ff7d201319\",\"subtype\":\"Figure\",\"type\":\"Plot\"},\"ticker\":{\"id\":\"f3105fc5-f036-43d5-bf75-db436a48059f\",\"type\":\"BasicTicker\"}},\"id\":\"89b03d5d-f233-46f8-81e3-a8b9a8e61384\",\"type\":\"LinearAxis\"},{\"attributes\":{\"bottom\":{\"field\":\"bottom\"},\"fill_color\":{\"value\":\"white\"},\"left\":{\"field\":\"left\"},\"right\":{\"field\":\"right\"},\"top\":{\"field\":\"top\"}},\"id\":\"19e83d25-396f-4866-9c55-090f186ab9ec\",\"type\":\"Quad\"},{\"attributes\":{\"level\":\"glyph\",\"plot\":{\"id\":\"e70680d6-d62f-446b-853a-f5ff7d201319\",\"subtype\":\"Figure\",\"type\":\"Plot\"},\"source\":{\"id\":\"49c67343-f5f2-4003-ae7e-e227580a2469\",\"type\":\"ColumnDataSource\"},\"text\":{\"field\":\"vals\"},\"text_align\":\"center\",\"text_baseline\":\"middle\",\"text_font_size\":{\"value\":\"8pt\"},\"x\":{\"field\":\"x\"},\"y\":{\"field\":\"y\"}},\"id\":\"44a8f0f8-8c39-4583-b1e8-eed981e887f4\",\"type\":\"LabelSet\"},{\"attributes\":{\"callback\":null,\"column_names\":[\"right\",\"bottom\",\"top\",\"left\",\"fill_color\"],\"data\":{\"bottom\":[750,150,550,50,450,250,350,650,550,650,50,750,850,850],\"fill_color\":[\"#808080\",\"#ff0000\",\"#808080\",\"#c46161\",\"#ff0000\",\"#ff0000\",\"#ff0000\",\"#c46161\",\"#ff0000\",\"#61c461\",\"#ff0000\",\"#61c461\",\"#808080\",\"#61c461\"],\"left\":[135758231,135764184,135766890,135771350,135784351,135795222,135810535,135933921,136309239,136398174,136414097,136494186,136501840,136682274],\"right\":[136376515,136110118,136275985,136340817,135902220,136382700,135898023,136368563,136361560,136474098,136737168,136765951,136555659,136775898],\"top\":[796,180,593,79,488,282,386,695,590,694,56,795,898,897]}},\"id\":\"fa79e912-195a-475e-beed-be9b3269388e\",\"type\":\"ColumnDataSource\"},{\"attributes\":{\"active_drag\":\"auto\",\"active_scroll\":\"auto\",\"active_tap\":\"auto\",\"tools\":[{\"id\":\"ec730f60-77bf-411e-a011-2720ef7fe75e\",\"type\":\"PanTool\"},{\"id\":\"dce133d5-05fa-42aa-8d8b-45b18c45e162\",\"type\":\"WheelZoomTool\"},{\"id\":\"74f63270-d26d-486c-aaff-919f95c78681\",\"type\":\"BoxZoomTool\"},{\"id\":\"fe80bc9a-48a3-4880-8890-e7d54581885f\",\"type\":\"SaveTool\"},{\"id\":\"e368a592-f328-41a8-90dd-39846660f404\",\"type\":\"ResetTool\"},{\"id\":\"02323781-bec8-44d0-a148-adc0f4e49201\",\"type\":\"HelpTool\"}]},\"id\":\"0dbde493-3d5e-4e33-89fa-d36a4645b51c\",\"type\":\"Toolbar\"},{\"attributes\":{\"plot\":{\"id\":\"e70680d6-d62f-446b-853a-f5ff7d201319\",\"subtype\":\"Figure\",\"type\":\"Plot\"}},\"id\":\"ec730f60-77bf-411e-a011-2720ef7fe75e\",\"type\":\"PanTool\"},{\"attributes\":{\"formatter\":{\"id\":\"a3c84404-5868-46cb-83ad-527797066339\",\"type\":\"BasicTickFormatter\"},\"plot\":{\"id\":\"e70680d6-d62f-446b-853a-f5ff7d201319\",\"subtype\":\"Figure\",\"type\":\"Plot\"},\"ticker\":{\"id\":\"bd5a641b-d187-41b1-a81c-6d951c799d99\",\"type\":\"BasicTicker\"},\"visible\":null},\"id\":\"86c2336e-eaf2-446d-a4c1-344e26aa435f\",\"type\":\"LinearAxis\"},{\"attributes\":{\"line_alpha\":{\"value\":0.1},\"line_color\":{\"value\":\"#1f77b4\"},\"xs\":{\"field\":\"xs\"},\"ys\":{\"field\":\"ys\"}},\"id\":\"36b842b1-ce5a-4e7c-ae3f-f00742e210c9\",\"type\":\"MultiLine\"},{\"attributes\":{\"below\":[{\"id\":\"89b03d5d-f233-46f8-81e3-a8b9a8e61384\",\"type\":\"LinearAxis\"}],\"left\":[{\"id\":\"86c2336e-eaf2-446d-a4c1-344e26aa435f\",\"type\":\"LinearAxis\"}],\"plot_height\":1000,\"plot_width\":900,\"renderers\":[{\"id\":\"89b03d5d-f233-46f8-81e3-a8b9a8e61384\",\"type\":\"LinearAxis\"},{\"id\":\"7b5de53d-7f25-4c14-8a3b-2444c1b4b8d9\",\"type\":\"Grid\"},{\"id\":\"86c2336e-eaf2-446d-a4c1-344e26aa435f\",\"type\":\"LinearAxis\"},{\"id\":\"337b9f12-3810-47af-9bb6-d45107d4a95d\",\"type\":\"Grid\"},{\"id\":\"94c091d2-7b52-471d-8df9-9b55e2466718\",\"type\":\"BoxAnnotation\"},{\"id\":\"a03d4965-fcf6-4af9-a049-6f220fd85a80\",\"type\":\"GlyphRenderer\"},{\"id\":\"068063a0-dbde-495e-93a0-56e65e96bc70\",\"type\":\"GlyphRenderer\"},{\"id\":\"62268e8a-c019-483e-920e-cd7dabfd68e1\",\"type\":\"LabelSet\"},{\"id\":\"f9da3401-d936-4e95-bf33-7041e3071f2a\",\"type\":\"GlyphRenderer\"},{\"id\":\"44a8f0f8-8c39-4583-b1e8-eed981e887f4\",\"type\":\"LabelSet\"}],\"title\":{\"id\":\"9230c851-d423-413b-b7dc-7ff8cfbf756c\",\"type\":\"Title\"},\"tool_events\":{\"id\":\"295dc099-eb8e-49c1-a384-c3966263ac91\",\"type\":\"ToolEvents\"},\"toolbar\":{\"id\":\"0dbde493-3d5e-4e33-89fa-d36a4645b51c\",\"type\":\"Toolbar\"},\"toolbar_location\":null,\"x_range\":{\"id\":\"2d99b205-219e-459b-9a86-f0cf11c51c18\",\"type\":\"Range1d\"},\"y_range\":{\"id\":\"2652bde3-7a19-46ef-ba17-7e0627d0f2eb\",\"type\":\"Range1d\"}},\"id\":\"e70680d6-d62f-446b-853a-f5ff7d201319\",\"subtype\":\"Figure\",\"type\":\"Plot\"},{\"attributes\":{\"plot\":{\"id\":\"e70680d6-d62f-446b-853a-f5ff7d201319\",\"subtype\":\"Figure\",\"type\":\"Plot\"}},\"id\":\"02323781-bec8-44d0-a148-adc0f4e49201\",\"type\":\"HelpTool\"},{\"attributes\":{\"level\":\"glyph\",\"plot\":{\"id\":\"e70680d6-d62f-446b-853a-f5ff7d201319\",\"subtype\":\"Figure\",\"type\":\"Plot\"},\"source\":{\"id\":\"30057080-06df-4c24-b1f7-ec2e5e3d742f\",\"type\":\"ColumnDataSource\"},\"text\":{\"field\":\"vals\"},\"text_font_size\":{\"value\":\"9pt\"},\"text_font_style\":\"bold\",\"x\":{\"field\":\"x\"},\"y\":{\"field\":\"y\"}},\"id\":\"62268e8a-c019-483e-920e-cd7dabfd68e1\",\"type\":\"LabelSet\"},{\"attributes\":{\"plot\":{\"id\":\"e70680d6-d62f-446b-853a-f5ff7d201319\",\"subtype\":\"Figure\",\"type\":\"Plot\"}},\"id\":\"e368a592-f328-41a8-90dd-39846660f404\",\"type\":\"ResetTool\"}],\"root_ids\":[\"e70680d6-d62f-446b-853a-f5ff7d201319\"]},\"title\":\"Bokeh Application\",\"version\":\"0.12.0\"}};\n",
       "            var render_items = [{\"docid\":\"7a4e9193-b8c0-4312-b3f2-326f616a3512\",\"elementid\":\"f273f53c-ee79-4e08-ba4a-6325e027482d\",\"modelid\":\"e70680d6-d62f-446b-853a-f5ff7d201319\",\"notebook_comms_target\":\"b5016cc5-6d14-46c1-b74a-fd5ac3ba1d0f\"}];\n",
       "            \n",
       "            Bokeh.embed.embed_items(docs_json, render_items);\n",
       "        });\n",
       "      },\n",
       "      function(Bokeh) {\n",
       "      }\n",
       "    ];\n",
       "  \n",
       "    function run_inline_js() {\n",
       "      for (var i = 0; i < inline_js.length; i++) {\n",
       "        inline_js[i](window.Bokeh);\n",
       "      }\n",
       "    }\n",
       "  \n",
       "    if (window._bokeh_is_loading === 0) {\n",
       "      console.log(\"Bokeh: BokehJS loaded, going straight to plotting\");\n",
       "      run_inline_js();\n",
       "    } else {\n",
       "      load_libs(js_urls, function() {\n",
       "        console.log(\"Bokeh: BokehJS plotting callback run at\", now());\n",
       "        run_inline_js();\n",
       "      });\n",
       "    }\n",
       "  }(this));\n",
       "</script>"
      ]
     },
     "metadata": {},
     "output_type": "display_data"
    },
    {
     "data": {
      "text/html": [
       "<p><code>&lt;Bokeh Notebook handle for <strong>In[18]</strong>&gt;</code></p>"
      ],
      "text/plain": [
       "<bokeh.io._CommsHandle at 0x7f43650499d0>"
      ]
     },
     "execution_count": 18,
     "metadata": {},
     "output_type": "execute_result"
    }
   ],
   "source": [
    "plt_obj = dm.superset_yes_no([dm.di_26_1414, dm.di_117_1685, dm.di_67_329], min_match=0.5)\n",
    "plt = plt_obj.do_plot()\n",
    "show(plt)"
   ]
  },
  {
   "cell_type": "code",
   "execution_count": 19,
   "metadata": {
    "collapsed": false
   },
   "outputs": [
    {
     "data": {
      "text/html": [
       "<table>\n",
       "<thead><tr><th style=\"text-align:center\">index</th><th style=\"text-align:center\">first</th><th style=\"text-align:center\">length</th><th style=\"text-align:center\">snps</th><th style=\"text-align:center\" colspan=2>alleles</th><th style=\"text-align:center\" colspan=2>matches</th><th style=\"text-align:center\" colspan=2>afr</th><th style=\"text-align:center\" colspan=2>afx</th><th style=\"text-align:center\" colspan=2>amr</th><th style=\"text-align:center\" colspan=2>eas</th><th style=\"text-align:center\" colspan=2>eur</th><th style=\"text-align:center\" colspan=2>sas</th><th style=\"text-align:center\" colspan=2>sax</th></tr></thead>\n",
       "<tr class=\"even\"><td style=\"text-align: right;\">353921</td><td style=\"text-align: right;\">136,501,840</td><td style=\"text-align: right;\">53,819</td><td style=\"text-align: right;\">10</td><td style=\"text-align: right;\">2206</td><td style=\"text-align: right;\">0.01</td><td style=\"text-align: right;\">19</td><td style=\"text-align: right;\">1.00</td><td style=\"text-align: right;\">13</td><td style=\"text-align: right;\">3.40</td><td style=\"text-align: right;\">5</td><td style=\"text-align: right;\">4.20</td><td style=\"text-align: right;\">0</td><td style=\"text-align: right;\">0.00</td><td style=\"text-align: right;\">0</td><td style=\"text-align: right;\">0.00</td><td style=\"text-align: right;\">0</td><td style=\"text-align: right;\">0.00</td><td style=\"text-align: right;\">1</td><td style=\"text-align: right;\">0.72</td><td style=\"text-align: right;\">0</td><td style=\"text-align: right;\">0.00</td></tr>\n",
       "<tr><td style=\"text-align: right;\">354170</td><td style=\"text-align: right;\">136,682,274</td><td style=\"text-align: right;\">93,624</td><td style=\"text-align: right;\">7</td><td style=\"text-align: right;\">1868</td><td style=\"text-align: right;\">0.01</td><td style=\"text-align: right;\">18</td><td style=\"text-align: right;\">0.95</td><td style=\"text-align: right;\">13</td><td style=\"text-align: right;\">3.59</td><td style=\"text-align: right;\">5</td><td style=\"text-align: right;\">4.43</td><td style=\"text-align: right;\">0</td><td style=\"text-align: right;\">0.00</td><td style=\"text-align: right;\">0</td><td style=\"text-align: right;\">0.00</td><td style=\"text-align: right;\">0</td><td style=\"text-align: right;\">0.00</td><td style=\"text-align: right;\">0</td><td style=\"text-align: right;\">0.00</td><td style=\"text-align: right;\">0</td><td style=\"text-align: right;\">0.00</td></tr>\n",
       "<tr class=\"even\"><td style=\"text-align: right;\">353244</td><td style=\"text-align: right;\">135,758,231</td><td style=\"text-align: right;\">618,284</td><td style=\"text-align: right;\">117</td><td style=\"text-align: right;\">1685</td><td style=\"text-align: right;\">0.01</td><td style=\"text-align: right;\">19</td><td style=\"text-align: right;\">1.00</td><td style=\"text-align: right;\">13</td><td style=\"text-align: right;\">3.40</td><td style=\"text-align: right;\">5</td><td style=\"text-align: right;\">4.20</td><td style=\"text-align: right;\">0</td><td style=\"text-align: right;\">0.00</td><td style=\"text-align: right;\">0</td><td style=\"text-align: right;\">0.00</td><td style=\"text-align: right;\">0</td><td style=\"text-align: right;\">0.00</td><td style=\"text-align: right;\">1</td><td style=\"text-align: right;\">0.72</td><td style=\"text-align: right;\">0</td><td style=\"text-align: right;\">0.00</td></tr>\n",
       "<tr><td style=\"text-align: right;\">353901</td><td style=\"text-align: right;\">136,494,186</td><td style=\"text-align: right;\">271,765</td><td style=\"text-align: right;\">64</td><td style=\"text-align: right;\">1575</td><td style=\"text-align: right;\">0.01</td><td style=\"text-align: right;\">18</td><td style=\"text-align: right;\">0.95</td><td style=\"text-align: right;\">13</td><td style=\"text-align: right;\">3.59</td><td style=\"text-align: right;\">5</td><td style=\"text-align: right;\">4.43</td><td style=\"text-align: right;\">0</td><td style=\"text-align: right;\">0.00</td><td style=\"text-align: right;\">0</td><td style=\"text-align: right;\">0.00</td><td style=\"text-align: right;\">0</td><td style=\"text-align: right;\">0.00</td><td style=\"text-align: right;\">0</td><td style=\"text-align: right;\">0.00</td><td style=\"text-align: right;\">0</td><td style=\"text-align: right;\">0.00</td></tr>\n",
       "<tr class=\"even\"><td style=\"text-align: right;\">353478</td><td style=\"text-align: right;\">135,933,921</td><td style=\"text-align: right;\">434,642</td><td style=\"text-align: right;\">123</td><td style=\"text-align: right;\">1561</td><td style=\"text-align: right;\">0.01</td><td style=\"text-align: right;\">19</td><td style=\"text-align: right;\">1.00</td><td style=\"text-align: right;\">13</td><td style=\"text-align: right;\">3.40</td><td style=\"text-align: right;\">5</td><td style=\"text-align: right;\">4.20</td><td style=\"text-align: right;\">0</td><td style=\"text-align: right;\">0.00</td><td style=\"text-align: right;\">0</td><td style=\"text-align: right;\">0.00</td><td style=\"text-align: right;\">0</td><td style=\"text-align: right;\">0.00</td><td style=\"text-align: right;\">1</td><td style=\"text-align: right;\">0.72</td><td style=\"text-align: right;\">0</td><td style=\"text-align: right;\">0.00</td></tr>\n",
       "<tr><td style=\"text-align: right;\">353797</td><td style=\"text-align: right;\">136,398,174</td><td style=\"text-align: right;\">75,924</td><td style=\"text-align: right;\">26</td><td style=\"text-align: right;\">1414</td><td style=\"text-align: right;\">0.01</td><td style=\"text-align: right;\">19</td><td style=\"text-align: right;\">1.00</td><td style=\"text-align: right;\">13</td><td style=\"text-align: right;\">3.40</td><td style=\"text-align: right;\">5</td><td style=\"text-align: right;\">4.20</td><td style=\"text-align: right;\">0</td><td style=\"text-align: right;\">0.00</td><td style=\"text-align: right;\">0</td><td style=\"text-align: right;\">0.00</td><td style=\"text-align: right;\">0</td><td style=\"text-align: right;\">0.00</td><td style=\"text-align: right;\">1</td><td style=\"text-align: right;\">0.72</td><td style=\"text-align: right;\">0</td><td style=\"text-align: right;\">0.00</td></tr>\n",
       "<tr class=\"even\"><td style=\"text-align: right;\">353269</td><td style=\"text-align: right;\">135,766,890</td><td style=\"text-align: right;\">509,095</td><td style=\"text-align: right;\">62</td><td style=\"text-align: right;\">1265</td><td style=\"text-align: right;\">0.02</td><td style=\"text-align: right;\">19</td><td style=\"text-align: right;\">1.00</td><td style=\"text-align: right;\">13</td><td style=\"text-align: right;\">3.40</td><td style=\"text-align: right;\">5</td><td style=\"text-align: right;\">4.20</td><td style=\"text-align: right;\">0</td><td style=\"text-align: right;\">0.00</td><td style=\"text-align: right;\">0</td><td style=\"text-align: right;\">0.00</td><td style=\"text-align: right;\">0</td><td style=\"text-align: right;\">0.00</td><td style=\"text-align: right;\">1</td><td style=\"text-align: right;\">0.72</td><td style=\"text-align: right;\">0</td><td style=\"text-align: right;\">0.00</td></tr>\n",
       "<tr><td style=\"text-align: right;\">353729</td><td style=\"text-align: right;\">136,309,239</td><td style=\"text-align: right;\">52,321</td><td style=\"text-align: right;\">9</td><td style=\"text-align: right;\">887</td><td style=\"text-align: right;\">0.02</td><td style=\"text-align: right;\">19</td><td style=\"text-align: right;\">1.00</td><td style=\"text-align: right;\">13</td><td style=\"text-align: right;\">3.40</td><td style=\"text-align: right;\">5</td><td style=\"text-align: right;\">4.20</td><td style=\"text-align: right;\">0</td><td style=\"text-align: right;\">0.00</td><td style=\"text-align: right;\">0</td><td style=\"text-align: right;\">0.00</td><td style=\"text-align: right;\">0</td><td style=\"text-align: right;\">0.00</td><td style=\"text-align: right;\">1</td><td style=\"text-align: right;\">0.72</td><td style=\"text-align: right;\">0</td><td style=\"text-align: right;\">0.00</td></tr>\n",
       "<tr class=\"even\"><td style=\"text-align: right;\">353312</td><td style=\"text-align: right;\">135,784,351</td><td style=\"text-align: right;\">117,869</td><td style=\"text-align: right;\">8</td><td style=\"text-align: right;\">718</td><td style=\"text-align: right;\">0.03</td><td style=\"text-align: right;\">19</td><td style=\"text-align: right;\">1.00</td><td style=\"text-align: right;\">13</td><td style=\"text-align: right;\">3.40</td><td style=\"text-align: right;\">5</td><td style=\"text-align: right;\">4.20</td><td style=\"text-align: right;\">0</td><td style=\"text-align: right;\">0.00</td><td style=\"text-align: right;\">0</td><td style=\"text-align: right;\">0.00</td><td style=\"text-align: right;\">0</td><td style=\"text-align: right;\">0.00</td><td style=\"text-align: right;\">1</td><td style=\"text-align: right;\">0.72</td><td style=\"text-align: right;\">0</td><td style=\"text-align: right;\">0.00</td></tr>\n",
       "<tr><td style=\"text-align: right;\">353349</td><td style=\"text-align: right;\">135,810,535</td><td style=\"text-align: right;\">87,488</td><td style=\"text-align: right;\">9</td><td style=\"text-align: right;\">545</td><td style=\"text-align: right;\">0.03</td><td style=\"text-align: right;\">19</td><td style=\"text-align: right;\">1.00</td><td style=\"text-align: right;\">13</td><td style=\"text-align: right;\">3.40</td><td style=\"text-align: right;\">5</td><td style=\"text-align: right;\">4.20</td><td style=\"text-align: right;\">0</td><td style=\"text-align: right;\">0.00</td><td style=\"text-align: right;\">0</td><td style=\"text-align: right;\">0.00</td><td style=\"text-align: right;\">0</td><td style=\"text-align: right;\">0.00</td><td style=\"text-align: right;\">1</td><td style=\"text-align: right;\">0.72</td><td style=\"text-align: right;\">0</td><td style=\"text-align: right;\">0.00</td></tr>\n",
       "<tr class=\"even\"><td style=\"text-align: right;\">353331</td><td style=\"text-align: right;\">135,795,222</td><td style=\"text-align: right;\">587,478</td><td style=\"text-align: right;\">67</td><td style=\"text-align: right;\">329</td><td style=\"text-align: right;\">0.06</td><td style=\"text-align: right;\">19</td><td style=\"text-align: right;\">1.00</td><td style=\"text-align: right;\">13</td><td style=\"text-align: right;\">3.40</td><td style=\"text-align: right;\">5</td><td style=\"text-align: right;\">4.20</td><td style=\"text-align: right;\">0</td><td style=\"text-align: right;\">0.00</td><td style=\"text-align: right;\">0</td><td style=\"text-align: right;\">0.00</td><td style=\"text-align: right;\">0</td><td style=\"text-align: right;\">0.00</td><td style=\"text-align: right;\">1</td><td style=\"text-align: right;\">0.72</td><td style=\"text-align: right;\">0</td><td style=\"text-align: right;\">0.00</td></tr>\n",
       "<tr><td style=\"text-align: right;\">353263</td><td style=\"text-align: right;\">135,764,184</td><td style=\"text-align: right;\">345,934</td><td style=\"text-align: right;\">100</td><td style=\"text-align: right;\">279</td><td style=\"text-align: right;\">0.07</td><td style=\"text-align: right;\">19</td><td style=\"text-align: right;\">1.00</td><td style=\"text-align: right;\">13</td><td style=\"text-align: right;\">3.40</td><td style=\"text-align: right;\">5</td><td style=\"text-align: right;\">4.20</td><td style=\"text-align: right;\">0</td><td style=\"text-align: right;\">0.00</td><td style=\"text-align: right;\">0</td><td style=\"text-align: right;\">0.00</td><td style=\"text-align: right;\">0</td><td style=\"text-align: right;\">0.00</td><td style=\"text-align: right;\">1</td><td style=\"text-align: right;\">0.72</td><td style=\"text-align: right;\">0</td><td style=\"text-align: right;\">0.00</td></tr>\n",
       "<tr class=\"even\"><td style=\"text-align: right;\">353281</td><td style=\"text-align: right;\">135,771,350</td><td style=\"text-align: right;\">569,467</td><td style=\"text-align: right;\">35</td><td style=\"text-align: right;\">240</td><td style=\"text-align: right;\">0.08</td><td style=\"text-align: right;\">19</td><td style=\"text-align: right;\">1.00</td><td style=\"text-align: right;\">13</td><td style=\"text-align: right;\">3.40</td><td style=\"text-align: right;\">5</td><td style=\"text-align: right;\">4.20</td><td style=\"text-align: right;\">0</td><td style=\"text-align: right;\">0.00</td><td style=\"text-align: right;\">0</td><td style=\"text-align: right;\">0.00</td><td style=\"text-align: right;\">0</td><td style=\"text-align: right;\">0.00</td><td style=\"text-align: right;\">1</td><td style=\"text-align: right;\">0.72</td><td style=\"text-align: right;\">0</td><td style=\"text-align: right;\">0.00</td></tr>\n",
       "<tr><td style=\"text-align: right;\">353821</td><td style=\"text-align: right;\">136,414,097</td><td style=\"text-align: right;\">323,071</td><td style=\"text-align: right;\">5</td><td style=\"text-align: right;\">16</td><td style=\"text-align: right;\">0.88</td><td style=\"text-align: right;\">14</td><td style=\"text-align: right;\">0.74</td><td style=\"text-align: right;\">10</td><td style=\"text-align: right;\">3.55</td><td style=\"text-align: right;\">4</td><td style=\"text-align: right;\">4.56</td><td style=\"text-align: right;\">0</td><td style=\"text-align: right;\">0.00</td><td style=\"text-align: right;\">0</td><td style=\"text-align: right;\">0.00</td><td style=\"text-align: right;\">0</td><td style=\"text-align: right;\">0.00</td><td style=\"text-align: right;\">0</td><td style=\"text-align: right;\">0.00</td><td style=\"text-align: right;\">0</td><td style=\"text-align: right;\">0.00</td></tr>\n",
       "</table>"
      ],
      "text/plain": [
       "<IPython.core.display.HTML object>"
      ]
     },
     "execution_count": 19,
     "metadata": {},
     "output_type": "execute_result"
    }
   ],
   "source": [
    "HTML(plt_obj.get_html())"
   ]
  },
  {
   "cell_type": "markdown",
   "metadata": {},
   "source": [
    "<div style=\"width:700px\">\n",
    "<p>\n",
    "This plot shows the most common series for the 16 samples that express\n",
    "the series 5_16. All 16 of these samples express 26_1414, 10_2206, 64_1575, and\n",
    "7_1868.\n",
    "</div>"
   ]
  },
  {
   "cell_type": "code",
   "execution_count": 20,
   "metadata": {
    "collapsed": false
   },
   "outputs": [
    {
     "data": {
      "text/html": [
       "\n",
       "\n",
       "    <div class=\"bk-root\">\n",
       "        <div class=\"plotdiv\" id=\"fd169173-4f98-446e-ba96-e5d6a0a252c7\"></div>\n",
       "    </div>\n",
       "<script type=\"text/javascript\">\n",
       "  \n",
       "  (function(global) {\n",
       "    function now() {\n",
       "      return new Date();\n",
       "    }\n",
       "  \n",
       "    if (typeof (window._bokeh_onload_callbacks) === \"undefined\") {\n",
       "      window._bokeh_onload_callbacks = [];\n",
       "    }\n",
       "  \n",
       "    function run_callbacks() {\n",
       "      window._bokeh_onload_callbacks.forEach(function(callback) { callback() });\n",
       "      delete window._bokeh_onload_callbacks\n",
       "      console.info(\"Bokeh: all callbacks have finished\");\n",
       "    }\n",
       "  \n",
       "    function load_libs(js_urls, callback) {\n",
       "      window._bokeh_onload_callbacks.push(callback);\n",
       "      if (window._bokeh_is_loading > 0) {\n",
       "        console.log(\"Bokeh: BokehJS is being loaded, scheduling callback at\", now());\n",
       "        return null;\n",
       "      }\n",
       "      if (js_urls == null || js_urls.length === 0) {\n",
       "        run_callbacks();\n",
       "        return null;\n",
       "      }\n",
       "      console.log(\"Bokeh: BokehJS not loaded, scheduling load and callback at\", now());\n",
       "      window._bokeh_is_loading = js_urls.length;\n",
       "      for (var i = 0; i < js_urls.length; i++) {\n",
       "        var url = js_urls[i];\n",
       "        var s = document.createElement('script');\n",
       "        s.src = url;\n",
       "        s.async = false;\n",
       "        s.onreadystatechange = s.onload = function() {\n",
       "          window._bokeh_is_loading--;\n",
       "          if (window._bokeh_is_loading === 0) {\n",
       "            console.log(\"Bokeh: all BokehJS libraries loaded\");\n",
       "            run_callbacks()\n",
       "          }\n",
       "        };\n",
       "        s.onerror = function() {\n",
       "          console.warn(\"failed to load library \" + url);\n",
       "        };\n",
       "        console.log(\"Bokeh: injecting script tag for BokehJS library: \", url);\n",
       "        document.getElementsByTagName(\"head\")[0].appendChild(s);\n",
       "      }\n",
       "    };var element = document.getElementById(\"fd169173-4f98-446e-ba96-e5d6a0a252c7\");\n",
       "    if (element == null) {\n",
       "      console.log(\"Bokeh: ERROR: autoload.js configured with elementid 'fd169173-4f98-446e-ba96-e5d6a0a252c7' but no matching script tag was found. \")\n",
       "      return false;\n",
       "    }\n",
       "  \n",
       "    var js_urls = [];\n",
       "  \n",
       "    var inline_js = [\n",
       "      function(Bokeh) {\n",
       "        Bokeh.$(function() {\n",
       "            var docs_json = {\"56bceb7c-9a96-4670-b27c-6e4dda99016d\":{\"roots\":{\"references\":[{\"attributes\":{\"bottom\":{\"field\":\"bottom\"},\"fill_alpha\":{\"value\":0.1},\"fill_color\":{\"value\":\"#1f77b4\"},\"left\":{\"field\":\"left\"},\"line_alpha\":{\"value\":0.1},\"line_color\":{\"value\":\"#1f77b4\"},\"right\":{\"field\":\"right\"},\"top\":{\"field\":\"top\"}},\"id\":\"09ef5972-9dd8-4f94-a2f5-14fc43f8035e\",\"type\":\"Quad\"},{\"attributes\":{\"data_source\":{\"id\":\"63c33868-efd1-4501-9718-a3ce9c4a363b\",\"type\":\"ColumnDataSource\"},\"glyph\":{\"id\":\"7f0d693b-6539-420f-b517-b60766fe1a84\",\"type\":\"MultiLine\"},\"hover_glyph\":null,\"nonselection_glyph\":{\"id\":\"301b27e6-5f9e-41b8-b265-45f169df776c\",\"type\":\"MultiLine\"},\"selection_glyph\":null},\"id\":\"97987ce5-014a-4b91-a863-8cf3308975da\",\"type\":\"GlyphRenderer\"},{\"attributes\":{\"line_alpha\":{\"value\":0.1},\"line_color\":{\"value\":\"#1f77b4\"},\"xs\":{\"field\":\"xs\"},\"ys\":{\"field\":\"ys\"}},\"id\":\"301b27e6-5f9e-41b8-b265-45f169df776c\",\"type\":\"MultiLine\"},{\"attributes\":{\"plot\":{\"id\":\"f9071ae7-5e68-4408-9ce3-f1221cb6894a\",\"subtype\":\"Figure\",\"type\":\"Plot\"},\"ticker\":{\"id\":\"d129e575-9cde-4a79-bfe0-cbb107ded32f\",\"type\":\"BasicTicker\"}},\"id\":\"f499b3fe-b852-41c9-9c32-c296858d1925\",\"type\":\"Grid\"},{\"attributes\":{\"bottom\":{\"field\":\"bottom\"},\"fill_alpha\":{\"value\":0.1},\"fill_color\":{\"value\":\"#1f77b4\"},\"left\":{\"field\":\"left\"},\"line_alpha\":{\"value\":0.1},\"line_color\":{\"value\":\"#1f77b4\"},\"right\":{\"field\":\"right\"},\"top\":{\"field\":\"top\"}},\"id\":\"22628add-127b-4428-86cb-5bc0d27e782a\",\"type\":\"Quad\"},{\"attributes\":{},\"id\":\"c62612ed-9117-4503-9414-ccc477d1238e\",\"type\":\"BasicTickFormatter\"},{\"attributes\":{\"data_source\":{\"id\":\"bfe5af88-3a96-4891-b2b3-c4c70450bb79\",\"type\":\"ColumnDataSource\"},\"glyph\":{\"id\":\"712b7640-0144-4b72-9b47-c97b123c0004\",\"type\":\"Quad\"},\"hover_glyph\":null,\"nonselection_glyph\":{\"id\":\"09ef5972-9dd8-4f94-a2f5-14fc43f8035e\",\"type\":\"Quad\"},\"selection_glyph\":null},\"id\":\"f43ba090-6d00-471c-b3ed-391b96e50f74\",\"type\":\"GlyphRenderer\"},{\"attributes\":{\"callback\":null,\"column_names\":[\"right\",\"bottom\",\"top\",\"left\",\"fill_color\"],\"data\":{\"bottom\":[750,150,550,50,450,250,350,650,550,650,50,750,850,850],\"fill_color\":[\"#808080\",\"#ff0000\",\"#808080\",\"#c46161\",\"#ff0000\",\"#ff0000\",\"#ff0000\",\"#c46161\",\"#ff0000\",\"#61c461\",\"#ff0000\",\"#61c461\",\"#808080\",\"#61c461\"],\"left\":[135758231,135764184,135766890,135771350,135784351,135795222,135810535,135933921,136309239,136398174,136414097,136494186,136501840,136682274],\"right\":[136376515,136110118,136275985,136340817,135902220,136382700,135898023,136368563,136361560,136474098,136737168,136765951,136555659,136775898],\"top\":[796,180,593,79,488,282,386,695,590,694,56,795,898,897]}},\"id\":\"cdf81853-388c-4d4f-aa27-8d5ccb2a5898\",\"type\":\"ColumnDataSource\"},{\"attributes\":{},\"id\":\"47b10617-159a-476f-8cf0-54e4d20d2fc6\",\"type\":\"ToolEvents\"},{\"attributes\":{\"callback\":null,\"end\":136786630,\"start\":135757320},\"id\":\"2770a38e-3e61-434a-9aa1-ce79d2b0a74d\",\"type\":\"Range1d\"},{\"attributes\":{\"bottom\":{\"field\":\"bottom\"},\"fill_color\":{\"value\":\"white\"},\"left\":{\"field\":\"left\"},\"right\":{\"field\":\"right\"},\"top\":{\"field\":\"top\"}},\"id\":\"712b7640-0144-4b72-9b47-c97b123c0004\",\"type\":\"Quad\"},{\"attributes\":{},\"id\":\"30a39bdf-4c2b-40b1-8814-512b72fe714e\",\"type\":\"BasicTickFormatter\"},{\"attributes\":{\"level\":\"glyph\",\"plot\":{\"id\":\"f9071ae7-5e68-4408-9ce3-f1221cb6894a\",\"subtype\":\"Figure\",\"type\":\"Plot\"},\"source\":{\"id\":\"16aa9ca7-03d1-4635-9da2-409863fbaaea\",\"type\":\"ColumnDataSource\"},\"text\":{\"field\":\"vals\"},\"text_align\":\"center\",\"text_baseline\":\"middle\",\"text_font_size\":{\"value\":\"8pt\"},\"x\":{\"field\":\"x\"},\"y\":{\"field\":\"y\"}},\"id\":\"723c6456-8f97-4032-ad86-96661cf0fe30\",\"type\":\"LabelSet\"},{\"attributes\":{\"active_drag\":\"auto\",\"active_scroll\":\"auto\",\"active_tap\":\"auto\",\"tools\":[{\"id\":\"d44cc92f-7ab9-4303-821b-d7a32b7207ff\",\"type\":\"PanTool\"},{\"id\":\"746cd3d0-6bb8-4809-a782-83ce21b5962c\",\"type\":\"WheelZoomTool\"},{\"id\":\"2681a1d4-feca-4901-8a62-8e15d5c722d4\",\"type\":\"BoxZoomTool\"},{\"id\":\"b5157930-d497-4a46-bd30-0bb994b063c7\",\"type\":\"SaveTool\"},{\"id\":\"c39240b1-4916-4eec-a3f1-4d6e604c8710\",\"type\":\"ResetTool\"},{\"id\":\"f59eaa5f-2f31-46b1-be3f-425b5cfee0dc\",\"type\":\"HelpTool\"}]},\"id\":\"eafb7311-968a-4be8-918d-354ca153e5a0\",\"type\":\"Toolbar\"},{\"attributes\":{\"bottom\":{\"field\":\"bottom\"},\"fill_color\":{\"field\":\"fill_color\"},\"left\":{\"field\":\"left\"},\"line_color\":{\"value\":null},\"right\":{\"field\":\"right\"},\"top\":{\"field\":\"top\"}},\"id\":\"8e8d550b-6d98-4ff3-814f-da29a6994c02\",\"type\":\"Quad\"},{\"attributes\":{\"callback\":null,\"column_names\":[\"y\",\"x\",\"vals\"],\"data\":{\"vals\":[\"117_1685\",\"100_279\",\"62_1265\",\"35_240\",\"8_718\",\"67_329\",\"9_545\",\"123_1561\",\"9_887\",\"26_1414\",\"5_16\",\"64_1575\",\"10_2206\",\"7_1868\"],\"x\":[135758231,135764184,135766890,135771350,135784351,135795222,135810535,135933921,136309239,136398174,136414097,136494186,136501840,136682274],\"y\":[801.0,185.0,598.0,84.0,493.0,287.0,391.0,700.0,595.0,699.0,61.0,800.0,903.0,902.0]}},\"id\":\"eb6008d6-4dde-4bf1-af74-f4148a62e2b1\",\"type\":\"ColumnDataSource\"},{\"attributes\":{\"plot\":{\"id\":\"f9071ae7-5e68-4408-9ce3-f1221cb6894a\",\"subtype\":\"Figure\",\"type\":\"Plot\"}},\"id\":\"d44cc92f-7ab9-4303-821b-d7a32b7207ff\",\"type\":\"PanTool\"},{\"attributes\":{\"callback\":null,\"column_names\":[\"xs\",\"ys\",\"line_color\"],\"data\":{\"line_color\":[\"black\",\"black\",\"black\",\"black\",\"black\",\"black\",\"black\",\"black\",\"black\",\"black\",\"black\",\"black\",\"black\",\"black\",\"black\",\"black\",\"black\",\"black\",\"black\",\"black\",\"black\",\"black\",\"black\",\"black\",\"black\",\"black\",\"black\",\"black\",\"black\",\"black\",\"black\",\"black\",\"black\",\"black\",\"black\",\"black\",\"black\",\"black\",\"black\",\"black\",\"black\",\"black\",\"black\",\"black\",\"black\",\"black\",\"black\",\"black\",\"black\",\"black\",\"black\",\"black\",\"black\",\"black\",\"black\",\"black\",\"black\",\"black\",\"black\",\"black\",\"black\",\"black\",\"black\",\"black\",\"black\",\"black\",\"black\",\"black\",\"black\",\"black\",\"black\",\"black\",\"black\",\"black\",\"black\",\"black\",\"black\",\"black\",\"black\",\"black\",\"black\",\"black\",\"black\",\"black\",\"black\",\"black\",\"black\",\"black\",\"black\",\"black\",\"black\",\"black\",\"black\",\"black\",\"black\",\"black\",\"black\",\"black\",\"black\",\"black\",\"black\",\"black\",\"black\",\"black\",\"black\",\"black\",\"black\",\"black\",\"black\",\"black\",\"black\",\"black\",\"black\",\"black\",\"black\",\"black\",\"black\",\"black\",\"black\",\"black\",\"black\",\"black\",\"black\",\"black\",\"black\",\"black\",\"black\",\"black\",\"black\",\"black\",\"black\",\"black\",\"black\",\"black\",\"black\",\"black\",\"black\",\"black\",\"black\",\"black\",\"black\",\"black\",\"black\",\"black\",\"black\",\"black\",\"black\",\"black\",\"black\",\"black\",\"black\",\"black\",\"black\",\"black\",\"black\",\"black\",\"black\",\"black\",\"black\",\"black\",\"black\",\"black\",\"black\",\"black\",\"black\",\"black\",\"black\",\"black\",\"black\",\"black\",\"black\",\"black\",\"black\",\"black\",\"black\",\"black\",\"black\",\"black\",\"black\",\"black\",\"black\",\"black\",\"black\",\"black\",\"black\",\"black\",\"black\",\"black\",\"black\",\"black\",\"black\",\"black\",\"black\",\"black\",\"black\",\"black\",\"black\",\"black\",\"black\",\"black\",\"black\",\"black\",\"black\",\"black\",\"black\",\"black\",\"black\",\"black\",\"black\",\"black\",\"black\",\"black\",\"black\",\"black\",\"black\",\"black\",\"black\",\"black\",\"black\",\"black\",\"black\",\"black\",\"black\",\"black\",\"black\",\"black\",\"black\",\"black\",\"black\",\"black\",\"black\",\"black\",\"black\",\"black\",\"black\",\"black\",\"black\",\"black\",\"black\",\"black\",\"black\",\"black\",\"black\",\"black\",\"black\",\"black\",\"black\",\"black\",\"black\",\"black\",\"black\",\"black\",\"black\",\"black\",\"black\",\"black\",\"black\",\"black\",\"black\",\"black\",\"black\",\"black\",\"black\",\"black\",\"black\",\"black\",\"black\",\"black\",\"black\",\"black\",\"black\",\"black\",\"black\",\"black\",\"black\",\"black\",\"black\",\"black\",\"black\",\"black\",\"black\",\"black\",\"black\",\"black\",\"black\",\"black\",\"black\",\"black\",\"black\",\"black\",\"black\",\"black\",\"black\",\"black\",\"black\",\"black\",\"black\",\"black\",\"black\",\"black\",\"black\",\"black\",\"black\",\"black\",\"black\",\"black\",\"black\",\"black\",\"black\",\"black\",\"black\",\"black\",\"black\",\"black\",\"black\",\"black\",\"black\",\"black\",\"black\",\"black\",\"black\",\"black\",\"black\",\"black\",\"black\",\"black\",\"black\",\"black\",\"black\",\"black\",\"black\",\"black\",\"black\",\"black\",\"black\",\"black\",\"black\",\"black\",\"black\",\"black\",\"black\",\"black\",\"black\",\"black\",\"black\",\"black\",\"black\",\"black\",\"black\",\"black\",\"black\",\"black\",\"black\",\"black\",\"black\",\"black\",\"black\",\"black\",\"black\",\"black\",\"black\",\"black\",\"black\",\"black\",\"black\",\"black\",\"black\",\"black\",\"black\",\"black\",\"black\",\"black\",\"black\",\"black\",\"black\",\"black\",\"black\",\"black\",\"black\",\"black\",\"black\",\"black\",\"black\",\"black\",\"black\",\"black\",\"black\",\"black\",\"black\",\"black\",\"black\",\"black\",\"black\",\"black\",\"black\",\"black\",\"black\",\"black\",\"black\",\"black\",\"black\",\"black\",\"black\",\"black\",\"black\",\"black\",\"black\",\"black\",\"black\",\"black\",\"black\",\"black\",\"black\",\"black\",\"black\",\"black\",\"black\",\"black\",\"black\",\"black\",\"black\",\"black\",\"black\",\"black\",\"black\",\"black\",\"black\",\"black\",\"black\",\"black\",\"black\",\"black\",\"black\",\"black\",\"black\",\"black\",\"black\",\"black\",\"black\",\"black\",\"black\",\"black\",\"black\",\"black\",\"black\",\"black\",\"black\",\"black\",\"black\",\"black\",\"black\",\"black\",\"black\",\"black\",\"black\",\"black\",\"black\",\"black\",\"black\",\"black\",\"black\",\"black\",\"black\",\"black\",\"black\",\"black\",\"black\",\"black\",\"black\",\"black\",\"black\",\"black\",\"black\",\"black\",\"black\",\"black\",\"black\",\"black\",\"black\",\"black\",\"black\",\"black\",\"black\",\"black\",\"black\",\"black\",\"black\",\"black\",\"black\",\"black\",\"black\",\"black\",\"black\",\"black\",\"black\",\"black\",\"black\",\"black\",\"black\",\"black\",\"black\",\"black\",\"black\",\"black\",\"black\",\"black\",\"black\",\"black\",\"black\",\"black\",\"black\",\"black\",\"black\",\"black\",\"black\",\"black\",\"black\",\"black\",\"black\",\"black\",\"black\",\"black\",\"black\",\"black\",\"black\",\"black\",\"black\",\"black\",\"black\",\"black\",\"black\",\"black\",\"black\",\"black\",\"black\",\"black\",\"black\",\"black\",\"black\",\"black\",\"black\",\"black\",\"black\",\"black\",\"black\",\"black\",\"black\",\"black\",\"black\",\"black\",\"black\",\"black\",\"black\",\"black\",\"black\",\"black\",\"black\",\"black\",\"black\",\"black\",\"black\",\"black\",\"black\",\"black\",\"black\",\"black\",\"black\",\"black\",\"black\",\"black\",\"black\",\"black\",\"black\",\"black\",\"black\",\"black\",\"black\",\"black\",\"black\",\"black\",\"black\",\"black\",\"black\",\"black\",\"black\",\"black\",\"black\",\"black\",\"black\",\"black\",\"black\",\"black\",\"black\",\"black\",\"black\",\"black\",\"black\",\"black\",\"black\",\"black\",\"black\",\"black\",\"black\",\"black\",\"black\",\"black\",\"black\",\"black\",\"black\",\"black\",\"black\",\"black\",\"black\",\"black\",\"black\",\"black\",\"black\",\"black\",\"black\",\"black\",\"black\",\"black\",\"black\",\"black\",\"black\",\"black\",\"black\",\"black\",\"black\",\"black\",\"black\",\"black\",\"black\",\"black\",\"black\",\"black\",\"black\",\"black\",\"black\",\"black\",\"black\",\"black\"],\"xs\":[[135758231,135758231],[135758520,135758520],[135766072,135766072],[135773420,135773420],[135773446,135773446],[135773617,135773617],[135773692,135773692],[135774681,135774681],[135775049,135775049],[135776430,135776430],[135778656,135778656],[135780168,135780168],[135780587,135780587],[135781301,135781301],[135781522,135781522],[135781635,135781635],[135782456,135782456],[135783157,135783157],[135783366,135783366],[135783367,135783367],[135784227,135784227],[135784733,135784733],[135785066,135785066],[135785068,135785068],[135785149,135785149],[135787148,135787148],[135787642,135787642],[135789405,135789405],[135789472,135789472],[135789682,135789682],[135789784,135789784],[135792338,135792338],[135792528,135792528],[135793565,135793565],[135793684,135793684],[135793845,135793845],[135794367,135794367],[135794986,135794986],[135795040,135795040],[135795095,135795095],[135795150,135795150],[135795385,135795385],[135795396,135795396],[135795443,135795443],[135795595,135795595],[135796000,135796000],[135796155,135796155],[135796410,135796410],[135796965,135796965],[135797223,135797223],[135797747,135797747],[135798082,135798082],[135798758,135798758],[135799082,135799082],[135800085,135800085],[135800601,135800601],[135800757,135800757],[135801228,135801228],[135801956,135801956],[135802020,135802020],[135802028,135802028],[135802050,135802050],[135802148,135802148],[135803766,135803766],[135809241,135809241],[135812969,135812969],[135814716,135814716],[135818907,135818907],[135829432,135829432],[135832131,135832131],[135849613,135849613],[135853807,135853807],[135859923,135859923],[135860305,135860305],[135861497,135861497],[135863143,135863143],[135864294,135864294],[135871624,135871624],[135872646,135872646],[135874038,135874038],[135874622,135874622],[135878814,135878814],[135880013,135880013],[135884487,135884487],[135885357,135885357],[135893853,135893853],[135895809,135895809],[135895879,135895879],[135899069,135899069],[135909462,135909462],[135912977,135912977],[135914038,135914038],[135921839,135921839],[135925002,135925002],[135928312,135928312],[135935049,135935049],[135962711,135962711],[135984172,135984172],[135994753,135994753],[135994754,135994754],[136016079,136016079],[136027264,136027264],[136052004,136052004],[136100473,136100473],[136110129,136110129],[136166536,136166536],[136169799,136169799],[136191314,136191314],[136228887,136228887],[136238453,136238453],[136288273,136288273],[136292425,136292425],[136321951,136321951],[136324564,136324564],[136327299,136327299],[136327302,136327302],[136376515,136376515],[135764184,135764184],[135764753,135764753],[135773231,135773231],[135783057,135783057],[135784205,135784205],[135789287,135789287],[135793327,135793327],[135794677,135794677],[135794926,135794926],[135811191,135811191],[135817572,135817572],[135818667,135818667],[135822511,135822511],[135823278,135823278],[135826536,135826536],[135826575,135826575],[135828997,135828997],[135831859,135831859],[135833810,135833810],[135836338,135836338],[135837013,135837013],[135837560,135837560],[135837592,135837592],[135838952,135838952],[135845903,135845903],[135847928,135847928],[135852167,135852167],[135863477,135863477],[135863862,135863862],[135888634,135888634],[135899652,135899652],[135906692,135906692],[135920108,135920108],[135927428,135927428],[135928292,135928292],[135929399,135929399],[135930540,135930540],[135933072,135933072],[135933954,135933954],[135940980,135940980],[135943312,135943312],[135945776,135945776],[135946949,135946949],[135947723,135947723],[135948035,135948035],[135948915,135948915],[135953682,135953682],[135959737,135959737],[135960553,135960553],[135960616,135960616],[135961451,135961451],[135967575,135967575],[135967999,135967999],[135974160,135974160],[135976740,135976740],[135977954,135977954],[135978063,135978063],[135980342,135980342],[135984721,135984721],[135987024,135987024],[135989926,135989926],[135992172,135992172],[135994968,135994968],[136003353,136003353],[136005403,136005403],[136007349,136007349],[136010797,136010797],[136011050,136011050],[136011779,136011779],[136012383,136012383],[136018428,136018428],[136037656,136037656],[136037694,136037694],[136042345,136042345],[136046052,136046052],[136046774,136046774],[136050578,136050578],[136052012,136052012],[136054793,136054793],[136056521,136056521],[136056962,136056962],[136057940,136057940],[136061024,136061024],[136064758,136064758],[136066699,136066699],[136068369,136068369],[136069524,136069524],[136073211,136073211],[136078873,136078873],[136079662,136079662],[136089758,136089758],[136091422,136091422],[136092167,136092167],[136092266,136092266],[136098070,136098070],[136102214,136102214],[136103773,136103773],[136106554,136106554],[136108397,136108397],[136110118,136110118],[135766890,135766890],[135778708,135778708],[135779588,135779588],[135805941,135805941],[135805943,135805943],[135932720,135932720],[135933317,135933317],[135934842,135934842],[135952376,135952376],[135958853,135958853],[135962864,135962864],[135963304,135963304],[135965376,135965376],[135980201,135980201],[135981554,135981554],[135988127,135988127],[135988416,135988416],[135991470,135991470],[136000500,136000500],[136001215,136001215],[136001295,136001295],[136016514,136016514],[136017388,136017388],[136041102,136041102],[136041662,136041662],[136047387,136047387],[136052936,136052936],[136055275,136055275],[136063118,136063118],[136066802,136066802],[136068890,136068890],[136069577,136069577],[136081193,136081193],[136105193,136105193],[136107839,136107839],[136110835,136110835],[136138026,136138026],[136142092,136142092],[136146499,136146499],[136147607,136147607],[136148401,136148401],[136150512,136150512],[136154734,136154734],[136155805,136155805],[136163001,136163001],[136163266,136163266],[136163568,136163568],[136163821,136163821],[136165965,136165965],[136183312,136183312],[136185945,136185945],[136191729,136191729],[136204827,136204827],[136208747,136208747],[136217980,136217980],[136229438,136229438],[136232572,136232572],[136240942,136240942],[136251329,136251329],[136265187,136265187],[136265188,136265188],[136275985,136275985],[135771350,135771350],[135783750,135783750],[135786285,135786285],[135805792,135805792],[135813865,135813865],[135829428,135829428],[135872146,135872146],[135882159,135882159],[135889802,135889802],[135925623,135925623],[135948854,135948854],[135956095,135956095],[136027525,136027525],[136043677,136043677],[136053624,136053624],[136068718,136068718],[136105275,136105275],[136105389,136105389],[136112320,136112320],[136119943,136119943],[136151412,136151412],[136162141,136162141],[136164927,136164927],[136167553,136167553],[136176291,136176291],[136199180,136199180],[136221320,136221320],[136234761,136234761],[136238377,136238377],[136282110,136282110],[136285317,136285317],[136294045,136294045],[136314384,136314384],[136318445,136318445],[136340817,136340817],[135784351,135784351],[135829309,135829309],[135835508,135835508],[135861297,135861297],[135863459,135863459],[135873845,135873845],[135902172,135902172],[135902220,135902220],[135795222,135795222],[135920091,135920091],[136117271,136117271],[136122102,136122102],[136129859,136129859],[136135294,136135294],[136135451,136135451],[136144548,136144548],[136149219,136149219],[136152962,136152962],[136158473,136158473],[136160769,136160769],[136163389,136163389],[136164606,136164606],[136165624,136165624],[136165766,136165766],[136167030,136167030],[136170213,136170213],[136170889,136170889],[136170934,136170934],[136172028,136172028],[136175128,136175128],[136176923,136176923],[136180106,136180106],[136184333,136184333],[136188849,136188849],[136189408,136189408],[136189428,136189428],[136193318,136193318],[136196359,136196359],[136202820,136202820],[136203439,136203439],[136207999,136207999],[136213991,136213991],[136215173,136215173],[136220995,136220995],[136221233,136221233],[136223360,136223360],[136231459,136231459],[136233507,136233507],[136245723,136245723],[136246135,136246135],[136246877,136246877],[136251413,136251413],[136251832,136251832],[136252477,136252477],[136254415,136254415],[136255986,136255986],[136256216,136256216],[136256806,136256806],[136264344,136264344],[136269048,136269048],[136271210,136271210],[136276688,136276688],[136277343,136277343],[136286021,136286021],[136303450,136303450],[136317535,136317535],[136319030,136319030],[136326192,136326192],[136330558,136330558],[136332552,136332552],[136334724,136334724],[136337506,136337506],[136351111,136351111],[136351470,136351470],[136382700,136382700],[135810535,135810535],[135817760,135817760],[135857538,135857538],[135862191,135862191],[135869380,135869380],[135869761,135869761],[135886486,135886486],[135888078,135888078],[135898023,135898023],[135933921,135933921],[135939824,135939824],[135941503,135941503],[135943900,135943900],[135945474,135945474],[135949715,135949715],[135956745,135956745],[135958693,135958693],[135967778,135967778],[135972093,135972093],[135973768,135973768],[135976498,135976498],[135978428,135978428],[135990031,135990031],[135992481,135992481],[135993925,135993925],[135994838,135994838],[136000253,136000253],[136003567,136003567],[136005477,136005477],[136005971,136005971],[136020977,136020977],[136027535,136027535],[136031588,136031588],[136032905,136032905],[136042480,136042480],[136043885,136043885],[136050471,136050471],[136052898,136052898],[136054815,136054815],[136056285,136056285],[136061560,136061560],[136063685,136063685],[136069060,136069060],[136072179,136072179],[136074233,136074233],[136080721,136080721],[136080822,136080822],[136088440,136088440],[136088643,136088643],[136092416,136092416],[136092869,136092869],[136094615,136094615],[136095505,136095505],[136095604,136095604],[136096766,136096766],[136097091,136097091],[136097394,136097394],[136100243,136100243],[136101823,136101823],[136106561,136106561],[136115501,136115501],[136122622,136122622],[136123014,136123014],[136123848,136123848],[136127100,136127100],[136127950,136127950],[136128630,136128630],[136129630,136129630],[136129791,136129791],[136131324,136131324],[136135383,136135383],[136135994,136135994],[136136224,136136224],[136136366,136136366],[136136440,136136440],[136138145,136138145],[136140568,136140568],[136145882,136145882],[136147948,136147948],[136148630,136148630],[136151485,136151485],[136152802,136152802],[136156753,136156753],[136157913,136157913],[136160902,136160902],[136165765,136165765],[136171649,136171649],[136173220,136173220],[136173735,136173735],[136174552,136174552],[136175692,136175692],[136176805,136176805],[136182484,136182484],[136183188,136183188],[136187252,136187252],[136187345,136187345],[136189475,136189475],[136197702,136197702],[136198435,136198435],[136202937,136202937],[136219999,136219999],[136221500,136221500],[136226626,136226626],[136228929,136228929],[136229598,136229598],[136238270,136238270],[136238346,136238346],[136240769,136240769],[136244171,136244171],[136249245,136249245],[136250285,136250285],[136254419,136254419],[136266241,136266241],[136267808,136267808],[136272074,136272074],[136277304,136277304],[136290607,136290607],[136290663,136290663],[136291310,136291310],[136296051,136296051],[136305392,136305392],[136306890,136306890],[136310803,136310803],[136324225,136324225],[136324465,136324465],[136327305,136327305],[136329618,136329618],[136333300,136333300],[136350089,136350089],[136354204,136354204],[136360455,136360455],[136368563,136368563],[136309239,136309239],[136322472,136322472],[136323787,136323787],[136323862,136323862],[136326765,136326765],[136329500,136329500],[136331657,136331657],[136345356,136345356],[136361560,136361560],[136398174,136398174],[136402117,136402117],[136403749,136403749],[136409073,136409073],[136410299,136410299],[136413359,136413359],[136416855,136416855],[136416941,136416941],[136418348,136418348],[136419961,136419961],[136420690,136420690],[136422171,136422171],[136428460,136428460],[136430866,136430866],[136432103,136432103],[136437507,136437507],[136439090,136439090],[136439517,136439517],[136444123,136444123],[136445526,136445526],[136445869,136445869],[136455600,136455600],[136456642,136456642],[136462441,136462441],[136470714,136470714],[136474098,136474098],[136414097,136414097],[136460694,136460694],[136524223,136524223],[136530615,136530615],[136737168,136737168],[136494186,136494186],[136495300,136495300],[136495619,136495619],[136499166,136499166],[136502792,136502792],[136503157,136503157],[136507039,136507039],[136511575,136511575],[136518103,136518103],[136521514,136521514],[136522675,136522675],[136522941,136522941],[136526981,136526981],[136535410,136535410],[136539122,136539122],[136544197,136544197],[136550109,136550109],[136551694,136551694],[136553188,136553188],[136553639,136553639],[136554800,136554800],[136557319,136557319],[136558157,136558157],[136569848,136569848],[136575199,136575199],[136576577,136576577],[136578536,136578536],[136580287,136580287],[136583192,136583192],[136586958,136586958],[136588478,136588478],[136589612,136589612],[136591178,136591178],[136591859,136591859],[136593760,136593760],[136594158,136594158],[136603276,136603276],[136603366,136603366],[136608231,136608231],[136609975,136609975],[136610598,136610598],[136611624,136611624],[136613780,136613780],[136614255,136614255],[136614813,136614813],[136617524,136617524],[136622216,136622216],[136625602,136625602],[136629911,136629911],[136630757,136630757],[136630989,136630989],[136631031,136631031],[136633771,136633771],[136636324,136636324],[136638216,136638216],[136640233,136640233],[136641882,136641882],[136643555,136643555],[136658345,136658345],[136670298,136670298],[136685228,136685228],[136696138,136696138],[136740900,136740900],[136765951,136765951],[136501840,136501840],[136505546,136505546],[136516748,136516748],[136522710,136522710],[136528004,136528004],[136539513,136539513],[136544752,136544752],[136546110,136546110],[136553529,136553529],[136555659,136555659],[136682274,136682274],[136691825,136691825],[136698098,136698098],[136721603,136721603],[136721995,136721995],[136755684,136755684],[136775898,136775898]],\"ys\":[[750,796],[750,796],[750,796],[750,796],[750,796],[750,796],[750,796],[750,796],[750,796],[750,796],[750,796],[750,796],[750,796],[750,796],[750,796],[750,796],[750,796],[750,796],[750,796],[750,796],[750,796],[750,796],[750,796],[750,796],[750,796],[750,796],[750,796],[750,796],[750,796],[750,796],[750,796],[750,796],[750,796],[750,796],[750,796],[750,796],[750,796],[750,796],[750,796],[750,796],[750,796],[750,796],[750,796],[750,796],[750,796],[750,796],[750,796],[750,796],[750,796],[750,796],[750,796],[750,796],[750,796],[750,796],[750,796],[750,796],[750,796],[750,796],[750,796],[750,796],[750,796],[750,796],[750,796],[750,796],[750,796],[750,796],[750,796],[750,796],[750,796],[750,796],[750,796],[750,796],[750,796],[750,796],[750,796],[750,796],[750,796],[750,796],[750,796],[750,796],[750,796],[750,796],[750,796],[750,796],[750,796],[750,796],[750,796],[750,796],[750,796],[750,796],[750,796],[750,796],[750,796],[750,796],[750,796],[750,796],[750,796],[750,796],[750,796],[750,796],[750,796],[750,796],[750,796],[750,796],[750,796],[750,796],[750,796],[750,796],[750,796],[750,796],[750,796],[750,796],[750,796],[750,796],[750,796],[750,796],[750,796],[150,180],[150,180],[150,180],[150,180],[150,180],[150,180],[150,180],[150,180],[150,180],[150,180],[150,180],[150,180],[150,180],[150,180],[150,180],[150,180],[150,180],[150,180],[150,180],[150,180],[150,180],[150,180],[150,180],[150,180],[150,180],[150,180],[150,180],[150,180],[150,180],[150,180],[150,180],[150,180],[150,180],[150,180],[150,180],[150,180],[150,180],[150,180],[150,180],[150,180],[150,180],[150,180],[150,180],[150,180],[150,180],[150,180],[150,180],[150,180],[150,180],[150,180],[150,180],[150,180],[150,180],[150,180],[150,180],[150,180],[150,180],[150,180],[150,180],[150,180],[150,180],[150,180],[150,180],[150,180],[150,180],[150,180],[150,180],[150,180],[150,180],[150,180],[150,180],[150,180],[150,180],[150,180],[150,180],[150,180],[150,180],[150,180],[150,180],[150,180],[150,180],[150,180],[150,180],[150,180],[150,180],[150,180],[150,180],[150,180],[150,180],[150,180],[150,180],[150,180],[150,180],[150,180],[150,180],[150,180],[150,180],[150,180],[150,180],[150,180],[550,593],[550,593],[550,593],[550,593],[550,593],[550,593],[550,593],[550,593],[550,593],[550,593],[550,593],[550,593],[550,593],[550,593],[550,593],[550,593],[550,593],[550,593],[550,593],[550,593],[550,593],[550,593],[550,593],[550,593],[550,593],[550,593],[550,593],[550,593],[550,593],[550,593],[550,593],[550,593],[550,593],[550,593],[550,593],[550,593],[550,593],[550,593],[550,593],[550,593],[550,593],[550,593],[550,593],[550,593],[550,593],[550,593],[550,593],[550,593],[550,593],[550,593],[550,593],[550,593],[550,593],[550,593],[550,593],[550,593],[550,593],[550,593],[550,593],[550,593],[550,593],[550,593],[50,79],[50,79],[50,79],[50,79],[50,79],[50,79],[50,79],[50,79],[50,79],[50,79],[50,79],[50,79],[50,79],[50,79],[50,79],[50,79],[50,79],[50,79],[50,79],[50,79],[50,79],[50,79],[50,79],[50,79],[50,79],[50,79],[50,79],[50,79],[50,79],[50,79],[50,79],[50,79],[50,79],[50,79],[50,79],[450,488],[450,488],[450,488],[450,488],[450,488],[450,488],[450,488],[450,488],[250,282],[250,282],[250,282],[250,282],[250,282],[250,282],[250,282],[250,282],[250,282],[250,282],[250,282],[250,282],[250,282],[250,282],[250,282],[250,282],[250,282],[250,282],[250,282],[250,282],[250,282],[250,282],[250,282],[250,282],[250,282],[250,282],[250,282],[250,282],[250,282],[250,282],[250,282],[250,282],[250,282],[250,282],[250,282],[250,282],[250,282],[250,282],[250,282],[250,282],[250,282],[250,282],[250,282],[250,282],[250,282],[250,282],[250,282],[250,282],[250,282],[250,282],[250,282],[250,282],[250,282],[250,282],[250,282],[250,282],[250,282],[250,282],[250,282],[250,282],[250,282],[250,282],[250,282],[250,282],[250,282],[250,282],[250,282],[350,386],[350,386],[350,386],[350,386],[350,386],[350,386],[350,386],[350,386],[350,386],[650,695],[650,695],[650,695],[650,695],[650,695],[650,695],[650,695],[650,695],[650,695],[650,695],[650,695],[650,695],[650,695],[650,695],[650,695],[650,695],[650,695],[650,695],[650,695],[650,695],[650,695],[650,695],[650,695],[650,695],[650,695],[650,695],[650,695],[650,695],[650,695],[650,695],[650,695],[650,695],[650,695],[650,695],[650,695],[650,695],[650,695],[650,695],[650,695],[650,695],[650,695],[650,695],[650,695],[650,695],[650,695],[650,695],[650,695],[650,695],[650,695],[650,695],[650,695],[650,695],[650,695],[650,695],[650,695],[650,695],[650,695],[650,695],[650,695],[650,695],[650,695],[650,695],[650,695],[650,695],[650,695],[650,695],[650,695],[650,695],[650,695],[650,695],[650,695],[650,695],[650,695],[650,695],[650,695],[650,695],[650,695],[650,695],[650,695],[650,695],[650,695],[650,695],[650,695],[650,695],[650,695],[650,695],[650,695],[650,695],[650,695],[650,695],[650,695],[650,695],[650,695],[650,695],[650,695],[650,695],[650,695],[650,695],[650,695],[650,695],[650,695],[650,695],[650,695],[650,695],[650,695],[650,695],[650,695],[650,695],[650,695],[650,695],[650,695],[650,695],[650,695],[650,695],[650,695],[650,695],[650,695],[650,695],[650,695],[650,695],[650,695],[650,695],[650,695],[550,590],[550,590],[550,590],[550,590],[550,590],[550,590],[550,590],[550,590],[550,590],[650,694],[650,694],[650,694],[650,694],[650,694],[650,694],[650,694],[650,694],[650,694],[650,694],[650,694],[650,694],[650,694],[650,694],[650,694],[650,694],[650,694],[650,694],[650,694],[650,694],[650,694],[650,694],[650,694],[650,694],[650,694],[650,694],[50,56],[50,56],[50,56],[50,56],[50,56],[750,795],[750,795],[750,795],[750,795],[750,795],[750,795],[750,795],[750,795],[750,795],[750,795],[750,795],[750,795],[750,795],[750,795],[750,795],[750,795],[750,795],[750,795],[750,795],[750,795],[750,795],[750,795],[750,795],[750,795],[750,795],[750,795],[750,795],[750,795],[750,795],[750,795],[750,795],[750,795],[750,795],[750,795],[750,795],[750,795],[750,795],[750,795],[750,795],[750,795],[750,795],[750,795],[750,795],[750,795],[750,795],[750,795],[750,795],[750,795],[750,795],[750,795],[750,795],[750,795],[750,795],[750,795],[750,795],[750,795],[750,795],[750,795],[750,795],[750,795],[750,795],[750,795],[750,795],[750,795],[850,898],[850,898],[850,898],[850,898],[850,898],[850,898],[850,898],[850,898],[850,898],[850,898],[850,897],[850,897],[850,897],[850,897],[850,897],[850,897],[850,897]]}},\"id\":\"63c33868-efd1-4501-9718-a3ce9c4a363b\",\"type\":\"ColumnDataSource\"},{\"attributes\":{\"level\":\"glyph\",\"plot\":{\"id\":\"f9071ae7-5e68-4408-9ce3-f1221cb6894a\",\"subtype\":\"Figure\",\"type\":\"Plot\"},\"source\":{\"id\":\"eb6008d6-4dde-4bf1-af74-f4148a62e2b1\",\"type\":\"ColumnDataSource\"},\"text\":{\"field\":\"vals\"},\"text_font_size\":{\"value\":\"9pt\"},\"text_font_style\":\"bold\",\"x\":{\"field\":\"x\"},\"y\":{\"field\":\"y\"}},\"id\":\"1e3bb726-c1fe-4028-892d-40a33ddd50c8\",\"type\":\"LabelSet\"},{\"attributes\":{\"formatter\":{\"id\":\"30a39bdf-4c2b-40b1-8814-512b72fe714e\",\"type\":\"BasicTickFormatter\"},\"plot\":{\"id\":\"f9071ae7-5e68-4408-9ce3-f1221cb6894a\",\"subtype\":\"Figure\",\"type\":\"Plot\"},\"ticker\":{\"id\":\"d129e575-9cde-4a79-bfe0-cbb107ded32f\",\"type\":\"BasicTicker\"}},\"id\":\"e9ddbee2-ccfc-443c-a32a-568864532fc7\",\"type\":\"LinearAxis\"},{\"attributes\":{},\"id\":\"f63c5a6f-3f88-4ca9-9d38-c429569530c6\",\"type\":\"BasicTicker\"},{\"attributes\":{\"plot\":{\"id\":\"f9071ae7-5e68-4408-9ce3-f1221cb6894a\",\"subtype\":\"Figure\",\"type\":\"Plot\"}},\"id\":\"c39240b1-4916-4eec-a3f1-4d6e604c8710\",\"type\":\"ResetTool\"},{\"attributes\":{\"dimension\":1,\"plot\":{\"id\":\"f9071ae7-5e68-4408-9ce3-f1221cb6894a\",\"subtype\":\"Figure\",\"type\":\"Plot\"},\"ticker\":{\"id\":\"f63c5a6f-3f88-4ca9-9d38-c429569530c6\",\"type\":\"BasicTicker\"}},\"id\":\"267d76bd-5a2c-4da6-b64a-445d54b31175\",\"type\":\"Grid\"},{\"attributes\":{\"bottom_units\":\"screen\",\"fill_alpha\":{\"value\":0.5},\"fill_color\":{\"value\":\"lightgrey\"},\"left_units\":\"screen\",\"level\":\"overlay\",\"line_alpha\":{\"value\":1.0},\"line_color\":{\"value\":\"black\"},\"line_dash\":[4,4],\"line_width\":{\"value\":2},\"plot\":null,\"render_mode\":\"css\",\"right_units\":\"screen\",\"top_units\":\"screen\"},\"id\":\"f45d6ccb-210f-468a-98ab-1b413fb24cd0\",\"type\":\"BoxAnnotation\"},{\"attributes\":{\"data_source\":{\"id\":\"cdf81853-388c-4d4f-aa27-8d5ccb2a5898\",\"type\":\"ColumnDataSource\"},\"glyph\":{\"id\":\"8e8d550b-6d98-4ff3-814f-da29a6994c02\",\"type\":\"Quad\"},\"hover_glyph\":null,\"nonselection_glyph\":{\"id\":\"22628add-127b-4428-86cb-5bc0d27e782a\",\"type\":\"Quad\"},\"selection_glyph\":null},\"id\":\"2299a6be-a61f-4481-9b9f-e61f8f48d948\",\"type\":\"GlyphRenderer\"},{\"attributes\":{\"callback\":null,\"column_names\":[\"right\",\"bottom\",\"top\",\"left\"],\"data\":{\"bottom\":[945,945,945,945,945,945,945],\"left\":[135809835,135957574,136289083,136499189,136545415,136597196,136664254],\"right\":[135928279,136288182,136482839,136542633,136594750,136634047,136743222],\"top\":[975,975,975,975,975,975,975]}},\"id\":\"bfe5af88-3a96-4891-b2b3-c4c70450bb79\",\"type\":\"ColumnDataSource\"},{\"attributes\":{},\"id\":\"d129e575-9cde-4a79-bfe0-cbb107ded32f\",\"type\":\"BasicTicker\"},{\"attributes\":{\"plot\":null,\"text\":null},\"id\":\"b502d66f-a178-4130-8c96-bb444fe45f7a\",\"type\":\"Title\"},{\"attributes\":{\"line_color\":{\"field\":\"line_color\"},\"xs\":{\"field\":\"xs\"},\"ys\":{\"field\":\"ys\"}},\"id\":\"7f0d693b-6539-420f-b517-b60766fe1a84\",\"type\":\"MultiLine\"},{\"attributes\":{\"overlay\":{\"id\":\"f45d6ccb-210f-468a-98ab-1b413fb24cd0\",\"type\":\"BoxAnnotation\"},\"plot\":{\"id\":\"f9071ae7-5e68-4408-9ce3-f1221cb6894a\",\"subtype\":\"Figure\",\"type\":\"Plot\"}},\"id\":\"2681a1d4-feca-4901-8a62-8e15d5c722d4\",\"type\":\"BoxZoomTool\"},{\"attributes\":{\"callback\":null,\"end\":1000},\"id\":\"54f9e89c-9679-4aa0-8203-a2ed3a6ae26f\",\"type\":\"Range1d\"},{\"attributes\":{\"callback\":null,\"column_names\":[\"y\",\"x\",\"vals\"],\"data\":{\"vals\":[\"RAB3GAP1\",\"ZRANB3\",\"R3HDM1\",\"UBXN4\",\"LCT\",\"MCM6\",\"DARS\"],\"x\":[135869057.0,136122878.0,136385961.0,136520911.0,136570082.5,136615621.5,136703738.0],\"y\":[960.0,960.0,960.0,960.0,960.0,960.0,960.0]}},\"id\":\"16aa9ca7-03d1-4635-9da2-409863fbaaea\",\"type\":\"ColumnDataSource\"},{\"attributes\":{\"plot\":{\"id\":\"f9071ae7-5e68-4408-9ce3-f1221cb6894a\",\"subtype\":\"Figure\",\"type\":\"Plot\"}},\"id\":\"746cd3d0-6bb8-4809-a782-83ce21b5962c\",\"type\":\"WheelZoomTool\"},{\"attributes\":{\"plot\":{\"id\":\"f9071ae7-5e68-4408-9ce3-f1221cb6894a\",\"subtype\":\"Figure\",\"type\":\"Plot\"}},\"id\":\"f59eaa5f-2f31-46b1-be3f-425b5cfee0dc\",\"type\":\"HelpTool\"},{\"attributes\":{\"formatter\":{\"id\":\"c62612ed-9117-4503-9414-ccc477d1238e\",\"type\":\"BasicTickFormatter\"},\"plot\":{\"id\":\"f9071ae7-5e68-4408-9ce3-f1221cb6894a\",\"subtype\":\"Figure\",\"type\":\"Plot\"},\"ticker\":{\"id\":\"f63c5a6f-3f88-4ca9-9d38-c429569530c6\",\"type\":\"BasicTicker\"},\"visible\":null},\"id\":\"4b7542e5-917e-45c4-a764-5db528214916\",\"type\":\"LinearAxis\"},{\"attributes\":{\"plot\":{\"id\":\"f9071ae7-5e68-4408-9ce3-f1221cb6894a\",\"subtype\":\"Figure\",\"type\":\"Plot\"}},\"id\":\"b5157930-d497-4a46-bd30-0bb994b063c7\",\"type\":\"SaveTool\"},{\"attributes\":{\"below\":[{\"id\":\"e9ddbee2-ccfc-443c-a32a-568864532fc7\",\"type\":\"LinearAxis\"}],\"left\":[{\"id\":\"4b7542e5-917e-45c4-a764-5db528214916\",\"type\":\"LinearAxis\"}],\"plot_height\":1000,\"plot_width\":900,\"renderers\":[{\"id\":\"e9ddbee2-ccfc-443c-a32a-568864532fc7\",\"type\":\"LinearAxis\"},{\"id\":\"f499b3fe-b852-41c9-9c32-c296858d1925\",\"type\":\"Grid\"},{\"id\":\"4b7542e5-917e-45c4-a764-5db528214916\",\"type\":\"LinearAxis\"},{\"id\":\"267d76bd-5a2c-4da6-b64a-445d54b31175\",\"type\":\"Grid\"},{\"id\":\"f45d6ccb-210f-468a-98ab-1b413fb24cd0\",\"type\":\"BoxAnnotation\"},{\"id\":\"2299a6be-a61f-4481-9b9f-e61f8f48d948\",\"type\":\"GlyphRenderer\"},{\"id\":\"97987ce5-014a-4b91-a863-8cf3308975da\",\"type\":\"GlyphRenderer\"},{\"id\":\"1e3bb726-c1fe-4028-892d-40a33ddd50c8\",\"type\":\"LabelSet\"},{\"id\":\"f43ba090-6d00-471c-b3ed-391b96e50f74\",\"type\":\"GlyphRenderer\"},{\"id\":\"723c6456-8f97-4032-ad86-96661cf0fe30\",\"type\":\"LabelSet\"}],\"title\":{\"id\":\"b502d66f-a178-4130-8c96-bb444fe45f7a\",\"type\":\"Title\"},\"tool_events\":{\"id\":\"47b10617-159a-476f-8cf0-54e4d20d2fc6\",\"type\":\"ToolEvents\"},\"toolbar\":{\"id\":\"eafb7311-968a-4be8-918d-354ca153e5a0\",\"type\":\"Toolbar\"},\"toolbar_location\":null,\"x_range\":{\"id\":\"2770a38e-3e61-434a-9aa1-ce79d2b0a74d\",\"type\":\"Range1d\"},\"y_range\":{\"id\":\"54f9e89c-9679-4aa0-8203-a2ed3a6ae26f\",\"type\":\"Range1d\"}},\"id\":\"f9071ae7-5e68-4408-9ce3-f1221cb6894a\",\"subtype\":\"Figure\",\"type\":\"Plot\"}],\"root_ids\":[\"f9071ae7-5e68-4408-9ce3-f1221cb6894a\"]},\"title\":\"Bokeh Application\",\"version\":\"0.12.0\"}};\n",
       "            var render_items = [{\"docid\":\"56bceb7c-9a96-4670-b27c-6e4dda99016d\",\"elementid\":\"fd169173-4f98-446e-ba96-e5d6a0a252c7\",\"modelid\":\"f9071ae7-5e68-4408-9ce3-f1221cb6894a\",\"notebook_comms_target\":\"eb62d237-e560-4524-8f00-b97c80a76847\"}];\n",
       "            \n",
       "            Bokeh.embed.embed_items(docs_json, render_items);\n",
       "        });\n",
       "      },\n",
       "      function(Bokeh) {\n",
       "      }\n",
       "    ];\n",
       "  \n",
       "    function run_inline_js() {\n",
       "      for (var i = 0; i < inline_js.length; i++) {\n",
       "        inline_js[i](window.Bokeh);\n",
       "      }\n",
       "    }\n",
       "  \n",
       "    if (window._bokeh_is_loading === 0) {\n",
       "      console.log(\"Bokeh: BokehJS loaded, going straight to plotting\");\n",
       "      run_inline_js();\n",
       "    } else {\n",
       "      load_libs(js_urls, function() {\n",
       "        console.log(\"Bokeh: BokehJS plotting callback run at\", now());\n",
       "        run_inline_js();\n",
       "      });\n",
       "    }\n",
       "  }(this));\n",
       "</script>"
      ]
     },
     "metadata": {},
     "output_type": "display_data"
    },
    {
     "data": {
      "text/html": [
       "<p><code>&lt;Bokeh Notebook handle for <strong>In[20]</strong>&gt;</code></p>"
      ],
      "text/plain": [
       "<bokeh.io._CommsHandle at 0x7f4364f53190>"
      ]
     },
     "execution_count": 20,
     "metadata": {},
     "output_type": "execute_result"
    }
   ],
   "source": [
    "di_5_16 = 353821\n",
    "plt_obj = dm.superset_yes_no([di_5_16], min_match=0.5)\n",
    "plt = plt_obj.do_plot()\n",
    "am_5_16 = plt_obj.plot_context.yes_allele_mask\n",
    "show(plt)"
   ]
  },
  {
   "cell_type": "code",
   "execution_count": 21,
   "metadata": {
    "collapsed": false
   },
   "outputs": [
    {
     "data": {
      "text/html": [
       "<table>\n",
       "<thead><tr><th style=\"text-align:center\">index</th><th style=\"text-align:center\">first</th><th style=\"text-align:center\">length</th><th style=\"text-align:center\">snps</th><th style=\"text-align:center\" colspan=2>alleles</th><th style=\"text-align:center\" colspan=2>matches</th><th style=\"text-align:center\" colspan=2>afr</th><th style=\"text-align:center\" colspan=2>afx</th><th style=\"text-align:center\" colspan=2>amr</th><th style=\"text-align:center\" colspan=2>eas</th><th style=\"text-align:center\" colspan=2>eur</th><th style=\"text-align:center\" colspan=2>sas</th><th style=\"text-align:center\" colspan=2>sax</th></tr></thead>\n",
       "<tr class=\"even\"><td style=\"text-align: right;\">353921</td><td style=\"text-align: right;\">136,501,840</td><td style=\"text-align: right;\">53,819</td><td style=\"text-align: right;\">10</td><td style=\"text-align: right;\">2206</td><td style=\"text-align: right;\">0.01</td><td style=\"text-align: right;\">16</td><td style=\"text-align: right;\">1.00</td><td style=\"text-align: right;\">12</td><td style=\"text-align: right;\">3.73</td><td style=\"text-align: right;\">4</td><td style=\"text-align: right;\">3.99</td><td style=\"text-align: right;\">0</td><td style=\"text-align: right;\">0.00</td><td style=\"text-align: right;\">0</td><td style=\"text-align: right;\">0.00</td><td style=\"text-align: right;\">0</td><td style=\"text-align: right;\">0.00</td><td style=\"text-align: right;\">0</td><td style=\"text-align: right;\">0.00</td><td style=\"text-align: right;\">0</td><td style=\"text-align: right;\">0.00</td></tr>\n",
       "<tr><td style=\"text-align: right;\">354170</td><td style=\"text-align: right;\">136,682,274</td><td style=\"text-align: right;\">93,624</td><td style=\"text-align: right;\">7</td><td style=\"text-align: right;\">1868</td><td style=\"text-align: right;\">0.01</td><td style=\"text-align: right;\">16</td><td style=\"text-align: right;\">1.00</td><td style=\"text-align: right;\">12</td><td style=\"text-align: right;\">3.73</td><td style=\"text-align: right;\">4</td><td style=\"text-align: right;\">3.99</td><td style=\"text-align: right;\">0</td><td style=\"text-align: right;\">0.00</td><td style=\"text-align: right;\">0</td><td style=\"text-align: right;\">0.00</td><td style=\"text-align: right;\">0</td><td style=\"text-align: right;\">0.00</td><td style=\"text-align: right;\">0</td><td style=\"text-align: right;\">0.00</td><td style=\"text-align: right;\">0</td><td style=\"text-align: right;\">0.00</td></tr>\n",
       "<tr class=\"even\"><td style=\"text-align: right;\">353244</td><td style=\"text-align: right;\">135,758,231</td><td style=\"text-align: right;\">618,284</td><td style=\"text-align: right;\">117</td><td style=\"text-align: right;\">1685</td><td style=\"text-align: right;\">0.01</td><td style=\"text-align: right;\">15</td><td style=\"text-align: right;\">0.94</td><td style=\"text-align: right;\">11</td><td style=\"text-align: right;\">3.64</td><td style=\"text-align: right;\">4</td><td style=\"text-align: right;\">4.25</td><td style=\"text-align: right;\">0</td><td style=\"text-align: right;\">0.00</td><td style=\"text-align: right;\">0</td><td style=\"text-align: right;\">0.00</td><td style=\"text-align: right;\">0</td><td style=\"text-align: right;\">0.00</td><td style=\"text-align: right;\">0</td><td style=\"text-align: right;\">0.00</td><td style=\"text-align: right;\">0</td><td style=\"text-align: right;\">0.00</td></tr>\n",
       "<tr><td style=\"text-align: right;\">353901</td><td style=\"text-align: right;\">136,494,186</td><td style=\"text-align: right;\">271,765</td><td style=\"text-align: right;\">64</td><td style=\"text-align: right;\">1575</td><td style=\"text-align: right;\">0.01</td><td style=\"text-align: right;\">16</td><td style=\"text-align: right;\">1.00</td><td style=\"text-align: right;\">12</td><td style=\"text-align: right;\">3.73</td><td style=\"text-align: right;\">4</td><td style=\"text-align: right;\">3.99</td><td style=\"text-align: right;\">0</td><td style=\"text-align: right;\">0.00</td><td style=\"text-align: right;\">0</td><td style=\"text-align: right;\">0.00</td><td style=\"text-align: right;\">0</td><td style=\"text-align: right;\">0.00</td><td style=\"text-align: right;\">0</td><td style=\"text-align: right;\">0.00</td><td style=\"text-align: right;\">0</td><td style=\"text-align: right;\">0.00</td></tr>\n",
       "<tr class=\"even\"><td style=\"text-align: right;\">353478</td><td style=\"text-align: right;\">135,933,921</td><td style=\"text-align: right;\">434,642</td><td style=\"text-align: right;\">123</td><td style=\"text-align: right;\">1561</td><td style=\"text-align: right;\">0.01</td><td style=\"text-align: right;\">16</td><td style=\"text-align: right;\">1.00</td><td style=\"text-align: right;\">12</td><td style=\"text-align: right;\">3.73</td><td style=\"text-align: right;\">4</td><td style=\"text-align: right;\">3.99</td><td style=\"text-align: right;\">0</td><td style=\"text-align: right;\">0.00</td><td style=\"text-align: right;\">0</td><td style=\"text-align: right;\">0.00</td><td style=\"text-align: right;\">0</td><td style=\"text-align: right;\">0.00</td><td style=\"text-align: right;\">0</td><td style=\"text-align: right;\">0.00</td><td style=\"text-align: right;\">0</td><td style=\"text-align: right;\">0.00</td></tr>\n",
       "<tr><td style=\"text-align: right;\">353797</td><td style=\"text-align: right;\">136,398,174</td><td style=\"text-align: right;\">75,924</td><td style=\"text-align: right;\">26</td><td style=\"text-align: right;\">1414</td><td style=\"text-align: right;\">0.01</td><td style=\"text-align: right;\">16</td><td style=\"text-align: right;\">1.00</td><td style=\"text-align: right;\">12</td><td style=\"text-align: right;\">3.73</td><td style=\"text-align: right;\">4</td><td style=\"text-align: right;\">3.99</td><td style=\"text-align: right;\">0</td><td style=\"text-align: right;\">0.00</td><td style=\"text-align: right;\">0</td><td style=\"text-align: right;\">0.00</td><td style=\"text-align: right;\">0</td><td style=\"text-align: right;\">0.00</td><td style=\"text-align: right;\">0</td><td style=\"text-align: right;\">0.00</td><td style=\"text-align: right;\">0</td><td style=\"text-align: right;\">0.00</td></tr>\n",
       "<tr class=\"even\"><td style=\"text-align: right;\">353269</td><td style=\"text-align: right;\">135,766,890</td><td style=\"text-align: right;\">509,095</td><td style=\"text-align: right;\">62</td><td style=\"text-align: right;\">1265</td><td style=\"text-align: right;\">0.01</td><td style=\"text-align: right;\">15</td><td style=\"text-align: right;\">0.94</td><td style=\"text-align: right;\">11</td><td style=\"text-align: right;\">3.64</td><td style=\"text-align: right;\">4</td><td style=\"text-align: right;\">4.25</td><td style=\"text-align: right;\">0</td><td style=\"text-align: right;\">0.00</td><td style=\"text-align: right;\">0</td><td style=\"text-align: right;\">0.00</td><td style=\"text-align: right;\">0</td><td style=\"text-align: right;\">0.00</td><td style=\"text-align: right;\">0</td><td style=\"text-align: right;\">0.00</td><td style=\"text-align: right;\">0</td><td style=\"text-align: right;\">0.00</td></tr>\n",
       "<tr><td style=\"text-align: right;\">353729</td><td style=\"text-align: right;\">136,309,239</td><td style=\"text-align: right;\">52,321</td><td style=\"text-align: right;\">9</td><td style=\"text-align: right;\">887</td><td style=\"text-align: right;\">0.02</td><td style=\"text-align: right;\">15</td><td style=\"text-align: right;\">0.94</td><td style=\"text-align: right;\">11</td><td style=\"text-align: right;\">3.64</td><td style=\"text-align: right;\">4</td><td style=\"text-align: right;\">4.25</td><td style=\"text-align: right;\">0</td><td style=\"text-align: right;\">0.00</td><td style=\"text-align: right;\">0</td><td style=\"text-align: right;\">0.00</td><td style=\"text-align: right;\">0</td><td style=\"text-align: right;\">0.00</td><td style=\"text-align: right;\">0</td><td style=\"text-align: right;\">0.00</td><td style=\"text-align: right;\">0</td><td style=\"text-align: right;\">0.00</td></tr>\n",
       "<tr class=\"even\"><td style=\"text-align: right;\">353312</td><td style=\"text-align: right;\">135,784,351</td><td style=\"text-align: right;\">117,869</td><td style=\"text-align: right;\">8</td><td style=\"text-align: right;\">718</td><td style=\"text-align: right;\">0.02</td><td style=\"text-align: right;\">14</td><td style=\"text-align: right;\">0.88</td><td style=\"text-align: right;\">10</td><td style=\"text-align: right;\">3.55</td><td style=\"text-align: right;\">4</td><td style=\"text-align: right;\">4.56</td><td style=\"text-align: right;\">0</td><td style=\"text-align: right;\">0.00</td><td style=\"text-align: right;\">0</td><td style=\"text-align: right;\">0.00</td><td style=\"text-align: right;\">0</td><td style=\"text-align: right;\">0.00</td><td style=\"text-align: right;\">0</td><td style=\"text-align: right;\">0.00</td><td style=\"text-align: right;\">0</td><td style=\"text-align: right;\">0.00</td></tr>\n",
       "<tr><td style=\"text-align: right;\">353349</td><td style=\"text-align: right;\">135,810,535</td><td style=\"text-align: right;\">87,488</td><td style=\"text-align: right;\">9</td><td style=\"text-align: right;\">545</td><td style=\"text-align: right;\">0.03</td><td style=\"text-align: right;\">14</td><td style=\"text-align: right;\">0.88</td><td style=\"text-align: right;\">10</td><td style=\"text-align: right;\">3.55</td><td style=\"text-align: right;\">4</td><td style=\"text-align: right;\">4.56</td><td style=\"text-align: right;\">0</td><td style=\"text-align: right;\">0.00</td><td style=\"text-align: right;\">0</td><td style=\"text-align: right;\">0.00</td><td style=\"text-align: right;\">0</td><td style=\"text-align: right;\">0.00</td><td style=\"text-align: right;\">0</td><td style=\"text-align: right;\">0.00</td><td style=\"text-align: right;\">0</td><td style=\"text-align: right;\">0.00</td></tr>\n",
       "<tr class=\"even\"><td style=\"text-align: right;\">353331</td><td style=\"text-align: right;\">135,795,222</td><td style=\"text-align: right;\">587,478</td><td style=\"text-align: right;\">67</td><td style=\"text-align: right;\">329</td><td style=\"text-align: right;\">0.04</td><td style=\"text-align: right;\">14</td><td style=\"text-align: right;\">0.88</td><td style=\"text-align: right;\">10</td><td style=\"text-align: right;\">3.55</td><td style=\"text-align: right;\">4</td><td style=\"text-align: right;\">4.56</td><td style=\"text-align: right;\">0</td><td style=\"text-align: right;\">0.00</td><td style=\"text-align: right;\">0</td><td style=\"text-align: right;\">0.00</td><td style=\"text-align: right;\">0</td><td style=\"text-align: right;\">0.00</td><td style=\"text-align: right;\">0</td><td style=\"text-align: right;\">0.00</td><td style=\"text-align: right;\">0</td><td style=\"text-align: right;\">0.00</td></tr>\n",
       "<tr><td style=\"text-align: right;\">353263</td><td style=\"text-align: right;\">135,764,184</td><td style=\"text-align: right;\">345,934</td><td style=\"text-align: right;\">100</td><td style=\"text-align: right;\">279</td><td style=\"text-align: right;\">0.05</td><td style=\"text-align: right;\">14</td><td style=\"text-align: right;\">0.88</td><td style=\"text-align: right;\">10</td><td style=\"text-align: right;\">3.55</td><td style=\"text-align: right;\">4</td><td style=\"text-align: right;\">4.56</td><td style=\"text-align: right;\">0</td><td style=\"text-align: right;\">0.00</td><td style=\"text-align: right;\">0</td><td style=\"text-align: right;\">0.00</td><td style=\"text-align: right;\">0</td><td style=\"text-align: right;\">0.00</td><td style=\"text-align: right;\">0</td><td style=\"text-align: right;\">0.00</td><td style=\"text-align: right;\">0</td><td style=\"text-align: right;\">0.00</td></tr>\n",
       "<tr class=\"even\"><td style=\"text-align: right;\">353281</td><td style=\"text-align: right;\">135,771,350</td><td style=\"text-align: right;\">569,467</td><td style=\"text-align: right;\">35</td><td style=\"text-align: right;\">240</td><td style=\"text-align: right;\">0.06</td><td style=\"text-align: right;\">14</td><td style=\"text-align: right;\">0.88</td><td style=\"text-align: right;\">10</td><td style=\"text-align: right;\">3.55</td><td style=\"text-align: right;\">4</td><td style=\"text-align: right;\">4.56</td><td style=\"text-align: right;\">0</td><td style=\"text-align: right;\">0.00</td><td style=\"text-align: right;\">0</td><td style=\"text-align: right;\">0.00</td><td style=\"text-align: right;\">0</td><td style=\"text-align: right;\">0.00</td><td style=\"text-align: right;\">0</td><td style=\"text-align: right;\">0.00</td><td style=\"text-align: right;\">0</td><td style=\"text-align: right;\">0.00</td></tr>\n",
       "<tr><td style=\"text-align: right;\">353821</td><td style=\"text-align: right;\">136,414,097</td><td style=\"text-align: right;\">323,071</td><td style=\"text-align: right;\">5</td><td style=\"text-align: right;\">16</td><td style=\"text-align: right;\">1.00</td><td style=\"text-align: right;\">16</td><td style=\"text-align: right;\">1.00</td><td style=\"text-align: right;\">12</td><td style=\"text-align: right;\">3.73</td><td style=\"text-align: right;\">4</td><td style=\"text-align: right;\">3.99</td><td style=\"text-align: right;\">0</td><td style=\"text-align: right;\">0.00</td><td style=\"text-align: right;\">0</td><td style=\"text-align: right;\">0.00</td><td style=\"text-align: right;\">0</td><td style=\"text-align: right;\">0.00</td><td style=\"text-align: right;\">0</td><td style=\"text-align: right;\">0.00</td><td style=\"text-align: right;\">0</td><td style=\"text-align: right;\">0.00</td></tr>\n",
       "</table>"
      ],
      "text/plain": [
       "<IPython.core.display.HTML object>"
      ]
     },
     "execution_count": 21,
     "metadata": {},
     "output_type": "execute_result"
    }
   ],
   "source": [
    "HTML(plt_obj.get_html())"
   ]
  },
  {
   "cell_type": "code",
   "execution_count": 22,
   "metadata": {
    "collapsed": false
   },
   "outputs": [
    {
     "data": {
      "text/plain": [
       "array([ 0,  0, 16, 16, 16, 16, 16, 16, 16, 16, 16, 16, 16, 16, 16, 16, 16,\n",
       "       16, 16, 16, 16, 16, 16, 16, 16, 16])"
      ]
     },
     "execution_count": 22,
     "metadata": {},
     "output_type": "execute_result"
    }
   ],
   "source": [
    "an.sa_26_1414.alleles_per_snp(am_5_16)"
   ]
  },
  {
   "cell_type": "code",
   "execution_count": 23,
   "metadata": {
    "collapsed": false
   },
   "outputs": [
    {
     "data": {
      "text/html": [
       "\n",
       "\n",
       "    <div class=\"bk-root\">\n",
       "        <div class=\"plotdiv\" id=\"e6a35090-d1ed-4852-a910-823c7b71f39d\"></div>\n",
       "    </div>\n",
       "<script type=\"text/javascript\">\n",
       "  \n",
       "  (function(global) {\n",
       "    function now() {\n",
       "      return new Date();\n",
       "    }\n",
       "  \n",
       "    if (typeof (window._bokeh_onload_callbacks) === \"undefined\") {\n",
       "      window._bokeh_onload_callbacks = [];\n",
       "    }\n",
       "  \n",
       "    function run_callbacks() {\n",
       "      window._bokeh_onload_callbacks.forEach(function(callback) { callback() });\n",
       "      delete window._bokeh_onload_callbacks\n",
       "      console.info(\"Bokeh: all callbacks have finished\");\n",
       "    }\n",
       "  \n",
       "    function load_libs(js_urls, callback) {\n",
       "      window._bokeh_onload_callbacks.push(callback);\n",
       "      if (window._bokeh_is_loading > 0) {\n",
       "        console.log(\"Bokeh: BokehJS is being loaded, scheduling callback at\", now());\n",
       "        return null;\n",
       "      }\n",
       "      if (js_urls == null || js_urls.length === 0) {\n",
       "        run_callbacks();\n",
       "        return null;\n",
       "      }\n",
       "      console.log(\"Bokeh: BokehJS not loaded, scheduling load and callback at\", now());\n",
       "      window._bokeh_is_loading = js_urls.length;\n",
       "      for (var i = 0; i < js_urls.length; i++) {\n",
       "        var url = js_urls[i];\n",
       "        var s = document.createElement('script');\n",
       "        s.src = url;\n",
       "        s.async = false;\n",
       "        s.onreadystatechange = s.onload = function() {\n",
       "          window._bokeh_is_loading--;\n",
       "          if (window._bokeh_is_loading === 0) {\n",
       "            console.log(\"Bokeh: all BokehJS libraries loaded\");\n",
       "            run_callbacks()\n",
       "          }\n",
       "        };\n",
       "        s.onerror = function() {\n",
       "          console.warn(\"failed to load library \" + url);\n",
       "        };\n",
       "        console.log(\"Bokeh: injecting script tag for BokehJS library: \", url);\n",
       "        document.getElementsByTagName(\"head\")[0].appendChild(s);\n",
       "      }\n",
       "    };var element = document.getElementById(\"e6a35090-d1ed-4852-a910-823c7b71f39d\");\n",
       "    if (element == null) {\n",
       "      console.log(\"Bokeh: ERROR: autoload.js configured with elementid 'e6a35090-d1ed-4852-a910-823c7b71f39d' but no matching script tag was found. \")\n",
       "      return false;\n",
       "    }\n",
       "  \n",
       "    var js_urls = [];\n",
       "  \n",
       "    var inline_js = [\n",
       "      function(Bokeh) {\n",
       "        Bokeh.$(function() {\n",
       "            var docs_json = {\"f44f8d69-9293-41c2-8d84-f619757691a7\":{\"roots\":{\"references\":[{\"attributes\":{},\"id\":\"93fcdd5c-2698-45b8-87a3-c73199bb58e5\",\"type\":\"BasicTicker\"},{\"attributes\":{},\"id\":\"d57181f9-94e5-490b-85e3-45af48363132\",\"type\":\"BasicTickFormatter\"},{\"attributes\":{\"plot\":{\"id\":\"70917212-5527-4085-afd1-0b166a76ee7a\",\"subtype\":\"Figure\",\"type\":\"Plot\"}},\"id\":\"8d59064b-50df-4426-8350-4d871aef8f0d\",\"type\":\"HelpTool\"},{\"attributes\":{\"plot\":{\"id\":\"70917212-5527-4085-afd1-0b166a76ee7a\",\"subtype\":\"Figure\",\"type\":\"Plot\"}},\"id\":\"e15d96a7-e844-44aa-b49e-0d54d534ea31\",\"type\":\"PanTool\"},{\"attributes\":{\"level\":\"glyph\",\"plot\":{\"id\":\"70917212-5527-4085-afd1-0b166a76ee7a\",\"subtype\":\"Figure\",\"type\":\"Plot\"},\"source\":{\"id\":\"56f2bede-af22-4226-a452-13f7d8822b13\",\"type\":\"ColumnDataSource\"},\"text\":{\"field\":\"vals\"},\"text_font_size\":{\"value\":\"9pt\"},\"text_font_style\":\"bold\",\"x\":{\"field\":\"x\"},\"y\":{\"field\":\"y\"}},\"id\":\"d0142cd1-9f59-4dc4-b5ba-aea5f037c7f7\",\"type\":\"LabelSet\"},{\"attributes\":{},\"id\":\"6b6aa505-1394-429d-906f-146e9e9e2dfa\",\"type\":\"BasicTicker\"},{\"attributes\":{\"line_alpha\":{\"value\":0.1},\"line_color\":{\"value\":\"#1f77b4\"},\"xs\":{\"field\":\"xs\"},\"ys\":{\"field\":\"ys\"}},\"id\":\"9d83beb4-eb7d-488a-963b-7e086372c2b8\",\"type\":\"MultiLine\"},{\"attributes\":{\"dimension\":1,\"plot\":{\"id\":\"70917212-5527-4085-afd1-0b166a76ee7a\",\"subtype\":\"Figure\",\"type\":\"Plot\"},\"ticker\":{\"id\":\"93fcdd5c-2698-45b8-87a3-c73199bb58e5\",\"type\":\"BasicTicker\"}},\"id\":\"43b86627-7185-4f34-a719-a0874ce6cd0b\",\"type\":\"Grid\"},{\"attributes\":{\"line_color\":{\"field\":\"line_color\"},\"xs\":{\"field\":\"xs\"},\"ys\":{\"field\":\"ys\"}},\"id\":\"04da8ce2-e067-4db7-8245-caa3a9544c28\",\"type\":\"MultiLine\"},{\"attributes\":{\"formatter\":{\"id\":\"d57181f9-94e5-490b-85e3-45af48363132\",\"type\":\"BasicTickFormatter\"},\"plot\":{\"id\":\"70917212-5527-4085-afd1-0b166a76ee7a\",\"subtype\":\"Figure\",\"type\":\"Plot\"},\"ticker\":{\"id\":\"6b6aa505-1394-429d-906f-146e9e9e2dfa\",\"type\":\"BasicTicker\"}},\"id\":\"89243cef-f849-4ecf-8c82-c8e5ae74828d\",\"type\":\"LinearAxis\"},{\"attributes\":{\"callback\":null,\"column_names\":[\"xs\",\"ys\",\"line_color\"],\"data\":{\"line_color\":[\"black\",\"black\",\"black\",\"black\",\"black\",\"black\",\"black\",\"black\",\"black\",\"black\",\"black\",\"black\",\"black\",\"black\",\"black\",\"black\",\"black\",\"black\",\"black\",\"black\",\"black\",\"black\",\"black\",\"black\",\"black\",\"black\",\"black\",\"black\",\"black\",\"black\",\"black\",\"black\",\"black\",\"black\",\"black\",\"black\",\"black\",\"black\",\"black\",\"black\",\"black\",\"black\",\"black\",\"black\",\"black\",\"black\",\"black\",\"black\",\"black\",\"black\",\"black\",\"black\",\"black\",\"black\",\"black\",\"black\",\"black\",\"black\",\"black\",\"black\",\"black\",\"black\",\"black\",\"black\",\"black\",\"black\",\"black\",\"black\",\"black\",\"black\",\"black\",\"black\",\"black\",\"black\",\"black\",\"black\",\"black\",\"black\",\"black\",\"black\",\"black\",\"black\",\"black\",\"black\",\"black\",\"black\",\"black\",\"black\",\"black\",\"black\",\"black\",\"black\",\"black\",\"black\",\"black\",\"black\",\"black\",\"black\",\"black\",\"black\",\"black\",\"black\",\"black\",\"black\",\"black\",\"black\",\"black\",\"black\",\"black\",\"black\",\"black\",\"black\",\"black\",\"black\",\"black\",\"black\",\"black\",\"black\",\"black\",\"black\",\"black\",\"black\",\"black\",\"black\",\"black\",\"black\",\"black\",\"black\",\"black\",\"black\",\"black\",\"black\",\"black\",\"black\",\"black\",\"black\",\"black\",\"black\",\"black\",\"black\",\"black\",\"black\",\"black\",\"black\",\"black\",\"black\",\"black\",\"black\",\"black\",\"black\",\"black\",\"black\",\"black\",\"black\",\"black\",\"black\",\"black\",\"black\",\"black\",\"black\",\"black\",\"black\",\"black\",\"black\",\"black\",\"black\",\"black\",\"black\",\"black\",\"black\",\"black\",\"black\",\"black\",\"black\",\"black\",\"black\",\"black\",\"black\",\"black\",\"black\",\"black\",\"black\",\"black\",\"black\",\"black\",\"black\",\"black\",\"black\",\"black\",\"black\",\"black\",\"black\",\"black\",\"black\",\"black\",\"black\",\"black\",\"black\",\"black\",\"black\",\"black\",\"black\",\"black\",\"black\",\"black\",\"black\",\"black\",\"black\",\"black\",\"black\",\"black\",\"black\",\"black\",\"black\",\"black\",\"black\",\"black\",\"black\",\"black\",\"black\",\"black\",\"black\",\"black\",\"black\",\"black\",\"black\",\"black\",\"black\",\"black\",\"black\",\"black\",\"black\",\"black\",\"black\",\"black\",\"black\",\"black\",\"black\",\"black\",\"black\",\"black\",\"black\",\"black\",\"black\",\"black\",\"black\",\"black\",\"black\",\"black\",\"black\",\"black\",\"black\",\"black\",\"black\",\"black\",\"black\",\"black\",\"black\",\"black\",\"black\",\"black\",\"black\",\"black\",\"black\",\"black\",\"black\",\"black\",\"black\",\"black\",\"black\",\"black\",\"black\",\"black\",\"black\",\"black\",\"black\",\"black\",\"black\",\"black\",\"black\",\"black\",\"black\",\"black\",\"black\",\"black\",\"black\",\"black\",\"black\",\"black\",\"black\",\"black\",\"black\",\"black\",\"black\",\"black\",\"black\",\"black\",\"black\",\"black\",\"black\",\"black\",\"black\",\"black\",\"black\",\"black\",\"black\",\"black\",\"black\",\"black\",\"black\",\"black\",\"black\",\"black\",\"black\",\"black\",\"black\",\"black\",\"black\",\"black\",\"black\",\"black\",\"black\",\"black\",\"black\",\"black\",\"black\",\"black\",\"black\",\"black\",\"black\",\"black\",\"black\",\"black\",\"black\",\"black\",\"black\",\"black\",\"black\",\"black\",\"black\",\"black\",\"black\",\"black\",\"black\",\"black\",\"black\",\"black\",\"black\",\"black\",\"black\",\"black\",\"black\",\"black\",\"black\",\"black\",\"black\",\"black\",\"black\",\"black\",\"black\",\"black\",\"black\",\"black\",\"black\",\"black\",\"black\",\"black\",\"black\",\"black\",\"black\",\"black\",\"black\",\"black\",\"black\",\"black\",\"black\",\"black\",\"black\",\"black\",\"black\",\"black\",\"black\",\"black\",\"black\",\"black\",\"black\",\"black\",\"black\",\"black\",\"black\",\"black\",\"black\",\"black\",\"black\",\"black\",\"black\",\"black\",\"black\",\"black\",\"black\",\"black\",\"black\",\"black\",\"black\",\"black\",\"black\",\"black\",\"black\",\"black\",\"black\",\"black\",\"black\",\"black\",\"black\",\"black\",\"black\",\"black\",\"black\",\"black\",\"black\",\"black\",\"black\",\"black\",\"black\",\"black\",\"black\",\"black\",\"black\",\"black\",\"black\",\"black\",\"black\",\"black\",\"black\",\"black\",\"black\",\"black\",\"black\",\"black\",\"black\",\"black\",\"black\",\"black\",\"black\",\"black\",\"black\",\"black\",\"black\",\"black\",\"black\",\"black\",\"black\",\"black\",\"black\",\"black\",\"black\",\"black\",\"black\",\"black\",\"black\",\"black\",\"black\",\"black\",\"black\",\"black\",\"black\",\"black\",\"black\",\"black\",\"black\",\"black\",\"black\",\"black\",\"black\",\"black\",\"black\",\"black\",\"black\",\"black\",\"black\",\"black\",\"black\",\"black\",\"black\",\"black\",\"black\",\"black\",\"black\",\"black\",\"black\",\"black\",\"black\",\"black\",\"black\",\"black\",\"black\",\"black\",\"black\",\"black\"],\"xs\":[[135757320,135757320],[135761078,135761078],[135761271,135761271],[135762344,135762344],[135762980,135762980],[135763280,135763280],[135768815,135768815],[135769093,135769093],[135769127,135769127],[135770940,135770940],[135770951,135770951],[135776728,135776728],[135777504,135777504],[135773319,135773319],[135782994,135782994],[135782995,135782995],[135782998,135782998],[135782999,135782999],[135801096,135801096],[135810349,135810349],[135810793,135810793],[135813701,135813701],[135818281,135818281],[135822991,135822991],[135823450,135823450],[135823834,135823834],[135824823,135824823],[135828466,135828466],[135829333,135829333],[135830819,135830819],[135840645,135840645],[135840827,135840827],[135846028,135846028],[135850786,135850786],[135850950,135850950],[135851737,135851737],[135851739,135851739],[135852332,135852332],[135853861,135853861],[135854068,135854068],[135854685,135854685],[135856038,135856038],[135862109,135862109],[135862401,135862401],[135863691,135863691],[135866027,135866027],[135867563,135867563],[135871434,135871434],[135876120,135876120],[135881988,135881988],[135891281,135891281],[135895394,135895394],[135896642,135896642],[135897756,135897756],[135912026,135912026],[135914126,135914126],[135916951,135916951],[135918112,135918112],[135924787,135924787],[135927729,135927729],[135930265,135930265],[135931222,135931222],[135948127,135948127],[135949701,135949701],[135957703,135957703],[135962001,135962001],[135968466,135968466],[135975199,135975199],[135977079,135977079],[135980808,135980808],[135981536,135981536],[135987191,135987191],[135989869,135989869],[135991527,135991527],[135992684,135992684],[135998422,135998422],[135998865,135998865],[136003411,136003411],[136008335,136008335],[136009537,136009537],[136010391,136010391],[136035323,136035323],[136037259,136037259],[136052308,136052308],[136054376,136054376],[136055105,136055105],[136058763,136058763],[136064157,136064157],[136074280,136074280],[136074561,136074561],[136078097,136078097],[136078353,136078353],[136079270,136079270],[136097431,136097431],[136104885,136104885],[136107710,136107710],[136113140,136113140],[136115065,136115065],[136117883,136117883],[136122092,136122092],[136123060,136123060],[136124958,136124958],[136129031,136129031],[136137878,136137878],[136138964,136138964],[136147793,136147793],[136148463,136148463],[136151303,136151303],[136153889,136153889],[136155242,136155242],[136158852,136158852],[136160609,136160609],[136160636,136160636],[136160958,136160958],[136161678,136161678],[136161990,136161990],[136163171,136163171],[136163485,136163485],[136163668,136163668],[136163967,136163967],[136165084,136165084],[136175947,136175947],[136191718,136191718],[136201571,136201571],[136203522,136203522],[136203641,136203641],[136204451,136204451],[136204593,136204593],[136204888,136204888],[136216623,136216623],[136219114,136219114],[136222602,136222602],[136228129,136228129],[136228291,136228291],[136229670,136229670],[136230061,136230061],[136232059,136232059],[136238344,136238344],[136241355,136241355],[136244591,136244591],[136246156,136246156],[136249895,136249895],[136250642,136250642],[136251546,136251546],[136255406,136255406],[136255837,136255837],[136256724,136256724],[136256777,136256777],[136263271,136263271],[136263320,136263320],[136274857,136274857],[136279222,136279222],[136279705,136279705],[136280288,136280288],[136290299,136290299],[136300341,136300341],[136300434,136300434],[136305610,136305610],[136305952,136305952],[136309180,136309180],[136309308,136309308],[136310715,136310715],[136330715,136330715],[136333105,136333105],[136337792,136337792],[136339080,136339080],[136339412,136339412],[136339826,136339826],[136340974,136340974],[136349862,136349862],[136353068,136353068],[136355227,136355227],[136356763,136356763],[136359056,136359056],[136360706,136360706],[136367510,136367510],[136368043,136368043],[136371507,136371507],[136375075,136375075],[136382614,136382614],[136402029,136402029],[136411311,136411311],[136439260,136439260],[136439470,136439470],[136442758,136442758],[136452302,136452302],[136456531,136456531],[136464549,136464549],[136474865,136474865],[136479740,136479740],[136490447,136490447],[136492077,136492077],[136494131,136494131],[135778464,135778464],[135821962,135821962],[135840758,135840758],[135852808,135852808],[135894761,135894761],[135901370,135901370],[136001333,136001333],[136021546,136021546],[136054404,136054404],[136054495,136054495],[136091209,136091209],[136104902,136104902],[136114632,136114632],[136134542,136134542],[136176598,136176598],[136180757,136180757],[136246916,136246916],[136251889,136251889],[136261397,136261397],[136278650,136278650],[136308610,136308610],[136372213,136372213],[136386964,136386964],[135867083,135867083],[135981719,135981719],[135995432,135995432],[136121703,136121703],[136134032,136134032],[136236787,136236787],[135933921,135933921],[135939824,135939824],[135941503,135941503],[135943900,135943900],[135945474,135945474],[135949715,135949715],[135956745,135956745],[135958693,135958693],[135967778,135967778],[135972093,135972093],[135973768,135973768],[135976498,135976498],[135978428,135978428],[135990031,135990031],[135992481,135992481],[135993925,135993925],[135994838,135994838],[136000253,136000253],[136003567,136003567],[136005477,136005477],[136005971,136005971],[136020977,136020977],[136027535,136027535],[136031588,136031588],[136032905,136032905],[136042480,136042480],[136043885,136043885],[136050471,136050471],[136052898,136052898],[136054815,136054815],[136056285,136056285],[136061560,136061560],[136063685,136063685],[136069060,136069060],[136072179,136072179],[136074233,136074233],[136080721,136080721],[136080822,136080822],[136088440,136088440],[136088643,136088643],[136092416,136092416],[136092869,136092869],[136094615,136094615],[136095505,136095505],[136095604,136095604],[136096766,136096766],[136097091,136097091],[136097394,136097394],[136100243,136100243],[136101823,136101823],[136106561,136106561],[136115501,136115501],[136122622,136122622],[136123014,136123014],[136123848,136123848],[136127100,136127100],[136127950,136127950],[136128630,136128630],[136129630,136129630],[136129791,136129791],[136131324,136131324],[136135383,136135383],[136135994,136135994],[136136224,136136224],[136136366,136136366],[136136440,136136440],[136138145,136138145],[136140568,136140568],[136145882,136145882],[136147948,136147948],[136148630,136148630],[136151485,136151485],[136152802,136152802],[136156753,136156753],[136157913,136157913],[136160902,136160902],[136165765,136165765],[136171649,136171649],[136173220,136173220],[136173735,136173735],[136174552,136174552],[136175692,136175692],[136176805,136176805],[136182484,136182484],[136183188,136183188],[136187252,136187252],[136187345,136187345],[136189475,136189475],[136197702,136197702],[136198435,136198435],[136202937,136202937],[136219999,136219999],[136221500,136221500],[136226626,136226626],[136228929,136228929],[136229598,136229598],[136238270,136238270],[136238346,136238346],[136240769,136240769],[136244171,136244171],[136249245,136249245],[136250285,136250285],[136254419,136254419],[136266241,136266241],[136267808,136267808],[136272074,136272074],[136277304,136277304],[136290607,136290607],[136290663,136290663],[136291310,136291310],[136296051,136296051],[136305392,136305392],[136306890,136306890],[136310803,136310803],[136324225,136324225],[136324465,136324465],[136327305,136327305],[136329618,136329618],[136333300,136333300],[136350089,136350089],[136354204,136354204],[136360455,136360455],[136368563,136368563],[136115507,136115507],[136133627,136133627],[136135820,136135820],[136145676,136145676],[136166014,136166014],[136173684,136173684],[136176031,136176031],[136214307,136214307],[136215590,136215590],[136219265,136219265],[136219831,136219831],[136289471,136289471],[136298739,136298739],[136302296,136302296],[136302897,136302897],[136348702,136348702],[136348964,136348964],[136358707,136358707],[136359608,136359608],[136360402,136360402],[136365624,136365624],[136366970,136366970],[136367871,136367871],[136368393,136368393],[136370701,136370701],[136378539,136378539],[136378895,136378895],[136385280,136385280],[136309239,136309239],[136322472,136322472],[136323787,136323787],[136323862,136323862],[136326765,136326765],[136329500,136329500],[136331657,136331657],[136345356,136345356],[136361560,136361560],[136364916,136364916],[136369497,136369497],[136369580,136369580],[136380846,136380846],[136387893,136387893],[136398174,136398174],[136402117,136402117],[136403749,136403749],[136409073,136409073],[136410299,136410299],[136413359,136413359],[136416855,136416855],[136416941,136416941],[136418348,136418348],[136419961,136419961],[136420690,136420690],[136422171,136422171],[136428460,136428460],[136430866,136430866],[136432103,136432103],[136437507,136437507],[136439090,136439090],[136439517,136439517],[136444123,136444123],[136445526,136445526],[136445869,136445869],[136455600,136455600],[136456642,136456642],[136462441,136462441],[136470714,136470714],[136474098,136474098],[136414097,136414097],[136460694,136460694],[136524223,136524223],[136530615,136530615],[136737168,136737168],[136494186,136494186],[136495300,136495300],[136495619,136495619],[136499166,136499166],[136502792,136502792],[136503157,136503157],[136507039,136507039],[136511575,136511575],[136518103,136518103],[136521514,136521514],[136522675,136522675],[136522941,136522941],[136526981,136526981],[136535410,136535410],[136539122,136539122],[136544197,136544197],[136550109,136550109],[136551694,136551694],[136553188,136553188],[136553639,136553639],[136554800,136554800],[136557319,136557319],[136558157,136558157],[136569848,136569848],[136575199,136575199],[136576577,136576577],[136578536,136578536],[136580287,136580287],[136583192,136583192],[136586958,136586958],[136588478,136588478],[136589612,136589612],[136591178,136591178],[136591859,136591859],[136593760,136593760],[136594158,136594158],[136603276,136603276],[136603366,136603366],[136608231,136608231],[136609975,136609975],[136610598,136610598],[136611624,136611624],[136613780,136613780],[136614255,136614255],[136614813,136614813],[136617524,136617524],[136622216,136622216],[136625602,136625602],[136629911,136629911],[136630757,136630757],[136630989,136630989],[136631031,136631031],[136633771,136633771],[136636324,136636324],[136638216,136638216],[136640233,136640233],[136641882,136641882],[136643555,136643555],[136658345,136658345],[136670298,136670298],[136685228,136685228],[136696138,136696138],[136740900,136740900],[136765951,136765951],[136501840,136501840],[136505546,136505546],[136516748,136516748],[136522710,136522710],[136528004,136528004],[136539513,136539513],[136544752,136544752],[136546110,136546110],[136553529,136553529],[136555659,136555659],[136682274,136682274],[136691825,136691825],[136698098,136698098],[136721603,136721603],[136721995,136721995],[136755684,136755684],[136775898,136775898]],\"ys\":[[650,696],[650,696],[650,696],[650,696],[650,696],[650,696],[650,696],[650,696],[650,696],[650,696],[650,696],[650,696],[650,696],[250,279],[250,279],[250,279],[250,279],[250,279],[250,279],[250,279],[250,279],[250,279],[250,279],[250,279],[250,279],[250,279],[250,279],[250,279],[250,279],[250,279],[250,279],[250,279],[250,279],[250,279],[250,279],[250,279],[250,279],[250,279],[250,279],[250,279],[250,279],[250,279],[250,279],[250,279],[250,279],[250,279],[250,279],[250,279],[250,279],[250,279],[250,279],[250,279],[250,279],[250,279],[250,279],[250,279],[250,279],[250,279],[250,279],[250,279],[250,279],[250,279],[250,279],[250,279],[250,279],[250,279],[250,279],[250,279],[250,279],[250,279],[250,279],[250,279],[250,279],[250,279],[250,279],[250,279],[250,279],[250,279],[250,279],[250,279],[250,279],[250,279],[250,279],[250,279],[250,279],[250,279],[250,279],[250,279],[250,279],[250,279],[250,279],[250,279],[250,279],[250,279],[250,279],[250,279],[250,279],[250,279],[250,279],[250,279],[250,279],[250,279],[250,279],[250,279],[250,279],[250,279],[250,279],[250,279],[250,279],[250,279],[250,279],[250,279],[250,279],[250,279],[250,279],[250,279],[250,279],[250,279],[250,279],[250,279],[250,279],[250,279],[250,279],[250,279],[250,279],[250,279],[250,279],[250,279],[250,279],[250,279],[250,279],[250,279],[250,279],[250,279],[250,279],[250,279],[250,279],[250,279],[250,279],[250,279],[250,279],[250,279],[250,279],[250,279],[250,279],[250,279],[250,279],[250,279],[250,279],[250,279],[250,279],[250,279],[250,279],[250,279],[250,279],[250,279],[250,279],[250,279],[250,279],[250,279],[250,279],[250,279],[250,279],[250,279],[250,279],[250,279],[250,279],[250,279],[250,279],[250,279],[250,279],[250,279],[250,279],[250,279],[250,279],[250,279],[250,279],[250,279],[250,279],[250,279],[250,279],[250,279],[250,279],[250,279],[250,279],[250,279],[250,279],[250,279],[250,279],[250,279],[250,279],[250,279],[250,279],[150,178],[150,178],[150,178],[150,178],[150,178],[150,178],[150,178],[150,178],[150,178],[150,178],[150,178],[150,178],[150,178],[150,178],[150,178],[150,178],[150,178],[150,178],[150,178],[150,178],[150,178],[150,178],[150,178],[50,70],[50,70],[50,70],[50,70],[50,70],[50,70],[650,695],[650,695],[650,695],[650,695],[650,695],[650,695],[650,695],[650,695],[650,695],[650,695],[650,695],[650,695],[650,695],[650,695],[650,695],[650,695],[650,695],[650,695],[650,695],[650,695],[650,695],[650,695],[650,695],[650,695],[650,695],[650,695],[650,695],[650,695],[650,695],[650,695],[650,695],[650,695],[650,695],[650,695],[650,695],[650,695],[650,695],[650,695],[650,695],[650,695],[650,695],[650,695],[650,695],[650,695],[650,695],[650,695],[650,695],[650,695],[650,695],[650,695],[650,695],[650,695],[650,695],[650,695],[650,695],[650,695],[650,695],[650,695],[650,695],[650,695],[650,695],[650,695],[650,695],[650,695],[650,695],[650,695],[650,695],[650,695],[650,695],[650,695],[650,695],[650,695],[650,695],[650,695],[650,695],[650,695],[650,695],[650,695],[650,695],[650,695],[650,695],[650,695],[650,695],[650,695],[650,695],[650,695],[650,695],[650,695],[650,695],[650,695],[650,695],[650,695],[650,695],[650,695],[650,695],[650,695],[650,695],[650,695],[650,695],[650,695],[650,695],[650,695],[650,695],[650,695],[650,695],[650,695],[650,695],[650,695],[650,695],[650,695],[650,695],[650,695],[650,695],[650,695],[650,695],[650,695],[650,695],[650,695],[650,695],[650,695],[650,695],[650,695],[650,695],[350,384],[350,384],[350,384],[350,384],[350,384],[350,384],[350,384],[350,384],[350,384],[350,384],[350,384],[350,384],[350,384],[350,384],[350,384],[350,384],[350,384],[350,384],[350,384],[350,384],[350,384],[350,384],[350,384],[350,384],[350,384],[350,384],[350,384],[350,384],[550,590],[550,590],[550,590],[550,590],[550,590],[550,590],[550,590],[550,590],[550,590],[450,487],[450,487],[450,487],[450,487],[450,487],[650,694],[650,694],[650,694],[650,694],[650,694],[650,694],[650,694],[650,694],[650,694],[650,694],[650,694],[650,694],[650,694],[650,694],[650,694],[650,694],[650,694],[650,694],[650,694],[650,694],[650,694],[650,694],[650,694],[650,694],[650,694],[650,694],[50,56],[50,56],[50,56],[50,56],[50,56],[650,695],[650,695],[650,695],[650,695],[650,695],[650,695],[650,695],[650,695],[650,695],[650,695],[650,695],[650,695],[650,695],[650,695],[650,695],[650,695],[650,695],[650,695],[650,695],[650,695],[650,695],[650,695],[650,695],[650,695],[650,695],[650,695],[650,695],[650,695],[650,695],[650,695],[650,695],[650,695],[650,695],[650,695],[650,695],[650,695],[650,695],[650,695],[650,695],[650,695],[650,695],[650,695],[650,695],[650,695],[650,695],[650,695],[650,695],[650,695],[650,695],[650,695],[650,695],[650,695],[650,695],[650,695],[650,695],[650,695],[650,695],[650,695],[650,695],[650,695],[650,695],[650,695],[650,695],[650,695],[750,798],[750,798],[750,798],[750,798],[750,798],[750,798],[750,798],[750,798],[750,798],[750,798],[750,797],[750,797],[750,797],[750,797],[750,797],[750,797],[750,797]]}},\"id\":\"545f2170-512d-41a2-b108-bf05e32fd7c6\",\"type\":\"ColumnDataSource\"},{\"attributes\":{\"formatter\":{\"id\":\"7b8ae15a-99d8-409d-af7f-05537ae9ef2b\",\"type\":\"BasicTickFormatter\"},\"plot\":{\"id\":\"70917212-5527-4085-afd1-0b166a76ee7a\",\"subtype\":\"Figure\",\"type\":\"Plot\"},\"ticker\":{\"id\":\"93fcdd5c-2698-45b8-87a3-c73199bb58e5\",\"type\":\"BasicTicker\"},\"visible\":null},\"id\":\"32e248ab-abd5-482f-83dd-09e361638173\",\"type\":\"LinearAxis\"},{\"attributes\":{\"plot\":{\"id\":\"70917212-5527-4085-afd1-0b166a76ee7a\",\"subtype\":\"Figure\",\"type\":\"Plot\"}},\"id\":\"8de9dae7-3e31-4b43-a462-72e46aab21e6\",\"type\":\"WheelZoomTool\"},{\"attributes\":{},\"id\":\"61c63bf4-19a9-49fa-b5af-512efcce2f22\",\"type\":\"ToolEvents\"},{\"attributes\":{\"callback\":null,\"column_names\":[\"y\",\"x\",\"vals\"],\"data\":{\"vals\":[\"RAB3GAP1\",\"ZRANB3\",\"R3HDM1\",\"UBXN4\",\"LCT\",\"MCM6\",\"DARS\"],\"x\":[135869057.0,136122878.0,136385961.0,136520911.0,136570082.5,136615621.5,136703738.0],\"y\":[860.0,860.0,860.0,860.0,860.0,860.0,860.0]}},\"id\":\"1ce45a26-0c42-453a-abc8-f6d62290ea06\",\"type\":\"ColumnDataSource\"},{\"attributes\":{\"data_source\":{\"id\":\"baa32e4c-6375-4b58-83e7-65979aa07a40\",\"type\":\"ColumnDataSource\"},\"glyph\":{\"id\":\"b2906bf0-f36f-4466-adbc-169744e629c0\",\"type\":\"Quad\"},\"hover_glyph\":null,\"nonselection_glyph\":{\"id\":\"e136aee7-9ca6-4291-82ad-b03bb68a043d\",\"type\":\"Quad\"},\"selection_glyph\":null},\"id\":\"58f89ffe-b338-4df7-90bd-60a9e1ef91ac\",\"type\":\"GlyphRenderer\"},{\"attributes\":{\"callback\":null,\"column_names\":[\"right\",\"bottom\",\"top\",\"left\",\"fill_color\"],\"data\":{\"bottom\":[650,250,150,50,650,350,550,450,650,50,650,750,750],\"fill_color\":[\"#808080\",\"#ff0000\",\"#ff0000\",\"#ff0000\",\"#c46161\",\"#ff0000\",\"#ff0000\",\"#ff0000\",\"#61c461\",\"#ff0000\",\"#61c461\",\"#808080\",\"#61c461\"],\"left\":[135757320,135773319,135778464,135867083,135933921,136115507,136309239,136364916,136398174,136414097,136494186,136501840,136682274],\"right\":[135777504,136494131,136386964,136236787,136368563,136385280,136361560,136387893,136474098,136737168,136765951,136555659,136775898],\"top\":[696,279,178,70,695,384,590,487,694,56,695,798,797]}},\"id\":\"c9c05580-0aab-40a9-b4f2-999e2829e72e\",\"type\":\"ColumnDataSource\"},{\"attributes\":{\"plot\":{\"id\":\"70917212-5527-4085-afd1-0b166a76ee7a\",\"subtype\":\"Figure\",\"type\":\"Plot\"},\"ticker\":{\"id\":\"6b6aa505-1394-429d-906f-146e9e9e2dfa\",\"type\":\"BasicTicker\"}},\"id\":\"add71197-6e1d-4e2b-8a03-64a221a81295\",\"type\":\"Grid\"},{\"attributes\":{\"bottom\":{\"field\":\"bottom\"},\"fill_alpha\":{\"value\":0.1},\"fill_color\":{\"value\":\"#1f77b4\"},\"left\":{\"field\":\"left\"},\"line_alpha\":{\"value\":0.1},\"line_color\":{\"value\":\"#1f77b4\"},\"right\":{\"field\":\"right\"},\"top\":{\"field\":\"top\"}},\"id\":\"baebcb22-b7e7-490b-9a88-f354272791d0\",\"type\":\"Quad\"},{\"attributes\":{\"plot\":null,\"text\":null},\"id\":\"e69f93a9-ff24-42b5-8b02-370ab508941c\",\"type\":\"Title\"},{\"attributes\":{\"plot\":{\"id\":\"70917212-5527-4085-afd1-0b166a76ee7a\",\"subtype\":\"Figure\",\"type\":\"Plot\"}},\"id\":\"5aa89803-82fb-4c52-adb6-d47a5dc151f6\",\"type\":\"SaveTool\"},{\"attributes\":{\"bottom\":{\"field\":\"bottom\"},\"fill_color\":{\"value\":\"white\"},\"left\":{\"field\":\"left\"},\"right\":{\"field\":\"right\"},\"top\":{\"field\":\"top\"}},\"id\":\"b2906bf0-f36f-4466-adbc-169744e629c0\",\"type\":\"Quad\"},{\"attributes\":{},\"id\":\"7b8ae15a-99d8-409d-af7f-05537ae9ef2b\",\"type\":\"BasicTickFormatter\"},{\"attributes\":{\"callback\":null,\"column_names\":[\"y\",\"x\",\"vals\"],\"data\":{\"vals\":[\"13_1696\",\"180_251\",\"23_226\",\"6_88\",\"123_1561\",\"28_434\",\"9_887\",\"5_588\",\"26_1414\",\"5_16\",\"64_1575\",\"10_2206\",\"7_1868\"],\"x\":[135757320,135773319,135778464,135867083,135933921,136115507,136309239,136364916,136398174,136414097,136494186,136501840,136682274],\"y\":[701.0,284.0,183.0,75.0,700.0,389.0,595.0,492.0,699.0,61.0,700.0,803.0,802.0]}},\"id\":\"56f2bede-af22-4226-a452-13f7d8822b13\",\"type\":\"ColumnDataSource\"},{\"attributes\":{\"level\":\"glyph\",\"plot\":{\"id\":\"70917212-5527-4085-afd1-0b166a76ee7a\",\"subtype\":\"Figure\",\"type\":\"Plot\"},\"source\":{\"id\":\"1ce45a26-0c42-453a-abc8-f6d62290ea06\",\"type\":\"ColumnDataSource\"},\"text\":{\"field\":\"vals\"},\"text_align\":\"center\",\"text_baseline\":\"middle\",\"text_font_size\":{\"value\":\"8pt\"},\"x\":{\"field\":\"x\"},\"y\":{\"field\":\"y\"}},\"id\":\"b8b819a9-efe1-425f-a4d9-a2fc028bda81\",\"type\":\"LabelSet\"},{\"attributes\":{\"data_source\":{\"id\":\"c9c05580-0aab-40a9-b4f2-999e2829e72e\",\"type\":\"ColumnDataSource\"},\"glyph\":{\"id\":\"103f4845-5f11-4171-807b-d711b087b9f8\",\"type\":\"Quad\"},\"hover_glyph\":null,\"nonselection_glyph\":{\"id\":\"baebcb22-b7e7-490b-9a88-f354272791d0\",\"type\":\"Quad\"},\"selection_glyph\":null},\"id\":\"3c4ea0b6-959f-41af-84ab-b771a4ec8425\",\"type\":\"GlyphRenderer\"},{\"attributes\":{\"callback\":null,\"end\":136786630,\"start\":135757320},\"id\":\"ba439fe4-f23f-4074-a798-44431d3847a6\",\"type\":\"Range1d\"},{\"attributes\":{\"overlay\":{\"id\":\"9af67627-cc2a-4337-b17d-065b3764f41e\",\"type\":\"BoxAnnotation\"},\"plot\":{\"id\":\"70917212-5527-4085-afd1-0b166a76ee7a\",\"subtype\":\"Figure\",\"type\":\"Plot\"}},\"id\":\"ae5978c5-e179-4620-918f-8ef39a665256\",\"type\":\"BoxZoomTool\"},{\"attributes\":{\"bottom\":{\"field\":\"bottom\"},\"fill_alpha\":{\"value\":0.1},\"fill_color\":{\"value\":\"#1f77b4\"},\"left\":{\"field\":\"left\"},\"line_alpha\":{\"value\":0.1},\"line_color\":{\"value\":\"#1f77b4\"},\"right\":{\"field\":\"right\"},\"top\":{\"field\":\"top\"}},\"id\":\"e136aee7-9ca6-4291-82ad-b03bb68a043d\",\"type\":\"Quad\"},{\"attributes\":{\"plot\":{\"id\":\"70917212-5527-4085-afd1-0b166a76ee7a\",\"subtype\":\"Figure\",\"type\":\"Plot\"}},\"id\":\"df3e4d0c-ae09-4984-b345-322a49e2eaeb\",\"type\":\"ResetTool\"},{\"attributes\":{\"below\":[{\"id\":\"89243cef-f849-4ecf-8c82-c8e5ae74828d\",\"type\":\"LinearAxis\"}],\"left\":[{\"id\":\"32e248ab-abd5-482f-83dd-09e361638173\",\"type\":\"LinearAxis\"}],\"plot_height\":900,\"plot_width\":900,\"renderers\":[{\"id\":\"89243cef-f849-4ecf-8c82-c8e5ae74828d\",\"type\":\"LinearAxis\"},{\"id\":\"add71197-6e1d-4e2b-8a03-64a221a81295\",\"type\":\"Grid\"},{\"id\":\"32e248ab-abd5-482f-83dd-09e361638173\",\"type\":\"LinearAxis\"},{\"id\":\"43b86627-7185-4f34-a719-a0874ce6cd0b\",\"type\":\"Grid\"},{\"id\":\"9af67627-cc2a-4337-b17d-065b3764f41e\",\"type\":\"BoxAnnotation\"},{\"id\":\"3c4ea0b6-959f-41af-84ab-b771a4ec8425\",\"type\":\"GlyphRenderer\"},{\"id\":\"631ca618-4fea-47a8-98e2-bc6cf4afb77e\",\"type\":\"GlyphRenderer\"},{\"id\":\"d0142cd1-9f59-4dc4-b5ba-aea5f037c7f7\",\"type\":\"LabelSet\"},{\"id\":\"58f89ffe-b338-4df7-90bd-60a9e1ef91ac\",\"type\":\"GlyphRenderer\"},{\"id\":\"b8b819a9-efe1-425f-a4d9-a2fc028bda81\",\"type\":\"LabelSet\"}],\"title\":{\"id\":\"e69f93a9-ff24-42b5-8b02-370ab508941c\",\"type\":\"Title\"},\"tool_events\":{\"id\":\"61c63bf4-19a9-49fa-b5af-512efcce2f22\",\"type\":\"ToolEvents\"},\"toolbar\":{\"id\":\"36b35f24-7b25-48b8-bc83-fabc6f67b1ba\",\"type\":\"Toolbar\"},\"toolbar_location\":null,\"x_range\":{\"id\":\"ba439fe4-f23f-4074-a798-44431d3847a6\",\"type\":\"Range1d\"},\"y_range\":{\"id\":\"e7192d4b-b77f-46cd-9bc3-2726f0647d43\",\"type\":\"Range1d\"}},\"id\":\"70917212-5527-4085-afd1-0b166a76ee7a\",\"subtype\":\"Figure\",\"type\":\"Plot\"},{\"attributes\":{\"active_drag\":\"auto\",\"active_scroll\":\"auto\",\"active_tap\":\"auto\",\"tools\":[{\"id\":\"e15d96a7-e844-44aa-b49e-0d54d534ea31\",\"type\":\"PanTool\"},{\"id\":\"8de9dae7-3e31-4b43-a462-72e46aab21e6\",\"type\":\"WheelZoomTool\"},{\"id\":\"ae5978c5-e179-4620-918f-8ef39a665256\",\"type\":\"BoxZoomTool\"},{\"id\":\"5aa89803-82fb-4c52-adb6-d47a5dc151f6\",\"type\":\"SaveTool\"},{\"id\":\"df3e4d0c-ae09-4984-b345-322a49e2eaeb\",\"type\":\"ResetTool\"},{\"id\":\"8d59064b-50df-4426-8350-4d871aef8f0d\",\"type\":\"HelpTool\"}]},\"id\":\"36b35f24-7b25-48b8-bc83-fabc6f67b1ba\",\"type\":\"Toolbar\"},{\"attributes\":{\"callback\":null,\"end\":900},\"id\":\"e7192d4b-b77f-46cd-9bc3-2726f0647d43\",\"type\":\"Range1d\"},{\"attributes\":{\"callback\":null,\"column_names\":[\"right\",\"bottom\",\"top\",\"left\"],\"data\":{\"bottom\":[845,845,845,845,845,845,845],\"left\":[135809835,135957574,136289083,136499189,136545415,136597196,136664254],\"right\":[135928279,136288182,136482839,136542633,136594750,136634047,136743222],\"top\":[875,875,875,875,875,875,875]}},\"id\":\"baa32e4c-6375-4b58-83e7-65979aa07a40\",\"type\":\"ColumnDataSource\"},{\"attributes\":{\"data_source\":{\"id\":\"545f2170-512d-41a2-b108-bf05e32fd7c6\",\"type\":\"ColumnDataSource\"},\"glyph\":{\"id\":\"04da8ce2-e067-4db7-8245-caa3a9544c28\",\"type\":\"MultiLine\"},\"hover_glyph\":null,\"nonselection_glyph\":{\"id\":\"9d83beb4-eb7d-488a-963b-7e086372c2b8\",\"type\":\"MultiLine\"},\"selection_glyph\":null},\"id\":\"631ca618-4fea-47a8-98e2-bc6cf4afb77e\",\"type\":\"GlyphRenderer\"},{\"attributes\":{\"bottom_units\":\"screen\",\"fill_alpha\":{\"value\":0.5},\"fill_color\":{\"value\":\"lightgrey\"},\"left_units\":\"screen\",\"level\":\"overlay\",\"line_alpha\":{\"value\":1.0},\"line_color\":{\"value\":\"black\"},\"line_dash\":[4,4],\"line_width\":{\"value\":2},\"plot\":null,\"render_mode\":\"css\",\"right_units\":\"screen\",\"top_units\":\"screen\"},\"id\":\"9af67627-cc2a-4337-b17d-065b3764f41e\",\"type\":\"BoxAnnotation\"},{\"attributes\":{\"bottom\":{\"field\":\"bottom\"},\"fill_color\":{\"field\":\"fill_color\"},\"left\":{\"field\":\"left\"},\"line_color\":{\"value\":null},\"right\":{\"field\":\"right\"},\"top\":{\"field\":\"top\"}},\"id\":\"103f4845-5f11-4171-807b-d711b087b9f8\",\"type\":\"Quad\"}],\"root_ids\":[\"70917212-5527-4085-afd1-0b166a76ee7a\"]},\"title\":\"Bokeh Application\",\"version\":\"0.12.0\"}};\n",
       "            var render_items = [{\"docid\":\"f44f8d69-9293-41c2-8d84-f619757691a7\",\"elementid\":\"e6a35090-d1ed-4852-a910-823c7b71f39d\",\"modelid\":\"70917212-5527-4085-afd1-0b166a76ee7a\",\"notebook_comms_target\":\"7bdf5055-6c65-43ac-94c2-34b185e07d52\"}];\n",
       "            \n",
       "            Bokeh.embed.embed_items(docs_json, render_items);\n",
       "        });\n",
       "      },\n",
       "      function(Bokeh) {\n",
       "      }\n",
       "    ];\n",
       "  \n",
       "    function run_inline_js() {\n",
       "      for (var i = 0; i < inline_js.length; i++) {\n",
       "        inline_js[i](window.Bokeh);\n",
       "      }\n",
       "    }\n",
       "  \n",
       "    if (window._bokeh_is_loading === 0) {\n",
       "      console.log(\"Bokeh: BokehJS loaded, going straight to plotting\");\n",
       "      run_inline_js();\n",
       "    } else {\n",
       "      load_libs(js_urls, function() {\n",
       "        console.log(\"Bokeh: BokehJS plotting callback run at\", now());\n",
       "        run_inline_js();\n",
       "      });\n",
       "    }\n",
       "  }(this));\n",
       "</script>"
      ]
     },
     "metadata": {},
     "output_type": "display_data"
    },
    {
     "data": {
      "text/html": [
       "<p><code>&lt;Bokeh Notebook handle for <strong>In[23]</strong>&gt;</code></p>"
      ],
      "text/plain": [
       "<bokeh.io._CommsHandle at 0x7f4364cc2750>"
      ]
     },
     "execution_count": 23,
     "metadata": {},
     "output_type": "execute_result"
    }
   ],
   "source": [
    "plt_obj = dm.superset_yes_no([di_5_16], [dm.di_117_1685], min_match=0.5)\n",
    "plt = plt_obj.do_plot()\n",
    "am_180_251_26_1414 = plt_obj.plot_context.yes_allele_mask\n",
    "show(plt)"
   ]
  },
  {
   "cell_type": "code",
   "execution_count": 24,
   "metadata": {
    "collapsed": false
   },
   "outputs": [
    {
     "data": {
      "text/html": [
       "<table>\n",
       "<thead><tr><th style=\"text-align:center\">index</th><th style=\"text-align:center\">first</th><th style=\"text-align:center\">length</th><th style=\"text-align:center\">snps</th><th style=\"text-align:center\" colspan=2>alleles</th><th style=\"text-align:center\" colspan=2>matches</th><th style=\"text-align:center\" colspan=2>afr</th><th style=\"text-align:center\" colspan=2>afx</th><th style=\"text-align:center\" colspan=2>amr</th><th style=\"text-align:center\" colspan=2>eas</th><th style=\"text-align:center\" colspan=2>eur</th><th style=\"text-align:center\" colspan=2>sas</th><th style=\"text-align:center\" colspan=2>sax</th></tr></thead>\n",
       "<tr class=\"even\"><td style=\"text-align: right;\">353921</td><td style=\"text-align: right;\">136,501,840</td><td style=\"text-align: right;\">53,819</td><td style=\"text-align: right;\">10</td><td style=\"text-align: right;\">2206</td><td style=\"text-align: right;\">0.00</td><td style=\"text-align: right;\">1</td><td style=\"text-align: right;\">1.00</td><td style=\"text-align: right;\">1</td><td style=\"text-align: right;\">6.63</td><td style=\"text-align: right;\">0</td><td style=\"text-align: right;\">0.00</td><td style=\"text-align: right;\">0</td><td style=\"text-align: right;\">0.00</td><td style=\"text-align: right;\">0</td><td style=\"text-align: right;\">0.00</td><td style=\"text-align: right;\">0</td><td style=\"text-align: right;\">0.00</td><td style=\"text-align: right;\">0</td><td style=\"text-align: right;\">0.00</td><td style=\"text-align: right;\">0</td><td style=\"text-align: right;\">0.00</td></tr>\n",
       "<tr><td style=\"text-align: right;\">354170</td><td style=\"text-align: right;\">136,682,274</td><td style=\"text-align: right;\">93,624</td><td style=\"text-align: right;\">7</td><td style=\"text-align: right;\">1868</td><td style=\"text-align: right;\">0.00</td><td style=\"text-align: right;\">1</td><td style=\"text-align: right;\">1.00</td><td style=\"text-align: right;\">1</td><td style=\"text-align: right;\">6.63</td><td style=\"text-align: right;\">0</td><td style=\"text-align: right;\">0.00</td><td style=\"text-align: right;\">0</td><td style=\"text-align: right;\">0.00</td><td style=\"text-align: right;\">0</td><td style=\"text-align: right;\">0.00</td><td style=\"text-align: right;\">0</td><td style=\"text-align: right;\">0.00</td><td style=\"text-align: right;\">0</td><td style=\"text-align: right;\">0.00</td><td style=\"text-align: right;\">0</td><td style=\"text-align: right;\">0.00</td></tr>\n",
       "<tr class=\"even\"><td style=\"text-align: right;\">353240</td><td style=\"text-align: right;\">135,757,320</td><td style=\"text-align: right;\">20,184</td><td style=\"text-align: right;\">13</td><td style=\"text-align: right;\">1696</td><td style=\"text-align: right;\">0.00</td><td style=\"text-align: right;\">1</td><td style=\"text-align: right;\">1.00</td><td style=\"text-align: right;\">1</td><td style=\"text-align: right;\">6.63</td><td style=\"text-align: right;\">0</td><td style=\"text-align: right;\">0.00</td><td style=\"text-align: right;\">0</td><td style=\"text-align: right;\">0.00</td><td style=\"text-align: right;\">0</td><td style=\"text-align: right;\">0.00</td><td style=\"text-align: right;\">0</td><td style=\"text-align: right;\">0.00</td><td style=\"text-align: right;\">0</td><td style=\"text-align: right;\">0.00</td><td style=\"text-align: right;\">0</td><td style=\"text-align: right;\">0.00</td></tr>\n",
       "<tr><td style=\"text-align: right;\">353901</td><td style=\"text-align: right;\">136,494,186</td><td style=\"text-align: right;\">271,765</td><td style=\"text-align: right;\">64</td><td style=\"text-align: right;\">1575</td><td style=\"text-align: right;\">0.00</td><td style=\"text-align: right;\">1</td><td style=\"text-align: right;\">1.00</td><td style=\"text-align: right;\">1</td><td style=\"text-align: right;\">6.63</td><td style=\"text-align: right;\">0</td><td style=\"text-align: right;\">0.00</td><td style=\"text-align: right;\">0</td><td style=\"text-align: right;\">0.00</td><td style=\"text-align: right;\">0</td><td style=\"text-align: right;\">0.00</td><td style=\"text-align: right;\">0</td><td style=\"text-align: right;\">0.00</td><td style=\"text-align: right;\">0</td><td style=\"text-align: right;\">0.00</td><td style=\"text-align: right;\">0</td><td style=\"text-align: right;\">0.00</td></tr>\n",
       "<tr class=\"even\"><td style=\"text-align: right;\">353478</td><td style=\"text-align: right;\">135,933,921</td><td style=\"text-align: right;\">434,642</td><td style=\"text-align: right;\">123</td><td style=\"text-align: right;\">1561</td><td style=\"text-align: right;\">0.00</td><td style=\"text-align: right;\">1</td><td style=\"text-align: right;\">1.00</td><td style=\"text-align: right;\">1</td><td style=\"text-align: right;\">6.63</td><td style=\"text-align: right;\">0</td><td style=\"text-align: right;\">0.00</td><td style=\"text-align: right;\">0</td><td style=\"text-align: right;\">0.00</td><td style=\"text-align: right;\">0</td><td style=\"text-align: right;\">0.00</td><td style=\"text-align: right;\">0</td><td style=\"text-align: right;\">0.00</td><td style=\"text-align: right;\">0</td><td style=\"text-align: right;\">0.00</td><td style=\"text-align: right;\">0</td><td style=\"text-align: right;\">0.00</td></tr>\n",
       "<tr><td style=\"text-align: right;\">353797</td><td style=\"text-align: right;\">136,398,174</td><td style=\"text-align: right;\">75,924</td><td style=\"text-align: right;\">26</td><td style=\"text-align: right;\">1414</td><td style=\"text-align: right;\">0.00</td><td style=\"text-align: right;\">1</td><td style=\"text-align: right;\">1.00</td><td style=\"text-align: right;\">1</td><td style=\"text-align: right;\">6.63</td><td style=\"text-align: right;\">0</td><td style=\"text-align: right;\">0.00</td><td style=\"text-align: right;\">0</td><td style=\"text-align: right;\">0.00</td><td style=\"text-align: right;\">0</td><td style=\"text-align: right;\">0.00</td><td style=\"text-align: right;\">0</td><td style=\"text-align: right;\">0.00</td><td style=\"text-align: right;\">0</td><td style=\"text-align: right;\">0.00</td><td style=\"text-align: right;\">0</td><td style=\"text-align: right;\">0.00</td></tr>\n",
       "<tr class=\"even\"><td style=\"text-align: right;\">353729</td><td style=\"text-align: right;\">136,309,239</td><td style=\"text-align: right;\">52,321</td><td style=\"text-align: right;\">9</td><td style=\"text-align: right;\">887</td><td style=\"text-align: right;\">0.00</td><td style=\"text-align: right;\">1</td><td style=\"text-align: right;\">1.00</td><td style=\"text-align: right;\">1</td><td style=\"text-align: right;\">6.63</td><td style=\"text-align: right;\">0</td><td style=\"text-align: right;\">0.00</td><td style=\"text-align: right;\">0</td><td style=\"text-align: right;\">0.00</td><td style=\"text-align: right;\">0</td><td style=\"text-align: right;\">0.00</td><td style=\"text-align: right;\">0</td><td style=\"text-align: right;\">0.00</td><td style=\"text-align: right;\">0</td><td style=\"text-align: right;\">0.00</td><td style=\"text-align: right;\">0</td><td style=\"text-align: right;\">0.00</td></tr>\n",
       "<tr><td style=\"text-align: right;\">353764</td><td style=\"text-align: right;\">136,364,916</td><td style=\"text-align: right;\">22,977</td><td style=\"text-align: right;\">5</td><td style=\"text-align: right;\">588</td><td style=\"text-align: right;\">0.00</td><td style=\"text-align: right;\">1</td><td style=\"text-align: right;\">1.00</td><td style=\"text-align: right;\">1</td><td style=\"text-align: right;\">6.63</td><td style=\"text-align: right;\">0</td><td style=\"text-align: right;\">0.00</td><td style=\"text-align: right;\">0</td><td style=\"text-align: right;\">0.00</td><td style=\"text-align: right;\">0</td><td style=\"text-align: right;\">0.00</td><td style=\"text-align: right;\">0</td><td style=\"text-align: right;\">0.00</td><td style=\"text-align: right;\">0</td><td style=\"text-align: right;\">0.00</td><td style=\"text-align: right;\">0</td><td style=\"text-align: right;\">0.00</td></tr>\n",
       "<tr class=\"even\"><td style=\"text-align: right;\">353614</td><td style=\"text-align: right;\">136,115,507</td><td style=\"text-align: right;\">269,773</td><td style=\"text-align: right;\">28</td><td style=\"text-align: right;\">434</td><td style=\"text-align: right;\">0.00</td><td style=\"text-align: right;\">1</td><td style=\"text-align: right;\">1.00</td><td style=\"text-align: right;\">1</td><td style=\"text-align: right;\">6.63</td><td style=\"text-align: right;\">0</td><td style=\"text-align: right;\">0.00</td><td style=\"text-align: right;\">0</td><td style=\"text-align: right;\">0.00</td><td style=\"text-align: right;\">0</td><td style=\"text-align: right;\">0.00</td><td style=\"text-align: right;\">0</td><td style=\"text-align: right;\">0.00</td><td style=\"text-align: right;\">0</td><td style=\"text-align: right;\">0.00</td><td style=\"text-align: right;\">0</td><td style=\"text-align: right;\">0.00</td></tr>\n",
       "<tr><td style=\"text-align: right;\">353288</td><td style=\"text-align: right;\">135,773,319</td><td style=\"text-align: right;\">720,812</td><td style=\"text-align: right;\">180</td><td style=\"text-align: right;\">251</td><td style=\"text-align: right;\">0.00</td><td style=\"text-align: right;\">1</td><td style=\"text-align: right;\">1.00</td><td style=\"text-align: right;\">1</td><td style=\"text-align: right;\">6.63</td><td style=\"text-align: right;\">0</td><td style=\"text-align: right;\">0.00</td><td style=\"text-align: right;\">0</td><td style=\"text-align: right;\">0.00</td><td style=\"text-align: right;\">0</td><td style=\"text-align: right;\">0.00</td><td style=\"text-align: right;\">0</td><td style=\"text-align: right;\">0.00</td><td style=\"text-align: right;\">0</td><td style=\"text-align: right;\">0.00</td><td style=\"text-align: right;\">0</td><td style=\"text-align: right;\">0.00</td></tr>\n",
       "<tr class=\"even\"><td style=\"text-align: right;\">353300</td><td style=\"text-align: right;\">135,778,464</td><td style=\"text-align: right;\">608,500</td><td style=\"text-align: right;\">23</td><td style=\"text-align: right;\">226</td><td style=\"text-align: right;\">0.00</td><td style=\"text-align: right;\">1</td><td style=\"text-align: right;\">1.00</td><td style=\"text-align: right;\">1</td><td style=\"text-align: right;\">6.63</td><td style=\"text-align: right;\">0</td><td style=\"text-align: right;\">0.00</td><td style=\"text-align: right;\">0</td><td style=\"text-align: right;\">0.00</td><td style=\"text-align: right;\">0</td><td style=\"text-align: right;\">0.00</td><td style=\"text-align: right;\">0</td><td style=\"text-align: right;\">0.00</td><td style=\"text-align: right;\">0</td><td style=\"text-align: right;\">0.00</td><td style=\"text-align: right;\">0</td><td style=\"text-align: right;\">0.00</td></tr>\n",
       "<tr><td style=\"text-align: right;\">353415</td><td style=\"text-align: right;\">135,867,083</td><td style=\"text-align: right;\">369,704</td><td style=\"text-align: right;\">6</td><td style=\"text-align: right;\">88</td><td style=\"text-align: right;\">0.01</td><td style=\"text-align: right;\">1</td><td style=\"text-align: right;\">1.00</td><td style=\"text-align: right;\">1</td><td style=\"text-align: right;\">6.63</td><td style=\"text-align: right;\">0</td><td style=\"text-align: right;\">0.00</td><td style=\"text-align: right;\">0</td><td style=\"text-align: right;\">0.00</td><td style=\"text-align: right;\">0</td><td style=\"text-align: right;\">0.00</td><td style=\"text-align: right;\">0</td><td style=\"text-align: right;\">0.00</td><td style=\"text-align: right;\">0</td><td style=\"text-align: right;\">0.00</td><td style=\"text-align: right;\">0</td><td style=\"text-align: right;\">0.00</td></tr>\n",
       "<tr class=\"even\"><td style=\"text-align: right;\">353821</td><td style=\"text-align: right;\">136,414,097</td><td style=\"text-align: right;\">323,071</td><td style=\"text-align: right;\">5</td><td style=\"text-align: right;\">16</td><td style=\"text-align: right;\">0.06</td><td style=\"text-align: right;\">1</td><td style=\"text-align: right;\">1.00</td><td style=\"text-align: right;\">1</td><td style=\"text-align: right;\">6.63</td><td style=\"text-align: right;\">0</td><td style=\"text-align: right;\">0.00</td><td style=\"text-align: right;\">0</td><td style=\"text-align: right;\">0.00</td><td style=\"text-align: right;\">0</td><td style=\"text-align: right;\">0.00</td><td style=\"text-align: right;\">0</td><td style=\"text-align: right;\">0.00</td><td style=\"text-align: right;\">0</td><td style=\"text-align: right;\">0.00</td><td style=\"text-align: right;\">0</td><td style=\"text-align: right;\">0.00</td></tr>\n",
       "</table>"
      ],
      "text/plain": [
       "<IPython.core.display.HTML object>"
      ]
     },
     "execution_count": 24,
     "metadata": {},
     "output_type": "execute_result"
    }
   ],
   "source": [
    "HTML(plt_obj.get_html())"
   ]
  },
  {
   "cell_type": "code",
   "execution_count": 25,
   "metadata": {
    "collapsed": false
   },
   "outputs": [
    {
     "data": {
      "text/plain": [
       "array([1, 1, 1, 1, 1, 1, 1, 1, 1, 1, 1, 1, 1, 1, 1, 1, 1, 1, 1, 1, 1, 1, 1,\n",
       "       1, 1, 1, 1, 1, 1, 1, 1, 1, 1, 1, 1, 1, 1, 1, 1, 1, 1, 1, 1, 1, 1, 1,\n",
       "       1, 1, 1, 1, 1, 1, 1, 1, 1, 1, 1, 1, 1, 1, 1, 1, 1, 1, 1, 1, 1, 1, 1,\n",
       "       1, 1, 1, 1, 1, 1, 1, 1, 1, 1, 1, 1, 1, 1, 1, 1, 1, 1, 1, 1, 1, 1, 1,\n",
       "       1, 1, 1, 1, 1, 1, 1, 1, 1, 1, 1, 1, 1, 1, 1, 1, 1, 1, 1, 1, 1, 1, 1,\n",
       "       1, 1, 1, 1, 1, 1, 1, 1, 1, 1, 1, 1, 1, 1, 1, 1, 1, 1, 1, 1, 1, 1, 1,\n",
       "       1, 1, 1, 1, 1, 1, 1, 1, 1, 1, 1, 1, 1, 1, 1, 1, 1, 1, 1, 1, 1, 1, 1,\n",
       "       1, 1, 1, 1, 1, 1, 0, 0, 0, 0, 0, 0, 0, 0, 0, 0, 0, 0, 0])"
      ]
     },
     "execution_count": 25,
     "metadata": {},
     "output_type": "execute_result"
    }
   ],
   "source": [
    "sa_180_251 = snp_anal.series_anal_cls(dm.di_180_251, sm.series_data)\n",
    "sa_180_251.alleles_per_snp(am_180_251_26_1414)"
   ]
  },
  {
   "cell_type": "code",
   "execution_count": 26,
   "metadata": {
    "collapsed": false
   },
   "outputs": [
    {
     "data": {
      "text/plain": [
       "array([0, 0, 1, 1, 1, 1, 1, 1, 1, 1, 1, 1, 1, 1, 1, 1, 1, 1, 1, 1, 1, 1, 1,\n",
       "       1, 1, 1])"
      ]
     },
     "execution_count": 26,
     "metadata": {},
     "output_type": "execute_result"
    }
   ],
   "source": [
    "an.sa_26_1414.alleles_per_snp(am_180_251_26_1414)"
   ]
  },
  {
   "cell_type": "markdown",
   "metadata": {},
   "source": [
    "<div style=\"width:700px\">\n",
    "<p>\n",
    "This plot shows the most common series for the 20 samples that express\n",
    "26_1414 and 13_1696.  All 20 also express 10_2206, 64_1575, and 7_1868.\n",
    "The next serveral plots show the varied associations of other series with\n",
    "this common set.\n",
    "</div>"
   ]
  },
  {
   "cell_type": "code",
   "execution_count": 27,
   "metadata": {
    "collapsed": false
   },
   "outputs": [
    {
     "data": {
      "text/html": [
       "\n",
       "\n",
       "    <div class=\"bk-root\">\n",
       "        <div class=\"plotdiv\" id=\"0134a37e-b1cb-466b-a010-de4dd902c7b7\"></div>\n",
       "    </div>\n",
       "<script type=\"text/javascript\">\n",
       "  \n",
       "  (function(global) {\n",
       "    function now() {\n",
       "      return new Date();\n",
       "    }\n",
       "  \n",
       "    if (typeof (window._bokeh_onload_callbacks) === \"undefined\") {\n",
       "      window._bokeh_onload_callbacks = [];\n",
       "    }\n",
       "  \n",
       "    function run_callbacks() {\n",
       "      window._bokeh_onload_callbacks.forEach(function(callback) { callback() });\n",
       "      delete window._bokeh_onload_callbacks\n",
       "      console.info(\"Bokeh: all callbacks have finished\");\n",
       "    }\n",
       "  \n",
       "    function load_libs(js_urls, callback) {\n",
       "      window._bokeh_onload_callbacks.push(callback);\n",
       "      if (window._bokeh_is_loading > 0) {\n",
       "        console.log(\"Bokeh: BokehJS is being loaded, scheduling callback at\", now());\n",
       "        return null;\n",
       "      }\n",
       "      if (js_urls == null || js_urls.length === 0) {\n",
       "        run_callbacks();\n",
       "        return null;\n",
       "      }\n",
       "      console.log(\"Bokeh: BokehJS not loaded, scheduling load and callback at\", now());\n",
       "      window._bokeh_is_loading = js_urls.length;\n",
       "      for (var i = 0; i < js_urls.length; i++) {\n",
       "        var url = js_urls[i];\n",
       "        var s = document.createElement('script');\n",
       "        s.src = url;\n",
       "        s.async = false;\n",
       "        s.onreadystatechange = s.onload = function() {\n",
       "          window._bokeh_is_loading--;\n",
       "          if (window._bokeh_is_loading === 0) {\n",
       "            console.log(\"Bokeh: all BokehJS libraries loaded\");\n",
       "            run_callbacks()\n",
       "          }\n",
       "        };\n",
       "        s.onerror = function() {\n",
       "          console.warn(\"failed to load library \" + url);\n",
       "        };\n",
       "        console.log(\"Bokeh: injecting script tag for BokehJS library: \", url);\n",
       "        document.getElementsByTagName(\"head\")[0].appendChild(s);\n",
       "      }\n",
       "    };var element = document.getElementById(\"0134a37e-b1cb-466b-a010-de4dd902c7b7\");\n",
       "    if (element == null) {\n",
       "      console.log(\"Bokeh: ERROR: autoload.js configured with elementid '0134a37e-b1cb-466b-a010-de4dd902c7b7' but no matching script tag was found. \")\n",
       "      return false;\n",
       "    }\n",
       "  \n",
       "    var js_urls = [];\n",
       "  \n",
       "    var inline_js = [\n",
       "      function(Bokeh) {\n",
       "        Bokeh.$(function() {\n",
       "            var docs_json = {\"eea7becb-e141-4a09-ba83-4a736d5da2de\":{\"roots\":{\"references\":[{\"attributes\":{\"plot\":{\"id\":\"94b98b40-8566-4850-a756-e5e21d1c7883\",\"subtype\":\"Figure\",\"type\":\"Plot\"}},\"id\":\"0bca4223-8bff-41c1-a562-2768d315e630\",\"type\":\"HelpTool\"},{\"attributes\":{},\"id\":\"8e54e319-b473-4681-a5ff-995f5aea58b8\",\"type\":\"BasicTickFormatter\"},{\"attributes\":{\"bottom\":{\"field\":\"bottom\"},\"fill_color\":{\"field\":\"fill_color\"},\"left\":{\"field\":\"left\"},\"line_color\":{\"value\":null},\"right\":{\"field\":\"right\"},\"top\":{\"field\":\"top\"}},\"id\":\"8e21a60f-5dae-4353-91c8-7c7a906c4bbe\",\"type\":\"Quad\"},{\"attributes\":{\"formatter\":{\"id\":\"8e54e319-b473-4681-a5ff-995f5aea58b8\",\"type\":\"BasicTickFormatter\"},\"plot\":{\"id\":\"94b98b40-8566-4850-a756-e5e21d1c7883\",\"subtype\":\"Figure\",\"type\":\"Plot\"},\"ticker\":{\"id\":\"92797b70-696a-4610-8062-b7d5590b7b8e\",\"type\":\"BasicTicker\"}},\"id\":\"47024ce1-320f-42d0-8bf5-f12ba726b742\",\"type\":\"LinearAxis\"},{\"attributes\":{\"callback\":null,\"column_names\":[\"y\",\"x\",\"vals\"],\"data\":{\"vals\":[\"RAB3GAP1\",\"ZRANB3\",\"R3HDM1\",\"UBXN4\",\"LCT\",\"MCM6\",\"DARS\"],\"x\":[135869057.0,136122878.0,136385961.0,136520911.0,136570082.5,136615621.5,136703738.0],\"y\":[260.0,260.0,260.0,260.0,260.0,260.0,260.0]}},\"id\":\"9f8dad11-1512-440a-aeb9-7f4ff6f3f448\",\"type\":\"ColumnDataSource\"},{\"attributes\":{\"active_drag\":\"auto\",\"active_scroll\":\"auto\",\"active_tap\":\"auto\",\"tools\":[{\"id\":\"45284781-7321-4389-aea6-3739ac298fda\",\"type\":\"PanTool\"},{\"id\":\"48713f1f-d054-4460-a4b8-90b61d0de813\",\"type\":\"WheelZoomTool\"},{\"id\":\"af612d90-8e6c-4da0-839a-a4c3f585636e\",\"type\":\"BoxZoomTool\"},{\"id\":\"a8a9f99e-4ebe-4d54-9ee0-e13c24046476\",\"type\":\"SaveTool\"},{\"id\":\"839a23cc-ea86-4651-8798-4649398397c7\",\"type\":\"ResetTool\"},{\"id\":\"0bca4223-8bff-41c1-a562-2768d315e630\",\"type\":\"HelpTool\"}]},\"id\":\"f516844b-4bea-4575-9376-cd42e7483910\",\"type\":\"Toolbar\"},{\"attributes\":{\"plot\":{\"id\":\"94b98b40-8566-4850-a756-e5e21d1c7883\",\"subtype\":\"Figure\",\"type\":\"Plot\"}},\"id\":\"a8a9f99e-4ebe-4d54-9ee0-e13c24046476\",\"type\":\"SaveTool\"},{\"attributes\":{\"dimension\":1,\"plot\":{\"id\":\"94b98b40-8566-4850-a756-e5e21d1c7883\",\"subtype\":\"Figure\",\"type\":\"Plot\"},\"ticker\":{\"id\":\"882e7ad3-2f60-4df6-ba64-5de571cdb0d5\",\"type\":\"BasicTicker\"}},\"id\":\"4b286e2a-cc6a-4e47-a748-e0d18f9d4613\",\"type\":\"Grid\"},{\"attributes\":{\"bottom_units\":\"screen\",\"fill_alpha\":{\"value\":0.5},\"fill_color\":{\"value\":\"lightgrey\"},\"left_units\":\"screen\",\"level\":\"overlay\",\"line_alpha\":{\"value\":1.0},\"line_color\":{\"value\":\"black\"},\"line_dash\":[4,4],\"line_width\":{\"value\":2},\"plot\":null,\"render_mode\":\"css\",\"right_units\":\"screen\",\"top_units\":\"screen\"},\"id\":\"47511a06-2604-41bf-a62a-b0d7090808fa\",\"type\":\"BoxAnnotation\"},{\"attributes\":{\"callback\":null,\"column_names\":[\"y\",\"x\",\"vals\"],\"data\":{\"vals\":[\"13_1696\",\"26_1414\",\"64_1575\",\"10_2206\",\"7_1868\"],\"x\":[135757320,136398174,136494186,136501840,136682274],\"y\":[101.0,99.0,100.0,203.0,202.0]}},\"id\":\"15e391bb-aab3-4fba-b628-8d02eae3eb20\",\"type\":\"ColumnDataSource\"},{\"attributes\":{},\"id\":\"882e7ad3-2f60-4df6-ba64-5de571cdb0d5\",\"type\":\"BasicTicker\"},{\"attributes\":{\"callback\":null,\"column_names\":[\"xs\",\"ys\",\"line_color\"],\"data\":{\"line_color\":[\"black\",\"black\",\"black\",\"black\",\"black\",\"black\",\"black\",\"black\",\"black\",\"black\",\"black\",\"black\",\"black\",\"black\",\"black\",\"black\",\"black\",\"black\",\"black\",\"black\",\"black\",\"black\",\"black\",\"black\",\"black\",\"black\",\"black\",\"black\",\"black\",\"black\",\"black\",\"black\",\"black\",\"black\",\"black\",\"black\",\"black\",\"black\",\"black\",\"black\",\"black\",\"black\",\"black\",\"black\",\"black\",\"black\",\"black\",\"black\",\"black\",\"black\",\"black\",\"black\",\"black\",\"black\",\"black\",\"black\",\"black\",\"black\",\"black\",\"black\",\"black\",\"black\",\"black\",\"black\",\"black\",\"black\",\"black\",\"black\",\"black\",\"black\",\"black\",\"black\",\"black\",\"black\",\"black\",\"black\",\"black\",\"black\",\"black\",\"black\",\"black\",\"black\",\"black\",\"black\",\"black\",\"black\",\"black\",\"black\",\"black\",\"black\",\"black\",\"black\",\"black\",\"black\",\"black\",\"black\",\"black\",\"black\",\"black\",\"black\",\"black\",\"black\",\"black\",\"black\",\"black\",\"black\",\"black\",\"black\",\"black\",\"black\",\"black\",\"black\",\"black\",\"black\",\"black\",\"black\",\"black\",\"black\",\"black\",\"black\"],\"xs\":[[135757320,135757320],[135761078,135761078],[135761271,135761271],[135762344,135762344],[135762980,135762980],[135763280,135763280],[135768815,135768815],[135769093,135769093],[135769127,135769127],[135770940,135770940],[135770951,135770951],[135776728,135776728],[135777504,135777504],[136398174,136398174],[136402117,136402117],[136403749,136403749],[136409073,136409073],[136410299,136410299],[136413359,136413359],[136416855,136416855],[136416941,136416941],[136418348,136418348],[136419961,136419961],[136420690,136420690],[136422171,136422171],[136428460,136428460],[136430866,136430866],[136432103,136432103],[136437507,136437507],[136439090,136439090],[136439517,136439517],[136444123,136444123],[136445526,136445526],[136445869,136445869],[136455600,136455600],[136456642,136456642],[136462441,136462441],[136470714,136470714],[136474098,136474098],[136494186,136494186],[136495300,136495300],[136495619,136495619],[136499166,136499166],[136502792,136502792],[136503157,136503157],[136507039,136507039],[136511575,136511575],[136518103,136518103],[136521514,136521514],[136522675,136522675],[136522941,136522941],[136526981,136526981],[136535410,136535410],[136539122,136539122],[136544197,136544197],[136550109,136550109],[136551694,136551694],[136553188,136553188],[136553639,136553639],[136554800,136554800],[136557319,136557319],[136558157,136558157],[136569848,136569848],[136575199,136575199],[136576577,136576577],[136578536,136578536],[136580287,136580287],[136583192,136583192],[136586958,136586958],[136588478,136588478],[136589612,136589612],[136591178,136591178],[136591859,136591859],[136593760,136593760],[136594158,136594158],[136603276,136603276],[136603366,136603366],[136608231,136608231],[136609975,136609975],[136610598,136610598],[136611624,136611624],[136613780,136613780],[136614255,136614255],[136614813,136614813],[136617524,136617524],[136622216,136622216],[136625602,136625602],[136629911,136629911],[136630757,136630757],[136630989,136630989],[136631031,136631031],[136633771,136633771],[136636324,136636324],[136638216,136638216],[136640233,136640233],[136641882,136641882],[136643555,136643555],[136658345,136658345],[136670298,136670298],[136685228,136685228],[136696138,136696138],[136740900,136740900],[136765951,136765951],[136501840,136501840],[136505546,136505546],[136516748,136516748],[136522710,136522710],[136528004,136528004],[136539513,136539513],[136544752,136544752],[136546110,136546110],[136553529,136553529],[136555659,136555659],[136682274,136682274],[136691825,136691825],[136698098,136698098],[136721603,136721603],[136721995,136721995],[136755684,136755684],[136775898,136775898]],\"ys\":[[50,96],[50,96],[50,96],[50,96],[50,96],[50,96],[50,96],[50,96],[50,96],[50,96],[50,96],[50,96],[50,96],[50,94],[50,94],[50,94],[50,94],[50,94],[50,94],[50,94],[50,94],[50,94],[50,94],[50,94],[50,94],[50,94],[50,94],[50,94],[50,94],[50,94],[50,94],[50,94],[50,94],[50,94],[50,94],[50,94],[50,94],[50,94],[50,94],[50,95],[50,95],[50,95],[50,95],[50,95],[50,95],[50,95],[50,95],[50,95],[50,95],[50,95],[50,95],[50,95],[50,95],[50,95],[50,95],[50,95],[50,95],[50,95],[50,95],[50,95],[50,95],[50,95],[50,95],[50,95],[50,95],[50,95],[50,95],[50,95],[50,95],[50,95],[50,95],[50,95],[50,95],[50,95],[50,95],[50,95],[50,95],[50,95],[50,95],[50,95],[50,95],[50,95],[50,95],[50,95],[50,95],[50,95],[50,95],[50,95],[50,95],[50,95],[50,95],[50,95],[50,95],[50,95],[50,95],[50,95],[50,95],[50,95],[50,95],[50,95],[50,95],[50,95],[50,95],[150,198],[150,198],[150,198],[150,198],[150,198],[150,198],[150,198],[150,198],[150,198],[150,198],[150,197],[150,197],[150,197],[150,197],[150,197],[150,197],[150,197]]}},\"id\":\"abefde07-73bf-4bc3-9488-cc9ab293732e\",\"type\":\"ColumnDataSource\"},{\"attributes\":{\"data_source\":{\"id\":\"071a2cfc-4556-4465-84aa-5b9edea9adfe\",\"type\":\"ColumnDataSource\"},\"glyph\":{\"id\":\"8e21a60f-5dae-4353-91c8-7c7a906c4bbe\",\"type\":\"Quad\"},\"hover_glyph\":null,\"nonselection_glyph\":{\"id\":\"d4b0510e-8a67-46d8-aba1-de0ac09dba88\",\"type\":\"Quad\"},\"selection_glyph\":null},\"id\":\"d4b57544-0762-42e8-8dc5-6f7829982092\",\"type\":\"GlyphRenderer\"},{\"attributes\":{\"plot\":{\"id\":\"94b98b40-8566-4850-a756-e5e21d1c7883\",\"subtype\":\"Figure\",\"type\":\"Plot\"}},\"id\":\"48713f1f-d054-4460-a4b8-90b61d0de813\",\"type\":\"WheelZoomTool\"},{\"attributes\":{\"bottom\":{\"field\":\"bottom\"},\"fill_alpha\":{\"value\":0.1},\"fill_color\":{\"value\":\"#1f77b4\"},\"left\":{\"field\":\"left\"},\"line_alpha\":{\"value\":0.1},\"line_color\":{\"value\":\"#1f77b4\"},\"right\":{\"field\":\"right\"},\"top\":{\"field\":\"top\"}},\"id\":\"d4b0510e-8a67-46d8-aba1-de0ac09dba88\",\"type\":\"Quad\"},{\"attributes\":{\"level\":\"glyph\",\"plot\":{\"id\":\"94b98b40-8566-4850-a756-e5e21d1c7883\",\"subtype\":\"Figure\",\"type\":\"Plot\"},\"source\":{\"id\":\"15e391bb-aab3-4fba-b628-8d02eae3eb20\",\"type\":\"ColumnDataSource\"},\"text\":{\"field\":\"vals\"},\"text_font_size\":{\"value\":\"9pt\"},\"text_font_style\":\"bold\",\"x\":{\"field\":\"x\"},\"y\":{\"field\":\"y\"}},\"id\":\"569267bb-80b6-47ef-b2d1-4b3d6163150c\",\"type\":\"LabelSet\"},{\"attributes\":{\"callback\":null,\"end\":300},\"id\":\"d2af638c-29a7-4118-9c15-31d77802f81a\",\"type\":\"Range1d\"},{\"attributes\":{},\"id\":\"92797b70-696a-4610-8062-b7d5590b7b8e\",\"type\":\"BasicTicker\"},{\"attributes\":{\"level\":\"glyph\",\"plot\":{\"id\":\"94b98b40-8566-4850-a756-e5e21d1c7883\",\"subtype\":\"Figure\",\"type\":\"Plot\"},\"source\":{\"id\":\"9f8dad11-1512-440a-aeb9-7f4ff6f3f448\",\"type\":\"ColumnDataSource\"},\"text\":{\"field\":\"vals\"},\"text_align\":\"center\",\"text_baseline\":\"middle\",\"text_font_size\":{\"value\":\"8pt\"},\"x\":{\"field\":\"x\"},\"y\":{\"field\":\"y\"}},\"id\":\"75484d75-a790-4557-b6ad-ebe71a3d5f77\",\"type\":\"LabelSet\"},{\"attributes\":{\"plot\":{\"id\":\"94b98b40-8566-4850-a756-e5e21d1c7883\",\"subtype\":\"Figure\",\"type\":\"Plot\"},\"ticker\":{\"id\":\"92797b70-696a-4610-8062-b7d5590b7b8e\",\"type\":\"BasicTicker\"}},\"id\":\"958649f2-1781-4510-aeaf-1850d562c727\",\"type\":\"Grid\"},{\"attributes\":{\"line_alpha\":{\"value\":0.1},\"line_color\":{\"value\":\"#1f77b4\"},\"xs\":{\"field\":\"xs\"},\"ys\":{\"field\":\"ys\"}},\"id\":\"590fd17b-da13-4c0c-85fe-15089a6e5158\",\"type\":\"MultiLine\"},{\"attributes\":{\"line_color\":{\"field\":\"line_color\"},\"xs\":{\"field\":\"xs\"},\"ys\":{\"field\":\"ys\"}},\"id\":\"7f43bea1-16d4-43f2-9675-6c7d19339ec2\",\"type\":\"MultiLine\"},{\"attributes\":{\"bottom\":{\"field\":\"bottom\"},\"fill_alpha\":{\"value\":0.1},\"fill_color\":{\"value\":\"#1f77b4\"},\"left\":{\"field\":\"left\"},\"line_alpha\":{\"value\":0.1},\"line_color\":{\"value\":\"#1f77b4\"},\"right\":{\"field\":\"right\"},\"top\":{\"field\":\"top\"}},\"id\":\"f813fdf6-ef0f-49f4-908f-82d4149a5464\",\"type\":\"Quad\"},{\"attributes\":{\"plot\":null,\"text\":null},\"id\":\"3778a00d-622d-43e1-bc0e-8f31db6f200b\",\"type\":\"Title\"},{\"attributes\":{\"plot\":{\"id\":\"94b98b40-8566-4850-a756-e5e21d1c7883\",\"subtype\":\"Figure\",\"type\":\"Plot\"}},\"id\":\"45284781-7321-4389-aea6-3739ac298fda\",\"type\":\"PanTool\"},{\"attributes\":{\"callback\":null,\"end\":136786630,\"start\":135757320},\"id\":\"77b7e492-e36f-45df-9b34-abbe9f9be4ca\",\"type\":\"Range1d\"},{\"attributes\":{\"data_source\":{\"id\":\"abefde07-73bf-4bc3-9488-cc9ab293732e\",\"type\":\"ColumnDataSource\"},\"glyph\":{\"id\":\"7f43bea1-16d4-43f2-9675-6c7d19339ec2\",\"type\":\"MultiLine\"},\"hover_glyph\":null,\"nonselection_glyph\":{\"id\":\"590fd17b-da13-4c0c-85fe-15089a6e5158\",\"type\":\"MultiLine\"},\"selection_glyph\":null},\"id\":\"4cdd8f6d-1dd5-4965-acc2-8229e4c28e2d\",\"type\":\"GlyphRenderer\"},{\"attributes\":{\"below\":[{\"id\":\"47024ce1-320f-42d0-8bf5-f12ba726b742\",\"type\":\"LinearAxis\"}],\"left\":[{\"id\":\"16ce3aad-00ff-4848-9b96-38a03332193b\",\"type\":\"LinearAxis\"}],\"plot_height\":300,\"plot_width\":900,\"renderers\":[{\"id\":\"47024ce1-320f-42d0-8bf5-f12ba726b742\",\"type\":\"LinearAxis\"},{\"id\":\"958649f2-1781-4510-aeaf-1850d562c727\",\"type\":\"Grid\"},{\"id\":\"16ce3aad-00ff-4848-9b96-38a03332193b\",\"type\":\"LinearAxis\"},{\"id\":\"4b286e2a-cc6a-4e47-a748-e0d18f9d4613\",\"type\":\"Grid\"},{\"id\":\"47511a06-2604-41bf-a62a-b0d7090808fa\",\"type\":\"BoxAnnotation\"},{\"id\":\"d4b57544-0762-42e8-8dc5-6f7829982092\",\"type\":\"GlyphRenderer\"},{\"id\":\"4cdd8f6d-1dd5-4965-acc2-8229e4c28e2d\",\"type\":\"GlyphRenderer\"},{\"id\":\"569267bb-80b6-47ef-b2d1-4b3d6163150c\",\"type\":\"LabelSet\"},{\"id\":\"fbc29148-fd01-4689-8653-6ac1f6e2fe17\",\"type\":\"GlyphRenderer\"},{\"id\":\"75484d75-a790-4557-b6ad-ebe71a3d5f77\",\"type\":\"LabelSet\"}],\"title\":{\"id\":\"3778a00d-622d-43e1-bc0e-8f31db6f200b\",\"type\":\"Title\"},\"tool_events\":{\"id\":\"3f36453b-c6f4-4303-b5bc-e8e1ab6cda11\",\"type\":\"ToolEvents\"},\"toolbar\":{\"id\":\"f516844b-4bea-4575-9376-cd42e7483910\",\"type\":\"Toolbar\"},\"toolbar_location\":null,\"x_range\":{\"id\":\"77b7e492-e36f-45df-9b34-abbe9f9be4ca\",\"type\":\"Range1d\"},\"y_range\":{\"id\":\"d2af638c-29a7-4118-9c15-31d77802f81a\",\"type\":\"Range1d\"}},\"id\":\"94b98b40-8566-4850-a756-e5e21d1c7883\",\"subtype\":\"Figure\",\"type\":\"Plot\"},{\"attributes\":{\"plot\":{\"id\":\"94b98b40-8566-4850-a756-e5e21d1c7883\",\"subtype\":\"Figure\",\"type\":\"Plot\"}},\"id\":\"839a23cc-ea86-4651-8798-4649398397c7\",\"type\":\"ResetTool\"},{\"attributes\":{\"callback\":null,\"column_names\":[\"right\",\"bottom\",\"top\",\"left\",\"fill_color\"],\"data\":{\"bottom\":[50,50,50,150,150],\"fill_color\":[\"#808080\",\"#61c461\",\"#61c461\",\"#808080\",\"#61c461\"],\"left\":[135757320,136398174,136494186,136501840,136682274],\"right\":[135777504,136474098,136765951,136555659,136775898],\"top\":[96,94,95,198,197]}},\"id\":\"071a2cfc-4556-4465-84aa-5b9edea9adfe\",\"type\":\"ColumnDataSource\"},{\"attributes\":{\"formatter\":{\"id\":\"06a294f6-ae86-438a-b7a8-7234d916cf3a\",\"type\":\"BasicTickFormatter\"},\"plot\":{\"id\":\"94b98b40-8566-4850-a756-e5e21d1c7883\",\"subtype\":\"Figure\",\"type\":\"Plot\"},\"ticker\":{\"id\":\"882e7ad3-2f60-4df6-ba64-5de571cdb0d5\",\"type\":\"BasicTicker\"},\"visible\":null},\"id\":\"16ce3aad-00ff-4848-9b96-38a03332193b\",\"type\":\"LinearAxis\"},{\"attributes\":{\"bottom\":{\"field\":\"bottom\"},\"fill_color\":{\"value\":\"white\"},\"left\":{\"field\":\"left\"},\"right\":{\"field\":\"right\"},\"top\":{\"field\":\"top\"}},\"id\":\"cb4cf64f-f584-4bec-a478-75d1fbf07724\",\"type\":\"Quad\"},{\"attributes\":{\"callback\":null,\"column_names\":[\"right\",\"bottom\",\"top\",\"left\"],\"data\":{\"bottom\":[245,245,245,245,245,245,245],\"left\":[135809835,135957574,136289083,136499189,136545415,136597196,136664254],\"right\":[135928279,136288182,136482839,136542633,136594750,136634047,136743222],\"top\":[275,275,275,275,275,275,275]}},\"id\":\"68970f4b-9d1f-4e8b-8455-f70b5869c2f4\",\"type\":\"ColumnDataSource\"},{\"attributes\":{\"data_source\":{\"id\":\"68970f4b-9d1f-4e8b-8455-f70b5869c2f4\",\"type\":\"ColumnDataSource\"},\"glyph\":{\"id\":\"cb4cf64f-f584-4bec-a478-75d1fbf07724\",\"type\":\"Quad\"},\"hover_glyph\":null,\"nonselection_glyph\":{\"id\":\"f813fdf6-ef0f-49f4-908f-82d4149a5464\",\"type\":\"Quad\"},\"selection_glyph\":null},\"id\":\"fbc29148-fd01-4689-8653-6ac1f6e2fe17\",\"type\":\"GlyphRenderer\"},{\"attributes\":{},\"id\":\"3f36453b-c6f4-4303-b5bc-e8e1ab6cda11\",\"type\":\"ToolEvents\"},{\"attributes\":{},\"id\":\"06a294f6-ae86-438a-b7a8-7234d916cf3a\",\"type\":\"BasicTickFormatter\"},{\"attributes\":{\"overlay\":{\"id\":\"47511a06-2604-41bf-a62a-b0d7090808fa\",\"type\":\"BoxAnnotation\"},\"plot\":{\"id\":\"94b98b40-8566-4850-a756-e5e21d1c7883\",\"subtype\":\"Figure\",\"type\":\"Plot\"}},\"id\":\"af612d90-8e6c-4da0-839a-a4c3f585636e\",\"type\":\"BoxZoomTool\"}],\"root_ids\":[\"94b98b40-8566-4850-a756-e5e21d1c7883\"]},\"title\":\"Bokeh Application\",\"version\":\"0.12.0\"}};\n",
       "            var render_items = [{\"docid\":\"eea7becb-e141-4a09-ba83-4a736d5da2de\",\"elementid\":\"0134a37e-b1cb-466b-a010-de4dd902c7b7\",\"modelid\":\"94b98b40-8566-4850-a756-e5e21d1c7883\",\"notebook_comms_target\":\"8c7cb5e0-e7f7-42f3-8b2e-20d7cb222df4\"}];\n",
       "            \n",
       "            Bokeh.embed.embed_items(docs_json, render_items);\n",
       "        });\n",
       "      },\n",
       "      function(Bokeh) {\n",
       "      }\n",
       "    ];\n",
       "  \n",
       "    function run_inline_js() {\n",
       "      for (var i = 0; i < inline_js.length; i++) {\n",
       "        inline_js[i](window.Bokeh);\n",
       "      }\n",
       "    }\n",
       "  \n",
       "    if (window._bokeh_is_loading === 0) {\n",
       "      console.log(\"Bokeh: BokehJS loaded, going straight to plotting\");\n",
       "      run_inline_js();\n",
       "    } else {\n",
       "      load_libs(js_urls, function() {\n",
       "        console.log(\"Bokeh: BokehJS plotting callback run at\", now());\n",
       "        run_inline_js();\n",
       "      });\n",
       "    }\n",
       "  }(this));\n",
       "</script>"
      ]
     },
     "metadata": {},
     "output_type": "display_data"
    },
    {
     "data": {
      "text/html": [
       "<p><code>&lt;Bokeh Notebook handle for <strong>In[27]</strong>&gt;</code></p>"
      ],
      "text/plain": [
       "<bokeh.io._CommsHandle at 0x7f4364cc25d0>"
      ]
     },
     "execution_count": 27,
     "metadata": {},
     "output_type": "execute_result"
    }
   ],
   "source": [
    "plt_obj = dm.superset_yes_no([dm.di_26_1414, dm.di_13_1696], min_match=0.5)\n",
    "plt = plt_obj.do_plot()\n",
    "am = plt_obj.plot_context.yes_allele_mask\n",
    "show(plt)"
   ]
  },
  {
   "cell_type": "code",
   "execution_count": 28,
   "metadata": {
    "collapsed": false
   },
   "outputs": [
    {
     "data": {
      "text/html": [
       "<table>\n",
       "<thead><tr><th style=\"text-align:center\">index</th><th style=\"text-align:center\">first</th><th style=\"text-align:center\">length</th><th style=\"text-align:center\">snps</th><th style=\"text-align:center\" colspan=2>alleles</th><th style=\"text-align:center\" colspan=2>matches</th><th style=\"text-align:center\" colspan=2>afr</th><th style=\"text-align:center\" colspan=2>afx</th><th style=\"text-align:center\" colspan=2>amr</th><th style=\"text-align:center\" colspan=2>eas</th><th style=\"text-align:center\" colspan=2>eur</th><th style=\"text-align:center\" colspan=2>sas</th><th style=\"text-align:center\" colspan=2>sax</th></tr></thead>\n",
       "<tr class=\"even\"><td style=\"text-align: right;\">353921</td><td style=\"text-align: right;\">136,501,840</td><td style=\"text-align: right;\">53,819</td><td style=\"text-align: right;\">10</td><td style=\"text-align: right;\">2206</td><td style=\"text-align: right;\">0.01</td><td style=\"text-align: right;\">20</td><td style=\"text-align: right;\">1.00</td><td style=\"text-align: right;\">3</td><td style=\"text-align: right;\">0.75</td><td style=\"text-align: right;\">1</td><td style=\"text-align: right;\">0.80</td><td style=\"text-align: right;\">2</td><td style=\"text-align: right;\">0.72</td><td style=\"text-align: right;\">8</td><td style=\"text-align: right;\">1.99</td><td style=\"text-align: right;\">1</td><td style=\"text-align: right;\">0.25</td><td style=\"text-align: right;\">2</td><td style=\"text-align: right;\">1.38</td><td style=\"text-align: right;\">3</td><td style=\"text-align: right;\">1.22</td></tr>\n",
       "<tr><td style=\"text-align: right;\">354170</td><td style=\"text-align: right;\">136,682,274</td><td style=\"text-align: right;\">93,624</td><td style=\"text-align: right;\">7</td><td style=\"text-align: right;\">1868</td><td style=\"text-align: right;\">0.01</td><td style=\"text-align: right;\">20</td><td style=\"text-align: right;\">1.00</td><td style=\"text-align: right;\">3</td><td style=\"text-align: right;\">0.75</td><td style=\"text-align: right;\">1</td><td style=\"text-align: right;\">0.80</td><td style=\"text-align: right;\">2</td><td style=\"text-align: right;\">0.72</td><td style=\"text-align: right;\">8</td><td style=\"text-align: right;\">1.99</td><td style=\"text-align: right;\">1</td><td style=\"text-align: right;\">0.25</td><td style=\"text-align: right;\">2</td><td style=\"text-align: right;\">1.38</td><td style=\"text-align: right;\">3</td><td style=\"text-align: right;\">1.22</td></tr>\n",
       "<tr class=\"even\"><td style=\"text-align: right;\">353240</td><td style=\"text-align: right;\">135,757,320</td><td style=\"text-align: right;\">20,184</td><td style=\"text-align: right;\">13</td><td style=\"text-align: right;\">1696</td><td style=\"text-align: right;\">0.01</td><td style=\"text-align: right;\">20</td><td style=\"text-align: right;\">1.00</td><td style=\"text-align: right;\">3</td><td style=\"text-align: right;\">0.75</td><td style=\"text-align: right;\">1</td><td style=\"text-align: right;\">0.80</td><td style=\"text-align: right;\">2</td><td style=\"text-align: right;\">0.72</td><td style=\"text-align: right;\">8</td><td style=\"text-align: right;\">1.99</td><td style=\"text-align: right;\">1</td><td style=\"text-align: right;\">0.25</td><td style=\"text-align: right;\">2</td><td style=\"text-align: right;\">1.38</td><td style=\"text-align: right;\">3</td><td style=\"text-align: right;\">1.22</td></tr>\n",
       "<tr><td style=\"text-align: right;\">353901</td><td style=\"text-align: right;\">136,494,186</td><td style=\"text-align: right;\">271,765</td><td style=\"text-align: right;\">64</td><td style=\"text-align: right;\">1575</td><td style=\"text-align: right;\">0.01</td><td style=\"text-align: right;\">20</td><td style=\"text-align: right;\">1.00</td><td style=\"text-align: right;\">3</td><td style=\"text-align: right;\">0.75</td><td style=\"text-align: right;\">1</td><td style=\"text-align: right;\">0.80</td><td style=\"text-align: right;\">2</td><td style=\"text-align: right;\">0.72</td><td style=\"text-align: right;\">8</td><td style=\"text-align: right;\">1.99</td><td style=\"text-align: right;\">1</td><td style=\"text-align: right;\">0.25</td><td style=\"text-align: right;\">2</td><td style=\"text-align: right;\">1.38</td><td style=\"text-align: right;\">3</td><td style=\"text-align: right;\">1.22</td></tr>\n",
       "<tr class=\"even\"><td style=\"text-align: right;\">353797</td><td style=\"text-align: right;\">136,398,174</td><td style=\"text-align: right;\">75,924</td><td style=\"text-align: right;\">26</td><td style=\"text-align: right;\">1414</td><td style=\"text-align: right;\">0.01</td><td style=\"text-align: right;\">20</td><td style=\"text-align: right;\">1.00</td><td style=\"text-align: right;\">3</td><td style=\"text-align: right;\">0.75</td><td style=\"text-align: right;\">1</td><td style=\"text-align: right;\">0.80</td><td style=\"text-align: right;\">2</td><td style=\"text-align: right;\">0.72</td><td style=\"text-align: right;\">8</td><td style=\"text-align: right;\">1.99</td><td style=\"text-align: right;\">1</td><td style=\"text-align: right;\">0.25</td><td style=\"text-align: right;\">2</td><td style=\"text-align: right;\">1.38</td><td style=\"text-align: right;\">3</td><td style=\"text-align: right;\">1.22</td></tr>\n",
       "</table>"
      ],
      "text/plain": [
       "<IPython.core.display.HTML object>"
      ]
     },
     "execution_count": 28,
     "metadata": {},
     "output_type": "execute_result"
    }
   ],
   "source": [
    "HTML(plt_obj.get_html())"
   ]
  },
  {
   "cell_type": "code",
   "execution_count": 29,
   "metadata": {
    "collapsed": false
   },
   "outputs": [
    {
     "data": {
      "text/plain": [
       "array([18, 18, 20, 20, 20, 20, 20, 20, 20, 20, 20, 20, 20, 20, 20, 20, 20,\n",
       "       20, 20, 20, 20, 20, 20, 20, 20, 20])"
      ]
     },
     "execution_count": 29,
     "metadata": {},
     "output_type": "execute_result"
    }
   ],
   "source": [
    "sa_26_1414.alleles_per_snp(am)"
   ]
  },
  {
   "cell_type": "code",
   "execution_count": 30,
   "metadata": {
    "collapsed": false
   },
   "outputs": [
    {
     "data": {
      "text/plain": [
       "array([14, 14, 14, 14, 13, 13,  0,  0,  0])"
      ]
     },
     "execution_count": 30,
     "metadata": {},
     "output_type": "execute_result"
    }
   ],
   "source": [
    "sa_9_944.alleles_per_snp(am)"
   ]
  },
  {
   "cell_type": "code",
   "execution_count": 31,
   "metadata": {
    "collapsed": false
   },
   "outputs": [
    {
     "data": {
      "text/plain": [
       "array([11, 10, 10, 10,  9])"
      ]
     },
     "execution_count": 31,
     "metadata": {},
     "output_type": "execute_result"
    }
   ],
   "source": [
    "sa_5_684.alleles_per_snp(am)"
   ]
  },
  {
   "cell_type": "code",
   "execution_count": 32,
   "metadata": {
    "collapsed": false
   },
   "outputs": [
    {
     "data": {
      "text/html": [
       "\n",
       "\n",
       "    <div class=\"bk-root\">\n",
       "        <div class=\"plotdiv\" id=\"d4f02508-b6ca-4fd2-a67d-7ca6244592f2\"></div>\n",
       "    </div>\n",
       "<script type=\"text/javascript\">\n",
       "  \n",
       "  (function(global) {\n",
       "    function now() {\n",
       "      return new Date();\n",
       "    }\n",
       "  \n",
       "    if (typeof (window._bokeh_onload_callbacks) === \"undefined\") {\n",
       "      window._bokeh_onload_callbacks = [];\n",
       "    }\n",
       "  \n",
       "    function run_callbacks() {\n",
       "      window._bokeh_onload_callbacks.forEach(function(callback) { callback() });\n",
       "      delete window._bokeh_onload_callbacks\n",
       "      console.info(\"Bokeh: all callbacks have finished\");\n",
       "    }\n",
       "  \n",
       "    function load_libs(js_urls, callback) {\n",
       "      window._bokeh_onload_callbacks.push(callback);\n",
       "      if (window._bokeh_is_loading > 0) {\n",
       "        console.log(\"Bokeh: BokehJS is being loaded, scheduling callback at\", now());\n",
       "        return null;\n",
       "      }\n",
       "      if (js_urls == null || js_urls.length === 0) {\n",
       "        run_callbacks();\n",
       "        return null;\n",
       "      }\n",
       "      console.log(\"Bokeh: BokehJS not loaded, scheduling load and callback at\", now());\n",
       "      window._bokeh_is_loading = js_urls.length;\n",
       "      for (var i = 0; i < js_urls.length; i++) {\n",
       "        var url = js_urls[i];\n",
       "        var s = document.createElement('script');\n",
       "        s.src = url;\n",
       "        s.async = false;\n",
       "        s.onreadystatechange = s.onload = function() {\n",
       "          window._bokeh_is_loading--;\n",
       "          if (window._bokeh_is_loading === 0) {\n",
       "            console.log(\"Bokeh: all BokehJS libraries loaded\");\n",
       "            run_callbacks()\n",
       "          }\n",
       "        };\n",
       "        s.onerror = function() {\n",
       "          console.warn(\"failed to load library \" + url);\n",
       "        };\n",
       "        console.log(\"Bokeh: injecting script tag for BokehJS library: \", url);\n",
       "        document.getElementsByTagName(\"head\")[0].appendChild(s);\n",
       "      }\n",
       "    };var element = document.getElementById(\"d4f02508-b6ca-4fd2-a67d-7ca6244592f2\");\n",
       "    if (element == null) {\n",
       "      console.log(\"Bokeh: ERROR: autoload.js configured with elementid 'd4f02508-b6ca-4fd2-a67d-7ca6244592f2' but no matching script tag was found. \")\n",
       "      return false;\n",
       "    }\n",
       "  \n",
       "    var js_urls = [];\n",
       "  \n",
       "    var inline_js = [\n",
       "      function(Bokeh) {\n",
       "        Bokeh.$(function() {\n",
       "            var docs_json = {\"da1bea41-5ba2-4564-8ab5-ea1a955ab65a\":{\"roots\":{\"references\":[{\"attributes\":{\"callback\":null,\"end\":700},\"id\":\"6bdcd0d1-202c-43de-a091-e587b3987a16\",\"type\":\"Range1d\"},{\"attributes\":{\"plot\":null,\"text\":null},\"id\":\"e994d7bd-a6db-4705-bc45-ddaf879a5783\",\"type\":\"Title\"},{\"attributes\":{\"plot\":{\"id\":\"eb278a0d-dff4-46ee-893b-b1d2cdbf71e2\",\"subtype\":\"Figure\",\"type\":\"Plot\"}},\"id\":\"96e2b258-03c3-4c45-a00a-81f4c4159511\",\"type\":\"SaveTool\"},{\"attributes\":{\"bottom\":{\"field\":\"bottom\"},\"fill_alpha\":{\"value\":0.1},\"fill_color\":{\"value\":\"#1f77b4\"},\"left\":{\"field\":\"left\"},\"line_alpha\":{\"value\":0.1},\"line_color\":{\"value\":\"#1f77b4\"},\"right\":{\"field\":\"right\"},\"top\":{\"field\":\"top\"}},\"id\":\"88de29ff-3b24-4031-b2c0-6db5888bf99a\",\"type\":\"Quad\"},{\"attributes\":{\"bottom\":{\"field\":\"bottom\"},\"fill_alpha\":{\"value\":0.1},\"fill_color\":{\"value\":\"#1f77b4\"},\"left\":{\"field\":\"left\"},\"line_alpha\":{\"value\":0.1},\"line_color\":{\"value\":\"#1f77b4\"},\"right\":{\"field\":\"right\"},\"top\":{\"field\":\"top\"}},\"id\":\"e3474c51-6671-492b-98c7-8356d2b2aa8c\",\"type\":\"Quad\"},{\"attributes\":{\"callback\":null,\"column_names\":[\"right\",\"bottom\",\"top\",\"left\",\"fill_color\"],\"data\":{\"bottom\":[450,150,50,450,250,350,450,450,550,550],\"fill_color\":[\"#808080\",\"#ff0000\",\"#ff0000\",\"#c46161\",\"#ff0000\",\"#ff0000\",\"#61c461\",\"#61c461\",\"#808080\",\"#61c461\"],\"left\":[135757320,135773319,135778464,135933921,136115507,136309239,136398174,136494186,136501840,136682274],\"right\":[135777504,136494131,136386964,136368563,136385280,136361560,136474098,136765951,136555659,136775898],\"top\":[496,179,78,495,284,390,494,495,598,597]}},\"id\":\"5b715e7a-d95c-45c6-9676-ba7c84cf9150\",\"type\":\"ColumnDataSource\"},{\"attributes\":{},\"id\":\"1d2c3ae8-d8bf-43f5-8e67-cf5e5dc26896\",\"type\":\"BasicTickFormatter\"},{\"attributes\":{},\"id\":\"39408604-74fb-46ea-aa70-3177556a81bd\",\"type\":\"BasicTicker\"},{\"attributes\":{\"data_source\":{\"id\":\"5b715e7a-d95c-45c6-9676-ba7c84cf9150\",\"type\":\"ColumnDataSource\"},\"glyph\":{\"id\":\"e512e506-bcdc-4716-9f0e-8ce88e36e17b\",\"type\":\"Quad\"},\"hover_glyph\":null,\"nonselection_glyph\":{\"id\":\"88de29ff-3b24-4031-b2c0-6db5888bf99a\",\"type\":\"Quad\"},\"selection_glyph\":null},\"id\":\"e24d595e-8478-48fc-a959-9869091a1ca3\",\"type\":\"GlyphRenderer\"},{\"attributes\":{\"data_source\":{\"id\":\"b9a4c361-eabc-448f-9d43-ee43aad2ca33\",\"type\":\"ColumnDataSource\"},\"glyph\":{\"id\":\"9ad7b306-0b93-4c17-ad6b-2fe6cd95e26a\",\"type\":\"MultiLine\"},\"hover_glyph\":null,\"nonselection_glyph\":{\"id\":\"39b1e194-4bd8-4461-a938-7046e0f71c81\",\"type\":\"MultiLine\"},\"selection_glyph\":null},\"id\":\"3d202cb2-ef46-45a6-9546-25fb9e1e5194\",\"type\":\"GlyphRenderer\"},{\"attributes\":{\"callback\":null,\"end\":136786630,\"start\":135757320},\"id\":\"9d2f0eb2-50ec-4403-a58f-e15b32286411\",\"type\":\"Range1d\"},{\"attributes\":{\"plot\":{\"id\":\"eb278a0d-dff4-46ee-893b-b1d2cdbf71e2\",\"subtype\":\"Figure\",\"type\":\"Plot\"}},\"id\":\"cb5e77eb-5891-42e9-9c6d-25e92d3e4de5\",\"type\":\"ResetTool\"},{\"attributes\":{\"level\":\"glyph\",\"plot\":{\"id\":\"eb278a0d-dff4-46ee-893b-b1d2cdbf71e2\",\"subtype\":\"Figure\",\"type\":\"Plot\"},\"source\":{\"id\":\"2d377bc1-d0df-475d-b025-fb741f11d586\",\"type\":\"ColumnDataSource\"},\"text\":{\"field\":\"vals\"},\"text_font_size\":{\"value\":\"9pt\"},\"text_font_style\":\"bold\",\"x\":{\"field\":\"x\"},\"y\":{\"field\":\"y\"}},\"id\":\"1f0ef060-cc13-42f5-b2d1-4ca83135f0d0\",\"type\":\"LabelSet\"},{\"attributes\":{},\"id\":\"b2bc3ae8-df2e-4dd2-a0ec-9f8646da9f4c\",\"type\":\"BasicTickFormatter\"},{\"attributes\":{\"plot\":{\"id\":\"eb278a0d-dff4-46ee-893b-b1d2cdbf71e2\",\"subtype\":\"Figure\",\"type\":\"Plot\"},\"ticker\":{\"id\":\"347df75c-9099-46c1-9e7a-2a6fe5e13eee\",\"type\":\"BasicTicker\"}},\"id\":\"6d3f021d-4767-4c86-aee5-6404773de2a6\",\"type\":\"Grid\"},{\"attributes\":{\"overlay\":{\"id\":\"41c82c6c-33f6-470f-aa7b-072871044b00\",\"type\":\"BoxAnnotation\"},\"plot\":{\"id\":\"eb278a0d-dff4-46ee-893b-b1d2cdbf71e2\",\"subtype\":\"Figure\",\"type\":\"Plot\"}},\"id\":\"e5a6d80b-7e76-4469-80d3-573ce32a8121\",\"type\":\"BoxZoomTool\"},{\"attributes\":{\"formatter\":{\"id\":\"b2bc3ae8-df2e-4dd2-a0ec-9f8646da9f4c\",\"type\":\"BasicTickFormatter\"},\"plot\":{\"id\":\"eb278a0d-dff4-46ee-893b-b1d2cdbf71e2\",\"subtype\":\"Figure\",\"type\":\"Plot\"},\"ticker\":{\"id\":\"347df75c-9099-46c1-9e7a-2a6fe5e13eee\",\"type\":\"BasicTicker\"}},\"id\":\"b1fa27c2-2f69-4872-a102-dd1b61a0a809\",\"type\":\"LinearAxis\"},{\"attributes\":{\"below\":[{\"id\":\"b1fa27c2-2f69-4872-a102-dd1b61a0a809\",\"type\":\"LinearAxis\"}],\"left\":[{\"id\":\"5b00bdf2-511c-48d3-ac7f-c468a0126a58\",\"type\":\"LinearAxis\"}],\"plot_height\":700,\"plot_width\":900,\"renderers\":[{\"id\":\"b1fa27c2-2f69-4872-a102-dd1b61a0a809\",\"type\":\"LinearAxis\"},{\"id\":\"6d3f021d-4767-4c86-aee5-6404773de2a6\",\"type\":\"Grid\"},{\"id\":\"5b00bdf2-511c-48d3-ac7f-c468a0126a58\",\"type\":\"LinearAxis\"},{\"id\":\"b8550c95-cd89-4dfe-b3b1-de6b26c311a2\",\"type\":\"Grid\"},{\"id\":\"41c82c6c-33f6-470f-aa7b-072871044b00\",\"type\":\"BoxAnnotation\"},{\"id\":\"e24d595e-8478-48fc-a959-9869091a1ca3\",\"type\":\"GlyphRenderer\"},{\"id\":\"3d202cb2-ef46-45a6-9546-25fb9e1e5194\",\"type\":\"GlyphRenderer\"},{\"id\":\"1f0ef060-cc13-42f5-b2d1-4ca83135f0d0\",\"type\":\"LabelSet\"},{\"id\":\"fb028ca5-1fae-4653-853a-5e5bb6900e5f\",\"type\":\"GlyphRenderer\"},{\"id\":\"842814b6-9c2e-4333-89ba-6e0c2b2022e6\",\"type\":\"LabelSet\"}],\"title\":{\"id\":\"e994d7bd-a6db-4705-bc45-ddaf879a5783\",\"type\":\"Title\"},\"tool_events\":{\"id\":\"6db9bfe9-b83e-4ea2-ac78-11262d3bd0b9\",\"type\":\"ToolEvents\"},\"toolbar\":{\"id\":\"c6247cc5-6312-437b-8149-4b9640c2d5d1\",\"type\":\"Toolbar\"},\"toolbar_location\":null,\"x_range\":{\"id\":\"9d2f0eb2-50ec-4403-a58f-e15b32286411\",\"type\":\"Range1d\"},\"y_range\":{\"id\":\"6bdcd0d1-202c-43de-a091-e587b3987a16\",\"type\":\"Range1d\"}},\"id\":\"eb278a0d-dff4-46ee-893b-b1d2cdbf71e2\",\"subtype\":\"Figure\",\"type\":\"Plot\"},{\"attributes\":{\"dimension\":1,\"plot\":{\"id\":\"eb278a0d-dff4-46ee-893b-b1d2cdbf71e2\",\"subtype\":\"Figure\",\"type\":\"Plot\"},\"ticker\":{\"id\":\"39408604-74fb-46ea-aa70-3177556a81bd\",\"type\":\"BasicTicker\"}},\"id\":\"b8550c95-cd89-4dfe-b3b1-de6b26c311a2\",\"type\":\"Grid\"},{\"attributes\":{\"formatter\":{\"id\":\"1d2c3ae8-d8bf-43f5-8e67-cf5e5dc26896\",\"type\":\"BasicTickFormatter\"},\"plot\":{\"id\":\"eb278a0d-dff4-46ee-893b-b1d2cdbf71e2\",\"subtype\":\"Figure\",\"type\":\"Plot\"},\"ticker\":{\"id\":\"39408604-74fb-46ea-aa70-3177556a81bd\",\"type\":\"BasicTicker\"},\"visible\":null},\"id\":\"5b00bdf2-511c-48d3-ac7f-c468a0126a58\",\"type\":\"LinearAxis\"},{\"attributes\":{\"bottom_units\":\"screen\",\"fill_alpha\":{\"value\":0.5},\"fill_color\":{\"value\":\"lightgrey\"},\"left_units\":\"screen\",\"level\":\"overlay\",\"line_alpha\":{\"value\":1.0},\"line_color\":{\"value\":\"black\"},\"line_dash\":[4,4],\"line_width\":{\"value\":2},\"plot\":null,\"render_mode\":\"css\",\"right_units\":\"screen\",\"top_units\":\"screen\"},\"id\":\"41c82c6c-33f6-470f-aa7b-072871044b00\",\"type\":\"BoxAnnotation\"},{\"attributes\":{\"line_alpha\":{\"value\":0.1},\"line_color\":{\"value\":\"#1f77b4\"},\"xs\":{\"field\":\"xs\"},\"ys\":{\"field\":\"ys\"}},\"id\":\"39b1e194-4bd8-4461-a938-7046e0f71c81\",\"type\":\"MultiLine\"},{\"attributes\":{\"plot\":{\"id\":\"eb278a0d-dff4-46ee-893b-b1d2cdbf71e2\",\"subtype\":\"Figure\",\"type\":\"Plot\"}},\"id\":\"21569b3d-4e6d-41a8-9465-147860228f3a\",\"type\":\"PanTool\"},{\"attributes\":{\"callback\":null,\"column_names\":[\"right\",\"bottom\",\"top\",\"left\"],\"data\":{\"bottom\":[645,645,645,645,645,645,645],\"left\":[135809835,135957574,136289083,136499189,136545415,136597196,136664254],\"right\":[135928279,136288182,136482839,136542633,136594750,136634047,136743222],\"top\":[675,675,675,675,675,675,675]}},\"id\":\"1e38dc96-0c4a-4f11-94fe-dec06fea9fbe\",\"type\":\"ColumnDataSource\"},{\"attributes\":{\"data_source\":{\"id\":\"1e38dc96-0c4a-4f11-94fe-dec06fea9fbe\",\"type\":\"ColumnDataSource\"},\"glyph\":{\"id\":\"ddcdcfc8-97ad-4da4-aa87-4c9653c03fdf\",\"type\":\"Quad\"},\"hover_glyph\":null,\"nonselection_glyph\":{\"id\":\"e3474c51-6671-492b-98c7-8356d2b2aa8c\",\"type\":\"Quad\"},\"selection_glyph\":null},\"id\":\"fb028ca5-1fae-4653-853a-5e5bb6900e5f\",\"type\":\"GlyphRenderer\"},{\"attributes\":{},\"id\":\"347df75c-9099-46c1-9e7a-2a6fe5e13eee\",\"type\":\"BasicTicker\"},{\"attributes\":{\"bottom\":{\"field\":\"bottom\"},\"fill_color\":{\"value\":\"white\"},\"left\":{\"field\":\"left\"},\"right\":{\"field\":\"right\"},\"top\":{\"field\":\"top\"}},\"id\":\"ddcdcfc8-97ad-4da4-aa87-4c9653c03fdf\",\"type\":\"Quad\"},{\"attributes\":{\"callback\":null,\"column_names\":[\"xs\",\"ys\",\"line_color\"],\"data\":{\"line_color\":[\"black\",\"black\",\"black\",\"black\",\"black\",\"black\",\"black\",\"black\",\"black\",\"black\",\"black\",\"black\",\"black\",\"black\",\"black\",\"black\",\"black\",\"black\",\"black\",\"black\",\"black\",\"black\",\"black\",\"black\",\"black\",\"black\",\"black\",\"black\",\"black\",\"black\",\"black\",\"black\",\"black\",\"black\",\"black\",\"black\",\"black\",\"black\",\"black\",\"black\",\"black\",\"black\",\"black\",\"black\",\"black\",\"black\",\"black\",\"black\",\"black\",\"black\",\"black\",\"black\",\"black\",\"black\",\"black\",\"black\",\"black\",\"black\",\"black\",\"black\",\"black\",\"black\",\"black\",\"black\",\"black\",\"black\",\"black\",\"black\",\"black\",\"black\",\"black\",\"black\",\"black\",\"black\",\"black\",\"black\",\"black\",\"black\",\"black\",\"black\",\"black\",\"black\",\"black\",\"black\",\"black\",\"black\",\"black\",\"black\",\"black\",\"black\",\"black\",\"black\",\"black\",\"black\",\"black\",\"black\",\"black\",\"black\",\"black\",\"black\",\"black\",\"black\",\"black\",\"black\",\"black\",\"black\",\"black\",\"black\",\"black\",\"black\",\"black\",\"black\",\"black\",\"black\",\"black\",\"black\",\"black\",\"black\",\"black\",\"black\",\"black\",\"black\",\"black\",\"black\",\"black\",\"black\",\"black\",\"black\",\"black\",\"black\",\"black\",\"black\",\"black\",\"black\",\"black\",\"black\",\"black\",\"black\",\"black\",\"black\",\"black\",\"black\",\"black\",\"black\",\"black\",\"black\",\"black\",\"black\",\"black\",\"black\",\"black\",\"black\",\"black\",\"black\",\"black\",\"black\",\"black\",\"black\",\"black\",\"black\",\"black\",\"black\",\"black\",\"black\",\"black\",\"black\",\"black\",\"black\",\"black\",\"black\",\"black\",\"black\",\"black\",\"black\",\"black\",\"black\",\"black\",\"black\",\"black\",\"black\",\"black\",\"black\",\"black\",\"black\",\"black\",\"black\",\"black\",\"black\",\"black\",\"black\",\"black\",\"black\",\"black\",\"black\",\"black\",\"black\",\"black\",\"black\",\"black\",\"black\",\"black\",\"black\",\"black\",\"black\",\"black\",\"black\",\"black\",\"black\",\"black\",\"black\",\"black\",\"black\",\"black\",\"black\",\"black\",\"black\",\"black\",\"black\",\"black\",\"black\",\"black\",\"black\",\"black\",\"black\",\"black\",\"black\",\"black\",\"black\",\"black\",\"black\",\"black\",\"black\",\"black\",\"black\",\"black\",\"black\",\"black\",\"black\",\"black\",\"black\",\"black\",\"black\",\"black\",\"black\",\"black\",\"black\",\"black\",\"black\",\"black\",\"black\",\"black\",\"black\",\"black\",\"black\",\"black\",\"black\",\"black\",\"black\",\"black\",\"black\",\"black\",\"black\",\"black\",\"black\",\"black\",\"black\",\"black\",\"black\",\"black\",\"black\",\"black\",\"black\",\"black\",\"black\",\"black\",\"black\",\"black\",\"black\",\"black\",\"black\",\"black\",\"black\",\"black\",\"black\",\"black\",\"black\",\"black\",\"black\",\"black\",\"black\",\"black\",\"black\",\"black\",\"black\",\"black\",\"black\",\"black\",\"black\",\"black\",\"black\",\"black\",\"black\",\"black\",\"black\",\"black\",\"black\",\"black\",\"black\",\"black\",\"black\",\"black\",\"black\",\"black\",\"black\",\"black\",\"black\",\"black\",\"black\",\"black\",\"black\",\"black\",\"black\",\"black\",\"black\",\"black\",\"black\",\"black\",\"black\",\"black\",\"black\",\"black\",\"black\",\"black\",\"black\",\"black\",\"black\",\"black\",\"black\",\"black\",\"black\",\"black\",\"black\",\"black\",\"black\",\"black\",\"black\",\"black\",\"black\",\"black\",\"black\",\"black\",\"black\",\"black\",\"black\",\"black\",\"black\",\"black\",\"black\",\"black\",\"black\",\"black\",\"black\",\"black\",\"black\",\"black\",\"black\",\"black\",\"black\",\"black\",\"black\",\"black\",\"black\",\"black\",\"black\",\"black\",\"black\",\"black\",\"black\",\"black\",\"black\",\"black\",\"black\",\"black\",\"black\",\"black\",\"black\",\"black\",\"black\",\"black\",\"black\",\"black\",\"black\",\"black\",\"black\",\"black\",\"black\",\"black\",\"black\",\"black\",\"black\",\"black\",\"black\",\"black\",\"black\",\"black\",\"black\",\"black\",\"black\",\"black\",\"black\",\"black\",\"black\",\"black\",\"black\",\"black\",\"black\",\"black\",\"black\",\"black\",\"black\",\"black\",\"black\",\"black\",\"black\",\"black\",\"black\",\"black\",\"black\",\"black\",\"black\",\"black\",\"black\",\"black\",\"black\",\"black\",\"black\",\"black\",\"black\",\"black\",\"black\",\"black\",\"black\",\"black\",\"black\",\"black\",\"black\",\"black\",\"black\",\"black\",\"black\",\"black\",\"black\",\"black\",\"black\",\"black\",\"black\",\"black\",\"black\",\"black\",\"black\",\"black\",\"black\",\"black\",\"black\",\"black\",\"black\",\"black\",\"black\",\"black\",\"black\",\"black\",\"black\",\"black\",\"black\",\"black\",\"black\",\"black\",\"black\",\"black\",\"black\",\"black\",\"black\",\"black\"],\"xs\":[[135757320,135757320],[135761078,135761078],[135761271,135761271],[135762344,135762344],[135762980,135762980],[135763280,135763280],[135768815,135768815],[135769093,135769093],[135769127,135769127],[135770940,135770940],[135770951,135770951],[135776728,135776728],[135777504,135777504],[135773319,135773319],[135782994,135782994],[135782995,135782995],[135782998,135782998],[135782999,135782999],[135801096,135801096],[135810349,135810349],[135810793,135810793],[135813701,135813701],[135818281,135818281],[135822991,135822991],[135823450,135823450],[135823834,135823834],[135824823,135824823],[135828466,135828466],[135829333,135829333],[135830819,135830819],[135840645,135840645],[135840827,135840827],[135846028,135846028],[135850786,135850786],[135850950,135850950],[135851737,135851737],[135851739,135851739],[135852332,135852332],[135853861,135853861],[135854068,135854068],[135854685,135854685],[135856038,135856038],[135862109,135862109],[135862401,135862401],[135863691,135863691],[135866027,135866027],[135867563,135867563],[135871434,135871434],[135876120,135876120],[135881988,135881988],[135891281,135891281],[135895394,135895394],[135896642,135896642],[135897756,135897756],[135912026,135912026],[135914126,135914126],[135916951,135916951],[135918112,135918112],[135924787,135924787],[135927729,135927729],[135930265,135930265],[135931222,135931222],[135948127,135948127],[135949701,135949701],[135957703,135957703],[135962001,135962001],[135968466,135968466],[135975199,135975199],[135977079,135977079],[135980808,135980808],[135981536,135981536],[135987191,135987191],[135989869,135989869],[135991527,135991527],[135992684,135992684],[135998422,135998422],[135998865,135998865],[136003411,136003411],[136008335,136008335],[136009537,136009537],[136010391,136010391],[136035323,136035323],[136037259,136037259],[136052308,136052308],[136054376,136054376],[136055105,136055105],[136058763,136058763],[136064157,136064157],[136074280,136074280],[136074561,136074561],[136078097,136078097],[136078353,136078353],[136079270,136079270],[136097431,136097431],[136104885,136104885],[136107710,136107710],[136113140,136113140],[136115065,136115065],[136117883,136117883],[136122092,136122092],[136123060,136123060],[136124958,136124958],[136129031,136129031],[136137878,136137878],[136138964,136138964],[136147793,136147793],[136148463,136148463],[136151303,136151303],[136153889,136153889],[136155242,136155242],[136158852,136158852],[136160609,136160609],[136160636,136160636],[136160958,136160958],[136161678,136161678],[136161990,136161990],[136163171,136163171],[136163485,136163485],[136163668,136163668],[136163967,136163967],[136165084,136165084],[136175947,136175947],[136191718,136191718],[136201571,136201571],[136203522,136203522],[136203641,136203641],[136204451,136204451],[136204593,136204593],[136204888,136204888],[136216623,136216623],[136219114,136219114],[136222602,136222602],[136228129,136228129],[136228291,136228291],[136229670,136229670],[136230061,136230061],[136232059,136232059],[136238344,136238344],[136241355,136241355],[136244591,136244591],[136246156,136246156],[136249895,136249895],[136250642,136250642],[136251546,136251546],[136255406,136255406],[136255837,136255837],[136256724,136256724],[136256777,136256777],[136263271,136263271],[136263320,136263320],[136274857,136274857],[136279222,136279222],[136279705,136279705],[136280288,136280288],[136290299,136290299],[136300341,136300341],[136300434,136300434],[136305610,136305610],[136305952,136305952],[136309180,136309180],[136309308,136309308],[136310715,136310715],[136330715,136330715],[136333105,136333105],[136337792,136337792],[136339080,136339080],[136339412,136339412],[136339826,136339826],[136340974,136340974],[136349862,136349862],[136353068,136353068],[136355227,136355227],[136356763,136356763],[136359056,136359056],[136360706,136360706],[136367510,136367510],[136368043,136368043],[136371507,136371507],[136375075,136375075],[136382614,136382614],[136402029,136402029],[136411311,136411311],[136439260,136439260],[136439470,136439470],[136442758,136442758],[136452302,136452302],[136456531,136456531],[136464549,136464549],[136474865,136474865],[136479740,136479740],[136490447,136490447],[136492077,136492077],[136494131,136494131],[135778464,135778464],[135821962,135821962],[135840758,135840758],[135852808,135852808],[135894761,135894761],[135901370,135901370],[136001333,136001333],[136021546,136021546],[136054404,136054404],[136054495,136054495],[136091209,136091209],[136104902,136104902],[136114632,136114632],[136134542,136134542],[136176598,136176598],[136180757,136180757],[136246916,136246916],[136251889,136251889],[136261397,136261397],[136278650,136278650],[136308610,136308610],[136372213,136372213],[136386964,136386964],[135933921,135933921],[135939824,135939824],[135941503,135941503],[135943900,135943900],[135945474,135945474],[135949715,135949715],[135956745,135956745],[135958693,135958693],[135967778,135967778],[135972093,135972093],[135973768,135973768],[135976498,135976498],[135978428,135978428],[135990031,135990031],[135992481,135992481],[135993925,135993925],[135994838,135994838],[136000253,136000253],[136003567,136003567],[136005477,136005477],[136005971,136005971],[136020977,136020977],[136027535,136027535],[136031588,136031588],[136032905,136032905],[136042480,136042480],[136043885,136043885],[136050471,136050471],[136052898,136052898],[136054815,136054815],[136056285,136056285],[136061560,136061560],[136063685,136063685],[136069060,136069060],[136072179,136072179],[136074233,136074233],[136080721,136080721],[136080822,136080822],[136088440,136088440],[136088643,136088643],[136092416,136092416],[136092869,136092869],[136094615,136094615],[136095505,136095505],[136095604,136095604],[136096766,136096766],[136097091,136097091],[136097394,136097394],[136100243,136100243],[136101823,136101823],[136106561,136106561],[136115501,136115501],[136122622,136122622],[136123014,136123014],[136123848,136123848],[136127100,136127100],[136127950,136127950],[136128630,136128630],[136129630,136129630],[136129791,136129791],[136131324,136131324],[136135383,136135383],[136135994,136135994],[136136224,136136224],[136136366,136136366],[136136440,136136440],[136138145,136138145],[136140568,136140568],[136145882,136145882],[136147948,136147948],[136148630,136148630],[136151485,136151485],[136152802,136152802],[136156753,136156753],[136157913,136157913],[136160902,136160902],[136165765,136165765],[136171649,136171649],[136173220,136173220],[136173735,136173735],[136174552,136174552],[136175692,136175692],[136176805,136176805],[136182484,136182484],[136183188,136183188],[136187252,136187252],[136187345,136187345],[136189475,136189475],[136197702,136197702],[136198435,136198435],[136202937,136202937],[136219999,136219999],[136221500,136221500],[136226626,136226626],[136228929,136228929],[136229598,136229598],[136238270,136238270],[136238346,136238346],[136240769,136240769],[136244171,136244171],[136249245,136249245],[136250285,136250285],[136254419,136254419],[136266241,136266241],[136267808,136267808],[136272074,136272074],[136277304,136277304],[136290607,136290607],[136290663,136290663],[136291310,136291310],[136296051,136296051],[136305392,136305392],[136306890,136306890],[136310803,136310803],[136324225,136324225],[136324465,136324465],[136327305,136327305],[136329618,136329618],[136333300,136333300],[136350089,136350089],[136354204,136354204],[136360455,136360455],[136368563,136368563],[136115507,136115507],[136133627,136133627],[136135820,136135820],[136145676,136145676],[136166014,136166014],[136173684,136173684],[136176031,136176031],[136214307,136214307],[136215590,136215590],[136219265,136219265],[136219831,136219831],[136289471,136289471],[136298739,136298739],[136302296,136302296],[136302897,136302897],[136348702,136348702],[136348964,136348964],[136358707,136358707],[136359608,136359608],[136360402,136360402],[136365624,136365624],[136366970,136366970],[136367871,136367871],[136368393,136368393],[136370701,136370701],[136378539,136378539],[136378895,136378895],[136385280,136385280],[136309239,136309239],[136322472,136322472],[136323787,136323787],[136323862,136323862],[136326765,136326765],[136329500,136329500],[136331657,136331657],[136345356,136345356],[136361560,136361560],[136398174,136398174],[136402117,136402117],[136403749,136403749],[136409073,136409073],[136410299,136410299],[136413359,136413359],[136416855,136416855],[136416941,136416941],[136418348,136418348],[136419961,136419961],[136420690,136420690],[136422171,136422171],[136428460,136428460],[136430866,136430866],[136432103,136432103],[136437507,136437507],[136439090,136439090],[136439517,136439517],[136444123,136444123],[136445526,136445526],[136445869,136445869],[136455600,136455600],[136456642,136456642],[136462441,136462441],[136470714,136470714],[136474098,136474098],[136494186,136494186],[136495300,136495300],[136495619,136495619],[136499166,136499166],[136502792,136502792],[136503157,136503157],[136507039,136507039],[136511575,136511575],[136518103,136518103],[136521514,136521514],[136522675,136522675],[136522941,136522941],[136526981,136526981],[136535410,136535410],[136539122,136539122],[136544197,136544197],[136550109,136550109],[136551694,136551694],[136553188,136553188],[136553639,136553639],[136554800,136554800],[136557319,136557319],[136558157,136558157],[136569848,136569848],[136575199,136575199],[136576577,136576577],[136578536,136578536],[136580287,136580287],[136583192,136583192],[136586958,136586958],[136588478,136588478],[136589612,136589612],[136591178,136591178],[136591859,136591859],[136593760,136593760],[136594158,136594158],[136603276,136603276],[136603366,136603366],[136608231,136608231],[136609975,136609975],[136610598,136610598],[136611624,136611624],[136613780,136613780],[136614255,136614255],[136614813,136614813],[136617524,136617524],[136622216,136622216],[136625602,136625602],[136629911,136629911],[136630757,136630757],[136630989,136630989],[136631031,136631031],[136633771,136633771],[136636324,136636324],[136638216,136638216],[136640233,136640233],[136641882,136641882],[136643555,136643555],[136658345,136658345],[136670298,136670298],[136685228,136685228],[136696138,136696138],[136740900,136740900],[136765951,136765951],[136501840,136501840],[136505546,136505546],[136516748,136516748],[136522710,136522710],[136528004,136528004],[136539513,136539513],[136544752,136544752],[136546110,136546110],[136553529,136553529],[136555659,136555659],[136682274,136682274],[136691825,136691825],[136698098,136698098],[136721603,136721603],[136721995,136721995],[136755684,136755684],[136775898,136775898]],\"ys\":[[450,496],[450,496],[450,496],[450,496],[450,496],[450,496],[450,496],[450,496],[450,496],[450,496],[450,496],[450,496],[450,496],[150,179],[150,179],[150,179],[150,179],[150,179],[150,179],[150,179],[150,179],[150,179],[150,179],[150,179],[150,179],[150,179],[150,179],[150,179],[150,179],[150,179],[150,179],[150,179],[150,179],[150,179],[150,179],[150,179],[150,179],[150,179],[150,179],[150,179],[150,179],[150,179],[150,179],[150,179],[150,179],[150,179],[150,179],[150,179],[150,179],[150,179],[150,179],[150,179],[150,179],[150,179],[150,179],[150,179],[150,179],[150,179],[150,179],[150,179],[150,179],[150,179],[150,179],[150,179],[150,179],[150,179],[150,179],[150,179],[150,179],[150,179],[150,179],[150,179],[150,179],[150,179],[150,179],[150,179],[150,179],[150,179],[150,179],[150,179],[150,179],[150,179],[150,179],[150,179],[150,179],[150,179],[150,179],[150,179],[150,179],[150,179],[150,179],[150,179],[150,179],[150,179],[150,179],[150,179],[150,179],[150,179],[150,179],[150,179],[150,179],[150,179],[150,179],[150,179],[150,179],[150,179],[150,179],[150,179],[150,179],[150,179],[150,179],[150,179],[150,179],[150,179],[150,179],[150,179],[150,179],[150,179],[150,179],[150,179],[150,179],[150,179],[150,179],[150,179],[150,179],[150,179],[150,179],[150,179],[150,179],[150,179],[150,179],[150,179],[150,179],[150,179],[150,179],[150,179],[150,179],[150,179],[150,179],[150,179],[150,179],[150,179],[150,179],[150,179],[150,179],[150,179],[150,179],[150,179],[150,179],[150,179],[150,179],[150,179],[150,179],[150,179],[150,179],[150,179],[150,179],[150,179],[150,179],[150,179],[150,179],[150,179],[150,179],[150,179],[150,179],[150,179],[150,179],[150,179],[150,179],[150,179],[150,179],[150,179],[150,179],[150,179],[150,179],[150,179],[150,179],[150,179],[150,179],[150,179],[150,179],[150,179],[150,179],[150,179],[150,179],[150,179],[150,179],[150,179],[150,179],[150,179],[150,179],[150,179],[150,179],[50,78],[50,78],[50,78],[50,78],[50,78],[50,78],[50,78],[50,78],[50,78],[50,78],[50,78],[50,78],[50,78],[50,78],[50,78],[50,78],[50,78],[50,78],[50,78],[50,78],[50,78],[50,78],[50,78],[450,495],[450,495],[450,495],[450,495],[450,495],[450,495],[450,495],[450,495],[450,495],[450,495],[450,495],[450,495],[450,495],[450,495],[450,495],[450,495],[450,495],[450,495],[450,495],[450,495],[450,495],[450,495],[450,495],[450,495],[450,495],[450,495],[450,495],[450,495],[450,495],[450,495],[450,495],[450,495],[450,495],[450,495],[450,495],[450,495],[450,495],[450,495],[450,495],[450,495],[450,495],[450,495],[450,495],[450,495],[450,495],[450,495],[450,495],[450,495],[450,495],[450,495],[450,495],[450,495],[450,495],[450,495],[450,495],[450,495],[450,495],[450,495],[450,495],[450,495],[450,495],[450,495],[450,495],[450,495],[450,495],[450,495],[450,495],[450,495],[450,495],[450,495],[450,495],[450,495],[450,495],[450,495],[450,495],[450,495],[450,495],[450,495],[450,495],[450,495],[450,495],[450,495],[450,495],[450,495],[450,495],[450,495],[450,495],[450,495],[450,495],[450,495],[450,495],[450,495],[450,495],[450,495],[450,495],[450,495],[450,495],[450,495],[450,495],[450,495],[450,495],[450,495],[450,495],[450,495],[450,495],[450,495],[450,495],[450,495],[450,495],[450,495],[450,495],[450,495],[450,495],[450,495],[450,495],[450,495],[450,495],[450,495],[450,495],[450,495],[450,495],[450,495],[450,495],[250,284],[250,284],[250,284],[250,284],[250,284],[250,284],[250,284],[250,284],[250,284],[250,284],[250,284],[250,284],[250,284],[250,284],[250,284],[250,284],[250,284],[250,284],[250,284],[250,284],[250,284],[250,284],[250,284],[250,284],[250,284],[250,284],[250,284],[250,284],[350,390],[350,390],[350,390],[350,390],[350,390],[350,390],[350,390],[350,390],[350,390],[450,494],[450,494],[450,494],[450,494],[450,494],[450,494],[450,494],[450,494],[450,494],[450,494],[450,494],[450,494],[450,494],[450,494],[450,494],[450,494],[450,494],[450,494],[450,494],[450,494],[450,494],[450,494],[450,494],[450,494],[450,494],[450,494],[450,495],[450,495],[450,495],[450,495],[450,495],[450,495],[450,495],[450,495],[450,495],[450,495],[450,495],[450,495],[450,495],[450,495],[450,495],[450,495],[450,495],[450,495],[450,495],[450,495],[450,495],[450,495],[450,495],[450,495],[450,495],[450,495],[450,495],[450,495],[450,495],[450,495],[450,495],[450,495],[450,495],[450,495],[450,495],[450,495],[450,495],[450,495],[450,495],[450,495],[450,495],[450,495],[450,495],[450,495],[450,495],[450,495],[450,495],[450,495],[450,495],[450,495],[450,495],[450,495],[450,495],[450,495],[450,495],[450,495],[450,495],[450,495],[450,495],[450,495],[450,495],[450,495],[450,495],[450,495],[550,598],[550,598],[550,598],[550,598],[550,598],[550,598],[550,598],[550,598],[550,598],[550,598],[550,597],[550,597],[550,597],[550,597],[550,597],[550,597],[550,597]]}},\"id\":\"b9a4c361-eabc-448f-9d43-ee43aad2ca33\",\"type\":\"ColumnDataSource\"},{\"attributes\":{},\"id\":\"6db9bfe9-b83e-4ea2-ac78-11262d3bd0b9\",\"type\":\"ToolEvents\"},{\"attributes\":{\"bottom\":{\"field\":\"bottom\"},\"fill_color\":{\"field\":\"fill_color\"},\"left\":{\"field\":\"left\"},\"line_color\":{\"value\":null},\"right\":{\"field\":\"right\"},\"top\":{\"field\":\"top\"}},\"id\":\"e512e506-bcdc-4716-9f0e-8ce88e36e17b\",\"type\":\"Quad\"},{\"attributes\":{\"plot\":{\"id\":\"eb278a0d-dff4-46ee-893b-b1d2cdbf71e2\",\"subtype\":\"Figure\",\"type\":\"Plot\"}},\"id\":\"8fab46af-2ba5-44c1-9afd-4a7caa9a7eb3\",\"type\":\"HelpTool\"},{\"attributes\":{\"line_color\":{\"field\":\"line_color\"},\"xs\":{\"field\":\"xs\"},\"ys\":{\"field\":\"ys\"}},\"id\":\"9ad7b306-0b93-4c17-ad6b-2fe6cd95e26a\",\"type\":\"MultiLine\"},{\"attributes\":{\"active_drag\":\"auto\",\"active_scroll\":\"auto\",\"active_tap\":\"auto\",\"tools\":[{\"id\":\"21569b3d-4e6d-41a8-9465-147860228f3a\",\"type\":\"PanTool\"},{\"id\":\"4b3c9264-bc4a-4713-be19-6c994845d54e\",\"type\":\"WheelZoomTool\"},{\"id\":\"e5a6d80b-7e76-4469-80d3-573ce32a8121\",\"type\":\"BoxZoomTool\"},{\"id\":\"96e2b258-03c3-4c45-a00a-81f4c4159511\",\"type\":\"SaveTool\"},{\"id\":\"cb5e77eb-5891-42e9-9c6d-25e92d3e4de5\",\"type\":\"ResetTool\"},{\"id\":\"8fab46af-2ba5-44c1-9afd-4a7caa9a7eb3\",\"type\":\"HelpTool\"}]},\"id\":\"c6247cc5-6312-437b-8149-4b9640c2d5d1\",\"type\":\"Toolbar\"},{\"attributes\":{\"level\":\"glyph\",\"plot\":{\"id\":\"eb278a0d-dff4-46ee-893b-b1d2cdbf71e2\",\"subtype\":\"Figure\",\"type\":\"Plot\"},\"source\":{\"id\":\"98ebb469-d70d-48aa-ba7e-df92dd4d25e9\",\"type\":\"ColumnDataSource\"},\"text\":{\"field\":\"vals\"},\"text_align\":\"center\",\"text_baseline\":\"middle\",\"text_font_size\":{\"value\":\"8pt\"},\"x\":{\"field\":\"x\"},\"y\":{\"field\":\"y\"}},\"id\":\"842814b6-9c2e-4333-89ba-6e0c2b2022e6\",\"type\":\"LabelSet\"},{\"attributes\":{\"plot\":{\"id\":\"eb278a0d-dff4-46ee-893b-b1d2cdbf71e2\",\"subtype\":\"Figure\",\"type\":\"Plot\"}},\"id\":\"4b3c9264-bc4a-4713-be19-6c994845d54e\",\"type\":\"WheelZoomTool\"},{\"attributes\":{\"callback\":null,\"column_names\":[\"y\",\"x\",\"vals\"],\"data\":{\"vals\":[\"13_1696\",\"180_251\",\"23_226\",\"123_1561\",\"28_434\",\"9_887\",\"26_1414\",\"64_1575\",\"10_2206\",\"7_1868\"],\"x\":[135757320,135773319,135778464,135933921,136115507,136309239,136398174,136494186,136501840,136682274],\"y\":[501.0,184.0,83.0,500.0,289.0,395.0,499.0,500.0,603.0,602.0]}},\"id\":\"2d377bc1-d0df-475d-b025-fb741f11d586\",\"type\":\"ColumnDataSource\"},{\"attributes\":{\"callback\":null,\"column_names\":[\"y\",\"x\",\"vals\"],\"data\":{\"vals\":[\"RAB3GAP1\",\"ZRANB3\",\"R3HDM1\",\"UBXN4\",\"LCT\",\"MCM6\",\"DARS\"],\"x\":[135869057.0,136122878.0,136385961.0,136520911.0,136570082.5,136615621.5,136703738.0],\"y\":[660.0,660.0,660.0,660.0,660.0,660.0,660.0]}},\"id\":\"98ebb469-d70d-48aa-ba7e-df92dd4d25e9\",\"type\":\"ColumnDataSource\"}],\"root_ids\":[\"eb278a0d-dff4-46ee-893b-b1d2cdbf71e2\"]},\"title\":\"Bokeh Application\",\"version\":\"0.12.0\"}};\n",
       "            var render_items = [{\"docid\":\"da1bea41-5ba2-4564-8ab5-ea1a955ab65a\",\"elementid\":\"d4f02508-b6ca-4fd2-a67d-7ca6244592f2\",\"modelid\":\"eb278a0d-dff4-46ee-893b-b1d2cdbf71e2\",\"notebook_comms_target\":\"4ffd6e8c-81f1-49f2-8928-a85ad8116a33\"}];\n",
       "            \n",
       "            Bokeh.embed.embed_items(docs_json, render_items);\n",
       "        });\n",
       "      },\n",
       "      function(Bokeh) {\n",
       "      }\n",
       "    ];\n",
       "  \n",
       "    function run_inline_js() {\n",
       "      for (var i = 0; i < inline_js.length; i++) {\n",
       "        inline_js[i](window.Bokeh);\n",
       "      }\n",
       "    }\n",
       "  \n",
       "    if (window._bokeh_is_loading === 0) {\n",
       "      console.log(\"Bokeh: BokehJS loaded, going straight to plotting\");\n",
       "      run_inline_js();\n",
       "    } else {\n",
       "      load_libs(js_urls, function() {\n",
       "        console.log(\"Bokeh: BokehJS plotting callback run at\", now());\n",
       "        run_inline_js();\n",
       "      });\n",
       "    }\n",
       "  }(this));\n",
       "</script>"
      ]
     },
     "metadata": {},
     "output_type": "display_data"
    },
    {
     "data": {
      "text/html": [
       "<p><code>&lt;Bokeh Notebook handle for <strong>In[32]</strong>&gt;</code></p>"
      ],
      "text/plain": [
       "<bokeh.io._CommsHandle at 0x7f4364cc2510>"
      ]
     },
     "execution_count": 32,
     "metadata": {},
     "output_type": "execute_result"
    }
   ],
   "source": [
    "plt_obj = dm.superset_yes_no([dm.di_26_1414, dm.di_13_1696, dm.di_123_1561, dm.di_180_251], [dm.di_5_588], min_match=0.5)\n",
    "plt = plt_obj.do_plot()\n",
    "am_180_251_26_1414_not_5_588 = plt_obj.plot_context.yes_allele_mask\n",
    "show(plt)"
   ]
  },
  {
   "cell_type": "code",
   "execution_count": 33,
   "metadata": {
    "collapsed": false
   },
   "outputs": [
    {
     "data": {
      "text/html": [
       "<table>\n",
       "<thead><tr><th style=\"text-align:center\">index</th><th style=\"text-align:center\">first</th><th style=\"text-align:center\">length</th><th style=\"text-align:center\">snps</th><th style=\"text-align:center\" colspan=2>alleles</th><th style=\"text-align:center\" colspan=2>matches</th><th style=\"text-align:center\" colspan=2>afr</th><th style=\"text-align:center\" colspan=2>afx</th><th style=\"text-align:center\" colspan=2>amr</th><th style=\"text-align:center\" colspan=2>eas</th><th style=\"text-align:center\" colspan=2>eur</th><th style=\"text-align:center\" colspan=2>sas</th><th style=\"text-align:center\" colspan=2>sax</th></tr></thead>\n",
       "<tr class=\"even\"><td style=\"text-align: right;\">353921</td><td style=\"text-align: right;\">136,501,840</td><td style=\"text-align: right;\">53,819</td><td style=\"text-align: right;\">10</td><td style=\"text-align: right;\">2206</td><td style=\"text-align: right;\">0.00</td><td style=\"text-align: right;\">1</td><td style=\"text-align: right;\">1.00</td><td style=\"text-align: right;\">1</td><td style=\"text-align: right;\">7.58</td><td style=\"text-align: right;\">0</td><td style=\"text-align: right;\">0.00</td><td style=\"text-align: right;\">0</td><td style=\"text-align: right;\">0.00</td><td style=\"text-align: right;\">0</td><td style=\"text-align: right;\">0.00</td><td style=\"text-align: right;\">0</td><td style=\"text-align: right;\">0.00</td><td style=\"text-align: right;\">0</td><td style=\"text-align: right;\">0.00</td><td style=\"text-align: right;\">0</td><td style=\"text-align: right;\">0.00</td></tr>\n",
       "<tr><td style=\"text-align: right;\">354170</td><td style=\"text-align: right;\">136,682,274</td><td style=\"text-align: right;\">93,624</td><td style=\"text-align: right;\">7</td><td style=\"text-align: right;\">1868</td><td style=\"text-align: right;\">0.00</td><td style=\"text-align: right;\">1</td><td style=\"text-align: right;\">1.00</td><td style=\"text-align: right;\">1</td><td style=\"text-align: right;\">7.58</td><td style=\"text-align: right;\">0</td><td style=\"text-align: right;\">0.00</td><td style=\"text-align: right;\">0</td><td style=\"text-align: right;\">0.00</td><td style=\"text-align: right;\">0</td><td style=\"text-align: right;\">0.00</td><td style=\"text-align: right;\">0</td><td style=\"text-align: right;\">0.00</td><td style=\"text-align: right;\">0</td><td style=\"text-align: right;\">0.00</td><td style=\"text-align: right;\">0</td><td style=\"text-align: right;\">0.00</td></tr>\n",
       "<tr class=\"even\"><td style=\"text-align: right;\">353240</td><td style=\"text-align: right;\">135,757,320</td><td style=\"text-align: right;\">20,184</td><td style=\"text-align: right;\">13</td><td style=\"text-align: right;\">1696</td><td style=\"text-align: right;\">0.00</td><td style=\"text-align: right;\">1</td><td style=\"text-align: right;\">1.00</td><td style=\"text-align: right;\">1</td><td style=\"text-align: right;\">7.58</td><td style=\"text-align: right;\">0</td><td style=\"text-align: right;\">0.00</td><td style=\"text-align: right;\">0</td><td style=\"text-align: right;\">0.00</td><td style=\"text-align: right;\">0</td><td style=\"text-align: right;\">0.00</td><td style=\"text-align: right;\">0</td><td style=\"text-align: right;\">0.00</td><td style=\"text-align: right;\">0</td><td style=\"text-align: right;\">0.00</td><td style=\"text-align: right;\">0</td><td style=\"text-align: right;\">0.00</td></tr>\n",
       "<tr><td style=\"text-align: right;\">353901</td><td style=\"text-align: right;\">136,494,186</td><td style=\"text-align: right;\">271,765</td><td style=\"text-align: right;\">64</td><td style=\"text-align: right;\">1575</td><td style=\"text-align: right;\">0.00</td><td style=\"text-align: right;\">1</td><td style=\"text-align: right;\">1.00</td><td style=\"text-align: right;\">1</td><td style=\"text-align: right;\">7.58</td><td style=\"text-align: right;\">0</td><td style=\"text-align: right;\">0.00</td><td style=\"text-align: right;\">0</td><td style=\"text-align: right;\">0.00</td><td style=\"text-align: right;\">0</td><td style=\"text-align: right;\">0.00</td><td style=\"text-align: right;\">0</td><td style=\"text-align: right;\">0.00</td><td style=\"text-align: right;\">0</td><td style=\"text-align: right;\">0.00</td><td style=\"text-align: right;\">0</td><td style=\"text-align: right;\">0.00</td></tr>\n",
       "<tr class=\"even\"><td style=\"text-align: right;\">353478</td><td style=\"text-align: right;\">135,933,921</td><td style=\"text-align: right;\">434,642</td><td style=\"text-align: right;\">123</td><td style=\"text-align: right;\">1561</td><td style=\"text-align: right;\">0.00</td><td style=\"text-align: right;\">1</td><td style=\"text-align: right;\">1.00</td><td style=\"text-align: right;\">1</td><td style=\"text-align: right;\">7.58</td><td style=\"text-align: right;\">0</td><td style=\"text-align: right;\">0.00</td><td style=\"text-align: right;\">0</td><td style=\"text-align: right;\">0.00</td><td style=\"text-align: right;\">0</td><td style=\"text-align: right;\">0.00</td><td style=\"text-align: right;\">0</td><td style=\"text-align: right;\">0.00</td><td style=\"text-align: right;\">0</td><td style=\"text-align: right;\">0.00</td><td style=\"text-align: right;\">0</td><td style=\"text-align: right;\">0.00</td></tr>\n",
       "<tr><td style=\"text-align: right;\">353797</td><td style=\"text-align: right;\">136,398,174</td><td style=\"text-align: right;\">75,924</td><td style=\"text-align: right;\">26</td><td style=\"text-align: right;\">1414</td><td style=\"text-align: right;\">0.00</td><td style=\"text-align: right;\">1</td><td style=\"text-align: right;\">1.00</td><td style=\"text-align: right;\">1</td><td style=\"text-align: right;\">7.58</td><td style=\"text-align: right;\">0</td><td style=\"text-align: right;\">0.00</td><td style=\"text-align: right;\">0</td><td style=\"text-align: right;\">0.00</td><td style=\"text-align: right;\">0</td><td style=\"text-align: right;\">0.00</td><td style=\"text-align: right;\">0</td><td style=\"text-align: right;\">0.00</td><td style=\"text-align: right;\">0</td><td style=\"text-align: right;\">0.00</td><td style=\"text-align: right;\">0</td><td style=\"text-align: right;\">0.00</td></tr>\n",
       "<tr class=\"even\"><td style=\"text-align: right;\">353729</td><td style=\"text-align: right;\">136,309,239</td><td style=\"text-align: right;\">52,321</td><td style=\"text-align: right;\">9</td><td style=\"text-align: right;\">887</td><td style=\"text-align: right;\">0.00</td><td style=\"text-align: right;\">1</td><td style=\"text-align: right;\">1.00</td><td style=\"text-align: right;\">1</td><td style=\"text-align: right;\">7.58</td><td style=\"text-align: right;\">0</td><td style=\"text-align: right;\">0.00</td><td style=\"text-align: right;\">0</td><td style=\"text-align: right;\">0.00</td><td style=\"text-align: right;\">0</td><td style=\"text-align: right;\">0.00</td><td style=\"text-align: right;\">0</td><td style=\"text-align: right;\">0.00</td><td style=\"text-align: right;\">0</td><td style=\"text-align: right;\">0.00</td><td style=\"text-align: right;\">0</td><td style=\"text-align: right;\">0.00</td></tr>\n",
       "<tr><td style=\"text-align: right;\">353614</td><td style=\"text-align: right;\">136,115,507</td><td style=\"text-align: right;\">269,773</td><td style=\"text-align: right;\">28</td><td style=\"text-align: right;\">434</td><td style=\"text-align: right;\">0.00</td><td style=\"text-align: right;\">1</td><td style=\"text-align: right;\">1.00</td><td style=\"text-align: right;\">1</td><td style=\"text-align: right;\">7.58</td><td style=\"text-align: right;\">0</td><td style=\"text-align: right;\">0.00</td><td style=\"text-align: right;\">0</td><td style=\"text-align: right;\">0.00</td><td style=\"text-align: right;\">0</td><td style=\"text-align: right;\">0.00</td><td style=\"text-align: right;\">0</td><td style=\"text-align: right;\">0.00</td><td style=\"text-align: right;\">0</td><td style=\"text-align: right;\">0.00</td><td style=\"text-align: right;\">0</td><td style=\"text-align: right;\">0.00</td></tr>\n",
       "<tr class=\"even\"><td style=\"text-align: right;\">353288</td><td style=\"text-align: right;\">135,773,319</td><td style=\"text-align: right;\">720,812</td><td style=\"text-align: right;\">180</td><td style=\"text-align: right;\">251</td><td style=\"text-align: right;\">0.00</td><td style=\"text-align: right;\">1</td><td style=\"text-align: right;\">1.00</td><td style=\"text-align: right;\">1</td><td style=\"text-align: right;\">7.58</td><td style=\"text-align: right;\">0</td><td style=\"text-align: right;\">0.00</td><td style=\"text-align: right;\">0</td><td style=\"text-align: right;\">0.00</td><td style=\"text-align: right;\">0</td><td style=\"text-align: right;\">0.00</td><td style=\"text-align: right;\">0</td><td style=\"text-align: right;\">0.00</td><td style=\"text-align: right;\">0</td><td style=\"text-align: right;\">0.00</td><td style=\"text-align: right;\">0</td><td style=\"text-align: right;\">0.00</td></tr>\n",
       "<tr><td style=\"text-align: right;\">353300</td><td style=\"text-align: right;\">135,778,464</td><td style=\"text-align: right;\">608,500</td><td style=\"text-align: right;\">23</td><td style=\"text-align: right;\">226</td><td style=\"text-align: right;\">0.00</td><td style=\"text-align: right;\">1</td><td style=\"text-align: right;\">1.00</td><td style=\"text-align: right;\">1</td><td style=\"text-align: right;\">7.58</td><td style=\"text-align: right;\">0</td><td style=\"text-align: right;\">0.00</td><td style=\"text-align: right;\">0</td><td style=\"text-align: right;\">0.00</td><td style=\"text-align: right;\">0</td><td style=\"text-align: right;\">0.00</td><td style=\"text-align: right;\">0</td><td style=\"text-align: right;\">0.00</td><td style=\"text-align: right;\">0</td><td style=\"text-align: right;\">0.00</td><td style=\"text-align: right;\">0</td><td style=\"text-align: right;\">0.00</td></tr>\n",
       "</table>"
      ],
      "text/plain": [
       "<IPython.core.display.HTML object>"
      ]
     },
     "execution_count": 33,
     "metadata": {},
     "output_type": "execute_result"
    }
   ],
   "source": [
    "HTML(plt_obj.get_html())"
   ]
  },
  {
   "cell_type": "code",
   "execution_count": 34,
   "metadata": {
    "collapsed": false
   },
   "outputs": [
    {
     "data": {
      "text/plain": [
       "array([1, 1, 1, 1, 1, 1, 1, 1, 1, 1, 1, 1, 1, 1, 1, 1, 1, 1, 1, 1, 1, 1, 1,\n",
       "       1, 1, 1, 1, 1, 1, 1, 1, 1, 1, 1, 1, 1, 1, 1, 1, 1, 1, 1, 1, 1, 1, 1,\n",
       "       1, 1, 1, 1, 1, 1, 1, 1, 1, 1, 1, 1, 1, 1, 1, 1, 1, 1, 1, 1, 1, 1, 1,\n",
       "       1, 1, 1, 1, 1, 1, 1, 1, 1, 1, 1, 1, 1, 1, 1, 1, 1, 1, 1, 1, 1, 1, 1,\n",
       "       1, 1, 1, 1, 1, 1, 1, 1, 1, 1, 1, 1, 1, 1, 1, 1, 1, 1, 1, 1, 1, 1, 1,\n",
       "       1, 1, 1, 1, 1, 1, 1, 1, 1, 1, 1, 1, 1, 1, 1, 1, 1, 1, 1, 1, 1, 1, 1,\n",
       "       1, 1, 1, 1, 1, 1, 1, 1, 1, 1, 1, 1, 1, 1, 1, 1, 1, 1, 1, 1, 1, 1, 1,\n",
       "       1, 1, 1, 1, 1, 1, 0, 0, 0, 0, 0, 0, 0, 0, 0, 0, 0, 0, 0])"
      ]
     },
     "execution_count": 34,
     "metadata": {},
     "output_type": "execute_result"
    }
   ],
   "source": [
    "sa_180_251 = snp_anal.series_anal_cls(dm.di_180_251, sm.series_data)\n",
    "sa_180_251.alleles_per_snp(am_180_251_26_1414_not_5_588)"
   ]
  },
  {
   "cell_type": "code",
   "execution_count": 35,
   "metadata": {
    "collapsed": false
   },
   "outputs": [
    {
     "data": {
      "text/plain": [
       "array([1, 1, 1, 1, 1, 1, 1, 1, 1, 1, 1, 1, 1, 1, 1, 1, 1, 1, 1, 1, 1, 1, 1,\n",
       "       1, 1, 1])"
      ]
     },
     "execution_count": 35,
     "metadata": {},
     "output_type": "execute_result"
    }
   ],
   "source": [
    "an.sa_26_1414.alleles_per_snp(am_180_251_26_1414_not_5_588)"
   ]
  },
  {
   "cell_type": "code",
   "execution_count": 36,
   "metadata": {
    "collapsed": false
   },
   "outputs": [
    {
     "data": {
      "text/html": [
       "\n",
       "\n",
       "    <div class=\"bk-root\">\n",
       "        <div class=\"plotdiv\" id=\"a7497c82-7e0d-47a3-9aca-d65fe5688b9c\"></div>\n",
       "    </div>\n",
       "<script type=\"text/javascript\">\n",
       "  \n",
       "  (function(global) {\n",
       "    function now() {\n",
       "      return new Date();\n",
       "    }\n",
       "  \n",
       "    if (typeof (window._bokeh_onload_callbacks) === \"undefined\") {\n",
       "      window._bokeh_onload_callbacks = [];\n",
       "    }\n",
       "  \n",
       "    function run_callbacks() {\n",
       "      window._bokeh_onload_callbacks.forEach(function(callback) { callback() });\n",
       "      delete window._bokeh_onload_callbacks\n",
       "      console.info(\"Bokeh: all callbacks have finished\");\n",
       "    }\n",
       "  \n",
       "    function load_libs(js_urls, callback) {\n",
       "      window._bokeh_onload_callbacks.push(callback);\n",
       "      if (window._bokeh_is_loading > 0) {\n",
       "        console.log(\"Bokeh: BokehJS is being loaded, scheduling callback at\", now());\n",
       "        return null;\n",
       "      }\n",
       "      if (js_urls == null || js_urls.length === 0) {\n",
       "        run_callbacks();\n",
       "        return null;\n",
       "      }\n",
       "      console.log(\"Bokeh: BokehJS not loaded, scheduling load and callback at\", now());\n",
       "      window._bokeh_is_loading = js_urls.length;\n",
       "      for (var i = 0; i < js_urls.length; i++) {\n",
       "        var url = js_urls[i];\n",
       "        var s = document.createElement('script');\n",
       "        s.src = url;\n",
       "        s.async = false;\n",
       "        s.onreadystatechange = s.onload = function() {\n",
       "          window._bokeh_is_loading--;\n",
       "          if (window._bokeh_is_loading === 0) {\n",
       "            console.log(\"Bokeh: all BokehJS libraries loaded\");\n",
       "            run_callbacks()\n",
       "          }\n",
       "        };\n",
       "        s.onerror = function() {\n",
       "          console.warn(\"failed to load library \" + url);\n",
       "        };\n",
       "        console.log(\"Bokeh: injecting script tag for BokehJS library: \", url);\n",
       "        document.getElementsByTagName(\"head\")[0].appendChild(s);\n",
       "      }\n",
       "    };var element = document.getElementById(\"a7497c82-7e0d-47a3-9aca-d65fe5688b9c\");\n",
       "    if (element == null) {\n",
       "      console.log(\"Bokeh: ERROR: autoload.js configured with elementid 'a7497c82-7e0d-47a3-9aca-d65fe5688b9c' but no matching script tag was found. \")\n",
       "      return false;\n",
       "    }\n",
       "  \n",
       "    var js_urls = [];\n",
       "  \n",
       "    var inline_js = [\n",
       "      function(Bokeh) {\n",
       "        Bokeh.$(function() {\n",
       "            var docs_json = {\"27cb41c1-0140-433d-935a-53f3123a4aab\":{\"roots\":{\"references\":[{\"attributes\":{\"bottom\":{\"field\":\"bottom\"},\"fill_alpha\":{\"value\":0.1},\"fill_color\":{\"value\":\"#1f77b4\"},\"left\":{\"field\":\"left\"},\"line_alpha\":{\"value\":0.1},\"line_color\":{\"value\":\"#1f77b4\"},\"right\":{\"field\":\"right\"},\"top\":{\"field\":\"top\"}},\"id\":\"82e9071e-6d42-4cb3-b8a5-b0b68b49ebcb\",\"type\":\"Quad\"},{\"attributes\":{\"overlay\":{\"id\":\"014d078b-fb8e-41d3-87df-6053e3bd46ec\",\"type\":\"BoxAnnotation\"},\"plot\":{\"id\":\"0d754de2-f148-4862-ae9c-113587fd7655\",\"subtype\":\"Figure\",\"type\":\"Plot\"}},\"id\":\"81f953e3-96c9-4e9b-8c7c-90c55be24023\",\"type\":\"BoxZoomTool\"},{\"attributes\":{\"bottom\":{\"field\":\"bottom\"},\"fill_color\":{\"value\":\"white\"},\"left\":{\"field\":\"left\"},\"right\":{\"field\":\"right\"},\"top\":{\"field\":\"top\"}},\"id\":\"1e7743ba-7baa-44f1-9664-5ec20f9de541\",\"type\":\"Quad\"},{\"attributes\":{\"line_color\":{\"field\":\"line_color\"},\"xs\":{\"field\":\"xs\"},\"ys\":{\"field\":\"ys\"}},\"id\":\"0a978899-f312-49eb-83f8-42b9e009db79\",\"type\":\"MultiLine\"},{\"attributes\":{},\"id\":\"fdbee642-e953-4c0f-a603-558b896a5ef0\",\"type\":\"ToolEvents\"},{\"attributes\":{\"line_alpha\":{\"value\":0.1},\"line_color\":{\"value\":\"#1f77b4\"},\"xs\":{\"field\":\"xs\"},\"ys\":{\"field\":\"ys\"}},\"id\":\"7e318d7d-3dff-406c-9e63-1ef6f8be00b9\",\"type\":\"MultiLine\"},{\"attributes\":{\"dimension\":1,\"plot\":{\"id\":\"0d754de2-f148-4862-ae9c-113587fd7655\",\"subtype\":\"Figure\",\"type\":\"Plot\"},\"ticker\":{\"id\":\"ecfd0a4f-5edd-49d9-9ce5-bf2a5a472385\",\"type\":\"BasicTicker\"}},\"id\":\"c2dc56a0-775b-4bea-be83-31605f2a5f85\",\"type\":\"Grid\"},{\"attributes\":{\"callback\":null,\"column_names\":[\"y\",\"x\",\"vals\"],\"data\":{\"vals\":[\"RAB3GAP1\",\"ZRANB3\",\"R3HDM1\",\"UBXN4\",\"LCT\",\"MCM6\",\"DARS\"],\"x\":[135869057.0,136122878.0,136385961.0,136520911.0,136570082.5,136615621.5,136703738.0],\"y\":[460.0,460.0,460.0,460.0,460.0,460.0,460.0]}},\"id\":\"e4f5d0c4-83fe-4801-914d-2bb2226d2468\",\"type\":\"ColumnDataSource\"},{\"attributes\":{\"callback\":null,\"end\":500},\"id\":\"058d1edc-1149-48f2-abf7-dafea14e1407\",\"type\":\"Range1d\"},{\"attributes\":{\"callback\":null,\"end\":136786630,\"start\":135757320},\"id\":\"c2d0cd43-51ec-4709-871d-e9fc49aab98d\",\"type\":\"Range1d\"},{\"attributes\":{\"plot\":{\"id\":\"0d754de2-f148-4862-ae9c-113587fd7655\",\"subtype\":\"Figure\",\"type\":\"Plot\"}},\"id\":\"fef3d61e-3a9f-4860-837f-c3a9462798d5\",\"type\":\"ResetTool\"},{\"attributes\":{\"plot\":{\"id\":\"0d754de2-f148-4862-ae9c-113587fd7655\",\"subtype\":\"Figure\",\"type\":\"Plot\"}},\"id\":\"129903bc-3464-4897-a24d-655fa1fa07c7\",\"type\":\"SaveTool\"},{\"attributes\":{\"callback\":null,\"column_names\":[\"right\",\"bottom\",\"top\",\"left\",\"fill_color\"],\"data\":{\"bottom\":[250,50,250,150,250,250,350,350],\"fill_color\":[\"#808080\",\"#ff0000\",\"#c46161\",\"#ff0000\",\"#61c461\",\"#61c461\",\"#808080\",\"#61c461\"],\"left\":[135757320,135795222,135933921,136309239,136398174,136494186,136501840,136682274],\"right\":[135777504,136382700,136368563,136361560,136474098,136765951,136555659,136775898],\"top\":[296,82,295,190,294,295,398,397]}},\"id\":\"1cf96e51-24d8-4182-bb55-3377ae250bbc\",\"type\":\"ColumnDataSource\"},{\"attributes\":{\"below\":[{\"id\":\"7f172eb9-13a6-4222-af48-1e1fb07771b8\",\"type\":\"LinearAxis\"}],\"left\":[{\"id\":\"1f633500-ebe0-4f4e-b601-6df20c1b3de3\",\"type\":\"LinearAxis\"}],\"plot_height\":500,\"plot_width\":900,\"renderers\":[{\"id\":\"7f172eb9-13a6-4222-af48-1e1fb07771b8\",\"type\":\"LinearAxis\"},{\"id\":\"393f7fbb-11d2-4cfd-afa0-98604d65703f\",\"type\":\"Grid\"},{\"id\":\"1f633500-ebe0-4f4e-b601-6df20c1b3de3\",\"type\":\"LinearAxis\"},{\"id\":\"c2dc56a0-775b-4bea-be83-31605f2a5f85\",\"type\":\"Grid\"},{\"id\":\"014d078b-fb8e-41d3-87df-6053e3bd46ec\",\"type\":\"BoxAnnotation\"},{\"id\":\"9b3fe81a-78e9-4a83-b6bf-bacd65188b9a\",\"type\":\"GlyphRenderer\"},{\"id\":\"8627ef3c-e9b2-4350-893b-11efa38fa69e\",\"type\":\"GlyphRenderer\"},{\"id\":\"0736c217-c4f7-46dd-a4ac-8d5ee6e03478\",\"type\":\"LabelSet\"},{\"id\":\"6382ab45-a902-4ddd-93ba-eaafd68f7ee5\",\"type\":\"GlyphRenderer\"},{\"id\":\"8c488283-dac3-469e-a803-0d03ae267e46\",\"type\":\"LabelSet\"}],\"title\":{\"id\":\"c6d92c55-e48b-4c6f-a004-ed6d3e31a4bb\",\"type\":\"Title\"},\"tool_events\":{\"id\":\"fdbee642-e953-4c0f-a603-558b896a5ef0\",\"type\":\"ToolEvents\"},\"toolbar\":{\"id\":\"159542e3-3f28-4823-a62d-8f91df6b2dec\",\"type\":\"Toolbar\"},\"toolbar_location\":null,\"x_range\":{\"id\":\"c2d0cd43-51ec-4709-871d-e9fc49aab98d\",\"type\":\"Range1d\"},\"y_range\":{\"id\":\"058d1edc-1149-48f2-abf7-dafea14e1407\",\"type\":\"Range1d\"}},\"id\":\"0d754de2-f148-4862-ae9c-113587fd7655\",\"subtype\":\"Figure\",\"type\":\"Plot\"},{\"attributes\":{\"bottom\":{\"field\":\"bottom\"},\"fill_alpha\":{\"value\":0.1},\"fill_color\":{\"value\":\"#1f77b4\"},\"left\":{\"field\":\"left\"},\"line_alpha\":{\"value\":0.1},\"line_color\":{\"value\":\"#1f77b4\"},\"right\":{\"field\":\"right\"},\"top\":{\"field\":\"top\"}},\"id\":\"f18b16de-2d10-46f6-a298-ec348bd6a974\",\"type\":\"Quad\"},{\"attributes\":{},\"id\":\"1df591e0-a39c-4175-8ff2-ab0bf2f5903c\",\"type\":\"BasicTickFormatter\"},{\"attributes\":{\"formatter\":{\"id\":\"1df591e0-a39c-4175-8ff2-ab0bf2f5903c\",\"type\":\"BasicTickFormatter\"},\"plot\":{\"id\":\"0d754de2-f148-4862-ae9c-113587fd7655\",\"subtype\":\"Figure\",\"type\":\"Plot\"},\"ticker\":{\"id\":\"d0b71f44-f956-455b-b710-5aa927c410f7\",\"type\":\"BasicTicker\"}},\"id\":\"7f172eb9-13a6-4222-af48-1e1fb07771b8\",\"type\":\"LinearAxis\"},{\"attributes\":{\"level\":\"glyph\",\"plot\":{\"id\":\"0d754de2-f148-4862-ae9c-113587fd7655\",\"subtype\":\"Figure\",\"type\":\"Plot\"},\"source\":{\"id\":\"53767bfc-3c0f-42ab-abeb-c2068dbecbd7\",\"type\":\"ColumnDataSource\"},\"text\":{\"field\":\"vals\"},\"text_font_size\":{\"value\":\"9pt\"},\"text_font_style\":\"bold\",\"x\":{\"field\":\"x\"},\"y\":{\"field\":\"y\"}},\"id\":\"0736c217-c4f7-46dd-a4ac-8d5ee6e03478\",\"type\":\"LabelSet\"},{\"attributes\":{},\"id\":\"52a3afad-42fe-4d2d-a862-88d7084d68c3\",\"type\":\"BasicTickFormatter\"},{\"attributes\":{\"bottom\":{\"field\":\"bottom\"},\"fill_color\":{\"field\":\"fill_color\"},\"left\":{\"field\":\"left\"},\"line_color\":{\"value\":null},\"right\":{\"field\":\"right\"},\"top\":{\"field\":\"top\"}},\"id\":\"54b74860-62c6-44c4-b457-a2a7fc65f5bc\",\"type\":\"Quad\"},{\"attributes\":{\"callback\":null,\"column_names\":[\"y\",\"x\",\"vals\"],\"data\":{\"vals\":[\"13_1696\",\"67_329\",\"123_1561\",\"9_887\",\"26_1414\",\"64_1575\",\"10_2206\",\"7_1868\"],\"x\":[135757320,135795222,135933921,136309239,136398174,136494186,136501840,136682274],\"y\":[301.0,87.0,300.0,195.0,299.0,300.0,403.0,402.0]}},\"id\":\"53767bfc-3c0f-42ab-abeb-c2068dbecbd7\",\"type\":\"ColumnDataSource\"},{\"attributes\":{\"plot\":null,\"text\":null},\"id\":\"c6d92c55-e48b-4c6f-a004-ed6d3e31a4bb\",\"type\":\"Title\"},{\"attributes\":{\"bottom_units\":\"screen\",\"fill_alpha\":{\"value\":0.5},\"fill_color\":{\"value\":\"lightgrey\"},\"left_units\":\"screen\",\"level\":\"overlay\",\"line_alpha\":{\"value\":1.0},\"line_color\":{\"value\":\"black\"},\"line_dash\":[4,4],\"line_width\":{\"value\":2},\"plot\":null,\"render_mode\":\"css\",\"right_units\":\"screen\",\"top_units\":\"screen\"},\"id\":\"014d078b-fb8e-41d3-87df-6053e3bd46ec\",\"type\":\"BoxAnnotation\"},{\"attributes\":{\"level\":\"glyph\",\"plot\":{\"id\":\"0d754de2-f148-4862-ae9c-113587fd7655\",\"subtype\":\"Figure\",\"type\":\"Plot\"},\"source\":{\"id\":\"e4f5d0c4-83fe-4801-914d-2bb2226d2468\",\"type\":\"ColumnDataSource\"},\"text\":{\"field\":\"vals\"},\"text_align\":\"center\",\"text_baseline\":\"middle\",\"text_font_size\":{\"value\":\"8pt\"},\"x\":{\"field\":\"x\"},\"y\":{\"field\":\"y\"}},\"id\":\"8c488283-dac3-469e-a803-0d03ae267e46\",\"type\":\"LabelSet\"},{\"attributes\":{},\"id\":\"d0b71f44-f956-455b-b710-5aa927c410f7\",\"type\":\"BasicTicker\"},{\"attributes\":{},\"id\":\"ecfd0a4f-5edd-49d9-9ce5-bf2a5a472385\",\"type\":\"BasicTicker\"},{\"attributes\":{\"plot\":{\"id\":\"0d754de2-f148-4862-ae9c-113587fd7655\",\"subtype\":\"Figure\",\"type\":\"Plot\"}},\"id\":\"878bbb11-0f8d-4eac-bb37-e5d75ea7bc98\",\"type\":\"HelpTool\"},{\"attributes\":{\"data_source\":{\"id\":\"1df3a734-e91e-4055-85d1-e08df47c4807\",\"type\":\"ColumnDataSource\"},\"glyph\":{\"id\":\"0a978899-f312-49eb-83f8-42b9e009db79\",\"type\":\"MultiLine\"},\"hover_glyph\":null,\"nonselection_glyph\":{\"id\":\"7e318d7d-3dff-406c-9e63-1ef6f8be00b9\",\"type\":\"MultiLine\"},\"selection_glyph\":null},\"id\":\"8627ef3c-e9b2-4350-893b-11efa38fa69e\",\"type\":\"GlyphRenderer\"},{\"attributes\":{\"data_source\":{\"id\":\"1cf96e51-24d8-4182-bb55-3377ae250bbc\",\"type\":\"ColumnDataSource\"},\"glyph\":{\"id\":\"54b74860-62c6-44c4-b457-a2a7fc65f5bc\",\"type\":\"Quad\"},\"hover_glyph\":null,\"nonselection_glyph\":{\"id\":\"82e9071e-6d42-4cb3-b8a5-b0b68b49ebcb\",\"type\":\"Quad\"},\"selection_glyph\":null},\"id\":\"9b3fe81a-78e9-4a83-b6bf-bacd65188b9a\",\"type\":\"GlyphRenderer\"},{\"attributes\":{\"plot\":{\"id\":\"0d754de2-f148-4862-ae9c-113587fd7655\",\"subtype\":\"Figure\",\"type\":\"Plot\"},\"ticker\":{\"id\":\"d0b71f44-f956-455b-b710-5aa927c410f7\",\"type\":\"BasicTicker\"}},\"id\":\"393f7fbb-11d2-4cfd-afa0-98604d65703f\",\"type\":\"Grid\"},{\"attributes\":{\"data_source\":{\"id\":\"4b47ef88-0594-4dec-a102-98340c1ae995\",\"type\":\"ColumnDataSource\"},\"glyph\":{\"id\":\"1e7743ba-7baa-44f1-9664-5ec20f9de541\",\"type\":\"Quad\"},\"hover_glyph\":null,\"nonselection_glyph\":{\"id\":\"f18b16de-2d10-46f6-a298-ec348bd6a974\",\"type\":\"Quad\"},\"selection_glyph\":null},\"id\":\"6382ab45-a902-4ddd-93ba-eaafd68f7ee5\",\"type\":\"GlyphRenderer\"},{\"attributes\":{\"formatter\":{\"id\":\"52a3afad-42fe-4d2d-a862-88d7084d68c3\",\"type\":\"BasicTickFormatter\"},\"plot\":{\"id\":\"0d754de2-f148-4862-ae9c-113587fd7655\",\"subtype\":\"Figure\",\"type\":\"Plot\"},\"ticker\":{\"id\":\"ecfd0a4f-5edd-49d9-9ce5-bf2a5a472385\",\"type\":\"BasicTicker\"},\"visible\":null},\"id\":\"1f633500-ebe0-4f4e-b601-6df20c1b3de3\",\"type\":\"LinearAxis\"},{\"attributes\":{\"active_drag\":\"auto\",\"active_scroll\":\"auto\",\"active_tap\":\"auto\",\"tools\":[{\"id\":\"883175d9-d286-4126-a57b-32047a1cac4b\",\"type\":\"PanTool\"},{\"id\":\"41f40357-63d2-44fd-8624-06abbd8107b7\",\"type\":\"WheelZoomTool\"},{\"id\":\"81f953e3-96c9-4e9b-8c7c-90c55be24023\",\"type\":\"BoxZoomTool\"},{\"id\":\"129903bc-3464-4897-a24d-655fa1fa07c7\",\"type\":\"SaveTool\"},{\"id\":\"fef3d61e-3a9f-4860-837f-c3a9462798d5\",\"type\":\"ResetTool\"},{\"id\":\"878bbb11-0f8d-4eac-bb37-e5d75ea7bc98\",\"type\":\"HelpTool\"}]},\"id\":\"159542e3-3f28-4823-a62d-8f91df6b2dec\",\"type\":\"Toolbar\"},{\"attributes\":{\"callback\":null,\"column_names\":[\"xs\",\"ys\",\"line_color\"],\"data\":{\"line_color\":[\"black\",\"black\",\"black\",\"black\",\"black\",\"black\",\"black\",\"black\",\"black\",\"black\",\"black\",\"black\",\"black\",\"black\",\"black\",\"black\",\"black\",\"black\",\"black\",\"black\",\"black\",\"black\",\"black\",\"black\",\"black\",\"black\",\"black\",\"black\",\"black\",\"black\",\"black\",\"black\",\"black\",\"black\",\"black\",\"black\",\"black\",\"black\",\"black\",\"black\",\"black\",\"black\",\"black\",\"black\",\"black\",\"black\",\"black\",\"black\",\"black\",\"black\",\"black\",\"black\",\"black\",\"black\",\"black\",\"black\",\"black\",\"black\",\"black\",\"black\",\"black\",\"black\",\"black\",\"black\",\"black\",\"black\",\"black\",\"black\",\"black\",\"black\",\"black\",\"black\",\"black\",\"black\",\"black\",\"black\",\"black\",\"black\",\"black\",\"black\",\"black\",\"black\",\"black\",\"black\",\"black\",\"black\",\"black\",\"black\",\"black\",\"black\",\"black\",\"black\",\"black\",\"black\",\"black\",\"black\",\"black\",\"black\",\"black\",\"black\",\"black\",\"black\",\"black\",\"black\",\"black\",\"black\",\"black\",\"black\",\"black\",\"black\",\"black\",\"black\",\"black\",\"black\",\"black\",\"black\",\"black\",\"black\",\"black\",\"black\",\"black\",\"black\",\"black\",\"black\",\"black\",\"black\",\"black\",\"black\",\"black\",\"black\",\"black\",\"black\",\"black\",\"black\",\"black\",\"black\",\"black\",\"black\",\"black\",\"black\",\"black\",\"black\",\"black\",\"black\",\"black\",\"black\",\"black\",\"black\",\"black\",\"black\",\"black\",\"black\",\"black\",\"black\",\"black\",\"black\",\"black\",\"black\",\"black\",\"black\",\"black\",\"black\",\"black\",\"black\",\"black\",\"black\",\"black\",\"black\",\"black\",\"black\",\"black\",\"black\",\"black\",\"black\",\"black\",\"black\",\"black\",\"black\",\"black\",\"black\",\"black\",\"black\",\"black\",\"black\",\"black\",\"black\",\"black\",\"black\",\"black\",\"black\",\"black\",\"black\",\"black\",\"black\",\"black\",\"black\",\"black\",\"black\",\"black\",\"black\",\"black\",\"black\",\"black\",\"black\",\"black\",\"black\",\"black\",\"black\",\"black\",\"black\",\"black\",\"black\",\"black\",\"black\",\"black\",\"black\",\"black\",\"black\",\"black\",\"black\",\"black\",\"black\",\"black\",\"black\",\"black\",\"black\",\"black\",\"black\",\"black\",\"black\",\"black\",\"black\",\"black\",\"black\",\"black\",\"black\",\"black\",\"black\",\"black\",\"black\",\"black\",\"black\",\"black\",\"black\",\"black\",\"black\",\"black\",\"black\",\"black\",\"black\",\"black\",\"black\",\"black\",\"black\",\"black\",\"black\",\"black\",\"black\",\"black\",\"black\",\"black\",\"black\",\"black\",\"black\",\"black\",\"black\",\"black\",\"black\",\"black\",\"black\",\"black\",\"black\",\"black\",\"black\",\"black\",\"black\",\"black\",\"black\",\"black\",\"black\",\"black\",\"black\",\"black\",\"black\",\"black\",\"black\",\"black\",\"black\",\"black\",\"black\",\"black\",\"black\",\"black\",\"black\",\"black\",\"black\",\"black\",\"black\",\"black\",\"black\",\"black\",\"black\",\"black\",\"black\",\"black\",\"black\",\"black\",\"black\",\"black\",\"black\",\"black\",\"black\",\"black\",\"black\",\"black\",\"black\",\"black\",\"black\",\"black\"],\"xs\":[[135757320,135757320],[135761078,135761078],[135761271,135761271],[135762344,135762344],[135762980,135762980],[135763280,135763280],[135768815,135768815],[135769093,135769093],[135769127,135769127],[135770940,135770940],[135770951,135770951],[135776728,135776728],[135777504,135777504],[135795222,135795222],[135920091,135920091],[136117271,136117271],[136122102,136122102],[136129859,136129859],[136135294,136135294],[136135451,136135451],[136144548,136144548],[136149219,136149219],[136152962,136152962],[136158473,136158473],[136160769,136160769],[136163389,136163389],[136164606,136164606],[136165624,136165624],[136165766,136165766],[136167030,136167030],[136170213,136170213],[136170889,136170889],[136170934,136170934],[136172028,136172028],[136175128,136175128],[136176923,136176923],[136180106,136180106],[136184333,136184333],[136188849,136188849],[136189408,136189408],[136189428,136189428],[136193318,136193318],[136196359,136196359],[136202820,136202820],[136203439,136203439],[136207999,136207999],[136213991,136213991],[136215173,136215173],[136220995,136220995],[136221233,136221233],[136223360,136223360],[136231459,136231459],[136233507,136233507],[136245723,136245723],[136246135,136246135],[136246877,136246877],[136251413,136251413],[136251832,136251832],[136252477,136252477],[136254415,136254415],[136255986,136255986],[136256216,136256216],[136256806,136256806],[136264344,136264344],[136269048,136269048],[136271210,136271210],[136276688,136276688],[136277343,136277343],[136286021,136286021],[136303450,136303450],[136317535,136317535],[136319030,136319030],[136326192,136326192],[136330558,136330558],[136332552,136332552],[136334724,136334724],[136337506,136337506],[136351111,136351111],[136351470,136351470],[136382700,136382700],[135933921,135933921],[135939824,135939824],[135941503,135941503],[135943900,135943900],[135945474,135945474],[135949715,135949715],[135956745,135956745],[135958693,135958693],[135967778,135967778],[135972093,135972093],[135973768,135973768],[135976498,135976498],[135978428,135978428],[135990031,135990031],[135992481,135992481],[135993925,135993925],[135994838,135994838],[136000253,136000253],[136003567,136003567],[136005477,136005477],[136005971,136005971],[136020977,136020977],[136027535,136027535],[136031588,136031588],[136032905,136032905],[136042480,136042480],[136043885,136043885],[136050471,136050471],[136052898,136052898],[136054815,136054815],[136056285,136056285],[136061560,136061560],[136063685,136063685],[136069060,136069060],[136072179,136072179],[136074233,136074233],[136080721,136080721],[136080822,136080822],[136088440,136088440],[136088643,136088643],[136092416,136092416],[136092869,136092869],[136094615,136094615],[136095505,136095505],[136095604,136095604],[136096766,136096766],[136097091,136097091],[136097394,136097394],[136100243,136100243],[136101823,136101823],[136106561,136106561],[136115501,136115501],[136122622,136122622],[136123014,136123014],[136123848,136123848],[136127100,136127100],[136127950,136127950],[136128630,136128630],[136129630,136129630],[136129791,136129791],[136131324,136131324],[136135383,136135383],[136135994,136135994],[136136224,136136224],[136136366,136136366],[136136440,136136440],[136138145,136138145],[136140568,136140568],[136145882,136145882],[136147948,136147948],[136148630,136148630],[136151485,136151485],[136152802,136152802],[136156753,136156753],[136157913,136157913],[136160902,136160902],[136165765,136165765],[136171649,136171649],[136173220,136173220],[136173735,136173735],[136174552,136174552],[136175692,136175692],[136176805,136176805],[136182484,136182484],[136183188,136183188],[136187252,136187252],[136187345,136187345],[136189475,136189475],[136197702,136197702],[136198435,136198435],[136202937,136202937],[136219999,136219999],[136221500,136221500],[136226626,136226626],[136228929,136228929],[136229598,136229598],[136238270,136238270],[136238346,136238346],[136240769,136240769],[136244171,136244171],[136249245,136249245],[136250285,136250285],[136254419,136254419],[136266241,136266241],[136267808,136267808],[136272074,136272074],[136277304,136277304],[136290607,136290607],[136290663,136290663],[136291310,136291310],[136296051,136296051],[136305392,136305392],[136306890,136306890],[136310803,136310803],[136324225,136324225],[136324465,136324465],[136327305,136327305],[136329618,136329618],[136333300,136333300],[136350089,136350089],[136354204,136354204],[136360455,136360455],[136368563,136368563],[136309239,136309239],[136322472,136322472],[136323787,136323787],[136323862,136323862],[136326765,136326765],[136329500,136329500],[136331657,136331657],[136345356,136345356],[136361560,136361560],[136398174,136398174],[136402117,136402117],[136403749,136403749],[136409073,136409073],[136410299,136410299],[136413359,136413359],[136416855,136416855],[136416941,136416941],[136418348,136418348],[136419961,136419961],[136420690,136420690],[136422171,136422171],[136428460,136428460],[136430866,136430866],[136432103,136432103],[136437507,136437507],[136439090,136439090],[136439517,136439517],[136444123,136444123],[136445526,136445526],[136445869,136445869],[136455600,136455600],[136456642,136456642],[136462441,136462441],[136470714,136470714],[136474098,136474098],[136494186,136494186],[136495300,136495300],[136495619,136495619],[136499166,136499166],[136502792,136502792],[136503157,136503157],[136507039,136507039],[136511575,136511575],[136518103,136518103],[136521514,136521514],[136522675,136522675],[136522941,136522941],[136526981,136526981],[136535410,136535410],[136539122,136539122],[136544197,136544197],[136550109,136550109],[136551694,136551694],[136553188,136553188],[136553639,136553639],[136554800,136554800],[136557319,136557319],[136558157,136558157],[136569848,136569848],[136575199,136575199],[136576577,136576577],[136578536,136578536],[136580287,136580287],[136583192,136583192],[136586958,136586958],[136588478,136588478],[136589612,136589612],[136591178,136591178],[136591859,136591859],[136593760,136593760],[136594158,136594158],[136603276,136603276],[136603366,136603366],[136608231,136608231],[136609975,136609975],[136610598,136610598],[136611624,136611624],[136613780,136613780],[136614255,136614255],[136614813,136614813],[136617524,136617524],[136622216,136622216],[136625602,136625602],[136629911,136629911],[136630757,136630757],[136630989,136630989],[136631031,136631031],[136633771,136633771],[136636324,136636324],[136638216,136638216],[136640233,136640233],[136641882,136641882],[136643555,136643555],[136658345,136658345],[136670298,136670298],[136685228,136685228],[136696138,136696138],[136740900,136740900],[136765951,136765951],[136501840,136501840],[136505546,136505546],[136516748,136516748],[136522710,136522710],[136528004,136528004],[136539513,136539513],[136544752,136544752],[136546110,136546110],[136553529,136553529],[136555659,136555659],[136682274,136682274],[136691825,136691825],[136698098,136698098],[136721603,136721603],[136721995,136721995],[136755684,136755684],[136775898,136775898]],\"ys\":[[250,296],[250,296],[250,296],[250,296],[250,296],[250,296],[250,296],[250,296],[250,296],[250,296],[250,296],[250,296],[250,296],[50,82],[50,82],[50,82],[50,82],[50,82],[50,82],[50,82],[50,82],[50,82],[50,82],[50,82],[50,82],[50,82],[50,82],[50,82],[50,82],[50,82],[50,82],[50,82],[50,82],[50,82],[50,82],[50,82],[50,82],[50,82],[50,82],[50,82],[50,82],[50,82],[50,82],[50,82],[50,82],[50,82],[50,82],[50,82],[50,82],[50,82],[50,82],[50,82],[50,82],[50,82],[50,82],[50,82],[50,82],[50,82],[50,82],[50,82],[50,82],[50,82],[50,82],[50,82],[50,82],[50,82],[50,82],[50,82],[50,82],[50,82],[50,82],[50,82],[50,82],[50,82],[50,82],[50,82],[50,82],[50,82],[50,82],[50,82],[250,295],[250,295],[250,295],[250,295],[250,295],[250,295],[250,295],[250,295],[250,295],[250,295],[250,295],[250,295],[250,295],[250,295],[250,295],[250,295],[250,295],[250,295],[250,295],[250,295],[250,295],[250,295],[250,295],[250,295],[250,295],[250,295],[250,295],[250,295],[250,295],[250,295],[250,295],[250,295],[250,295],[250,295],[250,295],[250,295],[250,295],[250,295],[250,295],[250,295],[250,295],[250,295],[250,295],[250,295],[250,295],[250,295],[250,295],[250,295],[250,295],[250,295],[250,295],[250,295],[250,295],[250,295],[250,295],[250,295],[250,295],[250,295],[250,295],[250,295],[250,295],[250,295],[250,295],[250,295],[250,295],[250,295],[250,295],[250,295],[250,295],[250,295],[250,295],[250,295],[250,295],[250,295],[250,295],[250,295],[250,295],[250,295],[250,295],[250,295],[250,295],[250,295],[250,295],[250,295],[250,295],[250,295],[250,295],[250,295],[250,295],[250,295],[250,295],[250,295],[250,295],[250,295],[250,295],[250,295],[250,295],[250,295],[250,295],[250,295],[250,295],[250,295],[250,295],[250,295],[250,295],[250,295],[250,295],[250,295],[250,295],[250,295],[250,295],[250,295],[250,295],[250,295],[250,295],[250,295],[250,295],[250,295],[250,295],[250,295],[250,295],[250,295],[250,295],[150,190],[150,190],[150,190],[150,190],[150,190],[150,190],[150,190],[150,190],[150,190],[250,294],[250,294],[250,294],[250,294],[250,294],[250,294],[250,294],[250,294],[250,294],[250,294],[250,294],[250,294],[250,294],[250,294],[250,294],[250,294],[250,294],[250,294],[250,294],[250,294],[250,294],[250,294],[250,294],[250,294],[250,294],[250,294],[250,295],[250,295],[250,295],[250,295],[250,295],[250,295],[250,295],[250,295],[250,295],[250,295],[250,295],[250,295],[250,295],[250,295],[250,295],[250,295],[250,295],[250,295],[250,295],[250,295],[250,295],[250,295],[250,295],[250,295],[250,295],[250,295],[250,295],[250,295],[250,295],[250,295],[250,295],[250,295],[250,295],[250,295],[250,295],[250,295],[250,295],[250,295],[250,295],[250,295],[250,295],[250,295],[250,295],[250,295],[250,295],[250,295],[250,295],[250,295],[250,295],[250,295],[250,295],[250,295],[250,295],[250,295],[250,295],[250,295],[250,295],[250,295],[250,295],[250,295],[250,295],[250,295],[250,295],[250,295],[350,398],[350,398],[350,398],[350,398],[350,398],[350,398],[350,398],[350,398],[350,398],[350,398],[350,397],[350,397],[350,397],[350,397],[350,397],[350,397],[350,397]]}},\"id\":\"1df3a734-e91e-4055-85d1-e08df47c4807\",\"type\":\"ColumnDataSource\"},{\"attributes\":{\"plot\":{\"id\":\"0d754de2-f148-4862-ae9c-113587fd7655\",\"subtype\":\"Figure\",\"type\":\"Plot\"}},\"id\":\"41f40357-63d2-44fd-8624-06abbd8107b7\",\"type\":\"WheelZoomTool\"},{\"attributes\":{\"plot\":{\"id\":\"0d754de2-f148-4862-ae9c-113587fd7655\",\"subtype\":\"Figure\",\"type\":\"Plot\"}},\"id\":\"883175d9-d286-4126-a57b-32047a1cac4b\",\"type\":\"PanTool\"},{\"attributes\":{\"callback\":null,\"column_names\":[\"right\",\"bottom\",\"top\",\"left\"],\"data\":{\"bottom\":[445,445,445,445,445,445,445],\"left\":[135809835,135957574,136289083,136499189,136545415,136597196,136664254],\"right\":[135928279,136288182,136482839,136542633,136594750,136634047,136743222],\"top\":[475,475,475,475,475,475,475]}},\"id\":\"4b47ef88-0594-4dec-a102-98340c1ae995\",\"type\":\"ColumnDataSource\"}],\"root_ids\":[\"0d754de2-f148-4862-ae9c-113587fd7655\"]},\"title\":\"Bokeh Application\",\"version\":\"0.12.0\"}};\n",
       "            var render_items = [{\"docid\":\"27cb41c1-0140-433d-935a-53f3123a4aab\",\"elementid\":\"a7497c82-7e0d-47a3-9aca-d65fe5688b9c\",\"modelid\":\"0d754de2-f148-4862-ae9c-113587fd7655\",\"notebook_comms_target\":\"a129c2e6-ffb1-459d-8092-65260511c523\"}];\n",
       "            \n",
       "            Bokeh.embed.embed_items(docs_json, render_items);\n",
       "        });\n",
       "      },\n",
       "      function(Bokeh) {\n",
       "      }\n",
       "    ];\n",
       "  \n",
       "    function run_inline_js() {\n",
       "      for (var i = 0; i < inline_js.length; i++) {\n",
       "        inline_js[i](window.Bokeh);\n",
       "      }\n",
       "    }\n",
       "  \n",
       "    if (window._bokeh_is_loading === 0) {\n",
       "      console.log(\"Bokeh: BokehJS loaded, going straight to plotting\");\n",
       "      run_inline_js();\n",
       "    } else {\n",
       "      load_libs(js_urls, function() {\n",
       "        console.log(\"Bokeh: BokehJS plotting callback run at\", now());\n",
       "        run_inline_js();\n",
       "      });\n",
       "    }\n",
       "  }(this));\n",
       "</script>"
      ]
     },
     "metadata": {},
     "output_type": "display_data"
    },
    {
     "data": {
      "text/html": [
       "<p><code>&lt;Bokeh Notebook handle for <strong>In[36]</strong>&gt;</code></p>"
      ],
      "text/plain": [
       "<bokeh.io._CommsHandle at 0x7f436500c490>"
      ]
     },
     "execution_count": 36,
     "metadata": {},
     "output_type": "execute_result"
    }
   ],
   "source": [
    "plt_obj = dm.superset_yes_no([dm.di_26_1414, dm.di_13_1696, dm.di_123_1561], [dm.di_180_251], min_match=0.5)\n",
    "plt = plt_obj.do_plot()\n",
    "show(plt)"
   ]
  },
  {
   "cell_type": "code",
   "execution_count": 37,
   "metadata": {
    "collapsed": false
   },
   "outputs": [
    {
     "data": {
      "text/html": [
       "<table>\n",
       "<thead><tr><th style=\"text-align:center\">index</th><th style=\"text-align:center\">first</th><th style=\"text-align:center\">length</th><th style=\"text-align:center\">snps</th><th style=\"text-align:center\" colspan=2>alleles</th><th style=\"text-align:center\" colspan=2>matches</th><th style=\"text-align:center\" colspan=2>afr</th><th style=\"text-align:center\" colspan=2>afx</th><th style=\"text-align:center\" colspan=2>amr</th><th style=\"text-align:center\" colspan=2>eas</th><th style=\"text-align:center\" colspan=2>eur</th><th style=\"text-align:center\" colspan=2>sas</th><th style=\"text-align:center\" colspan=2>sax</th></tr></thead>\n",
       "<tr class=\"even\"><td style=\"text-align: right;\">353921</td><td style=\"text-align: right;\">136,501,840</td><td style=\"text-align: right;\">53,819</td><td style=\"text-align: right;\">10</td><td style=\"text-align: right;\">2206</td><td style=\"text-align: right;\">0.00</td><td style=\"text-align: right;\">1</td><td style=\"text-align: right;\">1.00</td><td style=\"text-align: right;\">1</td><td style=\"text-align: right;\">5.82</td><td style=\"text-align: right;\">0</td><td style=\"text-align: right;\">0.00</td><td style=\"text-align: right;\">0</td><td style=\"text-align: right;\">0.00</td><td style=\"text-align: right;\">0</td><td style=\"text-align: right;\">0.00</td><td style=\"text-align: right;\">0</td><td style=\"text-align: right;\">0.00</td><td style=\"text-align: right;\">0</td><td style=\"text-align: right;\">0.00</td><td style=\"text-align: right;\">0</td><td style=\"text-align: right;\">0.00</td></tr>\n",
       "<tr><td style=\"text-align: right;\">354170</td><td style=\"text-align: right;\">136,682,274</td><td style=\"text-align: right;\">93,624</td><td style=\"text-align: right;\">7</td><td style=\"text-align: right;\">1868</td><td style=\"text-align: right;\">0.00</td><td style=\"text-align: right;\">1</td><td style=\"text-align: right;\">1.00</td><td style=\"text-align: right;\">1</td><td style=\"text-align: right;\">5.82</td><td style=\"text-align: right;\">0</td><td style=\"text-align: right;\">0.00</td><td style=\"text-align: right;\">0</td><td style=\"text-align: right;\">0.00</td><td style=\"text-align: right;\">0</td><td style=\"text-align: right;\">0.00</td><td style=\"text-align: right;\">0</td><td style=\"text-align: right;\">0.00</td><td style=\"text-align: right;\">0</td><td style=\"text-align: right;\">0.00</td><td style=\"text-align: right;\">0</td><td style=\"text-align: right;\">0.00</td></tr>\n",
       "<tr class=\"even\"><td style=\"text-align: right;\">353240</td><td style=\"text-align: right;\">135,757,320</td><td style=\"text-align: right;\">20,184</td><td style=\"text-align: right;\">13</td><td style=\"text-align: right;\">1696</td><td style=\"text-align: right;\">0.00</td><td style=\"text-align: right;\">1</td><td style=\"text-align: right;\">1.00</td><td style=\"text-align: right;\">1</td><td style=\"text-align: right;\">5.82</td><td style=\"text-align: right;\">0</td><td style=\"text-align: right;\">0.00</td><td style=\"text-align: right;\">0</td><td style=\"text-align: right;\">0.00</td><td style=\"text-align: right;\">0</td><td style=\"text-align: right;\">0.00</td><td style=\"text-align: right;\">0</td><td style=\"text-align: right;\">0.00</td><td style=\"text-align: right;\">0</td><td style=\"text-align: right;\">0.00</td><td style=\"text-align: right;\">0</td><td style=\"text-align: right;\">0.00</td></tr>\n",
       "<tr><td style=\"text-align: right;\">353901</td><td style=\"text-align: right;\">136,494,186</td><td style=\"text-align: right;\">271,765</td><td style=\"text-align: right;\">64</td><td style=\"text-align: right;\">1575</td><td style=\"text-align: right;\">0.00</td><td style=\"text-align: right;\">1</td><td style=\"text-align: right;\">1.00</td><td style=\"text-align: right;\">1</td><td style=\"text-align: right;\">5.82</td><td style=\"text-align: right;\">0</td><td style=\"text-align: right;\">0.00</td><td style=\"text-align: right;\">0</td><td style=\"text-align: right;\">0.00</td><td style=\"text-align: right;\">0</td><td style=\"text-align: right;\">0.00</td><td style=\"text-align: right;\">0</td><td style=\"text-align: right;\">0.00</td><td style=\"text-align: right;\">0</td><td style=\"text-align: right;\">0.00</td><td style=\"text-align: right;\">0</td><td style=\"text-align: right;\">0.00</td></tr>\n",
       "<tr class=\"even\"><td style=\"text-align: right;\">353478</td><td style=\"text-align: right;\">135,933,921</td><td style=\"text-align: right;\">434,642</td><td style=\"text-align: right;\">123</td><td style=\"text-align: right;\">1561</td><td style=\"text-align: right;\">0.00</td><td style=\"text-align: right;\">1</td><td style=\"text-align: right;\">1.00</td><td style=\"text-align: right;\">1</td><td style=\"text-align: right;\">5.82</td><td style=\"text-align: right;\">0</td><td style=\"text-align: right;\">0.00</td><td style=\"text-align: right;\">0</td><td style=\"text-align: right;\">0.00</td><td style=\"text-align: right;\">0</td><td style=\"text-align: right;\">0.00</td><td style=\"text-align: right;\">0</td><td style=\"text-align: right;\">0.00</td><td style=\"text-align: right;\">0</td><td style=\"text-align: right;\">0.00</td><td style=\"text-align: right;\">0</td><td style=\"text-align: right;\">0.00</td></tr>\n",
       "<tr><td style=\"text-align: right;\">353797</td><td style=\"text-align: right;\">136,398,174</td><td style=\"text-align: right;\">75,924</td><td style=\"text-align: right;\">26</td><td style=\"text-align: right;\">1414</td><td style=\"text-align: right;\">0.00</td><td style=\"text-align: right;\">1</td><td style=\"text-align: right;\">1.00</td><td style=\"text-align: right;\">1</td><td style=\"text-align: right;\">5.82</td><td style=\"text-align: right;\">0</td><td style=\"text-align: right;\">0.00</td><td style=\"text-align: right;\">0</td><td style=\"text-align: right;\">0.00</td><td style=\"text-align: right;\">0</td><td style=\"text-align: right;\">0.00</td><td style=\"text-align: right;\">0</td><td style=\"text-align: right;\">0.00</td><td style=\"text-align: right;\">0</td><td style=\"text-align: right;\">0.00</td><td style=\"text-align: right;\">0</td><td style=\"text-align: right;\">0.00</td></tr>\n",
       "<tr class=\"even\"><td style=\"text-align: right;\">353729</td><td style=\"text-align: right;\">136,309,239</td><td style=\"text-align: right;\">52,321</td><td style=\"text-align: right;\">9</td><td style=\"text-align: right;\">887</td><td style=\"text-align: right;\">0.00</td><td style=\"text-align: right;\">1</td><td style=\"text-align: right;\">1.00</td><td style=\"text-align: right;\">1</td><td style=\"text-align: right;\">5.82</td><td style=\"text-align: right;\">0</td><td style=\"text-align: right;\">0.00</td><td style=\"text-align: right;\">0</td><td style=\"text-align: right;\">0.00</td><td style=\"text-align: right;\">0</td><td style=\"text-align: right;\">0.00</td><td style=\"text-align: right;\">0</td><td style=\"text-align: right;\">0.00</td><td style=\"text-align: right;\">0</td><td style=\"text-align: right;\">0.00</td><td style=\"text-align: right;\">0</td><td style=\"text-align: right;\">0.00</td></tr>\n",
       "<tr><td style=\"text-align: right;\">353331</td><td style=\"text-align: right;\">135,795,222</td><td style=\"text-align: right;\">587,478</td><td style=\"text-align: right;\">67</td><td style=\"text-align: right;\">329</td><td style=\"text-align: right;\">0.00</td><td style=\"text-align: right;\">1</td><td style=\"text-align: right;\">1.00</td><td style=\"text-align: right;\">1</td><td style=\"text-align: right;\">5.82</td><td style=\"text-align: right;\">0</td><td style=\"text-align: right;\">0.00</td><td style=\"text-align: right;\">0</td><td style=\"text-align: right;\">0.00</td><td style=\"text-align: right;\">0</td><td style=\"text-align: right;\">0.00</td><td style=\"text-align: right;\">0</td><td style=\"text-align: right;\">0.00</td><td style=\"text-align: right;\">0</td><td style=\"text-align: right;\">0.00</td><td style=\"text-align: right;\">0</td><td style=\"text-align: right;\">0.00</td></tr>\n",
       "</table>"
      ],
      "text/plain": [
       "<IPython.core.display.HTML object>"
      ]
     },
     "execution_count": 37,
     "metadata": {},
     "output_type": "execute_result"
    }
   ],
   "source": [
    "HTML(plt_obj.get_html())"
   ]
  },
  {
   "cell_type": "markdown",
   "metadata": {},
   "source": [
    "<div style=\"width:700px\">\n",
    "<p>\n",
    "This plot shows data for 2 samples that have exprienced recombination events\n",
    "that left 13_1696 associated with 6_1503 and other series from the EUR tree.\n",
    "The 1000 genome data appears not to include any samples that express 13_1696,\n",
    "4_1699, and 26_1414 without 6_1503.  Given the subtantial number of samples\n",
    "that do express 13_1696 and 4_1699 without 6_1503, this result seems to indicate\n",
    "some kind of negative selection for that association.\n",
    "</div>"
   ]
  },
  {
   "cell_type": "code",
   "execution_count": 38,
   "metadata": {
    "collapsed": false
   },
   "outputs": [
    {
     "data": {
      "text/html": [
       "\n",
       "\n",
       "    <div class=\"bk-root\">\n",
       "        <div class=\"plotdiv\" id=\"25bcc8a4-2ff2-4b32-86b8-fa23b1bc9a71\"></div>\n",
       "    </div>\n",
       "<script type=\"text/javascript\">\n",
       "  \n",
       "  (function(global) {\n",
       "    function now() {\n",
       "      return new Date();\n",
       "    }\n",
       "  \n",
       "    if (typeof (window._bokeh_onload_callbacks) === \"undefined\") {\n",
       "      window._bokeh_onload_callbacks = [];\n",
       "    }\n",
       "  \n",
       "    function run_callbacks() {\n",
       "      window._bokeh_onload_callbacks.forEach(function(callback) { callback() });\n",
       "      delete window._bokeh_onload_callbacks\n",
       "      console.info(\"Bokeh: all callbacks have finished\");\n",
       "    }\n",
       "  \n",
       "    function load_libs(js_urls, callback) {\n",
       "      window._bokeh_onload_callbacks.push(callback);\n",
       "      if (window._bokeh_is_loading > 0) {\n",
       "        console.log(\"Bokeh: BokehJS is being loaded, scheduling callback at\", now());\n",
       "        return null;\n",
       "      }\n",
       "      if (js_urls == null || js_urls.length === 0) {\n",
       "        run_callbacks();\n",
       "        return null;\n",
       "      }\n",
       "      console.log(\"Bokeh: BokehJS not loaded, scheduling load and callback at\", now());\n",
       "      window._bokeh_is_loading = js_urls.length;\n",
       "      for (var i = 0; i < js_urls.length; i++) {\n",
       "        var url = js_urls[i];\n",
       "        var s = document.createElement('script');\n",
       "        s.src = url;\n",
       "        s.async = false;\n",
       "        s.onreadystatechange = s.onload = function() {\n",
       "          window._bokeh_is_loading--;\n",
       "          if (window._bokeh_is_loading === 0) {\n",
       "            console.log(\"Bokeh: all BokehJS libraries loaded\");\n",
       "            run_callbacks()\n",
       "          }\n",
       "        };\n",
       "        s.onerror = function() {\n",
       "          console.warn(\"failed to load library \" + url);\n",
       "        };\n",
       "        console.log(\"Bokeh: injecting script tag for BokehJS library: \", url);\n",
       "        document.getElementsByTagName(\"head\")[0].appendChild(s);\n",
       "      }\n",
       "    };var element = document.getElementById(\"25bcc8a4-2ff2-4b32-86b8-fa23b1bc9a71\");\n",
       "    if (element == null) {\n",
       "      console.log(\"Bokeh: ERROR: autoload.js configured with elementid '25bcc8a4-2ff2-4b32-86b8-fa23b1bc9a71' but no matching script tag was found. \")\n",
       "      return false;\n",
       "    }\n",
       "  \n",
       "    var js_urls = [];\n",
       "  \n",
       "    var inline_js = [\n",
       "      function(Bokeh) {\n",
       "        Bokeh.$(function() {\n",
       "            var docs_json = {\"847721e0-42fe-4d93-9e9c-c6413d693b27\":{\"roots\":{\"references\":[{\"attributes\":{\"plot\":{\"id\":\"3fb33c04-924f-41ed-9c8c-6b0360971ca2\",\"subtype\":\"Figure\",\"type\":\"Plot\"}},\"id\":\"de098eb4-114f-43ec-ae38-626a9cab9d23\",\"type\":\"SaveTool\"},{\"attributes\":{\"callback\":null,\"end\":600},\"id\":\"bc2296b9-095a-4b1f-a9f6-8902af13ccaf\",\"type\":\"Range1d\"},{\"attributes\":{\"callback\":null,\"column_names\":[\"xs\",\"ys\",\"line_color\"],\"data\":{\"line_color\":[\"black\",\"black\",\"black\",\"black\",\"black\",\"black\",\"black\",\"black\",\"black\",\"black\",\"black\",\"black\",\"black\",\"black\",\"black\",\"black\",\"black\",\"black\",\"black\",\"black\",\"black\",\"black\",\"black\",\"black\",\"black\",\"black\",\"black\",\"black\",\"black\",\"black\",\"black\",\"black\",\"black\",\"black\",\"black\",\"black\",\"black\",\"black\",\"black\",\"black\",\"black\",\"black\",\"black\",\"black\",\"black\",\"black\",\"black\",\"black\",\"black\",\"black\",\"black\",\"black\",\"black\",\"black\",\"black\",\"black\",\"black\",\"black\",\"black\",\"black\",\"black\",\"black\",\"black\",\"black\",\"black\",\"black\",\"black\",\"black\",\"black\",\"black\",\"black\",\"black\",\"black\",\"black\",\"black\",\"black\",\"black\",\"black\",\"black\",\"black\",\"black\",\"black\",\"black\",\"black\",\"black\",\"black\",\"black\",\"black\",\"black\",\"black\",\"black\",\"black\",\"black\",\"black\",\"black\",\"black\",\"black\",\"black\",\"black\",\"black\",\"black\",\"black\",\"black\",\"black\",\"black\",\"black\",\"black\",\"black\",\"black\",\"black\",\"black\",\"black\",\"black\",\"black\",\"black\",\"black\",\"black\",\"black\",\"black\",\"black\",\"black\",\"black\",\"black\",\"black\",\"black\",\"black\",\"black\",\"black\",\"black\",\"black\",\"black\",\"black\",\"black\",\"black\",\"black\",\"black\",\"black\",\"black\",\"black\",\"black\",\"black\",\"black\",\"black\",\"black\",\"black\"],\"xs\":[[135757320,135757320],[135761078,135761078],[135761271,135761271],[135762344,135762344],[135762980,135762980],[135763280,135763280],[135768815,135768815],[135769093,135769093],[135769127,135769127],[135770940,135770940],[135770951,135770951],[135776728,135776728],[135777504,135777504],[135771974,135771974],[135859371,135859371],[135877562,135877562],[136022798,136022798],[136058820,136058820],[136140304,136140304],[135837906,135837906],[135907088,135907088],[135954797,135954797],[136138627,136138627],[136176540,136176540],[136328890,136328890],[136381348,136381348],[136429366,136429366],[136608646,136608646],[136616754,136616754],[136707982,136707982],[135915358,135915358],[135954405,135954405],[135995073,135995073],[135995079,135995079],[136092061,136092061],[136273578,136273578],[136322676,136322676],[136407479,136407479],[136398174,136398174],[136402117,136402117],[136403749,136403749],[136409073,136409073],[136410299,136410299],[136413359,136413359],[136416855,136416855],[136416941,136416941],[136418348,136418348],[136419961,136419961],[136420690,136420690],[136422171,136422171],[136428460,136428460],[136430866,136430866],[136432103,136432103],[136437507,136437507],[136439090,136439090],[136439517,136439517],[136444123,136444123],[136445526,136445526],[136445869,136445869],[136455600,136455600],[136456642,136456642],[136462441,136462441],[136470714,136470714],[136474098,136474098],[136494186,136494186],[136495300,136495300],[136495619,136495619],[136499166,136499166],[136502792,136502792],[136503157,136503157],[136507039,136507039],[136511575,136511575],[136518103,136518103],[136521514,136521514],[136522675,136522675],[136522941,136522941],[136526981,136526981],[136535410,136535410],[136539122,136539122],[136544197,136544197],[136550109,136550109],[136551694,136551694],[136553188,136553188],[136553639,136553639],[136554800,136554800],[136557319,136557319],[136558157,136558157],[136569848,136569848],[136575199,136575199],[136576577,136576577],[136578536,136578536],[136580287,136580287],[136583192,136583192],[136586958,136586958],[136588478,136588478],[136589612,136589612],[136591178,136591178],[136591859,136591859],[136593760,136593760],[136594158,136594158],[136603276,136603276],[136603366,136603366],[136608231,136608231],[136609975,136609975],[136610598,136610598],[136611624,136611624],[136613780,136613780],[136614255,136614255],[136614813,136614813],[136617524,136617524],[136622216,136622216],[136625602,136625602],[136629911,136629911],[136630757,136630757],[136630989,136630989],[136631031,136631031],[136633771,136633771],[136636324,136636324],[136638216,136638216],[136640233,136640233],[136641882,136641882],[136643555,136643555],[136658345,136658345],[136670298,136670298],[136685228,136685228],[136696138,136696138],[136740900,136740900],[136765951,136765951],[136501840,136501840],[136505546,136505546],[136516748,136516748],[136522710,136522710],[136528004,136528004],[136539513,136539513],[136544752,136544752],[136546110,136546110],[136553529,136553529],[136555659,136555659],[136682274,136682274],[136691825,136691825],[136698098,136698098],[136721603,136721603],[136721995,136721995],[136755684,136755684],[136775898,136775898]],\"ys\":[[350,396],[350,396],[350,396],[350,396],[350,396],[350,396],[350,396],[350,396],[350,396],[350,396],[350,396],[350,396],[350,396],[250,295],[250,295],[250,295],[250,295],[250,295],[250,295],[50,89],[50,89],[50,89],[50,89],[50,89],[50,89],[50,89],[50,89],[50,89],[50,89],[50,89],[350,396],[350,396],[350,396],[350,396],[150,190],[150,190],[150,190],[150,190],[250,294],[250,294],[250,294],[250,294],[250,294],[250,294],[250,294],[250,294],[250,294],[250,294],[250,294],[250,294],[250,294],[250,294],[250,294],[250,294],[250,294],[250,294],[250,294],[250,294],[250,294],[250,294],[250,294],[250,294],[250,294],[250,294],[350,395],[350,395],[350,395],[350,395],[350,395],[350,395],[350,395],[350,395],[350,395],[350,395],[350,395],[350,395],[350,395],[350,395],[350,395],[350,395],[350,395],[350,395],[350,395],[350,395],[350,395],[350,395],[350,395],[350,395],[350,395],[350,395],[350,395],[350,395],[350,395],[350,395],[350,395],[350,395],[350,395],[350,395],[350,395],[350,395],[350,395],[350,395],[350,395],[350,395],[350,395],[350,395],[350,395],[350,395],[350,395],[350,395],[350,395],[350,395],[350,395],[350,395],[350,395],[350,395],[350,395],[350,395],[350,395],[350,395],[350,395],[350,395],[350,395],[350,395],[350,395],[350,395],[350,395],[350,395],[450,498],[450,498],[450,498],[450,498],[450,498],[450,498],[450,498],[450,498],[450,498],[450,498],[450,497],[450,497],[450,497],[450,497],[450,497],[450,497],[450,497]]}},\"id\":\"bfc2ec90-1896-481d-8ae8-8c313ef7ce31\",\"type\":\"ColumnDataSource\"},{\"attributes\":{\"below\":[{\"id\":\"d239220d-08b5-4895-b0f3-f97e26a24b65\",\"type\":\"LinearAxis\"}],\"left\":[{\"id\":\"b5b0b7d3-3628-4d16-92cd-49a3da21ff34\",\"type\":\"LinearAxis\"}],\"plot_width\":900,\"renderers\":[{\"id\":\"d239220d-08b5-4895-b0f3-f97e26a24b65\",\"type\":\"LinearAxis\"},{\"id\":\"c363424f-187f-4017-b72b-4a9ff8803fa6\",\"type\":\"Grid\"},{\"id\":\"b5b0b7d3-3628-4d16-92cd-49a3da21ff34\",\"type\":\"LinearAxis\"},{\"id\":\"5ca4aa9d-e432-4b28-a552-4fc44488143e\",\"type\":\"Grid\"},{\"id\":\"125bdcca-4642-48e6-983f-92ab01729d3f\",\"type\":\"BoxAnnotation\"},{\"id\":\"630f4c7e-07b6-4467-a3aa-4f8ce55dfd06\",\"type\":\"GlyphRenderer\"},{\"id\":\"78b2f1f4-af8f-4254-b733-35c6089eba86\",\"type\":\"GlyphRenderer\"},{\"id\":\"d1a57274-4c29-4d39-9ac8-843a6373b04f\",\"type\":\"LabelSet\"},{\"id\":\"6c9d7883-d7df-4de8-8058-0c58e252eeb1\",\"type\":\"GlyphRenderer\"},{\"id\":\"a5898f99-1f42-4624-aadf-d59775955219\",\"type\":\"LabelSet\"}],\"title\":{\"id\":\"f6163337-8ed5-4c9d-8955-b0ebf522e2a0\",\"type\":\"Title\"},\"tool_events\":{\"id\":\"b1c5dd4f-d00e-4c01-ae9c-d5a2b0763d1f\",\"type\":\"ToolEvents\"},\"toolbar\":{\"id\":\"b7836d8e-f5ab-4dae-9c4a-b90ac5865367\",\"type\":\"Toolbar\"},\"toolbar_location\":null,\"x_range\":{\"id\":\"52dba994-3788-4d6e-a156-2260d8517c40\",\"type\":\"Range1d\"},\"y_range\":{\"id\":\"bc2296b9-095a-4b1f-a9f6-8902af13ccaf\",\"type\":\"Range1d\"}},\"id\":\"3fb33c04-924f-41ed-9c8c-6b0360971ca2\",\"subtype\":\"Figure\",\"type\":\"Plot\"},{\"attributes\":{\"overlay\":{\"id\":\"125bdcca-4642-48e6-983f-92ab01729d3f\",\"type\":\"BoxAnnotation\"},\"plot\":{\"id\":\"3fb33c04-924f-41ed-9c8c-6b0360971ca2\",\"subtype\":\"Figure\",\"type\":\"Plot\"}},\"id\":\"3b44651e-148e-4810-a110-69ac551e3a9d\",\"type\":\"BoxZoomTool\"},{\"attributes\":{\"plot\":null,\"text\":null},\"id\":\"f6163337-8ed5-4c9d-8955-b0ebf522e2a0\",\"type\":\"Title\"},{\"attributes\":{\"plot\":{\"id\":\"3fb33c04-924f-41ed-9c8c-6b0360971ca2\",\"subtype\":\"Figure\",\"type\":\"Plot\"}},\"id\":\"12b47933-a441-45fd-88d0-27bda30bf967\",\"type\":\"PanTool\"},{\"attributes\":{},\"id\":\"dac5d759-441d-4a42-80e9-f06b3065da07\",\"type\":\"BasicTickFormatter\"},{\"attributes\":{\"callback\":null,\"end\":136786630,\"start\":135757320},\"id\":\"52dba994-3788-4d6e-a156-2260d8517c40\",\"type\":\"Range1d\"},{\"attributes\":{\"formatter\":{\"id\":\"ab1a8efb-99eb-4bd2-a1e2-65d81471daf3\",\"type\":\"BasicTickFormatter\"},\"plot\":{\"id\":\"3fb33c04-924f-41ed-9c8c-6b0360971ca2\",\"subtype\":\"Figure\",\"type\":\"Plot\"},\"ticker\":{\"id\":\"58c9c9f1-90f5-4667-85d2-20db5104e345\",\"type\":\"BasicTicker\"},\"visible\":null},\"id\":\"b5b0b7d3-3628-4d16-92cd-49a3da21ff34\",\"type\":\"LinearAxis\"},{\"attributes\":{\"plot\":{\"id\":\"3fb33c04-924f-41ed-9c8c-6b0360971ca2\",\"subtype\":\"Figure\",\"type\":\"Plot\"}},\"id\":\"746c71a3-1a1a-45ce-9bc1-b6c3ea06e82d\",\"type\":\"ResetTool\"},{\"attributes\":{\"line_alpha\":{\"value\":0.1},\"line_color\":{\"value\":\"#1f77b4\"},\"xs\":{\"field\":\"xs\"},\"ys\":{\"field\":\"ys\"}},\"id\":\"fba1a3dd-54f9-4633-8140-1f0b53da1db4\",\"type\":\"MultiLine\"},{\"attributes\":{\"plot\":{\"id\":\"3fb33c04-924f-41ed-9c8c-6b0360971ca2\",\"subtype\":\"Figure\",\"type\":\"Plot\"}},\"id\":\"f2bba3cf-1bdd-44f9-9219-d793436d4d6f\",\"type\":\"HelpTool\"},{\"attributes\":{\"level\":\"glyph\",\"plot\":{\"id\":\"3fb33c04-924f-41ed-9c8c-6b0360971ca2\",\"subtype\":\"Figure\",\"type\":\"Plot\"},\"source\":{\"id\":\"8e43deda-e346-4ee4-95ea-6b86e0a115ce\",\"type\":\"ColumnDataSource\"},\"text\":{\"field\":\"vals\"},\"text_align\":\"center\",\"text_baseline\":\"middle\",\"text_font_size\":{\"value\":\"8pt\"},\"x\":{\"field\":\"x\"},\"y\":{\"field\":\"y\"}},\"id\":\"a5898f99-1f42-4624-aadf-d59775955219\",\"type\":\"LabelSet\"},{\"attributes\":{\"bottom_units\":\"screen\",\"fill_alpha\":{\"value\":0.5},\"fill_color\":{\"value\":\"lightgrey\"},\"left_units\":\"screen\",\"level\":\"overlay\",\"line_alpha\":{\"value\":1.0},\"line_color\":{\"value\":\"black\"},\"line_dash\":[4,4],\"line_width\":{\"value\":2},\"plot\":null,\"render_mode\":\"css\",\"right_units\":\"screen\",\"top_units\":\"screen\"},\"id\":\"125bdcca-4642-48e6-983f-92ab01729d3f\",\"type\":\"BoxAnnotation\"},{\"attributes\":{\"plot\":{\"id\":\"3fb33c04-924f-41ed-9c8c-6b0360971ca2\",\"subtype\":\"Figure\",\"type\":\"Plot\"}},\"id\":\"65a8233a-a661-4aaa-ba1a-91e7f518cb57\",\"type\":\"WheelZoomTool\"},{\"attributes\":{\"data_source\":{\"id\":\"a9269d6c-15f7-4b81-b0fd-06b3d9530974\",\"type\":\"ColumnDataSource\"},\"glyph\":{\"id\":\"c7241163-854c-46f3-8739-0ad2872e55cb\",\"type\":\"Quad\"},\"hover_glyph\":null,\"nonselection_glyph\":{\"id\":\"fc43321c-7ff8-46e6-b1eb-99cca09a83da\",\"type\":\"Quad\"},\"selection_glyph\":null},\"id\":\"6c9d7883-d7df-4de8-8058-0c58e252eeb1\",\"type\":\"GlyphRenderer\"},{\"attributes\":{},\"id\":\"58c9c9f1-90f5-4667-85d2-20db5104e345\",\"type\":\"BasicTicker\"},{\"attributes\":{\"callback\":null,\"column_names\":[\"y\",\"x\",\"vals\"],\"data\":{\"vals\":[\"13_1696\",\"6_1503\",\"11_765\",\"4_1699\",\"4_911\",\"26_1414\",\"64_1575\",\"10_2206\",\"7_1868\"],\"x\":[135757320,135771974,135837906,135915358,136092061,136398174,136494186,136501840,136682274],\"y\":[401.0,300.0,94.0,401.0,195.0,299.0,400.0,503.0,502.0]}},\"id\":\"96e88288-8db2-40a8-9229-4cf5c66637c2\",\"type\":\"ColumnDataSource\"},{\"attributes\":{\"line_color\":{\"field\":\"line_color\"},\"xs\":{\"field\":\"xs\"},\"ys\":{\"field\":\"ys\"}},\"id\":\"84eb48b1-88bc-4426-9331-eef26a6749a6\",\"type\":\"MultiLine\"},{\"attributes\":{\"callback\":null,\"column_names\":[\"y\",\"x\",\"vals\"],\"data\":{\"vals\":[\"RAB3GAP1\",\"ZRANB3\",\"R3HDM1\",\"UBXN4\",\"LCT\",\"MCM6\",\"DARS\"],\"x\":[135869057.0,136122878.0,136385961.0,136520911.0,136570082.5,136615621.5,136703738.0],\"y\":[560.0,560.0,560.0,560.0,560.0,560.0,560.0]}},\"id\":\"8e43deda-e346-4ee4-95ea-6b86e0a115ce\",\"type\":\"ColumnDataSource\"},{\"attributes\":{\"plot\":{\"id\":\"3fb33c04-924f-41ed-9c8c-6b0360971ca2\",\"subtype\":\"Figure\",\"type\":\"Plot\"},\"ticker\":{\"id\":\"696b2a22-ca40-4cc4-aa73-38f1838b6752\",\"type\":\"BasicTicker\"}},\"id\":\"c363424f-187f-4017-b72b-4a9ff8803fa6\",\"type\":\"Grid\"},{\"attributes\":{\"callback\":null,\"column_names\":[\"right\",\"bottom\",\"top\",\"left\",\"fill_color\"],\"data\":{\"bottom\":[350,250,50,350,150,250,350,450,450],\"fill_color\":[\"#808080\",\"#61c461\",\"#00ff00\",\"#61c461\",\"#00ff00\",\"#61c461\",\"#61c461\",\"#808080\",\"#61c461\"],\"left\":[135757320,135771974,135837906,135915358,136092061,136398174,136494186,136501840,136682274],\"right\":[135777504,136140304,136707982,135995079,136407479,136474098,136765951,136555659,136775898],\"top\":[396,295,89,396,190,294,395,498,497]}},\"id\":\"c3be09d1-427a-4952-9fdf-1cc2a679a482\",\"type\":\"ColumnDataSource\"},{\"attributes\":{\"level\":\"glyph\",\"plot\":{\"id\":\"3fb33c04-924f-41ed-9c8c-6b0360971ca2\",\"subtype\":\"Figure\",\"type\":\"Plot\"},\"source\":{\"id\":\"96e88288-8db2-40a8-9229-4cf5c66637c2\",\"type\":\"ColumnDataSource\"},\"text\":{\"field\":\"vals\"},\"text_font_size\":{\"value\":\"9pt\"},\"text_font_style\":\"bold\",\"x\":{\"field\":\"x\"},\"y\":{\"field\":\"y\"}},\"id\":\"d1a57274-4c29-4d39-9ac8-843a6373b04f\",\"type\":\"LabelSet\"},{\"attributes\":{\"data_source\":{\"id\":\"bfc2ec90-1896-481d-8ae8-8c313ef7ce31\",\"type\":\"ColumnDataSource\"},\"glyph\":{\"id\":\"84eb48b1-88bc-4426-9331-eef26a6749a6\",\"type\":\"MultiLine\"},\"hover_glyph\":null,\"nonselection_glyph\":{\"id\":\"fba1a3dd-54f9-4633-8140-1f0b53da1db4\",\"type\":\"MultiLine\"},\"selection_glyph\":null},\"id\":\"78b2f1f4-af8f-4254-b733-35c6089eba86\",\"type\":\"GlyphRenderer\"},{\"attributes\":{\"bottom\":{\"field\":\"bottom\"},\"fill_alpha\":{\"value\":0.1},\"fill_color\":{\"value\":\"#1f77b4\"},\"left\":{\"field\":\"left\"},\"line_alpha\":{\"value\":0.1},\"line_color\":{\"value\":\"#1f77b4\"},\"right\":{\"field\":\"right\"},\"top\":{\"field\":\"top\"}},\"id\":\"fc43321c-7ff8-46e6-b1eb-99cca09a83da\",\"type\":\"Quad\"},{\"attributes\":{},\"id\":\"ab1a8efb-99eb-4bd2-a1e2-65d81471daf3\",\"type\":\"BasicTickFormatter\"},{\"attributes\":{\"data_source\":{\"id\":\"c3be09d1-427a-4952-9fdf-1cc2a679a482\",\"type\":\"ColumnDataSource\"},\"glyph\":{\"id\":\"dbac4563-71e8-45e3-b3ca-5d652db16a9f\",\"type\":\"Quad\"},\"hover_glyph\":null,\"nonselection_glyph\":{\"id\":\"1d8f76cc-2eb2-4ed0-a92c-4f2ec329e532\",\"type\":\"Quad\"},\"selection_glyph\":null},\"id\":\"630f4c7e-07b6-4467-a3aa-4f8ce55dfd06\",\"type\":\"GlyphRenderer\"},{\"attributes\":{\"formatter\":{\"id\":\"dac5d759-441d-4a42-80e9-f06b3065da07\",\"type\":\"BasicTickFormatter\"},\"plot\":{\"id\":\"3fb33c04-924f-41ed-9c8c-6b0360971ca2\",\"subtype\":\"Figure\",\"type\":\"Plot\"},\"ticker\":{\"id\":\"696b2a22-ca40-4cc4-aa73-38f1838b6752\",\"type\":\"BasicTicker\"}},\"id\":\"d239220d-08b5-4895-b0f3-f97e26a24b65\",\"type\":\"LinearAxis\"},{\"attributes\":{},\"id\":\"696b2a22-ca40-4cc4-aa73-38f1838b6752\",\"type\":\"BasicTicker\"},{\"attributes\":{\"callback\":null,\"column_names\":[\"right\",\"bottom\",\"top\",\"left\"],\"data\":{\"bottom\":[545,545,545,545,545,545,545],\"left\":[135809835,135957574,136289083,136499189,136545415,136597196,136664254],\"right\":[135928279,136288182,136482839,136542633,136594750,136634047,136743222],\"top\":[575,575,575,575,575,575,575]}},\"id\":\"a9269d6c-15f7-4b81-b0fd-06b3d9530974\",\"type\":\"ColumnDataSource\"},{\"attributes\":{\"dimension\":1,\"plot\":{\"id\":\"3fb33c04-924f-41ed-9c8c-6b0360971ca2\",\"subtype\":\"Figure\",\"type\":\"Plot\"},\"ticker\":{\"id\":\"58c9c9f1-90f5-4667-85d2-20db5104e345\",\"type\":\"BasicTicker\"}},\"id\":\"5ca4aa9d-e432-4b28-a552-4fc44488143e\",\"type\":\"Grid\"},{\"attributes\":{\"bottom\":{\"field\":\"bottom\"},\"fill_alpha\":{\"value\":0.1},\"fill_color\":{\"value\":\"#1f77b4\"},\"left\":{\"field\":\"left\"},\"line_alpha\":{\"value\":0.1},\"line_color\":{\"value\":\"#1f77b4\"},\"right\":{\"field\":\"right\"},\"top\":{\"field\":\"top\"}},\"id\":\"1d8f76cc-2eb2-4ed0-a92c-4f2ec329e532\",\"type\":\"Quad\"},{\"attributes\":{\"active_drag\":\"auto\",\"active_scroll\":\"auto\",\"active_tap\":\"auto\",\"tools\":[{\"id\":\"12b47933-a441-45fd-88d0-27bda30bf967\",\"type\":\"PanTool\"},{\"id\":\"65a8233a-a661-4aaa-ba1a-91e7f518cb57\",\"type\":\"WheelZoomTool\"},{\"id\":\"3b44651e-148e-4810-a110-69ac551e3a9d\",\"type\":\"BoxZoomTool\"},{\"id\":\"de098eb4-114f-43ec-ae38-626a9cab9d23\",\"type\":\"SaveTool\"},{\"id\":\"746c71a3-1a1a-45ce-9bc1-b6c3ea06e82d\",\"type\":\"ResetTool\"},{\"id\":\"f2bba3cf-1bdd-44f9-9219-d793436d4d6f\",\"type\":\"HelpTool\"}]},\"id\":\"b7836d8e-f5ab-4dae-9c4a-b90ac5865367\",\"type\":\"Toolbar\"},{\"attributes\":{\"bottom\":{\"field\":\"bottom\"},\"fill_color\":{\"value\":\"white\"},\"left\":{\"field\":\"left\"},\"right\":{\"field\":\"right\"},\"top\":{\"field\":\"top\"}},\"id\":\"c7241163-854c-46f3-8739-0ad2872e55cb\",\"type\":\"Quad\"},{\"attributes\":{\"bottom\":{\"field\":\"bottom\"},\"fill_color\":{\"field\":\"fill_color\"},\"left\":{\"field\":\"left\"},\"line_color\":{\"value\":null},\"right\":{\"field\":\"right\"},\"top\":{\"field\":\"top\"}},\"id\":\"dbac4563-71e8-45e3-b3ca-5d652db16a9f\",\"type\":\"Quad\"},{\"attributes\":{},\"id\":\"b1c5dd4f-d00e-4c01-ae9c-d5a2b0763d1f\",\"type\":\"ToolEvents\"}],\"root_ids\":[\"3fb33c04-924f-41ed-9c8c-6b0360971ca2\"]},\"title\":\"Bokeh Application\",\"version\":\"0.12.0\"}};\n",
       "            var render_items = [{\"docid\":\"847721e0-42fe-4d93-9e9c-c6413d693b27\",\"elementid\":\"25bcc8a4-2ff2-4b32-86b8-fa23b1bc9a71\",\"modelid\":\"3fb33c04-924f-41ed-9c8c-6b0360971ca2\",\"notebook_comms_target\":\"19622d0f-8354-44d6-82d9-45fc48757cba\"}];\n",
       "            \n",
       "            Bokeh.embed.embed_items(docs_json, render_items);\n",
       "        });\n",
       "      },\n",
       "      function(Bokeh) {\n",
       "      }\n",
       "    ];\n",
       "  \n",
       "    function run_inline_js() {\n",
       "      for (var i = 0; i < inline_js.length; i++) {\n",
       "        inline_js[i](window.Bokeh);\n",
       "      }\n",
       "    }\n",
       "  \n",
       "    if (window._bokeh_is_loading === 0) {\n",
       "      console.log(\"Bokeh: BokehJS loaded, going straight to plotting\");\n",
       "      run_inline_js();\n",
       "    } else {\n",
       "      load_libs(js_urls, function() {\n",
       "        console.log(\"Bokeh: BokehJS plotting callback run at\", now());\n",
       "        run_inline_js();\n",
       "      });\n",
       "    }\n",
       "  }(this));\n",
       "</script>"
      ]
     },
     "metadata": {},
     "output_type": "display_data"
    },
    {
     "data": {
      "text/html": [
       "<p><code>&lt;Bokeh Notebook handle for <strong>In[38]</strong>&gt;</code></p>"
      ],
      "text/plain": [
       "<bokeh.io._CommsHandle at 0x7f436500c4d0>"
      ]
     },
     "execution_count": 38,
     "metadata": {},
     "output_type": "execute_result"
    }
   ],
   "source": [
    "plt_obj = dm.superset_yes_no([dm.di_26_1414, dm.di_13_1696, dm.di_4_1699], min_match=0.5)\n",
    "plt = plt_obj.do_plot()\n",
    "show(plt)"
   ]
  },
  {
   "cell_type": "code",
   "execution_count": 39,
   "metadata": {
    "collapsed": false
   },
   "outputs": [
    {
     "data": {
      "text/html": [
       "<table>\n",
       "<thead><tr><th style=\"text-align:center\">index</th><th style=\"text-align:center\">first</th><th style=\"text-align:center\">length</th><th style=\"text-align:center\">snps</th><th style=\"text-align:center\" colspan=2>alleles</th><th style=\"text-align:center\" colspan=2>matches</th><th style=\"text-align:center\" colspan=2>afr</th><th style=\"text-align:center\" colspan=2>afx</th><th style=\"text-align:center\" colspan=2>amr</th><th style=\"text-align:center\" colspan=2>eas</th><th style=\"text-align:center\" colspan=2>eur</th><th style=\"text-align:center\" colspan=2>sas</th><th style=\"text-align:center\" colspan=2>sax</th></tr></thead>\n",
       "<tr class=\"even\"><td style=\"text-align: right;\">353921</td><td style=\"text-align: right;\">136,501,840</td><td style=\"text-align: right;\">53,819</td><td style=\"text-align: right;\">10</td><td style=\"text-align: right;\">2206</td><td style=\"text-align: right;\">0.00</td><td style=\"text-align: right;\">2</td><td style=\"text-align: right;\">1.00</td><td style=\"text-align: right;\">0</td><td style=\"text-align: right;\">0.00</td><td style=\"text-align: right;\">0</td><td style=\"text-align: right;\">0.00</td><td style=\"text-align: right;\">1</td><td style=\"text-align: right;\">3.61</td><td style=\"text-align: right;\">0</td><td style=\"text-align: right;\">0.00</td><td style=\"text-align: right;\">0</td><td style=\"text-align: right;\">0.00</td><td style=\"text-align: right;\">1</td><td style=\"text-align: right;\">6.88</td><td style=\"text-align: right;\">0</td><td style=\"text-align: right;\">0.00</td></tr>\n",
       "<tr><td style=\"text-align: right;\">354170</td><td style=\"text-align: right;\">136,682,274</td><td style=\"text-align: right;\">93,624</td><td style=\"text-align: right;\">7</td><td style=\"text-align: right;\">1868</td><td style=\"text-align: right;\">0.00</td><td style=\"text-align: right;\">2</td><td style=\"text-align: right;\">1.00</td><td style=\"text-align: right;\">0</td><td style=\"text-align: right;\">0.00</td><td style=\"text-align: right;\">0</td><td style=\"text-align: right;\">0.00</td><td style=\"text-align: right;\">1</td><td style=\"text-align: right;\">3.61</td><td style=\"text-align: right;\">0</td><td style=\"text-align: right;\">0.00</td><td style=\"text-align: right;\">0</td><td style=\"text-align: right;\">0.00</td><td style=\"text-align: right;\">1</td><td style=\"text-align: right;\">6.88</td><td style=\"text-align: right;\">0</td><td style=\"text-align: right;\">0.00</td></tr>\n",
       "<tr class=\"even\"><td style=\"text-align: right;\">353462</td><td style=\"text-align: right;\">135,915,358</td><td style=\"text-align: right;\">79,721</td><td style=\"text-align: right;\">4</td><td style=\"text-align: right;\">1699</td><td style=\"text-align: right;\">0.00</td><td style=\"text-align: right;\">2</td><td style=\"text-align: right;\">1.00</td><td style=\"text-align: right;\">0</td><td style=\"text-align: right;\">0.00</td><td style=\"text-align: right;\">0</td><td style=\"text-align: right;\">0.00</td><td style=\"text-align: right;\">1</td><td style=\"text-align: right;\">3.61</td><td style=\"text-align: right;\">0</td><td style=\"text-align: right;\">0.00</td><td style=\"text-align: right;\">0</td><td style=\"text-align: right;\">0.00</td><td style=\"text-align: right;\">1</td><td style=\"text-align: right;\">6.88</td><td style=\"text-align: right;\">0</td><td style=\"text-align: right;\">0.00</td></tr>\n",
       "<tr><td style=\"text-align: right;\">353240</td><td style=\"text-align: right;\">135,757,320</td><td style=\"text-align: right;\">20,184</td><td style=\"text-align: right;\">13</td><td style=\"text-align: right;\">1696</td><td style=\"text-align: right;\">0.00</td><td style=\"text-align: right;\">2</td><td style=\"text-align: right;\">1.00</td><td style=\"text-align: right;\">0</td><td style=\"text-align: right;\">0.00</td><td style=\"text-align: right;\">0</td><td style=\"text-align: right;\">0.00</td><td style=\"text-align: right;\">1</td><td style=\"text-align: right;\">3.61</td><td style=\"text-align: right;\">0</td><td style=\"text-align: right;\">0.00</td><td style=\"text-align: right;\">0</td><td style=\"text-align: right;\">0.00</td><td style=\"text-align: right;\">1</td><td style=\"text-align: right;\">6.88</td><td style=\"text-align: right;\">0</td><td style=\"text-align: right;\">0.00</td></tr>\n",
       "<tr class=\"even\"><td style=\"text-align: right;\">353901</td><td style=\"text-align: right;\">136,494,186</td><td style=\"text-align: right;\">271,765</td><td style=\"text-align: right;\">64</td><td style=\"text-align: right;\">1575</td><td style=\"text-align: right;\">0.00</td><td style=\"text-align: right;\">2</td><td style=\"text-align: right;\">1.00</td><td style=\"text-align: right;\">0</td><td style=\"text-align: right;\">0.00</td><td style=\"text-align: right;\">0</td><td style=\"text-align: right;\">0.00</td><td style=\"text-align: right;\">1</td><td style=\"text-align: right;\">3.61</td><td style=\"text-align: right;\">0</td><td style=\"text-align: right;\">0.00</td><td style=\"text-align: right;\">0</td><td style=\"text-align: right;\">0.00</td><td style=\"text-align: right;\">1</td><td style=\"text-align: right;\">6.88</td><td style=\"text-align: right;\">0</td><td style=\"text-align: right;\">0.00</td></tr>\n",
       "<tr><td style=\"text-align: right;\">353283</td><td style=\"text-align: right;\">135,771,974</td><td style=\"text-align: right;\">368,330</td><td style=\"text-align: right;\">6</td><td style=\"text-align: right;\">1503</td><td style=\"text-align: right;\">0.00</td><td style=\"text-align: right;\">2</td><td style=\"text-align: right;\">1.00</td><td style=\"text-align: right;\">0</td><td style=\"text-align: right;\">0.00</td><td style=\"text-align: right;\">0</td><td style=\"text-align: right;\">0.00</td><td style=\"text-align: right;\">1</td><td style=\"text-align: right;\">3.61</td><td style=\"text-align: right;\">0</td><td style=\"text-align: right;\">0.00</td><td style=\"text-align: right;\">0</td><td style=\"text-align: right;\">0.00</td><td style=\"text-align: right;\">1</td><td style=\"text-align: right;\">6.88</td><td style=\"text-align: right;\">0</td><td style=\"text-align: right;\">0.00</td></tr>\n",
       "<tr class=\"even\"><td style=\"text-align: right;\">353797</td><td style=\"text-align: right;\">136,398,174</td><td style=\"text-align: right;\">75,924</td><td style=\"text-align: right;\">26</td><td style=\"text-align: right;\">1414</td><td style=\"text-align: right;\">0.00</td><td style=\"text-align: right;\">2</td><td style=\"text-align: right;\">1.00</td><td style=\"text-align: right;\">0</td><td style=\"text-align: right;\">0.00</td><td style=\"text-align: right;\">0</td><td style=\"text-align: right;\">0.00</td><td style=\"text-align: right;\">1</td><td style=\"text-align: right;\">3.61</td><td style=\"text-align: right;\">0</td><td style=\"text-align: right;\">0.00</td><td style=\"text-align: right;\">0</td><td style=\"text-align: right;\">0.00</td><td style=\"text-align: right;\">1</td><td style=\"text-align: right;\">6.88</td><td style=\"text-align: right;\">0</td><td style=\"text-align: right;\">0.00</td></tr>\n",
       "<tr><td style=\"text-align: right;\">353604</td><td style=\"text-align: right;\">136,092,061</td><td style=\"text-align: right;\">315,418</td><td style=\"text-align: right;\">4</td><td style=\"text-align: right;\">911</td><td style=\"text-align: right;\">0.00</td><td style=\"text-align: right;\">1</td><td style=\"text-align: right;\">0.50</td><td style=\"text-align: right;\">0</td><td style=\"text-align: right;\">0.00</td><td style=\"text-align: right;\">0</td><td style=\"text-align: right;\">0.00</td><td style=\"text-align: right;\">1</td><td style=\"text-align: right;\">7.22</td><td style=\"text-align: right;\">0</td><td style=\"text-align: right;\">0.00</td><td style=\"text-align: right;\">0</td><td style=\"text-align: right;\">0.00</td><td style=\"text-align: right;\">0</td><td style=\"text-align: right;\">0.00</td><td style=\"text-align: right;\">0</td><td style=\"text-align: right;\">0.00</td></tr>\n",
       "<tr class=\"even\"><td style=\"text-align: right;\">353380</td><td style=\"text-align: right;\">135,837,906</td><td style=\"text-align: right;\">870,076</td><td style=\"text-align: right;\">11</td><td style=\"text-align: right;\">765</td><td style=\"text-align: right;\">0.00</td><td style=\"text-align: right;\">1</td><td style=\"text-align: right;\">0.50</td><td style=\"text-align: right;\">0</td><td style=\"text-align: right;\">0.00</td><td style=\"text-align: right;\">0</td><td style=\"text-align: right;\">0.00</td><td style=\"text-align: right;\">1</td><td style=\"text-align: right;\">7.22</td><td style=\"text-align: right;\">0</td><td style=\"text-align: right;\">0.00</td><td style=\"text-align: right;\">0</td><td style=\"text-align: right;\">0.00</td><td style=\"text-align: right;\">0</td><td style=\"text-align: right;\">0.00</td><td style=\"text-align: right;\">0</td><td style=\"text-align: right;\">0.00</td></tr>\n",
       "</table>"
      ],
      "text/plain": [
       "<IPython.core.display.HTML object>"
      ]
     },
     "execution_count": 39,
     "metadata": {},
     "output_type": "execute_result"
    }
   ],
   "source": [
    "HTML(plt_obj.get_html())"
   ]
  },
  {
   "cell_type": "markdown",
   "metadata": {},
   "source": [
    "<div style=\"width:700px\">\n",
    "<p>\n",
    "This plot shows data for the 15 samples that express 26_1414 and\n",
    "13_1696 but not 123_1561 or 4_1699.  These samples include 9 that\n",
    "express 5_684.  The following plot shows the data for those 9 samples.\n",
    "</div>"
   ]
  },
  {
   "cell_type": "code",
   "execution_count": 40,
   "metadata": {
    "collapsed": false
   },
   "outputs": [
    {
     "data": {
      "text/html": [
       "\n",
       "\n",
       "    <div class=\"bk-root\">\n",
       "        <div class=\"plotdiv\" id=\"1ea9c166-9ef6-432f-b13a-c981029f96e3\"></div>\n",
       "    </div>\n",
       "<script type=\"text/javascript\">\n",
       "  \n",
       "  (function(global) {\n",
       "    function now() {\n",
       "      return new Date();\n",
       "    }\n",
       "  \n",
       "    if (typeof (window._bokeh_onload_callbacks) === \"undefined\") {\n",
       "      window._bokeh_onload_callbacks = [];\n",
       "    }\n",
       "  \n",
       "    function run_callbacks() {\n",
       "      window._bokeh_onload_callbacks.forEach(function(callback) { callback() });\n",
       "      delete window._bokeh_onload_callbacks\n",
       "      console.info(\"Bokeh: all callbacks have finished\");\n",
       "    }\n",
       "  \n",
       "    function load_libs(js_urls, callback) {\n",
       "      window._bokeh_onload_callbacks.push(callback);\n",
       "      if (window._bokeh_is_loading > 0) {\n",
       "        console.log(\"Bokeh: BokehJS is being loaded, scheduling callback at\", now());\n",
       "        return null;\n",
       "      }\n",
       "      if (js_urls == null || js_urls.length === 0) {\n",
       "        run_callbacks();\n",
       "        return null;\n",
       "      }\n",
       "      console.log(\"Bokeh: BokehJS not loaded, scheduling load and callback at\", now());\n",
       "      window._bokeh_is_loading = js_urls.length;\n",
       "      for (var i = 0; i < js_urls.length; i++) {\n",
       "        var url = js_urls[i];\n",
       "        var s = document.createElement('script');\n",
       "        s.src = url;\n",
       "        s.async = false;\n",
       "        s.onreadystatechange = s.onload = function() {\n",
       "          window._bokeh_is_loading--;\n",
       "          if (window._bokeh_is_loading === 0) {\n",
       "            console.log(\"Bokeh: all BokehJS libraries loaded\");\n",
       "            run_callbacks()\n",
       "          }\n",
       "        };\n",
       "        s.onerror = function() {\n",
       "          console.warn(\"failed to load library \" + url);\n",
       "        };\n",
       "        console.log(\"Bokeh: injecting script tag for BokehJS library: \", url);\n",
       "        document.getElementsByTagName(\"head\")[0].appendChild(s);\n",
       "      }\n",
       "    };var element = document.getElementById(\"1ea9c166-9ef6-432f-b13a-c981029f96e3\");\n",
       "    if (element == null) {\n",
       "      console.log(\"Bokeh: ERROR: autoload.js configured with elementid '1ea9c166-9ef6-432f-b13a-c981029f96e3' but no matching script tag was found. \")\n",
       "      return false;\n",
       "    }\n",
       "  \n",
       "    var js_urls = [];\n",
       "  \n",
       "    var inline_js = [\n",
       "      function(Bokeh) {\n",
       "        Bokeh.$(function() {\n",
       "            var docs_json = {\"da1d9b3a-61a0-45c0-aa9a-c03d295e2af6\":{\"roots\":{\"references\":[{\"attributes\":{\"below\":[{\"id\":\"69201e68-93bd-4376-be0b-81abd9228308\",\"type\":\"LinearAxis\"}],\"left\":[{\"id\":\"b7844439-fcd0-41ac-aad5-994a794e4be2\",\"type\":\"LinearAxis\"}],\"plot_height\":300,\"plot_width\":900,\"renderers\":[{\"id\":\"69201e68-93bd-4376-be0b-81abd9228308\",\"type\":\"LinearAxis\"},{\"id\":\"548f7ba8-4248-4519-8ee6-22072095cbe7\",\"type\":\"Grid\"},{\"id\":\"b7844439-fcd0-41ac-aad5-994a794e4be2\",\"type\":\"LinearAxis\"},{\"id\":\"8849d9e2-aec5-4c12-92e0-d179e60f3256\",\"type\":\"Grid\"},{\"id\":\"093a2a40-a4b2-46d4-9355-748d6e8371c8\",\"type\":\"BoxAnnotation\"},{\"id\":\"48dd8dbd-f2b7-4e07-8ad9-be428efb042f\",\"type\":\"GlyphRenderer\"},{\"id\":\"b2d50307-d07c-470c-8bc4-0faa99224ff6\",\"type\":\"GlyphRenderer\"},{\"id\":\"d052d9a9-f882-4ff7-af58-2d957f0a2c37\",\"type\":\"LabelSet\"},{\"id\":\"20b675c0-d29b-4d2e-b84d-347229ec212f\",\"type\":\"GlyphRenderer\"},{\"id\":\"dba642a1-8045-4848-bdcf-ec7efd0e57d5\",\"type\":\"LabelSet\"}],\"title\":{\"id\":\"c13417f3-9f40-40bf-a84b-1329ad7a8825\",\"type\":\"Title\"},\"tool_events\":{\"id\":\"0e26389f-0192-4217-8605-4b47455ed4a8\",\"type\":\"ToolEvents\"},\"toolbar\":{\"id\":\"515f662d-cac6-4e92-b634-210e67a78343\",\"type\":\"Toolbar\"},\"toolbar_location\":null,\"x_range\":{\"id\":\"1d080d18-e31e-4501-840f-19bef2b66ab5\",\"type\":\"Range1d\"},\"y_range\":{\"id\":\"3630453c-32b3-416c-932e-4be5d96c28cf\",\"type\":\"Range1d\"}},\"id\":\"6ea0b810-620c-40fe-9cdb-2aecf10d42f9\",\"subtype\":\"Figure\",\"type\":\"Plot\"},{\"attributes\":{\"plot\":{\"id\":\"6ea0b810-620c-40fe-9cdb-2aecf10d42f9\",\"subtype\":\"Figure\",\"type\":\"Plot\"}},\"id\":\"e05c3416-ce7f-46b6-808f-a04c9e1eff04\",\"type\":\"WheelZoomTool\"},{\"attributes\":{\"plot\":null,\"text\":null},\"id\":\"c13417f3-9f40-40bf-a84b-1329ad7a8825\",\"type\":\"Title\"},{\"attributes\":{\"bottom_units\":\"screen\",\"fill_alpha\":{\"value\":0.5},\"fill_color\":{\"value\":\"lightgrey\"},\"left_units\":\"screen\",\"level\":\"overlay\",\"line_alpha\":{\"value\":1.0},\"line_color\":{\"value\":\"black\"},\"line_dash\":[4,4],\"line_width\":{\"value\":2},\"plot\":null,\"render_mode\":\"css\",\"right_units\":\"screen\",\"top_units\":\"screen\"},\"id\":\"093a2a40-a4b2-46d4-9355-748d6e8371c8\",\"type\":\"BoxAnnotation\"},{\"attributes\":{\"bottom\":{\"field\":\"bottom\"},\"fill_color\":{\"field\":\"fill_color\"},\"left\":{\"field\":\"left\"},\"line_color\":{\"value\":null},\"right\":{\"field\":\"right\"},\"top\":{\"field\":\"top\"}},\"id\":\"c872b4df-bcb1-4d28-a231-9e3fcc50ea45\",\"type\":\"Quad\"},{\"attributes\":{\"callback\":null,\"column_names\":[\"y\",\"x\",\"vals\"],\"data\":{\"vals\":[\"RAB3GAP1\",\"ZRANB3\",\"R3HDM1\",\"UBXN4\",\"LCT\",\"MCM6\",\"DARS\"],\"x\":[135869057.0,136122878.0,136385961.0,136520911.0,136570082.5,136615621.5,136703738.0],\"y\":[260.0,260.0,260.0,260.0,260.0,260.0,260.0]}},\"id\":\"fdf1290b-a1a1-409f-9c3d-0759aac9461f\",\"type\":\"ColumnDataSource\"},{\"attributes\":{\"plot\":{\"id\":\"6ea0b810-620c-40fe-9cdb-2aecf10d42f9\",\"subtype\":\"Figure\",\"type\":\"Plot\"}},\"id\":\"68329a47-4df3-4a99-aa21-bd0d309c4ad9\",\"type\":\"ResetTool\"},{\"attributes\":{\"bottom\":{\"field\":\"bottom\"},\"fill_alpha\":{\"value\":0.1},\"fill_color\":{\"value\":\"#1f77b4\"},\"left\":{\"field\":\"left\"},\"line_alpha\":{\"value\":0.1},\"line_color\":{\"value\":\"#1f77b4\"},\"right\":{\"field\":\"right\"},\"top\":{\"field\":\"top\"}},\"id\":\"25916b58-522f-4188-90fb-0e4e740e26d8\",\"type\":\"Quad\"},{\"attributes\":{\"callback\":null,\"column_names\":[\"right\",\"bottom\",\"top\",\"left\"],\"data\":{\"bottom\":[245,245,245,245,245,245,245],\"left\":[135809835,135957574,136289083,136499189,136545415,136597196,136664254],\"right\":[135928279,136288182,136482839,136542633,136594750,136634047,136743222],\"top\":[275,275,275,275,275,275,275]}},\"id\":\"572beb78-2b07-44da-910c-5fbf601fa636\",\"type\":\"ColumnDataSource\"},{\"attributes\":{\"callback\":null,\"column_names\":[\"y\",\"x\",\"vals\"],\"data\":{\"vals\":[\"13_1696\",\"5_684\",\"26_1414\",\"64_1575\",\"10_2206\",\"7_1868\"],\"x\":[135757320,135959272,136398174,136494186,136501840,136682274],\"y\":[101.0,93.0,99.0,100.0,203.0,202.0]}},\"id\":\"58ac9450-720e-4cee-9c90-6430e553db06\",\"type\":\"ColumnDataSource\"},{\"attributes\":{\"data_source\":{\"id\":\"572beb78-2b07-44da-910c-5fbf601fa636\",\"type\":\"ColumnDataSource\"},\"glyph\":{\"id\":\"80c63421-1b54-4109-958d-300186e68bdd\",\"type\":\"Quad\"},\"hover_glyph\":null,\"nonselection_glyph\":{\"id\":\"25916b58-522f-4188-90fb-0e4e740e26d8\",\"type\":\"Quad\"},\"selection_glyph\":null},\"id\":\"20b675c0-d29b-4d2e-b84d-347229ec212f\",\"type\":\"GlyphRenderer\"},{\"attributes\":{\"plot\":{\"id\":\"6ea0b810-620c-40fe-9cdb-2aecf10d42f9\",\"subtype\":\"Figure\",\"type\":\"Plot\"}},\"id\":\"2b0abf0d-4c2b-48b2-a207-2081bea26928\",\"type\":\"PanTool\"},{\"attributes\":{},\"id\":\"befb69d7-4480-4f8f-b859-e69f0130ef63\",\"type\":\"BasicTicker\"},{\"attributes\":{\"overlay\":{\"id\":\"093a2a40-a4b2-46d4-9355-748d6e8371c8\",\"type\":\"BoxAnnotation\"},\"plot\":{\"id\":\"6ea0b810-620c-40fe-9cdb-2aecf10d42f9\",\"subtype\":\"Figure\",\"type\":\"Plot\"}},\"id\":\"7c974825-9806-4a20-b17b-bd1200dd2b31\",\"type\":\"BoxZoomTool\"},{\"attributes\":{\"line_alpha\":{\"value\":0.1},\"line_color\":{\"value\":\"#1f77b4\"},\"xs\":{\"field\":\"xs\"},\"ys\":{\"field\":\"ys\"}},\"id\":\"11a10827-473a-4cc2-924c-3ea9778ad46d\",\"type\":\"MultiLine\"},{\"attributes\":{\"level\":\"glyph\",\"plot\":{\"id\":\"6ea0b810-620c-40fe-9cdb-2aecf10d42f9\",\"subtype\":\"Figure\",\"type\":\"Plot\"},\"source\":{\"id\":\"58ac9450-720e-4cee-9c90-6430e553db06\",\"type\":\"ColumnDataSource\"},\"text\":{\"field\":\"vals\"},\"text_font_size\":{\"value\":\"9pt\"},\"text_font_style\":\"bold\",\"x\":{\"field\":\"x\"},\"y\":{\"field\":\"y\"}},\"id\":\"d052d9a9-f882-4ff7-af58-2d957f0a2c37\",\"type\":\"LabelSet\"},{\"attributes\":{},\"id\":\"2e4b7bdb-605a-4ac0-9912-ec54245a2289\",\"type\":\"BasicTicker\"},{\"attributes\":{\"formatter\":{\"id\":\"dc0994da-f5ad-4c31-a2b3-587d05c22483\",\"type\":\"BasicTickFormatter\"},\"plot\":{\"id\":\"6ea0b810-620c-40fe-9cdb-2aecf10d42f9\",\"subtype\":\"Figure\",\"type\":\"Plot\"},\"ticker\":{\"id\":\"2e4b7bdb-605a-4ac0-9912-ec54245a2289\",\"type\":\"BasicTicker\"},\"visible\":null},\"id\":\"b7844439-fcd0-41ac-aad5-994a794e4be2\",\"type\":\"LinearAxis\"},{\"attributes\":{\"plot\":{\"id\":\"6ea0b810-620c-40fe-9cdb-2aecf10d42f9\",\"subtype\":\"Figure\",\"type\":\"Plot\"}},\"id\":\"8c8a6b05-0850-4838-92a8-3911890980d2\",\"type\":\"SaveTool\"},{\"attributes\":{},\"id\":\"0e26389f-0192-4217-8605-4b47455ed4a8\",\"type\":\"ToolEvents\"},{\"attributes\":{},\"id\":\"5a119220-cb2c-4ac3-921f-1e34fdf8d5da\",\"type\":\"BasicTickFormatter\"},{\"attributes\":{\"formatter\":{\"id\":\"5a119220-cb2c-4ac3-921f-1e34fdf8d5da\",\"type\":\"BasicTickFormatter\"},\"plot\":{\"id\":\"6ea0b810-620c-40fe-9cdb-2aecf10d42f9\",\"subtype\":\"Figure\",\"type\":\"Plot\"},\"ticker\":{\"id\":\"befb69d7-4480-4f8f-b859-e69f0130ef63\",\"type\":\"BasicTicker\"}},\"id\":\"69201e68-93bd-4376-be0b-81abd9228308\",\"type\":\"LinearAxis\"},{\"attributes\":{\"callback\":null,\"column_names\":[\"xs\",\"ys\",\"line_color\"],\"data\":{\"line_color\":[\"black\",\"black\",\"black\",\"black\",\"black\",\"black\",\"black\",\"black\",\"black\",\"black\",\"black\",\"black\",\"black\",\"black\",\"black\",\"black\",\"black\",\"black\",\"black\",\"black\",\"black\",\"black\",\"black\",\"black\",\"black\",\"black\",\"black\",\"black\",\"black\",\"black\",\"black\",\"black\",\"black\",\"black\",\"black\",\"black\",\"black\",\"black\",\"black\",\"black\",\"black\",\"black\",\"black\",\"black\",\"black\",\"black\",\"black\",\"black\",\"black\",\"black\",\"black\",\"black\",\"black\",\"black\",\"black\",\"black\",\"black\",\"black\",\"black\",\"black\",\"black\",\"black\",\"black\",\"black\",\"black\",\"black\",\"black\",\"black\",\"black\",\"black\",\"black\",\"black\",\"black\",\"black\",\"black\",\"black\",\"black\",\"black\",\"black\",\"black\",\"black\",\"black\",\"black\",\"black\",\"black\",\"black\",\"black\",\"black\",\"black\",\"black\",\"black\",\"black\",\"black\",\"black\",\"black\",\"black\",\"black\",\"black\",\"black\",\"black\",\"black\",\"black\",\"black\",\"black\",\"black\",\"black\",\"black\",\"black\",\"black\",\"black\",\"black\",\"black\",\"black\",\"black\",\"black\",\"black\",\"black\",\"black\",\"black\",\"black\",\"black\",\"black\",\"black\",\"black\",\"black\"],\"xs\":[[135757320,135757320],[135761078,135761078],[135761271,135761271],[135762344,135762344],[135762980,135762980],[135763280,135763280],[135768815,135768815],[135769093,135769093],[135769127,135769127],[135770940,135770940],[135770951,135770951],[135776728,135776728],[135777504,135777504],[135959272,135959272],[136149550,136149550],[136164840,136164840],[136313885,136313885],[136375855,136375855],[136398174,136398174],[136402117,136402117],[136403749,136403749],[136409073,136409073],[136410299,136410299],[136413359,136413359],[136416855,136416855],[136416941,136416941],[136418348,136418348],[136419961,136419961],[136420690,136420690],[136422171,136422171],[136428460,136428460],[136430866,136430866],[136432103,136432103],[136437507,136437507],[136439090,136439090],[136439517,136439517],[136444123,136444123],[136445526,136445526],[136445869,136445869],[136455600,136455600],[136456642,136456642],[136462441,136462441],[136470714,136470714],[136474098,136474098],[136494186,136494186],[136495300,136495300],[136495619,136495619],[136499166,136499166],[136502792,136502792],[136503157,136503157],[136507039,136507039],[136511575,136511575],[136518103,136518103],[136521514,136521514],[136522675,136522675],[136522941,136522941],[136526981,136526981],[136535410,136535410],[136539122,136539122],[136544197,136544197],[136550109,136550109],[136551694,136551694],[136553188,136553188],[136553639,136553639],[136554800,136554800],[136557319,136557319],[136558157,136558157],[136569848,136569848],[136575199,136575199],[136576577,136576577],[136578536,136578536],[136580287,136580287],[136583192,136583192],[136586958,136586958],[136588478,136588478],[136589612,136589612],[136591178,136591178],[136591859,136591859],[136593760,136593760],[136594158,136594158],[136603276,136603276],[136603366,136603366],[136608231,136608231],[136609975,136609975],[136610598,136610598],[136611624,136611624],[136613780,136613780],[136614255,136614255],[136614813,136614813],[136617524,136617524],[136622216,136622216],[136625602,136625602],[136629911,136629911],[136630757,136630757],[136630989,136630989],[136631031,136631031],[136633771,136633771],[136636324,136636324],[136638216,136638216],[136640233,136640233],[136641882,136641882],[136643555,136643555],[136658345,136658345],[136670298,136670298],[136685228,136685228],[136696138,136696138],[136740900,136740900],[136765951,136765951],[136501840,136501840],[136505546,136505546],[136516748,136516748],[136522710,136522710],[136528004,136528004],[136539513,136539513],[136544752,136544752],[136546110,136546110],[136553529,136553529],[136555659,136555659],[136682274,136682274],[136691825,136691825],[136698098,136698098],[136721603,136721603],[136721995,136721995],[136755684,136755684],[136775898,136775898]],\"ys\":[[50,96],[50,96],[50,96],[50,96],[50,96],[50,96],[50,96],[50,96],[50,96],[50,96],[50,96],[50,96],[50,96],[50,88],[50,88],[50,88],[50,88],[50,88],[50,94],[50,94],[50,94],[50,94],[50,94],[50,94],[50,94],[50,94],[50,94],[50,94],[50,94],[50,94],[50,94],[50,94],[50,94],[50,94],[50,94],[50,94],[50,94],[50,94],[50,94],[50,94],[50,94],[50,94],[50,94],[50,94],[50,95],[50,95],[50,95],[50,95],[50,95],[50,95],[50,95],[50,95],[50,95],[50,95],[50,95],[50,95],[50,95],[50,95],[50,95],[50,95],[50,95],[50,95],[50,95],[50,95],[50,95],[50,95],[50,95],[50,95],[50,95],[50,95],[50,95],[50,95],[50,95],[50,95],[50,95],[50,95],[50,95],[50,95],[50,95],[50,95],[50,95],[50,95],[50,95],[50,95],[50,95],[50,95],[50,95],[50,95],[50,95],[50,95],[50,95],[50,95],[50,95],[50,95],[50,95],[50,95],[50,95],[50,95],[50,95],[50,95],[50,95],[50,95],[50,95],[50,95],[50,95],[50,95],[50,95],[50,95],[150,198],[150,198],[150,198],[150,198],[150,198],[150,198],[150,198],[150,198],[150,198],[150,198],[150,197],[150,197],[150,197],[150,197],[150,197],[150,197],[150,197]]}},\"id\":\"4f8d4328-a08f-452b-8066-cd335d6bde33\",\"type\":\"ColumnDataSource\"},{\"attributes\":{\"dimension\":1,\"plot\":{\"id\":\"6ea0b810-620c-40fe-9cdb-2aecf10d42f9\",\"subtype\":\"Figure\",\"type\":\"Plot\"},\"ticker\":{\"id\":\"2e4b7bdb-605a-4ac0-9912-ec54245a2289\",\"type\":\"BasicTicker\"}},\"id\":\"8849d9e2-aec5-4c12-92e0-d179e60f3256\",\"type\":\"Grid\"},{\"attributes\":{\"active_drag\":\"auto\",\"active_scroll\":\"auto\",\"active_tap\":\"auto\",\"tools\":[{\"id\":\"2b0abf0d-4c2b-48b2-a207-2081bea26928\",\"type\":\"PanTool\"},{\"id\":\"e05c3416-ce7f-46b6-808f-a04c9e1eff04\",\"type\":\"WheelZoomTool\"},{\"id\":\"7c974825-9806-4a20-b17b-bd1200dd2b31\",\"type\":\"BoxZoomTool\"},{\"id\":\"8c8a6b05-0850-4838-92a8-3911890980d2\",\"type\":\"SaveTool\"},{\"id\":\"68329a47-4df3-4a99-aa21-bd0d309c4ad9\",\"type\":\"ResetTool\"},{\"id\":\"8e705c96-7e1c-4a09-b2de-8e14443c4aa3\",\"type\":\"HelpTool\"}]},\"id\":\"515f662d-cac6-4e92-b634-210e67a78343\",\"type\":\"Toolbar\"},{\"attributes\":{\"level\":\"glyph\",\"plot\":{\"id\":\"6ea0b810-620c-40fe-9cdb-2aecf10d42f9\",\"subtype\":\"Figure\",\"type\":\"Plot\"},\"source\":{\"id\":\"fdf1290b-a1a1-409f-9c3d-0759aac9461f\",\"type\":\"ColumnDataSource\"},\"text\":{\"field\":\"vals\"},\"text_align\":\"center\",\"text_baseline\":\"middle\",\"text_font_size\":{\"value\":\"8pt\"},\"x\":{\"field\":\"x\"},\"y\":{\"field\":\"y\"}},\"id\":\"dba642a1-8045-4848-bdcf-ec7efd0e57d5\",\"type\":\"LabelSet\"},{\"attributes\":{\"callback\":null,\"end\":136786630,\"start\":135757320},\"id\":\"1d080d18-e31e-4501-840f-19bef2b66ab5\",\"type\":\"Range1d\"},{\"attributes\":{\"data_source\":{\"id\":\"dda17983-ddf1-4404-9057-80739501aad8\",\"type\":\"ColumnDataSource\"},\"glyph\":{\"id\":\"c872b4df-bcb1-4d28-a231-9e3fcc50ea45\",\"type\":\"Quad\"},\"hover_glyph\":null,\"nonselection_glyph\":{\"id\":\"07e0945a-5beb-485e-860b-3b88970a2bc7\",\"type\":\"Quad\"},\"selection_glyph\":null},\"id\":\"48dd8dbd-f2b7-4e07-8ad9-be428efb042f\",\"type\":\"GlyphRenderer\"},{\"attributes\":{\"plot\":{\"id\":\"6ea0b810-620c-40fe-9cdb-2aecf10d42f9\",\"subtype\":\"Figure\",\"type\":\"Plot\"}},\"id\":\"8e705c96-7e1c-4a09-b2de-8e14443c4aa3\",\"type\":\"HelpTool\"},{\"attributes\":{\"line_color\":{\"field\":\"line_color\"},\"xs\":{\"field\":\"xs\"},\"ys\":{\"field\":\"ys\"}},\"id\":\"62c8ca57-12f0-41c6-820f-afb812f06b8b\",\"type\":\"MultiLine\"},{\"attributes\":{\"plot\":{\"id\":\"6ea0b810-620c-40fe-9cdb-2aecf10d42f9\",\"subtype\":\"Figure\",\"type\":\"Plot\"},\"ticker\":{\"id\":\"befb69d7-4480-4f8f-b859-e69f0130ef63\",\"type\":\"BasicTicker\"}},\"id\":\"548f7ba8-4248-4519-8ee6-22072095cbe7\",\"type\":\"Grid\"},{\"attributes\":{\"bottom\":{\"field\":\"bottom\"},\"fill_color\":{\"value\":\"white\"},\"left\":{\"field\":\"left\"},\"right\":{\"field\":\"right\"},\"top\":{\"field\":\"top\"}},\"id\":\"80c63421-1b54-4109-958d-300186e68bdd\",\"type\":\"Quad\"},{\"attributes\":{\"callback\":null,\"column_names\":[\"right\",\"bottom\",\"top\",\"left\",\"fill_color\"],\"data\":{\"bottom\":[50,50,50,50,150,150],\"fill_color\":[\"#808080\",\"#ffff00\",\"#61c461\",\"#61c461\",\"#808080\",\"#61c461\"],\"left\":[135757320,135959272,136398174,136494186,136501840,136682274],\"right\":[135777504,136375855,136474098,136765951,136555659,136775898],\"top\":[96,88,94,95,198,197]}},\"id\":\"dda17983-ddf1-4404-9057-80739501aad8\",\"type\":\"ColumnDataSource\"},{\"attributes\":{\"callback\":null,\"end\":300},\"id\":\"3630453c-32b3-416c-932e-4be5d96c28cf\",\"type\":\"Range1d\"},{\"attributes\":{},\"id\":\"dc0994da-f5ad-4c31-a2b3-587d05c22483\",\"type\":\"BasicTickFormatter\"},{\"attributes\":{\"data_source\":{\"id\":\"4f8d4328-a08f-452b-8066-cd335d6bde33\",\"type\":\"ColumnDataSource\"},\"glyph\":{\"id\":\"62c8ca57-12f0-41c6-820f-afb812f06b8b\",\"type\":\"MultiLine\"},\"hover_glyph\":null,\"nonselection_glyph\":{\"id\":\"11a10827-473a-4cc2-924c-3ea9778ad46d\",\"type\":\"MultiLine\"},\"selection_glyph\":null},\"id\":\"b2d50307-d07c-470c-8bc4-0faa99224ff6\",\"type\":\"GlyphRenderer\"},{\"attributes\":{\"bottom\":{\"field\":\"bottom\"},\"fill_alpha\":{\"value\":0.1},\"fill_color\":{\"value\":\"#1f77b4\"},\"left\":{\"field\":\"left\"},\"line_alpha\":{\"value\":0.1},\"line_color\":{\"value\":\"#1f77b4\"},\"right\":{\"field\":\"right\"},\"top\":{\"field\":\"top\"}},\"id\":\"07e0945a-5beb-485e-860b-3b88970a2bc7\",\"type\":\"Quad\"}],\"root_ids\":[\"6ea0b810-620c-40fe-9cdb-2aecf10d42f9\"]},\"title\":\"Bokeh Application\",\"version\":\"0.12.0\"}};\n",
       "            var render_items = [{\"docid\":\"da1d9b3a-61a0-45c0-aa9a-c03d295e2af6\",\"elementid\":\"1ea9c166-9ef6-432f-b13a-c981029f96e3\",\"modelid\":\"6ea0b810-620c-40fe-9cdb-2aecf10d42f9\",\"notebook_comms_target\":\"ebfbf4c0-e257-4422-818f-b0d4201748cb\"}];\n",
       "            \n",
       "            Bokeh.embed.embed_items(docs_json, render_items);\n",
       "        });\n",
       "      },\n",
       "      function(Bokeh) {\n",
       "      }\n",
       "    ];\n",
       "  \n",
       "    function run_inline_js() {\n",
       "      for (var i = 0; i < inline_js.length; i++) {\n",
       "        inline_js[i](window.Bokeh);\n",
       "      }\n",
       "    }\n",
       "  \n",
       "    if (window._bokeh_is_loading === 0) {\n",
       "      console.log(\"Bokeh: BokehJS loaded, going straight to plotting\");\n",
       "      run_inline_js();\n",
       "    } else {\n",
       "      load_libs(js_urls, function() {\n",
       "        console.log(\"Bokeh: BokehJS plotting callback run at\", now());\n",
       "        run_inline_js();\n",
       "      });\n",
       "    }\n",
       "  }(this));\n",
       "</script>"
      ]
     },
     "metadata": {},
     "output_type": "display_data"
    },
    {
     "data": {
      "text/html": [
       "<p><code>&lt;Bokeh Notebook handle for <strong>In[40]</strong>&gt;</code></p>"
      ],
      "text/plain": [
       "<bokeh.io._CommsHandle at 0x7f436559ce90>"
      ]
     },
     "execution_count": 40,
     "metadata": {},
     "output_type": "execute_result"
    }
   ],
   "source": [
    "plt_obj = dm.superset_yes_no([dm.di_26_1414, dm.di_13_1696], [dm.di_123_1561, dm.di_4_1699], min_match=0.5)\n",
    "plt = plt_obj.do_plot()\n",
    "am = plt_obj.plot_context.yes_allele_mask\n",
    "show(plt)"
   ]
  },
  {
   "cell_type": "code",
   "execution_count": 41,
   "metadata": {
    "collapsed": false
   },
   "outputs": [
    {
     "data": {
      "text/html": [
       "<table>\n",
       "<thead><tr><th style=\"text-align:center\">index</th><th style=\"text-align:center\">first</th><th style=\"text-align:center\">length</th><th style=\"text-align:center\">snps</th><th style=\"text-align:center\" colspan=2>alleles</th><th style=\"text-align:center\" colspan=2>matches</th><th style=\"text-align:center\" colspan=2>afr</th><th style=\"text-align:center\" colspan=2>afx</th><th style=\"text-align:center\" colspan=2>amr</th><th style=\"text-align:center\" colspan=2>eas</th><th style=\"text-align:center\" colspan=2>eur</th><th style=\"text-align:center\" colspan=2>sas</th><th style=\"text-align:center\" colspan=2>sax</th></tr></thead>\n",
       "<tr class=\"even\"><td style=\"text-align: right;\">353921</td><td style=\"text-align: right;\">136,501,840</td><td style=\"text-align: right;\">53,819</td><td style=\"text-align: right;\">10</td><td style=\"text-align: right;\">2206</td><td style=\"text-align: right;\">0.01</td><td style=\"text-align: right;\">15</td><td style=\"text-align: right;\">1.00</td><td style=\"text-align: right;\">0</td><td style=\"text-align: right;\">0.00</td><td style=\"text-align: right;\">1</td><td style=\"text-align: right;\">1.53</td><td style=\"text-align: right;\">1</td><td style=\"text-align: right;\">0.59</td><td style=\"text-align: right;\">8</td><td style=\"text-align: right;\">1.92</td><td style=\"text-align: right;\">1</td><td style=\"text-align: right;\">0.40</td><td style=\"text-align: right;\">1</td><td style=\"text-align: right;\">0.91</td><td style=\"text-align: right;\">3</td><td style=\"text-align: right;\">1.37</td></tr>\n",
       "<tr><td style=\"text-align: right;\">354170</td><td style=\"text-align: right;\">136,682,274</td><td style=\"text-align: right;\">93,624</td><td style=\"text-align: right;\">7</td><td style=\"text-align: right;\">1868</td><td style=\"text-align: right;\">0.01</td><td style=\"text-align: right;\">15</td><td style=\"text-align: right;\">1.00</td><td style=\"text-align: right;\">0</td><td style=\"text-align: right;\">0.00</td><td style=\"text-align: right;\">1</td><td style=\"text-align: right;\">1.53</td><td style=\"text-align: right;\">1</td><td style=\"text-align: right;\">0.59</td><td style=\"text-align: right;\">8</td><td style=\"text-align: right;\">1.92</td><td style=\"text-align: right;\">1</td><td style=\"text-align: right;\">0.40</td><td style=\"text-align: right;\">1</td><td style=\"text-align: right;\">0.91</td><td style=\"text-align: right;\">3</td><td style=\"text-align: right;\">1.37</td></tr>\n",
       "<tr class=\"even\"><td style=\"text-align: right;\">353240</td><td style=\"text-align: right;\">135,757,320</td><td style=\"text-align: right;\">20,184</td><td style=\"text-align: right;\">13</td><td style=\"text-align: right;\">1696</td><td style=\"text-align: right;\">0.01</td><td style=\"text-align: right;\">15</td><td style=\"text-align: right;\">1.00</td><td style=\"text-align: right;\">0</td><td style=\"text-align: right;\">0.00</td><td style=\"text-align: right;\">1</td><td style=\"text-align: right;\">1.53</td><td style=\"text-align: right;\">1</td><td style=\"text-align: right;\">0.59</td><td style=\"text-align: right;\">8</td><td style=\"text-align: right;\">1.92</td><td style=\"text-align: right;\">1</td><td style=\"text-align: right;\">0.40</td><td style=\"text-align: right;\">1</td><td style=\"text-align: right;\">0.91</td><td style=\"text-align: right;\">3</td><td style=\"text-align: right;\">1.37</td></tr>\n",
       "<tr><td style=\"text-align: right;\">353901</td><td style=\"text-align: right;\">136,494,186</td><td style=\"text-align: right;\">271,765</td><td style=\"text-align: right;\">64</td><td style=\"text-align: right;\">1575</td><td style=\"text-align: right;\">0.01</td><td style=\"text-align: right;\">15</td><td style=\"text-align: right;\">1.00</td><td style=\"text-align: right;\">0</td><td style=\"text-align: right;\">0.00</td><td style=\"text-align: right;\">1</td><td style=\"text-align: right;\">1.53</td><td style=\"text-align: right;\">1</td><td style=\"text-align: right;\">0.59</td><td style=\"text-align: right;\">8</td><td style=\"text-align: right;\">1.92</td><td style=\"text-align: right;\">1</td><td style=\"text-align: right;\">0.40</td><td style=\"text-align: right;\">1</td><td style=\"text-align: right;\">0.91</td><td style=\"text-align: right;\">3</td><td style=\"text-align: right;\">1.37</td></tr>\n",
       "<tr class=\"even\"><td style=\"text-align: right;\">353797</td><td style=\"text-align: right;\">136,398,174</td><td style=\"text-align: right;\">75,924</td><td style=\"text-align: right;\">26</td><td style=\"text-align: right;\">1414</td><td style=\"text-align: right;\">0.01</td><td style=\"text-align: right;\">15</td><td style=\"text-align: right;\">1.00</td><td style=\"text-align: right;\">0</td><td style=\"text-align: right;\">0.00</td><td style=\"text-align: right;\">1</td><td style=\"text-align: right;\">1.53</td><td style=\"text-align: right;\">1</td><td style=\"text-align: right;\">0.59</td><td style=\"text-align: right;\">8</td><td style=\"text-align: right;\">1.92</td><td style=\"text-align: right;\">1</td><td style=\"text-align: right;\">0.40</td><td style=\"text-align: right;\">1</td><td style=\"text-align: right;\">0.91</td><td style=\"text-align: right;\">3</td><td style=\"text-align: right;\">1.37</td></tr>\n",
       "<tr><td style=\"text-align: right;\">353498</td><td style=\"text-align: right;\">135,959,272</td><td style=\"text-align: right;\">416,583</td><td style=\"text-align: right;\">5</td><td style=\"text-align: right;\">684</td><td style=\"text-align: right;\">0.01</td><td style=\"text-align: right;\">9</td><td style=\"text-align: right;\">0.60</td><td style=\"text-align: right;\">0</td><td style=\"text-align: right;\">0.00</td><td style=\"text-align: right;\">0</td><td style=\"text-align: right;\">0.00</td><td style=\"text-align: right;\">0</td><td style=\"text-align: right;\">0.00</td><td style=\"text-align: right;\">7</td><td style=\"text-align: right;\">2.80</td><td style=\"text-align: right;\">1</td><td style=\"text-align: right;\">0.67</td><td style=\"text-align: right;\">1</td><td style=\"text-align: right;\">1.52</td><td style=\"text-align: right;\">0</td><td style=\"text-align: right;\">0.00</td></tr>\n",
       "</table>"
      ],
      "text/plain": [
       "<IPython.core.display.HTML object>"
      ]
     },
     "execution_count": 41,
     "metadata": {},
     "output_type": "execute_result"
    }
   ],
   "source": [
    "HTML(plt_obj.get_html())"
   ]
  },
  {
   "cell_type": "code",
   "execution_count": 42,
   "metadata": {
    "collapsed": false
   },
   "outputs": [
    {
     "data": {
      "text/plain": [
       "array([15, 15, 15, 15, 15, 15, 15, 15, 15, 15, 15, 15, 15, 15, 15, 15, 15,\n",
       "       15, 15, 15, 15, 15, 15, 15, 15, 15])"
      ]
     },
     "execution_count": 42,
     "metadata": {},
     "output_type": "execute_result"
    }
   ],
   "source": [
    "sa_26_1414.alleles_per_snp(am)"
   ]
  },
  {
   "cell_type": "code",
   "execution_count": 43,
   "metadata": {
    "collapsed": false
   },
   "outputs": [
    {
     "data": {
      "text/plain": [
       "array([14, 14, 14, 14, 13, 13,  0,  0,  0])"
      ]
     },
     "execution_count": 43,
     "metadata": {},
     "output_type": "execute_result"
    }
   ],
   "source": [
    "sa_9_944.alleles_per_snp(am)"
   ]
  },
  {
   "cell_type": "code",
   "execution_count": 44,
   "metadata": {
    "collapsed": false
   },
   "outputs": [
    {
     "data": {
      "text/plain": [
       "array([11, 10, 10, 10,  9])"
      ]
     },
     "execution_count": 44,
     "metadata": {},
     "output_type": "execute_result"
    }
   ],
   "source": [
    "sa_5_684.alleles_per_snp(am)"
   ]
  },
  {
   "cell_type": "code",
   "execution_count": 45,
   "metadata": {
    "collapsed": false
   },
   "outputs": [
    {
     "data": {
      "text/html": [
       "\n",
       "\n",
       "    <div class=\"bk-root\">\n",
       "        <div class=\"plotdiv\" id=\"819d00df-3276-4032-bb72-5e67cf6a6060\"></div>\n",
       "    </div>\n",
       "<script type=\"text/javascript\">\n",
       "  \n",
       "  (function(global) {\n",
       "    function now() {\n",
       "      return new Date();\n",
       "    }\n",
       "  \n",
       "    if (typeof (window._bokeh_onload_callbacks) === \"undefined\") {\n",
       "      window._bokeh_onload_callbacks = [];\n",
       "    }\n",
       "  \n",
       "    function run_callbacks() {\n",
       "      window._bokeh_onload_callbacks.forEach(function(callback) { callback() });\n",
       "      delete window._bokeh_onload_callbacks\n",
       "      console.info(\"Bokeh: all callbacks have finished\");\n",
       "    }\n",
       "  \n",
       "    function load_libs(js_urls, callback) {\n",
       "      window._bokeh_onload_callbacks.push(callback);\n",
       "      if (window._bokeh_is_loading > 0) {\n",
       "        console.log(\"Bokeh: BokehJS is being loaded, scheduling callback at\", now());\n",
       "        return null;\n",
       "      }\n",
       "      if (js_urls == null || js_urls.length === 0) {\n",
       "        run_callbacks();\n",
       "        return null;\n",
       "      }\n",
       "      console.log(\"Bokeh: BokehJS not loaded, scheduling load and callback at\", now());\n",
       "      window._bokeh_is_loading = js_urls.length;\n",
       "      for (var i = 0; i < js_urls.length; i++) {\n",
       "        var url = js_urls[i];\n",
       "        var s = document.createElement('script');\n",
       "        s.src = url;\n",
       "        s.async = false;\n",
       "        s.onreadystatechange = s.onload = function() {\n",
       "          window._bokeh_is_loading--;\n",
       "          if (window._bokeh_is_loading === 0) {\n",
       "            console.log(\"Bokeh: all BokehJS libraries loaded\");\n",
       "            run_callbacks()\n",
       "          }\n",
       "        };\n",
       "        s.onerror = function() {\n",
       "          console.warn(\"failed to load library \" + url);\n",
       "        };\n",
       "        console.log(\"Bokeh: injecting script tag for BokehJS library: \", url);\n",
       "        document.getElementsByTagName(\"head\")[0].appendChild(s);\n",
       "      }\n",
       "    };var element = document.getElementById(\"819d00df-3276-4032-bb72-5e67cf6a6060\");\n",
       "    if (element == null) {\n",
       "      console.log(\"Bokeh: ERROR: autoload.js configured with elementid '819d00df-3276-4032-bb72-5e67cf6a6060' but no matching script tag was found. \")\n",
       "      return false;\n",
       "    }\n",
       "  \n",
       "    var js_urls = [];\n",
       "  \n",
       "    var inline_js = [\n",
       "      function(Bokeh) {\n",
       "        Bokeh.$(function() {\n",
       "            var docs_json = {\"9dd444a2-6620-4281-a7be-73121703a471\":{\"roots\":{\"references\":[{\"attributes\":{\"active_drag\":\"auto\",\"active_scroll\":\"auto\",\"active_tap\":\"auto\",\"tools\":[{\"id\":\"45ed40ba-58fa-4b6c-b9c6-9285d6ef1415\",\"type\":\"PanTool\"},{\"id\":\"eb2a4f08-4644-4223-a3fa-8a104d05c1a4\",\"type\":\"WheelZoomTool\"},{\"id\":\"c380504d-a57d-4187-b4cd-4b94513947f8\",\"type\":\"BoxZoomTool\"},{\"id\":\"573559a3-6eb3-4a43-b9d8-e381b5cd2a2c\",\"type\":\"SaveTool\"},{\"id\":\"98b35f62-769b-49d7-bc39-8a8f563bcba7\",\"type\":\"ResetTool\"},{\"id\":\"4d277139-136b-45d8-8bf2-f7de4c924046\",\"type\":\"HelpTool\"}]},\"id\":\"cf8e562e-33ab-41a4-a229-4b5c31a63ecd\",\"type\":\"Toolbar\"},{\"attributes\":{},\"id\":\"7c088c0c-4d13-4ad6-aca1-dc231b3dbcc1\",\"type\":\"BasicTicker\"},{\"attributes\":{},\"id\":\"23cb5ff5-60a4-4c87-bc29-9b82879a4d45\",\"type\":\"BasicTickFormatter\"},{\"attributes\":{\"plot\":{\"id\":\"ae417cdb-7199-40e0-b0c8-dafa4523d469\",\"subtype\":\"Figure\",\"type\":\"Plot\"}},\"id\":\"eb2a4f08-4644-4223-a3fa-8a104d05c1a4\",\"type\":\"WheelZoomTool\"},{\"attributes\":{\"level\":\"glyph\",\"plot\":{\"id\":\"ae417cdb-7199-40e0-b0c8-dafa4523d469\",\"subtype\":\"Figure\",\"type\":\"Plot\"},\"source\":{\"id\":\"5681e4a2-8eed-4235-a4ca-f3cac542ca8e\",\"type\":\"ColumnDataSource\"},\"text\":{\"field\":\"vals\"},\"text_align\":\"center\",\"text_baseline\":\"middle\",\"text_font_size\":{\"value\":\"8pt\"},\"x\":{\"field\":\"x\"},\"y\":{\"field\":\"y\"}},\"id\":\"8d5fb2c4-5330-4042-acaf-e6ca37333c2e\",\"type\":\"LabelSet\"},{\"attributes\":{\"callback\":null,\"column_names\":[\"y\",\"x\",\"vals\"],\"data\":{\"vals\":[\"13_1696\",\"5_684\",\"26_1414\",\"64_1575\",\"10_2206\",\"7_1868\"],\"x\":[135757320,135959272,136398174,136494186,136501840,136682274],\"y\":[101.0,93.0,99.0,100.0,203.0,202.0]}},\"id\":\"be676b39-0bd8-4ecb-b385-7d6e4fafb3d6\",\"type\":\"ColumnDataSource\"},{\"attributes\":{\"overlay\":{\"id\":\"057e5de4-bdb3-4f29-baa2-6bae1b3caa6f\",\"type\":\"BoxAnnotation\"},\"plot\":{\"id\":\"ae417cdb-7199-40e0-b0c8-dafa4523d469\",\"subtype\":\"Figure\",\"type\":\"Plot\"}},\"id\":\"c380504d-a57d-4187-b4cd-4b94513947f8\",\"type\":\"BoxZoomTool\"},{\"attributes\":{\"plot\":{\"id\":\"ae417cdb-7199-40e0-b0c8-dafa4523d469\",\"subtype\":\"Figure\",\"type\":\"Plot\"}},\"id\":\"4d277139-136b-45d8-8bf2-f7de4c924046\",\"type\":\"HelpTool\"},{\"attributes\":{\"level\":\"glyph\",\"plot\":{\"id\":\"ae417cdb-7199-40e0-b0c8-dafa4523d469\",\"subtype\":\"Figure\",\"type\":\"Plot\"},\"source\":{\"id\":\"be676b39-0bd8-4ecb-b385-7d6e4fafb3d6\",\"type\":\"ColumnDataSource\"},\"text\":{\"field\":\"vals\"},\"text_font_size\":{\"value\":\"9pt\"},\"text_font_style\":\"bold\",\"x\":{\"field\":\"x\"},\"y\":{\"field\":\"y\"}},\"id\":\"7922f095-4eac-4a46-a9e4-10d63531ae8d\",\"type\":\"LabelSet\"},{\"attributes\":{\"below\":[{\"id\":\"8917f46e-f94d-4ac0-aa18-4f13a0a4ba68\",\"type\":\"LinearAxis\"}],\"left\":[{\"id\":\"dbd988f1-89ac-4848-970f-6791e2e7a83b\",\"type\":\"LinearAxis\"}],\"plot_height\":300,\"plot_width\":900,\"renderers\":[{\"id\":\"8917f46e-f94d-4ac0-aa18-4f13a0a4ba68\",\"type\":\"LinearAxis\"},{\"id\":\"1327b745-9484-4d31-9d09-3a50af309fd5\",\"type\":\"Grid\"},{\"id\":\"dbd988f1-89ac-4848-970f-6791e2e7a83b\",\"type\":\"LinearAxis\"},{\"id\":\"562a0731-345a-4a79-9c4e-479d3196eee9\",\"type\":\"Grid\"},{\"id\":\"057e5de4-bdb3-4f29-baa2-6bae1b3caa6f\",\"type\":\"BoxAnnotation\"},{\"id\":\"d24a6b73-c1b8-4a7d-b7d6-aea993cc67a9\",\"type\":\"GlyphRenderer\"},{\"id\":\"8a316e23-c895-48f6-afaf-991d1379a8d3\",\"type\":\"GlyphRenderer\"},{\"id\":\"7922f095-4eac-4a46-a9e4-10d63531ae8d\",\"type\":\"LabelSet\"},{\"id\":\"e64d13b3-9d3d-46b5-9e85-b190f8285171\",\"type\":\"GlyphRenderer\"},{\"id\":\"8d5fb2c4-5330-4042-acaf-e6ca37333c2e\",\"type\":\"LabelSet\"}],\"title\":{\"id\":\"e03ba0b6-d052-476e-bba1-66b0ace61c10\",\"type\":\"Title\"},\"tool_events\":{\"id\":\"15effbd1-6032-4f19-8ee5-dc83bed35588\",\"type\":\"ToolEvents\"},\"toolbar\":{\"id\":\"cf8e562e-33ab-41a4-a229-4b5c31a63ecd\",\"type\":\"Toolbar\"},\"toolbar_location\":null,\"x_range\":{\"id\":\"7b039389-1ade-4f30-b31f-fe25d96559c3\",\"type\":\"Range1d\"},\"y_range\":{\"id\":\"4035f857-84c9-42ba-808a-13a1ce417775\",\"type\":\"Range1d\"}},\"id\":\"ae417cdb-7199-40e0-b0c8-dafa4523d469\",\"subtype\":\"Figure\",\"type\":\"Plot\"},{\"attributes\":{\"data_source\":{\"id\":\"d6067fee-7521-4b4b-a2e0-6a3730dffd33\",\"type\":\"ColumnDataSource\"},\"glyph\":{\"id\":\"1377cbf8-27a2-4268-bdb6-a0f642691490\",\"type\":\"MultiLine\"},\"hover_glyph\":null,\"nonselection_glyph\":{\"id\":\"ae904087-a51f-497b-91d4-a02eeafc8881\",\"type\":\"MultiLine\"},\"selection_glyph\":null},\"id\":\"8a316e23-c895-48f6-afaf-991d1379a8d3\",\"type\":\"GlyphRenderer\"},{\"attributes\":{\"callback\":null,\"column_names\":[\"xs\",\"ys\",\"line_color\"],\"data\":{\"line_color\":[\"black\",\"black\",\"black\",\"black\",\"black\",\"black\",\"black\",\"black\",\"black\",\"black\",\"black\",\"black\",\"black\",\"black\",\"black\",\"black\",\"black\",\"black\",\"black\",\"black\",\"black\",\"black\",\"black\",\"black\",\"black\",\"black\",\"black\",\"black\",\"black\",\"black\",\"black\",\"black\",\"black\",\"black\",\"black\",\"black\",\"black\",\"black\",\"black\",\"black\",\"black\",\"black\",\"black\",\"black\",\"black\",\"black\",\"black\",\"black\",\"black\",\"black\",\"black\",\"black\",\"black\",\"black\",\"black\",\"black\",\"black\",\"black\",\"black\",\"black\",\"black\",\"black\",\"black\",\"black\",\"black\",\"black\",\"black\",\"black\",\"black\",\"black\",\"black\",\"black\",\"black\",\"black\",\"black\",\"black\",\"black\",\"black\",\"black\",\"black\",\"black\",\"black\",\"black\",\"black\",\"black\",\"black\",\"black\",\"black\",\"black\",\"black\",\"black\",\"black\",\"black\",\"black\",\"black\",\"black\",\"black\",\"black\",\"black\",\"black\",\"black\",\"black\",\"black\",\"black\",\"black\",\"black\",\"black\",\"black\",\"black\",\"black\",\"black\",\"black\",\"black\",\"black\",\"black\",\"black\",\"black\",\"black\",\"black\",\"black\",\"black\",\"black\",\"black\",\"black\",\"black\"],\"xs\":[[135757320,135757320],[135761078,135761078],[135761271,135761271],[135762344,135762344],[135762980,135762980],[135763280,135763280],[135768815,135768815],[135769093,135769093],[135769127,135769127],[135770940,135770940],[135770951,135770951],[135776728,135776728],[135777504,135777504],[135959272,135959272],[136149550,136149550],[136164840,136164840],[136313885,136313885],[136375855,136375855],[136398174,136398174],[136402117,136402117],[136403749,136403749],[136409073,136409073],[136410299,136410299],[136413359,136413359],[136416855,136416855],[136416941,136416941],[136418348,136418348],[136419961,136419961],[136420690,136420690],[136422171,136422171],[136428460,136428460],[136430866,136430866],[136432103,136432103],[136437507,136437507],[136439090,136439090],[136439517,136439517],[136444123,136444123],[136445526,136445526],[136445869,136445869],[136455600,136455600],[136456642,136456642],[136462441,136462441],[136470714,136470714],[136474098,136474098],[136494186,136494186],[136495300,136495300],[136495619,136495619],[136499166,136499166],[136502792,136502792],[136503157,136503157],[136507039,136507039],[136511575,136511575],[136518103,136518103],[136521514,136521514],[136522675,136522675],[136522941,136522941],[136526981,136526981],[136535410,136535410],[136539122,136539122],[136544197,136544197],[136550109,136550109],[136551694,136551694],[136553188,136553188],[136553639,136553639],[136554800,136554800],[136557319,136557319],[136558157,136558157],[136569848,136569848],[136575199,136575199],[136576577,136576577],[136578536,136578536],[136580287,136580287],[136583192,136583192],[136586958,136586958],[136588478,136588478],[136589612,136589612],[136591178,136591178],[136591859,136591859],[136593760,136593760],[136594158,136594158],[136603276,136603276],[136603366,136603366],[136608231,136608231],[136609975,136609975],[136610598,136610598],[136611624,136611624],[136613780,136613780],[136614255,136614255],[136614813,136614813],[136617524,136617524],[136622216,136622216],[136625602,136625602],[136629911,136629911],[136630757,136630757],[136630989,136630989],[136631031,136631031],[136633771,136633771],[136636324,136636324],[136638216,136638216],[136640233,136640233],[136641882,136641882],[136643555,136643555],[136658345,136658345],[136670298,136670298],[136685228,136685228],[136696138,136696138],[136740900,136740900],[136765951,136765951],[136501840,136501840],[136505546,136505546],[136516748,136516748],[136522710,136522710],[136528004,136528004],[136539513,136539513],[136544752,136544752],[136546110,136546110],[136553529,136553529],[136555659,136555659],[136682274,136682274],[136691825,136691825],[136698098,136698098],[136721603,136721603],[136721995,136721995],[136755684,136755684],[136775898,136775898]],\"ys\":[[50,96],[50,96],[50,96],[50,96],[50,96],[50,96],[50,96],[50,96],[50,96],[50,96],[50,96],[50,96],[50,96],[50,88],[50,88],[50,88],[50,88],[50,88],[50,94],[50,94],[50,94],[50,94],[50,94],[50,94],[50,94],[50,94],[50,94],[50,94],[50,94],[50,94],[50,94],[50,94],[50,94],[50,94],[50,94],[50,94],[50,94],[50,94],[50,94],[50,94],[50,94],[50,94],[50,94],[50,94],[50,95],[50,95],[50,95],[50,95],[50,95],[50,95],[50,95],[50,95],[50,95],[50,95],[50,95],[50,95],[50,95],[50,95],[50,95],[50,95],[50,95],[50,95],[50,95],[50,95],[50,95],[50,95],[50,95],[50,95],[50,95],[50,95],[50,95],[50,95],[50,95],[50,95],[50,95],[50,95],[50,95],[50,95],[50,95],[50,95],[50,95],[50,95],[50,95],[50,95],[50,95],[50,95],[50,95],[50,95],[50,95],[50,95],[50,95],[50,95],[50,95],[50,95],[50,95],[50,95],[50,95],[50,95],[50,95],[50,95],[50,95],[50,95],[50,95],[50,95],[50,95],[50,95],[50,95],[50,95],[150,198],[150,198],[150,198],[150,198],[150,198],[150,198],[150,198],[150,198],[150,198],[150,198],[150,197],[150,197],[150,197],[150,197],[150,197],[150,197],[150,197]]}},\"id\":\"d6067fee-7521-4b4b-a2e0-6a3730dffd33\",\"type\":\"ColumnDataSource\"},{\"attributes\":{\"dimension\":1,\"plot\":{\"id\":\"ae417cdb-7199-40e0-b0c8-dafa4523d469\",\"subtype\":\"Figure\",\"type\":\"Plot\"},\"ticker\":{\"id\":\"e9e00c66-e40e-4b66-b630-1375f3b15ac4\",\"type\":\"BasicTicker\"}},\"id\":\"562a0731-345a-4a79-9c4e-479d3196eee9\",\"type\":\"Grid\"},{\"attributes\":{\"line_alpha\":{\"value\":0.1},\"line_color\":{\"value\":\"#1f77b4\"},\"xs\":{\"field\":\"xs\"},\"ys\":{\"field\":\"ys\"}},\"id\":\"ae904087-a51f-497b-91d4-a02eeafc8881\",\"type\":\"MultiLine\"},{\"attributes\":{\"plot\":{\"id\":\"ae417cdb-7199-40e0-b0c8-dafa4523d469\",\"subtype\":\"Figure\",\"type\":\"Plot\"}},\"id\":\"573559a3-6eb3-4a43-b9d8-e381b5cd2a2c\",\"type\":\"SaveTool\"},{\"attributes\":{\"bottom\":{\"field\":\"bottom\"},\"fill_color\":{\"field\":\"fill_color\"},\"left\":{\"field\":\"left\"},\"line_color\":{\"value\":null},\"right\":{\"field\":\"right\"},\"top\":{\"field\":\"top\"}},\"id\":\"b0cb14e4-d4cc-446c-9bbf-7ab851521c3b\",\"type\":\"Quad\"},{\"attributes\":{\"plot\":{\"id\":\"ae417cdb-7199-40e0-b0c8-dafa4523d469\",\"subtype\":\"Figure\",\"type\":\"Plot\"}},\"id\":\"45ed40ba-58fa-4b6c-b9c6-9285d6ef1415\",\"type\":\"PanTool\"},{\"attributes\":{\"data_source\":{\"id\":\"ec81bad5-9347-4d0a-abd0-65f84805c49d\",\"type\":\"ColumnDataSource\"},\"glyph\":{\"id\":\"4fbb2ea0-2c41-44b7-b6dd-1769b7d7bb66\",\"type\":\"Quad\"},\"hover_glyph\":null,\"nonselection_glyph\":{\"id\":\"890b8d23-af6f-4a4f-bb3c-3e3d950ac829\",\"type\":\"Quad\"},\"selection_glyph\":null},\"id\":\"e64d13b3-9d3d-46b5-9e85-b190f8285171\",\"type\":\"GlyphRenderer\"},{\"attributes\":{\"formatter\":{\"id\":\"23cb5ff5-60a4-4c87-bc29-9b82879a4d45\",\"type\":\"BasicTickFormatter\"},\"plot\":{\"id\":\"ae417cdb-7199-40e0-b0c8-dafa4523d469\",\"subtype\":\"Figure\",\"type\":\"Plot\"},\"ticker\":{\"id\":\"7c088c0c-4d13-4ad6-aca1-dc231b3dbcc1\",\"type\":\"BasicTicker\"}},\"id\":\"8917f46e-f94d-4ac0-aa18-4f13a0a4ba68\",\"type\":\"LinearAxis\"},{\"attributes\":{},\"id\":\"e9e00c66-e40e-4b66-b630-1375f3b15ac4\",\"type\":\"BasicTicker\"},{\"attributes\":{\"callback\":null,\"end\":136786630,\"start\":135757320},\"id\":\"7b039389-1ade-4f30-b31f-fe25d96559c3\",\"type\":\"Range1d\"},{\"attributes\":{\"plot\":{\"id\":\"ae417cdb-7199-40e0-b0c8-dafa4523d469\",\"subtype\":\"Figure\",\"type\":\"Plot\"}},\"id\":\"98b35f62-769b-49d7-bc39-8a8f563bcba7\",\"type\":\"ResetTool\"},{\"attributes\":{\"line_color\":{\"field\":\"line_color\"},\"xs\":{\"field\":\"xs\"},\"ys\":{\"field\":\"ys\"}},\"id\":\"1377cbf8-27a2-4268-bdb6-a0f642691490\",\"type\":\"MultiLine\"},{\"attributes\":{\"plot\":{\"id\":\"ae417cdb-7199-40e0-b0c8-dafa4523d469\",\"subtype\":\"Figure\",\"type\":\"Plot\"},\"ticker\":{\"id\":\"7c088c0c-4d13-4ad6-aca1-dc231b3dbcc1\",\"type\":\"BasicTicker\"}},\"id\":\"1327b745-9484-4d31-9d09-3a50af309fd5\",\"type\":\"Grid\"},{\"attributes\":{},\"id\":\"4cec1db8-494e-4977-a7ca-25496876a7ac\",\"type\":\"BasicTickFormatter\"},{\"attributes\":{\"data_source\":{\"id\":\"e445f0cd-cbc8-4a5d-8e1d-7e8be7e6cad7\",\"type\":\"ColumnDataSource\"},\"glyph\":{\"id\":\"b0cb14e4-d4cc-446c-9bbf-7ab851521c3b\",\"type\":\"Quad\"},\"hover_glyph\":null,\"nonselection_glyph\":{\"id\":\"e8f1f2b8-8c68-4a43-980c-5d7e1190bcf9\",\"type\":\"Quad\"},\"selection_glyph\":null},\"id\":\"d24a6b73-c1b8-4a7d-b7d6-aea993cc67a9\",\"type\":\"GlyphRenderer\"},{\"attributes\":{},\"id\":\"15effbd1-6032-4f19-8ee5-dc83bed35588\",\"type\":\"ToolEvents\"},{\"attributes\":{\"formatter\":{\"id\":\"4cec1db8-494e-4977-a7ca-25496876a7ac\",\"type\":\"BasicTickFormatter\"},\"plot\":{\"id\":\"ae417cdb-7199-40e0-b0c8-dafa4523d469\",\"subtype\":\"Figure\",\"type\":\"Plot\"},\"ticker\":{\"id\":\"e9e00c66-e40e-4b66-b630-1375f3b15ac4\",\"type\":\"BasicTicker\"},\"visible\":null},\"id\":\"dbd988f1-89ac-4848-970f-6791e2e7a83b\",\"type\":\"LinearAxis\"},{\"attributes\":{\"callback\":null,\"column_names\":[\"y\",\"x\",\"vals\"],\"data\":{\"vals\":[\"RAB3GAP1\",\"ZRANB3\",\"R3HDM1\",\"UBXN4\",\"LCT\",\"MCM6\",\"DARS\"],\"x\":[135869057.0,136122878.0,136385961.0,136520911.0,136570082.5,136615621.5,136703738.0],\"y\":[260.0,260.0,260.0,260.0,260.0,260.0,260.0]}},\"id\":\"5681e4a2-8eed-4235-a4ca-f3cac542ca8e\",\"type\":\"ColumnDataSource\"},{\"attributes\":{\"bottom\":{\"field\":\"bottom\"},\"fill_color\":{\"value\":\"white\"},\"left\":{\"field\":\"left\"},\"right\":{\"field\":\"right\"},\"top\":{\"field\":\"top\"}},\"id\":\"4fbb2ea0-2c41-44b7-b6dd-1769b7d7bb66\",\"type\":\"Quad\"},{\"attributes\":{\"callback\":null,\"column_names\":[\"right\",\"bottom\",\"top\",\"left\",\"fill_color\"],\"data\":{\"bottom\":[50,50,50,50,150,150],\"fill_color\":[\"#808080\",\"#ffff00\",\"#61c461\",\"#61c461\",\"#808080\",\"#61c461\"],\"left\":[135757320,135959272,136398174,136494186,136501840,136682274],\"right\":[135777504,136375855,136474098,136765951,136555659,136775898],\"top\":[96,88,94,95,198,197]}},\"id\":\"e445f0cd-cbc8-4a5d-8e1d-7e8be7e6cad7\",\"type\":\"ColumnDataSource\"},{\"attributes\":{\"bottom\":{\"field\":\"bottom\"},\"fill_alpha\":{\"value\":0.1},\"fill_color\":{\"value\":\"#1f77b4\"},\"left\":{\"field\":\"left\"},\"line_alpha\":{\"value\":0.1},\"line_color\":{\"value\":\"#1f77b4\"},\"right\":{\"field\":\"right\"},\"top\":{\"field\":\"top\"}},\"id\":\"890b8d23-af6f-4a4f-bb3c-3e3d950ac829\",\"type\":\"Quad\"},{\"attributes\":{\"plot\":null,\"text\":null},\"id\":\"e03ba0b6-d052-476e-bba1-66b0ace61c10\",\"type\":\"Title\"},{\"attributes\":{\"bottom_units\":\"screen\",\"fill_alpha\":{\"value\":0.5},\"fill_color\":{\"value\":\"lightgrey\"},\"left_units\":\"screen\",\"level\":\"overlay\",\"line_alpha\":{\"value\":1.0},\"line_color\":{\"value\":\"black\"},\"line_dash\":[4,4],\"line_width\":{\"value\":2},\"plot\":null,\"render_mode\":\"css\",\"right_units\":\"screen\",\"top_units\":\"screen\"},\"id\":\"057e5de4-bdb3-4f29-baa2-6bae1b3caa6f\",\"type\":\"BoxAnnotation\"},{\"attributes\":{\"callback\":null,\"end\":300},\"id\":\"4035f857-84c9-42ba-808a-13a1ce417775\",\"type\":\"Range1d\"},{\"attributes\":{\"callback\":null,\"column_names\":[\"right\",\"bottom\",\"top\",\"left\"],\"data\":{\"bottom\":[245,245,245,245,245,245,245],\"left\":[135809835,135957574,136289083,136499189,136545415,136597196,136664254],\"right\":[135928279,136288182,136482839,136542633,136594750,136634047,136743222],\"top\":[275,275,275,275,275,275,275]}},\"id\":\"ec81bad5-9347-4d0a-abd0-65f84805c49d\",\"type\":\"ColumnDataSource\"},{\"attributes\":{\"bottom\":{\"field\":\"bottom\"},\"fill_alpha\":{\"value\":0.1},\"fill_color\":{\"value\":\"#1f77b4\"},\"left\":{\"field\":\"left\"},\"line_alpha\":{\"value\":0.1},\"line_color\":{\"value\":\"#1f77b4\"},\"right\":{\"field\":\"right\"},\"top\":{\"field\":\"top\"}},\"id\":\"e8f1f2b8-8c68-4a43-980c-5d7e1190bcf9\",\"type\":\"Quad\"}],\"root_ids\":[\"ae417cdb-7199-40e0-b0c8-dafa4523d469\"]},\"title\":\"Bokeh Application\",\"version\":\"0.12.0\"}};\n",
       "            var render_items = [{\"docid\":\"9dd444a2-6620-4281-a7be-73121703a471\",\"elementid\":\"819d00df-3276-4032-bb72-5e67cf6a6060\",\"modelid\":\"ae417cdb-7199-40e0-b0c8-dafa4523d469\",\"notebook_comms_target\":\"da2d77aa-e8a8-460d-8ab7-37fca5a5d557\"}];\n",
       "            \n",
       "            Bokeh.embed.embed_items(docs_json, render_items);\n",
       "        });\n",
       "      },\n",
       "      function(Bokeh) {\n",
       "      }\n",
       "    ];\n",
       "  \n",
       "    function run_inline_js() {\n",
       "      for (var i = 0; i < inline_js.length; i++) {\n",
       "        inline_js[i](window.Bokeh);\n",
       "      }\n",
       "    }\n",
       "  \n",
       "    if (window._bokeh_is_loading === 0) {\n",
       "      console.log(\"Bokeh: BokehJS loaded, going straight to plotting\");\n",
       "      run_inline_js();\n",
       "    } else {\n",
       "      load_libs(js_urls, function() {\n",
       "        console.log(\"Bokeh: BokehJS plotting callback run at\", now());\n",
       "        run_inline_js();\n",
       "      });\n",
       "    }\n",
       "  }(this));\n",
       "</script>"
      ]
     },
     "metadata": {},
     "output_type": "display_data"
    },
    {
     "data": {
      "text/html": [
       "<p><code>&lt;Bokeh Notebook handle for <strong>In[45]</strong>&gt;</code></p>"
      ],
      "text/plain": [
       "<bokeh.io._CommsHandle at 0x7f436505d8d0>"
      ]
     },
     "execution_count": 45,
     "metadata": {},
     "output_type": "execute_result"
    }
   ],
   "source": [
    "di_4_37 = 353635\n",
    "di_4_34 = 353308\n",
    "plt_obj = dm.superset_yes_no([dm.di_26_1414, dm.di_13_1696, dm.di_5_684], \n",
    "                             [di_4_34, di_4_37, dm.di_123_1561, dm.di_4_1699], min_match=0.001)\n",
    "plt = plt_obj.do_plot()\n",
    "am = plt_obj.plot_context.yes_allele_mask\n",
    "show(plt)"
   ]
  },
  {
   "cell_type": "code",
   "execution_count": 46,
   "metadata": {
    "collapsed": false
   },
   "outputs": [
    {
     "data": {
      "text/html": [
       "<table>\n",
       "<thead><tr><th style=\"text-align:center\">index</th><th style=\"text-align:center\">first</th><th style=\"text-align:center\">length</th><th style=\"text-align:center\">snps</th><th style=\"text-align:center\" colspan=2>alleles</th><th style=\"text-align:center\" colspan=2>matches</th><th style=\"text-align:center\" colspan=2>afr</th><th style=\"text-align:center\" colspan=2>afx</th><th style=\"text-align:center\" colspan=2>amr</th><th style=\"text-align:center\" colspan=2>eas</th><th style=\"text-align:center\" colspan=2>eur</th><th style=\"text-align:center\" colspan=2>sas</th><th style=\"text-align:center\" colspan=2>sax</th></tr></thead>\n",
       "<tr class=\"even\"><td style=\"text-align: right;\">353921</td><td style=\"text-align: right;\">136,501,840</td><td style=\"text-align: right;\">53,819</td><td style=\"text-align: right;\">10</td><td style=\"text-align: right;\">2206</td><td style=\"text-align: right;\">0.00</td><td style=\"text-align: right;\">8</td><td style=\"text-align: right;\">1.00</td><td style=\"text-align: right;\">0</td><td style=\"text-align: right;\">0.00</td><td style=\"text-align: right;\">0</td><td style=\"text-align: right;\">0.00</td><td style=\"text-align: right;\">0</td><td style=\"text-align: right;\">0.00</td><td style=\"text-align: right;\">7</td><td style=\"text-align: right;\">3.08</td><td style=\"text-align: right;\">1</td><td style=\"text-align: right;\">0.74</td><td style=\"text-align: right;\">0</td><td style=\"text-align: right;\">0.00</td><td style=\"text-align: right;\">0</td><td style=\"text-align: right;\">0.00</td></tr>\n",
       "<tr><td style=\"text-align: right;\">354170</td><td style=\"text-align: right;\">136,682,274</td><td style=\"text-align: right;\">93,624</td><td style=\"text-align: right;\">7</td><td style=\"text-align: right;\">1868</td><td style=\"text-align: right;\">0.00</td><td style=\"text-align: right;\">8</td><td style=\"text-align: right;\">1.00</td><td style=\"text-align: right;\">0</td><td style=\"text-align: right;\">0.00</td><td style=\"text-align: right;\">0</td><td style=\"text-align: right;\">0.00</td><td style=\"text-align: right;\">0</td><td style=\"text-align: right;\">0.00</td><td style=\"text-align: right;\">7</td><td style=\"text-align: right;\">3.08</td><td style=\"text-align: right;\">1</td><td style=\"text-align: right;\">0.74</td><td style=\"text-align: right;\">0</td><td style=\"text-align: right;\">0.00</td><td style=\"text-align: right;\">0</td><td style=\"text-align: right;\">0.00</td></tr>\n",
       "<tr class=\"even\"><td style=\"text-align: right;\">353240</td><td style=\"text-align: right;\">135,757,320</td><td style=\"text-align: right;\">20,184</td><td style=\"text-align: right;\">13</td><td style=\"text-align: right;\">1696</td><td style=\"text-align: right;\">0.00</td><td style=\"text-align: right;\">8</td><td style=\"text-align: right;\">1.00</td><td style=\"text-align: right;\">0</td><td style=\"text-align: right;\">0.00</td><td style=\"text-align: right;\">0</td><td style=\"text-align: right;\">0.00</td><td style=\"text-align: right;\">0</td><td style=\"text-align: right;\">0.00</td><td style=\"text-align: right;\">7</td><td style=\"text-align: right;\">3.08</td><td style=\"text-align: right;\">1</td><td style=\"text-align: right;\">0.74</td><td style=\"text-align: right;\">0</td><td style=\"text-align: right;\">0.00</td><td style=\"text-align: right;\">0</td><td style=\"text-align: right;\">0.00</td></tr>\n",
       "<tr><td style=\"text-align: right;\">353901</td><td style=\"text-align: right;\">136,494,186</td><td style=\"text-align: right;\">271,765</td><td style=\"text-align: right;\">64</td><td style=\"text-align: right;\">1575</td><td style=\"text-align: right;\">0.01</td><td style=\"text-align: right;\">8</td><td style=\"text-align: right;\">1.00</td><td style=\"text-align: right;\">0</td><td style=\"text-align: right;\">0.00</td><td style=\"text-align: right;\">0</td><td style=\"text-align: right;\">0.00</td><td style=\"text-align: right;\">0</td><td style=\"text-align: right;\">0.00</td><td style=\"text-align: right;\">7</td><td style=\"text-align: right;\">3.08</td><td style=\"text-align: right;\">1</td><td style=\"text-align: right;\">0.74</td><td style=\"text-align: right;\">0</td><td style=\"text-align: right;\">0.00</td><td style=\"text-align: right;\">0</td><td style=\"text-align: right;\">0.00</td></tr>\n",
       "<tr class=\"even\"><td style=\"text-align: right;\">353797</td><td style=\"text-align: right;\">136,398,174</td><td style=\"text-align: right;\">75,924</td><td style=\"text-align: right;\">26</td><td style=\"text-align: right;\">1414</td><td style=\"text-align: right;\">0.01</td><td style=\"text-align: right;\">8</td><td style=\"text-align: right;\">1.00</td><td style=\"text-align: right;\">0</td><td style=\"text-align: right;\">0.00</td><td style=\"text-align: right;\">0</td><td style=\"text-align: right;\">0.00</td><td style=\"text-align: right;\">0</td><td style=\"text-align: right;\">0.00</td><td style=\"text-align: right;\">7</td><td style=\"text-align: right;\">3.08</td><td style=\"text-align: right;\">1</td><td style=\"text-align: right;\">0.74</td><td style=\"text-align: right;\">0</td><td style=\"text-align: right;\">0.00</td><td style=\"text-align: right;\">0</td><td style=\"text-align: right;\">0.00</td></tr>\n",
       "<tr><td style=\"text-align: right;\">353498</td><td style=\"text-align: right;\">135,959,272</td><td style=\"text-align: right;\">416,583</td><td style=\"text-align: right;\">5</td><td style=\"text-align: right;\">684</td><td style=\"text-align: right;\">0.01</td><td style=\"text-align: right;\">8</td><td style=\"text-align: right;\">1.00</td><td style=\"text-align: right;\">0</td><td style=\"text-align: right;\">0.00</td><td style=\"text-align: right;\">0</td><td style=\"text-align: right;\">0.00</td><td style=\"text-align: right;\">0</td><td style=\"text-align: right;\">0.00</td><td style=\"text-align: right;\">7</td><td style=\"text-align: right;\">3.08</td><td style=\"text-align: right;\">1</td><td style=\"text-align: right;\">0.74</td><td style=\"text-align: right;\">0</td><td style=\"text-align: right;\">0.00</td><td style=\"text-align: right;\">0</td><td style=\"text-align: right;\">0.00</td></tr>\n",
       "</table>"
      ],
      "text/plain": [
       "<IPython.core.display.HTML object>"
      ]
     },
     "execution_count": 46,
     "metadata": {},
     "output_type": "execute_result"
    }
   ],
   "source": [
    "HTML(plt_obj.get_html())"
   ]
  },
  {
   "cell_type": "code",
   "execution_count": 47,
   "metadata": {
    "collapsed": false
   },
   "outputs": [
    {
     "data": {
      "text/html": [
       "\n",
       "\n",
       "    <div class=\"bk-root\">\n",
       "        <div class=\"plotdiv\" id=\"fc1d9a5a-230c-4f72-ae10-23dbe295c290\"></div>\n",
       "    </div>\n",
       "<script type=\"text/javascript\">\n",
       "  \n",
       "  (function(global) {\n",
       "    function now() {\n",
       "      return new Date();\n",
       "    }\n",
       "  \n",
       "    if (typeof (window._bokeh_onload_callbacks) === \"undefined\") {\n",
       "      window._bokeh_onload_callbacks = [];\n",
       "    }\n",
       "  \n",
       "    function run_callbacks() {\n",
       "      window._bokeh_onload_callbacks.forEach(function(callback) { callback() });\n",
       "      delete window._bokeh_onload_callbacks\n",
       "      console.info(\"Bokeh: all callbacks have finished\");\n",
       "    }\n",
       "  \n",
       "    function load_libs(js_urls, callback) {\n",
       "      window._bokeh_onload_callbacks.push(callback);\n",
       "      if (window._bokeh_is_loading > 0) {\n",
       "        console.log(\"Bokeh: BokehJS is being loaded, scheduling callback at\", now());\n",
       "        return null;\n",
       "      }\n",
       "      if (js_urls == null || js_urls.length === 0) {\n",
       "        run_callbacks();\n",
       "        return null;\n",
       "      }\n",
       "      console.log(\"Bokeh: BokehJS not loaded, scheduling load and callback at\", now());\n",
       "      window._bokeh_is_loading = js_urls.length;\n",
       "      for (var i = 0; i < js_urls.length; i++) {\n",
       "        var url = js_urls[i];\n",
       "        var s = document.createElement('script');\n",
       "        s.src = url;\n",
       "        s.async = false;\n",
       "        s.onreadystatechange = s.onload = function() {\n",
       "          window._bokeh_is_loading--;\n",
       "          if (window._bokeh_is_loading === 0) {\n",
       "            console.log(\"Bokeh: all BokehJS libraries loaded\");\n",
       "            run_callbacks()\n",
       "          }\n",
       "        };\n",
       "        s.onerror = function() {\n",
       "          console.warn(\"failed to load library \" + url);\n",
       "        };\n",
       "        console.log(\"Bokeh: injecting script tag for BokehJS library: \", url);\n",
       "        document.getElementsByTagName(\"head\")[0].appendChild(s);\n",
       "      }\n",
       "    };var element = document.getElementById(\"fc1d9a5a-230c-4f72-ae10-23dbe295c290\");\n",
       "    if (element == null) {\n",
       "      console.log(\"Bokeh: ERROR: autoload.js configured with elementid 'fc1d9a5a-230c-4f72-ae10-23dbe295c290' but no matching script tag was found. \")\n",
       "      return false;\n",
       "    }\n",
       "  \n",
       "    var js_urls = [];\n",
       "  \n",
       "    var inline_js = [\n",
       "      function(Bokeh) {\n",
       "        Bokeh.$(function() {\n",
       "            var docs_json = {\"6034b216-6471-427c-9bd4-4986f3ac633d\":{\"roots\":{\"references\":[{\"attributes\":{\"bottom_units\":\"screen\",\"fill_alpha\":{\"value\":0.5},\"fill_color\":{\"value\":\"lightgrey\"},\"left_units\":\"screen\",\"level\":\"overlay\",\"line_alpha\":{\"value\":1.0},\"line_color\":{\"value\":\"black\"},\"line_dash\":[4,4],\"line_width\":{\"value\":2},\"plot\":null,\"render_mode\":\"css\",\"right_units\":\"screen\",\"top_units\":\"screen\"},\"id\":\"a0082166-6516-4c3e-9af9-5758bd3b22d9\",\"type\":\"BoxAnnotation\"},{\"attributes\":{\"plot\":{\"id\":\"f688d6aa-d71b-4d9f-a4b3-cfd876f15d5a\",\"subtype\":\"Figure\",\"type\":\"Plot\"}},\"id\":\"b9eb324b-bb63-4283-8387-b04ed728e058\",\"type\":\"ResetTool\"},{\"attributes\":{\"dimension\":1,\"plot\":{\"id\":\"f688d6aa-d71b-4d9f-a4b3-cfd876f15d5a\",\"subtype\":\"Figure\",\"type\":\"Plot\"},\"ticker\":{\"id\":\"3811def5-32f0-4b1c-9159-a426e8c3bd65\",\"type\":\"BasicTicker\"}},\"id\":\"6cb330cc-c0bf-4bc0-9d73-c148d928d2bc\",\"type\":\"Grid\"},{\"attributes\":{\"plot\":{\"id\":\"f688d6aa-d71b-4d9f-a4b3-cfd876f15d5a\",\"subtype\":\"Figure\",\"type\":\"Plot\"}},\"id\":\"7670e31b-c1e2-42e7-81a8-c2df4ce934a1\",\"type\":\"PanTool\"},{\"attributes\":{\"line_alpha\":{\"value\":0.1},\"line_color\":{\"value\":\"#1f77b4\"},\"xs\":{\"field\":\"xs\"},\"ys\":{\"field\":\"ys\"}},\"id\":\"5815da09-84bf-4423-948c-b26d6694b100\",\"type\":\"MultiLine\"},{\"attributes\":{\"line_color\":{\"field\":\"line_color\"},\"xs\":{\"field\":\"xs\"},\"ys\":{\"field\":\"ys\"}},\"id\":\"1422ff1c-4e74-4799-944b-8d22472bd0fd\",\"type\":\"MultiLine\"},{\"attributes\":{\"below\":[{\"id\":\"4653583e-4f0b-499a-844e-de804fe81ee7\",\"type\":\"LinearAxis\"}],\"left\":[{\"id\":\"2f8c6b14-a407-40b1-b5fe-9a028d4df5ec\",\"type\":\"LinearAxis\"}],\"plot_height\":400,\"plot_width\":900,\"renderers\":[{\"id\":\"4653583e-4f0b-499a-844e-de804fe81ee7\",\"type\":\"LinearAxis\"},{\"id\":\"083b36f9-efa6-4509-a74a-6ffd1d0c7e3e\",\"type\":\"Grid\"},{\"id\":\"2f8c6b14-a407-40b1-b5fe-9a028d4df5ec\",\"type\":\"LinearAxis\"},{\"id\":\"6cb330cc-c0bf-4bc0-9d73-c148d928d2bc\",\"type\":\"Grid\"},{\"id\":\"a0082166-6516-4c3e-9af9-5758bd3b22d9\",\"type\":\"BoxAnnotation\"},{\"id\":\"d77f90f4-6461-471f-aac1-b844b555b33c\",\"type\":\"GlyphRenderer\"},{\"id\":\"09bd1548-fb7f-46b4-83db-bae2d8fefd6c\",\"type\":\"GlyphRenderer\"},{\"id\":\"7dcef9d7-7876-4973-a156-a9b434f40ca2\",\"type\":\"LabelSet\"},{\"id\":\"e5d461e4-8f27-4859-8d2c-8262b819f212\",\"type\":\"GlyphRenderer\"},{\"id\":\"5d457dd6-0600-4b2e-9726-8b16b0d9549e\",\"type\":\"LabelSet\"}],\"title\":{\"id\":\"8a1391f6-230c-4d92-8501-32f4c2ba336f\",\"type\":\"Title\"},\"tool_events\":{\"id\":\"5b5b07bb-b62b-4ae1-abee-9cf444e82116\",\"type\":\"ToolEvents\"},\"toolbar\":{\"id\":\"c4b81cd3-33e8-4b85-9a91-00b67591f0ba\",\"type\":\"Toolbar\"},\"toolbar_location\":null,\"x_range\":{\"id\":\"4bd575d1-ce45-45fb-bdcb-54cc708b9950\",\"type\":\"Range1d\"},\"y_range\":{\"id\":\"98f965ea-056e-43f8-9f61-25475487902c\",\"type\":\"Range1d\"}},\"id\":\"f688d6aa-d71b-4d9f-a4b3-cfd876f15d5a\",\"subtype\":\"Figure\",\"type\":\"Plot\"},{\"attributes\":{\"level\":\"glyph\",\"plot\":{\"id\":\"f688d6aa-d71b-4d9f-a4b3-cfd876f15d5a\",\"subtype\":\"Figure\",\"type\":\"Plot\"},\"source\":{\"id\":\"05fdd74e-27c2-4645-997f-b1bb4b3790bc\",\"type\":\"ColumnDataSource\"},\"text\":{\"field\":\"vals\"},\"text_font_size\":{\"value\":\"9pt\"},\"text_font_style\":\"bold\",\"x\":{\"field\":\"x\"},\"y\":{\"field\":\"y\"}},\"id\":\"7dcef9d7-7876-4973-a156-a9b434f40ca2\",\"type\":\"LabelSet\"},{\"attributes\":{\"plot\":{\"id\":\"f688d6aa-d71b-4d9f-a4b3-cfd876f15d5a\",\"subtype\":\"Figure\",\"type\":\"Plot\"},\"ticker\":{\"id\":\"1f1d15e0-59d5-4247-9432-521e199cf016\",\"type\":\"BasicTicker\"}},\"id\":\"083b36f9-efa6-4509-a74a-6ffd1d0c7e3e\",\"type\":\"Grid\"},{\"attributes\":{\"level\":\"glyph\",\"plot\":{\"id\":\"f688d6aa-d71b-4d9f-a4b3-cfd876f15d5a\",\"subtype\":\"Figure\",\"type\":\"Plot\"},\"source\":{\"id\":\"cd77c45a-ddcd-47d8-9d2e-fc65d91beb68\",\"type\":\"ColumnDataSource\"},\"text\":{\"field\":\"vals\"},\"text_align\":\"center\",\"text_baseline\":\"middle\",\"text_font_size\":{\"value\":\"8pt\"},\"x\":{\"field\":\"x\"},\"y\":{\"field\":\"y\"}},\"id\":\"5d457dd6-0600-4b2e-9726-8b16b0d9549e\",\"type\":\"LabelSet\"},{\"attributes\":{\"overlay\":{\"id\":\"a0082166-6516-4c3e-9af9-5758bd3b22d9\",\"type\":\"BoxAnnotation\"},\"plot\":{\"id\":\"f688d6aa-d71b-4d9f-a4b3-cfd876f15d5a\",\"subtype\":\"Figure\",\"type\":\"Plot\"}},\"id\":\"1bc19e69-5ce9-4bbf-99fb-c3f0a8da5ab0\",\"type\":\"BoxZoomTool\"},{\"attributes\":{\"data_source\":{\"id\":\"7e6f2849-de91-406a-9265-d59d39ed12d6\",\"type\":\"ColumnDataSource\"},\"glyph\":{\"id\":\"0afdeabb-dbec-43f1-9248-3b2e5720474d\",\"type\":\"Quad\"},\"hover_glyph\":null,\"nonselection_glyph\":{\"id\":\"b1f0bcbe-4f6a-493a-9fa6-f9362ca6a6b4\",\"type\":\"Quad\"},\"selection_glyph\":null},\"id\":\"d77f90f4-6461-471f-aac1-b844b555b33c\",\"type\":\"GlyphRenderer\"},{\"attributes\":{\"plot\":{\"id\":\"f688d6aa-d71b-4d9f-a4b3-cfd876f15d5a\",\"subtype\":\"Figure\",\"type\":\"Plot\"}},\"id\":\"79207660-3c82-4e1f-8f48-755826ea6b40\",\"type\":\"HelpTool\"},{\"attributes\":{\"active_drag\":\"auto\",\"active_scroll\":\"auto\",\"active_tap\":\"auto\",\"tools\":[{\"id\":\"7670e31b-c1e2-42e7-81a8-c2df4ce934a1\",\"type\":\"PanTool\"},{\"id\":\"7ca022b6-575c-409d-9520-704f8a77904e\",\"type\":\"WheelZoomTool\"},{\"id\":\"1bc19e69-5ce9-4bbf-99fb-c3f0a8da5ab0\",\"type\":\"BoxZoomTool\"},{\"id\":\"3eff0929-57d7-493b-831e-b7196d6fb23c\",\"type\":\"SaveTool\"},{\"id\":\"b9eb324b-bb63-4283-8387-b04ed728e058\",\"type\":\"ResetTool\"},{\"id\":\"79207660-3c82-4e1f-8f48-755826ea6b40\",\"type\":\"HelpTool\"}]},\"id\":\"c4b81cd3-33e8-4b85-9a91-00b67591f0ba\",\"type\":\"Toolbar\"},{\"attributes\":{\"plot\":{\"id\":\"f688d6aa-d71b-4d9f-a4b3-cfd876f15d5a\",\"subtype\":\"Figure\",\"type\":\"Plot\"}},\"id\":\"7ca022b6-575c-409d-9520-704f8a77904e\",\"type\":\"WheelZoomTool\"},{\"attributes\":{\"callback\":null,\"column_names\":[\"right\",\"bottom\",\"top\",\"left\",\"fill_color\"],\"data\":{\"bottom\":[150,50,150,50,150,150,250,250],\"fill_color\":[\"#808080\",\"#00ffff\",\"#ffff00\",\"#00ffff\",\"#61c461\",\"#61c461\",\"#808080\",\"#61c461\"],\"left\":[135757320,135782087,135959272,136151572,136398174,136494186,136501840,136682274],\"right\":[135777504,135926755,136375855,136272690,136474098,136765951,136555659,136775898],\"top\":[196,62,188,63,194,195,298,297]}},\"id\":\"7e6f2849-de91-406a-9265-d59d39ed12d6\",\"type\":\"ColumnDataSource\"},{\"attributes\":{\"bottom\":{\"field\":\"bottom\"},\"fill_alpha\":{\"value\":0.1},\"fill_color\":{\"value\":\"#1f77b4\"},\"left\":{\"field\":\"left\"},\"line_alpha\":{\"value\":0.1},\"line_color\":{\"value\":\"#1f77b4\"},\"right\":{\"field\":\"right\"},\"top\":{\"field\":\"top\"}},\"id\":\"b1f0bcbe-4f6a-493a-9fa6-f9362ca6a6b4\",\"type\":\"Quad\"},{\"attributes\":{\"plot\":{\"id\":\"f688d6aa-d71b-4d9f-a4b3-cfd876f15d5a\",\"subtype\":\"Figure\",\"type\":\"Plot\"}},\"id\":\"3eff0929-57d7-493b-831e-b7196d6fb23c\",\"type\":\"SaveTool\"},{\"attributes\":{\"data_source\":{\"id\":\"94c837b6-ea6b-4af1-b5ec-43f6cab0f9a5\",\"type\":\"ColumnDataSource\"},\"glyph\":{\"id\":\"1422ff1c-4e74-4799-944b-8d22472bd0fd\",\"type\":\"MultiLine\"},\"hover_glyph\":null,\"nonselection_glyph\":{\"id\":\"5815da09-84bf-4423-948c-b26d6694b100\",\"type\":\"MultiLine\"},\"selection_glyph\":null},\"id\":\"09bd1548-fb7f-46b4-83db-bae2d8fefd6c\",\"type\":\"GlyphRenderer\"},{\"attributes\":{},\"id\":\"c591b056-055c-4869-8135-941b2c5c4359\",\"type\":\"BasicTickFormatter\"},{\"attributes\":{\"callback\":null,\"column_names\":[\"xs\",\"ys\",\"line_color\"],\"data\":{\"line_color\":[\"black\",\"black\",\"black\",\"black\",\"black\",\"black\",\"black\",\"black\",\"black\",\"black\",\"black\",\"black\",\"black\",\"black\",\"black\",\"black\",\"black\",\"black\",\"black\",\"black\",\"black\",\"black\",\"black\",\"black\",\"black\",\"black\",\"black\",\"black\",\"black\",\"black\",\"black\",\"black\",\"black\",\"black\",\"black\",\"black\",\"black\",\"black\",\"black\",\"black\",\"black\",\"black\",\"black\",\"black\",\"black\",\"black\",\"black\",\"black\",\"black\",\"black\",\"black\",\"black\",\"black\",\"black\",\"black\",\"black\",\"black\",\"black\",\"black\",\"black\",\"black\",\"black\",\"black\",\"black\",\"black\",\"black\",\"black\",\"black\",\"black\",\"black\",\"black\",\"black\",\"black\",\"black\",\"black\",\"black\",\"black\",\"black\",\"black\",\"black\",\"black\",\"black\",\"black\",\"black\",\"black\",\"black\",\"black\",\"black\",\"black\",\"black\",\"black\",\"black\",\"black\",\"black\",\"black\",\"black\",\"black\",\"black\",\"black\",\"black\",\"black\",\"black\",\"black\",\"black\",\"black\",\"black\",\"black\",\"black\",\"black\",\"black\",\"black\",\"black\",\"black\",\"black\",\"black\",\"black\",\"black\",\"black\",\"black\",\"black\",\"black\",\"black\",\"black\",\"black\",\"black\",\"black\",\"black\",\"black\",\"black\",\"black\",\"black\",\"black\",\"black\"],\"xs\":[[135757320,135757320],[135761078,135761078],[135761271,135761271],[135762344,135762344],[135762980,135762980],[135763280,135763280],[135768815,135768815],[135769093,135769093],[135769127,135769127],[135770940,135770940],[135770951,135770951],[135776728,135776728],[135777504,135777504],[135782087,135782087],[135870447,135870447],[135897635,135897635],[135926755,135926755],[135959272,135959272],[136149550,136149550],[136164840,136164840],[136313885,136313885],[136375855,136375855],[136151572,136151572],[136159277,136159277],[136199181,136199181],[136272690,136272690],[136398174,136398174],[136402117,136402117],[136403749,136403749],[136409073,136409073],[136410299,136410299],[136413359,136413359],[136416855,136416855],[136416941,136416941],[136418348,136418348],[136419961,136419961],[136420690,136420690],[136422171,136422171],[136428460,136428460],[136430866,136430866],[136432103,136432103],[136437507,136437507],[136439090,136439090],[136439517,136439517],[136444123,136444123],[136445526,136445526],[136445869,136445869],[136455600,136455600],[136456642,136456642],[136462441,136462441],[136470714,136470714],[136474098,136474098],[136494186,136494186],[136495300,136495300],[136495619,136495619],[136499166,136499166],[136502792,136502792],[136503157,136503157],[136507039,136507039],[136511575,136511575],[136518103,136518103],[136521514,136521514],[136522675,136522675],[136522941,136522941],[136526981,136526981],[136535410,136535410],[136539122,136539122],[136544197,136544197],[136550109,136550109],[136551694,136551694],[136553188,136553188],[136553639,136553639],[136554800,136554800],[136557319,136557319],[136558157,136558157],[136569848,136569848],[136575199,136575199],[136576577,136576577],[136578536,136578536],[136580287,136580287],[136583192,136583192],[136586958,136586958],[136588478,136588478],[136589612,136589612],[136591178,136591178],[136591859,136591859],[136593760,136593760],[136594158,136594158],[136603276,136603276],[136603366,136603366],[136608231,136608231],[136609975,136609975],[136610598,136610598],[136611624,136611624],[136613780,136613780],[136614255,136614255],[136614813,136614813],[136617524,136617524],[136622216,136622216],[136625602,136625602],[136629911,136629911],[136630757,136630757],[136630989,136630989],[136631031,136631031],[136633771,136633771],[136636324,136636324],[136638216,136638216],[136640233,136640233],[136641882,136641882],[136643555,136643555],[136658345,136658345],[136670298,136670298],[136685228,136685228],[136696138,136696138],[136740900,136740900],[136765951,136765951],[136501840,136501840],[136505546,136505546],[136516748,136516748],[136522710,136522710],[136528004,136528004],[136539513,136539513],[136544752,136544752],[136546110,136546110],[136553529,136553529],[136555659,136555659],[136682274,136682274],[136691825,136691825],[136698098,136698098],[136721603,136721603],[136721995,136721995],[136755684,136755684],[136775898,136775898]],\"ys\":[[150,196],[150,196],[150,196],[150,196],[150,196],[150,196],[150,196],[150,196],[150,196],[150,196],[150,196],[150,196],[150,196],[50,62],[50,62],[50,62],[50,62],[150,188],[150,188],[150,188],[150,188],[150,188],[50,63],[50,63],[50,63],[50,63],[150,194],[150,194],[150,194],[150,194],[150,194],[150,194],[150,194],[150,194],[150,194],[150,194],[150,194],[150,194],[150,194],[150,194],[150,194],[150,194],[150,194],[150,194],[150,194],[150,194],[150,194],[150,194],[150,194],[150,194],[150,194],[150,194],[150,195],[150,195],[150,195],[150,195],[150,195],[150,195],[150,195],[150,195],[150,195],[150,195],[150,195],[150,195],[150,195],[150,195],[150,195],[150,195],[150,195],[150,195],[150,195],[150,195],[150,195],[150,195],[150,195],[150,195],[150,195],[150,195],[150,195],[150,195],[150,195],[150,195],[150,195],[150,195],[150,195],[150,195],[150,195],[150,195],[150,195],[150,195],[150,195],[150,195],[150,195],[150,195],[150,195],[150,195],[150,195],[150,195],[150,195],[150,195],[150,195],[150,195],[150,195],[150,195],[150,195],[150,195],[150,195],[150,195],[150,195],[150,195],[150,195],[150,195],[150,195],[150,195],[150,195],[150,195],[250,298],[250,298],[250,298],[250,298],[250,298],[250,298],[250,298],[250,298],[250,298],[250,298],[250,297],[250,297],[250,297],[250,297],[250,297],[250,297],[250,297]]}},\"id\":\"94c837b6-ea6b-4af1-b5ec-43f6cab0f9a5\",\"type\":\"ColumnDataSource\"},{\"attributes\":{\"callback\":null,\"column_names\":[\"right\",\"bottom\",\"top\",\"left\"],\"data\":{\"bottom\":[345,345,345,345,345,345,345],\"left\":[135809835,135957574,136289083,136499189,136545415,136597196,136664254],\"right\":[135928279,136288182,136482839,136542633,136594750,136634047,136743222],\"top\":[375,375,375,375,375,375,375]}},\"id\":\"d18409bb-4d84-4a30-8596-fd53798060a3\",\"type\":\"ColumnDataSource\"},{\"attributes\":{\"callback\":null,\"column_names\":[\"y\",\"x\",\"vals\"],\"data\":{\"vals\":[\"RAB3GAP1\",\"ZRANB3\",\"R3HDM1\",\"UBXN4\",\"LCT\",\"MCM6\",\"DARS\"],\"x\":[135869057.0,136122878.0,136385961.0,136520911.0,136570082.5,136615621.5,136703738.0],\"y\":[360.0,360.0,360.0,360.0,360.0,360.0,360.0]}},\"id\":\"cd77c45a-ddcd-47d8-9d2e-fc65d91beb68\",\"type\":\"ColumnDataSource\"},{\"attributes\":{},\"id\":\"3811def5-32f0-4b1c-9159-a426e8c3bd65\",\"type\":\"BasicTicker\"},{\"attributes\":{},\"id\":\"d08deb73-e745-4dd4-b371-a05a1f6bdc8f\",\"type\":\"BasicTickFormatter\"},{\"attributes\":{\"callback\":null,\"column_names\":[\"y\",\"x\",\"vals\"],\"data\":{\"vals\":[\"13_1696\",\"4_34\",\"5_684\",\"4_37\",\"26_1414\",\"64_1575\",\"10_2206\",\"7_1868\"],\"x\":[135757320,135782087,135959272,136151572,136398174,136494186,136501840,136682274],\"y\":[201.0,67.0,193.0,68.0,199.0,200.0,303.0,302.0]}},\"id\":\"05fdd74e-27c2-4645-997f-b1bb4b3790bc\",\"type\":\"ColumnDataSource\"},{\"attributes\":{\"data_source\":{\"id\":\"d18409bb-4d84-4a30-8596-fd53798060a3\",\"type\":\"ColumnDataSource\"},\"glyph\":{\"id\":\"d8be3f79-a10d-42b7-a122-11a20f241476\",\"type\":\"Quad\"},\"hover_glyph\":null,\"nonselection_glyph\":{\"id\":\"1eac39ed-b277-482f-b31c-73a6d4ac7c60\",\"type\":\"Quad\"},\"selection_glyph\":null},\"id\":\"e5d461e4-8f27-4859-8d2c-8262b819f212\",\"type\":\"GlyphRenderer\"},{\"attributes\":{},\"id\":\"5b5b07bb-b62b-4ae1-abee-9cf444e82116\",\"type\":\"ToolEvents\"},{\"attributes\":{\"plot\":null,\"text\":null},\"id\":\"8a1391f6-230c-4d92-8501-32f4c2ba336f\",\"type\":\"Title\"},{\"attributes\":{\"callback\":null,\"end\":136786630,\"start\":135757320},\"id\":\"4bd575d1-ce45-45fb-bdcb-54cc708b9950\",\"type\":\"Range1d\"},{\"attributes\":{},\"id\":\"1f1d15e0-59d5-4247-9432-521e199cf016\",\"type\":\"BasicTicker\"},{\"attributes\":{\"bottom\":{\"field\":\"bottom\"},\"fill_alpha\":{\"value\":0.1},\"fill_color\":{\"value\":\"#1f77b4\"},\"left\":{\"field\":\"left\"},\"line_alpha\":{\"value\":0.1},\"line_color\":{\"value\":\"#1f77b4\"},\"right\":{\"field\":\"right\"},\"top\":{\"field\":\"top\"}},\"id\":\"1eac39ed-b277-482f-b31c-73a6d4ac7c60\",\"type\":\"Quad\"},{\"attributes\":{\"callback\":null,\"end\":400},\"id\":\"98f965ea-056e-43f8-9f61-25475487902c\",\"type\":\"Range1d\"},{\"attributes\":{\"bottom\":{\"field\":\"bottom\"},\"fill_color\":{\"value\":\"white\"},\"left\":{\"field\":\"left\"},\"right\":{\"field\":\"right\"},\"top\":{\"field\":\"top\"}},\"id\":\"d8be3f79-a10d-42b7-a122-11a20f241476\",\"type\":\"Quad\"},{\"attributes\":{\"bottom\":{\"field\":\"bottom\"},\"fill_color\":{\"field\":\"fill_color\"},\"left\":{\"field\":\"left\"},\"line_color\":{\"value\":null},\"right\":{\"field\":\"right\"},\"top\":{\"field\":\"top\"}},\"id\":\"0afdeabb-dbec-43f1-9248-3b2e5720474d\",\"type\":\"Quad\"},{\"attributes\":{\"formatter\":{\"id\":\"c591b056-055c-4869-8135-941b2c5c4359\",\"type\":\"BasicTickFormatter\"},\"plot\":{\"id\":\"f688d6aa-d71b-4d9f-a4b3-cfd876f15d5a\",\"subtype\":\"Figure\",\"type\":\"Plot\"},\"ticker\":{\"id\":\"1f1d15e0-59d5-4247-9432-521e199cf016\",\"type\":\"BasicTicker\"}},\"id\":\"4653583e-4f0b-499a-844e-de804fe81ee7\",\"type\":\"LinearAxis\"},{\"attributes\":{\"formatter\":{\"id\":\"d08deb73-e745-4dd4-b371-a05a1f6bdc8f\",\"type\":\"BasicTickFormatter\"},\"plot\":{\"id\":\"f688d6aa-d71b-4d9f-a4b3-cfd876f15d5a\",\"subtype\":\"Figure\",\"type\":\"Plot\"},\"ticker\":{\"id\":\"3811def5-32f0-4b1c-9159-a426e8c3bd65\",\"type\":\"BasicTicker\"},\"visible\":null},\"id\":\"2f8c6b14-a407-40b1-b5fe-9a028d4df5ec\",\"type\":\"LinearAxis\"}],\"root_ids\":[\"f688d6aa-d71b-4d9f-a4b3-cfd876f15d5a\"]},\"title\":\"Bokeh Application\",\"version\":\"0.12.0\"}};\n",
       "            var render_items = [{\"docid\":\"6034b216-6471-427c-9bd4-4986f3ac633d\",\"elementid\":\"fc1d9a5a-230c-4f72-ae10-23dbe295c290\",\"modelid\":\"f688d6aa-d71b-4d9f-a4b3-cfd876f15d5a\",\"notebook_comms_target\":\"de6b216d-531e-4f7d-8f34-93cfdd24f1be\"}];\n",
       "            \n",
       "            Bokeh.embed.embed_items(docs_json, render_items);\n",
       "        });\n",
       "      },\n",
       "      function(Bokeh) {\n",
       "      }\n",
       "    ];\n",
       "  \n",
       "    function run_inline_js() {\n",
       "      for (var i = 0; i < inline_js.length; i++) {\n",
       "        inline_js[i](window.Bokeh);\n",
       "      }\n",
       "    }\n",
       "  \n",
       "    if (window._bokeh_is_loading === 0) {\n",
       "      console.log(\"Bokeh: BokehJS loaded, going straight to plotting\");\n",
       "      run_inline_js();\n",
       "    } else {\n",
       "      load_libs(js_urls, function() {\n",
       "        console.log(\"Bokeh: BokehJS plotting callback run at\", now());\n",
       "        run_inline_js();\n",
       "      });\n",
       "    }\n",
       "  }(this));\n",
       "</script>"
      ]
     },
     "metadata": {},
     "output_type": "display_data"
    },
    {
     "data": {
      "text/html": [
       "<p><code>&lt;Bokeh Notebook handle for <strong>In[47]</strong>&gt;</code></p>"
      ],
      "text/plain": [
       "<bokeh.io._CommsHandle at 0x7f436505d110>"
      ]
     },
     "execution_count": 47,
     "metadata": {},
     "output_type": "execute_result"
    }
   ],
   "source": [
    "plt_obj = dm.superset_yes_no([dm.di_26_1414, dm.di_13_1696, dm.di_5_684, di_4_34, di_4_37],\n",
    "                             [dm.di_123_1561, dm.di_4_1699], min_match=0.001)\n",
    "plt = plt_obj.do_plot()\n",
    "am = plt_obj.plot_context.yes_allele_mask\n",
    "show(plt)"
   ]
  },
  {
   "cell_type": "code",
   "execution_count": 48,
   "metadata": {
    "collapsed": false
   },
   "outputs": [
    {
     "data": {
      "text/html": [
       "<table>\n",
       "<thead><tr><th style=\"text-align:center\">index</th><th style=\"text-align:center\">first</th><th style=\"text-align:center\">length</th><th style=\"text-align:center\">snps</th><th style=\"text-align:center\" colspan=2>alleles</th><th style=\"text-align:center\" colspan=2>matches</th><th style=\"text-align:center\" colspan=2>afr</th><th style=\"text-align:center\" colspan=2>afx</th><th style=\"text-align:center\" colspan=2>amr</th><th style=\"text-align:center\" colspan=2>eas</th><th style=\"text-align:center\" colspan=2>eur</th><th style=\"text-align:center\" colspan=2>sas</th><th style=\"text-align:center\" colspan=2>sax</th></tr></thead>\n",
       "<tr class=\"even\"><td style=\"text-align: right;\">353921</td><td style=\"text-align: right;\">136,501,840</td><td style=\"text-align: right;\">53,819</td><td style=\"text-align: right;\">10</td><td style=\"text-align: right;\">2206</td><td style=\"text-align: right;\">0.00</td><td style=\"text-align: right;\">1</td><td style=\"text-align: right;\">1.00</td><td style=\"text-align: right;\">0</td><td style=\"text-align: right;\">0.00</td><td style=\"text-align: right;\">0</td><td style=\"text-align: right;\">0.00</td><td style=\"text-align: right;\">0</td><td style=\"text-align: right;\">0.00</td><td style=\"text-align: right;\">0</td><td style=\"text-align: right;\">0.00</td><td style=\"text-align: right;\">0</td><td style=\"text-align: right;\">0.00</td><td style=\"text-align: right;\">1</td><td style=\"text-align: right;\">13.66</td><td style=\"text-align: right;\">0</td><td style=\"text-align: right;\">0.00</td></tr>\n",
       "<tr><td style=\"text-align: right;\">354170</td><td style=\"text-align: right;\">136,682,274</td><td style=\"text-align: right;\">93,624</td><td style=\"text-align: right;\">7</td><td style=\"text-align: right;\">1868</td><td style=\"text-align: right;\">0.00</td><td style=\"text-align: right;\">1</td><td style=\"text-align: right;\">1.00</td><td style=\"text-align: right;\">0</td><td style=\"text-align: right;\">0.00</td><td style=\"text-align: right;\">0</td><td style=\"text-align: right;\">0.00</td><td style=\"text-align: right;\">0</td><td style=\"text-align: right;\">0.00</td><td style=\"text-align: right;\">0</td><td style=\"text-align: right;\">0.00</td><td style=\"text-align: right;\">0</td><td style=\"text-align: right;\">0.00</td><td style=\"text-align: right;\">1</td><td style=\"text-align: right;\">13.66</td><td style=\"text-align: right;\">0</td><td style=\"text-align: right;\">0.00</td></tr>\n",
       "<tr class=\"even\"><td style=\"text-align: right;\">353240</td><td style=\"text-align: right;\">135,757,320</td><td style=\"text-align: right;\">20,184</td><td style=\"text-align: right;\">13</td><td style=\"text-align: right;\">1696</td><td style=\"text-align: right;\">0.00</td><td style=\"text-align: right;\">1</td><td style=\"text-align: right;\">1.00</td><td style=\"text-align: right;\">0</td><td style=\"text-align: right;\">0.00</td><td style=\"text-align: right;\">0</td><td style=\"text-align: right;\">0.00</td><td style=\"text-align: right;\">0</td><td style=\"text-align: right;\">0.00</td><td style=\"text-align: right;\">0</td><td style=\"text-align: right;\">0.00</td><td style=\"text-align: right;\">0</td><td style=\"text-align: right;\">0.00</td><td style=\"text-align: right;\">1</td><td style=\"text-align: right;\">13.66</td><td style=\"text-align: right;\">0</td><td style=\"text-align: right;\">0.00</td></tr>\n",
       "<tr><td style=\"text-align: right;\">353901</td><td style=\"text-align: right;\">136,494,186</td><td style=\"text-align: right;\">271,765</td><td style=\"text-align: right;\">64</td><td style=\"text-align: right;\">1575</td><td style=\"text-align: right;\">0.00</td><td style=\"text-align: right;\">1</td><td style=\"text-align: right;\">1.00</td><td style=\"text-align: right;\">0</td><td style=\"text-align: right;\">0.00</td><td style=\"text-align: right;\">0</td><td style=\"text-align: right;\">0.00</td><td style=\"text-align: right;\">0</td><td style=\"text-align: right;\">0.00</td><td style=\"text-align: right;\">0</td><td style=\"text-align: right;\">0.00</td><td style=\"text-align: right;\">0</td><td style=\"text-align: right;\">0.00</td><td style=\"text-align: right;\">1</td><td style=\"text-align: right;\">13.66</td><td style=\"text-align: right;\">0</td><td style=\"text-align: right;\">0.00</td></tr>\n",
       "<tr class=\"even\"><td style=\"text-align: right;\">353797</td><td style=\"text-align: right;\">136,398,174</td><td style=\"text-align: right;\">75,924</td><td style=\"text-align: right;\">26</td><td style=\"text-align: right;\">1414</td><td style=\"text-align: right;\">0.00</td><td style=\"text-align: right;\">1</td><td style=\"text-align: right;\">1.00</td><td style=\"text-align: right;\">0</td><td style=\"text-align: right;\">0.00</td><td style=\"text-align: right;\">0</td><td style=\"text-align: right;\">0.00</td><td style=\"text-align: right;\">0</td><td style=\"text-align: right;\">0.00</td><td style=\"text-align: right;\">0</td><td style=\"text-align: right;\">0.00</td><td style=\"text-align: right;\">0</td><td style=\"text-align: right;\">0.00</td><td style=\"text-align: right;\">1</td><td style=\"text-align: right;\">13.66</td><td style=\"text-align: right;\">0</td><td style=\"text-align: right;\">0.00</td></tr>\n",
       "<tr><td style=\"text-align: right;\">353498</td><td style=\"text-align: right;\">135,959,272</td><td style=\"text-align: right;\">416,583</td><td style=\"text-align: right;\">5</td><td style=\"text-align: right;\">684</td><td style=\"text-align: right;\">0.00</td><td style=\"text-align: right;\">1</td><td style=\"text-align: right;\">1.00</td><td style=\"text-align: right;\">0</td><td style=\"text-align: right;\">0.00</td><td style=\"text-align: right;\">0</td><td style=\"text-align: right;\">0.00</td><td style=\"text-align: right;\">0</td><td style=\"text-align: right;\">0.00</td><td style=\"text-align: right;\">0</td><td style=\"text-align: right;\">0.00</td><td style=\"text-align: right;\">0</td><td style=\"text-align: right;\">0.00</td><td style=\"text-align: right;\">1</td><td style=\"text-align: right;\">13.66</td><td style=\"text-align: right;\">0</td><td style=\"text-align: right;\">0.00</td></tr>\n",
       "<tr class=\"even\"><td style=\"text-align: right;\">353635</td><td style=\"text-align: right;\">136,151,572</td><td style=\"text-align: right;\">121,118</td><td style=\"text-align: right;\">4</td><td style=\"text-align: right;\">37</td><td style=\"text-align: right;\">0.03</td><td style=\"text-align: right;\">1</td><td style=\"text-align: right;\">1.00</td><td style=\"text-align: right;\">0</td><td style=\"text-align: right;\">0.00</td><td style=\"text-align: right;\">0</td><td style=\"text-align: right;\">0.00</td><td style=\"text-align: right;\">0</td><td style=\"text-align: right;\">0.00</td><td style=\"text-align: right;\">0</td><td style=\"text-align: right;\">0.00</td><td style=\"text-align: right;\">0</td><td style=\"text-align: right;\">0.00</td><td style=\"text-align: right;\">1</td><td style=\"text-align: right;\">13.66</td><td style=\"text-align: right;\">0</td><td style=\"text-align: right;\">0.00</td></tr>\n",
       "<tr><td style=\"text-align: right;\">353308</td><td style=\"text-align: right;\">135,782,087</td><td style=\"text-align: right;\">144,668</td><td style=\"text-align: right;\">4</td><td style=\"text-align: right;\">34</td><td style=\"text-align: right;\">0.03</td><td style=\"text-align: right;\">1</td><td style=\"text-align: right;\">1.00</td><td style=\"text-align: right;\">0</td><td style=\"text-align: right;\">0.00</td><td style=\"text-align: right;\">0</td><td style=\"text-align: right;\">0.00</td><td style=\"text-align: right;\">0</td><td style=\"text-align: right;\">0.00</td><td style=\"text-align: right;\">0</td><td style=\"text-align: right;\">0.00</td><td style=\"text-align: right;\">0</td><td style=\"text-align: right;\">0.00</td><td style=\"text-align: right;\">1</td><td style=\"text-align: right;\">13.66</td><td style=\"text-align: right;\">0</td><td style=\"text-align: right;\">0.00</td></tr>\n",
       "</table>"
      ],
      "text/plain": [
       "<IPython.core.display.HTML object>"
      ]
     },
     "execution_count": 48,
     "metadata": {},
     "output_type": "execute_result"
    }
   ],
   "source": [
    "HTML(plt_obj.get_html())"
   ]
  },
  {
   "cell_type": "code",
   "execution_count": 49,
   "metadata": {
    "collapsed": false
   },
   "outputs": [
    {
     "data": {
      "text/plain": [
       "array([1, 1, 1, 1, 1, 1, 1, 1, 1, 1, 1, 1, 1, 1, 1, 1, 1, 1, 1, 1, 1, 1, 1,\n",
       "       1, 1, 1])"
      ]
     },
     "execution_count": 49,
     "metadata": {},
     "output_type": "execute_result"
    }
   ],
   "source": [
    "sa_26_1414.alleles_per_snp(am)"
   ]
  },
  {
   "cell_type": "code",
   "execution_count": 50,
   "metadata": {
    "collapsed": false
   },
   "outputs": [
    {
     "data": {
      "text/plain": [
       "array([1, 1, 1, 1, 1, 1, 0, 0, 0])"
      ]
     },
     "execution_count": 50,
     "metadata": {},
     "output_type": "execute_result"
    }
   ],
   "source": [
    "sa_9_944.alleles_per_snp(am)"
   ]
  },
  {
   "cell_type": "code",
   "execution_count": 51,
   "metadata": {
    "collapsed": false
   },
   "outputs": [
    {
     "data": {
      "text/plain": [
       "array([1, 1, 1, 1, 1])"
      ]
     },
     "execution_count": 51,
     "metadata": {},
     "output_type": "execute_result"
    }
   ],
   "source": [
    "sa_5_684.alleles_per_snp(am)"
   ]
  },
  {
   "cell_type": "markdown",
   "metadata": {},
   "source": [
    "<div style=\"width:700px\">\n",
    "<p>\n",
    "This plot and the following ones show data for the remaining 6 samples that\n",
    "express 26_1414 and 13_1696.\n",
    "</div>"
   ]
  },
  {
   "cell_type": "code",
   "execution_count": 52,
   "metadata": {
    "collapsed": false
   },
   "outputs": [
    {
     "data": {
      "text/html": [
       "\n",
       "\n",
       "    <div class=\"bk-root\">\n",
       "        <div class=\"plotdiv\" id=\"17a7b571-9e37-4496-a975-c30f1146a8f4\"></div>\n",
       "    </div>\n",
       "<script type=\"text/javascript\">\n",
       "  \n",
       "  (function(global) {\n",
       "    function now() {\n",
       "      return new Date();\n",
       "    }\n",
       "  \n",
       "    if (typeof (window._bokeh_onload_callbacks) === \"undefined\") {\n",
       "      window._bokeh_onload_callbacks = [];\n",
       "    }\n",
       "  \n",
       "    function run_callbacks() {\n",
       "      window._bokeh_onload_callbacks.forEach(function(callback) { callback() });\n",
       "      delete window._bokeh_onload_callbacks\n",
       "      console.info(\"Bokeh: all callbacks have finished\");\n",
       "    }\n",
       "  \n",
       "    function load_libs(js_urls, callback) {\n",
       "      window._bokeh_onload_callbacks.push(callback);\n",
       "      if (window._bokeh_is_loading > 0) {\n",
       "        console.log(\"Bokeh: BokehJS is being loaded, scheduling callback at\", now());\n",
       "        return null;\n",
       "      }\n",
       "      if (js_urls == null || js_urls.length === 0) {\n",
       "        run_callbacks();\n",
       "        return null;\n",
       "      }\n",
       "      console.log(\"Bokeh: BokehJS not loaded, scheduling load and callback at\", now());\n",
       "      window._bokeh_is_loading = js_urls.length;\n",
       "      for (var i = 0; i < js_urls.length; i++) {\n",
       "        var url = js_urls[i];\n",
       "        var s = document.createElement('script');\n",
       "        s.src = url;\n",
       "        s.async = false;\n",
       "        s.onreadystatechange = s.onload = function() {\n",
       "          window._bokeh_is_loading--;\n",
       "          if (window._bokeh_is_loading === 0) {\n",
       "            console.log(\"Bokeh: all BokehJS libraries loaded\");\n",
       "            run_callbacks()\n",
       "          }\n",
       "        };\n",
       "        s.onerror = function() {\n",
       "          console.warn(\"failed to load library \" + url);\n",
       "        };\n",
       "        console.log(\"Bokeh: injecting script tag for BokehJS library: \", url);\n",
       "        document.getElementsByTagName(\"head\")[0].appendChild(s);\n",
       "      }\n",
       "    };var element = document.getElementById(\"17a7b571-9e37-4496-a975-c30f1146a8f4\");\n",
       "    if (element == null) {\n",
       "      console.log(\"Bokeh: ERROR: autoload.js configured with elementid '17a7b571-9e37-4496-a975-c30f1146a8f4' but no matching script tag was found. \")\n",
       "      return false;\n",
       "    }\n",
       "  \n",
       "    var js_urls = [];\n",
       "  \n",
       "    var inline_js = [\n",
       "      function(Bokeh) {\n",
       "        Bokeh.$(function() {\n",
       "            var docs_json = {\"bc7d4fcf-88a4-4bbe-8157-e0e3faba41c1\":{\"roots\":{\"references\":[{\"attributes\":{\"plot\":{\"id\":\"e23d8670-6cfe-4de6-8ab3-bcd566ee24ea\",\"subtype\":\"Figure\",\"type\":\"Plot\"},\"ticker\":{\"id\":\"065606fa-9143-4f08-9792-740d4a75fd51\",\"type\":\"BasicTicker\"}},\"id\":\"74f84bea-bd1e-45b8-ad78-a507b224f8d3\",\"type\":\"Grid\"},{\"attributes\":{\"plot\":{\"id\":\"e23d8670-6cfe-4de6-8ab3-bcd566ee24ea\",\"subtype\":\"Figure\",\"type\":\"Plot\"}},\"id\":\"804d4b55-3089-41d2-a5bc-45279a868820\",\"type\":\"SaveTool\"},{\"attributes\":{\"plot\":{\"id\":\"e23d8670-6cfe-4de6-8ab3-bcd566ee24ea\",\"subtype\":\"Figure\",\"type\":\"Plot\"}},\"id\":\"fc22033e-fbfc-4bfb-b107-9dbfd5b8300f\",\"type\":\"ResetTool\"},{\"attributes\":{\"active_drag\":\"auto\",\"active_scroll\":\"auto\",\"active_tap\":\"auto\",\"tools\":[{\"id\":\"b08a511f-5cf3-4ae6-8974-1aedd96d9776\",\"type\":\"PanTool\"},{\"id\":\"fa24577f-8bc5-4fa4-8dc7-3cf6ee16d708\",\"type\":\"WheelZoomTool\"},{\"id\":\"9cc1bb99-7f36-48d0-8338-352c1d131a64\",\"type\":\"BoxZoomTool\"},{\"id\":\"804d4b55-3089-41d2-a5bc-45279a868820\",\"type\":\"SaveTool\"},{\"id\":\"fc22033e-fbfc-4bfb-b107-9dbfd5b8300f\",\"type\":\"ResetTool\"},{\"id\":\"6190e618-aa68-48f7-a954-05a70577947d\",\"type\":\"HelpTool\"}]},\"id\":\"79893d9e-99ed-460f-9e82-eca5ca714b10\",\"type\":\"Toolbar\"},{\"attributes\":{\"callback\":null,\"column_names\":[\"y\",\"x\",\"vals\"],\"data\":{\"vals\":[\"13_1696\",\"7_20\",\"4_37\",\"26_1414\",\"64_1575\",\"10_2206\",\"7_1868\"],\"x\":[135757320,136039834,136151572,136398174,136494186,136501840,136682274],\"y\":[201.0,62.0,168.0,199.0,200.0,303.0,302.0]}},\"id\":\"ba07dca5-4663-4f8d-a5d0-7db8570eaae5\",\"type\":\"ColumnDataSource\"},{\"attributes\":{\"bottom\":{\"field\":\"bottom\"},\"fill_alpha\":{\"value\":0.1},\"fill_color\":{\"value\":\"#1f77b4\"},\"left\":{\"field\":\"left\"},\"line_alpha\":{\"value\":0.1},\"line_color\":{\"value\":\"#1f77b4\"},\"right\":{\"field\":\"right\"},\"top\":{\"field\":\"top\"}},\"id\":\"46c69f86-1759-45c6-b0d7-bbed8669a7ad\",\"type\":\"Quad\"},{\"attributes\":{\"bottom\":{\"field\":\"bottom\"},\"fill_color\":{\"value\":\"white\"},\"left\":{\"field\":\"left\"},\"right\":{\"field\":\"right\"},\"top\":{\"field\":\"top\"}},\"id\":\"309b100c-cb98-4212-a428-619fc1d52896\",\"type\":\"Quad\"},{\"attributes\":{\"data_source\":{\"id\":\"a88e5a0a-1d0f-4967-8fca-54fe172a4e42\",\"type\":\"ColumnDataSource\"},\"glyph\":{\"id\":\"1edfca35-cc05-4ae4-aea5-b5e962bb3fd3\",\"type\":\"MultiLine\"},\"hover_glyph\":null,\"nonselection_glyph\":{\"id\":\"24e9ac7a-64dd-4aea-b966-30a363855d11\",\"type\":\"MultiLine\"},\"selection_glyph\":null},\"id\":\"f8c1bed8-5ceb-4339-a545-9dc04d342d12\",\"type\":\"GlyphRenderer\"},{\"attributes\":{\"callback\":null,\"column_names\":[\"xs\",\"ys\",\"line_color\"],\"data\":{\"line_color\":[\"black\",\"black\",\"black\",\"black\",\"black\",\"black\",\"black\",\"black\",\"black\",\"black\",\"black\",\"black\",\"black\",\"black\",\"black\",\"black\",\"black\",\"black\",\"black\",\"black\",\"black\",\"black\",\"black\",\"black\",\"black\",\"black\",\"black\",\"black\",\"black\",\"black\",\"black\",\"black\",\"black\",\"black\",\"black\",\"black\",\"black\",\"black\",\"black\",\"black\",\"black\",\"black\",\"black\",\"black\",\"black\",\"black\",\"black\",\"black\",\"black\",\"black\",\"black\",\"black\",\"black\",\"black\",\"black\",\"black\",\"black\",\"black\",\"black\",\"black\",\"black\",\"black\",\"black\",\"black\",\"black\",\"black\",\"black\",\"black\",\"black\",\"black\",\"black\",\"black\",\"black\",\"black\",\"black\",\"black\",\"black\",\"black\",\"black\",\"black\",\"black\",\"black\",\"black\",\"black\",\"black\",\"black\",\"black\",\"black\",\"black\",\"black\",\"black\",\"black\",\"black\",\"black\",\"black\",\"black\",\"black\",\"black\",\"black\",\"black\",\"black\",\"black\",\"black\",\"black\",\"black\",\"black\",\"black\",\"black\",\"black\",\"black\",\"black\",\"black\",\"black\",\"black\",\"black\",\"black\",\"black\",\"black\",\"black\",\"black\",\"black\",\"black\",\"black\",\"black\",\"black\",\"black\",\"black\",\"black\",\"black\",\"black\",\"black\"],\"xs\":[[135757320,135757320],[135761078,135761078],[135761271,135761271],[135762344,135762344],[135762980,135762980],[135763280,135763280],[135768815,135768815],[135769093,135769093],[135769127,135769127],[135770940,135770940],[135770951,135770951],[135776728,135776728],[135777504,135777504],[136039834,136039834],[136040506,136040506],[136108092,136108092],[136283871,136283871],[136284021,136284021],[136343363,136343363],[136349562,136349562],[136151572,136151572],[136159277,136159277],[136199181,136199181],[136272690,136272690],[136398174,136398174],[136402117,136402117],[136403749,136403749],[136409073,136409073],[136410299,136410299],[136413359,136413359],[136416855,136416855],[136416941,136416941],[136418348,136418348],[136419961,136419961],[136420690,136420690],[136422171,136422171],[136428460,136428460],[136430866,136430866],[136432103,136432103],[136437507,136437507],[136439090,136439090],[136439517,136439517],[136444123,136444123],[136445526,136445526],[136445869,136445869],[136455600,136455600],[136456642,136456642],[136462441,136462441],[136470714,136470714],[136474098,136474098],[136494186,136494186],[136495300,136495300],[136495619,136495619],[136499166,136499166],[136502792,136502792],[136503157,136503157],[136507039,136507039],[136511575,136511575],[136518103,136518103],[136521514,136521514],[136522675,136522675],[136522941,136522941],[136526981,136526981],[136535410,136535410],[136539122,136539122],[136544197,136544197],[136550109,136550109],[136551694,136551694],[136553188,136553188],[136553639,136553639],[136554800,136554800],[136557319,136557319],[136558157,136558157],[136569848,136569848],[136575199,136575199],[136576577,136576577],[136578536,136578536],[136580287,136580287],[136583192,136583192],[136586958,136586958],[136588478,136588478],[136589612,136589612],[136591178,136591178],[136591859,136591859],[136593760,136593760],[136594158,136594158],[136603276,136603276],[136603366,136603366],[136608231,136608231],[136609975,136609975],[136610598,136610598],[136611624,136611624],[136613780,136613780],[136614255,136614255],[136614813,136614813],[136617524,136617524],[136622216,136622216],[136625602,136625602],[136629911,136629911],[136630757,136630757],[136630989,136630989],[136631031,136631031],[136633771,136633771],[136636324,136636324],[136638216,136638216],[136640233,136640233],[136641882,136641882],[136643555,136643555],[136658345,136658345],[136670298,136670298],[136685228,136685228],[136696138,136696138],[136740900,136740900],[136765951,136765951],[136501840,136501840],[136505546,136505546],[136516748,136516748],[136522710,136522710],[136528004,136528004],[136539513,136539513],[136544752,136544752],[136546110,136546110],[136553529,136553529],[136555659,136555659],[136682274,136682274],[136691825,136691825],[136698098,136698098],[136721603,136721603],[136721995,136721995],[136755684,136755684],[136775898,136775898]],\"ys\":[[150,196],[150,196],[150,196],[150,196],[150,196],[150,196],[150,196],[150,196],[150,196],[150,196],[150,196],[150,196],[150,196],[50,57],[50,57],[50,57],[50,57],[50,57],[50,57],[50,57],[150,163],[150,163],[150,163],[150,163],[150,194],[150,194],[150,194],[150,194],[150,194],[150,194],[150,194],[150,194],[150,194],[150,194],[150,194],[150,194],[150,194],[150,194],[150,194],[150,194],[150,194],[150,194],[150,194],[150,194],[150,194],[150,194],[150,194],[150,194],[150,194],[150,194],[150,195],[150,195],[150,195],[150,195],[150,195],[150,195],[150,195],[150,195],[150,195],[150,195],[150,195],[150,195],[150,195],[150,195],[150,195],[150,195],[150,195],[150,195],[150,195],[150,195],[150,195],[150,195],[150,195],[150,195],[150,195],[150,195],[150,195],[150,195],[150,195],[150,195],[150,195],[150,195],[150,195],[150,195],[150,195],[150,195],[150,195],[150,195],[150,195],[150,195],[150,195],[150,195],[150,195],[150,195],[150,195],[150,195],[150,195],[150,195],[150,195],[150,195],[150,195],[150,195],[150,195],[150,195],[150,195],[150,195],[150,195],[150,195],[150,195],[150,195],[150,195],[150,195],[150,195],[150,195],[250,298],[250,298],[250,298],[250,298],[250,298],[250,298],[250,298],[250,298],[250,298],[250,298],[250,297],[250,297],[250,297],[250,297],[250,297],[250,297],[250,297]]}},\"id\":\"a88e5a0a-1d0f-4967-8fca-54fe172a4e42\",\"type\":\"ColumnDataSource\"},{\"attributes\":{\"plot\":{\"id\":\"e23d8670-6cfe-4de6-8ab3-bcd566ee24ea\",\"subtype\":\"Figure\",\"type\":\"Plot\"}},\"id\":\"6190e618-aa68-48f7-a954-05a70577947d\",\"type\":\"HelpTool\"},{\"attributes\":{\"callback\":null,\"end\":136786630,\"start\":135757320},\"id\":\"467d79bf-d871-48c8-9181-5fdc8ea555ca\",\"type\":\"Range1d\"},{\"attributes\":{\"dimension\":1,\"plot\":{\"id\":\"e23d8670-6cfe-4de6-8ab3-bcd566ee24ea\",\"subtype\":\"Figure\",\"type\":\"Plot\"},\"ticker\":{\"id\":\"dd9d3913-0d2f-42cc-bd8a-69b8c0c7dd8d\",\"type\":\"BasicTicker\"}},\"id\":\"c2bd9472-94a3-45d2-be08-aa59796b2835\",\"type\":\"Grid\"},{\"attributes\":{\"bottom_units\":\"screen\",\"fill_alpha\":{\"value\":0.5},\"fill_color\":{\"value\":\"lightgrey\"},\"left_units\":\"screen\",\"level\":\"overlay\",\"line_alpha\":{\"value\":1.0},\"line_color\":{\"value\":\"black\"},\"line_dash\":[4,4],\"line_width\":{\"value\":2},\"plot\":null,\"render_mode\":\"css\",\"right_units\":\"screen\",\"top_units\":\"screen\"},\"id\":\"21b463e3-ef19-437f-8aba-8aa144414a5e\",\"type\":\"BoxAnnotation\"},{\"attributes\":{\"level\":\"glyph\",\"plot\":{\"id\":\"e23d8670-6cfe-4de6-8ab3-bcd566ee24ea\",\"subtype\":\"Figure\",\"type\":\"Plot\"},\"source\":{\"id\":\"ba07dca5-4663-4f8d-a5d0-7db8570eaae5\",\"type\":\"ColumnDataSource\"},\"text\":{\"field\":\"vals\"},\"text_font_size\":{\"value\":\"9pt\"},\"text_font_style\":\"bold\",\"x\":{\"field\":\"x\"},\"y\":{\"field\":\"y\"}},\"id\":\"034ca037-ba0a-4ef0-b82f-1855a08c155a\",\"type\":\"LabelSet\"},{\"attributes\":{\"data_source\":{\"id\":\"e23a4bb9-d694-499f-8c1b-17f19922e5bc\",\"type\":\"ColumnDataSource\"},\"glyph\":{\"id\":\"309b100c-cb98-4212-a428-619fc1d52896\",\"type\":\"Quad\"},\"hover_glyph\":null,\"nonselection_glyph\":{\"id\":\"20a04389-546e-4bcd-ae16-064e13bb474b\",\"type\":\"Quad\"},\"selection_glyph\":null},\"id\":\"f77f7d89-1f9a-43db-823d-98878d9bca95\",\"type\":\"GlyphRenderer\"},{\"attributes\":{\"callback\":null,\"column_names\":[\"right\",\"bottom\",\"top\",\"left\",\"fill_color\"],\"data\":{\"bottom\":[150,50,150,150,150,250,250],\"fill_color\":[\"#808080\",\"#00ff00\",\"#00ffff\",\"#61c461\",\"#61c461\",\"#808080\",\"#61c461\"],\"left\":[135757320,136039834,136151572,136398174,136494186,136501840,136682274],\"right\":[135777504,136349562,136272690,136474098,136765951,136555659,136775898],\"top\":[196,57,163,194,195,298,297]}},\"id\":\"26146cc6-0fa2-4b5c-a0a2-d71e2162173b\",\"type\":\"ColumnDataSource\"},{\"attributes\":{\"plot\":null,\"text\":null},\"id\":\"9d993bf7-c313-46b3-b97c-26989c3a168b\",\"type\":\"Title\"},{\"attributes\":{\"callback\":null,\"end\":400},\"id\":\"2010df2f-060e-42e9-ac61-5e776810c463\",\"type\":\"Range1d\"},{\"attributes\":{},\"id\":\"5d11ab8b-6622-44ce-8aea-f20d90b8a204\",\"type\":\"BasicTickFormatter\"},{\"attributes\":{\"formatter\":{\"id\":\"5d11ab8b-6622-44ce-8aea-f20d90b8a204\",\"type\":\"BasicTickFormatter\"},\"plot\":{\"id\":\"e23d8670-6cfe-4de6-8ab3-bcd566ee24ea\",\"subtype\":\"Figure\",\"type\":\"Plot\"},\"ticker\":{\"id\":\"065606fa-9143-4f08-9792-740d4a75fd51\",\"type\":\"BasicTicker\"}},\"id\":\"10c3a363-67cb-4753-89e2-d2da7782fc29\",\"type\":\"LinearAxis\"},{\"attributes\":{\"level\":\"glyph\",\"plot\":{\"id\":\"e23d8670-6cfe-4de6-8ab3-bcd566ee24ea\",\"subtype\":\"Figure\",\"type\":\"Plot\"},\"source\":{\"id\":\"e7371d1d-96ee-413f-95e7-74370547351a\",\"type\":\"ColumnDataSource\"},\"text\":{\"field\":\"vals\"},\"text_align\":\"center\",\"text_baseline\":\"middle\",\"text_font_size\":{\"value\":\"8pt\"},\"x\":{\"field\":\"x\"},\"y\":{\"field\":\"y\"}},\"id\":\"fb8a2893-7596-4f34-8329-9c233e023641\",\"type\":\"LabelSet\"},{\"attributes\":{\"bottom\":{\"field\":\"bottom\"},\"fill_alpha\":{\"value\":0.1},\"fill_color\":{\"value\":\"#1f77b4\"},\"left\":{\"field\":\"left\"},\"line_alpha\":{\"value\":0.1},\"line_color\":{\"value\":\"#1f77b4\"},\"right\":{\"field\":\"right\"},\"top\":{\"field\":\"top\"}},\"id\":\"20a04389-546e-4bcd-ae16-064e13bb474b\",\"type\":\"Quad\"},{\"attributes\":{},\"id\":\"dd9d3913-0d2f-42cc-bd8a-69b8c0c7dd8d\",\"type\":\"BasicTicker\"},{\"attributes\":{},\"id\":\"10e77584-ce4f-4371-a028-73192da65e3b\",\"type\":\"ToolEvents\"},{\"attributes\":{\"line_alpha\":{\"value\":0.1},\"line_color\":{\"value\":\"#1f77b4\"},\"xs\":{\"field\":\"xs\"},\"ys\":{\"field\":\"ys\"}},\"id\":\"24e9ac7a-64dd-4aea-b966-30a363855d11\",\"type\":\"MultiLine\"},{\"attributes\":{\"line_color\":{\"field\":\"line_color\"},\"xs\":{\"field\":\"xs\"},\"ys\":{\"field\":\"ys\"}},\"id\":\"1edfca35-cc05-4ae4-aea5-b5e962bb3fd3\",\"type\":\"MultiLine\"},{\"attributes\":{\"bottom\":{\"field\":\"bottom\"},\"fill_color\":{\"field\":\"fill_color\"},\"left\":{\"field\":\"left\"},\"line_color\":{\"value\":null},\"right\":{\"field\":\"right\"},\"top\":{\"field\":\"top\"}},\"id\":\"b4f5d840-0b1d-41e7-9d7c-dfe2b9797485\",\"type\":\"Quad\"},{\"attributes\":{\"plot\":{\"id\":\"e23d8670-6cfe-4de6-8ab3-bcd566ee24ea\",\"subtype\":\"Figure\",\"type\":\"Plot\"}},\"id\":\"fa24577f-8bc5-4fa4-8dc7-3cf6ee16d708\",\"type\":\"WheelZoomTool\"},{\"attributes\":{\"data_source\":{\"id\":\"26146cc6-0fa2-4b5c-a0a2-d71e2162173b\",\"type\":\"ColumnDataSource\"},\"glyph\":{\"id\":\"b4f5d840-0b1d-41e7-9d7c-dfe2b9797485\",\"type\":\"Quad\"},\"hover_glyph\":null,\"nonselection_glyph\":{\"id\":\"46c69f86-1759-45c6-b0d7-bbed8669a7ad\",\"type\":\"Quad\"},\"selection_glyph\":null},\"id\":\"ba26d0f1-a932-48df-a763-8beb3136bf70\",\"type\":\"GlyphRenderer\"},{\"attributes\":{},\"id\":\"065606fa-9143-4f08-9792-740d4a75fd51\",\"type\":\"BasicTicker\"},{\"attributes\":{\"callback\":null,\"column_names\":[\"y\",\"x\",\"vals\"],\"data\":{\"vals\":[\"RAB3GAP1\",\"ZRANB3\",\"R3HDM1\",\"UBXN4\",\"LCT\",\"MCM6\",\"DARS\"],\"x\":[135869057.0,136122878.0,136385961.0,136520911.0,136570082.5,136615621.5,136703738.0],\"y\":[360.0,360.0,360.0,360.0,360.0,360.0,360.0]}},\"id\":\"e7371d1d-96ee-413f-95e7-74370547351a\",\"type\":\"ColumnDataSource\"},{\"attributes\":{\"overlay\":{\"id\":\"21b463e3-ef19-437f-8aba-8aa144414a5e\",\"type\":\"BoxAnnotation\"},\"plot\":{\"id\":\"e23d8670-6cfe-4de6-8ab3-bcd566ee24ea\",\"subtype\":\"Figure\",\"type\":\"Plot\"}},\"id\":\"9cc1bb99-7f36-48d0-8338-352c1d131a64\",\"type\":\"BoxZoomTool\"},{\"attributes\":{\"below\":[{\"id\":\"10c3a363-67cb-4753-89e2-d2da7782fc29\",\"type\":\"LinearAxis\"}],\"left\":[{\"id\":\"f9987fca-cc2a-47b2-8e62-5de460900e68\",\"type\":\"LinearAxis\"}],\"plot_height\":400,\"plot_width\":900,\"renderers\":[{\"id\":\"10c3a363-67cb-4753-89e2-d2da7782fc29\",\"type\":\"LinearAxis\"},{\"id\":\"74f84bea-bd1e-45b8-ad78-a507b224f8d3\",\"type\":\"Grid\"},{\"id\":\"f9987fca-cc2a-47b2-8e62-5de460900e68\",\"type\":\"LinearAxis\"},{\"id\":\"c2bd9472-94a3-45d2-be08-aa59796b2835\",\"type\":\"Grid\"},{\"id\":\"21b463e3-ef19-437f-8aba-8aa144414a5e\",\"type\":\"BoxAnnotation\"},{\"id\":\"ba26d0f1-a932-48df-a763-8beb3136bf70\",\"type\":\"GlyphRenderer\"},{\"id\":\"f8c1bed8-5ceb-4339-a545-9dc04d342d12\",\"type\":\"GlyphRenderer\"},{\"id\":\"034ca037-ba0a-4ef0-b82f-1855a08c155a\",\"type\":\"LabelSet\"},{\"id\":\"f77f7d89-1f9a-43db-823d-98878d9bca95\",\"type\":\"GlyphRenderer\"},{\"id\":\"fb8a2893-7596-4f34-8329-9c233e023641\",\"type\":\"LabelSet\"}],\"title\":{\"id\":\"9d993bf7-c313-46b3-b97c-26989c3a168b\",\"type\":\"Title\"},\"tool_events\":{\"id\":\"10e77584-ce4f-4371-a028-73192da65e3b\",\"type\":\"ToolEvents\"},\"toolbar\":{\"id\":\"79893d9e-99ed-460f-9e82-eca5ca714b10\",\"type\":\"Toolbar\"},\"toolbar_location\":null,\"x_range\":{\"id\":\"467d79bf-d871-48c8-9181-5fdc8ea555ca\",\"type\":\"Range1d\"},\"y_range\":{\"id\":\"2010df2f-060e-42e9-ac61-5e776810c463\",\"type\":\"Range1d\"}},\"id\":\"e23d8670-6cfe-4de6-8ab3-bcd566ee24ea\",\"subtype\":\"Figure\",\"type\":\"Plot\"},{\"attributes\":{},\"id\":\"a64a964f-5fa4-47f7-b557-e1a3989d980e\",\"type\":\"BasicTickFormatter\"},{\"attributes\":{\"formatter\":{\"id\":\"a64a964f-5fa4-47f7-b557-e1a3989d980e\",\"type\":\"BasicTickFormatter\"},\"plot\":{\"id\":\"e23d8670-6cfe-4de6-8ab3-bcd566ee24ea\",\"subtype\":\"Figure\",\"type\":\"Plot\"},\"ticker\":{\"id\":\"dd9d3913-0d2f-42cc-bd8a-69b8c0c7dd8d\",\"type\":\"BasicTicker\"},\"visible\":null},\"id\":\"f9987fca-cc2a-47b2-8e62-5de460900e68\",\"type\":\"LinearAxis\"},{\"attributes\":{\"callback\":null,\"column_names\":[\"right\",\"bottom\",\"top\",\"left\"],\"data\":{\"bottom\":[345,345,345,345,345,345,345],\"left\":[135809835,135957574,136289083,136499189,136545415,136597196,136664254],\"right\":[135928279,136288182,136482839,136542633,136594750,136634047,136743222],\"top\":[375,375,375,375,375,375,375]}},\"id\":\"e23a4bb9-d694-499f-8c1b-17f19922e5bc\",\"type\":\"ColumnDataSource\"},{\"attributes\":{\"plot\":{\"id\":\"e23d8670-6cfe-4de6-8ab3-bcd566ee24ea\",\"subtype\":\"Figure\",\"type\":\"Plot\"}},\"id\":\"b08a511f-5cf3-4ae6-8974-1aedd96d9776\",\"type\":\"PanTool\"}],\"root_ids\":[\"e23d8670-6cfe-4de6-8ab3-bcd566ee24ea\"]},\"title\":\"Bokeh Application\",\"version\":\"0.12.0\"}};\n",
       "            var render_items = [{\"docid\":\"bc7d4fcf-88a4-4bbe-8157-e0e3faba41c1\",\"elementid\":\"17a7b571-9e37-4496-a975-c30f1146a8f4\",\"modelid\":\"e23d8670-6cfe-4de6-8ab3-bcd566ee24ea\",\"notebook_comms_target\":\"54f80508-b52c-4648-8ad9-3b4b449e1a6c\"}];\n",
       "            \n",
       "            Bokeh.embed.embed_items(docs_json, render_items);\n",
       "        });\n",
       "      },\n",
       "      function(Bokeh) {\n",
       "      }\n",
       "    ];\n",
       "  \n",
       "    function run_inline_js() {\n",
       "      for (var i = 0; i < inline_js.length; i++) {\n",
       "        inline_js[i](window.Bokeh);\n",
       "      }\n",
       "    }\n",
       "  \n",
       "    if (window._bokeh_is_loading === 0) {\n",
       "      console.log(\"Bokeh: BokehJS loaded, going straight to plotting\");\n",
       "      run_inline_js();\n",
       "    } else {\n",
       "      load_libs(js_urls, function() {\n",
       "        console.log(\"Bokeh: BokehJS plotting callback run at\", now());\n",
       "        run_inline_js();\n",
       "      });\n",
       "    }\n",
       "  }(this));\n",
       "</script>"
      ]
     },
     "metadata": {},
     "output_type": "display_data"
    },
    {
     "data": {
      "text/html": [
       "<p><code>&lt;Bokeh Notebook handle for <strong>In[52]</strong>&gt;</code></p>"
      ],
      "text/plain": [
       "<bokeh.io._CommsHandle at 0x7f43649fcb50>"
      ]
     },
     "execution_count": 52,
     "metadata": {},
     "output_type": "execute_result"
    }
   ],
   "source": [
    "plt_obj = dm.superset_yes_no([dm.di_26_1414, dm.di_13_1696], \n",
    "                             [dm.di_5_684, dm.di_123_1561, dm.di_4_1699], min_match=0.1)\n",
    "plt = plt_obj.do_plot()\n",
    "am = plt_obj.plot_context.yes_allele_mask\n",
    "show(plt)"
   ]
  },
  {
   "cell_type": "code",
   "execution_count": 53,
   "metadata": {
    "collapsed": false
   },
   "outputs": [
    {
     "data": {
      "text/html": [
       "<table>\n",
       "<thead><tr><th style=\"text-align:center\">index</th><th style=\"text-align:center\">first</th><th style=\"text-align:center\">length</th><th style=\"text-align:center\">snps</th><th style=\"text-align:center\" colspan=2>alleles</th><th style=\"text-align:center\" colspan=2>matches</th><th style=\"text-align:center\" colspan=2>afr</th><th style=\"text-align:center\" colspan=2>afx</th><th style=\"text-align:center\" colspan=2>amr</th><th style=\"text-align:center\" colspan=2>eas</th><th style=\"text-align:center\" colspan=2>eur</th><th style=\"text-align:center\" colspan=2>sas</th><th style=\"text-align:center\" colspan=2>sax</th></tr></thead>\n",
       "<tr class=\"even\"><td style=\"text-align: right;\">353921</td><td style=\"text-align: right;\">136,501,840</td><td style=\"text-align: right;\">53,819</td><td style=\"text-align: right;\">10</td><td style=\"text-align: right;\">2206</td><td style=\"text-align: right;\">0.00</td><td style=\"text-align: right;\">6</td><td style=\"text-align: right;\">1.00</td><td style=\"text-align: right;\">0</td><td style=\"text-align: right;\">0.00</td><td style=\"text-align: right;\">1</td><td style=\"text-align: right;\">2.36</td><td style=\"text-align: right;\">1</td><td style=\"text-align: right;\">1.31</td><td style=\"text-align: right;\">1</td><td style=\"text-align: right;\">4.33</td><td style=\"text-align: right;\">0</td><td style=\"text-align: right;\">0.00</td><td style=\"text-align: right;\">0</td><td style=\"text-align: right;\">0.00</td><td style=\"text-align: right;\">3</td><td style=\"text-align: right;\">3.33</td></tr>\n",
       "<tr><td style=\"text-align: right;\">354170</td><td style=\"text-align: right;\">136,682,274</td><td style=\"text-align: right;\">93,624</td><td style=\"text-align: right;\">7</td><td style=\"text-align: right;\">1868</td><td style=\"text-align: right;\">0.00</td><td style=\"text-align: right;\">6</td><td style=\"text-align: right;\">1.00</td><td style=\"text-align: right;\">0</td><td style=\"text-align: right;\">0.00</td><td style=\"text-align: right;\">1</td><td style=\"text-align: right;\">2.36</td><td style=\"text-align: right;\">1</td><td style=\"text-align: right;\">1.31</td><td style=\"text-align: right;\">1</td><td style=\"text-align: right;\">4.33</td><td style=\"text-align: right;\">0</td><td style=\"text-align: right;\">0.00</td><td style=\"text-align: right;\">0</td><td style=\"text-align: right;\">0.00</td><td style=\"text-align: right;\">3</td><td style=\"text-align: right;\">3.33</td></tr>\n",
       "<tr class=\"even\"><td style=\"text-align: right;\">353240</td><td style=\"text-align: right;\">135,757,320</td><td style=\"text-align: right;\">20,184</td><td style=\"text-align: right;\">13</td><td style=\"text-align: right;\">1696</td><td style=\"text-align: right;\">0.00</td><td style=\"text-align: right;\">6</td><td style=\"text-align: right;\">1.00</td><td style=\"text-align: right;\">0</td><td style=\"text-align: right;\">0.00</td><td style=\"text-align: right;\">1</td><td style=\"text-align: right;\">2.36</td><td style=\"text-align: right;\">1</td><td style=\"text-align: right;\">1.31</td><td style=\"text-align: right;\">1</td><td style=\"text-align: right;\">4.33</td><td style=\"text-align: right;\">0</td><td style=\"text-align: right;\">0.00</td><td style=\"text-align: right;\">0</td><td style=\"text-align: right;\">0.00</td><td style=\"text-align: right;\">3</td><td style=\"text-align: right;\">3.33</td></tr>\n",
       "<tr><td style=\"text-align: right;\">353901</td><td style=\"text-align: right;\">136,494,186</td><td style=\"text-align: right;\">271,765</td><td style=\"text-align: right;\">64</td><td style=\"text-align: right;\">1575</td><td style=\"text-align: right;\">0.00</td><td style=\"text-align: right;\">6</td><td style=\"text-align: right;\">1.00</td><td style=\"text-align: right;\">0</td><td style=\"text-align: right;\">0.00</td><td style=\"text-align: right;\">1</td><td style=\"text-align: right;\">2.36</td><td style=\"text-align: right;\">1</td><td style=\"text-align: right;\">1.31</td><td style=\"text-align: right;\">1</td><td style=\"text-align: right;\">4.33</td><td style=\"text-align: right;\">0</td><td style=\"text-align: right;\">0.00</td><td style=\"text-align: right;\">0</td><td style=\"text-align: right;\">0.00</td><td style=\"text-align: right;\">3</td><td style=\"text-align: right;\">3.33</td></tr>\n",
       "<tr class=\"even\"><td style=\"text-align: right;\">353797</td><td style=\"text-align: right;\">136,398,174</td><td style=\"text-align: right;\">75,924</td><td style=\"text-align: right;\">26</td><td style=\"text-align: right;\">1414</td><td style=\"text-align: right;\">0.00</td><td style=\"text-align: right;\">6</td><td style=\"text-align: right;\">1.00</td><td style=\"text-align: right;\">0</td><td style=\"text-align: right;\">0.00</td><td style=\"text-align: right;\">1</td><td style=\"text-align: right;\">2.36</td><td style=\"text-align: right;\">1</td><td style=\"text-align: right;\">1.31</td><td style=\"text-align: right;\">1</td><td style=\"text-align: right;\">4.33</td><td style=\"text-align: right;\">0</td><td style=\"text-align: right;\">0.00</td><td style=\"text-align: right;\">0</td><td style=\"text-align: right;\">0.00</td><td style=\"text-align: right;\">3</td><td style=\"text-align: right;\">3.33</td></tr>\n",
       "<tr><td style=\"text-align: right;\">353635</td><td style=\"text-align: right;\">136,151,572</td><td style=\"text-align: right;\">121,118</td><td style=\"text-align: right;\">4</td><td style=\"text-align: right;\">37</td><td style=\"text-align: right;\">0.03</td><td style=\"text-align: right;\">1</td><td style=\"text-align: right;\">0.17</td><td style=\"text-align: right;\">0</td><td style=\"text-align: right;\">0.00</td><td style=\"text-align: right;\">0</td><td style=\"text-align: right;\">0.00</td><td style=\"text-align: right;\">0</td><td style=\"text-align: right;\">0.00</td><td style=\"text-align: right;\">0</td><td style=\"text-align: right;\">0.00</td><td style=\"text-align: right;\">0</td><td style=\"text-align: right;\">0.00</td><td style=\"text-align: right;\">0</td><td style=\"text-align: right;\">0.00</td><td style=\"text-align: right;\">1</td><td style=\"text-align: right;\">6.65</td></tr>\n",
       "<tr class=\"even\"><td style=\"text-align: right;\">353570</td><td style=\"text-align: right;\">136,039,834</td><td style=\"text-align: right;\">309,728</td><td style=\"text-align: right;\">7</td><td style=\"text-align: right;\">20</td><td style=\"text-align: right;\">0.05</td><td style=\"text-align: right;\">1</td><td style=\"text-align: right;\">0.17</td><td style=\"text-align: right;\">0</td><td style=\"text-align: right;\">0.00</td><td style=\"text-align: right;\">0</td><td style=\"text-align: right;\">0.00</td><td style=\"text-align: right;\">1</td><td style=\"text-align: right;\">7.88</td><td style=\"text-align: right;\">0</td><td style=\"text-align: right;\">0.00</td><td style=\"text-align: right;\">0</td><td style=\"text-align: right;\">0.00</td><td style=\"text-align: right;\">0</td><td style=\"text-align: right;\">0.00</td><td style=\"text-align: right;\">0</td><td style=\"text-align: right;\">0.00</td></tr>\n",
       "</table>"
      ],
      "text/plain": [
       "<IPython.core.display.HTML object>"
      ]
     },
     "execution_count": 53,
     "metadata": {},
     "output_type": "execute_result"
    }
   ],
   "source": [
    "HTML(plt_obj.get_html())"
   ]
  },
  {
   "cell_type": "code",
   "execution_count": 54,
   "metadata": {
    "collapsed": false
   },
   "outputs": [
    {
     "data": {
      "text/plain": [
       "array([6, 6, 6, 6, 6, 6, 6, 6, 6, 6, 6, 6, 6, 6, 6, 6, 6, 6, 6, 6, 6, 6, 6,\n",
       "       6, 6, 6])"
      ]
     },
     "execution_count": 54,
     "metadata": {},
     "output_type": "execute_result"
    }
   ],
   "source": [
    "sa_26_1414.alleles_per_snp(am)"
   ]
  },
  {
   "cell_type": "code",
   "execution_count": 55,
   "metadata": {
    "collapsed": false
   },
   "outputs": [
    {
     "data": {
      "text/plain": [
       "array([5, 5, 5, 5, 4, 4, 0, 0, 0])"
      ]
     },
     "execution_count": 55,
     "metadata": {},
     "output_type": "execute_result"
    }
   ],
   "source": [
    "sa_9_944.alleles_per_snp(am)"
   ]
  },
  {
   "cell_type": "code",
   "execution_count": 56,
   "metadata": {
    "collapsed": false
   },
   "outputs": [
    {
     "data": {
      "text/plain": [
       "array([2, 1, 1, 1, 0])"
      ]
     },
     "execution_count": 56,
     "metadata": {},
     "output_type": "execute_result"
    }
   ],
   "source": [
    "sa_5_684.alleles_per_snp(am)"
   ]
  },
  {
   "cell_type": "code",
   "execution_count": 57,
   "metadata": {
    "collapsed": false
   },
   "outputs": [
    {
     "data": {
      "text/html": [
       "\n",
       "\n",
       "    <div class=\"bk-root\">\n",
       "        <div class=\"plotdiv\" id=\"e605527b-b219-4df6-a9cc-cec8f7680f05\"></div>\n",
       "    </div>\n",
       "<script type=\"text/javascript\">\n",
       "  \n",
       "  (function(global) {\n",
       "    function now() {\n",
       "      return new Date();\n",
       "    }\n",
       "  \n",
       "    if (typeof (window._bokeh_onload_callbacks) === \"undefined\") {\n",
       "      window._bokeh_onload_callbacks = [];\n",
       "    }\n",
       "  \n",
       "    function run_callbacks() {\n",
       "      window._bokeh_onload_callbacks.forEach(function(callback) { callback() });\n",
       "      delete window._bokeh_onload_callbacks\n",
       "      console.info(\"Bokeh: all callbacks have finished\");\n",
       "    }\n",
       "  \n",
       "    function load_libs(js_urls, callback) {\n",
       "      window._bokeh_onload_callbacks.push(callback);\n",
       "      if (window._bokeh_is_loading > 0) {\n",
       "        console.log(\"Bokeh: BokehJS is being loaded, scheduling callback at\", now());\n",
       "        return null;\n",
       "      }\n",
       "      if (js_urls == null || js_urls.length === 0) {\n",
       "        run_callbacks();\n",
       "        return null;\n",
       "      }\n",
       "      console.log(\"Bokeh: BokehJS not loaded, scheduling load and callback at\", now());\n",
       "      window._bokeh_is_loading = js_urls.length;\n",
       "      for (var i = 0; i < js_urls.length; i++) {\n",
       "        var url = js_urls[i];\n",
       "        var s = document.createElement('script');\n",
       "        s.src = url;\n",
       "        s.async = false;\n",
       "        s.onreadystatechange = s.onload = function() {\n",
       "          window._bokeh_is_loading--;\n",
       "          if (window._bokeh_is_loading === 0) {\n",
       "            console.log(\"Bokeh: all BokehJS libraries loaded\");\n",
       "            run_callbacks()\n",
       "          }\n",
       "        };\n",
       "        s.onerror = function() {\n",
       "          console.warn(\"failed to load library \" + url);\n",
       "        };\n",
       "        console.log(\"Bokeh: injecting script tag for BokehJS library: \", url);\n",
       "        document.getElementsByTagName(\"head\")[0].appendChild(s);\n",
       "      }\n",
       "    };var element = document.getElementById(\"e605527b-b219-4df6-a9cc-cec8f7680f05\");\n",
       "    if (element == null) {\n",
       "      console.log(\"Bokeh: ERROR: autoload.js configured with elementid 'e605527b-b219-4df6-a9cc-cec8f7680f05' but no matching script tag was found. \")\n",
       "      return false;\n",
       "    }\n",
       "  \n",
       "    var js_urls = [];\n",
       "  \n",
       "    var inline_js = [\n",
       "      function(Bokeh) {\n",
       "        Bokeh.$(function() {\n",
       "            var docs_json = {\"b2a82366-ec7e-4a89-8d25-64acff6c41c5\":{\"roots\":{\"references\":[{\"attributes\":{},\"id\":\"2a02c434-4a8f-4606-848c-85c3a076897f\",\"type\":\"ToolEvents\"},{\"attributes\":{\"data_source\":{\"id\":\"5c1abf25-0927-4670-9bf6-2cfe7bcd2a5e\",\"type\":\"ColumnDataSource\"},\"glyph\":{\"id\":\"efc3c4c1-ded0-4797-a60d-cee271f794dd\",\"type\":\"Quad\"},\"hover_glyph\":null,\"nonselection_glyph\":{\"id\":\"eeb0afc5-c32b-4bd7-94d1-f22db7638c80\",\"type\":\"Quad\"},\"selection_glyph\":null},\"id\":\"3d4e5692-f9ee-4ea1-86e5-942274cafa7f\",\"type\":\"GlyphRenderer\"},{\"attributes\":{\"bottom\":{\"field\":\"bottom\"},\"fill_color\":{\"value\":\"white\"},\"left\":{\"field\":\"left\"},\"right\":{\"field\":\"right\"},\"top\":{\"field\":\"top\"}},\"id\":\"efc3c4c1-ded0-4797-a60d-cee271f794dd\",\"type\":\"Quad\"},{\"attributes\":{\"plot\":{\"id\":\"677ba39a-bacd-4497-a5d7-73543da2c376\",\"subtype\":\"Figure\",\"type\":\"Plot\"}},\"id\":\"4d7419d6-d639-44d3-8cda-2a935790021e\",\"type\":\"HelpTool\"},{\"attributes\":{\"level\":\"glyph\",\"plot\":{\"id\":\"677ba39a-bacd-4497-a5d7-73543da2c376\",\"subtype\":\"Figure\",\"type\":\"Plot\"},\"source\":{\"id\":\"13bf2062-2752-43a0-bc76-aaa7e6ee7570\",\"type\":\"ColumnDataSource\"},\"text\":{\"field\":\"vals\"},\"text_align\":\"center\",\"text_baseline\":\"middle\",\"text_font_size\":{\"value\":\"8pt\"},\"x\":{\"field\":\"x\"},\"y\":{\"field\":\"y\"}},\"id\":\"6dbd24ab-ece3-4828-a7dd-7b343f38d5f1\",\"type\":\"LabelSet\"},{\"attributes\":{\"line_color\":{\"field\":\"line_color\"},\"xs\":{\"field\":\"xs\"},\"ys\":{\"field\":\"ys\"}},\"id\":\"77080861-ecfa-408d-b02d-033db5fa687a\",\"type\":\"MultiLine\"},{\"attributes\":{\"dimension\":1,\"plot\":{\"id\":\"677ba39a-bacd-4497-a5d7-73543da2c376\",\"subtype\":\"Figure\",\"type\":\"Plot\"},\"ticker\":{\"id\":\"5627c2f2-ac94-4cb2-8f0c-74cedd708560\",\"type\":\"BasicTicker\"}},\"id\":\"88e89da4-b7d4-4815-9d38-b540c44de7c1\",\"type\":\"Grid\"},{\"attributes\":{\"plot\":{\"id\":\"677ba39a-bacd-4497-a5d7-73543da2c376\",\"subtype\":\"Figure\",\"type\":\"Plot\"}},\"id\":\"9defcc2c-5a01-46fb-9abd-8644b0d861d3\",\"type\":\"SaveTool\"},{\"attributes\":{\"plot\":{\"id\":\"677ba39a-bacd-4497-a5d7-73543da2c376\",\"subtype\":\"Figure\",\"type\":\"Plot\"}},\"id\":\"38376516-dea0-43d5-adea-4e6f2855d5c1\",\"type\":\"ResetTool\"},{\"attributes\":{\"formatter\":{\"id\":\"7459455a-db43-4884-8924-d26214088f45\",\"type\":\"BasicTickFormatter\"},\"plot\":{\"id\":\"677ba39a-bacd-4497-a5d7-73543da2c376\",\"subtype\":\"Figure\",\"type\":\"Plot\"},\"ticker\":{\"id\":\"e7d654d1-281b-4199-9b78-6124a051e16c\",\"type\":\"BasicTicker\"}},\"id\":\"6f8d0b3a-51dd-45cb-9c66-397715fb15f6\",\"type\":\"LinearAxis\"},{\"attributes\":{\"callback\":null,\"column_names\":[\"right\",\"bottom\",\"top\",\"left\",\"fill_color\"],\"data\":{\"bottom\":[50,50,50,50,150,150],\"fill_color\":[\"#808080\",\"#00ffff\",\"#61c461\",\"#61c461\",\"#808080\",\"#61c461\"],\"left\":[135757320,136151572,136398174,136494186,136501840,136682274],\"right\":[135777504,136272690,136474098,136765951,136555659,136775898],\"top\":[96,63,94,95,198,197]}},\"id\":\"8dd95aa3-de5b-4fde-bf15-12330bc570ca\",\"type\":\"ColumnDataSource\"},{\"attributes\":{\"plot\":{\"id\":\"677ba39a-bacd-4497-a5d7-73543da2c376\",\"subtype\":\"Figure\",\"type\":\"Plot\"}},\"id\":\"e47fedbb-9662-4389-9ee7-a688c5a3b41e\",\"type\":\"WheelZoomTool\"},{\"attributes\":{\"callback\":null,\"column_names\":[\"xs\",\"ys\",\"line_color\"],\"data\":{\"line_color\":[\"black\",\"black\",\"black\",\"black\",\"black\",\"black\",\"black\",\"black\",\"black\",\"black\",\"black\",\"black\",\"black\",\"black\",\"black\",\"black\",\"black\",\"black\",\"black\",\"black\",\"black\",\"black\",\"black\",\"black\",\"black\",\"black\",\"black\",\"black\",\"black\",\"black\",\"black\",\"black\",\"black\",\"black\",\"black\",\"black\",\"black\",\"black\",\"black\",\"black\",\"black\",\"black\",\"black\",\"black\",\"black\",\"black\",\"black\",\"black\",\"black\",\"black\",\"black\",\"black\",\"black\",\"black\",\"black\",\"black\",\"black\",\"black\",\"black\",\"black\",\"black\",\"black\",\"black\",\"black\",\"black\",\"black\",\"black\",\"black\",\"black\",\"black\",\"black\",\"black\",\"black\",\"black\",\"black\",\"black\",\"black\",\"black\",\"black\",\"black\",\"black\",\"black\",\"black\",\"black\",\"black\",\"black\",\"black\",\"black\",\"black\",\"black\",\"black\",\"black\",\"black\",\"black\",\"black\",\"black\",\"black\",\"black\",\"black\",\"black\",\"black\",\"black\",\"black\",\"black\",\"black\",\"black\",\"black\",\"black\",\"black\",\"black\",\"black\",\"black\",\"black\",\"black\",\"black\",\"black\",\"black\",\"black\",\"black\",\"black\",\"black\",\"black\",\"black\",\"black\"],\"xs\":[[135757320,135757320],[135761078,135761078],[135761271,135761271],[135762344,135762344],[135762980,135762980],[135763280,135763280],[135768815,135768815],[135769093,135769093],[135769127,135769127],[135770940,135770940],[135770951,135770951],[135776728,135776728],[135777504,135777504],[136151572,136151572],[136159277,136159277],[136199181,136199181],[136272690,136272690],[136398174,136398174],[136402117,136402117],[136403749,136403749],[136409073,136409073],[136410299,136410299],[136413359,136413359],[136416855,136416855],[136416941,136416941],[136418348,136418348],[136419961,136419961],[136420690,136420690],[136422171,136422171],[136428460,136428460],[136430866,136430866],[136432103,136432103],[136437507,136437507],[136439090,136439090],[136439517,136439517],[136444123,136444123],[136445526,136445526],[136445869,136445869],[136455600,136455600],[136456642,136456642],[136462441,136462441],[136470714,136470714],[136474098,136474098],[136494186,136494186],[136495300,136495300],[136495619,136495619],[136499166,136499166],[136502792,136502792],[136503157,136503157],[136507039,136507039],[136511575,136511575],[136518103,136518103],[136521514,136521514],[136522675,136522675],[136522941,136522941],[136526981,136526981],[136535410,136535410],[136539122,136539122],[136544197,136544197],[136550109,136550109],[136551694,136551694],[136553188,136553188],[136553639,136553639],[136554800,136554800],[136557319,136557319],[136558157,136558157],[136569848,136569848],[136575199,136575199],[136576577,136576577],[136578536,136578536],[136580287,136580287],[136583192,136583192],[136586958,136586958],[136588478,136588478],[136589612,136589612],[136591178,136591178],[136591859,136591859],[136593760,136593760],[136594158,136594158],[136603276,136603276],[136603366,136603366],[136608231,136608231],[136609975,136609975],[136610598,136610598],[136611624,136611624],[136613780,136613780],[136614255,136614255],[136614813,136614813],[136617524,136617524],[136622216,136622216],[136625602,136625602],[136629911,136629911],[136630757,136630757],[136630989,136630989],[136631031,136631031],[136633771,136633771],[136636324,136636324],[136638216,136638216],[136640233,136640233],[136641882,136641882],[136643555,136643555],[136658345,136658345],[136670298,136670298],[136685228,136685228],[136696138,136696138],[136740900,136740900],[136765951,136765951],[136501840,136501840],[136505546,136505546],[136516748,136516748],[136522710,136522710],[136528004,136528004],[136539513,136539513],[136544752,136544752],[136546110,136546110],[136553529,136553529],[136555659,136555659],[136682274,136682274],[136691825,136691825],[136698098,136698098],[136721603,136721603],[136721995,136721995],[136755684,136755684],[136775898,136775898]],\"ys\":[[50,96],[50,96],[50,96],[50,96],[50,96],[50,96],[50,96],[50,96],[50,96],[50,96],[50,96],[50,96],[50,96],[50,63],[50,63],[50,63],[50,63],[50,94],[50,94],[50,94],[50,94],[50,94],[50,94],[50,94],[50,94],[50,94],[50,94],[50,94],[50,94],[50,94],[50,94],[50,94],[50,94],[50,94],[50,94],[50,94],[50,94],[50,94],[50,94],[50,94],[50,94],[50,94],[50,94],[50,95],[50,95],[50,95],[50,95],[50,95],[50,95],[50,95],[50,95],[50,95],[50,95],[50,95],[50,95],[50,95],[50,95],[50,95],[50,95],[50,95],[50,95],[50,95],[50,95],[50,95],[50,95],[50,95],[50,95],[50,95],[50,95],[50,95],[50,95],[50,95],[50,95],[50,95],[50,95],[50,95],[50,95],[50,95],[50,95],[50,95],[50,95],[50,95],[50,95],[50,95],[50,95],[50,95],[50,95],[50,95],[50,95],[50,95],[50,95],[50,95],[50,95],[50,95],[50,95],[50,95],[50,95],[50,95],[50,95],[50,95],[50,95],[50,95],[50,95],[50,95],[50,95],[50,95],[50,95],[150,198],[150,198],[150,198],[150,198],[150,198],[150,198],[150,198],[150,198],[150,198],[150,198],[150,197],[150,197],[150,197],[150,197],[150,197],[150,197],[150,197]]}},\"id\":\"0a2d415e-0537-4453-ad57-b1d4c270a4b5\",\"type\":\"ColumnDataSource\"},{\"attributes\":{\"bottom_units\":\"screen\",\"fill_alpha\":{\"value\":0.5},\"fill_color\":{\"value\":\"lightgrey\"},\"left_units\":\"screen\",\"level\":\"overlay\",\"line_alpha\":{\"value\":1.0},\"line_color\":{\"value\":\"black\"},\"line_dash\":[4,4],\"line_width\":{\"value\":2},\"plot\":null,\"render_mode\":\"css\",\"right_units\":\"screen\",\"top_units\":\"screen\"},\"id\":\"e725bb53-5026-4777-a895-666acee0dd97\",\"type\":\"BoxAnnotation\"},{\"attributes\":{\"plot\":null,\"text\":null},\"id\":\"26ae10be-0d2c-4ba2-83a0-0409d116b87a\",\"type\":\"Title\"},{\"attributes\":{},\"id\":\"124b1d12-a9f9-427c-aad0-d3e2695bb427\",\"type\":\"BasicTickFormatter\"},{\"attributes\":{\"data_source\":{\"id\":\"0a2d415e-0537-4453-ad57-b1d4c270a4b5\",\"type\":\"ColumnDataSource\"},\"glyph\":{\"id\":\"77080861-ecfa-408d-b02d-033db5fa687a\",\"type\":\"MultiLine\"},\"hover_glyph\":null,\"nonselection_glyph\":{\"id\":\"f7e9a961-2124-4ecc-934f-16b66f88761b\",\"type\":\"MultiLine\"},\"selection_glyph\":null},\"id\":\"f7202364-dda6-4ec7-9cb0-a0fb1754cb0b\",\"type\":\"GlyphRenderer\"},{\"attributes\":{\"formatter\":{\"id\":\"124b1d12-a9f9-427c-aad0-d3e2695bb427\",\"type\":\"BasicTickFormatter\"},\"plot\":{\"id\":\"677ba39a-bacd-4497-a5d7-73543da2c376\",\"subtype\":\"Figure\",\"type\":\"Plot\"},\"ticker\":{\"id\":\"5627c2f2-ac94-4cb2-8f0c-74cedd708560\",\"type\":\"BasicTicker\"},\"visible\":null},\"id\":\"9ee063c8-9f37-4e8d-9a6c-49e619f38838\",\"type\":\"LinearAxis\"},{\"attributes\":{\"overlay\":{\"id\":\"e725bb53-5026-4777-a895-666acee0dd97\",\"type\":\"BoxAnnotation\"},\"plot\":{\"id\":\"677ba39a-bacd-4497-a5d7-73543da2c376\",\"subtype\":\"Figure\",\"type\":\"Plot\"}},\"id\":\"3b7d8bd4-805f-48c4-9562-9fa0593b7472\",\"type\":\"BoxZoomTool\"},{\"attributes\":{},\"id\":\"5627c2f2-ac94-4cb2-8f0c-74cedd708560\",\"type\":\"BasicTicker\"},{\"attributes\":{\"plot\":{\"id\":\"677ba39a-bacd-4497-a5d7-73543da2c376\",\"subtype\":\"Figure\",\"type\":\"Plot\"}},\"id\":\"dbecb0a8-a65a-49e8-adbe-066d0c4e5455\",\"type\":\"PanTool\"},{\"attributes\":{\"bottom\":{\"field\":\"bottom\"},\"fill_color\":{\"field\":\"fill_color\"},\"left\":{\"field\":\"left\"},\"line_color\":{\"value\":null},\"right\":{\"field\":\"right\"},\"top\":{\"field\":\"top\"}},\"id\":\"16916b49-8f80-49be-b1b3-df8307206be5\",\"type\":\"Quad\"},{\"attributes\":{\"callback\":null,\"end\":300},\"id\":\"f6749bfc-3efd-4be6-863e-f272add0548e\",\"type\":\"Range1d\"},{\"attributes\":{\"callback\":null,\"column_names\":[\"y\",\"x\",\"vals\"],\"data\":{\"vals\":[\"RAB3GAP1\",\"ZRANB3\",\"R3HDM1\",\"UBXN4\",\"LCT\",\"MCM6\",\"DARS\"],\"x\":[135869057.0,136122878.0,136385961.0,136520911.0,136570082.5,136615621.5,136703738.0],\"y\":[260.0,260.0,260.0,260.0,260.0,260.0,260.0]}},\"id\":\"13bf2062-2752-43a0-bc76-aaa7e6ee7570\",\"type\":\"ColumnDataSource\"},{\"attributes\":{\"callback\":null,\"end\":136786630,\"start\":135757320},\"id\":\"4e26e512-9fa0-4414-b00b-f70de05c96b4\",\"type\":\"Range1d\"},{\"attributes\":{\"callback\":null,\"column_names\":[\"right\",\"bottom\",\"top\",\"left\"],\"data\":{\"bottom\":[245,245,245,245,245,245,245],\"left\":[135809835,135957574,136289083,136499189,136545415,136597196,136664254],\"right\":[135928279,136288182,136482839,136542633,136594750,136634047,136743222],\"top\":[275,275,275,275,275,275,275]}},\"id\":\"5c1abf25-0927-4670-9bf6-2cfe7bcd2a5e\",\"type\":\"ColumnDataSource\"},{\"attributes\":{\"level\":\"glyph\",\"plot\":{\"id\":\"677ba39a-bacd-4497-a5d7-73543da2c376\",\"subtype\":\"Figure\",\"type\":\"Plot\"},\"source\":{\"id\":\"5f87129d-b3e9-4142-b86a-76104f853e8d\",\"type\":\"ColumnDataSource\"},\"text\":{\"field\":\"vals\"},\"text_font_size\":{\"value\":\"9pt\"},\"text_font_style\":\"bold\",\"x\":{\"field\":\"x\"},\"y\":{\"field\":\"y\"}},\"id\":\"c567b604-09eb-4d56-a0a0-112c40c01b88\",\"type\":\"LabelSet\"},{\"attributes\":{\"data_source\":{\"id\":\"8dd95aa3-de5b-4fde-bf15-12330bc570ca\",\"type\":\"ColumnDataSource\"},\"glyph\":{\"id\":\"16916b49-8f80-49be-b1b3-df8307206be5\",\"type\":\"Quad\"},\"hover_glyph\":null,\"nonselection_glyph\":{\"id\":\"2a60b934-81b9-4104-ba53-a3baf404c00f\",\"type\":\"Quad\"},\"selection_glyph\":null},\"id\":\"5b81b038-0f56-4fff-9e4b-92d70db4a6ee\",\"type\":\"GlyphRenderer\"},{\"attributes\":{\"below\":[{\"id\":\"6f8d0b3a-51dd-45cb-9c66-397715fb15f6\",\"type\":\"LinearAxis\"}],\"left\":[{\"id\":\"9ee063c8-9f37-4e8d-9a6c-49e619f38838\",\"type\":\"LinearAxis\"}],\"plot_height\":300,\"plot_width\":900,\"renderers\":[{\"id\":\"6f8d0b3a-51dd-45cb-9c66-397715fb15f6\",\"type\":\"LinearAxis\"},{\"id\":\"eaf05c82-abb8-40fa-ab86-bd22cd53d351\",\"type\":\"Grid\"},{\"id\":\"9ee063c8-9f37-4e8d-9a6c-49e619f38838\",\"type\":\"LinearAxis\"},{\"id\":\"88e89da4-b7d4-4815-9d38-b540c44de7c1\",\"type\":\"Grid\"},{\"id\":\"e725bb53-5026-4777-a895-666acee0dd97\",\"type\":\"BoxAnnotation\"},{\"id\":\"5b81b038-0f56-4fff-9e4b-92d70db4a6ee\",\"type\":\"GlyphRenderer\"},{\"id\":\"f7202364-dda6-4ec7-9cb0-a0fb1754cb0b\",\"type\":\"GlyphRenderer\"},{\"id\":\"c567b604-09eb-4d56-a0a0-112c40c01b88\",\"type\":\"LabelSet\"},{\"id\":\"3d4e5692-f9ee-4ea1-86e5-942274cafa7f\",\"type\":\"GlyphRenderer\"},{\"id\":\"6dbd24ab-ece3-4828-a7dd-7b343f38d5f1\",\"type\":\"LabelSet\"}],\"title\":{\"id\":\"26ae10be-0d2c-4ba2-83a0-0409d116b87a\",\"type\":\"Title\"},\"tool_events\":{\"id\":\"2a02c434-4a8f-4606-848c-85c3a076897f\",\"type\":\"ToolEvents\"},\"toolbar\":{\"id\":\"fcba8eee-6432-4e56-8612-a1d3c79b15d5\",\"type\":\"Toolbar\"},\"toolbar_location\":null,\"x_range\":{\"id\":\"4e26e512-9fa0-4414-b00b-f70de05c96b4\",\"type\":\"Range1d\"},\"y_range\":{\"id\":\"f6749bfc-3efd-4be6-863e-f272add0548e\",\"type\":\"Range1d\"}},\"id\":\"677ba39a-bacd-4497-a5d7-73543da2c376\",\"subtype\":\"Figure\",\"type\":\"Plot\"},{\"attributes\":{},\"id\":\"e7d654d1-281b-4199-9b78-6124a051e16c\",\"type\":\"BasicTicker\"},{\"attributes\":{\"callback\":null,\"column_names\":[\"y\",\"x\",\"vals\"],\"data\":{\"vals\":[\"13_1696\",\"4_37\",\"26_1414\",\"64_1575\",\"10_2206\",\"7_1868\"],\"x\":[135757320,136151572,136398174,136494186,136501840,136682274],\"y\":[101.0,68.0,99.0,100.0,203.0,202.0]}},\"id\":\"5f87129d-b3e9-4142-b86a-76104f853e8d\",\"type\":\"ColumnDataSource\"},{\"attributes\":{\"bottom\":{\"field\":\"bottom\"},\"fill_alpha\":{\"value\":0.1},\"fill_color\":{\"value\":\"#1f77b4\"},\"left\":{\"field\":\"left\"},\"line_alpha\":{\"value\":0.1},\"line_color\":{\"value\":\"#1f77b4\"},\"right\":{\"field\":\"right\"},\"top\":{\"field\":\"top\"}},\"id\":\"2a60b934-81b9-4104-ba53-a3baf404c00f\",\"type\":\"Quad\"},{\"attributes\":{},\"id\":\"7459455a-db43-4884-8924-d26214088f45\",\"type\":\"BasicTickFormatter\"},{\"attributes\":{\"bottom\":{\"field\":\"bottom\"},\"fill_alpha\":{\"value\":0.1},\"fill_color\":{\"value\":\"#1f77b4\"},\"left\":{\"field\":\"left\"},\"line_alpha\":{\"value\":0.1},\"line_color\":{\"value\":\"#1f77b4\"},\"right\":{\"field\":\"right\"},\"top\":{\"field\":\"top\"}},\"id\":\"eeb0afc5-c32b-4bd7-94d1-f22db7638c80\",\"type\":\"Quad\"},{\"attributes\":{\"plot\":{\"id\":\"677ba39a-bacd-4497-a5d7-73543da2c376\",\"subtype\":\"Figure\",\"type\":\"Plot\"},\"ticker\":{\"id\":\"e7d654d1-281b-4199-9b78-6124a051e16c\",\"type\":\"BasicTicker\"}},\"id\":\"eaf05c82-abb8-40fa-ab86-bd22cd53d351\",\"type\":\"Grid\"},{\"attributes\":{\"line_alpha\":{\"value\":0.1},\"line_color\":{\"value\":\"#1f77b4\"},\"xs\":{\"field\":\"xs\"},\"ys\":{\"field\":\"ys\"}},\"id\":\"f7e9a961-2124-4ecc-934f-16b66f88761b\",\"type\":\"MultiLine\"},{\"attributes\":{\"active_drag\":\"auto\",\"active_scroll\":\"auto\",\"active_tap\":\"auto\",\"tools\":[{\"id\":\"dbecb0a8-a65a-49e8-adbe-066d0c4e5455\",\"type\":\"PanTool\"},{\"id\":\"e47fedbb-9662-4389-9ee7-a688c5a3b41e\",\"type\":\"WheelZoomTool\"},{\"id\":\"3b7d8bd4-805f-48c4-9562-9fa0593b7472\",\"type\":\"BoxZoomTool\"},{\"id\":\"9defcc2c-5a01-46fb-9abd-8644b0d861d3\",\"type\":\"SaveTool\"},{\"id\":\"38376516-dea0-43d5-adea-4e6f2855d5c1\",\"type\":\"ResetTool\"},{\"id\":\"4d7419d6-d639-44d3-8cda-2a935790021e\",\"type\":\"HelpTool\"}]},\"id\":\"fcba8eee-6432-4e56-8612-a1d3c79b15d5\",\"type\":\"Toolbar\"}],\"root_ids\":[\"677ba39a-bacd-4497-a5d7-73543da2c376\"]},\"title\":\"Bokeh Application\",\"version\":\"0.12.0\"}};\n",
       "            var render_items = [{\"docid\":\"b2a82366-ec7e-4a89-8d25-64acff6c41c5\",\"elementid\":\"e605527b-b219-4df6-a9cc-cec8f7680f05\",\"modelid\":\"677ba39a-bacd-4497-a5d7-73543da2c376\",\"notebook_comms_target\":\"0f7cf905-9cf7-4a16-ae4c-76bfeed17bf6\"}];\n",
       "            \n",
       "            Bokeh.embed.embed_items(docs_json, render_items);\n",
       "        });\n",
       "      },\n",
       "      function(Bokeh) {\n",
       "      }\n",
       "    ];\n",
       "  \n",
       "    function run_inline_js() {\n",
       "      for (var i = 0; i < inline_js.length; i++) {\n",
       "        inline_js[i](window.Bokeh);\n",
       "      }\n",
       "    }\n",
       "  \n",
       "    if (window._bokeh_is_loading === 0) {\n",
       "      console.log(\"Bokeh: BokehJS loaded, going straight to plotting\");\n",
       "      run_inline_js();\n",
       "    } else {\n",
       "      load_libs(js_urls, function() {\n",
       "        console.log(\"Bokeh: BokehJS plotting callback run at\", now());\n",
       "        run_inline_js();\n",
       "      });\n",
       "    }\n",
       "  }(this));\n",
       "</script>"
      ]
     },
     "metadata": {},
     "output_type": "display_data"
    },
    {
     "data": {
      "text/html": [
       "<p><code>&lt;Bokeh Notebook handle for <strong>In[57]</strong>&gt;</code></p>"
      ],
      "text/plain": [
       "<bokeh.io._CommsHandle at 0x7f4364fc1b10>"
      ]
     },
     "execution_count": 57,
     "metadata": {},
     "output_type": "execute_result"
    }
   ],
   "source": [
    "plt_obj = dm.superset_yes_no([dm.di_26_1414, dm.di_13_1696, di_4_37], \n",
    "                             [dm.di_5_684, dm.di_123_1561, dm.di_4_1699], min_match=0.001)\n",
    "plt = plt_obj.do_plot()\n",
    "am = plt_obj.plot_context.yes_allele_mask\n",
    "show(plt)"
   ]
  },
  {
   "cell_type": "code",
   "execution_count": 58,
   "metadata": {
    "collapsed": false
   },
   "outputs": [
    {
     "data": {
      "text/html": [
       "<table>\n",
       "<thead><tr><th style=\"text-align:center\">index</th><th style=\"text-align:center\">first</th><th style=\"text-align:center\">length</th><th style=\"text-align:center\">snps</th><th style=\"text-align:center\" colspan=2>alleles</th><th style=\"text-align:center\" colspan=2>matches</th><th style=\"text-align:center\" colspan=2>afr</th><th style=\"text-align:center\" colspan=2>afx</th><th style=\"text-align:center\" colspan=2>amr</th><th style=\"text-align:center\" colspan=2>eas</th><th style=\"text-align:center\" colspan=2>eur</th><th style=\"text-align:center\" colspan=2>sas</th><th style=\"text-align:center\" colspan=2>sax</th></tr></thead>\n",
       "<tr class=\"even\"><td style=\"text-align: right;\">353921</td><td style=\"text-align: right;\">136,501,840</td><td style=\"text-align: right;\">53,819</td><td style=\"text-align: right;\">10</td><td style=\"text-align: right;\">2206</td><td style=\"text-align: right;\">0.00</td><td style=\"text-align: right;\">1</td><td style=\"text-align: right;\">1.00</td><td style=\"text-align: right;\">0</td><td style=\"text-align: right;\">0.00</td><td style=\"text-align: right;\">0</td><td style=\"text-align: right;\">0.00</td><td style=\"text-align: right;\">0</td><td style=\"text-align: right;\">0.00</td><td style=\"text-align: right;\">0</td><td style=\"text-align: right;\">0.00</td><td style=\"text-align: right;\">0</td><td style=\"text-align: right;\">0.00</td><td style=\"text-align: right;\">0</td><td style=\"text-align: right;\">0.00</td><td style=\"text-align: right;\">1</td><td style=\"text-align: right;\">6.65</td></tr>\n",
       "<tr><td style=\"text-align: right;\">354170</td><td style=\"text-align: right;\">136,682,274</td><td style=\"text-align: right;\">93,624</td><td style=\"text-align: right;\">7</td><td style=\"text-align: right;\">1868</td><td style=\"text-align: right;\">0.00</td><td style=\"text-align: right;\">1</td><td style=\"text-align: right;\">1.00</td><td style=\"text-align: right;\">0</td><td style=\"text-align: right;\">0.00</td><td style=\"text-align: right;\">0</td><td style=\"text-align: right;\">0.00</td><td style=\"text-align: right;\">0</td><td style=\"text-align: right;\">0.00</td><td style=\"text-align: right;\">0</td><td style=\"text-align: right;\">0.00</td><td style=\"text-align: right;\">0</td><td style=\"text-align: right;\">0.00</td><td style=\"text-align: right;\">0</td><td style=\"text-align: right;\">0.00</td><td style=\"text-align: right;\">1</td><td style=\"text-align: right;\">6.65</td></tr>\n",
       "<tr class=\"even\"><td style=\"text-align: right;\">353240</td><td style=\"text-align: right;\">135,757,320</td><td style=\"text-align: right;\">20,184</td><td style=\"text-align: right;\">13</td><td style=\"text-align: right;\">1696</td><td style=\"text-align: right;\">0.00</td><td style=\"text-align: right;\">1</td><td style=\"text-align: right;\">1.00</td><td style=\"text-align: right;\">0</td><td style=\"text-align: right;\">0.00</td><td style=\"text-align: right;\">0</td><td style=\"text-align: right;\">0.00</td><td style=\"text-align: right;\">0</td><td style=\"text-align: right;\">0.00</td><td style=\"text-align: right;\">0</td><td style=\"text-align: right;\">0.00</td><td style=\"text-align: right;\">0</td><td style=\"text-align: right;\">0.00</td><td style=\"text-align: right;\">0</td><td style=\"text-align: right;\">0.00</td><td style=\"text-align: right;\">1</td><td style=\"text-align: right;\">6.65</td></tr>\n",
       "<tr><td style=\"text-align: right;\">353901</td><td style=\"text-align: right;\">136,494,186</td><td style=\"text-align: right;\">271,765</td><td style=\"text-align: right;\">64</td><td style=\"text-align: right;\">1575</td><td style=\"text-align: right;\">0.00</td><td style=\"text-align: right;\">1</td><td style=\"text-align: right;\">1.00</td><td style=\"text-align: right;\">0</td><td style=\"text-align: right;\">0.00</td><td style=\"text-align: right;\">0</td><td style=\"text-align: right;\">0.00</td><td style=\"text-align: right;\">0</td><td style=\"text-align: right;\">0.00</td><td style=\"text-align: right;\">0</td><td style=\"text-align: right;\">0.00</td><td style=\"text-align: right;\">0</td><td style=\"text-align: right;\">0.00</td><td style=\"text-align: right;\">0</td><td style=\"text-align: right;\">0.00</td><td style=\"text-align: right;\">1</td><td style=\"text-align: right;\">6.65</td></tr>\n",
       "<tr class=\"even\"><td style=\"text-align: right;\">353797</td><td style=\"text-align: right;\">136,398,174</td><td style=\"text-align: right;\">75,924</td><td style=\"text-align: right;\">26</td><td style=\"text-align: right;\">1414</td><td style=\"text-align: right;\">0.00</td><td style=\"text-align: right;\">1</td><td style=\"text-align: right;\">1.00</td><td style=\"text-align: right;\">0</td><td style=\"text-align: right;\">0.00</td><td style=\"text-align: right;\">0</td><td style=\"text-align: right;\">0.00</td><td style=\"text-align: right;\">0</td><td style=\"text-align: right;\">0.00</td><td style=\"text-align: right;\">0</td><td style=\"text-align: right;\">0.00</td><td style=\"text-align: right;\">0</td><td style=\"text-align: right;\">0.00</td><td style=\"text-align: right;\">0</td><td style=\"text-align: right;\">0.00</td><td style=\"text-align: right;\">1</td><td style=\"text-align: right;\">6.65</td></tr>\n",
       "<tr><td style=\"text-align: right;\">353635</td><td style=\"text-align: right;\">136,151,572</td><td style=\"text-align: right;\">121,118</td><td style=\"text-align: right;\">4</td><td style=\"text-align: right;\">37</td><td style=\"text-align: right;\">0.03</td><td style=\"text-align: right;\">1</td><td style=\"text-align: right;\">1.00</td><td style=\"text-align: right;\">0</td><td style=\"text-align: right;\">0.00</td><td style=\"text-align: right;\">0</td><td style=\"text-align: right;\">0.00</td><td style=\"text-align: right;\">0</td><td style=\"text-align: right;\">0.00</td><td style=\"text-align: right;\">0</td><td style=\"text-align: right;\">0.00</td><td style=\"text-align: right;\">0</td><td style=\"text-align: right;\">0.00</td><td style=\"text-align: right;\">0</td><td style=\"text-align: right;\">0.00</td><td style=\"text-align: right;\">1</td><td style=\"text-align: right;\">6.65</td></tr>\n",
       "</table>"
      ],
      "text/plain": [
       "<IPython.core.display.HTML object>"
      ]
     },
     "execution_count": 58,
     "metadata": {},
     "output_type": "execute_result"
    }
   ],
   "source": [
    "HTML(plt_obj.get_html())"
   ]
  },
  {
   "cell_type": "code",
   "execution_count": 59,
   "metadata": {
    "collapsed": false
   },
   "outputs": [
    {
     "data": {
      "text/plain": [
       "array([1, 1, 1, 1, 1, 1, 1, 1, 1, 1, 1, 1, 1, 1, 1, 1, 1, 1, 1, 1, 1, 1, 1,\n",
       "       1, 1, 1])"
      ]
     },
     "execution_count": 59,
     "metadata": {},
     "output_type": "execute_result"
    }
   ],
   "source": [
    "sa_26_1414.alleles_per_snp(am)"
   ]
  },
  {
   "cell_type": "code",
   "execution_count": 60,
   "metadata": {
    "collapsed": false
   },
   "outputs": [
    {
     "data": {
      "text/plain": [
       "array([1, 1, 1, 1, 1, 1, 0, 0, 0])"
      ]
     },
     "execution_count": 60,
     "metadata": {},
     "output_type": "execute_result"
    }
   ],
   "source": [
    "sa_9_944.alleles_per_snp(am)"
   ]
  },
  {
   "cell_type": "code",
   "execution_count": 61,
   "metadata": {
    "collapsed": false
   },
   "outputs": [
    {
     "data": {
      "text/plain": [
       "array([1, 1, 1, 1, 0])"
      ]
     },
     "execution_count": 61,
     "metadata": {},
     "output_type": "execute_result"
    }
   ],
   "source": [
    "sa_5_684.alleles_per_snp(am)"
   ]
  },
  {
   "cell_type": "code",
   "execution_count": 62,
   "metadata": {
    "collapsed": false
   },
   "outputs": [
    {
     "data": {
      "text/html": [
       "\n",
       "\n",
       "    <div class=\"bk-root\">\n",
       "        <div class=\"plotdiv\" id=\"3cb4299c-c4c2-4cc0-a448-5a64d2538f22\"></div>\n",
       "    </div>\n",
       "<script type=\"text/javascript\">\n",
       "  \n",
       "  (function(global) {\n",
       "    function now() {\n",
       "      return new Date();\n",
       "    }\n",
       "  \n",
       "    if (typeof (window._bokeh_onload_callbacks) === \"undefined\") {\n",
       "      window._bokeh_onload_callbacks = [];\n",
       "    }\n",
       "  \n",
       "    function run_callbacks() {\n",
       "      window._bokeh_onload_callbacks.forEach(function(callback) { callback() });\n",
       "      delete window._bokeh_onload_callbacks\n",
       "      console.info(\"Bokeh: all callbacks have finished\");\n",
       "    }\n",
       "  \n",
       "    function load_libs(js_urls, callback) {\n",
       "      window._bokeh_onload_callbacks.push(callback);\n",
       "      if (window._bokeh_is_loading > 0) {\n",
       "        console.log(\"Bokeh: BokehJS is being loaded, scheduling callback at\", now());\n",
       "        return null;\n",
       "      }\n",
       "      if (js_urls == null || js_urls.length === 0) {\n",
       "        run_callbacks();\n",
       "        return null;\n",
       "      }\n",
       "      console.log(\"Bokeh: BokehJS not loaded, scheduling load and callback at\", now());\n",
       "      window._bokeh_is_loading = js_urls.length;\n",
       "      for (var i = 0; i < js_urls.length; i++) {\n",
       "        var url = js_urls[i];\n",
       "        var s = document.createElement('script');\n",
       "        s.src = url;\n",
       "        s.async = false;\n",
       "        s.onreadystatechange = s.onload = function() {\n",
       "          window._bokeh_is_loading--;\n",
       "          if (window._bokeh_is_loading === 0) {\n",
       "            console.log(\"Bokeh: all BokehJS libraries loaded\");\n",
       "            run_callbacks()\n",
       "          }\n",
       "        };\n",
       "        s.onerror = function() {\n",
       "          console.warn(\"failed to load library \" + url);\n",
       "        };\n",
       "        console.log(\"Bokeh: injecting script tag for BokehJS library: \", url);\n",
       "        document.getElementsByTagName(\"head\")[0].appendChild(s);\n",
       "      }\n",
       "    };var element = document.getElementById(\"3cb4299c-c4c2-4cc0-a448-5a64d2538f22\");\n",
       "    if (element == null) {\n",
       "      console.log(\"Bokeh: ERROR: autoload.js configured with elementid '3cb4299c-c4c2-4cc0-a448-5a64d2538f22' but no matching script tag was found. \")\n",
       "      return false;\n",
       "    }\n",
       "  \n",
       "    var js_urls = [];\n",
       "  \n",
       "    var inline_js = [\n",
       "      function(Bokeh) {\n",
       "        Bokeh.$(function() {\n",
       "            var docs_json = {\"46118689-e287-4053-b443-5184273f4e96\":{\"roots\":{\"references\":[{\"attributes\":{\"bottom\":{\"field\":\"bottom\"},\"fill_alpha\":{\"value\":0.1},\"fill_color\":{\"value\":\"#1f77b4\"},\"left\":{\"field\":\"left\"},\"line_alpha\":{\"value\":0.1},\"line_color\":{\"value\":\"#1f77b4\"},\"right\":{\"field\":\"right\"},\"top\":{\"field\":\"top\"}},\"id\":\"d52841c3-d36e-48f1-928d-022318631ee9\",\"type\":\"Quad\"},{\"attributes\":{\"callback\":null,\"column_names\":[\"right\",\"bottom\",\"top\",\"left\"],\"data\":{\"bottom\":[245,245,245,245,245,245,245],\"left\":[135809835,135957574,136289083,136499189,136545415,136597196,136664254],\"right\":[135928279,136288182,136482839,136542633,136594750,136634047,136743222],\"top\":[275,275,275,275,275,275,275]}},\"id\":\"2885a7f1-f870-4e94-9235-ea7d4a2a8f75\",\"type\":\"ColumnDataSource\"},{\"attributes\":{},\"id\":\"72398637-cfce-498d-8bf8-0bdcb0e8f394\",\"type\":\"ToolEvents\"},{\"attributes\":{\"line_color\":{\"field\":\"line_color\"},\"xs\":{\"field\":\"xs\"},\"ys\":{\"field\":\"ys\"}},\"id\":\"17b5843c-0eaa-4973-8362-ca0eeeead9ff\",\"type\":\"MultiLine\"},{\"attributes\":{\"callback\":null,\"column_names\":[\"xs\",\"ys\",\"line_color\"],\"data\":{\"line_color\":[\"black\",\"black\",\"black\",\"black\",\"black\",\"black\",\"black\",\"black\",\"black\",\"black\",\"black\",\"black\",\"black\",\"black\",\"black\",\"black\",\"black\",\"black\",\"black\",\"black\",\"black\",\"black\",\"black\",\"black\",\"black\",\"black\",\"black\",\"black\",\"black\",\"black\",\"black\",\"black\",\"black\",\"black\",\"black\",\"black\",\"black\",\"black\",\"black\",\"black\",\"black\",\"black\",\"black\",\"black\",\"black\",\"black\",\"black\",\"black\",\"black\",\"black\",\"black\",\"black\",\"black\",\"black\",\"black\",\"black\",\"black\",\"black\",\"black\",\"black\",\"black\",\"black\",\"black\",\"black\",\"black\",\"black\",\"black\",\"black\",\"black\",\"black\",\"black\",\"black\",\"black\",\"black\",\"black\",\"black\",\"black\",\"black\",\"black\",\"black\",\"black\",\"black\",\"black\",\"black\",\"black\",\"black\",\"black\",\"black\",\"black\",\"black\",\"black\",\"black\",\"black\",\"black\",\"black\",\"black\",\"black\",\"black\",\"black\",\"black\",\"black\",\"black\",\"black\",\"black\",\"black\",\"black\",\"black\",\"black\",\"black\",\"black\",\"black\",\"black\",\"black\",\"black\",\"black\",\"black\",\"black\",\"black\",\"black\",\"black\",\"black\",\"black\",\"black\",\"black\",\"black\",\"black\",\"black\"],\"xs\":[[135757320,135757320],[135761078,135761078],[135761271,135761271],[135762344,135762344],[135762980,135762980],[135763280,135763280],[135768815,135768815],[135769093,135769093],[135769127,135769127],[135770940,135770940],[135770951,135770951],[135776728,135776728],[135777504,135777504],[136039834,136039834],[136040506,136040506],[136108092,136108092],[136283871,136283871],[136284021,136284021],[136343363,136343363],[136349562,136349562],[136398174,136398174],[136402117,136402117],[136403749,136403749],[136409073,136409073],[136410299,136410299],[136413359,136413359],[136416855,136416855],[136416941,136416941],[136418348,136418348],[136419961,136419961],[136420690,136420690],[136422171,136422171],[136428460,136428460],[136430866,136430866],[136432103,136432103],[136437507,136437507],[136439090,136439090],[136439517,136439517],[136444123,136444123],[136445526,136445526],[136445869,136445869],[136455600,136455600],[136456642,136456642],[136462441,136462441],[136470714,136470714],[136474098,136474098],[136494186,136494186],[136495300,136495300],[136495619,136495619],[136499166,136499166],[136502792,136502792],[136503157,136503157],[136507039,136507039],[136511575,136511575],[136518103,136518103],[136521514,136521514],[136522675,136522675],[136522941,136522941],[136526981,136526981],[136535410,136535410],[136539122,136539122],[136544197,136544197],[136550109,136550109],[136551694,136551694],[136553188,136553188],[136553639,136553639],[136554800,136554800],[136557319,136557319],[136558157,136558157],[136569848,136569848],[136575199,136575199],[136576577,136576577],[136578536,136578536],[136580287,136580287],[136583192,136583192],[136586958,136586958],[136588478,136588478],[136589612,136589612],[136591178,136591178],[136591859,136591859],[136593760,136593760],[136594158,136594158],[136603276,136603276],[136603366,136603366],[136608231,136608231],[136609975,136609975],[136610598,136610598],[136611624,136611624],[136613780,136613780],[136614255,136614255],[136614813,136614813],[136617524,136617524],[136622216,136622216],[136625602,136625602],[136629911,136629911],[136630757,136630757],[136630989,136630989],[136631031,136631031],[136633771,136633771],[136636324,136636324],[136638216,136638216],[136640233,136640233],[136641882,136641882],[136643555,136643555],[136658345,136658345],[136670298,136670298],[136685228,136685228],[136696138,136696138],[136740900,136740900],[136765951,136765951],[136501840,136501840],[136505546,136505546],[136516748,136516748],[136522710,136522710],[136528004,136528004],[136539513,136539513],[136544752,136544752],[136546110,136546110],[136553529,136553529],[136555659,136555659],[136682274,136682274],[136691825,136691825],[136698098,136698098],[136721603,136721603],[136721995,136721995],[136755684,136755684],[136775898,136775898]],\"ys\":[[50,96],[50,96],[50,96],[50,96],[50,96],[50,96],[50,96],[50,96],[50,96],[50,96],[50,96],[50,96],[50,96],[50,57],[50,57],[50,57],[50,57],[50,57],[50,57],[50,57],[50,94],[50,94],[50,94],[50,94],[50,94],[50,94],[50,94],[50,94],[50,94],[50,94],[50,94],[50,94],[50,94],[50,94],[50,94],[50,94],[50,94],[50,94],[50,94],[50,94],[50,94],[50,94],[50,94],[50,94],[50,94],[50,94],[50,95],[50,95],[50,95],[50,95],[50,95],[50,95],[50,95],[50,95],[50,95],[50,95],[50,95],[50,95],[50,95],[50,95],[50,95],[50,95],[50,95],[50,95],[50,95],[50,95],[50,95],[50,95],[50,95],[50,95],[50,95],[50,95],[50,95],[50,95],[50,95],[50,95],[50,95],[50,95],[50,95],[50,95],[50,95],[50,95],[50,95],[50,95],[50,95],[50,95],[50,95],[50,95],[50,95],[50,95],[50,95],[50,95],[50,95],[50,95],[50,95],[50,95],[50,95],[50,95],[50,95],[50,95],[50,95],[50,95],[50,95],[50,95],[50,95],[50,95],[50,95],[50,95],[50,95],[50,95],[150,198],[150,198],[150,198],[150,198],[150,198],[150,198],[150,198],[150,198],[150,198],[150,198],[150,197],[150,197],[150,197],[150,197],[150,197],[150,197],[150,197]]}},\"id\":\"a6e28d77-c3eb-4a8b-8fed-b0184544d451\",\"type\":\"ColumnDataSource\"},{\"attributes\":{\"data_source\":{\"id\":\"2885a7f1-f870-4e94-9235-ea7d4a2a8f75\",\"type\":\"ColumnDataSource\"},\"glyph\":{\"id\":\"0e3348cb-5843-466c-b47c-7e4cd623056c\",\"type\":\"Quad\"},\"hover_glyph\":null,\"nonselection_glyph\":{\"id\":\"d52841c3-d36e-48f1-928d-022318631ee9\",\"type\":\"Quad\"},\"selection_glyph\":null},\"id\":\"fe32d4ae-98be-4d43-9bd2-ce60aae38dc0\",\"type\":\"GlyphRenderer\"},{\"attributes\":{},\"id\":\"cdb51f38-f5d2-44e4-a7fb-010eeb1671cb\",\"type\":\"BasicTicker\"},{\"attributes\":{\"formatter\":{\"id\":\"3eebbc65-6946-4648-a507-30a6f81b74ce\",\"type\":\"BasicTickFormatter\"},\"plot\":{\"id\":\"c4797692-7568-495d-955d-c8f9eaa89898\",\"subtype\":\"Figure\",\"type\":\"Plot\"},\"ticker\":{\"id\":\"89e33ba8-8f60-46ee-aa4c-4052232f9ccc\",\"type\":\"BasicTicker\"},\"visible\":null},\"id\":\"9bb11631-31b5-444e-9ef9-fb194669fccb\",\"type\":\"LinearAxis\"},{\"attributes\":{\"bottom\":{\"field\":\"bottom\"},\"fill_color\":{\"field\":\"fill_color\"},\"left\":{\"field\":\"left\"},\"line_color\":{\"value\":null},\"right\":{\"field\":\"right\"},\"top\":{\"field\":\"top\"}},\"id\":\"e6e58465-b46b-4162-a1f2-b84d92462325\",\"type\":\"Quad\"},{\"attributes\":{\"callback\":null,\"column_names\":[\"y\",\"x\",\"vals\"],\"data\":{\"vals\":[\"13_1696\",\"7_20\",\"26_1414\",\"64_1575\",\"10_2206\",\"7_1868\"],\"x\":[135757320,136039834,136398174,136494186,136501840,136682274],\"y\":[101.0,62.0,99.0,100.0,203.0,202.0]}},\"id\":\"7ebacb49-4265-44d1-b6a0-65abf2513127\",\"type\":\"ColumnDataSource\"},{\"attributes\":{\"formatter\":{\"id\":\"aa982612-8a8e-4f4b-be23-8ba162f0d766\",\"type\":\"BasicTickFormatter\"},\"plot\":{\"id\":\"c4797692-7568-495d-955d-c8f9eaa89898\",\"subtype\":\"Figure\",\"type\":\"Plot\"},\"ticker\":{\"id\":\"cdb51f38-f5d2-44e4-a7fb-010eeb1671cb\",\"type\":\"BasicTicker\"}},\"id\":\"7da36d05-513b-413c-9cc6-a80ed932bac2\",\"type\":\"LinearAxis\"},{\"attributes\":{\"level\":\"glyph\",\"plot\":{\"id\":\"c4797692-7568-495d-955d-c8f9eaa89898\",\"subtype\":\"Figure\",\"type\":\"Plot\"},\"source\":{\"id\":\"d7b64ec8-f587-471f-a1d0-50f4b781152a\",\"type\":\"ColumnDataSource\"},\"text\":{\"field\":\"vals\"},\"text_align\":\"center\",\"text_baseline\":\"middle\",\"text_font_size\":{\"value\":\"8pt\"},\"x\":{\"field\":\"x\"},\"y\":{\"field\":\"y\"}},\"id\":\"20f1c97b-f4af-4db4-a5ce-bd62bc50634c\",\"type\":\"LabelSet\"},{\"attributes\":{\"bottom_units\":\"screen\",\"fill_alpha\":{\"value\":0.5},\"fill_color\":{\"value\":\"lightgrey\"},\"left_units\":\"screen\",\"level\":\"overlay\",\"line_alpha\":{\"value\":1.0},\"line_color\":{\"value\":\"black\"},\"line_dash\":[4,4],\"line_width\":{\"value\":2},\"plot\":null,\"render_mode\":\"css\",\"right_units\":\"screen\",\"top_units\":\"screen\"},\"id\":\"aff388dc-5135-4677-85c3-7a1132a88ae6\",\"type\":\"BoxAnnotation\"},{\"attributes\":{\"below\":[{\"id\":\"7da36d05-513b-413c-9cc6-a80ed932bac2\",\"type\":\"LinearAxis\"}],\"left\":[{\"id\":\"9bb11631-31b5-444e-9ef9-fb194669fccb\",\"type\":\"LinearAxis\"}],\"plot_height\":300,\"plot_width\":900,\"renderers\":[{\"id\":\"7da36d05-513b-413c-9cc6-a80ed932bac2\",\"type\":\"LinearAxis\"},{\"id\":\"da234ead-aa57-4ee0-82d5-635499b1aeb3\",\"type\":\"Grid\"},{\"id\":\"9bb11631-31b5-444e-9ef9-fb194669fccb\",\"type\":\"LinearAxis\"},{\"id\":\"e45f9469-2ef7-4847-bb42-bc6aa6fd06c6\",\"type\":\"Grid\"},{\"id\":\"aff388dc-5135-4677-85c3-7a1132a88ae6\",\"type\":\"BoxAnnotation\"},{\"id\":\"54cfc502-5a8f-417a-8ef2-0965f61eaadd\",\"type\":\"GlyphRenderer\"},{\"id\":\"f72a61d8-f202-4897-920e-f9b9168ad1b0\",\"type\":\"GlyphRenderer\"},{\"id\":\"91709a3b-99f8-49aa-b5e0-3c5f3ca64935\",\"type\":\"LabelSet\"},{\"id\":\"fe32d4ae-98be-4d43-9bd2-ce60aae38dc0\",\"type\":\"GlyphRenderer\"},{\"id\":\"20f1c97b-f4af-4db4-a5ce-bd62bc50634c\",\"type\":\"LabelSet\"}],\"title\":{\"id\":\"b978d068-b35f-49e5-995d-7398b8f9b975\",\"type\":\"Title\"},\"tool_events\":{\"id\":\"72398637-cfce-498d-8bf8-0bdcb0e8f394\",\"type\":\"ToolEvents\"},\"toolbar\":{\"id\":\"caab7a35-21c1-4144-a9f7-4d78c018ea02\",\"type\":\"Toolbar\"},\"toolbar_location\":null,\"x_range\":{\"id\":\"b4329cb0-b686-4b32-ae28-794e831eb265\",\"type\":\"Range1d\"},\"y_range\":{\"id\":\"d6ed7180-f89d-4321-bf73-0ceafbdad5e8\",\"type\":\"Range1d\"}},\"id\":\"c4797692-7568-495d-955d-c8f9eaa89898\",\"subtype\":\"Figure\",\"type\":\"Plot\"},{\"attributes\":{\"callback\":null,\"end\":136786630,\"start\":135757320},\"id\":\"b4329cb0-b686-4b32-ae28-794e831eb265\",\"type\":\"Range1d\"},{\"attributes\":{\"callback\":null,\"end\":300},\"id\":\"d6ed7180-f89d-4321-bf73-0ceafbdad5e8\",\"type\":\"Range1d\"},{\"attributes\":{\"plot\":{\"id\":\"c4797692-7568-495d-955d-c8f9eaa89898\",\"subtype\":\"Figure\",\"type\":\"Plot\"}},\"id\":\"e50f1f87-8db6-41e3-9c3b-6d20867e7c97\",\"type\":\"WheelZoomTool\"},{\"attributes\":{\"plot\":null,\"text\":null},\"id\":\"b978d068-b35f-49e5-995d-7398b8f9b975\",\"type\":\"Title\"},{\"attributes\":{\"line_alpha\":{\"value\":0.1},\"line_color\":{\"value\":\"#1f77b4\"},\"xs\":{\"field\":\"xs\"},\"ys\":{\"field\":\"ys\"}},\"id\":\"df445251-fc7b-421e-957f-e3e76081d9fa\",\"type\":\"MultiLine\"},{\"attributes\":{\"plot\":{\"id\":\"c4797692-7568-495d-955d-c8f9eaa89898\",\"subtype\":\"Figure\",\"type\":\"Plot\"},\"ticker\":{\"id\":\"cdb51f38-f5d2-44e4-a7fb-010eeb1671cb\",\"type\":\"BasicTicker\"}},\"id\":\"da234ead-aa57-4ee0-82d5-635499b1aeb3\",\"type\":\"Grid\"},{\"attributes\":{},\"id\":\"89e33ba8-8f60-46ee-aa4c-4052232f9ccc\",\"type\":\"BasicTicker\"},{\"attributes\":{\"plot\":{\"id\":\"c4797692-7568-495d-955d-c8f9eaa89898\",\"subtype\":\"Figure\",\"type\":\"Plot\"}},\"id\":\"82b3aed1-9f2c-4adc-ab8a-2a1c1538840d\",\"type\":\"HelpTool\"},{\"attributes\":{\"plot\":{\"id\":\"c4797692-7568-495d-955d-c8f9eaa89898\",\"subtype\":\"Figure\",\"type\":\"Plot\"}},\"id\":\"cf0d7cfe-c7a0-4e2d-8657-f48709e9d9f6\",\"type\":\"SaveTool\"},{\"attributes\":{\"plot\":{\"id\":\"c4797692-7568-495d-955d-c8f9eaa89898\",\"subtype\":\"Figure\",\"type\":\"Plot\"}},\"id\":\"d90a2658-96f0-4e80-aa91-8f0869d9ad2c\",\"type\":\"ResetTool\"},{\"attributes\":{\"data_source\":{\"id\":\"87d3d471-6d08-4f20-8600-3d1dc5167df3\",\"type\":\"ColumnDataSource\"},\"glyph\":{\"id\":\"e6e58465-b46b-4162-a1f2-b84d92462325\",\"type\":\"Quad\"},\"hover_glyph\":null,\"nonselection_glyph\":{\"id\":\"13e7fecd-94ac-4d64-934d-0b8147106b21\",\"type\":\"Quad\"},\"selection_glyph\":null},\"id\":\"54cfc502-5a8f-417a-8ef2-0965f61eaadd\",\"type\":\"GlyphRenderer\"},{\"attributes\":{\"active_drag\":\"auto\",\"active_scroll\":\"auto\",\"active_tap\":\"auto\",\"tools\":[{\"id\":\"9ac35f4b-480d-4bb8-ac04-27eb9855861b\",\"type\":\"PanTool\"},{\"id\":\"e50f1f87-8db6-41e3-9c3b-6d20867e7c97\",\"type\":\"WheelZoomTool\"},{\"id\":\"208a9d99-3a84-4521-bd84-2d3b3a3876e7\",\"type\":\"BoxZoomTool\"},{\"id\":\"cf0d7cfe-c7a0-4e2d-8657-f48709e9d9f6\",\"type\":\"SaveTool\"},{\"id\":\"d90a2658-96f0-4e80-aa91-8f0869d9ad2c\",\"type\":\"ResetTool\"},{\"id\":\"82b3aed1-9f2c-4adc-ab8a-2a1c1538840d\",\"type\":\"HelpTool\"}]},\"id\":\"caab7a35-21c1-4144-a9f7-4d78c018ea02\",\"type\":\"Toolbar\"},{\"attributes\":{\"overlay\":{\"id\":\"aff388dc-5135-4677-85c3-7a1132a88ae6\",\"type\":\"BoxAnnotation\"},\"plot\":{\"id\":\"c4797692-7568-495d-955d-c8f9eaa89898\",\"subtype\":\"Figure\",\"type\":\"Plot\"}},\"id\":\"208a9d99-3a84-4521-bd84-2d3b3a3876e7\",\"type\":\"BoxZoomTool\"},{\"attributes\":{\"callback\":null,\"column_names\":[\"right\",\"bottom\",\"top\",\"left\",\"fill_color\"],\"data\":{\"bottom\":[50,50,50,50,150,150],\"fill_color\":[\"#808080\",\"#00ff00\",\"#61c461\",\"#61c461\",\"#808080\",\"#61c461\"],\"left\":[135757320,136039834,136398174,136494186,136501840,136682274],\"right\":[135777504,136349562,136474098,136765951,136555659,136775898],\"top\":[96,57,94,95,198,197]}},\"id\":\"87d3d471-6d08-4f20-8600-3d1dc5167df3\",\"type\":\"ColumnDataSource\"},{\"attributes\":{},\"id\":\"aa982612-8a8e-4f4b-be23-8ba162f0d766\",\"type\":\"BasicTickFormatter\"},{\"attributes\":{\"data_source\":{\"id\":\"a6e28d77-c3eb-4a8b-8fed-b0184544d451\",\"type\":\"ColumnDataSource\"},\"glyph\":{\"id\":\"17b5843c-0eaa-4973-8362-ca0eeeead9ff\",\"type\":\"MultiLine\"},\"hover_glyph\":null,\"nonselection_glyph\":{\"id\":\"df445251-fc7b-421e-957f-e3e76081d9fa\",\"type\":\"MultiLine\"},\"selection_glyph\":null},\"id\":\"f72a61d8-f202-4897-920e-f9b9168ad1b0\",\"type\":\"GlyphRenderer\"},{\"attributes\":{\"callback\":null,\"column_names\":[\"y\",\"x\",\"vals\"],\"data\":{\"vals\":[\"RAB3GAP1\",\"ZRANB3\",\"R3HDM1\",\"UBXN4\",\"LCT\",\"MCM6\",\"DARS\"],\"x\":[135869057.0,136122878.0,136385961.0,136520911.0,136570082.5,136615621.5,136703738.0],\"y\":[260.0,260.0,260.0,260.0,260.0,260.0,260.0]}},\"id\":\"d7b64ec8-f587-471f-a1d0-50f4b781152a\",\"type\":\"ColumnDataSource\"},{\"attributes\":{},\"id\":\"3eebbc65-6946-4648-a507-30a6f81b74ce\",\"type\":\"BasicTickFormatter\"},{\"attributes\":{\"level\":\"glyph\",\"plot\":{\"id\":\"c4797692-7568-495d-955d-c8f9eaa89898\",\"subtype\":\"Figure\",\"type\":\"Plot\"},\"source\":{\"id\":\"7ebacb49-4265-44d1-b6a0-65abf2513127\",\"type\":\"ColumnDataSource\"},\"text\":{\"field\":\"vals\"},\"text_font_size\":{\"value\":\"9pt\"},\"text_font_style\":\"bold\",\"x\":{\"field\":\"x\"},\"y\":{\"field\":\"y\"}},\"id\":\"91709a3b-99f8-49aa-b5e0-3c5f3ca64935\",\"type\":\"LabelSet\"},{\"attributes\":{\"bottom\":{\"field\":\"bottom\"},\"fill_alpha\":{\"value\":0.1},\"fill_color\":{\"value\":\"#1f77b4\"},\"left\":{\"field\":\"left\"},\"line_alpha\":{\"value\":0.1},\"line_color\":{\"value\":\"#1f77b4\"},\"right\":{\"field\":\"right\"},\"top\":{\"field\":\"top\"}},\"id\":\"13e7fecd-94ac-4d64-934d-0b8147106b21\",\"type\":\"Quad\"},{\"attributes\":{\"bottom\":{\"field\":\"bottom\"},\"fill_color\":{\"value\":\"white\"},\"left\":{\"field\":\"left\"},\"right\":{\"field\":\"right\"},\"top\":{\"field\":\"top\"}},\"id\":\"0e3348cb-5843-466c-b47c-7e4cd623056c\",\"type\":\"Quad\"},{\"attributes\":{\"dimension\":1,\"plot\":{\"id\":\"c4797692-7568-495d-955d-c8f9eaa89898\",\"subtype\":\"Figure\",\"type\":\"Plot\"},\"ticker\":{\"id\":\"89e33ba8-8f60-46ee-aa4c-4052232f9ccc\",\"type\":\"BasicTicker\"}},\"id\":\"e45f9469-2ef7-4847-bb42-bc6aa6fd06c6\",\"type\":\"Grid\"},{\"attributes\":{\"plot\":{\"id\":\"c4797692-7568-495d-955d-c8f9eaa89898\",\"subtype\":\"Figure\",\"type\":\"Plot\"}},\"id\":\"9ac35f4b-480d-4bb8-ac04-27eb9855861b\",\"type\":\"PanTool\"}],\"root_ids\":[\"c4797692-7568-495d-955d-c8f9eaa89898\"]},\"title\":\"Bokeh Application\",\"version\":\"0.12.0\"}};\n",
       "            var render_items = [{\"docid\":\"46118689-e287-4053-b443-5184273f4e96\",\"elementid\":\"3cb4299c-c4c2-4cc0-a448-5a64d2538f22\",\"modelid\":\"c4797692-7568-495d-955d-c8f9eaa89898\",\"notebook_comms_target\":\"2d142b75-df63-4379-a29d-d14f2357b302\"}];\n",
       "            \n",
       "            Bokeh.embed.embed_items(docs_json, render_items);\n",
       "        });\n",
       "      },\n",
       "      function(Bokeh) {\n",
       "      }\n",
       "    ];\n",
       "  \n",
       "    function run_inline_js() {\n",
       "      for (var i = 0; i < inline_js.length; i++) {\n",
       "        inline_js[i](window.Bokeh);\n",
       "      }\n",
       "    }\n",
       "  \n",
       "    if (window._bokeh_is_loading === 0) {\n",
       "      console.log(\"Bokeh: BokehJS loaded, going straight to plotting\");\n",
       "      run_inline_js();\n",
       "    } else {\n",
       "      load_libs(js_urls, function() {\n",
       "        console.log(\"Bokeh: BokehJS plotting callback run at\", now());\n",
       "        run_inline_js();\n",
       "      });\n",
       "    }\n",
       "  }(this));\n",
       "</script>"
      ]
     },
     "metadata": {},
     "output_type": "display_data"
    },
    {
     "data": {
      "text/html": [
       "<p><code>&lt;Bokeh Notebook handle for <strong>In[62]</strong>&gt;</code></p>"
      ],
      "text/plain": [
       "<bokeh.io._CommsHandle at 0x7f4364a95250>"
      ]
     },
     "execution_count": 62,
     "metadata": {},
     "output_type": "execute_result"
    }
   ],
   "source": [
    "di_7_20 = 353570\n",
    "plt_obj = dm.superset_yes_no([dm.di_26_1414, dm.di_13_1696, di_7_20], \n",
    "                             [dm.di_5_684, dm.di_123_1561, dm.di_4_1699], min_match=0.001)\n",
    "plt = plt_obj.do_plot()\n",
    "am = plt_obj.plot_context.yes_allele_mask\n",
    "show(plt)"
   ]
  },
  {
   "cell_type": "code",
   "execution_count": 63,
   "metadata": {
    "collapsed": false
   },
   "outputs": [
    {
     "data": {
      "text/html": [
       "<table>\n",
       "<thead><tr><th style=\"text-align:center\">index</th><th style=\"text-align:center\">first</th><th style=\"text-align:center\">length</th><th style=\"text-align:center\">snps</th><th style=\"text-align:center\" colspan=2>alleles</th><th style=\"text-align:center\" colspan=2>matches</th><th style=\"text-align:center\" colspan=2>afr</th><th style=\"text-align:center\" colspan=2>afx</th><th style=\"text-align:center\" colspan=2>amr</th><th style=\"text-align:center\" colspan=2>eas</th><th style=\"text-align:center\" colspan=2>eur</th><th style=\"text-align:center\" colspan=2>sas</th><th style=\"text-align:center\" colspan=2>sax</th></tr></thead>\n",
       "<tr class=\"even\"><td style=\"text-align: right;\">353921</td><td style=\"text-align: right;\">136,501,840</td><td style=\"text-align: right;\">53,819</td><td style=\"text-align: right;\">10</td><td style=\"text-align: right;\">2206</td><td style=\"text-align: right;\">0.00</td><td style=\"text-align: right;\">1</td><td style=\"text-align: right;\">1.00</td><td style=\"text-align: right;\">0</td><td style=\"text-align: right;\">0.00</td><td style=\"text-align: right;\">0</td><td style=\"text-align: right;\">0.00</td><td style=\"text-align: right;\">1</td><td style=\"text-align: right;\">7.88</td><td style=\"text-align: right;\">0</td><td style=\"text-align: right;\">0.00</td><td style=\"text-align: right;\">0</td><td style=\"text-align: right;\">0.00</td><td style=\"text-align: right;\">0</td><td style=\"text-align: right;\">0.00</td><td style=\"text-align: right;\">0</td><td style=\"text-align: right;\">0.00</td></tr>\n",
       "<tr><td style=\"text-align: right;\">354170</td><td style=\"text-align: right;\">136,682,274</td><td style=\"text-align: right;\">93,624</td><td style=\"text-align: right;\">7</td><td style=\"text-align: right;\">1868</td><td style=\"text-align: right;\">0.00</td><td style=\"text-align: right;\">1</td><td style=\"text-align: right;\">1.00</td><td style=\"text-align: right;\">0</td><td style=\"text-align: right;\">0.00</td><td style=\"text-align: right;\">0</td><td style=\"text-align: right;\">0.00</td><td style=\"text-align: right;\">1</td><td style=\"text-align: right;\">7.88</td><td style=\"text-align: right;\">0</td><td style=\"text-align: right;\">0.00</td><td style=\"text-align: right;\">0</td><td style=\"text-align: right;\">0.00</td><td style=\"text-align: right;\">0</td><td style=\"text-align: right;\">0.00</td><td style=\"text-align: right;\">0</td><td style=\"text-align: right;\">0.00</td></tr>\n",
       "<tr class=\"even\"><td style=\"text-align: right;\">353240</td><td style=\"text-align: right;\">135,757,320</td><td style=\"text-align: right;\">20,184</td><td style=\"text-align: right;\">13</td><td style=\"text-align: right;\">1696</td><td style=\"text-align: right;\">0.00</td><td style=\"text-align: right;\">1</td><td style=\"text-align: right;\">1.00</td><td style=\"text-align: right;\">0</td><td style=\"text-align: right;\">0.00</td><td style=\"text-align: right;\">0</td><td style=\"text-align: right;\">0.00</td><td style=\"text-align: right;\">1</td><td style=\"text-align: right;\">7.88</td><td style=\"text-align: right;\">0</td><td style=\"text-align: right;\">0.00</td><td style=\"text-align: right;\">0</td><td style=\"text-align: right;\">0.00</td><td style=\"text-align: right;\">0</td><td style=\"text-align: right;\">0.00</td><td style=\"text-align: right;\">0</td><td style=\"text-align: right;\">0.00</td></tr>\n",
       "<tr><td style=\"text-align: right;\">353901</td><td style=\"text-align: right;\">136,494,186</td><td style=\"text-align: right;\">271,765</td><td style=\"text-align: right;\">64</td><td style=\"text-align: right;\">1575</td><td style=\"text-align: right;\">0.00</td><td style=\"text-align: right;\">1</td><td style=\"text-align: right;\">1.00</td><td style=\"text-align: right;\">0</td><td style=\"text-align: right;\">0.00</td><td style=\"text-align: right;\">0</td><td style=\"text-align: right;\">0.00</td><td style=\"text-align: right;\">1</td><td style=\"text-align: right;\">7.88</td><td style=\"text-align: right;\">0</td><td style=\"text-align: right;\">0.00</td><td style=\"text-align: right;\">0</td><td style=\"text-align: right;\">0.00</td><td style=\"text-align: right;\">0</td><td style=\"text-align: right;\">0.00</td><td style=\"text-align: right;\">0</td><td style=\"text-align: right;\">0.00</td></tr>\n",
       "<tr class=\"even\"><td style=\"text-align: right;\">353797</td><td style=\"text-align: right;\">136,398,174</td><td style=\"text-align: right;\">75,924</td><td style=\"text-align: right;\">26</td><td style=\"text-align: right;\">1414</td><td style=\"text-align: right;\">0.00</td><td style=\"text-align: right;\">1</td><td style=\"text-align: right;\">1.00</td><td style=\"text-align: right;\">0</td><td style=\"text-align: right;\">0.00</td><td style=\"text-align: right;\">0</td><td style=\"text-align: right;\">0.00</td><td style=\"text-align: right;\">1</td><td style=\"text-align: right;\">7.88</td><td style=\"text-align: right;\">0</td><td style=\"text-align: right;\">0.00</td><td style=\"text-align: right;\">0</td><td style=\"text-align: right;\">0.00</td><td style=\"text-align: right;\">0</td><td style=\"text-align: right;\">0.00</td><td style=\"text-align: right;\">0</td><td style=\"text-align: right;\">0.00</td></tr>\n",
       "<tr><td style=\"text-align: right;\">353570</td><td style=\"text-align: right;\">136,039,834</td><td style=\"text-align: right;\">309,728</td><td style=\"text-align: right;\">7</td><td style=\"text-align: right;\">20</td><td style=\"text-align: right;\">0.05</td><td style=\"text-align: right;\">1</td><td style=\"text-align: right;\">1.00</td><td style=\"text-align: right;\">0</td><td style=\"text-align: right;\">0.00</td><td style=\"text-align: right;\">0</td><td style=\"text-align: right;\">0.00</td><td style=\"text-align: right;\">1</td><td style=\"text-align: right;\">7.88</td><td style=\"text-align: right;\">0</td><td style=\"text-align: right;\">0.00</td><td style=\"text-align: right;\">0</td><td style=\"text-align: right;\">0.00</td><td style=\"text-align: right;\">0</td><td style=\"text-align: right;\">0.00</td><td style=\"text-align: right;\">0</td><td style=\"text-align: right;\">0.00</td></tr>\n",
       "</table>"
      ],
      "text/plain": [
       "<IPython.core.display.HTML object>"
      ]
     },
     "execution_count": 63,
     "metadata": {},
     "output_type": "execute_result"
    }
   ],
   "source": [
    "HTML(plt_obj.get_html())"
   ]
  },
  {
   "cell_type": "code",
   "execution_count": 64,
   "metadata": {
    "collapsed": false
   },
   "outputs": [
    {
     "data": {
      "text/plain": [
       "array([1, 1, 1, 1, 1, 1, 1, 1, 1, 1, 1, 1, 1, 1, 1, 1, 1, 1, 1, 1, 1, 1, 1,\n",
       "       1, 1, 1])"
      ]
     },
     "execution_count": 64,
     "metadata": {},
     "output_type": "execute_result"
    }
   ],
   "source": [
    "sa_26_1414.alleles_per_snp(am)"
   ]
  },
  {
   "cell_type": "code",
   "execution_count": 65,
   "metadata": {
    "collapsed": false
   },
   "outputs": [
    {
     "data": {
      "text/plain": [
       "array([0, 0, 0, 0, 0, 0, 0, 0, 0])"
      ]
     },
     "execution_count": 65,
     "metadata": {},
     "output_type": "execute_result"
    }
   ],
   "source": [
    "sa_9_944.alleles_per_snp(am)"
   ]
  },
  {
   "cell_type": "code",
   "execution_count": 66,
   "metadata": {
    "collapsed": false
   },
   "outputs": [
    {
     "data": {
      "text/plain": [
       "array([0, 0, 0, 0, 0])"
      ]
     },
     "execution_count": 66,
     "metadata": {},
     "output_type": "execute_result"
    }
   ],
   "source": [
    "sa_5_684.alleles_per_snp(am)"
   ]
  },
  {
   "cell_type": "code",
   "execution_count": 67,
   "metadata": {
    "collapsed": false
   },
   "outputs": [
    {
     "data": {
      "text/html": [
       "\n",
       "\n",
       "    <div class=\"bk-root\">\n",
       "        <div class=\"plotdiv\" id=\"b3b2a1af-497d-4dd0-a34c-1ca54eb16f69\"></div>\n",
       "    </div>\n",
       "<script type=\"text/javascript\">\n",
       "  \n",
       "  (function(global) {\n",
       "    function now() {\n",
       "      return new Date();\n",
       "    }\n",
       "  \n",
       "    if (typeof (window._bokeh_onload_callbacks) === \"undefined\") {\n",
       "      window._bokeh_onload_callbacks = [];\n",
       "    }\n",
       "  \n",
       "    function run_callbacks() {\n",
       "      window._bokeh_onload_callbacks.forEach(function(callback) { callback() });\n",
       "      delete window._bokeh_onload_callbacks\n",
       "      console.info(\"Bokeh: all callbacks have finished\");\n",
       "    }\n",
       "  \n",
       "    function load_libs(js_urls, callback) {\n",
       "      window._bokeh_onload_callbacks.push(callback);\n",
       "      if (window._bokeh_is_loading > 0) {\n",
       "        console.log(\"Bokeh: BokehJS is being loaded, scheduling callback at\", now());\n",
       "        return null;\n",
       "      }\n",
       "      if (js_urls == null || js_urls.length === 0) {\n",
       "        run_callbacks();\n",
       "        return null;\n",
       "      }\n",
       "      console.log(\"Bokeh: BokehJS not loaded, scheduling load and callback at\", now());\n",
       "      window._bokeh_is_loading = js_urls.length;\n",
       "      for (var i = 0; i < js_urls.length; i++) {\n",
       "        var url = js_urls[i];\n",
       "        var s = document.createElement('script');\n",
       "        s.src = url;\n",
       "        s.async = false;\n",
       "        s.onreadystatechange = s.onload = function() {\n",
       "          window._bokeh_is_loading--;\n",
       "          if (window._bokeh_is_loading === 0) {\n",
       "            console.log(\"Bokeh: all BokehJS libraries loaded\");\n",
       "            run_callbacks()\n",
       "          }\n",
       "        };\n",
       "        s.onerror = function() {\n",
       "          console.warn(\"failed to load library \" + url);\n",
       "        };\n",
       "        console.log(\"Bokeh: injecting script tag for BokehJS library: \", url);\n",
       "        document.getElementsByTagName(\"head\")[0].appendChild(s);\n",
       "      }\n",
       "    };var element = document.getElementById(\"b3b2a1af-497d-4dd0-a34c-1ca54eb16f69\");\n",
       "    if (element == null) {\n",
       "      console.log(\"Bokeh: ERROR: autoload.js configured with elementid 'b3b2a1af-497d-4dd0-a34c-1ca54eb16f69' but no matching script tag was found. \")\n",
       "      return false;\n",
       "    }\n",
       "  \n",
       "    var js_urls = [];\n",
       "  \n",
       "    var inline_js = [\n",
       "      function(Bokeh) {\n",
       "        Bokeh.$(function() {\n",
       "            var docs_json = {\"c0af659b-3a39-495d-a270-8cb3b527113d\":{\"roots\":{\"references\":[{\"attributes\":{\"bottom_units\":\"screen\",\"fill_alpha\":{\"value\":0.5},\"fill_color\":{\"value\":\"lightgrey\"},\"left_units\":\"screen\",\"level\":\"overlay\",\"line_alpha\":{\"value\":1.0},\"line_color\":{\"value\":\"black\"},\"line_dash\":[4,4],\"line_width\":{\"value\":2},\"plot\":null,\"render_mode\":\"css\",\"right_units\":\"screen\",\"top_units\":\"screen\"},\"id\":\"669b956f-50d6-4b43-93ff-48e8811aaec8\",\"type\":\"BoxAnnotation\"},{\"attributes\":{\"dimension\":1,\"plot\":{\"id\":\"f8e1f340-b37d-442d-8406-4395f57f0123\",\"subtype\":\"Figure\",\"type\":\"Plot\"},\"ticker\":{\"id\":\"681c9265-f816-4e2d-a532-20fae2c8566d\",\"type\":\"BasicTicker\"}},\"id\":\"a8acf599-c612-428b-a84a-24b3c01b2c90\",\"type\":\"Grid\"},{\"attributes\":{\"bottom\":{\"field\":\"bottom\"},\"fill_alpha\":{\"value\":0.1},\"fill_color\":{\"value\":\"#1f77b4\"},\"left\":{\"field\":\"left\"},\"line_alpha\":{\"value\":0.1},\"line_color\":{\"value\":\"#1f77b4\"},\"right\":{\"field\":\"right\"},\"top\":{\"field\":\"top\"}},\"id\":\"9cb142e3-038a-43ab-9f72-a6a63b06612a\",\"type\":\"Quad\"},{\"attributes\":{\"formatter\":{\"id\":\"8d5f711b-52f9-4478-bef0-a9a65284088a\",\"type\":\"BasicTickFormatter\"},\"plot\":{\"id\":\"f8e1f340-b37d-442d-8406-4395f57f0123\",\"subtype\":\"Figure\",\"type\":\"Plot\"},\"ticker\":{\"id\":\"093a7426-b079-46dd-b3e5-e6a32381ea33\",\"type\":\"BasicTicker\"}},\"id\":\"95e20f45-288c-4998-b56b-bab6e65150a0\",\"type\":\"LinearAxis\"},{\"attributes\":{},\"id\":\"8411738f-8669-46b3-92c4-d6b65c509650\",\"type\":\"ToolEvents\"},{\"attributes\":{},\"id\":\"8d5f711b-52f9-4478-bef0-a9a65284088a\",\"type\":\"BasicTickFormatter\"},{\"attributes\":{},\"id\":\"093a7426-b079-46dd-b3e5-e6a32381ea33\",\"type\":\"BasicTicker\"},{\"attributes\":{\"callback\":null,\"column_names\":[\"xs\",\"ys\",\"line_color\"],\"data\":{\"line_color\":[\"black\",\"black\",\"black\",\"black\",\"black\",\"black\",\"black\",\"black\",\"black\",\"black\",\"black\",\"black\",\"black\",\"black\",\"black\",\"black\",\"black\",\"black\",\"black\",\"black\",\"black\",\"black\",\"black\",\"black\",\"black\",\"black\",\"black\",\"black\",\"black\",\"black\",\"black\",\"black\",\"black\",\"black\",\"black\",\"black\",\"black\",\"black\",\"black\",\"black\",\"black\",\"black\",\"black\",\"black\",\"black\",\"black\",\"black\",\"black\",\"black\",\"black\",\"black\",\"black\",\"black\",\"black\",\"black\",\"black\",\"black\",\"black\",\"black\",\"black\",\"black\",\"black\",\"black\",\"black\",\"black\",\"black\",\"black\",\"black\",\"black\",\"black\",\"black\",\"black\",\"black\",\"black\",\"black\",\"black\",\"black\",\"black\",\"black\",\"black\",\"black\",\"black\",\"black\",\"black\",\"black\",\"black\",\"black\",\"black\",\"black\",\"black\",\"black\",\"black\",\"black\",\"black\",\"black\",\"black\",\"black\",\"black\",\"black\",\"black\",\"black\",\"black\",\"black\",\"black\",\"black\",\"black\",\"black\",\"black\",\"black\",\"black\",\"black\",\"black\",\"black\",\"black\",\"black\",\"black\",\"black\",\"black\",\"black\",\"black\"],\"xs\":[[135757320,135757320],[135761078,135761078],[135761271,135761271],[135762344,135762344],[135762980,135762980],[135763280,135763280],[135768815,135768815],[135769093,135769093],[135769127,135769127],[135770940,135770940],[135770951,135770951],[135776728,135776728],[135777504,135777504],[136398174,136398174],[136402117,136402117],[136403749,136403749],[136409073,136409073],[136410299,136410299],[136413359,136413359],[136416855,136416855],[136416941,136416941],[136418348,136418348],[136419961,136419961],[136420690,136420690],[136422171,136422171],[136428460,136428460],[136430866,136430866],[136432103,136432103],[136437507,136437507],[136439090,136439090],[136439517,136439517],[136444123,136444123],[136445526,136445526],[136445869,136445869],[136455600,136455600],[136456642,136456642],[136462441,136462441],[136470714,136470714],[136474098,136474098],[136494186,136494186],[136495300,136495300],[136495619,136495619],[136499166,136499166],[136502792,136502792],[136503157,136503157],[136507039,136507039],[136511575,136511575],[136518103,136518103],[136521514,136521514],[136522675,136522675],[136522941,136522941],[136526981,136526981],[136535410,136535410],[136539122,136539122],[136544197,136544197],[136550109,136550109],[136551694,136551694],[136553188,136553188],[136553639,136553639],[136554800,136554800],[136557319,136557319],[136558157,136558157],[136569848,136569848],[136575199,136575199],[136576577,136576577],[136578536,136578536],[136580287,136580287],[136583192,136583192],[136586958,136586958],[136588478,136588478],[136589612,136589612],[136591178,136591178],[136591859,136591859],[136593760,136593760],[136594158,136594158],[136603276,136603276],[136603366,136603366],[136608231,136608231],[136609975,136609975],[136610598,136610598],[136611624,136611624],[136613780,136613780],[136614255,136614255],[136614813,136614813],[136617524,136617524],[136622216,136622216],[136625602,136625602],[136629911,136629911],[136630757,136630757],[136630989,136630989],[136631031,136631031],[136633771,136633771],[136636324,136636324],[136638216,136638216],[136640233,136640233],[136641882,136641882],[136643555,136643555],[136658345,136658345],[136670298,136670298],[136685228,136685228],[136696138,136696138],[136740900,136740900],[136765951,136765951],[136501840,136501840],[136505546,136505546],[136516748,136516748],[136522710,136522710],[136528004,136528004],[136539513,136539513],[136544752,136544752],[136546110,136546110],[136553529,136553529],[136555659,136555659],[136682274,136682274],[136691825,136691825],[136698098,136698098],[136721603,136721603],[136721995,136721995],[136755684,136755684],[136775898,136775898]],\"ys\":[[50,96],[50,96],[50,96],[50,96],[50,96],[50,96],[50,96],[50,96],[50,96],[50,96],[50,96],[50,96],[50,96],[50,94],[50,94],[50,94],[50,94],[50,94],[50,94],[50,94],[50,94],[50,94],[50,94],[50,94],[50,94],[50,94],[50,94],[50,94],[50,94],[50,94],[50,94],[50,94],[50,94],[50,94],[50,94],[50,94],[50,94],[50,94],[50,94],[50,95],[50,95],[50,95],[50,95],[50,95],[50,95],[50,95],[50,95],[50,95],[50,95],[50,95],[50,95],[50,95],[50,95],[50,95],[50,95],[50,95],[50,95],[50,95],[50,95],[50,95],[50,95],[50,95],[50,95],[50,95],[50,95],[50,95],[50,95],[50,95],[50,95],[50,95],[50,95],[50,95],[50,95],[50,95],[50,95],[50,95],[50,95],[50,95],[50,95],[50,95],[50,95],[50,95],[50,95],[50,95],[50,95],[50,95],[50,95],[50,95],[50,95],[50,95],[50,95],[50,95],[50,95],[50,95],[50,95],[50,95],[50,95],[50,95],[50,95],[50,95],[50,95],[50,95],[50,95],[150,198],[150,198],[150,198],[150,198],[150,198],[150,198],[150,198],[150,198],[150,198],[150,198],[150,197],[150,197],[150,197],[150,197],[150,197],[150,197],[150,197]]}},\"id\":\"4625bbd1-0288-4df1-b2c3-5d90cd9376f6\",\"type\":\"ColumnDataSource\"},{\"attributes\":{\"data_source\":{\"id\":\"4625bbd1-0288-4df1-b2c3-5d90cd9376f6\",\"type\":\"ColumnDataSource\"},\"glyph\":{\"id\":\"3fa0942e-710e-47c7-96fd-1b6c8efb9258\",\"type\":\"MultiLine\"},\"hover_glyph\":null,\"nonselection_glyph\":{\"id\":\"4867dc0d-e224-4f1b-8fc9-9370a7ebc1e9\",\"type\":\"MultiLine\"},\"selection_glyph\":null},\"id\":\"9e8dc2b0-2c58-49bd-a139-1d927f7f729e\",\"type\":\"GlyphRenderer\"},{\"attributes\":{\"plot\":{\"id\":\"f8e1f340-b37d-442d-8406-4395f57f0123\",\"subtype\":\"Figure\",\"type\":\"Plot\"}},\"id\":\"4d969800-0e26-4fc2-9cff-211bb178679f\",\"type\":\"PanTool\"},{\"attributes\":{\"plot\":{\"id\":\"f8e1f340-b37d-442d-8406-4395f57f0123\",\"subtype\":\"Figure\",\"type\":\"Plot\"},\"ticker\":{\"id\":\"093a7426-b079-46dd-b3e5-e6a32381ea33\",\"type\":\"BasicTicker\"}},\"id\":\"9e796d29-687b-4546-8b06-861771e3b0c1\",\"type\":\"Grid\"},{\"attributes\":{\"plot\":{\"id\":\"f8e1f340-b37d-442d-8406-4395f57f0123\",\"subtype\":\"Figure\",\"type\":\"Plot\"}},\"id\":\"075f47b2-d67f-4782-b346-1e0af1540f6a\",\"type\":\"WheelZoomTool\"},{\"attributes\":{\"plot\":null,\"text\":null},\"id\":\"81de2d70-408f-4bd4-8f2e-41e0b539ccee\",\"type\":\"Title\"},{\"attributes\":{\"level\":\"glyph\",\"plot\":{\"id\":\"f8e1f340-b37d-442d-8406-4395f57f0123\",\"subtype\":\"Figure\",\"type\":\"Plot\"},\"source\":{\"id\":\"23b57615-14d5-4a68-a60b-ca04ff149b29\",\"type\":\"ColumnDataSource\"},\"text\":{\"field\":\"vals\"},\"text_align\":\"center\",\"text_baseline\":\"middle\",\"text_font_size\":{\"value\":\"8pt\"},\"x\":{\"field\":\"x\"},\"y\":{\"field\":\"y\"}},\"id\":\"20ddbdf8-5a21-4874-a4d7-5c3262344b60\",\"type\":\"LabelSet\"},{\"attributes\":{},\"id\":\"681c9265-f816-4e2d-a532-20fae2c8566d\",\"type\":\"BasicTicker\"},{\"attributes\":{\"formatter\":{\"id\":\"bd6e82ce-fa44-4f1e-a27c-4cf5e55d959a\",\"type\":\"BasicTickFormatter\"},\"plot\":{\"id\":\"f8e1f340-b37d-442d-8406-4395f57f0123\",\"subtype\":\"Figure\",\"type\":\"Plot\"},\"ticker\":{\"id\":\"681c9265-f816-4e2d-a532-20fae2c8566d\",\"type\":\"BasicTicker\"},\"visible\":null},\"id\":\"f453a0cc-1937-4552-8172-ffae6799c7f7\",\"type\":\"LinearAxis\"},{\"attributes\":{\"callback\":null,\"column_names\":[\"right\",\"bottom\",\"top\",\"left\",\"fill_color\"],\"data\":{\"bottom\":[50,50,50,150,150],\"fill_color\":[\"#808080\",\"#61c461\",\"#61c461\",\"#808080\",\"#61c461\"],\"left\":[135757320,136398174,136494186,136501840,136682274],\"right\":[135777504,136474098,136765951,136555659,136775898],\"top\":[96,94,95,198,197]}},\"id\":\"da5c8c60-e153-4b18-959f-6e4b463bd8bb\",\"type\":\"ColumnDataSource\"},{\"attributes\":{\"plot\":{\"id\":\"f8e1f340-b37d-442d-8406-4395f57f0123\",\"subtype\":\"Figure\",\"type\":\"Plot\"}},\"id\":\"e2a315e0-d23a-4c47-b18a-cd77d5112745\",\"type\":\"SaveTool\"},{\"attributes\":{\"callback\":null,\"column_names\":[\"right\",\"bottom\",\"top\",\"left\"],\"data\":{\"bottom\":[245,245,245,245,245,245,245],\"left\":[135809835,135957574,136289083,136499189,136545415,136597196,136664254],\"right\":[135928279,136288182,136482839,136542633,136594750,136634047,136743222],\"top\":[275,275,275,275,275,275,275]}},\"id\":\"ed551c5b-317d-4371-834a-1a397e627e13\",\"type\":\"ColumnDataSource\"},{\"attributes\":{\"bottom\":{\"field\":\"bottom\"},\"fill_alpha\":{\"value\":0.1},\"fill_color\":{\"value\":\"#1f77b4\"},\"left\":{\"field\":\"left\"},\"line_alpha\":{\"value\":0.1},\"line_color\":{\"value\":\"#1f77b4\"},\"right\":{\"field\":\"right\"},\"top\":{\"field\":\"top\"}},\"id\":\"208e6f42-922a-46f8-b7d5-28dadd1fa3e3\",\"type\":\"Quad\"},{\"attributes\":{},\"id\":\"bd6e82ce-fa44-4f1e-a27c-4cf5e55d959a\",\"type\":\"BasicTickFormatter\"},{\"attributes\":{\"callback\":null,\"column_names\":[\"y\",\"x\",\"vals\"],\"data\":{\"vals\":[\"RAB3GAP1\",\"ZRANB3\",\"R3HDM1\",\"UBXN4\",\"LCT\",\"MCM6\",\"DARS\"],\"x\":[135869057.0,136122878.0,136385961.0,136520911.0,136570082.5,136615621.5,136703738.0],\"y\":[260.0,260.0,260.0,260.0,260.0,260.0,260.0]}},\"id\":\"23b57615-14d5-4a68-a60b-ca04ff149b29\",\"type\":\"ColumnDataSource\"},{\"attributes\":{\"overlay\":{\"id\":\"669b956f-50d6-4b43-93ff-48e8811aaec8\",\"type\":\"BoxAnnotation\"},\"plot\":{\"id\":\"f8e1f340-b37d-442d-8406-4395f57f0123\",\"subtype\":\"Figure\",\"type\":\"Plot\"}},\"id\":\"7768843b-3122-423e-9cd3-a6f39e161f34\",\"type\":\"BoxZoomTool\"},{\"attributes\":{\"level\":\"glyph\",\"plot\":{\"id\":\"f8e1f340-b37d-442d-8406-4395f57f0123\",\"subtype\":\"Figure\",\"type\":\"Plot\"},\"source\":{\"id\":\"57e1a1f3-bb02-4faa-bd24-513e0b605353\",\"type\":\"ColumnDataSource\"},\"text\":{\"field\":\"vals\"},\"text_font_size\":{\"value\":\"9pt\"},\"text_font_style\":\"bold\",\"x\":{\"field\":\"x\"},\"y\":{\"field\":\"y\"}},\"id\":\"66c63877-9da9-4111-b8fb-81cb9f7587ea\",\"type\":\"LabelSet\"},{\"attributes\":{\"callback\":null,\"end\":300},\"id\":\"82fbda74-9378-4ee5-8d38-1adb101923ab\",\"type\":\"Range1d\"},{\"attributes\":{\"data_source\":{\"id\":\"da5c8c60-e153-4b18-959f-6e4b463bd8bb\",\"type\":\"ColumnDataSource\"},\"glyph\":{\"id\":\"22db9614-7c03-4ea1-965c-d4784ae82b24\",\"type\":\"Quad\"},\"hover_glyph\":null,\"nonselection_glyph\":{\"id\":\"208e6f42-922a-46f8-b7d5-28dadd1fa3e3\",\"type\":\"Quad\"},\"selection_glyph\":null},\"id\":\"6cf5899b-c440-416a-8d04-99109d018e9d\",\"type\":\"GlyphRenderer\"},{\"attributes\":{\"callback\":null,\"end\":136786630,\"start\":135757320},\"id\":\"c97a600a-32c7-4332-9a4d-3ae770e8477e\",\"type\":\"Range1d\"},{\"attributes\":{\"line_color\":{\"field\":\"line_color\"},\"xs\":{\"field\":\"xs\"},\"ys\":{\"field\":\"ys\"}},\"id\":\"3fa0942e-710e-47c7-96fd-1b6c8efb9258\",\"type\":\"MultiLine\"},{\"attributes\":{\"bottom\":{\"field\":\"bottom\"},\"fill_color\":{\"field\":\"fill_color\"},\"left\":{\"field\":\"left\"},\"line_color\":{\"value\":null},\"right\":{\"field\":\"right\"},\"top\":{\"field\":\"top\"}},\"id\":\"22db9614-7c03-4ea1-965c-d4784ae82b24\",\"type\":\"Quad\"},{\"attributes\":{\"bottom\":{\"field\":\"bottom\"},\"fill_color\":{\"value\":\"white\"},\"left\":{\"field\":\"left\"},\"right\":{\"field\":\"right\"},\"top\":{\"field\":\"top\"}},\"id\":\"4703523c-7fce-4c8c-96f9-25460ee8079c\",\"type\":\"Quad\"},{\"attributes\":{\"below\":[{\"id\":\"95e20f45-288c-4998-b56b-bab6e65150a0\",\"type\":\"LinearAxis\"}],\"left\":[{\"id\":\"f453a0cc-1937-4552-8172-ffae6799c7f7\",\"type\":\"LinearAxis\"}],\"plot_height\":300,\"plot_width\":900,\"renderers\":[{\"id\":\"95e20f45-288c-4998-b56b-bab6e65150a0\",\"type\":\"LinearAxis\"},{\"id\":\"9e796d29-687b-4546-8b06-861771e3b0c1\",\"type\":\"Grid\"},{\"id\":\"f453a0cc-1937-4552-8172-ffae6799c7f7\",\"type\":\"LinearAxis\"},{\"id\":\"a8acf599-c612-428b-a84a-24b3c01b2c90\",\"type\":\"Grid\"},{\"id\":\"669b956f-50d6-4b43-93ff-48e8811aaec8\",\"type\":\"BoxAnnotation\"},{\"id\":\"6cf5899b-c440-416a-8d04-99109d018e9d\",\"type\":\"GlyphRenderer\"},{\"id\":\"9e8dc2b0-2c58-49bd-a139-1d927f7f729e\",\"type\":\"GlyphRenderer\"},{\"id\":\"66c63877-9da9-4111-b8fb-81cb9f7587ea\",\"type\":\"LabelSet\"},{\"id\":\"70e7e148-ec92-48fd-95ba-33086388e3c3\",\"type\":\"GlyphRenderer\"},{\"id\":\"20ddbdf8-5a21-4874-a4d7-5c3262344b60\",\"type\":\"LabelSet\"}],\"title\":{\"id\":\"81de2d70-408f-4bd4-8f2e-41e0b539ccee\",\"type\":\"Title\"},\"tool_events\":{\"id\":\"8411738f-8669-46b3-92c4-d6b65c509650\",\"type\":\"ToolEvents\"},\"toolbar\":{\"id\":\"2f897716-579a-49d4-bde3-819963a250f8\",\"type\":\"Toolbar\"},\"toolbar_location\":null,\"x_range\":{\"id\":\"c97a600a-32c7-4332-9a4d-3ae770e8477e\",\"type\":\"Range1d\"},\"y_range\":{\"id\":\"82fbda74-9378-4ee5-8d38-1adb101923ab\",\"type\":\"Range1d\"}},\"id\":\"f8e1f340-b37d-442d-8406-4395f57f0123\",\"subtype\":\"Figure\",\"type\":\"Plot\"},{\"attributes\":{\"callback\":null,\"column_names\":[\"y\",\"x\",\"vals\"],\"data\":{\"vals\":[\"13_1696\",\"26_1414\",\"64_1575\",\"10_2206\",\"7_1868\"],\"x\":[135757320,136398174,136494186,136501840,136682274],\"y\":[101.0,99.0,100.0,203.0,202.0]}},\"id\":\"57e1a1f3-bb02-4faa-bd24-513e0b605353\",\"type\":\"ColumnDataSource\"},{\"attributes\":{\"line_alpha\":{\"value\":0.1},\"line_color\":{\"value\":\"#1f77b4\"},\"xs\":{\"field\":\"xs\"},\"ys\":{\"field\":\"ys\"}},\"id\":\"4867dc0d-e224-4f1b-8fc9-9370a7ebc1e9\",\"type\":\"MultiLine\"},{\"attributes\":{\"active_drag\":\"auto\",\"active_scroll\":\"auto\",\"active_tap\":\"auto\",\"tools\":[{\"id\":\"4d969800-0e26-4fc2-9cff-211bb178679f\",\"type\":\"PanTool\"},{\"id\":\"075f47b2-d67f-4782-b346-1e0af1540f6a\",\"type\":\"WheelZoomTool\"},{\"id\":\"7768843b-3122-423e-9cd3-a6f39e161f34\",\"type\":\"BoxZoomTool\"},{\"id\":\"e2a315e0-d23a-4c47-b18a-cd77d5112745\",\"type\":\"SaveTool\"},{\"id\":\"9ed97dd8-d5dd-416f-8171-0e7d1158d123\",\"type\":\"ResetTool\"},{\"id\":\"e3040611-f21d-416e-98e0-96ae14d852b6\",\"type\":\"HelpTool\"}]},\"id\":\"2f897716-579a-49d4-bde3-819963a250f8\",\"type\":\"Toolbar\"},{\"attributes\":{\"plot\":{\"id\":\"f8e1f340-b37d-442d-8406-4395f57f0123\",\"subtype\":\"Figure\",\"type\":\"Plot\"}},\"id\":\"e3040611-f21d-416e-98e0-96ae14d852b6\",\"type\":\"HelpTool\"},{\"attributes\":{\"plot\":{\"id\":\"f8e1f340-b37d-442d-8406-4395f57f0123\",\"subtype\":\"Figure\",\"type\":\"Plot\"}},\"id\":\"9ed97dd8-d5dd-416f-8171-0e7d1158d123\",\"type\":\"ResetTool\"},{\"attributes\":{\"data_source\":{\"id\":\"ed551c5b-317d-4371-834a-1a397e627e13\",\"type\":\"ColumnDataSource\"},\"glyph\":{\"id\":\"4703523c-7fce-4c8c-96f9-25460ee8079c\",\"type\":\"Quad\"},\"hover_glyph\":null,\"nonselection_glyph\":{\"id\":\"9cb142e3-038a-43ab-9f72-a6a63b06612a\",\"type\":\"Quad\"},\"selection_glyph\":null},\"id\":\"70e7e148-ec92-48fd-95ba-33086388e3c3\",\"type\":\"GlyphRenderer\"}],\"root_ids\":[\"f8e1f340-b37d-442d-8406-4395f57f0123\"]},\"title\":\"Bokeh Application\",\"version\":\"0.12.0\"}};\n",
       "            var render_items = [{\"docid\":\"c0af659b-3a39-495d-a270-8cb3b527113d\",\"elementid\":\"b3b2a1af-497d-4dd0-a34c-1ca54eb16f69\",\"modelid\":\"f8e1f340-b37d-442d-8406-4395f57f0123\",\"notebook_comms_target\":\"32b52ff1-a88f-411b-ab4c-a86045e20505\"}];\n",
       "            \n",
       "            Bokeh.embed.embed_items(docs_json, render_items);\n",
       "        });\n",
       "      },\n",
       "      function(Bokeh) {\n",
       "      }\n",
       "    ];\n",
       "  \n",
       "    function run_inline_js() {\n",
       "      for (var i = 0; i < inline_js.length; i++) {\n",
       "        inline_js[i](window.Bokeh);\n",
       "      }\n",
       "    }\n",
       "  \n",
       "    if (window._bokeh_is_loading === 0) {\n",
       "      console.log(\"Bokeh: BokehJS loaded, going straight to plotting\");\n",
       "      run_inline_js();\n",
       "    } else {\n",
       "      load_libs(js_urls, function() {\n",
       "        console.log(\"Bokeh: BokehJS plotting callback run at\", now());\n",
       "        run_inline_js();\n",
       "      });\n",
       "    }\n",
       "  }(this));\n",
       "</script>"
      ]
     },
     "metadata": {},
     "output_type": "display_data"
    },
    {
     "data": {
      "text/html": [
       "<p><code>&lt;Bokeh Notebook handle for <strong>In[67]</strong>&gt;</code></p>"
      ],
      "text/plain": [
       "<bokeh.io._CommsHandle at 0x7f43647c0190>"
      ]
     },
     "execution_count": 67,
     "metadata": {},
     "output_type": "execute_result"
    }
   ],
   "source": [
    "plt_obj = dm.superset_yes_no([dm.di_26_1414, dm.di_13_1696], \n",
    "                             [di_7_20, di_4_37, dm.di_5_684, dm.di_123_1561, dm.di_4_1699], min_match=0.001)\n",
    "plt = plt_obj.do_plot()\n",
    "am = plt_obj.plot_context.yes_allele_mask\n",
    "show(plt)"
   ]
  },
  {
   "cell_type": "code",
   "execution_count": 68,
   "metadata": {
    "collapsed": false
   },
   "outputs": [
    {
     "data": {
      "text/html": [
       "<table>\n",
       "<thead><tr><th style=\"text-align:center\">index</th><th style=\"text-align:center\">first</th><th style=\"text-align:center\">length</th><th style=\"text-align:center\">snps</th><th style=\"text-align:center\" colspan=2>alleles</th><th style=\"text-align:center\" colspan=2>matches</th><th style=\"text-align:center\" colspan=2>afr</th><th style=\"text-align:center\" colspan=2>afx</th><th style=\"text-align:center\" colspan=2>amr</th><th style=\"text-align:center\" colspan=2>eas</th><th style=\"text-align:center\" colspan=2>eur</th><th style=\"text-align:center\" colspan=2>sas</th><th style=\"text-align:center\" colspan=2>sax</th></tr></thead>\n",
       "<tr class=\"even\"><td style=\"text-align: right;\">353921</td><td style=\"text-align: right;\">136,501,840</td><td style=\"text-align: right;\">53,819</td><td style=\"text-align: right;\">10</td><td style=\"text-align: right;\">2206</td><td style=\"text-align: right;\">0.00</td><td style=\"text-align: right;\">4</td><td style=\"text-align: right;\">1.00</td><td style=\"text-align: right;\">0</td><td style=\"text-align: right;\">0.00</td><td style=\"text-align: right;\">1</td><td style=\"text-align: right;\">3.51</td><td style=\"text-align: right;\">0</td><td style=\"text-align: right;\">0.00</td><td style=\"text-align: right;\">1</td><td style=\"text-align: right;\">6.41</td><td style=\"text-align: right;\">0</td><td style=\"text-align: right;\">0.00</td><td style=\"text-align: right;\">0</td><td style=\"text-align: right;\">0.00</td><td style=\"text-align: right;\">2</td><td style=\"text-align: right;\">3.46</td></tr>\n",
       "<tr><td style=\"text-align: right;\">354170</td><td style=\"text-align: right;\">136,682,274</td><td style=\"text-align: right;\">93,624</td><td style=\"text-align: right;\">7</td><td style=\"text-align: right;\">1868</td><td style=\"text-align: right;\">0.00</td><td style=\"text-align: right;\">4</td><td style=\"text-align: right;\">1.00</td><td style=\"text-align: right;\">0</td><td style=\"text-align: right;\">0.00</td><td style=\"text-align: right;\">1</td><td style=\"text-align: right;\">3.51</td><td style=\"text-align: right;\">0</td><td style=\"text-align: right;\">0.00</td><td style=\"text-align: right;\">1</td><td style=\"text-align: right;\">6.41</td><td style=\"text-align: right;\">0</td><td style=\"text-align: right;\">0.00</td><td style=\"text-align: right;\">0</td><td style=\"text-align: right;\">0.00</td><td style=\"text-align: right;\">2</td><td style=\"text-align: right;\">3.46</td></tr>\n",
       "<tr class=\"even\"><td style=\"text-align: right;\">353240</td><td style=\"text-align: right;\">135,757,320</td><td style=\"text-align: right;\">20,184</td><td style=\"text-align: right;\">13</td><td style=\"text-align: right;\">1696</td><td style=\"text-align: right;\">0.00</td><td style=\"text-align: right;\">4</td><td style=\"text-align: right;\">1.00</td><td style=\"text-align: right;\">0</td><td style=\"text-align: right;\">0.00</td><td style=\"text-align: right;\">1</td><td style=\"text-align: right;\">3.51</td><td style=\"text-align: right;\">0</td><td style=\"text-align: right;\">0.00</td><td style=\"text-align: right;\">1</td><td style=\"text-align: right;\">6.41</td><td style=\"text-align: right;\">0</td><td style=\"text-align: right;\">0.00</td><td style=\"text-align: right;\">0</td><td style=\"text-align: right;\">0.00</td><td style=\"text-align: right;\">2</td><td style=\"text-align: right;\">3.46</td></tr>\n",
       "<tr><td style=\"text-align: right;\">353901</td><td style=\"text-align: right;\">136,494,186</td><td style=\"text-align: right;\">271,765</td><td style=\"text-align: right;\">64</td><td style=\"text-align: right;\">1575</td><td style=\"text-align: right;\">0.00</td><td style=\"text-align: right;\">4</td><td style=\"text-align: right;\">1.00</td><td style=\"text-align: right;\">0</td><td style=\"text-align: right;\">0.00</td><td style=\"text-align: right;\">1</td><td style=\"text-align: right;\">3.51</td><td style=\"text-align: right;\">0</td><td style=\"text-align: right;\">0.00</td><td style=\"text-align: right;\">1</td><td style=\"text-align: right;\">6.41</td><td style=\"text-align: right;\">0</td><td style=\"text-align: right;\">0.00</td><td style=\"text-align: right;\">0</td><td style=\"text-align: right;\">0.00</td><td style=\"text-align: right;\">2</td><td style=\"text-align: right;\">3.46</td></tr>\n",
       "<tr class=\"even\"><td style=\"text-align: right;\">353797</td><td style=\"text-align: right;\">136,398,174</td><td style=\"text-align: right;\">75,924</td><td style=\"text-align: right;\">26</td><td style=\"text-align: right;\">1414</td><td style=\"text-align: right;\">0.00</td><td style=\"text-align: right;\">4</td><td style=\"text-align: right;\">1.00</td><td style=\"text-align: right;\">0</td><td style=\"text-align: right;\">0.00</td><td style=\"text-align: right;\">1</td><td style=\"text-align: right;\">3.51</td><td style=\"text-align: right;\">0</td><td style=\"text-align: right;\">0.00</td><td style=\"text-align: right;\">1</td><td style=\"text-align: right;\">6.41</td><td style=\"text-align: right;\">0</td><td style=\"text-align: right;\">0.00</td><td style=\"text-align: right;\">0</td><td style=\"text-align: right;\">0.00</td><td style=\"text-align: right;\">2</td><td style=\"text-align: right;\">3.46</td></tr>\n",
       "</table>"
      ],
      "text/plain": [
       "<IPython.core.display.HTML object>"
      ]
     },
     "execution_count": 68,
     "metadata": {},
     "output_type": "execute_result"
    }
   ],
   "source": [
    "HTML(plt_obj.get_html())"
   ]
  },
  {
   "cell_type": "code",
   "execution_count": 69,
   "metadata": {
    "collapsed": false
   },
   "outputs": [
    {
     "data": {
      "text/plain": [
       "array([4, 4, 4, 4, 4, 4, 4, 4, 4, 4, 4, 4, 4, 4, 4, 4, 4, 4, 4, 4, 4, 4, 4,\n",
       "       4, 4, 4])"
      ]
     },
     "execution_count": 69,
     "metadata": {},
     "output_type": "execute_result"
    }
   ],
   "source": [
    "sa_26_1414.alleles_per_snp(am)"
   ]
  },
  {
   "cell_type": "code",
   "execution_count": 70,
   "metadata": {
    "collapsed": false
   },
   "outputs": [
    {
     "data": {
      "text/plain": [
       "array([4, 4, 4, 4, 3, 3, 0, 0, 0])"
      ]
     },
     "execution_count": 70,
     "metadata": {},
     "output_type": "execute_result"
    }
   ],
   "source": [
    "sa_9_944.alleles_per_snp(am)"
   ]
  },
  {
   "cell_type": "code",
   "execution_count": 71,
   "metadata": {
    "collapsed": false
   },
   "outputs": [
    {
     "data": {
      "text/plain": [
       "array([1, 0, 0, 0, 0])"
      ]
     },
     "execution_count": 71,
     "metadata": {},
     "output_type": "execute_result"
    }
   ],
   "source": [
    "sa_5_684.alleles_per_snp(am)"
   ]
  },
  {
   "cell_type": "code",
   "execution_count": 72,
   "metadata": {
    "collapsed": false
   },
   "outputs": [
    {
     "data": {
      "text/html": [
       "\n",
       "\n",
       "    <div class=\"bk-root\">\n",
       "        <div class=\"plotdiv\" id=\"e4a95795-cabb-4507-a436-96284f4595dc\"></div>\n",
       "    </div>\n",
       "<script type=\"text/javascript\">\n",
       "  \n",
       "  (function(global) {\n",
       "    function now() {\n",
       "      return new Date();\n",
       "    }\n",
       "  \n",
       "    if (typeof (window._bokeh_onload_callbacks) === \"undefined\") {\n",
       "      window._bokeh_onload_callbacks = [];\n",
       "    }\n",
       "  \n",
       "    function run_callbacks() {\n",
       "      window._bokeh_onload_callbacks.forEach(function(callback) { callback() });\n",
       "      delete window._bokeh_onload_callbacks\n",
       "      console.info(\"Bokeh: all callbacks have finished\");\n",
       "    }\n",
       "  \n",
       "    function load_libs(js_urls, callback) {\n",
       "      window._bokeh_onload_callbacks.push(callback);\n",
       "      if (window._bokeh_is_loading > 0) {\n",
       "        console.log(\"Bokeh: BokehJS is being loaded, scheduling callback at\", now());\n",
       "        return null;\n",
       "      }\n",
       "      if (js_urls == null || js_urls.length === 0) {\n",
       "        run_callbacks();\n",
       "        return null;\n",
       "      }\n",
       "      console.log(\"Bokeh: BokehJS not loaded, scheduling load and callback at\", now());\n",
       "      window._bokeh_is_loading = js_urls.length;\n",
       "      for (var i = 0; i < js_urls.length; i++) {\n",
       "        var url = js_urls[i];\n",
       "        var s = document.createElement('script');\n",
       "        s.src = url;\n",
       "        s.async = false;\n",
       "        s.onreadystatechange = s.onload = function() {\n",
       "          window._bokeh_is_loading--;\n",
       "          if (window._bokeh_is_loading === 0) {\n",
       "            console.log(\"Bokeh: all BokehJS libraries loaded\");\n",
       "            run_callbacks()\n",
       "          }\n",
       "        };\n",
       "        s.onerror = function() {\n",
       "          console.warn(\"failed to load library \" + url);\n",
       "        };\n",
       "        console.log(\"Bokeh: injecting script tag for BokehJS library: \", url);\n",
       "        document.getElementsByTagName(\"head\")[0].appendChild(s);\n",
       "      }\n",
       "    };var element = document.getElementById(\"e4a95795-cabb-4507-a436-96284f4595dc\");\n",
       "    if (element == null) {\n",
       "      console.log(\"Bokeh: ERROR: autoload.js configured with elementid 'e4a95795-cabb-4507-a436-96284f4595dc' but no matching script tag was found. \")\n",
       "      return false;\n",
       "    }\n",
       "  \n",
       "    var js_urls = [];\n",
       "  \n",
       "    var inline_js = [\n",
       "      function(Bokeh) {\n",
       "        Bokeh.$(function() {\n",
       "            var docs_json = {\"102a7030-6db7-4812-8263-83b024e4566a\":{\"roots\":{\"references\":[{\"attributes\":{\"below\":[{\"id\":\"969c1a94-0d9e-45ff-a704-145c1045e669\",\"type\":\"LinearAxis\"}],\"left\":[{\"id\":\"58e107be-6faf-410d-9487-e0da8b7453d3\",\"type\":\"LinearAxis\"}],\"plot_height\":400,\"plot_width\":900,\"renderers\":[{\"id\":\"969c1a94-0d9e-45ff-a704-145c1045e669\",\"type\":\"LinearAxis\"},{\"id\":\"042b70ba-e8d1-4301-97ad-5657382296eb\",\"type\":\"Grid\"},{\"id\":\"58e107be-6faf-410d-9487-e0da8b7453d3\",\"type\":\"LinearAxis\"},{\"id\":\"b79f5c4e-abe3-4748-82c9-ab0d1f7efae0\",\"type\":\"Grid\"},{\"id\":\"37b78e2b-59f2-4d42-9c93-63b238caf2db\",\"type\":\"BoxAnnotation\"},{\"id\":\"281f5eef-d557-4f98-8fff-68c7621e6380\",\"type\":\"GlyphRenderer\"}],\"title\":{\"id\":\"3cb20549-d26f-4fbd-b58b-b4429b6a8a61\",\"type\":\"Title\"},\"tool_events\":{\"id\":\"7a010949-1bbf-4ce2-bb77-38784a6da848\",\"type\":\"ToolEvents\"},\"toolbar\":{\"id\":\"f2b75483-c6da-4c1e-925e-2bb1c2b9451a\",\"type\":\"Toolbar\"},\"toolbar_location\":null,\"x_range\":{\"id\":\"573f223b-a595-4cac-9784-2052fd7e0799\",\"type\":\"Range1d\"},\"y_range\":{\"id\":\"9b7e3348-1585-4b44-aba5-b6c6edcde428\",\"type\":\"Range1d\"}},\"id\":\"7174d7e8-f09e-46ca-9d96-e80e7833cdbb\",\"subtype\":\"Figure\",\"type\":\"Plot\"},{\"attributes\":{\"formatter\":{\"id\":\"cd4dd831-b3fb-427a-8314-ac50ba7f448d\",\"type\":\"BasicTickFormatter\"},\"plot\":{\"id\":\"7174d7e8-f09e-46ca-9d96-e80e7833cdbb\",\"subtype\":\"Figure\",\"type\":\"Plot\"},\"ticker\":{\"id\":\"019fa50d-9abb-492a-9b60-1e59c6ffb2bc\",\"type\":\"BasicTicker\"}},\"id\":\"969c1a94-0d9e-45ff-a704-145c1045e669\",\"type\":\"LinearAxis\"},{\"attributes\":{\"plot\":{\"id\":\"7174d7e8-f09e-46ca-9d96-e80e7833cdbb\",\"subtype\":\"Figure\",\"type\":\"Plot\"}},\"id\":\"defdc584-2510-43ee-a494-299e0b55d57f\",\"type\":\"HelpTool\"},{\"attributes\":{\"plot\":{\"id\":\"7174d7e8-f09e-46ca-9d96-e80e7833cdbb\",\"subtype\":\"Figure\",\"type\":\"Plot\"}},\"id\":\"1fb8c69b-d697-4354-b2cb-59b7d2af054a\",\"type\":\"PanTool\"},{\"attributes\":{\"formatter\":{\"id\":\"02be6b1a-7fc8-477e-a6c5-58e4de100b12\",\"type\":\"BasicTickFormatter\"},\"plot\":{\"id\":\"7174d7e8-f09e-46ca-9d96-e80e7833cdbb\",\"subtype\":\"Figure\",\"type\":\"Plot\"},\"ticker\":{\"id\":\"37e1278c-9714-480e-b1f5-2e20f153955d\",\"type\":\"BasicTicker\"}},\"id\":\"58e107be-6faf-410d-9487-e0da8b7453d3\",\"type\":\"LinearAxis\"},{\"attributes\":{},\"id\":\"02be6b1a-7fc8-477e-a6c5-58e4de100b12\",\"type\":\"BasicTickFormatter\"},{\"attributes\":{\"callback\":null,\"end\":3928.1000000000004},\"id\":\"9b7e3348-1585-4b44-aba5-b6c6edcde428\",\"type\":\"Range1d\"},{\"attributes\":{\"callback\":null,\"end\":27.5,\"start\":-0.5},\"id\":\"573f223b-a595-4cac-9784-2052fd7e0799\",\"type\":\"Range1d\"},{\"attributes\":{\"line_color\":{\"value\":\"#1f77b4\"},\"x\":{\"field\":\"x\"},\"y\":{\"field\":\"y\"}},\"id\":\"6962bbd2-1c3d-4cdf-a10b-f45865854eb9\",\"type\":\"Line\"},{\"attributes\":{},\"id\":\"cd4dd831-b3fb-427a-8314-ac50ba7f448d\",\"type\":\"BasicTickFormatter\"},{\"attributes\":{\"plot\":null,\"text\":null},\"id\":\"3cb20549-d26f-4fbd-b58b-b4429b6a8a61\",\"type\":\"Title\"},{\"attributes\":{},\"id\":\"37e1278c-9714-480e-b1f5-2e20f153955d\",\"type\":\"BasicTicker\"},{\"attributes\":{\"plot\":{\"id\":\"7174d7e8-f09e-46ca-9d96-e80e7833cdbb\",\"subtype\":\"Figure\",\"type\":\"Plot\"},\"ticker\":{\"id\":\"019fa50d-9abb-492a-9b60-1e59c6ffb2bc\",\"type\":\"BasicTicker\"}},\"id\":\"042b70ba-e8d1-4301-97ad-5657382296eb\",\"type\":\"Grid\"},{\"attributes\":{\"bottom_units\":\"screen\",\"fill_alpha\":{\"value\":0.5},\"fill_color\":{\"value\":\"lightgrey\"},\"left_units\":\"screen\",\"level\":\"overlay\",\"line_alpha\":{\"value\":1.0},\"line_color\":{\"value\":\"black\"},\"line_dash\":[4,4],\"line_width\":{\"value\":2},\"plot\":null,\"render_mode\":\"css\",\"right_units\":\"screen\",\"top_units\":\"screen\"},\"id\":\"37b78e2b-59f2-4d42-9c93-63b238caf2db\",\"type\":\"BoxAnnotation\"},{\"attributes\":{\"plot\":{\"id\":\"7174d7e8-f09e-46ca-9d96-e80e7833cdbb\",\"subtype\":\"Figure\",\"type\":\"Plot\"}},\"id\":\"bd60786e-a3cc-4dbc-ad66-1b9501b06577\",\"type\":\"SaveTool\"},{\"attributes\":{\"data_source\":{\"id\":\"a0b14994-78a7-4372-8860-2e2ba9b0c09f\",\"type\":\"ColumnDataSource\"},\"glyph\":{\"id\":\"6962bbd2-1c3d-4cdf-a10b-f45865854eb9\",\"type\":\"Line\"},\"hover_glyph\":null,\"nonselection_glyph\":{\"id\":\"6aec1642-1168-4b2f-8c69-bda97025ec7b\",\"type\":\"Line\"},\"selection_glyph\":null},\"id\":\"281f5eef-d557-4f98-8fff-68c7621e6380\",\"type\":\"GlyphRenderer\"},{\"attributes\":{\"callback\":null,\"column_names\":[\"y\",\"x\"],\"data\":{\"x\":[-0.5,-0.5,0.5,0.5,1.5,1.5,2.5,2.5,3.5,3.5,4.5,4.5,5.5,5.5,7.5,7.5,8.5,8.5,12.5,12.5,13.5,13.5,14.5,14.5,15.5,15.5,16.5,16.5,17.5,17.5,18.5,18.5,20.5,20.5,21.5,21.5,22.5,22.5,23.5,23.5,24.5,24.5,25.5,25.5,26.5,26.5],\"y\":[0.0,3571.0,3571.0,4.0,4.0,4.0,4.0,1.0,1.0,1.0,1.0,2.0,2.0,0.0,0.0,3.0,3.0,0.0,0.0,1.0,1.0,0.0,0.0,1.0,1.0,1.0,1.0,1.0,1.0,2.0,2.0,0.0,0.0,2.0,2.0,0.0,0.0,52.0,52.0,22.0,22.0,38.0,38.0,1302.0,1302.0,0.0]}},\"id\":\"a0b14994-78a7-4372-8860-2e2ba9b0c09f\",\"type\":\"ColumnDataSource\"},{\"attributes\":{},\"id\":\"7a010949-1bbf-4ce2-bb77-38784a6da848\",\"type\":\"ToolEvents\"},{\"attributes\":{\"dimension\":1,\"plot\":{\"id\":\"7174d7e8-f09e-46ca-9d96-e80e7833cdbb\",\"subtype\":\"Figure\",\"type\":\"Plot\"},\"ticker\":{\"id\":\"37e1278c-9714-480e-b1f5-2e20f153955d\",\"type\":\"BasicTicker\"}},\"id\":\"b79f5c4e-abe3-4748-82c9-ab0d1f7efae0\",\"type\":\"Grid\"},{\"attributes\":{\"overlay\":{\"id\":\"37b78e2b-59f2-4d42-9c93-63b238caf2db\",\"type\":\"BoxAnnotation\"},\"plot\":{\"id\":\"7174d7e8-f09e-46ca-9d96-e80e7833cdbb\",\"subtype\":\"Figure\",\"type\":\"Plot\"}},\"id\":\"cefc065b-3fc7-4e61-9b64-ea850a801d05\",\"type\":\"BoxZoomTool\"},{\"attributes\":{\"line_alpha\":{\"value\":0.1},\"line_color\":{\"value\":\"#1f77b4\"},\"x\":{\"field\":\"x\"},\"y\":{\"field\":\"y\"}},\"id\":\"6aec1642-1168-4b2f-8c69-bda97025ec7b\",\"type\":\"Line\"},{\"attributes\":{\"active_drag\":\"auto\",\"active_scroll\":\"auto\",\"active_tap\":\"auto\",\"tools\":[{\"id\":\"1fb8c69b-d697-4354-b2cb-59b7d2af054a\",\"type\":\"PanTool\"},{\"id\":\"831dea5b-65b1-4efa-842b-b7361692a39f\",\"type\":\"WheelZoomTool\"},{\"id\":\"cefc065b-3fc7-4e61-9b64-ea850a801d05\",\"type\":\"BoxZoomTool\"},{\"id\":\"bd60786e-a3cc-4dbc-ad66-1b9501b06577\",\"type\":\"SaveTool\"},{\"id\":\"6b8ab7b4-6a84-4c26-83ca-37b8f536061f\",\"type\":\"ResetTool\"},{\"id\":\"defdc584-2510-43ee-a494-299e0b55d57f\",\"type\":\"HelpTool\"}]},\"id\":\"f2b75483-c6da-4c1e-925e-2bb1c2b9451a\",\"type\":\"Toolbar\"},{\"attributes\":{\"plot\":{\"id\":\"7174d7e8-f09e-46ca-9d96-e80e7833cdbb\",\"subtype\":\"Figure\",\"type\":\"Plot\"}},\"id\":\"6b8ab7b4-6a84-4c26-83ca-37b8f536061f\",\"type\":\"ResetTool\"},{\"attributes\":{},\"id\":\"019fa50d-9abb-492a-9b60-1e59c6ffb2bc\",\"type\":\"BasicTicker\"},{\"attributes\":{\"plot\":{\"id\":\"7174d7e8-f09e-46ca-9d96-e80e7833cdbb\",\"subtype\":\"Figure\",\"type\":\"Plot\"}},\"id\":\"831dea5b-65b1-4efa-842b-b7361692a39f\",\"type\":\"WheelZoomTool\"}],\"root_ids\":[\"7174d7e8-f09e-46ca-9d96-e80e7833cdbb\"]},\"title\":\"Bokeh Application\",\"version\":\"0.12.0\"}};\n",
       "            var render_items = [{\"docid\":\"102a7030-6db7-4812-8263-83b024e4566a\",\"elementid\":\"e4a95795-cabb-4507-a436-96284f4595dc\",\"modelid\":\"7174d7e8-f09e-46ca-9d96-e80e7833cdbb\",\"notebook_comms_target\":\"3fc40746-7f7c-4a99-be6a-24a5595e5558\"}];\n",
       "            \n",
       "            Bokeh.embed.embed_items(docs_json, render_items);\n",
       "        });\n",
       "      },\n",
       "      function(Bokeh) {\n",
       "      }\n",
       "    ];\n",
       "  \n",
       "    function run_inline_js() {\n",
       "      for (var i = 0; i < inline_js.length; i++) {\n",
       "        inline_js[i](window.Bokeh);\n",
       "      }\n",
       "    }\n",
       "  \n",
       "    if (window._bokeh_is_loading === 0) {\n",
       "      console.log(\"Bokeh: BokehJS loaded, going straight to plotting\");\n",
       "      run_inline_js();\n",
       "    } else {\n",
       "      load_libs(js_urls, function() {\n",
       "        console.log(\"Bokeh: BokehJS plotting callback run at\", now());\n",
       "        run_inline_js();\n",
       "      });\n",
       "    }\n",
       "  }(this));\n",
       "</script>"
      ]
     },
     "metadata": {},
     "output_type": "display_data"
    },
    {
     "data": {
      "text/html": [
       "<p><code>&lt;Bokeh Notebook handle for <strong>In[72]</strong>&gt;</code></p>"
      ],
      "text/plain": [
       "<bokeh.io._CommsHandle at 0x7f43649fc050>"
      ]
     },
     "execution_count": 72,
     "metadata": {},
     "output_type": "execute_result"
    }
   ],
   "source": [
    "count_data = an.sa_26_1414.unique_snps_per_allele()\n",
    "plt_obj = smcp(count_data)\n",
    "plt = plt_obj.do_plot()\n",
    "show(plt)"
   ]
  },
  {
   "cell_type": "code",
   "execution_count": 73,
   "metadata": {
    "collapsed": false
   },
   "outputs": [
    {
     "data": {
      "text/plain": [
       "array([(0, 3571), (1, 4), (2, 4), (3, 1), (4, 1), (5, 2), (8, 3), (13, 1),\n",
       "       (15, 1), (16, 1), (17, 1), (18, 2), (21, 2), (23, 52), (24, 22),\n",
       "       (25, 38), (26, 1302)], \n",
       "      dtype=[('count', '<u2'), ('snps', '<u2')])"
      ]
     },
     "execution_count": 73,
     "metadata": {},
     "output_type": "execute_result"
    }
   ],
   "source": [
    "count_data"
   ]
  },
  {
   "cell_type": "code",
   "execution_count": 74,
   "metadata": {
    "collapsed": false
   },
   "outputs": [
    {
     "data": {
      "text/plain": [
       "array([52, 52, 52, 52, 52, 52, 52, 52, 52, 52, 52, 52, 52, 52, 52, 52, 52,\n",
       "        0, 52, 52, 52,  0, 52,  0, 52, 52])"
      ]
     },
     "execution_count": 74,
     "metadata": {},
     "output_type": "execute_result"
    }
   ],
   "source": [
    "aps_23, am_23 = an.sa_26_1414.snps_from_aps_value(23)\n",
    "aps_23"
   ]
  },
  {
   "cell_type": "code",
   "execution_count": 75,
   "metadata": {
    "collapsed": false
   },
   "outputs": [
    {
     "data": {
      "text/plain": [
       "array([ 1,  1, 22, 22, 22, 22, 22, 22, 22, 22, 22, 22, 22, 22, 22, 22, 22,\n",
       "       22, 22, 22, 22, 22, 22, 22, 21, 21])"
      ]
     },
     "execution_count": 75,
     "metadata": {},
     "output_type": "execute_result"
    }
   ],
   "source": [
    "aps_24, am_24 = an.sa_26_1414.snps_from_aps_value(24)\n",
    "aps_24"
   ]
  }
 ],
 "metadata": {
  "anaconda-cloud": {},
  "kernelspec": {
   "display_name": "Python [Root]",
   "language": "python",
   "name": "Python [Root]"
  },
  "language_info": {
   "codemirror_mode": {
    "name": "ipython",
    "version": 2
   },
   "file_extension": ".py",
   "mimetype": "text/x-python",
   "name": "python",
   "nbconvert_exporter": "python",
   "pygments_lexer": "ipython2",
   "version": "2.7.12"
  }
 },
 "nbformat": 4,
 "nbformat_minor": 0
}
