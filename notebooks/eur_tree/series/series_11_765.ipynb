{
 "cells": [
  {
   "cell_type": "code",
   "execution_count": 1,
   "metadata": {
    "collapsed": false
   },
   "outputs": [
    {
     "data": {
      "text/html": []
     },
     "metadata": {},
     "output_type": "display_data"
    },
    {
     "data": {
      "application/javascript": [
       "\n",
       "(function(global) {\n",
       "  function now() {\n",
       "    return new Date();\n",
       "  }\n",
       "\n",
       "  if (typeof (window._bokeh_onload_callbacks) === \"undefined\") {\n",
       "    window._bokeh_onload_callbacks = [];\n",
       "  }\n",
       "\n",
       "  function run_callbacks() {\n",
       "    window._bokeh_onload_callbacks.forEach(function(callback) { callback() });\n",
       "    delete window._bokeh_onload_callbacks\n",
       "    console.info(\"Bokeh: all callbacks have finished\");\n",
       "  }\n",
       "\n",
       "  function load_libs(js_urls, callback) {\n",
       "    window._bokeh_onload_callbacks.push(callback);\n",
       "    if (window._bokeh_is_loading > 0) {\n",
       "      console.log(\"Bokeh: BokehJS is being loaded, scheduling callback at\", now());\n",
       "      return null;\n",
       "    }\n",
       "    if (js_urls == null || js_urls.length === 0) {\n",
       "      run_callbacks();\n",
       "      return null;\n",
       "    }\n",
       "    console.log(\"Bokeh: BokehJS not loaded, scheduling load and callback at\", now());\n",
       "    window._bokeh_is_loading = js_urls.length;\n",
       "    for (var i = 0; i < js_urls.length; i++) {\n",
       "      var url = js_urls[i];\n",
       "      var s = document.createElement('script');\n",
       "      s.src = url;\n",
       "      s.async = false;\n",
       "      s.onreadystatechange = s.onload = function() {\n",
       "        window._bokeh_is_loading--;\n",
       "        if (window._bokeh_is_loading === 0) {\n",
       "          console.log(\"Bokeh: all BokehJS libraries loaded\");\n",
       "          run_callbacks()\n",
       "        }\n",
       "      };\n",
       "      s.onerror = function() {\n",
       "        console.warn(\"failed to load library \" + url);\n",
       "      };\n",
       "      console.log(\"Bokeh: injecting script tag for BokehJS library: \", url);\n",
       "      document.getElementsByTagName(\"head\")[0].appendChild(s);\n",
       "    }\n",
       "  };\n",
       "\n",
       "  var js_urls = ['https://cdn.pydata.org/bokeh/release/bokeh-0.12.0.min.js', 'https://cdn.pydata.org/bokeh/release/bokeh-widgets-0.12.0.min.js', 'https://cdn.pydata.org/bokeh/release/bokeh-compiler-0.12.0.min.js'];\n",
       "\n",
       "  var inline_js = [\n",
       "    function(Bokeh) {\n",
       "      Bokeh.set_log_level(\"info\");\n",
       "    },\n",
       "    \n",
       "    function(Bokeh) {\n",
       "      Bokeh.$(\"#7b7805e6-d17c-4669-9e4c-f8ffb1aca228\").text(\"BokehJS successfully loaded\");\n",
       "    },\n",
       "    function(Bokeh) {\n",
       "      console.log(\"Bokeh: injecting CSS: https://cdn.pydata.org/bokeh/release/bokeh-0.12.0.min.css\");\n",
       "      Bokeh.embed.inject_css(\"https://cdn.pydata.org/bokeh/release/bokeh-0.12.0.min.css\");\n",
       "      console.log(\"Bokeh: injecting CSS: https://cdn.pydata.org/bokeh/release/bokeh-widgets-0.12.0.min.css\");\n",
       "      Bokeh.embed.inject_css(\"https://cdn.pydata.org/bokeh/release/bokeh-widgets-0.12.0.min.css\");\n",
       "    }\n",
       "  ];\n",
       "\n",
       "  function run_inline_js() {\n",
       "    for (var i = 0; i < inline_js.length; i++) {\n",
       "      inline_js[i](window.Bokeh);\n",
       "    }\n",
       "  }\n",
       "\n",
       "  if (window._bokeh_is_loading === 0) {\n",
       "    console.log(\"Bokeh: BokehJS loaded, going straight to plotting\");\n",
       "    run_inline_js();\n",
       "  } else {\n",
       "    load_libs(js_urls, function() {\n",
       "      console.log(\"Bokeh: BokehJS plotting callback run at\", now());\n",
       "      run_inline_js();\n",
       "    });\n",
       "  }\n",
       "}(this));"
      ]
     },
     "metadata": {},
     "output_type": "display_data"
    }
   ],
   "source": [
    "import numpy as np\n",
    "from IPython.display import HTML\n",
    "from bokeh.plotting import output_notebook, show\n",
    "import genomes_dnj.lct_interval.series_plots as dm\n",
    "import genomes_dnj.lct_interval.anal_series as an\n",
    "import genomes_dnj.lct_interval.series_masks as sm\n",
    "import genomes_dnj.lct_interval_snp_anal.lct_interval_snp_anal as snp_anal\n",
    "from genomes_dnj.lct_interval.bokeh_match_count_plot import snp_match_count_plot_cls as smcp\n",
    "output_notebook(hide_banner=True)\n",
    "sa_11_765 = snp_anal.series_anal_cls(dm.di_11_765, sm.series_data)"
   ]
  },
  {
   "cell_type": "markdown",
   "metadata": {},
   "source": [
    "<h3>Series 11_765</h3>\n",
    "<div style=\"width:700px\">\n",
    "<p>\n",
    "This notebook documents the series 11_765 and its 11 SNPs.  The 1000 genomes data includes\n",
    "4139 samples that express none of its 11 SNPs and 737 samples that express all 11 of them.\n",
    "Another 28 samples express 10 of them.  The series covers more than 870,000 DNA bases and\n",
    "is the second longest one observed in the studied region.\n",
    "<p>\n",
    "The 765 11_765 samples include 760 that express the series 6_1503, 4_1699, 26_1414, 10_2206,\n",
    "64_1575, 7_1868, 4_911, 11_765, and no others.  These series include the root of the EUR tree\n",
    "plus the series 4_911 and 11_765.  The associations for the other 5 samples are shown in this\n",
    "notebook's plots.\n",
    "<p>\n",
    "The series 11_765 includes the SNP rs4988235 that is generally associated with lactase persistence.\n",
    "The samples expressing 11_765 are heavily overexpressed for European populations.\n",
    "</div>"
   ]
  },
  {
   "cell_type": "code",
   "execution_count": 2,
   "metadata": {
    "collapsed": false
   },
   "outputs": [
    {
     "data": {
      "text/html": [
       "<p>\n",
       "<b>11_765 series</b>\n",
       "</p><p>\n",
       "<table>\n",
       "<thead><tr><th style=\"text-align:center\">index</th><th style=\"text-align:center\">first</th><th style=\"text-align:center\">length</th><th style=\"text-align:center\">snps</th><th style=\"text-align:center\">alleles</th><th style=\"text-align:center\" colspan=2>afr</th><th style=\"text-align:center\" colspan=2>afx</th><th style=\"text-align:center\" colspan=2>amr</th><th style=\"text-align:center\" colspan=2>eas</th><th style=\"text-align:center\" colspan=2>eur</th><th style=\"text-align:center\" colspan=2>sas</th><th style=\"text-align:center\" colspan=2>sax</th></tr></thead>\n",
       "<tr class=\"even\"><td style=\"text-align: right;\">353380</td><td style=\"text-align: right;\">135,837,906</td><td style=\"text-align: right;\">870,076</td><td style=\"text-align: right;\">11</td><td style=\"text-align: right;\">765</td><td style=\"text-align: right;\">2</td><td style=\"text-align: right;\">0.01</td><td style=\"text-align: right;\">32</td><td style=\"text-align: right;\">0.67</td><td style=\"text-align: right;\">146</td><td style=\"text-align: right;\">1.38</td><td style=\"text-align: right;\">0</td><td style=\"text-align: right;\">0.00</td><td style=\"text-align: right;\">484</td><td style=\"text-align: right;\">3.15</td><td style=\"text-align: right;\">56</td><td style=\"text-align: right;\">1.01</td><td style=\"text-align: right;\">45</td><td style=\"text-align: right;\">0.48</td></tr>\n",
       "</table>\n",
       "</p>\n",
       "<p>\n",
       "<b>11_765 series snps</b>\n",
       "</p><p>\n",
       "<table>\n",
       "<thead><tr><th style=\"text-align:center\">index</th><th style=\"text-align:center\">pos</th><th style=\"text-align:center\">id</th><th style=\"text-align:center\">niv</th><th style=\"text-align:center\">alleles</th><th style=\"text-align:center\" colspan=2>afr</th><th style=\"text-align:center\" colspan=2>afx</th><th style=\"text-align:center\" colspan=2>amr</th><th style=\"text-align:center\" colspan=2>eas</th><th style=\"text-align:center\" colspan=2>eur</th><th style=\"text-align:center\" colspan=2>sas</th><th style=\"text-align:center\" colspan=2>sax</th></tr></thead>\n",
       "<tr class=\"even\"><td style=\"text-align: right;\">875450</td><td style=\"text-align: right;\">135,837,906</td><td>rs7570971</td><td>1</td><td style=\"text-align: right;\">785</td><td style=\"text-align: right;\">2</td><td style=\"text-align: right;\">0.01</td><td style=\"text-align: right;\">32</td><td style=\"text-align: right;\">0.65</td><td style=\"text-align: right;\">149</td><td style=\"text-align: right;\">1.37</td><td style=\"text-align: right;\">0</td><td style=\"text-align: right;\">0.00</td><td style=\"text-align: right;\">493</td><td style=\"text-align: right;\">3.13</td><td style=\"text-align: right;\">60</td><td style=\"text-align: right;\">1.05</td><td style=\"text-align: right;\">49</td><td style=\"text-align: right;\">0.51</td></tr>\n",
       "<tr><td style=\"text-align: right;\">875770</td><td style=\"text-align: right;\">135,907,088</td><td>rs6730157</td><td>1</td><td style=\"text-align: right;\">791</td><td style=\"text-align: right;\">2</td><td style=\"text-align: right;\">0.01</td><td style=\"text-align: right;\">32</td><td style=\"text-align: right;\">0.65</td><td style=\"text-align: right;\">151</td><td style=\"text-align: right;\">1.38</td><td style=\"text-align: right;\">0</td><td style=\"text-align: right;\">0.00</td><td style=\"text-align: right;\">493</td><td style=\"text-align: right;\">3.10</td><td style=\"text-align: right;\">61</td><td style=\"text-align: right;\">1.06</td><td style=\"text-align: right;\">52</td><td style=\"text-align: right;\">0.54</td></tr>\n",
       "<tr class=\"even\"><td style=\"text-align: right;\">875981</td><td style=\"text-align: right;\">135,954,797</td><td>rs1375131</td><td>1</td><td style=\"text-align: right;\">789</td><td style=\"text-align: right;\">2</td><td style=\"text-align: right;\">0.01</td><td style=\"text-align: right;\">32</td><td style=\"text-align: right;\">0.65</td><td style=\"text-align: right;\">149</td><td style=\"text-align: right;\">1.36</td><td style=\"text-align: right;\">0</td><td style=\"text-align: right;\">0.00</td><td style=\"text-align: right;\">492</td><td style=\"text-align: right;\">3.10</td><td style=\"text-align: right;\">61</td><td style=\"text-align: right;\">1.06</td><td style=\"text-align: right;\">53</td><td style=\"text-align: right;\">0.55</td></tr>\n",
       "<tr><td style=\"text-align: right;\">876953</td><td style=\"text-align: right;\">136,138,627</td><td>rs3940549</td><td>1</td><td style=\"text-align: right;\">785</td><td style=\"text-align: right;\">2</td><td style=\"text-align: right;\">0.01</td><td style=\"text-align: right;\">32</td><td style=\"text-align: right;\">0.65</td><td style=\"text-align: right;\">150</td><td style=\"text-align: right;\">1.38</td><td style=\"text-align: right;\">0</td><td style=\"text-align: right;\">0.00</td><td style=\"text-align: right;\">492</td><td style=\"text-align: right;\">3.12</td><td style=\"text-align: right;\">61</td><td style=\"text-align: right;\">1.07</td><td style=\"text-align: right;\">48</td><td style=\"text-align: right;\">0.50</td></tr>\n",
       "<tr class=\"even\"><td style=\"text-align: right;\">877231</td><td style=\"text-align: right;\">136,176,540</td><td>rs13384711</td><td>1</td><td style=\"text-align: right;\">795</td><td style=\"text-align: right;\">3</td><td style=\"text-align: right;\">0.02</td><td style=\"text-align: right;\">32</td><td style=\"text-align: right;\">0.64</td><td style=\"text-align: right;\">151</td><td style=\"text-align: right;\">1.37</td><td style=\"text-align: right;\">0</td><td style=\"text-align: right;\">0.00</td><td style=\"text-align: right;\">493</td><td style=\"text-align: right;\">3.09</td><td style=\"text-align: right;\">63</td><td style=\"text-align: right;\">1.09</td><td style=\"text-align: right;\">53</td><td style=\"text-align: right;\">0.54</td></tr>\n",
       "<tr><td style=\"text-align: right;\">877937</td><td style=\"text-align: right;\">136,328,890</td><td>rs56369224</td><td>1</td><td style=\"text-align: right;\">793</td><td style=\"text-align: right;\">2</td><td style=\"text-align: right;\">0.01</td><td style=\"text-align: right;\">32</td><td style=\"text-align: right;\">0.64</td><td style=\"text-align: right;\">151</td><td style=\"text-align: right;\">1.37</td><td style=\"text-align: right;\">2</td><td style=\"text-align: right;\">0.01</td><td style=\"text-align: right;\">492</td><td style=\"text-align: right;\">3.09</td><td style=\"text-align: right;\">62</td><td style=\"text-align: right;\">1.08</td><td style=\"text-align: right;\">52</td><td style=\"text-align: right;\">0.53</td></tr>\n",
       "<tr class=\"even\"><td style=\"text-align: right;\">878126</td><td style=\"text-align: right;\">136,381,348</td><td>rs12465802</td><td>1</td><td style=\"text-align: right;\">795</td><td style=\"text-align: right;\">2</td><td style=\"text-align: right;\">0.01</td><td style=\"text-align: right;\">32</td><td style=\"text-align: right;\">0.64</td><td style=\"text-align: right;\">151</td><td style=\"text-align: right;\">1.37</td><td style=\"text-align: right;\">0</td><td style=\"text-align: right;\">0.00</td><td style=\"text-align: right;\">496</td><td style=\"text-align: right;\">3.11</td><td style=\"text-align: right;\">62</td><td style=\"text-align: right;\">1.07</td><td style=\"text-align: right;\">52</td><td style=\"text-align: right;\">0.53</td></tr>\n",
       "<tr><td style=\"text-align: right;\">878351</td><td style=\"text-align: right;\">136,429,366</td><td>rs62168795</td><td>1</td><td style=\"text-align: right;\">807</td><td style=\"text-align: right;\">2</td><td style=\"text-align: right;\">0.01</td><td style=\"text-align: right;\">34</td><td style=\"text-align: right;\">0.67</td><td style=\"text-align: right;\">154</td><td style=\"text-align: right;\">1.38</td><td style=\"text-align: right;\">0</td><td style=\"text-align: right;\">0.00</td><td style=\"text-align: right;\">506</td><td style=\"text-align: right;\">3.12</td><td style=\"text-align: right;\">60</td><td style=\"text-align: right;\">1.02</td><td style=\"text-align: right;\">51</td><td style=\"text-align: right;\">0.52</td></tr>\n",
       "<tr class=\"even\"><td style=\"text-align: right;\">879308</td><td style=\"text-align: right;\">136,608,646</td><td>rs4988235</td><td>0</td><td style=\"text-align: right;\">808</td><td style=\"text-align: right;\">2</td><td style=\"text-align: right;\">0.01</td><td style=\"text-align: right;\">34</td><td style=\"text-align: right;\">0.67</td><td style=\"text-align: right;\">150</td><td style=\"text-align: right;\">1.34</td><td style=\"text-align: right;\">0</td><td style=\"text-align: right;\">0.00</td><td style=\"text-align: right;\">511</td><td style=\"text-align: right;\">3.15</td><td style=\"text-align: right;\">60</td><td style=\"text-align: right;\">1.02</td><td style=\"text-align: right;\">51</td><td style=\"text-align: right;\">0.51</td></tr>\n",
       "<tr><td style=\"text-align: right;\">879345</td><td style=\"text-align: right;\">136,616,754</td><td>rs182549</td><td>0</td><td style=\"text-align: right;\">818</td><td style=\"text-align: right;\">2</td><td style=\"text-align: right;\">0.01</td><td style=\"text-align: right;\">34</td><td style=\"text-align: right;\">0.66</td><td style=\"text-align: right;\">153</td><td style=\"text-align: right;\">1.35</td><td style=\"text-align: right;\">0</td><td style=\"text-align: right;\">0.00</td><td style=\"text-align: right;\">512</td><td style=\"text-align: right;\">3.12</td><td style=\"text-align: right;\">63</td><td style=\"text-align: right;\">1.06</td><td style=\"text-align: right;\">54</td><td style=\"text-align: right;\">0.54</td></tr>\n",
       "<tr class=\"even\"><td style=\"text-align: right;\">879828</td><td style=\"text-align: right;\">136,707,982</td><td>rs6754311</td><td>1</td><td style=\"text-align: right;\">821</td><td style=\"text-align: right;\">0</td><td style=\"text-align: right;\">0.00</td><td style=\"text-align: right;\">34</td><td style=\"text-align: right;\">0.66</td><td style=\"text-align: right;\">154</td><td style=\"text-align: right;\">1.35</td><td style=\"text-align: right;\">0</td><td style=\"text-align: right;\">0.00</td><td style=\"text-align: right;\">514</td><td style=\"text-align: right;\">3.12</td><td style=\"text-align: right;\">62</td><td style=\"text-align: right;\">1.04</td><td style=\"text-align: right;\">57</td><td style=\"text-align: right;\">0.57</td></tr>\n",
       "</table>"
      ],
      "text/plain": [
       "<IPython.core.display.HTML object>"
      ]
     },
     "execution_count": 2,
     "metadata": {},
     "output_type": "execute_result"
    }
   ],
   "source": [
    "HTML(dm.series_html(dm.di_11_765))"
   ]
  },
  {
   "cell_type": "code",
   "execution_count": 3,
   "metadata": {
    "collapsed": false
   },
   "outputs": [
    {
     "data": {
      "text/html": [
       "<table>\n",
       "<thead><tr><th style=\"text-align:center\">index</th><th style=\"text-align:center\">first</th><th style=\"text-align:center\">length</th><th style=\"text-align:center\">snps</th><th style=\"text-align:center\" colspan=2>alleles</th><th style=\"text-align:center\" colspan=2>matches</th><th style=\"text-align:center\" colspan=2>afr</th><th style=\"text-align:center\" colspan=2>afx</th><th style=\"text-align:center\" colspan=2>amr</th><th style=\"text-align:center\" colspan=2>eas</th><th style=\"text-align:center\" colspan=2>eur</th><th style=\"text-align:center\" colspan=2>sas</th><th style=\"text-align:center\" colspan=2>sax</th></tr></thead>\n",
       "<tr class=\"even\"><td style=\"text-align: right;\">353921</td><td style=\"text-align: right;\">136,501,840</td><td style=\"text-align: right;\">53,819</td><td style=\"text-align: right;\">10</td><td style=\"text-align: right;\">2206</td><td style=\"text-align: right;\">0.35</td><td style=\"text-align: right;\">765</td><td style=\"text-align: right;\">1.00</td><td style=\"text-align: right;\">2</td><td style=\"text-align: right;\">0.01</td><td style=\"text-align: right;\">32</td><td style=\"text-align: right;\">0.67</td><td style=\"text-align: right;\">146</td><td style=\"text-align: right;\">1.38</td><td style=\"text-align: right;\">0</td><td style=\"text-align: right;\">0.00</td><td style=\"text-align: right;\">484</td><td style=\"text-align: right;\">3.15</td><td style=\"text-align: right;\">56</td><td style=\"text-align: right;\">1.01</td><td style=\"text-align: right;\">45</td><td style=\"text-align: right;\">0.48</td></tr>\n",
       "<tr><td style=\"text-align: right;\">354170</td><td style=\"text-align: right;\">136,682,274</td><td style=\"text-align: right;\">93,624</td><td style=\"text-align: right;\">7</td><td style=\"text-align: right;\">1868</td><td style=\"text-align: right;\">0.41</td><td style=\"text-align: right;\">764</td><td style=\"text-align: right;\">1.00</td><td style=\"text-align: right;\">2</td><td style=\"text-align: right;\">0.01</td><td style=\"text-align: right;\">32</td><td style=\"text-align: right;\">0.67</td><td style=\"text-align: right;\">146</td><td style=\"text-align: right;\">1.38</td><td style=\"text-align: right;\">0</td><td style=\"text-align: right;\">0.00</td><td style=\"text-align: right;\">484</td><td style=\"text-align: right;\">3.15</td><td style=\"text-align: right;\">56</td><td style=\"text-align: right;\">1.01</td><td style=\"text-align: right;\">44</td><td style=\"text-align: right;\">0.47</td></tr>\n",
       "<tr class=\"even\"><td style=\"text-align: right;\">353462</td><td style=\"text-align: right;\">135,915,358</td><td style=\"text-align: right;\">79,721</td><td style=\"text-align: right;\">4</td><td style=\"text-align: right;\">1699</td><td style=\"text-align: right;\">0.45</td><td style=\"text-align: right;\">765</td><td style=\"text-align: right;\">1.00</td><td style=\"text-align: right;\">2</td><td style=\"text-align: right;\">0.01</td><td style=\"text-align: right;\">32</td><td style=\"text-align: right;\">0.67</td><td style=\"text-align: right;\">146</td><td style=\"text-align: right;\">1.38</td><td style=\"text-align: right;\">0</td><td style=\"text-align: right;\">0.00</td><td style=\"text-align: right;\">484</td><td style=\"text-align: right;\">3.15</td><td style=\"text-align: right;\">56</td><td style=\"text-align: right;\">1.01</td><td style=\"text-align: right;\">45</td><td style=\"text-align: right;\">0.48</td></tr>\n",
       "<tr><td style=\"text-align: right;\">353240</td><td style=\"text-align: right;\">135,757,320</td><td style=\"text-align: right;\">20,184</td><td style=\"text-align: right;\">13</td><td style=\"text-align: right;\">1696</td><td style=\"text-align: right;\">0.00</td><td style=\"text-align: right;\">1</td><td style=\"text-align: right;\">0.00</td><td style=\"text-align: right;\">0</td><td style=\"text-align: right;\">0.00</td><td style=\"text-align: right;\">0</td><td style=\"text-align: right;\">0.00</td><td style=\"text-align: right;\">1</td><td style=\"text-align: right;\">7.22</td><td style=\"text-align: right;\">0</td><td style=\"text-align: right;\">0.00</td><td style=\"text-align: right;\">0</td><td style=\"text-align: right;\">0.00</td><td style=\"text-align: right;\">0</td><td style=\"text-align: right;\">0.00</td><td style=\"text-align: right;\">0</td><td style=\"text-align: right;\">0.00</td></tr>\n",
       "<tr class=\"even\"><td style=\"text-align: right;\">353901</td><td style=\"text-align: right;\">136,494,186</td><td style=\"text-align: right;\">271,765</td><td style=\"text-align: right;\">64</td><td style=\"text-align: right;\">1575</td><td style=\"text-align: right;\">0.49</td><td style=\"text-align: right;\">765</td><td style=\"text-align: right;\">1.00</td><td style=\"text-align: right;\">2</td><td style=\"text-align: right;\">0.01</td><td style=\"text-align: right;\">32</td><td style=\"text-align: right;\">0.67</td><td style=\"text-align: right;\">146</td><td style=\"text-align: right;\">1.38</td><td style=\"text-align: right;\">0</td><td style=\"text-align: right;\">0.00</td><td style=\"text-align: right;\">484</td><td style=\"text-align: right;\">3.15</td><td style=\"text-align: right;\">56</td><td style=\"text-align: right;\">1.01</td><td style=\"text-align: right;\">45</td><td style=\"text-align: right;\">0.48</td></tr>\n",
       "<tr><td style=\"text-align: right;\">353283</td><td style=\"text-align: right;\">135,771,974</td><td style=\"text-align: right;\">368,330</td><td style=\"text-align: right;\">6</td><td style=\"text-align: right;\">1503</td><td style=\"text-align: right;\">0.51</td><td style=\"text-align: right;\">765</td><td style=\"text-align: right;\">1.00</td><td style=\"text-align: right;\">2</td><td style=\"text-align: right;\">0.01</td><td style=\"text-align: right;\">32</td><td style=\"text-align: right;\">0.67</td><td style=\"text-align: right;\">146</td><td style=\"text-align: right;\">1.38</td><td style=\"text-align: right;\">0</td><td style=\"text-align: right;\">0.00</td><td style=\"text-align: right;\">484</td><td style=\"text-align: right;\">3.15</td><td style=\"text-align: right;\">56</td><td style=\"text-align: right;\">1.01</td><td style=\"text-align: right;\">45</td><td style=\"text-align: right;\">0.48</td></tr>\n",
       "<tr class=\"even\"><td style=\"text-align: right;\">353797</td><td style=\"text-align: right;\">136,398,174</td><td style=\"text-align: right;\">75,924</td><td style=\"text-align: right;\">26</td><td style=\"text-align: right;\">1414</td><td style=\"text-align: right;\">0.54</td><td style=\"text-align: right;\">765</td><td style=\"text-align: right;\">1.00</td><td style=\"text-align: right;\">2</td><td style=\"text-align: right;\">0.01</td><td style=\"text-align: right;\">32</td><td style=\"text-align: right;\">0.67</td><td style=\"text-align: right;\">146</td><td style=\"text-align: right;\">1.38</td><td style=\"text-align: right;\">0</td><td style=\"text-align: right;\">0.00</td><td style=\"text-align: right;\">484</td><td style=\"text-align: right;\">3.15</td><td style=\"text-align: right;\">56</td><td style=\"text-align: right;\">1.01</td><td style=\"text-align: right;\">45</td><td style=\"text-align: right;\">0.48</td></tr>\n",
       "<tr><td style=\"text-align: right;\">353604</td><td style=\"text-align: right;\">136,092,061</td><td style=\"text-align: right;\">315,418</td><td style=\"text-align: right;\">4</td><td style=\"text-align: right;\">911</td><td style=\"text-align: right;\">0.84</td><td style=\"text-align: right;\">762</td><td style=\"text-align: right;\">1.00</td><td style=\"text-align: right;\">2</td><td style=\"text-align: right;\">0.01</td><td style=\"text-align: right;\">31</td><td style=\"text-align: right;\">0.65</td><td style=\"text-align: right;\">146</td><td style=\"text-align: right;\">1.38</td><td style=\"text-align: right;\">0</td><td style=\"text-align: right;\">0.00</td><td style=\"text-align: right;\">484</td><td style=\"text-align: right;\">3.16</td><td style=\"text-align: right;\">54</td><td style=\"text-align: right;\">0.97</td><td style=\"text-align: right;\">45</td><td style=\"text-align: right;\">0.48</td></tr>\n",
       "<tr class=\"even\"><td style=\"text-align: right;\">353380</td><td style=\"text-align: right;\">135,837,906</td><td style=\"text-align: right;\">870,076</td><td style=\"text-align: right;\">11</td><td style=\"text-align: right;\">765</td><td style=\"text-align: right;\">1.00</td><td style=\"text-align: right;\">765</td><td style=\"text-align: right;\">1.00</td><td style=\"text-align: right;\">2</td><td style=\"text-align: right;\">0.01</td><td style=\"text-align: right;\">32</td><td style=\"text-align: right;\">0.67</td><td style=\"text-align: right;\">146</td><td style=\"text-align: right;\">1.38</td><td style=\"text-align: right;\">0</td><td style=\"text-align: right;\">0.00</td><td style=\"text-align: right;\">484</td><td style=\"text-align: right;\">3.15</td><td style=\"text-align: right;\">56</td><td style=\"text-align: right;\">1.01</td><td style=\"text-align: right;\">45</td><td style=\"text-align: right;\">0.48</td></tr>\n",
       "</table>"
      ],
      "text/plain": [
       "<IPython.core.display.HTML object>"
      ]
     },
     "execution_count": 3,
     "metadata": {},
     "output_type": "execute_result"
    }
   ],
   "source": [
    "plt_obj = dm.superset_yes_no([dm.di_11_765], min_match=0.001)\n",
    "plt_obj.do_plot()\n",
    "HTML(plt_obj.get_html())"
   ]
  },
  {
   "cell_type": "code",
   "execution_count": 4,
   "metadata": {
    "collapsed": false
   },
   "outputs": [
    {
     "data": {
      "text/plain": [
       "array([(0, 4139), (1, 35), (2, 7), (3, 13), (4, 16), (5, 7), (6, 1),\n",
       "       (7, 3), (8, 12), (9, 10), (10, 28), (11, 737)], \n",
       "      dtype=[('count', '<u2'), ('snps', '<u2')])"
      ]
     },
     "execution_count": 4,
     "metadata": {},
     "output_type": "execute_result"
    }
   ],
   "source": [
    "count_data = sa_11_765.unique_snps_per_allele()\n",
    "count_data"
   ]
  },
  {
   "cell_type": "code",
   "execution_count": 5,
   "metadata": {
    "collapsed": false
   },
   "outputs": [
    {
     "data": {
      "text/html": [
       "\n",
       "\n",
       "    <div class=\"bk-root\">\n",
       "        <div class=\"plotdiv\" id=\"38b5373b-7121-4108-8645-5fca53c01b36\"></div>\n",
       "    </div>\n",
       "<script type=\"text/javascript\">\n",
       "  \n",
       "  (function(global) {\n",
       "    function now() {\n",
       "      return new Date();\n",
       "    }\n",
       "  \n",
       "    if (typeof (window._bokeh_onload_callbacks) === \"undefined\") {\n",
       "      window._bokeh_onload_callbacks = [];\n",
       "    }\n",
       "  \n",
       "    function run_callbacks() {\n",
       "      window._bokeh_onload_callbacks.forEach(function(callback) { callback() });\n",
       "      delete window._bokeh_onload_callbacks\n",
       "      console.info(\"Bokeh: all callbacks have finished\");\n",
       "    }\n",
       "  \n",
       "    function load_libs(js_urls, callback) {\n",
       "      window._bokeh_onload_callbacks.push(callback);\n",
       "      if (window._bokeh_is_loading > 0) {\n",
       "        console.log(\"Bokeh: BokehJS is being loaded, scheduling callback at\", now());\n",
       "        return null;\n",
       "      }\n",
       "      if (js_urls == null || js_urls.length === 0) {\n",
       "        run_callbacks();\n",
       "        return null;\n",
       "      }\n",
       "      console.log(\"Bokeh: BokehJS not loaded, scheduling load and callback at\", now());\n",
       "      window._bokeh_is_loading = js_urls.length;\n",
       "      for (var i = 0; i < js_urls.length; i++) {\n",
       "        var url = js_urls[i];\n",
       "        var s = document.createElement('script');\n",
       "        s.src = url;\n",
       "        s.async = false;\n",
       "        s.onreadystatechange = s.onload = function() {\n",
       "          window._bokeh_is_loading--;\n",
       "          if (window._bokeh_is_loading === 0) {\n",
       "            console.log(\"Bokeh: all BokehJS libraries loaded\");\n",
       "            run_callbacks()\n",
       "          }\n",
       "        };\n",
       "        s.onerror = function() {\n",
       "          console.warn(\"failed to load library \" + url);\n",
       "        };\n",
       "        console.log(\"Bokeh: injecting script tag for BokehJS library: \", url);\n",
       "        document.getElementsByTagName(\"head\")[0].appendChild(s);\n",
       "      }\n",
       "    };var element = document.getElementById(\"38b5373b-7121-4108-8645-5fca53c01b36\");\n",
       "    if (element == null) {\n",
       "      console.log(\"Bokeh: ERROR: autoload.js configured with elementid '38b5373b-7121-4108-8645-5fca53c01b36' but no matching script tag was found. \")\n",
       "      return false;\n",
       "    }\n",
       "  \n",
       "    var js_urls = [];\n",
       "  \n",
       "    var inline_js = [\n",
       "      function(Bokeh) {\n",
       "        Bokeh.$(function() {\n",
       "            var docs_json = {\"54aa635d-bf3e-4f1b-984b-dd105034b37a\":{\"roots\":{\"references\":[{\"attributes\":{\"data_source\":{\"id\":\"749bc4fa-815f-4f63-8f61-d82b969931c3\",\"type\":\"ColumnDataSource\"},\"glyph\":{\"id\":\"5834a71f-e1cf-4377-93de-efa838db7a63\",\"type\":\"MultiLine\"},\"hover_glyph\":null,\"nonselection_glyph\":{\"id\":\"13d8bc3c-9b93-481b-a589-a0fd5b4c1512\",\"type\":\"MultiLine\"},\"selection_glyph\":null},\"id\":\"c1a5827f-d063-486f-ae1e-3d94d994996c\",\"type\":\"GlyphRenderer\"},{\"attributes\":{\"callback\":null,\"column_names\":[\"y\",\"x\",\"vals\"],\"data\":{\"vals\":[\"RAB3GAP1\",\"ZRANB3\",\"R3HDM1\",\"UBXN4\",\"LCT\",\"MCM6\",\"DARS\"],\"x\":[135869057.0,136122878.0,136385961.0,136520911.0,136570082.5,136615621.5,136703738.0],\"y\":[560.0,560.0,560.0,560.0,560.0,560.0,560.0]}},\"id\":\"c923cb33-6e26-46a9-ae6e-85746ff12666\",\"type\":\"ColumnDataSource\"},{\"attributes\":{},\"id\":\"0143329d-f982-4473-a804-41b51b3970f1\",\"type\":\"BasicTicker\"},{\"attributes\":{\"overlay\":{\"id\":\"495e4390-08b8-42cb-b882-3202f0fce680\",\"type\":\"BoxAnnotation\"},\"plot\":{\"id\":\"feb8ffd5-fe48-463e-861d-928a9ac29ce8\",\"subtype\":\"Figure\",\"type\":\"Plot\"}},\"id\":\"6bc3aebb-f281-432b-b52b-88ff03a41e23\",\"type\":\"BoxZoomTool\"},{\"attributes\":{\"line_color\":{\"field\":\"line_color\"},\"xs\":{\"field\":\"xs\"},\"ys\":{\"field\":\"ys\"}},\"id\":\"5834a71f-e1cf-4377-93de-efa838db7a63\",\"type\":\"MultiLine\"},{\"attributes\":{\"level\":\"glyph\",\"plot\":{\"id\":\"feb8ffd5-fe48-463e-861d-928a9ac29ce8\",\"subtype\":\"Figure\",\"type\":\"Plot\"},\"source\":{\"id\":\"e3aac4ae-fb5b-4c16-b6f9-68ac60b6ace9\",\"type\":\"ColumnDataSource\"},\"text\":{\"field\":\"vals\"},\"text_font_size\":{\"value\":\"9pt\"},\"text_font_style\":\"bold\",\"x\":{\"field\":\"x\"},\"y\":{\"field\":\"y\"}},\"id\":\"4318e9dd-8ad9-4d3d-a168-f211f72fa5a4\",\"type\":\"LabelSet\"},{\"attributes\":{\"plot\":{\"id\":\"feb8ffd5-fe48-463e-861d-928a9ac29ce8\",\"subtype\":\"Figure\",\"type\":\"Plot\"},\"ticker\":{\"id\":\"4b3dd8be-dbcb-4bd4-9058-16431edd5d7b\",\"type\":\"BasicTicker\"}},\"id\":\"964077c0-e0c9-413b-898f-39d8050e95b9\",\"type\":\"Grid\"},{\"attributes\":{},\"id\":\"4b3dd8be-dbcb-4bd4-9058-16431edd5d7b\",\"type\":\"BasicTicker\"},{\"attributes\":{\"bottom\":{\"field\":\"bottom\"},\"fill_color\":{\"field\":\"fill_color\"},\"left\":{\"field\":\"left\"},\"line_color\":{\"value\":null},\"right\":{\"field\":\"right\"},\"top\":{\"field\":\"top\"}},\"id\":\"c77d9ba4-f1d1-49b1-9a5f-055ced524d77\",\"type\":\"Quad\"},{\"attributes\":{\"plot\":{\"id\":\"feb8ffd5-fe48-463e-861d-928a9ac29ce8\",\"subtype\":\"Figure\",\"type\":\"Plot\"}},\"id\":\"44745be3-83d1-4667-b265-9f6b2d10434e\",\"type\":\"WheelZoomTool\"},{\"attributes\":{\"bottom\":{\"field\":\"bottom\"},\"fill_color\":{\"value\":\"white\"},\"left\":{\"field\":\"left\"},\"right\":{\"field\":\"right\"},\"top\":{\"field\":\"top\"}},\"id\":\"98e92b3f-cebe-46f4-bff5-f2528989a245\",\"type\":\"Quad\"},{\"attributes\":{\"plot\":{\"id\":\"feb8ffd5-fe48-463e-861d-928a9ac29ce8\",\"subtype\":\"Figure\",\"type\":\"Plot\"}},\"id\":\"165e74e0-98b0-43d9-b581-8381bad8378a\",\"type\":\"ResetTool\"},{\"attributes\":{},\"id\":\"203d33d6-62fc-490c-bbb8-2c2bde17be6c\",\"type\":\"BasicTickFormatter\"},{\"attributes\":{\"callback\":null,\"column_names\":[\"xs\",\"ys\",\"line_color\"],\"data\":{\"line_color\":[\"black\",\"black\",\"black\",\"black\",\"black\",\"black\",\"black\",\"black\",\"black\",\"black\",\"black\",\"black\",\"black\",\"black\",\"black\",\"black\",\"black\",\"black\",\"black\",\"black\",\"black\",\"black\",\"black\",\"black\",\"black\",\"black\",\"black\",\"black\",\"black\",\"black\",\"black\",\"black\",\"black\",\"black\",\"black\",\"black\",\"black\",\"black\",\"black\",\"black\",\"black\",\"black\",\"black\",\"black\",\"black\",\"black\",\"black\",\"black\",\"black\",\"black\",\"black\",\"black\",\"black\",\"black\",\"black\",\"black\",\"black\",\"black\",\"black\",\"black\",\"black\",\"black\",\"black\",\"black\",\"black\",\"black\",\"black\",\"black\",\"black\",\"black\",\"black\",\"black\",\"black\",\"black\",\"black\",\"black\",\"black\",\"black\",\"black\",\"black\",\"black\",\"black\",\"black\",\"black\",\"black\",\"black\",\"black\",\"black\",\"black\",\"black\",\"black\",\"black\",\"black\",\"black\",\"black\",\"black\",\"black\",\"black\",\"black\",\"black\",\"black\",\"black\",\"black\",\"black\",\"black\",\"black\",\"black\",\"black\",\"black\",\"black\",\"black\",\"black\",\"black\",\"black\",\"black\",\"black\",\"black\",\"black\",\"black\",\"black\",\"black\",\"black\",\"black\",\"black\",\"black\",\"black\",\"black\",\"black\",\"black\",\"black\",\"black\",\"black\"],\"xs\":[[135771974,135771974],[135859371,135859371],[135877562,135877562],[136022798,136022798],[136058820,136058820],[136140304,136140304],[135837906,135837906],[135907088,135907088],[135954797,135954797],[136138627,136138627],[136176540,136176540],[136328890,136328890],[136381348,136381348],[136429366,136429366],[136608646,136608646],[136616754,136616754],[136707982,136707982],[135915358,135915358],[135954405,135954405],[135995073,135995073],[135995079,135995079],[136092061,136092061],[136273578,136273578],[136322676,136322676],[136407479,136407479],[136398174,136398174],[136402117,136402117],[136403749,136403749],[136409073,136409073],[136410299,136410299],[136413359,136413359],[136416855,136416855],[136416941,136416941],[136418348,136418348],[136419961,136419961],[136420690,136420690],[136422171,136422171],[136428460,136428460],[136430866,136430866],[136432103,136432103],[136437507,136437507],[136439090,136439090],[136439517,136439517],[136444123,136444123],[136445526,136445526],[136445869,136445869],[136455600,136455600],[136456642,136456642],[136462441,136462441],[136470714,136470714],[136474098,136474098],[136494186,136494186],[136495300,136495300],[136495619,136495619],[136499166,136499166],[136502792,136502792],[136503157,136503157],[136507039,136507039],[136511575,136511575],[136518103,136518103],[136521514,136521514],[136522675,136522675],[136522941,136522941],[136526981,136526981],[136535410,136535410],[136539122,136539122],[136544197,136544197],[136550109,136550109],[136551694,136551694],[136553188,136553188],[136553639,136553639],[136554800,136554800],[136557319,136557319],[136558157,136558157],[136569848,136569848],[136575199,136575199],[136576577,136576577],[136578536,136578536],[136580287,136580287],[136583192,136583192],[136586958,136586958],[136588478,136588478],[136589612,136589612],[136591178,136591178],[136591859,136591859],[136593760,136593760],[136594158,136594158],[136603276,136603276],[136603366,136603366],[136608231,136608231],[136609975,136609975],[136610598,136610598],[136611624,136611624],[136613780,136613780],[136614255,136614255],[136614813,136614813],[136617524,136617524],[136622216,136622216],[136625602,136625602],[136629911,136629911],[136630757,136630757],[136630989,136630989],[136631031,136631031],[136633771,136633771],[136636324,136636324],[136638216,136638216],[136640233,136640233],[136641882,136641882],[136643555,136643555],[136658345,136658345],[136670298,136670298],[136685228,136685228],[136696138,136696138],[136740900,136740900],[136765951,136765951],[136501840,136501840],[136505546,136505546],[136516748,136516748],[136522710,136522710],[136528004,136528004],[136539513,136539513],[136544752,136544752],[136546110,136546110],[136553529,136553529],[136555659,136555659],[136682274,136682274],[136691825,136691825],[136698098,136698098],[136721603,136721603],[136721995,136721995],[136755684,136755684],[136775898,136775898]],\"ys\":[[250,295],[250,295],[250,295],[250,295],[250,295],[250,295],[50,89],[50,89],[50,89],[50,89],[50,89],[50,89],[50,89],[50,89],[50,89],[50,89],[50,89],[350,396],[350,396],[350,396],[350,396],[150,190],[150,190],[150,190],[150,190],[250,294],[250,294],[250,294],[250,294],[250,294],[250,294],[250,294],[250,294],[250,294],[250,294],[250,294],[250,294],[250,294],[250,294],[250,294],[250,294],[250,294],[250,294],[250,294],[250,294],[250,294],[250,294],[250,294],[250,294],[250,294],[250,294],[350,395],[350,395],[350,395],[350,395],[350,395],[350,395],[350,395],[350,395],[350,395],[350,395],[350,395],[350,395],[350,395],[350,395],[350,395],[350,395],[350,395],[350,395],[350,395],[350,395],[350,395],[350,395],[350,395],[350,395],[350,395],[350,395],[350,395],[350,395],[350,395],[350,395],[350,395],[350,395],[350,395],[350,395],[350,395],[350,395],[350,395],[350,395],[350,395],[350,395],[350,395],[350,395],[350,395],[350,395],[350,395],[350,395],[350,395],[350,395],[350,395],[350,395],[350,395],[350,395],[350,395],[350,395],[350,395],[350,395],[350,395],[350,395],[350,395],[350,395],[350,395],[350,395],[350,395],[350,395],[450,498],[450,498],[450,498],[450,498],[450,498],[450,498],[450,498],[450,498],[450,498],[450,498],[450,497],[450,497],[450,497],[450,497],[450,497],[450,497],[450,497]]}},\"id\":\"749bc4fa-815f-4f63-8f61-d82b969931c3\",\"type\":\"ColumnDataSource\"},{\"attributes\":{\"callback\":null,\"column_names\":[\"y\",\"x\",\"vals\"],\"data\":{\"vals\":[\"6_1503\",\"11_765\",\"4_1699\",\"4_911\",\"26_1414\",\"64_1575\",\"10_2206\",\"7_1868\"],\"x\":[135771974,135837906,135915358,136092061,136398174,136494186,136501840,136682274],\"y\":[300.0,94.0,401.0,195.0,299.0,400.0,503.0,502.0]}},\"id\":\"e3aac4ae-fb5b-4c16-b6f9-68ac60b6ace9\",\"type\":\"ColumnDataSource\"},{\"attributes\":{\"plot\":{\"id\":\"feb8ffd5-fe48-463e-861d-928a9ac29ce8\",\"subtype\":\"Figure\",\"type\":\"Plot\"}},\"id\":\"c85e0f89-b97e-415c-9461-32335acffabc\",\"type\":\"PanTool\"},{\"attributes\":{\"callback\":null,\"column_names\":[\"right\",\"bottom\",\"top\",\"left\"],\"data\":{\"bottom\":[545,545,545,545,545,545,545],\"left\":[135809835,135957574,136289083,136499189,136545415,136597196,136664254],\"right\":[135928279,136288182,136482839,136542633,136594750,136634047,136743222],\"top\":[575,575,575,575,575,575,575]}},\"id\":\"d7a48030-9e46-4e89-9054-bfa54d2f1354\",\"type\":\"ColumnDataSource\"},{\"attributes\":{\"plot\":{\"id\":\"feb8ffd5-fe48-463e-861d-928a9ac29ce8\",\"subtype\":\"Figure\",\"type\":\"Plot\"}},\"id\":\"8af7d78a-d5b8-49a2-80b0-9e9c68e689e8\",\"type\":\"HelpTool\"},{\"attributes\":{\"plot\":{\"id\":\"feb8ffd5-fe48-463e-861d-928a9ac29ce8\",\"subtype\":\"Figure\",\"type\":\"Plot\"}},\"id\":\"0d17ed70-c59e-4ea6-9f82-9f92e0fff4ac\",\"type\":\"SaveTool\"},{\"attributes\":{\"callback\":null,\"end\":136786630,\"start\":135757320},\"id\":\"f46e9ab7-1422-41bf-b2c0-0617fb736952\",\"type\":\"Range1d\"},{\"attributes\":{\"formatter\":{\"id\":\"f86c6aa1-2a5c-4721-8577-68fae8f532ca\",\"type\":\"BasicTickFormatter\"},\"plot\":{\"id\":\"feb8ffd5-fe48-463e-861d-928a9ac29ce8\",\"subtype\":\"Figure\",\"type\":\"Plot\"},\"ticker\":{\"id\":\"0143329d-f982-4473-a804-41b51b3970f1\",\"type\":\"BasicTicker\"},\"visible\":null},\"id\":\"fe3b7682-f529-4c37-85f4-fac5e0110353\",\"type\":\"LinearAxis\"},{\"attributes\":{},\"id\":\"6ed41ca2-e8e1-4bd8-8a9d-19b9cac2a29b\",\"type\":\"ToolEvents\"},{\"attributes\":{\"plot\":null,\"text\":null},\"id\":\"7fa21982-f017-4071-8634-4a6464137d61\",\"type\":\"Title\"},{\"attributes\":{\"callback\":null,\"end\":600},\"id\":\"cac8b748-87d1-408e-9e69-a0bc17971296\",\"type\":\"Range1d\"},{\"attributes\":{\"dimension\":1,\"plot\":{\"id\":\"feb8ffd5-fe48-463e-861d-928a9ac29ce8\",\"subtype\":\"Figure\",\"type\":\"Plot\"},\"ticker\":{\"id\":\"0143329d-f982-4473-a804-41b51b3970f1\",\"type\":\"BasicTicker\"}},\"id\":\"0a6a8994-b887-41c5-a426-180ce29ed78d\",\"type\":\"Grid\"},{\"attributes\":{\"line_alpha\":{\"value\":0.1},\"line_color\":{\"value\":\"#1f77b4\"},\"xs\":{\"field\":\"xs\"},\"ys\":{\"field\":\"ys\"}},\"id\":\"13d8bc3c-9b93-481b-a589-a0fd5b4c1512\",\"type\":\"MultiLine\"},{\"attributes\":{\"bottom\":{\"field\":\"bottom\"},\"fill_alpha\":{\"value\":0.1},\"fill_color\":{\"value\":\"#1f77b4\"},\"left\":{\"field\":\"left\"},\"line_alpha\":{\"value\":0.1},\"line_color\":{\"value\":\"#1f77b4\"},\"right\":{\"field\":\"right\"},\"top\":{\"field\":\"top\"}},\"id\":\"7c94da84-c5c2-4931-9576-fe7dd237c622\",\"type\":\"Quad\"},{\"attributes\":{\"callback\":null,\"column_names\":[\"right\",\"bottom\",\"top\",\"left\",\"fill_color\"],\"data\":{\"bottom\":[250,50,350,150,250,350,450,450],\"fill_color\":[\"#61c461\",\"#00ff00\",\"#61c461\",\"#00ff00\",\"#61c461\",\"#61c461\",\"#808080\",\"#61c461\"],\"left\":[135771974,135837906,135915358,136092061,136398174,136494186,136501840,136682274],\"right\":[136140304,136707982,135995079,136407479,136474098,136765951,136555659,136775898],\"top\":[295,89,396,190,294,395,498,497]}},\"id\":\"e7972a7c-9bb9-4a67-b40b-da0d8a61145d\",\"type\":\"ColumnDataSource\"},{\"attributes\":{\"below\":[{\"id\":\"bcaf40d9-7c06-4974-8105-17ed9127c0c2\",\"type\":\"LinearAxis\"}],\"left\":[{\"id\":\"fe3b7682-f529-4c37-85f4-fac5e0110353\",\"type\":\"LinearAxis\"}],\"plot_width\":900,\"renderers\":[{\"id\":\"bcaf40d9-7c06-4974-8105-17ed9127c0c2\",\"type\":\"LinearAxis\"},{\"id\":\"964077c0-e0c9-413b-898f-39d8050e95b9\",\"type\":\"Grid\"},{\"id\":\"fe3b7682-f529-4c37-85f4-fac5e0110353\",\"type\":\"LinearAxis\"},{\"id\":\"0a6a8994-b887-41c5-a426-180ce29ed78d\",\"type\":\"Grid\"},{\"id\":\"495e4390-08b8-42cb-b882-3202f0fce680\",\"type\":\"BoxAnnotation\"},{\"id\":\"76304d66-1439-4072-9955-2a8506c0745f\",\"type\":\"GlyphRenderer\"},{\"id\":\"c1a5827f-d063-486f-ae1e-3d94d994996c\",\"type\":\"GlyphRenderer\"},{\"id\":\"4318e9dd-8ad9-4d3d-a168-f211f72fa5a4\",\"type\":\"LabelSet\"},{\"id\":\"9b667961-8170-46d6-a000-a5469c3446e0\",\"type\":\"GlyphRenderer\"},{\"id\":\"cbf3c0cb-82ce-4198-b007-bff798492f65\",\"type\":\"LabelSet\"}],\"title\":{\"id\":\"7fa21982-f017-4071-8634-4a6464137d61\",\"type\":\"Title\"},\"tool_events\":{\"id\":\"6ed41ca2-e8e1-4bd8-8a9d-19b9cac2a29b\",\"type\":\"ToolEvents\"},\"toolbar\":{\"id\":\"6b4cb13e-f1eb-4f07-a4b7-b9f3f5b0ea30\",\"type\":\"Toolbar\"},\"toolbar_location\":null,\"x_range\":{\"id\":\"f46e9ab7-1422-41bf-b2c0-0617fb736952\",\"type\":\"Range1d\"},\"y_range\":{\"id\":\"cac8b748-87d1-408e-9e69-a0bc17971296\",\"type\":\"Range1d\"}},\"id\":\"feb8ffd5-fe48-463e-861d-928a9ac29ce8\",\"subtype\":\"Figure\",\"type\":\"Plot\"},{\"attributes\":{\"level\":\"glyph\",\"plot\":{\"id\":\"feb8ffd5-fe48-463e-861d-928a9ac29ce8\",\"subtype\":\"Figure\",\"type\":\"Plot\"},\"source\":{\"id\":\"c923cb33-6e26-46a9-ae6e-85746ff12666\",\"type\":\"ColumnDataSource\"},\"text\":{\"field\":\"vals\"},\"text_align\":\"center\",\"text_baseline\":\"middle\",\"text_font_size\":{\"value\":\"8pt\"},\"x\":{\"field\":\"x\"},\"y\":{\"field\":\"y\"}},\"id\":\"cbf3c0cb-82ce-4198-b007-bff798492f65\",\"type\":\"LabelSet\"},{\"attributes\":{\"data_source\":{\"id\":\"e7972a7c-9bb9-4a67-b40b-da0d8a61145d\",\"type\":\"ColumnDataSource\"},\"glyph\":{\"id\":\"c77d9ba4-f1d1-49b1-9a5f-055ced524d77\",\"type\":\"Quad\"},\"hover_glyph\":null,\"nonselection_glyph\":{\"id\":\"7c94da84-c5c2-4931-9576-fe7dd237c622\",\"type\":\"Quad\"},\"selection_glyph\":null},\"id\":\"76304d66-1439-4072-9955-2a8506c0745f\",\"type\":\"GlyphRenderer\"},{\"attributes\":{\"bottom\":{\"field\":\"bottom\"},\"fill_alpha\":{\"value\":0.1},\"fill_color\":{\"value\":\"#1f77b4\"},\"left\":{\"field\":\"left\"},\"line_alpha\":{\"value\":0.1},\"line_color\":{\"value\":\"#1f77b4\"},\"right\":{\"field\":\"right\"},\"top\":{\"field\":\"top\"}},\"id\":\"0b299332-9380-4aca-9e0a-5e6cbd0b76b0\",\"type\":\"Quad\"},{\"attributes\":{\"formatter\":{\"id\":\"203d33d6-62fc-490c-bbb8-2c2bde17be6c\",\"type\":\"BasicTickFormatter\"},\"plot\":{\"id\":\"feb8ffd5-fe48-463e-861d-928a9ac29ce8\",\"subtype\":\"Figure\",\"type\":\"Plot\"},\"ticker\":{\"id\":\"4b3dd8be-dbcb-4bd4-9058-16431edd5d7b\",\"type\":\"BasicTicker\"}},\"id\":\"bcaf40d9-7c06-4974-8105-17ed9127c0c2\",\"type\":\"LinearAxis\"},{\"attributes\":{},\"id\":\"f86c6aa1-2a5c-4721-8577-68fae8f532ca\",\"type\":\"BasicTickFormatter\"},{\"attributes\":{\"bottom_units\":\"screen\",\"fill_alpha\":{\"value\":0.5},\"fill_color\":{\"value\":\"lightgrey\"},\"left_units\":\"screen\",\"level\":\"overlay\",\"line_alpha\":{\"value\":1.0},\"line_color\":{\"value\":\"black\"},\"line_dash\":[4,4],\"line_width\":{\"value\":2},\"plot\":null,\"render_mode\":\"css\",\"right_units\":\"screen\",\"top_units\":\"screen\"},\"id\":\"495e4390-08b8-42cb-b882-3202f0fce680\",\"type\":\"BoxAnnotation\"},{\"attributes\":{\"data_source\":{\"id\":\"d7a48030-9e46-4e89-9054-bfa54d2f1354\",\"type\":\"ColumnDataSource\"},\"glyph\":{\"id\":\"98e92b3f-cebe-46f4-bff5-f2528989a245\",\"type\":\"Quad\"},\"hover_glyph\":null,\"nonselection_glyph\":{\"id\":\"0b299332-9380-4aca-9e0a-5e6cbd0b76b0\",\"type\":\"Quad\"},\"selection_glyph\":null},\"id\":\"9b667961-8170-46d6-a000-a5469c3446e0\",\"type\":\"GlyphRenderer\"},{\"attributes\":{\"active_drag\":\"auto\",\"active_scroll\":\"auto\",\"active_tap\":\"auto\",\"tools\":[{\"id\":\"c85e0f89-b97e-415c-9461-32335acffabc\",\"type\":\"PanTool\"},{\"id\":\"44745be3-83d1-4667-b265-9f6b2d10434e\",\"type\":\"WheelZoomTool\"},{\"id\":\"6bc3aebb-f281-432b-b52b-88ff03a41e23\",\"type\":\"BoxZoomTool\"},{\"id\":\"0d17ed70-c59e-4ea6-9f82-9f92e0fff4ac\",\"type\":\"SaveTool\"},{\"id\":\"165e74e0-98b0-43d9-b581-8381bad8378a\",\"type\":\"ResetTool\"},{\"id\":\"8af7d78a-d5b8-49a2-80b0-9e9c68e689e8\",\"type\":\"HelpTool\"}]},\"id\":\"6b4cb13e-f1eb-4f07-a4b7-b9f3f5b0ea30\",\"type\":\"Toolbar\"}],\"root_ids\":[\"feb8ffd5-fe48-463e-861d-928a9ac29ce8\"]},\"title\":\"Bokeh Application\",\"version\":\"0.12.0\"}};\n",
       "            var render_items = [{\"docid\":\"54aa635d-bf3e-4f1b-984b-dd105034b37a\",\"elementid\":\"38b5373b-7121-4108-8645-5fca53c01b36\",\"modelid\":\"feb8ffd5-fe48-463e-861d-928a9ac29ce8\",\"notebook_comms_target\":\"60ec396a-732d-46dc-af07-a6058a5afa9c\"}];\n",
       "            \n",
       "            Bokeh.embed.embed_items(docs_json, render_items);\n",
       "        });\n",
       "      },\n",
       "      function(Bokeh) {\n",
       "      }\n",
       "    ];\n",
       "  \n",
       "    function run_inline_js() {\n",
       "      for (var i = 0; i < inline_js.length; i++) {\n",
       "        inline_js[i](window.Bokeh);\n",
       "      }\n",
       "    }\n",
       "  \n",
       "    if (window._bokeh_is_loading === 0) {\n",
       "      console.log(\"Bokeh: BokehJS loaded, going straight to plotting\");\n",
       "      run_inline_js();\n",
       "    } else {\n",
       "      load_libs(js_urls, function() {\n",
       "        console.log(\"Bokeh: BokehJS plotting callback run at\", now());\n",
       "        run_inline_js();\n",
       "      });\n",
       "    }\n",
       "  }(this));\n",
       "</script>"
      ]
     },
     "metadata": {},
     "output_type": "display_data"
    },
    {
     "data": {
      "text/html": [
       "<p><code>&lt;Bokeh Notebook handle for <strong>In[5]</strong>&gt;</code></p>"
      ],
      "text/plain": [
       "<bokeh.io._CommsHandle at 0x7f71ee1f1490>"
      ]
     },
     "execution_count": 5,
     "metadata": {},
     "output_type": "execute_result"
    }
   ],
   "source": [
    "plt_obj = dm.superset_yes_no([dm.di_11_765, dm.di_4_911, dm.di_7_1868], [dm.di_13_1696], min_match=0.001)\n",
    "plt = plt_obj.do_plot()\n",
    "show(plt)"
   ]
  },
  {
   "cell_type": "code",
   "execution_count": 6,
   "metadata": {
    "collapsed": false
   },
   "outputs": [
    {
     "data": {
      "text/html": [
       "<table>\n",
       "<thead><tr><th style=\"text-align:center\">index</th><th style=\"text-align:center\">first</th><th style=\"text-align:center\">length</th><th style=\"text-align:center\">snps</th><th style=\"text-align:center\" colspan=2>alleles</th><th style=\"text-align:center\" colspan=2>matches</th><th style=\"text-align:center\" colspan=2>afr</th><th style=\"text-align:center\" colspan=2>afx</th><th style=\"text-align:center\" colspan=2>amr</th><th style=\"text-align:center\" colspan=2>eas</th><th style=\"text-align:center\" colspan=2>eur</th><th style=\"text-align:center\" colspan=2>sas</th><th style=\"text-align:center\" colspan=2>sax</th></tr></thead>\n",
       "<tr class=\"even\"><td style=\"text-align: right;\">353921</td><td style=\"text-align: right;\">136,501,840</td><td style=\"text-align: right;\">53,819</td><td style=\"text-align: right;\">10</td><td style=\"text-align: right;\">2206</td><td style=\"text-align: right;\">0.34</td><td style=\"text-align: right;\">760</td><td style=\"text-align: right;\">1.00</td><td style=\"text-align: right;\">2</td><td style=\"text-align: right;\">0.02</td><td style=\"text-align: right;\">31</td><td style=\"text-align: right;\">0.78</td><td style=\"text-align: right;\">145</td><td style=\"text-align: right;\">1.17</td><td style=\"text-align: right;\">0</td><td style=\"text-align: right;\">0.00</td><td style=\"text-align: right;\">484</td><td style=\"text-align: right;\">2.57</td><td style=\"text-align: right;\">54</td><td style=\"text-align: right;\">0.92</td><td style=\"text-align: right;\">44</td><td style=\"text-align: right;\">0.49</td></tr>\n",
       "<tr><td style=\"text-align: right;\">354170</td><td style=\"text-align: right;\">136,682,274</td><td style=\"text-align: right;\">93,624</td><td style=\"text-align: right;\">7</td><td style=\"text-align: right;\">1868</td><td style=\"text-align: right;\">0.41</td><td style=\"text-align: right;\">760</td><td style=\"text-align: right;\">1.00</td><td style=\"text-align: right;\">2</td><td style=\"text-align: right;\">0.02</td><td style=\"text-align: right;\">31</td><td style=\"text-align: right;\">0.78</td><td style=\"text-align: right;\">145</td><td style=\"text-align: right;\">1.17</td><td style=\"text-align: right;\">0</td><td style=\"text-align: right;\">0.00</td><td style=\"text-align: right;\">484</td><td style=\"text-align: right;\">2.57</td><td style=\"text-align: right;\">54</td><td style=\"text-align: right;\">0.92</td><td style=\"text-align: right;\">44</td><td style=\"text-align: right;\">0.49</td></tr>\n",
       "<tr class=\"even\"><td style=\"text-align: right;\">353462</td><td style=\"text-align: right;\">135,915,358</td><td style=\"text-align: right;\">79,721</td><td style=\"text-align: right;\">4</td><td style=\"text-align: right;\">1699</td><td style=\"text-align: right;\">0.45</td><td style=\"text-align: right;\">760</td><td style=\"text-align: right;\">1.00</td><td style=\"text-align: right;\">2</td><td style=\"text-align: right;\">0.02</td><td style=\"text-align: right;\">31</td><td style=\"text-align: right;\">0.78</td><td style=\"text-align: right;\">145</td><td style=\"text-align: right;\">1.17</td><td style=\"text-align: right;\">0</td><td style=\"text-align: right;\">0.00</td><td style=\"text-align: right;\">484</td><td style=\"text-align: right;\">2.57</td><td style=\"text-align: right;\">54</td><td style=\"text-align: right;\">0.92</td><td style=\"text-align: right;\">44</td><td style=\"text-align: right;\">0.49</td></tr>\n",
       "<tr><td style=\"text-align: right;\">353901</td><td style=\"text-align: right;\">136,494,186</td><td style=\"text-align: right;\">271,765</td><td style=\"text-align: right;\">64</td><td style=\"text-align: right;\">1575</td><td style=\"text-align: right;\">0.48</td><td style=\"text-align: right;\">760</td><td style=\"text-align: right;\">1.00</td><td style=\"text-align: right;\">2</td><td style=\"text-align: right;\">0.02</td><td style=\"text-align: right;\">31</td><td style=\"text-align: right;\">0.78</td><td style=\"text-align: right;\">145</td><td style=\"text-align: right;\">1.17</td><td style=\"text-align: right;\">0</td><td style=\"text-align: right;\">0.00</td><td style=\"text-align: right;\">484</td><td style=\"text-align: right;\">2.57</td><td style=\"text-align: right;\">54</td><td style=\"text-align: right;\">0.92</td><td style=\"text-align: right;\">44</td><td style=\"text-align: right;\">0.49</td></tr>\n",
       "<tr class=\"even\"><td style=\"text-align: right;\">353283</td><td style=\"text-align: right;\">135,771,974</td><td style=\"text-align: right;\">368,330</td><td style=\"text-align: right;\">6</td><td style=\"text-align: right;\">1503</td><td style=\"text-align: right;\">0.51</td><td style=\"text-align: right;\">760</td><td style=\"text-align: right;\">1.00</td><td style=\"text-align: right;\">2</td><td style=\"text-align: right;\">0.02</td><td style=\"text-align: right;\">31</td><td style=\"text-align: right;\">0.78</td><td style=\"text-align: right;\">145</td><td style=\"text-align: right;\">1.17</td><td style=\"text-align: right;\">0</td><td style=\"text-align: right;\">0.00</td><td style=\"text-align: right;\">484</td><td style=\"text-align: right;\">2.57</td><td style=\"text-align: right;\">54</td><td style=\"text-align: right;\">0.92</td><td style=\"text-align: right;\">44</td><td style=\"text-align: right;\">0.49</td></tr>\n",
       "<tr><td style=\"text-align: right;\">353797</td><td style=\"text-align: right;\">136,398,174</td><td style=\"text-align: right;\">75,924</td><td style=\"text-align: right;\">26</td><td style=\"text-align: right;\">1414</td><td style=\"text-align: right;\">0.54</td><td style=\"text-align: right;\">760</td><td style=\"text-align: right;\">1.00</td><td style=\"text-align: right;\">2</td><td style=\"text-align: right;\">0.02</td><td style=\"text-align: right;\">31</td><td style=\"text-align: right;\">0.78</td><td style=\"text-align: right;\">145</td><td style=\"text-align: right;\">1.17</td><td style=\"text-align: right;\">0</td><td style=\"text-align: right;\">0.00</td><td style=\"text-align: right;\">484</td><td style=\"text-align: right;\">2.57</td><td style=\"text-align: right;\">54</td><td style=\"text-align: right;\">0.92</td><td style=\"text-align: right;\">44</td><td style=\"text-align: right;\">0.49</td></tr>\n",
       "<tr class=\"even\"><td style=\"text-align: right;\">353604</td><td style=\"text-align: right;\">136,092,061</td><td style=\"text-align: right;\">315,418</td><td style=\"text-align: right;\">4</td><td style=\"text-align: right;\">911</td><td style=\"text-align: right;\">0.83</td><td style=\"text-align: right;\">760</td><td style=\"text-align: right;\">1.00</td><td style=\"text-align: right;\">2</td><td style=\"text-align: right;\">0.02</td><td style=\"text-align: right;\">31</td><td style=\"text-align: right;\">0.78</td><td style=\"text-align: right;\">145</td><td style=\"text-align: right;\">1.17</td><td style=\"text-align: right;\">0</td><td style=\"text-align: right;\">0.00</td><td style=\"text-align: right;\">484</td><td style=\"text-align: right;\">2.57</td><td style=\"text-align: right;\">54</td><td style=\"text-align: right;\">0.92</td><td style=\"text-align: right;\">44</td><td style=\"text-align: right;\">0.49</td></tr>\n",
       "<tr><td style=\"text-align: right;\">353380</td><td style=\"text-align: right;\">135,837,906</td><td style=\"text-align: right;\">870,076</td><td style=\"text-align: right;\">11</td><td style=\"text-align: right;\">765</td><td style=\"text-align: right;\">0.99</td><td style=\"text-align: right;\">760</td><td style=\"text-align: right;\">1.00</td><td style=\"text-align: right;\">2</td><td style=\"text-align: right;\">0.02</td><td style=\"text-align: right;\">31</td><td style=\"text-align: right;\">0.78</td><td style=\"text-align: right;\">145</td><td style=\"text-align: right;\">1.17</td><td style=\"text-align: right;\">0</td><td style=\"text-align: right;\">0.00</td><td style=\"text-align: right;\">484</td><td style=\"text-align: right;\">2.57</td><td style=\"text-align: right;\">54</td><td style=\"text-align: right;\">0.92</td><td style=\"text-align: right;\">44</td><td style=\"text-align: right;\">0.49</td></tr>\n",
       "</table>"
      ],
      "text/plain": [
       "<IPython.core.display.HTML object>"
      ]
     },
     "execution_count": 6,
     "metadata": {},
     "output_type": "execute_result"
    }
   ],
   "source": [
    "HTML(plt_obj.get_html())"
   ]
  },
  {
   "cell_type": "code",
   "execution_count": 7,
   "metadata": {
    "collapsed": false
   },
   "outputs": [
    {
     "data": {
      "text/html": [
       "\n",
       "\n",
       "    <div class=\"bk-root\">\n",
       "        <div class=\"plotdiv\" id=\"d72e0491-b9e9-40c5-91eb-0b115af6631c\"></div>\n",
       "    </div>\n",
       "<script type=\"text/javascript\">\n",
       "  \n",
       "  (function(global) {\n",
       "    function now() {\n",
       "      return new Date();\n",
       "    }\n",
       "  \n",
       "    if (typeof (window._bokeh_onload_callbacks) === \"undefined\") {\n",
       "      window._bokeh_onload_callbacks = [];\n",
       "    }\n",
       "  \n",
       "    function run_callbacks() {\n",
       "      window._bokeh_onload_callbacks.forEach(function(callback) { callback() });\n",
       "      delete window._bokeh_onload_callbacks\n",
       "      console.info(\"Bokeh: all callbacks have finished\");\n",
       "    }\n",
       "  \n",
       "    function load_libs(js_urls, callback) {\n",
       "      window._bokeh_onload_callbacks.push(callback);\n",
       "      if (window._bokeh_is_loading > 0) {\n",
       "        console.log(\"Bokeh: BokehJS is being loaded, scheduling callback at\", now());\n",
       "        return null;\n",
       "      }\n",
       "      if (js_urls == null || js_urls.length === 0) {\n",
       "        run_callbacks();\n",
       "        return null;\n",
       "      }\n",
       "      console.log(\"Bokeh: BokehJS not loaded, scheduling load and callback at\", now());\n",
       "      window._bokeh_is_loading = js_urls.length;\n",
       "      for (var i = 0; i < js_urls.length; i++) {\n",
       "        var url = js_urls[i];\n",
       "        var s = document.createElement('script');\n",
       "        s.src = url;\n",
       "        s.async = false;\n",
       "        s.onreadystatechange = s.onload = function() {\n",
       "          window._bokeh_is_loading--;\n",
       "          if (window._bokeh_is_loading === 0) {\n",
       "            console.log(\"Bokeh: all BokehJS libraries loaded\");\n",
       "            run_callbacks()\n",
       "          }\n",
       "        };\n",
       "        s.onerror = function() {\n",
       "          console.warn(\"failed to load library \" + url);\n",
       "        };\n",
       "        console.log(\"Bokeh: injecting script tag for BokehJS library: \", url);\n",
       "        document.getElementsByTagName(\"head\")[0].appendChild(s);\n",
       "      }\n",
       "    };var element = document.getElementById(\"d72e0491-b9e9-40c5-91eb-0b115af6631c\");\n",
       "    if (element == null) {\n",
       "      console.log(\"Bokeh: ERROR: autoload.js configured with elementid 'd72e0491-b9e9-40c5-91eb-0b115af6631c' but no matching script tag was found. \")\n",
       "      return false;\n",
       "    }\n",
       "  \n",
       "    var js_urls = [];\n",
       "  \n",
       "    var inline_js = [\n",
       "      function(Bokeh) {\n",
       "        Bokeh.$(function() {\n",
       "            var docs_json = {\"cf80af82-7f06-4872-9d35-947812429beb\":{\"roots\":{\"references\":[{\"attributes\":{\"callback\":null,\"column_names\":[\"y\",\"x\",\"vals\"],\"data\":{\"vals\":[\"RAB3GAP1\",\"ZRANB3\",\"R3HDM1\",\"UBXN4\",\"LCT\",\"MCM6\",\"DARS\"],\"x\":[135869057.0,136122878.0,136385961.0,136520911.0,136570082.5,136615621.5,136703738.0],\"y\":[460.0,460.0,460.0,460.0,460.0,460.0,460.0]}},\"id\":\"a6de889a-a49e-4249-a98e-8a7cd4b32379\",\"type\":\"ColumnDataSource\"},{\"attributes\":{\"level\":\"glyph\",\"plot\":{\"id\":\"380c6135-84e7-45bd-ac7d-4b309b44e3e2\",\"subtype\":\"Figure\",\"type\":\"Plot\"},\"source\":{\"id\":\"7507eb4b-d242-428b-adf0-24dd379c64a3\",\"type\":\"ColumnDataSource\"},\"text\":{\"field\":\"vals\"},\"text_font_size\":{\"value\":\"9pt\"},\"text_font_style\":\"bold\",\"x\":{\"field\":\"x\"},\"y\":{\"field\":\"y\"}},\"id\":\"3b54d0b6-8dc8-4867-8e96-5af330f7db64\",\"type\":\"LabelSet\"},{\"attributes\":{},\"id\":\"77438b9a-8e55-45f2-8e06-f9cc4b2be5dc\",\"type\":\"BasicTicker\"},{\"attributes\":{\"plot\":{\"id\":\"380c6135-84e7-45bd-ac7d-4b309b44e3e2\",\"subtype\":\"Figure\",\"type\":\"Plot\"}},\"id\":\"c143cddd-9e0b-4f63-9f44-261fbae41385\",\"type\":\"PanTool\"},{\"attributes\":{\"bottom\":{\"field\":\"bottom\"},\"fill_alpha\":{\"value\":0.1},\"fill_color\":{\"value\":\"#1f77b4\"},\"left\":{\"field\":\"left\"},\"line_alpha\":{\"value\":0.1},\"line_color\":{\"value\":\"#1f77b4\"},\"right\":{\"field\":\"right\"},\"top\":{\"field\":\"top\"}},\"id\":\"05b75aa7-aeca-4f00-9075-697560e27a2e\",\"type\":\"Quad\"},{\"attributes\":{\"dimension\":1,\"plot\":{\"id\":\"380c6135-84e7-45bd-ac7d-4b309b44e3e2\",\"subtype\":\"Figure\",\"type\":\"Plot\"},\"ticker\":{\"id\":\"77438b9a-8e55-45f2-8e06-f9cc4b2be5dc\",\"type\":\"BasicTicker\"}},\"id\":\"22d0e8e7-5da7-4aa0-a3dc-b00cd072f365\",\"type\":\"Grid\"},{\"attributes\":{\"callback\":null,\"column_names\":[\"right\",\"bottom\",\"top\",\"left\",\"fill_color\"],\"data\":{\"bottom\":[250,50,350,150,250,250,350],\"fill_color\":[\"#61c461\",\"#00ff00\",\"#61c461\",\"#00ff00\",\"#61c461\",\"#61c461\",\"#808080\"],\"left\":[135771974,135837906,135915358,136092061,136398174,136494186,136501840],\"right\":[136140304,136707982,135995079,136407479,136474098,136765951,136555659],\"top\":[295,89,396,190,294,295,398]}},\"id\":\"a17afec8-34f9-4256-98ab-177171ceb94f\",\"type\":\"ColumnDataSource\"},{\"attributes\":{\"callback\":null,\"column_names\":[\"y\",\"x\",\"vals\"],\"data\":{\"vals\":[\"6_1503\",\"11_765\",\"4_1699\",\"4_911\",\"26_1414\",\"64_1575\",\"10_2206\"],\"x\":[135771974,135837906,135915358,136092061,136398174,136494186,136501840],\"y\":[300.0,94.0,401.0,195.0,299.0,300.0,403.0]}},\"id\":\"7507eb4b-d242-428b-adf0-24dd379c64a3\",\"type\":\"ColumnDataSource\"},{\"attributes\":{\"formatter\":{\"id\":\"55444cfd-1d52-4445-b3a4-270e2b67572d\",\"type\":\"BasicTickFormatter\"},\"plot\":{\"id\":\"380c6135-84e7-45bd-ac7d-4b309b44e3e2\",\"subtype\":\"Figure\",\"type\":\"Plot\"},\"ticker\":{\"id\":\"77438b9a-8e55-45f2-8e06-f9cc4b2be5dc\",\"type\":\"BasicTicker\"},\"visible\":null},\"id\":\"80cdb2c7-35b5-48f9-ad5f-c3dc3eea58b7\",\"type\":\"LinearAxis\"},{\"attributes\":{\"bottom\":{\"field\":\"bottom\"},\"fill_alpha\":{\"value\":0.1},\"fill_color\":{\"value\":\"#1f77b4\"},\"left\":{\"field\":\"left\"},\"line_alpha\":{\"value\":0.1},\"line_color\":{\"value\":\"#1f77b4\"},\"right\":{\"field\":\"right\"},\"top\":{\"field\":\"top\"}},\"id\":\"a397e95d-0251-4bd0-b1c5-8a5c8fd95ac8\",\"type\":\"Quad\"},{\"attributes\":{},\"id\":\"50f0c390-a042-4d22-b44a-53b68f876dac\",\"type\":\"BasicTicker\"},{\"attributes\":{\"data_source\":{\"id\":\"edfa8064-0956-40f9-b551-1653dad43eec\",\"type\":\"ColumnDataSource\"},\"glyph\":{\"id\":\"333b03a9-a6a7-46b0-923d-3f1a30e0057d\",\"type\":\"Quad\"},\"hover_glyph\":null,\"nonselection_glyph\":{\"id\":\"a397e95d-0251-4bd0-b1c5-8a5c8fd95ac8\",\"type\":\"Quad\"},\"selection_glyph\":null},\"id\":\"cd2f6121-d593-4b82-b635-685e8243eca8\",\"type\":\"GlyphRenderer\"},{\"attributes\":{\"callback\":null,\"column_names\":[\"right\",\"bottom\",\"top\",\"left\"],\"data\":{\"bottom\":[445,445,445,445,445,445,445],\"left\":[135809835,135957574,136289083,136499189,136545415,136597196,136664254],\"right\":[135928279,136288182,136482839,136542633,136594750,136634047,136743222],\"top\":[475,475,475,475,475,475,475]}},\"id\":\"edfa8064-0956-40f9-b551-1653dad43eec\",\"type\":\"ColumnDataSource\"},{\"attributes\":{},\"id\":\"0789878e-6fba-4788-91b7-586aeb2711c6\",\"type\":\"ToolEvents\"},{\"attributes\":{\"bottom\":{\"field\":\"bottom\"},\"fill_color\":{\"field\":\"fill_color\"},\"left\":{\"field\":\"left\"},\"line_color\":{\"value\":null},\"right\":{\"field\":\"right\"},\"top\":{\"field\":\"top\"}},\"id\":\"5f64aae8-f9a6-4c8c-a88d-de50704a455b\",\"type\":\"Quad\"},{\"attributes\":{\"bottom_units\":\"screen\",\"fill_alpha\":{\"value\":0.5},\"fill_color\":{\"value\":\"lightgrey\"},\"left_units\":\"screen\",\"level\":\"overlay\",\"line_alpha\":{\"value\":1.0},\"line_color\":{\"value\":\"black\"},\"line_dash\":[4,4],\"line_width\":{\"value\":2},\"plot\":null,\"render_mode\":\"css\",\"right_units\":\"screen\",\"top_units\":\"screen\"},\"id\":\"bf1e0367-b1c9-403a-b708-e7c03b37e995\",\"type\":\"BoxAnnotation\"},{\"attributes\":{\"plot\":{\"id\":\"380c6135-84e7-45bd-ac7d-4b309b44e3e2\",\"subtype\":\"Figure\",\"type\":\"Plot\"}},\"id\":\"9658cf1d-c5b1-4534-b05d-336e956ca016\",\"type\":\"HelpTool\"},{\"attributes\":{\"callback\":null,\"end\":136786630,\"start\":135757320},\"id\":\"2f203b84-03af-402f-bea3-880ac4298959\",\"type\":\"Range1d\"},{\"attributes\":{\"callback\":null,\"column_names\":[\"xs\",\"ys\",\"line_color\"],\"data\":{\"line_color\":[\"black\",\"black\",\"black\",\"black\",\"black\",\"black\",\"black\",\"black\",\"black\",\"black\",\"black\",\"black\",\"black\",\"black\",\"black\",\"black\",\"black\",\"black\",\"black\",\"black\",\"black\",\"black\",\"black\",\"black\",\"black\",\"black\",\"black\",\"black\",\"black\",\"black\",\"black\",\"black\",\"black\",\"black\",\"black\",\"black\",\"black\",\"black\",\"black\",\"black\",\"black\",\"black\",\"black\",\"black\",\"black\",\"black\",\"black\",\"black\",\"black\",\"black\",\"black\",\"black\",\"black\",\"black\",\"black\",\"black\",\"black\",\"black\",\"black\",\"black\",\"black\",\"black\",\"black\",\"black\",\"black\",\"black\",\"black\",\"black\",\"black\",\"black\",\"black\",\"black\",\"black\",\"black\",\"black\",\"black\",\"black\",\"black\",\"black\",\"black\",\"black\",\"black\",\"black\",\"black\",\"black\",\"black\",\"black\",\"black\",\"black\",\"black\",\"black\",\"black\",\"black\",\"black\",\"black\",\"black\",\"black\",\"black\",\"black\",\"black\",\"black\",\"black\",\"black\",\"black\",\"black\",\"black\",\"black\",\"black\",\"black\",\"black\",\"black\",\"black\",\"black\",\"black\",\"black\",\"black\",\"black\",\"black\",\"black\",\"black\",\"black\",\"black\",\"black\",\"black\",\"black\"],\"xs\":[[135771974,135771974],[135859371,135859371],[135877562,135877562],[136022798,136022798],[136058820,136058820],[136140304,136140304],[135837906,135837906],[135907088,135907088],[135954797,135954797],[136138627,136138627],[136176540,136176540],[136328890,136328890],[136381348,136381348],[136429366,136429366],[136608646,136608646],[136616754,136616754],[136707982,136707982],[135915358,135915358],[135954405,135954405],[135995073,135995073],[135995079,135995079],[136092061,136092061],[136273578,136273578],[136322676,136322676],[136407479,136407479],[136398174,136398174],[136402117,136402117],[136403749,136403749],[136409073,136409073],[136410299,136410299],[136413359,136413359],[136416855,136416855],[136416941,136416941],[136418348,136418348],[136419961,136419961],[136420690,136420690],[136422171,136422171],[136428460,136428460],[136430866,136430866],[136432103,136432103],[136437507,136437507],[136439090,136439090],[136439517,136439517],[136444123,136444123],[136445526,136445526],[136445869,136445869],[136455600,136455600],[136456642,136456642],[136462441,136462441],[136470714,136470714],[136474098,136474098],[136494186,136494186],[136495300,136495300],[136495619,136495619],[136499166,136499166],[136502792,136502792],[136503157,136503157],[136507039,136507039],[136511575,136511575],[136518103,136518103],[136521514,136521514],[136522675,136522675],[136522941,136522941],[136526981,136526981],[136535410,136535410],[136539122,136539122],[136544197,136544197],[136550109,136550109],[136551694,136551694],[136553188,136553188],[136553639,136553639],[136554800,136554800],[136557319,136557319],[136558157,136558157],[136569848,136569848],[136575199,136575199],[136576577,136576577],[136578536,136578536],[136580287,136580287],[136583192,136583192],[136586958,136586958],[136588478,136588478],[136589612,136589612],[136591178,136591178],[136591859,136591859],[136593760,136593760],[136594158,136594158],[136603276,136603276],[136603366,136603366],[136608231,136608231],[136609975,136609975],[136610598,136610598],[136611624,136611624],[136613780,136613780],[136614255,136614255],[136614813,136614813],[136617524,136617524],[136622216,136622216],[136625602,136625602],[136629911,136629911],[136630757,136630757],[136630989,136630989],[136631031,136631031],[136633771,136633771],[136636324,136636324],[136638216,136638216],[136640233,136640233],[136641882,136641882],[136643555,136643555],[136658345,136658345],[136670298,136670298],[136685228,136685228],[136696138,136696138],[136740900,136740900],[136765951,136765951],[136501840,136501840],[136505546,136505546],[136516748,136516748],[136522710,136522710],[136528004,136528004],[136539513,136539513],[136544752,136544752],[136546110,136546110],[136553529,136553529],[136555659,136555659]],\"ys\":[[250,295],[250,295],[250,295],[250,295],[250,295],[250,295],[50,89],[50,89],[50,89],[50,89],[50,89],[50,89],[50,89],[50,89],[50,89],[50,89],[50,89],[350,396],[350,396],[350,396],[350,396],[150,190],[150,190],[150,190],[150,190],[250,294],[250,294],[250,294],[250,294],[250,294],[250,294],[250,294],[250,294],[250,294],[250,294],[250,294],[250,294],[250,294],[250,294],[250,294],[250,294],[250,294],[250,294],[250,294],[250,294],[250,294],[250,294],[250,294],[250,294],[250,294],[250,294],[250,295],[250,295],[250,295],[250,295],[250,295],[250,295],[250,295],[250,295],[250,295],[250,295],[250,295],[250,295],[250,295],[250,295],[250,295],[250,295],[250,295],[250,295],[250,295],[250,295],[250,295],[250,295],[250,295],[250,295],[250,295],[250,295],[250,295],[250,295],[250,295],[250,295],[250,295],[250,295],[250,295],[250,295],[250,295],[250,295],[250,295],[250,295],[250,295],[250,295],[250,295],[250,295],[250,295],[250,295],[250,295],[250,295],[250,295],[250,295],[250,295],[250,295],[250,295],[250,295],[250,295],[250,295],[250,295],[250,295],[250,295],[250,295],[250,295],[250,295],[250,295],[250,295],[250,295],[250,295],[350,398],[350,398],[350,398],[350,398],[350,398],[350,398],[350,398],[350,398],[350,398],[350,398]]}},\"id\":\"3d7c8a98-dd5a-4959-aef5-6396ff37fa81\",\"type\":\"ColumnDataSource\"},{\"attributes\":{},\"id\":\"1e9f3c2c-92a4-4a16-aa70-6da4512d5de2\",\"type\":\"BasicTickFormatter\"},{\"attributes\":{\"below\":[{\"id\":\"de4bb28d-6e7c-4105-9c10-a1714f649c21\",\"type\":\"LinearAxis\"}],\"left\":[{\"id\":\"80cdb2c7-35b5-48f9-ad5f-c3dc3eea58b7\",\"type\":\"LinearAxis\"}],\"plot_height\":500,\"plot_width\":900,\"renderers\":[{\"id\":\"de4bb28d-6e7c-4105-9c10-a1714f649c21\",\"type\":\"LinearAxis\"},{\"id\":\"f65f7433-a765-4c23-b6d8-09fe9accd4c6\",\"type\":\"Grid\"},{\"id\":\"80cdb2c7-35b5-48f9-ad5f-c3dc3eea58b7\",\"type\":\"LinearAxis\"},{\"id\":\"22d0e8e7-5da7-4aa0-a3dc-b00cd072f365\",\"type\":\"Grid\"},{\"id\":\"bf1e0367-b1c9-403a-b708-e7c03b37e995\",\"type\":\"BoxAnnotation\"},{\"id\":\"4b3478f4-ec9e-496e-a494-f7257fed8517\",\"type\":\"GlyphRenderer\"},{\"id\":\"17c14e8d-41be-4181-8c7a-9ee57433ee0a\",\"type\":\"GlyphRenderer\"},{\"id\":\"3b54d0b6-8dc8-4867-8e96-5af330f7db64\",\"type\":\"LabelSet\"},{\"id\":\"cd2f6121-d593-4b82-b635-685e8243eca8\",\"type\":\"GlyphRenderer\"},{\"id\":\"8c9ff133-5fa8-44b0-95e9-313adfa23c66\",\"type\":\"LabelSet\"}],\"title\":{\"id\":\"dc0c8d60-079a-442c-9ddb-b7c574a41889\",\"type\":\"Title\"},\"tool_events\":{\"id\":\"0789878e-6fba-4788-91b7-586aeb2711c6\",\"type\":\"ToolEvents\"},\"toolbar\":{\"id\":\"e1337f2b-e528-4a37-9aad-83f4d79310f2\",\"type\":\"Toolbar\"},\"toolbar_location\":null,\"x_range\":{\"id\":\"2f203b84-03af-402f-bea3-880ac4298959\",\"type\":\"Range1d\"},\"y_range\":{\"id\":\"67a7b412-b066-4b2c-aaf1-2a4bd71643bb\",\"type\":\"Range1d\"}},\"id\":\"380c6135-84e7-45bd-ac7d-4b309b44e3e2\",\"subtype\":\"Figure\",\"type\":\"Plot\"},{\"attributes\":{\"plot\":null,\"text\":null},\"id\":\"dc0c8d60-079a-442c-9ddb-b7c574a41889\",\"type\":\"Title\"},{\"attributes\":{\"data_source\":{\"id\":\"a17afec8-34f9-4256-98ab-177171ceb94f\",\"type\":\"ColumnDataSource\"},\"glyph\":{\"id\":\"5f64aae8-f9a6-4c8c-a88d-de50704a455b\",\"type\":\"Quad\"},\"hover_glyph\":null,\"nonselection_glyph\":{\"id\":\"05b75aa7-aeca-4f00-9075-697560e27a2e\",\"type\":\"Quad\"},\"selection_glyph\":null},\"id\":\"4b3478f4-ec9e-496e-a494-f7257fed8517\",\"type\":\"GlyphRenderer\"},{\"attributes\":{\"line_color\":{\"field\":\"line_color\"},\"xs\":{\"field\":\"xs\"},\"ys\":{\"field\":\"ys\"}},\"id\":\"21487dfb-1423-4375-be32-989754ec0d89\",\"type\":\"MultiLine\"},{\"attributes\":{\"overlay\":{\"id\":\"bf1e0367-b1c9-403a-b708-e7c03b37e995\",\"type\":\"BoxAnnotation\"},\"plot\":{\"id\":\"380c6135-84e7-45bd-ac7d-4b309b44e3e2\",\"subtype\":\"Figure\",\"type\":\"Plot\"}},\"id\":\"1eac53a0-8fb5-467e-b8ea-b322c6e7e7f0\",\"type\":\"BoxZoomTool\"},{\"attributes\":{\"active_drag\":\"auto\",\"active_scroll\":\"auto\",\"active_tap\":\"auto\",\"tools\":[{\"id\":\"c143cddd-9e0b-4f63-9f44-261fbae41385\",\"type\":\"PanTool\"},{\"id\":\"d5bc0291-14b1-4f2b-9e97-5dc59721a436\",\"type\":\"WheelZoomTool\"},{\"id\":\"1eac53a0-8fb5-467e-b8ea-b322c6e7e7f0\",\"type\":\"BoxZoomTool\"},{\"id\":\"84773554-2338-49a6-b6e5-82cebde3aabb\",\"type\":\"SaveTool\"},{\"id\":\"5f546cb8-574d-4bcf-9c87-71a687ee27f1\",\"type\":\"ResetTool\"},{\"id\":\"9658cf1d-c5b1-4534-b05d-336e956ca016\",\"type\":\"HelpTool\"}]},\"id\":\"e1337f2b-e528-4a37-9aad-83f4d79310f2\",\"type\":\"Toolbar\"},{\"attributes\":{\"plot\":{\"id\":\"380c6135-84e7-45bd-ac7d-4b309b44e3e2\",\"subtype\":\"Figure\",\"type\":\"Plot\"}},\"id\":\"5f546cb8-574d-4bcf-9c87-71a687ee27f1\",\"type\":\"ResetTool\"},{\"attributes\":{\"plot\":{\"id\":\"380c6135-84e7-45bd-ac7d-4b309b44e3e2\",\"subtype\":\"Figure\",\"type\":\"Plot\"}},\"id\":\"84773554-2338-49a6-b6e5-82cebde3aabb\",\"type\":\"SaveTool\"},{\"attributes\":{},\"id\":\"55444cfd-1d52-4445-b3a4-270e2b67572d\",\"type\":\"BasicTickFormatter\"},{\"attributes\":{\"data_source\":{\"id\":\"3d7c8a98-dd5a-4959-aef5-6396ff37fa81\",\"type\":\"ColumnDataSource\"},\"glyph\":{\"id\":\"21487dfb-1423-4375-be32-989754ec0d89\",\"type\":\"MultiLine\"},\"hover_glyph\":null,\"nonselection_glyph\":{\"id\":\"8dbb70d8-2749-4992-9781-f82df41e4f94\",\"type\":\"MultiLine\"},\"selection_glyph\":null},\"id\":\"17c14e8d-41be-4181-8c7a-9ee57433ee0a\",\"type\":\"GlyphRenderer\"},{\"attributes\":{\"bottom\":{\"field\":\"bottom\"},\"fill_color\":{\"value\":\"white\"},\"left\":{\"field\":\"left\"},\"right\":{\"field\":\"right\"},\"top\":{\"field\":\"top\"}},\"id\":\"333b03a9-a6a7-46b0-923d-3f1a30e0057d\",\"type\":\"Quad\"},{\"attributes\":{\"formatter\":{\"id\":\"1e9f3c2c-92a4-4a16-aa70-6da4512d5de2\",\"type\":\"BasicTickFormatter\"},\"plot\":{\"id\":\"380c6135-84e7-45bd-ac7d-4b309b44e3e2\",\"subtype\":\"Figure\",\"type\":\"Plot\"},\"ticker\":{\"id\":\"50f0c390-a042-4d22-b44a-53b68f876dac\",\"type\":\"BasicTicker\"}},\"id\":\"de4bb28d-6e7c-4105-9c10-a1714f649c21\",\"type\":\"LinearAxis\"},{\"attributes\":{\"plot\":{\"id\":\"380c6135-84e7-45bd-ac7d-4b309b44e3e2\",\"subtype\":\"Figure\",\"type\":\"Plot\"}},\"id\":\"d5bc0291-14b1-4f2b-9e97-5dc59721a436\",\"type\":\"WheelZoomTool\"},{\"attributes\":{\"plot\":{\"id\":\"380c6135-84e7-45bd-ac7d-4b309b44e3e2\",\"subtype\":\"Figure\",\"type\":\"Plot\"},\"ticker\":{\"id\":\"50f0c390-a042-4d22-b44a-53b68f876dac\",\"type\":\"BasicTicker\"}},\"id\":\"f65f7433-a765-4c23-b6d8-09fe9accd4c6\",\"type\":\"Grid\"},{\"attributes\":{\"callback\":null,\"end\":500},\"id\":\"67a7b412-b066-4b2c-aaf1-2a4bd71643bb\",\"type\":\"Range1d\"},{\"attributes\":{\"level\":\"glyph\",\"plot\":{\"id\":\"380c6135-84e7-45bd-ac7d-4b309b44e3e2\",\"subtype\":\"Figure\",\"type\":\"Plot\"},\"source\":{\"id\":\"a6de889a-a49e-4249-a98e-8a7cd4b32379\",\"type\":\"ColumnDataSource\"},\"text\":{\"field\":\"vals\"},\"text_align\":\"center\",\"text_baseline\":\"middle\",\"text_font_size\":{\"value\":\"8pt\"},\"x\":{\"field\":\"x\"},\"y\":{\"field\":\"y\"}},\"id\":\"8c9ff133-5fa8-44b0-95e9-313adfa23c66\",\"type\":\"LabelSet\"},{\"attributes\":{\"line_alpha\":{\"value\":0.1},\"line_color\":{\"value\":\"#1f77b4\"},\"xs\":{\"field\":\"xs\"},\"ys\":{\"field\":\"ys\"}},\"id\":\"8dbb70d8-2749-4992-9781-f82df41e4f94\",\"type\":\"MultiLine\"}],\"root_ids\":[\"380c6135-84e7-45bd-ac7d-4b309b44e3e2\"]},\"title\":\"Bokeh Application\",\"version\":\"0.12.0\"}};\n",
       "            var render_items = [{\"docid\":\"cf80af82-7f06-4872-9d35-947812429beb\",\"elementid\":\"d72e0491-b9e9-40c5-91eb-0b115af6631c\",\"modelid\":\"380c6135-84e7-45bd-ac7d-4b309b44e3e2\",\"notebook_comms_target\":\"963ff166-1085-4d42-b90d-20ead7f9ce37\"}];\n",
       "            \n",
       "            Bokeh.embed.embed_items(docs_json, render_items);\n",
       "        });\n",
       "      },\n",
       "      function(Bokeh) {\n",
       "      }\n",
       "    ];\n",
       "  \n",
       "    function run_inline_js() {\n",
       "      for (var i = 0; i < inline_js.length; i++) {\n",
       "        inline_js[i](window.Bokeh);\n",
       "      }\n",
       "    }\n",
       "  \n",
       "    if (window._bokeh_is_loading === 0) {\n",
       "      console.log(\"Bokeh: BokehJS loaded, going straight to plotting\");\n",
       "      run_inline_js();\n",
       "    } else {\n",
       "      load_libs(js_urls, function() {\n",
       "        console.log(\"Bokeh: BokehJS plotting callback run at\", now());\n",
       "        run_inline_js();\n",
       "      });\n",
       "    }\n",
       "  }(this));\n",
       "</script>"
      ]
     },
     "metadata": {},
     "output_type": "display_data"
    },
    {
     "data": {
      "text/html": [
       "<p><code>&lt;Bokeh Notebook handle for <strong>In[7]</strong>&gt;</code></p>"
      ],
      "text/plain": [
       "<bokeh.io._CommsHandle at 0x7f71ee255b90>"
      ]
     },
     "execution_count": 7,
     "metadata": {},
     "output_type": "execute_result"
    }
   ],
   "source": [
    "plt_obj = dm.superset_yes_no([dm.di_11_765, dm.di_4_911], [dm.di_7_1868, dm.di_13_1696], min_match=0.001)\n",
    "plt = plt_obj.do_plot()\n",
    "show(plt)"
   ]
  },
  {
   "cell_type": "code",
   "execution_count": 8,
   "metadata": {
    "collapsed": false
   },
   "outputs": [
    {
     "data": {
      "text/html": [
       "<table>\n",
       "<thead><tr><th style=\"text-align:center\">index</th><th style=\"text-align:center\">first</th><th style=\"text-align:center\">length</th><th style=\"text-align:center\">snps</th><th style=\"text-align:center\" colspan=2>alleles</th><th style=\"text-align:center\" colspan=2>matches</th><th style=\"text-align:center\" colspan=2>afr</th><th style=\"text-align:center\" colspan=2>afx</th><th style=\"text-align:center\" colspan=2>amr</th><th style=\"text-align:center\" colspan=2>eas</th><th style=\"text-align:center\" colspan=2>eur</th><th style=\"text-align:center\" colspan=2>sas</th><th style=\"text-align:center\" colspan=2>sax</th></tr></thead>\n",
       "<tr class=\"even\"><td style=\"text-align: right;\">353921</td><td style=\"text-align: right;\">136,501,840</td><td style=\"text-align: right;\">53,819</td><td style=\"text-align: right;\">10</td><td style=\"text-align: right;\">2206</td><td style=\"text-align: right;\">0.00</td><td style=\"text-align: right;\">1</td><td style=\"text-align: right;\">1.00</td><td style=\"text-align: right;\">0</td><td style=\"text-align: right;\">0.00</td><td style=\"text-align: right;\">0</td><td style=\"text-align: right;\">0.00</td><td style=\"text-align: right;\">0</td><td style=\"text-align: right;\">0.00</td><td style=\"text-align: right;\">0</td><td style=\"text-align: right;\">0.00</td><td style=\"text-align: right;\">0</td><td style=\"text-align: right;\">0.00</td><td style=\"text-align: right;\">0</td><td style=\"text-align: right;\">0.00</td><td style=\"text-align: right;\">1</td><td style=\"text-align: right;\">6.48</td></tr>\n",
       "<tr><td style=\"text-align: right;\">353462</td><td style=\"text-align: right;\">135,915,358</td><td style=\"text-align: right;\">79,721</td><td style=\"text-align: right;\">4</td><td style=\"text-align: right;\">1699</td><td style=\"text-align: right;\">0.00</td><td style=\"text-align: right;\">1</td><td style=\"text-align: right;\">1.00</td><td style=\"text-align: right;\">0</td><td style=\"text-align: right;\">0.00</td><td style=\"text-align: right;\">0</td><td style=\"text-align: right;\">0.00</td><td style=\"text-align: right;\">0</td><td style=\"text-align: right;\">0.00</td><td style=\"text-align: right;\">0</td><td style=\"text-align: right;\">0.00</td><td style=\"text-align: right;\">0</td><td style=\"text-align: right;\">0.00</td><td style=\"text-align: right;\">0</td><td style=\"text-align: right;\">0.00</td><td style=\"text-align: right;\">1</td><td style=\"text-align: right;\">6.48</td></tr>\n",
       "<tr class=\"even\"><td style=\"text-align: right;\">353901</td><td style=\"text-align: right;\">136,494,186</td><td style=\"text-align: right;\">271,765</td><td style=\"text-align: right;\">64</td><td style=\"text-align: right;\">1575</td><td style=\"text-align: right;\">0.00</td><td style=\"text-align: right;\">1</td><td style=\"text-align: right;\">1.00</td><td style=\"text-align: right;\">0</td><td style=\"text-align: right;\">0.00</td><td style=\"text-align: right;\">0</td><td style=\"text-align: right;\">0.00</td><td style=\"text-align: right;\">0</td><td style=\"text-align: right;\">0.00</td><td style=\"text-align: right;\">0</td><td style=\"text-align: right;\">0.00</td><td style=\"text-align: right;\">0</td><td style=\"text-align: right;\">0.00</td><td style=\"text-align: right;\">0</td><td style=\"text-align: right;\">0.00</td><td style=\"text-align: right;\">1</td><td style=\"text-align: right;\">6.48</td></tr>\n",
       "<tr><td style=\"text-align: right;\">353283</td><td style=\"text-align: right;\">135,771,974</td><td style=\"text-align: right;\">368,330</td><td style=\"text-align: right;\">6</td><td style=\"text-align: right;\">1503</td><td style=\"text-align: right;\">0.00</td><td style=\"text-align: right;\">1</td><td style=\"text-align: right;\">1.00</td><td style=\"text-align: right;\">0</td><td style=\"text-align: right;\">0.00</td><td style=\"text-align: right;\">0</td><td style=\"text-align: right;\">0.00</td><td style=\"text-align: right;\">0</td><td style=\"text-align: right;\">0.00</td><td style=\"text-align: right;\">0</td><td style=\"text-align: right;\">0.00</td><td style=\"text-align: right;\">0</td><td style=\"text-align: right;\">0.00</td><td style=\"text-align: right;\">0</td><td style=\"text-align: right;\">0.00</td><td style=\"text-align: right;\">1</td><td style=\"text-align: right;\">6.48</td></tr>\n",
       "<tr class=\"even\"><td style=\"text-align: right;\">353797</td><td style=\"text-align: right;\">136,398,174</td><td style=\"text-align: right;\">75,924</td><td style=\"text-align: right;\">26</td><td style=\"text-align: right;\">1414</td><td style=\"text-align: right;\">0.00</td><td style=\"text-align: right;\">1</td><td style=\"text-align: right;\">1.00</td><td style=\"text-align: right;\">0</td><td style=\"text-align: right;\">0.00</td><td style=\"text-align: right;\">0</td><td style=\"text-align: right;\">0.00</td><td style=\"text-align: right;\">0</td><td style=\"text-align: right;\">0.00</td><td style=\"text-align: right;\">0</td><td style=\"text-align: right;\">0.00</td><td style=\"text-align: right;\">0</td><td style=\"text-align: right;\">0.00</td><td style=\"text-align: right;\">0</td><td style=\"text-align: right;\">0.00</td><td style=\"text-align: right;\">1</td><td style=\"text-align: right;\">6.48</td></tr>\n",
       "<tr><td style=\"text-align: right;\">353604</td><td style=\"text-align: right;\">136,092,061</td><td style=\"text-align: right;\">315,418</td><td style=\"text-align: right;\">4</td><td style=\"text-align: right;\">911</td><td style=\"text-align: right;\">0.00</td><td style=\"text-align: right;\">1</td><td style=\"text-align: right;\">1.00</td><td style=\"text-align: right;\">0</td><td style=\"text-align: right;\">0.00</td><td style=\"text-align: right;\">0</td><td style=\"text-align: right;\">0.00</td><td style=\"text-align: right;\">0</td><td style=\"text-align: right;\">0.00</td><td style=\"text-align: right;\">0</td><td style=\"text-align: right;\">0.00</td><td style=\"text-align: right;\">0</td><td style=\"text-align: right;\">0.00</td><td style=\"text-align: right;\">0</td><td style=\"text-align: right;\">0.00</td><td style=\"text-align: right;\">1</td><td style=\"text-align: right;\">6.48</td></tr>\n",
       "<tr class=\"even\"><td style=\"text-align: right;\">353380</td><td style=\"text-align: right;\">135,837,906</td><td style=\"text-align: right;\">870,076</td><td style=\"text-align: right;\">11</td><td style=\"text-align: right;\">765</td><td style=\"text-align: right;\">0.00</td><td style=\"text-align: right;\">1</td><td style=\"text-align: right;\">1.00</td><td style=\"text-align: right;\">0</td><td style=\"text-align: right;\">0.00</td><td style=\"text-align: right;\">0</td><td style=\"text-align: right;\">0.00</td><td style=\"text-align: right;\">0</td><td style=\"text-align: right;\">0.00</td><td style=\"text-align: right;\">0</td><td style=\"text-align: right;\">0.00</td><td style=\"text-align: right;\">0</td><td style=\"text-align: right;\">0.00</td><td style=\"text-align: right;\">0</td><td style=\"text-align: right;\">0.00</td><td style=\"text-align: right;\">1</td><td style=\"text-align: right;\">6.48</td></tr>\n",
       "</table>"
      ],
      "text/plain": [
       "<IPython.core.display.HTML object>"
      ]
     },
     "execution_count": 8,
     "metadata": {},
     "output_type": "execute_result"
    }
   ],
   "source": [
    "HTML(plt_obj.get_html())"
   ]
  },
  {
   "cell_type": "code",
   "execution_count": 9,
   "metadata": {
    "collapsed": false
   },
   "outputs": [
    {
     "data": {
      "text/html": [
       "\n",
       "\n",
       "    <div class=\"bk-root\">\n",
       "        <div class=\"plotdiv\" id=\"7c320ba9-5d24-4501-8fff-c6598f18c7bd\"></div>\n",
       "    </div>\n",
       "<script type=\"text/javascript\">\n",
       "  \n",
       "  (function(global) {\n",
       "    function now() {\n",
       "      return new Date();\n",
       "    }\n",
       "  \n",
       "    if (typeof (window._bokeh_onload_callbacks) === \"undefined\") {\n",
       "      window._bokeh_onload_callbacks = [];\n",
       "    }\n",
       "  \n",
       "    function run_callbacks() {\n",
       "      window._bokeh_onload_callbacks.forEach(function(callback) { callback() });\n",
       "      delete window._bokeh_onload_callbacks\n",
       "      console.info(\"Bokeh: all callbacks have finished\");\n",
       "    }\n",
       "  \n",
       "    function load_libs(js_urls, callback) {\n",
       "      window._bokeh_onload_callbacks.push(callback);\n",
       "      if (window._bokeh_is_loading > 0) {\n",
       "        console.log(\"Bokeh: BokehJS is being loaded, scheduling callback at\", now());\n",
       "        return null;\n",
       "      }\n",
       "      if (js_urls == null || js_urls.length === 0) {\n",
       "        run_callbacks();\n",
       "        return null;\n",
       "      }\n",
       "      console.log(\"Bokeh: BokehJS not loaded, scheduling load and callback at\", now());\n",
       "      window._bokeh_is_loading = js_urls.length;\n",
       "      for (var i = 0; i < js_urls.length; i++) {\n",
       "        var url = js_urls[i];\n",
       "        var s = document.createElement('script');\n",
       "        s.src = url;\n",
       "        s.async = false;\n",
       "        s.onreadystatechange = s.onload = function() {\n",
       "          window._bokeh_is_loading--;\n",
       "          if (window._bokeh_is_loading === 0) {\n",
       "            console.log(\"Bokeh: all BokehJS libraries loaded\");\n",
       "            run_callbacks()\n",
       "          }\n",
       "        };\n",
       "        s.onerror = function() {\n",
       "          console.warn(\"failed to load library \" + url);\n",
       "        };\n",
       "        console.log(\"Bokeh: injecting script tag for BokehJS library: \", url);\n",
       "        document.getElementsByTagName(\"head\")[0].appendChild(s);\n",
       "      }\n",
       "    };var element = document.getElementById(\"7c320ba9-5d24-4501-8fff-c6598f18c7bd\");\n",
       "    if (element == null) {\n",
       "      console.log(\"Bokeh: ERROR: autoload.js configured with elementid '7c320ba9-5d24-4501-8fff-c6598f18c7bd' but no matching script tag was found. \")\n",
       "      return false;\n",
       "    }\n",
       "  \n",
       "    var js_urls = [];\n",
       "  \n",
       "    var inline_js = [\n",
       "      function(Bokeh) {\n",
       "        Bokeh.$(function() {\n",
       "            var docs_json = {\"738fc949-bad2-4245-a067-b96fe8809e6c\":{\"roots\":{\"references\":[{\"attributes\":{\"callback\":null,\"column_names\":[\"right\",\"bottom\",\"top\",\"left\",\"fill_color\"],\"data\":{\"bottom\":[350,250,50,350,150,250,350,450,450],\"fill_color\":[\"#808080\",\"#61c461\",\"#00ff00\",\"#61c461\",\"#00ff00\",\"#61c461\",\"#61c461\",\"#808080\",\"#61c461\"],\"left\":[135757320,135771974,135837906,135915358,136092061,136398174,136494186,136501840,136682274],\"right\":[135777504,136140304,136707982,135995079,136407479,136474098,136765951,136555659,136775898],\"top\":[396,295,89,396,190,294,395,498,497]}},\"id\":\"6d4eb195-a8df-4e41-b0f8-bba36ea952cf\",\"type\":\"ColumnDataSource\"},{\"attributes\":{\"bottom_units\":\"screen\",\"fill_alpha\":{\"value\":0.5},\"fill_color\":{\"value\":\"lightgrey\"},\"left_units\":\"screen\",\"level\":\"overlay\",\"line_alpha\":{\"value\":1.0},\"line_color\":{\"value\":\"black\"},\"line_dash\":[4,4],\"line_width\":{\"value\":2},\"plot\":null,\"render_mode\":\"css\",\"right_units\":\"screen\",\"top_units\":\"screen\"},\"id\":\"8edb01b1-5c07-486b-ab3a-fb6ec9d77543\",\"type\":\"BoxAnnotation\"},{\"attributes\":{\"bottom\":{\"field\":\"bottom\"},\"fill_color\":{\"field\":\"fill_color\"},\"left\":{\"field\":\"left\"},\"line_color\":{\"value\":null},\"right\":{\"field\":\"right\"},\"top\":{\"field\":\"top\"}},\"id\":\"54baa0a2-1962-4eff-965e-8b7809f434ee\",\"type\":\"Quad\"},{\"attributes\":{},\"id\":\"60f311b7-7f0a-4617-a78f-4cee44f0aae2\",\"type\":\"BasicTicker\"},{\"attributes\":{\"bottom\":{\"field\":\"bottom\"},\"fill_color\":{\"value\":\"white\"},\"left\":{\"field\":\"left\"},\"right\":{\"field\":\"right\"},\"top\":{\"field\":\"top\"}},\"id\":\"b6496a56-d912-4a92-89d5-585aa73ad04c\",\"type\":\"Quad\"},{\"attributes\":{\"plot\":{\"id\":\"dd2d9316-a432-4275-bcbf-9b0704c404be\",\"subtype\":\"Figure\",\"type\":\"Plot\"}},\"id\":\"38f07b6e-8564-4806-a272-943919238509\",\"type\":\"WheelZoomTool\"},{\"attributes\":{\"data_source\":{\"id\":\"6d4eb195-a8df-4e41-b0f8-bba36ea952cf\",\"type\":\"ColumnDataSource\"},\"glyph\":{\"id\":\"54baa0a2-1962-4eff-965e-8b7809f434ee\",\"type\":\"Quad\"},\"hover_glyph\":null,\"nonselection_glyph\":{\"id\":\"34eed2d0-f800-489c-8b71-31b724772020\",\"type\":\"Quad\"},\"selection_glyph\":null},\"id\":\"f5b624d1-350b-4d02-aae0-cc13c2bb21dd\",\"type\":\"GlyphRenderer\"},{\"attributes\":{\"callback\":null,\"end\":136786630,\"start\":135757320},\"id\":\"5eeffe65-2123-47ed-959c-feb12ab25905\",\"type\":\"Range1d\"},{\"attributes\":{\"callback\":null,\"column_names\":[\"y\",\"x\",\"vals\"],\"data\":{\"vals\":[\"13_1696\",\"6_1503\",\"11_765\",\"4_1699\",\"4_911\",\"26_1414\",\"64_1575\",\"10_2206\",\"7_1868\"],\"x\":[135757320,135771974,135837906,135915358,136092061,136398174,136494186,136501840,136682274],\"y\":[401.0,300.0,94.0,401.0,195.0,299.0,400.0,503.0,502.0]}},\"id\":\"b91cd18f-14b2-4662-b869-7c06d3ffe528\",\"type\":\"ColumnDataSource\"},{\"attributes\":{\"level\":\"glyph\",\"plot\":{\"id\":\"dd2d9316-a432-4275-bcbf-9b0704c404be\",\"subtype\":\"Figure\",\"type\":\"Plot\"},\"source\":{\"id\":\"b91cd18f-14b2-4662-b869-7c06d3ffe528\",\"type\":\"ColumnDataSource\"},\"text\":{\"field\":\"vals\"},\"text_font_size\":{\"value\":\"9pt\"},\"text_font_style\":\"bold\",\"x\":{\"field\":\"x\"},\"y\":{\"field\":\"y\"}},\"id\":\"e263876c-3ff9-47a1-b0b4-599d7cf2caa6\",\"type\":\"LabelSet\"},{\"attributes\":{\"line_color\":{\"field\":\"line_color\"},\"xs\":{\"field\":\"xs\"},\"ys\":{\"field\":\"ys\"}},\"id\":\"824b06a6-de6b-4092-a6b6-4755fa0e6691\",\"type\":\"MultiLine\"},{\"attributes\":{\"line_alpha\":{\"value\":0.1},\"line_color\":{\"value\":\"#1f77b4\"},\"xs\":{\"field\":\"xs\"},\"ys\":{\"field\":\"ys\"}},\"id\":\"f7ce2e57-1658-4ec0-b524-6e3cb747a4c2\",\"type\":\"MultiLine\"},{\"attributes\":{\"plot\":{\"id\":\"dd2d9316-a432-4275-bcbf-9b0704c404be\",\"subtype\":\"Figure\",\"type\":\"Plot\"}},\"id\":\"92a8a2ec-6cd5-4771-940a-ab9e0f8079fd\",\"type\":\"ResetTool\"},{\"attributes\":{\"callback\":null,\"column_names\":[\"right\",\"bottom\",\"top\",\"left\"],\"data\":{\"bottom\":[545,545,545,545,545,545,545],\"left\":[135809835,135957574,136289083,136499189,136545415,136597196,136664254],\"right\":[135928279,136288182,136482839,136542633,136594750,136634047,136743222],\"top\":[575,575,575,575,575,575,575]}},\"id\":\"6aec804a-998b-477c-b7b8-036aae469aa6\",\"type\":\"ColumnDataSource\"},{\"attributes\":{\"formatter\":{\"id\":\"2409f4ad-2ff3-43f9-8e3d-41f10763a0bb\",\"type\":\"BasicTickFormatter\"},\"plot\":{\"id\":\"dd2d9316-a432-4275-bcbf-9b0704c404be\",\"subtype\":\"Figure\",\"type\":\"Plot\"},\"ticker\":{\"id\":\"ce709768-15ad-4ebf-8591-f4ec8fa46282\",\"type\":\"BasicTicker\"}},\"id\":\"99e32257-8ac0-4441-9694-ca2d54f52e35\",\"type\":\"LinearAxis\"},{\"attributes\":{\"bottom\":{\"field\":\"bottom\"},\"fill_alpha\":{\"value\":0.1},\"fill_color\":{\"value\":\"#1f77b4\"},\"left\":{\"field\":\"left\"},\"line_alpha\":{\"value\":0.1},\"line_color\":{\"value\":\"#1f77b4\"},\"right\":{\"field\":\"right\"},\"top\":{\"field\":\"top\"}},\"id\":\"34eed2d0-f800-489c-8b71-31b724772020\",\"type\":\"Quad\"},{\"attributes\":{\"below\":[{\"id\":\"99e32257-8ac0-4441-9694-ca2d54f52e35\",\"type\":\"LinearAxis\"}],\"left\":[{\"id\":\"9b102314-e2f1-4b6b-9afd-1cb42b3067bb\",\"type\":\"LinearAxis\"}],\"plot_width\":900,\"renderers\":[{\"id\":\"99e32257-8ac0-4441-9694-ca2d54f52e35\",\"type\":\"LinearAxis\"},{\"id\":\"ae931914-1efc-4fbd-afc1-ada8e8c32d7c\",\"type\":\"Grid\"},{\"id\":\"9b102314-e2f1-4b6b-9afd-1cb42b3067bb\",\"type\":\"LinearAxis\"},{\"id\":\"50ffcf69-8c48-45cb-badb-c95572d34e0f\",\"type\":\"Grid\"},{\"id\":\"8edb01b1-5c07-486b-ab3a-fb6ec9d77543\",\"type\":\"BoxAnnotation\"},{\"id\":\"f5b624d1-350b-4d02-aae0-cc13c2bb21dd\",\"type\":\"GlyphRenderer\"},{\"id\":\"11706288-5264-4172-af44-7713e33a3ef6\",\"type\":\"GlyphRenderer\"},{\"id\":\"e263876c-3ff9-47a1-b0b4-599d7cf2caa6\",\"type\":\"LabelSet\"},{\"id\":\"58b2a6ef-032d-4734-bbd0-7754d1ad4ef7\",\"type\":\"GlyphRenderer\"},{\"id\":\"fa28d18b-266a-4ab8-85db-2bf0c3df6e7e\",\"type\":\"LabelSet\"}],\"title\":{\"id\":\"b037ed0b-3fc0-49d1-92a1-9e949674b52b\",\"type\":\"Title\"},\"tool_events\":{\"id\":\"2a36a049-7182-4ec5-b75c-ef935d6f54d8\",\"type\":\"ToolEvents\"},\"toolbar\":{\"id\":\"7df43ee2-f168-4cf2-a5d0-bb44f04ab668\",\"type\":\"Toolbar\"},\"toolbar_location\":null,\"x_range\":{\"id\":\"5eeffe65-2123-47ed-959c-feb12ab25905\",\"type\":\"Range1d\"},\"y_range\":{\"id\":\"635235d8-7404-44cb-9e3e-69630fcd8279\",\"type\":\"Range1d\"}},\"id\":\"dd2d9316-a432-4275-bcbf-9b0704c404be\",\"subtype\":\"Figure\",\"type\":\"Plot\"},{\"attributes\":{\"plot\":{\"id\":\"dd2d9316-a432-4275-bcbf-9b0704c404be\",\"subtype\":\"Figure\",\"type\":\"Plot\"}},\"id\":\"96212497-a22a-4323-bb67-89a75fe8030e\",\"type\":\"SaveTool\"},{\"attributes\":{\"callback\":null,\"column_names\":[\"y\",\"x\",\"vals\"],\"data\":{\"vals\":[\"RAB3GAP1\",\"ZRANB3\",\"R3HDM1\",\"UBXN4\",\"LCT\",\"MCM6\",\"DARS\"],\"x\":[135869057.0,136122878.0,136385961.0,136520911.0,136570082.5,136615621.5,136703738.0],\"y\":[560.0,560.0,560.0,560.0,560.0,560.0,560.0]}},\"id\":\"a557a4c6-40bd-489f-aa91-7d184480482f\",\"type\":\"ColumnDataSource\"},{\"attributes\":{},\"id\":\"6788d327-a82a-4d3b-a5ab-4f850865f123\",\"type\":\"BasicTickFormatter\"},{\"attributes\":{\"formatter\":{\"id\":\"6788d327-a82a-4d3b-a5ab-4f850865f123\",\"type\":\"BasicTickFormatter\"},\"plot\":{\"id\":\"dd2d9316-a432-4275-bcbf-9b0704c404be\",\"subtype\":\"Figure\",\"type\":\"Plot\"},\"ticker\":{\"id\":\"60f311b7-7f0a-4617-a78f-4cee44f0aae2\",\"type\":\"BasicTicker\"},\"visible\":null},\"id\":\"9b102314-e2f1-4b6b-9afd-1cb42b3067bb\",\"type\":\"LinearAxis\"},{\"attributes\":{\"callback\":null,\"end\":600},\"id\":\"635235d8-7404-44cb-9e3e-69630fcd8279\",\"type\":\"Range1d\"},{\"attributes\":{\"bottom\":{\"field\":\"bottom\"},\"fill_alpha\":{\"value\":0.1},\"fill_color\":{\"value\":\"#1f77b4\"},\"left\":{\"field\":\"left\"},\"line_alpha\":{\"value\":0.1},\"line_color\":{\"value\":\"#1f77b4\"},\"right\":{\"field\":\"right\"},\"top\":{\"field\":\"top\"}},\"id\":\"69cbb1c9-e41b-42f4-bd42-74d5ac3b46e5\",\"type\":\"Quad\"},{\"attributes\":{\"data_source\":{\"id\":\"6aec804a-998b-477c-b7b8-036aae469aa6\",\"type\":\"ColumnDataSource\"},\"glyph\":{\"id\":\"b6496a56-d912-4a92-89d5-585aa73ad04c\",\"type\":\"Quad\"},\"hover_glyph\":null,\"nonselection_glyph\":{\"id\":\"69cbb1c9-e41b-42f4-bd42-74d5ac3b46e5\",\"type\":\"Quad\"},\"selection_glyph\":null},\"id\":\"58b2a6ef-032d-4734-bbd0-7754d1ad4ef7\",\"type\":\"GlyphRenderer\"},{\"attributes\":{\"active_drag\":\"auto\",\"active_scroll\":\"auto\",\"active_tap\":\"auto\",\"tools\":[{\"id\":\"75bbad10-adca-4da1-af9c-4cba2f01bd2a\",\"type\":\"PanTool\"},{\"id\":\"38f07b6e-8564-4806-a272-943919238509\",\"type\":\"WheelZoomTool\"},{\"id\":\"043d0b80-c681-41f4-8ea8-4f89e2850d8b\",\"type\":\"BoxZoomTool\"},{\"id\":\"96212497-a22a-4323-bb67-89a75fe8030e\",\"type\":\"SaveTool\"},{\"id\":\"92a8a2ec-6cd5-4771-940a-ab9e0f8079fd\",\"type\":\"ResetTool\"},{\"id\":\"3fafc4d1-9570-4a77-a4bc-8ed3d5196ac6\",\"type\":\"HelpTool\"}]},\"id\":\"7df43ee2-f168-4cf2-a5d0-bb44f04ab668\",\"type\":\"Toolbar\"},{\"attributes\":{},\"id\":\"2a36a049-7182-4ec5-b75c-ef935d6f54d8\",\"type\":\"ToolEvents\"},{\"attributes\":{\"plot\":{\"id\":\"dd2d9316-a432-4275-bcbf-9b0704c404be\",\"subtype\":\"Figure\",\"type\":\"Plot\"},\"ticker\":{\"id\":\"ce709768-15ad-4ebf-8591-f4ec8fa46282\",\"type\":\"BasicTicker\"}},\"id\":\"ae931914-1efc-4fbd-afc1-ada8e8c32d7c\",\"type\":\"Grid\"},{\"attributes\":{\"dimension\":1,\"plot\":{\"id\":\"dd2d9316-a432-4275-bcbf-9b0704c404be\",\"subtype\":\"Figure\",\"type\":\"Plot\"},\"ticker\":{\"id\":\"60f311b7-7f0a-4617-a78f-4cee44f0aae2\",\"type\":\"BasicTicker\"}},\"id\":\"50ffcf69-8c48-45cb-badb-c95572d34e0f\",\"type\":\"Grid\"},{\"attributes\":{\"data_source\":{\"id\":\"21bc27d5-a4b4-442e-b984-763f2ebb03bc\",\"type\":\"ColumnDataSource\"},\"glyph\":{\"id\":\"824b06a6-de6b-4092-a6b6-4755fa0e6691\",\"type\":\"MultiLine\"},\"hover_glyph\":null,\"nonselection_glyph\":{\"id\":\"f7ce2e57-1658-4ec0-b524-6e3cb747a4c2\",\"type\":\"MultiLine\"},\"selection_glyph\":null},\"id\":\"11706288-5264-4172-af44-7713e33a3ef6\",\"type\":\"GlyphRenderer\"},{\"attributes\":{\"plot\":null,\"text\":null},\"id\":\"b037ed0b-3fc0-49d1-92a1-9e949674b52b\",\"type\":\"Title\"},{\"attributes\":{\"plot\":{\"id\":\"dd2d9316-a432-4275-bcbf-9b0704c404be\",\"subtype\":\"Figure\",\"type\":\"Plot\"}},\"id\":\"3fafc4d1-9570-4a77-a4bc-8ed3d5196ac6\",\"type\":\"HelpTool\"},{\"attributes\":{},\"id\":\"ce709768-15ad-4ebf-8591-f4ec8fa46282\",\"type\":\"BasicTicker\"},{\"attributes\":{},\"id\":\"2409f4ad-2ff3-43f9-8e3d-41f10763a0bb\",\"type\":\"BasicTickFormatter\"},{\"attributes\":{\"plot\":{\"id\":\"dd2d9316-a432-4275-bcbf-9b0704c404be\",\"subtype\":\"Figure\",\"type\":\"Plot\"}},\"id\":\"75bbad10-adca-4da1-af9c-4cba2f01bd2a\",\"type\":\"PanTool\"},{\"attributes\":{\"overlay\":{\"id\":\"8edb01b1-5c07-486b-ab3a-fb6ec9d77543\",\"type\":\"BoxAnnotation\"},\"plot\":{\"id\":\"dd2d9316-a432-4275-bcbf-9b0704c404be\",\"subtype\":\"Figure\",\"type\":\"Plot\"}},\"id\":\"043d0b80-c681-41f4-8ea8-4f89e2850d8b\",\"type\":\"BoxZoomTool\"},{\"attributes\":{\"level\":\"glyph\",\"plot\":{\"id\":\"dd2d9316-a432-4275-bcbf-9b0704c404be\",\"subtype\":\"Figure\",\"type\":\"Plot\"},\"source\":{\"id\":\"a557a4c6-40bd-489f-aa91-7d184480482f\",\"type\":\"ColumnDataSource\"},\"text\":{\"field\":\"vals\"},\"text_align\":\"center\",\"text_baseline\":\"middle\",\"text_font_size\":{\"value\":\"8pt\"},\"x\":{\"field\":\"x\"},\"y\":{\"field\":\"y\"}},\"id\":\"fa28d18b-266a-4ab8-85db-2bf0c3df6e7e\",\"type\":\"LabelSet\"},{\"attributes\":{\"callback\":null,\"column_names\":[\"xs\",\"ys\",\"line_color\"],\"data\":{\"line_color\":[\"black\",\"black\",\"black\",\"black\",\"black\",\"black\",\"black\",\"black\",\"black\",\"black\",\"black\",\"black\",\"black\",\"black\",\"black\",\"black\",\"black\",\"black\",\"black\",\"black\",\"black\",\"black\",\"black\",\"black\",\"black\",\"black\",\"black\",\"black\",\"black\",\"black\",\"black\",\"black\",\"black\",\"black\",\"black\",\"black\",\"black\",\"black\",\"black\",\"black\",\"black\",\"black\",\"black\",\"black\",\"black\",\"black\",\"black\",\"black\",\"black\",\"black\",\"black\",\"black\",\"black\",\"black\",\"black\",\"black\",\"black\",\"black\",\"black\",\"black\",\"black\",\"black\",\"black\",\"black\",\"black\",\"black\",\"black\",\"black\",\"black\",\"black\",\"black\",\"black\",\"black\",\"black\",\"black\",\"black\",\"black\",\"black\",\"black\",\"black\",\"black\",\"black\",\"black\",\"black\",\"black\",\"black\",\"black\",\"black\",\"black\",\"black\",\"black\",\"black\",\"black\",\"black\",\"black\",\"black\",\"black\",\"black\",\"black\",\"black\",\"black\",\"black\",\"black\",\"black\",\"black\",\"black\",\"black\",\"black\",\"black\",\"black\",\"black\",\"black\",\"black\",\"black\",\"black\",\"black\",\"black\",\"black\",\"black\",\"black\",\"black\",\"black\",\"black\",\"black\",\"black\",\"black\",\"black\",\"black\",\"black\",\"black\",\"black\",\"black\",\"black\",\"black\",\"black\",\"black\",\"black\",\"black\",\"black\",\"black\",\"black\",\"black\",\"black\",\"black\",\"black\"],\"xs\":[[135757320,135757320],[135761078,135761078],[135761271,135761271],[135762344,135762344],[135762980,135762980],[135763280,135763280],[135768815,135768815],[135769093,135769093],[135769127,135769127],[135770940,135770940],[135770951,135770951],[135776728,135776728],[135777504,135777504],[135771974,135771974],[135859371,135859371],[135877562,135877562],[136022798,136022798],[136058820,136058820],[136140304,136140304],[135837906,135837906],[135907088,135907088],[135954797,135954797],[136138627,136138627],[136176540,136176540],[136328890,136328890],[136381348,136381348],[136429366,136429366],[136608646,136608646],[136616754,136616754],[136707982,136707982],[135915358,135915358],[135954405,135954405],[135995073,135995073],[135995079,135995079],[136092061,136092061],[136273578,136273578],[136322676,136322676],[136407479,136407479],[136398174,136398174],[136402117,136402117],[136403749,136403749],[136409073,136409073],[136410299,136410299],[136413359,136413359],[136416855,136416855],[136416941,136416941],[136418348,136418348],[136419961,136419961],[136420690,136420690],[136422171,136422171],[136428460,136428460],[136430866,136430866],[136432103,136432103],[136437507,136437507],[136439090,136439090],[136439517,136439517],[136444123,136444123],[136445526,136445526],[136445869,136445869],[136455600,136455600],[136456642,136456642],[136462441,136462441],[136470714,136470714],[136474098,136474098],[136494186,136494186],[136495300,136495300],[136495619,136495619],[136499166,136499166],[136502792,136502792],[136503157,136503157],[136507039,136507039],[136511575,136511575],[136518103,136518103],[136521514,136521514],[136522675,136522675],[136522941,136522941],[136526981,136526981],[136535410,136535410],[136539122,136539122],[136544197,136544197],[136550109,136550109],[136551694,136551694],[136553188,136553188],[136553639,136553639],[136554800,136554800],[136557319,136557319],[136558157,136558157],[136569848,136569848],[136575199,136575199],[136576577,136576577],[136578536,136578536],[136580287,136580287],[136583192,136583192],[136586958,136586958],[136588478,136588478],[136589612,136589612],[136591178,136591178],[136591859,136591859],[136593760,136593760],[136594158,136594158],[136603276,136603276],[136603366,136603366],[136608231,136608231],[136609975,136609975],[136610598,136610598],[136611624,136611624],[136613780,136613780],[136614255,136614255],[136614813,136614813],[136617524,136617524],[136622216,136622216],[136625602,136625602],[136629911,136629911],[136630757,136630757],[136630989,136630989],[136631031,136631031],[136633771,136633771],[136636324,136636324],[136638216,136638216],[136640233,136640233],[136641882,136641882],[136643555,136643555],[136658345,136658345],[136670298,136670298],[136685228,136685228],[136696138,136696138],[136740900,136740900],[136765951,136765951],[136501840,136501840],[136505546,136505546],[136516748,136516748],[136522710,136522710],[136528004,136528004],[136539513,136539513],[136544752,136544752],[136546110,136546110],[136553529,136553529],[136555659,136555659],[136682274,136682274],[136691825,136691825],[136698098,136698098],[136721603,136721603],[136721995,136721995],[136755684,136755684],[136775898,136775898]],\"ys\":[[350,396],[350,396],[350,396],[350,396],[350,396],[350,396],[350,396],[350,396],[350,396],[350,396],[350,396],[350,396],[350,396],[250,295],[250,295],[250,295],[250,295],[250,295],[250,295],[50,89],[50,89],[50,89],[50,89],[50,89],[50,89],[50,89],[50,89],[50,89],[50,89],[50,89],[350,396],[350,396],[350,396],[350,396],[150,190],[150,190],[150,190],[150,190],[250,294],[250,294],[250,294],[250,294],[250,294],[250,294],[250,294],[250,294],[250,294],[250,294],[250,294],[250,294],[250,294],[250,294],[250,294],[250,294],[250,294],[250,294],[250,294],[250,294],[250,294],[250,294],[250,294],[250,294],[250,294],[250,294],[350,395],[350,395],[350,395],[350,395],[350,395],[350,395],[350,395],[350,395],[350,395],[350,395],[350,395],[350,395],[350,395],[350,395],[350,395],[350,395],[350,395],[350,395],[350,395],[350,395],[350,395],[350,395],[350,395],[350,395],[350,395],[350,395],[350,395],[350,395],[350,395],[350,395],[350,395],[350,395],[350,395],[350,395],[350,395],[350,395],[350,395],[350,395],[350,395],[350,395],[350,395],[350,395],[350,395],[350,395],[350,395],[350,395],[350,395],[350,395],[350,395],[350,395],[350,395],[350,395],[350,395],[350,395],[350,395],[350,395],[350,395],[350,395],[350,395],[350,395],[350,395],[350,395],[350,395],[350,395],[450,498],[450,498],[450,498],[450,498],[450,498],[450,498],[450,498],[450,498],[450,498],[450,498],[450,497],[450,497],[450,497],[450,497],[450,497],[450,497],[450,497]]}},\"id\":\"21bc27d5-a4b4-442e-b984-763f2ebb03bc\",\"type\":\"ColumnDataSource\"}],\"root_ids\":[\"dd2d9316-a432-4275-bcbf-9b0704c404be\"]},\"title\":\"Bokeh Application\",\"version\":\"0.12.0\"}};\n",
       "            var render_items = [{\"docid\":\"738fc949-bad2-4245-a067-b96fe8809e6c\",\"elementid\":\"7c320ba9-5d24-4501-8fff-c6598f18c7bd\",\"modelid\":\"dd2d9316-a432-4275-bcbf-9b0704c404be\",\"notebook_comms_target\":\"c004b695-855f-487c-8110-e0fe248d732e\"}];\n",
       "            \n",
       "            Bokeh.embed.embed_items(docs_json, render_items);\n",
       "        });\n",
       "      },\n",
       "      function(Bokeh) {\n",
       "      }\n",
       "    ];\n",
       "  \n",
       "    function run_inline_js() {\n",
       "      for (var i = 0; i < inline_js.length; i++) {\n",
       "        inline_js[i](window.Bokeh);\n",
       "      }\n",
       "    }\n",
       "  \n",
       "    if (window._bokeh_is_loading === 0) {\n",
       "      console.log(\"Bokeh: BokehJS loaded, going straight to plotting\");\n",
       "      run_inline_js();\n",
       "    } else {\n",
       "      load_libs(js_urls, function() {\n",
       "        console.log(\"Bokeh: BokehJS plotting callback run at\", now());\n",
       "        run_inline_js();\n",
       "      });\n",
       "    }\n",
       "  }(this));\n",
       "</script>"
      ]
     },
     "metadata": {},
     "output_type": "display_data"
    },
    {
     "data": {
      "text/html": [
       "<p><code>&lt;Bokeh Notebook handle for <strong>In[9]</strong>&gt;</code></p>"
      ],
      "text/plain": [
       "<bokeh.io._CommsHandle at 0x7f71f009ab90>"
      ]
     },
     "execution_count": 9,
     "metadata": {},
     "output_type": "execute_result"
    }
   ],
   "source": [
    "plt_obj = dm.superset_yes_no([dm.di_11_765, dm.di_4_911, dm.di_13_1696], min_match=0.001)\n",
    "plt = plt_obj.do_plot()\n",
    "show(plt)"
   ]
  },
  {
   "cell_type": "code",
   "execution_count": 10,
   "metadata": {
    "collapsed": false
   },
   "outputs": [
    {
     "data": {
      "text/html": [
       "<table>\n",
       "<thead><tr><th style=\"text-align:center\">index</th><th style=\"text-align:center\">first</th><th style=\"text-align:center\">length</th><th style=\"text-align:center\">snps</th><th style=\"text-align:center\" colspan=2>alleles</th><th style=\"text-align:center\" colspan=2>matches</th><th style=\"text-align:center\" colspan=2>afr</th><th style=\"text-align:center\" colspan=2>afx</th><th style=\"text-align:center\" colspan=2>amr</th><th style=\"text-align:center\" colspan=2>eas</th><th style=\"text-align:center\" colspan=2>eur</th><th style=\"text-align:center\" colspan=2>sas</th><th style=\"text-align:center\" colspan=2>sax</th></tr></thead>\n",
       "<tr class=\"even\"><td style=\"text-align: right;\">353921</td><td style=\"text-align: right;\">136,501,840</td><td style=\"text-align: right;\">53,819</td><td style=\"text-align: right;\">10</td><td style=\"text-align: right;\">2206</td><td style=\"text-align: right;\">0.00</td><td style=\"text-align: right;\">1</td><td style=\"text-align: right;\">1.00</td><td style=\"text-align: right;\">0</td><td style=\"text-align: right;\">0.00</td><td style=\"text-align: right;\">0</td><td style=\"text-align: right;\">0.00</td><td style=\"text-align: right;\">1</td><td style=\"text-align: right;\">7.22</td><td style=\"text-align: right;\">0</td><td style=\"text-align: right;\">0.00</td><td style=\"text-align: right;\">0</td><td style=\"text-align: right;\">0.00</td><td style=\"text-align: right;\">0</td><td style=\"text-align: right;\">0.00</td><td style=\"text-align: right;\">0</td><td style=\"text-align: right;\">0.00</td></tr>\n",
       "<tr><td style=\"text-align: right;\">354170</td><td style=\"text-align: right;\">136,682,274</td><td style=\"text-align: right;\">93,624</td><td style=\"text-align: right;\">7</td><td style=\"text-align: right;\">1868</td><td style=\"text-align: right;\">0.00</td><td style=\"text-align: right;\">1</td><td style=\"text-align: right;\">1.00</td><td style=\"text-align: right;\">0</td><td style=\"text-align: right;\">0.00</td><td style=\"text-align: right;\">0</td><td style=\"text-align: right;\">0.00</td><td style=\"text-align: right;\">1</td><td style=\"text-align: right;\">7.22</td><td style=\"text-align: right;\">0</td><td style=\"text-align: right;\">0.00</td><td style=\"text-align: right;\">0</td><td style=\"text-align: right;\">0.00</td><td style=\"text-align: right;\">0</td><td style=\"text-align: right;\">0.00</td><td style=\"text-align: right;\">0</td><td style=\"text-align: right;\">0.00</td></tr>\n",
       "<tr class=\"even\"><td style=\"text-align: right;\">353462</td><td style=\"text-align: right;\">135,915,358</td><td style=\"text-align: right;\">79,721</td><td style=\"text-align: right;\">4</td><td style=\"text-align: right;\">1699</td><td style=\"text-align: right;\">0.00</td><td style=\"text-align: right;\">1</td><td style=\"text-align: right;\">1.00</td><td style=\"text-align: right;\">0</td><td style=\"text-align: right;\">0.00</td><td style=\"text-align: right;\">0</td><td style=\"text-align: right;\">0.00</td><td style=\"text-align: right;\">1</td><td style=\"text-align: right;\">7.22</td><td style=\"text-align: right;\">0</td><td style=\"text-align: right;\">0.00</td><td style=\"text-align: right;\">0</td><td style=\"text-align: right;\">0.00</td><td style=\"text-align: right;\">0</td><td style=\"text-align: right;\">0.00</td><td style=\"text-align: right;\">0</td><td style=\"text-align: right;\">0.00</td></tr>\n",
       "<tr><td style=\"text-align: right;\">353240</td><td style=\"text-align: right;\">135,757,320</td><td style=\"text-align: right;\">20,184</td><td style=\"text-align: right;\">13</td><td style=\"text-align: right;\">1696</td><td style=\"text-align: right;\">0.00</td><td style=\"text-align: right;\">1</td><td style=\"text-align: right;\">1.00</td><td style=\"text-align: right;\">0</td><td style=\"text-align: right;\">0.00</td><td style=\"text-align: right;\">0</td><td style=\"text-align: right;\">0.00</td><td style=\"text-align: right;\">1</td><td style=\"text-align: right;\">7.22</td><td style=\"text-align: right;\">0</td><td style=\"text-align: right;\">0.00</td><td style=\"text-align: right;\">0</td><td style=\"text-align: right;\">0.00</td><td style=\"text-align: right;\">0</td><td style=\"text-align: right;\">0.00</td><td style=\"text-align: right;\">0</td><td style=\"text-align: right;\">0.00</td></tr>\n",
       "<tr class=\"even\"><td style=\"text-align: right;\">353901</td><td style=\"text-align: right;\">136,494,186</td><td style=\"text-align: right;\">271,765</td><td style=\"text-align: right;\">64</td><td style=\"text-align: right;\">1575</td><td style=\"text-align: right;\">0.00</td><td style=\"text-align: right;\">1</td><td style=\"text-align: right;\">1.00</td><td style=\"text-align: right;\">0</td><td style=\"text-align: right;\">0.00</td><td style=\"text-align: right;\">0</td><td style=\"text-align: right;\">0.00</td><td style=\"text-align: right;\">1</td><td style=\"text-align: right;\">7.22</td><td style=\"text-align: right;\">0</td><td style=\"text-align: right;\">0.00</td><td style=\"text-align: right;\">0</td><td style=\"text-align: right;\">0.00</td><td style=\"text-align: right;\">0</td><td style=\"text-align: right;\">0.00</td><td style=\"text-align: right;\">0</td><td style=\"text-align: right;\">0.00</td></tr>\n",
       "<tr><td style=\"text-align: right;\">353283</td><td style=\"text-align: right;\">135,771,974</td><td style=\"text-align: right;\">368,330</td><td style=\"text-align: right;\">6</td><td style=\"text-align: right;\">1503</td><td style=\"text-align: right;\">0.00</td><td style=\"text-align: right;\">1</td><td style=\"text-align: right;\">1.00</td><td style=\"text-align: right;\">0</td><td style=\"text-align: right;\">0.00</td><td style=\"text-align: right;\">0</td><td style=\"text-align: right;\">0.00</td><td style=\"text-align: right;\">1</td><td style=\"text-align: right;\">7.22</td><td style=\"text-align: right;\">0</td><td style=\"text-align: right;\">0.00</td><td style=\"text-align: right;\">0</td><td style=\"text-align: right;\">0.00</td><td style=\"text-align: right;\">0</td><td style=\"text-align: right;\">0.00</td><td style=\"text-align: right;\">0</td><td style=\"text-align: right;\">0.00</td></tr>\n",
       "<tr class=\"even\"><td style=\"text-align: right;\">353797</td><td style=\"text-align: right;\">136,398,174</td><td style=\"text-align: right;\">75,924</td><td style=\"text-align: right;\">26</td><td style=\"text-align: right;\">1414</td><td style=\"text-align: right;\">0.00</td><td style=\"text-align: right;\">1</td><td style=\"text-align: right;\">1.00</td><td style=\"text-align: right;\">0</td><td style=\"text-align: right;\">0.00</td><td style=\"text-align: right;\">0</td><td style=\"text-align: right;\">0.00</td><td style=\"text-align: right;\">1</td><td style=\"text-align: right;\">7.22</td><td style=\"text-align: right;\">0</td><td style=\"text-align: right;\">0.00</td><td style=\"text-align: right;\">0</td><td style=\"text-align: right;\">0.00</td><td style=\"text-align: right;\">0</td><td style=\"text-align: right;\">0.00</td><td style=\"text-align: right;\">0</td><td style=\"text-align: right;\">0.00</td></tr>\n",
       "<tr><td style=\"text-align: right;\">353604</td><td style=\"text-align: right;\">136,092,061</td><td style=\"text-align: right;\">315,418</td><td style=\"text-align: right;\">4</td><td style=\"text-align: right;\">911</td><td style=\"text-align: right;\">0.00</td><td style=\"text-align: right;\">1</td><td style=\"text-align: right;\">1.00</td><td style=\"text-align: right;\">0</td><td style=\"text-align: right;\">0.00</td><td style=\"text-align: right;\">0</td><td style=\"text-align: right;\">0.00</td><td style=\"text-align: right;\">1</td><td style=\"text-align: right;\">7.22</td><td style=\"text-align: right;\">0</td><td style=\"text-align: right;\">0.00</td><td style=\"text-align: right;\">0</td><td style=\"text-align: right;\">0.00</td><td style=\"text-align: right;\">0</td><td style=\"text-align: right;\">0.00</td><td style=\"text-align: right;\">0</td><td style=\"text-align: right;\">0.00</td></tr>\n",
       "<tr class=\"even\"><td style=\"text-align: right;\">353380</td><td style=\"text-align: right;\">135,837,906</td><td style=\"text-align: right;\">870,076</td><td style=\"text-align: right;\">11</td><td style=\"text-align: right;\">765</td><td style=\"text-align: right;\">0.00</td><td style=\"text-align: right;\">1</td><td style=\"text-align: right;\">1.00</td><td style=\"text-align: right;\">0</td><td style=\"text-align: right;\">0.00</td><td style=\"text-align: right;\">0</td><td style=\"text-align: right;\">0.00</td><td style=\"text-align: right;\">1</td><td style=\"text-align: right;\">7.22</td><td style=\"text-align: right;\">0</td><td style=\"text-align: right;\">0.00</td><td style=\"text-align: right;\">0</td><td style=\"text-align: right;\">0.00</td><td style=\"text-align: right;\">0</td><td style=\"text-align: right;\">0.00</td><td style=\"text-align: right;\">0</td><td style=\"text-align: right;\">0.00</td></tr>\n",
       "</table>"
      ],
      "text/plain": [
       "<IPython.core.display.HTML object>"
      ]
     },
     "execution_count": 10,
     "metadata": {},
     "output_type": "execute_result"
    }
   ],
   "source": [
    "HTML(plt_obj.get_html())"
   ]
  },
  {
   "cell_type": "code",
   "execution_count": 11,
   "metadata": {
    "collapsed": false
   },
   "outputs": [
    {
     "data": {
      "text/html": [
       "\n",
       "\n",
       "    <div class=\"bk-root\">\n",
       "        <div class=\"plotdiv\" id=\"284e66b4-fa91-4c20-baf4-aa89a86c50fe\"></div>\n",
       "    </div>\n",
       "<script type=\"text/javascript\">\n",
       "  \n",
       "  (function(global) {\n",
       "    function now() {\n",
       "      return new Date();\n",
       "    }\n",
       "  \n",
       "    if (typeof (window._bokeh_onload_callbacks) === \"undefined\") {\n",
       "      window._bokeh_onload_callbacks = [];\n",
       "    }\n",
       "  \n",
       "    function run_callbacks() {\n",
       "      window._bokeh_onload_callbacks.forEach(function(callback) { callback() });\n",
       "      delete window._bokeh_onload_callbacks\n",
       "      console.info(\"Bokeh: all callbacks have finished\");\n",
       "    }\n",
       "  \n",
       "    function load_libs(js_urls, callback) {\n",
       "      window._bokeh_onload_callbacks.push(callback);\n",
       "      if (window._bokeh_is_loading > 0) {\n",
       "        console.log(\"Bokeh: BokehJS is being loaded, scheduling callback at\", now());\n",
       "        return null;\n",
       "      }\n",
       "      if (js_urls == null || js_urls.length === 0) {\n",
       "        run_callbacks();\n",
       "        return null;\n",
       "      }\n",
       "      console.log(\"Bokeh: BokehJS not loaded, scheduling load and callback at\", now());\n",
       "      window._bokeh_is_loading = js_urls.length;\n",
       "      for (var i = 0; i < js_urls.length; i++) {\n",
       "        var url = js_urls[i];\n",
       "        var s = document.createElement('script');\n",
       "        s.src = url;\n",
       "        s.async = false;\n",
       "        s.onreadystatechange = s.onload = function() {\n",
       "          window._bokeh_is_loading--;\n",
       "          if (window._bokeh_is_loading === 0) {\n",
       "            console.log(\"Bokeh: all BokehJS libraries loaded\");\n",
       "            run_callbacks()\n",
       "          }\n",
       "        };\n",
       "        s.onerror = function() {\n",
       "          console.warn(\"failed to load library \" + url);\n",
       "        };\n",
       "        console.log(\"Bokeh: injecting script tag for BokehJS library: \", url);\n",
       "        document.getElementsByTagName(\"head\")[0].appendChild(s);\n",
       "      }\n",
       "    };var element = document.getElementById(\"284e66b4-fa91-4c20-baf4-aa89a86c50fe\");\n",
       "    if (element == null) {\n",
       "      console.log(\"Bokeh: ERROR: autoload.js configured with elementid '284e66b4-fa91-4c20-baf4-aa89a86c50fe' but no matching script tag was found. \")\n",
       "      return false;\n",
       "    }\n",
       "  \n",
       "    var js_urls = [];\n",
       "  \n",
       "    var inline_js = [\n",
       "      function(Bokeh) {\n",
       "        Bokeh.$(function() {\n",
       "            var docs_json = {\"862b13a0-6f54-44f9-810a-2a3fbc5b69c0\":{\"roots\":{\"references\":[{\"attributes\":{\"plot\":{\"id\":\"db08ffd2-e188-4c8b-b6d6-e5383bfaade0\",\"subtype\":\"Figure\",\"type\":\"Plot\"}},\"id\":\"097cac93-8c78-40f3-9cc5-00d3f02ac2f7\",\"type\":\"ResetTool\"},{\"attributes\":{\"plot\":{\"id\":\"db08ffd2-e188-4c8b-b6d6-e5383bfaade0\",\"subtype\":\"Figure\",\"type\":\"Plot\"}},\"id\":\"ecc98fee-e3ad-4101-83a2-c1e9eb1a9aa2\",\"type\":\"WheelZoomTool\"},{\"attributes\":{\"data_source\":{\"id\":\"c4f9bc71-7b89-4332-b834-eb037b652a08\",\"type\":\"ColumnDataSource\"},\"glyph\":{\"id\":\"e1b4028d-d219-4f7a-893e-69ba5de23b38\",\"type\":\"Quad\"},\"hover_glyph\":null,\"nonselection_glyph\":{\"id\":\"5a565495-81cc-454e-a462-1e0297f6e2ce\",\"type\":\"Quad\"},\"selection_glyph\":null},\"id\":\"ae857357-0c72-48ea-92ff-5abd6e82c4cc\",\"type\":\"GlyphRenderer\"},{\"attributes\":{\"bottom\":{\"field\":\"bottom\"},\"fill_color\":{\"field\":\"fill_color\"},\"left\":{\"field\":\"left\"},\"line_color\":{\"value\":null},\"right\":{\"field\":\"right\"},\"top\":{\"field\":\"top\"}},\"id\":\"ee825db7-e6be-4784-834a-bdbd4992047c\",\"type\":\"Quad\"},{\"attributes\":{\"below\":[{\"id\":\"0642402c-99ff-47c1-98b3-529d88d3ed11\",\"type\":\"LinearAxis\"}],\"left\":[{\"id\":\"20793ffd-fe65-401c-ad9d-5c8c441f6d6f\",\"type\":\"LinearAxis\"}],\"plot_height\":500,\"plot_width\":900,\"renderers\":[{\"id\":\"0642402c-99ff-47c1-98b3-529d88d3ed11\",\"type\":\"LinearAxis\"},{\"id\":\"8841f4de-a3f7-4996-a6df-a343cdb9f8b2\",\"type\":\"Grid\"},{\"id\":\"20793ffd-fe65-401c-ad9d-5c8c441f6d6f\",\"type\":\"LinearAxis\"},{\"id\":\"c2e1b920-8025-4398-aa06-4c36ef41fd50\",\"type\":\"Grid\"},{\"id\":\"eab86334-6065-4a7f-b1a0-9b40d474bdd2\",\"type\":\"BoxAnnotation\"},{\"id\":\"30ec65f9-a66d-461b-93cc-c25fc4ff05cf\",\"type\":\"GlyphRenderer\"},{\"id\":\"73f18233-2565-43de-a0fd-b03ab41c9702\",\"type\":\"GlyphRenderer\"},{\"id\":\"c0d05a34-3505-4d53-a242-fa52ba100bc7\",\"type\":\"LabelSet\"},{\"id\":\"ae857357-0c72-48ea-92ff-5abd6e82c4cc\",\"type\":\"GlyphRenderer\"},{\"id\":\"d5baa104-c9e8-4336-a224-9566f1fb1d95\",\"type\":\"LabelSet\"}],\"title\":{\"id\":\"0e3dc9b0-86cd-4417-a21b-e9906a878497\",\"type\":\"Title\"},\"tool_events\":{\"id\":\"58c23634-cd50-42a2-bcb1-c01427546bd0\",\"type\":\"ToolEvents\"},\"toolbar\":{\"id\":\"31e16c19-3e39-4b53-ab51-3b6c6665ed20\",\"type\":\"Toolbar\"},\"toolbar_location\":null,\"x_range\":{\"id\":\"9fbbb075-68ca-40ed-a3f5-753e8ea352ac\",\"type\":\"Range1d\"},\"y_range\":{\"id\":\"1712bb67-2163-45db-8bd5-c06931560432\",\"type\":\"Range1d\"}},\"id\":\"db08ffd2-e188-4c8b-b6d6-e5383bfaade0\",\"subtype\":\"Figure\",\"type\":\"Plot\"},{\"attributes\":{\"dimension\":1,\"plot\":{\"id\":\"db08ffd2-e188-4c8b-b6d6-e5383bfaade0\",\"subtype\":\"Figure\",\"type\":\"Plot\"},\"ticker\":{\"id\":\"e1cc7efe-9f8d-4c7f-84fe-b3458ef09929\",\"type\":\"BasicTicker\"}},\"id\":\"c2e1b920-8025-4398-aa06-4c36ef41fd50\",\"type\":\"Grid\"},{\"attributes\":{\"plot\":{\"id\":\"db08ffd2-e188-4c8b-b6d6-e5383bfaade0\",\"subtype\":\"Figure\",\"type\":\"Plot\"}},\"id\":\"6c43b734-bcfc-472f-8b0a-7e614c20409e\",\"type\":\"SaveTool\"},{\"attributes\":{\"callback\":null,\"column_names\":[\"y\",\"x\",\"vals\"],\"data\":{\"vals\":[\"6_1503\",\"11_765\",\"4_1699\",\"26_1414\",\"64_1575\",\"10_2206\",\"7_1868\"],\"x\":[135771974,135837906,135915358,136398174,136494186,136501840,136682274],\"y\":[200.0,94.0,301.0,199.0,300.0,403.0,402.0]}},\"id\":\"d273f4e2-5404-47ed-baa5-440c8071f92a\",\"type\":\"ColumnDataSource\"},{\"attributes\":{\"overlay\":{\"id\":\"eab86334-6065-4a7f-b1a0-9b40d474bdd2\",\"type\":\"BoxAnnotation\"},\"plot\":{\"id\":\"db08ffd2-e188-4c8b-b6d6-e5383bfaade0\",\"subtype\":\"Figure\",\"type\":\"Plot\"}},\"id\":\"6e1d7d7d-fdf5-4781-ab0f-1f6475eca91e\",\"type\":\"BoxZoomTool\"},{\"attributes\":{\"callback\":null,\"end\":500},\"id\":\"1712bb67-2163-45db-8bd5-c06931560432\",\"type\":\"Range1d\"},{\"attributes\":{\"callback\":null,\"end\":136786630,\"start\":135757320},\"id\":\"9fbbb075-68ca-40ed-a3f5-753e8ea352ac\",\"type\":\"Range1d\"},{\"attributes\":{\"line_alpha\":{\"value\":0.1},\"line_color\":{\"value\":\"#1f77b4\"},\"xs\":{\"field\":\"xs\"},\"ys\":{\"field\":\"ys\"}},\"id\":\"29364c60-1e9a-4e1f-aa8e-41439aa74e6e\",\"type\":\"MultiLine\"},{\"attributes\":{\"bottom\":{\"field\":\"bottom\"},\"fill_alpha\":{\"value\":0.1},\"fill_color\":{\"value\":\"#1f77b4\"},\"left\":{\"field\":\"left\"},\"line_alpha\":{\"value\":0.1},\"line_color\":{\"value\":\"#1f77b4\"},\"right\":{\"field\":\"right\"},\"top\":{\"field\":\"top\"}},\"id\":\"5a565495-81cc-454e-a462-1e0297f6e2ce\",\"type\":\"Quad\"},{\"attributes\":{\"bottom\":{\"field\":\"bottom\"},\"fill_alpha\":{\"value\":0.1},\"fill_color\":{\"value\":\"#1f77b4\"},\"left\":{\"field\":\"left\"},\"line_alpha\":{\"value\":0.1},\"line_color\":{\"value\":\"#1f77b4\"},\"right\":{\"field\":\"right\"},\"top\":{\"field\":\"top\"}},\"id\":\"c471a0c4-ac14-4c96-b40f-7a0cf885355b\",\"type\":\"Quad\"},{\"attributes\":{\"active_drag\":\"auto\",\"active_scroll\":\"auto\",\"active_tap\":\"auto\",\"tools\":[{\"id\":\"0269f55f-b0ab-4f5f-b51b-a03f06663ed6\",\"type\":\"PanTool\"},{\"id\":\"ecc98fee-e3ad-4101-83a2-c1e9eb1a9aa2\",\"type\":\"WheelZoomTool\"},{\"id\":\"6e1d7d7d-fdf5-4781-ab0f-1f6475eca91e\",\"type\":\"BoxZoomTool\"},{\"id\":\"6c43b734-bcfc-472f-8b0a-7e614c20409e\",\"type\":\"SaveTool\"},{\"id\":\"097cac93-8c78-40f3-9cc5-00d3f02ac2f7\",\"type\":\"ResetTool\"},{\"id\":\"8b98539a-cdd0-4845-ab85-099e46724d90\",\"type\":\"HelpTool\"}]},\"id\":\"31e16c19-3e39-4b53-ab51-3b6c6665ed20\",\"type\":\"Toolbar\"},{\"attributes\":{},\"id\":\"ae7d875f-b1ed-413e-9640-71502051e17b\",\"type\":\"BasicTicker\"},{\"attributes\":{},\"id\":\"dacd45aa-25bd-49ce-8b87-0d60f9978009\",\"type\":\"BasicTickFormatter\"},{\"attributes\":{\"callback\":null,\"column_names\":[\"right\",\"bottom\",\"top\",\"left\"],\"data\":{\"bottom\":[445,445,445,445,445,445,445],\"left\":[135809835,135957574,136289083,136499189,136545415,136597196,136664254],\"right\":[135928279,136288182,136482839,136542633,136594750,136634047,136743222],\"top\":[475,475,475,475,475,475,475]}},\"id\":\"c4f9bc71-7b89-4332-b834-eb037b652a08\",\"type\":\"ColumnDataSource\"},{\"attributes\":{\"plot\":{\"id\":\"db08ffd2-e188-4c8b-b6d6-e5383bfaade0\",\"subtype\":\"Figure\",\"type\":\"Plot\"},\"ticker\":{\"id\":\"ae7d875f-b1ed-413e-9640-71502051e17b\",\"type\":\"BasicTicker\"}},\"id\":\"8841f4de-a3f7-4996-a6df-a343cdb9f8b2\",\"type\":\"Grid\"},{\"attributes\":{\"bottom_units\":\"screen\",\"fill_alpha\":{\"value\":0.5},\"fill_color\":{\"value\":\"lightgrey\"},\"left_units\":\"screen\",\"level\":\"overlay\",\"line_alpha\":{\"value\":1.0},\"line_color\":{\"value\":\"black\"},\"line_dash\":[4,4],\"line_width\":{\"value\":2},\"plot\":null,\"render_mode\":\"css\",\"right_units\":\"screen\",\"top_units\":\"screen\"},\"id\":\"eab86334-6065-4a7f-b1a0-9b40d474bdd2\",\"type\":\"BoxAnnotation\"},{\"attributes\":{\"data_source\":{\"id\":\"81d7133d-92e2-4fba-8de0-0bdd514d0509\",\"type\":\"ColumnDataSource\"},\"glyph\":{\"id\":\"d9e48691-7da1-4819-ae0d-661cf0645c6f\",\"type\":\"MultiLine\"},\"hover_glyph\":null,\"nonselection_glyph\":{\"id\":\"29364c60-1e9a-4e1f-aa8e-41439aa74e6e\",\"type\":\"MultiLine\"},\"selection_glyph\":null},\"id\":\"73f18233-2565-43de-a0fd-b03ab41c9702\",\"type\":\"GlyphRenderer\"},{\"attributes\":{\"callback\":null,\"column_names\":[\"right\",\"bottom\",\"top\",\"left\",\"fill_color\"],\"data\":{\"bottom\":[150,50,250,150,250,350,350],\"fill_color\":[\"#61c461\",\"#00ff00\",\"#61c461\",\"#61c461\",\"#61c461\",\"#808080\",\"#61c461\"],\"left\":[135771974,135837906,135915358,136398174,136494186,136501840,136682274],\"right\":[136140304,136707982,135995079,136474098,136765951,136555659,136775898],\"top\":[195,89,296,194,295,398,397]}},\"id\":\"4c19da8a-ee56-400f-a52d-6190737bd065\",\"type\":\"ColumnDataSource\"},{\"attributes\":{\"plot\":{\"id\":\"db08ffd2-e188-4c8b-b6d6-e5383bfaade0\",\"subtype\":\"Figure\",\"type\":\"Plot\"}},\"id\":\"8b98539a-cdd0-4845-ab85-099e46724d90\",\"type\":\"HelpTool\"},{\"attributes\":{\"plot\":null,\"text\":null},\"id\":\"0e3dc9b0-86cd-4417-a21b-e9906a878497\",\"type\":\"Title\"},{\"attributes\":{\"callback\":null,\"column_names\":[\"xs\",\"ys\",\"line_color\"],\"data\":{\"line_color\":[\"black\",\"black\",\"black\",\"black\",\"black\",\"black\",\"black\",\"black\",\"black\",\"black\",\"black\",\"black\",\"black\",\"black\",\"black\",\"black\",\"black\",\"black\",\"black\",\"black\",\"black\",\"black\",\"black\",\"black\",\"black\",\"black\",\"black\",\"black\",\"black\",\"black\",\"black\",\"black\",\"black\",\"black\",\"black\",\"black\",\"black\",\"black\",\"black\",\"black\",\"black\",\"black\",\"black\",\"black\",\"black\",\"black\",\"black\",\"black\",\"black\",\"black\",\"black\",\"black\",\"black\",\"black\",\"black\",\"black\",\"black\",\"black\",\"black\",\"black\",\"black\",\"black\",\"black\",\"black\",\"black\",\"black\",\"black\",\"black\",\"black\",\"black\",\"black\",\"black\",\"black\",\"black\",\"black\",\"black\",\"black\",\"black\",\"black\",\"black\",\"black\",\"black\",\"black\",\"black\",\"black\",\"black\",\"black\",\"black\",\"black\",\"black\",\"black\",\"black\",\"black\",\"black\",\"black\",\"black\",\"black\",\"black\",\"black\",\"black\",\"black\",\"black\",\"black\",\"black\",\"black\",\"black\",\"black\",\"black\",\"black\",\"black\",\"black\",\"black\",\"black\",\"black\",\"black\",\"black\",\"black\",\"black\",\"black\",\"black\",\"black\",\"black\",\"black\",\"black\",\"black\",\"black\",\"black\",\"black\"],\"xs\":[[135771974,135771974],[135859371,135859371],[135877562,135877562],[136022798,136022798],[136058820,136058820],[136140304,136140304],[135837906,135837906],[135907088,135907088],[135954797,135954797],[136138627,136138627],[136176540,136176540],[136328890,136328890],[136381348,136381348],[136429366,136429366],[136608646,136608646],[136616754,136616754],[136707982,136707982],[135915358,135915358],[135954405,135954405],[135995073,135995073],[135995079,135995079],[136398174,136398174],[136402117,136402117],[136403749,136403749],[136409073,136409073],[136410299,136410299],[136413359,136413359],[136416855,136416855],[136416941,136416941],[136418348,136418348],[136419961,136419961],[136420690,136420690],[136422171,136422171],[136428460,136428460],[136430866,136430866],[136432103,136432103],[136437507,136437507],[136439090,136439090],[136439517,136439517],[136444123,136444123],[136445526,136445526],[136445869,136445869],[136455600,136455600],[136456642,136456642],[136462441,136462441],[136470714,136470714],[136474098,136474098],[136494186,136494186],[136495300,136495300],[136495619,136495619],[136499166,136499166],[136502792,136502792],[136503157,136503157],[136507039,136507039],[136511575,136511575],[136518103,136518103],[136521514,136521514],[136522675,136522675],[136522941,136522941],[136526981,136526981],[136535410,136535410],[136539122,136539122],[136544197,136544197],[136550109,136550109],[136551694,136551694],[136553188,136553188],[136553639,136553639],[136554800,136554800],[136557319,136557319],[136558157,136558157],[136569848,136569848],[136575199,136575199],[136576577,136576577],[136578536,136578536],[136580287,136580287],[136583192,136583192],[136586958,136586958],[136588478,136588478],[136589612,136589612],[136591178,136591178],[136591859,136591859],[136593760,136593760],[136594158,136594158],[136603276,136603276],[136603366,136603366],[136608231,136608231],[136609975,136609975],[136610598,136610598],[136611624,136611624],[136613780,136613780],[136614255,136614255],[136614813,136614813],[136617524,136617524],[136622216,136622216],[136625602,136625602],[136629911,136629911],[136630757,136630757],[136630989,136630989],[136631031,136631031],[136633771,136633771],[136636324,136636324],[136638216,136638216],[136640233,136640233],[136641882,136641882],[136643555,136643555],[136658345,136658345],[136670298,136670298],[136685228,136685228],[136696138,136696138],[136740900,136740900],[136765951,136765951],[136501840,136501840],[136505546,136505546],[136516748,136516748],[136522710,136522710],[136528004,136528004],[136539513,136539513],[136544752,136544752],[136546110,136546110],[136553529,136553529],[136555659,136555659],[136682274,136682274],[136691825,136691825],[136698098,136698098],[136721603,136721603],[136721995,136721995],[136755684,136755684],[136775898,136775898]],\"ys\":[[150,195],[150,195],[150,195],[150,195],[150,195],[150,195],[50,89],[50,89],[50,89],[50,89],[50,89],[50,89],[50,89],[50,89],[50,89],[50,89],[50,89],[250,296],[250,296],[250,296],[250,296],[150,194],[150,194],[150,194],[150,194],[150,194],[150,194],[150,194],[150,194],[150,194],[150,194],[150,194],[150,194],[150,194],[150,194],[150,194],[150,194],[150,194],[150,194],[150,194],[150,194],[150,194],[150,194],[150,194],[150,194],[150,194],[150,194],[250,295],[250,295],[250,295],[250,295],[250,295],[250,295],[250,295],[250,295],[250,295],[250,295],[250,295],[250,295],[250,295],[250,295],[250,295],[250,295],[250,295],[250,295],[250,295],[250,295],[250,295],[250,295],[250,295],[250,295],[250,295],[250,295],[250,295],[250,295],[250,295],[250,295],[250,295],[250,295],[250,295],[250,295],[250,295],[250,295],[250,295],[250,295],[250,295],[250,295],[250,295],[250,295],[250,295],[250,295],[250,295],[250,295],[250,295],[250,295],[250,295],[250,295],[250,295],[250,295],[250,295],[250,295],[250,295],[250,295],[250,295],[250,295],[250,295],[250,295],[250,295],[250,295],[250,295],[250,295],[350,398],[350,398],[350,398],[350,398],[350,398],[350,398],[350,398],[350,398],[350,398],[350,398],[350,397],[350,397],[350,397],[350,397],[350,397],[350,397],[350,397]]}},\"id\":\"81d7133d-92e2-4fba-8de0-0bdd514d0509\",\"type\":\"ColumnDataSource\"},{\"attributes\":{\"level\":\"glyph\",\"plot\":{\"id\":\"db08ffd2-e188-4c8b-b6d6-e5383bfaade0\",\"subtype\":\"Figure\",\"type\":\"Plot\"},\"source\":{\"id\":\"b9d5c930-a6ee-42eb-9707-e2441907d7b4\",\"type\":\"ColumnDataSource\"},\"text\":{\"field\":\"vals\"},\"text_align\":\"center\",\"text_baseline\":\"middle\",\"text_font_size\":{\"value\":\"8pt\"},\"x\":{\"field\":\"x\"},\"y\":{\"field\":\"y\"}},\"id\":\"d5baa104-c9e8-4336-a224-9566f1fb1d95\",\"type\":\"LabelSet\"},{\"attributes\":{\"plot\":{\"id\":\"db08ffd2-e188-4c8b-b6d6-e5383bfaade0\",\"subtype\":\"Figure\",\"type\":\"Plot\"}},\"id\":\"0269f55f-b0ab-4f5f-b51b-a03f06663ed6\",\"type\":\"PanTool\"},{\"attributes\":{\"formatter\":{\"id\":\"e2c03f9f-8007-4560-bcac-044bdf3f692e\",\"type\":\"BasicTickFormatter\"},\"plot\":{\"id\":\"db08ffd2-e188-4c8b-b6d6-e5383bfaade0\",\"subtype\":\"Figure\",\"type\":\"Plot\"},\"ticker\":{\"id\":\"ae7d875f-b1ed-413e-9640-71502051e17b\",\"type\":\"BasicTicker\"}},\"id\":\"0642402c-99ff-47c1-98b3-529d88d3ed11\",\"type\":\"LinearAxis\"},{\"attributes\":{\"line_color\":{\"field\":\"line_color\"},\"xs\":{\"field\":\"xs\"},\"ys\":{\"field\":\"ys\"}},\"id\":\"d9e48691-7da1-4819-ae0d-661cf0645c6f\",\"type\":\"MultiLine\"},{\"attributes\":{},\"id\":\"e2c03f9f-8007-4560-bcac-044bdf3f692e\",\"type\":\"BasicTickFormatter\"},{\"attributes\":{},\"id\":\"e1cc7efe-9f8d-4c7f-84fe-b3458ef09929\",\"type\":\"BasicTicker\"},{\"attributes\":{\"data_source\":{\"id\":\"4c19da8a-ee56-400f-a52d-6190737bd065\",\"type\":\"ColumnDataSource\"},\"glyph\":{\"id\":\"ee825db7-e6be-4784-834a-bdbd4992047c\",\"type\":\"Quad\"},\"hover_glyph\":null,\"nonselection_glyph\":{\"id\":\"c471a0c4-ac14-4c96-b40f-7a0cf885355b\",\"type\":\"Quad\"},\"selection_glyph\":null},\"id\":\"30ec65f9-a66d-461b-93cc-c25fc4ff05cf\",\"type\":\"GlyphRenderer\"},{\"attributes\":{\"formatter\":{\"id\":\"dacd45aa-25bd-49ce-8b87-0d60f9978009\",\"type\":\"BasicTickFormatter\"},\"plot\":{\"id\":\"db08ffd2-e188-4c8b-b6d6-e5383bfaade0\",\"subtype\":\"Figure\",\"type\":\"Plot\"},\"ticker\":{\"id\":\"e1cc7efe-9f8d-4c7f-84fe-b3458ef09929\",\"type\":\"BasicTicker\"},\"visible\":null},\"id\":\"20793ffd-fe65-401c-ad9d-5c8c441f6d6f\",\"type\":\"LinearAxis\"},{\"attributes\":{\"callback\":null,\"column_names\":[\"y\",\"x\",\"vals\"],\"data\":{\"vals\":[\"RAB3GAP1\",\"ZRANB3\",\"R3HDM1\",\"UBXN4\",\"LCT\",\"MCM6\",\"DARS\"],\"x\":[135869057.0,136122878.0,136385961.0,136520911.0,136570082.5,136615621.5,136703738.0],\"y\":[460.0,460.0,460.0,460.0,460.0,460.0,460.0]}},\"id\":\"b9d5c930-a6ee-42eb-9707-e2441907d7b4\",\"type\":\"ColumnDataSource\"},{\"attributes\":{\"level\":\"glyph\",\"plot\":{\"id\":\"db08ffd2-e188-4c8b-b6d6-e5383bfaade0\",\"subtype\":\"Figure\",\"type\":\"Plot\"},\"source\":{\"id\":\"d273f4e2-5404-47ed-baa5-440c8071f92a\",\"type\":\"ColumnDataSource\"},\"text\":{\"field\":\"vals\"},\"text_font_size\":{\"value\":\"9pt\"},\"text_font_style\":\"bold\",\"x\":{\"field\":\"x\"},\"y\":{\"field\":\"y\"}},\"id\":\"c0d05a34-3505-4d53-a242-fa52ba100bc7\",\"type\":\"LabelSet\"},{\"attributes\":{},\"id\":\"58c23634-cd50-42a2-bcb1-c01427546bd0\",\"type\":\"ToolEvents\"},{\"attributes\":{\"bottom\":{\"field\":\"bottom\"},\"fill_color\":{\"value\":\"white\"},\"left\":{\"field\":\"left\"},\"right\":{\"field\":\"right\"},\"top\":{\"field\":\"top\"}},\"id\":\"e1b4028d-d219-4f7a-893e-69ba5de23b38\",\"type\":\"Quad\"}],\"root_ids\":[\"db08ffd2-e188-4c8b-b6d6-e5383bfaade0\"]},\"title\":\"Bokeh Application\",\"version\":\"0.12.0\"}};\n",
       "            var render_items = [{\"docid\":\"862b13a0-6f54-44f9-810a-2a3fbc5b69c0\",\"elementid\":\"284e66b4-fa91-4c20-baf4-aa89a86c50fe\",\"modelid\":\"db08ffd2-e188-4c8b-b6d6-e5383bfaade0\",\"notebook_comms_target\":\"730b6b2e-f6ee-46c1-b676-e69cf445ebd5\"}];\n",
       "            \n",
       "            Bokeh.embed.embed_items(docs_json, render_items);\n",
       "        });\n",
       "      },\n",
       "      function(Bokeh) {\n",
       "      }\n",
       "    ];\n",
       "  \n",
       "    function run_inline_js() {\n",
       "      for (var i = 0; i < inline_js.length; i++) {\n",
       "        inline_js[i](window.Bokeh);\n",
       "      }\n",
       "    }\n",
       "  \n",
       "    if (window._bokeh_is_loading === 0) {\n",
       "      console.log(\"Bokeh: BokehJS loaded, going straight to plotting\");\n",
       "      run_inline_js();\n",
       "    } else {\n",
       "      load_libs(js_urls, function() {\n",
       "        console.log(\"Bokeh: BokehJS plotting callback run at\", now());\n",
       "        run_inline_js();\n",
       "      });\n",
       "    }\n",
       "  }(this));\n",
       "</script>"
      ]
     },
     "metadata": {},
     "output_type": "display_data"
    },
    {
     "data": {
      "text/html": [
       "<p><code>&lt;Bokeh Notebook handle for <strong>In[11]</strong>&gt;</code></p>"
      ],
      "text/plain": [
       "<bokeh.io._CommsHandle at 0x7f71ee1f1710>"
      ]
     },
     "execution_count": 11,
     "metadata": {},
     "output_type": "execute_result"
    }
   ],
   "source": [
    "plt_obj = dm.superset_yes_no([dm.di_11_765], [dm.di_4_911], min_match=0.001)\n",
    "plt = plt_obj.do_plot()\n",
    "show(plt)"
   ]
  },
  {
   "cell_type": "code",
   "execution_count": 12,
   "metadata": {
    "collapsed": false
   },
   "outputs": [
    {
     "data": {
      "text/html": [
       "<table>\n",
       "<thead><tr><th style=\"text-align:center\">index</th><th style=\"text-align:center\">first</th><th style=\"text-align:center\">length</th><th style=\"text-align:center\">snps</th><th style=\"text-align:center\" colspan=2>alleles</th><th style=\"text-align:center\" colspan=2>matches</th><th style=\"text-align:center\" colspan=2>afr</th><th style=\"text-align:center\" colspan=2>afx</th><th style=\"text-align:center\" colspan=2>amr</th><th style=\"text-align:center\" colspan=2>eas</th><th style=\"text-align:center\" colspan=2>eur</th><th style=\"text-align:center\" colspan=2>sas</th><th style=\"text-align:center\" colspan=2>sax</th></tr></thead>\n",
       "<tr class=\"even\"><td style=\"text-align: right;\">353921</td><td style=\"text-align: right;\">136,501,840</td><td style=\"text-align: right;\">53,819</td><td style=\"text-align: right;\">10</td><td style=\"text-align: right;\">2206</td><td style=\"text-align: right;\">0.00</td><td style=\"text-align: right;\">3</td><td style=\"text-align: right;\">1.00</td><td style=\"text-align: right;\">0</td><td style=\"text-align: right;\">0.00</td><td style=\"text-align: right;\">1</td><td style=\"text-align: right;\">4.83</td><td style=\"text-align: right;\">0</td><td style=\"text-align: right;\">0.00</td><td style=\"text-align: right;\">0</td><td style=\"text-align: right;\">0.00</td><td style=\"text-align: right;\">0</td><td style=\"text-align: right;\">0.00</td><td style=\"text-align: right;\">2</td><td style=\"text-align: right;\">9.32</td><td style=\"text-align: right;\">0</td><td style=\"text-align: right;\">0.00</td></tr>\n",
       "<tr><td style=\"text-align: right;\">354170</td><td style=\"text-align: right;\">136,682,274</td><td style=\"text-align: right;\">93,624</td><td style=\"text-align: right;\">7</td><td style=\"text-align: right;\">1868</td><td style=\"text-align: right;\">0.00</td><td style=\"text-align: right;\">3</td><td style=\"text-align: right;\">1.00</td><td style=\"text-align: right;\">0</td><td style=\"text-align: right;\">0.00</td><td style=\"text-align: right;\">1</td><td style=\"text-align: right;\">4.83</td><td style=\"text-align: right;\">0</td><td style=\"text-align: right;\">0.00</td><td style=\"text-align: right;\">0</td><td style=\"text-align: right;\">0.00</td><td style=\"text-align: right;\">0</td><td style=\"text-align: right;\">0.00</td><td style=\"text-align: right;\">2</td><td style=\"text-align: right;\">9.32</td><td style=\"text-align: right;\">0</td><td style=\"text-align: right;\">0.00</td></tr>\n",
       "<tr class=\"even\"><td style=\"text-align: right;\">353462</td><td style=\"text-align: right;\">135,915,358</td><td style=\"text-align: right;\">79,721</td><td style=\"text-align: right;\">4</td><td style=\"text-align: right;\">1699</td><td style=\"text-align: right;\">0.00</td><td style=\"text-align: right;\">3</td><td style=\"text-align: right;\">1.00</td><td style=\"text-align: right;\">0</td><td style=\"text-align: right;\">0.00</td><td style=\"text-align: right;\">1</td><td style=\"text-align: right;\">4.83</td><td style=\"text-align: right;\">0</td><td style=\"text-align: right;\">0.00</td><td style=\"text-align: right;\">0</td><td style=\"text-align: right;\">0.00</td><td style=\"text-align: right;\">0</td><td style=\"text-align: right;\">0.00</td><td style=\"text-align: right;\">2</td><td style=\"text-align: right;\">9.32</td><td style=\"text-align: right;\">0</td><td style=\"text-align: right;\">0.00</td></tr>\n",
       "<tr><td style=\"text-align: right;\">353901</td><td style=\"text-align: right;\">136,494,186</td><td style=\"text-align: right;\">271,765</td><td style=\"text-align: right;\">64</td><td style=\"text-align: right;\">1575</td><td style=\"text-align: right;\">0.00</td><td style=\"text-align: right;\">3</td><td style=\"text-align: right;\">1.00</td><td style=\"text-align: right;\">0</td><td style=\"text-align: right;\">0.00</td><td style=\"text-align: right;\">1</td><td style=\"text-align: right;\">4.83</td><td style=\"text-align: right;\">0</td><td style=\"text-align: right;\">0.00</td><td style=\"text-align: right;\">0</td><td style=\"text-align: right;\">0.00</td><td style=\"text-align: right;\">0</td><td style=\"text-align: right;\">0.00</td><td style=\"text-align: right;\">2</td><td style=\"text-align: right;\">9.32</td><td style=\"text-align: right;\">0</td><td style=\"text-align: right;\">0.00</td></tr>\n",
       "<tr class=\"even\"><td style=\"text-align: right;\">353283</td><td style=\"text-align: right;\">135,771,974</td><td style=\"text-align: right;\">368,330</td><td style=\"text-align: right;\">6</td><td style=\"text-align: right;\">1503</td><td style=\"text-align: right;\">0.00</td><td style=\"text-align: right;\">3</td><td style=\"text-align: right;\">1.00</td><td style=\"text-align: right;\">0</td><td style=\"text-align: right;\">0.00</td><td style=\"text-align: right;\">1</td><td style=\"text-align: right;\">4.83</td><td style=\"text-align: right;\">0</td><td style=\"text-align: right;\">0.00</td><td style=\"text-align: right;\">0</td><td style=\"text-align: right;\">0.00</td><td style=\"text-align: right;\">0</td><td style=\"text-align: right;\">0.00</td><td style=\"text-align: right;\">2</td><td style=\"text-align: right;\">9.32</td><td style=\"text-align: right;\">0</td><td style=\"text-align: right;\">0.00</td></tr>\n",
       "<tr><td style=\"text-align: right;\">353797</td><td style=\"text-align: right;\">136,398,174</td><td style=\"text-align: right;\">75,924</td><td style=\"text-align: right;\">26</td><td style=\"text-align: right;\">1414</td><td style=\"text-align: right;\">0.00</td><td style=\"text-align: right;\">3</td><td style=\"text-align: right;\">1.00</td><td style=\"text-align: right;\">0</td><td style=\"text-align: right;\">0.00</td><td style=\"text-align: right;\">1</td><td style=\"text-align: right;\">4.83</td><td style=\"text-align: right;\">0</td><td style=\"text-align: right;\">0.00</td><td style=\"text-align: right;\">0</td><td style=\"text-align: right;\">0.00</td><td style=\"text-align: right;\">0</td><td style=\"text-align: right;\">0.00</td><td style=\"text-align: right;\">2</td><td style=\"text-align: right;\">9.32</td><td style=\"text-align: right;\">0</td><td style=\"text-align: right;\">0.00</td></tr>\n",
       "<tr class=\"even\"><td style=\"text-align: right;\">353380</td><td style=\"text-align: right;\">135,837,906</td><td style=\"text-align: right;\">870,076</td><td style=\"text-align: right;\">11</td><td style=\"text-align: right;\">765</td><td style=\"text-align: right;\">0.00</td><td style=\"text-align: right;\">3</td><td style=\"text-align: right;\">1.00</td><td style=\"text-align: right;\">0</td><td style=\"text-align: right;\">0.00</td><td style=\"text-align: right;\">1</td><td style=\"text-align: right;\">4.83</td><td style=\"text-align: right;\">0</td><td style=\"text-align: right;\">0.00</td><td style=\"text-align: right;\">0</td><td style=\"text-align: right;\">0.00</td><td style=\"text-align: right;\">0</td><td style=\"text-align: right;\">0.00</td><td style=\"text-align: right;\">2</td><td style=\"text-align: right;\">9.32</td><td style=\"text-align: right;\">0</td><td style=\"text-align: right;\">0.00</td></tr>\n",
       "</table>"
      ],
      "text/plain": [
       "<IPython.core.display.HTML object>"
      ]
     },
     "execution_count": 12,
     "metadata": {},
     "output_type": "execute_result"
    }
   ],
   "source": [
    "HTML(plt_obj.get_html())"
   ]
  }
 ],
 "metadata": {
  "kernelspec": {
   "display_name": "Python [Root]",
   "language": "python",
   "name": "Python [Root]"
  },
  "language_info": {
   "codemirror_mode": {
    "name": "ipython",
    "version": 2
   },
   "file_extension": ".py",
   "mimetype": "text/x-python",
   "name": "python",
   "nbconvert_exporter": "python",
   "pygments_lexer": "ipython2",
   "version": "2.7.12"
  }
 },
 "nbformat": 4,
 "nbformat_minor": 0
}
