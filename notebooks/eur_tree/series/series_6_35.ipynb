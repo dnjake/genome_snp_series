{
 "cells": [
  {
   "cell_type": "code",
   "execution_count": 1,
   "metadata": {
    "collapsed": false
   },
   "outputs": [
    {
     "data": {
      "text/html": []
     },
     "metadata": {},
     "output_type": "display_data"
    },
    {
     "data": {
      "application/javascript": [
       "\n",
       "(function(global) {\n",
       "  function now() {\n",
       "    return new Date();\n",
       "  }\n",
       "\n",
       "  if (typeof (window._bokeh_onload_callbacks) === \"undefined\") {\n",
       "    window._bokeh_onload_callbacks = [];\n",
       "  }\n",
       "\n",
       "  function run_callbacks() {\n",
       "    window._bokeh_onload_callbacks.forEach(function(callback) { callback() });\n",
       "    delete window._bokeh_onload_callbacks\n",
       "    console.info(\"Bokeh: all callbacks have finished\");\n",
       "  }\n",
       "\n",
       "  function load_libs(js_urls, callback) {\n",
       "    window._bokeh_onload_callbacks.push(callback);\n",
       "    if (window._bokeh_is_loading > 0) {\n",
       "      console.log(\"Bokeh: BokehJS is being loaded, scheduling callback at\", now());\n",
       "      return null;\n",
       "    }\n",
       "    if (js_urls == null || js_urls.length === 0) {\n",
       "      run_callbacks();\n",
       "      return null;\n",
       "    }\n",
       "    console.log(\"Bokeh: BokehJS not loaded, scheduling load and callback at\", now());\n",
       "    window._bokeh_is_loading = js_urls.length;\n",
       "    for (var i = 0; i < js_urls.length; i++) {\n",
       "      var url = js_urls[i];\n",
       "      var s = document.createElement('script');\n",
       "      s.src = url;\n",
       "      s.async = false;\n",
       "      s.onreadystatechange = s.onload = function() {\n",
       "        window._bokeh_is_loading--;\n",
       "        if (window._bokeh_is_loading === 0) {\n",
       "          console.log(\"Bokeh: all BokehJS libraries loaded\");\n",
       "          run_callbacks()\n",
       "        }\n",
       "      };\n",
       "      s.onerror = function() {\n",
       "        console.warn(\"failed to load library \" + url);\n",
       "      };\n",
       "      console.log(\"Bokeh: injecting script tag for BokehJS library: \", url);\n",
       "      document.getElementsByTagName(\"head\")[0].appendChild(s);\n",
       "    }\n",
       "  };\n",
       "\n",
       "  var js_urls = ['https://cdn.pydata.org/bokeh/release/bokeh-0.12.0.min.js', 'https://cdn.pydata.org/bokeh/release/bokeh-widgets-0.12.0.min.js', 'https://cdn.pydata.org/bokeh/release/bokeh-compiler-0.12.0.min.js'];\n",
       "\n",
       "  var inline_js = [\n",
       "    function(Bokeh) {\n",
       "      Bokeh.set_log_level(\"info\");\n",
       "    },\n",
       "    \n",
       "    function(Bokeh) {\n",
       "      Bokeh.$(\"#e99846e8-337f-4fde-929b-b814c5db4561\").text(\"BokehJS successfully loaded\");\n",
       "    },\n",
       "    function(Bokeh) {\n",
       "      console.log(\"Bokeh: injecting CSS: https://cdn.pydata.org/bokeh/release/bokeh-0.12.0.min.css\");\n",
       "      Bokeh.embed.inject_css(\"https://cdn.pydata.org/bokeh/release/bokeh-0.12.0.min.css\");\n",
       "      console.log(\"Bokeh: injecting CSS: https://cdn.pydata.org/bokeh/release/bokeh-widgets-0.12.0.min.css\");\n",
       "      Bokeh.embed.inject_css(\"https://cdn.pydata.org/bokeh/release/bokeh-widgets-0.12.0.min.css\");\n",
       "    }\n",
       "  ];\n",
       "\n",
       "  function run_inline_js() {\n",
       "    for (var i = 0; i < inline_js.length; i++) {\n",
       "      inline_js[i](window.Bokeh);\n",
       "    }\n",
       "  }\n",
       "\n",
       "  if (window._bokeh_is_loading === 0) {\n",
       "    console.log(\"Bokeh: BokehJS loaded, going straight to plotting\");\n",
       "    run_inline_js();\n",
       "  } else {\n",
       "    load_libs(js_urls, function() {\n",
       "      console.log(\"Bokeh: BokehJS plotting callback run at\", now());\n",
       "      run_inline_js();\n",
       "    });\n",
       "  }\n",
       "}(this));"
      ]
     },
     "metadata": {},
     "output_type": "display_data"
    }
   ],
   "source": [
    "import numpy as np\n",
    "from IPython.display import HTML\n",
    "from bokeh.plotting import output_notebook, show\n",
    "import genomes_dnj.lct_interval.series_plots as dm\n",
    "import genomes_dnj.lct_interval.anal_series as an\n",
    "import genomes_dnj.lct_interval_snp_anal.lct_interval_snp_anal as snp_anal\n",
    "import genomes_dnj.lct_interval.series_masks as sm\n",
    "output_notebook(hide_banner=True)\n",
    "di_6_35 = 353407\n",
    "sa_6_35 = snp_anal.series_anal_cls(di_6_35, sm.series_data)\n",
    "sa_64_1575 = snp_anal.series_anal_cls(dm.di_64_1575, sm.series_data)"
   ]
  },
  {
   "cell_type": "markdown",
   "metadata": {},
   "source": [
    "<h3>Series 6_35</h3>\n",
    "<div style=\"width:700px\">\n",
    "<p>\n",
    "This notebook documents the series 6_35 and its 6 SNPs.  The 1000 genomes data includes\n",
    "4965 samples that express none of its 6 SNPs and 35 samples that express all 6 of them.\n",
    "The 6 SNP series covers almost  122,000 DNA bases.  The series 6_35 is over expressed\n",
    "in American and European populations.  It is not expressed by any samples from East\n",
    "Asian populations.\n",
    "<p>\n",
    "The 35 samples that express 6_35 include 29 that express it in association with all of the\n",
    "series that are part of the EUR tree root and no other series.\n",
    "<p>\n",
    "This notebook shows the recombination event generated series associations expressed by the\n",
    "other 6 samples.\n",
    "</div>"
   ]
  },
  {
   "cell_type": "code",
   "execution_count": 2,
   "metadata": {
    "collapsed": false
   },
   "outputs": [
    {
     "data": {
      "text/html": [
       "<p>\n",
       "<b>6_35 series</b>\n",
       "</p><p>\n",
       "<table>\n",
       "<thead><tr><th style=\"text-align:center\">index</th><th style=\"text-align:center\">first</th><th style=\"text-align:center\">length</th><th style=\"text-align:center\">snps</th><th style=\"text-align:center\">alleles</th><th style=\"text-align:center\" colspan=2>afr</th><th style=\"text-align:center\" colspan=2>afx</th><th style=\"text-align:center\" colspan=2>amr</th><th style=\"text-align:center\" colspan=2>eas</th><th style=\"text-align:center\" colspan=2>eur</th><th style=\"text-align:center\" colspan=2>sas</th><th style=\"text-align:center\" colspan=2>sax</th></tr></thead>\n",
       "<tr class=\"even\"><td style=\"text-align: right;\">353407</td><td style=\"text-align: right;\">135,859,157</td><td style=\"text-align: right;\">121,781</td><td style=\"text-align: right;\">6</td><td style=\"text-align: right;\">35</td><td style=\"text-align: right;\">1</td><td style=\"text-align: right;\">0.14</td><td style=\"text-align: right;\">1</td><td style=\"text-align: right;\">0.46</td><td style=\"text-align: right;\">13</td><td style=\"text-align: right;\">2.68</td><td style=\"text-align: right;\">0</td><td style=\"text-align: right;\">0.00</td><td style=\"text-align: right;\">17</td><td style=\"text-align: right;\">2.42</td><td style=\"text-align: right;\">2</td><td style=\"text-align: right;\">0.79</td><td style=\"text-align: right;\">1</td><td style=\"text-align: right;\">0.23</td></tr>\n",
       "</table>\n",
       "</p>\n",
       "<p>\n",
       "<b>6_35 series snps</b>\n",
       "</p><p>\n",
       "<table>\n",
       "<thead><tr><th style=\"text-align:center\">index</th><th style=\"text-align:center\">pos</th><th style=\"text-align:center\">id</th><th style=\"text-align:center\">niv</th><th style=\"text-align:center\">alleles</th><th style=\"text-align:center\" colspan=2>afr</th><th style=\"text-align:center\" colspan=2>afx</th><th style=\"text-align:center\" colspan=2>amr</th><th style=\"text-align:center\" colspan=2>eas</th><th style=\"text-align:center\" colspan=2>eur</th><th style=\"text-align:center\" colspan=2>sas</th><th style=\"text-align:center\" colspan=2>sax</th></tr></thead>\n",
       "<tr class=\"even\"><td style=\"text-align: right;\">875540</td><td style=\"text-align: right;\">135,859,157</td><td>rs76628122</td><td>0</td><td style=\"text-align: right;\">39</td><td style=\"text-align: right;\">1</td><td style=\"text-align: right;\">0.13</td><td style=\"text-align: right;\">1</td><td style=\"text-align: right;\">0.41</td><td style=\"text-align: right;\">15</td><td style=\"text-align: right;\">2.78</td><td style=\"text-align: right;\">0</td><td style=\"text-align: right;\">0.00</td><td style=\"text-align: right;\">19</td><td style=\"text-align: right;\">2.43</td><td style=\"text-align: right;\">2</td><td style=\"text-align: right;\">0.71</td><td style=\"text-align: right;\">1</td><td style=\"text-align: right;\">0.21</td></tr>\n",
       "<tr><td style=\"text-align: right;\">875627</td><td style=\"text-align: right;\">135,873,466</td><td>rs74666785</td><td>0</td><td style=\"text-align: right;\">39</td><td style=\"text-align: right;\">1</td><td style=\"text-align: right;\">0.13</td><td style=\"text-align: right;\">1</td><td style=\"text-align: right;\">0.41</td><td style=\"text-align: right;\">15</td><td style=\"text-align: right;\">2.78</td><td style=\"text-align: right;\">0</td><td style=\"text-align: right;\">0.00</td><td style=\"text-align: right;\">19</td><td style=\"text-align: right;\">2.43</td><td style=\"text-align: right;\">2</td><td style=\"text-align: right;\">0.71</td><td style=\"text-align: right;\">1</td><td style=\"text-align: right;\">0.21</td></tr>\n",
       "<tr class=\"even\"><td style=\"text-align: right;\">875840</td><td style=\"text-align: right;\">135,925,411</td><td>rs77800947</td><td>0</td><td style=\"text-align: right;\">36</td><td style=\"text-align: right;\">1</td><td style=\"text-align: right;\">0.14</td><td style=\"text-align: right;\">1</td><td style=\"text-align: right;\">0.44</td><td style=\"text-align: right;\">13</td><td style=\"text-align: right;\">2.61</td><td style=\"text-align: right;\">0</td><td style=\"text-align: right;\">0.00</td><td style=\"text-align: right;\">18</td><td style=\"text-align: right;\">2.49</td><td style=\"text-align: right;\">2</td><td style=\"text-align: right;\">0.76</td><td style=\"text-align: right;\">1</td><td style=\"text-align: right;\">0.23</td></tr>\n",
       "<tr><td style=\"text-align: right;\">875976</td><td style=\"text-align: right;\">135,954,198</td><td>rs190538420</td><td>0</td><td style=\"text-align: right;\">40</td><td style=\"text-align: right;\">1</td><td style=\"text-align: right;\">0.12</td><td style=\"text-align: right;\">1</td><td style=\"text-align: right;\">0.40</td><td style=\"text-align: right;\">16</td><td style=\"text-align: right;\">2.89</td><td style=\"text-align: right;\">0</td><td style=\"text-align: right;\">0.00</td><td style=\"text-align: right;\">19</td><td style=\"text-align: right;\">2.36</td><td style=\"text-align: right;\">2</td><td style=\"text-align: right;\">0.69</td><td style=\"text-align: right;\">1</td><td style=\"text-align: right;\">0.20</td></tr>\n",
       "<tr class=\"even\"><td style=\"text-align: right;\">876065</td><td style=\"text-align: right;\">135,973,399</td><td>rs145290509</td><td>0</td><td style=\"text-align: right;\">39</td><td style=\"text-align: right;\">1</td><td style=\"text-align: right;\">0.13</td><td style=\"text-align: right;\">1</td><td style=\"text-align: right;\">0.41</td><td style=\"text-align: right;\">14</td><td style=\"text-align: right;\">2.59</td><td style=\"text-align: right;\">0</td><td style=\"text-align: right;\">0.00</td><td style=\"text-align: right;\">20</td><td style=\"text-align: right;\">2.55</td><td style=\"text-align: right;\">2</td><td style=\"text-align: right;\">0.71</td><td style=\"text-align: right;\">1</td><td style=\"text-align: right;\">0.21</td></tr>\n",
       "<tr><td style=\"text-align: right;\">876106</td><td style=\"text-align: right;\">135,980,938</td><td>rs180777415</td><td>0</td><td style=\"text-align: right;\">39</td><td style=\"text-align: right;\">1</td><td style=\"text-align: right;\">0.13</td><td style=\"text-align: right;\">1</td><td style=\"text-align: right;\">0.41</td><td style=\"text-align: right;\">14</td><td style=\"text-align: right;\">2.59</td><td style=\"text-align: right;\">0</td><td style=\"text-align: right;\">0.00</td><td style=\"text-align: right;\">20</td><td style=\"text-align: right;\">2.55</td><td style=\"text-align: right;\">2</td><td style=\"text-align: right;\">0.71</td><td style=\"text-align: right;\">1</td><td style=\"text-align: right;\">0.21</td></tr>\n",
       "</table>"
      ],
      "text/plain": [
       "<IPython.core.display.HTML object>"
      ]
     },
     "execution_count": 2,
     "metadata": {},
     "output_type": "execute_result"
    }
   ],
   "source": [
    "HTML(dm.series_html(di_6_35))"
   ]
  },
  {
   "cell_type": "code",
   "execution_count": 3,
   "metadata": {
    "collapsed": false
   },
   "outputs": [
    {
     "data": {
      "text/html": [
       "<table>\n",
       "<thead><tr><th style=\"text-align:center\">index</th><th style=\"text-align:center\">first</th><th style=\"text-align:center\">length</th><th style=\"text-align:center\">snps</th><th style=\"text-align:center\" colspan=2>alleles</th><th style=\"text-align:center\" colspan=2>matches</th><th style=\"text-align:center\" colspan=2>afr</th><th style=\"text-align:center\" colspan=2>afx</th><th style=\"text-align:center\" colspan=2>amr</th><th style=\"text-align:center\" colspan=2>eas</th><th style=\"text-align:center\" colspan=2>eur</th><th style=\"text-align:center\" colspan=2>sas</th><th style=\"text-align:center\" colspan=2>sax</th></tr></thead>\n",
       "<tr class=\"even\"><td style=\"text-align: right;\">353921</td><td style=\"text-align: right;\">136,501,840</td><td style=\"text-align: right;\">53,819</td><td style=\"text-align: right;\">10</td><td style=\"text-align: right;\">2206</td><td style=\"text-align: right;\">0.02</td><td style=\"text-align: right;\">34</td><td style=\"text-align: right;\">0.97</td><td style=\"text-align: right;\">1</td><td style=\"text-align: right;\">0.15</td><td style=\"text-align: right;\">1</td><td style=\"text-align: right;\">0.47</td><td style=\"text-align: right;\">12</td><td style=\"text-align: right;\">2.55</td><td style=\"text-align: right;\">0</td><td style=\"text-align: right;\">0.00</td><td style=\"text-align: right;\">17</td><td style=\"text-align: right;\">2.49</td><td style=\"text-align: right;\">2</td><td style=\"text-align: right;\">0.81</td><td style=\"text-align: right;\">1</td><td style=\"text-align: right;\">0.24</td></tr>\n",
       "<tr><td style=\"text-align: right;\">354170</td><td style=\"text-align: right;\">136,682,274</td><td style=\"text-align: right;\">93,624</td><td style=\"text-align: right;\">7</td><td style=\"text-align: right;\">1868</td><td style=\"text-align: right;\">0.02</td><td style=\"text-align: right;\">30</td><td style=\"text-align: right;\">0.86</td><td style=\"text-align: right;\">1</td><td style=\"text-align: right;\">0.17</td><td style=\"text-align: right;\">1</td><td style=\"text-align: right;\">0.53</td><td style=\"text-align: right;\">10</td><td style=\"text-align: right;\">2.41</td><td style=\"text-align: right;\">0</td><td style=\"text-align: right;\">0.00</td><td style=\"text-align: right;\">15</td><td style=\"text-align: right;\">2.49</td><td style=\"text-align: right;\">2</td><td style=\"text-align: right;\">0.92</td><td style=\"text-align: right;\">1</td><td style=\"text-align: right;\">0.27</td></tr>\n",
       "<tr class=\"even\"><td style=\"text-align: right;\">354033</td><td style=\"text-align: right;\">136,588,031</td><td style=\"text-align: right;\">5,647</td><td style=\"text-align: right;\">7</td><td style=\"text-align: right;\">1760</td><td style=\"text-align: right;\">0.00</td><td style=\"text-align: right;\">1</td><td style=\"text-align: right;\">0.03</td><td style=\"text-align: right;\">0</td><td style=\"text-align: right;\">0.00</td><td style=\"text-align: right;\">0</td><td style=\"text-align: right;\">0.00</td><td style=\"text-align: right;\">1</td><td style=\"text-align: right;\">7.22</td><td style=\"text-align: right;\">0</td><td style=\"text-align: right;\">0.00</td><td style=\"text-align: right;\">0</td><td style=\"text-align: right;\">0.00</td><td style=\"text-align: right;\">0</td><td style=\"text-align: right;\">0.00</td><td style=\"text-align: right;\">0</td><td style=\"text-align: right;\">0.00</td></tr>\n",
       "<tr><td style=\"text-align: right;\">353462</td><td style=\"text-align: right;\">135,915,358</td><td style=\"text-align: right;\">79,721</td><td style=\"text-align: right;\">4</td><td style=\"text-align: right;\">1699</td><td style=\"text-align: right;\">0.02</td><td style=\"text-align: right;\">35</td><td style=\"text-align: right;\">1.00</td><td style=\"text-align: right;\">1</td><td style=\"text-align: right;\">0.14</td><td style=\"text-align: right;\">1</td><td style=\"text-align: right;\">0.46</td><td style=\"text-align: right;\">13</td><td style=\"text-align: right;\">2.68</td><td style=\"text-align: right;\">0</td><td style=\"text-align: right;\">0.00</td><td style=\"text-align: right;\">17</td><td style=\"text-align: right;\">2.42</td><td style=\"text-align: right;\">2</td><td style=\"text-align: right;\">0.79</td><td style=\"text-align: right;\">1</td><td style=\"text-align: right;\">0.23</td></tr>\n",
       "<tr class=\"even\"><td style=\"text-align: right;\">353901</td><td style=\"text-align: right;\">136,494,186</td><td style=\"text-align: right;\">271,765</td><td style=\"text-align: right;\">64</td><td style=\"text-align: right;\">1575</td><td style=\"text-align: right;\">0.02</td><td style=\"text-align: right;\">31</td><td style=\"text-align: right;\">0.89</td><td style=\"text-align: right;\">1</td><td style=\"text-align: right;\">0.16</td><td style=\"text-align: right;\">1</td><td style=\"text-align: right;\">0.51</td><td style=\"text-align: right;\">10</td><td style=\"text-align: right;\">2.33</td><td style=\"text-align: right;\">0</td><td style=\"text-align: right;\">0.00</td><td style=\"text-align: right;\">16</td><td style=\"text-align: right;\">2.57</td><td style=\"text-align: right;\">2</td><td style=\"text-align: right;\">0.89</td><td style=\"text-align: right;\">1</td><td style=\"text-align: right;\">0.26</td></tr>\n",
       "<tr><td style=\"text-align: right;\">353283</td><td style=\"text-align: right;\">135,771,974</td><td style=\"text-align: right;\">368,330</td><td style=\"text-align: right;\">6</td><td style=\"text-align: right;\">1503</td><td style=\"text-align: right;\">0.02</td><td style=\"text-align: right;\">35</td><td style=\"text-align: right;\">1.00</td><td style=\"text-align: right;\">1</td><td style=\"text-align: right;\">0.14</td><td style=\"text-align: right;\">1</td><td style=\"text-align: right;\">0.46</td><td style=\"text-align: right;\">13</td><td style=\"text-align: right;\">2.68</td><td style=\"text-align: right;\">0</td><td style=\"text-align: right;\">0.00</td><td style=\"text-align: right;\">17</td><td style=\"text-align: right;\">2.42</td><td style=\"text-align: right;\">2</td><td style=\"text-align: right;\">0.79</td><td style=\"text-align: right;\">1</td><td style=\"text-align: right;\">0.23</td></tr>\n",
       "<tr class=\"even\"><td style=\"text-align: right;\">353925</td><td style=\"text-align: right;\">136,506,375</td><td style=\"text-align: right;\">32,564</td><td style=\"text-align: right;\">4</td><td style=\"text-align: right;\">1442</td><td style=\"text-align: right;\">0.00</td><td style=\"text-align: right;\">1</td><td style=\"text-align: right;\">0.03</td><td style=\"text-align: right;\">0</td><td style=\"text-align: right;\">0.00</td><td style=\"text-align: right;\">0</td><td style=\"text-align: right;\">0.00</td><td style=\"text-align: right;\">1</td><td style=\"text-align: right;\">7.22</td><td style=\"text-align: right;\">0</td><td style=\"text-align: right;\">0.00</td><td style=\"text-align: right;\">0</td><td style=\"text-align: right;\">0.00</td><td style=\"text-align: right;\">0</td><td style=\"text-align: right;\">0.00</td><td style=\"text-align: right;\">0</td><td style=\"text-align: right;\">0.00</td></tr>\n",
       "<tr><td style=\"text-align: right;\">353797</td><td style=\"text-align: right;\">136,398,174</td><td style=\"text-align: right;\">75,924</td><td style=\"text-align: right;\">26</td><td style=\"text-align: right;\">1414</td><td style=\"text-align: right;\">0.02</td><td style=\"text-align: right;\">34</td><td style=\"text-align: right;\">0.97</td><td style=\"text-align: right;\">1</td><td style=\"text-align: right;\">0.15</td><td style=\"text-align: right;\">1</td><td style=\"text-align: right;\">0.47</td><td style=\"text-align: right;\">12</td><td style=\"text-align: right;\">2.55</td><td style=\"text-align: right;\">0</td><td style=\"text-align: right;\">0.00</td><td style=\"text-align: right;\">17</td><td style=\"text-align: right;\">2.49</td><td style=\"text-align: right;\">2</td><td style=\"text-align: right;\">0.81</td><td style=\"text-align: right;\">1</td><td style=\"text-align: right;\">0.24</td></tr>\n",
       "<tr class=\"even\"><td style=\"text-align: right;\">353791</td><td style=\"text-align: right;\">136,393,658</td><td style=\"text-align: right;\">92,684</td><td style=\"text-align: right;\">32</td><td style=\"text-align: right;\">1361</td><td style=\"text-align: right;\">0.00</td><td style=\"text-align: right;\">1</td><td style=\"text-align: right;\">0.03</td><td style=\"text-align: right;\">0</td><td style=\"text-align: right;\">0.00</td><td style=\"text-align: right;\">0</td><td style=\"text-align: right;\">0.00</td><td style=\"text-align: right;\">1</td><td style=\"text-align: right;\">7.22</td><td style=\"text-align: right;\">0</td><td style=\"text-align: right;\">0.00</td><td style=\"text-align: right;\">0</td><td style=\"text-align: right;\">0.00</td><td style=\"text-align: right;\">0</td><td style=\"text-align: right;\">0.00</td><td style=\"text-align: right;\">0</td><td style=\"text-align: right;\">0.00</td></tr>\n",
       "<tr><td style=\"text-align: right;\">353958</td><td style=\"text-align: right;\">136,535,876</td><td style=\"text-align: right;\">19,014</td><td style=\"text-align: right;\">7</td><td style=\"text-align: right;\">1303</td><td style=\"text-align: right;\">0.00</td><td style=\"text-align: right;\">1</td><td style=\"text-align: right;\">0.03</td><td style=\"text-align: right;\">0</td><td style=\"text-align: right;\">0.00</td><td style=\"text-align: right;\">0</td><td style=\"text-align: right;\">0.00</td><td style=\"text-align: right;\">1</td><td style=\"text-align: right;\">7.22</td><td style=\"text-align: right;\">0</td><td style=\"text-align: right;\">0.00</td><td style=\"text-align: right;\">0</td><td style=\"text-align: right;\">0.00</td><td style=\"text-align: right;\">0</td><td style=\"text-align: right;\">0.00</td><td style=\"text-align: right;\">0</td><td style=\"text-align: right;\">0.00</td></tr>\n",
       "<tr class=\"even\"><td style=\"text-align: right;\">353919</td><td style=\"text-align: right;\">136,500,475</td><td style=\"text-align: right;\">42,085</td><td style=\"text-align: right;\">13</td><td style=\"text-align: right;\">1227</td><td style=\"text-align: right;\">0.00</td><td style=\"text-align: right;\">1</td><td style=\"text-align: right;\">0.03</td><td style=\"text-align: right;\">0</td><td style=\"text-align: right;\">0.00</td><td style=\"text-align: right;\">0</td><td style=\"text-align: right;\">0.00</td><td style=\"text-align: right;\">1</td><td style=\"text-align: right;\">7.22</td><td style=\"text-align: right;\">0</td><td style=\"text-align: right;\">0.00</td><td style=\"text-align: right;\">0</td><td style=\"text-align: right;\">0.00</td><td style=\"text-align: right;\">0</td><td style=\"text-align: right;\">0.00</td><td style=\"text-align: right;\">0</td><td style=\"text-align: right;\">0.00</td></tr>\n",
       "<tr><td style=\"text-align: right;\">353984</td><td style=\"text-align: right;\">136,556,805</td><td style=\"text-align: right;\">190,280</td><td style=\"text-align: right;\">39</td><td style=\"text-align: right;\">1014</td><td style=\"text-align: right;\">0.00</td><td style=\"text-align: right;\">2</td><td style=\"text-align: right;\">0.06</td><td style=\"text-align: right;\">0</td><td style=\"text-align: right;\">0.00</td><td style=\"text-align: right;\">0</td><td style=\"text-align: right;\">0.00</td><td style=\"text-align: right;\">2</td><td style=\"text-align: right;\">7.22</td><td style=\"text-align: right;\">0</td><td style=\"text-align: right;\">0.00</td><td style=\"text-align: right;\">0</td><td style=\"text-align: right;\">0.00</td><td style=\"text-align: right;\">0</td><td style=\"text-align: right;\">0.00</td><td style=\"text-align: right;\">0</td><td style=\"text-align: right;\">0.00</td></tr>\n",
       "<tr class=\"even\"><td style=\"text-align: right;\">353604</td><td style=\"text-align: right;\">136,092,061</td><td style=\"text-align: right;\">315,418</td><td style=\"text-align: right;\">4</td><td style=\"text-align: right;\">911</td><td style=\"text-align: right;\">0.00</td><td style=\"text-align: right;\">1</td><td style=\"text-align: right;\">0.03</td><td style=\"text-align: right;\">0</td><td style=\"text-align: right;\">0.00</td><td style=\"text-align: right;\">0</td><td style=\"text-align: right;\">0.00</td><td style=\"text-align: right;\">1</td><td style=\"text-align: right;\">7.22</td><td style=\"text-align: right;\">0</td><td style=\"text-align: right;\">0.00</td><td style=\"text-align: right;\">0</td><td style=\"text-align: right;\">0.00</td><td style=\"text-align: right;\">0</td><td style=\"text-align: right;\">0.00</td><td style=\"text-align: right;\">0</td><td style=\"text-align: right;\">0.00</td></tr>\n",
       "<tr><td style=\"text-align: right;\">354064</td><td style=\"text-align: right;\">136,605,402</td><td style=\"text-align: right;\">19,284</td><td style=\"text-align: right;\">8</td><td style=\"text-align: right;\">328</td><td style=\"text-align: right;\">0.00</td><td style=\"text-align: right;\">1</td><td style=\"text-align: right;\">0.03</td><td style=\"text-align: right;\">0</td><td style=\"text-align: right;\">0.00</td><td style=\"text-align: right;\">0</td><td style=\"text-align: right;\">0.00</td><td style=\"text-align: right;\">0</td><td style=\"text-align: right;\">0.00</td><td style=\"text-align: right;\">0</td><td style=\"text-align: right;\">0.00</td><td style=\"text-align: right;\">1</td><td style=\"text-align: right;\">4.98</td><td style=\"text-align: right;\">0</td><td style=\"text-align: right;\">0.00</td><td style=\"text-align: right;\">0</td><td style=\"text-align: right;\">0.00</td></tr>\n",
       "<tr class=\"even\"><td style=\"text-align: right;\">353407</td><td style=\"text-align: right;\">135,859,157</td><td style=\"text-align: right;\">121,781</td><td style=\"text-align: right;\">6</td><td style=\"text-align: right;\">35</td><td style=\"text-align: right;\">1.00</td><td style=\"text-align: right;\">35</td><td style=\"text-align: right;\">1.00</td><td style=\"text-align: right;\">1</td><td style=\"text-align: right;\">0.14</td><td style=\"text-align: right;\">1</td><td style=\"text-align: right;\">0.46</td><td style=\"text-align: right;\">13</td><td style=\"text-align: right;\">2.68</td><td style=\"text-align: right;\">0</td><td style=\"text-align: right;\">0.00</td><td style=\"text-align: right;\">17</td><td style=\"text-align: right;\">2.42</td><td style=\"text-align: right;\">2</td><td style=\"text-align: right;\">0.79</td><td style=\"text-align: right;\">1</td><td style=\"text-align: right;\">0.23</td></tr>\n",
       "</table>"
      ],
      "text/plain": [
       "<IPython.core.display.HTML object>"
      ]
     },
     "execution_count": 3,
     "metadata": {},
     "output_type": "execute_result"
    }
   ],
   "source": [
    "plt_obj = dm.superset_yes_no([di_6_35], min_match=0.001)\n",
    "plt_obj.do_plot()\n",
    "HTML(plt_obj.get_html())"
   ]
  },
  {
   "cell_type": "code",
   "execution_count": 4,
   "metadata": {
    "collapsed": false
   },
   "outputs": [
    {
     "data": {
      "text/plain": [
       "array([(0, 4965), (2, 2), (3, 6), (6, 35)], \n",
       "      dtype=[('count', '<u2'), ('snps', '<u2')])"
      ]
     },
     "execution_count": 4,
     "metadata": {},
     "output_type": "execute_result"
    }
   ],
   "source": [
    "count_data = sa_6_35.unique_snps_per_allele()\n",
    "count_data"
   ]
  },
  {
   "cell_type": "code",
   "execution_count": 5,
   "metadata": {
    "collapsed": false
   },
   "outputs": [
    {
     "data": {
      "text/html": [
       "\n",
       "\n",
       "    <div class=\"bk-root\">\n",
       "        <div class=\"plotdiv\" id=\"697c1ec5-aa8c-4317-8132-4cc94bd0fc9b\"></div>\n",
       "    </div>\n",
       "<script type=\"text/javascript\">\n",
       "  \n",
       "  (function(global) {\n",
       "    function now() {\n",
       "      return new Date();\n",
       "    }\n",
       "  \n",
       "    if (typeof (window._bokeh_onload_callbacks) === \"undefined\") {\n",
       "      window._bokeh_onload_callbacks = [];\n",
       "    }\n",
       "  \n",
       "    function run_callbacks() {\n",
       "      window._bokeh_onload_callbacks.forEach(function(callback) { callback() });\n",
       "      delete window._bokeh_onload_callbacks\n",
       "      console.info(\"Bokeh: all callbacks have finished\");\n",
       "    }\n",
       "  \n",
       "    function load_libs(js_urls, callback) {\n",
       "      window._bokeh_onload_callbacks.push(callback);\n",
       "      if (window._bokeh_is_loading > 0) {\n",
       "        console.log(\"Bokeh: BokehJS is being loaded, scheduling callback at\", now());\n",
       "        return null;\n",
       "      }\n",
       "      if (js_urls == null || js_urls.length === 0) {\n",
       "        run_callbacks();\n",
       "        return null;\n",
       "      }\n",
       "      console.log(\"Bokeh: BokehJS not loaded, scheduling load and callback at\", now());\n",
       "      window._bokeh_is_loading = js_urls.length;\n",
       "      for (var i = 0; i < js_urls.length; i++) {\n",
       "        var url = js_urls[i];\n",
       "        var s = document.createElement('script');\n",
       "        s.src = url;\n",
       "        s.async = false;\n",
       "        s.onreadystatechange = s.onload = function() {\n",
       "          window._bokeh_is_loading--;\n",
       "          if (window._bokeh_is_loading === 0) {\n",
       "            console.log(\"Bokeh: all BokehJS libraries loaded\");\n",
       "            run_callbacks()\n",
       "          }\n",
       "        };\n",
       "        s.onerror = function() {\n",
       "          console.warn(\"failed to load library \" + url);\n",
       "        };\n",
       "        console.log(\"Bokeh: injecting script tag for BokehJS library: \", url);\n",
       "        document.getElementsByTagName(\"head\")[0].appendChild(s);\n",
       "      }\n",
       "    };var element = document.getElementById(\"697c1ec5-aa8c-4317-8132-4cc94bd0fc9b\");\n",
       "    if (element == null) {\n",
       "      console.log(\"Bokeh: ERROR: autoload.js configured with elementid '697c1ec5-aa8c-4317-8132-4cc94bd0fc9b' but no matching script tag was found. \")\n",
       "      return false;\n",
       "    }\n",
       "  \n",
       "    var js_urls = [];\n",
       "  \n",
       "    var inline_js = [\n",
       "      function(Bokeh) {\n",
       "        Bokeh.$(function() {\n",
       "            var docs_json = {\"48a4fa1b-0b7f-4be0-9e00-4c431c2f8aba\":{\"roots\":{\"references\":[{\"attributes\":{},\"id\":\"fb836386-a2a5-4404-b1fb-e6763334d273\",\"type\":\"BasicTickFormatter\"},{\"attributes\":{\"bottom\":{\"field\":\"bottom\"},\"fill_alpha\":{\"value\":0.1},\"fill_color\":{\"value\":\"#1f77b4\"},\"left\":{\"field\":\"left\"},\"line_alpha\":{\"value\":0.1},\"line_color\":{\"value\":\"#1f77b4\"},\"right\":{\"field\":\"right\"},\"top\":{\"field\":\"top\"}},\"id\":\"dddcbae4-b1d6-43a4-aecb-27ca5ef5b63d\",\"type\":\"Quad\"},{\"attributes\":{\"bottom\":{\"field\":\"bottom\"},\"fill_alpha\":{\"value\":0.1},\"fill_color\":{\"value\":\"#1f77b4\"},\"left\":{\"field\":\"left\"},\"line_alpha\":{\"value\":0.1},\"line_color\":{\"value\":\"#1f77b4\"},\"right\":{\"field\":\"right\"},\"top\":{\"field\":\"top\"}},\"id\":\"fe837072-d730-4218-90e7-0d853eb049d3\",\"type\":\"Quad\"},{\"attributes\":{\"below\":[{\"id\":\"6b2b5fff-9bfd-464f-bd2f-00f630d1425f\",\"type\":\"LinearAxis\"}],\"left\":[{\"id\":\"fbe6b527-cc31-4230-8d4f-3f475196197e\",\"type\":\"LinearAxis\"}],\"plot_height\":500,\"plot_width\":900,\"renderers\":[{\"id\":\"6b2b5fff-9bfd-464f-bd2f-00f630d1425f\",\"type\":\"LinearAxis\"},{\"id\":\"77c7da16-fdd0-4e56-af9e-c77c199adda7\",\"type\":\"Grid\"},{\"id\":\"fbe6b527-cc31-4230-8d4f-3f475196197e\",\"type\":\"LinearAxis\"},{\"id\":\"c33f69d8-8305-4f2b-a5bf-0e3ef624a611\",\"type\":\"Grid\"},{\"id\":\"ad020e84-74be-4692-91f3-dca15112eefc\",\"type\":\"BoxAnnotation\"},{\"id\":\"1a90dc7a-cb22-43a0-b3c1-5d6b818d7ecb\",\"type\":\"GlyphRenderer\"},{\"id\":\"d90c93d6-322a-4790-a322-163d1dde060a\",\"type\":\"GlyphRenderer\"},{\"id\":\"a0091da2-7c2d-48dc-9efc-e0209d7fab5b\",\"type\":\"LabelSet\"},{\"id\":\"2df72842-5aea-49b6-87a6-ed4fc372d709\",\"type\":\"GlyphRenderer\"},{\"id\":\"a54234a2-b9fe-475d-97be-c3678415e70b\",\"type\":\"LabelSet\"}],\"title\":{\"id\":\"ef5d80c4-21f4-4a4d-8b2c-8f20fb1e6b89\",\"type\":\"Title\"},\"tool_events\":{\"id\":\"4a6e9447-e461-4caf-a973-f816cc518484\",\"type\":\"ToolEvents\"},\"toolbar\":{\"id\":\"8a9f2c17-f5de-4411-8f42-66b68a381e63\",\"type\":\"Toolbar\"},\"toolbar_location\":null,\"x_range\":{\"id\":\"879a316b-c1ed-4dd8-9ea3-dff08a051679\",\"type\":\"Range1d\"},\"y_range\":{\"id\":\"300f3c24-fb46-448b-a488-e1aaacb9d6c3\",\"type\":\"Range1d\"}},\"id\":\"994f00c8-065e-4ebd-b439-109e4f7c21cf\",\"subtype\":\"Figure\",\"type\":\"Plot\"},{\"attributes\":{\"formatter\":{\"id\":\"a2addd48-a7d2-4a31-8b35-fc2602112410\",\"type\":\"BasicTickFormatter\"},\"plot\":{\"id\":\"994f00c8-065e-4ebd-b439-109e4f7c21cf\",\"subtype\":\"Figure\",\"type\":\"Plot\"},\"ticker\":{\"id\":\"e9fc8320-0ef4-43c7-8326-c8eb797074ad\",\"type\":\"BasicTicker\"},\"visible\":null},\"id\":\"fbe6b527-cc31-4230-8d4f-3f475196197e\",\"type\":\"LinearAxis\"},{\"attributes\":{\"active_drag\":\"auto\",\"active_scroll\":\"auto\",\"active_tap\":\"auto\",\"tools\":[{\"id\":\"ff7e06f7-84ae-420e-859a-39522feebc51\",\"type\":\"PanTool\"},{\"id\":\"cdebb1ec-811d-40f2-ac94-e50c29c8b3b2\",\"type\":\"WheelZoomTool\"},{\"id\":\"78325437-3321-4caf-ae46-9f3a4236dceb\",\"type\":\"BoxZoomTool\"},{\"id\":\"225ab0fe-b2d5-452a-99bf-d25a94273cd4\",\"type\":\"SaveTool\"},{\"id\":\"31f994ff-7d2a-4345-9237-5193ca055615\",\"type\":\"ResetTool\"},{\"id\":\"555ba13f-d54f-4c97-93eb-c4485125ff43\",\"type\":\"HelpTool\"}]},\"id\":\"8a9f2c17-f5de-4411-8f42-66b68a381e63\",\"type\":\"Toolbar\"},{\"attributes\":{\"level\":\"glyph\",\"plot\":{\"id\":\"994f00c8-065e-4ebd-b439-109e4f7c21cf\",\"subtype\":\"Figure\",\"type\":\"Plot\"},\"source\":{\"id\":\"27690486-3db5-4cba-96f4-7254693ce37a\",\"type\":\"ColumnDataSource\"},\"text\":{\"field\":\"vals\"},\"text_font_size\":{\"value\":\"9pt\"},\"text_font_style\":\"bold\",\"x\":{\"field\":\"x\"},\"y\":{\"field\":\"y\"}},\"id\":\"a0091da2-7c2d-48dc-9efc-e0209d7fab5b\",\"type\":\"LabelSet\"},{\"attributes\":{\"callback\":null,\"column_names\":[\"xs\",\"ys\",\"line_color\"],\"data\":{\"line_color\":[\"black\",\"black\",\"black\",\"black\",\"black\",\"black\",\"black\",\"black\",\"black\",\"black\",\"black\",\"black\",\"black\",\"black\",\"black\",\"black\",\"black\",\"black\",\"black\",\"black\",\"black\",\"black\",\"black\",\"black\",\"black\",\"black\",\"black\",\"black\",\"black\",\"black\",\"black\",\"black\",\"black\",\"black\",\"black\",\"black\",\"black\",\"black\",\"black\",\"black\",\"black\",\"black\",\"black\",\"black\",\"black\",\"black\",\"black\",\"black\",\"black\",\"black\",\"black\",\"black\",\"black\",\"black\",\"black\",\"black\",\"black\",\"black\",\"black\",\"black\",\"black\",\"black\",\"black\",\"black\",\"black\",\"black\",\"black\",\"black\",\"black\",\"black\",\"black\",\"black\",\"black\",\"black\",\"black\",\"black\",\"black\",\"black\",\"black\",\"black\",\"black\",\"black\",\"black\",\"black\",\"black\",\"black\",\"black\",\"black\",\"black\",\"black\",\"black\",\"black\",\"black\",\"black\",\"black\",\"black\",\"black\",\"black\",\"black\",\"black\",\"black\",\"black\",\"black\",\"black\",\"black\",\"black\",\"black\",\"black\",\"black\",\"black\",\"black\",\"black\",\"black\",\"black\",\"black\",\"black\",\"black\",\"black\",\"black\",\"black\",\"black\",\"black\",\"black\"],\"xs\":[[135771974,135771974],[135859371,135859371],[135877562,135877562],[136022798,136022798],[136058820,136058820],[136140304,136140304],[135859157,135859157],[135873466,135873466],[135925411,135925411],[135954198,135954198],[135973399,135973399],[135980938,135980938],[135915358,135915358],[135954405,135954405],[135995073,135995073],[135995079,135995079],[136398174,136398174],[136402117,136402117],[136403749,136403749],[136409073,136409073],[136410299,136410299],[136413359,136413359],[136416855,136416855],[136416941,136416941],[136418348,136418348],[136419961,136419961],[136420690,136420690],[136422171,136422171],[136428460,136428460],[136430866,136430866],[136432103,136432103],[136437507,136437507],[136439090,136439090],[136439517,136439517],[136444123,136444123],[136445526,136445526],[136445869,136445869],[136455600,136455600],[136456642,136456642],[136462441,136462441],[136470714,136470714],[136474098,136474098],[136494186,136494186],[136495300,136495300],[136495619,136495619],[136499166,136499166],[136502792,136502792],[136503157,136503157],[136507039,136507039],[136511575,136511575],[136518103,136518103],[136521514,136521514],[136522675,136522675],[136522941,136522941],[136526981,136526981],[136535410,136535410],[136539122,136539122],[136544197,136544197],[136550109,136550109],[136551694,136551694],[136553188,136553188],[136553639,136553639],[136554800,136554800],[136557319,136557319],[136558157,136558157],[136569848,136569848],[136575199,136575199],[136576577,136576577],[136578536,136578536],[136580287,136580287],[136583192,136583192],[136586958,136586958],[136588478,136588478],[136589612,136589612],[136591178,136591178],[136591859,136591859],[136593760,136593760],[136594158,136594158],[136603276,136603276],[136603366,136603366],[136608231,136608231],[136609975,136609975],[136610598,136610598],[136611624,136611624],[136613780,136613780],[136614255,136614255],[136614813,136614813],[136617524,136617524],[136622216,136622216],[136625602,136625602],[136629911,136629911],[136630757,136630757],[136630989,136630989],[136631031,136631031],[136633771,136633771],[136636324,136636324],[136638216,136638216],[136640233,136640233],[136641882,136641882],[136643555,136643555],[136658345,136658345],[136670298,136670298],[136685228,136685228],[136696138,136696138],[136740900,136740900],[136765951,136765951],[136501840,136501840],[136505546,136505546],[136516748,136516748],[136522710,136522710],[136528004,136528004],[136539513,136539513],[136544752,136544752],[136546110,136546110],[136553529,136553529],[136555659,136555659],[136682274,136682274],[136691825,136691825],[136698098,136698098],[136721603,136721603],[136721995,136721995],[136755684,136755684],[136775898,136775898]],\"ys\":[[150,195],[150,195],[150,195],[150,195],[150,195],[150,195],[50,62],[50,62],[50,62],[50,62],[50,62],[50,62],[250,296],[250,296],[250,296],[250,296],[150,194],[150,194],[150,194],[150,194],[150,194],[150,194],[150,194],[150,194],[150,194],[150,194],[150,194],[150,194],[150,194],[150,194],[150,194],[150,194],[150,194],[150,194],[150,194],[150,194],[150,194],[150,194],[150,194],[150,194],[150,194],[150,194],[250,295],[250,295],[250,295],[250,295],[250,295],[250,295],[250,295],[250,295],[250,295],[250,295],[250,295],[250,295],[250,295],[250,295],[250,295],[250,295],[250,295],[250,295],[250,295],[250,295],[250,295],[250,295],[250,295],[250,295],[250,295],[250,295],[250,295],[250,295],[250,295],[250,295],[250,295],[250,295],[250,295],[250,295],[250,295],[250,295],[250,295],[250,295],[250,295],[250,295],[250,295],[250,295],[250,295],[250,295],[250,295],[250,295],[250,295],[250,295],[250,295],[250,295],[250,295],[250,295],[250,295],[250,295],[250,295],[250,295],[250,295],[250,295],[250,295],[250,295],[250,295],[250,295],[250,295],[250,295],[350,398],[350,398],[350,398],[350,398],[350,398],[350,398],[350,398],[350,398],[350,398],[350,398],[350,397],[350,397],[350,397],[350,397],[350,397],[350,397],[350,397]]}},\"id\":\"7ef07c7b-0ca5-4ddf-875c-aae0d3daf900\",\"type\":\"ColumnDataSource\"},{\"attributes\":{\"dimension\":1,\"plot\":{\"id\":\"994f00c8-065e-4ebd-b439-109e4f7c21cf\",\"subtype\":\"Figure\",\"type\":\"Plot\"},\"ticker\":{\"id\":\"e9fc8320-0ef4-43c7-8326-c8eb797074ad\",\"type\":\"BasicTicker\"}},\"id\":\"c33f69d8-8305-4f2b-a5bf-0e3ef624a611\",\"type\":\"Grid\"},{\"attributes\":{\"line_color\":{\"field\":\"line_color\"},\"xs\":{\"field\":\"xs\"},\"ys\":{\"field\":\"ys\"}},\"id\":\"36235f40-efb1-4996-9214-2a78c58d58c5\",\"type\":\"MultiLine\"},{\"attributes\":{\"plot\":{\"id\":\"994f00c8-065e-4ebd-b439-109e4f7c21cf\",\"subtype\":\"Figure\",\"type\":\"Plot\"}},\"id\":\"ff7e06f7-84ae-420e-859a-39522feebc51\",\"type\":\"PanTool\"},{\"attributes\":{},\"id\":\"e9fc8320-0ef4-43c7-8326-c8eb797074ad\",\"type\":\"BasicTicker\"},{\"attributes\":{\"plot\":{\"id\":\"994f00c8-065e-4ebd-b439-109e4f7c21cf\",\"subtype\":\"Figure\",\"type\":\"Plot\"}},\"id\":\"555ba13f-d54f-4c97-93eb-c4485125ff43\",\"type\":\"HelpTool\"},{\"attributes\":{\"line_alpha\":{\"value\":0.1},\"line_color\":{\"value\":\"#1f77b4\"},\"xs\":{\"field\":\"xs\"},\"ys\":{\"field\":\"ys\"}},\"id\":\"fe967612-7f78-4852-893e-521d84efb139\",\"type\":\"MultiLine\"},{\"attributes\":{\"plot\":{\"id\":\"994f00c8-065e-4ebd-b439-109e4f7c21cf\",\"subtype\":\"Figure\",\"type\":\"Plot\"}},\"id\":\"31f994ff-7d2a-4345-9237-5193ca055615\",\"type\":\"ResetTool\"},{\"attributes\":{},\"id\":\"024345fa-6fa0-44b6-abf0-72b56cfe133a\",\"type\":\"BasicTicker\"},{\"attributes\":{\"data_source\":{\"id\":\"a38c82e0-52b9-434f-9242-25bf8fb94488\",\"type\":\"ColumnDataSource\"},\"glyph\":{\"id\":\"e8ebae61-7b39-489e-bc1d-5b3c4155691d\",\"type\":\"Quad\"},\"hover_glyph\":null,\"nonselection_glyph\":{\"id\":\"fe837072-d730-4218-90e7-0d853eb049d3\",\"type\":\"Quad\"},\"selection_glyph\":null},\"id\":\"2df72842-5aea-49b6-87a6-ed4fc372d709\",\"type\":\"GlyphRenderer\"},{\"attributes\":{\"callback\":null,\"end\":136786630,\"start\":135757320},\"id\":\"879a316b-c1ed-4dd8-9ea3-dff08a051679\",\"type\":\"Range1d\"},{\"attributes\":{\"level\":\"glyph\",\"plot\":{\"id\":\"994f00c8-065e-4ebd-b439-109e4f7c21cf\",\"subtype\":\"Figure\",\"type\":\"Plot\"},\"source\":{\"id\":\"8dfa82b8-b3ab-43e6-b91d-742501569347\",\"type\":\"ColumnDataSource\"},\"text\":{\"field\":\"vals\"},\"text_align\":\"center\",\"text_baseline\":\"middle\",\"text_font_size\":{\"value\":\"8pt\"},\"x\":{\"field\":\"x\"},\"y\":{\"field\":\"y\"}},\"id\":\"a54234a2-b9fe-475d-97be-c3678415e70b\",\"type\":\"LabelSet\"},{\"attributes\":{\"formatter\":{\"id\":\"fb836386-a2a5-4404-b1fb-e6763334d273\",\"type\":\"BasicTickFormatter\"},\"plot\":{\"id\":\"994f00c8-065e-4ebd-b439-109e4f7c21cf\",\"subtype\":\"Figure\",\"type\":\"Plot\"},\"ticker\":{\"id\":\"024345fa-6fa0-44b6-abf0-72b56cfe133a\",\"type\":\"BasicTicker\"}},\"id\":\"6b2b5fff-9bfd-464f-bd2f-00f630d1425f\",\"type\":\"LinearAxis\"},{\"attributes\":{},\"id\":\"4a6e9447-e461-4caf-a973-f816cc518484\",\"type\":\"ToolEvents\"},{\"attributes\":{\"callback\":null,\"column_names\":[\"y\",\"x\",\"vals\"],\"data\":{\"vals\":[\"6_1503\",\"6_35\",\"4_1699\",\"26_1414\",\"64_1575\",\"10_2206\",\"7_1868\"],\"x\":[135771974,135859157,135915358,136398174,136494186,136501840,136682274],\"y\":[200.0,67.0,301.0,199.0,300.0,403.0,402.0]}},\"id\":\"27690486-3db5-4cba-96f4-7254693ce37a\",\"type\":\"ColumnDataSource\"},{\"attributes\":{\"plot\":null,\"text\":null},\"id\":\"ef5d80c4-21f4-4a4d-8b2c-8f20fb1e6b89\",\"type\":\"Title\"},{\"attributes\":{\"callback\":null,\"column_names\":[\"y\",\"x\",\"vals\"],\"data\":{\"vals\":[\"RAB3GAP1\",\"ZRANB3\",\"R3HDM1\",\"UBXN4\",\"LCT\",\"MCM6\",\"DARS\"],\"x\":[135869057.0,136122878.0,136385961.0,136520911.0,136570082.5,136615621.5,136703738.0],\"y\":[460.0,460.0,460.0,460.0,460.0,460.0,460.0]}},\"id\":\"8dfa82b8-b3ab-43e6-b91d-742501569347\",\"type\":\"ColumnDataSource\"},{\"attributes\":{\"bottom_units\":\"screen\",\"fill_alpha\":{\"value\":0.5},\"fill_color\":{\"value\":\"lightgrey\"},\"left_units\":\"screen\",\"level\":\"overlay\",\"line_alpha\":{\"value\":1.0},\"line_color\":{\"value\":\"black\"},\"line_dash\":[4,4],\"line_width\":{\"value\":2},\"plot\":null,\"render_mode\":\"css\",\"right_units\":\"screen\",\"top_units\":\"screen\"},\"id\":\"ad020e84-74be-4692-91f3-dca15112eefc\",\"type\":\"BoxAnnotation\"},{\"attributes\":{\"callback\":null,\"end\":500},\"id\":\"300f3c24-fb46-448b-a488-e1aaacb9d6c3\",\"type\":\"Range1d\"},{\"attributes\":{\"callback\":null,\"column_names\":[\"right\",\"bottom\",\"top\",\"left\"],\"data\":{\"bottom\":[445,445,445,445,445,445,445],\"left\":[135809835,135957574,136289083,136499189,136545415,136597196,136664254],\"right\":[135928279,136288182,136482839,136542633,136594750,136634047,136743222],\"top\":[475,475,475,475,475,475,475]}},\"id\":\"a38c82e0-52b9-434f-9242-25bf8fb94488\",\"type\":\"ColumnDataSource\"},{\"attributes\":{\"bottom\":{\"field\":\"bottom\"},\"fill_color\":{\"field\":\"fill_color\"},\"left\":{\"field\":\"left\"},\"line_color\":{\"value\":null},\"right\":{\"field\":\"right\"},\"top\":{\"field\":\"top\"}},\"id\":\"3da58c44-d19a-4eda-954e-be471311b6e4\",\"type\":\"Quad\"},{\"attributes\":{\"bottom\":{\"field\":\"bottom\"},\"fill_color\":{\"value\":\"white\"},\"left\":{\"field\":\"left\"},\"right\":{\"field\":\"right\"},\"top\":{\"field\":\"top\"}},\"id\":\"e8ebae61-7b39-489e-bc1d-5b3c4155691d\",\"type\":\"Quad\"},{\"attributes\":{\"overlay\":{\"id\":\"ad020e84-74be-4692-91f3-dca15112eefc\",\"type\":\"BoxAnnotation\"},\"plot\":{\"id\":\"994f00c8-065e-4ebd-b439-109e4f7c21cf\",\"subtype\":\"Figure\",\"type\":\"Plot\"}},\"id\":\"78325437-3321-4caf-ae46-9f3a4236dceb\",\"type\":\"BoxZoomTool\"},{\"attributes\":{},\"id\":\"a2addd48-a7d2-4a31-8b35-fc2602112410\",\"type\":\"BasicTickFormatter\"},{\"attributes\":{\"plot\":{\"id\":\"994f00c8-065e-4ebd-b439-109e4f7c21cf\",\"subtype\":\"Figure\",\"type\":\"Plot\"}},\"id\":\"225ab0fe-b2d5-452a-99bf-d25a94273cd4\",\"type\":\"SaveTool\"},{\"attributes\":{\"plot\":{\"id\":\"994f00c8-065e-4ebd-b439-109e4f7c21cf\",\"subtype\":\"Figure\",\"type\":\"Plot\"}},\"id\":\"cdebb1ec-811d-40f2-ac94-e50c29c8b3b2\",\"type\":\"WheelZoomTool\"},{\"attributes\":{\"data_source\":{\"id\":\"707000ff-3ff1-42dd-8eb2-715c2ff4f43e\",\"type\":\"ColumnDataSource\"},\"glyph\":{\"id\":\"3da58c44-d19a-4eda-954e-be471311b6e4\",\"type\":\"Quad\"},\"hover_glyph\":null,\"nonselection_glyph\":{\"id\":\"dddcbae4-b1d6-43a4-aecb-27ca5ef5b63d\",\"type\":\"Quad\"},\"selection_glyph\":null},\"id\":\"1a90dc7a-cb22-43a0-b3c1-5d6b818d7ecb\",\"type\":\"GlyphRenderer\"},{\"attributes\":{\"callback\":null,\"column_names\":[\"right\",\"bottom\",\"top\",\"left\",\"fill_color\"],\"data\":{\"bottom\":[150,50,250,150,250,350,350],\"fill_color\":[\"#61c461\",\"#ff00ff\",\"#61c461\",\"#61c461\",\"#61c461\",\"#808080\",\"#61c461\"],\"left\":[135771974,135859157,135915358,136398174,136494186,136501840,136682274],\"right\":[136140304,135980938,135995079,136474098,136765951,136555659,136775898],\"top\":[195,62,296,194,295,398,397]}},\"id\":\"707000ff-3ff1-42dd-8eb2-715c2ff4f43e\",\"type\":\"ColumnDataSource\"},{\"attributes\":{\"data_source\":{\"id\":\"7ef07c7b-0ca5-4ddf-875c-aae0d3daf900\",\"type\":\"ColumnDataSource\"},\"glyph\":{\"id\":\"36235f40-efb1-4996-9214-2a78c58d58c5\",\"type\":\"MultiLine\"},\"hover_glyph\":null,\"nonselection_glyph\":{\"id\":\"fe967612-7f78-4852-893e-521d84efb139\",\"type\":\"MultiLine\"},\"selection_glyph\":null},\"id\":\"d90c93d6-322a-4790-a322-163d1dde060a\",\"type\":\"GlyphRenderer\"},{\"attributes\":{\"plot\":{\"id\":\"994f00c8-065e-4ebd-b439-109e4f7c21cf\",\"subtype\":\"Figure\",\"type\":\"Plot\"},\"ticker\":{\"id\":\"024345fa-6fa0-44b6-abf0-72b56cfe133a\",\"type\":\"BasicTicker\"}},\"id\":\"77c7da16-fdd0-4e56-af9e-c77c199adda7\",\"type\":\"Grid\"}],\"root_ids\":[\"994f00c8-065e-4ebd-b439-109e4f7c21cf\"]},\"title\":\"Bokeh Application\",\"version\":\"0.12.0\"}};\n",
       "            var render_items = [{\"docid\":\"48a4fa1b-0b7f-4be0-9e00-4c431c2f8aba\",\"elementid\":\"697c1ec5-aa8c-4317-8132-4cc94bd0fc9b\",\"modelid\":\"994f00c8-065e-4ebd-b439-109e4f7c21cf\",\"notebook_comms_target\":\"8e13c934-7de7-4b42-8ced-ef67b31b8afd\"}];\n",
       "            \n",
       "            Bokeh.embed.embed_items(docs_json, render_items);\n",
       "        });\n",
       "      },\n",
       "      function(Bokeh) {\n",
       "      }\n",
       "    ];\n",
       "  \n",
       "    function run_inline_js() {\n",
       "      for (var i = 0; i < inline_js.length; i++) {\n",
       "        inline_js[i](window.Bokeh);\n",
       "      }\n",
       "    }\n",
       "  \n",
       "    if (window._bokeh_is_loading === 0) {\n",
       "      console.log(\"Bokeh: BokehJS loaded, going straight to plotting\");\n",
       "      run_inline_js();\n",
       "    } else {\n",
       "      load_libs(js_urls, function() {\n",
       "        console.log(\"Bokeh: BokehJS plotting callback run at\", now());\n",
       "        run_inline_js();\n",
       "      });\n",
       "    }\n",
       "  }(this));\n",
       "</script>"
      ]
     },
     "metadata": {},
     "output_type": "display_data"
    },
    {
     "data": {
      "text/html": [
       "<p><code>&lt;Bokeh Notebook handle for <strong>In[5]</strong>&gt;</code></p>"
      ],
      "text/plain": [
       "<bokeh.io._CommsHandle at 0x7f3560ed0c10>"
      ]
     },
     "execution_count": 5,
     "metadata": {},
     "output_type": "execute_result"
    }
   ],
   "source": [
    "plt_obj = dm.superset_yes_no([di_6_35, dm.di_10_2206, dm.di_7_1868], [dm.di_4_911], min_match=0.001)\n",
    "plt = plt_obj.do_plot()\n",
    "show(plt)"
   ]
  },
  {
   "cell_type": "code",
   "execution_count": 6,
   "metadata": {
    "collapsed": false
   },
   "outputs": [
    {
     "data": {
      "text/html": [
       "<table>\n",
       "<thead><tr><th style=\"text-align:center\">index</th><th style=\"text-align:center\">first</th><th style=\"text-align:center\">length</th><th style=\"text-align:center\">snps</th><th style=\"text-align:center\" colspan=2>alleles</th><th style=\"text-align:center\" colspan=2>matches</th><th style=\"text-align:center\" colspan=2>afr</th><th style=\"text-align:center\" colspan=2>afx</th><th style=\"text-align:center\" colspan=2>amr</th><th style=\"text-align:center\" colspan=2>eas</th><th style=\"text-align:center\" colspan=2>eur</th><th style=\"text-align:center\" colspan=2>sas</th><th style=\"text-align:center\" colspan=2>sax</th></tr></thead>\n",
       "<tr class=\"even\"><td style=\"text-align: right;\">353921</td><td style=\"text-align: right;\">136,501,840</td><td style=\"text-align: right;\">53,819</td><td style=\"text-align: right;\">10</td><td style=\"text-align: right;\">2206</td><td style=\"text-align: right;\">0.01</td><td style=\"text-align: right;\">29</td><td style=\"text-align: right;\">1.00</td><td style=\"text-align: right;\">1</td><td style=\"text-align: right;\">0.14</td><td style=\"text-align: right;\">1</td><td style=\"text-align: right;\">0.50</td><td style=\"text-align: right;\">9</td><td style=\"text-align: right;\">2.60</td><td style=\"text-align: right;\">0</td><td style=\"text-align: right;\">0.00</td><td style=\"text-align: right;\">15</td><td style=\"text-align: right;\">4.40</td><td style=\"text-align: right;\">2</td><td style=\"text-align: right;\">0.96</td><td style=\"text-align: right;\">1</td><td style=\"text-align: right;\">0.26</td></tr>\n",
       "<tr><td style=\"text-align: right;\">354170</td><td style=\"text-align: right;\">136,682,274</td><td style=\"text-align: right;\">93,624</td><td style=\"text-align: right;\">7</td><td style=\"text-align: right;\">1868</td><td style=\"text-align: right;\">0.02</td><td style=\"text-align: right;\">29</td><td style=\"text-align: right;\">1.00</td><td style=\"text-align: right;\">1</td><td style=\"text-align: right;\">0.14</td><td style=\"text-align: right;\">1</td><td style=\"text-align: right;\">0.50</td><td style=\"text-align: right;\">9</td><td style=\"text-align: right;\">2.60</td><td style=\"text-align: right;\">0</td><td style=\"text-align: right;\">0.00</td><td style=\"text-align: right;\">15</td><td style=\"text-align: right;\">4.40</td><td style=\"text-align: right;\">2</td><td style=\"text-align: right;\">0.96</td><td style=\"text-align: right;\">1</td><td style=\"text-align: right;\">0.26</td></tr>\n",
       "<tr class=\"even\"><td style=\"text-align: right;\">353462</td><td style=\"text-align: right;\">135,915,358</td><td style=\"text-align: right;\">79,721</td><td style=\"text-align: right;\">4</td><td style=\"text-align: right;\">1699</td><td style=\"text-align: right;\">0.02</td><td style=\"text-align: right;\">29</td><td style=\"text-align: right;\">1.00</td><td style=\"text-align: right;\">1</td><td style=\"text-align: right;\">0.14</td><td style=\"text-align: right;\">1</td><td style=\"text-align: right;\">0.50</td><td style=\"text-align: right;\">9</td><td style=\"text-align: right;\">2.60</td><td style=\"text-align: right;\">0</td><td style=\"text-align: right;\">0.00</td><td style=\"text-align: right;\">15</td><td style=\"text-align: right;\">4.40</td><td style=\"text-align: right;\">2</td><td style=\"text-align: right;\">0.96</td><td style=\"text-align: right;\">1</td><td style=\"text-align: right;\">0.26</td></tr>\n",
       "<tr><td style=\"text-align: right;\">353901</td><td style=\"text-align: right;\">136,494,186</td><td style=\"text-align: right;\">271,765</td><td style=\"text-align: right;\">64</td><td style=\"text-align: right;\">1575</td><td style=\"text-align: right;\">0.02</td><td style=\"text-align: right;\">29</td><td style=\"text-align: right;\">1.00</td><td style=\"text-align: right;\">1</td><td style=\"text-align: right;\">0.14</td><td style=\"text-align: right;\">1</td><td style=\"text-align: right;\">0.50</td><td style=\"text-align: right;\">9</td><td style=\"text-align: right;\">2.60</td><td style=\"text-align: right;\">0</td><td style=\"text-align: right;\">0.00</td><td style=\"text-align: right;\">15</td><td style=\"text-align: right;\">4.40</td><td style=\"text-align: right;\">2</td><td style=\"text-align: right;\">0.96</td><td style=\"text-align: right;\">1</td><td style=\"text-align: right;\">0.26</td></tr>\n",
       "<tr class=\"even\"><td style=\"text-align: right;\">353283</td><td style=\"text-align: right;\">135,771,974</td><td style=\"text-align: right;\">368,330</td><td style=\"text-align: right;\">6</td><td style=\"text-align: right;\">1503</td><td style=\"text-align: right;\">0.02</td><td style=\"text-align: right;\">29</td><td style=\"text-align: right;\">1.00</td><td style=\"text-align: right;\">1</td><td style=\"text-align: right;\">0.14</td><td style=\"text-align: right;\">1</td><td style=\"text-align: right;\">0.50</td><td style=\"text-align: right;\">9</td><td style=\"text-align: right;\">2.60</td><td style=\"text-align: right;\">0</td><td style=\"text-align: right;\">0.00</td><td style=\"text-align: right;\">15</td><td style=\"text-align: right;\">4.40</td><td style=\"text-align: right;\">2</td><td style=\"text-align: right;\">0.96</td><td style=\"text-align: right;\">1</td><td style=\"text-align: right;\">0.26</td></tr>\n",
       "<tr><td style=\"text-align: right;\">353797</td><td style=\"text-align: right;\">136,398,174</td><td style=\"text-align: right;\">75,924</td><td style=\"text-align: right;\">26</td><td style=\"text-align: right;\">1414</td><td style=\"text-align: right;\">0.02</td><td style=\"text-align: right;\">29</td><td style=\"text-align: right;\">1.00</td><td style=\"text-align: right;\">1</td><td style=\"text-align: right;\">0.14</td><td style=\"text-align: right;\">1</td><td style=\"text-align: right;\">0.50</td><td style=\"text-align: right;\">9</td><td style=\"text-align: right;\">2.60</td><td style=\"text-align: right;\">0</td><td style=\"text-align: right;\">0.00</td><td style=\"text-align: right;\">15</td><td style=\"text-align: right;\">4.40</td><td style=\"text-align: right;\">2</td><td style=\"text-align: right;\">0.96</td><td style=\"text-align: right;\">1</td><td style=\"text-align: right;\">0.26</td></tr>\n",
       "<tr class=\"even\"><td style=\"text-align: right;\">353407</td><td style=\"text-align: right;\">135,859,157</td><td style=\"text-align: right;\">121,781</td><td style=\"text-align: right;\">6</td><td style=\"text-align: right;\">35</td><td style=\"text-align: right;\">0.83</td><td style=\"text-align: right;\">29</td><td style=\"text-align: right;\">1.00</td><td style=\"text-align: right;\">1</td><td style=\"text-align: right;\">0.14</td><td style=\"text-align: right;\">1</td><td style=\"text-align: right;\">0.50</td><td style=\"text-align: right;\">9</td><td style=\"text-align: right;\">2.60</td><td style=\"text-align: right;\">0</td><td style=\"text-align: right;\">0.00</td><td style=\"text-align: right;\">15</td><td style=\"text-align: right;\">4.40</td><td style=\"text-align: right;\">2</td><td style=\"text-align: right;\">0.96</td><td style=\"text-align: right;\">1</td><td style=\"text-align: right;\">0.26</td></tr>\n",
       "</table>"
      ],
      "text/plain": [
       "<IPython.core.display.HTML object>"
      ]
     },
     "execution_count": 6,
     "metadata": {},
     "output_type": "execute_result"
    }
   ],
   "source": [
    "HTML(plt_obj.get_html())"
   ]
  },
  {
   "cell_type": "code",
   "execution_count": 7,
   "metadata": {
    "collapsed": false
   },
   "outputs": [
    {
     "data": {
      "text/html": [
       "\n",
       "\n",
       "    <div class=\"bk-root\">\n",
       "        <div class=\"plotdiv\" id=\"0081400e-c8f1-45aa-be56-db5b7672920d\"></div>\n",
       "    </div>\n",
       "<script type=\"text/javascript\">\n",
       "  \n",
       "  (function(global) {\n",
       "    function now() {\n",
       "      return new Date();\n",
       "    }\n",
       "  \n",
       "    if (typeof (window._bokeh_onload_callbacks) === \"undefined\") {\n",
       "      window._bokeh_onload_callbacks = [];\n",
       "    }\n",
       "  \n",
       "    function run_callbacks() {\n",
       "      window._bokeh_onload_callbacks.forEach(function(callback) { callback() });\n",
       "      delete window._bokeh_onload_callbacks\n",
       "      console.info(\"Bokeh: all callbacks have finished\");\n",
       "    }\n",
       "  \n",
       "    function load_libs(js_urls, callback) {\n",
       "      window._bokeh_onload_callbacks.push(callback);\n",
       "      if (window._bokeh_is_loading > 0) {\n",
       "        console.log(\"Bokeh: BokehJS is being loaded, scheduling callback at\", now());\n",
       "        return null;\n",
       "      }\n",
       "      if (js_urls == null || js_urls.length === 0) {\n",
       "        run_callbacks();\n",
       "        return null;\n",
       "      }\n",
       "      console.log(\"Bokeh: BokehJS not loaded, scheduling load and callback at\", now());\n",
       "      window._bokeh_is_loading = js_urls.length;\n",
       "      for (var i = 0; i < js_urls.length; i++) {\n",
       "        var url = js_urls[i];\n",
       "        var s = document.createElement('script');\n",
       "        s.src = url;\n",
       "        s.async = false;\n",
       "        s.onreadystatechange = s.onload = function() {\n",
       "          window._bokeh_is_loading--;\n",
       "          if (window._bokeh_is_loading === 0) {\n",
       "            console.log(\"Bokeh: all BokehJS libraries loaded\");\n",
       "            run_callbacks()\n",
       "          }\n",
       "        };\n",
       "        s.onerror = function() {\n",
       "          console.warn(\"failed to load library \" + url);\n",
       "        };\n",
       "        console.log(\"Bokeh: injecting script tag for BokehJS library: \", url);\n",
       "        document.getElementsByTagName(\"head\")[0].appendChild(s);\n",
       "      }\n",
       "    };var element = document.getElementById(\"0081400e-c8f1-45aa-be56-db5b7672920d\");\n",
       "    if (element == null) {\n",
       "      console.log(\"Bokeh: ERROR: autoload.js configured with elementid '0081400e-c8f1-45aa-be56-db5b7672920d' but no matching script tag was found. \")\n",
       "      return false;\n",
       "    }\n",
       "  \n",
       "    var js_urls = [];\n",
       "  \n",
       "    var inline_js = [\n",
       "      function(Bokeh) {\n",
       "        Bokeh.$(function() {\n",
       "            var docs_json = {\"f1af5355-ba86-450d-9419-9bb3418b6885\":{\"roots\":{\"references\":[{\"attributes\":{},\"id\":\"99c143b7-89a5-475f-a476-625753ceb3db\",\"type\":\"BasicTickFormatter\"},{\"attributes\":{\"formatter\":{\"id\":\"36e9c2d1-44ad-48a3-afbf-8dcda91a08a8\",\"type\":\"BasicTickFormatter\"},\"plot\":{\"id\":\"0c842902-c09f-41b8-811b-83093ef11c9f\",\"subtype\":\"Figure\",\"type\":\"Plot\"},\"ticker\":{\"id\":\"1ebc1554-3705-4353-aa8e-ee4a9eea596e\",\"type\":\"BasicTicker\"}},\"id\":\"d4a0d455-b574-4f82-a796-f536c6b65297\",\"type\":\"LinearAxis\"},{\"attributes\":{\"bottom\":{\"field\":\"bottom\"},\"fill_alpha\":{\"value\":0.1},\"fill_color\":{\"value\":\"#1f77b4\"},\"left\":{\"field\":\"left\"},\"line_alpha\":{\"value\":0.1},\"line_color\":{\"value\":\"#1f77b4\"},\"right\":{\"field\":\"right\"},\"top\":{\"field\":\"top\"}},\"id\":\"88a24991-5263-49da-ba4e-f3ea19c56254\",\"type\":\"Quad\"},{\"attributes\":{\"data_source\":{\"id\":\"9f080547-f15a-4ec9-bf4d-030e083af0a0\",\"type\":\"ColumnDataSource\"},\"glyph\":{\"id\":\"c74f03c8-6b00-40d6-8f62-bc7dc5ec1c53\",\"type\":\"MultiLine\"},\"hover_glyph\":null,\"nonselection_glyph\":{\"id\":\"e1eb0ab5-2a79-4d57-9901-9e907db65a86\",\"type\":\"MultiLine\"},\"selection_glyph\":null},\"id\":\"a1c4c296-28bd-456b-b86a-4735c79ab3c3\",\"type\":\"GlyphRenderer\"},{\"attributes\":{},\"id\":\"12ea4a46-e215-46f6-9fa1-cdd92d8de0cf\",\"type\":\"ToolEvents\"},{\"attributes\":{\"plot\":{\"id\":\"0c842902-c09f-41b8-811b-83093ef11c9f\",\"subtype\":\"Figure\",\"type\":\"Plot\"}},\"id\":\"dfdb9d8a-7a6a-40f0-ab93-93c816a71ecc\",\"type\":\"WheelZoomTool\"},{\"attributes\":{\"overlay\":{\"id\":\"4756433c-06c3-447b-8ebf-1d1b3edc4042\",\"type\":\"BoxAnnotation\"},\"plot\":{\"id\":\"0c842902-c09f-41b8-811b-83093ef11c9f\",\"subtype\":\"Figure\",\"type\":\"Plot\"}},\"id\":\"7785bebe-fe75-46cc-a610-dae5df2727ce\",\"type\":\"BoxZoomTool\"},{\"attributes\":{\"plot\":{\"id\":\"0c842902-c09f-41b8-811b-83093ef11c9f\",\"subtype\":\"Figure\",\"type\":\"Plot\"},\"ticker\":{\"id\":\"1ebc1554-3705-4353-aa8e-ee4a9eea596e\",\"type\":\"BasicTicker\"}},\"id\":\"657e1031-b7d3-4779-9e86-8b5cc43aa84f\",\"type\":\"Grid\"},{\"attributes\":{\"plot\":{\"id\":\"0c842902-c09f-41b8-811b-83093ef11c9f\",\"subtype\":\"Figure\",\"type\":\"Plot\"}},\"id\":\"914711c2-814d-4901-9441-630fee3c4d87\",\"type\":\"PanTool\"},{\"attributes\":{\"bottom\":{\"field\":\"bottom\"},\"fill_color\":{\"field\":\"fill_color\"},\"left\":{\"field\":\"left\"},\"line_color\":{\"value\":null},\"right\":{\"field\":\"right\"},\"top\":{\"field\":\"top\"}},\"id\":\"65d8c22f-2893-4e2c-87b1-5bcfd761befe\",\"type\":\"Quad\"},{\"attributes\":{\"level\":\"glyph\",\"plot\":{\"id\":\"0c842902-c09f-41b8-811b-83093ef11c9f\",\"subtype\":\"Figure\",\"type\":\"Plot\"},\"source\":{\"id\":\"4f684768-4179-40e0-99c0-59a2f9bba3b8\",\"type\":\"ColumnDataSource\"},\"text\":{\"field\":\"vals\"},\"text_align\":\"center\",\"text_baseline\":\"middle\",\"text_font_size\":{\"value\":\"8pt\"},\"x\":{\"field\":\"x\"},\"y\":{\"field\":\"y\"}},\"id\":\"bfcbf361-4746-4870-864b-d4e9f4aa08ad\",\"type\":\"LabelSet\"},{\"attributes\":{\"callback\":null,\"column_names\":[\"right\",\"bottom\",\"top\",\"left\",\"fill_color\"],\"data\":{\"bottom\":[150,50,250,50,150,250,350,350],\"fill_color\":[\"#61c461\",\"#ff00ff\",\"#61c461\",\"#00ff00\",\"#61c461\",\"#61c461\",\"#808080\",\"#61c461\"],\"left\":[135771974,135859157,135915358,136092061,136398174,136494186,136501840,136682274],\"right\":[136140304,135980938,135995079,136407479,136474098,136765951,136555659,136775898],\"top\":[195,62,296,90,194,295,398,397]}},\"id\":\"8795006d-6787-4638-99e8-3c1c64edf8ad\",\"type\":\"ColumnDataSource\"},{\"attributes\":{\"callback\":null,\"end\":136786630,\"start\":135757320},\"id\":\"869ab220-88e0-45ba-a9ef-28ca1e5e417f\",\"type\":\"Range1d\"},{\"attributes\":{\"bottom\":{\"field\":\"bottom\"},\"fill_alpha\":{\"value\":0.1},\"fill_color\":{\"value\":\"#1f77b4\"},\"left\":{\"field\":\"left\"},\"line_alpha\":{\"value\":0.1},\"line_color\":{\"value\":\"#1f77b4\"},\"right\":{\"field\":\"right\"},\"top\":{\"field\":\"top\"}},\"id\":\"ab9218be-fa83-4617-b05a-56ffbe096b62\",\"type\":\"Quad\"},{\"attributes\":{\"callback\":null,\"column_names\":[\"xs\",\"ys\",\"line_color\"],\"data\":{\"line_color\":[\"black\",\"black\",\"black\",\"black\",\"black\",\"black\",\"black\",\"black\",\"black\",\"black\",\"black\",\"black\",\"black\",\"black\",\"black\",\"black\",\"black\",\"black\",\"black\",\"black\",\"black\",\"black\",\"black\",\"black\",\"black\",\"black\",\"black\",\"black\",\"black\",\"black\",\"black\",\"black\",\"black\",\"black\",\"black\",\"black\",\"black\",\"black\",\"black\",\"black\",\"black\",\"black\",\"black\",\"black\",\"black\",\"black\",\"black\",\"black\",\"black\",\"black\",\"black\",\"black\",\"black\",\"black\",\"black\",\"black\",\"black\",\"black\",\"black\",\"black\",\"black\",\"black\",\"black\",\"black\",\"black\",\"black\",\"black\",\"black\",\"black\",\"black\",\"black\",\"black\",\"black\",\"black\",\"black\",\"black\",\"black\",\"black\",\"black\",\"black\",\"black\",\"black\",\"black\",\"black\",\"black\",\"black\",\"black\",\"black\",\"black\",\"black\",\"black\",\"black\",\"black\",\"black\",\"black\",\"black\",\"black\",\"black\",\"black\",\"black\",\"black\",\"black\",\"black\",\"black\",\"black\",\"black\",\"black\",\"black\",\"black\",\"black\",\"black\",\"black\",\"black\",\"black\",\"black\",\"black\",\"black\",\"black\",\"black\",\"black\",\"black\",\"black\",\"black\",\"black\",\"black\",\"black\",\"black\"],\"xs\":[[135771974,135771974],[135859371,135859371],[135877562,135877562],[136022798,136022798],[136058820,136058820],[136140304,136140304],[135859157,135859157],[135873466,135873466],[135925411,135925411],[135954198,135954198],[135973399,135973399],[135980938,135980938],[135915358,135915358],[135954405,135954405],[135995073,135995073],[135995079,135995079],[136092061,136092061],[136273578,136273578],[136322676,136322676],[136407479,136407479],[136398174,136398174],[136402117,136402117],[136403749,136403749],[136409073,136409073],[136410299,136410299],[136413359,136413359],[136416855,136416855],[136416941,136416941],[136418348,136418348],[136419961,136419961],[136420690,136420690],[136422171,136422171],[136428460,136428460],[136430866,136430866],[136432103,136432103],[136437507,136437507],[136439090,136439090],[136439517,136439517],[136444123,136444123],[136445526,136445526],[136445869,136445869],[136455600,136455600],[136456642,136456642],[136462441,136462441],[136470714,136470714],[136474098,136474098],[136494186,136494186],[136495300,136495300],[136495619,136495619],[136499166,136499166],[136502792,136502792],[136503157,136503157],[136507039,136507039],[136511575,136511575],[136518103,136518103],[136521514,136521514],[136522675,136522675],[136522941,136522941],[136526981,136526981],[136535410,136535410],[136539122,136539122],[136544197,136544197],[136550109,136550109],[136551694,136551694],[136553188,136553188],[136553639,136553639],[136554800,136554800],[136557319,136557319],[136558157,136558157],[136569848,136569848],[136575199,136575199],[136576577,136576577],[136578536,136578536],[136580287,136580287],[136583192,136583192],[136586958,136586958],[136588478,136588478],[136589612,136589612],[136591178,136591178],[136591859,136591859],[136593760,136593760],[136594158,136594158],[136603276,136603276],[136603366,136603366],[136608231,136608231],[136609975,136609975],[136610598,136610598],[136611624,136611624],[136613780,136613780],[136614255,136614255],[136614813,136614813],[136617524,136617524],[136622216,136622216],[136625602,136625602],[136629911,136629911],[136630757,136630757],[136630989,136630989],[136631031,136631031],[136633771,136633771],[136636324,136636324],[136638216,136638216],[136640233,136640233],[136641882,136641882],[136643555,136643555],[136658345,136658345],[136670298,136670298],[136685228,136685228],[136696138,136696138],[136740900,136740900],[136765951,136765951],[136501840,136501840],[136505546,136505546],[136516748,136516748],[136522710,136522710],[136528004,136528004],[136539513,136539513],[136544752,136544752],[136546110,136546110],[136553529,136553529],[136555659,136555659],[136682274,136682274],[136691825,136691825],[136698098,136698098],[136721603,136721603],[136721995,136721995],[136755684,136755684],[136775898,136775898]],\"ys\":[[150,195],[150,195],[150,195],[150,195],[150,195],[150,195],[50,62],[50,62],[50,62],[50,62],[50,62],[50,62],[250,296],[250,296],[250,296],[250,296],[50,90],[50,90],[50,90],[50,90],[150,194],[150,194],[150,194],[150,194],[150,194],[150,194],[150,194],[150,194],[150,194],[150,194],[150,194],[150,194],[150,194],[150,194],[150,194],[150,194],[150,194],[150,194],[150,194],[150,194],[150,194],[150,194],[150,194],[150,194],[150,194],[150,194],[250,295],[250,295],[250,295],[250,295],[250,295],[250,295],[250,295],[250,295],[250,295],[250,295],[250,295],[250,295],[250,295],[250,295],[250,295],[250,295],[250,295],[250,295],[250,295],[250,295],[250,295],[250,295],[250,295],[250,295],[250,295],[250,295],[250,295],[250,295],[250,295],[250,295],[250,295],[250,295],[250,295],[250,295],[250,295],[250,295],[250,295],[250,295],[250,295],[250,295],[250,295],[250,295],[250,295],[250,295],[250,295],[250,295],[250,295],[250,295],[250,295],[250,295],[250,295],[250,295],[250,295],[250,295],[250,295],[250,295],[250,295],[250,295],[250,295],[250,295],[250,295],[250,295],[250,295],[250,295],[350,398],[350,398],[350,398],[350,398],[350,398],[350,398],[350,398],[350,398],[350,398],[350,398],[350,397],[350,397],[350,397],[350,397],[350,397],[350,397],[350,397]]}},\"id\":\"9f080547-f15a-4ec9-bf4d-030e083af0a0\",\"type\":\"ColumnDataSource\"},{\"attributes\":{\"data_source\":{\"id\":\"83576cec-1976-4307-8392-d7a5d3876bb8\",\"type\":\"ColumnDataSource\"},\"glyph\":{\"id\":\"388f35d7-3ada-4c13-a413-ebd63214f34d\",\"type\":\"Quad\"},\"hover_glyph\":null,\"nonselection_glyph\":{\"id\":\"88a24991-5263-49da-ba4e-f3ea19c56254\",\"type\":\"Quad\"},\"selection_glyph\":null},\"id\":\"0e575f4f-aa2f-4b61-9e31-6bb137d6ff40\",\"type\":\"GlyphRenderer\"},{\"attributes\":{\"data_source\":{\"id\":\"8795006d-6787-4638-99e8-3c1c64edf8ad\",\"type\":\"ColumnDataSource\"},\"glyph\":{\"id\":\"65d8c22f-2893-4e2c-87b1-5bcfd761befe\",\"type\":\"Quad\"},\"hover_glyph\":null,\"nonselection_glyph\":{\"id\":\"ab9218be-fa83-4617-b05a-56ffbe096b62\",\"type\":\"Quad\"},\"selection_glyph\":null},\"id\":\"0a28b5bd-4790-4623-ac56-614b4b0d2c76\",\"type\":\"GlyphRenderer\"},{\"attributes\":{\"below\":[{\"id\":\"d4a0d455-b574-4f82-a796-f536c6b65297\",\"type\":\"LinearAxis\"}],\"left\":[{\"id\":\"797c2305-69ae-4fb6-a377-8b6f37bade71\",\"type\":\"LinearAxis\"}],\"plot_height\":500,\"plot_width\":900,\"renderers\":[{\"id\":\"d4a0d455-b574-4f82-a796-f536c6b65297\",\"type\":\"LinearAxis\"},{\"id\":\"657e1031-b7d3-4779-9e86-8b5cc43aa84f\",\"type\":\"Grid\"},{\"id\":\"797c2305-69ae-4fb6-a377-8b6f37bade71\",\"type\":\"LinearAxis\"},{\"id\":\"446c6c39-ee93-448b-b1b9-a184f8ab449b\",\"type\":\"Grid\"},{\"id\":\"4756433c-06c3-447b-8ebf-1d1b3edc4042\",\"type\":\"BoxAnnotation\"},{\"id\":\"0a28b5bd-4790-4623-ac56-614b4b0d2c76\",\"type\":\"GlyphRenderer\"},{\"id\":\"a1c4c296-28bd-456b-b86a-4735c79ab3c3\",\"type\":\"GlyphRenderer\"},{\"id\":\"6e24a199-13c4-4941-8729-7fb724ab7e55\",\"type\":\"LabelSet\"},{\"id\":\"0e575f4f-aa2f-4b61-9e31-6bb137d6ff40\",\"type\":\"GlyphRenderer\"},{\"id\":\"bfcbf361-4746-4870-864b-d4e9f4aa08ad\",\"type\":\"LabelSet\"}],\"title\":{\"id\":\"0e520131-52c4-4fa4-981f-0820f371e7c1\",\"type\":\"Title\"},\"tool_events\":{\"id\":\"12ea4a46-e215-46f6-9fa1-cdd92d8de0cf\",\"type\":\"ToolEvents\"},\"toolbar\":{\"id\":\"328aade5-e6e1-44bf-bcd1-a5b8e42d1559\",\"type\":\"Toolbar\"},\"toolbar_location\":null,\"x_range\":{\"id\":\"869ab220-88e0-45ba-a9ef-28ca1e5e417f\",\"type\":\"Range1d\"},\"y_range\":{\"id\":\"40339ecb-7825-4500-80d8-2dda2d08134a\",\"type\":\"Range1d\"}},\"id\":\"0c842902-c09f-41b8-811b-83093ef11c9f\",\"subtype\":\"Figure\",\"type\":\"Plot\"},{\"attributes\":{\"plot\":{\"id\":\"0c842902-c09f-41b8-811b-83093ef11c9f\",\"subtype\":\"Figure\",\"type\":\"Plot\"}},\"id\":\"a1688dca-9630-4ae8-9d96-6158f4a78c3c\",\"type\":\"SaveTool\"},{\"attributes\":{\"bottom_units\":\"screen\",\"fill_alpha\":{\"value\":0.5},\"fill_color\":{\"value\":\"lightgrey\"},\"left_units\":\"screen\",\"level\":\"overlay\",\"line_alpha\":{\"value\":1.0},\"line_color\":{\"value\":\"black\"},\"line_dash\":[4,4],\"line_width\":{\"value\":2},\"plot\":null,\"render_mode\":\"css\",\"right_units\":\"screen\",\"top_units\":\"screen\"},\"id\":\"4756433c-06c3-447b-8ebf-1d1b3edc4042\",\"type\":\"BoxAnnotation\"},{\"attributes\":{\"callback\":null,\"column_names\":[\"y\",\"x\",\"vals\"],\"data\":{\"vals\":[\"6_1503\",\"6_35\",\"4_1699\",\"4_911\",\"26_1414\",\"64_1575\",\"10_2206\",\"7_1868\"],\"x\":[135771974,135859157,135915358,136092061,136398174,136494186,136501840,136682274],\"y\":[200.0,67.0,301.0,95.0,199.0,300.0,403.0,402.0]}},\"id\":\"5990d7cf-5961-4a3b-b11b-2045c92d4c41\",\"type\":\"ColumnDataSource\"},{\"attributes\":{\"plot\":{\"id\":\"0c842902-c09f-41b8-811b-83093ef11c9f\",\"subtype\":\"Figure\",\"type\":\"Plot\"}},\"id\":\"71e30a6f-7a4a-4e8c-94be-7578fa4dbf1c\",\"type\":\"ResetTool\"},{\"attributes\":{\"formatter\":{\"id\":\"99c143b7-89a5-475f-a476-625753ceb3db\",\"type\":\"BasicTickFormatter\"},\"plot\":{\"id\":\"0c842902-c09f-41b8-811b-83093ef11c9f\",\"subtype\":\"Figure\",\"type\":\"Plot\"},\"ticker\":{\"id\":\"68c4c689-3856-47df-89ac-4ba495157026\",\"type\":\"BasicTicker\"},\"visible\":null},\"id\":\"797c2305-69ae-4fb6-a377-8b6f37bade71\",\"type\":\"LinearAxis\"},{\"attributes\":{},\"id\":\"68c4c689-3856-47df-89ac-4ba495157026\",\"type\":\"BasicTicker\"},{\"attributes\":{\"line_color\":{\"field\":\"line_color\"},\"xs\":{\"field\":\"xs\"},\"ys\":{\"field\":\"ys\"}},\"id\":\"c74f03c8-6b00-40d6-8f62-bc7dc5ec1c53\",\"type\":\"MultiLine\"},{\"attributes\":{\"callback\":null,\"column_names\":[\"right\",\"bottom\",\"top\",\"left\"],\"data\":{\"bottom\":[445,445,445,445,445,445,445],\"left\":[135809835,135957574,136289083,136499189,136545415,136597196,136664254],\"right\":[135928279,136288182,136482839,136542633,136594750,136634047,136743222],\"top\":[475,475,475,475,475,475,475]}},\"id\":\"83576cec-1976-4307-8392-d7a5d3876bb8\",\"type\":\"ColumnDataSource\"},{\"attributes\":{\"level\":\"glyph\",\"plot\":{\"id\":\"0c842902-c09f-41b8-811b-83093ef11c9f\",\"subtype\":\"Figure\",\"type\":\"Plot\"},\"source\":{\"id\":\"5990d7cf-5961-4a3b-b11b-2045c92d4c41\",\"type\":\"ColumnDataSource\"},\"text\":{\"field\":\"vals\"},\"text_font_size\":{\"value\":\"9pt\"},\"text_font_style\":\"bold\",\"x\":{\"field\":\"x\"},\"y\":{\"field\":\"y\"}},\"id\":\"6e24a199-13c4-4941-8729-7fb724ab7e55\",\"type\":\"LabelSet\"},{\"attributes\":{\"callback\":null,\"column_names\":[\"y\",\"x\",\"vals\"],\"data\":{\"vals\":[\"RAB3GAP1\",\"ZRANB3\",\"R3HDM1\",\"UBXN4\",\"LCT\",\"MCM6\",\"DARS\"],\"x\":[135869057.0,136122878.0,136385961.0,136520911.0,136570082.5,136615621.5,136703738.0],\"y\":[460.0,460.0,460.0,460.0,460.0,460.0,460.0]}},\"id\":\"4f684768-4179-40e0-99c0-59a2f9bba3b8\",\"type\":\"ColumnDataSource\"},{\"attributes\":{\"plot\":{\"id\":\"0c842902-c09f-41b8-811b-83093ef11c9f\",\"subtype\":\"Figure\",\"type\":\"Plot\"}},\"id\":\"3d0ece2a-da44-495f-bf32-aa8f46c9681f\",\"type\":\"HelpTool\"},{\"attributes\":{\"line_alpha\":{\"value\":0.1},\"line_color\":{\"value\":\"#1f77b4\"},\"xs\":{\"field\":\"xs\"},\"ys\":{\"field\":\"ys\"}},\"id\":\"e1eb0ab5-2a79-4d57-9901-9e907db65a86\",\"type\":\"MultiLine\"},{\"attributes\":{},\"id\":\"1ebc1554-3705-4353-aa8e-ee4a9eea596e\",\"type\":\"BasicTicker\"},{\"attributes\":{\"callback\":null,\"end\":500},\"id\":\"40339ecb-7825-4500-80d8-2dda2d08134a\",\"type\":\"Range1d\"},{\"attributes\":{\"dimension\":1,\"plot\":{\"id\":\"0c842902-c09f-41b8-811b-83093ef11c9f\",\"subtype\":\"Figure\",\"type\":\"Plot\"},\"ticker\":{\"id\":\"68c4c689-3856-47df-89ac-4ba495157026\",\"type\":\"BasicTicker\"}},\"id\":\"446c6c39-ee93-448b-b1b9-a184f8ab449b\",\"type\":\"Grid\"},{\"attributes\":{\"active_drag\":\"auto\",\"active_scroll\":\"auto\",\"active_tap\":\"auto\",\"tools\":[{\"id\":\"914711c2-814d-4901-9441-630fee3c4d87\",\"type\":\"PanTool\"},{\"id\":\"dfdb9d8a-7a6a-40f0-ab93-93c816a71ecc\",\"type\":\"WheelZoomTool\"},{\"id\":\"7785bebe-fe75-46cc-a610-dae5df2727ce\",\"type\":\"BoxZoomTool\"},{\"id\":\"a1688dca-9630-4ae8-9d96-6158f4a78c3c\",\"type\":\"SaveTool\"},{\"id\":\"71e30a6f-7a4a-4e8c-94be-7578fa4dbf1c\",\"type\":\"ResetTool\"},{\"id\":\"3d0ece2a-da44-495f-bf32-aa8f46c9681f\",\"type\":\"HelpTool\"}]},\"id\":\"328aade5-e6e1-44bf-bcd1-a5b8e42d1559\",\"type\":\"Toolbar\"},{\"attributes\":{\"plot\":null,\"text\":null},\"id\":\"0e520131-52c4-4fa4-981f-0820f371e7c1\",\"type\":\"Title\"},{\"attributes\":{},\"id\":\"36e9c2d1-44ad-48a3-afbf-8dcda91a08a8\",\"type\":\"BasicTickFormatter\"},{\"attributes\":{\"bottom\":{\"field\":\"bottom\"},\"fill_color\":{\"value\":\"white\"},\"left\":{\"field\":\"left\"},\"right\":{\"field\":\"right\"},\"top\":{\"field\":\"top\"}},\"id\":\"388f35d7-3ada-4c13-a413-ebd63214f34d\",\"type\":\"Quad\"}],\"root_ids\":[\"0c842902-c09f-41b8-811b-83093ef11c9f\"]},\"title\":\"Bokeh Application\",\"version\":\"0.12.0\"}};\n",
       "            var render_items = [{\"docid\":\"f1af5355-ba86-450d-9419-9bb3418b6885\",\"elementid\":\"0081400e-c8f1-45aa-be56-db5b7672920d\",\"modelid\":\"0c842902-c09f-41b8-811b-83093ef11c9f\",\"notebook_comms_target\":\"c38b31e5-0b62-40ae-8383-f483a0250d91\"}];\n",
       "            \n",
       "            Bokeh.embed.embed_items(docs_json, render_items);\n",
       "        });\n",
       "      },\n",
       "      function(Bokeh) {\n",
       "      }\n",
       "    ];\n",
       "  \n",
       "    function run_inline_js() {\n",
       "      for (var i = 0; i < inline_js.length; i++) {\n",
       "        inline_js[i](window.Bokeh);\n",
       "      }\n",
       "    }\n",
       "  \n",
       "    if (window._bokeh_is_loading === 0) {\n",
       "      console.log(\"Bokeh: BokehJS loaded, going straight to plotting\");\n",
       "      run_inline_js();\n",
       "    } else {\n",
       "      load_libs(js_urls, function() {\n",
       "        console.log(\"Bokeh: BokehJS plotting callback run at\", now());\n",
       "        run_inline_js();\n",
       "      });\n",
       "    }\n",
       "  }(this));\n",
       "</script>"
      ]
     },
     "metadata": {},
     "output_type": "display_data"
    },
    {
     "data": {
      "text/html": [
       "<p><code>&lt;Bokeh Notebook handle for <strong>In[7]</strong>&gt;</code></p>"
      ],
      "text/plain": [
       "<bokeh.io._CommsHandle at 0x7f358cf0a150>"
      ]
     },
     "execution_count": 7,
     "metadata": {},
     "output_type": "execute_result"
    }
   ],
   "source": [
    "plt_obj = dm.superset_yes_no([di_6_35, dm.di_10_2206, dm.di_7_1868, dm.di_4_911], min_match=0.001)\n",
    "plt = plt_obj.do_plot()\n",
    "show(plt)"
   ]
  },
  {
   "cell_type": "code",
   "execution_count": 8,
   "metadata": {
    "collapsed": false
   },
   "outputs": [
    {
     "data": {
      "text/html": [
       "<table>\n",
       "<thead><tr><th style=\"text-align:center\">index</th><th style=\"text-align:center\">first</th><th style=\"text-align:center\">length</th><th style=\"text-align:center\">snps</th><th style=\"text-align:center\" colspan=2>alleles</th><th style=\"text-align:center\" colspan=2>matches</th><th style=\"text-align:center\" colspan=2>afr</th><th style=\"text-align:center\" colspan=2>afx</th><th style=\"text-align:center\" colspan=2>amr</th><th style=\"text-align:center\" colspan=2>eas</th><th style=\"text-align:center\" colspan=2>eur</th><th style=\"text-align:center\" colspan=2>sas</th><th style=\"text-align:center\" colspan=2>sax</th></tr></thead>\n",
       "<tr class=\"even\"><td style=\"text-align: right;\">353921</td><td style=\"text-align: right;\">136,501,840</td><td style=\"text-align: right;\">53,819</td><td style=\"text-align: right;\">10</td><td style=\"text-align: right;\">2206</td><td style=\"text-align: right;\">0.00</td><td style=\"text-align: right;\">1</td><td style=\"text-align: right;\">1.00</td><td style=\"text-align: right;\">0</td><td style=\"text-align: right;\">0.00</td><td style=\"text-align: right;\">0</td><td style=\"text-align: right;\">0.00</td><td style=\"text-align: right;\">1</td><td style=\"text-align: right;\">7.22</td><td style=\"text-align: right;\">0</td><td style=\"text-align: right;\">0.00</td><td style=\"text-align: right;\">0</td><td style=\"text-align: right;\">0.00</td><td style=\"text-align: right;\">0</td><td style=\"text-align: right;\">0.00</td><td style=\"text-align: right;\">0</td><td style=\"text-align: right;\">0.00</td></tr>\n",
       "<tr><td style=\"text-align: right;\">354170</td><td style=\"text-align: right;\">136,682,274</td><td style=\"text-align: right;\">93,624</td><td style=\"text-align: right;\">7</td><td style=\"text-align: right;\">1868</td><td style=\"text-align: right;\">0.00</td><td style=\"text-align: right;\">1</td><td style=\"text-align: right;\">1.00</td><td style=\"text-align: right;\">0</td><td style=\"text-align: right;\">0.00</td><td style=\"text-align: right;\">0</td><td style=\"text-align: right;\">0.00</td><td style=\"text-align: right;\">1</td><td style=\"text-align: right;\">7.22</td><td style=\"text-align: right;\">0</td><td style=\"text-align: right;\">0.00</td><td style=\"text-align: right;\">0</td><td style=\"text-align: right;\">0.00</td><td style=\"text-align: right;\">0</td><td style=\"text-align: right;\">0.00</td><td style=\"text-align: right;\">0</td><td style=\"text-align: right;\">0.00</td></tr>\n",
       "<tr class=\"even\"><td style=\"text-align: right;\">353462</td><td style=\"text-align: right;\">135,915,358</td><td style=\"text-align: right;\">79,721</td><td style=\"text-align: right;\">4</td><td style=\"text-align: right;\">1699</td><td style=\"text-align: right;\">0.00</td><td style=\"text-align: right;\">1</td><td style=\"text-align: right;\">1.00</td><td style=\"text-align: right;\">0</td><td style=\"text-align: right;\">0.00</td><td style=\"text-align: right;\">0</td><td style=\"text-align: right;\">0.00</td><td style=\"text-align: right;\">1</td><td style=\"text-align: right;\">7.22</td><td style=\"text-align: right;\">0</td><td style=\"text-align: right;\">0.00</td><td style=\"text-align: right;\">0</td><td style=\"text-align: right;\">0.00</td><td style=\"text-align: right;\">0</td><td style=\"text-align: right;\">0.00</td><td style=\"text-align: right;\">0</td><td style=\"text-align: right;\">0.00</td></tr>\n",
       "<tr><td style=\"text-align: right;\">353901</td><td style=\"text-align: right;\">136,494,186</td><td style=\"text-align: right;\">271,765</td><td style=\"text-align: right;\">64</td><td style=\"text-align: right;\">1575</td><td style=\"text-align: right;\">0.00</td><td style=\"text-align: right;\">1</td><td style=\"text-align: right;\">1.00</td><td style=\"text-align: right;\">0</td><td style=\"text-align: right;\">0.00</td><td style=\"text-align: right;\">0</td><td style=\"text-align: right;\">0.00</td><td style=\"text-align: right;\">1</td><td style=\"text-align: right;\">7.22</td><td style=\"text-align: right;\">0</td><td style=\"text-align: right;\">0.00</td><td style=\"text-align: right;\">0</td><td style=\"text-align: right;\">0.00</td><td style=\"text-align: right;\">0</td><td style=\"text-align: right;\">0.00</td><td style=\"text-align: right;\">0</td><td style=\"text-align: right;\">0.00</td></tr>\n",
       "<tr class=\"even\"><td style=\"text-align: right;\">353283</td><td style=\"text-align: right;\">135,771,974</td><td style=\"text-align: right;\">368,330</td><td style=\"text-align: right;\">6</td><td style=\"text-align: right;\">1503</td><td style=\"text-align: right;\">0.00</td><td style=\"text-align: right;\">1</td><td style=\"text-align: right;\">1.00</td><td style=\"text-align: right;\">0</td><td style=\"text-align: right;\">0.00</td><td style=\"text-align: right;\">0</td><td style=\"text-align: right;\">0.00</td><td style=\"text-align: right;\">1</td><td style=\"text-align: right;\">7.22</td><td style=\"text-align: right;\">0</td><td style=\"text-align: right;\">0.00</td><td style=\"text-align: right;\">0</td><td style=\"text-align: right;\">0.00</td><td style=\"text-align: right;\">0</td><td style=\"text-align: right;\">0.00</td><td style=\"text-align: right;\">0</td><td style=\"text-align: right;\">0.00</td></tr>\n",
       "<tr><td style=\"text-align: right;\">353797</td><td style=\"text-align: right;\">136,398,174</td><td style=\"text-align: right;\">75,924</td><td style=\"text-align: right;\">26</td><td style=\"text-align: right;\">1414</td><td style=\"text-align: right;\">0.00</td><td style=\"text-align: right;\">1</td><td style=\"text-align: right;\">1.00</td><td style=\"text-align: right;\">0</td><td style=\"text-align: right;\">0.00</td><td style=\"text-align: right;\">0</td><td style=\"text-align: right;\">0.00</td><td style=\"text-align: right;\">1</td><td style=\"text-align: right;\">7.22</td><td style=\"text-align: right;\">0</td><td style=\"text-align: right;\">0.00</td><td style=\"text-align: right;\">0</td><td style=\"text-align: right;\">0.00</td><td style=\"text-align: right;\">0</td><td style=\"text-align: right;\">0.00</td><td style=\"text-align: right;\">0</td><td style=\"text-align: right;\">0.00</td></tr>\n",
       "<tr class=\"even\"><td style=\"text-align: right;\">353604</td><td style=\"text-align: right;\">136,092,061</td><td style=\"text-align: right;\">315,418</td><td style=\"text-align: right;\">4</td><td style=\"text-align: right;\">911</td><td style=\"text-align: right;\">0.00</td><td style=\"text-align: right;\">1</td><td style=\"text-align: right;\">1.00</td><td style=\"text-align: right;\">0</td><td style=\"text-align: right;\">0.00</td><td style=\"text-align: right;\">0</td><td style=\"text-align: right;\">0.00</td><td style=\"text-align: right;\">1</td><td style=\"text-align: right;\">7.22</td><td style=\"text-align: right;\">0</td><td style=\"text-align: right;\">0.00</td><td style=\"text-align: right;\">0</td><td style=\"text-align: right;\">0.00</td><td style=\"text-align: right;\">0</td><td style=\"text-align: right;\">0.00</td><td style=\"text-align: right;\">0</td><td style=\"text-align: right;\">0.00</td></tr>\n",
       "<tr><td style=\"text-align: right;\">353407</td><td style=\"text-align: right;\">135,859,157</td><td style=\"text-align: right;\">121,781</td><td style=\"text-align: right;\">6</td><td style=\"text-align: right;\">35</td><td style=\"text-align: right;\">0.03</td><td style=\"text-align: right;\">1</td><td style=\"text-align: right;\">1.00</td><td style=\"text-align: right;\">0</td><td style=\"text-align: right;\">0.00</td><td style=\"text-align: right;\">0</td><td style=\"text-align: right;\">0.00</td><td style=\"text-align: right;\">1</td><td style=\"text-align: right;\">7.22</td><td style=\"text-align: right;\">0</td><td style=\"text-align: right;\">0.00</td><td style=\"text-align: right;\">0</td><td style=\"text-align: right;\">0.00</td><td style=\"text-align: right;\">0</td><td style=\"text-align: right;\">0.00</td><td style=\"text-align: right;\">0</td><td style=\"text-align: right;\">0.00</td></tr>\n",
       "</table>"
      ],
      "text/plain": [
       "<IPython.core.display.HTML object>"
      ]
     },
     "execution_count": 8,
     "metadata": {},
     "output_type": "execute_result"
    }
   ],
   "source": [
    "HTML(plt_obj.get_html())"
   ]
  },
  {
   "cell_type": "code",
   "execution_count": 9,
   "metadata": {
    "collapsed": false
   },
   "outputs": [
    {
     "data": {
      "text/html": [
       "\n",
       "\n",
       "    <div class=\"bk-root\">\n",
       "        <div class=\"plotdiv\" id=\"6524b96d-36d4-4a4c-b374-d548760e5dba\"></div>\n",
       "    </div>\n",
       "<script type=\"text/javascript\">\n",
       "  \n",
       "  (function(global) {\n",
       "    function now() {\n",
       "      return new Date();\n",
       "    }\n",
       "  \n",
       "    if (typeof (window._bokeh_onload_callbacks) === \"undefined\") {\n",
       "      window._bokeh_onload_callbacks = [];\n",
       "    }\n",
       "  \n",
       "    function run_callbacks() {\n",
       "      window._bokeh_onload_callbacks.forEach(function(callback) { callback() });\n",
       "      delete window._bokeh_onload_callbacks\n",
       "      console.info(\"Bokeh: all callbacks have finished\");\n",
       "    }\n",
       "  \n",
       "    function load_libs(js_urls, callback) {\n",
       "      window._bokeh_onload_callbacks.push(callback);\n",
       "      if (window._bokeh_is_loading > 0) {\n",
       "        console.log(\"Bokeh: BokehJS is being loaded, scheduling callback at\", now());\n",
       "        return null;\n",
       "      }\n",
       "      if (js_urls == null || js_urls.length === 0) {\n",
       "        run_callbacks();\n",
       "        return null;\n",
       "      }\n",
       "      console.log(\"Bokeh: BokehJS not loaded, scheduling load and callback at\", now());\n",
       "      window._bokeh_is_loading = js_urls.length;\n",
       "      for (var i = 0; i < js_urls.length; i++) {\n",
       "        var url = js_urls[i];\n",
       "        var s = document.createElement('script');\n",
       "        s.src = url;\n",
       "        s.async = false;\n",
       "        s.onreadystatechange = s.onload = function() {\n",
       "          window._bokeh_is_loading--;\n",
       "          if (window._bokeh_is_loading === 0) {\n",
       "            console.log(\"Bokeh: all BokehJS libraries loaded\");\n",
       "            run_callbacks()\n",
       "          }\n",
       "        };\n",
       "        s.onerror = function() {\n",
       "          console.warn(\"failed to load library \" + url);\n",
       "        };\n",
       "        console.log(\"Bokeh: injecting script tag for BokehJS library: \", url);\n",
       "        document.getElementsByTagName(\"head\")[0].appendChild(s);\n",
       "      }\n",
       "    };var element = document.getElementById(\"6524b96d-36d4-4a4c-b374-d548760e5dba\");\n",
       "    if (element == null) {\n",
       "      console.log(\"Bokeh: ERROR: autoload.js configured with elementid '6524b96d-36d4-4a4c-b374-d548760e5dba' but no matching script tag was found. \")\n",
       "      return false;\n",
       "    }\n",
       "  \n",
       "    var js_urls = [];\n",
       "  \n",
       "    var inline_js = [\n",
       "      function(Bokeh) {\n",
       "        Bokeh.$(function() {\n",
       "            var docs_json = {\"e2e07a03-6472-4b6e-8e90-7504c834f9ed\":{\"roots\":{\"references\":[{\"attributes\":{\"bottom\":{\"field\":\"bottom\"},\"fill_alpha\":{\"value\":0.1},\"fill_color\":{\"value\":\"#1f77b4\"},\"left\":{\"field\":\"left\"},\"line_alpha\":{\"value\":0.1},\"line_color\":{\"value\":\"#1f77b4\"},\"right\":{\"field\":\"right\"},\"top\":{\"field\":\"top\"}},\"id\":\"13988572-f12e-4b0f-b09d-9c3c96122dcb\",\"type\":\"Quad\"},{\"attributes\":{\"level\":\"glyph\",\"plot\":{\"id\":\"505c6fca-ebdd-4eeb-a7b0-05abd9c12a8c\",\"subtype\":\"Figure\",\"type\":\"Plot\"},\"source\":{\"id\":\"184c234a-ffaa-4829-b778-343bda404523\",\"type\":\"ColumnDataSource\"},\"text\":{\"field\":\"vals\"},\"text_font_size\":{\"value\":\"9pt\"},\"text_font_style\":\"bold\",\"x\":{\"field\":\"x\"},\"y\":{\"field\":\"y\"}},\"id\":\"82d12d0a-fffe-45f0-83dd-f3e26ea2608d\",\"type\":\"LabelSet\"},{\"attributes\":{\"level\":\"glyph\",\"plot\":{\"id\":\"505c6fca-ebdd-4eeb-a7b0-05abd9c12a8c\",\"subtype\":\"Figure\",\"type\":\"Plot\"},\"source\":{\"id\":\"fe864253-81e8-482b-87e8-989b4a195968\",\"type\":\"ColumnDataSource\"},\"text\":{\"field\":\"vals\"},\"text_align\":\"center\",\"text_baseline\":\"middle\",\"text_font_size\":{\"value\":\"8pt\"},\"x\":{\"field\":\"x\"},\"y\":{\"field\":\"y\"}},\"id\":\"a32b33c7-d76e-4e7d-b9f5-a89d4d9c551e\",\"type\":\"LabelSet\"},{\"attributes\":{\"plot\":{\"id\":\"505c6fca-ebdd-4eeb-a7b0-05abd9c12a8c\",\"subtype\":\"Figure\",\"type\":\"Plot\"}},\"id\":\"b4818d5a-dee7-4d83-b456-f1a77b697cba\",\"type\":\"PanTool\"},{\"attributes\":{},\"id\":\"d28f6103-f198-48fa-a4d6-8c523aff16d6\",\"type\":\"BasicTickFormatter\"},{\"attributes\":{},\"id\":\"fa1d6296-bddd-4907-aa22-7071eeb73137\",\"type\":\"BasicTicker\"},{\"attributes\":{\"line_color\":{\"field\":\"line_color\"},\"xs\":{\"field\":\"xs\"},\"ys\":{\"field\":\"ys\"}},\"id\":\"539c36d5-c81d-486b-a534-0f125b113d97\",\"type\":\"MultiLine\"},{\"attributes\":{},\"id\":\"27b5897b-822f-4776-8cd2-d537e2fc615a\",\"type\":\"ToolEvents\"},{\"attributes\":{\"data_source\":{\"id\":\"4b2ebd7d-26fd-4a4d-992d-896612633d85\",\"type\":\"ColumnDataSource\"},\"glyph\":{\"id\":\"539c36d5-c81d-486b-a534-0f125b113d97\",\"type\":\"MultiLine\"},\"hover_glyph\":null,\"nonselection_glyph\":{\"id\":\"2c52ce72-2cc2-44f0-bf1c-ec8411d0f3c2\",\"type\":\"MultiLine\"},\"selection_glyph\":null},\"id\":\"2cdf0328-da9d-4ce5-95ad-db9e50b13e6e\",\"type\":\"GlyphRenderer\"},{\"attributes\":{\"callback\":null,\"column_names\":[\"y\",\"x\",\"vals\"],\"data\":{\"vals\":[\"6_1503\",\"6_35\",\"4_1699\",\"26_1414\",\"10_2206\",\"39_1014\"],\"x\":[135771974,135859157,135915358,136398174,136501840,136556805],\"y\":[200.0,67.0,301.0,199.0,303.0,196.0]}},\"id\":\"184c234a-ffaa-4829-b778-343bda404523\",\"type\":\"ColumnDataSource\"},{\"attributes\":{\"plot\":{\"id\":\"505c6fca-ebdd-4eeb-a7b0-05abd9c12a8c\",\"subtype\":\"Figure\",\"type\":\"Plot\"}},\"id\":\"09f52353-9f44-4c05-8c63-9bff514701eb\",\"type\":\"SaveTool\"},{\"attributes\":{\"bottom\":{\"field\":\"bottom\"},\"fill_color\":{\"field\":\"fill_color\"},\"left\":{\"field\":\"left\"},\"line_color\":{\"value\":null},\"right\":{\"field\":\"right\"},\"top\":{\"field\":\"top\"}},\"id\":\"4273279f-f36f-41bf-bf6b-c664ee61ae54\",\"type\":\"Quad\"},{\"attributes\":{\"active_drag\":\"auto\",\"active_scroll\":\"auto\",\"active_tap\":\"auto\",\"tools\":[{\"id\":\"b4818d5a-dee7-4d83-b456-f1a77b697cba\",\"type\":\"PanTool\"},{\"id\":\"3bef7323-9975-4698-8ef0-3bc54a0d8e14\",\"type\":\"WheelZoomTool\"},{\"id\":\"694e0a33-5748-408f-b4d6-74c83d0ffcbe\",\"type\":\"BoxZoomTool\"},{\"id\":\"09f52353-9f44-4c05-8c63-9bff514701eb\",\"type\":\"SaveTool\"},{\"id\":\"769e2f71-0a47-4f4f-a487-71c1231d49c0\",\"type\":\"ResetTool\"},{\"id\":\"f7a48afa-67c3-4aaa-9a60-231b7605218c\",\"type\":\"HelpTool\"}]},\"id\":\"bf3e5999-58eb-4e72-8873-f48fb5db7120\",\"type\":\"Toolbar\"},{\"attributes\":{\"plot\":null,\"text\":null},\"id\":\"5f475309-9d1f-40dc-802d-54952841203e\",\"type\":\"Title\"},{\"attributes\":{},\"id\":\"01682d29-7fb1-4b92-bff8-ca1d150bd0a9\",\"type\":\"BasicTickFormatter\"},{\"attributes\":{\"formatter\":{\"id\":\"01682d29-7fb1-4b92-bff8-ca1d150bd0a9\",\"type\":\"BasicTickFormatter\"},\"plot\":{\"id\":\"505c6fca-ebdd-4eeb-a7b0-05abd9c12a8c\",\"subtype\":\"Figure\",\"type\":\"Plot\"},\"ticker\":{\"id\":\"ee6d0d32-1508-4dab-8ca0-038cea21de86\",\"type\":\"BasicTicker\"},\"visible\":null},\"id\":\"7dd027df-a6e7-4186-94c9-a3c057167456\",\"type\":\"LinearAxis\"},{\"attributes\":{\"data_source\":{\"id\":\"4ddfbef7-ab32-48ee-9f64-2ed998d18d5b\",\"type\":\"ColumnDataSource\"},\"glyph\":{\"id\":\"442071c7-7919-4080-8dec-ca870d8e7109\",\"type\":\"Quad\"},\"hover_glyph\":null,\"nonselection_glyph\":{\"id\":\"13988572-f12e-4b0f-b09d-9c3c96122dcb\",\"type\":\"Quad\"},\"selection_glyph\":null},\"id\":\"10c8aa8a-fed8-4355-8a58-bd966a21c340\",\"type\":\"GlyphRenderer\"},{\"attributes\":{\"plot\":{\"id\":\"505c6fca-ebdd-4eeb-a7b0-05abd9c12a8c\",\"subtype\":\"Figure\",\"type\":\"Plot\"}},\"id\":\"3bef7323-9975-4698-8ef0-3bc54a0d8e14\",\"type\":\"WheelZoomTool\"},{\"attributes\":{\"bottom_units\":\"screen\",\"fill_alpha\":{\"value\":0.5},\"fill_color\":{\"value\":\"lightgrey\"},\"left_units\":\"screen\",\"level\":\"overlay\",\"line_alpha\":{\"value\":1.0},\"line_color\":{\"value\":\"black\"},\"line_dash\":[4,4],\"line_width\":{\"value\":2},\"plot\":null,\"render_mode\":\"css\",\"right_units\":\"screen\",\"top_units\":\"screen\"},\"id\":\"9f02fe37-f9d7-41bf-964c-a3fd92fc62d7\",\"type\":\"BoxAnnotation\"},{\"attributes\":{\"formatter\":{\"id\":\"d28f6103-f198-48fa-a4d6-8c523aff16d6\",\"type\":\"BasicTickFormatter\"},\"plot\":{\"id\":\"505c6fca-ebdd-4eeb-a7b0-05abd9c12a8c\",\"subtype\":\"Figure\",\"type\":\"Plot\"},\"ticker\":{\"id\":\"fa1d6296-bddd-4907-aa22-7071eeb73137\",\"type\":\"BasicTicker\"}},\"id\":\"156ca5e5-9eaa-4c56-aadc-87fc481645c9\",\"type\":\"LinearAxis\"},{\"attributes\":{\"bottom\":{\"field\":\"bottom\"},\"fill_alpha\":{\"value\":0.1},\"fill_color\":{\"value\":\"#1f77b4\"},\"left\":{\"field\":\"left\"},\"line_alpha\":{\"value\":0.1},\"line_color\":{\"value\":\"#1f77b4\"},\"right\":{\"field\":\"right\"},\"top\":{\"field\":\"top\"}},\"id\":\"23e46de8-54a5-4046-978d-0f4e8fa88984\",\"type\":\"Quad\"},{\"attributes\":{\"below\":[{\"id\":\"156ca5e5-9eaa-4c56-aadc-87fc481645c9\",\"type\":\"LinearAxis\"}],\"left\":[{\"id\":\"7dd027df-a6e7-4186-94c9-a3c057167456\",\"type\":\"LinearAxis\"}],\"plot_height\":400,\"plot_width\":900,\"renderers\":[{\"id\":\"156ca5e5-9eaa-4c56-aadc-87fc481645c9\",\"type\":\"LinearAxis\"},{\"id\":\"7f5e8d9e-54c5-4ca1-92b3-d3eb703b91f8\",\"type\":\"Grid\"},{\"id\":\"7dd027df-a6e7-4186-94c9-a3c057167456\",\"type\":\"LinearAxis\"},{\"id\":\"e04881d1-6769-451e-bdef-62c8db7dde4e\",\"type\":\"Grid\"},{\"id\":\"9f02fe37-f9d7-41bf-964c-a3fd92fc62d7\",\"type\":\"BoxAnnotation\"},{\"id\":\"9208f0c0-b8a1-4be9-9f78-70241286ee88\",\"type\":\"GlyphRenderer\"},{\"id\":\"2cdf0328-da9d-4ce5-95ad-db9e50b13e6e\",\"type\":\"GlyphRenderer\"},{\"id\":\"82d12d0a-fffe-45f0-83dd-f3e26ea2608d\",\"type\":\"LabelSet\"},{\"id\":\"10c8aa8a-fed8-4355-8a58-bd966a21c340\",\"type\":\"GlyphRenderer\"},{\"id\":\"a32b33c7-d76e-4e7d-b9f5-a89d4d9c551e\",\"type\":\"LabelSet\"}],\"title\":{\"id\":\"5f475309-9d1f-40dc-802d-54952841203e\",\"type\":\"Title\"},\"tool_events\":{\"id\":\"27b5897b-822f-4776-8cd2-d537e2fc615a\",\"type\":\"ToolEvents\"},\"toolbar\":{\"id\":\"bf3e5999-58eb-4e72-8873-f48fb5db7120\",\"type\":\"Toolbar\"},\"toolbar_location\":null,\"x_range\":{\"id\":\"ffabd7a1-43eb-445b-8d51-e1f63689370f\",\"type\":\"Range1d\"},\"y_range\":{\"id\":\"31c59676-6baa-403b-9120-a4fba2f5483b\",\"type\":\"Range1d\"}},\"id\":\"505c6fca-ebdd-4eeb-a7b0-05abd9c12a8c\",\"subtype\":\"Figure\",\"type\":\"Plot\"},{\"attributes\":{\"callback\":null,\"end\":136786630,\"start\":135757320},\"id\":\"ffabd7a1-43eb-445b-8d51-e1f63689370f\",\"type\":\"Range1d\"},{\"attributes\":{\"overlay\":{\"id\":\"9f02fe37-f9d7-41bf-964c-a3fd92fc62d7\",\"type\":\"BoxAnnotation\"},\"plot\":{\"id\":\"505c6fca-ebdd-4eeb-a7b0-05abd9c12a8c\",\"subtype\":\"Figure\",\"type\":\"Plot\"}},\"id\":\"694e0a33-5748-408f-b4d6-74c83d0ffcbe\",\"type\":\"BoxZoomTool\"},{\"attributes\":{\"plot\":{\"id\":\"505c6fca-ebdd-4eeb-a7b0-05abd9c12a8c\",\"subtype\":\"Figure\",\"type\":\"Plot\"},\"ticker\":{\"id\":\"fa1d6296-bddd-4907-aa22-7071eeb73137\",\"type\":\"BasicTicker\"}},\"id\":\"7f5e8d9e-54c5-4ca1-92b3-d3eb703b91f8\",\"type\":\"Grid\"},{\"attributes\":{\"callback\":null,\"column_names\":[\"y\",\"x\",\"vals\"],\"data\":{\"vals\":[\"RAB3GAP1\",\"ZRANB3\",\"R3HDM1\",\"UBXN4\",\"LCT\",\"MCM6\",\"DARS\"],\"x\":[135869057.0,136122878.0,136385961.0,136520911.0,136570082.5,136615621.5,136703738.0],\"y\":[360.0,360.0,360.0,360.0,360.0,360.0,360.0]}},\"id\":\"fe864253-81e8-482b-87e8-989b4a195968\",\"type\":\"ColumnDataSource\"},{\"attributes\":{\"plot\":{\"id\":\"505c6fca-ebdd-4eeb-a7b0-05abd9c12a8c\",\"subtype\":\"Figure\",\"type\":\"Plot\"}},\"id\":\"769e2f71-0a47-4f4f-a487-71c1231d49c0\",\"type\":\"ResetTool\"},{\"attributes\":{},\"id\":\"ee6d0d32-1508-4dab-8ca0-038cea21de86\",\"type\":\"BasicTicker\"},{\"attributes\":{\"dimension\":1,\"plot\":{\"id\":\"505c6fca-ebdd-4eeb-a7b0-05abd9c12a8c\",\"subtype\":\"Figure\",\"type\":\"Plot\"},\"ticker\":{\"id\":\"ee6d0d32-1508-4dab-8ca0-038cea21de86\",\"type\":\"BasicTicker\"}},\"id\":\"e04881d1-6769-451e-bdef-62c8db7dde4e\",\"type\":\"Grid\"},{\"attributes\":{\"bottom\":{\"field\":\"bottom\"},\"fill_color\":{\"value\":\"white\"},\"left\":{\"field\":\"left\"},\"right\":{\"field\":\"right\"},\"top\":{\"field\":\"top\"}},\"id\":\"442071c7-7919-4080-8dec-ca870d8e7109\",\"type\":\"Quad\"},{\"attributes\":{\"callback\":null,\"column_names\":[\"right\",\"bottom\",\"top\",\"left\",\"fill_color\"],\"data\":{\"bottom\":[150,50,250,150,250,150],\"fill_color\":[\"#61c461\",\"#ff00ff\",\"#61c461\",\"#61c461\",\"#808080\",\"#808080\"],\"left\":[135771974,135859157,135915358,136398174,136501840,136556805],\"right\":[136140304,135980938,135995079,136474098,136555659,136747085],\"top\":[195,62,296,194,298,191]}},\"id\":\"c1a5f445-422d-4716-a32b-72f2b44bf3b9\",\"type\":\"ColumnDataSource\"},{\"attributes\":{\"plot\":{\"id\":\"505c6fca-ebdd-4eeb-a7b0-05abd9c12a8c\",\"subtype\":\"Figure\",\"type\":\"Plot\"}},\"id\":\"f7a48afa-67c3-4aaa-9a60-231b7605218c\",\"type\":\"HelpTool\"},{\"attributes\":{\"callback\":null,\"column_names\":[\"xs\",\"ys\",\"line_color\"],\"data\":{\"line_color\":[\"black\",\"black\",\"black\",\"black\",\"black\",\"black\",\"black\",\"black\",\"black\",\"black\",\"black\",\"black\",\"black\",\"black\",\"black\",\"black\",\"black\",\"black\",\"black\",\"black\",\"black\",\"black\",\"black\",\"black\",\"black\",\"black\",\"black\",\"black\",\"black\",\"black\",\"black\",\"black\",\"black\",\"black\",\"black\",\"black\",\"black\",\"black\",\"black\",\"black\",\"black\",\"black\",\"black\",\"black\",\"black\",\"black\",\"black\",\"black\",\"black\",\"black\",\"black\",\"black\",\"black\",\"black\",\"black\",\"black\",\"black\",\"black\",\"black\",\"black\",\"black\",\"black\",\"black\",\"black\",\"black\",\"black\",\"black\",\"black\",\"black\",\"black\",\"black\",\"black\",\"black\",\"black\",\"black\",\"black\",\"black\",\"black\",\"black\",\"black\",\"black\",\"black\",\"black\",\"black\",\"black\",\"black\",\"black\",\"black\",\"black\",\"black\",\"black\"],\"xs\":[[135771974,135771974],[135859371,135859371],[135877562,135877562],[136022798,136022798],[136058820,136058820],[136140304,136140304],[135859157,135859157],[135873466,135873466],[135925411,135925411],[135954198,135954198],[135973399,135973399],[135980938,135980938],[135915358,135915358],[135954405,135954405],[135995073,135995073],[135995079,135995079],[136398174,136398174],[136402117,136402117],[136403749,136403749],[136409073,136409073],[136410299,136410299],[136413359,136413359],[136416855,136416855],[136416941,136416941],[136418348,136418348],[136419961,136419961],[136420690,136420690],[136422171,136422171],[136428460,136428460],[136430866,136430866],[136432103,136432103],[136437507,136437507],[136439090,136439090],[136439517,136439517],[136444123,136444123],[136445526,136445526],[136445869,136445869],[136455600,136455600],[136456642,136456642],[136462441,136462441],[136470714,136470714],[136474098,136474098],[136501840,136501840],[136505546,136505546],[136516748,136516748],[136522710,136522710],[136528004,136528004],[136539513,136539513],[136544752,136544752],[136546110,136546110],[136553529,136553529],[136555659,136555659],[136556805,136556805],[136560003,136560003],[136562472,136562472],[136563248,136563248],[136565328,136565328],[136570613,136570613],[136571982,136571982],[136574305,136574305],[136578040,136578040],[136578194,136578194],[136580398,136580398],[136586828,136586828],[136590558,136590558],[136592309,136592309],[136593541,136593541],[136593694,136593694],[136595426,136595426],[136615222,136615222],[136624919,136624919],[136626004,136626004],[136628380,136628380],[136636909,136636909],[136637350,136637350],[136637622,136637622],[136639487,136639487],[136646900,136646900],[136652093,136652093],[136652859,136652859],[136655620,136655620],[136667896,136667896],[136671801,136671801],[136677192,136677192],[136683293,136683293],[136704414,136704414],[136720344,136720344],[136731066,136731066],[136733897,136733897],[136743490,136743490],[136747085,136747085]],\"ys\":[[150,195],[150,195],[150,195],[150,195],[150,195],[150,195],[50,62],[50,62],[50,62],[50,62],[50,62],[50,62],[250,296],[250,296],[250,296],[250,296],[150,194],[150,194],[150,194],[150,194],[150,194],[150,194],[150,194],[150,194],[150,194],[150,194],[150,194],[150,194],[150,194],[150,194],[150,194],[150,194],[150,194],[150,194],[150,194],[150,194],[150,194],[150,194],[150,194],[150,194],[150,194],[150,194],[250,298],[250,298],[250,298],[250,298],[250,298],[250,298],[250,298],[250,298],[250,298],[250,298],[150,191],[150,191],[150,191],[150,191],[150,191],[150,191],[150,191],[150,191],[150,191],[150,191],[150,191],[150,191],[150,191],[150,191],[150,191],[150,191],[150,191],[150,191],[150,191],[150,191],[150,191],[150,191],[150,191],[150,191],[150,191],[150,191],[150,191],[150,191],[150,191],[150,191],[150,191],[150,191],[150,191],[150,191],[150,191],[150,191],[150,191],[150,191],[150,191]]}},\"id\":\"4b2ebd7d-26fd-4a4d-992d-896612633d85\",\"type\":\"ColumnDataSource\"},{\"attributes\":{\"callback\":null,\"end\":400},\"id\":\"31c59676-6baa-403b-9120-a4fba2f5483b\",\"type\":\"Range1d\"},{\"attributes\":{\"callback\":null,\"column_names\":[\"right\",\"bottom\",\"top\",\"left\"],\"data\":{\"bottom\":[345,345,345,345,345,345,345],\"left\":[135809835,135957574,136289083,136499189,136545415,136597196,136664254],\"right\":[135928279,136288182,136482839,136542633,136594750,136634047,136743222],\"top\":[375,375,375,375,375,375,375]}},\"id\":\"4ddfbef7-ab32-48ee-9f64-2ed998d18d5b\",\"type\":\"ColumnDataSource\"},{\"attributes\":{\"line_alpha\":{\"value\":0.1},\"line_color\":{\"value\":\"#1f77b4\"},\"xs\":{\"field\":\"xs\"},\"ys\":{\"field\":\"ys\"}},\"id\":\"2c52ce72-2cc2-44f0-bf1c-ec8411d0f3c2\",\"type\":\"MultiLine\"},{\"attributes\":{\"data_source\":{\"id\":\"c1a5f445-422d-4716-a32b-72f2b44bf3b9\",\"type\":\"ColumnDataSource\"},\"glyph\":{\"id\":\"4273279f-f36f-41bf-bf6b-c664ee61ae54\",\"type\":\"Quad\"},\"hover_glyph\":null,\"nonselection_glyph\":{\"id\":\"23e46de8-54a5-4046-978d-0f4e8fa88984\",\"type\":\"Quad\"},\"selection_glyph\":null},\"id\":\"9208f0c0-b8a1-4be9-9f78-70241286ee88\",\"type\":\"GlyphRenderer\"}],\"root_ids\":[\"505c6fca-ebdd-4eeb-a7b0-05abd9c12a8c\"]},\"title\":\"Bokeh Application\",\"version\":\"0.12.0\"}};\n",
       "            var render_items = [{\"docid\":\"e2e07a03-6472-4b6e-8e90-7504c834f9ed\",\"elementid\":\"6524b96d-36d4-4a4c-b374-d548760e5dba\",\"modelid\":\"505c6fca-ebdd-4eeb-a7b0-05abd9c12a8c\",\"notebook_comms_target\":\"2623a9bf-e41b-4309-a3c6-edc46f3360e2\"}];\n",
       "            \n",
       "            Bokeh.embed.embed_items(docs_json, render_items);\n",
       "        });\n",
       "      },\n",
       "      function(Bokeh) {\n",
       "      }\n",
       "    ];\n",
       "  \n",
       "    function run_inline_js() {\n",
       "      for (var i = 0; i < inline_js.length; i++) {\n",
       "        inline_js[i](window.Bokeh);\n",
       "      }\n",
       "    }\n",
       "  \n",
       "    if (window._bokeh_is_loading === 0) {\n",
       "      console.log(\"Bokeh: BokehJS loaded, going straight to plotting\");\n",
       "      run_inline_js();\n",
       "    } else {\n",
       "      load_libs(js_urls, function() {\n",
       "        console.log(\"Bokeh: BokehJS plotting callback run at\", now());\n",
       "        run_inline_js();\n",
       "      });\n",
       "    }\n",
       "  }(this));\n",
       "</script>"
      ]
     },
     "metadata": {},
     "output_type": "display_data"
    },
    {
     "data": {
      "text/html": [
       "<p><code>&lt;Bokeh Notebook handle for <strong>In[9]</strong>&gt;</code></p>"
      ],
      "text/plain": [
       "<bokeh.io._CommsHandle at 0x7f3562d351d0>"
      ]
     },
     "execution_count": 9,
     "metadata": {},
     "output_type": "execute_result"
    }
   ],
   "source": [
    "plt_obj = dm.superset_yes_no([di_6_35, dm.di_10_2206, dm.di_39_1014], [dm.di_7_1868], min_match=0.001)\n",
    "plt = plt_obj.do_plot()\n",
    "am = plt_obj.plot_context.yes_allele_mask\n",
    "show(plt)"
   ]
  },
  {
   "cell_type": "code",
   "execution_count": 10,
   "metadata": {
    "collapsed": false
   },
   "outputs": [
    {
     "data": {
      "text/html": [
       "<table>\n",
       "<thead><tr><th style=\"text-align:center\">index</th><th style=\"text-align:center\">first</th><th style=\"text-align:center\">length</th><th style=\"text-align:center\">snps</th><th style=\"text-align:center\" colspan=2>alleles</th><th style=\"text-align:center\" colspan=2>matches</th><th style=\"text-align:center\" colspan=2>afr</th><th style=\"text-align:center\" colspan=2>afx</th><th style=\"text-align:center\" colspan=2>amr</th><th style=\"text-align:center\" colspan=2>eas</th><th style=\"text-align:center\" colspan=2>eur</th><th style=\"text-align:center\" colspan=2>sas</th><th style=\"text-align:center\" colspan=2>sax</th></tr></thead>\n",
       "<tr class=\"even\"><td style=\"text-align: right;\">353921</td><td style=\"text-align: right;\">136,501,840</td><td style=\"text-align: right;\">53,819</td><td style=\"text-align: right;\">10</td><td style=\"text-align: right;\">2206</td><td style=\"text-align: right;\">0.00</td><td style=\"text-align: right;\">2</td><td style=\"text-align: right;\">1.00</td><td style=\"text-align: right;\">0</td><td style=\"text-align: right;\">0.00</td><td style=\"text-align: right;\">0</td><td style=\"text-align: right;\">0.00</td><td style=\"text-align: right;\">2</td><td style=\"text-align: right;\">7.34</td><td style=\"text-align: right;\">0</td><td style=\"text-align: right;\">0.00</td><td style=\"text-align: right;\">0</td><td style=\"text-align: right;\">0.00</td><td style=\"text-align: right;\">0</td><td style=\"text-align: right;\">0.00</td><td style=\"text-align: right;\">0</td><td style=\"text-align: right;\">0.00</td></tr>\n",
       "<tr><td style=\"text-align: right;\">353462</td><td style=\"text-align: right;\">135,915,358</td><td style=\"text-align: right;\">79,721</td><td style=\"text-align: right;\">4</td><td style=\"text-align: right;\">1699</td><td style=\"text-align: right;\">0.00</td><td style=\"text-align: right;\">2</td><td style=\"text-align: right;\">1.00</td><td style=\"text-align: right;\">0</td><td style=\"text-align: right;\">0.00</td><td style=\"text-align: right;\">0</td><td style=\"text-align: right;\">0.00</td><td style=\"text-align: right;\">2</td><td style=\"text-align: right;\">7.34</td><td style=\"text-align: right;\">0</td><td style=\"text-align: right;\">0.00</td><td style=\"text-align: right;\">0</td><td style=\"text-align: right;\">0.00</td><td style=\"text-align: right;\">0</td><td style=\"text-align: right;\">0.00</td><td style=\"text-align: right;\">0</td><td style=\"text-align: right;\">0.00</td></tr>\n",
       "<tr class=\"even\"><td style=\"text-align: right;\">353283</td><td style=\"text-align: right;\">135,771,974</td><td style=\"text-align: right;\">368,330</td><td style=\"text-align: right;\">6</td><td style=\"text-align: right;\">1503</td><td style=\"text-align: right;\">0.00</td><td style=\"text-align: right;\">2</td><td style=\"text-align: right;\">1.00</td><td style=\"text-align: right;\">0</td><td style=\"text-align: right;\">0.00</td><td style=\"text-align: right;\">0</td><td style=\"text-align: right;\">0.00</td><td style=\"text-align: right;\">2</td><td style=\"text-align: right;\">7.34</td><td style=\"text-align: right;\">0</td><td style=\"text-align: right;\">0.00</td><td style=\"text-align: right;\">0</td><td style=\"text-align: right;\">0.00</td><td style=\"text-align: right;\">0</td><td style=\"text-align: right;\">0.00</td><td style=\"text-align: right;\">0</td><td style=\"text-align: right;\">0.00</td></tr>\n",
       "<tr><td style=\"text-align: right;\">353797</td><td style=\"text-align: right;\">136,398,174</td><td style=\"text-align: right;\">75,924</td><td style=\"text-align: right;\">26</td><td style=\"text-align: right;\">1414</td><td style=\"text-align: right;\">0.00</td><td style=\"text-align: right;\">2</td><td style=\"text-align: right;\">1.00</td><td style=\"text-align: right;\">0</td><td style=\"text-align: right;\">0.00</td><td style=\"text-align: right;\">0</td><td style=\"text-align: right;\">0.00</td><td style=\"text-align: right;\">2</td><td style=\"text-align: right;\">7.34</td><td style=\"text-align: right;\">0</td><td style=\"text-align: right;\">0.00</td><td style=\"text-align: right;\">0</td><td style=\"text-align: right;\">0.00</td><td style=\"text-align: right;\">0</td><td style=\"text-align: right;\">0.00</td><td style=\"text-align: right;\">0</td><td style=\"text-align: right;\">0.00</td></tr>\n",
       "<tr class=\"even\"><td style=\"text-align: right;\">353984</td><td style=\"text-align: right;\">136,556,805</td><td style=\"text-align: right;\">190,280</td><td style=\"text-align: right;\">39</td><td style=\"text-align: right;\">1014</td><td style=\"text-align: right;\">0.00</td><td style=\"text-align: right;\">2</td><td style=\"text-align: right;\">1.00</td><td style=\"text-align: right;\">0</td><td style=\"text-align: right;\">0.00</td><td style=\"text-align: right;\">0</td><td style=\"text-align: right;\">0.00</td><td style=\"text-align: right;\">2</td><td style=\"text-align: right;\">7.34</td><td style=\"text-align: right;\">0</td><td style=\"text-align: right;\">0.00</td><td style=\"text-align: right;\">0</td><td style=\"text-align: right;\">0.00</td><td style=\"text-align: right;\">0</td><td style=\"text-align: right;\">0.00</td><td style=\"text-align: right;\">0</td><td style=\"text-align: right;\">0.00</td></tr>\n",
       "<tr><td style=\"text-align: right;\">353407</td><td style=\"text-align: right;\">135,859,157</td><td style=\"text-align: right;\">121,781</td><td style=\"text-align: right;\">6</td><td style=\"text-align: right;\">35</td><td style=\"text-align: right;\">0.06</td><td style=\"text-align: right;\">2</td><td style=\"text-align: right;\">1.00</td><td style=\"text-align: right;\">0</td><td style=\"text-align: right;\">0.00</td><td style=\"text-align: right;\">0</td><td style=\"text-align: right;\">0.00</td><td style=\"text-align: right;\">2</td><td style=\"text-align: right;\">7.34</td><td style=\"text-align: right;\">0</td><td style=\"text-align: right;\">0.00</td><td style=\"text-align: right;\">0</td><td style=\"text-align: right;\">0.00</td><td style=\"text-align: right;\">0</td><td style=\"text-align: right;\">0.00</td><td style=\"text-align: right;\">0</td><td style=\"text-align: right;\">0.00</td></tr>\n",
       "</table>"
      ],
      "text/plain": [
       "<IPython.core.display.HTML object>"
      ]
     },
     "execution_count": 10,
     "metadata": {},
     "output_type": "execute_result"
    }
   ],
   "source": [
    "HTML(plt_obj.get_html())"
   ]
  },
  {
   "cell_type": "code",
   "execution_count": 11,
   "metadata": {
    "collapsed": false
   },
   "outputs": [
    {
     "data": {
      "text/plain": [
       "array([0, 2, 2, 2, 2, 2, 2, 2, 2, 2, 2, 2, 2, 2, 2, 2, 2, 2, 2, 2, 2, 0, 0,\n",
       "       0, 0, 0, 0, 0, 0, 0, 0, 0, 0, 0, 0, 0, 0, 0, 0, 0, 0, 0, 0, 0, 0, 0,\n",
       "       0, 0, 0, 0, 0, 0, 0, 0, 0, 0, 0, 0, 0, 0, 0, 0, 0, 1])"
      ]
     },
     "execution_count": 11,
     "metadata": {},
     "output_type": "execute_result"
    }
   ],
   "source": [
    "sa_64_1575.alleles_per_snp(am)"
   ]
  },
  {
   "cell_type": "code",
   "execution_count": 12,
   "metadata": {
    "collapsed": false
   },
   "outputs": [
    {
     "data": {
      "text/html": [
       "\n",
       "\n",
       "    <div class=\"bk-root\">\n",
       "        <div class=\"plotdiv\" id=\"57b97831-51b9-4e3d-9ba7-9eb2df741fc3\"></div>\n",
       "    </div>\n",
       "<script type=\"text/javascript\">\n",
       "  \n",
       "  (function(global) {\n",
       "    function now() {\n",
       "      return new Date();\n",
       "    }\n",
       "  \n",
       "    if (typeof (window._bokeh_onload_callbacks) === \"undefined\") {\n",
       "      window._bokeh_onload_callbacks = [];\n",
       "    }\n",
       "  \n",
       "    function run_callbacks() {\n",
       "      window._bokeh_onload_callbacks.forEach(function(callback) { callback() });\n",
       "      delete window._bokeh_onload_callbacks\n",
       "      console.info(\"Bokeh: all callbacks have finished\");\n",
       "    }\n",
       "  \n",
       "    function load_libs(js_urls, callback) {\n",
       "      window._bokeh_onload_callbacks.push(callback);\n",
       "      if (window._bokeh_is_loading > 0) {\n",
       "        console.log(\"Bokeh: BokehJS is being loaded, scheduling callback at\", now());\n",
       "        return null;\n",
       "      }\n",
       "      if (js_urls == null || js_urls.length === 0) {\n",
       "        run_callbacks();\n",
       "        return null;\n",
       "      }\n",
       "      console.log(\"Bokeh: BokehJS not loaded, scheduling load and callback at\", now());\n",
       "      window._bokeh_is_loading = js_urls.length;\n",
       "      for (var i = 0; i < js_urls.length; i++) {\n",
       "        var url = js_urls[i];\n",
       "        var s = document.createElement('script');\n",
       "        s.src = url;\n",
       "        s.async = false;\n",
       "        s.onreadystatechange = s.onload = function() {\n",
       "          window._bokeh_is_loading--;\n",
       "          if (window._bokeh_is_loading === 0) {\n",
       "            console.log(\"Bokeh: all BokehJS libraries loaded\");\n",
       "            run_callbacks()\n",
       "          }\n",
       "        };\n",
       "        s.onerror = function() {\n",
       "          console.warn(\"failed to load library \" + url);\n",
       "        };\n",
       "        console.log(\"Bokeh: injecting script tag for BokehJS library: \", url);\n",
       "        document.getElementsByTagName(\"head\")[0].appendChild(s);\n",
       "      }\n",
       "    };var element = document.getElementById(\"57b97831-51b9-4e3d-9ba7-9eb2df741fc3\");\n",
       "    if (element == null) {\n",
       "      console.log(\"Bokeh: ERROR: autoload.js configured with elementid '57b97831-51b9-4e3d-9ba7-9eb2df741fc3' but no matching script tag was found. \")\n",
       "      return false;\n",
       "    }\n",
       "  \n",
       "    var js_urls = [];\n",
       "  \n",
       "    var inline_js = [\n",
       "      function(Bokeh) {\n",
       "        Bokeh.$(function() {\n",
       "            var docs_json = {\"4ea9ac94-9c50-4d54-ad4d-6ece7d96c938\":{\"roots\":{\"references\":[{\"attributes\":{\"callback\":null,\"column_names\":[\"right\",\"bottom\",\"top\",\"left\",\"fill_color\"],\"data\":{\"bottom\":[150,50,250,150,150,250],\"fill_color\":[\"#61c461\",\"#ff00ff\",\"#61c461\",\"#61c461\",\"#61c461\",\"#808080\"],\"left\":[135771974,135859157,135915358,136398174,136494186,136501840],\"right\":[136140304,135980938,135995079,136474098,136765951,136555659],\"top\":[195,62,296,194,195,298]}},\"id\":\"5b2a1315-0949-4904-b63c-748808d02df7\",\"type\":\"ColumnDataSource\"},{\"attributes\":{\"bottom\":{\"field\":\"bottom\"},\"fill_alpha\":{\"value\":0.1},\"fill_color\":{\"value\":\"#1f77b4\"},\"left\":{\"field\":\"left\"},\"line_alpha\":{\"value\":0.1},\"line_color\":{\"value\":\"#1f77b4\"},\"right\":{\"field\":\"right\"},\"top\":{\"field\":\"top\"}},\"id\":\"9d6cece6-1d11-4419-8264-48b1e50dac7f\",\"type\":\"Quad\"},{\"attributes\":{\"plot\":null,\"text\":null},\"id\":\"4e0b1a1e-db0d-4581-9447-750955c37a82\",\"type\":\"Title\"},{\"attributes\":{\"callback\":null,\"end\":136786630,\"start\":135757320},\"id\":\"6060e818-dc54-4b1f-814e-f0177ce5b990\",\"type\":\"Range1d\"},{\"attributes\":{\"overlay\":{\"id\":\"5a80b0c3-378b-441a-bffb-cdec8cd86f87\",\"type\":\"BoxAnnotation\"},\"plot\":{\"id\":\"031e3541-699a-4590-9acc-85075983cb79\",\"subtype\":\"Figure\",\"type\":\"Plot\"}},\"id\":\"e3d5d3b0-0b1f-4ed9-bdb8-49dc03bd4729\",\"type\":\"BoxZoomTool\"},{\"attributes\":{\"below\":[{\"id\":\"990169b6-87d1-45f2-a0a6-bb36b781ec48\",\"type\":\"LinearAxis\"}],\"left\":[{\"id\":\"03e64caa-4fe7-413f-aa49-61f33fc66be9\",\"type\":\"LinearAxis\"}],\"plot_height\":400,\"plot_width\":900,\"renderers\":[{\"id\":\"990169b6-87d1-45f2-a0a6-bb36b781ec48\",\"type\":\"LinearAxis\"},{\"id\":\"60823d3a-59f2-4fa9-badd-d506ecaafe9f\",\"type\":\"Grid\"},{\"id\":\"03e64caa-4fe7-413f-aa49-61f33fc66be9\",\"type\":\"LinearAxis\"},{\"id\":\"e3b6c5d3-1f98-4549-9b5e-b595af0caaad\",\"type\":\"Grid\"},{\"id\":\"5a80b0c3-378b-441a-bffb-cdec8cd86f87\",\"type\":\"BoxAnnotation\"},{\"id\":\"ec60ed0b-089e-410a-9006-2c5b1b685654\",\"type\":\"GlyphRenderer\"},{\"id\":\"e844b865-f086-4a92-aadb-747ef869f141\",\"type\":\"GlyphRenderer\"},{\"id\":\"83b1832e-c066-4f0b-9d97-66fed5ce3b68\",\"type\":\"LabelSet\"},{\"id\":\"cd42066d-4b75-485e-a8a3-f4297fbee90d\",\"type\":\"GlyphRenderer\"},{\"id\":\"a168f72e-f357-4c77-a595-837c5c92ee8e\",\"type\":\"LabelSet\"}],\"title\":{\"id\":\"4e0b1a1e-db0d-4581-9447-750955c37a82\",\"type\":\"Title\"},\"tool_events\":{\"id\":\"45183b42-209b-4cec-94f9-8d8ef6d47337\",\"type\":\"ToolEvents\"},\"toolbar\":{\"id\":\"0c7a37fb-4c0c-42f6-bb47-29d86a88b05d\",\"type\":\"Toolbar\"},\"toolbar_location\":null,\"x_range\":{\"id\":\"6060e818-dc54-4b1f-814e-f0177ce5b990\",\"type\":\"Range1d\"},\"y_range\":{\"id\":\"e40e4f4e-38c7-4479-9efb-4f8c0a5c7b4a\",\"type\":\"Range1d\"}},\"id\":\"031e3541-699a-4590-9acc-85075983cb79\",\"subtype\":\"Figure\",\"type\":\"Plot\"},{\"attributes\":{\"callback\":null,\"column_names\":[\"y\",\"x\",\"vals\"],\"data\":{\"vals\":[\"6_1503\",\"6_35\",\"4_1699\",\"26_1414\",\"64_1575\",\"10_2206\"],\"x\":[135771974,135859157,135915358,136398174,136494186,136501840],\"y\":[200.0,67.0,301.0,199.0,200.0,303.0]}},\"id\":\"b7870770-35f2-475a-8746-8b44576d36c1\",\"type\":\"ColumnDataSource\"},{\"attributes\":{\"data_source\":{\"id\":\"5b2a1315-0949-4904-b63c-748808d02df7\",\"type\":\"ColumnDataSource\"},\"glyph\":{\"id\":\"58c965da-a7df-48aa-8ae4-e1100b699c6e\",\"type\":\"Quad\"},\"hover_glyph\":null,\"nonselection_glyph\":{\"id\":\"9d6cece6-1d11-4419-8264-48b1e50dac7f\",\"type\":\"Quad\"},\"selection_glyph\":null},\"id\":\"ec60ed0b-089e-410a-9006-2c5b1b685654\",\"type\":\"GlyphRenderer\"},{\"attributes\":{},\"id\":\"d27087ff-da82-4e0c-be66-43bee4cf45b6\",\"type\":\"BasicTickFormatter\"},{\"attributes\":{\"data_source\":{\"id\":\"301f425b-fc80-46bf-b76d-43f36271ec84\",\"type\":\"ColumnDataSource\"},\"glyph\":{\"id\":\"94bbefb2-5c45-49ec-bf8d-64b94aacd547\",\"type\":\"MultiLine\"},\"hover_glyph\":null,\"nonselection_glyph\":{\"id\":\"98f90d6e-0c9e-4298-bd1f-d6de51add209\",\"type\":\"MultiLine\"},\"selection_glyph\":null},\"id\":\"e844b865-f086-4a92-aadb-747ef869f141\",\"type\":\"GlyphRenderer\"},{\"attributes\":{\"dimension\":1,\"plot\":{\"id\":\"031e3541-699a-4590-9acc-85075983cb79\",\"subtype\":\"Figure\",\"type\":\"Plot\"},\"ticker\":{\"id\":\"55551c72-8552-4a77-bfad-28529229f544\",\"type\":\"BasicTicker\"}},\"id\":\"e3b6c5d3-1f98-4549-9b5e-b595af0caaad\",\"type\":\"Grid\"},{\"attributes\":{\"plot\":{\"id\":\"031e3541-699a-4590-9acc-85075983cb79\",\"subtype\":\"Figure\",\"type\":\"Plot\"}},\"id\":\"db80a716-afc1-4dff-8c87-cfef7a21e80a\",\"type\":\"PanTool\"},{\"attributes\":{},\"id\":\"26d0612e-6460-4441-999c-7938bb86e494\",\"type\":\"BasicTickFormatter\"},{\"attributes\":{\"plot\":{\"id\":\"031e3541-699a-4590-9acc-85075983cb79\",\"subtype\":\"Figure\",\"type\":\"Plot\"}},\"id\":\"a0ccc373-a9bd-4b65-b65b-09e000d94060\",\"type\":\"WheelZoomTool\"},{\"attributes\":{\"formatter\":{\"id\":\"26d0612e-6460-4441-999c-7938bb86e494\",\"type\":\"BasicTickFormatter\"},\"plot\":{\"id\":\"031e3541-699a-4590-9acc-85075983cb79\",\"subtype\":\"Figure\",\"type\":\"Plot\"},\"ticker\":{\"id\":\"55551c72-8552-4a77-bfad-28529229f544\",\"type\":\"BasicTicker\"},\"visible\":null},\"id\":\"03e64caa-4fe7-413f-aa49-61f33fc66be9\",\"type\":\"LinearAxis\"},{\"attributes\":{\"callback\":null,\"column_names\":[\"right\",\"bottom\",\"top\",\"left\"],\"data\":{\"bottom\":[345,345,345,345,345,345,345],\"left\":[135809835,135957574,136289083,136499189,136545415,136597196,136664254],\"right\":[135928279,136288182,136482839,136542633,136594750,136634047,136743222],\"top\":[375,375,375,375,375,375,375]}},\"id\":\"be68184c-6995-46ab-a7ad-485b169dd177\",\"type\":\"ColumnDataSource\"},{\"attributes\":{\"plot\":{\"id\":\"031e3541-699a-4590-9acc-85075983cb79\",\"subtype\":\"Figure\",\"type\":\"Plot\"}},\"id\":\"a22ddd8e-f08f-41ba-a0ef-8f439571806d\",\"type\":\"HelpTool\"},{\"attributes\":{\"level\":\"glyph\",\"plot\":{\"id\":\"031e3541-699a-4590-9acc-85075983cb79\",\"subtype\":\"Figure\",\"type\":\"Plot\"},\"source\":{\"id\":\"b7870770-35f2-475a-8746-8b44576d36c1\",\"type\":\"ColumnDataSource\"},\"text\":{\"field\":\"vals\"},\"text_font_size\":{\"value\":\"9pt\"},\"text_font_style\":\"bold\",\"x\":{\"field\":\"x\"},\"y\":{\"field\":\"y\"}},\"id\":\"83b1832e-c066-4f0b-9d97-66fed5ce3b68\",\"type\":\"LabelSet\"},{\"attributes\":{\"callback\":null,\"end\":400},\"id\":\"e40e4f4e-38c7-4479-9efb-4f8c0a5c7b4a\",\"type\":\"Range1d\"},{\"attributes\":{\"data_source\":{\"id\":\"be68184c-6995-46ab-a7ad-485b169dd177\",\"type\":\"ColumnDataSource\"},\"glyph\":{\"id\":\"231af560-7021-4e3e-abf4-dc7326f54b9d\",\"type\":\"Quad\"},\"hover_glyph\":null,\"nonselection_glyph\":{\"id\":\"97702d71-88d5-430e-9e61-85d36b20b97e\",\"type\":\"Quad\"},\"selection_glyph\":null},\"id\":\"cd42066d-4b75-485e-a8a3-f4297fbee90d\",\"type\":\"GlyphRenderer\"},{\"attributes\":{\"bottom\":{\"field\":\"bottom\"},\"fill_color\":{\"value\":\"white\"},\"left\":{\"field\":\"left\"},\"right\":{\"field\":\"right\"},\"top\":{\"field\":\"top\"}},\"id\":\"231af560-7021-4e3e-abf4-dc7326f54b9d\",\"type\":\"Quad\"},{\"attributes\":{},\"id\":\"45183b42-209b-4cec-94f9-8d8ef6d47337\",\"type\":\"ToolEvents\"},{\"attributes\":{\"line_color\":{\"field\":\"line_color\"},\"xs\":{\"field\":\"xs\"},\"ys\":{\"field\":\"ys\"}},\"id\":\"94bbefb2-5c45-49ec-bf8d-64b94aacd547\",\"type\":\"MultiLine\"},{\"attributes\":{},\"id\":\"4eff483c-c5f2-418b-8d35-854b5764b72c\",\"type\":\"BasicTicker\"},{\"attributes\":{\"formatter\":{\"id\":\"d27087ff-da82-4e0c-be66-43bee4cf45b6\",\"type\":\"BasicTickFormatter\"},\"plot\":{\"id\":\"031e3541-699a-4590-9acc-85075983cb79\",\"subtype\":\"Figure\",\"type\":\"Plot\"},\"ticker\":{\"id\":\"4eff483c-c5f2-418b-8d35-854b5764b72c\",\"type\":\"BasicTicker\"}},\"id\":\"990169b6-87d1-45f2-a0a6-bb36b781ec48\",\"type\":\"LinearAxis\"},{\"attributes\":{\"level\":\"glyph\",\"plot\":{\"id\":\"031e3541-699a-4590-9acc-85075983cb79\",\"subtype\":\"Figure\",\"type\":\"Plot\"},\"source\":{\"id\":\"fb4f4dd1-d720-446f-a02f-f8b4808e45fd\",\"type\":\"ColumnDataSource\"},\"text\":{\"field\":\"vals\"},\"text_align\":\"center\",\"text_baseline\":\"middle\",\"text_font_size\":{\"value\":\"8pt\"},\"x\":{\"field\":\"x\"},\"y\":{\"field\":\"y\"}},\"id\":\"a168f72e-f357-4c77-a595-837c5c92ee8e\",\"type\":\"LabelSet\"},{\"attributes\":{\"bottom_units\":\"screen\",\"fill_alpha\":{\"value\":0.5},\"fill_color\":{\"value\":\"lightgrey\"},\"left_units\":\"screen\",\"level\":\"overlay\",\"line_alpha\":{\"value\":1.0},\"line_color\":{\"value\":\"black\"},\"line_dash\":[4,4],\"line_width\":{\"value\":2},\"plot\":null,\"render_mode\":\"css\",\"right_units\":\"screen\",\"top_units\":\"screen\"},\"id\":\"5a80b0c3-378b-441a-bffb-cdec8cd86f87\",\"type\":\"BoxAnnotation\"},{\"attributes\":{\"bottom\":{\"field\":\"bottom\"},\"fill_alpha\":{\"value\":0.1},\"fill_color\":{\"value\":\"#1f77b4\"},\"left\":{\"field\":\"left\"},\"line_alpha\":{\"value\":0.1},\"line_color\":{\"value\":\"#1f77b4\"},\"right\":{\"field\":\"right\"},\"top\":{\"field\":\"top\"}},\"id\":\"97702d71-88d5-430e-9e61-85d36b20b97e\",\"type\":\"Quad\"},{\"attributes\":{\"plot\":{\"id\":\"031e3541-699a-4590-9acc-85075983cb79\",\"subtype\":\"Figure\",\"type\":\"Plot\"}},\"id\":\"09726f39-19e3-4a0b-b1a4-756fe1de7f8f\",\"type\":\"ResetTool\"},{\"attributes\":{\"callback\":null,\"column_names\":[\"y\",\"x\",\"vals\"],\"data\":{\"vals\":[\"RAB3GAP1\",\"ZRANB3\",\"R3HDM1\",\"UBXN4\",\"LCT\",\"MCM6\",\"DARS\"],\"x\":[135869057.0,136122878.0,136385961.0,136520911.0,136570082.5,136615621.5,136703738.0],\"y\":[360.0,360.0,360.0,360.0,360.0,360.0,360.0]}},\"id\":\"fb4f4dd1-d720-446f-a02f-f8b4808e45fd\",\"type\":\"ColumnDataSource\"},{\"attributes\":{\"bottom\":{\"field\":\"bottom\"},\"fill_color\":{\"field\":\"fill_color\"},\"left\":{\"field\":\"left\"},\"line_color\":{\"value\":null},\"right\":{\"field\":\"right\"},\"top\":{\"field\":\"top\"}},\"id\":\"58c965da-a7df-48aa-8ae4-e1100b699c6e\",\"type\":\"Quad\"},{\"attributes\":{\"plot\":{\"id\":\"031e3541-699a-4590-9acc-85075983cb79\",\"subtype\":\"Figure\",\"type\":\"Plot\"},\"ticker\":{\"id\":\"4eff483c-c5f2-418b-8d35-854b5764b72c\",\"type\":\"BasicTicker\"}},\"id\":\"60823d3a-59f2-4fa9-badd-d506ecaafe9f\",\"type\":\"Grid\"},{\"attributes\":{\"active_drag\":\"auto\",\"active_scroll\":\"auto\",\"active_tap\":\"auto\",\"tools\":[{\"id\":\"db80a716-afc1-4dff-8c87-cfef7a21e80a\",\"type\":\"PanTool\"},{\"id\":\"a0ccc373-a9bd-4b65-b65b-09e000d94060\",\"type\":\"WheelZoomTool\"},{\"id\":\"e3d5d3b0-0b1f-4ed9-bdb8-49dc03bd4729\",\"type\":\"BoxZoomTool\"},{\"id\":\"32adb726-fa50-42ba-9d7e-9b13d9a8649d\",\"type\":\"SaveTool\"},{\"id\":\"09726f39-19e3-4a0b-b1a4-756fe1de7f8f\",\"type\":\"ResetTool\"},{\"id\":\"a22ddd8e-f08f-41ba-a0ef-8f439571806d\",\"type\":\"HelpTool\"}]},\"id\":\"0c7a37fb-4c0c-42f6-bb47-29d86a88b05d\",\"type\":\"Toolbar\"},{\"attributes\":{\"callback\":null,\"column_names\":[\"xs\",\"ys\",\"line_color\"],\"data\":{\"line_color\":[\"black\",\"black\",\"black\",\"black\",\"black\",\"black\",\"black\",\"black\",\"black\",\"black\",\"black\",\"black\",\"black\",\"black\",\"black\",\"black\",\"black\",\"black\",\"black\",\"black\",\"black\",\"black\",\"black\",\"black\",\"black\",\"black\",\"black\",\"black\",\"black\",\"black\",\"black\",\"black\",\"black\",\"black\",\"black\",\"black\",\"black\",\"black\",\"black\",\"black\",\"black\",\"black\",\"black\",\"black\",\"black\",\"black\",\"black\",\"black\",\"black\",\"black\",\"black\",\"black\",\"black\",\"black\",\"black\",\"black\",\"black\",\"black\",\"black\",\"black\",\"black\",\"black\",\"black\",\"black\",\"black\",\"black\",\"black\",\"black\",\"black\",\"black\",\"black\",\"black\",\"black\",\"black\",\"black\",\"black\",\"black\",\"black\",\"black\",\"black\",\"black\",\"black\",\"black\",\"black\",\"black\",\"black\",\"black\",\"black\",\"black\",\"black\",\"black\",\"black\",\"black\",\"black\",\"black\",\"black\",\"black\",\"black\",\"black\",\"black\",\"black\",\"black\",\"black\",\"black\",\"black\",\"black\",\"black\",\"black\",\"black\",\"black\",\"black\",\"black\",\"black\",\"black\",\"black\",\"black\"],\"xs\":[[135771974,135771974],[135859371,135859371],[135877562,135877562],[136022798,136022798],[136058820,136058820],[136140304,136140304],[135859157,135859157],[135873466,135873466],[135925411,135925411],[135954198,135954198],[135973399,135973399],[135980938,135980938],[135915358,135915358],[135954405,135954405],[135995073,135995073],[135995079,135995079],[136398174,136398174],[136402117,136402117],[136403749,136403749],[136409073,136409073],[136410299,136410299],[136413359,136413359],[136416855,136416855],[136416941,136416941],[136418348,136418348],[136419961,136419961],[136420690,136420690],[136422171,136422171],[136428460,136428460],[136430866,136430866],[136432103,136432103],[136437507,136437507],[136439090,136439090],[136439517,136439517],[136444123,136444123],[136445526,136445526],[136445869,136445869],[136455600,136455600],[136456642,136456642],[136462441,136462441],[136470714,136470714],[136474098,136474098],[136494186,136494186],[136495300,136495300],[136495619,136495619],[136499166,136499166],[136502792,136502792],[136503157,136503157],[136507039,136507039],[136511575,136511575],[136518103,136518103],[136521514,136521514],[136522675,136522675],[136522941,136522941],[136526981,136526981],[136535410,136535410],[136539122,136539122],[136544197,136544197],[136550109,136550109],[136551694,136551694],[136553188,136553188],[136553639,136553639],[136554800,136554800],[136557319,136557319],[136558157,136558157],[136569848,136569848],[136575199,136575199],[136576577,136576577],[136578536,136578536],[136580287,136580287],[136583192,136583192],[136586958,136586958],[136588478,136588478],[136589612,136589612],[136591178,136591178],[136591859,136591859],[136593760,136593760],[136594158,136594158],[136603276,136603276],[136603366,136603366],[136608231,136608231],[136609975,136609975],[136610598,136610598],[136611624,136611624],[136613780,136613780],[136614255,136614255],[136614813,136614813],[136617524,136617524],[136622216,136622216],[136625602,136625602],[136629911,136629911],[136630757,136630757],[136630989,136630989],[136631031,136631031],[136633771,136633771],[136636324,136636324],[136638216,136638216],[136640233,136640233],[136641882,136641882],[136643555,136643555],[136658345,136658345],[136670298,136670298],[136685228,136685228],[136696138,136696138],[136740900,136740900],[136765951,136765951],[136501840,136501840],[136505546,136505546],[136516748,136516748],[136522710,136522710],[136528004,136528004],[136539513,136539513],[136544752,136544752],[136546110,136546110],[136553529,136553529],[136555659,136555659]],\"ys\":[[150,195],[150,195],[150,195],[150,195],[150,195],[150,195],[50,62],[50,62],[50,62],[50,62],[50,62],[50,62],[250,296],[250,296],[250,296],[250,296],[150,194],[150,194],[150,194],[150,194],[150,194],[150,194],[150,194],[150,194],[150,194],[150,194],[150,194],[150,194],[150,194],[150,194],[150,194],[150,194],[150,194],[150,194],[150,194],[150,194],[150,194],[150,194],[150,194],[150,194],[150,194],[150,194],[150,195],[150,195],[150,195],[150,195],[150,195],[150,195],[150,195],[150,195],[150,195],[150,195],[150,195],[150,195],[150,195],[150,195],[150,195],[150,195],[150,195],[150,195],[150,195],[150,195],[150,195],[150,195],[150,195],[150,195],[150,195],[150,195],[150,195],[150,195],[150,195],[150,195],[150,195],[150,195],[150,195],[150,195],[150,195],[150,195],[150,195],[150,195],[150,195],[150,195],[150,195],[150,195],[150,195],[150,195],[150,195],[150,195],[150,195],[150,195],[150,195],[150,195],[150,195],[150,195],[150,195],[150,195],[150,195],[150,195],[150,195],[150,195],[150,195],[150,195],[150,195],[150,195],[150,195],[150,195],[250,298],[250,298],[250,298],[250,298],[250,298],[250,298],[250,298],[250,298],[250,298],[250,298]]}},\"id\":\"301f425b-fc80-46bf-b76d-43f36271ec84\",\"type\":\"ColumnDataSource\"},{\"attributes\":{\"line_alpha\":{\"value\":0.1},\"line_color\":{\"value\":\"#1f77b4\"},\"xs\":{\"field\":\"xs\"},\"ys\":{\"field\":\"ys\"}},\"id\":\"98f90d6e-0c9e-4298-bd1f-d6de51add209\",\"type\":\"MultiLine\"},{\"attributes\":{\"plot\":{\"id\":\"031e3541-699a-4590-9acc-85075983cb79\",\"subtype\":\"Figure\",\"type\":\"Plot\"}},\"id\":\"32adb726-fa50-42ba-9d7e-9b13d9a8649d\",\"type\":\"SaveTool\"},{\"attributes\":{},\"id\":\"55551c72-8552-4a77-bfad-28529229f544\",\"type\":\"BasicTicker\"}],\"root_ids\":[\"031e3541-699a-4590-9acc-85075983cb79\"]},\"title\":\"Bokeh Application\",\"version\":\"0.12.0\"}};\n",
       "            var render_items = [{\"docid\":\"4ea9ac94-9c50-4d54-ad4d-6ece7d96c938\",\"elementid\":\"57b97831-51b9-4e3d-9ba7-9eb2df741fc3\",\"modelid\":\"031e3541-699a-4590-9acc-85075983cb79\",\"notebook_comms_target\":\"0f2ada92-e451-4001-9afa-49cfc718a8b4\"}];\n",
       "            \n",
       "            Bokeh.embed.embed_items(docs_json, render_items);\n",
       "        });\n",
       "      },\n",
       "      function(Bokeh) {\n",
       "      }\n",
       "    ];\n",
       "  \n",
       "    function run_inline_js() {\n",
       "      for (var i = 0; i < inline_js.length; i++) {\n",
       "        inline_js[i](window.Bokeh);\n",
       "      }\n",
       "    }\n",
       "  \n",
       "    if (window._bokeh_is_loading === 0) {\n",
       "      console.log(\"Bokeh: BokehJS loaded, going straight to plotting\");\n",
       "      run_inline_js();\n",
       "    } else {\n",
       "      load_libs(js_urls, function() {\n",
       "        console.log(\"Bokeh: BokehJS plotting callback run at\", now());\n",
       "        run_inline_js();\n",
       "      });\n",
       "    }\n",
       "  }(this));\n",
       "</script>"
      ]
     },
     "metadata": {},
     "output_type": "display_data"
    },
    {
     "data": {
      "text/html": [
       "<p><code>&lt;Bokeh Notebook handle for <strong>In[12]</strong>&gt;</code></p>"
      ],
      "text/plain": [
       "<bokeh.io._CommsHandle at 0x7f3560eda490>"
      ]
     },
     "execution_count": 12,
     "metadata": {},
     "output_type": "execute_result"
    }
   ],
   "source": [
    "plt_obj = dm.superset_yes_no([di_6_35, dm.di_10_2206, dm.di_64_1575], [dm.di_7_1868], min_match=0.001)\n",
    "plt = plt_obj.do_plot()\n",
    "am = plt_obj.plot_context.yes_allele_mask\n",
    "show(plt)"
   ]
  },
  {
   "cell_type": "code",
   "execution_count": 13,
   "metadata": {
    "collapsed": false
   },
   "outputs": [
    {
     "data": {
      "text/html": [
       "<table>\n",
       "<thead><tr><th style=\"text-align:center\">index</th><th style=\"text-align:center\">first</th><th style=\"text-align:center\">length</th><th style=\"text-align:center\">snps</th><th style=\"text-align:center\" colspan=2>alleles</th><th style=\"text-align:center\" colspan=2>matches</th><th style=\"text-align:center\" colspan=2>afr</th><th style=\"text-align:center\" colspan=2>afx</th><th style=\"text-align:center\" colspan=2>amr</th><th style=\"text-align:center\" colspan=2>eas</th><th style=\"text-align:center\" colspan=2>eur</th><th style=\"text-align:center\" colspan=2>sas</th><th style=\"text-align:center\" colspan=2>sax</th></tr></thead>\n",
       "<tr class=\"even\"><td style=\"text-align: right;\">353921</td><td style=\"text-align: right;\">136,501,840</td><td style=\"text-align: right;\">53,819</td><td style=\"text-align: right;\">10</td><td style=\"text-align: right;\">2206</td><td style=\"text-align: right;\">0.00</td><td style=\"text-align: right;\">1</td><td style=\"text-align: right;\">1.00</td><td style=\"text-align: right;\">0</td><td style=\"text-align: right;\">0.00</td><td style=\"text-align: right;\">0</td><td style=\"text-align: right;\">0.00</td><td style=\"text-align: right;\">0</td><td style=\"text-align: right;\">0.00</td><td style=\"text-align: right;\">0</td><td style=\"text-align: right;\">0.00</td><td style=\"text-align: right;\">1</td><td style=\"text-align: right;\">7.53</td><td style=\"text-align: right;\">0</td><td style=\"text-align: right;\">0.00</td><td style=\"text-align: right;\">0</td><td style=\"text-align: right;\">0.00</td></tr>\n",
       "<tr><td style=\"text-align: right;\">353462</td><td style=\"text-align: right;\">135,915,358</td><td style=\"text-align: right;\">79,721</td><td style=\"text-align: right;\">4</td><td style=\"text-align: right;\">1699</td><td style=\"text-align: right;\">0.00</td><td style=\"text-align: right;\">1</td><td style=\"text-align: right;\">1.00</td><td style=\"text-align: right;\">0</td><td style=\"text-align: right;\">0.00</td><td style=\"text-align: right;\">0</td><td style=\"text-align: right;\">0.00</td><td style=\"text-align: right;\">0</td><td style=\"text-align: right;\">0.00</td><td style=\"text-align: right;\">0</td><td style=\"text-align: right;\">0.00</td><td style=\"text-align: right;\">1</td><td style=\"text-align: right;\">7.53</td><td style=\"text-align: right;\">0</td><td style=\"text-align: right;\">0.00</td><td style=\"text-align: right;\">0</td><td style=\"text-align: right;\">0.00</td></tr>\n",
       "<tr class=\"even\"><td style=\"text-align: right;\">353901</td><td style=\"text-align: right;\">136,494,186</td><td style=\"text-align: right;\">271,765</td><td style=\"text-align: right;\">64</td><td style=\"text-align: right;\">1575</td><td style=\"text-align: right;\">0.00</td><td style=\"text-align: right;\">1</td><td style=\"text-align: right;\">1.00</td><td style=\"text-align: right;\">0</td><td style=\"text-align: right;\">0.00</td><td style=\"text-align: right;\">0</td><td style=\"text-align: right;\">0.00</td><td style=\"text-align: right;\">0</td><td style=\"text-align: right;\">0.00</td><td style=\"text-align: right;\">0</td><td style=\"text-align: right;\">0.00</td><td style=\"text-align: right;\">1</td><td style=\"text-align: right;\">7.53</td><td style=\"text-align: right;\">0</td><td style=\"text-align: right;\">0.00</td><td style=\"text-align: right;\">0</td><td style=\"text-align: right;\">0.00</td></tr>\n",
       "<tr><td style=\"text-align: right;\">353283</td><td style=\"text-align: right;\">135,771,974</td><td style=\"text-align: right;\">368,330</td><td style=\"text-align: right;\">6</td><td style=\"text-align: right;\">1503</td><td style=\"text-align: right;\">0.00</td><td style=\"text-align: right;\">1</td><td style=\"text-align: right;\">1.00</td><td style=\"text-align: right;\">0</td><td style=\"text-align: right;\">0.00</td><td style=\"text-align: right;\">0</td><td style=\"text-align: right;\">0.00</td><td style=\"text-align: right;\">0</td><td style=\"text-align: right;\">0.00</td><td style=\"text-align: right;\">0</td><td style=\"text-align: right;\">0.00</td><td style=\"text-align: right;\">1</td><td style=\"text-align: right;\">7.53</td><td style=\"text-align: right;\">0</td><td style=\"text-align: right;\">0.00</td><td style=\"text-align: right;\">0</td><td style=\"text-align: right;\">0.00</td></tr>\n",
       "<tr class=\"even\"><td style=\"text-align: right;\">353797</td><td style=\"text-align: right;\">136,398,174</td><td style=\"text-align: right;\">75,924</td><td style=\"text-align: right;\">26</td><td style=\"text-align: right;\">1414</td><td style=\"text-align: right;\">0.00</td><td style=\"text-align: right;\">1</td><td style=\"text-align: right;\">1.00</td><td style=\"text-align: right;\">0</td><td style=\"text-align: right;\">0.00</td><td style=\"text-align: right;\">0</td><td style=\"text-align: right;\">0.00</td><td style=\"text-align: right;\">0</td><td style=\"text-align: right;\">0.00</td><td style=\"text-align: right;\">0</td><td style=\"text-align: right;\">0.00</td><td style=\"text-align: right;\">1</td><td style=\"text-align: right;\">7.53</td><td style=\"text-align: right;\">0</td><td style=\"text-align: right;\">0.00</td><td style=\"text-align: right;\">0</td><td style=\"text-align: right;\">0.00</td></tr>\n",
       "<tr><td style=\"text-align: right;\">353407</td><td style=\"text-align: right;\">135,859,157</td><td style=\"text-align: right;\">121,781</td><td style=\"text-align: right;\">6</td><td style=\"text-align: right;\">35</td><td style=\"text-align: right;\">0.03</td><td style=\"text-align: right;\">1</td><td style=\"text-align: right;\">1.00</td><td style=\"text-align: right;\">0</td><td style=\"text-align: right;\">0.00</td><td style=\"text-align: right;\">0</td><td style=\"text-align: right;\">0.00</td><td style=\"text-align: right;\">0</td><td style=\"text-align: right;\">0.00</td><td style=\"text-align: right;\">0</td><td style=\"text-align: right;\">0.00</td><td style=\"text-align: right;\">1</td><td style=\"text-align: right;\">7.53</td><td style=\"text-align: right;\">0</td><td style=\"text-align: right;\">0.00</td><td style=\"text-align: right;\">0</td><td style=\"text-align: right;\">0.00</td></tr>\n",
       "</table>"
      ],
      "text/plain": [
       "<IPython.core.display.HTML object>"
      ]
     },
     "execution_count": 13,
     "metadata": {},
     "output_type": "execute_result"
    }
   ],
   "source": [
    "HTML(plt_obj.get_html())"
   ]
  },
  {
   "cell_type": "code",
   "execution_count": 14,
   "metadata": {
    "collapsed": false
   },
   "outputs": [
    {
     "data": {
      "text/plain": [
       "array([1, 1, 1, 1, 1, 1, 1, 1, 1, 1, 1, 1, 1, 1, 1, 1, 1, 1, 1, 1, 1, 1, 1,\n",
       "       1, 1, 1, 1, 1, 1, 1, 1, 1, 1, 1, 1, 1, 1, 1, 1, 1, 1, 1, 1, 1, 1, 1,\n",
       "       1, 1, 1, 1, 1, 1, 1, 1, 1, 1, 1, 1, 0, 0, 0, 0, 0, 0])"
      ]
     },
     "execution_count": 14,
     "metadata": {},
     "output_type": "execute_result"
    }
   ],
   "source": [
    "sa_64_1575.alleles_per_snp(am)"
   ]
  },
  {
   "cell_type": "code",
   "execution_count": 15,
   "metadata": {
    "collapsed": false
   },
   "outputs": [
    {
     "data": {
      "text/html": [
       "\n",
       "\n",
       "    <div class=\"bk-root\">\n",
       "        <div class=\"plotdiv\" id=\"939659ac-5570-4ae7-b8d1-aa23dbbc6e44\"></div>\n",
       "    </div>\n",
       "<script type=\"text/javascript\">\n",
       "  \n",
       "  (function(global) {\n",
       "    function now() {\n",
       "      return new Date();\n",
       "    }\n",
       "  \n",
       "    if (typeof (window._bokeh_onload_callbacks) === \"undefined\") {\n",
       "      window._bokeh_onload_callbacks = [];\n",
       "    }\n",
       "  \n",
       "    function run_callbacks() {\n",
       "      window._bokeh_onload_callbacks.forEach(function(callback) { callback() });\n",
       "      delete window._bokeh_onload_callbacks\n",
       "      console.info(\"Bokeh: all callbacks have finished\");\n",
       "    }\n",
       "  \n",
       "    function load_libs(js_urls, callback) {\n",
       "      window._bokeh_onload_callbacks.push(callback);\n",
       "      if (window._bokeh_is_loading > 0) {\n",
       "        console.log(\"Bokeh: BokehJS is being loaded, scheduling callback at\", now());\n",
       "        return null;\n",
       "      }\n",
       "      if (js_urls == null || js_urls.length === 0) {\n",
       "        run_callbacks();\n",
       "        return null;\n",
       "      }\n",
       "      console.log(\"Bokeh: BokehJS not loaded, scheduling load and callback at\", now());\n",
       "      window._bokeh_is_loading = js_urls.length;\n",
       "      for (var i = 0; i < js_urls.length; i++) {\n",
       "        var url = js_urls[i];\n",
       "        var s = document.createElement('script');\n",
       "        s.src = url;\n",
       "        s.async = false;\n",
       "        s.onreadystatechange = s.onload = function() {\n",
       "          window._bokeh_is_loading--;\n",
       "          if (window._bokeh_is_loading === 0) {\n",
       "            console.log(\"Bokeh: all BokehJS libraries loaded\");\n",
       "            run_callbacks()\n",
       "          }\n",
       "        };\n",
       "        s.onerror = function() {\n",
       "          console.warn(\"failed to load library \" + url);\n",
       "        };\n",
       "        console.log(\"Bokeh: injecting script tag for BokehJS library: \", url);\n",
       "        document.getElementsByTagName(\"head\")[0].appendChild(s);\n",
       "      }\n",
       "    };var element = document.getElementById(\"939659ac-5570-4ae7-b8d1-aa23dbbc6e44\");\n",
       "    if (element == null) {\n",
       "      console.log(\"Bokeh: ERROR: autoload.js configured with elementid '939659ac-5570-4ae7-b8d1-aa23dbbc6e44' but no matching script tag was found. \")\n",
       "      return false;\n",
       "    }\n",
       "  \n",
       "    var js_urls = [];\n",
       "  \n",
       "    var inline_js = [\n",
       "      function(Bokeh) {\n",
       "        Bokeh.$(function() {\n",
       "            var docs_json = {\"221cec94-bc76-4103-a1b3-1e524713bc75\":{\"roots\":{\"references\":[{\"attributes\":{\"callback\":null,\"column_names\":[\"right\",\"bottom\",\"top\",\"left\"],\"data\":{\"bottom\":[345,345,345,345,345,345,345],\"left\":[135809835,135957574,136289083,136499189,136545415,136597196,136664254],\"right\":[135928279,136288182,136482839,136542633,136594750,136634047,136743222],\"top\":[375,375,375,375,375,375,375]}},\"id\":\"d062e869-753e-463b-9214-342a946a4bd5\",\"type\":\"ColumnDataSource\"},{\"attributes\":{\"data_source\":{\"id\":\"d062e869-753e-463b-9214-342a946a4bd5\",\"type\":\"ColumnDataSource\"},\"glyph\":{\"id\":\"175a81cf-ae2e-4bd2-b1eb-0dfad2050362\",\"type\":\"Quad\"},\"hover_glyph\":null,\"nonselection_glyph\":{\"id\":\"4c36e10c-944a-4165-8be9-8f9dc6525ac9\",\"type\":\"Quad\"},\"selection_glyph\":null},\"id\":\"d1feb62c-ebf4-4b60-aebe-4928e1fcbe0e\",\"type\":\"GlyphRenderer\"},{\"attributes\":{\"plot\":null,\"text\":null},\"id\":\"70593d1a-6fbd-4d70-a1f0-3ddf5071bb30\",\"type\":\"Title\"},{\"attributes\":{\"line_alpha\":{\"value\":0.1},\"line_color\":{\"value\":\"#1f77b4\"},\"xs\":{\"field\":\"xs\"},\"ys\":{\"field\":\"ys\"}},\"id\":\"06d40466-5d25-40c4-83de-0e8603aff2c5\",\"type\":\"MultiLine\"},{\"attributes\":{\"callback\":null,\"end\":136786630,\"start\":135757320},\"id\":\"badbb80a-4416-4532-86d6-548c52429d79\",\"type\":\"Range1d\"},{\"attributes\":{\"level\":\"glyph\",\"plot\":{\"id\":\"9f2394d2-14ef-49ef-9198-13b1400a7352\",\"subtype\":\"Figure\",\"type\":\"Plot\"},\"source\":{\"id\":\"d069d025-b598-416b-8944-a9fe27efa908\",\"type\":\"ColumnDataSource\"},\"text\":{\"field\":\"vals\"},\"text_font_size\":{\"value\":\"9pt\"},\"text_font_style\":\"bold\",\"x\":{\"field\":\"x\"},\"y\":{\"field\":\"y\"}},\"id\":\"45517fa3-a37e-471f-8fb4-2d19e00a71af\",\"type\":\"LabelSet\"},{\"attributes\":{},\"id\":\"7370c041-4f9a-4c5a-a1de-f86a04b63537\",\"type\":\"BasicTickFormatter\"},{\"attributes\":{\"bottom\":{\"field\":\"bottom\"},\"fill_color\":{\"value\":\"white\"},\"left\":{\"field\":\"left\"},\"right\":{\"field\":\"right\"},\"top\":{\"field\":\"top\"}},\"id\":\"175a81cf-ae2e-4bd2-b1eb-0dfad2050362\",\"type\":\"Quad\"},{\"attributes\":{},\"id\":\"7f9a1fc4-aee7-4eb4-9a84-95a3737aa397\",\"type\":\"BasicTicker\"},{\"attributes\":{},\"id\":\"117d5e0a-a2bd-434b-9b04-f14502f4f6ca\",\"type\":\"BasicTicker\"},{\"attributes\":{\"level\":\"glyph\",\"plot\":{\"id\":\"9f2394d2-14ef-49ef-9198-13b1400a7352\",\"subtype\":\"Figure\",\"type\":\"Plot\"},\"source\":{\"id\":\"b943e957-2ad3-4bca-a084-cf42847eef6c\",\"type\":\"ColumnDataSource\"},\"text\":{\"field\":\"vals\"},\"text_align\":\"center\",\"text_baseline\":\"middle\",\"text_font_size\":{\"value\":\"8pt\"},\"x\":{\"field\":\"x\"},\"y\":{\"field\":\"y\"}},\"id\":\"b6542b7f-7ca8-4c60-b1fc-b54aad83f1b2\",\"type\":\"LabelSet\"},{\"attributes\":{\"active_drag\":\"auto\",\"active_scroll\":\"auto\",\"active_tap\":\"auto\",\"tools\":[{\"id\":\"26d51b46-4004-4bb7-9d8c-7219f0e5d2a2\",\"type\":\"PanTool\"},{\"id\":\"a3078cfe-34c1-4598-a845-aefe9a69024e\",\"type\":\"WheelZoomTool\"},{\"id\":\"72d54c9f-7777-4b26-a2ac-95e7b77335b2\",\"type\":\"BoxZoomTool\"},{\"id\":\"84b660be-cf40-4049-be8a-a27ec1eddccc\",\"type\":\"SaveTool\"},{\"id\":\"97b8c0eb-78ee-4102-a099-0f085b9b0390\",\"type\":\"ResetTool\"},{\"id\":\"f39bc90e-5796-45c9-8379-6a1b8a2020f9\",\"type\":\"HelpTool\"}]},\"id\":\"cd1aeab1-3130-4f00-8fe6-c2e926a13fa3\",\"type\":\"Toolbar\"},{\"attributes\":{\"line_color\":{\"field\":\"line_color\"},\"xs\":{\"field\":\"xs\"},\"ys\":{\"field\":\"ys\"}},\"id\":\"09a30547-b127-4009-ac37-d38cdbfd2e92\",\"type\":\"MultiLine\"},{\"attributes\":{\"below\":[{\"id\":\"0d0c8be5-c96d-46e4-990b-359801b6f5b4\",\"type\":\"LinearAxis\"}],\"left\":[{\"id\":\"591d76e9-b2bb-46ac-af1c-2708fff2a7c7\",\"type\":\"LinearAxis\"}],\"plot_height\":400,\"plot_width\":900,\"renderers\":[{\"id\":\"0d0c8be5-c96d-46e4-990b-359801b6f5b4\",\"type\":\"LinearAxis\"},{\"id\":\"f7072cde-4101-47f3-95ae-94dd54413774\",\"type\":\"Grid\"},{\"id\":\"591d76e9-b2bb-46ac-af1c-2708fff2a7c7\",\"type\":\"LinearAxis\"},{\"id\":\"2310f613-a439-42f2-b8d1-e00f8b92b7c0\",\"type\":\"Grid\"},{\"id\":\"ce788303-92b5-48a9-a718-c8c5232ac53c\",\"type\":\"BoxAnnotation\"},{\"id\":\"40a90aef-3345-4237-8b53-bd3316ff300d\",\"type\":\"GlyphRenderer\"},{\"id\":\"17e08c06-e0f8-4179-8440-beb4ed6e2019\",\"type\":\"GlyphRenderer\"},{\"id\":\"45517fa3-a37e-471f-8fb4-2d19e00a71af\",\"type\":\"LabelSet\"},{\"id\":\"d1feb62c-ebf4-4b60-aebe-4928e1fcbe0e\",\"type\":\"GlyphRenderer\"},{\"id\":\"b6542b7f-7ca8-4c60-b1fc-b54aad83f1b2\",\"type\":\"LabelSet\"}],\"title\":{\"id\":\"70593d1a-6fbd-4d70-a1f0-3ddf5071bb30\",\"type\":\"Title\"},\"tool_events\":{\"id\":\"78ea912d-e072-4f3c-b3a6-4eebe7f9165a\",\"type\":\"ToolEvents\"},\"toolbar\":{\"id\":\"cd1aeab1-3130-4f00-8fe6-c2e926a13fa3\",\"type\":\"Toolbar\"},\"toolbar_location\":null,\"x_range\":{\"id\":\"badbb80a-4416-4532-86d6-548c52429d79\",\"type\":\"Range1d\"},\"y_range\":{\"id\":\"726d0f5f-c9dc-4cd4-9870-3fa6dd0c0805\",\"type\":\"Range1d\"}},\"id\":\"9f2394d2-14ef-49ef-9198-13b1400a7352\",\"subtype\":\"Figure\",\"type\":\"Plot\"},{\"attributes\":{\"plot\":{\"id\":\"9f2394d2-14ef-49ef-9198-13b1400a7352\",\"subtype\":\"Figure\",\"type\":\"Plot\"},\"ticker\":{\"id\":\"7f9a1fc4-aee7-4eb4-9a84-95a3737aa397\",\"type\":\"BasicTicker\"}},\"id\":\"f7072cde-4101-47f3-95ae-94dd54413774\",\"type\":\"Grid\"},{\"attributes\":{\"data_source\":{\"id\":\"cc205a29-245d-4924-a704-08597a2e2987\",\"type\":\"ColumnDataSource\"},\"glyph\":{\"id\":\"a4214e1f-f48a-4d34-b83a-4cc65843c0a3\",\"type\":\"Quad\"},\"hover_glyph\":null,\"nonselection_glyph\":{\"id\":\"6a3c0a8a-9c96-489a-931f-8f8be9d159da\",\"type\":\"Quad\"},\"selection_glyph\":null},\"id\":\"40a90aef-3345-4237-8b53-bd3316ff300d\",\"type\":\"GlyphRenderer\"},{\"attributes\":{\"callback\":null,\"column_names\":[\"right\",\"bottom\",\"top\",\"left\",\"fill_color\"],\"data\":{\"bottom\":[150,50,250,150,250,150],\"fill_color\":[\"#61c461\",\"#ff00ff\",\"#61c461\",\"#61c461\",\"#808080\",\"#c46161\"],\"left\":[135771974,135859157,135915358,136398174,136501840,136605402],\"right\":[136140304,135980938,135995079,136474098,136555659,136624686],\"top\":[195,62,296,194,298,182]}},\"id\":\"cc205a29-245d-4924-a704-08597a2e2987\",\"type\":\"ColumnDataSource\"},{\"attributes\":{\"data_source\":{\"id\":\"42f053c2-38d6-4882-8515-4acfbe75b8ca\",\"type\":\"ColumnDataSource\"},\"glyph\":{\"id\":\"09a30547-b127-4009-ac37-d38cdbfd2e92\",\"type\":\"MultiLine\"},\"hover_glyph\":null,\"nonselection_glyph\":{\"id\":\"06d40466-5d25-40c4-83de-0e8603aff2c5\",\"type\":\"MultiLine\"},\"selection_glyph\":null},\"id\":\"17e08c06-e0f8-4179-8440-beb4ed6e2019\",\"type\":\"GlyphRenderer\"},{\"attributes\":{},\"id\":\"b0a3497c-5a24-4e8e-9cbf-17157b4624ce\",\"type\":\"BasicTickFormatter\"},{\"attributes\":{\"bottom\":{\"field\":\"bottom\"},\"fill_color\":{\"field\":\"fill_color\"},\"left\":{\"field\":\"left\"},\"line_color\":{\"value\":null},\"right\":{\"field\":\"right\"},\"top\":{\"field\":\"top\"}},\"id\":\"a4214e1f-f48a-4d34-b83a-4cc65843c0a3\",\"type\":\"Quad\"},{\"attributes\":{\"callback\":null,\"column_names\":[\"y\",\"x\",\"vals\"],\"data\":{\"vals\":[\"RAB3GAP1\",\"ZRANB3\",\"R3HDM1\",\"UBXN4\",\"LCT\",\"MCM6\",\"DARS\"],\"x\":[135869057.0,136122878.0,136385961.0,136520911.0,136570082.5,136615621.5,136703738.0],\"y\":[360.0,360.0,360.0,360.0,360.0,360.0,360.0]}},\"id\":\"b943e957-2ad3-4bca-a084-cf42847eef6c\",\"type\":\"ColumnDataSource\"},{\"attributes\":{\"bottom_units\":\"screen\",\"fill_alpha\":{\"value\":0.5},\"fill_color\":{\"value\":\"lightgrey\"},\"left_units\":\"screen\",\"level\":\"overlay\",\"line_alpha\":{\"value\":1.0},\"line_color\":{\"value\":\"black\"},\"line_dash\":[4,4],\"line_width\":{\"value\":2},\"plot\":null,\"render_mode\":\"css\",\"right_units\":\"screen\",\"top_units\":\"screen\"},\"id\":\"ce788303-92b5-48a9-a718-c8c5232ac53c\",\"type\":\"BoxAnnotation\"},{\"attributes\":{\"bottom\":{\"field\":\"bottom\"},\"fill_alpha\":{\"value\":0.1},\"fill_color\":{\"value\":\"#1f77b4\"},\"left\":{\"field\":\"left\"},\"line_alpha\":{\"value\":0.1},\"line_color\":{\"value\":\"#1f77b4\"},\"right\":{\"field\":\"right\"},\"top\":{\"field\":\"top\"}},\"id\":\"4c36e10c-944a-4165-8be9-8f9dc6525ac9\",\"type\":\"Quad\"},{\"attributes\":{\"formatter\":{\"id\":\"7370c041-4f9a-4c5a-a1de-f86a04b63537\",\"type\":\"BasicTickFormatter\"},\"plot\":{\"id\":\"9f2394d2-14ef-49ef-9198-13b1400a7352\",\"subtype\":\"Figure\",\"type\":\"Plot\"},\"ticker\":{\"id\":\"117d5e0a-a2bd-434b-9b04-f14502f4f6ca\",\"type\":\"BasicTicker\"},\"visible\":null},\"id\":\"591d76e9-b2bb-46ac-af1c-2708fff2a7c7\",\"type\":\"LinearAxis\"},{\"attributes\":{\"bottom\":{\"field\":\"bottom\"},\"fill_alpha\":{\"value\":0.1},\"fill_color\":{\"value\":\"#1f77b4\"},\"left\":{\"field\":\"left\"},\"line_alpha\":{\"value\":0.1},\"line_color\":{\"value\":\"#1f77b4\"},\"right\":{\"field\":\"right\"},\"top\":{\"field\":\"top\"}},\"id\":\"6a3c0a8a-9c96-489a-931f-8f8be9d159da\",\"type\":\"Quad\"},{\"attributes\":{\"plot\":{\"id\":\"9f2394d2-14ef-49ef-9198-13b1400a7352\",\"subtype\":\"Figure\",\"type\":\"Plot\"}},\"id\":\"84b660be-cf40-4049-be8a-a27ec1eddccc\",\"type\":\"SaveTool\"},{\"attributes\":{\"callback\":null,\"column_names\":[\"xs\",\"ys\",\"line_color\"],\"data\":{\"line_color\":[\"black\",\"black\",\"black\",\"black\",\"black\",\"black\",\"black\",\"black\",\"black\",\"black\",\"black\",\"black\",\"black\",\"black\",\"black\",\"black\",\"black\",\"black\",\"black\",\"black\",\"black\",\"black\",\"black\",\"black\",\"black\",\"black\",\"black\",\"black\",\"black\",\"black\",\"black\",\"black\",\"black\",\"black\",\"black\",\"black\",\"black\",\"black\",\"black\",\"black\",\"black\",\"black\",\"black\",\"black\",\"black\",\"black\",\"black\",\"black\",\"black\",\"black\",\"black\",\"black\",\"black\",\"black\",\"black\",\"black\",\"black\",\"black\",\"black\",\"black\"],\"xs\":[[135771974,135771974],[135859371,135859371],[135877562,135877562],[136022798,136022798],[136058820,136058820],[136140304,136140304],[135859157,135859157],[135873466,135873466],[135925411,135925411],[135954198,135954198],[135973399,135973399],[135980938,135980938],[135915358,135915358],[135954405,135954405],[135995073,135995073],[135995079,135995079],[136398174,136398174],[136402117,136402117],[136403749,136403749],[136409073,136409073],[136410299,136410299],[136413359,136413359],[136416855,136416855],[136416941,136416941],[136418348,136418348],[136419961,136419961],[136420690,136420690],[136422171,136422171],[136428460,136428460],[136430866,136430866],[136432103,136432103],[136437507,136437507],[136439090,136439090],[136439517,136439517],[136444123,136444123],[136445526,136445526],[136445869,136445869],[136455600,136455600],[136456642,136456642],[136462441,136462441],[136470714,136470714],[136474098,136474098],[136501840,136501840],[136505546,136505546],[136516748,136516748],[136522710,136522710],[136528004,136528004],[136539513,136539513],[136544752,136544752],[136546110,136546110],[136553529,136553529],[136555659,136555659],[136605402,136605402],[136609320,136609320],[136611400,136611400],[136619744,136619744],[136621858,136621858],[136621941,136621941],[136624382,136624382],[136624686,136624686]],\"ys\":[[150,195],[150,195],[150,195],[150,195],[150,195],[150,195],[50,62],[50,62],[50,62],[50,62],[50,62],[50,62],[250,296],[250,296],[250,296],[250,296],[150,194],[150,194],[150,194],[150,194],[150,194],[150,194],[150,194],[150,194],[150,194],[150,194],[150,194],[150,194],[150,194],[150,194],[150,194],[150,194],[150,194],[150,194],[150,194],[150,194],[150,194],[150,194],[150,194],[150,194],[150,194],[150,194],[250,298],[250,298],[250,298],[250,298],[250,298],[250,298],[250,298],[250,298],[250,298],[250,298],[150,182],[150,182],[150,182],[150,182],[150,182],[150,182],[150,182],[150,182]]}},\"id\":\"42f053c2-38d6-4882-8515-4acfbe75b8ca\",\"type\":\"ColumnDataSource\"},{\"attributes\":{\"plot\":{\"id\":\"9f2394d2-14ef-49ef-9198-13b1400a7352\",\"subtype\":\"Figure\",\"type\":\"Plot\"}},\"id\":\"a3078cfe-34c1-4598-a845-aefe9a69024e\",\"type\":\"WheelZoomTool\"},{\"attributes\":{\"plot\":{\"id\":\"9f2394d2-14ef-49ef-9198-13b1400a7352\",\"subtype\":\"Figure\",\"type\":\"Plot\"}},\"id\":\"26d51b46-4004-4bb7-9d8c-7219f0e5d2a2\",\"type\":\"PanTool\"},{\"attributes\":{\"overlay\":{\"id\":\"ce788303-92b5-48a9-a718-c8c5232ac53c\",\"type\":\"BoxAnnotation\"},\"plot\":{\"id\":\"9f2394d2-14ef-49ef-9198-13b1400a7352\",\"subtype\":\"Figure\",\"type\":\"Plot\"}},\"id\":\"72d54c9f-7777-4b26-a2ac-95e7b77335b2\",\"type\":\"BoxZoomTool\"},{\"attributes\":{\"dimension\":1,\"plot\":{\"id\":\"9f2394d2-14ef-49ef-9198-13b1400a7352\",\"subtype\":\"Figure\",\"type\":\"Plot\"},\"ticker\":{\"id\":\"117d5e0a-a2bd-434b-9b04-f14502f4f6ca\",\"type\":\"BasicTicker\"}},\"id\":\"2310f613-a439-42f2-b8d1-e00f8b92b7c0\",\"type\":\"Grid\"},{\"attributes\":{\"formatter\":{\"id\":\"b0a3497c-5a24-4e8e-9cbf-17157b4624ce\",\"type\":\"BasicTickFormatter\"},\"plot\":{\"id\":\"9f2394d2-14ef-49ef-9198-13b1400a7352\",\"subtype\":\"Figure\",\"type\":\"Plot\"},\"ticker\":{\"id\":\"7f9a1fc4-aee7-4eb4-9a84-95a3737aa397\",\"type\":\"BasicTicker\"}},\"id\":\"0d0c8be5-c96d-46e4-990b-359801b6f5b4\",\"type\":\"LinearAxis\"},{\"attributes\":{\"plot\":{\"id\":\"9f2394d2-14ef-49ef-9198-13b1400a7352\",\"subtype\":\"Figure\",\"type\":\"Plot\"}},\"id\":\"97b8c0eb-78ee-4102-a099-0f085b9b0390\",\"type\":\"ResetTool\"},{\"attributes\":{\"callback\":null,\"column_names\":[\"y\",\"x\",\"vals\"],\"data\":{\"vals\":[\"6_1503\",\"6_35\",\"4_1699\",\"26_1414\",\"10_2206\",\"8_328\"],\"x\":[135771974,135859157,135915358,136398174,136501840,136605402],\"y\":[200.0,67.0,301.0,199.0,303.0,187.0]}},\"id\":\"d069d025-b598-416b-8944-a9fe27efa908\",\"type\":\"ColumnDataSource\"},{\"attributes\":{\"callback\":null,\"end\":400},\"id\":\"726d0f5f-c9dc-4cd4-9870-3fa6dd0c0805\",\"type\":\"Range1d\"},{\"attributes\":{},\"id\":\"78ea912d-e072-4f3c-b3a6-4eebe7f9165a\",\"type\":\"ToolEvents\"},{\"attributes\":{\"plot\":{\"id\":\"9f2394d2-14ef-49ef-9198-13b1400a7352\",\"subtype\":\"Figure\",\"type\":\"Plot\"}},\"id\":\"f39bc90e-5796-45c9-8379-6a1b8a2020f9\",\"type\":\"HelpTool\"}],\"root_ids\":[\"9f2394d2-14ef-49ef-9198-13b1400a7352\"]},\"title\":\"Bokeh Application\",\"version\":\"0.12.0\"}};\n",
       "            var render_items = [{\"docid\":\"221cec94-bc76-4103-a1b3-1e524713bc75\",\"elementid\":\"939659ac-5570-4ae7-b8d1-aa23dbbc6e44\",\"modelid\":\"9f2394d2-14ef-49ef-9198-13b1400a7352\",\"notebook_comms_target\":\"59cb5320-0ebb-45c7-b3ed-8647f3ace89d\"}];\n",
       "            \n",
       "            Bokeh.embed.embed_items(docs_json, render_items);\n",
       "        });\n",
       "      },\n",
       "      function(Bokeh) {\n",
       "      }\n",
       "    ];\n",
       "  \n",
       "    function run_inline_js() {\n",
       "      for (var i = 0; i < inline_js.length; i++) {\n",
       "        inline_js[i](window.Bokeh);\n",
       "      }\n",
       "    }\n",
       "  \n",
       "    if (window._bokeh_is_loading === 0) {\n",
       "      console.log(\"Bokeh: BokehJS loaded, going straight to plotting\");\n",
       "      run_inline_js();\n",
       "    } else {\n",
       "      load_libs(js_urls, function() {\n",
       "        console.log(\"Bokeh: BokehJS plotting callback run at\", now());\n",
       "        run_inline_js();\n",
       "      });\n",
       "    }\n",
       "  }(this));\n",
       "</script>"
      ]
     },
     "metadata": {},
     "output_type": "display_data"
    },
    {
     "data": {
      "text/html": [
       "<p><code>&lt;Bokeh Notebook handle for <strong>In[15]</strong>&gt;</code></p>"
      ],
      "text/plain": [
       "<bokeh.io._CommsHandle at 0x7f3560eb6790>"
      ]
     },
     "execution_count": 15,
     "metadata": {},
     "output_type": "execute_result"
    }
   ],
   "source": [
    "plt_obj = dm.superset_yes_no([di_6_35, dm.di_10_2206], [dm.di_64_1575,dm.di_39_1014, dm.di_7_1868], min_match=0.001)\n",
    "plt = plt_obj.do_plot()\n",
    "am = plt_obj.plot_context.yes_allele_mask\n",
    "show(plt)"
   ]
  },
  {
   "cell_type": "code",
   "execution_count": 16,
   "metadata": {
    "collapsed": false
   },
   "outputs": [
    {
     "data": {
      "text/html": [
       "<table>\n",
       "<thead><tr><th style=\"text-align:center\">index</th><th style=\"text-align:center\">first</th><th style=\"text-align:center\">length</th><th style=\"text-align:center\">snps</th><th style=\"text-align:center\" colspan=2>alleles</th><th style=\"text-align:center\" colspan=2>matches</th><th style=\"text-align:center\" colspan=2>afr</th><th style=\"text-align:center\" colspan=2>afx</th><th style=\"text-align:center\" colspan=2>amr</th><th style=\"text-align:center\" colspan=2>eas</th><th style=\"text-align:center\" colspan=2>eur</th><th style=\"text-align:center\" colspan=2>sas</th><th style=\"text-align:center\" colspan=2>sax</th></tr></thead>\n",
       "<tr class=\"even\"><td style=\"text-align: right;\">353921</td><td style=\"text-align: right;\">136,501,840</td><td style=\"text-align: right;\">53,819</td><td style=\"text-align: right;\">10</td><td style=\"text-align: right;\">2206</td><td style=\"text-align: right;\">0.00</td><td style=\"text-align: right;\">1</td><td style=\"text-align: right;\">1.00</td><td style=\"text-align: right;\">0</td><td style=\"text-align: right;\">0.00</td><td style=\"text-align: right;\">0</td><td style=\"text-align: right;\">0.00</td><td style=\"text-align: right;\">0</td><td style=\"text-align: right;\">0.00</td><td style=\"text-align: right;\">0</td><td style=\"text-align: right;\">0.00</td><td style=\"text-align: right;\">1</td><td style=\"text-align: right;\">7.77</td><td style=\"text-align: right;\">0</td><td style=\"text-align: right;\">0.00</td><td style=\"text-align: right;\">0</td><td style=\"text-align: right;\">0.00</td></tr>\n",
       "<tr><td style=\"text-align: right;\">353462</td><td style=\"text-align: right;\">135,915,358</td><td style=\"text-align: right;\">79,721</td><td style=\"text-align: right;\">4</td><td style=\"text-align: right;\">1699</td><td style=\"text-align: right;\">0.00</td><td style=\"text-align: right;\">1</td><td style=\"text-align: right;\">1.00</td><td style=\"text-align: right;\">0</td><td style=\"text-align: right;\">0.00</td><td style=\"text-align: right;\">0</td><td style=\"text-align: right;\">0.00</td><td style=\"text-align: right;\">0</td><td style=\"text-align: right;\">0.00</td><td style=\"text-align: right;\">0</td><td style=\"text-align: right;\">0.00</td><td style=\"text-align: right;\">1</td><td style=\"text-align: right;\">7.77</td><td style=\"text-align: right;\">0</td><td style=\"text-align: right;\">0.00</td><td style=\"text-align: right;\">0</td><td style=\"text-align: right;\">0.00</td></tr>\n",
       "<tr class=\"even\"><td style=\"text-align: right;\">353283</td><td style=\"text-align: right;\">135,771,974</td><td style=\"text-align: right;\">368,330</td><td style=\"text-align: right;\">6</td><td style=\"text-align: right;\">1503</td><td style=\"text-align: right;\">0.00</td><td style=\"text-align: right;\">1</td><td style=\"text-align: right;\">1.00</td><td style=\"text-align: right;\">0</td><td style=\"text-align: right;\">0.00</td><td style=\"text-align: right;\">0</td><td style=\"text-align: right;\">0.00</td><td style=\"text-align: right;\">0</td><td style=\"text-align: right;\">0.00</td><td style=\"text-align: right;\">0</td><td style=\"text-align: right;\">0.00</td><td style=\"text-align: right;\">1</td><td style=\"text-align: right;\">7.77</td><td style=\"text-align: right;\">0</td><td style=\"text-align: right;\">0.00</td><td style=\"text-align: right;\">0</td><td style=\"text-align: right;\">0.00</td></tr>\n",
       "<tr><td style=\"text-align: right;\">353797</td><td style=\"text-align: right;\">136,398,174</td><td style=\"text-align: right;\">75,924</td><td style=\"text-align: right;\">26</td><td style=\"text-align: right;\">1414</td><td style=\"text-align: right;\">0.00</td><td style=\"text-align: right;\">1</td><td style=\"text-align: right;\">1.00</td><td style=\"text-align: right;\">0</td><td style=\"text-align: right;\">0.00</td><td style=\"text-align: right;\">0</td><td style=\"text-align: right;\">0.00</td><td style=\"text-align: right;\">0</td><td style=\"text-align: right;\">0.00</td><td style=\"text-align: right;\">0</td><td style=\"text-align: right;\">0.00</td><td style=\"text-align: right;\">1</td><td style=\"text-align: right;\">7.77</td><td style=\"text-align: right;\">0</td><td style=\"text-align: right;\">0.00</td><td style=\"text-align: right;\">0</td><td style=\"text-align: right;\">0.00</td></tr>\n",
       "<tr class=\"even\"><td style=\"text-align: right;\">354064</td><td style=\"text-align: right;\">136,605,402</td><td style=\"text-align: right;\">19,284</td><td style=\"text-align: right;\">8</td><td style=\"text-align: right;\">328</td><td style=\"text-align: right;\">0.00</td><td style=\"text-align: right;\">1</td><td style=\"text-align: right;\">1.00</td><td style=\"text-align: right;\">0</td><td style=\"text-align: right;\">0.00</td><td style=\"text-align: right;\">0</td><td style=\"text-align: right;\">0.00</td><td style=\"text-align: right;\">0</td><td style=\"text-align: right;\">0.00</td><td style=\"text-align: right;\">0</td><td style=\"text-align: right;\">0.00</td><td style=\"text-align: right;\">1</td><td style=\"text-align: right;\">7.77</td><td style=\"text-align: right;\">0</td><td style=\"text-align: right;\">0.00</td><td style=\"text-align: right;\">0</td><td style=\"text-align: right;\">0.00</td></tr>\n",
       "<tr><td style=\"text-align: right;\">353407</td><td style=\"text-align: right;\">135,859,157</td><td style=\"text-align: right;\">121,781</td><td style=\"text-align: right;\">6</td><td style=\"text-align: right;\">35</td><td style=\"text-align: right;\">0.03</td><td style=\"text-align: right;\">1</td><td style=\"text-align: right;\">1.00</td><td style=\"text-align: right;\">0</td><td style=\"text-align: right;\">0.00</td><td style=\"text-align: right;\">0</td><td style=\"text-align: right;\">0.00</td><td style=\"text-align: right;\">0</td><td style=\"text-align: right;\">0.00</td><td style=\"text-align: right;\">0</td><td style=\"text-align: right;\">0.00</td><td style=\"text-align: right;\">1</td><td style=\"text-align: right;\">7.77</td><td style=\"text-align: right;\">0</td><td style=\"text-align: right;\">0.00</td><td style=\"text-align: right;\">0</td><td style=\"text-align: right;\">0.00</td></tr>\n",
       "</table>"
      ],
      "text/plain": [
       "<IPython.core.display.HTML object>"
      ]
     },
     "execution_count": 16,
     "metadata": {},
     "output_type": "execute_result"
    }
   ],
   "source": [
    "HTML(plt_obj.get_html())"
   ]
  },
  {
   "cell_type": "code",
   "execution_count": 17,
   "metadata": {
    "collapsed": false
   },
   "outputs": [
    {
     "data": {
      "text/plain": [
       "array([1, 1, 1, 1, 1, 1, 1, 1, 1, 1, 1, 1, 1, 1, 1, 1, 1, 1, 1, 1, 1, 1, 1,\n",
       "       1, 1, 1, 1, 1, 1, 1, 1, 1, 1, 1, 1, 1, 0, 0, 0, 0, 0, 0, 0, 0, 0, 0,\n",
       "       0, 0, 0, 0, 0, 0, 0, 0, 0, 0, 0, 0, 0, 0, 0, 0, 0, 0])"
      ]
     },
     "execution_count": 17,
     "metadata": {},
     "output_type": "execute_result"
    }
   ],
   "source": [
    "sa_64_1575.alleles_per_snp(am)"
   ]
  },
  {
   "cell_type": "code",
   "execution_count": 18,
   "metadata": {
    "collapsed": false
   },
   "outputs": [
    {
     "data": {
      "text/html": [
       "\n",
       "\n",
       "    <div class=\"bk-root\">\n",
       "        <div class=\"plotdiv\" id=\"ecf52f7d-4820-4ecd-878e-2d3d91f5c123\"></div>\n",
       "    </div>\n",
       "<script type=\"text/javascript\">\n",
       "  \n",
       "  (function(global) {\n",
       "    function now() {\n",
       "      return new Date();\n",
       "    }\n",
       "  \n",
       "    if (typeof (window._bokeh_onload_callbacks) === \"undefined\") {\n",
       "      window._bokeh_onload_callbacks = [];\n",
       "    }\n",
       "  \n",
       "    function run_callbacks() {\n",
       "      window._bokeh_onload_callbacks.forEach(function(callback) { callback() });\n",
       "      delete window._bokeh_onload_callbacks\n",
       "      console.info(\"Bokeh: all callbacks have finished\");\n",
       "    }\n",
       "  \n",
       "    function load_libs(js_urls, callback) {\n",
       "      window._bokeh_onload_callbacks.push(callback);\n",
       "      if (window._bokeh_is_loading > 0) {\n",
       "        console.log(\"Bokeh: BokehJS is being loaded, scheduling callback at\", now());\n",
       "        return null;\n",
       "      }\n",
       "      if (js_urls == null || js_urls.length === 0) {\n",
       "        run_callbacks();\n",
       "        return null;\n",
       "      }\n",
       "      console.log(\"Bokeh: BokehJS not loaded, scheduling load and callback at\", now());\n",
       "      window._bokeh_is_loading = js_urls.length;\n",
       "      for (var i = 0; i < js_urls.length; i++) {\n",
       "        var url = js_urls[i];\n",
       "        var s = document.createElement('script');\n",
       "        s.src = url;\n",
       "        s.async = false;\n",
       "        s.onreadystatechange = s.onload = function() {\n",
       "          window._bokeh_is_loading--;\n",
       "          if (window._bokeh_is_loading === 0) {\n",
       "            console.log(\"Bokeh: all BokehJS libraries loaded\");\n",
       "            run_callbacks()\n",
       "          }\n",
       "        };\n",
       "        s.onerror = function() {\n",
       "          console.warn(\"failed to load library \" + url);\n",
       "        };\n",
       "        console.log(\"Bokeh: injecting script tag for BokehJS library: \", url);\n",
       "        document.getElementsByTagName(\"head\")[0].appendChild(s);\n",
       "      }\n",
       "    };var element = document.getElementById(\"ecf52f7d-4820-4ecd-878e-2d3d91f5c123\");\n",
       "    if (element == null) {\n",
       "      console.log(\"Bokeh: ERROR: autoload.js configured with elementid 'ecf52f7d-4820-4ecd-878e-2d3d91f5c123' but no matching script tag was found. \")\n",
       "      return false;\n",
       "    }\n",
       "  \n",
       "    var js_urls = [];\n",
       "  \n",
       "    var inline_js = [\n",
       "      function(Bokeh) {\n",
       "        Bokeh.$(function() {\n",
       "            var docs_json = {\"0e64c30a-5d7f-4bbe-bb6e-4de5e2cc6961\":{\"roots\":{\"references\":[{\"attributes\":{\"callback\":null,\"end\":136786630,\"start\":135757320},\"id\":\"f72ea4ac-5fe4-4523-a00f-dfe655ed1cb9\",\"type\":\"Range1d\"},{\"attributes\":{},\"id\":\"f81cb232-f3ea-4f21-ab5f-f34b23be0aa4\",\"type\":\"BasicTickFormatter\"},{\"attributes\":{\"bottom\":{\"field\":\"bottom\"},\"fill_alpha\":{\"value\":0.1},\"fill_color\":{\"value\":\"#1f77b4\"},\"left\":{\"field\":\"left\"},\"line_alpha\":{\"value\":0.1},\"line_color\":{\"value\":\"#1f77b4\"},\"right\":{\"field\":\"right\"},\"top\":{\"field\":\"top\"}},\"id\":\"04f99237-96d9-4975-9521-1867a177b671\",\"type\":\"Quad\"},{\"attributes\":{\"overlay\":{\"id\":\"f55cc338-8bbd-4373-a056-999834ba3d49\",\"type\":\"BoxAnnotation\"},\"plot\":{\"id\":\"233d2d84-90d0-4de1-bebe-5cb610b286d1\",\"subtype\":\"Figure\",\"type\":\"Plot\"}},\"id\":\"7017f482-8c8a-48b0-8db5-518a8e8524b7\",\"type\":\"BoxZoomTool\"},{\"attributes\":{},\"id\":\"3d4a087c-703c-4d40-b4a7-4d9b99967f34\",\"type\":\"BasicTickFormatter\"},{\"attributes\":{\"plot\":null,\"text\":null},\"id\":\"7aa06e6d-884e-484e-9177-38ad140e4b88\",\"type\":\"Title\"},{\"attributes\":{\"dimension\":1,\"plot\":{\"id\":\"233d2d84-90d0-4de1-bebe-5cb610b286d1\",\"subtype\":\"Figure\",\"type\":\"Plot\"},\"ticker\":{\"id\":\"cb1cfb26-54d5-4c98-adb6-8c44d38c4a1d\",\"type\":\"BasicTicker\"}},\"id\":\"c2bc99a8-e94b-4c1a-a6aa-c418c3fbd07b\",\"type\":\"Grid\"},{\"attributes\":{\"callback\":null,\"column_names\":[\"right\",\"bottom\",\"top\",\"left\"],\"data\":{\"bottom\":[445,445,445,445,445,445,445],\"left\":[135809835,135957574,136289083,136499189,136545415,136597196,136664254],\"right\":[135928279,136288182,136482839,136542633,136594750,136634047,136743222],\"top\":[475,475,475,475,475,475,475]}},\"id\":\"9b9e9a59-fdee-40f1-8b26-6f008e1398ab\",\"type\":\"ColumnDataSource\"},{\"attributes\":{\"bottom\":{\"field\":\"bottom\"},\"fill_color\":{\"value\":\"white\"},\"left\":{\"field\":\"left\"},\"right\":{\"field\":\"right\"},\"top\":{\"field\":\"top\"}},\"id\":\"312cb28a-9aa6-48f9-9b67-e6b1d6e11de7\",\"type\":\"Quad\"},{\"attributes\":{\"data_source\":{\"id\":\"6f0e418b-6b05-4f79-abd4-5249fcce0f3c\",\"type\":\"ColumnDataSource\"},\"glyph\":{\"id\":\"1343ca8e-f842-49fd-b31f-f9a796a1cded\",\"type\":\"MultiLine\"},\"hover_glyph\":null,\"nonselection_glyph\":{\"id\":\"bfecc5cc-9d9c-4eeb-b4fc-889edee1407e\",\"type\":\"MultiLine\"},\"selection_glyph\":null},\"id\":\"2b828c3d-9c88-4704-b7a1-cfda18d6d8bb\",\"type\":\"GlyphRenderer\"},{\"attributes\":{\"data_source\":{\"id\":\"c6f0acef-66ba-4286-87bf-6b73b1667ec4\",\"type\":\"ColumnDataSource\"},\"glyph\":{\"id\":\"0863b4cc-f31c-41bb-a608-3626ee045b2a\",\"type\":\"Quad\"},\"hover_glyph\":null,\"nonselection_glyph\":{\"id\":\"04f99237-96d9-4975-9521-1867a177b671\",\"type\":\"Quad\"},\"selection_glyph\":null},\"id\":\"8239dde0-cd12-4fe2-8294-01dbbfbb811a\",\"type\":\"GlyphRenderer\"},{\"attributes\":{\"bottom\":{\"field\":\"bottom\"},\"fill_color\":{\"field\":\"fill_color\"},\"left\":{\"field\":\"left\"},\"line_color\":{\"value\":null},\"right\":{\"field\":\"right\"},\"top\":{\"field\":\"top\"}},\"id\":\"0863b4cc-f31c-41bb-a608-3626ee045b2a\",\"type\":\"Quad\"},{\"attributes\":{\"callback\":null,\"column_names\":[\"xs\",\"ys\",\"line_color\"],\"data\":{\"line_color\":[\"black\",\"black\",\"black\",\"black\",\"black\",\"black\",\"black\",\"black\",\"black\",\"black\",\"black\",\"black\",\"black\",\"black\",\"black\",\"black\",\"black\",\"black\",\"black\",\"black\",\"black\",\"black\",\"black\",\"black\",\"black\",\"black\",\"black\",\"black\",\"black\",\"black\",\"black\",\"black\",\"black\",\"black\",\"black\",\"black\",\"black\",\"black\",\"black\",\"black\",\"black\",\"black\",\"black\",\"black\",\"black\",\"black\",\"black\",\"black\",\"black\",\"black\",\"black\",\"black\",\"black\",\"black\",\"black\",\"black\",\"black\",\"black\",\"black\",\"black\",\"black\",\"black\",\"black\",\"black\",\"black\",\"black\",\"black\",\"black\",\"black\",\"black\",\"black\",\"black\",\"black\",\"black\",\"black\",\"black\",\"black\",\"black\",\"black\"],\"xs\":[[135771974,135771974],[135859371,135859371],[135877562,135877562],[136022798,136022798],[136058820,136058820],[136140304,136140304],[135859157,135859157],[135873466,135873466],[135925411,135925411],[135954198,135954198],[135973399,135973399],[135980938,135980938],[135915358,135915358],[135954405,135954405],[135995073,135995073],[135995079,135995079],[136393658,136393658],[136396300,136396300],[136401843,136401843],[136407445,136407445],[136411879,136411879],[136412270,136412270],[136413244,136413244],[136413847,136413847],[136415217,136415217],[136416533,136416533],[136420726,136420726],[136429857,136429857],[136433740,136433740],[136436317,136436317],[136437615,136437615],[136438517,136438517],[136440300,136440300],[136443900,136443900],[136444185,136444185],[136444338,136444338],[136449254,136449254],[136451676,136451676],[136459227,136459227],[136463117,136463117],[136463454,136463454],[136467119,136467119],[136468238,136468238],[136470219,136470219],[136483355,136483355],[136485276,136485276],[136486340,136486340],[136486342,136486342],[136500475,136500475],[136501509,136501509],[136504101,136504101],[136509868,136509868],[136520043,136520043],[136527120,136527120],[136530379,136530379],[136530443,136530443],[136539330,136539330],[136539670,136539670],[136540083,136540083],[136542559,136542559],[136542560,136542560],[136506375,136506375],[136506927,136506927],[136510012,136510012],[136538939,136538939],[136535876,136535876],[136544651,136544651],[136545844,136545844],[136552526,136552526],[136553022,136553022],[136554797,136554797],[136554890,136554890],[136588031,136588031],[136589278,136589278],[136589379,136589379],[136589741,136589741],[136590746,136590746],[136593553,136593553],[136593678,136593678]],\"ys\":[[250,295],[250,295],[250,295],[250,295],[250,295],[250,295],[50,62],[50,62],[50,62],[50,62],[50,62],[50,62],[350,396],[350,396],[350,396],[350,396],[250,294],[250,294],[250,294],[250,294],[250,294],[250,294],[250,294],[250,294],[250,294],[250,294],[250,294],[250,294],[250,294],[250,294],[250,294],[250,294],[250,294],[250,294],[250,294],[250,294],[250,294],[250,294],[250,294],[250,294],[250,294],[250,294],[250,294],[250,294],[250,294],[250,294],[250,294],[250,294],[50,93],[50,93],[50,93],[50,93],[50,93],[50,93],[50,93],[50,93],[50,93],[50,93],[50,93],[50,93],[50,93],[250,294],[250,294],[250,294],[250,294],[150,194],[150,194],[150,194],[150,194],[150,194],[150,194],[150,194],[350,396],[350,396],[350,396],[350,396],[350,396],[350,396],[350,396]]}},\"id\":\"6f0e418b-6b05-4f79-abd4-5249fcce0f3c\",\"type\":\"ColumnDataSource\"},{\"attributes\":{\"plot\":{\"id\":\"233d2d84-90d0-4de1-bebe-5cb610b286d1\",\"subtype\":\"Figure\",\"type\":\"Plot\"}},\"id\":\"89b0d87d-db7a-4ac2-9d18-491b2b424c70\",\"type\":\"PanTool\"},{\"attributes\":{\"plot\":{\"id\":\"233d2d84-90d0-4de1-bebe-5cb610b286d1\",\"subtype\":\"Figure\",\"type\":\"Plot\"}},\"id\":\"4f0435ea-25e4-4f54-a780-d11345e5eb1e\",\"type\":\"HelpTool\"},{\"attributes\":{},\"id\":\"db00885a-9567-4ccc-b69b-7f3fc4e7ed48\",\"type\":\"ToolEvents\"},{\"attributes\":{\"bottom\":{\"field\":\"bottom\"},\"fill_alpha\":{\"value\":0.1},\"fill_color\":{\"value\":\"#1f77b4\"},\"left\":{\"field\":\"left\"},\"line_alpha\":{\"value\":0.1},\"line_color\":{\"value\":\"#1f77b4\"},\"right\":{\"field\":\"right\"},\"top\":{\"field\":\"top\"}},\"id\":\"9ceea138-0fea-4b2c-aecb-6b44ea882dde\",\"type\":\"Quad\"},{\"attributes\":{\"plot\":{\"id\":\"233d2d84-90d0-4de1-bebe-5cb610b286d1\",\"subtype\":\"Figure\",\"type\":\"Plot\"},\"ticker\":{\"id\":\"d93e594e-6dbb-44cd-9de4-a46208aa6aab\",\"type\":\"BasicTicker\"}},\"id\":\"33d4af7d-8c27-4d56-ae52-93e27ef1e960\",\"type\":\"Grid\"},{\"attributes\":{\"plot\":{\"id\":\"233d2d84-90d0-4de1-bebe-5cb610b286d1\",\"subtype\":\"Figure\",\"type\":\"Plot\"}},\"id\":\"3121fb0c-7ce6-48c3-9ef2-9cb610d31fff\",\"type\":\"ResetTool\"},{\"attributes\":{\"below\":[{\"id\":\"2e7d5cf2-4561-41a5-be72-4419d483d5a2\",\"type\":\"LinearAxis\"}],\"left\":[{\"id\":\"91a1e40c-5d09-493a-9775-e1c9360fa7fd\",\"type\":\"LinearAxis\"}],\"plot_height\":500,\"plot_width\":900,\"renderers\":[{\"id\":\"2e7d5cf2-4561-41a5-be72-4419d483d5a2\",\"type\":\"LinearAxis\"},{\"id\":\"33d4af7d-8c27-4d56-ae52-93e27ef1e960\",\"type\":\"Grid\"},{\"id\":\"91a1e40c-5d09-493a-9775-e1c9360fa7fd\",\"type\":\"LinearAxis\"},{\"id\":\"c2bc99a8-e94b-4c1a-a6aa-c418c3fbd07b\",\"type\":\"Grid\"},{\"id\":\"f55cc338-8bbd-4373-a056-999834ba3d49\",\"type\":\"BoxAnnotation\"},{\"id\":\"8239dde0-cd12-4fe2-8294-01dbbfbb811a\",\"type\":\"GlyphRenderer\"},{\"id\":\"2b828c3d-9c88-4704-b7a1-cfda18d6d8bb\",\"type\":\"GlyphRenderer\"},{\"id\":\"32c6583f-34aa-4ff0-a6ea-3e47fd503bdd\",\"type\":\"LabelSet\"},{\"id\":\"bfa9a37f-e4d8-43e6-83fc-ca4a5ae0096d\",\"type\":\"GlyphRenderer\"},{\"id\":\"91e80a8a-5cd1-45e3-aa4e-67f58a5701f1\",\"type\":\"LabelSet\"}],\"title\":{\"id\":\"7aa06e6d-884e-484e-9177-38ad140e4b88\",\"type\":\"Title\"},\"tool_events\":{\"id\":\"db00885a-9567-4ccc-b69b-7f3fc4e7ed48\",\"type\":\"ToolEvents\"},\"toolbar\":{\"id\":\"02e5be5c-c719-4841-813c-16a1c18c74e3\",\"type\":\"Toolbar\"},\"toolbar_location\":null,\"x_range\":{\"id\":\"f72ea4ac-5fe4-4523-a00f-dfe655ed1cb9\",\"type\":\"Range1d\"},\"y_range\":{\"id\":\"835f4bf7-6fb1-4aec-9f53-bf97d77e9cce\",\"type\":\"Range1d\"}},\"id\":\"233d2d84-90d0-4de1-bebe-5cb610b286d1\",\"subtype\":\"Figure\",\"type\":\"Plot\"},{\"attributes\":{\"line_color\":{\"field\":\"line_color\"},\"xs\":{\"field\":\"xs\"},\"ys\":{\"field\":\"ys\"}},\"id\":\"1343ca8e-f842-49fd-b31f-f9a796a1cded\",\"type\":\"MultiLine\"},{\"attributes\":{\"callback\":null,\"column_names\":[\"y\",\"x\",\"vals\"],\"data\":{\"vals\":[\"RAB3GAP1\",\"ZRANB3\",\"R3HDM1\",\"UBXN4\",\"LCT\",\"MCM6\",\"DARS\"],\"x\":[135869057.0,136122878.0,136385961.0,136520911.0,136570082.5,136615621.5,136703738.0],\"y\":[460.0,460.0,460.0,460.0,460.0,460.0,460.0]}},\"id\":\"70f8b1a2-f540-490e-acf1-b1f5a39a8f93\",\"type\":\"ColumnDataSource\"},{\"attributes\":{\"active_drag\":\"auto\",\"active_scroll\":\"auto\",\"active_tap\":\"auto\",\"tools\":[{\"id\":\"89b0d87d-db7a-4ac2-9d18-491b2b424c70\",\"type\":\"PanTool\"},{\"id\":\"d476e6b6-b712-47ef-9cc0-c765aaf90170\",\"type\":\"WheelZoomTool\"},{\"id\":\"7017f482-8c8a-48b0-8db5-518a8e8524b7\",\"type\":\"BoxZoomTool\"},{\"id\":\"ffd17cd8-75e6-440e-ac0d-f8c2251e1abc\",\"type\":\"SaveTool\"},{\"id\":\"3121fb0c-7ce6-48c3-9ef2-9cb610d31fff\",\"type\":\"ResetTool\"},{\"id\":\"4f0435ea-25e4-4f54-a780-d11345e5eb1e\",\"type\":\"HelpTool\"}]},\"id\":\"02e5be5c-c719-4841-813c-16a1c18c74e3\",\"type\":\"Toolbar\"},{\"attributes\":{\"bottom_units\":\"screen\",\"fill_alpha\":{\"value\":0.5},\"fill_color\":{\"value\":\"lightgrey\"},\"left_units\":\"screen\",\"level\":\"overlay\",\"line_alpha\":{\"value\":1.0},\"line_color\":{\"value\":\"black\"},\"line_dash\":[4,4],\"line_width\":{\"value\":2},\"plot\":null,\"render_mode\":\"css\",\"right_units\":\"screen\",\"top_units\":\"screen\"},\"id\":\"f55cc338-8bbd-4373-a056-999834ba3d49\",\"type\":\"BoxAnnotation\"},{\"attributes\":{\"plot\":{\"id\":\"233d2d84-90d0-4de1-bebe-5cb610b286d1\",\"subtype\":\"Figure\",\"type\":\"Plot\"}},\"id\":\"ffd17cd8-75e6-440e-ac0d-f8c2251e1abc\",\"type\":\"SaveTool\"},{\"attributes\":{\"level\":\"glyph\",\"plot\":{\"id\":\"233d2d84-90d0-4de1-bebe-5cb610b286d1\",\"subtype\":\"Figure\",\"type\":\"Plot\"},\"source\":{\"id\":\"70f8b1a2-f540-490e-acf1-b1f5a39a8f93\",\"type\":\"ColumnDataSource\"},\"text\":{\"field\":\"vals\"},\"text_align\":\"center\",\"text_baseline\":\"middle\",\"text_font_size\":{\"value\":\"8pt\"},\"x\":{\"field\":\"x\"},\"y\":{\"field\":\"y\"}},\"id\":\"91e80a8a-5cd1-45e3-aa4e-67f58a5701f1\",\"type\":\"LabelSet\"},{\"attributes\":{\"formatter\":{\"id\":\"3d4a087c-703c-4d40-b4a7-4d9b99967f34\",\"type\":\"BasicTickFormatter\"},\"plot\":{\"id\":\"233d2d84-90d0-4de1-bebe-5cb610b286d1\",\"subtype\":\"Figure\",\"type\":\"Plot\"},\"ticker\":{\"id\":\"cb1cfb26-54d5-4c98-adb6-8c44d38c4a1d\",\"type\":\"BasicTicker\"},\"visible\":null},\"id\":\"91a1e40c-5d09-493a-9775-e1c9360fa7fd\",\"type\":\"LinearAxis\"},{\"attributes\":{\"line_alpha\":{\"value\":0.1},\"line_color\":{\"value\":\"#1f77b4\"},\"xs\":{\"field\":\"xs\"},\"ys\":{\"field\":\"ys\"}},\"id\":\"bfecc5cc-9d9c-4eeb-b4fc-889edee1407e\",\"type\":\"MultiLine\"},{\"attributes\":{},\"id\":\"cb1cfb26-54d5-4c98-adb6-8c44d38c4a1d\",\"type\":\"BasicTicker\"},{\"attributes\":{\"level\":\"glyph\",\"plot\":{\"id\":\"233d2d84-90d0-4de1-bebe-5cb610b286d1\",\"subtype\":\"Figure\",\"type\":\"Plot\"},\"source\":{\"id\":\"a0980b80-70a2-4d59-b41e-83af3ff98f7e\",\"type\":\"ColumnDataSource\"},\"text\":{\"field\":\"vals\"},\"text_font_size\":{\"value\":\"9pt\"},\"text_font_style\":\"bold\",\"x\":{\"field\":\"x\"},\"y\":{\"field\":\"y\"}},\"id\":\"32c6583f-34aa-4ff0-a6ea-3e47fd503bdd\",\"type\":\"LabelSet\"},{\"attributes\":{},\"id\":\"d93e594e-6dbb-44cd-9de4-a46208aa6aab\",\"type\":\"BasicTicker\"},{\"attributes\":{\"callback\":null,\"column_names\":[\"y\",\"x\",\"vals\"],\"data\":{\"vals\":[\"6_1503\",\"6_35\",\"4_1699\",\"32_1361\",\"13_1227\",\"4_1442\",\"7_1303\",\"7_1760\"],\"x\":[135771974,135859157,135915358,136393658,136500475,136506375,136535876,136588031],\"y\":[300.0,67.0,401.0,299.0,98.0,299.0,199.0,401.0]}},\"id\":\"a0980b80-70a2-4d59-b41e-83af3ff98f7e\",\"type\":\"ColumnDataSource\"},{\"attributes\":{\"formatter\":{\"id\":\"f81cb232-f3ea-4f21-ab5f-f34b23be0aa4\",\"type\":\"BasicTickFormatter\"},\"plot\":{\"id\":\"233d2d84-90d0-4de1-bebe-5cb610b286d1\",\"subtype\":\"Figure\",\"type\":\"Plot\"},\"ticker\":{\"id\":\"d93e594e-6dbb-44cd-9de4-a46208aa6aab\",\"type\":\"BasicTicker\"}},\"id\":\"2e7d5cf2-4561-41a5-be72-4419d483d5a2\",\"type\":\"LinearAxis\"},{\"attributes\":{\"callback\":null,\"end\":500},\"id\":\"835f4bf7-6fb1-4aec-9f53-bf97d77e9cce\",\"type\":\"Range1d\"},{\"attributes\":{\"callback\":null,\"column_names\":[\"right\",\"bottom\",\"top\",\"left\",\"fill_color\"],\"data\":{\"bottom\":[250,50,350,250,50,250,150,350],\"fill_color\":[\"#61c461\",\"#ff00ff\",\"#61c461\",\"#c4c461\",\"#808080\",\"#808080\",\"#808080\",\"#c46161\"],\"left\":[135771974,135859157,135915358,136393658,136500475,136506375,136535876,136588031],\"right\":[136140304,135980938,135995079,136486342,136542560,136538939,136554890,136593678],\"top\":[295,62,396,294,93,294,194,396]}},\"id\":\"c6f0acef-66ba-4286-87bf-6b73b1667ec4\",\"type\":\"ColumnDataSource\"},{\"attributes\":{\"plot\":{\"id\":\"233d2d84-90d0-4de1-bebe-5cb610b286d1\",\"subtype\":\"Figure\",\"type\":\"Plot\"}},\"id\":\"d476e6b6-b712-47ef-9cc0-c765aaf90170\",\"type\":\"WheelZoomTool\"},{\"attributes\":{\"data_source\":{\"id\":\"9b9e9a59-fdee-40f1-8b26-6f008e1398ab\",\"type\":\"ColumnDataSource\"},\"glyph\":{\"id\":\"312cb28a-9aa6-48f9-9b67-e6b1d6e11de7\",\"type\":\"Quad\"},\"hover_glyph\":null,\"nonselection_glyph\":{\"id\":\"9ceea138-0fea-4b2c-aecb-6b44ea882dde\",\"type\":\"Quad\"},\"selection_glyph\":null},\"id\":\"bfa9a37f-e4d8-43e6-83fc-ca4a5ae0096d\",\"type\":\"GlyphRenderer\"}],\"root_ids\":[\"233d2d84-90d0-4de1-bebe-5cb610b286d1\"]},\"title\":\"Bokeh Application\",\"version\":\"0.12.0\"}};\n",
       "            var render_items = [{\"docid\":\"0e64c30a-5d7f-4bbe-bb6e-4de5e2cc6961\",\"elementid\":\"ecf52f7d-4820-4ecd-878e-2d3d91f5c123\",\"modelid\":\"233d2d84-90d0-4de1-bebe-5cb610b286d1\",\"notebook_comms_target\":\"cc9aa057-d171-4359-aca5-402fc90f2180\"}];\n",
       "            \n",
       "            Bokeh.embed.embed_items(docs_json, render_items);\n",
       "        });\n",
       "      },\n",
       "      function(Bokeh) {\n",
       "      }\n",
       "    ];\n",
       "  \n",
       "    function run_inline_js() {\n",
       "      for (var i = 0; i < inline_js.length; i++) {\n",
       "        inline_js[i](window.Bokeh);\n",
       "      }\n",
       "    }\n",
       "  \n",
       "    if (window._bokeh_is_loading === 0) {\n",
       "      console.log(\"Bokeh: BokehJS loaded, going straight to plotting\");\n",
       "      run_inline_js();\n",
       "    } else {\n",
       "      load_libs(js_urls, function() {\n",
       "        console.log(\"Bokeh: BokehJS plotting callback run at\", now());\n",
       "        run_inline_js();\n",
       "      });\n",
       "    }\n",
       "  }(this));\n",
       "</script>"
      ]
     },
     "metadata": {},
     "output_type": "display_data"
    },
    {
     "data": {
      "text/html": [
       "<p><code>&lt;Bokeh Notebook handle for <strong>In[18]</strong>&gt;</code></p>"
      ],
      "text/plain": [
       "<bokeh.io._CommsHandle at 0x7f3560ed08d0>"
      ]
     },
     "execution_count": 18,
     "metadata": {},
     "output_type": "execute_result"
    }
   ],
   "source": [
    "plt_obj = dm.superset_yes_no([di_6_35], [dm.di_10_2206], min_match=0.001)\n",
    "plt = plt_obj.do_plot()\n",
    "am = plt_obj.plot_context.yes_allele_mask\n",
    "show(plt)"
   ]
  },
  {
   "cell_type": "code",
   "execution_count": 19,
   "metadata": {
    "collapsed": false
   },
   "outputs": [
    {
     "data": {
      "text/html": [
       "<table>\n",
       "<thead><tr><th style=\"text-align:center\">index</th><th style=\"text-align:center\">first</th><th style=\"text-align:center\">length</th><th style=\"text-align:center\">snps</th><th style=\"text-align:center\" colspan=2>alleles</th><th style=\"text-align:center\" colspan=2>matches</th><th style=\"text-align:center\" colspan=2>afr</th><th style=\"text-align:center\" colspan=2>afx</th><th style=\"text-align:center\" colspan=2>amr</th><th style=\"text-align:center\" colspan=2>eas</th><th style=\"text-align:center\" colspan=2>eur</th><th style=\"text-align:center\" colspan=2>sas</th><th style=\"text-align:center\" colspan=2>sax</th></tr></thead>\n",
       "<tr class=\"even\"><td style=\"text-align: right;\">354033</td><td style=\"text-align: right;\">136,588,031</td><td style=\"text-align: right;\">5,647</td><td style=\"text-align: right;\">7</td><td style=\"text-align: right;\">1760</td><td style=\"text-align: right;\">0.00</td><td style=\"text-align: right;\">1</td><td style=\"text-align: right;\">1.00</td><td style=\"text-align: right;\">0</td><td style=\"text-align: right;\">0.00</td><td style=\"text-align: right;\">0</td><td style=\"text-align: right;\">0.00</td><td style=\"text-align: right;\">1</td><td style=\"text-align: right;\">7.74</td><td style=\"text-align: right;\">0</td><td style=\"text-align: right;\">0.00</td><td style=\"text-align: right;\">0</td><td style=\"text-align: right;\">0.00</td><td style=\"text-align: right;\">0</td><td style=\"text-align: right;\">0.00</td><td style=\"text-align: right;\">0</td><td style=\"text-align: right;\">0.00</td></tr>\n",
       "<tr><td style=\"text-align: right;\">353462</td><td style=\"text-align: right;\">135,915,358</td><td style=\"text-align: right;\">79,721</td><td style=\"text-align: right;\">4</td><td style=\"text-align: right;\">1699</td><td style=\"text-align: right;\">0.00</td><td style=\"text-align: right;\">1</td><td style=\"text-align: right;\">1.00</td><td style=\"text-align: right;\">0</td><td style=\"text-align: right;\">0.00</td><td style=\"text-align: right;\">0</td><td style=\"text-align: right;\">0.00</td><td style=\"text-align: right;\">1</td><td style=\"text-align: right;\">7.74</td><td style=\"text-align: right;\">0</td><td style=\"text-align: right;\">0.00</td><td style=\"text-align: right;\">0</td><td style=\"text-align: right;\">0.00</td><td style=\"text-align: right;\">0</td><td style=\"text-align: right;\">0.00</td><td style=\"text-align: right;\">0</td><td style=\"text-align: right;\">0.00</td></tr>\n",
       "<tr class=\"even\"><td style=\"text-align: right;\">353283</td><td style=\"text-align: right;\">135,771,974</td><td style=\"text-align: right;\">368,330</td><td style=\"text-align: right;\">6</td><td style=\"text-align: right;\">1503</td><td style=\"text-align: right;\">0.00</td><td style=\"text-align: right;\">1</td><td style=\"text-align: right;\">1.00</td><td style=\"text-align: right;\">0</td><td style=\"text-align: right;\">0.00</td><td style=\"text-align: right;\">0</td><td style=\"text-align: right;\">0.00</td><td style=\"text-align: right;\">1</td><td style=\"text-align: right;\">7.74</td><td style=\"text-align: right;\">0</td><td style=\"text-align: right;\">0.00</td><td style=\"text-align: right;\">0</td><td style=\"text-align: right;\">0.00</td><td style=\"text-align: right;\">0</td><td style=\"text-align: right;\">0.00</td><td style=\"text-align: right;\">0</td><td style=\"text-align: right;\">0.00</td></tr>\n",
       "<tr><td style=\"text-align: right;\">353925</td><td style=\"text-align: right;\">136,506,375</td><td style=\"text-align: right;\">32,564</td><td style=\"text-align: right;\">4</td><td style=\"text-align: right;\">1442</td><td style=\"text-align: right;\">0.00</td><td style=\"text-align: right;\">1</td><td style=\"text-align: right;\">1.00</td><td style=\"text-align: right;\">0</td><td style=\"text-align: right;\">0.00</td><td style=\"text-align: right;\">0</td><td style=\"text-align: right;\">0.00</td><td style=\"text-align: right;\">1</td><td style=\"text-align: right;\">7.74</td><td style=\"text-align: right;\">0</td><td style=\"text-align: right;\">0.00</td><td style=\"text-align: right;\">0</td><td style=\"text-align: right;\">0.00</td><td style=\"text-align: right;\">0</td><td style=\"text-align: right;\">0.00</td><td style=\"text-align: right;\">0</td><td style=\"text-align: right;\">0.00</td></tr>\n",
       "<tr class=\"even\"><td style=\"text-align: right;\">353791</td><td style=\"text-align: right;\">136,393,658</td><td style=\"text-align: right;\">92,684</td><td style=\"text-align: right;\">32</td><td style=\"text-align: right;\">1361</td><td style=\"text-align: right;\">0.00</td><td style=\"text-align: right;\">1</td><td style=\"text-align: right;\">1.00</td><td style=\"text-align: right;\">0</td><td style=\"text-align: right;\">0.00</td><td style=\"text-align: right;\">0</td><td style=\"text-align: right;\">0.00</td><td style=\"text-align: right;\">1</td><td style=\"text-align: right;\">7.74</td><td style=\"text-align: right;\">0</td><td style=\"text-align: right;\">0.00</td><td style=\"text-align: right;\">0</td><td style=\"text-align: right;\">0.00</td><td style=\"text-align: right;\">0</td><td style=\"text-align: right;\">0.00</td><td style=\"text-align: right;\">0</td><td style=\"text-align: right;\">0.00</td></tr>\n",
       "<tr><td style=\"text-align: right;\">353958</td><td style=\"text-align: right;\">136,535,876</td><td style=\"text-align: right;\">19,014</td><td style=\"text-align: right;\">7</td><td style=\"text-align: right;\">1303</td><td style=\"text-align: right;\">0.00</td><td style=\"text-align: right;\">1</td><td style=\"text-align: right;\">1.00</td><td style=\"text-align: right;\">0</td><td style=\"text-align: right;\">0.00</td><td style=\"text-align: right;\">0</td><td style=\"text-align: right;\">0.00</td><td style=\"text-align: right;\">1</td><td style=\"text-align: right;\">7.74</td><td style=\"text-align: right;\">0</td><td style=\"text-align: right;\">0.00</td><td style=\"text-align: right;\">0</td><td style=\"text-align: right;\">0.00</td><td style=\"text-align: right;\">0</td><td style=\"text-align: right;\">0.00</td><td style=\"text-align: right;\">0</td><td style=\"text-align: right;\">0.00</td></tr>\n",
       "<tr class=\"even\"><td style=\"text-align: right;\">353919</td><td style=\"text-align: right;\">136,500,475</td><td style=\"text-align: right;\">42,085</td><td style=\"text-align: right;\">13</td><td style=\"text-align: right;\">1227</td><td style=\"text-align: right;\">0.00</td><td style=\"text-align: right;\">1</td><td style=\"text-align: right;\">1.00</td><td style=\"text-align: right;\">0</td><td style=\"text-align: right;\">0.00</td><td style=\"text-align: right;\">0</td><td style=\"text-align: right;\">0.00</td><td style=\"text-align: right;\">1</td><td style=\"text-align: right;\">7.74</td><td style=\"text-align: right;\">0</td><td style=\"text-align: right;\">0.00</td><td style=\"text-align: right;\">0</td><td style=\"text-align: right;\">0.00</td><td style=\"text-align: right;\">0</td><td style=\"text-align: right;\">0.00</td><td style=\"text-align: right;\">0</td><td style=\"text-align: right;\">0.00</td></tr>\n",
       "<tr><td style=\"text-align: right;\">353407</td><td style=\"text-align: right;\">135,859,157</td><td style=\"text-align: right;\">121,781</td><td style=\"text-align: right;\">6</td><td style=\"text-align: right;\">35</td><td style=\"text-align: right;\">0.03</td><td style=\"text-align: right;\">1</td><td style=\"text-align: right;\">1.00</td><td style=\"text-align: right;\">0</td><td style=\"text-align: right;\">0.00</td><td style=\"text-align: right;\">0</td><td style=\"text-align: right;\">0.00</td><td style=\"text-align: right;\">1</td><td style=\"text-align: right;\">7.74</td><td style=\"text-align: right;\">0</td><td style=\"text-align: right;\">0.00</td><td style=\"text-align: right;\">0</td><td style=\"text-align: right;\">0.00</td><td style=\"text-align: right;\">0</td><td style=\"text-align: right;\">0.00</td><td style=\"text-align: right;\">0</td><td style=\"text-align: right;\">0.00</td></tr>\n",
       "</table>"
      ],
      "text/plain": [
       "<IPython.core.display.HTML object>"
      ]
     },
     "execution_count": 19,
     "metadata": {},
     "output_type": "execute_result"
    }
   ],
   "source": [
    "HTML(plt_obj.get_html())"
   ]
  },
  {
   "cell_type": "code",
   "execution_count": 20,
   "metadata": {
    "collapsed": false
   },
   "outputs": [
    {
     "data": {
      "text/plain": [
       "array([0, 0, 0, 0, 0, 0, 0, 0, 0, 0, 0, 0, 0, 0, 0, 0, 0, 0, 0, 0, 0, 0, 0,\n",
       "       0, 0, 0, 0, 0, 0, 0, 0, 0, 0, 0, 0, 0, 0, 0, 0, 0, 0, 0, 0, 0, 0, 0,\n",
       "       0, 0, 0, 0, 0, 0, 0, 0, 0, 0, 0, 0, 0, 0, 0, 0, 0, 0])"
      ]
     },
     "execution_count": 20,
     "metadata": {},
     "output_type": "execute_result"
    }
   ],
   "source": [
    "sa_64_1575.alleles_per_snp(am)"
   ]
  }
 ],
 "metadata": {
  "kernelspec": {
   "display_name": "Python [Root]",
   "language": "python",
   "name": "Python [Root]"
  },
  "language_info": {
   "codemirror_mode": {
    "name": "ipython",
    "version": 2
   },
   "file_extension": ".py",
   "mimetype": "text/x-python",
   "name": "python",
   "nbconvert_exporter": "python",
   "pygments_lexer": "ipython2",
   "version": "2.7.12"
  }
 },
 "nbformat": 4,
 "nbformat_minor": 0
}
