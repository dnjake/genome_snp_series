{
 "cells": [
  {
   "cell_type": "code",
   "execution_count": 1,
   "metadata": {
    "collapsed": false
   },
   "outputs": [
    {
     "data": {
      "text/html": []
     },
     "metadata": {},
     "output_type": "display_data"
    },
    {
     "data": {
      "application/javascript": [
       "\n",
       "(function(global) {\n",
       "  function now() {\n",
       "    return new Date();\n",
       "  }\n",
       "\n",
       "  if (typeof (window._bokeh_onload_callbacks) === \"undefined\") {\n",
       "    window._bokeh_onload_callbacks = [];\n",
       "  }\n",
       "\n",
       "  function run_callbacks() {\n",
       "    window._bokeh_onload_callbacks.forEach(function(callback) { callback() });\n",
       "    delete window._bokeh_onload_callbacks\n",
       "    console.info(\"Bokeh: all callbacks have finished\");\n",
       "  }\n",
       "\n",
       "  function load_libs(js_urls, callback) {\n",
       "    window._bokeh_onload_callbacks.push(callback);\n",
       "    if (window._bokeh_is_loading > 0) {\n",
       "      console.log(\"Bokeh: BokehJS is being loaded, scheduling callback at\", now());\n",
       "      return null;\n",
       "    }\n",
       "    if (js_urls == null || js_urls.length === 0) {\n",
       "      run_callbacks();\n",
       "      return null;\n",
       "    }\n",
       "    console.log(\"Bokeh: BokehJS not loaded, scheduling load and callback at\", now());\n",
       "    window._bokeh_is_loading = js_urls.length;\n",
       "    for (var i = 0; i < js_urls.length; i++) {\n",
       "      var url = js_urls[i];\n",
       "      var s = document.createElement('script');\n",
       "      s.src = url;\n",
       "      s.async = false;\n",
       "      s.onreadystatechange = s.onload = function() {\n",
       "        window._bokeh_is_loading--;\n",
       "        if (window._bokeh_is_loading === 0) {\n",
       "          console.log(\"Bokeh: all BokehJS libraries loaded\");\n",
       "          run_callbacks()\n",
       "        }\n",
       "      };\n",
       "      s.onerror = function() {\n",
       "        console.warn(\"failed to load library \" + url);\n",
       "      };\n",
       "      console.log(\"Bokeh: injecting script tag for BokehJS library: \", url);\n",
       "      document.getElementsByTagName(\"head\")[0].appendChild(s);\n",
       "    }\n",
       "  };\n",
       "\n",
       "  var js_urls = ['https://cdn.pydata.org/bokeh/release/bokeh-0.12.0.min.js', 'https://cdn.pydata.org/bokeh/release/bokeh-widgets-0.12.0.min.js', 'https://cdn.pydata.org/bokeh/release/bokeh-compiler-0.12.0.min.js'];\n",
       "\n",
       "  var inline_js = [\n",
       "    function(Bokeh) {\n",
       "      Bokeh.set_log_level(\"info\");\n",
       "    },\n",
       "    \n",
       "    function(Bokeh) {\n",
       "      Bokeh.$(\"#43cff246-c663-40b4-90fe-a8078b1953dd\").text(\"BokehJS successfully loaded\");\n",
       "    },\n",
       "    function(Bokeh) {\n",
       "      console.log(\"Bokeh: injecting CSS: https://cdn.pydata.org/bokeh/release/bokeh-0.12.0.min.css\");\n",
       "      Bokeh.embed.inject_css(\"https://cdn.pydata.org/bokeh/release/bokeh-0.12.0.min.css\");\n",
       "      console.log(\"Bokeh: injecting CSS: https://cdn.pydata.org/bokeh/release/bokeh-widgets-0.12.0.min.css\");\n",
       "      Bokeh.embed.inject_css(\"https://cdn.pydata.org/bokeh/release/bokeh-widgets-0.12.0.min.css\");\n",
       "    }\n",
       "  ];\n",
       "\n",
       "  function run_inline_js() {\n",
       "    for (var i = 0; i < inline_js.length; i++) {\n",
       "      inline_js[i](window.Bokeh);\n",
       "    }\n",
       "  }\n",
       "\n",
       "  if (window._bokeh_is_loading === 0) {\n",
       "    console.log(\"Bokeh: BokehJS loaded, going straight to plotting\");\n",
       "    run_inline_js();\n",
       "  } else {\n",
       "    load_libs(js_urls, function() {\n",
       "      console.log(\"Bokeh: BokehJS plotting callback run at\", now());\n",
       "      run_inline_js();\n",
       "    });\n",
       "  }\n",
       "}(this));"
      ]
     },
     "metadata": {},
     "output_type": "display_data"
    }
   ],
   "source": [
    "import numpy as np\n",
    "from IPython.display import HTML\n",
    "from bokeh.plotting import output_notebook, show\n",
    "import genomes_dnj.lct_interval.series_plots as dm\n",
    "import genomes_dnj.lct_interval.anal_series as an\n",
    "import genomes_dnj.lct_interval_snp_anal.lct_interval_snp_anal as snp_anal\n",
    "import genomes_dnj.lct_interval.series_masks as sm\n",
    "output_notebook(hide_banner=True)\n",
    "di_7_22 = 353315\n",
    "sa_7_22 = snp_anal.series_anal_cls(di_7_22, sm.series_data)\n",
    "sa_64_1575 = snp_anal.series_anal_cls(dm.di_64_1575, sm.series_data)"
   ]
  },
  {
   "cell_type": "markdown",
   "metadata": {},
   "source": [
    "<h3>Series 7_22</h3>\n",
    "<div style=\"width:700px\">\n",
    "<p>\n",
    "This notebook documents the series 7_22 and its 7 SNPs.  The 1000 genomes data includes\n",
    "4981 samples that express none of its 7 SNPs and 20 samples that express all 7 of them.\n",
    "The 7 SNP series covers more than  800,000 DNA bases.  The series 7_22 is expressed\n",
    "by 19 East Asian and 3 South Asian samples.\n",
    "<p>\n",
    "The SNPs that are part of the very long 7_22 series are divided into 3 that are located\n",
    "in the lower part of the series and 4 that are included in its higher part.  21 of the\n",
    "22 samples express 7_22 with all 6 of the EUR tree root series and no others.  The other\n",
    "samples has lost 7_1868 and part of 64_1575.\n",
    "</div>"
   ]
  },
  {
   "cell_type": "code",
   "execution_count": 2,
   "metadata": {
    "collapsed": false
   },
   "outputs": [
    {
     "data": {
      "text/html": [
       "<p>\n",
       "<b>7_22 series</b>\n",
       "</p><p>\n",
       "<table>\n",
       "<thead><tr><th style=\"text-align:center\">index</th><th style=\"text-align:center\">first</th><th style=\"text-align:center\">length</th><th style=\"text-align:center\">snps</th><th style=\"text-align:center\">alleles</th><th style=\"text-align:center\" colspan=2>afr</th><th style=\"text-align:center\" colspan=2>afx</th><th style=\"text-align:center\" colspan=2>amr</th><th style=\"text-align:center\" colspan=2>eas</th><th style=\"text-align:center\" colspan=2>eur</th><th style=\"text-align:center\" colspan=2>sas</th><th style=\"text-align:center\" colspan=2>sax</th></tr></thead>\n",
       "<tr class=\"even\"><td style=\"text-align: right;\">353315</td><td style=\"text-align: right;\">135,786,061</td><td style=\"text-align: right;\">800,623</td><td style=\"text-align: right;\">7</td><td style=\"text-align: right;\">22</td><td style=\"text-align: right;\">0</td><td style=\"text-align: right;\">0.00</td><td style=\"text-align: right;\">0</td><td style=\"text-align: right;\">0.00</td><td style=\"text-align: right;\">0</td><td style=\"text-align: right;\">0.00</td><td style=\"text-align: right;\">19</td><td style=\"text-align: right;\">4.29</td><td style=\"text-align: right;\">0</td><td style=\"text-align: right;\">0.00</td><td style=\"text-align: right;\">3</td><td style=\"text-align: right;\">1.88</td><td style=\"text-align: right;\">0</td><td style=\"text-align: right;\">0.00</td></tr>\n",
       "</table>\n",
       "</p>\n",
       "<p>\n",
       "<b>7_22 series snps</b>\n",
       "</p><p>\n",
       "<table>\n",
       "<thead><tr><th style=\"text-align:center\">index</th><th style=\"text-align:center\">pos</th><th style=\"text-align:center\">id</th><th style=\"text-align:center\">niv</th><th style=\"text-align:center\">alleles</th><th style=\"text-align:center\" colspan=2>afr</th><th style=\"text-align:center\" colspan=2>afx</th><th style=\"text-align:center\" colspan=2>amr</th><th style=\"text-align:center\" colspan=2>eas</th><th style=\"text-align:center\" colspan=2>eur</th><th style=\"text-align:center\" colspan=2>sas</th><th style=\"text-align:center\" colspan=2>sax</th></tr></thead>\n",
       "<tr class=\"even\"><td style=\"text-align: right;\">875176</td><td style=\"text-align: right;\">135,786,061</td><td>rs139436901</td><td>0</td><td style=\"text-align: right;\">27</td><td style=\"text-align: right;\">0</td><td style=\"text-align: right;\">0.00</td><td style=\"text-align: right;\">0</td><td style=\"text-align: right;\">0.00</td><td style=\"text-align: right;\">0</td><td style=\"text-align: right;\">0.00</td><td style=\"text-align: right;\">24</td><td style=\"text-align: right;\">4.42</td><td style=\"text-align: right;\">0</td><td style=\"text-align: right;\">0.00</td><td style=\"text-align: right;\">3</td><td style=\"text-align: right;\">1.53</td><td style=\"text-align: right;\">0</td><td style=\"text-align: right;\">0.00</td></tr>\n",
       "<tr><td style=\"text-align: right;\">875335</td><td style=\"text-align: right;\">135,815,142</td><td>rs184338334</td><td>0</td><td style=\"text-align: right;\">24</td><td style=\"text-align: right;\">0</td><td style=\"text-align: right;\">0.00</td><td style=\"text-align: right;\">0</td><td style=\"text-align: right;\">0.00</td><td style=\"text-align: right;\">0</td><td style=\"text-align: right;\">0.00</td><td style=\"text-align: right;\">21</td><td style=\"text-align: right;\">4.35</td><td style=\"text-align: right;\">0</td><td style=\"text-align: right;\">0.00</td><td style=\"text-align: right;\">3</td><td style=\"text-align: right;\">1.72</td><td style=\"text-align: right;\">0</td><td style=\"text-align: right;\">0.00</td></tr>\n",
       "<tr class=\"even\"><td style=\"text-align: right;\">875550</td><td style=\"text-align: right;\">135,860,442</td><td>rs200982489</td><td>0</td><td style=\"text-align: right;\">25</td><td style=\"text-align: right;\">0</td><td style=\"text-align: right;\">0.00</td><td style=\"text-align: right;\">0</td><td style=\"text-align: right;\">0.00</td><td style=\"text-align: right;\">0</td><td style=\"text-align: right;\">0.00</td><td style=\"text-align: right;\">22</td><td style=\"text-align: right;\">4.37</td><td style=\"text-align: right;\">0</td><td style=\"text-align: right;\">0.00</td><td style=\"text-align: right;\">3</td><td style=\"text-align: right;\">1.65</td><td style=\"text-align: right;\">0</td><td style=\"text-align: right;\">0.00</td></tr>\n",
       "<tr><td style=\"text-align: right;\">878633</td><td style=\"text-align: right;\">136,488,551</td><td>rs193084433</td><td>0</td><td style=\"text-align: right;\">26</td><td style=\"text-align: right;\">0</td><td style=\"text-align: right;\">0.00</td><td style=\"text-align: right;\">0</td><td style=\"text-align: right;\">0.00</td><td style=\"text-align: right;\">0</td><td style=\"text-align: right;\">0.00</td><td style=\"text-align: right;\">23</td><td style=\"text-align: right;\">4.39</td><td style=\"text-align: right;\">0</td><td style=\"text-align: right;\">0.00</td><td style=\"text-align: right;\">3</td><td style=\"text-align: right;\">1.59</td><td style=\"text-align: right;\">0</td><td style=\"text-align: right;\">0.00</td></tr>\n",
       "<tr class=\"even\"><td style=\"text-align: right;\">878787</td><td style=\"text-align: right;\">136,516,760</td><td>rs144790497</td><td>0</td><td style=\"text-align: right;\">23</td><td style=\"text-align: right;\">0</td><td style=\"text-align: right;\">0.00</td><td style=\"text-align: right;\">0</td><td style=\"text-align: right;\">0.00</td><td style=\"text-align: right;\">0</td><td style=\"text-align: right;\">0.00</td><td style=\"text-align: right;\">20</td><td style=\"text-align: right;\">4.32</td><td style=\"text-align: right;\">0</td><td style=\"text-align: right;\">0.00</td><td style=\"text-align: right;\">3</td><td style=\"text-align: right;\">1.79</td><td style=\"text-align: right;\">0</td><td style=\"text-align: right;\">0.00</td></tr>\n",
       "<tr><td style=\"text-align: right;\">879025</td><td style=\"text-align: right;\">136,562,320</td><td>rs117835477</td><td>0</td><td style=\"text-align: right;\">23</td><td style=\"text-align: right;\">0</td><td style=\"text-align: right;\">0.00</td><td style=\"text-align: right;\">0</td><td style=\"text-align: right;\">0.00</td><td style=\"text-align: right;\">0</td><td style=\"text-align: right;\">0.00</td><td style=\"text-align: right;\">20</td><td style=\"text-align: right;\">4.32</td><td style=\"text-align: right;\">0</td><td style=\"text-align: right;\">0.00</td><td style=\"text-align: right;\">3</td><td style=\"text-align: right;\">1.79</td><td style=\"text-align: right;\">0</td><td style=\"text-align: right;\">0.00</td></tr>\n",
       "<tr class=\"even\"><td style=\"text-align: right;\">879152</td><td style=\"text-align: right;\">136,586,684</td><td>rs147193061</td><td>0</td><td style=\"text-align: right;\">23</td><td style=\"text-align: right;\">0</td><td style=\"text-align: right;\">0.00</td><td style=\"text-align: right;\">0</td><td style=\"text-align: right;\">0.00</td><td style=\"text-align: right;\">0</td><td style=\"text-align: right;\">0.00</td><td style=\"text-align: right;\">20</td><td style=\"text-align: right;\">4.32</td><td style=\"text-align: right;\">0</td><td style=\"text-align: right;\">0.00</td><td style=\"text-align: right;\">3</td><td style=\"text-align: right;\">1.79</td><td style=\"text-align: right;\">0</td><td style=\"text-align: right;\">0.00</td></tr>\n",
       "</table>"
      ],
      "text/plain": [
       "<IPython.core.display.HTML object>"
      ]
     },
     "execution_count": 2,
     "metadata": {},
     "output_type": "execute_result"
    }
   ],
   "source": [
    "HTML(dm.series_html(di_7_22))"
   ]
  },
  {
   "cell_type": "code",
   "execution_count": 3,
   "metadata": {
    "collapsed": false
   },
   "outputs": [
    {
     "data": {
      "text/html": [
       "<table>\n",
       "<thead><tr><th style=\"text-align:center\">index</th><th style=\"text-align:center\">first</th><th style=\"text-align:center\">length</th><th style=\"text-align:center\">snps</th><th style=\"text-align:center\" colspan=2>alleles</th><th style=\"text-align:center\" colspan=2>matches</th><th style=\"text-align:center\" colspan=2>afr</th><th style=\"text-align:center\" colspan=2>afx</th><th style=\"text-align:center\" colspan=2>amr</th><th style=\"text-align:center\" colspan=2>eas</th><th style=\"text-align:center\" colspan=2>eur</th><th style=\"text-align:center\" colspan=2>sas</th><th style=\"text-align:center\" colspan=2>sax</th></tr></thead>\n",
       "<tr class=\"even\"><td style=\"text-align: right;\">353921</td><td style=\"text-align: right;\">136,501,840</td><td style=\"text-align: right;\">53,819</td><td style=\"text-align: right;\">10</td><td style=\"text-align: right;\">2206</td><td style=\"text-align: right;\">0.01</td><td style=\"text-align: right;\">22</td><td style=\"text-align: right;\">1.00</td><td style=\"text-align: right;\">0</td><td style=\"text-align: right;\">0.00</td><td style=\"text-align: right;\">0</td><td style=\"text-align: right;\">0.00</td><td style=\"text-align: right;\">0</td><td style=\"text-align: right;\">0.00</td><td style=\"text-align: right;\">19</td><td style=\"text-align: right;\">4.29</td><td style=\"text-align: right;\">0</td><td style=\"text-align: right;\">0.00</td><td style=\"text-align: right;\">3</td><td style=\"text-align: right;\">1.88</td><td style=\"text-align: right;\">0</td><td style=\"text-align: right;\">0.00</td></tr>\n",
       "<tr><td style=\"text-align: right;\">354170</td><td style=\"text-align: right;\">136,682,274</td><td style=\"text-align: right;\">93,624</td><td style=\"text-align: right;\">7</td><td style=\"text-align: right;\">1868</td><td style=\"text-align: right;\">0.01</td><td style=\"text-align: right;\">21</td><td style=\"text-align: right;\">0.95</td><td style=\"text-align: right;\">0</td><td style=\"text-align: right;\">0.00</td><td style=\"text-align: right;\">0</td><td style=\"text-align: right;\">0.00</td><td style=\"text-align: right;\">0</td><td style=\"text-align: right;\">0.00</td><td style=\"text-align: right;\">18</td><td style=\"text-align: right;\">4.26</td><td style=\"text-align: right;\">0</td><td style=\"text-align: right;\">0.00</td><td style=\"text-align: right;\">3</td><td style=\"text-align: right;\">1.97</td><td style=\"text-align: right;\">0</td><td style=\"text-align: right;\">0.00</td></tr>\n",
       "<tr class=\"even\"><td style=\"text-align: right;\">353462</td><td style=\"text-align: right;\">135,915,358</td><td style=\"text-align: right;\">79,721</td><td style=\"text-align: right;\">4</td><td style=\"text-align: right;\">1699</td><td style=\"text-align: right;\">0.01</td><td style=\"text-align: right;\">22</td><td style=\"text-align: right;\">1.00</td><td style=\"text-align: right;\">0</td><td style=\"text-align: right;\">0.00</td><td style=\"text-align: right;\">0</td><td style=\"text-align: right;\">0.00</td><td style=\"text-align: right;\">0</td><td style=\"text-align: right;\">0.00</td><td style=\"text-align: right;\">19</td><td style=\"text-align: right;\">4.29</td><td style=\"text-align: right;\">0</td><td style=\"text-align: right;\">0.00</td><td style=\"text-align: right;\">3</td><td style=\"text-align: right;\">1.88</td><td style=\"text-align: right;\">0</td><td style=\"text-align: right;\">0.00</td></tr>\n",
       "<tr><td style=\"text-align: right;\">353901</td><td style=\"text-align: right;\">136,494,186</td><td style=\"text-align: right;\">271,765</td><td style=\"text-align: right;\">64</td><td style=\"text-align: right;\">1575</td><td style=\"text-align: right;\">0.01</td><td style=\"text-align: right;\">21</td><td style=\"text-align: right;\">0.95</td><td style=\"text-align: right;\">0</td><td style=\"text-align: right;\">0.00</td><td style=\"text-align: right;\">0</td><td style=\"text-align: right;\">0.00</td><td style=\"text-align: right;\">0</td><td style=\"text-align: right;\">0.00</td><td style=\"text-align: right;\">18</td><td style=\"text-align: right;\">4.26</td><td style=\"text-align: right;\">0</td><td style=\"text-align: right;\">0.00</td><td style=\"text-align: right;\">3</td><td style=\"text-align: right;\">1.97</td><td style=\"text-align: right;\">0</td><td style=\"text-align: right;\">0.00</td></tr>\n",
       "<tr class=\"even\"><td style=\"text-align: right;\">353283</td><td style=\"text-align: right;\">135,771,974</td><td style=\"text-align: right;\">368,330</td><td style=\"text-align: right;\">6</td><td style=\"text-align: right;\">1503</td><td style=\"text-align: right;\">0.01</td><td style=\"text-align: right;\">22</td><td style=\"text-align: right;\">1.00</td><td style=\"text-align: right;\">0</td><td style=\"text-align: right;\">0.00</td><td style=\"text-align: right;\">0</td><td style=\"text-align: right;\">0.00</td><td style=\"text-align: right;\">0</td><td style=\"text-align: right;\">0.00</td><td style=\"text-align: right;\">19</td><td style=\"text-align: right;\">4.29</td><td style=\"text-align: right;\">0</td><td style=\"text-align: right;\">0.00</td><td style=\"text-align: right;\">3</td><td style=\"text-align: right;\">1.88</td><td style=\"text-align: right;\">0</td><td style=\"text-align: right;\">0.00</td></tr>\n",
       "<tr><td style=\"text-align: right;\">353797</td><td style=\"text-align: right;\">136,398,174</td><td style=\"text-align: right;\">75,924</td><td style=\"text-align: right;\">26</td><td style=\"text-align: right;\">1414</td><td style=\"text-align: right;\">0.02</td><td style=\"text-align: right;\">22</td><td style=\"text-align: right;\">1.00</td><td style=\"text-align: right;\">0</td><td style=\"text-align: right;\">0.00</td><td style=\"text-align: right;\">0</td><td style=\"text-align: right;\">0.00</td><td style=\"text-align: right;\">0</td><td style=\"text-align: right;\">0.00</td><td style=\"text-align: right;\">19</td><td style=\"text-align: right;\">4.29</td><td style=\"text-align: right;\">0</td><td style=\"text-align: right;\">0.00</td><td style=\"text-align: right;\">3</td><td style=\"text-align: right;\">1.88</td><td style=\"text-align: right;\">0</td><td style=\"text-align: right;\">0.00</td></tr>\n",
       "<tr class=\"even\"><td style=\"text-align: right;\">353315</td><td style=\"text-align: right;\">135,786,061</td><td style=\"text-align: right;\">800,623</td><td style=\"text-align: right;\">7</td><td style=\"text-align: right;\">22</td><td style=\"text-align: right;\">1.00</td><td style=\"text-align: right;\">22</td><td style=\"text-align: right;\">1.00</td><td style=\"text-align: right;\">0</td><td style=\"text-align: right;\">0.00</td><td style=\"text-align: right;\">0</td><td style=\"text-align: right;\">0.00</td><td style=\"text-align: right;\">0</td><td style=\"text-align: right;\">0.00</td><td style=\"text-align: right;\">19</td><td style=\"text-align: right;\">4.29</td><td style=\"text-align: right;\">0</td><td style=\"text-align: right;\">0.00</td><td style=\"text-align: right;\">3</td><td style=\"text-align: right;\">1.88</td><td style=\"text-align: right;\">0</td><td style=\"text-align: right;\">0.00</td></tr>\n",
       "</table>"
      ],
      "text/plain": [
       "<IPython.core.display.HTML object>"
      ]
     },
     "execution_count": 3,
     "metadata": {},
     "output_type": "execute_result"
    }
   ],
   "source": [
    "plt_obj = dm.superset_yes_no([di_7_22], min_match=0.001)\n",
    "plt_obj.do_plot()\n",
    "HTML(plt_obj.get_html())"
   ]
  },
  {
   "cell_type": "code",
   "execution_count": 4,
   "metadata": {
    "collapsed": false
   },
   "outputs": [
    {
     "data": {
      "text/plain": [
       "array([(0, 4981), (2, 1), (4, 3), (5, 1), (6, 2), (7, 20)], \n",
       "      dtype=[('count', '<u2'), ('snps', '<u2')])"
      ]
     },
     "execution_count": 4,
     "metadata": {},
     "output_type": "execute_result"
    }
   ],
   "source": [
    "count_data = sa_7_22.unique_snps_per_allele()\n",
    "count_data"
   ]
  },
  {
   "cell_type": "code",
   "execution_count": 5,
   "metadata": {
    "collapsed": false
   },
   "outputs": [
    {
     "data": {
      "text/html": [
       "\n",
       "\n",
       "    <div class=\"bk-root\">\n",
       "        <div class=\"plotdiv\" id=\"8c993c01-7d43-4d81-9340-eeca3c18ed3e\"></div>\n",
       "    </div>\n",
       "<script type=\"text/javascript\">\n",
       "  \n",
       "  (function(global) {\n",
       "    function now() {\n",
       "      return new Date();\n",
       "    }\n",
       "  \n",
       "    if (typeof (window._bokeh_onload_callbacks) === \"undefined\") {\n",
       "      window._bokeh_onload_callbacks = [];\n",
       "    }\n",
       "  \n",
       "    function run_callbacks() {\n",
       "      window._bokeh_onload_callbacks.forEach(function(callback) { callback() });\n",
       "      delete window._bokeh_onload_callbacks\n",
       "      console.info(\"Bokeh: all callbacks have finished\");\n",
       "    }\n",
       "  \n",
       "    function load_libs(js_urls, callback) {\n",
       "      window._bokeh_onload_callbacks.push(callback);\n",
       "      if (window._bokeh_is_loading > 0) {\n",
       "        console.log(\"Bokeh: BokehJS is being loaded, scheduling callback at\", now());\n",
       "        return null;\n",
       "      }\n",
       "      if (js_urls == null || js_urls.length === 0) {\n",
       "        run_callbacks();\n",
       "        return null;\n",
       "      }\n",
       "      console.log(\"Bokeh: BokehJS not loaded, scheduling load and callback at\", now());\n",
       "      window._bokeh_is_loading = js_urls.length;\n",
       "      for (var i = 0; i < js_urls.length; i++) {\n",
       "        var url = js_urls[i];\n",
       "        var s = document.createElement('script');\n",
       "        s.src = url;\n",
       "        s.async = false;\n",
       "        s.onreadystatechange = s.onload = function() {\n",
       "          window._bokeh_is_loading--;\n",
       "          if (window._bokeh_is_loading === 0) {\n",
       "            console.log(\"Bokeh: all BokehJS libraries loaded\");\n",
       "            run_callbacks()\n",
       "          }\n",
       "        };\n",
       "        s.onerror = function() {\n",
       "          console.warn(\"failed to load library \" + url);\n",
       "        };\n",
       "        console.log(\"Bokeh: injecting script tag for BokehJS library: \", url);\n",
       "        document.getElementsByTagName(\"head\")[0].appendChild(s);\n",
       "      }\n",
       "    };var element = document.getElementById(\"8c993c01-7d43-4d81-9340-eeca3c18ed3e\");\n",
       "    if (element == null) {\n",
       "      console.log(\"Bokeh: ERROR: autoload.js configured with elementid '8c993c01-7d43-4d81-9340-eeca3c18ed3e' but no matching script tag was found. \")\n",
       "      return false;\n",
       "    }\n",
       "  \n",
       "    var js_urls = [];\n",
       "  \n",
       "    var inline_js = [\n",
       "      function(Bokeh) {\n",
       "        Bokeh.$(function() {\n",
       "            var docs_json = {\"a4afaff1-8349-42e7-b32c-01fd138fbe8e\":{\"roots\":{\"references\":[{\"attributes\":{\"bottom_units\":\"screen\",\"fill_alpha\":{\"value\":0.5},\"fill_color\":{\"value\":\"lightgrey\"},\"left_units\":\"screen\",\"level\":\"overlay\",\"line_alpha\":{\"value\":1.0},\"line_color\":{\"value\":\"black\"},\"line_dash\":[4,4],\"line_width\":{\"value\":2},\"plot\":null,\"render_mode\":\"css\",\"right_units\":\"screen\",\"top_units\":\"screen\"},\"id\":\"0260ce6c-18d3-401e-899d-8a2e768fa3fd\",\"type\":\"BoxAnnotation\"},{\"attributes\":{\"formatter\":{\"id\":\"1e11ff9e-4e5c-4f54-bd84-74ec0198c858\",\"type\":\"BasicTickFormatter\"},\"plot\":{\"id\":\"964f36f5-4047-4aac-bc0e-b2f2a2ab7e27\",\"subtype\":\"Figure\",\"type\":\"Plot\"},\"ticker\":{\"id\":\"dca8f6e0-d569-4d17-a3bd-12883b044331\",\"type\":\"BasicTicker\"},\"visible\":null},\"id\":\"d696bff7-4db4-4caf-ab9f-c16f3c08faaa\",\"type\":\"LinearAxis\"},{\"attributes\":{\"line_color\":{\"field\":\"line_color\"},\"xs\":{\"field\":\"xs\"},\"ys\":{\"field\":\"ys\"}},\"id\":\"898e1b71-033b-45a7-8536-c77c69132f4b\",\"type\":\"MultiLine\"},{\"attributes\":{\"data_source\":{\"id\":\"48f21765-e0d7-4573-88da-c3a53cef5e9b\",\"type\":\"ColumnDataSource\"},\"glyph\":{\"id\":\"898e1b71-033b-45a7-8536-c77c69132f4b\",\"type\":\"MultiLine\"},\"hover_glyph\":null,\"nonselection_glyph\":{\"id\":\"8f28dea2-624b-46de-b163-b38ea39e5ab0\",\"type\":\"MultiLine\"},\"selection_glyph\":null},\"id\":\"9c1f0abe-cbc0-4d2a-b162-0095ce1f7f68\",\"type\":\"GlyphRenderer\"},{\"attributes\":{\"plot\":{\"id\":\"964f36f5-4047-4aac-bc0e-b2f2a2ab7e27\",\"subtype\":\"Figure\",\"type\":\"Plot\"}},\"id\":\"0589f6d1-cdaa-40dc-88fc-3aeabadf5ac7\",\"type\":\"WheelZoomTool\"},{\"attributes\":{\"dimension\":1,\"plot\":{\"id\":\"964f36f5-4047-4aac-bc0e-b2f2a2ab7e27\",\"subtype\":\"Figure\",\"type\":\"Plot\"},\"ticker\":{\"id\":\"dca8f6e0-d569-4d17-a3bd-12883b044331\",\"type\":\"BasicTicker\"}},\"id\":\"77ab068a-1982-4f96-9e9e-1741637551b3\",\"type\":\"Grid\"},{\"attributes\":{},\"id\":\"dca8f6e0-d569-4d17-a3bd-12883b044331\",\"type\":\"BasicTicker\"},{\"attributes\":{\"plot\":{\"id\":\"964f36f5-4047-4aac-bc0e-b2f2a2ab7e27\",\"subtype\":\"Figure\",\"type\":\"Plot\"}},\"id\":\"c8f4a7de-88a7-4d91-848e-685471cbb5f6\",\"type\":\"SaveTool\"},{\"attributes\":{\"callback\":null,\"end\":500},\"id\":\"4c654a3e-bd4d-4f15-afda-aaba42ee7938\",\"type\":\"Range1d\"},{\"attributes\":{\"active_drag\":\"auto\",\"active_scroll\":\"auto\",\"active_tap\":\"auto\",\"tools\":[{\"id\":\"91d4eca7-1f0c-4323-873b-b957842f33bd\",\"type\":\"PanTool\"},{\"id\":\"0589f6d1-cdaa-40dc-88fc-3aeabadf5ac7\",\"type\":\"WheelZoomTool\"},{\"id\":\"3055d9bb-f42d-40fc-b640-62e82db61112\",\"type\":\"BoxZoomTool\"},{\"id\":\"c8f4a7de-88a7-4d91-848e-685471cbb5f6\",\"type\":\"SaveTool\"},{\"id\":\"4d025f79-f5d6-4f41-a928-027657ff2c31\",\"type\":\"ResetTool\"},{\"id\":\"83566582-f515-477f-a8c4-ae2d2e40ceaf\",\"type\":\"HelpTool\"}]},\"id\":\"88b7e60e-d0c4-4d79-9a63-e00c4fcda0a6\",\"type\":\"Toolbar\"},{\"attributes\":{\"callback\":null,\"column_names\":[\"y\",\"x\",\"vals\"],\"data\":{\"vals\":[\"RAB3GAP1\",\"ZRANB3\",\"R3HDM1\",\"UBXN4\",\"LCT\",\"MCM6\",\"DARS\"],\"x\":[135869057.0,136122878.0,136385961.0,136520911.0,136570082.5,136615621.5,136703738.0],\"y\":[460.0,460.0,460.0,460.0,460.0,460.0,460.0]}},\"id\":\"ec566168-73dd-4ccd-82e2-4230c67017ef\",\"type\":\"ColumnDataSource\"},{\"attributes\":{},\"id\":\"48c3b716-36e6-4144-abdc-d96b0c8adbdb\",\"type\":\"ToolEvents\"},{\"attributes\":{\"bottom\":{\"field\":\"bottom\"},\"fill_color\":{\"value\":\"white\"},\"left\":{\"field\":\"left\"},\"right\":{\"field\":\"right\"},\"top\":{\"field\":\"top\"}},\"id\":\"763f9c33-f9aa-45a6-b594-bd545ec0918f\",\"type\":\"Quad\"},{\"attributes\":{},\"id\":\"0c33177c-c194-4ef4-ae3d-5eb451ae8765\",\"type\":\"BasicTickFormatter\"},{\"attributes\":{\"level\":\"glyph\",\"plot\":{\"id\":\"964f36f5-4047-4aac-bc0e-b2f2a2ab7e27\",\"subtype\":\"Figure\",\"type\":\"Plot\"},\"source\":{\"id\":\"3880109b-bb51-415f-9aa5-5f38c95cd7a6\",\"type\":\"ColumnDataSource\"},\"text\":{\"field\":\"vals\"},\"text_font_size\":{\"value\":\"9pt\"},\"text_font_style\":\"bold\",\"x\":{\"field\":\"x\"},\"y\":{\"field\":\"y\"}},\"id\":\"add85a4e-e243-41cb-beef-cb51cc6ff244\",\"type\":\"LabelSet\"},{\"attributes\":{\"plot\":{\"id\":\"964f36f5-4047-4aac-bc0e-b2f2a2ab7e27\",\"subtype\":\"Figure\",\"type\":\"Plot\"}},\"id\":\"4d025f79-f5d6-4f41-a928-027657ff2c31\",\"type\":\"ResetTool\"},{\"attributes\":{\"overlay\":{\"id\":\"0260ce6c-18d3-401e-899d-8a2e768fa3fd\",\"type\":\"BoxAnnotation\"},\"plot\":{\"id\":\"964f36f5-4047-4aac-bc0e-b2f2a2ab7e27\",\"subtype\":\"Figure\",\"type\":\"Plot\"}},\"id\":\"3055d9bb-f42d-40fc-b640-62e82db61112\",\"type\":\"BoxZoomTool\"},{\"attributes\":{\"data_source\":{\"id\":\"b5964f17-09d1-42e7-9088-5c49fbe2775a\",\"type\":\"ColumnDataSource\"},\"glyph\":{\"id\":\"763f9c33-f9aa-45a6-b594-bd545ec0918f\",\"type\":\"Quad\"},\"hover_glyph\":null,\"nonselection_glyph\":{\"id\":\"dcefaecf-bb72-4815-9261-34ed5be131f5\",\"type\":\"Quad\"},\"selection_glyph\":null},\"id\":\"90760276-1c2b-4615-926b-4e70eea947f3\",\"type\":\"GlyphRenderer\"},{\"attributes\":{\"level\":\"glyph\",\"plot\":{\"id\":\"964f36f5-4047-4aac-bc0e-b2f2a2ab7e27\",\"subtype\":\"Figure\",\"type\":\"Plot\"},\"source\":{\"id\":\"ec566168-73dd-4ccd-82e2-4230c67017ef\",\"type\":\"ColumnDataSource\"},\"text\":{\"field\":\"vals\"},\"text_align\":\"center\",\"text_baseline\":\"middle\",\"text_font_size\":{\"value\":\"8pt\"},\"x\":{\"field\":\"x\"},\"y\":{\"field\":\"y\"}},\"id\":\"ebeb2355-688d-4ad4-9bdb-1b8984c8ac92\",\"type\":\"LabelSet\"},{\"attributes\":{\"bottom\":{\"field\":\"bottom\"},\"fill_alpha\":{\"value\":0.1},\"fill_color\":{\"value\":\"#1f77b4\"},\"left\":{\"field\":\"left\"},\"line_alpha\":{\"value\":0.1},\"line_color\":{\"value\":\"#1f77b4\"},\"right\":{\"field\":\"right\"},\"top\":{\"field\":\"top\"}},\"id\":\"bf9d5ae4-41de-4c09-a919-7e19ccb6d6e3\",\"type\":\"Quad\"},{\"attributes\":{\"plot\":{\"id\":\"964f36f5-4047-4aac-bc0e-b2f2a2ab7e27\",\"subtype\":\"Figure\",\"type\":\"Plot\"}},\"id\":\"83566582-f515-477f-a8c4-ae2d2e40ceaf\",\"type\":\"HelpTool\"},{\"attributes\":{\"callback\":null,\"column_names\":[\"right\",\"bottom\",\"top\",\"left\"],\"data\":{\"bottom\":[445,445,445,445,445,445,445],\"left\":[135809835,135957574,136289083,136499189,136545415,136597196,136664254],\"right\":[135928279,136288182,136482839,136542633,136594750,136634047,136743222],\"top\":[475,475,475,475,475,475,475]}},\"id\":\"b5964f17-09d1-42e7-9088-5c49fbe2775a\",\"type\":\"ColumnDataSource\"},{\"attributes\":{\"callback\":null,\"column_names\":[\"right\",\"bottom\",\"top\",\"left\",\"fill_color\"],\"data\":{\"bottom\":[150,50,250,150,250,350,350],\"fill_color\":[\"#61c461\",\"#ffff00\",\"#61c461\",\"#61c461\",\"#61c461\",\"#808080\",\"#61c461\"],\"left\":[135771974,135786061,135915358,136398174,136494186,136501840,136682274],\"right\":[136140304,136586684,135995079,136474098,136765951,136555659,136775898],\"top\":[195,58,296,194,295,398,397]}},\"id\":\"d1ba77b7-da63-4f56-a9f2-51f30c892f8a\",\"type\":\"ColumnDataSource\"},{\"attributes\":{\"below\":[{\"id\":\"a3cf5b7c-6a68-44a5-b0cf-ae509d660108\",\"type\":\"LinearAxis\"}],\"left\":[{\"id\":\"d696bff7-4db4-4caf-ab9f-c16f3c08faaa\",\"type\":\"LinearAxis\"}],\"plot_height\":500,\"plot_width\":900,\"renderers\":[{\"id\":\"a3cf5b7c-6a68-44a5-b0cf-ae509d660108\",\"type\":\"LinearAxis\"},{\"id\":\"969a8d3f-805f-4533-ad59-2e8ed972dcc3\",\"type\":\"Grid\"},{\"id\":\"d696bff7-4db4-4caf-ab9f-c16f3c08faaa\",\"type\":\"LinearAxis\"},{\"id\":\"77ab068a-1982-4f96-9e9e-1741637551b3\",\"type\":\"Grid\"},{\"id\":\"0260ce6c-18d3-401e-899d-8a2e768fa3fd\",\"type\":\"BoxAnnotation\"},{\"id\":\"dfd2cb65-5920-4fb0-a129-63726f4130cb\",\"type\":\"GlyphRenderer\"},{\"id\":\"9c1f0abe-cbc0-4d2a-b162-0095ce1f7f68\",\"type\":\"GlyphRenderer\"},{\"id\":\"add85a4e-e243-41cb-beef-cb51cc6ff244\",\"type\":\"LabelSet\"},{\"id\":\"90760276-1c2b-4615-926b-4e70eea947f3\",\"type\":\"GlyphRenderer\"},{\"id\":\"ebeb2355-688d-4ad4-9bdb-1b8984c8ac92\",\"type\":\"LabelSet\"}],\"title\":{\"id\":\"6e529342-413b-428b-a8c7-0fc8648ed17b\",\"type\":\"Title\"},\"tool_events\":{\"id\":\"48c3b716-36e6-4144-abdc-d96b0c8adbdb\",\"type\":\"ToolEvents\"},\"toolbar\":{\"id\":\"88b7e60e-d0c4-4d79-9a63-e00c4fcda0a6\",\"type\":\"Toolbar\"},\"toolbar_location\":null,\"x_range\":{\"id\":\"47cd8e4f-6cde-4d34-a0f8-d6b14f434053\",\"type\":\"Range1d\"},\"y_range\":{\"id\":\"4c654a3e-bd4d-4f15-afda-aaba42ee7938\",\"type\":\"Range1d\"}},\"id\":\"964f36f5-4047-4aac-bc0e-b2f2a2ab7e27\",\"subtype\":\"Figure\",\"type\":\"Plot\"},{\"attributes\":{\"callback\":null,\"column_names\":[\"xs\",\"ys\",\"line_color\"],\"data\":{\"line_color\":[\"black\",\"black\",\"black\",\"black\",\"black\",\"black\",\"black\",\"black\",\"black\",\"black\",\"black\",\"black\",\"black\",\"black\",\"black\",\"black\",\"black\",\"black\",\"black\",\"black\",\"black\",\"black\",\"black\",\"black\",\"black\",\"black\",\"black\",\"black\",\"black\",\"black\",\"black\",\"black\",\"black\",\"black\",\"black\",\"black\",\"black\",\"black\",\"black\",\"black\",\"black\",\"black\",\"black\",\"black\",\"black\",\"black\",\"black\",\"black\",\"black\",\"black\",\"black\",\"black\",\"black\",\"black\",\"black\",\"black\",\"black\",\"black\",\"black\",\"black\",\"black\",\"black\",\"black\",\"black\",\"black\",\"black\",\"black\",\"black\",\"black\",\"black\",\"black\",\"black\",\"black\",\"black\",\"black\",\"black\",\"black\",\"black\",\"black\",\"black\",\"black\",\"black\",\"black\",\"black\",\"black\",\"black\",\"black\",\"black\",\"black\",\"black\",\"black\",\"black\",\"black\",\"black\",\"black\",\"black\",\"black\",\"black\",\"black\",\"black\",\"black\",\"black\",\"black\",\"black\",\"black\",\"black\",\"black\",\"black\",\"black\",\"black\",\"black\",\"black\",\"black\",\"black\",\"black\",\"black\",\"black\",\"black\",\"black\",\"black\",\"black\",\"black\",\"black\",\"black\"],\"xs\":[[135771974,135771974],[135859371,135859371],[135877562,135877562],[136022798,136022798],[136058820,136058820],[136140304,136140304],[135786061,135786061],[135815142,135815142],[135860442,135860442],[136488551,136488551],[136516760,136516760],[136562320,136562320],[136586684,136586684],[135915358,135915358],[135954405,135954405],[135995073,135995073],[135995079,135995079],[136398174,136398174],[136402117,136402117],[136403749,136403749],[136409073,136409073],[136410299,136410299],[136413359,136413359],[136416855,136416855],[136416941,136416941],[136418348,136418348],[136419961,136419961],[136420690,136420690],[136422171,136422171],[136428460,136428460],[136430866,136430866],[136432103,136432103],[136437507,136437507],[136439090,136439090],[136439517,136439517],[136444123,136444123],[136445526,136445526],[136445869,136445869],[136455600,136455600],[136456642,136456642],[136462441,136462441],[136470714,136470714],[136474098,136474098],[136494186,136494186],[136495300,136495300],[136495619,136495619],[136499166,136499166],[136502792,136502792],[136503157,136503157],[136507039,136507039],[136511575,136511575],[136518103,136518103],[136521514,136521514],[136522675,136522675],[136522941,136522941],[136526981,136526981],[136535410,136535410],[136539122,136539122],[136544197,136544197],[136550109,136550109],[136551694,136551694],[136553188,136553188],[136553639,136553639],[136554800,136554800],[136557319,136557319],[136558157,136558157],[136569848,136569848],[136575199,136575199],[136576577,136576577],[136578536,136578536],[136580287,136580287],[136583192,136583192],[136586958,136586958],[136588478,136588478],[136589612,136589612],[136591178,136591178],[136591859,136591859],[136593760,136593760],[136594158,136594158],[136603276,136603276],[136603366,136603366],[136608231,136608231],[136609975,136609975],[136610598,136610598],[136611624,136611624],[136613780,136613780],[136614255,136614255],[136614813,136614813],[136617524,136617524],[136622216,136622216],[136625602,136625602],[136629911,136629911],[136630757,136630757],[136630989,136630989],[136631031,136631031],[136633771,136633771],[136636324,136636324],[136638216,136638216],[136640233,136640233],[136641882,136641882],[136643555,136643555],[136658345,136658345],[136670298,136670298],[136685228,136685228],[136696138,136696138],[136740900,136740900],[136765951,136765951],[136501840,136501840],[136505546,136505546],[136516748,136516748],[136522710,136522710],[136528004,136528004],[136539513,136539513],[136544752,136544752],[136546110,136546110],[136553529,136553529],[136555659,136555659],[136682274,136682274],[136691825,136691825],[136698098,136698098],[136721603,136721603],[136721995,136721995],[136755684,136755684],[136775898,136775898]],\"ys\":[[150,195],[150,195],[150,195],[150,195],[150,195],[150,195],[50,58],[50,58],[50,58],[50,58],[50,58],[50,58],[50,58],[250,296],[250,296],[250,296],[250,296],[150,194],[150,194],[150,194],[150,194],[150,194],[150,194],[150,194],[150,194],[150,194],[150,194],[150,194],[150,194],[150,194],[150,194],[150,194],[150,194],[150,194],[150,194],[150,194],[150,194],[150,194],[150,194],[150,194],[150,194],[150,194],[150,194],[250,295],[250,295],[250,295],[250,295],[250,295],[250,295],[250,295],[250,295],[250,295],[250,295],[250,295],[250,295],[250,295],[250,295],[250,295],[250,295],[250,295],[250,295],[250,295],[250,295],[250,295],[250,295],[250,295],[250,295],[250,295],[250,295],[250,295],[250,295],[250,295],[250,295],[250,295],[250,295],[250,295],[250,295],[250,295],[250,295],[250,295],[250,295],[250,295],[250,295],[250,295],[250,295],[250,295],[250,295],[250,295],[250,295],[250,295],[250,295],[250,295],[250,295],[250,295],[250,295],[250,295],[250,295],[250,295],[250,295],[250,295],[250,295],[250,295],[250,295],[250,295],[250,295],[250,295],[250,295],[350,398],[350,398],[350,398],[350,398],[350,398],[350,398],[350,398],[350,398],[350,398],[350,398],[350,397],[350,397],[350,397],[350,397],[350,397],[350,397],[350,397]]}},\"id\":\"48f21765-e0d7-4573-88da-c3a53cef5e9b\",\"type\":\"ColumnDataSource\"},{\"attributes\":{\"bottom\":{\"field\":\"bottom\"},\"fill_color\":{\"field\":\"fill_color\"},\"left\":{\"field\":\"left\"},\"line_color\":{\"value\":null},\"right\":{\"field\":\"right\"},\"top\":{\"field\":\"top\"}},\"id\":\"7043482d-5b28-4c78-a01c-48c03f586ec6\",\"type\":\"Quad\"},{\"attributes\":{\"line_alpha\":{\"value\":0.1},\"line_color\":{\"value\":\"#1f77b4\"},\"xs\":{\"field\":\"xs\"},\"ys\":{\"field\":\"ys\"}},\"id\":\"8f28dea2-624b-46de-b163-b38ea39e5ab0\",\"type\":\"MultiLine\"},{\"attributes\":{},\"id\":\"cfd47fe1-53ca-4e4b-b9dc-b87c1d10d6bc\",\"type\":\"BasicTicker\"},{\"attributes\":{\"data_source\":{\"id\":\"d1ba77b7-da63-4f56-a9f2-51f30c892f8a\",\"type\":\"ColumnDataSource\"},\"glyph\":{\"id\":\"7043482d-5b28-4c78-a01c-48c03f586ec6\",\"type\":\"Quad\"},\"hover_glyph\":null,\"nonselection_glyph\":{\"id\":\"bf9d5ae4-41de-4c09-a919-7e19ccb6d6e3\",\"type\":\"Quad\"},\"selection_glyph\":null},\"id\":\"dfd2cb65-5920-4fb0-a129-63726f4130cb\",\"type\":\"GlyphRenderer\"},{\"attributes\":{\"callback\":null,\"column_names\":[\"y\",\"x\",\"vals\"],\"data\":{\"vals\":[\"6_1503\",\"7_22\",\"4_1699\",\"26_1414\",\"64_1575\",\"10_2206\",\"7_1868\"],\"x\":[135771974,135786061,135915358,136398174,136494186,136501840,136682274],\"y\":[200.0,63.0,301.0,199.0,300.0,403.0,402.0]}},\"id\":\"3880109b-bb51-415f-9aa5-5f38c95cd7a6\",\"type\":\"ColumnDataSource\"},{\"attributes\":{\"bottom\":{\"field\":\"bottom\"},\"fill_alpha\":{\"value\":0.1},\"fill_color\":{\"value\":\"#1f77b4\"},\"left\":{\"field\":\"left\"},\"line_alpha\":{\"value\":0.1},\"line_color\":{\"value\":\"#1f77b4\"},\"right\":{\"field\":\"right\"},\"top\":{\"field\":\"top\"}},\"id\":\"dcefaecf-bb72-4815-9261-34ed5be131f5\",\"type\":\"Quad\"},{\"attributes\":{\"formatter\":{\"id\":\"0c33177c-c194-4ef4-ae3d-5eb451ae8765\",\"type\":\"BasicTickFormatter\"},\"plot\":{\"id\":\"964f36f5-4047-4aac-bc0e-b2f2a2ab7e27\",\"subtype\":\"Figure\",\"type\":\"Plot\"},\"ticker\":{\"id\":\"cfd47fe1-53ca-4e4b-b9dc-b87c1d10d6bc\",\"type\":\"BasicTicker\"}},\"id\":\"a3cf5b7c-6a68-44a5-b0cf-ae509d660108\",\"type\":\"LinearAxis\"},{\"attributes\":{\"plot\":{\"id\":\"964f36f5-4047-4aac-bc0e-b2f2a2ab7e27\",\"subtype\":\"Figure\",\"type\":\"Plot\"},\"ticker\":{\"id\":\"cfd47fe1-53ca-4e4b-b9dc-b87c1d10d6bc\",\"type\":\"BasicTicker\"}},\"id\":\"969a8d3f-805f-4533-ad59-2e8ed972dcc3\",\"type\":\"Grid\"},{\"attributes\":{\"callback\":null,\"end\":136786630,\"start\":135757320},\"id\":\"47cd8e4f-6cde-4d34-a0f8-d6b14f434053\",\"type\":\"Range1d\"},{\"attributes\":{\"plot\":{\"id\":\"964f36f5-4047-4aac-bc0e-b2f2a2ab7e27\",\"subtype\":\"Figure\",\"type\":\"Plot\"}},\"id\":\"91d4eca7-1f0c-4323-873b-b957842f33bd\",\"type\":\"PanTool\"},{\"attributes\":{},\"id\":\"1e11ff9e-4e5c-4f54-bd84-74ec0198c858\",\"type\":\"BasicTickFormatter\"},{\"attributes\":{\"plot\":null,\"text\":null},\"id\":\"6e529342-413b-428b-a8c7-0fc8648ed17b\",\"type\":\"Title\"}],\"root_ids\":[\"964f36f5-4047-4aac-bc0e-b2f2a2ab7e27\"]},\"title\":\"Bokeh Application\",\"version\":\"0.12.0\"}};\n",
       "            var render_items = [{\"docid\":\"a4afaff1-8349-42e7-b32c-01fd138fbe8e\",\"elementid\":\"8c993c01-7d43-4d81-9340-eeca3c18ed3e\",\"modelid\":\"964f36f5-4047-4aac-bc0e-b2f2a2ab7e27\",\"notebook_comms_target\":\"10348e75-352b-47c0-bde4-65d835328c27\"}];\n",
       "            \n",
       "            Bokeh.embed.embed_items(docs_json, render_items);\n",
       "        });\n",
       "      },\n",
       "      function(Bokeh) {\n",
       "      }\n",
       "    ];\n",
       "  \n",
       "    function run_inline_js() {\n",
       "      for (var i = 0; i < inline_js.length; i++) {\n",
       "        inline_js[i](window.Bokeh);\n",
       "      }\n",
       "    }\n",
       "  \n",
       "    if (window._bokeh_is_loading === 0) {\n",
       "      console.log(\"Bokeh: BokehJS loaded, going straight to plotting\");\n",
       "      run_inline_js();\n",
       "    } else {\n",
       "      load_libs(js_urls, function() {\n",
       "        console.log(\"Bokeh: BokehJS plotting callback run at\", now());\n",
       "        run_inline_js();\n",
       "      });\n",
       "    }\n",
       "  }(this));\n",
       "</script>"
      ]
     },
     "metadata": {},
     "output_type": "display_data"
    },
    {
     "data": {
      "text/html": [
       "<p><code>&lt;Bokeh Notebook handle for <strong>In[5]</strong>&gt;</code></p>"
      ],
      "text/plain": [
       "<bokeh.io._CommsHandle at 0x7fdc7ddf1ad0>"
      ]
     },
     "execution_count": 5,
     "metadata": {},
     "output_type": "execute_result"
    }
   ],
   "source": [
    "plt_obj = dm.superset_yes_no([di_7_22, dm.di_64_1575], min_match=0.001)\n",
    "plt = plt_obj.do_plot()\n",
    "show(plt)"
   ]
  },
  {
   "cell_type": "code",
   "execution_count": 6,
   "metadata": {
    "collapsed": false
   },
   "outputs": [
    {
     "data": {
      "text/html": [
       "<table>\n",
       "<thead><tr><th style=\"text-align:center\">index</th><th style=\"text-align:center\">first</th><th style=\"text-align:center\">length</th><th style=\"text-align:center\">snps</th><th style=\"text-align:center\" colspan=2>alleles</th><th style=\"text-align:center\" colspan=2>matches</th><th style=\"text-align:center\" colspan=2>afr</th><th style=\"text-align:center\" colspan=2>afx</th><th style=\"text-align:center\" colspan=2>amr</th><th style=\"text-align:center\" colspan=2>eas</th><th style=\"text-align:center\" colspan=2>eur</th><th style=\"text-align:center\" colspan=2>sas</th><th style=\"text-align:center\" colspan=2>sax</th></tr></thead>\n",
       "<tr class=\"even\"><td style=\"text-align: right;\">353921</td><td style=\"text-align: right;\">136,501,840</td><td style=\"text-align: right;\">53,819</td><td style=\"text-align: right;\">10</td><td style=\"text-align: right;\">2206</td><td style=\"text-align: right;\">0.01</td><td style=\"text-align: right;\">21</td><td style=\"text-align: right;\">1.00</td><td style=\"text-align: right;\">0</td><td style=\"text-align: right;\">0.00</td><td style=\"text-align: right;\">0</td><td style=\"text-align: right;\">0.00</td><td style=\"text-align: right;\">0</td><td style=\"text-align: right;\">0.00</td><td style=\"text-align: right;\">18</td><td style=\"text-align: right;\">4.26</td><td style=\"text-align: right;\">0</td><td style=\"text-align: right;\">0.00</td><td style=\"text-align: right;\">3</td><td style=\"text-align: right;\">1.97</td><td style=\"text-align: right;\">0</td><td style=\"text-align: right;\">0.00</td></tr>\n",
       "<tr><td style=\"text-align: right;\">354170</td><td style=\"text-align: right;\">136,682,274</td><td style=\"text-align: right;\">93,624</td><td style=\"text-align: right;\">7</td><td style=\"text-align: right;\">1868</td><td style=\"text-align: right;\">0.01</td><td style=\"text-align: right;\">21</td><td style=\"text-align: right;\">1.00</td><td style=\"text-align: right;\">0</td><td style=\"text-align: right;\">0.00</td><td style=\"text-align: right;\">0</td><td style=\"text-align: right;\">0.00</td><td style=\"text-align: right;\">0</td><td style=\"text-align: right;\">0.00</td><td style=\"text-align: right;\">18</td><td style=\"text-align: right;\">4.26</td><td style=\"text-align: right;\">0</td><td style=\"text-align: right;\">0.00</td><td style=\"text-align: right;\">3</td><td style=\"text-align: right;\">1.97</td><td style=\"text-align: right;\">0</td><td style=\"text-align: right;\">0.00</td></tr>\n",
       "<tr class=\"even\"><td style=\"text-align: right;\">353462</td><td style=\"text-align: right;\">135,915,358</td><td style=\"text-align: right;\">79,721</td><td style=\"text-align: right;\">4</td><td style=\"text-align: right;\">1699</td><td style=\"text-align: right;\">0.01</td><td style=\"text-align: right;\">21</td><td style=\"text-align: right;\">1.00</td><td style=\"text-align: right;\">0</td><td style=\"text-align: right;\">0.00</td><td style=\"text-align: right;\">0</td><td style=\"text-align: right;\">0.00</td><td style=\"text-align: right;\">0</td><td style=\"text-align: right;\">0.00</td><td style=\"text-align: right;\">18</td><td style=\"text-align: right;\">4.26</td><td style=\"text-align: right;\">0</td><td style=\"text-align: right;\">0.00</td><td style=\"text-align: right;\">3</td><td style=\"text-align: right;\">1.97</td><td style=\"text-align: right;\">0</td><td style=\"text-align: right;\">0.00</td></tr>\n",
       "<tr><td style=\"text-align: right;\">353901</td><td style=\"text-align: right;\">136,494,186</td><td style=\"text-align: right;\">271,765</td><td style=\"text-align: right;\">64</td><td style=\"text-align: right;\">1575</td><td style=\"text-align: right;\">0.01</td><td style=\"text-align: right;\">21</td><td style=\"text-align: right;\">1.00</td><td style=\"text-align: right;\">0</td><td style=\"text-align: right;\">0.00</td><td style=\"text-align: right;\">0</td><td style=\"text-align: right;\">0.00</td><td style=\"text-align: right;\">0</td><td style=\"text-align: right;\">0.00</td><td style=\"text-align: right;\">18</td><td style=\"text-align: right;\">4.26</td><td style=\"text-align: right;\">0</td><td style=\"text-align: right;\">0.00</td><td style=\"text-align: right;\">3</td><td style=\"text-align: right;\">1.97</td><td style=\"text-align: right;\">0</td><td style=\"text-align: right;\">0.00</td></tr>\n",
       "<tr class=\"even\"><td style=\"text-align: right;\">353283</td><td style=\"text-align: right;\">135,771,974</td><td style=\"text-align: right;\">368,330</td><td style=\"text-align: right;\">6</td><td style=\"text-align: right;\">1503</td><td style=\"text-align: right;\">0.01</td><td style=\"text-align: right;\">21</td><td style=\"text-align: right;\">1.00</td><td style=\"text-align: right;\">0</td><td style=\"text-align: right;\">0.00</td><td style=\"text-align: right;\">0</td><td style=\"text-align: right;\">0.00</td><td style=\"text-align: right;\">0</td><td style=\"text-align: right;\">0.00</td><td style=\"text-align: right;\">18</td><td style=\"text-align: right;\">4.26</td><td style=\"text-align: right;\">0</td><td style=\"text-align: right;\">0.00</td><td style=\"text-align: right;\">3</td><td style=\"text-align: right;\">1.97</td><td style=\"text-align: right;\">0</td><td style=\"text-align: right;\">0.00</td></tr>\n",
       "<tr><td style=\"text-align: right;\">353797</td><td style=\"text-align: right;\">136,398,174</td><td style=\"text-align: right;\">75,924</td><td style=\"text-align: right;\">26</td><td style=\"text-align: right;\">1414</td><td style=\"text-align: right;\">0.01</td><td style=\"text-align: right;\">21</td><td style=\"text-align: right;\">1.00</td><td style=\"text-align: right;\">0</td><td style=\"text-align: right;\">0.00</td><td style=\"text-align: right;\">0</td><td style=\"text-align: right;\">0.00</td><td style=\"text-align: right;\">0</td><td style=\"text-align: right;\">0.00</td><td style=\"text-align: right;\">18</td><td style=\"text-align: right;\">4.26</td><td style=\"text-align: right;\">0</td><td style=\"text-align: right;\">0.00</td><td style=\"text-align: right;\">3</td><td style=\"text-align: right;\">1.97</td><td style=\"text-align: right;\">0</td><td style=\"text-align: right;\">0.00</td></tr>\n",
       "<tr class=\"even\"><td style=\"text-align: right;\">353315</td><td style=\"text-align: right;\">135,786,061</td><td style=\"text-align: right;\">800,623</td><td style=\"text-align: right;\">7</td><td style=\"text-align: right;\">22</td><td style=\"text-align: right;\">0.95</td><td style=\"text-align: right;\">21</td><td style=\"text-align: right;\">1.00</td><td style=\"text-align: right;\">0</td><td style=\"text-align: right;\">0.00</td><td style=\"text-align: right;\">0</td><td style=\"text-align: right;\">0.00</td><td style=\"text-align: right;\">0</td><td style=\"text-align: right;\">0.00</td><td style=\"text-align: right;\">18</td><td style=\"text-align: right;\">4.26</td><td style=\"text-align: right;\">0</td><td style=\"text-align: right;\">0.00</td><td style=\"text-align: right;\">3</td><td style=\"text-align: right;\">1.97</td><td style=\"text-align: right;\">0</td><td style=\"text-align: right;\">0.00</td></tr>\n",
       "</table>"
      ],
      "text/plain": [
       "<IPython.core.display.HTML object>"
      ]
     },
     "execution_count": 6,
     "metadata": {},
     "output_type": "execute_result"
    }
   ],
   "source": [
    "HTML(plt_obj.get_html())"
   ]
  },
  {
   "cell_type": "code",
   "execution_count": 7,
   "metadata": {
    "collapsed": false
   },
   "outputs": [
    {
     "data": {
      "text/html": [
       "\n",
       "\n",
       "    <div class=\"bk-root\">\n",
       "        <div class=\"plotdiv\" id=\"4b220962-5c8e-4e90-8d70-7947eec2322c\"></div>\n",
       "    </div>\n",
       "<script type=\"text/javascript\">\n",
       "  \n",
       "  (function(global) {\n",
       "    function now() {\n",
       "      return new Date();\n",
       "    }\n",
       "  \n",
       "    if (typeof (window._bokeh_onload_callbacks) === \"undefined\") {\n",
       "      window._bokeh_onload_callbacks = [];\n",
       "    }\n",
       "  \n",
       "    function run_callbacks() {\n",
       "      window._bokeh_onload_callbacks.forEach(function(callback) { callback() });\n",
       "      delete window._bokeh_onload_callbacks\n",
       "      console.info(\"Bokeh: all callbacks have finished\");\n",
       "    }\n",
       "  \n",
       "    function load_libs(js_urls, callback) {\n",
       "      window._bokeh_onload_callbacks.push(callback);\n",
       "      if (window._bokeh_is_loading > 0) {\n",
       "        console.log(\"Bokeh: BokehJS is being loaded, scheduling callback at\", now());\n",
       "        return null;\n",
       "      }\n",
       "      if (js_urls == null || js_urls.length === 0) {\n",
       "        run_callbacks();\n",
       "        return null;\n",
       "      }\n",
       "      console.log(\"Bokeh: BokehJS not loaded, scheduling load and callback at\", now());\n",
       "      window._bokeh_is_loading = js_urls.length;\n",
       "      for (var i = 0; i < js_urls.length; i++) {\n",
       "        var url = js_urls[i];\n",
       "        var s = document.createElement('script');\n",
       "        s.src = url;\n",
       "        s.async = false;\n",
       "        s.onreadystatechange = s.onload = function() {\n",
       "          window._bokeh_is_loading--;\n",
       "          if (window._bokeh_is_loading === 0) {\n",
       "            console.log(\"Bokeh: all BokehJS libraries loaded\");\n",
       "            run_callbacks()\n",
       "          }\n",
       "        };\n",
       "        s.onerror = function() {\n",
       "          console.warn(\"failed to load library \" + url);\n",
       "        };\n",
       "        console.log(\"Bokeh: injecting script tag for BokehJS library: \", url);\n",
       "        document.getElementsByTagName(\"head\")[0].appendChild(s);\n",
       "      }\n",
       "    };var element = document.getElementById(\"4b220962-5c8e-4e90-8d70-7947eec2322c\");\n",
       "    if (element == null) {\n",
       "      console.log(\"Bokeh: ERROR: autoload.js configured with elementid '4b220962-5c8e-4e90-8d70-7947eec2322c' but no matching script tag was found. \")\n",
       "      return false;\n",
       "    }\n",
       "  \n",
       "    var js_urls = [];\n",
       "  \n",
       "    var inline_js = [\n",
       "      function(Bokeh) {\n",
       "        Bokeh.$(function() {\n",
       "            var docs_json = {\"ce0d739f-d378-46db-9763-3ecd26472f85\":{\"roots\":{\"references\":[{\"attributes\":{\"plot\":{\"id\":\"b3d0f67e-4d10-4b7a-bdc4-e86b35149ce1\",\"subtype\":\"Figure\",\"type\":\"Plot\"}},\"id\":\"3036f745-c330-43d7-9395-de379296a9ff\",\"type\":\"SaveTool\"},{\"attributes\":{\"bottom\":{\"field\":\"bottom\"},\"fill_alpha\":{\"value\":0.1},\"fill_color\":{\"value\":\"#1f77b4\"},\"left\":{\"field\":\"left\"},\"line_alpha\":{\"value\":0.1},\"line_color\":{\"value\":\"#1f77b4\"},\"right\":{\"field\":\"right\"},\"top\":{\"field\":\"top\"}},\"id\":\"1377690d-307d-43ed-a59c-44cc319debe5\",\"type\":\"Quad\"},{\"attributes\":{},\"id\":\"a79bed2a-6e6d-4ccf-b3a6-75f85cc8e25d\",\"type\":\"BasicTickFormatter\"},{\"attributes\":{\"bottom\":{\"field\":\"bottom\"},\"fill_color\":{\"value\":\"white\"},\"left\":{\"field\":\"left\"},\"right\":{\"field\":\"right\"},\"top\":{\"field\":\"top\"}},\"id\":\"4bdf98c7-f5de-4ce3-80c4-ea280015e002\",\"type\":\"Quad\"},{\"attributes\":{\"plot\":{\"id\":\"b3d0f67e-4d10-4b7a-bdc4-e86b35149ce1\",\"subtype\":\"Figure\",\"type\":\"Plot\"}},\"id\":\"27621fbb-11ae-4d92-a72a-7cb551e39f3a\",\"type\":\"PanTool\"},{\"attributes\":{},\"id\":\"7f10d622-7381-4bab-bbf7-82fb4103845d\",\"type\":\"ToolEvents\"},{\"attributes\":{\"plot\":{\"id\":\"b3d0f67e-4d10-4b7a-bdc4-e86b35149ce1\",\"subtype\":\"Figure\",\"type\":\"Plot\"}},\"id\":\"f6308f97-dfc2-48e6-bf46-d42e735e5ce0\",\"type\":\"ResetTool\"},{\"attributes\":{\"below\":[{\"id\":\"9ce40c51-9fbc-4ba1-9a86-6f4ca371e55b\",\"type\":\"LinearAxis\"}],\"left\":[{\"id\":\"60d25830-27c1-4c42-a952-7fcf0b438e86\",\"type\":\"LinearAxis\"}],\"plot_height\":400,\"plot_width\":900,\"renderers\":[{\"id\":\"9ce40c51-9fbc-4ba1-9a86-6f4ca371e55b\",\"type\":\"LinearAxis\"},{\"id\":\"00820b65-7ec2-45b8-a6fc-b7d545194f27\",\"type\":\"Grid\"},{\"id\":\"60d25830-27c1-4c42-a952-7fcf0b438e86\",\"type\":\"LinearAxis\"},{\"id\":\"e6f35968-3f5d-4429-bbfe-21763dd0d67a\",\"type\":\"Grid\"},{\"id\":\"ac5bedd4-9630-46b4-aa65-f4b09cf757bf\",\"type\":\"BoxAnnotation\"},{\"id\":\"a1c184dd-ef58-4fe1-a15f-539e1c02b50e\",\"type\":\"GlyphRenderer\"},{\"id\":\"981d29a5-78d2-4eca-a8c6-ed6fbb147ad9\",\"type\":\"GlyphRenderer\"},{\"id\":\"8a9e0d6c-ea59-4512-99cc-313d7c0a4d14\",\"type\":\"LabelSet\"},{\"id\":\"dea44318-12f7-4d90-ad09-b1477ae622bb\",\"type\":\"GlyphRenderer\"},{\"id\":\"22524e9f-2df1-4cea-8a4d-de99fb49b3d8\",\"type\":\"LabelSet\"}],\"title\":{\"id\":\"084647da-d34b-4b74-97da-79ef25b578aa\",\"type\":\"Title\"},\"tool_events\":{\"id\":\"7f10d622-7381-4bab-bbf7-82fb4103845d\",\"type\":\"ToolEvents\"},\"toolbar\":{\"id\":\"aa7f219d-4d42-4e5b-85f6-903355c52bc5\",\"type\":\"Toolbar\"},\"toolbar_location\":null,\"x_range\":{\"id\":\"6edc5818-95c4-42a4-8b70-0ae709c0ecd2\",\"type\":\"Range1d\"},\"y_range\":{\"id\":\"b93f500e-e23a-4a1c-9ab4-33c458664917\",\"type\":\"Range1d\"}},\"id\":\"b3d0f67e-4d10-4b7a-bdc4-e86b35149ce1\",\"subtype\":\"Figure\",\"type\":\"Plot\"},{\"attributes\":{},\"id\":\"27657f2e-81b9-4141-bbfc-7637d4658dea\",\"type\":\"BasicTicker\"},{\"attributes\":{\"callback\":null,\"column_names\":[\"right\",\"bottom\",\"top\",\"left\"],\"data\":{\"bottom\":[345,345,345,345,345,345,345],\"left\":[135809835,135957574,136289083,136499189,136545415,136597196,136664254],\"right\":[135928279,136288182,136482839,136542633,136594750,136634047,136743222],\"top\":[375,375,375,375,375,375,375]}},\"id\":\"ff841d3e-d56f-4ac6-9073-340c790e2d9f\",\"type\":\"ColumnDataSource\"},{\"attributes\":{\"data_source\":{\"id\":\"aa774d90-4fb7-4e11-8703-f6e81bccae8c\",\"type\":\"ColumnDataSource\"},\"glyph\":{\"id\":\"1adb319d-7e6f-4feb-9717-c8f0006aa7e2\",\"type\":\"MultiLine\"},\"hover_glyph\":null,\"nonselection_glyph\":{\"id\":\"ccc98e52-47e1-40a1-a851-a4e9ae132bcb\",\"type\":\"MultiLine\"},\"selection_glyph\":null},\"id\":\"981d29a5-78d2-4eca-a8c6-ed6fbb147ad9\",\"type\":\"GlyphRenderer\"},{\"attributes\":{\"line_alpha\":{\"value\":0.1},\"line_color\":{\"value\":\"#1f77b4\"},\"xs\":{\"field\":\"xs\"},\"ys\":{\"field\":\"ys\"}},\"id\":\"ccc98e52-47e1-40a1-a851-a4e9ae132bcb\",\"type\":\"MultiLine\"},{\"attributes\":{\"line_color\":{\"field\":\"line_color\"},\"xs\":{\"field\":\"xs\"},\"ys\":{\"field\":\"ys\"}},\"id\":\"1adb319d-7e6f-4feb-9717-c8f0006aa7e2\",\"type\":\"MultiLine\"},{\"attributes\":{\"callback\":null,\"end\":136786630,\"start\":135757320},\"id\":\"6edc5818-95c4-42a4-8b70-0ae709c0ecd2\",\"type\":\"Range1d\"},{\"attributes\":{\"level\":\"glyph\",\"plot\":{\"id\":\"b3d0f67e-4d10-4b7a-bdc4-e86b35149ce1\",\"subtype\":\"Figure\",\"type\":\"Plot\"},\"source\":{\"id\":\"a48c72ac-baf1-42da-a398-6a41ddb30a2f\",\"type\":\"ColumnDataSource\"},\"text\":{\"field\":\"vals\"},\"text_font_size\":{\"value\":\"9pt\"},\"text_font_style\":\"bold\",\"x\":{\"field\":\"x\"},\"y\":{\"field\":\"y\"}},\"id\":\"8a9e0d6c-ea59-4512-99cc-313d7c0a4d14\",\"type\":\"LabelSet\"},{\"attributes\":{\"callback\":null,\"column_names\":[\"y\",\"x\",\"vals\"],\"data\":{\"vals\":[\"RAB3GAP1\",\"ZRANB3\",\"R3HDM1\",\"UBXN4\",\"LCT\",\"MCM6\",\"DARS\"],\"x\":[135869057.0,136122878.0,136385961.0,136520911.0,136570082.5,136615621.5,136703738.0],\"y\":[360.0,360.0,360.0,360.0,360.0,360.0,360.0]}},\"id\":\"6792ddc6-9fc1-4d96-ab66-8e2a11c380f1\",\"type\":\"ColumnDataSource\"},{\"attributes\":{},\"id\":\"9237bad3-0985-409a-a9c8-ab72bdb04f40\",\"type\":\"BasicTicker\"},{\"attributes\":{\"formatter\":{\"id\":\"ed41546e-4491-4c97-a2b6-e6ac107d616b\",\"type\":\"BasicTickFormatter\"},\"plot\":{\"id\":\"b3d0f67e-4d10-4b7a-bdc4-e86b35149ce1\",\"subtype\":\"Figure\",\"type\":\"Plot\"},\"ticker\":{\"id\":\"27657f2e-81b9-4141-bbfc-7637d4658dea\",\"type\":\"BasicTicker\"},\"visible\":null},\"id\":\"60d25830-27c1-4c42-a952-7fcf0b438e86\",\"type\":\"LinearAxis\"},{\"attributes\":{\"callback\":null,\"column_names\":[\"right\",\"bottom\",\"top\",\"left\",\"fill_color\"],\"data\":{\"bottom\":[150,50,250,150,250],\"fill_color\":[\"#61c461\",\"#ffff00\",\"#61c461\",\"#61c461\",\"#808080\"],\"left\":[135771974,135786061,135915358,136398174,136501840],\"right\":[136140304,136586684,135995079,136474098,136555659],\"top\":[195,58,296,194,298]}},\"id\":\"2271308b-15da-4147-90a3-1c8da6bea2a5\",\"type\":\"ColumnDataSource\"},{\"attributes\":{\"formatter\":{\"id\":\"a79bed2a-6e6d-4ccf-b3a6-75f85cc8e25d\",\"type\":\"BasicTickFormatter\"},\"plot\":{\"id\":\"b3d0f67e-4d10-4b7a-bdc4-e86b35149ce1\",\"subtype\":\"Figure\",\"type\":\"Plot\"},\"ticker\":{\"id\":\"9237bad3-0985-409a-a9c8-ab72bdb04f40\",\"type\":\"BasicTicker\"}},\"id\":\"9ce40c51-9fbc-4ba1-9a86-6f4ca371e55b\",\"type\":\"LinearAxis\"},{\"attributes\":{\"level\":\"glyph\",\"plot\":{\"id\":\"b3d0f67e-4d10-4b7a-bdc4-e86b35149ce1\",\"subtype\":\"Figure\",\"type\":\"Plot\"},\"source\":{\"id\":\"6792ddc6-9fc1-4d96-ab66-8e2a11c380f1\",\"type\":\"ColumnDataSource\"},\"text\":{\"field\":\"vals\"},\"text_align\":\"center\",\"text_baseline\":\"middle\",\"text_font_size\":{\"value\":\"8pt\"},\"x\":{\"field\":\"x\"},\"y\":{\"field\":\"y\"}},\"id\":\"22524e9f-2df1-4cea-8a4d-de99fb49b3d8\",\"type\":\"LabelSet\"},{\"attributes\":{\"bottom_units\":\"screen\",\"fill_alpha\":{\"value\":0.5},\"fill_color\":{\"value\":\"lightgrey\"},\"left_units\":\"screen\",\"level\":\"overlay\",\"line_alpha\":{\"value\":1.0},\"line_color\":{\"value\":\"black\"},\"line_dash\":[4,4],\"line_width\":{\"value\":2},\"plot\":null,\"render_mode\":\"css\",\"right_units\":\"screen\",\"top_units\":\"screen\"},\"id\":\"ac5bedd4-9630-46b4-aa65-f4b09cf757bf\",\"type\":\"BoxAnnotation\"},{\"attributes\":{\"plot\":{\"id\":\"b3d0f67e-4d10-4b7a-bdc4-e86b35149ce1\",\"subtype\":\"Figure\",\"type\":\"Plot\"},\"ticker\":{\"id\":\"9237bad3-0985-409a-a9c8-ab72bdb04f40\",\"type\":\"BasicTicker\"}},\"id\":\"00820b65-7ec2-45b8-a6fc-b7d545194f27\",\"type\":\"Grid\"},{\"attributes\":{\"bottom\":{\"field\":\"bottom\"},\"fill_alpha\":{\"value\":0.1},\"fill_color\":{\"value\":\"#1f77b4\"},\"left\":{\"field\":\"left\"},\"line_alpha\":{\"value\":0.1},\"line_color\":{\"value\":\"#1f77b4\"},\"right\":{\"field\":\"right\"},\"top\":{\"field\":\"top\"}},\"id\":\"a69f1079-afb7-4dee-a210-297d469e6081\",\"type\":\"Quad\"},{\"attributes\":{\"dimension\":1,\"plot\":{\"id\":\"b3d0f67e-4d10-4b7a-bdc4-e86b35149ce1\",\"subtype\":\"Figure\",\"type\":\"Plot\"},\"ticker\":{\"id\":\"27657f2e-81b9-4141-bbfc-7637d4658dea\",\"type\":\"BasicTicker\"}},\"id\":\"e6f35968-3f5d-4429-bbfe-21763dd0d67a\",\"type\":\"Grid\"},{\"attributes\":{},\"id\":\"ed41546e-4491-4c97-a2b6-e6ac107d616b\",\"type\":\"BasicTickFormatter\"},{\"attributes\":{\"bottom\":{\"field\":\"bottom\"},\"fill_color\":{\"field\":\"fill_color\"},\"left\":{\"field\":\"left\"},\"line_color\":{\"value\":null},\"right\":{\"field\":\"right\"},\"top\":{\"field\":\"top\"}},\"id\":\"646fe643-623d-457b-861b-7f1e23822914\",\"type\":\"Quad\"},{\"attributes\":{\"plot\":{\"id\":\"b3d0f67e-4d10-4b7a-bdc4-e86b35149ce1\",\"subtype\":\"Figure\",\"type\":\"Plot\"}},\"id\":\"bcab54f3-eddc-4758-95e4-37bad39655ee\",\"type\":\"HelpTool\"},{\"attributes\":{\"callback\":null,\"end\":400},\"id\":\"b93f500e-e23a-4a1c-9ab4-33c458664917\",\"type\":\"Range1d\"},{\"attributes\":{\"plot\":{\"id\":\"b3d0f67e-4d10-4b7a-bdc4-e86b35149ce1\",\"subtype\":\"Figure\",\"type\":\"Plot\"}},\"id\":\"df597c2b-764e-4ef9-9568-289cab81f12d\",\"type\":\"WheelZoomTool\"},{\"attributes\":{\"callback\":null,\"column_names\":[\"y\",\"x\",\"vals\"],\"data\":{\"vals\":[\"6_1503\",\"7_22\",\"4_1699\",\"26_1414\",\"10_2206\"],\"x\":[135771974,135786061,135915358,136398174,136501840],\"y\":[200.0,63.0,301.0,199.0,303.0]}},\"id\":\"a48c72ac-baf1-42da-a398-6a41ddb30a2f\",\"type\":\"ColumnDataSource\"},{\"attributes\":{\"data_source\":{\"id\":\"ff841d3e-d56f-4ac6-9073-340c790e2d9f\",\"type\":\"ColumnDataSource\"},\"glyph\":{\"id\":\"4bdf98c7-f5de-4ce3-80c4-ea280015e002\",\"type\":\"Quad\"},\"hover_glyph\":null,\"nonselection_glyph\":{\"id\":\"a69f1079-afb7-4dee-a210-297d469e6081\",\"type\":\"Quad\"},\"selection_glyph\":null},\"id\":\"dea44318-12f7-4d90-ad09-b1477ae622bb\",\"type\":\"GlyphRenderer\"},{\"attributes\":{\"data_source\":{\"id\":\"2271308b-15da-4147-90a3-1c8da6bea2a5\",\"type\":\"ColumnDataSource\"},\"glyph\":{\"id\":\"646fe643-623d-457b-861b-7f1e23822914\",\"type\":\"Quad\"},\"hover_glyph\":null,\"nonselection_glyph\":{\"id\":\"1377690d-307d-43ed-a59c-44cc319debe5\",\"type\":\"Quad\"},\"selection_glyph\":null},\"id\":\"a1c184dd-ef58-4fe1-a15f-539e1c02b50e\",\"type\":\"GlyphRenderer\"},{\"attributes\":{\"overlay\":{\"id\":\"ac5bedd4-9630-46b4-aa65-f4b09cf757bf\",\"type\":\"BoxAnnotation\"},\"plot\":{\"id\":\"b3d0f67e-4d10-4b7a-bdc4-e86b35149ce1\",\"subtype\":\"Figure\",\"type\":\"Plot\"}},\"id\":\"3e27c0b7-d4d5-4fa4-97a5-2134ce71a04f\",\"type\":\"BoxZoomTool\"},{\"attributes\":{\"plot\":null,\"text\":null},\"id\":\"084647da-d34b-4b74-97da-79ef25b578aa\",\"type\":\"Title\"},{\"attributes\":{\"callback\":null,\"column_names\":[\"xs\",\"ys\",\"line_color\"],\"data\":{\"line_color\":[\"black\",\"black\",\"black\",\"black\",\"black\",\"black\",\"black\",\"black\",\"black\",\"black\",\"black\",\"black\",\"black\",\"black\",\"black\",\"black\",\"black\",\"black\",\"black\",\"black\",\"black\",\"black\",\"black\",\"black\",\"black\",\"black\",\"black\",\"black\",\"black\",\"black\",\"black\",\"black\",\"black\",\"black\",\"black\",\"black\",\"black\",\"black\",\"black\",\"black\",\"black\",\"black\",\"black\",\"black\",\"black\",\"black\",\"black\",\"black\",\"black\",\"black\",\"black\",\"black\",\"black\"],\"xs\":[[135771974,135771974],[135859371,135859371],[135877562,135877562],[136022798,136022798],[136058820,136058820],[136140304,136140304],[135786061,135786061],[135815142,135815142],[135860442,135860442],[136488551,136488551],[136516760,136516760],[136562320,136562320],[136586684,136586684],[135915358,135915358],[135954405,135954405],[135995073,135995073],[135995079,135995079],[136398174,136398174],[136402117,136402117],[136403749,136403749],[136409073,136409073],[136410299,136410299],[136413359,136413359],[136416855,136416855],[136416941,136416941],[136418348,136418348],[136419961,136419961],[136420690,136420690],[136422171,136422171],[136428460,136428460],[136430866,136430866],[136432103,136432103],[136437507,136437507],[136439090,136439090],[136439517,136439517],[136444123,136444123],[136445526,136445526],[136445869,136445869],[136455600,136455600],[136456642,136456642],[136462441,136462441],[136470714,136470714],[136474098,136474098],[136501840,136501840],[136505546,136505546],[136516748,136516748],[136522710,136522710],[136528004,136528004],[136539513,136539513],[136544752,136544752],[136546110,136546110],[136553529,136553529],[136555659,136555659]],\"ys\":[[150,195],[150,195],[150,195],[150,195],[150,195],[150,195],[50,58],[50,58],[50,58],[50,58],[50,58],[50,58],[50,58],[250,296],[250,296],[250,296],[250,296],[150,194],[150,194],[150,194],[150,194],[150,194],[150,194],[150,194],[150,194],[150,194],[150,194],[150,194],[150,194],[150,194],[150,194],[150,194],[150,194],[150,194],[150,194],[150,194],[150,194],[150,194],[150,194],[150,194],[150,194],[150,194],[150,194],[250,298],[250,298],[250,298],[250,298],[250,298],[250,298],[250,298],[250,298],[250,298],[250,298]]}},\"id\":\"aa774d90-4fb7-4e11-8703-f6e81bccae8c\",\"type\":\"ColumnDataSource\"},{\"attributes\":{\"active_drag\":\"auto\",\"active_scroll\":\"auto\",\"active_tap\":\"auto\",\"tools\":[{\"id\":\"27621fbb-11ae-4d92-a72a-7cb551e39f3a\",\"type\":\"PanTool\"},{\"id\":\"df597c2b-764e-4ef9-9568-289cab81f12d\",\"type\":\"WheelZoomTool\"},{\"id\":\"3e27c0b7-d4d5-4fa4-97a5-2134ce71a04f\",\"type\":\"BoxZoomTool\"},{\"id\":\"3036f745-c330-43d7-9395-de379296a9ff\",\"type\":\"SaveTool\"},{\"id\":\"f6308f97-dfc2-48e6-bf46-d42e735e5ce0\",\"type\":\"ResetTool\"},{\"id\":\"bcab54f3-eddc-4758-95e4-37bad39655ee\",\"type\":\"HelpTool\"}]},\"id\":\"aa7f219d-4d42-4e5b-85f6-903355c52bc5\",\"type\":\"Toolbar\"}],\"root_ids\":[\"b3d0f67e-4d10-4b7a-bdc4-e86b35149ce1\"]},\"title\":\"Bokeh Application\",\"version\":\"0.12.0\"}};\n",
       "            var render_items = [{\"docid\":\"ce0d739f-d378-46db-9763-3ecd26472f85\",\"elementid\":\"4b220962-5c8e-4e90-8d70-7947eec2322c\",\"modelid\":\"b3d0f67e-4d10-4b7a-bdc4-e86b35149ce1\",\"notebook_comms_target\":\"3ef38d7c-471e-4f1c-8fb6-121473880a07\"}];\n",
       "            \n",
       "            Bokeh.embed.embed_items(docs_json, render_items);\n",
       "        });\n",
       "      },\n",
       "      function(Bokeh) {\n",
       "      }\n",
       "    ];\n",
       "  \n",
       "    function run_inline_js() {\n",
       "      for (var i = 0; i < inline_js.length; i++) {\n",
       "        inline_js[i](window.Bokeh);\n",
       "      }\n",
       "    }\n",
       "  \n",
       "    if (window._bokeh_is_loading === 0) {\n",
       "      console.log(\"Bokeh: BokehJS loaded, going straight to plotting\");\n",
       "      run_inline_js();\n",
       "    } else {\n",
       "      load_libs(js_urls, function() {\n",
       "        console.log(\"Bokeh: BokehJS plotting callback run at\", now());\n",
       "        run_inline_js();\n",
       "      });\n",
       "    }\n",
       "  }(this));\n",
       "</script>"
      ]
     },
     "metadata": {},
     "output_type": "display_data"
    },
    {
     "data": {
      "text/html": [
       "<p><code>&lt;Bokeh Notebook handle for <strong>In[7]</strong>&gt;</code></p>"
      ],
      "text/plain": [
       "<bokeh.io._CommsHandle at 0x7fdc7dd98e10>"
      ]
     },
     "execution_count": 7,
     "metadata": {},
     "output_type": "execute_result"
    }
   ],
   "source": [
    "plt_obj = dm.superset_yes_no([di_7_22], [dm.di_64_1575], min_match=0.001)\n",
    "plt = plt_obj.do_plot()\n",
    "am = plt_obj.plot_context.yes_allele_mask\n",
    "show(plt)"
   ]
  },
  {
   "cell_type": "code",
   "execution_count": 8,
   "metadata": {
    "collapsed": false
   },
   "outputs": [
    {
     "data": {
      "text/html": [
       "<table>\n",
       "<thead><tr><th style=\"text-align:center\">index</th><th style=\"text-align:center\">first</th><th style=\"text-align:center\">length</th><th style=\"text-align:center\">snps</th><th style=\"text-align:center\" colspan=2>alleles</th><th style=\"text-align:center\" colspan=2>matches</th><th style=\"text-align:center\" colspan=2>afr</th><th style=\"text-align:center\" colspan=2>afx</th><th style=\"text-align:center\" colspan=2>amr</th><th style=\"text-align:center\" colspan=2>eas</th><th style=\"text-align:center\" colspan=2>eur</th><th style=\"text-align:center\" colspan=2>sas</th><th style=\"text-align:center\" colspan=2>sax</th></tr></thead>\n",
       "<tr class=\"even\"><td style=\"text-align: right;\">353921</td><td style=\"text-align: right;\">136,501,840</td><td style=\"text-align: right;\">53,819</td><td style=\"text-align: right;\">10</td><td style=\"text-align: right;\">2206</td><td style=\"text-align: right;\">0.00</td><td style=\"text-align: right;\">1</td><td style=\"text-align: right;\">1.00</td><td style=\"text-align: right;\">0</td><td style=\"text-align: right;\">0.00</td><td style=\"text-align: right;\">0</td><td style=\"text-align: right;\">0.00</td><td style=\"text-align: right;\">0</td><td style=\"text-align: right;\">0.00</td><td style=\"text-align: right;\">1</td><td style=\"text-align: right;\">5.25</td><td style=\"text-align: right;\">0</td><td style=\"text-align: right;\">0.00</td><td style=\"text-align: right;\">0</td><td style=\"text-align: right;\">0.00</td><td style=\"text-align: right;\">0</td><td style=\"text-align: right;\">0.00</td></tr>\n",
       "<tr><td style=\"text-align: right;\">353462</td><td style=\"text-align: right;\">135,915,358</td><td style=\"text-align: right;\">79,721</td><td style=\"text-align: right;\">4</td><td style=\"text-align: right;\">1699</td><td style=\"text-align: right;\">0.00</td><td style=\"text-align: right;\">1</td><td style=\"text-align: right;\">1.00</td><td style=\"text-align: right;\">0</td><td style=\"text-align: right;\">0.00</td><td style=\"text-align: right;\">0</td><td style=\"text-align: right;\">0.00</td><td style=\"text-align: right;\">0</td><td style=\"text-align: right;\">0.00</td><td style=\"text-align: right;\">1</td><td style=\"text-align: right;\">5.25</td><td style=\"text-align: right;\">0</td><td style=\"text-align: right;\">0.00</td><td style=\"text-align: right;\">0</td><td style=\"text-align: right;\">0.00</td><td style=\"text-align: right;\">0</td><td style=\"text-align: right;\">0.00</td></tr>\n",
       "<tr class=\"even\"><td style=\"text-align: right;\">353283</td><td style=\"text-align: right;\">135,771,974</td><td style=\"text-align: right;\">368,330</td><td style=\"text-align: right;\">6</td><td style=\"text-align: right;\">1503</td><td style=\"text-align: right;\">0.00</td><td style=\"text-align: right;\">1</td><td style=\"text-align: right;\">1.00</td><td style=\"text-align: right;\">0</td><td style=\"text-align: right;\">0.00</td><td style=\"text-align: right;\">0</td><td style=\"text-align: right;\">0.00</td><td style=\"text-align: right;\">0</td><td style=\"text-align: right;\">0.00</td><td style=\"text-align: right;\">1</td><td style=\"text-align: right;\">5.25</td><td style=\"text-align: right;\">0</td><td style=\"text-align: right;\">0.00</td><td style=\"text-align: right;\">0</td><td style=\"text-align: right;\">0.00</td><td style=\"text-align: right;\">0</td><td style=\"text-align: right;\">0.00</td></tr>\n",
       "<tr><td style=\"text-align: right;\">353797</td><td style=\"text-align: right;\">136,398,174</td><td style=\"text-align: right;\">75,924</td><td style=\"text-align: right;\">26</td><td style=\"text-align: right;\">1414</td><td style=\"text-align: right;\">0.00</td><td style=\"text-align: right;\">1</td><td style=\"text-align: right;\">1.00</td><td style=\"text-align: right;\">0</td><td style=\"text-align: right;\">0.00</td><td style=\"text-align: right;\">0</td><td style=\"text-align: right;\">0.00</td><td style=\"text-align: right;\">0</td><td style=\"text-align: right;\">0.00</td><td style=\"text-align: right;\">1</td><td style=\"text-align: right;\">5.25</td><td style=\"text-align: right;\">0</td><td style=\"text-align: right;\">0.00</td><td style=\"text-align: right;\">0</td><td style=\"text-align: right;\">0.00</td><td style=\"text-align: right;\">0</td><td style=\"text-align: right;\">0.00</td></tr>\n",
       "<tr class=\"even\"><td style=\"text-align: right;\">353315</td><td style=\"text-align: right;\">135,786,061</td><td style=\"text-align: right;\">800,623</td><td style=\"text-align: right;\">7</td><td style=\"text-align: right;\">22</td><td style=\"text-align: right;\">0.05</td><td style=\"text-align: right;\">1</td><td style=\"text-align: right;\">1.00</td><td style=\"text-align: right;\">0</td><td style=\"text-align: right;\">0.00</td><td style=\"text-align: right;\">0</td><td style=\"text-align: right;\">0.00</td><td style=\"text-align: right;\">0</td><td style=\"text-align: right;\">0.00</td><td style=\"text-align: right;\">1</td><td style=\"text-align: right;\">5.25</td><td style=\"text-align: right;\">0</td><td style=\"text-align: right;\">0.00</td><td style=\"text-align: right;\">0</td><td style=\"text-align: right;\">0.00</td><td style=\"text-align: right;\">0</td><td style=\"text-align: right;\">0.00</td></tr>\n",
       "</table>"
      ],
      "text/plain": [
       "<IPython.core.display.HTML object>"
      ]
     },
     "execution_count": 8,
     "metadata": {},
     "output_type": "execute_result"
    }
   ],
   "source": [
    "HTML(plt_obj.get_html())"
   ]
  },
  {
   "cell_type": "code",
   "execution_count": 9,
   "metadata": {
    "collapsed": false
   },
   "outputs": [
    {
     "data": {
      "text/plain": [
       "array([1, 1, 1, 1, 1, 1, 1, 1, 1, 1, 1, 1, 1, 1, 1, 1, 1, 1, 1, 1, 1, 1, 1,\n",
       "       1, 1, 1, 1, 1, 1, 0, 0, 0, 0, 0, 0, 0, 0, 0, 0, 0, 0, 0, 0, 0, 0, 0,\n",
       "       0, 0, 0, 0, 0, 0, 0, 0, 0, 0, 0, 0, 0, 0, 0, 0, 0, 0])"
      ]
     },
     "execution_count": 9,
     "metadata": {},
     "output_type": "execute_result"
    }
   ],
   "source": [
    "sa_64_1575.alleles_per_snp(am)"
   ]
  }
 ],
 "metadata": {
  "kernelspec": {
   "display_name": "Python [Root]",
   "language": "python",
   "name": "Python [Root]"
  },
  "language_info": {
   "codemirror_mode": {
    "name": "ipython",
    "version": 2
   },
   "file_extension": ".py",
   "mimetype": "text/x-python",
   "name": "python",
   "nbconvert_exporter": "python",
   "pygments_lexer": "ipython2",
   "version": "2.7.12"
  }
 },
 "nbformat": 4,
 "nbformat_minor": 0
}
