{
 "cells": [
  {
   "cell_type": "code",
   "execution_count": 1,
   "metadata": {
    "collapsed": false
   },
   "outputs": [
    {
     "data": {
      "text/html": []
     },
     "metadata": {},
     "output_type": "display_data"
    },
    {
     "data": {
      "application/javascript": [
       "\n",
       "(function(global) {\n",
       "  function now() {\n",
       "    return new Date();\n",
       "  }\n",
       "\n",
       "  if (typeof (window._bokeh_onload_callbacks) === \"undefined\") {\n",
       "    window._bokeh_onload_callbacks = [];\n",
       "  }\n",
       "\n",
       "  function run_callbacks() {\n",
       "    window._bokeh_onload_callbacks.forEach(function(callback) { callback() });\n",
       "    delete window._bokeh_onload_callbacks\n",
       "    console.info(\"Bokeh: all callbacks have finished\");\n",
       "  }\n",
       "\n",
       "  function load_libs(js_urls, callback) {\n",
       "    window._bokeh_onload_callbacks.push(callback);\n",
       "    if (window._bokeh_is_loading > 0) {\n",
       "      console.log(\"Bokeh: BokehJS is being loaded, scheduling callback at\", now());\n",
       "      return null;\n",
       "    }\n",
       "    if (js_urls == null || js_urls.length === 0) {\n",
       "      run_callbacks();\n",
       "      return null;\n",
       "    }\n",
       "    console.log(\"Bokeh: BokehJS not loaded, scheduling load and callback at\", now());\n",
       "    window._bokeh_is_loading = js_urls.length;\n",
       "    for (var i = 0; i < js_urls.length; i++) {\n",
       "      var url = js_urls[i];\n",
       "      var s = document.createElement('script');\n",
       "      s.src = url;\n",
       "      s.async = false;\n",
       "      s.onreadystatechange = s.onload = function() {\n",
       "        window._bokeh_is_loading--;\n",
       "        if (window._bokeh_is_loading === 0) {\n",
       "          console.log(\"Bokeh: all BokehJS libraries loaded\");\n",
       "          run_callbacks()\n",
       "        }\n",
       "      };\n",
       "      s.onerror = function() {\n",
       "        console.warn(\"failed to load library \" + url);\n",
       "      };\n",
       "      console.log(\"Bokeh: injecting script tag for BokehJS library: \", url);\n",
       "      document.getElementsByTagName(\"head\")[0].appendChild(s);\n",
       "    }\n",
       "  };\n",
       "\n",
       "  var js_urls = ['https://cdn.pydata.org/bokeh/release/bokeh-0.12.0.min.js', 'https://cdn.pydata.org/bokeh/release/bokeh-widgets-0.12.0.min.js', 'https://cdn.pydata.org/bokeh/release/bokeh-compiler-0.12.0.min.js'];\n",
       "\n",
       "  var inline_js = [\n",
       "    function(Bokeh) {\n",
       "      Bokeh.set_log_level(\"info\");\n",
       "    },\n",
       "    \n",
       "    function(Bokeh) {\n",
       "      Bokeh.$(\"#57f04b7e-ea1c-4a9f-8904-ca34f2b6b90e\").text(\"BokehJS successfully loaded\");\n",
       "    },\n",
       "    function(Bokeh) {\n",
       "      console.log(\"Bokeh: injecting CSS: https://cdn.pydata.org/bokeh/release/bokeh-0.12.0.min.css\");\n",
       "      Bokeh.embed.inject_css(\"https://cdn.pydata.org/bokeh/release/bokeh-0.12.0.min.css\");\n",
       "      console.log(\"Bokeh: injecting CSS: https://cdn.pydata.org/bokeh/release/bokeh-widgets-0.12.0.min.css\");\n",
       "      Bokeh.embed.inject_css(\"https://cdn.pydata.org/bokeh/release/bokeh-widgets-0.12.0.min.css\");\n",
       "    }\n",
       "  ];\n",
       "\n",
       "  function run_inline_js() {\n",
       "    for (var i = 0; i < inline_js.length; i++) {\n",
       "      inline_js[i](window.Bokeh);\n",
       "    }\n",
       "  }\n",
       "\n",
       "  if (window._bokeh_is_loading === 0) {\n",
       "    console.log(\"Bokeh: BokehJS loaded, going straight to plotting\");\n",
       "    run_inline_js();\n",
       "  } else {\n",
       "    load_libs(js_urls, function() {\n",
       "      console.log(\"Bokeh: BokehJS plotting callback run at\", now());\n",
       "      run_inline_js();\n",
       "    });\n",
       "  }\n",
       "}(this));"
      ]
     },
     "metadata": {},
     "output_type": "display_data"
    }
   ],
   "source": [
    "import numpy as np\n",
    "from IPython.display import HTML\n",
    "from bokeh.plotting import output_notebook, show\n",
    "import genomes_dnj.lct_interval.series_plots as dm\n",
    "import genomes_dnj.lct_interval.anal_series as an\n",
    "import genomes_dnj.lct_interval_snp_anal.lct_interval_snp_anal as snp_anal\n",
    "import genomes_dnj.lct_interval.series_masks as sm\n",
    "output_notebook(hide_banner=True)\n",
    "sa_64_1575 = snp_anal.series_anal_cls(dm.di_64_1575, sm.series_data)\n",
    "sa_4_911 = snp_anal.series_anal_cls(dm.di_4_911, sm.series_data)"
   ]
  },
  {
   "cell_type": "markdown",
   "metadata": {},
   "source": [
    "<h3>Series 4_911</h3>\n",
    "<div style=\"width:700px\">\n",
    "<p>\n",
    "This notebook documents the series 4_911 and its 4 SNPs.  The 1000 genomes data includes\n",
    "4001 samples that express none of its 4 SNPs and 911 samples that express all 4 of them.\n",
    "The 4 SNP series covers more than  315,000 DNA bases.\n",
    "<p>\n",
    "The 911 samples include 762 that express the series 11_765 that is associated with lactase\n",
    "persistence.  The series associations expressed by those samples are close to constant with\n",
    "almost no history of recombination events.  Another 72 samples express 4_911 in association\n",
    "with all the series of the EUR tree root, 6_1503, 4_1699, 26_1414, 64_1575, 10_2206, and 7_1868.\n",
    "The other 77 samples express 4_911 in association with a variety of different series that\n",
    "have resulted from varied histories of recombination events.  This notebook explores those\n",
    "associations.\n",
    "</div>"
   ]
  },
  {
   "cell_type": "code",
   "execution_count": 2,
   "metadata": {
    "collapsed": false
   },
   "outputs": [
    {
     "data": {
      "text/html": [
       "<p>\n",
       "<b>4_911 series</b>\n",
       "</p><p>\n",
       "<table>\n",
       "<thead><tr><th style=\"text-align:center\">index</th><th style=\"text-align:center\">first</th><th style=\"text-align:center\">length</th><th style=\"text-align:center\">snps</th><th style=\"text-align:center\">alleles</th><th style=\"text-align:center\" colspan=2>afr</th><th style=\"text-align:center\" colspan=2>afx</th><th style=\"text-align:center\" colspan=2>amr</th><th style=\"text-align:center\" colspan=2>eas</th><th style=\"text-align:center\" colspan=2>eur</th><th style=\"text-align:center\" colspan=2>sas</th><th style=\"text-align:center\" colspan=2>sax</th></tr></thead>\n",
       "<tr class=\"even\"><td style=\"text-align: right;\">353604</td><td style=\"text-align: right;\">136,092,061</td><td style=\"text-align: right;\">315,418</td><td style=\"text-align: right;\">4</td><td style=\"text-align: right;\">911</td><td style=\"text-align: right;\">2</td><td style=\"text-align: right;\">0.01</td><td style=\"text-align: right;\">31</td><td style=\"text-align: right;\">0.54</td><td style=\"text-align: right;\">205</td><td style=\"text-align: right;\">1.62</td><td style=\"text-align: right;\">0</td><td style=\"text-align: right;\">0.00</td><td style=\"text-align: right;\">524</td><td style=\"text-align: right;\">2.86</td><td style=\"text-align: right;\">71</td><td style=\"text-align: right;\">1.07</td><td style=\"text-align: right;\">78</td><td style=\"text-align: right;\">0.70</td></tr>\n",
       "</table>\n",
       "</p>\n",
       "<p>\n",
       "<b>4_911 series snps</b>\n",
       "</p><p>\n",
       "<table>\n",
       "<thead><tr><th style=\"text-align:center\">index</th><th style=\"text-align:center\">pos</th><th style=\"text-align:center\">id</th><th style=\"text-align:center\">niv</th><th style=\"text-align:center\">alleles</th><th style=\"text-align:center\" colspan=2>afr</th><th style=\"text-align:center\" colspan=2>afx</th><th style=\"text-align:center\" colspan=2>amr</th><th style=\"text-align:center\" colspan=2>eas</th><th style=\"text-align:center\" colspan=2>eur</th><th style=\"text-align:center\" colspan=2>sas</th><th style=\"text-align:center\" colspan=2>sax</th></tr></thead>\n",
       "<tr class=\"even\"><td style=\"text-align: right;\">876701</td><td style=\"text-align: right;\">136,092,061</td><td>rs1561277</td><td>1</td><td style=\"text-align: right;\">962</td><td style=\"text-align: right;\">2</td><td style=\"text-align: right;\">0.01</td><td style=\"text-align: right;\">32</td><td style=\"text-align: right;\">0.53</td><td style=\"text-align: right;\">207</td><td style=\"text-align: right;\">1.55</td><td style=\"text-align: right;\">0</td><td style=\"text-align: right;\">0.00</td><td style=\"text-align: right;\">534</td><td style=\"text-align: right;\">2.76</td><td style=\"text-align: right;\">85</td><td style=\"text-align: right;\">1.22</td><td style=\"text-align: right;\">102</td><td style=\"text-align: right;\">0.86</td></tr>\n",
       "<tr><td style=\"text-align: right;\">877683</td><td style=\"text-align: right;\">136,273,578</td><td>rs6735329</td><td>1</td><td style=\"text-align: right;\">938</td><td style=\"text-align: right;\">2</td><td style=\"text-align: right;\">0.01</td><td style=\"text-align: right;\">33</td><td style=\"text-align: right;\">0.56</td><td style=\"text-align: right;\">207</td><td style=\"text-align: right;\">1.59</td><td style=\"text-align: right;\">0</td><td style=\"text-align: right;\">0.00</td><td style=\"text-align: right;\">533</td><td style=\"text-align: right;\">2.83</td><td style=\"text-align: right;\">78</td><td style=\"text-align: right;\">1.14</td><td style=\"text-align: right;\">85</td><td style=\"text-align: right;\">0.74</td></tr>\n",
       "<tr class=\"even\"><td style=\"text-align: right;\">877903</td><td style=\"text-align: right;\">136,322,676</td><td>rs6759321</td><td>1</td><td style=\"text-align: right;\">968</td><td style=\"text-align: right;\">2</td><td style=\"text-align: right;\">0.01</td><td style=\"text-align: right;\">32</td><td style=\"text-align: right;\">0.53</td><td style=\"text-align: right;\">207</td><td style=\"text-align: right;\">1.54</td><td style=\"text-align: right;\">1</td><td style=\"text-align: right;\">0.01</td><td style=\"text-align: right;\">534</td><td style=\"text-align: right;\">2.75</td><td style=\"text-align: right;\">89</td><td style=\"text-align: right;\">1.26</td><td style=\"text-align: right;\">103</td><td style=\"text-align: right;\">0.87</td></tr>\n",
       "<tr><td style=\"text-align: right;\">878243</td><td style=\"text-align: right;\">136,407,479</td><td>rs1446585</td><td>1</td><td style=\"text-align: right;\">951</td><td style=\"text-align: right;\">2</td><td style=\"text-align: right;\">0.01</td><td style=\"text-align: right;\">34</td><td style=\"text-align: right;\">0.57</td><td style=\"text-align: right;\">209</td><td style=\"text-align: right;\">1.59</td><td style=\"text-align: right;\">0</td><td style=\"text-align: right;\">0.00</td><td style=\"text-align: right;\">542</td><td style=\"text-align: right;\">2.84</td><td style=\"text-align: right;\">79</td><td style=\"text-align: right;\">1.14</td><td style=\"text-align: right;\">85</td><td style=\"text-align: right;\">0.73</td></tr>\n",
       "</table>"
      ],
      "text/plain": [
       "<IPython.core.display.HTML object>"
      ]
     },
     "execution_count": 2,
     "metadata": {},
     "output_type": "execute_result"
    }
   ],
   "source": [
    "HTML(dm.series_html(dm.di_4_911))"
   ]
  },
  {
   "cell_type": "code",
   "execution_count": 3,
   "metadata": {
    "collapsed": false
   },
   "outputs": [
    {
     "data": {
      "text/html": [
       "<table>\n",
       "<thead><tr><th style=\"text-align:center\">index</th><th style=\"text-align:center\">first</th><th style=\"text-align:center\">length</th><th style=\"text-align:center\">snps</th><th style=\"text-align:center\" colspan=2>alleles</th><th style=\"text-align:center\" colspan=2>matches</th><th style=\"text-align:center\" colspan=2>afr</th><th style=\"text-align:center\" colspan=2>afx</th><th style=\"text-align:center\" colspan=2>amr</th><th style=\"text-align:center\" colspan=2>eas</th><th style=\"text-align:center\" colspan=2>eur</th><th style=\"text-align:center\" colspan=2>sas</th><th style=\"text-align:center\" colspan=2>sax</th></tr></thead>\n",
       "<tr class=\"even\"><td style=\"text-align: right;\">353921</td><td style=\"text-align: right;\">136,501,840</td><td style=\"text-align: right;\">53,819</td><td style=\"text-align: right;\">10</td><td style=\"text-align: right;\">2206</td><td style=\"text-align: right;\">0.41</td><td style=\"text-align: right;\">899</td><td style=\"text-align: right;\">0.99</td><td style=\"text-align: right;\">2</td><td style=\"text-align: right;\">0.01</td><td style=\"text-align: right;\">31</td><td style=\"text-align: right;\">0.55</td><td style=\"text-align: right;\">201</td><td style=\"text-align: right;\">1.61</td><td style=\"text-align: right;\">0</td><td style=\"text-align: right;\">0.00</td><td style=\"text-align: right;\">521</td><td style=\"text-align: right;\">2.88</td><td style=\"text-align: right;\">70</td><td style=\"text-align: right;\">1.07</td><td style=\"text-align: right;\">74</td><td style=\"text-align: right;\">0.67</td></tr>\n",
       "<tr><td style=\"text-align: right;\">354170</td><td style=\"text-align: right;\">136,682,274</td><td style=\"text-align: right;\">93,624</td><td style=\"text-align: right;\">7</td><td style=\"text-align: right;\">1868</td><td style=\"text-align: right;\">0.45</td><td style=\"text-align: right;\">838</td><td style=\"text-align: right;\">0.92</td><td style=\"text-align: right;\">2</td><td style=\"text-align: right;\">0.01</td><td style=\"text-align: right;\">31</td><td style=\"text-align: right;\">0.59</td><td style=\"text-align: right;\">180</td><td style=\"text-align: right;\">1.55</td><td style=\"text-align: right;\">0</td><td style=\"text-align: right;\">0.00</td><td style=\"text-align: right;\">509</td><td style=\"text-align: right;\">3.02</td><td style=\"text-align: right;\">60</td><td style=\"text-align: right;\">0.99</td><td style=\"text-align: right;\">56</td><td style=\"text-align: right;\">0.55</td></tr>\n",
       "<tr class=\"even\"><td style=\"text-align: right;\">354033</td><td style=\"text-align: right;\">136,588,031</td><td style=\"text-align: right;\">5,647</td><td style=\"text-align: right;\">7</td><td style=\"text-align: right;\">1760</td><td style=\"text-align: right;\">0.00</td><td style=\"text-align: right;\">4</td><td style=\"text-align: right;\">0.00</td><td style=\"text-align: right;\">0</td><td style=\"text-align: right;\">0.00</td><td style=\"text-align: right;\">0</td><td style=\"text-align: right;\">0.00</td><td style=\"text-align: right;\">0</td><td style=\"text-align: right;\">0.00</td><td style=\"text-align: right;\">0</td><td style=\"text-align: right;\">0.00</td><td style=\"text-align: right;\">2</td><td style=\"text-align: right;\">2.49</td><td style=\"text-align: right;\">0</td><td style=\"text-align: right;\">0.00</td><td style=\"text-align: right;\">2</td><td style=\"text-align: right;\">4.08</td></tr>\n",
       "<tr><td style=\"text-align: right;\">353462</td><td style=\"text-align: right;\">135,915,358</td><td style=\"text-align: right;\">79,721</td><td style=\"text-align: right;\">4</td><td style=\"text-align: right;\">1699</td><td style=\"text-align: right;\">0.54</td><td style=\"text-align: right;\">909</td><td style=\"text-align: right;\">1.00</td><td style=\"text-align: right;\">2</td><td style=\"text-align: right;\">0.01</td><td style=\"text-align: right;\">31</td><td style=\"text-align: right;\">0.54</td><td style=\"text-align: right;\">204</td><td style=\"text-align: right;\">1.62</td><td style=\"text-align: right;\">0</td><td style=\"text-align: right;\">0.00</td><td style=\"text-align: right;\">524</td><td style=\"text-align: right;\">2.87</td><td style=\"text-align: right;\">71</td><td style=\"text-align: right;\">1.07</td><td style=\"text-align: right;\">77</td><td style=\"text-align: right;\">0.69</td></tr>\n",
       "<tr class=\"even\"><td style=\"text-align: right;\">353240</td><td style=\"text-align: right;\">135,757,320</td><td style=\"text-align: right;\">20,184</td><td style=\"text-align: right;\">13</td><td style=\"text-align: right;\">1696</td><td style=\"text-align: right;\">0.00</td><td style=\"text-align: right;\">1</td><td style=\"text-align: right;\">0.00</td><td style=\"text-align: right;\">0</td><td style=\"text-align: right;\">0.00</td><td style=\"text-align: right;\">0</td><td style=\"text-align: right;\">0.00</td><td style=\"text-align: right;\">1</td><td style=\"text-align: right;\">7.22</td><td style=\"text-align: right;\">0</td><td style=\"text-align: right;\">0.00</td><td style=\"text-align: right;\">0</td><td style=\"text-align: right;\">0.00</td><td style=\"text-align: right;\">0</td><td style=\"text-align: right;\">0.00</td><td style=\"text-align: right;\">0</td><td style=\"text-align: right;\">0.00</td></tr>\n",
       "<tr><td style=\"text-align: right;\">353901</td><td style=\"text-align: right;\">136,494,186</td><td style=\"text-align: right;\">271,765</td><td style=\"text-align: right;\">64</td><td style=\"text-align: right;\">1575</td><td style=\"text-align: right;\">0.54</td><td style=\"text-align: right;\">843</td><td style=\"text-align: right;\">0.93</td><td style=\"text-align: right;\">2</td><td style=\"text-align: right;\">0.01</td><td style=\"text-align: right;\">31</td><td style=\"text-align: right;\">0.59</td><td style=\"text-align: right;\">185</td><td style=\"text-align: right;\">1.58</td><td style=\"text-align: right;\">0</td><td style=\"text-align: right;\">0.00</td><td style=\"text-align: right;\">509</td><td style=\"text-align: right;\">3.01</td><td style=\"text-align: right;\">59</td><td style=\"text-align: right;\">0.96</td><td style=\"text-align: right;\">57</td><td style=\"text-align: right;\">0.55</td></tr>\n",
       "<tr class=\"even\"><td style=\"text-align: right;\">354130</td><td style=\"text-align: right;\">136,653,925</td><td style=\"text-align: right;\">107,928</td><td style=\"text-align: right;\">24</td><td style=\"text-align: right;\">1504</td><td style=\"text-align: right;\">0.00</td><td style=\"text-align: right;\">5</td><td style=\"text-align: right;\">0.01</td><td style=\"text-align: right;\">0</td><td style=\"text-align: right;\">0.00</td><td style=\"text-align: right;\">0</td><td style=\"text-align: right;\">0.00</td><td style=\"text-align: right;\">1</td><td style=\"text-align: right;\">1.44</td><td style=\"text-align: right;\">0</td><td style=\"text-align: right;\">0.00</td><td style=\"text-align: right;\">2</td><td style=\"text-align: right;\">1.99</td><td style=\"text-align: right;\">0</td><td style=\"text-align: right;\">0.00</td><td style=\"text-align: right;\">2</td><td style=\"text-align: right;\">3.26</td></tr>\n",
       "<tr><td style=\"text-align: right;\">353283</td><td style=\"text-align: right;\">135,771,974</td><td style=\"text-align: right;\">368,330</td><td style=\"text-align: right;\">6</td><td style=\"text-align: right;\">1503</td><td style=\"text-align: right;\">0.61</td><td style=\"text-align: right;\">910</td><td style=\"text-align: right;\">1.00</td><td style=\"text-align: right;\">2</td><td style=\"text-align: right;\">0.01</td><td style=\"text-align: right;\">31</td><td style=\"text-align: right;\">0.54</td><td style=\"text-align: right;\">205</td><td style=\"text-align: right;\">1.63</td><td style=\"text-align: right;\">0</td><td style=\"text-align: right;\">0.00</td><td style=\"text-align: right;\">524</td><td style=\"text-align: right;\">2.87</td><td style=\"text-align: right;\">71</td><td style=\"text-align: right;\">1.07</td><td style=\"text-align: right;\">77</td><td style=\"text-align: right;\">0.69</td></tr>\n",
       "<tr class=\"even\"><td style=\"text-align: right;\">353925</td><td style=\"text-align: right;\">136,506,375</td><td style=\"text-align: right;\">32,564</td><td style=\"text-align: right;\">4</td><td style=\"text-align: right;\">1442</td><td style=\"text-align: right;\">0.00</td><td style=\"text-align: right;\">6</td><td style=\"text-align: right;\">0.01</td><td style=\"text-align: right;\">0</td><td style=\"text-align: right;\">0.00</td><td style=\"text-align: right;\">0</td><td style=\"text-align: right;\">0.00</td><td style=\"text-align: right;\">3</td><td style=\"text-align: right;\">3.61</td><td style=\"text-align: right;\">0</td><td style=\"text-align: right;\">0.00</td><td style=\"text-align: right;\">1</td><td style=\"text-align: right;\">0.83</td><td style=\"text-align: right;\">0</td><td style=\"text-align: right;\">0.00</td><td style=\"text-align: right;\">2</td><td style=\"text-align: right;\">2.72</td></tr>\n",
       "<tr><td style=\"text-align: right;\">353797</td><td style=\"text-align: right;\">136,398,174</td><td style=\"text-align: right;\">75,924</td><td style=\"text-align: right;\">26</td><td style=\"text-align: right;\">1414</td><td style=\"text-align: right;\">0.64</td><td style=\"text-align: right;\">911</td><td style=\"text-align: right;\">1.00</td><td style=\"text-align: right;\">2</td><td style=\"text-align: right;\">0.01</td><td style=\"text-align: right;\">31</td><td style=\"text-align: right;\">0.54</td><td style=\"text-align: right;\">205</td><td style=\"text-align: right;\">1.62</td><td style=\"text-align: right;\">0</td><td style=\"text-align: right;\">0.00</td><td style=\"text-align: right;\">524</td><td style=\"text-align: right;\">2.86</td><td style=\"text-align: right;\">71</td><td style=\"text-align: right;\">1.07</td><td style=\"text-align: right;\">78</td><td style=\"text-align: right;\">0.70</td></tr>\n",
       "<tr class=\"even\"><td style=\"text-align: right;\">353958</td><td style=\"text-align: right;\">136,535,876</td><td style=\"text-align: right;\">19,014</td><td style=\"text-align: right;\">7</td><td style=\"text-align: right;\">1303</td><td style=\"text-align: right;\">0.00</td><td style=\"text-align: right;\">3</td><td style=\"text-align: right;\">0.00</td><td style=\"text-align: right;\">0</td><td style=\"text-align: right;\">0.00</td><td style=\"text-align: right;\">0</td><td style=\"text-align: right;\">0.00</td><td style=\"text-align: right;\">0</td><td style=\"text-align: right;\">0.00</td><td style=\"text-align: right;\">0</td><td style=\"text-align: right;\">0.00</td><td style=\"text-align: right;\">1</td><td style=\"text-align: right;\">1.66</td><td style=\"text-align: right;\">0</td><td style=\"text-align: right;\">0.00</td><td style=\"text-align: right;\">2</td><td style=\"text-align: right;\">5.44</td></tr>\n",
       "<tr><td style=\"text-align: right;\">354129</td><td style=\"text-align: right;\">136,652,953</td><td style=\"text-align: right;\">108,222</td><td style=\"text-align: right;\">5</td><td style=\"text-align: right;\">1296</td><td style=\"text-align: right;\">0.00</td><td style=\"text-align: right;\">5</td><td style=\"text-align: right;\">0.01</td><td style=\"text-align: right;\">0</td><td style=\"text-align: right;\">0.00</td><td style=\"text-align: right;\">0</td><td style=\"text-align: right;\">0.00</td><td style=\"text-align: right;\">1</td><td style=\"text-align: right;\">1.44</td><td style=\"text-align: right;\">0</td><td style=\"text-align: right;\">0.00</td><td style=\"text-align: right;\">2</td><td style=\"text-align: right;\">1.99</td><td style=\"text-align: right;\">0</td><td style=\"text-align: right;\">0.00</td><td style=\"text-align: right;\">2</td><td style=\"text-align: right;\">3.26</td></tr>\n",
       "<tr class=\"even\"><td style=\"text-align: right;\">353919</td><td style=\"text-align: right;\">136,500,475</td><td style=\"text-align: right;\">42,085</td><td style=\"text-align: right;\">13</td><td style=\"text-align: right;\">1227</td><td style=\"text-align: right;\">0.00</td><td style=\"text-align: right;\">6</td><td style=\"text-align: right;\">0.01</td><td style=\"text-align: right;\">0</td><td style=\"text-align: right;\">0.00</td><td style=\"text-align: right;\">0</td><td style=\"text-align: right;\">0.00</td><td style=\"text-align: right;\">3</td><td style=\"text-align: right;\">3.61</td><td style=\"text-align: right;\">0</td><td style=\"text-align: right;\">0.00</td><td style=\"text-align: right;\">1</td><td style=\"text-align: right;\">0.83</td><td style=\"text-align: right;\">0</td><td style=\"text-align: right;\">0.00</td><td style=\"text-align: right;\">2</td><td style=\"text-align: right;\">2.72</td></tr>\n",
       "<tr><td style=\"text-align: right;\">353906</td><td style=\"text-align: right;\">136,496,493</td><td style=\"text-align: right;\">57,432</td><td style=\"text-align: right;\">9</td><td style=\"text-align: right;\">1170</td><td style=\"text-align: right;\">0.01</td><td style=\"text-align: right;\">7</td><td style=\"text-align: right;\">0.01</td><td style=\"text-align: right;\">0</td><td style=\"text-align: right;\">0.00</td><td style=\"text-align: right;\">0</td><td style=\"text-align: right;\">0.00</td><td style=\"text-align: right;\">4</td><td style=\"text-align: right;\">4.12</td><td style=\"text-align: right;\">0</td><td style=\"text-align: right;\">0.00</td><td style=\"text-align: right;\">0</td><td style=\"text-align: right;\">0.00</td><td style=\"text-align: right;\">1</td><td style=\"text-align: right;\">1.97</td><td style=\"text-align: right;\">2</td><td style=\"text-align: right;\">2.33</td></tr>\n",
       "<tr class=\"even\"><td style=\"text-align: right;\">354127</td><td style=\"text-align: right;\">136,652,491</td><td style=\"text-align: right;\">80,281</td><td style=\"text-align: right;\">6</td><td style=\"text-align: right;\">1114</td><td style=\"text-align: right;\">0.00</td><td style=\"text-align: right;\">5</td><td style=\"text-align: right;\">0.01</td><td style=\"text-align: right;\">0</td><td style=\"text-align: right;\">0.00</td><td style=\"text-align: right;\">0</td><td style=\"text-align: right;\">0.00</td><td style=\"text-align: right;\">1</td><td style=\"text-align: right;\">1.44</td><td style=\"text-align: right;\">0</td><td style=\"text-align: right;\">0.00</td><td style=\"text-align: right;\">2</td><td style=\"text-align: right;\">1.99</td><td style=\"text-align: right;\">0</td><td style=\"text-align: right;\">0.00</td><td style=\"text-align: right;\">2</td><td style=\"text-align: right;\">3.26</td></tr>\n",
       "<tr><td style=\"text-align: right;\">353907</td><td style=\"text-align: right;\">136,496,805</td><td style=\"text-align: right;\">55,824</td><td style=\"text-align: right;\">9</td><td style=\"text-align: right;\">1023</td><td style=\"text-align: right;\">0.01</td><td style=\"text-align: right;\">8</td><td style=\"text-align: right;\">0.01</td><td style=\"text-align: right;\">0</td><td style=\"text-align: right;\">0.00</td><td style=\"text-align: right;\">0</td><td style=\"text-align: right;\">0.00</td><td style=\"text-align: right;\">4</td><td style=\"text-align: right;\">3.61</td><td style=\"text-align: right;\">0</td><td style=\"text-align: right;\">0.00</td><td style=\"text-align: right;\">1</td><td style=\"text-align: right;\">0.62</td><td style=\"text-align: right;\">1</td><td style=\"text-align: right;\">1.72</td><td style=\"text-align: right;\">2</td><td style=\"text-align: right;\">2.04</td></tr>\n",
       "<tr class=\"even\"><td style=\"text-align: right;\">353984</td><td style=\"text-align: right;\">136,556,805</td><td style=\"text-align: right;\">190,280</td><td style=\"text-align: right;\">39</td><td style=\"text-align: right;\">1014</td><td style=\"text-align: right;\">0.01</td><td style=\"text-align: right;\">8</td><td style=\"text-align: right;\">0.01</td><td style=\"text-align: right;\">0</td><td style=\"text-align: right;\">0.00</td><td style=\"text-align: right;\">0</td><td style=\"text-align: right;\">0.00</td><td style=\"text-align: right;\">4</td><td style=\"text-align: right;\">3.61</td><td style=\"text-align: right;\">0</td><td style=\"text-align: right;\">0.00</td><td style=\"text-align: right;\">1</td><td style=\"text-align: right;\">0.62</td><td style=\"text-align: right;\">1</td><td style=\"text-align: right;\">1.72</td><td style=\"text-align: right;\">2</td><td style=\"text-align: right;\">2.04</td></tr>\n",
       "<tr><td style=\"text-align: right;\">353935</td><td style=\"text-align: right;\">136,511,874</td><td style=\"text-align: right;\">21,321</td><td style=\"text-align: right;\">5</td><td style=\"text-align: right;\">976</td><td style=\"text-align: right;\">0.01</td><td style=\"text-align: right;\">5</td><td style=\"text-align: right;\">0.01</td><td style=\"text-align: right;\">0</td><td style=\"text-align: right;\">0.00</td><td style=\"text-align: right;\">0</td><td style=\"text-align: right;\">0.00</td><td style=\"text-align: right;\">1</td><td style=\"text-align: right;\">1.44</td><td style=\"text-align: right;\">0</td><td style=\"text-align: right;\">0.00</td><td style=\"text-align: right;\">1</td><td style=\"text-align: right;\">1.00</td><td style=\"text-align: right;\">1</td><td style=\"text-align: right;\">2.75</td><td style=\"text-align: right;\">2</td><td style=\"text-align: right;\">3.26</td></tr>\n",
       "<tr class=\"even\"><td style=\"text-align: right;\">353604</td><td style=\"text-align: right;\">136,092,061</td><td style=\"text-align: right;\">315,418</td><td style=\"text-align: right;\">4</td><td style=\"text-align: right;\">911</td><td style=\"text-align: right;\">1.00</td><td style=\"text-align: right;\">911</td><td style=\"text-align: right;\">1.00</td><td style=\"text-align: right;\">2</td><td style=\"text-align: right;\">0.01</td><td style=\"text-align: right;\">31</td><td style=\"text-align: right;\">0.54</td><td style=\"text-align: right;\">205</td><td style=\"text-align: right;\">1.62</td><td style=\"text-align: right;\">0</td><td style=\"text-align: right;\">0.00</td><td style=\"text-align: right;\">524</td><td style=\"text-align: right;\">2.86</td><td style=\"text-align: right;\">71</td><td style=\"text-align: right;\">1.07</td><td style=\"text-align: right;\">78</td><td style=\"text-align: right;\">0.70</td></tr>\n",
       "<tr><td style=\"text-align: right;\">353902</td><td style=\"text-align: right;\">136,494,985</td><td style=\"text-align: right;\">278,653</td><td style=\"text-align: right;\">81</td><td style=\"text-align: right;\">857</td><td style=\"text-align: right;\">0.00</td><td style=\"text-align: right;\">3</td><td style=\"text-align: right;\">0.00</td><td style=\"text-align: right;\">0</td><td style=\"text-align: right;\">0.00</td><td style=\"text-align: right;\">0</td><td style=\"text-align: right;\">0.00</td><td style=\"text-align: right;\">0</td><td style=\"text-align: right;\">0.00</td><td style=\"text-align: right;\">0</td><td style=\"text-align: right;\">0.00</td><td style=\"text-align: right;\">1</td><td style=\"text-align: right;\">1.66</td><td style=\"text-align: right;\">0</td><td style=\"text-align: right;\">0.00</td><td style=\"text-align: right;\">2</td><td style=\"text-align: right;\">5.44</td></tr>\n",
       "<tr class=\"even\"><td style=\"text-align: right;\">353938</td><td style=\"text-align: right;\">136,514,709</td><td style=\"text-align: right;\">28,438</td><td style=\"text-align: right;\">6</td><td style=\"text-align: right;\">820</td><td style=\"text-align: right;\">0.01</td><td style=\"text-align: right;\">5</td><td style=\"text-align: right;\">0.01</td><td style=\"text-align: right;\">0</td><td style=\"text-align: right;\">0.00</td><td style=\"text-align: right;\">0</td><td style=\"text-align: right;\">0.00</td><td style=\"text-align: right;\">1</td><td style=\"text-align: right;\">1.44</td><td style=\"text-align: right;\">0</td><td style=\"text-align: right;\">0.00</td><td style=\"text-align: right;\">1</td><td style=\"text-align: right;\">1.00</td><td style=\"text-align: right;\">1</td><td style=\"text-align: right;\">2.75</td><td style=\"text-align: right;\">2</td><td style=\"text-align: right;\">3.26</td></tr>\n",
       "<tr><td style=\"text-align: right;\">353380</td><td style=\"text-align: right;\">135,837,906</td><td style=\"text-align: right;\">870,076</td><td style=\"text-align: right;\">11</td><td style=\"text-align: right;\">765</td><td style=\"text-align: right;\">1.00</td><td style=\"text-align: right;\">762</td><td style=\"text-align: right;\">0.84</td><td style=\"text-align: right;\">2</td><td style=\"text-align: right;\">0.01</td><td style=\"text-align: right;\">31</td><td style=\"text-align: right;\">0.65</td><td style=\"text-align: right;\">146</td><td style=\"text-align: right;\">1.38</td><td style=\"text-align: right;\">0</td><td style=\"text-align: right;\">0.00</td><td style=\"text-align: right;\">484</td><td style=\"text-align: right;\">3.16</td><td style=\"text-align: right;\">54</td><td style=\"text-align: right;\">0.97</td><td style=\"text-align: right;\">45</td><td style=\"text-align: right;\">0.48</td></tr>\n",
       "<tr class=\"even\"><td style=\"text-align: right;\">354064</td><td style=\"text-align: right;\">136,605,402</td><td style=\"text-align: right;\">19,284</td><td style=\"text-align: right;\">8</td><td style=\"text-align: right;\">328</td><td style=\"text-align: right;\">0.02</td><td style=\"text-align: right;\">5</td><td style=\"text-align: right;\">0.01</td><td style=\"text-align: right;\">0</td><td style=\"text-align: right;\">0.00</td><td style=\"text-align: right;\">0</td><td style=\"text-align: right;\">0.00</td><td style=\"text-align: right;\">1</td><td style=\"text-align: right;\">1.44</td><td style=\"text-align: right;\">0</td><td style=\"text-align: right;\">0.00</td><td style=\"text-align: right;\">4</td><td style=\"text-align: right;\">3.98</td><td style=\"text-align: right;\">0</td><td style=\"text-align: right;\">0.00</td><td style=\"text-align: right;\">0</td><td style=\"text-align: right;\">0.00</td></tr>\n",
       "<tr><td style=\"text-align: right;\">354051</td><td style=\"text-align: right;\">136,596,162</td><td style=\"text-align: right;\">189,567</td><td style=\"text-align: right;\">17</td><td style=\"text-align: right;\">137</td><td style=\"text-align: right;\">0.01</td><td style=\"text-align: right;\">2</td><td style=\"text-align: right;\">0.00</td><td style=\"text-align: right;\">0</td><td style=\"text-align: right;\">0.00</td><td style=\"text-align: right;\">0</td><td style=\"text-align: right;\">0.00</td><td style=\"text-align: right;\">0</td><td style=\"text-align: right;\">0.00</td><td style=\"text-align: right;\">0</td><td style=\"text-align: right;\">0.00</td><td style=\"text-align: right;\">2</td><td style=\"text-align: right;\">4.98</td><td style=\"text-align: right;\">0</td><td style=\"text-align: right;\">0.00</td><td style=\"text-align: right;\">0</td><td style=\"text-align: right;\">0.00</td></tr>\n",
       "<tr class=\"even\"><td style=\"text-align: right;\">353407</td><td style=\"text-align: right;\">135,859,157</td><td style=\"text-align: right;\">121,781</td><td style=\"text-align: right;\">6</td><td style=\"text-align: right;\">35</td><td style=\"text-align: right;\">0.03</td><td style=\"text-align: right;\">1</td><td style=\"text-align: right;\">0.00</td><td style=\"text-align: right;\">0</td><td style=\"text-align: right;\">0.00</td><td style=\"text-align: right;\">0</td><td style=\"text-align: right;\">0.00</td><td style=\"text-align: right;\">1</td><td style=\"text-align: right;\">7.22</td><td style=\"text-align: right;\">0</td><td style=\"text-align: right;\">0.00</td><td style=\"text-align: right;\">0</td><td style=\"text-align: right;\">0.00</td><td style=\"text-align: right;\">0</td><td style=\"text-align: right;\">0.00</td><td style=\"text-align: right;\">0</td><td style=\"text-align: right;\">0.00</td></tr>\n",
       "<tr><td style=\"text-align: right;\">354116</td><td style=\"text-align: right;\">136,648,736</td><td style=\"text-align: right;\">114,114</td><td style=\"text-align: right;\">4</td><td style=\"text-align: right;\">26</td><td style=\"text-align: right;\">0.04</td><td style=\"text-align: right;\">1</td><td style=\"text-align: right;\">0.00</td><td style=\"text-align: right;\">0</td><td style=\"text-align: right;\">0.00</td><td style=\"text-align: right;\">0</td><td style=\"text-align: right;\">0.00</td><td style=\"text-align: right;\">0</td><td style=\"text-align: right;\">0.00</td><td style=\"text-align: right;\">0</td><td style=\"text-align: right;\">0.00</td><td style=\"text-align: right;\">1</td><td style=\"text-align: right;\">4.98</td><td style=\"text-align: right;\">0</td><td style=\"text-align: right;\">0.00</td><td style=\"text-align: right;\">0</td><td style=\"text-align: right;\">0.00</td></tr>\n",
       "</table>"
      ],
      "text/plain": [
       "<IPython.core.display.HTML object>"
      ]
     },
     "execution_count": 3,
     "metadata": {},
     "output_type": "execute_result"
    }
   ],
   "source": [
    "plt_obj = dm.superset_yes_no([dm.di_4_911], min_match=0.001)\n",
    "plt_obj.do_plot()\n",
    "HTML(plt_obj.get_html())"
   ]
  },
  {
   "cell_type": "code",
   "execution_count": 4,
   "metadata": {
    "collapsed": false
   },
   "outputs": [
    {
     "data": {
      "text/plain": [
       "array([(0, 4001), (1, 37), (2, 39), (3, 20), (4, 911)], \n",
       "      dtype=[('count', '<u2'), ('snps', '<u2')])"
      ]
     },
     "execution_count": 4,
     "metadata": {},
     "output_type": "execute_result"
    }
   ],
   "source": [
    "count_data = sa_4_911.unique_snps_per_allele()\n",
    "count_data"
   ]
  },
  {
   "cell_type": "code",
   "execution_count": 5,
   "metadata": {
    "collapsed": false
   },
   "outputs": [
    {
     "data": {
      "text/html": [
       "<table>\n",
       "<thead><tr><th style=\"text-align:center\">index</th><th style=\"text-align:center\">first</th><th style=\"text-align:center\">length</th><th style=\"text-align:center\">snps</th><th style=\"text-align:center\" colspan=2>alleles</th><th style=\"text-align:center\" colspan=2>matches</th><th style=\"text-align:center\" colspan=2>afr</th><th style=\"text-align:center\" colspan=2>afx</th><th style=\"text-align:center\" colspan=2>amr</th><th style=\"text-align:center\" colspan=2>eas</th><th style=\"text-align:center\" colspan=2>eur</th><th style=\"text-align:center\" colspan=2>sas</th><th style=\"text-align:center\" colspan=2>sax</th></tr></thead>\n",
       "<tr class=\"even\"><td style=\"text-align: right;\">353921</td><td style=\"text-align: right;\">136,501,840</td><td style=\"text-align: right;\">53,819</td><td style=\"text-align: right;\">10</td><td style=\"text-align: right;\">2206</td><td style=\"text-align: right;\">0.06</td><td style=\"text-align: right;\">137</td><td style=\"text-align: right;\">0.92</td><td style=\"text-align: right;\">0</td><td style=\"text-align: right;\">0.00</td><td style=\"text-align: right;\">0</td><td style=\"text-align: right;\">0.00</td><td style=\"text-align: right;\">55</td><td style=\"text-align: right;\">3.11</td><td style=\"text-align: right;\">0</td><td style=\"text-align: right;\">0.00</td><td style=\"text-align: right;\">37</td><td style=\"text-align: right;\">2.20</td><td style=\"text-align: right;\">16</td><td style=\"text-align: right;\">1.61</td><td style=\"text-align: right;\">29</td><td style=\"text-align: right;\">1.58</td></tr>\n",
       "<tr><td style=\"text-align: right;\">354170</td><td style=\"text-align: right;\">136,682,274</td><td style=\"text-align: right;\">93,624</td><td style=\"text-align: right;\">7</td><td style=\"text-align: right;\">1868</td><td style=\"text-align: right;\">0.04</td><td style=\"text-align: right;\">77</td><td style=\"text-align: right;\">0.52</td><td style=\"text-align: right;\">0</td><td style=\"text-align: right;\">0.00</td><td style=\"text-align: right;\">0</td><td style=\"text-align: right;\">0.00</td><td style=\"text-align: right;\">34</td><td style=\"text-align: right;\">3.42</td><td style=\"text-align: right;\">0</td><td style=\"text-align: right;\">0.00</td><td style=\"text-align: right;\">25</td><td style=\"text-align: right;\">2.64</td><td style=\"text-align: right;\">6</td><td style=\"text-align: right;\">1.07</td><td style=\"text-align: right;\">12</td><td style=\"text-align: right;\">1.16</td></tr>\n",
       "<tr class=\"even\"><td style=\"text-align: right;\">354033</td><td style=\"text-align: right;\">136,588,031</td><td style=\"text-align: right;\">5,647</td><td style=\"text-align: right;\">7</td><td style=\"text-align: right;\">1760</td><td style=\"text-align: right;\">0.00</td><td style=\"text-align: right;\">4</td><td style=\"text-align: right;\">0.03</td><td style=\"text-align: right;\">0</td><td style=\"text-align: right;\">0.00</td><td style=\"text-align: right;\">0</td><td style=\"text-align: right;\">0.00</td><td style=\"text-align: right;\">0</td><td style=\"text-align: right;\">0.00</td><td style=\"text-align: right;\">0</td><td style=\"text-align: right;\">0.00</td><td style=\"text-align: right;\">2</td><td style=\"text-align: right;\">4.06</td><td style=\"text-align: right;\">0</td><td style=\"text-align: right;\">0.00</td><td style=\"text-align: right;\">2</td><td style=\"text-align: right;\">3.73</td></tr>\n",
       "<tr><td style=\"text-align: right;\">353462</td><td style=\"text-align: right;\">135,915,358</td><td style=\"text-align: right;\">79,721</td><td style=\"text-align: right;\">4</td><td style=\"text-align: right;\">1699</td><td style=\"text-align: right;\">0.09</td><td style=\"text-align: right;\">147</td><td style=\"text-align: right;\">0.99</td><td style=\"text-align: right;\">0</td><td style=\"text-align: right;\">0.00</td><td style=\"text-align: right;\">0</td><td style=\"text-align: right;\">0.00</td><td style=\"text-align: right;\">58</td><td style=\"text-align: right;\">3.05</td><td style=\"text-align: right;\">0</td><td style=\"text-align: right;\">0.00</td><td style=\"text-align: right;\">40</td><td style=\"text-align: right;\">2.21</td><td style=\"text-align: right;\">17</td><td style=\"text-align: right;\">1.59</td><td style=\"text-align: right;\">32</td><td style=\"text-align: right;\">1.62</td></tr>\n",
       "<tr class=\"even\"><td style=\"text-align: right;\">353901</td><td style=\"text-align: right;\">136,494,186</td><td style=\"text-align: right;\">271,765</td><td style=\"text-align: right;\">64</td><td style=\"text-align: right;\">1575</td><td style=\"text-align: right;\">0.05</td><td style=\"text-align: right;\">81</td><td style=\"text-align: right;\">0.54</td><td style=\"text-align: right;\">0</td><td style=\"text-align: right;\">0.00</td><td style=\"text-align: right;\">0</td><td style=\"text-align: right;\">0.00</td><td style=\"text-align: right;\">39</td><td style=\"text-align: right;\">3.73</td><td style=\"text-align: right;\">0</td><td style=\"text-align: right;\">0.00</td><td style=\"text-align: right;\">25</td><td style=\"text-align: right;\">2.51</td><td style=\"text-align: right;\">5</td><td style=\"text-align: right;\">0.85</td><td style=\"text-align: right;\">12</td><td style=\"text-align: right;\">1.10</td></tr>\n",
       "<tr><td style=\"text-align: right;\">354130</td><td style=\"text-align: right;\">136,653,925</td><td style=\"text-align: right;\">107,928</td><td style=\"text-align: right;\">24</td><td style=\"text-align: right;\">1504</td><td style=\"text-align: right;\">0.00</td><td style=\"text-align: right;\">5</td><td style=\"text-align: right;\">0.03</td><td style=\"text-align: right;\">0</td><td style=\"text-align: right;\">0.00</td><td style=\"text-align: right;\">0</td><td style=\"text-align: right;\">0.00</td><td style=\"text-align: right;\">1</td><td style=\"text-align: right;\">1.55</td><td style=\"text-align: right;\">0</td><td style=\"text-align: right;\">0.00</td><td style=\"text-align: right;\">2</td><td style=\"text-align: right;\">3.25</td><td style=\"text-align: right;\">0</td><td style=\"text-align: right;\">0.00</td><td style=\"text-align: right;\">2</td><td style=\"text-align: right;\">2.98</td></tr>\n",
       "<tr class=\"even\"><td style=\"text-align: right;\">353283</td><td style=\"text-align: right;\">135,771,974</td><td style=\"text-align: right;\">368,330</td><td style=\"text-align: right;\">6</td><td style=\"text-align: right;\">1503</td><td style=\"text-align: right;\">0.10</td><td style=\"text-align: right;\">148</td><td style=\"text-align: right;\">0.99</td><td style=\"text-align: right;\">0</td><td style=\"text-align: right;\">0.00</td><td style=\"text-align: right;\">0</td><td style=\"text-align: right;\">0.00</td><td style=\"text-align: right;\">59</td><td style=\"text-align: right;\">3.09</td><td style=\"text-align: right;\">0</td><td style=\"text-align: right;\">0.00</td><td style=\"text-align: right;\">40</td><td style=\"text-align: right;\">2.20</td><td style=\"text-align: right;\">17</td><td style=\"text-align: right;\">1.58</td><td style=\"text-align: right;\">32</td><td style=\"text-align: right;\">1.61</td></tr>\n",
       "<tr><td style=\"text-align: right;\">353925</td><td style=\"text-align: right;\">136,506,375</td><td style=\"text-align: right;\">32,564</td><td style=\"text-align: right;\">4</td><td style=\"text-align: right;\">1442</td><td style=\"text-align: right;\">0.00</td><td style=\"text-align: right;\">6</td><td style=\"text-align: right;\">0.04</td><td style=\"text-align: right;\">0</td><td style=\"text-align: right;\">0.00</td><td style=\"text-align: right;\">0</td><td style=\"text-align: right;\">0.00</td><td style=\"text-align: right;\">3</td><td style=\"text-align: right;\">3.87</td><td style=\"text-align: right;\">0</td><td style=\"text-align: right;\">0.00</td><td style=\"text-align: right;\">1</td><td style=\"text-align: right;\">1.35</td><td style=\"text-align: right;\">0</td><td style=\"text-align: right;\">0.00</td><td style=\"text-align: right;\">2</td><td style=\"text-align: right;\">2.49</td></tr>\n",
       "<tr class=\"even\"><td style=\"text-align: right;\">353797</td><td style=\"text-align: right;\">136,398,174</td><td style=\"text-align: right;\">75,924</td><td style=\"text-align: right;\">26</td><td style=\"text-align: right;\">1414</td><td style=\"text-align: right;\">0.11</td><td style=\"text-align: right;\">149</td><td style=\"text-align: right;\">1.00</td><td style=\"text-align: right;\">0</td><td style=\"text-align: right;\">0.00</td><td style=\"text-align: right;\">0</td><td style=\"text-align: right;\">0.00</td><td style=\"text-align: right;\">59</td><td style=\"text-align: right;\">3.07</td><td style=\"text-align: right;\">0</td><td style=\"text-align: right;\">0.00</td><td style=\"text-align: right;\">40</td><td style=\"text-align: right;\">2.18</td><td style=\"text-align: right;\">17</td><td style=\"text-align: right;\">1.57</td><td style=\"text-align: right;\">33</td><td style=\"text-align: right;\">1.65</td></tr>\n",
       "<tr><td style=\"text-align: right;\">353958</td><td style=\"text-align: right;\">136,535,876</td><td style=\"text-align: right;\">19,014</td><td style=\"text-align: right;\">7</td><td style=\"text-align: right;\">1303</td><td style=\"text-align: right;\">0.00</td><td style=\"text-align: right;\">3</td><td style=\"text-align: right;\">0.02</td><td style=\"text-align: right;\">0</td><td style=\"text-align: right;\">0.00</td><td style=\"text-align: right;\">0</td><td style=\"text-align: right;\">0.00</td><td style=\"text-align: right;\">0</td><td style=\"text-align: right;\">0.00</td><td style=\"text-align: right;\">0</td><td style=\"text-align: right;\">0.00</td><td style=\"text-align: right;\">1</td><td style=\"text-align: right;\">2.71</td><td style=\"text-align: right;\">0</td><td style=\"text-align: right;\">0.00</td><td style=\"text-align: right;\">2</td><td style=\"text-align: right;\">4.97</td></tr>\n",
       "<tr class=\"even\"><td style=\"text-align: right;\">354129</td><td style=\"text-align: right;\">136,652,953</td><td style=\"text-align: right;\">108,222</td><td style=\"text-align: right;\">5</td><td style=\"text-align: right;\">1296</td><td style=\"text-align: right;\">0.00</td><td style=\"text-align: right;\">5</td><td style=\"text-align: right;\">0.03</td><td style=\"text-align: right;\">0</td><td style=\"text-align: right;\">0.00</td><td style=\"text-align: right;\">0</td><td style=\"text-align: right;\">0.00</td><td style=\"text-align: right;\">1</td><td style=\"text-align: right;\">1.55</td><td style=\"text-align: right;\">0</td><td style=\"text-align: right;\">0.00</td><td style=\"text-align: right;\">2</td><td style=\"text-align: right;\">3.25</td><td style=\"text-align: right;\">0</td><td style=\"text-align: right;\">0.00</td><td style=\"text-align: right;\">2</td><td style=\"text-align: right;\">2.98</td></tr>\n",
       "<tr><td style=\"text-align: right;\">353919</td><td style=\"text-align: right;\">136,500,475</td><td style=\"text-align: right;\">42,085</td><td style=\"text-align: right;\">13</td><td style=\"text-align: right;\">1227</td><td style=\"text-align: right;\">0.00</td><td style=\"text-align: right;\">6</td><td style=\"text-align: right;\">0.04</td><td style=\"text-align: right;\">0</td><td style=\"text-align: right;\">0.00</td><td style=\"text-align: right;\">0</td><td style=\"text-align: right;\">0.00</td><td style=\"text-align: right;\">3</td><td style=\"text-align: right;\">3.87</td><td style=\"text-align: right;\">0</td><td style=\"text-align: right;\">0.00</td><td style=\"text-align: right;\">1</td><td style=\"text-align: right;\">1.35</td><td style=\"text-align: right;\">0</td><td style=\"text-align: right;\">0.00</td><td style=\"text-align: right;\">2</td><td style=\"text-align: right;\">2.49</td></tr>\n",
       "<tr class=\"even\"><td style=\"text-align: right;\">353906</td><td style=\"text-align: right;\">136,496,493</td><td style=\"text-align: right;\">57,432</td><td style=\"text-align: right;\">9</td><td style=\"text-align: right;\">1170</td><td style=\"text-align: right;\">0.01</td><td style=\"text-align: right;\">7</td><td style=\"text-align: right;\">0.05</td><td style=\"text-align: right;\">0</td><td style=\"text-align: right;\">0.00</td><td style=\"text-align: right;\">0</td><td style=\"text-align: right;\">0.00</td><td style=\"text-align: right;\">4</td><td style=\"text-align: right;\">4.42</td><td style=\"text-align: right;\">0</td><td style=\"text-align: right;\">0.00</td><td style=\"text-align: right;\">0</td><td style=\"text-align: right;\">0.00</td><td style=\"text-align: right;\">1</td><td style=\"text-align: right;\">1.97</td><td style=\"text-align: right;\">2</td><td style=\"text-align: right;\">2.13</td></tr>\n",
       "<tr><td style=\"text-align: right;\">354127</td><td style=\"text-align: right;\">136,652,491</td><td style=\"text-align: right;\">80,281</td><td style=\"text-align: right;\">6</td><td style=\"text-align: right;\">1114</td><td style=\"text-align: right;\">0.00</td><td style=\"text-align: right;\">5</td><td style=\"text-align: right;\">0.03</td><td style=\"text-align: right;\">0</td><td style=\"text-align: right;\">0.00</td><td style=\"text-align: right;\">0</td><td style=\"text-align: right;\">0.00</td><td style=\"text-align: right;\">1</td><td style=\"text-align: right;\">1.55</td><td style=\"text-align: right;\">0</td><td style=\"text-align: right;\">0.00</td><td style=\"text-align: right;\">2</td><td style=\"text-align: right;\">3.25</td><td style=\"text-align: right;\">0</td><td style=\"text-align: right;\">0.00</td><td style=\"text-align: right;\">2</td><td style=\"text-align: right;\">2.98</td></tr>\n",
       "<tr class=\"even\"><td style=\"text-align: right;\">353907</td><td style=\"text-align: right;\">136,496,805</td><td style=\"text-align: right;\">55,824</td><td style=\"text-align: right;\">9</td><td style=\"text-align: right;\">1023</td><td style=\"text-align: right;\">0.01</td><td style=\"text-align: right;\">8</td><td style=\"text-align: right;\">0.05</td><td style=\"text-align: right;\">0</td><td style=\"text-align: right;\">0.00</td><td style=\"text-align: right;\">0</td><td style=\"text-align: right;\">0.00</td><td style=\"text-align: right;\">4</td><td style=\"text-align: right;\">3.87</td><td style=\"text-align: right;\">0</td><td style=\"text-align: right;\">0.00</td><td style=\"text-align: right;\">1</td><td style=\"text-align: right;\">1.02</td><td style=\"text-align: right;\">1</td><td style=\"text-align: right;\">1.72</td><td style=\"text-align: right;\">2</td><td style=\"text-align: right;\">1.86</td></tr>\n",
       "<tr><td style=\"text-align: right;\">353984</td><td style=\"text-align: right;\">136,556,805</td><td style=\"text-align: right;\">190,280</td><td style=\"text-align: right;\">39</td><td style=\"text-align: right;\">1014</td><td style=\"text-align: right;\">0.01</td><td style=\"text-align: right;\">8</td><td style=\"text-align: right;\">0.05</td><td style=\"text-align: right;\">0</td><td style=\"text-align: right;\">0.00</td><td style=\"text-align: right;\">0</td><td style=\"text-align: right;\">0.00</td><td style=\"text-align: right;\">4</td><td style=\"text-align: right;\">3.87</td><td style=\"text-align: right;\">0</td><td style=\"text-align: right;\">0.00</td><td style=\"text-align: right;\">1</td><td style=\"text-align: right;\">1.02</td><td style=\"text-align: right;\">1</td><td style=\"text-align: right;\">1.72</td><td style=\"text-align: right;\">2</td><td style=\"text-align: right;\">1.86</td></tr>\n",
       "<tr class=\"even\"><td style=\"text-align: right;\">353935</td><td style=\"text-align: right;\">136,511,874</td><td style=\"text-align: right;\">21,321</td><td style=\"text-align: right;\">5</td><td style=\"text-align: right;\">976</td><td style=\"text-align: right;\">0.01</td><td style=\"text-align: right;\">5</td><td style=\"text-align: right;\">0.03</td><td style=\"text-align: right;\">0</td><td style=\"text-align: right;\">0.00</td><td style=\"text-align: right;\">0</td><td style=\"text-align: right;\">0.00</td><td style=\"text-align: right;\">1</td><td style=\"text-align: right;\">1.55</td><td style=\"text-align: right;\">0</td><td style=\"text-align: right;\">0.00</td><td style=\"text-align: right;\">1</td><td style=\"text-align: right;\">1.63</td><td style=\"text-align: right;\">1</td><td style=\"text-align: right;\">2.76</td><td style=\"text-align: right;\">2</td><td style=\"text-align: right;\">2.98</td></tr>\n",
       "<tr><td style=\"text-align: right;\">353604</td><td style=\"text-align: right;\">136,092,061</td><td style=\"text-align: right;\">315,418</td><td style=\"text-align: right;\">4</td><td style=\"text-align: right;\">911</td><td style=\"text-align: right;\">0.16</td><td style=\"text-align: right;\">149</td><td style=\"text-align: right;\">1.00</td><td style=\"text-align: right;\">0</td><td style=\"text-align: right;\">0.00</td><td style=\"text-align: right;\">0</td><td style=\"text-align: right;\">0.00</td><td style=\"text-align: right;\">59</td><td style=\"text-align: right;\">3.07</td><td style=\"text-align: right;\">0</td><td style=\"text-align: right;\">0.00</td><td style=\"text-align: right;\">40</td><td style=\"text-align: right;\">2.18</td><td style=\"text-align: right;\">17</td><td style=\"text-align: right;\">1.57</td><td style=\"text-align: right;\">33</td><td style=\"text-align: right;\">1.65</td></tr>\n",
       "<tr class=\"even\"><td style=\"text-align: right;\">353902</td><td style=\"text-align: right;\">136,494,985</td><td style=\"text-align: right;\">278,653</td><td style=\"text-align: right;\">81</td><td style=\"text-align: right;\">857</td><td style=\"text-align: right;\">0.00</td><td style=\"text-align: right;\">3</td><td style=\"text-align: right;\">0.02</td><td style=\"text-align: right;\">0</td><td style=\"text-align: right;\">0.00</td><td style=\"text-align: right;\">0</td><td style=\"text-align: right;\">0.00</td><td style=\"text-align: right;\">0</td><td style=\"text-align: right;\">0.00</td><td style=\"text-align: right;\">0</td><td style=\"text-align: right;\">0.00</td><td style=\"text-align: right;\">1</td><td style=\"text-align: right;\">2.71</td><td style=\"text-align: right;\">0</td><td style=\"text-align: right;\">0.00</td><td style=\"text-align: right;\">2</td><td style=\"text-align: right;\">4.97</td></tr>\n",
       "<tr><td style=\"text-align: right;\">353938</td><td style=\"text-align: right;\">136,514,709</td><td style=\"text-align: right;\">28,438</td><td style=\"text-align: right;\">6</td><td style=\"text-align: right;\">820</td><td style=\"text-align: right;\">0.01</td><td style=\"text-align: right;\">5</td><td style=\"text-align: right;\">0.03</td><td style=\"text-align: right;\">0</td><td style=\"text-align: right;\">0.00</td><td style=\"text-align: right;\">0</td><td style=\"text-align: right;\">0.00</td><td style=\"text-align: right;\">1</td><td style=\"text-align: right;\">1.55</td><td style=\"text-align: right;\">0</td><td style=\"text-align: right;\">0.00</td><td style=\"text-align: right;\">1</td><td style=\"text-align: right;\">1.63</td><td style=\"text-align: right;\">1</td><td style=\"text-align: right;\">2.76</td><td style=\"text-align: right;\">2</td><td style=\"text-align: right;\">2.98</td></tr>\n",
       "<tr class=\"even\"><td style=\"text-align: right;\">354064</td><td style=\"text-align: right;\">136,605,402</td><td style=\"text-align: right;\">19,284</td><td style=\"text-align: right;\">8</td><td style=\"text-align: right;\">328</td><td style=\"text-align: right;\">0.02</td><td style=\"text-align: right;\">5</td><td style=\"text-align: right;\">0.03</td><td style=\"text-align: right;\">0</td><td style=\"text-align: right;\">0.00</td><td style=\"text-align: right;\">0</td><td style=\"text-align: right;\">0.00</td><td style=\"text-align: right;\">1</td><td style=\"text-align: right;\">1.55</td><td style=\"text-align: right;\">0</td><td style=\"text-align: right;\">0.00</td><td style=\"text-align: right;\">4</td><td style=\"text-align: right;\">6.50</td><td style=\"text-align: right;\">0</td><td style=\"text-align: right;\">0.00</td><td style=\"text-align: right;\">0</td><td style=\"text-align: right;\">0.00</td></tr>\n",
       "<tr><td style=\"text-align: right;\">354051</td><td style=\"text-align: right;\">136,596,162</td><td style=\"text-align: right;\">189,567</td><td style=\"text-align: right;\">17</td><td style=\"text-align: right;\">137</td><td style=\"text-align: right;\">0.01</td><td style=\"text-align: right;\">2</td><td style=\"text-align: right;\">0.01</td><td style=\"text-align: right;\">0</td><td style=\"text-align: right;\">0.00</td><td style=\"text-align: right;\">0</td><td style=\"text-align: right;\">0.00</td><td style=\"text-align: right;\">0</td><td style=\"text-align: right;\">0.00</td><td style=\"text-align: right;\">0</td><td style=\"text-align: right;\">0.00</td><td style=\"text-align: right;\">2</td><td style=\"text-align: right;\">8.13</td><td style=\"text-align: right;\">0</td><td style=\"text-align: right;\">0.00</td><td style=\"text-align: right;\">0</td><td style=\"text-align: right;\">0.00</td></tr>\n",
       "<tr class=\"even\"><td style=\"text-align: right;\">353407</td><td style=\"text-align: right;\">135,859,157</td><td style=\"text-align: right;\">121,781</td><td style=\"text-align: right;\">6</td><td style=\"text-align: right;\">35</td><td style=\"text-align: right;\">0.03</td><td style=\"text-align: right;\">1</td><td style=\"text-align: right;\">0.01</td><td style=\"text-align: right;\">0</td><td style=\"text-align: right;\">0.00</td><td style=\"text-align: right;\">0</td><td style=\"text-align: right;\">0.00</td><td style=\"text-align: right;\">1</td><td style=\"text-align: right;\">7.74</td><td style=\"text-align: right;\">0</td><td style=\"text-align: right;\">0.00</td><td style=\"text-align: right;\">0</td><td style=\"text-align: right;\">0.00</td><td style=\"text-align: right;\">0</td><td style=\"text-align: right;\">0.00</td><td style=\"text-align: right;\">0</td><td style=\"text-align: right;\">0.00</td></tr>\n",
       "<tr><td style=\"text-align: right;\">354116</td><td style=\"text-align: right;\">136,648,736</td><td style=\"text-align: right;\">114,114</td><td style=\"text-align: right;\">4</td><td style=\"text-align: right;\">26</td><td style=\"text-align: right;\">0.04</td><td style=\"text-align: right;\">1</td><td style=\"text-align: right;\">0.01</td><td style=\"text-align: right;\">0</td><td style=\"text-align: right;\">0.00</td><td style=\"text-align: right;\">0</td><td style=\"text-align: right;\">0.00</td><td style=\"text-align: right;\">0</td><td style=\"text-align: right;\">0.00</td><td style=\"text-align: right;\">0</td><td style=\"text-align: right;\">0.00</td><td style=\"text-align: right;\">1</td><td style=\"text-align: right;\">8.13</td><td style=\"text-align: right;\">0</td><td style=\"text-align: right;\">0.00</td><td style=\"text-align: right;\">0</td><td style=\"text-align: right;\">0.00</td></tr>\n",
       "</table>"
      ],
      "text/plain": [
       "<IPython.core.display.HTML object>"
      ]
     },
     "execution_count": 5,
     "metadata": {},
     "output_type": "execute_result"
    }
   ],
   "source": [
    "plt_obj = dm.superset_yes_no([dm.di_4_911], [dm.di_11_765], min_match=0.001)\n",
    "plt_obj.do_plot()\n",
    "HTML(plt_obj.get_html())"
   ]
  },
  {
   "cell_type": "code",
   "execution_count": 6,
   "metadata": {
    "collapsed": false
   },
   "outputs": [
    {
     "data": {
      "text/html": [
       "<table>\n",
       "<thead><tr><th style=\"text-align:center\">index</th><th style=\"text-align:center\">first</th><th style=\"text-align:center\">length</th><th style=\"text-align:center\">snps</th><th style=\"text-align:center\" colspan=2>alleles</th><th style=\"text-align:center\" colspan=2>matches</th><th style=\"text-align:center\" colspan=2>afr</th><th style=\"text-align:center\" colspan=2>afx</th><th style=\"text-align:center\" colspan=2>amr</th><th style=\"text-align:center\" colspan=2>eas</th><th style=\"text-align:center\" colspan=2>eur</th><th style=\"text-align:center\" colspan=2>sas</th><th style=\"text-align:center\" colspan=2>sax</th></tr></thead>\n",
       "<tr class=\"even\"><td style=\"text-align: right;\">353921</td><td style=\"text-align: right;\">136,501,840</td><td style=\"text-align: right;\">53,819</td><td style=\"text-align: right;\">10</td><td style=\"text-align: right;\">2206</td><td style=\"text-align: right;\">0.04</td><td style=\"text-align: right;\">80</td><td style=\"text-align: right;\">0.99</td><td style=\"text-align: right;\">0</td><td style=\"text-align: right;\">0.00</td><td style=\"text-align: right;\">0</td><td style=\"text-align: right;\">0.00</td><td style=\"text-align: right;\">39</td><td style=\"text-align: right;\">3.77</td><td style=\"text-align: right;\">0</td><td style=\"text-align: right;\">0.00</td><td style=\"text-align: right;\">24</td><td style=\"text-align: right;\">2.44</td><td style=\"text-align: right;\">5</td><td style=\"text-align: right;\">0.86</td><td style=\"text-align: right;\">12</td><td style=\"text-align: right;\">1.12</td></tr>\n",
       "<tr><td style=\"text-align: right;\">354170</td><td style=\"text-align: right;\">136,682,274</td><td style=\"text-align: right;\">93,624</td><td style=\"text-align: right;\">7</td><td style=\"text-align: right;\">1868</td><td style=\"text-align: right;\">0.04</td><td style=\"text-align: right;\">76</td><td style=\"text-align: right;\">0.94</td><td style=\"text-align: right;\">0</td><td style=\"text-align: right;\">0.00</td><td style=\"text-align: right;\">0</td><td style=\"text-align: right;\">0.00</td><td style=\"text-align: right;\">34</td><td style=\"text-align: right;\">3.46</td><td style=\"text-align: right;\">0</td><td style=\"text-align: right;\">0.00</td><td style=\"text-align: right;\">25</td><td style=\"text-align: right;\">2.67</td><td style=\"text-align: right;\">5</td><td style=\"text-align: right;\">0.91</td><td style=\"text-align: right;\">12</td><td style=\"text-align: right;\">1.18</td></tr>\n",
       "<tr class=\"even\"><td style=\"text-align: right;\">353462</td><td style=\"text-align: right;\">135,915,358</td><td style=\"text-align: right;\">79,721</td><td style=\"text-align: right;\">4</td><td style=\"text-align: right;\">1699</td><td style=\"text-align: right;\">0.05</td><td style=\"text-align: right;\">79</td><td style=\"text-align: right;\">0.98</td><td style=\"text-align: right;\">0</td><td style=\"text-align: right;\">0.00</td><td style=\"text-align: right;\">0</td><td style=\"text-align: right;\">0.00</td><td style=\"text-align: right;\">38</td><td style=\"text-align: right;\">3.72</td><td style=\"text-align: right;\">0</td><td style=\"text-align: right;\">0.00</td><td style=\"text-align: right;\">25</td><td style=\"text-align: right;\">2.57</td><td style=\"text-align: right;\">5</td><td style=\"text-align: right;\">0.87</td><td style=\"text-align: right;\">11</td><td style=\"text-align: right;\">1.04</td></tr>\n",
       "<tr><td style=\"text-align: right;\">353901</td><td style=\"text-align: right;\">136,494,186</td><td style=\"text-align: right;\">271,765</td><td style=\"text-align: right;\">64</td><td style=\"text-align: right;\">1575</td><td style=\"text-align: right;\">0.05</td><td style=\"text-align: right;\">81</td><td style=\"text-align: right;\">1.00</td><td style=\"text-align: right;\">0</td><td style=\"text-align: right;\">0.00</td><td style=\"text-align: right;\">0</td><td style=\"text-align: right;\">0.00</td><td style=\"text-align: right;\">39</td><td style=\"text-align: right;\">3.73</td><td style=\"text-align: right;\">0</td><td style=\"text-align: right;\">0.00</td><td style=\"text-align: right;\">25</td><td style=\"text-align: right;\">2.51</td><td style=\"text-align: right;\">5</td><td style=\"text-align: right;\">0.85</td><td style=\"text-align: right;\">12</td><td style=\"text-align: right;\">1.10</td></tr>\n",
       "<tr class=\"even\"><td style=\"text-align: right;\">353283</td><td style=\"text-align: right;\">135,771,974</td><td style=\"text-align: right;\">368,330</td><td style=\"text-align: right;\">6</td><td style=\"text-align: right;\">1503</td><td style=\"text-align: right;\">0.05</td><td style=\"text-align: right;\">80</td><td style=\"text-align: right;\">0.99</td><td style=\"text-align: right;\">0</td><td style=\"text-align: right;\">0.00</td><td style=\"text-align: right;\">0</td><td style=\"text-align: right;\">0.00</td><td style=\"text-align: right;\">39</td><td style=\"text-align: right;\">3.77</td><td style=\"text-align: right;\">0</td><td style=\"text-align: right;\">0.00</td><td style=\"text-align: right;\">25</td><td style=\"text-align: right;\">2.54</td><td style=\"text-align: right;\">5</td><td style=\"text-align: right;\">0.86</td><td style=\"text-align: right;\">11</td><td style=\"text-align: right;\">1.03</td></tr>\n",
       "<tr><td style=\"text-align: right;\">353797</td><td style=\"text-align: right;\">136,398,174</td><td style=\"text-align: right;\">75,924</td><td style=\"text-align: right;\">26</td><td style=\"text-align: right;\">1414</td><td style=\"text-align: right;\">0.06</td><td style=\"text-align: right;\">81</td><td style=\"text-align: right;\">1.00</td><td style=\"text-align: right;\">0</td><td style=\"text-align: right;\">0.00</td><td style=\"text-align: right;\">0</td><td style=\"text-align: right;\">0.00</td><td style=\"text-align: right;\">39</td><td style=\"text-align: right;\">3.73</td><td style=\"text-align: right;\">0</td><td style=\"text-align: right;\">0.00</td><td style=\"text-align: right;\">25</td><td style=\"text-align: right;\">2.51</td><td style=\"text-align: right;\">5</td><td style=\"text-align: right;\">0.85</td><td style=\"text-align: right;\">12</td><td style=\"text-align: right;\">1.10</td></tr>\n",
       "<tr class=\"even\"><td style=\"text-align: right;\">353604</td><td style=\"text-align: right;\">136,092,061</td><td style=\"text-align: right;\">315,418</td><td style=\"text-align: right;\">4</td><td style=\"text-align: right;\">911</td><td style=\"text-align: right;\">0.09</td><td style=\"text-align: right;\">81</td><td style=\"text-align: right;\">1.00</td><td style=\"text-align: right;\">0</td><td style=\"text-align: right;\">0.00</td><td style=\"text-align: right;\">0</td><td style=\"text-align: right;\">0.00</td><td style=\"text-align: right;\">39</td><td style=\"text-align: right;\">3.73</td><td style=\"text-align: right;\">0</td><td style=\"text-align: right;\">0.00</td><td style=\"text-align: right;\">25</td><td style=\"text-align: right;\">2.51</td><td style=\"text-align: right;\">5</td><td style=\"text-align: right;\">0.85</td><td style=\"text-align: right;\">12</td><td style=\"text-align: right;\">1.10</td></tr>\n",
       "<tr><td style=\"text-align: right;\">353407</td><td style=\"text-align: right;\">135,859,157</td><td style=\"text-align: right;\">121,781</td><td style=\"text-align: right;\">6</td><td style=\"text-align: right;\">35</td><td style=\"text-align: right;\">0.03</td><td style=\"text-align: right;\">1</td><td style=\"text-align: right;\">0.01</td><td style=\"text-align: right;\">0</td><td style=\"text-align: right;\">0.00</td><td style=\"text-align: right;\">0</td><td style=\"text-align: right;\">0.00</td><td style=\"text-align: right;\">1</td><td style=\"text-align: right;\">7.74</td><td style=\"text-align: right;\">0</td><td style=\"text-align: right;\">0.00</td><td style=\"text-align: right;\">0</td><td style=\"text-align: right;\">0.00</td><td style=\"text-align: right;\">0</td><td style=\"text-align: right;\">0.00</td><td style=\"text-align: right;\">0</td><td style=\"text-align: right;\">0.00</td></tr>\n",
       "</table>"
      ],
      "text/plain": [
       "<IPython.core.display.HTML object>"
      ]
     },
     "execution_count": 6,
     "metadata": {},
     "output_type": "execute_result"
    }
   ],
   "source": [
    "plt_obj = dm.superset_yes_no([dm.di_4_911, dm.di_64_1575], [dm.di_11_765], min_match=0.001)\n",
    "plt_obj.do_plot()\n",
    "HTML(plt_obj.get_html())"
   ]
  },
  {
   "cell_type": "code",
   "execution_count": 7,
   "metadata": {
    "collapsed": false
   },
   "outputs": [
    {
     "data": {
      "text/html": [
       "\n",
       "\n",
       "    <div class=\"bk-root\">\n",
       "        <div class=\"plotdiv\" id=\"ecdbbdb8-f812-40ad-885b-f84b0952e31f\"></div>\n",
       "    </div>\n",
       "<script type=\"text/javascript\">\n",
       "  \n",
       "  (function(global) {\n",
       "    function now() {\n",
       "      return new Date();\n",
       "    }\n",
       "  \n",
       "    if (typeof (window._bokeh_onload_callbacks) === \"undefined\") {\n",
       "      window._bokeh_onload_callbacks = [];\n",
       "    }\n",
       "  \n",
       "    function run_callbacks() {\n",
       "      window._bokeh_onload_callbacks.forEach(function(callback) { callback() });\n",
       "      delete window._bokeh_onload_callbacks\n",
       "      console.info(\"Bokeh: all callbacks have finished\");\n",
       "    }\n",
       "  \n",
       "    function load_libs(js_urls, callback) {\n",
       "      window._bokeh_onload_callbacks.push(callback);\n",
       "      if (window._bokeh_is_loading > 0) {\n",
       "        console.log(\"Bokeh: BokehJS is being loaded, scheduling callback at\", now());\n",
       "        return null;\n",
       "      }\n",
       "      if (js_urls == null || js_urls.length === 0) {\n",
       "        run_callbacks();\n",
       "        return null;\n",
       "      }\n",
       "      console.log(\"Bokeh: BokehJS not loaded, scheduling load and callback at\", now());\n",
       "      window._bokeh_is_loading = js_urls.length;\n",
       "      for (var i = 0; i < js_urls.length; i++) {\n",
       "        var url = js_urls[i];\n",
       "        var s = document.createElement('script');\n",
       "        s.src = url;\n",
       "        s.async = false;\n",
       "        s.onreadystatechange = s.onload = function() {\n",
       "          window._bokeh_is_loading--;\n",
       "          if (window._bokeh_is_loading === 0) {\n",
       "            console.log(\"Bokeh: all BokehJS libraries loaded\");\n",
       "            run_callbacks()\n",
       "          }\n",
       "        };\n",
       "        s.onerror = function() {\n",
       "          console.warn(\"failed to load library \" + url);\n",
       "        };\n",
       "        console.log(\"Bokeh: injecting script tag for BokehJS library: \", url);\n",
       "        document.getElementsByTagName(\"head\")[0].appendChild(s);\n",
       "      }\n",
       "    };var element = document.getElementById(\"ecdbbdb8-f812-40ad-885b-f84b0952e31f\");\n",
       "    if (element == null) {\n",
       "      console.log(\"Bokeh: ERROR: autoload.js configured with elementid 'ecdbbdb8-f812-40ad-885b-f84b0952e31f' but no matching script tag was found. \")\n",
       "      return false;\n",
       "    }\n",
       "  \n",
       "    var js_urls = [];\n",
       "  \n",
       "    var inline_js = [\n",
       "      function(Bokeh) {\n",
       "        Bokeh.$(function() {\n",
       "            var docs_json = {\"b0cf41cd-c2ec-4eef-a024-70555b9fa1fb\":{\"roots\":{\"references\":[{\"attributes\":{\"line_alpha\":{\"value\":0.1},\"line_color\":{\"value\":\"#1f77b4\"},\"xs\":{\"field\":\"xs\"},\"ys\":{\"field\":\"ys\"}},\"id\":\"c848d6ec-9e06-4419-bbd1-2c89e387433a\",\"type\":\"MultiLine\"},{\"attributes\":{\"dimension\":1,\"plot\":{\"id\":\"9e7d950c-686c-4be0-9b2c-20bf56be4c96\",\"subtype\":\"Figure\",\"type\":\"Plot\"},\"ticker\":{\"id\":\"91b41eb4-5814-4a9c-ab36-1c5400cba602\",\"type\":\"BasicTicker\"}},\"id\":\"581565a4-dcd7-4046-a874-a449a3840a4e\",\"type\":\"Grid\"},{\"attributes\":{\"overlay\":{\"id\":\"74422255-34e6-454c-b21d-c40f48f76182\",\"type\":\"BoxAnnotation\"},\"plot\":{\"id\":\"9e7d950c-686c-4be0-9b2c-20bf56be4c96\",\"subtype\":\"Figure\",\"type\":\"Plot\"}},\"id\":\"b6bc2615-6a2e-40ac-8315-d6a296a42e0e\",\"type\":\"BoxZoomTool\"},{\"attributes\":{\"bottom_units\":\"screen\",\"fill_alpha\":{\"value\":0.5},\"fill_color\":{\"value\":\"lightgrey\"},\"left_units\":\"screen\",\"level\":\"overlay\",\"line_alpha\":{\"value\":1.0},\"line_color\":{\"value\":\"black\"},\"line_dash\":[4,4],\"line_width\":{\"value\":2},\"plot\":null,\"render_mode\":\"css\",\"right_units\":\"screen\",\"top_units\":\"screen\"},\"id\":\"74422255-34e6-454c-b21d-c40f48f76182\",\"type\":\"BoxAnnotation\"},{\"attributes\":{\"plot\":{\"id\":\"9e7d950c-686c-4be0-9b2c-20bf56be4c96\",\"subtype\":\"Figure\",\"type\":\"Plot\"}},\"id\":\"5e03c2cd-cc68-4867-9ee5-ba719793e5e8\",\"type\":\"WheelZoomTool\"},{\"attributes\":{\"bottom\":{\"field\":\"bottom\"},\"fill_alpha\":{\"value\":0.1},\"fill_color\":{\"value\":\"#1f77b4\"},\"left\":{\"field\":\"left\"},\"line_alpha\":{\"value\":0.1},\"line_color\":{\"value\":\"#1f77b4\"},\"right\":{\"field\":\"right\"},\"top\":{\"field\":\"top\"}},\"id\":\"94f1c86c-ecbf-4ab1-8fd3-8b79b6e2cc9e\",\"type\":\"Quad\"},{\"attributes\":{\"active_drag\":\"auto\",\"active_scroll\":\"auto\",\"active_tap\":\"auto\",\"tools\":[{\"id\":\"1aee3683-8092-43c7-9c1d-dee77ba0c119\",\"type\":\"PanTool\"},{\"id\":\"5e03c2cd-cc68-4867-9ee5-ba719793e5e8\",\"type\":\"WheelZoomTool\"},{\"id\":\"b6bc2615-6a2e-40ac-8315-d6a296a42e0e\",\"type\":\"BoxZoomTool\"},{\"id\":\"b67e5f90-e294-450f-b07d-2eb905af075a\",\"type\":\"SaveTool\"},{\"id\":\"ccf26a21-8c37-4bf7-b971-ace73c9f549f\",\"type\":\"ResetTool\"},{\"id\":\"f79a1097-a61d-41d8-8b99-c95d89887644\",\"type\":\"HelpTool\"}]},\"id\":\"078876ed-602e-406c-b14d-ffaab8496362\",\"type\":\"Toolbar\"},{\"attributes\":{\"data_source\":{\"id\":\"eff002ff-2a8f-4241-868a-c4652b49eb6d\",\"type\":\"ColumnDataSource\"},\"glyph\":{\"id\":\"4439a9bc-67ee-41d0-b1aa-ede64da6e63b\",\"type\":\"MultiLine\"},\"hover_glyph\":null,\"nonselection_glyph\":{\"id\":\"c848d6ec-9e06-4419-bbd1-2c89e387433a\",\"type\":\"MultiLine\"},\"selection_glyph\":null},\"id\":\"6603cea1-825e-42b5-82a0-e962fcb8420c\",\"type\":\"GlyphRenderer\"},{\"attributes\":{\"plot\":null,\"text\":null},\"id\":\"d91913ca-eec3-4855-ae04-50b86549ed11\",\"type\":\"Title\"},{\"attributes\":{\"level\":\"glyph\",\"plot\":{\"id\":\"9e7d950c-686c-4be0-9b2c-20bf56be4c96\",\"subtype\":\"Figure\",\"type\":\"Plot\"},\"source\":{\"id\":\"14bc48a9-c8d2-4b5e-9ea7-67385899a5fb\",\"type\":\"ColumnDataSource\"},\"text\":{\"field\":\"vals\"},\"text_font_size\":{\"value\":\"9pt\"},\"text_font_style\":\"bold\",\"x\":{\"field\":\"x\"},\"y\":{\"field\":\"y\"}},\"id\":\"dc1357e5-b991-4c8b-8df7-5cd50864e59e\",\"type\":\"LabelSet\"},{\"attributes\":{\"formatter\":{\"id\":\"0fba806a-7ae5-4804-b7a5-4fac600d249b\",\"type\":\"BasicTickFormatter\"},\"plot\":{\"id\":\"9e7d950c-686c-4be0-9b2c-20bf56be4c96\",\"subtype\":\"Figure\",\"type\":\"Plot\"},\"ticker\":{\"id\":\"f2be0770-bf09-4039-80f0-84eb9f85ae6c\",\"type\":\"BasicTicker\"}},\"id\":\"65b3cb0f-cd23-4c60-bf1b-fd5ce49a618e\",\"type\":\"LinearAxis\"},{\"attributes\":{\"plot\":{\"id\":\"9e7d950c-686c-4be0-9b2c-20bf56be4c96\",\"subtype\":\"Figure\",\"type\":\"Plot\"}},\"id\":\"ccf26a21-8c37-4bf7-b971-ace73c9f549f\",\"type\":\"ResetTool\"},{\"attributes\":{\"bottom\":{\"field\":\"bottom\"},\"fill_color\":{\"field\":\"fill_color\"},\"left\":{\"field\":\"left\"},\"line_color\":{\"value\":null},\"right\":{\"field\":\"right\"},\"top\":{\"field\":\"top\"}},\"id\":\"c11f1410-a0e8-4b53-8145-8e991c69019e\",\"type\":\"Quad\"},{\"attributes\":{},\"id\":\"cbc94f82-12db-49cb-b858-9533c2cfc68b\",\"type\":\"ToolEvents\"},{\"attributes\":{\"below\":[{\"id\":\"65b3cb0f-cd23-4c60-bf1b-fd5ce49a618e\",\"type\":\"LinearAxis\"}],\"left\":[{\"id\":\"c8ba208f-742a-4175-ab01-b24ae9ba78ad\",\"type\":\"LinearAxis\"}],\"plot_height\":500,\"plot_width\":900,\"renderers\":[{\"id\":\"65b3cb0f-cd23-4c60-bf1b-fd5ce49a618e\",\"type\":\"LinearAxis\"},{\"id\":\"9a066601-75e5-454b-817b-4d78a8164165\",\"type\":\"Grid\"},{\"id\":\"c8ba208f-742a-4175-ab01-b24ae9ba78ad\",\"type\":\"LinearAxis\"},{\"id\":\"581565a4-dcd7-4046-a874-a449a3840a4e\",\"type\":\"Grid\"},{\"id\":\"74422255-34e6-454c-b21d-c40f48f76182\",\"type\":\"BoxAnnotation\"},{\"id\":\"51b6b520-24a8-4df8-907b-ff427ac70edd\",\"type\":\"GlyphRenderer\"},{\"id\":\"6603cea1-825e-42b5-82a0-e962fcb8420c\",\"type\":\"GlyphRenderer\"},{\"id\":\"dc1357e5-b991-4c8b-8df7-5cd50864e59e\",\"type\":\"LabelSet\"},{\"id\":\"c875f05e-d34d-4ba1-a073-30ffab062f58\",\"type\":\"GlyphRenderer\"},{\"id\":\"1e2b1723-1540-4d3f-b33f-8e3772b0b5f7\",\"type\":\"LabelSet\"}],\"title\":{\"id\":\"d91913ca-eec3-4855-ae04-50b86549ed11\",\"type\":\"Title\"},\"tool_events\":{\"id\":\"cbc94f82-12db-49cb-b858-9533c2cfc68b\",\"type\":\"ToolEvents\"},\"toolbar\":{\"id\":\"078876ed-602e-406c-b14d-ffaab8496362\",\"type\":\"Toolbar\"},\"toolbar_location\":null,\"x_range\":{\"id\":\"571dc564-f248-48d8-922a-b7badaa2d848\",\"type\":\"Range1d\"},\"y_range\":{\"id\":\"dff16abc-eb6e-40ae-a7c1-71d40d5aca3c\",\"type\":\"Range1d\"}},\"id\":\"9e7d950c-686c-4be0-9b2c-20bf56be4c96\",\"subtype\":\"Figure\",\"type\":\"Plot\"},{\"attributes\":{\"callback\":null,\"column_names\":[\"right\",\"bottom\",\"top\",\"left\"],\"data\":{\"bottom\":[445,445,445,445,445,445,445],\"left\":[135809835,135957574,136289083,136499189,136545415,136597196,136664254],\"right\":[135928279,136288182,136482839,136542633,136594750,136634047,136743222],\"top\":[475,475,475,475,475,475,475]}},\"id\":\"147abc4b-8650-4305-abcf-1a5250a06242\",\"type\":\"ColumnDataSource\"},{\"attributes\":{\"callback\":null,\"end\":500},\"id\":\"dff16abc-eb6e-40ae-a7c1-71d40d5aca3c\",\"type\":\"Range1d\"},{\"attributes\":{},\"id\":\"0fba806a-7ae5-4804-b7a5-4fac600d249b\",\"type\":\"BasicTickFormatter\"},{\"attributes\":{\"bottom\":{\"field\":\"bottom\"},\"fill_color\":{\"value\":\"white\"},\"left\":{\"field\":\"left\"},\"right\":{\"field\":\"right\"},\"top\":{\"field\":\"top\"}},\"id\":\"5ff87e8c-ce30-42f3-8279-75b1b197d5d1\",\"type\":\"Quad\"},{\"attributes\":{\"data_source\":{\"id\":\"84e2dbec-12f4-4cbf-9793-d20cdf1f5bd0\",\"type\":\"ColumnDataSource\"},\"glyph\":{\"id\":\"c11f1410-a0e8-4b53-8145-8e991c69019e\",\"type\":\"Quad\"},\"hover_glyph\":null,\"nonselection_glyph\":{\"id\":\"fe9e4cab-12d6-4194-8cdd-42c2f420e0b9\",\"type\":\"Quad\"},\"selection_glyph\":null},\"id\":\"51b6b520-24a8-4df8-907b-ff427ac70edd\",\"type\":\"GlyphRenderer\"},{\"attributes\":{\"plot\":{\"id\":\"9e7d950c-686c-4be0-9b2c-20bf56be4c96\",\"subtype\":\"Figure\",\"type\":\"Plot\"},\"ticker\":{\"id\":\"f2be0770-bf09-4039-80f0-84eb9f85ae6c\",\"type\":\"BasicTicker\"}},\"id\":\"9a066601-75e5-454b-817b-4d78a8164165\",\"type\":\"Grid\"},{\"attributes\":{\"formatter\":{\"id\":\"a19d7850-67a9-4e64-a259-ce84d1570283\",\"type\":\"BasicTickFormatter\"},\"plot\":{\"id\":\"9e7d950c-686c-4be0-9b2c-20bf56be4c96\",\"subtype\":\"Figure\",\"type\":\"Plot\"},\"ticker\":{\"id\":\"91b41eb4-5814-4a9c-ab36-1c5400cba602\",\"type\":\"BasicTicker\"},\"visible\":null},\"id\":\"c8ba208f-742a-4175-ab01-b24ae9ba78ad\",\"type\":\"LinearAxis\"},{\"attributes\":{\"callback\":null,\"column_names\":[\"xs\",\"ys\",\"line_color\"],\"data\":{\"line_color\":[\"black\",\"black\",\"black\",\"black\",\"black\",\"black\",\"black\",\"black\",\"black\",\"black\",\"black\",\"black\",\"black\",\"black\",\"black\",\"black\",\"black\",\"black\",\"black\",\"black\",\"black\",\"black\",\"black\",\"black\",\"black\",\"black\",\"black\",\"black\",\"black\",\"black\",\"black\",\"black\",\"black\",\"black\",\"black\",\"black\",\"black\",\"black\",\"black\",\"black\",\"black\",\"black\",\"black\",\"black\",\"black\",\"black\",\"black\",\"black\",\"black\",\"black\",\"black\",\"black\",\"black\",\"black\",\"black\",\"black\",\"black\",\"black\",\"black\",\"black\",\"black\",\"black\",\"black\",\"black\",\"black\",\"black\",\"black\",\"black\",\"black\",\"black\",\"black\",\"black\",\"black\",\"black\",\"black\",\"black\",\"black\",\"black\",\"black\",\"black\",\"black\",\"black\",\"black\",\"black\",\"black\",\"black\",\"black\",\"black\",\"black\",\"black\",\"black\",\"black\",\"black\",\"black\",\"black\",\"black\",\"black\",\"black\",\"black\",\"black\",\"black\",\"black\",\"black\",\"black\",\"black\",\"black\",\"black\",\"black\",\"black\",\"black\",\"black\",\"black\",\"black\",\"black\",\"black\",\"black\",\"black\",\"black\",\"black\",\"black\",\"black\"],\"xs\":[[135771974,135771974],[135859371,135859371],[135877562,135877562],[136022798,136022798],[136058820,136058820],[136140304,136140304],[135915358,135915358],[135954405,135954405],[135995073,135995073],[135995079,135995079],[136092061,136092061],[136273578,136273578],[136322676,136322676],[136407479,136407479],[136398174,136398174],[136402117,136402117],[136403749,136403749],[136409073,136409073],[136410299,136410299],[136413359,136413359],[136416855,136416855],[136416941,136416941],[136418348,136418348],[136419961,136419961],[136420690,136420690],[136422171,136422171],[136428460,136428460],[136430866,136430866],[136432103,136432103],[136437507,136437507],[136439090,136439090],[136439517,136439517],[136444123,136444123],[136445526,136445526],[136445869,136445869],[136455600,136455600],[136456642,136456642],[136462441,136462441],[136470714,136470714],[136474098,136474098],[136494186,136494186],[136495300,136495300],[136495619,136495619],[136499166,136499166],[136502792,136502792],[136503157,136503157],[136507039,136507039],[136511575,136511575],[136518103,136518103],[136521514,136521514],[136522675,136522675],[136522941,136522941],[136526981,136526981],[136535410,136535410],[136539122,136539122],[136544197,136544197],[136550109,136550109],[136551694,136551694],[136553188,136553188],[136553639,136553639],[136554800,136554800],[136557319,136557319],[136558157,136558157],[136569848,136569848],[136575199,136575199],[136576577,136576577],[136578536,136578536],[136580287,136580287],[136583192,136583192],[136586958,136586958],[136588478,136588478],[136589612,136589612],[136591178,136591178],[136591859,136591859],[136593760,136593760],[136594158,136594158],[136603276,136603276],[136603366,136603366],[136608231,136608231],[136609975,136609975],[136610598,136610598],[136611624,136611624],[136613780,136613780],[136614255,136614255],[136614813,136614813],[136617524,136617524],[136622216,136622216],[136625602,136625602],[136629911,136629911],[136630757,136630757],[136630989,136630989],[136631031,136631031],[136633771,136633771],[136636324,136636324],[136638216,136638216],[136640233,136640233],[136641882,136641882],[136643555,136643555],[136658345,136658345],[136670298,136670298],[136685228,136685228],[136696138,136696138],[136740900,136740900],[136765951,136765951],[136501840,136501840],[136505546,136505546],[136516748,136516748],[136522710,136522710],[136528004,136528004],[136539513,136539513],[136544752,136544752],[136546110,136546110],[136553529,136553529],[136555659,136555659],[136682274,136682274],[136691825,136691825],[136698098,136698098],[136721603,136721603],[136721995,136721995],[136755684,136755684],[136775898,136775898]],\"ys\":[[150,195],[150,195],[150,195],[150,195],[150,195],[150,195],[250,296],[250,296],[250,296],[250,296],[50,90],[50,90],[50,90],[50,90],[150,194],[150,194],[150,194],[150,194],[150,194],[150,194],[150,194],[150,194],[150,194],[150,194],[150,194],[150,194],[150,194],[150,194],[150,194],[150,194],[150,194],[150,194],[150,194],[150,194],[150,194],[150,194],[150,194],[150,194],[150,194],[150,194],[250,295],[250,295],[250,295],[250,295],[250,295],[250,295],[250,295],[250,295],[250,295],[250,295],[250,295],[250,295],[250,295],[250,295],[250,295],[250,295],[250,295],[250,295],[250,295],[250,295],[250,295],[250,295],[250,295],[250,295],[250,295],[250,295],[250,295],[250,295],[250,295],[250,295],[250,295],[250,295],[250,295],[250,295],[250,295],[250,295],[250,295],[250,295],[250,295],[250,295],[250,295],[250,295],[250,295],[250,295],[250,295],[250,295],[250,295],[250,295],[250,295],[250,295],[250,295],[250,295],[250,295],[250,295],[250,295],[250,295],[250,295],[250,295],[250,295],[250,295],[250,295],[250,295],[250,295],[250,295],[350,398],[350,398],[350,398],[350,398],[350,398],[350,398],[350,398],[350,398],[350,398],[350,398],[350,397],[350,397],[350,397],[350,397],[350,397],[350,397],[350,397]]}},\"id\":\"eff002ff-2a8f-4241-868a-c4652b49eb6d\",\"type\":\"ColumnDataSource\"},{\"attributes\":{\"line_color\":{\"field\":\"line_color\"},\"xs\":{\"field\":\"xs\"},\"ys\":{\"field\":\"ys\"}},\"id\":\"4439a9bc-67ee-41d0-b1aa-ede64da6e63b\",\"type\":\"MultiLine\"},{\"attributes\":{\"callback\":null,\"column_names\":[\"right\",\"bottom\",\"top\",\"left\",\"fill_color\"],\"data\":{\"bottom\":[150,250,50,150,250,350,350],\"fill_color\":[\"#61c461\",\"#61c461\",\"#00ff00\",\"#61c461\",\"#61c461\",\"#808080\",\"#61c461\"],\"left\":[135771974,135915358,136092061,136398174,136494186,136501840,136682274],\"right\":[136140304,135995079,136407479,136474098,136765951,136555659,136775898],\"top\":[195,296,90,194,295,398,397]}},\"id\":\"84e2dbec-12f4-4cbf-9793-d20cdf1f5bd0\",\"type\":\"ColumnDataSource\"},{\"attributes\":{\"plot\":{\"id\":\"9e7d950c-686c-4be0-9b2c-20bf56be4c96\",\"subtype\":\"Figure\",\"type\":\"Plot\"}},\"id\":\"b67e5f90-e294-450f-b07d-2eb905af075a\",\"type\":\"SaveTool\"},{\"attributes\":{\"plot\":{\"id\":\"9e7d950c-686c-4be0-9b2c-20bf56be4c96\",\"subtype\":\"Figure\",\"type\":\"Plot\"}},\"id\":\"1aee3683-8092-43c7-9c1d-dee77ba0c119\",\"type\":\"PanTool\"},{\"attributes\":{},\"id\":\"f2be0770-bf09-4039-80f0-84eb9f85ae6c\",\"type\":\"BasicTicker\"},{\"attributes\":{},\"id\":\"91b41eb4-5814-4a9c-ab36-1c5400cba602\",\"type\":\"BasicTicker\"},{\"attributes\":{\"level\":\"glyph\",\"plot\":{\"id\":\"9e7d950c-686c-4be0-9b2c-20bf56be4c96\",\"subtype\":\"Figure\",\"type\":\"Plot\"},\"source\":{\"id\":\"2c830b91-f09f-4d83-a741-103461ff68d5\",\"type\":\"ColumnDataSource\"},\"text\":{\"field\":\"vals\"},\"text_align\":\"center\",\"text_baseline\":\"middle\",\"text_font_size\":{\"value\":\"8pt\"},\"x\":{\"field\":\"x\"},\"y\":{\"field\":\"y\"}},\"id\":\"1e2b1723-1540-4d3f-b33f-8e3772b0b5f7\",\"type\":\"LabelSet\"},{\"attributes\":{\"bottom\":{\"field\":\"bottom\"},\"fill_alpha\":{\"value\":0.1},\"fill_color\":{\"value\":\"#1f77b4\"},\"left\":{\"field\":\"left\"},\"line_alpha\":{\"value\":0.1},\"line_color\":{\"value\":\"#1f77b4\"},\"right\":{\"field\":\"right\"},\"top\":{\"field\":\"top\"}},\"id\":\"fe9e4cab-12d6-4194-8cdd-42c2f420e0b9\",\"type\":\"Quad\"},{\"attributes\":{\"callback\":null,\"column_names\":[\"y\",\"x\",\"vals\"],\"data\":{\"vals\":[\"6_1503\",\"4_1699\",\"4_911\",\"26_1414\",\"64_1575\",\"10_2206\",\"7_1868\"],\"x\":[135771974,135915358,136092061,136398174,136494186,136501840,136682274],\"y\":[200.0,301.0,95.0,199.0,300.0,403.0,402.0]}},\"id\":\"14bc48a9-c8d2-4b5e-9ea7-67385899a5fb\",\"type\":\"ColumnDataSource\"},{\"attributes\":{\"data_source\":{\"id\":\"147abc4b-8650-4305-abcf-1a5250a06242\",\"type\":\"ColumnDataSource\"},\"glyph\":{\"id\":\"5ff87e8c-ce30-42f3-8279-75b1b197d5d1\",\"type\":\"Quad\"},\"hover_glyph\":null,\"nonselection_glyph\":{\"id\":\"94f1c86c-ecbf-4ab1-8fd3-8b79b6e2cc9e\",\"type\":\"Quad\"},\"selection_glyph\":null},\"id\":\"c875f05e-d34d-4ba1-a073-30ffab062f58\",\"type\":\"GlyphRenderer\"},{\"attributes\":{\"callback\":null,\"end\":136786630,\"start\":135757320},\"id\":\"571dc564-f248-48d8-922a-b7badaa2d848\",\"type\":\"Range1d\"},{\"attributes\":{},\"id\":\"a19d7850-67a9-4e64-a259-ce84d1570283\",\"type\":\"BasicTickFormatter\"},{\"attributes\":{\"plot\":{\"id\":\"9e7d950c-686c-4be0-9b2c-20bf56be4c96\",\"subtype\":\"Figure\",\"type\":\"Plot\"}},\"id\":\"f79a1097-a61d-41d8-8b99-c95d89887644\",\"type\":\"HelpTool\"},{\"attributes\":{\"callback\":null,\"column_names\":[\"y\",\"x\",\"vals\"],\"data\":{\"vals\":[\"RAB3GAP1\",\"ZRANB3\",\"R3HDM1\",\"UBXN4\",\"LCT\",\"MCM6\",\"DARS\"],\"x\":[135869057.0,136122878.0,136385961.0,136520911.0,136570082.5,136615621.5,136703738.0],\"y\":[460.0,460.0,460.0,460.0,460.0,460.0,460.0]}},\"id\":\"2c830b91-f09f-4d83-a741-103461ff68d5\",\"type\":\"ColumnDataSource\"}],\"root_ids\":[\"9e7d950c-686c-4be0-9b2c-20bf56be4c96\"]},\"title\":\"Bokeh Application\",\"version\":\"0.12.0\"}};\n",
       "            var render_items = [{\"docid\":\"b0cf41cd-c2ec-4eef-a024-70555b9fa1fb\",\"elementid\":\"ecdbbdb8-f812-40ad-885b-f84b0952e31f\",\"modelid\":\"9e7d950c-686c-4be0-9b2c-20bf56be4c96\",\"notebook_comms_target\":\"e9eadf4a-3799-443e-83bf-bf73e7048657\"}];\n",
       "            \n",
       "            Bokeh.embed.embed_items(docs_json, render_items);\n",
       "        });\n",
       "      },\n",
       "      function(Bokeh) {\n",
       "      }\n",
       "    ];\n",
       "  \n",
       "    function run_inline_js() {\n",
       "      for (var i = 0; i < inline_js.length; i++) {\n",
       "        inline_js[i](window.Bokeh);\n",
       "      }\n",
       "    }\n",
       "  \n",
       "    if (window._bokeh_is_loading === 0) {\n",
       "      console.log(\"Bokeh: BokehJS loaded, going straight to plotting\");\n",
       "      run_inline_js();\n",
       "    } else {\n",
       "      load_libs(js_urls, function() {\n",
       "        console.log(\"Bokeh: BokehJS plotting callback run at\", now());\n",
       "        run_inline_js();\n",
       "      });\n",
       "    }\n",
       "  }(this));\n",
       "</script>"
      ]
     },
     "metadata": {},
     "output_type": "display_data"
    },
    {
     "data": {
      "text/html": [
       "<p><code>&lt;Bokeh Notebook handle for <strong>In[7]</strong>&gt;</code></p>"
      ],
      "text/plain": [
       "<bokeh.io._CommsHandle at 0x7f46f10c2910>"
      ]
     },
     "execution_count": 7,
     "metadata": {},
     "output_type": "execute_result"
    }
   ],
   "source": [
    "di_6_35 = 353407\n",
    "plt_obj = dm.superset_yes_no([dm.di_4_911, dm.di_64_1575, dm.di_7_1868, dm.di_4_1699, dm.di_10_2206], \n",
    "                             [di_6_35, dm.di_11_765], min_match=0.001)\n",
    "plt = plt_obj.do_plot()\n",
    "show(plt)"
   ]
  },
  {
   "cell_type": "code",
   "execution_count": 8,
   "metadata": {
    "collapsed": false
   },
   "outputs": [
    {
     "data": {
      "text/html": [
       "<table>\n",
       "<thead><tr><th style=\"text-align:center\">index</th><th style=\"text-align:center\">first</th><th style=\"text-align:center\">length</th><th style=\"text-align:center\">snps</th><th style=\"text-align:center\" colspan=2>alleles</th><th style=\"text-align:center\" colspan=2>matches</th><th style=\"text-align:center\" colspan=2>afr</th><th style=\"text-align:center\" colspan=2>afx</th><th style=\"text-align:center\" colspan=2>amr</th><th style=\"text-align:center\" colspan=2>eas</th><th style=\"text-align:center\" colspan=2>eur</th><th style=\"text-align:center\" colspan=2>sas</th><th style=\"text-align:center\" colspan=2>sax</th></tr></thead>\n",
       "<tr class=\"even\"><td style=\"text-align: right;\">353921</td><td style=\"text-align: right;\">136,501,840</td><td style=\"text-align: right;\">53,819</td><td style=\"text-align: right;\">10</td><td style=\"text-align: right;\">2206</td><td style=\"text-align: right;\">0.03</td><td style=\"text-align: right;\">72</td><td style=\"text-align: right;\">1.00</td><td style=\"text-align: right;\">0</td><td style=\"text-align: right;\">0.00</td><td style=\"text-align: right;\">0</td><td style=\"text-align: right;\">0.00</td><td style=\"text-align: right;\">32</td><td style=\"text-align: right;\">3.50</td><td style=\"text-align: right;\">0</td><td style=\"text-align: right;\">0.00</td><td style=\"text-align: right;\">24</td><td style=\"text-align: right;\">2.78</td><td style=\"text-align: right;\">5</td><td style=\"text-align: right;\">0.95</td><td style=\"text-align: right;\">11</td><td style=\"text-align: right;\">1.13</td></tr>\n",
       "<tr><td style=\"text-align: right;\">354170</td><td style=\"text-align: right;\">136,682,274</td><td style=\"text-align: right;\">93,624</td><td style=\"text-align: right;\">7</td><td style=\"text-align: right;\">1868</td><td style=\"text-align: right;\">0.04</td><td style=\"text-align: right;\">72</td><td style=\"text-align: right;\">1.00</td><td style=\"text-align: right;\">0</td><td style=\"text-align: right;\">0.00</td><td style=\"text-align: right;\">0</td><td style=\"text-align: right;\">0.00</td><td style=\"text-align: right;\">32</td><td style=\"text-align: right;\">3.50</td><td style=\"text-align: right;\">0</td><td style=\"text-align: right;\">0.00</td><td style=\"text-align: right;\">24</td><td style=\"text-align: right;\">2.78</td><td style=\"text-align: right;\">5</td><td style=\"text-align: right;\">0.95</td><td style=\"text-align: right;\">11</td><td style=\"text-align: right;\">1.13</td></tr>\n",
       "<tr class=\"even\"><td style=\"text-align: right;\">353462</td><td style=\"text-align: right;\">135,915,358</td><td style=\"text-align: right;\">79,721</td><td style=\"text-align: right;\">4</td><td style=\"text-align: right;\">1699</td><td style=\"text-align: right;\">0.04</td><td style=\"text-align: right;\">72</td><td style=\"text-align: right;\">1.00</td><td style=\"text-align: right;\">0</td><td style=\"text-align: right;\">0.00</td><td style=\"text-align: right;\">0</td><td style=\"text-align: right;\">0.00</td><td style=\"text-align: right;\">32</td><td style=\"text-align: right;\">3.50</td><td style=\"text-align: right;\">0</td><td style=\"text-align: right;\">0.00</td><td style=\"text-align: right;\">24</td><td style=\"text-align: right;\">2.78</td><td style=\"text-align: right;\">5</td><td style=\"text-align: right;\">0.95</td><td style=\"text-align: right;\">11</td><td style=\"text-align: right;\">1.13</td></tr>\n",
       "<tr><td style=\"text-align: right;\">353901</td><td style=\"text-align: right;\">136,494,186</td><td style=\"text-align: right;\">271,765</td><td style=\"text-align: right;\">64</td><td style=\"text-align: right;\">1575</td><td style=\"text-align: right;\">0.05</td><td style=\"text-align: right;\">72</td><td style=\"text-align: right;\">1.00</td><td style=\"text-align: right;\">0</td><td style=\"text-align: right;\">0.00</td><td style=\"text-align: right;\">0</td><td style=\"text-align: right;\">0.00</td><td style=\"text-align: right;\">32</td><td style=\"text-align: right;\">3.50</td><td style=\"text-align: right;\">0</td><td style=\"text-align: right;\">0.00</td><td style=\"text-align: right;\">24</td><td style=\"text-align: right;\">2.78</td><td style=\"text-align: right;\">5</td><td style=\"text-align: right;\">0.95</td><td style=\"text-align: right;\">11</td><td style=\"text-align: right;\">1.13</td></tr>\n",
       "<tr class=\"even\"><td style=\"text-align: right;\">353283</td><td style=\"text-align: right;\">135,771,974</td><td style=\"text-align: right;\">368,330</td><td style=\"text-align: right;\">6</td><td style=\"text-align: right;\">1503</td><td style=\"text-align: right;\">0.05</td><td style=\"text-align: right;\">72</td><td style=\"text-align: right;\">1.00</td><td style=\"text-align: right;\">0</td><td style=\"text-align: right;\">0.00</td><td style=\"text-align: right;\">0</td><td style=\"text-align: right;\">0.00</td><td style=\"text-align: right;\">32</td><td style=\"text-align: right;\">3.50</td><td style=\"text-align: right;\">0</td><td style=\"text-align: right;\">0.00</td><td style=\"text-align: right;\">24</td><td style=\"text-align: right;\">2.78</td><td style=\"text-align: right;\">5</td><td style=\"text-align: right;\">0.95</td><td style=\"text-align: right;\">11</td><td style=\"text-align: right;\">1.13</td></tr>\n",
       "<tr><td style=\"text-align: right;\">353797</td><td style=\"text-align: right;\">136,398,174</td><td style=\"text-align: right;\">75,924</td><td style=\"text-align: right;\">26</td><td style=\"text-align: right;\">1414</td><td style=\"text-align: right;\">0.05</td><td style=\"text-align: right;\">72</td><td style=\"text-align: right;\">1.00</td><td style=\"text-align: right;\">0</td><td style=\"text-align: right;\">0.00</td><td style=\"text-align: right;\">0</td><td style=\"text-align: right;\">0.00</td><td style=\"text-align: right;\">32</td><td style=\"text-align: right;\">3.50</td><td style=\"text-align: right;\">0</td><td style=\"text-align: right;\">0.00</td><td style=\"text-align: right;\">24</td><td style=\"text-align: right;\">2.78</td><td style=\"text-align: right;\">5</td><td style=\"text-align: right;\">0.95</td><td style=\"text-align: right;\">11</td><td style=\"text-align: right;\">1.13</td></tr>\n",
       "<tr class=\"even\"><td style=\"text-align: right;\">353604</td><td style=\"text-align: right;\">136,092,061</td><td style=\"text-align: right;\">315,418</td><td style=\"text-align: right;\">4</td><td style=\"text-align: right;\">911</td><td style=\"text-align: right;\">0.08</td><td style=\"text-align: right;\">72</td><td style=\"text-align: right;\">1.00</td><td style=\"text-align: right;\">0</td><td style=\"text-align: right;\">0.00</td><td style=\"text-align: right;\">0</td><td style=\"text-align: right;\">0.00</td><td style=\"text-align: right;\">32</td><td style=\"text-align: right;\">3.50</td><td style=\"text-align: right;\">0</td><td style=\"text-align: right;\">0.00</td><td style=\"text-align: right;\">24</td><td style=\"text-align: right;\">2.78</td><td style=\"text-align: right;\">5</td><td style=\"text-align: right;\">0.95</td><td style=\"text-align: right;\">11</td><td style=\"text-align: right;\">1.13</td></tr>\n",
       "</table>"
      ],
      "text/plain": [
       "<IPython.core.display.HTML object>"
      ]
     },
     "execution_count": 8,
     "metadata": {},
     "output_type": "execute_result"
    }
   ],
   "source": [
    "HTML(plt_obj.get_html())"
   ]
  },
  {
   "cell_type": "code",
   "execution_count": 9,
   "metadata": {
    "collapsed": false
   },
   "outputs": [
    {
     "data": {
      "text/html": [
       "\n",
       "\n",
       "    <div class=\"bk-root\">\n",
       "        <div class=\"plotdiv\" id=\"b7ed525b-a92a-4ee7-b732-76c1a9e9cbf5\"></div>\n",
       "    </div>\n",
       "<script type=\"text/javascript\">\n",
       "  \n",
       "  (function(global) {\n",
       "    function now() {\n",
       "      return new Date();\n",
       "    }\n",
       "  \n",
       "    if (typeof (window._bokeh_onload_callbacks) === \"undefined\") {\n",
       "      window._bokeh_onload_callbacks = [];\n",
       "    }\n",
       "  \n",
       "    function run_callbacks() {\n",
       "      window._bokeh_onload_callbacks.forEach(function(callback) { callback() });\n",
       "      delete window._bokeh_onload_callbacks\n",
       "      console.info(\"Bokeh: all callbacks have finished\");\n",
       "    }\n",
       "  \n",
       "    function load_libs(js_urls, callback) {\n",
       "      window._bokeh_onload_callbacks.push(callback);\n",
       "      if (window._bokeh_is_loading > 0) {\n",
       "        console.log(\"Bokeh: BokehJS is being loaded, scheduling callback at\", now());\n",
       "        return null;\n",
       "      }\n",
       "      if (js_urls == null || js_urls.length === 0) {\n",
       "        run_callbacks();\n",
       "        return null;\n",
       "      }\n",
       "      console.log(\"Bokeh: BokehJS not loaded, scheduling load and callback at\", now());\n",
       "      window._bokeh_is_loading = js_urls.length;\n",
       "      for (var i = 0; i < js_urls.length; i++) {\n",
       "        var url = js_urls[i];\n",
       "        var s = document.createElement('script');\n",
       "        s.src = url;\n",
       "        s.async = false;\n",
       "        s.onreadystatechange = s.onload = function() {\n",
       "          window._bokeh_is_loading--;\n",
       "          if (window._bokeh_is_loading === 0) {\n",
       "            console.log(\"Bokeh: all BokehJS libraries loaded\");\n",
       "            run_callbacks()\n",
       "          }\n",
       "        };\n",
       "        s.onerror = function() {\n",
       "          console.warn(\"failed to load library \" + url);\n",
       "        };\n",
       "        console.log(\"Bokeh: injecting script tag for BokehJS library: \", url);\n",
       "        document.getElementsByTagName(\"head\")[0].appendChild(s);\n",
       "      }\n",
       "    };var element = document.getElementById(\"b7ed525b-a92a-4ee7-b732-76c1a9e9cbf5\");\n",
       "    if (element == null) {\n",
       "      console.log(\"Bokeh: ERROR: autoload.js configured with elementid 'b7ed525b-a92a-4ee7-b732-76c1a9e9cbf5' but no matching script tag was found. \")\n",
       "      return false;\n",
       "    }\n",
       "  \n",
       "    var js_urls = [];\n",
       "  \n",
       "    var inline_js = [\n",
       "      function(Bokeh) {\n",
       "        Bokeh.$(function() {\n",
       "            var docs_json = {\"e36bcebc-c464-4b22-b80f-77dea25b7125\":{\"roots\":{\"references\":[{\"attributes\":{\"data_source\":{\"id\":\"c9c9400d-733f-4a86-9529-ae8d32fa53d1\",\"type\":\"ColumnDataSource\"},\"glyph\":{\"id\":\"08888123-232a-42c4-9ac7-5a9cd25f4318\",\"type\":\"Quad\"},\"hover_glyph\":null,\"nonselection_glyph\":{\"id\":\"3391513c-295b-45b9-8aac-fd908b50a110\",\"type\":\"Quad\"},\"selection_glyph\":null},\"id\":\"a97e97f0-d209-4d44-8942-8c2c932f80ed\",\"type\":\"GlyphRenderer\"},{\"attributes\":{},\"id\":\"a4490546-1d58-4cec-9838-09f025ec052a\",\"type\":\"BasicTickFormatter\"},{\"attributes\":{\"bottom\":{\"field\":\"bottom\"},\"fill_alpha\":{\"value\":0.1},\"fill_color\":{\"value\":\"#1f77b4\"},\"left\":{\"field\":\"left\"},\"line_alpha\":{\"value\":0.1},\"line_color\":{\"value\":\"#1f77b4\"},\"right\":{\"field\":\"right\"},\"top\":{\"field\":\"top\"}},\"id\":\"3391513c-295b-45b9-8aac-fd908b50a110\",\"type\":\"Quad\"},{\"attributes\":{\"plot\":{\"id\":\"89e62045-b660-446c-8f37-60279ba03fd9\",\"subtype\":\"Figure\",\"type\":\"Plot\"}},\"id\":\"3bedad4f-8807-47ca-93a1-ce640aa4de27\",\"type\":\"ResetTool\"},{\"attributes\":{},\"id\":\"e4337878-5130-482a-bf2e-3a25fdb83cb7\",\"type\":\"BasicTicker\"},{\"attributes\":{\"formatter\":{\"id\":\"128b586e-f853-4303-95cb-218a95dfe1db\",\"type\":\"BasicTickFormatter\"},\"plot\":{\"id\":\"89e62045-b660-446c-8f37-60279ba03fd9\",\"subtype\":\"Figure\",\"type\":\"Plot\"},\"ticker\":{\"id\":\"e4337878-5130-482a-bf2e-3a25fdb83cb7\",\"type\":\"BasicTicker\"}},\"id\":\"7a1e0a84-11a9-455f-b3cc-19d18377a6aa\",\"type\":\"LinearAxis\"},{\"attributes\":{\"plot\":{\"id\":\"89e62045-b660-446c-8f37-60279ba03fd9\",\"subtype\":\"Figure\",\"type\":\"Plot\"}},\"id\":\"1daca0e8-6dc4-40e7-8a4a-8d80a33af03f\",\"type\":\"WheelZoomTool\"},{\"attributes\":{\"data_source\":{\"id\":\"8acdcae3-b1a9-426f-bd61-4731b597ebde\",\"type\":\"ColumnDataSource\"},\"glyph\":{\"id\":\"cdf0e573-b5d7-49bd-84ca-1abbb5a664cd\",\"type\":\"Quad\"},\"hover_glyph\":null,\"nonselection_glyph\":{\"id\":\"7a96f1d5-c470-4b58-84ba-73e2be04bda3\",\"type\":\"Quad\"},\"selection_glyph\":null},\"id\":\"9065cb8f-bca7-4f52-bfd5-8783c8dd95ba\",\"type\":\"GlyphRenderer\"},{\"attributes\":{\"bottom\":{\"field\":\"bottom\"},\"fill_color\":{\"value\":\"white\"},\"left\":{\"field\":\"left\"},\"right\":{\"field\":\"right\"},\"top\":{\"field\":\"top\"}},\"id\":\"08888123-232a-42c4-9ac7-5a9cd25f4318\",\"type\":\"Quad\"},{\"attributes\":{\"callback\":null,\"end\":500},\"id\":\"ad3923b1-60b1-4c79-8553-09c5caf080b5\",\"type\":\"Range1d\"},{\"attributes\":{\"level\":\"glyph\",\"plot\":{\"id\":\"89e62045-b660-446c-8f37-60279ba03fd9\",\"subtype\":\"Figure\",\"type\":\"Plot\"},\"source\":{\"id\":\"8ccad20d-6404-430c-a4fa-da4681efa12b\",\"type\":\"ColumnDataSource\"},\"text\":{\"field\":\"vals\"},\"text_font_size\":{\"value\":\"9pt\"},\"text_font_style\":\"bold\",\"x\":{\"field\":\"x\"},\"y\":{\"field\":\"y\"}},\"id\":\"b7ed10f0-f1a4-4766-8df3-ec84471776b2\",\"type\":\"LabelSet\"},{\"attributes\":{\"bottom_units\":\"screen\",\"fill_alpha\":{\"value\":0.5},\"fill_color\":{\"value\":\"lightgrey\"},\"left_units\":\"screen\",\"level\":\"overlay\",\"line_alpha\":{\"value\":1.0},\"line_color\":{\"value\":\"black\"},\"line_dash\":[4,4],\"line_width\":{\"value\":2},\"plot\":null,\"render_mode\":\"css\",\"right_units\":\"screen\",\"top_units\":\"screen\"},\"id\":\"0c8e208b-0af9-4df5-8e03-5aab5909cac0\",\"type\":\"BoxAnnotation\"},{\"attributes\":{},\"id\":\"2ba6158d-1027-467c-b0b3-ca9d2b29d603\",\"type\":\"BasicTicker\"},{\"attributes\":{\"overlay\":{\"id\":\"0c8e208b-0af9-4df5-8e03-5aab5909cac0\",\"type\":\"BoxAnnotation\"},\"plot\":{\"id\":\"89e62045-b660-446c-8f37-60279ba03fd9\",\"subtype\":\"Figure\",\"type\":\"Plot\"}},\"id\":\"412c2906-d979-4943-a4d5-304270e1a0b9\",\"type\":\"BoxZoomTool\"},{\"attributes\":{\"line_color\":{\"field\":\"line_color\"},\"xs\":{\"field\":\"xs\"},\"ys\":{\"field\":\"ys\"}},\"id\":\"035e1bcc-2853-4188-9c6b-0e96289b1f93\",\"type\":\"MultiLine\"},{\"attributes\":{\"bottom\":{\"field\":\"bottom\"},\"fill_alpha\":{\"value\":0.1},\"fill_color\":{\"value\":\"#1f77b4\"},\"left\":{\"field\":\"left\"},\"line_alpha\":{\"value\":0.1},\"line_color\":{\"value\":\"#1f77b4\"},\"right\":{\"field\":\"right\"},\"top\":{\"field\":\"top\"}},\"id\":\"7a96f1d5-c470-4b58-84ba-73e2be04bda3\",\"type\":\"Quad\"},{\"attributes\":{\"callback\":null,\"column_names\":[\"y\",\"x\",\"vals\"],\"data\":{\"vals\":[\"6_1503\",\"6_35\",\"4_1699\",\"4_911\",\"26_1414\",\"64_1575\",\"10_2206\",\"7_1868\"],\"x\":[135771974,135859157,135915358,136092061,136398174,136494186,136501840,136682274],\"y\":[200.0,67.0,301.0,95.0,199.0,300.0,403.0,402.0]}},\"id\":\"8ccad20d-6404-430c-a4fa-da4681efa12b\",\"type\":\"ColumnDataSource\"},{\"attributes\":{\"below\":[{\"id\":\"7a1e0a84-11a9-455f-b3cc-19d18377a6aa\",\"type\":\"LinearAxis\"}],\"left\":[{\"id\":\"8807324a-6338-42e9-9024-98ede8cab61e\",\"type\":\"LinearAxis\"}],\"plot_height\":500,\"plot_width\":900,\"renderers\":[{\"id\":\"7a1e0a84-11a9-455f-b3cc-19d18377a6aa\",\"type\":\"LinearAxis\"},{\"id\":\"6b9d112f-27e6-48c9-bbe2-6c94e819456e\",\"type\":\"Grid\"},{\"id\":\"8807324a-6338-42e9-9024-98ede8cab61e\",\"type\":\"LinearAxis\"},{\"id\":\"ec55fb80-a42b-4114-90b9-76c4bb36f678\",\"type\":\"Grid\"},{\"id\":\"0c8e208b-0af9-4df5-8e03-5aab5909cac0\",\"type\":\"BoxAnnotation\"},{\"id\":\"9065cb8f-bca7-4f52-bfd5-8783c8dd95ba\",\"type\":\"GlyphRenderer\"},{\"id\":\"f7fe0dc4-c9e5-48e6-8eb5-d6aa8b111eff\",\"type\":\"GlyphRenderer\"},{\"id\":\"b7ed10f0-f1a4-4766-8df3-ec84471776b2\",\"type\":\"LabelSet\"},{\"id\":\"a97e97f0-d209-4d44-8942-8c2c932f80ed\",\"type\":\"GlyphRenderer\"},{\"id\":\"ad64a6b5-9195-4175-af61-5b56973778cd\",\"type\":\"LabelSet\"}],\"title\":{\"id\":\"2ba4b1ba-36af-40ae-91bc-33a73f1f84b6\",\"type\":\"Title\"},\"tool_events\":{\"id\":\"429eafe5-a286-4bb0-a2c8-eca7038fcbe3\",\"type\":\"ToolEvents\"},\"toolbar\":{\"id\":\"6587bdd7-dee3-4566-9d97-e4815e73f834\",\"type\":\"Toolbar\"},\"toolbar_location\":null,\"x_range\":{\"id\":\"b339f66c-8fd6-4dcf-bee5-39d756f84fca\",\"type\":\"Range1d\"},\"y_range\":{\"id\":\"ad3923b1-60b1-4c79-8553-09c5caf080b5\",\"type\":\"Range1d\"}},\"id\":\"89e62045-b660-446c-8f37-60279ba03fd9\",\"subtype\":\"Figure\",\"type\":\"Plot\"},{\"attributes\":{\"formatter\":{\"id\":\"a4490546-1d58-4cec-9838-09f025ec052a\",\"type\":\"BasicTickFormatter\"},\"plot\":{\"id\":\"89e62045-b660-446c-8f37-60279ba03fd9\",\"subtype\":\"Figure\",\"type\":\"Plot\"},\"ticker\":{\"id\":\"2ba6158d-1027-467c-b0b3-ca9d2b29d603\",\"type\":\"BasicTicker\"},\"visible\":null},\"id\":\"8807324a-6338-42e9-9024-98ede8cab61e\",\"type\":\"LinearAxis\"},{\"attributes\":{\"callback\":null,\"column_names\":[\"right\",\"bottom\",\"top\",\"left\"],\"data\":{\"bottom\":[445,445,445,445,445,445,445],\"left\":[135809835,135957574,136289083,136499189,136545415,136597196,136664254],\"right\":[135928279,136288182,136482839,136542633,136594750,136634047,136743222],\"top\":[475,475,475,475,475,475,475]}},\"id\":\"c9c9400d-733f-4a86-9529-ae8d32fa53d1\",\"type\":\"ColumnDataSource\"},{\"attributes\":{\"callback\":null,\"column_names\":[\"right\",\"bottom\",\"top\",\"left\",\"fill_color\"],\"data\":{\"bottom\":[150,50,250,50,150,250,350,350],\"fill_color\":[\"#61c461\",\"#ff00ff\",\"#61c461\",\"#00ff00\",\"#61c461\",\"#61c461\",\"#808080\",\"#61c461\"],\"left\":[135771974,135859157,135915358,136092061,136398174,136494186,136501840,136682274],\"right\":[136140304,135980938,135995079,136407479,136474098,136765951,136555659,136775898],\"top\":[195,62,296,90,194,295,398,397]}},\"id\":\"8acdcae3-b1a9-426f-bd61-4731b597ebde\",\"type\":\"ColumnDataSource\"},{\"attributes\":{\"plot\":{\"id\":\"89e62045-b660-446c-8f37-60279ba03fd9\",\"subtype\":\"Figure\",\"type\":\"Plot\"},\"ticker\":{\"id\":\"e4337878-5130-482a-bf2e-3a25fdb83cb7\",\"type\":\"BasicTicker\"}},\"id\":\"6b9d112f-27e6-48c9-bbe2-6c94e819456e\",\"type\":\"Grid\"},{\"attributes\":{\"plot\":{\"id\":\"89e62045-b660-446c-8f37-60279ba03fd9\",\"subtype\":\"Figure\",\"type\":\"Plot\"}},\"id\":\"99b6a4a6-b804-4ff1-b8aa-673e8782342a\",\"type\":\"SaveTool\"},{\"attributes\":{\"callback\":null,\"end\":136786630,\"start\":135757320},\"id\":\"b339f66c-8fd6-4dcf-bee5-39d756f84fca\",\"type\":\"Range1d\"},{\"attributes\":{\"plot\":{\"id\":\"89e62045-b660-446c-8f37-60279ba03fd9\",\"subtype\":\"Figure\",\"type\":\"Plot\"}},\"id\":\"8e49d3b0-b9ce-4d58-a36e-77209fef81f4\",\"type\":\"HelpTool\"},{\"attributes\":{\"plot\":null,\"text\":null},\"id\":\"2ba4b1ba-36af-40ae-91bc-33a73f1f84b6\",\"type\":\"Title\"},{\"attributes\":{\"bottom\":{\"field\":\"bottom\"},\"fill_color\":{\"field\":\"fill_color\"},\"left\":{\"field\":\"left\"},\"line_color\":{\"value\":null},\"right\":{\"field\":\"right\"},\"top\":{\"field\":\"top\"}},\"id\":\"cdf0e573-b5d7-49bd-84ca-1abbb5a664cd\",\"type\":\"Quad\"},{\"attributes\":{\"callback\":null,\"column_names\":[\"xs\",\"ys\",\"line_color\"],\"data\":{\"line_color\":[\"black\",\"black\",\"black\",\"black\",\"black\",\"black\",\"black\",\"black\",\"black\",\"black\",\"black\",\"black\",\"black\",\"black\",\"black\",\"black\",\"black\",\"black\",\"black\",\"black\",\"black\",\"black\",\"black\",\"black\",\"black\",\"black\",\"black\",\"black\",\"black\",\"black\",\"black\",\"black\",\"black\",\"black\",\"black\",\"black\",\"black\",\"black\",\"black\",\"black\",\"black\",\"black\",\"black\",\"black\",\"black\",\"black\",\"black\",\"black\",\"black\",\"black\",\"black\",\"black\",\"black\",\"black\",\"black\",\"black\",\"black\",\"black\",\"black\",\"black\",\"black\",\"black\",\"black\",\"black\",\"black\",\"black\",\"black\",\"black\",\"black\",\"black\",\"black\",\"black\",\"black\",\"black\",\"black\",\"black\",\"black\",\"black\",\"black\",\"black\",\"black\",\"black\",\"black\",\"black\",\"black\",\"black\",\"black\",\"black\",\"black\",\"black\",\"black\",\"black\",\"black\",\"black\",\"black\",\"black\",\"black\",\"black\",\"black\",\"black\",\"black\",\"black\",\"black\",\"black\",\"black\",\"black\",\"black\",\"black\",\"black\",\"black\",\"black\",\"black\",\"black\",\"black\",\"black\",\"black\",\"black\",\"black\",\"black\",\"black\",\"black\",\"black\",\"black\",\"black\",\"black\",\"black\",\"black\"],\"xs\":[[135771974,135771974],[135859371,135859371],[135877562,135877562],[136022798,136022798],[136058820,136058820],[136140304,136140304],[135859157,135859157],[135873466,135873466],[135925411,135925411],[135954198,135954198],[135973399,135973399],[135980938,135980938],[135915358,135915358],[135954405,135954405],[135995073,135995073],[135995079,135995079],[136092061,136092061],[136273578,136273578],[136322676,136322676],[136407479,136407479],[136398174,136398174],[136402117,136402117],[136403749,136403749],[136409073,136409073],[136410299,136410299],[136413359,136413359],[136416855,136416855],[136416941,136416941],[136418348,136418348],[136419961,136419961],[136420690,136420690],[136422171,136422171],[136428460,136428460],[136430866,136430866],[136432103,136432103],[136437507,136437507],[136439090,136439090],[136439517,136439517],[136444123,136444123],[136445526,136445526],[136445869,136445869],[136455600,136455600],[136456642,136456642],[136462441,136462441],[136470714,136470714],[136474098,136474098],[136494186,136494186],[136495300,136495300],[136495619,136495619],[136499166,136499166],[136502792,136502792],[136503157,136503157],[136507039,136507039],[136511575,136511575],[136518103,136518103],[136521514,136521514],[136522675,136522675],[136522941,136522941],[136526981,136526981],[136535410,136535410],[136539122,136539122],[136544197,136544197],[136550109,136550109],[136551694,136551694],[136553188,136553188],[136553639,136553639],[136554800,136554800],[136557319,136557319],[136558157,136558157],[136569848,136569848],[136575199,136575199],[136576577,136576577],[136578536,136578536],[136580287,136580287],[136583192,136583192],[136586958,136586958],[136588478,136588478],[136589612,136589612],[136591178,136591178],[136591859,136591859],[136593760,136593760],[136594158,136594158],[136603276,136603276],[136603366,136603366],[136608231,136608231],[136609975,136609975],[136610598,136610598],[136611624,136611624],[136613780,136613780],[136614255,136614255],[136614813,136614813],[136617524,136617524],[136622216,136622216],[136625602,136625602],[136629911,136629911],[136630757,136630757],[136630989,136630989],[136631031,136631031],[136633771,136633771],[136636324,136636324],[136638216,136638216],[136640233,136640233],[136641882,136641882],[136643555,136643555],[136658345,136658345],[136670298,136670298],[136685228,136685228],[136696138,136696138],[136740900,136740900],[136765951,136765951],[136501840,136501840],[136505546,136505546],[136516748,136516748],[136522710,136522710],[136528004,136528004],[136539513,136539513],[136544752,136544752],[136546110,136546110],[136553529,136553529],[136555659,136555659],[136682274,136682274],[136691825,136691825],[136698098,136698098],[136721603,136721603],[136721995,136721995],[136755684,136755684],[136775898,136775898]],\"ys\":[[150,195],[150,195],[150,195],[150,195],[150,195],[150,195],[50,62],[50,62],[50,62],[50,62],[50,62],[50,62],[250,296],[250,296],[250,296],[250,296],[50,90],[50,90],[50,90],[50,90],[150,194],[150,194],[150,194],[150,194],[150,194],[150,194],[150,194],[150,194],[150,194],[150,194],[150,194],[150,194],[150,194],[150,194],[150,194],[150,194],[150,194],[150,194],[150,194],[150,194],[150,194],[150,194],[150,194],[150,194],[150,194],[150,194],[250,295],[250,295],[250,295],[250,295],[250,295],[250,295],[250,295],[250,295],[250,295],[250,295],[250,295],[250,295],[250,295],[250,295],[250,295],[250,295],[250,295],[250,295],[250,295],[250,295],[250,295],[250,295],[250,295],[250,295],[250,295],[250,295],[250,295],[250,295],[250,295],[250,295],[250,295],[250,295],[250,295],[250,295],[250,295],[250,295],[250,295],[250,295],[250,295],[250,295],[250,295],[250,295],[250,295],[250,295],[250,295],[250,295],[250,295],[250,295],[250,295],[250,295],[250,295],[250,295],[250,295],[250,295],[250,295],[250,295],[250,295],[250,295],[250,295],[250,295],[250,295],[250,295],[250,295],[250,295],[350,398],[350,398],[350,398],[350,398],[350,398],[350,398],[350,398],[350,398],[350,398],[350,398],[350,397],[350,397],[350,397],[350,397],[350,397],[350,397],[350,397]]}},\"id\":\"14d3057e-aa46-4dd4-9012-971a0b758529\",\"type\":\"ColumnDataSource\"},{\"attributes\":{\"active_drag\":\"auto\",\"active_scroll\":\"auto\",\"active_tap\":\"auto\",\"tools\":[{\"id\":\"59aa52be-42d6-4bfb-994e-eba5cfe061bb\",\"type\":\"PanTool\"},{\"id\":\"1daca0e8-6dc4-40e7-8a4a-8d80a33af03f\",\"type\":\"WheelZoomTool\"},{\"id\":\"412c2906-d979-4943-a4d5-304270e1a0b9\",\"type\":\"BoxZoomTool\"},{\"id\":\"99b6a4a6-b804-4ff1-b8aa-673e8782342a\",\"type\":\"SaveTool\"},{\"id\":\"3bedad4f-8807-47ca-93a1-ce640aa4de27\",\"type\":\"ResetTool\"},{\"id\":\"8e49d3b0-b9ce-4d58-a36e-77209fef81f4\",\"type\":\"HelpTool\"}]},\"id\":\"6587bdd7-dee3-4566-9d97-e4815e73f834\",\"type\":\"Toolbar\"},{\"attributes\":{},\"id\":\"429eafe5-a286-4bb0-a2c8-eca7038fcbe3\",\"type\":\"ToolEvents\"},{\"attributes\":{\"plot\":{\"id\":\"89e62045-b660-446c-8f37-60279ba03fd9\",\"subtype\":\"Figure\",\"type\":\"Plot\"}},\"id\":\"59aa52be-42d6-4bfb-994e-eba5cfe061bb\",\"type\":\"PanTool\"},{\"attributes\":{\"callback\":null,\"column_names\":[\"y\",\"x\",\"vals\"],\"data\":{\"vals\":[\"RAB3GAP1\",\"ZRANB3\",\"R3HDM1\",\"UBXN4\",\"LCT\",\"MCM6\",\"DARS\"],\"x\":[135869057.0,136122878.0,136385961.0,136520911.0,136570082.5,136615621.5,136703738.0],\"y\":[460.0,460.0,460.0,460.0,460.0,460.0,460.0]}},\"id\":\"27239cba-9775-448e-89e5-60cf76ccab99\",\"type\":\"ColumnDataSource\"},{\"attributes\":{},\"id\":\"128b586e-f853-4303-95cb-218a95dfe1db\",\"type\":\"BasicTickFormatter\"},{\"attributes\":{\"line_alpha\":{\"value\":0.1},\"line_color\":{\"value\":\"#1f77b4\"},\"xs\":{\"field\":\"xs\"},\"ys\":{\"field\":\"ys\"}},\"id\":\"e7b8df12-494a-400f-9714-dd422131eedc\",\"type\":\"MultiLine\"},{\"attributes\":{\"data_source\":{\"id\":\"14d3057e-aa46-4dd4-9012-971a0b758529\",\"type\":\"ColumnDataSource\"},\"glyph\":{\"id\":\"035e1bcc-2853-4188-9c6b-0e96289b1f93\",\"type\":\"MultiLine\"},\"hover_glyph\":null,\"nonselection_glyph\":{\"id\":\"e7b8df12-494a-400f-9714-dd422131eedc\",\"type\":\"MultiLine\"},\"selection_glyph\":null},\"id\":\"f7fe0dc4-c9e5-48e6-8eb5-d6aa8b111eff\",\"type\":\"GlyphRenderer\"},{\"attributes\":{\"level\":\"glyph\",\"plot\":{\"id\":\"89e62045-b660-446c-8f37-60279ba03fd9\",\"subtype\":\"Figure\",\"type\":\"Plot\"},\"source\":{\"id\":\"27239cba-9775-448e-89e5-60cf76ccab99\",\"type\":\"ColumnDataSource\"},\"text\":{\"field\":\"vals\"},\"text_align\":\"center\",\"text_baseline\":\"middle\",\"text_font_size\":{\"value\":\"8pt\"},\"x\":{\"field\":\"x\"},\"y\":{\"field\":\"y\"}},\"id\":\"ad64a6b5-9195-4175-af61-5b56973778cd\",\"type\":\"LabelSet\"},{\"attributes\":{\"dimension\":1,\"plot\":{\"id\":\"89e62045-b660-446c-8f37-60279ba03fd9\",\"subtype\":\"Figure\",\"type\":\"Plot\"},\"ticker\":{\"id\":\"2ba6158d-1027-467c-b0b3-ca9d2b29d603\",\"type\":\"BasicTicker\"}},\"id\":\"ec55fb80-a42b-4114-90b9-76c4bb36f678\",\"type\":\"Grid\"}],\"root_ids\":[\"89e62045-b660-446c-8f37-60279ba03fd9\"]},\"title\":\"Bokeh Application\",\"version\":\"0.12.0\"}};\n",
       "            var render_items = [{\"docid\":\"e36bcebc-c464-4b22-b80f-77dea25b7125\",\"elementid\":\"b7ed525b-a92a-4ee7-b732-76c1a9e9cbf5\",\"modelid\":\"89e62045-b660-446c-8f37-60279ba03fd9\",\"notebook_comms_target\":\"b2b2507c-e4c2-4019-815f-0e4f581f96b5\"}];\n",
       "            \n",
       "            Bokeh.embed.embed_items(docs_json, render_items);\n",
       "        });\n",
       "      },\n",
       "      function(Bokeh) {\n",
       "      }\n",
       "    ];\n",
       "  \n",
       "    function run_inline_js() {\n",
       "      for (var i = 0; i < inline_js.length; i++) {\n",
       "        inline_js[i](window.Bokeh);\n",
       "      }\n",
       "    }\n",
       "  \n",
       "    if (window._bokeh_is_loading === 0) {\n",
       "      console.log(\"Bokeh: BokehJS loaded, going straight to plotting\");\n",
       "      run_inline_js();\n",
       "    } else {\n",
       "      load_libs(js_urls, function() {\n",
       "        console.log(\"Bokeh: BokehJS plotting callback run at\", now());\n",
       "        run_inline_js();\n",
       "      });\n",
       "    }\n",
       "  }(this));\n",
       "</script>"
      ]
     },
     "metadata": {},
     "output_type": "display_data"
    },
    {
     "data": {
      "text/html": [
       "<p><code>&lt;Bokeh Notebook handle for <strong>In[9]</strong>&gt;</code></p>"
      ],
      "text/plain": [
       "<bokeh.io._CommsHandle at 0x7f46f1117090>"
      ]
     },
     "execution_count": 9,
     "metadata": {},
     "output_type": "execute_result"
    }
   ],
   "source": [
    "plt_obj = dm.superset_yes_no([dm.di_4_911, dm.di_64_1575, dm.di_7_1868, dm.di_4_1699, \n",
    "                              dm.di_10_2206, di_6_35], \n",
    "                             [dm.di_11_765], min_match=0.001)\n",
    "plt = plt_obj.do_plot()\n",
    "show(plt)"
   ]
  },
  {
   "cell_type": "code",
   "execution_count": 10,
   "metadata": {
    "collapsed": false
   },
   "outputs": [
    {
     "data": {
      "text/html": [
       "<table>\n",
       "<thead><tr><th style=\"text-align:center\">index</th><th style=\"text-align:center\">first</th><th style=\"text-align:center\">length</th><th style=\"text-align:center\">snps</th><th style=\"text-align:center\" colspan=2>alleles</th><th style=\"text-align:center\" colspan=2>matches</th><th style=\"text-align:center\" colspan=2>afr</th><th style=\"text-align:center\" colspan=2>afx</th><th style=\"text-align:center\" colspan=2>amr</th><th style=\"text-align:center\" colspan=2>eas</th><th style=\"text-align:center\" colspan=2>eur</th><th style=\"text-align:center\" colspan=2>sas</th><th style=\"text-align:center\" colspan=2>sax</th></tr></thead>\n",
       "<tr class=\"even\"><td style=\"text-align: right;\">353921</td><td style=\"text-align: right;\">136,501,840</td><td style=\"text-align: right;\">53,819</td><td style=\"text-align: right;\">10</td><td style=\"text-align: right;\">2206</td><td style=\"text-align: right;\">0.00</td><td style=\"text-align: right;\">1</td><td style=\"text-align: right;\">1.00</td><td style=\"text-align: right;\">0</td><td style=\"text-align: right;\">0.00</td><td style=\"text-align: right;\">0</td><td style=\"text-align: right;\">0.00</td><td style=\"text-align: right;\">1</td><td style=\"text-align: right;\">7.74</td><td style=\"text-align: right;\">0</td><td style=\"text-align: right;\">0.00</td><td style=\"text-align: right;\">0</td><td style=\"text-align: right;\">0.00</td><td style=\"text-align: right;\">0</td><td style=\"text-align: right;\">0.00</td><td style=\"text-align: right;\">0</td><td style=\"text-align: right;\">0.00</td></tr>\n",
       "<tr><td style=\"text-align: right;\">354170</td><td style=\"text-align: right;\">136,682,274</td><td style=\"text-align: right;\">93,624</td><td style=\"text-align: right;\">7</td><td style=\"text-align: right;\">1868</td><td style=\"text-align: right;\">0.00</td><td style=\"text-align: right;\">1</td><td style=\"text-align: right;\">1.00</td><td style=\"text-align: right;\">0</td><td style=\"text-align: right;\">0.00</td><td style=\"text-align: right;\">0</td><td style=\"text-align: right;\">0.00</td><td style=\"text-align: right;\">1</td><td style=\"text-align: right;\">7.74</td><td style=\"text-align: right;\">0</td><td style=\"text-align: right;\">0.00</td><td style=\"text-align: right;\">0</td><td style=\"text-align: right;\">0.00</td><td style=\"text-align: right;\">0</td><td style=\"text-align: right;\">0.00</td><td style=\"text-align: right;\">0</td><td style=\"text-align: right;\">0.00</td></tr>\n",
       "<tr class=\"even\"><td style=\"text-align: right;\">353462</td><td style=\"text-align: right;\">135,915,358</td><td style=\"text-align: right;\">79,721</td><td style=\"text-align: right;\">4</td><td style=\"text-align: right;\">1699</td><td style=\"text-align: right;\">0.00</td><td style=\"text-align: right;\">1</td><td style=\"text-align: right;\">1.00</td><td style=\"text-align: right;\">0</td><td style=\"text-align: right;\">0.00</td><td style=\"text-align: right;\">0</td><td style=\"text-align: right;\">0.00</td><td style=\"text-align: right;\">1</td><td style=\"text-align: right;\">7.74</td><td style=\"text-align: right;\">0</td><td style=\"text-align: right;\">0.00</td><td style=\"text-align: right;\">0</td><td style=\"text-align: right;\">0.00</td><td style=\"text-align: right;\">0</td><td style=\"text-align: right;\">0.00</td><td style=\"text-align: right;\">0</td><td style=\"text-align: right;\">0.00</td></tr>\n",
       "<tr><td style=\"text-align: right;\">353901</td><td style=\"text-align: right;\">136,494,186</td><td style=\"text-align: right;\">271,765</td><td style=\"text-align: right;\">64</td><td style=\"text-align: right;\">1575</td><td style=\"text-align: right;\">0.00</td><td style=\"text-align: right;\">1</td><td style=\"text-align: right;\">1.00</td><td style=\"text-align: right;\">0</td><td style=\"text-align: right;\">0.00</td><td style=\"text-align: right;\">0</td><td style=\"text-align: right;\">0.00</td><td style=\"text-align: right;\">1</td><td style=\"text-align: right;\">7.74</td><td style=\"text-align: right;\">0</td><td style=\"text-align: right;\">0.00</td><td style=\"text-align: right;\">0</td><td style=\"text-align: right;\">0.00</td><td style=\"text-align: right;\">0</td><td style=\"text-align: right;\">0.00</td><td style=\"text-align: right;\">0</td><td style=\"text-align: right;\">0.00</td></tr>\n",
       "<tr class=\"even\"><td style=\"text-align: right;\">353283</td><td style=\"text-align: right;\">135,771,974</td><td style=\"text-align: right;\">368,330</td><td style=\"text-align: right;\">6</td><td style=\"text-align: right;\">1503</td><td style=\"text-align: right;\">0.00</td><td style=\"text-align: right;\">1</td><td style=\"text-align: right;\">1.00</td><td style=\"text-align: right;\">0</td><td style=\"text-align: right;\">0.00</td><td style=\"text-align: right;\">0</td><td style=\"text-align: right;\">0.00</td><td style=\"text-align: right;\">1</td><td style=\"text-align: right;\">7.74</td><td style=\"text-align: right;\">0</td><td style=\"text-align: right;\">0.00</td><td style=\"text-align: right;\">0</td><td style=\"text-align: right;\">0.00</td><td style=\"text-align: right;\">0</td><td style=\"text-align: right;\">0.00</td><td style=\"text-align: right;\">0</td><td style=\"text-align: right;\">0.00</td></tr>\n",
       "<tr><td style=\"text-align: right;\">353797</td><td style=\"text-align: right;\">136,398,174</td><td style=\"text-align: right;\">75,924</td><td style=\"text-align: right;\">26</td><td style=\"text-align: right;\">1414</td><td style=\"text-align: right;\">0.00</td><td style=\"text-align: right;\">1</td><td style=\"text-align: right;\">1.00</td><td style=\"text-align: right;\">0</td><td style=\"text-align: right;\">0.00</td><td style=\"text-align: right;\">0</td><td style=\"text-align: right;\">0.00</td><td style=\"text-align: right;\">1</td><td style=\"text-align: right;\">7.74</td><td style=\"text-align: right;\">0</td><td style=\"text-align: right;\">0.00</td><td style=\"text-align: right;\">0</td><td style=\"text-align: right;\">0.00</td><td style=\"text-align: right;\">0</td><td style=\"text-align: right;\">0.00</td><td style=\"text-align: right;\">0</td><td style=\"text-align: right;\">0.00</td></tr>\n",
       "<tr class=\"even\"><td style=\"text-align: right;\">353604</td><td style=\"text-align: right;\">136,092,061</td><td style=\"text-align: right;\">315,418</td><td style=\"text-align: right;\">4</td><td style=\"text-align: right;\">911</td><td style=\"text-align: right;\">0.00</td><td style=\"text-align: right;\">1</td><td style=\"text-align: right;\">1.00</td><td style=\"text-align: right;\">0</td><td style=\"text-align: right;\">0.00</td><td style=\"text-align: right;\">0</td><td style=\"text-align: right;\">0.00</td><td style=\"text-align: right;\">1</td><td style=\"text-align: right;\">7.74</td><td style=\"text-align: right;\">0</td><td style=\"text-align: right;\">0.00</td><td style=\"text-align: right;\">0</td><td style=\"text-align: right;\">0.00</td><td style=\"text-align: right;\">0</td><td style=\"text-align: right;\">0.00</td><td style=\"text-align: right;\">0</td><td style=\"text-align: right;\">0.00</td></tr>\n",
       "<tr><td style=\"text-align: right;\">353407</td><td style=\"text-align: right;\">135,859,157</td><td style=\"text-align: right;\">121,781</td><td style=\"text-align: right;\">6</td><td style=\"text-align: right;\">35</td><td style=\"text-align: right;\">0.03</td><td style=\"text-align: right;\">1</td><td style=\"text-align: right;\">1.00</td><td style=\"text-align: right;\">0</td><td style=\"text-align: right;\">0.00</td><td style=\"text-align: right;\">0</td><td style=\"text-align: right;\">0.00</td><td style=\"text-align: right;\">1</td><td style=\"text-align: right;\">7.74</td><td style=\"text-align: right;\">0</td><td style=\"text-align: right;\">0.00</td><td style=\"text-align: right;\">0</td><td style=\"text-align: right;\">0.00</td><td style=\"text-align: right;\">0</td><td style=\"text-align: right;\">0.00</td><td style=\"text-align: right;\">0</td><td style=\"text-align: right;\">0.00</td></tr>\n",
       "</table>"
      ],
      "text/plain": [
       "<IPython.core.display.HTML object>"
      ]
     },
     "execution_count": 10,
     "metadata": {},
     "output_type": "execute_result"
    }
   ],
   "source": [
    "HTML(plt_obj.get_html())"
   ]
  },
  {
   "cell_type": "code",
   "execution_count": 11,
   "metadata": {
    "collapsed": false
   },
   "outputs": [
    {
     "data": {
      "text/html": [
       "\n",
       "\n",
       "    <div class=\"bk-root\">\n",
       "        <div class=\"plotdiv\" id=\"e9372349-88c8-44d5-b5dd-6f8d1fa79bcb\"></div>\n",
       "    </div>\n",
       "<script type=\"text/javascript\">\n",
       "  \n",
       "  (function(global) {\n",
       "    function now() {\n",
       "      return new Date();\n",
       "    }\n",
       "  \n",
       "    if (typeof (window._bokeh_onload_callbacks) === \"undefined\") {\n",
       "      window._bokeh_onload_callbacks = [];\n",
       "    }\n",
       "  \n",
       "    function run_callbacks() {\n",
       "      window._bokeh_onload_callbacks.forEach(function(callback) { callback() });\n",
       "      delete window._bokeh_onload_callbacks\n",
       "      console.info(\"Bokeh: all callbacks have finished\");\n",
       "    }\n",
       "  \n",
       "    function load_libs(js_urls, callback) {\n",
       "      window._bokeh_onload_callbacks.push(callback);\n",
       "      if (window._bokeh_is_loading > 0) {\n",
       "        console.log(\"Bokeh: BokehJS is being loaded, scheduling callback at\", now());\n",
       "        return null;\n",
       "      }\n",
       "      if (js_urls == null || js_urls.length === 0) {\n",
       "        run_callbacks();\n",
       "        return null;\n",
       "      }\n",
       "      console.log(\"Bokeh: BokehJS not loaded, scheduling load and callback at\", now());\n",
       "      window._bokeh_is_loading = js_urls.length;\n",
       "      for (var i = 0; i < js_urls.length; i++) {\n",
       "        var url = js_urls[i];\n",
       "        var s = document.createElement('script');\n",
       "        s.src = url;\n",
       "        s.async = false;\n",
       "        s.onreadystatechange = s.onload = function() {\n",
       "          window._bokeh_is_loading--;\n",
       "          if (window._bokeh_is_loading === 0) {\n",
       "            console.log(\"Bokeh: all BokehJS libraries loaded\");\n",
       "            run_callbacks()\n",
       "          }\n",
       "        };\n",
       "        s.onerror = function() {\n",
       "          console.warn(\"failed to load library \" + url);\n",
       "        };\n",
       "        console.log(\"Bokeh: injecting script tag for BokehJS library: \", url);\n",
       "        document.getElementsByTagName(\"head\")[0].appendChild(s);\n",
       "      }\n",
       "    };var element = document.getElementById(\"e9372349-88c8-44d5-b5dd-6f8d1fa79bcb\");\n",
       "    if (element == null) {\n",
       "      console.log(\"Bokeh: ERROR: autoload.js configured with elementid 'e9372349-88c8-44d5-b5dd-6f8d1fa79bcb' but no matching script tag was found. \")\n",
       "      return false;\n",
       "    }\n",
       "  \n",
       "    var js_urls = [];\n",
       "  \n",
       "    var inline_js = [\n",
       "      function(Bokeh) {\n",
       "        Bokeh.$(function() {\n",
       "            var docs_json = {\"9e13a690-35af-4f8a-a0ea-5929f6dd589d\":{\"roots\":{\"references\":[{\"attributes\":{\"plot\":{\"id\":\"3298abdd-f40c-493f-8ca8-f0a2ba82e51a\",\"subtype\":\"Figure\",\"type\":\"Plot\"}},\"id\":\"114c4bb1-f7f0-4714-ab34-dd88ebead8a0\",\"type\":\"SaveTool\"},{\"attributes\":{\"bottom\":{\"field\":\"bottom\"},\"fill_alpha\":{\"value\":0.1},\"fill_color\":{\"value\":\"#1f77b4\"},\"left\":{\"field\":\"left\"},\"line_alpha\":{\"value\":0.1},\"line_color\":{\"value\":\"#1f77b4\"},\"right\":{\"field\":\"right\"},\"top\":{\"field\":\"top\"}},\"id\":\"59516f3e-7e8d-4b74-b301-1e616684e2f5\",\"type\":\"Quad\"},{\"attributes\":{},\"id\":\"6f06be0a-4105-46ff-b800-9a116a9d8495\",\"type\":\"BasicTickFormatter\"},{\"attributes\":{\"formatter\":{\"id\":\"941f74c3-bad6-4d94-90ed-5f3b0014aad5\",\"type\":\"BasicTickFormatter\"},\"plot\":{\"id\":\"3298abdd-f40c-493f-8ca8-f0a2ba82e51a\",\"subtype\":\"Figure\",\"type\":\"Plot\"},\"ticker\":{\"id\":\"c6a128be-f187-4236-9be2-a20fc4a398b8\",\"type\":\"BasicTicker\"}},\"id\":\"0b3edafd-b488-46c7-a434-16ced25569b2\",\"type\":\"LinearAxis\"},{\"attributes\":{\"bottom\":{\"field\":\"bottom\"},\"fill_alpha\":{\"value\":0.1},\"fill_color\":{\"value\":\"#1f77b4\"},\"left\":{\"field\":\"left\"},\"line_alpha\":{\"value\":0.1},\"line_color\":{\"value\":\"#1f77b4\"},\"right\":{\"field\":\"right\"},\"top\":{\"field\":\"top\"}},\"id\":\"e9d3c296-0d4a-46d7-ad0a-a8db7c8c357c\",\"type\":\"Quad\"},{\"attributes\":{\"plot\":{\"id\":\"3298abdd-f40c-493f-8ca8-f0a2ba82e51a\",\"subtype\":\"Figure\",\"type\":\"Plot\"}},\"id\":\"1a40384a-d8ad-4497-9c4a-00ce8463b700\",\"type\":\"PanTool\"},{\"attributes\":{\"active_drag\":\"auto\",\"active_scroll\":\"auto\",\"active_tap\":\"auto\",\"tools\":[{\"id\":\"1a40384a-d8ad-4497-9c4a-00ce8463b700\",\"type\":\"PanTool\"},{\"id\":\"dbbfaaa8-1dc3-41d0-b056-f14f1ba91939\",\"type\":\"WheelZoomTool\"},{\"id\":\"fbfcdfec-c23e-4d95-a653-4c35c51dfc72\",\"type\":\"BoxZoomTool\"},{\"id\":\"114c4bb1-f7f0-4714-ab34-dd88ebead8a0\",\"type\":\"SaveTool\"},{\"id\":\"eb173092-24ac-4707-8965-bae2b51ea8ba\",\"type\":\"ResetTool\"},{\"id\":\"930daf19-15fa-48b3-b961-dc9ba9ecf6de\",\"type\":\"HelpTool\"}]},\"id\":\"9654f4a9-b6b8-46bc-93cd-f2ee20b34d32\",\"type\":\"Toolbar\"},{\"attributes\":{\"dimension\":1,\"plot\":{\"id\":\"3298abdd-f40c-493f-8ca8-f0a2ba82e51a\",\"subtype\":\"Figure\",\"type\":\"Plot\"},\"ticker\":{\"id\":\"cfc27682-c70e-41da-8318-cc074b1580e3\",\"type\":\"BasicTicker\"}},\"id\":\"771be300-9166-4863-8bc2-e8f02dacc382\",\"type\":\"Grid\"},{\"attributes\":{\"below\":[{\"id\":\"0b3edafd-b488-46c7-a434-16ced25569b2\",\"type\":\"LinearAxis\"}],\"left\":[{\"id\":\"f55b593c-c2d4-45b5-8af2-d5b65f558c0c\",\"type\":\"LinearAxis\"}],\"plot_height\":400,\"plot_width\":900,\"renderers\":[{\"id\":\"0b3edafd-b488-46c7-a434-16ced25569b2\",\"type\":\"LinearAxis\"},{\"id\":\"d93b6163-fae5-4670-af52-1534138313d9\",\"type\":\"Grid\"},{\"id\":\"f55b593c-c2d4-45b5-8af2-d5b65f558c0c\",\"type\":\"LinearAxis\"},{\"id\":\"771be300-9166-4863-8bc2-e8f02dacc382\",\"type\":\"Grid\"},{\"id\":\"f881ac51-9ae4-49f5-b96b-f132d1aa4922\",\"type\":\"BoxAnnotation\"},{\"id\":\"38fa5c48-8543-41cb-a0d8-9aae06d398bb\",\"type\":\"GlyphRenderer\"},{\"id\":\"4314bf85-ae8e-43fd-aebe-147c67a2fcc1\",\"type\":\"GlyphRenderer\"},{\"id\":\"a291657a-dd5e-4c5d-858e-b74a3e13b011\",\"type\":\"LabelSet\"},{\"id\":\"62c097fa-1025-4eb5-be5b-a7c537751a78\",\"type\":\"GlyphRenderer\"},{\"id\":\"e52ae3f2-aa16-4cf5-bd72-df3e92f1f8ed\",\"type\":\"LabelSet\"}],\"title\":{\"id\":\"a17eabf0-e571-4586-960a-7caf87a5f2d5\",\"type\":\"Title\"},\"tool_events\":{\"id\":\"26e1fce1-4e8a-412a-872d-36c23a89c614\",\"type\":\"ToolEvents\"},\"toolbar\":{\"id\":\"9654f4a9-b6b8-46bc-93cd-f2ee20b34d32\",\"type\":\"Toolbar\"},\"toolbar_location\":null,\"x_range\":{\"id\":\"a6e1c641-3b94-40e9-8807-d3a7945178c1\",\"type\":\"Range1d\"},\"y_range\":{\"id\":\"7df74514-bb31-4b9a-89de-66bd8e5407d5\",\"type\":\"Range1d\"}},\"id\":\"3298abdd-f40c-493f-8ca8-f0a2ba82e51a\",\"subtype\":\"Figure\",\"type\":\"Plot\"},{\"attributes\":{\"line_color\":{\"field\":\"line_color\"},\"xs\":{\"field\":\"xs\"},\"ys\":{\"field\":\"ys\"}},\"id\":\"4e01bd5b-5b05-4f94-9019-c20f9e6add80\",\"type\":\"MultiLine\"},{\"attributes\":{\"bottom\":{\"field\":\"bottom\"},\"fill_color\":{\"value\":\"white\"},\"left\":{\"field\":\"left\"},\"right\":{\"field\":\"right\"},\"top\":{\"field\":\"top\"}},\"id\":\"7d51aeaf-8763-4a45-a33d-f52363137801\",\"type\":\"Quad\"},{\"attributes\":{\"data_source\":{\"id\":\"6edda0d5-6827-4502-b3e6-aaeca84f1621\",\"type\":\"ColumnDataSource\"},\"glyph\":{\"id\":\"7d51aeaf-8763-4a45-a33d-f52363137801\",\"type\":\"Quad\"},\"hover_glyph\":null,\"nonselection_glyph\":{\"id\":\"59516f3e-7e8d-4b74-b301-1e616684e2f5\",\"type\":\"Quad\"},\"selection_glyph\":null},\"id\":\"62c097fa-1025-4eb5-be5b-a7c537751a78\",\"type\":\"GlyphRenderer\"},{\"attributes\":{\"callback\":null,\"column_names\":[\"y\",\"x\",\"vals\"],\"data\":{\"vals\":[\"6_1503\",\"4_1699\",\"4_911\",\"26_1414\",\"64_1575\",\"7_1868\"],\"x\":[135771974,135915358,136092061,136398174,136494186,136682274],\"y\":[200.0,301.0,95.0,199.0,200.0,302.0]}},\"id\":\"1351748e-a866-4fcb-a6ab-3b32fb544c16\",\"type\":\"ColumnDataSource\"},{\"attributes\":{\"line_alpha\":{\"value\":0.1},\"line_color\":{\"value\":\"#1f77b4\"},\"xs\":{\"field\":\"xs\"},\"ys\":{\"field\":\"ys\"}},\"id\":\"ce5840d7-a10b-4e1e-bb92-a9b3d5fae18f\",\"type\":\"MultiLine\"},{\"attributes\":{\"level\":\"glyph\",\"plot\":{\"id\":\"3298abdd-f40c-493f-8ca8-f0a2ba82e51a\",\"subtype\":\"Figure\",\"type\":\"Plot\"},\"source\":{\"id\":\"e79206f5-c6fb-4337-9bd2-5af133012628\",\"type\":\"ColumnDataSource\"},\"text\":{\"field\":\"vals\"},\"text_align\":\"center\",\"text_baseline\":\"middle\",\"text_font_size\":{\"value\":\"8pt\"},\"x\":{\"field\":\"x\"},\"y\":{\"field\":\"y\"}},\"id\":\"e52ae3f2-aa16-4cf5-bd72-df3e92f1f8ed\",\"type\":\"LabelSet\"},{\"attributes\":{\"plot\":null,\"text\":null},\"id\":\"a17eabf0-e571-4586-960a-7caf87a5f2d5\",\"type\":\"Title\"},{\"attributes\":{\"callback\":null,\"end\":400},\"id\":\"7df74514-bb31-4b9a-89de-66bd8e5407d5\",\"type\":\"Range1d\"},{\"attributes\":{\"bottom_units\":\"screen\",\"fill_alpha\":{\"value\":0.5},\"fill_color\":{\"value\":\"lightgrey\"},\"left_units\":\"screen\",\"level\":\"overlay\",\"line_alpha\":{\"value\":1.0},\"line_color\":{\"value\":\"black\"},\"line_dash\":[4,4],\"line_width\":{\"value\":2},\"plot\":null,\"render_mode\":\"css\",\"right_units\":\"screen\",\"top_units\":\"screen\"},\"id\":\"f881ac51-9ae4-49f5-b96b-f132d1aa4922\",\"type\":\"BoxAnnotation\"},{\"attributes\":{\"overlay\":{\"id\":\"f881ac51-9ae4-49f5-b96b-f132d1aa4922\",\"type\":\"BoxAnnotation\"},\"plot\":{\"id\":\"3298abdd-f40c-493f-8ca8-f0a2ba82e51a\",\"subtype\":\"Figure\",\"type\":\"Plot\"}},\"id\":\"fbfcdfec-c23e-4d95-a653-4c35c51dfc72\",\"type\":\"BoxZoomTool\"},{\"attributes\":{\"level\":\"glyph\",\"plot\":{\"id\":\"3298abdd-f40c-493f-8ca8-f0a2ba82e51a\",\"subtype\":\"Figure\",\"type\":\"Plot\"},\"source\":{\"id\":\"1351748e-a866-4fcb-a6ab-3b32fb544c16\",\"type\":\"ColumnDataSource\"},\"text\":{\"field\":\"vals\"},\"text_font_size\":{\"value\":\"9pt\"},\"text_font_style\":\"bold\",\"x\":{\"field\":\"x\"},\"y\":{\"field\":\"y\"}},\"id\":\"a291657a-dd5e-4c5d-858e-b74a3e13b011\",\"type\":\"LabelSet\"},{\"attributes\":{\"plot\":{\"id\":\"3298abdd-f40c-493f-8ca8-f0a2ba82e51a\",\"subtype\":\"Figure\",\"type\":\"Plot\"}},\"id\":\"dbbfaaa8-1dc3-41d0-b056-f14f1ba91939\",\"type\":\"WheelZoomTool\"},{\"attributes\":{},\"id\":\"cfc27682-c70e-41da-8318-cc074b1580e3\",\"type\":\"BasicTicker\"},{\"attributes\":{\"plot\":{\"id\":\"3298abdd-f40c-493f-8ca8-f0a2ba82e51a\",\"subtype\":\"Figure\",\"type\":\"Plot\"}},\"id\":\"eb173092-24ac-4707-8965-bae2b51ea8ba\",\"type\":\"ResetTool\"},{\"attributes\":{\"bottom\":{\"field\":\"bottom\"},\"fill_color\":{\"field\":\"fill_color\"},\"left\":{\"field\":\"left\"},\"line_color\":{\"value\":null},\"right\":{\"field\":\"right\"},\"top\":{\"field\":\"top\"}},\"id\":\"104fe97c-7937-43d9-8966-0910708fc965\",\"type\":\"Quad\"},{\"attributes\":{\"callback\":null,\"column_names\":[\"xs\",\"ys\",\"line_color\"],\"data\":{\"line_color\":[\"black\",\"black\",\"black\",\"black\",\"black\",\"black\",\"black\",\"black\",\"black\",\"black\",\"black\",\"black\",\"black\",\"black\",\"black\",\"black\",\"black\",\"black\",\"black\",\"black\",\"black\",\"black\",\"black\",\"black\",\"black\",\"black\",\"black\",\"black\",\"black\",\"black\",\"black\",\"black\",\"black\",\"black\",\"black\",\"black\",\"black\",\"black\",\"black\",\"black\",\"black\",\"black\",\"black\",\"black\",\"black\",\"black\",\"black\",\"black\",\"black\",\"black\",\"black\",\"black\",\"black\",\"black\",\"black\",\"black\",\"black\",\"black\",\"black\",\"black\",\"black\",\"black\",\"black\",\"black\",\"black\",\"black\",\"black\",\"black\",\"black\",\"black\",\"black\",\"black\",\"black\",\"black\",\"black\",\"black\",\"black\",\"black\",\"black\",\"black\",\"black\",\"black\",\"black\",\"black\",\"black\",\"black\",\"black\",\"black\",\"black\",\"black\",\"black\",\"black\",\"black\",\"black\",\"black\",\"black\",\"black\",\"black\",\"black\",\"black\",\"black\",\"black\",\"black\",\"black\",\"black\",\"black\",\"black\",\"black\",\"black\",\"black\",\"black\"],\"xs\":[[135771974,135771974],[135859371,135859371],[135877562,135877562],[136022798,136022798],[136058820,136058820],[136140304,136140304],[135915358,135915358],[135954405,135954405],[135995073,135995073],[135995079,135995079],[136092061,136092061],[136273578,136273578],[136322676,136322676],[136407479,136407479],[136398174,136398174],[136402117,136402117],[136403749,136403749],[136409073,136409073],[136410299,136410299],[136413359,136413359],[136416855,136416855],[136416941,136416941],[136418348,136418348],[136419961,136419961],[136420690,136420690],[136422171,136422171],[136428460,136428460],[136430866,136430866],[136432103,136432103],[136437507,136437507],[136439090,136439090],[136439517,136439517],[136444123,136444123],[136445526,136445526],[136445869,136445869],[136455600,136455600],[136456642,136456642],[136462441,136462441],[136470714,136470714],[136474098,136474098],[136494186,136494186],[136495300,136495300],[136495619,136495619],[136499166,136499166],[136502792,136502792],[136503157,136503157],[136507039,136507039],[136511575,136511575],[136518103,136518103],[136521514,136521514],[136522675,136522675],[136522941,136522941],[136526981,136526981],[136535410,136535410],[136539122,136539122],[136544197,136544197],[136550109,136550109],[136551694,136551694],[136553188,136553188],[136553639,136553639],[136554800,136554800],[136557319,136557319],[136558157,136558157],[136569848,136569848],[136575199,136575199],[136576577,136576577],[136578536,136578536],[136580287,136580287],[136583192,136583192],[136586958,136586958],[136588478,136588478],[136589612,136589612],[136591178,136591178],[136591859,136591859],[136593760,136593760],[136594158,136594158],[136603276,136603276],[136603366,136603366],[136608231,136608231],[136609975,136609975],[136610598,136610598],[136611624,136611624],[136613780,136613780],[136614255,136614255],[136614813,136614813],[136617524,136617524],[136622216,136622216],[136625602,136625602],[136629911,136629911],[136630757,136630757],[136630989,136630989],[136631031,136631031],[136633771,136633771],[136636324,136636324],[136638216,136638216],[136640233,136640233],[136641882,136641882],[136643555,136643555],[136658345,136658345],[136670298,136670298],[136685228,136685228],[136696138,136696138],[136740900,136740900],[136765951,136765951],[136682274,136682274],[136691825,136691825],[136698098,136698098],[136721603,136721603],[136721995,136721995],[136755684,136755684],[136775898,136775898]],\"ys\":[[150,195],[150,195],[150,195],[150,195],[150,195],[150,195],[250,296],[250,296],[250,296],[250,296],[50,90],[50,90],[50,90],[50,90],[150,194],[150,194],[150,194],[150,194],[150,194],[150,194],[150,194],[150,194],[150,194],[150,194],[150,194],[150,194],[150,194],[150,194],[150,194],[150,194],[150,194],[150,194],[150,194],[150,194],[150,194],[150,194],[150,194],[150,194],[150,194],[150,194],[150,195],[150,195],[150,195],[150,195],[150,195],[150,195],[150,195],[150,195],[150,195],[150,195],[150,195],[150,195],[150,195],[150,195],[150,195],[150,195],[150,195],[150,195],[150,195],[150,195],[150,195],[150,195],[150,195],[150,195],[150,195],[150,195],[150,195],[150,195],[150,195],[150,195],[150,195],[150,195],[150,195],[150,195],[150,195],[150,195],[150,195],[150,195],[150,195],[150,195],[150,195],[150,195],[150,195],[150,195],[150,195],[150,195],[150,195],[150,195],[150,195],[150,195],[150,195],[150,195],[150,195],[150,195],[150,195],[150,195],[150,195],[150,195],[150,195],[150,195],[150,195],[150,195],[150,195],[150,195],[250,297],[250,297],[250,297],[250,297],[250,297],[250,297],[250,297]]}},\"id\":\"180f7298-41bd-4237-b130-2b7f5c4a2fca\",\"type\":\"ColumnDataSource\"},{\"attributes\":{},\"id\":\"c6a128be-f187-4236-9be2-a20fc4a398b8\",\"type\":\"BasicTicker\"},{\"attributes\":{\"plot\":{\"id\":\"3298abdd-f40c-493f-8ca8-f0a2ba82e51a\",\"subtype\":\"Figure\",\"type\":\"Plot\"}},\"id\":\"930daf19-15fa-48b3-b961-dc9ba9ecf6de\",\"type\":\"HelpTool\"},{\"attributes\":{},\"id\":\"26e1fce1-4e8a-412a-872d-36c23a89c614\",\"type\":\"ToolEvents\"},{\"attributes\":{\"formatter\":{\"id\":\"6f06be0a-4105-46ff-b800-9a116a9d8495\",\"type\":\"BasicTickFormatter\"},\"plot\":{\"id\":\"3298abdd-f40c-493f-8ca8-f0a2ba82e51a\",\"subtype\":\"Figure\",\"type\":\"Plot\"},\"ticker\":{\"id\":\"cfc27682-c70e-41da-8318-cc074b1580e3\",\"type\":\"BasicTicker\"},\"visible\":null},\"id\":\"f55b593c-c2d4-45b5-8af2-d5b65f558c0c\",\"type\":\"LinearAxis\"},{\"attributes\":{\"data_source\":{\"id\":\"83535c98-2d50-4650-a6d0-9152be4df05a\",\"type\":\"ColumnDataSource\"},\"glyph\":{\"id\":\"104fe97c-7937-43d9-8966-0910708fc965\",\"type\":\"Quad\"},\"hover_glyph\":null,\"nonselection_glyph\":{\"id\":\"e9d3c296-0d4a-46d7-ad0a-a8db7c8c357c\",\"type\":\"Quad\"},\"selection_glyph\":null},\"id\":\"38fa5c48-8543-41cb-a0d8-9aae06d398bb\",\"type\":\"GlyphRenderer\"},{\"attributes\":{\"plot\":{\"id\":\"3298abdd-f40c-493f-8ca8-f0a2ba82e51a\",\"subtype\":\"Figure\",\"type\":\"Plot\"},\"ticker\":{\"id\":\"c6a128be-f187-4236-9be2-a20fc4a398b8\",\"type\":\"BasicTicker\"}},\"id\":\"d93b6163-fae5-4670-af52-1534138313d9\",\"type\":\"Grid\"},{\"attributes\":{\"data_source\":{\"id\":\"180f7298-41bd-4237-b130-2b7f5c4a2fca\",\"type\":\"ColumnDataSource\"},\"glyph\":{\"id\":\"4e01bd5b-5b05-4f94-9019-c20f9e6add80\",\"type\":\"MultiLine\"},\"hover_glyph\":null,\"nonselection_glyph\":{\"id\":\"ce5840d7-a10b-4e1e-bb92-a9b3d5fae18f\",\"type\":\"MultiLine\"},\"selection_glyph\":null},\"id\":\"4314bf85-ae8e-43fd-aebe-147c67a2fcc1\",\"type\":\"GlyphRenderer\"},{\"attributes\":{\"callback\":null,\"column_names\":[\"y\",\"x\",\"vals\"],\"data\":{\"vals\":[\"RAB3GAP1\",\"ZRANB3\",\"R3HDM1\",\"UBXN4\",\"LCT\",\"MCM6\",\"DARS\"],\"x\":[135869057.0,136122878.0,136385961.0,136520911.0,136570082.5,136615621.5,136703738.0],\"y\":[360.0,360.0,360.0,360.0,360.0,360.0,360.0]}},\"id\":\"e79206f5-c6fb-4337-9bd2-5af133012628\",\"type\":\"ColumnDataSource\"},{\"attributes\":{\"callback\":null,\"end\":136786630,\"start\":135757320},\"id\":\"a6e1c641-3b94-40e9-8807-d3a7945178c1\",\"type\":\"Range1d\"},{\"attributes\":{\"callback\":null,\"column_names\":[\"right\",\"bottom\",\"top\",\"left\"],\"data\":{\"bottom\":[345,345,345,345,345,345,345],\"left\":[135809835,135957574,136289083,136499189,136545415,136597196,136664254],\"right\":[135928279,136288182,136482839,136542633,136594750,136634047,136743222],\"top\":[375,375,375,375,375,375,375]}},\"id\":\"6edda0d5-6827-4502-b3e6-aaeca84f1621\",\"type\":\"ColumnDataSource\"},{\"attributes\":{\"callback\":null,\"column_names\":[\"right\",\"bottom\",\"top\",\"left\",\"fill_color\"],\"data\":{\"bottom\":[150,250,50,150,150,250],\"fill_color\":[\"#61c461\",\"#61c461\",\"#00ff00\",\"#61c461\",\"#61c461\",\"#61c461\"],\"left\":[135771974,135915358,136092061,136398174,136494186,136682274],\"right\":[136140304,135995079,136407479,136474098,136765951,136775898],\"top\":[195,296,90,194,195,297]}},\"id\":\"83535c98-2d50-4650-a6d0-9152be4df05a\",\"type\":\"ColumnDataSource\"},{\"attributes\":{},\"id\":\"941f74c3-bad6-4d94-90ed-5f3b0014aad5\",\"type\":\"BasicTickFormatter\"}],\"root_ids\":[\"3298abdd-f40c-493f-8ca8-f0a2ba82e51a\"]},\"title\":\"Bokeh Application\",\"version\":\"0.12.0\"}};\n",
       "            var render_items = [{\"docid\":\"9e13a690-35af-4f8a-a0ea-5929f6dd589d\",\"elementid\":\"e9372349-88c8-44d5-b5dd-6f8d1fa79bcb\",\"modelid\":\"3298abdd-f40c-493f-8ca8-f0a2ba82e51a\",\"notebook_comms_target\":\"93e08b2d-bbe7-49bc-80d0-442cb0adae2f\"}];\n",
       "            \n",
       "            Bokeh.embed.embed_items(docs_json, render_items);\n",
       "        });\n",
       "      },\n",
       "      function(Bokeh) {\n",
       "      }\n",
       "    ];\n",
       "  \n",
       "    function run_inline_js() {\n",
       "      for (var i = 0; i < inline_js.length; i++) {\n",
       "        inline_js[i](window.Bokeh);\n",
       "      }\n",
       "    }\n",
       "  \n",
       "    if (window._bokeh_is_loading === 0) {\n",
       "      console.log(\"Bokeh: BokehJS loaded, going straight to plotting\");\n",
       "      run_inline_js();\n",
       "    } else {\n",
       "      load_libs(js_urls, function() {\n",
       "        console.log(\"Bokeh: BokehJS plotting callback run at\", now());\n",
       "        run_inline_js();\n",
       "      });\n",
       "    }\n",
       "  }(this));\n",
       "</script>"
      ]
     },
     "metadata": {},
     "output_type": "display_data"
    },
    {
     "data": {
      "text/html": [
       "<p><code>&lt;Bokeh Notebook handle for <strong>In[11]</strong>&gt;</code></p>"
      ],
      "text/plain": [
       "<bokeh.io._CommsHandle at 0x7f46f10b9e10>"
      ]
     },
     "execution_count": 11,
     "metadata": {},
     "output_type": "execute_result"
    }
   ],
   "source": [
    "plt_obj = dm.superset_yes_no([dm.di_4_911, dm.di_64_1575, dm.di_7_1868, dm.di_4_1699], \n",
    "                             [dm.di_10_2206, dm.di_11_765], min_match=0.001)\n",
    "plt = plt_obj.do_plot()\n",
    "show(plt)"
   ]
  },
  {
   "cell_type": "code",
   "execution_count": 12,
   "metadata": {
    "collapsed": false
   },
   "outputs": [
    {
     "data": {
      "text/html": [
       "<table>\n",
       "<thead><tr><th style=\"text-align:center\">index</th><th style=\"text-align:center\">first</th><th style=\"text-align:center\">length</th><th style=\"text-align:center\">snps</th><th style=\"text-align:center\" colspan=2>alleles</th><th style=\"text-align:center\" colspan=2>matches</th><th style=\"text-align:center\" colspan=2>afr</th><th style=\"text-align:center\" colspan=2>afx</th><th style=\"text-align:center\" colspan=2>amr</th><th style=\"text-align:center\" colspan=2>eas</th><th style=\"text-align:center\" colspan=2>eur</th><th style=\"text-align:center\" colspan=2>sas</th><th style=\"text-align:center\" colspan=2>sax</th></tr></thead>\n",
       "<tr class=\"even\"><td style=\"text-align: right;\">354170</td><td style=\"text-align: right;\">136,682,274</td><td style=\"text-align: right;\">93,624</td><td style=\"text-align: right;\">7</td><td style=\"text-align: right;\">1868</td><td style=\"text-align: right;\">0.00</td><td style=\"text-align: right;\">1</td><td style=\"text-align: right;\">1.00</td><td style=\"text-align: right;\">0</td><td style=\"text-align: right;\">0.00</td><td style=\"text-align: right;\">0</td><td style=\"text-align: right;\">0.00</td><td style=\"text-align: right;\">0</td><td style=\"text-align: right;\">0.00</td><td style=\"text-align: right;\">0</td><td style=\"text-align: right;\">0.00</td><td style=\"text-align: right;\">1</td><td style=\"text-align: right;\">8.03</td><td style=\"text-align: right;\">0</td><td style=\"text-align: right;\">0.00</td><td style=\"text-align: right;\">0</td><td style=\"text-align: right;\">0.00</td></tr>\n",
       "<tr><td style=\"text-align: right;\">353462</td><td style=\"text-align: right;\">135,915,358</td><td style=\"text-align: right;\">79,721</td><td style=\"text-align: right;\">4</td><td style=\"text-align: right;\">1699</td><td style=\"text-align: right;\">0.00</td><td style=\"text-align: right;\">1</td><td style=\"text-align: right;\">1.00</td><td style=\"text-align: right;\">0</td><td style=\"text-align: right;\">0.00</td><td style=\"text-align: right;\">0</td><td style=\"text-align: right;\">0.00</td><td style=\"text-align: right;\">0</td><td style=\"text-align: right;\">0.00</td><td style=\"text-align: right;\">0</td><td style=\"text-align: right;\">0.00</td><td style=\"text-align: right;\">1</td><td style=\"text-align: right;\">8.03</td><td style=\"text-align: right;\">0</td><td style=\"text-align: right;\">0.00</td><td style=\"text-align: right;\">0</td><td style=\"text-align: right;\">0.00</td></tr>\n",
       "<tr class=\"even\"><td style=\"text-align: right;\">353901</td><td style=\"text-align: right;\">136,494,186</td><td style=\"text-align: right;\">271,765</td><td style=\"text-align: right;\">64</td><td style=\"text-align: right;\">1575</td><td style=\"text-align: right;\">0.00</td><td style=\"text-align: right;\">1</td><td style=\"text-align: right;\">1.00</td><td style=\"text-align: right;\">0</td><td style=\"text-align: right;\">0.00</td><td style=\"text-align: right;\">0</td><td style=\"text-align: right;\">0.00</td><td style=\"text-align: right;\">0</td><td style=\"text-align: right;\">0.00</td><td style=\"text-align: right;\">0</td><td style=\"text-align: right;\">0.00</td><td style=\"text-align: right;\">1</td><td style=\"text-align: right;\">8.03</td><td style=\"text-align: right;\">0</td><td style=\"text-align: right;\">0.00</td><td style=\"text-align: right;\">0</td><td style=\"text-align: right;\">0.00</td></tr>\n",
       "<tr><td style=\"text-align: right;\">353283</td><td style=\"text-align: right;\">135,771,974</td><td style=\"text-align: right;\">368,330</td><td style=\"text-align: right;\">6</td><td style=\"text-align: right;\">1503</td><td style=\"text-align: right;\">0.00</td><td style=\"text-align: right;\">1</td><td style=\"text-align: right;\">1.00</td><td style=\"text-align: right;\">0</td><td style=\"text-align: right;\">0.00</td><td style=\"text-align: right;\">0</td><td style=\"text-align: right;\">0.00</td><td style=\"text-align: right;\">0</td><td style=\"text-align: right;\">0.00</td><td style=\"text-align: right;\">0</td><td style=\"text-align: right;\">0.00</td><td style=\"text-align: right;\">1</td><td style=\"text-align: right;\">8.03</td><td style=\"text-align: right;\">0</td><td style=\"text-align: right;\">0.00</td><td style=\"text-align: right;\">0</td><td style=\"text-align: right;\">0.00</td></tr>\n",
       "<tr class=\"even\"><td style=\"text-align: right;\">353797</td><td style=\"text-align: right;\">136,398,174</td><td style=\"text-align: right;\">75,924</td><td style=\"text-align: right;\">26</td><td style=\"text-align: right;\">1414</td><td style=\"text-align: right;\">0.00</td><td style=\"text-align: right;\">1</td><td style=\"text-align: right;\">1.00</td><td style=\"text-align: right;\">0</td><td style=\"text-align: right;\">0.00</td><td style=\"text-align: right;\">0</td><td style=\"text-align: right;\">0.00</td><td style=\"text-align: right;\">0</td><td style=\"text-align: right;\">0.00</td><td style=\"text-align: right;\">0</td><td style=\"text-align: right;\">0.00</td><td style=\"text-align: right;\">1</td><td style=\"text-align: right;\">8.03</td><td style=\"text-align: right;\">0</td><td style=\"text-align: right;\">0.00</td><td style=\"text-align: right;\">0</td><td style=\"text-align: right;\">0.00</td></tr>\n",
       "<tr><td style=\"text-align: right;\">353604</td><td style=\"text-align: right;\">136,092,061</td><td style=\"text-align: right;\">315,418</td><td style=\"text-align: right;\">4</td><td style=\"text-align: right;\">911</td><td style=\"text-align: right;\">0.00</td><td style=\"text-align: right;\">1</td><td style=\"text-align: right;\">1.00</td><td style=\"text-align: right;\">0</td><td style=\"text-align: right;\">0.00</td><td style=\"text-align: right;\">0</td><td style=\"text-align: right;\">0.00</td><td style=\"text-align: right;\">0</td><td style=\"text-align: right;\">0.00</td><td style=\"text-align: right;\">0</td><td style=\"text-align: right;\">0.00</td><td style=\"text-align: right;\">1</td><td style=\"text-align: right;\">8.03</td><td style=\"text-align: right;\">0</td><td style=\"text-align: right;\">0.00</td><td style=\"text-align: right;\">0</td><td style=\"text-align: right;\">0.00</td></tr>\n",
       "</table>"
      ],
      "text/plain": [
       "<IPython.core.display.HTML object>"
      ]
     },
     "execution_count": 12,
     "metadata": {},
     "output_type": "execute_result"
    }
   ],
   "source": [
    "HTML(plt_obj.get_html())"
   ]
  },
  {
   "cell_type": "code",
   "execution_count": 13,
   "metadata": {
    "collapsed": false
   },
   "outputs": [
    {
     "data": {
      "text/html": [
       "\n",
       "\n",
       "    <div class=\"bk-root\">\n",
       "        <div class=\"plotdiv\" id=\"93c8c970-4841-479b-bf52-89db426dd14e\"></div>\n",
       "    </div>\n",
       "<script type=\"text/javascript\">\n",
       "  \n",
       "  (function(global) {\n",
       "    function now() {\n",
       "      return new Date();\n",
       "    }\n",
       "  \n",
       "    if (typeof (window._bokeh_onload_callbacks) === \"undefined\") {\n",
       "      window._bokeh_onload_callbacks = [];\n",
       "    }\n",
       "  \n",
       "    function run_callbacks() {\n",
       "      window._bokeh_onload_callbacks.forEach(function(callback) { callback() });\n",
       "      delete window._bokeh_onload_callbacks\n",
       "      console.info(\"Bokeh: all callbacks have finished\");\n",
       "    }\n",
       "  \n",
       "    function load_libs(js_urls, callback) {\n",
       "      window._bokeh_onload_callbacks.push(callback);\n",
       "      if (window._bokeh_is_loading > 0) {\n",
       "        console.log(\"Bokeh: BokehJS is being loaded, scheduling callback at\", now());\n",
       "        return null;\n",
       "      }\n",
       "      if (js_urls == null || js_urls.length === 0) {\n",
       "        run_callbacks();\n",
       "        return null;\n",
       "      }\n",
       "      console.log(\"Bokeh: BokehJS not loaded, scheduling load and callback at\", now());\n",
       "      window._bokeh_is_loading = js_urls.length;\n",
       "      for (var i = 0; i < js_urls.length; i++) {\n",
       "        var url = js_urls[i];\n",
       "        var s = document.createElement('script');\n",
       "        s.src = url;\n",
       "        s.async = false;\n",
       "        s.onreadystatechange = s.onload = function() {\n",
       "          window._bokeh_is_loading--;\n",
       "          if (window._bokeh_is_loading === 0) {\n",
       "            console.log(\"Bokeh: all BokehJS libraries loaded\");\n",
       "            run_callbacks()\n",
       "          }\n",
       "        };\n",
       "        s.onerror = function() {\n",
       "          console.warn(\"failed to load library \" + url);\n",
       "        };\n",
       "        console.log(\"Bokeh: injecting script tag for BokehJS library: \", url);\n",
       "        document.getElementsByTagName(\"head\")[0].appendChild(s);\n",
       "      }\n",
       "    };var element = document.getElementById(\"93c8c970-4841-479b-bf52-89db426dd14e\");\n",
       "    if (element == null) {\n",
       "      console.log(\"Bokeh: ERROR: autoload.js configured with elementid '93c8c970-4841-479b-bf52-89db426dd14e' but no matching script tag was found. \")\n",
       "      return false;\n",
       "    }\n",
       "  \n",
       "    var js_urls = [];\n",
       "  \n",
       "    var inline_js = [\n",
       "      function(Bokeh) {\n",
       "        Bokeh.$(function() {\n",
       "            var docs_json = {\"c1c64976-5e97-4567-9028-53197bd9dcdb\":{\"roots\":{\"references\":[{\"attributes\":{\"level\":\"glyph\",\"plot\":{\"id\":\"e6f16a36-d359-4f43-b41d-2ce5375c6ab3\",\"subtype\":\"Figure\",\"type\":\"Plot\"},\"source\":{\"id\":\"673da5c0-e23d-4752-9fdb-1bc1adba5930\",\"type\":\"ColumnDataSource\"},\"text\":{\"field\":\"vals\"},\"text_font_size\":{\"value\":\"9pt\"},\"text_font_style\":\"bold\",\"x\":{\"field\":\"x\"},\"y\":{\"field\":\"y\"}},\"id\":\"dd047279-eeb7-4c04-9d49-23ad7cab9be4\",\"type\":\"LabelSet\"},{\"attributes\":{\"data_source\":{\"id\":\"37a71045-b1cc-479b-8401-a38918dec39a\",\"type\":\"ColumnDataSource\"},\"glyph\":{\"id\":\"f9e34c9d-4b3c-4b3d-960f-1ca5085d412e\",\"type\":\"Quad\"},\"hover_glyph\":null,\"nonselection_glyph\":{\"id\":\"b5d1db6b-a102-4029-a740-550a13f35ca0\",\"type\":\"Quad\"},\"selection_glyph\":null},\"id\":\"5597c715-e72b-4765-9f20-0b2364272228\",\"type\":\"GlyphRenderer\"},{\"attributes\":{\"formatter\":{\"id\":\"7ca5b113-952e-4e02-a8cb-23354bf57f23\",\"type\":\"BasicTickFormatter\"},\"plot\":{\"id\":\"e6f16a36-d359-4f43-b41d-2ce5375c6ab3\",\"subtype\":\"Figure\",\"type\":\"Plot\"},\"ticker\":{\"id\":\"7c7864b9-d2a0-4c93-8dda-3f1d55de15b4\",\"type\":\"BasicTicker\"}},\"id\":\"dda498b1-d6ae-49d6-a1ad-622272889b69\",\"type\":\"LinearAxis\"},{\"attributes\":{},\"id\":\"47bf75c1-a0a0-454d-ba0e-6bbaf0dc710a\",\"type\":\"BasicTicker\"},{\"attributes\":{\"plot\":{\"id\":\"e6f16a36-d359-4f43-b41d-2ce5375c6ab3\",\"subtype\":\"Figure\",\"type\":\"Plot\"}},\"id\":\"59eb27ad-6a49-4dd9-b4e3-5b0a0d72f777\",\"type\":\"ResetTool\"},{\"attributes\":{\"line_color\":{\"field\":\"line_color\"},\"xs\":{\"field\":\"xs\"},\"ys\":{\"field\":\"ys\"}},\"id\":\"917c841c-bd71-48d1-828f-4d9128f2827b\",\"type\":\"MultiLine\"},{\"attributes\":{\"plot\":{\"id\":\"e6f16a36-d359-4f43-b41d-2ce5375c6ab3\",\"subtype\":\"Figure\",\"type\":\"Plot\"}},\"id\":\"a7a28719-d131-4403-ba0b-dc27fdb426b4\",\"type\":\"PanTool\"},{\"attributes\":{\"data_source\":{\"id\":\"3d10e26a-5e7f-4a2c-a473-8a0cf10221ed\",\"type\":\"ColumnDataSource\"},\"glyph\":{\"id\":\"917c841c-bd71-48d1-828f-4d9128f2827b\",\"type\":\"MultiLine\"},\"hover_glyph\":null,\"nonselection_glyph\":{\"id\":\"40cfce6c-9a53-47eb-9b48-4797370c4bab\",\"type\":\"MultiLine\"},\"selection_glyph\":null},\"id\":\"dbb17273-f375-4383-b6be-6092461c6055\",\"type\":\"GlyphRenderer\"},{\"attributes\":{\"dimension\":1,\"plot\":{\"id\":\"e6f16a36-d359-4f43-b41d-2ce5375c6ab3\",\"subtype\":\"Figure\",\"type\":\"Plot\"},\"ticker\":{\"id\":\"47bf75c1-a0a0-454d-ba0e-6bbaf0dc710a\",\"type\":\"BasicTicker\"}},\"id\":\"38143c2a-1094-4f58-a6b8-424681c613c0\",\"type\":\"Grid\"},{\"attributes\":{\"callback\":null,\"column_names\":[\"xs\",\"ys\",\"line_color\"],\"data\":{\"line_color\":[\"black\",\"black\",\"black\",\"black\",\"black\",\"black\",\"black\",\"black\",\"black\",\"black\",\"black\",\"black\",\"black\",\"black\",\"black\",\"black\",\"black\",\"black\",\"black\",\"black\",\"black\",\"black\",\"black\",\"black\",\"black\",\"black\",\"black\",\"black\",\"black\",\"black\",\"black\",\"black\",\"black\",\"black\",\"black\",\"black\",\"black\",\"black\",\"black\",\"black\",\"black\",\"black\",\"black\",\"black\",\"black\",\"black\",\"black\",\"black\",\"black\",\"black\",\"black\",\"black\",\"black\",\"black\",\"black\",\"black\",\"black\",\"black\",\"black\",\"black\",\"black\",\"black\",\"black\",\"black\",\"black\",\"black\",\"black\",\"black\",\"black\",\"black\",\"black\",\"black\",\"black\",\"black\",\"black\",\"black\",\"black\",\"black\",\"black\",\"black\",\"black\",\"black\",\"black\",\"black\",\"black\",\"black\",\"black\",\"black\",\"black\",\"black\",\"black\",\"black\",\"black\",\"black\",\"black\",\"black\",\"black\",\"black\",\"black\",\"black\",\"black\",\"black\",\"black\",\"black\",\"black\",\"black\",\"black\",\"black\",\"black\",\"black\",\"black\",\"black\",\"black\",\"black\",\"black\",\"black\",\"black\"],\"xs\":[[135771974,135771974],[135859371,135859371],[135877562,135877562],[136022798,136022798],[136058820,136058820],[136140304,136140304],[136092061,136092061],[136273578,136273578],[136322676,136322676],[136407479,136407479],[136398174,136398174],[136402117,136402117],[136403749,136403749],[136409073,136409073],[136410299,136410299],[136413359,136413359],[136416855,136416855],[136416941,136416941],[136418348,136418348],[136419961,136419961],[136420690,136420690],[136422171,136422171],[136428460,136428460],[136430866,136430866],[136432103,136432103],[136437507,136437507],[136439090,136439090],[136439517,136439517],[136444123,136444123],[136445526,136445526],[136445869,136445869],[136455600,136455600],[136456642,136456642],[136462441,136462441],[136470714,136470714],[136474098,136474098],[136494186,136494186],[136495300,136495300],[136495619,136495619],[136499166,136499166],[136502792,136502792],[136503157,136503157],[136507039,136507039],[136511575,136511575],[136518103,136518103],[136521514,136521514],[136522675,136522675],[136522941,136522941],[136526981,136526981],[136535410,136535410],[136539122,136539122],[136544197,136544197],[136550109,136550109],[136551694,136551694],[136553188,136553188],[136553639,136553639],[136554800,136554800],[136557319,136557319],[136558157,136558157],[136569848,136569848],[136575199,136575199],[136576577,136576577],[136578536,136578536],[136580287,136580287],[136583192,136583192],[136586958,136586958],[136588478,136588478],[136589612,136589612],[136591178,136591178],[136591859,136591859],[136593760,136593760],[136594158,136594158],[136603276,136603276],[136603366,136603366],[136608231,136608231],[136609975,136609975],[136610598,136610598],[136611624,136611624],[136613780,136613780],[136614255,136614255],[136614813,136614813],[136617524,136617524],[136622216,136622216],[136625602,136625602],[136629911,136629911],[136630757,136630757],[136630989,136630989],[136631031,136631031],[136633771,136633771],[136636324,136636324],[136638216,136638216],[136640233,136640233],[136641882,136641882],[136643555,136643555],[136658345,136658345],[136670298,136670298],[136685228,136685228],[136696138,136696138],[136740900,136740900],[136765951,136765951],[136501840,136501840],[136505546,136505546],[136516748,136516748],[136522710,136522710],[136528004,136528004],[136539513,136539513],[136544752,136544752],[136546110,136546110],[136553529,136553529],[136555659,136555659],[136682274,136682274],[136691825,136691825],[136698098,136698098],[136721603,136721603],[136721995,136721995],[136755684,136755684],[136775898,136775898]],\"ys\":[[150,195],[150,195],[150,195],[150,195],[150,195],[150,195],[50,90],[50,90],[50,90],[50,90],[150,194],[150,194],[150,194],[150,194],[150,194],[150,194],[150,194],[150,194],[150,194],[150,194],[150,194],[150,194],[150,194],[150,194],[150,194],[150,194],[150,194],[150,194],[150,194],[150,194],[150,194],[150,194],[150,194],[150,194],[150,194],[150,194],[150,195],[150,195],[150,195],[150,195],[150,195],[150,195],[150,195],[150,195],[150,195],[150,195],[150,195],[150,195],[150,195],[150,195],[150,195],[150,195],[150,195],[150,195],[150,195],[150,195],[150,195],[150,195],[150,195],[150,195],[150,195],[150,195],[150,195],[150,195],[150,195],[150,195],[150,195],[150,195],[150,195],[150,195],[150,195],[150,195],[150,195],[150,195],[150,195],[150,195],[150,195],[150,195],[150,195],[150,195],[150,195],[150,195],[150,195],[150,195],[150,195],[150,195],[150,195],[150,195],[150,195],[150,195],[150,195],[150,195],[150,195],[150,195],[150,195],[150,195],[150,195],[150,195],[150,195],[150,195],[250,298],[250,298],[250,298],[250,298],[250,298],[250,298],[250,298],[250,298],[250,298],[250,298],[250,297],[250,297],[250,297],[250,297],[250,297],[250,297],[250,297]]}},\"id\":\"3d10e26a-5e7f-4a2c-a473-8a0cf10221ed\",\"type\":\"ColumnDataSource\"},{\"attributes\":{},\"id\":\"31263aeb-7d12-4e36-9eb5-ad4ac1e88412\",\"type\":\"BasicTickFormatter\"},{\"attributes\":{\"callback\":null,\"end\":400},\"id\":\"b319ac04-c19f-4131-b985-46d679e7b4df\",\"type\":\"Range1d\"},{\"attributes\":{},\"id\":\"7ca5b113-952e-4e02-a8cb-23354bf57f23\",\"type\":\"BasicTickFormatter\"},{\"attributes\":{\"level\":\"glyph\",\"plot\":{\"id\":\"e6f16a36-d359-4f43-b41d-2ce5375c6ab3\",\"subtype\":\"Figure\",\"type\":\"Plot\"},\"source\":{\"id\":\"fba28c21-6cde-454c-9269-ed73f0a921b1\",\"type\":\"ColumnDataSource\"},\"text\":{\"field\":\"vals\"},\"text_align\":\"center\",\"text_baseline\":\"middle\",\"text_font_size\":{\"value\":\"8pt\"},\"x\":{\"field\":\"x\"},\"y\":{\"field\":\"y\"}},\"id\":\"10e37313-92d2-4bc8-a01c-b4f09afdf06a\",\"type\":\"LabelSet\"},{\"attributes\":{\"callback\":null,\"column_names\":[\"right\",\"bottom\",\"top\",\"left\",\"fill_color\"],\"data\":{\"bottom\":[150,50,150,150,250,250],\"fill_color\":[\"#61c461\",\"#00ff00\",\"#61c461\",\"#61c461\",\"#808080\",\"#61c461\"],\"left\":[135771974,136092061,136398174,136494186,136501840,136682274],\"right\":[136140304,136407479,136474098,136765951,136555659,136775898],\"top\":[195,90,194,195,298,297]}},\"id\":\"37a71045-b1cc-479b-8401-a38918dec39a\",\"type\":\"ColumnDataSource\"},{\"attributes\":{\"bottom\":{\"field\":\"bottom\"},\"fill_alpha\":{\"value\":0.1},\"fill_color\":{\"value\":\"#1f77b4\"},\"left\":{\"field\":\"left\"},\"line_alpha\":{\"value\":0.1},\"line_color\":{\"value\":\"#1f77b4\"},\"right\":{\"field\":\"right\"},\"top\":{\"field\":\"top\"}},\"id\":\"b5d1db6b-a102-4029-a740-550a13f35ca0\",\"type\":\"Quad\"},{\"attributes\":{\"callback\":null,\"column_names\":[\"right\",\"bottom\",\"top\",\"left\"],\"data\":{\"bottom\":[345,345,345,345,345,345,345],\"left\":[135809835,135957574,136289083,136499189,136545415,136597196,136664254],\"right\":[135928279,136288182,136482839,136542633,136594750,136634047,136743222],\"top\":[375,375,375,375,375,375,375]}},\"id\":\"f587219a-0df2-4a1e-bf58-12351d228b22\",\"type\":\"ColumnDataSource\"},{\"attributes\":{\"data_source\":{\"id\":\"f587219a-0df2-4a1e-bf58-12351d228b22\",\"type\":\"ColumnDataSource\"},\"glyph\":{\"id\":\"dfa313cf-8648-4b24-8ba9-09def84e9894\",\"type\":\"Quad\"},\"hover_glyph\":null,\"nonselection_glyph\":{\"id\":\"b979c364-c370-4662-930f-4bca1f644773\",\"type\":\"Quad\"},\"selection_glyph\":null},\"id\":\"67a54158-16e6-4d74-83c7-419bd1c355d7\",\"type\":\"GlyphRenderer\"},{\"attributes\":{\"below\":[{\"id\":\"dda498b1-d6ae-49d6-a1ad-622272889b69\",\"type\":\"LinearAxis\"}],\"left\":[{\"id\":\"637e426e-4aa0-40af-860a-e7ba3a53afc3\",\"type\":\"LinearAxis\"}],\"plot_height\":400,\"plot_width\":900,\"renderers\":[{\"id\":\"dda498b1-d6ae-49d6-a1ad-622272889b69\",\"type\":\"LinearAxis\"},{\"id\":\"c872a702-001e-4825-afab-6aebd7281b35\",\"type\":\"Grid\"},{\"id\":\"637e426e-4aa0-40af-860a-e7ba3a53afc3\",\"type\":\"LinearAxis\"},{\"id\":\"38143c2a-1094-4f58-a6b8-424681c613c0\",\"type\":\"Grid\"},{\"id\":\"12628106-f0d8-4c2d-9819-dbda387b83a1\",\"type\":\"BoxAnnotation\"},{\"id\":\"5597c715-e72b-4765-9f20-0b2364272228\",\"type\":\"GlyphRenderer\"},{\"id\":\"dbb17273-f375-4383-b6be-6092461c6055\",\"type\":\"GlyphRenderer\"},{\"id\":\"dd047279-eeb7-4c04-9d49-23ad7cab9be4\",\"type\":\"LabelSet\"},{\"id\":\"67a54158-16e6-4d74-83c7-419bd1c355d7\",\"type\":\"GlyphRenderer\"},{\"id\":\"10e37313-92d2-4bc8-a01c-b4f09afdf06a\",\"type\":\"LabelSet\"}],\"title\":{\"id\":\"410ccb88-b4d6-4f7a-bd20-162b32385428\",\"type\":\"Title\"},\"tool_events\":{\"id\":\"4e050bf0-a0c8-4a97-a0a5-50d674b9ea1b\",\"type\":\"ToolEvents\"},\"toolbar\":{\"id\":\"6a91c6b1-c9d3-4c4c-85a3-6a27a94c5099\",\"type\":\"Toolbar\"},\"toolbar_location\":null,\"x_range\":{\"id\":\"ab80c013-721a-40ae-a0c2-2a3af2881545\",\"type\":\"Range1d\"},\"y_range\":{\"id\":\"b319ac04-c19f-4131-b985-46d679e7b4df\",\"type\":\"Range1d\"}},\"id\":\"e6f16a36-d359-4f43-b41d-2ce5375c6ab3\",\"subtype\":\"Figure\",\"type\":\"Plot\"},{\"attributes\":{\"plot\":{\"id\":\"e6f16a36-d359-4f43-b41d-2ce5375c6ab3\",\"subtype\":\"Figure\",\"type\":\"Plot\"}},\"id\":\"ecfddac7-0670-42dd-b3b1-4b461cdc3293\",\"type\":\"SaveTool\"},{\"attributes\":{\"plot\":{\"id\":\"e6f16a36-d359-4f43-b41d-2ce5375c6ab3\",\"subtype\":\"Figure\",\"type\":\"Plot\"}},\"id\":\"c77c0704-ce0f-46b2-aeab-446395694db7\",\"type\":\"HelpTool\"},{\"attributes\":{\"plot\":{\"id\":\"e6f16a36-d359-4f43-b41d-2ce5375c6ab3\",\"subtype\":\"Figure\",\"type\":\"Plot\"},\"ticker\":{\"id\":\"7c7864b9-d2a0-4c93-8dda-3f1d55de15b4\",\"type\":\"BasicTicker\"}},\"id\":\"c872a702-001e-4825-afab-6aebd7281b35\",\"type\":\"Grid\"},{\"attributes\":{\"overlay\":{\"id\":\"12628106-f0d8-4c2d-9819-dbda387b83a1\",\"type\":\"BoxAnnotation\"},\"plot\":{\"id\":\"e6f16a36-d359-4f43-b41d-2ce5375c6ab3\",\"subtype\":\"Figure\",\"type\":\"Plot\"}},\"id\":\"9b8ead4d-73eb-48c9-b381-48f092290e56\",\"type\":\"BoxZoomTool\"},{\"attributes\":{},\"id\":\"4e050bf0-a0c8-4a97-a0a5-50d674b9ea1b\",\"type\":\"ToolEvents\"},{\"attributes\":{\"callback\":null,\"column_names\":[\"y\",\"x\",\"vals\"],\"data\":{\"vals\":[\"6_1503\",\"4_911\",\"26_1414\",\"64_1575\",\"10_2206\",\"7_1868\"],\"x\":[135771974,136092061,136398174,136494186,136501840,136682274],\"y\":[200.0,95.0,199.0,200.0,303.0,302.0]}},\"id\":\"673da5c0-e23d-4752-9fdb-1bc1adba5930\",\"type\":\"ColumnDataSource\"},{\"attributes\":{},\"id\":\"7c7864b9-d2a0-4c93-8dda-3f1d55de15b4\",\"type\":\"BasicTicker\"},{\"attributes\":{\"callback\":null,\"end\":136786630,\"start\":135757320},\"id\":\"ab80c013-721a-40ae-a0c2-2a3af2881545\",\"type\":\"Range1d\"},{\"attributes\":{\"bottom\":{\"field\":\"bottom\"},\"fill_alpha\":{\"value\":0.1},\"fill_color\":{\"value\":\"#1f77b4\"},\"left\":{\"field\":\"left\"},\"line_alpha\":{\"value\":0.1},\"line_color\":{\"value\":\"#1f77b4\"},\"right\":{\"field\":\"right\"},\"top\":{\"field\":\"top\"}},\"id\":\"b979c364-c370-4662-930f-4bca1f644773\",\"type\":\"Quad\"},{\"attributes\":{\"active_drag\":\"auto\",\"active_scroll\":\"auto\",\"active_tap\":\"auto\",\"tools\":[{\"id\":\"a7a28719-d131-4403-ba0b-dc27fdb426b4\",\"type\":\"PanTool\"},{\"id\":\"e59aa0df-0389-4f4f-bdc5-3d642a7f8d3d\",\"type\":\"WheelZoomTool\"},{\"id\":\"9b8ead4d-73eb-48c9-b381-48f092290e56\",\"type\":\"BoxZoomTool\"},{\"id\":\"ecfddac7-0670-42dd-b3b1-4b461cdc3293\",\"type\":\"SaveTool\"},{\"id\":\"59eb27ad-6a49-4dd9-b4e3-5b0a0d72f777\",\"type\":\"ResetTool\"},{\"id\":\"c77c0704-ce0f-46b2-aeab-446395694db7\",\"type\":\"HelpTool\"}]},\"id\":\"6a91c6b1-c9d3-4c4c-85a3-6a27a94c5099\",\"type\":\"Toolbar\"},{\"attributes\":{\"formatter\":{\"id\":\"31263aeb-7d12-4e36-9eb5-ad4ac1e88412\",\"type\":\"BasicTickFormatter\"},\"plot\":{\"id\":\"e6f16a36-d359-4f43-b41d-2ce5375c6ab3\",\"subtype\":\"Figure\",\"type\":\"Plot\"},\"ticker\":{\"id\":\"47bf75c1-a0a0-454d-ba0e-6bbaf0dc710a\",\"type\":\"BasicTicker\"},\"visible\":null},\"id\":\"637e426e-4aa0-40af-860a-e7ba3a53afc3\",\"type\":\"LinearAxis\"},{\"attributes\":{\"line_alpha\":{\"value\":0.1},\"line_color\":{\"value\":\"#1f77b4\"},\"xs\":{\"field\":\"xs\"},\"ys\":{\"field\":\"ys\"}},\"id\":\"40cfce6c-9a53-47eb-9b48-4797370c4bab\",\"type\":\"MultiLine\"},{\"attributes\":{\"bottom\":{\"field\":\"bottom\"},\"fill_color\":{\"field\":\"fill_color\"},\"left\":{\"field\":\"left\"},\"line_color\":{\"value\":null},\"right\":{\"field\":\"right\"},\"top\":{\"field\":\"top\"}},\"id\":\"f9e34c9d-4b3c-4b3d-960f-1ca5085d412e\",\"type\":\"Quad\"},{\"attributes\":{\"bottom\":{\"field\":\"bottom\"},\"fill_color\":{\"value\":\"white\"},\"left\":{\"field\":\"left\"},\"right\":{\"field\":\"right\"},\"top\":{\"field\":\"top\"}},\"id\":\"dfa313cf-8648-4b24-8ba9-09def84e9894\",\"type\":\"Quad\"},{\"attributes\":{\"plot\":null,\"text\":null},\"id\":\"410ccb88-b4d6-4f7a-bd20-162b32385428\",\"type\":\"Title\"},{\"attributes\":{\"plot\":{\"id\":\"e6f16a36-d359-4f43-b41d-2ce5375c6ab3\",\"subtype\":\"Figure\",\"type\":\"Plot\"}},\"id\":\"e59aa0df-0389-4f4f-bdc5-3d642a7f8d3d\",\"type\":\"WheelZoomTool\"},{\"attributes\":{\"callback\":null,\"column_names\":[\"y\",\"x\",\"vals\"],\"data\":{\"vals\":[\"RAB3GAP1\",\"ZRANB3\",\"R3HDM1\",\"UBXN4\",\"LCT\",\"MCM6\",\"DARS\"],\"x\":[135869057.0,136122878.0,136385961.0,136520911.0,136570082.5,136615621.5,136703738.0],\"y\":[360.0,360.0,360.0,360.0,360.0,360.0,360.0]}},\"id\":\"fba28c21-6cde-454c-9269-ed73f0a921b1\",\"type\":\"ColumnDataSource\"},{\"attributes\":{\"bottom_units\":\"screen\",\"fill_alpha\":{\"value\":0.5},\"fill_color\":{\"value\":\"lightgrey\"},\"left_units\":\"screen\",\"level\":\"overlay\",\"line_alpha\":{\"value\":1.0},\"line_color\":{\"value\":\"black\"},\"line_dash\":[4,4],\"line_width\":{\"value\":2},\"plot\":null,\"render_mode\":\"css\",\"right_units\":\"screen\",\"top_units\":\"screen\"},\"id\":\"12628106-f0d8-4c2d-9819-dbda387b83a1\",\"type\":\"BoxAnnotation\"}],\"root_ids\":[\"e6f16a36-d359-4f43-b41d-2ce5375c6ab3\"]},\"title\":\"Bokeh Application\",\"version\":\"0.12.0\"}};\n",
       "            var render_items = [{\"docid\":\"c1c64976-5e97-4567-9028-53197bd9dcdb\",\"elementid\":\"93c8c970-4841-479b-bf52-89db426dd14e\",\"modelid\":\"e6f16a36-d359-4f43-b41d-2ce5375c6ab3\",\"notebook_comms_target\":\"a2e38740-aae2-4f2e-84a5-74d02d9c0911\"}];\n",
       "            \n",
       "            Bokeh.embed.embed_items(docs_json, render_items);\n",
       "        });\n",
       "      },\n",
       "      function(Bokeh) {\n",
       "      }\n",
       "    ];\n",
       "  \n",
       "    function run_inline_js() {\n",
       "      for (var i = 0; i < inline_js.length; i++) {\n",
       "        inline_js[i](window.Bokeh);\n",
       "      }\n",
       "    }\n",
       "  \n",
       "    if (window._bokeh_is_loading === 0) {\n",
       "      console.log(\"Bokeh: BokehJS loaded, going straight to plotting\");\n",
       "      run_inline_js();\n",
       "    } else {\n",
       "      load_libs(js_urls, function() {\n",
       "        console.log(\"Bokeh: BokehJS plotting callback run at\", now());\n",
       "        run_inline_js();\n",
       "      });\n",
       "    }\n",
       "  }(this));\n",
       "</script>"
      ]
     },
     "metadata": {},
     "output_type": "display_data"
    },
    {
     "data": {
      "text/html": [
       "<p><code>&lt;Bokeh Notebook handle for <strong>In[13]</strong>&gt;</code></p>"
      ],
      "text/plain": [
       "<bokeh.io._CommsHandle at 0x7f46f110e7d0>"
      ]
     },
     "execution_count": 13,
     "metadata": {},
     "output_type": "execute_result"
    }
   ],
   "source": [
    "plt_obj = dm.superset_yes_no([dm.di_4_911, dm.di_64_1575, dm.di_7_1868, dm.di_6_1503], \n",
    "                             [dm.di_4_1699, dm.di_11_765], min_match=0.001)\n",
    "plt = plt_obj.do_plot()\n",
    "show(plt)"
   ]
  },
  {
   "cell_type": "code",
   "execution_count": 14,
   "metadata": {
    "collapsed": false
   },
   "outputs": [
    {
     "data": {
      "text/html": [
       "<table>\n",
       "<thead><tr><th style=\"text-align:center\">index</th><th style=\"text-align:center\">first</th><th style=\"text-align:center\">length</th><th style=\"text-align:center\">snps</th><th style=\"text-align:center\" colspan=2>alleles</th><th style=\"text-align:center\" colspan=2>matches</th><th style=\"text-align:center\" colspan=2>afr</th><th style=\"text-align:center\" colspan=2>afx</th><th style=\"text-align:center\" colspan=2>amr</th><th style=\"text-align:center\" colspan=2>eas</th><th style=\"text-align:center\" colspan=2>eur</th><th style=\"text-align:center\" colspan=2>sas</th><th style=\"text-align:center\" colspan=2>sax</th></tr></thead>\n",
       "<tr class=\"even\"><td style=\"text-align: right;\">353921</td><td style=\"text-align: right;\">136,501,840</td><td style=\"text-align: right;\">53,819</td><td style=\"text-align: right;\">10</td><td style=\"text-align: right;\">2206</td><td style=\"text-align: right;\">0.00</td><td style=\"text-align: right;\">1</td><td style=\"text-align: right;\">1.00</td><td style=\"text-align: right;\">0</td><td style=\"text-align: right;\">0.00</td><td style=\"text-align: right;\">0</td><td style=\"text-align: right;\">0.00</td><td style=\"text-align: right;\">1</td><td style=\"text-align: right;\">8.85</td><td style=\"text-align: right;\">0</td><td style=\"text-align: right;\">0.00</td><td style=\"text-align: right;\">0</td><td style=\"text-align: right;\">0.00</td><td style=\"text-align: right;\">0</td><td style=\"text-align: right;\">0.00</td><td style=\"text-align: right;\">0</td><td style=\"text-align: right;\">0.00</td></tr>\n",
       "<tr><td style=\"text-align: right;\">354170</td><td style=\"text-align: right;\">136,682,274</td><td style=\"text-align: right;\">93,624</td><td style=\"text-align: right;\">7</td><td style=\"text-align: right;\">1868</td><td style=\"text-align: right;\">0.00</td><td style=\"text-align: right;\">1</td><td style=\"text-align: right;\">1.00</td><td style=\"text-align: right;\">0</td><td style=\"text-align: right;\">0.00</td><td style=\"text-align: right;\">0</td><td style=\"text-align: right;\">0.00</td><td style=\"text-align: right;\">1</td><td style=\"text-align: right;\">8.85</td><td style=\"text-align: right;\">0</td><td style=\"text-align: right;\">0.00</td><td style=\"text-align: right;\">0</td><td style=\"text-align: right;\">0.00</td><td style=\"text-align: right;\">0</td><td style=\"text-align: right;\">0.00</td><td style=\"text-align: right;\">0</td><td style=\"text-align: right;\">0.00</td></tr>\n",
       "<tr class=\"even\"><td style=\"text-align: right;\">353901</td><td style=\"text-align: right;\">136,494,186</td><td style=\"text-align: right;\">271,765</td><td style=\"text-align: right;\">64</td><td style=\"text-align: right;\">1575</td><td style=\"text-align: right;\">0.00</td><td style=\"text-align: right;\">1</td><td style=\"text-align: right;\">1.00</td><td style=\"text-align: right;\">0</td><td style=\"text-align: right;\">0.00</td><td style=\"text-align: right;\">0</td><td style=\"text-align: right;\">0.00</td><td style=\"text-align: right;\">1</td><td style=\"text-align: right;\">8.85</td><td style=\"text-align: right;\">0</td><td style=\"text-align: right;\">0.00</td><td style=\"text-align: right;\">0</td><td style=\"text-align: right;\">0.00</td><td style=\"text-align: right;\">0</td><td style=\"text-align: right;\">0.00</td><td style=\"text-align: right;\">0</td><td style=\"text-align: right;\">0.00</td></tr>\n",
       "<tr><td style=\"text-align: right;\">353283</td><td style=\"text-align: right;\">135,771,974</td><td style=\"text-align: right;\">368,330</td><td style=\"text-align: right;\">6</td><td style=\"text-align: right;\">1503</td><td style=\"text-align: right;\">0.00</td><td style=\"text-align: right;\">1</td><td style=\"text-align: right;\">1.00</td><td style=\"text-align: right;\">0</td><td style=\"text-align: right;\">0.00</td><td style=\"text-align: right;\">0</td><td style=\"text-align: right;\">0.00</td><td style=\"text-align: right;\">1</td><td style=\"text-align: right;\">8.85</td><td style=\"text-align: right;\">0</td><td style=\"text-align: right;\">0.00</td><td style=\"text-align: right;\">0</td><td style=\"text-align: right;\">0.00</td><td style=\"text-align: right;\">0</td><td style=\"text-align: right;\">0.00</td><td style=\"text-align: right;\">0</td><td style=\"text-align: right;\">0.00</td></tr>\n",
       "<tr class=\"even\"><td style=\"text-align: right;\">353797</td><td style=\"text-align: right;\">136,398,174</td><td style=\"text-align: right;\">75,924</td><td style=\"text-align: right;\">26</td><td style=\"text-align: right;\">1414</td><td style=\"text-align: right;\">0.00</td><td style=\"text-align: right;\">1</td><td style=\"text-align: right;\">1.00</td><td style=\"text-align: right;\">0</td><td style=\"text-align: right;\">0.00</td><td style=\"text-align: right;\">0</td><td style=\"text-align: right;\">0.00</td><td style=\"text-align: right;\">1</td><td style=\"text-align: right;\">8.85</td><td style=\"text-align: right;\">0</td><td style=\"text-align: right;\">0.00</td><td style=\"text-align: right;\">0</td><td style=\"text-align: right;\">0.00</td><td style=\"text-align: right;\">0</td><td style=\"text-align: right;\">0.00</td><td style=\"text-align: right;\">0</td><td style=\"text-align: right;\">0.00</td></tr>\n",
       "<tr><td style=\"text-align: right;\">353604</td><td style=\"text-align: right;\">136,092,061</td><td style=\"text-align: right;\">315,418</td><td style=\"text-align: right;\">4</td><td style=\"text-align: right;\">911</td><td style=\"text-align: right;\">0.00</td><td style=\"text-align: right;\">1</td><td style=\"text-align: right;\">1.00</td><td style=\"text-align: right;\">0</td><td style=\"text-align: right;\">0.00</td><td style=\"text-align: right;\">0</td><td style=\"text-align: right;\">0.00</td><td style=\"text-align: right;\">1</td><td style=\"text-align: right;\">8.85</td><td style=\"text-align: right;\">0</td><td style=\"text-align: right;\">0.00</td><td style=\"text-align: right;\">0</td><td style=\"text-align: right;\">0.00</td><td style=\"text-align: right;\">0</td><td style=\"text-align: right;\">0.00</td><td style=\"text-align: right;\">0</td><td style=\"text-align: right;\">0.00</td></tr>\n",
       "</table>"
      ],
      "text/plain": [
       "<IPython.core.display.HTML object>"
      ]
     },
     "execution_count": 14,
     "metadata": {},
     "output_type": "execute_result"
    }
   ],
   "source": [
    "HTML(plt_obj.get_html())"
   ]
  },
  {
   "cell_type": "code",
   "execution_count": 15,
   "metadata": {
    "collapsed": false
   },
   "outputs": [
    {
     "data": {
      "text/html": [
       "\n",
       "\n",
       "    <div class=\"bk-root\">\n",
       "        <div class=\"plotdiv\" id=\"7d9288a0-7b39-41c5-8c3c-1352e29d4520\"></div>\n",
       "    </div>\n",
       "<script type=\"text/javascript\">\n",
       "  \n",
       "  (function(global) {\n",
       "    function now() {\n",
       "      return new Date();\n",
       "    }\n",
       "  \n",
       "    if (typeof (window._bokeh_onload_callbacks) === \"undefined\") {\n",
       "      window._bokeh_onload_callbacks = [];\n",
       "    }\n",
       "  \n",
       "    function run_callbacks() {\n",
       "      window._bokeh_onload_callbacks.forEach(function(callback) { callback() });\n",
       "      delete window._bokeh_onload_callbacks\n",
       "      console.info(\"Bokeh: all callbacks have finished\");\n",
       "    }\n",
       "  \n",
       "    function load_libs(js_urls, callback) {\n",
       "      window._bokeh_onload_callbacks.push(callback);\n",
       "      if (window._bokeh_is_loading > 0) {\n",
       "        console.log(\"Bokeh: BokehJS is being loaded, scheduling callback at\", now());\n",
       "        return null;\n",
       "      }\n",
       "      if (js_urls == null || js_urls.length === 0) {\n",
       "        run_callbacks();\n",
       "        return null;\n",
       "      }\n",
       "      console.log(\"Bokeh: BokehJS not loaded, scheduling load and callback at\", now());\n",
       "      window._bokeh_is_loading = js_urls.length;\n",
       "      for (var i = 0; i < js_urls.length; i++) {\n",
       "        var url = js_urls[i];\n",
       "        var s = document.createElement('script');\n",
       "        s.src = url;\n",
       "        s.async = false;\n",
       "        s.onreadystatechange = s.onload = function() {\n",
       "          window._bokeh_is_loading--;\n",
       "          if (window._bokeh_is_loading === 0) {\n",
       "            console.log(\"Bokeh: all BokehJS libraries loaded\");\n",
       "            run_callbacks()\n",
       "          }\n",
       "        };\n",
       "        s.onerror = function() {\n",
       "          console.warn(\"failed to load library \" + url);\n",
       "        };\n",
       "        console.log(\"Bokeh: injecting script tag for BokehJS library: \", url);\n",
       "        document.getElementsByTagName(\"head\")[0].appendChild(s);\n",
       "      }\n",
       "    };var element = document.getElementById(\"7d9288a0-7b39-41c5-8c3c-1352e29d4520\");\n",
       "    if (element == null) {\n",
       "      console.log(\"Bokeh: ERROR: autoload.js configured with elementid '7d9288a0-7b39-41c5-8c3c-1352e29d4520' but no matching script tag was found. \")\n",
       "      return false;\n",
       "    }\n",
       "  \n",
       "    var js_urls = [];\n",
       "  \n",
       "    var inline_js = [\n",
       "      function(Bokeh) {\n",
       "        Bokeh.$(function() {\n",
       "            var docs_json = {\"3aff6222-11c9-4f70-81bd-7bf2abfffdcb\":{\"roots\":{\"references\":[{\"attributes\":{\"plot\":{\"id\":\"d7c73aed-9cef-4c00-92e9-ebfda0e27519\",\"subtype\":\"Figure\",\"type\":\"Plot\"},\"ticker\":{\"id\":\"fc2c2d63-2473-49bc-9df3-f5811e789369\",\"type\":\"BasicTicker\"}},\"id\":\"8518a569-a20d-4646-b87f-c0ee9539b81d\",\"type\":\"Grid\"},{\"attributes\":{\"callback\":null,\"column_names\":[\"y\",\"x\",\"vals\"],\"data\":{\"vals\":[\"RAB3GAP1\",\"ZRANB3\",\"R3HDM1\",\"UBXN4\",\"LCT\",\"MCM6\",\"DARS\"],\"x\":[135869057.0,136122878.0,136385961.0,136520911.0,136570082.5,136615621.5,136703738.0],\"y\":[360.0,360.0,360.0,360.0,360.0,360.0,360.0]}},\"id\":\"53d14486-cff1-4274-be24-44f3a83b4491\",\"type\":\"ColumnDataSource\"},{\"attributes\":{\"bottom\":{\"field\":\"bottom\"},\"fill_alpha\":{\"value\":0.1},\"fill_color\":{\"value\":\"#1f77b4\"},\"left\":{\"field\":\"left\"},\"line_alpha\":{\"value\":0.1},\"line_color\":{\"value\":\"#1f77b4\"},\"right\":{\"field\":\"right\"},\"top\":{\"field\":\"top\"}},\"id\":\"7905b92c-38d5-4f00-9796-fbf2d4106d6e\",\"type\":\"Quad\"},{\"attributes\":{\"plot\":null,\"text\":null},\"id\":\"d7c75207-d7b6-4fc4-9d7d-9b24422c334c\",\"type\":\"Title\"},{\"attributes\":{},\"id\":\"ed8733b5-371f-4f8a-95e8-4400f519f3d9\",\"type\":\"ToolEvents\"},{\"attributes\":{\"plot\":{\"id\":\"d7c73aed-9cef-4c00-92e9-ebfda0e27519\",\"subtype\":\"Figure\",\"type\":\"Plot\"}},\"id\":\"aec7dee4-50c2-49f7-8cd4-321788c6e116\",\"type\":\"ResetTool\"},{\"attributes\":{\"callback\":null,\"column_names\":[\"y\",\"x\",\"vals\"],\"data\":{\"vals\":[\"4_911\",\"26_1414\",\"64_1575\",\"10_2206\",\"7_1868\"],\"x\":[136092061,136398174,136494186,136501840,136682274],\"y\":[95.0,199.0,200.0,303.0,302.0]}},\"id\":\"bf9ab60b-aa42-46d3-8c37-67a1dcb0f9fd\",\"type\":\"ColumnDataSource\"},{\"attributes\":{},\"id\":\"fc2c2d63-2473-49bc-9df3-f5811e789369\",\"type\":\"BasicTicker\"},{\"attributes\":{\"formatter\":{\"id\":\"2dee5f5d-5c5c-49ed-afd7-0b9f89a1677d\",\"type\":\"BasicTickFormatter\"},\"plot\":{\"id\":\"d7c73aed-9cef-4c00-92e9-ebfda0e27519\",\"subtype\":\"Figure\",\"type\":\"Plot\"},\"ticker\":{\"id\":\"4e354acd-353a-487a-9c4f-0ac773e878ef\",\"type\":\"BasicTicker\"},\"visible\":null},\"id\":\"faea0774-d90b-4388-9b56-94bb18f3d74a\",\"type\":\"LinearAxis\"},{\"attributes\":{\"level\":\"glyph\",\"plot\":{\"id\":\"d7c73aed-9cef-4c00-92e9-ebfda0e27519\",\"subtype\":\"Figure\",\"type\":\"Plot\"},\"source\":{\"id\":\"bf9ab60b-aa42-46d3-8c37-67a1dcb0f9fd\",\"type\":\"ColumnDataSource\"},\"text\":{\"field\":\"vals\"},\"text_font_size\":{\"value\":\"9pt\"},\"text_font_style\":\"bold\",\"x\":{\"field\":\"x\"},\"y\":{\"field\":\"y\"}},\"id\":\"63c78c8b-e578-41a5-9e69-f61f56c1e6fc\",\"type\":\"LabelSet\"},{\"attributes\":{\"line_color\":{\"field\":\"line_color\"},\"xs\":{\"field\":\"xs\"},\"ys\":{\"field\":\"ys\"}},\"id\":\"b4c880de-0c17-41da-b6d1-d9ab65f02187\",\"type\":\"MultiLine\"},{\"attributes\":{\"data_source\":{\"id\":\"f3dfa337-87b4-4679-85b8-84be1482ae4f\",\"type\":\"ColumnDataSource\"},\"glyph\":{\"id\":\"5e333587-4362-4c0b-b1af-8b0c0504596d\",\"type\":\"Quad\"},\"hover_glyph\":null,\"nonselection_glyph\":{\"id\":\"16a6a1c6-c255-4beb-bcb8-351ea29d8eb9\",\"type\":\"Quad\"},\"selection_glyph\":null},\"id\":\"f28405b5-da47-4185-b625-469ac34db8e4\",\"type\":\"GlyphRenderer\"},{\"attributes\":{\"line_alpha\":{\"value\":0.1},\"line_color\":{\"value\":\"#1f77b4\"},\"xs\":{\"field\":\"xs\"},\"ys\":{\"field\":\"ys\"}},\"id\":\"5f4ff384-5333-4077-bb31-89619671b398\",\"type\":\"MultiLine\"},{\"attributes\":{\"bottom\":{\"field\":\"bottom\"},\"fill_color\":{\"field\":\"fill_color\"},\"left\":{\"field\":\"left\"},\"line_color\":{\"value\":null},\"right\":{\"field\":\"right\"},\"top\":{\"field\":\"top\"}},\"id\":\"5e333587-4362-4c0b-b1af-8b0c0504596d\",\"type\":\"Quad\"},{\"attributes\":{\"plot\":{\"id\":\"d7c73aed-9cef-4c00-92e9-ebfda0e27519\",\"subtype\":\"Figure\",\"type\":\"Plot\"}},\"id\":\"63169407-9b12-4f61-80f8-769397b3ea46\",\"type\":\"PanTool\"},{\"attributes\":{\"plot\":{\"id\":\"d7c73aed-9cef-4c00-92e9-ebfda0e27519\",\"subtype\":\"Figure\",\"type\":\"Plot\"}},\"id\":\"8e7bb481-90a9-427c-92aa-f73c34d2ed74\",\"type\":\"SaveTool\"},{\"attributes\":{\"level\":\"glyph\",\"plot\":{\"id\":\"d7c73aed-9cef-4c00-92e9-ebfda0e27519\",\"subtype\":\"Figure\",\"type\":\"Plot\"},\"source\":{\"id\":\"53d14486-cff1-4274-be24-44f3a83b4491\",\"type\":\"ColumnDataSource\"},\"text\":{\"field\":\"vals\"},\"text_align\":\"center\",\"text_baseline\":\"middle\",\"text_font_size\":{\"value\":\"8pt\"},\"x\":{\"field\":\"x\"},\"y\":{\"field\":\"y\"}},\"id\":\"7aedb228-60ff-435f-83b5-3898dd8e9dfc\",\"type\":\"LabelSet\"},{\"attributes\":{\"bottom\":{\"field\":\"bottom\"},\"fill_alpha\":{\"value\":0.1},\"fill_color\":{\"value\":\"#1f77b4\"},\"left\":{\"field\":\"left\"},\"line_alpha\":{\"value\":0.1},\"line_color\":{\"value\":\"#1f77b4\"},\"right\":{\"field\":\"right\"},\"top\":{\"field\":\"top\"}},\"id\":\"16a6a1c6-c255-4beb-bcb8-351ea29d8eb9\",\"type\":\"Quad\"},{\"attributes\":{\"callback\":null,\"end\":400},\"id\":\"73902e36-c439-44eb-8d73-52570992190c\",\"type\":\"Range1d\"},{\"attributes\":{\"overlay\":{\"id\":\"241f7f50-7a33-4dfa-95b7-dcdca43552d2\",\"type\":\"BoxAnnotation\"},\"plot\":{\"id\":\"d7c73aed-9cef-4c00-92e9-ebfda0e27519\",\"subtype\":\"Figure\",\"type\":\"Plot\"}},\"id\":\"b76bf9db-a212-43cd-8d2f-1a638fabe3b4\",\"type\":\"BoxZoomTool\"},{\"attributes\":{},\"id\":\"2dee5f5d-5c5c-49ed-afd7-0b9f89a1677d\",\"type\":\"BasicTickFormatter\"},{\"attributes\":{\"active_drag\":\"auto\",\"active_scroll\":\"auto\",\"active_tap\":\"auto\",\"tools\":[{\"id\":\"63169407-9b12-4f61-80f8-769397b3ea46\",\"type\":\"PanTool\"},{\"id\":\"4c31f4d4-e970-4583-aa0d-636b76fe4cc3\",\"type\":\"WheelZoomTool\"},{\"id\":\"b76bf9db-a212-43cd-8d2f-1a638fabe3b4\",\"type\":\"BoxZoomTool\"},{\"id\":\"8e7bb481-90a9-427c-92aa-f73c34d2ed74\",\"type\":\"SaveTool\"},{\"id\":\"aec7dee4-50c2-49f7-8cd4-321788c6e116\",\"type\":\"ResetTool\"},{\"id\":\"3e550b0e-16be-4886-b96e-8e0494e21c11\",\"type\":\"HelpTool\"}]},\"id\":\"2d30db05-8101-4a32-8701-88f34f136e46\",\"type\":\"Toolbar\"},{\"attributes\":{\"data_source\":{\"id\":\"834a0ccf-18e0-4204-a69a-6fbc865d1f33\",\"type\":\"ColumnDataSource\"},\"glyph\":{\"id\":\"168c8635-3f6a-4f65-ba65-5865bc51dd44\",\"type\":\"Quad\"},\"hover_glyph\":null,\"nonselection_glyph\":{\"id\":\"7905b92c-38d5-4f00-9796-fbf2d4106d6e\",\"type\":\"Quad\"},\"selection_glyph\":null},\"id\":\"c67d357d-f04b-4aba-8701-dd1eb643d4ee\",\"type\":\"GlyphRenderer\"},{\"attributes\":{\"bottom_units\":\"screen\",\"fill_alpha\":{\"value\":0.5},\"fill_color\":{\"value\":\"lightgrey\"},\"left_units\":\"screen\",\"level\":\"overlay\",\"line_alpha\":{\"value\":1.0},\"line_color\":{\"value\":\"black\"},\"line_dash\":[4,4],\"line_width\":{\"value\":2},\"plot\":null,\"render_mode\":\"css\",\"right_units\":\"screen\",\"top_units\":\"screen\"},\"id\":\"241f7f50-7a33-4dfa-95b7-dcdca43552d2\",\"type\":\"BoxAnnotation\"},{\"attributes\":{\"formatter\":{\"id\":\"257051f9-2004-4c01-822e-3fbf7c251ca3\",\"type\":\"BasicTickFormatter\"},\"plot\":{\"id\":\"d7c73aed-9cef-4c00-92e9-ebfda0e27519\",\"subtype\":\"Figure\",\"type\":\"Plot\"},\"ticker\":{\"id\":\"fc2c2d63-2473-49bc-9df3-f5811e789369\",\"type\":\"BasicTicker\"}},\"id\":\"984ec57c-644b-4755-abc3-4a1c1836efee\",\"type\":\"LinearAxis\"},{\"attributes\":{\"plot\":{\"id\":\"d7c73aed-9cef-4c00-92e9-ebfda0e27519\",\"subtype\":\"Figure\",\"type\":\"Plot\"}},\"id\":\"4c31f4d4-e970-4583-aa0d-636b76fe4cc3\",\"type\":\"WheelZoomTool\"},{\"attributes\":{},\"id\":\"4e354acd-353a-487a-9c4f-0ac773e878ef\",\"type\":\"BasicTicker\"},{\"attributes\":{},\"id\":\"257051f9-2004-4c01-822e-3fbf7c251ca3\",\"type\":\"BasicTickFormatter\"},{\"attributes\":{\"below\":[{\"id\":\"984ec57c-644b-4755-abc3-4a1c1836efee\",\"type\":\"LinearAxis\"}],\"left\":[{\"id\":\"faea0774-d90b-4388-9b56-94bb18f3d74a\",\"type\":\"LinearAxis\"}],\"plot_height\":400,\"plot_width\":900,\"renderers\":[{\"id\":\"984ec57c-644b-4755-abc3-4a1c1836efee\",\"type\":\"LinearAxis\"},{\"id\":\"8518a569-a20d-4646-b87f-c0ee9539b81d\",\"type\":\"Grid\"},{\"id\":\"faea0774-d90b-4388-9b56-94bb18f3d74a\",\"type\":\"LinearAxis\"},{\"id\":\"dfabb4ae-f642-4c35-860f-d086ddbaa355\",\"type\":\"Grid\"},{\"id\":\"241f7f50-7a33-4dfa-95b7-dcdca43552d2\",\"type\":\"BoxAnnotation\"},{\"id\":\"f28405b5-da47-4185-b625-469ac34db8e4\",\"type\":\"GlyphRenderer\"},{\"id\":\"210cffb4-1935-4ea6-8dde-ad1ff385f989\",\"type\":\"GlyphRenderer\"},{\"id\":\"63c78c8b-e578-41a5-9e69-f61f56c1e6fc\",\"type\":\"LabelSet\"},{\"id\":\"c67d357d-f04b-4aba-8701-dd1eb643d4ee\",\"type\":\"GlyphRenderer\"},{\"id\":\"7aedb228-60ff-435f-83b5-3898dd8e9dfc\",\"type\":\"LabelSet\"}],\"title\":{\"id\":\"d7c75207-d7b6-4fc4-9d7d-9b24422c334c\",\"type\":\"Title\"},\"tool_events\":{\"id\":\"ed8733b5-371f-4f8a-95e8-4400f519f3d9\",\"type\":\"ToolEvents\"},\"toolbar\":{\"id\":\"2d30db05-8101-4a32-8701-88f34f136e46\",\"type\":\"Toolbar\"},\"toolbar_location\":null,\"x_range\":{\"id\":\"75dccde4-2ff0-4edd-9800-4f9bc97c99a6\",\"type\":\"Range1d\"},\"y_range\":{\"id\":\"73902e36-c439-44eb-8d73-52570992190c\",\"type\":\"Range1d\"}},\"id\":\"d7c73aed-9cef-4c00-92e9-ebfda0e27519\",\"subtype\":\"Figure\",\"type\":\"Plot\"},{\"attributes\":{\"callback\":null,\"column_names\":[\"right\",\"bottom\",\"top\",\"left\",\"fill_color\"],\"data\":{\"bottom\":[50,150,150,250,250],\"fill_color\":[\"#00ff00\",\"#61c461\",\"#61c461\",\"#808080\",\"#61c461\"],\"left\":[136092061,136398174,136494186,136501840,136682274],\"right\":[136407479,136474098,136765951,136555659,136775898],\"top\":[90,194,195,298,297]}},\"id\":\"f3dfa337-87b4-4679-85b8-84be1482ae4f\",\"type\":\"ColumnDataSource\"},{\"attributes\":{\"callback\":null,\"column_names\":[\"right\",\"bottom\",\"top\",\"left\"],\"data\":{\"bottom\":[345,345,345,345,345,345,345],\"left\":[135809835,135957574,136289083,136499189,136545415,136597196,136664254],\"right\":[135928279,136288182,136482839,136542633,136594750,136634047,136743222],\"top\":[375,375,375,375,375,375,375]}},\"id\":\"834a0ccf-18e0-4204-a69a-6fbc865d1f33\",\"type\":\"ColumnDataSource\"},{\"attributes\":{\"data_source\":{\"id\":\"e0bc35f9-cf49-4d3a-83b3-9bd5aceaeb29\",\"type\":\"ColumnDataSource\"},\"glyph\":{\"id\":\"b4c880de-0c17-41da-b6d1-d9ab65f02187\",\"type\":\"MultiLine\"},\"hover_glyph\":null,\"nonselection_glyph\":{\"id\":\"5f4ff384-5333-4077-bb31-89619671b398\",\"type\":\"MultiLine\"},\"selection_glyph\":null},\"id\":\"210cffb4-1935-4ea6-8dde-ad1ff385f989\",\"type\":\"GlyphRenderer\"},{\"attributes\":{\"plot\":{\"id\":\"d7c73aed-9cef-4c00-92e9-ebfda0e27519\",\"subtype\":\"Figure\",\"type\":\"Plot\"}},\"id\":\"3e550b0e-16be-4886-b96e-8e0494e21c11\",\"type\":\"HelpTool\"},{\"attributes\":{\"dimension\":1,\"plot\":{\"id\":\"d7c73aed-9cef-4c00-92e9-ebfda0e27519\",\"subtype\":\"Figure\",\"type\":\"Plot\"},\"ticker\":{\"id\":\"4e354acd-353a-487a-9c4f-0ac773e878ef\",\"type\":\"BasicTicker\"}},\"id\":\"dfabb4ae-f642-4c35-860f-d086ddbaa355\",\"type\":\"Grid\"},{\"attributes\":{\"callback\":null,\"column_names\":[\"xs\",\"ys\",\"line_color\"],\"data\":{\"line_color\":[\"black\",\"black\",\"black\",\"black\",\"black\",\"black\",\"black\",\"black\",\"black\",\"black\",\"black\",\"black\",\"black\",\"black\",\"black\",\"black\",\"black\",\"black\",\"black\",\"black\",\"black\",\"black\",\"black\",\"black\",\"black\",\"black\",\"black\",\"black\",\"black\",\"black\",\"black\",\"black\",\"black\",\"black\",\"black\",\"black\",\"black\",\"black\",\"black\",\"black\",\"black\",\"black\",\"black\",\"black\",\"black\",\"black\",\"black\",\"black\",\"black\",\"black\",\"black\",\"black\",\"black\",\"black\",\"black\",\"black\",\"black\",\"black\",\"black\",\"black\",\"black\",\"black\",\"black\",\"black\",\"black\",\"black\",\"black\",\"black\",\"black\",\"black\",\"black\",\"black\",\"black\",\"black\",\"black\",\"black\",\"black\",\"black\",\"black\",\"black\",\"black\",\"black\",\"black\",\"black\",\"black\",\"black\",\"black\",\"black\",\"black\",\"black\",\"black\",\"black\",\"black\",\"black\",\"black\",\"black\",\"black\",\"black\",\"black\",\"black\",\"black\",\"black\",\"black\",\"black\",\"black\",\"black\",\"black\",\"black\",\"black\",\"black\",\"black\"],\"xs\":[[136092061,136092061],[136273578,136273578],[136322676,136322676],[136407479,136407479],[136398174,136398174],[136402117,136402117],[136403749,136403749],[136409073,136409073],[136410299,136410299],[136413359,136413359],[136416855,136416855],[136416941,136416941],[136418348,136418348],[136419961,136419961],[136420690,136420690],[136422171,136422171],[136428460,136428460],[136430866,136430866],[136432103,136432103],[136437507,136437507],[136439090,136439090],[136439517,136439517],[136444123,136444123],[136445526,136445526],[136445869,136445869],[136455600,136455600],[136456642,136456642],[136462441,136462441],[136470714,136470714],[136474098,136474098],[136494186,136494186],[136495300,136495300],[136495619,136495619],[136499166,136499166],[136502792,136502792],[136503157,136503157],[136507039,136507039],[136511575,136511575],[136518103,136518103],[136521514,136521514],[136522675,136522675],[136522941,136522941],[136526981,136526981],[136535410,136535410],[136539122,136539122],[136544197,136544197],[136550109,136550109],[136551694,136551694],[136553188,136553188],[136553639,136553639],[136554800,136554800],[136557319,136557319],[136558157,136558157],[136569848,136569848],[136575199,136575199],[136576577,136576577],[136578536,136578536],[136580287,136580287],[136583192,136583192],[136586958,136586958],[136588478,136588478],[136589612,136589612],[136591178,136591178],[136591859,136591859],[136593760,136593760],[136594158,136594158],[136603276,136603276],[136603366,136603366],[136608231,136608231],[136609975,136609975],[136610598,136610598],[136611624,136611624],[136613780,136613780],[136614255,136614255],[136614813,136614813],[136617524,136617524],[136622216,136622216],[136625602,136625602],[136629911,136629911],[136630757,136630757],[136630989,136630989],[136631031,136631031],[136633771,136633771],[136636324,136636324],[136638216,136638216],[136640233,136640233],[136641882,136641882],[136643555,136643555],[136658345,136658345],[136670298,136670298],[136685228,136685228],[136696138,136696138],[136740900,136740900],[136765951,136765951],[136501840,136501840],[136505546,136505546],[136516748,136516748],[136522710,136522710],[136528004,136528004],[136539513,136539513],[136544752,136544752],[136546110,136546110],[136553529,136553529],[136555659,136555659],[136682274,136682274],[136691825,136691825],[136698098,136698098],[136721603,136721603],[136721995,136721995],[136755684,136755684],[136775898,136775898]],\"ys\":[[50,90],[50,90],[50,90],[50,90],[150,194],[150,194],[150,194],[150,194],[150,194],[150,194],[150,194],[150,194],[150,194],[150,194],[150,194],[150,194],[150,194],[150,194],[150,194],[150,194],[150,194],[150,194],[150,194],[150,194],[150,194],[150,194],[150,194],[150,194],[150,194],[150,194],[150,195],[150,195],[150,195],[150,195],[150,195],[150,195],[150,195],[150,195],[150,195],[150,195],[150,195],[150,195],[150,195],[150,195],[150,195],[150,195],[150,195],[150,195],[150,195],[150,195],[150,195],[150,195],[150,195],[150,195],[150,195],[150,195],[150,195],[150,195],[150,195],[150,195],[150,195],[150,195],[150,195],[150,195],[150,195],[150,195],[150,195],[150,195],[150,195],[150,195],[150,195],[150,195],[150,195],[150,195],[150,195],[150,195],[150,195],[150,195],[150,195],[150,195],[150,195],[150,195],[150,195],[150,195],[150,195],[150,195],[150,195],[150,195],[150,195],[150,195],[150,195],[150,195],[150,195],[150,195],[250,298],[250,298],[250,298],[250,298],[250,298],[250,298],[250,298],[250,298],[250,298],[250,298],[250,297],[250,297],[250,297],[250,297],[250,297],[250,297],[250,297]]}},\"id\":\"e0bc35f9-cf49-4d3a-83b3-9bd5aceaeb29\",\"type\":\"ColumnDataSource\"},{\"attributes\":{\"callback\":null,\"end\":136786630,\"start\":135757320},\"id\":\"75dccde4-2ff0-4edd-9800-4f9bc97c99a6\",\"type\":\"Range1d\"},{\"attributes\":{\"bottom\":{\"field\":\"bottom\"},\"fill_color\":{\"value\":\"white\"},\"left\":{\"field\":\"left\"},\"right\":{\"field\":\"right\"},\"top\":{\"field\":\"top\"}},\"id\":\"168c8635-3f6a-4f65-ba65-5865bc51dd44\",\"type\":\"Quad\"}],\"root_ids\":[\"d7c73aed-9cef-4c00-92e9-ebfda0e27519\"]},\"title\":\"Bokeh Application\",\"version\":\"0.12.0\"}};\n",
       "            var render_items = [{\"docid\":\"3aff6222-11c9-4f70-81bd-7bf2abfffdcb\",\"elementid\":\"7d9288a0-7b39-41c5-8c3c-1352e29d4520\",\"modelid\":\"d7c73aed-9cef-4c00-92e9-ebfda0e27519\",\"notebook_comms_target\":\"3fa5ce64-b9ae-4fec-95a2-3d10ca14f0dc\"}];\n",
       "            \n",
       "            Bokeh.embed.embed_items(docs_json, render_items);\n",
       "        });\n",
       "      },\n",
       "      function(Bokeh) {\n",
       "      }\n",
       "    ];\n",
       "  \n",
       "    function run_inline_js() {\n",
       "      for (var i = 0; i < inline_js.length; i++) {\n",
       "        inline_js[i](window.Bokeh);\n",
       "      }\n",
       "    }\n",
       "  \n",
       "    if (window._bokeh_is_loading === 0) {\n",
       "      console.log(\"Bokeh: BokehJS loaded, going straight to plotting\");\n",
       "      run_inline_js();\n",
       "    } else {\n",
       "      load_libs(js_urls, function() {\n",
       "        console.log(\"Bokeh: BokehJS plotting callback run at\", now());\n",
       "        run_inline_js();\n",
       "      });\n",
       "    }\n",
       "  }(this));\n",
       "</script>"
      ]
     },
     "metadata": {},
     "output_type": "display_data"
    },
    {
     "data": {
      "text/html": [
       "<p><code>&lt;Bokeh Notebook handle for <strong>In[15]</strong>&gt;</code></p>"
      ],
      "text/plain": [
       "<bokeh.io._CommsHandle at 0x7f46f10c2710>"
      ]
     },
     "execution_count": 15,
     "metadata": {},
     "output_type": "execute_result"
    }
   ],
   "source": [
    "plt_obj = dm.superset_yes_no([dm.di_4_911, dm.di_64_1575, dm.di_7_1868], \n",
    "                             [dm.di_6_1503, dm.di_4_1699, dm.di_11_765], min_match=0.001)\n",
    "plt = plt_obj.do_plot()\n",
    "show(plt)"
   ]
  },
  {
   "cell_type": "code",
   "execution_count": 16,
   "metadata": {
    "collapsed": false
   },
   "outputs": [
    {
     "data": {
      "text/html": [
       "<table>\n",
       "<thead><tr><th style=\"text-align:center\">index</th><th style=\"text-align:center\">first</th><th style=\"text-align:center\">length</th><th style=\"text-align:center\">snps</th><th style=\"text-align:center\" colspan=2>alleles</th><th style=\"text-align:center\" colspan=2>matches</th><th style=\"text-align:center\" colspan=2>afr</th><th style=\"text-align:center\" colspan=2>afx</th><th style=\"text-align:center\" colspan=2>amr</th><th style=\"text-align:center\" colspan=2>eas</th><th style=\"text-align:center\" colspan=2>eur</th><th style=\"text-align:center\" colspan=2>sas</th><th style=\"text-align:center\" colspan=2>sax</th></tr></thead>\n",
       "<tr class=\"even\"><td style=\"text-align: right;\">353921</td><td style=\"text-align: right;\">136,501,840</td><td style=\"text-align: right;\">53,819</td><td style=\"text-align: right;\">10</td><td style=\"text-align: right;\">2206</td><td style=\"text-align: right;\">0.00</td><td style=\"text-align: right;\">1</td><td style=\"text-align: right;\">1.00</td><td style=\"text-align: right;\">0</td><td style=\"text-align: right;\">0.00</td><td style=\"text-align: right;\">0</td><td style=\"text-align: right;\">0.00</td><td style=\"text-align: right;\">0</td><td style=\"text-align: right;\">0.00</td><td style=\"text-align: right;\">0</td><td style=\"text-align: right;\">0.00</td><td style=\"text-align: right;\">0</td><td style=\"text-align: right;\">0.00</td><td style=\"text-align: right;\">0</td><td style=\"text-align: right;\">0.00</td><td style=\"text-align: right;\">1</td><td style=\"text-align: right;\">6.73</td></tr>\n",
       "<tr><td style=\"text-align: right;\">354170</td><td style=\"text-align: right;\">136,682,274</td><td style=\"text-align: right;\">93,624</td><td style=\"text-align: right;\">7</td><td style=\"text-align: right;\">1868</td><td style=\"text-align: right;\">0.00</td><td style=\"text-align: right;\">1</td><td style=\"text-align: right;\">1.00</td><td style=\"text-align: right;\">0</td><td style=\"text-align: right;\">0.00</td><td style=\"text-align: right;\">0</td><td style=\"text-align: right;\">0.00</td><td style=\"text-align: right;\">0</td><td style=\"text-align: right;\">0.00</td><td style=\"text-align: right;\">0</td><td style=\"text-align: right;\">0.00</td><td style=\"text-align: right;\">0</td><td style=\"text-align: right;\">0.00</td><td style=\"text-align: right;\">0</td><td style=\"text-align: right;\">0.00</td><td style=\"text-align: right;\">1</td><td style=\"text-align: right;\">6.73</td></tr>\n",
       "<tr class=\"even\"><td style=\"text-align: right;\">353901</td><td style=\"text-align: right;\">136,494,186</td><td style=\"text-align: right;\">271,765</td><td style=\"text-align: right;\">64</td><td style=\"text-align: right;\">1575</td><td style=\"text-align: right;\">0.00</td><td style=\"text-align: right;\">1</td><td style=\"text-align: right;\">1.00</td><td style=\"text-align: right;\">0</td><td style=\"text-align: right;\">0.00</td><td style=\"text-align: right;\">0</td><td style=\"text-align: right;\">0.00</td><td style=\"text-align: right;\">0</td><td style=\"text-align: right;\">0.00</td><td style=\"text-align: right;\">0</td><td style=\"text-align: right;\">0.00</td><td style=\"text-align: right;\">0</td><td style=\"text-align: right;\">0.00</td><td style=\"text-align: right;\">0</td><td style=\"text-align: right;\">0.00</td><td style=\"text-align: right;\">1</td><td style=\"text-align: right;\">6.73</td></tr>\n",
       "<tr><td style=\"text-align: right;\">353797</td><td style=\"text-align: right;\">136,398,174</td><td style=\"text-align: right;\">75,924</td><td style=\"text-align: right;\">26</td><td style=\"text-align: right;\">1414</td><td style=\"text-align: right;\">0.00</td><td style=\"text-align: right;\">1</td><td style=\"text-align: right;\">1.00</td><td style=\"text-align: right;\">0</td><td style=\"text-align: right;\">0.00</td><td style=\"text-align: right;\">0</td><td style=\"text-align: right;\">0.00</td><td style=\"text-align: right;\">0</td><td style=\"text-align: right;\">0.00</td><td style=\"text-align: right;\">0</td><td style=\"text-align: right;\">0.00</td><td style=\"text-align: right;\">0</td><td style=\"text-align: right;\">0.00</td><td style=\"text-align: right;\">0</td><td style=\"text-align: right;\">0.00</td><td style=\"text-align: right;\">1</td><td style=\"text-align: right;\">6.73</td></tr>\n",
       "<tr class=\"even\"><td style=\"text-align: right;\">353604</td><td style=\"text-align: right;\">136,092,061</td><td style=\"text-align: right;\">315,418</td><td style=\"text-align: right;\">4</td><td style=\"text-align: right;\">911</td><td style=\"text-align: right;\">0.00</td><td style=\"text-align: right;\">1</td><td style=\"text-align: right;\">1.00</td><td style=\"text-align: right;\">0</td><td style=\"text-align: right;\">0.00</td><td style=\"text-align: right;\">0</td><td style=\"text-align: right;\">0.00</td><td style=\"text-align: right;\">0</td><td style=\"text-align: right;\">0.00</td><td style=\"text-align: right;\">0</td><td style=\"text-align: right;\">0.00</td><td style=\"text-align: right;\">0</td><td style=\"text-align: right;\">0.00</td><td style=\"text-align: right;\">0</td><td style=\"text-align: right;\">0.00</td><td style=\"text-align: right;\">1</td><td style=\"text-align: right;\">6.73</td></tr>\n",
       "</table>"
      ],
      "text/plain": [
       "<IPython.core.display.HTML object>"
      ]
     },
     "execution_count": 16,
     "metadata": {},
     "output_type": "execute_result"
    }
   ],
   "source": [
    "HTML(plt_obj.get_html())"
   ]
  },
  {
   "cell_type": "code",
   "execution_count": 17,
   "metadata": {
    "collapsed": false
   },
   "outputs": [
    {
     "data": {
      "text/html": [
       "\n",
       "\n",
       "    <div class=\"bk-root\">\n",
       "        <div class=\"plotdiv\" id=\"3d77349b-d4e2-44ad-821b-88808999e46c\"></div>\n",
       "    </div>\n",
       "<script type=\"text/javascript\">\n",
       "  \n",
       "  (function(global) {\n",
       "    function now() {\n",
       "      return new Date();\n",
       "    }\n",
       "  \n",
       "    if (typeof (window._bokeh_onload_callbacks) === \"undefined\") {\n",
       "      window._bokeh_onload_callbacks = [];\n",
       "    }\n",
       "  \n",
       "    function run_callbacks() {\n",
       "      window._bokeh_onload_callbacks.forEach(function(callback) { callback() });\n",
       "      delete window._bokeh_onload_callbacks\n",
       "      console.info(\"Bokeh: all callbacks have finished\");\n",
       "    }\n",
       "  \n",
       "    function load_libs(js_urls, callback) {\n",
       "      window._bokeh_onload_callbacks.push(callback);\n",
       "      if (window._bokeh_is_loading > 0) {\n",
       "        console.log(\"Bokeh: BokehJS is being loaded, scheduling callback at\", now());\n",
       "        return null;\n",
       "      }\n",
       "      if (js_urls == null || js_urls.length === 0) {\n",
       "        run_callbacks();\n",
       "        return null;\n",
       "      }\n",
       "      console.log(\"Bokeh: BokehJS not loaded, scheduling load and callback at\", now());\n",
       "      window._bokeh_is_loading = js_urls.length;\n",
       "      for (var i = 0; i < js_urls.length; i++) {\n",
       "        var url = js_urls[i];\n",
       "        var s = document.createElement('script');\n",
       "        s.src = url;\n",
       "        s.async = false;\n",
       "        s.onreadystatechange = s.onload = function() {\n",
       "          window._bokeh_is_loading--;\n",
       "          if (window._bokeh_is_loading === 0) {\n",
       "            console.log(\"Bokeh: all BokehJS libraries loaded\");\n",
       "            run_callbacks()\n",
       "          }\n",
       "        };\n",
       "        s.onerror = function() {\n",
       "          console.warn(\"failed to load library \" + url);\n",
       "        };\n",
       "        console.log(\"Bokeh: injecting script tag for BokehJS library: \", url);\n",
       "        document.getElementsByTagName(\"head\")[0].appendChild(s);\n",
       "      }\n",
       "    };var element = document.getElementById(\"3d77349b-d4e2-44ad-821b-88808999e46c\");\n",
       "    if (element == null) {\n",
       "      console.log(\"Bokeh: ERROR: autoload.js configured with elementid '3d77349b-d4e2-44ad-821b-88808999e46c' but no matching script tag was found. \")\n",
       "      return false;\n",
       "    }\n",
       "  \n",
       "    var js_urls = [];\n",
       "  \n",
       "    var inline_js = [\n",
       "      function(Bokeh) {\n",
       "        Bokeh.$(function() {\n",
       "            var docs_json = {\"ffa217da-b63f-4d4d-979a-d5bca00339c4\":{\"roots\":{\"references\":[{\"attributes\":{\"below\":[{\"id\":\"dc919a15-ab8c-421d-8cd3-933b1d66b922\",\"type\":\"LinearAxis\"}],\"left\":[{\"id\":\"1d60d7ae-90f9-403e-a312-e7fcf54e8a19\",\"type\":\"LinearAxis\"}],\"plot_height\":400,\"plot_width\":900,\"renderers\":[{\"id\":\"dc919a15-ab8c-421d-8cd3-933b1d66b922\",\"type\":\"LinearAxis\"},{\"id\":\"7813918f-bae2-4f29-8ce8-73ca954828fd\",\"type\":\"Grid\"},{\"id\":\"1d60d7ae-90f9-403e-a312-e7fcf54e8a19\",\"type\":\"LinearAxis\"},{\"id\":\"fd77b794-3171-4472-b8f9-1677258deb67\",\"type\":\"Grid\"},{\"id\":\"b554e8c5-6f1e-49af-bde5-e81f32c970b5\",\"type\":\"BoxAnnotation\"},{\"id\":\"4d560870-84ad-4d30-88a2-36a68e9f1c7b\",\"type\":\"GlyphRenderer\"},{\"id\":\"5194c0d5-29aa-4402-9695-fd33d154fc65\",\"type\":\"GlyphRenderer\"},{\"id\":\"e425930f-9ec0-45fa-a47b-ed181afb7916\",\"type\":\"LabelSet\"},{\"id\":\"6211cf64-c7d9-45dd-932a-93f5df9173e3\",\"type\":\"GlyphRenderer\"},{\"id\":\"24a6b7e0-351b-4c81-a3e1-cc6a4d008a76\",\"type\":\"LabelSet\"}],\"title\":{\"id\":\"442cc129-981d-46f0-9e94-f64c0c37dad8\",\"type\":\"Title\"},\"tool_events\":{\"id\":\"bcdf6d29-c72d-492c-939b-e5b5363aece1\",\"type\":\"ToolEvents\"},\"toolbar\":{\"id\":\"0d65f9bc-920b-49a1-aad8-04262f6583d7\",\"type\":\"Toolbar\"},\"toolbar_location\":null,\"x_range\":{\"id\":\"66794f79-bae6-4338-a879-29027c90a5a4\",\"type\":\"Range1d\"},\"y_range\":{\"id\":\"c6ab34fe-2a26-4c2f-8ea5-d93d0e9670d1\",\"type\":\"Range1d\"}},\"id\":\"c5c0ed93-a4cf-4ffd-92d5-afce9127d6a5\",\"subtype\":\"Figure\",\"type\":\"Plot\"},{\"attributes\":{\"bottom\":{\"field\":\"bottom\"},\"fill_alpha\":{\"value\":0.1},\"fill_color\":{\"value\":\"#1f77b4\"},\"left\":{\"field\":\"left\"},\"line_alpha\":{\"value\":0.1},\"line_color\":{\"value\":\"#1f77b4\"},\"right\":{\"field\":\"right\"},\"top\":{\"field\":\"top\"}},\"id\":\"1a01db25-7495-4d4a-8cee-e75c9106c52f\",\"type\":\"Quad\"},{\"attributes\":{\"callback\":null,\"end\":400},\"id\":\"c6ab34fe-2a26-4c2f-8ea5-d93d0e9670d1\",\"type\":\"Range1d\"},{\"attributes\":{\"callback\":null,\"column_names\":[\"right\",\"bottom\",\"top\",\"left\"],\"data\":{\"bottom\":[345,345,345,345,345,345,345],\"left\":[135809835,135957574,136289083,136499189,136545415,136597196,136664254],\"right\":[135928279,136288182,136482839,136542633,136594750,136634047,136743222],\"top\":[375,375,375,375,375,375,375]}},\"id\":\"9a0a94b8-1897-4f65-a9c6-45fe70d68b2d\",\"type\":\"ColumnDataSource\"},{\"attributes\":{\"plot\":{\"id\":\"c5c0ed93-a4cf-4ffd-92d5-afce9127d6a5\",\"subtype\":\"Figure\",\"type\":\"Plot\"}},\"id\":\"78b5e355-3b88-4521-8ed1-b9a9c955e7f6\",\"type\":\"HelpTool\"},{\"attributes\":{\"bottom_units\":\"screen\",\"fill_alpha\":{\"value\":0.5},\"fill_color\":{\"value\":\"lightgrey\"},\"left_units\":\"screen\",\"level\":\"overlay\",\"line_alpha\":{\"value\":1.0},\"line_color\":{\"value\":\"black\"},\"line_dash\":[4,4],\"line_width\":{\"value\":2},\"plot\":null,\"render_mode\":\"css\",\"right_units\":\"screen\",\"top_units\":\"screen\"},\"id\":\"b554e8c5-6f1e-49af-bde5-e81f32c970b5\",\"type\":\"BoxAnnotation\"},{\"attributes\":{\"dimension\":1,\"plot\":{\"id\":\"c5c0ed93-a4cf-4ffd-92d5-afce9127d6a5\",\"subtype\":\"Figure\",\"type\":\"Plot\"},\"ticker\":{\"id\":\"a8b88124-6940-4c5c-b091-4ed250f46421\",\"type\":\"BasicTicker\"}},\"id\":\"fd77b794-3171-4472-b8f9-1677258deb67\",\"type\":\"Grid\"},{\"attributes\":{},\"id\":\"a8b88124-6940-4c5c-b091-4ed250f46421\",\"type\":\"BasicTicker\"},{\"attributes\":{\"level\":\"glyph\",\"plot\":{\"id\":\"c5c0ed93-a4cf-4ffd-92d5-afce9127d6a5\",\"subtype\":\"Figure\",\"type\":\"Plot\"},\"source\":{\"id\":\"a6643170-cb0e-4c3b-a9be-0d2205618676\",\"type\":\"ColumnDataSource\"},\"text\":{\"field\":\"vals\"},\"text_font_size\":{\"value\":\"9pt\"},\"text_font_style\":\"bold\",\"x\":{\"field\":\"x\"},\"y\":{\"field\":\"y\"}},\"id\":\"e425930f-9ec0-45fa-a47b-ed181afb7916\",\"type\":\"LabelSet\"},{\"attributes\":{\"overlay\":{\"id\":\"b554e8c5-6f1e-49af-bde5-e81f32c970b5\",\"type\":\"BoxAnnotation\"},\"plot\":{\"id\":\"c5c0ed93-a4cf-4ffd-92d5-afce9127d6a5\",\"subtype\":\"Figure\",\"type\":\"Plot\"}},\"id\":\"872b07a8-44ef-4495-a833-447b4ddaaebc\",\"type\":\"BoxZoomTool\"},{\"attributes\":{\"callback\":null,\"column_names\":[\"right\",\"bottom\",\"top\",\"left\",\"fill_color\"],\"data\":{\"bottom\":[150,250,50,150,150,250],\"fill_color\":[\"#61c461\",\"#61c461\",\"#00ff00\",\"#61c461\",\"#61c461\",\"#808080\"],\"left\":[135771974,135915358,136092061,136398174,136494186,136501840],\"right\":[136140304,135995079,136407479,136474098,136765951,136555659],\"top\":[195,296,90,194,195,298]}},\"id\":\"ee7627d1-3c16-4699-8274-f5ca3cfda3e6\",\"type\":\"ColumnDataSource\"},{\"attributes\":{},\"id\":\"229c9f4b-857a-4903-90ea-46fa55e00ed3\",\"type\":\"BasicTicker\"},{\"attributes\":{},\"id\":\"468b706a-093e-4e17-a98e-14ed44a1894b\",\"type\":\"BasicTickFormatter\"},{\"attributes\":{\"line_alpha\":{\"value\":0.1},\"line_color\":{\"value\":\"#1f77b4\"},\"xs\":{\"field\":\"xs\"},\"ys\":{\"field\":\"ys\"}},\"id\":\"1d993ab3-edc9-4d5f-b143-1de83fcc5221\",\"type\":\"MultiLine\"},{\"attributes\":{\"bottom\":{\"field\":\"bottom\"},\"fill_color\":{\"value\":\"white\"},\"left\":{\"field\":\"left\"},\"right\":{\"field\":\"right\"},\"top\":{\"field\":\"top\"}},\"id\":\"56e66327-1aba-45c8-a018-594799d41764\",\"type\":\"Quad\"},{\"attributes\":{\"callback\":null,\"column_names\":[\"y\",\"x\",\"vals\"],\"data\":{\"vals\":[\"6_1503\",\"4_1699\",\"4_911\",\"26_1414\",\"64_1575\",\"10_2206\"],\"x\":[135771974,135915358,136092061,136398174,136494186,136501840],\"y\":[200.0,301.0,95.0,199.0,200.0,303.0]}},\"id\":\"a6643170-cb0e-4c3b-a9be-0d2205618676\",\"type\":\"ColumnDataSource\"},{\"attributes\":{\"plot\":{\"id\":\"c5c0ed93-a4cf-4ffd-92d5-afce9127d6a5\",\"subtype\":\"Figure\",\"type\":\"Plot\"}},\"id\":\"f3800543-bd82-4f17-9019-f5d6450fc3a0\",\"type\":\"ResetTool\"},{\"attributes\":{\"formatter\":{\"id\":\"25203b9b-6e31-45c3-981b-5b07f63ea0d1\",\"type\":\"BasicTickFormatter\"},\"plot\":{\"id\":\"c5c0ed93-a4cf-4ffd-92d5-afce9127d6a5\",\"subtype\":\"Figure\",\"type\":\"Plot\"},\"ticker\":{\"id\":\"a8b88124-6940-4c5c-b091-4ed250f46421\",\"type\":\"BasicTicker\"},\"visible\":null},\"id\":\"1d60d7ae-90f9-403e-a312-e7fcf54e8a19\",\"type\":\"LinearAxis\"},{\"attributes\":{\"data_source\":{\"id\":\"7405b810-d7f5-48f1-852a-52f1aac405bf\",\"type\":\"ColumnDataSource\"},\"glyph\":{\"id\":\"53ed9d39-b7b1-42cb-8635-48832b4ed4a6\",\"type\":\"MultiLine\"},\"hover_glyph\":null,\"nonselection_glyph\":{\"id\":\"1d993ab3-edc9-4d5f-b143-1de83fcc5221\",\"type\":\"MultiLine\"},\"selection_glyph\":null},\"id\":\"5194c0d5-29aa-4402-9695-fd33d154fc65\",\"type\":\"GlyphRenderer\"},{\"attributes\":{\"plot\":{\"id\":\"c5c0ed93-a4cf-4ffd-92d5-afce9127d6a5\",\"subtype\":\"Figure\",\"type\":\"Plot\"}},\"id\":\"cf13eac4-2dee-4b78-9352-10f0ec80cd49\",\"type\":\"SaveTool\"},{\"attributes\":{\"plot\":null,\"text\":null},\"id\":\"442cc129-981d-46f0-9e94-f64c0c37dad8\",\"type\":\"Title\"},{\"attributes\":{\"plot\":{\"id\":\"c5c0ed93-a4cf-4ffd-92d5-afce9127d6a5\",\"subtype\":\"Figure\",\"type\":\"Plot\"}},\"id\":\"e3ab6e25-97ac-4fdb-902b-f715ec18ca6f\",\"type\":\"WheelZoomTool\"},{\"attributes\":{\"formatter\":{\"id\":\"468b706a-093e-4e17-a98e-14ed44a1894b\",\"type\":\"BasicTickFormatter\"},\"plot\":{\"id\":\"c5c0ed93-a4cf-4ffd-92d5-afce9127d6a5\",\"subtype\":\"Figure\",\"type\":\"Plot\"},\"ticker\":{\"id\":\"229c9f4b-857a-4903-90ea-46fa55e00ed3\",\"type\":\"BasicTicker\"}},\"id\":\"dc919a15-ab8c-421d-8cd3-933b1d66b922\",\"type\":\"LinearAxis\"},{\"attributes\":{\"line_color\":{\"field\":\"line_color\"},\"xs\":{\"field\":\"xs\"},\"ys\":{\"field\":\"ys\"}},\"id\":\"53ed9d39-b7b1-42cb-8635-48832b4ed4a6\",\"type\":\"MultiLine\"},{\"attributes\":{\"bottom\":{\"field\":\"bottom\"},\"fill_color\":{\"field\":\"fill_color\"},\"left\":{\"field\":\"left\"},\"line_color\":{\"value\":null},\"right\":{\"field\":\"right\"},\"top\":{\"field\":\"top\"}},\"id\":\"97c00dbf-70b6-463a-b18e-dda6c137e1c1\",\"type\":\"Quad\"},{\"attributes\":{\"plot\":{\"id\":\"c5c0ed93-a4cf-4ffd-92d5-afce9127d6a5\",\"subtype\":\"Figure\",\"type\":\"Plot\"}},\"id\":\"a35e3504-940f-42a7-a09d-841786a551af\",\"type\":\"PanTool\"},{\"attributes\":{\"callback\":null,\"column_names\":[\"y\",\"x\",\"vals\"],\"data\":{\"vals\":[\"RAB3GAP1\",\"ZRANB3\",\"R3HDM1\",\"UBXN4\",\"LCT\",\"MCM6\",\"DARS\"],\"x\":[135869057.0,136122878.0,136385961.0,136520911.0,136570082.5,136615621.5,136703738.0],\"y\":[360.0,360.0,360.0,360.0,360.0,360.0,360.0]}},\"id\":\"666fe67c-a433-4fbd-be5e-9d9ec9366de2\",\"type\":\"ColumnDataSource\"},{\"attributes\":{\"callback\":null,\"column_names\":[\"xs\",\"ys\",\"line_color\"],\"data\":{\"line_color\":[\"black\",\"black\",\"black\",\"black\",\"black\",\"black\",\"black\",\"black\",\"black\",\"black\",\"black\",\"black\",\"black\",\"black\",\"black\",\"black\",\"black\",\"black\",\"black\",\"black\",\"black\",\"black\",\"black\",\"black\",\"black\",\"black\",\"black\",\"black\",\"black\",\"black\",\"black\",\"black\",\"black\",\"black\",\"black\",\"black\",\"black\",\"black\",\"black\",\"black\",\"black\",\"black\",\"black\",\"black\",\"black\",\"black\",\"black\",\"black\",\"black\",\"black\",\"black\",\"black\",\"black\",\"black\",\"black\",\"black\",\"black\",\"black\",\"black\",\"black\",\"black\",\"black\",\"black\",\"black\",\"black\",\"black\",\"black\",\"black\",\"black\",\"black\",\"black\",\"black\",\"black\",\"black\",\"black\",\"black\",\"black\",\"black\",\"black\",\"black\",\"black\",\"black\",\"black\",\"black\",\"black\",\"black\",\"black\",\"black\",\"black\",\"black\",\"black\",\"black\",\"black\",\"black\",\"black\",\"black\",\"black\",\"black\",\"black\",\"black\",\"black\",\"black\",\"black\",\"black\",\"black\",\"black\",\"black\",\"black\",\"black\",\"black\",\"black\",\"black\",\"black\",\"black\"],\"xs\":[[135771974,135771974],[135859371,135859371],[135877562,135877562],[136022798,136022798],[136058820,136058820],[136140304,136140304],[135915358,135915358],[135954405,135954405],[135995073,135995073],[135995079,135995079],[136092061,136092061],[136273578,136273578],[136322676,136322676],[136407479,136407479],[136398174,136398174],[136402117,136402117],[136403749,136403749],[136409073,136409073],[136410299,136410299],[136413359,136413359],[136416855,136416855],[136416941,136416941],[136418348,136418348],[136419961,136419961],[136420690,136420690],[136422171,136422171],[136428460,136428460],[136430866,136430866],[136432103,136432103],[136437507,136437507],[136439090,136439090],[136439517,136439517],[136444123,136444123],[136445526,136445526],[136445869,136445869],[136455600,136455600],[136456642,136456642],[136462441,136462441],[136470714,136470714],[136474098,136474098],[136494186,136494186],[136495300,136495300],[136495619,136495619],[136499166,136499166],[136502792,136502792],[136503157,136503157],[136507039,136507039],[136511575,136511575],[136518103,136518103],[136521514,136521514],[136522675,136522675],[136522941,136522941],[136526981,136526981],[136535410,136535410],[136539122,136539122],[136544197,136544197],[136550109,136550109],[136551694,136551694],[136553188,136553188],[136553639,136553639],[136554800,136554800],[136557319,136557319],[136558157,136558157],[136569848,136569848],[136575199,136575199],[136576577,136576577],[136578536,136578536],[136580287,136580287],[136583192,136583192],[136586958,136586958],[136588478,136588478],[136589612,136589612],[136591178,136591178],[136591859,136591859],[136593760,136593760],[136594158,136594158],[136603276,136603276],[136603366,136603366],[136608231,136608231],[136609975,136609975],[136610598,136610598],[136611624,136611624],[136613780,136613780],[136614255,136614255],[136614813,136614813],[136617524,136617524],[136622216,136622216],[136625602,136625602],[136629911,136629911],[136630757,136630757],[136630989,136630989],[136631031,136631031],[136633771,136633771],[136636324,136636324],[136638216,136638216],[136640233,136640233],[136641882,136641882],[136643555,136643555],[136658345,136658345],[136670298,136670298],[136685228,136685228],[136696138,136696138],[136740900,136740900],[136765951,136765951],[136501840,136501840],[136505546,136505546],[136516748,136516748],[136522710,136522710],[136528004,136528004],[136539513,136539513],[136544752,136544752],[136546110,136546110],[136553529,136553529],[136555659,136555659]],\"ys\":[[150,195],[150,195],[150,195],[150,195],[150,195],[150,195],[250,296],[250,296],[250,296],[250,296],[50,90],[50,90],[50,90],[50,90],[150,194],[150,194],[150,194],[150,194],[150,194],[150,194],[150,194],[150,194],[150,194],[150,194],[150,194],[150,194],[150,194],[150,194],[150,194],[150,194],[150,194],[150,194],[150,194],[150,194],[150,194],[150,194],[150,194],[150,194],[150,194],[150,194],[150,195],[150,195],[150,195],[150,195],[150,195],[150,195],[150,195],[150,195],[150,195],[150,195],[150,195],[150,195],[150,195],[150,195],[150,195],[150,195],[150,195],[150,195],[150,195],[150,195],[150,195],[150,195],[150,195],[150,195],[150,195],[150,195],[150,195],[150,195],[150,195],[150,195],[150,195],[150,195],[150,195],[150,195],[150,195],[150,195],[150,195],[150,195],[150,195],[150,195],[150,195],[150,195],[150,195],[150,195],[150,195],[150,195],[150,195],[150,195],[150,195],[150,195],[150,195],[150,195],[150,195],[150,195],[150,195],[150,195],[150,195],[150,195],[150,195],[150,195],[150,195],[150,195],[150,195],[150,195],[250,298],[250,298],[250,298],[250,298],[250,298],[250,298],[250,298],[250,298],[250,298],[250,298]]}},\"id\":\"7405b810-d7f5-48f1-852a-52f1aac405bf\",\"type\":\"ColumnDataSource\"},{\"attributes\":{\"active_drag\":\"auto\",\"active_scroll\":\"auto\",\"active_tap\":\"auto\",\"tools\":[{\"id\":\"a35e3504-940f-42a7-a09d-841786a551af\",\"type\":\"PanTool\"},{\"id\":\"e3ab6e25-97ac-4fdb-902b-f715ec18ca6f\",\"type\":\"WheelZoomTool\"},{\"id\":\"872b07a8-44ef-4495-a833-447b4ddaaebc\",\"type\":\"BoxZoomTool\"},{\"id\":\"cf13eac4-2dee-4b78-9352-10f0ec80cd49\",\"type\":\"SaveTool\"},{\"id\":\"f3800543-bd82-4f17-9019-f5d6450fc3a0\",\"type\":\"ResetTool\"},{\"id\":\"78b5e355-3b88-4521-8ed1-b9a9c955e7f6\",\"type\":\"HelpTool\"}]},\"id\":\"0d65f9bc-920b-49a1-aad8-04262f6583d7\",\"type\":\"Toolbar\"},{\"attributes\":{\"bottom\":{\"field\":\"bottom\"},\"fill_alpha\":{\"value\":0.1},\"fill_color\":{\"value\":\"#1f77b4\"},\"left\":{\"field\":\"left\"},\"line_alpha\":{\"value\":0.1},\"line_color\":{\"value\":\"#1f77b4\"},\"right\":{\"field\":\"right\"},\"top\":{\"field\":\"top\"}},\"id\":\"b31d558c-6cce-4441-bb64-5b771b2d3b30\",\"type\":\"Quad\"},{\"attributes\":{\"plot\":{\"id\":\"c5c0ed93-a4cf-4ffd-92d5-afce9127d6a5\",\"subtype\":\"Figure\",\"type\":\"Plot\"},\"ticker\":{\"id\":\"229c9f4b-857a-4903-90ea-46fa55e00ed3\",\"type\":\"BasicTicker\"}},\"id\":\"7813918f-bae2-4f29-8ce8-73ca954828fd\",\"type\":\"Grid\"},{\"attributes\":{\"callback\":null,\"end\":136786630,\"start\":135757320},\"id\":\"66794f79-bae6-4338-a879-29027c90a5a4\",\"type\":\"Range1d\"},{\"attributes\":{},\"id\":\"25203b9b-6e31-45c3-981b-5b07f63ea0d1\",\"type\":\"BasicTickFormatter\"},{\"attributes\":{},\"id\":\"bcdf6d29-c72d-492c-939b-e5b5363aece1\",\"type\":\"ToolEvents\"},{\"attributes\":{\"level\":\"glyph\",\"plot\":{\"id\":\"c5c0ed93-a4cf-4ffd-92d5-afce9127d6a5\",\"subtype\":\"Figure\",\"type\":\"Plot\"},\"source\":{\"id\":\"666fe67c-a433-4fbd-be5e-9d9ec9366de2\",\"type\":\"ColumnDataSource\"},\"text\":{\"field\":\"vals\"},\"text_align\":\"center\",\"text_baseline\":\"middle\",\"text_font_size\":{\"value\":\"8pt\"},\"x\":{\"field\":\"x\"},\"y\":{\"field\":\"y\"}},\"id\":\"24a6b7e0-351b-4c81-a3e1-cc6a4d008a76\",\"type\":\"LabelSet\"},{\"attributes\":{\"data_source\":{\"id\":\"ee7627d1-3c16-4699-8274-f5ca3cfda3e6\",\"type\":\"ColumnDataSource\"},\"glyph\":{\"id\":\"97c00dbf-70b6-463a-b18e-dda6c137e1c1\",\"type\":\"Quad\"},\"hover_glyph\":null,\"nonselection_glyph\":{\"id\":\"1a01db25-7495-4d4a-8cee-e75c9106c52f\",\"type\":\"Quad\"},\"selection_glyph\":null},\"id\":\"4d560870-84ad-4d30-88a2-36a68e9f1c7b\",\"type\":\"GlyphRenderer\"},{\"attributes\":{\"data_source\":{\"id\":\"9a0a94b8-1897-4f65-a9c6-45fe70d68b2d\",\"type\":\"ColumnDataSource\"},\"glyph\":{\"id\":\"56e66327-1aba-45c8-a018-594799d41764\",\"type\":\"Quad\"},\"hover_glyph\":null,\"nonselection_glyph\":{\"id\":\"b31d558c-6cce-4441-bb64-5b771b2d3b30\",\"type\":\"Quad\"},\"selection_glyph\":null},\"id\":\"6211cf64-c7d9-45dd-932a-93f5df9173e3\",\"type\":\"GlyphRenderer\"}],\"root_ids\":[\"c5c0ed93-a4cf-4ffd-92d5-afce9127d6a5\"]},\"title\":\"Bokeh Application\",\"version\":\"0.12.0\"}};\n",
       "            var render_items = [{\"docid\":\"ffa217da-b63f-4d4d-979a-d5bca00339c4\",\"elementid\":\"3d77349b-d4e2-44ad-821b-88808999e46c\",\"modelid\":\"c5c0ed93-a4cf-4ffd-92d5-afce9127d6a5\",\"notebook_comms_target\":\"42f5f72c-5772-4063-a6be-435d2eee9d70\"}];\n",
       "            \n",
       "            Bokeh.embed.embed_items(docs_json, render_items);\n",
       "        });\n",
       "      },\n",
       "      function(Bokeh) {\n",
       "      }\n",
       "    ];\n",
       "  \n",
       "    function run_inline_js() {\n",
       "      for (var i = 0; i < inline_js.length; i++) {\n",
       "        inline_js[i](window.Bokeh);\n",
       "      }\n",
       "    }\n",
       "  \n",
       "    if (window._bokeh_is_loading === 0) {\n",
       "      console.log(\"Bokeh: BokehJS loaded, going straight to plotting\");\n",
       "      run_inline_js();\n",
       "    } else {\n",
       "      load_libs(js_urls, function() {\n",
       "        console.log(\"Bokeh: BokehJS plotting callback run at\", now());\n",
       "        run_inline_js();\n",
       "      });\n",
       "    }\n",
       "  }(this));\n",
       "</script>"
      ]
     },
     "metadata": {},
     "output_type": "display_data"
    },
    {
     "data": {
      "text/html": [
       "<p><code>&lt;Bokeh Notebook handle for <strong>In[17]</strong>&gt;</code></p>"
      ],
      "text/plain": [
       "<bokeh.io._CommsHandle at 0x7f46f110e6d0>"
      ]
     },
     "execution_count": 17,
     "metadata": {},
     "output_type": "execute_result"
    }
   ],
   "source": [
    "plt_obj = dm.superset_yes_no([dm.di_4_911, dm.di_64_1575], \n",
    "                             [dm.di_7_1868, dm.di_11_765], min_match=0.001)\n",
    "plt = plt_obj.do_plot()\n",
    "show(plt)"
   ]
  },
  {
   "cell_type": "code",
   "execution_count": 18,
   "metadata": {
    "collapsed": false
   },
   "outputs": [
    {
     "data": {
      "text/html": [
       "<table>\n",
       "<thead><tr><th style=\"text-align:center\">index</th><th style=\"text-align:center\">first</th><th style=\"text-align:center\">length</th><th style=\"text-align:center\">snps</th><th style=\"text-align:center\" colspan=2>alleles</th><th style=\"text-align:center\" colspan=2>matches</th><th style=\"text-align:center\" colspan=2>afr</th><th style=\"text-align:center\" colspan=2>afx</th><th style=\"text-align:center\" colspan=2>amr</th><th style=\"text-align:center\" colspan=2>eas</th><th style=\"text-align:center\" colspan=2>eur</th><th style=\"text-align:center\" colspan=2>sas</th><th style=\"text-align:center\" colspan=2>sax</th></tr></thead>\n",
       "<tr class=\"even\"><td style=\"text-align: right;\">353921</td><td style=\"text-align: right;\">136,501,840</td><td style=\"text-align: right;\">53,819</td><td style=\"text-align: right;\">10</td><td style=\"text-align: right;\">2206</td><td style=\"text-align: right;\">0.00</td><td style=\"text-align: right;\">5</td><td style=\"text-align: right;\">1.00</td><td style=\"text-align: right;\">0</td><td style=\"text-align: right;\">0.00</td><td style=\"text-align: right;\">0</td><td style=\"text-align: right;\">0.00</td><td style=\"text-align: right;\">5</td><td style=\"text-align: right;\">7.33</td><td style=\"text-align: right;\">0</td><td style=\"text-align: right;\">0.00</td><td style=\"text-align: right;\">0</td><td style=\"text-align: right;\">0.00</td><td style=\"text-align: right;\">0</td><td style=\"text-align: right;\">0.00</td><td style=\"text-align: right;\">0</td><td style=\"text-align: right;\">0.00</td></tr>\n",
       "<tr><td style=\"text-align: right;\">353462</td><td style=\"text-align: right;\">135,915,358</td><td style=\"text-align: right;\">79,721</td><td style=\"text-align: right;\">4</td><td style=\"text-align: right;\">1699</td><td style=\"text-align: right;\">0.00</td><td style=\"text-align: right;\">5</td><td style=\"text-align: right;\">1.00</td><td style=\"text-align: right;\">0</td><td style=\"text-align: right;\">0.00</td><td style=\"text-align: right;\">0</td><td style=\"text-align: right;\">0.00</td><td style=\"text-align: right;\">5</td><td style=\"text-align: right;\">7.33</td><td style=\"text-align: right;\">0</td><td style=\"text-align: right;\">0.00</td><td style=\"text-align: right;\">0</td><td style=\"text-align: right;\">0.00</td><td style=\"text-align: right;\">0</td><td style=\"text-align: right;\">0.00</td><td style=\"text-align: right;\">0</td><td style=\"text-align: right;\">0.00</td></tr>\n",
       "<tr class=\"even\"><td style=\"text-align: right;\">353901</td><td style=\"text-align: right;\">136,494,186</td><td style=\"text-align: right;\">271,765</td><td style=\"text-align: right;\">64</td><td style=\"text-align: right;\">1575</td><td style=\"text-align: right;\">0.00</td><td style=\"text-align: right;\">5</td><td style=\"text-align: right;\">1.00</td><td style=\"text-align: right;\">0</td><td style=\"text-align: right;\">0.00</td><td style=\"text-align: right;\">0</td><td style=\"text-align: right;\">0.00</td><td style=\"text-align: right;\">5</td><td style=\"text-align: right;\">7.33</td><td style=\"text-align: right;\">0</td><td style=\"text-align: right;\">0.00</td><td style=\"text-align: right;\">0</td><td style=\"text-align: right;\">0.00</td><td style=\"text-align: right;\">0</td><td style=\"text-align: right;\">0.00</td><td style=\"text-align: right;\">0</td><td style=\"text-align: right;\">0.00</td></tr>\n",
       "<tr><td style=\"text-align: right;\">353283</td><td style=\"text-align: right;\">135,771,974</td><td style=\"text-align: right;\">368,330</td><td style=\"text-align: right;\">6</td><td style=\"text-align: right;\">1503</td><td style=\"text-align: right;\">0.00</td><td style=\"text-align: right;\">5</td><td style=\"text-align: right;\">1.00</td><td style=\"text-align: right;\">0</td><td style=\"text-align: right;\">0.00</td><td style=\"text-align: right;\">0</td><td style=\"text-align: right;\">0.00</td><td style=\"text-align: right;\">5</td><td style=\"text-align: right;\">7.33</td><td style=\"text-align: right;\">0</td><td style=\"text-align: right;\">0.00</td><td style=\"text-align: right;\">0</td><td style=\"text-align: right;\">0.00</td><td style=\"text-align: right;\">0</td><td style=\"text-align: right;\">0.00</td><td style=\"text-align: right;\">0</td><td style=\"text-align: right;\">0.00</td></tr>\n",
       "<tr class=\"even\"><td style=\"text-align: right;\">353797</td><td style=\"text-align: right;\">136,398,174</td><td style=\"text-align: right;\">75,924</td><td style=\"text-align: right;\">26</td><td style=\"text-align: right;\">1414</td><td style=\"text-align: right;\">0.00</td><td style=\"text-align: right;\">5</td><td style=\"text-align: right;\">1.00</td><td style=\"text-align: right;\">0</td><td style=\"text-align: right;\">0.00</td><td style=\"text-align: right;\">0</td><td style=\"text-align: right;\">0.00</td><td style=\"text-align: right;\">5</td><td style=\"text-align: right;\">7.33</td><td style=\"text-align: right;\">0</td><td style=\"text-align: right;\">0.00</td><td style=\"text-align: right;\">0</td><td style=\"text-align: right;\">0.00</td><td style=\"text-align: right;\">0</td><td style=\"text-align: right;\">0.00</td><td style=\"text-align: right;\">0</td><td style=\"text-align: right;\">0.00</td></tr>\n",
       "<tr><td style=\"text-align: right;\">353604</td><td style=\"text-align: right;\">136,092,061</td><td style=\"text-align: right;\">315,418</td><td style=\"text-align: right;\">4</td><td style=\"text-align: right;\">911</td><td style=\"text-align: right;\">0.01</td><td style=\"text-align: right;\">5</td><td style=\"text-align: right;\">1.00</td><td style=\"text-align: right;\">0</td><td style=\"text-align: right;\">0.00</td><td style=\"text-align: right;\">0</td><td style=\"text-align: right;\">0.00</td><td style=\"text-align: right;\">5</td><td style=\"text-align: right;\">7.33</td><td style=\"text-align: right;\">0</td><td style=\"text-align: right;\">0.00</td><td style=\"text-align: right;\">0</td><td style=\"text-align: right;\">0.00</td><td style=\"text-align: right;\">0</td><td style=\"text-align: right;\">0.00</td><td style=\"text-align: right;\">0</td><td style=\"text-align: right;\">0.00</td></tr>\n",
       "</table>"
      ],
      "text/plain": [
       "<IPython.core.display.HTML object>"
      ]
     },
     "execution_count": 18,
     "metadata": {},
     "output_type": "execute_result"
    }
   ],
   "source": [
    "HTML(plt_obj.get_html())"
   ]
  },
  {
   "cell_type": "code",
   "execution_count": 19,
   "metadata": {
    "collapsed": false
   },
   "outputs": [
    {
     "data": {
      "text/html": [
       "<table>\n",
       "<thead><tr><th style=\"text-align:center\">index</th><th style=\"text-align:center\">first</th><th style=\"text-align:center\">length</th><th style=\"text-align:center\">snps</th><th style=\"text-align:center\" colspan=2>alleles</th><th style=\"text-align:center\" colspan=2>matches</th><th style=\"text-align:center\" colspan=2>afr</th><th style=\"text-align:center\" colspan=2>afx</th><th style=\"text-align:center\" colspan=2>amr</th><th style=\"text-align:center\" colspan=2>eas</th><th style=\"text-align:center\" colspan=2>eur</th><th style=\"text-align:center\" colspan=2>sas</th><th style=\"text-align:center\" colspan=2>sax</th></tr></thead>\n",
       "<tr class=\"even\"><td style=\"text-align: right;\">353921</td><td style=\"text-align: right;\">136,501,840</td><td style=\"text-align: right;\">53,819</td><td style=\"text-align: right;\">10</td><td style=\"text-align: right;\">2206</td><td style=\"text-align: right;\">0.03</td><td style=\"text-align: right;\">57</td><td style=\"text-align: right;\">1.00</td><td style=\"text-align: right;\">0</td><td style=\"text-align: right;\">0.00</td><td style=\"text-align: right;\">0</td><td style=\"text-align: right;\">0.00</td><td style=\"text-align: right;\">16</td><td style=\"text-align: right;\">2.21</td><td style=\"text-align: right;\">0</td><td style=\"text-align: right;\">0.00</td><td style=\"text-align: right;\">13</td><td style=\"text-align: right;\">1.86</td><td style=\"text-align: right;\">11</td><td style=\"text-align: right;\">2.65</td><td style=\"text-align: right;\">17</td><td style=\"text-align: right;\">2.27</td></tr>\n",
       "<tr><td style=\"text-align: right;\">354170</td><td style=\"text-align: right;\">136,682,274</td><td style=\"text-align: right;\">93,624</td><td style=\"text-align: right;\">7</td><td style=\"text-align: right;\">1868</td><td style=\"text-align: right;\">0.00</td><td style=\"text-align: right;\">1</td><td style=\"text-align: right;\">0.02</td><td style=\"text-align: right;\">0</td><td style=\"text-align: right;\">0.00</td><td style=\"text-align: right;\">0</td><td style=\"text-align: right;\">0.00</td><td style=\"text-align: right;\">0</td><td style=\"text-align: right;\">0.00</td><td style=\"text-align: right;\">0</td><td style=\"text-align: right;\">0.00</td><td style=\"text-align: right;\">0</td><td style=\"text-align: right;\">0.00</td><td style=\"text-align: right;\">1</td><td style=\"text-align: right;\">13.73</td><td style=\"text-align: right;\">0</td><td style=\"text-align: right;\">0.00</td></tr>\n",
       "<tr class=\"even\"><td style=\"text-align: right;\">354033</td><td style=\"text-align: right;\">136,588,031</td><td style=\"text-align: right;\">5,647</td><td style=\"text-align: right;\">7</td><td style=\"text-align: right;\">1760</td><td style=\"text-align: right;\">0.00</td><td style=\"text-align: right;\">1</td><td style=\"text-align: right;\">0.02</td><td style=\"text-align: right;\">0</td><td style=\"text-align: right;\">0.00</td><td style=\"text-align: right;\">0</td><td style=\"text-align: right;\">0.00</td><td style=\"text-align: right;\">0</td><td style=\"text-align: right;\">0.00</td><td style=\"text-align: right;\">0</td><td style=\"text-align: right;\">0.00</td><td style=\"text-align: right;\">1</td><td style=\"text-align: right;\">8.14</td><td style=\"text-align: right;\">0</td><td style=\"text-align: right;\">0.00</td><td style=\"text-align: right;\">0</td><td style=\"text-align: right;\">0.00</td></tr>\n",
       "<tr><td style=\"text-align: right;\">353462</td><td style=\"text-align: right;\">135,915,358</td><td style=\"text-align: right;\">79,721</td><td style=\"text-align: right;\">4</td><td style=\"text-align: right;\">1699</td><td style=\"text-align: right;\">0.03</td><td style=\"text-align: right;\">57</td><td style=\"text-align: right;\">1.00</td><td style=\"text-align: right;\">0</td><td style=\"text-align: right;\">0.00</td><td style=\"text-align: right;\">0</td><td style=\"text-align: right;\">0.00</td><td style=\"text-align: right;\">16</td><td style=\"text-align: right;\">2.21</td><td style=\"text-align: right;\">0</td><td style=\"text-align: right;\">0.00</td><td style=\"text-align: right;\">13</td><td style=\"text-align: right;\">1.86</td><td style=\"text-align: right;\">11</td><td style=\"text-align: right;\">2.65</td><td style=\"text-align: right;\">17</td><td style=\"text-align: right;\">2.27</td></tr>\n",
       "<tr class=\"even\"><td style=\"text-align: right;\">354130</td><td style=\"text-align: right;\">136,653,925</td><td style=\"text-align: right;\">107,928</td><td style=\"text-align: right;\">24</td><td style=\"text-align: right;\">1504</td><td style=\"text-align: right;\">0.00</td><td style=\"text-align: right;\">2</td><td style=\"text-align: right;\">0.04</td><td style=\"text-align: right;\">0</td><td style=\"text-align: right;\">0.00</td><td style=\"text-align: right;\">0</td><td style=\"text-align: right;\">0.00</td><td style=\"text-align: right;\">1</td><td style=\"text-align: right;\">3.93</td><td style=\"text-align: right;\">0</td><td style=\"text-align: right;\">0.00</td><td style=\"text-align: right;\">1</td><td style=\"text-align: right;\">4.07</td><td style=\"text-align: right;\">0</td><td style=\"text-align: right;\">0.00</td><td style=\"text-align: right;\">0</td><td style=\"text-align: right;\">0.00</td></tr>\n",
       "<tr><td style=\"text-align: right;\">353283</td><td style=\"text-align: right;\">135,771,974</td><td style=\"text-align: right;\">368,330</td><td style=\"text-align: right;\">6</td><td style=\"text-align: right;\">1503</td><td style=\"text-align: right;\">0.04</td><td style=\"text-align: right;\">57</td><td style=\"text-align: right;\">1.00</td><td style=\"text-align: right;\">0</td><td style=\"text-align: right;\">0.00</td><td style=\"text-align: right;\">0</td><td style=\"text-align: right;\">0.00</td><td style=\"text-align: right;\">16</td><td style=\"text-align: right;\">2.21</td><td style=\"text-align: right;\">0</td><td style=\"text-align: right;\">0.00</td><td style=\"text-align: right;\">13</td><td style=\"text-align: right;\">1.86</td><td style=\"text-align: right;\">11</td><td style=\"text-align: right;\">2.65</td><td style=\"text-align: right;\">17</td><td style=\"text-align: right;\">2.27</td></tr>\n",
       "<tr class=\"even\"><td style=\"text-align: right;\">353797</td><td style=\"text-align: right;\">136,398,174</td><td style=\"text-align: right;\">75,924</td><td style=\"text-align: right;\">26</td><td style=\"text-align: right;\">1414</td><td style=\"text-align: right;\">0.04</td><td style=\"text-align: right;\">57</td><td style=\"text-align: right;\">1.00</td><td style=\"text-align: right;\">0</td><td style=\"text-align: right;\">0.00</td><td style=\"text-align: right;\">0</td><td style=\"text-align: right;\">0.00</td><td style=\"text-align: right;\">16</td><td style=\"text-align: right;\">2.21</td><td style=\"text-align: right;\">0</td><td style=\"text-align: right;\">0.00</td><td style=\"text-align: right;\">13</td><td style=\"text-align: right;\">1.86</td><td style=\"text-align: right;\">11</td><td style=\"text-align: right;\">2.65</td><td style=\"text-align: right;\">17</td><td style=\"text-align: right;\">2.27</td></tr>\n",
       "<tr><td style=\"text-align: right;\">354129</td><td style=\"text-align: right;\">136,652,953</td><td style=\"text-align: right;\">108,222</td><td style=\"text-align: right;\">5</td><td style=\"text-align: right;\">1296</td><td style=\"text-align: right;\">0.00</td><td style=\"text-align: right;\">2</td><td style=\"text-align: right;\">0.04</td><td style=\"text-align: right;\">0</td><td style=\"text-align: right;\">0.00</td><td style=\"text-align: right;\">0</td><td style=\"text-align: right;\">0.00</td><td style=\"text-align: right;\">1</td><td style=\"text-align: right;\">3.93</td><td style=\"text-align: right;\">0</td><td style=\"text-align: right;\">0.00</td><td style=\"text-align: right;\">1</td><td style=\"text-align: right;\">4.07</td><td style=\"text-align: right;\">0</td><td style=\"text-align: right;\">0.00</td><td style=\"text-align: right;\">0</td><td style=\"text-align: right;\">0.00</td></tr>\n",
       "<tr class=\"even\"><td style=\"text-align: right;\">354127</td><td style=\"text-align: right;\">136,652,491</td><td style=\"text-align: right;\">80,281</td><td style=\"text-align: right;\">6</td><td style=\"text-align: right;\">1114</td><td style=\"text-align: right;\">0.00</td><td style=\"text-align: right;\">2</td><td style=\"text-align: right;\">0.04</td><td style=\"text-align: right;\">0</td><td style=\"text-align: right;\">0.00</td><td style=\"text-align: right;\">0</td><td style=\"text-align: right;\">0.00</td><td style=\"text-align: right;\">1</td><td style=\"text-align: right;\">3.93</td><td style=\"text-align: right;\">0</td><td style=\"text-align: right;\">0.00</td><td style=\"text-align: right;\">1</td><td style=\"text-align: right;\">4.07</td><td style=\"text-align: right;\">0</td><td style=\"text-align: right;\">0.00</td><td style=\"text-align: right;\">0</td><td style=\"text-align: right;\">0.00</td></tr>\n",
       "<tr><td style=\"text-align: right;\">353984</td><td style=\"text-align: right;\">136,556,805</td><td style=\"text-align: right;\">190,280</td><td style=\"text-align: right;\">39</td><td style=\"text-align: right;\">1014</td><td style=\"text-align: right;\">0.00</td><td style=\"text-align: right;\">1</td><td style=\"text-align: right;\">0.02</td><td style=\"text-align: right;\">0</td><td style=\"text-align: right;\">0.00</td><td style=\"text-align: right;\">0</td><td style=\"text-align: right;\">0.00</td><td style=\"text-align: right;\">0</td><td style=\"text-align: right;\">0.00</td><td style=\"text-align: right;\">0</td><td style=\"text-align: right;\">0.00</td><td style=\"text-align: right;\">1</td><td style=\"text-align: right;\">8.14</td><td style=\"text-align: right;\">0</td><td style=\"text-align: right;\">0.00</td><td style=\"text-align: right;\">0</td><td style=\"text-align: right;\">0.00</td></tr>\n",
       "<tr class=\"even\"><td style=\"text-align: right;\">353604</td><td style=\"text-align: right;\">136,092,061</td><td style=\"text-align: right;\">315,418</td><td style=\"text-align: right;\">4</td><td style=\"text-align: right;\">911</td><td style=\"text-align: right;\">0.06</td><td style=\"text-align: right;\">57</td><td style=\"text-align: right;\">1.00</td><td style=\"text-align: right;\">0</td><td style=\"text-align: right;\">0.00</td><td style=\"text-align: right;\">0</td><td style=\"text-align: right;\">0.00</td><td style=\"text-align: right;\">16</td><td style=\"text-align: right;\">2.21</td><td style=\"text-align: right;\">0</td><td style=\"text-align: right;\">0.00</td><td style=\"text-align: right;\">13</td><td style=\"text-align: right;\">1.86</td><td style=\"text-align: right;\">11</td><td style=\"text-align: right;\">2.65</td><td style=\"text-align: right;\">17</td><td style=\"text-align: right;\">2.27</td></tr>\n",
       "<tr><td style=\"text-align: right;\">354064</td><td style=\"text-align: right;\">136,605,402</td><td style=\"text-align: right;\">19,284</td><td style=\"text-align: right;\">8</td><td style=\"text-align: right;\">328</td><td style=\"text-align: right;\">0.01</td><td style=\"text-align: right;\">4</td><td style=\"text-align: right;\">0.07</td><td style=\"text-align: right;\">0</td><td style=\"text-align: right;\">0.00</td><td style=\"text-align: right;\">0</td><td style=\"text-align: right;\">0.00</td><td style=\"text-align: right;\">1</td><td style=\"text-align: right;\">1.96</td><td style=\"text-align: right;\">0</td><td style=\"text-align: right;\">0.00</td><td style=\"text-align: right;\">3</td><td style=\"text-align: right;\">6.10</td><td style=\"text-align: right;\">0</td><td style=\"text-align: right;\">0.00</td><td style=\"text-align: right;\">0</td><td style=\"text-align: right;\">0.00</td></tr>\n",
       "<tr class=\"even\"><td style=\"text-align: right;\">354051</td><td style=\"text-align: right;\">136,596,162</td><td style=\"text-align: right;\">189,567</td><td style=\"text-align: right;\">17</td><td style=\"text-align: right;\">137</td><td style=\"text-align: right;\">0.01</td><td style=\"text-align: right;\">1</td><td style=\"text-align: right;\">0.02</td><td style=\"text-align: right;\">0</td><td style=\"text-align: right;\">0.00</td><td style=\"text-align: right;\">0</td><td style=\"text-align: right;\">0.00</td><td style=\"text-align: right;\">0</td><td style=\"text-align: right;\">0.00</td><td style=\"text-align: right;\">0</td><td style=\"text-align: right;\">0.00</td><td style=\"text-align: right;\">1</td><td style=\"text-align: right;\">8.14</td><td style=\"text-align: right;\">0</td><td style=\"text-align: right;\">0.00</td><td style=\"text-align: right;\">0</td><td style=\"text-align: right;\">0.00</td></tr>\n",
       "</table>"
      ],
      "text/plain": [
       "<IPython.core.display.HTML object>"
      ]
     },
     "execution_count": 19,
     "metadata": {},
     "output_type": "execute_result"
    }
   ],
   "source": [
    "plt_obj = dm.superset_yes_no([dm.di_4_911, dm.di_10_2206], [dm.di_64_1575, dm.di_11_765], min_match=0.001)\n",
    "plt_obj.do_plot()\n",
    "am_0 = plt_obj.plot_context.yes_allele_mask\n",
    "HTML(plt_obj.get_html())"
   ]
  },
  {
   "cell_type": "code",
   "execution_count": 20,
   "metadata": {
    "collapsed": false
   },
   "outputs": [
    {
     "data": {
      "text/plain": [
       "array([57, 57, 57, 57, 57, 57, 57, 57, 57, 57, 57, 57, 57, 57, 57, 57, 57,\n",
       "       57, 57, 57, 57, 55, 54, 53, 53, 53, 53, 53, 53, 53, 53, 52, 51, 52,\n",
       "       52, 52, 48, 48, 48, 48,  1,  0,  1,  0,  0,  0,  1,  1,  0,  0,  0,\n",
       "        1,  0,  0,  0,  1,  0,  1,  0,  1,  1,  1,  0,  1])"
      ]
     },
     "execution_count": 20,
     "metadata": {},
     "output_type": "execute_result"
    }
   ],
   "source": [
    "sa_64_1575.alleles_per_snp(am_0)"
   ]
  },
  {
   "cell_type": "code",
   "execution_count": 21,
   "metadata": {
    "collapsed": false
   },
   "outputs": [
    {
     "data": {
      "text/html": [
       "\n",
       "\n",
       "    <div class=\"bk-root\">\n",
       "        <div class=\"plotdiv\" id=\"417491f5-d638-47c2-a62d-1440fa8527c1\"></div>\n",
       "    </div>\n",
       "<script type=\"text/javascript\">\n",
       "  \n",
       "  (function(global) {\n",
       "    function now() {\n",
       "      return new Date();\n",
       "    }\n",
       "  \n",
       "    if (typeof (window._bokeh_onload_callbacks) === \"undefined\") {\n",
       "      window._bokeh_onload_callbacks = [];\n",
       "    }\n",
       "  \n",
       "    function run_callbacks() {\n",
       "      window._bokeh_onload_callbacks.forEach(function(callback) { callback() });\n",
       "      delete window._bokeh_onload_callbacks\n",
       "      console.info(\"Bokeh: all callbacks have finished\");\n",
       "    }\n",
       "  \n",
       "    function load_libs(js_urls, callback) {\n",
       "      window._bokeh_onload_callbacks.push(callback);\n",
       "      if (window._bokeh_is_loading > 0) {\n",
       "        console.log(\"Bokeh: BokehJS is being loaded, scheduling callback at\", now());\n",
       "        return null;\n",
       "      }\n",
       "      if (js_urls == null || js_urls.length === 0) {\n",
       "        run_callbacks();\n",
       "        return null;\n",
       "      }\n",
       "      console.log(\"Bokeh: BokehJS not loaded, scheduling load and callback at\", now());\n",
       "      window._bokeh_is_loading = js_urls.length;\n",
       "      for (var i = 0; i < js_urls.length; i++) {\n",
       "        var url = js_urls[i];\n",
       "        var s = document.createElement('script');\n",
       "        s.src = url;\n",
       "        s.async = false;\n",
       "        s.onreadystatechange = s.onload = function() {\n",
       "          window._bokeh_is_loading--;\n",
       "          if (window._bokeh_is_loading === 0) {\n",
       "            console.log(\"Bokeh: all BokehJS libraries loaded\");\n",
       "            run_callbacks()\n",
       "          }\n",
       "        };\n",
       "        s.onerror = function() {\n",
       "          console.warn(\"failed to load library \" + url);\n",
       "        };\n",
       "        console.log(\"Bokeh: injecting script tag for BokehJS library: \", url);\n",
       "        document.getElementsByTagName(\"head\")[0].appendChild(s);\n",
       "      }\n",
       "    };var element = document.getElementById(\"417491f5-d638-47c2-a62d-1440fa8527c1\");\n",
       "    if (element == null) {\n",
       "      console.log(\"Bokeh: ERROR: autoload.js configured with elementid '417491f5-d638-47c2-a62d-1440fa8527c1' but no matching script tag was found. \")\n",
       "      return false;\n",
       "    }\n",
       "  \n",
       "    var js_urls = [];\n",
       "  \n",
       "    var inline_js = [\n",
       "      function(Bokeh) {\n",
       "        Bokeh.$(function() {\n",
       "            var docs_json = {\"b6b450c6-be8a-4c25-991a-0710791ec9d5\":{\"roots\":{\"references\":[{\"attributes\":{\"callback\":null,\"column_names\":[\"y\",\"x\",\"vals\"],\"data\":{\"vals\":[\"RAB3GAP1\",\"ZRANB3\",\"R3HDM1\",\"UBXN4\",\"LCT\",\"MCM6\",\"DARS\"],\"x\":[135869057.0,136122878.0,136385961.0,136520911.0,136570082.5,136615621.5,136703738.0],\"y\":[460.0,460.0,460.0,460.0,460.0,460.0,460.0]}},\"id\":\"50230770-70c1-43a6-87a1-5948bd61e954\",\"type\":\"ColumnDataSource\"},{\"attributes\":{\"overlay\":{\"id\":\"466c08d7-ae42-43f7-99f7-ab98fd83efa7\",\"type\":\"BoxAnnotation\"},\"plot\":{\"id\":\"bf77b77f-3d7d-4f64-ab46-b0f9e1c3b604\",\"subtype\":\"Figure\",\"type\":\"Plot\"}},\"id\":\"e61e67d5-3ab6-4333-9c19-599ad184f35f\",\"type\":\"BoxZoomTool\"},{\"attributes\":{\"bottom\":{\"field\":\"bottom\"},\"fill_alpha\":{\"value\":0.1},\"fill_color\":{\"value\":\"#1f77b4\"},\"left\":{\"field\":\"left\"},\"line_alpha\":{\"value\":0.1},\"line_color\":{\"value\":\"#1f77b4\"},\"right\":{\"field\":\"right\"},\"top\":{\"field\":\"top\"}},\"id\":\"eb0c8b29-7fd4-4966-af45-b8225e67c62a\",\"type\":\"Quad\"},{\"attributes\":{\"plot\":{\"id\":\"bf77b77f-3d7d-4f64-ab46-b0f9e1c3b604\",\"subtype\":\"Figure\",\"type\":\"Plot\"}},\"id\":\"5ac06583-ec01-41e0-aa65-12cd096cdfac\",\"type\":\"ResetTool\"},{\"attributes\":{\"data_source\":{\"id\":\"372d73a8-f138-43c7-b73a-d445452925b8\",\"type\":\"ColumnDataSource\"},\"glyph\":{\"id\":\"735b0f76-a854-48e4-bb03-861092f864cb\",\"type\":\"Quad\"},\"hover_glyph\":null,\"nonselection_glyph\":{\"id\":\"eb0c8b29-7fd4-4966-af45-b8225e67c62a\",\"type\":\"Quad\"},\"selection_glyph\":null},\"id\":\"34d8c3bb-1c99-4b47-80cb-662953afa580\",\"type\":\"GlyphRenderer\"},{\"attributes\":{\"below\":[{\"id\":\"51752dd0-eb2a-46b2-a32b-7358d505a8a8\",\"type\":\"LinearAxis\"}],\"left\":[{\"id\":\"a4747f69-3893-4088-94e2-e5dd0f8e8a7e\",\"type\":\"LinearAxis\"}],\"plot_height\":500,\"plot_width\":900,\"renderers\":[{\"id\":\"51752dd0-eb2a-46b2-a32b-7358d505a8a8\",\"type\":\"LinearAxis\"},{\"id\":\"abf7c6b9-db2c-4063-abbb-372082872bad\",\"type\":\"Grid\"},{\"id\":\"a4747f69-3893-4088-94e2-e5dd0f8e8a7e\",\"type\":\"LinearAxis\"},{\"id\":\"095d6aa6-4fcd-4714-8258-14f12bea2b76\",\"type\":\"Grid\"},{\"id\":\"466c08d7-ae42-43f7-99f7-ab98fd83efa7\",\"type\":\"BoxAnnotation\"},{\"id\":\"03045ebb-c793-4581-9133-7fe006d2884b\",\"type\":\"GlyphRenderer\"},{\"id\":\"b3ebfb52-1a04-40cd-bade-fd33b64cd88f\",\"type\":\"GlyphRenderer\"},{\"id\":\"cb78f176-c76b-480a-a3d3-b34728b884b3\",\"type\":\"LabelSet\"},{\"id\":\"34d8c3bb-1c99-4b47-80cb-662953afa580\",\"type\":\"GlyphRenderer\"},{\"id\":\"d892fcab-b2cc-4462-a867-553c5d184d47\",\"type\":\"LabelSet\"}],\"title\":{\"id\":\"2a5978eb-4d2b-44f8-aa0e-cdc821a3c39c\",\"type\":\"Title\"},\"tool_events\":{\"id\":\"b017949c-4265-42b8-8394-8282ef0f17ca\",\"type\":\"ToolEvents\"},\"toolbar\":{\"id\":\"3096a425-40b5-4048-811d-a1ce45a69039\",\"type\":\"Toolbar\"},\"toolbar_location\":null,\"x_range\":{\"id\":\"0926c42b-3085-4339-becb-6d0252df03f1\",\"type\":\"Range1d\"},\"y_range\":{\"id\":\"a5f33011-118c-4795-a4a5-5769f28a4499\",\"type\":\"Range1d\"}},\"id\":\"bf77b77f-3d7d-4f64-ab46-b0f9e1c3b604\",\"subtype\":\"Figure\",\"type\":\"Plot\"},{\"attributes\":{\"callback\":null,\"column_names\":[\"right\",\"bottom\",\"top\",\"left\",\"fill_color\"],\"data\":{\"bottom\":[150,250,50,150,350,350,50,150,250],\"fill_color\":[\"#61c461\",\"#61c461\",\"#00ff00\",\"#61c461\",\"#808080\",\"#c46161\",\"#808080\",\"#808080\",\"#808080\"],\"left\":[135771974,135915358,136092061,136398174,136501840,136588031,136652491,136652953,136653925],\"right\":[136140304,135995079,136407479,136474098,136555659,136593678,136732772,136761175,136761853],\"top\":[195,296,90,194,398,396,92,194,295]}},\"id\":\"b5729819-9882-4790-aec5-c3d7d6c652d4\",\"type\":\"ColumnDataSource\"},{\"attributes\":{\"bottom\":{\"field\":\"bottom\"},\"fill_alpha\":{\"value\":0.1},\"fill_color\":{\"value\":\"#1f77b4\"},\"left\":{\"field\":\"left\"},\"line_alpha\":{\"value\":0.1},\"line_color\":{\"value\":\"#1f77b4\"},\"right\":{\"field\":\"right\"},\"top\":{\"field\":\"top\"}},\"id\":\"d16ea8b3-f539-4fb6-9757-a30885d2cc8f\",\"type\":\"Quad\"},{\"attributes\":{\"line_alpha\":{\"value\":0.1},\"line_color\":{\"value\":\"#1f77b4\"},\"xs\":{\"field\":\"xs\"},\"ys\":{\"field\":\"ys\"}},\"id\":\"eeada44d-d21b-421c-92cc-6612df592468\",\"type\":\"MultiLine\"},{\"attributes\":{\"bottom\":{\"field\":\"bottom\"},\"fill_color\":{\"value\":\"white\"},\"left\":{\"field\":\"left\"},\"right\":{\"field\":\"right\"},\"top\":{\"field\":\"top\"}},\"id\":\"735b0f76-a854-48e4-bb03-861092f864cb\",\"type\":\"Quad\"},{\"attributes\":{\"line_color\":{\"field\":\"line_color\"},\"xs\":{\"field\":\"xs\"},\"ys\":{\"field\":\"ys\"}},\"id\":\"2658ccb3-3bb4-46bb-9710-608b6bf121eb\",\"type\":\"MultiLine\"},{\"attributes\":{\"callback\":null,\"column_names\":[\"xs\",\"ys\",\"line_color\"],\"data\":{\"line_color\":[\"black\",\"black\",\"black\",\"black\",\"black\",\"black\",\"black\",\"black\",\"black\",\"black\",\"black\",\"black\",\"black\",\"black\",\"black\",\"black\",\"black\",\"black\",\"black\",\"black\",\"black\",\"black\",\"black\",\"black\",\"black\",\"black\",\"black\",\"black\",\"black\",\"black\",\"black\",\"black\",\"black\",\"black\",\"black\",\"black\",\"black\",\"black\",\"black\",\"black\",\"black\",\"black\",\"black\",\"black\",\"black\",\"black\",\"black\",\"black\",\"black\",\"black\",\"black\",\"black\",\"black\",\"black\",\"black\",\"black\",\"black\",\"black\",\"black\",\"black\",\"black\",\"black\",\"black\",\"black\",\"black\",\"black\",\"black\",\"black\",\"black\",\"black\",\"black\",\"black\",\"black\",\"black\",\"black\",\"black\",\"black\",\"black\",\"black\",\"black\",\"black\",\"black\",\"black\",\"black\",\"black\",\"black\",\"black\",\"black\",\"black\",\"black\",\"black\",\"black\"],\"xs\":[[135771974,135771974],[135859371,135859371],[135877562,135877562],[136022798,136022798],[136058820,136058820],[136140304,136140304],[135915358,135915358],[135954405,135954405],[135995073,135995073],[135995079,135995079],[136092061,136092061],[136273578,136273578],[136322676,136322676],[136407479,136407479],[136398174,136398174],[136402117,136402117],[136403749,136403749],[136409073,136409073],[136410299,136410299],[136413359,136413359],[136416855,136416855],[136416941,136416941],[136418348,136418348],[136419961,136419961],[136420690,136420690],[136422171,136422171],[136428460,136428460],[136430866,136430866],[136432103,136432103],[136437507,136437507],[136439090,136439090],[136439517,136439517],[136444123,136444123],[136445526,136445526],[136445869,136445869],[136455600,136455600],[136456642,136456642],[136462441,136462441],[136470714,136470714],[136474098,136474098],[136501840,136501840],[136505546,136505546],[136516748,136516748],[136522710,136522710],[136528004,136528004],[136539513,136539513],[136544752,136544752],[136546110,136546110],[136553529,136553529],[136555659,136555659],[136588031,136588031],[136589278,136589278],[136589379,136589379],[136589741,136589741],[136590746,136590746],[136593553,136593553],[136593678,136593678],[136652491,136652491],[136652524,136652524],[136661150,136661150],[136669264,136669264],[136726567,136726567],[136732772,136732772],[136652953,136652953],[136655582,136655582],[136674028,136674028],[136684940,136684940],[136761175,136761175],[136653925,136653925],[136654833,136654833],[136656534,136656534],[136656536,136656536],[136657252,136657252],[136667301,136667301],[136667487,136667487],[136672775,136672775],[136680534,136680534],[136686393,136686393],[136688749,136688749],[136692553,136692553],[136697371,136697371],[136708787,136708787],[136710372,136710372],[136711064,136711064],[136715324,136715324],[136723504,136723504],[136737460,136737460],[136743143,136743143],[136746224,136746224],[136751842,136751842],[136759379,136759379],[136761853,136761853]],\"ys\":[[150,195],[150,195],[150,195],[150,195],[150,195],[150,195],[250,296],[250,296],[250,296],[250,296],[50,90],[50,90],[50,90],[50,90],[150,194],[150,194],[150,194],[150,194],[150,194],[150,194],[150,194],[150,194],[150,194],[150,194],[150,194],[150,194],[150,194],[150,194],[150,194],[150,194],[150,194],[150,194],[150,194],[150,194],[150,194],[150,194],[150,194],[150,194],[150,194],[150,194],[350,398],[350,398],[350,398],[350,398],[350,398],[350,398],[350,398],[350,398],[350,398],[350,398],[350,396],[350,396],[350,396],[350,396],[350,396],[350,396],[350,396],[50,92],[50,92],[50,92],[50,92],[50,92],[50,92],[150,194],[150,194],[150,194],[150,194],[150,194],[250,295],[250,295],[250,295],[250,295],[250,295],[250,295],[250,295],[250,295],[250,295],[250,295],[250,295],[250,295],[250,295],[250,295],[250,295],[250,295],[250,295],[250,295],[250,295],[250,295],[250,295],[250,295],[250,295],[250,295]]}},\"id\":\"e0da4e0e-3ed5-418b-b7e7-a6ee8a4ee525\",\"type\":\"ColumnDataSource\"},{\"attributes\":{\"plot\":{\"id\":\"bf77b77f-3d7d-4f64-ab46-b0f9e1c3b604\",\"subtype\":\"Figure\",\"type\":\"Plot\"}},\"id\":\"b6ee7934-4b33-4a20-b3af-f1c125c2dea7\",\"type\":\"WheelZoomTool\"},{\"attributes\":{\"bottom\":{\"field\":\"bottom\"},\"fill_color\":{\"field\":\"fill_color\"},\"left\":{\"field\":\"left\"},\"line_color\":{\"value\":null},\"right\":{\"field\":\"right\"},\"top\":{\"field\":\"top\"}},\"id\":\"7727ffcd-d53f-4cbb-aabc-1fc2849cc1f0\",\"type\":\"Quad\"},{\"attributes\":{\"plot\":null,\"text\":null},\"id\":\"2a5978eb-4d2b-44f8-aa0e-cdc821a3c39c\",\"type\":\"Title\"},{\"attributes\":{},\"id\":\"65ce6ecc-b573-491d-9c90-d1ff0790f255\",\"type\":\"BasicTicker\"},{\"attributes\":{},\"id\":\"e33b200d-b8cc-45ee-9536-82a65cdf817c\",\"type\":\"BasicTicker\"},{\"attributes\":{\"active_drag\":\"auto\",\"active_scroll\":\"auto\",\"active_tap\":\"auto\",\"tools\":[{\"id\":\"16dc9934-8ce2-498a-a200-a5e1b4154092\",\"type\":\"PanTool\"},{\"id\":\"b6ee7934-4b33-4a20-b3af-f1c125c2dea7\",\"type\":\"WheelZoomTool\"},{\"id\":\"e61e67d5-3ab6-4333-9c19-599ad184f35f\",\"type\":\"BoxZoomTool\"},{\"id\":\"4e72648a-f2ba-4e9f-8ce2-60f116381512\",\"type\":\"SaveTool\"},{\"id\":\"5ac06583-ec01-41e0-aa65-12cd096cdfac\",\"type\":\"ResetTool\"},{\"id\":\"2a352f03-053d-420d-ac4a-c3427b6cba8c\",\"type\":\"HelpTool\"}]},\"id\":\"3096a425-40b5-4048-811d-a1ce45a69039\",\"type\":\"Toolbar\"},{\"attributes\":{},\"id\":\"eb981963-7bcb-46e9-b3b0-6be962541d80\",\"type\":\"BasicTickFormatter\"},{\"attributes\":{\"callback\":null,\"column_names\":[\"right\",\"bottom\",\"top\",\"left\"],\"data\":{\"bottom\":[445,445,445,445,445,445,445],\"left\":[135809835,135957574,136289083,136499189,136545415,136597196,136664254],\"right\":[135928279,136288182,136482839,136542633,136594750,136634047,136743222],\"top\":[475,475,475,475,475,475,475]}},\"id\":\"372d73a8-f138-43c7-b73a-d445452925b8\",\"type\":\"ColumnDataSource\"},{\"attributes\":{\"data_source\":{\"id\":\"b5729819-9882-4790-aec5-c3d7d6c652d4\",\"type\":\"ColumnDataSource\"},\"glyph\":{\"id\":\"7727ffcd-d53f-4cbb-aabc-1fc2849cc1f0\",\"type\":\"Quad\"},\"hover_glyph\":null,\"nonselection_glyph\":{\"id\":\"d16ea8b3-f539-4fb6-9757-a30885d2cc8f\",\"type\":\"Quad\"},\"selection_glyph\":null},\"id\":\"03045ebb-c793-4581-9133-7fe006d2884b\",\"type\":\"GlyphRenderer\"},{\"attributes\":{\"formatter\":{\"id\":\"9a6faef1-6b1f-4ca8-a8ef-076bd0a3de8e\",\"type\":\"BasicTickFormatter\"},\"plot\":{\"id\":\"bf77b77f-3d7d-4f64-ab46-b0f9e1c3b604\",\"subtype\":\"Figure\",\"type\":\"Plot\"},\"ticker\":{\"id\":\"65ce6ecc-b573-491d-9c90-d1ff0790f255\",\"type\":\"BasicTicker\"},\"visible\":null},\"id\":\"a4747f69-3893-4088-94e2-e5dd0f8e8a7e\",\"type\":\"LinearAxis\"},{\"attributes\":{},\"id\":\"b017949c-4265-42b8-8394-8282ef0f17ca\",\"type\":\"ToolEvents\"},{\"attributes\":{\"data_source\":{\"id\":\"e0da4e0e-3ed5-418b-b7e7-a6ee8a4ee525\",\"type\":\"ColumnDataSource\"},\"glyph\":{\"id\":\"2658ccb3-3bb4-46bb-9710-608b6bf121eb\",\"type\":\"MultiLine\"},\"hover_glyph\":null,\"nonselection_glyph\":{\"id\":\"eeada44d-d21b-421c-92cc-6612df592468\",\"type\":\"MultiLine\"},\"selection_glyph\":null},\"id\":\"b3ebfb52-1a04-40cd-bade-fd33b64cd88f\",\"type\":\"GlyphRenderer\"},{\"attributes\":{\"level\":\"glyph\",\"plot\":{\"id\":\"bf77b77f-3d7d-4f64-ab46-b0f9e1c3b604\",\"subtype\":\"Figure\",\"type\":\"Plot\"},\"source\":{\"id\":\"f50437c5-5ded-4c00-a64f-c4c7ee8ac8b1\",\"type\":\"ColumnDataSource\"},\"text\":{\"field\":\"vals\"},\"text_font_size\":{\"value\":\"9pt\"},\"text_font_style\":\"bold\",\"x\":{\"field\":\"x\"},\"y\":{\"field\":\"y\"}},\"id\":\"cb78f176-c76b-480a-a3d3-b34728b884b3\",\"type\":\"LabelSet\"},{\"attributes\":{\"callback\":null,\"column_names\":[\"y\",\"x\",\"vals\"],\"data\":{\"vals\":[\"6_1503\",\"4_1699\",\"4_911\",\"26_1414\",\"10_2206\",\"7_1760\",\"6_1114\",\"5_1296\",\"24_1504\"],\"x\":[135771974,135915358,136092061,136398174,136501840,136588031,136652491,136652953,136653925],\"y\":[200.0,301.0,95.0,199.0,403.0,401.0,97.0,199.0,300.0]}},\"id\":\"f50437c5-5ded-4c00-a64f-c4c7ee8ac8b1\",\"type\":\"ColumnDataSource\"},{\"attributes\":{\"plot\":{\"id\":\"bf77b77f-3d7d-4f64-ab46-b0f9e1c3b604\",\"subtype\":\"Figure\",\"type\":\"Plot\"}},\"id\":\"16dc9934-8ce2-498a-a200-a5e1b4154092\",\"type\":\"PanTool\"},{\"attributes\":{\"callback\":null,\"end\":500},\"id\":\"a5f33011-118c-4795-a4a5-5769f28a4499\",\"type\":\"Range1d\"},{\"attributes\":{},\"id\":\"9a6faef1-6b1f-4ca8-a8ef-076bd0a3de8e\",\"type\":\"BasicTickFormatter\"},{\"attributes\":{\"formatter\":{\"id\":\"eb981963-7bcb-46e9-b3b0-6be962541d80\",\"type\":\"BasicTickFormatter\"},\"plot\":{\"id\":\"bf77b77f-3d7d-4f64-ab46-b0f9e1c3b604\",\"subtype\":\"Figure\",\"type\":\"Plot\"},\"ticker\":{\"id\":\"e33b200d-b8cc-45ee-9536-82a65cdf817c\",\"type\":\"BasicTicker\"}},\"id\":\"51752dd0-eb2a-46b2-a32b-7358d505a8a8\",\"type\":\"LinearAxis\"},{\"attributes\":{\"bottom_units\":\"screen\",\"fill_alpha\":{\"value\":0.5},\"fill_color\":{\"value\":\"lightgrey\"},\"left_units\":\"screen\",\"level\":\"overlay\",\"line_alpha\":{\"value\":1.0},\"line_color\":{\"value\":\"black\"},\"line_dash\":[4,4],\"line_width\":{\"value\":2},\"plot\":null,\"render_mode\":\"css\",\"right_units\":\"screen\",\"top_units\":\"screen\"},\"id\":\"466c08d7-ae42-43f7-99f7-ab98fd83efa7\",\"type\":\"BoxAnnotation\"},{\"attributes\":{\"plot\":{\"id\":\"bf77b77f-3d7d-4f64-ab46-b0f9e1c3b604\",\"subtype\":\"Figure\",\"type\":\"Plot\"}},\"id\":\"2a352f03-053d-420d-ac4a-c3427b6cba8c\",\"type\":\"HelpTool\"},{\"attributes\":{\"plot\":{\"id\":\"bf77b77f-3d7d-4f64-ab46-b0f9e1c3b604\",\"subtype\":\"Figure\",\"type\":\"Plot\"},\"ticker\":{\"id\":\"e33b200d-b8cc-45ee-9536-82a65cdf817c\",\"type\":\"BasicTicker\"}},\"id\":\"abf7c6b9-db2c-4063-abbb-372082872bad\",\"type\":\"Grid\"},{\"attributes\":{\"callback\":null,\"end\":136786630,\"start\":135757320},\"id\":\"0926c42b-3085-4339-becb-6d0252df03f1\",\"type\":\"Range1d\"},{\"attributes\":{\"dimension\":1,\"plot\":{\"id\":\"bf77b77f-3d7d-4f64-ab46-b0f9e1c3b604\",\"subtype\":\"Figure\",\"type\":\"Plot\"},\"ticker\":{\"id\":\"65ce6ecc-b573-491d-9c90-d1ff0790f255\",\"type\":\"BasicTicker\"}},\"id\":\"095d6aa6-4fcd-4714-8258-14f12bea2b76\",\"type\":\"Grid\"},{\"attributes\":{\"plot\":{\"id\":\"bf77b77f-3d7d-4f64-ab46-b0f9e1c3b604\",\"subtype\":\"Figure\",\"type\":\"Plot\"}},\"id\":\"4e72648a-f2ba-4e9f-8ce2-60f116381512\",\"type\":\"SaveTool\"},{\"attributes\":{\"level\":\"glyph\",\"plot\":{\"id\":\"bf77b77f-3d7d-4f64-ab46-b0f9e1c3b604\",\"subtype\":\"Figure\",\"type\":\"Plot\"},\"source\":{\"id\":\"50230770-70c1-43a6-87a1-5948bd61e954\",\"type\":\"ColumnDataSource\"},\"text\":{\"field\":\"vals\"},\"text_align\":\"center\",\"text_baseline\":\"middle\",\"text_font_size\":{\"value\":\"8pt\"},\"x\":{\"field\":\"x\"},\"y\":{\"field\":\"y\"}},\"id\":\"d892fcab-b2cc-4462-a867-553c5d184d47\",\"type\":\"LabelSet\"}],\"root_ids\":[\"bf77b77f-3d7d-4f64-ab46-b0f9e1c3b604\"]},\"title\":\"Bokeh Application\",\"version\":\"0.12.0\"}};\n",
       "            var render_items = [{\"docid\":\"b6b450c6-be8a-4c25-991a-0710791ec9d5\",\"elementid\":\"417491f5-d638-47c2-a62d-1440fa8527c1\",\"modelid\":\"bf77b77f-3d7d-4f64-ab46-b0f9e1c3b604\",\"notebook_comms_target\":\"9099b06e-6764-420f-8812-61ad59cb389d\"}];\n",
       "            \n",
       "            Bokeh.embed.embed_items(docs_json, render_items);\n",
       "        });\n",
       "      },\n",
       "      function(Bokeh) {\n",
       "      }\n",
       "    ];\n",
       "  \n",
       "    function run_inline_js() {\n",
       "      for (var i = 0; i < inline_js.length; i++) {\n",
       "        inline_js[i](window.Bokeh);\n",
       "      }\n",
       "    }\n",
       "  \n",
       "    if (window._bokeh_is_loading === 0) {\n",
       "      console.log(\"Bokeh: BokehJS loaded, going straight to plotting\");\n",
       "      run_inline_js();\n",
       "    } else {\n",
       "      load_libs(js_urls, function() {\n",
       "        console.log(\"Bokeh: BokehJS plotting callback run at\", now());\n",
       "        run_inline_js();\n",
       "      });\n",
       "    }\n",
       "  }(this));\n",
       "</script>"
      ]
     },
     "metadata": {},
     "output_type": "display_data"
    },
    {
     "data": {
      "text/html": [
       "<p><code>&lt;Bokeh Notebook handle for <strong>In[21]</strong>&gt;</code></p>"
      ],
      "text/plain": [
       "<bokeh.io._CommsHandle at 0x7f46f1033d10>"
      ]
     },
     "execution_count": 21,
     "metadata": {},
     "output_type": "execute_result"
    }
   ],
   "source": [
    "plt_obj = dm.superset_yes_no([dm.di_4_911, dm.di_10_2206, dm.di_7_1760], \n",
    "                             [dm.di_64_1575, dm.di_11_765], \n",
    "                             min_match=0.001)\n",
    "plt = plt_obj.do_plot()\n",
    "am_1 = plt_obj.plot_context.yes_allele_mask\n",
    "show(plt)"
   ]
  },
  {
   "cell_type": "code",
   "execution_count": 22,
   "metadata": {
    "collapsed": false
   },
   "outputs": [
    {
     "data": {
      "text/html": [
       "<table>\n",
       "<thead><tr><th style=\"text-align:center\">index</th><th style=\"text-align:center\">first</th><th style=\"text-align:center\">length</th><th style=\"text-align:center\">snps</th><th style=\"text-align:center\" colspan=2>alleles</th><th style=\"text-align:center\" colspan=2>matches</th><th style=\"text-align:center\" colspan=2>afr</th><th style=\"text-align:center\" colspan=2>afx</th><th style=\"text-align:center\" colspan=2>amr</th><th style=\"text-align:center\" colspan=2>eas</th><th style=\"text-align:center\" colspan=2>eur</th><th style=\"text-align:center\" colspan=2>sas</th><th style=\"text-align:center\" colspan=2>sax</th></tr></thead>\n",
       "<tr class=\"even\"><td style=\"text-align: right;\">353921</td><td style=\"text-align: right;\">136,501,840</td><td style=\"text-align: right;\">53,819</td><td style=\"text-align: right;\">10</td><td style=\"text-align: right;\">2206</td><td style=\"text-align: right;\">0.00</td><td style=\"text-align: right;\">1</td><td style=\"text-align: right;\">1.00</td><td style=\"text-align: right;\">0</td><td style=\"text-align: right;\">0.00</td><td style=\"text-align: right;\">0</td><td style=\"text-align: right;\">0.00</td><td style=\"text-align: right;\">0</td><td style=\"text-align: right;\">0.00</td><td style=\"text-align: right;\">0</td><td style=\"text-align: right;\">0.00</td><td style=\"text-align: right;\">1</td><td style=\"text-align: right;\">8.14</td><td style=\"text-align: right;\">0</td><td style=\"text-align: right;\">0.00</td><td style=\"text-align: right;\">0</td><td style=\"text-align: right;\">0.00</td></tr>\n",
       "<tr><td style=\"text-align: right;\">354033</td><td style=\"text-align: right;\">136,588,031</td><td style=\"text-align: right;\">5,647</td><td style=\"text-align: right;\">7</td><td style=\"text-align: right;\">1760</td><td style=\"text-align: right;\">0.00</td><td style=\"text-align: right;\">1</td><td style=\"text-align: right;\">1.00</td><td style=\"text-align: right;\">0</td><td style=\"text-align: right;\">0.00</td><td style=\"text-align: right;\">0</td><td style=\"text-align: right;\">0.00</td><td style=\"text-align: right;\">0</td><td style=\"text-align: right;\">0.00</td><td style=\"text-align: right;\">0</td><td style=\"text-align: right;\">0.00</td><td style=\"text-align: right;\">1</td><td style=\"text-align: right;\">8.14</td><td style=\"text-align: right;\">0</td><td style=\"text-align: right;\">0.00</td><td style=\"text-align: right;\">0</td><td style=\"text-align: right;\">0.00</td></tr>\n",
       "<tr class=\"even\"><td style=\"text-align: right;\">353462</td><td style=\"text-align: right;\">135,915,358</td><td style=\"text-align: right;\">79,721</td><td style=\"text-align: right;\">4</td><td style=\"text-align: right;\">1699</td><td style=\"text-align: right;\">0.00</td><td style=\"text-align: right;\">1</td><td style=\"text-align: right;\">1.00</td><td style=\"text-align: right;\">0</td><td style=\"text-align: right;\">0.00</td><td style=\"text-align: right;\">0</td><td style=\"text-align: right;\">0.00</td><td style=\"text-align: right;\">0</td><td style=\"text-align: right;\">0.00</td><td style=\"text-align: right;\">0</td><td style=\"text-align: right;\">0.00</td><td style=\"text-align: right;\">1</td><td style=\"text-align: right;\">8.14</td><td style=\"text-align: right;\">0</td><td style=\"text-align: right;\">0.00</td><td style=\"text-align: right;\">0</td><td style=\"text-align: right;\">0.00</td></tr>\n",
       "<tr><td style=\"text-align: right;\">354130</td><td style=\"text-align: right;\">136,653,925</td><td style=\"text-align: right;\">107,928</td><td style=\"text-align: right;\">24</td><td style=\"text-align: right;\">1504</td><td style=\"text-align: right;\">0.00</td><td style=\"text-align: right;\">1</td><td style=\"text-align: right;\">1.00</td><td style=\"text-align: right;\">0</td><td style=\"text-align: right;\">0.00</td><td style=\"text-align: right;\">0</td><td style=\"text-align: right;\">0.00</td><td style=\"text-align: right;\">0</td><td style=\"text-align: right;\">0.00</td><td style=\"text-align: right;\">0</td><td style=\"text-align: right;\">0.00</td><td style=\"text-align: right;\">1</td><td style=\"text-align: right;\">8.14</td><td style=\"text-align: right;\">0</td><td style=\"text-align: right;\">0.00</td><td style=\"text-align: right;\">0</td><td style=\"text-align: right;\">0.00</td></tr>\n",
       "<tr class=\"even\"><td style=\"text-align: right;\">353283</td><td style=\"text-align: right;\">135,771,974</td><td style=\"text-align: right;\">368,330</td><td style=\"text-align: right;\">6</td><td style=\"text-align: right;\">1503</td><td style=\"text-align: right;\">0.00</td><td style=\"text-align: right;\">1</td><td style=\"text-align: right;\">1.00</td><td style=\"text-align: right;\">0</td><td style=\"text-align: right;\">0.00</td><td style=\"text-align: right;\">0</td><td style=\"text-align: right;\">0.00</td><td style=\"text-align: right;\">0</td><td style=\"text-align: right;\">0.00</td><td style=\"text-align: right;\">0</td><td style=\"text-align: right;\">0.00</td><td style=\"text-align: right;\">1</td><td style=\"text-align: right;\">8.14</td><td style=\"text-align: right;\">0</td><td style=\"text-align: right;\">0.00</td><td style=\"text-align: right;\">0</td><td style=\"text-align: right;\">0.00</td></tr>\n",
       "<tr><td style=\"text-align: right;\">353797</td><td style=\"text-align: right;\">136,398,174</td><td style=\"text-align: right;\">75,924</td><td style=\"text-align: right;\">26</td><td style=\"text-align: right;\">1414</td><td style=\"text-align: right;\">0.00</td><td style=\"text-align: right;\">1</td><td style=\"text-align: right;\">1.00</td><td style=\"text-align: right;\">0</td><td style=\"text-align: right;\">0.00</td><td style=\"text-align: right;\">0</td><td style=\"text-align: right;\">0.00</td><td style=\"text-align: right;\">0</td><td style=\"text-align: right;\">0.00</td><td style=\"text-align: right;\">0</td><td style=\"text-align: right;\">0.00</td><td style=\"text-align: right;\">1</td><td style=\"text-align: right;\">8.14</td><td style=\"text-align: right;\">0</td><td style=\"text-align: right;\">0.00</td><td style=\"text-align: right;\">0</td><td style=\"text-align: right;\">0.00</td></tr>\n",
       "<tr class=\"even\"><td style=\"text-align: right;\">354129</td><td style=\"text-align: right;\">136,652,953</td><td style=\"text-align: right;\">108,222</td><td style=\"text-align: right;\">5</td><td style=\"text-align: right;\">1296</td><td style=\"text-align: right;\">0.00</td><td style=\"text-align: right;\">1</td><td style=\"text-align: right;\">1.00</td><td style=\"text-align: right;\">0</td><td style=\"text-align: right;\">0.00</td><td style=\"text-align: right;\">0</td><td style=\"text-align: right;\">0.00</td><td style=\"text-align: right;\">0</td><td style=\"text-align: right;\">0.00</td><td style=\"text-align: right;\">0</td><td style=\"text-align: right;\">0.00</td><td style=\"text-align: right;\">1</td><td style=\"text-align: right;\">8.14</td><td style=\"text-align: right;\">0</td><td style=\"text-align: right;\">0.00</td><td style=\"text-align: right;\">0</td><td style=\"text-align: right;\">0.00</td></tr>\n",
       "<tr><td style=\"text-align: right;\">354127</td><td style=\"text-align: right;\">136,652,491</td><td style=\"text-align: right;\">80,281</td><td style=\"text-align: right;\">6</td><td style=\"text-align: right;\">1114</td><td style=\"text-align: right;\">0.00</td><td style=\"text-align: right;\">1</td><td style=\"text-align: right;\">1.00</td><td style=\"text-align: right;\">0</td><td style=\"text-align: right;\">0.00</td><td style=\"text-align: right;\">0</td><td style=\"text-align: right;\">0.00</td><td style=\"text-align: right;\">0</td><td style=\"text-align: right;\">0.00</td><td style=\"text-align: right;\">0</td><td style=\"text-align: right;\">0.00</td><td style=\"text-align: right;\">1</td><td style=\"text-align: right;\">8.14</td><td style=\"text-align: right;\">0</td><td style=\"text-align: right;\">0.00</td><td style=\"text-align: right;\">0</td><td style=\"text-align: right;\">0.00</td></tr>\n",
       "<tr class=\"even\"><td style=\"text-align: right;\">353604</td><td style=\"text-align: right;\">136,092,061</td><td style=\"text-align: right;\">315,418</td><td style=\"text-align: right;\">4</td><td style=\"text-align: right;\">911</td><td style=\"text-align: right;\">0.00</td><td style=\"text-align: right;\">1</td><td style=\"text-align: right;\">1.00</td><td style=\"text-align: right;\">0</td><td style=\"text-align: right;\">0.00</td><td style=\"text-align: right;\">0</td><td style=\"text-align: right;\">0.00</td><td style=\"text-align: right;\">0</td><td style=\"text-align: right;\">0.00</td><td style=\"text-align: right;\">0</td><td style=\"text-align: right;\">0.00</td><td style=\"text-align: right;\">1</td><td style=\"text-align: right;\">8.14</td><td style=\"text-align: right;\">0</td><td style=\"text-align: right;\">0.00</td><td style=\"text-align: right;\">0</td><td style=\"text-align: right;\">0.00</td></tr>\n",
       "</table>"
      ],
      "text/plain": [
       "<IPython.core.display.HTML object>"
      ]
     },
     "execution_count": 22,
     "metadata": {},
     "output_type": "execute_result"
    }
   ],
   "source": [
    "HTML(plt_obj.get_html())"
   ]
  },
  {
   "cell_type": "code",
   "execution_count": 23,
   "metadata": {
    "collapsed": false
   },
   "outputs": [
    {
     "data": {
      "text/plain": [
       "array([1, 1, 1, 1, 1, 1, 1, 1, 1, 1, 1, 1, 1, 1, 1, 1, 1, 1, 1, 1, 1, 0, 0,\n",
       "       0, 0, 0, 0, 0, 0, 0, 0, 0, 0, 0, 0, 0, 0, 0, 0, 0, 0, 0, 0, 0, 0, 0,\n",
       "       0, 0, 0, 0, 0, 0, 0, 0, 0, 0, 0, 0, 0, 0, 0, 0, 0, 0])"
      ]
     },
     "execution_count": 23,
     "metadata": {},
     "output_type": "execute_result"
    }
   ],
   "source": [
    "sa_64_1575.alleles_per_snp(am_1)"
   ]
  },
  {
   "cell_type": "code",
   "execution_count": 24,
   "metadata": {
    "collapsed": false
   },
   "outputs": [
    {
     "data": {
      "text/html": [
       "\n",
       "\n",
       "    <div class=\"bk-root\">\n",
       "        <div class=\"plotdiv\" id=\"df46e1a6-c7ed-48b4-ad69-325b5b12ad84\"></div>\n",
       "    </div>\n",
       "<script type=\"text/javascript\">\n",
       "  \n",
       "  (function(global) {\n",
       "    function now() {\n",
       "      return new Date();\n",
       "    }\n",
       "  \n",
       "    if (typeof (window._bokeh_onload_callbacks) === \"undefined\") {\n",
       "      window._bokeh_onload_callbacks = [];\n",
       "    }\n",
       "  \n",
       "    function run_callbacks() {\n",
       "      window._bokeh_onload_callbacks.forEach(function(callback) { callback() });\n",
       "      delete window._bokeh_onload_callbacks\n",
       "      console.info(\"Bokeh: all callbacks have finished\");\n",
       "    }\n",
       "  \n",
       "    function load_libs(js_urls, callback) {\n",
       "      window._bokeh_onload_callbacks.push(callback);\n",
       "      if (window._bokeh_is_loading > 0) {\n",
       "        console.log(\"Bokeh: BokehJS is being loaded, scheduling callback at\", now());\n",
       "        return null;\n",
       "      }\n",
       "      if (js_urls == null || js_urls.length === 0) {\n",
       "        run_callbacks();\n",
       "        return null;\n",
       "      }\n",
       "      console.log(\"Bokeh: BokehJS not loaded, scheduling load and callback at\", now());\n",
       "      window._bokeh_is_loading = js_urls.length;\n",
       "      for (var i = 0; i < js_urls.length; i++) {\n",
       "        var url = js_urls[i];\n",
       "        var s = document.createElement('script');\n",
       "        s.src = url;\n",
       "        s.async = false;\n",
       "        s.onreadystatechange = s.onload = function() {\n",
       "          window._bokeh_is_loading--;\n",
       "          if (window._bokeh_is_loading === 0) {\n",
       "            console.log(\"Bokeh: all BokehJS libraries loaded\");\n",
       "            run_callbacks()\n",
       "          }\n",
       "        };\n",
       "        s.onerror = function() {\n",
       "          console.warn(\"failed to load library \" + url);\n",
       "        };\n",
       "        console.log(\"Bokeh: injecting script tag for BokehJS library: \", url);\n",
       "        document.getElementsByTagName(\"head\")[0].appendChild(s);\n",
       "      }\n",
       "    };var element = document.getElementById(\"df46e1a6-c7ed-48b4-ad69-325b5b12ad84\");\n",
       "    if (element == null) {\n",
       "      console.log(\"Bokeh: ERROR: autoload.js configured with elementid 'df46e1a6-c7ed-48b4-ad69-325b5b12ad84' but no matching script tag was found. \")\n",
       "      return false;\n",
       "    }\n",
       "  \n",
       "    var js_urls = [];\n",
       "  \n",
       "    var inline_js = [\n",
       "      function(Bokeh) {\n",
       "        Bokeh.$(function() {\n",
       "            var docs_json = {\"eb5f1e6b-1058-42b9-b54f-add5b1a0deda\":{\"roots\":{\"references\":[{\"attributes\":{\"bottom\":{\"field\":\"bottom\"},\"fill_alpha\":{\"value\":0.1},\"fill_color\":{\"value\":\"#1f77b4\"},\"left\":{\"field\":\"left\"},\"line_alpha\":{\"value\":0.1},\"line_color\":{\"value\":\"#1f77b4\"},\"right\":{\"field\":\"right\"},\"top\":{\"field\":\"top\"}},\"id\":\"8f61cda5-5000-45d5-8024-976ffbd34bd4\",\"type\":\"Quad\"},{\"attributes\":{\"level\":\"glyph\",\"plot\":{\"id\":\"dd95a19d-76a8-402f-9ac4-c96bc71a85bf\",\"subtype\":\"Figure\",\"type\":\"Plot\"},\"source\":{\"id\":\"bafff7f3-9480-4b37-902e-8c76b43c7d0e\",\"type\":\"ColumnDataSource\"},\"text\":{\"field\":\"vals\"},\"text_align\":\"center\",\"text_baseline\":\"middle\",\"text_font_size\":{\"value\":\"8pt\"},\"x\":{\"field\":\"x\"},\"y\":{\"field\":\"y\"}},\"id\":\"60b8f186-a605-4c87-bc9b-376a043ce581\",\"type\":\"LabelSet\"},{\"attributes\":{\"formatter\":{\"id\":\"bd853805-932e-4eb6-a53c-0f3159cdd1ed\",\"type\":\"BasicTickFormatter\"},\"plot\":{\"id\":\"dd95a19d-76a8-402f-9ac4-c96bc71a85bf\",\"subtype\":\"Figure\",\"type\":\"Plot\"},\"ticker\":{\"id\":\"db2d6fb8-ff7d-499d-bf41-63333f351b7d\",\"type\":\"BasicTicker\"},\"visible\":null},\"id\":\"2dabf778-2536-4c40-95b8-75acb663a36c\",\"type\":\"LinearAxis\"},{\"attributes\":{\"data_source\":{\"id\":\"9467b667-566d-43a7-8a20-68e5c37bbc2d\",\"type\":\"ColumnDataSource\"},\"glyph\":{\"id\":\"9aee9c4a-1e64-4b25-8c92-5abf035a1268\",\"type\":\"Quad\"},\"hover_glyph\":null,\"nonselection_glyph\":{\"id\":\"bfd8b107-2173-4b54-ae8a-2835f0ccab6a\",\"type\":\"Quad\"},\"selection_glyph\":null},\"id\":\"fb53149c-4783-4137-9482-e685fa52bf6f\",\"type\":\"GlyphRenderer\"},{\"attributes\":{\"dimension\":1,\"plot\":{\"id\":\"dd95a19d-76a8-402f-9ac4-c96bc71a85bf\",\"subtype\":\"Figure\",\"type\":\"Plot\"},\"ticker\":{\"id\":\"db2d6fb8-ff7d-499d-bf41-63333f351b7d\",\"type\":\"BasicTicker\"}},\"id\":\"f35401cd-95f1-4e5b-9018-d8d20026dbb0\",\"type\":\"Grid\"},{\"attributes\":{\"callback\":null,\"end\":500},\"id\":\"6cafa1d2-6256-414c-acd7-a553f28744e8\",\"type\":\"Range1d\"},{\"attributes\":{},\"id\":\"6f7d13fb-3c30-49af-a84d-42897ea5d150\",\"type\":\"BasicTicker\"},{\"attributes\":{},\"id\":\"9d15958d-47a3-4a87-a448-987a7be7fbee\",\"type\":\"ToolEvents\"},{\"attributes\":{\"active_drag\":\"auto\",\"active_scroll\":\"auto\",\"active_tap\":\"auto\",\"tools\":[{\"id\":\"92fd0841-2e36-4de4-9772-8c762be194c5\",\"type\":\"PanTool\"},{\"id\":\"c277fe17-f117-467a-bf58-f15c5d5eb399\",\"type\":\"WheelZoomTool\"},{\"id\":\"c5042724-10f2-4bb9-89f1-452c71abce17\",\"type\":\"BoxZoomTool\"},{\"id\":\"a6b0523f-6e70-4569-8b72-1949933ea2f2\",\"type\":\"SaveTool\"},{\"id\":\"9ddc48a9-aa34-4c22-89f0-b7edc4e62b3f\",\"type\":\"ResetTool\"},{\"id\":\"3192610a-cd73-4e34-a5f6-85f32bc90278\",\"type\":\"HelpTool\"}]},\"id\":\"47e64be5-b5ee-4b66-a117-c69aa72e8076\",\"type\":\"Toolbar\"},{\"attributes\":{\"callback\":null,\"end\":136786630,\"start\":135757320},\"id\":\"a82a598e-9162-43c4-9241-7e6ba3dbf22c\",\"type\":\"Range1d\"},{\"attributes\":{\"callback\":null,\"column_names\":[\"right\",\"bottom\",\"top\",\"left\"],\"data\":{\"bottom\":[445,445,445,445,445,445,445],\"left\":[135809835,135957574,136289083,136499189,136545415,136597196,136664254],\"right\":[135928279,136288182,136482839,136542633,136594750,136634047,136743222],\"top\":[475,475,475,475,475,475,475]}},\"id\":\"9467b667-566d-43a7-8a20-68e5c37bbc2d\",\"type\":\"ColumnDataSource\"},{\"attributes\":{\"callback\":null,\"column_names\":[\"xs\",\"ys\",\"line_color\"],\"data\":{\"line_color\":[\"black\",\"black\",\"black\",\"black\",\"black\",\"black\",\"black\",\"black\",\"black\",\"black\",\"black\",\"black\",\"black\",\"black\",\"black\",\"black\",\"black\",\"black\",\"black\",\"black\",\"black\",\"black\",\"black\",\"black\",\"black\",\"black\",\"black\",\"black\",\"black\",\"black\",\"black\",\"black\",\"black\",\"black\",\"black\",\"black\",\"black\",\"black\",\"black\",\"black\",\"black\",\"black\",\"black\",\"black\",\"black\",\"black\",\"black\",\"black\",\"black\",\"black\",\"black\",\"black\",\"black\",\"black\",\"black\",\"black\",\"black\"],\"xs\":[[135771974,135771974],[135859371,135859371],[135877562,135877562],[136022798,136022798],[136058820,136058820],[136140304,136140304],[135915358,135915358],[135954405,135954405],[135995073,135995073],[135995079,135995079],[136092061,136092061],[136273578,136273578],[136322676,136322676],[136407479,136407479],[136398174,136398174],[136402117,136402117],[136403749,136403749],[136409073,136409073],[136410299,136410299],[136413359,136413359],[136416855,136416855],[136416941,136416941],[136418348,136418348],[136419961,136419961],[136420690,136420690],[136422171,136422171],[136428460,136428460],[136430866,136430866],[136432103,136432103],[136437507,136437507],[136439090,136439090],[136439517,136439517],[136444123,136444123],[136445526,136445526],[136445869,136445869],[136455600,136455600],[136456642,136456642],[136462441,136462441],[136470714,136470714],[136474098,136474098],[136501840,136501840],[136505546,136505546],[136516748,136516748],[136522710,136522710],[136528004,136528004],[136539513,136539513],[136544752,136544752],[136546110,136546110],[136553529,136553529],[136555659,136555659],[136682274,136682274],[136691825,136691825],[136698098,136698098],[136721603,136721603],[136721995,136721995],[136755684,136755684],[136775898,136775898]],\"ys\":[[150,195],[150,195],[150,195],[150,195],[150,195],[150,195],[250,296],[250,296],[250,296],[250,296],[50,90],[50,90],[50,90],[50,90],[150,194],[150,194],[150,194],[150,194],[150,194],[150,194],[150,194],[150,194],[150,194],[150,194],[150,194],[150,194],[150,194],[150,194],[150,194],[150,194],[150,194],[150,194],[150,194],[150,194],[150,194],[150,194],[150,194],[150,194],[150,194],[150,194],[350,398],[350,398],[350,398],[350,398],[350,398],[350,398],[350,398],[350,398],[350,398],[350,398],[350,397],[350,397],[350,397],[350,397],[350,397],[350,397],[350,397]]}},\"id\":\"be36bbc7-9938-4638-8b28-e950ef125eed\",\"type\":\"ColumnDataSource\"},{\"attributes\":{\"plot\":{\"id\":\"dd95a19d-76a8-402f-9ac4-c96bc71a85bf\",\"subtype\":\"Figure\",\"type\":\"Plot\"}},\"id\":\"92fd0841-2e36-4de4-9772-8c762be194c5\",\"type\":\"PanTool\"},{\"attributes\":{},\"id\":\"db2d6fb8-ff7d-499d-bf41-63333f351b7d\",\"type\":\"BasicTicker\"},{\"attributes\":{\"data_source\":{\"id\":\"be36bbc7-9938-4638-8b28-e950ef125eed\",\"type\":\"ColumnDataSource\"},\"glyph\":{\"id\":\"a597c19f-80ac-4cfc-97be-1abeb5655cf2\",\"type\":\"MultiLine\"},\"hover_glyph\":null,\"nonselection_glyph\":{\"id\":\"d63a8a64-3032-4811-b43d-f8fe0decc20e\",\"type\":\"MultiLine\"},\"selection_glyph\":null},\"id\":\"627ba6f0-b16f-4ba7-9be1-d8c53ad1f7cf\",\"type\":\"GlyphRenderer\"},{\"attributes\":{\"formatter\":{\"id\":\"1164cb24-3697-4cc4-92c9-79eee7930140\",\"type\":\"BasicTickFormatter\"},\"plot\":{\"id\":\"dd95a19d-76a8-402f-9ac4-c96bc71a85bf\",\"subtype\":\"Figure\",\"type\":\"Plot\"},\"ticker\":{\"id\":\"6f7d13fb-3c30-49af-a84d-42897ea5d150\",\"type\":\"BasicTicker\"}},\"id\":\"942addfb-2ac7-4f5a-aab5-3d7da94934d9\",\"type\":\"LinearAxis\"},{\"attributes\":{\"plot\":null,\"text\":null},\"id\":\"ba9e5563-85b2-4993-8aa0-781403635423\",\"type\":\"Title\"},{\"attributes\":{\"bottom\":{\"field\":\"bottom\"},\"fill_alpha\":{\"value\":0.1},\"fill_color\":{\"value\":\"#1f77b4\"},\"left\":{\"field\":\"left\"},\"line_alpha\":{\"value\":0.1},\"line_color\":{\"value\":\"#1f77b4\"},\"right\":{\"field\":\"right\"},\"top\":{\"field\":\"top\"}},\"id\":\"bfd8b107-2173-4b54-ae8a-2835f0ccab6a\",\"type\":\"Quad\"},{\"attributes\":{\"plot\":{\"id\":\"dd95a19d-76a8-402f-9ac4-c96bc71a85bf\",\"subtype\":\"Figure\",\"type\":\"Plot\"}},\"id\":\"a6b0523f-6e70-4569-8b72-1949933ea2f2\",\"type\":\"SaveTool\"},{\"attributes\":{\"line_color\":{\"field\":\"line_color\"},\"xs\":{\"field\":\"xs\"},\"ys\":{\"field\":\"ys\"}},\"id\":\"a597c19f-80ac-4cfc-97be-1abeb5655cf2\",\"type\":\"MultiLine\"},{\"attributes\":{\"callback\":null,\"column_names\":[\"y\",\"x\",\"vals\"],\"data\":{\"vals\":[\"6_1503\",\"4_1699\",\"4_911\",\"26_1414\",\"10_2206\",\"7_1868\"],\"x\":[135771974,135915358,136092061,136398174,136501840,136682274],\"y\":[200.0,301.0,95.0,199.0,403.0,402.0]}},\"id\":\"9c64becc-44ca-499c-804e-eb6d6b42fc95\",\"type\":\"ColumnDataSource\"},{\"attributes\":{\"callback\":null,\"column_names\":[\"y\",\"x\",\"vals\"],\"data\":{\"vals\":[\"RAB3GAP1\",\"ZRANB3\",\"R3HDM1\",\"UBXN4\",\"LCT\",\"MCM6\",\"DARS\"],\"x\":[135869057.0,136122878.0,136385961.0,136520911.0,136570082.5,136615621.5,136703738.0],\"y\":[460.0,460.0,460.0,460.0,460.0,460.0,460.0]}},\"id\":\"bafff7f3-9480-4b37-902e-8c76b43c7d0e\",\"type\":\"ColumnDataSource\"},{\"attributes\":{\"plot\":{\"id\":\"dd95a19d-76a8-402f-9ac4-c96bc71a85bf\",\"subtype\":\"Figure\",\"type\":\"Plot\"}},\"id\":\"c277fe17-f117-467a-bf58-f15c5d5eb399\",\"type\":\"WheelZoomTool\"},{\"attributes\":{\"level\":\"glyph\",\"plot\":{\"id\":\"dd95a19d-76a8-402f-9ac4-c96bc71a85bf\",\"subtype\":\"Figure\",\"type\":\"Plot\"},\"source\":{\"id\":\"9c64becc-44ca-499c-804e-eb6d6b42fc95\",\"type\":\"ColumnDataSource\"},\"text\":{\"field\":\"vals\"},\"text_font_size\":{\"value\":\"9pt\"},\"text_font_style\":\"bold\",\"x\":{\"field\":\"x\"},\"y\":{\"field\":\"y\"}},\"id\":\"a1e824ee-1f28-4d2a-9c20-3a84b4ea1048\",\"type\":\"LabelSet\"},{\"attributes\":{\"plot\":{\"id\":\"dd95a19d-76a8-402f-9ac4-c96bc71a85bf\",\"subtype\":\"Figure\",\"type\":\"Plot\"}},\"id\":\"3192610a-cd73-4e34-a5f6-85f32bc90278\",\"type\":\"HelpTool\"},{\"attributes\":{\"plot\":{\"id\":\"dd95a19d-76a8-402f-9ac4-c96bc71a85bf\",\"subtype\":\"Figure\",\"type\":\"Plot\"},\"ticker\":{\"id\":\"6f7d13fb-3c30-49af-a84d-42897ea5d150\",\"type\":\"BasicTicker\"}},\"id\":\"9a77273d-ba7f-49b5-814c-f01b4635459a\",\"type\":\"Grid\"},{\"attributes\":{},\"id\":\"bd853805-932e-4eb6-a53c-0f3159cdd1ed\",\"type\":\"BasicTickFormatter\"},{\"attributes\":{\"callback\":null,\"column_names\":[\"right\",\"bottom\",\"top\",\"left\",\"fill_color\"],\"data\":{\"bottom\":[150,250,50,150,350,350],\"fill_color\":[\"#61c461\",\"#61c461\",\"#00ff00\",\"#61c461\",\"#808080\",\"#61c461\"],\"left\":[135771974,135915358,136092061,136398174,136501840,136682274],\"right\":[136140304,135995079,136407479,136474098,136555659,136775898],\"top\":[195,296,90,194,398,397]}},\"id\":\"755d0f8d-c75a-4ab4-aaeb-847ddd18133f\",\"type\":\"ColumnDataSource\"},{\"attributes\":{\"data_source\":{\"id\":\"755d0f8d-c75a-4ab4-aaeb-847ddd18133f\",\"type\":\"ColumnDataSource\"},\"glyph\":{\"id\":\"c9ec4bd1-7872-451f-8350-2faf4e6e0693\",\"type\":\"Quad\"},\"hover_glyph\":null,\"nonselection_glyph\":{\"id\":\"8f61cda5-5000-45d5-8024-976ffbd34bd4\",\"type\":\"Quad\"},\"selection_glyph\":null},\"id\":\"e2551a7b-4b3e-4da2-9f04-6ba9549ea54c\",\"type\":\"GlyphRenderer\"},{\"attributes\":{\"below\":[{\"id\":\"942addfb-2ac7-4f5a-aab5-3d7da94934d9\",\"type\":\"LinearAxis\"}],\"left\":[{\"id\":\"2dabf778-2536-4c40-95b8-75acb663a36c\",\"type\":\"LinearAxis\"}],\"plot_height\":500,\"plot_width\":900,\"renderers\":[{\"id\":\"942addfb-2ac7-4f5a-aab5-3d7da94934d9\",\"type\":\"LinearAxis\"},{\"id\":\"9a77273d-ba7f-49b5-814c-f01b4635459a\",\"type\":\"Grid\"},{\"id\":\"2dabf778-2536-4c40-95b8-75acb663a36c\",\"type\":\"LinearAxis\"},{\"id\":\"f35401cd-95f1-4e5b-9018-d8d20026dbb0\",\"type\":\"Grid\"},{\"id\":\"0fc45016-9dcc-46b7-8250-ecfbd3467f3f\",\"type\":\"BoxAnnotation\"},{\"id\":\"e2551a7b-4b3e-4da2-9f04-6ba9549ea54c\",\"type\":\"GlyphRenderer\"},{\"id\":\"627ba6f0-b16f-4ba7-9be1-d8c53ad1f7cf\",\"type\":\"GlyphRenderer\"},{\"id\":\"a1e824ee-1f28-4d2a-9c20-3a84b4ea1048\",\"type\":\"LabelSet\"},{\"id\":\"fb53149c-4783-4137-9482-e685fa52bf6f\",\"type\":\"GlyphRenderer\"},{\"id\":\"60b8f186-a605-4c87-bc9b-376a043ce581\",\"type\":\"LabelSet\"}],\"title\":{\"id\":\"ba9e5563-85b2-4993-8aa0-781403635423\",\"type\":\"Title\"},\"tool_events\":{\"id\":\"9d15958d-47a3-4a87-a448-987a7be7fbee\",\"type\":\"ToolEvents\"},\"toolbar\":{\"id\":\"47e64be5-b5ee-4b66-a117-c69aa72e8076\",\"type\":\"Toolbar\"},\"toolbar_location\":null,\"x_range\":{\"id\":\"a82a598e-9162-43c4-9241-7e6ba3dbf22c\",\"type\":\"Range1d\"},\"y_range\":{\"id\":\"6cafa1d2-6256-414c-acd7-a553f28744e8\",\"type\":\"Range1d\"}},\"id\":\"dd95a19d-76a8-402f-9ac4-c96bc71a85bf\",\"subtype\":\"Figure\",\"type\":\"Plot\"},{\"attributes\":{\"bottom\":{\"field\":\"bottom\"},\"fill_color\":{\"field\":\"fill_color\"},\"left\":{\"field\":\"left\"},\"line_color\":{\"value\":null},\"right\":{\"field\":\"right\"},\"top\":{\"field\":\"top\"}},\"id\":\"c9ec4bd1-7872-451f-8350-2faf4e6e0693\",\"type\":\"Quad\"},{\"attributes\":{\"plot\":{\"id\":\"dd95a19d-76a8-402f-9ac4-c96bc71a85bf\",\"subtype\":\"Figure\",\"type\":\"Plot\"}},\"id\":\"9ddc48a9-aa34-4c22-89f0-b7edc4e62b3f\",\"type\":\"ResetTool\"},{\"attributes\":{\"line_alpha\":{\"value\":0.1},\"line_color\":{\"value\":\"#1f77b4\"},\"xs\":{\"field\":\"xs\"},\"ys\":{\"field\":\"ys\"}},\"id\":\"d63a8a64-3032-4811-b43d-f8fe0decc20e\",\"type\":\"MultiLine\"},{\"attributes\":{\"bottom\":{\"field\":\"bottom\"},\"fill_color\":{\"value\":\"white\"},\"left\":{\"field\":\"left\"},\"right\":{\"field\":\"right\"},\"top\":{\"field\":\"top\"}},\"id\":\"9aee9c4a-1e64-4b25-8c92-5abf035a1268\",\"type\":\"Quad\"},{\"attributes\":{},\"id\":\"1164cb24-3697-4cc4-92c9-79eee7930140\",\"type\":\"BasicTickFormatter\"},{\"attributes\":{\"bottom_units\":\"screen\",\"fill_alpha\":{\"value\":0.5},\"fill_color\":{\"value\":\"lightgrey\"},\"left_units\":\"screen\",\"level\":\"overlay\",\"line_alpha\":{\"value\":1.0},\"line_color\":{\"value\":\"black\"},\"line_dash\":[4,4],\"line_width\":{\"value\":2},\"plot\":null,\"render_mode\":\"css\",\"right_units\":\"screen\",\"top_units\":\"screen\"},\"id\":\"0fc45016-9dcc-46b7-8250-ecfbd3467f3f\",\"type\":\"BoxAnnotation\"},{\"attributes\":{\"overlay\":{\"id\":\"0fc45016-9dcc-46b7-8250-ecfbd3467f3f\",\"type\":\"BoxAnnotation\"},\"plot\":{\"id\":\"dd95a19d-76a8-402f-9ac4-c96bc71a85bf\",\"subtype\":\"Figure\",\"type\":\"Plot\"}},\"id\":\"c5042724-10f2-4bb9-89f1-452c71abce17\",\"type\":\"BoxZoomTool\"}],\"root_ids\":[\"dd95a19d-76a8-402f-9ac4-c96bc71a85bf\"]},\"title\":\"Bokeh Application\",\"version\":\"0.12.0\"}};\n",
       "            var render_items = [{\"docid\":\"eb5f1e6b-1058-42b9-b54f-add5b1a0deda\",\"elementid\":\"df46e1a6-c7ed-48b4-ad69-325b5b12ad84\",\"modelid\":\"dd95a19d-76a8-402f-9ac4-c96bc71a85bf\",\"notebook_comms_target\":\"c55f13c9-4941-4818-9344-05f9674a2999\"}];\n",
       "            \n",
       "            Bokeh.embed.embed_items(docs_json, render_items);\n",
       "        });\n",
       "      },\n",
       "      function(Bokeh) {\n",
       "      }\n",
       "    ];\n",
       "  \n",
       "    function run_inline_js() {\n",
       "      for (var i = 0; i < inline_js.length; i++) {\n",
       "        inline_js[i](window.Bokeh);\n",
       "      }\n",
       "    }\n",
       "  \n",
       "    if (window._bokeh_is_loading === 0) {\n",
       "      console.log(\"Bokeh: BokehJS loaded, going straight to plotting\");\n",
       "      run_inline_js();\n",
       "    } else {\n",
       "      load_libs(js_urls, function() {\n",
       "        console.log(\"Bokeh: BokehJS plotting callback run at\", now());\n",
       "        run_inline_js();\n",
       "      });\n",
       "    }\n",
       "  }(this));\n",
       "</script>"
      ]
     },
     "metadata": {},
     "output_type": "display_data"
    },
    {
     "data": {
      "text/html": [
       "<p><code>&lt;Bokeh Notebook handle for <strong>In[24]</strong>&gt;</code></p>"
      ],
      "text/plain": [
       "<bokeh.io._CommsHandle at 0x7f46f1033450>"
      ]
     },
     "execution_count": 24,
     "metadata": {},
     "output_type": "execute_result"
    }
   ],
   "source": [
    "plt_obj = dm.superset_yes_no([dm.di_4_911, dm.di_10_2206, dm.di_7_1868], \n",
    "                             [dm.di_7_1760, dm.di_64_1575, dm.di_11_765], \n",
    "                             min_match=0.001)\n",
    "plt = plt_obj.do_plot()\n",
    "am_2 = plt_obj.plot_context.yes_allele_mask\n",
    "show(plt)"
   ]
  },
  {
   "cell_type": "code",
   "execution_count": 25,
   "metadata": {
    "collapsed": false
   },
   "outputs": [
    {
     "data": {
      "text/html": [
       "<table>\n",
       "<thead><tr><th style=\"text-align:center\">index</th><th style=\"text-align:center\">first</th><th style=\"text-align:center\">length</th><th style=\"text-align:center\">snps</th><th style=\"text-align:center\" colspan=2>alleles</th><th style=\"text-align:center\" colspan=2>matches</th><th style=\"text-align:center\" colspan=2>afr</th><th style=\"text-align:center\" colspan=2>afx</th><th style=\"text-align:center\" colspan=2>amr</th><th style=\"text-align:center\" colspan=2>eas</th><th style=\"text-align:center\" colspan=2>eur</th><th style=\"text-align:center\" colspan=2>sas</th><th style=\"text-align:center\" colspan=2>sax</th></tr></thead>\n",
       "<tr class=\"even\"><td style=\"text-align: right;\">353921</td><td style=\"text-align: right;\">136,501,840</td><td style=\"text-align: right;\">53,819</td><td style=\"text-align: right;\">10</td><td style=\"text-align: right;\">2206</td><td style=\"text-align: right;\">0.00</td><td style=\"text-align: right;\">1</td><td style=\"text-align: right;\">1.00</td><td style=\"text-align: right;\">0</td><td style=\"text-align: right;\">0.00</td><td style=\"text-align: right;\">0</td><td style=\"text-align: right;\">0.00</td><td style=\"text-align: right;\">0</td><td style=\"text-align: right;\">0.00</td><td style=\"text-align: right;\">0</td><td style=\"text-align: right;\">0.00</td><td style=\"text-align: right;\">0</td><td style=\"text-align: right;\">0.00</td><td style=\"text-align: right;\">1</td><td style=\"text-align: right;\">11.15</td><td style=\"text-align: right;\">0</td><td style=\"text-align: right;\">0.00</td></tr>\n",
       "<tr><td style=\"text-align: right;\">354170</td><td style=\"text-align: right;\">136,682,274</td><td style=\"text-align: right;\">93,624</td><td style=\"text-align: right;\">7</td><td style=\"text-align: right;\">1868</td><td style=\"text-align: right;\">0.00</td><td style=\"text-align: right;\">1</td><td style=\"text-align: right;\">1.00</td><td style=\"text-align: right;\">0</td><td style=\"text-align: right;\">0.00</td><td style=\"text-align: right;\">0</td><td style=\"text-align: right;\">0.00</td><td style=\"text-align: right;\">0</td><td style=\"text-align: right;\">0.00</td><td style=\"text-align: right;\">0</td><td style=\"text-align: right;\">0.00</td><td style=\"text-align: right;\">0</td><td style=\"text-align: right;\">0.00</td><td style=\"text-align: right;\">1</td><td style=\"text-align: right;\">11.15</td><td style=\"text-align: right;\">0</td><td style=\"text-align: right;\">0.00</td></tr>\n",
       "<tr class=\"even\"><td style=\"text-align: right;\">353462</td><td style=\"text-align: right;\">135,915,358</td><td style=\"text-align: right;\">79,721</td><td style=\"text-align: right;\">4</td><td style=\"text-align: right;\">1699</td><td style=\"text-align: right;\">0.00</td><td style=\"text-align: right;\">1</td><td style=\"text-align: right;\">1.00</td><td style=\"text-align: right;\">0</td><td style=\"text-align: right;\">0.00</td><td style=\"text-align: right;\">0</td><td style=\"text-align: right;\">0.00</td><td style=\"text-align: right;\">0</td><td style=\"text-align: right;\">0.00</td><td style=\"text-align: right;\">0</td><td style=\"text-align: right;\">0.00</td><td style=\"text-align: right;\">0</td><td style=\"text-align: right;\">0.00</td><td style=\"text-align: right;\">1</td><td style=\"text-align: right;\">11.15</td><td style=\"text-align: right;\">0</td><td style=\"text-align: right;\">0.00</td></tr>\n",
       "<tr><td style=\"text-align: right;\">353283</td><td style=\"text-align: right;\">135,771,974</td><td style=\"text-align: right;\">368,330</td><td style=\"text-align: right;\">6</td><td style=\"text-align: right;\">1503</td><td style=\"text-align: right;\">0.00</td><td style=\"text-align: right;\">1</td><td style=\"text-align: right;\">1.00</td><td style=\"text-align: right;\">0</td><td style=\"text-align: right;\">0.00</td><td style=\"text-align: right;\">0</td><td style=\"text-align: right;\">0.00</td><td style=\"text-align: right;\">0</td><td style=\"text-align: right;\">0.00</td><td style=\"text-align: right;\">0</td><td style=\"text-align: right;\">0.00</td><td style=\"text-align: right;\">0</td><td style=\"text-align: right;\">0.00</td><td style=\"text-align: right;\">1</td><td style=\"text-align: right;\">11.15</td><td style=\"text-align: right;\">0</td><td style=\"text-align: right;\">0.00</td></tr>\n",
       "<tr class=\"even\"><td style=\"text-align: right;\">353797</td><td style=\"text-align: right;\">136,398,174</td><td style=\"text-align: right;\">75,924</td><td style=\"text-align: right;\">26</td><td style=\"text-align: right;\">1414</td><td style=\"text-align: right;\">0.00</td><td style=\"text-align: right;\">1</td><td style=\"text-align: right;\">1.00</td><td style=\"text-align: right;\">0</td><td style=\"text-align: right;\">0.00</td><td style=\"text-align: right;\">0</td><td style=\"text-align: right;\">0.00</td><td style=\"text-align: right;\">0</td><td style=\"text-align: right;\">0.00</td><td style=\"text-align: right;\">0</td><td style=\"text-align: right;\">0.00</td><td style=\"text-align: right;\">0</td><td style=\"text-align: right;\">0.00</td><td style=\"text-align: right;\">1</td><td style=\"text-align: right;\">11.15</td><td style=\"text-align: right;\">0</td><td style=\"text-align: right;\">0.00</td></tr>\n",
       "<tr><td style=\"text-align: right;\">353604</td><td style=\"text-align: right;\">136,092,061</td><td style=\"text-align: right;\">315,418</td><td style=\"text-align: right;\">4</td><td style=\"text-align: right;\">911</td><td style=\"text-align: right;\">0.00</td><td style=\"text-align: right;\">1</td><td style=\"text-align: right;\">1.00</td><td style=\"text-align: right;\">0</td><td style=\"text-align: right;\">0.00</td><td style=\"text-align: right;\">0</td><td style=\"text-align: right;\">0.00</td><td style=\"text-align: right;\">0</td><td style=\"text-align: right;\">0.00</td><td style=\"text-align: right;\">0</td><td style=\"text-align: right;\">0.00</td><td style=\"text-align: right;\">0</td><td style=\"text-align: right;\">0.00</td><td style=\"text-align: right;\">1</td><td style=\"text-align: right;\">11.15</td><td style=\"text-align: right;\">0</td><td style=\"text-align: right;\">0.00</td></tr>\n",
       "</table>"
      ],
      "text/plain": [
       "<IPython.core.display.HTML object>"
      ]
     },
     "execution_count": 25,
     "metadata": {},
     "output_type": "execute_result"
    }
   ],
   "source": [
    "HTML(plt_obj.get_html())"
   ]
  },
  {
   "cell_type": "code",
   "execution_count": 26,
   "metadata": {
    "collapsed": false
   },
   "outputs": [
    {
     "data": {
      "text/plain": [
       "array([1, 1, 1, 1, 1, 1, 1, 1, 1, 1, 1, 1, 1, 1, 1, 1, 1, 1, 1, 1, 1, 1, 1,\n",
       "       1, 1, 1, 1, 1, 1, 1, 1, 1, 1, 1, 1, 1, 1, 1, 1, 1, 1, 0, 0, 0, 0, 0,\n",
       "       1, 1, 0, 0, 0, 1, 0, 0, 0, 1, 0, 1, 0, 1, 1, 1, 0, 1])"
      ]
     },
     "execution_count": 26,
     "metadata": {},
     "output_type": "execute_result"
    }
   ],
   "source": [
    "sa_64_1575.alleles_per_snp(am_2)"
   ]
  },
  {
   "cell_type": "code",
   "execution_count": 27,
   "metadata": {
    "collapsed": false
   },
   "outputs": [
    {
     "data": {
      "text/html": [
       "\n",
       "\n",
       "    <div class=\"bk-root\">\n",
       "        <div class=\"plotdiv\" id=\"139507b0-4fb7-409d-b94f-2ba2f3b40ee8\"></div>\n",
       "    </div>\n",
       "<script type=\"text/javascript\">\n",
       "  \n",
       "  (function(global) {\n",
       "    function now() {\n",
       "      return new Date();\n",
       "    }\n",
       "  \n",
       "    if (typeof (window._bokeh_onload_callbacks) === \"undefined\") {\n",
       "      window._bokeh_onload_callbacks = [];\n",
       "    }\n",
       "  \n",
       "    function run_callbacks() {\n",
       "      window._bokeh_onload_callbacks.forEach(function(callback) { callback() });\n",
       "      delete window._bokeh_onload_callbacks\n",
       "      console.info(\"Bokeh: all callbacks have finished\");\n",
       "    }\n",
       "  \n",
       "    function load_libs(js_urls, callback) {\n",
       "      window._bokeh_onload_callbacks.push(callback);\n",
       "      if (window._bokeh_is_loading > 0) {\n",
       "        console.log(\"Bokeh: BokehJS is being loaded, scheduling callback at\", now());\n",
       "        return null;\n",
       "      }\n",
       "      if (js_urls == null || js_urls.length === 0) {\n",
       "        run_callbacks();\n",
       "        return null;\n",
       "      }\n",
       "      console.log(\"Bokeh: BokehJS not loaded, scheduling load and callback at\", now());\n",
       "      window._bokeh_is_loading = js_urls.length;\n",
       "      for (var i = 0; i < js_urls.length; i++) {\n",
       "        var url = js_urls[i];\n",
       "        var s = document.createElement('script');\n",
       "        s.src = url;\n",
       "        s.async = false;\n",
       "        s.onreadystatechange = s.onload = function() {\n",
       "          window._bokeh_is_loading--;\n",
       "          if (window._bokeh_is_loading === 0) {\n",
       "            console.log(\"Bokeh: all BokehJS libraries loaded\");\n",
       "            run_callbacks()\n",
       "          }\n",
       "        };\n",
       "        s.onerror = function() {\n",
       "          console.warn(\"failed to load library \" + url);\n",
       "        };\n",
       "        console.log(\"Bokeh: injecting script tag for BokehJS library: \", url);\n",
       "        document.getElementsByTagName(\"head\")[0].appendChild(s);\n",
       "      }\n",
       "    };var element = document.getElementById(\"139507b0-4fb7-409d-b94f-2ba2f3b40ee8\");\n",
       "    if (element == null) {\n",
       "      console.log(\"Bokeh: ERROR: autoload.js configured with elementid '139507b0-4fb7-409d-b94f-2ba2f3b40ee8' but no matching script tag was found. \")\n",
       "      return false;\n",
       "    }\n",
       "  \n",
       "    var js_urls = [];\n",
       "  \n",
       "    var inline_js = [\n",
       "      function(Bokeh) {\n",
       "        Bokeh.$(function() {\n",
       "            var docs_json = {\"6d44d09b-cf80-4f4f-b0c0-aff3f4482ebe\":{\"roots\":{\"references\":[{\"attributes\":{\"bottom\":{\"field\":\"bottom\"},\"fill_alpha\":{\"value\":0.1},\"fill_color\":{\"value\":\"#1f77b4\"},\"left\":{\"field\":\"left\"},\"line_alpha\":{\"value\":0.1},\"line_color\":{\"value\":\"#1f77b4\"},\"right\":{\"field\":\"right\"},\"top\":{\"field\":\"top\"}},\"id\":\"103f9956-44f5-41c4-a77b-4962fa4062cc\",\"type\":\"Quad\"},{\"attributes\":{\"callback\":null,\"column_names\":[\"xs\",\"ys\",\"line_color\"],\"data\":{\"line_color\":[\"black\",\"black\",\"black\",\"black\",\"black\",\"black\",\"black\",\"black\",\"black\",\"black\",\"black\",\"black\",\"black\",\"black\",\"black\",\"black\",\"black\",\"black\",\"black\",\"black\",\"black\",\"black\",\"black\",\"black\",\"black\",\"black\",\"black\",\"black\",\"black\",\"black\",\"black\",\"black\",\"black\",\"black\",\"black\",\"black\",\"black\",\"black\",\"black\",\"black\",\"black\",\"black\",\"black\",\"black\",\"black\",\"black\",\"black\",\"black\",\"black\",\"black\",\"black\",\"black\",\"black\",\"black\",\"black\",\"black\",\"black\",\"black\",\"black\",\"black\",\"black\",\"black\",\"black\",\"black\",\"black\",\"black\",\"black\",\"black\",\"black\",\"black\",\"black\",\"black\",\"black\",\"black\",\"black\",\"black\",\"black\",\"black\",\"black\",\"black\",\"black\",\"black\",\"black\",\"black\",\"black\"],\"xs\":[[135771974,135771974],[135859371,135859371],[135877562,135877562],[136022798,136022798],[136058820,136058820],[136140304,136140304],[135915358,135915358],[135954405,135954405],[135995073,135995073],[135995079,135995079],[136092061,136092061],[136273578,136273578],[136322676,136322676],[136407479,136407479],[136398174,136398174],[136402117,136402117],[136403749,136403749],[136409073,136409073],[136410299,136410299],[136413359,136413359],[136416855,136416855],[136416941,136416941],[136418348,136418348],[136419961,136419961],[136420690,136420690],[136422171,136422171],[136428460,136428460],[136430866,136430866],[136432103,136432103],[136437507,136437507],[136439090,136439090],[136439517,136439517],[136444123,136444123],[136445526,136445526],[136445869,136445869],[136455600,136455600],[136456642,136456642],[136462441,136462441],[136470714,136470714],[136474098,136474098],[136501840,136501840],[136505546,136505546],[136516748,136516748],[136522710,136522710],[136528004,136528004],[136539513,136539513],[136544752,136544752],[136546110,136546110],[136553529,136553529],[136555659,136555659],[136652491,136652491],[136652524,136652524],[136661150,136661150],[136669264,136669264],[136726567,136726567],[136732772,136732772],[136652953,136652953],[136655582,136655582],[136674028,136674028],[136684940,136684940],[136761175,136761175],[136653925,136653925],[136654833,136654833],[136656534,136656534],[136656536,136656536],[136657252,136657252],[136667301,136667301],[136667487,136667487],[136672775,136672775],[136680534,136680534],[136686393,136686393],[136688749,136688749],[136692553,136692553],[136697371,136697371],[136708787,136708787],[136710372,136710372],[136711064,136711064],[136715324,136715324],[136723504,136723504],[136737460,136737460],[136743143,136743143],[136746224,136746224],[136751842,136751842],[136759379,136759379],[136761853,136761853]],\"ys\":[[150,195],[150,195],[150,195],[150,195],[150,195],[150,195],[250,296],[250,296],[250,296],[250,296],[50,90],[50,90],[50,90],[50,90],[150,194],[150,194],[150,194],[150,194],[150,194],[150,194],[150,194],[150,194],[150,194],[150,194],[150,194],[150,194],[150,194],[150,194],[150,194],[150,194],[150,194],[150,194],[150,194],[150,194],[150,194],[150,194],[150,194],[150,194],[150,194],[150,194],[250,298],[250,298],[250,298],[250,298],[250,298],[250,298],[250,298],[250,298],[250,298],[250,298],[50,92],[50,92],[50,92],[50,92],[50,92],[50,92],[150,194],[150,194],[150,194],[150,194],[150,194],[250,295],[250,295],[250,295],[250,295],[250,295],[250,295],[250,295],[250,295],[250,295],[250,295],[250,295],[250,295],[250,295],[250,295],[250,295],[250,295],[250,295],[250,295],[250,295],[250,295],[250,295],[250,295],[250,295],[250,295]]}},\"id\":\"5844fcca-8c05-4537-b90c-7853ba390777\",\"type\":\"ColumnDataSource\"},{\"attributes\":{\"bottom_units\":\"screen\",\"fill_alpha\":{\"value\":0.5},\"fill_color\":{\"value\":\"lightgrey\"},\"left_units\":\"screen\",\"level\":\"overlay\",\"line_alpha\":{\"value\":1.0},\"line_color\":{\"value\":\"black\"},\"line_dash\":[4,4],\"line_width\":{\"value\":2},\"plot\":null,\"render_mode\":\"css\",\"right_units\":\"screen\",\"top_units\":\"screen\"},\"id\":\"5837fda8-1d4a-468d-a730-f0276d251cbb\",\"type\":\"BoxAnnotation\"},{\"attributes\":{\"active_drag\":\"auto\",\"active_scroll\":\"auto\",\"active_tap\":\"auto\",\"tools\":[{\"id\":\"00245f98-1af8-4f37-b8d4-e4ae0007c3e5\",\"type\":\"PanTool\"},{\"id\":\"a7dd671e-c8b2-4dbf-afa3-ad1213e5d5dd\",\"type\":\"WheelZoomTool\"},{\"id\":\"70d1cdfb-bebc-4556-8e05-dd0547bf2f9a\",\"type\":\"BoxZoomTool\"},{\"id\":\"42946d97-4b73-466d-b591-76097d07a238\",\"type\":\"SaveTool\"},{\"id\":\"3dd13cf0-0cea-4ec0-ab71-4b9de16a39fd\",\"type\":\"ResetTool\"},{\"id\":\"eb22f1d6-6e50-4569-b087-ef17cc7da9f3\",\"type\":\"HelpTool\"}]},\"id\":\"842b0fd7-c423-41d1-b2fa-1172e602d877\",\"type\":\"Toolbar\"},{\"attributes\":{\"bottom\":{\"field\":\"bottom\"},\"fill_color\":{\"value\":\"white\"},\"left\":{\"field\":\"left\"},\"right\":{\"field\":\"right\"},\"top\":{\"field\":\"top\"}},\"id\":\"e569c265-03fe-44c2-abd1-ac436d27c66f\",\"type\":\"Quad\"},{\"attributes\":{\"callback\":null,\"column_names\":[\"y\",\"x\",\"vals\"],\"data\":{\"vals\":[\"6_1503\",\"4_1699\",\"4_911\",\"26_1414\",\"10_2206\",\"6_1114\",\"5_1296\",\"24_1504\"],\"x\":[135771974,135915358,136092061,136398174,136501840,136652491,136652953,136653925],\"y\":[200.0,301.0,95.0,199.0,303.0,97.0,199.0,300.0]}},\"id\":\"423b6388-c5ba-4c81-aa1a-f1d6478131ba\",\"type\":\"ColumnDataSource\"},{\"attributes\":{\"line_alpha\":{\"value\":0.1},\"line_color\":{\"value\":\"#1f77b4\"},\"xs\":{\"field\":\"xs\"},\"ys\":{\"field\":\"ys\"}},\"id\":\"6b4d3ebe-5cde-4a6d-86ce-5265bc2ddcd7\",\"type\":\"MultiLine\"},{\"attributes\":{\"data_source\":{\"id\":\"6a6dae50-be08-4ca8-99ad-01e60301f9d1\",\"type\":\"ColumnDataSource\"},\"glyph\":{\"id\":\"e569c265-03fe-44c2-abd1-ac436d27c66f\",\"type\":\"Quad\"},\"hover_glyph\":null,\"nonselection_glyph\":{\"id\":\"eb6d0e72-99d9-4f57-990f-60f70efa9528\",\"type\":\"Quad\"},\"selection_glyph\":null},\"id\":\"4cd28c8c-9c83-4e71-9213-eb81df660341\",\"type\":\"GlyphRenderer\"},{\"attributes\":{\"bottom\":{\"field\":\"bottom\"},\"fill_color\":{\"field\":\"fill_color\"},\"left\":{\"field\":\"left\"},\"line_color\":{\"value\":null},\"right\":{\"field\":\"right\"},\"top\":{\"field\":\"top\"}},\"id\":\"a89ef843-8643-40dd-8f5b-c778cb859f72\",\"type\":\"Quad\"},{\"attributes\":{\"plot\":{\"id\":\"71660af7-e960-4e07-85e9-fca221ba18dc\",\"subtype\":\"Figure\",\"type\":\"Plot\"}},\"id\":\"a7dd671e-c8b2-4dbf-afa3-ad1213e5d5dd\",\"type\":\"WheelZoomTool\"},{\"attributes\":{\"plot\":{\"id\":\"71660af7-e960-4e07-85e9-fca221ba18dc\",\"subtype\":\"Figure\",\"type\":\"Plot\"}},\"id\":\"00245f98-1af8-4f37-b8d4-e4ae0007c3e5\",\"type\":\"PanTool\"},{\"attributes\":{\"level\":\"glyph\",\"plot\":{\"id\":\"71660af7-e960-4e07-85e9-fca221ba18dc\",\"subtype\":\"Figure\",\"type\":\"Plot\"},\"source\":{\"id\":\"8f6cce45-ce8d-4409-a58c-e5356be4faea\",\"type\":\"ColumnDataSource\"},\"text\":{\"field\":\"vals\"},\"text_align\":\"center\",\"text_baseline\":\"middle\",\"text_font_size\":{\"value\":\"8pt\"},\"x\":{\"field\":\"x\"},\"y\":{\"field\":\"y\"}},\"id\":\"c258363e-e948-46e7-8eef-8b48f5ac76fa\",\"type\":\"LabelSet\"},{\"attributes\":{\"level\":\"glyph\",\"plot\":{\"id\":\"71660af7-e960-4e07-85e9-fca221ba18dc\",\"subtype\":\"Figure\",\"type\":\"Plot\"},\"source\":{\"id\":\"423b6388-c5ba-4c81-aa1a-f1d6478131ba\",\"type\":\"ColumnDataSource\"},\"text\":{\"field\":\"vals\"},\"text_font_size\":{\"value\":\"9pt\"},\"text_font_style\":\"bold\",\"x\":{\"field\":\"x\"},\"y\":{\"field\":\"y\"}},\"id\":\"a0fa3e3b-b472-4954-9c93-34cfdb143cae\",\"type\":\"LabelSet\"},{\"attributes\":{\"callback\":null,\"column_names\":[\"right\",\"bottom\",\"top\",\"left\"],\"data\":{\"bottom\":[345,345,345,345,345,345,345],\"left\":[135809835,135957574,136289083,136499189,136545415,136597196,136664254],\"right\":[135928279,136288182,136482839,136542633,136594750,136634047,136743222],\"top\":[375,375,375,375,375,375,375]}},\"id\":\"6a6dae50-be08-4ca8-99ad-01e60301f9d1\",\"type\":\"ColumnDataSource\"},{\"attributes\":{\"bottom\":{\"field\":\"bottom\"},\"fill_alpha\":{\"value\":0.1},\"fill_color\":{\"value\":\"#1f77b4\"},\"left\":{\"field\":\"left\"},\"line_alpha\":{\"value\":0.1},\"line_color\":{\"value\":\"#1f77b4\"},\"right\":{\"field\":\"right\"},\"top\":{\"field\":\"top\"}},\"id\":\"eb6d0e72-99d9-4f57-990f-60f70efa9528\",\"type\":\"Quad\"},{\"attributes\":{\"line_color\":{\"field\":\"line_color\"},\"xs\":{\"field\":\"xs\"},\"ys\":{\"field\":\"ys\"}},\"id\":\"b7948226-17b5-454e-8a24-0d93e73b3e3e\",\"type\":\"MultiLine\"},{\"attributes\":{\"dimension\":1,\"plot\":{\"id\":\"71660af7-e960-4e07-85e9-fca221ba18dc\",\"subtype\":\"Figure\",\"type\":\"Plot\"},\"ticker\":{\"id\":\"5d596996-65d1-4d1b-800c-0096d81f301f\",\"type\":\"BasicTicker\"}},\"id\":\"71f672d6-f505-4d87-a21e-bbcc23b0c5bf\",\"type\":\"Grid\"},{\"attributes\":{},\"id\":\"5d596996-65d1-4d1b-800c-0096d81f301f\",\"type\":\"BasicTicker\"},{\"attributes\":{\"callback\":null,\"end\":400},\"id\":\"27fb03dc-fc4a-4942-ba85-07bb7e9ade3b\",\"type\":\"Range1d\"},{\"attributes\":{},\"id\":\"4a235d1b-e645-487b-9737-92ded5ee7788\",\"type\":\"ToolEvents\"},{\"attributes\":{\"plot\":{\"id\":\"71660af7-e960-4e07-85e9-fca221ba18dc\",\"subtype\":\"Figure\",\"type\":\"Plot\"},\"ticker\":{\"id\":\"d41aaaa8-50cc-4af1-9664-98e303120973\",\"type\":\"BasicTicker\"}},\"id\":\"e0eec679-2391-42c3-acf6-02ca055fcaf9\",\"type\":\"Grid\"},{\"attributes\":{\"below\":[{\"id\":\"c4c1e265-2dd6-4243-8f3f-8c676c804cef\",\"type\":\"LinearAxis\"}],\"left\":[{\"id\":\"6861eb06-51ca-44cf-997a-c542a5382f6a\",\"type\":\"LinearAxis\"}],\"plot_height\":400,\"plot_width\":900,\"renderers\":[{\"id\":\"c4c1e265-2dd6-4243-8f3f-8c676c804cef\",\"type\":\"LinearAxis\"},{\"id\":\"e0eec679-2391-42c3-acf6-02ca055fcaf9\",\"type\":\"Grid\"},{\"id\":\"6861eb06-51ca-44cf-997a-c542a5382f6a\",\"type\":\"LinearAxis\"},{\"id\":\"71f672d6-f505-4d87-a21e-bbcc23b0c5bf\",\"type\":\"Grid\"},{\"id\":\"5837fda8-1d4a-468d-a730-f0276d251cbb\",\"type\":\"BoxAnnotation\"},{\"id\":\"bcd971f9-5313-456c-b3d1-f428d3096202\",\"type\":\"GlyphRenderer\"},{\"id\":\"79cb5b73-ad11-4684-8a46-bc252c3f04e8\",\"type\":\"GlyphRenderer\"},{\"id\":\"a0fa3e3b-b472-4954-9c93-34cfdb143cae\",\"type\":\"LabelSet\"},{\"id\":\"4cd28c8c-9c83-4e71-9213-eb81df660341\",\"type\":\"GlyphRenderer\"},{\"id\":\"c258363e-e948-46e7-8eef-8b48f5ac76fa\",\"type\":\"LabelSet\"}],\"title\":{\"id\":\"c422bdf1-5544-4f52-a096-9e8b9cb70a8a\",\"type\":\"Title\"},\"tool_events\":{\"id\":\"4a235d1b-e645-487b-9737-92ded5ee7788\",\"type\":\"ToolEvents\"},\"toolbar\":{\"id\":\"842b0fd7-c423-41d1-b2fa-1172e602d877\",\"type\":\"Toolbar\"},\"toolbar_location\":null,\"x_range\":{\"id\":\"0fb52144-2999-4637-b89e-9445c061b124\",\"type\":\"Range1d\"},\"y_range\":{\"id\":\"27fb03dc-fc4a-4942-ba85-07bb7e9ade3b\",\"type\":\"Range1d\"}},\"id\":\"71660af7-e960-4e07-85e9-fca221ba18dc\",\"subtype\":\"Figure\",\"type\":\"Plot\"},{\"attributes\":{\"callback\":null,\"end\":136786630,\"start\":135757320},\"id\":\"0fb52144-2999-4637-b89e-9445c061b124\",\"type\":\"Range1d\"},{\"attributes\":{\"data_source\":{\"id\":\"5844fcca-8c05-4537-b90c-7853ba390777\",\"type\":\"ColumnDataSource\"},\"glyph\":{\"id\":\"b7948226-17b5-454e-8a24-0d93e73b3e3e\",\"type\":\"MultiLine\"},\"hover_glyph\":null,\"nonselection_glyph\":{\"id\":\"6b4d3ebe-5cde-4a6d-86ce-5265bc2ddcd7\",\"type\":\"MultiLine\"},\"selection_glyph\":null},\"id\":\"79cb5b73-ad11-4684-8a46-bc252c3f04e8\",\"type\":\"GlyphRenderer\"},{\"attributes\":{},\"id\":\"d41aaaa8-50cc-4af1-9664-98e303120973\",\"type\":\"BasicTicker\"},{\"attributes\":{},\"id\":\"ca32460b-756a-4712-9b30-f2db058340f4\",\"type\":\"BasicTickFormatter\"},{\"attributes\":{\"overlay\":{\"id\":\"5837fda8-1d4a-468d-a730-f0276d251cbb\",\"type\":\"BoxAnnotation\"},\"plot\":{\"id\":\"71660af7-e960-4e07-85e9-fca221ba18dc\",\"subtype\":\"Figure\",\"type\":\"Plot\"}},\"id\":\"70d1cdfb-bebc-4556-8e05-dd0547bf2f9a\",\"type\":\"BoxZoomTool\"},{\"attributes\":{\"plot\":{\"id\":\"71660af7-e960-4e07-85e9-fca221ba18dc\",\"subtype\":\"Figure\",\"type\":\"Plot\"}},\"id\":\"eb22f1d6-6e50-4569-b087-ef17cc7da9f3\",\"type\":\"HelpTool\"},{\"attributes\":{\"plot\":{\"id\":\"71660af7-e960-4e07-85e9-fca221ba18dc\",\"subtype\":\"Figure\",\"type\":\"Plot\"}},\"id\":\"3dd13cf0-0cea-4ec0-ab71-4b9de16a39fd\",\"type\":\"ResetTool\"},{\"attributes\":{},\"id\":\"85e824e4-8fa3-4aac-b5bb-89491dc5bd2e\",\"type\":\"BasicTickFormatter\"},{\"attributes\":{\"formatter\":{\"id\":\"85e824e4-8fa3-4aac-b5bb-89491dc5bd2e\",\"type\":\"BasicTickFormatter\"},\"plot\":{\"id\":\"71660af7-e960-4e07-85e9-fca221ba18dc\",\"subtype\":\"Figure\",\"type\":\"Plot\"},\"ticker\":{\"id\":\"d41aaaa8-50cc-4af1-9664-98e303120973\",\"type\":\"BasicTicker\"}},\"id\":\"c4c1e265-2dd6-4243-8f3f-8c676c804cef\",\"type\":\"LinearAxis\"},{\"attributes\":{\"callback\":null,\"column_names\":[\"right\",\"bottom\",\"top\",\"left\",\"fill_color\"],\"data\":{\"bottom\":[150,250,50,150,250,50,150,250],\"fill_color\":[\"#61c461\",\"#61c461\",\"#00ff00\",\"#61c461\",\"#808080\",\"#808080\",\"#808080\",\"#808080\"],\"left\":[135771974,135915358,136092061,136398174,136501840,136652491,136652953,136653925],\"right\":[136140304,135995079,136407479,136474098,136555659,136732772,136761175,136761853],\"top\":[195,296,90,194,298,92,194,295]}},\"id\":\"b1f57eb8-22d2-42b1-b95e-a821e4e3749b\",\"type\":\"ColumnDataSource\"},{\"attributes\":{\"data_source\":{\"id\":\"b1f57eb8-22d2-42b1-b95e-a821e4e3749b\",\"type\":\"ColumnDataSource\"},\"glyph\":{\"id\":\"a89ef843-8643-40dd-8f5b-c778cb859f72\",\"type\":\"Quad\"},\"hover_glyph\":null,\"nonselection_glyph\":{\"id\":\"103f9956-44f5-41c4-a77b-4962fa4062cc\",\"type\":\"Quad\"},\"selection_glyph\":null},\"id\":\"bcd971f9-5313-456c-b3d1-f428d3096202\",\"type\":\"GlyphRenderer\"},{\"attributes\":{\"plot\":{\"id\":\"71660af7-e960-4e07-85e9-fca221ba18dc\",\"subtype\":\"Figure\",\"type\":\"Plot\"}},\"id\":\"42946d97-4b73-466d-b591-76097d07a238\",\"type\":\"SaveTool\"},{\"attributes\":{\"plot\":null,\"text\":null},\"id\":\"c422bdf1-5544-4f52-a096-9e8b9cb70a8a\",\"type\":\"Title\"},{\"attributes\":{\"formatter\":{\"id\":\"ca32460b-756a-4712-9b30-f2db058340f4\",\"type\":\"BasicTickFormatter\"},\"plot\":{\"id\":\"71660af7-e960-4e07-85e9-fca221ba18dc\",\"subtype\":\"Figure\",\"type\":\"Plot\"},\"ticker\":{\"id\":\"5d596996-65d1-4d1b-800c-0096d81f301f\",\"type\":\"BasicTicker\"},\"visible\":null},\"id\":\"6861eb06-51ca-44cf-997a-c542a5382f6a\",\"type\":\"LinearAxis\"},{\"attributes\":{\"callback\":null,\"column_names\":[\"y\",\"x\",\"vals\"],\"data\":{\"vals\":[\"RAB3GAP1\",\"ZRANB3\",\"R3HDM1\",\"UBXN4\",\"LCT\",\"MCM6\",\"DARS\"],\"x\":[135869057.0,136122878.0,136385961.0,136520911.0,136570082.5,136615621.5,136703738.0],\"y\":[360.0,360.0,360.0,360.0,360.0,360.0,360.0]}},\"id\":\"8f6cce45-ce8d-4409-a58c-e5356be4faea\",\"type\":\"ColumnDataSource\"}],\"root_ids\":[\"71660af7-e960-4e07-85e9-fca221ba18dc\"]},\"title\":\"Bokeh Application\",\"version\":\"0.12.0\"}};\n",
       "            var render_items = [{\"docid\":\"6d44d09b-cf80-4f4f-b0c0-aff3f4482ebe\",\"elementid\":\"139507b0-4fb7-409d-b94f-2ba2f3b40ee8\",\"modelid\":\"71660af7-e960-4e07-85e9-fca221ba18dc\",\"notebook_comms_target\":\"5288e693-6f40-484e-b6fc-79dd55ba6ed5\"}];\n",
       "            \n",
       "            Bokeh.embed.embed_items(docs_json, render_items);\n",
       "        });\n",
       "      },\n",
       "      function(Bokeh) {\n",
       "      }\n",
       "    ];\n",
       "  \n",
       "    function run_inline_js() {\n",
       "      for (var i = 0; i < inline_js.length; i++) {\n",
       "        inline_js[i](window.Bokeh);\n",
       "      }\n",
       "    }\n",
       "  \n",
       "    if (window._bokeh_is_loading === 0) {\n",
       "      console.log(\"Bokeh: BokehJS loaded, going straight to plotting\");\n",
       "      run_inline_js();\n",
       "    } else {\n",
       "      load_libs(js_urls, function() {\n",
       "        console.log(\"Bokeh: BokehJS plotting callback run at\", now());\n",
       "        run_inline_js();\n",
       "      });\n",
       "    }\n",
       "  }(this));\n",
       "</script>"
      ]
     },
     "metadata": {},
     "output_type": "display_data"
    },
    {
     "data": {
      "text/html": [
       "<p><code>&lt;Bokeh Notebook handle for <strong>In[27]</strong>&gt;</code></p>"
      ],
      "text/plain": [
       "<bokeh.io._CommsHandle at 0x7f46f0f31850>"
      ]
     },
     "execution_count": 27,
     "metadata": {},
     "output_type": "execute_result"
    }
   ],
   "source": [
    "plt_obj = dm.superset_yes_no([dm.di_4_911, dm.di_10_2206, dm.di_24_1504], \n",
    "                             [dm.di_7_1868, dm.di_7_1760, dm.di_64_1575, dm.di_11_765], \n",
    "                             min_match=0.001)\n",
    "plt = plt_obj.do_plot()\n",
    "am_3 = plt_obj.plot_context.yes_allele_mask\n",
    "show(plt)"
   ]
  },
  {
   "cell_type": "code",
   "execution_count": 28,
   "metadata": {
    "collapsed": false
   },
   "outputs": [
    {
     "data": {
      "text/html": [
       "<table>\n",
       "<thead><tr><th style=\"text-align:center\">index</th><th style=\"text-align:center\">first</th><th style=\"text-align:center\">length</th><th style=\"text-align:center\">snps</th><th style=\"text-align:center\" colspan=2>alleles</th><th style=\"text-align:center\" colspan=2>matches</th><th style=\"text-align:center\" colspan=2>afr</th><th style=\"text-align:center\" colspan=2>afx</th><th style=\"text-align:center\" colspan=2>amr</th><th style=\"text-align:center\" colspan=2>eas</th><th style=\"text-align:center\" colspan=2>eur</th><th style=\"text-align:center\" colspan=2>sas</th><th style=\"text-align:center\" colspan=2>sax</th></tr></thead>\n",
       "<tr class=\"even\"><td style=\"text-align: right;\">353921</td><td style=\"text-align: right;\">136,501,840</td><td style=\"text-align: right;\">53,819</td><td style=\"text-align: right;\">10</td><td style=\"text-align: right;\">2206</td><td style=\"text-align: right;\">0.00</td><td style=\"text-align: right;\">1</td><td style=\"text-align: right;\">1.00</td><td style=\"text-align: right;\">0</td><td style=\"text-align: right;\">0.00</td><td style=\"text-align: right;\">0</td><td style=\"text-align: right;\">0.00</td><td style=\"text-align: right;\">1</td><td style=\"text-align: right;\">6.45</td><td style=\"text-align: right;\">0</td><td style=\"text-align: right;\">0.00</td><td style=\"text-align: right;\">0</td><td style=\"text-align: right;\">0.00</td><td style=\"text-align: right;\">0</td><td style=\"text-align: right;\">0.00</td><td style=\"text-align: right;\">0</td><td style=\"text-align: right;\">0.00</td></tr>\n",
       "<tr><td style=\"text-align: right;\">353462</td><td style=\"text-align: right;\">135,915,358</td><td style=\"text-align: right;\">79,721</td><td style=\"text-align: right;\">4</td><td style=\"text-align: right;\">1699</td><td style=\"text-align: right;\">0.00</td><td style=\"text-align: right;\">1</td><td style=\"text-align: right;\">1.00</td><td style=\"text-align: right;\">0</td><td style=\"text-align: right;\">0.00</td><td style=\"text-align: right;\">0</td><td style=\"text-align: right;\">0.00</td><td style=\"text-align: right;\">1</td><td style=\"text-align: right;\">6.45</td><td style=\"text-align: right;\">0</td><td style=\"text-align: right;\">0.00</td><td style=\"text-align: right;\">0</td><td style=\"text-align: right;\">0.00</td><td style=\"text-align: right;\">0</td><td style=\"text-align: right;\">0.00</td><td style=\"text-align: right;\">0</td><td style=\"text-align: right;\">0.00</td></tr>\n",
       "<tr class=\"even\"><td style=\"text-align: right;\">354130</td><td style=\"text-align: right;\">136,653,925</td><td style=\"text-align: right;\">107,928</td><td style=\"text-align: right;\">24</td><td style=\"text-align: right;\">1504</td><td style=\"text-align: right;\">0.00</td><td style=\"text-align: right;\">1</td><td style=\"text-align: right;\">1.00</td><td style=\"text-align: right;\">0</td><td style=\"text-align: right;\">0.00</td><td style=\"text-align: right;\">0</td><td style=\"text-align: right;\">0.00</td><td style=\"text-align: right;\">1</td><td style=\"text-align: right;\">6.45</td><td style=\"text-align: right;\">0</td><td style=\"text-align: right;\">0.00</td><td style=\"text-align: right;\">0</td><td style=\"text-align: right;\">0.00</td><td style=\"text-align: right;\">0</td><td style=\"text-align: right;\">0.00</td><td style=\"text-align: right;\">0</td><td style=\"text-align: right;\">0.00</td></tr>\n",
       "<tr><td style=\"text-align: right;\">353283</td><td style=\"text-align: right;\">135,771,974</td><td style=\"text-align: right;\">368,330</td><td style=\"text-align: right;\">6</td><td style=\"text-align: right;\">1503</td><td style=\"text-align: right;\">0.00</td><td style=\"text-align: right;\">1</td><td style=\"text-align: right;\">1.00</td><td style=\"text-align: right;\">0</td><td style=\"text-align: right;\">0.00</td><td style=\"text-align: right;\">0</td><td style=\"text-align: right;\">0.00</td><td style=\"text-align: right;\">1</td><td style=\"text-align: right;\">6.45</td><td style=\"text-align: right;\">0</td><td style=\"text-align: right;\">0.00</td><td style=\"text-align: right;\">0</td><td style=\"text-align: right;\">0.00</td><td style=\"text-align: right;\">0</td><td style=\"text-align: right;\">0.00</td><td style=\"text-align: right;\">0</td><td style=\"text-align: right;\">0.00</td></tr>\n",
       "<tr class=\"even\"><td style=\"text-align: right;\">353797</td><td style=\"text-align: right;\">136,398,174</td><td style=\"text-align: right;\">75,924</td><td style=\"text-align: right;\">26</td><td style=\"text-align: right;\">1414</td><td style=\"text-align: right;\">0.00</td><td style=\"text-align: right;\">1</td><td style=\"text-align: right;\">1.00</td><td style=\"text-align: right;\">0</td><td style=\"text-align: right;\">0.00</td><td style=\"text-align: right;\">0</td><td style=\"text-align: right;\">0.00</td><td style=\"text-align: right;\">1</td><td style=\"text-align: right;\">6.45</td><td style=\"text-align: right;\">0</td><td style=\"text-align: right;\">0.00</td><td style=\"text-align: right;\">0</td><td style=\"text-align: right;\">0.00</td><td style=\"text-align: right;\">0</td><td style=\"text-align: right;\">0.00</td><td style=\"text-align: right;\">0</td><td style=\"text-align: right;\">0.00</td></tr>\n",
       "<tr><td style=\"text-align: right;\">354129</td><td style=\"text-align: right;\">136,652,953</td><td style=\"text-align: right;\">108,222</td><td style=\"text-align: right;\">5</td><td style=\"text-align: right;\">1296</td><td style=\"text-align: right;\">0.00</td><td style=\"text-align: right;\">1</td><td style=\"text-align: right;\">1.00</td><td style=\"text-align: right;\">0</td><td style=\"text-align: right;\">0.00</td><td style=\"text-align: right;\">0</td><td style=\"text-align: right;\">0.00</td><td style=\"text-align: right;\">1</td><td style=\"text-align: right;\">6.45</td><td style=\"text-align: right;\">0</td><td style=\"text-align: right;\">0.00</td><td style=\"text-align: right;\">0</td><td style=\"text-align: right;\">0.00</td><td style=\"text-align: right;\">0</td><td style=\"text-align: right;\">0.00</td><td style=\"text-align: right;\">0</td><td style=\"text-align: right;\">0.00</td></tr>\n",
       "<tr class=\"even\"><td style=\"text-align: right;\">354127</td><td style=\"text-align: right;\">136,652,491</td><td style=\"text-align: right;\">80,281</td><td style=\"text-align: right;\">6</td><td style=\"text-align: right;\">1114</td><td style=\"text-align: right;\">0.00</td><td style=\"text-align: right;\">1</td><td style=\"text-align: right;\">1.00</td><td style=\"text-align: right;\">0</td><td style=\"text-align: right;\">0.00</td><td style=\"text-align: right;\">0</td><td style=\"text-align: right;\">0.00</td><td style=\"text-align: right;\">1</td><td style=\"text-align: right;\">6.45</td><td style=\"text-align: right;\">0</td><td style=\"text-align: right;\">0.00</td><td style=\"text-align: right;\">0</td><td style=\"text-align: right;\">0.00</td><td style=\"text-align: right;\">0</td><td style=\"text-align: right;\">0.00</td><td style=\"text-align: right;\">0</td><td style=\"text-align: right;\">0.00</td></tr>\n",
       "<tr><td style=\"text-align: right;\">353604</td><td style=\"text-align: right;\">136,092,061</td><td style=\"text-align: right;\">315,418</td><td style=\"text-align: right;\">4</td><td style=\"text-align: right;\">911</td><td style=\"text-align: right;\">0.00</td><td style=\"text-align: right;\">1</td><td style=\"text-align: right;\">1.00</td><td style=\"text-align: right;\">0</td><td style=\"text-align: right;\">0.00</td><td style=\"text-align: right;\">0</td><td style=\"text-align: right;\">0.00</td><td style=\"text-align: right;\">1</td><td style=\"text-align: right;\">6.45</td><td style=\"text-align: right;\">0</td><td style=\"text-align: right;\">0.00</td><td style=\"text-align: right;\">0</td><td style=\"text-align: right;\">0.00</td><td style=\"text-align: right;\">0</td><td style=\"text-align: right;\">0.00</td><td style=\"text-align: right;\">0</td><td style=\"text-align: right;\">0.00</td></tr>\n",
       "</table>"
      ],
      "text/plain": [
       "<IPython.core.display.HTML object>"
      ]
     },
     "execution_count": 28,
     "metadata": {},
     "output_type": "execute_result"
    }
   ],
   "source": [
    "HTML(plt_obj.get_html())"
   ]
  },
  {
   "cell_type": "code",
   "execution_count": 29,
   "metadata": {
    "collapsed": false
   },
   "outputs": [
    {
     "data": {
      "text/plain": [
       "array([1, 1, 1, 1, 1, 1, 1, 1, 1, 1, 1, 1, 1, 1, 1, 1, 1, 1, 1, 1, 1, 1, 1,\n",
       "       1, 1, 1, 1, 1, 1, 1, 1, 1, 1, 1, 1, 1, 0, 0, 0, 0, 0, 0, 0, 0, 0, 0,\n",
       "       0, 0, 0, 0, 0, 0, 0, 0, 0, 0, 0, 0, 0, 0, 0, 0, 0, 0])"
      ]
     },
     "execution_count": 29,
     "metadata": {},
     "output_type": "execute_result"
    }
   ],
   "source": [
    "sa_64_1575.alleles_per_snp(am_3)"
   ]
  },
  {
   "cell_type": "code",
   "execution_count": 30,
   "metadata": {
    "collapsed": false
   },
   "outputs": [
    {
     "data": {
      "text/html": [
       "\n",
       "\n",
       "    <div class=\"bk-root\">\n",
       "        <div class=\"plotdiv\" id=\"b3398311-9c5f-4c38-9b39-caeec12559f7\"></div>\n",
       "    </div>\n",
       "<script type=\"text/javascript\">\n",
       "  \n",
       "  (function(global) {\n",
       "    function now() {\n",
       "      return new Date();\n",
       "    }\n",
       "  \n",
       "    if (typeof (window._bokeh_onload_callbacks) === \"undefined\") {\n",
       "      window._bokeh_onload_callbacks = [];\n",
       "    }\n",
       "  \n",
       "    function run_callbacks() {\n",
       "      window._bokeh_onload_callbacks.forEach(function(callback) { callback() });\n",
       "      delete window._bokeh_onload_callbacks\n",
       "      console.info(\"Bokeh: all callbacks have finished\");\n",
       "    }\n",
       "  \n",
       "    function load_libs(js_urls, callback) {\n",
       "      window._bokeh_onload_callbacks.push(callback);\n",
       "      if (window._bokeh_is_loading > 0) {\n",
       "        console.log(\"Bokeh: BokehJS is being loaded, scheduling callback at\", now());\n",
       "        return null;\n",
       "      }\n",
       "      if (js_urls == null || js_urls.length === 0) {\n",
       "        run_callbacks();\n",
       "        return null;\n",
       "      }\n",
       "      console.log(\"Bokeh: BokehJS not loaded, scheduling load and callback at\", now());\n",
       "      window._bokeh_is_loading = js_urls.length;\n",
       "      for (var i = 0; i < js_urls.length; i++) {\n",
       "        var url = js_urls[i];\n",
       "        var s = document.createElement('script');\n",
       "        s.src = url;\n",
       "        s.async = false;\n",
       "        s.onreadystatechange = s.onload = function() {\n",
       "          window._bokeh_is_loading--;\n",
       "          if (window._bokeh_is_loading === 0) {\n",
       "            console.log(\"Bokeh: all BokehJS libraries loaded\");\n",
       "            run_callbacks()\n",
       "          }\n",
       "        };\n",
       "        s.onerror = function() {\n",
       "          console.warn(\"failed to load library \" + url);\n",
       "        };\n",
       "        console.log(\"Bokeh: injecting script tag for BokehJS library: \", url);\n",
       "        document.getElementsByTagName(\"head\")[0].appendChild(s);\n",
       "      }\n",
       "    };var element = document.getElementById(\"b3398311-9c5f-4c38-9b39-caeec12559f7\");\n",
       "    if (element == null) {\n",
       "      console.log(\"Bokeh: ERROR: autoload.js configured with elementid 'b3398311-9c5f-4c38-9b39-caeec12559f7' but no matching script tag was found. \")\n",
       "      return false;\n",
       "    }\n",
       "  \n",
       "    var js_urls = [];\n",
       "  \n",
       "    var inline_js = [\n",
       "      function(Bokeh) {\n",
       "        Bokeh.$(function() {\n",
       "            var docs_json = {\"f4ac2da3-4bab-4df2-81be-486572da2831\":{\"roots\":{\"references\":[{\"attributes\":{\"below\":[{\"id\":\"fe5ec76e-5b93-479e-83b4-6fd29694a5f3\",\"type\":\"LinearAxis\"}],\"left\":[{\"id\":\"c5013307-0f75-4649-88a8-ae5608b1fb68\",\"type\":\"LinearAxis\"}],\"plot_height\":500,\"plot_width\":900,\"renderers\":[{\"id\":\"fe5ec76e-5b93-479e-83b4-6fd29694a5f3\",\"type\":\"LinearAxis\"},{\"id\":\"d3c55bc4-1a7a-455e-ae3a-c8ff46e95157\",\"type\":\"Grid\"},{\"id\":\"c5013307-0f75-4649-88a8-ae5608b1fb68\",\"type\":\"LinearAxis\"},{\"id\":\"c3209820-fea2-4a3b-b932-bc988ca00fb7\",\"type\":\"Grid\"},{\"id\":\"5d39979c-e3e8-41f9-9138-484b1c5d4ee8\",\"type\":\"BoxAnnotation\"},{\"id\":\"c0bc2e0c-3361-4173-b421-a0184ad9be80\",\"type\":\"GlyphRenderer\"},{\"id\":\"66bf49f2-e261-418d-a7ca-83513d5890eb\",\"type\":\"GlyphRenderer\"},{\"id\":\"f78fcaa4-0f65-4aa4-a9e4-d98f6b47043f\",\"type\":\"LabelSet\"},{\"id\":\"45edc944-794f-4bcd-83f0-c6356b7a4130\",\"type\":\"GlyphRenderer\"},{\"id\":\"9b5dd249-c41b-4df7-999c-563f610b2d92\",\"type\":\"LabelSet\"}],\"title\":{\"id\":\"22089728-b7aa-4d91-ae32-94b01861fdf5\",\"type\":\"Title\"},\"tool_events\":{\"id\":\"c404873f-1218-4937-ac26-fe7fcba7013a\",\"type\":\"ToolEvents\"},\"toolbar\":{\"id\":\"33e578c8-bdc6-4c6b-85ab-a6a5d39c0360\",\"type\":\"Toolbar\"},\"toolbar_location\":null,\"x_range\":{\"id\":\"8ed2ca47-5f6d-447d-b519-cb0a43c0c9ae\",\"type\":\"Range1d\"},\"y_range\":{\"id\":\"0f1d36bb-0e4e-4041-afeb-f86f94c8f0db\",\"type\":\"Range1d\"}},\"id\":\"edf85739-7d53-4d32-a2a4-348948af6b59\",\"subtype\":\"Figure\",\"type\":\"Plot\"},{\"attributes\":{\"dimension\":1,\"plot\":{\"id\":\"edf85739-7d53-4d32-a2a4-348948af6b59\",\"subtype\":\"Figure\",\"type\":\"Plot\"},\"ticker\":{\"id\":\"cce5f898-77f0-4e49-b785-f372fc08d1d0\",\"type\":\"BasicTicker\"}},\"id\":\"c3209820-fea2-4a3b-b932-bc988ca00fb7\",\"type\":\"Grid\"},{\"attributes\":{\"plot\":{\"id\":\"edf85739-7d53-4d32-a2a4-348948af6b59\",\"subtype\":\"Figure\",\"type\":\"Plot\"}},\"id\":\"e5d4c312-1917-43cf-a576-e3d5f2996c5c\",\"type\":\"PanTool\"},{\"attributes\":{\"bottom_units\":\"screen\",\"fill_alpha\":{\"value\":0.5},\"fill_color\":{\"value\":\"lightgrey\"},\"left_units\":\"screen\",\"level\":\"overlay\",\"line_alpha\":{\"value\":1.0},\"line_color\":{\"value\":\"black\"},\"line_dash\":[4,4],\"line_width\":{\"value\":2},\"plot\":null,\"render_mode\":\"css\",\"right_units\":\"screen\",\"top_units\":\"screen\"},\"id\":\"5d39979c-e3e8-41f9-9138-484b1c5d4ee8\",\"type\":\"BoxAnnotation\"},{\"attributes\":{\"callback\":null,\"end\":500},\"id\":\"0f1d36bb-0e4e-4041-afeb-f86f94c8f0db\",\"type\":\"Range1d\"},{\"attributes\":{},\"id\":\"c404873f-1218-4937-ac26-fe7fcba7013a\",\"type\":\"ToolEvents\"},{\"attributes\":{\"plot\":{\"id\":\"edf85739-7d53-4d32-a2a4-348948af6b59\",\"subtype\":\"Figure\",\"type\":\"Plot\"}},\"id\":\"b165f821-a2c1-4ce0-8088-0c8ce873bbe1\",\"type\":\"ResetTool\"},{\"attributes\":{\"formatter\":{\"id\":\"f6491def-43c7-4a1b-8e97-ad4bda735760\",\"type\":\"BasicTickFormatter\"},\"plot\":{\"id\":\"edf85739-7d53-4d32-a2a4-348948af6b59\",\"subtype\":\"Figure\",\"type\":\"Plot\"},\"ticker\":{\"id\":\"cce5f898-77f0-4e49-b785-f372fc08d1d0\",\"type\":\"BasicTicker\"},\"visible\":null},\"id\":\"c5013307-0f75-4649-88a8-ae5608b1fb68\",\"type\":\"LinearAxis\"},{\"attributes\":{\"plot\":{\"id\":\"edf85739-7d53-4d32-a2a4-348948af6b59\",\"subtype\":\"Figure\",\"type\":\"Plot\"}},\"id\":\"d269cff7-373c-48e4-b0a2-e20d1e2731a3\",\"type\":\"HelpTool\"},{\"attributes\":{\"active_drag\":\"auto\",\"active_scroll\":\"auto\",\"active_tap\":\"auto\",\"tools\":[{\"id\":\"e5d4c312-1917-43cf-a576-e3d5f2996c5c\",\"type\":\"PanTool\"},{\"id\":\"a041a8e9-dd8b-4ca3-88cc-1a883d9e2ad1\",\"type\":\"WheelZoomTool\"},{\"id\":\"33fb8092-8ffb-45f3-85f1-91c1ca920fca\",\"type\":\"BoxZoomTool\"},{\"id\":\"88c83614-a043-4274-9932-b86433bb7983\",\"type\":\"SaveTool\"},{\"id\":\"b165f821-a2c1-4ce0-8088-0c8ce873bbe1\",\"type\":\"ResetTool\"},{\"id\":\"d269cff7-373c-48e4-b0a2-e20d1e2731a3\",\"type\":\"HelpTool\"}]},\"id\":\"33e578c8-bdc6-4c6b-85ab-a6a5d39c0360\",\"type\":\"Toolbar\"},{\"attributes\":{\"callback\":null,\"end\":136786630,\"start\":135757320},\"id\":\"8ed2ca47-5f6d-447d-b519-cb0a43c0c9ae\",\"type\":\"Range1d\"},{\"attributes\":{\"level\":\"glyph\",\"plot\":{\"id\":\"edf85739-7d53-4d32-a2a4-348948af6b59\",\"subtype\":\"Figure\",\"type\":\"Plot\"},\"source\":{\"id\":\"8871a2a5-4400-4f15-8964-5a994d78b724\",\"type\":\"ColumnDataSource\"},\"text\":{\"field\":\"vals\"},\"text_font_size\":{\"value\":\"9pt\"},\"text_font_style\":\"bold\",\"x\":{\"field\":\"x\"},\"y\":{\"field\":\"y\"}},\"id\":\"f78fcaa4-0f65-4aa4-a9e4-d98f6b47043f\",\"type\":\"LabelSet\"},{\"attributes\":{\"callback\":null,\"column_names\":[\"y\",\"x\",\"vals\"],\"data\":{\"vals\":[\"6_1503\",\"4_1699\",\"4_911\",\"26_1414\",\"10_2206\",\"17_137\",\"8_328\"],\"x\":[135771974,135915358,136092061,136398174,136501840,136596162,136605402],\"y\":[300.0,401.0,195.0,299.0,403.0,79.0,187.0]}},\"id\":\"8871a2a5-4400-4f15-8964-5a994d78b724\",\"type\":\"ColumnDataSource\"},{\"attributes\":{},\"id\":\"cce5f898-77f0-4e49-b785-f372fc08d1d0\",\"type\":\"BasicTicker\"},{\"attributes\":{\"line_color\":{\"field\":\"line_color\"},\"xs\":{\"field\":\"xs\"},\"ys\":{\"field\":\"ys\"}},\"id\":\"f020e14e-1f97-4640-b559-35ba9853fc41\",\"type\":\"MultiLine\"},{\"attributes\":{\"line_alpha\":{\"value\":0.1},\"line_color\":{\"value\":\"#1f77b4\"},\"xs\":{\"field\":\"xs\"},\"ys\":{\"field\":\"ys\"}},\"id\":\"330a8c72-5ec8-4223-84ed-099e8da5772c\",\"type\":\"MultiLine\"},{\"attributes\":{\"plot\":{\"id\":\"edf85739-7d53-4d32-a2a4-348948af6b59\",\"subtype\":\"Figure\",\"type\":\"Plot\"},\"ticker\":{\"id\":\"0cbc9777-d16e-4be0-b627-8e44bb5ce4cf\",\"type\":\"BasicTicker\"}},\"id\":\"d3c55bc4-1a7a-455e-ae3a-c8ff46e95157\",\"type\":\"Grid\"},{\"attributes\":{\"bottom\":{\"field\":\"bottom\"},\"fill_alpha\":{\"value\":0.1},\"fill_color\":{\"value\":\"#1f77b4\"},\"left\":{\"field\":\"left\"},\"line_alpha\":{\"value\":0.1},\"line_color\":{\"value\":\"#1f77b4\"},\"right\":{\"field\":\"right\"},\"top\":{\"field\":\"top\"}},\"id\":\"4e67a151-15f2-42d0-b055-1f4d28708082\",\"type\":\"Quad\"},{\"attributes\":{\"callback\":null,\"column_names\":[\"y\",\"x\",\"vals\"],\"data\":{\"vals\":[\"RAB3GAP1\",\"ZRANB3\",\"R3HDM1\",\"UBXN4\",\"LCT\",\"MCM6\",\"DARS\"],\"x\":[135869057.0,136122878.0,136385961.0,136520911.0,136570082.5,136615621.5,136703738.0],\"y\":[460.0,460.0,460.0,460.0,460.0,460.0,460.0]}},\"id\":\"d680e54d-a7a5-486a-9ec4-12ebd5db5b02\",\"type\":\"ColumnDataSource\"},{\"attributes\":{\"plot\":{\"id\":\"edf85739-7d53-4d32-a2a4-348948af6b59\",\"subtype\":\"Figure\",\"type\":\"Plot\"}},\"id\":\"88c83614-a043-4274-9932-b86433bb7983\",\"type\":\"SaveTool\"},{\"attributes\":{\"plot\":null,\"text\":null},\"id\":\"22089728-b7aa-4d91-ae32-94b01861fdf5\",\"type\":\"Title\"},{\"attributes\":{\"callback\":null,\"column_names\":[\"right\",\"bottom\",\"top\",\"left\",\"fill_color\"],\"data\":{\"bottom\":[250,350,150,250,350,50,150],\"fill_color\":[\"#61c461\",\"#61c461\",\"#00ff00\",\"#61c461\",\"#808080\",\"#c4c461\",\"#c46161\"],\"left\":[135771974,135915358,136092061,136398174,136501840,136596162,136605402],\"right\":[136140304,135995079,136407479,136474098,136555659,136785729,136624686],\"top\":[295,396,190,294,398,74,182]}},\"id\":\"0d6e831f-7a81-4aa9-a9b3-041e8c1470c6\",\"type\":\"ColumnDataSource\"},{\"attributes\":{},\"id\":\"0cbc9777-d16e-4be0-b627-8e44bb5ce4cf\",\"type\":\"BasicTicker\"},{\"attributes\":{\"callback\":null,\"column_names\":[\"right\",\"bottom\",\"top\",\"left\"],\"data\":{\"bottom\":[445,445,445,445,445,445,445],\"left\":[135809835,135957574,136289083,136499189,136545415,136597196,136664254],\"right\":[135928279,136288182,136482839,136542633,136594750,136634047,136743222],\"top\":[475,475,475,475,475,475,475]}},\"id\":\"dec4039e-6be4-4db6-80f6-576d577fbe31\",\"type\":\"ColumnDataSource\"},{\"attributes\":{\"bottom\":{\"field\":\"bottom\"},\"fill_color\":{\"value\":\"white\"},\"left\":{\"field\":\"left\"},\"right\":{\"field\":\"right\"},\"top\":{\"field\":\"top\"}},\"id\":\"cd2ced47-b749-42cf-8170-5937c59666c7\",\"type\":\"Quad\"},{\"attributes\":{\"overlay\":{\"id\":\"5d39979c-e3e8-41f9-9138-484b1c5d4ee8\",\"type\":\"BoxAnnotation\"},\"plot\":{\"id\":\"edf85739-7d53-4d32-a2a4-348948af6b59\",\"subtype\":\"Figure\",\"type\":\"Plot\"}},\"id\":\"33fb8092-8ffb-45f3-85f1-91c1ca920fca\",\"type\":\"BoxZoomTool\"},{\"attributes\":{\"data_source\":{\"id\":\"38639a2f-d1b4-4c5f-bca5-7d93f85a089c\",\"type\":\"ColumnDataSource\"},\"glyph\":{\"id\":\"f020e14e-1f97-4640-b559-35ba9853fc41\",\"type\":\"MultiLine\"},\"hover_glyph\":null,\"nonselection_glyph\":{\"id\":\"330a8c72-5ec8-4223-84ed-099e8da5772c\",\"type\":\"MultiLine\"},\"selection_glyph\":null},\"id\":\"66bf49f2-e261-418d-a7ca-83513d5890eb\",\"type\":\"GlyphRenderer\"},{\"attributes\":{\"plot\":{\"id\":\"edf85739-7d53-4d32-a2a4-348948af6b59\",\"subtype\":\"Figure\",\"type\":\"Plot\"}},\"id\":\"a041a8e9-dd8b-4ca3-88cc-1a883d9e2ad1\",\"type\":\"WheelZoomTool\"},{\"attributes\":{\"data_source\":{\"id\":\"0d6e831f-7a81-4aa9-a9b3-041e8c1470c6\",\"type\":\"ColumnDataSource\"},\"glyph\":{\"id\":\"51153f3e-4d48-4a32-8a21-a8b886125827\",\"type\":\"Quad\"},\"hover_glyph\":null,\"nonselection_glyph\":{\"id\":\"4e67a151-15f2-42d0-b055-1f4d28708082\",\"type\":\"Quad\"},\"selection_glyph\":null},\"id\":\"c0bc2e0c-3361-4173-b421-a0184ad9be80\",\"type\":\"GlyphRenderer\"},{\"attributes\":{},\"id\":\"d8fd04b8-8506-4f96-8720-eb65a5569572\",\"type\":\"BasicTickFormatter\"},{\"attributes\":{},\"id\":\"f6491def-43c7-4a1b-8e97-ad4bda735760\",\"type\":\"BasicTickFormatter\"},{\"attributes\":{\"bottom\":{\"field\":\"bottom\"},\"fill_alpha\":{\"value\":0.1},\"fill_color\":{\"value\":\"#1f77b4\"},\"left\":{\"field\":\"left\"},\"line_alpha\":{\"value\":0.1},\"line_color\":{\"value\":\"#1f77b4\"},\"right\":{\"field\":\"right\"},\"top\":{\"field\":\"top\"}},\"id\":\"e0566766-d30d-40d0-bbb6-6988fa4b7203\",\"type\":\"Quad\"},{\"attributes\":{\"data_source\":{\"id\":\"dec4039e-6be4-4db6-80f6-576d577fbe31\",\"type\":\"ColumnDataSource\"},\"glyph\":{\"id\":\"cd2ced47-b749-42cf-8170-5937c59666c7\",\"type\":\"Quad\"},\"hover_glyph\":null,\"nonselection_glyph\":{\"id\":\"e0566766-d30d-40d0-bbb6-6988fa4b7203\",\"type\":\"Quad\"},\"selection_glyph\":null},\"id\":\"45edc944-794f-4bcd-83f0-c6356b7a4130\",\"type\":\"GlyphRenderer\"},{\"attributes\":{\"bottom\":{\"field\":\"bottom\"},\"fill_color\":{\"field\":\"fill_color\"},\"left\":{\"field\":\"left\"},\"line_color\":{\"value\":null},\"right\":{\"field\":\"right\"},\"top\":{\"field\":\"top\"}},\"id\":\"51153f3e-4d48-4a32-8a21-a8b886125827\",\"type\":\"Quad\"},{\"attributes\":{\"callback\":null,\"column_names\":[\"xs\",\"ys\",\"line_color\"],\"data\":{\"line_color\":[\"black\",\"black\",\"black\",\"black\",\"black\",\"black\",\"black\",\"black\",\"black\",\"black\",\"black\",\"black\",\"black\",\"black\",\"black\",\"black\",\"black\",\"black\",\"black\",\"black\",\"black\",\"black\",\"black\",\"black\",\"black\",\"black\",\"black\",\"black\",\"black\",\"black\",\"black\",\"black\",\"black\",\"black\",\"black\",\"black\",\"black\",\"black\",\"black\",\"black\",\"black\",\"black\",\"black\",\"black\",\"black\",\"black\",\"black\",\"black\",\"black\",\"black\",\"black\",\"black\",\"black\",\"black\",\"black\",\"black\",\"black\",\"black\",\"black\",\"black\",\"black\",\"black\",\"black\",\"black\",\"black\",\"black\",\"black\",\"black\",\"black\",\"black\",\"black\",\"black\",\"black\",\"black\",\"black\"],\"xs\":[[135771974,135771974],[135859371,135859371],[135877562,135877562],[136022798,136022798],[136058820,136058820],[136140304,136140304],[135915358,135915358],[135954405,135954405],[135995073,135995073],[135995079,135995079],[136092061,136092061],[136273578,136273578],[136322676,136322676],[136407479,136407479],[136398174,136398174],[136402117,136402117],[136403749,136403749],[136409073,136409073],[136410299,136410299],[136413359,136413359],[136416855,136416855],[136416941,136416941],[136418348,136418348],[136419961,136419961],[136420690,136420690],[136422171,136422171],[136428460,136428460],[136430866,136430866],[136432103,136432103],[136437507,136437507],[136439090,136439090],[136439517,136439517],[136444123,136444123],[136445526,136445526],[136445869,136445869],[136455600,136455600],[136456642,136456642],[136462441,136462441],[136470714,136470714],[136474098,136474098],[136501840,136501840],[136505546,136505546],[136516748,136516748],[136522710,136522710],[136528004,136528004],[136539513,136539513],[136544752,136544752],[136546110,136546110],[136553529,136553529],[136555659,136555659],[136596162,136596162],[136598316,136598316],[136599520,136599520],[136601167,136601167],[136604113,136604113],[136604610,136604610],[136604699,136604699],[136609671,136609671],[136620957,136620957],[136646667,136646667],[136683320,136683320],[136697769,136697769],[136743172,136743172],[136776381,136776381],[136784743,136784743],[136785727,136785727],[136785729,136785729],[136605402,136605402],[136609320,136609320],[136611400,136611400],[136619744,136619744],[136621858,136621858],[136621941,136621941],[136624382,136624382],[136624686,136624686]],\"ys\":[[250,295],[250,295],[250,295],[250,295],[250,295],[250,295],[350,396],[350,396],[350,396],[350,396],[150,190],[150,190],[150,190],[150,190],[250,294],[250,294],[250,294],[250,294],[250,294],[250,294],[250,294],[250,294],[250,294],[250,294],[250,294],[250,294],[250,294],[250,294],[250,294],[250,294],[250,294],[250,294],[250,294],[250,294],[250,294],[250,294],[250,294],[250,294],[250,294],[250,294],[350,398],[350,398],[350,398],[350,398],[350,398],[350,398],[350,398],[350,398],[350,398],[350,398],[50,74],[50,74],[50,74],[50,74],[50,74],[50,74],[50,74],[50,74],[50,74],[50,74],[50,74],[50,74],[50,74],[50,74],[50,74],[50,74],[50,74],[150,182],[150,182],[150,182],[150,182],[150,182],[150,182],[150,182],[150,182]]}},\"id\":\"38639a2f-d1b4-4c5f-bca5-7d93f85a089c\",\"type\":\"ColumnDataSource\"},{\"attributes\":{\"formatter\":{\"id\":\"d8fd04b8-8506-4f96-8720-eb65a5569572\",\"type\":\"BasicTickFormatter\"},\"plot\":{\"id\":\"edf85739-7d53-4d32-a2a4-348948af6b59\",\"subtype\":\"Figure\",\"type\":\"Plot\"},\"ticker\":{\"id\":\"0cbc9777-d16e-4be0-b627-8e44bb5ce4cf\",\"type\":\"BasicTicker\"}},\"id\":\"fe5ec76e-5b93-479e-83b4-6fd29694a5f3\",\"type\":\"LinearAxis\"},{\"attributes\":{\"level\":\"glyph\",\"plot\":{\"id\":\"edf85739-7d53-4d32-a2a4-348948af6b59\",\"subtype\":\"Figure\",\"type\":\"Plot\"},\"source\":{\"id\":\"d680e54d-a7a5-486a-9ec4-12ebd5db5b02\",\"type\":\"ColumnDataSource\"},\"text\":{\"field\":\"vals\"},\"text_align\":\"center\",\"text_baseline\":\"middle\",\"text_font_size\":{\"value\":\"8pt\"},\"x\":{\"field\":\"x\"},\"y\":{\"field\":\"y\"}},\"id\":\"9b5dd249-c41b-4df7-999c-563f610b2d92\",\"type\":\"LabelSet\"}],\"root_ids\":[\"edf85739-7d53-4d32-a2a4-348948af6b59\"]},\"title\":\"Bokeh Application\",\"version\":\"0.12.0\"}};\n",
       "            var render_items = [{\"docid\":\"f4ac2da3-4bab-4df2-81be-486572da2831\",\"elementid\":\"b3398311-9c5f-4c38-9b39-caeec12559f7\",\"modelid\":\"edf85739-7d53-4d32-a2a4-348948af6b59\",\"notebook_comms_target\":\"796cacd1-94f2-4a40-b5c1-b3c343fc49ba\"}];\n",
       "            \n",
       "            Bokeh.embed.embed_items(docs_json, render_items);\n",
       "        });\n",
       "      },\n",
       "      function(Bokeh) {\n",
       "      }\n",
       "    ];\n",
       "  \n",
       "    function run_inline_js() {\n",
       "      for (var i = 0; i < inline_js.length; i++) {\n",
       "        inline_js[i](window.Bokeh);\n",
       "      }\n",
       "    }\n",
       "  \n",
       "    if (window._bokeh_is_loading === 0) {\n",
       "      console.log(\"Bokeh: BokehJS loaded, going straight to plotting\");\n",
       "      run_inline_js();\n",
       "    } else {\n",
       "      load_libs(js_urls, function() {\n",
       "        console.log(\"Bokeh: BokehJS plotting callback run at\", now());\n",
       "        run_inline_js();\n",
       "      });\n",
       "    }\n",
       "  }(this));\n",
       "</script>"
      ]
     },
     "metadata": {},
     "output_type": "display_data"
    },
    {
     "data": {
      "text/html": [
       "<p><code>&lt;Bokeh Notebook handle for <strong>In[30]</strong>&gt;</code></p>"
      ],
      "text/plain": [
       "<bokeh.io._CommsHandle at 0x7f46f0fef2d0>"
      ]
     },
     "execution_count": 30,
     "metadata": {},
     "output_type": "execute_result"
    }
   ],
   "source": [
    "di_8_328 = 354064\n",
    "di_17_137 = 354051\n",
    "plt_obj = dm.superset_yes_no([dm.di_4_911, dm.di_10_2206, di_8_328, di_17_137], \n",
    "                             [dm.di_24_1504, dm.di_7_1868, dm.di_7_1760, dm.di_64_1575, dm.di_11_765], \n",
    "                             min_match=0.001)\n",
    "plt = plt_obj.do_plot()\n",
    "am_4 = plt_obj.plot_context.yes_allele_mask\n",
    "show(plt)"
   ]
  },
  {
   "cell_type": "code",
   "execution_count": 31,
   "metadata": {
    "collapsed": false
   },
   "outputs": [
    {
     "data": {
      "text/html": [
       "<table>\n",
       "<thead><tr><th style=\"text-align:center\">index</th><th style=\"text-align:center\">first</th><th style=\"text-align:center\">length</th><th style=\"text-align:center\">snps</th><th style=\"text-align:center\" colspan=2>alleles</th><th style=\"text-align:center\" colspan=2>matches</th><th style=\"text-align:center\" colspan=2>afr</th><th style=\"text-align:center\" colspan=2>afx</th><th style=\"text-align:center\" colspan=2>amr</th><th style=\"text-align:center\" colspan=2>eas</th><th style=\"text-align:center\" colspan=2>eur</th><th style=\"text-align:center\" colspan=2>sas</th><th style=\"text-align:center\" colspan=2>sax</th></tr></thead>\n",
       "<tr class=\"even\"><td style=\"text-align: right;\">353921</td><td style=\"text-align: right;\">136,501,840</td><td style=\"text-align: right;\">53,819</td><td style=\"text-align: right;\">10</td><td style=\"text-align: right;\">2206</td><td style=\"text-align: right;\">0.00</td><td style=\"text-align: right;\">1</td><td style=\"text-align: right;\">1.00</td><td style=\"text-align: right;\">0</td><td style=\"text-align: right;\">0.00</td><td style=\"text-align: right;\">0</td><td style=\"text-align: right;\">0.00</td><td style=\"text-align: right;\">0</td><td style=\"text-align: right;\">0.00</td><td style=\"text-align: right;\">0</td><td style=\"text-align: right;\">0.00</td><td style=\"text-align: right;\">1</td><td style=\"text-align: right;\">7.28</td><td style=\"text-align: right;\">0</td><td style=\"text-align: right;\">0.00</td><td style=\"text-align: right;\">0</td><td style=\"text-align: right;\">0.00</td></tr>\n",
       "<tr><td style=\"text-align: right;\">353462</td><td style=\"text-align: right;\">135,915,358</td><td style=\"text-align: right;\">79,721</td><td style=\"text-align: right;\">4</td><td style=\"text-align: right;\">1699</td><td style=\"text-align: right;\">0.00</td><td style=\"text-align: right;\">1</td><td style=\"text-align: right;\">1.00</td><td style=\"text-align: right;\">0</td><td style=\"text-align: right;\">0.00</td><td style=\"text-align: right;\">0</td><td style=\"text-align: right;\">0.00</td><td style=\"text-align: right;\">0</td><td style=\"text-align: right;\">0.00</td><td style=\"text-align: right;\">0</td><td style=\"text-align: right;\">0.00</td><td style=\"text-align: right;\">1</td><td style=\"text-align: right;\">7.28</td><td style=\"text-align: right;\">0</td><td style=\"text-align: right;\">0.00</td><td style=\"text-align: right;\">0</td><td style=\"text-align: right;\">0.00</td></tr>\n",
       "<tr class=\"even\"><td style=\"text-align: right;\">353283</td><td style=\"text-align: right;\">135,771,974</td><td style=\"text-align: right;\">368,330</td><td style=\"text-align: right;\">6</td><td style=\"text-align: right;\">1503</td><td style=\"text-align: right;\">0.00</td><td style=\"text-align: right;\">1</td><td style=\"text-align: right;\">1.00</td><td style=\"text-align: right;\">0</td><td style=\"text-align: right;\">0.00</td><td style=\"text-align: right;\">0</td><td style=\"text-align: right;\">0.00</td><td style=\"text-align: right;\">0</td><td style=\"text-align: right;\">0.00</td><td style=\"text-align: right;\">0</td><td style=\"text-align: right;\">0.00</td><td style=\"text-align: right;\">1</td><td style=\"text-align: right;\">7.28</td><td style=\"text-align: right;\">0</td><td style=\"text-align: right;\">0.00</td><td style=\"text-align: right;\">0</td><td style=\"text-align: right;\">0.00</td></tr>\n",
       "<tr><td style=\"text-align: right;\">353797</td><td style=\"text-align: right;\">136,398,174</td><td style=\"text-align: right;\">75,924</td><td style=\"text-align: right;\">26</td><td style=\"text-align: right;\">1414</td><td style=\"text-align: right;\">0.00</td><td style=\"text-align: right;\">1</td><td style=\"text-align: right;\">1.00</td><td style=\"text-align: right;\">0</td><td style=\"text-align: right;\">0.00</td><td style=\"text-align: right;\">0</td><td style=\"text-align: right;\">0.00</td><td style=\"text-align: right;\">0</td><td style=\"text-align: right;\">0.00</td><td style=\"text-align: right;\">0</td><td style=\"text-align: right;\">0.00</td><td style=\"text-align: right;\">1</td><td style=\"text-align: right;\">7.28</td><td style=\"text-align: right;\">0</td><td style=\"text-align: right;\">0.00</td><td style=\"text-align: right;\">0</td><td style=\"text-align: right;\">0.00</td></tr>\n",
       "<tr class=\"even\"><td style=\"text-align: right;\">353604</td><td style=\"text-align: right;\">136,092,061</td><td style=\"text-align: right;\">315,418</td><td style=\"text-align: right;\">4</td><td style=\"text-align: right;\">911</td><td style=\"text-align: right;\">0.00</td><td style=\"text-align: right;\">1</td><td style=\"text-align: right;\">1.00</td><td style=\"text-align: right;\">0</td><td style=\"text-align: right;\">0.00</td><td style=\"text-align: right;\">0</td><td style=\"text-align: right;\">0.00</td><td style=\"text-align: right;\">0</td><td style=\"text-align: right;\">0.00</td><td style=\"text-align: right;\">0</td><td style=\"text-align: right;\">0.00</td><td style=\"text-align: right;\">1</td><td style=\"text-align: right;\">7.28</td><td style=\"text-align: right;\">0</td><td style=\"text-align: right;\">0.00</td><td style=\"text-align: right;\">0</td><td style=\"text-align: right;\">0.00</td></tr>\n",
       "<tr><td style=\"text-align: right;\">354064</td><td style=\"text-align: right;\">136,605,402</td><td style=\"text-align: right;\">19,284</td><td style=\"text-align: right;\">8</td><td style=\"text-align: right;\">328</td><td style=\"text-align: right;\">0.00</td><td style=\"text-align: right;\">1</td><td style=\"text-align: right;\">1.00</td><td style=\"text-align: right;\">0</td><td style=\"text-align: right;\">0.00</td><td style=\"text-align: right;\">0</td><td style=\"text-align: right;\">0.00</td><td style=\"text-align: right;\">0</td><td style=\"text-align: right;\">0.00</td><td style=\"text-align: right;\">0</td><td style=\"text-align: right;\">0.00</td><td style=\"text-align: right;\">1</td><td style=\"text-align: right;\">7.28</td><td style=\"text-align: right;\">0</td><td style=\"text-align: right;\">0.00</td><td style=\"text-align: right;\">0</td><td style=\"text-align: right;\">0.00</td></tr>\n",
       "<tr class=\"even\"><td style=\"text-align: right;\">354051</td><td style=\"text-align: right;\">136,596,162</td><td style=\"text-align: right;\">189,567</td><td style=\"text-align: right;\">17</td><td style=\"text-align: right;\">137</td><td style=\"text-align: right;\">0.01</td><td style=\"text-align: right;\">1</td><td style=\"text-align: right;\">1.00</td><td style=\"text-align: right;\">0</td><td style=\"text-align: right;\">0.00</td><td style=\"text-align: right;\">0</td><td style=\"text-align: right;\">0.00</td><td style=\"text-align: right;\">0</td><td style=\"text-align: right;\">0.00</td><td style=\"text-align: right;\">0</td><td style=\"text-align: right;\">0.00</td><td style=\"text-align: right;\">1</td><td style=\"text-align: right;\">7.28</td><td style=\"text-align: right;\">0</td><td style=\"text-align: right;\">0.00</td><td style=\"text-align: right;\">0</td><td style=\"text-align: right;\">0.00</td></tr>\n",
       "</table>"
      ],
      "text/plain": [
       "<IPython.core.display.HTML object>"
      ]
     },
     "execution_count": 31,
     "metadata": {},
     "output_type": "execute_result"
    }
   ],
   "source": [
    "HTML(plt_obj.get_html())"
   ]
  },
  {
   "cell_type": "code",
   "execution_count": 32,
   "metadata": {
    "collapsed": false
   },
   "outputs": [
    {
     "data": {
      "text/plain": [
       "array([1, 1, 1, 1, 1, 1, 1, 1, 1, 1, 1, 1, 1, 1, 1, 1, 1, 1, 1, 1, 1, 0, 0,\n",
       "       0, 0, 0, 0, 0, 0, 0, 0, 0, 0, 0, 0, 0, 0, 0, 0, 0, 0, 0, 0, 0, 0, 0,\n",
       "       0, 0, 0, 0, 0, 0, 0, 0, 0, 0, 0, 0, 0, 0, 0, 0, 0, 0])"
      ]
     },
     "execution_count": 32,
     "metadata": {},
     "output_type": "execute_result"
    }
   ],
   "source": [
    "sa_64_1575.alleles_per_snp(am_4)"
   ]
  },
  {
   "cell_type": "code",
   "execution_count": 33,
   "metadata": {
    "collapsed": false
   },
   "outputs": [
    {
     "data": {
      "text/html": [
       "\n",
       "\n",
       "    <div class=\"bk-root\">\n",
       "        <div class=\"plotdiv\" id=\"1cc02ba1-a54d-4e28-a065-1a40bf5f70cc\"></div>\n",
       "    </div>\n",
       "<script type=\"text/javascript\">\n",
       "  \n",
       "  (function(global) {\n",
       "    function now() {\n",
       "      return new Date();\n",
       "    }\n",
       "  \n",
       "    if (typeof (window._bokeh_onload_callbacks) === \"undefined\") {\n",
       "      window._bokeh_onload_callbacks = [];\n",
       "    }\n",
       "  \n",
       "    function run_callbacks() {\n",
       "      window._bokeh_onload_callbacks.forEach(function(callback) { callback() });\n",
       "      delete window._bokeh_onload_callbacks\n",
       "      console.info(\"Bokeh: all callbacks have finished\");\n",
       "    }\n",
       "  \n",
       "    function load_libs(js_urls, callback) {\n",
       "      window._bokeh_onload_callbacks.push(callback);\n",
       "      if (window._bokeh_is_loading > 0) {\n",
       "        console.log(\"Bokeh: BokehJS is being loaded, scheduling callback at\", now());\n",
       "        return null;\n",
       "      }\n",
       "      if (js_urls == null || js_urls.length === 0) {\n",
       "        run_callbacks();\n",
       "        return null;\n",
       "      }\n",
       "      console.log(\"Bokeh: BokehJS not loaded, scheduling load and callback at\", now());\n",
       "      window._bokeh_is_loading = js_urls.length;\n",
       "      for (var i = 0; i < js_urls.length; i++) {\n",
       "        var url = js_urls[i];\n",
       "        var s = document.createElement('script');\n",
       "        s.src = url;\n",
       "        s.async = false;\n",
       "        s.onreadystatechange = s.onload = function() {\n",
       "          window._bokeh_is_loading--;\n",
       "          if (window._bokeh_is_loading === 0) {\n",
       "            console.log(\"Bokeh: all BokehJS libraries loaded\");\n",
       "            run_callbacks()\n",
       "          }\n",
       "        };\n",
       "        s.onerror = function() {\n",
       "          console.warn(\"failed to load library \" + url);\n",
       "        };\n",
       "        console.log(\"Bokeh: injecting script tag for BokehJS library: \", url);\n",
       "        document.getElementsByTagName(\"head\")[0].appendChild(s);\n",
       "      }\n",
       "    };var element = document.getElementById(\"1cc02ba1-a54d-4e28-a065-1a40bf5f70cc\");\n",
       "    if (element == null) {\n",
       "      console.log(\"Bokeh: ERROR: autoload.js configured with elementid '1cc02ba1-a54d-4e28-a065-1a40bf5f70cc' but no matching script tag was found. \")\n",
       "      return false;\n",
       "    }\n",
       "  \n",
       "    var js_urls = [];\n",
       "  \n",
       "    var inline_js = [\n",
       "      function(Bokeh) {\n",
       "        Bokeh.$(function() {\n",
       "            var docs_json = {\"49041a68-5888-4576-adf7-92fbf1e9b82f\":{\"roots\":{\"references\":[{\"attributes\":{\"plot\":{\"id\":\"a2d9948b-c3bb-4402-b463-dbaf5bb598df\",\"subtype\":\"Figure\",\"type\":\"Plot\"}},\"id\":\"1649c410-e899-4b14-b03f-e30b3811be29\",\"type\":\"WheelZoomTool\"},{\"attributes\":{},\"id\":\"41c2db0e-f3d4-4a53-97cc-54378c2f0784\",\"type\":\"BasicTickFormatter\"},{\"attributes\":{\"line_alpha\":{\"value\":0.1},\"line_color\":{\"value\":\"#1f77b4\"},\"xs\":{\"field\":\"xs\"},\"ys\":{\"field\":\"ys\"}},\"id\":\"1000829b-be49-440f-b299-11b3522a54d5\",\"type\":\"MultiLine\"},{\"attributes\":{\"callback\":null,\"end\":400},\"id\":\"5f09b6c1-22e1-477a-8eb6-602f02e10741\",\"type\":\"Range1d\"},{\"attributes\":{\"bottom\":{\"field\":\"bottom\"},\"fill_color\":{\"field\":\"fill_color\"},\"left\":{\"field\":\"left\"},\"line_color\":{\"value\":null},\"right\":{\"field\":\"right\"},\"top\":{\"field\":\"top\"}},\"id\":\"d6918836-1a1d-41e2-8548-0422add462f9\",\"type\":\"Quad\"},{\"attributes\":{\"below\":[{\"id\":\"fbac7715-a470-4c20-a2d4-b824d1624abd\",\"type\":\"LinearAxis\"}],\"left\":[{\"id\":\"7a2927cf-2ab2-47af-be43-0ae964e003fd\",\"type\":\"LinearAxis\"}],\"plot_height\":400,\"plot_width\":900,\"renderers\":[{\"id\":\"fbac7715-a470-4c20-a2d4-b824d1624abd\",\"type\":\"LinearAxis\"},{\"id\":\"8baf9533-e607-4d1c-8b37-6f2da84ee483\",\"type\":\"Grid\"},{\"id\":\"7a2927cf-2ab2-47af-be43-0ae964e003fd\",\"type\":\"LinearAxis\"},{\"id\":\"62a17620-2350-4535-bc96-a92cbce1822c\",\"type\":\"Grid\"},{\"id\":\"be47c3f4-5578-43b8-8d54-b9d1be298f1f\",\"type\":\"BoxAnnotation\"},{\"id\":\"4846c63a-87a3-4682-a5ef-8f8fd2dc464d\",\"type\":\"GlyphRenderer\"},{\"id\":\"ae79c6ab-c019-431c-8c40-8781582ee1fe\",\"type\":\"GlyphRenderer\"},{\"id\":\"04980cae-ea9e-458e-961f-deb5144b9d20\",\"type\":\"LabelSet\"},{\"id\":\"94a171f6-6c01-4ec6-882e-303efa370327\",\"type\":\"GlyphRenderer\"},{\"id\":\"4ec4281b-a9bc-4ecc-81f6-a11dd15c8a75\",\"type\":\"LabelSet\"}],\"title\":{\"id\":\"00d3372c-48e9-45bc-bf6f-d81f519cc686\",\"type\":\"Title\"},\"tool_events\":{\"id\":\"d9670a04-cd93-4cfa-a8be-6dd3b63f1d3b\",\"type\":\"ToolEvents\"},\"toolbar\":{\"id\":\"6daace18-2251-4cba-8d9d-9eec3d8ff53e\",\"type\":\"Toolbar\"},\"toolbar_location\":null,\"x_range\":{\"id\":\"246b57bc-b4e5-45d0-860a-93cd844001d2\",\"type\":\"Range1d\"},\"y_range\":{\"id\":\"5f09b6c1-22e1-477a-8eb6-602f02e10741\",\"type\":\"Range1d\"}},\"id\":\"a2d9948b-c3bb-4402-b463-dbaf5bb598df\",\"subtype\":\"Figure\",\"type\":\"Plot\"},{\"attributes\":{\"bottom\":{\"field\":\"bottom\"},\"fill_color\":{\"value\":\"white\"},\"left\":{\"field\":\"left\"},\"right\":{\"field\":\"right\"},\"top\":{\"field\":\"top\"}},\"id\":\"23c49863-f409-4d87-9730-eb1b5549d9f3\",\"type\":\"Quad\"},{\"attributes\":{},\"id\":\"8d982403-1ddd-43a3-9f51-a78c9efdd146\",\"type\":\"BasicTickFormatter\"},{\"attributes\":{\"data_source\":{\"id\":\"112ca6b7-e02e-42d9-8db0-0965ea147c95\",\"type\":\"ColumnDataSource\"},\"glyph\":{\"id\":\"d6918836-1a1d-41e2-8548-0422add462f9\",\"type\":\"Quad\"},\"hover_glyph\":null,\"nonselection_glyph\":{\"id\":\"b188f885-0428-4e6d-a42f-6c6bcbb91c18\",\"type\":\"Quad\"},\"selection_glyph\":null},\"id\":\"4846c63a-87a3-4682-a5ef-8f8fd2dc464d\",\"type\":\"GlyphRenderer\"},{\"attributes\":{\"dimension\":1,\"plot\":{\"id\":\"a2d9948b-c3bb-4402-b463-dbaf5bb598df\",\"subtype\":\"Figure\",\"type\":\"Plot\"},\"ticker\":{\"id\":\"a1152b4b-df67-41a3-a07d-73ebe79dd319\",\"type\":\"BasicTicker\"}},\"id\":\"62a17620-2350-4535-bc96-a92cbce1822c\",\"type\":\"Grid\"},{\"attributes\":{\"data_source\":{\"id\":\"6b3dd599-b5a7-45c2-aa8c-aa6360473aa2\",\"type\":\"ColumnDataSource\"},\"glyph\":{\"id\":\"b852d871-d715-471e-b169-94b8bba2619f\",\"type\":\"MultiLine\"},\"hover_glyph\":null,\"nonselection_glyph\":{\"id\":\"1000829b-be49-440f-b299-11b3522a54d5\",\"type\":\"MultiLine\"},\"selection_glyph\":null},\"id\":\"ae79c6ab-c019-431c-8c40-8781582ee1fe\",\"type\":\"GlyphRenderer\"},{\"attributes\":{\"plot\":null,\"text\":null},\"id\":\"00d3372c-48e9-45bc-bf6f-d81f519cc686\",\"type\":\"Title\"},{\"attributes\":{\"callback\":null,\"column_names\":[\"y\",\"x\",\"vals\"],\"data\":{\"vals\":[\"RAB3GAP1\",\"ZRANB3\",\"R3HDM1\",\"UBXN4\",\"LCT\",\"MCM6\",\"DARS\"],\"x\":[135869057.0,136122878.0,136385961.0,136520911.0,136570082.5,136615621.5,136703738.0],\"y\":[360.0,360.0,360.0,360.0,360.0,360.0,360.0]}},\"id\":\"414d4410-2562-4031-a506-36416ae75ce7\",\"type\":\"ColumnDataSource\"},{\"attributes\":{\"data_source\":{\"id\":\"77106b0f-5569-4f09-8cc4-909141f072fe\",\"type\":\"ColumnDataSource\"},\"glyph\":{\"id\":\"23c49863-f409-4d87-9730-eb1b5549d9f3\",\"type\":\"Quad\"},\"hover_glyph\":null,\"nonselection_glyph\":{\"id\":\"0719f527-d827-413c-b012-508197be261d\",\"type\":\"Quad\"},\"selection_glyph\":null},\"id\":\"94a171f6-6c01-4ec6-882e-303efa370327\",\"type\":\"GlyphRenderer\"},{\"attributes\":{\"plot\":{\"id\":\"a2d9948b-c3bb-4402-b463-dbaf5bb598df\",\"subtype\":\"Figure\",\"type\":\"Plot\"},\"ticker\":{\"id\":\"0c59201a-934f-4213-8a83-d5ff0d98fefd\",\"type\":\"BasicTicker\"}},\"id\":\"8baf9533-e607-4d1c-8b37-6f2da84ee483\",\"type\":\"Grid\"},{\"attributes\":{\"level\":\"glyph\",\"plot\":{\"id\":\"a2d9948b-c3bb-4402-b463-dbaf5bb598df\",\"subtype\":\"Figure\",\"type\":\"Plot\"},\"source\":{\"id\":\"414d4410-2562-4031-a506-36416ae75ce7\",\"type\":\"ColumnDataSource\"},\"text\":{\"field\":\"vals\"},\"text_align\":\"center\",\"text_baseline\":\"middle\",\"text_font_size\":{\"value\":\"8pt\"},\"x\":{\"field\":\"x\"},\"y\":{\"field\":\"y\"}},\"id\":\"4ec4281b-a9bc-4ecc-81f6-a11dd15c8a75\",\"type\":\"LabelSet\"},{\"attributes\":{},\"id\":\"a1152b4b-df67-41a3-a07d-73ebe79dd319\",\"type\":\"BasicTicker\"},{\"attributes\":{\"bottom\":{\"field\":\"bottom\"},\"fill_alpha\":{\"value\":0.1},\"fill_color\":{\"value\":\"#1f77b4\"},\"left\":{\"field\":\"left\"},\"line_alpha\":{\"value\":0.1},\"line_color\":{\"value\":\"#1f77b4\"},\"right\":{\"field\":\"right\"},\"top\":{\"field\":\"top\"}},\"id\":\"0719f527-d827-413c-b012-508197be261d\",\"type\":\"Quad\"},{\"attributes\":{\"plot\":{\"id\":\"a2d9948b-c3bb-4402-b463-dbaf5bb598df\",\"subtype\":\"Figure\",\"type\":\"Plot\"}},\"id\":\"83746011-d775-49ab-88f6-283a7fdc7193\",\"type\":\"ResetTool\"},{\"attributes\":{\"line_color\":{\"field\":\"line_color\"},\"xs\":{\"field\":\"xs\"},\"ys\":{\"field\":\"ys\"}},\"id\":\"b852d871-d715-471e-b169-94b8bba2619f\",\"type\":\"MultiLine\"},{\"attributes\":{\"callback\":null,\"end\":136786630,\"start\":135757320},\"id\":\"246b57bc-b4e5-45d0-860a-93cd844001d2\",\"type\":\"Range1d\"},{\"attributes\":{\"callback\":null,\"column_names\":[\"xs\",\"ys\",\"line_color\"],\"data\":{\"line_color\":[\"black\",\"black\",\"black\",\"black\",\"black\",\"black\",\"black\",\"black\",\"black\",\"black\",\"black\",\"black\",\"black\",\"black\",\"black\",\"black\",\"black\",\"black\",\"black\",\"black\",\"black\",\"black\",\"black\",\"black\",\"black\",\"black\",\"black\",\"black\",\"black\",\"black\",\"black\",\"black\",\"black\",\"black\",\"black\",\"black\",\"black\",\"black\",\"black\",\"black\",\"black\",\"black\",\"black\",\"black\",\"black\",\"black\",\"black\",\"black\",\"black\",\"black\",\"black\",\"black\",\"black\",\"black\",\"black\",\"black\",\"black\",\"black\"],\"xs\":[[135771974,135771974],[135859371,135859371],[135877562,135877562],[136022798,136022798],[136058820,136058820],[136140304,136140304],[135915358,135915358],[135954405,135954405],[135995073,135995073],[135995079,135995079],[136092061,136092061],[136273578,136273578],[136322676,136322676],[136407479,136407479],[136398174,136398174],[136402117,136402117],[136403749,136403749],[136409073,136409073],[136410299,136410299],[136413359,136413359],[136416855,136416855],[136416941,136416941],[136418348,136418348],[136419961,136419961],[136420690,136420690],[136422171,136422171],[136428460,136428460],[136430866,136430866],[136432103,136432103],[136437507,136437507],[136439090,136439090],[136439517,136439517],[136444123,136444123],[136445526,136445526],[136445869,136445869],[136455600,136455600],[136456642,136456642],[136462441,136462441],[136470714,136470714],[136474098,136474098],[136501840,136501840],[136505546,136505546],[136516748,136516748],[136522710,136522710],[136528004,136528004],[136539513,136539513],[136544752,136544752],[136546110,136546110],[136553529,136553529],[136555659,136555659],[136605402,136605402],[136609320,136609320],[136611400,136611400],[136619744,136619744],[136621858,136621858],[136621941,136621941],[136624382,136624382],[136624686,136624686]],\"ys\":[[150,195],[150,195],[150,195],[150,195],[150,195],[150,195],[250,296],[250,296],[250,296],[250,296],[50,90],[50,90],[50,90],[50,90],[150,194],[150,194],[150,194],[150,194],[150,194],[150,194],[150,194],[150,194],[150,194],[150,194],[150,194],[150,194],[150,194],[150,194],[150,194],[150,194],[150,194],[150,194],[150,194],[150,194],[150,194],[150,194],[150,194],[150,194],[150,194],[150,194],[250,298],[250,298],[250,298],[250,298],[250,298],[250,298],[250,298],[250,298],[250,298],[250,298],[50,82],[50,82],[50,82],[50,82],[50,82],[50,82],[50,82],[50,82]]}},\"id\":\"6b3dd599-b5a7-45c2-aa8c-aa6360473aa2\",\"type\":\"ColumnDataSource\"},{\"attributes\":{\"level\":\"glyph\",\"plot\":{\"id\":\"a2d9948b-c3bb-4402-b463-dbaf5bb598df\",\"subtype\":\"Figure\",\"type\":\"Plot\"},\"source\":{\"id\":\"686c5b7a-81e6-443d-a926-00b43597e010\",\"type\":\"ColumnDataSource\"},\"text\":{\"field\":\"vals\"},\"text_font_size\":{\"value\":\"9pt\"},\"text_font_style\":\"bold\",\"x\":{\"field\":\"x\"},\"y\":{\"field\":\"y\"}},\"id\":\"04980cae-ea9e-458e-961f-deb5144b9d20\",\"type\":\"LabelSet\"},{\"attributes\":{},\"id\":\"d9670a04-cd93-4cfa-a8be-6dd3b63f1d3b\",\"type\":\"ToolEvents\"},{\"attributes\":{\"plot\":{\"id\":\"a2d9948b-c3bb-4402-b463-dbaf5bb598df\",\"subtype\":\"Figure\",\"type\":\"Plot\"}},\"id\":\"7401ae1e-1eca-4d81-8f3d-1f975892702d\",\"type\":\"SaveTool\"},{\"attributes\":{\"callback\":null,\"column_names\":[\"y\",\"x\",\"vals\"],\"data\":{\"vals\":[\"6_1503\",\"4_1699\",\"4_911\",\"26_1414\",\"10_2206\",\"8_328\"],\"x\":[135771974,135915358,136092061,136398174,136501840,136605402],\"y\":[200.0,301.0,95.0,199.0,303.0,87.0]}},\"id\":\"686c5b7a-81e6-443d-a926-00b43597e010\",\"type\":\"ColumnDataSource\"},{\"attributes\":{\"formatter\":{\"id\":\"8d982403-1ddd-43a3-9f51-a78c9efdd146\",\"type\":\"BasicTickFormatter\"},\"plot\":{\"id\":\"a2d9948b-c3bb-4402-b463-dbaf5bb598df\",\"subtype\":\"Figure\",\"type\":\"Plot\"},\"ticker\":{\"id\":\"a1152b4b-df67-41a3-a07d-73ebe79dd319\",\"type\":\"BasicTicker\"},\"visible\":null},\"id\":\"7a2927cf-2ab2-47af-be43-0ae964e003fd\",\"type\":\"LinearAxis\"},{\"attributes\":{\"bottom_units\":\"screen\",\"fill_alpha\":{\"value\":0.5},\"fill_color\":{\"value\":\"lightgrey\"},\"left_units\":\"screen\",\"level\":\"overlay\",\"line_alpha\":{\"value\":1.0},\"line_color\":{\"value\":\"black\"},\"line_dash\":[4,4],\"line_width\":{\"value\":2},\"plot\":null,\"render_mode\":\"css\",\"right_units\":\"screen\",\"top_units\":\"screen\"},\"id\":\"be47c3f4-5578-43b8-8d54-b9d1be298f1f\",\"type\":\"BoxAnnotation\"},{\"attributes\":{\"callback\":null,\"column_names\":[\"right\",\"bottom\",\"top\",\"left\"],\"data\":{\"bottom\":[345,345,345,345,345,345,345],\"left\":[135809835,135957574,136289083,136499189,136545415,136597196,136664254],\"right\":[135928279,136288182,136482839,136542633,136594750,136634047,136743222],\"top\":[375,375,375,375,375,375,375]}},\"id\":\"77106b0f-5569-4f09-8cc4-909141f072fe\",\"type\":\"ColumnDataSource\"},{\"attributes\":{\"overlay\":{\"id\":\"be47c3f4-5578-43b8-8d54-b9d1be298f1f\",\"type\":\"BoxAnnotation\"},\"plot\":{\"id\":\"a2d9948b-c3bb-4402-b463-dbaf5bb598df\",\"subtype\":\"Figure\",\"type\":\"Plot\"}},\"id\":\"ddb2102c-117c-4c2c-b598-822b131e2f89\",\"type\":\"BoxZoomTool\"},{\"attributes\":{},\"id\":\"0c59201a-934f-4213-8a83-d5ff0d98fefd\",\"type\":\"BasicTicker\"},{\"attributes\":{\"active_drag\":\"auto\",\"active_scroll\":\"auto\",\"active_tap\":\"auto\",\"tools\":[{\"id\":\"e2cd2b37-90f5-4a15-b9d6-e2937d53e09b\",\"type\":\"PanTool\"},{\"id\":\"1649c410-e899-4b14-b03f-e30b3811be29\",\"type\":\"WheelZoomTool\"},{\"id\":\"ddb2102c-117c-4c2c-b598-822b131e2f89\",\"type\":\"BoxZoomTool\"},{\"id\":\"7401ae1e-1eca-4d81-8f3d-1f975892702d\",\"type\":\"SaveTool\"},{\"id\":\"83746011-d775-49ab-88f6-283a7fdc7193\",\"type\":\"ResetTool\"},{\"id\":\"d33cb923-3556-450f-bacf-a8abfeac2875\",\"type\":\"HelpTool\"}]},\"id\":\"6daace18-2251-4cba-8d9d-9eec3d8ff53e\",\"type\":\"Toolbar\"},{\"attributes\":{\"plot\":{\"id\":\"a2d9948b-c3bb-4402-b463-dbaf5bb598df\",\"subtype\":\"Figure\",\"type\":\"Plot\"}},\"id\":\"e2cd2b37-90f5-4a15-b9d6-e2937d53e09b\",\"type\":\"PanTool\"},{\"attributes\":{\"formatter\":{\"id\":\"41c2db0e-f3d4-4a53-97cc-54378c2f0784\",\"type\":\"BasicTickFormatter\"},\"plot\":{\"id\":\"a2d9948b-c3bb-4402-b463-dbaf5bb598df\",\"subtype\":\"Figure\",\"type\":\"Plot\"},\"ticker\":{\"id\":\"0c59201a-934f-4213-8a83-d5ff0d98fefd\",\"type\":\"BasicTicker\"}},\"id\":\"fbac7715-a470-4c20-a2d4-b824d1624abd\",\"type\":\"LinearAxis\"},{\"attributes\":{\"callback\":null,\"column_names\":[\"right\",\"bottom\",\"top\",\"left\",\"fill_color\"],\"data\":{\"bottom\":[150,250,50,150,250,50],\"fill_color\":[\"#61c461\",\"#61c461\",\"#00ff00\",\"#61c461\",\"#808080\",\"#c46161\"],\"left\":[135771974,135915358,136092061,136398174,136501840,136605402],\"right\":[136140304,135995079,136407479,136474098,136555659,136624686],\"top\":[195,296,90,194,298,82]}},\"id\":\"112ca6b7-e02e-42d9-8db0-0965ea147c95\",\"type\":\"ColumnDataSource\"},{\"attributes\":{\"plot\":{\"id\":\"a2d9948b-c3bb-4402-b463-dbaf5bb598df\",\"subtype\":\"Figure\",\"type\":\"Plot\"}},\"id\":\"d33cb923-3556-450f-bacf-a8abfeac2875\",\"type\":\"HelpTool\"},{\"attributes\":{\"bottom\":{\"field\":\"bottom\"},\"fill_alpha\":{\"value\":0.1},\"fill_color\":{\"value\":\"#1f77b4\"},\"left\":{\"field\":\"left\"},\"line_alpha\":{\"value\":0.1},\"line_color\":{\"value\":\"#1f77b4\"},\"right\":{\"field\":\"right\"},\"top\":{\"field\":\"top\"}},\"id\":\"b188f885-0428-4e6d-a42f-6c6bcbb91c18\",\"type\":\"Quad\"}],\"root_ids\":[\"a2d9948b-c3bb-4402-b463-dbaf5bb598df\"]},\"title\":\"Bokeh Application\",\"version\":\"0.12.0\"}};\n",
       "            var render_items = [{\"docid\":\"49041a68-5888-4576-adf7-92fbf1e9b82f\",\"elementid\":\"1cc02ba1-a54d-4e28-a065-1a40bf5f70cc\",\"modelid\":\"a2d9948b-c3bb-4402-b463-dbaf5bb598df\",\"notebook_comms_target\":\"4ed06d67-b82a-479b-90c7-671b9ebcdb2d\"}];\n",
       "            \n",
       "            Bokeh.embed.embed_items(docs_json, render_items);\n",
       "        });\n",
       "      },\n",
       "      function(Bokeh) {\n",
       "      }\n",
       "    ];\n",
       "  \n",
       "    function run_inline_js() {\n",
       "      for (var i = 0; i < inline_js.length; i++) {\n",
       "        inline_js[i](window.Bokeh);\n",
       "      }\n",
       "    }\n",
       "  \n",
       "    if (window._bokeh_is_loading === 0) {\n",
       "      console.log(\"Bokeh: BokehJS loaded, going straight to plotting\");\n",
       "      run_inline_js();\n",
       "    } else {\n",
       "      load_libs(js_urls, function() {\n",
       "        console.log(\"Bokeh: BokehJS plotting callback run at\", now());\n",
       "        run_inline_js();\n",
       "      });\n",
       "    }\n",
       "  }(this));\n",
       "</script>"
      ]
     },
     "metadata": {},
     "output_type": "display_data"
    },
    {
     "data": {
      "text/html": [
       "<p><code>&lt;Bokeh Notebook handle for <strong>In[33]</strong>&gt;</code></p>"
      ],
      "text/plain": [
       "<bokeh.io._CommsHandle at 0x7f46f10ca2d0>"
      ]
     },
     "execution_count": 33,
     "metadata": {},
     "output_type": "execute_result"
    }
   ],
   "source": [
    "plt_obj = dm.superset_yes_no([dm.di_4_911, dm.di_10_2206, di_8_328], \n",
    "                             [di_17_137, \n",
    "                              dm.di_24_1504, dm.di_7_1868, dm.di_7_1760, dm.di_64_1575, dm.di_11_765], \n",
    "                             min_match=0.001)\n",
    "plt = plt_obj.do_plot()\n",
    "am_5 = plt_obj.plot_context.yes_allele_mask\n",
    "show(plt)"
   ]
  },
  {
   "cell_type": "code",
   "execution_count": 34,
   "metadata": {
    "collapsed": false
   },
   "outputs": [
    {
     "data": {
      "text/html": [
       "<table>\n",
       "<thead><tr><th style=\"text-align:center\">index</th><th style=\"text-align:center\">first</th><th style=\"text-align:center\">length</th><th style=\"text-align:center\">snps</th><th style=\"text-align:center\" colspan=2>alleles</th><th style=\"text-align:center\" colspan=2>matches</th><th style=\"text-align:center\" colspan=2>afr</th><th style=\"text-align:center\" colspan=2>afx</th><th style=\"text-align:center\" colspan=2>amr</th><th style=\"text-align:center\" colspan=2>eas</th><th style=\"text-align:center\" colspan=2>eur</th><th style=\"text-align:center\" colspan=2>sas</th><th style=\"text-align:center\" colspan=2>sax</th></tr></thead>\n",
       "<tr class=\"even\"><td style=\"text-align: right;\">353921</td><td style=\"text-align: right;\">136,501,840</td><td style=\"text-align: right;\">53,819</td><td style=\"text-align: right;\">10</td><td style=\"text-align: right;\">2206</td><td style=\"text-align: right;\">0.00</td><td style=\"text-align: right;\">3</td><td style=\"text-align: right;\">1.00</td><td style=\"text-align: right;\">0</td><td style=\"text-align: right;\">0.00</td><td style=\"text-align: right;\">0</td><td style=\"text-align: right;\">0.00</td><td style=\"text-align: right;\">1</td><td style=\"text-align: right;\">1.77</td><td style=\"text-align: right;\">0</td><td style=\"text-align: right;\">0.00</td><td style=\"text-align: right;\">2</td><td style=\"text-align: right;\">5.01</td><td style=\"text-align: right;\">0</td><td style=\"text-align: right;\">0.00</td><td style=\"text-align: right;\">0</td><td style=\"text-align: right;\">0.00</td></tr>\n",
       "<tr><td style=\"text-align: right;\">353462</td><td style=\"text-align: right;\">135,915,358</td><td style=\"text-align: right;\">79,721</td><td style=\"text-align: right;\">4</td><td style=\"text-align: right;\">1699</td><td style=\"text-align: right;\">0.00</td><td style=\"text-align: right;\">3</td><td style=\"text-align: right;\">1.00</td><td style=\"text-align: right;\">0</td><td style=\"text-align: right;\">0.00</td><td style=\"text-align: right;\">0</td><td style=\"text-align: right;\">0.00</td><td style=\"text-align: right;\">1</td><td style=\"text-align: right;\">1.77</td><td style=\"text-align: right;\">0</td><td style=\"text-align: right;\">0.00</td><td style=\"text-align: right;\">2</td><td style=\"text-align: right;\">5.01</td><td style=\"text-align: right;\">0</td><td style=\"text-align: right;\">0.00</td><td style=\"text-align: right;\">0</td><td style=\"text-align: right;\">0.00</td></tr>\n",
       "<tr class=\"even\"><td style=\"text-align: right;\">353283</td><td style=\"text-align: right;\">135,771,974</td><td style=\"text-align: right;\">368,330</td><td style=\"text-align: right;\">6</td><td style=\"text-align: right;\">1503</td><td style=\"text-align: right;\">0.00</td><td style=\"text-align: right;\">3</td><td style=\"text-align: right;\">1.00</td><td style=\"text-align: right;\">0</td><td style=\"text-align: right;\">0.00</td><td style=\"text-align: right;\">0</td><td style=\"text-align: right;\">0.00</td><td style=\"text-align: right;\">1</td><td style=\"text-align: right;\">1.77</td><td style=\"text-align: right;\">0</td><td style=\"text-align: right;\">0.00</td><td style=\"text-align: right;\">2</td><td style=\"text-align: right;\">5.01</td><td style=\"text-align: right;\">0</td><td style=\"text-align: right;\">0.00</td><td style=\"text-align: right;\">0</td><td style=\"text-align: right;\">0.00</td></tr>\n",
       "<tr><td style=\"text-align: right;\">353797</td><td style=\"text-align: right;\">136,398,174</td><td style=\"text-align: right;\">75,924</td><td style=\"text-align: right;\">26</td><td style=\"text-align: right;\">1414</td><td style=\"text-align: right;\">0.00</td><td style=\"text-align: right;\">3</td><td style=\"text-align: right;\">1.00</td><td style=\"text-align: right;\">0</td><td style=\"text-align: right;\">0.00</td><td style=\"text-align: right;\">0</td><td style=\"text-align: right;\">0.00</td><td style=\"text-align: right;\">1</td><td style=\"text-align: right;\">1.77</td><td style=\"text-align: right;\">0</td><td style=\"text-align: right;\">0.00</td><td style=\"text-align: right;\">2</td><td style=\"text-align: right;\">5.01</td><td style=\"text-align: right;\">0</td><td style=\"text-align: right;\">0.00</td><td style=\"text-align: right;\">0</td><td style=\"text-align: right;\">0.00</td></tr>\n",
       "<tr class=\"even\"><td style=\"text-align: right;\">353604</td><td style=\"text-align: right;\">136,092,061</td><td style=\"text-align: right;\">315,418</td><td style=\"text-align: right;\">4</td><td style=\"text-align: right;\">911</td><td style=\"text-align: right;\">0.00</td><td style=\"text-align: right;\">3</td><td style=\"text-align: right;\">1.00</td><td style=\"text-align: right;\">0</td><td style=\"text-align: right;\">0.00</td><td style=\"text-align: right;\">0</td><td style=\"text-align: right;\">0.00</td><td style=\"text-align: right;\">1</td><td style=\"text-align: right;\">1.77</td><td style=\"text-align: right;\">0</td><td style=\"text-align: right;\">0.00</td><td style=\"text-align: right;\">2</td><td style=\"text-align: right;\">5.01</td><td style=\"text-align: right;\">0</td><td style=\"text-align: right;\">0.00</td><td style=\"text-align: right;\">0</td><td style=\"text-align: right;\">0.00</td></tr>\n",
       "<tr><td style=\"text-align: right;\">354064</td><td style=\"text-align: right;\">136,605,402</td><td style=\"text-align: right;\">19,284</td><td style=\"text-align: right;\">8</td><td style=\"text-align: right;\">328</td><td style=\"text-align: right;\">0.01</td><td style=\"text-align: right;\">3</td><td style=\"text-align: right;\">1.00</td><td style=\"text-align: right;\">0</td><td style=\"text-align: right;\">0.00</td><td style=\"text-align: right;\">0</td><td style=\"text-align: right;\">0.00</td><td style=\"text-align: right;\">1</td><td style=\"text-align: right;\">1.77</td><td style=\"text-align: right;\">0</td><td style=\"text-align: right;\">0.00</td><td style=\"text-align: right;\">2</td><td style=\"text-align: right;\">5.01</td><td style=\"text-align: right;\">0</td><td style=\"text-align: right;\">0.00</td><td style=\"text-align: right;\">0</td><td style=\"text-align: right;\">0.00</td></tr>\n",
       "</table>"
      ],
      "text/plain": [
       "<IPython.core.display.HTML object>"
      ]
     },
     "execution_count": 34,
     "metadata": {},
     "output_type": "execute_result"
    }
   ],
   "source": [
    "HTML(plt_obj.get_html())"
   ]
  },
  {
   "cell_type": "code",
   "execution_count": 35,
   "metadata": {
    "collapsed": false
   },
   "outputs": [
    {
     "data": {
      "text/plain": [
       "array([3, 3, 3, 3, 3, 3, 3, 3, 3, 3, 3, 3, 3, 3, 3, 3, 3, 3, 3, 3, 3, 3, 3,\n",
       "       3, 3, 3, 3, 3, 3, 3, 3, 3, 3, 3, 3, 3, 0, 0, 0, 0, 0, 0, 0, 0, 0, 0,\n",
       "       0, 0, 0, 0, 0, 0, 0, 0, 0, 0, 0, 0, 0, 0, 0, 0, 0, 0])"
      ]
     },
     "execution_count": 35,
     "metadata": {},
     "output_type": "execute_result"
    }
   ],
   "source": [
    "sa_64_1575.alleles_per_snp(am_5)"
   ]
  },
  {
   "cell_type": "code",
   "execution_count": 36,
   "metadata": {
    "collapsed": false
   },
   "outputs": [
    {
     "data": {
      "text/html": [
       "\n",
       "\n",
       "    <div class=\"bk-root\">\n",
       "        <div class=\"plotdiv\" id=\"ced4e55d-9c0d-4a24-bb8b-a39231077571\"></div>\n",
       "    </div>\n",
       "<script type=\"text/javascript\">\n",
       "  \n",
       "  (function(global) {\n",
       "    function now() {\n",
       "      return new Date();\n",
       "    }\n",
       "  \n",
       "    if (typeof (window._bokeh_onload_callbacks) === \"undefined\") {\n",
       "      window._bokeh_onload_callbacks = [];\n",
       "    }\n",
       "  \n",
       "    function run_callbacks() {\n",
       "      window._bokeh_onload_callbacks.forEach(function(callback) { callback() });\n",
       "      delete window._bokeh_onload_callbacks\n",
       "      console.info(\"Bokeh: all callbacks have finished\");\n",
       "    }\n",
       "  \n",
       "    function load_libs(js_urls, callback) {\n",
       "      window._bokeh_onload_callbacks.push(callback);\n",
       "      if (window._bokeh_is_loading > 0) {\n",
       "        console.log(\"Bokeh: BokehJS is being loaded, scheduling callback at\", now());\n",
       "        return null;\n",
       "      }\n",
       "      if (js_urls == null || js_urls.length === 0) {\n",
       "        run_callbacks();\n",
       "        return null;\n",
       "      }\n",
       "      console.log(\"Bokeh: BokehJS not loaded, scheduling load and callback at\", now());\n",
       "      window._bokeh_is_loading = js_urls.length;\n",
       "      for (var i = 0; i < js_urls.length; i++) {\n",
       "        var url = js_urls[i];\n",
       "        var s = document.createElement('script');\n",
       "        s.src = url;\n",
       "        s.async = false;\n",
       "        s.onreadystatechange = s.onload = function() {\n",
       "          window._bokeh_is_loading--;\n",
       "          if (window._bokeh_is_loading === 0) {\n",
       "            console.log(\"Bokeh: all BokehJS libraries loaded\");\n",
       "            run_callbacks()\n",
       "          }\n",
       "        };\n",
       "        s.onerror = function() {\n",
       "          console.warn(\"failed to load library \" + url);\n",
       "        };\n",
       "        console.log(\"Bokeh: injecting script tag for BokehJS library: \", url);\n",
       "        document.getElementsByTagName(\"head\")[0].appendChild(s);\n",
       "      }\n",
       "    };var element = document.getElementById(\"ced4e55d-9c0d-4a24-bb8b-a39231077571\");\n",
       "    if (element == null) {\n",
       "      console.log(\"Bokeh: ERROR: autoload.js configured with elementid 'ced4e55d-9c0d-4a24-bb8b-a39231077571' but no matching script tag was found. \")\n",
       "      return false;\n",
       "    }\n",
       "  \n",
       "    var js_urls = [];\n",
       "  \n",
       "    var inline_js = [\n",
       "      function(Bokeh) {\n",
       "        Bokeh.$(function() {\n",
       "            var docs_json = {\"cce636a1-c4be-40f1-91e3-85839d178c8b\":{\"roots\":{\"references\":[{\"attributes\":{\"level\":\"glyph\",\"plot\":{\"id\":\"0f767154-8e95-440f-8f2b-4610db51fafc\",\"subtype\":\"Figure\",\"type\":\"Plot\"},\"source\":{\"id\":\"fee97472-51a3-4476-8c7a-d700b44751bc\",\"type\":\"ColumnDataSource\"},\"text\":{\"field\":\"vals\"},\"text_font_size\":{\"value\":\"9pt\"},\"text_font_style\":\"bold\",\"x\":{\"field\":\"x\"},\"y\":{\"field\":\"y\"}},\"id\":\"2e18240b-7eff-46e0-8de9-0bdd9a7ffb3a\",\"type\":\"LabelSet\"},{\"attributes\":{\"line_alpha\":{\"value\":0.1},\"line_color\":{\"value\":\"#1f77b4\"},\"xs\":{\"field\":\"xs\"},\"ys\":{\"field\":\"ys\"}},\"id\":\"9ba616b6-ec90-41f5-ae9f-b3b79fed8952\",\"type\":\"MultiLine\"},{\"attributes\":{\"callback\":null,\"end\":400},\"id\":\"5e1e8145-78d6-4611-b513-cf10f784184a\",\"type\":\"Range1d\"},{\"attributes\":{\"bottom\":{\"field\":\"bottom\"},\"fill_color\":{\"field\":\"fill_color\"},\"left\":{\"field\":\"left\"},\"line_color\":{\"value\":null},\"right\":{\"field\":\"right\"},\"top\":{\"field\":\"top\"}},\"id\":\"fca3f3e5-5b8e-4a24-8352-af61f2683298\",\"type\":\"Quad\"},{\"attributes\":{\"data_source\":{\"id\":\"e785ed79-1d17-487f-a5dd-e4664a7dad17\",\"type\":\"ColumnDataSource\"},\"glyph\":{\"id\":\"fca3f3e5-5b8e-4a24-8352-af61f2683298\",\"type\":\"Quad\"},\"hover_glyph\":null,\"nonselection_glyph\":{\"id\":\"a897190e-7a2e-415d-9d18-57c69dbd5075\",\"type\":\"Quad\"},\"selection_glyph\":null},\"id\":\"3703f554-e399-49f9-aca9-b27d407c6ea9\",\"type\":\"GlyphRenderer\"},{\"attributes\":{\"overlay\":{\"id\":\"ab767d1c-36e2-4c74-ba19-316a385ef8d7\",\"type\":\"BoxAnnotation\"},\"plot\":{\"id\":\"0f767154-8e95-440f-8f2b-4610db51fafc\",\"subtype\":\"Figure\",\"type\":\"Plot\"}},\"id\":\"4efd7c21-6ec3-4cca-99b1-66d8183f96ec\",\"type\":\"BoxZoomTool\"},{\"attributes\":{},\"id\":\"4bc2a4f9-120f-48fb-b500-ee3f47bc6204\",\"type\":\"BasicTicker\"},{\"attributes\":{\"data_source\":{\"id\":\"40b37afc-772e-43ad-bbe5-e6c2bea830bb\",\"type\":\"ColumnDataSource\"},\"glyph\":{\"id\":\"d9542f30-e369-4b13-976c-b166589cd104\",\"type\":\"MultiLine\"},\"hover_glyph\":null,\"nonselection_glyph\":{\"id\":\"9ba616b6-ec90-41f5-ae9f-b3b79fed8952\",\"type\":\"MultiLine\"},\"selection_glyph\":null},\"id\":\"9caef7fb-12fb-462a-920d-b16cae1b8427\",\"type\":\"GlyphRenderer\"},{\"attributes\":{\"formatter\":{\"id\":\"d6b92e44-d004-449c-97d5-a11c2e0af970\",\"type\":\"BasicTickFormatter\"},\"plot\":{\"id\":\"0f767154-8e95-440f-8f2b-4610db51fafc\",\"subtype\":\"Figure\",\"type\":\"Plot\"},\"ticker\":{\"id\":\"4bc2a4f9-120f-48fb-b500-ee3f47bc6204\",\"type\":\"BasicTicker\"}},\"id\":\"224da9e1-21be-469c-aeac-72f68429c2ba\",\"type\":\"LinearAxis\"},{\"attributes\":{},\"id\":\"24818253-aa54-4136-b468-4b8412c9712a\",\"type\":\"ToolEvents\"},{\"attributes\":{\"callback\":null,\"column_names\":[\"right\",\"bottom\",\"top\",\"left\",\"fill_color\"],\"data\":{\"bottom\":[150,250,50,150,250,150],\"fill_color\":[\"#61c461\",\"#61c461\",\"#00ff00\",\"#61c461\",\"#808080\",\"#808080\"],\"left\":[135771974,135915358,136092061,136398174,136501840,136556805],\"right\":[136140304,135995079,136407479,136474098,136555659,136747085],\"top\":[195,296,90,194,298,191]}},\"id\":\"e785ed79-1d17-487f-a5dd-e4664a7dad17\",\"type\":\"ColumnDataSource\"},{\"attributes\":{\"bottom\":{\"field\":\"bottom\"},\"fill_alpha\":{\"value\":0.1},\"fill_color\":{\"value\":\"#1f77b4\"},\"left\":{\"field\":\"left\"},\"line_alpha\":{\"value\":0.1},\"line_color\":{\"value\":\"#1f77b4\"},\"right\":{\"field\":\"right\"},\"top\":{\"field\":\"top\"}},\"id\":\"d4653736-f43f-465d-8c42-51ba660193f2\",\"type\":\"Quad\"},{\"attributes\":{\"plot\":{\"id\":\"0f767154-8e95-440f-8f2b-4610db51fafc\",\"subtype\":\"Figure\",\"type\":\"Plot\"}},\"id\":\"a3921eae-21eb-4aca-9ce7-66f8b35c0188\",\"type\":\"HelpTool\"},{\"attributes\":{\"callback\":null,\"end\":136786630,\"start\":135757320},\"id\":\"fd5e5024-414a-4966-925c-ccb337a83f8f\",\"type\":\"Range1d\"},{\"attributes\":{\"callback\":null,\"column_names\":[\"xs\",\"ys\",\"line_color\"],\"data\":{\"line_color\":[\"black\",\"black\",\"black\",\"black\",\"black\",\"black\",\"black\",\"black\",\"black\",\"black\",\"black\",\"black\",\"black\",\"black\",\"black\",\"black\",\"black\",\"black\",\"black\",\"black\",\"black\",\"black\",\"black\",\"black\",\"black\",\"black\",\"black\",\"black\",\"black\",\"black\",\"black\",\"black\",\"black\",\"black\",\"black\",\"black\",\"black\",\"black\",\"black\",\"black\",\"black\",\"black\",\"black\",\"black\",\"black\",\"black\",\"black\",\"black\",\"black\",\"black\",\"black\",\"black\",\"black\",\"black\",\"black\",\"black\",\"black\",\"black\",\"black\",\"black\",\"black\",\"black\",\"black\",\"black\",\"black\",\"black\",\"black\",\"black\",\"black\",\"black\",\"black\",\"black\",\"black\",\"black\",\"black\",\"black\",\"black\",\"black\",\"black\",\"black\",\"black\",\"black\",\"black\",\"black\",\"black\",\"black\",\"black\",\"black\",\"black\"],\"xs\":[[135771974,135771974],[135859371,135859371],[135877562,135877562],[136022798,136022798],[136058820,136058820],[136140304,136140304],[135915358,135915358],[135954405,135954405],[135995073,135995073],[135995079,135995079],[136092061,136092061],[136273578,136273578],[136322676,136322676],[136407479,136407479],[136398174,136398174],[136402117,136402117],[136403749,136403749],[136409073,136409073],[136410299,136410299],[136413359,136413359],[136416855,136416855],[136416941,136416941],[136418348,136418348],[136419961,136419961],[136420690,136420690],[136422171,136422171],[136428460,136428460],[136430866,136430866],[136432103,136432103],[136437507,136437507],[136439090,136439090],[136439517,136439517],[136444123,136444123],[136445526,136445526],[136445869,136445869],[136455600,136455600],[136456642,136456642],[136462441,136462441],[136470714,136470714],[136474098,136474098],[136501840,136501840],[136505546,136505546],[136516748,136516748],[136522710,136522710],[136528004,136528004],[136539513,136539513],[136544752,136544752],[136546110,136546110],[136553529,136553529],[136555659,136555659],[136556805,136556805],[136560003,136560003],[136562472,136562472],[136563248,136563248],[136565328,136565328],[136570613,136570613],[136571982,136571982],[136574305,136574305],[136578040,136578040],[136578194,136578194],[136580398,136580398],[136586828,136586828],[136590558,136590558],[136592309,136592309],[136593541,136593541],[136593694,136593694],[136595426,136595426],[136615222,136615222],[136624919,136624919],[136626004,136626004],[136628380,136628380],[136636909,136636909],[136637350,136637350],[136637622,136637622],[136639487,136639487],[136646900,136646900],[136652093,136652093],[136652859,136652859],[136655620,136655620],[136667896,136667896],[136671801,136671801],[136677192,136677192],[136683293,136683293],[136704414,136704414],[136720344,136720344],[136731066,136731066],[136733897,136733897],[136743490,136743490],[136747085,136747085]],\"ys\":[[150,195],[150,195],[150,195],[150,195],[150,195],[150,195],[250,296],[250,296],[250,296],[250,296],[50,90],[50,90],[50,90],[50,90],[150,194],[150,194],[150,194],[150,194],[150,194],[150,194],[150,194],[150,194],[150,194],[150,194],[150,194],[150,194],[150,194],[150,194],[150,194],[150,194],[150,194],[150,194],[150,194],[150,194],[150,194],[150,194],[150,194],[150,194],[150,194],[150,194],[250,298],[250,298],[250,298],[250,298],[250,298],[250,298],[250,298],[250,298],[250,298],[250,298],[150,191],[150,191],[150,191],[150,191],[150,191],[150,191],[150,191],[150,191],[150,191],[150,191],[150,191],[150,191],[150,191],[150,191],[150,191],[150,191],[150,191],[150,191],[150,191],[150,191],[150,191],[150,191],[150,191],[150,191],[150,191],[150,191],[150,191],[150,191],[150,191],[150,191],[150,191],[150,191],[150,191],[150,191],[150,191],[150,191],[150,191],[150,191],[150,191]]}},\"id\":\"40b37afc-772e-43ad-bbe5-e6c2bea830bb\",\"type\":\"ColumnDataSource\"},{\"attributes\":{\"plot\":{\"id\":\"0f767154-8e95-440f-8f2b-4610db51fafc\",\"subtype\":\"Figure\",\"type\":\"Plot\"}},\"id\":\"4eba49e1-afe8-4fef-92b7-7a380e1368e7\",\"type\":\"WheelZoomTool\"},{\"attributes\":{\"data_source\":{\"id\":\"61b1bf82-ce16-4a86-b1de-160960e179c6\",\"type\":\"ColumnDataSource\"},\"glyph\":{\"id\":\"81255480-f4f9-4fe1-9e0a-0fab8a63b4b9\",\"type\":\"Quad\"},\"hover_glyph\":null,\"nonselection_glyph\":{\"id\":\"d4653736-f43f-465d-8c42-51ba660193f2\",\"type\":\"Quad\"},\"selection_glyph\":null},\"id\":\"169757b0-fd69-4355-a543-97d97711f54d\",\"type\":\"GlyphRenderer\"},{\"attributes\":{\"dimension\":1,\"plot\":{\"id\":\"0f767154-8e95-440f-8f2b-4610db51fafc\",\"subtype\":\"Figure\",\"type\":\"Plot\"},\"ticker\":{\"id\":\"e59eb559-f2b0-4fed-8b1e-d00b8c29a3f2\",\"type\":\"BasicTicker\"}},\"id\":\"8bfd9eef-4ef9-49df-aca2-b5893e8075bc\",\"type\":\"Grid\"},{\"attributes\":{},\"id\":\"d6b92e44-d004-449c-97d5-a11c2e0af970\",\"type\":\"BasicTickFormatter\"},{\"attributes\":{\"plot\":{\"id\":\"0f767154-8e95-440f-8f2b-4610db51fafc\",\"subtype\":\"Figure\",\"type\":\"Plot\"},\"ticker\":{\"id\":\"4bc2a4f9-120f-48fb-b500-ee3f47bc6204\",\"type\":\"BasicTicker\"}},\"id\":\"5dab7db5-3ed9-46f9-b1cf-86017acaf0b4\",\"type\":\"Grid\"},{\"attributes\":{\"plot\":{\"id\":\"0f767154-8e95-440f-8f2b-4610db51fafc\",\"subtype\":\"Figure\",\"type\":\"Plot\"}},\"id\":\"1432801f-0b31-4f89-9e86-630c39266454\",\"type\":\"ResetTool\"},{\"attributes\":{\"bottom_units\":\"screen\",\"fill_alpha\":{\"value\":0.5},\"fill_color\":{\"value\":\"lightgrey\"},\"left_units\":\"screen\",\"level\":\"overlay\",\"line_alpha\":{\"value\":1.0},\"line_color\":{\"value\":\"black\"},\"line_dash\":[4,4],\"line_width\":{\"value\":2},\"plot\":null,\"render_mode\":\"css\",\"right_units\":\"screen\",\"top_units\":\"screen\"},\"id\":\"ab767d1c-36e2-4c74-ba19-316a385ef8d7\",\"type\":\"BoxAnnotation\"},{\"attributes\":{\"bottom\":{\"field\":\"bottom\"},\"fill_alpha\":{\"value\":0.1},\"fill_color\":{\"value\":\"#1f77b4\"},\"left\":{\"field\":\"left\"},\"line_alpha\":{\"value\":0.1},\"line_color\":{\"value\":\"#1f77b4\"},\"right\":{\"field\":\"right\"},\"top\":{\"field\":\"top\"}},\"id\":\"a897190e-7a2e-415d-9d18-57c69dbd5075\",\"type\":\"Quad\"},{\"attributes\":{\"plot\":null,\"text\":null},\"id\":\"c64d5996-4f35-427a-80e5-a532a3e095a1\",\"type\":\"Title\"},{\"attributes\":{\"active_drag\":\"auto\",\"active_scroll\":\"auto\",\"active_tap\":\"auto\",\"tools\":[{\"id\":\"c775bf7b-7c8a-40c1-8cb1-1f8db268073b\",\"type\":\"PanTool\"},{\"id\":\"4eba49e1-afe8-4fef-92b7-7a380e1368e7\",\"type\":\"WheelZoomTool\"},{\"id\":\"4efd7c21-6ec3-4cca-99b1-66d8183f96ec\",\"type\":\"BoxZoomTool\"},{\"id\":\"e8cdd77e-d85f-4272-a60c-25a06eb21611\",\"type\":\"SaveTool\"},{\"id\":\"1432801f-0b31-4f89-9e86-630c39266454\",\"type\":\"ResetTool\"},{\"id\":\"a3921eae-21eb-4aca-9ce7-66f8b35c0188\",\"type\":\"HelpTool\"}]},\"id\":\"e09b6368-df9d-4fb1-8788-491065c8df4c\",\"type\":\"Toolbar\"},{\"attributes\":{\"callback\":null,\"column_names\":[\"y\",\"x\",\"vals\"],\"data\":{\"vals\":[\"RAB3GAP1\",\"ZRANB3\",\"R3HDM1\",\"UBXN4\",\"LCT\",\"MCM6\",\"DARS\"],\"x\":[135869057.0,136122878.0,136385961.0,136520911.0,136570082.5,136615621.5,136703738.0],\"y\":[360.0,360.0,360.0,360.0,360.0,360.0,360.0]}},\"id\":\"d76c321a-f936-4c9f-b82e-01b0ec1aff0b\",\"type\":\"ColumnDataSource\"},{\"attributes\":{\"line_color\":{\"field\":\"line_color\"},\"xs\":{\"field\":\"xs\"},\"ys\":{\"field\":\"ys\"}},\"id\":\"d9542f30-e369-4b13-976c-b166589cd104\",\"type\":\"MultiLine\"},{\"attributes\":{},\"id\":\"b9c65c57-38ee-49ae-8088-f7916c0a1742\",\"type\":\"BasicTickFormatter\"},{\"attributes\":{\"bottom\":{\"field\":\"bottom\"},\"fill_color\":{\"value\":\"white\"},\"left\":{\"field\":\"left\"},\"right\":{\"field\":\"right\"},\"top\":{\"field\":\"top\"}},\"id\":\"81255480-f4f9-4fe1-9e0a-0fab8a63b4b9\",\"type\":\"Quad\"},{\"attributes\":{\"plot\":{\"id\":\"0f767154-8e95-440f-8f2b-4610db51fafc\",\"subtype\":\"Figure\",\"type\":\"Plot\"}},\"id\":\"c775bf7b-7c8a-40c1-8cb1-1f8db268073b\",\"type\":\"PanTool\"},{\"attributes\":{},\"id\":\"e59eb559-f2b0-4fed-8b1e-d00b8c29a3f2\",\"type\":\"BasicTicker\"},{\"attributes\":{\"callback\":null,\"column_names\":[\"y\",\"x\",\"vals\"],\"data\":{\"vals\":[\"6_1503\",\"4_1699\",\"4_911\",\"26_1414\",\"10_2206\",\"39_1014\"],\"x\":[135771974,135915358,136092061,136398174,136501840,136556805],\"y\":[200.0,301.0,95.0,199.0,303.0,196.0]}},\"id\":\"fee97472-51a3-4476-8c7a-d700b44751bc\",\"type\":\"ColumnDataSource\"},{\"attributes\":{\"plot\":{\"id\":\"0f767154-8e95-440f-8f2b-4610db51fafc\",\"subtype\":\"Figure\",\"type\":\"Plot\"}},\"id\":\"e8cdd77e-d85f-4272-a60c-25a06eb21611\",\"type\":\"SaveTool\"},{\"attributes\":{\"callback\":null,\"column_names\":[\"right\",\"bottom\",\"top\",\"left\"],\"data\":{\"bottom\":[345,345,345,345,345,345,345],\"left\":[135809835,135957574,136289083,136499189,136545415,136597196,136664254],\"right\":[135928279,136288182,136482839,136542633,136594750,136634047,136743222],\"top\":[375,375,375,375,375,375,375]}},\"id\":\"61b1bf82-ce16-4a86-b1de-160960e179c6\",\"type\":\"ColumnDataSource\"},{\"attributes\":{\"below\":[{\"id\":\"224da9e1-21be-469c-aeac-72f68429c2ba\",\"type\":\"LinearAxis\"}],\"left\":[{\"id\":\"b8325a17-317d-448e-b447-199673412c3a\",\"type\":\"LinearAxis\"}],\"plot_height\":400,\"plot_width\":900,\"renderers\":[{\"id\":\"224da9e1-21be-469c-aeac-72f68429c2ba\",\"type\":\"LinearAxis\"},{\"id\":\"5dab7db5-3ed9-46f9-b1cf-86017acaf0b4\",\"type\":\"Grid\"},{\"id\":\"b8325a17-317d-448e-b447-199673412c3a\",\"type\":\"LinearAxis\"},{\"id\":\"8bfd9eef-4ef9-49df-aca2-b5893e8075bc\",\"type\":\"Grid\"},{\"id\":\"ab767d1c-36e2-4c74-ba19-316a385ef8d7\",\"type\":\"BoxAnnotation\"},{\"id\":\"3703f554-e399-49f9-aca9-b27d407c6ea9\",\"type\":\"GlyphRenderer\"},{\"id\":\"9caef7fb-12fb-462a-920d-b16cae1b8427\",\"type\":\"GlyphRenderer\"},{\"id\":\"2e18240b-7eff-46e0-8de9-0bdd9a7ffb3a\",\"type\":\"LabelSet\"},{\"id\":\"169757b0-fd69-4355-a543-97d97711f54d\",\"type\":\"GlyphRenderer\"},{\"id\":\"154c6ab8-cd5b-4910-a4f1-c42672c22a6c\",\"type\":\"LabelSet\"}],\"title\":{\"id\":\"c64d5996-4f35-427a-80e5-a532a3e095a1\",\"type\":\"Title\"},\"tool_events\":{\"id\":\"24818253-aa54-4136-b468-4b8412c9712a\",\"type\":\"ToolEvents\"},\"toolbar\":{\"id\":\"e09b6368-df9d-4fb1-8788-491065c8df4c\",\"type\":\"Toolbar\"},\"toolbar_location\":null,\"x_range\":{\"id\":\"fd5e5024-414a-4966-925c-ccb337a83f8f\",\"type\":\"Range1d\"},\"y_range\":{\"id\":\"5e1e8145-78d6-4611-b513-cf10f784184a\",\"type\":\"Range1d\"}},\"id\":\"0f767154-8e95-440f-8f2b-4610db51fafc\",\"subtype\":\"Figure\",\"type\":\"Plot\"},{\"attributes\":{\"level\":\"glyph\",\"plot\":{\"id\":\"0f767154-8e95-440f-8f2b-4610db51fafc\",\"subtype\":\"Figure\",\"type\":\"Plot\"},\"source\":{\"id\":\"d76c321a-f936-4c9f-b82e-01b0ec1aff0b\",\"type\":\"ColumnDataSource\"},\"text\":{\"field\":\"vals\"},\"text_align\":\"center\",\"text_baseline\":\"middle\",\"text_font_size\":{\"value\":\"8pt\"},\"x\":{\"field\":\"x\"},\"y\":{\"field\":\"y\"}},\"id\":\"154c6ab8-cd5b-4910-a4f1-c42672c22a6c\",\"type\":\"LabelSet\"},{\"attributes\":{\"formatter\":{\"id\":\"b9c65c57-38ee-49ae-8088-f7916c0a1742\",\"type\":\"BasicTickFormatter\"},\"plot\":{\"id\":\"0f767154-8e95-440f-8f2b-4610db51fafc\",\"subtype\":\"Figure\",\"type\":\"Plot\"},\"ticker\":{\"id\":\"e59eb559-f2b0-4fed-8b1e-d00b8c29a3f2\",\"type\":\"BasicTicker\"},\"visible\":null},\"id\":\"b8325a17-317d-448e-b447-199673412c3a\",\"type\":\"LinearAxis\"}],\"root_ids\":[\"0f767154-8e95-440f-8f2b-4610db51fafc\"]},\"title\":\"Bokeh Application\",\"version\":\"0.12.0\"}};\n",
       "            var render_items = [{\"docid\":\"cce636a1-c4be-40f1-91e3-85839d178c8b\",\"elementid\":\"ced4e55d-9c0d-4a24-bb8b-a39231077571\",\"modelid\":\"0f767154-8e95-440f-8f2b-4610db51fafc\",\"notebook_comms_target\":\"ded289d9-2435-4bb4-842f-8a86a5a4e7bc\"}];\n",
       "            \n",
       "            Bokeh.embed.embed_items(docs_json, render_items);\n",
       "        });\n",
       "      },\n",
       "      function(Bokeh) {\n",
       "      }\n",
       "    ];\n",
       "  \n",
       "    function run_inline_js() {\n",
       "      for (var i = 0; i < inline_js.length; i++) {\n",
       "        inline_js[i](window.Bokeh);\n",
       "      }\n",
       "    }\n",
       "  \n",
       "    if (window._bokeh_is_loading === 0) {\n",
       "      console.log(\"Bokeh: BokehJS loaded, going straight to plotting\");\n",
       "      run_inline_js();\n",
       "    } else {\n",
       "      load_libs(js_urls, function() {\n",
       "        console.log(\"Bokeh: BokehJS plotting callback run at\", now());\n",
       "        run_inline_js();\n",
       "      });\n",
       "    }\n",
       "  }(this));\n",
       "</script>"
      ]
     },
     "metadata": {},
     "output_type": "display_data"
    },
    {
     "data": {
      "text/html": [
       "<p><code>&lt;Bokeh Notebook handle for <strong>In[36]</strong>&gt;</code></p>"
      ],
      "text/plain": [
       "<bokeh.io._CommsHandle at 0x7f46f10ca490>"
      ]
     },
     "execution_count": 36,
     "metadata": {},
     "output_type": "execute_result"
    }
   ],
   "source": [
    "plt_obj = dm.superset_yes_no([dm.di_4_911, dm.di_10_2206, dm.di_39_1014], \n",
    "                             [di_8_328, \n",
    "                              dm.di_24_1504, dm.di_7_1868, dm.di_7_1760, dm.di_64_1575, dm.di_11_765], \n",
    "                             min_match=0.001)\n",
    "plt = plt_obj.do_plot()\n",
    "am_6 = plt_obj.plot_context.yes_allele_mask\n",
    "show(plt)"
   ]
  },
  {
   "cell_type": "code",
   "execution_count": 37,
   "metadata": {
    "collapsed": false
   },
   "outputs": [
    {
     "data": {
      "text/html": [
       "<table>\n",
       "<thead><tr><th style=\"text-align:center\">index</th><th style=\"text-align:center\">first</th><th style=\"text-align:center\">length</th><th style=\"text-align:center\">snps</th><th style=\"text-align:center\" colspan=2>alleles</th><th style=\"text-align:center\" colspan=2>matches</th><th style=\"text-align:center\" colspan=2>afr</th><th style=\"text-align:center\" colspan=2>afx</th><th style=\"text-align:center\" colspan=2>amr</th><th style=\"text-align:center\" colspan=2>eas</th><th style=\"text-align:center\" colspan=2>eur</th><th style=\"text-align:center\" colspan=2>sas</th><th style=\"text-align:center\" colspan=2>sax</th></tr></thead>\n",
       "<tr class=\"even\"><td style=\"text-align: right;\">353921</td><td style=\"text-align: right;\">136,501,840</td><td style=\"text-align: right;\">53,819</td><td style=\"text-align: right;\">10</td><td style=\"text-align: right;\">2206</td><td style=\"text-align: right;\">0.00</td><td style=\"text-align: right;\">1</td><td style=\"text-align: right;\">1.00</td><td style=\"text-align: right;\">0</td><td style=\"text-align: right;\">0.00</td><td style=\"text-align: right;\">0</td><td style=\"text-align: right;\">0.00</td><td style=\"text-align: right;\">0</td><td style=\"text-align: right;\">0.00</td><td style=\"text-align: right;\">0</td><td style=\"text-align: right;\">0.00</td><td style=\"text-align: right;\">1</td><td style=\"text-align: right;\">7.80</td><td style=\"text-align: right;\">0</td><td style=\"text-align: right;\">0.00</td><td style=\"text-align: right;\">0</td><td style=\"text-align: right;\">0.00</td></tr>\n",
       "<tr><td style=\"text-align: right;\">353462</td><td style=\"text-align: right;\">135,915,358</td><td style=\"text-align: right;\">79,721</td><td style=\"text-align: right;\">4</td><td style=\"text-align: right;\">1699</td><td style=\"text-align: right;\">0.00</td><td style=\"text-align: right;\">1</td><td style=\"text-align: right;\">1.00</td><td style=\"text-align: right;\">0</td><td style=\"text-align: right;\">0.00</td><td style=\"text-align: right;\">0</td><td style=\"text-align: right;\">0.00</td><td style=\"text-align: right;\">0</td><td style=\"text-align: right;\">0.00</td><td style=\"text-align: right;\">0</td><td style=\"text-align: right;\">0.00</td><td style=\"text-align: right;\">1</td><td style=\"text-align: right;\">7.80</td><td style=\"text-align: right;\">0</td><td style=\"text-align: right;\">0.00</td><td style=\"text-align: right;\">0</td><td style=\"text-align: right;\">0.00</td></tr>\n",
       "<tr class=\"even\"><td style=\"text-align: right;\">353283</td><td style=\"text-align: right;\">135,771,974</td><td style=\"text-align: right;\">368,330</td><td style=\"text-align: right;\">6</td><td style=\"text-align: right;\">1503</td><td style=\"text-align: right;\">0.00</td><td style=\"text-align: right;\">1</td><td style=\"text-align: right;\">1.00</td><td style=\"text-align: right;\">0</td><td style=\"text-align: right;\">0.00</td><td style=\"text-align: right;\">0</td><td style=\"text-align: right;\">0.00</td><td style=\"text-align: right;\">0</td><td style=\"text-align: right;\">0.00</td><td style=\"text-align: right;\">0</td><td style=\"text-align: right;\">0.00</td><td style=\"text-align: right;\">1</td><td style=\"text-align: right;\">7.80</td><td style=\"text-align: right;\">0</td><td style=\"text-align: right;\">0.00</td><td style=\"text-align: right;\">0</td><td style=\"text-align: right;\">0.00</td></tr>\n",
       "<tr><td style=\"text-align: right;\">353797</td><td style=\"text-align: right;\">136,398,174</td><td style=\"text-align: right;\">75,924</td><td style=\"text-align: right;\">26</td><td style=\"text-align: right;\">1414</td><td style=\"text-align: right;\">0.00</td><td style=\"text-align: right;\">1</td><td style=\"text-align: right;\">1.00</td><td style=\"text-align: right;\">0</td><td style=\"text-align: right;\">0.00</td><td style=\"text-align: right;\">0</td><td style=\"text-align: right;\">0.00</td><td style=\"text-align: right;\">0</td><td style=\"text-align: right;\">0.00</td><td style=\"text-align: right;\">0</td><td style=\"text-align: right;\">0.00</td><td style=\"text-align: right;\">1</td><td style=\"text-align: right;\">7.80</td><td style=\"text-align: right;\">0</td><td style=\"text-align: right;\">0.00</td><td style=\"text-align: right;\">0</td><td style=\"text-align: right;\">0.00</td></tr>\n",
       "<tr class=\"even\"><td style=\"text-align: right;\">353984</td><td style=\"text-align: right;\">136,556,805</td><td style=\"text-align: right;\">190,280</td><td style=\"text-align: right;\">39</td><td style=\"text-align: right;\">1014</td><td style=\"text-align: right;\">0.00</td><td style=\"text-align: right;\">1</td><td style=\"text-align: right;\">1.00</td><td style=\"text-align: right;\">0</td><td style=\"text-align: right;\">0.00</td><td style=\"text-align: right;\">0</td><td style=\"text-align: right;\">0.00</td><td style=\"text-align: right;\">0</td><td style=\"text-align: right;\">0.00</td><td style=\"text-align: right;\">0</td><td style=\"text-align: right;\">0.00</td><td style=\"text-align: right;\">1</td><td style=\"text-align: right;\">7.80</td><td style=\"text-align: right;\">0</td><td style=\"text-align: right;\">0.00</td><td style=\"text-align: right;\">0</td><td style=\"text-align: right;\">0.00</td></tr>\n",
       "<tr><td style=\"text-align: right;\">353604</td><td style=\"text-align: right;\">136,092,061</td><td style=\"text-align: right;\">315,418</td><td style=\"text-align: right;\">4</td><td style=\"text-align: right;\">911</td><td style=\"text-align: right;\">0.00</td><td style=\"text-align: right;\">1</td><td style=\"text-align: right;\">1.00</td><td style=\"text-align: right;\">0</td><td style=\"text-align: right;\">0.00</td><td style=\"text-align: right;\">0</td><td style=\"text-align: right;\">0.00</td><td style=\"text-align: right;\">0</td><td style=\"text-align: right;\">0.00</td><td style=\"text-align: right;\">0</td><td style=\"text-align: right;\">0.00</td><td style=\"text-align: right;\">1</td><td style=\"text-align: right;\">7.80</td><td style=\"text-align: right;\">0</td><td style=\"text-align: right;\">0.00</td><td style=\"text-align: right;\">0</td><td style=\"text-align: right;\">0.00</td></tr>\n",
       "</table>"
      ],
      "text/plain": [
       "<IPython.core.display.HTML object>"
      ]
     },
     "execution_count": 37,
     "metadata": {},
     "output_type": "execute_result"
    }
   ],
   "source": [
    "HTML(plt_obj.get_html())"
   ]
  },
  {
   "cell_type": "code",
   "execution_count": 38,
   "metadata": {
    "collapsed": false
   },
   "outputs": [
    {
     "data": {
      "text/plain": [
       "array([1, 1, 1, 1, 1, 1, 1, 1, 1, 1, 1, 1, 1, 1, 1, 1, 1, 1, 1, 1, 1, 1, 0,\n",
       "       0, 0, 0, 0, 0, 0, 0, 0, 0, 0, 0, 0, 0, 0, 0, 0, 0, 0, 0, 0, 0, 0, 0,\n",
       "       0, 0, 0, 0, 0, 0, 0, 0, 0, 0, 0, 0, 0, 0, 0, 0, 0, 0])"
      ]
     },
     "execution_count": 38,
     "metadata": {},
     "output_type": "execute_result"
    }
   ],
   "source": [
    "sa_64_1575.alleles_per_snp(am_6)"
   ]
  },
  {
   "cell_type": "code",
   "execution_count": 39,
   "metadata": {
    "collapsed": false
   },
   "outputs": [
    {
     "data": {
      "text/html": [
       "\n",
       "\n",
       "    <div class=\"bk-root\">\n",
       "        <div class=\"plotdiv\" id=\"e8389dc1-554e-4f92-a4a4-3c46c8b1cb1c\"></div>\n",
       "    </div>\n",
       "<script type=\"text/javascript\">\n",
       "  \n",
       "  (function(global) {\n",
       "    function now() {\n",
       "      return new Date();\n",
       "    }\n",
       "  \n",
       "    if (typeof (window._bokeh_onload_callbacks) === \"undefined\") {\n",
       "      window._bokeh_onload_callbacks = [];\n",
       "    }\n",
       "  \n",
       "    function run_callbacks() {\n",
       "      window._bokeh_onload_callbacks.forEach(function(callback) { callback() });\n",
       "      delete window._bokeh_onload_callbacks\n",
       "      console.info(\"Bokeh: all callbacks have finished\");\n",
       "    }\n",
       "  \n",
       "    function load_libs(js_urls, callback) {\n",
       "      window._bokeh_onload_callbacks.push(callback);\n",
       "      if (window._bokeh_is_loading > 0) {\n",
       "        console.log(\"Bokeh: BokehJS is being loaded, scheduling callback at\", now());\n",
       "        return null;\n",
       "      }\n",
       "      if (js_urls == null || js_urls.length === 0) {\n",
       "        run_callbacks();\n",
       "        return null;\n",
       "      }\n",
       "      console.log(\"Bokeh: BokehJS not loaded, scheduling load and callback at\", now());\n",
       "      window._bokeh_is_loading = js_urls.length;\n",
       "      for (var i = 0; i < js_urls.length; i++) {\n",
       "        var url = js_urls[i];\n",
       "        var s = document.createElement('script');\n",
       "        s.src = url;\n",
       "        s.async = false;\n",
       "        s.onreadystatechange = s.onload = function() {\n",
       "          window._bokeh_is_loading--;\n",
       "          if (window._bokeh_is_loading === 0) {\n",
       "            console.log(\"Bokeh: all BokehJS libraries loaded\");\n",
       "            run_callbacks()\n",
       "          }\n",
       "        };\n",
       "        s.onerror = function() {\n",
       "          console.warn(\"failed to load library \" + url);\n",
       "        };\n",
       "        console.log(\"Bokeh: injecting script tag for BokehJS library: \", url);\n",
       "        document.getElementsByTagName(\"head\")[0].appendChild(s);\n",
       "      }\n",
       "    };var element = document.getElementById(\"e8389dc1-554e-4f92-a4a4-3c46c8b1cb1c\");\n",
       "    if (element == null) {\n",
       "      console.log(\"Bokeh: ERROR: autoload.js configured with elementid 'e8389dc1-554e-4f92-a4a4-3c46c8b1cb1c' but no matching script tag was found. \")\n",
       "      return false;\n",
       "    }\n",
       "  \n",
       "    var js_urls = [];\n",
       "  \n",
       "    var inline_js = [\n",
       "      function(Bokeh) {\n",
       "        Bokeh.$(function() {\n",
       "            var docs_json = {\"006212d3-8333-48cd-b97d-57fef24237df\":{\"roots\":{\"references\":[{\"attributes\":{\"callback\":null,\"end\":400},\"id\":\"8e894059-5062-48e6-8c8a-735a4ef258f0\",\"type\":\"Range1d\"},{\"attributes\":{\"plot\":{\"id\":\"5ec10877-f891-4eda-84f9-95e5a44ce0dd\",\"subtype\":\"Figure\",\"type\":\"Plot\"}},\"id\":\"695def75-69a1-4194-8612-f599d21e6a9b\",\"type\":\"ResetTool\"},{\"attributes\":{\"formatter\":{\"id\":\"0cff6368-c2dc-4177-8ddc-8706e304fe68\",\"type\":\"BasicTickFormatter\"},\"plot\":{\"id\":\"5ec10877-f891-4eda-84f9-95e5a44ce0dd\",\"subtype\":\"Figure\",\"type\":\"Plot\"},\"ticker\":{\"id\":\"54b1f7bf-0f3b-4f72-bba9-b725c7a8816b\",\"type\":\"BasicTicker\"}},\"id\":\"2931544e-3019-48c4-9b1e-c2a9aa1ce77f\",\"type\":\"LinearAxis\"},{\"attributes\":{\"active_drag\":\"auto\",\"active_scroll\":\"auto\",\"active_tap\":\"auto\",\"tools\":[{\"id\":\"398a4c24-026d-40f0-8126-be90dca6f9f4\",\"type\":\"PanTool\"},{\"id\":\"e83319a2-62d2-433b-b6ab-b9d64e114fea\",\"type\":\"WheelZoomTool\"},{\"id\":\"e7a79909-3c8c-4de4-b0ac-5cab0f1b9ba2\",\"type\":\"BoxZoomTool\"},{\"id\":\"4ef2e9b0-e49c-48ff-b8b9-f7fcee156771\",\"type\":\"SaveTool\"},{\"id\":\"695def75-69a1-4194-8612-f599d21e6a9b\",\"type\":\"ResetTool\"},{\"id\":\"90ffa378-95c2-4758-ab8f-8adbc67cefac\",\"type\":\"HelpTool\"}]},\"id\":\"8c669f83-4bd3-4e33-b3ec-b5fba9520b4d\",\"type\":\"Toolbar\"},{\"attributes\":{\"plot\":{\"id\":\"5ec10877-f891-4eda-84f9-95e5a44ce0dd\",\"subtype\":\"Figure\",\"type\":\"Plot\"}},\"id\":\"90ffa378-95c2-4758-ab8f-8adbc67cefac\",\"type\":\"HelpTool\"},{\"attributes\":{\"plot\":{\"id\":\"5ec10877-f891-4eda-84f9-95e5a44ce0dd\",\"subtype\":\"Figure\",\"type\":\"Plot\"}},\"id\":\"398a4c24-026d-40f0-8126-be90dca6f9f4\",\"type\":\"PanTool\"},{\"attributes\":{},\"id\":\"0cff6368-c2dc-4177-8ddc-8706e304fe68\",\"type\":\"BasicTickFormatter\"},{\"attributes\":{\"bottom\":{\"field\":\"bottom\"},\"fill_alpha\":{\"value\":0.1},\"fill_color\":{\"value\":\"#1f77b4\"},\"left\":{\"field\":\"left\"},\"line_alpha\":{\"value\":0.1},\"line_color\":{\"value\":\"#1f77b4\"},\"right\":{\"field\":\"right\"},\"top\":{\"field\":\"top\"}},\"id\":\"ba0f3fa3-772f-4a31-bf54-a84c2a968583\",\"type\":\"Quad\"},{\"attributes\":{\"callback\":null,\"column_names\":[\"y\",\"x\",\"vals\"],\"data\":{\"vals\":[\"RAB3GAP1\",\"ZRANB3\",\"R3HDM1\",\"UBXN4\",\"LCT\",\"MCM6\",\"DARS\"],\"x\":[135869057.0,136122878.0,136385961.0,136520911.0,136570082.5,136615621.5,136703738.0],\"y\":[360.0,360.0,360.0,360.0,360.0,360.0,360.0]}},\"id\":\"06b9f67a-3db8-445f-ba37-c9a0d1727b15\",\"type\":\"ColumnDataSource\"},{\"attributes\":{\"callback\":null,\"column_names\":[\"xs\",\"ys\",\"line_color\"],\"data\":{\"line_color\":[\"black\",\"black\",\"black\",\"black\",\"black\",\"black\",\"black\",\"black\",\"black\",\"black\",\"black\",\"black\",\"black\",\"black\",\"black\",\"black\",\"black\",\"black\",\"black\",\"black\",\"black\",\"black\",\"black\",\"black\",\"black\",\"black\",\"black\",\"black\",\"black\",\"black\",\"black\",\"black\",\"black\",\"black\",\"black\",\"black\",\"black\",\"black\",\"black\",\"black\",\"black\",\"black\",\"black\",\"black\",\"black\",\"black\",\"black\",\"black\",\"black\",\"black\"],\"xs\":[[135771974,135771974],[135859371,135859371],[135877562,135877562],[136022798,136022798],[136058820,136058820],[136140304,136140304],[135915358,135915358],[135954405,135954405],[135995073,135995073],[135995079,135995079],[136092061,136092061],[136273578,136273578],[136322676,136322676],[136407479,136407479],[136398174,136398174],[136402117,136402117],[136403749,136403749],[136409073,136409073],[136410299,136410299],[136413359,136413359],[136416855,136416855],[136416941,136416941],[136418348,136418348],[136419961,136419961],[136420690,136420690],[136422171,136422171],[136428460,136428460],[136430866,136430866],[136432103,136432103],[136437507,136437507],[136439090,136439090],[136439517,136439517],[136444123,136444123],[136445526,136445526],[136445869,136445869],[136455600,136455600],[136456642,136456642],[136462441,136462441],[136470714,136470714],[136474098,136474098],[136501840,136501840],[136505546,136505546],[136516748,136516748],[136522710,136522710],[136528004,136528004],[136539513,136539513],[136544752,136544752],[136546110,136546110],[136553529,136553529],[136555659,136555659]],\"ys\":[[150,195],[150,195],[150,195],[150,195],[150,195],[150,195],[250,296],[250,296],[250,296],[250,296],[50,90],[50,90],[50,90],[50,90],[150,194],[150,194],[150,194],[150,194],[150,194],[150,194],[150,194],[150,194],[150,194],[150,194],[150,194],[150,194],[150,194],[150,194],[150,194],[150,194],[150,194],[150,194],[150,194],[150,194],[150,194],[150,194],[150,194],[150,194],[150,194],[150,194],[250,298],[250,298],[250,298],[250,298],[250,298],[250,298],[250,298],[250,298],[250,298],[250,298]]}},\"id\":\"5568f25f-0b25-4d99-a1c5-ab6640df485e\",\"type\":\"ColumnDataSource\"},{\"attributes\":{\"callback\":null,\"column_names\":[\"right\",\"bottom\",\"top\",\"left\"],\"data\":{\"bottom\":[345,345,345,345,345,345,345],\"left\":[135809835,135957574,136289083,136499189,136545415,136597196,136664254],\"right\":[135928279,136288182,136482839,136542633,136594750,136634047,136743222],\"top\":[375,375,375,375,375,375,375]}},\"id\":\"e82ba6bb-a17d-4bbd-a354-6b7ad950cfa0\",\"type\":\"ColumnDataSource\"},{\"attributes\":{\"dimension\":1,\"plot\":{\"id\":\"5ec10877-f891-4eda-84f9-95e5a44ce0dd\",\"subtype\":\"Figure\",\"type\":\"Plot\"},\"ticker\":{\"id\":\"fb789cc4-c8f2-4f4f-b7d6-894db3a0b5d1\",\"type\":\"BasicTicker\"}},\"id\":\"dc7aeedc-385f-40d0-99e5-0d4fbe53655e\",\"type\":\"Grid\"},{\"attributes\":{\"data_source\":{\"id\":\"5568f25f-0b25-4d99-a1c5-ab6640df485e\",\"type\":\"ColumnDataSource\"},\"glyph\":{\"id\":\"c3b0c4d9-7a47-4ff0-9316-68933ffcd6b3\",\"type\":\"MultiLine\"},\"hover_glyph\":null,\"nonselection_glyph\":{\"id\":\"b8804d87-46dc-4cbe-a2dd-e099dd135579\",\"type\":\"MultiLine\"},\"selection_glyph\":null},\"id\":\"b7324989-f765-4e77-a4be-12d739823a7a\",\"type\":\"GlyphRenderer\"},{\"attributes\":{\"plot\":null,\"text\":null},\"id\":\"9443ba0f-7d6d-432d-bc84-66809b3ecfce\",\"type\":\"Title\"},{\"attributes\":{},\"id\":\"25bda0d7-1f9c-4d04-aa91-103489609c98\",\"type\":\"ToolEvents\"},{\"attributes\":{\"bottom_units\":\"screen\",\"fill_alpha\":{\"value\":0.5},\"fill_color\":{\"value\":\"lightgrey\"},\"left_units\":\"screen\",\"level\":\"overlay\",\"line_alpha\":{\"value\":1.0},\"line_color\":{\"value\":\"black\"},\"line_dash\":[4,4],\"line_width\":{\"value\":2},\"plot\":null,\"render_mode\":\"css\",\"right_units\":\"screen\",\"top_units\":\"screen\"},\"id\":\"f0c64fb9-323c-46d8-9a7d-d7e3de0a77cb\",\"type\":\"BoxAnnotation\"},{\"attributes\":{\"below\":[{\"id\":\"2931544e-3019-48c4-9b1e-c2a9aa1ce77f\",\"type\":\"LinearAxis\"}],\"left\":[{\"id\":\"b4b1b41a-aa8f-4498-9e9b-802e1120838b\",\"type\":\"LinearAxis\"}],\"plot_height\":400,\"plot_width\":900,\"renderers\":[{\"id\":\"2931544e-3019-48c4-9b1e-c2a9aa1ce77f\",\"type\":\"LinearAxis\"},{\"id\":\"cfca80f5-e164-4bcd-a65f-516dde323caf\",\"type\":\"Grid\"},{\"id\":\"b4b1b41a-aa8f-4498-9e9b-802e1120838b\",\"type\":\"LinearAxis\"},{\"id\":\"dc7aeedc-385f-40d0-99e5-0d4fbe53655e\",\"type\":\"Grid\"},{\"id\":\"f0c64fb9-323c-46d8-9a7d-d7e3de0a77cb\",\"type\":\"BoxAnnotation\"},{\"id\":\"5ea1ee1e-ad69-458a-a0ad-f0704d67f8cd\",\"type\":\"GlyphRenderer\"},{\"id\":\"b7324989-f765-4e77-a4be-12d739823a7a\",\"type\":\"GlyphRenderer\"},{\"id\":\"0b4e1b27-90ab-40b2-9055-43c147407d30\",\"type\":\"LabelSet\"},{\"id\":\"363176fd-2ec7-49da-9017-fdbae41e3983\",\"type\":\"GlyphRenderer\"},{\"id\":\"735875b4-39f1-4634-826c-e06aa21bd563\",\"type\":\"LabelSet\"}],\"title\":{\"id\":\"9443ba0f-7d6d-432d-bc84-66809b3ecfce\",\"type\":\"Title\"},\"tool_events\":{\"id\":\"25bda0d7-1f9c-4d04-aa91-103489609c98\",\"type\":\"ToolEvents\"},\"toolbar\":{\"id\":\"8c669f83-4bd3-4e33-b3ec-b5fba9520b4d\",\"type\":\"Toolbar\"},\"toolbar_location\":null,\"x_range\":{\"id\":\"cb40fa88-c8f5-4110-948c-1b4f8fcc2ca3\",\"type\":\"Range1d\"},\"y_range\":{\"id\":\"8e894059-5062-48e6-8c8a-735a4ef258f0\",\"type\":\"Range1d\"}},\"id\":\"5ec10877-f891-4eda-84f9-95e5a44ce0dd\",\"subtype\":\"Figure\",\"type\":\"Plot\"},{\"attributes\":{},\"id\":\"54b1f7bf-0f3b-4f72-bba9-b725c7a8816b\",\"type\":\"BasicTicker\"},{\"attributes\":{\"callback\":null,\"column_names\":[\"right\",\"bottom\",\"top\",\"left\",\"fill_color\"],\"data\":{\"bottom\":[150,250,50,150,250],\"fill_color\":[\"#61c461\",\"#61c461\",\"#00ff00\",\"#61c461\",\"#808080\"],\"left\":[135771974,135915358,136092061,136398174,136501840],\"right\":[136140304,135995079,136407479,136474098,136555659],\"top\":[195,296,90,194,298]}},\"id\":\"b1e3929b-68b3-4927-a4fe-fe7ffa365911\",\"type\":\"ColumnDataSource\"},{\"attributes\":{\"plot\":{\"id\":\"5ec10877-f891-4eda-84f9-95e5a44ce0dd\",\"subtype\":\"Figure\",\"type\":\"Plot\"}},\"id\":\"4ef2e9b0-e49c-48ff-b8b9-f7fcee156771\",\"type\":\"SaveTool\"},{\"attributes\":{\"callback\":null,\"column_names\":[\"y\",\"x\",\"vals\"],\"data\":{\"vals\":[\"6_1503\",\"4_1699\",\"4_911\",\"26_1414\",\"10_2206\"],\"x\":[135771974,135915358,136092061,136398174,136501840],\"y\":[200.0,301.0,95.0,199.0,303.0]}},\"id\":\"8d9269b7-47df-4d7e-97f5-c0b7b46071f9\",\"type\":\"ColumnDataSource\"},{\"attributes\":{\"level\":\"glyph\",\"plot\":{\"id\":\"5ec10877-f891-4eda-84f9-95e5a44ce0dd\",\"subtype\":\"Figure\",\"type\":\"Plot\"},\"source\":{\"id\":\"8d9269b7-47df-4d7e-97f5-c0b7b46071f9\",\"type\":\"ColumnDataSource\"},\"text\":{\"field\":\"vals\"},\"text_font_size\":{\"value\":\"9pt\"},\"text_font_style\":\"bold\",\"x\":{\"field\":\"x\"},\"y\":{\"field\":\"y\"}},\"id\":\"0b4e1b27-90ab-40b2-9055-43c147407d30\",\"type\":\"LabelSet\"},{\"attributes\":{},\"id\":\"fb789cc4-c8f2-4f4f-b7d6-894db3a0b5d1\",\"type\":\"BasicTicker\"},{\"attributes\":{\"bottom\":{\"field\":\"bottom\"},\"fill_color\":{\"field\":\"fill_color\"},\"left\":{\"field\":\"left\"},\"line_color\":{\"value\":null},\"right\":{\"field\":\"right\"},\"top\":{\"field\":\"top\"}},\"id\":\"657c62bc-5a93-4364-9cfa-587bbdab71a9\",\"type\":\"Quad\"},{\"attributes\":{\"line_color\":{\"field\":\"line_color\"},\"xs\":{\"field\":\"xs\"},\"ys\":{\"field\":\"ys\"}},\"id\":\"c3b0c4d9-7a47-4ff0-9316-68933ffcd6b3\",\"type\":\"MultiLine\"},{\"attributes\":{},\"id\":\"a6b39cea-487c-4ffe-8831-1d1b2e114a2c\",\"type\":\"BasicTickFormatter\"},{\"attributes\":{\"formatter\":{\"id\":\"a6b39cea-487c-4ffe-8831-1d1b2e114a2c\",\"type\":\"BasicTickFormatter\"},\"plot\":{\"id\":\"5ec10877-f891-4eda-84f9-95e5a44ce0dd\",\"subtype\":\"Figure\",\"type\":\"Plot\"},\"ticker\":{\"id\":\"fb789cc4-c8f2-4f4f-b7d6-894db3a0b5d1\",\"type\":\"BasicTicker\"},\"visible\":null},\"id\":\"b4b1b41a-aa8f-4498-9e9b-802e1120838b\",\"type\":\"LinearAxis\"},{\"attributes\":{\"plot\":{\"id\":\"5ec10877-f891-4eda-84f9-95e5a44ce0dd\",\"subtype\":\"Figure\",\"type\":\"Plot\"}},\"id\":\"e83319a2-62d2-433b-b6ab-b9d64e114fea\",\"type\":\"WheelZoomTool\"},{\"attributes\":{\"callback\":null,\"end\":136786630,\"start\":135757320},\"id\":\"cb40fa88-c8f5-4110-948c-1b4f8fcc2ca3\",\"type\":\"Range1d\"},{\"attributes\":{\"data_source\":{\"id\":\"e82ba6bb-a17d-4bbd-a354-6b7ad950cfa0\",\"type\":\"ColumnDataSource\"},\"glyph\":{\"id\":\"f3e23733-1b5f-4c88-b0d5-8c55057c46b0\",\"type\":\"Quad\"},\"hover_glyph\":null,\"nonselection_glyph\":{\"id\":\"ba0f3fa3-772f-4a31-bf54-a84c2a968583\",\"type\":\"Quad\"},\"selection_glyph\":null},\"id\":\"363176fd-2ec7-49da-9017-fdbae41e3983\",\"type\":\"GlyphRenderer\"},{\"attributes\":{\"bottom\":{\"field\":\"bottom\"},\"fill_alpha\":{\"value\":0.1},\"fill_color\":{\"value\":\"#1f77b4\"},\"left\":{\"field\":\"left\"},\"line_alpha\":{\"value\":0.1},\"line_color\":{\"value\":\"#1f77b4\"},\"right\":{\"field\":\"right\"},\"top\":{\"field\":\"top\"}},\"id\":\"0cfb60c1-ece6-4e68-93bf-2b7cd28af0e3\",\"type\":\"Quad\"},{\"attributes\":{\"line_alpha\":{\"value\":0.1},\"line_color\":{\"value\":\"#1f77b4\"},\"xs\":{\"field\":\"xs\"},\"ys\":{\"field\":\"ys\"}},\"id\":\"b8804d87-46dc-4cbe-a2dd-e099dd135579\",\"type\":\"MultiLine\"},{\"attributes\":{\"data_source\":{\"id\":\"b1e3929b-68b3-4927-a4fe-fe7ffa365911\",\"type\":\"ColumnDataSource\"},\"glyph\":{\"id\":\"657c62bc-5a93-4364-9cfa-587bbdab71a9\",\"type\":\"Quad\"},\"hover_glyph\":null,\"nonselection_glyph\":{\"id\":\"0cfb60c1-ece6-4e68-93bf-2b7cd28af0e3\",\"type\":\"Quad\"},\"selection_glyph\":null},\"id\":\"5ea1ee1e-ad69-458a-a0ad-f0704d67f8cd\",\"type\":\"GlyphRenderer\"},{\"attributes\":{\"bottom\":{\"field\":\"bottom\"},\"fill_color\":{\"value\":\"white\"},\"left\":{\"field\":\"left\"},\"right\":{\"field\":\"right\"},\"top\":{\"field\":\"top\"}},\"id\":\"f3e23733-1b5f-4c88-b0d5-8c55057c46b0\",\"type\":\"Quad\"},{\"attributes\":{\"plot\":{\"id\":\"5ec10877-f891-4eda-84f9-95e5a44ce0dd\",\"subtype\":\"Figure\",\"type\":\"Plot\"},\"ticker\":{\"id\":\"54b1f7bf-0f3b-4f72-bba9-b725c7a8816b\",\"type\":\"BasicTicker\"}},\"id\":\"cfca80f5-e164-4bcd-a65f-516dde323caf\",\"type\":\"Grid\"},{\"attributes\":{\"overlay\":{\"id\":\"f0c64fb9-323c-46d8-9a7d-d7e3de0a77cb\",\"type\":\"BoxAnnotation\"},\"plot\":{\"id\":\"5ec10877-f891-4eda-84f9-95e5a44ce0dd\",\"subtype\":\"Figure\",\"type\":\"Plot\"}},\"id\":\"e7a79909-3c8c-4de4-b0ac-5cab0f1b9ba2\",\"type\":\"BoxZoomTool\"},{\"attributes\":{\"level\":\"glyph\",\"plot\":{\"id\":\"5ec10877-f891-4eda-84f9-95e5a44ce0dd\",\"subtype\":\"Figure\",\"type\":\"Plot\"},\"source\":{\"id\":\"06b9f67a-3db8-445f-ba37-c9a0d1727b15\",\"type\":\"ColumnDataSource\"},\"text\":{\"field\":\"vals\"},\"text_align\":\"center\",\"text_baseline\":\"middle\",\"text_font_size\":{\"value\":\"8pt\"},\"x\":{\"field\":\"x\"},\"y\":{\"field\":\"y\"}},\"id\":\"735875b4-39f1-4634-826c-e06aa21bd563\",\"type\":\"LabelSet\"}],\"root_ids\":[\"5ec10877-f891-4eda-84f9-95e5a44ce0dd\"]},\"title\":\"Bokeh Application\",\"version\":\"0.12.0\"}};\n",
       "            var render_items = [{\"docid\":\"006212d3-8333-48cd-b97d-57fef24237df\",\"elementid\":\"e8389dc1-554e-4f92-a4a4-3c46c8b1cb1c\",\"modelid\":\"5ec10877-f891-4eda-84f9-95e5a44ce0dd\",\"notebook_comms_target\":\"be86a8db-0efb-4b0b-8bac-d7ab80da819b\"}];\n",
       "            \n",
       "            Bokeh.embed.embed_items(docs_json, render_items);\n",
       "        });\n",
       "      },\n",
       "      function(Bokeh) {\n",
       "      }\n",
       "    ];\n",
       "  \n",
       "    function run_inline_js() {\n",
       "      for (var i = 0; i < inline_js.length; i++) {\n",
       "        inline_js[i](window.Bokeh);\n",
       "      }\n",
       "    }\n",
       "  \n",
       "    if (window._bokeh_is_loading === 0) {\n",
       "      console.log(\"Bokeh: BokehJS loaded, going straight to plotting\");\n",
       "      run_inline_js();\n",
       "    } else {\n",
       "      load_libs(js_urls, function() {\n",
       "        console.log(\"Bokeh: BokehJS plotting callback run at\", now());\n",
       "        run_inline_js();\n",
       "      });\n",
       "    }\n",
       "  }(this));\n",
       "</script>"
      ]
     },
     "metadata": {},
     "output_type": "display_data"
    },
    {
     "data": {
      "text/html": [
       "<p><code>&lt;Bokeh Notebook handle for <strong>In[39]</strong>&gt;</code></p>"
      ],
      "text/plain": [
       "<bokeh.io._CommsHandle at 0x7f46f1033d50>"
      ]
     },
     "execution_count": 39,
     "metadata": {},
     "output_type": "execute_result"
    }
   ],
   "source": [
    "plt_obj = dm.superset_yes_no([dm.di_4_911, dm.di_10_2206], \n",
    "                             [dm.di_39_1014, di_8_328, \n",
    "                              dm.di_24_1504, dm.di_7_1868, dm.di_7_1760, dm.di_64_1575, dm.di_11_765], \n",
    "                             min_match=0.001)\n",
    "plt = plt_obj.do_plot()\n",
    "am_7 = plt_obj.plot_context.yes_allele_mask\n",
    "show(plt)"
   ]
  },
  {
   "cell_type": "code",
   "execution_count": 40,
   "metadata": {
    "collapsed": false
   },
   "outputs": [
    {
     "data": {
      "text/html": [
       "<table>\n",
       "<thead><tr><th style=\"text-align:center\">index</th><th style=\"text-align:center\">first</th><th style=\"text-align:center\">length</th><th style=\"text-align:center\">snps</th><th style=\"text-align:center\" colspan=2>alleles</th><th style=\"text-align:center\" colspan=2>matches</th><th style=\"text-align:center\" colspan=2>afr</th><th style=\"text-align:center\" colspan=2>afx</th><th style=\"text-align:center\" colspan=2>amr</th><th style=\"text-align:center\" colspan=2>eas</th><th style=\"text-align:center\" colspan=2>eur</th><th style=\"text-align:center\" colspan=2>sas</th><th style=\"text-align:center\" colspan=2>sax</th></tr></thead>\n",
       "<tr class=\"even\"><td style=\"text-align: right;\">353921</td><td style=\"text-align: right;\">136,501,840</td><td style=\"text-align: right;\">53,819</td><td style=\"text-align: right;\">10</td><td style=\"text-align: right;\">2206</td><td style=\"text-align: right;\">0.02</td><td style=\"text-align: right;\">49</td><td style=\"text-align: right;\">1.00</td><td style=\"text-align: right;\">0</td><td style=\"text-align: right;\">0.00</td><td style=\"text-align: right;\">0</td><td style=\"text-align: right;\">0.00</td><td style=\"text-align: right;\">14</td><td style=\"text-align: right;\">1.39</td><td style=\"text-align: right;\">0</td><td style=\"text-align: right;\">0.00</td><td style=\"text-align: right;\">8</td><td style=\"text-align: right;\">3.27</td><td style=\"text-align: right;\">10</td><td style=\"text-align: right;\">2.45</td><td style=\"text-align: right;\">17</td><td style=\"text-align: right;\">1.89</td></tr>\n",
       "<tr><td style=\"text-align: right;\">353462</td><td style=\"text-align: right;\">135,915,358</td><td style=\"text-align: right;\">79,721</td><td style=\"text-align: right;\">4</td><td style=\"text-align: right;\">1699</td><td style=\"text-align: right;\">0.03</td><td style=\"text-align: right;\">49</td><td style=\"text-align: right;\">1.00</td><td style=\"text-align: right;\">0</td><td style=\"text-align: right;\">0.00</td><td style=\"text-align: right;\">0</td><td style=\"text-align: right;\">0.00</td><td style=\"text-align: right;\">14</td><td style=\"text-align: right;\">1.39</td><td style=\"text-align: right;\">0</td><td style=\"text-align: right;\">0.00</td><td style=\"text-align: right;\">8</td><td style=\"text-align: right;\">3.27</td><td style=\"text-align: right;\">10</td><td style=\"text-align: right;\">2.45</td><td style=\"text-align: right;\">17</td><td style=\"text-align: right;\">1.89</td></tr>\n",
       "<tr class=\"even\"><td style=\"text-align: right;\">353283</td><td style=\"text-align: right;\">135,771,974</td><td style=\"text-align: right;\">368,330</td><td style=\"text-align: right;\">6</td><td style=\"text-align: right;\">1503</td><td style=\"text-align: right;\">0.03</td><td style=\"text-align: right;\">49</td><td style=\"text-align: right;\">1.00</td><td style=\"text-align: right;\">0</td><td style=\"text-align: right;\">0.00</td><td style=\"text-align: right;\">0</td><td style=\"text-align: right;\">0.00</td><td style=\"text-align: right;\">14</td><td style=\"text-align: right;\">1.39</td><td style=\"text-align: right;\">0</td><td style=\"text-align: right;\">0.00</td><td style=\"text-align: right;\">8</td><td style=\"text-align: right;\">3.27</td><td style=\"text-align: right;\">10</td><td style=\"text-align: right;\">2.45</td><td style=\"text-align: right;\">17</td><td style=\"text-align: right;\">1.89</td></tr>\n",
       "<tr><td style=\"text-align: right;\">353797</td><td style=\"text-align: right;\">136,398,174</td><td style=\"text-align: right;\">75,924</td><td style=\"text-align: right;\">26</td><td style=\"text-align: right;\">1414</td><td style=\"text-align: right;\">0.03</td><td style=\"text-align: right;\">49</td><td style=\"text-align: right;\">1.00</td><td style=\"text-align: right;\">0</td><td style=\"text-align: right;\">0.00</td><td style=\"text-align: right;\">0</td><td style=\"text-align: right;\">0.00</td><td style=\"text-align: right;\">14</td><td style=\"text-align: right;\">1.39</td><td style=\"text-align: right;\">0</td><td style=\"text-align: right;\">0.00</td><td style=\"text-align: right;\">8</td><td style=\"text-align: right;\">3.27</td><td style=\"text-align: right;\">10</td><td style=\"text-align: right;\">2.45</td><td style=\"text-align: right;\">17</td><td style=\"text-align: right;\">1.89</td></tr>\n",
       "<tr class=\"even\"><td style=\"text-align: right;\">353604</td><td style=\"text-align: right;\">136,092,061</td><td style=\"text-align: right;\">315,418</td><td style=\"text-align: right;\">4</td><td style=\"text-align: right;\">911</td><td style=\"text-align: right;\">0.05</td><td style=\"text-align: right;\">49</td><td style=\"text-align: right;\">1.00</td><td style=\"text-align: right;\">0</td><td style=\"text-align: right;\">0.00</td><td style=\"text-align: right;\">0</td><td style=\"text-align: right;\">0.00</td><td style=\"text-align: right;\">14</td><td style=\"text-align: right;\">1.39</td><td style=\"text-align: right;\">0</td><td style=\"text-align: right;\">0.00</td><td style=\"text-align: right;\">8</td><td style=\"text-align: right;\">3.27</td><td style=\"text-align: right;\">10</td><td style=\"text-align: right;\">2.45</td><td style=\"text-align: right;\">17</td><td style=\"text-align: right;\">1.89</td></tr>\n",
       "</table>"
      ],
      "text/plain": [
       "<IPython.core.display.HTML object>"
      ]
     },
     "execution_count": 40,
     "metadata": {},
     "output_type": "execute_result"
    }
   ],
   "source": [
    "HTML(plt_obj.get_html())"
   ]
  },
  {
   "cell_type": "code",
   "execution_count": 41,
   "metadata": {
    "collapsed": false
   },
   "outputs": [
    {
     "data": {
      "text/plain": [
       "array([49, 49, 49, 49, 49, 49, 49, 49, 49, 49, 49, 49, 49, 49, 49, 49, 49,\n",
       "       49, 49, 49, 49, 49, 49, 48, 48, 48, 48, 48, 48, 48, 48, 47, 46, 47,\n",
       "       47, 47, 47, 47, 47, 47,  0,  0,  1,  0,  0,  0,  0,  0,  0,  0,  0,\n",
       "        0,  0,  0,  0,  0,  0,  0,  0,  0,  0,  0,  0,  0])"
      ]
     },
     "execution_count": 41,
     "metadata": {},
     "output_type": "execute_result"
    }
   ],
   "source": [
    "sa_64_1575.alleles_per_snp(am_7)"
   ]
  },
  {
   "cell_type": "code",
   "execution_count": 42,
   "metadata": {
    "collapsed": false
   },
   "outputs": [
    {
     "data": {
      "text/html": [
       "<table>\n",
       "<thead><tr><th style=\"text-align:center\">index</th><th style=\"text-align:center\">first</th><th style=\"text-align:center\">length</th><th style=\"text-align:center\">snps</th><th style=\"text-align:center\" colspan=2>alleles</th><th style=\"text-align:center\" colspan=2>matches</th><th style=\"text-align:center\" colspan=2>afr</th><th style=\"text-align:center\" colspan=2>afx</th><th style=\"text-align:center\" colspan=2>amr</th><th style=\"text-align:center\" colspan=2>eas</th><th style=\"text-align:center\" colspan=2>eur</th><th style=\"text-align:center\" colspan=2>sas</th><th style=\"text-align:center\" colspan=2>sax</th></tr></thead>\n",
       "<tr class=\"even\"><td style=\"text-align: right;\">354033</td><td style=\"text-align: right;\">136,588,031</td><td style=\"text-align: right;\">5,647</td><td style=\"text-align: right;\">7</td><td style=\"text-align: right;\">1760</td><td style=\"text-align: right;\">0.00</td><td style=\"text-align: right;\">3</td><td style=\"text-align: right;\">0.27</td><td style=\"text-align: right;\">0</td><td style=\"text-align: right;\">0.00</td><td style=\"text-align: right;\">0</td><td style=\"text-align: right;\">0.00</td><td style=\"text-align: right;\">0</td><td style=\"text-align: right;\">0.00</td><td style=\"text-align: right;\">0</td><td style=\"text-align: right;\">0.00</td><td style=\"text-align: right;\">1</td><td style=\"text-align: right;\">2.68</td><td style=\"text-align: right;\">0</td><td style=\"text-align: right;\">0.00</td><td style=\"text-align: right;\">2</td><td style=\"text-align: right;\">4.85</td></tr>\n",
       "<tr><td style=\"text-align: right;\">353462</td><td style=\"text-align: right;\">135,915,358</td><td style=\"text-align: right;\">79,721</td><td style=\"text-align: right;\">4</td><td style=\"text-align: right;\">1699</td><td style=\"text-align: right;\">0.01</td><td style=\"text-align: right;\">11</td><td style=\"text-align: right;\">1.00</td><td style=\"text-align: right;\">0</td><td style=\"text-align: right;\">0.00</td><td style=\"text-align: right;\">0</td><td style=\"text-align: right;\">0.00</td><td style=\"text-align: right;\">4</td><td style=\"text-align: right;\">2.81</td><td style=\"text-align: right;\">0</td><td style=\"text-align: right;\">0.00</td><td style=\"text-align: right;\">2</td><td style=\"text-align: right;\">1.46</td><td style=\"text-align: right;\">1</td><td style=\"text-align: right;\">1.26</td><td style=\"text-align: right;\">4</td><td style=\"text-align: right;\">2.65</td></tr>\n",
       "<tr class=\"even\"><td style=\"text-align: right;\">354130</td><td style=\"text-align: right;\">136,653,925</td><td style=\"text-align: right;\">107,928</td><td style=\"text-align: right;\">24</td><td style=\"text-align: right;\">1504</td><td style=\"text-align: right;\">0.00</td><td style=\"text-align: right;\">3</td><td style=\"text-align: right;\">0.27</td><td style=\"text-align: right;\">0</td><td style=\"text-align: right;\">0.00</td><td style=\"text-align: right;\">0</td><td style=\"text-align: right;\">0.00</td><td style=\"text-align: right;\">0</td><td style=\"text-align: right;\">0.00</td><td style=\"text-align: right;\">0</td><td style=\"text-align: right;\">0.00</td><td style=\"text-align: right;\">1</td><td style=\"text-align: right;\">2.68</td><td style=\"text-align: right;\">0</td><td style=\"text-align: right;\">0.00</td><td style=\"text-align: right;\">2</td><td style=\"text-align: right;\">4.85</td></tr>\n",
       "<tr><td style=\"text-align: right;\">353283</td><td style=\"text-align: right;\">135,771,974</td><td style=\"text-align: right;\">368,330</td><td style=\"text-align: right;\">6</td><td style=\"text-align: right;\">1503</td><td style=\"text-align: right;\">0.01</td><td style=\"text-align: right;\">11</td><td style=\"text-align: right;\">1.00</td><td style=\"text-align: right;\">0</td><td style=\"text-align: right;\">0.00</td><td style=\"text-align: right;\">0</td><td style=\"text-align: right;\">0.00</td><td style=\"text-align: right;\">4</td><td style=\"text-align: right;\">2.81</td><td style=\"text-align: right;\">0</td><td style=\"text-align: right;\">0.00</td><td style=\"text-align: right;\">2</td><td style=\"text-align: right;\">1.46</td><td style=\"text-align: right;\">1</td><td style=\"text-align: right;\">1.26</td><td style=\"text-align: right;\">4</td><td style=\"text-align: right;\">2.65</td></tr>\n",
       "<tr class=\"even\"><td style=\"text-align: right;\">353925</td><td style=\"text-align: right;\">136,506,375</td><td style=\"text-align: right;\">32,564</td><td style=\"text-align: right;\">4</td><td style=\"text-align: right;\">1442</td><td style=\"text-align: right;\">0.00</td><td style=\"text-align: right;\">6</td><td style=\"text-align: right;\">0.55</td><td style=\"text-align: right;\">0</td><td style=\"text-align: right;\">0.00</td><td style=\"text-align: right;\">0</td><td style=\"text-align: right;\">0.00</td><td style=\"text-align: right;\">3</td><td style=\"text-align: right;\">3.87</td><td style=\"text-align: right;\">0</td><td style=\"text-align: right;\">0.00</td><td style=\"text-align: right;\">1</td><td style=\"text-align: right;\">1.34</td><td style=\"text-align: right;\">0</td><td style=\"text-align: right;\">0.00</td><td style=\"text-align: right;\">2</td><td style=\"text-align: right;\">2.43</td></tr>\n",
       "<tr><td style=\"text-align: right;\">353797</td><td style=\"text-align: right;\">136,398,174</td><td style=\"text-align: right;\">75,924</td><td style=\"text-align: right;\">26</td><td style=\"text-align: right;\">1414</td><td style=\"text-align: right;\">0.01</td><td style=\"text-align: right;\">11</td><td style=\"text-align: right;\">1.00</td><td style=\"text-align: right;\">0</td><td style=\"text-align: right;\">0.00</td><td style=\"text-align: right;\">0</td><td style=\"text-align: right;\">0.00</td><td style=\"text-align: right;\">4</td><td style=\"text-align: right;\">2.81</td><td style=\"text-align: right;\">0</td><td style=\"text-align: right;\">0.00</td><td style=\"text-align: right;\">2</td><td style=\"text-align: right;\">1.46</td><td style=\"text-align: right;\">1</td><td style=\"text-align: right;\">1.26</td><td style=\"text-align: right;\">4</td><td style=\"text-align: right;\">2.65</td></tr>\n",
       "<tr class=\"even\"><td style=\"text-align: right;\">353958</td><td style=\"text-align: right;\">136,535,876</td><td style=\"text-align: right;\">19,014</td><td style=\"text-align: right;\">7</td><td style=\"text-align: right;\">1303</td><td style=\"text-align: right;\">0.00</td><td style=\"text-align: right;\">3</td><td style=\"text-align: right;\">0.27</td><td style=\"text-align: right;\">0</td><td style=\"text-align: right;\">0.00</td><td style=\"text-align: right;\">0</td><td style=\"text-align: right;\">0.00</td><td style=\"text-align: right;\">0</td><td style=\"text-align: right;\">0.00</td><td style=\"text-align: right;\">0</td><td style=\"text-align: right;\">0.00</td><td style=\"text-align: right;\">1</td><td style=\"text-align: right;\">2.68</td><td style=\"text-align: right;\">0</td><td style=\"text-align: right;\">0.00</td><td style=\"text-align: right;\">2</td><td style=\"text-align: right;\">4.85</td></tr>\n",
       "<tr><td style=\"text-align: right;\">354129</td><td style=\"text-align: right;\">136,652,953</td><td style=\"text-align: right;\">108,222</td><td style=\"text-align: right;\">5</td><td style=\"text-align: right;\">1296</td><td style=\"text-align: right;\">0.00</td><td style=\"text-align: right;\">3</td><td style=\"text-align: right;\">0.27</td><td style=\"text-align: right;\">0</td><td style=\"text-align: right;\">0.00</td><td style=\"text-align: right;\">0</td><td style=\"text-align: right;\">0.00</td><td style=\"text-align: right;\">0</td><td style=\"text-align: right;\">0.00</td><td style=\"text-align: right;\">0</td><td style=\"text-align: right;\">0.00</td><td style=\"text-align: right;\">1</td><td style=\"text-align: right;\">2.68</td><td style=\"text-align: right;\">0</td><td style=\"text-align: right;\">0.00</td><td style=\"text-align: right;\">2</td><td style=\"text-align: right;\">4.85</td></tr>\n",
       "<tr class=\"even\"><td style=\"text-align: right;\">353919</td><td style=\"text-align: right;\">136,500,475</td><td style=\"text-align: right;\">42,085</td><td style=\"text-align: right;\">13</td><td style=\"text-align: right;\">1227</td><td style=\"text-align: right;\">0.00</td><td style=\"text-align: right;\">6</td><td style=\"text-align: right;\">0.55</td><td style=\"text-align: right;\">0</td><td style=\"text-align: right;\">0.00</td><td style=\"text-align: right;\">0</td><td style=\"text-align: right;\">0.00</td><td style=\"text-align: right;\">3</td><td style=\"text-align: right;\">3.87</td><td style=\"text-align: right;\">0</td><td style=\"text-align: right;\">0.00</td><td style=\"text-align: right;\">1</td><td style=\"text-align: right;\">1.34</td><td style=\"text-align: right;\">0</td><td style=\"text-align: right;\">0.00</td><td style=\"text-align: right;\">2</td><td style=\"text-align: right;\">2.43</td></tr>\n",
       "<tr><td style=\"text-align: right;\">353906</td><td style=\"text-align: right;\">136,496,493</td><td style=\"text-align: right;\">57,432</td><td style=\"text-align: right;\">9</td><td style=\"text-align: right;\">1170</td><td style=\"text-align: right;\">0.01</td><td style=\"text-align: right;\">7</td><td style=\"text-align: right;\">0.64</td><td style=\"text-align: right;\">0</td><td style=\"text-align: right;\">0.00</td><td style=\"text-align: right;\">0</td><td style=\"text-align: right;\">0.00</td><td style=\"text-align: right;\">4</td><td style=\"text-align: right;\">4.42</td><td style=\"text-align: right;\">0</td><td style=\"text-align: right;\">0.00</td><td style=\"text-align: right;\">0</td><td style=\"text-align: right;\">0.00</td><td style=\"text-align: right;\">1</td><td style=\"text-align: right;\">1.98</td><td style=\"text-align: right;\">2</td><td style=\"text-align: right;\">2.08</td></tr>\n",
       "<tr class=\"even\"><td style=\"text-align: right;\">354127</td><td style=\"text-align: right;\">136,652,491</td><td style=\"text-align: right;\">80,281</td><td style=\"text-align: right;\">6</td><td style=\"text-align: right;\">1114</td><td style=\"text-align: right;\">0.00</td><td style=\"text-align: right;\">3</td><td style=\"text-align: right;\">0.27</td><td style=\"text-align: right;\">0</td><td style=\"text-align: right;\">0.00</td><td style=\"text-align: right;\">0</td><td style=\"text-align: right;\">0.00</td><td style=\"text-align: right;\">0</td><td style=\"text-align: right;\">0.00</td><td style=\"text-align: right;\">0</td><td style=\"text-align: right;\">0.00</td><td style=\"text-align: right;\">1</td><td style=\"text-align: right;\">2.68</td><td style=\"text-align: right;\">0</td><td style=\"text-align: right;\">0.00</td><td style=\"text-align: right;\">2</td><td style=\"text-align: right;\">4.85</td></tr>\n",
       "<tr><td style=\"text-align: right;\">353907</td><td style=\"text-align: right;\">136,496,805</td><td style=\"text-align: right;\">55,824</td><td style=\"text-align: right;\">9</td><td style=\"text-align: right;\">1023</td><td style=\"text-align: right;\">0.01</td><td style=\"text-align: right;\">8</td><td style=\"text-align: right;\">0.73</td><td style=\"text-align: right;\">0</td><td style=\"text-align: right;\">0.00</td><td style=\"text-align: right;\">0</td><td style=\"text-align: right;\">0.00</td><td style=\"text-align: right;\">4</td><td style=\"text-align: right;\">3.87</td><td style=\"text-align: right;\">0</td><td style=\"text-align: right;\">0.00</td><td style=\"text-align: right;\">1</td><td style=\"text-align: right;\">1.01</td><td style=\"text-align: right;\">1</td><td style=\"text-align: right;\">1.73</td><td style=\"text-align: right;\">2</td><td style=\"text-align: right;\">1.82</td></tr>\n",
       "<tr class=\"even\"><td style=\"text-align: right;\">353984</td><td style=\"text-align: right;\">136,556,805</td><td style=\"text-align: right;\">190,280</td><td style=\"text-align: right;\">39</td><td style=\"text-align: right;\">1014</td><td style=\"text-align: right;\">0.01</td><td style=\"text-align: right;\">7</td><td style=\"text-align: right;\">0.64</td><td style=\"text-align: right;\">0</td><td style=\"text-align: right;\">0.00</td><td style=\"text-align: right;\">0</td><td style=\"text-align: right;\">0.00</td><td style=\"text-align: right;\">4</td><td style=\"text-align: right;\">4.42</td><td style=\"text-align: right;\">0</td><td style=\"text-align: right;\">0.00</td><td style=\"text-align: right;\">0</td><td style=\"text-align: right;\">0.00</td><td style=\"text-align: right;\">1</td><td style=\"text-align: right;\">1.98</td><td style=\"text-align: right;\">2</td><td style=\"text-align: right;\">2.08</td></tr>\n",
       "<tr><td style=\"text-align: right;\">353935</td><td style=\"text-align: right;\">136,511,874</td><td style=\"text-align: right;\">21,321</td><td style=\"text-align: right;\">5</td><td style=\"text-align: right;\">976</td><td style=\"text-align: right;\">0.01</td><td style=\"text-align: right;\">5</td><td style=\"text-align: right;\">0.45</td><td style=\"text-align: right;\">0</td><td style=\"text-align: right;\">0.00</td><td style=\"text-align: right;\">0</td><td style=\"text-align: right;\">0.00</td><td style=\"text-align: right;\">1</td><td style=\"text-align: right;\">1.55</td><td style=\"text-align: right;\">0</td><td style=\"text-align: right;\">0.00</td><td style=\"text-align: right;\">1</td><td style=\"text-align: right;\">1.61</td><td style=\"text-align: right;\">1</td><td style=\"text-align: right;\">2.77</td><td style=\"text-align: right;\">2</td><td style=\"text-align: right;\">2.91</td></tr>\n",
       "<tr class=\"even\"><td style=\"text-align: right;\">353604</td><td style=\"text-align: right;\">136,092,061</td><td style=\"text-align: right;\">315,418</td><td style=\"text-align: right;\">4</td><td style=\"text-align: right;\">911</td><td style=\"text-align: right;\">0.01</td><td style=\"text-align: right;\">11</td><td style=\"text-align: right;\">1.00</td><td style=\"text-align: right;\">0</td><td style=\"text-align: right;\">0.00</td><td style=\"text-align: right;\">0</td><td style=\"text-align: right;\">0.00</td><td style=\"text-align: right;\">4</td><td style=\"text-align: right;\">2.81</td><td style=\"text-align: right;\">0</td><td style=\"text-align: right;\">0.00</td><td style=\"text-align: right;\">2</td><td style=\"text-align: right;\">1.46</td><td style=\"text-align: right;\">1</td><td style=\"text-align: right;\">1.26</td><td style=\"text-align: right;\">4</td><td style=\"text-align: right;\">2.65</td></tr>\n",
       "<tr><td style=\"text-align: right;\">353902</td><td style=\"text-align: right;\">136,494,985</td><td style=\"text-align: right;\">278,653</td><td style=\"text-align: right;\">81</td><td style=\"text-align: right;\">857</td><td style=\"text-align: right;\">0.00</td><td style=\"text-align: right;\">3</td><td style=\"text-align: right;\">0.27</td><td style=\"text-align: right;\">0</td><td style=\"text-align: right;\">0.00</td><td style=\"text-align: right;\">0</td><td style=\"text-align: right;\">0.00</td><td style=\"text-align: right;\">0</td><td style=\"text-align: right;\">0.00</td><td style=\"text-align: right;\">0</td><td style=\"text-align: right;\">0.00</td><td style=\"text-align: right;\">1</td><td style=\"text-align: right;\">2.68</td><td style=\"text-align: right;\">0</td><td style=\"text-align: right;\">0.00</td><td style=\"text-align: right;\">2</td><td style=\"text-align: right;\">4.85</td></tr>\n",
       "<tr class=\"even\"><td style=\"text-align: right;\">353938</td><td style=\"text-align: right;\">136,514,709</td><td style=\"text-align: right;\">28,438</td><td style=\"text-align: right;\">6</td><td style=\"text-align: right;\">820</td><td style=\"text-align: right;\">0.01</td><td style=\"text-align: right;\">5</td><td style=\"text-align: right;\">0.45</td><td style=\"text-align: right;\">0</td><td style=\"text-align: right;\">0.00</td><td style=\"text-align: right;\">0</td><td style=\"text-align: right;\">0.00</td><td style=\"text-align: right;\">1</td><td style=\"text-align: right;\">1.55</td><td style=\"text-align: right;\">0</td><td style=\"text-align: right;\">0.00</td><td style=\"text-align: right;\">1</td><td style=\"text-align: right;\">1.61</td><td style=\"text-align: right;\">1</td><td style=\"text-align: right;\">2.77</td><td style=\"text-align: right;\">2</td><td style=\"text-align: right;\">2.91</td></tr>\n",
       "<tr><td style=\"text-align: right;\">354064</td><td style=\"text-align: right;\">136,605,402</td><td style=\"text-align: right;\">19,284</td><td style=\"text-align: right;\">8</td><td style=\"text-align: right;\">328</td><td style=\"text-align: right;\">0.00</td><td style=\"text-align: right;\">1</td><td style=\"text-align: right;\">0.09</td><td style=\"text-align: right;\">0</td><td style=\"text-align: right;\">0.00</td><td style=\"text-align: right;\">0</td><td style=\"text-align: right;\">0.00</td><td style=\"text-align: right;\">0</td><td style=\"text-align: right;\">0.00</td><td style=\"text-align: right;\">0</td><td style=\"text-align: right;\">0.00</td><td style=\"text-align: right;\">1</td><td style=\"text-align: right;\">8.05</td><td style=\"text-align: right;\">0</td><td style=\"text-align: right;\">0.00</td><td style=\"text-align: right;\">0</td><td style=\"text-align: right;\">0.00</td></tr>\n",
       "<tr class=\"even\"><td style=\"text-align: right;\">354051</td><td style=\"text-align: right;\">136,596,162</td><td style=\"text-align: right;\">189,567</td><td style=\"text-align: right;\">17</td><td style=\"text-align: right;\">137</td><td style=\"text-align: right;\">0.01</td><td style=\"text-align: right;\">1</td><td style=\"text-align: right;\">0.09</td><td style=\"text-align: right;\">0</td><td style=\"text-align: right;\">0.00</td><td style=\"text-align: right;\">0</td><td style=\"text-align: right;\">0.00</td><td style=\"text-align: right;\">0</td><td style=\"text-align: right;\">0.00</td><td style=\"text-align: right;\">0</td><td style=\"text-align: right;\">0.00</td><td style=\"text-align: right;\">1</td><td style=\"text-align: right;\">8.05</td><td style=\"text-align: right;\">0</td><td style=\"text-align: right;\">0.00</td><td style=\"text-align: right;\">0</td><td style=\"text-align: right;\">0.00</td></tr>\n",
       "<tr><td style=\"text-align: right;\">354116</td><td style=\"text-align: right;\">136,648,736</td><td style=\"text-align: right;\">114,114</td><td style=\"text-align: right;\">4</td><td style=\"text-align: right;\">26</td><td style=\"text-align: right;\">0.04</td><td style=\"text-align: right;\">1</td><td style=\"text-align: right;\">0.09</td><td style=\"text-align: right;\">0</td><td style=\"text-align: right;\">0.00</td><td style=\"text-align: right;\">0</td><td style=\"text-align: right;\">0.00</td><td style=\"text-align: right;\">0</td><td style=\"text-align: right;\">0.00</td><td style=\"text-align: right;\">0</td><td style=\"text-align: right;\">0.00</td><td style=\"text-align: right;\">1</td><td style=\"text-align: right;\">8.05</td><td style=\"text-align: right;\">0</td><td style=\"text-align: right;\">0.00</td><td style=\"text-align: right;\">0</td><td style=\"text-align: right;\">0.00</td></tr>\n",
       "</table>"
      ],
      "text/plain": [
       "<IPython.core.display.HTML object>"
      ]
     },
     "execution_count": 42,
     "metadata": {},
     "output_type": "execute_result"
    }
   ],
   "source": [
    "plt_obj = dm.superset_yes_no([dm.di_4_911], [dm.di_10_2206, dm.di_64_1575, dm.di_11_765], \n",
    "                             min_match=0.001)\n",
    "plt_obj.do_plot()\n",
    "HTML(plt_obj.get_html())"
   ]
  },
  {
   "cell_type": "code",
   "execution_count": 43,
   "metadata": {
    "collapsed": false
   },
   "outputs": [
    {
     "data": {
      "text/html": [
       "\n",
       "\n",
       "    <div class=\"bk-root\">\n",
       "        <div class=\"plotdiv\" id=\"2dbcc05b-2eb3-4bd7-8c47-a3af3067ec4d\"></div>\n",
       "    </div>\n",
       "<script type=\"text/javascript\">\n",
       "  \n",
       "  (function(global) {\n",
       "    function now() {\n",
       "      return new Date();\n",
       "    }\n",
       "  \n",
       "    if (typeof (window._bokeh_onload_callbacks) === \"undefined\") {\n",
       "      window._bokeh_onload_callbacks = [];\n",
       "    }\n",
       "  \n",
       "    function run_callbacks() {\n",
       "      window._bokeh_onload_callbacks.forEach(function(callback) { callback() });\n",
       "      delete window._bokeh_onload_callbacks\n",
       "      console.info(\"Bokeh: all callbacks have finished\");\n",
       "    }\n",
       "  \n",
       "    function load_libs(js_urls, callback) {\n",
       "      window._bokeh_onload_callbacks.push(callback);\n",
       "      if (window._bokeh_is_loading > 0) {\n",
       "        console.log(\"Bokeh: BokehJS is being loaded, scheduling callback at\", now());\n",
       "        return null;\n",
       "      }\n",
       "      if (js_urls == null || js_urls.length === 0) {\n",
       "        run_callbacks();\n",
       "        return null;\n",
       "      }\n",
       "      console.log(\"Bokeh: BokehJS not loaded, scheduling load and callback at\", now());\n",
       "      window._bokeh_is_loading = js_urls.length;\n",
       "      for (var i = 0; i < js_urls.length; i++) {\n",
       "        var url = js_urls[i];\n",
       "        var s = document.createElement('script');\n",
       "        s.src = url;\n",
       "        s.async = false;\n",
       "        s.onreadystatechange = s.onload = function() {\n",
       "          window._bokeh_is_loading--;\n",
       "          if (window._bokeh_is_loading === 0) {\n",
       "            console.log(\"Bokeh: all BokehJS libraries loaded\");\n",
       "            run_callbacks()\n",
       "          }\n",
       "        };\n",
       "        s.onerror = function() {\n",
       "          console.warn(\"failed to load library \" + url);\n",
       "        };\n",
       "        console.log(\"Bokeh: injecting script tag for BokehJS library: \", url);\n",
       "        document.getElementsByTagName(\"head\")[0].appendChild(s);\n",
       "      }\n",
       "    };var element = document.getElementById(\"2dbcc05b-2eb3-4bd7-8c47-a3af3067ec4d\");\n",
       "    if (element == null) {\n",
       "      console.log(\"Bokeh: ERROR: autoload.js configured with elementid '2dbcc05b-2eb3-4bd7-8c47-a3af3067ec4d' but no matching script tag was found. \")\n",
       "      return false;\n",
       "    }\n",
       "  \n",
       "    var js_urls = [];\n",
       "  \n",
       "    var inline_js = [\n",
       "      function(Bokeh) {\n",
       "        Bokeh.$(function() {\n",
       "            var docs_json = {\"7c2711cd-f1ff-4e3e-ab10-c8d2f2c3d10c\":{\"roots\":{\"references\":[{\"attributes\":{\"bottom\":{\"field\":\"bottom\"},\"fill_alpha\":{\"value\":0.1},\"fill_color\":{\"value\":\"#1f77b4\"},\"left\":{\"field\":\"left\"},\"line_alpha\":{\"value\":0.1},\"line_color\":{\"value\":\"#1f77b4\"},\"right\":{\"field\":\"right\"},\"top\":{\"field\":\"top\"}},\"id\":\"1e88da33-2688-4d2b-97b4-2e799883215a\",\"type\":\"Quad\"},{\"attributes\":{\"callback\":null,\"end\":136786630,\"start\":135757320},\"id\":\"5fb196ec-adcf-4032-ab08-bbc5b5ccd31a\",\"type\":\"Range1d\"},{\"attributes\":{},\"id\":\"c53d5370-98a1-4fb5-98a9-26604b438dc5\",\"type\":\"BasicTickFormatter\"},{\"attributes\":{},\"id\":\"1295e817-cae4-4886-b5ab-a1c95d7333a5\",\"type\":\"BasicTicker\"},{\"attributes\":{\"callback\":null,\"column_names\":[\"y\",\"x\",\"vals\"],\"data\":{\"vals\":[\"6_1503\",\"4_1699\",\"4_911\",\"26_1414\",\"81_857\",\"13_1227\",\"4_1442\",\"7_1303\",\"7_1760\",\"4_26\",\"6_1114\",\"5_1296\",\"24_1504\"],\"x\":[135771974,135915358,136092061,136398174,136494985,136500475,136506375,136535876,136588031,136648736,136652491,136652953,136653925],\"y\":[500.0,601.0,195.0,499.0,195.0,298.0,499.0,399.0,601.0,65.0,297.0,399.0,600.0]}},\"id\":\"36576ca7-febb-4176-980b-dc5df65efc7e\",\"type\":\"ColumnDataSource\"},{\"attributes\":{\"callback\":null,\"column_names\":[\"right\",\"bottom\",\"top\",\"left\",\"fill_color\"],\"data\":{\"bottom\":[450,550,150,450,150,250,450,350,550,50,250,350,550],\"fill_color\":[\"#61c461\",\"#61c461\",\"#00ff00\",\"#61c461\",\"#808080\",\"#808080\",\"#808080\",\"#808080\",\"#c46161\",\"#61c461\",\"#808080\",\"#808080\",\"#808080\"],\"left\":[135771974,135915358,136092061,136398174,136494985,136500475,136506375,136535876,136588031,136648736,136652491,136652953,136653925],\"right\":[136140304,135995079,136407479,136474098,136773638,136542560,136538939,136554890,136593678,136762850,136732772,136761175,136761853],\"top\":[495,596,190,494,190,293,494,394,596,60,292,394,595]}},\"id\":\"7cd37399-5b1f-47d7-acf8-c340e7dd2c33\",\"type\":\"ColumnDataSource\"},{\"attributes\":{},\"id\":\"6e73c6bb-79bf-4e2c-9e00-24c805330ea9\",\"type\":\"ToolEvents\"},{\"attributes\":{\"overlay\":{\"id\":\"8473ae94-ab39-470b-82c2-6f6535ff4697\",\"type\":\"BoxAnnotation\"},\"plot\":{\"id\":\"5f401b62-9947-4da6-9bb4-a0853ecc2db7\",\"subtype\":\"Figure\",\"type\":\"Plot\"}},\"id\":\"978fdd91-a66e-4fc3-9bc6-82aea71ccb7d\",\"type\":\"BoxZoomTool\"},{\"attributes\":{\"data_source\":{\"id\":\"7cd37399-5b1f-47d7-acf8-c340e7dd2c33\",\"type\":\"ColumnDataSource\"},\"glyph\":{\"id\":\"b14d136f-31c8-487e-9c89-f52c913ee1f7\",\"type\":\"Quad\"},\"hover_glyph\":null,\"nonselection_glyph\":{\"id\":\"4a0778b9-1798-4612-b763-bb9f795ecf72\",\"type\":\"Quad\"},\"selection_glyph\":null},\"id\":\"8bb6b138-f8d9-46d5-9c84-851cf81554d5\",\"type\":\"GlyphRenderer\"},{\"attributes\":{\"line_alpha\":{\"value\":0.1},\"line_color\":{\"value\":\"#1f77b4\"},\"xs\":{\"field\":\"xs\"},\"ys\":{\"field\":\"ys\"}},\"id\":\"02752d2a-6665-4fb4-9947-82a51c10cbd1\",\"type\":\"MultiLine\"},{\"attributes\":{\"level\":\"glyph\",\"plot\":{\"id\":\"5f401b62-9947-4da6-9bb4-a0853ecc2db7\",\"subtype\":\"Figure\",\"type\":\"Plot\"},\"source\":{\"id\":\"36576ca7-febb-4176-980b-dc5df65efc7e\",\"type\":\"ColumnDataSource\"},\"text\":{\"field\":\"vals\"},\"text_font_size\":{\"value\":\"9pt\"},\"text_font_style\":\"bold\",\"x\":{\"field\":\"x\"},\"y\":{\"field\":\"y\"}},\"id\":\"43af346d-c562-4dbf-9d86-a07b4bf71a78\",\"type\":\"LabelSet\"},{\"attributes\":{\"bottom\":{\"field\":\"bottom\"},\"fill_alpha\":{\"value\":0.1},\"fill_color\":{\"value\":\"#1f77b4\"},\"left\":{\"field\":\"left\"},\"line_alpha\":{\"value\":0.1},\"line_color\":{\"value\":\"#1f77b4\"},\"right\":{\"field\":\"right\"},\"top\":{\"field\":\"top\"}},\"id\":\"4a0778b9-1798-4612-b763-bb9f795ecf72\",\"type\":\"Quad\"},{\"attributes\":{\"callback\":null,\"column_names\":[\"xs\",\"ys\",\"line_color\"],\"data\":{\"line_color\":[\"black\",\"black\",\"black\",\"black\",\"black\",\"black\",\"black\",\"black\",\"black\",\"black\",\"black\",\"black\",\"black\",\"black\",\"black\",\"black\",\"black\",\"black\",\"black\",\"black\",\"black\",\"black\",\"black\",\"black\",\"black\",\"black\",\"black\",\"black\",\"black\",\"black\",\"black\",\"black\",\"black\",\"black\",\"black\",\"black\",\"black\",\"black\",\"black\",\"black\",\"black\",\"black\",\"black\",\"black\",\"black\",\"black\",\"black\",\"black\",\"black\",\"black\",\"black\",\"black\",\"black\",\"black\",\"black\",\"black\",\"black\",\"black\",\"black\",\"black\",\"black\",\"black\",\"black\",\"black\",\"black\",\"black\",\"black\",\"black\",\"black\",\"black\",\"black\",\"black\",\"black\",\"black\",\"black\",\"black\",\"black\",\"black\",\"black\",\"black\",\"black\",\"black\",\"black\",\"black\",\"black\",\"black\",\"black\",\"black\",\"black\",\"black\",\"black\",\"black\",\"black\",\"black\",\"black\",\"black\",\"black\",\"black\",\"black\",\"black\",\"black\",\"black\",\"black\",\"black\",\"black\",\"black\",\"black\",\"black\",\"black\",\"black\",\"black\",\"black\",\"black\",\"black\",\"black\",\"black\",\"black\",\"black\",\"black\",\"black\",\"black\",\"black\",\"black\",\"black\",\"black\",\"black\",\"black\",\"black\",\"black\",\"black\",\"black\",\"black\",\"black\",\"black\",\"black\",\"black\",\"black\",\"black\",\"black\",\"black\",\"black\",\"black\",\"black\",\"black\",\"black\",\"black\",\"black\",\"black\",\"black\",\"black\",\"black\",\"black\",\"black\",\"black\",\"black\",\"black\",\"black\",\"black\",\"black\",\"black\",\"black\",\"black\",\"black\",\"black\",\"black\",\"black\",\"black\",\"black\",\"black\",\"black\",\"black\",\"black\",\"black\",\"black\",\"black\",\"black\",\"black\",\"black\",\"black\",\"black\",\"black\",\"black\",\"black\",\"black\",\"black\",\"black\",\"black\",\"black\",\"black\",\"black\",\"black\"],\"xs\":[[135771974,135771974],[135859371,135859371],[135877562,135877562],[136022798,136022798],[136058820,136058820],[136140304,136140304],[135915358,135915358],[135954405,135954405],[135995073,135995073],[135995079,135995079],[136092061,136092061],[136273578,136273578],[136322676,136322676],[136407479,136407479],[136398174,136398174],[136402117,136402117],[136403749,136403749],[136409073,136409073],[136410299,136410299],[136413359,136413359],[136416855,136416855],[136416941,136416941],[136418348,136418348],[136419961,136419961],[136420690,136420690],[136422171,136422171],[136428460,136428460],[136430866,136430866],[136432103,136432103],[136437507,136437507],[136439090,136439090],[136439517,136439517],[136444123,136444123],[136445526,136445526],[136445869,136445869],[136455600,136455600],[136456642,136456642],[136462441,136462441],[136470714,136470714],[136474098,136474098],[136494985,136494985],[136497199,136497199],[136511817,136511817],[136513670,136513670],[136515458,136515458],[136516970,136516970],[136525309,136525309],[136528034,136528034],[136532225,136532225],[136535235,136535235],[136536095,136536095],[136544423,136544423],[136546927,136546927],[136552188,136552188],[136552517,136552517],[136555525,136555525],[136556480,136556480],[136560464,136560464],[136572285,136572285],[136582694,136582694],[136582809,136582809],[136584538,136584538],[136585323,136585323],[136586825,136586825],[136600662,136600662],[136612036,136612036],[136618178,136618178],[136618507,136618507],[136622543,136622543],[136624947,136624947],[136625113,136625113],[136626078,136626078],[136628121,136628121],[136632300,136632300],[136633962,136633962],[136635343,136635343],[136638113,136638113],[136640101,136640101],[136641593,136641593],[136646582,136646582],[136648077,136648077],[136648883,136648883],[136652045,136652045],[136653848,136653848],[136656094,136656094],[136661110,136661110],[136663110,136663110],[136663605,136663605],[136665162,136665162],[136665711,136665711],[136668123,136668123],[136670419,136670419],[136672680,136672680],[136673546,136673546],[136684632,136684632],[136686114,136686114],[136690425,136690425],[136690783,136690783],[136692893,136692893],[136694905,136694905],[136695694,136695694],[136695705,136695705],[136696608,136696608],[136697372,136697372],[136697468,136697468],[136700024,136700024],[136701539,136701539],[136702118,136702118],[136707480,136707480],[136710554,136710554],[136714178,136714178],[136719173,136719173],[136725459,136725459],[136734569,136734569],[136744678,136744678],[136748779,136748779],[136751488,136751488],[136754183,136754183],[136763242,136763242],[136765074,136765074],[136773638,136773638],[136500475,136500475],[136501509,136501509],[136504101,136504101],[136509868,136509868],[136520043,136520043],[136527120,136527120],[136530379,136530379],[136530443,136530443],[136539330,136539330],[136539670,136539670],[136540083,136540083],[136542559,136542559],[136542560,136542560],[136506375,136506375],[136506927,136506927],[136510012,136510012],[136538939,136538939],[136535876,136535876],[136544651,136544651],[136545844,136545844],[136552526,136552526],[136553022,136553022],[136554797,136554797],[136554890,136554890],[136588031,136588031],[136589278,136589278],[136589379,136589379],[136589741,136589741],[136590746,136590746],[136593553,136593553],[136593678,136593678],[136648736,136648736],[136705399,136705399],[136715023,136715023],[136762850,136762850],[136652491,136652491],[136652524,136652524],[136661150,136661150],[136669264,136669264],[136726567,136726567],[136732772,136732772],[136652953,136652953],[136655582,136655582],[136674028,136674028],[136684940,136684940],[136761175,136761175],[136653925,136653925],[136654833,136654833],[136656534,136656534],[136656536,136656536],[136657252,136657252],[136667301,136667301],[136667487,136667487],[136672775,136672775],[136680534,136680534],[136686393,136686393],[136688749,136688749],[136692553,136692553],[136697371,136697371],[136708787,136708787],[136710372,136710372],[136711064,136711064],[136715324,136715324],[136723504,136723504],[136737460,136737460],[136743143,136743143],[136746224,136746224],[136751842,136751842],[136759379,136759379],[136761853,136761853]],\"ys\":[[450,495],[450,495],[450,495],[450,495],[450,495],[450,495],[550,596],[550,596],[550,596],[550,596],[150,190],[150,190],[150,190],[150,190],[450,494],[450,494],[450,494],[450,494],[450,494],[450,494],[450,494],[450,494],[450,494],[450,494],[450,494],[450,494],[450,494],[450,494],[450,494],[450,494],[450,494],[450,494],[450,494],[450,494],[450,494],[450,494],[450,494],[450,494],[450,494],[450,494],[150,190],[150,190],[150,190],[150,190],[150,190],[150,190],[150,190],[150,190],[150,190],[150,190],[150,190],[150,190],[150,190],[150,190],[150,190],[150,190],[150,190],[150,190],[150,190],[150,190],[150,190],[150,190],[150,190],[150,190],[150,190],[150,190],[150,190],[150,190],[150,190],[150,190],[150,190],[150,190],[150,190],[150,190],[150,190],[150,190],[150,190],[150,190],[150,190],[150,190],[150,190],[150,190],[150,190],[150,190],[150,190],[150,190],[150,190],[150,190],[150,190],[150,190],[150,190],[150,190],[150,190],[150,190],[150,190],[150,190],[150,190],[150,190],[150,190],[150,190],[150,190],[150,190],[150,190],[150,190],[150,190],[150,190],[150,190],[150,190],[150,190],[150,190],[150,190],[150,190],[150,190],[150,190],[150,190],[150,190],[150,190],[150,190],[150,190],[150,190],[150,190],[250,293],[250,293],[250,293],[250,293],[250,293],[250,293],[250,293],[250,293],[250,293],[250,293],[250,293],[250,293],[250,293],[450,494],[450,494],[450,494],[450,494],[350,394],[350,394],[350,394],[350,394],[350,394],[350,394],[350,394],[550,596],[550,596],[550,596],[550,596],[550,596],[550,596],[550,596],[50,60],[50,60],[50,60],[50,60],[250,292],[250,292],[250,292],[250,292],[250,292],[250,292],[350,394],[350,394],[350,394],[350,394],[350,394],[550,595],[550,595],[550,595],[550,595],[550,595],[550,595],[550,595],[550,595],[550,595],[550,595],[550,595],[550,595],[550,595],[550,595],[550,595],[550,595],[550,595],[550,595],[550,595],[550,595],[550,595],[550,595],[550,595],[550,595]]}},\"id\":\"750fef49-03b8-4f9b-8486-764f1b6a6811\",\"type\":\"ColumnDataSource\"},{\"attributes\":{\"below\":[{\"id\":\"8ead786d-20e6-4d2a-b3bd-9e8a6edc80e5\",\"type\":\"LinearAxis\"}],\"left\":[{\"id\":\"aa5f7c00-3b4f-4a19-8696-484b909f35d2\",\"type\":\"LinearAxis\"}],\"plot_height\":700,\"plot_width\":900,\"renderers\":[{\"id\":\"8ead786d-20e6-4d2a-b3bd-9e8a6edc80e5\",\"type\":\"LinearAxis\"},{\"id\":\"344ae1bc-c073-4d08-a4b6-cb9404f3ee32\",\"type\":\"Grid\"},{\"id\":\"aa5f7c00-3b4f-4a19-8696-484b909f35d2\",\"type\":\"LinearAxis\"},{\"id\":\"9fb98b1f-13e6-45d3-ab56-79402b43b781\",\"type\":\"Grid\"},{\"id\":\"8473ae94-ab39-470b-82c2-6f6535ff4697\",\"type\":\"BoxAnnotation\"},{\"id\":\"8bb6b138-f8d9-46d5-9c84-851cf81554d5\",\"type\":\"GlyphRenderer\"},{\"id\":\"a25e1746-2e6c-4d8a-8f34-6ce79aeca9a7\",\"type\":\"GlyphRenderer\"},{\"id\":\"43af346d-c562-4dbf-9d86-a07b4bf71a78\",\"type\":\"LabelSet\"},{\"id\":\"c1aaca57-28d6-4e87-aceb-c7dc0a200f91\",\"type\":\"GlyphRenderer\"},{\"id\":\"845a7aef-41c1-408e-8f0e-639591feca81\",\"type\":\"LabelSet\"}],\"title\":{\"id\":\"4b0189a7-280c-4a6c-8041-288807eb020c\",\"type\":\"Title\"},\"tool_events\":{\"id\":\"6e73c6bb-79bf-4e2c-9e00-24c805330ea9\",\"type\":\"ToolEvents\"},\"toolbar\":{\"id\":\"0b4bd539-65a8-40cc-a862-bca553c872a3\",\"type\":\"Toolbar\"},\"toolbar_location\":null,\"x_range\":{\"id\":\"5fb196ec-adcf-4032-ab08-bbc5b5ccd31a\",\"type\":\"Range1d\"},\"y_range\":{\"id\":\"eb99490f-a6b2-48f1-ad50-dd2eafea9b4e\",\"type\":\"Range1d\"}},\"id\":\"5f401b62-9947-4da6-9bb4-a0853ecc2db7\",\"subtype\":\"Figure\",\"type\":\"Plot\"},{\"attributes\":{\"line_color\":{\"field\":\"line_color\"},\"xs\":{\"field\":\"xs\"},\"ys\":{\"field\":\"ys\"}},\"id\":\"28468fdd-29d4-4d25-b904-f846baf96cf7\",\"type\":\"MultiLine\"},{\"attributes\":{\"callback\":null,\"column_names\":[\"right\",\"bottom\",\"top\",\"left\"],\"data\":{\"bottom\":[645,645,645,645,645,645,645],\"left\":[135809835,135957574,136289083,136499189,136545415,136597196,136664254],\"right\":[135928279,136288182,136482839,136542633,136594750,136634047,136743222],\"top\":[675,675,675,675,675,675,675]}},\"id\":\"c89d12a6-17dc-409d-94a5-0d87e1dde79b\",\"type\":\"ColumnDataSource\"},{\"attributes\":{\"plot\":{\"id\":\"5f401b62-9947-4da6-9bb4-a0853ecc2db7\",\"subtype\":\"Figure\",\"type\":\"Plot\"}},\"id\":\"f0362108-1b69-42b7-845a-a46b4a8054ee\",\"type\":\"PanTool\"},{\"attributes\":{\"bottom_units\":\"screen\",\"fill_alpha\":{\"value\":0.5},\"fill_color\":{\"value\":\"lightgrey\"},\"left_units\":\"screen\",\"level\":\"overlay\",\"line_alpha\":{\"value\":1.0},\"line_color\":{\"value\":\"black\"},\"line_dash\":[4,4],\"line_width\":{\"value\":2},\"plot\":null,\"render_mode\":\"css\",\"right_units\":\"screen\",\"top_units\":\"screen\"},\"id\":\"8473ae94-ab39-470b-82c2-6f6535ff4697\",\"type\":\"BoxAnnotation\"},{\"attributes\":{\"level\":\"glyph\",\"plot\":{\"id\":\"5f401b62-9947-4da6-9bb4-a0853ecc2db7\",\"subtype\":\"Figure\",\"type\":\"Plot\"},\"source\":{\"id\":\"b9764150-fa53-43d5-bfa3-2ed34efb596d\",\"type\":\"ColumnDataSource\"},\"text\":{\"field\":\"vals\"},\"text_align\":\"center\",\"text_baseline\":\"middle\",\"text_font_size\":{\"value\":\"8pt\"},\"x\":{\"field\":\"x\"},\"y\":{\"field\":\"y\"}},\"id\":\"845a7aef-41c1-408e-8f0e-639591feca81\",\"type\":\"LabelSet\"},{\"attributes\":{\"plot\":{\"id\":\"5f401b62-9947-4da6-9bb4-a0853ecc2db7\",\"subtype\":\"Figure\",\"type\":\"Plot\"}},\"id\":\"22fc7637-afe0-400f-be7c-4176c38c5d79\",\"type\":\"SaveTool\"},{\"attributes\":{\"callback\":null,\"end\":700},\"id\":\"eb99490f-a6b2-48f1-ad50-dd2eafea9b4e\",\"type\":\"Range1d\"},{\"attributes\":{},\"id\":\"0594aa96-42a4-49ee-b292-a428875b023c\",\"type\":\"BasicTickFormatter\"},{\"attributes\":{\"formatter\":{\"id\":\"c53d5370-98a1-4fb5-98a9-26604b438dc5\",\"type\":\"BasicTickFormatter\"},\"plot\":{\"id\":\"5f401b62-9947-4da6-9bb4-a0853ecc2db7\",\"subtype\":\"Figure\",\"type\":\"Plot\"},\"ticker\":{\"id\":\"2cd7b951-a580-40d4-ac32-90d120f25315\",\"type\":\"BasicTicker\"}},\"id\":\"8ead786d-20e6-4d2a-b3bd-9e8a6edc80e5\",\"type\":\"LinearAxis\"},{\"attributes\":{\"plot\":{\"id\":\"5f401b62-9947-4da6-9bb4-a0853ecc2db7\",\"subtype\":\"Figure\",\"type\":\"Plot\"}},\"id\":\"3849493e-5506-4874-ab97-306ce4cb4dba\",\"type\":\"HelpTool\"},{\"attributes\":{\"bottom\":{\"field\":\"bottom\"},\"fill_color\":{\"value\":\"white\"},\"left\":{\"field\":\"left\"},\"right\":{\"field\":\"right\"},\"top\":{\"field\":\"top\"}},\"id\":\"65e5b18b-d728-4dc9-b036-71f5cf14b64d\",\"type\":\"Quad\"},{\"attributes\":{\"bottom\":{\"field\":\"bottom\"},\"fill_color\":{\"field\":\"fill_color\"},\"left\":{\"field\":\"left\"},\"line_color\":{\"value\":null},\"right\":{\"field\":\"right\"},\"top\":{\"field\":\"top\"}},\"id\":\"b14d136f-31c8-487e-9c89-f52c913ee1f7\",\"type\":\"Quad\"},{\"attributes\":{\"plot\":{\"id\":\"5f401b62-9947-4da6-9bb4-a0853ecc2db7\",\"subtype\":\"Figure\",\"type\":\"Plot\"},\"ticker\":{\"id\":\"2cd7b951-a580-40d4-ac32-90d120f25315\",\"type\":\"BasicTicker\"}},\"id\":\"344ae1bc-c073-4d08-a4b6-cb9404f3ee32\",\"type\":\"Grid\"},{\"attributes\":{\"callback\":null,\"column_names\":[\"y\",\"x\",\"vals\"],\"data\":{\"vals\":[\"RAB3GAP1\",\"ZRANB3\",\"R3HDM1\",\"UBXN4\",\"LCT\",\"MCM6\",\"DARS\"],\"x\":[135869057.0,136122878.0,136385961.0,136520911.0,136570082.5,136615621.5,136703738.0],\"y\":[660.0,660.0,660.0,660.0,660.0,660.0,660.0]}},\"id\":\"b9764150-fa53-43d5-bfa3-2ed34efb596d\",\"type\":\"ColumnDataSource\"},{\"attributes\":{\"data_source\":{\"id\":\"c89d12a6-17dc-409d-94a5-0d87e1dde79b\",\"type\":\"ColumnDataSource\"},\"glyph\":{\"id\":\"65e5b18b-d728-4dc9-b036-71f5cf14b64d\",\"type\":\"Quad\"},\"hover_glyph\":null,\"nonselection_glyph\":{\"id\":\"1e88da33-2688-4d2b-97b4-2e799883215a\",\"type\":\"Quad\"},\"selection_glyph\":null},\"id\":\"c1aaca57-28d6-4e87-aceb-c7dc0a200f91\",\"type\":\"GlyphRenderer\"},{\"attributes\":{},\"id\":\"2cd7b951-a580-40d4-ac32-90d120f25315\",\"type\":\"BasicTicker\"},{\"attributes\":{\"active_drag\":\"auto\",\"active_scroll\":\"auto\",\"active_tap\":\"auto\",\"tools\":[{\"id\":\"f0362108-1b69-42b7-845a-a46b4a8054ee\",\"type\":\"PanTool\"},{\"id\":\"94fedc46-6eed-4967-8494-a2b8ea498841\",\"type\":\"WheelZoomTool\"},{\"id\":\"978fdd91-a66e-4fc3-9bc6-82aea71ccb7d\",\"type\":\"BoxZoomTool\"},{\"id\":\"22fc7637-afe0-400f-be7c-4176c38c5d79\",\"type\":\"SaveTool\"},{\"id\":\"61779d8f-0dad-4968-86a5-92d67063544e\",\"type\":\"ResetTool\"},{\"id\":\"3849493e-5506-4874-ab97-306ce4cb4dba\",\"type\":\"HelpTool\"}]},\"id\":\"0b4bd539-65a8-40cc-a862-bca553c872a3\",\"type\":\"Toolbar\"},{\"attributes\":{\"formatter\":{\"id\":\"0594aa96-42a4-49ee-b292-a428875b023c\",\"type\":\"BasicTickFormatter\"},\"plot\":{\"id\":\"5f401b62-9947-4da6-9bb4-a0853ecc2db7\",\"subtype\":\"Figure\",\"type\":\"Plot\"},\"ticker\":{\"id\":\"1295e817-cae4-4886-b5ab-a1c95d7333a5\",\"type\":\"BasicTicker\"},\"visible\":null},\"id\":\"aa5f7c00-3b4f-4a19-8696-484b909f35d2\",\"type\":\"LinearAxis\"},{\"attributes\":{\"dimension\":1,\"plot\":{\"id\":\"5f401b62-9947-4da6-9bb4-a0853ecc2db7\",\"subtype\":\"Figure\",\"type\":\"Plot\"},\"ticker\":{\"id\":\"1295e817-cae4-4886-b5ab-a1c95d7333a5\",\"type\":\"BasicTicker\"}},\"id\":\"9fb98b1f-13e6-45d3-ab56-79402b43b781\",\"type\":\"Grid\"},{\"attributes\":{\"data_source\":{\"id\":\"750fef49-03b8-4f9b-8486-764f1b6a6811\",\"type\":\"ColumnDataSource\"},\"glyph\":{\"id\":\"28468fdd-29d4-4d25-b904-f846baf96cf7\",\"type\":\"MultiLine\"},\"hover_glyph\":null,\"nonselection_glyph\":{\"id\":\"02752d2a-6665-4fb4-9947-82a51c10cbd1\",\"type\":\"MultiLine\"},\"selection_glyph\":null},\"id\":\"a25e1746-2e6c-4d8a-8f34-6ce79aeca9a7\",\"type\":\"GlyphRenderer\"},{\"attributes\":{\"plot\":{\"id\":\"5f401b62-9947-4da6-9bb4-a0853ecc2db7\",\"subtype\":\"Figure\",\"type\":\"Plot\"}},\"id\":\"61779d8f-0dad-4968-86a5-92d67063544e\",\"type\":\"ResetTool\"},{\"attributes\":{\"plot\":null,\"text\":null},\"id\":\"4b0189a7-280c-4a6c-8041-288807eb020c\",\"type\":\"Title\"},{\"attributes\":{\"plot\":{\"id\":\"5f401b62-9947-4da6-9bb4-a0853ecc2db7\",\"subtype\":\"Figure\",\"type\":\"Plot\"}},\"id\":\"94fedc46-6eed-4967-8494-a2b8ea498841\",\"type\":\"WheelZoomTool\"}],\"root_ids\":[\"5f401b62-9947-4da6-9bb4-a0853ecc2db7\"]},\"title\":\"Bokeh Application\",\"version\":\"0.12.0\"}};\n",
       "            var render_items = [{\"docid\":\"7c2711cd-f1ff-4e3e-ab10-c8d2f2c3d10c\",\"elementid\":\"2dbcc05b-2eb3-4bd7-8c47-a3af3067ec4d\",\"modelid\":\"5f401b62-9947-4da6-9bb4-a0853ecc2db7\",\"notebook_comms_target\":\"a80024e1-2e2e-438e-a050-4f7867285e0a\"}];\n",
       "            \n",
       "            Bokeh.embed.embed_items(docs_json, render_items);\n",
       "        });\n",
       "      },\n",
       "      function(Bokeh) {\n",
       "      }\n",
       "    ];\n",
       "  \n",
       "    function run_inline_js() {\n",
       "      for (var i = 0; i < inline_js.length; i++) {\n",
       "        inline_js[i](window.Bokeh);\n",
       "      }\n",
       "    }\n",
       "  \n",
       "    if (window._bokeh_is_loading === 0) {\n",
       "      console.log(\"Bokeh: BokehJS loaded, going straight to plotting\");\n",
       "      run_inline_js();\n",
       "    } else {\n",
       "      load_libs(js_urls, function() {\n",
       "        console.log(\"Bokeh: BokehJS plotting callback run at\", now());\n",
       "        run_inline_js();\n",
       "      });\n",
       "    }\n",
       "  }(this));\n",
       "</script>"
      ]
     },
     "metadata": {},
     "output_type": "display_data"
    },
    {
     "data": {
      "text/html": [
       "<p><code>&lt;Bokeh Notebook handle for <strong>In[43]</strong>&gt;</code></p>"
      ],
      "text/plain": [
       "<bokeh.io._CommsHandle at 0x7f46f10f1b10>"
      ]
     },
     "execution_count": 43,
     "metadata": {},
     "output_type": "execute_result"
    }
   ],
   "source": [
    "di_4_26 = 354116\n",
    "plt_obj = dm.superset_yes_no([dm.di_4_911, dm.di_7_1760, di_4_26], \n",
    "                             [dm.di_10_2206, dm.di_64_1575, dm.di_11_765],                              \n",
    "                             min_match=0.001)\n",
    "plt = plt_obj.do_plot()\n",
    "am_8 = plt_obj.plot_context.yes_allele_mask\n",
    "show(plt)"
   ]
  },
  {
   "cell_type": "code",
   "execution_count": 44,
   "metadata": {
    "collapsed": false
   },
   "outputs": [
    {
     "data": {
      "text/html": [
       "<table>\n",
       "<thead><tr><th style=\"text-align:center\">index</th><th style=\"text-align:center\">first</th><th style=\"text-align:center\">length</th><th style=\"text-align:center\">snps</th><th style=\"text-align:center\" colspan=2>alleles</th><th style=\"text-align:center\" colspan=2>matches</th><th style=\"text-align:center\" colspan=2>afr</th><th style=\"text-align:center\" colspan=2>afx</th><th style=\"text-align:center\" colspan=2>amr</th><th style=\"text-align:center\" colspan=2>eas</th><th style=\"text-align:center\" colspan=2>eur</th><th style=\"text-align:center\" colspan=2>sas</th><th style=\"text-align:center\" colspan=2>sax</th></tr></thead>\n",
       "<tr class=\"even\"><td style=\"text-align: right;\">354033</td><td style=\"text-align: right;\">136,588,031</td><td style=\"text-align: right;\">5,647</td><td style=\"text-align: right;\">7</td><td style=\"text-align: right;\">1760</td><td style=\"text-align: right;\">0.00</td><td style=\"text-align: right;\">1</td><td style=\"text-align: right;\">1.00</td><td style=\"text-align: right;\">0</td><td style=\"text-align: right;\">0.00</td><td style=\"text-align: right;\">0</td><td style=\"text-align: right;\">0.00</td><td style=\"text-align: right;\">0</td><td style=\"text-align: right;\">0.00</td><td style=\"text-align: right;\">0</td><td style=\"text-align: right;\">0.00</td><td style=\"text-align: right;\">1</td><td style=\"text-align: right;\">8.05</td><td style=\"text-align: right;\">0</td><td style=\"text-align: right;\">0.00</td><td style=\"text-align: right;\">0</td><td style=\"text-align: right;\">0.00</td></tr>\n",
       "<tr><td style=\"text-align: right;\">353462</td><td style=\"text-align: right;\">135,915,358</td><td style=\"text-align: right;\">79,721</td><td style=\"text-align: right;\">4</td><td style=\"text-align: right;\">1699</td><td style=\"text-align: right;\">0.00</td><td style=\"text-align: right;\">1</td><td style=\"text-align: right;\">1.00</td><td style=\"text-align: right;\">0</td><td style=\"text-align: right;\">0.00</td><td style=\"text-align: right;\">0</td><td style=\"text-align: right;\">0.00</td><td style=\"text-align: right;\">0</td><td style=\"text-align: right;\">0.00</td><td style=\"text-align: right;\">0</td><td style=\"text-align: right;\">0.00</td><td style=\"text-align: right;\">1</td><td style=\"text-align: right;\">8.05</td><td style=\"text-align: right;\">0</td><td style=\"text-align: right;\">0.00</td><td style=\"text-align: right;\">0</td><td style=\"text-align: right;\">0.00</td></tr>\n",
       "<tr class=\"even\"><td style=\"text-align: right;\">354130</td><td style=\"text-align: right;\">136,653,925</td><td style=\"text-align: right;\">107,928</td><td style=\"text-align: right;\">24</td><td style=\"text-align: right;\">1504</td><td style=\"text-align: right;\">0.00</td><td style=\"text-align: right;\">1</td><td style=\"text-align: right;\">1.00</td><td style=\"text-align: right;\">0</td><td style=\"text-align: right;\">0.00</td><td style=\"text-align: right;\">0</td><td style=\"text-align: right;\">0.00</td><td style=\"text-align: right;\">0</td><td style=\"text-align: right;\">0.00</td><td style=\"text-align: right;\">0</td><td style=\"text-align: right;\">0.00</td><td style=\"text-align: right;\">1</td><td style=\"text-align: right;\">8.05</td><td style=\"text-align: right;\">0</td><td style=\"text-align: right;\">0.00</td><td style=\"text-align: right;\">0</td><td style=\"text-align: right;\">0.00</td></tr>\n",
       "<tr><td style=\"text-align: right;\">353283</td><td style=\"text-align: right;\">135,771,974</td><td style=\"text-align: right;\">368,330</td><td style=\"text-align: right;\">6</td><td style=\"text-align: right;\">1503</td><td style=\"text-align: right;\">0.00</td><td style=\"text-align: right;\">1</td><td style=\"text-align: right;\">1.00</td><td style=\"text-align: right;\">0</td><td style=\"text-align: right;\">0.00</td><td style=\"text-align: right;\">0</td><td style=\"text-align: right;\">0.00</td><td style=\"text-align: right;\">0</td><td style=\"text-align: right;\">0.00</td><td style=\"text-align: right;\">0</td><td style=\"text-align: right;\">0.00</td><td style=\"text-align: right;\">1</td><td style=\"text-align: right;\">8.05</td><td style=\"text-align: right;\">0</td><td style=\"text-align: right;\">0.00</td><td style=\"text-align: right;\">0</td><td style=\"text-align: right;\">0.00</td></tr>\n",
       "<tr class=\"even\"><td style=\"text-align: right;\">353925</td><td style=\"text-align: right;\">136,506,375</td><td style=\"text-align: right;\">32,564</td><td style=\"text-align: right;\">4</td><td style=\"text-align: right;\">1442</td><td style=\"text-align: right;\">0.00</td><td style=\"text-align: right;\">1</td><td style=\"text-align: right;\">1.00</td><td style=\"text-align: right;\">0</td><td style=\"text-align: right;\">0.00</td><td style=\"text-align: right;\">0</td><td style=\"text-align: right;\">0.00</td><td style=\"text-align: right;\">0</td><td style=\"text-align: right;\">0.00</td><td style=\"text-align: right;\">0</td><td style=\"text-align: right;\">0.00</td><td style=\"text-align: right;\">1</td><td style=\"text-align: right;\">8.05</td><td style=\"text-align: right;\">0</td><td style=\"text-align: right;\">0.00</td><td style=\"text-align: right;\">0</td><td style=\"text-align: right;\">0.00</td></tr>\n",
       "<tr><td style=\"text-align: right;\">353797</td><td style=\"text-align: right;\">136,398,174</td><td style=\"text-align: right;\">75,924</td><td style=\"text-align: right;\">26</td><td style=\"text-align: right;\">1414</td><td style=\"text-align: right;\">0.00</td><td style=\"text-align: right;\">1</td><td style=\"text-align: right;\">1.00</td><td style=\"text-align: right;\">0</td><td style=\"text-align: right;\">0.00</td><td style=\"text-align: right;\">0</td><td style=\"text-align: right;\">0.00</td><td style=\"text-align: right;\">0</td><td style=\"text-align: right;\">0.00</td><td style=\"text-align: right;\">0</td><td style=\"text-align: right;\">0.00</td><td style=\"text-align: right;\">1</td><td style=\"text-align: right;\">8.05</td><td style=\"text-align: right;\">0</td><td style=\"text-align: right;\">0.00</td><td style=\"text-align: right;\">0</td><td style=\"text-align: right;\">0.00</td></tr>\n",
       "<tr class=\"even\"><td style=\"text-align: right;\">353958</td><td style=\"text-align: right;\">136,535,876</td><td style=\"text-align: right;\">19,014</td><td style=\"text-align: right;\">7</td><td style=\"text-align: right;\">1303</td><td style=\"text-align: right;\">0.00</td><td style=\"text-align: right;\">1</td><td style=\"text-align: right;\">1.00</td><td style=\"text-align: right;\">0</td><td style=\"text-align: right;\">0.00</td><td style=\"text-align: right;\">0</td><td style=\"text-align: right;\">0.00</td><td style=\"text-align: right;\">0</td><td style=\"text-align: right;\">0.00</td><td style=\"text-align: right;\">0</td><td style=\"text-align: right;\">0.00</td><td style=\"text-align: right;\">1</td><td style=\"text-align: right;\">8.05</td><td style=\"text-align: right;\">0</td><td style=\"text-align: right;\">0.00</td><td style=\"text-align: right;\">0</td><td style=\"text-align: right;\">0.00</td></tr>\n",
       "<tr><td style=\"text-align: right;\">354129</td><td style=\"text-align: right;\">136,652,953</td><td style=\"text-align: right;\">108,222</td><td style=\"text-align: right;\">5</td><td style=\"text-align: right;\">1296</td><td style=\"text-align: right;\">0.00</td><td style=\"text-align: right;\">1</td><td style=\"text-align: right;\">1.00</td><td style=\"text-align: right;\">0</td><td style=\"text-align: right;\">0.00</td><td style=\"text-align: right;\">0</td><td style=\"text-align: right;\">0.00</td><td style=\"text-align: right;\">0</td><td style=\"text-align: right;\">0.00</td><td style=\"text-align: right;\">0</td><td style=\"text-align: right;\">0.00</td><td style=\"text-align: right;\">1</td><td style=\"text-align: right;\">8.05</td><td style=\"text-align: right;\">0</td><td style=\"text-align: right;\">0.00</td><td style=\"text-align: right;\">0</td><td style=\"text-align: right;\">0.00</td></tr>\n",
       "<tr class=\"even\"><td style=\"text-align: right;\">353919</td><td style=\"text-align: right;\">136,500,475</td><td style=\"text-align: right;\">42,085</td><td style=\"text-align: right;\">13</td><td style=\"text-align: right;\">1227</td><td style=\"text-align: right;\">0.00</td><td style=\"text-align: right;\">1</td><td style=\"text-align: right;\">1.00</td><td style=\"text-align: right;\">0</td><td style=\"text-align: right;\">0.00</td><td style=\"text-align: right;\">0</td><td style=\"text-align: right;\">0.00</td><td style=\"text-align: right;\">0</td><td style=\"text-align: right;\">0.00</td><td style=\"text-align: right;\">0</td><td style=\"text-align: right;\">0.00</td><td style=\"text-align: right;\">1</td><td style=\"text-align: right;\">8.05</td><td style=\"text-align: right;\">0</td><td style=\"text-align: right;\">0.00</td><td style=\"text-align: right;\">0</td><td style=\"text-align: right;\">0.00</td></tr>\n",
       "<tr><td style=\"text-align: right;\">354127</td><td style=\"text-align: right;\">136,652,491</td><td style=\"text-align: right;\">80,281</td><td style=\"text-align: right;\">6</td><td style=\"text-align: right;\">1114</td><td style=\"text-align: right;\">0.00</td><td style=\"text-align: right;\">1</td><td style=\"text-align: right;\">1.00</td><td style=\"text-align: right;\">0</td><td style=\"text-align: right;\">0.00</td><td style=\"text-align: right;\">0</td><td style=\"text-align: right;\">0.00</td><td style=\"text-align: right;\">0</td><td style=\"text-align: right;\">0.00</td><td style=\"text-align: right;\">0</td><td style=\"text-align: right;\">0.00</td><td style=\"text-align: right;\">1</td><td style=\"text-align: right;\">8.05</td><td style=\"text-align: right;\">0</td><td style=\"text-align: right;\">0.00</td><td style=\"text-align: right;\">0</td><td style=\"text-align: right;\">0.00</td></tr>\n",
       "<tr class=\"even\"><td style=\"text-align: right;\">353604</td><td style=\"text-align: right;\">136,092,061</td><td style=\"text-align: right;\">315,418</td><td style=\"text-align: right;\">4</td><td style=\"text-align: right;\">911</td><td style=\"text-align: right;\">0.00</td><td style=\"text-align: right;\">1</td><td style=\"text-align: right;\">1.00</td><td style=\"text-align: right;\">0</td><td style=\"text-align: right;\">0.00</td><td style=\"text-align: right;\">0</td><td style=\"text-align: right;\">0.00</td><td style=\"text-align: right;\">0</td><td style=\"text-align: right;\">0.00</td><td style=\"text-align: right;\">0</td><td style=\"text-align: right;\">0.00</td><td style=\"text-align: right;\">1</td><td style=\"text-align: right;\">8.05</td><td style=\"text-align: right;\">0</td><td style=\"text-align: right;\">0.00</td><td style=\"text-align: right;\">0</td><td style=\"text-align: right;\">0.00</td></tr>\n",
       "<tr><td style=\"text-align: right;\">353902</td><td style=\"text-align: right;\">136,494,985</td><td style=\"text-align: right;\">278,653</td><td style=\"text-align: right;\">81</td><td style=\"text-align: right;\">857</td><td style=\"text-align: right;\">0.00</td><td style=\"text-align: right;\">1</td><td style=\"text-align: right;\">1.00</td><td style=\"text-align: right;\">0</td><td style=\"text-align: right;\">0.00</td><td style=\"text-align: right;\">0</td><td style=\"text-align: right;\">0.00</td><td style=\"text-align: right;\">0</td><td style=\"text-align: right;\">0.00</td><td style=\"text-align: right;\">0</td><td style=\"text-align: right;\">0.00</td><td style=\"text-align: right;\">1</td><td style=\"text-align: right;\">8.05</td><td style=\"text-align: right;\">0</td><td style=\"text-align: right;\">0.00</td><td style=\"text-align: right;\">0</td><td style=\"text-align: right;\">0.00</td></tr>\n",
       "<tr class=\"even\"><td style=\"text-align: right;\">354116</td><td style=\"text-align: right;\">136,648,736</td><td style=\"text-align: right;\">114,114</td><td style=\"text-align: right;\">4</td><td style=\"text-align: right;\">26</td><td style=\"text-align: right;\">0.04</td><td style=\"text-align: right;\">1</td><td style=\"text-align: right;\">1.00</td><td style=\"text-align: right;\">0</td><td style=\"text-align: right;\">0.00</td><td style=\"text-align: right;\">0</td><td style=\"text-align: right;\">0.00</td><td style=\"text-align: right;\">0</td><td style=\"text-align: right;\">0.00</td><td style=\"text-align: right;\">0</td><td style=\"text-align: right;\">0.00</td><td style=\"text-align: right;\">1</td><td style=\"text-align: right;\">8.05</td><td style=\"text-align: right;\">0</td><td style=\"text-align: right;\">0.00</td><td style=\"text-align: right;\">0</td><td style=\"text-align: right;\">0.00</td></tr>\n",
       "</table>"
      ],
      "text/plain": [
       "<IPython.core.display.HTML object>"
      ]
     },
     "execution_count": 44,
     "metadata": {},
     "output_type": "execute_result"
    }
   ],
   "source": [
    "HTML(plt_obj.get_html())"
   ]
  },
  {
   "cell_type": "code",
   "execution_count": 45,
   "metadata": {
    "collapsed": false
   },
   "outputs": [
    {
     "data": {
      "text/plain": [
       "array([1, 0, 0, 0, 0, 0, 0, 0, 0, 0, 0, 0, 0, 0, 0, 0, 0, 0, 0, 0, 0, 0, 0,\n",
       "       0, 0, 0, 0, 0, 0, 0, 0, 0, 0, 0, 0, 0, 0, 0, 0, 0, 0, 0, 0, 0, 0, 0,\n",
       "       0, 0, 0, 0, 0, 0, 0, 0, 0, 0, 0, 0, 0, 0, 0, 0, 0, 0])"
      ]
     },
     "execution_count": 45,
     "metadata": {},
     "output_type": "execute_result"
    }
   ],
   "source": [
    "sa_64_1575.alleles_per_snp(am_8)"
   ]
  },
  {
   "cell_type": "code",
   "execution_count": 46,
   "metadata": {
    "collapsed": false
   },
   "outputs": [
    {
     "data": {
      "text/html": [
       "\n",
       "\n",
       "    <div class=\"bk-root\">\n",
       "        <div class=\"plotdiv\" id=\"38f9e857-d899-404f-a4d8-ae045386c9db\"></div>\n",
       "    </div>\n",
       "<script type=\"text/javascript\">\n",
       "  \n",
       "  (function(global) {\n",
       "    function now() {\n",
       "      return new Date();\n",
       "    }\n",
       "  \n",
       "    if (typeof (window._bokeh_onload_callbacks) === \"undefined\") {\n",
       "      window._bokeh_onload_callbacks = [];\n",
       "    }\n",
       "  \n",
       "    function run_callbacks() {\n",
       "      window._bokeh_onload_callbacks.forEach(function(callback) { callback() });\n",
       "      delete window._bokeh_onload_callbacks\n",
       "      console.info(\"Bokeh: all callbacks have finished\");\n",
       "    }\n",
       "  \n",
       "    function load_libs(js_urls, callback) {\n",
       "      window._bokeh_onload_callbacks.push(callback);\n",
       "      if (window._bokeh_is_loading > 0) {\n",
       "        console.log(\"Bokeh: BokehJS is being loaded, scheduling callback at\", now());\n",
       "        return null;\n",
       "      }\n",
       "      if (js_urls == null || js_urls.length === 0) {\n",
       "        run_callbacks();\n",
       "        return null;\n",
       "      }\n",
       "      console.log(\"Bokeh: BokehJS not loaded, scheduling load and callback at\", now());\n",
       "      window._bokeh_is_loading = js_urls.length;\n",
       "      for (var i = 0; i < js_urls.length; i++) {\n",
       "        var url = js_urls[i];\n",
       "        var s = document.createElement('script');\n",
       "        s.src = url;\n",
       "        s.async = false;\n",
       "        s.onreadystatechange = s.onload = function() {\n",
       "          window._bokeh_is_loading--;\n",
       "          if (window._bokeh_is_loading === 0) {\n",
       "            console.log(\"Bokeh: all BokehJS libraries loaded\");\n",
       "            run_callbacks()\n",
       "          }\n",
       "        };\n",
       "        s.onerror = function() {\n",
       "          console.warn(\"failed to load library \" + url);\n",
       "        };\n",
       "        console.log(\"Bokeh: injecting script tag for BokehJS library: \", url);\n",
       "        document.getElementsByTagName(\"head\")[0].appendChild(s);\n",
       "      }\n",
       "    };var element = document.getElementById(\"38f9e857-d899-404f-a4d8-ae045386c9db\");\n",
       "    if (element == null) {\n",
       "      console.log(\"Bokeh: ERROR: autoload.js configured with elementid '38f9e857-d899-404f-a4d8-ae045386c9db' but no matching script tag was found. \")\n",
       "      return false;\n",
       "    }\n",
       "  \n",
       "    var js_urls = [];\n",
       "  \n",
       "    var inline_js = [\n",
       "      function(Bokeh) {\n",
       "        Bokeh.$(function() {\n",
       "            var docs_json = {\"52e58823-4332-453d-8583-672e82c8805b\":{\"roots\":{\"references\":[{\"attributes\":{\"bottom\":{\"field\":\"bottom\"},\"fill_color\":{\"field\":\"fill_color\"},\"left\":{\"field\":\"left\"},\"line_color\":{\"value\":null},\"right\":{\"field\":\"right\"},\"top\":{\"field\":\"top\"}},\"id\":\"fc12150d-da5c-4abe-bf1a-5b942cfa7a29\",\"type\":\"Quad\"},{\"attributes\":{},\"id\":\"d5a5810d-dbc8-4d8f-bbdb-0c6e70a2559a\",\"type\":\"BasicTicker\"},{\"attributes\":{\"plot\":{\"id\":\"4405e456-6728-4e0c-8275-884a3b8ad6cc\",\"subtype\":\"Figure\",\"type\":\"Plot\"},\"ticker\":{\"id\":\"d5a5810d-dbc8-4d8f-bbdb-0c6e70a2559a\",\"type\":\"BasicTicker\"}},\"id\":\"a2e729d8-600d-4ce3-8ef2-057d0ac1e9dc\",\"type\":\"Grid\"},{\"attributes\":{},\"id\":\"a3d535c8-8847-4749-b785-0fab99ff2aa9\",\"type\":\"ToolEvents\"},{\"attributes\":{\"line_color\":{\"field\":\"line_color\"},\"xs\":{\"field\":\"xs\"},\"ys\":{\"field\":\"ys\"}},\"id\":\"b64e2b81-0b88-4e68-a7d4-ea34eafc038f\",\"type\":\"MultiLine\"},{\"attributes\":{\"plot\":{\"id\":\"4405e456-6728-4e0c-8275-884a3b8ad6cc\",\"subtype\":\"Figure\",\"type\":\"Plot\"}},\"id\":\"26ef1d7b-dd13-4b34-bb27-3c76624cd868\",\"type\":\"WheelZoomTool\"},{\"attributes\":{\"bottom\":{\"field\":\"bottom\"},\"fill_alpha\":{\"value\":0.1},\"fill_color\":{\"value\":\"#1f77b4\"},\"left\":{\"field\":\"left\"},\"line_alpha\":{\"value\":0.1},\"line_color\":{\"value\":\"#1f77b4\"},\"right\":{\"field\":\"right\"},\"top\":{\"field\":\"top\"}},\"id\":\"40acb497-19ad-431b-a4c6-5f28fead0c38\",\"type\":\"Quad\"},{\"attributes\":{},\"id\":\"37b46e05-b509-4ccd-88b4-1eccc554b69c\",\"type\":\"BasicTicker\"},{\"attributes\":{\"callback\":null,\"column_names\":[\"y\",\"x\",\"vals\"],\"data\":{\"vals\":[\"RAB3GAP1\",\"ZRANB3\",\"R3HDM1\",\"UBXN4\",\"LCT\",\"MCM6\",\"DARS\"],\"x\":[135869057.0,136122878.0,136385961.0,136520911.0,136570082.5,136615621.5,136703738.0],\"y\":[560.0,560.0,560.0,560.0,560.0,560.0,560.0]}},\"id\":\"ab3ea0c5-c1d9-42ed-8759-2f1bae160778\",\"type\":\"ColumnDataSource\"},{\"attributes\":{\"bottom\":{\"field\":\"bottom\"},\"fill_alpha\":{\"value\":0.1},\"fill_color\":{\"value\":\"#1f77b4\"},\"left\":{\"field\":\"left\"},\"line_alpha\":{\"value\":0.1},\"line_color\":{\"value\":\"#1f77b4\"},\"right\":{\"field\":\"right\"},\"top\":{\"field\":\"top\"}},\"id\":\"5e5c0a58-f873-4b0c-a367-d0058fdc647a\",\"type\":\"Quad\"},{\"attributes\":{\"plot\":null,\"text\":null},\"id\":\"cff46eff-0f1c-480d-bd7f-647550eaf3f5\",\"type\":\"Title\"},{\"attributes\":{\"plot\":{\"id\":\"4405e456-6728-4e0c-8275-884a3b8ad6cc\",\"subtype\":\"Figure\",\"type\":\"Plot\"}},\"id\":\"f30b0ba9-7863-4dc0-a448-b044607b1743\",\"type\":\"HelpTool\"},{\"attributes\":{\"bottom_units\":\"screen\",\"fill_alpha\":{\"value\":0.5},\"fill_color\":{\"value\":\"lightgrey\"},\"left_units\":\"screen\",\"level\":\"overlay\",\"line_alpha\":{\"value\":1.0},\"line_color\":{\"value\":\"black\"},\"line_dash\":[4,4],\"line_width\":{\"value\":2},\"plot\":null,\"render_mode\":\"css\",\"right_units\":\"screen\",\"top_units\":\"screen\"},\"id\":\"36a53126-5166-40a0-bc03-019c41eb0c40\",\"type\":\"BoxAnnotation\"},{\"attributes\":{\"plot\":{\"id\":\"4405e456-6728-4e0c-8275-884a3b8ad6cc\",\"subtype\":\"Figure\",\"type\":\"Plot\"}},\"id\":\"058babbf-431f-442d-9ff1-d6a0319a5ed8\",\"type\":\"ResetTool\"},{\"attributes\":{\"callback\":null,\"end\":136786630,\"start\":135757320},\"id\":\"39913053-75f3-41e5-a85b-dde346425cc3\",\"type\":\"Range1d\"},{\"attributes\":{\"plot\":{\"id\":\"4405e456-6728-4e0c-8275-884a3b8ad6cc\",\"subtype\":\"Figure\",\"type\":\"Plot\"}},\"id\":\"67310c4e-91da-457a-a933-99c638c8e74b\",\"type\":\"SaveTool\"},{\"attributes\":{},\"id\":\"6e4959c2-c4a8-40d7-b302-9a7f2891a6bf\",\"type\":\"BasicTickFormatter\"},{\"attributes\":{\"callback\":null,\"end\":600},\"id\":\"1d9be333-cc7d-4d63-9bdb-29bdc8ef109e\",\"type\":\"Range1d\"},{\"attributes\":{\"callback\":null,\"column_names\":[\"y\",\"x\",\"vals\"],\"data\":{\"vals\":[\"6_1503\",\"4_1699\",\"4_911\",\"26_1414\",\"81_857\",\"13_1227\",\"4_1442\",\"7_1303\",\"7_1760\",\"6_1114\",\"5_1296\",\"24_1504\"],\"x\":[135771974,135915358,136092061,136398174,136494985,136500475,136506375,136535876,136588031,136652491,136652953,136653925],\"y\":[400.0,501.0,95.0,399.0,95.0,198.0,399.0,299.0,501.0,197.0,299.0,500.0]}},\"id\":\"74b3b202-0db4-4939-9be7-27faf22b9b60\",\"type\":\"ColumnDataSource\"},{\"attributes\":{\"data_source\":{\"id\":\"ad14e788-1e5b-4bda-873c-600c064a8b71\",\"type\":\"ColumnDataSource\"},\"glyph\":{\"id\":\"b64e2b81-0b88-4e68-a7d4-ea34eafc038f\",\"type\":\"MultiLine\"},\"hover_glyph\":null,\"nonselection_glyph\":{\"id\":\"a3dcb7f9-250c-4a37-aaa3-fe226d04d707\",\"type\":\"MultiLine\"},\"selection_glyph\":null},\"id\":\"78219c75-23dc-42f1-bac0-9b86ad5fb79d\",\"type\":\"GlyphRenderer\"},{\"attributes\":{},\"id\":\"578916a8-5dae-42a4-953b-9dc31503e10b\",\"type\":\"BasicTickFormatter\"},{\"attributes\":{\"line_alpha\":{\"value\":0.1},\"line_color\":{\"value\":\"#1f77b4\"},\"xs\":{\"field\":\"xs\"},\"ys\":{\"field\":\"ys\"}},\"id\":\"a3dcb7f9-250c-4a37-aaa3-fe226d04d707\",\"type\":\"MultiLine\"},{\"attributes\":{\"plot\":{\"id\":\"4405e456-6728-4e0c-8275-884a3b8ad6cc\",\"subtype\":\"Figure\",\"type\":\"Plot\"}},\"id\":\"c57f5afb-f3bd-4ed8-a42c-4fe82f62d935\",\"type\":\"PanTool\"},{\"attributes\":{\"formatter\":{\"id\":\"6e4959c2-c4a8-40d7-b302-9a7f2891a6bf\",\"type\":\"BasicTickFormatter\"},\"plot\":{\"id\":\"4405e456-6728-4e0c-8275-884a3b8ad6cc\",\"subtype\":\"Figure\",\"type\":\"Plot\"},\"ticker\":{\"id\":\"d5a5810d-dbc8-4d8f-bbdb-0c6e70a2559a\",\"type\":\"BasicTicker\"}},\"id\":\"28c9b900-7c15-4cba-8e2b-ce580d365872\",\"type\":\"LinearAxis\"},{\"attributes\":{\"dimension\":1,\"plot\":{\"id\":\"4405e456-6728-4e0c-8275-884a3b8ad6cc\",\"subtype\":\"Figure\",\"type\":\"Plot\"},\"ticker\":{\"id\":\"37b46e05-b509-4ccd-88b4-1eccc554b69c\",\"type\":\"BasicTicker\"}},\"id\":\"b648ba3e-c9ee-46d9-b0dd-5a35603806a0\",\"type\":\"Grid\"},{\"attributes\":{\"callback\":null,\"column_names\":[\"right\",\"bottom\",\"top\",\"left\"],\"data\":{\"bottom\":[545,545,545,545,545,545,545],\"left\":[135809835,135957574,136289083,136499189,136545415,136597196,136664254],\"right\":[135928279,136288182,136482839,136542633,136594750,136634047,136743222],\"top\":[575,575,575,575,575,575,575]}},\"id\":\"b073fded-6d63-44c8-8581-ce05c283e33a\",\"type\":\"ColumnDataSource\"},{\"attributes\":{\"callback\":null,\"column_names\":[\"right\",\"bottom\",\"top\",\"left\",\"fill_color\"],\"data\":{\"bottom\":[350,450,50,350,50,150,350,250,450,150,250,450],\"fill_color\":[\"#61c461\",\"#61c461\",\"#00ff00\",\"#61c461\",\"#808080\",\"#808080\",\"#808080\",\"#808080\",\"#c46161\",\"#808080\",\"#808080\",\"#808080\"],\"left\":[135771974,135915358,136092061,136398174,136494985,136500475,136506375,136535876,136588031,136652491,136652953,136653925],\"right\":[136140304,135995079,136407479,136474098,136773638,136542560,136538939,136554890,136593678,136732772,136761175,136761853],\"top\":[395,496,90,394,90,193,394,294,496,192,294,495]}},\"id\":\"6f4ee01b-5480-4ab5-8b45-77605e9f3e84\",\"type\":\"ColumnDataSource\"},{\"attributes\":{\"data_source\":{\"id\":\"b073fded-6d63-44c8-8581-ce05c283e33a\",\"type\":\"ColumnDataSource\"},\"glyph\":{\"id\":\"402a79e4-f6fe-47e4-852c-29775e51279a\",\"type\":\"Quad\"},\"hover_glyph\":null,\"nonselection_glyph\":{\"id\":\"40acb497-19ad-431b-a4c6-5f28fead0c38\",\"type\":\"Quad\"},\"selection_glyph\":null},\"id\":\"55b76f8b-32c5-4ad3-b4ab-3d75477c4850\",\"type\":\"GlyphRenderer\"},{\"attributes\":{\"overlay\":{\"id\":\"36a53126-5166-40a0-bc03-019c41eb0c40\",\"type\":\"BoxAnnotation\"},\"plot\":{\"id\":\"4405e456-6728-4e0c-8275-884a3b8ad6cc\",\"subtype\":\"Figure\",\"type\":\"Plot\"}},\"id\":\"f717f084-d09b-4eae-a3e6-d66129068a05\",\"type\":\"BoxZoomTool\"},{\"attributes\":{\"active_drag\":\"auto\",\"active_scroll\":\"auto\",\"active_tap\":\"auto\",\"tools\":[{\"id\":\"c57f5afb-f3bd-4ed8-a42c-4fe82f62d935\",\"type\":\"PanTool\"},{\"id\":\"26ef1d7b-dd13-4b34-bb27-3c76624cd868\",\"type\":\"WheelZoomTool\"},{\"id\":\"f717f084-d09b-4eae-a3e6-d66129068a05\",\"type\":\"BoxZoomTool\"},{\"id\":\"67310c4e-91da-457a-a933-99c638c8e74b\",\"type\":\"SaveTool\"},{\"id\":\"058babbf-431f-442d-9ff1-d6a0319a5ed8\",\"type\":\"ResetTool\"},{\"id\":\"f30b0ba9-7863-4dc0-a448-b044607b1743\",\"type\":\"HelpTool\"}]},\"id\":\"c04e07ed-9013-4e9a-85c8-9ed75b4b4546\",\"type\":\"Toolbar\"},{\"attributes\":{\"level\":\"glyph\",\"plot\":{\"id\":\"4405e456-6728-4e0c-8275-884a3b8ad6cc\",\"subtype\":\"Figure\",\"type\":\"Plot\"},\"source\":{\"id\":\"74b3b202-0db4-4939-9be7-27faf22b9b60\",\"type\":\"ColumnDataSource\"},\"text\":{\"field\":\"vals\"},\"text_font_size\":{\"value\":\"9pt\"},\"text_font_style\":\"bold\",\"x\":{\"field\":\"x\"},\"y\":{\"field\":\"y\"}},\"id\":\"60d9bda3-f2dc-4aca-bb39-889c320ba18b\",\"type\":\"LabelSet\"},{\"attributes\":{\"formatter\":{\"id\":\"578916a8-5dae-42a4-953b-9dc31503e10b\",\"type\":\"BasicTickFormatter\"},\"plot\":{\"id\":\"4405e456-6728-4e0c-8275-884a3b8ad6cc\",\"subtype\":\"Figure\",\"type\":\"Plot\"},\"ticker\":{\"id\":\"37b46e05-b509-4ccd-88b4-1eccc554b69c\",\"type\":\"BasicTicker\"},\"visible\":null},\"id\":\"860f425e-0e21-41e6-9c29-07b608051f99\",\"type\":\"LinearAxis\"},{\"attributes\":{\"callback\":null,\"column_names\":[\"xs\",\"ys\",\"line_color\"],\"data\":{\"line_color\":[\"black\",\"black\",\"black\",\"black\",\"black\",\"black\",\"black\",\"black\",\"black\",\"black\",\"black\",\"black\",\"black\",\"black\",\"black\",\"black\",\"black\",\"black\",\"black\",\"black\",\"black\",\"black\",\"black\",\"black\",\"black\",\"black\",\"black\",\"black\",\"black\",\"black\",\"black\",\"black\",\"black\",\"black\",\"black\",\"black\",\"black\",\"black\",\"black\",\"black\",\"black\",\"black\",\"black\",\"black\",\"black\",\"black\",\"black\",\"black\",\"black\",\"black\",\"black\",\"black\",\"black\",\"black\",\"black\",\"black\",\"black\",\"black\",\"black\",\"black\",\"black\",\"black\",\"black\",\"black\",\"black\",\"black\",\"black\",\"black\",\"black\",\"black\",\"black\",\"black\",\"black\",\"black\",\"black\",\"black\",\"black\",\"black\",\"black\",\"black\",\"black\",\"black\",\"black\",\"black\",\"black\",\"black\",\"black\",\"black\",\"black\",\"black\",\"black\",\"black\",\"black\",\"black\",\"black\",\"black\",\"black\",\"black\",\"black\",\"black\",\"black\",\"black\",\"black\",\"black\",\"black\",\"black\",\"black\",\"black\",\"black\",\"black\",\"black\",\"black\",\"black\",\"black\",\"black\",\"black\",\"black\",\"black\",\"black\",\"black\",\"black\",\"black\",\"black\",\"black\",\"black\",\"black\",\"black\",\"black\",\"black\",\"black\",\"black\",\"black\",\"black\",\"black\",\"black\",\"black\",\"black\",\"black\",\"black\",\"black\",\"black\",\"black\",\"black\",\"black\",\"black\",\"black\",\"black\",\"black\",\"black\",\"black\",\"black\",\"black\",\"black\",\"black\",\"black\",\"black\",\"black\",\"black\",\"black\",\"black\",\"black\",\"black\",\"black\",\"black\",\"black\",\"black\",\"black\",\"black\",\"black\",\"black\",\"black\",\"black\",\"black\",\"black\",\"black\",\"black\",\"black\",\"black\",\"black\",\"black\",\"black\",\"black\",\"black\",\"black\",\"black\",\"black\",\"black\"],\"xs\":[[135771974,135771974],[135859371,135859371],[135877562,135877562],[136022798,136022798],[136058820,136058820],[136140304,136140304],[135915358,135915358],[135954405,135954405],[135995073,135995073],[135995079,135995079],[136092061,136092061],[136273578,136273578],[136322676,136322676],[136407479,136407479],[136398174,136398174],[136402117,136402117],[136403749,136403749],[136409073,136409073],[136410299,136410299],[136413359,136413359],[136416855,136416855],[136416941,136416941],[136418348,136418348],[136419961,136419961],[136420690,136420690],[136422171,136422171],[136428460,136428460],[136430866,136430866],[136432103,136432103],[136437507,136437507],[136439090,136439090],[136439517,136439517],[136444123,136444123],[136445526,136445526],[136445869,136445869],[136455600,136455600],[136456642,136456642],[136462441,136462441],[136470714,136470714],[136474098,136474098],[136494985,136494985],[136497199,136497199],[136511817,136511817],[136513670,136513670],[136515458,136515458],[136516970,136516970],[136525309,136525309],[136528034,136528034],[136532225,136532225],[136535235,136535235],[136536095,136536095],[136544423,136544423],[136546927,136546927],[136552188,136552188],[136552517,136552517],[136555525,136555525],[136556480,136556480],[136560464,136560464],[136572285,136572285],[136582694,136582694],[136582809,136582809],[136584538,136584538],[136585323,136585323],[136586825,136586825],[136600662,136600662],[136612036,136612036],[136618178,136618178],[136618507,136618507],[136622543,136622543],[136624947,136624947],[136625113,136625113],[136626078,136626078],[136628121,136628121],[136632300,136632300],[136633962,136633962],[136635343,136635343],[136638113,136638113],[136640101,136640101],[136641593,136641593],[136646582,136646582],[136648077,136648077],[136648883,136648883],[136652045,136652045],[136653848,136653848],[136656094,136656094],[136661110,136661110],[136663110,136663110],[136663605,136663605],[136665162,136665162],[136665711,136665711],[136668123,136668123],[136670419,136670419],[136672680,136672680],[136673546,136673546],[136684632,136684632],[136686114,136686114],[136690425,136690425],[136690783,136690783],[136692893,136692893],[136694905,136694905],[136695694,136695694],[136695705,136695705],[136696608,136696608],[136697372,136697372],[136697468,136697468],[136700024,136700024],[136701539,136701539],[136702118,136702118],[136707480,136707480],[136710554,136710554],[136714178,136714178],[136719173,136719173],[136725459,136725459],[136734569,136734569],[136744678,136744678],[136748779,136748779],[136751488,136751488],[136754183,136754183],[136763242,136763242],[136765074,136765074],[136773638,136773638],[136500475,136500475],[136501509,136501509],[136504101,136504101],[136509868,136509868],[136520043,136520043],[136527120,136527120],[136530379,136530379],[136530443,136530443],[136539330,136539330],[136539670,136539670],[136540083,136540083],[136542559,136542559],[136542560,136542560],[136506375,136506375],[136506927,136506927],[136510012,136510012],[136538939,136538939],[136535876,136535876],[136544651,136544651],[136545844,136545844],[136552526,136552526],[136553022,136553022],[136554797,136554797],[136554890,136554890],[136588031,136588031],[136589278,136589278],[136589379,136589379],[136589741,136589741],[136590746,136590746],[136593553,136593553],[136593678,136593678],[136652491,136652491],[136652524,136652524],[136661150,136661150],[136669264,136669264],[136726567,136726567],[136732772,136732772],[136652953,136652953],[136655582,136655582],[136674028,136674028],[136684940,136684940],[136761175,136761175],[136653925,136653925],[136654833,136654833],[136656534,136656534],[136656536,136656536],[136657252,136657252],[136667301,136667301],[136667487,136667487],[136672775,136672775],[136680534,136680534],[136686393,136686393],[136688749,136688749],[136692553,136692553],[136697371,136697371],[136708787,136708787],[136710372,136710372],[136711064,136711064],[136715324,136715324],[136723504,136723504],[136737460,136737460],[136743143,136743143],[136746224,136746224],[136751842,136751842],[136759379,136759379],[136761853,136761853]],\"ys\":[[350,395],[350,395],[350,395],[350,395],[350,395],[350,395],[450,496],[450,496],[450,496],[450,496],[50,90],[50,90],[50,90],[50,90],[350,394],[350,394],[350,394],[350,394],[350,394],[350,394],[350,394],[350,394],[350,394],[350,394],[350,394],[350,394],[350,394],[350,394],[350,394],[350,394],[350,394],[350,394],[350,394],[350,394],[350,394],[350,394],[350,394],[350,394],[350,394],[350,394],[50,90],[50,90],[50,90],[50,90],[50,90],[50,90],[50,90],[50,90],[50,90],[50,90],[50,90],[50,90],[50,90],[50,90],[50,90],[50,90],[50,90],[50,90],[50,90],[50,90],[50,90],[50,90],[50,90],[50,90],[50,90],[50,90],[50,90],[50,90],[50,90],[50,90],[50,90],[50,90],[50,90],[50,90],[50,90],[50,90],[50,90],[50,90],[50,90],[50,90],[50,90],[50,90],[50,90],[50,90],[50,90],[50,90],[50,90],[50,90],[50,90],[50,90],[50,90],[50,90],[50,90],[50,90],[50,90],[50,90],[50,90],[50,90],[50,90],[50,90],[50,90],[50,90],[50,90],[50,90],[50,90],[50,90],[50,90],[50,90],[50,90],[50,90],[50,90],[50,90],[50,90],[50,90],[50,90],[50,90],[50,90],[50,90],[50,90],[50,90],[50,90],[150,193],[150,193],[150,193],[150,193],[150,193],[150,193],[150,193],[150,193],[150,193],[150,193],[150,193],[150,193],[150,193],[350,394],[350,394],[350,394],[350,394],[250,294],[250,294],[250,294],[250,294],[250,294],[250,294],[250,294],[450,496],[450,496],[450,496],[450,496],[450,496],[450,496],[450,496],[150,192],[150,192],[150,192],[150,192],[150,192],[150,192],[250,294],[250,294],[250,294],[250,294],[250,294],[450,495],[450,495],[450,495],[450,495],[450,495],[450,495],[450,495],[450,495],[450,495],[450,495],[450,495],[450,495],[450,495],[450,495],[450,495],[450,495],[450,495],[450,495],[450,495],[450,495],[450,495],[450,495],[450,495],[450,495]]}},\"id\":\"ad14e788-1e5b-4bda-873c-600c064a8b71\",\"type\":\"ColumnDataSource\"},{\"attributes\":{\"bottom\":{\"field\":\"bottom\"},\"fill_color\":{\"value\":\"white\"},\"left\":{\"field\":\"left\"},\"right\":{\"field\":\"right\"},\"top\":{\"field\":\"top\"}},\"id\":\"402a79e4-f6fe-47e4-852c-29775e51279a\",\"type\":\"Quad\"},{\"attributes\":{\"data_source\":{\"id\":\"6f4ee01b-5480-4ab5-8b45-77605e9f3e84\",\"type\":\"ColumnDataSource\"},\"glyph\":{\"id\":\"fc12150d-da5c-4abe-bf1a-5b942cfa7a29\",\"type\":\"Quad\"},\"hover_glyph\":null,\"nonselection_glyph\":{\"id\":\"5e5c0a58-f873-4b0c-a367-d0058fdc647a\",\"type\":\"Quad\"},\"selection_glyph\":null},\"id\":\"7b9c641d-6c9a-4b21-8cf3-4691354dd273\",\"type\":\"GlyphRenderer\"},{\"attributes\":{\"below\":[{\"id\":\"28c9b900-7c15-4cba-8e2b-ce580d365872\",\"type\":\"LinearAxis\"}],\"left\":[{\"id\":\"860f425e-0e21-41e6-9c29-07b608051f99\",\"type\":\"LinearAxis\"}],\"plot_width\":900,\"renderers\":[{\"id\":\"28c9b900-7c15-4cba-8e2b-ce580d365872\",\"type\":\"LinearAxis\"},{\"id\":\"a2e729d8-600d-4ce3-8ef2-057d0ac1e9dc\",\"type\":\"Grid\"},{\"id\":\"860f425e-0e21-41e6-9c29-07b608051f99\",\"type\":\"LinearAxis\"},{\"id\":\"b648ba3e-c9ee-46d9-b0dd-5a35603806a0\",\"type\":\"Grid\"},{\"id\":\"36a53126-5166-40a0-bc03-019c41eb0c40\",\"type\":\"BoxAnnotation\"},{\"id\":\"7b9c641d-6c9a-4b21-8cf3-4691354dd273\",\"type\":\"GlyphRenderer\"},{\"id\":\"78219c75-23dc-42f1-bac0-9b86ad5fb79d\",\"type\":\"GlyphRenderer\"},{\"id\":\"60d9bda3-f2dc-4aca-bb39-889c320ba18b\",\"type\":\"LabelSet\"},{\"id\":\"55b76f8b-32c5-4ad3-b4ab-3d75477c4850\",\"type\":\"GlyphRenderer\"},{\"id\":\"5259dbe3-90fb-45aa-a4b8-7be103c92f0d\",\"type\":\"LabelSet\"}],\"title\":{\"id\":\"cff46eff-0f1c-480d-bd7f-647550eaf3f5\",\"type\":\"Title\"},\"tool_events\":{\"id\":\"a3d535c8-8847-4749-b785-0fab99ff2aa9\",\"type\":\"ToolEvents\"},\"toolbar\":{\"id\":\"c04e07ed-9013-4e9a-85c8-9ed75b4b4546\",\"type\":\"Toolbar\"},\"toolbar_location\":null,\"x_range\":{\"id\":\"39913053-75f3-41e5-a85b-dde346425cc3\",\"type\":\"Range1d\"},\"y_range\":{\"id\":\"1d9be333-cc7d-4d63-9bdb-29bdc8ef109e\",\"type\":\"Range1d\"}},\"id\":\"4405e456-6728-4e0c-8275-884a3b8ad6cc\",\"subtype\":\"Figure\",\"type\":\"Plot\"},{\"attributes\":{\"level\":\"glyph\",\"plot\":{\"id\":\"4405e456-6728-4e0c-8275-884a3b8ad6cc\",\"subtype\":\"Figure\",\"type\":\"Plot\"},\"source\":{\"id\":\"ab3ea0c5-c1d9-42ed-8759-2f1bae160778\",\"type\":\"ColumnDataSource\"},\"text\":{\"field\":\"vals\"},\"text_align\":\"center\",\"text_baseline\":\"middle\",\"text_font_size\":{\"value\":\"8pt\"},\"x\":{\"field\":\"x\"},\"y\":{\"field\":\"y\"}},\"id\":\"5259dbe3-90fb-45aa-a4b8-7be103c92f0d\",\"type\":\"LabelSet\"}],\"root_ids\":[\"4405e456-6728-4e0c-8275-884a3b8ad6cc\"]},\"title\":\"Bokeh Application\",\"version\":\"0.12.0\"}};\n",
       "            var render_items = [{\"docid\":\"52e58823-4332-453d-8583-672e82c8805b\",\"elementid\":\"38f9e857-d899-404f-a4d8-ae045386c9db\",\"modelid\":\"4405e456-6728-4e0c-8275-884a3b8ad6cc\",\"notebook_comms_target\":\"1b1019fe-aa2a-4bd7-9358-1b3e5e8b1384\"}];\n",
       "            \n",
       "            Bokeh.embed.embed_items(docs_json, render_items);\n",
       "        });\n",
       "      },\n",
       "      function(Bokeh) {\n",
       "      }\n",
       "    ];\n",
       "  \n",
       "    function run_inline_js() {\n",
       "      for (var i = 0; i < inline_js.length; i++) {\n",
       "        inline_js[i](window.Bokeh);\n",
       "      }\n",
       "    }\n",
       "  \n",
       "    if (window._bokeh_is_loading === 0) {\n",
       "      console.log(\"Bokeh: BokehJS loaded, going straight to plotting\");\n",
       "      run_inline_js();\n",
       "    } else {\n",
       "      load_libs(js_urls, function() {\n",
       "        console.log(\"Bokeh: BokehJS plotting callback run at\", now());\n",
       "        run_inline_js();\n",
       "      });\n",
       "    }\n",
       "  }(this));\n",
       "</script>"
      ]
     },
     "metadata": {},
     "output_type": "display_data"
    },
    {
     "data": {
      "text/html": [
       "<p><code>&lt;Bokeh Notebook handle for <strong>In[46]</strong>&gt;</code></p>"
      ],
      "text/plain": [
       "<bokeh.io._CommsHandle at 0x7f46f101ab50>"
      ]
     },
     "execution_count": 46,
     "metadata": {},
     "output_type": "execute_result"
    }
   ],
   "source": [
    "plt_obj = dm.superset_yes_no([dm.di_4_911, dm.di_7_1760], \n",
    "                             [di_4_26, dm.di_10_2206, dm.di_64_1575, dm.di_11_765],                              \n",
    "                             min_match=0.001)\n",
    "plt = plt_obj.do_plot()\n",
    "am_9 = plt_obj.plot_context.yes_allele_mask\n",
    "show(plt)"
   ]
  },
  {
   "cell_type": "code",
   "execution_count": 47,
   "metadata": {
    "collapsed": false
   },
   "outputs": [
    {
     "data": {
      "text/html": [
       "<table>\n",
       "<thead><tr><th style=\"text-align:center\">index</th><th style=\"text-align:center\">first</th><th style=\"text-align:center\">length</th><th style=\"text-align:center\">snps</th><th style=\"text-align:center\" colspan=2>alleles</th><th style=\"text-align:center\" colspan=2>matches</th><th style=\"text-align:center\" colspan=2>afr</th><th style=\"text-align:center\" colspan=2>afx</th><th style=\"text-align:center\" colspan=2>amr</th><th style=\"text-align:center\" colspan=2>eas</th><th style=\"text-align:center\" colspan=2>eur</th><th style=\"text-align:center\" colspan=2>sas</th><th style=\"text-align:center\" colspan=2>sax</th></tr></thead>\n",
       "<tr class=\"even\"><td style=\"text-align: right;\">354033</td><td style=\"text-align: right;\">136,588,031</td><td style=\"text-align: right;\">5,647</td><td style=\"text-align: right;\">7</td><td style=\"text-align: right;\">1760</td><td style=\"text-align: right;\">0.00</td><td style=\"text-align: right;\">2</td><td style=\"text-align: right;\">1.00</td><td style=\"text-align: right;\">0</td><td style=\"text-align: right;\">0.00</td><td style=\"text-align: right;\">0</td><td style=\"text-align: right;\">0.00</td><td style=\"text-align: right;\">0</td><td style=\"text-align: right;\">0.00</td><td style=\"text-align: right;\">0</td><td style=\"text-align: right;\">0.00</td><td style=\"text-align: right;\">0</td><td style=\"text-align: right;\">0.00</td><td style=\"text-align: right;\">0</td><td style=\"text-align: right;\">0.00</td><td style=\"text-align: right;\">2</td><td style=\"text-align: right;\">7.28</td></tr>\n",
       "<tr><td style=\"text-align: right;\">353462</td><td style=\"text-align: right;\">135,915,358</td><td style=\"text-align: right;\">79,721</td><td style=\"text-align: right;\">4</td><td style=\"text-align: right;\">1699</td><td style=\"text-align: right;\">0.00</td><td style=\"text-align: right;\">2</td><td style=\"text-align: right;\">1.00</td><td style=\"text-align: right;\">0</td><td style=\"text-align: right;\">0.00</td><td style=\"text-align: right;\">0</td><td style=\"text-align: right;\">0.00</td><td style=\"text-align: right;\">0</td><td style=\"text-align: right;\">0.00</td><td style=\"text-align: right;\">0</td><td style=\"text-align: right;\">0.00</td><td style=\"text-align: right;\">0</td><td style=\"text-align: right;\">0.00</td><td style=\"text-align: right;\">0</td><td style=\"text-align: right;\">0.00</td><td style=\"text-align: right;\">2</td><td style=\"text-align: right;\">7.28</td></tr>\n",
       "<tr class=\"even\"><td style=\"text-align: right;\">354130</td><td style=\"text-align: right;\">136,653,925</td><td style=\"text-align: right;\">107,928</td><td style=\"text-align: right;\">24</td><td style=\"text-align: right;\">1504</td><td style=\"text-align: right;\">0.00</td><td style=\"text-align: right;\">2</td><td style=\"text-align: right;\">1.00</td><td style=\"text-align: right;\">0</td><td style=\"text-align: right;\">0.00</td><td style=\"text-align: right;\">0</td><td style=\"text-align: right;\">0.00</td><td style=\"text-align: right;\">0</td><td style=\"text-align: right;\">0.00</td><td style=\"text-align: right;\">0</td><td style=\"text-align: right;\">0.00</td><td style=\"text-align: right;\">0</td><td style=\"text-align: right;\">0.00</td><td style=\"text-align: right;\">0</td><td style=\"text-align: right;\">0.00</td><td style=\"text-align: right;\">2</td><td style=\"text-align: right;\">7.28</td></tr>\n",
       "<tr><td style=\"text-align: right;\">353283</td><td style=\"text-align: right;\">135,771,974</td><td style=\"text-align: right;\">368,330</td><td style=\"text-align: right;\">6</td><td style=\"text-align: right;\">1503</td><td style=\"text-align: right;\">0.00</td><td style=\"text-align: right;\">2</td><td style=\"text-align: right;\">1.00</td><td style=\"text-align: right;\">0</td><td style=\"text-align: right;\">0.00</td><td style=\"text-align: right;\">0</td><td style=\"text-align: right;\">0.00</td><td style=\"text-align: right;\">0</td><td style=\"text-align: right;\">0.00</td><td style=\"text-align: right;\">0</td><td style=\"text-align: right;\">0.00</td><td style=\"text-align: right;\">0</td><td style=\"text-align: right;\">0.00</td><td style=\"text-align: right;\">0</td><td style=\"text-align: right;\">0.00</td><td style=\"text-align: right;\">2</td><td style=\"text-align: right;\">7.28</td></tr>\n",
       "<tr class=\"even\"><td style=\"text-align: right;\">353925</td><td style=\"text-align: right;\">136,506,375</td><td style=\"text-align: right;\">32,564</td><td style=\"text-align: right;\">4</td><td style=\"text-align: right;\">1442</td><td style=\"text-align: right;\">0.00</td><td style=\"text-align: right;\">2</td><td style=\"text-align: right;\">1.00</td><td style=\"text-align: right;\">0</td><td style=\"text-align: right;\">0.00</td><td style=\"text-align: right;\">0</td><td style=\"text-align: right;\">0.00</td><td style=\"text-align: right;\">0</td><td style=\"text-align: right;\">0.00</td><td style=\"text-align: right;\">0</td><td style=\"text-align: right;\">0.00</td><td style=\"text-align: right;\">0</td><td style=\"text-align: right;\">0.00</td><td style=\"text-align: right;\">0</td><td style=\"text-align: right;\">0.00</td><td style=\"text-align: right;\">2</td><td style=\"text-align: right;\">7.28</td></tr>\n",
       "<tr><td style=\"text-align: right;\">353797</td><td style=\"text-align: right;\">136,398,174</td><td style=\"text-align: right;\">75,924</td><td style=\"text-align: right;\">26</td><td style=\"text-align: right;\">1414</td><td style=\"text-align: right;\">0.00</td><td style=\"text-align: right;\">2</td><td style=\"text-align: right;\">1.00</td><td style=\"text-align: right;\">0</td><td style=\"text-align: right;\">0.00</td><td style=\"text-align: right;\">0</td><td style=\"text-align: right;\">0.00</td><td style=\"text-align: right;\">0</td><td style=\"text-align: right;\">0.00</td><td style=\"text-align: right;\">0</td><td style=\"text-align: right;\">0.00</td><td style=\"text-align: right;\">0</td><td style=\"text-align: right;\">0.00</td><td style=\"text-align: right;\">0</td><td style=\"text-align: right;\">0.00</td><td style=\"text-align: right;\">2</td><td style=\"text-align: right;\">7.28</td></tr>\n",
       "<tr class=\"even\"><td style=\"text-align: right;\">353958</td><td style=\"text-align: right;\">136,535,876</td><td style=\"text-align: right;\">19,014</td><td style=\"text-align: right;\">7</td><td style=\"text-align: right;\">1303</td><td style=\"text-align: right;\">0.00</td><td style=\"text-align: right;\">2</td><td style=\"text-align: right;\">1.00</td><td style=\"text-align: right;\">0</td><td style=\"text-align: right;\">0.00</td><td style=\"text-align: right;\">0</td><td style=\"text-align: right;\">0.00</td><td style=\"text-align: right;\">0</td><td style=\"text-align: right;\">0.00</td><td style=\"text-align: right;\">0</td><td style=\"text-align: right;\">0.00</td><td style=\"text-align: right;\">0</td><td style=\"text-align: right;\">0.00</td><td style=\"text-align: right;\">0</td><td style=\"text-align: right;\">0.00</td><td style=\"text-align: right;\">2</td><td style=\"text-align: right;\">7.28</td></tr>\n",
       "<tr><td style=\"text-align: right;\">354129</td><td style=\"text-align: right;\">136,652,953</td><td style=\"text-align: right;\">108,222</td><td style=\"text-align: right;\">5</td><td style=\"text-align: right;\">1296</td><td style=\"text-align: right;\">0.00</td><td style=\"text-align: right;\">2</td><td style=\"text-align: right;\">1.00</td><td style=\"text-align: right;\">0</td><td style=\"text-align: right;\">0.00</td><td style=\"text-align: right;\">0</td><td style=\"text-align: right;\">0.00</td><td style=\"text-align: right;\">0</td><td style=\"text-align: right;\">0.00</td><td style=\"text-align: right;\">0</td><td style=\"text-align: right;\">0.00</td><td style=\"text-align: right;\">0</td><td style=\"text-align: right;\">0.00</td><td style=\"text-align: right;\">0</td><td style=\"text-align: right;\">0.00</td><td style=\"text-align: right;\">2</td><td style=\"text-align: right;\">7.28</td></tr>\n",
       "<tr class=\"even\"><td style=\"text-align: right;\">353919</td><td style=\"text-align: right;\">136,500,475</td><td style=\"text-align: right;\">42,085</td><td style=\"text-align: right;\">13</td><td style=\"text-align: right;\">1227</td><td style=\"text-align: right;\">0.00</td><td style=\"text-align: right;\">2</td><td style=\"text-align: right;\">1.00</td><td style=\"text-align: right;\">0</td><td style=\"text-align: right;\">0.00</td><td style=\"text-align: right;\">0</td><td style=\"text-align: right;\">0.00</td><td style=\"text-align: right;\">0</td><td style=\"text-align: right;\">0.00</td><td style=\"text-align: right;\">0</td><td style=\"text-align: right;\">0.00</td><td style=\"text-align: right;\">0</td><td style=\"text-align: right;\">0.00</td><td style=\"text-align: right;\">0</td><td style=\"text-align: right;\">0.00</td><td style=\"text-align: right;\">2</td><td style=\"text-align: right;\">7.28</td></tr>\n",
       "<tr><td style=\"text-align: right;\">354127</td><td style=\"text-align: right;\">136,652,491</td><td style=\"text-align: right;\">80,281</td><td style=\"text-align: right;\">6</td><td style=\"text-align: right;\">1114</td><td style=\"text-align: right;\">0.00</td><td style=\"text-align: right;\">2</td><td style=\"text-align: right;\">1.00</td><td style=\"text-align: right;\">0</td><td style=\"text-align: right;\">0.00</td><td style=\"text-align: right;\">0</td><td style=\"text-align: right;\">0.00</td><td style=\"text-align: right;\">0</td><td style=\"text-align: right;\">0.00</td><td style=\"text-align: right;\">0</td><td style=\"text-align: right;\">0.00</td><td style=\"text-align: right;\">0</td><td style=\"text-align: right;\">0.00</td><td style=\"text-align: right;\">0</td><td style=\"text-align: right;\">0.00</td><td style=\"text-align: right;\">2</td><td style=\"text-align: right;\">7.28</td></tr>\n",
       "<tr class=\"even\"><td style=\"text-align: right;\">353604</td><td style=\"text-align: right;\">136,092,061</td><td style=\"text-align: right;\">315,418</td><td style=\"text-align: right;\">4</td><td style=\"text-align: right;\">911</td><td style=\"text-align: right;\">0.00</td><td style=\"text-align: right;\">2</td><td style=\"text-align: right;\">1.00</td><td style=\"text-align: right;\">0</td><td style=\"text-align: right;\">0.00</td><td style=\"text-align: right;\">0</td><td style=\"text-align: right;\">0.00</td><td style=\"text-align: right;\">0</td><td style=\"text-align: right;\">0.00</td><td style=\"text-align: right;\">0</td><td style=\"text-align: right;\">0.00</td><td style=\"text-align: right;\">0</td><td style=\"text-align: right;\">0.00</td><td style=\"text-align: right;\">0</td><td style=\"text-align: right;\">0.00</td><td style=\"text-align: right;\">2</td><td style=\"text-align: right;\">7.28</td></tr>\n",
       "<tr><td style=\"text-align: right;\">353902</td><td style=\"text-align: right;\">136,494,985</td><td style=\"text-align: right;\">278,653</td><td style=\"text-align: right;\">81</td><td style=\"text-align: right;\">857</td><td style=\"text-align: right;\">0.00</td><td style=\"text-align: right;\">2</td><td style=\"text-align: right;\">1.00</td><td style=\"text-align: right;\">0</td><td style=\"text-align: right;\">0.00</td><td style=\"text-align: right;\">0</td><td style=\"text-align: right;\">0.00</td><td style=\"text-align: right;\">0</td><td style=\"text-align: right;\">0.00</td><td style=\"text-align: right;\">0</td><td style=\"text-align: right;\">0.00</td><td style=\"text-align: right;\">0</td><td style=\"text-align: right;\">0.00</td><td style=\"text-align: right;\">0</td><td style=\"text-align: right;\">0.00</td><td style=\"text-align: right;\">2</td><td style=\"text-align: right;\">7.28</td></tr>\n",
       "</table>"
      ],
      "text/plain": [
       "<IPython.core.display.HTML object>"
      ]
     },
     "execution_count": 47,
     "metadata": {},
     "output_type": "execute_result"
    }
   ],
   "source": [
    "HTML(plt_obj.get_html())"
   ]
  },
  {
   "cell_type": "code",
   "execution_count": 48,
   "metadata": {
    "collapsed": false
   },
   "outputs": [
    {
     "data": {
      "text/plain": [
       "array([2, 0, 0, 0, 0, 0, 0, 0, 0, 0, 0, 0, 0, 0, 0, 0, 0, 0, 0, 0, 0, 0, 0,\n",
       "       0, 0, 0, 0, 0, 0, 0, 0, 0, 0, 0, 0, 0, 0, 0, 0, 0, 0, 0, 0, 0, 0, 0,\n",
       "       0, 0, 0, 0, 0, 0, 0, 0, 0, 0, 0, 0, 0, 0, 0, 0, 0, 0])"
      ]
     },
     "execution_count": 48,
     "metadata": {},
     "output_type": "execute_result"
    }
   ],
   "source": [
    "sa_64_1575.alleles_per_snp(am_9)"
   ]
  },
  {
   "cell_type": "code",
   "execution_count": 49,
   "metadata": {
    "collapsed": false
   },
   "outputs": [
    {
     "data": {
      "text/html": [
       "\n",
       "\n",
       "    <div class=\"bk-root\">\n",
       "        <div class=\"plotdiv\" id=\"d575ff2d-7193-4afb-ad70-2666e2ba8893\"></div>\n",
       "    </div>\n",
       "<script type=\"text/javascript\">\n",
       "  \n",
       "  (function(global) {\n",
       "    function now() {\n",
       "      return new Date();\n",
       "    }\n",
       "  \n",
       "    if (typeof (window._bokeh_onload_callbacks) === \"undefined\") {\n",
       "      window._bokeh_onload_callbacks = [];\n",
       "    }\n",
       "  \n",
       "    function run_callbacks() {\n",
       "      window._bokeh_onload_callbacks.forEach(function(callback) { callback() });\n",
       "      delete window._bokeh_onload_callbacks\n",
       "      console.info(\"Bokeh: all callbacks have finished\");\n",
       "    }\n",
       "  \n",
       "    function load_libs(js_urls, callback) {\n",
       "      window._bokeh_onload_callbacks.push(callback);\n",
       "      if (window._bokeh_is_loading > 0) {\n",
       "        console.log(\"Bokeh: BokehJS is being loaded, scheduling callback at\", now());\n",
       "        return null;\n",
       "      }\n",
       "      if (js_urls == null || js_urls.length === 0) {\n",
       "        run_callbacks();\n",
       "        return null;\n",
       "      }\n",
       "      console.log(\"Bokeh: BokehJS not loaded, scheduling load and callback at\", now());\n",
       "      window._bokeh_is_loading = js_urls.length;\n",
       "      for (var i = 0; i < js_urls.length; i++) {\n",
       "        var url = js_urls[i];\n",
       "        var s = document.createElement('script');\n",
       "        s.src = url;\n",
       "        s.async = false;\n",
       "        s.onreadystatechange = s.onload = function() {\n",
       "          window._bokeh_is_loading--;\n",
       "          if (window._bokeh_is_loading === 0) {\n",
       "            console.log(\"Bokeh: all BokehJS libraries loaded\");\n",
       "            run_callbacks()\n",
       "          }\n",
       "        };\n",
       "        s.onerror = function() {\n",
       "          console.warn(\"failed to load library \" + url);\n",
       "        };\n",
       "        console.log(\"Bokeh: injecting script tag for BokehJS library: \", url);\n",
       "        document.getElementsByTagName(\"head\")[0].appendChild(s);\n",
       "      }\n",
       "    };var element = document.getElementById(\"d575ff2d-7193-4afb-ad70-2666e2ba8893\");\n",
       "    if (element == null) {\n",
       "      console.log(\"Bokeh: ERROR: autoload.js configured with elementid 'd575ff2d-7193-4afb-ad70-2666e2ba8893' but no matching script tag was found. \")\n",
       "      return false;\n",
       "    }\n",
       "  \n",
       "    var js_urls = [];\n",
       "  \n",
       "    var inline_js = [\n",
       "      function(Bokeh) {\n",
       "        Bokeh.$(function() {\n",
       "            var docs_json = {\"d7e87ea4-c31b-45e6-a0a2-55e4a32a55ea\":{\"roots\":{\"references\":[{\"attributes\":{\"plot\":null,\"text\":null},\"id\":\"08748855-f442-4f22-9ccc-e9bafc0de941\",\"type\":\"Title\"},{\"attributes\":{\"bottom\":{\"field\":\"bottom\"},\"fill_color\":{\"value\":\"white\"},\"left\":{\"field\":\"left\"},\"right\":{\"field\":\"right\"},\"top\":{\"field\":\"top\"}},\"id\":\"da67d099-e4ab-43d2-8273-935056a04bdb\",\"type\":\"Quad\"},{\"attributes\":{\"callback\":null,\"column_names\":[\"y\",\"x\",\"vals\"],\"data\":{\"vals\":[\"RAB3GAP1\",\"ZRANB3\",\"R3HDM1\",\"UBXN4\",\"LCT\",\"MCM6\",\"DARS\"],\"x\":[135869057.0,136122878.0,136385961.0,136520911.0,136570082.5,136615621.5,136703738.0],\"y\":[660.0,660.0,660.0,660.0,660.0,660.0,660.0]}},\"id\":\"57449b84-7fc3-4073-90f8-08ea3d041bfe\",\"type\":\"ColumnDataSource\"},{\"attributes\":{\"level\":\"glyph\",\"plot\":{\"id\":\"533e9154-3b0d-42f2-9d39-314d321cd3e5\",\"subtype\":\"Figure\",\"type\":\"Plot\"},\"source\":{\"id\":\"617e60a1-07dd-4350-94f5-1e9d55f65877\",\"type\":\"ColumnDataSource\"},\"text\":{\"field\":\"vals\"},\"text_font_size\":{\"value\":\"9pt\"},\"text_font_style\":\"bold\",\"x\":{\"field\":\"x\"},\"y\":{\"field\":\"y\"}},\"id\":\"6b8275d8-1b6e-4243-be29-afa5d49b4590\",\"type\":\"LabelSet\"},{\"attributes\":{},\"id\":\"261e602a-7308-4814-a6db-646fe6fb3c53\",\"type\":\"BasicTickFormatter\"},{\"attributes\":{\"bottom\":{\"field\":\"bottom\"},\"fill_alpha\":{\"value\":0.1},\"fill_color\":{\"value\":\"#1f77b4\"},\"left\":{\"field\":\"left\"},\"line_alpha\":{\"value\":0.1},\"line_color\":{\"value\":\"#1f77b4\"},\"right\":{\"field\":\"right\"},\"top\":{\"field\":\"top\"}},\"id\":\"a5229ed4-422d-4ff6-8f32-d85385ebb114\",\"type\":\"Quad\"},{\"attributes\":{\"bottom_units\":\"screen\",\"fill_alpha\":{\"value\":0.5},\"fill_color\":{\"value\":\"lightgrey\"},\"left_units\":\"screen\",\"level\":\"overlay\",\"line_alpha\":{\"value\":1.0},\"line_color\":{\"value\":\"black\"},\"line_dash\":[4,4],\"line_width\":{\"value\":2},\"plot\":null,\"render_mode\":\"css\",\"right_units\":\"screen\",\"top_units\":\"screen\"},\"id\":\"e5313718-2d6a-460a-b403-f947509ba9b6\",\"type\":\"BoxAnnotation\"},{\"attributes\":{\"dimension\":1,\"plot\":{\"id\":\"533e9154-3b0d-42f2-9d39-314d321cd3e5\",\"subtype\":\"Figure\",\"type\":\"Plot\"},\"ticker\":{\"id\":\"a58364df-232a-4116-8ace-84c79e1422a7\",\"type\":\"BasicTicker\"}},\"id\":\"5c50e940-b1aa-4083-ab56-d11d39b3a2ea\",\"type\":\"Grid\"},{\"attributes\":{},\"id\":\"1fe94d96-24a5-49d1-8132-73fcde6abaf2\",\"type\":\"ToolEvents\"},{\"attributes\":{\"plot\":{\"id\":\"533e9154-3b0d-42f2-9d39-314d321cd3e5\",\"subtype\":\"Figure\",\"type\":\"Plot\"},\"ticker\":{\"id\":\"2b005322-a905-414b-b171-9a7ef1c8cd54\",\"type\":\"BasicTicker\"}},\"id\":\"4c9485e8-fd58-4a6d-8aa4-097df906ed6f\",\"type\":\"Grid\"},{\"attributes\":{\"plot\":{\"id\":\"533e9154-3b0d-42f2-9d39-314d321cd3e5\",\"subtype\":\"Figure\",\"type\":\"Plot\"}},\"id\":\"8a4206cf-f1f0-44fd-b23a-0f265e4aa7ac\",\"type\":\"SaveTool\"},{\"attributes\":{\"below\":[{\"id\":\"37c43275-c05d-4271-b7f8-059f4c911a0e\",\"type\":\"LinearAxis\"}],\"left\":[{\"id\":\"9c5d4798-c220-484d-b117-befce29d0bdc\",\"type\":\"LinearAxis\"}],\"plot_height\":700,\"plot_width\":900,\"renderers\":[{\"id\":\"37c43275-c05d-4271-b7f8-059f4c911a0e\",\"type\":\"LinearAxis\"},{\"id\":\"4c9485e8-fd58-4a6d-8aa4-097df906ed6f\",\"type\":\"Grid\"},{\"id\":\"9c5d4798-c220-484d-b117-befce29d0bdc\",\"type\":\"LinearAxis\"},{\"id\":\"5c50e940-b1aa-4083-ab56-d11d39b3a2ea\",\"type\":\"Grid\"},{\"id\":\"e5313718-2d6a-460a-b403-f947509ba9b6\",\"type\":\"BoxAnnotation\"},{\"id\":\"af4363db-96ce-464b-863b-00dc420d8dd4\",\"type\":\"GlyphRenderer\"},{\"id\":\"2c3d63d8-f562-47fa-9f69-7ad7fa15e1eb\",\"type\":\"GlyphRenderer\"},{\"id\":\"6b8275d8-1b6e-4243-be29-afa5d49b4590\",\"type\":\"LabelSet\"},{\"id\":\"06bd7e5a-081c-4fd6-90da-a59c25b9d582\",\"type\":\"GlyphRenderer\"},{\"id\":\"7c8e2a26-e1bd-4ed4-bf92-0d9815a20122\",\"type\":\"LabelSet\"}],\"title\":{\"id\":\"08748855-f442-4f22-9ccc-e9bafc0de941\",\"type\":\"Title\"},\"tool_events\":{\"id\":\"1fe94d96-24a5-49d1-8132-73fcde6abaf2\",\"type\":\"ToolEvents\"},\"toolbar\":{\"id\":\"2a9a4df7-f747-4fb2-a284-09cd433f6b91\",\"type\":\"Toolbar\"},\"toolbar_location\":null,\"x_range\":{\"id\":\"4db66265-b107-45dd-b169-f80e759e4e2f\",\"type\":\"Range1d\"},\"y_range\":{\"id\":\"115eae8c-4683-402f-b364-6654c77d5df3\",\"type\":\"Range1d\"}},\"id\":\"533e9154-3b0d-42f2-9d39-314d321cd3e5\",\"subtype\":\"Figure\",\"type\":\"Plot\"},{\"attributes\":{},\"id\":\"bcc3410f-5015-4986-b020-293498f9f775\",\"type\":\"BasicTickFormatter\"},{\"attributes\":{\"bottom\":{\"field\":\"bottom\"},\"fill_alpha\":{\"value\":0.1},\"fill_color\":{\"value\":\"#1f77b4\"},\"left\":{\"field\":\"left\"},\"line_alpha\":{\"value\":0.1},\"line_color\":{\"value\":\"#1f77b4\"},\"right\":{\"field\":\"right\"},\"top\":{\"field\":\"top\"}},\"id\":\"7ba046e7-f260-42a2-9b33-8a47ebdb0fcd\",\"type\":\"Quad\"},{\"attributes\":{\"bottom\":{\"field\":\"bottom\"},\"fill_color\":{\"field\":\"fill_color\"},\"left\":{\"field\":\"left\"},\"line_color\":{\"value\":null},\"right\":{\"field\":\"right\"},\"top\":{\"field\":\"top\"}},\"id\":\"30e05499-dbf6-419a-ad90-60466e6729a0\",\"type\":\"Quad\"},{\"attributes\":{\"callback\":null,\"end\":700},\"id\":\"115eae8c-4683-402f-b364-6654c77d5df3\",\"type\":\"Range1d\"},{\"attributes\":{\"data_source\":{\"id\":\"c0cfd1d1-0aa8-437b-b499-1d8b98cbbba4\",\"type\":\"ColumnDataSource\"},\"glyph\":{\"id\":\"da67d099-e4ab-43d2-8273-935056a04bdb\",\"type\":\"Quad\"},\"hover_glyph\":null,\"nonselection_glyph\":{\"id\":\"a5229ed4-422d-4ff6-8f32-d85385ebb114\",\"type\":\"Quad\"},\"selection_glyph\":null},\"id\":\"06bd7e5a-081c-4fd6-90da-a59c25b9d582\",\"type\":\"GlyphRenderer\"},{\"attributes\":{},\"id\":\"a58364df-232a-4116-8ace-84c79e1422a7\",\"type\":\"BasicTicker\"},{\"attributes\":{},\"id\":\"2b005322-a905-414b-b171-9a7ef1c8cd54\",\"type\":\"BasicTicker\"},{\"attributes\":{\"callback\":null,\"column_names\":[\"right\",\"bottom\",\"top\",\"left\"],\"data\":{\"bottom\":[645,645,645,645,645,645,645],\"left\":[135809835,135957574,136289083,136499189,136545415,136597196,136664254],\"right\":[135928279,136288182,136482839,136542633,136594750,136634047,136743222],\"top\":[675,675,675,675,675,675,675]}},\"id\":\"c0cfd1d1-0aa8-437b-b499-1d8b98cbbba4\",\"type\":\"ColumnDataSource\"},{\"attributes\":{\"callback\":null,\"end\":136786630,\"start\":135757320},\"id\":\"4db66265-b107-45dd-b169-f80e759e4e2f\",\"type\":\"Range1d\"},{\"attributes\":{\"formatter\":{\"id\":\"261e602a-7308-4814-a6db-646fe6fb3c53\",\"type\":\"BasicTickFormatter\"},\"plot\":{\"id\":\"533e9154-3b0d-42f2-9d39-314d321cd3e5\",\"subtype\":\"Figure\",\"type\":\"Plot\"},\"ticker\":{\"id\":\"2b005322-a905-414b-b171-9a7ef1c8cd54\",\"type\":\"BasicTicker\"}},\"id\":\"37c43275-c05d-4271-b7f8-059f4c911a0e\",\"type\":\"LinearAxis\"},{\"attributes\":{\"plot\":{\"id\":\"533e9154-3b0d-42f2-9d39-314d321cd3e5\",\"subtype\":\"Figure\",\"type\":\"Plot\"}},\"id\":\"a819f4aa-3ebf-4f57-9c7b-0f20b226c289\",\"type\":\"PanTool\"},{\"attributes\":{\"level\":\"glyph\",\"plot\":{\"id\":\"533e9154-3b0d-42f2-9d39-314d321cd3e5\",\"subtype\":\"Figure\",\"type\":\"Plot\"},\"source\":{\"id\":\"57449b84-7fc3-4073-90f8-08ea3d041bfe\",\"type\":\"ColumnDataSource\"},\"text\":{\"field\":\"vals\"},\"text_align\":\"center\",\"text_baseline\":\"middle\",\"text_font_size\":{\"value\":\"8pt\"},\"x\":{\"field\":\"x\"},\"y\":{\"field\":\"y\"}},\"id\":\"7c8e2a26-e1bd-4ed4-bf92-0d9815a20122\",\"type\":\"LabelSet\"},{\"attributes\":{\"plot\":{\"id\":\"533e9154-3b0d-42f2-9d39-314d321cd3e5\",\"subtype\":\"Figure\",\"type\":\"Plot\"}},\"id\":\"11beed0f-bab3-443c-90dc-7468163fe891\",\"type\":\"HelpTool\"},{\"attributes\":{\"data_source\":{\"id\":\"d4bc3eb9-4abd-4cc3-8c94-4cda5528b715\",\"type\":\"ColumnDataSource\"},\"glyph\":{\"id\":\"1c4466b0-8d0d-477f-a798-c2410490d126\",\"type\":\"MultiLine\"},\"hover_glyph\":null,\"nonselection_glyph\":{\"id\":\"bbba7287-f7e2-4f9d-8a1d-883595486f29\",\"type\":\"MultiLine\"},\"selection_glyph\":null},\"id\":\"2c3d63d8-f562-47fa-9f69-7ad7fa15e1eb\",\"type\":\"GlyphRenderer\"},{\"attributes\":{\"callback\":null,\"column_names\":[\"y\",\"x\",\"vals\"],\"data\":{\"vals\":[\"6_1503\",\"4_1699\",\"4_911\",\"26_1414\",\"9_1170\",\"9_1023\",\"13_1227\",\"4_1442\",\"39_1014\"],\"x\":[135771974,135915358,136092061,136398174,136496493,136496805,136500475,136506375,136556805],\"y\":[500.0,601.0,95.0,499.0,298.0,196.0,398.0,499.0,196.0]}},\"id\":\"617e60a1-07dd-4350-94f5-1e9d55f65877\",\"type\":\"ColumnDataSource\"},{\"attributes\":{\"data_source\":{\"id\":\"b09130b8-6e30-48b3-b0cb-03b15d349c0c\",\"type\":\"ColumnDataSource\"},\"glyph\":{\"id\":\"30e05499-dbf6-419a-ad90-60466e6729a0\",\"type\":\"Quad\"},\"hover_glyph\":null,\"nonselection_glyph\":{\"id\":\"7ba046e7-f260-42a2-9b33-8a47ebdb0fcd\",\"type\":\"Quad\"},\"selection_glyph\":null},\"id\":\"af4363db-96ce-464b-863b-00dc420d8dd4\",\"type\":\"GlyphRenderer\"},{\"attributes\":{\"overlay\":{\"id\":\"e5313718-2d6a-460a-b403-f947509ba9b6\",\"type\":\"BoxAnnotation\"},\"plot\":{\"id\":\"533e9154-3b0d-42f2-9d39-314d321cd3e5\",\"subtype\":\"Figure\",\"type\":\"Plot\"}},\"id\":\"c4954b97-9ec2-4e1d-8411-ce317ed2be53\",\"type\":\"BoxZoomTool\"},{\"attributes\":{\"callback\":null,\"column_names\":[\"right\",\"bottom\",\"top\",\"left\",\"fill_color\"],\"data\":{\"bottom\":[450,550,50,450,250,150,350,450,150],\"fill_color\":[\"#61c461\",\"#61c461\",\"#00ff00\",\"#61c461\",\"#808080\",\"#61c4c4\",\"#808080\",\"#808080\",\"#808080\"],\"left\":[135771974,135915358,136092061,136398174,136496493,136496805,136500475,136506375,136556805],\"right\":[136140304,135995079,136407479,136474098,136553925,136552629,136542560,136538939,136747085],\"top\":[495,596,90,494,293,191,393,494,191]}},\"id\":\"b09130b8-6e30-48b3-b0cb-03b15d349c0c\",\"type\":\"ColumnDataSource\"},{\"attributes\":{\"line_alpha\":{\"value\":0.1},\"line_color\":{\"value\":\"#1f77b4\"},\"xs\":{\"field\":\"xs\"},\"ys\":{\"field\":\"ys\"}},\"id\":\"bbba7287-f7e2-4f9d-8a1d-883595486f29\",\"type\":\"MultiLine\"},{\"attributes\":{\"active_drag\":\"auto\",\"active_scroll\":\"auto\",\"active_tap\":\"auto\",\"tools\":[{\"id\":\"a819f4aa-3ebf-4f57-9c7b-0f20b226c289\",\"type\":\"PanTool\"},{\"id\":\"dd6fa6d9-c3e6-4238-bc2e-366d644439c3\",\"type\":\"WheelZoomTool\"},{\"id\":\"c4954b97-9ec2-4e1d-8411-ce317ed2be53\",\"type\":\"BoxZoomTool\"},{\"id\":\"8a4206cf-f1f0-44fd-b23a-0f265e4aa7ac\",\"type\":\"SaveTool\"},{\"id\":\"e6c7987f-4611-47c2-ac5f-5045872e7d70\",\"type\":\"ResetTool\"},{\"id\":\"11beed0f-bab3-443c-90dc-7468163fe891\",\"type\":\"HelpTool\"}]},\"id\":\"2a9a4df7-f747-4fb2-a284-09cd433f6b91\",\"type\":\"Toolbar\"},{\"attributes\":{\"line_color\":{\"field\":\"line_color\"},\"xs\":{\"field\":\"xs\"},\"ys\":{\"field\":\"ys\"}},\"id\":\"1c4466b0-8d0d-477f-a798-c2410490d126\",\"type\":\"MultiLine\"},{\"attributes\":{\"plot\":{\"id\":\"533e9154-3b0d-42f2-9d39-314d321cd3e5\",\"subtype\":\"Figure\",\"type\":\"Plot\"}},\"id\":\"e6c7987f-4611-47c2-ac5f-5045872e7d70\",\"type\":\"ResetTool\"},{\"attributes\":{\"callback\":null,\"column_names\":[\"xs\",\"ys\",\"line_color\"],\"data\":{\"line_color\":[\"black\",\"black\",\"black\",\"black\",\"black\",\"black\",\"black\",\"black\",\"black\",\"black\",\"black\",\"black\",\"black\",\"black\",\"black\",\"black\",\"black\",\"black\",\"black\",\"black\",\"black\",\"black\",\"black\",\"black\",\"black\",\"black\",\"black\",\"black\",\"black\",\"black\",\"black\",\"black\",\"black\",\"black\",\"black\",\"black\",\"black\",\"black\",\"black\",\"black\",\"black\",\"black\",\"black\",\"black\",\"black\",\"black\",\"black\",\"black\",\"black\",\"black\",\"black\",\"black\",\"black\",\"black\",\"black\",\"black\",\"black\",\"black\",\"black\",\"black\",\"black\",\"black\",\"black\",\"black\",\"black\",\"black\",\"black\",\"black\",\"black\",\"black\",\"black\",\"black\",\"black\",\"black\",\"black\",\"black\",\"black\",\"black\",\"black\",\"black\",\"black\",\"black\",\"black\",\"black\",\"black\",\"black\",\"black\",\"black\",\"black\",\"black\",\"black\",\"black\",\"black\",\"black\",\"black\",\"black\",\"black\",\"black\",\"black\",\"black\",\"black\",\"black\",\"black\",\"black\",\"black\",\"black\",\"black\",\"black\",\"black\",\"black\",\"black\",\"black\",\"black\",\"black\"],\"xs\":[[135771974,135771974],[135859371,135859371],[135877562,135877562],[136022798,136022798],[136058820,136058820],[136140304,136140304],[135915358,135915358],[135954405,135954405],[135995073,135995073],[135995079,135995079],[136092061,136092061],[136273578,136273578],[136322676,136322676],[136407479,136407479],[136398174,136398174],[136402117,136402117],[136403749,136403749],[136409073,136409073],[136410299,136410299],[136413359,136413359],[136416855,136416855],[136416941,136416941],[136418348,136418348],[136419961,136419961],[136420690,136420690],[136422171,136422171],[136428460,136428460],[136430866,136430866],[136432103,136432103],[136437507,136437507],[136439090,136439090],[136439517,136439517],[136444123,136444123],[136445526,136445526],[136445869,136445869],[136455600,136455600],[136456642,136456642],[136462441,136462441],[136470714,136470714],[136474098,136474098],[136496493,136496493],[136496639,136496639],[136496928,136496928],[136509573,136509573],[136511951,136511951],[136537057,136537057],[136546635,136546635],[136553438,136553438],[136553925,136553925],[136496805,136496805],[136496910,136496910],[136515859,136515859],[136515924,136515924],[136520186,136520186],[136524766,136524766],[136535364,136535364],[136536113,136536113],[136552629,136552629],[136500475,136500475],[136501509,136501509],[136504101,136504101],[136509868,136509868],[136520043,136520043],[136527120,136527120],[136530379,136530379],[136530443,136530443],[136539330,136539330],[136539670,136539670],[136540083,136540083],[136542559,136542559],[136542560,136542560],[136506375,136506375],[136506927,136506927],[136510012,136510012],[136538939,136538939],[136556805,136556805],[136560003,136560003],[136562472,136562472],[136563248,136563248],[136565328,136565328],[136570613,136570613],[136571982,136571982],[136574305,136574305],[136578040,136578040],[136578194,136578194],[136580398,136580398],[136586828,136586828],[136590558,136590558],[136592309,136592309],[136593541,136593541],[136593694,136593694],[136595426,136595426],[136615222,136615222],[136624919,136624919],[136626004,136626004],[136628380,136628380],[136636909,136636909],[136637350,136637350],[136637622,136637622],[136639487,136639487],[136646900,136646900],[136652093,136652093],[136652859,136652859],[136655620,136655620],[136667896,136667896],[136671801,136671801],[136677192,136677192],[136683293,136683293],[136704414,136704414],[136720344,136720344],[136731066,136731066],[136733897,136733897],[136743490,136743490],[136747085,136747085]],\"ys\":[[450,495],[450,495],[450,495],[450,495],[450,495],[450,495],[550,596],[550,596],[550,596],[550,596],[50,90],[50,90],[50,90],[50,90],[450,494],[450,494],[450,494],[450,494],[450,494],[450,494],[450,494],[450,494],[450,494],[450,494],[450,494],[450,494],[450,494],[450,494],[450,494],[450,494],[450,494],[450,494],[450,494],[450,494],[450,494],[450,494],[450,494],[450,494],[450,494],[450,494],[250,293],[250,293],[250,293],[250,293],[250,293],[250,293],[250,293],[250,293],[250,293],[150,191],[150,191],[150,191],[150,191],[150,191],[150,191],[150,191],[150,191],[150,191],[350,393],[350,393],[350,393],[350,393],[350,393],[350,393],[350,393],[350,393],[350,393],[350,393],[350,393],[350,393],[350,393],[450,494],[450,494],[450,494],[450,494],[150,191],[150,191],[150,191],[150,191],[150,191],[150,191],[150,191],[150,191],[150,191],[150,191],[150,191],[150,191],[150,191],[150,191],[150,191],[150,191],[150,191],[150,191],[150,191],[150,191],[150,191],[150,191],[150,191],[150,191],[150,191],[150,191],[150,191],[150,191],[150,191],[150,191],[150,191],[150,191],[150,191],[150,191],[150,191],[150,191],[150,191],[150,191],[150,191]]}},\"id\":\"d4bc3eb9-4abd-4cc3-8c94-4cda5528b715\",\"type\":\"ColumnDataSource\"},{\"attributes\":{\"formatter\":{\"id\":\"bcc3410f-5015-4986-b020-293498f9f775\",\"type\":\"BasicTickFormatter\"},\"plot\":{\"id\":\"533e9154-3b0d-42f2-9d39-314d321cd3e5\",\"subtype\":\"Figure\",\"type\":\"Plot\"},\"ticker\":{\"id\":\"a58364df-232a-4116-8ace-84c79e1422a7\",\"type\":\"BasicTicker\"},\"visible\":null},\"id\":\"9c5d4798-c220-484d-b117-befce29d0bdc\",\"type\":\"LinearAxis\"},{\"attributes\":{\"plot\":{\"id\":\"533e9154-3b0d-42f2-9d39-314d321cd3e5\",\"subtype\":\"Figure\",\"type\":\"Plot\"}},\"id\":\"dd6fa6d9-c3e6-4238-bc2e-366d644439c3\",\"type\":\"WheelZoomTool\"}],\"root_ids\":[\"533e9154-3b0d-42f2-9d39-314d321cd3e5\"]},\"title\":\"Bokeh Application\",\"version\":\"0.12.0\"}};\n",
       "            var render_items = [{\"docid\":\"d7e87ea4-c31b-45e6-a0a2-55e4a32a55ea\",\"elementid\":\"d575ff2d-7193-4afb-ad70-2666e2ba8893\",\"modelid\":\"533e9154-3b0d-42f2-9d39-314d321cd3e5\",\"notebook_comms_target\":\"b6ce389f-5306-4b51-84a7-f385df4094d6\"}];\n",
       "            \n",
       "            Bokeh.embed.embed_items(docs_json, render_items);\n",
       "        });\n",
       "      },\n",
       "      function(Bokeh) {\n",
       "      }\n",
       "    ];\n",
       "  \n",
       "    function run_inline_js() {\n",
       "      for (var i = 0; i < inline_js.length; i++) {\n",
       "        inline_js[i](window.Bokeh);\n",
       "      }\n",
       "    }\n",
       "  \n",
       "    if (window._bokeh_is_loading === 0) {\n",
       "      console.log(\"Bokeh: BokehJS loaded, going straight to plotting\");\n",
       "      run_inline_js();\n",
       "    } else {\n",
       "      load_libs(js_urls, function() {\n",
       "        console.log(\"Bokeh: BokehJS plotting callback run at\", now());\n",
       "        run_inline_js();\n",
       "      });\n",
       "    }\n",
       "  }(this));\n",
       "</script>"
      ]
     },
     "metadata": {},
     "output_type": "display_data"
    },
    {
     "data": {
      "text/html": [
       "<p><code>&lt;Bokeh Notebook handle for <strong>In[49]</strong>&gt;</code></p>"
      ],
      "text/plain": [
       "<bokeh.io._CommsHandle at 0x7f46f0fef150>"
      ]
     },
     "execution_count": 49,
     "metadata": {},
     "output_type": "execute_result"
    }
   ],
   "source": [
    "plt_obj = dm.superset_yes_no([dm.di_4_911, dm.di_4_1442], \n",
    "                             [dm.di_7_1760, dm.di_10_2206, dm.di_64_1575, dm.di_11_765],                              \n",
    "                             min_match=0.001)\n",
    "plt = plt_obj.do_plot()\n",
    "am_10 = plt_obj.plot_context.yes_allele_mask\n",
    "show(plt)"
   ]
  },
  {
   "cell_type": "code",
   "execution_count": 50,
   "metadata": {
    "collapsed": false
   },
   "outputs": [
    {
     "data": {
      "text/html": [
       "<table>\n",
       "<thead><tr><th style=\"text-align:center\">index</th><th style=\"text-align:center\">first</th><th style=\"text-align:center\">length</th><th style=\"text-align:center\">snps</th><th style=\"text-align:center\" colspan=2>alleles</th><th style=\"text-align:center\" colspan=2>matches</th><th style=\"text-align:center\" colspan=2>afr</th><th style=\"text-align:center\" colspan=2>afx</th><th style=\"text-align:center\" colspan=2>amr</th><th style=\"text-align:center\" colspan=2>eas</th><th style=\"text-align:center\" colspan=2>eur</th><th style=\"text-align:center\" colspan=2>sas</th><th style=\"text-align:center\" colspan=2>sax</th></tr></thead>\n",
       "<tr class=\"even\"><td style=\"text-align: right;\">353462</td><td style=\"text-align: right;\">135,915,358</td><td style=\"text-align: right;\">79,721</td><td style=\"text-align: right;\">4</td><td style=\"text-align: right;\">1699</td><td style=\"text-align: right;\">0.00</td><td style=\"text-align: right;\">3</td><td style=\"text-align: right;\">1.00</td><td style=\"text-align: right;\">0</td><td style=\"text-align: right;\">0.00</td><td style=\"text-align: right;\">0</td><td style=\"text-align: right;\">0.00</td><td style=\"text-align: right;\">3</td><td style=\"text-align: right;\">6.56</td><td style=\"text-align: right;\">0</td><td style=\"text-align: right;\">0.00</td><td style=\"text-align: right;\">0</td><td style=\"text-align: right;\">0.00</td><td style=\"text-align: right;\">0</td><td style=\"text-align: right;\">0.00</td><td style=\"text-align: right;\">0</td><td style=\"text-align: right;\">0.00</td></tr>\n",
       "<tr><td style=\"text-align: right;\">353283</td><td style=\"text-align: right;\">135,771,974</td><td style=\"text-align: right;\">368,330</td><td style=\"text-align: right;\">6</td><td style=\"text-align: right;\">1503</td><td style=\"text-align: right;\">0.00</td><td style=\"text-align: right;\">3</td><td style=\"text-align: right;\">1.00</td><td style=\"text-align: right;\">0</td><td style=\"text-align: right;\">0.00</td><td style=\"text-align: right;\">0</td><td style=\"text-align: right;\">0.00</td><td style=\"text-align: right;\">3</td><td style=\"text-align: right;\">6.56</td><td style=\"text-align: right;\">0</td><td style=\"text-align: right;\">0.00</td><td style=\"text-align: right;\">0</td><td style=\"text-align: right;\">0.00</td><td style=\"text-align: right;\">0</td><td style=\"text-align: right;\">0.00</td><td style=\"text-align: right;\">0</td><td style=\"text-align: right;\">0.00</td></tr>\n",
       "<tr class=\"even\"><td style=\"text-align: right;\">353925</td><td style=\"text-align: right;\">136,506,375</td><td style=\"text-align: right;\">32,564</td><td style=\"text-align: right;\">4</td><td style=\"text-align: right;\">1442</td><td style=\"text-align: right;\">0.00</td><td style=\"text-align: right;\">3</td><td style=\"text-align: right;\">1.00</td><td style=\"text-align: right;\">0</td><td style=\"text-align: right;\">0.00</td><td style=\"text-align: right;\">0</td><td style=\"text-align: right;\">0.00</td><td style=\"text-align: right;\">3</td><td style=\"text-align: right;\">6.56</td><td style=\"text-align: right;\">0</td><td style=\"text-align: right;\">0.00</td><td style=\"text-align: right;\">0</td><td style=\"text-align: right;\">0.00</td><td style=\"text-align: right;\">0</td><td style=\"text-align: right;\">0.00</td><td style=\"text-align: right;\">0</td><td style=\"text-align: right;\">0.00</td></tr>\n",
       "<tr><td style=\"text-align: right;\">353797</td><td style=\"text-align: right;\">136,398,174</td><td style=\"text-align: right;\">75,924</td><td style=\"text-align: right;\">26</td><td style=\"text-align: right;\">1414</td><td style=\"text-align: right;\">0.00</td><td style=\"text-align: right;\">3</td><td style=\"text-align: right;\">1.00</td><td style=\"text-align: right;\">0</td><td style=\"text-align: right;\">0.00</td><td style=\"text-align: right;\">0</td><td style=\"text-align: right;\">0.00</td><td style=\"text-align: right;\">3</td><td style=\"text-align: right;\">6.56</td><td style=\"text-align: right;\">0</td><td style=\"text-align: right;\">0.00</td><td style=\"text-align: right;\">0</td><td style=\"text-align: right;\">0.00</td><td style=\"text-align: right;\">0</td><td style=\"text-align: right;\">0.00</td><td style=\"text-align: right;\">0</td><td style=\"text-align: right;\">0.00</td></tr>\n",
       "<tr class=\"even\"><td style=\"text-align: right;\">353919</td><td style=\"text-align: right;\">136,500,475</td><td style=\"text-align: right;\">42,085</td><td style=\"text-align: right;\">13</td><td style=\"text-align: right;\">1227</td><td style=\"text-align: right;\">0.00</td><td style=\"text-align: right;\">3</td><td style=\"text-align: right;\">1.00</td><td style=\"text-align: right;\">0</td><td style=\"text-align: right;\">0.00</td><td style=\"text-align: right;\">0</td><td style=\"text-align: right;\">0.00</td><td style=\"text-align: right;\">3</td><td style=\"text-align: right;\">6.56</td><td style=\"text-align: right;\">0</td><td style=\"text-align: right;\">0.00</td><td style=\"text-align: right;\">0</td><td style=\"text-align: right;\">0.00</td><td style=\"text-align: right;\">0</td><td style=\"text-align: right;\">0.00</td><td style=\"text-align: right;\">0</td><td style=\"text-align: right;\">0.00</td></tr>\n",
       "<tr><td style=\"text-align: right;\">353906</td><td style=\"text-align: right;\">136,496,493</td><td style=\"text-align: right;\">57,432</td><td style=\"text-align: right;\">9</td><td style=\"text-align: right;\">1170</td><td style=\"text-align: right;\">0.00</td><td style=\"text-align: right;\">3</td><td style=\"text-align: right;\">1.00</td><td style=\"text-align: right;\">0</td><td style=\"text-align: right;\">0.00</td><td style=\"text-align: right;\">0</td><td style=\"text-align: right;\">0.00</td><td style=\"text-align: right;\">3</td><td style=\"text-align: right;\">6.56</td><td style=\"text-align: right;\">0</td><td style=\"text-align: right;\">0.00</td><td style=\"text-align: right;\">0</td><td style=\"text-align: right;\">0.00</td><td style=\"text-align: right;\">0</td><td style=\"text-align: right;\">0.00</td><td style=\"text-align: right;\">0</td><td style=\"text-align: right;\">0.00</td></tr>\n",
       "<tr class=\"even\"><td style=\"text-align: right;\">353907</td><td style=\"text-align: right;\">136,496,805</td><td style=\"text-align: right;\">55,824</td><td style=\"text-align: right;\">9</td><td style=\"text-align: right;\">1023</td><td style=\"text-align: right;\">0.00</td><td style=\"text-align: right;\">3</td><td style=\"text-align: right;\">1.00</td><td style=\"text-align: right;\">0</td><td style=\"text-align: right;\">0.00</td><td style=\"text-align: right;\">0</td><td style=\"text-align: right;\">0.00</td><td style=\"text-align: right;\">3</td><td style=\"text-align: right;\">6.56</td><td style=\"text-align: right;\">0</td><td style=\"text-align: right;\">0.00</td><td style=\"text-align: right;\">0</td><td style=\"text-align: right;\">0.00</td><td style=\"text-align: right;\">0</td><td style=\"text-align: right;\">0.00</td><td style=\"text-align: right;\">0</td><td style=\"text-align: right;\">0.00</td></tr>\n",
       "<tr><td style=\"text-align: right;\">353984</td><td style=\"text-align: right;\">136,556,805</td><td style=\"text-align: right;\">190,280</td><td style=\"text-align: right;\">39</td><td style=\"text-align: right;\">1014</td><td style=\"text-align: right;\">0.00</td><td style=\"text-align: right;\">3</td><td style=\"text-align: right;\">1.00</td><td style=\"text-align: right;\">0</td><td style=\"text-align: right;\">0.00</td><td style=\"text-align: right;\">0</td><td style=\"text-align: right;\">0.00</td><td style=\"text-align: right;\">3</td><td style=\"text-align: right;\">6.56</td><td style=\"text-align: right;\">0</td><td style=\"text-align: right;\">0.00</td><td style=\"text-align: right;\">0</td><td style=\"text-align: right;\">0.00</td><td style=\"text-align: right;\">0</td><td style=\"text-align: right;\">0.00</td><td style=\"text-align: right;\">0</td><td style=\"text-align: right;\">0.00</td></tr>\n",
       "<tr class=\"even\"><td style=\"text-align: right;\">353604</td><td style=\"text-align: right;\">136,092,061</td><td style=\"text-align: right;\">315,418</td><td style=\"text-align: right;\">4</td><td style=\"text-align: right;\">911</td><td style=\"text-align: right;\">0.00</td><td style=\"text-align: right;\">3</td><td style=\"text-align: right;\">1.00</td><td style=\"text-align: right;\">0</td><td style=\"text-align: right;\">0.00</td><td style=\"text-align: right;\">0</td><td style=\"text-align: right;\">0.00</td><td style=\"text-align: right;\">3</td><td style=\"text-align: right;\">6.56</td><td style=\"text-align: right;\">0</td><td style=\"text-align: right;\">0.00</td><td style=\"text-align: right;\">0</td><td style=\"text-align: right;\">0.00</td><td style=\"text-align: right;\">0</td><td style=\"text-align: right;\">0.00</td><td style=\"text-align: right;\">0</td><td style=\"text-align: right;\">0.00</td></tr>\n",
       "</table>"
      ],
      "text/plain": [
       "<IPython.core.display.HTML object>"
      ]
     },
     "execution_count": 50,
     "metadata": {},
     "output_type": "execute_result"
    }
   ],
   "source": [
    "HTML(plt_obj.get_html())"
   ]
  },
  {
   "cell_type": "code",
   "execution_count": 51,
   "metadata": {
    "collapsed": false
   },
   "outputs": [
    {
     "data": {
      "text/plain": [
       "array([1, 0, 0, 0, 0, 0, 0, 0, 0, 0, 0, 0, 0, 0, 0, 0, 0, 0, 0, 0, 0, 0, 0,\n",
       "       0, 0, 0, 0, 0, 0, 0, 0, 0, 0, 0, 0, 0, 0, 0, 0, 0, 0, 0, 0, 0, 0, 0,\n",
       "       0, 0, 0, 0, 0, 0, 0, 0, 0, 0, 0, 0, 0, 0, 0, 0, 0, 0])"
      ]
     },
     "execution_count": 51,
     "metadata": {},
     "output_type": "execute_result"
    }
   ],
   "source": [
    "sa_64_1575.alleles_per_snp(am_10)"
   ]
  },
  {
   "cell_type": "code",
   "execution_count": 52,
   "metadata": {
    "collapsed": false
   },
   "outputs": [
    {
     "data": {
      "text/html": [
       "\n",
       "\n",
       "    <div class=\"bk-root\">\n",
       "        <div class=\"plotdiv\" id=\"c8610451-cf92-4bb5-b3ec-f4b9c87d12eb\"></div>\n",
       "    </div>\n",
       "<script type=\"text/javascript\">\n",
       "  \n",
       "  (function(global) {\n",
       "    function now() {\n",
       "      return new Date();\n",
       "    }\n",
       "  \n",
       "    if (typeof (window._bokeh_onload_callbacks) === \"undefined\") {\n",
       "      window._bokeh_onload_callbacks = [];\n",
       "    }\n",
       "  \n",
       "    function run_callbacks() {\n",
       "      window._bokeh_onload_callbacks.forEach(function(callback) { callback() });\n",
       "      delete window._bokeh_onload_callbacks\n",
       "      console.info(\"Bokeh: all callbacks have finished\");\n",
       "    }\n",
       "  \n",
       "    function load_libs(js_urls, callback) {\n",
       "      window._bokeh_onload_callbacks.push(callback);\n",
       "      if (window._bokeh_is_loading > 0) {\n",
       "        console.log(\"Bokeh: BokehJS is being loaded, scheduling callback at\", now());\n",
       "        return null;\n",
       "      }\n",
       "      if (js_urls == null || js_urls.length === 0) {\n",
       "        run_callbacks();\n",
       "        return null;\n",
       "      }\n",
       "      console.log(\"Bokeh: BokehJS not loaded, scheduling load and callback at\", now());\n",
       "      window._bokeh_is_loading = js_urls.length;\n",
       "      for (var i = 0; i < js_urls.length; i++) {\n",
       "        var url = js_urls[i];\n",
       "        var s = document.createElement('script');\n",
       "        s.src = url;\n",
       "        s.async = false;\n",
       "        s.onreadystatechange = s.onload = function() {\n",
       "          window._bokeh_is_loading--;\n",
       "          if (window._bokeh_is_loading === 0) {\n",
       "            console.log(\"Bokeh: all BokehJS libraries loaded\");\n",
       "            run_callbacks()\n",
       "          }\n",
       "        };\n",
       "        s.onerror = function() {\n",
       "          console.warn(\"failed to load library \" + url);\n",
       "        };\n",
       "        console.log(\"Bokeh: injecting script tag for BokehJS library: \", url);\n",
       "        document.getElementsByTagName(\"head\")[0].appendChild(s);\n",
       "      }\n",
       "    };var element = document.getElementById(\"c8610451-cf92-4bb5-b3ec-f4b9c87d12eb\");\n",
       "    if (element == null) {\n",
       "      console.log(\"Bokeh: ERROR: autoload.js configured with elementid 'c8610451-cf92-4bb5-b3ec-f4b9c87d12eb' but no matching script tag was found. \")\n",
       "      return false;\n",
       "    }\n",
       "  \n",
       "    var js_urls = [];\n",
       "  \n",
       "    var inline_js = [\n",
       "      function(Bokeh) {\n",
       "        Bokeh.$(function() {\n",
       "            var docs_json = {\"98234667-2526-44fc-86d5-c3a0f0e4f24c\":{\"roots\":{\"references\":[{\"attributes\":{\"callback\":null,\"column_names\":[\"y\",\"x\",\"vals\"],\"data\":{\"vals\":[\"RAB3GAP1\",\"ZRANB3\",\"R3HDM1\",\"UBXN4\",\"LCT\",\"MCM6\",\"DARS\"],\"x\":[135869057.0,136122878.0,136385961.0,136520911.0,136570082.5,136615621.5,136703738.0],\"y\":[560.0,560.0,560.0,560.0,560.0,560.0,560.0]}},\"id\":\"10902496-0b4e-43b3-871f-67cfe6782561\",\"type\":\"ColumnDataSource\"},{\"attributes\":{\"active_drag\":\"auto\",\"active_scroll\":\"auto\",\"active_tap\":\"auto\",\"tools\":[{\"id\":\"370411c2-6466-46fa-a930-e8989c5c6279\",\"type\":\"PanTool\"},{\"id\":\"84f97d53-6a25-4b06-8592-37ac89e4b0c3\",\"type\":\"WheelZoomTool\"},{\"id\":\"17c076f0-649f-4d59-8dd6-88e6cd4d9442\",\"type\":\"BoxZoomTool\"},{\"id\":\"89f1ec32-c038-4683-b86a-10c3af66fed5\",\"type\":\"SaveTool\"},{\"id\":\"8a476848-7c55-4fdd-a3dc-5bdf889de774\",\"type\":\"ResetTool\"},{\"id\":\"93e1d287-bd37-4ba1-9210-229e3c4b5a51\",\"type\":\"HelpTool\"}]},\"id\":\"3674b306-82bf-4d02-9318-c71d552b485d\",\"type\":\"Toolbar\"},{\"attributes\":{\"overlay\":{\"id\":\"55f18c1e-5a96-4c19-bf79-ca1357826f5e\",\"type\":\"BoxAnnotation\"},\"plot\":{\"id\":\"518992e1-ac46-405c-b257-ea81b84fe11c\",\"subtype\":\"Figure\",\"type\":\"Plot\"}},\"id\":\"17c076f0-649f-4d59-8dd6-88e6cd4d9442\",\"type\":\"BoxZoomTool\"},{\"attributes\":{\"formatter\":{\"id\":\"676bc0d0-8a93-4528-948e-4306b6ac2195\",\"type\":\"BasicTickFormatter\"},\"plot\":{\"id\":\"518992e1-ac46-405c-b257-ea81b84fe11c\",\"subtype\":\"Figure\",\"type\":\"Plot\"},\"ticker\":{\"id\":\"28300058-ab94-4193-aa2f-ce58b52cbef0\",\"type\":\"BasicTicker\"}},\"id\":\"d996f425-989c-4e28-b847-84c70f822dcc\",\"type\":\"LinearAxis\"},{\"attributes\":{\"bottom_units\":\"screen\",\"fill_alpha\":{\"value\":0.5},\"fill_color\":{\"value\":\"lightgrey\"},\"left_units\":\"screen\",\"level\":\"overlay\",\"line_alpha\":{\"value\":1.0},\"line_color\":{\"value\":\"black\"},\"line_dash\":[4,4],\"line_width\":{\"value\":2},\"plot\":null,\"render_mode\":\"css\",\"right_units\":\"screen\",\"top_units\":\"screen\"},\"id\":\"55f18c1e-5a96-4c19-bf79-ca1357826f5e\",\"type\":\"BoxAnnotation\"},{\"attributes\":{\"callback\":null,\"column_names\":[\"right\",\"bottom\",\"top\",\"left\"],\"data\":{\"bottom\":[545,545,545,545,545,545,545],\"left\":[135809835,135957574,136289083,136499189,136545415,136597196,136664254],\"right\":[135928279,136288182,136482839,136542633,136594750,136634047,136743222],\"top\":[575,575,575,575,575,575,575]}},\"id\":\"178e60b5-d69a-4bc0-a886-3a62e3c08f10\",\"type\":\"ColumnDataSource\"},{\"attributes\":{},\"id\":\"676bc0d0-8a93-4528-948e-4306b6ac2195\",\"type\":\"BasicTickFormatter\"},{\"attributes\":{\"plot\":null,\"text\":null},\"id\":\"a32680e3-bfb3-430b-b565-27f5c0664787\",\"type\":\"Title\"},{\"attributes\":{\"plot\":{\"id\":\"518992e1-ac46-405c-b257-ea81b84fe11c\",\"subtype\":\"Figure\",\"type\":\"Plot\"}},\"id\":\"8a476848-7c55-4fdd-a3dc-5bdf889de774\",\"type\":\"ResetTool\"},{\"attributes\":{},\"id\":\"920324ff-bb91-442f-94be-ef08ae696592\",\"type\":\"ToolEvents\"},{\"attributes\":{\"below\":[{\"id\":\"d996f425-989c-4e28-b847-84c70f822dcc\",\"type\":\"LinearAxis\"}],\"left\":[{\"id\":\"5cd2437a-17b3-4113-bd32-9b776c46ccd8\",\"type\":\"LinearAxis\"}],\"plot_width\":900,\"renderers\":[{\"id\":\"d996f425-989c-4e28-b847-84c70f822dcc\",\"type\":\"LinearAxis\"},{\"id\":\"db841df4-8113-44df-bba6-0953a8b6dd91\",\"type\":\"Grid\"},{\"id\":\"5cd2437a-17b3-4113-bd32-9b776c46ccd8\",\"type\":\"LinearAxis\"},{\"id\":\"4f91d5c7-145e-430e-a0d8-9d994ed57c66\",\"type\":\"Grid\"},{\"id\":\"55f18c1e-5a96-4c19-bf79-ca1357826f5e\",\"type\":\"BoxAnnotation\"},{\"id\":\"3f2476f0-fb3a-45ad-b014-0ae494710eac\",\"type\":\"GlyphRenderer\"},{\"id\":\"b05f77a3-6f1c-4348-81b2-b98a26740755\",\"type\":\"GlyphRenderer\"},{\"id\":\"50a257ee-18c7-40a9-9023-8ef0303bb7ff\",\"type\":\"LabelSet\"},{\"id\":\"eff33614-a090-41ae-85aa-785f855eeef3\",\"type\":\"GlyphRenderer\"},{\"id\":\"3ed8c2c3-9aa6-4c6d-b520-2bf7cd3b1209\",\"type\":\"LabelSet\"}],\"title\":{\"id\":\"a32680e3-bfb3-430b-b565-27f5c0664787\",\"type\":\"Title\"},\"tool_events\":{\"id\":\"920324ff-bb91-442f-94be-ef08ae696592\",\"type\":\"ToolEvents\"},\"toolbar\":{\"id\":\"3674b306-82bf-4d02-9318-c71d552b485d\",\"type\":\"Toolbar\"},\"toolbar_location\":null,\"x_range\":{\"id\":\"b0b45a89-a1cc-45f5-88be-572c065fe546\",\"type\":\"Range1d\"},\"y_range\":{\"id\":\"042a5ff7-df35-4feb-9c8d-e7d23e957902\",\"type\":\"Range1d\"}},\"id\":\"518992e1-ac46-405c-b257-ea81b84fe11c\",\"subtype\":\"Figure\",\"type\":\"Plot\"},{\"attributes\":{\"callback\":null,\"column_names\":[\"y\",\"x\",\"vals\"],\"data\":{\"vals\":[\"6_1503\",\"4_1699\",\"4_911\",\"26_1414\",\"9_1170\",\"9_1023\",\"5_976\",\"6_820\",\"39_1014\"],\"x\":[135771974,135915358,136092061,136398174,136496493,136496805,136511874,136514709,136556805],\"y\":[400.0,501.0,195.0,399.0,398.0,296.0,196.0,95.0,296.0]}},\"id\":\"d2ee5ce8-db87-4b72-ab4a-7b32869bd5d7\",\"type\":\"ColumnDataSource\"},{\"attributes\":{\"plot\":{\"id\":\"518992e1-ac46-405c-b257-ea81b84fe11c\",\"subtype\":\"Figure\",\"type\":\"Plot\"}},\"id\":\"84f97d53-6a25-4b06-8592-37ac89e4b0c3\",\"type\":\"WheelZoomTool\"},{\"attributes\":{\"plot\":{\"id\":\"518992e1-ac46-405c-b257-ea81b84fe11c\",\"subtype\":\"Figure\",\"type\":\"Plot\"}},\"id\":\"89f1ec32-c038-4683-b86a-10c3af66fed5\",\"type\":\"SaveTool\"},{\"attributes\":{\"line_alpha\":{\"value\":0.1},\"line_color\":{\"value\":\"#1f77b4\"},\"xs\":{\"field\":\"xs\"},\"ys\":{\"field\":\"ys\"}},\"id\":\"88a30195-1687-4f17-84f0-9f747e20e7ff\",\"type\":\"MultiLine\"},{\"attributes\":{\"bottom\":{\"field\":\"bottom\"},\"fill_alpha\":{\"value\":0.1},\"fill_color\":{\"value\":\"#1f77b4\"},\"left\":{\"field\":\"left\"},\"line_alpha\":{\"value\":0.1},\"line_color\":{\"value\":\"#1f77b4\"},\"right\":{\"field\":\"right\"},\"top\":{\"field\":\"top\"}},\"id\":\"d744cf7f-c713-451f-b1ad-ed35c3a41940\",\"type\":\"Quad\"},{\"attributes\":{\"callback\":null,\"end\":136786630,\"start\":135757320},\"id\":\"b0b45a89-a1cc-45f5-88be-572c065fe546\",\"type\":\"Range1d\"},{\"attributes\":{\"level\":\"glyph\",\"plot\":{\"id\":\"518992e1-ac46-405c-b257-ea81b84fe11c\",\"subtype\":\"Figure\",\"type\":\"Plot\"},\"source\":{\"id\":\"10902496-0b4e-43b3-871f-67cfe6782561\",\"type\":\"ColumnDataSource\"},\"text\":{\"field\":\"vals\"},\"text_align\":\"center\",\"text_baseline\":\"middle\",\"text_font_size\":{\"value\":\"8pt\"},\"x\":{\"field\":\"x\"},\"y\":{\"field\":\"y\"}},\"id\":\"3ed8c2c3-9aa6-4c6d-b520-2bf7cd3b1209\",\"type\":\"LabelSet\"},{\"attributes\":{\"callback\":null,\"column_names\":[\"right\",\"bottom\",\"top\",\"left\",\"fill_color\"],\"data\":{\"bottom\":[350,450,150,350,350,250,150,50,250],\"fill_color\":[\"#61c461\",\"#61c461\",\"#00ff00\",\"#61c461\",\"#808080\",\"#61c4c4\",\"#808080\",\"#61c4c4\",\"#808080\"],\"left\":[135771974,135915358,136092061,136398174,136496493,136496805,136511874,136514709,136556805],\"right\":[136140304,135995079,136407479,136474098,136553925,136552629,136533195,136543147,136747085],\"top\":[395,496,190,394,393,291,191,90,291]}},\"id\":\"f711cf1f-1841-474e-9ad4-c7e9012ff32c\",\"type\":\"ColumnDataSource\"},{\"attributes\":{\"plot\":{\"id\":\"518992e1-ac46-405c-b257-ea81b84fe11c\",\"subtype\":\"Figure\",\"type\":\"Plot\"}},\"id\":\"93e1d287-bd37-4ba1-9210-229e3c4b5a51\",\"type\":\"HelpTool\"},{\"attributes\":{\"plot\":{\"id\":\"518992e1-ac46-405c-b257-ea81b84fe11c\",\"subtype\":\"Figure\",\"type\":\"Plot\"},\"ticker\":{\"id\":\"28300058-ab94-4193-aa2f-ce58b52cbef0\",\"type\":\"BasicTicker\"}},\"id\":\"db841df4-8113-44df-bba6-0953a8b6dd91\",\"type\":\"Grid\"},{\"attributes\":{\"level\":\"glyph\",\"plot\":{\"id\":\"518992e1-ac46-405c-b257-ea81b84fe11c\",\"subtype\":\"Figure\",\"type\":\"Plot\"},\"source\":{\"id\":\"d2ee5ce8-db87-4b72-ab4a-7b32869bd5d7\",\"type\":\"ColumnDataSource\"},\"text\":{\"field\":\"vals\"},\"text_font_size\":{\"value\":\"9pt\"},\"text_font_style\":\"bold\",\"x\":{\"field\":\"x\"},\"y\":{\"field\":\"y\"}},\"id\":\"50a257ee-18c7-40a9-9023-8ef0303bb7ff\",\"type\":\"LabelSet\"},{\"attributes\":{\"data_source\":{\"id\":\"f577bdc8-8df1-4808-ac3b-050d55930be6\",\"type\":\"ColumnDataSource\"},\"glyph\":{\"id\":\"f76a2930-b344-414b-9f50-d6a9221cbc6e\",\"type\":\"MultiLine\"},\"hover_glyph\":null,\"nonselection_glyph\":{\"id\":\"88a30195-1687-4f17-84f0-9f747e20e7ff\",\"type\":\"MultiLine\"},\"selection_glyph\":null},\"id\":\"b05f77a3-6f1c-4348-81b2-b98a26740755\",\"type\":\"GlyphRenderer\"},{\"attributes\":{\"dimension\":1,\"plot\":{\"id\":\"518992e1-ac46-405c-b257-ea81b84fe11c\",\"subtype\":\"Figure\",\"type\":\"Plot\"},\"ticker\":{\"id\":\"a892796f-b7ea-45d8-960a-89e799c198d3\",\"type\":\"BasicTicker\"}},\"id\":\"4f91d5c7-145e-430e-a0d8-9d994ed57c66\",\"type\":\"Grid\"},{\"attributes\":{},\"id\":\"a892796f-b7ea-45d8-960a-89e799c198d3\",\"type\":\"BasicTicker\"},{\"attributes\":{\"callback\":null,\"end\":600},\"id\":\"042a5ff7-df35-4feb-9c8d-e7d23e957902\",\"type\":\"Range1d\"},{\"attributes\":{\"data_source\":{\"id\":\"f711cf1f-1841-474e-9ad4-c7e9012ff32c\",\"type\":\"ColumnDataSource\"},\"glyph\":{\"id\":\"e883b0e0-7c45-4145-8446-d79e03d1495a\",\"type\":\"Quad\"},\"hover_glyph\":null,\"nonselection_glyph\":{\"id\":\"de2e071c-98dc-4fa7-a2a2-bac22d52a981\",\"type\":\"Quad\"},\"selection_glyph\":null},\"id\":\"3f2476f0-fb3a-45ad-b014-0ae494710eac\",\"type\":\"GlyphRenderer\"},{\"attributes\":{\"callback\":null,\"column_names\":[\"xs\",\"ys\",\"line_color\"],\"data\":{\"line_color\":[\"black\",\"black\",\"black\",\"black\",\"black\",\"black\",\"black\",\"black\",\"black\",\"black\",\"black\",\"black\",\"black\",\"black\",\"black\",\"black\",\"black\",\"black\",\"black\",\"black\",\"black\",\"black\",\"black\",\"black\",\"black\",\"black\",\"black\",\"black\",\"black\",\"black\",\"black\",\"black\",\"black\",\"black\",\"black\",\"black\",\"black\",\"black\",\"black\",\"black\",\"black\",\"black\",\"black\",\"black\",\"black\",\"black\",\"black\",\"black\",\"black\",\"black\",\"black\",\"black\",\"black\",\"black\",\"black\",\"black\",\"black\",\"black\",\"black\",\"black\",\"black\",\"black\",\"black\",\"black\",\"black\",\"black\",\"black\",\"black\",\"black\",\"black\",\"black\",\"black\",\"black\",\"black\",\"black\",\"black\",\"black\",\"black\",\"black\",\"black\",\"black\",\"black\",\"black\",\"black\",\"black\",\"black\",\"black\",\"black\",\"black\",\"black\",\"black\",\"black\",\"black\",\"black\",\"black\",\"black\",\"black\",\"black\",\"black\",\"black\",\"black\",\"black\",\"black\",\"black\",\"black\",\"black\",\"black\",\"black\"],\"xs\":[[135771974,135771974],[135859371,135859371],[135877562,135877562],[136022798,136022798],[136058820,136058820],[136140304,136140304],[135915358,135915358],[135954405,135954405],[135995073,135995073],[135995079,135995079],[136092061,136092061],[136273578,136273578],[136322676,136322676],[136407479,136407479],[136398174,136398174],[136402117,136402117],[136403749,136403749],[136409073,136409073],[136410299,136410299],[136413359,136413359],[136416855,136416855],[136416941,136416941],[136418348,136418348],[136419961,136419961],[136420690,136420690],[136422171,136422171],[136428460,136428460],[136430866,136430866],[136432103,136432103],[136437507,136437507],[136439090,136439090],[136439517,136439517],[136444123,136444123],[136445526,136445526],[136445869,136445869],[136455600,136455600],[136456642,136456642],[136462441,136462441],[136470714,136470714],[136474098,136474098],[136496493,136496493],[136496639,136496639],[136496928,136496928],[136509573,136509573],[136511951,136511951],[136537057,136537057],[136546635,136546635],[136553438,136553438],[136553925,136553925],[136496805,136496805],[136496910,136496910],[136515859,136515859],[136515924,136515924],[136520186,136520186],[136524766,136524766],[136535364,136535364],[136536113,136536113],[136552629,136552629],[136511874,136511874],[136530248,136530248],[136530556,136530556],[136531252,136531252],[136533195,136533195],[136514709,136514709],[136516308,136516308],[136520100,136520100],[136521595,136521595],[136523045,136523045],[136543147,136543147],[136556805,136556805],[136560003,136560003],[136562472,136562472],[136563248,136563248],[136565328,136565328],[136570613,136570613],[136571982,136571982],[136574305,136574305],[136578040,136578040],[136578194,136578194],[136580398,136580398],[136586828,136586828],[136590558,136590558],[136592309,136592309],[136593541,136593541],[136593694,136593694],[136595426,136595426],[136615222,136615222],[136624919,136624919],[136626004,136626004],[136628380,136628380],[136636909,136636909],[136637350,136637350],[136637622,136637622],[136639487,136639487],[136646900,136646900],[136652093,136652093],[136652859,136652859],[136655620,136655620],[136667896,136667896],[136671801,136671801],[136677192,136677192],[136683293,136683293],[136704414,136704414],[136720344,136720344],[136731066,136731066],[136733897,136733897],[136743490,136743490],[136747085,136747085]],\"ys\":[[350,395],[350,395],[350,395],[350,395],[350,395],[350,395],[450,496],[450,496],[450,496],[450,496],[150,190],[150,190],[150,190],[150,190],[350,394],[350,394],[350,394],[350,394],[350,394],[350,394],[350,394],[350,394],[350,394],[350,394],[350,394],[350,394],[350,394],[350,394],[350,394],[350,394],[350,394],[350,394],[350,394],[350,394],[350,394],[350,394],[350,394],[350,394],[350,394],[350,394],[350,393],[350,393],[350,393],[350,393],[350,393],[350,393],[350,393],[350,393],[350,393],[250,291],[250,291],[250,291],[250,291],[250,291],[250,291],[250,291],[250,291],[250,291],[150,191],[150,191],[150,191],[150,191],[150,191],[50,90],[50,90],[50,90],[50,90],[50,90],[50,90],[250,291],[250,291],[250,291],[250,291],[250,291],[250,291],[250,291],[250,291],[250,291],[250,291],[250,291],[250,291],[250,291],[250,291],[250,291],[250,291],[250,291],[250,291],[250,291],[250,291],[250,291],[250,291],[250,291],[250,291],[250,291],[250,291],[250,291],[250,291],[250,291],[250,291],[250,291],[250,291],[250,291],[250,291],[250,291],[250,291],[250,291],[250,291],[250,291]]}},\"id\":\"f577bdc8-8df1-4808-ac3b-050d55930be6\",\"type\":\"ColumnDataSource\"},{\"attributes\":{\"line_color\":{\"field\":\"line_color\"},\"xs\":{\"field\":\"xs\"},\"ys\":{\"field\":\"ys\"}},\"id\":\"f76a2930-b344-414b-9f50-d6a9221cbc6e\",\"type\":\"MultiLine\"},{\"attributes\":{\"data_source\":{\"id\":\"178e60b5-d69a-4bc0-a886-3a62e3c08f10\",\"type\":\"ColumnDataSource\"},\"glyph\":{\"id\":\"ec34c39a-d8cc-40ce-974b-1c1e2e29a43b\",\"type\":\"Quad\"},\"hover_glyph\":null,\"nonselection_glyph\":{\"id\":\"d744cf7f-c713-451f-b1ad-ed35c3a41940\",\"type\":\"Quad\"},\"selection_glyph\":null},\"id\":\"eff33614-a090-41ae-85aa-785f855eeef3\",\"type\":\"GlyphRenderer\"},{\"attributes\":{\"bottom\":{\"field\":\"bottom\"},\"fill_color\":{\"value\":\"white\"},\"left\":{\"field\":\"left\"},\"right\":{\"field\":\"right\"},\"top\":{\"field\":\"top\"}},\"id\":\"ec34c39a-d8cc-40ce-974b-1c1e2e29a43b\",\"type\":\"Quad\"},{\"attributes\":{},\"id\":\"ef400d69-7fbb-4d14-969c-55e9c790673f\",\"type\":\"BasicTickFormatter\"},{\"attributes\":{\"formatter\":{\"id\":\"ef400d69-7fbb-4d14-969c-55e9c790673f\",\"type\":\"BasicTickFormatter\"},\"plot\":{\"id\":\"518992e1-ac46-405c-b257-ea81b84fe11c\",\"subtype\":\"Figure\",\"type\":\"Plot\"},\"ticker\":{\"id\":\"a892796f-b7ea-45d8-960a-89e799c198d3\",\"type\":\"BasicTicker\"},\"visible\":null},\"id\":\"5cd2437a-17b3-4113-bd32-9b776c46ccd8\",\"type\":\"LinearAxis\"},{\"attributes\":{\"bottom\":{\"field\":\"bottom\"},\"fill_color\":{\"field\":\"fill_color\"},\"left\":{\"field\":\"left\"},\"line_color\":{\"value\":null},\"right\":{\"field\":\"right\"},\"top\":{\"field\":\"top\"}},\"id\":\"e883b0e0-7c45-4145-8446-d79e03d1495a\",\"type\":\"Quad\"},{\"attributes\":{\"plot\":{\"id\":\"518992e1-ac46-405c-b257-ea81b84fe11c\",\"subtype\":\"Figure\",\"type\":\"Plot\"}},\"id\":\"370411c2-6466-46fa-a930-e8989c5c6279\",\"type\":\"PanTool\"},{\"attributes\":{\"bottom\":{\"field\":\"bottom\"},\"fill_alpha\":{\"value\":0.1},\"fill_color\":{\"value\":\"#1f77b4\"},\"left\":{\"field\":\"left\"},\"line_alpha\":{\"value\":0.1},\"line_color\":{\"value\":\"#1f77b4\"},\"right\":{\"field\":\"right\"},\"top\":{\"field\":\"top\"}},\"id\":\"de2e071c-98dc-4fa7-a2a2-bac22d52a981\",\"type\":\"Quad\"},{\"attributes\":{},\"id\":\"28300058-ab94-4193-aa2f-ce58b52cbef0\",\"type\":\"BasicTicker\"}],\"root_ids\":[\"518992e1-ac46-405c-b257-ea81b84fe11c\"]},\"title\":\"Bokeh Application\",\"version\":\"0.12.0\"}};\n",
       "            var render_items = [{\"docid\":\"98234667-2526-44fc-86d5-c3a0f0e4f24c\",\"elementid\":\"c8610451-cf92-4bb5-b3ec-f4b9c87d12eb\",\"modelid\":\"518992e1-ac46-405c-b257-ea81b84fe11c\",\"notebook_comms_target\":\"d82e4d76-1397-4277-bcce-e46a61e6d183\"}];\n",
       "            \n",
       "            Bokeh.embed.embed_items(docs_json, render_items);\n",
       "        });\n",
       "      },\n",
       "      function(Bokeh) {\n",
       "      }\n",
       "    ];\n",
       "  \n",
       "    function run_inline_js() {\n",
       "      for (var i = 0; i < inline_js.length; i++) {\n",
       "        inline_js[i](window.Bokeh);\n",
       "      }\n",
       "    }\n",
       "  \n",
       "    if (window._bokeh_is_loading === 0) {\n",
       "      console.log(\"Bokeh: BokehJS loaded, going straight to plotting\");\n",
       "      run_inline_js();\n",
       "    } else {\n",
       "      load_libs(js_urls, function() {\n",
       "        console.log(\"Bokeh: BokehJS plotting callback run at\", now());\n",
       "        run_inline_js();\n",
       "      });\n",
       "    }\n",
       "  }(this));\n",
       "</script>"
      ]
     },
     "metadata": {},
     "output_type": "display_data"
    },
    {
     "data": {
      "text/html": [
       "<p><code>&lt;Bokeh Notebook handle for <strong>In[52]</strong>&gt;</code></p>"
      ],
      "text/plain": [
       "<bokeh.io._CommsHandle at 0x7f46f0d6e0d0>"
      ]
     },
     "execution_count": 52,
     "metadata": {},
     "output_type": "execute_result"
    }
   ],
   "source": [
    "plt_obj = dm.superset_yes_no([dm.di_4_911, dm.di_39_1014], \n",
    "                             [dm.di_4_1442, dm.di_7_1760, dm.di_10_2206, \n",
    "                              dm.di_64_1575, dm.di_11_765],                              \n",
    "                             min_match=0.001)\n",
    "plt = plt_obj.do_plot()\n",
    "am_11 = plt_obj.plot_context.yes_allele_mask\n",
    "show(plt)"
   ]
  },
  {
   "cell_type": "code",
   "execution_count": 53,
   "metadata": {
    "collapsed": false
   },
   "outputs": [
    {
     "data": {
      "text/html": [
       "<table>\n",
       "<thead><tr><th style=\"text-align:center\">index</th><th style=\"text-align:center\">first</th><th style=\"text-align:center\">length</th><th style=\"text-align:center\">snps</th><th style=\"text-align:center\" colspan=2>alleles</th><th style=\"text-align:center\" colspan=2>matches</th><th style=\"text-align:center\" colspan=2>afr</th><th style=\"text-align:center\" colspan=2>afx</th><th style=\"text-align:center\" colspan=2>amr</th><th style=\"text-align:center\" colspan=2>eas</th><th style=\"text-align:center\" colspan=2>eur</th><th style=\"text-align:center\" colspan=2>sas</th><th style=\"text-align:center\" colspan=2>sax</th></tr></thead>\n",
       "<tr class=\"even\"><td style=\"text-align: right;\">353462</td><td style=\"text-align: right;\">135,915,358</td><td style=\"text-align: right;\">79,721</td><td style=\"text-align: right;\">4</td><td style=\"text-align: right;\">1699</td><td style=\"text-align: right;\">0.00</td><td style=\"text-align: right;\">4</td><td style=\"text-align: right;\">1.00</td><td style=\"text-align: right;\">0</td><td style=\"text-align: right;\">0.00</td><td style=\"text-align: right;\">0</td><td style=\"text-align: right;\">0.00</td><td style=\"text-align: right;\">1</td><td style=\"text-align: right;\">1.79</td><td style=\"text-align: right;\">0</td><td style=\"text-align: right;\">0.00</td><td style=\"text-align: right;\">0</td><td style=\"text-align: right;\">0.00</td><td style=\"text-align: right;\">1</td><td style=\"text-align: right;\">2.83</td><td style=\"text-align: right;\">2</td><td style=\"text-align: right;\">2.75</td></tr>\n",
       "<tr><td style=\"text-align: right;\">353283</td><td style=\"text-align: right;\">135,771,974</td><td style=\"text-align: right;\">368,330</td><td style=\"text-align: right;\">6</td><td style=\"text-align: right;\">1503</td><td style=\"text-align: right;\">0.00</td><td style=\"text-align: right;\">4</td><td style=\"text-align: right;\">1.00</td><td style=\"text-align: right;\">0</td><td style=\"text-align: right;\">0.00</td><td style=\"text-align: right;\">0</td><td style=\"text-align: right;\">0.00</td><td style=\"text-align: right;\">1</td><td style=\"text-align: right;\">1.79</td><td style=\"text-align: right;\">0</td><td style=\"text-align: right;\">0.00</td><td style=\"text-align: right;\">0</td><td style=\"text-align: right;\">0.00</td><td style=\"text-align: right;\">1</td><td style=\"text-align: right;\">2.83</td><td style=\"text-align: right;\">2</td><td style=\"text-align: right;\">2.75</td></tr>\n",
       "<tr class=\"even\"><td style=\"text-align: right;\">353797</td><td style=\"text-align: right;\">136,398,174</td><td style=\"text-align: right;\">75,924</td><td style=\"text-align: right;\">26</td><td style=\"text-align: right;\">1414</td><td style=\"text-align: right;\">0.00</td><td style=\"text-align: right;\">4</td><td style=\"text-align: right;\">1.00</td><td style=\"text-align: right;\">0</td><td style=\"text-align: right;\">0.00</td><td style=\"text-align: right;\">0</td><td style=\"text-align: right;\">0.00</td><td style=\"text-align: right;\">1</td><td style=\"text-align: right;\">1.79</td><td style=\"text-align: right;\">0</td><td style=\"text-align: right;\">0.00</td><td style=\"text-align: right;\">0</td><td style=\"text-align: right;\">0.00</td><td style=\"text-align: right;\">1</td><td style=\"text-align: right;\">2.83</td><td style=\"text-align: right;\">2</td><td style=\"text-align: right;\">2.75</td></tr>\n",
       "<tr><td style=\"text-align: right;\">353906</td><td style=\"text-align: right;\">136,496,493</td><td style=\"text-align: right;\">57,432</td><td style=\"text-align: right;\">9</td><td style=\"text-align: right;\">1170</td><td style=\"text-align: right;\">0.00</td><td style=\"text-align: right;\">4</td><td style=\"text-align: right;\">1.00</td><td style=\"text-align: right;\">0</td><td style=\"text-align: right;\">0.00</td><td style=\"text-align: right;\">0</td><td style=\"text-align: right;\">0.00</td><td style=\"text-align: right;\">1</td><td style=\"text-align: right;\">1.79</td><td style=\"text-align: right;\">0</td><td style=\"text-align: right;\">0.00</td><td style=\"text-align: right;\">0</td><td style=\"text-align: right;\">0.00</td><td style=\"text-align: right;\">1</td><td style=\"text-align: right;\">2.83</td><td style=\"text-align: right;\">2</td><td style=\"text-align: right;\">2.75</td></tr>\n",
       "<tr class=\"even\"><td style=\"text-align: right;\">353907</td><td style=\"text-align: right;\">136,496,805</td><td style=\"text-align: right;\">55,824</td><td style=\"text-align: right;\">9</td><td style=\"text-align: right;\">1023</td><td style=\"text-align: right;\">0.00</td><td style=\"text-align: right;\">4</td><td style=\"text-align: right;\">1.00</td><td style=\"text-align: right;\">0</td><td style=\"text-align: right;\">0.00</td><td style=\"text-align: right;\">0</td><td style=\"text-align: right;\">0.00</td><td style=\"text-align: right;\">1</td><td style=\"text-align: right;\">1.79</td><td style=\"text-align: right;\">0</td><td style=\"text-align: right;\">0.00</td><td style=\"text-align: right;\">0</td><td style=\"text-align: right;\">0.00</td><td style=\"text-align: right;\">1</td><td style=\"text-align: right;\">2.83</td><td style=\"text-align: right;\">2</td><td style=\"text-align: right;\">2.75</td></tr>\n",
       "<tr><td style=\"text-align: right;\">353984</td><td style=\"text-align: right;\">136,556,805</td><td style=\"text-align: right;\">190,280</td><td style=\"text-align: right;\">39</td><td style=\"text-align: right;\">1014</td><td style=\"text-align: right;\">0.00</td><td style=\"text-align: right;\">4</td><td style=\"text-align: right;\">1.00</td><td style=\"text-align: right;\">0</td><td style=\"text-align: right;\">0.00</td><td style=\"text-align: right;\">0</td><td style=\"text-align: right;\">0.00</td><td style=\"text-align: right;\">1</td><td style=\"text-align: right;\">1.79</td><td style=\"text-align: right;\">0</td><td style=\"text-align: right;\">0.00</td><td style=\"text-align: right;\">0</td><td style=\"text-align: right;\">0.00</td><td style=\"text-align: right;\">1</td><td style=\"text-align: right;\">2.83</td><td style=\"text-align: right;\">2</td><td style=\"text-align: right;\">2.75</td></tr>\n",
       "<tr class=\"even\"><td style=\"text-align: right;\">353935</td><td style=\"text-align: right;\">136,511,874</td><td style=\"text-align: right;\">21,321</td><td style=\"text-align: right;\">5</td><td style=\"text-align: right;\">976</td><td style=\"text-align: right;\">0.00</td><td style=\"text-align: right;\">4</td><td style=\"text-align: right;\">1.00</td><td style=\"text-align: right;\">0</td><td style=\"text-align: right;\">0.00</td><td style=\"text-align: right;\">0</td><td style=\"text-align: right;\">0.00</td><td style=\"text-align: right;\">1</td><td style=\"text-align: right;\">1.79</td><td style=\"text-align: right;\">0</td><td style=\"text-align: right;\">0.00</td><td style=\"text-align: right;\">0</td><td style=\"text-align: right;\">0.00</td><td style=\"text-align: right;\">1</td><td style=\"text-align: right;\">2.83</td><td style=\"text-align: right;\">2</td><td style=\"text-align: right;\">2.75</td></tr>\n",
       "<tr><td style=\"text-align: right;\">353604</td><td style=\"text-align: right;\">136,092,061</td><td style=\"text-align: right;\">315,418</td><td style=\"text-align: right;\">4</td><td style=\"text-align: right;\">911</td><td style=\"text-align: right;\">0.00</td><td style=\"text-align: right;\">4</td><td style=\"text-align: right;\">1.00</td><td style=\"text-align: right;\">0</td><td style=\"text-align: right;\">0.00</td><td style=\"text-align: right;\">0</td><td style=\"text-align: right;\">0.00</td><td style=\"text-align: right;\">1</td><td style=\"text-align: right;\">1.79</td><td style=\"text-align: right;\">0</td><td style=\"text-align: right;\">0.00</td><td style=\"text-align: right;\">0</td><td style=\"text-align: right;\">0.00</td><td style=\"text-align: right;\">1</td><td style=\"text-align: right;\">2.83</td><td style=\"text-align: right;\">2</td><td style=\"text-align: right;\">2.75</td></tr>\n",
       "<tr class=\"even\"><td style=\"text-align: right;\">353938</td><td style=\"text-align: right;\">136,514,709</td><td style=\"text-align: right;\">28,438</td><td style=\"text-align: right;\">6</td><td style=\"text-align: right;\">820</td><td style=\"text-align: right;\">0.00</td><td style=\"text-align: right;\">4</td><td style=\"text-align: right;\">1.00</td><td style=\"text-align: right;\">0</td><td style=\"text-align: right;\">0.00</td><td style=\"text-align: right;\">0</td><td style=\"text-align: right;\">0.00</td><td style=\"text-align: right;\">1</td><td style=\"text-align: right;\">1.79</td><td style=\"text-align: right;\">0</td><td style=\"text-align: right;\">0.00</td><td style=\"text-align: right;\">0</td><td style=\"text-align: right;\">0.00</td><td style=\"text-align: right;\">1</td><td style=\"text-align: right;\">2.83</td><td style=\"text-align: right;\">2</td><td style=\"text-align: right;\">2.75</td></tr>\n",
       "</table>"
      ],
      "text/plain": [
       "<IPython.core.display.HTML object>"
      ]
     },
     "execution_count": 53,
     "metadata": {},
     "output_type": "execute_result"
    }
   ],
   "source": [
    "HTML(plt_obj.get_html())"
   ]
  },
  {
   "cell_type": "code",
   "execution_count": 54,
   "metadata": {
    "collapsed": false
   },
   "outputs": [
    {
     "data": {
      "text/plain": [
       "array([3, 0, 0, 0, 0, 0, 0, 0, 0, 0, 0, 0, 0, 0, 0, 0, 0, 0, 0, 0, 0, 0, 0,\n",
       "       0, 0, 0, 0, 0, 0, 0, 0, 0, 0, 0, 0, 0, 0, 0, 0, 0, 0, 0, 0, 0, 0, 0,\n",
       "       0, 0, 0, 0, 0, 0, 0, 0, 0, 0, 0, 0, 0, 0, 0, 0, 0, 0])"
      ]
     },
     "execution_count": 54,
     "metadata": {},
     "output_type": "execute_result"
    }
   ],
   "source": [
    "sa_64_1575.alleles_per_snp(am_11)"
   ]
  },
  {
   "cell_type": "code",
   "execution_count": 55,
   "metadata": {
    "collapsed": false
   },
   "outputs": [
    {
     "data": {
      "text/html": [
       "\n",
       "\n",
       "    <div class=\"bk-root\">\n",
       "        <div class=\"plotdiv\" id=\"7cb54f4e-17a8-4d3c-b3f0-4fe83fddfc21\"></div>\n",
       "    </div>\n",
       "<script type=\"text/javascript\">\n",
       "  \n",
       "  (function(global) {\n",
       "    function now() {\n",
       "      return new Date();\n",
       "    }\n",
       "  \n",
       "    if (typeof (window._bokeh_onload_callbacks) === \"undefined\") {\n",
       "      window._bokeh_onload_callbacks = [];\n",
       "    }\n",
       "  \n",
       "    function run_callbacks() {\n",
       "      window._bokeh_onload_callbacks.forEach(function(callback) { callback() });\n",
       "      delete window._bokeh_onload_callbacks\n",
       "      console.info(\"Bokeh: all callbacks have finished\");\n",
       "    }\n",
       "  \n",
       "    function load_libs(js_urls, callback) {\n",
       "      window._bokeh_onload_callbacks.push(callback);\n",
       "      if (window._bokeh_is_loading > 0) {\n",
       "        console.log(\"Bokeh: BokehJS is being loaded, scheduling callback at\", now());\n",
       "        return null;\n",
       "      }\n",
       "      if (js_urls == null || js_urls.length === 0) {\n",
       "        run_callbacks();\n",
       "        return null;\n",
       "      }\n",
       "      console.log(\"Bokeh: BokehJS not loaded, scheduling load and callback at\", now());\n",
       "      window._bokeh_is_loading = js_urls.length;\n",
       "      for (var i = 0; i < js_urls.length; i++) {\n",
       "        var url = js_urls[i];\n",
       "        var s = document.createElement('script');\n",
       "        s.src = url;\n",
       "        s.async = false;\n",
       "        s.onreadystatechange = s.onload = function() {\n",
       "          window._bokeh_is_loading--;\n",
       "          if (window._bokeh_is_loading === 0) {\n",
       "            console.log(\"Bokeh: all BokehJS libraries loaded\");\n",
       "            run_callbacks()\n",
       "          }\n",
       "        };\n",
       "        s.onerror = function() {\n",
       "          console.warn(\"failed to load library \" + url);\n",
       "        };\n",
       "        console.log(\"Bokeh: injecting script tag for BokehJS library: \", url);\n",
       "        document.getElementsByTagName(\"head\")[0].appendChild(s);\n",
       "      }\n",
       "    };var element = document.getElementById(\"7cb54f4e-17a8-4d3c-b3f0-4fe83fddfc21\");\n",
       "    if (element == null) {\n",
       "      console.log(\"Bokeh: ERROR: autoload.js configured with elementid '7cb54f4e-17a8-4d3c-b3f0-4fe83fddfc21' but no matching script tag was found. \")\n",
       "      return false;\n",
       "    }\n",
       "  \n",
       "    var js_urls = [];\n",
       "  \n",
       "    var inline_js = [\n",
       "      function(Bokeh) {\n",
       "        Bokeh.$(function() {\n",
       "            var docs_json = {\"88b638ff-5e19-4634-99c3-0b4cbc49e597\":{\"roots\":{\"references\":[{\"attributes\":{},\"id\":\"44936fe2-2b1c-44e1-83d8-974e26b61699\",\"type\":\"ToolEvents\"},{\"attributes\":{\"callback\":null,\"column_names\":[\"y\",\"x\",\"vals\"],\"data\":{\"vals\":[\"RAB3GAP1\",\"ZRANB3\",\"R3HDM1\",\"UBXN4\",\"LCT\",\"MCM6\",\"DARS\"],\"x\":[135869057.0,136122878.0,136385961.0,136520911.0,136570082.5,136615621.5,136703738.0],\"y\":[560.0,560.0,560.0,560.0,560.0,560.0,560.0]}},\"id\":\"9968e0ec-e056-4979-9f6e-b831be65a7e3\",\"type\":\"ColumnDataSource\"},{\"attributes\":{\"data_source\":{\"id\":\"1aa70ebb-8568-4547-92b5-00e83e1d9d72\",\"type\":\"ColumnDataSource\"},\"glyph\":{\"id\":\"dfb626fa-830e-4733-bf6f-538dd7f217d1\",\"type\":\"MultiLine\"},\"hover_glyph\":null,\"nonselection_glyph\":{\"id\":\"be6f8e21-b5e8-489d-aadc-45903325a6c1\",\"type\":\"MultiLine\"},\"selection_glyph\":null},\"id\":\"317746db-c1b5-4861-ae39-c9220c09efc9\",\"type\":\"GlyphRenderer\"},{\"attributes\":{\"bottom\":{\"field\":\"bottom\"},\"fill_color\":{\"field\":\"fill_color\"},\"left\":{\"field\":\"left\"},\"line_color\":{\"value\":null},\"right\":{\"field\":\"right\"},\"top\":{\"field\":\"top\"}},\"id\":\"dc19df52-861c-4fec-803d-aceb1a7e4988\",\"type\":\"Quad\"},{\"attributes\":{\"line_color\":{\"field\":\"line_color\"},\"xs\":{\"field\":\"xs\"},\"ys\":{\"field\":\"ys\"}},\"id\":\"dfb626fa-830e-4733-bf6f-538dd7f217d1\",\"type\":\"MultiLine\"},{\"attributes\":{\"plot\":{\"id\":\"10c9d67c-5c2c-4adc-8a85-dc48455ac8bf\",\"subtype\":\"Figure\",\"type\":\"Plot\"}},\"id\":\"c42be13f-5a30-4c89-b4b7-82cc016206b3\",\"type\":\"SaveTool\"},{\"attributes\":{\"plot\":{\"id\":\"10c9d67c-5c2c-4adc-8a85-dc48455ac8bf\",\"subtype\":\"Figure\",\"type\":\"Plot\"}},\"id\":\"f3e8f2d9-1f37-443b-8700-e9a1817a5f22\",\"type\":\"HelpTool\"},{\"attributes\":{\"callback\":null,\"end\":600},\"id\":\"10d4fde4-0e2d-42d8-bdee-a3fbfcfa2c97\",\"type\":\"Range1d\"},{\"attributes\":{\"plot\":{\"id\":\"10c9d67c-5c2c-4adc-8a85-dc48455ac8bf\",\"subtype\":\"Figure\",\"type\":\"Plot\"},\"ticker\":{\"id\":\"3dce2f8f-4b76-4c17-bdbb-85f0ca87b3fc\",\"type\":\"BasicTicker\"}},\"id\":\"7da4b31a-0118-4681-8e9f-78e64dbeb8b1\",\"type\":\"Grid\"},{\"attributes\":{\"bottom\":{\"field\":\"bottom\"},\"fill_alpha\":{\"value\":0.1},\"fill_color\":{\"value\":\"#1f77b4\"},\"left\":{\"field\":\"left\"},\"line_alpha\":{\"value\":0.1},\"line_color\":{\"value\":\"#1f77b4\"},\"right\":{\"field\":\"right\"},\"top\":{\"field\":\"top\"}},\"id\":\"2e741132-421c-41db-8227-f608cf03889a\",\"type\":\"Quad\"},{\"attributes\":{\"bottom_units\":\"screen\",\"fill_alpha\":{\"value\":0.5},\"fill_color\":{\"value\":\"lightgrey\"},\"left_units\":\"screen\",\"level\":\"overlay\",\"line_alpha\":{\"value\":1.0},\"line_color\":{\"value\":\"black\"},\"line_dash\":[4,4],\"line_width\":{\"value\":2},\"plot\":null,\"render_mode\":\"css\",\"right_units\":\"screen\",\"top_units\":\"screen\"},\"id\":\"6e2b0b21-0564-43cd-a33c-f49e15f8a8de\",\"type\":\"BoxAnnotation\"},{\"attributes\":{\"bottom\":{\"field\":\"bottom\"},\"fill_alpha\":{\"value\":0.1},\"fill_color\":{\"value\":\"#1f77b4\"},\"left\":{\"field\":\"left\"},\"line_alpha\":{\"value\":0.1},\"line_color\":{\"value\":\"#1f77b4\"},\"right\":{\"field\":\"right\"},\"top\":{\"field\":\"top\"}},\"id\":\"62ceaa14-da58-4bc2-be13-ce75d24bcee7\",\"type\":\"Quad\"},{\"attributes\":{\"data_source\":{\"id\":\"9ed8a28e-5542-4036-a653-93377b9d9d32\",\"type\":\"ColumnDataSource\"},\"glyph\":{\"id\":\"dc19df52-861c-4fec-803d-aceb1a7e4988\",\"type\":\"Quad\"},\"hover_glyph\":null,\"nonselection_glyph\":{\"id\":\"2e741132-421c-41db-8227-f608cf03889a\",\"type\":\"Quad\"},\"selection_glyph\":null},\"id\":\"2e543dd8-2e12-41b8-a32c-03a0a63f326e\",\"type\":\"GlyphRenderer\"},{\"attributes\":{\"callback\":null,\"column_names\":[\"y\",\"x\",\"vals\"],\"data\":{\"vals\":[\"6_1503\",\"4_1699\",\"4_911\",\"26_1414\",\"9_1023\",\"5_976\",\"6_820\",\"17_137\",\"8_328\"],\"x\":[135771974,135915358,136092061,136398174,136496805,136511874,136514709,136596162,136605402],\"y\":[400.0,501.0,295.0,399.0,396.0,296.0,195.0,79.0,187.0]}},\"id\":\"d02c565f-a71e-4b2d-88d1-8a8f865810a2\",\"type\":\"ColumnDataSource\"},{\"attributes\":{\"callback\":null,\"end\":136786630,\"start\":135757320},\"id\":\"e796379f-eb16-4e54-ab02-348a22d9a7aa\",\"type\":\"Range1d\"},{\"attributes\":{\"plot\":{\"id\":\"10c9d67c-5c2c-4adc-8a85-dc48455ac8bf\",\"subtype\":\"Figure\",\"type\":\"Plot\"}},\"id\":\"a7050d06-5f84-4d7e-9ce8-5a2d229cdfce\",\"type\":\"ResetTool\"},{\"attributes\":{\"active_drag\":\"auto\",\"active_scroll\":\"auto\",\"active_tap\":\"auto\",\"tools\":[{\"id\":\"e7abf8ef-8f82-4232-9f0e-ab05ff578b1f\",\"type\":\"PanTool\"},{\"id\":\"f3fa8232-2de2-4cf1-a617-7e31971e0046\",\"type\":\"WheelZoomTool\"},{\"id\":\"1bff4736-5b7a-47d5-9cae-39955c055cb4\",\"type\":\"BoxZoomTool\"},{\"id\":\"c42be13f-5a30-4c89-b4b7-82cc016206b3\",\"type\":\"SaveTool\"},{\"id\":\"a7050d06-5f84-4d7e-9ce8-5a2d229cdfce\",\"type\":\"ResetTool\"},{\"id\":\"f3e8f2d9-1f37-443b-8700-e9a1817a5f22\",\"type\":\"HelpTool\"}]},\"id\":\"005c82f7-5344-4392-924d-53b1415267bf\",\"type\":\"Toolbar\"},{\"attributes\":{\"formatter\":{\"id\":\"2033b2e4-c1c2-407b-a7e8-64fac0e09a5c\",\"type\":\"BasicTickFormatter\"},\"plot\":{\"id\":\"10c9d67c-5c2c-4adc-8a85-dc48455ac8bf\",\"subtype\":\"Figure\",\"type\":\"Plot\"},\"ticker\":{\"id\":\"71e1db6b-2964-4975-b6ba-6da2a3174b46\",\"type\":\"BasicTicker\"},\"visible\":null},\"id\":\"7f67b851-caee-483e-94ed-58e7e5d12938\",\"type\":\"LinearAxis\"},{\"attributes\":{\"bottom\":{\"field\":\"bottom\"},\"fill_color\":{\"value\":\"white\"},\"left\":{\"field\":\"left\"},\"right\":{\"field\":\"right\"},\"top\":{\"field\":\"top\"}},\"id\":\"5da1176d-3d39-4592-8e3d-f867a6dc1453\",\"type\":\"Quad\"},{\"attributes\":{\"overlay\":{\"id\":\"6e2b0b21-0564-43cd-a33c-f49e15f8a8de\",\"type\":\"BoxAnnotation\"},\"plot\":{\"id\":\"10c9d67c-5c2c-4adc-8a85-dc48455ac8bf\",\"subtype\":\"Figure\",\"type\":\"Plot\"}},\"id\":\"1bff4736-5b7a-47d5-9cae-39955c055cb4\",\"type\":\"BoxZoomTool\"},{\"attributes\":{\"dimension\":1,\"plot\":{\"id\":\"10c9d67c-5c2c-4adc-8a85-dc48455ac8bf\",\"subtype\":\"Figure\",\"type\":\"Plot\"},\"ticker\":{\"id\":\"71e1db6b-2964-4975-b6ba-6da2a3174b46\",\"type\":\"BasicTicker\"}},\"id\":\"44e4a1a8-b6b1-4643-9faa-f1c283db89b3\",\"type\":\"Grid\"},{\"attributes\":{\"callback\":null,\"column_names\":[\"right\",\"bottom\",\"top\",\"left\"],\"data\":{\"bottom\":[545,545,545,545,545,545,545],\"left\":[135809835,135957574,136289083,136499189,136545415,136597196,136664254],\"right\":[135928279,136288182,136482839,136542633,136594750,136634047,136743222],\"top\":[575,575,575,575,575,575,575]}},\"id\":\"25b6fd7f-2972-4b93-af8d-02283809bb75\",\"type\":\"ColumnDataSource\"},{\"attributes\":{\"line_alpha\":{\"value\":0.1},\"line_color\":{\"value\":\"#1f77b4\"},\"xs\":{\"field\":\"xs\"},\"ys\":{\"field\":\"ys\"}},\"id\":\"be6f8e21-b5e8-489d-aadc-45903325a6c1\",\"type\":\"MultiLine\"},{\"attributes\":{},\"id\":\"71e1db6b-2964-4975-b6ba-6da2a3174b46\",\"type\":\"BasicTicker\"},{\"attributes\":{\"plot\":{\"id\":\"10c9d67c-5c2c-4adc-8a85-dc48455ac8bf\",\"subtype\":\"Figure\",\"type\":\"Plot\"}},\"id\":\"f3fa8232-2de2-4cf1-a617-7e31971e0046\",\"type\":\"WheelZoomTool\"},{\"attributes\":{},\"id\":\"3dce2f8f-4b76-4c17-bdbb-85f0ca87b3fc\",\"type\":\"BasicTicker\"},{\"attributes\":{\"data_source\":{\"id\":\"25b6fd7f-2972-4b93-af8d-02283809bb75\",\"type\":\"ColumnDataSource\"},\"glyph\":{\"id\":\"5da1176d-3d39-4592-8e3d-f867a6dc1453\",\"type\":\"Quad\"},\"hover_glyph\":null,\"nonselection_glyph\":{\"id\":\"62ceaa14-da58-4bc2-be13-ce75d24bcee7\",\"type\":\"Quad\"},\"selection_glyph\":null},\"id\":\"e1d78748-59fa-4146-8511-730b239143f2\",\"type\":\"GlyphRenderer\"},{\"attributes\":{},\"id\":\"71f82ed1-4fbc-4fbb-b444-dabeeeeafa95\",\"type\":\"BasicTickFormatter\"},{\"attributes\":{\"callback\":null,\"column_names\":[\"right\",\"bottom\",\"top\",\"left\",\"fill_color\"],\"data\":{\"bottom\":[350,450,250,350,350,250,150,50,150],\"fill_color\":[\"#61c461\",\"#61c461\",\"#00ff00\",\"#61c461\",\"#61c4c4\",\"#808080\",\"#61c4c4\",\"#c4c461\",\"#c46161\"],\"left\":[135771974,135915358,136092061,136398174,136496805,136511874,136514709,136596162,136605402],\"right\":[136140304,135995079,136407479,136474098,136552629,136533195,136543147,136785729,136624686],\"top\":[395,496,290,394,391,291,190,74,182]}},\"id\":\"9ed8a28e-5542-4036-a653-93377b9d9d32\",\"type\":\"ColumnDataSource\"},{\"attributes\":{\"below\":[{\"id\":\"22c40679-77c7-4183-b537-e41c60ac3ef6\",\"type\":\"LinearAxis\"}],\"left\":[{\"id\":\"7f67b851-caee-483e-94ed-58e7e5d12938\",\"type\":\"LinearAxis\"}],\"plot_width\":900,\"renderers\":[{\"id\":\"22c40679-77c7-4183-b537-e41c60ac3ef6\",\"type\":\"LinearAxis\"},{\"id\":\"7da4b31a-0118-4681-8e9f-78e64dbeb8b1\",\"type\":\"Grid\"},{\"id\":\"7f67b851-caee-483e-94ed-58e7e5d12938\",\"type\":\"LinearAxis\"},{\"id\":\"44e4a1a8-b6b1-4643-9faa-f1c283db89b3\",\"type\":\"Grid\"},{\"id\":\"6e2b0b21-0564-43cd-a33c-f49e15f8a8de\",\"type\":\"BoxAnnotation\"},{\"id\":\"2e543dd8-2e12-41b8-a32c-03a0a63f326e\",\"type\":\"GlyphRenderer\"},{\"id\":\"317746db-c1b5-4861-ae39-c9220c09efc9\",\"type\":\"GlyphRenderer\"},{\"id\":\"423c1704-1d15-43c4-906d-5d342a5ef6b6\",\"type\":\"LabelSet\"},{\"id\":\"e1d78748-59fa-4146-8511-730b239143f2\",\"type\":\"GlyphRenderer\"},{\"id\":\"33a1a6c9-cb1a-4a06-bba2-d0a115df648b\",\"type\":\"LabelSet\"}],\"title\":{\"id\":\"82eeba6a-98f2-45b2-b508-66617459e82c\",\"type\":\"Title\"},\"tool_events\":{\"id\":\"44936fe2-2b1c-44e1-83d8-974e26b61699\",\"type\":\"ToolEvents\"},\"toolbar\":{\"id\":\"005c82f7-5344-4392-924d-53b1415267bf\",\"type\":\"Toolbar\"},\"toolbar_location\":null,\"x_range\":{\"id\":\"e796379f-eb16-4e54-ab02-348a22d9a7aa\",\"type\":\"Range1d\"},\"y_range\":{\"id\":\"10d4fde4-0e2d-42d8-bdee-a3fbfcfa2c97\",\"type\":\"Range1d\"}},\"id\":\"10c9d67c-5c2c-4adc-8a85-dc48455ac8bf\",\"subtype\":\"Figure\",\"type\":\"Plot\"},{\"attributes\":{\"level\":\"glyph\",\"plot\":{\"id\":\"10c9d67c-5c2c-4adc-8a85-dc48455ac8bf\",\"subtype\":\"Figure\",\"type\":\"Plot\"},\"source\":{\"id\":\"d02c565f-a71e-4b2d-88d1-8a8f865810a2\",\"type\":\"ColumnDataSource\"},\"text\":{\"field\":\"vals\"},\"text_font_size\":{\"value\":\"9pt\"},\"text_font_style\":\"bold\",\"x\":{\"field\":\"x\"},\"y\":{\"field\":\"y\"}},\"id\":\"423c1704-1d15-43c4-906d-5d342a5ef6b6\",\"type\":\"LabelSet\"},{\"attributes\":{\"callback\":null,\"column_names\":[\"xs\",\"ys\",\"line_color\"],\"data\":{\"line_color\":[\"black\",\"black\",\"black\",\"black\",\"black\",\"black\",\"black\",\"black\",\"black\",\"black\",\"black\",\"black\",\"black\",\"black\",\"black\",\"black\",\"black\",\"black\",\"black\",\"black\",\"black\",\"black\",\"black\",\"black\",\"black\",\"black\",\"black\",\"black\",\"black\",\"black\",\"black\",\"black\",\"black\",\"black\",\"black\",\"black\",\"black\",\"black\",\"black\",\"black\",\"black\",\"black\",\"black\",\"black\",\"black\",\"black\",\"black\",\"black\",\"black\",\"black\",\"black\",\"black\",\"black\",\"black\",\"black\",\"black\",\"black\",\"black\",\"black\",\"black\",\"black\",\"black\",\"black\",\"black\",\"black\",\"black\",\"black\",\"black\",\"black\",\"black\",\"black\",\"black\",\"black\",\"black\",\"black\",\"black\",\"black\",\"black\",\"black\",\"black\",\"black\",\"black\",\"black\",\"black\",\"black\"],\"xs\":[[135771974,135771974],[135859371,135859371],[135877562,135877562],[136022798,136022798],[136058820,136058820],[136140304,136140304],[135915358,135915358],[135954405,135954405],[135995073,135995073],[135995079,135995079],[136092061,136092061],[136273578,136273578],[136322676,136322676],[136407479,136407479],[136398174,136398174],[136402117,136402117],[136403749,136403749],[136409073,136409073],[136410299,136410299],[136413359,136413359],[136416855,136416855],[136416941,136416941],[136418348,136418348],[136419961,136419961],[136420690,136420690],[136422171,136422171],[136428460,136428460],[136430866,136430866],[136432103,136432103],[136437507,136437507],[136439090,136439090],[136439517,136439517],[136444123,136444123],[136445526,136445526],[136445869,136445869],[136455600,136455600],[136456642,136456642],[136462441,136462441],[136470714,136470714],[136474098,136474098],[136496805,136496805],[136496910,136496910],[136515859,136515859],[136515924,136515924],[136520186,136520186],[136524766,136524766],[136535364,136535364],[136536113,136536113],[136552629,136552629],[136511874,136511874],[136530248,136530248],[136530556,136530556],[136531252,136531252],[136533195,136533195],[136514709,136514709],[136516308,136516308],[136520100,136520100],[136521595,136521595],[136523045,136523045],[136543147,136543147],[136596162,136596162],[136598316,136598316],[136599520,136599520],[136601167,136601167],[136604113,136604113],[136604610,136604610],[136604699,136604699],[136609671,136609671],[136620957,136620957],[136646667,136646667],[136683320,136683320],[136697769,136697769],[136743172,136743172],[136776381,136776381],[136784743,136784743],[136785727,136785727],[136785729,136785729],[136605402,136605402],[136609320,136609320],[136611400,136611400],[136619744,136619744],[136621858,136621858],[136621941,136621941],[136624382,136624382],[136624686,136624686]],\"ys\":[[350,395],[350,395],[350,395],[350,395],[350,395],[350,395],[450,496],[450,496],[450,496],[450,496],[250,290],[250,290],[250,290],[250,290],[350,394],[350,394],[350,394],[350,394],[350,394],[350,394],[350,394],[350,394],[350,394],[350,394],[350,394],[350,394],[350,394],[350,394],[350,394],[350,394],[350,394],[350,394],[350,394],[350,394],[350,394],[350,394],[350,394],[350,394],[350,394],[350,394],[350,391],[350,391],[350,391],[350,391],[350,391],[350,391],[350,391],[350,391],[350,391],[250,291],[250,291],[250,291],[250,291],[250,291],[150,190],[150,190],[150,190],[150,190],[150,190],[150,190],[50,74],[50,74],[50,74],[50,74],[50,74],[50,74],[50,74],[50,74],[50,74],[50,74],[50,74],[50,74],[50,74],[50,74],[50,74],[50,74],[50,74],[150,182],[150,182],[150,182],[150,182],[150,182],[150,182],[150,182],[150,182]]}},\"id\":\"1aa70ebb-8568-4547-92b5-00e83e1d9d72\",\"type\":\"ColumnDataSource\"},{\"attributes\":{\"plot\":null,\"text\":null},\"id\":\"82eeba6a-98f2-45b2-b508-66617459e82c\",\"type\":\"Title\"},{\"attributes\":{\"level\":\"glyph\",\"plot\":{\"id\":\"10c9d67c-5c2c-4adc-8a85-dc48455ac8bf\",\"subtype\":\"Figure\",\"type\":\"Plot\"},\"source\":{\"id\":\"9968e0ec-e056-4979-9f6e-b831be65a7e3\",\"type\":\"ColumnDataSource\"},\"text\":{\"field\":\"vals\"},\"text_align\":\"center\",\"text_baseline\":\"middle\",\"text_font_size\":{\"value\":\"8pt\"},\"x\":{\"field\":\"x\"},\"y\":{\"field\":\"y\"}},\"id\":\"33a1a6c9-cb1a-4a06-bba2-d0a115df648b\",\"type\":\"LabelSet\"},{\"attributes\":{},\"id\":\"2033b2e4-c1c2-407b-a7e8-64fac0e09a5c\",\"type\":\"BasicTickFormatter\"},{\"attributes\":{\"formatter\":{\"id\":\"71f82ed1-4fbc-4fbb-b444-dabeeeeafa95\",\"type\":\"BasicTickFormatter\"},\"plot\":{\"id\":\"10c9d67c-5c2c-4adc-8a85-dc48455ac8bf\",\"subtype\":\"Figure\",\"type\":\"Plot\"},\"ticker\":{\"id\":\"3dce2f8f-4b76-4c17-bdbb-85f0ca87b3fc\",\"type\":\"BasicTicker\"}},\"id\":\"22c40679-77c7-4183-b537-e41c60ac3ef6\",\"type\":\"LinearAxis\"},{\"attributes\":{\"plot\":{\"id\":\"10c9d67c-5c2c-4adc-8a85-dc48455ac8bf\",\"subtype\":\"Figure\",\"type\":\"Plot\"}},\"id\":\"e7abf8ef-8f82-4232-9f0e-ab05ff578b1f\",\"type\":\"PanTool\"}],\"root_ids\":[\"10c9d67c-5c2c-4adc-8a85-dc48455ac8bf\"]},\"title\":\"Bokeh Application\",\"version\":\"0.12.0\"}};\n",
       "            var render_items = [{\"docid\":\"88b638ff-5e19-4634-99c3-0b4cbc49e597\",\"elementid\":\"7cb54f4e-17a8-4d3c-b3f0-4fe83fddfc21\",\"modelid\":\"10c9d67c-5c2c-4adc-8a85-dc48455ac8bf\",\"notebook_comms_target\":\"52f2b551-5b8d-4323-b65c-6f212edd8035\"}];\n",
       "            \n",
       "            Bokeh.embed.embed_items(docs_json, render_items);\n",
       "        });\n",
       "      },\n",
       "      function(Bokeh) {\n",
       "      }\n",
       "    ];\n",
       "  \n",
       "    function run_inline_js() {\n",
       "      for (var i = 0; i < inline_js.length; i++) {\n",
       "        inline_js[i](window.Bokeh);\n",
       "      }\n",
       "    }\n",
       "  \n",
       "    if (window._bokeh_is_loading === 0) {\n",
       "      console.log(\"Bokeh: BokehJS loaded, going straight to plotting\");\n",
       "      run_inline_js();\n",
       "    } else {\n",
       "      load_libs(js_urls, function() {\n",
       "        console.log(\"Bokeh: BokehJS plotting callback run at\", now());\n",
       "        run_inline_js();\n",
       "      });\n",
       "    }\n",
       "  }(this));\n",
       "</script>"
      ]
     },
     "metadata": {},
     "output_type": "display_data"
    },
    {
     "data": {
      "text/html": [
       "<p><code>&lt;Bokeh Notebook handle for <strong>In[55]</strong>&gt;</code></p>"
      ],
      "text/plain": [
       "<bokeh.io._CommsHandle at 0x7f46f0e75090>"
      ]
     },
     "execution_count": 55,
     "metadata": {},
     "output_type": "execute_result"
    }
   ],
   "source": [
    "plt_obj = dm.superset_yes_no([dm.di_4_911], \n",
    "                             [dm.di_39_1014, dm.di_4_1442, dm.di_7_1760, dm.di_10_2206, \n",
    "                              dm.di_64_1575, dm.di_11_765],                              \n",
    "                             min_match=0.001)\n",
    "plt = plt_obj.do_plot()\n",
    "am_12 = plt_obj.plot_context.yes_allele_mask\n",
    "show(plt)"
   ]
  },
  {
   "cell_type": "code",
   "execution_count": 56,
   "metadata": {
    "collapsed": false
   },
   "outputs": [
    {
     "data": {
      "text/html": [
       "<table>\n",
       "<thead><tr><th style=\"text-align:center\">index</th><th style=\"text-align:center\">first</th><th style=\"text-align:center\">length</th><th style=\"text-align:center\">snps</th><th style=\"text-align:center\" colspan=2>alleles</th><th style=\"text-align:center\" colspan=2>matches</th><th style=\"text-align:center\" colspan=2>afr</th><th style=\"text-align:center\" colspan=2>afx</th><th style=\"text-align:center\" colspan=2>amr</th><th style=\"text-align:center\" colspan=2>eas</th><th style=\"text-align:center\" colspan=2>eur</th><th style=\"text-align:center\" colspan=2>sas</th><th style=\"text-align:center\" colspan=2>sax</th></tr></thead>\n",
       "<tr class=\"even\"><td style=\"text-align: right;\">353462</td><td style=\"text-align: right;\">135,915,358</td><td style=\"text-align: right;\">79,721</td><td style=\"text-align: right;\">4</td><td style=\"text-align: right;\">1699</td><td style=\"text-align: right;\">0.00</td><td style=\"text-align: right;\">1</td><td style=\"text-align: right;\">1.00</td><td style=\"text-align: right;\">0</td><td style=\"text-align: right;\">0.00</td><td style=\"text-align: right;\">0</td><td style=\"text-align: right;\">0.00</td><td style=\"text-align: right;\">0</td><td style=\"text-align: right;\">0.00</td><td style=\"text-align: right;\">0</td><td style=\"text-align: right;\">0.00</td><td style=\"text-align: right;\">1</td><td style=\"text-align: right;\">41.00</td><td style=\"text-align: right;\">0</td><td style=\"text-align: right;\">0.00</td><td style=\"text-align: right;\">0</td><td style=\"text-align: right;\">0.00</td></tr>\n",
       "<tr><td style=\"text-align: right;\">353283</td><td style=\"text-align: right;\">135,771,974</td><td style=\"text-align: right;\">368,330</td><td style=\"text-align: right;\">6</td><td style=\"text-align: right;\">1503</td><td style=\"text-align: right;\">0.00</td><td style=\"text-align: right;\">1</td><td style=\"text-align: right;\">1.00</td><td style=\"text-align: right;\">0</td><td style=\"text-align: right;\">0.00</td><td style=\"text-align: right;\">0</td><td style=\"text-align: right;\">0.00</td><td style=\"text-align: right;\">0</td><td style=\"text-align: right;\">0.00</td><td style=\"text-align: right;\">0</td><td style=\"text-align: right;\">0.00</td><td style=\"text-align: right;\">1</td><td style=\"text-align: right;\">41.00</td><td style=\"text-align: right;\">0</td><td style=\"text-align: right;\">0.00</td><td style=\"text-align: right;\">0</td><td style=\"text-align: right;\">0.00</td></tr>\n",
       "<tr class=\"even\"><td style=\"text-align: right;\">353797</td><td style=\"text-align: right;\">136,398,174</td><td style=\"text-align: right;\">75,924</td><td style=\"text-align: right;\">26</td><td style=\"text-align: right;\">1414</td><td style=\"text-align: right;\">0.00</td><td style=\"text-align: right;\">1</td><td style=\"text-align: right;\">1.00</td><td style=\"text-align: right;\">0</td><td style=\"text-align: right;\">0.00</td><td style=\"text-align: right;\">0</td><td style=\"text-align: right;\">0.00</td><td style=\"text-align: right;\">0</td><td style=\"text-align: right;\">0.00</td><td style=\"text-align: right;\">0</td><td style=\"text-align: right;\">0.00</td><td style=\"text-align: right;\">1</td><td style=\"text-align: right;\">41.00</td><td style=\"text-align: right;\">0</td><td style=\"text-align: right;\">0.00</td><td style=\"text-align: right;\">0</td><td style=\"text-align: right;\">0.00</td></tr>\n",
       "<tr><td style=\"text-align: right;\">353907</td><td style=\"text-align: right;\">136,496,805</td><td style=\"text-align: right;\">55,824</td><td style=\"text-align: right;\">9</td><td style=\"text-align: right;\">1023</td><td style=\"text-align: right;\">0.00</td><td style=\"text-align: right;\">1</td><td style=\"text-align: right;\">1.00</td><td style=\"text-align: right;\">0</td><td style=\"text-align: right;\">0.00</td><td style=\"text-align: right;\">0</td><td style=\"text-align: right;\">0.00</td><td style=\"text-align: right;\">0</td><td style=\"text-align: right;\">0.00</td><td style=\"text-align: right;\">0</td><td style=\"text-align: right;\">0.00</td><td style=\"text-align: right;\">1</td><td style=\"text-align: right;\">41.00</td><td style=\"text-align: right;\">0</td><td style=\"text-align: right;\">0.00</td><td style=\"text-align: right;\">0</td><td style=\"text-align: right;\">0.00</td></tr>\n",
       "<tr class=\"even\"><td style=\"text-align: right;\">353935</td><td style=\"text-align: right;\">136,511,874</td><td style=\"text-align: right;\">21,321</td><td style=\"text-align: right;\">5</td><td style=\"text-align: right;\">976</td><td style=\"text-align: right;\">0.00</td><td style=\"text-align: right;\">1</td><td style=\"text-align: right;\">1.00</td><td style=\"text-align: right;\">0</td><td style=\"text-align: right;\">0.00</td><td style=\"text-align: right;\">0</td><td style=\"text-align: right;\">0.00</td><td style=\"text-align: right;\">0</td><td style=\"text-align: right;\">0.00</td><td style=\"text-align: right;\">0</td><td style=\"text-align: right;\">0.00</td><td style=\"text-align: right;\">1</td><td style=\"text-align: right;\">41.00</td><td style=\"text-align: right;\">0</td><td style=\"text-align: right;\">0.00</td><td style=\"text-align: right;\">0</td><td style=\"text-align: right;\">0.00</td></tr>\n",
       "<tr><td style=\"text-align: right;\">353604</td><td style=\"text-align: right;\">136,092,061</td><td style=\"text-align: right;\">315,418</td><td style=\"text-align: right;\">4</td><td style=\"text-align: right;\">911</td><td style=\"text-align: right;\">0.00</td><td style=\"text-align: right;\">1</td><td style=\"text-align: right;\">1.00</td><td style=\"text-align: right;\">0</td><td style=\"text-align: right;\">0.00</td><td style=\"text-align: right;\">0</td><td style=\"text-align: right;\">0.00</td><td style=\"text-align: right;\">0</td><td style=\"text-align: right;\">0.00</td><td style=\"text-align: right;\">0</td><td style=\"text-align: right;\">0.00</td><td style=\"text-align: right;\">1</td><td style=\"text-align: right;\">41.00</td><td style=\"text-align: right;\">0</td><td style=\"text-align: right;\">0.00</td><td style=\"text-align: right;\">0</td><td style=\"text-align: right;\">0.00</td></tr>\n",
       "<tr class=\"even\"><td style=\"text-align: right;\">353938</td><td style=\"text-align: right;\">136,514,709</td><td style=\"text-align: right;\">28,438</td><td style=\"text-align: right;\">6</td><td style=\"text-align: right;\">820</td><td style=\"text-align: right;\">0.00</td><td style=\"text-align: right;\">1</td><td style=\"text-align: right;\">1.00</td><td style=\"text-align: right;\">0</td><td style=\"text-align: right;\">0.00</td><td style=\"text-align: right;\">0</td><td style=\"text-align: right;\">0.00</td><td style=\"text-align: right;\">0</td><td style=\"text-align: right;\">0.00</td><td style=\"text-align: right;\">0</td><td style=\"text-align: right;\">0.00</td><td style=\"text-align: right;\">1</td><td style=\"text-align: right;\">41.00</td><td style=\"text-align: right;\">0</td><td style=\"text-align: right;\">0.00</td><td style=\"text-align: right;\">0</td><td style=\"text-align: right;\">0.00</td></tr>\n",
       "<tr><td style=\"text-align: right;\">354064</td><td style=\"text-align: right;\">136,605,402</td><td style=\"text-align: right;\">19,284</td><td style=\"text-align: right;\">8</td><td style=\"text-align: right;\">328</td><td style=\"text-align: right;\">0.00</td><td style=\"text-align: right;\">1</td><td style=\"text-align: right;\">1.00</td><td style=\"text-align: right;\">0</td><td style=\"text-align: right;\">0.00</td><td style=\"text-align: right;\">0</td><td style=\"text-align: right;\">0.00</td><td style=\"text-align: right;\">0</td><td style=\"text-align: right;\">0.00</td><td style=\"text-align: right;\">0</td><td style=\"text-align: right;\">0.00</td><td style=\"text-align: right;\">1</td><td style=\"text-align: right;\">41.00</td><td style=\"text-align: right;\">0</td><td style=\"text-align: right;\">0.00</td><td style=\"text-align: right;\">0</td><td style=\"text-align: right;\">0.00</td></tr>\n",
       "<tr class=\"even\"><td style=\"text-align: right;\">354051</td><td style=\"text-align: right;\">136,596,162</td><td style=\"text-align: right;\">189,567</td><td style=\"text-align: right;\">17</td><td style=\"text-align: right;\">137</td><td style=\"text-align: right;\">0.01</td><td style=\"text-align: right;\">1</td><td style=\"text-align: right;\">1.00</td><td style=\"text-align: right;\">0</td><td style=\"text-align: right;\">0.00</td><td style=\"text-align: right;\">0</td><td style=\"text-align: right;\">0.00</td><td style=\"text-align: right;\">0</td><td style=\"text-align: right;\">0.00</td><td style=\"text-align: right;\">0</td><td style=\"text-align: right;\">0.00</td><td style=\"text-align: right;\">1</td><td style=\"text-align: right;\">41.00</td><td style=\"text-align: right;\">0</td><td style=\"text-align: right;\">0.00</td><td style=\"text-align: right;\">0</td><td style=\"text-align: right;\">0.00</td></tr>\n",
       "</table>"
      ],
      "text/plain": [
       "<IPython.core.display.HTML object>"
      ]
     },
     "execution_count": 56,
     "metadata": {},
     "output_type": "execute_result"
    }
   ],
   "source": [
    "HTML(plt_obj.get_html())"
   ]
  },
  {
   "cell_type": "code",
   "execution_count": 57,
   "metadata": {
    "collapsed": false
   },
   "outputs": [
    {
     "data": {
      "text/plain": [
       "array([1, 0, 0, 0, 0, 0, 0, 0, 0, 0, 0, 0, 0, 0, 0, 0, 0, 0, 0, 0, 0, 0, 0,\n",
       "       0, 0, 0, 0, 0, 0, 0, 0, 0, 0, 0, 0, 0, 0, 0, 0, 0, 0, 0, 0, 0, 0, 0,\n",
       "       0, 0, 0, 0, 0, 0, 0, 0, 0, 0, 0, 0, 0, 0, 0, 0, 0, 0])"
      ]
     },
     "execution_count": 57,
     "metadata": {},
     "output_type": "execute_result"
    }
   ],
   "source": [
    "sa_64_1575.alleles_per_snp(am_12)"
   ]
  }
 ],
 "metadata": {
  "kernelspec": {
   "display_name": "Python [Root]",
   "language": "python",
   "name": "Python [Root]"
  },
  "language_info": {
   "codemirror_mode": {
    "name": "ipython",
    "version": 2
   },
   "file_extension": ".py",
   "mimetype": "text/x-python",
   "name": "python",
   "nbconvert_exporter": "python",
   "pygments_lexer": "ipython2",
   "version": "2.7.12"
  }
 },
 "nbformat": 4,
 "nbformat_minor": 0
}
