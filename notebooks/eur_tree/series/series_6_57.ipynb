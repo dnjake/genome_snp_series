{
 "cells": [
  {
   "cell_type": "code",
   "execution_count": 1,
   "metadata": {
    "collapsed": false
   },
   "outputs": [
    {
     "data": {
      "text/html": []
     },
     "metadata": {},
     "output_type": "display_data"
    },
    {
     "data": {
      "application/javascript": [
       "\n",
       "(function(global) {\n",
       "  function now() {\n",
       "    return new Date();\n",
       "  }\n",
       "\n",
       "  if (typeof (window._bokeh_onload_callbacks) === \"undefined\") {\n",
       "    window._bokeh_onload_callbacks = [];\n",
       "  }\n",
       "\n",
       "  function run_callbacks() {\n",
       "    window._bokeh_onload_callbacks.forEach(function(callback) { callback() });\n",
       "    delete window._bokeh_onload_callbacks\n",
       "    console.info(\"Bokeh: all callbacks have finished\");\n",
       "  }\n",
       "\n",
       "  function load_libs(js_urls, callback) {\n",
       "    window._bokeh_onload_callbacks.push(callback);\n",
       "    if (window._bokeh_is_loading > 0) {\n",
       "      console.log(\"Bokeh: BokehJS is being loaded, scheduling callback at\", now());\n",
       "      return null;\n",
       "    }\n",
       "    if (js_urls == null || js_urls.length === 0) {\n",
       "      run_callbacks();\n",
       "      return null;\n",
       "    }\n",
       "    console.log(\"Bokeh: BokehJS not loaded, scheduling load and callback at\", now());\n",
       "    window._bokeh_is_loading = js_urls.length;\n",
       "    for (var i = 0; i < js_urls.length; i++) {\n",
       "      var url = js_urls[i];\n",
       "      var s = document.createElement('script');\n",
       "      s.src = url;\n",
       "      s.async = false;\n",
       "      s.onreadystatechange = s.onload = function() {\n",
       "        window._bokeh_is_loading--;\n",
       "        if (window._bokeh_is_loading === 0) {\n",
       "          console.log(\"Bokeh: all BokehJS libraries loaded\");\n",
       "          run_callbacks()\n",
       "        }\n",
       "      };\n",
       "      s.onerror = function() {\n",
       "        console.warn(\"failed to load library \" + url);\n",
       "      };\n",
       "      console.log(\"Bokeh: injecting script tag for BokehJS library: \", url);\n",
       "      document.getElementsByTagName(\"head\")[0].appendChild(s);\n",
       "    }\n",
       "  };\n",
       "\n",
       "  var js_urls = ['https://cdn.pydata.org/bokeh/release/bokeh-0.12.0.min.js', 'https://cdn.pydata.org/bokeh/release/bokeh-widgets-0.12.0.min.js', 'https://cdn.pydata.org/bokeh/release/bokeh-compiler-0.12.0.min.js'];\n",
       "\n",
       "  var inline_js = [\n",
       "    function(Bokeh) {\n",
       "      Bokeh.set_log_level(\"info\");\n",
       "    },\n",
       "    \n",
       "    function(Bokeh) {\n",
       "      Bokeh.$(\"#93ad3a7c-2762-4969-8006-0f4c139b75a2\").text(\"BokehJS successfully loaded\");\n",
       "    },\n",
       "    function(Bokeh) {\n",
       "      console.log(\"Bokeh: injecting CSS: https://cdn.pydata.org/bokeh/release/bokeh-0.12.0.min.css\");\n",
       "      Bokeh.embed.inject_css(\"https://cdn.pydata.org/bokeh/release/bokeh-0.12.0.min.css\");\n",
       "      console.log(\"Bokeh: injecting CSS: https://cdn.pydata.org/bokeh/release/bokeh-widgets-0.12.0.min.css\");\n",
       "      Bokeh.embed.inject_css(\"https://cdn.pydata.org/bokeh/release/bokeh-widgets-0.12.0.min.css\");\n",
       "    }\n",
       "  ];\n",
       "\n",
       "  function run_inline_js() {\n",
       "    for (var i = 0; i < inline_js.length; i++) {\n",
       "      inline_js[i](window.Bokeh);\n",
       "    }\n",
       "  }\n",
       "\n",
       "  if (window._bokeh_is_loading === 0) {\n",
       "    console.log(\"Bokeh: BokehJS loaded, going straight to plotting\");\n",
       "    run_inline_js();\n",
       "  } else {\n",
       "    load_libs(js_urls, function() {\n",
       "      console.log(\"Bokeh: BokehJS plotting callback run at\", now());\n",
       "      run_inline_js();\n",
       "    });\n",
       "  }\n",
       "}(this));"
      ]
     },
     "metadata": {},
     "output_type": "display_data"
    }
   ],
   "source": [
    "import numpy as np\n",
    "from IPython.display import HTML\n",
    "from bokeh.plotting import output_notebook, show\n",
    "import genomes_dnj.lct_interval.series_plots as dm\n",
    "import genomes_dnj.lct_interval.anal_series as an\n",
    "import genomes_dnj.lct_interval_snp_anal.lct_interval_snp_anal as snp_anal\n",
    "import genomes_dnj.lct_interval.series_masks as sm\n",
    "output_notebook(hide_banner=True)\n",
    "di_6_57 = 353444\n",
    "sa_6_57 = snp_anal.series_anal_cls(di_6_57, sm.series_data)\n",
    "sa_64_1575 = snp_anal.series_anal_cls(dm.di_64_1575, sm.series_data)"
   ]
  },
  {
   "cell_type": "markdown",
   "metadata": {},
   "source": [
    "<h3>Series 6_57</h3>\n",
    "<div style=\"width:700px\">\n",
    "<p>\n",
    "This notebook documents the series 6_57 and its 6 SNPs.  The 1000 genomes data includes\n",
    "4937 samples that express none of its 6 SNPs and 50 samples that express all 6 of them.\n",
    "Another 7 samples experss 5 of the SNPs. The 6 SNP series covers more than 493,000 DNA bases.\n",
    "It is over expressed in European and American populations.  It is not expressed by any samples from East\n",
    "Asian populations.\n",
    "<p>\n",
    "The 57 samples that express 6_57 include 22 that express it in association with all of the\n",
    "series that are part of the EUR tree root and no other series.  Another 25 samples were derived\n",
    "from a recombination event that replaced 7_1868 and part of 64_1575 with 39_1014.  This notebook\n",
    "shows plots for these associations and for those expressed by the other 6_57 samples.\n",
    "</div>"
   ]
  },
  {
   "cell_type": "code",
   "execution_count": 2,
   "metadata": {
    "collapsed": false
   },
   "outputs": [
    {
     "data": {
      "text/html": [
       "<p>\n",
       "<b>6_57 series</b>\n",
       "</p><p>\n",
       "<table>\n",
       "<thead><tr><th style=\"text-align:center\">index</th><th style=\"text-align:center\">first</th><th style=\"text-align:center\">length</th><th style=\"text-align:center\">snps</th><th style=\"text-align:center\">alleles</th><th style=\"text-align:center\" colspan=2>afr</th><th style=\"text-align:center\" colspan=2>afx</th><th style=\"text-align:center\" colspan=2>amr</th><th style=\"text-align:center\" colspan=2>eas</th><th style=\"text-align:center\" colspan=2>eur</th><th style=\"text-align:center\" colspan=2>sas</th><th style=\"text-align:center\" colspan=2>sax</th></tr></thead>\n",
       "<tr class=\"even\"><td style=\"text-align: right;\">353444</td><td style=\"text-align: right;\">135,889,881</td><td style=\"text-align: right;\">493,055</td><td style=\"text-align: right;\">6</td><td style=\"text-align: right;\">57</td><td style=\"text-align: right;\">2</td><td style=\"text-align: right;\">0.17</td><td style=\"text-align: right;\">1</td><td style=\"text-align: right;\">0.28</td><td style=\"text-align: right;\">17</td><td style=\"text-align: right;\">2.15</td><td style=\"text-align: right;\">0</td><td style=\"text-align: right;\">0.00</td><td style=\"text-align: right;\">29</td><td style=\"text-align: right;\">2.53</td><td style=\"text-align: right;\">5</td><td style=\"text-align: right;\">1.21</td><td style=\"text-align: right;\">3</td><td style=\"text-align: right;\">0.43</td></tr>\n",
       "</table>\n",
       "</p>\n",
       "<p>\n",
       "<b>6_57 series snps</b>\n",
       "</p><p>\n",
       "<table>\n",
       "<thead><tr><th style=\"text-align:center\">index</th><th style=\"text-align:center\">pos</th><th style=\"text-align:center\">id</th><th style=\"text-align:center\">niv</th><th style=\"text-align:center\">alleles</th><th style=\"text-align:center\" colspan=2>afr</th><th style=\"text-align:center\" colspan=2>afx</th><th style=\"text-align:center\" colspan=2>amr</th><th style=\"text-align:center\" colspan=2>eas</th><th style=\"text-align:center\" colspan=2>eur</th><th style=\"text-align:center\" colspan=2>sas</th><th style=\"text-align:center\" colspan=2>sax</th></tr></thead>\n",
       "<tr class=\"even\"><td style=\"text-align: right;\">875703</td><td style=\"text-align: right;\">135,889,881</td><td>rs114361366</td><td>0</td><td style=\"text-align: right;\">67</td><td style=\"text-align: right;\">2</td><td style=\"text-align: right;\">0.15</td><td style=\"text-align: right;\">1</td><td style=\"text-align: right;\">0.24</td><td style=\"text-align: right;\">20</td><td style=\"text-align: right;\">2.15</td><td style=\"text-align: right;\">0</td><td style=\"text-align: right;\">0.00</td><td style=\"text-align: right;\">36</td><td style=\"text-align: right;\">2.67</td><td style=\"text-align: right;\">5</td><td style=\"text-align: right;\">1.03</td><td style=\"text-align: right;\">3</td><td style=\"text-align: right;\">0.37</td></tr>\n",
       "<tr><td style=\"text-align: right;\">875985</td><td style=\"text-align: right;\">135,956,309</td><td>rs17328062</td><td>0</td><td style=\"text-align: right;\">66</td><td style=\"text-align: right;\">2</td><td style=\"text-align: right;\">0.15</td><td style=\"text-align: right;\">1</td><td style=\"text-align: right;\">0.24</td><td style=\"text-align: right;\">18</td><td style=\"text-align: right;\">1.97</td><td style=\"text-align: right;\">0</td><td style=\"text-align: right;\">0.00</td><td style=\"text-align: right;\">37</td><td style=\"text-align: right;\">2.79</td><td style=\"text-align: right;\">5</td><td style=\"text-align: right;\">1.04</td><td style=\"text-align: right;\">3</td><td style=\"text-align: right;\">0.37</td></tr>\n",
       "<tr class=\"even\"><td style=\"text-align: right;\">876688</td><td style=\"text-align: right;\">136,088,389</td><td>rs140323570</td><td>0</td><td style=\"text-align: right;\">62</td><td style=\"text-align: right;\">2</td><td style=\"text-align: right;\">0.16</td><td style=\"text-align: right;\">0</td><td style=\"text-align: right;\">0.00</td><td style=\"text-align: right;\">18</td><td style=\"text-align: right;\">2.10</td><td style=\"text-align: right;\">0</td><td style=\"text-align: right;\">0.00</td><td style=\"text-align: right;\">34</td><td style=\"text-align: right;\">2.73</td><td style=\"text-align: right;\">5</td><td style=\"text-align: right;\">1.11</td><td style=\"text-align: right;\">3</td><td style=\"text-align: right;\">0.39</td></tr>\n",
       "<tr><td style=\"text-align: right;\">877909</td><td style=\"text-align: right;\">136,323,321</td><td>rs115469961</td><td>0</td><td style=\"text-align: right;\">64</td><td style=\"text-align: right;\">2</td><td style=\"text-align: right;\">0.16</td><td style=\"text-align: right;\">1</td><td style=\"text-align: right;\">0.25</td><td style=\"text-align: right;\">17</td><td style=\"text-align: right;\">1.92</td><td style=\"text-align: right;\">0</td><td style=\"text-align: right;\">0.00</td><td style=\"text-align: right;\">36</td><td style=\"text-align: right;\">2.80</td><td style=\"text-align: right;\">5</td><td style=\"text-align: right;\">1.07</td><td style=\"text-align: right;\">3</td><td style=\"text-align: right;\">0.38</td></tr>\n",
       "<tr class=\"even\"><td style=\"text-align: right;\">878052</td><td style=\"text-align: right;\">136,361,384</td><td>rs141320535</td><td>0</td><td style=\"text-align: right;\">60</td><td style=\"text-align: right;\">2</td><td style=\"text-align: right;\">0.17</td><td style=\"text-align: right;\">1</td><td style=\"text-align: right;\">0.27</td><td style=\"text-align: right;\">17</td><td style=\"text-align: right;\">2.04</td><td style=\"text-align: right;\">0</td><td style=\"text-align: right;\">0.00</td><td style=\"text-align: right;\">32</td><td style=\"text-align: right;\">2.66</td><td style=\"text-align: right;\">5</td><td style=\"text-align: right;\">1.15</td><td style=\"text-align: right;\">3</td><td style=\"text-align: right;\">0.41</td></tr>\n",
       "<tr><td style=\"text-align: right;\">878136</td><td style=\"text-align: right;\">136,382,936</td><td>rs116351528</td><td>0</td><td style=\"text-align: right;\">57</td><td style=\"text-align: right;\">2</td><td style=\"text-align: right;\">0.17</td><td style=\"text-align: right;\">1</td><td style=\"text-align: right;\">0.28</td><td style=\"text-align: right;\">16</td><td style=\"text-align: right;\">2.03</td><td style=\"text-align: right;\">0</td><td style=\"text-align: right;\">0.00</td><td style=\"text-align: right;\">30</td><td style=\"text-align: right;\">2.62</td><td style=\"text-align: right;\">5</td><td style=\"text-align: right;\">1.21</td><td style=\"text-align: right;\">3</td><td style=\"text-align: right;\">0.43</td></tr>\n",
       "</table>"
      ],
      "text/plain": [
       "<IPython.core.display.HTML object>"
      ]
     },
     "execution_count": 2,
     "metadata": {},
     "output_type": "execute_result"
    }
   ],
   "source": [
    "HTML(dm.series_html(di_6_57))"
   ]
  },
  {
   "cell_type": "code",
   "execution_count": 3,
   "metadata": {
    "collapsed": false
   },
   "outputs": [
    {
     "data": {
      "text/html": [
       "<table>\n",
       "<thead><tr><th style=\"text-align:center\">index</th><th style=\"text-align:center\">first</th><th style=\"text-align:center\">length</th><th style=\"text-align:center\">snps</th><th style=\"text-align:center\" colspan=2>alleles</th><th style=\"text-align:center\" colspan=2>matches</th><th style=\"text-align:center\" colspan=2>afr</th><th style=\"text-align:center\" colspan=2>afx</th><th style=\"text-align:center\" colspan=2>amr</th><th style=\"text-align:center\" colspan=2>eas</th><th style=\"text-align:center\" colspan=2>eur</th><th style=\"text-align:center\" colspan=2>sas</th><th style=\"text-align:center\" colspan=2>sax</th></tr></thead>\n",
       "<tr class=\"even\"><td style=\"text-align: right;\">353921</td><td style=\"text-align: right;\">136,501,840</td><td style=\"text-align: right;\">53,819</td><td style=\"text-align: right;\">10</td><td style=\"text-align: right;\">2206</td><td style=\"text-align: right;\">0.02</td><td style=\"text-align: right;\">53</td><td style=\"text-align: right;\">0.93</td><td style=\"text-align: right;\">2</td><td style=\"text-align: right;\">0.19</td><td style=\"text-align: right;\">1</td><td style=\"text-align: right;\">0.30</td><td style=\"text-align: right;\">14</td><td style=\"text-align: right;\">1.91</td><td style=\"text-align: right;\">0</td><td style=\"text-align: right;\">0.00</td><td style=\"text-align: right;\">28</td><td style=\"text-align: right;\">2.63</td><td style=\"text-align: right;\">5</td><td style=\"text-align: right;\">1.30</td><td style=\"text-align: right;\">3</td><td style=\"text-align: right;\">0.46</td></tr>\n",
       "<tr><td style=\"text-align: right;\">354170</td><td style=\"text-align: right;\">136,682,274</td><td style=\"text-align: right;\">93,624</td><td style=\"text-align: right;\">7</td><td style=\"text-align: right;\">1868</td><td style=\"text-align: right;\">0.01</td><td style=\"text-align: right;\">23</td><td style=\"text-align: right;\">0.40</td><td style=\"text-align: right;\">2</td><td style=\"text-align: right;\">0.43</td><td style=\"text-align: right;\">1</td><td style=\"text-align: right;\">0.69</td><td style=\"text-align: right;\">6</td><td style=\"text-align: right;\">1.88</td><td style=\"text-align: right;\">0</td><td style=\"text-align: right;\">0.00</td><td style=\"text-align: right;\">9</td><td style=\"text-align: right;\">1.95</td><td style=\"text-align: right;\">3</td><td style=\"text-align: right;\">1.79</td><td style=\"text-align: right;\">2</td><td style=\"text-align: right;\">0.71</td></tr>\n",
       "<tr class=\"even\"><td style=\"text-align: right;\">354033</td><td style=\"text-align: right;\">136,588,031</td><td style=\"text-align: right;\">5,647</td><td style=\"text-align: right;\">7</td><td style=\"text-align: right;\">1760</td><td style=\"text-align: right;\">0.00</td><td style=\"text-align: right;\">2</td><td style=\"text-align: right;\">0.04</td><td style=\"text-align: right;\">0</td><td style=\"text-align: right;\">0.00</td><td style=\"text-align: right;\">0</td><td style=\"text-align: right;\">0.00</td><td style=\"text-align: right;\">0</td><td style=\"text-align: right;\">0.00</td><td style=\"text-align: right;\">0</td><td style=\"text-align: right;\">0.00</td><td style=\"text-align: right;\">2</td><td style=\"text-align: right;\">4.98</td><td style=\"text-align: right;\">0</td><td style=\"text-align: right;\">0.00</td><td style=\"text-align: right;\">0</td><td style=\"text-align: right;\">0.00</td></tr>\n",
       "<tr><td style=\"text-align: right;\">353462</td><td style=\"text-align: right;\">135,915,358</td><td style=\"text-align: right;\">79,721</td><td style=\"text-align: right;\">4</td><td style=\"text-align: right;\">1699</td><td style=\"text-align: right;\">0.03</td><td style=\"text-align: right;\">57</td><td style=\"text-align: right;\">1.00</td><td style=\"text-align: right;\">2</td><td style=\"text-align: right;\">0.17</td><td style=\"text-align: right;\">1</td><td style=\"text-align: right;\">0.28</td><td style=\"text-align: right;\">17</td><td style=\"text-align: right;\">2.15</td><td style=\"text-align: right;\">0</td><td style=\"text-align: right;\">0.00</td><td style=\"text-align: right;\">29</td><td style=\"text-align: right;\">2.53</td><td style=\"text-align: right;\">5</td><td style=\"text-align: right;\">1.21</td><td style=\"text-align: right;\">3</td><td style=\"text-align: right;\">0.43</td></tr>\n",
       "<tr class=\"even\"><td style=\"text-align: right;\">353901</td><td style=\"text-align: right;\">136,494,186</td><td style=\"text-align: right;\">271,765</td><td style=\"text-align: right;\">64</td><td style=\"text-align: right;\">1575</td><td style=\"text-align: right;\">0.01</td><td style=\"text-align: right;\">23</td><td style=\"text-align: right;\">0.40</td><td style=\"text-align: right;\">2</td><td style=\"text-align: right;\">0.43</td><td style=\"text-align: right;\">1</td><td style=\"text-align: right;\">0.69</td><td style=\"text-align: right;\">6</td><td style=\"text-align: right;\">1.88</td><td style=\"text-align: right;\">0</td><td style=\"text-align: right;\">0.00</td><td style=\"text-align: right;\">10</td><td style=\"text-align: right;\">2.16</td><td style=\"text-align: right;\">2</td><td style=\"text-align: right;\">1.20</td><td style=\"text-align: right;\">2</td><td style=\"text-align: right;\">0.71</td></tr>\n",
       "<tr><td style=\"text-align: right;\">354130</td><td style=\"text-align: right;\">136,653,925</td><td style=\"text-align: right;\">107,928</td><td style=\"text-align: right;\">24</td><td style=\"text-align: right;\">1504</td><td style=\"text-align: right;\">0.00</td><td style=\"text-align: right;\">3</td><td style=\"text-align: right;\">0.05</td><td style=\"text-align: right;\">0</td><td style=\"text-align: right;\">0.00</td><td style=\"text-align: right;\">0</td><td style=\"text-align: right;\">0.00</td><td style=\"text-align: right;\">0</td><td style=\"text-align: right;\">0.00</td><td style=\"text-align: right;\">0</td><td style=\"text-align: right;\">0.00</td><td style=\"text-align: right;\">3</td><td style=\"text-align: right;\">4.98</td><td style=\"text-align: right;\">0</td><td style=\"text-align: right;\">0.00</td><td style=\"text-align: right;\">0</td><td style=\"text-align: right;\">0.00</td></tr>\n",
       "<tr class=\"even\"><td style=\"text-align: right;\">353283</td><td style=\"text-align: right;\">135,771,974</td><td style=\"text-align: right;\">368,330</td><td style=\"text-align: right;\">6</td><td style=\"text-align: right;\">1503</td><td style=\"text-align: right;\">0.04</td><td style=\"text-align: right;\">57</td><td style=\"text-align: right;\">1.00</td><td style=\"text-align: right;\">2</td><td style=\"text-align: right;\">0.17</td><td style=\"text-align: right;\">1</td><td style=\"text-align: right;\">0.28</td><td style=\"text-align: right;\">17</td><td style=\"text-align: right;\">2.15</td><td style=\"text-align: right;\">0</td><td style=\"text-align: right;\">0.00</td><td style=\"text-align: right;\">29</td><td style=\"text-align: right;\">2.53</td><td style=\"text-align: right;\">5</td><td style=\"text-align: right;\">1.21</td><td style=\"text-align: right;\">3</td><td style=\"text-align: right;\">0.43</td></tr>\n",
       "<tr><td style=\"text-align: right;\">353814</td><td style=\"text-align: right;\">136,406,646</td><td style=\"text-align: right;\">31,432</td><td style=\"text-align: right;\">5</td><td style=\"text-align: right;\">1460</td><td style=\"text-align: right;\">0.00</td><td style=\"text-align: right;\">4</td><td style=\"text-align: right;\">0.07</td><td style=\"text-align: right;\">0</td><td style=\"text-align: right;\">0.00</td><td style=\"text-align: right;\">0</td><td style=\"text-align: right;\">0.00</td><td style=\"text-align: right;\">3</td><td style=\"text-align: right;\">5.41</td><td style=\"text-align: right;\">0</td><td style=\"text-align: right;\">0.00</td><td style=\"text-align: right;\">1</td><td style=\"text-align: right;\">1.24</td><td style=\"text-align: right;\">0</td><td style=\"text-align: right;\">0.00</td><td style=\"text-align: right;\">0</td><td style=\"text-align: right;\">0.00</td></tr>\n",
       "<tr class=\"even\"><td style=\"text-align: right;\">353925</td><td style=\"text-align: right;\">136,506,375</td><td style=\"text-align: right;\">32,564</td><td style=\"text-align: right;\">4</td><td style=\"text-align: right;\">1442</td><td style=\"text-align: right;\">0.00</td><td style=\"text-align: right;\">4</td><td style=\"text-align: right;\">0.07</td><td style=\"text-align: right;\">0</td><td style=\"text-align: right;\">0.00</td><td style=\"text-align: right;\">0</td><td style=\"text-align: right;\">0.00</td><td style=\"text-align: right;\">3</td><td style=\"text-align: right;\">5.41</td><td style=\"text-align: right;\">0</td><td style=\"text-align: right;\">0.00</td><td style=\"text-align: right;\">1</td><td style=\"text-align: right;\">1.24</td><td style=\"text-align: right;\">0</td><td style=\"text-align: right;\">0.00</td><td style=\"text-align: right;\">0</td><td style=\"text-align: right;\">0.00</td></tr>\n",
       "<tr><td style=\"text-align: right;\">353797</td><td style=\"text-align: right;\">136,398,174</td><td style=\"text-align: right;\">75,924</td><td style=\"text-align: right;\">26</td><td style=\"text-align: right;\">1414</td><td style=\"text-align: right;\">0.04</td><td style=\"text-align: right;\">53</td><td style=\"text-align: right;\">0.93</td><td style=\"text-align: right;\">2</td><td style=\"text-align: right;\">0.19</td><td style=\"text-align: right;\">1</td><td style=\"text-align: right;\">0.30</td><td style=\"text-align: right;\">14</td><td style=\"text-align: right;\">1.91</td><td style=\"text-align: right;\">0</td><td style=\"text-align: right;\">0.00</td><td style=\"text-align: right;\">28</td><td style=\"text-align: right;\">2.63</td><td style=\"text-align: right;\">5</td><td style=\"text-align: right;\">1.30</td><td style=\"text-align: right;\">3</td><td style=\"text-align: right;\">0.46</td></tr>\n",
       "<tr class=\"even\"><td style=\"text-align: right;\">353958</td><td style=\"text-align: right;\">136,535,876</td><td style=\"text-align: right;\">19,014</td><td style=\"text-align: right;\">7</td><td style=\"text-align: right;\">1303</td><td style=\"text-align: right;\">0.00</td><td style=\"text-align: right;\">1</td><td style=\"text-align: right;\">0.02</td><td style=\"text-align: right;\">0</td><td style=\"text-align: right;\">0.00</td><td style=\"text-align: right;\">0</td><td style=\"text-align: right;\">0.00</td><td style=\"text-align: right;\">0</td><td style=\"text-align: right;\">0.00</td><td style=\"text-align: right;\">0</td><td style=\"text-align: right;\">0.00</td><td style=\"text-align: right;\">1</td><td style=\"text-align: right;\">4.98</td><td style=\"text-align: right;\">0</td><td style=\"text-align: right;\">0.00</td><td style=\"text-align: right;\">0</td><td style=\"text-align: right;\">0.00</td></tr>\n",
       "<tr><td style=\"text-align: right;\">354129</td><td style=\"text-align: right;\">136,652,953</td><td style=\"text-align: right;\">108,222</td><td style=\"text-align: right;\">5</td><td style=\"text-align: right;\">1296</td><td style=\"text-align: right;\">0.00</td><td style=\"text-align: right;\">3</td><td style=\"text-align: right;\">0.05</td><td style=\"text-align: right;\">0</td><td style=\"text-align: right;\">0.00</td><td style=\"text-align: right;\">0</td><td style=\"text-align: right;\">0.00</td><td style=\"text-align: right;\">0</td><td style=\"text-align: right;\">0.00</td><td style=\"text-align: right;\">0</td><td style=\"text-align: right;\">0.00</td><td style=\"text-align: right;\">3</td><td style=\"text-align: right;\">4.98</td><td style=\"text-align: right;\">0</td><td style=\"text-align: right;\">0.00</td><td style=\"text-align: right;\">0</td><td style=\"text-align: right;\">0.00</td></tr>\n",
       "<tr class=\"even\"><td style=\"text-align: right;\">353919</td><td style=\"text-align: right;\">136,500,475</td><td style=\"text-align: right;\">42,085</td><td style=\"text-align: right;\">13</td><td style=\"text-align: right;\">1227</td><td style=\"text-align: right;\">0.00</td><td style=\"text-align: right;\">4</td><td style=\"text-align: right;\">0.07</td><td style=\"text-align: right;\">0</td><td style=\"text-align: right;\">0.00</td><td style=\"text-align: right;\">0</td><td style=\"text-align: right;\">0.00</td><td style=\"text-align: right;\">3</td><td style=\"text-align: right;\">5.41</td><td style=\"text-align: right;\">0</td><td style=\"text-align: right;\">0.00</td><td style=\"text-align: right;\">1</td><td style=\"text-align: right;\">1.24</td><td style=\"text-align: right;\">0</td><td style=\"text-align: right;\">0.00</td><td style=\"text-align: right;\">0</td><td style=\"text-align: right;\">0.00</td></tr>\n",
       "<tr><td style=\"text-align: right;\">353790</td><td style=\"text-align: right;\">136,393,157</td><td style=\"text-align: right;\">48,253</td><td style=\"text-align: right;\">10</td><td style=\"text-align: right;\">1218</td><td style=\"text-align: right;\">0.00</td><td style=\"text-align: right;\">3</td><td style=\"text-align: right;\">0.05</td><td style=\"text-align: right;\">0</td><td style=\"text-align: right;\">0.00</td><td style=\"text-align: right;\">0</td><td style=\"text-align: right;\">0.00</td><td style=\"text-align: right;\">3</td><td style=\"text-align: right;\">7.22</td><td style=\"text-align: right;\">0</td><td style=\"text-align: right;\">0.00</td><td style=\"text-align: right;\">0</td><td style=\"text-align: right;\">0.00</td><td style=\"text-align: right;\">0</td><td style=\"text-align: right;\">0.00</td><td style=\"text-align: right;\">0</td><td style=\"text-align: right;\">0.00</td></tr>\n",
       "<tr class=\"even\"><td style=\"text-align: right;\">353906</td><td style=\"text-align: right;\">136,496,493</td><td style=\"text-align: right;\">57,432</td><td style=\"text-align: right;\">9</td><td style=\"text-align: right;\">1170</td><td style=\"text-align: right;\">0.00</td><td style=\"text-align: right;\">3</td><td style=\"text-align: right;\">0.05</td><td style=\"text-align: right;\">0</td><td style=\"text-align: right;\">0.00</td><td style=\"text-align: right;\">0</td><td style=\"text-align: right;\">0.00</td><td style=\"text-align: right;\">3</td><td style=\"text-align: right;\">7.22</td><td style=\"text-align: right;\">0</td><td style=\"text-align: right;\">0.00</td><td style=\"text-align: right;\">0</td><td style=\"text-align: right;\">0.00</td><td style=\"text-align: right;\">0</td><td style=\"text-align: right;\">0.00</td><td style=\"text-align: right;\">0</td><td style=\"text-align: right;\">0.00</td></tr>\n",
       "<tr><td style=\"text-align: right;\">353849</td><td style=\"text-align: right;\">136,447,707</td><td style=\"text-align: right;\">42,559</td><td style=\"text-align: right;\">4</td><td style=\"text-align: right;\">1149</td><td style=\"text-align: right;\">0.00</td><td style=\"text-align: right;\">3</td><td style=\"text-align: right;\">0.05</td><td style=\"text-align: right;\">0</td><td style=\"text-align: right;\">0.00</td><td style=\"text-align: right;\">0</td><td style=\"text-align: right;\">0.00</td><td style=\"text-align: right;\">3</td><td style=\"text-align: right;\">7.22</td><td style=\"text-align: right;\">0</td><td style=\"text-align: right;\">0.00</td><td style=\"text-align: right;\">0</td><td style=\"text-align: right;\">0.00</td><td style=\"text-align: right;\">0</td><td style=\"text-align: right;\">0.00</td><td style=\"text-align: right;\">0</td><td style=\"text-align: right;\">0.00</td></tr>\n",
       "<tr class=\"even\"><td style=\"text-align: right;\">354127</td><td style=\"text-align: right;\">136,652,491</td><td style=\"text-align: right;\">80,281</td><td style=\"text-align: right;\">6</td><td style=\"text-align: right;\">1114</td><td style=\"text-align: right;\">0.00</td><td style=\"text-align: right;\">3</td><td style=\"text-align: right;\">0.05</td><td style=\"text-align: right;\">0</td><td style=\"text-align: right;\">0.00</td><td style=\"text-align: right;\">0</td><td style=\"text-align: right;\">0.00</td><td style=\"text-align: right;\">0</td><td style=\"text-align: right;\">0.00</td><td style=\"text-align: right;\">0</td><td style=\"text-align: right;\">0.00</td><td style=\"text-align: right;\">3</td><td style=\"text-align: right;\">4.98</td><td style=\"text-align: right;\">0</td><td style=\"text-align: right;\">0.00</td><td style=\"text-align: right;\">0</td><td style=\"text-align: right;\">0.00</td></tr>\n",
       "<tr><td style=\"text-align: right;\">353907</td><td style=\"text-align: right;\">136,496,805</td><td style=\"text-align: right;\">55,824</td><td style=\"text-align: right;\">9</td><td style=\"text-align: right;\">1023</td><td style=\"text-align: right;\">0.00</td><td style=\"text-align: right;\">3</td><td style=\"text-align: right;\">0.05</td><td style=\"text-align: right;\">0</td><td style=\"text-align: right;\">0.00</td><td style=\"text-align: right;\">0</td><td style=\"text-align: right;\">0.00</td><td style=\"text-align: right;\">3</td><td style=\"text-align: right;\">7.22</td><td style=\"text-align: right;\">0</td><td style=\"text-align: right;\">0.00</td><td style=\"text-align: right;\">0</td><td style=\"text-align: right;\">0.00</td><td style=\"text-align: right;\">0</td><td style=\"text-align: right;\">0.00</td><td style=\"text-align: right;\">0</td><td style=\"text-align: right;\">0.00</td></tr>\n",
       "<tr class=\"even\"><td style=\"text-align: right;\">353984</td><td style=\"text-align: right;\">136,556,805</td><td style=\"text-align: right;\">190,280</td><td style=\"text-align: right;\">39</td><td style=\"text-align: right;\">1014</td><td style=\"text-align: right;\">0.03</td><td style=\"text-align: right;\">28</td><td style=\"text-align: right;\">0.49</td><td style=\"text-align: right;\">0</td><td style=\"text-align: right;\">0.00</td><td style=\"text-align: right;\">0</td><td style=\"text-align: right;\">0.00</td><td style=\"text-align: right;\">11</td><td style=\"text-align: right;\">2.83</td><td style=\"text-align: right;\">0</td><td style=\"text-align: right;\">0.00</td><td style=\"text-align: right;\">14</td><td style=\"text-align: right;\">2.49</td><td style=\"text-align: right;\">2</td><td style=\"text-align: right;\">0.98</td><td style=\"text-align: right;\">1</td><td style=\"text-align: right;\">0.29</td></tr>\n",
       "<tr><td style=\"text-align: right;\">353807</td><td style=\"text-align: right;\">136,403,994</td><td style=\"text-align: right;\">81,102</td><td style=\"text-align: right;\">13</td><td style=\"text-align: right;\">911</td><td style=\"text-align: right;\">0.00</td><td style=\"text-align: right;\">3</td><td style=\"text-align: right;\">0.05</td><td style=\"text-align: right;\">0</td><td style=\"text-align: right;\">0.00</td><td style=\"text-align: right;\">0</td><td style=\"text-align: right;\">0.00</td><td style=\"text-align: right;\">3</td><td style=\"text-align: right;\">7.22</td><td style=\"text-align: right;\">0</td><td style=\"text-align: right;\">0.00</td><td style=\"text-align: right;\">0</td><td style=\"text-align: right;\">0.00</td><td style=\"text-align: right;\">0</td><td style=\"text-align: right;\">0.00</td><td style=\"text-align: right;\">0</td><td style=\"text-align: right;\">0.00</td></tr>\n",
       "<tr class=\"even\"><td style=\"text-align: right;\">353902</td><td style=\"text-align: right;\">136,494,985</td><td style=\"text-align: right;\">278,653</td><td style=\"text-align: right;\">81</td><td style=\"text-align: right;\">857</td><td style=\"text-align: right;\">0.00</td><td style=\"text-align: right;\">1</td><td style=\"text-align: right;\">0.02</td><td style=\"text-align: right;\">0</td><td style=\"text-align: right;\">0.00</td><td style=\"text-align: right;\">0</td><td style=\"text-align: right;\">0.00</td><td style=\"text-align: right;\">0</td><td style=\"text-align: right;\">0.00</td><td style=\"text-align: right;\">0</td><td style=\"text-align: right;\">0.00</td><td style=\"text-align: right;\">1</td><td style=\"text-align: right;\">4.98</td><td style=\"text-align: right;\">0</td><td style=\"text-align: right;\">0.00</td><td style=\"text-align: right;\">0</td><td style=\"text-align: right;\">0.00</td></tr>\n",
       "<tr><td style=\"text-align: right;\">353851</td><td style=\"text-align: right;\">136,448,855</td><td style=\"text-align: right;\">17,976</td><td style=\"text-align: right;\">4</td><td style=\"text-align: right;\">612</td><td style=\"text-align: right;\">0.00</td><td style=\"text-align: right;\">1</td><td style=\"text-align: right;\">0.02</td><td style=\"text-align: right;\">0</td><td style=\"text-align: right;\">0.00</td><td style=\"text-align: right;\">0</td><td style=\"text-align: right;\">0.00</td><td style=\"text-align: right;\">0</td><td style=\"text-align: right;\">0.00</td><td style=\"text-align: right;\">0</td><td style=\"text-align: right;\">0.00</td><td style=\"text-align: right;\">1</td><td style=\"text-align: right;\">4.98</td><td style=\"text-align: right;\">0</td><td style=\"text-align: right;\">0.00</td><td style=\"text-align: right;\">0</td><td style=\"text-align: right;\">0.00</td></tr>\n",
       "<tr class=\"even\"><td style=\"text-align: right;\">353904</td><td style=\"text-align: right;\">136,495,815</td><td style=\"text-align: right;\">46,924</td><td style=\"text-align: right;\">9</td><td style=\"text-align: right;\">378</td><td style=\"text-align: right;\">0.00</td><td style=\"text-align: right;\">1</td><td style=\"text-align: right;\">0.02</td><td style=\"text-align: right;\">0</td><td style=\"text-align: right;\">0.00</td><td style=\"text-align: right;\">0</td><td style=\"text-align: right;\">0.00</td><td style=\"text-align: right;\">0</td><td style=\"text-align: right;\">0.00</td><td style=\"text-align: right;\">0</td><td style=\"text-align: right;\">0.00</td><td style=\"text-align: right;\">1</td><td style=\"text-align: right;\">4.98</td><td style=\"text-align: right;\">0</td><td style=\"text-align: right;\">0.00</td><td style=\"text-align: right;\">0</td><td style=\"text-align: right;\">0.00</td></tr>\n",
       "<tr><td style=\"text-align: right;\">353804</td><td style=\"text-align: right;\">136,402,778</td><td style=\"text-align: right;\">90,652</td><td style=\"text-align: right;\">21</td><td style=\"text-align: right;\">332</td><td style=\"text-align: right;\">0.00</td><td style=\"text-align: right;\">1</td><td style=\"text-align: right;\">0.02</td><td style=\"text-align: right;\">0</td><td style=\"text-align: right;\">0.00</td><td style=\"text-align: right;\">0</td><td style=\"text-align: right;\">0.00</td><td style=\"text-align: right;\">0</td><td style=\"text-align: right;\">0.00</td><td style=\"text-align: right;\">0</td><td style=\"text-align: right;\">0.00</td><td style=\"text-align: right;\">1</td><td style=\"text-align: right;\">4.98</td><td style=\"text-align: right;\">0</td><td style=\"text-align: right;\">0.00</td><td style=\"text-align: right;\">0</td><td style=\"text-align: right;\">0.00</td></tr>\n",
       "<tr class=\"even\"><td style=\"text-align: right;\">354064</td><td style=\"text-align: right;\">136,605,402</td><td style=\"text-align: right;\">19,284</td><td style=\"text-align: right;\">8</td><td style=\"text-align: right;\">328</td><td style=\"text-align: right;\">0.00</td><td style=\"text-align: right;\">1</td><td style=\"text-align: right;\">0.02</td><td style=\"text-align: right;\">0</td><td style=\"text-align: right;\">0.00</td><td style=\"text-align: right;\">0</td><td style=\"text-align: right;\">0.00</td><td style=\"text-align: right;\">0</td><td style=\"text-align: right;\">0.00</td><td style=\"text-align: right;\">0</td><td style=\"text-align: right;\">0.00</td><td style=\"text-align: right;\">1</td><td style=\"text-align: right;\">4.98</td><td style=\"text-align: right;\">0</td><td style=\"text-align: right;\">0.00</td><td style=\"text-align: right;\">0</td><td style=\"text-align: right;\">0.00</td></tr>\n",
       "<tr><td style=\"text-align: right;\">354051</td><td style=\"text-align: right;\">136,596,162</td><td style=\"text-align: right;\">189,567</td><td style=\"text-align: right;\">17</td><td style=\"text-align: right;\">137</td><td style=\"text-align: right;\">0.01</td><td style=\"text-align: right;\">1</td><td style=\"text-align: right;\">0.02</td><td style=\"text-align: right;\">0</td><td style=\"text-align: right;\">0.00</td><td style=\"text-align: right;\">0</td><td style=\"text-align: right;\">0.00</td><td style=\"text-align: right;\">0</td><td style=\"text-align: right;\">0.00</td><td style=\"text-align: right;\">0</td><td style=\"text-align: right;\">0.00</td><td style=\"text-align: right;\">1</td><td style=\"text-align: right;\">4.98</td><td style=\"text-align: right;\">0</td><td style=\"text-align: right;\">0.00</td><td style=\"text-align: right;\">0</td><td style=\"text-align: right;\">0.00</td></tr>\n",
       "<tr class=\"even\"><td style=\"text-align: right;\">353444</td><td style=\"text-align: right;\">135,889,881</td><td style=\"text-align: right;\">493,055</td><td style=\"text-align: right;\">6</td><td style=\"text-align: right;\">57</td><td style=\"text-align: right;\">1.00</td><td style=\"text-align: right;\">57</td><td style=\"text-align: right;\">1.00</td><td style=\"text-align: right;\">2</td><td style=\"text-align: right;\">0.17</td><td style=\"text-align: right;\">1</td><td style=\"text-align: right;\">0.28</td><td style=\"text-align: right;\">17</td><td style=\"text-align: right;\">2.15</td><td style=\"text-align: right;\">0</td><td style=\"text-align: right;\">0.00</td><td style=\"text-align: right;\">29</td><td style=\"text-align: right;\">2.53</td><td style=\"text-align: right;\">5</td><td style=\"text-align: right;\">1.21</td><td style=\"text-align: right;\">3</td><td style=\"text-align: right;\">0.43</td></tr>\n",
       "</table>"
      ],
      "text/plain": [
       "<IPython.core.display.HTML object>"
      ]
     },
     "execution_count": 3,
     "metadata": {},
     "output_type": "execute_result"
    }
   ],
   "source": [
    "plt_obj = dm.superset_yes_no([di_6_57], min_match=0.001)\n",
    "plt_obj.do_plot()\n",
    "HTML(plt_obj.get_html())"
   ]
  },
  {
   "cell_type": "code",
   "execution_count": 4,
   "metadata": {
    "collapsed": false
   },
   "outputs": [
    {
     "data": {
      "text/plain": [
       "array([(0, 4937), (1, 3), (2, 2), (3, 2), (4, 7), (5, 7), (6, 50)], \n",
       "      dtype=[('count', '<u2'), ('snps', '<u2')])"
      ]
     },
     "execution_count": 4,
     "metadata": {},
     "output_type": "execute_result"
    }
   ],
   "source": [
    "count_data = sa_6_57.unique_snps_per_allele()\n",
    "count_data"
   ]
  },
  {
   "cell_type": "code",
   "execution_count": 5,
   "metadata": {
    "collapsed": false
   },
   "outputs": [
    {
     "data": {
      "text/html": [
       "\n",
       "\n",
       "    <div class=\"bk-root\">\n",
       "        <div class=\"plotdiv\" id=\"80ac4db3-a3b6-4e6a-991c-5d8cf1998c96\"></div>\n",
       "    </div>\n",
       "<script type=\"text/javascript\">\n",
       "  \n",
       "  (function(global) {\n",
       "    function now() {\n",
       "      return new Date();\n",
       "    }\n",
       "  \n",
       "    if (typeof (window._bokeh_onload_callbacks) === \"undefined\") {\n",
       "      window._bokeh_onload_callbacks = [];\n",
       "    }\n",
       "  \n",
       "    function run_callbacks() {\n",
       "      window._bokeh_onload_callbacks.forEach(function(callback) { callback() });\n",
       "      delete window._bokeh_onload_callbacks\n",
       "      console.info(\"Bokeh: all callbacks have finished\");\n",
       "    }\n",
       "  \n",
       "    function load_libs(js_urls, callback) {\n",
       "      window._bokeh_onload_callbacks.push(callback);\n",
       "      if (window._bokeh_is_loading > 0) {\n",
       "        console.log(\"Bokeh: BokehJS is being loaded, scheduling callback at\", now());\n",
       "        return null;\n",
       "      }\n",
       "      if (js_urls == null || js_urls.length === 0) {\n",
       "        run_callbacks();\n",
       "        return null;\n",
       "      }\n",
       "      console.log(\"Bokeh: BokehJS not loaded, scheduling load and callback at\", now());\n",
       "      window._bokeh_is_loading = js_urls.length;\n",
       "      for (var i = 0; i < js_urls.length; i++) {\n",
       "        var url = js_urls[i];\n",
       "        var s = document.createElement('script');\n",
       "        s.src = url;\n",
       "        s.async = false;\n",
       "        s.onreadystatechange = s.onload = function() {\n",
       "          window._bokeh_is_loading--;\n",
       "          if (window._bokeh_is_loading === 0) {\n",
       "            console.log(\"Bokeh: all BokehJS libraries loaded\");\n",
       "            run_callbacks()\n",
       "          }\n",
       "        };\n",
       "        s.onerror = function() {\n",
       "          console.warn(\"failed to load library \" + url);\n",
       "        };\n",
       "        console.log(\"Bokeh: injecting script tag for BokehJS library: \", url);\n",
       "        document.getElementsByTagName(\"head\")[0].appendChild(s);\n",
       "      }\n",
       "    };var element = document.getElementById(\"80ac4db3-a3b6-4e6a-991c-5d8cf1998c96\");\n",
       "    if (element == null) {\n",
       "      console.log(\"Bokeh: ERROR: autoload.js configured with elementid '80ac4db3-a3b6-4e6a-991c-5d8cf1998c96' but no matching script tag was found. \")\n",
       "      return false;\n",
       "    }\n",
       "  \n",
       "    var js_urls = [];\n",
       "  \n",
       "    var inline_js = [\n",
       "      function(Bokeh) {\n",
       "        Bokeh.$(function() {\n",
       "            var docs_json = {\"1ad9fe5e-627a-4d97-b6ad-6eb163a1d558\":{\"roots\":{\"references\":[{\"attributes\":{\"callback\":null,\"end\":136786630,\"start\":135757320},\"id\":\"7674e1c4-e6c1-45ad-a13d-2c09cc5323f0\",\"type\":\"Range1d\"},{\"attributes\":{\"data_source\":{\"id\":\"d7fe6d0e-1582-4dea-a243-aa08b8906ffd\",\"type\":\"ColumnDataSource\"},\"glyph\":{\"id\":\"6b1bb4cb-fd26-49e5-9bf2-447797b28d70\",\"type\":\"Quad\"},\"hover_glyph\":null,\"nonselection_glyph\":{\"id\":\"2e096f70-b5ad-49fa-a952-06dd1aa8fbc1\",\"type\":\"Quad\"},\"selection_glyph\":null},\"id\":\"47303935-4885-470e-b42c-3cc489554bab\",\"type\":\"GlyphRenderer\"},{\"attributes\":{\"callback\":null,\"end\":500},\"id\":\"60285464-7954-4737-8699-cc7dadb110cd\",\"type\":\"Range1d\"},{\"attributes\":{\"plot\":{\"id\":\"8510b067-b033-4dc8-b136-c009013a28db\",\"subtype\":\"Figure\",\"type\":\"Plot\"}},\"id\":\"75b424d1-c197-49b5-95ab-7b899016fde6\",\"type\":\"PanTool\"},{\"attributes\":{\"bottom\":{\"field\":\"bottom\"},\"fill_color\":{\"field\":\"fill_color\"},\"left\":{\"field\":\"left\"},\"line_color\":{\"value\":null},\"right\":{\"field\":\"right\"},\"top\":{\"field\":\"top\"}},\"id\":\"6b1bb4cb-fd26-49e5-9bf2-447797b28d70\",\"type\":\"Quad\"},{\"attributes\":{\"plot\":{\"id\":\"8510b067-b033-4dc8-b136-c009013a28db\",\"subtype\":\"Figure\",\"type\":\"Plot\"}},\"id\":\"2838d2c6-bdff-4b76-8d90-7edaa4401314\",\"type\":\"HelpTool\"},{\"attributes\":{\"plot\":{\"id\":\"8510b067-b033-4dc8-b136-c009013a28db\",\"subtype\":\"Figure\",\"type\":\"Plot\"},\"ticker\":{\"id\":\"a0f8de69-d428-4770-8de4-35e80820a356\",\"type\":\"BasicTicker\"}},\"id\":\"8741307b-d113-4178-95a2-67151aef5d36\",\"type\":\"Grid\"},{\"attributes\":{\"bottom_units\":\"screen\",\"fill_alpha\":{\"value\":0.5},\"fill_color\":{\"value\":\"lightgrey\"},\"left_units\":\"screen\",\"level\":\"overlay\",\"line_alpha\":{\"value\":1.0},\"line_color\":{\"value\":\"black\"},\"line_dash\":[4,4],\"line_width\":{\"value\":2},\"plot\":null,\"render_mode\":\"css\",\"right_units\":\"screen\",\"top_units\":\"screen\"},\"id\":\"d1739a1f-c8bd-4d6f-ba3f-ae2fec639572\",\"type\":\"BoxAnnotation\"},{\"attributes\":{\"bottom\":{\"field\":\"bottom\"},\"fill_alpha\":{\"value\":0.1},\"fill_color\":{\"value\":\"#1f77b4\"},\"left\":{\"field\":\"left\"},\"line_alpha\":{\"value\":0.1},\"line_color\":{\"value\":\"#1f77b4\"},\"right\":{\"field\":\"right\"},\"top\":{\"field\":\"top\"}},\"id\":\"853e54e3-e59c-49ae-b86c-03efaa7dbb58\",\"type\":\"Quad\"},{\"attributes\":{\"callback\":null,\"column_names\":[\"y\",\"x\",\"vals\"],\"data\":{\"vals\":[\"RAB3GAP1\",\"ZRANB3\",\"R3HDM1\",\"UBXN4\",\"LCT\",\"MCM6\",\"DARS\"],\"x\":[135869057.0,136122878.0,136385961.0,136520911.0,136570082.5,136615621.5,136703738.0],\"y\":[460.0,460.0,460.0,460.0,460.0,460.0,460.0]}},\"id\":\"e6009a7b-028e-4335-9338-cf84e02bd255\",\"type\":\"ColumnDataSource\"},{\"attributes\":{\"plot\":{\"id\":\"8510b067-b033-4dc8-b136-c009013a28db\",\"subtype\":\"Figure\",\"type\":\"Plot\"}},\"id\":\"79995896-0b58-453f-bde4-ebf2e7c262c1\",\"type\":\"WheelZoomTool\"},{\"attributes\":{\"formatter\":{\"id\":\"040dc02d-c4dd-47c3-aed3-17464f7ab08d\",\"type\":\"BasicTickFormatter\"},\"plot\":{\"id\":\"8510b067-b033-4dc8-b136-c009013a28db\",\"subtype\":\"Figure\",\"type\":\"Plot\"},\"ticker\":{\"id\":\"d828d82b-5838-4b8a-8f8f-cbc8adf99643\",\"type\":\"BasicTicker\"},\"visible\":null},\"id\":\"bca57da1-36c5-4e67-8560-c96f468789c3\",\"type\":\"LinearAxis\"},{\"attributes\":{},\"id\":\"d828d82b-5838-4b8a-8f8f-cbc8adf99643\",\"type\":\"BasicTicker\"},{\"attributes\":{\"callback\":null,\"column_names\":[\"y\",\"x\",\"vals\"],\"data\":{\"vals\":[\"6_1503\",\"6_57\",\"4_1699\",\"26_1414\",\"64_1575\",\"10_2206\",\"7_1868\"],\"x\":[135771974,135889881,135915358,136398174,136494186,136501840,136682274],\"y\":[200.0,71.0,301.0,199.0,300.0,403.0,402.0]}},\"id\":\"d84205d6-70ea-4da3-a2ba-851f9a0d180a\",\"type\":\"ColumnDataSource\"},{\"attributes\":{\"level\":\"glyph\",\"plot\":{\"id\":\"8510b067-b033-4dc8-b136-c009013a28db\",\"subtype\":\"Figure\",\"type\":\"Plot\"},\"source\":{\"id\":\"e6009a7b-028e-4335-9338-cf84e02bd255\",\"type\":\"ColumnDataSource\"},\"text\":{\"field\":\"vals\"},\"text_align\":\"center\",\"text_baseline\":\"middle\",\"text_font_size\":{\"value\":\"8pt\"},\"x\":{\"field\":\"x\"},\"y\":{\"field\":\"y\"}},\"id\":\"f9630ac8-2f07-4bc6-a86a-48e17092f612\",\"type\":\"LabelSet\"},{\"attributes\":{\"data_source\":{\"id\":\"531ac0eb-9be1-4b2c-bf49-016f2e71cf2b\",\"type\":\"ColumnDataSource\"},\"glyph\":{\"id\":\"b52142de-2740-4593-be99-7d7ec317223f\",\"type\":\"Quad\"},\"hover_glyph\":null,\"nonselection_glyph\":{\"id\":\"853e54e3-e59c-49ae-b86c-03efaa7dbb58\",\"type\":\"Quad\"},\"selection_glyph\":null},\"id\":\"0dc299b0-4d54-4937-af66-86fd453c7210\",\"type\":\"GlyphRenderer\"},{\"attributes\":{\"callback\":null,\"column_names\":[\"xs\",\"ys\",\"line_color\"],\"data\":{\"line_color\":[\"black\",\"black\",\"black\",\"black\",\"black\",\"black\",\"black\",\"black\",\"black\",\"black\",\"black\",\"black\",\"black\",\"black\",\"black\",\"black\",\"black\",\"black\",\"black\",\"black\",\"black\",\"black\",\"black\",\"black\",\"black\",\"black\",\"black\",\"black\",\"black\",\"black\",\"black\",\"black\",\"black\",\"black\",\"black\",\"black\",\"black\",\"black\",\"black\",\"black\",\"black\",\"black\",\"black\",\"black\",\"black\",\"black\",\"black\",\"black\",\"black\",\"black\",\"black\",\"black\",\"black\",\"black\",\"black\",\"black\",\"black\",\"black\",\"black\",\"black\",\"black\",\"black\",\"black\",\"black\",\"black\",\"black\",\"black\",\"black\",\"black\",\"black\",\"black\",\"black\",\"black\",\"black\",\"black\",\"black\",\"black\",\"black\",\"black\",\"black\",\"black\",\"black\",\"black\",\"black\",\"black\",\"black\",\"black\",\"black\",\"black\",\"black\",\"black\",\"black\",\"black\",\"black\",\"black\",\"black\",\"black\",\"black\",\"black\",\"black\",\"black\",\"black\",\"black\",\"black\",\"black\",\"black\",\"black\",\"black\",\"black\",\"black\",\"black\",\"black\",\"black\",\"black\",\"black\",\"black\",\"black\",\"black\",\"black\",\"black\",\"black\",\"black\",\"black\"],\"xs\":[[135771974,135771974],[135859371,135859371],[135877562,135877562],[136022798,136022798],[136058820,136058820],[136140304,136140304],[135889881,135889881],[135956309,135956309],[136088389,136088389],[136323321,136323321],[136361384,136361384],[136382936,136382936],[135915358,135915358],[135954405,135954405],[135995073,135995073],[135995079,135995079],[136398174,136398174],[136402117,136402117],[136403749,136403749],[136409073,136409073],[136410299,136410299],[136413359,136413359],[136416855,136416855],[136416941,136416941],[136418348,136418348],[136419961,136419961],[136420690,136420690],[136422171,136422171],[136428460,136428460],[136430866,136430866],[136432103,136432103],[136437507,136437507],[136439090,136439090],[136439517,136439517],[136444123,136444123],[136445526,136445526],[136445869,136445869],[136455600,136455600],[136456642,136456642],[136462441,136462441],[136470714,136470714],[136474098,136474098],[136494186,136494186],[136495300,136495300],[136495619,136495619],[136499166,136499166],[136502792,136502792],[136503157,136503157],[136507039,136507039],[136511575,136511575],[136518103,136518103],[136521514,136521514],[136522675,136522675],[136522941,136522941],[136526981,136526981],[136535410,136535410],[136539122,136539122],[136544197,136544197],[136550109,136550109],[136551694,136551694],[136553188,136553188],[136553639,136553639],[136554800,136554800],[136557319,136557319],[136558157,136558157],[136569848,136569848],[136575199,136575199],[136576577,136576577],[136578536,136578536],[136580287,136580287],[136583192,136583192],[136586958,136586958],[136588478,136588478],[136589612,136589612],[136591178,136591178],[136591859,136591859],[136593760,136593760],[136594158,136594158],[136603276,136603276],[136603366,136603366],[136608231,136608231],[136609975,136609975],[136610598,136610598],[136611624,136611624],[136613780,136613780],[136614255,136614255],[136614813,136614813],[136617524,136617524],[136622216,136622216],[136625602,136625602],[136629911,136629911],[136630757,136630757],[136630989,136630989],[136631031,136631031],[136633771,136633771],[136636324,136636324],[136638216,136638216],[136640233,136640233],[136641882,136641882],[136643555,136643555],[136658345,136658345],[136670298,136670298],[136685228,136685228],[136696138,136696138],[136740900,136740900],[136765951,136765951],[136501840,136501840],[136505546,136505546],[136516748,136516748],[136522710,136522710],[136528004,136528004],[136539513,136539513],[136544752,136544752],[136546110,136546110],[136553529,136553529],[136555659,136555659],[136682274,136682274],[136691825,136691825],[136698098,136698098],[136721603,136721603],[136721995,136721995],[136755684,136755684],[136775898,136775898]],\"ys\":[[150,195],[150,195],[150,195],[150,195],[150,195],[150,195],[50,66],[50,66],[50,66],[50,66],[50,66],[50,66],[250,296],[250,296],[250,296],[250,296],[150,194],[150,194],[150,194],[150,194],[150,194],[150,194],[150,194],[150,194],[150,194],[150,194],[150,194],[150,194],[150,194],[150,194],[150,194],[150,194],[150,194],[150,194],[150,194],[150,194],[150,194],[150,194],[150,194],[150,194],[150,194],[150,194],[250,295],[250,295],[250,295],[250,295],[250,295],[250,295],[250,295],[250,295],[250,295],[250,295],[250,295],[250,295],[250,295],[250,295],[250,295],[250,295],[250,295],[250,295],[250,295],[250,295],[250,295],[250,295],[250,295],[250,295],[250,295],[250,295],[250,295],[250,295],[250,295],[250,295],[250,295],[250,295],[250,295],[250,295],[250,295],[250,295],[250,295],[250,295],[250,295],[250,295],[250,295],[250,295],[250,295],[250,295],[250,295],[250,295],[250,295],[250,295],[250,295],[250,295],[250,295],[250,295],[250,295],[250,295],[250,295],[250,295],[250,295],[250,295],[250,295],[250,295],[250,295],[250,295],[250,295],[250,295],[350,398],[350,398],[350,398],[350,398],[350,398],[350,398],[350,398],[350,398],[350,398],[350,398],[350,397],[350,397],[350,397],[350,397],[350,397],[350,397],[350,397]]}},\"id\":\"5a0e4c2e-78e8-4885-bdd1-38805a121504\",\"type\":\"ColumnDataSource\"},{\"attributes\":{},\"id\":\"a0f8de69-d428-4770-8de4-35e80820a356\",\"type\":\"BasicTicker\"},{\"attributes\":{\"line_color\":{\"field\":\"line_color\"},\"xs\":{\"field\":\"xs\"},\"ys\":{\"field\":\"ys\"}},\"id\":\"fe8069f5-9e88-4478-9c46-4084cc005f2c\",\"type\":\"MultiLine\"},{\"attributes\":{\"plot\":{\"id\":\"8510b067-b033-4dc8-b136-c009013a28db\",\"subtype\":\"Figure\",\"type\":\"Plot\"}},\"id\":\"59f3afad-a24e-4443-9d0f-fadc0ed5b7c1\",\"type\":\"ResetTool\"},{\"attributes\":{\"plot\":{\"id\":\"8510b067-b033-4dc8-b136-c009013a28db\",\"subtype\":\"Figure\",\"type\":\"Plot\"}},\"id\":\"bd8ca9a1-dc41-44e2-a397-916d41925185\",\"type\":\"SaveTool\"},{\"attributes\":{},\"id\":\"548a4123-63a0-4ac8-bbaf-09a79fc70d68\",\"type\":\"BasicTickFormatter\"},{\"attributes\":{\"formatter\":{\"id\":\"548a4123-63a0-4ac8-bbaf-09a79fc70d68\",\"type\":\"BasicTickFormatter\"},\"plot\":{\"id\":\"8510b067-b033-4dc8-b136-c009013a28db\",\"subtype\":\"Figure\",\"type\":\"Plot\"},\"ticker\":{\"id\":\"a0f8de69-d428-4770-8de4-35e80820a356\",\"type\":\"BasicTicker\"}},\"id\":\"0dc93b31-b9af-4684-9ba0-2199663d7340\",\"type\":\"LinearAxis\"},{\"attributes\":{\"callback\":null,\"column_names\":[\"right\",\"bottom\",\"top\",\"left\",\"fill_color\"],\"data\":{\"bottom\":[150,50,250,150,250,350,350],\"fill_color\":[\"#61c461\",\"#00ff00\",\"#61c461\",\"#61c461\",\"#61c461\",\"#808080\",\"#61c461\"],\"left\":[135771974,135889881,135915358,136398174,136494186,136501840,136682274],\"right\":[136140304,136382936,135995079,136474098,136765951,136555659,136775898],\"top\":[195,66,296,194,295,398,397]}},\"id\":\"d7fe6d0e-1582-4dea-a243-aa08b8906ffd\",\"type\":\"ColumnDataSource\"},{\"attributes\":{\"active_drag\":\"auto\",\"active_scroll\":\"auto\",\"active_tap\":\"auto\",\"tools\":[{\"id\":\"75b424d1-c197-49b5-95ab-7b899016fde6\",\"type\":\"PanTool\"},{\"id\":\"79995896-0b58-453f-bde4-ebf2e7c262c1\",\"type\":\"WheelZoomTool\"},{\"id\":\"c7de9647-11dd-4420-95ba-7b9ddef16478\",\"type\":\"BoxZoomTool\"},{\"id\":\"bd8ca9a1-dc41-44e2-a397-916d41925185\",\"type\":\"SaveTool\"},{\"id\":\"59f3afad-a24e-4443-9d0f-fadc0ed5b7c1\",\"type\":\"ResetTool\"},{\"id\":\"2838d2c6-bdff-4b76-8d90-7edaa4401314\",\"type\":\"HelpTool\"}]},\"id\":\"418e7a15-7fba-48a2-a64d-a7a30228cf88\",\"type\":\"Toolbar\"},{\"attributes\":{\"bottom\":{\"field\":\"bottom\"},\"fill_color\":{\"value\":\"white\"},\"left\":{\"field\":\"left\"},\"right\":{\"field\":\"right\"},\"top\":{\"field\":\"top\"}},\"id\":\"b52142de-2740-4593-be99-7d7ec317223f\",\"type\":\"Quad\"},{\"attributes\":{\"line_alpha\":{\"value\":0.1},\"line_color\":{\"value\":\"#1f77b4\"},\"xs\":{\"field\":\"xs\"},\"ys\":{\"field\":\"ys\"}},\"id\":\"2b7771b3-bb17-493e-9d54-a9ba3fd7f62f\",\"type\":\"MultiLine\"},{\"attributes\":{\"level\":\"glyph\",\"plot\":{\"id\":\"8510b067-b033-4dc8-b136-c009013a28db\",\"subtype\":\"Figure\",\"type\":\"Plot\"},\"source\":{\"id\":\"d84205d6-70ea-4da3-a2ba-851f9a0d180a\",\"type\":\"ColumnDataSource\"},\"text\":{\"field\":\"vals\"},\"text_font_size\":{\"value\":\"9pt\"},\"text_font_style\":\"bold\",\"x\":{\"field\":\"x\"},\"y\":{\"field\":\"y\"}},\"id\":\"2ede2b22-b674-47fb-a88b-abc8d253852d\",\"type\":\"LabelSet\"},{\"attributes\":{\"dimension\":1,\"plot\":{\"id\":\"8510b067-b033-4dc8-b136-c009013a28db\",\"subtype\":\"Figure\",\"type\":\"Plot\"},\"ticker\":{\"id\":\"d828d82b-5838-4b8a-8f8f-cbc8adf99643\",\"type\":\"BasicTicker\"}},\"id\":\"bfcba98e-9bbc-448e-929f-b9eb8d54cda5\",\"type\":\"Grid\"},{\"attributes\":{\"plot\":null,\"text\":null},\"id\":\"3c268a20-26c0-4b61-a656-75414657ef04\",\"type\":\"Title\"},{\"attributes\":{},\"id\":\"040dc02d-c4dd-47c3-aed3-17464f7ab08d\",\"type\":\"BasicTickFormatter\"},{\"attributes\":{\"data_source\":{\"id\":\"5a0e4c2e-78e8-4885-bdd1-38805a121504\",\"type\":\"ColumnDataSource\"},\"glyph\":{\"id\":\"fe8069f5-9e88-4478-9c46-4084cc005f2c\",\"type\":\"MultiLine\"},\"hover_glyph\":null,\"nonselection_glyph\":{\"id\":\"2b7771b3-bb17-493e-9d54-a9ba3fd7f62f\",\"type\":\"MultiLine\"},\"selection_glyph\":null},\"id\":\"46481f3f-6fc8-4a12-bdbf-a4fcfbcce07a\",\"type\":\"GlyphRenderer\"},{\"attributes\":{\"callback\":null,\"column_names\":[\"right\",\"bottom\",\"top\",\"left\"],\"data\":{\"bottom\":[445,445,445,445,445,445,445],\"left\":[135809835,135957574,136289083,136499189,136545415,136597196,136664254],\"right\":[135928279,136288182,136482839,136542633,136594750,136634047,136743222],\"top\":[475,475,475,475,475,475,475]}},\"id\":\"531ac0eb-9be1-4b2c-bf49-016f2e71cf2b\",\"type\":\"ColumnDataSource\"},{\"attributes\":{\"overlay\":{\"id\":\"d1739a1f-c8bd-4d6f-ba3f-ae2fec639572\",\"type\":\"BoxAnnotation\"},\"plot\":{\"id\":\"8510b067-b033-4dc8-b136-c009013a28db\",\"subtype\":\"Figure\",\"type\":\"Plot\"}},\"id\":\"c7de9647-11dd-4420-95ba-7b9ddef16478\",\"type\":\"BoxZoomTool\"},{\"attributes\":{},\"id\":\"6423b333-b022-493e-b1ff-9f0ab22252e0\",\"type\":\"ToolEvents\"},{\"attributes\":{\"bottom\":{\"field\":\"bottom\"},\"fill_alpha\":{\"value\":0.1},\"fill_color\":{\"value\":\"#1f77b4\"},\"left\":{\"field\":\"left\"},\"line_alpha\":{\"value\":0.1},\"line_color\":{\"value\":\"#1f77b4\"},\"right\":{\"field\":\"right\"},\"top\":{\"field\":\"top\"}},\"id\":\"2e096f70-b5ad-49fa-a952-06dd1aa8fbc1\",\"type\":\"Quad\"},{\"attributes\":{\"below\":[{\"id\":\"0dc93b31-b9af-4684-9ba0-2199663d7340\",\"type\":\"LinearAxis\"}],\"left\":[{\"id\":\"bca57da1-36c5-4e67-8560-c96f468789c3\",\"type\":\"LinearAxis\"}],\"plot_height\":500,\"plot_width\":900,\"renderers\":[{\"id\":\"0dc93b31-b9af-4684-9ba0-2199663d7340\",\"type\":\"LinearAxis\"},{\"id\":\"8741307b-d113-4178-95a2-67151aef5d36\",\"type\":\"Grid\"},{\"id\":\"bca57da1-36c5-4e67-8560-c96f468789c3\",\"type\":\"LinearAxis\"},{\"id\":\"bfcba98e-9bbc-448e-929f-b9eb8d54cda5\",\"type\":\"Grid\"},{\"id\":\"d1739a1f-c8bd-4d6f-ba3f-ae2fec639572\",\"type\":\"BoxAnnotation\"},{\"id\":\"47303935-4885-470e-b42c-3cc489554bab\",\"type\":\"GlyphRenderer\"},{\"id\":\"46481f3f-6fc8-4a12-bdbf-a4fcfbcce07a\",\"type\":\"GlyphRenderer\"},{\"id\":\"2ede2b22-b674-47fb-a88b-abc8d253852d\",\"type\":\"LabelSet\"},{\"id\":\"0dc299b0-4d54-4937-af66-86fd453c7210\",\"type\":\"GlyphRenderer\"},{\"id\":\"f9630ac8-2f07-4bc6-a86a-48e17092f612\",\"type\":\"LabelSet\"}],\"title\":{\"id\":\"3c268a20-26c0-4b61-a656-75414657ef04\",\"type\":\"Title\"},\"tool_events\":{\"id\":\"6423b333-b022-493e-b1ff-9f0ab22252e0\",\"type\":\"ToolEvents\"},\"toolbar\":{\"id\":\"418e7a15-7fba-48a2-a64d-a7a30228cf88\",\"type\":\"Toolbar\"},\"toolbar_location\":null,\"x_range\":{\"id\":\"7674e1c4-e6c1-45ad-a13d-2c09cc5323f0\",\"type\":\"Range1d\"},\"y_range\":{\"id\":\"60285464-7954-4737-8699-cc7dadb110cd\",\"type\":\"Range1d\"}},\"id\":\"8510b067-b033-4dc8-b136-c009013a28db\",\"subtype\":\"Figure\",\"type\":\"Plot\"}],\"root_ids\":[\"8510b067-b033-4dc8-b136-c009013a28db\"]},\"title\":\"Bokeh Application\",\"version\":\"0.12.0\"}};\n",
       "            var render_items = [{\"docid\":\"1ad9fe5e-627a-4d97-b6ad-6eb163a1d558\",\"elementid\":\"80ac4db3-a3b6-4e6a-991c-5d8cf1998c96\",\"modelid\":\"8510b067-b033-4dc8-b136-c009013a28db\",\"notebook_comms_target\":\"8362f045-3ba9-4e38-9846-86126e07dd9c\"}];\n",
       "            \n",
       "            Bokeh.embed.embed_items(docs_json, render_items);\n",
       "        });\n",
       "      },\n",
       "      function(Bokeh) {\n",
       "      }\n",
       "    ];\n",
       "  \n",
       "    function run_inline_js() {\n",
       "      for (var i = 0; i < inline_js.length; i++) {\n",
       "        inline_js[i](window.Bokeh);\n",
       "      }\n",
       "    }\n",
       "  \n",
       "    if (window._bokeh_is_loading === 0) {\n",
       "      console.log(\"Bokeh: BokehJS loaded, going straight to plotting\");\n",
       "      run_inline_js();\n",
       "    } else {\n",
       "      load_libs(js_urls, function() {\n",
       "        console.log(\"Bokeh: BokehJS plotting callback run at\", now());\n",
       "        run_inline_js();\n",
       "      });\n",
       "    }\n",
       "  }(this));\n",
       "</script>"
      ]
     },
     "metadata": {},
     "output_type": "display_data"
    },
    {
     "data": {
      "text/html": [
       "<p><code>&lt;Bokeh Notebook handle for <strong>In[5]</strong>&gt;</code></p>"
      ],
      "text/plain": [
       "<bokeh.io._CommsHandle at 0x7fb5f130ad10>"
      ]
     },
     "execution_count": 5,
     "metadata": {},
     "output_type": "execute_result"
    }
   ],
   "source": [
    "plt_obj = dm.superset_yes_no([di_6_57, dm.di_26_1414, dm.di_10_2206, dm.di_64_1575, dm.di_7_1868], \n",
    "                             min_match=0.001)\n",
    "plt = plt_obj.do_plot()\n",
    "show(plt)"
   ]
  },
  {
   "cell_type": "code",
   "execution_count": 6,
   "metadata": {
    "collapsed": false
   },
   "outputs": [
    {
     "data": {
      "text/html": [
       "<table>\n",
       "<thead><tr><th style=\"text-align:center\">index</th><th style=\"text-align:center\">first</th><th style=\"text-align:center\">length</th><th style=\"text-align:center\">snps</th><th style=\"text-align:center\" colspan=2>alleles</th><th style=\"text-align:center\" colspan=2>matches</th><th style=\"text-align:center\" colspan=2>afr</th><th style=\"text-align:center\" colspan=2>afx</th><th style=\"text-align:center\" colspan=2>amr</th><th style=\"text-align:center\" colspan=2>eas</th><th style=\"text-align:center\" colspan=2>eur</th><th style=\"text-align:center\" colspan=2>sas</th><th style=\"text-align:center\" colspan=2>sax</th></tr></thead>\n",
       "<tr class=\"even\"><td style=\"text-align: right;\">353921</td><td style=\"text-align: right;\">136,501,840</td><td style=\"text-align: right;\">53,819</td><td style=\"text-align: right;\">10</td><td style=\"text-align: right;\">2206</td><td style=\"text-align: right;\">0.01</td><td style=\"text-align: right;\">22</td><td style=\"text-align: right;\">1.00</td><td style=\"text-align: right;\">2</td><td style=\"text-align: right;\">0.45</td><td style=\"text-align: right;\">1</td><td style=\"text-align: right;\">0.72</td><td style=\"text-align: right;\">6</td><td style=\"text-align: right;\">1.97</td><td style=\"text-align: right;\">0</td><td style=\"text-align: right;\">0.00</td><td style=\"text-align: right;\">9</td><td style=\"text-align: right;\">2.04</td><td style=\"text-align: right;\">2</td><td style=\"text-align: right;\">1.25</td><td style=\"text-align: right;\">2</td><td style=\"text-align: right;\">0.74</td></tr>\n",
       "<tr><td style=\"text-align: right;\">354170</td><td style=\"text-align: right;\">136,682,274</td><td style=\"text-align: right;\">93,624</td><td style=\"text-align: right;\">7</td><td style=\"text-align: right;\">1868</td><td style=\"text-align: right;\">0.01</td><td style=\"text-align: right;\">22</td><td style=\"text-align: right;\">1.00</td><td style=\"text-align: right;\">2</td><td style=\"text-align: right;\">0.45</td><td style=\"text-align: right;\">1</td><td style=\"text-align: right;\">0.72</td><td style=\"text-align: right;\">6</td><td style=\"text-align: right;\">1.97</td><td style=\"text-align: right;\">0</td><td style=\"text-align: right;\">0.00</td><td style=\"text-align: right;\">9</td><td style=\"text-align: right;\">2.04</td><td style=\"text-align: right;\">2</td><td style=\"text-align: right;\">1.25</td><td style=\"text-align: right;\">2</td><td style=\"text-align: right;\">0.74</td></tr>\n",
       "<tr class=\"even\"><td style=\"text-align: right;\">353462</td><td style=\"text-align: right;\">135,915,358</td><td style=\"text-align: right;\">79,721</td><td style=\"text-align: right;\">4</td><td style=\"text-align: right;\">1699</td><td style=\"text-align: right;\">0.01</td><td style=\"text-align: right;\">22</td><td style=\"text-align: right;\">1.00</td><td style=\"text-align: right;\">2</td><td style=\"text-align: right;\">0.45</td><td style=\"text-align: right;\">1</td><td style=\"text-align: right;\">0.72</td><td style=\"text-align: right;\">6</td><td style=\"text-align: right;\">1.97</td><td style=\"text-align: right;\">0</td><td style=\"text-align: right;\">0.00</td><td style=\"text-align: right;\">9</td><td style=\"text-align: right;\">2.04</td><td style=\"text-align: right;\">2</td><td style=\"text-align: right;\">1.25</td><td style=\"text-align: right;\">2</td><td style=\"text-align: right;\">0.74</td></tr>\n",
       "<tr><td style=\"text-align: right;\">353901</td><td style=\"text-align: right;\">136,494,186</td><td style=\"text-align: right;\">271,765</td><td style=\"text-align: right;\">64</td><td style=\"text-align: right;\">1575</td><td style=\"text-align: right;\">0.01</td><td style=\"text-align: right;\">22</td><td style=\"text-align: right;\">1.00</td><td style=\"text-align: right;\">2</td><td style=\"text-align: right;\">0.45</td><td style=\"text-align: right;\">1</td><td style=\"text-align: right;\">0.72</td><td style=\"text-align: right;\">6</td><td style=\"text-align: right;\">1.97</td><td style=\"text-align: right;\">0</td><td style=\"text-align: right;\">0.00</td><td style=\"text-align: right;\">9</td><td style=\"text-align: right;\">2.04</td><td style=\"text-align: right;\">2</td><td style=\"text-align: right;\">1.25</td><td style=\"text-align: right;\">2</td><td style=\"text-align: right;\">0.74</td></tr>\n",
       "<tr class=\"even\"><td style=\"text-align: right;\">353283</td><td style=\"text-align: right;\">135,771,974</td><td style=\"text-align: right;\">368,330</td><td style=\"text-align: right;\">6</td><td style=\"text-align: right;\">1503</td><td style=\"text-align: right;\">0.01</td><td style=\"text-align: right;\">22</td><td style=\"text-align: right;\">1.00</td><td style=\"text-align: right;\">2</td><td style=\"text-align: right;\">0.45</td><td style=\"text-align: right;\">1</td><td style=\"text-align: right;\">0.72</td><td style=\"text-align: right;\">6</td><td style=\"text-align: right;\">1.97</td><td style=\"text-align: right;\">0</td><td style=\"text-align: right;\">0.00</td><td style=\"text-align: right;\">9</td><td style=\"text-align: right;\">2.04</td><td style=\"text-align: right;\">2</td><td style=\"text-align: right;\">1.25</td><td style=\"text-align: right;\">2</td><td style=\"text-align: right;\">0.74</td></tr>\n",
       "<tr><td style=\"text-align: right;\">353797</td><td style=\"text-align: right;\">136,398,174</td><td style=\"text-align: right;\">75,924</td><td style=\"text-align: right;\">26</td><td style=\"text-align: right;\">1414</td><td style=\"text-align: right;\">0.02</td><td style=\"text-align: right;\">22</td><td style=\"text-align: right;\">1.00</td><td style=\"text-align: right;\">2</td><td style=\"text-align: right;\">0.45</td><td style=\"text-align: right;\">1</td><td style=\"text-align: right;\">0.72</td><td style=\"text-align: right;\">6</td><td style=\"text-align: right;\">1.97</td><td style=\"text-align: right;\">0</td><td style=\"text-align: right;\">0.00</td><td style=\"text-align: right;\">9</td><td style=\"text-align: right;\">2.04</td><td style=\"text-align: right;\">2</td><td style=\"text-align: right;\">1.25</td><td style=\"text-align: right;\">2</td><td style=\"text-align: right;\">0.74</td></tr>\n",
       "<tr class=\"even\"><td style=\"text-align: right;\">353444</td><td style=\"text-align: right;\">135,889,881</td><td style=\"text-align: right;\">493,055</td><td style=\"text-align: right;\">6</td><td style=\"text-align: right;\">57</td><td style=\"text-align: right;\">0.39</td><td style=\"text-align: right;\">22</td><td style=\"text-align: right;\">1.00</td><td style=\"text-align: right;\">2</td><td style=\"text-align: right;\">0.45</td><td style=\"text-align: right;\">1</td><td style=\"text-align: right;\">0.72</td><td style=\"text-align: right;\">6</td><td style=\"text-align: right;\">1.97</td><td style=\"text-align: right;\">0</td><td style=\"text-align: right;\">0.00</td><td style=\"text-align: right;\">9</td><td style=\"text-align: right;\">2.04</td><td style=\"text-align: right;\">2</td><td style=\"text-align: right;\">1.25</td><td style=\"text-align: right;\">2</td><td style=\"text-align: right;\">0.74</td></tr>\n",
       "</table>"
      ],
      "text/plain": [
       "<IPython.core.display.HTML object>"
      ]
     },
     "execution_count": 6,
     "metadata": {},
     "output_type": "execute_result"
    }
   ],
   "source": [
    "HTML(plt_obj.get_html())"
   ]
  },
  {
   "cell_type": "code",
   "execution_count": 7,
   "metadata": {
    "collapsed": false
   },
   "outputs": [
    {
     "data": {
      "text/html": [
       "\n",
       "\n",
       "    <div class=\"bk-root\">\n",
       "        <div class=\"plotdiv\" id=\"1cfdcfe7-5695-46f6-8d5b-9fb614920c80\"></div>\n",
       "    </div>\n",
       "<script type=\"text/javascript\">\n",
       "  \n",
       "  (function(global) {\n",
       "    function now() {\n",
       "      return new Date();\n",
       "    }\n",
       "  \n",
       "    if (typeof (window._bokeh_onload_callbacks) === \"undefined\") {\n",
       "      window._bokeh_onload_callbacks = [];\n",
       "    }\n",
       "  \n",
       "    function run_callbacks() {\n",
       "      window._bokeh_onload_callbacks.forEach(function(callback) { callback() });\n",
       "      delete window._bokeh_onload_callbacks\n",
       "      console.info(\"Bokeh: all callbacks have finished\");\n",
       "    }\n",
       "  \n",
       "    function load_libs(js_urls, callback) {\n",
       "      window._bokeh_onload_callbacks.push(callback);\n",
       "      if (window._bokeh_is_loading > 0) {\n",
       "        console.log(\"Bokeh: BokehJS is being loaded, scheduling callback at\", now());\n",
       "        return null;\n",
       "      }\n",
       "      if (js_urls == null || js_urls.length === 0) {\n",
       "        run_callbacks();\n",
       "        return null;\n",
       "      }\n",
       "      console.log(\"Bokeh: BokehJS not loaded, scheduling load and callback at\", now());\n",
       "      window._bokeh_is_loading = js_urls.length;\n",
       "      for (var i = 0; i < js_urls.length; i++) {\n",
       "        var url = js_urls[i];\n",
       "        var s = document.createElement('script');\n",
       "        s.src = url;\n",
       "        s.async = false;\n",
       "        s.onreadystatechange = s.onload = function() {\n",
       "          window._bokeh_is_loading--;\n",
       "          if (window._bokeh_is_loading === 0) {\n",
       "            console.log(\"Bokeh: all BokehJS libraries loaded\");\n",
       "            run_callbacks()\n",
       "          }\n",
       "        };\n",
       "        s.onerror = function() {\n",
       "          console.warn(\"failed to load library \" + url);\n",
       "        };\n",
       "        console.log(\"Bokeh: injecting script tag for BokehJS library: \", url);\n",
       "        document.getElementsByTagName(\"head\")[0].appendChild(s);\n",
       "      }\n",
       "    };var element = document.getElementById(\"1cfdcfe7-5695-46f6-8d5b-9fb614920c80\");\n",
       "    if (element == null) {\n",
       "      console.log(\"Bokeh: ERROR: autoload.js configured with elementid '1cfdcfe7-5695-46f6-8d5b-9fb614920c80' but no matching script tag was found. \")\n",
       "      return false;\n",
       "    }\n",
       "  \n",
       "    var js_urls = [];\n",
       "  \n",
       "    var inline_js = [\n",
       "      function(Bokeh) {\n",
       "        Bokeh.$(function() {\n",
       "            var docs_json = {\"3740fda7-5467-4973-be65-deaa59b5d45e\":{\"roots\":{\"references\":[{\"attributes\":{\"callback\":null,\"column_names\":[\"right\",\"bottom\",\"top\",\"left\",\"fill_color\"],\"data\":{\"bottom\":[150,50,250,150,150,250],\"fill_color\":[\"#61c461\",\"#00ff00\",\"#61c461\",\"#61c461\",\"#61c461\",\"#808080\"],\"left\":[135771974,135889881,135915358,136398174,136494186,136501840],\"right\":[136140304,136382936,135995079,136474098,136765951,136555659],\"top\":[195,66,296,194,195,298]}},\"id\":\"967d0044-a254-4488-be05-8e16f13a2cee\",\"type\":\"ColumnDataSource\"},{\"attributes\":{\"bottom\":{\"field\":\"bottom\"},\"fill_alpha\":{\"value\":0.1},\"fill_color\":{\"value\":\"#1f77b4\"},\"left\":{\"field\":\"left\"},\"line_alpha\":{\"value\":0.1},\"line_color\":{\"value\":\"#1f77b4\"},\"right\":{\"field\":\"right\"},\"top\":{\"field\":\"top\"}},\"id\":\"bd1ebb1e-6091-4e7f-bb8e-6fd214ebe808\",\"type\":\"Quad\"},{\"attributes\":{\"data_source\":{\"id\":\"3e919408-a532-406e-94db-cd30c3cee198\",\"type\":\"ColumnDataSource\"},\"glyph\":{\"id\":\"061db1e7-aaa9-4bdb-a845-fc1f64303d99\",\"type\":\"Quad\"},\"hover_glyph\":null,\"nonselection_glyph\":{\"id\":\"0280103a-2186-4caf-ab0e-0bc6f5e81e37\",\"type\":\"Quad\"},\"selection_glyph\":null},\"id\":\"819fb2c8-0f92-4869-9f1e-19074127d3f9\",\"type\":\"GlyphRenderer\"},{\"attributes\":{\"plot\":{\"id\":\"e6789a09-d04c-4843-a751-768f007f3851\",\"subtype\":\"Figure\",\"type\":\"Plot\"}},\"id\":\"82394e35-3aa5-4112-b9ee-94deb143d45b\",\"type\":\"ResetTool\"},{\"attributes\":{},\"id\":\"a35c998e-eb13-4016-aff8-59a7f72542d4\",\"type\":\"BasicTicker\"},{\"attributes\":{\"callback\":null,\"column_names\":[\"xs\",\"ys\",\"line_color\"],\"data\":{\"line_color\":[\"black\",\"black\",\"black\",\"black\",\"black\",\"black\",\"black\",\"black\",\"black\",\"black\",\"black\",\"black\",\"black\",\"black\",\"black\",\"black\",\"black\",\"black\",\"black\",\"black\",\"black\",\"black\",\"black\",\"black\",\"black\",\"black\",\"black\",\"black\",\"black\",\"black\",\"black\",\"black\",\"black\",\"black\",\"black\",\"black\",\"black\",\"black\",\"black\",\"black\",\"black\",\"black\",\"black\",\"black\",\"black\",\"black\",\"black\",\"black\",\"black\",\"black\",\"black\",\"black\",\"black\",\"black\",\"black\",\"black\",\"black\",\"black\",\"black\",\"black\",\"black\",\"black\",\"black\",\"black\",\"black\",\"black\",\"black\",\"black\",\"black\",\"black\",\"black\",\"black\",\"black\",\"black\",\"black\",\"black\",\"black\",\"black\",\"black\",\"black\",\"black\",\"black\",\"black\",\"black\",\"black\",\"black\",\"black\",\"black\",\"black\",\"black\",\"black\",\"black\",\"black\",\"black\",\"black\",\"black\",\"black\",\"black\",\"black\",\"black\",\"black\",\"black\",\"black\",\"black\",\"black\",\"black\",\"black\",\"black\",\"black\",\"black\",\"black\",\"black\",\"black\",\"black\",\"black\",\"black\"],\"xs\":[[135771974,135771974],[135859371,135859371],[135877562,135877562],[136022798,136022798],[136058820,136058820],[136140304,136140304],[135889881,135889881],[135956309,135956309],[136088389,136088389],[136323321,136323321],[136361384,136361384],[136382936,136382936],[135915358,135915358],[135954405,135954405],[135995073,135995073],[135995079,135995079],[136398174,136398174],[136402117,136402117],[136403749,136403749],[136409073,136409073],[136410299,136410299],[136413359,136413359],[136416855,136416855],[136416941,136416941],[136418348,136418348],[136419961,136419961],[136420690,136420690],[136422171,136422171],[136428460,136428460],[136430866,136430866],[136432103,136432103],[136437507,136437507],[136439090,136439090],[136439517,136439517],[136444123,136444123],[136445526,136445526],[136445869,136445869],[136455600,136455600],[136456642,136456642],[136462441,136462441],[136470714,136470714],[136474098,136474098],[136494186,136494186],[136495300,136495300],[136495619,136495619],[136499166,136499166],[136502792,136502792],[136503157,136503157],[136507039,136507039],[136511575,136511575],[136518103,136518103],[136521514,136521514],[136522675,136522675],[136522941,136522941],[136526981,136526981],[136535410,136535410],[136539122,136539122],[136544197,136544197],[136550109,136550109],[136551694,136551694],[136553188,136553188],[136553639,136553639],[136554800,136554800],[136557319,136557319],[136558157,136558157],[136569848,136569848],[136575199,136575199],[136576577,136576577],[136578536,136578536],[136580287,136580287],[136583192,136583192],[136586958,136586958],[136588478,136588478],[136589612,136589612],[136591178,136591178],[136591859,136591859],[136593760,136593760],[136594158,136594158],[136603276,136603276],[136603366,136603366],[136608231,136608231],[136609975,136609975],[136610598,136610598],[136611624,136611624],[136613780,136613780],[136614255,136614255],[136614813,136614813],[136617524,136617524],[136622216,136622216],[136625602,136625602],[136629911,136629911],[136630757,136630757],[136630989,136630989],[136631031,136631031],[136633771,136633771],[136636324,136636324],[136638216,136638216],[136640233,136640233],[136641882,136641882],[136643555,136643555],[136658345,136658345],[136670298,136670298],[136685228,136685228],[136696138,136696138],[136740900,136740900],[136765951,136765951],[136501840,136501840],[136505546,136505546],[136516748,136516748],[136522710,136522710],[136528004,136528004],[136539513,136539513],[136544752,136544752],[136546110,136546110],[136553529,136553529],[136555659,136555659]],\"ys\":[[150,195],[150,195],[150,195],[150,195],[150,195],[150,195],[50,66],[50,66],[50,66],[50,66],[50,66],[50,66],[250,296],[250,296],[250,296],[250,296],[150,194],[150,194],[150,194],[150,194],[150,194],[150,194],[150,194],[150,194],[150,194],[150,194],[150,194],[150,194],[150,194],[150,194],[150,194],[150,194],[150,194],[150,194],[150,194],[150,194],[150,194],[150,194],[150,194],[150,194],[150,194],[150,194],[150,195],[150,195],[150,195],[150,195],[150,195],[150,195],[150,195],[150,195],[150,195],[150,195],[150,195],[150,195],[150,195],[150,195],[150,195],[150,195],[150,195],[150,195],[150,195],[150,195],[150,195],[150,195],[150,195],[150,195],[150,195],[150,195],[150,195],[150,195],[150,195],[150,195],[150,195],[150,195],[150,195],[150,195],[150,195],[150,195],[150,195],[150,195],[150,195],[150,195],[150,195],[150,195],[150,195],[150,195],[150,195],[150,195],[150,195],[150,195],[150,195],[150,195],[150,195],[150,195],[150,195],[150,195],[150,195],[150,195],[150,195],[150,195],[150,195],[150,195],[150,195],[150,195],[150,195],[150,195],[250,298],[250,298],[250,298],[250,298],[250,298],[250,298],[250,298],[250,298],[250,298],[250,298]]}},\"id\":\"9ee8ef9e-4925-469d-9c68-0f96fcd0081e\",\"type\":\"ColumnDataSource\"},{\"attributes\":{\"plot\":{\"id\":\"e6789a09-d04c-4843-a751-768f007f3851\",\"subtype\":\"Figure\",\"type\":\"Plot\"}},\"id\":\"f832f920-a171-4e62-9920-16ce42bc5a7f\",\"type\":\"PanTool\"},{\"attributes\":{\"level\":\"glyph\",\"plot\":{\"id\":\"e6789a09-d04c-4843-a751-768f007f3851\",\"subtype\":\"Figure\",\"type\":\"Plot\"},\"source\":{\"id\":\"f6c5f929-79bc-4ada-8ac6-3a0311919731\",\"type\":\"ColumnDataSource\"},\"text\":{\"field\":\"vals\"},\"text_align\":\"center\",\"text_baseline\":\"middle\",\"text_font_size\":{\"value\":\"8pt\"},\"x\":{\"field\":\"x\"},\"y\":{\"field\":\"y\"}},\"id\":\"5c892ed0-fd26-49c1-861e-8404f3e88a8b\",\"type\":\"LabelSet\"},{\"attributes\":{\"bottom\":{\"field\":\"bottom\"},\"fill_color\":{\"value\":\"white\"},\"left\":{\"field\":\"left\"},\"right\":{\"field\":\"right\"},\"top\":{\"field\":\"top\"}},\"id\":\"061db1e7-aaa9-4bdb-a845-fc1f64303d99\",\"type\":\"Quad\"},{\"attributes\":{\"plot\":null,\"text\":null},\"id\":\"a4f0c888-fd82-4031-8474-ec9663d35cfc\",\"type\":\"Title\"},{\"attributes\":{\"formatter\":{\"id\":\"fc24f7d1-5370-49fd-a7ea-f060bca372b2\",\"type\":\"BasicTickFormatter\"},\"plot\":{\"id\":\"e6789a09-d04c-4843-a751-768f007f3851\",\"subtype\":\"Figure\",\"type\":\"Plot\"},\"ticker\":{\"id\":\"31c9a53b-32ba-496d-82a5-3704a3f89a24\",\"type\":\"BasicTicker\"},\"visible\":null},\"id\":\"1420bfa5-f801-4f1e-8c77-7ea65e7efc8a\",\"type\":\"LinearAxis\"},{\"attributes\":{\"plot\":{\"id\":\"e6789a09-d04c-4843-a751-768f007f3851\",\"subtype\":\"Figure\",\"type\":\"Plot\"}},\"id\":\"be328088-0ff7-4b9c-9dd8-4daba5bacdce\",\"type\":\"HelpTool\"},{\"attributes\":{\"callback\":null,\"column_names\":[\"y\",\"x\",\"vals\"],\"data\":{\"vals\":[\"RAB3GAP1\",\"ZRANB3\",\"R3HDM1\",\"UBXN4\",\"LCT\",\"MCM6\",\"DARS\"],\"x\":[135869057.0,136122878.0,136385961.0,136520911.0,136570082.5,136615621.5,136703738.0],\"y\":[360.0,360.0,360.0,360.0,360.0,360.0,360.0]}},\"id\":\"f6c5f929-79bc-4ada-8ac6-3a0311919731\",\"type\":\"ColumnDataSource\"},{\"attributes\":{\"plot\":{\"id\":\"e6789a09-d04c-4843-a751-768f007f3851\",\"subtype\":\"Figure\",\"type\":\"Plot\"},\"ticker\":{\"id\":\"a35c998e-eb13-4016-aff8-59a7f72542d4\",\"type\":\"BasicTicker\"}},\"id\":\"835889ab-fb43-4210-b49f-2b80bb0b4fda\",\"type\":\"Grid\"},{\"attributes\":{\"bottom\":{\"field\":\"bottom\"},\"fill_alpha\":{\"value\":0.1},\"fill_color\":{\"value\":\"#1f77b4\"},\"left\":{\"field\":\"left\"},\"line_alpha\":{\"value\":0.1},\"line_color\":{\"value\":\"#1f77b4\"},\"right\":{\"field\":\"right\"},\"top\":{\"field\":\"top\"}},\"id\":\"0280103a-2186-4caf-ab0e-0bc6f5e81e37\",\"type\":\"Quad\"},{\"attributes\":{\"callback\":null,\"end\":136786630,\"start\":135757320},\"id\":\"9f4c77fc-25ef-4f98-be0e-94604522377e\",\"type\":\"Range1d\"},{\"attributes\":{\"bottom\":{\"field\":\"bottom\"},\"fill_color\":{\"field\":\"fill_color\"},\"left\":{\"field\":\"left\"},\"line_color\":{\"value\":null},\"right\":{\"field\":\"right\"},\"top\":{\"field\":\"top\"}},\"id\":\"1cfafbb8-4e6d-4c7b-8122-c4fc80b55753\",\"type\":\"Quad\"},{\"attributes\":{\"line_alpha\":{\"value\":0.1},\"line_color\":{\"value\":\"#1f77b4\"},\"xs\":{\"field\":\"xs\"},\"ys\":{\"field\":\"ys\"}},\"id\":\"3ab8631c-3426-4a35-b8fd-d06cebe2045f\",\"type\":\"MultiLine\"},{\"attributes\":{},\"id\":\"fc24f7d1-5370-49fd-a7ea-f060bca372b2\",\"type\":\"BasicTickFormatter\"},{\"attributes\":{\"level\":\"glyph\",\"plot\":{\"id\":\"e6789a09-d04c-4843-a751-768f007f3851\",\"subtype\":\"Figure\",\"type\":\"Plot\"},\"source\":{\"id\":\"19f71567-2020-4839-877a-2f2c944253a2\",\"type\":\"ColumnDataSource\"},\"text\":{\"field\":\"vals\"},\"text_font_size\":{\"value\":\"9pt\"},\"text_font_style\":\"bold\",\"x\":{\"field\":\"x\"},\"y\":{\"field\":\"y\"}},\"id\":\"07ce3598-38a9-4d19-8d43-e1bf8ae3d553\",\"type\":\"LabelSet\"},{\"attributes\":{\"callback\":null,\"end\":400},\"id\":\"12ddc427-957a-4d02-95c9-b6052531ee18\",\"type\":\"Range1d\"},{\"attributes\":{\"callback\":null,\"column_names\":[\"right\",\"bottom\",\"top\",\"left\"],\"data\":{\"bottom\":[345,345,345,345,345,345,345],\"left\":[135809835,135957574,136289083,136499189,136545415,136597196,136664254],\"right\":[135928279,136288182,136482839,136542633,136594750,136634047,136743222],\"top\":[375,375,375,375,375,375,375]}},\"id\":\"3e919408-a532-406e-94db-cd30c3cee198\",\"type\":\"ColumnDataSource\"},{\"attributes\":{\"plot\":{\"id\":\"e6789a09-d04c-4843-a751-768f007f3851\",\"subtype\":\"Figure\",\"type\":\"Plot\"}},\"id\":\"f1f4a622-7a2e-40be-82a0-00bf3a86980b\",\"type\":\"WheelZoomTool\"},{\"attributes\":{\"bottom_units\":\"screen\",\"fill_alpha\":{\"value\":0.5},\"fill_color\":{\"value\":\"lightgrey\"},\"left_units\":\"screen\",\"level\":\"overlay\",\"line_alpha\":{\"value\":1.0},\"line_color\":{\"value\":\"black\"},\"line_dash\":[4,4],\"line_width\":{\"value\":2},\"plot\":null,\"render_mode\":\"css\",\"right_units\":\"screen\",\"top_units\":\"screen\"},\"id\":\"59f54b19-f14d-4ab7-9783-1341b1a05b0f\",\"type\":\"BoxAnnotation\"},{\"attributes\":{\"data_source\":{\"id\":\"9ee8ef9e-4925-469d-9c68-0f96fcd0081e\",\"type\":\"ColumnDataSource\"},\"glyph\":{\"id\":\"a545fc9c-dd41-47e7-9e4a-c97ae2234f6f\",\"type\":\"MultiLine\"},\"hover_glyph\":null,\"nonselection_glyph\":{\"id\":\"3ab8631c-3426-4a35-b8fd-d06cebe2045f\",\"type\":\"MultiLine\"},\"selection_glyph\":null},\"id\":\"d839299b-ff12-4303-9ea6-0665c769b146\",\"type\":\"GlyphRenderer\"},{\"attributes\":{\"overlay\":{\"id\":\"59f54b19-f14d-4ab7-9783-1341b1a05b0f\",\"type\":\"BoxAnnotation\"},\"plot\":{\"id\":\"e6789a09-d04c-4843-a751-768f007f3851\",\"subtype\":\"Figure\",\"type\":\"Plot\"}},\"id\":\"1df4c333-fc65-470d-a26f-8c405c5370ae\",\"type\":\"BoxZoomTool\"},{\"attributes\":{\"active_drag\":\"auto\",\"active_scroll\":\"auto\",\"active_tap\":\"auto\",\"tools\":[{\"id\":\"f832f920-a171-4e62-9920-16ce42bc5a7f\",\"type\":\"PanTool\"},{\"id\":\"f1f4a622-7a2e-40be-82a0-00bf3a86980b\",\"type\":\"WheelZoomTool\"},{\"id\":\"1df4c333-fc65-470d-a26f-8c405c5370ae\",\"type\":\"BoxZoomTool\"},{\"id\":\"ea7df53f-add3-49b1-947e-1645d00b7598\",\"type\":\"SaveTool\"},{\"id\":\"82394e35-3aa5-4112-b9ee-94deb143d45b\",\"type\":\"ResetTool\"},{\"id\":\"be328088-0ff7-4b9c-9dd8-4daba5bacdce\",\"type\":\"HelpTool\"}]},\"id\":\"2978cc75-f62c-4bbf-a6f2-6c1501a6e2c7\",\"type\":\"Toolbar\"},{\"attributes\":{\"formatter\":{\"id\":\"e4cf442f-f82f-45cc-9fd3-037274ee60ae\",\"type\":\"BasicTickFormatter\"},\"plot\":{\"id\":\"e6789a09-d04c-4843-a751-768f007f3851\",\"subtype\":\"Figure\",\"type\":\"Plot\"},\"ticker\":{\"id\":\"a35c998e-eb13-4016-aff8-59a7f72542d4\",\"type\":\"BasicTicker\"}},\"id\":\"27f21efd-81fa-46b9-9cf4-d50915f99d49\",\"type\":\"LinearAxis\"},{\"attributes\":{\"below\":[{\"id\":\"27f21efd-81fa-46b9-9cf4-d50915f99d49\",\"type\":\"LinearAxis\"}],\"left\":[{\"id\":\"1420bfa5-f801-4f1e-8c77-7ea65e7efc8a\",\"type\":\"LinearAxis\"}],\"plot_height\":400,\"plot_width\":900,\"renderers\":[{\"id\":\"27f21efd-81fa-46b9-9cf4-d50915f99d49\",\"type\":\"LinearAxis\"},{\"id\":\"835889ab-fb43-4210-b49f-2b80bb0b4fda\",\"type\":\"Grid\"},{\"id\":\"1420bfa5-f801-4f1e-8c77-7ea65e7efc8a\",\"type\":\"LinearAxis\"},{\"id\":\"367a2658-f46f-44c6-95ad-ec10c04b233a\",\"type\":\"Grid\"},{\"id\":\"59f54b19-f14d-4ab7-9783-1341b1a05b0f\",\"type\":\"BoxAnnotation\"},{\"id\":\"49b7a918-d73b-45f1-bd04-5604e620c071\",\"type\":\"GlyphRenderer\"},{\"id\":\"d839299b-ff12-4303-9ea6-0665c769b146\",\"type\":\"GlyphRenderer\"},{\"id\":\"07ce3598-38a9-4d19-8d43-e1bf8ae3d553\",\"type\":\"LabelSet\"},{\"id\":\"819fb2c8-0f92-4869-9f1e-19074127d3f9\",\"type\":\"GlyphRenderer\"},{\"id\":\"5c892ed0-fd26-49c1-861e-8404f3e88a8b\",\"type\":\"LabelSet\"}],\"title\":{\"id\":\"a4f0c888-fd82-4031-8474-ec9663d35cfc\",\"type\":\"Title\"},\"tool_events\":{\"id\":\"a1129729-eae2-48e2-9217-818acec1ad59\",\"type\":\"ToolEvents\"},\"toolbar\":{\"id\":\"2978cc75-f62c-4bbf-a6f2-6c1501a6e2c7\",\"type\":\"Toolbar\"},\"toolbar_location\":null,\"x_range\":{\"id\":\"9f4c77fc-25ef-4f98-be0e-94604522377e\",\"type\":\"Range1d\"},\"y_range\":{\"id\":\"12ddc427-957a-4d02-95c9-b6052531ee18\",\"type\":\"Range1d\"}},\"id\":\"e6789a09-d04c-4843-a751-768f007f3851\",\"subtype\":\"Figure\",\"type\":\"Plot\"},{\"attributes\":{\"line_color\":{\"field\":\"line_color\"},\"xs\":{\"field\":\"xs\"},\"ys\":{\"field\":\"ys\"}},\"id\":\"a545fc9c-dd41-47e7-9e4a-c97ae2234f6f\",\"type\":\"MultiLine\"},{\"attributes\":{},\"id\":\"31c9a53b-32ba-496d-82a5-3704a3f89a24\",\"type\":\"BasicTicker\"},{\"attributes\":{\"dimension\":1,\"plot\":{\"id\":\"e6789a09-d04c-4843-a751-768f007f3851\",\"subtype\":\"Figure\",\"type\":\"Plot\"},\"ticker\":{\"id\":\"31c9a53b-32ba-496d-82a5-3704a3f89a24\",\"type\":\"BasicTicker\"}},\"id\":\"367a2658-f46f-44c6-95ad-ec10c04b233a\",\"type\":\"Grid\"},{\"attributes\":{\"data_source\":{\"id\":\"967d0044-a254-4488-be05-8e16f13a2cee\",\"type\":\"ColumnDataSource\"},\"glyph\":{\"id\":\"1cfafbb8-4e6d-4c7b-8122-c4fc80b55753\",\"type\":\"Quad\"},\"hover_glyph\":null,\"nonselection_glyph\":{\"id\":\"bd1ebb1e-6091-4e7f-bb8e-6fd214ebe808\",\"type\":\"Quad\"},\"selection_glyph\":null},\"id\":\"49b7a918-d73b-45f1-bd04-5604e620c071\",\"type\":\"GlyphRenderer\"},{\"attributes\":{\"callback\":null,\"column_names\":[\"y\",\"x\",\"vals\"],\"data\":{\"vals\":[\"6_1503\",\"6_57\",\"4_1699\",\"26_1414\",\"64_1575\",\"10_2206\"],\"x\":[135771974,135889881,135915358,136398174,136494186,136501840],\"y\":[200.0,71.0,301.0,199.0,200.0,303.0]}},\"id\":\"19f71567-2020-4839-877a-2f2c944253a2\",\"type\":\"ColumnDataSource\"},{\"attributes\":{},\"id\":\"a1129729-eae2-48e2-9217-818acec1ad59\",\"type\":\"ToolEvents\"},{\"attributes\":{},\"id\":\"e4cf442f-f82f-45cc-9fd3-037274ee60ae\",\"type\":\"BasicTickFormatter\"},{\"attributes\":{\"plot\":{\"id\":\"e6789a09-d04c-4843-a751-768f007f3851\",\"subtype\":\"Figure\",\"type\":\"Plot\"}},\"id\":\"ea7df53f-add3-49b1-947e-1645d00b7598\",\"type\":\"SaveTool\"}],\"root_ids\":[\"e6789a09-d04c-4843-a751-768f007f3851\"]},\"title\":\"Bokeh Application\",\"version\":\"0.12.0\"}};\n",
       "            var render_items = [{\"docid\":\"3740fda7-5467-4973-be65-deaa59b5d45e\",\"elementid\":\"1cfdcfe7-5695-46f6-8d5b-9fb614920c80\",\"modelid\":\"e6789a09-d04c-4843-a751-768f007f3851\",\"notebook_comms_target\":\"1d57d561-bbd8-466b-bb23-3268250a3e3a\"}];\n",
       "            \n",
       "            Bokeh.embed.embed_items(docs_json, render_items);\n",
       "        });\n",
       "      },\n",
       "      function(Bokeh) {\n",
       "      }\n",
       "    ];\n",
       "  \n",
       "    function run_inline_js() {\n",
       "      for (var i = 0; i < inline_js.length; i++) {\n",
       "        inline_js[i](window.Bokeh);\n",
       "      }\n",
       "    }\n",
       "  \n",
       "    if (window._bokeh_is_loading === 0) {\n",
       "      console.log(\"Bokeh: BokehJS loaded, going straight to plotting\");\n",
       "      run_inline_js();\n",
       "    } else {\n",
       "      load_libs(js_urls, function() {\n",
       "        console.log(\"Bokeh: BokehJS plotting callback run at\", now());\n",
       "        run_inline_js();\n",
       "      });\n",
       "    }\n",
       "  }(this));\n",
       "</script>"
      ]
     },
     "metadata": {},
     "output_type": "display_data"
    },
    {
     "data": {
      "text/html": [
       "<p><code>&lt;Bokeh Notebook handle for <strong>In[7]</strong>&gt;</code></p>"
      ],
      "text/plain": [
       "<bokeh.io._CommsHandle at 0x7fb62441a4d0>"
      ]
     },
     "execution_count": 7,
     "metadata": {},
     "output_type": "execute_result"
    }
   ],
   "source": [
    "plt_obj = dm.superset_yes_no([di_6_57, dm.di_26_1414, dm.di_10_2206, dm.di_64_1575], [dm.di_7_1868], \n",
    "                             min_match=0.001)\n",
    "plt = plt_obj.do_plot()\n",
    "am = plt_obj.plot_context.yes_allele_mask\n",
    "show(plt)"
   ]
  },
  {
   "cell_type": "code",
   "execution_count": 8,
   "metadata": {
    "collapsed": false
   },
   "outputs": [
    {
     "data": {
      "text/html": [
       "<table>\n",
       "<thead><tr><th style=\"text-align:center\">index</th><th style=\"text-align:center\">first</th><th style=\"text-align:center\">length</th><th style=\"text-align:center\">snps</th><th style=\"text-align:center\" colspan=2>alleles</th><th style=\"text-align:center\" colspan=2>matches</th><th style=\"text-align:center\" colspan=2>afr</th><th style=\"text-align:center\" colspan=2>afx</th><th style=\"text-align:center\" colspan=2>amr</th><th style=\"text-align:center\" colspan=2>eas</th><th style=\"text-align:center\" colspan=2>eur</th><th style=\"text-align:center\" colspan=2>sas</th><th style=\"text-align:center\" colspan=2>sax</th></tr></thead>\n",
       "<tr class=\"even\"><td style=\"text-align: right;\">353921</td><td style=\"text-align: right;\">136,501,840</td><td style=\"text-align: right;\">53,819</td><td style=\"text-align: right;\">10</td><td style=\"text-align: right;\">2206</td><td style=\"text-align: right;\">0.00</td><td style=\"text-align: right;\">1</td><td style=\"text-align: right;\">1.00</td><td style=\"text-align: right;\">0</td><td style=\"text-align: right;\">0.00</td><td style=\"text-align: right;\">0</td><td style=\"text-align: right;\">0.00</td><td style=\"text-align: right;\">0</td><td style=\"text-align: right;\">0.00</td><td style=\"text-align: right;\">0</td><td style=\"text-align: right;\">0.00</td><td style=\"text-align: right;\">1</td><td style=\"text-align: right;\">7.53</td><td style=\"text-align: right;\">0</td><td style=\"text-align: right;\">0.00</td><td style=\"text-align: right;\">0</td><td style=\"text-align: right;\">0.00</td></tr>\n",
       "<tr><td style=\"text-align: right;\">353462</td><td style=\"text-align: right;\">135,915,358</td><td style=\"text-align: right;\">79,721</td><td style=\"text-align: right;\">4</td><td style=\"text-align: right;\">1699</td><td style=\"text-align: right;\">0.00</td><td style=\"text-align: right;\">1</td><td style=\"text-align: right;\">1.00</td><td style=\"text-align: right;\">0</td><td style=\"text-align: right;\">0.00</td><td style=\"text-align: right;\">0</td><td style=\"text-align: right;\">0.00</td><td style=\"text-align: right;\">0</td><td style=\"text-align: right;\">0.00</td><td style=\"text-align: right;\">0</td><td style=\"text-align: right;\">0.00</td><td style=\"text-align: right;\">1</td><td style=\"text-align: right;\">7.53</td><td style=\"text-align: right;\">0</td><td style=\"text-align: right;\">0.00</td><td style=\"text-align: right;\">0</td><td style=\"text-align: right;\">0.00</td></tr>\n",
       "<tr class=\"even\"><td style=\"text-align: right;\">353901</td><td style=\"text-align: right;\">136,494,186</td><td style=\"text-align: right;\">271,765</td><td style=\"text-align: right;\">64</td><td style=\"text-align: right;\">1575</td><td style=\"text-align: right;\">0.00</td><td style=\"text-align: right;\">1</td><td style=\"text-align: right;\">1.00</td><td style=\"text-align: right;\">0</td><td style=\"text-align: right;\">0.00</td><td style=\"text-align: right;\">0</td><td style=\"text-align: right;\">0.00</td><td style=\"text-align: right;\">0</td><td style=\"text-align: right;\">0.00</td><td style=\"text-align: right;\">0</td><td style=\"text-align: right;\">0.00</td><td style=\"text-align: right;\">1</td><td style=\"text-align: right;\">7.53</td><td style=\"text-align: right;\">0</td><td style=\"text-align: right;\">0.00</td><td style=\"text-align: right;\">0</td><td style=\"text-align: right;\">0.00</td></tr>\n",
       "<tr><td style=\"text-align: right;\">353283</td><td style=\"text-align: right;\">135,771,974</td><td style=\"text-align: right;\">368,330</td><td style=\"text-align: right;\">6</td><td style=\"text-align: right;\">1503</td><td style=\"text-align: right;\">0.00</td><td style=\"text-align: right;\">1</td><td style=\"text-align: right;\">1.00</td><td style=\"text-align: right;\">0</td><td style=\"text-align: right;\">0.00</td><td style=\"text-align: right;\">0</td><td style=\"text-align: right;\">0.00</td><td style=\"text-align: right;\">0</td><td style=\"text-align: right;\">0.00</td><td style=\"text-align: right;\">0</td><td style=\"text-align: right;\">0.00</td><td style=\"text-align: right;\">1</td><td style=\"text-align: right;\">7.53</td><td style=\"text-align: right;\">0</td><td style=\"text-align: right;\">0.00</td><td style=\"text-align: right;\">0</td><td style=\"text-align: right;\">0.00</td></tr>\n",
       "<tr class=\"even\"><td style=\"text-align: right;\">353797</td><td style=\"text-align: right;\">136,398,174</td><td style=\"text-align: right;\">75,924</td><td style=\"text-align: right;\">26</td><td style=\"text-align: right;\">1414</td><td style=\"text-align: right;\">0.00</td><td style=\"text-align: right;\">1</td><td style=\"text-align: right;\">1.00</td><td style=\"text-align: right;\">0</td><td style=\"text-align: right;\">0.00</td><td style=\"text-align: right;\">0</td><td style=\"text-align: right;\">0.00</td><td style=\"text-align: right;\">0</td><td style=\"text-align: right;\">0.00</td><td style=\"text-align: right;\">0</td><td style=\"text-align: right;\">0.00</td><td style=\"text-align: right;\">1</td><td style=\"text-align: right;\">7.53</td><td style=\"text-align: right;\">0</td><td style=\"text-align: right;\">0.00</td><td style=\"text-align: right;\">0</td><td style=\"text-align: right;\">0.00</td></tr>\n",
       "<tr><td style=\"text-align: right;\">353444</td><td style=\"text-align: right;\">135,889,881</td><td style=\"text-align: right;\">493,055</td><td style=\"text-align: right;\">6</td><td style=\"text-align: right;\">57</td><td style=\"text-align: right;\">0.02</td><td style=\"text-align: right;\">1</td><td style=\"text-align: right;\">1.00</td><td style=\"text-align: right;\">0</td><td style=\"text-align: right;\">0.00</td><td style=\"text-align: right;\">0</td><td style=\"text-align: right;\">0.00</td><td style=\"text-align: right;\">0</td><td style=\"text-align: right;\">0.00</td><td style=\"text-align: right;\">0</td><td style=\"text-align: right;\">0.00</td><td style=\"text-align: right;\">1</td><td style=\"text-align: right;\">7.53</td><td style=\"text-align: right;\">0</td><td style=\"text-align: right;\">0.00</td><td style=\"text-align: right;\">0</td><td style=\"text-align: right;\">0.00</td></tr>\n",
       "</table>"
      ],
      "text/plain": [
       "<IPython.core.display.HTML object>"
      ]
     },
     "execution_count": 8,
     "metadata": {},
     "output_type": "execute_result"
    }
   ],
   "source": [
    "HTML(plt_obj.get_html())"
   ]
  },
  {
   "cell_type": "code",
   "execution_count": 9,
   "metadata": {
    "collapsed": false
   },
   "outputs": [
    {
     "data": {
      "text/plain": [
       "array([1, 1, 1, 1, 1, 1, 1, 1, 1, 1, 1, 1, 1, 1, 1, 1, 1, 1, 1, 1, 1, 1, 1,\n",
       "       1, 1, 1, 1, 1, 1, 1, 1, 1, 1, 1, 1, 1, 1, 1, 1, 1, 1, 1, 1, 1, 1, 1,\n",
       "       1, 1, 1, 1, 1, 1, 1, 1, 1, 1, 1, 1, 0, 0, 0, 0, 0, 0])"
      ]
     },
     "execution_count": 9,
     "metadata": {},
     "output_type": "execute_result"
    }
   ],
   "source": [
    "sa_64_1575.alleles_per_snp(am)"
   ]
  },
  {
   "cell_type": "code",
   "execution_count": 10,
   "metadata": {
    "collapsed": false
   },
   "outputs": [
    {
     "data": {
      "text/html": [
       "\n",
       "\n",
       "    <div class=\"bk-root\">\n",
       "        <div class=\"plotdiv\" id=\"12598434-7404-42fb-92b0-8392800fceb7\"></div>\n",
       "    </div>\n",
       "<script type=\"text/javascript\">\n",
       "  \n",
       "  (function(global) {\n",
       "    function now() {\n",
       "      return new Date();\n",
       "    }\n",
       "  \n",
       "    if (typeof (window._bokeh_onload_callbacks) === \"undefined\") {\n",
       "      window._bokeh_onload_callbacks = [];\n",
       "    }\n",
       "  \n",
       "    function run_callbacks() {\n",
       "      window._bokeh_onload_callbacks.forEach(function(callback) { callback() });\n",
       "      delete window._bokeh_onload_callbacks\n",
       "      console.info(\"Bokeh: all callbacks have finished\");\n",
       "    }\n",
       "  \n",
       "    function load_libs(js_urls, callback) {\n",
       "      window._bokeh_onload_callbacks.push(callback);\n",
       "      if (window._bokeh_is_loading > 0) {\n",
       "        console.log(\"Bokeh: BokehJS is being loaded, scheduling callback at\", now());\n",
       "        return null;\n",
       "      }\n",
       "      if (js_urls == null || js_urls.length === 0) {\n",
       "        run_callbacks();\n",
       "        return null;\n",
       "      }\n",
       "      console.log(\"Bokeh: BokehJS not loaded, scheduling load and callback at\", now());\n",
       "      window._bokeh_is_loading = js_urls.length;\n",
       "      for (var i = 0; i < js_urls.length; i++) {\n",
       "        var url = js_urls[i];\n",
       "        var s = document.createElement('script');\n",
       "        s.src = url;\n",
       "        s.async = false;\n",
       "        s.onreadystatechange = s.onload = function() {\n",
       "          window._bokeh_is_loading--;\n",
       "          if (window._bokeh_is_loading === 0) {\n",
       "            console.log(\"Bokeh: all BokehJS libraries loaded\");\n",
       "            run_callbacks()\n",
       "          }\n",
       "        };\n",
       "        s.onerror = function() {\n",
       "          console.warn(\"failed to load library \" + url);\n",
       "        };\n",
       "        console.log(\"Bokeh: injecting script tag for BokehJS library: \", url);\n",
       "        document.getElementsByTagName(\"head\")[0].appendChild(s);\n",
       "      }\n",
       "    };var element = document.getElementById(\"12598434-7404-42fb-92b0-8392800fceb7\");\n",
       "    if (element == null) {\n",
       "      console.log(\"Bokeh: ERROR: autoload.js configured with elementid '12598434-7404-42fb-92b0-8392800fceb7' but no matching script tag was found. \")\n",
       "      return false;\n",
       "    }\n",
       "  \n",
       "    var js_urls = [];\n",
       "  \n",
       "    var inline_js = [\n",
       "      function(Bokeh) {\n",
       "        Bokeh.$(function() {\n",
       "            var docs_json = {\"29ce4ba7-10bf-45c9-af92-df1091a360f5\":{\"roots\":{\"references\":[{\"attributes\":{\"formatter\":{\"id\":\"877d8764-f760-4faa-aaeb-92c304499e96\",\"type\":\"BasicTickFormatter\"},\"plot\":{\"id\":\"b657b6e8-a2b4-42fd-ad84-c236c459fd29\",\"subtype\":\"Figure\",\"type\":\"Plot\"},\"ticker\":{\"id\":\"48638470-9cf5-438d-9645-9095a226e390\",\"type\":\"BasicTicker\"},\"visible\":null},\"id\":\"d07ffe25-4141-4e21-a7d5-8608ef1b1da8\",\"type\":\"LinearAxis\"},{\"attributes\":{},\"id\":\"c43285ae-1383-42d8-a56f-1e7d6a270f55\",\"type\":\"BasicTickFormatter\"},{\"attributes\":{\"bottom\":{\"field\":\"bottom\"},\"fill_color\":{\"value\":\"white\"},\"left\":{\"field\":\"left\"},\"right\":{\"field\":\"right\"},\"top\":{\"field\":\"top\"}},\"id\":\"fc507074-857a-4ab6-a2f0-7abfdc650acc\",\"type\":\"Quad\"},{\"attributes\":{\"line_color\":{\"field\":\"line_color\"},\"xs\":{\"field\":\"xs\"},\"ys\":{\"field\":\"ys\"}},\"id\":\"670e9131-54a5-4b5e-b1d1-ae5ddf19da72\",\"type\":\"MultiLine\"},{\"attributes\":{},\"id\":\"e66e7628-f5d6-445b-96dd-d3f6b7cb03c2\",\"type\":\"ToolEvents\"},{\"attributes\":{\"callback\":null,\"column_names\":[\"xs\",\"ys\",\"line_color\"],\"data\":{\"line_color\":[\"black\",\"black\",\"black\",\"black\",\"black\",\"black\",\"black\",\"black\",\"black\",\"black\",\"black\",\"black\",\"black\",\"black\",\"black\",\"black\",\"black\",\"black\",\"black\",\"black\",\"black\",\"black\",\"black\",\"black\",\"black\",\"black\",\"black\",\"black\",\"black\",\"black\",\"black\",\"black\",\"black\",\"black\",\"black\",\"black\",\"black\",\"black\",\"black\",\"black\",\"black\",\"black\",\"black\",\"black\",\"black\",\"black\",\"black\",\"black\",\"black\",\"black\",\"black\",\"black\",\"black\",\"black\",\"black\",\"black\",\"black\",\"black\",\"black\",\"black\",\"black\",\"black\",\"black\",\"black\",\"black\",\"black\",\"black\",\"black\",\"black\",\"black\",\"black\",\"black\",\"black\",\"black\",\"black\",\"black\",\"black\",\"black\",\"black\",\"black\",\"black\",\"black\",\"black\",\"black\",\"black\",\"black\",\"black\",\"black\",\"black\",\"black\",\"black\"],\"xs\":[[135771974,135771974],[135859371,135859371],[135877562,135877562],[136022798,136022798],[136058820,136058820],[136140304,136140304],[135889881,135889881],[135956309,135956309],[136088389,136088389],[136323321,136323321],[136361384,136361384],[136382936,136382936],[135915358,135915358],[135954405,135954405],[135995073,135995073],[135995079,135995079],[136398174,136398174],[136402117,136402117],[136403749,136403749],[136409073,136409073],[136410299,136410299],[136413359,136413359],[136416855,136416855],[136416941,136416941],[136418348,136418348],[136419961,136419961],[136420690,136420690],[136422171,136422171],[136428460,136428460],[136430866,136430866],[136432103,136432103],[136437507,136437507],[136439090,136439090],[136439517,136439517],[136444123,136444123],[136445526,136445526],[136445869,136445869],[136455600,136455600],[136456642,136456642],[136462441,136462441],[136470714,136470714],[136474098,136474098],[136501840,136501840],[136505546,136505546],[136516748,136516748],[136522710,136522710],[136528004,136528004],[136539513,136539513],[136544752,136544752],[136546110,136546110],[136553529,136553529],[136555659,136555659],[136556805,136556805],[136560003,136560003],[136562472,136562472],[136563248,136563248],[136565328,136565328],[136570613,136570613],[136571982,136571982],[136574305,136574305],[136578040,136578040],[136578194,136578194],[136580398,136580398],[136586828,136586828],[136590558,136590558],[136592309,136592309],[136593541,136593541],[136593694,136593694],[136595426,136595426],[136615222,136615222],[136624919,136624919],[136626004,136626004],[136628380,136628380],[136636909,136636909],[136637350,136637350],[136637622,136637622],[136639487,136639487],[136646900,136646900],[136652093,136652093],[136652859,136652859],[136655620,136655620],[136667896,136667896],[136671801,136671801],[136677192,136677192],[136683293,136683293],[136704414,136704414],[136720344,136720344],[136731066,136731066],[136733897,136733897],[136743490,136743490],[136747085,136747085]],\"ys\":[[150,195],[150,195],[150,195],[150,195],[150,195],[150,195],[50,66],[50,66],[50,66],[50,66],[50,66],[50,66],[250,296],[250,296],[250,296],[250,296],[150,194],[150,194],[150,194],[150,194],[150,194],[150,194],[150,194],[150,194],[150,194],[150,194],[150,194],[150,194],[150,194],[150,194],[150,194],[150,194],[150,194],[150,194],[150,194],[150,194],[150,194],[150,194],[150,194],[150,194],[150,194],[150,194],[250,298],[250,298],[250,298],[250,298],[250,298],[250,298],[250,298],[250,298],[250,298],[250,298],[150,191],[150,191],[150,191],[150,191],[150,191],[150,191],[150,191],[150,191],[150,191],[150,191],[150,191],[150,191],[150,191],[150,191],[150,191],[150,191],[150,191],[150,191],[150,191],[150,191],[150,191],[150,191],[150,191],[150,191],[150,191],[150,191],[150,191],[150,191],[150,191],[150,191],[150,191],[150,191],[150,191],[150,191],[150,191],[150,191],[150,191],[150,191],[150,191]]}},\"id\":\"87b6e16e-5d7c-4a11-b412-25436844b553\",\"type\":\"ColumnDataSource\"},{\"attributes\":{\"overlay\":{\"id\":\"e26088a9-d411-4585-b727-91f13c079054\",\"type\":\"BoxAnnotation\"},\"plot\":{\"id\":\"b657b6e8-a2b4-42fd-ad84-c236c459fd29\",\"subtype\":\"Figure\",\"type\":\"Plot\"}},\"id\":\"2698503e-696e-463f-8194-9c7ee79598c4\",\"type\":\"BoxZoomTool\"},{\"attributes\":{\"level\":\"glyph\",\"plot\":{\"id\":\"b657b6e8-a2b4-42fd-ad84-c236c459fd29\",\"subtype\":\"Figure\",\"type\":\"Plot\"},\"source\":{\"id\":\"594dc998-6e8e-4fdf-b8e1-e12007da08f7\",\"type\":\"ColumnDataSource\"},\"text\":{\"field\":\"vals\"},\"text_align\":\"center\",\"text_baseline\":\"middle\",\"text_font_size\":{\"value\":\"8pt\"},\"x\":{\"field\":\"x\"},\"y\":{\"field\":\"y\"}},\"id\":\"9e51b2ec-8260-4534-b59e-a7dfb5365d58\",\"type\":\"LabelSet\"},{\"attributes\":{\"bottom\":{\"field\":\"bottom\"},\"fill_alpha\":{\"value\":0.1},\"fill_color\":{\"value\":\"#1f77b4\"},\"left\":{\"field\":\"left\"},\"line_alpha\":{\"value\":0.1},\"line_color\":{\"value\":\"#1f77b4\"},\"right\":{\"field\":\"right\"},\"top\":{\"field\":\"top\"}},\"id\":\"8a127d0d-7f34-4981-8f36-92091ab7cbed\",\"type\":\"Quad\"},{\"attributes\":{\"plot\":{\"id\":\"b657b6e8-a2b4-42fd-ad84-c236c459fd29\",\"subtype\":\"Figure\",\"type\":\"Plot\"}},\"id\":\"00ae746f-8848-4902-b71b-269086cf6071\",\"type\":\"PanTool\"},{\"attributes\":{\"plot\":null,\"text\":null},\"id\":\"e886c477-3e5f-44dc-bc40-b53d87bb67c7\",\"type\":\"Title\"},{\"attributes\":{\"callback\":null,\"column_names\":[\"y\",\"x\",\"vals\"],\"data\":{\"vals\":[\"6_1503\",\"6_57\",\"4_1699\",\"26_1414\",\"10_2206\",\"39_1014\"],\"x\":[135771974,135889881,135915358,136398174,136501840,136556805],\"y\":[200.0,71.0,301.0,199.0,303.0,196.0]}},\"id\":\"b9281cb4-0b0b-4e36-828b-c662b695ccd3\",\"type\":\"ColumnDataSource\"},{\"attributes\":{\"callback\":null,\"column_names\":[\"y\",\"x\",\"vals\"],\"data\":{\"vals\":[\"RAB3GAP1\",\"ZRANB3\",\"R3HDM1\",\"UBXN4\",\"LCT\",\"MCM6\",\"DARS\"],\"x\":[135869057.0,136122878.0,136385961.0,136520911.0,136570082.5,136615621.5,136703738.0],\"y\":[360.0,360.0,360.0,360.0,360.0,360.0,360.0]}},\"id\":\"594dc998-6e8e-4fdf-b8e1-e12007da08f7\",\"type\":\"ColumnDataSource\"},{\"attributes\":{},\"id\":\"0ec7b8c9-1f74-4f06-ae9f-45355355d962\",\"type\":\"BasicTicker\"},{\"attributes\":{\"plot\":{\"id\":\"b657b6e8-a2b4-42fd-ad84-c236c459fd29\",\"subtype\":\"Figure\",\"type\":\"Plot\"}},\"id\":\"b3717bdc-be70-47bc-9011-faae087edce7\",\"type\":\"SaveTool\"},{\"attributes\":{\"plot\":{\"id\":\"b657b6e8-a2b4-42fd-ad84-c236c459fd29\",\"subtype\":\"Figure\",\"type\":\"Plot\"}},\"id\":\"b5735bbe-5fa6-46f8-8f66-51437b94d7fd\",\"type\":\"WheelZoomTool\"},{\"attributes\":{\"callback\":null,\"column_names\":[\"right\",\"bottom\",\"top\",\"left\"],\"data\":{\"bottom\":[345,345,345,345,345,345,345],\"left\":[135809835,135957574,136289083,136499189,136545415,136597196,136664254],\"right\":[135928279,136288182,136482839,136542633,136594750,136634047,136743222],\"top\":[375,375,375,375,375,375,375]}},\"id\":\"dcf25a5a-d85b-4e8c-a32a-020776300eba\",\"type\":\"ColumnDataSource\"},{\"attributes\":{},\"id\":\"48638470-9cf5-438d-9645-9095a226e390\",\"type\":\"BasicTicker\"},{\"attributes\":{\"active_drag\":\"auto\",\"active_scroll\":\"auto\",\"active_tap\":\"auto\",\"tools\":[{\"id\":\"00ae746f-8848-4902-b71b-269086cf6071\",\"type\":\"PanTool\"},{\"id\":\"b5735bbe-5fa6-46f8-8f66-51437b94d7fd\",\"type\":\"WheelZoomTool\"},{\"id\":\"2698503e-696e-463f-8194-9c7ee79598c4\",\"type\":\"BoxZoomTool\"},{\"id\":\"b3717bdc-be70-47bc-9011-faae087edce7\",\"type\":\"SaveTool\"},{\"id\":\"9607f825-dddf-4177-b90c-b4509ec627e8\",\"type\":\"ResetTool\"},{\"id\":\"97d40937-8777-405e-9d1f-c24b46cc2fdf\",\"type\":\"HelpTool\"}]},\"id\":\"5ceb8231-7fea-466d-89b1-5814c75f9398\",\"type\":\"Toolbar\"},{\"attributes\":{\"data_source\":{\"id\":\"c4f82d88-db77-47c9-9279-eeaf85900b3d\",\"type\":\"ColumnDataSource\"},\"glyph\":{\"id\":\"299c62ca-13d3-4807-89bc-ec8ef29bb5b7\",\"type\":\"Quad\"},\"hover_glyph\":null,\"nonselection_glyph\":{\"id\":\"8a127d0d-7f34-4981-8f36-92091ab7cbed\",\"type\":\"Quad\"},\"selection_glyph\":null},\"id\":\"18ea908d-bf8a-4556-8df3-f8ad15014fc0\",\"type\":\"GlyphRenderer\"},{\"attributes\":{\"callback\":null,\"column_names\":[\"right\",\"bottom\",\"top\",\"left\",\"fill_color\"],\"data\":{\"bottom\":[150,50,250,150,250,150],\"fill_color\":[\"#61c461\",\"#00ff00\",\"#61c461\",\"#61c461\",\"#808080\",\"#808080\"],\"left\":[135771974,135889881,135915358,136398174,136501840,136556805],\"right\":[136140304,136382936,135995079,136474098,136555659,136747085],\"top\":[195,66,296,194,298,191]}},\"id\":\"c4f82d88-db77-47c9-9279-eeaf85900b3d\",\"type\":\"ColumnDataSource\"},{\"attributes\":{\"bottom_units\":\"screen\",\"fill_alpha\":{\"value\":0.5},\"fill_color\":{\"value\":\"lightgrey\"},\"left_units\":\"screen\",\"level\":\"overlay\",\"line_alpha\":{\"value\":1.0},\"line_color\":{\"value\":\"black\"},\"line_dash\":[4,4],\"line_width\":{\"value\":2},\"plot\":null,\"render_mode\":\"css\",\"right_units\":\"screen\",\"top_units\":\"screen\"},\"id\":\"e26088a9-d411-4585-b727-91f13c079054\",\"type\":\"BoxAnnotation\"},{\"attributes\":{\"plot\":{\"id\":\"b657b6e8-a2b4-42fd-ad84-c236c459fd29\",\"subtype\":\"Figure\",\"type\":\"Plot\"}},\"id\":\"9607f825-dddf-4177-b90c-b4509ec627e8\",\"type\":\"ResetTool\"},{\"attributes\":{\"line_alpha\":{\"value\":0.1},\"line_color\":{\"value\":\"#1f77b4\"},\"xs\":{\"field\":\"xs\"},\"ys\":{\"field\":\"ys\"}},\"id\":\"5ad5d10e-3107-41ab-bac9-e87328ca69a9\",\"type\":\"MultiLine\"},{\"attributes\":{\"plot\":{\"id\":\"b657b6e8-a2b4-42fd-ad84-c236c459fd29\",\"subtype\":\"Figure\",\"type\":\"Plot\"},\"ticker\":{\"id\":\"0ec7b8c9-1f74-4f06-ae9f-45355355d962\",\"type\":\"BasicTicker\"}},\"id\":\"a281d7b3-5d9e-48bb-bc9a-4ab1387f1d7b\",\"type\":\"Grid\"},{\"attributes\":{\"plot\":{\"id\":\"b657b6e8-a2b4-42fd-ad84-c236c459fd29\",\"subtype\":\"Figure\",\"type\":\"Plot\"}},\"id\":\"97d40937-8777-405e-9d1f-c24b46cc2fdf\",\"type\":\"HelpTool\"},{\"attributes\":{\"callback\":null,\"end\":136786630,\"start\":135757320},\"id\":\"8d833e4a-55fc-426f-b5fa-0af64ffbc9d7\",\"type\":\"Range1d\"},{\"attributes\":{\"level\":\"glyph\",\"plot\":{\"id\":\"b657b6e8-a2b4-42fd-ad84-c236c459fd29\",\"subtype\":\"Figure\",\"type\":\"Plot\"},\"source\":{\"id\":\"b9281cb4-0b0b-4e36-828b-c662b695ccd3\",\"type\":\"ColumnDataSource\"},\"text\":{\"field\":\"vals\"},\"text_font_size\":{\"value\":\"9pt\"},\"text_font_style\":\"bold\",\"x\":{\"field\":\"x\"},\"y\":{\"field\":\"y\"}},\"id\":\"77a82ddb-f659-4bb3-bd86-07d431e7185e\",\"type\":\"LabelSet\"},{\"attributes\":{\"data_source\":{\"id\":\"87b6e16e-5d7c-4a11-b412-25436844b553\",\"type\":\"ColumnDataSource\"},\"glyph\":{\"id\":\"670e9131-54a5-4b5e-b1d1-ae5ddf19da72\",\"type\":\"MultiLine\"},\"hover_glyph\":null,\"nonselection_glyph\":{\"id\":\"5ad5d10e-3107-41ab-bac9-e87328ca69a9\",\"type\":\"MultiLine\"},\"selection_glyph\":null},\"id\":\"30919470-3e64-4220-a0ab-c85bed4334ff\",\"type\":\"GlyphRenderer\"},{\"attributes\":{\"data_source\":{\"id\":\"dcf25a5a-d85b-4e8c-a32a-020776300eba\",\"type\":\"ColumnDataSource\"},\"glyph\":{\"id\":\"fc507074-857a-4ab6-a2f0-7abfdc650acc\",\"type\":\"Quad\"},\"hover_glyph\":null,\"nonselection_glyph\":{\"id\":\"ae867da8-21e7-4724-9566-6e635b2fa92d\",\"type\":\"Quad\"},\"selection_glyph\":null},\"id\":\"fc01b97c-7cae-41f0-bcb3-bb80d6561547\",\"type\":\"GlyphRenderer\"},{\"attributes\":{\"bottom\":{\"field\":\"bottom\"},\"fill_alpha\":{\"value\":0.1},\"fill_color\":{\"value\":\"#1f77b4\"},\"left\":{\"field\":\"left\"},\"line_alpha\":{\"value\":0.1},\"line_color\":{\"value\":\"#1f77b4\"},\"right\":{\"field\":\"right\"},\"top\":{\"field\":\"top\"}},\"id\":\"ae867da8-21e7-4724-9566-6e635b2fa92d\",\"type\":\"Quad\"},{\"attributes\":{\"callback\":null,\"end\":400},\"id\":\"593bce8b-b8a5-47ae-9c66-b7d93e825674\",\"type\":\"Range1d\"},{\"attributes\":{\"below\":[{\"id\":\"8c200e09-3289-4179-84e0-0fef2954a495\",\"type\":\"LinearAxis\"}],\"left\":[{\"id\":\"d07ffe25-4141-4e21-a7d5-8608ef1b1da8\",\"type\":\"LinearAxis\"}],\"plot_height\":400,\"plot_width\":900,\"renderers\":[{\"id\":\"8c200e09-3289-4179-84e0-0fef2954a495\",\"type\":\"LinearAxis\"},{\"id\":\"a281d7b3-5d9e-48bb-bc9a-4ab1387f1d7b\",\"type\":\"Grid\"},{\"id\":\"d07ffe25-4141-4e21-a7d5-8608ef1b1da8\",\"type\":\"LinearAxis\"},{\"id\":\"1c22d065-d589-4570-8637-7425c6f13c17\",\"type\":\"Grid\"},{\"id\":\"e26088a9-d411-4585-b727-91f13c079054\",\"type\":\"BoxAnnotation\"},{\"id\":\"18ea908d-bf8a-4556-8df3-f8ad15014fc0\",\"type\":\"GlyphRenderer\"},{\"id\":\"30919470-3e64-4220-a0ab-c85bed4334ff\",\"type\":\"GlyphRenderer\"},{\"id\":\"77a82ddb-f659-4bb3-bd86-07d431e7185e\",\"type\":\"LabelSet\"},{\"id\":\"fc01b97c-7cae-41f0-bcb3-bb80d6561547\",\"type\":\"GlyphRenderer\"},{\"id\":\"9e51b2ec-8260-4534-b59e-a7dfb5365d58\",\"type\":\"LabelSet\"}],\"title\":{\"id\":\"e886c477-3e5f-44dc-bc40-b53d87bb67c7\",\"type\":\"Title\"},\"tool_events\":{\"id\":\"e66e7628-f5d6-445b-96dd-d3f6b7cb03c2\",\"type\":\"ToolEvents\"},\"toolbar\":{\"id\":\"5ceb8231-7fea-466d-89b1-5814c75f9398\",\"type\":\"Toolbar\"},\"toolbar_location\":null,\"x_range\":{\"id\":\"8d833e4a-55fc-426f-b5fa-0af64ffbc9d7\",\"type\":\"Range1d\"},\"y_range\":{\"id\":\"593bce8b-b8a5-47ae-9c66-b7d93e825674\",\"type\":\"Range1d\"}},\"id\":\"b657b6e8-a2b4-42fd-ad84-c236c459fd29\",\"subtype\":\"Figure\",\"type\":\"Plot\"},{\"attributes\":{\"bottom\":{\"field\":\"bottom\"},\"fill_color\":{\"field\":\"fill_color\"},\"left\":{\"field\":\"left\"},\"line_color\":{\"value\":null},\"right\":{\"field\":\"right\"},\"top\":{\"field\":\"top\"}},\"id\":\"299c62ca-13d3-4807-89bc-ec8ef29bb5b7\",\"type\":\"Quad\"},{\"attributes\":{\"dimension\":1,\"plot\":{\"id\":\"b657b6e8-a2b4-42fd-ad84-c236c459fd29\",\"subtype\":\"Figure\",\"type\":\"Plot\"},\"ticker\":{\"id\":\"48638470-9cf5-438d-9645-9095a226e390\",\"type\":\"BasicTicker\"}},\"id\":\"1c22d065-d589-4570-8637-7425c6f13c17\",\"type\":\"Grid\"},{\"attributes\":{\"formatter\":{\"id\":\"c43285ae-1383-42d8-a56f-1e7d6a270f55\",\"type\":\"BasicTickFormatter\"},\"plot\":{\"id\":\"b657b6e8-a2b4-42fd-ad84-c236c459fd29\",\"subtype\":\"Figure\",\"type\":\"Plot\"},\"ticker\":{\"id\":\"0ec7b8c9-1f74-4f06-ae9f-45355355d962\",\"type\":\"BasicTicker\"}},\"id\":\"8c200e09-3289-4179-84e0-0fef2954a495\",\"type\":\"LinearAxis\"},{\"attributes\":{},\"id\":\"877d8764-f760-4faa-aaeb-92c304499e96\",\"type\":\"BasicTickFormatter\"}],\"root_ids\":[\"b657b6e8-a2b4-42fd-ad84-c236c459fd29\"]},\"title\":\"Bokeh Application\",\"version\":\"0.12.0\"}};\n",
       "            var render_items = [{\"docid\":\"29ce4ba7-10bf-45c9-af92-df1091a360f5\",\"elementid\":\"12598434-7404-42fb-92b0-8392800fceb7\",\"modelid\":\"b657b6e8-a2b4-42fd-ad84-c236c459fd29\",\"notebook_comms_target\":\"98a90a74-94e5-4a4a-8529-7addf4a80fea\"}];\n",
       "            \n",
       "            Bokeh.embed.embed_items(docs_json, render_items);\n",
       "        });\n",
       "      },\n",
       "      function(Bokeh) {\n",
       "      }\n",
       "    ];\n",
       "  \n",
       "    function run_inline_js() {\n",
       "      for (var i = 0; i < inline_js.length; i++) {\n",
       "        inline_js[i](window.Bokeh);\n",
       "      }\n",
       "    }\n",
       "  \n",
       "    if (window._bokeh_is_loading === 0) {\n",
       "      console.log(\"Bokeh: BokehJS loaded, going straight to plotting\");\n",
       "      run_inline_js();\n",
       "    } else {\n",
       "      load_libs(js_urls, function() {\n",
       "        console.log(\"Bokeh: BokehJS plotting callback run at\", now());\n",
       "        run_inline_js();\n",
       "      });\n",
       "    }\n",
       "  }(this));\n",
       "</script>"
      ]
     },
     "metadata": {},
     "output_type": "display_data"
    },
    {
     "data": {
      "text/html": [
       "<p><code>&lt;Bokeh Notebook handle for <strong>In[10]</strong>&gt;</code></p>"
      ],
      "text/plain": [
       "<bokeh.io._CommsHandle at 0x7fb5f12f2890>"
      ]
     },
     "execution_count": 10,
     "metadata": {},
     "output_type": "execute_result"
    }
   ],
   "source": [
    "plt_obj = dm.superset_yes_no([di_6_57, dm.di_26_1414, dm.di_10_2206, dm.di_39_1014], \n",
    "                             [dm.di_64_1575], min_match=0.001)\n",
    "plt = plt_obj.do_plot()\n",
    "am = plt_obj.plot_context.yes_allele_mask\n",
    "show(plt)"
   ]
  },
  {
   "cell_type": "code",
   "execution_count": 11,
   "metadata": {
    "collapsed": false
   },
   "outputs": [
    {
     "data": {
      "text/html": [
       "<table>\n",
       "<thead><tr><th style=\"text-align:center\">index</th><th style=\"text-align:center\">first</th><th style=\"text-align:center\">length</th><th style=\"text-align:center\">snps</th><th style=\"text-align:center\" colspan=2>alleles</th><th style=\"text-align:center\" colspan=2>matches</th><th style=\"text-align:center\" colspan=2>afr</th><th style=\"text-align:center\" colspan=2>afx</th><th style=\"text-align:center\" colspan=2>amr</th><th style=\"text-align:center\" colspan=2>eas</th><th style=\"text-align:center\" colspan=2>eur</th><th style=\"text-align:center\" colspan=2>sas</th><th style=\"text-align:center\" colspan=2>sax</th></tr></thead>\n",
       "<tr class=\"even\"><td style=\"text-align: right;\">353921</td><td style=\"text-align: right;\">136,501,840</td><td style=\"text-align: right;\">53,819</td><td style=\"text-align: right;\">10</td><td style=\"text-align: right;\">2206</td><td style=\"text-align: right;\">0.01</td><td style=\"text-align: right;\">25</td><td style=\"text-align: right;\">1.00</td><td style=\"text-align: right;\">0</td><td style=\"text-align: right;\">0.00</td><td style=\"text-align: right;\">0</td><td style=\"text-align: right;\">0.00</td><td style=\"text-align: right;\">8</td><td style=\"text-align: right;\">2.51</td><td style=\"text-align: right;\">0</td><td style=\"text-align: right;\">0.00</td><td style=\"text-align: right;\">14</td><td style=\"text-align: right;\">4.56</td><td style=\"text-align: right;\">2</td><td style=\"text-align: right;\">1.10</td><td style=\"text-align: right;\">1</td><td style=\"text-align: right;\">0.30</td></tr>\n",
       "<tr><td style=\"text-align: right;\">353462</td><td style=\"text-align: right;\">135,915,358</td><td style=\"text-align: right;\">79,721</td><td style=\"text-align: right;\">4</td><td style=\"text-align: right;\">1699</td><td style=\"text-align: right;\">0.01</td><td style=\"text-align: right;\">25</td><td style=\"text-align: right;\">1.00</td><td style=\"text-align: right;\">0</td><td style=\"text-align: right;\">0.00</td><td style=\"text-align: right;\">0</td><td style=\"text-align: right;\">0.00</td><td style=\"text-align: right;\">8</td><td style=\"text-align: right;\">2.51</td><td style=\"text-align: right;\">0</td><td style=\"text-align: right;\">0.00</td><td style=\"text-align: right;\">14</td><td style=\"text-align: right;\">4.56</td><td style=\"text-align: right;\">2</td><td style=\"text-align: right;\">1.10</td><td style=\"text-align: right;\">1</td><td style=\"text-align: right;\">0.30</td></tr>\n",
       "<tr class=\"even\"><td style=\"text-align: right;\">353283</td><td style=\"text-align: right;\">135,771,974</td><td style=\"text-align: right;\">368,330</td><td style=\"text-align: right;\">6</td><td style=\"text-align: right;\">1503</td><td style=\"text-align: right;\">0.02</td><td style=\"text-align: right;\">25</td><td style=\"text-align: right;\">1.00</td><td style=\"text-align: right;\">0</td><td style=\"text-align: right;\">0.00</td><td style=\"text-align: right;\">0</td><td style=\"text-align: right;\">0.00</td><td style=\"text-align: right;\">8</td><td style=\"text-align: right;\">2.51</td><td style=\"text-align: right;\">0</td><td style=\"text-align: right;\">0.00</td><td style=\"text-align: right;\">14</td><td style=\"text-align: right;\">4.56</td><td style=\"text-align: right;\">2</td><td style=\"text-align: right;\">1.10</td><td style=\"text-align: right;\">1</td><td style=\"text-align: right;\">0.30</td></tr>\n",
       "<tr><td style=\"text-align: right;\">353797</td><td style=\"text-align: right;\">136,398,174</td><td style=\"text-align: right;\">75,924</td><td style=\"text-align: right;\">26</td><td style=\"text-align: right;\">1414</td><td style=\"text-align: right;\">0.02</td><td style=\"text-align: right;\">25</td><td style=\"text-align: right;\">1.00</td><td style=\"text-align: right;\">0</td><td style=\"text-align: right;\">0.00</td><td style=\"text-align: right;\">0</td><td style=\"text-align: right;\">0.00</td><td style=\"text-align: right;\">8</td><td style=\"text-align: right;\">2.51</td><td style=\"text-align: right;\">0</td><td style=\"text-align: right;\">0.00</td><td style=\"text-align: right;\">14</td><td style=\"text-align: right;\">4.56</td><td style=\"text-align: right;\">2</td><td style=\"text-align: right;\">1.10</td><td style=\"text-align: right;\">1</td><td style=\"text-align: right;\">0.30</td></tr>\n",
       "<tr class=\"even\"><td style=\"text-align: right;\">353984</td><td style=\"text-align: right;\">136,556,805</td><td style=\"text-align: right;\">190,280</td><td style=\"text-align: right;\">39</td><td style=\"text-align: right;\">1014</td><td style=\"text-align: right;\">0.02</td><td style=\"text-align: right;\">25</td><td style=\"text-align: right;\">1.00</td><td style=\"text-align: right;\">0</td><td style=\"text-align: right;\">0.00</td><td style=\"text-align: right;\">0</td><td style=\"text-align: right;\">0.00</td><td style=\"text-align: right;\">8</td><td style=\"text-align: right;\">2.51</td><td style=\"text-align: right;\">0</td><td style=\"text-align: right;\">0.00</td><td style=\"text-align: right;\">14</td><td style=\"text-align: right;\">4.56</td><td style=\"text-align: right;\">2</td><td style=\"text-align: right;\">1.10</td><td style=\"text-align: right;\">1</td><td style=\"text-align: right;\">0.30</td></tr>\n",
       "<tr><td style=\"text-align: right;\">353444</td><td style=\"text-align: right;\">135,889,881</td><td style=\"text-align: right;\">493,055</td><td style=\"text-align: right;\">6</td><td style=\"text-align: right;\">57</td><td style=\"text-align: right;\">0.44</td><td style=\"text-align: right;\">25</td><td style=\"text-align: right;\">1.00</td><td style=\"text-align: right;\">0</td><td style=\"text-align: right;\">0.00</td><td style=\"text-align: right;\">0</td><td style=\"text-align: right;\">0.00</td><td style=\"text-align: right;\">8</td><td style=\"text-align: right;\">2.51</td><td style=\"text-align: right;\">0</td><td style=\"text-align: right;\">0.00</td><td style=\"text-align: right;\">14</td><td style=\"text-align: right;\">4.56</td><td style=\"text-align: right;\">2</td><td style=\"text-align: right;\">1.10</td><td style=\"text-align: right;\">1</td><td style=\"text-align: right;\">0.30</td></tr>\n",
       "</table>"
      ],
      "text/plain": [
       "<IPython.core.display.HTML object>"
      ]
     },
     "execution_count": 11,
     "metadata": {},
     "output_type": "execute_result"
    }
   ],
   "source": [
    "HTML(plt_obj.get_html())"
   ]
  },
  {
   "cell_type": "code",
   "execution_count": 12,
   "metadata": {
    "collapsed": false
   },
   "outputs": [
    {
     "data": {
      "text/plain": [
       "array([25, 25, 25, 25, 25, 25, 25, 25, 25, 25, 25, 25, 25, 25, 25, 25, 25,\n",
       "       25, 25, 25, 25,  0,  0,  0,  0,  0,  0,  0,  0,  0,  0,  0,  0,  0,\n",
       "        0,  0,  0,  0,  0,  0,  0,  0,  0,  0,  0,  0,  0,  0,  0,  0,  0,\n",
       "        0,  0,  0,  0,  0,  0,  0,  0,  0,  0,  0,  0,  0])"
      ]
     },
     "execution_count": 12,
     "metadata": {},
     "output_type": "execute_result"
    }
   ],
   "source": [
    "sa_64_1575.alleles_per_snp(am)"
   ]
  },
  {
   "cell_type": "code",
   "execution_count": 13,
   "metadata": {
    "collapsed": false
   },
   "outputs": [
    {
     "data": {
      "text/html": [
       "\n",
       "\n",
       "    <div class=\"bk-root\">\n",
       "        <div class=\"plotdiv\" id=\"5bc67e77-fa39-4191-9063-7f25bf55b030\"></div>\n",
       "    </div>\n",
       "<script type=\"text/javascript\">\n",
       "  \n",
       "  (function(global) {\n",
       "    function now() {\n",
       "      return new Date();\n",
       "    }\n",
       "  \n",
       "    if (typeof (window._bokeh_onload_callbacks) === \"undefined\") {\n",
       "      window._bokeh_onload_callbacks = [];\n",
       "    }\n",
       "  \n",
       "    function run_callbacks() {\n",
       "      window._bokeh_onload_callbacks.forEach(function(callback) { callback() });\n",
       "      delete window._bokeh_onload_callbacks\n",
       "      console.info(\"Bokeh: all callbacks have finished\");\n",
       "    }\n",
       "  \n",
       "    function load_libs(js_urls, callback) {\n",
       "      window._bokeh_onload_callbacks.push(callback);\n",
       "      if (window._bokeh_is_loading > 0) {\n",
       "        console.log(\"Bokeh: BokehJS is being loaded, scheduling callback at\", now());\n",
       "        return null;\n",
       "      }\n",
       "      if (js_urls == null || js_urls.length === 0) {\n",
       "        run_callbacks();\n",
       "        return null;\n",
       "      }\n",
       "      console.log(\"Bokeh: BokehJS not loaded, scheduling load and callback at\", now());\n",
       "      window._bokeh_is_loading = js_urls.length;\n",
       "      for (var i = 0; i < js_urls.length; i++) {\n",
       "        var url = js_urls[i];\n",
       "        var s = document.createElement('script');\n",
       "        s.src = url;\n",
       "        s.async = false;\n",
       "        s.onreadystatechange = s.onload = function() {\n",
       "          window._bokeh_is_loading--;\n",
       "          if (window._bokeh_is_loading === 0) {\n",
       "            console.log(\"Bokeh: all BokehJS libraries loaded\");\n",
       "            run_callbacks()\n",
       "          }\n",
       "        };\n",
       "        s.onerror = function() {\n",
       "          console.warn(\"failed to load library \" + url);\n",
       "        };\n",
       "        console.log(\"Bokeh: injecting script tag for BokehJS library: \", url);\n",
       "        document.getElementsByTagName(\"head\")[0].appendChild(s);\n",
       "      }\n",
       "    };var element = document.getElementById(\"5bc67e77-fa39-4191-9063-7f25bf55b030\");\n",
       "    if (element == null) {\n",
       "      console.log(\"Bokeh: ERROR: autoload.js configured with elementid '5bc67e77-fa39-4191-9063-7f25bf55b030' but no matching script tag was found. \")\n",
       "      return false;\n",
       "    }\n",
       "  \n",
       "    var js_urls = [];\n",
       "  \n",
       "    var inline_js = [\n",
       "      function(Bokeh) {\n",
       "        Bokeh.$(function() {\n",
       "            var docs_json = {\"51fdd38f-0ace-46fe-a1da-6bacc3a66485\":{\"roots\":{\"references\":[{\"attributes\":{\"level\":\"glyph\",\"plot\":{\"id\":\"aab2f988-aa13-4e4c-866f-36970169cbd6\",\"subtype\":\"Figure\",\"type\":\"Plot\"},\"source\":{\"id\":\"c1446b97-9243-499e-834c-6faea22867b6\",\"type\":\"ColumnDataSource\"},\"text\":{\"field\":\"vals\"},\"text_align\":\"center\",\"text_baseline\":\"middle\",\"text_font_size\":{\"value\":\"8pt\"},\"x\":{\"field\":\"x\"},\"y\":{\"field\":\"y\"}},\"id\":\"a69797fb-bf07-4ead-937c-bbe43c0abe7d\",\"type\":\"LabelSet\"},{\"attributes\":{\"callback\":null,\"column_names\":[\"right\",\"bottom\",\"top\",\"left\",\"fill_color\"],\"data\":{\"bottom\":[150,50,250,150,250,50,150,250],\"fill_color\":[\"#61c461\",\"#00ff00\",\"#61c461\",\"#61c461\",\"#808080\",\"#808080\",\"#808080\",\"#808080\"],\"left\":[135771974,135889881,135915358,136398174,136501840,136652491,136652953,136653925],\"right\":[136140304,136382936,135995079,136474098,136555659,136732772,136761175,136761853],\"top\":[195,66,296,194,298,92,194,295]}},\"id\":\"8a7392b8-cdd7-462e-a45e-bc7f9a0a0b29\",\"type\":\"ColumnDataSource\"},{\"attributes\":{\"data_source\":{\"id\":\"8a7392b8-cdd7-462e-a45e-bc7f9a0a0b29\",\"type\":\"ColumnDataSource\"},\"glyph\":{\"id\":\"4e656d47-c8a6-4713-aaae-8b415720e498\",\"type\":\"Quad\"},\"hover_glyph\":null,\"nonselection_glyph\":{\"id\":\"a88651fe-f73e-4163-9426-d3bc3e60e709\",\"type\":\"Quad\"},\"selection_glyph\":null},\"id\":\"1c9ebc47-1a49-4845-93f8-81322628b077\",\"type\":\"GlyphRenderer\"},{\"attributes\":{\"bottom\":{\"field\":\"bottom\"},\"fill_color\":{\"value\":\"white\"},\"left\":{\"field\":\"left\"},\"right\":{\"field\":\"right\"},\"top\":{\"field\":\"top\"}},\"id\":\"6e1aa1bf-914a-4835-bd14-c8c192c92f48\",\"type\":\"Quad\"},{\"attributes\":{\"bottom\":{\"field\":\"bottom\"},\"fill_alpha\":{\"value\":0.1},\"fill_color\":{\"value\":\"#1f77b4\"},\"left\":{\"field\":\"left\"},\"line_alpha\":{\"value\":0.1},\"line_color\":{\"value\":\"#1f77b4\"},\"right\":{\"field\":\"right\"},\"top\":{\"field\":\"top\"}},\"id\":\"9ca10770-1918-4ac9-860d-bb9510727c63\",\"type\":\"Quad\"},{\"attributes\":{\"data_source\":{\"id\":\"f5403ee7-90cb-4c78-b4a3-652bac6559ac\",\"type\":\"ColumnDataSource\"},\"glyph\":{\"id\":\"6e1aa1bf-914a-4835-bd14-c8c192c92f48\",\"type\":\"Quad\"},\"hover_glyph\":null,\"nonselection_glyph\":{\"id\":\"9ca10770-1918-4ac9-860d-bb9510727c63\",\"type\":\"Quad\"},\"selection_glyph\":null},\"id\":\"0ef9933d-f598-4120-927f-0ac986c9ac4e\",\"type\":\"GlyphRenderer\"},{\"attributes\":{\"formatter\":{\"id\":\"af0ac31e-2771-4203-b98a-a7d3d9dafff3\",\"type\":\"BasicTickFormatter\"},\"plot\":{\"id\":\"aab2f988-aa13-4e4c-866f-36970169cbd6\",\"subtype\":\"Figure\",\"type\":\"Plot\"},\"ticker\":{\"id\":\"b0396f91-4078-402c-b65f-b5b68937a17c\",\"type\":\"BasicTicker\"},\"visible\":null},\"id\":\"bb05cc30-e399-4d40-b1ed-1aaeac1f9615\",\"type\":\"LinearAxis\"},{\"attributes\":{\"plot\":{\"id\":\"aab2f988-aa13-4e4c-866f-36970169cbd6\",\"subtype\":\"Figure\",\"type\":\"Plot\"}},\"id\":\"7c8ebf15-4105-4879-bfc3-aa346119773a\",\"type\":\"PanTool\"},{\"attributes\":{\"callback\":null,\"column_names\":[\"xs\",\"ys\",\"line_color\"],\"data\":{\"line_color\":[\"black\",\"black\",\"black\",\"black\",\"black\",\"black\",\"black\",\"black\",\"black\",\"black\",\"black\",\"black\",\"black\",\"black\",\"black\",\"black\",\"black\",\"black\",\"black\",\"black\",\"black\",\"black\",\"black\",\"black\",\"black\",\"black\",\"black\",\"black\",\"black\",\"black\",\"black\",\"black\",\"black\",\"black\",\"black\",\"black\",\"black\",\"black\",\"black\",\"black\",\"black\",\"black\",\"black\",\"black\",\"black\",\"black\",\"black\",\"black\",\"black\",\"black\",\"black\",\"black\",\"black\",\"black\",\"black\",\"black\",\"black\",\"black\",\"black\",\"black\",\"black\",\"black\",\"black\",\"black\",\"black\",\"black\",\"black\",\"black\",\"black\",\"black\",\"black\",\"black\",\"black\",\"black\",\"black\",\"black\",\"black\",\"black\",\"black\",\"black\",\"black\",\"black\",\"black\",\"black\",\"black\",\"black\",\"black\"],\"xs\":[[135771974,135771974],[135859371,135859371],[135877562,135877562],[136022798,136022798],[136058820,136058820],[136140304,136140304],[135889881,135889881],[135956309,135956309],[136088389,136088389],[136323321,136323321],[136361384,136361384],[136382936,136382936],[135915358,135915358],[135954405,135954405],[135995073,135995073],[135995079,135995079],[136398174,136398174],[136402117,136402117],[136403749,136403749],[136409073,136409073],[136410299,136410299],[136413359,136413359],[136416855,136416855],[136416941,136416941],[136418348,136418348],[136419961,136419961],[136420690,136420690],[136422171,136422171],[136428460,136428460],[136430866,136430866],[136432103,136432103],[136437507,136437507],[136439090,136439090],[136439517,136439517],[136444123,136444123],[136445526,136445526],[136445869,136445869],[136455600,136455600],[136456642,136456642],[136462441,136462441],[136470714,136470714],[136474098,136474098],[136501840,136501840],[136505546,136505546],[136516748,136516748],[136522710,136522710],[136528004,136528004],[136539513,136539513],[136544752,136544752],[136546110,136546110],[136553529,136553529],[136555659,136555659],[136652491,136652491],[136652524,136652524],[136661150,136661150],[136669264,136669264],[136726567,136726567],[136732772,136732772],[136652953,136652953],[136655582,136655582],[136674028,136674028],[136684940,136684940],[136761175,136761175],[136653925,136653925],[136654833,136654833],[136656534,136656534],[136656536,136656536],[136657252,136657252],[136667301,136667301],[136667487,136667487],[136672775,136672775],[136680534,136680534],[136686393,136686393],[136688749,136688749],[136692553,136692553],[136697371,136697371],[136708787,136708787],[136710372,136710372],[136711064,136711064],[136715324,136715324],[136723504,136723504],[136737460,136737460],[136743143,136743143],[136746224,136746224],[136751842,136751842],[136759379,136759379],[136761853,136761853]],\"ys\":[[150,195],[150,195],[150,195],[150,195],[150,195],[150,195],[50,66],[50,66],[50,66],[50,66],[50,66],[50,66],[250,296],[250,296],[250,296],[250,296],[150,194],[150,194],[150,194],[150,194],[150,194],[150,194],[150,194],[150,194],[150,194],[150,194],[150,194],[150,194],[150,194],[150,194],[150,194],[150,194],[150,194],[150,194],[150,194],[150,194],[150,194],[150,194],[150,194],[150,194],[150,194],[150,194],[250,298],[250,298],[250,298],[250,298],[250,298],[250,298],[250,298],[250,298],[250,298],[250,298],[50,92],[50,92],[50,92],[50,92],[50,92],[50,92],[150,194],[150,194],[150,194],[150,194],[150,194],[250,295],[250,295],[250,295],[250,295],[250,295],[250,295],[250,295],[250,295],[250,295],[250,295],[250,295],[250,295],[250,295],[250,295],[250,295],[250,295],[250,295],[250,295],[250,295],[250,295],[250,295],[250,295],[250,295],[250,295]]}},\"id\":\"6eaa3e55-c0be-4de5-b25a-01834939e6a1\",\"type\":\"ColumnDataSource\"},{\"attributes\":{},\"id\":\"7ea81a10-3af8-405b-9745-db482fcb47b8\",\"type\":\"BasicTickFormatter\"},{\"attributes\":{\"plot\":{\"id\":\"aab2f988-aa13-4e4c-866f-36970169cbd6\",\"subtype\":\"Figure\",\"type\":\"Plot\"}},\"id\":\"89e12485-52a4-4ab6-b508-cf407319c89a\",\"type\":\"HelpTool\"},{\"attributes\":{\"callback\":null,\"end\":400},\"id\":\"ca18f31f-c2bc-4548-ad22-07513b101cf0\",\"type\":\"Range1d\"},{\"attributes\":{\"plot\":null,\"text\":null},\"id\":\"ad21a39a-e36a-45f8-a175-95a628235e7a\",\"type\":\"Title\"},{\"attributes\":{\"plot\":{\"id\":\"aab2f988-aa13-4e4c-866f-36970169cbd6\",\"subtype\":\"Figure\",\"type\":\"Plot\"}},\"id\":\"06b576d1-162d-41fe-be87-4298aeaae596\",\"type\":\"SaveTool\"},{\"attributes\":{},\"id\":\"062b0b3f-356d-4c09-a1df-8cc9b3a059d7\",\"type\":\"ToolEvents\"},{\"attributes\":{\"plot\":{\"id\":\"aab2f988-aa13-4e4c-866f-36970169cbd6\",\"subtype\":\"Figure\",\"type\":\"Plot\"}},\"id\":\"23f06b37-293c-441c-b0cc-0514a3b03677\",\"type\":\"WheelZoomTool\"},{\"attributes\":{\"line_color\":{\"field\":\"line_color\"},\"xs\":{\"field\":\"xs\"},\"ys\":{\"field\":\"ys\"}},\"id\":\"9aac0206-bd78-4473-a5ec-bbd93fa5146b\",\"type\":\"MultiLine\"},{\"attributes\":{\"overlay\":{\"id\":\"fc9a69cb-a5a2-4b52-b02b-e4f8a4f6780d\",\"type\":\"BoxAnnotation\"},\"plot\":{\"id\":\"aab2f988-aa13-4e4c-866f-36970169cbd6\",\"subtype\":\"Figure\",\"type\":\"Plot\"}},\"id\":\"c818310a-8e20-40f3-9fd0-8009cc73d07b\",\"type\":\"BoxZoomTool\"},{\"attributes\":{\"level\":\"glyph\",\"plot\":{\"id\":\"aab2f988-aa13-4e4c-866f-36970169cbd6\",\"subtype\":\"Figure\",\"type\":\"Plot\"},\"source\":{\"id\":\"b8158bc8-b519-487b-b811-3e2f2eeeb881\",\"type\":\"ColumnDataSource\"},\"text\":{\"field\":\"vals\"},\"text_font_size\":{\"value\":\"9pt\"},\"text_font_style\":\"bold\",\"x\":{\"field\":\"x\"},\"y\":{\"field\":\"y\"}},\"id\":\"a09ee38b-344a-4889-af79-3b7be4454bea\",\"type\":\"LabelSet\"},{\"attributes\":{\"active_drag\":\"auto\",\"active_scroll\":\"auto\",\"active_tap\":\"auto\",\"tools\":[{\"id\":\"7c8ebf15-4105-4879-bfc3-aa346119773a\",\"type\":\"PanTool\"},{\"id\":\"23f06b37-293c-441c-b0cc-0514a3b03677\",\"type\":\"WheelZoomTool\"},{\"id\":\"c818310a-8e20-40f3-9fd0-8009cc73d07b\",\"type\":\"BoxZoomTool\"},{\"id\":\"06b576d1-162d-41fe-be87-4298aeaae596\",\"type\":\"SaveTool\"},{\"id\":\"68d738e3-3677-43fd-b3fa-aa60aa984502\",\"type\":\"ResetTool\"},{\"id\":\"89e12485-52a4-4ab6-b508-cf407319c89a\",\"type\":\"HelpTool\"}]},\"id\":\"05e3434d-4a88-4f64-b9bd-77d2510b548a\",\"type\":\"Toolbar\"},{\"attributes\":{\"callback\":null,\"column_names\":[\"right\",\"bottom\",\"top\",\"left\"],\"data\":{\"bottom\":[345,345,345,345,345,345,345],\"left\":[135809835,135957574,136289083,136499189,136545415,136597196,136664254],\"right\":[135928279,136288182,136482839,136542633,136594750,136634047,136743222],\"top\":[375,375,375,375,375,375,375]}},\"id\":\"f5403ee7-90cb-4c78-b4a3-652bac6559ac\",\"type\":\"ColumnDataSource\"},{\"attributes\":{},\"id\":\"b0396f91-4078-402c-b65f-b5b68937a17c\",\"type\":\"BasicTicker\"},{\"attributes\":{\"bottom\":{\"field\":\"bottom\"},\"fill_alpha\":{\"value\":0.1},\"fill_color\":{\"value\":\"#1f77b4\"},\"left\":{\"field\":\"left\"},\"line_alpha\":{\"value\":0.1},\"line_color\":{\"value\":\"#1f77b4\"},\"right\":{\"field\":\"right\"},\"top\":{\"field\":\"top\"}},\"id\":\"a88651fe-f73e-4163-9426-d3bc3e60e709\",\"type\":\"Quad\"},{\"attributes\":{\"bottom_units\":\"screen\",\"fill_alpha\":{\"value\":0.5},\"fill_color\":{\"value\":\"lightgrey\"},\"left_units\":\"screen\",\"level\":\"overlay\",\"line_alpha\":{\"value\":1.0},\"line_color\":{\"value\":\"black\"},\"line_dash\":[4,4],\"line_width\":{\"value\":2},\"plot\":null,\"render_mode\":\"css\",\"right_units\":\"screen\",\"top_units\":\"screen\"},\"id\":\"fc9a69cb-a5a2-4b52-b02b-e4f8a4f6780d\",\"type\":\"BoxAnnotation\"},{\"attributes\":{\"bottom\":{\"field\":\"bottom\"},\"fill_color\":{\"field\":\"fill_color\"},\"left\":{\"field\":\"left\"},\"line_color\":{\"value\":null},\"right\":{\"field\":\"right\"},\"top\":{\"field\":\"top\"}},\"id\":\"4e656d47-c8a6-4713-aaae-8b415720e498\",\"type\":\"Quad\"},{\"attributes\":{\"data_source\":{\"id\":\"6eaa3e55-c0be-4de5-b25a-01834939e6a1\",\"type\":\"ColumnDataSource\"},\"glyph\":{\"id\":\"9aac0206-bd78-4473-a5ec-bbd93fa5146b\",\"type\":\"MultiLine\"},\"hover_glyph\":null,\"nonselection_glyph\":{\"id\":\"c49d1d25-a2ca-462d-9653-fad4c1c48fcf\",\"type\":\"MultiLine\"},\"selection_glyph\":null},\"id\":\"27d45876-6134-46f5-9b05-1149f3dd0010\",\"type\":\"GlyphRenderer\"},{\"attributes\":{\"plot\":{\"id\":\"aab2f988-aa13-4e4c-866f-36970169cbd6\",\"subtype\":\"Figure\",\"type\":\"Plot\"},\"ticker\":{\"id\":\"c6a11a56-2073-4349-97ff-d568c1bf77c6\",\"type\":\"BasicTicker\"}},\"id\":\"092c69c2-3edc-4cf8-ae8a-0d6d8b6e08a4\",\"type\":\"Grid\"},{\"attributes\":{},\"id\":\"c6a11a56-2073-4349-97ff-d568c1bf77c6\",\"type\":\"BasicTicker\"},{\"attributes\":{\"callback\":null,\"end\":136786630,\"start\":135757320},\"id\":\"f9f8b7b7-ff90-4ae5-90b2-40bb13f7fdbd\",\"type\":\"Range1d\"},{\"attributes\":{\"callback\":null,\"column_names\":[\"y\",\"x\",\"vals\"],\"data\":{\"vals\":[\"RAB3GAP1\",\"ZRANB3\",\"R3HDM1\",\"UBXN4\",\"LCT\",\"MCM6\",\"DARS\"],\"x\":[135869057.0,136122878.0,136385961.0,136520911.0,136570082.5,136615621.5,136703738.0],\"y\":[360.0,360.0,360.0,360.0,360.0,360.0,360.0]}},\"id\":\"c1446b97-9243-499e-834c-6faea22867b6\",\"type\":\"ColumnDataSource\"},{\"attributes\":{\"dimension\":1,\"plot\":{\"id\":\"aab2f988-aa13-4e4c-866f-36970169cbd6\",\"subtype\":\"Figure\",\"type\":\"Plot\"},\"ticker\":{\"id\":\"b0396f91-4078-402c-b65f-b5b68937a17c\",\"type\":\"BasicTicker\"}},\"id\":\"6a89ee16-c106-4ff8-8bce-e7f27780d89f\",\"type\":\"Grid\"},{\"attributes\":{},\"id\":\"af0ac31e-2771-4203-b98a-a7d3d9dafff3\",\"type\":\"BasicTickFormatter\"},{\"attributes\":{\"callback\":null,\"column_names\":[\"y\",\"x\",\"vals\"],\"data\":{\"vals\":[\"6_1503\",\"6_57\",\"4_1699\",\"26_1414\",\"10_2206\",\"6_1114\",\"5_1296\",\"24_1504\"],\"x\":[135771974,135889881,135915358,136398174,136501840,136652491,136652953,136653925],\"y\":[200.0,71.0,301.0,199.0,303.0,97.0,199.0,300.0]}},\"id\":\"b8158bc8-b519-487b-b811-3e2f2eeeb881\",\"type\":\"ColumnDataSource\"},{\"attributes\":{\"line_alpha\":{\"value\":0.1},\"line_color\":{\"value\":\"#1f77b4\"},\"xs\":{\"field\":\"xs\"},\"ys\":{\"field\":\"ys\"}},\"id\":\"c49d1d25-a2ca-462d-9653-fad4c1c48fcf\",\"type\":\"MultiLine\"},{\"attributes\":{\"below\":[{\"id\":\"1e7f8fbc-cee7-4538-8739-2824da36797a\",\"type\":\"LinearAxis\"}],\"left\":[{\"id\":\"bb05cc30-e399-4d40-b1ed-1aaeac1f9615\",\"type\":\"LinearAxis\"}],\"plot_height\":400,\"plot_width\":900,\"renderers\":[{\"id\":\"1e7f8fbc-cee7-4538-8739-2824da36797a\",\"type\":\"LinearAxis\"},{\"id\":\"092c69c2-3edc-4cf8-ae8a-0d6d8b6e08a4\",\"type\":\"Grid\"},{\"id\":\"bb05cc30-e399-4d40-b1ed-1aaeac1f9615\",\"type\":\"LinearAxis\"},{\"id\":\"6a89ee16-c106-4ff8-8bce-e7f27780d89f\",\"type\":\"Grid\"},{\"id\":\"fc9a69cb-a5a2-4b52-b02b-e4f8a4f6780d\",\"type\":\"BoxAnnotation\"},{\"id\":\"1c9ebc47-1a49-4845-93f8-81322628b077\",\"type\":\"GlyphRenderer\"},{\"id\":\"27d45876-6134-46f5-9b05-1149f3dd0010\",\"type\":\"GlyphRenderer\"},{\"id\":\"a09ee38b-344a-4889-af79-3b7be4454bea\",\"type\":\"LabelSet\"},{\"id\":\"0ef9933d-f598-4120-927f-0ac986c9ac4e\",\"type\":\"GlyphRenderer\"},{\"id\":\"a69797fb-bf07-4ead-937c-bbe43c0abe7d\",\"type\":\"LabelSet\"}],\"title\":{\"id\":\"ad21a39a-e36a-45f8-a175-95a628235e7a\",\"type\":\"Title\"},\"tool_events\":{\"id\":\"062b0b3f-356d-4c09-a1df-8cc9b3a059d7\",\"type\":\"ToolEvents\"},\"toolbar\":{\"id\":\"05e3434d-4a88-4f64-b9bd-77d2510b548a\",\"type\":\"Toolbar\"},\"toolbar_location\":null,\"x_range\":{\"id\":\"f9f8b7b7-ff90-4ae5-90b2-40bb13f7fdbd\",\"type\":\"Range1d\"},\"y_range\":{\"id\":\"ca18f31f-c2bc-4548-ad22-07513b101cf0\",\"type\":\"Range1d\"}},\"id\":\"aab2f988-aa13-4e4c-866f-36970169cbd6\",\"subtype\":\"Figure\",\"type\":\"Plot\"},{\"attributes\":{\"formatter\":{\"id\":\"7ea81a10-3af8-405b-9745-db482fcb47b8\",\"type\":\"BasicTickFormatter\"},\"plot\":{\"id\":\"aab2f988-aa13-4e4c-866f-36970169cbd6\",\"subtype\":\"Figure\",\"type\":\"Plot\"},\"ticker\":{\"id\":\"c6a11a56-2073-4349-97ff-d568c1bf77c6\",\"type\":\"BasicTicker\"}},\"id\":\"1e7f8fbc-cee7-4538-8739-2824da36797a\",\"type\":\"LinearAxis\"},{\"attributes\":{\"plot\":{\"id\":\"aab2f988-aa13-4e4c-866f-36970169cbd6\",\"subtype\":\"Figure\",\"type\":\"Plot\"}},\"id\":\"68d738e3-3677-43fd-b3fa-aa60aa984502\",\"type\":\"ResetTool\"}],\"root_ids\":[\"aab2f988-aa13-4e4c-866f-36970169cbd6\"]},\"title\":\"Bokeh Application\",\"version\":\"0.12.0\"}};\n",
       "            var render_items = [{\"docid\":\"51fdd38f-0ace-46fe-a1da-6bacc3a66485\",\"elementid\":\"5bc67e77-fa39-4191-9063-7f25bf55b030\",\"modelid\":\"aab2f988-aa13-4e4c-866f-36970169cbd6\",\"notebook_comms_target\":\"ee4852a8-2795-429c-a532-0675786988f6\"}];\n",
       "            \n",
       "            Bokeh.embed.embed_items(docs_json, render_items);\n",
       "        });\n",
       "      },\n",
       "      function(Bokeh) {\n",
       "      }\n",
       "    ];\n",
       "  \n",
       "    function run_inline_js() {\n",
       "      for (var i = 0; i < inline_js.length; i++) {\n",
       "        inline_js[i](window.Bokeh);\n",
       "      }\n",
       "    }\n",
       "  \n",
       "    if (window._bokeh_is_loading === 0) {\n",
       "      console.log(\"Bokeh: BokehJS loaded, going straight to plotting\");\n",
       "      run_inline_js();\n",
       "    } else {\n",
       "      load_libs(js_urls, function() {\n",
       "        console.log(\"Bokeh: BokehJS plotting callback run at\", now());\n",
       "        run_inline_js();\n",
       "      });\n",
       "    }\n",
       "  }(this));\n",
       "</script>"
      ]
     },
     "metadata": {},
     "output_type": "display_data"
    },
    {
     "data": {
      "text/html": [
       "<p><code>&lt;Bokeh Notebook handle for <strong>In[13]</strong>&gt;</code></p>"
      ],
      "text/plain": [
       "<bokeh.io._CommsHandle at 0x7fb5f130add0>"
      ]
     },
     "execution_count": 13,
     "metadata": {},
     "output_type": "execute_result"
    }
   ],
   "source": [
    "plt_obj = dm.superset_yes_no([di_6_57, dm.di_26_1414, dm.di_10_2206, dm.di_24_1504], \n",
    "                             [dm.di_39_1014, dm.di_64_1575], min_match=0.001)\n",
    "plt = plt_obj.do_plot()\n",
    "am = plt_obj.plot_context.yes_allele_mask\n",
    "show(plt)"
   ]
  },
  {
   "cell_type": "code",
   "execution_count": 14,
   "metadata": {
    "collapsed": false
   },
   "outputs": [
    {
     "data": {
      "text/html": [
       "<table>\n",
       "<thead><tr><th style=\"text-align:center\">index</th><th style=\"text-align:center\">first</th><th style=\"text-align:center\">length</th><th style=\"text-align:center\">snps</th><th style=\"text-align:center\" colspan=2>alleles</th><th style=\"text-align:center\" colspan=2>matches</th><th style=\"text-align:center\" colspan=2>afr</th><th style=\"text-align:center\" colspan=2>afx</th><th style=\"text-align:center\" colspan=2>amr</th><th style=\"text-align:center\" colspan=2>eas</th><th style=\"text-align:center\" colspan=2>eur</th><th style=\"text-align:center\" colspan=2>sas</th><th style=\"text-align:center\" colspan=2>sax</th></tr></thead>\n",
       "<tr class=\"even\"><td style=\"text-align: right;\">353921</td><td style=\"text-align: right;\">136,501,840</td><td style=\"text-align: right;\">53,819</td><td style=\"text-align: right;\">10</td><td style=\"text-align: right;\">2206</td><td style=\"text-align: right;\">0.00</td><td style=\"text-align: right;\">2</td><td style=\"text-align: right;\">1.00</td><td style=\"text-align: right;\">0</td><td style=\"text-align: right;\">0.00</td><td style=\"text-align: right;\">0</td><td style=\"text-align: right;\">0.00</td><td style=\"text-align: right;\">0</td><td style=\"text-align: right;\">0.00</td><td style=\"text-align: right;\">0</td><td style=\"text-align: right;\">0.00</td><td style=\"text-align: right;\">2</td><td style=\"text-align: right;\">8.70</td><td style=\"text-align: right;\">0</td><td style=\"text-align: right;\">0.00</td><td style=\"text-align: right;\">0</td><td style=\"text-align: right;\">0.00</td></tr>\n",
       "<tr><td style=\"text-align: right;\">353462</td><td style=\"text-align: right;\">135,915,358</td><td style=\"text-align: right;\">79,721</td><td style=\"text-align: right;\">4</td><td style=\"text-align: right;\">1699</td><td style=\"text-align: right;\">0.00</td><td style=\"text-align: right;\">2</td><td style=\"text-align: right;\">1.00</td><td style=\"text-align: right;\">0</td><td style=\"text-align: right;\">0.00</td><td style=\"text-align: right;\">0</td><td style=\"text-align: right;\">0.00</td><td style=\"text-align: right;\">0</td><td style=\"text-align: right;\">0.00</td><td style=\"text-align: right;\">0</td><td style=\"text-align: right;\">0.00</td><td style=\"text-align: right;\">2</td><td style=\"text-align: right;\">8.70</td><td style=\"text-align: right;\">0</td><td style=\"text-align: right;\">0.00</td><td style=\"text-align: right;\">0</td><td style=\"text-align: right;\">0.00</td></tr>\n",
       "<tr class=\"even\"><td style=\"text-align: right;\">354130</td><td style=\"text-align: right;\">136,653,925</td><td style=\"text-align: right;\">107,928</td><td style=\"text-align: right;\">24</td><td style=\"text-align: right;\">1504</td><td style=\"text-align: right;\">0.00</td><td style=\"text-align: right;\">2</td><td style=\"text-align: right;\">1.00</td><td style=\"text-align: right;\">0</td><td style=\"text-align: right;\">0.00</td><td style=\"text-align: right;\">0</td><td style=\"text-align: right;\">0.00</td><td style=\"text-align: right;\">0</td><td style=\"text-align: right;\">0.00</td><td style=\"text-align: right;\">0</td><td style=\"text-align: right;\">0.00</td><td style=\"text-align: right;\">2</td><td style=\"text-align: right;\">8.70</td><td style=\"text-align: right;\">0</td><td style=\"text-align: right;\">0.00</td><td style=\"text-align: right;\">0</td><td style=\"text-align: right;\">0.00</td></tr>\n",
       "<tr><td style=\"text-align: right;\">353283</td><td style=\"text-align: right;\">135,771,974</td><td style=\"text-align: right;\">368,330</td><td style=\"text-align: right;\">6</td><td style=\"text-align: right;\">1503</td><td style=\"text-align: right;\">0.00</td><td style=\"text-align: right;\">2</td><td style=\"text-align: right;\">1.00</td><td style=\"text-align: right;\">0</td><td style=\"text-align: right;\">0.00</td><td style=\"text-align: right;\">0</td><td style=\"text-align: right;\">0.00</td><td style=\"text-align: right;\">0</td><td style=\"text-align: right;\">0.00</td><td style=\"text-align: right;\">0</td><td style=\"text-align: right;\">0.00</td><td style=\"text-align: right;\">2</td><td style=\"text-align: right;\">8.70</td><td style=\"text-align: right;\">0</td><td style=\"text-align: right;\">0.00</td><td style=\"text-align: right;\">0</td><td style=\"text-align: right;\">0.00</td></tr>\n",
       "<tr class=\"even\"><td style=\"text-align: right;\">353797</td><td style=\"text-align: right;\">136,398,174</td><td style=\"text-align: right;\">75,924</td><td style=\"text-align: right;\">26</td><td style=\"text-align: right;\">1414</td><td style=\"text-align: right;\">0.00</td><td style=\"text-align: right;\">2</td><td style=\"text-align: right;\">1.00</td><td style=\"text-align: right;\">0</td><td style=\"text-align: right;\">0.00</td><td style=\"text-align: right;\">0</td><td style=\"text-align: right;\">0.00</td><td style=\"text-align: right;\">0</td><td style=\"text-align: right;\">0.00</td><td style=\"text-align: right;\">0</td><td style=\"text-align: right;\">0.00</td><td style=\"text-align: right;\">2</td><td style=\"text-align: right;\">8.70</td><td style=\"text-align: right;\">0</td><td style=\"text-align: right;\">0.00</td><td style=\"text-align: right;\">0</td><td style=\"text-align: right;\">0.00</td></tr>\n",
       "<tr><td style=\"text-align: right;\">354129</td><td style=\"text-align: right;\">136,652,953</td><td style=\"text-align: right;\">108,222</td><td style=\"text-align: right;\">5</td><td style=\"text-align: right;\">1296</td><td style=\"text-align: right;\">0.00</td><td style=\"text-align: right;\">2</td><td style=\"text-align: right;\">1.00</td><td style=\"text-align: right;\">0</td><td style=\"text-align: right;\">0.00</td><td style=\"text-align: right;\">0</td><td style=\"text-align: right;\">0.00</td><td style=\"text-align: right;\">0</td><td style=\"text-align: right;\">0.00</td><td style=\"text-align: right;\">0</td><td style=\"text-align: right;\">0.00</td><td style=\"text-align: right;\">2</td><td style=\"text-align: right;\">8.70</td><td style=\"text-align: right;\">0</td><td style=\"text-align: right;\">0.00</td><td style=\"text-align: right;\">0</td><td style=\"text-align: right;\">0.00</td></tr>\n",
       "<tr class=\"even\"><td style=\"text-align: right;\">354127</td><td style=\"text-align: right;\">136,652,491</td><td style=\"text-align: right;\">80,281</td><td style=\"text-align: right;\">6</td><td style=\"text-align: right;\">1114</td><td style=\"text-align: right;\">0.00</td><td style=\"text-align: right;\">2</td><td style=\"text-align: right;\">1.00</td><td style=\"text-align: right;\">0</td><td style=\"text-align: right;\">0.00</td><td style=\"text-align: right;\">0</td><td style=\"text-align: right;\">0.00</td><td style=\"text-align: right;\">0</td><td style=\"text-align: right;\">0.00</td><td style=\"text-align: right;\">0</td><td style=\"text-align: right;\">0.00</td><td style=\"text-align: right;\">2</td><td style=\"text-align: right;\">8.70</td><td style=\"text-align: right;\">0</td><td style=\"text-align: right;\">0.00</td><td style=\"text-align: right;\">0</td><td style=\"text-align: right;\">0.00</td></tr>\n",
       "<tr><td style=\"text-align: right;\">353444</td><td style=\"text-align: right;\">135,889,881</td><td style=\"text-align: right;\">493,055</td><td style=\"text-align: right;\">6</td><td style=\"text-align: right;\">57</td><td style=\"text-align: right;\">0.04</td><td style=\"text-align: right;\">2</td><td style=\"text-align: right;\">1.00</td><td style=\"text-align: right;\">0</td><td style=\"text-align: right;\">0.00</td><td style=\"text-align: right;\">0</td><td style=\"text-align: right;\">0.00</td><td style=\"text-align: right;\">0</td><td style=\"text-align: right;\">0.00</td><td style=\"text-align: right;\">0</td><td style=\"text-align: right;\">0.00</td><td style=\"text-align: right;\">2</td><td style=\"text-align: right;\">8.70</td><td style=\"text-align: right;\">0</td><td style=\"text-align: right;\">0.00</td><td style=\"text-align: right;\">0</td><td style=\"text-align: right;\">0.00</td></tr>\n",
       "</table>"
      ],
      "text/plain": [
       "<IPython.core.display.HTML object>"
      ]
     },
     "execution_count": 14,
     "metadata": {},
     "output_type": "execute_result"
    }
   ],
   "source": [
    "HTML(plt_obj.get_html())"
   ]
  },
  {
   "cell_type": "code",
   "execution_count": 15,
   "metadata": {
    "collapsed": false
   },
   "outputs": [
    {
     "data": {
      "text/plain": [
       "array([2, 2, 2, 2, 2, 2, 2, 2, 2, 2, 2, 2, 2, 2, 2, 2, 2, 2, 2, 2, 2, 1, 1,\n",
       "       1, 1, 1, 1, 1, 1, 1, 1, 1, 1, 1, 1, 1, 0, 0, 0, 0, 0, 0, 0, 0, 0, 0,\n",
       "       0, 0, 0, 0, 0, 0, 0, 0, 0, 0, 0, 0, 0, 0, 0, 0, 0, 0])"
      ]
     },
     "execution_count": 15,
     "metadata": {},
     "output_type": "execute_result"
    }
   ],
   "source": [
    "sa_64_1575.alleles_per_snp(am)"
   ]
  },
  {
   "cell_type": "code",
   "execution_count": 16,
   "metadata": {
    "collapsed": false
   },
   "outputs": [
    {
     "data": {
      "text/html": [
       "\n",
       "\n",
       "    <div class=\"bk-root\">\n",
       "        <div class=\"plotdiv\" id=\"e77071de-531f-4a3e-96f4-542ff13d393a\"></div>\n",
       "    </div>\n",
       "<script type=\"text/javascript\">\n",
       "  \n",
       "  (function(global) {\n",
       "    function now() {\n",
       "      return new Date();\n",
       "    }\n",
       "  \n",
       "    if (typeof (window._bokeh_onload_callbacks) === \"undefined\") {\n",
       "      window._bokeh_onload_callbacks = [];\n",
       "    }\n",
       "  \n",
       "    function run_callbacks() {\n",
       "      window._bokeh_onload_callbacks.forEach(function(callback) { callback() });\n",
       "      delete window._bokeh_onload_callbacks\n",
       "      console.info(\"Bokeh: all callbacks have finished\");\n",
       "    }\n",
       "  \n",
       "    function load_libs(js_urls, callback) {\n",
       "      window._bokeh_onload_callbacks.push(callback);\n",
       "      if (window._bokeh_is_loading > 0) {\n",
       "        console.log(\"Bokeh: BokehJS is being loaded, scheduling callback at\", now());\n",
       "        return null;\n",
       "      }\n",
       "      if (js_urls == null || js_urls.length === 0) {\n",
       "        run_callbacks();\n",
       "        return null;\n",
       "      }\n",
       "      console.log(\"Bokeh: BokehJS not loaded, scheduling load and callback at\", now());\n",
       "      window._bokeh_is_loading = js_urls.length;\n",
       "      for (var i = 0; i < js_urls.length; i++) {\n",
       "        var url = js_urls[i];\n",
       "        var s = document.createElement('script');\n",
       "        s.src = url;\n",
       "        s.async = false;\n",
       "        s.onreadystatechange = s.onload = function() {\n",
       "          window._bokeh_is_loading--;\n",
       "          if (window._bokeh_is_loading === 0) {\n",
       "            console.log(\"Bokeh: all BokehJS libraries loaded\");\n",
       "            run_callbacks()\n",
       "          }\n",
       "        };\n",
       "        s.onerror = function() {\n",
       "          console.warn(\"failed to load library \" + url);\n",
       "        };\n",
       "        console.log(\"Bokeh: injecting script tag for BokehJS library: \", url);\n",
       "        document.getElementsByTagName(\"head\")[0].appendChild(s);\n",
       "      }\n",
       "    };var element = document.getElementById(\"e77071de-531f-4a3e-96f4-542ff13d393a\");\n",
       "    if (element == null) {\n",
       "      console.log(\"Bokeh: ERROR: autoload.js configured with elementid 'e77071de-531f-4a3e-96f4-542ff13d393a' but no matching script tag was found. \")\n",
       "      return false;\n",
       "    }\n",
       "  \n",
       "    var js_urls = [];\n",
       "  \n",
       "    var inline_js = [\n",
       "      function(Bokeh) {\n",
       "        Bokeh.$(function() {\n",
       "            var docs_json = {\"9e49bb6a-13a2-4d6f-85cb-2252d66cc040\":{\"roots\":{\"references\":[{\"attributes\":{\"plot\":{\"id\":\"9dfa1e7e-a71d-4fd2-bc2b-6b7c7e4327aa\",\"subtype\":\"Figure\",\"type\":\"Plot\"}},\"id\":\"c2911113-e4e7-453a-b47e-7457caf812c7\",\"type\":\"PanTool\"},{\"attributes\":{\"plot\":{\"id\":\"9dfa1e7e-a71d-4fd2-bc2b-6b7c7e4327aa\",\"subtype\":\"Figure\",\"type\":\"Plot\"}},\"id\":\"218e64c7-d654-42ad-a627-12445a96acdb\",\"type\":\"ResetTool\"},{\"attributes\":{\"line_alpha\":{\"value\":0.1},\"line_color\":{\"value\":\"#1f77b4\"},\"xs\":{\"field\":\"xs\"},\"ys\":{\"field\":\"ys\"}},\"id\":\"9dbfb636-ea70-42b6-a17c-c9ed9f17053a\",\"type\":\"MultiLine\"},{\"attributes\":{\"bottom\":{\"field\":\"bottom\"},\"fill_alpha\":{\"value\":0.1},\"fill_color\":{\"value\":\"#1f77b4\"},\"left\":{\"field\":\"left\"},\"line_alpha\":{\"value\":0.1},\"line_color\":{\"value\":\"#1f77b4\"},\"right\":{\"field\":\"right\"},\"top\":{\"field\":\"top\"}},\"id\":\"19ab0dea-cde3-44e3-9ede-cf47a7764f39\",\"type\":\"Quad\"},{\"attributes\":{\"bottom\":{\"field\":\"bottom\"},\"fill_color\":{\"field\":\"fill_color\"},\"left\":{\"field\":\"left\"},\"line_color\":{\"value\":null},\"right\":{\"field\":\"right\"},\"top\":{\"field\":\"top\"}},\"id\":\"a15c7a25-45c2-49b2-ae3d-b9838681e1d5\",\"type\":\"Quad\"},{\"attributes\":{\"bottom\":{\"field\":\"bottom\"},\"fill_color\":{\"value\":\"white\"},\"left\":{\"field\":\"left\"},\"right\":{\"field\":\"right\"},\"top\":{\"field\":\"top\"}},\"id\":\"9b21b065-6c23-471a-ae28-88c30c68317f\",\"type\":\"Quad\"},{\"attributes\":{\"callback\":null,\"end\":500},\"id\":\"5eb6f4f1-c923-4d82-91e6-e4cf24d47fa6\",\"type\":\"Range1d\"},{\"attributes\":{\"overlay\":{\"id\":\"374061e9-cd1d-4a2f-9bec-c710074baf70\",\"type\":\"BoxAnnotation\"},\"plot\":{\"id\":\"9dfa1e7e-a71d-4fd2-bc2b-6b7c7e4327aa\",\"subtype\":\"Figure\",\"type\":\"Plot\"}},\"id\":\"60b0f2f1-09ae-4428-af6d-2030290d702c\",\"type\":\"BoxZoomTool\"},{\"attributes\":{\"bottom\":{\"field\":\"bottom\"},\"fill_alpha\":{\"value\":0.1},\"fill_color\":{\"value\":\"#1f77b4\"},\"left\":{\"field\":\"left\"},\"line_alpha\":{\"value\":0.1},\"line_color\":{\"value\":\"#1f77b4\"},\"right\":{\"field\":\"right\"},\"top\":{\"field\":\"top\"}},\"id\":\"9fe7905f-2bfe-414e-94b8-60c291766c38\",\"type\":\"Quad\"},{\"attributes\":{\"callback\":null,\"column_names\":[\"right\",\"bottom\",\"top\",\"left\"],\"data\":{\"bottom\":[445,445,445,445,445,445,445],\"left\":[135809835,135957574,136289083,136499189,136545415,136597196,136664254],\"right\":[135928279,136288182,136482839,136542633,136594750,136634047,136743222],\"top\":[475,475,475,475,475,475,475]}},\"id\":\"a0708bc0-f803-4ab0-9af3-cec247a36c53\",\"type\":\"ColumnDataSource\"},{\"attributes\":{},\"id\":\"6ecd1ec7-bc21-41bd-baab-47790a74b877\",\"type\":\"BasicTickFormatter\"},{\"attributes\":{\"plot\":{\"id\":\"9dfa1e7e-a71d-4fd2-bc2b-6b7c7e4327aa\",\"subtype\":\"Figure\",\"type\":\"Plot\"}},\"id\":\"16101c19-b4e3-43f5-9af9-5290b98e076b\",\"type\":\"HelpTool\"},{\"attributes\":{\"callback\":null,\"column_names\":[\"y\",\"x\",\"vals\"],\"data\":{\"vals\":[\"RAB3GAP1\",\"ZRANB3\",\"R3HDM1\",\"UBXN4\",\"LCT\",\"MCM6\",\"DARS\"],\"x\":[135869057.0,136122878.0,136385961.0,136520911.0,136570082.5,136615621.5,136703738.0],\"y\":[460.0,460.0,460.0,460.0,460.0,460.0,460.0]}},\"id\":\"f399c8a3-e554-4951-b023-a7adb93a9e7f\",\"type\":\"ColumnDataSource\"},{\"attributes\":{\"dimension\":1,\"plot\":{\"id\":\"9dfa1e7e-a71d-4fd2-bc2b-6b7c7e4327aa\",\"subtype\":\"Figure\",\"type\":\"Plot\"},\"ticker\":{\"id\":\"dd123f16-99b9-4b5b-96b9-3f325528a2d2\",\"type\":\"BasicTicker\"}},\"id\":\"ef37799c-20dd-4b8e-af94-a8ad224aec91\",\"type\":\"Grid\"},{\"attributes\":{\"data_source\":{\"id\":\"a0708bc0-f803-4ab0-9af3-cec247a36c53\",\"type\":\"ColumnDataSource\"},\"glyph\":{\"id\":\"9b21b065-6c23-471a-ae28-88c30c68317f\",\"type\":\"Quad\"},\"hover_glyph\":null,\"nonselection_glyph\":{\"id\":\"19ab0dea-cde3-44e3-9ede-cf47a7764f39\",\"type\":\"Quad\"},\"selection_glyph\":null},\"id\":\"b24137ab-d901-4626-beae-1e092bc29024\",\"type\":\"GlyphRenderer\"},{\"attributes\":{\"formatter\":{\"id\":\"5c8a5507-cd2c-42f3-a5cd-803e76dd9038\",\"type\":\"BasicTickFormatter\"},\"plot\":{\"id\":\"9dfa1e7e-a71d-4fd2-bc2b-6b7c7e4327aa\",\"subtype\":\"Figure\",\"type\":\"Plot\"},\"ticker\":{\"id\":\"dd123f16-99b9-4b5b-96b9-3f325528a2d2\",\"type\":\"BasicTicker\"},\"visible\":null},\"id\":\"47227f0a-dcd5-4955-8172-fb411deb74d7\",\"type\":\"LinearAxis\"},{\"attributes\":{\"line_color\":{\"field\":\"line_color\"},\"xs\":{\"field\":\"xs\"},\"ys\":{\"field\":\"ys\"}},\"id\":\"35038564-343e-44c4-9d6d-60ee77bc0d2b\",\"type\":\"MultiLine\"},{\"attributes\":{\"callback\":null,\"end\":136786630,\"start\":135757320},\"id\":\"06c20512-9f8f-499b-b1a6-a2cfc6396e40\",\"type\":\"Range1d\"},{\"attributes\":{\"bottom_units\":\"screen\",\"fill_alpha\":{\"value\":0.5},\"fill_color\":{\"value\":\"lightgrey\"},\"left_units\":\"screen\",\"level\":\"overlay\",\"line_alpha\":{\"value\":1.0},\"line_color\":{\"value\":\"black\"},\"line_dash\":[4,4],\"line_width\":{\"value\":2},\"plot\":null,\"render_mode\":\"css\",\"right_units\":\"screen\",\"top_units\":\"screen\"},\"id\":\"374061e9-cd1d-4a2f-9bec-c710074baf70\",\"type\":\"BoxAnnotation\"},{\"attributes\":{\"callback\":null,\"column_names\":[\"y\",\"x\",\"vals\"],\"data\":{\"vals\":[\"6_1503\",\"6_57\",\"4_1699\",\"26_1414\",\"10_2206\",\"7_1868\"],\"x\":[135771974,135889881,135915358,136398174,136501840,136682274],\"y\":[200.0,71.0,301.0,199.0,403.0,402.0]}},\"id\":\"644e6244-9b86-4b26-b155-13564506ba0e\",\"type\":\"ColumnDataSource\"},{\"attributes\":{},\"id\":\"dd123f16-99b9-4b5b-96b9-3f325528a2d2\",\"type\":\"BasicTicker\"},{\"attributes\":{\"plot\":{\"id\":\"9dfa1e7e-a71d-4fd2-bc2b-6b7c7e4327aa\",\"subtype\":\"Figure\",\"type\":\"Plot\"}},\"id\":\"68fe55e5-cc37-4220-a6c1-60dad256e2d8\",\"type\":\"WheelZoomTool\"},{\"attributes\":{\"plot\":{\"id\":\"9dfa1e7e-a71d-4fd2-bc2b-6b7c7e4327aa\",\"subtype\":\"Figure\",\"type\":\"Plot\"}},\"id\":\"fabad099-ace2-4b70-b1c0-6a6f0c3b500d\",\"type\":\"SaveTool\"},{\"attributes\":{\"level\":\"glyph\",\"plot\":{\"id\":\"9dfa1e7e-a71d-4fd2-bc2b-6b7c7e4327aa\",\"subtype\":\"Figure\",\"type\":\"Plot\"},\"source\":{\"id\":\"f399c8a3-e554-4951-b023-a7adb93a9e7f\",\"type\":\"ColumnDataSource\"},\"text\":{\"field\":\"vals\"},\"text_align\":\"center\",\"text_baseline\":\"middle\",\"text_font_size\":{\"value\":\"8pt\"},\"x\":{\"field\":\"x\"},\"y\":{\"field\":\"y\"}},\"id\":\"835790d5-4c78-47c7-83f6-db5669cb5f81\",\"type\":\"LabelSet\"},{\"attributes\":{\"plot\":null,\"text\":null},\"id\":\"34c01d7c-e3dd-4bd3-8af6-9ce7eebbb074\",\"type\":\"Title\"},{\"attributes\":{\"data_source\":{\"id\":\"95328b0c-acf0-4feb-86c4-a786b341dd54\",\"type\":\"ColumnDataSource\"},\"glyph\":{\"id\":\"a15c7a25-45c2-49b2-ae3d-b9838681e1d5\",\"type\":\"Quad\"},\"hover_glyph\":null,\"nonselection_glyph\":{\"id\":\"9fe7905f-2bfe-414e-94b8-60c291766c38\",\"type\":\"Quad\"},\"selection_glyph\":null},\"id\":\"13fcfea2-1fa0-4062-ac55-4590ea625072\",\"type\":\"GlyphRenderer\"},{\"attributes\":{\"active_drag\":\"auto\",\"active_scroll\":\"auto\",\"active_tap\":\"auto\",\"tools\":[{\"id\":\"c2911113-e4e7-453a-b47e-7457caf812c7\",\"type\":\"PanTool\"},{\"id\":\"68fe55e5-cc37-4220-a6c1-60dad256e2d8\",\"type\":\"WheelZoomTool\"},{\"id\":\"60b0f2f1-09ae-4428-af6d-2030290d702c\",\"type\":\"BoxZoomTool\"},{\"id\":\"fabad099-ace2-4b70-b1c0-6a6f0c3b500d\",\"type\":\"SaveTool\"},{\"id\":\"218e64c7-d654-42ad-a627-12445a96acdb\",\"type\":\"ResetTool\"},{\"id\":\"16101c19-b4e3-43f5-9af9-5290b98e076b\",\"type\":\"HelpTool\"}]},\"id\":\"2364bb7b-8702-4215-84e6-c7409eae0d59\",\"type\":\"Toolbar\"},{\"attributes\":{\"data_source\":{\"id\":\"024b2954-c12e-482c-9703-1d33aa9cc118\",\"type\":\"ColumnDataSource\"},\"glyph\":{\"id\":\"35038564-343e-44c4-9d6d-60ee77bc0d2b\",\"type\":\"MultiLine\"},\"hover_glyph\":null,\"nonselection_glyph\":{\"id\":\"9dbfb636-ea70-42b6-a17c-c9ed9f17053a\",\"type\":\"MultiLine\"},\"selection_glyph\":null},\"id\":\"e536b438-00cf-4732-99e3-d307ae639637\",\"type\":\"GlyphRenderer\"},{\"attributes\":{\"below\":[{\"id\":\"88bc2d75-7617-4c9e-998d-18e0a262fa6a\",\"type\":\"LinearAxis\"}],\"left\":[{\"id\":\"47227f0a-dcd5-4955-8172-fb411deb74d7\",\"type\":\"LinearAxis\"}],\"plot_height\":500,\"plot_width\":900,\"renderers\":[{\"id\":\"88bc2d75-7617-4c9e-998d-18e0a262fa6a\",\"type\":\"LinearAxis\"},{\"id\":\"2dd29bfc-940e-40de-8aae-142045decd73\",\"type\":\"Grid\"},{\"id\":\"47227f0a-dcd5-4955-8172-fb411deb74d7\",\"type\":\"LinearAxis\"},{\"id\":\"ef37799c-20dd-4b8e-af94-a8ad224aec91\",\"type\":\"Grid\"},{\"id\":\"374061e9-cd1d-4a2f-9bec-c710074baf70\",\"type\":\"BoxAnnotation\"},{\"id\":\"13fcfea2-1fa0-4062-ac55-4590ea625072\",\"type\":\"GlyphRenderer\"},{\"id\":\"e536b438-00cf-4732-99e3-d307ae639637\",\"type\":\"GlyphRenderer\"},{\"id\":\"f66766eb-83ed-45dd-b5f6-0781c172fca3\",\"type\":\"LabelSet\"},{\"id\":\"b24137ab-d901-4626-beae-1e092bc29024\",\"type\":\"GlyphRenderer\"},{\"id\":\"835790d5-4c78-47c7-83f6-db5669cb5f81\",\"type\":\"LabelSet\"}],\"title\":{\"id\":\"34c01d7c-e3dd-4bd3-8af6-9ce7eebbb074\",\"type\":\"Title\"},\"tool_events\":{\"id\":\"389c12ee-2f77-4c1b-87b7-f9317a0b9519\",\"type\":\"ToolEvents\"},\"toolbar\":{\"id\":\"2364bb7b-8702-4215-84e6-c7409eae0d59\",\"type\":\"Toolbar\"},\"toolbar_location\":null,\"x_range\":{\"id\":\"06c20512-9f8f-499b-b1a6-a2cfc6396e40\",\"type\":\"Range1d\"},\"y_range\":{\"id\":\"5eb6f4f1-c923-4d82-91e6-e4cf24d47fa6\",\"type\":\"Range1d\"}},\"id\":\"9dfa1e7e-a71d-4fd2-bc2b-6b7c7e4327aa\",\"subtype\":\"Figure\",\"type\":\"Plot\"},{\"attributes\":{},\"id\":\"f15b9b3b-7d22-40a8-b8c0-ad4a3c510e41\",\"type\":\"BasicTicker\"},{\"attributes\":{},\"id\":\"5c8a5507-cd2c-42f3-a5cd-803e76dd9038\",\"type\":\"BasicTickFormatter\"},{\"attributes\":{\"formatter\":{\"id\":\"6ecd1ec7-bc21-41bd-baab-47790a74b877\",\"type\":\"BasicTickFormatter\"},\"plot\":{\"id\":\"9dfa1e7e-a71d-4fd2-bc2b-6b7c7e4327aa\",\"subtype\":\"Figure\",\"type\":\"Plot\"},\"ticker\":{\"id\":\"f15b9b3b-7d22-40a8-b8c0-ad4a3c510e41\",\"type\":\"BasicTicker\"}},\"id\":\"88bc2d75-7617-4c9e-998d-18e0a262fa6a\",\"type\":\"LinearAxis\"},{\"attributes\":{\"callback\":null,\"column_names\":[\"xs\",\"ys\",\"line_color\"],\"data\":{\"line_color\":[\"black\",\"black\",\"black\",\"black\",\"black\",\"black\",\"black\",\"black\",\"black\",\"black\",\"black\",\"black\",\"black\",\"black\",\"black\",\"black\",\"black\",\"black\",\"black\",\"black\",\"black\",\"black\",\"black\",\"black\",\"black\",\"black\",\"black\",\"black\",\"black\",\"black\",\"black\",\"black\",\"black\",\"black\",\"black\",\"black\",\"black\",\"black\",\"black\",\"black\",\"black\",\"black\",\"black\",\"black\",\"black\",\"black\",\"black\",\"black\",\"black\",\"black\",\"black\",\"black\",\"black\",\"black\",\"black\",\"black\",\"black\",\"black\",\"black\"],\"xs\":[[135771974,135771974],[135859371,135859371],[135877562,135877562],[136022798,136022798],[136058820,136058820],[136140304,136140304],[135889881,135889881],[135956309,135956309],[136088389,136088389],[136323321,136323321],[136361384,136361384],[136382936,136382936],[135915358,135915358],[135954405,135954405],[135995073,135995073],[135995079,135995079],[136398174,136398174],[136402117,136402117],[136403749,136403749],[136409073,136409073],[136410299,136410299],[136413359,136413359],[136416855,136416855],[136416941,136416941],[136418348,136418348],[136419961,136419961],[136420690,136420690],[136422171,136422171],[136428460,136428460],[136430866,136430866],[136432103,136432103],[136437507,136437507],[136439090,136439090],[136439517,136439517],[136444123,136444123],[136445526,136445526],[136445869,136445869],[136455600,136455600],[136456642,136456642],[136462441,136462441],[136470714,136470714],[136474098,136474098],[136501840,136501840],[136505546,136505546],[136516748,136516748],[136522710,136522710],[136528004,136528004],[136539513,136539513],[136544752,136544752],[136546110,136546110],[136553529,136553529],[136555659,136555659],[136682274,136682274],[136691825,136691825],[136698098,136698098],[136721603,136721603],[136721995,136721995],[136755684,136755684],[136775898,136775898]],\"ys\":[[150,195],[150,195],[150,195],[150,195],[150,195],[150,195],[50,66],[50,66],[50,66],[50,66],[50,66],[50,66],[250,296],[250,296],[250,296],[250,296],[150,194],[150,194],[150,194],[150,194],[150,194],[150,194],[150,194],[150,194],[150,194],[150,194],[150,194],[150,194],[150,194],[150,194],[150,194],[150,194],[150,194],[150,194],[150,194],[150,194],[150,194],[150,194],[150,194],[150,194],[150,194],[150,194],[350,398],[350,398],[350,398],[350,398],[350,398],[350,398],[350,398],[350,398],[350,398],[350,398],[350,397],[350,397],[350,397],[350,397],[350,397],[350,397],[350,397]]}},\"id\":\"024b2954-c12e-482c-9703-1d33aa9cc118\",\"type\":\"ColumnDataSource\"},{\"attributes\":{\"level\":\"glyph\",\"plot\":{\"id\":\"9dfa1e7e-a71d-4fd2-bc2b-6b7c7e4327aa\",\"subtype\":\"Figure\",\"type\":\"Plot\"},\"source\":{\"id\":\"644e6244-9b86-4b26-b155-13564506ba0e\",\"type\":\"ColumnDataSource\"},\"text\":{\"field\":\"vals\"},\"text_font_size\":{\"value\":\"9pt\"},\"text_font_style\":\"bold\",\"x\":{\"field\":\"x\"},\"y\":{\"field\":\"y\"}},\"id\":\"f66766eb-83ed-45dd-b5f6-0781c172fca3\",\"type\":\"LabelSet\"},{\"attributes\":{\"plot\":{\"id\":\"9dfa1e7e-a71d-4fd2-bc2b-6b7c7e4327aa\",\"subtype\":\"Figure\",\"type\":\"Plot\"},\"ticker\":{\"id\":\"f15b9b3b-7d22-40a8-b8c0-ad4a3c510e41\",\"type\":\"BasicTicker\"}},\"id\":\"2dd29bfc-940e-40de-8aae-142045decd73\",\"type\":\"Grid\"},{\"attributes\":{},\"id\":\"389c12ee-2f77-4c1b-87b7-f9317a0b9519\",\"type\":\"ToolEvents\"},{\"attributes\":{\"callback\":null,\"column_names\":[\"right\",\"bottom\",\"top\",\"left\",\"fill_color\"],\"data\":{\"bottom\":[150,50,250,150,350,350],\"fill_color\":[\"#61c461\",\"#00ff00\",\"#61c461\",\"#61c461\",\"#808080\",\"#61c461\"],\"left\":[135771974,135889881,135915358,136398174,136501840,136682274],\"right\":[136140304,136382936,135995079,136474098,136555659,136775898],\"top\":[195,66,296,194,398,397]}},\"id\":\"95328b0c-acf0-4feb-86c4-a786b341dd54\",\"type\":\"ColumnDataSource\"}],\"root_ids\":[\"9dfa1e7e-a71d-4fd2-bc2b-6b7c7e4327aa\"]},\"title\":\"Bokeh Application\",\"version\":\"0.12.0\"}};\n",
       "            var render_items = [{\"docid\":\"9e49bb6a-13a2-4d6f-85cb-2252d66cc040\",\"elementid\":\"e77071de-531f-4a3e-96f4-542ff13d393a\",\"modelid\":\"9dfa1e7e-a71d-4fd2-bc2b-6b7c7e4327aa\",\"notebook_comms_target\":\"56769887-1b99-4b1f-8000-f71bae56f10d\"}];\n",
       "            \n",
       "            Bokeh.embed.embed_items(docs_json, render_items);\n",
       "        });\n",
       "      },\n",
       "      function(Bokeh) {\n",
       "      }\n",
       "    ];\n",
       "  \n",
       "    function run_inline_js() {\n",
       "      for (var i = 0; i < inline_js.length; i++) {\n",
       "        inline_js[i](window.Bokeh);\n",
       "      }\n",
       "    }\n",
       "  \n",
       "    if (window._bokeh_is_loading === 0) {\n",
       "      console.log(\"Bokeh: BokehJS loaded, going straight to plotting\");\n",
       "      run_inline_js();\n",
       "    } else {\n",
       "      load_libs(js_urls, function() {\n",
       "        console.log(\"Bokeh: BokehJS plotting callback run at\", now());\n",
       "        run_inline_js();\n",
       "      });\n",
       "    }\n",
       "  }(this));\n",
       "</script>"
      ]
     },
     "metadata": {},
     "output_type": "display_data"
    },
    {
     "data": {
      "text/html": [
       "<p><code>&lt;Bokeh Notebook handle for <strong>In[16]</strong>&gt;</code></p>"
      ],
      "text/plain": [
       "<bokeh.io._CommsHandle at 0x7fb5f12c2a10>"
      ]
     },
     "execution_count": 16,
     "metadata": {},
     "output_type": "execute_result"
    }
   ],
   "source": [
    "plt_obj = dm.superset_yes_no([di_6_57, dm.di_26_1414, dm.di_10_2206, dm.di_7_1868], \n",
    "                             [dm.di_24_1504, dm.di_39_1014, dm.di_64_1575], \n",
    "                             min_match=0.001)\n",
    "plt = plt_obj.do_plot()\n",
    "am = plt_obj.plot_context.yes_allele_mask\n",
    "show(plt)"
   ]
  },
  {
   "cell_type": "code",
   "execution_count": 17,
   "metadata": {
    "collapsed": false
   },
   "outputs": [
    {
     "data": {
      "text/html": [
       "<table>\n",
       "<thead><tr><th style=\"text-align:center\">index</th><th style=\"text-align:center\">first</th><th style=\"text-align:center\">length</th><th style=\"text-align:center\">snps</th><th style=\"text-align:center\" colspan=2>alleles</th><th style=\"text-align:center\" colspan=2>matches</th><th style=\"text-align:center\" colspan=2>afr</th><th style=\"text-align:center\" colspan=2>afx</th><th style=\"text-align:center\" colspan=2>amr</th><th style=\"text-align:center\" colspan=2>eas</th><th style=\"text-align:center\" colspan=2>eur</th><th style=\"text-align:center\" colspan=2>sas</th><th style=\"text-align:center\" colspan=2>sax</th></tr></thead>\n",
       "<tr class=\"even\"><td style=\"text-align: right;\">353921</td><td style=\"text-align: right;\">136,501,840</td><td style=\"text-align: right;\">53,819</td><td style=\"text-align: right;\">10</td><td style=\"text-align: right;\">2206</td><td style=\"text-align: right;\">0.00</td><td style=\"text-align: right;\">1</td><td style=\"text-align: right;\">1.00</td><td style=\"text-align: right;\">0</td><td style=\"text-align: right;\">0.00</td><td style=\"text-align: right;\">0</td><td style=\"text-align: right;\">0.00</td><td style=\"text-align: right;\">0</td><td style=\"text-align: right;\">0.00</td><td style=\"text-align: right;\">0</td><td style=\"text-align: right;\">0.00</td><td style=\"text-align: right;\">0</td><td style=\"text-align: right;\">0.00</td><td style=\"text-align: right;\">1</td><td style=\"text-align: right;\">21.00</td><td style=\"text-align: right;\">0</td><td style=\"text-align: right;\">0.00</td></tr>\n",
       "<tr><td style=\"text-align: right;\">354170</td><td style=\"text-align: right;\">136,682,274</td><td style=\"text-align: right;\">93,624</td><td style=\"text-align: right;\">7</td><td style=\"text-align: right;\">1868</td><td style=\"text-align: right;\">0.00</td><td style=\"text-align: right;\">1</td><td style=\"text-align: right;\">1.00</td><td style=\"text-align: right;\">0</td><td style=\"text-align: right;\">0.00</td><td style=\"text-align: right;\">0</td><td style=\"text-align: right;\">0.00</td><td style=\"text-align: right;\">0</td><td style=\"text-align: right;\">0.00</td><td style=\"text-align: right;\">0</td><td style=\"text-align: right;\">0.00</td><td style=\"text-align: right;\">0</td><td style=\"text-align: right;\">0.00</td><td style=\"text-align: right;\">1</td><td style=\"text-align: right;\">21.00</td><td style=\"text-align: right;\">0</td><td style=\"text-align: right;\">0.00</td></tr>\n",
       "<tr class=\"even\"><td style=\"text-align: right;\">353462</td><td style=\"text-align: right;\">135,915,358</td><td style=\"text-align: right;\">79,721</td><td style=\"text-align: right;\">4</td><td style=\"text-align: right;\">1699</td><td style=\"text-align: right;\">0.00</td><td style=\"text-align: right;\">1</td><td style=\"text-align: right;\">1.00</td><td style=\"text-align: right;\">0</td><td style=\"text-align: right;\">0.00</td><td style=\"text-align: right;\">0</td><td style=\"text-align: right;\">0.00</td><td style=\"text-align: right;\">0</td><td style=\"text-align: right;\">0.00</td><td style=\"text-align: right;\">0</td><td style=\"text-align: right;\">0.00</td><td style=\"text-align: right;\">0</td><td style=\"text-align: right;\">0.00</td><td style=\"text-align: right;\">1</td><td style=\"text-align: right;\">21.00</td><td style=\"text-align: right;\">0</td><td style=\"text-align: right;\">0.00</td></tr>\n",
       "<tr><td style=\"text-align: right;\">353283</td><td style=\"text-align: right;\">135,771,974</td><td style=\"text-align: right;\">368,330</td><td style=\"text-align: right;\">6</td><td style=\"text-align: right;\">1503</td><td style=\"text-align: right;\">0.00</td><td style=\"text-align: right;\">1</td><td style=\"text-align: right;\">1.00</td><td style=\"text-align: right;\">0</td><td style=\"text-align: right;\">0.00</td><td style=\"text-align: right;\">0</td><td style=\"text-align: right;\">0.00</td><td style=\"text-align: right;\">0</td><td style=\"text-align: right;\">0.00</td><td style=\"text-align: right;\">0</td><td style=\"text-align: right;\">0.00</td><td style=\"text-align: right;\">0</td><td style=\"text-align: right;\">0.00</td><td style=\"text-align: right;\">1</td><td style=\"text-align: right;\">21.00</td><td style=\"text-align: right;\">0</td><td style=\"text-align: right;\">0.00</td></tr>\n",
       "<tr class=\"even\"><td style=\"text-align: right;\">353797</td><td style=\"text-align: right;\">136,398,174</td><td style=\"text-align: right;\">75,924</td><td style=\"text-align: right;\">26</td><td style=\"text-align: right;\">1414</td><td style=\"text-align: right;\">0.00</td><td style=\"text-align: right;\">1</td><td style=\"text-align: right;\">1.00</td><td style=\"text-align: right;\">0</td><td style=\"text-align: right;\">0.00</td><td style=\"text-align: right;\">0</td><td style=\"text-align: right;\">0.00</td><td style=\"text-align: right;\">0</td><td style=\"text-align: right;\">0.00</td><td style=\"text-align: right;\">0</td><td style=\"text-align: right;\">0.00</td><td style=\"text-align: right;\">0</td><td style=\"text-align: right;\">0.00</td><td style=\"text-align: right;\">1</td><td style=\"text-align: right;\">21.00</td><td style=\"text-align: right;\">0</td><td style=\"text-align: right;\">0.00</td></tr>\n",
       "<tr><td style=\"text-align: right;\">353444</td><td style=\"text-align: right;\">135,889,881</td><td style=\"text-align: right;\">493,055</td><td style=\"text-align: right;\">6</td><td style=\"text-align: right;\">57</td><td style=\"text-align: right;\">0.02</td><td style=\"text-align: right;\">1</td><td style=\"text-align: right;\">1.00</td><td style=\"text-align: right;\">0</td><td style=\"text-align: right;\">0.00</td><td style=\"text-align: right;\">0</td><td style=\"text-align: right;\">0.00</td><td style=\"text-align: right;\">0</td><td style=\"text-align: right;\">0.00</td><td style=\"text-align: right;\">0</td><td style=\"text-align: right;\">0.00</td><td style=\"text-align: right;\">0</td><td style=\"text-align: right;\">0.00</td><td style=\"text-align: right;\">1</td><td style=\"text-align: right;\">21.00</td><td style=\"text-align: right;\">0</td><td style=\"text-align: right;\">0.00</td></tr>\n",
       "</table>"
      ],
      "text/plain": [
       "<IPython.core.display.HTML object>"
      ]
     },
     "execution_count": 17,
     "metadata": {},
     "output_type": "execute_result"
    }
   ],
   "source": [
    "HTML(plt_obj.get_html())"
   ]
  },
  {
   "cell_type": "code",
   "execution_count": 18,
   "metadata": {
    "collapsed": false
   },
   "outputs": [
    {
     "data": {
      "text/plain": [
       "array([1, 1, 1, 1, 1, 1, 1, 1, 1, 1, 1, 1, 1, 1, 1, 1, 1, 1, 1, 1, 1, 0, 0,\n",
       "       0, 0, 0, 0, 0, 0, 0, 0, 0, 0, 0, 0, 0, 0, 0, 0, 0, 0, 0, 0, 0, 0, 0,\n",
       "       0, 0, 0, 0, 0, 0, 0, 0, 0, 0, 0, 0, 1, 1, 1, 1, 1, 1])"
      ]
     },
     "execution_count": 18,
     "metadata": {},
     "output_type": "execute_result"
    }
   ],
   "source": [
    "sa_64_1575.alleles_per_snp(am)"
   ]
  },
  {
   "cell_type": "code",
   "execution_count": 19,
   "metadata": {
    "collapsed": false
   },
   "outputs": [
    {
     "data": {
      "text/html": [
       "\n",
       "\n",
       "    <div class=\"bk-root\">\n",
       "        <div class=\"plotdiv\" id=\"66121722-4e99-4588-8358-52a1d28291ee\"></div>\n",
       "    </div>\n",
       "<script type=\"text/javascript\">\n",
       "  \n",
       "  (function(global) {\n",
       "    function now() {\n",
       "      return new Date();\n",
       "    }\n",
       "  \n",
       "    if (typeof (window._bokeh_onload_callbacks) === \"undefined\") {\n",
       "      window._bokeh_onload_callbacks = [];\n",
       "    }\n",
       "  \n",
       "    function run_callbacks() {\n",
       "      window._bokeh_onload_callbacks.forEach(function(callback) { callback() });\n",
       "      delete window._bokeh_onload_callbacks\n",
       "      console.info(\"Bokeh: all callbacks have finished\");\n",
       "    }\n",
       "  \n",
       "    function load_libs(js_urls, callback) {\n",
       "      window._bokeh_onload_callbacks.push(callback);\n",
       "      if (window._bokeh_is_loading > 0) {\n",
       "        console.log(\"Bokeh: BokehJS is being loaded, scheduling callback at\", now());\n",
       "        return null;\n",
       "      }\n",
       "      if (js_urls == null || js_urls.length === 0) {\n",
       "        run_callbacks();\n",
       "        return null;\n",
       "      }\n",
       "      console.log(\"Bokeh: BokehJS not loaded, scheduling load and callback at\", now());\n",
       "      window._bokeh_is_loading = js_urls.length;\n",
       "      for (var i = 0; i < js_urls.length; i++) {\n",
       "        var url = js_urls[i];\n",
       "        var s = document.createElement('script');\n",
       "        s.src = url;\n",
       "        s.async = false;\n",
       "        s.onreadystatechange = s.onload = function() {\n",
       "          window._bokeh_is_loading--;\n",
       "          if (window._bokeh_is_loading === 0) {\n",
       "            console.log(\"Bokeh: all BokehJS libraries loaded\");\n",
       "            run_callbacks()\n",
       "          }\n",
       "        };\n",
       "        s.onerror = function() {\n",
       "          console.warn(\"failed to load library \" + url);\n",
       "        };\n",
       "        console.log(\"Bokeh: injecting script tag for BokehJS library: \", url);\n",
       "        document.getElementsByTagName(\"head\")[0].appendChild(s);\n",
       "      }\n",
       "    };var element = document.getElementById(\"66121722-4e99-4588-8358-52a1d28291ee\");\n",
       "    if (element == null) {\n",
       "      console.log(\"Bokeh: ERROR: autoload.js configured with elementid '66121722-4e99-4588-8358-52a1d28291ee' but no matching script tag was found. \")\n",
       "      return false;\n",
       "    }\n",
       "  \n",
       "    var js_urls = [];\n",
       "  \n",
       "    var inline_js = [\n",
       "      function(Bokeh) {\n",
       "        Bokeh.$(function() {\n",
       "            var docs_json = {\"d4576290-b110-497b-aa10-993bd1e1dd94\":{\"roots\":{\"references\":[{\"attributes\":{\"callback\":null,\"column_names\":[\"right\",\"bottom\",\"top\",\"left\"],\"data\":{\"bottom\":[345,345,345,345,345,345,345],\"left\":[135809835,135957574,136289083,136499189,136545415,136597196,136664254],\"right\":[135928279,136288182,136482839,136542633,136594750,136634047,136743222],\"top\":[375,375,375,375,375,375,375]}},\"id\":\"31f180ac-2797-444c-84c1-ae2ec7c431ba\",\"type\":\"ColumnDataSource\"},{\"attributes\":{\"plot\":null,\"text\":null},\"id\":\"a81614a2-6ff8-448c-b2f9-925b37c619c9\",\"type\":\"Title\"},{\"attributes\":{\"dimension\":1,\"plot\":{\"id\":\"19ea7ab9-d672-4be3-adf6-a00136c87beb\",\"subtype\":\"Figure\",\"type\":\"Plot\"},\"ticker\":{\"id\":\"83f793a8-f86d-4967-8f8a-5c0835e4409f\",\"type\":\"BasicTicker\"}},\"id\":\"5b74b7b7-907f-40df-935a-6175648e47ba\",\"type\":\"Grid\"},{\"attributes\":{\"line_alpha\":{\"value\":0.1},\"line_color\":{\"value\":\"#1f77b4\"},\"xs\":{\"field\":\"xs\"},\"ys\":{\"field\":\"ys\"}},\"id\":\"19003ce7-75c0-4ec0-9e8c-07e94fc087a8\",\"type\":\"MultiLine\"},{\"attributes\":{\"callback\":null,\"column_names\":[\"right\",\"bottom\",\"top\",\"left\",\"fill_color\"],\"data\":{\"bottom\":[150,50,250,150,250,50,150],\"fill_color\":[\"#61c461\",\"#00ff00\",\"#61c461\",\"#61c461\",\"#808080\",\"#c4c461\",\"#c46161\"],\"left\":[135771974,135889881,135915358,136398174,136501840,136596162,136605402],\"right\":[136140304,136382936,135995079,136474098,136555659,136785729,136624686],\"top\":[195,66,296,194,298,74,182]}},\"id\":\"661f3275-c42d-464d-a3c4-c9d2ac17da31\",\"type\":\"ColumnDataSource\"},{\"attributes\":{\"bottom\":{\"field\":\"bottom\"},\"fill_alpha\":{\"value\":0.1},\"fill_color\":{\"value\":\"#1f77b4\"},\"left\":{\"field\":\"left\"},\"line_alpha\":{\"value\":0.1},\"line_color\":{\"value\":\"#1f77b4\"},\"right\":{\"field\":\"right\"},\"top\":{\"field\":\"top\"}},\"id\":\"86465094-9068-4318-aa6b-240919609cbd\",\"type\":\"Quad\"},{\"attributes\":{\"level\":\"glyph\",\"plot\":{\"id\":\"19ea7ab9-d672-4be3-adf6-a00136c87beb\",\"subtype\":\"Figure\",\"type\":\"Plot\"},\"source\":{\"id\":\"dfc1efcd-3564-46b2-9b21-725f6a21400c\",\"type\":\"ColumnDataSource\"},\"text\":{\"field\":\"vals\"},\"text_font_size\":{\"value\":\"9pt\"},\"text_font_style\":\"bold\",\"x\":{\"field\":\"x\"},\"y\":{\"field\":\"y\"}},\"id\":\"3cdd2090-d2bc-481f-a189-629a69eb4e50\",\"type\":\"LabelSet\"},{\"attributes\":{\"plot\":{\"id\":\"19ea7ab9-d672-4be3-adf6-a00136c87beb\",\"subtype\":\"Figure\",\"type\":\"Plot\"},\"ticker\":{\"id\":\"5be81612-66a4-4b95-ad82-cffddfb65cef\",\"type\":\"BasicTicker\"}},\"id\":\"67252972-de3a-48da-b4d4-ad14ba5d9d5c\",\"type\":\"Grid\"},{\"attributes\":{},\"id\":\"83f793a8-f86d-4967-8f8a-5c0835e4409f\",\"type\":\"BasicTicker\"},{\"attributes\":{},\"id\":\"66711ee6-5631-40a6-a5f9-66d5680a4064\",\"type\":\"BasicTickFormatter\"},{\"attributes\":{\"bottom\":{\"field\":\"bottom\"},\"fill_color\":{\"field\":\"fill_color\"},\"left\":{\"field\":\"left\"},\"line_color\":{\"value\":null},\"right\":{\"field\":\"right\"},\"top\":{\"field\":\"top\"}},\"id\":\"b2c59c10-9c4f-4ebd-ae17-b4a3a43b2051\",\"type\":\"Quad\"},{\"attributes\":{\"plot\":{\"id\":\"19ea7ab9-d672-4be3-adf6-a00136c87beb\",\"subtype\":\"Figure\",\"type\":\"Plot\"}},\"id\":\"0c733053-1ad9-4621-9cc8-54d8a27dd366\",\"type\":\"PanTool\"},{\"attributes\":{\"data_source\":{\"id\":\"5089e918-433b-4b20-9108-4099a8a6ed9a\",\"type\":\"ColumnDataSource\"},\"glyph\":{\"id\":\"12f61e8e-0761-48e1-bf12-498b2d880b91\",\"type\":\"MultiLine\"},\"hover_glyph\":null,\"nonselection_glyph\":{\"id\":\"19003ce7-75c0-4ec0-9e8c-07e94fc087a8\",\"type\":\"MultiLine\"},\"selection_glyph\":null},\"id\":\"63b39cd5-aa98-470c-87fd-e8969890a532\",\"type\":\"GlyphRenderer\"},{\"attributes\":{\"level\":\"glyph\",\"plot\":{\"id\":\"19ea7ab9-d672-4be3-adf6-a00136c87beb\",\"subtype\":\"Figure\",\"type\":\"Plot\"},\"source\":{\"id\":\"9e99ddd5-919d-4fe8-abce-7fa59633bfa4\",\"type\":\"ColumnDataSource\"},\"text\":{\"field\":\"vals\"},\"text_align\":\"center\",\"text_baseline\":\"middle\",\"text_font_size\":{\"value\":\"8pt\"},\"x\":{\"field\":\"x\"},\"y\":{\"field\":\"y\"}},\"id\":\"02dfc436-020f-4f04-ade6-8ed39158e6de\",\"type\":\"LabelSet\"},{\"attributes\":{\"bottom\":{\"field\":\"bottom\"},\"fill_alpha\":{\"value\":0.1},\"fill_color\":{\"value\":\"#1f77b4\"},\"left\":{\"field\":\"left\"},\"line_alpha\":{\"value\":0.1},\"line_color\":{\"value\":\"#1f77b4\"},\"right\":{\"field\":\"right\"},\"top\":{\"field\":\"top\"}},\"id\":\"c73629f7-9485-424f-90d9-1ece3384f1b4\",\"type\":\"Quad\"},{\"attributes\":{\"callback\":null,\"column_names\":[\"y\",\"x\",\"vals\"],\"data\":{\"vals\":[\"6_1503\",\"6_57\",\"4_1699\",\"26_1414\",\"10_2206\",\"17_137\",\"8_328\"],\"x\":[135771974,135889881,135915358,136398174,136501840,136596162,136605402],\"y\":[200.0,71.0,301.0,199.0,303.0,79.0,187.0]}},\"id\":\"dfc1efcd-3564-46b2-9b21-725f6a21400c\",\"type\":\"ColumnDataSource\"},{\"attributes\":{\"plot\":{\"id\":\"19ea7ab9-d672-4be3-adf6-a00136c87beb\",\"subtype\":\"Figure\",\"type\":\"Plot\"}},\"id\":\"37c27bb3-1d64-47e7-aad9-254eb63c7bd7\",\"type\":\"ResetTool\"},{\"attributes\":{\"plot\":{\"id\":\"19ea7ab9-d672-4be3-adf6-a00136c87beb\",\"subtype\":\"Figure\",\"type\":\"Plot\"}},\"id\":\"c700788a-1bdf-42e7-a80c-a9b9fb910902\",\"type\":\"SaveTool\"},{\"attributes\":{\"formatter\":{\"id\":\"66711ee6-5631-40a6-a5f9-66d5680a4064\",\"type\":\"BasicTickFormatter\"},\"plot\":{\"id\":\"19ea7ab9-d672-4be3-adf6-a00136c87beb\",\"subtype\":\"Figure\",\"type\":\"Plot\"},\"ticker\":{\"id\":\"5be81612-66a4-4b95-ad82-cffddfb65cef\",\"type\":\"BasicTicker\"}},\"id\":\"d802c075-c55a-453c-b539-9d4dd974aaff\",\"type\":\"LinearAxis\"},{\"attributes\":{\"plot\":{\"id\":\"19ea7ab9-d672-4be3-adf6-a00136c87beb\",\"subtype\":\"Figure\",\"type\":\"Plot\"}},\"id\":\"baf6d375-282a-417e-affd-24d7ca76ebf3\",\"type\":\"WheelZoomTool\"},{\"attributes\":{\"plot\":{\"id\":\"19ea7ab9-d672-4be3-adf6-a00136c87beb\",\"subtype\":\"Figure\",\"type\":\"Plot\"}},\"id\":\"336bc35e-e1ca-47de-ba6f-49dd9c84d78e\",\"type\":\"HelpTool\"},{\"attributes\":{\"bottom_units\":\"screen\",\"fill_alpha\":{\"value\":0.5},\"fill_color\":{\"value\":\"lightgrey\"},\"left_units\":\"screen\",\"level\":\"overlay\",\"line_alpha\":{\"value\":1.0},\"line_color\":{\"value\":\"black\"},\"line_dash\":[4,4],\"line_width\":{\"value\":2},\"plot\":null,\"render_mode\":\"css\",\"right_units\":\"screen\",\"top_units\":\"screen\"},\"id\":\"1c2bd314-3942-466e-8739-7d003099ae54\",\"type\":\"BoxAnnotation\"},{\"attributes\":{},\"id\":\"17e5b195-80f6-490e-a58c-3071b635f49a\",\"type\":\"BasicTickFormatter\"},{\"attributes\":{\"overlay\":{\"id\":\"1c2bd314-3942-466e-8739-7d003099ae54\",\"type\":\"BoxAnnotation\"},\"plot\":{\"id\":\"19ea7ab9-d672-4be3-adf6-a00136c87beb\",\"subtype\":\"Figure\",\"type\":\"Plot\"}},\"id\":\"1723751f-ded4-4bf8-9220-20e8d68d9d85\",\"type\":\"BoxZoomTool\"},{\"attributes\":{\"below\":[{\"id\":\"d802c075-c55a-453c-b539-9d4dd974aaff\",\"type\":\"LinearAxis\"}],\"left\":[{\"id\":\"3de38a76-15a2-4814-b8a6-523b45a20fdd\",\"type\":\"LinearAxis\"}],\"plot_height\":400,\"plot_width\":900,\"renderers\":[{\"id\":\"d802c075-c55a-453c-b539-9d4dd974aaff\",\"type\":\"LinearAxis\"},{\"id\":\"67252972-de3a-48da-b4d4-ad14ba5d9d5c\",\"type\":\"Grid\"},{\"id\":\"3de38a76-15a2-4814-b8a6-523b45a20fdd\",\"type\":\"LinearAxis\"},{\"id\":\"5b74b7b7-907f-40df-935a-6175648e47ba\",\"type\":\"Grid\"},{\"id\":\"1c2bd314-3942-466e-8739-7d003099ae54\",\"type\":\"BoxAnnotation\"},{\"id\":\"f835eaef-3614-4426-855c-2bd781574ed7\",\"type\":\"GlyphRenderer\"},{\"id\":\"63b39cd5-aa98-470c-87fd-e8969890a532\",\"type\":\"GlyphRenderer\"},{\"id\":\"3cdd2090-d2bc-481f-a189-629a69eb4e50\",\"type\":\"LabelSet\"},{\"id\":\"c88887b9-dd91-4460-9f6a-1e291cfe6dc4\",\"type\":\"GlyphRenderer\"},{\"id\":\"02dfc436-020f-4f04-ade6-8ed39158e6de\",\"type\":\"LabelSet\"}],\"title\":{\"id\":\"a81614a2-6ff8-448c-b2f9-925b37c619c9\",\"type\":\"Title\"},\"tool_events\":{\"id\":\"0b148a34-a2a4-487f-b90c-9e033013c995\",\"type\":\"ToolEvents\"},\"toolbar\":{\"id\":\"181aca86-c084-4b9f-8f22-982fa537a3d1\",\"type\":\"Toolbar\"},\"toolbar_location\":null,\"x_range\":{\"id\":\"c4c93932-2948-4674-b9c2-b97ab16c0e9a\",\"type\":\"Range1d\"},\"y_range\":{\"id\":\"bf3f8afb-448e-4ef7-a63a-9d86d02cfd1b\",\"type\":\"Range1d\"}},\"id\":\"19ea7ab9-d672-4be3-adf6-a00136c87beb\",\"subtype\":\"Figure\",\"type\":\"Plot\"},{\"attributes\":{\"line_color\":{\"field\":\"line_color\"},\"xs\":{\"field\":\"xs\"},\"ys\":{\"field\":\"ys\"}},\"id\":\"12f61e8e-0761-48e1-bf12-498b2d880b91\",\"type\":\"MultiLine\"},{\"attributes\":{\"bottom\":{\"field\":\"bottom\"},\"fill_color\":{\"value\":\"white\"},\"left\":{\"field\":\"left\"},\"right\":{\"field\":\"right\"},\"top\":{\"field\":\"top\"}},\"id\":\"b6628479-2856-444e-ad00-eaa5da2bcdea\",\"type\":\"Quad\"},{\"attributes\":{},\"id\":\"5be81612-66a4-4b95-ad82-cffddfb65cef\",\"type\":\"BasicTicker\"},{\"attributes\":{\"callback\":null,\"column_names\":[\"xs\",\"ys\",\"line_color\"],\"data\":{\"line_color\":[\"black\",\"black\",\"black\",\"black\",\"black\",\"black\",\"black\",\"black\",\"black\",\"black\",\"black\",\"black\",\"black\",\"black\",\"black\",\"black\",\"black\",\"black\",\"black\",\"black\",\"black\",\"black\",\"black\",\"black\",\"black\",\"black\",\"black\",\"black\",\"black\",\"black\",\"black\",\"black\",\"black\",\"black\",\"black\",\"black\",\"black\",\"black\",\"black\",\"black\",\"black\",\"black\",\"black\",\"black\",\"black\",\"black\",\"black\",\"black\",\"black\",\"black\",\"black\",\"black\",\"black\",\"black\",\"black\",\"black\",\"black\",\"black\",\"black\",\"black\",\"black\",\"black\",\"black\",\"black\",\"black\",\"black\",\"black\",\"black\",\"black\",\"black\",\"black\",\"black\",\"black\",\"black\",\"black\",\"black\",\"black\"],\"xs\":[[135771974,135771974],[135859371,135859371],[135877562,135877562],[136022798,136022798],[136058820,136058820],[136140304,136140304],[135889881,135889881],[135956309,135956309],[136088389,136088389],[136323321,136323321],[136361384,136361384],[136382936,136382936],[135915358,135915358],[135954405,135954405],[135995073,135995073],[135995079,135995079],[136398174,136398174],[136402117,136402117],[136403749,136403749],[136409073,136409073],[136410299,136410299],[136413359,136413359],[136416855,136416855],[136416941,136416941],[136418348,136418348],[136419961,136419961],[136420690,136420690],[136422171,136422171],[136428460,136428460],[136430866,136430866],[136432103,136432103],[136437507,136437507],[136439090,136439090],[136439517,136439517],[136444123,136444123],[136445526,136445526],[136445869,136445869],[136455600,136455600],[136456642,136456642],[136462441,136462441],[136470714,136470714],[136474098,136474098],[136501840,136501840],[136505546,136505546],[136516748,136516748],[136522710,136522710],[136528004,136528004],[136539513,136539513],[136544752,136544752],[136546110,136546110],[136553529,136553529],[136555659,136555659],[136596162,136596162],[136598316,136598316],[136599520,136599520],[136601167,136601167],[136604113,136604113],[136604610,136604610],[136604699,136604699],[136609671,136609671],[136620957,136620957],[136646667,136646667],[136683320,136683320],[136697769,136697769],[136743172,136743172],[136776381,136776381],[136784743,136784743],[136785727,136785727],[136785729,136785729],[136605402,136605402],[136609320,136609320],[136611400,136611400],[136619744,136619744],[136621858,136621858],[136621941,136621941],[136624382,136624382],[136624686,136624686]],\"ys\":[[150,195],[150,195],[150,195],[150,195],[150,195],[150,195],[50,66],[50,66],[50,66],[50,66],[50,66],[50,66],[250,296],[250,296],[250,296],[250,296],[150,194],[150,194],[150,194],[150,194],[150,194],[150,194],[150,194],[150,194],[150,194],[150,194],[150,194],[150,194],[150,194],[150,194],[150,194],[150,194],[150,194],[150,194],[150,194],[150,194],[150,194],[150,194],[150,194],[150,194],[150,194],[150,194],[250,298],[250,298],[250,298],[250,298],[250,298],[250,298],[250,298],[250,298],[250,298],[250,298],[50,74],[50,74],[50,74],[50,74],[50,74],[50,74],[50,74],[50,74],[50,74],[50,74],[50,74],[50,74],[50,74],[50,74],[50,74],[50,74],[50,74],[150,182],[150,182],[150,182],[150,182],[150,182],[150,182],[150,182],[150,182]]}},\"id\":\"5089e918-433b-4b20-9108-4099a8a6ed9a\",\"type\":\"ColumnDataSource\"},{\"attributes\":{\"callback\":null,\"column_names\":[\"y\",\"x\",\"vals\"],\"data\":{\"vals\":[\"RAB3GAP1\",\"ZRANB3\",\"R3HDM1\",\"UBXN4\",\"LCT\",\"MCM6\",\"DARS\"],\"x\":[135869057.0,136122878.0,136385961.0,136520911.0,136570082.5,136615621.5,136703738.0],\"y\":[360.0,360.0,360.0,360.0,360.0,360.0,360.0]}},\"id\":\"9e99ddd5-919d-4fe8-abce-7fa59633bfa4\",\"type\":\"ColumnDataSource\"},{\"attributes\":{\"data_source\":{\"id\":\"31f180ac-2797-444c-84c1-ae2ec7c431ba\",\"type\":\"ColumnDataSource\"},\"glyph\":{\"id\":\"b6628479-2856-444e-ad00-eaa5da2bcdea\",\"type\":\"Quad\"},\"hover_glyph\":null,\"nonselection_glyph\":{\"id\":\"86465094-9068-4318-aa6b-240919609cbd\",\"type\":\"Quad\"},\"selection_glyph\":null},\"id\":\"c88887b9-dd91-4460-9f6a-1e291cfe6dc4\",\"type\":\"GlyphRenderer\"},{\"attributes\":{\"callback\":null,\"end\":400},\"id\":\"bf3f8afb-448e-4ef7-a63a-9d86d02cfd1b\",\"type\":\"Range1d\"},{\"attributes\":{},\"id\":\"0b148a34-a2a4-487f-b90c-9e033013c995\",\"type\":\"ToolEvents\"},{\"attributes\":{\"callback\":null,\"end\":136786630,\"start\":135757320},\"id\":\"c4c93932-2948-4674-b9c2-b97ab16c0e9a\",\"type\":\"Range1d\"},{\"attributes\":{\"data_source\":{\"id\":\"661f3275-c42d-464d-a3c4-c9d2ac17da31\",\"type\":\"ColumnDataSource\"},\"glyph\":{\"id\":\"b2c59c10-9c4f-4ebd-ae17-b4a3a43b2051\",\"type\":\"Quad\"},\"hover_glyph\":null,\"nonselection_glyph\":{\"id\":\"c73629f7-9485-424f-90d9-1ece3384f1b4\",\"type\":\"Quad\"},\"selection_glyph\":null},\"id\":\"f835eaef-3614-4426-855c-2bd781574ed7\",\"type\":\"GlyphRenderer\"},{\"attributes\":{\"formatter\":{\"id\":\"17e5b195-80f6-490e-a58c-3071b635f49a\",\"type\":\"BasicTickFormatter\"},\"plot\":{\"id\":\"19ea7ab9-d672-4be3-adf6-a00136c87beb\",\"subtype\":\"Figure\",\"type\":\"Plot\"},\"ticker\":{\"id\":\"83f793a8-f86d-4967-8f8a-5c0835e4409f\",\"type\":\"BasicTicker\"},\"visible\":null},\"id\":\"3de38a76-15a2-4814-b8a6-523b45a20fdd\",\"type\":\"LinearAxis\"},{\"attributes\":{\"active_drag\":\"auto\",\"active_scroll\":\"auto\",\"active_tap\":\"auto\",\"tools\":[{\"id\":\"0c733053-1ad9-4621-9cc8-54d8a27dd366\",\"type\":\"PanTool\"},{\"id\":\"baf6d375-282a-417e-affd-24d7ca76ebf3\",\"type\":\"WheelZoomTool\"},{\"id\":\"1723751f-ded4-4bf8-9220-20e8d68d9d85\",\"type\":\"BoxZoomTool\"},{\"id\":\"c700788a-1bdf-42e7-a80c-a9b9fb910902\",\"type\":\"SaveTool\"},{\"id\":\"37c27bb3-1d64-47e7-aad9-254eb63c7bd7\",\"type\":\"ResetTool\"},{\"id\":\"336bc35e-e1ca-47de-ba6f-49dd9c84d78e\",\"type\":\"HelpTool\"}]},\"id\":\"181aca86-c084-4b9f-8f22-982fa537a3d1\",\"type\":\"Toolbar\"}],\"root_ids\":[\"19ea7ab9-d672-4be3-adf6-a00136c87beb\"]},\"title\":\"Bokeh Application\",\"version\":\"0.12.0\"}};\n",
       "            var render_items = [{\"docid\":\"d4576290-b110-497b-aa10-993bd1e1dd94\",\"elementid\":\"66121722-4e99-4588-8358-52a1d28291ee\",\"modelid\":\"19ea7ab9-d672-4be3-adf6-a00136c87beb\",\"notebook_comms_target\":\"5864bc0a-a2e3-4bba-a707-efbdbeb48fc2\"}];\n",
       "            \n",
       "            Bokeh.embed.embed_items(docs_json, render_items);\n",
       "        });\n",
       "      },\n",
       "      function(Bokeh) {\n",
       "      }\n",
       "    ];\n",
       "  \n",
       "    function run_inline_js() {\n",
       "      for (var i = 0; i < inline_js.length; i++) {\n",
       "        inline_js[i](window.Bokeh);\n",
       "      }\n",
       "    }\n",
       "  \n",
       "    if (window._bokeh_is_loading === 0) {\n",
       "      console.log(\"Bokeh: BokehJS loaded, going straight to plotting\");\n",
       "      run_inline_js();\n",
       "    } else {\n",
       "      load_libs(js_urls, function() {\n",
       "        console.log(\"Bokeh: BokehJS plotting callback run at\", now());\n",
       "        run_inline_js();\n",
       "      });\n",
       "    }\n",
       "  }(this));\n",
       "</script>"
      ]
     },
     "metadata": {},
     "output_type": "display_data"
    },
    {
     "data": {
      "text/html": [
       "<p><code>&lt;Bokeh Notebook handle for <strong>In[19]</strong>&gt;</code></p>"
      ],
      "text/plain": [
       "<bokeh.io._CommsHandle at 0x7fb5f12ec290>"
      ]
     },
     "execution_count": 19,
     "metadata": {},
     "output_type": "execute_result"
    }
   ],
   "source": [
    "plt_obj = dm.superset_yes_no([di_6_57, dm.di_26_1414, dm.di_10_2206], \n",
    "                             [dm.di_7_1868, dm.di_24_1504, dm.di_39_1014, dm.di_64_1575], \n",
    "                             min_match=0.001)\n",
    "plt = plt_obj.do_plot()\n",
    "am = plt_obj.plot_context.yes_allele_mask\n",
    "show(plt)"
   ]
  },
  {
   "cell_type": "code",
   "execution_count": 20,
   "metadata": {
    "collapsed": false
   },
   "outputs": [
    {
     "data": {
      "text/html": [
       "<table>\n",
       "<thead><tr><th style=\"text-align:center\">index</th><th style=\"text-align:center\">first</th><th style=\"text-align:center\">length</th><th style=\"text-align:center\">snps</th><th style=\"text-align:center\" colspan=2>alleles</th><th style=\"text-align:center\" colspan=2>matches</th><th style=\"text-align:center\" colspan=2>afr</th><th style=\"text-align:center\" colspan=2>afx</th><th style=\"text-align:center\" colspan=2>amr</th><th style=\"text-align:center\" colspan=2>eas</th><th style=\"text-align:center\" colspan=2>eur</th><th style=\"text-align:center\" colspan=2>sas</th><th style=\"text-align:center\" colspan=2>sax</th></tr></thead>\n",
       "<tr class=\"even\"><td style=\"text-align: right;\">353921</td><td style=\"text-align: right;\">136,501,840</td><td style=\"text-align: right;\">53,819</td><td style=\"text-align: right;\">10</td><td style=\"text-align: right;\">2206</td><td style=\"text-align: right;\">0.00</td><td style=\"text-align: right;\">1</td><td style=\"text-align: right;\">1.00</td><td style=\"text-align: right;\">0</td><td style=\"text-align: right;\">0.00</td><td style=\"text-align: right;\">0</td><td style=\"text-align: right;\">0.00</td><td style=\"text-align: right;\">0</td><td style=\"text-align: right;\">0.00</td><td style=\"text-align: right;\">0</td><td style=\"text-align: right;\">0.00</td><td style=\"text-align: right;\">1</td><td style=\"text-align: right;\">10.03</td><td style=\"text-align: right;\">0</td><td style=\"text-align: right;\">0.00</td><td style=\"text-align: right;\">0</td><td style=\"text-align: right;\">0.00</td></tr>\n",
       "<tr><td style=\"text-align: right;\">353462</td><td style=\"text-align: right;\">135,915,358</td><td style=\"text-align: right;\">79,721</td><td style=\"text-align: right;\">4</td><td style=\"text-align: right;\">1699</td><td style=\"text-align: right;\">0.00</td><td style=\"text-align: right;\">1</td><td style=\"text-align: right;\">1.00</td><td style=\"text-align: right;\">0</td><td style=\"text-align: right;\">0.00</td><td style=\"text-align: right;\">0</td><td style=\"text-align: right;\">0.00</td><td style=\"text-align: right;\">0</td><td style=\"text-align: right;\">0.00</td><td style=\"text-align: right;\">0</td><td style=\"text-align: right;\">0.00</td><td style=\"text-align: right;\">1</td><td style=\"text-align: right;\">10.03</td><td style=\"text-align: right;\">0</td><td style=\"text-align: right;\">0.00</td><td style=\"text-align: right;\">0</td><td style=\"text-align: right;\">0.00</td></tr>\n",
       "<tr class=\"even\"><td style=\"text-align: right;\">353283</td><td style=\"text-align: right;\">135,771,974</td><td style=\"text-align: right;\">368,330</td><td style=\"text-align: right;\">6</td><td style=\"text-align: right;\">1503</td><td style=\"text-align: right;\">0.00</td><td style=\"text-align: right;\">1</td><td style=\"text-align: right;\">1.00</td><td style=\"text-align: right;\">0</td><td style=\"text-align: right;\">0.00</td><td style=\"text-align: right;\">0</td><td style=\"text-align: right;\">0.00</td><td style=\"text-align: right;\">0</td><td style=\"text-align: right;\">0.00</td><td style=\"text-align: right;\">0</td><td style=\"text-align: right;\">0.00</td><td style=\"text-align: right;\">1</td><td style=\"text-align: right;\">10.03</td><td style=\"text-align: right;\">0</td><td style=\"text-align: right;\">0.00</td><td style=\"text-align: right;\">0</td><td style=\"text-align: right;\">0.00</td></tr>\n",
       "<tr><td style=\"text-align: right;\">353797</td><td style=\"text-align: right;\">136,398,174</td><td style=\"text-align: right;\">75,924</td><td style=\"text-align: right;\">26</td><td style=\"text-align: right;\">1414</td><td style=\"text-align: right;\">0.00</td><td style=\"text-align: right;\">1</td><td style=\"text-align: right;\">1.00</td><td style=\"text-align: right;\">0</td><td style=\"text-align: right;\">0.00</td><td style=\"text-align: right;\">0</td><td style=\"text-align: right;\">0.00</td><td style=\"text-align: right;\">0</td><td style=\"text-align: right;\">0.00</td><td style=\"text-align: right;\">0</td><td style=\"text-align: right;\">0.00</td><td style=\"text-align: right;\">1</td><td style=\"text-align: right;\">10.03</td><td style=\"text-align: right;\">0</td><td style=\"text-align: right;\">0.00</td><td style=\"text-align: right;\">0</td><td style=\"text-align: right;\">0.00</td></tr>\n",
       "<tr class=\"even\"><td style=\"text-align: right;\">354064</td><td style=\"text-align: right;\">136,605,402</td><td style=\"text-align: right;\">19,284</td><td style=\"text-align: right;\">8</td><td style=\"text-align: right;\">328</td><td style=\"text-align: right;\">0.00</td><td style=\"text-align: right;\">1</td><td style=\"text-align: right;\">1.00</td><td style=\"text-align: right;\">0</td><td style=\"text-align: right;\">0.00</td><td style=\"text-align: right;\">0</td><td style=\"text-align: right;\">0.00</td><td style=\"text-align: right;\">0</td><td style=\"text-align: right;\">0.00</td><td style=\"text-align: right;\">0</td><td style=\"text-align: right;\">0.00</td><td style=\"text-align: right;\">1</td><td style=\"text-align: right;\">10.03</td><td style=\"text-align: right;\">0</td><td style=\"text-align: right;\">0.00</td><td style=\"text-align: right;\">0</td><td style=\"text-align: right;\">0.00</td></tr>\n",
       "<tr><td style=\"text-align: right;\">354051</td><td style=\"text-align: right;\">136,596,162</td><td style=\"text-align: right;\">189,567</td><td style=\"text-align: right;\">17</td><td style=\"text-align: right;\">137</td><td style=\"text-align: right;\">0.01</td><td style=\"text-align: right;\">1</td><td style=\"text-align: right;\">1.00</td><td style=\"text-align: right;\">0</td><td style=\"text-align: right;\">0.00</td><td style=\"text-align: right;\">0</td><td style=\"text-align: right;\">0.00</td><td style=\"text-align: right;\">0</td><td style=\"text-align: right;\">0.00</td><td style=\"text-align: right;\">0</td><td style=\"text-align: right;\">0.00</td><td style=\"text-align: right;\">1</td><td style=\"text-align: right;\">10.03</td><td style=\"text-align: right;\">0</td><td style=\"text-align: right;\">0.00</td><td style=\"text-align: right;\">0</td><td style=\"text-align: right;\">0.00</td></tr>\n",
       "<tr class=\"even\"><td style=\"text-align: right;\">353444</td><td style=\"text-align: right;\">135,889,881</td><td style=\"text-align: right;\">493,055</td><td style=\"text-align: right;\">6</td><td style=\"text-align: right;\">57</td><td style=\"text-align: right;\">0.02</td><td style=\"text-align: right;\">1</td><td style=\"text-align: right;\">1.00</td><td style=\"text-align: right;\">0</td><td style=\"text-align: right;\">0.00</td><td style=\"text-align: right;\">0</td><td style=\"text-align: right;\">0.00</td><td style=\"text-align: right;\">0</td><td style=\"text-align: right;\">0.00</td><td style=\"text-align: right;\">0</td><td style=\"text-align: right;\">0.00</td><td style=\"text-align: right;\">1</td><td style=\"text-align: right;\">10.03</td><td style=\"text-align: right;\">0</td><td style=\"text-align: right;\">0.00</td><td style=\"text-align: right;\">0</td><td style=\"text-align: right;\">0.00</td></tr>\n",
       "</table>"
      ],
      "text/plain": [
       "<IPython.core.display.HTML object>"
      ]
     },
     "execution_count": 20,
     "metadata": {},
     "output_type": "execute_result"
    }
   ],
   "source": [
    "HTML(plt_obj.get_html())"
   ]
  },
  {
   "cell_type": "code",
   "execution_count": 21,
   "metadata": {
    "collapsed": false
   },
   "outputs": [
    {
     "data": {
      "text/plain": [
       "array([1, 1, 1, 1, 1, 1, 1, 1, 1, 1, 1, 1, 1, 1, 1, 1, 1, 1, 1, 1, 1, 0, 0,\n",
       "       0, 0, 0, 0, 0, 0, 0, 0, 0, 0, 0, 0, 0, 0, 0, 0, 0, 0, 0, 0, 0, 0, 0,\n",
       "       0, 0, 0, 0, 0, 0, 0, 0, 0, 0, 0, 0, 0, 0, 0, 0, 0, 0])"
      ]
     },
     "execution_count": 21,
     "metadata": {},
     "output_type": "execute_result"
    }
   ],
   "source": [
    "sa_64_1575.alleles_per_snp(am)"
   ]
  },
  {
   "cell_type": "code",
   "execution_count": 22,
   "metadata": {
    "collapsed": false
   },
   "outputs": [
    {
     "data": {
      "text/html": [
       "\n",
       "\n",
       "    <div class=\"bk-root\">\n",
       "        <div class=\"plotdiv\" id=\"795f9c60-a18f-4bbd-a1fc-787811585106\"></div>\n",
       "    </div>\n",
       "<script type=\"text/javascript\">\n",
       "  \n",
       "  (function(global) {\n",
       "    function now() {\n",
       "      return new Date();\n",
       "    }\n",
       "  \n",
       "    if (typeof (window._bokeh_onload_callbacks) === \"undefined\") {\n",
       "      window._bokeh_onload_callbacks = [];\n",
       "    }\n",
       "  \n",
       "    function run_callbacks() {\n",
       "      window._bokeh_onload_callbacks.forEach(function(callback) { callback() });\n",
       "      delete window._bokeh_onload_callbacks\n",
       "      console.info(\"Bokeh: all callbacks have finished\");\n",
       "    }\n",
       "  \n",
       "    function load_libs(js_urls, callback) {\n",
       "      window._bokeh_onload_callbacks.push(callback);\n",
       "      if (window._bokeh_is_loading > 0) {\n",
       "        console.log(\"Bokeh: BokehJS is being loaded, scheduling callback at\", now());\n",
       "        return null;\n",
       "      }\n",
       "      if (js_urls == null || js_urls.length === 0) {\n",
       "        run_callbacks();\n",
       "        return null;\n",
       "      }\n",
       "      console.log(\"Bokeh: BokehJS not loaded, scheduling load and callback at\", now());\n",
       "      window._bokeh_is_loading = js_urls.length;\n",
       "      for (var i = 0; i < js_urls.length; i++) {\n",
       "        var url = js_urls[i];\n",
       "        var s = document.createElement('script');\n",
       "        s.src = url;\n",
       "        s.async = false;\n",
       "        s.onreadystatechange = s.onload = function() {\n",
       "          window._bokeh_is_loading--;\n",
       "          if (window._bokeh_is_loading === 0) {\n",
       "            console.log(\"Bokeh: all BokehJS libraries loaded\");\n",
       "            run_callbacks()\n",
       "          }\n",
       "        };\n",
       "        s.onerror = function() {\n",
       "          console.warn(\"failed to load library \" + url);\n",
       "        };\n",
       "        console.log(\"Bokeh: injecting script tag for BokehJS library: \", url);\n",
       "        document.getElementsByTagName(\"head\")[0].appendChild(s);\n",
       "      }\n",
       "    };var element = document.getElementById(\"795f9c60-a18f-4bbd-a1fc-787811585106\");\n",
       "    if (element == null) {\n",
       "      console.log(\"Bokeh: ERROR: autoload.js configured with elementid '795f9c60-a18f-4bbd-a1fc-787811585106' but no matching script tag was found. \")\n",
       "      return false;\n",
       "    }\n",
       "  \n",
       "    var js_urls = [];\n",
       "  \n",
       "    var inline_js = [\n",
       "      function(Bokeh) {\n",
       "        Bokeh.$(function() {\n",
       "            var docs_json = {\"bc8e83d3-da53-4e26-bade-64929c3ca3e7\":{\"roots\":{\"references\":[{\"attributes\":{\"active_drag\":\"auto\",\"active_scroll\":\"auto\",\"active_tap\":\"auto\",\"tools\":[{\"id\":\"e2df16bb-7292-468b-a19c-25f70826d43f\",\"type\":\"PanTool\"},{\"id\":\"7cbff665-fefe-4838-a623-1a7e5e6b98b9\",\"type\":\"WheelZoomTool\"},{\"id\":\"e465dc76-7dd9-429d-94a5-7839dddfd860\",\"type\":\"BoxZoomTool\"},{\"id\":\"ae6ceb8b-f7c5-4d8a-8b53-fc90b608dfc9\",\"type\":\"SaveTool\"},{\"id\":\"0c5918f9-d2f9-45de-8a32-d83b2a1224d3\",\"type\":\"ResetTool\"},{\"id\":\"ee5dc71a-3654-4460-873d-dbcfa03e0e54\",\"type\":\"HelpTool\"}]},\"id\":\"a39d9f57-59ff-4fe5-8cbe-41dc27c5b5f0\",\"type\":\"Toolbar\"},{\"attributes\":{\"plot\":{\"id\":\"8b6004a9-8b03-4039-adb3-8b9450b94bd1\",\"subtype\":\"Figure\",\"type\":\"Plot\"}},\"id\":\"e2df16bb-7292-468b-a19c-25f70826d43f\",\"type\":\"PanTool\"},{\"attributes\":{\"callback\":null,\"end\":136786630,\"start\":135757320},\"id\":\"ba080f7d-8dc6-4902-aad0-d0fdaaefbf0a\",\"type\":\"Range1d\"},{\"attributes\":{\"plot\":{\"id\":\"8b6004a9-8b03-4039-adb3-8b9450b94bd1\",\"subtype\":\"Figure\",\"type\":\"Plot\"}},\"id\":\"ee5dc71a-3654-4460-873d-dbcfa03e0e54\",\"type\":\"HelpTool\"},{\"attributes\":{\"data_source\":{\"id\":\"4ee87565-d20e-4d97-8087-e0a2c1c9e34d\",\"type\":\"ColumnDataSource\"},\"glyph\":{\"id\":\"9100b0bb-ba4a-43ce-8ffd-523560ff3395\",\"type\":\"Quad\"},\"hover_glyph\":null,\"nonselection_glyph\":{\"id\":\"4c4094ca-9169-4b21-b871-3ff470b7ce24\",\"type\":\"Quad\"},\"selection_glyph\":null},\"id\":\"7dd926bc-18e0-47e1-abf7-18f35f78f5cb\",\"type\":\"GlyphRenderer\"},{\"attributes\":{},\"id\":\"c05eb116-52f6-4025-b86b-f7e38b8d819b\",\"type\":\"BasicTicker\"},{\"attributes\":{\"below\":[{\"id\":\"2a7f6732-ba94-4f2e-ba7b-f4ff698c34b4\",\"type\":\"LinearAxis\"}],\"left\":[{\"id\":\"7ccc8581-4ef6-4dd3-bec2-76b448399a63\",\"type\":\"LinearAxis\"}],\"plot_width\":900,\"renderers\":[{\"id\":\"2a7f6732-ba94-4f2e-ba7b-f4ff698c34b4\",\"type\":\"LinearAxis\"},{\"id\":\"cb5ed750-421a-4def-b300-c052fc9a85f6\",\"type\":\"Grid\"},{\"id\":\"7ccc8581-4ef6-4dd3-bec2-76b448399a63\",\"type\":\"LinearAxis\"},{\"id\":\"4bde0e48-a661-4455-a7c1-cc29a0fbfe4a\",\"type\":\"Grid\"},{\"id\":\"cdd40808-2241-4c37-af8b-def3447b8fd3\",\"type\":\"BoxAnnotation\"},{\"id\":\"7dd926bc-18e0-47e1-abf7-18f35f78f5cb\",\"type\":\"GlyphRenderer\"},{\"id\":\"c828d3c6-2528-40c0-8ae0-a067971653ce\",\"type\":\"GlyphRenderer\"},{\"id\":\"690432b8-5e9f-463a-ad6b-eed61f048701\",\"type\":\"LabelSet\"},{\"id\":\"b1f98c94-89a8-459f-9c9f-ac10d8e972bb\",\"type\":\"GlyphRenderer\"},{\"id\":\"e044b8d5-095d-4b03-a12c-a3a4f61d7178\",\"type\":\"LabelSet\"}],\"title\":{\"id\":\"ff5f9900-224c-4d15-9d53-7ecf2a796749\",\"type\":\"Title\"},\"tool_events\":{\"id\":\"7e9c9f92-2e1d-4383-b1d7-8f4ac9c5e6bf\",\"type\":\"ToolEvents\"},\"toolbar\":{\"id\":\"a39d9f57-59ff-4fe5-8cbe-41dc27c5b5f0\",\"type\":\"Toolbar\"},\"toolbar_location\":null,\"x_range\":{\"id\":\"ba080f7d-8dc6-4902-aad0-d0fdaaefbf0a\",\"type\":\"Range1d\"},\"y_range\":{\"id\":\"dd0391c5-e3e9-4c3d-a74e-5fbedd8171e2\",\"type\":\"Range1d\"}},\"id\":\"8b6004a9-8b03-4039-adb3-8b9450b94bd1\",\"subtype\":\"Figure\",\"type\":\"Plot\"},{\"attributes\":{\"callback\":null,\"column_names\":[\"right\",\"bottom\",\"top\",\"left\",\"fill_color\"],\"data\":{\"bottom\":[350,50,450,350,50,150,350,250,450,150,250,450],\"fill_color\":[\"#61c461\",\"#00ff00\",\"#61c461\",\"#61c461\",\"#808080\",\"#808080\",\"#808080\",\"#808080\",\"#c46161\",\"#808080\",\"#808080\",\"#808080\"],\"left\":[135771974,135889881,135915358,136398174,136494985,136500475,136506375,136535876,136588031,136652491,136652953,136653925],\"right\":[136140304,136382936,135995079,136474098,136773638,136542560,136538939,136554890,136593678,136732772,136761175,136761853],\"top\":[395,66,496,394,90,193,394,294,496,192,294,495]}},\"id\":\"4ee87565-d20e-4d97-8087-e0a2c1c9e34d\",\"type\":\"ColumnDataSource\"},{\"attributes\":{\"line_alpha\":{\"value\":0.1},\"line_color\":{\"value\":\"#1f77b4\"},\"xs\":{\"field\":\"xs\"},\"ys\":{\"field\":\"ys\"}},\"id\":\"44e89e0f-55aa-4eb2-bae8-f95bb55babd3\",\"type\":\"MultiLine\"},{\"attributes\":{\"bottom_units\":\"screen\",\"fill_alpha\":{\"value\":0.5},\"fill_color\":{\"value\":\"lightgrey\"},\"left_units\":\"screen\",\"level\":\"overlay\",\"line_alpha\":{\"value\":1.0},\"line_color\":{\"value\":\"black\"},\"line_dash\":[4,4],\"line_width\":{\"value\":2},\"plot\":null,\"render_mode\":\"css\",\"right_units\":\"screen\",\"top_units\":\"screen\"},\"id\":\"cdd40808-2241-4c37-af8b-def3447b8fd3\",\"type\":\"BoxAnnotation\"},{\"attributes\":{\"callback\":null,\"column_names\":[\"y\",\"x\",\"vals\"],\"data\":{\"vals\":[\"RAB3GAP1\",\"ZRANB3\",\"R3HDM1\",\"UBXN4\",\"LCT\",\"MCM6\",\"DARS\"],\"x\":[135869057.0,136122878.0,136385961.0,136520911.0,136570082.5,136615621.5,136703738.0],\"y\":[560.0,560.0,560.0,560.0,560.0,560.0,560.0]}},\"id\":\"04816e12-b8cf-4164-930c-593b4fb53b0e\",\"type\":\"ColumnDataSource\"},{\"attributes\":{\"callback\":null,\"column_names\":[\"xs\",\"ys\",\"line_color\"],\"data\":{\"line_color\":[\"black\",\"black\",\"black\",\"black\",\"black\",\"black\",\"black\",\"black\",\"black\",\"black\",\"black\",\"black\",\"black\",\"black\",\"black\",\"black\",\"black\",\"black\",\"black\",\"black\",\"black\",\"black\",\"black\",\"black\",\"black\",\"black\",\"black\",\"black\",\"black\",\"black\",\"black\",\"black\",\"black\",\"black\",\"black\",\"black\",\"black\",\"black\",\"black\",\"black\",\"black\",\"black\",\"black\",\"black\",\"black\",\"black\",\"black\",\"black\",\"black\",\"black\",\"black\",\"black\",\"black\",\"black\",\"black\",\"black\",\"black\",\"black\",\"black\",\"black\",\"black\",\"black\",\"black\",\"black\",\"black\",\"black\",\"black\",\"black\",\"black\",\"black\",\"black\",\"black\",\"black\",\"black\",\"black\",\"black\",\"black\",\"black\",\"black\",\"black\",\"black\",\"black\",\"black\",\"black\",\"black\",\"black\",\"black\",\"black\",\"black\",\"black\",\"black\",\"black\",\"black\",\"black\",\"black\",\"black\",\"black\",\"black\",\"black\",\"black\",\"black\",\"black\",\"black\",\"black\",\"black\",\"black\",\"black\",\"black\",\"black\",\"black\",\"black\",\"black\",\"black\",\"black\",\"black\",\"black\",\"black\",\"black\",\"black\",\"black\",\"black\",\"black\",\"black\",\"black\",\"black\",\"black\",\"black\",\"black\",\"black\",\"black\",\"black\",\"black\",\"black\",\"black\",\"black\",\"black\",\"black\",\"black\",\"black\",\"black\",\"black\",\"black\",\"black\",\"black\",\"black\",\"black\",\"black\",\"black\",\"black\",\"black\",\"black\",\"black\",\"black\",\"black\",\"black\",\"black\",\"black\",\"black\",\"black\",\"black\",\"black\",\"black\",\"black\",\"black\",\"black\",\"black\",\"black\",\"black\",\"black\",\"black\",\"black\",\"black\",\"black\",\"black\",\"black\",\"black\",\"black\",\"black\",\"black\",\"black\",\"black\",\"black\",\"black\",\"black\",\"black\",\"black\",\"black\",\"black\",\"black\"],\"xs\":[[135771974,135771974],[135859371,135859371],[135877562,135877562],[136022798,136022798],[136058820,136058820],[136140304,136140304],[135889881,135889881],[135956309,135956309],[136088389,136088389],[136323321,136323321],[136361384,136361384],[136382936,136382936],[135915358,135915358],[135954405,135954405],[135995073,135995073],[135995079,135995079],[136398174,136398174],[136402117,136402117],[136403749,136403749],[136409073,136409073],[136410299,136410299],[136413359,136413359],[136416855,136416855],[136416941,136416941],[136418348,136418348],[136419961,136419961],[136420690,136420690],[136422171,136422171],[136428460,136428460],[136430866,136430866],[136432103,136432103],[136437507,136437507],[136439090,136439090],[136439517,136439517],[136444123,136444123],[136445526,136445526],[136445869,136445869],[136455600,136455600],[136456642,136456642],[136462441,136462441],[136470714,136470714],[136474098,136474098],[136494985,136494985],[136497199,136497199],[136511817,136511817],[136513670,136513670],[136515458,136515458],[136516970,136516970],[136525309,136525309],[136528034,136528034],[136532225,136532225],[136535235,136535235],[136536095,136536095],[136544423,136544423],[136546927,136546927],[136552188,136552188],[136552517,136552517],[136555525,136555525],[136556480,136556480],[136560464,136560464],[136572285,136572285],[136582694,136582694],[136582809,136582809],[136584538,136584538],[136585323,136585323],[136586825,136586825],[136600662,136600662],[136612036,136612036],[136618178,136618178],[136618507,136618507],[136622543,136622543],[136624947,136624947],[136625113,136625113],[136626078,136626078],[136628121,136628121],[136632300,136632300],[136633962,136633962],[136635343,136635343],[136638113,136638113],[136640101,136640101],[136641593,136641593],[136646582,136646582],[136648077,136648077],[136648883,136648883],[136652045,136652045],[136653848,136653848],[136656094,136656094],[136661110,136661110],[136663110,136663110],[136663605,136663605],[136665162,136665162],[136665711,136665711],[136668123,136668123],[136670419,136670419],[136672680,136672680],[136673546,136673546],[136684632,136684632],[136686114,136686114],[136690425,136690425],[136690783,136690783],[136692893,136692893],[136694905,136694905],[136695694,136695694],[136695705,136695705],[136696608,136696608],[136697372,136697372],[136697468,136697468],[136700024,136700024],[136701539,136701539],[136702118,136702118],[136707480,136707480],[136710554,136710554],[136714178,136714178],[136719173,136719173],[136725459,136725459],[136734569,136734569],[136744678,136744678],[136748779,136748779],[136751488,136751488],[136754183,136754183],[136763242,136763242],[136765074,136765074],[136773638,136773638],[136500475,136500475],[136501509,136501509],[136504101,136504101],[136509868,136509868],[136520043,136520043],[136527120,136527120],[136530379,136530379],[136530443,136530443],[136539330,136539330],[136539670,136539670],[136540083,136540083],[136542559,136542559],[136542560,136542560],[136506375,136506375],[136506927,136506927],[136510012,136510012],[136538939,136538939],[136535876,136535876],[136544651,136544651],[136545844,136545844],[136552526,136552526],[136553022,136553022],[136554797,136554797],[136554890,136554890],[136588031,136588031],[136589278,136589278],[136589379,136589379],[136589741,136589741],[136590746,136590746],[136593553,136593553],[136593678,136593678],[136652491,136652491],[136652524,136652524],[136661150,136661150],[136669264,136669264],[136726567,136726567],[136732772,136732772],[136652953,136652953],[136655582,136655582],[136674028,136674028],[136684940,136684940],[136761175,136761175],[136653925,136653925],[136654833,136654833],[136656534,136656534],[136656536,136656536],[136657252,136657252],[136667301,136667301],[136667487,136667487],[136672775,136672775],[136680534,136680534],[136686393,136686393],[136688749,136688749],[136692553,136692553],[136697371,136697371],[136708787,136708787],[136710372,136710372],[136711064,136711064],[136715324,136715324],[136723504,136723504],[136737460,136737460],[136743143,136743143],[136746224,136746224],[136751842,136751842],[136759379,136759379],[136761853,136761853]],\"ys\":[[350,395],[350,395],[350,395],[350,395],[350,395],[350,395],[50,66],[50,66],[50,66],[50,66],[50,66],[50,66],[450,496],[450,496],[450,496],[450,496],[350,394],[350,394],[350,394],[350,394],[350,394],[350,394],[350,394],[350,394],[350,394],[350,394],[350,394],[350,394],[350,394],[350,394],[350,394],[350,394],[350,394],[350,394],[350,394],[350,394],[350,394],[350,394],[350,394],[350,394],[350,394],[350,394],[50,90],[50,90],[50,90],[50,90],[50,90],[50,90],[50,90],[50,90],[50,90],[50,90],[50,90],[50,90],[50,90],[50,90],[50,90],[50,90],[50,90],[50,90],[50,90],[50,90],[50,90],[50,90],[50,90],[50,90],[50,90],[50,90],[50,90],[50,90],[50,90],[50,90],[50,90],[50,90],[50,90],[50,90],[50,90],[50,90],[50,90],[50,90],[50,90],[50,90],[50,90],[50,90],[50,90],[50,90],[50,90],[50,90],[50,90],[50,90],[50,90],[50,90],[50,90],[50,90],[50,90],[50,90],[50,90],[50,90],[50,90],[50,90],[50,90],[50,90],[50,90],[50,90],[50,90],[50,90],[50,90],[50,90],[50,90],[50,90],[50,90],[50,90],[50,90],[50,90],[50,90],[50,90],[50,90],[50,90],[50,90],[50,90],[50,90],[50,90],[50,90],[150,193],[150,193],[150,193],[150,193],[150,193],[150,193],[150,193],[150,193],[150,193],[150,193],[150,193],[150,193],[150,193],[350,394],[350,394],[350,394],[350,394],[250,294],[250,294],[250,294],[250,294],[250,294],[250,294],[250,294],[450,496],[450,496],[450,496],[450,496],[450,496],[450,496],[450,496],[150,192],[150,192],[150,192],[150,192],[150,192],[150,192],[250,294],[250,294],[250,294],[250,294],[250,294],[450,495],[450,495],[450,495],[450,495],[450,495],[450,495],[450,495],[450,495],[450,495],[450,495],[450,495],[450,495],[450,495],[450,495],[450,495],[450,495],[450,495],[450,495],[450,495],[450,495],[450,495],[450,495],[450,495],[450,495]]}},\"id\":\"6107f7a9-5d9a-490c-af3b-f419e1ba1cb5\",\"type\":\"ColumnDataSource\"},{\"attributes\":{\"bottom\":{\"field\":\"bottom\"},\"fill_color\":{\"field\":\"fill_color\"},\"left\":{\"field\":\"left\"},\"line_color\":{\"value\":null},\"right\":{\"field\":\"right\"},\"top\":{\"field\":\"top\"}},\"id\":\"9100b0bb-ba4a-43ce-8ffd-523560ff3395\",\"type\":\"Quad\"},{\"attributes\":{\"bottom\":{\"field\":\"bottom\"},\"fill_alpha\":{\"value\":0.1},\"fill_color\":{\"value\":\"#1f77b4\"},\"left\":{\"field\":\"left\"},\"line_alpha\":{\"value\":0.1},\"line_color\":{\"value\":\"#1f77b4\"},\"right\":{\"field\":\"right\"},\"top\":{\"field\":\"top\"}},\"id\":\"4c4094ca-9169-4b21-b871-3ff470b7ce24\",\"type\":\"Quad\"},{\"attributes\":{\"line_color\":{\"field\":\"line_color\"},\"xs\":{\"field\":\"xs\"},\"ys\":{\"field\":\"ys\"}},\"id\":\"a66748b9-fb85-4e9c-a142-d279263b3f6b\",\"type\":\"MultiLine\"},{\"attributes\":{\"plot\":{\"id\":\"8b6004a9-8b03-4039-adb3-8b9450b94bd1\",\"subtype\":\"Figure\",\"type\":\"Plot\"}},\"id\":\"7cbff665-fefe-4838-a623-1a7e5e6b98b9\",\"type\":\"WheelZoomTool\"},{\"attributes\":{\"overlay\":{\"id\":\"cdd40808-2241-4c37-af8b-def3447b8fd3\",\"type\":\"BoxAnnotation\"},\"plot\":{\"id\":\"8b6004a9-8b03-4039-adb3-8b9450b94bd1\",\"subtype\":\"Figure\",\"type\":\"Plot\"}},\"id\":\"e465dc76-7dd9-429d-94a5-7839dddfd860\",\"type\":\"BoxZoomTool\"},{\"attributes\":{\"plot\":{\"id\":\"8b6004a9-8b03-4039-adb3-8b9450b94bd1\",\"subtype\":\"Figure\",\"type\":\"Plot\"},\"ticker\":{\"id\":\"7a82defe-3d2c-4cc5-9473-2f6fe512e81a\",\"type\":\"BasicTicker\"}},\"id\":\"cb5ed750-421a-4def-b300-c052fc9a85f6\",\"type\":\"Grid\"},{\"attributes\":{\"level\":\"glyph\",\"plot\":{\"id\":\"8b6004a9-8b03-4039-adb3-8b9450b94bd1\",\"subtype\":\"Figure\",\"type\":\"Plot\"},\"source\":{\"id\":\"a7bfa69b-00cc-4ae4-8a99-870b7fd9d92c\",\"type\":\"ColumnDataSource\"},\"text\":{\"field\":\"vals\"},\"text_font_size\":{\"value\":\"9pt\"},\"text_font_style\":\"bold\",\"x\":{\"field\":\"x\"},\"y\":{\"field\":\"y\"}},\"id\":\"690432b8-5e9f-463a-ad6b-eed61f048701\",\"type\":\"LabelSet\"},{\"attributes\":{\"bottom\":{\"field\":\"bottom\"},\"fill_color\":{\"value\":\"white\"},\"left\":{\"field\":\"left\"},\"right\":{\"field\":\"right\"},\"top\":{\"field\":\"top\"}},\"id\":\"c75a7b01-934b-49c9-b75b-d4308966ba4c\",\"type\":\"Quad\"},{\"attributes\":{},\"id\":\"08755f36-e010-48e9-9e75-47e533e8cc94\",\"type\":\"BasicTickFormatter\"},{\"attributes\":{\"callback\":null,\"column_names\":[\"right\",\"bottom\",\"top\",\"left\"],\"data\":{\"bottom\":[545,545,545,545,545,545,545],\"left\":[135809835,135957574,136289083,136499189,136545415,136597196,136664254],\"right\":[135928279,136288182,136482839,136542633,136594750,136634047,136743222],\"top\":[575,575,575,575,575,575,575]}},\"id\":\"91f137d7-8b20-4171-a1cc-81eda0f1d591\",\"type\":\"ColumnDataSource\"},{\"attributes\":{},\"id\":\"7a82defe-3d2c-4cc5-9473-2f6fe512e81a\",\"type\":\"BasicTicker\"},{\"attributes\":{\"data_source\":{\"id\":\"91f137d7-8b20-4171-a1cc-81eda0f1d591\",\"type\":\"ColumnDataSource\"},\"glyph\":{\"id\":\"c75a7b01-934b-49c9-b75b-d4308966ba4c\",\"type\":\"Quad\"},\"hover_glyph\":null,\"nonselection_glyph\":{\"id\":\"c60cc81e-12bf-4879-981a-62cd6687b119\",\"type\":\"Quad\"},\"selection_glyph\":null},\"id\":\"b1f98c94-89a8-459f-9c9f-ac10d8e972bb\",\"type\":\"GlyphRenderer\"},{\"attributes\":{\"callback\":null,\"end\":600},\"id\":\"dd0391c5-e3e9-4c3d-a74e-5fbedd8171e2\",\"type\":\"Range1d\"},{\"attributes\":{\"formatter\":{\"id\":\"29e4b58d-0117-49f4-ab20-e85cb35ec659\",\"type\":\"BasicTickFormatter\"},\"plot\":{\"id\":\"8b6004a9-8b03-4039-adb3-8b9450b94bd1\",\"subtype\":\"Figure\",\"type\":\"Plot\"},\"ticker\":{\"id\":\"c05eb116-52f6-4025-b86b-f7e38b8d819b\",\"type\":\"BasicTicker\"},\"visible\":null},\"id\":\"7ccc8581-4ef6-4dd3-bec2-76b448399a63\",\"type\":\"LinearAxis\"},{\"attributes\":{},\"id\":\"7e9c9f92-2e1d-4383-b1d7-8f4ac9c5e6bf\",\"type\":\"ToolEvents\"},{\"attributes\":{\"plot\":{\"id\":\"8b6004a9-8b03-4039-adb3-8b9450b94bd1\",\"subtype\":\"Figure\",\"type\":\"Plot\"}},\"id\":\"ae6ceb8b-f7c5-4d8a-8b53-fc90b608dfc9\",\"type\":\"SaveTool\"},{\"attributes\":{\"formatter\":{\"id\":\"08755f36-e010-48e9-9e75-47e533e8cc94\",\"type\":\"BasicTickFormatter\"},\"plot\":{\"id\":\"8b6004a9-8b03-4039-adb3-8b9450b94bd1\",\"subtype\":\"Figure\",\"type\":\"Plot\"},\"ticker\":{\"id\":\"7a82defe-3d2c-4cc5-9473-2f6fe512e81a\",\"type\":\"BasicTicker\"}},\"id\":\"2a7f6732-ba94-4f2e-ba7b-f4ff698c34b4\",\"type\":\"LinearAxis\"},{\"attributes\":{\"level\":\"glyph\",\"plot\":{\"id\":\"8b6004a9-8b03-4039-adb3-8b9450b94bd1\",\"subtype\":\"Figure\",\"type\":\"Plot\"},\"source\":{\"id\":\"04816e12-b8cf-4164-930c-593b4fb53b0e\",\"type\":\"ColumnDataSource\"},\"text\":{\"field\":\"vals\"},\"text_align\":\"center\",\"text_baseline\":\"middle\",\"text_font_size\":{\"value\":\"8pt\"},\"x\":{\"field\":\"x\"},\"y\":{\"field\":\"y\"}},\"id\":\"e044b8d5-095d-4b03-a12c-a3a4f61d7178\",\"type\":\"LabelSet\"},{\"attributes\":{\"dimension\":1,\"plot\":{\"id\":\"8b6004a9-8b03-4039-adb3-8b9450b94bd1\",\"subtype\":\"Figure\",\"type\":\"Plot\"},\"ticker\":{\"id\":\"c05eb116-52f6-4025-b86b-f7e38b8d819b\",\"type\":\"BasicTicker\"}},\"id\":\"4bde0e48-a661-4455-a7c1-cc29a0fbfe4a\",\"type\":\"Grid\"},{\"attributes\":{},\"id\":\"29e4b58d-0117-49f4-ab20-e85cb35ec659\",\"type\":\"BasicTickFormatter\"},{\"attributes\":{\"plot\":{\"id\":\"8b6004a9-8b03-4039-adb3-8b9450b94bd1\",\"subtype\":\"Figure\",\"type\":\"Plot\"}},\"id\":\"0c5918f9-d2f9-45de-8a32-d83b2a1224d3\",\"type\":\"ResetTool\"},{\"attributes\":{\"plot\":null,\"text\":null},\"id\":\"ff5f9900-224c-4d15-9d53-7ecf2a796749\",\"type\":\"Title\"},{\"attributes\":{\"callback\":null,\"column_names\":[\"y\",\"x\",\"vals\"],\"data\":{\"vals\":[\"6_1503\",\"6_57\",\"4_1699\",\"26_1414\",\"81_857\",\"13_1227\",\"4_1442\",\"7_1303\",\"7_1760\",\"6_1114\",\"5_1296\",\"24_1504\"],\"x\":[135771974,135889881,135915358,136398174,136494985,136500475,136506375,136535876,136588031,136652491,136652953,136653925],\"y\":[400.0,71.0,501.0,399.0,95.0,198.0,399.0,299.0,501.0,197.0,299.0,500.0]}},\"id\":\"a7bfa69b-00cc-4ae4-8a99-870b7fd9d92c\",\"type\":\"ColumnDataSource\"},{\"attributes\":{\"bottom\":{\"field\":\"bottom\"},\"fill_alpha\":{\"value\":0.1},\"fill_color\":{\"value\":\"#1f77b4\"},\"left\":{\"field\":\"left\"},\"line_alpha\":{\"value\":0.1},\"line_color\":{\"value\":\"#1f77b4\"},\"right\":{\"field\":\"right\"},\"top\":{\"field\":\"top\"}},\"id\":\"c60cc81e-12bf-4879-981a-62cd6687b119\",\"type\":\"Quad\"},{\"attributes\":{\"data_source\":{\"id\":\"6107f7a9-5d9a-490c-af3b-f419e1ba1cb5\",\"type\":\"ColumnDataSource\"},\"glyph\":{\"id\":\"a66748b9-fb85-4e9c-a142-d279263b3f6b\",\"type\":\"MultiLine\"},\"hover_glyph\":null,\"nonselection_glyph\":{\"id\":\"44e89e0f-55aa-4eb2-bae8-f95bb55babd3\",\"type\":\"MultiLine\"},\"selection_glyph\":null},\"id\":\"c828d3c6-2528-40c0-8ae0-a067971653ce\",\"type\":\"GlyphRenderer\"}],\"root_ids\":[\"8b6004a9-8b03-4039-adb3-8b9450b94bd1\"]},\"title\":\"Bokeh Application\",\"version\":\"0.12.0\"}};\n",
       "            var render_items = [{\"docid\":\"bc8e83d3-da53-4e26-bade-64929c3ca3e7\",\"elementid\":\"795f9c60-a18f-4bbd-a1fc-787811585106\",\"modelid\":\"8b6004a9-8b03-4039-adb3-8b9450b94bd1\",\"notebook_comms_target\":\"aa39ce84-ce4b-40a9-b980-7ba0eb71e02c\"}];\n",
       "            \n",
       "            Bokeh.embed.embed_items(docs_json, render_items);\n",
       "        });\n",
       "      },\n",
       "      function(Bokeh) {\n",
       "      }\n",
       "    ];\n",
       "  \n",
       "    function run_inline_js() {\n",
       "      for (var i = 0; i < inline_js.length; i++) {\n",
       "        inline_js[i](window.Bokeh);\n",
       "      }\n",
       "    }\n",
       "  \n",
       "    if (window._bokeh_is_loading === 0) {\n",
       "      console.log(\"Bokeh: BokehJS loaded, going straight to plotting\");\n",
       "      run_inline_js();\n",
       "    } else {\n",
       "      load_libs(js_urls, function() {\n",
       "        console.log(\"Bokeh: BokehJS plotting callback run at\", now());\n",
       "        run_inline_js();\n",
       "      });\n",
       "    }\n",
       "  }(this));\n",
       "</script>"
      ]
     },
     "metadata": {},
     "output_type": "display_data"
    },
    {
     "data": {
      "text/html": [
       "<p><code>&lt;Bokeh Notebook handle for <strong>In[22]</strong>&gt;</code></p>"
      ],
      "text/plain": [
       "<bokeh.io._CommsHandle at 0x7fb5f12b9d90>"
      ]
     },
     "execution_count": 22,
     "metadata": {},
     "output_type": "execute_result"
    }
   ],
   "source": [
    "plt_obj = dm.superset_yes_no([di_6_57, dm.di_26_1414], [dm.di_10_2206], min_match=0.001)\n",
    "plt = plt_obj.do_plot()\n",
    "am = plt_obj.plot_context.yes_allele_mask\n",
    "show(plt)"
   ]
  },
  {
   "cell_type": "code",
   "execution_count": 23,
   "metadata": {
    "collapsed": false
   },
   "outputs": [
    {
     "data": {
      "text/html": [
       "<table>\n",
       "<thead><tr><th style=\"text-align:center\">index</th><th style=\"text-align:center\">first</th><th style=\"text-align:center\">length</th><th style=\"text-align:center\">snps</th><th style=\"text-align:center\" colspan=2>alleles</th><th style=\"text-align:center\" colspan=2>matches</th><th style=\"text-align:center\" colspan=2>afr</th><th style=\"text-align:center\" colspan=2>afx</th><th style=\"text-align:center\" colspan=2>amr</th><th style=\"text-align:center\" colspan=2>eas</th><th style=\"text-align:center\" colspan=2>eur</th><th style=\"text-align:center\" colspan=2>sas</th><th style=\"text-align:center\" colspan=2>sax</th></tr></thead>\n",
       "<tr class=\"even\"><td style=\"text-align: right;\">354033</td><td style=\"text-align: right;\">136,588,031</td><td style=\"text-align: right;\">5,647</td><td style=\"text-align: right;\">7</td><td style=\"text-align: right;\">1760</td><td style=\"text-align: right;\">0.00</td><td style=\"text-align: right;\">1</td><td style=\"text-align: right;\">1.00</td><td style=\"text-align: right;\">0</td><td style=\"text-align: right;\">0.00</td><td style=\"text-align: right;\">0</td><td style=\"text-align: right;\">0.00</td><td style=\"text-align: right;\">0</td><td style=\"text-align: right;\">0.00</td><td style=\"text-align: right;\">0</td><td style=\"text-align: right;\">0.00</td><td style=\"text-align: right;\">1</td><td style=\"text-align: right;\">8.03</td><td style=\"text-align: right;\">0</td><td style=\"text-align: right;\">0.00</td><td style=\"text-align: right;\">0</td><td style=\"text-align: right;\">0.00</td></tr>\n",
       "<tr><td style=\"text-align: right;\">353462</td><td style=\"text-align: right;\">135,915,358</td><td style=\"text-align: right;\">79,721</td><td style=\"text-align: right;\">4</td><td style=\"text-align: right;\">1699</td><td style=\"text-align: right;\">0.00</td><td style=\"text-align: right;\">1</td><td style=\"text-align: right;\">1.00</td><td style=\"text-align: right;\">0</td><td style=\"text-align: right;\">0.00</td><td style=\"text-align: right;\">0</td><td style=\"text-align: right;\">0.00</td><td style=\"text-align: right;\">0</td><td style=\"text-align: right;\">0.00</td><td style=\"text-align: right;\">0</td><td style=\"text-align: right;\">0.00</td><td style=\"text-align: right;\">1</td><td style=\"text-align: right;\">8.03</td><td style=\"text-align: right;\">0</td><td style=\"text-align: right;\">0.00</td><td style=\"text-align: right;\">0</td><td style=\"text-align: right;\">0.00</td></tr>\n",
       "<tr class=\"even\"><td style=\"text-align: right;\">354130</td><td style=\"text-align: right;\">136,653,925</td><td style=\"text-align: right;\">107,928</td><td style=\"text-align: right;\">24</td><td style=\"text-align: right;\">1504</td><td style=\"text-align: right;\">0.00</td><td style=\"text-align: right;\">1</td><td style=\"text-align: right;\">1.00</td><td style=\"text-align: right;\">0</td><td style=\"text-align: right;\">0.00</td><td style=\"text-align: right;\">0</td><td style=\"text-align: right;\">0.00</td><td style=\"text-align: right;\">0</td><td style=\"text-align: right;\">0.00</td><td style=\"text-align: right;\">0</td><td style=\"text-align: right;\">0.00</td><td style=\"text-align: right;\">1</td><td style=\"text-align: right;\">8.03</td><td style=\"text-align: right;\">0</td><td style=\"text-align: right;\">0.00</td><td style=\"text-align: right;\">0</td><td style=\"text-align: right;\">0.00</td></tr>\n",
       "<tr><td style=\"text-align: right;\">353283</td><td style=\"text-align: right;\">135,771,974</td><td style=\"text-align: right;\">368,330</td><td style=\"text-align: right;\">6</td><td style=\"text-align: right;\">1503</td><td style=\"text-align: right;\">0.00</td><td style=\"text-align: right;\">1</td><td style=\"text-align: right;\">1.00</td><td style=\"text-align: right;\">0</td><td style=\"text-align: right;\">0.00</td><td style=\"text-align: right;\">0</td><td style=\"text-align: right;\">0.00</td><td style=\"text-align: right;\">0</td><td style=\"text-align: right;\">0.00</td><td style=\"text-align: right;\">0</td><td style=\"text-align: right;\">0.00</td><td style=\"text-align: right;\">1</td><td style=\"text-align: right;\">8.03</td><td style=\"text-align: right;\">0</td><td style=\"text-align: right;\">0.00</td><td style=\"text-align: right;\">0</td><td style=\"text-align: right;\">0.00</td></tr>\n",
       "<tr class=\"even\"><td style=\"text-align: right;\">353925</td><td style=\"text-align: right;\">136,506,375</td><td style=\"text-align: right;\">32,564</td><td style=\"text-align: right;\">4</td><td style=\"text-align: right;\">1442</td><td style=\"text-align: right;\">0.00</td><td style=\"text-align: right;\">1</td><td style=\"text-align: right;\">1.00</td><td style=\"text-align: right;\">0</td><td style=\"text-align: right;\">0.00</td><td style=\"text-align: right;\">0</td><td style=\"text-align: right;\">0.00</td><td style=\"text-align: right;\">0</td><td style=\"text-align: right;\">0.00</td><td style=\"text-align: right;\">0</td><td style=\"text-align: right;\">0.00</td><td style=\"text-align: right;\">1</td><td style=\"text-align: right;\">8.03</td><td style=\"text-align: right;\">0</td><td style=\"text-align: right;\">0.00</td><td style=\"text-align: right;\">0</td><td style=\"text-align: right;\">0.00</td></tr>\n",
       "<tr><td style=\"text-align: right;\">353797</td><td style=\"text-align: right;\">136,398,174</td><td style=\"text-align: right;\">75,924</td><td style=\"text-align: right;\">26</td><td style=\"text-align: right;\">1414</td><td style=\"text-align: right;\">0.00</td><td style=\"text-align: right;\">1</td><td style=\"text-align: right;\">1.00</td><td style=\"text-align: right;\">0</td><td style=\"text-align: right;\">0.00</td><td style=\"text-align: right;\">0</td><td style=\"text-align: right;\">0.00</td><td style=\"text-align: right;\">0</td><td style=\"text-align: right;\">0.00</td><td style=\"text-align: right;\">0</td><td style=\"text-align: right;\">0.00</td><td style=\"text-align: right;\">1</td><td style=\"text-align: right;\">8.03</td><td style=\"text-align: right;\">0</td><td style=\"text-align: right;\">0.00</td><td style=\"text-align: right;\">0</td><td style=\"text-align: right;\">0.00</td></tr>\n",
       "<tr class=\"even\"><td style=\"text-align: right;\">353958</td><td style=\"text-align: right;\">136,535,876</td><td style=\"text-align: right;\">19,014</td><td style=\"text-align: right;\">7</td><td style=\"text-align: right;\">1303</td><td style=\"text-align: right;\">0.00</td><td style=\"text-align: right;\">1</td><td style=\"text-align: right;\">1.00</td><td style=\"text-align: right;\">0</td><td style=\"text-align: right;\">0.00</td><td style=\"text-align: right;\">0</td><td style=\"text-align: right;\">0.00</td><td style=\"text-align: right;\">0</td><td style=\"text-align: right;\">0.00</td><td style=\"text-align: right;\">0</td><td style=\"text-align: right;\">0.00</td><td style=\"text-align: right;\">1</td><td style=\"text-align: right;\">8.03</td><td style=\"text-align: right;\">0</td><td style=\"text-align: right;\">0.00</td><td style=\"text-align: right;\">0</td><td style=\"text-align: right;\">0.00</td></tr>\n",
       "<tr><td style=\"text-align: right;\">354129</td><td style=\"text-align: right;\">136,652,953</td><td style=\"text-align: right;\">108,222</td><td style=\"text-align: right;\">5</td><td style=\"text-align: right;\">1296</td><td style=\"text-align: right;\">0.00</td><td style=\"text-align: right;\">1</td><td style=\"text-align: right;\">1.00</td><td style=\"text-align: right;\">0</td><td style=\"text-align: right;\">0.00</td><td style=\"text-align: right;\">0</td><td style=\"text-align: right;\">0.00</td><td style=\"text-align: right;\">0</td><td style=\"text-align: right;\">0.00</td><td style=\"text-align: right;\">0</td><td style=\"text-align: right;\">0.00</td><td style=\"text-align: right;\">1</td><td style=\"text-align: right;\">8.03</td><td style=\"text-align: right;\">0</td><td style=\"text-align: right;\">0.00</td><td style=\"text-align: right;\">0</td><td style=\"text-align: right;\">0.00</td></tr>\n",
       "<tr class=\"even\"><td style=\"text-align: right;\">353919</td><td style=\"text-align: right;\">136,500,475</td><td style=\"text-align: right;\">42,085</td><td style=\"text-align: right;\">13</td><td style=\"text-align: right;\">1227</td><td style=\"text-align: right;\">0.00</td><td style=\"text-align: right;\">1</td><td style=\"text-align: right;\">1.00</td><td style=\"text-align: right;\">0</td><td style=\"text-align: right;\">0.00</td><td style=\"text-align: right;\">0</td><td style=\"text-align: right;\">0.00</td><td style=\"text-align: right;\">0</td><td style=\"text-align: right;\">0.00</td><td style=\"text-align: right;\">0</td><td style=\"text-align: right;\">0.00</td><td style=\"text-align: right;\">1</td><td style=\"text-align: right;\">8.03</td><td style=\"text-align: right;\">0</td><td style=\"text-align: right;\">0.00</td><td style=\"text-align: right;\">0</td><td style=\"text-align: right;\">0.00</td></tr>\n",
       "<tr><td style=\"text-align: right;\">354127</td><td style=\"text-align: right;\">136,652,491</td><td style=\"text-align: right;\">80,281</td><td style=\"text-align: right;\">6</td><td style=\"text-align: right;\">1114</td><td style=\"text-align: right;\">0.00</td><td style=\"text-align: right;\">1</td><td style=\"text-align: right;\">1.00</td><td style=\"text-align: right;\">0</td><td style=\"text-align: right;\">0.00</td><td style=\"text-align: right;\">0</td><td style=\"text-align: right;\">0.00</td><td style=\"text-align: right;\">0</td><td style=\"text-align: right;\">0.00</td><td style=\"text-align: right;\">0</td><td style=\"text-align: right;\">0.00</td><td style=\"text-align: right;\">1</td><td style=\"text-align: right;\">8.03</td><td style=\"text-align: right;\">0</td><td style=\"text-align: right;\">0.00</td><td style=\"text-align: right;\">0</td><td style=\"text-align: right;\">0.00</td></tr>\n",
       "<tr class=\"even\"><td style=\"text-align: right;\">353902</td><td style=\"text-align: right;\">136,494,985</td><td style=\"text-align: right;\">278,653</td><td style=\"text-align: right;\">81</td><td style=\"text-align: right;\">857</td><td style=\"text-align: right;\">0.00</td><td style=\"text-align: right;\">1</td><td style=\"text-align: right;\">1.00</td><td style=\"text-align: right;\">0</td><td style=\"text-align: right;\">0.00</td><td style=\"text-align: right;\">0</td><td style=\"text-align: right;\">0.00</td><td style=\"text-align: right;\">0</td><td style=\"text-align: right;\">0.00</td><td style=\"text-align: right;\">0</td><td style=\"text-align: right;\">0.00</td><td style=\"text-align: right;\">1</td><td style=\"text-align: right;\">8.03</td><td style=\"text-align: right;\">0</td><td style=\"text-align: right;\">0.00</td><td style=\"text-align: right;\">0</td><td style=\"text-align: right;\">0.00</td></tr>\n",
       "<tr><td style=\"text-align: right;\">353444</td><td style=\"text-align: right;\">135,889,881</td><td style=\"text-align: right;\">493,055</td><td style=\"text-align: right;\">6</td><td style=\"text-align: right;\">57</td><td style=\"text-align: right;\">0.02</td><td style=\"text-align: right;\">1</td><td style=\"text-align: right;\">1.00</td><td style=\"text-align: right;\">0</td><td style=\"text-align: right;\">0.00</td><td style=\"text-align: right;\">0</td><td style=\"text-align: right;\">0.00</td><td style=\"text-align: right;\">0</td><td style=\"text-align: right;\">0.00</td><td style=\"text-align: right;\">0</td><td style=\"text-align: right;\">0.00</td><td style=\"text-align: right;\">1</td><td style=\"text-align: right;\">8.03</td><td style=\"text-align: right;\">0</td><td style=\"text-align: right;\">0.00</td><td style=\"text-align: right;\">0</td><td style=\"text-align: right;\">0.00</td></tr>\n",
       "</table>"
      ],
      "text/plain": [
       "<IPython.core.display.HTML object>"
      ]
     },
     "execution_count": 23,
     "metadata": {},
     "output_type": "execute_result"
    }
   ],
   "source": [
    "HTML(plt_obj.get_html())"
   ]
  },
  {
   "cell_type": "code",
   "execution_count": 24,
   "metadata": {
    "collapsed": false
   },
   "outputs": [
    {
     "data": {
      "text/plain": [
       "array([1, 0, 0, 0, 0, 0, 0, 0, 0, 0, 0, 0, 0, 0, 0, 0, 0, 0, 0, 0, 0, 0, 0,\n",
       "       0, 0, 0, 0, 0, 0, 0, 0, 0, 0, 0, 0, 0, 0, 0, 0, 0, 0, 0, 0, 0, 0, 0,\n",
       "       0, 0, 0, 0, 0, 0, 0, 0, 0, 0, 0, 0, 0, 0, 0, 0, 0, 0])"
      ]
     },
     "execution_count": 24,
     "metadata": {},
     "output_type": "execute_result"
    }
   ],
   "source": [
    "sa_64_1575.alleles_per_snp(am)"
   ]
  },
  {
   "cell_type": "code",
   "execution_count": 25,
   "metadata": {
    "collapsed": false
   },
   "outputs": [
    {
     "data": {
      "text/html": [
       "\n",
       "\n",
       "    <div class=\"bk-root\">\n",
       "        <div class=\"plotdiv\" id=\"00426fe6-bc5d-4e8c-b13d-c8148fd6441e\"></div>\n",
       "    </div>\n",
       "<script type=\"text/javascript\">\n",
       "  \n",
       "  (function(global) {\n",
       "    function now() {\n",
       "      return new Date();\n",
       "    }\n",
       "  \n",
       "    if (typeof (window._bokeh_onload_callbacks) === \"undefined\") {\n",
       "      window._bokeh_onload_callbacks = [];\n",
       "    }\n",
       "  \n",
       "    function run_callbacks() {\n",
       "      window._bokeh_onload_callbacks.forEach(function(callback) { callback() });\n",
       "      delete window._bokeh_onload_callbacks\n",
       "      console.info(\"Bokeh: all callbacks have finished\");\n",
       "    }\n",
       "  \n",
       "    function load_libs(js_urls, callback) {\n",
       "      window._bokeh_onload_callbacks.push(callback);\n",
       "      if (window._bokeh_is_loading > 0) {\n",
       "        console.log(\"Bokeh: BokehJS is being loaded, scheduling callback at\", now());\n",
       "        return null;\n",
       "      }\n",
       "      if (js_urls == null || js_urls.length === 0) {\n",
       "        run_callbacks();\n",
       "        return null;\n",
       "      }\n",
       "      console.log(\"Bokeh: BokehJS not loaded, scheduling load and callback at\", now());\n",
       "      window._bokeh_is_loading = js_urls.length;\n",
       "      for (var i = 0; i < js_urls.length; i++) {\n",
       "        var url = js_urls[i];\n",
       "        var s = document.createElement('script');\n",
       "        s.src = url;\n",
       "        s.async = false;\n",
       "        s.onreadystatechange = s.onload = function() {\n",
       "          window._bokeh_is_loading--;\n",
       "          if (window._bokeh_is_loading === 0) {\n",
       "            console.log(\"Bokeh: all BokehJS libraries loaded\");\n",
       "            run_callbacks()\n",
       "          }\n",
       "        };\n",
       "        s.onerror = function() {\n",
       "          console.warn(\"failed to load library \" + url);\n",
       "        };\n",
       "        console.log(\"Bokeh: injecting script tag for BokehJS library: \", url);\n",
       "        document.getElementsByTagName(\"head\")[0].appendChild(s);\n",
       "      }\n",
       "    };var element = document.getElementById(\"00426fe6-bc5d-4e8c-b13d-c8148fd6441e\");\n",
       "    if (element == null) {\n",
       "      console.log(\"Bokeh: ERROR: autoload.js configured with elementid '00426fe6-bc5d-4e8c-b13d-c8148fd6441e' but no matching script tag was found. \")\n",
       "      return false;\n",
       "    }\n",
       "  \n",
       "    var js_urls = [];\n",
       "  \n",
       "    var inline_js = [\n",
       "      function(Bokeh) {\n",
       "        Bokeh.$(function() {\n",
       "            var docs_json = {\"03feb3c9-bb1c-458a-9368-a59e4e5c66c0\":{\"roots\":{\"references\":[{\"attributes\":{},\"id\":\"726d1343-b0de-4863-889b-83c0bfc93f06\",\"type\":\"BasicTickFormatter\"},{\"attributes\":{\"bottom\":{\"field\":\"bottom\"},\"fill_color\":{\"field\":\"fill_color\"},\"left\":{\"field\":\"left\"},\"line_color\":{\"value\":null},\"right\":{\"field\":\"right\"},\"top\":{\"field\":\"top\"}},\"id\":\"6d063b07-2cb0-426c-8daf-b641a7664baa\",\"type\":\"Quad\"},{\"attributes\":{\"active_drag\":\"auto\",\"active_scroll\":\"auto\",\"active_tap\":\"auto\",\"tools\":[{\"id\":\"0160ce7a-5182-43cb-93d1-9ea20f0c5a89\",\"type\":\"PanTool\"},{\"id\":\"c7e08718-2a59-405a-bb56-fa7902c58b7e\",\"type\":\"WheelZoomTool\"},{\"id\":\"5e49baed-718a-4f5a-bb59-559d03d94ecb\",\"type\":\"BoxZoomTool\"},{\"id\":\"5feb49dc-94b2-4b33-98db-a292b8406378\",\"type\":\"SaveTool\"},{\"id\":\"6f6da87e-f473-4cd9-9f4d-5dc155945e48\",\"type\":\"ResetTool\"},{\"id\":\"1de8abd5-24fd-47d3-b71d-1fd71896b00c\",\"type\":\"HelpTool\"}]},\"id\":\"0b7a863d-1eca-47ce-87bc-32fcbadf279f\",\"type\":\"Toolbar\"},{\"attributes\":{\"plot\":{\"id\":\"277cfd58-9b7c-4946-a990-99a247330184\",\"subtype\":\"Figure\",\"type\":\"Plot\"}},\"id\":\"5feb49dc-94b2-4b33-98db-a292b8406378\",\"type\":\"SaveTool\"},{\"attributes\":{\"callback\":null,\"end\":800},\"id\":\"b4464dd2-4ca3-4890-9111-e3a0c3d50a00\",\"type\":\"Range1d\"},{\"attributes\":{\"level\":\"glyph\",\"plot\":{\"id\":\"277cfd58-9b7c-4946-a990-99a247330184\",\"subtype\":\"Figure\",\"type\":\"Plot\"},\"source\":{\"id\":\"7d0b70f3-e1c8-4269-9309-4c790e7c1d3e\",\"type\":\"ColumnDataSource\"},\"text\":{\"field\":\"vals\"},\"text_font_size\":{\"value\":\"9pt\"},\"text_font_style\":\"bold\",\"x\":{\"field\":\"x\"},\"y\":{\"field\":\"y\"}},\"id\":\"07eb3f4c-5cc6-41ef-b850-914a21a71683\",\"type\":\"LabelSet\"},{\"attributes\":{},\"id\":\"0ad5b787-ea52-4bd8-9fb6-e27c665bd17a\",\"type\":\"ToolEvents\"},{\"attributes\":{\"formatter\":{\"id\":\"726d1343-b0de-4863-889b-83c0bfc93f06\",\"type\":\"BasicTickFormatter\"},\"plot\":{\"id\":\"277cfd58-9b7c-4946-a990-99a247330184\",\"subtype\":\"Figure\",\"type\":\"Plot\"},\"ticker\":{\"id\":\"8c64e6ea-3823-43bd-b83d-ff70522b5905\",\"type\":\"BasicTicker\"},\"visible\":null},\"id\":\"b4ea64d0-7c9e-4498-bc7d-b41530f425b4\",\"type\":\"LinearAxis\"},{\"attributes\":{\"callback\":null,\"column_names\":[\"xs\",\"ys\",\"line_color\"],\"data\":{\"line_color\":[\"black\",\"black\",\"black\",\"black\",\"black\",\"black\",\"black\",\"black\",\"black\",\"black\",\"black\",\"black\",\"black\",\"black\",\"black\",\"black\",\"black\",\"black\",\"black\",\"black\",\"black\",\"black\",\"black\",\"black\",\"black\",\"black\",\"black\",\"black\",\"black\",\"black\",\"black\",\"black\",\"black\",\"black\",\"black\",\"black\",\"black\",\"black\",\"black\",\"black\",\"black\",\"black\",\"black\",\"black\",\"black\",\"black\",\"black\",\"black\",\"black\",\"black\",\"black\",\"black\",\"black\",\"black\",\"black\",\"black\",\"black\",\"black\",\"black\",\"black\",\"black\",\"black\",\"black\",\"black\",\"black\",\"black\",\"black\",\"black\",\"black\",\"black\",\"black\",\"black\",\"black\",\"black\",\"black\",\"black\",\"black\",\"black\",\"black\",\"black\",\"black\",\"black\",\"black\",\"black\",\"black\",\"black\",\"black\",\"black\",\"black\",\"black\",\"black\",\"black\",\"black\",\"black\",\"black\",\"black\",\"black\",\"black\",\"black\",\"black\",\"black\",\"black\",\"black\",\"black\",\"black\",\"black\",\"black\",\"black\",\"black\",\"black\",\"black\",\"black\",\"black\",\"black\",\"black\",\"black\",\"black\",\"black\",\"black\",\"black\",\"black\",\"black\"],\"xs\":[[135771974,135771974],[135859371,135859371],[135877562,135877562],[136022798,136022798],[136058820,136058820],[136140304,136140304],[135889881,135889881],[135956309,135956309],[136088389,136088389],[136323321,136323321],[136361384,136361384],[136382936,136382936],[135915358,135915358],[135954405,135954405],[135995073,135995073],[135995079,135995079],[136393157,136393157],[136397433,136397433],[136402116,136402116],[136408291,136408291],[136421548,136421548],[136422784,136422784],[136427745,136427745],[136438950,136438950],[136439805,136439805],[136441410,136441410],[136403994,136403994],[136405878,136405878],[136409574,136409574],[136413225,136413225],[136418741,136418741],[136429088,136429088],[136432121,136432121],[136449305,136449305],[136451432,136451432],[136470978,136470978],[136472107,136472107],[136477100,136477100],[136485096,136485096],[136406646,136406646],[136408821,136408821],[136412472,136412472],[136416959,136416959],[136438078,136438078],[136447707,136447707],[136460324,136460324],[136472357,136472357],[136490266,136490266],[136496493,136496493],[136496639,136496639],[136496928,136496928],[136509573,136509573],[136511951,136511951],[136537057,136537057],[136546635,136546635],[136553438,136553438],[136553925,136553925],[136496805,136496805],[136496910,136496910],[136515859,136515859],[136515924,136515924],[136520186,136520186],[136524766,136524766],[136535364,136535364],[136536113,136536113],[136552629,136552629],[136500475,136500475],[136501509,136501509],[136504101,136504101],[136509868,136509868],[136520043,136520043],[136527120,136527120],[136530379,136530379],[136530443,136530443],[136539330,136539330],[136539670,136539670],[136540083,136540083],[136542559,136542559],[136542560,136542560],[136506375,136506375],[136506927,136506927],[136510012,136510012],[136538939,136538939],[136556805,136556805],[136560003,136560003],[136562472,136562472],[136563248,136563248],[136565328,136565328],[136570613,136570613],[136571982,136571982],[136574305,136574305],[136578040,136578040],[136578194,136578194],[136580398,136580398],[136586828,136586828],[136590558,136590558],[136592309,136592309],[136593541,136593541],[136593694,136593694],[136595426,136595426],[136615222,136615222],[136624919,136624919],[136626004,136626004],[136628380,136628380],[136636909,136636909],[136637350,136637350],[136637622,136637622],[136639487,136639487],[136646900,136646900],[136652093,136652093],[136652859,136652859],[136655620,136655620],[136667896,136667896],[136671801,136671801],[136677192,136677192],[136683293,136683293],[136704414,136704414],[136720344,136720344],[136731066,136731066],[136733897,136733897],[136743490,136743490],[136747085,136747085]],\"ys\":[[550,595],[550,595],[550,595],[550,595],[550,595],[550,595],[50,66],[50,66],[50,66],[50,66],[50,66],[50,66],[650,696],[650,696],[650,696],[650,696],[450,493],[450,493],[450,493],[450,493],[450,493],[450,493],[450,493],[450,493],[450,493],[450,493],[50,90],[50,90],[50,90],[50,90],[50,90],[50,90],[50,90],[50,90],[50,90],[50,90],[50,90],[50,90],[50,90],[550,595],[550,595],[550,595],[550,595],[550,595],[250,292],[250,292],[250,292],[250,292],[350,393],[350,393],[350,393],[350,393],[350,393],[350,393],[350,393],[350,393],[350,393],[150,191],[150,191],[150,191],[150,191],[150,191],[150,191],[150,191],[150,191],[150,191],[450,493],[450,493],[450,493],[450,493],[450,493],[450,493],[450,493],[450,493],[450,493],[450,493],[450,493],[450,493],[450,493],[550,594],[550,594],[550,594],[550,594],[150,191],[150,191],[150,191],[150,191],[150,191],[150,191],[150,191],[150,191],[150,191],[150,191],[150,191],[150,191],[150,191],[150,191],[150,191],[150,191],[150,191],[150,191],[150,191],[150,191],[150,191],[150,191],[150,191],[150,191],[150,191],[150,191],[150,191],[150,191],[150,191],[150,191],[150,191],[150,191],[150,191],[150,191],[150,191],[150,191],[150,191],[150,191],[150,191]]}},\"id\":\"792a832d-b79f-4f49-b0af-66aa18008804\",\"type\":\"ColumnDataSource\"},{\"attributes\":{},\"id\":\"bbc38a29-45fe-4824-a3e1-a09ed494f581\",\"type\":\"BasicTickFormatter\"},{\"attributes\":{\"bottom_units\":\"screen\",\"fill_alpha\":{\"value\":0.5},\"fill_color\":{\"value\":\"lightgrey\"},\"left_units\":\"screen\",\"level\":\"overlay\",\"line_alpha\":{\"value\":1.0},\"line_color\":{\"value\":\"black\"},\"line_dash\":[4,4],\"line_width\":{\"value\":2},\"plot\":null,\"render_mode\":\"css\",\"right_units\":\"screen\",\"top_units\":\"screen\"},\"id\":\"08dd34c5-9196-466b-985f-152e8b12ae2c\",\"type\":\"BoxAnnotation\"},{\"attributes\":{\"line_color\":{\"field\":\"line_color\"},\"xs\":{\"field\":\"xs\"},\"ys\":{\"field\":\"ys\"}},\"id\":\"f2c5a044-e274-42aa-b7e0-a97119c42d18\",\"type\":\"MultiLine\"},{\"attributes\":{\"bottom\":{\"field\":\"bottom\"},\"fill_alpha\":{\"value\":0.1},\"fill_color\":{\"value\":\"#1f77b4\"},\"left\":{\"field\":\"left\"},\"line_alpha\":{\"value\":0.1},\"line_color\":{\"value\":\"#1f77b4\"},\"right\":{\"field\":\"right\"},\"top\":{\"field\":\"top\"}},\"id\":\"a1ccf2a8-8120-4c3c-83bb-8ffe69ad79ea\",\"type\":\"Quad\"},{\"attributes\":{\"overlay\":{\"id\":\"08dd34c5-9196-466b-985f-152e8b12ae2c\",\"type\":\"BoxAnnotation\"},\"plot\":{\"id\":\"277cfd58-9b7c-4946-a990-99a247330184\",\"subtype\":\"Figure\",\"type\":\"Plot\"}},\"id\":\"5e49baed-718a-4f5a-bb59-559d03d94ecb\",\"type\":\"BoxZoomTool\"},{\"attributes\":{\"bottom\":{\"field\":\"bottom\"},\"fill_alpha\":{\"value\":0.1},\"fill_color\":{\"value\":\"#1f77b4\"},\"left\":{\"field\":\"left\"},\"line_alpha\":{\"value\":0.1},\"line_color\":{\"value\":\"#1f77b4\"},\"right\":{\"field\":\"right\"},\"top\":{\"field\":\"top\"}},\"id\":\"96e5429f-f103-4314-aef9-cc8045907d3e\",\"type\":\"Quad\"},{\"attributes\":{\"plot\":{\"id\":\"277cfd58-9b7c-4946-a990-99a247330184\",\"subtype\":\"Figure\",\"type\":\"Plot\"}},\"id\":\"0160ce7a-5182-43cb-93d1-9ea20f0c5a89\",\"type\":\"PanTool\"},{\"attributes\":{\"plot\":{\"id\":\"277cfd58-9b7c-4946-a990-99a247330184\",\"subtype\":\"Figure\",\"type\":\"Plot\"}},\"id\":\"6f6da87e-f473-4cd9-9f4d-5dc155945e48\",\"type\":\"ResetTool\"},{\"attributes\":{\"line_alpha\":{\"value\":0.1},\"line_color\":{\"value\":\"#1f77b4\"},\"xs\":{\"field\":\"xs\"},\"ys\":{\"field\":\"ys\"}},\"id\":\"33982041-3bae-4ffd-8e1c-67d2de3c0489\",\"type\":\"MultiLine\"},{\"attributes\":{\"formatter\":{\"id\":\"bbc38a29-45fe-4824-a3e1-a09ed494f581\",\"type\":\"BasicTickFormatter\"},\"plot\":{\"id\":\"277cfd58-9b7c-4946-a990-99a247330184\",\"subtype\":\"Figure\",\"type\":\"Plot\"},\"ticker\":{\"id\":\"d1888fd5-75ea-474a-80eb-73bc4fb11ea5\",\"type\":\"BasicTicker\"}},\"id\":\"cd6cd1bc-b32e-49ef-bdd2-d85b6490a96b\",\"type\":\"LinearAxis\"},{\"attributes\":{},\"id\":\"8c64e6ea-3823-43bd-b83d-ff70522b5905\",\"type\":\"BasicTicker\"},{\"attributes\":{\"data_source\":{\"id\":\"84e8d5af-675c-4b23-a87d-df4e48efbce0\",\"type\":\"ColumnDataSource\"},\"glyph\":{\"id\":\"6d063b07-2cb0-426c-8daf-b641a7664baa\",\"type\":\"Quad\"},\"hover_glyph\":null,\"nonselection_glyph\":{\"id\":\"a1ccf2a8-8120-4c3c-83bb-8ffe69ad79ea\",\"type\":\"Quad\"},\"selection_glyph\":null},\"id\":\"c467c394-aa60-48cd-b0f4-fc0149827391\",\"type\":\"GlyphRenderer\"},{\"attributes\":{\"callback\":null,\"column_names\":[\"right\",\"bottom\",\"top\",\"left\",\"fill_color\"],\"data\":{\"bottom\":[550,50,650,450,50,550,250,350,150,450,550,150],\"fill_color\":[\"#61c461\",\"#00ff00\",\"#61c461\",\"#808080\",\"#61c4c4\",\"#808080\",\"#61c4c4\",\"#808080\",\"#61c4c4\",\"#808080\",\"#808080\",\"#808080\"],\"left\":[135771974,135889881,135915358,136393157,136403994,136406646,136447707,136496493,136496805,136500475,136506375,136556805],\"right\":[136140304,136382936,135995079,136441410,136485096,136438078,136490266,136553925,136552629,136542560,136538939,136747085],\"top\":[595,66,696,493,90,595,292,393,191,493,594,191]}},\"id\":\"84e8d5af-675c-4b23-a87d-df4e48efbce0\",\"type\":\"ColumnDataSource\"},{\"attributes\":{\"level\":\"glyph\",\"plot\":{\"id\":\"277cfd58-9b7c-4946-a990-99a247330184\",\"subtype\":\"Figure\",\"type\":\"Plot\"},\"source\":{\"id\":\"8b4c2413-220e-4e4c-9d9f-63dec82e9081\",\"type\":\"ColumnDataSource\"},\"text\":{\"field\":\"vals\"},\"text_align\":\"center\",\"text_baseline\":\"middle\",\"text_font_size\":{\"value\":\"8pt\"},\"x\":{\"field\":\"x\"},\"y\":{\"field\":\"y\"}},\"id\":\"d6876e59-3165-4e45-9585-65f154bdf6fb\",\"type\":\"LabelSet\"},{\"attributes\":{\"below\":[{\"id\":\"cd6cd1bc-b32e-49ef-bdd2-d85b6490a96b\",\"type\":\"LinearAxis\"}],\"left\":[{\"id\":\"b4ea64d0-7c9e-4498-bc7d-b41530f425b4\",\"type\":\"LinearAxis\"}],\"plot_height\":800,\"plot_width\":900,\"renderers\":[{\"id\":\"cd6cd1bc-b32e-49ef-bdd2-d85b6490a96b\",\"type\":\"LinearAxis\"},{\"id\":\"cba97d59-4fbd-4cea-93df-e4351da0e538\",\"type\":\"Grid\"},{\"id\":\"b4ea64d0-7c9e-4498-bc7d-b41530f425b4\",\"type\":\"LinearAxis\"},{\"id\":\"68e3b567-fc81-418d-9db7-e2334923079e\",\"type\":\"Grid\"},{\"id\":\"08dd34c5-9196-466b-985f-152e8b12ae2c\",\"type\":\"BoxAnnotation\"},{\"id\":\"c467c394-aa60-48cd-b0f4-fc0149827391\",\"type\":\"GlyphRenderer\"},{\"id\":\"75c5acdf-4cf4-47d6-8f58-e4ef6c98997a\",\"type\":\"GlyphRenderer\"},{\"id\":\"07eb3f4c-5cc6-41ef-b850-914a21a71683\",\"type\":\"LabelSet\"},{\"id\":\"64f33811-ea84-4572-a744-6329056f2bfc\",\"type\":\"GlyphRenderer\"},{\"id\":\"d6876e59-3165-4e45-9585-65f154bdf6fb\",\"type\":\"LabelSet\"}],\"title\":{\"id\":\"172745ec-6da8-41a9-b7ac-2df4536de87a\",\"type\":\"Title\"},\"tool_events\":{\"id\":\"0ad5b787-ea52-4bd8-9fb6-e27c665bd17a\",\"type\":\"ToolEvents\"},\"toolbar\":{\"id\":\"0b7a863d-1eca-47ce-87bc-32fcbadf279f\",\"type\":\"Toolbar\"},\"toolbar_location\":null,\"x_range\":{\"id\":\"178c5b2b-fe0e-4bf1-a711-86c30b828a7b\",\"type\":\"Range1d\"},\"y_range\":{\"id\":\"b4464dd2-4ca3-4890-9111-e3a0c3d50a00\",\"type\":\"Range1d\"}},\"id\":\"277cfd58-9b7c-4946-a990-99a247330184\",\"subtype\":\"Figure\",\"type\":\"Plot\"},{\"attributes\":{\"callback\":null,\"column_names\":[\"right\",\"bottom\",\"top\",\"left\"],\"data\":{\"bottom\":[745,745,745,745,745,745,745],\"left\":[135809835,135957574,136289083,136499189,136545415,136597196,136664254],\"right\":[135928279,136288182,136482839,136542633,136594750,136634047,136743222],\"top\":[775,775,775,775,775,775,775]}},\"id\":\"23ddb90d-bcf0-4064-a4d2-8e45e74e345e\",\"type\":\"ColumnDataSource\"},{\"attributes\":{\"dimension\":1,\"plot\":{\"id\":\"277cfd58-9b7c-4946-a990-99a247330184\",\"subtype\":\"Figure\",\"type\":\"Plot\"},\"ticker\":{\"id\":\"8c64e6ea-3823-43bd-b83d-ff70522b5905\",\"type\":\"BasicTicker\"}},\"id\":\"68e3b567-fc81-418d-9db7-e2334923079e\",\"type\":\"Grid\"},{\"attributes\":{\"data_source\":{\"id\":\"23ddb90d-bcf0-4064-a4d2-8e45e74e345e\",\"type\":\"ColumnDataSource\"},\"glyph\":{\"id\":\"c691c67c-ad76-407b-baff-079b9faaba2b\",\"type\":\"Quad\"},\"hover_glyph\":null,\"nonselection_glyph\":{\"id\":\"96e5429f-f103-4314-aef9-cc8045907d3e\",\"type\":\"Quad\"},\"selection_glyph\":null},\"id\":\"64f33811-ea84-4572-a744-6329056f2bfc\",\"type\":\"GlyphRenderer\"},{\"attributes\":{\"bottom\":{\"field\":\"bottom\"},\"fill_color\":{\"value\":\"white\"},\"left\":{\"field\":\"left\"},\"right\":{\"field\":\"right\"},\"top\":{\"field\":\"top\"}},\"id\":\"c691c67c-ad76-407b-baff-079b9faaba2b\",\"type\":\"Quad\"},{\"attributes\":{\"plot\":{\"id\":\"277cfd58-9b7c-4946-a990-99a247330184\",\"subtype\":\"Figure\",\"type\":\"Plot\"}},\"id\":\"1de8abd5-24fd-47d3-b71d-1fd71896b00c\",\"type\":\"HelpTool\"},{\"attributes\":{\"plot\":{\"id\":\"277cfd58-9b7c-4946-a990-99a247330184\",\"subtype\":\"Figure\",\"type\":\"Plot\"},\"ticker\":{\"id\":\"d1888fd5-75ea-474a-80eb-73bc4fb11ea5\",\"type\":\"BasicTicker\"}},\"id\":\"cba97d59-4fbd-4cea-93df-e4351da0e538\",\"type\":\"Grid\"},{\"attributes\":{\"callback\":null,\"column_names\":[\"y\",\"x\",\"vals\"],\"data\":{\"vals\":[\"6_1503\",\"6_57\",\"4_1699\",\"10_1218\",\"13_911\",\"5_1460\",\"4_1149\",\"9_1170\",\"9_1023\",\"13_1227\",\"4_1442\",\"39_1014\"],\"x\":[135771974,135889881,135915358,136393157,136403994,136406646,136447707,136496493,136496805,136500475,136506375,136556805],\"y\":[600.0,71.0,701.0,498.0,95.0,600.0,297.0,398.0,196.0,498.0,599.0,196.0]}},\"id\":\"7d0b70f3-e1c8-4269-9309-4c790e7c1d3e\",\"type\":\"ColumnDataSource\"},{\"attributes\":{\"plot\":{\"id\":\"277cfd58-9b7c-4946-a990-99a247330184\",\"subtype\":\"Figure\",\"type\":\"Plot\"}},\"id\":\"c7e08718-2a59-405a-bb56-fa7902c58b7e\",\"type\":\"WheelZoomTool\"},{\"attributes\":{\"callback\":null,\"end\":136786630,\"start\":135757320},\"id\":\"178c5b2b-fe0e-4bf1-a711-86c30b828a7b\",\"type\":\"Range1d\"},{\"attributes\":{\"plot\":null,\"text\":null},\"id\":\"172745ec-6da8-41a9-b7ac-2df4536de87a\",\"type\":\"Title\"},{\"attributes\":{\"data_source\":{\"id\":\"792a832d-b79f-4f49-b0af-66aa18008804\",\"type\":\"ColumnDataSource\"},\"glyph\":{\"id\":\"f2c5a044-e274-42aa-b7e0-a97119c42d18\",\"type\":\"MultiLine\"},\"hover_glyph\":null,\"nonselection_glyph\":{\"id\":\"33982041-3bae-4ffd-8e1c-67d2de3c0489\",\"type\":\"MultiLine\"},\"selection_glyph\":null},\"id\":\"75c5acdf-4cf4-47d6-8f58-e4ef6c98997a\",\"type\":\"GlyphRenderer\"},{\"attributes\":{\"callback\":null,\"column_names\":[\"y\",\"x\",\"vals\"],\"data\":{\"vals\":[\"RAB3GAP1\",\"ZRANB3\",\"R3HDM1\",\"UBXN4\",\"LCT\",\"MCM6\",\"DARS\"],\"x\":[135869057.0,136122878.0,136385961.0,136520911.0,136570082.5,136615621.5,136703738.0],\"y\":[760.0,760.0,760.0,760.0,760.0,760.0,760.0]}},\"id\":\"8b4c2413-220e-4e4c-9d9f-63dec82e9081\",\"type\":\"ColumnDataSource\"},{\"attributes\":{},\"id\":\"d1888fd5-75ea-474a-80eb-73bc4fb11ea5\",\"type\":\"BasicTicker\"}],\"root_ids\":[\"277cfd58-9b7c-4946-a990-99a247330184\"]},\"title\":\"Bokeh Application\",\"version\":\"0.12.0\"}};\n",
       "            var render_items = [{\"docid\":\"03feb3c9-bb1c-458a-9368-a59e4e5c66c0\",\"elementid\":\"00426fe6-bc5d-4e8c-b13d-c8148fd6441e\",\"modelid\":\"277cfd58-9b7c-4946-a990-99a247330184\",\"notebook_comms_target\":\"bc99e069-c065-42e1-a4ae-51f8909af9f9\"}];\n",
       "            \n",
       "            Bokeh.embed.embed_items(docs_json, render_items);\n",
       "        });\n",
       "      },\n",
       "      function(Bokeh) {\n",
       "      }\n",
       "    ];\n",
       "  \n",
       "    function run_inline_js() {\n",
       "      for (var i = 0; i < inline_js.length; i++) {\n",
       "        inline_js[i](window.Bokeh);\n",
       "      }\n",
       "    }\n",
       "  \n",
       "    if (window._bokeh_is_loading === 0) {\n",
       "      console.log(\"Bokeh: BokehJS loaded, going straight to plotting\");\n",
       "      run_inline_js();\n",
       "    } else {\n",
       "      load_libs(js_urls, function() {\n",
       "        console.log(\"Bokeh: BokehJS plotting callback run at\", now());\n",
       "        run_inline_js();\n",
       "      });\n",
       "    }\n",
       "  }(this));\n",
       "</script>"
      ]
     },
     "metadata": {},
     "output_type": "display_data"
    },
    {
     "data": {
      "text/html": [
       "<p><code>&lt;Bokeh Notebook handle for <strong>In[25]</strong>&gt;</code></p>"
      ],
      "text/plain": [
       "<bokeh.io._CommsHandle at 0x7fb5f1129410>"
      ]
     },
     "execution_count": 25,
     "metadata": {},
     "output_type": "execute_result"
    }
   ],
   "source": [
    "plt_obj = dm.superset_yes_no([di_6_57, dm.di_39_1014], [dm.di_26_1414], min_match=0.001)\n",
    "plt = plt_obj.do_plot()\n",
    "am = plt_obj.plot_context.yes_allele_mask\n",
    "show(plt)"
   ]
  },
  {
   "cell_type": "code",
   "execution_count": 26,
   "metadata": {
    "collapsed": false
   },
   "outputs": [
    {
     "data": {
      "text/html": [
       "<table>\n",
       "<thead><tr><th style=\"text-align:center\">index</th><th style=\"text-align:center\">first</th><th style=\"text-align:center\">length</th><th style=\"text-align:center\">snps</th><th style=\"text-align:center\" colspan=2>alleles</th><th style=\"text-align:center\" colspan=2>matches</th><th style=\"text-align:center\" colspan=2>afr</th><th style=\"text-align:center\" colspan=2>afx</th><th style=\"text-align:center\" colspan=2>amr</th><th style=\"text-align:center\" colspan=2>eas</th><th style=\"text-align:center\" colspan=2>eur</th><th style=\"text-align:center\" colspan=2>sas</th><th style=\"text-align:center\" colspan=2>sax</th></tr></thead>\n",
       "<tr class=\"even\"><td style=\"text-align: right;\">353462</td><td style=\"text-align: right;\">135,915,358</td><td style=\"text-align: right;\">79,721</td><td style=\"text-align: right;\">4</td><td style=\"text-align: right;\">1699</td><td style=\"text-align: right;\">0.00</td><td style=\"text-align: right;\">3</td><td style=\"text-align: right;\">1.00</td><td style=\"text-align: right;\">0</td><td style=\"text-align: right;\">0.00</td><td style=\"text-align: right;\">0</td><td style=\"text-align: right;\">0.00</td><td style=\"text-align: right;\">3</td><td style=\"text-align: right;\">8.85</td><td style=\"text-align: right;\">0</td><td style=\"text-align: right;\">0.00</td><td style=\"text-align: right;\">0</td><td style=\"text-align: right;\">0.00</td><td style=\"text-align: right;\">0</td><td style=\"text-align: right;\">0.00</td><td style=\"text-align: right;\">0</td><td style=\"text-align: right;\">0.00</td></tr>\n",
       "<tr><td style=\"text-align: right;\">353283</td><td style=\"text-align: right;\">135,771,974</td><td style=\"text-align: right;\">368,330</td><td style=\"text-align: right;\">6</td><td style=\"text-align: right;\">1503</td><td style=\"text-align: right;\">0.00</td><td style=\"text-align: right;\">3</td><td style=\"text-align: right;\">1.00</td><td style=\"text-align: right;\">0</td><td style=\"text-align: right;\">0.00</td><td style=\"text-align: right;\">0</td><td style=\"text-align: right;\">0.00</td><td style=\"text-align: right;\">3</td><td style=\"text-align: right;\">8.85</td><td style=\"text-align: right;\">0</td><td style=\"text-align: right;\">0.00</td><td style=\"text-align: right;\">0</td><td style=\"text-align: right;\">0.00</td><td style=\"text-align: right;\">0</td><td style=\"text-align: right;\">0.00</td><td style=\"text-align: right;\">0</td><td style=\"text-align: right;\">0.00</td></tr>\n",
       "<tr class=\"even\"><td style=\"text-align: right;\">353814</td><td style=\"text-align: right;\">136,406,646</td><td style=\"text-align: right;\">31,432</td><td style=\"text-align: right;\">5</td><td style=\"text-align: right;\">1460</td><td style=\"text-align: right;\">0.00</td><td style=\"text-align: right;\">3</td><td style=\"text-align: right;\">1.00</td><td style=\"text-align: right;\">0</td><td style=\"text-align: right;\">0.00</td><td style=\"text-align: right;\">0</td><td style=\"text-align: right;\">0.00</td><td style=\"text-align: right;\">3</td><td style=\"text-align: right;\">8.85</td><td style=\"text-align: right;\">0</td><td style=\"text-align: right;\">0.00</td><td style=\"text-align: right;\">0</td><td style=\"text-align: right;\">0.00</td><td style=\"text-align: right;\">0</td><td style=\"text-align: right;\">0.00</td><td style=\"text-align: right;\">0</td><td style=\"text-align: right;\">0.00</td></tr>\n",
       "<tr><td style=\"text-align: right;\">353925</td><td style=\"text-align: right;\">136,506,375</td><td style=\"text-align: right;\">32,564</td><td style=\"text-align: right;\">4</td><td style=\"text-align: right;\">1442</td><td style=\"text-align: right;\">0.00</td><td style=\"text-align: right;\">3</td><td style=\"text-align: right;\">1.00</td><td style=\"text-align: right;\">0</td><td style=\"text-align: right;\">0.00</td><td style=\"text-align: right;\">0</td><td style=\"text-align: right;\">0.00</td><td style=\"text-align: right;\">3</td><td style=\"text-align: right;\">8.85</td><td style=\"text-align: right;\">0</td><td style=\"text-align: right;\">0.00</td><td style=\"text-align: right;\">0</td><td style=\"text-align: right;\">0.00</td><td style=\"text-align: right;\">0</td><td style=\"text-align: right;\">0.00</td><td style=\"text-align: right;\">0</td><td style=\"text-align: right;\">0.00</td></tr>\n",
       "<tr class=\"even\"><td style=\"text-align: right;\">353919</td><td style=\"text-align: right;\">136,500,475</td><td style=\"text-align: right;\">42,085</td><td style=\"text-align: right;\">13</td><td style=\"text-align: right;\">1227</td><td style=\"text-align: right;\">0.00</td><td style=\"text-align: right;\">3</td><td style=\"text-align: right;\">1.00</td><td style=\"text-align: right;\">0</td><td style=\"text-align: right;\">0.00</td><td style=\"text-align: right;\">0</td><td style=\"text-align: right;\">0.00</td><td style=\"text-align: right;\">3</td><td style=\"text-align: right;\">8.85</td><td style=\"text-align: right;\">0</td><td style=\"text-align: right;\">0.00</td><td style=\"text-align: right;\">0</td><td style=\"text-align: right;\">0.00</td><td style=\"text-align: right;\">0</td><td style=\"text-align: right;\">0.00</td><td style=\"text-align: right;\">0</td><td style=\"text-align: right;\">0.00</td></tr>\n",
       "<tr><td style=\"text-align: right;\">353790</td><td style=\"text-align: right;\">136,393,157</td><td style=\"text-align: right;\">48,253</td><td style=\"text-align: right;\">10</td><td style=\"text-align: right;\">1218</td><td style=\"text-align: right;\">0.00</td><td style=\"text-align: right;\">3</td><td style=\"text-align: right;\">1.00</td><td style=\"text-align: right;\">0</td><td style=\"text-align: right;\">0.00</td><td style=\"text-align: right;\">0</td><td style=\"text-align: right;\">0.00</td><td style=\"text-align: right;\">3</td><td style=\"text-align: right;\">8.85</td><td style=\"text-align: right;\">0</td><td style=\"text-align: right;\">0.00</td><td style=\"text-align: right;\">0</td><td style=\"text-align: right;\">0.00</td><td style=\"text-align: right;\">0</td><td style=\"text-align: right;\">0.00</td><td style=\"text-align: right;\">0</td><td style=\"text-align: right;\">0.00</td></tr>\n",
       "<tr class=\"even\"><td style=\"text-align: right;\">353906</td><td style=\"text-align: right;\">136,496,493</td><td style=\"text-align: right;\">57,432</td><td style=\"text-align: right;\">9</td><td style=\"text-align: right;\">1170</td><td style=\"text-align: right;\">0.00</td><td style=\"text-align: right;\">3</td><td style=\"text-align: right;\">1.00</td><td style=\"text-align: right;\">0</td><td style=\"text-align: right;\">0.00</td><td style=\"text-align: right;\">0</td><td style=\"text-align: right;\">0.00</td><td style=\"text-align: right;\">3</td><td style=\"text-align: right;\">8.85</td><td style=\"text-align: right;\">0</td><td style=\"text-align: right;\">0.00</td><td style=\"text-align: right;\">0</td><td style=\"text-align: right;\">0.00</td><td style=\"text-align: right;\">0</td><td style=\"text-align: right;\">0.00</td><td style=\"text-align: right;\">0</td><td style=\"text-align: right;\">0.00</td></tr>\n",
       "<tr><td style=\"text-align: right;\">353849</td><td style=\"text-align: right;\">136,447,707</td><td style=\"text-align: right;\">42,559</td><td style=\"text-align: right;\">4</td><td style=\"text-align: right;\">1149</td><td style=\"text-align: right;\">0.00</td><td style=\"text-align: right;\">3</td><td style=\"text-align: right;\">1.00</td><td style=\"text-align: right;\">0</td><td style=\"text-align: right;\">0.00</td><td style=\"text-align: right;\">0</td><td style=\"text-align: right;\">0.00</td><td style=\"text-align: right;\">3</td><td style=\"text-align: right;\">8.85</td><td style=\"text-align: right;\">0</td><td style=\"text-align: right;\">0.00</td><td style=\"text-align: right;\">0</td><td style=\"text-align: right;\">0.00</td><td style=\"text-align: right;\">0</td><td style=\"text-align: right;\">0.00</td><td style=\"text-align: right;\">0</td><td style=\"text-align: right;\">0.00</td></tr>\n",
       "<tr class=\"even\"><td style=\"text-align: right;\">353907</td><td style=\"text-align: right;\">136,496,805</td><td style=\"text-align: right;\">55,824</td><td style=\"text-align: right;\">9</td><td style=\"text-align: right;\">1023</td><td style=\"text-align: right;\">0.00</td><td style=\"text-align: right;\">3</td><td style=\"text-align: right;\">1.00</td><td style=\"text-align: right;\">0</td><td style=\"text-align: right;\">0.00</td><td style=\"text-align: right;\">0</td><td style=\"text-align: right;\">0.00</td><td style=\"text-align: right;\">3</td><td style=\"text-align: right;\">8.85</td><td style=\"text-align: right;\">0</td><td style=\"text-align: right;\">0.00</td><td style=\"text-align: right;\">0</td><td style=\"text-align: right;\">0.00</td><td style=\"text-align: right;\">0</td><td style=\"text-align: right;\">0.00</td><td style=\"text-align: right;\">0</td><td style=\"text-align: right;\">0.00</td></tr>\n",
       "<tr><td style=\"text-align: right;\">353984</td><td style=\"text-align: right;\">136,556,805</td><td style=\"text-align: right;\">190,280</td><td style=\"text-align: right;\">39</td><td style=\"text-align: right;\">1014</td><td style=\"text-align: right;\">0.00</td><td style=\"text-align: right;\">3</td><td style=\"text-align: right;\">1.00</td><td style=\"text-align: right;\">0</td><td style=\"text-align: right;\">0.00</td><td style=\"text-align: right;\">0</td><td style=\"text-align: right;\">0.00</td><td style=\"text-align: right;\">3</td><td style=\"text-align: right;\">8.85</td><td style=\"text-align: right;\">0</td><td style=\"text-align: right;\">0.00</td><td style=\"text-align: right;\">0</td><td style=\"text-align: right;\">0.00</td><td style=\"text-align: right;\">0</td><td style=\"text-align: right;\">0.00</td><td style=\"text-align: right;\">0</td><td style=\"text-align: right;\">0.00</td></tr>\n",
       "<tr class=\"even\"><td style=\"text-align: right;\">353807</td><td style=\"text-align: right;\">136,403,994</td><td style=\"text-align: right;\">81,102</td><td style=\"text-align: right;\">13</td><td style=\"text-align: right;\">911</td><td style=\"text-align: right;\">0.00</td><td style=\"text-align: right;\">3</td><td style=\"text-align: right;\">1.00</td><td style=\"text-align: right;\">0</td><td style=\"text-align: right;\">0.00</td><td style=\"text-align: right;\">0</td><td style=\"text-align: right;\">0.00</td><td style=\"text-align: right;\">3</td><td style=\"text-align: right;\">8.85</td><td style=\"text-align: right;\">0</td><td style=\"text-align: right;\">0.00</td><td style=\"text-align: right;\">0</td><td style=\"text-align: right;\">0.00</td><td style=\"text-align: right;\">0</td><td style=\"text-align: right;\">0.00</td><td style=\"text-align: right;\">0</td><td style=\"text-align: right;\">0.00</td></tr>\n",
       "<tr><td style=\"text-align: right;\">353444</td><td style=\"text-align: right;\">135,889,881</td><td style=\"text-align: right;\">493,055</td><td style=\"text-align: right;\">6</td><td style=\"text-align: right;\">57</td><td style=\"text-align: right;\">0.05</td><td style=\"text-align: right;\">3</td><td style=\"text-align: right;\">1.00</td><td style=\"text-align: right;\">0</td><td style=\"text-align: right;\">0.00</td><td style=\"text-align: right;\">0</td><td style=\"text-align: right;\">0.00</td><td style=\"text-align: right;\">3</td><td style=\"text-align: right;\">8.85</td><td style=\"text-align: right;\">0</td><td style=\"text-align: right;\">0.00</td><td style=\"text-align: right;\">0</td><td style=\"text-align: right;\">0.00</td><td style=\"text-align: right;\">0</td><td style=\"text-align: right;\">0.00</td><td style=\"text-align: right;\">0</td><td style=\"text-align: right;\">0.00</td></tr>\n",
       "</table>"
      ],
      "text/plain": [
       "<IPython.core.display.HTML object>"
      ]
     },
     "execution_count": 26,
     "metadata": {},
     "output_type": "execute_result"
    }
   ],
   "source": [
    "HTML(plt_obj.get_html())"
   ]
  },
  {
   "cell_type": "code",
   "execution_count": 27,
   "metadata": {
    "collapsed": false
   },
   "outputs": [
    {
     "data": {
      "text/plain": [
       "array([0, 0, 0, 0, 0, 0, 0, 0, 0, 0, 0, 0, 0, 0, 0, 0, 0, 0, 0, 0, 0, 0, 0,\n",
       "       0, 0, 0, 0, 0, 0, 0, 0, 0, 0, 0, 0, 0, 0, 0, 0, 0, 0, 0, 0, 0, 0, 0,\n",
       "       0, 0, 0, 0, 0, 0, 0, 0, 0, 0, 0, 0, 0, 0, 0, 0, 0, 0])"
      ]
     },
     "execution_count": 27,
     "metadata": {},
     "output_type": "execute_result"
    }
   ],
   "source": [
    "sa_64_1575.alleles_per_snp(am)"
   ]
  },
  {
   "cell_type": "code",
   "execution_count": 28,
   "metadata": {
    "collapsed": false
   },
   "outputs": [
    {
     "data": {
      "text/html": [
       "\n",
       "\n",
       "    <div class=\"bk-root\">\n",
       "        <div class=\"plotdiv\" id=\"f7c020e2-8355-4f84-bbd8-f75adc37d5ae\"></div>\n",
       "    </div>\n",
       "<script type=\"text/javascript\">\n",
       "  \n",
       "  (function(global) {\n",
       "    function now() {\n",
       "      return new Date();\n",
       "    }\n",
       "  \n",
       "    if (typeof (window._bokeh_onload_callbacks) === \"undefined\") {\n",
       "      window._bokeh_onload_callbacks = [];\n",
       "    }\n",
       "  \n",
       "    function run_callbacks() {\n",
       "      window._bokeh_onload_callbacks.forEach(function(callback) { callback() });\n",
       "      delete window._bokeh_onload_callbacks\n",
       "      console.info(\"Bokeh: all callbacks have finished\");\n",
       "    }\n",
       "  \n",
       "    function load_libs(js_urls, callback) {\n",
       "      window._bokeh_onload_callbacks.push(callback);\n",
       "      if (window._bokeh_is_loading > 0) {\n",
       "        console.log(\"Bokeh: BokehJS is being loaded, scheduling callback at\", now());\n",
       "        return null;\n",
       "      }\n",
       "      if (js_urls == null || js_urls.length === 0) {\n",
       "        run_callbacks();\n",
       "        return null;\n",
       "      }\n",
       "      console.log(\"Bokeh: BokehJS not loaded, scheduling load and callback at\", now());\n",
       "      window._bokeh_is_loading = js_urls.length;\n",
       "      for (var i = 0; i < js_urls.length; i++) {\n",
       "        var url = js_urls[i];\n",
       "        var s = document.createElement('script');\n",
       "        s.src = url;\n",
       "        s.async = false;\n",
       "        s.onreadystatechange = s.onload = function() {\n",
       "          window._bokeh_is_loading--;\n",
       "          if (window._bokeh_is_loading === 0) {\n",
       "            console.log(\"Bokeh: all BokehJS libraries loaded\");\n",
       "            run_callbacks()\n",
       "          }\n",
       "        };\n",
       "        s.onerror = function() {\n",
       "          console.warn(\"failed to load library \" + url);\n",
       "        };\n",
       "        console.log(\"Bokeh: injecting script tag for BokehJS library: \", url);\n",
       "        document.getElementsByTagName(\"head\")[0].appendChild(s);\n",
       "      }\n",
       "    };var element = document.getElementById(\"f7c020e2-8355-4f84-bbd8-f75adc37d5ae\");\n",
       "    if (element == null) {\n",
       "      console.log(\"Bokeh: ERROR: autoload.js configured with elementid 'f7c020e2-8355-4f84-bbd8-f75adc37d5ae' but no matching script tag was found. \")\n",
       "      return false;\n",
       "    }\n",
       "  \n",
       "    var js_urls = [];\n",
       "  \n",
       "    var inline_js = [\n",
       "      function(Bokeh) {\n",
       "        Bokeh.$(function() {\n",
       "            var docs_json = {\"46dfbbbd-d248-47de-b5ff-51c93733479d\":{\"roots\":{\"references\":[{\"attributes\":{\"overlay\":{\"id\":\"95526c17-64f6-43df-b34a-51b21081affc\",\"type\":\"BoxAnnotation\"},\"plot\":{\"id\":\"0dc6f853-ae51-4de2-8f2e-ef6d3a60dfee\",\"subtype\":\"Figure\",\"type\":\"Plot\"}},\"id\":\"8197195d-99e9-41c5-8dc6-adbab375934d\",\"type\":\"BoxZoomTool\"},{\"attributes\":{\"data_source\":{\"id\":\"f03ef0ce-690c-4c72-9013-5e4306e075f2\",\"type\":\"ColumnDataSource\"},\"glyph\":{\"id\":\"204d17de-c3b9-44b8-a097-85f0c386d5fe\",\"type\":\"MultiLine\"},\"hover_glyph\":null,\"nonselection_glyph\":{\"id\":\"9c204507-2ba0-416b-874c-957923270527\",\"type\":\"MultiLine\"},\"selection_glyph\":null},\"id\":\"a851d4c9-3cbf-451d-8343-b381f4dc4df4\",\"type\":\"GlyphRenderer\"},{\"attributes\":{\"data_source\":{\"id\":\"25227274-1b50-4587-81ec-f517a29ecca5\",\"type\":\"ColumnDataSource\"},\"glyph\":{\"id\":\"7eb6500a-e4f8-44e0-a14b-8d1ab09373ed\",\"type\":\"Quad\"},\"hover_glyph\":null,\"nonselection_glyph\":{\"id\":\"2d5a1eb0-fbae-4519-ae10-c032833ee19a\",\"type\":\"Quad\"},\"selection_glyph\":null},\"id\":\"1c2e167a-c9c2-4a9b-8586-dd79a08bbf73\",\"type\":\"GlyphRenderer\"},{\"attributes\":{\"formatter\":{\"id\":\"178eab77-452b-47f9-a4ec-249dce840ba7\",\"type\":\"BasicTickFormatter\"},\"plot\":{\"id\":\"0dc6f853-ae51-4de2-8f2e-ef6d3a60dfee\",\"subtype\":\"Figure\",\"type\":\"Plot\"},\"ticker\":{\"id\":\"5a9284ef-b397-4535-8cbd-27a52912b9b8\",\"type\":\"BasicTicker\"}},\"id\":\"2cb5ff14-a294-46fc-b428-e5c052cd3885\",\"type\":\"LinearAxis\"},{\"attributes\":{\"bottom\":{\"field\":\"bottom\"},\"fill_color\":{\"field\":\"fill_color\"},\"left\":{\"field\":\"left\"},\"line_color\":{\"value\":null},\"right\":{\"field\":\"right\"},\"top\":{\"field\":\"top\"}},\"id\":\"7eb6500a-e4f8-44e0-a14b-8d1ab09373ed\",\"type\":\"Quad\"},{\"attributes\":{\"callback\":null,\"end\":600},\"id\":\"6afd028f-6cd6-42c6-b39b-68f563b19eba\",\"type\":\"Range1d\"},{\"attributes\":{\"plot\":{\"id\":\"0dc6f853-ae51-4de2-8f2e-ef6d3a60dfee\",\"subtype\":\"Figure\",\"type\":\"Plot\"}},\"id\":\"20f45507-7722-4fb0-adc7-e95e025917f4\",\"type\":\"HelpTool\"},{\"attributes\":{},\"id\":\"5a9284ef-b397-4535-8cbd-27a52912b9b8\",\"type\":\"BasicTicker\"},{\"attributes\":{\"level\":\"glyph\",\"plot\":{\"id\":\"0dc6f853-ae51-4de2-8f2e-ef6d3a60dfee\",\"subtype\":\"Figure\",\"type\":\"Plot\"},\"source\":{\"id\":\"2de279da-5a83-4cae-92f1-f06d37939d9d\",\"type\":\"ColumnDataSource\"},\"text\":{\"field\":\"vals\"},\"text_font_size\":{\"value\":\"9pt\"},\"text_font_style\":\"bold\",\"x\":{\"field\":\"x\"},\"y\":{\"field\":\"y\"}},\"id\":\"6b2e5e59-afef-4d40-b0db-db549e8334e0\",\"type\":\"LabelSet\"},{\"attributes\":{\"callback\":null,\"column_names\":[\"y\",\"x\",\"vals\"],\"data\":{\"vals\":[\"RAB3GAP1\",\"ZRANB3\",\"R3HDM1\",\"UBXN4\",\"LCT\",\"MCM6\",\"DARS\"],\"x\":[135869057.0,136122878.0,136385961.0,136520911.0,136570082.5,136615621.5,136703738.0],\"y\":[560.0,560.0,560.0,560.0,560.0,560.0,560.0]}},\"id\":\"cca2b45a-02c4-43dd-93e8-364f0ee77a2b\",\"type\":\"ColumnDataSource\"},{\"attributes\":{\"callback\":null,\"column_names\":[\"right\",\"bottom\",\"top\",\"left\"],\"data\":{\"bottom\":[545,545,545,545,545,545,545],\"left\":[135809835,135957574,136289083,136499189,136545415,136597196,136664254],\"right\":[135928279,136288182,136482839,136542633,136594750,136634047,136743222],\"top\":[575,575,575,575,575,575,575]}},\"id\":\"abf68099-0495-417f-b2b1-8895154ac9ab\",\"type\":\"ColumnDataSource\"},{\"attributes\":{\"bottom_units\":\"screen\",\"fill_alpha\":{\"value\":0.5},\"fill_color\":{\"value\":\"lightgrey\"},\"left_units\":\"screen\",\"level\":\"overlay\",\"line_alpha\":{\"value\":1.0},\"line_color\":{\"value\":\"black\"},\"line_dash\":[4,4],\"line_width\":{\"value\":2},\"plot\":null,\"render_mode\":\"css\",\"right_units\":\"screen\",\"top_units\":\"screen\"},\"id\":\"95526c17-64f6-43df-b34a-51b21081affc\",\"type\":\"BoxAnnotation\"},{\"attributes\":{\"formatter\":{\"id\":\"8c5fa4d8-8eae-4d0e-b266-a00dc3d596b9\",\"type\":\"BasicTickFormatter\"},\"plot\":{\"id\":\"0dc6f853-ae51-4de2-8f2e-ef6d3a60dfee\",\"subtype\":\"Figure\",\"type\":\"Plot\"},\"ticker\":{\"id\":\"eae2cc00-8f91-41fb-96a1-8337a68f2d2f\",\"type\":\"BasicTicker\"},\"visible\":null},\"id\":\"284348d7-83de-42e2-bd41-041df3aec248\",\"type\":\"LinearAxis\"},{\"attributes\":{\"plot\":null,\"text\":null},\"id\":\"9b5877f9-9521-4989-a5b2-b6c74b4776f1\",\"type\":\"Title\"},{\"attributes\":{\"callback\":null,\"column_names\":[\"xs\",\"ys\",\"line_color\"],\"data\":{\"line_color\":[\"black\",\"black\",\"black\",\"black\",\"black\",\"black\",\"black\",\"black\",\"black\",\"black\",\"black\",\"black\",\"black\",\"black\",\"black\",\"black\",\"black\",\"black\",\"black\",\"black\",\"black\",\"black\",\"black\",\"black\",\"black\",\"black\",\"black\",\"black\",\"black\",\"black\",\"black\",\"black\",\"black\",\"black\",\"black\",\"black\",\"black\",\"black\",\"black\",\"black\",\"black\",\"black\",\"black\",\"black\",\"black\",\"black\",\"black\",\"black\",\"black\",\"black\",\"black\",\"black\",\"black\",\"black\",\"black\",\"black\",\"black\",\"black\",\"black\",\"black\",\"black\",\"black\",\"black\",\"black\",\"black\",\"black\",\"black\",\"black\",\"black\",\"black\",\"black\",\"black\"],\"xs\":[[135771974,135771974],[135859371,135859371],[135877562,135877562],[136022798,136022798],[136058820,136058820],[136140304,136140304],[135889881,135889881],[135956309,135956309],[136088389,136088389],[136323321,136323321],[136361384,136361384],[136382936,136382936],[135915358,135915358],[135954405,135954405],[135995073,135995073],[135995079,135995079],[136402778,136402778],[136402779,136402779],[136402780,136402780],[136402781,136402781],[136403272,136403272],[136406356,136406356],[136407068,136407068],[136414770,136414770],[136415861,136415861],[136416407,136416407],[136420009,136420009],[136429439,136429439],[136438468,136438468],[136444542,136444542],[136448142,136448142],[136452728,136452728],[136453540,136453540],[136455296,136455296],[136458856,136458856],[136467559,136467559],[136493430,136493430],[136406646,136406646],[136408821,136408821],[136412472,136412472],[136416959,136416959],[136438078,136438078],[136448855,136448855],[136456090,136456090],[136456675,136456675],[136466831,136466831],[136495815,136495815],[136495889,136495889],[136509460,136509460],[136515721,136515721],[136515801,136515801],[136524747,136524747],[136525463,136525463],[136532518,136532518],[136542739,136542739],[136501840,136501840],[136505546,136505546],[136516748,136516748],[136522710,136522710],[136528004,136528004],[136539513,136539513],[136544752,136544752],[136546110,136546110],[136553529,136553529],[136555659,136555659],[136588031,136588031],[136589278,136589278],[136589379,136589379],[136589741,136589741],[136590746,136590746],[136593553,136593553],[136593678,136593678]],\"ys\":[[250,295],[250,295],[250,295],[250,295],[250,295],[250,295],[50,66],[50,66],[50,66],[50,66],[50,66],[50,66],[350,396],[350,396],[350,396],[350,396],[50,82],[50,82],[50,82],[50,82],[50,82],[50,82],[50,82],[50,82],[50,82],[50,82],[50,82],[50,82],[50,82],[50,82],[50,82],[50,82],[50,82],[50,82],[50,82],[50,82],[50,82],[250,295],[250,295],[250,295],[250,295],[250,295],[150,187],[150,187],[150,187],[150,187],[50,83],[50,83],[50,83],[50,83],[50,83],[50,83],[50,83],[50,83],[50,83],[450,498],[450,498],[450,498],[450,498],[450,498],[450,498],[450,498],[450,498],[450,498],[450,498],[450,496],[450,496],[450,496],[450,496],[450,496],[450,496],[450,496]]}},\"id\":\"f03ef0ce-690c-4c72-9013-5e4306e075f2\",\"type\":\"ColumnDataSource\"},{\"attributes\":{\"level\":\"glyph\",\"plot\":{\"id\":\"0dc6f853-ae51-4de2-8f2e-ef6d3a60dfee\",\"subtype\":\"Figure\",\"type\":\"Plot\"},\"source\":{\"id\":\"cca2b45a-02c4-43dd-93e8-364f0ee77a2b\",\"type\":\"ColumnDataSource\"},\"text\":{\"field\":\"vals\"},\"text_align\":\"center\",\"text_baseline\":\"middle\",\"text_font_size\":{\"value\":\"8pt\"},\"x\":{\"field\":\"x\"},\"y\":{\"field\":\"y\"}},\"id\":\"f7094e5e-2f2d-4bb7-8414-ef022287cbbb\",\"type\":\"LabelSet\"},{\"attributes\":{\"active_drag\":\"auto\",\"active_scroll\":\"auto\",\"active_tap\":\"auto\",\"tools\":[{\"id\":\"263e2402-4933-473f-a41a-c3060f520c7a\",\"type\":\"PanTool\"},{\"id\":\"30bad080-1b03-413d-92b6-6b9865b2d884\",\"type\":\"WheelZoomTool\"},{\"id\":\"8197195d-99e9-41c5-8dc6-adbab375934d\",\"type\":\"BoxZoomTool\"},{\"id\":\"04bd03d7-59b8-47fc-a99c-b47bdcf44afe\",\"type\":\"SaveTool\"},{\"id\":\"749ec9ae-0bd8-44c7-9eb4-308e8e352de2\",\"type\":\"ResetTool\"},{\"id\":\"20f45507-7722-4fb0-adc7-e95e025917f4\",\"type\":\"HelpTool\"}]},\"id\":\"b698cd51-cbcb-498a-85bf-72159f10b498\",\"type\":\"Toolbar\"},{\"attributes\":{\"plot\":{\"id\":\"0dc6f853-ae51-4de2-8f2e-ef6d3a60dfee\",\"subtype\":\"Figure\",\"type\":\"Plot\"},\"ticker\":{\"id\":\"5a9284ef-b397-4535-8cbd-27a52912b9b8\",\"type\":\"BasicTicker\"}},\"id\":\"93bcbd33-5b58-4fa7-ba90-eba2d4201199\",\"type\":\"Grid\"},{\"attributes\":{\"data_source\":{\"id\":\"abf68099-0495-417f-b2b1-8895154ac9ab\",\"type\":\"ColumnDataSource\"},\"glyph\":{\"id\":\"1106d61c-520d-4873-82d3-65e63c0551ba\",\"type\":\"Quad\"},\"hover_glyph\":null,\"nonselection_glyph\":{\"id\":\"0bab5d87-2192-45f9-be10-bab9e1f94608\",\"type\":\"Quad\"},\"selection_glyph\":null},\"id\":\"8d04dea7-15d5-433e-bfc3-f0e960717467\",\"type\":\"GlyphRenderer\"},{\"attributes\":{\"callback\":null,\"end\":136786630,\"start\":135757320},\"id\":\"fa4d3c65-e42d-4c8b-8416-91179b22bcfe\",\"type\":\"Range1d\"},{\"attributes\":{\"dimension\":1,\"plot\":{\"id\":\"0dc6f853-ae51-4de2-8f2e-ef6d3a60dfee\",\"subtype\":\"Figure\",\"type\":\"Plot\"},\"ticker\":{\"id\":\"eae2cc00-8f91-41fb-96a1-8337a68f2d2f\",\"type\":\"BasicTicker\"}},\"id\":\"51953d5e-e6a3-4abd-b1a0-48247196f103\",\"type\":\"Grid\"},{\"attributes\":{\"bottom\":{\"field\":\"bottom\"},\"fill_alpha\":{\"value\":0.1},\"fill_color\":{\"value\":\"#1f77b4\"},\"left\":{\"field\":\"left\"},\"line_alpha\":{\"value\":0.1},\"line_color\":{\"value\":\"#1f77b4\"},\"right\":{\"field\":\"right\"},\"top\":{\"field\":\"top\"}},\"id\":\"0bab5d87-2192-45f9-be10-bab9e1f94608\",\"type\":\"Quad\"},{\"attributes\":{\"below\":[{\"id\":\"2cb5ff14-a294-46fc-b428-e5c052cd3885\",\"type\":\"LinearAxis\"}],\"left\":[{\"id\":\"284348d7-83de-42e2-bd41-041df3aec248\",\"type\":\"LinearAxis\"}],\"plot_width\":900,\"renderers\":[{\"id\":\"2cb5ff14-a294-46fc-b428-e5c052cd3885\",\"type\":\"LinearAxis\"},{\"id\":\"93bcbd33-5b58-4fa7-ba90-eba2d4201199\",\"type\":\"Grid\"},{\"id\":\"284348d7-83de-42e2-bd41-041df3aec248\",\"type\":\"LinearAxis\"},{\"id\":\"51953d5e-e6a3-4abd-b1a0-48247196f103\",\"type\":\"Grid\"},{\"id\":\"95526c17-64f6-43df-b34a-51b21081affc\",\"type\":\"BoxAnnotation\"},{\"id\":\"1c2e167a-c9c2-4a9b-8586-dd79a08bbf73\",\"type\":\"GlyphRenderer\"},{\"id\":\"a851d4c9-3cbf-451d-8343-b381f4dc4df4\",\"type\":\"GlyphRenderer\"},{\"id\":\"6b2e5e59-afef-4d40-b0db-db549e8334e0\",\"type\":\"LabelSet\"},{\"id\":\"8d04dea7-15d5-433e-bfc3-f0e960717467\",\"type\":\"GlyphRenderer\"},{\"id\":\"f7094e5e-2f2d-4bb7-8414-ef022287cbbb\",\"type\":\"LabelSet\"}],\"title\":{\"id\":\"9b5877f9-9521-4989-a5b2-b6c74b4776f1\",\"type\":\"Title\"},\"tool_events\":{\"id\":\"8294b93c-2610-4e66-b5bf-5d0d687498d5\",\"type\":\"ToolEvents\"},\"toolbar\":{\"id\":\"b698cd51-cbcb-498a-85bf-72159f10b498\",\"type\":\"Toolbar\"},\"toolbar_location\":null,\"x_range\":{\"id\":\"fa4d3c65-e42d-4c8b-8416-91179b22bcfe\",\"type\":\"Range1d\"},\"y_range\":{\"id\":\"6afd028f-6cd6-42c6-b39b-68f563b19eba\",\"type\":\"Range1d\"}},\"id\":\"0dc6f853-ae51-4de2-8f2e-ef6d3a60dfee\",\"subtype\":\"Figure\",\"type\":\"Plot\"},{\"attributes\":{\"bottom\":{\"field\":\"bottom\"},\"fill_alpha\":{\"value\":0.1},\"fill_color\":{\"value\":\"#1f77b4\"},\"left\":{\"field\":\"left\"},\"line_alpha\":{\"value\":0.1},\"line_color\":{\"value\":\"#1f77b4\"},\"right\":{\"field\":\"right\"},\"top\":{\"field\":\"top\"}},\"id\":\"2d5a1eb0-fbae-4519-ae10-c032833ee19a\",\"type\":\"Quad\"},{\"attributes\":{\"bottom\":{\"field\":\"bottom\"},\"fill_color\":{\"value\":\"white\"},\"left\":{\"field\":\"left\"},\"right\":{\"field\":\"right\"},\"top\":{\"field\":\"top\"}},\"id\":\"1106d61c-520d-4873-82d3-65e63c0551ba\",\"type\":\"Quad\"},{\"attributes\":{\"line_color\":{\"field\":\"line_color\"},\"xs\":{\"field\":\"xs\"},\"ys\":{\"field\":\"ys\"}},\"id\":\"204d17de-c3b9-44b8-a097-85f0c386d5fe\",\"type\":\"MultiLine\"},{\"attributes\":{\"callback\":null,\"column_names\":[\"y\",\"x\",\"vals\"],\"data\":{\"vals\":[\"6_1503\",\"6_57\",\"4_1699\",\"21_332\",\"5_1460\",\"4_612\",\"9_378\",\"10_2206\",\"7_1760\"],\"x\":[135771974,135889881,135915358,136402778,136406646,136448855,136495815,136501840,136588031],\"y\":[300.0,71.0,401.0,87.0,300.0,192.0,88.0,503.0,501.0]}},\"id\":\"2de279da-5a83-4cae-92f1-f06d37939d9d\",\"type\":\"ColumnDataSource\"},{\"attributes\":{\"plot\":{\"id\":\"0dc6f853-ae51-4de2-8f2e-ef6d3a60dfee\",\"subtype\":\"Figure\",\"type\":\"Plot\"}},\"id\":\"749ec9ae-0bd8-44c7-9eb4-308e8e352de2\",\"type\":\"ResetTool\"},{\"attributes\":{},\"id\":\"eae2cc00-8f91-41fb-96a1-8337a68f2d2f\",\"type\":\"BasicTicker\"},{\"attributes\":{\"line_alpha\":{\"value\":0.1},\"line_color\":{\"value\":\"#1f77b4\"},\"xs\":{\"field\":\"xs\"},\"ys\":{\"field\":\"ys\"}},\"id\":\"9c204507-2ba0-416b-874c-957923270527\",\"type\":\"MultiLine\"},{\"attributes\":{},\"id\":\"178eab77-452b-47f9-a4ec-249dce840ba7\",\"type\":\"BasicTickFormatter\"},{\"attributes\":{\"plot\":{\"id\":\"0dc6f853-ae51-4de2-8f2e-ef6d3a60dfee\",\"subtype\":\"Figure\",\"type\":\"Plot\"}},\"id\":\"04bd03d7-59b8-47fc-a99c-b47bdcf44afe\",\"type\":\"SaveTool\"},{\"attributes\":{\"callback\":null,\"column_names\":[\"right\",\"bottom\",\"top\",\"left\",\"fill_color\"],\"data\":{\"bottom\":[250,50,350,50,250,150,50,450,450],\"fill_color\":[\"#61c461\",\"#00ff00\",\"#61c461\",\"#ff0000\",\"#808080\",\"#ff0000\",\"#c46161\",\"#808080\",\"#c46161\"],\"left\":[135771974,135889881,135915358,136402778,136406646,136448855,136495815,136501840,136588031],\"right\":[136140304,136382936,135995079,136493430,136438078,136466831,136542739,136555659,136593678],\"top\":[295,66,396,82,295,187,83,498,496]}},\"id\":\"25227274-1b50-4587-81ec-f517a29ecca5\",\"type\":\"ColumnDataSource\"},{\"attributes\":{},\"id\":\"8294b93c-2610-4e66-b5bf-5d0d687498d5\",\"type\":\"ToolEvents\"},{\"attributes\":{\"plot\":{\"id\":\"0dc6f853-ae51-4de2-8f2e-ef6d3a60dfee\",\"subtype\":\"Figure\",\"type\":\"Plot\"}},\"id\":\"30bad080-1b03-413d-92b6-6b9865b2d884\",\"type\":\"WheelZoomTool\"},{\"attributes\":{\"plot\":{\"id\":\"0dc6f853-ae51-4de2-8f2e-ef6d3a60dfee\",\"subtype\":\"Figure\",\"type\":\"Plot\"}},\"id\":\"263e2402-4933-473f-a41a-c3060f520c7a\",\"type\":\"PanTool\"},{\"attributes\":{},\"id\":\"8c5fa4d8-8eae-4d0e-b266-a00dc3d596b9\",\"type\":\"BasicTickFormatter\"}],\"root_ids\":[\"0dc6f853-ae51-4de2-8f2e-ef6d3a60dfee\"]},\"title\":\"Bokeh Application\",\"version\":\"0.12.0\"}};\n",
       "            var render_items = [{\"docid\":\"46dfbbbd-d248-47de-b5ff-51c93733479d\",\"elementid\":\"f7c020e2-8355-4f84-bbd8-f75adc37d5ae\",\"modelid\":\"0dc6f853-ae51-4de2-8f2e-ef6d3a60dfee\",\"notebook_comms_target\":\"5ca4cdf5-9ea2-42aa-a021-d5eb7533a4ac\"}];\n",
       "            \n",
       "            Bokeh.embed.embed_items(docs_json, render_items);\n",
       "        });\n",
       "      },\n",
       "      function(Bokeh) {\n",
       "      }\n",
       "    ];\n",
       "  \n",
       "    function run_inline_js() {\n",
       "      for (var i = 0; i < inline_js.length; i++) {\n",
       "        inline_js[i](window.Bokeh);\n",
       "      }\n",
       "    }\n",
       "  \n",
       "    if (window._bokeh_is_loading === 0) {\n",
       "      console.log(\"Bokeh: BokehJS loaded, going straight to plotting\");\n",
       "      run_inline_js();\n",
       "    } else {\n",
       "      load_libs(js_urls, function() {\n",
       "        console.log(\"Bokeh: BokehJS plotting callback run at\", now());\n",
       "        run_inline_js();\n",
       "      });\n",
       "    }\n",
       "  }(this));\n",
       "</script>"
      ]
     },
     "metadata": {},
     "output_type": "display_data"
    },
    {
     "data": {
      "text/html": [
       "<p><code>&lt;Bokeh Notebook handle for <strong>In[28]</strong>&gt;</code></p>"
      ],
      "text/plain": [
       "<bokeh.io._CommsHandle at 0x7fb5f11291d0>"
      ]
     },
     "execution_count": 28,
     "metadata": {},
     "output_type": "execute_result"
    }
   ],
   "source": [
    "plt_obj = dm.superset_yes_no([di_6_57], [dm.di_39_1014, dm.di_26_1414], min_match=0.001)\n",
    "plt = plt_obj.do_plot()\n",
    "am = plt_obj.plot_context.yes_allele_mask\n",
    "show(plt)"
   ]
  },
  {
   "cell_type": "code",
   "execution_count": 29,
   "metadata": {
    "collapsed": false
   },
   "outputs": [
    {
     "data": {
      "text/html": [
       "<table>\n",
       "<thead><tr><th style=\"text-align:center\">index</th><th style=\"text-align:center\">first</th><th style=\"text-align:center\">length</th><th style=\"text-align:center\">snps</th><th style=\"text-align:center\" colspan=2>alleles</th><th style=\"text-align:center\" colspan=2>matches</th><th style=\"text-align:center\" colspan=2>afr</th><th style=\"text-align:center\" colspan=2>afx</th><th style=\"text-align:center\" colspan=2>amr</th><th style=\"text-align:center\" colspan=2>eas</th><th style=\"text-align:center\" colspan=2>eur</th><th style=\"text-align:center\" colspan=2>sas</th><th style=\"text-align:center\" colspan=2>sax</th></tr></thead>\n",
       "<tr class=\"even\"><td style=\"text-align: right;\">353921</td><td style=\"text-align: right;\">136,501,840</td><td style=\"text-align: right;\">53,819</td><td style=\"text-align: right;\">10</td><td style=\"text-align: right;\">2206</td><td style=\"text-align: right;\">0.00</td><td style=\"text-align: right;\">1</td><td style=\"text-align: right;\">1.00</td><td style=\"text-align: right;\">0</td><td style=\"text-align: right;\">0.00</td><td style=\"text-align: right;\">0</td><td style=\"text-align: right;\">0.00</td><td style=\"text-align: right;\">0</td><td style=\"text-align: right;\">0.00</td><td style=\"text-align: right;\">0</td><td style=\"text-align: right;\">0.00</td><td style=\"text-align: right;\">1</td><td style=\"text-align: right;\">9.74</td><td style=\"text-align: right;\">0</td><td style=\"text-align: right;\">0.00</td><td style=\"text-align: right;\">0</td><td style=\"text-align: right;\">0.00</td></tr>\n",
       "<tr><td style=\"text-align: right;\">354033</td><td style=\"text-align: right;\">136,588,031</td><td style=\"text-align: right;\">5,647</td><td style=\"text-align: right;\">7</td><td style=\"text-align: right;\">1760</td><td style=\"text-align: right;\">0.00</td><td style=\"text-align: right;\">1</td><td style=\"text-align: right;\">1.00</td><td style=\"text-align: right;\">0</td><td style=\"text-align: right;\">0.00</td><td style=\"text-align: right;\">0</td><td style=\"text-align: right;\">0.00</td><td style=\"text-align: right;\">0</td><td style=\"text-align: right;\">0.00</td><td style=\"text-align: right;\">0</td><td style=\"text-align: right;\">0.00</td><td style=\"text-align: right;\">1</td><td style=\"text-align: right;\">9.74</td><td style=\"text-align: right;\">0</td><td style=\"text-align: right;\">0.00</td><td style=\"text-align: right;\">0</td><td style=\"text-align: right;\">0.00</td></tr>\n",
       "<tr class=\"even\"><td style=\"text-align: right;\">353462</td><td style=\"text-align: right;\">135,915,358</td><td style=\"text-align: right;\">79,721</td><td style=\"text-align: right;\">4</td><td style=\"text-align: right;\">1699</td><td style=\"text-align: right;\">0.00</td><td style=\"text-align: right;\">1</td><td style=\"text-align: right;\">1.00</td><td style=\"text-align: right;\">0</td><td style=\"text-align: right;\">0.00</td><td style=\"text-align: right;\">0</td><td style=\"text-align: right;\">0.00</td><td style=\"text-align: right;\">0</td><td style=\"text-align: right;\">0.00</td><td style=\"text-align: right;\">0</td><td style=\"text-align: right;\">0.00</td><td style=\"text-align: right;\">1</td><td style=\"text-align: right;\">9.74</td><td style=\"text-align: right;\">0</td><td style=\"text-align: right;\">0.00</td><td style=\"text-align: right;\">0</td><td style=\"text-align: right;\">0.00</td></tr>\n",
       "<tr><td style=\"text-align: right;\">353283</td><td style=\"text-align: right;\">135,771,974</td><td style=\"text-align: right;\">368,330</td><td style=\"text-align: right;\">6</td><td style=\"text-align: right;\">1503</td><td style=\"text-align: right;\">0.00</td><td style=\"text-align: right;\">1</td><td style=\"text-align: right;\">1.00</td><td style=\"text-align: right;\">0</td><td style=\"text-align: right;\">0.00</td><td style=\"text-align: right;\">0</td><td style=\"text-align: right;\">0.00</td><td style=\"text-align: right;\">0</td><td style=\"text-align: right;\">0.00</td><td style=\"text-align: right;\">0</td><td style=\"text-align: right;\">0.00</td><td style=\"text-align: right;\">1</td><td style=\"text-align: right;\">9.74</td><td style=\"text-align: right;\">0</td><td style=\"text-align: right;\">0.00</td><td style=\"text-align: right;\">0</td><td style=\"text-align: right;\">0.00</td></tr>\n",
       "<tr class=\"even\"><td style=\"text-align: right;\">353814</td><td style=\"text-align: right;\">136,406,646</td><td style=\"text-align: right;\">31,432</td><td style=\"text-align: right;\">5</td><td style=\"text-align: right;\">1460</td><td style=\"text-align: right;\">0.00</td><td style=\"text-align: right;\">1</td><td style=\"text-align: right;\">1.00</td><td style=\"text-align: right;\">0</td><td style=\"text-align: right;\">0.00</td><td style=\"text-align: right;\">0</td><td style=\"text-align: right;\">0.00</td><td style=\"text-align: right;\">0</td><td style=\"text-align: right;\">0.00</td><td style=\"text-align: right;\">0</td><td style=\"text-align: right;\">0.00</td><td style=\"text-align: right;\">1</td><td style=\"text-align: right;\">9.74</td><td style=\"text-align: right;\">0</td><td style=\"text-align: right;\">0.00</td><td style=\"text-align: right;\">0</td><td style=\"text-align: right;\">0.00</td></tr>\n",
       "<tr><td style=\"text-align: right;\">353851</td><td style=\"text-align: right;\">136,448,855</td><td style=\"text-align: right;\">17,976</td><td style=\"text-align: right;\">4</td><td style=\"text-align: right;\">612</td><td style=\"text-align: right;\">0.00</td><td style=\"text-align: right;\">1</td><td style=\"text-align: right;\">1.00</td><td style=\"text-align: right;\">0</td><td style=\"text-align: right;\">0.00</td><td style=\"text-align: right;\">0</td><td style=\"text-align: right;\">0.00</td><td style=\"text-align: right;\">0</td><td style=\"text-align: right;\">0.00</td><td style=\"text-align: right;\">0</td><td style=\"text-align: right;\">0.00</td><td style=\"text-align: right;\">1</td><td style=\"text-align: right;\">9.74</td><td style=\"text-align: right;\">0</td><td style=\"text-align: right;\">0.00</td><td style=\"text-align: right;\">0</td><td style=\"text-align: right;\">0.00</td></tr>\n",
       "<tr class=\"even\"><td style=\"text-align: right;\">353904</td><td style=\"text-align: right;\">136,495,815</td><td style=\"text-align: right;\">46,924</td><td style=\"text-align: right;\">9</td><td style=\"text-align: right;\">378</td><td style=\"text-align: right;\">0.00</td><td style=\"text-align: right;\">1</td><td style=\"text-align: right;\">1.00</td><td style=\"text-align: right;\">0</td><td style=\"text-align: right;\">0.00</td><td style=\"text-align: right;\">0</td><td style=\"text-align: right;\">0.00</td><td style=\"text-align: right;\">0</td><td style=\"text-align: right;\">0.00</td><td style=\"text-align: right;\">0</td><td style=\"text-align: right;\">0.00</td><td style=\"text-align: right;\">1</td><td style=\"text-align: right;\">9.74</td><td style=\"text-align: right;\">0</td><td style=\"text-align: right;\">0.00</td><td style=\"text-align: right;\">0</td><td style=\"text-align: right;\">0.00</td></tr>\n",
       "<tr><td style=\"text-align: right;\">353804</td><td style=\"text-align: right;\">136,402,778</td><td style=\"text-align: right;\">90,652</td><td style=\"text-align: right;\">21</td><td style=\"text-align: right;\">332</td><td style=\"text-align: right;\">0.00</td><td style=\"text-align: right;\">1</td><td style=\"text-align: right;\">1.00</td><td style=\"text-align: right;\">0</td><td style=\"text-align: right;\">0.00</td><td style=\"text-align: right;\">0</td><td style=\"text-align: right;\">0.00</td><td style=\"text-align: right;\">0</td><td style=\"text-align: right;\">0.00</td><td style=\"text-align: right;\">0</td><td style=\"text-align: right;\">0.00</td><td style=\"text-align: right;\">1</td><td style=\"text-align: right;\">9.74</td><td style=\"text-align: right;\">0</td><td style=\"text-align: right;\">0.00</td><td style=\"text-align: right;\">0</td><td style=\"text-align: right;\">0.00</td></tr>\n",
       "<tr class=\"even\"><td style=\"text-align: right;\">353444</td><td style=\"text-align: right;\">135,889,881</td><td style=\"text-align: right;\">493,055</td><td style=\"text-align: right;\">6</td><td style=\"text-align: right;\">57</td><td style=\"text-align: right;\">0.02</td><td style=\"text-align: right;\">1</td><td style=\"text-align: right;\">1.00</td><td style=\"text-align: right;\">0</td><td style=\"text-align: right;\">0.00</td><td style=\"text-align: right;\">0</td><td style=\"text-align: right;\">0.00</td><td style=\"text-align: right;\">0</td><td style=\"text-align: right;\">0.00</td><td style=\"text-align: right;\">0</td><td style=\"text-align: right;\">0.00</td><td style=\"text-align: right;\">1</td><td style=\"text-align: right;\">9.74</td><td style=\"text-align: right;\">0</td><td style=\"text-align: right;\">0.00</td><td style=\"text-align: right;\">0</td><td style=\"text-align: right;\">0.00</td></tr>\n",
       "</table>"
      ],
      "text/plain": [
       "<IPython.core.display.HTML object>"
      ]
     },
     "execution_count": 29,
     "metadata": {},
     "output_type": "execute_result"
    }
   ],
   "source": [
    "HTML(plt_obj.get_html())"
   ]
  },
  {
   "cell_type": "code",
   "execution_count": 30,
   "metadata": {
    "collapsed": false
   },
   "outputs": [
    {
     "data": {
      "text/plain": [
       "array([0, 0, 0, 0, 0, 0, 0, 0, 0, 0, 0, 0, 0, 0, 0, 0, 0, 0, 0, 0, 0, 0, 0,\n",
       "       0, 0, 0, 0, 0, 0, 0, 0, 0, 0, 0, 0, 0, 0, 0, 0, 0, 0, 0, 0, 0, 0, 0,\n",
       "       0, 0, 0, 0, 0, 0, 0, 0, 0, 0, 0, 0, 0, 0, 0, 0, 0, 0])"
      ]
     },
     "execution_count": 30,
     "metadata": {},
     "output_type": "execute_result"
    }
   ],
   "source": [
    "sa_64_1575.alleles_per_snp(am)"
   ]
  }
 ],
 "metadata": {
  "anaconda-cloud": {},
  "kernelspec": {
   "display_name": "Python [Root]",
   "language": "python",
   "name": "Python [Root]"
  },
  "language_info": {
   "codemirror_mode": {
    "name": "ipython",
    "version": 2
   },
   "file_extension": ".py",
   "mimetype": "text/x-python",
   "name": "python",
   "nbconvert_exporter": "python",
   "pygments_lexer": "ipython2",
   "version": "2.7.12"
  }
 },
 "nbformat": 4,
 "nbformat_minor": 0
}
