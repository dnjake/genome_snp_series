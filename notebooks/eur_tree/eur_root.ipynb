{
 "cells": [
  {
   "cell_type": "code",
   "execution_count": 1,
   "metadata": {
    "collapsed": false
   },
   "outputs": [
    {
     "data": {
      "text/html": []
     },
     "metadata": {},
     "output_type": "display_data"
    },
    {
     "data": {
      "application/javascript": [
       "\n",
       "(function(global) {\n",
       "  function now() {\n",
       "    return new Date();\n",
       "  }\n",
       "\n",
       "  if (typeof (window._bokeh_onload_callbacks) === \"undefined\") {\n",
       "    window._bokeh_onload_callbacks = [];\n",
       "  }\n",
       "\n",
       "  function run_callbacks() {\n",
       "    window._bokeh_onload_callbacks.forEach(function(callback) { callback() });\n",
       "    delete window._bokeh_onload_callbacks\n",
       "    console.info(\"Bokeh: all callbacks have finished\");\n",
       "  }\n",
       "\n",
       "  function load_libs(js_urls, callback) {\n",
       "    window._bokeh_onload_callbacks.push(callback);\n",
       "    if (window._bokeh_is_loading > 0) {\n",
       "      console.log(\"Bokeh: BokehJS is being loaded, scheduling callback at\", now());\n",
       "      return null;\n",
       "    }\n",
       "    if (js_urls == null || js_urls.length === 0) {\n",
       "      run_callbacks();\n",
       "      return null;\n",
       "    }\n",
       "    console.log(\"Bokeh: BokehJS not loaded, scheduling load and callback at\", now());\n",
       "    window._bokeh_is_loading = js_urls.length;\n",
       "    for (var i = 0; i < js_urls.length; i++) {\n",
       "      var url = js_urls[i];\n",
       "      var s = document.createElement('script');\n",
       "      s.src = url;\n",
       "      s.async = false;\n",
       "      s.onreadystatechange = s.onload = function() {\n",
       "        window._bokeh_is_loading--;\n",
       "        if (window._bokeh_is_loading === 0) {\n",
       "          console.log(\"Bokeh: all BokehJS libraries loaded\");\n",
       "          run_callbacks()\n",
       "        }\n",
       "      };\n",
       "      s.onerror = function() {\n",
       "        console.warn(\"failed to load library \" + url);\n",
       "      };\n",
       "      console.log(\"Bokeh: injecting script tag for BokehJS library: \", url);\n",
       "      document.getElementsByTagName(\"head\")[0].appendChild(s);\n",
       "    }\n",
       "  };\n",
       "\n",
       "  var js_urls = ['https://cdn.pydata.org/bokeh/release/bokeh-0.12.0.min.js', 'https://cdn.pydata.org/bokeh/release/bokeh-widgets-0.12.0.min.js', 'https://cdn.pydata.org/bokeh/release/bokeh-compiler-0.12.0.min.js'];\n",
       "\n",
       "  var inline_js = [\n",
       "    function(Bokeh) {\n",
       "      Bokeh.set_log_level(\"info\");\n",
       "    },\n",
       "    \n",
       "    function(Bokeh) {\n",
       "      Bokeh.$(\"#6c874bff-a003-4c3b-9a08-127cb027dbb8\").text(\"BokehJS successfully loaded\");\n",
       "    },\n",
       "    function(Bokeh) {\n",
       "      console.log(\"Bokeh: injecting CSS: https://cdn.pydata.org/bokeh/release/bokeh-0.12.0.min.css\");\n",
       "      Bokeh.embed.inject_css(\"https://cdn.pydata.org/bokeh/release/bokeh-0.12.0.min.css\");\n",
       "      console.log(\"Bokeh: injecting CSS: https://cdn.pydata.org/bokeh/release/bokeh-widgets-0.12.0.min.css\");\n",
       "      Bokeh.embed.inject_css(\"https://cdn.pydata.org/bokeh/release/bokeh-widgets-0.12.0.min.css\");\n",
       "    }\n",
       "  ];\n",
       "\n",
       "  function run_inline_js() {\n",
       "    for (var i = 0; i < inline_js.length; i++) {\n",
       "      inline_js[i](window.Bokeh);\n",
       "    }\n",
       "  }\n",
       "\n",
       "  if (window._bokeh_is_loading === 0) {\n",
       "    console.log(\"Bokeh: BokehJS loaded, going straight to plotting\");\n",
       "    run_inline_js();\n",
       "  } else {\n",
       "    load_libs(js_urls, function() {\n",
       "      console.log(\"Bokeh: BokehJS plotting callback run at\", now());\n",
       "      run_inline_js();\n",
       "    });\n",
       "  }\n",
       "}(this));"
      ]
     },
     "metadata": {},
     "output_type": "display_data"
    }
   ],
   "source": [
    "import numpy as np\n",
    "from IPython.display import HTML\n",
    "from bokeh.plotting import output_notebook, show\n",
    "import genomes_dnj.lct_interval.series_plots as dm\n",
    "output_notebook(hide_banner=True)"
   ]
  },
  {
   "cell_type": "markdown",
   "metadata": {},
   "source": [
    "<h3>EUR Tree</h3>\n",
    "<div style=\"width:700px\">\n",
    "<p>\n",
    "The plot below shows the association of series that forms the root of the EUR tree.  The\n",
    "626,000 base lower region of the EUR tree root that covers the genes rab3gap1, \n",
    "zranb3, and the first half of r3hdm1 includes only the 10 SNPs in the series 6_1503 and \n",
    "4_1699.  By contrast this region of the SAS tree root includes more than 495 SNPs.\n",
    "The 80,000 base upper half of the gene r3hdm1 is covered by the 26 SNP\n",
    "series 26_1414.  The coverage of that series is roughly equivalent to the 32 SNP series\n",
    "32_1361 in the root of the EAS tree.  The 270,000 base upper region that covers the\n",
    "genes ubxn4, lct, mcm6, and dars includes the series 64_1575, 10_2206, and \n",
    "7_1868.\n",
    "<p>\n",
    "The individual series of the EUR tree root all have some significant presence in other\n",
    "contexts.  So do some of the associations of those series.  Only 4 samples of the\n",
    "1503 that express 6_1503 fail to express 4_1699.  It is possible that 6_1503 and \n",
    "4_1699 have an history as a single series and that 4_1699 as a distinct series is the result\n",
    "of some genetic process that lead to its fragmentation.  The overexpressed association of\n",
    "6_1503 and 4_1699 without 26_1414 includes the series 91_176, and 51_176.  That association\n",
    "is expressed by 139 East Asian samples.\n",
    "<p>\n",
    "The series 26_1414 is strongly associated with 10_2206.  Only 29 of the samples\n",
    "that express 26_1414 fail to express 10_2206.  Another 204 fail to express\n",
    "64_1575.  But most of those are associated with fragments of 64_1575 that cover its overlap\n",
    "with 10_2206.\n",
    "<p>\n",
    "The series 64_1575 is strongly associated both with 10_2206 and with 7_1868.  Only\n",
    "1 of the 1575 chromosomes that express 64_1575 fails to express 10_2206.  Only\n",
    "29 of them fail to express 7_1868.  It seems likely that 26_1414, 64_1575, 10_2206,\n",
    "and 7_1868 have some history as a single series of SNPs.\n",
    "The existence of 64_1575, 10_2206, and 7_1868 as a unit without 26_1414 comes mainly\n",
    "from recombination events that associated them with 32_1361 in the EAS tree.\n",
    "The hierarchies that resulted from that recombination appear to have experienced some\n",
    "kind of selective advantage that lead to the large number of samples that express\n",
    "the recombinant association.  But there are also several samples that express recombinant\n",
    "associations of 64_1575 with a variety of other hierarchies.\n",
    "<p>\n",
    "The root series for this tree are overexpressed in European populations by more then a factor of two.\n",
    "Only 12 samples that express this root come from African populations native to Africa.  The\n",
    "samples expressing 6_1503 are the limiting factor.  East Asian populations are underexpressed\n",
    "by about a factor of two.  The 37 samples in African populations from the Caribbean or the American\n",
    "Southwest that express these series appear to be the result of gene flow selected for lactase persistence.\n",
    "</div>"
   ]
  },
  {
   "cell_type": "code",
   "execution_count": 2,
   "metadata": {
    "collapsed": false
   },
   "outputs": [
    {
     "data": {
      "text/html": [
       "\n",
       "\n",
       "    <div class=\"bk-root\">\n",
       "        <div class=\"plotdiv\" id=\"5362b496-c8a3-438c-b53f-58f73f7c0ee4\"></div>\n",
       "    </div>\n",
       "<script type=\"text/javascript\">\n",
       "  \n",
       "  (function(global) {\n",
       "    function now() {\n",
       "      return new Date();\n",
       "    }\n",
       "  \n",
       "    if (typeof (window._bokeh_onload_callbacks) === \"undefined\") {\n",
       "      window._bokeh_onload_callbacks = [];\n",
       "    }\n",
       "  \n",
       "    function run_callbacks() {\n",
       "      window._bokeh_onload_callbacks.forEach(function(callback) { callback() });\n",
       "      delete window._bokeh_onload_callbacks\n",
       "      console.info(\"Bokeh: all callbacks have finished\");\n",
       "    }\n",
       "  \n",
       "    function load_libs(js_urls, callback) {\n",
       "      window._bokeh_onload_callbacks.push(callback);\n",
       "      if (window._bokeh_is_loading > 0) {\n",
       "        console.log(\"Bokeh: BokehJS is being loaded, scheduling callback at\", now());\n",
       "        return null;\n",
       "      }\n",
       "      if (js_urls == null || js_urls.length === 0) {\n",
       "        run_callbacks();\n",
       "        return null;\n",
       "      }\n",
       "      console.log(\"Bokeh: BokehJS not loaded, scheduling load and callback at\", now());\n",
       "      window._bokeh_is_loading = js_urls.length;\n",
       "      for (var i = 0; i < js_urls.length; i++) {\n",
       "        var url = js_urls[i];\n",
       "        var s = document.createElement('script');\n",
       "        s.src = url;\n",
       "        s.async = false;\n",
       "        s.onreadystatechange = s.onload = function() {\n",
       "          window._bokeh_is_loading--;\n",
       "          if (window._bokeh_is_loading === 0) {\n",
       "            console.log(\"Bokeh: all BokehJS libraries loaded\");\n",
       "            run_callbacks()\n",
       "          }\n",
       "        };\n",
       "        s.onerror = function() {\n",
       "          console.warn(\"failed to load library \" + url);\n",
       "        };\n",
       "        console.log(\"Bokeh: injecting script tag for BokehJS library: \", url);\n",
       "        document.getElementsByTagName(\"head\")[0].appendChild(s);\n",
       "      }\n",
       "    };var element = document.getElementById(\"5362b496-c8a3-438c-b53f-58f73f7c0ee4\");\n",
       "    if (element == null) {\n",
       "      console.log(\"Bokeh: ERROR: autoload.js configured with elementid '5362b496-c8a3-438c-b53f-58f73f7c0ee4' but no matching script tag was found. \")\n",
       "      return false;\n",
       "    }\n",
       "  \n",
       "    var js_urls = [];\n",
       "  \n",
       "    var inline_js = [\n",
       "      function(Bokeh) {\n",
       "        Bokeh.$(function() {\n",
       "            var docs_json = {\"1105d495-bc1d-4c13-a4f3-e7faa3ea93e0\":{\"roots\":{\"references\":[{\"attributes\":{\"plot\":{\"id\":\"72be3879-9812-4257-8396-f1f1451e81c2\",\"subtype\":\"Figure\",\"type\":\"Plot\"}},\"id\":\"a94bb83b-88d8-4ac7-b33a-cf0682e3ca33\",\"type\":\"SaveTool\"},{\"attributes\":{\"bottom\":{\"field\":\"bottom\"},\"fill_alpha\":{\"value\":0.1},\"fill_color\":{\"value\":\"#1f77b4\"},\"left\":{\"field\":\"left\"},\"line_alpha\":{\"value\":0.1},\"line_color\":{\"value\":\"#1f77b4\"},\"right\":{\"field\":\"right\"},\"top\":{\"field\":\"top\"}},\"id\":\"e48190ea-7173-4733-a071-62182c2fb322\",\"type\":\"Quad\"},{\"attributes\":{},\"id\":\"01ee4a18-b95a-46a6-bb4d-58a00f33287a\",\"type\":\"BasicTickFormatter\"},{\"attributes\":{},\"id\":\"4c485e32-3d79-4034-b8bc-6aa745ef970f\",\"type\":\"BasicTicker\"},{\"attributes\":{\"line_color\":{\"field\":\"line_color\"},\"xs\":{\"field\":\"xs\"},\"ys\":{\"field\":\"ys\"}},\"id\":\"0762b74b-f25b-4b9b-8385-e73c7c4da37a\",\"type\":\"MultiLine\"},{\"attributes\":{},\"id\":\"0f8e0935-a652-47de-ab20-06d97fe73422\",\"type\":\"BasicTickFormatter\"},{\"attributes\":{\"data_source\":{\"id\":\"85cd2692-63ef-4b56-9b69-ece549b8ddbc\",\"type\":\"ColumnDataSource\"},\"glyph\":{\"id\":\"7f577aa3-6e54-4b3e-b1b3-bde596c75043\",\"type\":\"Quad\"},\"hover_glyph\":null,\"nonselection_glyph\":{\"id\":\"e48190ea-7173-4733-a071-62182c2fb322\",\"type\":\"Quad\"},\"selection_glyph\":null},\"id\":\"e232953b-5ad8-4525-9d26-5eba81957886\",\"type\":\"GlyphRenderer\"},{\"attributes\":{\"bottom\":{\"field\":\"bottom\"},\"fill_color\":{\"field\":\"fill_color\"},\"left\":{\"field\":\"left\"},\"line_color\":{\"value\":null},\"right\":{\"field\":\"right\"},\"top\":{\"field\":\"top\"}},\"id\":\"3cf0db2c-8535-48ce-a87e-3315228ca094\",\"type\":\"Quad\"},{\"attributes\":{\"data_source\":{\"id\":\"0f652cf7-7da6-4a48-b227-066632dbdb15\",\"type\":\"ColumnDataSource\"},\"glyph\":{\"id\":\"3cf0db2c-8535-48ce-a87e-3315228ca094\",\"type\":\"Quad\"},\"hover_glyph\":null,\"nonselection_glyph\":{\"id\":\"82b2a9f3-6376-49f1-bb41-ffa5de0cc391\",\"type\":\"Quad\"},\"selection_glyph\":null},\"id\":\"e755563d-15bf-4497-a84a-646ba6f24c5d\",\"type\":\"GlyphRenderer\"},{\"attributes\":{\"data_source\":{\"id\":\"816ee196-75f9-40a6-b88b-8b68c36aaff0\",\"type\":\"ColumnDataSource\"},\"glyph\":{\"id\":\"0762b74b-f25b-4b9b-8385-e73c7c4da37a\",\"type\":\"MultiLine\"},\"hover_glyph\":null,\"nonselection_glyph\":{\"id\":\"1713e4bb-2f05-4d98-8675-06fc0a4ba3b6\",\"type\":\"MultiLine\"},\"selection_glyph\":null},\"id\":\"823693a7-2599-44a5-80b3-c5e544ad801c\",\"type\":\"GlyphRenderer\"},{\"attributes\":{},\"id\":\"11186de1-244e-4bdd-b929-4de0030df6d2\",\"type\":\"ToolEvents\"},{\"attributes\":{\"active_drag\":\"auto\",\"active_scroll\":\"auto\",\"active_tap\":\"auto\",\"tools\":[{\"id\":\"90f91b44-c1b8-440d-a134-bc81dc5ec540\",\"type\":\"PanTool\"},{\"id\":\"18938947-6a7d-4a57-a67d-d011674f5346\",\"type\":\"WheelZoomTool\"},{\"id\":\"9ca7da56-4d22-4ffd-8645-9d7222f5f5d3\",\"type\":\"BoxZoomTool\"},{\"id\":\"a94bb83b-88d8-4ac7-b33a-cf0682e3ca33\",\"type\":\"SaveTool\"},{\"id\":\"98606f08-a7dd-43f8-989f-52d629d40dec\",\"type\":\"ResetTool\"},{\"id\":\"94857088-93b2-4595-bcd8-5ff7fc82ebc0\",\"type\":\"HelpTool\"}]},\"id\":\"54759b30-6db3-49f1-8071-11b37369449d\",\"type\":\"Toolbar\"},{\"attributes\":{\"overlay\":{\"id\":\"68b59af6-ff56-4ddb-9984-3465e8663f2e\",\"type\":\"BoxAnnotation\"},\"plot\":{\"id\":\"72be3879-9812-4257-8396-f1f1451e81c2\",\"subtype\":\"Figure\",\"type\":\"Plot\"}},\"id\":\"9ca7da56-4d22-4ffd-8645-9d7222f5f5d3\",\"type\":\"BoxZoomTool\"},{\"attributes\":{\"line_alpha\":{\"value\":0.1},\"line_color\":{\"value\":\"#1f77b4\"},\"xs\":{\"field\":\"xs\"},\"ys\":{\"field\":\"ys\"}},\"id\":\"1713e4bb-2f05-4d98-8675-06fc0a4ba3b6\",\"type\":\"MultiLine\"},{\"attributes\":{\"level\":\"glyph\",\"plot\":{\"id\":\"72be3879-9812-4257-8396-f1f1451e81c2\",\"subtype\":\"Figure\",\"type\":\"Plot\"},\"source\":{\"id\":\"9ea68756-c074-4129-9a2f-07b0815c60a7\",\"type\":\"ColumnDataSource\"},\"text\":{\"field\":\"vals\"},\"text_font_size\":{\"value\":\"9pt\"},\"text_font_style\":\"bold\",\"x\":{\"field\":\"x\"},\"y\":{\"field\":\"y\"}},\"id\":\"79d04563-677f-40de-a95f-fbcff312d6de\",\"type\":\"LabelSet\"},{\"attributes\":{\"formatter\":{\"id\":\"0f8e0935-a652-47de-ab20-06d97fe73422\",\"type\":\"BasicTickFormatter\"},\"plot\":{\"id\":\"72be3879-9812-4257-8396-f1f1451e81c2\",\"subtype\":\"Figure\",\"type\":\"Plot\"},\"ticker\":{\"id\":\"4c485e32-3d79-4034-b8bc-6aa745ef970f\",\"type\":\"BasicTicker\"}},\"id\":\"f6ab3d98-5fc1-49fd-9ce8-85bd6dcccb72\",\"type\":\"LinearAxis\"},{\"attributes\":{\"plot\":{\"id\":\"72be3879-9812-4257-8396-f1f1451e81c2\",\"subtype\":\"Figure\",\"type\":\"Plot\"}},\"id\":\"90f91b44-c1b8-440d-a134-bc81dc5ec540\",\"type\":\"PanTool\"},{\"attributes\":{\"plot\":{\"id\":\"72be3879-9812-4257-8396-f1f1451e81c2\",\"subtype\":\"Figure\",\"type\":\"Plot\"}},\"id\":\"94857088-93b2-4595-bcd8-5ff7fc82ebc0\",\"type\":\"HelpTool\"},{\"attributes\":{\"below\":[{\"id\":\"f6ab3d98-5fc1-49fd-9ce8-85bd6dcccb72\",\"type\":\"LinearAxis\"}],\"left\":[{\"id\":\"805ec89f-49d6-495d-8a12-b8cd49d91760\",\"type\":\"LinearAxis\"}],\"plot_height\":400,\"plot_width\":900,\"renderers\":[{\"id\":\"f6ab3d98-5fc1-49fd-9ce8-85bd6dcccb72\",\"type\":\"LinearAxis\"},{\"id\":\"729c388c-b598-4ca5-aab0-0ff9edbe9e6d\",\"type\":\"Grid\"},{\"id\":\"805ec89f-49d6-495d-8a12-b8cd49d91760\",\"type\":\"LinearAxis\"},{\"id\":\"eb735192-b904-4589-b40e-19f15f7f330a\",\"type\":\"Grid\"},{\"id\":\"68b59af6-ff56-4ddb-9984-3465e8663f2e\",\"type\":\"BoxAnnotation\"},{\"id\":\"e755563d-15bf-4497-a84a-646ba6f24c5d\",\"type\":\"GlyphRenderer\"},{\"id\":\"823693a7-2599-44a5-80b3-c5e544ad801c\",\"type\":\"GlyphRenderer\"},{\"id\":\"79d04563-677f-40de-a95f-fbcff312d6de\",\"type\":\"LabelSet\"},{\"id\":\"e232953b-5ad8-4525-9d26-5eba81957886\",\"type\":\"GlyphRenderer\"},{\"id\":\"0f0bd758-9500-4cc5-aa70-8ce257eed5aa\",\"type\":\"LabelSet\"}],\"title\":{\"id\":\"64fda58b-01b9-421f-bddd-3e12ef4b2abc\",\"type\":\"Title\"},\"tool_events\":{\"id\":\"11186de1-244e-4bdd-b929-4de0030df6d2\",\"type\":\"ToolEvents\"},\"toolbar\":{\"id\":\"54759b30-6db3-49f1-8071-11b37369449d\",\"type\":\"Toolbar\"},\"toolbar_location\":null,\"x_range\":{\"id\":\"582b11ea-6aea-48b6-926e-18e163fbf261\",\"type\":\"Range1d\"},\"y_range\":{\"id\":\"bbdeb115-a53d-43b5-9cbd-779cde60a639\",\"type\":\"Range1d\"}},\"id\":\"72be3879-9812-4257-8396-f1f1451e81c2\",\"subtype\":\"Figure\",\"type\":\"Plot\"},{\"attributes\":{\"callback\":null,\"column_names\":[\"y\",\"x\",\"vals\"],\"data\":{\"vals\":[\"6_1503\",\"4_1699\",\"26_1414\",\"64_1575\",\"10_2206\",\"7_1868\"],\"x\":[135771974,135915358,136398174,136494186,136501840,136682274],\"y\":[100.0,201.0,99.0,200.0,303.0,302.0]}},\"id\":\"9ea68756-c074-4129-9a2f-07b0815c60a7\",\"type\":\"ColumnDataSource\"},{\"attributes\":{\"bottom\":{\"field\":\"bottom\"},\"fill_color\":{\"value\":\"white\"},\"left\":{\"field\":\"left\"},\"right\":{\"field\":\"right\"},\"top\":{\"field\":\"top\"}},\"id\":\"7f577aa3-6e54-4b3e-b1b3-bde596c75043\",\"type\":\"Quad\"},{\"attributes\":{\"callback\":null,\"end\":136786630,\"start\":135757320},\"id\":\"582b11ea-6aea-48b6-926e-18e163fbf261\",\"type\":\"Range1d\"},{\"attributes\":{\"callback\":null,\"end\":400},\"id\":\"bbdeb115-a53d-43b5-9cbd-779cde60a639\",\"type\":\"Range1d\"},{\"attributes\":{\"callback\":null,\"column_names\":[\"right\",\"bottom\",\"top\",\"left\",\"fill_color\"],\"data\":{\"bottom\":[50,150,50,150,250,250],\"fill_color\":[\"#61c461\",\"#61c461\",\"#61c461\",\"#61c461\",\"#808080\",\"#61c461\"],\"left\":[135771974,135915358,136398174,136494186,136501840,136682274],\"right\":[136140304,135995079,136474098,136765951,136555659,136775898],\"top\":[95,196,94,195,298,297]}},\"id\":\"0f652cf7-7da6-4a48-b227-066632dbdb15\",\"type\":\"ColumnDataSource\"},{\"attributes\":{\"level\":\"glyph\",\"plot\":{\"id\":\"72be3879-9812-4257-8396-f1f1451e81c2\",\"subtype\":\"Figure\",\"type\":\"Plot\"},\"source\":{\"id\":\"471a0a43-3ca8-4825-8124-4a70c9a88344\",\"type\":\"ColumnDataSource\"},\"text\":{\"field\":\"vals\"},\"text_align\":\"center\",\"text_baseline\":\"middle\",\"text_font_size\":{\"value\":\"8pt\"},\"x\":{\"field\":\"x\"},\"y\":{\"field\":\"y\"}},\"id\":\"0f0bd758-9500-4cc5-aa70-8ce257eed5aa\",\"type\":\"LabelSet\"},{\"attributes\":{\"formatter\":{\"id\":\"01ee4a18-b95a-46a6-bb4d-58a00f33287a\",\"type\":\"BasicTickFormatter\"},\"plot\":{\"id\":\"72be3879-9812-4257-8396-f1f1451e81c2\",\"subtype\":\"Figure\",\"type\":\"Plot\"},\"ticker\":{\"id\":\"4a810f87-077b-4c2c-a14d-85b9f8cc8f74\",\"type\":\"BasicTicker\"},\"visible\":null},\"id\":\"805ec89f-49d6-495d-8a12-b8cd49d91760\",\"type\":\"LinearAxis\"},{\"attributes\":{\"callback\":null,\"column_names\":[\"xs\",\"ys\",\"line_color\"],\"data\":{\"line_color\":[\"black\",\"black\",\"black\",\"black\",\"black\",\"black\",\"black\",\"black\",\"black\",\"black\",\"black\",\"black\",\"black\",\"black\",\"black\",\"black\",\"black\",\"black\",\"black\",\"black\",\"black\",\"black\",\"black\",\"black\",\"black\",\"black\",\"black\",\"black\",\"black\",\"black\",\"black\",\"black\",\"black\",\"black\",\"black\",\"black\",\"black\",\"black\",\"black\",\"black\",\"black\",\"black\",\"black\",\"black\",\"black\",\"black\",\"black\",\"black\",\"black\",\"black\",\"black\",\"black\",\"black\",\"black\",\"black\",\"black\",\"black\",\"black\",\"black\",\"black\",\"black\",\"black\",\"black\",\"black\",\"black\",\"black\",\"black\",\"black\",\"black\",\"black\",\"black\",\"black\",\"black\",\"black\",\"black\",\"black\",\"black\",\"black\",\"black\",\"black\",\"black\",\"black\",\"black\",\"black\",\"black\",\"black\",\"black\",\"black\",\"black\",\"black\",\"black\",\"black\",\"black\",\"black\",\"black\",\"black\",\"black\",\"black\",\"black\",\"black\",\"black\",\"black\",\"black\",\"black\",\"black\",\"black\",\"black\",\"black\",\"black\",\"black\",\"black\",\"black\",\"black\",\"black\",\"black\",\"black\",\"black\"],\"xs\":[[135771974,135771974],[135859371,135859371],[135877562,135877562],[136022798,136022798],[136058820,136058820],[136140304,136140304],[135915358,135915358],[135954405,135954405],[135995073,135995073],[135995079,135995079],[136398174,136398174],[136402117,136402117],[136403749,136403749],[136409073,136409073],[136410299,136410299],[136413359,136413359],[136416855,136416855],[136416941,136416941],[136418348,136418348],[136419961,136419961],[136420690,136420690],[136422171,136422171],[136428460,136428460],[136430866,136430866],[136432103,136432103],[136437507,136437507],[136439090,136439090],[136439517,136439517],[136444123,136444123],[136445526,136445526],[136445869,136445869],[136455600,136455600],[136456642,136456642],[136462441,136462441],[136470714,136470714],[136474098,136474098],[136494186,136494186],[136495300,136495300],[136495619,136495619],[136499166,136499166],[136502792,136502792],[136503157,136503157],[136507039,136507039],[136511575,136511575],[136518103,136518103],[136521514,136521514],[136522675,136522675],[136522941,136522941],[136526981,136526981],[136535410,136535410],[136539122,136539122],[136544197,136544197],[136550109,136550109],[136551694,136551694],[136553188,136553188],[136553639,136553639],[136554800,136554800],[136557319,136557319],[136558157,136558157],[136569848,136569848],[136575199,136575199],[136576577,136576577],[136578536,136578536],[136580287,136580287],[136583192,136583192],[136586958,136586958],[136588478,136588478],[136589612,136589612],[136591178,136591178],[136591859,136591859],[136593760,136593760],[136594158,136594158],[136603276,136603276],[136603366,136603366],[136608231,136608231],[136609975,136609975],[136610598,136610598],[136611624,136611624],[136613780,136613780],[136614255,136614255],[136614813,136614813],[136617524,136617524],[136622216,136622216],[136625602,136625602],[136629911,136629911],[136630757,136630757],[136630989,136630989],[136631031,136631031],[136633771,136633771],[136636324,136636324],[136638216,136638216],[136640233,136640233],[136641882,136641882],[136643555,136643555],[136658345,136658345],[136670298,136670298],[136685228,136685228],[136696138,136696138],[136740900,136740900],[136765951,136765951],[136501840,136501840],[136505546,136505546],[136516748,136516748],[136522710,136522710],[136528004,136528004],[136539513,136539513],[136544752,136544752],[136546110,136546110],[136553529,136553529],[136555659,136555659],[136682274,136682274],[136691825,136691825],[136698098,136698098],[136721603,136721603],[136721995,136721995],[136755684,136755684],[136775898,136775898]],\"ys\":[[50,95],[50,95],[50,95],[50,95],[50,95],[50,95],[150,196],[150,196],[150,196],[150,196],[50,94],[50,94],[50,94],[50,94],[50,94],[50,94],[50,94],[50,94],[50,94],[50,94],[50,94],[50,94],[50,94],[50,94],[50,94],[50,94],[50,94],[50,94],[50,94],[50,94],[50,94],[50,94],[50,94],[50,94],[50,94],[50,94],[150,195],[150,195],[150,195],[150,195],[150,195],[150,195],[150,195],[150,195],[150,195],[150,195],[150,195],[150,195],[150,195],[150,195],[150,195],[150,195],[150,195],[150,195],[150,195],[150,195],[150,195],[150,195],[150,195],[150,195],[150,195],[150,195],[150,195],[150,195],[150,195],[150,195],[150,195],[150,195],[150,195],[150,195],[150,195],[150,195],[150,195],[150,195],[150,195],[150,195],[150,195],[150,195],[150,195],[150,195],[150,195],[150,195],[150,195],[150,195],[150,195],[150,195],[150,195],[150,195],[150,195],[150,195],[150,195],[150,195],[150,195],[150,195],[150,195],[150,195],[150,195],[150,195],[150,195],[150,195],[250,298],[250,298],[250,298],[250,298],[250,298],[250,298],[250,298],[250,298],[250,298],[250,298],[250,297],[250,297],[250,297],[250,297],[250,297],[250,297],[250,297]]}},\"id\":\"816ee196-75f9-40a6-b88b-8b68c36aaff0\",\"type\":\"ColumnDataSource\"},{\"attributes\":{},\"id\":\"4a810f87-077b-4c2c-a14d-85b9f8cc8f74\",\"type\":\"BasicTicker\"},{\"attributes\":{\"callback\":null,\"column_names\":[\"right\",\"bottom\",\"top\",\"left\"],\"data\":{\"bottom\":[345,345,345,345,345,345,345],\"left\":[135809835,135957574,136289083,136499189,136545415,136597196,136664254],\"right\":[135928279,136288182,136482839,136542633,136594750,136634047,136743222],\"top\":[375,375,375,375,375,375,375]}},\"id\":\"85cd2692-63ef-4b56-9b69-ece549b8ddbc\",\"type\":\"ColumnDataSource\"},{\"attributes\":{\"plot\":{\"id\":\"72be3879-9812-4257-8396-f1f1451e81c2\",\"subtype\":\"Figure\",\"type\":\"Plot\"}},\"id\":\"98606f08-a7dd-43f8-989f-52d629d40dec\",\"type\":\"ResetTool\"},{\"attributes\":{\"plot\":{\"id\":\"72be3879-9812-4257-8396-f1f1451e81c2\",\"subtype\":\"Figure\",\"type\":\"Plot\"}},\"id\":\"18938947-6a7d-4a57-a67d-d011674f5346\",\"type\":\"WheelZoomTool\"},{\"attributes\":{\"bottom\":{\"field\":\"bottom\"},\"fill_alpha\":{\"value\":0.1},\"fill_color\":{\"value\":\"#1f77b4\"},\"left\":{\"field\":\"left\"},\"line_alpha\":{\"value\":0.1},\"line_color\":{\"value\":\"#1f77b4\"},\"right\":{\"field\":\"right\"},\"top\":{\"field\":\"top\"}},\"id\":\"82b2a9f3-6376-49f1-bb41-ffa5de0cc391\",\"type\":\"Quad\"},{\"attributes\":{\"bottom_units\":\"screen\",\"fill_alpha\":{\"value\":0.5},\"fill_color\":{\"value\":\"lightgrey\"},\"left_units\":\"screen\",\"level\":\"overlay\",\"line_alpha\":{\"value\":1.0},\"line_color\":{\"value\":\"black\"},\"line_dash\":[4,4],\"line_width\":{\"value\":2},\"plot\":null,\"render_mode\":\"css\",\"right_units\":\"screen\",\"top_units\":\"screen\"},\"id\":\"68b59af6-ff56-4ddb-9984-3465e8663f2e\",\"type\":\"BoxAnnotation\"},{\"attributes\":{\"dimension\":1,\"plot\":{\"id\":\"72be3879-9812-4257-8396-f1f1451e81c2\",\"subtype\":\"Figure\",\"type\":\"Plot\"},\"ticker\":{\"id\":\"4a810f87-077b-4c2c-a14d-85b9f8cc8f74\",\"type\":\"BasicTicker\"}},\"id\":\"eb735192-b904-4589-b40e-19f15f7f330a\",\"type\":\"Grid\"},{\"attributes\":{\"plot\":{\"id\":\"72be3879-9812-4257-8396-f1f1451e81c2\",\"subtype\":\"Figure\",\"type\":\"Plot\"},\"ticker\":{\"id\":\"4c485e32-3d79-4034-b8bc-6aa745ef970f\",\"type\":\"BasicTicker\"}},\"id\":\"729c388c-b598-4ca5-aab0-0ff9edbe9e6d\",\"type\":\"Grid\"},{\"attributes\":{\"callback\":null,\"column_names\":[\"y\",\"x\",\"vals\"],\"data\":{\"vals\":[\"RAB3GAP1\",\"ZRANB3\",\"R3HDM1\",\"UBXN4\",\"LCT\",\"MCM6\",\"DARS\"],\"x\":[135869057.0,136122878.0,136385961.0,136520911.0,136570082.5,136615621.5,136703738.0],\"y\":[360.0,360.0,360.0,360.0,360.0,360.0,360.0]}},\"id\":\"471a0a43-3ca8-4825-8124-4a70c9a88344\",\"type\":\"ColumnDataSource\"},{\"attributes\":{\"plot\":null,\"text\":null},\"id\":\"64fda58b-01b9-421f-bddd-3e12ef4b2abc\",\"type\":\"Title\"}],\"root_ids\":[\"72be3879-9812-4257-8396-f1f1451e81c2\"]},\"title\":\"Bokeh Application\",\"version\":\"0.12.0\"}};\n",
       "            var render_items = [{\"docid\":\"1105d495-bc1d-4c13-a4f3-e7faa3ea93e0\",\"elementid\":\"5362b496-c8a3-438c-b53f-58f73f7c0ee4\",\"modelid\":\"72be3879-9812-4257-8396-f1f1451e81c2\",\"notebook_comms_target\":\"81f3cc30-63f2-4a5c-b822-051ce742f7e9\"}];\n",
       "            \n",
       "            Bokeh.embed.embed_items(docs_json, render_items);\n",
       "        });\n",
       "      },\n",
       "      function(Bokeh) {\n",
       "      }\n",
       "    ];\n",
       "  \n",
       "    function run_inline_js() {\n",
       "      for (var i = 0; i < inline_js.length; i++) {\n",
       "        inline_js[i](window.Bokeh);\n",
       "      }\n",
       "    }\n",
       "  \n",
       "    if (window._bokeh_is_loading === 0) {\n",
       "      console.log(\"Bokeh: BokehJS loaded, going straight to plotting\");\n",
       "      run_inline_js();\n",
       "    } else {\n",
       "      load_libs(js_urls, function() {\n",
       "        console.log(\"Bokeh: BokehJS plotting callback run at\", now());\n",
       "        run_inline_js();\n",
       "      });\n",
       "    }\n",
       "  }(this));\n",
       "</script>"
      ]
     },
     "metadata": {},
     "output_type": "display_data"
    },
    {
     "data": {
      "text/html": [
       "<p><code>&lt;Bokeh Notebook handle for <strong>In[2]</strong>&gt;</code></p>"
      ],
      "text/plain": [
       "<bokeh.io._CommsHandle at 0x7f165cc9a390>"
      ]
     },
     "execution_count": 2,
     "metadata": {},
     "output_type": "execute_result"
    }
   ],
   "source": [
    "plt_obj = dm.superset_yes_no([dm.di_6_1503, dm.di_26_1414], min_match=0.8)\n",
    "plt = plt_obj.do_plot()\n",
    "show(plt)"
   ]
  },
  {
   "cell_type": "code",
   "execution_count": 3,
   "metadata": {
    "collapsed": false
   },
   "outputs": [
    {
     "data": {
      "text/html": [
       "<table>\n",
       "<thead><tr><th style=\"text-align:center\">index</th><th style=\"text-align:center\">first</th><th style=\"text-align:center\">length</th><th style=\"text-align:center\">snps</th><th style=\"text-align:center\" colspan=2>alleles</th><th style=\"text-align:center\" colspan=2>matches</th><th style=\"text-align:center\" colspan=2>afr</th><th style=\"text-align:center\" colspan=2>afx</th><th style=\"text-align:center\" colspan=2>amr</th><th style=\"text-align:center\" colspan=2>eas</th><th style=\"text-align:center\" colspan=2>eur</th><th style=\"text-align:center\" colspan=2>sas</th><th style=\"text-align:center\" colspan=2>sax</th></tr></thead>\n",
       "<tr class=\"even\"><td style=\"text-align: right;\">353921</td><td style=\"text-align: right;\">136,501,840</td><td style=\"text-align: right;\">53,819</td><td style=\"text-align: right;\">10</td><td style=\"text-align: right;\">2206</td><td style=\"text-align: right;\">0.57</td><td style=\"text-align: right;\">1251</td><td style=\"text-align: right;\">0.99</td><td style=\"text-align: right;\">12</td><td style=\"text-align: right;\">0.05</td><td style=\"text-align: right;\">37</td><td style=\"text-align: right;\">0.47</td><td style=\"text-align: right;\">271</td><td style=\"text-align: right;\">1.56</td><td style=\"text-align: right;\">113</td><td style=\"text-align: right;\">0.45</td><td style=\"text-align: right;\">598</td><td style=\"text-align: right;\">2.38</td><td style=\"text-align: right;\">104</td><td style=\"text-align: right;\">1.14</td><td style=\"text-align: right;\">116</td><td style=\"text-align: right;\">0.76</td></tr>\n",
       "<tr><td style=\"text-align: right;\">354170</td><td style=\"text-align: right;\">136,682,274</td><td style=\"text-align: right;\">93,624</td><td style=\"text-align: right;\">7</td><td style=\"text-align: right;\">1868</td><td style=\"text-align: right;\">0.59</td><td style=\"text-align: right;\">1094</td><td style=\"text-align: right;\">0.86</td><td style=\"text-align: right;\">12</td><td style=\"text-align: right;\">0.05</td><td style=\"text-align: right;\">36</td><td style=\"text-align: right;\">0.52</td><td style=\"text-align: right;\">220</td><td style=\"text-align: right;\">1.45</td><td style=\"text-align: right;\">81</td><td style=\"text-align: right;\">0.37</td><td style=\"text-align: right;\">564</td><td style=\"text-align: right;\">2.57</td><td style=\"text-align: right;\">88</td><td style=\"text-align: right;\">1.11</td><td style=\"text-align: right;\">93</td><td style=\"text-align: right;\">0.69</td></tr>\n",
       "<tr class=\"even\"><td style=\"text-align: right;\">353462</td><td style=\"text-align: right;\">135,915,358</td><td style=\"text-align: right;\">79,721</td><td style=\"text-align: right;\">4</td><td style=\"text-align: right;\">1699</td><td style=\"text-align: right;\">0.75</td><td style=\"text-align: right;\">1268</td><td style=\"text-align: right;\">1.00</td><td style=\"text-align: right;\">13</td><td style=\"text-align: right;\">0.05</td><td style=\"text-align: right;\">37</td><td style=\"text-align: right;\">0.47</td><td style=\"text-align: right;\">275</td><td style=\"text-align: right;\">1.57</td><td style=\"text-align: right;\">115</td><td style=\"text-align: right;\">0.45</td><td style=\"text-align: right;\">602</td><td style=\"text-align: right;\">2.36</td><td style=\"text-align: right;\">107</td><td style=\"text-align: right;\">1.16</td><td style=\"text-align: right;\">119</td><td style=\"text-align: right;\">0.77</td></tr>\n",
       "<tr><td style=\"text-align: right;\">353901</td><td style=\"text-align: right;\">136,494,186</td><td style=\"text-align: right;\">271,765</td><td style=\"text-align: right;\">64</td><td style=\"text-align: right;\">1575</td><td style=\"text-align: right;\">0.70</td><td style=\"text-align: right;\">1106</td><td style=\"text-align: right;\">0.87</td><td style=\"text-align: right;\">12</td><td style=\"text-align: right;\">0.05</td><td style=\"text-align: right;\">36</td><td style=\"text-align: right;\">0.52</td><td style=\"text-align: right;\">224</td><td style=\"text-align: right;\">1.46</td><td style=\"text-align: right;\">87</td><td style=\"text-align: right;\">0.39</td><td style=\"text-align: right;\">566</td><td style=\"text-align: right;\">2.55</td><td style=\"text-align: right;\">86</td><td style=\"text-align: right;\">1.07</td><td style=\"text-align: right;\">95</td><td style=\"text-align: right;\">0.70</td></tr>\n",
       "<tr class=\"even\"><td style=\"text-align: right;\">353283</td><td style=\"text-align: right;\">135,771,974</td><td style=\"text-align: right;\">368,330</td><td style=\"text-align: right;\">6</td><td style=\"text-align: right;\">1503</td><td style=\"text-align: right;\">0.84</td><td style=\"text-align: right;\">1270</td><td style=\"text-align: right;\">1.00</td><td style=\"text-align: right;\">13</td><td style=\"text-align: right;\">0.05</td><td style=\"text-align: right;\">37</td><td style=\"text-align: right;\">0.46</td><td style=\"text-align: right;\">276</td><td style=\"text-align: right;\">1.57</td><td style=\"text-align: right;\">115</td><td style=\"text-align: right;\">0.45</td><td style=\"text-align: right;\">602</td><td style=\"text-align: right;\">2.36</td><td style=\"text-align: right;\">107</td><td style=\"text-align: right;\">1.16</td><td style=\"text-align: right;\">120</td><td style=\"text-align: right;\">0.77</td></tr>\n",
       "<tr><td style=\"text-align: right;\">353797</td><td style=\"text-align: right;\">136,398,174</td><td style=\"text-align: right;\">75,924</td><td style=\"text-align: right;\">26</td><td style=\"text-align: right;\">1414</td><td style=\"text-align: right;\">0.90</td><td style=\"text-align: right;\">1270</td><td style=\"text-align: right;\">1.00</td><td style=\"text-align: right;\">13</td><td style=\"text-align: right;\">0.05</td><td style=\"text-align: right;\">37</td><td style=\"text-align: right;\">0.46</td><td style=\"text-align: right;\">276</td><td style=\"text-align: right;\">1.57</td><td style=\"text-align: right;\">115</td><td style=\"text-align: right;\">0.45</td><td style=\"text-align: right;\">602</td><td style=\"text-align: right;\">2.36</td><td style=\"text-align: right;\">107</td><td style=\"text-align: right;\">1.16</td><td style=\"text-align: right;\">120</td><td style=\"text-align: right;\">0.77</td></tr>\n",
       "</table>"
      ],
      "text/plain": [
       "<IPython.core.display.HTML object>"
      ]
     },
     "execution_count": 3,
     "metadata": {},
     "output_type": "execute_result"
    }
   ],
   "source": [
    "HTML(plt_obj.get_html())"
   ]
  },
  {
   "cell_type": "markdown",
   "metadata": {},
   "source": [
    "<div style=\"width:700px\">\n",
    "<p>\n",
    "The plot below shows the descendant series of the EUR tree root.  The 13 African samples that\n",
    "express the root series is a small number.  But, it is large enough to suggest that the root series\n",
    "does have some history that extends back into the African past.  Otherwise, the very small number\n",
    "of African samples suggests that the rest of the tree appeared during the expansion out of Africa.\n",
    "</div>"
   ]
  },
  {
   "cell_type": "code",
   "execution_count": 4,
   "metadata": {
    "collapsed": false
   },
   "outputs": [
    {
     "data": {
      "text/html": [
       "\n",
       "\n",
       "    <div class=\"bk-root\">\n",
       "        <div class=\"plotdiv\" id=\"07ab933e-c536-43a4-a6d4-79f3628af2bf\"></div>\n",
       "    </div>\n",
       "<script type=\"text/javascript\">\n",
       "  \n",
       "  (function(global) {\n",
       "    function now() {\n",
       "      return new Date();\n",
       "    }\n",
       "  \n",
       "    if (typeof (window._bokeh_onload_callbacks) === \"undefined\") {\n",
       "      window._bokeh_onload_callbacks = [];\n",
       "    }\n",
       "  \n",
       "    function run_callbacks() {\n",
       "      window._bokeh_onload_callbacks.forEach(function(callback) { callback() });\n",
       "      delete window._bokeh_onload_callbacks\n",
       "      console.info(\"Bokeh: all callbacks have finished\");\n",
       "    }\n",
       "  \n",
       "    function load_libs(js_urls, callback) {\n",
       "      window._bokeh_onload_callbacks.push(callback);\n",
       "      if (window._bokeh_is_loading > 0) {\n",
       "        console.log(\"Bokeh: BokehJS is being loaded, scheduling callback at\", now());\n",
       "        return null;\n",
       "      }\n",
       "      if (js_urls == null || js_urls.length === 0) {\n",
       "        run_callbacks();\n",
       "        return null;\n",
       "      }\n",
       "      console.log(\"Bokeh: BokehJS not loaded, scheduling load and callback at\", now());\n",
       "      window._bokeh_is_loading = js_urls.length;\n",
       "      for (var i = 0; i < js_urls.length; i++) {\n",
       "        var url = js_urls[i];\n",
       "        var s = document.createElement('script');\n",
       "        s.src = url;\n",
       "        s.async = false;\n",
       "        s.onreadystatechange = s.onload = function() {\n",
       "          window._bokeh_is_loading--;\n",
       "          if (window._bokeh_is_loading === 0) {\n",
       "            console.log(\"Bokeh: all BokehJS libraries loaded\");\n",
       "            run_callbacks()\n",
       "          }\n",
       "        };\n",
       "        s.onerror = function() {\n",
       "          console.warn(\"failed to load library \" + url);\n",
       "        };\n",
       "        console.log(\"Bokeh: injecting script tag for BokehJS library: \", url);\n",
       "        document.getElementsByTagName(\"head\")[0].appendChild(s);\n",
       "      }\n",
       "    };var element = document.getElementById(\"07ab933e-c536-43a4-a6d4-79f3628af2bf\");\n",
       "    if (element == null) {\n",
       "      console.log(\"Bokeh: ERROR: autoload.js configured with elementid '07ab933e-c536-43a4-a6d4-79f3628af2bf' but no matching script tag was found. \")\n",
       "      return false;\n",
       "    }\n",
       "  \n",
       "    var js_urls = [];\n",
       "  \n",
       "    var inline_js = [\n",
       "      function(Bokeh) {\n",
       "        Bokeh.$(function() {\n",
       "            var docs_json = {\"99136ec1-4a9a-4a8a-a613-bc3741354383\":{\"roots\":{\"references\":[{\"attributes\":{\"formatter\":{\"id\":\"7780c4db-7290-45fd-aca1-6b5daf7f6b15\",\"type\":\"BasicTickFormatter\"},\"plot\":{\"id\":\"8b89cf7f-d9d5-46f8-af25-3539ead91033\",\"subtype\":\"Figure\",\"type\":\"Plot\"},\"ticker\":{\"id\":\"43ec1b40-47b0-43dc-ac80-d8e63137a8f2\",\"type\":\"BasicTicker\"}},\"id\":\"ac5f2297-1cd5-4488-933e-514139eaf468\",\"type\":\"LinearAxis\"},{\"attributes\":{\"callback\":null,\"column_names\":[\"y\",\"x\",\"vals\"],\"data\":{\"vals\":[\"6_1503\",\"7_22\",\"11_765\",\"6_35\",\"6_57\",\"7_20\",\"4_911\",\"26_1414\"],\"x\":[135771974,135786061,135837906,135859157,135889881,136039834,136092061,136398174],\"y\":[700.0,163.0,494.0,267.0,371.0,62.0,595.0,699.0]}},\"id\":\"1cc48fef-c06a-470c-b27d-2502b53ff0e1\",\"type\":\"ColumnDataSource\"},{\"attributes\":{\"callback\":null,\"end\":800},\"id\":\"722ba163-141f-4dc3-9fae-3b349d19ab85\",\"type\":\"Range1d\"},{\"attributes\":{\"callback\":null,\"column_names\":[\"right\",\"bottom\",\"top\",\"left\"],\"data\":{\"bottom\":[745,745,745,745,745,745,745],\"left\":[135809835,135957574,136289083,136499189,136545415,136597196,136664254],\"right\":[135928279,136288182,136482839,136542633,136594750,136634047,136743222],\"top\":[775,775,775,775,775,775,775]}},\"id\":\"9952a771-24ee-4c8a-8e31-17666abc6332\",\"type\":\"ColumnDataSource\"},{\"attributes\":{},\"id\":\"3ced0285-041b-42f3-a608-1d8f286ef516\",\"type\":\"ToolEvents\"},{\"attributes\":{},\"id\":\"43ec1b40-47b0-43dc-ac80-d8e63137a8f2\",\"type\":\"BasicTicker\"},{\"attributes\":{},\"id\":\"7780c4db-7290-45fd-aca1-6b5daf7f6b15\",\"type\":\"BasicTickFormatter\"},{\"attributes\":{\"callback\":null,\"column_names\":[\"y\",\"x\",\"vals\"],\"data\":{\"vals\":[\"RAB3GAP1\",\"ZRANB3\",\"R3HDM1\",\"UBXN4\",\"LCT\",\"MCM6\",\"DARS\"],\"x\":[135869057.0,136122878.0,136385961.0,136520911.0,136570082.5,136615621.5,136703738.0],\"y\":[760.0,760.0,760.0,760.0,760.0,760.0,760.0]}},\"id\":\"ec9980d2-5f0c-4a82-a392-d8edbe922ff8\",\"type\":\"ColumnDataSource\"},{\"attributes\":{\"bottom\":{\"field\":\"bottom\"},\"fill_color\":{\"field\":\"fill_color\"},\"left\":{\"field\":\"left\"},\"line_color\":{\"value\":null},\"right\":{\"field\":\"right\"},\"top\":{\"field\":\"top\"}},\"id\":\"4d6b5209-d04d-4d3a-a204-c2637f4e127d\",\"type\":\"Quad\"},{\"attributes\":{\"data_source\":{\"id\":\"306a34aa-89ba-46bc-b730-d268e3669177\",\"type\":\"ColumnDataSource\"},\"glyph\":{\"id\":\"4d6b5209-d04d-4d3a-a204-c2637f4e127d\",\"type\":\"Quad\"},\"hover_glyph\":null,\"nonselection_glyph\":{\"id\":\"6c756140-fe6c-468e-9d95-96e1ce3c9b43\",\"type\":\"Quad\"},\"selection_glyph\":null},\"id\":\"bbbbec92-ad29-4c71-8418-8ff0f19e5eeb\",\"type\":\"GlyphRenderer\"},{\"attributes\":{\"line_alpha\":{\"value\":0.1},\"line_color\":{\"value\":\"#1f77b4\"},\"xs\":{\"field\":\"xs\"},\"ys\":{\"field\":\"ys\"}},\"id\":\"a9038c10-e53c-4ad9-b726-41571c79b856\",\"type\":\"MultiLine\"},{\"attributes\":{},\"id\":\"be1134e2-ec1d-4f99-908b-26c6b43df6e9\",\"type\":\"BasicTicker\"},{\"attributes\":{\"plot\":{\"id\":\"8b89cf7f-d9d5-46f8-af25-3539ead91033\",\"subtype\":\"Figure\",\"type\":\"Plot\"}},\"id\":\"648fa064-43df-40a7-8522-0fb48529e82c\",\"type\":\"HelpTool\"},{\"attributes\":{\"line_color\":{\"field\":\"line_color\"},\"xs\":{\"field\":\"xs\"},\"ys\":{\"field\":\"ys\"}},\"id\":\"29da9972-5abd-408e-a9e7-8c16281f3a22\",\"type\":\"MultiLine\"},{\"attributes\":{\"data_source\":{\"id\":\"9952a771-24ee-4c8a-8e31-17666abc6332\",\"type\":\"ColumnDataSource\"},\"glyph\":{\"id\":\"ba30aafa-c9b8-4aeb-8c77-4a01288b9694\",\"type\":\"Quad\"},\"hover_glyph\":null,\"nonselection_glyph\":{\"id\":\"05a9878d-f79d-4f77-a67f-e9074d84d60a\",\"type\":\"Quad\"},\"selection_glyph\":null},\"id\":\"a323cc90-429e-42b3-87ca-27b71054ed94\",\"type\":\"GlyphRenderer\"},{\"attributes\":{\"active_drag\":\"auto\",\"active_scroll\":\"auto\",\"active_tap\":\"auto\",\"tools\":[{\"id\":\"bd9eac3b-e59b-4c7d-be2a-703221d253e1\",\"type\":\"PanTool\"},{\"id\":\"fad0b5ea-5678-4d0d-8a79-2ce451987493\",\"type\":\"WheelZoomTool\"},{\"id\":\"3b5d3a5e-dcb1-454e-b55f-b76f0c7aa636\",\"type\":\"BoxZoomTool\"},{\"id\":\"91ea9c6a-7d3b-42c7-baa3-8f29fd4d841c\",\"type\":\"SaveTool\"},{\"id\":\"e08a0bb2-5f5f-432c-82f3-97d092e7b8dd\",\"type\":\"ResetTool\"},{\"id\":\"648fa064-43df-40a7-8522-0fb48529e82c\",\"type\":\"HelpTool\"}]},\"id\":\"909ce6e5-5e5a-4517-902a-76f486f152f1\",\"type\":\"Toolbar\"},{\"attributes\":{\"bottom_units\":\"screen\",\"fill_alpha\":{\"value\":0.5},\"fill_color\":{\"value\":\"lightgrey\"},\"left_units\":\"screen\",\"level\":\"overlay\",\"line_alpha\":{\"value\":1.0},\"line_color\":{\"value\":\"black\"},\"line_dash\":[4,4],\"line_width\":{\"value\":2},\"plot\":null,\"render_mode\":\"css\",\"right_units\":\"screen\",\"top_units\":\"screen\"},\"id\":\"add4cc81-9acb-4c2b-ae1a-aa5751296b87\",\"type\":\"BoxAnnotation\"},{\"attributes\":{\"callback\":null,\"end\":136786630,\"start\":135757320},\"id\":\"fc505af1-39c8-4e7f-bffe-cdf2928a5952\",\"type\":\"Range1d\"},{\"attributes\":{\"callback\":null,\"column_names\":[\"xs\",\"ys\",\"line_color\"],\"data\":{\"line_color\":[\"black\",\"black\",\"black\",\"black\",\"black\",\"black\",\"black\",\"black\",\"black\",\"black\",\"black\",\"black\",\"black\",\"black\",\"black\",\"black\",\"black\",\"black\",\"black\",\"black\",\"black\",\"black\",\"black\",\"black\",\"black\",\"black\",\"black\",\"black\",\"black\",\"black\",\"black\",\"black\",\"black\",\"black\",\"black\",\"black\",\"black\",\"black\",\"black\",\"black\",\"black\",\"black\",\"black\",\"black\",\"black\",\"black\",\"black\",\"black\",\"black\",\"black\",\"black\",\"black\",\"black\",\"black\",\"black\",\"black\",\"black\",\"black\",\"black\",\"black\",\"black\",\"black\",\"black\",\"black\",\"black\",\"black\",\"black\",\"black\",\"black\",\"black\",\"black\",\"black\",\"black\"],\"xs\":[[135771974,135771974],[135859371,135859371],[135877562,135877562],[136022798,136022798],[136058820,136058820],[136140304,136140304],[135786061,135786061],[135815142,135815142],[135860442,135860442],[136488551,136488551],[136516760,136516760],[136562320,136562320],[136586684,136586684],[135837906,135837906],[135907088,135907088],[135954797,135954797],[136138627,136138627],[136176540,136176540],[136328890,136328890],[136381348,136381348],[136429366,136429366],[136608646,136608646],[136616754,136616754],[136707982,136707982],[135859157,135859157],[135873466,135873466],[135925411,135925411],[135954198,135954198],[135973399,135973399],[135980938,135980938],[135889881,135889881],[135956309,135956309],[136088389,136088389],[136323321,136323321],[136361384,136361384],[136382936,136382936],[136039834,136039834],[136040506,136040506],[136108092,136108092],[136283871,136283871],[136284021,136284021],[136343363,136343363],[136349562,136349562],[136092061,136092061],[136273578,136273578],[136322676,136322676],[136407479,136407479],[136398174,136398174],[136402117,136402117],[136403749,136403749],[136409073,136409073],[136410299,136410299],[136413359,136413359],[136416855,136416855],[136416941,136416941],[136418348,136418348],[136419961,136419961],[136420690,136420690],[136422171,136422171],[136428460,136428460],[136430866,136430866],[136432103,136432103],[136437507,136437507],[136439090,136439090],[136439517,136439517],[136444123,136444123],[136445526,136445526],[136445869,136445869],[136455600,136455600],[136456642,136456642],[136462441,136462441],[136470714,136470714],[136474098,136474098]],\"ys\":[[650,695],[650,695],[650,695],[650,695],[650,695],[650,695],[150,158],[150,158],[150,158],[150,158],[150,158],[150,158],[150,158],[450,489],[450,489],[450,489],[450,489],[450,489],[450,489],[450,489],[450,489],[450,489],[450,489],[450,489],[250,262],[250,262],[250,262],[250,262],[250,262],[250,262],[350,366],[350,366],[350,366],[350,366],[350,366],[350,366],[50,57],[50,57],[50,57],[50,57],[50,57],[50,57],[50,57],[550,590],[550,590],[550,590],[550,590],[650,694],[650,694],[650,694],[650,694],[650,694],[650,694],[650,694],[650,694],[650,694],[650,694],[650,694],[650,694],[650,694],[650,694],[650,694],[650,694],[650,694],[650,694],[650,694],[650,694],[650,694],[650,694],[650,694],[650,694],[650,694],[650,694]]}},\"id\":\"ed5966a3-51cc-4195-8a23-83beef2f494c\",\"type\":\"ColumnDataSource\"},{\"attributes\":{\"overlay\":{\"id\":\"add4cc81-9acb-4c2b-ae1a-aa5751296b87\",\"type\":\"BoxAnnotation\"},\"plot\":{\"id\":\"8b89cf7f-d9d5-46f8-af25-3539ead91033\",\"subtype\":\"Figure\",\"type\":\"Plot\"}},\"id\":\"3b5d3a5e-dcb1-454e-b55f-b76f0c7aa636\",\"type\":\"BoxZoomTool\"},{\"attributes\":{\"bottom\":{\"field\":\"bottom\"},\"fill_color\":{\"value\":\"white\"},\"left\":{\"field\":\"left\"},\"right\":{\"field\":\"right\"},\"top\":{\"field\":\"top\"}},\"id\":\"ba30aafa-c9b8-4aeb-8c77-4a01288b9694\",\"type\":\"Quad\"},{\"attributes\":{\"plot\":{\"id\":\"8b89cf7f-d9d5-46f8-af25-3539ead91033\",\"subtype\":\"Figure\",\"type\":\"Plot\"}},\"id\":\"91ea9c6a-7d3b-42c7-baa3-8f29fd4d841c\",\"type\":\"SaveTool\"},{\"attributes\":{\"callback\":null,\"column_names\":[\"right\",\"bottom\",\"top\",\"left\",\"fill_color\"],\"data\":{\"bottom\":[650,150,450,250,350,50,550,650],\"fill_color\":[\"#61c461\",\"#ffff00\",\"#00ff00\",\"#ff00ff\",\"#00ff00\",\"#00ff00\",\"#00ff00\",\"#61c461\"],\"left\":[135771974,135786061,135837906,135859157,135889881,136039834,136092061,136398174],\"right\":[136140304,136586684,136707982,135980938,136382936,136349562,136407479,136474098],\"top\":[695,158,489,262,366,57,590,694]}},\"id\":\"306a34aa-89ba-46bc-b730-d268e3669177\",\"type\":\"ColumnDataSource\"},{\"attributes\":{\"level\":\"glyph\",\"plot\":{\"id\":\"8b89cf7f-d9d5-46f8-af25-3539ead91033\",\"subtype\":\"Figure\",\"type\":\"Plot\"},\"source\":{\"id\":\"ec9980d2-5f0c-4a82-a392-d8edbe922ff8\",\"type\":\"ColumnDataSource\"},\"text\":{\"field\":\"vals\"},\"text_align\":\"center\",\"text_baseline\":\"middle\",\"text_font_size\":{\"value\":\"8pt\"},\"x\":{\"field\":\"x\"},\"y\":{\"field\":\"y\"}},\"id\":\"022c4bdc-8818-4be2-9c9d-ddaafc077a88\",\"type\":\"LabelSet\"},{\"attributes\":{\"dimension\":1,\"plot\":{\"id\":\"8b89cf7f-d9d5-46f8-af25-3539ead91033\",\"subtype\":\"Figure\",\"type\":\"Plot\"},\"ticker\":{\"id\":\"be1134e2-ec1d-4f99-908b-26c6b43df6e9\",\"type\":\"BasicTicker\"}},\"id\":\"e05ffd6c-d9cf-4180-8e1e-1f8b96712f0a\",\"type\":\"Grid\"},{\"attributes\":{},\"id\":\"863a6a84-6aae-4e53-86be-620ce34f90d0\",\"type\":\"BasicTickFormatter\"},{\"attributes\":{\"plot\":{\"id\":\"8b89cf7f-d9d5-46f8-af25-3539ead91033\",\"subtype\":\"Figure\",\"type\":\"Plot\"}},\"id\":\"fad0b5ea-5678-4d0d-8a79-2ce451987493\",\"type\":\"WheelZoomTool\"},{\"attributes\":{\"formatter\":{\"id\":\"863a6a84-6aae-4e53-86be-620ce34f90d0\",\"type\":\"BasicTickFormatter\"},\"plot\":{\"id\":\"8b89cf7f-d9d5-46f8-af25-3539ead91033\",\"subtype\":\"Figure\",\"type\":\"Plot\"},\"ticker\":{\"id\":\"be1134e2-ec1d-4f99-908b-26c6b43df6e9\",\"type\":\"BasicTicker\"},\"visible\":null},\"id\":\"678cdb92-4e7b-4d35-861a-3eb26e18b66c\",\"type\":\"LinearAxis\"},{\"attributes\":{\"below\":[{\"id\":\"ac5f2297-1cd5-4488-933e-514139eaf468\",\"type\":\"LinearAxis\"}],\"left\":[{\"id\":\"678cdb92-4e7b-4d35-861a-3eb26e18b66c\",\"type\":\"LinearAxis\"}],\"plot_height\":800,\"plot_width\":900,\"renderers\":[{\"id\":\"ac5f2297-1cd5-4488-933e-514139eaf468\",\"type\":\"LinearAxis\"},{\"id\":\"bd3a649d-9b40-493c-ba52-ba51c14c4907\",\"type\":\"Grid\"},{\"id\":\"678cdb92-4e7b-4d35-861a-3eb26e18b66c\",\"type\":\"LinearAxis\"},{\"id\":\"e05ffd6c-d9cf-4180-8e1e-1f8b96712f0a\",\"type\":\"Grid\"},{\"id\":\"add4cc81-9acb-4c2b-ae1a-aa5751296b87\",\"type\":\"BoxAnnotation\"},{\"id\":\"bbbbec92-ad29-4c71-8418-8ff0f19e5eeb\",\"type\":\"GlyphRenderer\"},{\"id\":\"478cea6d-55e4-4db6-9869-9bbfa7c1f954\",\"type\":\"GlyphRenderer\"},{\"id\":\"f5389619-8eab-4a0d-9d09-6652ce150bf6\",\"type\":\"LabelSet\"},{\"id\":\"a323cc90-429e-42b3-87ca-27b71054ed94\",\"type\":\"GlyphRenderer\"},{\"id\":\"022c4bdc-8818-4be2-9c9d-ddaafc077a88\",\"type\":\"LabelSet\"}],\"title\":{\"id\":\"e58def2e-e8ca-4697-a6c3-d18ed7e6878d\",\"type\":\"Title\"},\"tool_events\":{\"id\":\"3ced0285-041b-42f3-a608-1d8f286ef516\",\"type\":\"ToolEvents\"},\"toolbar\":{\"id\":\"909ce6e5-5e5a-4517-902a-76f486f152f1\",\"type\":\"Toolbar\"},\"toolbar_location\":null,\"x_range\":{\"id\":\"fc505af1-39c8-4e7f-bffe-cdf2928a5952\",\"type\":\"Range1d\"},\"y_range\":{\"id\":\"722ba163-141f-4dc3-9fae-3b349d19ab85\",\"type\":\"Range1d\"}},\"id\":\"8b89cf7f-d9d5-46f8-af25-3539ead91033\",\"subtype\":\"Figure\",\"type\":\"Plot\"},{\"attributes\":{\"bottom\":{\"field\":\"bottom\"},\"fill_alpha\":{\"value\":0.1},\"fill_color\":{\"value\":\"#1f77b4\"},\"left\":{\"field\":\"left\"},\"line_alpha\":{\"value\":0.1},\"line_color\":{\"value\":\"#1f77b4\"},\"right\":{\"field\":\"right\"},\"top\":{\"field\":\"top\"}},\"id\":\"05a9878d-f79d-4f77-a67f-e9074d84d60a\",\"type\":\"Quad\"},{\"attributes\":{\"plot\":null,\"text\":null},\"id\":\"e58def2e-e8ca-4697-a6c3-d18ed7e6878d\",\"type\":\"Title\"},{\"attributes\":{\"plot\":{\"id\":\"8b89cf7f-d9d5-46f8-af25-3539ead91033\",\"subtype\":\"Figure\",\"type\":\"Plot\"}},\"id\":\"e08a0bb2-5f5f-432c-82f3-97d092e7b8dd\",\"type\":\"ResetTool\"},{\"attributes\":{\"plot\":{\"id\":\"8b89cf7f-d9d5-46f8-af25-3539ead91033\",\"subtype\":\"Figure\",\"type\":\"Plot\"}},\"id\":\"bd9eac3b-e59b-4c7d-be2a-703221d253e1\",\"type\":\"PanTool\"},{\"attributes\":{\"bottom\":{\"field\":\"bottom\"},\"fill_alpha\":{\"value\":0.1},\"fill_color\":{\"value\":\"#1f77b4\"},\"left\":{\"field\":\"left\"},\"line_alpha\":{\"value\":0.1},\"line_color\":{\"value\":\"#1f77b4\"},\"right\":{\"field\":\"right\"},\"top\":{\"field\":\"top\"}},\"id\":\"6c756140-fe6c-468e-9d95-96e1ce3c9b43\",\"type\":\"Quad\"},{\"attributes\":{\"data_source\":{\"id\":\"ed5966a3-51cc-4195-8a23-83beef2f494c\",\"type\":\"ColumnDataSource\"},\"glyph\":{\"id\":\"29da9972-5abd-408e-a9e7-8c16281f3a22\",\"type\":\"MultiLine\"},\"hover_glyph\":null,\"nonselection_glyph\":{\"id\":\"a9038c10-e53c-4ad9-b726-41571c79b856\",\"type\":\"MultiLine\"},\"selection_glyph\":null},\"id\":\"478cea6d-55e4-4db6-9869-9bbfa7c1f954\",\"type\":\"GlyphRenderer\"},{\"attributes\":{\"level\":\"glyph\",\"plot\":{\"id\":\"8b89cf7f-d9d5-46f8-af25-3539ead91033\",\"subtype\":\"Figure\",\"type\":\"Plot\"},\"source\":{\"id\":\"1cc48fef-c06a-470c-b27d-2502b53ff0e1\",\"type\":\"ColumnDataSource\"},\"text\":{\"field\":\"vals\"},\"text_font_size\":{\"value\":\"9pt\"},\"text_font_style\":\"bold\",\"x\":{\"field\":\"x\"},\"y\":{\"field\":\"y\"}},\"id\":\"f5389619-8eab-4a0d-9d09-6652ce150bf6\",\"type\":\"LabelSet\"},{\"attributes\":{\"plot\":{\"id\":\"8b89cf7f-d9d5-46f8-af25-3539ead91033\",\"subtype\":\"Figure\",\"type\":\"Plot\"},\"ticker\":{\"id\":\"43ec1b40-47b0-43dc-ac80-d8e63137a8f2\",\"type\":\"BasicTicker\"}},\"id\":\"bd3a649d-9b40-493c-ba52-ba51c14c4907\",\"type\":\"Grid\"}],\"root_ids\":[\"8b89cf7f-d9d5-46f8-af25-3539ead91033\"]},\"title\":\"Bokeh Application\",\"version\":\"0.12.0\"}};\n",
       "            var render_items = [{\"docid\":\"99136ec1-4a9a-4a8a-a613-bc3741354383\",\"elementid\":\"07ab933e-c536-43a4-a6d4-79f3628af2bf\",\"modelid\":\"8b89cf7f-d9d5-46f8-af25-3539ead91033\",\"notebook_comms_target\":\"cdb95006-258a-45bf-95ef-5a4c7e4e1c9e\"}];\n",
       "            \n",
       "            Bokeh.embed.embed_items(docs_json, render_items);\n",
       "        });\n",
       "      },\n",
       "      function(Bokeh) {\n",
       "      }\n",
       "    ];\n",
       "  \n",
       "    function run_inline_js() {\n",
       "      for (var i = 0; i < inline_js.length; i++) {\n",
       "        inline_js[i](window.Bokeh);\n",
       "      }\n",
       "    }\n",
       "  \n",
       "    if (window._bokeh_is_loading === 0) {\n",
       "      console.log(\"Bokeh: BokehJS loaded, going straight to plotting\");\n",
       "      run_inline_js();\n",
       "    } else {\n",
       "      load_libs(js_urls, function() {\n",
       "        console.log(\"Bokeh: BokehJS plotting callback run at\", now());\n",
       "        run_inline_js();\n",
       "      });\n",
       "    }\n",
       "  }(this));\n",
       "</script>"
      ]
     },
     "metadata": {},
     "output_type": "display_data"
    },
    {
     "data": {
      "text/html": [
       "<p><code>&lt;Bokeh Notebook handle for <strong>In[4]</strong>&gt;</code></p>"
      ],
      "text/plain": [
       "<bokeh.io._CommsHandle at 0x7f165cc5d3d0>"
      ]
     },
     "execution_count": 4,
     "metadata": {},
     "output_type": "execute_result"
    }
   ],
   "source": [
    "plt_obj = dm.subset_yes_no([dm.di_6_1503, dm.di_26_1414], min_match=0.8)\n",
    "plt = plt_obj.do_plot()\n",
    "show(plt)"
   ]
  },
  {
   "cell_type": "code",
   "execution_count": 5,
   "metadata": {
    "collapsed": false
   },
   "outputs": [
    {
     "data": {
      "text/html": [
       "<table>\n",
       "<thead><tr><th style=\"text-align:center\">index</th><th style=\"text-align:center\">first</th><th style=\"text-align:center\">length</th><th style=\"text-align:center\">snps</th><th style=\"text-align:center\" colspan=2>alleles</th><th style=\"text-align:center\" colspan=2>matches</th><th style=\"text-align:center\" colspan=2>afr</th><th style=\"text-align:center\" colspan=2>afx</th><th style=\"text-align:center\" colspan=2>amr</th><th style=\"text-align:center\" colspan=2>eas</th><th style=\"text-align:center\" colspan=2>eur</th><th style=\"text-align:center\" colspan=2>sas</th><th style=\"text-align:center\" colspan=2>sax</th></tr></thead>\n",
       "<tr class=\"even\"><td style=\"text-align: right;\">353283</td><td style=\"text-align: right;\">135,771,974</td><td style=\"text-align: right;\">368,330</td><td style=\"text-align: right;\">6</td><td style=\"text-align: right;\">1503</td><td style=\"text-align: right;\">0.84</td><td style=\"text-align: right;\">1270</td><td style=\"text-align: right;\">1.00</td><td style=\"text-align: right;\">13</td><td style=\"text-align: right;\">0.05</td><td style=\"text-align: right;\">37</td><td style=\"text-align: right;\">0.46</td><td style=\"text-align: right;\">276</td><td style=\"text-align: right;\">1.57</td><td style=\"text-align: right;\">115</td><td style=\"text-align: right;\">0.45</td><td style=\"text-align: right;\">602</td><td style=\"text-align: right;\">2.36</td><td style=\"text-align: right;\">107</td><td style=\"text-align: right;\">1.16</td><td style=\"text-align: right;\">120</td><td style=\"text-align: right;\">0.77</td></tr>\n",
       "<tr><td style=\"text-align: right;\">353797</td><td style=\"text-align: right;\">136,398,174</td><td style=\"text-align: right;\">75,924</td><td style=\"text-align: right;\">26</td><td style=\"text-align: right;\">1414</td><td style=\"text-align: right;\">0.90</td><td style=\"text-align: right;\">1270</td><td style=\"text-align: right;\">1.00</td><td style=\"text-align: right;\">13</td><td style=\"text-align: right;\">0.05</td><td style=\"text-align: right;\">37</td><td style=\"text-align: right;\">0.46</td><td style=\"text-align: right;\">276</td><td style=\"text-align: right;\">1.57</td><td style=\"text-align: right;\">115</td><td style=\"text-align: right;\">0.45</td><td style=\"text-align: right;\">602</td><td style=\"text-align: right;\">2.36</td><td style=\"text-align: right;\">107</td><td style=\"text-align: right;\">1.16</td><td style=\"text-align: right;\">120</td><td style=\"text-align: right;\">0.77</td></tr>\n",
       "<tr class=\"even\"><td style=\"text-align: right;\">353604</td><td style=\"text-align: right;\">136,092,061</td><td style=\"text-align: right;\">315,418</td><td style=\"text-align: right;\">4</td><td style=\"text-align: right;\">911</td><td style=\"text-align: right;\">1.00</td><td style=\"text-align: right;\">910</td><td style=\"text-align: right;\">0.72</td><td style=\"text-align: right;\">2</td><td style=\"text-align: right;\">0.01</td><td style=\"text-align: right;\">31</td><td style=\"text-align: right;\">0.54</td><td style=\"text-align: right;\">205</td><td style=\"text-align: right;\">1.63</td><td style=\"text-align: right;\">0</td><td style=\"text-align: right;\">0.00</td><td style=\"text-align: right;\">524</td><td style=\"text-align: right;\">2.87</td><td style=\"text-align: right;\">71</td><td style=\"text-align: right;\">1.07</td><td style=\"text-align: right;\">77</td><td style=\"text-align: right;\">0.69</td></tr>\n",
       "<tr><td style=\"text-align: right;\">353380</td><td style=\"text-align: right;\">135,837,906</td><td style=\"text-align: right;\">870,076</td><td style=\"text-align: right;\">11</td><td style=\"text-align: right;\">765</td><td style=\"text-align: right;\">1.00</td><td style=\"text-align: right;\">765</td><td style=\"text-align: right;\">0.60</td><td style=\"text-align: right;\">2</td><td style=\"text-align: right;\">0.01</td><td style=\"text-align: right;\">32</td><td style=\"text-align: right;\">0.67</td><td style=\"text-align: right;\">146</td><td style=\"text-align: right;\">1.38</td><td style=\"text-align: right;\">0</td><td style=\"text-align: right;\">0.00</td><td style=\"text-align: right;\">484</td><td style=\"text-align: right;\">3.15</td><td style=\"text-align: right;\">56</td><td style=\"text-align: right;\">1.01</td><td style=\"text-align: right;\">45</td><td style=\"text-align: right;\">0.48</td></tr>\n",
       "<tr class=\"even\"><td style=\"text-align: right;\">353444</td><td style=\"text-align: right;\">135,889,881</td><td style=\"text-align: right;\">493,055</td><td style=\"text-align: right;\">6</td><td style=\"text-align: right;\">57</td><td style=\"text-align: right;\">0.93</td><td style=\"text-align: right;\">53</td><td style=\"text-align: right;\">0.04</td><td style=\"text-align: right;\">2</td><td style=\"text-align: right;\">0.19</td><td style=\"text-align: right;\">1</td><td style=\"text-align: right;\">0.30</td><td style=\"text-align: right;\">14</td><td style=\"text-align: right;\">1.91</td><td style=\"text-align: right;\">0</td><td style=\"text-align: right;\">0.00</td><td style=\"text-align: right;\">28</td><td style=\"text-align: right;\">2.63</td><td style=\"text-align: right;\">5</td><td style=\"text-align: right;\">1.30</td><td style=\"text-align: right;\">3</td><td style=\"text-align: right;\">0.46</td></tr>\n",
       "<tr><td style=\"text-align: right;\">353407</td><td style=\"text-align: right;\">135,859,157</td><td style=\"text-align: right;\">121,781</td><td style=\"text-align: right;\">6</td><td style=\"text-align: right;\">35</td><td style=\"text-align: right;\">0.97</td><td style=\"text-align: right;\">34</td><td style=\"text-align: right;\">0.03</td><td style=\"text-align: right;\">1</td><td style=\"text-align: right;\">0.15</td><td style=\"text-align: right;\">1</td><td style=\"text-align: right;\">0.47</td><td style=\"text-align: right;\">12</td><td style=\"text-align: right;\">2.55</td><td style=\"text-align: right;\">0</td><td style=\"text-align: right;\">0.00</td><td style=\"text-align: right;\">17</td><td style=\"text-align: right;\">2.49</td><td style=\"text-align: right;\">2</td><td style=\"text-align: right;\">0.81</td><td style=\"text-align: right;\">1</td><td style=\"text-align: right;\">0.24</td></tr>\n",
       "<tr class=\"even\"><td style=\"text-align: right;\">353315</td><td style=\"text-align: right;\">135,786,061</td><td style=\"text-align: right;\">800,623</td><td style=\"text-align: right;\">7</td><td style=\"text-align: right;\">22</td><td style=\"text-align: right;\">1.00</td><td style=\"text-align: right;\">22</td><td style=\"text-align: right;\">0.02</td><td style=\"text-align: right;\">0</td><td style=\"text-align: right;\">0.00</td><td style=\"text-align: right;\">0</td><td style=\"text-align: right;\">0.00</td><td style=\"text-align: right;\">0</td><td style=\"text-align: right;\">0.00</td><td style=\"text-align: right;\">19</td><td style=\"text-align: right;\">4.29</td><td style=\"text-align: right;\">0</td><td style=\"text-align: right;\">0.00</td><td style=\"text-align: right;\">3</td><td style=\"text-align: right;\">1.88</td><td style=\"text-align: right;\">0</td><td style=\"text-align: right;\">0.00</td></tr>\n",
       "<tr><td style=\"text-align: right;\">353570</td><td style=\"text-align: right;\">136,039,834</td><td style=\"text-align: right;\">309,728</td><td style=\"text-align: right;\">7</td><td style=\"text-align: right;\">20</td><td style=\"text-align: right;\">0.85</td><td style=\"text-align: right;\">17</td><td style=\"text-align: right;\">0.01</td><td style=\"text-align: right;\">0</td><td style=\"text-align: right;\">0.00</td><td style=\"text-align: right;\">1</td><td style=\"text-align: right;\">0.94</td><td style=\"text-align: right;\">4</td><td style=\"text-align: right;\">1.70</td><td style=\"text-align: right;\">0</td><td style=\"text-align: right;\">0.00</td><td style=\"text-align: right;\">11</td><td style=\"text-align: right;\">3.22</td><td style=\"text-align: right;\">0</td><td style=\"text-align: right;\">0.00</td><td style=\"text-align: right;\">1</td><td style=\"text-align: right;\">0.48</td></tr>\n",
       "</table>"
      ],
      "text/plain": [
       "<IPython.core.display.HTML object>"
      ]
     },
     "execution_count": 5,
     "metadata": {},
     "output_type": "execute_result"
    }
   ],
   "source": [
    "HTML(plt_obj.get_html())"
   ]
  },
  {
   "cell_type": "markdown",
   "metadata": {},
   "source": [
    "<div style=\"width:700px\">\n",
    "<p>\n",
    "The plot below shows the most specific series in the region expressed by samples that express\n",
    "the root of the EUR tree.  The most specific series is the one expressed by the smallest number of\n",
    "samples.  None of the 765 samples that express the lactase persistence series 11_765 express\n",
    "a more specific series in this region.\n",
    "</div>"
   ]
  },
  {
   "cell_type": "code",
   "execution_count": 6,
   "metadata": {
    "collapsed": false
   },
   "outputs": [
    {
     "data": {
      "text/html": [
       "\n",
       "\n",
       "    <div class=\"bk-root\">\n",
       "        <div class=\"plotdiv\" id=\"629e6213-df06-4cf8-9da4-73c27e5c74ec\"></div>\n",
       "    </div>\n",
       "<script type=\"text/javascript\">\n",
       "  \n",
       "  (function(global) {\n",
       "    function now() {\n",
       "      return new Date();\n",
       "    }\n",
       "  \n",
       "    if (typeof (window._bokeh_onload_callbacks) === \"undefined\") {\n",
       "      window._bokeh_onload_callbacks = [];\n",
       "    }\n",
       "  \n",
       "    function run_callbacks() {\n",
       "      window._bokeh_onload_callbacks.forEach(function(callback) { callback() });\n",
       "      delete window._bokeh_onload_callbacks\n",
       "      console.info(\"Bokeh: all callbacks have finished\");\n",
       "    }\n",
       "  \n",
       "    function load_libs(js_urls, callback) {\n",
       "      window._bokeh_onload_callbacks.push(callback);\n",
       "      if (window._bokeh_is_loading > 0) {\n",
       "        console.log(\"Bokeh: BokehJS is being loaded, scheduling callback at\", now());\n",
       "        return null;\n",
       "      }\n",
       "      if (js_urls == null || js_urls.length === 0) {\n",
       "        run_callbacks();\n",
       "        return null;\n",
       "      }\n",
       "      console.log(\"Bokeh: BokehJS not loaded, scheduling load and callback at\", now());\n",
       "      window._bokeh_is_loading = js_urls.length;\n",
       "      for (var i = 0; i < js_urls.length; i++) {\n",
       "        var url = js_urls[i];\n",
       "        var s = document.createElement('script');\n",
       "        s.src = url;\n",
       "        s.async = false;\n",
       "        s.onreadystatechange = s.onload = function() {\n",
       "          window._bokeh_is_loading--;\n",
       "          if (window._bokeh_is_loading === 0) {\n",
       "            console.log(\"Bokeh: all BokehJS libraries loaded\");\n",
       "            run_callbacks()\n",
       "          }\n",
       "        };\n",
       "        s.onerror = function() {\n",
       "          console.warn(\"failed to load library \" + url);\n",
       "        };\n",
       "        console.log(\"Bokeh: injecting script tag for BokehJS library: \", url);\n",
       "        document.getElementsByTagName(\"head\")[0].appendChild(s);\n",
       "      }\n",
       "    };var element = document.getElementById(\"629e6213-df06-4cf8-9da4-73c27e5c74ec\");\n",
       "    if (element == null) {\n",
       "      console.log(\"Bokeh: ERROR: autoload.js configured with elementid '629e6213-df06-4cf8-9da4-73c27e5c74ec' but no matching script tag was found. \")\n",
       "      return false;\n",
       "    }\n",
       "  \n",
       "    var js_urls = [];\n",
       "  \n",
       "    var inline_js = [\n",
       "      function(Bokeh) {\n",
       "        Bokeh.$(function() {\n",
       "            var docs_json = {\"b9a78de8-9c50-4424-a924-7158e1b62d23\":{\"roots\":{\"references\":[{\"attributes\":{\"callback\":null,\"end\":1038},\"id\":\"42e7959e-8564-4531-b916-97bacd75c4b0\",\"type\":\"Range1d\"},{\"attributes\":{\"line_alpha\":{\"value\":0.1},\"line_color\":{\"value\":\"#1f77b4\"},\"xs\":{\"field\":\"xs\"},\"ys\":{\"field\":\"ys\"}},\"id\":\"b5fd14ef-7c45-4a20-a18a-73335ef375e3\",\"type\":\"MultiLine\"},{\"attributes\":{\"callback\":null,\"column_names\":[\"right\",\"bottom\",\"top\",\"left\",\"fill_color\"],\"data\":{\"bottom\":[50,86,122,158,196,232,268,304,340,382,428,464,500,536,572,608,677,713,749,803,839,875,911],\"fill_color\":[\"#ff0000\",\"#ff00ff\",\"#00ff00\",\"#ffff00\",\"#ffff00\",\"#61c461\",\"#ff0000\",\"#ff0000\",\"#ff00ff\",\"#00ff00\",\"#00ff00\",\"#c4c461\",\"#ffff00\",\"#c46161\",\"#c46161\",\"#00ff00\",\"#61c4c4\",\"#808080\",\"#00ff00\",\"#808080\",\"#808080\",\"#808080\",\"#61c461\"],\"left\":[136504541,136243714,136039834,135786061,136687844,136648736,136608339,135759628,135859157,135889881,136560126,136596162,136651773,136605402,136603638,135837906,136514709,136494985,136092061,136556805,136652491,136652953,136398174],\"right\":[136528224,136351532,136349562,136586684,136709809,136762850,136738273,136443550,135980938,136382936,136742080,136785729,136774627,136624686,136632125,136707982,136543147,136773638,136407479,136747085,136732772,136761175,136474098],\"top\":[56,92,128,166,202,238,274,310,352,398,434,470,506,542,578,647,683,719,773,809,845,881,938]}},\"id\":\"b2419d87-6a0b-415e-8721-f5e10cef57ee\",\"type\":\"ColumnDataSource\"},{\"attributes\":{\"formatter\":{\"id\":\"8d11c377-24ca-4c25-8378-8d84c5ba99e5\",\"type\":\"BasicTickFormatter\"},\"plot\":{\"id\":\"5ed89de0-cc9f-4501-94ac-374be6db8ebd\",\"subtype\":\"Figure\",\"type\":\"Plot\"},\"ticker\":{\"id\":\"d11f8f96-5226-4df3-ae2d-4571aba73017\",\"type\":\"BasicTicker\"},\"visible\":null},\"id\":\"8a85d58c-e8af-4d66-b6fe-62f1586b2809\",\"type\":\"LinearAxis\"},{\"attributes\":{\"level\":\"glyph\",\"plot\":{\"id\":\"5ed89de0-cc9f-4501-94ac-374be6db8ebd\",\"subtype\":\"Figure\",\"type\":\"Plot\"},\"source\":{\"id\":\"817988bd-cbf8-4b35-a514-8c21ace3f764\",\"type\":\"ColumnDataSource\"},\"text\":{\"field\":\"vals\"},\"text_align\":\"center\",\"text_baseline\":\"middle\",\"text_font_size\":{\"value\":\"8pt\"},\"x\":{\"field\":\"x\"},\"y\":{\"field\":\"y\"}},\"id\":\"30481ba1-baf5-4870-a580-959a2f31306d\",\"type\":\"LabelSet\"},{\"attributes\":{\"callback\":null,\"column_names\":[\"y\",\"x\",\"vals\"],\"data\":{\"vals\":[\"RAB3GAP1\",\"ZRANB3\",\"R3HDM1\",\"UBXN4\",\"LCT\",\"MCM6\",\"DARS\"],\"x\":[135869057.0,136122878.0,136385961.0,136520911.0,136570082.5,136615621.5,136703738.0],\"y\":[998.0,998.0,998.0,998.0,998.0,998.0,998.0]}},\"id\":\"817988bd-cbf8-4b35-a514-8c21ace3f764\",\"type\":\"ColumnDataSource\"},{\"attributes\":{\"bottom_units\":\"screen\",\"fill_alpha\":{\"value\":0.5},\"fill_color\":{\"value\":\"lightgrey\"},\"left_units\":\"screen\",\"level\":\"overlay\",\"line_alpha\":{\"value\":1.0},\"line_color\":{\"value\":\"black\"},\"line_dash\":[4,4],\"line_width\":{\"value\":2},\"plot\":null,\"render_mode\":\"css\",\"right_units\":\"screen\",\"top_units\":\"screen\"},\"id\":\"4b573bf6-68a5-4a10-a743-9581684877c3\",\"type\":\"BoxAnnotation\"},{\"attributes\":{\"line_color\":{\"field\":\"line_color\"},\"xs\":{\"field\":\"xs\"},\"ys\":{\"field\":\"ys\"}},\"id\":\"fa96c0bc-3954-4719-b3b2-9432177a1363\",\"type\":\"MultiLine\"},{\"attributes\":{},\"id\":\"8d11c377-24ca-4c25-8378-8d84c5ba99e5\",\"type\":\"BasicTickFormatter\"},{\"attributes\":{\"dimension\":1,\"plot\":{\"id\":\"5ed89de0-cc9f-4501-94ac-374be6db8ebd\",\"subtype\":\"Figure\",\"type\":\"Plot\"},\"ticker\":{\"id\":\"d11f8f96-5226-4df3-ae2d-4571aba73017\",\"type\":\"BasicTicker\"}},\"id\":\"4b1670c9-33d7-44fc-be05-b554ab8940e1\",\"type\":\"Grid\"},{\"attributes\":{\"level\":\"glyph\",\"plot\":{\"id\":\"5ed89de0-cc9f-4501-94ac-374be6db8ebd\",\"subtype\":\"Figure\",\"type\":\"Plot\"},\"source\":{\"id\":\"5ac26a95-6c1a-46ae-af1d-1e3f8d64aff7\",\"type\":\"ColumnDataSource\"},\"text\":{\"field\":\"vals\"},\"text_font_size\":{\"value\":\"9pt\"},\"text_font_style\":\"bold\",\"x\":{\"field\":\"x\"},\"y\":{\"field\":\"y\"}},\"id\":\"cb771bbf-c2a5-4d7f-8c34-4c2b7e8dfe60\",\"type\":\"LabelSet\"},{\"attributes\":{\"plot\":{\"id\":\"5ed89de0-cc9f-4501-94ac-374be6db8ebd\",\"subtype\":\"Figure\",\"type\":\"Plot\"}},\"id\":\"2adb08d2-7a0d-42f4-9975-04daa8e0058e\",\"type\":\"WheelZoomTool\"},{\"attributes\":{\"plot\":{\"id\":\"5ed89de0-cc9f-4501-94ac-374be6db8ebd\",\"subtype\":\"Figure\",\"type\":\"Plot\"},\"ticker\":{\"id\":\"b8afcc47-156a-451f-a206-45a72fed8f84\",\"type\":\"BasicTicker\"}},\"id\":\"b30d4771-fea2-403f-925d-37f20a664615\",\"type\":\"Grid\"},{\"attributes\":{\"data_source\":{\"id\":\"0d740d98-1315-4b5b-a395-12b5118c9195\",\"type\":\"ColumnDataSource\"},\"glyph\":{\"id\":\"9706bb30-3068-463f-9527-164542ee4fcb\",\"type\":\"Quad\"},\"hover_glyph\":null,\"nonselection_glyph\":{\"id\":\"14a7f07b-3153-4909-8838-676731f9a972\",\"type\":\"Quad\"},\"selection_glyph\":null},\"id\":\"3c800a5c-f9a7-4a3b-a287-6d162b184171\",\"type\":\"GlyphRenderer\"},{\"attributes\":{\"active_drag\":\"auto\",\"active_scroll\":\"auto\",\"active_tap\":\"auto\",\"tools\":[{\"id\":\"cfdd2fb0-434a-4377-9c3b-765f87f98e18\",\"type\":\"PanTool\"},{\"id\":\"2adb08d2-7a0d-42f4-9975-04daa8e0058e\",\"type\":\"WheelZoomTool\"},{\"id\":\"bbbabcef-0123-43e6-9b37-972150aa276b\",\"type\":\"BoxZoomTool\"},{\"id\":\"25cd01be-1b7d-46a2-a0d0-f571b338b342\",\"type\":\"SaveTool\"},{\"id\":\"884a50be-354b-4d5c-a38e-b515d18fc775\",\"type\":\"ResetTool\"},{\"id\":\"b1000f5b-355c-4d20-9f3c-791ffca81cc2\",\"type\":\"HelpTool\"}]},\"id\":\"d5b5847b-e933-4be9-95ff-3d0b58d1eb59\",\"type\":\"Toolbar\"},{\"attributes\":{\"callback\":null,\"column_names\":[\"y\",\"x\",\"vals\"],\"data\":{\"vals\":[\"1\",\"1\",\"17\",\"22\",\"1\",\"1\",\"1\",\"34\",\"53\",\"1\",\"3\",\"1\",\"765\",\"5\",\"135\",\"9\",\"7\",\"202\"],\"x\":[136539660,136362968,136360998,136598120,136721245,136749709,136454986,135992374,136394372,136753516,136636122,136643561,136719418,136554583,136418915,136758521,136744208,136485534],\"y\":[53,89,125,162,199,271,307,346,390,431,539,575,627,680,761,806,842,924]}},\"id\":\"199cc6df-aa4a-46ec-84cf-792cbff19e87\",\"type\":\"ColumnDataSource\"},{\"attributes\":{\"bottom\":{\"field\":\"bottom\"},\"fill_color\":{\"value\":\"white\"},\"left\":{\"field\":\"left\"},\"right\":{\"field\":\"right\"},\"top\":{\"field\":\"top\"}},\"id\":\"9706bb30-3068-463f-9527-164542ee4fcb\",\"type\":\"Quad\"},{\"attributes\":{\"below\":[{\"id\":\"9787e8a0-28a6-4c57-9e90-4766cf622f20\",\"type\":\"LinearAxis\"}],\"left\":[{\"id\":\"8a85d58c-e8af-4d66-b6fe-62f1586b2809\",\"type\":\"LinearAxis\"}],\"plot_height\":1038,\"plot_width\":900,\"renderers\":[{\"id\":\"9787e8a0-28a6-4c57-9e90-4766cf622f20\",\"type\":\"LinearAxis\"},{\"id\":\"b30d4771-fea2-403f-925d-37f20a664615\",\"type\":\"Grid\"},{\"id\":\"8a85d58c-e8af-4d66-b6fe-62f1586b2809\",\"type\":\"LinearAxis\"},{\"id\":\"4b1670c9-33d7-44fc-be05-b554ab8940e1\",\"type\":\"Grid\"},{\"id\":\"4b573bf6-68a5-4a10-a743-9581684877c3\",\"type\":\"BoxAnnotation\"},{\"id\":\"b23ab8bd-98f8-449d-84ab-9b27518b3ae1\",\"type\":\"GlyphRenderer\"},{\"id\":\"c9d3b024-a809-426a-abcc-e4b4f55a223b\",\"type\":\"GlyphRenderer\"},{\"id\":\"cb771bbf-c2a5-4d7f-8c34-4c2b7e8dfe60\",\"type\":\"LabelSet\"},{\"id\":\"034d01b4-c58c-41ed-ac37-53dd0edc2cb6\",\"type\":\"LabelSet\"},{\"id\":\"6fbdb2af-4ae7-4fa2-8b57-51d622f74e52\",\"type\":\"LabelSet\"},{\"id\":\"3c800a5c-f9a7-4a3b-a287-6d162b184171\",\"type\":\"GlyphRenderer\"},{\"id\":\"30481ba1-baf5-4870-a580-959a2f31306d\",\"type\":\"LabelSet\"}],\"title\":{\"id\":\"bcc5a76c-74b9-43e1-9bdd-9f586c05f8ae\",\"type\":\"Title\"},\"tool_events\":{\"id\":\"6520118b-8604-40ac-815f-c8216cc4d5ea\",\"type\":\"ToolEvents\"},\"toolbar\":{\"id\":\"d5b5847b-e933-4be9-95ff-3d0b58d1eb59\",\"type\":\"Toolbar\"},\"toolbar_location\":null,\"x_range\":{\"id\":\"8135f955-93cc-4df2-8d7f-8cac494f44c0\",\"type\":\"Range1d\"},\"y_range\":{\"id\":\"42e7959e-8564-4531-b916-97bacd75c4b0\",\"type\":\"Range1d\"}},\"id\":\"5ed89de0-cc9f-4501-94ac-374be6db8ebd\",\"subtype\":\"Figure\",\"type\":\"Plot\"},{\"attributes\":{\"plot\":{\"id\":\"5ed89de0-cc9f-4501-94ac-374be6db8ebd\",\"subtype\":\"Figure\",\"type\":\"Plot\"}},\"id\":\"b1000f5b-355c-4d20-9f3c-791ffca81cc2\",\"type\":\"HelpTool\"},{\"attributes\":{},\"id\":\"b8afcc47-156a-451f-a206-45a72fed8f84\",\"type\":\"BasicTicker\"},{\"attributes\":{\"callback\":null,\"column_names\":[\"right\",\"bottom\",\"top\",\"left\"],\"data\":{\"bottom\":[983,983,983,983,983,983,983],\"left\":[135809835,135957574,136289083,136499189,136545415,136597196,136664254],\"right\":[135928279,136288182,136482839,136542633,136594750,136634047,136743222],\"top\":[1013,1013,1013,1013,1013,1013,1013]}},\"id\":\"0d740d98-1315-4b5b-a395-12b5118c9195\",\"type\":\"ColumnDataSource\"},{\"attributes\":{\"callback\":null,\"column_names\":[\"xs\",\"ys\",\"line_color\"],\"data\":{\"line_color\":[\"black\",\"black\",\"black\",\"black\",\"black\",\"black\",\"black\",\"black\",\"black\",\"black\",\"black\",\"black\",\"black\",\"black\",\"black\",\"black\",\"black\",\"black\",\"black\",\"black\",\"black\",\"black\",\"black\",\"black\",\"black\",\"black\",\"black\",\"black\",\"black\",\"black\",\"black\",\"black\",\"black\",\"black\",\"black\",\"black\",\"black\",\"black\",\"black\",\"black\",\"black\",\"black\",\"black\",\"black\",\"black\",\"black\",\"black\",\"black\",\"black\",\"black\",\"black\",\"black\",\"black\",\"black\",\"black\",\"black\",\"black\",\"black\",\"black\",\"black\",\"black\",\"black\",\"black\",\"black\",\"black\",\"black\",\"black\",\"black\",\"black\",\"black\",\"black\",\"black\",\"black\",\"black\",\"black\",\"black\",\"black\",\"black\",\"black\",\"black\",\"black\",\"black\",\"black\",\"black\",\"black\",\"black\",\"black\",\"black\",\"black\",\"black\",\"black\",\"black\",\"black\",\"black\",\"black\",\"black\",\"black\",\"black\",\"black\",\"black\",\"black\",\"black\",\"black\",\"black\",\"black\",\"black\",\"black\",\"black\",\"black\",\"black\",\"black\",\"black\",\"black\",\"black\",\"black\",\"black\",\"black\",\"black\",\"black\",\"black\",\"black\",\"black\",\"black\",\"black\",\"black\",\"black\",\"black\",\"black\",\"black\",\"black\",\"black\",\"black\",\"black\",\"black\",\"black\",\"black\",\"black\",\"black\",\"black\",\"black\",\"black\",\"black\",\"black\",\"black\",\"black\",\"black\",\"black\",\"black\",\"black\",\"black\",\"black\",\"black\",\"black\",\"black\",\"black\",\"black\",\"black\",\"black\",\"black\",\"black\",\"black\",\"black\",\"black\",\"black\",\"black\",\"black\",\"black\",\"black\",\"black\",\"black\",\"black\",\"black\",\"black\",\"black\",\"black\",\"black\",\"black\",\"black\",\"black\",\"black\",\"black\",\"black\",\"black\",\"black\",\"black\",\"black\",\"black\",\"black\",\"black\",\"black\",\"black\",\"black\",\"black\",\"black\",\"black\",\"black\",\"black\",\"black\",\"black\",\"black\",\"black\",\"black\",\"black\",\"black\",\"black\",\"black\",\"black\",\"black\",\"black\",\"black\",\"black\",\"black\",\"black\",\"black\",\"black\",\"black\",\"black\",\"black\",\"black\",\"black\",\"black\",\"black\",\"black\",\"black\",\"black\",\"black\",\"black\",\"black\",\"black\",\"black\",\"black\",\"black\",\"black\",\"black\",\"black\",\"black\",\"black\",\"black\",\"black\",\"black\",\"black\",\"black\",\"black\",\"black\",\"black\",\"black\",\"black\",\"black\",\"black\",\"black\",\"black\",\"black\",\"black\",\"black\",\"black\",\"black\",\"black\",\"black\",\"black\",\"black\",\"black\",\"black\",\"black\",\"black\",\"black\",\"black\",\"black\",\"black\",\"black\",\"black\",\"black\",\"black\",\"black\",\"black\",\"black\",\"black\",\"black\",\"black\",\"black\",\"black\",\"black\",\"black\",\"black\",\"black\",\"black\",\"black\",\"black\",\"black\",\"black\",\"black\",\"black\",\"black\",\"black\",\"black\",\"black\",\"black\",\"black\",\"black\",\"black\",\"black\",\"black\",\"black\",\"black\",\"black\",\"black\",\"black\",\"black\",\"black\",\"black\",\"black\",\"black\",\"black\",\"black\",\"black\",\"black\",\"black\",\"black\",\"black\",\"black\",\"black\",\"black\",\"black\",\"black\",\"black\",\"black\",\"black\",\"black\",\"black\",\"black\",\"black\",\"black\",\"black\",\"black\",\"black\",\"black\",\"black\"],\"xs\":[[136504541,136504541],[136513977,136513977],[136526501,136526501],[136528224,136528224],[136243714,136243714],[136252958,136252958],[136276448,136276448],[136280207,136280207],[136351532,136351532],[136039834,136039834],[136040506,136040506],[136108092,136108092],[136283871,136283871],[136284021,136284021],[136343363,136343363],[136349562,136349562],[135786061,135786061],[135815142,135815142],[135860442,135860442],[136488551,136488551],[136516760,136516760],[136562320,136562320],[136586684,136586684],[136687844,136687844],[136688159,136688159],[136688517,136688517],[136709809,136709809],[136648736,136648736],[136705399,136705399],[136715023,136715023],[136762850,136762850],[136608339,136608339],[136637201,136637201],[136645466,136645466],[136657649,136657649],[136669367,136669367],[136671087,136671087],[136738273,136738273],[135759628,135759628],[135822319,135822319],[135846209,135846209],[135959550,135959550],[136147148,136147148],[136187567,136187567],[136191148,136191148],[136227526,136227526],[136248973,136248973],[136328222,136328222],[136337566,136337566],[136443550,136443550],[135859157,135859157],[135873466,135873466],[135925411,135925411],[135954198,135954198],[135973399,135973399],[135980938,135980938],[135889881,135889881],[135956309,135956309],[136088389,136088389],[136323321,136323321],[136361384,136361384],[136382936,136382936],[136560126,136560126],[136580744,136580744],[136657998,136657998],[136742080,136742080],[136596162,136596162],[136598316,136598316],[136599520,136599520],[136601167,136601167],[136604113,136604113],[136604610,136604610],[136604699,136604699],[136609671,136609671],[136620957,136620957],[136646667,136646667],[136683320,136683320],[136697769,136697769],[136743172,136743172],[136776381,136776381],[136784743,136784743],[136785727,136785727],[136785729,136785729],[136651773,136651773],[136653553,136653553],[136662561,136662561],[136666144,136666144],[136668014,136668014],[136668363,136668363],[136670923,136670923],[136671242,136671242],[136673605,136673605],[136674629,136674629],[136676187,136676187],[136677580,136677580],[136684994,136684994],[136691142,136691142],[136693702,136693702],[136693718,136693718],[136693984,136693984],[136694866,136694866],[136695772,136695772],[136698366,136698366],[136700927,136700927],[136702325,136702325],[136702713,136702713],[136706891,136706891],[136707277,136707277],[136710828,136710828],[136713108,136713108],[136713194,136713194],[136719313,136719313],[136724569,136724569],[136734276,136734276],[136735127,136735127],[136737090,136737090],[136738950,136738950],[136741828,136741828],[136743080,136743080],[136743310,136743310],[136746683,136746683],[136747967,136747967],[136748809,136748809],[136758353,136758353],[136758922,136758922],[136762147,136762147],[136762198,136762198],[136764012,136764012],[136764818,136764818],[136770019,136770019],[136772954,136772954],[136772959,136772959],[136772961,136772961],[136774627,136774627],[136605402,136605402],[136609320,136609320],[136611400,136611400],[136619744,136619744],[136621858,136621858],[136621941,136621941],[136624382,136624382],[136624686,136624686],[136603638,136603638],[136603690,136603690],[136604210,136604210],[136604345,136604345],[136604346,136604346],[136605111,136605111],[136612598,136612598],[136614955,136614955],[136619114,136619114],[136619213,136619213],[136623900,136623900],[136624123,136624123],[136624155,136624155],[136630170,136630170],[136631415,136631415],[136632125,136632125],[135837906,135837906],[135907088,135907088],[135954797,135954797],[136138627,136138627],[136176540,136176540],[136328890,136328890],[136381348,136381348],[136429366,136429366],[136608646,136608646],[136616754,136616754],[136707982,136707982],[136514709,136514709],[136516308,136516308],[136520100,136520100],[136521595,136521595],[136523045,136523045],[136543147,136543147],[136494985,136494985],[136497199,136497199],[136511817,136511817],[136513670,136513670],[136515458,136515458],[136516970,136516970],[136525309,136525309],[136528034,136528034],[136532225,136532225],[136535235,136535235],[136536095,136536095],[136544423,136544423],[136546927,136546927],[136552188,136552188],[136552517,136552517],[136555525,136555525],[136556480,136556480],[136560464,136560464],[136572285,136572285],[136582694,136582694],[136582809,136582809],[136584538,136584538],[136585323,136585323],[136586825,136586825],[136600662,136600662],[136612036,136612036],[136618178,136618178],[136618507,136618507],[136622543,136622543],[136624947,136624947],[136625113,136625113],[136626078,136626078],[136628121,136628121],[136632300,136632300],[136633962,136633962],[136635343,136635343],[136638113,136638113],[136640101,136640101],[136641593,136641593],[136646582,136646582],[136648077,136648077],[136648883,136648883],[136652045,136652045],[136653848,136653848],[136656094,136656094],[136661110,136661110],[136663110,136663110],[136663605,136663605],[136665162,136665162],[136665711,136665711],[136668123,136668123],[136670419,136670419],[136672680,136672680],[136673546,136673546],[136684632,136684632],[136686114,136686114],[136690425,136690425],[136690783,136690783],[136692893,136692893],[136694905,136694905],[136695694,136695694],[136695705,136695705],[136696608,136696608],[136697372,136697372],[136697468,136697468],[136700024,136700024],[136701539,136701539],[136702118,136702118],[136707480,136707480],[136710554,136710554],[136714178,136714178],[136719173,136719173],[136725459,136725459],[136734569,136734569],[136744678,136744678],[136748779,136748779],[136751488,136751488],[136754183,136754183],[136763242,136763242],[136765074,136765074],[136773638,136773638],[136092061,136092061],[136273578,136273578],[136322676,136322676],[136407479,136407479],[136556805,136556805],[136560003,136560003],[136562472,136562472],[136563248,136563248],[136565328,136565328],[136570613,136570613],[136571982,136571982],[136574305,136574305],[136578040,136578040],[136578194,136578194],[136580398,136580398],[136586828,136586828],[136590558,136590558],[136592309,136592309],[136593541,136593541],[136593694,136593694],[136595426,136595426],[136615222,136615222],[136624919,136624919],[136626004,136626004],[136628380,136628380],[136636909,136636909],[136637350,136637350],[136637622,136637622],[136639487,136639487],[136646900,136646900],[136652093,136652093],[136652859,136652859],[136655620,136655620],[136667896,136667896],[136671801,136671801],[136677192,136677192],[136683293,136683293],[136704414,136704414],[136720344,136720344],[136731066,136731066],[136733897,136733897],[136743490,136743490],[136747085,136747085],[136652491,136652491],[136652524,136652524],[136661150,136661150],[136669264,136669264],[136726567,136726567],[136732772,136732772],[136652953,136652953],[136655582,136655582],[136674028,136674028],[136684940,136684940],[136761175,136761175],[136398174,136398174],[136402117,136402117],[136403749,136403749],[136409073,136409073],[136410299,136410299],[136413359,136413359],[136416855,136416855],[136416941,136416941],[136418348,136418348],[136419961,136419961],[136420690,136420690],[136422171,136422171],[136428460,136428460],[136430866,136430866],[136432103,136432103],[136437507,136437507],[136439090,136439090],[136439517,136439517],[136444123,136444123],[136445526,136445526],[136445869,136445869],[136455600,136455600],[136456642,136456642],[136462441,136462441],[136470714,136470714],[136474098,136474098]],\"ys\":[[50,56],[50,56],[50,56],[50,56],[86,92],[86,92],[86,92],[86,92],[86,92],[122,128],[122,128],[122,128],[122,128],[122,128],[122,128],[122,128],[158,166],[158,166],[158,166],[158,166],[158,166],[158,166],[158,166],[196,202],[196,202],[196,202],[196,202],[232,238],[232,238],[232,238],[232,238],[268,274],[268,274],[268,274],[268,274],[268,274],[268,274],[268,274],[304,310],[304,310],[304,310],[304,310],[304,310],[304,310],[304,310],[304,310],[304,310],[304,310],[304,310],[304,310],[340,352],[340,352],[340,352],[340,352],[340,352],[340,352],[382,398],[382,398],[382,398],[382,398],[382,398],[382,398],[428,434],[428,434],[428,434],[428,434],[464,470],[464,470],[464,470],[464,470],[464,470],[464,470],[464,470],[464,470],[464,470],[464,470],[464,470],[464,470],[464,470],[464,470],[464,470],[464,470],[464,470],[500,506],[500,506],[500,506],[500,506],[500,506],[500,506],[500,506],[500,506],[500,506],[500,506],[500,506],[500,506],[500,506],[500,506],[500,506],[500,506],[500,506],[500,506],[500,506],[500,506],[500,506],[500,506],[500,506],[500,506],[500,506],[500,506],[500,506],[500,506],[500,506],[500,506],[500,506],[500,506],[500,506],[500,506],[500,506],[500,506],[500,506],[500,506],[500,506],[500,506],[500,506],[500,506],[500,506],[500,506],[500,506],[500,506],[500,506],[500,506],[500,506],[500,506],[500,506],[536,542],[536,542],[536,542],[536,542],[536,542],[536,542],[536,542],[536,542],[572,578],[572,578],[572,578],[572,578],[572,578],[572,578],[572,578],[572,578],[572,578],[572,578],[572,578],[572,578],[572,578],[572,578],[572,578],[572,578],[608,647],[608,647],[608,647],[608,647],[608,647],[608,647],[608,647],[608,647],[608,647],[608,647],[608,647],[677,683],[677,683],[677,683],[677,683],[677,683],[677,683],[713,719],[713,719],[713,719],[713,719],[713,719],[713,719],[713,719],[713,719],[713,719],[713,719],[713,719],[713,719],[713,719],[713,719],[713,719],[713,719],[713,719],[713,719],[713,719],[713,719],[713,719],[713,719],[713,719],[713,719],[713,719],[713,719],[713,719],[713,719],[713,719],[713,719],[713,719],[713,719],[713,719],[713,719],[713,719],[713,719],[713,719],[713,719],[713,719],[713,719],[713,719],[713,719],[713,719],[713,719],[713,719],[713,719],[713,719],[713,719],[713,719],[713,719],[713,719],[713,719],[713,719],[713,719],[713,719],[713,719],[713,719],[713,719],[713,719],[713,719],[713,719],[713,719],[713,719],[713,719],[713,719],[713,719],[713,719],[713,719],[713,719],[713,719],[713,719],[713,719],[713,719],[713,719],[713,719],[713,719],[713,719],[713,719],[713,719],[713,719],[713,719],[749,773],[749,773],[749,773],[749,773],[803,809],[803,809],[803,809],[803,809],[803,809],[803,809],[803,809],[803,809],[803,809],[803,809],[803,809],[803,809],[803,809],[803,809],[803,809],[803,809],[803,809],[803,809],[803,809],[803,809],[803,809],[803,809],[803,809],[803,809],[803,809],[803,809],[803,809],[803,809],[803,809],[803,809],[803,809],[803,809],[803,809],[803,809],[803,809],[803,809],[803,809],[803,809],[803,809],[839,845],[839,845],[839,845],[839,845],[839,845],[839,845],[875,881],[875,881],[875,881],[875,881],[875,881],[911,938],[911,938],[911,938],[911,938],[911,938],[911,938],[911,938],[911,938],[911,938],[911,938],[911,938],[911,938],[911,938],[911,938],[911,938],[911,938],[911,938],[911,938],[911,938],[911,938],[911,938],[911,938],[911,938],[911,938],[911,938],[911,938]]}},\"id\":\"ff992fe7-ad85-4e2c-8d19-28f5a3061a0f\",\"type\":\"ColumnDataSource\"},{\"attributes\":{\"callback\":null,\"column_names\":[\"y\",\"x\",\"vals\"],\"data\":{\"vals\":[\"1\",\"3\",\"2\",\"2\",\"3\"],\"x\":[136637300,136584726,136640337,136483549,136641517],\"y\":[235,467,503,716,878]}},\"id\":\"dc985c6a-41e0-49a8-a036-4da3fddbca4b\",\"type\":\"ColumnDataSource\"},{\"attributes\":{\"callback\":null,\"end\":136786630,\"start\":135757320},\"id\":\"8135f955-93cc-4df2-8d7f-8cac494f44c0\",\"type\":\"Range1d\"},{\"attributes\":{\"bottom\":{\"field\":\"bottom\"},\"fill_alpha\":{\"value\":0.1},\"fill_color\":{\"value\":\"#1f77b4\"},\"left\":{\"field\":\"left\"},\"line_alpha\":{\"value\":0.1},\"line_color\":{\"value\":\"#1f77b4\"},\"right\":{\"field\":\"right\"},\"top\":{\"field\":\"top\"}},\"id\":\"14a7f07b-3153-4909-8838-676731f9a972\",\"type\":\"Quad\"},{\"attributes\":{},\"id\":\"d11f8f96-5226-4df3-ae2d-4571aba73017\",\"type\":\"BasicTicker\"},{\"attributes\":{\"data_source\":{\"id\":\"b2419d87-6a0b-415e-8721-f5e10cef57ee\",\"type\":\"ColumnDataSource\"},\"glyph\":{\"id\":\"6997ec48-941d-4162-87b2-b525d159a4ed\",\"type\":\"Quad\"},\"hover_glyph\":null,\"nonselection_glyph\":{\"id\":\"3a3e6e67-8205-40c2-a6eb-155b1cbb07a3\",\"type\":\"Quad\"},\"selection_glyph\":null},\"id\":\"b23ab8bd-98f8-449d-84ab-9b27518b3ae1\",\"type\":\"GlyphRenderer\"},{\"attributes\":{\"bottom\":{\"field\":\"bottom\"},\"fill_color\":{\"field\":\"fill_color\"},\"left\":{\"field\":\"left\"},\"line_color\":{\"value\":null},\"right\":{\"field\":\"right\"},\"top\":{\"field\":\"top\"}},\"id\":\"6997ec48-941d-4162-87b2-b525d159a4ed\",\"type\":\"Quad\"},{\"attributes\":{},\"id\":\"6520118b-8604-40ac-815f-c8216cc4d5ea\",\"type\":\"ToolEvents\"},{\"attributes\":{\"plot\":{\"id\":\"5ed89de0-cc9f-4501-94ac-374be6db8ebd\",\"subtype\":\"Figure\",\"type\":\"Plot\"}},\"id\":\"884a50be-354b-4d5c-a38e-b515d18fc775\",\"type\":\"ResetTool\"},{\"attributes\":{\"level\":\"glyph\",\"plot\":{\"id\":\"5ed89de0-cc9f-4501-94ac-374be6db8ebd\",\"subtype\":\"Figure\",\"type\":\"Plot\"},\"source\":{\"id\":\"dc985c6a-41e0-49a8-a036-4da3fddbca4b\",\"type\":\"ColumnDataSource\"},\"text\":{\"field\":\"vals\"},\"text_align\":\"right\",\"text_baseline\":\"middle\",\"text_font_size\":{\"value\":\"9pt\"},\"text_font_style\":\"bold\",\"x\":{\"field\":\"x\"},\"y\":{\"field\":\"y\"}},\"id\":\"034d01b4-c58c-41ed-ac37-53dd0edc2cb6\",\"type\":\"LabelSet\"},{\"attributes\":{\"plot\":{\"id\":\"5ed89de0-cc9f-4501-94ac-374be6db8ebd\",\"subtype\":\"Figure\",\"type\":\"Plot\"}},\"id\":\"cfdd2fb0-434a-4377-9c3b-765f87f98e18\",\"type\":\"PanTool\"},{\"attributes\":{\"callback\":null,\"column_names\":[\"y\",\"x\",\"vals\"],\"data\":{\"vals\":[\"4_17\",\"5_18\",\"7_20\",\"7_22\",\"4_25\",\"4_26\",\"7_31\",\"12_32\",\"6_35\",\"6_57\",\"4_57\",\"17_137\",\"51_176\",\"8_328\",\"16_511\",\"11_765\",\"6_820\",\"81_857\",\"4_911\",\"39_1014\",\"6_1114\",\"5_1296\",\"26_1414\"],\"x\":[136504541,136243714,136039834,135786061,136687844,136648736,136608339,135759628,135859157,135889881,136560126,136596162,136651773,136605402,136603638,135837906,136514709,136494985,136092061,136556805,136652491,136652953,136398174],\"y\":[61.0,97.0,133.0,171.0,207.0,243.0,279.0,315.0,357.0,403.0,439.0,475.0,511.0,547.0,583.0,652.0,688.0,724.0,778.0,814.0,850.0,886.0,943.0]}},\"id\":\"5ac26a95-6c1a-46ae-af1d-1e3f8d64aff7\",\"type\":\"ColumnDataSource\"},{\"attributes\":{\"plot\":null,\"text\":null},\"id\":\"bcc5a76c-74b9-43e1-9bdd-9f586c05f8ae\",\"type\":\"Title\"},{\"attributes\":{\"formatter\":{\"id\":\"24fa4f7f-2002-487b-894d-2a02a3207043\",\"type\":\"BasicTickFormatter\"},\"plot\":{\"id\":\"5ed89de0-cc9f-4501-94ac-374be6db8ebd\",\"subtype\":\"Figure\",\"type\":\"Plot\"},\"ticker\":{\"id\":\"b8afcc47-156a-451f-a206-45a72fed8f84\",\"type\":\"BasicTicker\"}},\"id\":\"9787e8a0-28a6-4c57-9e90-4766cf622f20\",\"type\":\"LinearAxis\"},{\"attributes\":{},\"id\":\"24fa4f7f-2002-487b-894d-2a02a3207043\",\"type\":\"BasicTickFormatter\"},{\"attributes\":{\"level\":\"glyph\",\"plot\":{\"id\":\"5ed89de0-cc9f-4501-94ac-374be6db8ebd\",\"subtype\":\"Figure\",\"type\":\"Plot\"},\"source\":{\"id\":\"199cc6df-aa4a-46ec-84cf-792cbff19e87\",\"type\":\"ColumnDataSource\"},\"text\":{\"field\":\"vals\"},\"text_baseline\":\"middle\",\"text_font_size\":{\"value\":\"9pt\"},\"text_font_style\":\"bold\",\"x\":{\"field\":\"x\"},\"y\":{\"field\":\"y\"}},\"id\":\"6fbdb2af-4ae7-4fa2-8b57-51d622f74e52\",\"type\":\"LabelSet\"},{\"attributes\":{\"data_source\":{\"id\":\"ff992fe7-ad85-4e2c-8d19-28f5a3061a0f\",\"type\":\"ColumnDataSource\"},\"glyph\":{\"id\":\"fa96c0bc-3954-4719-b3b2-9432177a1363\",\"type\":\"MultiLine\"},\"hover_glyph\":null,\"nonselection_glyph\":{\"id\":\"b5fd14ef-7c45-4a20-a18a-73335ef375e3\",\"type\":\"MultiLine\"},\"selection_glyph\":null},\"id\":\"c9d3b024-a809-426a-abcc-e4b4f55a223b\",\"type\":\"GlyphRenderer\"},{\"attributes\":{\"bottom\":{\"field\":\"bottom\"},\"fill_alpha\":{\"value\":0.1},\"fill_color\":{\"value\":\"#1f77b4\"},\"left\":{\"field\":\"left\"},\"line_alpha\":{\"value\":0.1},\"line_color\":{\"value\":\"#1f77b4\"},\"right\":{\"field\":\"right\"},\"top\":{\"field\":\"top\"}},\"id\":\"3a3e6e67-8205-40c2-a6eb-155b1cbb07a3\",\"type\":\"Quad\"},{\"attributes\":{\"plot\":{\"id\":\"5ed89de0-cc9f-4501-94ac-374be6db8ebd\",\"subtype\":\"Figure\",\"type\":\"Plot\"}},\"id\":\"25cd01be-1b7d-46a2-a0d0-f571b338b342\",\"type\":\"SaveTool\"},{\"attributes\":{\"overlay\":{\"id\":\"4b573bf6-68a5-4a10-a743-9581684877c3\",\"type\":\"BoxAnnotation\"},\"plot\":{\"id\":\"5ed89de0-cc9f-4501-94ac-374be6db8ebd\",\"subtype\":\"Figure\",\"type\":\"Plot\"}},\"id\":\"bbbabcef-0123-43e6-9b37-972150aa276b\",\"type\":\"BoxZoomTool\"}],\"root_ids\":[\"5ed89de0-cc9f-4501-94ac-374be6db8ebd\"]},\"title\":\"Bokeh Application\",\"version\":\"0.12.0\"}};\n",
       "            var render_items = [{\"docid\":\"b9a78de8-9c50-4424-a924-7158e1b62d23\",\"elementid\":\"629e6213-df06-4cf8-9da4-73c27e5c74ec\",\"modelid\":\"5ed89de0-cc9f-4501-94ac-374be6db8ebd\",\"notebook_comms_target\":\"07ff2552-4eb2-4163-8022-8fab9f236213\"}];\n",
       "            \n",
       "            Bokeh.embed.embed_items(docs_json, render_items);\n",
       "        });\n",
       "      },\n",
       "      function(Bokeh) {\n",
       "      }\n",
       "    ];\n",
       "  \n",
       "    function run_inline_js() {\n",
       "      for (var i = 0; i < inline_js.length; i++) {\n",
       "        inline_js[i](window.Bokeh);\n",
       "      }\n",
       "    }\n",
       "  \n",
       "    if (window._bokeh_is_loading === 0) {\n",
       "      console.log(\"Bokeh: BokehJS loaded, going straight to plotting\");\n",
       "      run_inline_js();\n",
       "    } else {\n",
       "      load_libs(js_urls, function() {\n",
       "        console.log(\"Bokeh: BokehJS plotting callback run at\", now());\n",
       "        run_inline_js();\n",
       "      });\n",
       "    }\n",
       "  }(this));\n",
       "</script>"
      ]
     },
     "metadata": {},
     "output_type": "display_data"
    },
    {
     "data": {
      "text/html": [
       "<p><code>&lt;Bokeh Notebook handle for <strong>In[6]</strong>&gt;</code></p>"
      ],
      "text/plain": [
       "<bokeh.io._CommsHandle at 0x7f165cc9ac90>"
      ]
     },
     "execution_count": 6,
     "metadata": {},
     "output_type": "execute_result"
    }
   ],
   "source": [
    "plt_obj = dm.basis_yes_no([dm.di_6_1503, dm.di_26_1414])\n",
    "plt = plt_obj.do_basis_plot()\n",
    "show(plt)"
   ]
  },
  {
   "cell_type": "code",
   "execution_count": 7,
   "metadata": {
    "collapsed": false
   },
   "outputs": [
    {
     "data": {
      "text/html": [
       "<table>\n",
       "<thead><tr><th style=\"text-align:center\">index</th><th style=\"text-align:center\">first</th><th style=\"text-align:center\">last</th><th style=\"text-align:center\">length</th><th style=\"text-align:center\">snps</th><th style=\"text-align:center\">alleles</th><th style=\"text-align:center\">basis</th><th style=\"text-align:center\" colspan=2>afr</th><th style=\"text-align:center\" colspan=2>afx</th><th style=\"text-align:center\" colspan=2>amr</th><th style=\"text-align:center\" colspan=2>eas</th><th style=\"text-align:center\" colspan=2>eur</th><th style=\"text-align:center\" colspan=2>sas</th><th style=\"text-align:center\" colspan=2>sax</th></tr></thead>\n",
       "<tr class=\"even\"><td style=\"text-align: right;\">353797</td><td style=\"text-align: right;\">136,398,174</td><td style=\"text-align: right;\">136,474,098</td><td style=\"text-align: right;\">75,924</td><td style=\"text-align: right;\">26</td><td style=\"text-align: right;padding-right: 1em\">1414</td><td style=\"text-align: right;padding-right: 1em\">202</td><td style=\"text-align: right;\">6</td><td style=\"text-align: right;\">0.15</td><td style=\"text-align: right;\">2</td><td style=\"text-align: right;\">0.16</td><td style=\"text-align: right;\">39</td><td style=\"text-align: right;\">1.39</td><td style=\"text-align: right;\">80</td><td style=\"text-align: right;\">1.97</td><td style=\"text-align: right;\">20</td><td style=\"text-align: right;\">0.49</td><td style=\"text-align: right;\">19</td><td style=\"text-align: right;\">1.29</td><td style=\"text-align: right;\">36</td><td style=\"text-align: right;\">1.45</td></tr>\n",
       "<tr><td style=\"text-align: right;\">354129</td><td style=\"text-align: right;\">136,652,953</td><td style=\"text-align: right;\">136,761,175</td><td style=\"text-align: right;\">108,222</td><td style=\"text-align: right;\">5</td><td style=\"text-align: right;padding-right: 1em\">1296</td><td style=\"text-align: right;padding-right: 1em\">3</td><td style=\"text-align: right;\">0</td><td style=\"text-align: right;\">0.00</td><td style=\"text-align: right;\">0</td><td style=\"text-align: right;\">0.00</td><td style=\"text-align: right;\">0</td><td style=\"text-align: right;\">0.00</td><td style=\"text-align: right;\">3</td><td style=\"text-align: right;\">4.97</td><td style=\"text-align: right;\">0</td><td style=\"text-align: right;\">0.00</td><td style=\"text-align: right;\">0</td><td style=\"text-align: right;\">0.00</td><td style=\"text-align: right;\">0</td><td style=\"text-align: right;\">0.00</td></tr>\n",
       "<tr class=\"even\"><td style=\"text-align: right;\">354127</td><td style=\"text-align: right;\">136,652,491</td><td style=\"text-align: right;\">136,732,772</td><td style=\"text-align: right;\">80,281</td><td style=\"text-align: right;\">6</td><td style=\"text-align: right;padding-right: 1em\">1114</td><td style=\"text-align: right;padding-right: 1em\">7</td><td style=\"text-align: right;\">0</td><td style=\"text-align: right;\">0.00</td><td style=\"text-align: right;\">0</td><td style=\"text-align: right;\">0.00</td><td style=\"text-align: right;\">0</td><td style=\"text-align: right;\">0.00</td><td style=\"text-align: right;\">2</td><td style=\"text-align: right;\">1.42</td><td style=\"text-align: right;\">1</td><td style=\"text-align: right;\">0.71</td><td style=\"text-align: right;\">2</td><td style=\"text-align: right;\">3.93</td><td style=\"text-align: right;\">2</td><td style=\"text-align: right;\">2.33</td></tr>\n",
       "<tr><td style=\"text-align: right;\">353984</td><td style=\"text-align: right;\">136,556,805</td><td style=\"text-align: right;\">136,747,085</td><td style=\"text-align: right;\">190,280</td><td style=\"text-align: right;\">39</td><td style=\"text-align: right;padding-right: 1em\">1014</td><td style=\"text-align: right;padding-right: 1em\">9</td><td style=\"text-align: right;\">0</td><td style=\"text-align: right;\">0.00</td><td style=\"text-align: right;\">0</td><td style=\"text-align: right;\">0.00</td><td style=\"text-align: right;\">0</td><td style=\"text-align: right;\">0.00</td><td style=\"text-align: right;\">7</td><td style=\"text-align: right;\">3.86</td><td style=\"text-align: right;\">1</td><td style=\"text-align: right;\">0.55</td><td style=\"text-align: right;\">1</td><td style=\"text-align: right;\">1.53</td><td style=\"text-align: right;\">0</td><td style=\"text-align: right;\">0.00</td></tr>\n",
       "<tr class=\"even\"><td style=\"text-align: right;\">353604</td><td style=\"text-align: right;\">136,092,061</td><td style=\"text-align: right;\">136,407,479</td><td style=\"text-align: right;\">315,418</td><td style=\"text-align: right;\">4</td><td style=\"text-align: right;padding-right: 1em\">911</td><td style=\"text-align: right;padding-right: 1em\">135</td><td style=\"text-align: right;\">0</td><td style=\"text-align: right;\">0.00</td><td style=\"text-align: right;\">0</td><td style=\"text-align: right;\">0.00</td><td style=\"text-align: right;\">56</td><td style=\"text-align: right;\">2.99</td><td style=\"text-align: right;\">0</td><td style=\"text-align: right;\">0.00</td><td style=\"text-align: right;\">35</td><td style=\"text-align: right;\">1.29</td><td style=\"text-align: right;\">16</td><td style=\"text-align: right;\">1.63</td><td style=\"text-align: right;\">28</td><td style=\"text-align: right;\">1.69</td></tr>\n",
       "<tr><td style=\"text-align: right;\">353902</td><td style=\"text-align: right;\">136,494,985</td><td style=\"text-align: right;\">136,773,638</td><td style=\"text-align: right;\">278,653</td><td style=\"text-align: right;\">81</td><td style=\"text-align: right;padding-right: 1em\">857</td><td style=\"text-align: right;padding-right: 1em\">2</td><td style=\"text-align: right;\">0</td><td style=\"text-align: right;\">0.00</td><td style=\"text-align: right;\">0</td><td style=\"text-align: right;\">0.00</td><td style=\"text-align: right;\">0</td><td style=\"text-align: right;\">0.00</td><td style=\"text-align: right;\">0</td><td style=\"text-align: right;\">0.00</td><td style=\"text-align: right;\">0</td><td style=\"text-align: right;\">0.00</td><td style=\"text-align: right;\">0</td><td style=\"text-align: right;\">0.00</td><td style=\"text-align: right;\">2</td><td style=\"text-align: right;\">8.16</td></tr>\n",
       "<tr class=\"even\"><td style=\"text-align: right;\">353938</td><td style=\"text-align: right;\">136,514,709</td><td style=\"text-align: right;\">136,543,147</td><td style=\"text-align: right;\">28,438</td><td style=\"text-align: right;\">6</td><td style=\"text-align: right;padding-right: 1em\">820</td><td style=\"text-align: right;padding-right: 1em\">5</td><td style=\"text-align: right;\">0</td><td style=\"text-align: right;\">0.00</td><td style=\"text-align: right;\">0</td><td style=\"text-align: right;\">0.00</td><td style=\"text-align: right;\">1</td><td style=\"text-align: right;\">1.44</td><td style=\"text-align: right;\">0</td><td style=\"text-align: right;\">0.00</td><td style=\"text-align: right;\">0</td><td style=\"text-align: right;\">0.00</td><td style=\"text-align: right;\">2</td><td style=\"text-align: right;\">5.50</td><td style=\"text-align: right;\">2</td><td style=\"text-align: right;\">3.26</td></tr>\n",
       "<tr><td style=\"text-align: right;\">353380</td><td style=\"text-align: right;\">135,837,906</td><td style=\"text-align: right;\">136,707,982</td><td style=\"text-align: right;\">870,076</td><td style=\"text-align: right;\">11</td><td style=\"text-align: right;padding-right: 1em\">765</td><td style=\"text-align: right;padding-right: 1em\">765</td><td style=\"text-align: right;\">2</td><td style=\"text-align: right;\">0.01</td><td style=\"text-align: right;\">32</td><td style=\"text-align: right;\">0.67</td><td style=\"text-align: right;\">146</td><td style=\"text-align: right;\">1.38</td><td style=\"text-align: right;\">0</td><td style=\"text-align: right;\">0.00</td><td style=\"text-align: right;\">484</td><td style=\"text-align: right;\">3.15</td><td style=\"text-align: right;\">56</td><td style=\"text-align: right;\">1.01</td><td style=\"text-align: right;\">45</td><td style=\"text-align: right;\">0.48</td></tr>\n",
       "<tr class=\"even\"><td style=\"text-align: right;\">354061</td><td style=\"text-align: right;\">136,603,638</td><td style=\"text-align: right;\">136,632,125</td><td style=\"text-align: right;\">28,487</td><td style=\"text-align: right;\">16</td><td style=\"text-align: right;padding-right: 1em\">511</td><td style=\"text-align: right;padding-right: 1em\">1</td><td style=\"text-align: right;\">0</td><td style=\"text-align: right;\">0.00</td><td style=\"text-align: right;\">0</td><td style=\"text-align: right;\">0.00</td><td style=\"text-align: right;\">1</td><td style=\"text-align: right;\">7.22</td><td style=\"text-align: right;\">0</td><td style=\"text-align: right;\">0.00</td><td style=\"text-align: right;\">0</td><td style=\"text-align: right;\">0.00</td><td style=\"text-align: right;\">0</td><td style=\"text-align: right;\">0.00</td><td style=\"text-align: right;\">0</td><td style=\"text-align: right;\">0.00</td></tr>\n",
       "<tr><td style=\"text-align: right;\">354064</td><td style=\"text-align: right;\">136,605,402</td><td style=\"text-align: right;\">136,624,686</td><td style=\"text-align: right;\">19,284</td><td style=\"text-align: right;\">8</td><td style=\"text-align: right;padding-right: 1em\">328</td><td style=\"text-align: right;padding-right: 1em\">3</td><td style=\"text-align: right;\">0</td><td style=\"text-align: right;\">0.00</td><td style=\"text-align: right;\">0</td><td style=\"text-align: right;\">0.00</td><td style=\"text-align: right;\">1</td><td style=\"text-align: right;\">2.41</td><td style=\"text-align: right;\">0</td><td style=\"text-align: right;\">0.00</td><td style=\"text-align: right;\">2</td><td style=\"text-align: right;\">3.32</td><td style=\"text-align: right;\">0</td><td style=\"text-align: right;\">0.00</td><td style=\"text-align: right;\">0</td><td style=\"text-align: right;\">0.00</td></tr>\n",
       "<tr class=\"even\"><td style=\"text-align: right;\">354123</td><td style=\"text-align: right;\">136,651,773</td><td style=\"text-align: right;\">136,774,627</td><td style=\"text-align: right;\">122,854</td><td style=\"text-align: right;\">51</td><td style=\"text-align: right;padding-right: 1em\">176</td><td style=\"text-align: right;padding-right: 1em\">2</td><td style=\"text-align: right;\">0</td><td style=\"text-align: right;\">0.00</td><td style=\"text-align: right;\">0</td><td style=\"text-align: right;\">0.00</td><td style=\"text-align: right;\">0</td><td style=\"text-align: right;\">0.00</td><td style=\"text-align: right;\">2</td><td style=\"text-align: right;\">4.97</td><td style=\"text-align: right;\">0</td><td style=\"text-align: right;\">0.00</td><td style=\"text-align: right;\">0</td><td style=\"text-align: right;\">0.00</td><td style=\"text-align: right;\">0</td><td style=\"text-align: right;\">0.00</td></tr>\n",
       "<tr><td style=\"text-align: right;\">354051</td><td style=\"text-align: right;\">136,596,162</td><td style=\"text-align: right;\">136,785,729</td><td style=\"text-align: right;\">189,567</td><td style=\"text-align: right;\">17</td><td style=\"text-align: right;padding-right: 1em\">137</td><td style=\"text-align: right;padding-right: 1em\">3</td><td style=\"text-align: right;\">0</td><td style=\"text-align: right;\">0.00</td><td style=\"text-align: right;\">0</td><td style=\"text-align: right;\">0.00</td><td style=\"text-align: right;\">0</td><td style=\"text-align: right;\">0.00</td><td style=\"text-align: right;\">1</td><td style=\"text-align: right;\">1.66</td><td style=\"text-align: right;\">2</td><td style=\"text-align: right;\">3.32</td><td style=\"text-align: right;\">0</td><td style=\"text-align: right;\">0.00</td><td style=\"text-align: right;\">0</td><td style=\"text-align: right;\">0.00</td></tr>\n",
       "<tr class=\"even\"><td style=\"text-align: right;\">353987</td><td style=\"text-align: right;\">136,560,126</td><td style=\"text-align: right;\">136,742,080</td><td style=\"text-align: right;\">181,954</td><td style=\"text-align: right;\">4</td><td style=\"text-align: right;padding-right: 1em\">57</td><td style=\"text-align: right;padding-right: 1em\">1</td><td style=\"text-align: right;\">0</td><td style=\"text-align: right;\">0.00</td><td style=\"text-align: right;\">0</td><td style=\"text-align: right;\">0.00</td><td style=\"text-align: right;\">0</td><td style=\"text-align: right;\">0.00</td><td style=\"text-align: right;\">0</td><td style=\"text-align: right;\">0.00</td><td style=\"text-align: right;\">0</td><td style=\"text-align: right;\">0.00</td><td style=\"text-align: right;\">1</td><td style=\"text-align: right;\">13.76</td><td style=\"text-align: right;\">0</td><td style=\"text-align: right;\">0.00</td></tr>\n",
       "<tr><td style=\"text-align: right;\">353444</td><td style=\"text-align: right;\">135,889,881</td><td style=\"text-align: right;\">136,382,936</td><td style=\"text-align: right;\">493,055</td><td style=\"text-align: right;\">6</td><td style=\"text-align: right;padding-right: 1em\">57</td><td style=\"text-align: right;padding-right: 1em\">53</td><td style=\"text-align: right;\">2</td><td style=\"text-align: right;\">0.19</td><td style=\"text-align: right;\">1</td><td style=\"text-align: right;\">0.30</td><td style=\"text-align: right;\">14</td><td style=\"text-align: right;\">1.91</td><td style=\"text-align: right;\">0</td><td style=\"text-align: right;\">0.00</td><td style=\"text-align: right;\">28</td><td style=\"text-align: right;\">2.63</td><td style=\"text-align: right;\">5</td><td style=\"text-align: right;\">1.30</td><td style=\"text-align: right;\">3</td><td style=\"text-align: right;\">0.46</td></tr>\n",
       "<tr class=\"even\"><td style=\"text-align: right;\">353407</td><td style=\"text-align: right;\">135,859,157</td><td style=\"text-align: right;\">135,980,938</td><td style=\"text-align: right;\">121,781</td><td style=\"text-align: right;\">6</td><td style=\"text-align: right;padding-right: 1em\">35</td><td style=\"text-align: right;padding-right: 1em\">34</td><td style=\"text-align: right;\">1</td><td style=\"text-align: right;\">0.15</td><td style=\"text-align: right;\">1</td><td style=\"text-align: right;\">0.47</td><td style=\"text-align: right;\">12</td><td style=\"text-align: right;\">2.55</td><td style=\"text-align: right;\">0</td><td style=\"text-align: right;\">0.00</td><td style=\"text-align: right;\">17</td><td style=\"text-align: right;\">2.49</td><td style=\"text-align: right;\">2</td><td style=\"text-align: right;\">0.81</td><td style=\"text-align: right;\">1</td><td style=\"text-align: right;\">0.24</td></tr>\n",
       "<tr><td style=\"text-align: right;\">353252</td><td style=\"text-align: right;\">135,759,628</td><td style=\"text-align: right;\">136,443,550</td><td style=\"text-align: right;\">683,922</td><td style=\"text-align: right;\">12</td><td style=\"text-align: right;padding-right: 1em\">32</td><td style=\"text-align: right;padding-right: 1em\">1</td><td style=\"text-align: right;\">0</td><td style=\"text-align: right;\">0.00</td><td style=\"text-align: right;\">0</td><td style=\"text-align: right;\">0.00</td><td style=\"text-align: right;\">1</td><td style=\"text-align: right;\">7.22</td><td style=\"text-align: right;\">0</td><td style=\"text-align: right;\">0.00</td><td style=\"text-align: right;\">0</td><td style=\"text-align: right;\">0.00</td><td style=\"text-align: right;\">0</td><td style=\"text-align: right;\">0.00</td><td style=\"text-align: right;\">0</td><td style=\"text-align: right;\">0.00</td></tr>\n",
       "<tr class=\"even\"><td style=\"text-align: right;\">354074</td><td style=\"text-align: right;\">136,608,339</td><td style=\"text-align: right;\">136,738,273</td><td style=\"text-align: right;\">129,934</td><td style=\"text-align: right;\">7</td><td style=\"text-align: right;padding-right: 1em\">31</td><td style=\"text-align: right;padding-right: 1em\">1</td><td style=\"text-align: right;\">1</td><td style=\"text-align: right;\">4.97</td><td style=\"text-align: right;\">0</td><td style=\"text-align: right;\">0.00</td><td style=\"text-align: right;\">0</td><td style=\"text-align: right;\">0.00</td><td style=\"text-align: right;\">0</td><td style=\"text-align: right;\">0.00</td><td style=\"text-align: right;\">0</td><td style=\"text-align: right;\">0.00</td><td style=\"text-align: right;\">0</td><td style=\"text-align: right;\">0.00</td><td style=\"text-align: right;\">0</td><td style=\"text-align: right;\">0.00</td></tr>\n",
       "<tr><td style=\"text-align: right;\">354116</td><td style=\"text-align: right;\">136,648,736</td><td style=\"text-align: right;\">136,762,850</td><td style=\"text-align: right;\">114,114</td><td style=\"text-align: right;\">4</td><td style=\"text-align: right;padding-right: 1em\">26</td><td style=\"text-align: right;padding-right: 1em\">1</td><td style=\"text-align: right;\">0</td><td style=\"text-align: right;\">0.00</td><td style=\"text-align: right;\">0</td><td style=\"text-align: right;\">0.00</td><td style=\"text-align: right;\">0</td><td style=\"text-align: right;\">0.00</td><td style=\"text-align: right;\">0</td><td style=\"text-align: right;\">0.00</td><td style=\"text-align: right;\">1</td><td style=\"text-align: right;\">4.98</td><td style=\"text-align: right;\">0</td><td style=\"text-align: right;\">0.00</td><td style=\"text-align: right;\">0</td><td style=\"text-align: right;\">0.00</td></tr>\n",
       "<tr class=\"even\"><td style=\"text-align: right;\">354176</td><td style=\"text-align: right;\">136,687,844</td><td style=\"text-align: right;\">136,709,809</td><td style=\"text-align: right;\">21,965</td><td style=\"text-align: right;\">4</td><td style=\"text-align: right;padding-right: 1em\">25</td><td style=\"text-align: right;padding-right: 1em\">1</td><td style=\"text-align: right;\">0</td><td style=\"text-align: right;\">0.00</td><td style=\"text-align: right;\">0</td><td style=\"text-align: right;\">0.00</td><td style=\"text-align: right;\">0</td><td style=\"text-align: right;\">0.00</td><td style=\"text-align: right;\">1</td><td style=\"text-align: right;\">4.97</td><td style=\"text-align: right;\">0</td><td style=\"text-align: right;\">0.00</td><td style=\"text-align: right;\">0</td><td style=\"text-align: right;\">0.00</td><td style=\"text-align: right;\">0</td><td style=\"text-align: right;\">0.00</td></tr>\n",
       "<tr><td style=\"text-align: right;\">353315</td><td style=\"text-align: right;\">135,786,061</td><td style=\"text-align: right;\">136,586,684</td><td style=\"text-align: right;\">800,623</td><td style=\"text-align: right;\">7</td><td style=\"text-align: right;padding-right: 1em\">22</td><td style=\"text-align: right;padding-right: 1em\">22</td><td style=\"text-align: right;\">0</td><td style=\"text-align: right;\">0.00</td><td style=\"text-align: right;\">0</td><td style=\"text-align: right;\">0.00</td><td style=\"text-align: right;\">0</td><td style=\"text-align: right;\">0.00</td><td style=\"text-align: right;\">19</td><td style=\"text-align: right;\">4.29</td><td style=\"text-align: right;\">0</td><td style=\"text-align: right;\">0.00</td><td style=\"text-align: right;\">3</td><td style=\"text-align: right;\">1.88</td><td style=\"text-align: right;\">0</td><td style=\"text-align: right;\">0.00</td></tr>\n",
       "<tr class=\"even\"><td style=\"text-align: right;\">353570</td><td style=\"text-align: right;\">136,039,834</td><td style=\"text-align: right;\">136,349,562</td><td style=\"text-align: right;\">309,728</td><td style=\"text-align: right;\">7</td><td style=\"text-align: right;padding-right: 1em\">20</td><td style=\"text-align: right;padding-right: 1em\">17</td><td style=\"text-align: right;\">0</td><td style=\"text-align: right;\">0.00</td><td style=\"text-align: right;\">1</td><td style=\"text-align: right;\">0.94</td><td style=\"text-align: right;\">4</td><td style=\"text-align: right;\">1.70</td><td style=\"text-align: right;\">0</td><td style=\"text-align: right;\">0.00</td><td style=\"text-align: right;\">11</td><td style=\"text-align: right;\">3.22</td><td style=\"text-align: right;\">0</td><td style=\"text-align: right;\">0.00</td><td style=\"text-align: right;\">1</td><td style=\"text-align: right;\">0.48</td></tr>\n",
       "<tr><td style=\"text-align: right;\">353692</td><td style=\"text-align: right;\">136,243,714</td><td style=\"text-align: right;\">136,351,532</td><td style=\"text-align: right;\">107,818</td><td style=\"text-align: right;\">5</td><td style=\"text-align: right;padding-right: 1em\">18</td><td style=\"text-align: right;padding-right: 1em\">1</td><td style=\"text-align: right;\">0</td><td style=\"text-align: right;\">0.00</td><td style=\"text-align: right;\">0</td><td style=\"text-align: right;\">0.00</td><td style=\"text-align: right;\">1</td><td style=\"text-align: right;\">7.22</td><td style=\"text-align: right;\">0</td><td style=\"text-align: right;\">0.00</td><td style=\"text-align: right;\">0</td><td style=\"text-align: right;\">0.00</td><td style=\"text-align: right;\">0</td><td style=\"text-align: right;\">0.00</td><td style=\"text-align: right;\">0</td><td style=\"text-align: right;\">0.00</td></tr>\n",
       "<tr class=\"even\"><td style=\"text-align: right;\">353922</td><td style=\"text-align: right;\">136,504,541</td><td style=\"text-align: right;\">136,528,224</td><td style=\"text-align: right;\">23,683</td><td style=\"text-align: right;\">4</td><td style=\"text-align: right;padding-right: 1em\">17</td><td style=\"text-align: right;padding-right: 1em\">1</td><td style=\"text-align: right;\">1</td><td style=\"text-align: right;\">4.97</td><td style=\"text-align: right;\">0</td><td style=\"text-align: right;\">0.00</td><td style=\"text-align: right;\">0</td><td style=\"text-align: right;\">0.00</td><td style=\"text-align: right;\">0</td><td style=\"text-align: right;\">0.00</td><td style=\"text-align: right;\">0</td><td style=\"text-align: right;\">0.00</td><td style=\"text-align: right;\">0</td><td style=\"text-align: right;\">0.00</td><td style=\"text-align: right;\">0</td><td style=\"text-align: right;\">0.00</td></tr>\n",
       "</table>"
      ],
      "text/plain": [
       "<IPython.core.display.HTML object>"
      ]
     },
     "execution_count": 7,
     "metadata": {},
     "output_type": "execute_result"
    }
   ],
   "source": [
    "HTML(plt_obj.get_basis_html())"
   ]
  },
  {
   "cell_type": "markdown",
   "metadata": {},
   "source": [
    "<div style=\"width:700px\">\n",
    "<p>\n",
    "The plot below shows the series in the region expressed by the samples that express\n",
    "26_1414 as a basis series and also express 6_1503.  Most of these samples express\n",
    "the full set of six series associated  with the EUR tree root.  But, about 20% of\n",
    "the samples have lost 64_1575 and 7_1868.\n",
    "</div>"
   ]
  },
  {
   "cell_type": "code",
   "execution_count": 8,
   "metadata": {
    "collapsed": false
   },
   "outputs": [
    {
     "data": {
      "text/html": [
       "\n",
       "\n",
       "    <div class=\"bk-root\">\n",
       "        <div class=\"plotdiv\" id=\"c1951477-47a1-4f54-9928-dbb531cf2aef\"></div>\n",
       "    </div>\n",
       "<script type=\"text/javascript\">\n",
       "  \n",
       "  (function(global) {\n",
       "    function now() {\n",
       "      return new Date();\n",
       "    }\n",
       "  \n",
       "    if (typeof (window._bokeh_onload_callbacks) === \"undefined\") {\n",
       "      window._bokeh_onload_callbacks = [];\n",
       "    }\n",
       "  \n",
       "    function run_callbacks() {\n",
       "      window._bokeh_onload_callbacks.forEach(function(callback) { callback() });\n",
       "      delete window._bokeh_onload_callbacks\n",
       "      console.info(\"Bokeh: all callbacks have finished\");\n",
       "    }\n",
       "  \n",
       "    function load_libs(js_urls, callback) {\n",
       "      window._bokeh_onload_callbacks.push(callback);\n",
       "      if (window._bokeh_is_loading > 0) {\n",
       "        console.log(\"Bokeh: BokehJS is being loaded, scheduling callback at\", now());\n",
       "        return null;\n",
       "      }\n",
       "      if (js_urls == null || js_urls.length === 0) {\n",
       "        run_callbacks();\n",
       "        return null;\n",
       "      }\n",
       "      console.log(\"Bokeh: BokehJS not loaded, scheduling load and callback at\", now());\n",
       "      window._bokeh_is_loading = js_urls.length;\n",
       "      for (var i = 0; i < js_urls.length; i++) {\n",
       "        var url = js_urls[i];\n",
       "        var s = document.createElement('script');\n",
       "        s.src = url;\n",
       "        s.async = false;\n",
       "        s.onreadystatechange = s.onload = function() {\n",
       "          window._bokeh_is_loading--;\n",
       "          if (window._bokeh_is_loading === 0) {\n",
       "            console.log(\"Bokeh: all BokehJS libraries loaded\");\n",
       "            run_callbacks()\n",
       "          }\n",
       "        };\n",
       "        s.onerror = function() {\n",
       "          console.warn(\"failed to load library \" + url);\n",
       "        };\n",
       "        console.log(\"Bokeh: injecting script tag for BokehJS library: \", url);\n",
       "        document.getElementsByTagName(\"head\")[0].appendChild(s);\n",
       "      }\n",
       "    };var element = document.getElementById(\"c1951477-47a1-4f54-9928-dbb531cf2aef\");\n",
       "    if (element == null) {\n",
       "      console.log(\"Bokeh: ERROR: autoload.js configured with elementid 'c1951477-47a1-4f54-9928-dbb531cf2aef' but no matching script tag was found. \")\n",
       "      return false;\n",
       "    }\n",
       "  \n",
       "    var js_urls = [];\n",
       "  \n",
       "    var inline_js = [\n",
       "      function(Bokeh) {\n",
       "        Bokeh.$(function() {\n",
       "            var docs_json = {\"ec828717-cd1b-4474-a0c1-4fedc6864843\":{\"roots\":{\"references\":[{\"attributes\":{\"plot\":{\"id\":\"6ee12fb9-7a40-49f1-9d31-8445636b2ca6\",\"subtype\":\"Figure\",\"type\":\"Plot\"}},\"id\":\"7a208ef6-f50f-48ba-a7a3-167600fba358\",\"type\":\"PanTool\"},{\"attributes\":{},\"id\":\"735f0e39-ab93-4eae-a259-ba4a5df944f5\",\"type\":\"BasicTicker\"},{\"attributes\":{\"bottom_units\":\"screen\",\"fill_alpha\":{\"value\":0.5},\"fill_color\":{\"value\":\"lightgrey\"},\"left_units\":\"screen\",\"level\":\"overlay\",\"line_alpha\":{\"value\":1.0},\"line_color\":{\"value\":\"black\"},\"line_dash\":[4,4],\"line_width\":{\"value\":2},\"plot\":null,\"render_mode\":\"css\",\"right_units\":\"screen\",\"top_units\":\"screen\"},\"id\":\"6c264c7d-64da-4b1a-ad30-ca85c0e78134\",\"type\":\"BoxAnnotation\"},{\"attributes\":{\"data_source\":{\"id\":\"a0d22c39-ef63-4335-b46d-99851de32308\",\"type\":\"ColumnDataSource\"},\"glyph\":{\"id\":\"2a360c5f-08d9-44df-b662-8dcc4f469391\",\"type\":\"Quad\"},\"hover_glyph\":null,\"nonselection_glyph\":{\"id\":\"45b6cb6c-01ca-4f33-bed8-1df616d00bdd\",\"type\":\"Quad\"},\"selection_glyph\":null},\"id\":\"b8c60cf7-4192-48fa-8267-5baa9c0eb740\",\"type\":\"GlyphRenderer\"},{\"attributes\":{\"callback\":null,\"end\":136786630,\"start\":135757320},\"id\":\"03718a12-71b0-441f-9238-8ed9848e3beb\",\"type\":\"Range1d\"},{\"attributes\":{\"plot\":{\"id\":\"6ee12fb9-7a40-49f1-9d31-8445636b2ca6\",\"subtype\":\"Figure\",\"type\":\"Plot\"}},\"id\":\"4b728738-0347-4215-8942-9b61981b1fab\",\"type\":\"HelpTool\"},{\"attributes\":{\"formatter\":{\"id\":\"d874d439-0025-424c-ad7a-deab5699f1ca\",\"type\":\"BasicTickFormatter\"},\"plot\":{\"id\":\"6ee12fb9-7a40-49f1-9d31-8445636b2ca6\",\"subtype\":\"Figure\",\"type\":\"Plot\"},\"ticker\":{\"id\":\"735f0e39-ab93-4eae-a259-ba4a5df944f5\",\"type\":\"BasicTicker\"}},\"id\":\"8ce792cd-276b-440b-81c0-82cd2ae27e3a\",\"type\":\"LinearAxis\"},{\"attributes\":{\"dimension\":1,\"plot\":{\"id\":\"6ee12fb9-7a40-49f1-9d31-8445636b2ca6\",\"subtype\":\"Figure\",\"type\":\"Plot\"},\"ticker\":{\"id\":\"60f325c8-79e7-4198-845f-4a3ad7a9325c\",\"type\":\"BasicTicker\"}},\"id\":\"1e0c7855-618d-4694-829b-a34c634e63c7\",\"type\":\"Grid\"},{\"attributes\":{\"callback\":null,\"column_names\":[\"xs\",\"ys\",\"line_color\"],\"data\":{\"line_color\":[\"black\",\"black\",\"black\",\"black\",\"black\",\"black\",\"black\",\"black\",\"black\",\"black\",\"black\",\"black\",\"black\",\"black\",\"black\",\"black\",\"black\",\"black\",\"black\",\"black\",\"black\",\"black\",\"black\",\"black\",\"black\",\"black\",\"black\",\"black\",\"black\",\"black\",\"black\",\"black\",\"black\",\"black\",\"black\",\"black\",\"black\",\"black\",\"black\",\"black\",\"black\",\"black\",\"black\",\"black\",\"black\",\"black\",\"black\",\"black\",\"black\",\"black\",\"black\",\"black\",\"black\",\"black\",\"black\",\"black\",\"black\",\"black\",\"black\",\"black\",\"black\",\"black\",\"black\",\"black\",\"black\",\"black\",\"black\",\"black\",\"black\",\"black\",\"black\",\"black\",\"black\",\"black\",\"black\",\"black\",\"black\",\"black\",\"black\",\"black\",\"black\",\"black\",\"black\",\"black\",\"black\",\"black\",\"black\",\"black\",\"black\",\"black\",\"black\",\"black\",\"black\",\"black\",\"black\",\"black\",\"black\",\"black\",\"black\",\"black\",\"black\",\"black\",\"black\",\"black\",\"black\",\"black\",\"black\",\"black\",\"black\",\"black\",\"black\",\"black\",\"black\",\"black\",\"black\",\"black\",\"black\"],\"xs\":[[135771974,135771974],[135859371,135859371],[135877562,135877562],[136022798,136022798],[136058820,136058820],[136140304,136140304],[135915358,135915358],[135954405,135954405],[135995073,135995073],[135995079,135995079],[136398174,136398174],[136402117,136402117],[136403749,136403749],[136409073,136409073],[136410299,136410299],[136413359,136413359],[136416855,136416855],[136416941,136416941],[136418348,136418348],[136419961,136419961],[136420690,136420690],[136422171,136422171],[136428460,136428460],[136430866,136430866],[136432103,136432103],[136437507,136437507],[136439090,136439090],[136439517,136439517],[136444123,136444123],[136445526,136445526],[136445869,136445869],[136455600,136455600],[136456642,136456642],[136462441,136462441],[136470714,136470714],[136474098,136474098],[136494186,136494186],[136495300,136495300],[136495619,136495619],[136499166,136499166],[136502792,136502792],[136503157,136503157],[136507039,136507039],[136511575,136511575],[136518103,136518103],[136521514,136521514],[136522675,136522675],[136522941,136522941],[136526981,136526981],[136535410,136535410],[136539122,136539122],[136544197,136544197],[136550109,136550109],[136551694,136551694],[136553188,136553188],[136553639,136553639],[136554800,136554800],[136557319,136557319],[136558157,136558157],[136569848,136569848],[136575199,136575199],[136576577,136576577],[136578536,136578536],[136580287,136580287],[136583192,136583192],[136586958,136586958],[136588478,136588478],[136589612,136589612],[136591178,136591178],[136591859,136591859],[136593760,136593760],[136594158,136594158],[136603276,136603276],[136603366,136603366],[136608231,136608231],[136609975,136609975],[136610598,136610598],[136611624,136611624],[136613780,136613780],[136614255,136614255],[136614813,136614813],[136617524,136617524],[136622216,136622216],[136625602,136625602],[136629911,136629911],[136630757,136630757],[136630989,136630989],[136631031,136631031],[136633771,136633771],[136636324,136636324],[136638216,136638216],[136640233,136640233],[136641882,136641882],[136643555,136643555],[136658345,136658345],[136670298,136670298],[136685228,136685228],[136696138,136696138],[136740900,136740900],[136765951,136765951],[136501840,136501840],[136505546,136505546],[136516748,136516748],[136522710,136522710],[136528004,136528004],[136539513,136539513],[136544752,136544752],[136546110,136546110],[136553529,136553529],[136555659,136555659],[136682274,136682274],[136691825,136691825],[136698098,136698098],[136721603,136721603],[136721995,136721995],[136755684,136755684],[136775898,136775898]],\"ys\":[[50,95],[50,95],[50,95],[50,95],[50,95],[50,95],[150,196],[150,196],[150,196],[150,196],[50,94],[50,94],[50,94],[50,94],[50,94],[50,94],[50,94],[50,94],[50,94],[50,94],[50,94],[50,94],[50,94],[50,94],[50,94],[50,94],[50,94],[50,94],[50,94],[50,94],[50,94],[50,94],[50,94],[50,94],[50,94],[50,94],[150,195],[150,195],[150,195],[150,195],[150,195],[150,195],[150,195],[150,195],[150,195],[150,195],[150,195],[150,195],[150,195],[150,195],[150,195],[150,195],[150,195],[150,195],[150,195],[150,195],[150,195],[150,195],[150,195],[150,195],[150,195],[150,195],[150,195],[150,195],[150,195],[150,195],[150,195],[150,195],[150,195],[150,195],[150,195],[150,195],[150,195],[150,195],[150,195],[150,195],[150,195],[150,195],[150,195],[150,195],[150,195],[150,195],[150,195],[150,195],[150,195],[150,195],[150,195],[150,195],[150,195],[150,195],[150,195],[150,195],[150,195],[150,195],[150,195],[150,195],[150,195],[150,195],[150,195],[150,195],[250,298],[250,298],[250,298],[250,298],[250,298],[250,298],[250,298],[250,298],[250,298],[250,298],[250,297],[250,297],[250,297],[250,297],[250,297],[250,297],[250,297]]}},\"id\":\"97dcee5a-766c-4d35-90f9-91c59553fa7b\",\"type\":\"ColumnDataSource\"},{\"attributes\":{\"data_source\":{\"id\":\"97dcee5a-766c-4d35-90f9-91c59553fa7b\",\"type\":\"ColumnDataSource\"},\"glyph\":{\"id\":\"c07a8893-4067-4086-953a-a737aed0097c\",\"type\":\"MultiLine\"},\"hover_glyph\":null,\"nonselection_glyph\":{\"id\":\"78abc29f-da4e-400e-a695-4b0992108411\",\"type\":\"MultiLine\"},\"selection_glyph\":null},\"id\":\"d5439ecc-f4ce-415c-9c1d-ea00cbed606c\",\"type\":\"GlyphRenderer\"},{\"attributes\":{\"formatter\":{\"id\":\"218b944b-50d1-4424-9936-de5e8679deb6\",\"type\":\"BasicTickFormatter\"},\"plot\":{\"id\":\"6ee12fb9-7a40-49f1-9d31-8445636b2ca6\",\"subtype\":\"Figure\",\"type\":\"Plot\"},\"ticker\":{\"id\":\"60f325c8-79e7-4198-845f-4a3ad7a9325c\",\"type\":\"BasicTicker\"},\"visible\":null},\"id\":\"7860f352-1b1f-4133-8ece-391101a85db8\",\"type\":\"LinearAxis\"},{\"attributes\":{\"callback\":null,\"column_names\":[\"y\",\"x\",\"vals\"],\"data\":{\"vals\":[\"6_1503\",\"4_1699\",\"26_1414\",\"64_1575\",\"10_2206\",\"7_1868\"],\"x\":[135771974,135915358,136398174,136494186,136501840,136682274],\"y\":[100.0,201.0,99.0,200.0,303.0,302.0]}},\"id\":\"97aca899-2554-4e2c-953c-794eaa6cb34f\",\"type\":\"ColumnDataSource\"},{\"attributes\":{\"plot\":{\"id\":\"6ee12fb9-7a40-49f1-9d31-8445636b2ca6\",\"subtype\":\"Figure\",\"type\":\"Plot\"},\"ticker\":{\"id\":\"735f0e39-ab93-4eae-a259-ba4a5df944f5\",\"type\":\"BasicTicker\"}},\"id\":\"0989ace7-fc0f-4c1f-8de4-962bd6cca446\",\"type\":\"Grid\"},{\"attributes\":{\"active_drag\":\"auto\",\"active_scroll\":\"auto\",\"active_tap\":\"auto\",\"tools\":[{\"id\":\"7a208ef6-f50f-48ba-a7a3-167600fba358\",\"type\":\"PanTool\"},{\"id\":\"edc486b2-2c2b-4eed-ad4b-1d5d75a408a5\",\"type\":\"WheelZoomTool\"},{\"id\":\"7028059e-ee5b-4789-983a-342f88e57850\",\"type\":\"BoxZoomTool\"},{\"id\":\"97386cf6-6519-44e4-97a7-a4557e355afa\",\"type\":\"SaveTool\"},{\"id\":\"a221adb3-09ee-4986-af6b-a23f5d0550ec\",\"type\":\"ResetTool\"},{\"id\":\"4b728738-0347-4215-8942-9b61981b1fab\",\"type\":\"HelpTool\"}]},\"id\":\"31ae5d7c-cdd3-4e11-8a82-66f4307001a5\",\"type\":\"Toolbar\"},{\"attributes\":{\"data_source\":{\"id\":\"2ed384dc-5b6c-4efb-b04d-52ecc49327bd\",\"type\":\"ColumnDataSource\"},\"glyph\":{\"id\":\"1bcf5999-0c45-4f90-a20a-5287aec5f594\",\"type\":\"Quad\"},\"hover_glyph\":null,\"nonselection_glyph\":{\"id\":\"3039791e-672b-41d2-b034-10d2eac0a86d\",\"type\":\"Quad\"},\"selection_glyph\":null},\"id\":\"7853c923-05cc-4d5b-8be8-9164ec084d0a\",\"type\":\"GlyphRenderer\"},{\"attributes\":{\"level\":\"glyph\",\"plot\":{\"id\":\"6ee12fb9-7a40-49f1-9d31-8445636b2ca6\",\"subtype\":\"Figure\",\"type\":\"Plot\"},\"source\":{\"id\":\"48c25a77-446d-4e57-8e0f-1aa8d72e5d24\",\"type\":\"ColumnDataSource\"},\"text\":{\"field\":\"vals\"},\"text_align\":\"center\",\"text_baseline\":\"middle\",\"text_font_size\":{\"value\":\"8pt\"},\"x\":{\"field\":\"x\"},\"y\":{\"field\":\"y\"}},\"id\":\"f5eb56f2-f684-405f-a021-6ba168181529\",\"type\":\"LabelSet\"},{\"attributes\":{\"line_color\":{\"field\":\"line_color\"},\"xs\":{\"field\":\"xs\"},\"ys\":{\"field\":\"ys\"}},\"id\":\"c07a8893-4067-4086-953a-a737aed0097c\",\"type\":\"MultiLine\"},{\"attributes\":{\"level\":\"glyph\",\"plot\":{\"id\":\"6ee12fb9-7a40-49f1-9d31-8445636b2ca6\",\"subtype\":\"Figure\",\"type\":\"Plot\"},\"source\":{\"id\":\"97aca899-2554-4e2c-953c-794eaa6cb34f\",\"type\":\"ColumnDataSource\"},\"text\":{\"field\":\"vals\"},\"text_font_size\":{\"value\":\"9pt\"},\"text_font_style\":\"bold\",\"x\":{\"field\":\"x\"},\"y\":{\"field\":\"y\"}},\"id\":\"e3a842cc-20c6-46f2-b8eb-406b33df54dd\",\"type\":\"LabelSet\"},{\"attributes\":{\"bottom\":{\"field\":\"bottom\"},\"fill_alpha\":{\"value\":0.1},\"fill_color\":{\"value\":\"#1f77b4\"},\"left\":{\"field\":\"left\"},\"line_alpha\":{\"value\":0.1},\"line_color\":{\"value\":\"#1f77b4\"},\"right\":{\"field\":\"right\"},\"top\":{\"field\":\"top\"}},\"id\":\"45b6cb6c-01ca-4f33-bed8-1df616d00bdd\",\"type\":\"Quad\"},{\"attributes\":{\"callback\":null,\"column_names\":[\"y\",\"x\",\"vals\"],\"data\":{\"vals\":[\"RAB3GAP1\",\"ZRANB3\",\"R3HDM1\",\"UBXN4\",\"LCT\",\"MCM6\",\"DARS\"],\"x\":[135869057.0,136122878.0,136385961.0,136520911.0,136570082.5,136615621.5,136703738.0],\"y\":[360.0,360.0,360.0,360.0,360.0,360.0,360.0]}},\"id\":\"48c25a77-446d-4e57-8e0f-1aa8d72e5d24\",\"type\":\"ColumnDataSource\"},{\"attributes\":{\"overlay\":{\"id\":\"6c264c7d-64da-4b1a-ad30-ca85c0e78134\",\"type\":\"BoxAnnotation\"},\"plot\":{\"id\":\"6ee12fb9-7a40-49f1-9d31-8445636b2ca6\",\"subtype\":\"Figure\",\"type\":\"Plot\"}},\"id\":\"7028059e-ee5b-4789-983a-342f88e57850\",\"type\":\"BoxZoomTool\"},{\"attributes\":{\"plot\":{\"id\":\"6ee12fb9-7a40-49f1-9d31-8445636b2ca6\",\"subtype\":\"Figure\",\"type\":\"Plot\"}},\"id\":\"a221adb3-09ee-4986-af6b-a23f5d0550ec\",\"type\":\"ResetTool\"},{\"attributes\":{\"bottom\":{\"field\":\"bottom\"},\"fill_color\":{\"value\":\"white\"},\"left\":{\"field\":\"left\"},\"right\":{\"field\":\"right\"},\"top\":{\"field\":\"top\"}},\"id\":\"2a360c5f-08d9-44df-b662-8dcc4f469391\",\"type\":\"Quad\"},{\"attributes\":{\"callback\":null,\"column_names\":[\"right\",\"bottom\",\"top\",\"left\",\"fill_color\"],\"data\":{\"bottom\":[50,150,50,150,250,250],\"fill_color\":[\"#61c461\",\"#61c461\",\"#61c461\",\"#61c461\",\"#808080\",\"#61c461\"],\"left\":[135771974,135915358,136398174,136494186,136501840,136682274],\"right\":[136140304,135995079,136474098,136765951,136555659,136775898],\"top\":[95,196,94,195,298,297]}},\"id\":\"2ed384dc-5b6c-4efb-b04d-52ecc49327bd\",\"type\":\"ColumnDataSource\"},{\"attributes\":{\"bottom\":{\"field\":\"bottom\"},\"fill_alpha\":{\"value\":0.1},\"fill_color\":{\"value\":\"#1f77b4\"},\"left\":{\"field\":\"left\"},\"line_alpha\":{\"value\":0.1},\"line_color\":{\"value\":\"#1f77b4\"},\"right\":{\"field\":\"right\"},\"top\":{\"field\":\"top\"}},\"id\":\"3039791e-672b-41d2-b034-10d2eac0a86d\",\"type\":\"Quad\"},{\"attributes\":{\"callback\":null,\"column_names\":[\"right\",\"bottom\",\"top\",\"left\"],\"data\":{\"bottom\":[345,345,345,345,345,345,345],\"left\":[135809835,135957574,136289083,136499189,136545415,136597196,136664254],\"right\":[135928279,136288182,136482839,136542633,136594750,136634047,136743222],\"top\":[375,375,375,375,375,375,375]}},\"id\":\"a0d22c39-ef63-4335-b46d-99851de32308\",\"type\":\"ColumnDataSource\"},{\"attributes\":{},\"id\":\"89703c7a-fa5d-43c4-9ee7-a76690995656\",\"type\":\"ToolEvents\"},{\"attributes\":{\"line_alpha\":{\"value\":0.1},\"line_color\":{\"value\":\"#1f77b4\"},\"xs\":{\"field\":\"xs\"},\"ys\":{\"field\":\"ys\"}},\"id\":\"78abc29f-da4e-400e-a695-4b0992108411\",\"type\":\"MultiLine\"},{\"attributes\":{\"plot\":{\"id\":\"6ee12fb9-7a40-49f1-9d31-8445636b2ca6\",\"subtype\":\"Figure\",\"type\":\"Plot\"}},\"id\":\"97386cf6-6519-44e4-97a7-a4557e355afa\",\"type\":\"SaveTool\"},{\"attributes\":{\"bottom\":{\"field\":\"bottom\"},\"fill_color\":{\"field\":\"fill_color\"},\"left\":{\"field\":\"left\"},\"line_color\":{\"value\":null},\"right\":{\"field\":\"right\"},\"top\":{\"field\":\"top\"}},\"id\":\"1bcf5999-0c45-4f90-a20a-5287aec5f594\",\"type\":\"Quad\"},{\"attributes\":{},\"id\":\"60f325c8-79e7-4198-845f-4a3ad7a9325c\",\"type\":\"BasicTicker\"},{\"attributes\":{\"plot\":null,\"text\":null},\"id\":\"24f6544d-297d-4735-b9d4-ce9aedd760fe\",\"type\":\"Title\"},{\"attributes\":{},\"id\":\"d874d439-0025-424c-ad7a-deab5699f1ca\",\"type\":\"BasicTickFormatter\"},{\"attributes\":{\"below\":[{\"id\":\"8ce792cd-276b-440b-81c0-82cd2ae27e3a\",\"type\":\"LinearAxis\"}],\"left\":[{\"id\":\"7860f352-1b1f-4133-8ece-391101a85db8\",\"type\":\"LinearAxis\"}],\"plot_height\":400,\"plot_width\":900,\"renderers\":[{\"id\":\"8ce792cd-276b-440b-81c0-82cd2ae27e3a\",\"type\":\"LinearAxis\"},{\"id\":\"0989ace7-fc0f-4c1f-8de4-962bd6cca446\",\"type\":\"Grid\"},{\"id\":\"7860f352-1b1f-4133-8ece-391101a85db8\",\"type\":\"LinearAxis\"},{\"id\":\"1e0c7855-618d-4694-829b-a34c634e63c7\",\"type\":\"Grid\"},{\"id\":\"6c264c7d-64da-4b1a-ad30-ca85c0e78134\",\"type\":\"BoxAnnotation\"},{\"id\":\"7853c923-05cc-4d5b-8be8-9164ec084d0a\",\"type\":\"GlyphRenderer\"},{\"id\":\"d5439ecc-f4ce-415c-9c1d-ea00cbed606c\",\"type\":\"GlyphRenderer\"},{\"id\":\"e3a842cc-20c6-46f2-b8eb-406b33df54dd\",\"type\":\"LabelSet\"},{\"id\":\"b8c60cf7-4192-48fa-8267-5baa9c0eb740\",\"type\":\"GlyphRenderer\"},{\"id\":\"f5eb56f2-f684-405f-a021-6ba168181529\",\"type\":\"LabelSet\"}],\"title\":{\"id\":\"24f6544d-297d-4735-b9d4-ce9aedd760fe\",\"type\":\"Title\"},\"tool_events\":{\"id\":\"89703c7a-fa5d-43c4-9ee7-a76690995656\",\"type\":\"ToolEvents\"},\"toolbar\":{\"id\":\"31ae5d7c-cdd3-4e11-8a82-66f4307001a5\",\"type\":\"Toolbar\"},\"toolbar_location\":null,\"x_range\":{\"id\":\"03718a12-71b0-441f-9238-8ed9848e3beb\",\"type\":\"Range1d\"},\"y_range\":{\"id\":\"a89f2c52-18a4-4f62-af72-2a4380f9bf25\",\"type\":\"Range1d\"}},\"id\":\"6ee12fb9-7a40-49f1-9d31-8445636b2ca6\",\"subtype\":\"Figure\",\"type\":\"Plot\"},{\"attributes\":{\"callback\":null,\"end\":400},\"id\":\"a89f2c52-18a4-4f62-af72-2a4380f9bf25\",\"type\":\"Range1d\"},{\"attributes\":{\"plot\":{\"id\":\"6ee12fb9-7a40-49f1-9d31-8445636b2ca6\",\"subtype\":\"Figure\",\"type\":\"Plot\"}},\"id\":\"edc486b2-2c2b-4eed-ad4b-1d5d75a408a5\",\"type\":\"WheelZoomTool\"},{\"attributes\":{},\"id\":\"218b944b-50d1-4424-9936-de5e8679deb6\",\"type\":\"BasicTickFormatter\"}],\"root_ids\":[\"6ee12fb9-7a40-49f1-9d31-8445636b2ca6\"]},\"title\":\"Bokeh Application\",\"version\":\"0.12.0\"}};\n",
       "            var render_items = [{\"docid\":\"ec828717-cd1b-4474-a0c1-4fedc6864843\",\"elementid\":\"c1951477-47a1-4f54-9928-dbb531cf2aef\",\"modelid\":\"6ee12fb9-7a40-49f1-9d31-8445636b2ca6\",\"notebook_comms_target\":\"c141cd62-e8a3-471d-8c0c-50aa2364e15e\"}];\n",
       "            \n",
       "            Bokeh.embed.embed_items(docs_json, render_items);\n",
       "        });\n",
       "      },\n",
       "      function(Bokeh) {\n",
       "      }\n",
       "    ];\n",
       "  \n",
       "    function run_inline_js() {\n",
       "      for (var i = 0; i < inline_js.length; i++) {\n",
       "        inline_js[i](window.Bokeh);\n",
       "      }\n",
       "    }\n",
       "  \n",
       "    if (window._bokeh_is_loading === 0) {\n",
       "      console.log(\"Bokeh: BokehJS loaded, going straight to plotting\");\n",
       "      run_inline_js();\n",
       "    } else {\n",
       "      load_libs(js_urls, function() {\n",
       "        console.log(\"Bokeh: BokehJS plotting callback run at\", now());\n",
       "        run_inline_js();\n",
       "      });\n",
       "    }\n",
       "  }(this));\n",
       "</script>"
      ]
     },
     "metadata": {},
     "output_type": "display_data"
    },
    {
     "data": {
      "text/html": [
       "<p><code>&lt;Bokeh Notebook handle for <strong>In[8]</strong>&gt;</code></p>"
      ],
      "text/plain": [
       "<bokeh.io._CommsHandle at 0x7f165ccd7410>"
      ]
     },
     "execution_count": 8,
     "metadata": {},
     "output_type": "execute_result"
    }
   ],
   "source": [
    "plt_obj = dm.superset_basis_yes_no(dm.di_26_1414, [dm.di_6_1503], min_match=0.1)\n",
    "plt = plt_obj.do_plot()\n",
    "show(plt)"
   ]
  },
  {
   "cell_type": "code",
   "execution_count": 9,
   "metadata": {
    "collapsed": false
   },
   "outputs": [
    {
     "data": {
      "text/html": [
       "<table>\n",
       "<thead><tr><th style=\"text-align:center\">index</th><th style=\"text-align:center\">first</th><th style=\"text-align:center\">length</th><th style=\"text-align:center\">snps</th><th style=\"text-align:center\" colspan=2>alleles</th><th style=\"text-align:center\" colspan=2>matches</th><th style=\"text-align:center\" colspan=2>afr</th><th style=\"text-align:center\" colspan=2>afx</th><th style=\"text-align:center\" colspan=2>amr</th><th style=\"text-align:center\" colspan=2>eas</th><th style=\"text-align:center\" colspan=2>eur</th><th style=\"text-align:center\" colspan=2>sas</th><th style=\"text-align:center\" colspan=2>sax</th></tr></thead>\n",
       "<tr class=\"even\"><td style=\"text-align: right;\">353921</td><td style=\"text-align: right;\">136,501,840</td><td style=\"text-align: right;\">53,819</td><td style=\"text-align: right;\">10</td><td style=\"text-align: right;\">2206</td><td style=\"text-align: right;\">0.09</td><td style=\"text-align: right;\">202</td><td style=\"text-align: right;\">1.00</td><td style=\"text-align: right;\">6</td><td style=\"text-align: right;\">0.15</td><td style=\"text-align: right;\">2</td><td style=\"text-align: right;\">0.16</td><td style=\"text-align: right;\">39</td><td style=\"text-align: right;\">1.39</td><td style=\"text-align: right;\">80</td><td style=\"text-align: right;\">1.97</td><td style=\"text-align: right;\">20</td><td style=\"text-align: right;\">0.49</td><td style=\"text-align: right;\">19</td><td style=\"text-align: right;\">1.29</td><td style=\"text-align: right;\">36</td><td style=\"text-align: right;\">1.45</td></tr>\n",
       "<tr><td style=\"text-align: right;\">354170</td><td style=\"text-align: right;\">136,682,274</td><td style=\"text-align: right;\">93,624</td><td style=\"text-align: right;\">7</td><td style=\"text-align: right;\">1868</td><td style=\"text-align: right;\">0.09</td><td style=\"text-align: right;\">162</td><td style=\"text-align: right;\">0.80</td><td style=\"text-align: right;\">6</td><td style=\"text-align: right;\">0.18</td><td style=\"text-align: right;\">1</td><td style=\"text-align: right;\">0.10</td><td style=\"text-align: right;\">20</td><td style=\"text-align: right;\">0.89</td><td style=\"text-align: right;\">63</td><td style=\"text-align: right;\">1.93</td><td style=\"text-align: right;\">20</td><td style=\"text-align: right;\">0.61</td><td style=\"text-align: right;\">18</td><td style=\"text-align: right;\">1.53</td><td style=\"text-align: right;\">34</td><td style=\"text-align: right;\">1.71</td></tr>\n",
       "<tr class=\"even\"><td style=\"text-align: right;\">353462</td><td style=\"text-align: right;\">135,915,358</td><td style=\"text-align: right;\">79,721</td><td style=\"text-align: right;\">4</td><td style=\"text-align: right;\">1699</td><td style=\"text-align: right;\">0.12</td><td style=\"text-align: right;\">201</td><td style=\"text-align: right;\">1.00</td><td style=\"text-align: right;\">6</td><td style=\"text-align: right;\">0.15</td><td style=\"text-align: right;\">2</td><td style=\"text-align: right;\">0.16</td><td style=\"text-align: right;\">39</td><td style=\"text-align: right;\">1.40</td><td style=\"text-align: right;\">80</td><td style=\"text-align: right;\">1.98</td><td style=\"text-align: right;\">20</td><td style=\"text-align: right;\">0.50</td><td style=\"text-align: right;\">19</td><td style=\"text-align: right;\">1.30</td><td style=\"text-align: right;\">35</td><td style=\"text-align: right;\">1.42</td></tr>\n",
       "<tr><td style=\"text-align: right;\">353901</td><td style=\"text-align: right;\">136,494,186</td><td style=\"text-align: right;\">271,765</td><td style=\"text-align: right;\">64</td><td style=\"text-align: right;\">1575</td><td style=\"text-align: right;\">0.10</td><td style=\"text-align: right;\">164</td><td style=\"text-align: right;\">0.81</td><td style=\"text-align: right;\">6</td><td style=\"text-align: right;\">0.18</td><td style=\"text-align: right;\">1</td><td style=\"text-align: right;\">0.10</td><td style=\"text-align: right;\">19</td><td style=\"text-align: right;\">0.84</td><td style=\"text-align: right;\">65</td><td style=\"text-align: right;\">1.97</td><td style=\"text-align: right;\">20</td><td style=\"text-align: right;\">0.61</td><td style=\"text-align: right;\">18</td><td style=\"text-align: right;\">1.51</td><td style=\"text-align: right;\">35</td><td style=\"text-align: right;\">1.74</td></tr>\n",
       "<tr class=\"even\"><td style=\"text-align: right;\">353283</td><td style=\"text-align: right;\">135,771,974</td><td style=\"text-align: right;\">368,330</td><td style=\"text-align: right;\">6</td><td style=\"text-align: right;\">1503</td><td style=\"text-align: right;\">0.13</td><td style=\"text-align: right;\">202</td><td style=\"text-align: right;\">1.00</td><td style=\"text-align: right;\">6</td><td style=\"text-align: right;\">0.15</td><td style=\"text-align: right;\">2</td><td style=\"text-align: right;\">0.16</td><td style=\"text-align: right;\">39</td><td style=\"text-align: right;\">1.39</td><td style=\"text-align: right;\">80</td><td style=\"text-align: right;\">1.97</td><td style=\"text-align: right;\">20</td><td style=\"text-align: right;\">0.49</td><td style=\"text-align: right;\">19</td><td style=\"text-align: right;\">1.29</td><td style=\"text-align: right;\">36</td><td style=\"text-align: right;\">1.45</td></tr>\n",
       "<tr><td style=\"text-align: right;\">353797</td><td style=\"text-align: right;\">136,398,174</td><td style=\"text-align: right;\">75,924</td><td style=\"text-align: right;\">26</td><td style=\"text-align: right;\">1414</td><td style=\"text-align: right;\">0.14</td><td style=\"text-align: right;\">202</td><td style=\"text-align: right;\">1.00</td><td style=\"text-align: right;\">6</td><td style=\"text-align: right;\">0.15</td><td style=\"text-align: right;\">2</td><td style=\"text-align: right;\">0.16</td><td style=\"text-align: right;\">39</td><td style=\"text-align: right;\">1.39</td><td style=\"text-align: right;\">80</td><td style=\"text-align: right;\">1.97</td><td style=\"text-align: right;\">20</td><td style=\"text-align: right;\">0.49</td><td style=\"text-align: right;\">19</td><td style=\"text-align: right;\">1.29</td><td style=\"text-align: right;\">36</td><td style=\"text-align: right;\">1.45</td></tr>\n",
       "</table>"
      ],
      "text/plain": [
       "<IPython.core.display.HTML object>"
      ]
     },
     "execution_count": 9,
     "metadata": {},
     "output_type": "execute_result"
    }
   ],
   "source": [
    "HTML(plt_obj.get_html())"
   ]
  },
  {
   "cell_type": "markdown",
   "metadata": {},
   "source": [
    "<div style=\"width:700px\">\n",
    "<p>\n",
    "The plot below shows the series expressed by samples that express the EUR root and series 4_911\n",
    "but not series 11_765.  Almost half of these samples have lost the series 64_1575 and 7_1868.\n",
    "</div>"
   ]
  },
  {
   "cell_type": "code",
   "execution_count": 10,
   "metadata": {
    "collapsed": false
   },
   "outputs": [
    {
     "data": {
      "text/html": [
       "\n",
       "\n",
       "    <div class=\"bk-root\">\n",
       "        <div class=\"plotdiv\" id=\"e44ebb9d-c98f-4ed6-b394-24cde7c41d83\"></div>\n",
       "    </div>\n",
       "<script type=\"text/javascript\">\n",
       "  \n",
       "  (function(global) {\n",
       "    function now() {\n",
       "      return new Date();\n",
       "    }\n",
       "  \n",
       "    if (typeof (window._bokeh_onload_callbacks) === \"undefined\") {\n",
       "      window._bokeh_onload_callbacks = [];\n",
       "    }\n",
       "  \n",
       "    function run_callbacks() {\n",
       "      window._bokeh_onload_callbacks.forEach(function(callback) { callback() });\n",
       "      delete window._bokeh_onload_callbacks\n",
       "      console.info(\"Bokeh: all callbacks have finished\");\n",
       "    }\n",
       "  \n",
       "    function load_libs(js_urls, callback) {\n",
       "      window._bokeh_onload_callbacks.push(callback);\n",
       "      if (window._bokeh_is_loading > 0) {\n",
       "        console.log(\"Bokeh: BokehJS is being loaded, scheduling callback at\", now());\n",
       "        return null;\n",
       "      }\n",
       "      if (js_urls == null || js_urls.length === 0) {\n",
       "        run_callbacks();\n",
       "        return null;\n",
       "      }\n",
       "      console.log(\"Bokeh: BokehJS not loaded, scheduling load and callback at\", now());\n",
       "      window._bokeh_is_loading = js_urls.length;\n",
       "      for (var i = 0; i < js_urls.length; i++) {\n",
       "        var url = js_urls[i];\n",
       "        var s = document.createElement('script');\n",
       "        s.src = url;\n",
       "        s.async = false;\n",
       "        s.onreadystatechange = s.onload = function() {\n",
       "          window._bokeh_is_loading--;\n",
       "          if (window._bokeh_is_loading === 0) {\n",
       "            console.log(\"Bokeh: all BokehJS libraries loaded\");\n",
       "            run_callbacks()\n",
       "          }\n",
       "        };\n",
       "        s.onerror = function() {\n",
       "          console.warn(\"failed to load library \" + url);\n",
       "        };\n",
       "        console.log(\"Bokeh: injecting script tag for BokehJS library: \", url);\n",
       "        document.getElementsByTagName(\"head\")[0].appendChild(s);\n",
       "      }\n",
       "    };var element = document.getElementById(\"e44ebb9d-c98f-4ed6-b394-24cde7c41d83\");\n",
       "    if (element == null) {\n",
       "      console.log(\"Bokeh: ERROR: autoload.js configured with elementid 'e44ebb9d-c98f-4ed6-b394-24cde7c41d83' but no matching script tag was found. \")\n",
       "      return false;\n",
       "    }\n",
       "  \n",
       "    var js_urls = [];\n",
       "  \n",
       "    var inline_js = [\n",
       "      function(Bokeh) {\n",
       "        Bokeh.$(function() {\n",
       "            var docs_json = {\"2083bc92-e296-43d6-921d-d22330856cd9\":{\"roots\":{\"references\":[{\"attributes\":{\"plot\":{\"id\":\"cc3f1b5c-0a7e-4c1c-bc2b-c57b413f39ef\",\"subtype\":\"Figure\",\"type\":\"Plot\"}},\"id\":\"1b907d2b-cc3b-488d-ac6c-2e1d45b28c6d\",\"type\":\"HelpTool\"},{\"attributes\":{},\"id\":\"fbad25a4-dac6-4045-916d-92623c0c3cee\",\"type\":\"BasicTickFormatter\"},{\"attributes\":{\"callback\":null,\"end\":500},\"id\":\"3994cac1-b721-4431-98ca-94fdd02d9791\",\"type\":\"Range1d\"},{\"attributes\":{\"formatter\":{\"id\":\"1a909ffa-f4fe-4977-9177-b6e94e6d93c2\",\"type\":\"BasicTickFormatter\"},\"plot\":{\"id\":\"cc3f1b5c-0a7e-4c1c-bc2b-c57b413f39ef\",\"subtype\":\"Figure\",\"type\":\"Plot\"},\"ticker\":{\"id\":\"2b5ebe11-63ab-4c6c-9956-1e96cb1c81d8\",\"type\":\"BasicTicker\"},\"visible\":null},\"id\":\"d212a6fc-78a5-4d6f-903a-fda1f4076e18\",\"type\":\"LinearAxis\"},{\"attributes\":{\"bottom\":{\"field\":\"bottom\"},\"fill_color\":{\"field\":\"fill_color\"},\"left\":{\"field\":\"left\"},\"line_color\":{\"value\":null},\"right\":{\"field\":\"right\"},\"top\":{\"field\":\"top\"}},\"id\":\"ee758c10-9ffd-49ad-b731-baf2ad0c254d\",\"type\":\"Quad\"},{\"attributes\":{\"plot\":{\"id\":\"cc3f1b5c-0a7e-4c1c-bc2b-c57b413f39ef\",\"subtype\":\"Figure\",\"type\":\"Plot\"}},\"id\":\"b6060df0-4d35-4157-9a50-7163978f6b59\",\"type\":\"SaveTool\"},{\"attributes\":{\"plot\":{\"id\":\"cc3f1b5c-0a7e-4c1c-bc2b-c57b413f39ef\",\"subtype\":\"Figure\",\"type\":\"Plot\"}},\"id\":\"d13e8772-647e-49d3-bfea-ea0b2e50d752\",\"type\":\"WheelZoomTool\"},{\"attributes\":{\"callback\":null,\"column_names\":[\"y\",\"x\",\"vals\"],\"data\":{\"vals\":[\"6_1503\",\"4_1699\",\"4_911\",\"26_1414\",\"64_1575\",\"10_2206\",\"7_1868\"],\"x\":[135771974,135915358,136092061,136398174,136494186,136501840,136682274],\"y\":[200.0,301.0,95.0,199.0,300.0,403.0,402.0]}},\"id\":\"77049132-395d-4478-a770-9a7320a62a87\",\"type\":\"ColumnDataSource\"},{\"attributes\":{\"data_source\":{\"id\":\"7d8bc83c-51c2-4e0d-b569-cb6ed58bb573\",\"type\":\"ColumnDataSource\"},\"glyph\":{\"id\":\"f9bb4f35-6a67-480c-baaa-9dd7f81d66fe\",\"type\":\"Quad\"},\"hover_glyph\":null,\"nonselection_glyph\":{\"id\":\"981acbbf-9252-40ca-a10f-392707ab356a\",\"type\":\"Quad\"},\"selection_glyph\":null},\"id\":\"0240df0f-5f6b-4dd6-b6df-4e011b4e8a16\",\"type\":\"GlyphRenderer\"},{\"attributes\":{},\"id\":\"2b5ebe11-63ab-4c6c-9956-1e96cb1c81d8\",\"type\":\"BasicTicker\"},{\"attributes\":{\"callback\":null,\"column_names\":[\"right\",\"bottom\",\"top\",\"left\",\"fill_color\"],\"data\":{\"bottom\":[150,250,50,150,250,350,350],\"fill_color\":[\"#61c461\",\"#61c461\",\"#00ff00\",\"#61c461\",\"#61c461\",\"#808080\",\"#61c461\"],\"left\":[135771974,135915358,136092061,136398174,136494186,136501840,136682274],\"right\":[136140304,135995079,136407479,136474098,136765951,136555659,136775898],\"top\":[195,296,90,194,295,398,397]}},\"id\":\"3803e830-9c07-48f9-80a9-c5adc7ba5d93\",\"type\":\"ColumnDataSource\"},{\"attributes\":{\"line_alpha\":{\"value\":0.1},\"line_color\":{\"value\":\"#1f77b4\"},\"xs\":{\"field\":\"xs\"},\"ys\":{\"field\":\"ys\"}},\"id\":\"a2972a6c-d7bf-4e8c-aa2c-3bc67bf7e688\",\"type\":\"MultiLine\"},{\"attributes\":{\"bottom\":{\"field\":\"bottom\"},\"fill_color\":{\"value\":\"white\"},\"left\":{\"field\":\"left\"},\"right\":{\"field\":\"right\"},\"top\":{\"field\":\"top\"}},\"id\":\"f9bb4f35-6a67-480c-baaa-9dd7f81d66fe\",\"type\":\"Quad\"},{\"attributes\":{\"bottom\":{\"field\":\"bottom\"},\"fill_alpha\":{\"value\":0.1},\"fill_color\":{\"value\":\"#1f77b4\"},\"left\":{\"field\":\"left\"},\"line_alpha\":{\"value\":0.1},\"line_color\":{\"value\":\"#1f77b4\"},\"right\":{\"field\":\"right\"},\"top\":{\"field\":\"top\"}},\"id\":\"f5888099-3ad1-401a-aff7-ac44f35a21d1\",\"type\":\"Quad\"},{\"attributes\":{\"callback\":null,\"column_names\":[\"right\",\"bottom\",\"top\",\"left\"],\"data\":{\"bottom\":[445,445,445,445,445,445,445],\"left\":[135809835,135957574,136289083,136499189,136545415,136597196,136664254],\"right\":[135928279,136288182,136482839,136542633,136594750,136634047,136743222],\"top\":[475,475,475,475,475,475,475]}},\"id\":\"7d8bc83c-51c2-4e0d-b569-cb6ed58bb573\",\"type\":\"ColumnDataSource\"},{\"attributes\":{\"overlay\":{\"id\":\"980b93bb-7ac0-4eb3-acb2-b83b3f87106a\",\"type\":\"BoxAnnotation\"},\"plot\":{\"id\":\"cc3f1b5c-0a7e-4c1c-bc2b-c57b413f39ef\",\"subtype\":\"Figure\",\"type\":\"Plot\"}},\"id\":\"463586b3-b689-4d79-8af7-3d156430804f\",\"type\":\"BoxZoomTool\"},{\"attributes\":{},\"id\":\"1a909ffa-f4fe-4977-9177-b6e94e6d93c2\",\"type\":\"BasicTickFormatter\"},{\"attributes\":{\"level\":\"glyph\",\"plot\":{\"id\":\"cc3f1b5c-0a7e-4c1c-bc2b-c57b413f39ef\",\"subtype\":\"Figure\",\"type\":\"Plot\"},\"source\":{\"id\":\"77049132-395d-4478-a770-9a7320a62a87\",\"type\":\"ColumnDataSource\"},\"text\":{\"field\":\"vals\"},\"text_font_size\":{\"value\":\"9pt\"},\"text_font_style\":\"bold\",\"x\":{\"field\":\"x\"},\"y\":{\"field\":\"y\"}},\"id\":\"56ca0a0b-ed45-495b-8ffe-14fbe9c2ae6c\",\"type\":\"LabelSet\"},{\"attributes\":{\"callback\":null,\"column_names\":[\"xs\",\"ys\",\"line_color\"],\"data\":{\"line_color\":[\"black\",\"black\",\"black\",\"black\",\"black\",\"black\",\"black\",\"black\",\"black\",\"black\",\"black\",\"black\",\"black\",\"black\",\"black\",\"black\",\"black\",\"black\",\"black\",\"black\",\"black\",\"black\",\"black\",\"black\",\"black\",\"black\",\"black\",\"black\",\"black\",\"black\",\"black\",\"black\",\"black\",\"black\",\"black\",\"black\",\"black\",\"black\",\"black\",\"black\",\"black\",\"black\",\"black\",\"black\",\"black\",\"black\",\"black\",\"black\",\"black\",\"black\",\"black\",\"black\",\"black\",\"black\",\"black\",\"black\",\"black\",\"black\",\"black\",\"black\",\"black\",\"black\",\"black\",\"black\",\"black\",\"black\",\"black\",\"black\",\"black\",\"black\",\"black\",\"black\",\"black\",\"black\",\"black\",\"black\",\"black\",\"black\",\"black\",\"black\",\"black\",\"black\",\"black\",\"black\",\"black\",\"black\",\"black\",\"black\",\"black\",\"black\",\"black\",\"black\",\"black\",\"black\",\"black\",\"black\",\"black\",\"black\",\"black\",\"black\",\"black\",\"black\",\"black\",\"black\",\"black\",\"black\",\"black\",\"black\",\"black\",\"black\",\"black\",\"black\",\"black\",\"black\",\"black\",\"black\",\"black\",\"black\",\"black\",\"black\",\"black\"],\"xs\":[[135771974,135771974],[135859371,135859371],[135877562,135877562],[136022798,136022798],[136058820,136058820],[136140304,136140304],[135915358,135915358],[135954405,135954405],[135995073,135995073],[135995079,135995079],[136092061,136092061],[136273578,136273578],[136322676,136322676],[136407479,136407479],[136398174,136398174],[136402117,136402117],[136403749,136403749],[136409073,136409073],[136410299,136410299],[136413359,136413359],[136416855,136416855],[136416941,136416941],[136418348,136418348],[136419961,136419961],[136420690,136420690],[136422171,136422171],[136428460,136428460],[136430866,136430866],[136432103,136432103],[136437507,136437507],[136439090,136439090],[136439517,136439517],[136444123,136444123],[136445526,136445526],[136445869,136445869],[136455600,136455600],[136456642,136456642],[136462441,136462441],[136470714,136470714],[136474098,136474098],[136494186,136494186],[136495300,136495300],[136495619,136495619],[136499166,136499166],[136502792,136502792],[136503157,136503157],[136507039,136507039],[136511575,136511575],[136518103,136518103],[136521514,136521514],[136522675,136522675],[136522941,136522941],[136526981,136526981],[136535410,136535410],[136539122,136539122],[136544197,136544197],[136550109,136550109],[136551694,136551694],[136553188,136553188],[136553639,136553639],[136554800,136554800],[136557319,136557319],[136558157,136558157],[136569848,136569848],[136575199,136575199],[136576577,136576577],[136578536,136578536],[136580287,136580287],[136583192,136583192],[136586958,136586958],[136588478,136588478],[136589612,136589612],[136591178,136591178],[136591859,136591859],[136593760,136593760],[136594158,136594158],[136603276,136603276],[136603366,136603366],[136608231,136608231],[136609975,136609975],[136610598,136610598],[136611624,136611624],[136613780,136613780],[136614255,136614255],[136614813,136614813],[136617524,136617524],[136622216,136622216],[136625602,136625602],[136629911,136629911],[136630757,136630757],[136630989,136630989],[136631031,136631031],[136633771,136633771],[136636324,136636324],[136638216,136638216],[136640233,136640233],[136641882,136641882],[136643555,136643555],[136658345,136658345],[136670298,136670298],[136685228,136685228],[136696138,136696138],[136740900,136740900],[136765951,136765951],[136501840,136501840],[136505546,136505546],[136516748,136516748],[136522710,136522710],[136528004,136528004],[136539513,136539513],[136544752,136544752],[136546110,136546110],[136553529,136553529],[136555659,136555659],[136682274,136682274],[136691825,136691825],[136698098,136698098],[136721603,136721603],[136721995,136721995],[136755684,136755684],[136775898,136775898]],\"ys\":[[150,195],[150,195],[150,195],[150,195],[150,195],[150,195],[250,296],[250,296],[250,296],[250,296],[50,90],[50,90],[50,90],[50,90],[150,194],[150,194],[150,194],[150,194],[150,194],[150,194],[150,194],[150,194],[150,194],[150,194],[150,194],[150,194],[150,194],[150,194],[150,194],[150,194],[150,194],[150,194],[150,194],[150,194],[150,194],[150,194],[150,194],[150,194],[150,194],[150,194],[250,295],[250,295],[250,295],[250,295],[250,295],[250,295],[250,295],[250,295],[250,295],[250,295],[250,295],[250,295],[250,295],[250,295],[250,295],[250,295],[250,295],[250,295],[250,295],[250,295],[250,295],[250,295],[250,295],[250,295],[250,295],[250,295],[250,295],[250,295],[250,295],[250,295],[250,295],[250,295],[250,295],[250,295],[250,295],[250,295],[250,295],[250,295],[250,295],[250,295],[250,295],[250,295],[250,295],[250,295],[250,295],[250,295],[250,295],[250,295],[250,295],[250,295],[250,295],[250,295],[250,295],[250,295],[250,295],[250,295],[250,295],[250,295],[250,295],[250,295],[250,295],[250,295],[250,295],[250,295],[350,398],[350,398],[350,398],[350,398],[350,398],[350,398],[350,398],[350,398],[350,398],[350,398],[350,397],[350,397],[350,397],[350,397],[350,397],[350,397],[350,397]]}},\"id\":\"80592232-fe8a-48bb-93b6-84b871bd2b71\",\"type\":\"ColumnDataSource\"},{\"attributes\":{\"plot\":{\"id\":\"cc3f1b5c-0a7e-4c1c-bc2b-c57b413f39ef\",\"subtype\":\"Figure\",\"type\":\"Plot\"}},\"id\":\"8be5e447-3d9d-4077-9f1d-2c0387c0bace\",\"type\":\"PanTool\"},{\"attributes\":{\"formatter\":{\"id\":\"fbad25a4-dac6-4045-916d-92623c0c3cee\",\"type\":\"BasicTickFormatter\"},\"plot\":{\"id\":\"cc3f1b5c-0a7e-4c1c-bc2b-c57b413f39ef\",\"subtype\":\"Figure\",\"type\":\"Plot\"},\"ticker\":{\"id\":\"9587238e-9996-47eb-b593-dd38dd0ecd5a\",\"type\":\"BasicTicker\"}},\"id\":\"e4516b7a-aaa3-443a-ba87-8cca2415b885\",\"type\":\"LinearAxis\"},{\"attributes\":{\"plot\":{\"id\":\"cc3f1b5c-0a7e-4c1c-bc2b-c57b413f39ef\",\"subtype\":\"Figure\",\"type\":\"Plot\"},\"ticker\":{\"id\":\"9587238e-9996-47eb-b593-dd38dd0ecd5a\",\"type\":\"BasicTicker\"}},\"id\":\"56d2246c-f676-4a21-91f4-147a014047e1\",\"type\":\"Grid\"},{\"attributes\":{\"callback\":null,\"column_names\":[\"y\",\"x\",\"vals\"],\"data\":{\"vals\":[\"RAB3GAP1\",\"ZRANB3\",\"R3HDM1\",\"UBXN4\",\"LCT\",\"MCM6\",\"DARS\"],\"x\":[135869057.0,136122878.0,136385961.0,136520911.0,136570082.5,136615621.5,136703738.0],\"y\":[460.0,460.0,460.0,460.0,460.0,460.0,460.0]}},\"id\":\"4c7dab91-d9a2-4da8-8020-1ce738f4fd36\",\"type\":\"ColumnDataSource\"},{\"attributes\":{\"bottom_units\":\"screen\",\"fill_alpha\":{\"value\":0.5},\"fill_color\":{\"value\":\"lightgrey\"},\"left_units\":\"screen\",\"level\":\"overlay\",\"line_alpha\":{\"value\":1.0},\"line_color\":{\"value\":\"black\"},\"line_dash\":[4,4],\"line_width\":{\"value\":2},\"plot\":null,\"render_mode\":\"css\",\"right_units\":\"screen\",\"top_units\":\"screen\"},\"id\":\"980b93bb-7ac0-4eb3-acb2-b83b3f87106a\",\"type\":\"BoxAnnotation\"},{\"attributes\":{\"bottom\":{\"field\":\"bottom\"},\"fill_alpha\":{\"value\":0.1},\"fill_color\":{\"value\":\"#1f77b4\"},\"left\":{\"field\":\"left\"},\"line_alpha\":{\"value\":0.1},\"line_color\":{\"value\":\"#1f77b4\"},\"right\":{\"field\":\"right\"},\"top\":{\"field\":\"top\"}},\"id\":\"981acbbf-9252-40ca-a10f-392707ab356a\",\"type\":\"Quad\"},{\"attributes\":{\"data_source\":{\"id\":\"80592232-fe8a-48bb-93b6-84b871bd2b71\",\"type\":\"ColumnDataSource\"},\"glyph\":{\"id\":\"7195ff87-68ad-4cae-880d-a1ce316e6325\",\"type\":\"MultiLine\"},\"hover_glyph\":null,\"nonselection_glyph\":{\"id\":\"a2972a6c-d7bf-4e8c-aa2c-3bc67bf7e688\",\"type\":\"MultiLine\"},\"selection_glyph\":null},\"id\":\"4b7a583f-5f08-4ebd-9789-a5860d1a8b80\",\"type\":\"GlyphRenderer\"},{\"attributes\":{\"below\":[{\"id\":\"e4516b7a-aaa3-443a-ba87-8cca2415b885\",\"type\":\"LinearAxis\"}],\"left\":[{\"id\":\"d212a6fc-78a5-4d6f-903a-fda1f4076e18\",\"type\":\"LinearAxis\"}],\"plot_height\":500,\"plot_width\":900,\"renderers\":[{\"id\":\"e4516b7a-aaa3-443a-ba87-8cca2415b885\",\"type\":\"LinearAxis\"},{\"id\":\"56d2246c-f676-4a21-91f4-147a014047e1\",\"type\":\"Grid\"},{\"id\":\"d212a6fc-78a5-4d6f-903a-fda1f4076e18\",\"type\":\"LinearAxis\"},{\"id\":\"82f3d383-665a-4baa-a8b8-8bb80d72bc47\",\"type\":\"Grid\"},{\"id\":\"980b93bb-7ac0-4eb3-acb2-b83b3f87106a\",\"type\":\"BoxAnnotation\"},{\"id\":\"d06c064b-2763-471d-80a7-894ae484dffb\",\"type\":\"GlyphRenderer\"},{\"id\":\"4b7a583f-5f08-4ebd-9789-a5860d1a8b80\",\"type\":\"GlyphRenderer\"},{\"id\":\"56ca0a0b-ed45-495b-8ffe-14fbe9c2ae6c\",\"type\":\"LabelSet\"},{\"id\":\"0240df0f-5f6b-4dd6-b6df-4e011b4e8a16\",\"type\":\"GlyphRenderer\"},{\"id\":\"12d88efd-35fe-4668-95be-60876023947c\",\"type\":\"LabelSet\"}],\"title\":{\"id\":\"929683eb-9a55-4817-87d2-db698ff677e0\",\"type\":\"Title\"},\"tool_events\":{\"id\":\"401b5759-8d14-439c-93e2-8ae752433d06\",\"type\":\"ToolEvents\"},\"toolbar\":{\"id\":\"bceb650f-b5a2-4a6d-80a2-949c9f7b1a2a\",\"type\":\"Toolbar\"},\"toolbar_location\":null,\"x_range\":{\"id\":\"08e56798-fe64-4ecd-8a39-35406a3c6798\",\"type\":\"Range1d\"},\"y_range\":{\"id\":\"3994cac1-b721-4431-98ca-94fdd02d9791\",\"type\":\"Range1d\"}},\"id\":\"cc3f1b5c-0a7e-4c1c-bc2b-c57b413f39ef\",\"subtype\":\"Figure\",\"type\":\"Plot\"},{\"attributes\":{},\"id\":\"401b5759-8d14-439c-93e2-8ae752433d06\",\"type\":\"ToolEvents\"},{\"attributes\":{\"data_source\":{\"id\":\"3803e830-9c07-48f9-80a9-c5adc7ba5d93\",\"type\":\"ColumnDataSource\"},\"glyph\":{\"id\":\"ee758c10-9ffd-49ad-b731-baf2ad0c254d\",\"type\":\"Quad\"},\"hover_glyph\":null,\"nonselection_glyph\":{\"id\":\"f5888099-3ad1-401a-aff7-ac44f35a21d1\",\"type\":\"Quad\"},\"selection_glyph\":null},\"id\":\"d06c064b-2763-471d-80a7-894ae484dffb\",\"type\":\"GlyphRenderer\"},{\"attributes\":{\"callback\":null,\"end\":136786630,\"start\":135757320},\"id\":\"08e56798-fe64-4ecd-8a39-35406a3c6798\",\"type\":\"Range1d\"},{\"attributes\":{\"plot\":{\"id\":\"cc3f1b5c-0a7e-4c1c-bc2b-c57b413f39ef\",\"subtype\":\"Figure\",\"type\":\"Plot\"}},\"id\":\"b7036143-2e2f-4423-82fa-4cff0cbc5e2b\",\"type\":\"ResetTool\"},{\"attributes\":{\"plot\":null,\"text\":null},\"id\":\"929683eb-9a55-4817-87d2-db698ff677e0\",\"type\":\"Title\"},{\"attributes\":{},\"id\":\"9587238e-9996-47eb-b593-dd38dd0ecd5a\",\"type\":\"BasicTicker\"},{\"attributes\":{\"dimension\":1,\"plot\":{\"id\":\"cc3f1b5c-0a7e-4c1c-bc2b-c57b413f39ef\",\"subtype\":\"Figure\",\"type\":\"Plot\"},\"ticker\":{\"id\":\"2b5ebe11-63ab-4c6c-9956-1e96cb1c81d8\",\"type\":\"BasicTicker\"}},\"id\":\"82f3d383-665a-4baa-a8b8-8bb80d72bc47\",\"type\":\"Grid\"},{\"attributes\":{\"line_color\":{\"field\":\"line_color\"},\"xs\":{\"field\":\"xs\"},\"ys\":{\"field\":\"ys\"}},\"id\":\"7195ff87-68ad-4cae-880d-a1ce316e6325\",\"type\":\"MultiLine\"},{\"attributes\":{\"active_drag\":\"auto\",\"active_scroll\":\"auto\",\"active_tap\":\"auto\",\"tools\":[{\"id\":\"8be5e447-3d9d-4077-9f1d-2c0387c0bace\",\"type\":\"PanTool\"},{\"id\":\"d13e8772-647e-49d3-bfea-ea0b2e50d752\",\"type\":\"WheelZoomTool\"},{\"id\":\"463586b3-b689-4d79-8af7-3d156430804f\",\"type\":\"BoxZoomTool\"},{\"id\":\"b6060df0-4d35-4157-9a50-7163978f6b59\",\"type\":\"SaveTool\"},{\"id\":\"b7036143-2e2f-4423-82fa-4cff0cbc5e2b\",\"type\":\"ResetTool\"},{\"id\":\"1b907d2b-cc3b-488d-ac6c-2e1d45b28c6d\",\"type\":\"HelpTool\"}]},\"id\":\"bceb650f-b5a2-4a6d-80a2-949c9f7b1a2a\",\"type\":\"Toolbar\"},{\"attributes\":{\"level\":\"glyph\",\"plot\":{\"id\":\"cc3f1b5c-0a7e-4c1c-bc2b-c57b413f39ef\",\"subtype\":\"Figure\",\"type\":\"Plot\"},\"source\":{\"id\":\"4c7dab91-d9a2-4da8-8020-1ce738f4fd36\",\"type\":\"ColumnDataSource\"},\"text\":{\"field\":\"vals\"},\"text_align\":\"center\",\"text_baseline\":\"middle\",\"text_font_size\":{\"value\":\"8pt\"},\"x\":{\"field\":\"x\"},\"y\":{\"field\":\"y\"}},\"id\":\"12d88efd-35fe-4668-95be-60876023947c\",\"type\":\"LabelSet\"}],\"root_ids\":[\"cc3f1b5c-0a7e-4c1c-bc2b-c57b413f39ef\"]},\"title\":\"Bokeh Application\",\"version\":\"0.12.0\"}};\n",
       "            var render_items = [{\"docid\":\"2083bc92-e296-43d6-921d-d22330856cd9\",\"elementid\":\"e44ebb9d-c98f-4ed6-b394-24cde7c41d83\",\"modelid\":\"cc3f1b5c-0a7e-4c1c-bc2b-c57b413f39ef\",\"notebook_comms_target\":\"2beb61a5-9c45-4d0f-8b63-6ac92919f7e9\"}];\n",
       "            \n",
       "            Bokeh.embed.embed_items(docs_json, render_items);\n",
       "        });\n",
       "      },\n",
       "      function(Bokeh) {\n",
       "      }\n",
       "    ];\n",
       "  \n",
       "    function run_inline_js() {\n",
       "      for (var i = 0; i < inline_js.length; i++) {\n",
       "        inline_js[i](window.Bokeh);\n",
       "      }\n",
       "    }\n",
       "  \n",
       "    if (window._bokeh_is_loading === 0) {\n",
       "      console.log(\"Bokeh: BokehJS loaded, going straight to plotting\");\n",
       "      run_inline_js();\n",
       "    } else {\n",
       "      load_libs(js_urls, function() {\n",
       "        console.log(\"Bokeh: BokehJS plotting callback run at\", now());\n",
       "        run_inline_js();\n",
       "      });\n",
       "    }\n",
       "  }(this));\n",
       "</script>"
      ]
     },
     "metadata": {},
     "output_type": "display_data"
    },
    {
     "data": {
      "text/html": [
       "<p><code>&lt;Bokeh Notebook handle for <strong>In[10]</strong>&gt;</code></p>"
      ],
      "text/plain": [
       "<bokeh.io._CommsHandle at 0x7f165cc67ed0>"
      ]
     },
     "execution_count": 10,
     "metadata": {},
     "output_type": "execute_result"
    }
   ],
   "source": [
    "plt_obj = dm.superset_yes_no([dm.di_26_1414, dm.di_6_1503, dm.di_4_911], [dm.di_11_765], min_match=0.5)\n",
    "plt = plt_obj.do_plot()\n",
    "show(plt)"
   ]
  },
  {
   "cell_type": "code",
   "execution_count": 11,
   "metadata": {
    "collapsed": false
   },
   "outputs": [
    {
     "data": {
      "text/html": [
       "<table>\n",
       "<thead><tr><th style=\"text-align:center\">index</th><th style=\"text-align:center\">first</th><th style=\"text-align:center\">length</th><th style=\"text-align:center\">snps</th><th style=\"text-align:center\" colspan=2>alleles</th><th style=\"text-align:center\" colspan=2>matches</th><th style=\"text-align:center\" colspan=2>afr</th><th style=\"text-align:center\" colspan=2>afx</th><th style=\"text-align:center\" colspan=2>amr</th><th style=\"text-align:center\" colspan=2>eas</th><th style=\"text-align:center\" colspan=2>eur</th><th style=\"text-align:center\" colspan=2>sas</th><th style=\"text-align:center\" colspan=2>sax</th></tr></thead>\n",
       "<tr class=\"even\"><td style=\"text-align: right;\">353921</td><td style=\"text-align: right;\">136,501,840</td><td style=\"text-align: right;\">53,819</td><td style=\"text-align: right;\">10</td><td style=\"text-align: right;\">2206</td><td style=\"text-align: right;\">0.06</td><td style=\"text-align: right;\">136</td><td style=\"text-align: right;\">0.92</td><td style=\"text-align: right;\">0</td><td style=\"text-align: right;\">0.00</td><td style=\"text-align: right;\">0</td><td style=\"text-align: right;\">0.00</td><td style=\"text-align: right;\">55</td><td style=\"text-align: right;\">3.13</td><td style=\"text-align: right;\">0</td><td style=\"text-align: right;\">0.00</td><td style=\"text-align: right;\">37</td><td style=\"text-align: right;\">2.21</td><td style=\"text-align: right;\">16</td><td style=\"text-align: right;\">1.62</td><td style=\"text-align: right;\">28</td><td style=\"text-align: right;\">1.54</td></tr>\n",
       "<tr><td style=\"text-align: right;\">354170</td><td style=\"text-align: right;\">136,682,274</td><td style=\"text-align: right;\">93,624</td><td style=\"text-align: right;\">7</td><td style=\"text-align: right;\">1868</td><td style=\"text-align: right;\">0.04</td><td style=\"text-align: right;\">76</td><td style=\"text-align: right;\">0.51</td><td style=\"text-align: right;\">0</td><td style=\"text-align: right;\">0.00</td><td style=\"text-align: right;\">0</td><td style=\"text-align: right;\">0.00</td><td style=\"text-align: right;\">34</td><td style=\"text-align: right;\">3.46</td><td style=\"text-align: right;\">0</td><td style=\"text-align: right;\">0.00</td><td style=\"text-align: right;\">25</td><td style=\"text-align: right;\">2.67</td><td style=\"text-align: right;\">6</td><td style=\"text-align: right;\">1.09</td><td style=\"text-align: right;\">11</td><td style=\"text-align: right;\">1.08</td></tr>\n",
       "<tr class=\"even\"><td style=\"text-align: right;\">353462</td><td style=\"text-align: right;\">135,915,358</td><td style=\"text-align: right;\">79,721</td><td style=\"text-align: right;\">4</td><td style=\"text-align: right;\">1699</td><td style=\"text-align: right;\">0.09</td><td style=\"text-align: right;\">147</td><td style=\"text-align: right;\">0.99</td><td style=\"text-align: right;\">0</td><td style=\"text-align: right;\">0.00</td><td style=\"text-align: right;\">0</td><td style=\"text-align: right;\">0.00</td><td style=\"text-align: right;\">58</td><td style=\"text-align: right;\">3.05</td><td style=\"text-align: right;\">0</td><td style=\"text-align: right;\">0.00</td><td style=\"text-align: right;\">40</td><td style=\"text-align: right;\">2.21</td><td style=\"text-align: right;\">17</td><td style=\"text-align: right;\">1.59</td><td style=\"text-align: right;\">32</td><td style=\"text-align: right;\">1.62</td></tr>\n",
       "<tr><td style=\"text-align: right;\">353901</td><td style=\"text-align: right;\">136,494,186</td><td style=\"text-align: right;\">271,765</td><td style=\"text-align: right;\">64</td><td style=\"text-align: right;\">1575</td><td style=\"text-align: right;\">0.05</td><td style=\"text-align: right;\">80</td><td style=\"text-align: right;\">0.54</td><td style=\"text-align: right;\">0</td><td style=\"text-align: right;\">0.00</td><td style=\"text-align: right;\">0</td><td style=\"text-align: right;\">0.00</td><td style=\"text-align: right;\">39</td><td style=\"text-align: right;\">3.77</td><td style=\"text-align: right;\">0</td><td style=\"text-align: right;\">0.00</td><td style=\"text-align: right;\">25</td><td style=\"text-align: right;\">2.54</td><td style=\"text-align: right;\">5</td><td style=\"text-align: right;\">0.86</td><td style=\"text-align: right;\">11</td><td style=\"text-align: right;\">1.03</td></tr>\n",
       "<tr class=\"even\"><td style=\"text-align: right;\">353283</td><td style=\"text-align: right;\">135,771,974</td><td style=\"text-align: right;\">368,330</td><td style=\"text-align: right;\">6</td><td style=\"text-align: right;\">1503</td><td style=\"text-align: right;\">0.10</td><td style=\"text-align: right;\">148</td><td style=\"text-align: right;\">1.00</td><td style=\"text-align: right;\">0</td><td style=\"text-align: right;\">0.00</td><td style=\"text-align: right;\">0</td><td style=\"text-align: right;\">0.00</td><td style=\"text-align: right;\">59</td><td style=\"text-align: right;\">3.09</td><td style=\"text-align: right;\">0</td><td style=\"text-align: right;\">0.00</td><td style=\"text-align: right;\">40</td><td style=\"text-align: right;\">2.20</td><td style=\"text-align: right;\">17</td><td style=\"text-align: right;\">1.58</td><td style=\"text-align: right;\">32</td><td style=\"text-align: right;\">1.61</td></tr>\n",
       "<tr><td style=\"text-align: right;\">353797</td><td style=\"text-align: right;\">136,398,174</td><td style=\"text-align: right;\">75,924</td><td style=\"text-align: right;\">26</td><td style=\"text-align: right;\">1414</td><td style=\"text-align: right;\">0.10</td><td style=\"text-align: right;\">148</td><td style=\"text-align: right;\">1.00</td><td style=\"text-align: right;\">0</td><td style=\"text-align: right;\">0.00</td><td style=\"text-align: right;\">0</td><td style=\"text-align: right;\">0.00</td><td style=\"text-align: right;\">59</td><td style=\"text-align: right;\">3.09</td><td style=\"text-align: right;\">0</td><td style=\"text-align: right;\">0.00</td><td style=\"text-align: right;\">40</td><td style=\"text-align: right;\">2.20</td><td style=\"text-align: right;\">17</td><td style=\"text-align: right;\">1.58</td><td style=\"text-align: right;\">32</td><td style=\"text-align: right;\">1.61</td></tr>\n",
       "<tr class=\"even\"><td style=\"text-align: right;\">353604</td><td style=\"text-align: right;\">136,092,061</td><td style=\"text-align: right;\">315,418</td><td style=\"text-align: right;\">4</td><td style=\"text-align: right;\">911</td><td style=\"text-align: right;\">0.16</td><td style=\"text-align: right;\">148</td><td style=\"text-align: right;\">1.00</td><td style=\"text-align: right;\">0</td><td style=\"text-align: right;\">0.00</td><td style=\"text-align: right;\">0</td><td style=\"text-align: right;\">0.00</td><td style=\"text-align: right;\">59</td><td style=\"text-align: right;\">3.09</td><td style=\"text-align: right;\">0</td><td style=\"text-align: right;\">0.00</td><td style=\"text-align: right;\">40</td><td style=\"text-align: right;\">2.20</td><td style=\"text-align: right;\">17</td><td style=\"text-align: right;\">1.58</td><td style=\"text-align: right;\">32</td><td style=\"text-align: right;\">1.61</td></tr>\n",
       "</table>"
      ],
      "text/plain": [
       "<IPython.core.display.HTML object>"
      ]
     },
     "execution_count": 11,
     "metadata": {},
     "output_type": "execute_result"
    }
   ],
   "source": [
    "HTML(plt_obj.get_html())"
   ]
  },
  {
   "cell_type": "markdown",
   "metadata": {},
   "source": [
    "<div style=\"width:700px\">\n",
    "<p>\n",
    "This plot shows the most common series expressed by samples that express the series\n",
    "11_765 associated with lactase persistence.  That series extends over more than 870,000\n",
    "DNA bases.  Most of the associated series are expressed by all of the 765 samples that\n",
    "express 11_765.  The exceptions are the 3 samples that don't express 4_911 and the\n",
    "1 sample that does not express 7_1868.\n",
    "</div>"
   ]
  },
  {
   "cell_type": "code",
   "execution_count": 12,
   "metadata": {
    "collapsed": false
   },
   "outputs": [
    {
     "data": {
      "text/html": [
       "\n",
       "\n",
       "    <div class=\"bk-root\">\n",
       "        <div class=\"plotdiv\" id=\"732a06d3-75db-4bf7-9ccd-c06920a910f1\"></div>\n",
       "    </div>\n",
       "<script type=\"text/javascript\">\n",
       "  \n",
       "  (function(global) {\n",
       "    function now() {\n",
       "      return new Date();\n",
       "    }\n",
       "  \n",
       "    if (typeof (window._bokeh_onload_callbacks) === \"undefined\") {\n",
       "      window._bokeh_onload_callbacks = [];\n",
       "    }\n",
       "  \n",
       "    function run_callbacks() {\n",
       "      window._bokeh_onload_callbacks.forEach(function(callback) { callback() });\n",
       "      delete window._bokeh_onload_callbacks\n",
       "      console.info(\"Bokeh: all callbacks have finished\");\n",
       "    }\n",
       "  \n",
       "    function load_libs(js_urls, callback) {\n",
       "      window._bokeh_onload_callbacks.push(callback);\n",
       "      if (window._bokeh_is_loading > 0) {\n",
       "        console.log(\"Bokeh: BokehJS is being loaded, scheduling callback at\", now());\n",
       "        return null;\n",
       "      }\n",
       "      if (js_urls == null || js_urls.length === 0) {\n",
       "        run_callbacks();\n",
       "        return null;\n",
       "      }\n",
       "      console.log(\"Bokeh: BokehJS not loaded, scheduling load and callback at\", now());\n",
       "      window._bokeh_is_loading = js_urls.length;\n",
       "      for (var i = 0; i < js_urls.length; i++) {\n",
       "        var url = js_urls[i];\n",
       "        var s = document.createElement('script');\n",
       "        s.src = url;\n",
       "        s.async = false;\n",
       "        s.onreadystatechange = s.onload = function() {\n",
       "          window._bokeh_is_loading--;\n",
       "          if (window._bokeh_is_loading === 0) {\n",
       "            console.log(\"Bokeh: all BokehJS libraries loaded\");\n",
       "            run_callbacks()\n",
       "          }\n",
       "        };\n",
       "        s.onerror = function() {\n",
       "          console.warn(\"failed to load library \" + url);\n",
       "        };\n",
       "        console.log(\"Bokeh: injecting script tag for BokehJS library: \", url);\n",
       "        document.getElementsByTagName(\"head\")[0].appendChild(s);\n",
       "      }\n",
       "    };var element = document.getElementById(\"732a06d3-75db-4bf7-9ccd-c06920a910f1\");\n",
       "    if (element == null) {\n",
       "      console.log(\"Bokeh: ERROR: autoload.js configured with elementid '732a06d3-75db-4bf7-9ccd-c06920a910f1' but no matching script tag was found. \")\n",
       "      return false;\n",
       "    }\n",
       "  \n",
       "    var js_urls = [];\n",
       "  \n",
       "    var inline_js = [\n",
       "      function(Bokeh) {\n",
       "        Bokeh.$(function() {\n",
       "            var docs_json = {\"2ae9b8eb-7696-4a24-81a1-24b539327d4e\":{\"roots\":{\"references\":[{\"attributes\":{\"bottom\":{\"field\":\"bottom\"},\"fill_color\":{\"value\":\"white\"},\"left\":{\"field\":\"left\"},\"right\":{\"field\":\"right\"},\"top\":{\"field\":\"top\"}},\"id\":\"1fed3311-09ac-44af-9af5-a42af00b1bc2\",\"type\":\"Quad\"},{\"attributes\":{},\"id\":\"f718ebb6-de1e-4072-a768-d4d629bc9bb2\",\"type\":\"BasicTickFormatter\"},{\"attributes\":{\"formatter\":{\"id\":\"68c10162-5ab2-4208-8a91-d2937f8332b1\",\"type\":\"BasicTickFormatter\"},\"plot\":{\"id\":\"4116cb7f-2f4e-4667-8663-2d3318e34a97\",\"subtype\":\"Figure\",\"type\":\"Plot\"},\"ticker\":{\"id\":\"94ebf6d7-aa40-4d99-9788-31513f3a9da6\",\"type\":\"BasicTicker\"},\"visible\":null},\"id\":\"38dde988-d444-4a4b-a923-256e1259b861\",\"type\":\"LinearAxis\"},{\"attributes\":{\"active_drag\":\"auto\",\"active_scroll\":\"auto\",\"active_tap\":\"auto\",\"tools\":[{\"id\":\"ea7eef30-ea02-4eb6-a174-d67a319fce78\",\"type\":\"PanTool\"},{\"id\":\"6c1d357f-9f2c-4bc8-939c-ed561446c2af\",\"type\":\"WheelZoomTool\"},{\"id\":\"0d8ef907-4781-4daa-b79b-0e471a3491f5\",\"type\":\"BoxZoomTool\"},{\"id\":\"1b704205-483c-4252-989e-5e42df017448\",\"type\":\"SaveTool\"},{\"id\":\"d8597d30-4279-41eb-b6ba-5f0b47a3df5d\",\"type\":\"ResetTool\"},{\"id\":\"9215b138-93de-4cde-8553-0a7c4797e969\",\"type\":\"HelpTool\"}]},\"id\":\"b9eb4b35-fe64-421c-8e04-6cd775dbc705\",\"type\":\"Toolbar\"},{\"attributes\":{\"data_source\":{\"id\":\"a2663400-db4f-4991-bd0e-afd16a5007e5\",\"type\":\"ColumnDataSource\"},\"glyph\":{\"id\":\"bcbd536f-cace-465f-baf0-46b8daae4c04\",\"type\":\"Quad\"},\"hover_glyph\":null,\"nonselection_glyph\":{\"id\":\"12ed96c7-13b8-43cd-b5fa-10f9f78ab3a2\",\"type\":\"Quad\"},\"selection_glyph\":null},\"id\":\"bce861c9-e741-410b-a87c-61ff4ed1f0ce\",\"type\":\"GlyphRenderer\"},{\"attributes\":{\"plot\":{\"id\":\"4116cb7f-2f4e-4667-8663-2d3318e34a97\",\"subtype\":\"Figure\",\"type\":\"Plot\"}},\"id\":\"d8597d30-4279-41eb-b6ba-5f0b47a3df5d\",\"type\":\"ResetTool\"},{\"attributes\":{\"level\":\"glyph\",\"plot\":{\"id\":\"4116cb7f-2f4e-4667-8663-2d3318e34a97\",\"subtype\":\"Figure\",\"type\":\"Plot\"},\"source\":{\"id\":\"5ac56601-a9bd-4066-b453-549d79521b7a\",\"type\":\"ColumnDataSource\"},\"text\":{\"field\":\"vals\"},\"text_font_size\":{\"value\":\"9pt\"},\"text_font_style\":\"bold\",\"x\":{\"field\":\"x\"},\"y\":{\"field\":\"y\"}},\"id\":\"6094aac8-1b76-418c-a32f-a0d8f9d0215a\",\"type\":\"LabelSet\"},{\"attributes\":{\"line_alpha\":{\"value\":0.1},\"line_color\":{\"value\":\"#1f77b4\"},\"xs\":{\"field\":\"xs\"},\"ys\":{\"field\":\"ys\"}},\"id\":\"f45e6a1e-1ffb-4aea-bd24-0e1e8bd83214\",\"type\":\"MultiLine\"},{\"attributes\":{},\"id\":\"94ebf6d7-aa40-4d99-9788-31513f3a9da6\",\"type\":\"BasicTicker\"},{\"attributes\":{\"callback\":null,\"column_names\":[\"y\",\"x\",\"vals\"],\"data\":{\"vals\":[\"6_1503\",\"11_765\",\"4_1699\",\"4_911\",\"26_1414\",\"64_1575\",\"10_2206\",\"7_1868\"],\"x\":[135771974,135837906,135915358,136092061,136398174,136494186,136501840,136682274],\"y\":[300.0,94.0,401.0,195.0,299.0,400.0,503.0,502.0]}},\"id\":\"5ac56601-a9bd-4066-b453-549d79521b7a\",\"type\":\"ColumnDataSource\"},{\"attributes\":{\"plot\":{\"id\":\"4116cb7f-2f4e-4667-8663-2d3318e34a97\",\"subtype\":\"Figure\",\"type\":\"Plot\"}},\"id\":\"1b704205-483c-4252-989e-5e42df017448\",\"type\":\"SaveTool\"},{\"attributes\":{\"plot\":{\"id\":\"4116cb7f-2f4e-4667-8663-2d3318e34a97\",\"subtype\":\"Figure\",\"type\":\"Plot\"}},\"id\":\"9215b138-93de-4cde-8553-0a7c4797e969\",\"type\":\"HelpTool\"},{\"attributes\":{\"plot\":null,\"text\":null},\"id\":\"a038e504-7c39-44d0-8379-c8e2c4e3c9d4\",\"type\":\"Title\"},{\"attributes\":{\"bottom_units\":\"screen\",\"fill_alpha\":{\"value\":0.5},\"fill_color\":{\"value\":\"lightgrey\"},\"left_units\":\"screen\",\"level\":\"overlay\",\"line_alpha\":{\"value\":1.0},\"line_color\":{\"value\":\"black\"},\"line_dash\":[4,4],\"line_width\":{\"value\":2},\"plot\":null,\"render_mode\":\"css\",\"right_units\":\"screen\",\"top_units\":\"screen\"},\"id\":\"0a6407c9-020c-4177-814e-09faa9e2cc91\",\"type\":\"BoxAnnotation\"},{\"attributes\":{\"bottom\":{\"field\":\"bottom\"},\"fill_alpha\":{\"value\":0.1},\"fill_color\":{\"value\":\"#1f77b4\"},\"left\":{\"field\":\"left\"},\"line_alpha\":{\"value\":0.1},\"line_color\":{\"value\":\"#1f77b4\"},\"right\":{\"field\":\"right\"},\"top\":{\"field\":\"top\"}},\"id\":\"84b05804-b460-43b3-93eb-d905317fec14\",\"type\":\"Quad\"},{\"attributes\":{\"plot\":{\"id\":\"4116cb7f-2f4e-4667-8663-2d3318e34a97\",\"subtype\":\"Figure\",\"type\":\"Plot\"}},\"id\":\"ea7eef30-ea02-4eb6-a174-d67a319fce78\",\"type\":\"PanTool\"},{\"attributes\":{\"plot\":{\"id\":\"4116cb7f-2f4e-4667-8663-2d3318e34a97\",\"subtype\":\"Figure\",\"type\":\"Plot\"},\"ticker\":{\"id\":\"162dc060-b53b-4780-af59-7465b5d0dd85\",\"type\":\"BasicTicker\"}},\"id\":\"d0b1a59b-1d8a-4cac-b86a-ae5a5276d56f\",\"type\":\"Grid\"},{\"attributes\":{\"callback\":null,\"column_names\":[\"right\",\"bottom\",\"top\",\"left\"],\"data\":{\"bottom\":[545,545,545,545,545,545,545],\"left\":[135809835,135957574,136289083,136499189,136545415,136597196,136664254],\"right\":[135928279,136288182,136482839,136542633,136594750,136634047,136743222],\"top\":[575,575,575,575,575,575,575]}},\"id\":\"2deacfee-4fd9-4908-9c77-2d88cebcdbf8\",\"type\":\"ColumnDataSource\"},{\"attributes\":{\"formatter\":{\"id\":\"f718ebb6-de1e-4072-a768-d4d629bc9bb2\",\"type\":\"BasicTickFormatter\"},\"plot\":{\"id\":\"4116cb7f-2f4e-4667-8663-2d3318e34a97\",\"subtype\":\"Figure\",\"type\":\"Plot\"},\"ticker\":{\"id\":\"162dc060-b53b-4780-af59-7465b5d0dd85\",\"type\":\"BasicTicker\"}},\"id\":\"b0a54f28-78f5-4e05-830d-17ba78a0fe1d\",\"type\":\"LinearAxis\"},{\"attributes\":{\"plot\":{\"id\":\"4116cb7f-2f4e-4667-8663-2d3318e34a97\",\"subtype\":\"Figure\",\"type\":\"Plot\"}},\"id\":\"6c1d357f-9f2c-4bc8-939c-ed561446c2af\",\"type\":\"WheelZoomTool\"},{\"attributes\":{\"line_color\":{\"field\":\"line_color\"},\"xs\":{\"field\":\"xs\"},\"ys\":{\"field\":\"ys\"}},\"id\":\"7ddbfb83-fa6e-4d75-85d3-fee01ddfba83\",\"type\":\"MultiLine\"},{\"attributes\":{\"bottom\":{\"field\":\"bottom\"},\"fill_color\":{\"field\":\"fill_color\"},\"left\":{\"field\":\"left\"},\"line_color\":{\"value\":null},\"right\":{\"field\":\"right\"},\"top\":{\"field\":\"top\"}},\"id\":\"bcbd536f-cace-465f-baf0-46b8daae4c04\",\"type\":\"Quad\"},{\"attributes\":{\"callback\":null,\"end\":600},\"id\":\"911bf8e9-a03b-457d-8390-91899ea55bd8\",\"type\":\"Range1d\"},{\"attributes\":{\"level\":\"glyph\",\"plot\":{\"id\":\"4116cb7f-2f4e-4667-8663-2d3318e34a97\",\"subtype\":\"Figure\",\"type\":\"Plot\"},\"source\":{\"id\":\"c39b420d-d46c-4cb0-8f1a-a63ca8503f61\",\"type\":\"ColumnDataSource\"},\"text\":{\"field\":\"vals\"},\"text_align\":\"center\",\"text_baseline\":\"middle\",\"text_font_size\":{\"value\":\"8pt\"},\"x\":{\"field\":\"x\"},\"y\":{\"field\":\"y\"}},\"id\":\"da532b69-ee21-4456-b58f-987c489a54c4\",\"type\":\"LabelSet\"},{\"attributes\":{},\"id\":\"68c10162-5ab2-4208-8a91-d2937f8332b1\",\"type\":\"BasicTickFormatter\"},{\"attributes\":{\"overlay\":{\"id\":\"0a6407c9-020c-4177-814e-09faa9e2cc91\",\"type\":\"BoxAnnotation\"},\"plot\":{\"id\":\"4116cb7f-2f4e-4667-8663-2d3318e34a97\",\"subtype\":\"Figure\",\"type\":\"Plot\"}},\"id\":\"0d8ef907-4781-4daa-b79b-0e471a3491f5\",\"type\":\"BoxZoomTool\"},{\"attributes\":{},\"id\":\"162dc060-b53b-4780-af59-7465b5d0dd85\",\"type\":\"BasicTicker\"},{\"attributes\":{\"below\":[{\"id\":\"b0a54f28-78f5-4e05-830d-17ba78a0fe1d\",\"type\":\"LinearAxis\"}],\"left\":[{\"id\":\"38dde988-d444-4a4b-a923-256e1259b861\",\"type\":\"LinearAxis\"}],\"plot_width\":900,\"renderers\":[{\"id\":\"b0a54f28-78f5-4e05-830d-17ba78a0fe1d\",\"type\":\"LinearAxis\"},{\"id\":\"d0b1a59b-1d8a-4cac-b86a-ae5a5276d56f\",\"type\":\"Grid\"},{\"id\":\"38dde988-d444-4a4b-a923-256e1259b861\",\"type\":\"LinearAxis\"},{\"id\":\"e30add21-0102-42ea-b735-af8dadf6371b\",\"type\":\"Grid\"},{\"id\":\"0a6407c9-020c-4177-814e-09faa9e2cc91\",\"type\":\"BoxAnnotation\"},{\"id\":\"bce861c9-e741-410b-a87c-61ff4ed1f0ce\",\"type\":\"GlyphRenderer\"},{\"id\":\"0f12c4ae-3f8c-485f-bfa8-6f137466b4c2\",\"type\":\"GlyphRenderer\"},{\"id\":\"6094aac8-1b76-418c-a32f-a0d8f9d0215a\",\"type\":\"LabelSet\"},{\"id\":\"09d8b042-8440-4baf-af93-f0945cfb285e\",\"type\":\"GlyphRenderer\"},{\"id\":\"da532b69-ee21-4456-b58f-987c489a54c4\",\"type\":\"LabelSet\"}],\"title\":{\"id\":\"a038e504-7c39-44d0-8379-c8e2c4e3c9d4\",\"type\":\"Title\"},\"tool_events\":{\"id\":\"eaa53b39-10b6-4713-8df5-caefbe26130d\",\"type\":\"ToolEvents\"},\"toolbar\":{\"id\":\"b9eb4b35-fe64-421c-8e04-6cd775dbc705\",\"type\":\"Toolbar\"},\"toolbar_location\":null,\"x_range\":{\"id\":\"4e72cc73-bb91-4d9a-a328-456ff60c719c\",\"type\":\"Range1d\"},\"y_range\":{\"id\":\"911bf8e9-a03b-457d-8390-91899ea55bd8\",\"type\":\"Range1d\"}},\"id\":\"4116cb7f-2f4e-4667-8663-2d3318e34a97\",\"subtype\":\"Figure\",\"type\":\"Plot\"},{\"attributes\":{\"callback\":null,\"column_names\":[\"y\",\"x\",\"vals\"],\"data\":{\"vals\":[\"RAB3GAP1\",\"ZRANB3\",\"R3HDM1\",\"UBXN4\",\"LCT\",\"MCM6\",\"DARS\"],\"x\":[135869057.0,136122878.0,136385961.0,136520911.0,136570082.5,136615621.5,136703738.0],\"y\":[560.0,560.0,560.0,560.0,560.0,560.0,560.0]}},\"id\":\"c39b420d-d46c-4cb0-8f1a-a63ca8503f61\",\"type\":\"ColumnDataSource\"},{\"attributes\":{\"dimension\":1,\"plot\":{\"id\":\"4116cb7f-2f4e-4667-8663-2d3318e34a97\",\"subtype\":\"Figure\",\"type\":\"Plot\"},\"ticker\":{\"id\":\"94ebf6d7-aa40-4d99-9788-31513f3a9da6\",\"type\":\"BasicTicker\"}},\"id\":\"e30add21-0102-42ea-b735-af8dadf6371b\",\"type\":\"Grid\"},{\"attributes\":{\"callback\":null,\"end\":136786630,\"start\":135757320},\"id\":\"4e72cc73-bb91-4d9a-a328-456ff60c719c\",\"type\":\"Range1d\"},{\"attributes\":{\"data_source\":{\"id\":\"944ab28d-d691-438a-bc59-c8924cfcdab5\",\"type\":\"ColumnDataSource\"},\"glyph\":{\"id\":\"7ddbfb83-fa6e-4d75-85d3-fee01ddfba83\",\"type\":\"MultiLine\"},\"hover_glyph\":null,\"nonselection_glyph\":{\"id\":\"f45e6a1e-1ffb-4aea-bd24-0e1e8bd83214\",\"type\":\"MultiLine\"},\"selection_glyph\":null},\"id\":\"0f12c4ae-3f8c-485f-bfa8-6f137466b4c2\",\"type\":\"GlyphRenderer\"},{\"attributes\":{\"callback\":null,\"column_names\":[\"xs\",\"ys\",\"line_color\"],\"data\":{\"line_color\":[\"black\",\"black\",\"black\",\"black\",\"black\",\"black\",\"black\",\"black\",\"black\",\"black\",\"black\",\"black\",\"black\",\"black\",\"black\",\"black\",\"black\",\"black\",\"black\",\"black\",\"black\",\"black\",\"black\",\"black\",\"black\",\"black\",\"black\",\"black\",\"black\",\"black\",\"black\",\"black\",\"black\",\"black\",\"black\",\"black\",\"black\",\"black\",\"black\",\"black\",\"black\",\"black\",\"black\",\"black\",\"black\",\"black\",\"black\",\"black\",\"black\",\"black\",\"black\",\"black\",\"black\",\"black\",\"black\",\"black\",\"black\",\"black\",\"black\",\"black\",\"black\",\"black\",\"black\",\"black\",\"black\",\"black\",\"black\",\"black\",\"black\",\"black\",\"black\",\"black\",\"black\",\"black\",\"black\",\"black\",\"black\",\"black\",\"black\",\"black\",\"black\",\"black\",\"black\",\"black\",\"black\",\"black\",\"black\",\"black\",\"black\",\"black\",\"black\",\"black\",\"black\",\"black\",\"black\",\"black\",\"black\",\"black\",\"black\",\"black\",\"black\",\"black\",\"black\",\"black\",\"black\",\"black\",\"black\",\"black\",\"black\",\"black\",\"black\",\"black\",\"black\",\"black\",\"black\",\"black\",\"black\",\"black\",\"black\",\"black\",\"black\",\"black\",\"black\",\"black\",\"black\",\"black\",\"black\",\"black\",\"black\",\"black\",\"black\",\"black\"],\"xs\":[[135771974,135771974],[135859371,135859371],[135877562,135877562],[136022798,136022798],[136058820,136058820],[136140304,136140304],[135837906,135837906],[135907088,135907088],[135954797,135954797],[136138627,136138627],[136176540,136176540],[136328890,136328890],[136381348,136381348],[136429366,136429366],[136608646,136608646],[136616754,136616754],[136707982,136707982],[135915358,135915358],[135954405,135954405],[135995073,135995073],[135995079,135995079],[136092061,136092061],[136273578,136273578],[136322676,136322676],[136407479,136407479],[136398174,136398174],[136402117,136402117],[136403749,136403749],[136409073,136409073],[136410299,136410299],[136413359,136413359],[136416855,136416855],[136416941,136416941],[136418348,136418348],[136419961,136419961],[136420690,136420690],[136422171,136422171],[136428460,136428460],[136430866,136430866],[136432103,136432103],[136437507,136437507],[136439090,136439090],[136439517,136439517],[136444123,136444123],[136445526,136445526],[136445869,136445869],[136455600,136455600],[136456642,136456642],[136462441,136462441],[136470714,136470714],[136474098,136474098],[136494186,136494186],[136495300,136495300],[136495619,136495619],[136499166,136499166],[136502792,136502792],[136503157,136503157],[136507039,136507039],[136511575,136511575],[136518103,136518103],[136521514,136521514],[136522675,136522675],[136522941,136522941],[136526981,136526981],[136535410,136535410],[136539122,136539122],[136544197,136544197],[136550109,136550109],[136551694,136551694],[136553188,136553188],[136553639,136553639],[136554800,136554800],[136557319,136557319],[136558157,136558157],[136569848,136569848],[136575199,136575199],[136576577,136576577],[136578536,136578536],[136580287,136580287],[136583192,136583192],[136586958,136586958],[136588478,136588478],[136589612,136589612],[136591178,136591178],[136591859,136591859],[136593760,136593760],[136594158,136594158],[136603276,136603276],[136603366,136603366],[136608231,136608231],[136609975,136609975],[136610598,136610598],[136611624,136611624],[136613780,136613780],[136614255,136614255],[136614813,136614813],[136617524,136617524],[136622216,136622216],[136625602,136625602],[136629911,136629911],[136630757,136630757],[136630989,136630989],[136631031,136631031],[136633771,136633771],[136636324,136636324],[136638216,136638216],[136640233,136640233],[136641882,136641882],[136643555,136643555],[136658345,136658345],[136670298,136670298],[136685228,136685228],[136696138,136696138],[136740900,136740900],[136765951,136765951],[136501840,136501840],[136505546,136505546],[136516748,136516748],[136522710,136522710],[136528004,136528004],[136539513,136539513],[136544752,136544752],[136546110,136546110],[136553529,136553529],[136555659,136555659],[136682274,136682274],[136691825,136691825],[136698098,136698098],[136721603,136721603],[136721995,136721995],[136755684,136755684],[136775898,136775898]],\"ys\":[[250,295],[250,295],[250,295],[250,295],[250,295],[250,295],[50,89],[50,89],[50,89],[50,89],[50,89],[50,89],[50,89],[50,89],[50,89],[50,89],[50,89],[350,396],[350,396],[350,396],[350,396],[150,190],[150,190],[150,190],[150,190],[250,294],[250,294],[250,294],[250,294],[250,294],[250,294],[250,294],[250,294],[250,294],[250,294],[250,294],[250,294],[250,294],[250,294],[250,294],[250,294],[250,294],[250,294],[250,294],[250,294],[250,294],[250,294],[250,294],[250,294],[250,294],[250,294],[350,395],[350,395],[350,395],[350,395],[350,395],[350,395],[350,395],[350,395],[350,395],[350,395],[350,395],[350,395],[350,395],[350,395],[350,395],[350,395],[350,395],[350,395],[350,395],[350,395],[350,395],[350,395],[350,395],[350,395],[350,395],[350,395],[350,395],[350,395],[350,395],[350,395],[350,395],[350,395],[350,395],[350,395],[350,395],[350,395],[350,395],[350,395],[350,395],[350,395],[350,395],[350,395],[350,395],[350,395],[350,395],[350,395],[350,395],[350,395],[350,395],[350,395],[350,395],[350,395],[350,395],[350,395],[350,395],[350,395],[350,395],[350,395],[350,395],[350,395],[350,395],[350,395],[350,395],[350,395],[450,498],[450,498],[450,498],[450,498],[450,498],[450,498],[450,498],[450,498],[450,498],[450,498],[450,497],[450,497],[450,497],[450,497],[450,497],[450,497],[450,497]]}},\"id\":\"944ab28d-d691-438a-bc59-c8924cfcdab5\",\"type\":\"ColumnDataSource\"},{\"attributes\":{\"data_source\":{\"id\":\"2deacfee-4fd9-4908-9c77-2d88cebcdbf8\",\"type\":\"ColumnDataSource\"},\"glyph\":{\"id\":\"1fed3311-09ac-44af-9af5-a42af00b1bc2\",\"type\":\"Quad\"},\"hover_glyph\":null,\"nonselection_glyph\":{\"id\":\"84b05804-b460-43b3-93eb-d905317fec14\",\"type\":\"Quad\"},\"selection_glyph\":null},\"id\":\"09d8b042-8440-4baf-af93-f0945cfb285e\",\"type\":\"GlyphRenderer\"},{\"attributes\":{},\"id\":\"eaa53b39-10b6-4713-8df5-caefbe26130d\",\"type\":\"ToolEvents\"},{\"attributes\":{\"callback\":null,\"column_names\":[\"right\",\"bottom\",\"top\",\"left\",\"fill_color\"],\"data\":{\"bottom\":[250,50,350,150,250,350,450,450],\"fill_color\":[\"#61c461\",\"#00ff00\",\"#61c461\",\"#00ff00\",\"#61c461\",\"#61c461\",\"#808080\",\"#61c461\"],\"left\":[135771974,135837906,135915358,136092061,136398174,136494186,136501840,136682274],\"right\":[136140304,136707982,135995079,136407479,136474098,136765951,136555659,136775898],\"top\":[295,89,396,190,294,395,498,497]}},\"id\":\"a2663400-db4f-4991-bd0e-afd16a5007e5\",\"type\":\"ColumnDataSource\"},{\"attributes\":{\"bottom\":{\"field\":\"bottom\"},\"fill_alpha\":{\"value\":0.1},\"fill_color\":{\"value\":\"#1f77b4\"},\"left\":{\"field\":\"left\"},\"line_alpha\":{\"value\":0.1},\"line_color\":{\"value\":\"#1f77b4\"},\"right\":{\"field\":\"right\"},\"top\":{\"field\":\"top\"}},\"id\":\"12ed96c7-13b8-43cd-b5fa-10f9f78ab3a2\",\"type\":\"Quad\"}],\"root_ids\":[\"4116cb7f-2f4e-4667-8663-2d3318e34a97\"]},\"title\":\"Bokeh Application\",\"version\":\"0.12.0\"}};\n",
       "            var render_items = [{\"docid\":\"2ae9b8eb-7696-4a24-81a1-24b539327d4e\",\"elementid\":\"732a06d3-75db-4bf7-9ccd-c06920a910f1\",\"modelid\":\"4116cb7f-2f4e-4667-8663-2d3318e34a97\",\"notebook_comms_target\":\"ca7e54e3-0186-40c1-8bd5-b47d2e016486\"}];\n",
       "            \n",
       "            Bokeh.embed.embed_items(docs_json, render_items);\n",
       "        });\n",
       "      },\n",
       "      function(Bokeh) {\n",
       "      }\n",
       "    ];\n",
       "  \n",
       "    function run_inline_js() {\n",
       "      for (var i = 0; i < inline_js.length; i++) {\n",
       "        inline_js[i](window.Bokeh);\n",
       "      }\n",
       "    }\n",
       "  \n",
       "    if (window._bokeh_is_loading === 0) {\n",
       "      console.log(\"Bokeh: BokehJS loaded, going straight to plotting\");\n",
       "      run_inline_js();\n",
       "    } else {\n",
       "      load_libs(js_urls, function() {\n",
       "        console.log(\"Bokeh: BokehJS plotting callback run at\", now());\n",
       "        run_inline_js();\n",
       "      });\n",
       "    }\n",
       "  }(this));\n",
       "</script>"
      ]
     },
     "metadata": {},
     "output_type": "display_data"
    },
    {
     "data": {
      "text/html": [
       "<p><code>&lt;Bokeh Notebook handle for <strong>In[12]</strong>&gt;</code></p>"
      ],
      "text/plain": [
       "<bokeh.io._CommsHandle at 0x7f165cc6f8d0>"
      ]
     },
     "execution_count": 12,
     "metadata": {},
     "output_type": "execute_result"
    }
   ],
   "source": [
    "plt_obj = dm.superset_yes_no([dm.di_11_765], min_match=0.5)\n",
    "plt = plt_obj.do_plot()\n",
    "show(plt)"
   ]
  },
  {
   "cell_type": "code",
   "execution_count": 13,
   "metadata": {
    "collapsed": false
   },
   "outputs": [
    {
     "data": {
      "text/html": [
       "<table>\n",
       "<thead><tr><th style=\"text-align:center\">index</th><th style=\"text-align:center\">first</th><th style=\"text-align:center\">length</th><th style=\"text-align:center\">snps</th><th style=\"text-align:center\" colspan=2>alleles</th><th style=\"text-align:center\" colspan=2>matches</th><th style=\"text-align:center\" colspan=2>afr</th><th style=\"text-align:center\" colspan=2>afx</th><th style=\"text-align:center\" colspan=2>amr</th><th style=\"text-align:center\" colspan=2>eas</th><th style=\"text-align:center\" colspan=2>eur</th><th style=\"text-align:center\" colspan=2>sas</th><th style=\"text-align:center\" colspan=2>sax</th></tr></thead>\n",
       "<tr class=\"even\"><td style=\"text-align: right;\">353921</td><td style=\"text-align: right;\">136,501,840</td><td style=\"text-align: right;\">53,819</td><td style=\"text-align: right;\">10</td><td style=\"text-align: right;\">2206</td><td style=\"text-align: right;\">0.35</td><td style=\"text-align: right;\">765</td><td style=\"text-align: right;\">1.00</td><td style=\"text-align: right;\">2</td><td style=\"text-align: right;\">0.01</td><td style=\"text-align: right;\">32</td><td style=\"text-align: right;\">0.67</td><td style=\"text-align: right;\">146</td><td style=\"text-align: right;\">1.38</td><td style=\"text-align: right;\">0</td><td style=\"text-align: right;\">0.00</td><td style=\"text-align: right;\">484</td><td style=\"text-align: right;\">3.15</td><td style=\"text-align: right;\">56</td><td style=\"text-align: right;\">1.01</td><td style=\"text-align: right;\">45</td><td style=\"text-align: right;\">0.48</td></tr>\n",
       "<tr><td style=\"text-align: right;\">354170</td><td style=\"text-align: right;\">136,682,274</td><td style=\"text-align: right;\">93,624</td><td style=\"text-align: right;\">7</td><td style=\"text-align: right;\">1868</td><td style=\"text-align: right;\">0.41</td><td style=\"text-align: right;\">764</td><td style=\"text-align: right;\">1.00</td><td style=\"text-align: right;\">2</td><td style=\"text-align: right;\">0.01</td><td style=\"text-align: right;\">32</td><td style=\"text-align: right;\">0.67</td><td style=\"text-align: right;\">146</td><td style=\"text-align: right;\">1.38</td><td style=\"text-align: right;\">0</td><td style=\"text-align: right;\">0.00</td><td style=\"text-align: right;\">484</td><td style=\"text-align: right;\">3.15</td><td style=\"text-align: right;\">56</td><td style=\"text-align: right;\">1.01</td><td style=\"text-align: right;\">44</td><td style=\"text-align: right;\">0.47</td></tr>\n",
       "<tr class=\"even\"><td style=\"text-align: right;\">353462</td><td style=\"text-align: right;\">135,915,358</td><td style=\"text-align: right;\">79,721</td><td style=\"text-align: right;\">4</td><td style=\"text-align: right;\">1699</td><td style=\"text-align: right;\">0.45</td><td style=\"text-align: right;\">765</td><td style=\"text-align: right;\">1.00</td><td style=\"text-align: right;\">2</td><td style=\"text-align: right;\">0.01</td><td style=\"text-align: right;\">32</td><td style=\"text-align: right;\">0.67</td><td style=\"text-align: right;\">146</td><td style=\"text-align: right;\">1.38</td><td style=\"text-align: right;\">0</td><td style=\"text-align: right;\">0.00</td><td style=\"text-align: right;\">484</td><td style=\"text-align: right;\">3.15</td><td style=\"text-align: right;\">56</td><td style=\"text-align: right;\">1.01</td><td style=\"text-align: right;\">45</td><td style=\"text-align: right;\">0.48</td></tr>\n",
       "<tr><td style=\"text-align: right;\">353901</td><td style=\"text-align: right;\">136,494,186</td><td style=\"text-align: right;\">271,765</td><td style=\"text-align: right;\">64</td><td style=\"text-align: right;\">1575</td><td style=\"text-align: right;\">0.49</td><td style=\"text-align: right;\">765</td><td style=\"text-align: right;\">1.00</td><td style=\"text-align: right;\">2</td><td style=\"text-align: right;\">0.01</td><td style=\"text-align: right;\">32</td><td style=\"text-align: right;\">0.67</td><td style=\"text-align: right;\">146</td><td style=\"text-align: right;\">1.38</td><td style=\"text-align: right;\">0</td><td style=\"text-align: right;\">0.00</td><td style=\"text-align: right;\">484</td><td style=\"text-align: right;\">3.15</td><td style=\"text-align: right;\">56</td><td style=\"text-align: right;\">1.01</td><td style=\"text-align: right;\">45</td><td style=\"text-align: right;\">0.48</td></tr>\n",
       "<tr class=\"even\"><td style=\"text-align: right;\">353283</td><td style=\"text-align: right;\">135,771,974</td><td style=\"text-align: right;\">368,330</td><td style=\"text-align: right;\">6</td><td style=\"text-align: right;\">1503</td><td style=\"text-align: right;\">0.51</td><td style=\"text-align: right;\">765</td><td style=\"text-align: right;\">1.00</td><td style=\"text-align: right;\">2</td><td style=\"text-align: right;\">0.01</td><td style=\"text-align: right;\">32</td><td style=\"text-align: right;\">0.67</td><td style=\"text-align: right;\">146</td><td style=\"text-align: right;\">1.38</td><td style=\"text-align: right;\">0</td><td style=\"text-align: right;\">0.00</td><td style=\"text-align: right;\">484</td><td style=\"text-align: right;\">3.15</td><td style=\"text-align: right;\">56</td><td style=\"text-align: right;\">1.01</td><td style=\"text-align: right;\">45</td><td style=\"text-align: right;\">0.48</td></tr>\n",
       "<tr><td style=\"text-align: right;\">353797</td><td style=\"text-align: right;\">136,398,174</td><td style=\"text-align: right;\">75,924</td><td style=\"text-align: right;\">26</td><td style=\"text-align: right;\">1414</td><td style=\"text-align: right;\">0.54</td><td style=\"text-align: right;\">765</td><td style=\"text-align: right;\">1.00</td><td style=\"text-align: right;\">2</td><td style=\"text-align: right;\">0.01</td><td style=\"text-align: right;\">32</td><td style=\"text-align: right;\">0.67</td><td style=\"text-align: right;\">146</td><td style=\"text-align: right;\">1.38</td><td style=\"text-align: right;\">0</td><td style=\"text-align: right;\">0.00</td><td style=\"text-align: right;\">484</td><td style=\"text-align: right;\">3.15</td><td style=\"text-align: right;\">56</td><td style=\"text-align: right;\">1.01</td><td style=\"text-align: right;\">45</td><td style=\"text-align: right;\">0.48</td></tr>\n",
       "<tr class=\"even\"><td style=\"text-align: right;\">353604</td><td style=\"text-align: right;\">136,092,061</td><td style=\"text-align: right;\">315,418</td><td style=\"text-align: right;\">4</td><td style=\"text-align: right;\">911</td><td style=\"text-align: right;\">0.84</td><td style=\"text-align: right;\">762</td><td style=\"text-align: right;\">1.00</td><td style=\"text-align: right;\">2</td><td style=\"text-align: right;\">0.01</td><td style=\"text-align: right;\">31</td><td style=\"text-align: right;\">0.65</td><td style=\"text-align: right;\">146</td><td style=\"text-align: right;\">1.38</td><td style=\"text-align: right;\">0</td><td style=\"text-align: right;\">0.00</td><td style=\"text-align: right;\">484</td><td style=\"text-align: right;\">3.16</td><td style=\"text-align: right;\">54</td><td style=\"text-align: right;\">0.97</td><td style=\"text-align: right;\">45</td><td style=\"text-align: right;\">0.48</td></tr>\n",
       "<tr><td style=\"text-align: right;\">353380</td><td style=\"text-align: right;\">135,837,906</td><td style=\"text-align: right;\">870,076</td><td style=\"text-align: right;\">11</td><td style=\"text-align: right;\">765</td><td style=\"text-align: right;\">1.00</td><td style=\"text-align: right;\">765</td><td style=\"text-align: right;\">1.00</td><td style=\"text-align: right;\">2</td><td style=\"text-align: right;\">0.01</td><td style=\"text-align: right;\">32</td><td style=\"text-align: right;\">0.67</td><td style=\"text-align: right;\">146</td><td style=\"text-align: right;\">1.38</td><td style=\"text-align: right;\">0</td><td style=\"text-align: right;\">0.00</td><td style=\"text-align: right;\">484</td><td style=\"text-align: right;\">3.15</td><td style=\"text-align: right;\">56</td><td style=\"text-align: right;\">1.01</td><td style=\"text-align: right;\">45</td><td style=\"text-align: right;\">0.48</td></tr>\n",
       "</table>"
      ],
      "text/plain": [
       "<IPython.core.display.HTML object>"
      ]
     },
     "execution_count": 13,
     "metadata": {},
     "output_type": "execute_result"
    }
   ],
   "source": [
    "HTML(plt_obj.get_html())"
   ]
  },
  {
   "cell_type": "markdown",
   "metadata": {},
   "source": [
    "<div style=\"width:700px\">\n",
    "<p>\n",
    "The hierarchies selected by the series 6_57 show a more substantial history of\n",
    "recombination than the other EUR tree descendants.  The 57 samples that express\n",
    "6_57 do include 23 that express 64_1575 and 22 that express all of the series in the\n",
    "standard EUR tree root.  But, the other 34 samples express associations with 6_57\n",
    "that reflect some kind of recombination event.\n",
    "</div>"
   ]
  },
  {
   "cell_type": "code",
   "execution_count": 14,
   "metadata": {
    "collapsed": false
   },
   "outputs": [
    {
     "data": {
      "text/html": [
       "\n",
       "\n",
       "    <div class=\"bk-root\">\n",
       "        <div class=\"plotdiv\" id=\"80c81d9f-34a3-42a3-8666-34ff6660dcca\"></div>\n",
       "    </div>\n",
       "<script type=\"text/javascript\">\n",
       "  \n",
       "  (function(global) {\n",
       "    function now() {\n",
       "      return new Date();\n",
       "    }\n",
       "  \n",
       "    if (typeof (window._bokeh_onload_callbacks) === \"undefined\") {\n",
       "      window._bokeh_onload_callbacks = [];\n",
       "    }\n",
       "  \n",
       "    function run_callbacks() {\n",
       "      window._bokeh_onload_callbacks.forEach(function(callback) { callback() });\n",
       "      delete window._bokeh_onload_callbacks\n",
       "      console.info(\"Bokeh: all callbacks have finished\");\n",
       "    }\n",
       "  \n",
       "    function load_libs(js_urls, callback) {\n",
       "      window._bokeh_onload_callbacks.push(callback);\n",
       "      if (window._bokeh_is_loading > 0) {\n",
       "        console.log(\"Bokeh: BokehJS is being loaded, scheduling callback at\", now());\n",
       "        return null;\n",
       "      }\n",
       "      if (js_urls == null || js_urls.length === 0) {\n",
       "        run_callbacks();\n",
       "        return null;\n",
       "      }\n",
       "      console.log(\"Bokeh: BokehJS not loaded, scheduling load and callback at\", now());\n",
       "      window._bokeh_is_loading = js_urls.length;\n",
       "      for (var i = 0; i < js_urls.length; i++) {\n",
       "        var url = js_urls[i];\n",
       "        var s = document.createElement('script');\n",
       "        s.src = url;\n",
       "        s.async = false;\n",
       "        s.onreadystatechange = s.onload = function() {\n",
       "          window._bokeh_is_loading--;\n",
       "          if (window._bokeh_is_loading === 0) {\n",
       "            console.log(\"Bokeh: all BokehJS libraries loaded\");\n",
       "            run_callbacks()\n",
       "          }\n",
       "        };\n",
       "        s.onerror = function() {\n",
       "          console.warn(\"failed to load library \" + url);\n",
       "        };\n",
       "        console.log(\"Bokeh: injecting script tag for BokehJS library: \", url);\n",
       "        document.getElementsByTagName(\"head\")[0].appendChild(s);\n",
       "      }\n",
       "    };var element = document.getElementById(\"80c81d9f-34a3-42a3-8666-34ff6660dcca\");\n",
       "    if (element == null) {\n",
       "      console.log(\"Bokeh: ERROR: autoload.js configured with elementid '80c81d9f-34a3-42a3-8666-34ff6660dcca' but no matching script tag was found. \")\n",
       "      return false;\n",
       "    }\n",
       "  \n",
       "    var js_urls = [];\n",
       "  \n",
       "    var inline_js = [\n",
       "      function(Bokeh) {\n",
       "        Bokeh.$(function() {\n",
       "            var docs_json = {\"a357ef83-393b-407f-9e00-43242f7ef2ca\":{\"roots\":{\"references\":[{\"attributes\":{\"callback\":null,\"column_names\":[\"y\",\"x\",\"vals\"],\"data\":{\"vals\":[\"6_1503\",\"6_57\",\"4_1699\",\"26_1414\",\"64_1575\",\"10_2206\",\"7_1868\"],\"x\":[135771974,135889881,135915358,136398174,136494186,136501840,136682274],\"y\":[200.0,71.0,301.0,199.0,300.0,403.0,402.0]}},\"id\":\"7bd303df-6607-4380-a3cf-f2874b8b56e2\",\"type\":\"ColumnDataSource\"},{\"attributes\":{\"line_alpha\":{\"value\":0.1},\"line_color\":{\"value\":\"#1f77b4\"},\"xs\":{\"field\":\"xs\"},\"ys\":{\"field\":\"ys\"}},\"id\":\"786b0f98-df9e-4753-93ce-ce16d890b354\",\"type\":\"MultiLine\"},{\"attributes\":{\"bottom\":{\"field\":\"bottom\"},\"fill_alpha\":{\"value\":0.1},\"fill_color\":{\"value\":\"#1f77b4\"},\"left\":{\"field\":\"left\"},\"line_alpha\":{\"value\":0.1},\"line_color\":{\"value\":\"#1f77b4\"},\"right\":{\"field\":\"right\"},\"top\":{\"field\":\"top\"}},\"id\":\"f1f94e85-2d4c-4ad6-b094-d580ccac3ccd\",\"type\":\"Quad\"},{\"attributes\":{\"plot\":{\"id\":\"e0a92b09-0a04-4698-bffb-0a4cf452b799\",\"subtype\":\"Figure\",\"type\":\"Plot\"}},\"id\":\"77134a09-12f6-4c93-b29f-e8012312e8c5\",\"type\":\"PanTool\"},{\"attributes\":{\"overlay\":{\"id\":\"0862ce3a-ccfa-4104-967b-5b047522e86e\",\"type\":\"BoxAnnotation\"},\"plot\":{\"id\":\"e0a92b09-0a04-4698-bffb-0a4cf452b799\",\"subtype\":\"Figure\",\"type\":\"Plot\"}},\"id\":\"23f33183-edf7-4a11-837b-98fc5afd9f04\",\"type\":\"BoxZoomTool\"},{\"attributes\":{},\"id\":\"ec63ca01-1f06-4f05-95aa-d19c57150cd8\",\"type\":\"ToolEvents\"},{\"attributes\":{\"line_color\":{\"field\":\"line_color\"},\"xs\":{\"field\":\"xs\"},\"ys\":{\"field\":\"ys\"}},\"id\":\"9b1d179b-ae70-496b-bcb1-01fc0767175d\",\"type\":\"MultiLine\"},{\"attributes\":{\"formatter\":{\"id\":\"c3f60e3e-de31-420b-9c17-17f905545259\",\"type\":\"BasicTickFormatter\"},\"plot\":{\"id\":\"e0a92b09-0a04-4698-bffb-0a4cf452b799\",\"subtype\":\"Figure\",\"type\":\"Plot\"},\"ticker\":{\"id\":\"d3e6b12b-deaa-4bd7-82fd-8ad6d60820a3\",\"type\":\"BasicTicker\"},\"visible\":null},\"id\":\"5a3af55c-6d18-47a2-9c30-50890c20702f\",\"type\":\"LinearAxis\"},{\"attributes\":{\"level\":\"glyph\",\"plot\":{\"id\":\"e0a92b09-0a04-4698-bffb-0a4cf452b799\",\"subtype\":\"Figure\",\"type\":\"Plot\"},\"source\":{\"id\":\"78bbd6f3-b49f-4fab-81ab-c9b29bc40e86\",\"type\":\"ColumnDataSource\"},\"text\":{\"field\":\"vals\"},\"text_align\":\"center\",\"text_baseline\":\"middle\",\"text_font_size\":{\"value\":\"8pt\"},\"x\":{\"field\":\"x\"},\"y\":{\"field\":\"y\"}},\"id\":\"1e808bbe-39e5-4a17-9300-6ed1a16aa995\",\"type\":\"LabelSet\"},{\"attributes\":{\"bottom_units\":\"screen\",\"fill_alpha\":{\"value\":0.5},\"fill_color\":{\"value\":\"lightgrey\"},\"left_units\":\"screen\",\"level\":\"overlay\",\"line_alpha\":{\"value\":1.0},\"line_color\":{\"value\":\"black\"},\"line_dash\":[4,4],\"line_width\":{\"value\":2},\"plot\":null,\"render_mode\":\"css\",\"right_units\":\"screen\",\"top_units\":\"screen\"},\"id\":\"0862ce3a-ccfa-4104-967b-5b047522e86e\",\"type\":\"BoxAnnotation\"},{\"attributes\":{\"dimension\":1,\"plot\":{\"id\":\"e0a92b09-0a04-4698-bffb-0a4cf452b799\",\"subtype\":\"Figure\",\"type\":\"Plot\"},\"ticker\":{\"id\":\"d3e6b12b-deaa-4bd7-82fd-8ad6d60820a3\",\"type\":\"BasicTicker\"}},\"id\":\"d1a11166-9a21-4cdf-bcb4-d462c25bc340\",\"type\":\"Grid\"},{\"attributes\":{\"data_source\":{\"id\":\"20fb1065-fc7c-498f-9042-a9544bc4f7a6\",\"type\":\"ColumnDataSource\"},\"glyph\":{\"id\":\"bee65aac-999a-4ab7-a05d-4c7ffab13823\",\"type\":\"Quad\"},\"hover_glyph\":null,\"nonselection_glyph\":{\"id\":\"f1f94e85-2d4c-4ad6-b094-d580ccac3ccd\",\"type\":\"Quad\"},\"selection_glyph\":null},\"id\":\"49a1462e-e72e-413c-9387-9db11caa8a6f\",\"type\":\"GlyphRenderer\"},{\"attributes\":{\"callback\":null,\"column_names\":[\"y\",\"x\",\"vals\"],\"data\":{\"vals\":[\"RAB3GAP1\",\"ZRANB3\",\"R3HDM1\",\"UBXN4\",\"LCT\",\"MCM6\",\"DARS\"],\"x\":[135869057.0,136122878.0,136385961.0,136520911.0,136570082.5,136615621.5,136703738.0],\"y\":[460.0,460.0,460.0,460.0,460.0,460.0,460.0]}},\"id\":\"78bbd6f3-b49f-4fab-81ab-c9b29bc40e86\",\"type\":\"ColumnDataSource\"},{\"attributes\":{\"plot\":{\"id\":\"e0a92b09-0a04-4698-bffb-0a4cf452b799\",\"subtype\":\"Figure\",\"type\":\"Plot\"}},\"id\":\"753f524b-1388-466b-82c6-4a5d9c6ebf75\",\"type\":\"WheelZoomTool\"},{\"attributes\":{\"plot\":{\"id\":\"e0a92b09-0a04-4698-bffb-0a4cf452b799\",\"subtype\":\"Figure\",\"type\":\"Plot\"}},\"id\":\"e030d79c-ab52-483a-8f50-3e48b9a1f5ad\",\"type\":\"ResetTool\"},{\"attributes\":{\"below\":[{\"id\":\"67003a32-cc12-41c9-a3de-0c37940e14b3\",\"type\":\"LinearAxis\"}],\"left\":[{\"id\":\"5a3af55c-6d18-47a2-9c30-50890c20702f\",\"type\":\"LinearAxis\"}],\"plot_height\":500,\"plot_width\":900,\"renderers\":[{\"id\":\"67003a32-cc12-41c9-a3de-0c37940e14b3\",\"type\":\"LinearAxis\"},{\"id\":\"ef22537a-101f-4e5e-b9ec-8ebd8b0587fb\",\"type\":\"Grid\"},{\"id\":\"5a3af55c-6d18-47a2-9c30-50890c20702f\",\"type\":\"LinearAxis\"},{\"id\":\"d1a11166-9a21-4cdf-bcb4-d462c25bc340\",\"type\":\"Grid\"},{\"id\":\"0862ce3a-ccfa-4104-967b-5b047522e86e\",\"type\":\"BoxAnnotation\"},{\"id\":\"179e4be7-fbaf-4db0-86b1-caacce7523c8\",\"type\":\"GlyphRenderer\"},{\"id\":\"44f1c898-ca3f-42ae-80fb-2983f076f828\",\"type\":\"GlyphRenderer\"},{\"id\":\"7edf619b-0d53-44e0-aa20-c8a91451928a\",\"type\":\"LabelSet\"},{\"id\":\"49a1462e-e72e-413c-9387-9db11caa8a6f\",\"type\":\"GlyphRenderer\"},{\"id\":\"1e808bbe-39e5-4a17-9300-6ed1a16aa995\",\"type\":\"LabelSet\"}],\"title\":{\"id\":\"3c4cafb7-c6f8-460f-a71e-cce40dd96f6c\",\"type\":\"Title\"},\"tool_events\":{\"id\":\"ec63ca01-1f06-4f05-95aa-d19c57150cd8\",\"type\":\"ToolEvents\"},\"toolbar\":{\"id\":\"c5222180-41e8-4f12-9b21-563e79cb4981\",\"type\":\"Toolbar\"},\"toolbar_location\":null,\"x_range\":{\"id\":\"32430821-16da-4d9a-817f-680dea8f4a69\",\"type\":\"Range1d\"},\"y_range\":{\"id\":\"9f88096b-ed87-4a8e-9dd2-0c29d16ba336\",\"type\":\"Range1d\"}},\"id\":\"e0a92b09-0a04-4698-bffb-0a4cf452b799\",\"subtype\":\"Figure\",\"type\":\"Plot\"},{\"attributes\":{\"data_source\":{\"id\":\"96b0c4ed-b956-4624-8425-d12ab79fed12\",\"type\":\"ColumnDataSource\"},\"glyph\":{\"id\":\"9b1d179b-ae70-496b-bcb1-01fc0767175d\",\"type\":\"MultiLine\"},\"hover_glyph\":null,\"nonselection_glyph\":{\"id\":\"786b0f98-df9e-4753-93ce-ce16d890b354\",\"type\":\"MultiLine\"},\"selection_glyph\":null},\"id\":\"44f1c898-ca3f-42ae-80fb-2983f076f828\",\"type\":\"GlyphRenderer\"},{\"attributes\":{},\"id\":\"06487611-0456-4d53-9c3d-0d2b27cb3876\",\"type\":\"BasicTicker\"},{\"attributes\":{\"bottom\":{\"field\":\"bottom\"},\"fill_color\":{\"value\":\"white\"},\"left\":{\"field\":\"left\"},\"right\":{\"field\":\"right\"},\"top\":{\"field\":\"top\"}},\"id\":\"bee65aac-999a-4ab7-a05d-4c7ffab13823\",\"type\":\"Quad\"},{\"attributes\":{},\"id\":\"d3e6b12b-deaa-4bd7-82fd-8ad6d60820a3\",\"type\":\"BasicTicker\"},{\"attributes\":{\"callback\":null,\"end\":500},\"id\":\"9f88096b-ed87-4a8e-9dd2-0c29d16ba336\",\"type\":\"Range1d\"},{\"attributes\":{\"plot\":null,\"text\":null},\"id\":\"3c4cafb7-c6f8-460f-a71e-cce40dd96f6c\",\"type\":\"Title\"},{\"attributes\":{\"callback\":null,\"column_names\":[\"xs\",\"ys\",\"line_color\"],\"data\":{\"line_color\":[\"black\",\"black\",\"black\",\"black\",\"black\",\"black\",\"black\",\"black\",\"black\",\"black\",\"black\",\"black\",\"black\",\"black\",\"black\",\"black\",\"black\",\"black\",\"black\",\"black\",\"black\",\"black\",\"black\",\"black\",\"black\",\"black\",\"black\",\"black\",\"black\",\"black\",\"black\",\"black\",\"black\",\"black\",\"black\",\"black\",\"black\",\"black\",\"black\",\"black\",\"black\",\"black\",\"black\",\"black\",\"black\",\"black\",\"black\",\"black\",\"black\",\"black\",\"black\",\"black\",\"black\",\"black\",\"black\",\"black\",\"black\",\"black\",\"black\",\"black\",\"black\",\"black\",\"black\",\"black\",\"black\",\"black\",\"black\",\"black\",\"black\",\"black\",\"black\",\"black\",\"black\",\"black\",\"black\",\"black\",\"black\",\"black\",\"black\",\"black\",\"black\",\"black\",\"black\",\"black\",\"black\",\"black\",\"black\",\"black\",\"black\",\"black\",\"black\",\"black\",\"black\",\"black\",\"black\",\"black\",\"black\",\"black\",\"black\",\"black\",\"black\",\"black\",\"black\",\"black\",\"black\",\"black\",\"black\",\"black\",\"black\",\"black\",\"black\",\"black\",\"black\",\"black\",\"black\",\"black\",\"black\",\"black\",\"black\",\"black\",\"black\",\"black\",\"black\"],\"xs\":[[135771974,135771974],[135859371,135859371],[135877562,135877562],[136022798,136022798],[136058820,136058820],[136140304,136140304],[135889881,135889881],[135956309,135956309],[136088389,136088389],[136323321,136323321],[136361384,136361384],[136382936,136382936],[135915358,135915358],[135954405,135954405],[135995073,135995073],[135995079,135995079],[136398174,136398174],[136402117,136402117],[136403749,136403749],[136409073,136409073],[136410299,136410299],[136413359,136413359],[136416855,136416855],[136416941,136416941],[136418348,136418348],[136419961,136419961],[136420690,136420690],[136422171,136422171],[136428460,136428460],[136430866,136430866],[136432103,136432103],[136437507,136437507],[136439090,136439090],[136439517,136439517],[136444123,136444123],[136445526,136445526],[136445869,136445869],[136455600,136455600],[136456642,136456642],[136462441,136462441],[136470714,136470714],[136474098,136474098],[136494186,136494186],[136495300,136495300],[136495619,136495619],[136499166,136499166],[136502792,136502792],[136503157,136503157],[136507039,136507039],[136511575,136511575],[136518103,136518103],[136521514,136521514],[136522675,136522675],[136522941,136522941],[136526981,136526981],[136535410,136535410],[136539122,136539122],[136544197,136544197],[136550109,136550109],[136551694,136551694],[136553188,136553188],[136553639,136553639],[136554800,136554800],[136557319,136557319],[136558157,136558157],[136569848,136569848],[136575199,136575199],[136576577,136576577],[136578536,136578536],[136580287,136580287],[136583192,136583192],[136586958,136586958],[136588478,136588478],[136589612,136589612],[136591178,136591178],[136591859,136591859],[136593760,136593760],[136594158,136594158],[136603276,136603276],[136603366,136603366],[136608231,136608231],[136609975,136609975],[136610598,136610598],[136611624,136611624],[136613780,136613780],[136614255,136614255],[136614813,136614813],[136617524,136617524],[136622216,136622216],[136625602,136625602],[136629911,136629911],[136630757,136630757],[136630989,136630989],[136631031,136631031],[136633771,136633771],[136636324,136636324],[136638216,136638216],[136640233,136640233],[136641882,136641882],[136643555,136643555],[136658345,136658345],[136670298,136670298],[136685228,136685228],[136696138,136696138],[136740900,136740900],[136765951,136765951],[136501840,136501840],[136505546,136505546],[136516748,136516748],[136522710,136522710],[136528004,136528004],[136539513,136539513],[136544752,136544752],[136546110,136546110],[136553529,136553529],[136555659,136555659],[136682274,136682274],[136691825,136691825],[136698098,136698098],[136721603,136721603],[136721995,136721995],[136755684,136755684],[136775898,136775898]],\"ys\":[[150,195],[150,195],[150,195],[150,195],[150,195],[150,195],[50,66],[50,66],[50,66],[50,66],[50,66],[50,66],[250,296],[250,296],[250,296],[250,296],[150,194],[150,194],[150,194],[150,194],[150,194],[150,194],[150,194],[150,194],[150,194],[150,194],[150,194],[150,194],[150,194],[150,194],[150,194],[150,194],[150,194],[150,194],[150,194],[150,194],[150,194],[150,194],[150,194],[150,194],[150,194],[150,194],[250,295],[250,295],[250,295],[250,295],[250,295],[250,295],[250,295],[250,295],[250,295],[250,295],[250,295],[250,295],[250,295],[250,295],[250,295],[250,295],[250,295],[250,295],[250,295],[250,295],[250,295],[250,295],[250,295],[250,295],[250,295],[250,295],[250,295],[250,295],[250,295],[250,295],[250,295],[250,295],[250,295],[250,295],[250,295],[250,295],[250,295],[250,295],[250,295],[250,295],[250,295],[250,295],[250,295],[250,295],[250,295],[250,295],[250,295],[250,295],[250,295],[250,295],[250,295],[250,295],[250,295],[250,295],[250,295],[250,295],[250,295],[250,295],[250,295],[250,295],[250,295],[250,295],[250,295],[250,295],[350,398],[350,398],[350,398],[350,398],[350,398],[350,398],[350,398],[350,398],[350,398],[350,398],[350,397],[350,397],[350,397],[350,397],[350,397],[350,397],[350,397]]}},\"id\":\"96b0c4ed-b956-4624-8425-d12ab79fed12\",\"type\":\"ColumnDataSource\"},{\"attributes\":{\"plot\":{\"id\":\"e0a92b09-0a04-4698-bffb-0a4cf452b799\",\"subtype\":\"Figure\",\"type\":\"Plot\"},\"ticker\":{\"id\":\"06487611-0456-4d53-9c3d-0d2b27cb3876\",\"type\":\"BasicTicker\"}},\"id\":\"ef22537a-101f-4e5e-b9ec-8ebd8b0587fb\",\"type\":\"Grid\"},{\"attributes\":{\"callback\":null,\"end\":136786630,\"start\":135757320},\"id\":\"32430821-16da-4d9a-817f-680dea8f4a69\",\"type\":\"Range1d\"},{\"attributes\":{\"data_source\":{\"id\":\"56d32d10-2b95-4570-b47c-6f5f3cc29583\",\"type\":\"ColumnDataSource\"},\"glyph\":{\"id\":\"7baf72f0-cc51-4b9c-b7b9-bea20ace84c8\",\"type\":\"Quad\"},\"hover_glyph\":null,\"nonselection_glyph\":{\"id\":\"59cfaa9a-1d6c-4001-b45f-1863d485f8ef\",\"type\":\"Quad\"},\"selection_glyph\":null},\"id\":\"179e4be7-fbaf-4db0-86b1-caacce7523c8\",\"type\":\"GlyphRenderer\"},{\"attributes\":{\"callback\":null,\"column_names\":[\"right\",\"bottom\",\"top\",\"left\",\"fill_color\"],\"data\":{\"bottom\":[150,50,250,150,250,350,350],\"fill_color\":[\"#61c461\",\"#00ff00\",\"#61c461\",\"#61c461\",\"#61c461\",\"#808080\",\"#61c461\"],\"left\":[135771974,135889881,135915358,136398174,136494186,136501840,136682274],\"right\":[136140304,136382936,135995079,136474098,136765951,136555659,136775898],\"top\":[195,66,296,194,295,398,397]}},\"id\":\"56d32d10-2b95-4570-b47c-6f5f3cc29583\",\"type\":\"ColumnDataSource\"},{\"attributes\":{\"callback\":null,\"column_names\":[\"right\",\"bottom\",\"top\",\"left\"],\"data\":{\"bottom\":[445,445,445,445,445,445,445],\"left\":[135809835,135957574,136289083,136499189,136545415,136597196,136664254],\"right\":[135928279,136288182,136482839,136542633,136594750,136634047,136743222],\"top\":[475,475,475,475,475,475,475]}},\"id\":\"20fb1065-fc7c-498f-9042-a9544bc4f7a6\",\"type\":\"ColumnDataSource\"},{\"attributes\":{\"active_drag\":\"auto\",\"active_scroll\":\"auto\",\"active_tap\":\"auto\",\"tools\":[{\"id\":\"77134a09-12f6-4c93-b29f-e8012312e8c5\",\"type\":\"PanTool\"},{\"id\":\"753f524b-1388-466b-82c6-4a5d9c6ebf75\",\"type\":\"WheelZoomTool\"},{\"id\":\"23f33183-edf7-4a11-837b-98fc5afd9f04\",\"type\":\"BoxZoomTool\"},{\"id\":\"af2903d2-3f97-421e-9801-d9d6034d854b\",\"type\":\"SaveTool\"},{\"id\":\"e030d79c-ab52-483a-8f50-3e48b9a1f5ad\",\"type\":\"ResetTool\"},{\"id\":\"d67bec7f-22dc-4e4d-99c4-3a72834778d0\",\"type\":\"HelpTool\"}]},\"id\":\"c5222180-41e8-4f12-9b21-563e79cb4981\",\"type\":\"Toolbar\"},{\"attributes\":{\"plot\":{\"id\":\"e0a92b09-0a04-4698-bffb-0a4cf452b799\",\"subtype\":\"Figure\",\"type\":\"Plot\"}},\"id\":\"d67bec7f-22dc-4e4d-99c4-3a72834778d0\",\"type\":\"HelpTool\"},{\"attributes\":{\"plot\":{\"id\":\"e0a92b09-0a04-4698-bffb-0a4cf452b799\",\"subtype\":\"Figure\",\"type\":\"Plot\"}},\"id\":\"af2903d2-3f97-421e-9801-d9d6034d854b\",\"type\":\"SaveTool\"},{\"attributes\":{\"level\":\"glyph\",\"plot\":{\"id\":\"e0a92b09-0a04-4698-bffb-0a4cf452b799\",\"subtype\":\"Figure\",\"type\":\"Plot\"},\"source\":{\"id\":\"7bd303df-6607-4380-a3cf-f2874b8b56e2\",\"type\":\"ColumnDataSource\"},\"text\":{\"field\":\"vals\"},\"text_font_size\":{\"value\":\"9pt\"},\"text_font_style\":\"bold\",\"x\":{\"field\":\"x\"},\"y\":{\"field\":\"y\"}},\"id\":\"7edf619b-0d53-44e0-aa20-c8a91451928a\",\"type\":\"LabelSet\"},{\"attributes\":{},\"id\":\"fb1a2c6b-7820-495c-a38b-ca0b28477294\",\"type\":\"BasicTickFormatter\"},{\"attributes\":{\"formatter\":{\"id\":\"fb1a2c6b-7820-495c-a38b-ca0b28477294\",\"type\":\"BasicTickFormatter\"},\"plot\":{\"id\":\"e0a92b09-0a04-4698-bffb-0a4cf452b799\",\"subtype\":\"Figure\",\"type\":\"Plot\"},\"ticker\":{\"id\":\"06487611-0456-4d53-9c3d-0d2b27cb3876\",\"type\":\"BasicTicker\"}},\"id\":\"67003a32-cc12-41c9-a3de-0c37940e14b3\",\"type\":\"LinearAxis\"},{\"attributes\":{\"bottom\":{\"field\":\"bottom\"},\"fill_color\":{\"field\":\"fill_color\"},\"left\":{\"field\":\"left\"},\"line_color\":{\"value\":null},\"right\":{\"field\":\"right\"},\"top\":{\"field\":\"top\"}},\"id\":\"7baf72f0-cc51-4b9c-b7b9-bea20ace84c8\",\"type\":\"Quad\"},{\"attributes\":{\"bottom\":{\"field\":\"bottom\"},\"fill_alpha\":{\"value\":0.1},\"fill_color\":{\"value\":\"#1f77b4\"},\"left\":{\"field\":\"left\"},\"line_alpha\":{\"value\":0.1},\"line_color\":{\"value\":\"#1f77b4\"},\"right\":{\"field\":\"right\"},\"top\":{\"field\":\"top\"}},\"id\":\"59cfaa9a-1d6c-4001-b45f-1863d485f8ef\",\"type\":\"Quad\"},{\"attributes\":{},\"id\":\"c3f60e3e-de31-420b-9c17-17f905545259\",\"type\":\"BasicTickFormatter\"}],\"root_ids\":[\"e0a92b09-0a04-4698-bffb-0a4cf452b799\"]},\"title\":\"Bokeh Application\",\"version\":\"0.12.0\"}};\n",
       "            var render_items = [{\"docid\":\"a357ef83-393b-407f-9e00-43242f7ef2ca\",\"elementid\":\"80c81d9f-34a3-42a3-8666-34ff6660dcca\",\"modelid\":\"e0a92b09-0a04-4698-bffb-0a4cf452b799\",\"notebook_comms_target\":\"efe7ea7b-7d32-4aee-b9a9-3073f80c7359\"}];\n",
       "            \n",
       "            Bokeh.embed.embed_items(docs_json, render_items);\n",
       "        });\n",
       "      },\n",
       "      function(Bokeh) {\n",
       "      }\n",
       "    ];\n",
       "  \n",
       "    function run_inline_js() {\n",
       "      for (var i = 0; i < inline_js.length; i++) {\n",
       "        inline_js[i](window.Bokeh);\n",
       "      }\n",
       "    }\n",
       "  \n",
       "    if (window._bokeh_is_loading === 0) {\n",
       "      console.log(\"Bokeh: BokehJS loaded, going straight to plotting\");\n",
       "      run_inline_js();\n",
       "    } else {\n",
       "      load_libs(js_urls, function() {\n",
       "        console.log(\"Bokeh: BokehJS plotting callback run at\", now());\n",
       "        run_inline_js();\n",
       "      });\n",
       "    }\n",
       "  }(this));\n",
       "</script>"
      ]
     },
     "metadata": {},
     "output_type": "display_data"
    },
    {
     "data": {
      "text/html": [
       "<p><code>&lt;Bokeh Notebook handle for <strong>In[14]</strong>&gt;</code></p>"
      ],
      "text/plain": [
       "<bokeh.io._CommsHandle at 0x7f165cc62890>"
      ]
     },
     "execution_count": 14,
     "metadata": {},
     "output_type": "execute_result"
    }
   ],
   "source": [
    "plt_obj = dm.superset_yes_no([dm.di_6_57, dm.di_64_1575], min_match=0.5)\n",
    "plt = plt_obj.do_plot()\n",
    "show(plt)"
   ]
  },
  {
   "cell_type": "code",
   "execution_count": 15,
   "metadata": {
    "collapsed": false
   },
   "outputs": [
    {
     "data": {
      "text/html": [
       "<table>\n",
       "<thead><tr><th style=\"text-align:center\">index</th><th style=\"text-align:center\">first</th><th style=\"text-align:center\">length</th><th style=\"text-align:center\">snps</th><th style=\"text-align:center\" colspan=2>alleles</th><th style=\"text-align:center\" colspan=2>matches</th><th style=\"text-align:center\" colspan=2>afr</th><th style=\"text-align:center\" colspan=2>afx</th><th style=\"text-align:center\" colspan=2>amr</th><th style=\"text-align:center\" colspan=2>eas</th><th style=\"text-align:center\" colspan=2>eur</th><th style=\"text-align:center\" colspan=2>sas</th><th style=\"text-align:center\" colspan=2>sax</th></tr></thead>\n",
       "<tr class=\"even\"><td style=\"text-align: right;\">353921</td><td style=\"text-align: right;\">136,501,840</td><td style=\"text-align: right;\">53,819</td><td style=\"text-align: right;\">10</td><td style=\"text-align: right;\">2206</td><td style=\"text-align: right;\">0.01</td><td style=\"text-align: right;\">23</td><td style=\"text-align: right;\">1.00</td><td style=\"text-align: right;\">2</td><td style=\"text-align: right;\">0.43</td><td style=\"text-align: right;\">1</td><td style=\"text-align: right;\">0.69</td><td style=\"text-align: right;\">6</td><td style=\"text-align: right;\">1.88</td><td style=\"text-align: right;\">0</td><td style=\"text-align: right;\">0.00</td><td style=\"text-align: right;\">10</td><td style=\"text-align: right;\">2.16</td><td style=\"text-align: right;\">2</td><td style=\"text-align: right;\">1.20</td><td style=\"text-align: right;\">2</td><td style=\"text-align: right;\">0.71</td></tr>\n",
       "<tr><td style=\"text-align: right;\">354170</td><td style=\"text-align: right;\">136,682,274</td><td style=\"text-align: right;\">93,624</td><td style=\"text-align: right;\">7</td><td style=\"text-align: right;\">1868</td><td style=\"text-align: right;\">0.01</td><td style=\"text-align: right;\">22</td><td style=\"text-align: right;\">0.96</td><td style=\"text-align: right;\">2</td><td style=\"text-align: right;\">0.45</td><td style=\"text-align: right;\">1</td><td style=\"text-align: right;\">0.72</td><td style=\"text-align: right;\">6</td><td style=\"text-align: right;\">1.97</td><td style=\"text-align: right;\">0</td><td style=\"text-align: right;\">0.00</td><td style=\"text-align: right;\">9</td><td style=\"text-align: right;\">2.04</td><td style=\"text-align: right;\">2</td><td style=\"text-align: right;\">1.25</td><td style=\"text-align: right;\">2</td><td style=\"text-align: right;\">0.74</td></tr>\n",
       "<tr class=\"even\"><td style=\"text-align: right;\">353462</td><td style=\"text-align: right;\">135,915,358</td><td style=\"text-align: right;\">79,721</td><td style=\"text-align: right;\">4</td><td style=\"text-align: right;\">1699</td><td style=\"text-align: right;\">0.01</td><td style=\"text-align: right;\">23</td><td style=\"text-align: right;\">1.00</td><td style=\"text-align: right;\">2</td><td style=\"text-align: right;\">0.43</td><td style=\"text-align: right;\">1</td><td style=\"text-align: right;\">0.69</td><td style=\"text-align: right;\">6</td><td style=\"text-align: right;\">1.88</td><td style=\"text-align: right;\">0</td><td style=\"text-align: right;\">0.00</td><td style=\"text-align: right;\">10</td><td style=\"text-align: right;\">2.16</td><td style=\"text-align: right;\">2</td><td style=\"text-align: right;\">1.20</td><td style=\"text-align: right;\">2</td><td style=\"text-align: right;\">0.71</td></tr>\n",
       "<tr><td style=\"text-align: right;\">353901</td><td style=\"text-align: right;\">136,494,186</td><td style=\"text-align: right;\">271,765</td><td style=\"text-align: right;\">64</td><td style=\"text-align: right;\">1575</td><td style=\"text-align: right;\">0.01</td><td style=\"text-align: right;\">23</td><td style=\"text-align: right;\">1.00</td><td style=\"text-align: right;\">2</td><td style=\"text-align: right;\">0.43</td><td style=\"text-align: right;\">1</td><td style=\"text-align: right;\">0.69</td><td style=\"text-align: right;\">6</td><td style=\"text-align: right;\">1.88</td><td style=\"text-align: right;\">0</td><td style=\"text-align: right;\">0.00</td><td style=\"text-align: right;\">10</td><td style=\"text-align: right;\">2.16</td><td style=\"text-align: right;\">2</td><td style=\"text-align: right;\">1.20</td><td style=\"text-align: right;\">2</td><td style=\"text-align: right;\">0.71</td></tr>\n",
       "<tr class=\"even\"><td style=\"text-align: right;\">353283</td><td style=\"text-align: right;\">135,771,974</td><td style=\"text-align: right;\">368,330</td><td style=\"text-align: right;\">6</td><td style=\"text-align: right;\">1503</td><td style=\"text-align: right;\">0.02</td><td style=\"text-align: right;\">23</td><td style=\"text-align: right;\">1.00</td><td style=\"text-align: right;\">2</td><td style=\"text-align: right;\">0.43</td><td style=\"text-align: right;\">1</td><td style=\"text-align: right;\">0.69</td><td style=\"text-align: right;\">6</td><td style=\"text-align: right;\">1.88</td><td style=\"text-align: right;\">0</td><td style=\"text-align: right;\">0.00</td><td style=\"text-align: right;\">10</td><td style=\"text-align: right;\">2.16</td><td style=\"text-align: right;\">2</td><td style=\"text-align: right;\">1.20</td><td style=\"text-align: right;\">2</td><td style=\"text-align: right;\">0.71</td></tr>\n",
       "<tr><td style=\"text-align: right;\">353797</td><td style=\"text-align: right;\">136,398,174</td><td style=\"text-align: right;\">75,924</td><td style=\"text-align: right;\">26</td><td style=\"text-align: right;\">1414</td><td style=\"text-align: right;\">0.02</td><td style=\"text-align: right;\">23</td><td style=\"text-align: right;\">1.00</td><td style=\"text-align: right;\">2</td><td style=\"text-align: right;\">0.43</td><td style=\"text-align: right;\">1</td><td style=\"text-align: right;\">0.69</td><td style=\"text-align: right;\">6</td><td style=\"text-align: right;\">1.88</td><td style=\"text-align: right;\">0</td><td style=\"text-align: right;\">0.00</td><td style=\"text-align: right;\">10</td><td style=\"text-align: right;\">2.16</td><td style=\"text-align: right;\">2</td><td style=\"text-align: right;\">1.20</td><td style=\"text-align: right;\">2</td><td style=\"text-align: right;\">0.71</td></tr>\n",
       "<tr class=\"even\"><td style=\"text-align: right;\">353444</td><td style=\"text-align: right;\">135,889,881</td><td style=\"text-align: right;\">493,055</td><td style=\"text-align: right;\">6</td><td style=\"text-align: right;\">57</td><td style=\"text-align: right;\">0.40</td><td style=\"text-align: right;\">23</td><td style=\"text-align: right;\">1.00</td><td style=\"text-align: right;\">2</td><td style=\"text-align: right;\">0.43</td><td style=\"text-align: right;\">1</td><td style=\"text-align: right;\">0.69</td><td style=\"text-align: right;\">6</td><td style=\"text-align: right;\">1.88</td><td style=\"text-align: right;\">0</td><td style=\"text-align: right;\">0.00</td><td style=\"text-align: right;\">10</td><td style=\"text-align: right;\">2.16</td><td style=\"text-align: right;\">2</td><td style=\"text-align: right;\">1.20</td><td style=\"text-align: right;\">2</td><td style=\"text-align: right;\">0.71</td></tr>\n",
       "</table>"
      ],
      "text/plain": [
       "<IPython.core.display.HTML object>"
      ]
     },
     "execution_count": 15,
     "metadata": {},
     "output_type": "execute_result"
    }
   ],
   "source": [
    "HTML(plt_obj.get_html())"
   ]
  },
  {
   "cell_type": "code",
   "execution_count": 16,
   "metadata": {
    "collapsed": false
   },
   "outputs": [
    {
     "data": {
      "text/html": [
       "\n",
       "\n",
       "    <div class=\"bk-root\">\n",
       "        <div class=\"plotdiv\" id=\"8991c2e4-8a7e-49f6-b7fa-8dfa8d169fef\"></div>\n",
       "    </div>\n",
       "<script type=\"text/javascript\">\n",
       "  \n",
       "  (function(global) {\n",
       "    function now() {\n",
       "      return new Date();\n",
       "    }\n",
       "  \n",
       "    if (typeof (window._bokeh_onload_callbacks) === \"undefined\") {\n",
       "      window._bokeh_onload_callbacks = [];\n",
       "    }\n",
       "  \n",
       "    function run_callbacks() {\n",
       "      window._bokeh_onload_callbacks.forEach(function(callback) { callback() });\n",
       "      delete window._bokeh_onload_callbacks\n",
       "      console.info(\"Bokeh: all callbacks have finished\");\n",
       "    }\n",
       "  \n",
       "    function load_libs(js_urls, callback) {\n",
       "      window._bokeh_onload_callbacks.push(callback);\n",
       "      if (window._bokeh_is_loading > 0) {\n",
       "        console.log(\"Bokeh: BokehJS is being loaded, scheduling callback at\", now());\n",
       "        return null;\n",
       "      }\n",
       "      if (js_urls == null || js_urls.length === 0) {\n",
       "        run_callbacks();\n",
       "        return null;\n",
       "      }\n",
       "      console.log(\"Bokeh: BokehJS not loaded, scheduling load and callback at\", now());\n",
       "      window._bokeh_is_loading = js_urls.length;\n",
       "      for (var i = 0; i < js_urls.length; i++) {\n",
       "        var url = js_urls[i];\n",
       "        var s = document.createElement('script');\n",
       "        s.src = url;\n",
       "        s.async = false;\n",
       "        s.onreadystatechange = s.onload = function() {\n",
       "          window._bokeh_is_loading--;\n",
       "          if (window._bokeh_is_loading === 0) {\n",
       "            console.log(\"Bokeh: all BokehJS libraries loaded\");\n",
       "            run_callbacks()\n",
       "          }\n",
       "        };\n",
       "        s.onerror = function() {\n",
       "          console.warn(\"failed to load library \" + url);\n",
       "        };\n",
       "        console.log(\"Bokeh: injecting script tag for BokehJS library: \", url);\n",
       "        document.getElementsByTagName(\"head\")[0].appendChild(s);\n",
       "      }\n",
       "    };var element = document.getElementById(\"8991c2e4-8a7e-49f6-b7fa-8dfa8d169fef\");\n",
       "    if (element == null) {\n",
       "      console.log(\"Bokeh: ERROR: autoload.js configured with elementid '8991c2e4-8a7e-49f6-b7fa-8dfa8d169fef' but no matching script tag was found. \")\n",
       "      return false;\n",
       "    }\n",
       "  \n",
       "    var js_urls = [];\n",
       "  \n",
       "    var inline_js = [\n",
       "      function(Bokeh) {\n",
       "        Bokeh.$(function() {\n",
       "            var docs_json = {\"f8940701-f523-44c0-a9d1-74fc3c57dcc2\":{\"roots\":{\"references\":[{\"attributes\":{\"bottom\":{\"field\":\"bottom\"},\"fill_alpha\":{\"value\":0.1},\"fill_color\":{\"value\":\"#1f77b4\"},\"left\":{\"field\":\"left\"},\"line_alpha\":{\"value\":0.1},\"line_color\":{\"value\":\"#1f77b4\"},\"right\":{\"field\":\"right\"},\"top\":{\"field\":\"top\"}},\"id\":\"d697e0b5-cf85-4453-9232-f33b18256a28\",\"type\":\"Quad\"},{\"attributes\":{\"line_color\":{\"field\":\"line_color\"},\"xs\":{\"field\":\"xs\"},\"ys\":{\"field\":\"ys\"}},\"id\":\"e7ae64f1-0fcf-4f61-b4a2-2196780ca6ed\",\"type\":\"MultiLine\"},{\"attributes\":{\"data_source\":{\"id\":\"1dde87e7-4e9a-41ae-b053-4fb6eb89f03f\",\"type\":\"ColumnDataSource\"},\"glyph\":{\"id\":\"e7ae64f1-0fcf-4f61-b4a2-2196780ca6ed\",\"type\":\"MultiLine\"},\"hover_glyph\":null,\"nonselection_glyph\":{\"id\":\"82be211d-bd42-42cf-b8f5-487e981cf515\",\"type\":\"MultiLine\"},\"selection_glyph\":null},\"id\":\"fef07d88-f82f-45ac-bdbe-e58ad777c709\",\"type\":\"GlyphRenderer\"},{\"attributes\":{\"callback\":null,\"column_names\":[\"xs\",\"ys\",\"line_color\"],\"data\":{\"line_color\":[\"black\",\"black\",\"black\",\"black\",\"black\",\"black\",\"black\",\"black\",\"black\",\"black\",\"black\",\"black\",\"black\",\"black\",\"black\",\"black\",\"black\",\"black\",\"black\",\"black\",\"black\",\"black\",\"black\",\"black\",\"black\",\"black\",\"black\",\"black\",\"black\",\"black\",\"black\",\"black\",\"black\",\"black\",\"black\",\"black\",\"black\",\"black\",\"black\",\"black\",\"black\",\"black\",\"black\",\"black\",\"black\",\"black\",\"black\",\"black\",\"black\",\"black\",\"black\",\"black\",\"black\",\"black\",\"black\",\"black\",\"black\",\"black\",\"black\",\"black\",\"black\",\"black\",\"black\",\"black\",\"black\",\"black\",\"black\",\"black\",\"black\",\"black\",\"black\",\"black\",\"black\",\"black\",\"black\",\"black\",\"black\",\"black\",\"black\",\"black\",\"black\",\"black\",\"black\",\"black\",\"black\",\"black\",\"black\",\"black\",\"black\",\"black\",\"black\"],\"xs\":[[135771974,135771974],[135859371,135859371],[135877562,135877562],[136022798,136022798],[136058820,136058820],[136140304,136140304],[135889881,135889881],[135956309,135956309],[136088389,136088389],[136323321,136323321],[136361384,136361384],[136382936,136382936],[135915358,135915358],[135954405,135954405],[135995073,135995073],[135995079,135995079],[136398174,136398174],[136402117,136402117],[136403749,136403749],[136409073,136409073],[136410299,136410299],[136413359,136413359],[136416855,136416855],[136416941,136416941],[136418348,136418348],[136419961,136419961],[136420690,136420690],[136422171,136422171],[136428460,136428460],[136430866,136430866],[136432103,136432103],[136437507,136437507],[136439090,136439090],[136439517,136439517],[136444123,136444123],[136445526,136445526],[136445869,136445869],[136455600,136455600],[136456642,136456642],[136462441,136462441],[136470714,136470714],[136474098,136474098],[136501840,136501840],[136505546,136505546],[136516748,136516748],[136522710,136522710],[136528004,136528004],[136539513,136539513],[136544752,136544752],[136546110,136546110],[136553529,136553529],[136555659,136555659],[136556805,136556805],[136560003,136560003],[136562472,136562472],[136563248,136563248],[136565328,136565328],[136570613,136570613],[136571982,136571982],[136574305,136574305],[136578040,136578040],[136578194,136578194],[136580398,136580398],[136586828,136586828],[136590558,136590558],[136592309,136592309],[136593541,136593541],[136593694,136593694],[136595426,136595426],[136615222,136615222],[136624919,136624919],[136626004,136626004],[136628380,136628380],[136636909,136636909],[136637350,136637350],[136637622,136637622],[136639487,136639487],[136646900,136646900],[136652093,136652093],[136652859,136652859],[136655620,136655620],[136667896,136667896],[136671801,136671801],[136677192,136677192],[136683293,136683293],[136704414,136704414],[136720344,136720344],[136731066,136731066],[136733897,136733897],[136743490,136743490],[136747085,136747085]],\"ys\":[[150,195],[150,195],[150,195],[150,195],[150,195],[150,195],[50,66],[50,66],[50,66],[50,66],[50,66],[50,66],[250,296],[250,296],[250,296],[250,296],[150,194],[150,194],[150,194],[150,194],[150,194],[150,194],[150,194],[150,194],[150,194],[150,194],[150,194],[150,194],[150,194],[150,194],[150,194],[150,194],[150,194],[150,194],[150,194],[150,194],[150,194],[150,194],[150,194],[150,194],[150,194],[150,194],[250,298],[250,298],[250,298],[250,298],[250,298],[250,298],[250,298],[250,298],[250,298],[250,298],[150,191],[150,191],[150,191],[150,191],[150,191],[150,191],[150,191],[150,191],[150,191],[150,191],[150,191],[150,191],[150,191],[150,191],[150,191],[150,191],[150,191],[150,191],[150,191],[150,191],[150,191],[150,191],[150,191],[150,191],[150,191],[150,191],[150,191],[150,191],[150,191],[150,191],[150,191],[150,191],[150,191],[150,191],[150,191],[150,191],[150,191],[150,191],[150,191]]}},\"id\":\"1dde87e7-4e9a-41ae-b053-4fb6eb89f03f\",\"type\":\"ColumnDataSource\"},{\"attributes\":{\"formatter\":{\"id\":\"b1cd3822-927a-410a-abb8-8614748b71c7\",\"type\":\"BasicTickFormatter\"},\"plot\":{\"id\":\"04124fc4-c94e-405c-a291-f24727a4388c\",\"subtype\":\"Figure\",\"type\":\"Plot\"},\"ticker\":{\"id\":\"66a86129-bafb-41de-b072-c93c492ee6bf\",\"type\":\"BasicTicker\"},\"visible\":null},\"id\":\"6c66b7a7-580c-4a49-bce8-a8717598a9a5\",\"type\":\"LinearAxis\"},{\"attributes\":{\"bottom_units\":\"screen\",\"fill_alpha\":{\"value\":0.5},\"fill_color\":{\"value\":\"lightgrey\"},\"left_units\":\"screen\",\"level\":\"overlay\",\"line_alpha\":{\"value\":1.0},\"line_color\":{\"value\":\"black\"},\"line_dash\":[4,4],\"line_width\":{\"value\":2},\"plot\":null,\"render_mode\":\"css\",\"right_units\":\"screen\",\"top_units\":\"screen\"},\"id\":\"722b8a51-463e-4b91-bbf2-481e372d3879\",\"type\":\"BoxAnnotation\"},{\"attributes\":{\"callback\":null,\"column_names\":[\"right\",\"bottom\",\"top\",\"left\"],\"data\":{\"bottom\":[345,345,345,345,345,345,345],\"left\":[135809835,135957574,136289083,136499189,136545415,136597196,136664254],\"right\":[135928279,136288182,136482839,136542633,136594750,136634047,136743222],\"top\":[375,375,375,375,375,375,375]}},\"id\":\"f6adc93c-f77a-4e54-88fa-f375c60c4f04\",\"type\":\"ColumnDataSource\"},{\"attributes\":{\"bottom\":{\"field\":\"bottom\"},\"fill_color\":{\"value\":\"white\"},\"left\":{\"field\":\"left\"},\"right\":{\"field\":\"right\"},\"top\":{\"field\":\"top\"}},\"id\":\"a72161e5-a3aa-4045-88b3-74f5a4015cf7\",\"type\":\"Quad\"},{\"attributes\":{},\"id\":\"66a86129-bafb-41de-b072-c93c492ee6bf\",\"type\":\"BasicTicker\"},{\"attributes\":{\"callback\":null,\"end\":136786630,\"start\":135757320},\"id\":\"947c7eac-58e1-4ef0-b0f6-a3c8f23cb722\",\"type\":\"Range1d\"},{\"attributes\":{\"bottom\":{\"field\":\"bottom\"},\"fill_alpha\":{\"value\":0.1},\"fill_color\":{\"value\":\"#1f77b4\"},\"left\":{\"field\":\"left\"},\"line_alpha\":{\"value\":0.1},\"line_color\":{\"value\":\"#1f77b4\"},\"right\":{\"field\":\"right\"},\"top\":{\"field\":\"top\"}},\"id\":\"80a14c86-7a5c-4ed4-894c-36384651558f\",\"type\":\"Quad\"},{\"attributes\":{\"plot\":null,\"text\":null},\"id\":\"a4de9a4a-0224-4783-afb2-cadff56a09b8\",\"type\":\"Title\"},{\"attributes\":{},\"id\":\"7dec3682-ee98-4896-888b-81093e1d86e7\",\"type\":\"ToolEvents\"},{\"attributes\":{\"plot\":{\"id\":\"04124fc4-c94e-405c-a291-f24727a4388c\",\"subtype\":\"Figure\",\"type\":\"Plot\"}},\"id\":\"ce54f00e-57e0-4dbd-bddf-a3e4eb667fd6\",\"type\":\"ResetTool\"},{\"attributes\":{\"callback\":null,\"column_names\":[\"y\",\"x\",\"vals\"],\"data\":{\"vals\":[\"RAB3GAP1\",\"ZRANB3\",\"R3HDM1\",\"UBXN4\",\"LCT\",\"MCM6\",\"DARS\"],\"x\":[135869057.0,136122878.0,136385961.0,136520911.0,136570082.5,136615621.5,136703738.0],\"y\":[360.0,360.0,360.0,360.0,360.0,360.0,360.0]}},\"id\":\"de2ee0d4-0731-4fee-8e1c-6e71cc2354d6\",\"type\":\"ColumnDataSource\"},{\"attributes\":{\"data_source\":{\"id\":\"d4a472f2-1267-4363-91b2-d77650925883\",\"type\":\"ColumnDataSource\"},\"glyph\":{\"id\":\"c38283b7-ee38-4efb-9dea-24e5518cda79\",\"type\":\"Quad\"},\"hover_glyph\":null,\"nonselection_glyph\":{\"id\":\"d697e0b5-cf85-4453-9232-f33b18256a28\",\"type\":\"Quad\"},\"selection_glyph\":null},\"id\":\"3e60ff84-ea71-49fa-974e-2e9e30a848a7\",\"type\":\"GlyphRenderer\"},{\"attributes\":{\"dimension\":1,\"plot\":{\"id\":\"04124fc4-c94e-405c-a291-f24727a4388c\",\"subtype\":\"Figure\",\"type\":\"Plot\"},\"ticker\":{\"id\":\"66a86129-bafb-41de-b072-c93c492ee6bf\",\"type\":\"BasicTicker\"}},\"id\":\"465e63ab-bf68-42c3-accc-73b481a0e190\",\"type\":\"Grid\"},{\"attributes\":{},\"id\":\"b1cd3822-927a-410a-abb8-8614748b71c7\",\"type\":\"BasicTickFormatter\"},{\"attributes\":{},\"id\":\"87327f68-d88a-4113-8336-aedbd29d9bf3\",\"type\":\"BasicTickFormatter\"},{\"attributes\":{\"plot\":{\"id\":\"04124fc4-c94e-405c-a291-f24727a4388c\",\"subtype\":\"Figure\",\"type\":\"Plot\"}},\"id\":\"f54dc2e7-acbc-4b57-9e49-662efa232d81\",\"type\":\"PanTool\"},{\"attributes\":{\"formatter\":{\"id\":\"87327f68-d88a-4113-8336-aedbd29d9bf3\",\"type\":\"BasicTickFormatter\"},\"plot\":{\"id\":\"04124fc4-c94e-405c-a291-f24727a4388c\",\"subtype\":\"Figure\",\"type\":\"Plot\"},\"ticker\":{\"id\":\"570b4ecc-e435-4658-8f8d-8df25385808f\",\"type\":\"BasicTicker\"}},\"id\":\"5e206292-5f67-4b10-b157-d6939450e8ee\",\"type\":\"LinearAxis\"},{\"attributes\":{\"line_alpha\":{\"value\":0.1},\"line_color\":{\"value\":\"#1f77b4\"},\"xs\":{\"field\":\"xs\"},\"ys\":{\"field\":\"ys\"}},\"id\":\"82be211d-bd42-42cf-b8f5-487e981cf515\",\"type\":\"MultiLine\"},{\"attributes\":{\"plot\":{\"id\":\"04124fc4-c94e-405c-a291-f24727a4388c\",\"subtype\":\"Figure\",\"type\":\"Plot\"}},\"id\":\"4e467d5c-24ac-4f6d-8c95-2c32b44a2000\",\"type\":\"WheelZoomTool\"},{\"attributes\":{\"plot\":{\"id\":\"04124fc4-c94e-405c-a291-f24727a4388c\",\"subtype\":\"Figure\",\"type\":\"Plot\"},\"ticker\":{\"id\":\"570b4ecc-e435-4658-8f8d-8df25385808f\",\"type\":\"BasicTicker\"}},\"id\":\"8760f073-6441-4996-be5c-88f4ef743e05\",\"type\":\"Grid\"},{\"attributes\":{\"data_source\":{\"id\":\"f6adc93c-f77a-4e54-88fa-f375c60c4f04\",\"type\":\"ColumnDataSource\"},\"glyph\":{\"id\":\"a72161e5-a3aa-4045-88b3-74f5a4015cf7\",\"type\":\"Quad\"},\"hover_glyph\":null,\"nonselection_glyph\":{\"id\":\"80a14c86-7a5c-4ed4-894c-36384651558f\",\"type\":\"Quad\"},\"selection_glyph\":null},\"id\":\"5bc3706b-db53-4eb2-991e-c7c107294186\",\"type\":\"GlyphRenderer\"},{\"attributes\":{\"bottom\":{\"field\":\"bottom\"},\"fill_color\":{\"field\":\"fill_color\"},\"left\":{\"field\":\"left\"},\"line_color\":{\"value\":null},\"right\":{\"field\":\"right\"},\"top\":{\"field\":\"top\"}},\"id\":\"c38283b7-ee38-4efb-9dea-24e5518cda79\",\"type\":\"Quad\"},{\"attributes\":{\"level\":\"glyph\",\"plot\":{\"id\":\"04124fc4-c94e-405c-a291-f24727a4388c\",\"subtype\":\"Figure\",\"type\":\"Plot\"},\"source\":{\"id\":\"2ade2751-5bde-445f-ab45-e19cae43508a\",\"type\":\"ColumnDataSource\"},\"text\":{\"field\":\"vals\"},\"text_font_size\":{\"value\":\"9pt\"},\"text_font_style\":\"bold\",\"x\":{\"field\":\"x\"},\"y\":{\"field\":\"y\"}},\"id\":\"2d5e8332-5092-45c6-a43a-4f87cf96c913\",\"type\":\"LabelSet\"},{\"attributes\":{\"plot\":{\"id\":\"04124fc4-c94e-405c-a291-f24727a4388c\",\"subtype\":\"Figure\",\"type\":\"Plot\"}},\"id\":\"89aaaa83-7e9d-48cd-93a5-36b6b0757b52\",\"type\":\"HelpTool\"},{\"attributes\":{\"overlay\":{\"id\":\"722b8a51-463e-4b91-bbf2-481e372d3879\",\"type\":\"BoxAnnotation\"},\"plot\":{\"id\":\"04124fc4-c94e-405c-a291-f24727a4388c\",\"subtype\":\"Figure\",\"type\":\"Plot\"}},\"id\":\"ac533411-56e6-4fa0-ae6c-c8b8f14f4114\",\"type\":\"BoxZoomTool\"},{\"attributes\":{\"level\":\"glyph\",\"plot\":{\"id\":\"04124fc4-c94e-405c-a291-f24727a4388c\",\"subtype\":\"Figure\",\"type\":\"Plot\"},\"source\":{\"id\":\"de2ee0d4-0731-4fee-8e1c-6e71cc2354d6\",\"type\":\"ColumnDataSource\"},\"text\":{\"field\":\"vals\"},\"text_align\":\"center\",\"text_baseline\":\"middle\",\"text_font_size\":{\"value\":\"8pt\"},\"x\":{\"field\":\"x\"},\"y\":{\"field\":\"y\"}},\"id\":\"7221093e-c03e-43a3-8311-8626a99c1555\",\"type\":\"LabelSet\"},{\"attributes\":{\"below\":[{\"id\":\"5e206292-5f67-4b10-b157-d6939450e8ee\",\"type\":\"LinearAxis\"}],\"left\":[{\"id\":\"6c66b7a7-580c-4a49-bce8-a8717598a9a5\",\"type\":\"LinearAxis\"}],\"plot_height\":400,\"plot_width\":900,\"renderers\":[{\"id\":\"5e206292-5f67-4b10-b157-d6939450e8ee\",\"type\":\"LinearAxis\"},{\"id\":\"8760f073-6441-4996-be5c-88f4ef743e05\",\"type\":\"Grid\"},{\"id\":\"6c66b7a7-580c-4a49-bce8-a8717598a9a5\",\"type\":\"LinearAxis\"},{\"id\":\"465e63ab-bf68-42c3-accc-73b481a0e190\",\"type\":\"Grid\"},{\"id\":\"722b8a51-463e-4b91-bbf2-481e372d3879\",\"type\":\"BoxAnnotation\"},{\"id\":\"3e60ff84-ea71-49fa-974e-2e9e30a848a7\",\"type\":\"GlyphRenderer\"},{\"id\":\"fef07d88-f82f-45ac-bdbe-e58ad777c709\",\"type\":\"GlyphRenderer\"},{\"id\":\"2d5e8332-5092-45c6-a43a-4f87cf96c913\",\"type\":\"LabelSet\"},{\"id\":\"5bc3706b-db53-4eb2-991e-c7c107294186\",\"type\":\"GlyphRenderer\"},{\"id\":\"7221093e-c03e-43a3-8311-8626a99c1555\",\"type\":\"LabelSet\"}],\"title\":{\"id\":\"a4de9a4a-0224-4783-afb2-cadff56a09b8\",\"type\":\"Title\"},\"tool_events\":{\"id\":\"7dec3682-ee98-4896-888b-81093e1d86e7\",\"type\":\"ToolEvents\"},\"toolbar\":{\"id\":\"36261744-f589-4331-ac41-8928b4377fc1\",\"type\":\"Toolbar\"},\"toolbar_location\":null,\"x_range\":{\"id\":\"947c7eac-58e1-4ef0-b0f6-a3c8f23cb722\",\"type\":\"Range1d\"},\"y_range\":{\"id\":\"4c02b727-c640-45b4-ad91-c351bb6cb0cf\",\"type\":\"Range1d\"}},\"id\":\"04124fc4-c94e-405c-a291-f24727a4388c\",\"subtype\":\"Figure\",\"type\":\"Plot\"},{\"attributes\":{},\"id\":\"570b4ecc-e435-4658-8f8d-8df25385808f\",\"type\":\"BasicTicker\"},{\"attributes\":{\"callback\":null,\"column_names\":[\"y\",\"x\",\"vals\"],\"data\":{\"vals\":[\"6_1503\",\"6_57\",\"4_1699\",\"26_1414\",\"10_2206\",\"39_1014\"],\"x\":[135771974,135889881,135915358,136398174,136501840,136556805],\"y\":[200.0,71.0,301.0,199.0,303.0,196.0]}},\"id\":\"2ade2751-5bde-445f-ab45-e19cae43508a\",\"type\":\"ColumnDataSource\"},{\"attributes\":{\"callback\":null,\"column_names\":[\"right\",\"bottom\",\"top\",\"left\",\"fill_color\"],\"data\":{\"bottom\":[150,50,250,150,250,150],\"fill_color\":[\"#61c461\",\"#00ff00\",\"#61c461\",\"#61c461\",\"#808080\",\"#808080\"],\"left\":[135771974,135889881,135915358,136398174,136501840,136556805],\"right\":[136140304,136382936,135995079,136474098,136555659,136747085],\"top\":[195,66,296,194,298,191]}},\"id\":\"d4a472f2-1267-4363-91b2-d77650925883\",\"type\":\"ColumnDataSource\"},{\"attributes\":{\"active_drag\":\"auto\",\"active_scroll\":\"auto\",\"active_tap\":\"auto\",\"tools\":[{\"id\":\"f54dc2e7-acbc-4b57-9e49-662efa232d81\",\"type\":\"PanTool\"},{\"id\":\"4e467d5c-24ac-4f6d-8c95-2c32b44a2000\",\"type\":\"WheelZoomTool\"},{\"id\":\"ac533411-56e6-4fa0-ae6c-c8b8f14f4114\",\"type\":\"BoxZoomTool\"},{\"id\":\"88c971b3-fe28-4bf4-bb46-d9b6efd51d7e\",\"type\":\"SaveTool\"},{\"id\":\"ce54f00e-57e0-4dbd-bddf-a3e4eb667fd6\",\"type\":\"ResetTool\"},{\"id\":\"89aaaa83-7e9d-48cd-93a5-36b6b0757b52\",\"type\":\"HelpTool\"}]},\"id\":\"36261744-f589-4331-ac41-8928b4377fc1\",\"type\":\"Toolbar\"},{\"attributes\":{\"plot\":{\"id\":\"04124fc4-c94e-405c-a291-f24727a4388c\",\"subtype\":\"Figure\",\"type\":\"Plot\"}},\"id\":\"88c971b3-fe28-4bf4-bb46-d9b6efd51d7e\",\"type\":\"SaveTool\"},{\"attributes\":{\"callback\":null,\"end\":400},\"id\":\"4c02b727-c640-45b4-ad91-c351bb6cb0cf\",\"type\":\"Range1d\"}],\"root_ids\":[\"04124fc4-c94e-405c-a291-f24727a4388c\"]},\"title\":\"Bokeh Application\",\"version\":\"0.12.0\"}};\n",
       "            var render_items = [{\"docid\":\"f8940701-f523-44c0-a9d1-74fc3c57dcc2\",\"elementid\":\"8991c2e4-8a7e-49f6-b7fa-8dfa8d169fef\",\"modelid\":\"04124fc4-c94e-405c-a291-f24727a4388c\",\"notebook_comms_target\":\"0fc73058-5337-49f2-86e2-20dcaf77f233\"}];\n",
       "            \n",
       "            Bokeh.embed.embed_items(docs_json, render_items);\n",
       "        });\n",
       "      },\n",
       "      function(Bokeh) {\n",
       "      }\n",
       "    ];\n",
       "  \n",
       "    function run_inline_js() {\n",
       "      for (var i = 0; i < inline_js.length; i++) {\n",
       "        inline_js[i](window.Bokeh);\n",
       "      }\n",
       "    }\n",
       "  \n",
       "    if (window._bokeh_is_loading === 0) {\n",
       "      console.log(\"Bokeh: BokehJS loaded, going straight to plotting\");\n",
       "      run_inline_js();\n",
       "    } else {\n",
       "      load_libs(js_urls, function() {\n",
       "        console.log(\"Bokeh: BokehJS plotting callback run at\", now());\n",
       "        run_inline_js();\n",
       "      });\n",
       "    }\n",
       "  }(this));\n",
       "</script>"
      ]
     },
     "metadata": {},
     "output_type": "display_data"
    },
    {
     "data": {
      "text/html": [
       "<p><code>&lt;Bokeh Notebook handle for <strong>In[16]</strong>&gt;</code></p>"
      ],
      "text/plain": [
       "<bokeh.io._CommsHandle at 0x7f165cc6fe50>"
      ]
     },
     "execution_count": 16,
     "metadata": {},
     "output_type": "execute_result"
    }
   ],
   "source": [
    "plt_obj = dm.superset_yes_no([dm.di_6_57, dm.di_39_1014, dm.di_26_1414], min_match=0.5)\n",
    "plt = plt_obj.do_plot()\n",
    "show(plt)"
   ]
  },
  {
   "cell_type": "code",
   "execution_count": 17,
   "metadata": {
    "collapsed": false
   },
   "outputs": [
    {
     "data": {
      "text/html": [
       "<table>\n",
       "<thead><tr><th style=\"text-align:center\">index</th><th style=\"text-align:center\">first</th><th style=\"text-align:center\">length</th><th style=\"text-align:center\">snps</th><th style=\"text-align:center\" colspan=2>alleles</th><th style=\"text-align:center\" colspan=2>matches</th><th style=\"text-align:center\" colspan=2>afr</th><th style=\"text-align:center\" colspan=2>afx</th><th style=\"text-align:center\" colspan=2>amr</th><th style=\"text-align:center\" colspan=2>eas</th><th style=\"text-align:center\" colspan=2>eur</th><th style=\"text-align:center\" colspan=2>sas</th><th style=\"text-align:center\" colspan=2>sax</th></tr></thead>\n",
       "<tr class=\"even\"><td style=\"text-align: right;\">353921</td><td style=\"text-align: right;\">136,501,840</td><td style=\"text-align: right;\">53,819</td><td style=\"text-align: right;\">10</td><td style=\"text-align: right;\">2206</td><td style=\"text-align: right;\">0.01</td><td style=\"text-align: right;\">25</td><td style=\"text-align: right;\">1.00</td><td style=\"text-align: right;\">0</td><td style=\"text-align: right;\">0.00</td><td style=\"text-align: right;\">0</td><td style=\"text-align: right;\">0.00</td><td style=\"text-align: right;\">8</td><td style=\"text-align: right;\">2.31</td><td style=\"text-align: right;\">0</td><td style=\"text-align: right;\">0.00</td><td style=\"text-align: right;\">14</td><td style=\"text-align: right;\">2.79</td><td style=\"text-align: right;\">2</td><td style=\"text-align: right;\">1.10</td><td style=\"text-align: right;\">1</td><td style=\"text-align: right;\">0.33</td></tr>\n",
       "<tr><td style=\"text-align: right;\">353462</td><td style=\"text-align: right;\">135,915,358</td><td style=\"text-align: right;\">79,721</td><td style=\"text-align: right;\">4</td><td style=\"text-align: right;\">1699</td><td style=\"text-align: right;\">0.01</td><td style=\"text-align: right;\">25</td><td style=\"text-align: right;\">1.00</td><td style=\"text-align: right;\">0</td><td style=\"text-align: right;\">0.00</td><td style=\"text-align: right;\">0</td><td style=\"text-align: right;\">0.00</td><td style=\"text-align: right;\">8</td><td style=\"text-align: right;\">2.31</td><td style=\"text-align: right;\">0</td><td style=\"text-align: right;\">0.00</td><td style=\"text-align: right;\">14</td><td style=\"text-align: right;\">2.79</td><td style=\"text-align: right;\">2</td><td style=\"text-align: right;\">1.10</td><td style=\"text-align: right;\">1</td><td style=\"text-align: right;\">0.33</td></tr>\n",
       "<tr class=\"even\"><td style=\"text-align: right;\">353283</td><td style=\"text-align: right;\">135,771,974</td><td style=\"text-align: right;\">368,330</td><td style=\"text-align: right;\">6</td><td style=\"text-align: right;\">1503</td><td style=\"text-align: right;\">0.02</td><td style=\"text-align: right;\">25</td><td style=\"text-align: right;\">1.00</td><td style=\"text-align: right;\">0</td><td style=\"text-align: right;\">0.00</td><td style=\"text-align: right;\">0</td><td style=\"text-align: right;\">0.00</td><td style=\"text-align: right;\">8</td><td style=\"text-align: right;\">2.31</td><td style=\"text-align: right;\">0</td><td style=\"text-align: right;\">0.00</td><td style=\"text-align: right;\">14</td><td style=\"text-align: right;\">2.79</td><td style=\"text-align: right;\">2</td><td style=\"text-align: right;\">1.10</td><td style=\"text-align: right;\">1</td><td style=\"text-align: right;\">0.33</td></tr>\n",
       "<tr><td style=\"text-align: right;\">353797</td><td style=\"text-align: right;\">136,398,174</td><td style=\"text-align: right;\">75,924</td><td style=\"text-align: right;\">26</td><td style=\"text-align: right;\">1414</td><td style=\"text-align: right;\">0.02</td><td style=\"text-align: right;\">25</td><td style=\"text-align: right;\">1.00</td><td style=\"text-align: right;\">0</td><td style=\"text-align: right;\">0.00</td><td style=\"text-align: right;\">0</td><td style=\"text-align: right;\">0.00</td><td style=\"text-align: right;\">8</td><td style=\"text-align: right;\">2.31</td><td style=\"text-align: right;\">0</td><td style=\"text-align: right;\">0.00</td><td style=\"text-align: right;\">14</td><td style=\"text-align: right;\">2.79</td><td style=\"text-align: right;\">2</td><td style=\"text-align: right;\">1.10</td><td style=\"text-align: right;\">1</td><td style=\"text-align: right;\">0.33</td></tr>\n",
       "<tr class=\"even\"><td style=\"text-align: right;\">353984</td><td style=\"text-align: right;\">136,556,805</td><td style=\"text-align: right;\">190,280</td><td style=\"text-align: right;\">39</td><td style=\"text-align: right;\">1014</td><td style=\"text-align: right;\">0.02</td><td style=\"text-align: right;\">25</td><td style=\"text-align: right;\">1.00</td><td style=\"text-align: right;\">0</td><td style=\"text-align: right;\">0.00</td><td style=\"text-align: right;\">0</td><td style=\"text-align: right;\">0.00</td><td style=\"text-align: right;\">8</td><td style=\"text-align: right;\">2.31</td><td style=\"text-align: right;\">0</td><td style=\"text-align: right;\">0.00</td><td style=\"text-align: right;\">14</td><td style=\"text-align: right;\">2.79</td><td style=\"text-align: right;\">2</td><td style=\"text-align: right;\">1.10</td><td style=\"text-align: right;\">1</td><td style=\"text-align: right;\">0.33</td></tr>\n",
       "<tr><td style=\"text-align: right;\">353444</td><td style=\"text-align: right;\">135,889,881</td><td style=\"text-align: right;\">493,055</td><td style=\"text-align: right;\">6</td><td style=\"text-align: right;\">57</td><td style=\"text-align: right;\">0.44</td><td style=\"text-align: right;\">25</td><td style=\"text-align: right;\">1.00</td><td style=\"text-align: right;\">0</td><td style=\"text-align: right;\">0.00</td><td style=\"text-align: right;\">0</td><td style=\"text-align: right;\">0.00</td><td style=\"text-align: right;\">8</td><td style=\"text-align: right;\">2.31</td><td style=\"text-align: right;\">0</td><td style=\"text-align: right;\">0.00</td><td style=\"text-align: right;\">14</td><td style=\"text-align: right;\">2.79</td><td style=\"text-align: right;\">2</td><td style=\"text-align: right;\">1.10</td><td style=\"text-align: right;\">1</td><td style=\"text-align: right;\">0.33</td></tr>\n",
       "</table>"
      ],
      "text/plain": [
       "<IPython.core.display.HTML object>"
      ]
     },
     "execution_count": 17,
     "metadata": {},
     "output_type": "execute_result"
    }
   ],
   "source": [
    "HTML(plt_obj.get_html())"
   ]
  },
  {
   "cell_type": "code",
   "execution_count": 18,
   "metadata": {
    "collapsed": false
   },
   "outputs": [
    {
     "data": {
      "text/html": [
       "\n",
       "\n",
       "    <div class=\"bk-root\">\n",
       "        <div class=\"plotdiv\" id=\"0279533f-ef55-463a-bd23-ed32bfdd429e\"></div>\n",
       "    </div>\n",
       "<script type=\"text/javascript\">\n",
       "  \n",
       "  (function(global) {\n",
       "    function now() {\n",
       "      return new Date();\n",
       "    }\n",
       "  \n",
       "    if (typeof (window._bokeh_onload_callbacks) === \"undefined\") {\n",
       "      window._bokeh_onload_callbacks = [];\n",
       "    }\n",
       "  \n",
       "    function run_callbacks() {\n",
       "      window._bokeh_onload_callbacks.forEach(function(callback) { callback() });\n",
       "      delete window._bokeh_onload_callbacks\n",
       "      console.info(\"Bokeh: all callbacks have finished\");\n",
       "    }\n",
       "  \n",
       "    function load_libs(js_urls, callback) {\n",
       "      window._bokeh_onload_callbacks.push(callback);\n",
       "      if (window._bokeh_is_loading > 0) {\n",
       "        console.log(\"Bokeh: BokehJS is being loaded, scheduling callback at\", now());\n",
       "        return null;\n",
       "      }\n",
       "      if (js_urls == null || js_urls.length === 0) {\n",
       "        run_callbacks();\n",
       "        return null;\n",
       "      }\n",
       "      console.log(\"Bokeh: BokehJS not loaded, scheduling load and callback at\", now());\n",
       "      window._bokeh_is_loading = js_urls.length;\n",
       "      for (var i = 0; i < js_urls.length; i++) {\n",
       "        var url = js_urls[i];\n",
       "        var s = document.createElement('script');\n",
       "        s.src = url;\n",
       "        s.async = false;\n",
       "        s.onreadystatechange = s.onload = function() {\n",
       "          window._bokeh_is_loading--;\n",
       "          if (window._bokeh_is_loading === 0) {\n",
       "            console.log(\"Bokeh: all BokehJS libraries loaded\");\n",
       "            run_callbacks()\n",
       "          }\n",
       "        };\n",
       "        s.onerror = function() {\n",
       "          console.warn(\"failed to load library \" + url);\n",
       "        };\n",
       "        console.log(\"Bokeh: injecting script tag for BokehJS library: \", url);\n",
       "        document.getElementsByTagName(\"head\")[0].appendChild(s);\n",
       "      }\n",
       "    };var element = document.getElementById(\"0279533f-ef55-463a-bd23-ed32bfdd429e\");\n",
       "    if (element == null) {\n",
       "      console.log(\"Bokeh: ERROR: autoload.js configured with elementid '0279533f-ef55-463a-bd23-ed32bfdd429e' but no matching script tag was found. \")\n",
       "      return false;\n",
       "    }\n",
       "  \n",
       "    var js_urls = [];\n",
       "  \n",
       "    var inline_js = [\n",
       "      function(Bokeh) {\n",
       "        Bokeh.$(function() {\n",
       "            var docs_json = {\"222824c1-fb7a-4d7a-9750-fb0fffc5f5b9\":{\"roots\":{\"references\":[{\"attributes\":{\"dimension\":1,\"plot\":{\"id\":\"8427f93a-268f-4b63-a3bb-89b156316fd3\",\"subtype\":\"Figure\",\"type\":\"Plot\"},\"ticker\":{\"id\":\"6e82628f-eab7-4e60-9767-773fb64418a3\",\"type\":\"BasicTicker\"}},\"id\":\"ec44f2b1-ff07-497b-8047-c2a9aaf1c19b\",\"type\":\"Grid\"},{\"attributes\":{\"callback\":null,\"column_names\":[\"xs\",\"ys\",\"line_color\"],\"data\":{\"line_color\":[\"black\",\"black\",\"black\",\"black\",\"black\",\"black\",\"black\",\"black\",\"black\",\"black\",\"black\",\"black\",\"black\",\"black\",\"black\",\"black\",\"black\",\"black\",\"black\",\"black\",\"black\",\"black\",\"black\",\"black\",\"black\",\"black\",\"black\",\"black\",\"black\",\"black\",\"black\",\"black\",\"black\",\"black\",\"black\",\"black\",\"black\",\"black\",\"black\",\"black\",\"black\",\"black\",\"black\",\"black\",\"black\",\"black\",\"black\",\"black\",\"black\",\"black\",\"black\",\"black\",\"black\",\"black\",\"black\",\"black\",\"black\",\"black\",\"black\",\"black\",\"black\",\"black\",\"black\",\"black\",\"black\",\"black\",\"black\",\"black\",\"black\",\"black\",\"black\",\"black\",\"black\",\"black\",\"black\",\"black\",\"black\",\"black\",\"black\",\"black\",\"black\",\"black\",\"black\",\"black\",\"black\",\"black\",\"black\",\"black\",\"black\",\"black\",\"black\",\"black\",\"black\",\"black\",\"black\",\"black\",\"black\",\"black\",\"black\",\"black\",\"black\",\"black\",\"black\",\"black\",\"black\",\"black\",\"black\",\"black\",\"black\",\"black\",\"black\",\"black\",\"black\",\"black\",\"black\",\"black\",\"black\",\"black\",\"black\",\"black\",\"black\",\"black\"],\"xs\":[[135771974,135771974],[135859371,135859371],[135877562,135877562],[136022798,136022798],[136058820,136058820],[136140304,136140304],[135889881,135889881],[135956309,135956309],[136088389,136088389],[136323321,136323321],[136361384,136361384],[136382936,136382936],[135915358,135915358],[135954405,135954405],[135995073,135995073],[135995079,135995079],[136393157,136393157],[136397433,136397433],[136402116,136402116],[136408291,136408291],[136421548,136421548],[136422784,136422784],[136427745,136427745],[136438950,136438950],[136439805,136439805],[136441410,136441410],[136403994,136403994],[136405878,136405878],[136409574,136409574],[136413225,136413225],[136418741,136418741],[136429088,136429088],[136432121,136432121],[136449305,136449305],[136451432,136451432],[136470978,136470978],[136472107,136472107],[136477100,136477100],[136485096,136485096],[136406646,136406646],[136408821,136408821],[136412472,136412472],[136416959,136416959],[136438078,136438078],[136447707,136447707],[136460324,136460324],[136472357,136472357],[136490266,136490266],[136496493,136496493],[136496639,136496639],[136496928,136496928],[136509573,136509573],[136511951,136511951],[136537057,136537057],[136546635,136546635],[136553438,136553438],[136553925,136553925],[136496805,136496805],[136496910,136496910],[136515859,136515859],[136515924,136515924],[136520186,136520186],[136524766,136524766],[136535364,136535364],[136536113,136536113],[136552629,136552629],[136500475,136500475],[136501509,136501509],[136504101,136504101],[136509868,136509868],[136520043,136520043],[136527120,136527120],[136530379,136530379],[136530443,136530443],[136539330,136539330],[136539670,136539670],[136540083,136540083],[136542559,136542559],[136542560,136542560],[136506375,136506375],[136506927,136506927],[136510012,136510012],[136538939,136538939],[136556805,136556805],[136560003,136560003],[136562472,136562472],[136563248,136563248],[136565328,136565328],[136570613,136570613],[136571982,136571982],[136574305,136574305],[136578040,136578040],[136578194,136578194],[136580398,136580398],[136586828,136586828],[136590558,136590558],[136592309,136592309],[136593541,136593541],[136593694,136593694],[136595426,136595426],[136615222,136615222],[136624919,136624919],[136626004,136626004],[136628380,136628380],[136636909,136636909],[136637350,136637350],[136637622,136637622],[136639487,136639487],[136646900,136646900],[136652093,136652093],[136652859,136652859],[136655620,136655620],[136667896,136667896],[136671801,136671801],[136677192,136677192],[136683293,136683293],[136704414,136704414],[136720344,136720344],[136731066,136731066],[136733897,136733897],[136743490,136743490],[136747085,136747085]],\"ys\":[[550,595],[550,595],[550,595],[550,595],[550,595],[550,595],[50,66],[50,66],[50,66],[50,66],[50,66],[50,66],[650,696],[650,696],[650,696],[650,696],[450,493],[450,493],[450,493],[450,493],[450,493],[450,493],[450,493],[450,493],[450,493],[450,493],[50,90],[50,90],[50,90],[50,90],[50,90],[50,90],[50,90],[50,90],[50,90],[50,90],[50,90],[50,90],[50,90],[550,595],[550,595],[550,595],[550,595],[550,595],[250,292],[250,292],[250,292],[250,292],[350,393],[350,393],[350,393],[350,393],[350,393],[350,393],[350,393],[350,393],[350,393],[150,191],[150,191],[150,191],[150,191],[150,191],[150,191],[150,191],[150,191],[150,191],[450,493],[450,493],[450,493],[450,493],[450,493],[450,493],[450,493],[450,493],[450,493],[450,493],[450,493],[450,493],[450,493],[550,594],[550,594],[550,594],[550,594],[150,191],[150,191],[150,191],[150,191],[150,191],[150,191],[150,191],[150,191],[150,191],[150,191],[150,191],[150,191],[150,191],[150,191],[150,191],[150,191],[150,191],[150,191],[150,191],[150,191],[150,191],[150,191],[150,191],[150,191],[150,191],[150,191],[150,191],[150,191],[150,191],[150,191],[150,191],[150,191],[150,191],[150,191],[150,191],[150,191],[150,191],[150,191],[150,191]]}},\"id\":\"a28bc156-bb89-4634-87e5-fc4bb5071a5e\",\"type\":\"ColumnDataSource\"},{\"attributes\":{\"callback\":null,\"column_names\":[\"y\",\"x\",\"vals\"],\"data\":{\"vals\":[\"RAB3GAP1\",\"ZRANB3\",\"R3HDM1\",\"UBXN4\",\"LCT\",\"MCM6\",\"DARS\"],\"x\":[135869057.0,136122878.0,136385961.0,136520911.0,136570082.5,136615621.5,136703738.0],\"y\":[760.0,760.0,760.0,760.0,760.0,760.0,760.0]}},\"id\":\"c52b083b-0d54-4a6a-ad0a-4eaf811cb611\",\"type\":\"ColumnDataSource\"},{\"attributes\":{\"plot\":{\"id\":\"8427f93a-268f-4b63-a3bb-89b156316fd3\",\"subtype\":\"Figure\",\"type\":\"Plot\"}},\"id\":\"9ba151a3-7fa5-4bb2-8344-e739258e0e03\",\"type\":\"HelpTool\"},{\"attributes\":{\"below\":[{\"id\":\"dbe38f54-57e1-4200-82d3-03ee2a6fbf86\",\"type\":\"LinearAxis\"}],\"left\":[{\"id\":\"625e52cb-2bb8-4f04-ba53-9b239bc831b2\",\"type\":\"LinearAxis\"}],\"plot_height\":800,\"plot_width\":900,\"renderers\":[{\"id\":\"dbe38f54-57e1-4200-82d3-03ee2a6fbf86\",\"type\":\"LinearAxis\"},{\"id\":\"63f5118e-23fb-49cc-900f-b016af88dbf9\",\"type\":\"Grid\"},{\"id\":\"625e52cb-2bb8-4f04-ba53-9b239bc831b2\",\"type\":\"LinearAxis\"},{\"id\":\"ec44f2b1-ff07-497b-8047-c2a9aaf1c19b\",\"type\":\"Grid\"},{\"id\":\"f90170dd-cc70-4d89-8f0d-7bcf76e84f96\",\"type\":\"BoxAnnotation\"},{\"id\":\"7f0ff73f-9cfb-433b-bd6f-2e4d2c86b455\",\"type\":\"GlyphRenderer\"},{\"id\":\"34214d4c-f2fc-40af-aa40-34454a286daa\",\"type\":\"GlyphRenderer\"},{\"id\":\"c8635fac-a9c6-4f5a-a06e-a0c53e9485af\",\"type\":\"LabelSet\"},{\"id\":\"60119541-84fc-4181-aeab-e9c33b99f777\",\"type\":\"GlyphRenderer\"},{\"id\":\"5e858f07-3f17-4fae-8f9d-ecc97fb47f16\",\"type\":\"LabelSet\"}],\"title\":{\"id\":\"7494bcac-b07c-4027-b7f2-f008ca97219a\",\"type\":\"Title\"},\"tool_events\":{\"id\":\"56d5e7d5-da07-41c6-bb81-461a1c913742\",\"type\":\"ToolEvents\"},\"toolbar\":{\"id\":\"7a69a1a3-e0f4-44e6-a1ec-e268a438aced\",\"type\":\"Toolbar\"},\"toolbar_location\":null,\"x_range\":{\"id\":\"72abc6fd-34a2-43a2-8388-a2355b4bf428\",\"type\":\"Range1d\"},\"y_range\":{\"id\":\"b4055122-9091-43ca-83fe-1f5479b92bf0\",\"type\":\"Range1d\"}},\"id\":\"8427f93a-268f-4b63-a3bb-89b156316fd3\",\"subtype\":\"Figure\",\"type\":\"Plot\"},{\"attributes\":{\"callback\":null,\"end\":136786630,\"start\":135757320},\"id\":\"72abc6fd-34a2-43a2-8388-a2355b4bf428\",\"type\":\"Range1d\"},{\"attributes\":{\"plot\":null,\"text\":null},\"id\":\"7494bcac-b07c-4027-b7f2-f008ca97219a\",\"type\":\"Title\"},{\"attributes\":{\"bottom\":{\"field\":\"bottom\"},\"fill_color\":{\"field\":\"fill_color\"},\"left\":{\"field\":\"left\"},\"line_color\":{\"value\":null},\"right\":{\"field\":\"right\"},\"top\":{\"field\":\"top\"}},\"id\":\"032f0291-63ee-46de-8396-6d029000b370\",\"type\":\"Quad\"},{\"attributes\":{\"data_source\":{\"id\":\"f933287a-fef1-4c9e-8bdf-41496e69e4dd\",\"type\":\"ColumnDataSource\"},\"glyph\":{\"id\":\"032f0291-63ee-46de-8396-6d029000b370\",\"type\":\"Quad\"},\"hover_glyph\":null,\"nonselection_glyph\":{\"id\":\"eab10c72-4bbe-4504-8596-cd425ec9ca08\",\"type\":\"Quad\"},\"selection_glyph\":null},\"id\":\"7f0ff73f-9cfb-433b-bd6f-2e4d2c86b455\",\"type\":\"GlyphRenderer\"},{\"attributes\":{\"overlay\":{\"id\":\"f90170dd-cc70-4d89-8f0d-7bcf76e84f96\",\"type\":\"BoxAnnotation\"},\"plot\":{\"id\":\"8427f93a-268f-4b63-a3bb-89b156316fd3\",\"subtype\":\"Figure\",\"type\":\"Plot\"}},\"id\":\"19ed4c55-d770-4150-b103-ecf7d71fbd8a\",\"type\":\"BoxZoomTool\"},{\"attributes\":{\"active_drag\":\"auto\",\"active_scroll\":\"auto\",\"active_tap\":\"auto\",\"tools\":[{\"id\":\"0d867c8d-ce21-4749-9bc1-9d64ed157302\",\"type\":\"PanTool\"},{\"id\":\"39dc7b01-66c1-4bc4-9480-da29595b9c78\",\"type\":\"WheelZoomTool\"},{\"id\":\"19ed4c55-d770-4150-b103-ecf7d71fbd8a\",\"type\":\"BoxZoomTool\"},{\"id\":\"bdf9d9ec-cda9-44f1-9e9c-f5710064d61a\",\"type\":\"SaveTool\"},{\"id\":\"f851c447-204a-4b59-8359-f05d0fdc4527\",\"type\":\"ResetTool\"},{\"id\":\"9ba151a3-7fa5-4bb2-8344-e739258e0e03\",\"type\":\"HelpTool\"}]},\"id\":\"7a69a1a3-e0f4-44e6-a1ec-e268a438aced\",\"type\":\"Toolbar\"},{\"attributes\":{\"plot\":{\"id\":\"8427f93a-268f-4b63-a3bb-89b156316fd3\",\"subtype\":\"Figure\",\"type\":\"Plot\"}},\"id\":\"39dc7b01-66c1-4bc4-9480-da29595b9c78\",\"type\":\"WheelZoomTool\"},{\"attributes\":{\"plot\":{\"id\":\"8427f93a-268f-4b63-a3bb-89b156316fd3\",\"subtype\":\"Figure\",\"type\":\"Plot\"}},\"id\":\"bdf9d9ec-cda9-44f1-9e9c-f5710064d61a\",\"type\":\"SaveTool\"},{\"attributes\":{\"plot\":{\"id\":\"8427f93a-268f-4b63-a3bb-89b156316fd3\",\"subtype\":\"Figure\",\"type\":\"Plot\"},\"ticker\":{\"id\":\"fa9af451-f375-4b5a-9cea-5e16e953e256\",\"type\":\"BasicTicker\"}},\"id\":\"63f5118e-23fb-49cc-900f-b016af88dbf9\",\"type\":\"Grid\"},{\"attributes\":{},\"id\":\"6e82628f-eab7-4e60-9767-773fb64418a3\",\"type\":\"BasicTicker\"},{\"attributes\":{\"level\":\"glyph\",\"plot\":{\"id\":\"8427f93a-268f-4b63-a3bb-89b156316fd3\",\"subtype\":\"Figure\",\"type\":\"Plot\"},\"source\":{\"id\":\"c52b083b-0d54-4a6a-ad0a-4eaf811cb611\",\"type\":\"ColumnDataSource\"},\"text\":{\"field\":\"vals\"},\"text_align\":\"center\",\"text_baseline\":\"middle\",\"text_font_size\":{\"value\":\"8pt\"},\"x\":{\"field\":\"x\"},\"y\":{\"field\":\"y\"}},\"id\":\"5e858f07-3f17-4fae-8f9d-ecc97fb47f16\",\"type\":\"LabelSet\"},{\"attributes\":{\"plot\":{\"id\":\"8427f93a-268f-4b63-a3bb-89b156316fd3\",\"subtype\":\"Figure\",\"type\":\"Plot\"}},\"id\":\"0d867c8d-ce21-4749-9bc1-9d64ed157302\",\"type\":\"PanTool\"},{\"attributes\":{},\"id\":\"56d5e7d5-da07-41c6-bb81-461a1c913742\",\"type\":\"ToolEvents\"},{\"attributes\":{\"callback\":null,\"column_names\":[\"right\",\"bottom\",\"top\",\"left\",\"fill_color\"],\"data\":{\"bottom\":[550,50,650,450,50,550,250,350,150,450,550,150],\"fill_color\":[\"#61c461\",\"#00ff00\",\"#61c461\",\"#808080\",\"#61c4c4\",\"#808080\",\"#61c4c4\",\"#808080\",\"#61c4c4\",\"#808080\",\"#808080\",\"#808080\"],\"left\":[135771974,135889881,135915358,136393157,136403994,136406646,136447707,136496493,136496805,136500475,136506375,136556805],\"right\":[136140304,136382936,135995079,136441410,136485096,136438078,136490266,136553925,136552629,136542560,136538939,136747085],\"top\":[595,66,696,493,90,595,292,393,191,493,594,191]}},\"id\":\"f933287a-fef1-4c9e-8bdf-41496e69e4dd\",\"type\":\"ColumnDataSource\"},{\"attributes\":{\"data_source\":{\"id\":\"e39da260-f32f-4677-aac7-39626ef36ea1\",\"type\":\"ColumnDataSource\"},\"glyph\":{\"id\":\"5001f174-7cfa-490c-a4c7-12cbbbcb0a63\",\"type\":\"Quad\"},\"hover_glyph\":null,\"nonselection_glyph\":{\"id\":\"748d188a-de02-4dcb-be4c-48d3e552bf9b\",\"type\":\"Quad\"},\"selection_glyph\":null},\"id\":\"60119541-84fc-4181-aeab-e9c33b99f777\",\"type\":\"GlyphRenderer\"},{\"attributes\":{\"callback\":null,\"column_names\":[\"right\",\"bottom\",\"top\",\"left\"],\"data\":{\"bottom\":[745,745,745,745,745,745,745],\"left\":[135809835,135957574,136289083,136499189,136545415,136597196,136664254],\"right\":[135928279,136288182,136482839,136542633,136594750,136634047,136743222],\"top\":[775,775,775,775,775,775,775]}},\"id\":\"e39da260-f32f-4677-aac7-39626ef36ea1\",\"type\":\"ColumnDataSource\"},{\"attributes\":{\"bottom\":{\"field\":\"bottom\"},\"fill_alpha\":{\"value\":0.1},\"fill_color\":{\"value\":\"#1f77b4\"},\"left\":{\"field\":\"left\"},\"line_alpha\":{\"value\":0.1},\"line_color\":{\"value\":\"#1f77b4\"},\"right\":{\"field\":\"right\"},\"top\":{\"field\":\"top\"}},\"id\":\"eab10c72-4bbe-4504-8596-cd425ec9ca08\",\"type\":\"Quad\"},{\"attributes\":{},\"id\":\"fa9af451-f375-4b5a-9cea-5e16e953e256\",\"type\":\"BasicTicker\"},{\"attributes\":{\"bottom\":{\"field\":\"bottom\"},\"fill_alpha\":{\"value\":0.1},\"fill_color\":{\"value\":\"#1f77b4\"},\"left\":{\"field\":\"left\"},\"line_alpha\":{\"value\":0.1},\"line_color\":{\"value\":\"#1f77b4\"},\"right\":{\"field\":\"right\"},\"top\":{\"field\":\"top\"}},\"id\":\"748d188a-de02-4dcb-be4c-48d3e552bf9b\",\"type\":\"Quad\"},{\"attributes\":{\"callback\":null,\"end\":800},\"id\":\"b4055122-9091-43ca-83fe-1f5479b92bf0\",\"type\":\"Range1d\"},{\"attributes\":{\"line_color\":{\"field\":\"line_color\"},\"xs\":{\"field\":\"xs\"},\"ys\":{\"field\":\"ys\"}},\"id\":\"b081cb5a-a178-4faf-84ac-3f10f641fc4d\",\"type\":\"MultiLine\"},{\"attributes\":{\"bottom_units\":\"screen\",\"fill_alpha\":{\"value\":0.5},\"fill_color\":{\"value\":\"lightgrey\"},\"left_units\":\"screen\",\"level\":\"overlay\",\"line_alpha\":{\"value\":1.0},\"line_color\":{\"value\":\"black\"},\"line_dash\":[4,4],\"line_width\":{\"value\":2},\"plot\":null,\"render_mode\":\"css\",\"right_units\":\"screen\",\"top_units\":\"screen\"},\"id\":\"f90170dd-cc70-4d89-8f0d-7bcf76e84f96\",\"type\":\"BoxAnnotation\"},{\"attributes\":{\"bottom\":{\"field\":\"bottom\"},\"fill_color\":{\"value\":\"white\"},\"left\":{\"field\":\"left\"},\"right\":{\"field\":\"right\"},\"top\":{\"field\":\"top\"}},\"id\":\"5001f174-7cfa-490c-a4c7-12cbbbcb0a63\",\"type\":\"Quad\"},{\"attributes\":{\"plot\":{\"id\":\"8427f93a-268f-4b63-a3bb-89b156316fd3\",\"subtype\":\"Figure\",\"type\":\"Plot\"}},\"id\":\"f851c447-204a-4b59-8359-f05d0fdc4527\",\"type\":\"ResetTool\"},{\"attributes\":{\"data_source\":{\"id\":\"a28bc156-bb89-4634-87e5-fc4bb5071a5e\",\"type\":\"ColumnDataSource\"},\"glyph\":{\"id\":\"b081cb5a-a178-4faf-84ac-3f10f641fc4d\",\"type\":\"MultiLine\"},\"hover_glyph\":null,\"nonselection_glyph\":{\"id\":\"d938a590-a875-4ffe-a0aa-0eb74a2866b9\",\"type\":\"MultiLine\"},\"selection_glyph\":null},\"id\":\"34214d4c-f2fc-40af-aa40-34454a286daa\",\"type\":\"GlyphRenderer\"},{\"attributes\":{\"formatter\":{\"id\":\"b90eece4-12c1-4dd7-994e-19f3f616659f\",\"type\":\"BasicTickFormatter\"},\"plot\":{\"id\":\"8427f93a-268f-4b63-a3bb-89b156316fd3\",\"subtype\":\"Figure\",\"type\":\"Plot\"},\"ticker\":{\"id\":\"6e82628f-eab7-4e60-9767-773fb64418a3\",\"type\":\"BasicTicker\"},\"visible\":null},\"id\":\"625e52cb-2bb8-4f04-ba53-9b239bc831b2\",\"type\":\"LinearAxis\"},{\"attributes\":{},\"id\":\"7587396b-1191-4ce5-8d17-935419eb3533\",\"type\":\"BasicTickFormatter\"},{\"attributes\":{\"level\":\"glyph\",\"plot\":{\"id\":\"8427f93a-268f-4b63-a3bb-89b156316fd3\",\"subtype\":\"Figure\",\"type\":\"Plot\"},\"source\":{\"id\":\"6e6db16d-9339-44a5-b6a7-dbc51c20f773\",\"type\":\"ColumnDataSource\"},\"text\":{\"field\":\"vals\"},\"text_font_size\":{\"value\":\"9pt\"},\"text_font_style\":\"bold\",\"x\":{\"field\":\"x\"},\"y\":{\"field\":\"y\"}},\"id\":\"c8635fac-a9c6-4f5a-a06e-a0c53e9485af\",\"type\":\"LabelSet\"},{\"attributes\":{\"callback\":null,\"column_names\":[\"y\",\"x\",\"vals\"],\"data\":{\"vals\":[\"6_1503\",\"6_57\",\"4_1699\",\"10_1218\",\"13_911\",\"5_1460\",\"4_1149\",\"9_1170\",\"9_1023\",\"13_1227\",\"4_1442\",\"39_1014\"],\"x\":[135771974,135889881,135915358,136393157,136403994,136406646,136447707,136496493,136496805,136500475,136506375,136556805],\"y\":[600.0,71.0,701.0,498.0,95.0,600.0,297.0,398.0,196.0,498.0,599.0,196.0]}},\"id\":\"6e6db16d-9339-44a5-b6a7-dbc51c20f773\",\"type\":\"ColumnDataSource\"},{\"attributes\":{\"line_alpha\":{\"value\":0.1},\"line_color\":{\"value\":\"#1f77b4\"},\"xs\":{\"field\":\"xs\"},\"ys\":{\"field\":\"ys\"}},\"id\":\"d938a590-a875-4ffe-a0aa-0eb74a2866b9\",\"type\":\"MultiLine\"},{\"attributes\":{},\"id\":\"b90eece4-12c1-4dd7-994e-19f3f616659f\",\"type\":\"BasicTickFormatter\"},{\"attributes\":{\"formatter\":{\"id\":\"7587396b-1191-4ce5-8d17-935419eb3533\",\"type\":\"BasicTickFormatter\"},\"plot\":{\"id\":\"8427f93a-268f-4b63-a3bb-89b156316fd3\",\"subtype\":\"Figure\",\"type\":\"Plot\"},\"ticker\":{\"id\":\"fa9af451-f375-4b5a-9cea-5e16e953e256\",\"type\":\"BasicTicker\"}},\"id\":\"dbe38f54-57e1-4200-82d3-03ee2a6fbf86\",\"type\":\"LinearAxis\"}],\"root_ids\":[\"8427f93a-268f-4b63-a3bb-89b156316fd3\"]},\"title\":\"Bokeh Application\",\"version\":\"0.12.0\"}};\n",
       "            var render_items = [{\"docid\":\"222824c1-fb7a-4d7a-9750-fb0fffc5f5b9\",\"elementid\":\"0279533f-ef55-463a-bd23-ed32bfdd429e\",\"modelid\":\"8427f93a-268f-4b63-a3bb-89b156316fd3\",\"notebook_comms_target\":\"2af7cc62-c8e3-4408-a186-103be7dd3810\"}];\n",
       "            \n",
       "            Bokeh.embed.embed_items(docs_json, render_items);\n",
       "        });\n",
       "      },\n",
       "      function(Bokeh) {\n",
       "      }\n",
       "    ];\n",
       "  \n",
       "    function run_inline_js() {\n",
       "      for (var i = 0; i < inline_js.length; i++) {\n",
       "        inline_js[i](window.Bokeh);\n",
       "      }\n",
       "    }\n",
       "  \n",
       "    if (window._bokeh_is_loading === 0) {\n",
       "      console.log(\"Bokeh: BokehJS loaded, going straight to plotting\");\n",
       "      run_inline_js();\n",
       "    } else {\n",
       "      load_libs(js_urls, function() {\n",
       "        console.log(\"Bokeh: BokehJS plotting callback run at\", now());\n",
       "        run_inline_js();\n",
       "      });\n",
       "    }\n",
       "  }(this));\n",
       "</script>"
      ]
     },
     "metadata": {},
     "output_type": "display_data"
    },
    {
     "data": {
      "text/html": [
       "<p><code>&lt;Bokeh Notebook handle for <strong>In[18]</strong>&gt;</code></p>"
      ],
      "text/plain": [
       "<bokeh.io._CommsHandle at 0x7f165cc3c350>"
      ]
     },
     "execution_count": 18,
     "metadata": {},
     "output_type": "execute_result"
    }
   ],
   "source": [
    "plt_obj = dm.superset_yes_no([dm.di_6_57, dm.di_39_1014], [dm.di_26_1414], min_match=0.5)\n",
    "plt = plt_obj.do_plot()\n",
    "show(plt)"
   ]
  },
  {
   "cell_type": "code",
   "execution_count": 19,
   "metadata": {
    "collapsed": false
   },
   "outputs": [
    {
     "data": {
      "text/html": [
       "<table>\n",
       "<thead><tr><th style=\"text-align:center\">index</th><th style=\"text-align:center\">first</th><th style=\"text-align:center\">length</th><th style=\"text-align:center\">snps</th><th style=\"text-align:center\" colspan=2>alleles</th><th style=\"text-align:center\" colspan=2>matches</th><th style=\"text-align:center\" colspan=2>afr</th><th style=\"text-align:center\" colspan=2>afx</th><th style=\"text-align:center\" colspan=2>amr</th><th style=\"text-align:center\" colspan=2>eas</th><th style=\"text-align:center\" colspan=2>eur</th><th style=\"text-align:center\" colspan=2>sas</th><th style=\"text-align:center\" colspan=2>sax</th></tr></thead>\n",
       "<tr class=\"even\"><td style=\"text-align: right;\">353462</td><td style=\"text-align: right;\">135,915,358</td><td style=\"text-align: right;\">79,721</td><td style=\"text-align: right;\">4</td><td style=\"text-align: right;\">1699</td><td style=\"text-align: right;\">0.00</td><td style=\"text-align: right;\">3</td><td style=\"text-align: right;\">1.00</td><td style=\"text-align: right;\">0</td><td style=\"text-align: right;\">0.00</td><td style=\"text-align: right;\">0</td><td style=\"text-align: right;\">0.00</td><td style=\"text-align: right;\">3</td><td style=\"text-align: right;\">8.85</td><td style=\"text-align: right;\">0</td><td style=\"text-align: right;\">0.00</td><td style=\"text-align: right;\">0</td><td style=\"text-align: right;\">0.00</td><td style=\"text-align: right;\">0</td><td style=\"text-align: right;\">0.00</td><td style=\"text-align: right;\">0</td><td style=\"text-align: right;\">0.00</td></tr>\n",
       "<tr><td style=\"text-align: right;\">353283</td><td style=\"text-align: right;\">135,771,974</td><td style=\"text-align: right;\">368,330</td><td style=\"text-align: right;\">6</td><td style=\"text-align: right;\">1503</td><td style=\"text-align: right;\">0.00</td><td style=\"text-align: right;\">3</td><td style=\"text-align: right;\">1.00</td><td style=\"text-align: right;\">0</td><td style=\"text-align: right;\">0.00</td><td style=\"text-align: right;\">0</td><td style=\"text-align: right;\">0.00</td><td style=\"text-align: right;\">3</td><td style=\"text-align: right;\">8.85</td><td style=\"text-align: right;\">0</td><td style=\"text-align: right;\">0.00</td><td style=\"text-align: right;\">0</td><td style=\"text-align: right;\">0.00</td><td style=\"text-align: right;\">0</td><td style=\"text-align: right;\">0.00</td><td style=\"text-align: right;\">0</td><td style=\"text-align: right;\">0.00</td></tr>\n",
       "<tr class=\"even\"><td style=\"text-align: right;\">353814</td><td style=\"text-align: right;\">136,406,646</td><td style=\"text-align: right;\">31,432</td><td style=\"text-align: right;\">5</td><td style=\"text-align: right;\">1460</td><td style=\"text-align: right;\">0.00</td><td style=\"text-align: right;\">3</td><td style=\"text-align: right;\">1.00</td><td style=\"text-align: right;\">0</td><td style=\"text-align: right;\">0.00</td><td style=\"text-align: right;\">0</td><td style=\"text-align: right;\">0.00</td><td style=\"text-align: right;\">3</td><td style=\"text-align: right;\">8.85</td><td style=\"text-align: right;\">0</td><td style=\"text-align: right;\">0.00</td><td style=\"text-align: right;\">0</td><td style=\"text-align: right;\">0.00</td><td style=\"text-align: right;\">0</td><td style=\"text-align: right;\">0.00</td><td style=\"text-align: right;\">0</td><td style=\"text-align: right;\">0.00</td></tr>\n",
       "<tr><td style=\"text-align: right;\">353925</td><td style=\"text-align: right;\">136,506,375</td><td style=\"text-align: right;\">32,564</td><td style=\"text-align: right;\">4</td><td style=\"text-align: right;\">1442</td><td style=\"text-align: right;\">0.00</td><td style=\"text-align: right;\">3</td><td style=\"text-align: right;\">1.00</td><td style=\"text-align: right;\">0</td><td style=\"text-align: right;\">0.00</td><td style=\"text-align: right;\">0</td><td style=\"text-align: right;\">0.00</td><td style=\"text-align: right;\">3</td><td style=\"text-align: right;\">8.85</td><td style=\"text-align: right;\">0</td><td style=\"text-align: right;\">0.00</td><td style=\"text-align: right;\">0</td><td style=\"text-align: right;\">0.00</td><td style=\"text-align: right;\">0</td><td style=\"text-align: right;\">0.00</td><td style=\"text-align: right;\">0</td><td style=\"text-align: right;\">0.00</td></tr>\n",
       "<tr class=\"even\"><td style=\"text-align: right;\">353919</td><td style=\"text-align: right;\">136,500,475</td><td style=\"text-align: right;\">42,085</td><td style=\"text-align: right;\">13</td><td style=\"text-align: right;\">1227</td><td style=\"text-align: right;\">0.00</td><td style=\"text-align: right;\">3</td><td style=\"text-align: right;\">1.00</td><td style=\"text-align: right;\">0</td><td style=\"text-align: right;\">0.00</td><td style=\"text-align: right;\">0</td><td style=\"text-align: right;\">0.00</td><td style=\"text-align: right;\">3</td><td style=\"text-align: right;\">8.85</td><td style=\"text-align: right;\">0</td><td style=\"text-align: right;\">0.00</td><td style=\"text-align: right;\">0</td><td style=\"text-align: right;\">0.00</td><td style=\"text-align: right;\">0</td><td style=\"text-align: right;\">0.00</td><td style=\"text-align: right;\">0</td><td style=\"text-align: right;\">0.00</td></tr>\n",
       "<tr><td style=\"text-align: right;\">353790</td><td style=\"text-align: right;\">136,393,157</td><td style=\"text-align: right;\">48,253</td><td style=\"text-align: right;\">10</td><td style=\"text-align: right;\">1218</td><td style=\"text-align: right;\">0.00</td><td style=\"text-align: right;\">3</td><td style=\"text-align: right;\">1.00</td><td style=\"text-align: right;\">0</td><td style=\"text-align: right;\">0.00</td><td style=\"text-align: right;\">0</td><td style=\"text-align: right;\">0.00</td><td style=\"text-align: right;\">3</td><td style=\"text-align: right;\">8.85</td><td style=\"text-align: right;\">0</td><td style=\"text-align: right;\">0.00</td><td style=\"text-align: right;\">0</td><td style=\"text-align: right;\">0.00</td><td style=\"text-align: right;\">0</td><td style=\"text-align: right;\">0.00</td><td style=\"text-align: right;\">0</td><td style=\"text-align: right;\">0.00</td></tr>\n",
       "<tr class=\"even\"><td style=\"text-align: right;\">353906</td><td style=\"text-align: right;\">136,496,493</td><td style=\"text-align: right;\">57,432</td><td style=\"text-align: right;\">9</td><td style=\"text-align: right;\">1170</td><td style=\"text-align: right;\">0.00</td><td style=\"text-align: right;\">3</td><td style=\"text-align: right;\">1.00</td><td style=\"text-align: right;\">0</td><td style=\"text-align: right;\">0.00</td><td style=\"text-align: right;\">0</td><td style=\"text-align: right;\">0.00</td><td style=\"text-align: right;\">3</td><td style=\"text-align: right;\">8.85</td><td style=\"text-align: right;\">0</td><td style=\"text-align: right;\">0.00</td><td style=\"text-align: right;\">0</td><td style=\"text-align: right;\">0.00</td><td style=\"text-align: right;\">0</td><td style=\"text-align: right;\">0.00</td><td style=\"text-align: right;\">0</td><td style=\"text-align: right;\">0.00</td></tr>\n",
       "<tr><td style=\"text-align: right;\">353849</td><td style=\"text-align: right;\">136,447,707</td><td style=\"text-align: right;\">42,559</td><td style=\"text-align: right;\">4</td><td style=\"text-align: right;\">1149</td><td style=\"text-align: right;\">0.00</td><td style=\"text-align: right;\">3</td><td style=\"text-align: right;\">1.00</td><td style=\"text-align: right;\">0</td><td style=\"text-align: right;\">0.00</td><td style=\"text-align: right;\">0</td><td style=\"text-align: right;\">0.00</td><td style=\"text-align: right;\">3</td><td style=\"text-align: right;\">8.85</td><td style=\"text-align: right;\">0</td><td style=\"text-align: right;\">0.00</td><td style=\"text-align: right;\">0</td><td style=\"text-align: right;\">0.00</td><td style=\"text-align: right;\">0</td><td style=\"text-align: right;\">0.00</td><td style=\"text-align: right;\">0</td><td style=\"text-align: right;\">0.00</td></tr>\n",
       "<tr class=\"even\"><td style=\"text-align: right;\">353907</td><td style=\"text-align: right;\">136,496,805</td><td style=\"text-align: right;\">55,824</td><td style=\"text-align: right;\">9</td><td style=\"text-align: right;\">1023</td><td style=\"text-align: right;\">0.00</td><td style=\"text-align: right;\">3</td><td style=\"text-align: right;\">1.00</td><td style=\"text-align: right;\">0</td><td style=\"text-align: right;\">0.00</td><td style=\"text-align: right;\">0</td><td style=\"text-align: right;\">0.00</td><td style=\"text-align: right;\">3</td><td style=\"text-align: right;\">8.85</td><td style=\"text-align: right;\">0</td><td style=\"text-align: right;\">0.00</td><td style=\"text-align: right;\">0</td><td style=\"text-align: right;\">0.00</td><td style=\"text-align: right;\">0</td><td style=\"text-align: right;\">0.00</td><td style=\"text-align: right;\">0</td><td style=\"text-align: right;\">0.00</td></tr>\n",
       "<tr><td style=\"text-align: right;\">353984</td><td style=\"text-align: right;\">136,556,805</td><td style=\"text-align: right;\">190,280</td><td style=\"text-align: right;\">39</td><td style=\"text-align: right;\">1014</td><td style=\"text-align: right;\">0.00</td><td style=\"text-align: right;\">3</td><td style=\"text-align: right;\">1.00</td><td style=\"text-align: right;\">0</td><td style=\"text-align: right;\">0.00</td><td style=\"text-align: right;\">0</td><td style=\"text-align: right;\">0.00</td><td style=\"text-align: right;\">3</td><td style=\"text-align: right;\">8.85</td><td style=\"text-align: right;\">0</td><td style=\"text-align: right;\">0.00</td><td style=\"text-align: right;\">0</td><td style=\"text-align: right;\">0.00</td><td style=\"text-align: right;\">0</td><td style=\"text-align: right;\">0.00</td><td style=\"text-align: right;\">0</td><td style=\"text-align: right;\">0.00</td></tr>\n",
       "<tr class=\"even\"><td style=\"text-align: right;\">353807</td><td style=\"text-align: right;\">136,403,994</td><td style=\"text-align: right;\">81,102</td><td style=\"text-align: right;\">13</td><td style=\"text-align: right;\">911</td><td style=\"text-align: right;\">0.00</td><td style=\"text-align: right;\">3</td><td style=\"text-align: right;\">1.00</td><td style=\"text-align: right;\">0</td><td style=\"text-align: right;\">0.00</td><td style=\"text-align: right;\">0</td><td style=\"text-align: right;\">0.00</td><td style=\"text-align: right;\">3</td><td style=\"text-align: right;\">8.85</td><td style=\"text-align: right;\">0</td><td style=\"text-align: right;\">0.00</td><td style=\"text-align: right;\">0</td><td style=\"text-align: right;\">0.00</td><td style=\"text-align: right;\">0</td><td style=\"text-align: right;\">0.00</td><td style=\"text-align: right;\">0</td><td style=\"text-align: right;\">0.00</td></tr>\n",
       "<tr><td style=\"text-align: right;\">353444</td><td style=\"text-align: right;\">135,889,881</td><td style=\"text-align: right;\">493,055</td><td style=\"text-align: right;\">6</td><td style=\"text-align: right;\">57</td><td style=\"text-align: right;\">0.05</td><td style=\"text-align: right;\">3</td><td style=\"text-align: right;\">1.00</td><td style=\"text-align: right;\">0</td><td style=\"text-align: right;\">0.00</td><td style=\"text-align: right;\">0</td><td style=\"text-align: right;\">0.00</td><td style=\"text-align: right;\">3</td><td style=\"text-align: right;\">8.85</td><td style=\"text-align: right;\">0</td><td style=\"text-align: right;\">0.00</td><td style=\"text-align: right;\">0</td><td style=\"text-align: right;\">0.00</td><td style=\"text-align: right;\">0</td><td style=\"text-align: right;\">0.00</td><td style=\"text-align: right;\">0</td><td style=\"text-align: right;\">0.00</td></tr>\n",
       "</table>"
      ],
      "text/plain": [
       "<IPython.core.display.HTML object>"
      ]
     },
     "execution_count": 19,
     "metadata": {},
     "output_type": "execute_result"
    }
   ],
   "source": [
    "HTML(plt_obj.get_html())"
   ]
  },
  {
   "cell_type": "markdown",
   "metadata": {},
   "source": [
    "<div style=\"width:700px\">\n",
    "<p>\n",
    "This plot shows the series most commonly expressed by samples\n",
    "that express the series 6_35.\n",
    "</div>"
   ]
  },
  {
   "cell_type": "code",
   "execution_count": 20,
   "metadata": {
    "collapsed": false
   },
   "outputs": [
    {
     "data": {
      "text/html": [
       "\n",
       "\n",
       "    <div class=\"bk-root\">\n",
       "        <div class=\"plotdiv\" id=\"ba512541-21aa-4c1a-b89a-4c3c0f205bf8\"></div>\n",
       "    </div>\n",
       "<script type=\"text/javascript\">\n",
       "  \n",
       "  (function(global) {\n",
       "    function now() {\n",
       "      return new Date();\n",
       "    }\n",
       "  \n",
       "    if (typeof (window._bokeh_onload_callbacks) === \"undefined\") {\n",
       "      window._bokeh_onload_callbacks = [];\n",
       "    }\n",
       "  \n",
       "    function run_callbacks() {\n",
       "      window._bokeh_onload_callbacks.forEach(function(callback) { callback() });\n",
       "      delete window._bokeh_onload_callbacks\n",
       "      console.info(\"Bokeh: all callbacks have finished\");\n",
       "    }\n",
       "  \n",
       "    function load_libs(js_urls, callback) {\n",
       "      window._bokeh_onload_callbacks.push(callback);\n",
       "      if (window._bokeh_is_loading > 0) {\n",
       "        console.log(\"Bokeh: BokehJS is being loaded, scheduling callback at\", now());\n",
       "        return null;\n",
       "      }\n",
       "      if (js_urls == null || js_urls.length === 0) {\n",
       "        run_callbacks();\n",
       "        return null;\n",
       "      }\n",
       "      console.log(\"Bokeh: BokehJS not loaded, scheduling load and callback at\", now());\n",
       "      window._bokeh_is_loading = js_urls.length;\n",
       "      for (var i = 0; i < js_urls.length; i++) {\n",
       "        var url = js_urls[i];\n",
       "        var s = document.createElement('script');\n",
       "        s.src = url;\n",
       "        s.async = false;\n",
       "        s.onreadystatechange = s.onload = function() {\n",
       "          window._bokeh_is_loading--;\n",
       "          if (window._bokeh_is_loading === 0) {\n",
       "            console.log(\"Bokeh: all BokehJS libraries loaded\");\n",
       "            run_callbacks()\n",
       "          }\n",
       "        };\n",
       "        s.onerror = function() {\n",
       "          console.warn(\"failed to load library \" + url);\n",
       "        };\n",
       "        console.log(\"Bokeh: injecting script tag for BokehJS library: \", url);\n",
       "        document.getElementsByTagName(\"head\")[0].appendChild(s);\n",
       "      }\n",
       "    };var element = document.getElementById(\"ba512541-21aa-4c1a-b89a-4c3c0f205bf8\");\n",
       "    if (element == null) {\n",
       "      console.log(\"Bokeh: ERROR: autoload.js configured with elementid 'ba512541-21aa-4c1a-b89a-4c3c0f205bf8' but no matching script tag was found. \")\n",
       "      return false;\n",
       "    }\n",
       "  \n",
       "    var js_urls = [];\n",
       "  \n",
       "    var inline_js = [\n",
       "      function(Bokeh) {\n",
       "        Bokeh.$(function() {\n",
       "            var docs_json = {\"6744c35f-3d72-4486-a78c-b302120ff1e8\":{\"roots\":{\"references\":[{\"attributes\":{\"bottom\":{\"field\":\"bottom\"},\"fill_alpha\":{\"value\":0.1},\"fill_color\":{\"value\":\"#1f77b4\"},\"left\":{\"field\":\"left\"},\"line_alpha\":{\"value\":0.1},\"line_color\":{\"value\":\"#1f77b4\"},\"right\":{\"field\":\"right\"},\"top\":{\"field\":\"top\"}},\"id\":\"6ca7bfed-1d75-4c63-9925-49c18cc15869\",\"type\":\"Quad\"},{\"attributes\":{},\"id\":\"1c2da61f-5a28-46c2-9c84-e16fa8fd35bd\",\"type\":\"BasicTickFormatter\"},{\"attributes\":{\"plot\":{\"id\":\"cd2955a5-0bfa-43e9-a9a8-aec2e58e3349\",\"subtype\":\"Figure\",\"type\":\"Plot\"},\"ticker\":{\"id\":\"93a88d53-b55b-45dc-9d36-7995a8f5028b\",\"type\":\"BasicTicker\"}},\"id\":\"2e7a7c50-1d7a-43fa-9d6c-2e4bc54fae61\",\"type\":\"Grid\"},{\"attributes\":{},\"id\":\"c4cc93f2-f132-486c-a5bd-80e1559f948e\",\"type\":\"BasicTickFormatter\"},{\"attributes\":{\"bottom_units\":\"screen\",\"fill_alpha\":{\"value\":0.5},\"fill_color\":{\"value\":\"lightgrey\"},\"left_units\":\"screen\",\"level\":\"overlay\",\"line_alpha\":{\"value\":1.0},\"line_color\":{\"value\":\"black\"},\"line_dash\":[4,4],\"line_width\":{\"value\":2},\"plot\":null,\"render_mode\":\"css\",\"right_units\":\"screen\",\"top_units\":\"screen\"},\"id\":\"360a4bb4-093d-4dc7-be47-7da7dc313b9e\",\"type\":\"BoxAnnotation\"},{\"attributes\":{},\"id\":\"93a88d53-b55b-45dc-9d36-7995a8f5028b\",\"type\":\"BasicTicker\"},{\"attributes\":{\"plot\":{\"id\":\"cd2955a5-0bfa-43e9-a9a8-aec2e58e3349\",\"subtype\":\"Figure\",\"type\":\"Plot\"}},\"id\":\"9af54179-0b04-49be-a211-2fd01012b44c\",\"type\":\"PanTool\"},{\"attributes\":{\"data_source\":{\"id\":\"35e6bd42-1ec2-4011-8df4-bc4b62368b7c\",\"type\":\"ColumnDataSource\"},\"glyph\":{\"id\":\"bf5be5d5-f8f3-46d2-956c-6af13e417dfe\",\"type\":\"MultiLine\"},\"hover_glyph\":null,\"nonselection_glyph\":{\"id\":\"54287011-1f3c-4e30-9932-47abca853a50\",\"type\":\"MultiLine\"},\"selection_glyph\":null},\"id\":\"e2553684-7bcf-40f2-98e0-adecf402055f\",\"type\":\"GlyphRenderer\"},{\"attributes\":{\"callback\":null,\"column_names\":[\"xs\",\"ys\",\"line_color\"],\"data\":{\"line_color\":[\"black\",\"black\",\"black\",\"black\",\"black\",\"black\",\"black\",\"black\",\"black\",\"black\",\"black\",\"black\",\"black\",\"black\",\"black\",\"black\",\"black\",\"black\",\"black\",\"black\",\"black\",\"black\",\"black\",\"black\",\"black\",\"black\",\"black\",\"black\",\"black\",\"black\",\"black\",\"black\",\"black\",\"black\",\"black\",\"black\",\"black\",\"black\",\"black\",\"black\",\"black\",\"black\",\"black\",\"black\",\"black\",\"black\",\"black\",\"black\",\"black\",\"black\",\"black\",\"black\",\"black\",\"black\",\"black\",\"black\",\"black\",\"black\",\"black\",\"black\",\"black\",\"black\",\"black\",\"black\",\"black\",\"black\",\"black\",\"black\",\"black\",\"black\",\"black\",\"black\",\"black\",\"black\",\"black\",\"black\",\"black\",\"black\",\"black\",\"black\",\"black\",\"black\",\"black\",\"black\",\"black\",\"black\",\"black\",\"black\",\"black\",\"black\",\"black\",\"black\",\"black\",\"black\",\"black\",\"black\",\"black\",\"black\",\"black\",\"black\",\"black\",\"black\",\"black\",\"black\",\"black\",\"black\",\"black\",\"black\",\"black\",\"black\",\"black\",\"black\",\"black\",\"black\",\"black\",\"black\",\"black\",\"black\",\"black\",\"black\",\"black\",\"black\",\"black\"],\"xs\":[[135771974,135771974],[135859371,135859371],[135877562,135877562],[136022798,136022798],[136058820,136058820],[136140304,136140304],[135859157,135859157],[135873466,135873466],[135925411,135925411],[135954198,135954198],[135973399,135973399],[135980938,135980938],[135915358,135915358],[135954405,135954405],[135995073,135995073],[135995079,135995079],[136398174,136398174],[136402117,136402117],[136403749,136403749],[136409073,136409073],[136410299,136410299],[136413359,136413359],[136416855,136416855],[136416941,136416941],[136418348,136418348],[136419961,136419961],[136420690,136420690],[136422171,136422171],[136428460,136428460],[136430866,136430866],[136432103,136432103],[136437507,136437507],[136439090,136439090],[136439517,136439517],[136444123,136444123],[136445526,136445526],[136445869,136445869],[136455600,136455600],[136456642,136456642],[136462441,136462441],[136470714,136470714],[136474098,136474098],[136494186,136494186],[136495300,136495300],[136495619,136495619],[136499166,136499166],[136502792,136502792],[136503157,136503157],[136507039,136507039],[136511575,136511575],[136518103,136518103],[136521514,136521514],[136522675,136522675],[136522941,136522941],[136526981,136526981],[136535410,136535410],[136539122,136539122],[136544197,136544197],[136550109,136550109],[136551694,136551694],[136553188,136553188],[136553639,136553639],[136554800,136554800],[136557319,136557319],[136558157,136558157],[136569848,136569848],[136575199,136575199],[136576577,136576577],[136578536,136578536],[136580287,136580287],[136583192,136583192],[136586958,136586958],[136588478,136588478],[136589612,136589612],[136591178,136591178],[136591859,136591859],[136593760,136593760],[136594158,136594158],[136603276,136603276],[136603366,136603366],[136608231,136608231],[136609975,136609975],[136610598,136610598],[136611624,136611624],[136613780,136613780],[136614255,136614255],[136614813,136614813],[136617524,136617524],[136622216,136622216],[136625602,136625602],[136629911,136629911],[136630757,136630757],[136630989,136630989],[136631031,136631031],[136633771,136633771],[136636324,136636324],[136638216,136638216],[136640233,136640233],[136641882,136641882],[136643555,136643555],[136658345,136658345],[136670298,136670298],[136685228,136685228],[136696138,136696138],[136740900,136740900],[136765951,136765951],[136501840,136501840],[136505546,136505546],[136516748,136516748],[136522710,136522710],[136528004,136528004],[136539513,136539513],[136544752,136544752],[136546110,136546110],[136553529,136553529],[136555659,136555659],[136682274,136682274],[136691825,136691825],[136698098,136698098],[136721603,136721603],[136721995,136721995],[136755684,136755684],[136775898,136775898]],\"ys\":[[150,195],[150,195],[150,195],[150,195],[150,195],[150,195],[50,62],[50,62],[50,62],[50,62],[50,62],[50,62],[250,296],[250,296],[250,296],[250,296],[150,194],[150,194],[150,194],[150,194],[150,194],[150,194],[150,194],[150,194],[150,194],[150,194],[150,194],[150,194],[150,194],[150,194],[150,194],[150,194],[150,194],[150,194],[150,194],[150,194],[150,194],[150,194],[150,194],[150,194],[150,194],[150,194],[250,295],[250,295],[250,295],[250,295],[250,295],[250,295],[250,295],[250,295],[250,295],[250,295],[250,295],[250,295],[250,295],[250,295],[250,295],[250,295],[250,295],[250,295],[250,295],[250,295],[250,295],[250,295],[250,295],[250,295],[250,295],[250,295],[250,295],[250,295],[250,295],[250,295],[250,295],[250,295],[250,295],[250,295],[250,295],[250,295],[250,295],[250,295],[250,295],[250,295],[250,295],[250,295],[250,295],[250,295],[250,295],[250,295],[250,295],[250,295],[250,295],[250,295],[250,295],[250,295],[250,295],[250,295],[250,295],[250,295],[250,295],[250,295],[250,295],[250,295],[250,295],[250,295],[250,295],[250,295],[350,398],[350,398],[350,398],[350,398],[350,398],[350,398],[350,398],[350,398],[350,398],[350,398],[350,397],[350,397],[350,397],[350,397],[350,397],[350,397],[350,397]]}},\"id\":\"35e6bd42-1ec2-4011-8df4-bc4b62368b7c\",\"type\":\"ColumnDataSource\"},{\"attributes\":{\"bottom\":{\"field\":\"bottom\"},\"fill_color\":{\"field\":\"fill_color\"},\"left\":{\"field\":\"left\"},\"line_color\":{\"value\":null},\"right\":{\"field\":\"right\"},\"top\":{\"field\":\"top\"}},\"id\":\"5ff72499-f5e0-436f-9f58-770cb486c9a1\",\"type\":\"Quad\"},{\"attributes\":{\"plot\":null,\"text\":null},\"id\":\"11f3996e-fcc3-4475-a947-1b922f9b49cc\",\"type\":\"Title\"},{\"attributes\":{\"callback\":null,\"column_names\":[\"right\",\"bottom\",\"top\",\"left\"],\"data\":{\"bottom\":[445,445,445,445,445,445,445],\"left\":[135809835,135957574,136289083,136499189,136545415,136597196,136664254],\"right\":[135928279,136288182,136482839,136542633,136594750,136634047,136743222],\"top\":[475,475,475,475,475,475,475]}},\"id\":\"de4e5de7-f293-4585-9b3e-9f52d5c395a3\",\"type\":\"ColumnDataSource\"},{\"attributes\":{\"line_alpha\":{\"value\":0.1},\"line_color\":{\"value\":\"#1f77b4\"},\"xs\":{\"field\":\"xs\"},\"ys\":{\"field\":\"ys\"}},\"id\":\"54287011-1f3c-4e30-9932-47abca853a50\",\"type\":\"MultiLine\"},{\"attributes\":{\"callback\":null,\"column_names\":[\"y\",\"x\",\"vals\"],\"data\":{\"vals\":[\"RAB3GAP1\",\"ZRANB3\",\"R3HDM1\",\"UBXN4\",\"LCT\",\"MCM6\",\"DARS\"],\"x\":[135869057.0,136122878.0,136385961.0,136520911.0,136570082.5,136615621.5,136703738.0],\"y\":[460.0,460.0,460.0,460.0,460.0,460.0,460.0]}},\"id\":\"db50a634-91b7-496d-a44c-fcdc80a29f75\",\"type\":\"ColumnDataSource\"},{\"attributes\":{\"formatter\":{\"id\":\"c4cc93f2-f132-486c-a5bd-80e1559f948e\",\"type\":\"BasicTickFormatter\"},\"plot\":{\"id\":\"cd2955a5-0bfa-43e9-a9a8-aec2e58e3349\",\"subtype\":\"Figure\",\"type\":\"Plot\"},\"ticker\":{\"id\":\"9120d111-9310-425d-b994-33e46cb5fde2\",\"type\":\"BasicTicker\"},\"visible\":null},\"id\":\"743e8d58-9b3f-4974-841a-3821e0bfee34\",\"type\":\"LinearAxis\"},{\"attributes\":{\"dimension\":1,\"plot\":{\"id\":\"cd2955a5-0bfa-43e9-a9a8-aec2e58e3349\",\"subtype\":\"Figure\",\"type\":\"Plot\"},\"ticker\":{\"id\":\"9120d111-9310-425d-b994-33e46cb5fde2\",\"type\":\"BasicTicker\"}},\"id\":\"c50603fb-9374-4904-b702-7451b5cbfce9\",\"type\":\"Grid\"},{\"attributes\":{\"bottom\":{\"field\":\"bottom\"},\"fill_alpha\":{\"value\":0.1},\"fill_color\":{\"value\":\"#1f77b4\"},\"left\":{\"field\":\"left\"},\"line_alpha\":{\"value\":0.1},\"line_color\":{\"value\":\"#1f77b4\"},\"right\":{\"field\":\"right\"},\"top\":{\"field\":\"top\"}},\"id\":\"9d70d145-fdab-4732-b511-fa80aa2da63b\",\"type\":\"Quad\"},{\"attributes\":{\"plot\":{\"id\":\"cd2955a5-0bfa-43e9-a9a8-aec2e58e3349\",\"subtype\":\"Figure\",\"type\":\"Plot\"}},\"id\":\"87956864-ff87-4d7f-971c-9d9863c99503\",\"type\":\"HelpTool\"},{\"attributes\":{\"level\":\"glyph\",\"plot\":{\"id\":\"cd2955a5-0bfa-43e9-a9a8-aec2e58e3349\",\"subtype\":\"Figure\",\"type\":\"Plot\"},\"source\":{\"id\":\"db50a634-91b7-496d-a44c-fcdc80a29f75\",\"type\":\"ColumnDataSource\"},\"text\":{\"field\":\"vals\"},\"text_align\":\"center\",\"text_baseline\":\"middle\",\"text_font_size\":{\"value\":\"8pt\"},\"x\":{\"field\":\"x\"},\"y\":{\"field\":\"y\"}},\"id\":\"57737621-bfc6-478d-9762-608bf3f5695e\",\"type\":\"LabelSet\"},{\"attributes\":{\"line_color\":{\"field\":\"line_color\"},\"xs\":{\"field\":\"xs\"},\"ys\":{\"field\":\"ys\"}},\"id\":\"bf5be5d5-f8f3-46d2-956c-6af13e417dfe\",\"type\":\"MultiLine\"},{\"attributes\":{\"callback\":null,\"end\":500},\"id\":\"1bcd572b-bb3e-4b3c-8a5e-1d0a47dae51c\",\"type\":\"Range1d\"},{\"attributes\":{\"plot\":{\"id\":\"cd2955a5-0bfa-43e9-a9a8-aec2e58e3349\",\"subtype\":\"Figure\",\"type\":\"Plot\"}},\"id\":\"6237001d-3ac6-4572-a09f-86355d6b506d\",\"type\":\"WheelZoomTool\"},{\"attributes\":{\"plot\":{\"id\":\"cd2955a5-0bfa-43e9-a9a8-aec2e58e3349\",\"subtype\":\"Figure\",\"type\":\"Plot\"}},\"id\":\"884420d0-c911-4a09-a748-de31abd2e8dd\",\"type\":\"SaveTool\"},{\"attributes\":{\"data_source\":{\"id\":\"de4e5de7-f293-4585-9b3e-9f52d5c395a3\",\"type\":\"ColumnDataSource\"},\"glyph\":{\"id\":\"623e93ac-540c-46e1-ae7f-63404cd17c14\",\"type\":\"Quad\"},\"hover_glyph\":null,\"nonselection_glyph\":{\"id\":\"9d70d145-fdab-4732-b511-fa80aa2da63b\",\"type\":\"Quad\"},\"selection_glyph\":null},\"id\":\"727b6b52-4068-4149-9b68-ca3867e4cc55\",\"type\":\"GlyphRenderer\"},{\"attributes\":{},\"id\":\"bffaf2b0-7e17-4358-95f8-abb8fdfd37e5\",\"type\":\"ToolEvents\"},{\"attributes\":{\"bottom\":{\"field\":\"bottom\"},\"fill_color\":{\"value\":\"white\"},\"left\":{\"field\":\"left\"},\"right\":{\"field\":\"right\"},\"top\":{\"field\":\"top\"}},\"id\":\"623e93ac-540c-46e1-ae7f-63404cd17c14\",\"type\":\"Quad\"},{\"attributes\":{\"below\":[{\"id\":\"93f653f2-ed6f-4a44-809b-9ce59a4dddc7\",\"type\":\"LinearAxis\"}],\"left\":[{\"id\":\"743e8d58-9b3f-4974-841a-3821e0bfee34\",\"type\":\"LinearAxis\"}],\"plot_height\":500,\"plot_width\":900,\"renderers\":[{\"id\":\"93f653f2-ed6f-4a44-809b-9ce59a4dddc7\",\"type\":\"LinearAxis\"},{\"id\":\"2e7a7c50-1d7a-43fa-9d6c-2e4bc54fae61\",\"type\":\"Grid\"},{\"id\":\"743e8d58-9b3f-4974-841a-3821e0bfee34\",\"type\":\"LinearAxis\"},{\"id\":\"c50603fb-9374-4904-b702-7451b5cbfce9\",\"type\":\"Grid\"},{\"id\":\"360a4bb4-093d-4dc7-be47-7da7dc313b9e\",\"type\":\"BoxAnnotation\"},{\"id\":\"abab6284-55e5-40df-8a79-0ef5c5f146a4\",\"type\":\"GlyphRenderer\"},{\"id\":\"e2553684-7bcf-40f2-98e0-adecf402055f\",\"type\":\"GlyphRenderer\"},{\"id\":\"014e9c0d-1b12-42a9-94c8-8d3643b9eb07\",\"type\":\"LabelSet\"},{\"id\":\"727b6b52-4068-4149-9b68-ca3867e4cc55\",\"type\":\"GlyphRenderer\"},{\"id\":\"57737621-bfc6-478d-9762-608bf3f5695e\",\"type\":\"LabelSet\"}],\"title\":{\"id\":\"11f3996e-fcc3-4475-a947-1b922f9b49cc\",\"type\":\"Title\"},\"tool_events\":{\"id\":\"bffaf2b0-7e17-4358-95f8-abb8fdfd37e5\",\"type\":\"ToolEvents\"},\"toolbar\":{\"id\":\"2113709d-b664-45be-be69-725cf8da0950\",\"type\":\"Toolbar\"},\"toolbar_location\":null,\"x_range\":{\"id\":\"7a50e91b-1c1b-49da-9b50-dd7ad91bd5ef\",\"type\":\"Range1d\"},\"y_range\":{\"id\":\"1bcd572b-bb3e-4b3c-8a5e-1d0a47dae51c\",\"type\":\"Range1d\"}},\"id\":\"cd2955a5-0bfa-43e9-a9a8-aec2e58e3349\",\"subtype\":\"Figure\",\"type\":\"Plot\"},{\"attributes\":{\"formatter\":{\"id\":\"1c2da61f-5a28-46c2-9c84-e16fa8fd35bd\",\"type\":\"BasicTickFormatter\"},\"plot\":{\"id\":\"cd2955a5-0bfa-43e9-a9a8-aec2e58e3349\",\"subtype\":\"Figure\",\"type\":\"Plot\"},\"ticker\":{\"id\":\"93a88d53-b55b-45dc-9d36-7995a8f5028b\",\"type\":\"BasicTicker\"}},\"id\":\"93f653f2-ed6f-4a44-809b-9ce59a4dddc7\",\"type\":\"LinearAxis\"},{\"attributes\":{},\"id\":\"9120d111-9310-425d-b994-33e46cb5fde2\",\"type\":\"BasicTicker\"},{\"attributes\":{\"callback\":null,\"column_names\":[\"y\",\"x\",\"vals\"],\"data\":{\"vals\":[\"6_1503\",\"6_35\",\"4_1699\",\"26_1414\",\"64_1575\",\"10_2206\",\"7_1868\"],\"x\":[135771974,135859157,135915358,136398174,136494186,136501840,136682274],\"y\":[200.0,67.0,301.0,199.0,300.0,403.0,402.0]}},\"id\":\"d9f0165e-e57a-49c2-a31c-dd48837aae6e\",\"type\":\"ColumnDataSource\"},{\"attributes\":{\"overlay\":{\"id\":\"360a4bb4-093d-4dc7-be47-7da7dc313b9e\",\"type\":\"BoxAnnotation\"},\"plot\":{\"id\":\"cd2955a5-0bfa-43e9-a9a8-aec2e58e3349\",\"subtype\":\"Figure\",\"type\":\"Plot\"}},\"id\":\"a2311c77-1a46-45f0-9274-5476407606bb\",\"type\":\"BoxZoomTool\"},{\"attributes\":{\"callback\":null,\"end\":136786630,\"start\":135757320},\"id\":\"7a50e91b-1c1b-49da-9b50-dd7ad91bd5ef\",\"type\":\"Range1d\"},{\"attributes\":{\"plot\":{\"id\":\"cd2955a5-0bfa-43e9-a9a8-aec2e58e3349\",\"subtype\":\"Figure\",\"type\":\"Plot\"}},\"id\":\"0d89d971-c001-43b3-bf06-87b449ab8b90\",\"type\":\"ResetTool\"},{\"attributes\":{\"level\":\"glyph\",\"plot\":{\"id\":\"cd2955a5-0bfa-43e9-a9a8-aec2e58e3349\",\"subtype\":\"Figure\",\"type\":\"Plot\"},\"source\":{\"id\":\"d9f0165e-e57a-49c2-a31c-dd48837aae6e\",\"type\":\"ColumnDataSource\"},\"text\":{\"field\":\"vals\"},\"text_font_size\":{\"value\":\"9pt\"},\"text_font_style\":\"bold\",\"x\":{\"field\":\"x\"},\"y\":{\"field\":\"y\"}},\"id\":\"014e9c0d-1b12-42a9-94c8-8d3643b9eb07\",\"type\":\"LabelSet\"},{\"attributes\":{\"callback\":null,\"column_names\":[\"right\",\"bottom\",\"top\",\"left\",\"fill_color\"],\"data\":{\"bottom\":[150,50,250,150,250,350,350],\"fill_color\":[\"#61c461\",\"#ff00ff\",\"#61c461\",\"#61c461\",\"#61c461\",\"#808080\",\"#61c461\"],\"left\":[135771974,135859157,135915358,136398174,136494186,136501840,136682274],\"right\":[136140304,135980938,135995079,136474098,136765951,136555659,136775898],\"top\":[195,62,296,194,295,398,397]}},\"id\":\"b60cb2c0-d1d9-4eed-9d54-fc611c78b7ae\",\"type\":\"ColumnDataSource\"},{\"attributes\":{\"data_source\":{\"id\":\"b60cb2c0-d1d9-4eed-9d54-fc611c78b7ae\",\"type\":\"ColumnDataSource\"},\"glyph\":{\"id\":\"5ff72499-f5e0-436f-9f58-770cb486c9a1\",\"type\":\"Quad\"},\"hover_glyph\":null,\"nonselection_glyph\":{\"id\":\"6ca7bfed-1d75-4c63-9925-49c18cc15869\",\"type\":\"Quad\"},\"selection_glyph\":null},\"id\":\"abab6284-55e5-40df-8a79-0ef5c5f146a4\",\"type\":\"GlyphRenderer\"},{\"attributes\":{\"active_drag\":\"auto\",\"active_scroll\":\"auto\",\"active_tap\":\"auto\",\"tools\":[{\"id\":\"9af54179-0b04-49be-a211-2fd01012b44c\",\"type\":\"PanTool\"},{\"id\":\"6237001d-3ac6-4572-a09f-86355d6b506d\",\"type\":\"WheelZoomTool\"},{\"id\":\"a2311c77-1a46-45f0-9274-5476407606bb\",\"type\":\"BoxZoomTool\"},{\"id\":\"884420d0-c911-4a09-a748-de31abd2e8dd\",\"type\":\"SaveTool\"},{\"id\":\"0d89d971-c001-43b3-bf06-87b449ab8b90\",\"type\":\"ResetTool\"},{\"id\":\"87956864-ff87-4d7f-971c-9d9863c99503\",\"type\":\"HelpTool\"}]},\"id\":\"2113709d-b664-45be-be69-725cf8da0950\",\"type\":\"Toolbar\"}],\"root_ids\":[\"cd2955a5-0bfa-43e9-a9a8-aec2e58e3349\"]},\"title\":\"Bokeh Application\",\"version\":\"0.12.0\"}};\n",
       "            var render_items = [{\"docid\":\"6744c35f-3d72-4486-a78c-b302120ff1e8\",\"elementid\":\"ba512541-21aa-4c1a-b89a-4c3c0f205bf8\",\"modelid\":\"cd2955a5-0bfa-43e9-a9a8-aec2e58e3349\",\"notebook_comms_target\":\"80ea0a72-2eb2-458b-90a4-a268e1b118c5\"}];\n",
       "            \n",
       "            Bokeh.embed.embed_items(docs_json, render_items);\n",
       "        });\n",
       "      },\n",
       "      function(Bokeh) {\n",
       "      }\n",
       "    ];\n",
       "  \n",
       "    function run_inline_js() {\n",
       "      for (var i = 0; i < inline_js.length; i++) {\n",
       "        inline_js[i](window.Bokeh);\n",
       "      }\n",
       "    }\n",
       "  \n",
       "    if (window._bokeh_is_loading === 0) {\n",
       "      console.log(\"Bokeh: BokehJS loaded, going straight to plotting\");\n",
       "      run_inline_js();\n",
       "    } else {\n",
       "      load_libs(js_urls, function() {\n",
       "        console.log(\"Bokeh: BokehJS plotting callback run at\", now());\n",
       "        run_inline_js();\n",
       "      });\n",
       "    }\n",
       "  }(this));\n",
       "</script>"
      ]
     },
     "metadata": {},
     "output_type": "display_data"
    },
    {
     "data": {
      "text/html": [
       "<p><code>&lt;Bokeh Notebook handle for <strong>In[20]</strong>&gt;</code></p>"
      ],
      "text/plain": [
       "<bokeh.io._CommsHandle at 0x7f165cc44350>"
      ]
     },
     "execution_count": 20,
     "metadata": {},
     "output_type": "execute_result"
    }
   ],
   "source": [
    "plt_obj = dm.superset_yes_no([dm.di_6_35], min_match=0.5)\n",
    "plt = plt_obj.do_plot()\n",
    "show(plt)"
   ]
  },
  {
   "cell_type": "code",
   "execution_count": 21,
   "metadata": {
    "collapsed": false
   },
   "outputs": [
    {
     "data": {
      "text/html": [
       "<table>\n",
       "<thead><tr><th style=\"text-align:center\">index</th><th style=\"text-align:center\">first</th><th style=\"text-align:center\">length</th><th style=\"text-align:center\">snps</th><th style=\"text-align:center\" colspan=2>alleles</th><th style=\"text-align:center\" colspan=2>matches</th><th style=\"text-align:center\" colspan=2>afr</th><th style=\"text-align:center\" colspan=2>afx</th><th style=\"text-align:center\" colspan=2>amr</th><th style=\"text-align:center\" colspan=2>eas</th><th style=\"text-align:center\" colspan=2>eur</th><th style=\"text-align:center\" colspan=2>sas</th><th style=\"text-align:center\" colspan=2>sax</th></tr></thead>\n",
       "<tr class=\"even\"><td style=\"text-align: right;\">353921</td><td style=\"text-align: right;\">136,501,840</td><td style=\"text-align: right;\">53,819</td><td style=\"text-align: right;\">10</td><td style=\"text-align: right;\">2206</td><td style=\"text-align: right;\">0.02</td><td style=\"text-align: right;\">34</td><td style=\"text-align: right;\">0.97</td><td style=\"text-align: right;\">1</td><td style=\"text-align: right;\">0.15</td><td style=\"text-align: right;\">1</td><td style=\"text-align: right;\">0.47</td><td style=\"text-align: right;\">12</td><td style=\"text-align: right;\">2.55</td><td style=\"text-align: right;\">0</td><td style=\"text-align: right;\">0.00</td><td style=\"text-align: right;\">17</td><td style=\"text-align: right;\">2.49</td><td style=\"text-align: right;\">2</td><td style=\"text-align: right;\">0.81</td><td style=\"text-align: right;\">1</td><td style=\"text-align: right;\">0.24</td></tr>\n",
       "<tr><td style=\"text-align: right;\">354170</td><td style=\"text-align: right;\">136,682,274</td><td style=\"text-align: right;\">93,624</td><td style=\"text-align: right;\">7</td><td style=\"text-align: right;\">1868</td><td style=\"text-align: right;\">0.02</td><td style=\"text-align: right;\">30</td><td style=\"text-align: right;\">0.86</td><td style=\"text-align: right;\">1</td><td style=\"text-align: right;\">0.17</td><td style=\"text-align: right;\">1</td><td style=\"text-align: right;\">0.53</td><td style=\"text-align: right;\">10</td><td style=\"text-align: right;\">2.41</td><td style=\"text-align: right;\">0</td><td style=\"text-align: right;\">0.00</td><td style=\"text-align: right;\">15</td><td style=\"text-align: right;\">2.49</td><td style=\"text-align: right;\">2</td><td style=\"text-align: right;\">0.92</td><td style=\"text-align: right;\">1</td><td style=\"text-align: right;\">0.27</td></tr>\n",
       "<tr class=\"even\"><td style=\"text-align: right;\">353462</td><td style=\"text-align: right;\">135,915,358</td><td style=\"text-align: right;\">79,721</td><td style=\"text-align: right;\">4</td><td style=\"text-align: right;\">1699</td><td style=\"text-align: right;\">0.02</td><td style=\"text-align: right;\">35</td><td style=\"text-align: right;\">1.00</td><td style=\"text-align: right;\">1</td><td style=\"text-align: right;\">0.14</td><td style=\"text-align: right;\">1</td><td style=\"text-align: right;\">0.46</td><td style=\"text-align: right;\">13</td><td style=\"text-align: right;\">2.68</td><td style=\"text-align: right;\">0</td><td style=\"text-align: right;\">0.00</td><td style=\"text-align: right;\">17</td><td style=\"text-align: right;\">2.42</td><td style=\"text-align: right;\">2</td><td style=\"text-align: right;\">0.79</td><td style=\"text-align: right;\">1</td><td style=\"text-align: right;\">0.23</td></tr>\n",
       "<tr><td style=\"text-align: right;\">353901</td><td style=\"text-align: right;\">136,494,186</td><td style=\"text-align: right;\">271,765</td><td style=\"text-align: right;\">64</td><td style=\"text-align: right;\">1575</td><td style=\"text-align: right;\">0.02</td><td style=\"text-align: right;\">31</td><td style=\"text-align: right;\">0.89</td><td style=\"text-align: right;\">1</td><td style=\"text-align: right;\">0.16</td><td style=\"text-align: right;\">1</td><td style=\"text-align: right;\">0.51</td><td style=\"text-align: right;\">10</td><td style=\"text-align: right;\">2.33</td><td style=\"text-align: right;\">0</td><td style=\"text-align: right;\">0.00</td><td style=\"text-align: right;\">16</td><td style=\"text-align: right;\">2.57</td><td style=\"text-align: right;\">2</td><td style=\"text-align: right;\">0.89</td><td style=\"text-align: right;\">1</td><td style=\"text-align: right;\">0.26</td></tr>\n",
       "<tr class=\"even\"><td style=\"text-align: right;\">353283</td><td style=\"text-align: right;\">135,771,974</td><td style=\"text-align: right;\">368,330</td><td style=\"text-align: right;\">6</td><td style=\"text-align: right;\">1503</td><td style=\"text-align: right;\">0.02</td><td style=\"text-align: right;\">35</td><td style=\"text-align: right;\">1.00</td><td style=\"text-align: right;\">1</td><td style=\"text-align: right;\">0.14</td><td style=\"text-align: right;\">1</td><td style=\"text-align: right;\">0.46</td><td style=\"text-align: right;\">13</td><td style=\"text-align: right;\">2.68</td><td style=\"text-align: right;\">0</td><td style=\"text-align: right;\">0.00</td><td style=\"text-align: right;\">17</td><td style=\"text-align: right;\">2.42</td><td style=\"text-align: right;\">2</td><td style=\"text-align: right;\">0.79</td><td style=\"text-align: right;\">1</td><td style=\"text-align: right;\">0.23</td></tr>\n",
       "<tr><td style=\"text-align: right;\">353797</td><td style=\"text-align: right;\">136,398,174</td><td style=\"text-align: right;\">75,924</td><td style=\"text-align: right;\">26</td><td style=\"text-align: right;\">1414</td><td style=\"text-align: right;\">0.02</td><td style=\"text-align: right;\">34</td><td style=\"text-align: right;\">0.97</td><td style=\"text-align: right;\">1</td><td style=\"text-align: right;\">0.15</td><td style=\"text-align: right;\">1</td><td style=\"text-align: right;\">0.47</td><td style=\"text-align: right;\">12</td><td style=\"text-align: right;\">2.55</td><td style=\"text-align: right;\">0</td><td style=\"text-align: right;\">0.00</td><td style=\"text-align: right;\">17</td><td style=\"text-align: right;\">2.49</td><td style=\"text-align: right;\">2</td><td style=\"text-align: right;\">0.81</td><td style=\"text-align: right;\">1</td><td style=\"text-align: right;\">0.24</td></tr>\n",
       "<tr class=\"even\"><td style=\"text-align: right;\">353407</td><td style=\"text-align: right;\">135,859,157</td><td style=\"text-align: right;\">121,781</td><td style=\"text-align: right;\">6</td><td style=\"text-align: right;\">35</td><td style=\"text-align: right;\">1.00</td><td style=\"text-align: right;\">35</td><td style=\"text-align: right;\">1.00</td><td style=\"text-align: right;\">1</td><td style=\"text-align: right;\">0.14</td><td style=\"text-align: right;\">1</td><td style=\"text-align: right;\">0.46</td><td style=\"text-align: right;\">13</td><td style=\"text-align: right;\">2.68</td><td style=\"text-align: right;\">0</td><td style=\"text-align: right;\">0.00</td><td style=\"text-align: right;\">17</td><td style=\"text-align: right;\">2.42</td><td style=\"text-align: right;\">2</td><td style=\"text-align: right;\">0.79</td><td style=\"text-align: right;\">1</td><td style=\"text-align: right;\">0.23</td></tr>\n",
       "</table>"
      ],
      "text/plain": [
       "<IPython.core.display.HTML object>"
      ]
     },
     "execution_count": 21,
     "metadata": {},
     "output_type": "execute_result"
    }
   ],
   "source": [
    "HTML(plt_obj.get_html())"
   ]
  },
  {
   "cell_type": "markdown",
   "metadata": {},
   "source": [
    "<div style=\"width:700px\">\n",
    "<p>\n",
    "This plot shows the most common series expressed by samples that express the series\n",
    "7_22.  The series 7_22 extends over more than 800,000 DNA bases.  Its SNPs are concentrated\n",
    "at the lower and higher ends of the series.  The chromosomes that express 7_22 include\n",
    "21 that express the full set of EUR tree root series.  The 22 chromosomes include 19\n",
    "from East Asian populations and 3 from South Asian populations.\n",
    "</div>"
   ]
  },
  {
   "cell_type": "code",
   "execution_count": 22,
   "metadata": {
    "collapsed": false
   },
   "outputs": [
    {
     "data": {
      "text/html": [
       "\n",
       "\n",
       "    <div class=\"bk-root\">\n",
       "        <div class=\"plotdiv\" id=\"bf63773b-96ad-4d93-9d5a-a1093ec43eee\"></div>\n",
       "    </div>\n",
       "<script type=\"text/javascript\">\n",
       "  \n",
       "  (function(global) {\n",
       "    function now() {\n",
       "      return new Date();\n",
       "    }\n",
       "  \n",
       "    if (typeof (window._bokeh_onload_callbacks) === \"undefined\") {\n",
       "      window._bokeh_onload_callbacks = [];\n",
       "    }\n",
       "  \n",
       "    function run_callbacks() {\n",
       "      window._bokeh_onload_callbacks.forEach(function(callback) { callback() });\n",
       "      delete window._bokeh_onload_callbacks\n",
       "      console.info(\"Bokeh: all callbacks have finished\");\n",
       "    }\n",
       "  \n",
       "    function load_libs(js_urls, callback) {\n",
       "      window._bokeh_onload_callbacks.push(callback);\n",
       "      if (window._bokeh_is_loading > 0) {\n",
       "        console.log(\"Bokeh: BokehJS is being loaded, scheduling callback at\", now());\n",
       "        return null;\n",
       "      }\n",
       "      if (js_urls == null || js_urls.length === 0) {\n",
       "        run_callbacks();\n",
       "        return null;\n",
       "      }\n",
       "      console.log(\"Bokeh: BokehJS not loaded, scheduling load and callback at\", now());\n",
       "      window._bokeh_is_loading = js_urls.length;\n",
       "      for (var i = 0; i < js_urls.length; i++) {\n",
       "        var url = js_urls[i];\n",
       "        var s = document.createElement('script');\n",
       "        s.src = url;\n",
       "        s.async = false;\n",
       "        s.onreadystatechange = s.onload = function() {\n",
       "          window._bokeh_is_loading--;\n",
       "          if (window._bokeh_is_loading === 0) {\n",
       "            console.log(\"Bokeh: all BokehJS libraries loaded\");\n",
       "            run_callbacks()\n",
       "          }\n",
       "        };\n",
       "        s.onerror = function() {\n",
       "          console.warn(\"failed to load library \" + url);\n",
       "        };\n",
       "        console.log(\"Bokeh: injecting script tag for BokehJS library: \", url);\n",
       "        document.getElementsByTagName(\"head\")[0].appendChild(s);\n",
       "      }\n",
       "    };var element = document.getElementById(\"bf63773b-96ad-4d93-9d5a-a1093ec43eee\");\n",
       "    if (element == null) {\n",
       "      console.log(\"Bokeh: ERROR: autoload.js configured with elementid 'bf63773b-96ad-4d93-9d5a-a1093ec43eee' but no matching script tag was found. \")\n",
       "      return false;\n",
       "    }\n",
       "  \n",
       "    var js_urls = [];\n",
       "  \n",
       "    var inline_js = [\n",
       "      function(Bokeh) {\n",
       "        Bokeh.$(function() {\n",
       "            var docs_json = {\"910962ba-9ddf-4302-9392-43da08cebe61\":{\"roots\":{\"references\":[{\"attributes\":{\"overlay\":{\"id\":\"abba6200-a75d-4ec6-b95f-e490b0d4c52e\",\"type\":\"BoxAnnotation\"},\"plot\":{\"id\":\"22d6da4e-8a9e-435d-95f9-494f9a0a8d46\",\"subtype\":\"Figure\",\"type\":\"Plot\"}},\"id\":\"3c13bb51-8923-4b20-a903-506800c00b4f\",\"type\":\"BoxZoomTool\"},{\"attributes\":{\"active_drag\":\"auto\",\"active_scroll\":\"auto\",\"active_tap\":\"auto\",\"tools\":[{\"id\":\"e547fdb9-6176-4041-b7b1-10f4de424e16\",\"type\":\"PanTool\"},{\"id\":\"4a47b9f5-7479-4b84-b6a1-3539fcb14576\",\"type\":\"WheelZoomTool\"},{\"id\":\"3c13bb51-8923-4b20-a903-506800c00b4f\",\"type\":\"BoxZoomTool\"},{\"id\":\"8eaaf0bf-387d-48dd-89c3-15fce6119bdf\",\"type\":\"SaveTool\"},{\"id\":\"0f5d9680-6fd1-4622-b933-14be48560e37\",\"type\":\"ResetTool\"},{\"id\":\"e9d2f829-e821-45d4-a0b6-7e5e417a5134\",\"type\":\"HelpTool\"}]},\"id\":\"b5b86596-f503-4ba5-b16a-66edabcdd39a\",\"type\":\"Toolbar\"},{\"attributes\":{},\"id\":\"e26a07ad-a26e-4978-ac1b-bc4252df7f1e\",\"type\":\"ToolEvents\"},{\"attributes\":{\"plot\":{\"id\":\"22d6da4e-8a9e-435d-95f9-494f9a0a8d46\",\"subtype\":\"Figure\",\"type\":\"Plot\"}},\"id\":\"8eaaf0bf-387d-48dd-89c3-15fce6119bdf\",\"type\":\"SaveTool\"},{\"attributes\":{\"data_source\":{\"id\":\"421c8ff4-1714-4018-85e2-bc0fdfb7e3a1\",\"type\":\"ColumnDataSource\"},\"glyph\":{\"id\":\"d5600033-a4d6-4bc0-b05e-38dce52748b2\",\"type\":\"MultiLine\"},\"hover_glyph\":null,\"nonselection_glyph\":{\"id\":\"8becdb96-d35c-4666-95c6-3a4eb90a1e7c\",\"type\":\"MultiLine\"},\"selection_glyph\":null},\"id\":\"3d979480-f8be-4520-bad5-b5e3e7076585\",\"type\":\"GlyphRenderer\"},{\"attributes\":{\"bottom\":{\"field\":\"bottom\"},\"fill_alpha\":{\"value\":0.1},\"fill_color\":{\"value\":\"#1f77b4\"},\"left\":{\"field\":\"left\"},\"line_alpha\":{\"value\":0.1},\"line_color\":{\"value\":\"#1f77b4\"},\"right\":{\"field\":\"right\"},\"top\":{\"field\":\"top\"}},\"id\":\"6ccd9ffa-8609-41d3-a5d0-dcb9360c1d62\",\"type\":\"Quad\"},{\"attributes\":{\"data_source\":{\"id\":\"3b4100de-88ee-4c5f-97db-a7cf3f47e891\",\"type\":\"ColumnDataSource\"},\"glyph\":{\"id\":\"0373cbb8-feed-42eb-94f1-c6ab8a2c38b9\",\"type\":\"Quad\"},\"hover_glyph\":null,\"nonselection_glyph\":{\"id\":\"6ccd9ffa-8609-41d3-a5d0-dcb9360c1d62\",\"type\":\"Quad\"},\"selection_glyph\":null},\"id\":\"071c9dee-9222-495d-a405-78026c6fbf27\",\"type\":\"GlyphRenderer\"},{\"attributes\":{\"formatter\":{\"id\":\"0201880b-b1bd-4ad0-87ed-741be9df1915\",\"type\":\"BasicTickFormatter\"},\"plot\":{\"id\":\"22d6da4e-8a9e-435d-95f9-494f9a0a8d46\",\"subtype\":\"Figure\",\"type\":\"Plot\"},\"ticker\":{\"id\":\"fdfb9a03-146c-42df-a11e-609719b1a924\",\"type\":\"BasicTicker\"},\"visible\":null},\"id\":\"7d1701b3-22f3-45f2-95be-2ffd9658b5bb\",\"type\":\"LinearAxis\"},{\"attributes\":{\"bottom\":{\"field\":\"bottom\"},\"fill_color\":{\"value\":\"white\"},\"left\":{\"field\":\"left\"},\"right\":{\"field\":\"right\"},\"top\":{\"field\":\"top\"}},\"id\":\"c3c7db6b-520a-4ca1-a06c-f11a6d5dd390\",\"type\":\"Quad\"},{\"attributes\":{},\"id\":\"9a40f186-ff05-4982-a8fe-02350409c64d\",\"type\":\"BasicTickFormatter\"},{\"attributes\":{\"bottom\":{\"field\":\"bottom\"},\"fill_color\":{\"field\":\"fill_color\"},\"left\":{\"field\":\"left\"},\"line_color\":{\"value\":null},\"right\":{\"field\":\"right\"},\"top\":{\"field\":\"top\"}},\"id\":\"0373cbb8-feed-42eb-94f1-c6ab8a2c38b9\",\"type\":\"Quad\"},{\"attributes\":{\"callback\":null,\"column_names\":[\"y\",\"x\",\"vals\"],\"data\":{\"vals\":[\"RAB3GAP1\",\"ZRANB3\",\"R3HDM1\",\"UBXN4\",\"LCT\",\"MCM6\",\"DARS\"],\"x\":[135869057.0,136122878.0,136385961.0,136520911.0,136570082.5,136615621.5,136703738.0],\"y\":[460.0,460.0,460.0,460.0,460.0,460.0,460.0]}},\"id\":\"3364b767-0eb6-4938-b3c7-d08598c5109b\",\"type\":\"ColumnDataSource\"},{\"attributes\":{\"plot\":{\"id\":\"22d6da4e-8a9e-435d-95f9-494f9a0a8d46\",\"subtype\":\"Figure\",\"type\":\"Plot\"}},\"id\":\"0f5d9680-6fd1-4622-b933-14be48560e37\",\"type\":\"ResetTool\"},{\"attributes\":{\"dimension\":1,\"plot\":{\"id\":\"22d6da4e-8a9e-435d-95f9-494f9a0a8d46\",\"subtype\":\"Figure\",\"type\":\"Plot\"},\"ticker\":{\"id\":\"fdfb9a03-146c-42df-a11e-609719b1a924\",\"type\":\"BasicTicker\"}},\"id\":\"ddce46b3-75b3-4f12-a5c0-fda2717201e9\",\"type\":\"Grid\"},{\"attributes\":{\"plot\":{\"id\":\"22d6da4e-8a9e-435d-95f9-494f9a0a8d46\",\"subtype\":\"Figure\",\"type\":\"Plot\"}},\"id\":\"e547fdb9-6176-4041-b7b1-10f4de424e16\",\"type\":\"PanTool\"},{\"attributes\":{},\"id\":\"0201880b-b1bd-4ad0-87ed-741be9df1915\",\"type\":\"BasicTickFormatter\"},{\"attributes\":{\"callback\":null,\"column_names\":[\"y\",\"x\",\"vals\"],\"data\":{\"vals\":[\"6_1503\",\"7_22\",\"4_1699\",\"26_1414\",\"64_1575\",\"10_2206\",\"7_1868\"],\"x\":[135771974,135786061,135915358,136398174,136494186,136501840,136682274],\"y\":[200.0,63.0,301.0,199.0,300.0,403.0,402.0]}},\"id\":\"0e4079b1-b09d-4b9e-8a92-7dbb9c03808c\",\"type\":\"ColumnDataSource\"},{\"attributes\":{\"callback\":null,\"column_names\":[\"xs\",\"ys\",\"line_color\"],\"data\":{\"line_color\":[\"black\",\"black\",\"black\",\"black\",\"black\",\"black\",\"black\",\"black\",\"black\",\"black\",\"black\",\"black\",\"black\",\"black\",\"black\",\"black\",\"black\",\"black\",\"black\",\"black\",\"black\",\"black\",\"black\",\"black\",\"black\",\"black\",\"black\",\"black\",\"black\",\"black\",\"black\",\"black\",\"black\",\"black\",\"black\",\"black\",\"black\",\"black\",\"black\",\"black\",\"black\",\"black\",\"black\",\"black\",\"black\",\"black\",\"black\",\"black\",\"black\",\"black\",\"black\",\"black\",\"black\",\"black\",\"black\",\"black\",\"black\",\"black\",\"black\",\"black\",\"black\",\"black\",\"black\",\"black\",\"black\",\"black\",\"black\",\"black\",\"black\",\"black\",\"black\",\"black\",\"black\",\"black\",\"black\",\"black\",\"black\",\"black\",\"black\",\"black\",\"black\",\"black\",\"black\",\"black\",\"black\",\"black\",\"black\",\"black\",\"black\",\"black\",\"black\",\"black\",\"black\",\"black\",\"black\",\"black\",\"black\",\"black\",\"black\",\"black\",\"black\",\"black\",\"black\",\"black\",\"black\",\"black\",\"black\",\"black\",\"black\",\"black\",\"black\",\"black\",\"black\",\"black\",\"black\",\"black\",\"black\",\"black\",\"black\",\"black\",\"black\",\"black\",\"black\",\"black\"],\"xs\":[[135771974,135771974],[135859371,135859371],[135877562,135877562],[136022798,136022798],[136058820,136058820],[136140304,136140304],[135786061,135786061],[135815142,135815142],[135860442,135860442],[136488551,136488551],[136516760,136516760],[136562320,136562320],[136586684,136586684],[135915358,135915358],[135954405,135954405],[135995073,135995073],[135995079,135995079],[136398174,136398174],[136402117,136402117],[136403749,136403749],[136409073,136409073],[136410299,136410299],[136413359,136413359],[136416855,136416855],[136416941,136416941],[136418348,136418348],[136419961,136419961],[136420690,136420690],[136422171,136422171],[136428460,136428460],[136430866,136430866],[136432103,136432103],[136437507,136437507],[136439090,136439090],[136439517,136439517],[136444123,136444123],[136445526,136445526],[136445869,136445869],[136455600,136455600],[136456642,136456642],[136462441,136462441],[136470714,136470714],[136474098,136474098],[136494186,136494186],[136495300,136495300],[136495619,136495619],[136499166,136499166],[136502792,136502792],[136503157,136503157],[136507039,136507039],[136511575,136511575],[136518103,136518103],[136521514,136521514],[136522675,136522675],[136522941,136522941],[136526981,136526981],[136535410,136535410],[136539122,136539122],[136544197,136544197],[136550109,136550109],[136551694,136551694],[136553188,136553188],[136553639,136553639],[136554800,136554800],[136557319,136557319],[136558157,136558157],[136569848,136569848],[136575199,136575199],[136576577,136576577],[136578536,136578536],[136580287,136580287],[136583192,136583192],[136586958,136586958],[136588478,136588478],[136589612,136589612],[136591178,136591178],[136591859,136591859],[136593760,136593760],[136594158,136594158],[136603276,136603276],[136603366,136603366],[136608231,136608231],[136609975,136609975],[136610598,136610598],[136611624,136611624],[136613780,136613780],[136614255,136614255],[136614813,136614813],[136617524,136617524],[136622216,136622216],[136625602,136625602],[136629911,136629911],[136630757,136630757],[136630989,136630989],[136631031,136631031],[136633771,136633771],[136636324,136636324],[136638216,136638216],[136640233,136640233],[136641882,136641882],[136643555,136643555],[136658345,136658345],[136670298,136670298],[136685228,136685228],[136696138,136696138],[136740900,136740900],[136765951,136765951],[136501840,136501840],[136505546,136505546],[136516748,136516748],[136522710,136522710],[136528004,136528004],[136539513,136539513],[136544752,136544752],[136546110,136546110],[136553529,136553529],[136555659,136555659],[136682274,136682274],[136691825,136691825],[136698098,136698098],[136721603,136721603],[136721995,136721995],[136755684,136755684],[136775898,136775898]],\"ys\":[[150,195],[150,195],[150,195],[150,195],[150,195],[150,195],[50,58],[50,58],[50,58],[50,58],[50,58],[50,58],[50,58],[250,296],[250,296],[250,296],[250,296],[150,194],[150,194],[150,194],[150,194],[150,194],[150,194],[150,194],[150,194],[150,194],[150,194],[150,194],[150,194],[150,194],[150,194],[150,194],[150,194],[150,194],[150,194],[150,194],[150,194],[150,194],[150,194],[150,194],[150,194],[150,194],[150,194],[250,295],[250,295],[250,295],[250,295],[250,295],[250,295],[250,295],[250,295],[250,295],[250,295],[250,295],[250,295],[250,295],[250,295],[250,295],[250,295],[250,295],[250,295],[250,295],[250,295],[250,295],[250,295],[250,295],[250,295],[250,295],[250,295],[250,295],[250,295],[250,295],[250,295],[250,295],[250,295],[250,295],[250,295],[250,295],[250,295],[250,295],[250,295],[250,295],[250,295],[250,295],[250,295],[250,295],[250,295],[250,295],[250,295],[250,295],[250,295],[250,295],[250,295],[250,295],[250,295],[250,295],[250,295],[250,295],[250,295],[250,295],[250,295],[250,295],[250,295],[250,295],[250,295],[250,295],[250,295],[350,398],[350,398],[350,398],[350,398],[350,398],[350,398],[350,398],[350,398],[350,398],[350,398],[350,397],[350,397],[350,397],[350,397],[350,397],[350,397],[350,397]]}},\"id\":\"421c8ff4-1714-4018-85e2-bc0fdfb7e3a1\",\"type\":\"ColumnDataSource\"},{\"attributes\":{\"line_color\":{\"field\":\"line_color\"},\"xs\":{\"field\":\"xs\"},\"ys\":{\"field\":\"ys\"}},\"id\":\"d5600033-a4d6-4bc0-b05e-38dce52748b2\",\"type\":\"MultiLine\"},{\"attributes\":{\"bottom\":{\"field\":\"bottom\"},\"fill_alpha\":{\"value\":0.1},\"fill_color\":{\"value\":\"#1f77b4\"},\"left\":{\"field\":\"left\"},\"line_alpha\":{\"value\":0.1},\"line_color\":{\"value\":\"#1f77b4\"},\"right\":{\"field\":\"right\"},\"top\":{\"field\":\"top\"}},\"id\":\"f4b19be6-d58f-4903-91b3-b677f2439704\",\"type\":\"Quad\"},{\"attributes\":{\"bottom_units\":\"screen\",\"fill_alpha\":{\"value\":0.5},\"fill_color\":{\"value\":\"lightgrey\"},\"left_units\":\"screen\",\"level\":\"overlay\",\"line_alpha\":{\"value\":1.0},\"line_color\":{\"value\":\"black\"},\"line_dash\":[4,4],\"line_width\":{\"value\":2},\"plot\":null,\"render_mode\":\"css\",\"right_units\":\"screen\",\"top_units\":\"screen\"},\"id\":\"abba6200-a75d-4ec6-b95f-e490b0d4c52e\",\"type\":\"BoxAnnotation\"},{\"attributes\":{\"callback\":null,\"end\":136786630,\"start\":135757320},\"id\":\"73ed7883-59a7-4e31-8c71-56beb2ccd4d3\",\"type\":\"Range1d\"},{\"attributes\":{\"callback\":null,\"column_names\":[\"right\",\"bottom\",\"top\",\"left\"],\"data\":{\"bottom\":[445,445,445,445,445,445,445],\"left\":[135809835,135957574,136289083,136499189,136545415,136597196,136664254],\"right\":[135928279,136288182,136482839,136542633,136594750,136634047,136743222],\"top\":[475,475,475,475,475,475,475]}},\"id\":\"73a03ea1-4d89-403a-9877-a17d9235fa26\",\"type\":\"ColumnDataSource\"},{\"attributes\":{},\"id\":\"372259a2-64cf-4b03-a9d0-92d500f09e27\",\"type\":\"BasicTicker\"},{\"attributes\":{\"plot\":{\"id\":\"22d6da4e-8a9e-435d-95f9-494f9a0a8d46\",\"subtype\":\"Figure\",\"type\":\"Plot\"},\"ticker\":{\"id\":\"372259a2-64cf-4b03-a9d0-92d500f09e27\",\"type\":\"BasicTicker\"}},\"id\":\"6ea29c40-0596-4a8f-a2a3-0820883d4957\",\"type\":\"Grid\"},{\"attributes\":{\"plot\":null,\"text\":null},\"id\":\"704edb3e-cd2e-47ad-9fa7-73bd11dc9c79\",\"type\":\"Title\"},{\"attributes\":{\"plot\":{\"id\":\"22d6da4e-8a9e-435d-95f9-494f9a0a8d46\",\"subtype\":\"Figure\",\"type\":\"Plot\"}},\"id\":\"4a47b9f5-7479-4b84-b6a1-3539fcb14576\",\"type\":\"WheelZoomTool\"},{\"attributes\":{},\"id\":\"fdfb9a03-146c-42df-a11e-609719b1a924\",\"type\":\"BasicTicker\"},{\"attributes\":{\"level\":\"glyph\",\"plot\":{\"id\":\"22d6da4e-8a9e-435d-95f9-494f9a0a8d46\",\"subtype\":\"Figure\",\"type\":\"Plot\"},\"source\":{\"id\":\"3364b767-0eb6-4938-b3c7-d08598c5109b\",\"type\":\"ColumnDataSource\"},\"text\":{\"field\":\"vals\"},\"text_align\":\"center\",\"text_baseline\":\"middle\",\"text_font_size\":{\"value\":\"8pt\"},\"x\":{\"field\":\"x\"},\"y\":{\"field\":\"y\"}},\"id\":\"e9cbc651-522a-4420-8398-8929721eed2d\",\"type\":\"LabelSet\"},{\"attributes\":{\"callback\":null,\"column_names\":[\"right\",\"bottom\",\"top\",\"left\",\"fill_color\"],\"data\":{\"bottom\":[150,50,250,150,250,350,350],\"fill_color\":[\"#61c461\",\"#ffff00\",\"#61c461\",\"#61c461\",\"#61c461\",\"#808080\",\"#61c461\"],\"left\":[135771974,135786061,135915358,136398174,136494186,136501840,136682274],\"right\":[136140304,136586684,135995079,136474098,136765951,136555659,136775898],\"top\":[195,58,296,194,295,398,397]}},\"id\":\"3b4100de-88ee-4c5f-97db-a7cf3f47e891\",\"type\":\"ColumnDataSource\"},{\"attributes\":{\"formatter\":{\"id\":\"9a40f186-ff05-4982-a8fe-02350409c64d\",\"type\":\"BasicTickFormatter\"},\"plot\":{\"id\":\"22d6da4e-8a9e-435d-95f9-494f9a0a8d46\",\"subtype\":\"Figure\",\"type\":\"Plot\"},\"ticker\":{\"id\":\"372259a2-64cf-4b03-a9d0-92d500f09e27\",\"type\":\"BasicTicker\"}},\"id\":\"239ca4c1-2316-49bf-9681-49136d31120e\",\"type\":\"LinearAxis\"},{\"attributes\":{\"callback\":null,\"end\":500},\"id\":\"3a716f26-080f-4ce4-abde-ec03effb7f25\",\"type\":\"Range1d\"},{\"attributes\":{\"below\":[{\"id\":\"239ca4c1-2316-49bf-9681-49136d31120e\",\"type\":\"LinearAxis\"}],\"left\":[{\"id\":\"7d1701b3-22f3-45f2-95be-2ffd9658b5bb\",\"type\":\"LinearAxis\"}],\"plot_height\":500,\"plot_width\":900,\"renderers\":[{\"id\":\"239ca4c1-2316-49bf-9681-49136d31120e\",\"type\":\"LinearAxis\"},{\"id\":\"6ea29c40-0596-4a8f-a2a3-0820883d4957\",\"type\":\"Grid\"},{\"id\":\"7d1701b3-22f3-45f2-95be-2ffd9658b5bb\",\"type\":\"LinearAxis\"},{\"id\":\"ddce46b3-75b3-4f12-a5c0-fda2717201e9\",\"type\":\"Grid\"},{\"id\":\"abba6200-a75d-4ec6-b95f-e490b0d4c52e\",\"type\":\"BoxAnnotation\"},{\"id\":\"071c9dee-9222-495d-a405-78026c6fbf27\",\"type\":\"GlyphRenderer\"},{\"id\":\"3d979480-f8be-4520-bad5-b5e3e7076585\",\"type\":\"GlyphRenderer\"},{\"id\":\"2dba57de-2cc5-484f-9981-51aad85883ec\",\"type\":\"LabelSet\"},{\"id\":\"cd815ada-ff71-4a55-8a67-4142d38b00cb\",\"type\":\"GlyphRenderer\"},{\"id\":\"e9cbc651-522a-4420-8398-8929721eed2d\",\"type\":\"LabelSet\"}],\"title\":{\"id\":\"704edb3e-cd2e-47ad-9fa7-73bd11dc9c79\",\"type\":\"Title\"},\"tool_events\":{\"id\":\"e26a07ad-a26e-4978-ac1b-bc4252df7f1e\",\"type\":\"ToolEvents\"},\"toolbar\":{\"id\":\"b5b86596-f503-4ba5-b16a-66edabcdd39a\",\"type\":\"Toolbar\"},\"toolbar_location\":null,\"x_range\":{\"id\":\"73ed7883-59a7-4e31-8c71-56beb2ccd4d3\",\"type\":\"Range1d\"},\"y_range\":{\"id\":\"3a716f26-080f-4ce4-abde-ec03effb7f25\",\"type\":\"Range1d\"}},\"id\":\"22d6da4e-8a9e-435d-95f9-494f9a0a8d46\",\"subtype\":\"Figure\",\"type\":\"Plot\"},{\"attributes\":{\"line_alpha\":{\"value\":0.1},\"line_color\":{\"value\":\"#1f77b4\"},\"xs\":{\"field\":\"xs\"},\"ys\":{\"field\":\"ys\"}},\"id\":\"8becdb96-d35c-4666-95c6-3a4eb90a1e7c\",\"type\":\"MultiLine\"},{\"attributes\":{\"data_source\":{\"id\":\"73a03ea1-4d89-403a-9877-a17d9235fa26\",\"type\":\"ColumnDataSource\"},\"glyph\":{\"id\":\"c3c7db6b-520a-4ca1-a06c-f11a6d5dd390\",\"type\":\"Quad\"},\"hover_glyph\":null,\"nonselection_glyph\":{\"id\":\"f4b19be6-d58f-4903-91b3-b677f2439704\",\"type\":\"Quad\"},\"selection_glyph\":null},\"id\":\"cd815ada-ff71-4a55-8a67-4142d38b00cb\",\"type\":\"GlyphRenderer\"},{\"attributes\":{\"level\":\"glyph\",\"plot\":{\"id\":\"22d6da4e-8a9e-435d-95f9-494f9a0a8d46\",\"subtype\":\"Figure\",\"type\":\"Plot\"},\"source\":{\"id\":\"0e4079b1-b09d-4b9e-8a92-7dbb9c03808c\",\"type\":\"ColumnDataSource\"},\"text\":{\"field\":\"vals\"},\"text_font_size\":{\"value\":\"9pt\"},\"text_font_style\":\"bold\",\"x\":{\"field\":\"x\"},\"y\":{\"field\":\"y\"}},\"id\":\"2dba57de-2cc5-484f-9981-51aad85883ec\",\"type\":\"LabelSet\"},{\"attributes\":{\"plot\":{\"id\":\"22d6da4e-8a9e-435d-95f9-494f9a0a8d46\",\"subtype\":\"Figure\",\"type\":\"Plot\"}},\"id\":\"e9d2f829-e821-45d4-a0b6-7e5e417a5134\",\"type\":\"HelpTool\"}],\"root_ids\":[\"22d6da4e-8a9e-435d-95f9-494f9a0a8d46\"]},\"title\":\"Bokeh Application\",\"version\":\"0.12.0\"}};\n",
       "            var render_items = [{\"docid\":\"910962ba-9ddf-4302-9392-43da08cebe61\",\"elementid\":\"bf63773b-96ad-4d93-9d5a-a1093ec43eee\",\"modelid\":\"22d6da4e-8a9e-435d-95f9-494f9a0a8d46\",\"notebook_comms_target\":\"f07dc42b-99e7-409b-9880-45292751e257\"}];\n",
       "            \n",
       "            Bokeh.embed.embed_items(docs_json, render_items);\n",
       "        });\n",
       "      },\n",
       "      function(Bokeh) {\n",
       "      }\n",
       "    ];\n",
       "  \n",
       "    function run_inline_js() {\n",
       "      for (var i = 0; i < inline_js.length; i++) {\n",
       "        inline_js[i](window.Bokeh);\n",
       "      }\n",
       "    }\n",
       "  \n",
       "    if (window._bokeh_is_loading === 0) {\n",
       "      console.log(\"Bokeh: BokehJS loaded, going straight to plotting\");\n",
       "      run_inline_js();\n",
       "    } else {\n",
       "      load_libs(js_urls, function() {\n",
       "        console.log(\"Bokeh: BokehJS plotting callback run at\", now());\n",
       "        run_inline_js();\n",
       "      });\n",
       "    }\n",
       "  }(this));\n",
       "</script>"
      ]
     },
     "metadata": {},
     "output_type": "display_data"
    },
    {
     "data": {
      "text/html": [
       "<p><code>&lt;Bokeh Notebook handle for <strong>In[22]</strong>&gt;</code></p>"
      ],
      "text/plain": [
       "<bokeh.io._CommsHandle at 0x7f165cc3c210>"
      ]
     },
     "execution_count": 22,
     "metadata": {},
     "output_type": "execute_result"
    }
   ],
   "source": [
    "plt_obj = dm.superset_yes_no([dm.di_7_22], min_match=0.5)\n",
    "plt = plt_obj.do_plot()\n",
    "show(plt)"
   ]
  },
  {
   "cell_type": "code",
   "execution_count": 23,
   "metadata": {
    "collapsed": false
   },
   "outputs": [
    {
     "data": {
      "text/html": [
       "<table>\n",
       "<thead><tr><th style=\"text-align:center\">index</th><th style=\"text-align:center\">first</th><th style=\"text-align:center\">length</th><th style=\"text-align:center\">snps</th><th style=\"text-align:center\" colspan=2>alleles</th><th style=\"text-align:center\" colspan=2>matches</th><th style=\"text-align:center\" colspan=2>afr</th><th style=\"text-align:center\" colspan=2>afx</th><th style=\"text-align:center\" colspan=2>amr</th><th style=\"text-align:center\" colspan=2>eas</th><th style=\"text-align:center\" colspan=2>eur</th><th style=\"text-align:center\" colspan=2>sas</th><th style=\"text-align:center\" colspan=2>sax</th></tr></thead>\n",
       "<tr class=\"even\"><td style=\"text-align: right;\">353921</td><td style=\"text-align: right;\">136,501,840</td><td style=\"text-align: right;\">53,819</td><td style=\"text-align: right;\">10</td><td style=\"text-align: right;\">2206</td><td style=\"text-align: right;\">0.01</td><td style=\"text-align: right;\">22</td><td style=\"text-align: right;\">1.00</td><td style=\"text-align: right;\">0</td><td style=\"text-align: right;\">0.00</td><td style=\"text-align: right;\">0</td><td style=\"text-align: right;\">0.00</td><td style=\"text-align: right;\">0</td><td style=\"text-align: right;\">0.00</td><td style=\"text-align: right;\">19</td><td style=\"text-align: right;\">4.29</td><td style=\"text-align: right;\">0</td><td style=\"text-align: right;\">0.00</td><td style=\"text-align: right;\">3</td><td style=\"text-align: right;\">1.88</td><td style=\"text-align: right;\">0</td><td style=\"text-align: right;\">0.00</td></tr>\n",
       "<tr><td style=\"text-align: right;\">354170</td><td style=\"text-align: right;\">136,682,274</td><td style=\"text-align: right;\">93,624</td><td style=\"text-align: right;\">7</td><td style=\"text-align: right;\">1868</td><td style=\"text-align: right;\">0.01</td><td style=\"text-align: right;\">21</td><td style=\"text-align: right;\">0.95</td><td style=\"text-align: right;\">0</td><td style=\"text-align: right;\">0.00</td><td style=\"text-align: right;\">0</td><td style=\"text-align: right;\">0.00</td><td style=\"text-align: right;\">0</td><td style=\"text-align: right;\">0.00</td><td style=\"text-align: right;\">18</td><td style=\"text-align: right;\">4.26</td><td style=\"text-align: right;\">0</td><td style=\"text-align: right;\">0.00</td><td style=\"text-align: right;\">3</td><td style=\"text-align: right;\">1.97</td><td style=\"text-align: right;\">0</td><td style=\"text-align: right;\">0.00</td></tr>\n",
       "<tr class=\"even\"><td style=\"text-align: right;\">353462</td><td style=\"text-align: right;\">135,915,358</td><td style=\"text-align: right;\">79,721</td><td style=\"text-align: right;\">4</td><td style=\"text-align: right;\">1699</td><td style=\"text-align: right;\">0.01</td><td style=\"text-align: right;\">22</td><td style=\"text-align: right;\">1.00</td><td style=\"text-align: right;\">0</td><td style=\"text-align: right;\">0.00</td><td style=\"text-align: right;\">0</td><td style=\"text-align: right;\">0.00</td><td style=\"text-align: right;\">0</td><td style=\"text-align: right;\">0.00</td><td style=\"text-align: right;\">19</td><td style=\"text-align: right;\">4.29</td><td style=\"text-align: right;\">0</td><td style=\"text-align: right;\">0.00</td><td style=\"text-align: right;\">3</td><td style=\"text-align: right;\">1.88</td><td style=\"text-align: right;\">0</td><td style=\"text-align: right;\">0.00</td></tr>\n",
       "<tr><td style=\"text-align: right;\">353901</td><td style=\"text-align: right;\">136,494,186</td><td style=\"text-align: right;\">271,765</td><td style=\"text-align: right;\">64</td><td style=\"text-align: right;\">1575</td><td style=\"text-align: right;\">0.01</td><td style=\"text-align: right;\">21</td><td style=\"text-align: right;\">0.95</td><td style=\"text-align: right;\">0</td><td style=\"text-align: right;\">0.00</td><td style=\"text-align: right;\">0</td><td style=\"text-align: right;\">0.00</td><td style=\"text-align: right;\">0</td><td style=\"text-align: right;\">0.00</td><td style=\"text-align: right;\">18</td><td style=\"text-align: right;\">4.26</td><td style=\"text-align: right;\">0</td><td style=\"text-align: right;\">0.00</td><td style=\"text-align: right;\">3</td><td style=\"text-align: right;\">1.97</td><td style=\"text-align: right;\">0</td><td style=\"text-align: right;\">0.00</td></tr>\n",
       "<tr class=\"even\"><td style=\"text-align: right;\">353283</td><td style=\"text-align: right;\">135,771,974</td><td style=\"text-align: right;\">368,330</td><td style=\"text-align: right;\">6</td><td style=\"text-align: right;\">1503</td><td style=\"text-align: right;\">0.01</td><td style=\"text-align: right;\">22</td><td style=\"text-align: right;\">1.00</td><td style=\"text-align: right;\">0</td><td style=\"text-align: right;\">0.00</td><td style=\"text-align: right;\">0</td><td style=\"text-align: right;\">0.00</td><td style=\"text-align: right;\">0</td><td style=\"text-align: right;\">0.00</td><td style=\"text-align: right;\">19</td><td style=\"text-align: right;\">4.29</td><td style=\"text-align: right;\">0</td><td style=\"text-align: right;\">0.00</td><td style=\"text-align: right;\">3</td><td style=\"text-align: right;\">1.88</td><td style=\"text-align: right;\">0</td><td style=\"text-align: right;\">0.00</td></tr>\n",
       "<tr><td style=\"text-align: right;\">353797</td><td style=\"text-align: right;\">136,398,174</td><td style=\"text-align: right;\">75,924</td><td style=\"text-align: right;\">26</td><td style=\"text-align: right;\">1414</td><td style=\"text-align: right;\">0.02</td><td style=\"text-align: right;\">22</td><td style=\"text-align: right;\">1.00</td><td style=\"text-align: right;\">0</td><td style=\"text-align: right;\">0.00</td><td style=\"text-align: right;\">0</td><td style=\"text-align: right;\">0.00</td><td style=\"text-align: right;\">0</td><td style=\"text-align: right;\">0.00</td><td style=\"text-align: right;\">19</td><td style=\"text-align: right;\">4.29</td><td style=\"text-align: right;\">0</td><td style=\"text-align: right;\">0.00</td><td style=\"text-align: right;\">3</td><td style=\"text-align: right;\">1.88</td><td style=\"text-align: right;\">0</td><td style=\"text-align: right;\">0.00</td></tr>\n",
       "<tr class=\"even\"><td style=\"text-align: right;\">353315</td><td style=\"text-align: right;\">135,786,061</td><td style=\"text-align: right;\">800,623</td><td style=\"text-align: right;\">7</td><td style=\"text-align: right;\">22</td><td style=\"text-align: right;\">1.00</td><td style=\"text-align: right;\">22</td><td style=\"text-align: right;\">1.00</td><td style=\"text-align: right;\">0</td><td style=\"text-align: right;\">0.00</td><td style=\"text-align: right;\">0</td><td style=\"text-align: right;\">0.00</td><td style=\"text-align: right;\">0</td><td style=\"text-align: right;\">0.00</td><td style=\"text-align: right;\">19</td><td style=\"text-align: right;\">4.29</td><td style=\"text-align: right;\">0</td><td style=\"text-align: right;\">0.00</td><td style=\"text-align: right;\">3</td><td style=\"text-align: right;\">1.88</td><td style=\"text-align: right;\">0</td><td style=\"text-align: right;\">0.00</td></tr>\n",
       "</table>"
      ],
      "text/plain": [
       "<IPython.core.display.HTML object>"
      ]
     },
     "execution_count": 23,
     "metadata": {},
     "output_type": "execute_result"
    }
   ],
   "source": [
    "HTML(plt_obj.get_html())"
   ]
  },
  {
   "cell_type": "markdown",
   "metadata": {},
   "source": [
    "<div style=\"width:700px\">\n",
    "<p>\n",
    "This plot shows the most common series expressed by samples that express the series\n",
    "7_20.\n",
    "</div>"
   ]
  },
  {
   "cell_type": "code",
   "execution_count": 24,
   "metadata": {
    "collapsed": false
   },
   "outputs": [
    {
     "data": {
      "text/html": [
       "\n",
       "\n",
       "    <div class=\"bk-root\">\n",
       "        <div class=\"plotdiv\" id=\"db368c62-091c-4978-9f16-99a78ed91272\"></div>\n",
       "    </div>\n",
       "<script type=\"text/javascript\">\n",
       "  \n",
       "  (function(global) {\n",
       "    function now() {\n",
       "      return new Date();\n",
       "    }\n",
       "  \n",
       "    if (typeof (window._bokeh_onload_callbacks) === \"undefined\") {\n",
       "      window._bokeh_onload_callbacks = [];\n",
       "    }\n",
       "  \n",
       "    function run_callbacks() {\n",
       "      window._bokeh_onload_callbacks.forEach(function(callback) { callback() });\n",
       "      delete window._bokeh_onload_callbacks\n",
       "      console.info(\"Bokeh: all callbacks have finished\");\n",
       "    }\n",
       "  \n",
       "    function load_libs(js_urls, callback) {\n",
       "      window._bokeh_onload_callbacks.push(callback);\n",
       "      if (window._bokeh_is_loading > 0) {\n",
       "        console.log(\"Bokeh: BokehJS is being loaded, scheduling callback at\", now());\n",
       "        return null;\n",
       "      }\n",
       "      if (js_urls == null || js_urls.length === 0) {\n",
       "        run_callbacks();\n",
       "        return null;\n",
       "      }\n",
       "      console.log(\"Bokeh: BokehJS not loaded, scheduling load and callback at\", now());\n",
       "      window._bokeh_is_loading = js_urls.length;\n",
       "      for (var i = 0; i < js_urls.length; i++) {\n",
       "        var url = js_urls[i];\n",
       "        var s = document.createElement('script');\n",
       "        s.src = url;\n",
       "        s.async = false;\n",
       "        s.onreadystatechange = s.onload = function() {\n",
       "          window._bokeh_is_loading--;\n",
       "          if (window._bokeh_is_loading === 0) {\n",
       "            console.log(\"Bokeh: all BokehJS libraries loaded\");\n",
       "            run_callbacks()\n",
       "          }\n",
       "        };\n",
       "        s.onerror = function() {\n",
       "          console.warn(\"failed to load library \" + url);\n",
       "        };\n",
       "        console.log(\"Bokeh: injecting script tag for BokehJS library: \", url);\n",
       "        document.getElementsByTagName(\"head\")[0].appendChild(s);\n",
       "      }\n",
       "    };var element = document.getElementById(\"db368c62-091c-4978-9f16-99a78ed91272\");\n",
       "    if (element == null) {\n",
       "      console.log(\"Bokeh: ERROR: autoload.js configured with elementid 'db368c62-091c-4978-9f16-99a78ed91272' but no matching script tag was found. \")\n",
       "      return false;\n",
       "    }\n",
       "  \n",
       "    var js_urls = [];\n",
       "  \n",
       "    var inline_js = [\n",
       "      function(Bokeh) {\n",
       "        Bokeh.$(function() {\n",
       "            var docs_json = {\"5f338d92-3fff-40de-8258-9b48eae03d51\":{\"roots\":{\"references\":[{\"attributes\":{},\"id\":\"3cee4ea3-5e0b-4e8e-afa6-95dd54f307a7\",\"type\":\"BasicTicker\"},{\"attributes\":{\"dimension\":1,\"plot\":{\"id\":\"5afb574a-b91c-442d-8986-94dbec1c4e2a\",\"subtype\":\"Figure\",\"type\":\"Plot\"},\"ticker\":{\"id\":\"3cee4ea3-5e0b-4e8e-afa6-95dd54f307a7\",\"type\":\"BasicTicker\"}},\"id\":\"ccc0b9d2-e96f-4c8f-87ce-bcc92ee84da7\",\"type\":\"Grid\"},{\"attributes\":{\"callback\":null,\"end\":500},\"id\":\"9ddf3bd5-a43b-45ba-9397-4d7257a27eb5\",\"type\":\"Range1d\"},{\"attributes\":{\"callback\":null,\"column_names\":[\"y\",\"x\",\"vals\"],\"data\":{\"vals\":[\"RAB3GAP1\",\"ZRANB3\",\"R3HDM1\",\"UBXN4\",\"LCT\",\"MCM6\",\"DARS\"],\"x\":[135869057.0,136122878.0,136385961.0,136520911.0,136570082.5,136615621.5,136703738.0],\"y\":[460.0,460.0,460.0,460.0,460.0,460.0,460.0]}},\"id\":\"f38ddff9-5fdc-478b-894e-65557938a733\",\"type\":\"ColumnDataSource\"},{\"attributes\":{\"plot\":{\"id\":\"5afb574a-b91c-442d-8986-94dbec1c4e2a\",\"subtype\":\"Figure\",\"type\":\"Plot\"}},\"id\":\"da9d41f1-e290-4b68-94bd-ea0dfdcd8473\",\"type\":\"ResetTool\"},{\"attributes\":{\"callback\":null,\"column_names\":[\"y\",\"x\",\"vals\"],\"data\":{\"vals\":[\"6_1503\",\"4_1699\",\"7_20\",\"26_1414\",\"64_1575\",\"10_2206\",\"7_1868\"],\"x\":[135771974,135915358,136039834,136398174,136494186,136501840,136682274],\"y\":[200.0,301.0,62.0,199.0,300.0,403.0,402.0]}},\"id\":\"aa7e8232-2c85-431b-930c-3ada5d65c9ae\",\"type\":\"ColumnDataSource\"},{\"attributes\":{\"overlay\":{\"id\":\"5d816e6a-82a1-4195-b240-424ecc9c1b56\",\"type\":\"BoxAnnotation\"},\"plot\":{\"id\":\"5afb574a-b91c-442d-8986-94dbec1c4e2a\",\"subtype\":\"Figure\",\"type\":\"Plot\"}},\"id\":\"9164828f-f243-4717-86f0-53cb2ab67e65\",\"type\":\"BoxZoomTool\"},{\"attributes\":{\"line_alpha\":{\"value\":0.1},\"line_color\":{\"value\":\"#1f77b4\"},\"xs\":{\"field\":\"xs\"},\"ys\":{\"field\":\"ys\"}},\"id\":\"14c20470-ab68-4424-a460-5fd15f8f7528\",\"type\":\"MultiLine\"},{\"attributes\":{\"bottom\":{\"field\":\"bottom\"},\"fill_alpha\":{\"value\":0.1},\"fill_color\":{\"value\":\"#1f77b4\"},\"left\":{\"field\":\"left\"},\"line_alpha\":{\"value\":0.1},\"line_color\":{\"value\":\"#1f77b4\"},\"right\":{\"field\":\"right\"},\"top\":{\"field\":\"top\"}},\"id\":\"fdf89622-1333-4b54-82c9-99b53f305766\",\"type\":\"Quad\"},{\"attributes\":{\"formatter\":{\"id\":\"b56c6dfb-e316-49f4-8676-f984434ad146\",\"type\":\"BasicTickFormatter\"},\"plot\":{\"id\":\"5afb574a-b91c-442d-8986-94dbec1c4e2a\",\"subtype\":\"Figure\",\"type\":\"Plot\"},\"ticker\":{\"id\":\"e97cf152-6f4a-48fd-a637-e726df78a574\",\"type\":\"BasicTicker\"}},\"id\":\"fd604c59-7775-4ddc-8d41-294c9c84e16d\",\"type\":\"LinearAxis\"},{\"attributes\":{\"bottom\":{\"field\":\"bottom\"},\"fill_alpha\":{\"value\":0.1},\"fill_color\":{\"value\":\"#1f77b4\"},\"left\":{\"field\":\"left\"},\"line_alpha\":{\"value\":0.1},\"line_color\":{\"value\":\"#1f77b4\"},\"right\":{\"field\":\"right\"},\"top\":{\"field\":\"top\"}},\"id\":\"30824438-aa9a-4ceb-aa8d-c352b63d9076\",\"type\":\"Quad\"},{\"attributes\":{\"formatter\":{\"id\":\"4bdbe7c4-d35a-4a92-a7ad-8d100287b2dd\",\"type\":\"BasicTickFormatter\"},\"plot\":{\"id\":\"5afb574a-b91c-442d-8986-94dbec1c4e2a\",\"subtype\":\"Figure\",\"type\":\"Plot\"},\"ticker\":{\"id\":\"3cee4ea3-5e0b-4e8e-afa6-95dd54f307a7\",\"type\":\"BasicTicker\"},\"visible\":null},\"id\":\"226850ce-a84a-4b3b-947f-34f9d4e894ad\",\"type\":\"LinearAxis\"},{\"attributes\":{\"bottom\":{\"field\":\"bottom\"},\"fill_color\":{\"field\":\"fill_color\"},\"left\":{\"field\":\"left\"},\"line_color\":{\"value\":null},\"right\":{\"field\":\"right\"},\"top\":{\"field\":\"top\"}},\"id\":\"d852829e-9b2c-41cd-b6c1-f99b94f9f033\",\"type\":\"Quad\"},{\"attributes\":{\"level\":\"glyph\",\"plot\":{\"id\":\"5afb574a-b91c-442d-8986-94dbec1c4e2a\",\"subtype\":\"Figure\",\"type\":\"Plot\"},\"source\":{\"id\":\"f38ddff9-5fdc-478b-894e-65557938a733\",\"type\":\"ColumnDataSource\"},\"text\":{\"field\":\"vals\"},\"text_align\":\"center\",\"text_baseline\":\"middle\",\"text_font_size\":{\"value\":\"8pt\"},\"x\":{\"field\":\"x\"},\"y\":{\"field\":\"y\"}},\"id\":\"d2da2027-8dca-4e0e-ae5c-f63b98c00b5c\",\"type\":\"LabelSet\"},{\"attributes\":{\"active_drag\":\"auto\",\"active_scroll\":\"auto\",\"active_tap\":\"auto\",\"tools\":[{\"id\":\"dd308ac2-031b-45e8-bb02-cefefe0f5a0f\",\"type\":\"PanTool\"},{\"id\":\"65a9be04-87b2-4595-8a3c-9eefb81b8a96\",\"type\":\"WheelZoomTool\"},{\"id\":\"9164828f-f243-4717-86f0-53cb2ab67e65\",\"type\":\"BoxZoomTool\"},{\"id\":\"eb6c47d5-de28-48f0-97fb-6e96c05e65b2\",\"type\":\"SaveTool\"},{\"id\":\"da9d41f1-e290-4b68-94bd-ea0dfdcd8473\",\"type\":\"ResetTool\"},{\"id\":\"dadf4f24-fe97-49c7-90dc-acd99bba98a2\",\"type\":\"HelpTool\"}]},\"id\":\"6761bfb1-953c-4c2b-90ec-247e69186d3b\",\"type\":\"Toolbar\"},{\"attributes\":{\"callback\":null,\"end\":136786630,\"start\":135757320},\"id\":\"0ea62631-3281-4aaa-aaa1-bc1a97cd7966\",\"type\":\"Range1d\"},{\"attributes\":{},\"id\":\"e97cf152-6f4a-48fd-a637-e726df78a574\",\"type\":\"BasicTicker\"},{\"attributes\":{\"data_source\":{\"id\":\"9d034334-bd31-4e2b-b06f-b8f520475b3f\",\"type\":\"ColumnDataSource\"},\"glyph\":{\"id\":\"d852829e-9b2c-41cd-b6c1-f99b94f9f033\",\"type\":\"Quad\"},\"hover_glyph\":null,\"nonselection_glyph\":{\"id\":\"fdf89622-1333-4b54-82c9-99b53f305766\",\"type\":\"Quad\"},\"selection_glyph\":null},\"id\":\"e88c55c1-3e6c-4c46-ba68-d4d7fe470052\",\"type\":\"GlyphRenderer\"},{\"attributes\":{\"plot\":{\"id\":\"5afb574a-b91c-442d-8986-94dbec1c4e2a\",\"subtype\":\"Figure\",\"type\":\"Plot\"}},\"id\":\"65a9be04-87b2-4595-8a3c-9eefb81b8a96\",\"type\":\"WheelZoomTool\"},{\"attributes\":{\"callback\":null,\"column_names\":[\"right\",\"bottom\",\"top\",\"left\"],\"data\":{\"bottom\":[445,445,445,445,445,445,445],\"left\":[135809835,135957574,136289083,136499189,136545415,136597196,136664254],\"right\":[135928279,136288182,136482839,136542633,136594750,136634047,136743222],\"top\":[475,475,475,475,475,475,475]}},\"id\":\"120574ab-b93a-445b-9683-1c44abaf8e73\",\"type\":\"ColumnDataSource\"},{\"attributes\":{},\"id\":\"066e42c4-7bc4-487b-b60a-da7e9e3e1da9\",\"type\":\"ToolEvents\"},{\"attributes\":{\"plot\":{\"id\":\"5afb574a-b91c-442d-8986-94dbec1c4e2a\",\"subtype\":\"Figure\",\"type\":\"Plot\"}},\"id\":\"eb6c47d5-de28-48f0-97fb-6e96c05e65b2\",\"type\":\"SaveTool\"},{\"attributes\":{\"callback\":null,\"column_names\":[\"xs\",\"ys\",\"line_color\"],\"data\":{\"line_color\":[\"black\",\"black\",\"black\",\"black\",\"black\",\"black\",\"black\",\"black\",\"black\",\"black\",\"black\",\"black\",\"black\",\"black\",\"black\",\"black\",\"black\",\"black\",\"black\",\"black\",\"black\",\"black\",\"black\",\"black\",\"black\",\"black\",\"black\",\"black\",\"black\",\"black\",\"black\",\"black\",\"black\",\"black\",\"black\",\"black\",\"black\",\"black\",\"black\",\"black\",\"black\",\"black\",\"black\",\"black\",\"black\",\"black\",\"black\",\"black\",\"black\",\"black\",\"black\",\"black\",\"black\",\"black\",\"black\",\"black\",\"black\",\"black\",\"black\",\"black\",\"black\",\"black\",\"black\",\"black\",\"black\",\"black\",\"black\",\"black\",\"black\",\"black\",\"black\",\"black\",\"black\",\"black\",\"black\",\"black\",\"black\",\"black\",\"black\",\"black\",\"black\",\"black\",\"black\",\"black\",\"black\",\"black\",\"black\",\"black\",\"black\",\"black\",\"black\",\"black\",\"black\",\"black\",\"black\",\"black\",\"black\",\"black\",\"black\",\"black\",\"black\",\"black\",\"black\",\"black\",\"black\",\"black\",\"black\",\"black\",\"black\",\"black\",\"black\",\"black\",\"black\",\"black\",\"black\",\"black\",\"black\",\"black\",\"black\",\"black\",\"black\",\"black\",\"black\",\"black\"],\"xs\":[[135771974,135771974],[135859371,135859371],[135877562,135877562],[136022798,136022798],[136058820,136058820],[136140304,136140304],[135915358,135915358],[135954405,135954405],[135995073,135995073],[135995079,135995079],[136039834,136039834],[136040506,136040506],[136108092,136108092],[136283871,136283871],[136284021,136284021],[136343363,136343363],[136349562,136349562],[136398174,136398174],[136402117,136402117],[136403749,136403749],[136409073,136409073],[136410299,136410299],[136413359,136413359],[136416855,136416855],[136416941,136416941],[136418348,136418348],[136419961,136419961],[136420690,136420690],[136422171,136422171],[136428460,136428460],[136430866,136430866],[136432103,136432103],[136437507,136437507],[136439090,136439090],[136439517,136439517],[136444123,136444123],[136445526,136445526],[136445869,136445869],[136455600,136455600],[136456642,136456642],[136462441,136462441],[136470714,136470714],[136474098,136474098],[136494186,136494186],[136495300,136495300],[136495619,136495619],[136499166,136499166],[136502792,136502792],[136503157,136503157],[136507039,136507039],[136511575,136511575],[136518103,136518103],[136521514,136521514],[136522675,136522675],[136522941,136522941],[136526981,136526981],[136535410,136535410],[136539122,136539122],[136544197,136544197],[136550109,136550109],[136551694,136551694],[136553188,136553188],[136553639,136553639],[136554800,136554800],[136557319,136557319],[136558157,136558157],[136569848,136569848],[136575199,136575199],[136576577,136576577],[136578536,136578536],[136580287,136580287],[136583192,136583192],[136586958,136586958],[136588478,136588478],[136589612,136589612],[136591178,136591178],[136591859,136591859],[136593760,136593760],[136594158,136594158],[136603276,136603276],[136603366,136603366],[136608231,136608231],[136609975,136609975],[136610598,136610598],[136611624,136611624],[136613780,136613780],[136614255,136614255],[136614813,136614813],[136617524,136617524],[136622216,136622216],[136625602,136625602],[136629911,136629911],[136630757,136630757],[136630989,136630989],[136631031,136631031],[136633771,136633771],[136636324,136636324],[136638216,136638216],[136640233,136640233],[136641882,136641882],[136643555,136643555],[136658345,136658345],[136670298,136670298],[136685228,136685228],[136696138,136696138],[136740900,136740900],[136765951,136765951],[136501840,136501840],[136505546,136505546],[136516748,136516748],[136522710,136522710],[136528004,136528004],[136539513,136539513],[136544752,136544752],[136546110,136546110],[136553529,136553529],[136555659,136555659],[136682274,136682274],[136691825,136691825],[136698098,136698098],[136721603,136721603],[136721995,136721995],[136755684,136755684],[136775898,136775898]],\"ys\":[[150,195],[150,195],[150,195],[150,195],[150,195],[150,195],[250,296],[250,296],[250,296],[250,296],[50,57],[50,57],[50,57],[50,57],[50,57],[50,57],[50,57],[150,194],[150,194],[150,194],[150,194],[150,194],[150,194],[150,194],[150,194],[150,194],[150,194],[150,194],[150,194],[150,194],[150,194],[150,194],[150,194],[150,194],[150,194],[150,194],[150,194],[150,194],[150,194],[150,194],[150,194],[150,194],[150,194],[250,295],[250,295],[250,295],[250,295],[250,295],[250,295],[250,295],[250,295],[250,295],[250,295],[250,295],[250,295],[250,295],[250,295],[250,295],[250,295],[250,295],[250,295],[250,295],[250,295],[250,295],[250,295],[250,295],[250,295],[250,295],[250,295],[250,295],[250,295],[250,295],[250,295],[250,295],[250,295],[250,295],[250,295],[250,295],[250,295],[250,295],[250,295],[250,295],[250,295],[250,295],[250,295],[250,295],[250,295],[250,295],[250,295],[250,295],[250,295],[250,295],[250,295],[250,295],[250,295],[250,295],[250,295],[250,295],[250,295],[250,295],[250,295],[250,295],[250,295],[250,295],[250,295],[250,295],[250,295],[350,398],[350,398],[350,398],[350,398],[350,398],[350,398],[350,398],[350,398],[350,398],[350,398],[350,397],[350,397],[350,397],[350,397],[350,397],[350,397],[350,397]]}},\"id\":\"5b38a1bf-3176-40c7-af81-ad1109d2e258\",\"type\":\"ColumnDataSource\"},{\"attributes\":{\"bottom\":{\"field\":\"bottom\"},\"fill_color\":{\"value\":\"white\"},\"left\":{\"field\":\"left\"},\"right\":{\"field\":\"right\"},\"top\":{\"field\":\"top\"}},\"id\":\"b0162093-1673-4f6b-a111-89b00f49db3b\",\"type\":\"Quad\"},{\"attributes\":{},\"id\":\"4bdbe7c4-d35a-4a92-a7ad-8d100287b2dd\",\"type\":\"BasicTickFormatter\"},{\"attributes\":{\"plot\":null,\"text\":null},\"id\":\"21f82f83-e1ac-4932-ae80-ba2880d98f53\",\"type\":\"Title\"},{\"attributes\":{\"data_source\":{\"id\":\"120574ab-b93a-445b-9683-1c44abaf8e73\",\"type\":\"ColumnDataSource\"},\"glyph\":{\"id\":\"b0162093-1673-4f6b-a111-89b00f49db3b\",\"type\":\"Quad\"},\"hover_glyph\":null,\"nonselection_glyph\":{\"id\":\"30824438-aa9a-4ceb-aa8d-c352b63d9076\",\"type\":\"Quad\"},\"selection_glyph\":null},\"id\":\"4111de15-bc5a-405a-aec3-f8b13d403469\",\"type\":\"GlyphRenderer\"},{\"attributes\":{\"plot\":{\"id\":\"5afb574a-b91c-442d-8986-94dbec1c4e2a\",\"subtype\":\"Figure\",\"type\":\"Plot\"}},\"id\":\"dadf4f24-fe97-49c7-90dc-acd99bba98a2\",\"type\":\"HelpTool\"},{\"attributes\":{\"plot\":{\"id\":\"5afb574a-b91c-442d-8986-94dbec1c4e2a\",\"subtype\":\"Figure\",\"type\":\"Plot\"}},\"id\":\"dd308ac2-031b-45e8-bb02-cefefe0f5a0f\",\"type\":\"PanTool\"},{\"attributes\":{\"below\":[{\"id\":\"fd604c59-7775-4ddc-8d41-294c9c84e16d\",\"type\":\"LinearAxis\"}],\"left\":[{\"id\":\"226850ce-a84a-4b3b-947f-34f9d4e894ad\",\"type\":\"LinearAxis\"}],\"plot_height\":500,\"plot_width\":900,\"renderers\":[{\"id\":\"fd604c59-7775-4ddc-8d41-294c9c84e16d\",\"type\":\"LinearAxis\"},{\"id\":\"940782ec-98f5-45a7-a496-2279b048f961\",\"type\":\"Grid\"},{\"id\":\"226850ce-a84a-4b3b-947f-34f9d4e894ad\",\"type\":\"LinearAxis\"},{\"id\":\"ccc0b9d2-e96f-4c8f-87ce-bcc92ee84da7\",\"type\":\"Grid\"},{\"id\":\"5d816e6a-82a1-4195-b240-424ecc9c1b56\",\"type\":\"BoxAnnotation\"},{\"id\":\"e88c55c1-3e6c-4c46-ba68-d4d7fe470052\",\"type\":\"GlyphRenderer\"},{\"id\":\"054020a7-e23b-4e21-bf10-1dd3d2c41310\",\"type\":\"GlyphRenderer\"},{\"id\":\"d742aa61-5d6e-49cd-a21d-c20abb2547f4\",\"type\":\"LabelSet\"},{\"id\":\"4111de15-bc5a-405a-aec3-f8b13d403469\",\"type\":\"GlyphRenderer\"},{\"id\":\"d2da2027-8dca-4e0e-ae5c-f63b98c00b5c\",\"type\":\"LabelSet\"}],\"title\":{\"id\":\"21f82f83-e1ac-4932-ae80-ba2880d98f53\",\"type\":\"Title\"},\"tool_events\":{\"id\":\"066e42c4-7bc4-487b-b60a-da7e9e3e1da9\",\"type\":\"ToolEvents\"},\"toolbar\":{\"id\":\"6761bfb1-953c-4c2b-90ec-247e69186d3b\",\"type\":\"Toolbar\"},\"toolbar_location\":null,\"x_range\":{\"id\":\"0ea62631-3281-4aaa-aaa1-bc1a97cd7966\",\"type\":\"Range1d\"},\"y_range\":{\"id\":\"9ddf3bd5-a43b-45ba-9397-4d7257a27eb5\",\"type\":\"Range1d\"}},\"id\":\"5afb574a-b91c-442d-8986-94dbec1c4e2a\",\"subtype\":\"Figure\",\"type\":\"Plot\"},{\"attributes\":{\"callback\":null,\"column_names\":[\"right\",\"bottom\",\"top\",\"left\",\"fill_color\"],\"data\":{\"bottom\":[150,250,50,150,250,350,350],\"fill_color\":[\"#61c461\",\"#61c461\",\"#00ff00\",\"#61c461\",\"#61c461\",\"#808080\",\"#61c461\"],\"left\":[135771974,135915358,136039834,136398174,136494186,136501840,136682274],\"right\":[136140304,135995079,136349562,136474098,136765951,136555659,136775898],\"top\":[195,296,57,194,295,398,397]}},\"id\":\"9d034334-bd31-4e2b-b06f-b8f520475b3f\",\"type\":\"ColumnDataSource\"},{\"attributes\":{\"plot\":{\"id\":\"5afb574a-b91c-442d-8986-94dbec1c4e2a\",\"subtype\":\"Figure\",\"type\":\"Plot\"},\"ticker\":{\"id\":\"e97cf152-6f4a-48fd-a637-e726df78a574\",\"type\":\"BasicTicker\"}},\"id\":\"940782ec-98f5-45a7-a496-2279b048f961\",\"type\":\"Grid\"},{\"attributes\":{\"data_source\":{\"id\":\"5b38a1bf-3176-40c7-af81-ad1109d2e258\",\"type\":\"ColumnDataSource\"},\"glyph\":{\"id\":\"a133ec47-51f7-4e3c-844d-f978c21991e6\",\"type\":\"MultiLine\"},\"hover_glyph\":null,\"nonselection_glyph\":{\"id\":\"14c20470-ab68-4424-a460-5fd15f8f7528\",\"type\":\"MultiLine\"},\"selection_glyph\":null},\"id\":\"054020a7-e23b-4e21-bf10-1dd3d2c41310\",\"type\":\"GlyphRenderer\"},{\"attributes\":{\"bottom_units\":\"screen\",\"fill_alpha\":{\"value\":0.5},\"fill_color\":{\"value\":\"lightgrey\"},\"left_units\":\"screen\",\"level\":\"overlay\",\"line_alpha\":{\"value\":1.0},\"line_color\":{\"value\":\"black\"},\"line_dash\":[4,4],\"line_width\":{\"value\":2},\"plot\":null,\"render_mode\":\"css\",\"right_units\":\"screen\",\"top_units\":\"screen\"},\"id\":\"5d816e6a-82a1-4195-b240-424ecc9c1b56\",\"type\":\"BoxAnnotation\"},{\"attributes\":{\"line_color\":{\"field\":\"line_color\"},\"xs\":{\"field\":\"xs\"},\"ys\":{\"field\":\"ys\"}},\"id\":\"a133ec47-51f7-4e3c-844d-f978c21991e6\",\"type\":\"MultiLine\"},{\"attributes\":{\"level\":\"glyph\",\"plot\":{\"id\":\"5afb574a-b91c-442d-8986-94dbec1c4e2a\",\"subtype\":\"Figure\",\"type\":\"Plot\"},\"source\":{\"id\":\"aa7e8232-2c85-431b-930c-3ada5d65c9ae\",\"type\":\"ColumnDataSource\"},\"text\":{\"field\":\"vals\"},\"text_font_size\":{\"value\":\"9pt\"},\"text_font_style\":\"bold\",\"x\":{\"field\":\"x\"},\"y\":{\"field\":\"y\"}},\"id\":\"d742aa61-5d6e-49cd-a21d-c20abb2547f4\",\"type\":\"LabelSet\"},{\"attributes\":{},\"id\":\"b56c6dfb-e316-49f4-8676-f984434ad146\",\"type\":\"BasicTickFormatter\"}],\"root_ids\":[\"5afb574a-b91c-442d-8986-94dbec1c4e2a\"]},\"title\":\"Bokeh Application\",\"version\":\"0.12.0\"}};\n",
       "            var render_items = [{\"docid\":\"5f338d92-3fff-40de-8258-9b48eae03d51\",\"elementid\":\"db368c62-091c-4978-9f16-99a78ed91272\",\"modelid\":\"5afb574a-b91c-442d-8986-94dbec1c4e2a\",\"notebook_comms_target\":\"10e64c80-e6e1-4488-b926-c4fb75f86de1\"}];\n",
       "            \n",
       "            Bokeh.embed.embed_items(docs_json, render_items);\n",
       "        });\n",
       "      },\n",
       "      function(Bokeh) {\n",
       "      }\n",
       "    ];\n",
       "  \n",
       "    function run_inline_js() {\n",
       "      for (var i = 0; i < inline_js.length; i++) {\n",
       "        inline_js[i](window.Bokeh);\n",
       "      }\n",
       "    }\n",
       "  \n",
       "    if (window._bokeh_is_loading === 0) {\n",
       "      console.log(\"Bokeh: BokehJS loaded, going straight to plotting\");\n",
       "      run_inline_js();\n",
       "    } else {\n",
       "      load_libs(js_urls, function() {\n",
       "        console.log(\"Bokeh: BokehJS plotting callback run at\", now());\n",
       "        run_inline_js();\n",
       "      });\n",
       "    }\n",
       "  }(this));\n",
       "</script>"
      ]
     },
     "metadata": {},
     "output_type": "display_data"
    },
    {
     "data": {
      "text/html": [
       "<p><code>&lt;Bokeh Notebook handle for <strong>In[24]</strong>&gt;</code></p>"
      ],
      "text/plain": [
       "<bokeh.io._CommsHandle at 0x7f165cc623d0>"
      ]
     },
     "execution_count": 24,
     "metadata": {},
     "output_type": "execute_result"
    }
   ],
   "source": [
    "plt_obj = dm.superset_yes_no([dm.di_7_20], min_match=0.5)\n",
    "plt = plt_obj.do_plot()\n",
    "show(plt)"
   ]
  },
  {
   "cell_type": "code",
   "execution_count": 25,
   "metadata": {
    "collapsed": false
   },
   "outputs": [
    {
     "data": {
      "text/html": [
       "<table>\n",
       "<thead><tr><th style=\"text-align:center\">index</th><th style=\"text-align:center\">first</th><th style=\"text-align:center\">length</th><th style=\"text-align:center\">snps</th><th style=\"text-align:center\" colspan=2>alleles</th><th style=\"text-align:center\" colspan=2>matches</th><th style=\"text-align:center\" colspan=2>afr</th><th style=\"text-align:center\" colspan=2>afx</th><th style=\"text-align:center\" colspan=2>amr</th><th style=\"text-align:center\" colspan=2>eas</th><th style=\"text-align:center\" colspan=2>eur</th><th style=\"text-align:center\" colspan=2>sas</th><th style=\"text-align:center\" colspan=2>sax</th></tr></thead>\n",
       "<tr class=\"even\"><td style=\"text-align: right;\">353921</td><td style=\"text-align: right;\">136,501,840</td><td style=\"text-align: right;\">53,819</td><td style=\"text-align: right;\">10</td><td style=\"text-align: right;\">2206</td><td style=\"text-align: right;\">0.01</td><td style=\"text-align: right;\">18</td><td style=\"text-align: right;\">0.90</td><td style=\"text-align: right;\">0</td><td style=\"text-align: right;\">0.00</td><td style=\"text-align: right;\">1</td><td style=\"text-align: right;\">0.89</td><td style=\"text-align: right;\">5</td><td style=\"text-align: right;\">2.00</td><td style=\"text-align: right;\">0</td><td style=\"text-align: right;\">0.00</td><td style=\"text-align: right;\">11</td><td style=\"text-align: right;\">3.04</td><td style=\"text-align: right;\">0</td><td style=\"text-align: right;\">0.00</td><td style=\"text-align: right;\">1</td><td style=\"text-align: right;\">0.45</td></tr>\n",
       "<tr><td style=\"text-align: right;\">354170</td><td style=\"text-align: right;\">136,682,274</td><td style=\"text-align: right;\">93,624</td><td style=\"text-align: right;\">7</td><td style=\"text-align: right;\">1868</td><td style=\"text-align: right;\">0.01</td><td style=\"text-align: right;\">18</td><td style=\"text-align: right;\">0.90</td><td style=\"text-align: right;\">0</td><td style=\"text-align: right;\">0.00</td><td style=\"text-align: right;\">1</td><td style=\"text-align: right;\">0.89</td><td style=\"text-align: right;\">5</td><td style=\"text-align: right;\">2.00</td><td style=\"text-align: right;\">0</td><td style=\"text-align: right;\">0.00</td><td style=\"text-align: right;\">11</td><td style=\"text-align: right;\">3.04</td><td style=\"text-align: right;\">0</td><td style=\"text-align: right;\">0.00</td><td style=\"text-align: right;\">1</td><td style=\"text-align: right;\">0.45</td></tr>\n",
       "<tr class=\"even\"><td style=\"text-align: right;\">353462</td><td style=\"text-align: right;\">135,915,358</td><td style=\"text-align: right;\">79,721</td><td style=\"text-align: right;\">4</td><td style=\"text-align: right;\">1699</td><td style=\"text-align: right;\">0.01</td><td style=\"text-align: right;\">18</td><td style=\"text-align: right;\">0.90</td><td style=\"text-align: right;\">0</td><td style=\"text-align: right;\">0.00</td><td style=\"text-align: right;\">1</td><td style=\"text-align: right;\">0.89</td><td style=\"text-align: right;\">4</td><td style=\"text-align: right;\">1.60</td><td style=\"text-align: right;\">0</td><td style=\"text-align: right;\">0.00</td><td style=\"text-align: right;\">12</td><td style=\"text-align: right;\">3.32</td><td style=\"text-align: right;\">0</td><td style=\"text-align: right;\">0.00</td><td style=\"text-align: right;\">1</td><td style=\"text-align: right;\">0.45</td></tr>\n",
       "<tr><td style=\"text-align: right;\">353901</td><td style=\"text-align: right;\">136,494,186</td><td style=\"text-align: right;\">271,765</td><td style=\"text-align: right;\">64</td><td style=\"text-align: right;\">1575</td><td style=\"text-align: right;\">0.01</td><td style=\"text-align: right;\">18</td><td style=\"text-align: right;\">0.90</td><td style=\"text-align: right;\">0</td><td style=\"text-align: right;\">0.00</td><td style=\"text-align: right;\">1</td><td style=\"text-align: right;\">0.89</td><td style=\"text-align: right;\">5</td><td style=\"text-align: right;\">2.00</td><td style=\"text-align: right;\">0</td><td style=\"text-align: right;\">0.00</td><td style=\"text-align: right;\">11</td><td style=\"text-align: right;\">3.04</td><td style=\"text-align: right;\">0</td><td style=\"text-align: right;\">0.00</td><td style=\"text-align: right;\">1</td><td style=\"text-align: right;\">0.45</td></tr>\n",
       "<tr class=\"even\"><td style=\"text-align: right;\">353283</td><td style=\"text-align: right;\">135,771,974</td><td style=\"text-align: right;\">368,330</td><td style=\"text-align: right;\">6</td><td style=\"text-align: right;\">1503</td><td style=\"text-align: right;\">0.01</td><td style=\"text-align: right;\">18</td><td style=\"text-align: right;\">0.90</td><td style=\"text-align: right;\">0</td><td style=\"text-align: right;\">0.00</td><td style=\"text-align: right;\">1</td><td style=\"text-align: right;\">0.89</td><td style=\"text-align: right;\">4</td><td style=\"text-align: right;\">1.60</td><td style=\"text-align: right;\">0</td><td style=\"text-align: right;\">0.00</td><td style=\"text-align: right;\">12</td><td style=\"text-align: right;\">3.32</td><td style=\"text-align: right;\">0</td><td style=\"text-align: right;\">0.00</td><td style=\"text-align: right;\">1</td><td style=\"text-align: right;\">0.45</td></tr>\n",
       "<tr><td style=\"text-align: right;\">353797</td><td style=\"text-align: right;\">136,398,174</td><td style=\"text-align: right;\">75,924</td><td style=\"text-align: right;\">26</td><td style=\"text-align: right;\">1414</td><td style=\"text-align: right;\">0.01</td><td style=\"text-align: right;\">18</td><td style=\"text-align: right;\">0.90</td><td style=\"text-align: right;\">0</td><td style=\"text-align: right;\">0.00</td><td style=\"text-align: right;\">1</td><td style=\"text-align: right;\">0.89</td><td style=\"text-align: right;\">5</td><td style=\"text-align: right;\">2.00</td><td style=\"text-align: right;\">0</td><td style=\"text-align: right;\">0.00</td><td style=\"text-align: right;\">11</td><td style=\"text-align: right;\">3.04</td><td style=\"text-align: right;\">0</td><td style=\"text-align: right;\">0.00</td><td style=\"text-align: right;\">1</td><td style=\"text-align: right;\">0.45</td></tr>\n",
       "<tr class=\"even\"><td style=\"text-align: right;\">353570</td><td style=\"text-align: right;\">136,039,834</td><td style=\"text-align: right;\">309,728</td><td style=\"text-align: right;\">7</td><td style=\"text-align: right;\">20</td><td style=\"text-align: right;\">1.00</td><td style=\"text-align: right;\">20</td><td style=\"text-align: right;\">1.00</td><td style=\"text-align: right;\">1</td><td style=\"text-align: right;\">0.25</td><td style=\"text-align: right;\">1</td><td style=\"text-align: right;\">0.80</td><td style=\"text-align: right;\">5</td><td style=\"text-align: right;\">1.80</td><td style=\"text-align: right;\">0</td><td style=\"text-align: right;\">0.00</td><td style=\"text-align: right;\">12</td><td style=\"text-align: right;\">2.99</td><td style=\"text-align: right;\">0</td><td style=\"text-align: right;\">0.00</td><td style=\"text-align: right;\">1</td><td style=\"text-align: right;\">0.41</td></tr>\n",
       "</table>"
      ],
      "text/plain": [
       "<IPython.core.display.HTML object>"
      ]
     },
     "execution_count": 25,
     "metadata": {},
     "output_type": "execute_result"
    }
   ],
   "source": [
    "HTML(plt_obj.get_html())"
   ]
  }
 ],
 "metadata": {
  "anaconda-cloud": {},
  "kernelspec": {
   "display_name": "Python [Root]",
   "language": "python",
   "name": "Python [Root]"
  },
  "language_info": {
   "codemirror_mode": {
    "name": "ipython",
    "version": 2
   },
   "file_extension": ".py",
   "mimetype": "text/x-python",
   "name": "python",
   "nbconvert_exporter": "python",
   "pygments_lexer": "ipython2",
   "version": "2.7.12"
  }
 },
 "nbformat": 4,
 "nbformat_minor": 0
}
