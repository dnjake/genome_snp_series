{
 "cells": [
  {
   "cell_type": "markdown",
   "metadata": {},
   "source": [
    "[eur background](eur_background.ipynb)\n",
    "\n",
    "    Notebook explores a variety of low frequency associations that\n",
    "    include series that are part of the root of the EUR tree\n",
    "    \n",
    "[eur_root](eur_root.ipynb)\n",
    "\n",
    "    Notebook explores the series that form the root of the European tree\n",
    "    and the descendant series that have emerged from its root.\n",
    "    \n",
    "[eur root fragments](eur_root_fragments.ipynb)\n",
    "\n",
    "    Notebook that explores the root series and 64_1575 fragments expressed\n",
    "    by a number of samples that only express series that are part of the eur\n",
    "    root but have lost the series 64_1575 through some recombination event.\n",
    "    \n",
    "[series](series/)\n",
    "\n",
    "    Notebooks that document individual series"
   ]
  }
 ],
 "metadata": {
  "kernelspec": {
   "display_name": "Python [Root]",
   "language": "python",
   "name": "Python [Root]"
  },
  "language_info": {
   "codemirror_mode": {
    "name": "ipython",
    "version": 2
   },
   "file_extension": ".py",
   "mimetype": "text/x-python",
   "name": "python",
   "nbconvert_exporter": "python",
   "pygments_lexer": "ipython2",
   "version": "2.7.12"
  }
 },
 "nbformat": 4,
 "nbformat_minor": 0
}
