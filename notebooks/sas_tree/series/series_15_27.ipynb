{
 "cells": [
  {
   "cell_type": "code",
   "execution_count": 1,
   "metadata": {
    "collapsed": false
   },
   "outputs": [
    {
     "data": {
      "text/html": []
     },
     "metadata": {},
     "output_type": "display_data"
    },
    {
     "data": {
      "application/javascript": [
       "\n",
       "(function(global) {\n",
       "  function now() {\n",
       "    return new Date();\n",
       "  }\n",
       "\n",
       "  if (typeof (window._bokeh_onload_callbacks) === \"undefined\") {\n",
       "    window._bokeh_onload_callbacks = [];\n",
       "  }\n",
       "\n",
       "  function run_callbacks() {\n",
       "    window._bokeh_onload_callbacks.forEach(function(callback) { callback() });\n",
       "    delete window._bokeh_onload_callbacks\n",
       "    console.info(\"Bokeh: all callbacks have finished\");\n",
       "  }\n",
       "\n",
       "  function load_libs(js_urls, callback) {\n",
       "    window._bokeh_onload_callbacks.push(callback);\n",
       "    if (window._bokeh_is_loading > 0) {\n",
       "      console.log(\"Bokeh: BokehJS is being loaded, scheduling callback at\", now());\n",
       "      return null;\n",
       "    }\n",
       "    if (js_urls == null || js_urls.length === 0) {\n",
       "      run_callbacks();\n",
       "      return null;\n",
       "    }\n",
       "    console.log(\"Bokeh: BokehJS not loaded, scheduling load and callback at\", now());\n",
       "    window._bokeh_is_loading = js_urls.length;\n",
       "    for (var i = 0; i < js_urls.length; i++) {\n",
       "      var url = js_urls[i];\n",
       "      var s = document.createElement('script');\n",
       "      s.src = url;\n",
       "      s.async = false;\n",
       "      s.onreadystatechange = s.onload = function() {\n",
       "        window._bokeh_is_loading--;\n",
       "        if (window._bokeh_is_loading === 0) {\n",
       "          console.log(\"Bokeh: all BokehJS libraries loaded\");\n",
       "          run_callbacks()\n",
       "        }\n",
       "      };\n",
       "      s.onerror = function() {\n",
       "        console.warn(\"failed to load library \" + url);\n",
       "      };\n",
       "      console.log(\"Bokeh: injecting script tag for BokehJS library: \", url);\n",
       "      document.getElementsByTagName(\"head\")[0].appendChild(s);\n",
       "    }\n",
       "  };\n",
       "\n",
       "  var js_urls = ['https://cdn.pydata.org/bokeh/release/bokeh-0.12.0.min.js', 'https://cdn.pydata.org/bokeh/release/bokeh-widgets-0.12.0.min.js', 'https://cdn.pydata.org/bokeh/release/bokeh-compiler-0.12.0.min.js'];\n",
       "\n",
       "  var inline_js = [\n",
       "    function(Bokeh) {\n",
       "      Bokeh.set_log_level(\"info\");\n",
       "    },\n",
       "    \n",
       "    function(Bokeh) {\n",
       "      Bokeh.$(\"#5edeacfb-cecd-4374-b2c9-acb134679703\").text(\"BokehJS successfully loaded\");\n",
       "    },\n",
       "    function(Bokeh) {\n",
       "      console.log(\"Bokeh: injecting CSS: https://cdn.pydata.org/bokeh/release/bokeh-0.12.0.min.css\");\n",
       "      Bokeh.embed.inject_css(\"https://cdn.pydata.org/bokeh/release/bokeh-0.12.0.min.css\");\n",
       "      console.log(\"Bokeh: injecting CSS: https://cdn.pydata.org/bokeh/release/bokeh-widgets-0.12.0.min.css\");\n",
       "      Bokeh.embed.inject_css(\"https://cdn.pydata.org/bokeh/release/bokeh-widgets-0.12.0.min.css\");\n",
       "    }\n",
       "  ];\n",
       "\n",
       "  function run_inline_js() {\n",
       "    for (var i = 0; i < inline_js.length; i++) {\n",
       "      inline_js[i](window.Bokeh);\n",
       "    }\n",
       "  }\n",
       "\n",
       "  if (window._bokeh_is_loading === 0) {\n",
       "    console.log(\"Bokeh: BokehJS loaded, going straight to plotting\");\n",
       "    run_inline_js();\n",
       "  } else {\n",
       "    load_libs(js_urls, function() {\n",
       "      console.log(\"Bokeh: BokehJS plotting callback run at\", now());\n",
       "      run_inline_js();\n",
       "    });\n",
       "  }\n",
       "}(this));"
      ]
     },
     "metadata": {},
     "output_type": "display_data"
    }
   ],
   "source": [
    "import numpy as np\n",
    "from IPython.display import HTML\n",
    "from bokeh.plotting import output_notebook, show\n",
    "import genomes_dnj.lct_interval.series_plots as dm\n",
    "import genomes_dnj.lct_interval.anal_series as an\n",
    "import genomes_dnj.lct_interval_snp_anal.lct_interval_snp_anal as snp_anal\n",
    "import genomes_dnj.lct_interval.series_masks as sm\n",
    "output_notebook(hide_banner=True)\n",
    "di_15_27 = 353459\n",
    "sa_15_27 = snp_anal.series_anal_cls(di_15_27, sm.series_data)\n",
    "am_15_27 = dm.allele_mask_from_index(di_15_27)"
   ]
  },
  {
   "cell_type": "markdown",
   "metadata": {},
   "source": [
    "<h3>Series 15_27</h3>\n",
    "<div style=\"width:700px\">\n",
    "<p>\n",
    "This notebook documents the series 15_27 and its 15 SNPs.  The 1000 genomes data includes\n",
    "4966 samples that express none of its 15 SNPs and 27 samples that express all 15 of them.\n",
    "The 15 SNP series covers more than 834,000 DNA bases.  It is only expressed in South Asian\n",
    "populations.\n",
    "<p>\n",
    "The series 15_27 is a child of 14_57.  With the exception of one sample that has lost 14_57,\n",
    "all 27 samples express the same hierarchy of series across all of the studied region.\n",
    "</div>"
   ]
  },
  {
   "cell_type": "code",
   "execution_count": 2,
   "metadata": {
    "collapsed": false
   },
   "outputs": [
    {
     "data": {
      "text/html": [
       "<p>\n",
       "<b>15_27 series</b>\n",
       "</p><p>\n",
       "<table>\n",
       "<thead><tr><th style=\"text-align:center\">index</th><th style=\"text-align:center\">first</th><th style=\"text-align:center\">length</th><th style=\"text-align:center\">snps</th><th style=\"text-align:center\">alleles</th><th style=\"text-align:center\" colspan=2>afr</th><th style=\"text-align:center\" colspan=2>afx</th><th style=\"text-align:center\" colspan=2>amr</th><th style=\"text-align:center\" colspan=2>eas</th><th style=\"text-align:center\" colspan=2>eur</th><th style=\"text-align:center\" colspan=2>sas</th><th style=\"text-align:center\" colspan=2>sax</th></tr></thead>\n",
       "<tr class=\"even\"><td style=\"text-align: right;\">353459</td><td style=\"text-align: right;\">135,909,151</td><td style=\"text-align: right;\">834,668</td><td style=\"text-align: right;\">15</td><td style=\"text-align: right;\">27</td><td style=\"text-align: right;\">0</td><td style=\"text-align: right;\">0.00</td><td style=\"text-align: right;\">0</td><td style=\"text-align: right;\">0.00</td><td style=\"text-align: right;\">0</td><td style=\"text-align: right;\">0.00</td><td style=\"text-align: right;\">0</td><td style=\"text-align: right;\">0.00</td><td style=\"text-align: right;\">0</td><td style=\"text-align: right;\">0.00</td><td style=\"text-align: right;\">13</td><td style=\"text-align: right;\">6.62</td><td style=\"text-align: right;\">14</td><td style=\"text-align: right;\">4.23</td></tr>\n",
       "</table>\n",
       "</p>\n",
       "<p>\n",
       "<b>15_27 series snps</b>\n",
       "</p><p>\n",
       "<table>\n",
       "<thead><tr><th style=\"text-align:center\">index</th><th style=\"text-align:center\">pos</th><th style=\"text-align:center\">id</th><th style=\"text-align:center\">niv</th><th style=\"text-align:center\">alleles</th><th style=\"text-align:center\" colspan=2>afr</th><th style=\"text-align:center\" colspan=2>afx</th><th style=\"text-align:center\" colspan=2>amr</th><th style=\"text-align:center\" colspan=2>eas</th><th style=\"text-align:center\" colspan=2>eur</th><th style=\"text-align:center\" colspan=2>sas</th><th style=\"text-align:center\" colspan=2>sax</th></tr></thead>\n",
       "<tr class=\"even\"><td style=\"text-align: right;\">875776</td><td style=\"text-align: right;\">135,909,151</td><td>rs372113415</td><td>0</td><td style=\"text-align: right;\">31</td><td style=\"text-align: right;\">0</td><td style=\"text-align: right;\">0.00</td><td style=\"text-align: right;\">0</td><td style=\"text-align: right;\">0.00</td><td style=\"text-align: right;\">0</td><td style=\"text-align: right;\">0.00</td><td style=\"text-align: right;\">0</td><td style=\"text-align: right;\">0.00</td><td style=\"text-align: right;\">0</td><td style=\"text-align: right;\">0.00</td><td style=\"text-align: right;\">16</td><td style=\"text-align: right;\">7.10</td><td style=\"text-align: right;\">15</td><td style=\"text-align: right;\">3.95</td></tr>\n",
       "<tr><td style=\"text-align: right;\">875888</td><td style=\"text-align: right;\">135,936,211</td><td>rs368559535</td><td>0</td><td style=\"text-align: right;\">29</td><td style=\"text-align: right;\">0</td><td style=\"text-align: right;\">0.00</td><td style=\"text-align: right;\">0</td><td style=\"text-align: right;\">0.00</td><td style=\"text-align: right;\">0</td><td style=\"text-align: right;\">0.00</td><td style=\"text-align: right;\">0</td><td style=\"text-align: right;\">0.00</td><td style=\"text-align: right;\">0</td><td style=\"text-align: right;\">0.00</td><td style=\"text-align: right;\">15</td><td style=\"text-align: right;\">7.12</td><td style=\"text-align: right;\">14</td><td style=\"text-align: right;\">3.94</td></tr>\n",
       "<tr class=\"even\"><td style=\"text-align: right;\">875909</td><td style=\"text-align: right;\">135,941,821</td><td>.</td><td>0</td><td style=\"text-align: right;\">32</td><td style=\"text-align: right;\">0</td><td style=\"text-align: right;\">0.00</td><td style=\"text-align: right;\">0</td><td style=\"text-align: right;\">0.00</td><td style=\"text-align: right;\">0</td><td style=\"text-align: right;\">0.00</td><td style=\"text-align: right;\">2</td><td style=\"text-align: right;\">0.31</td><td style=\"text-align: right;\">0</td><td style=\"text-align: right;\">0.00</td><td style=\"text-align: right;\">16</td><td style=\"text-align: right;\">6.88</td><td style=\"text-align: right;\">14</td><td style=\"text-align: right;\">3.57</td></tr>\n",
       "<tr><td style=\"text-align: right;\">876031</td><td style=\"text-align: right;\">135,965,619</td><td>rs373612880</td><td>0</td><td style=\"text-align: right;\">29</td><td style=\"text-align: right;\">0</td><td style=\"text-align: right;\">0.00</td><td style=\"text-align: right;\">0</td><td style=\"text-align: right;\">0.00</td><td style=\"text-align: right;\">0</td><td style=\"text-align: right;\">0.00</td><td style=\"text-align: right;\">0</td><td style=\"text-align: right;\">0.00</td><td style=\"text-align: right;\">0</td><td style=\"text-align: right;\">0.00</td><td style=\"text-align: right;\">15</td><td style=\"text-align: right;\">7.12</td><td style=\"text-align: right;\">14</td><td style=\"text-align: right;\">3.94</td></tr>\n",
       "<tr class=\"even\"><td style=\"text-align: right;\">876151</td><td style=\"text-align: right;\">135,989,582</td><td>rs377540969</td><td>0</td><td style=\"text-align: right;\">31</td><td style=\"text-align: right;\">0</td><td style=\"text-align: right;\">0.00</td><td style=\"text-align: right;\">0</td><td style=\"text-align: right;\">0.00</td><td style=\"text-align: right;\">0</td><td style=\"text-align: right;\">0.00</td><td style=\"text-align: right;\">0</td><td style=\"text-align: right;\">0.00</td><td style=\"text-align: right;\">0</td><td style=\"text-align: right;\">0.00</td><td style=\"text-align: right;\">15</td><td style=\"text-align: right;\">6.66</td><td style=\"text-align: right;\">16</td><td style=\"text-align: right;\">4.21</td></tr>\n",
       "<tr><td style=\"text-align: right;\">876406</td><td style=\"text-align: right;\">136,036,308</td><td>rs368494735</td><td>0</td><td style=\"text-align: right;\">30</td><td style=\"text-align: right;\">0</td><td style=\"text-align: right;\">0.00</td><td style=\"text-align: right;\">0</td><td style=\"text-align: right;\">0.00</td><td style=\"text-align: right;\">0</td><td style=\"text-align: right;\">0.00</td><td style=\"text-align: right;\">0</td><td style=\"text-align: right;\">0.00</td><td style=\"text-align: right;\">0</td><td style=\"text-align: right;\">0.00</td><td style=\"text-align: right;\">15</td><td style=\"text-align: right;\">6.88</td><td style=\"text-align: right;\">15</td><td style=\"text-align: right;\">4.08</td></tr>\n",
       "<tr class=\"even\"><td style=\"text-align: right;\">877011</td><td style=\"text-align: right;\">136,147,135</td><td>rs367792208</td><td>0</td><td style=\"text-align: right;\">33</td><td style=\"text-align: right;\">0</td><td style=\"text-align: right;\">0.00</td><td style=\"text-align: right;\">0</td><td style=\"text-align: right;\">0.00</td><td style=\"text-align: right;\">0</td><td style=\"text-align: right;\">0.00</td><td style=\"text-align: right;\">3</td><td style=\"text-align: right;\">0.45</td><td style=\"text-align: right;\">0</td><td style=\"text-align: right;\">0.00</td><td style=\"text-align: right;\">15</td><td style=\"text-align: right;\">6.25</td><td style=\"text-align: right;\">15</td><td style=\"text-align: right;\">3.71</td></tr>\n",
       "<tr><td style=\"text-align: right;\">877364</td><td style=\"text-align: right;\">136,205,718</td><td>rs374883942</td><td>0</td><td style=\"text-align: right;\">30</td><td style=\"text-align: right;\">0</td><td style=\"text-align: right;\">0.00</td><td style=\"text-align: right;\">0</td><td style=\"text-align: right;\">0.00</td><td style=\"text-align: right;\">0</td><td style=\"text-align: right;\">0.00</td><td style=\"text-align: right;\">0</td><td style=\"text-align: right;\">0.00</td><td style=\"text-align: right;\">0</td><td style=\"text-align: right;\">0.00</td><td style=\"text-align: right;\">15</td><td style=\"text-align: right;\">6.88</td><td style=\"text-align: right;\">15</td><td style=\"text-align: right;\">4.08</td></tr>\n",
       "<tr class=\"even\"><td style=\"text-align: right;\">877519</td><td style=\"text-align: right;\">136,240,829</td><td>.</td><td>0</td><td style=\"text-align: right;\">30</td><td style=\"text-align: right;\">0</td><td style=\"text-align: right;\">0.00</td><td style=\"text-align: right;\">0</td><td style=\"text-align: right;\">0.00</td><td style=\"text-align: right;\">0</td><td style=\"text-align: right;\">0.00</td><td style=\"text-align: right;\">0</td><td style=\"text-align: right;\">0.00</td><td style=\"text-align: right;\">0</td><td style=\"text-align: right;\">0.00</td><td style=\"text-align: right;\">15</td><td style=\"text-align: right;\">6.88</td><td style=\"text-align: right;\">15</td><td style=\"text-align: right;\">4.08</td></tr>\n",
       "<tr><td style=\"text-align: right;\">878361</td><td style=\"text-align: right;\">136,430,802</td><td>rs373107142</td><td>0</td><td style=\"text-align: right;\">31</td><td style=\"text-align: right;\">0</td><td style=\"text-align: right;\">0.00</td><td style=\"text-align: right;\">0</td><td style=\"text-align: right;\">0.00</td><td style=\"text-align: right;\">0</td><td style=\"text-align: right;\">0.00</td><td style=\"text-align: right;\">1</td><td style=\"text-align: right;\">0.16</td><td style=\"text-align: right;\">0</td><td style=\"text-align: right;\">0.00</td><td style=\"text-align: right;\">15</td><td style=\"text-align: right;\">6.66</td><td style=\"text-align: right;\">15</td><td style=\"text-align: right;\">3.95</td></tr>\n",
       "<tr class=\"even\"><td style=\"text-align: right;\">878591</td><td style=\"text-align: right;\">136,480,836</td><td>rs373486531</td><td>0</td><td style=\"text-align: right;\">31</td><td style=\"text-align: right;\">0</td><td style=\"text-align: right;\">0.00</td><td style=\"text-align: right;\">0</td><td style=\"text-align: right;\">0.00</td><td style=\"text-align: right;\">0</td><td style=\"text-align: right;\">0.00</td><td style=\"text-align: right;\">1</td><td style=\"text-align: right;\">0.16</td><td style=\"text-align: right;\">0</td><td style=\"text-align: right;\">0.00</td><td style=\"text-align: right;\">15</td><td style=\"text-align: right;\">6.66</td><td style=\"text-align: right;\">15</td><td style=\"text-align: right;\">3.95</td></tr>\n",
       "<tr><td style=\"text-align: right;\">879005</td><td style=\"text-align: right;\">136,557,544</td><td>rs374383354</td><td>0</td><td style=\"text-align: right;\">31</td><td style=\"text-align: right;\">0</td><td style=\"text-align: right;\">0.00</td><td style=\"text-align: right;\">0</td><td style=\"text-align: right;\">0.00</td><td style=\"text-align: right;\">0</td><td style=\"text-align: right;\">0.00</td><td style=\"text-align: right;\">1</td><td style=\"text-align: right;\">0.16</td><td style=\"text-align: right;\">0</td><td style=\"text-align: right;\">0.00</td><td style=\"text-align: right;\">15</td><td style=\"text-align: right;\">6.66</td><td style=\"text-align: right;\">15</td><td style=\"text-align: right;\">3.95</td></tr>\n",
       "<tr class=\"even\"><td style=\"text-align: right;\">879537</td><td style=\"text-align: right;\">136,649,683</td><td>rs373734239</td><td>0</td><td style=\"text-align: right;\">32</td><td style=\"text-align: right;\">0</td><td style=\"text-align: right;\">0.00</td><td style=\"text-align: right;\">0</td><td style=\"text-align: right;\">0.00</td><td style=\"text-align: right;\">0</td><td style=\"text-align: right;\">0.00</td><td style=\"text-align: right;\">0</td><td style=\"text-align: right;\">0.00</td><td style=\"text-align: right;\">0</td><td style=\"text-align: right;\">0.00</td><td style=\"text-align: right;\">15</td><td style=\"text-align: right;\">6.45</td><td style=\"text-align: right;\">17</td><td style=\"text-align: right;\">4.33</td></tr>\n",
       "<tr><td style=\"text-align: right;\">879852</td><td style=\"text-align: right;\">136,711,179</td><td>rs371841980</td><td>0</td><td style=\"text-align: right;\">32</td><td style=\"text-align: right;\">0</td><td style=\"text-align: right;\">0.00</td><td style=\"text-align: right;\">0</td><td style=\"text-align: right;\">0.00</td><td style=\"text-align: right;\">0</td><td style=\"text-align: right;\">0.00</td><td style=\"text-align: right;\">0</td><td style=\"text-align: right;\">0.00</td><td style=\"text-align: right;\">0</td><td style=\"text-align: right;\">0.00</td><td style=\"text-align: right;\">15</td><td style=\"text-align: right;\">6.45</td><td style=\"text-align: right;\">17</td><td style=\"text-align: right;\">4.33</td></tr>\n",
       "<tr class=\"even\"><td style=\"text-align: right;\">880025</td><td style=\"text-align: right;\">136,743,819</td><td>rs373294731</td><td>0</td><td style=\"text-align: right;\">32</td><td style=\"text-align: right;\">0</td><td style=\"text-align: right;\">0.00</td><td style=\"text-align: right;\">0</td><td style=\"text-align: right;\">0.00</td><td style=\"text-align: right;\">0</td><td style=\"text-align: right;\">0.00</td><td style=\"text-align: right;\">0</td><td style=\"text-align: right;\">0.00</td><td style=\"text-align: right;\">0</td><td style=\"text-align: right;\">0.00</td><td style=\"text-align: right;\">15</td><td style=\"text-align: right;\">6.45</td><td style=\"text-align: right;\">17</td><td style=\"text-align: right;\">4.33</td></tr>\n",
       "</table>"
      ],
      "text/plain": [
       "<IPython.core.display.HTML object>"
      ]
     },
     "execution_count": 2,
     "metadata": {},
     "output_type": "execute_result"
    }
   ],
   "source": [
    "HTML(dm.series_html(di_15_27))"
   ]
  },
  {
   "cell_type": "code",
   "execution_count": 3,
   "metadata": {
    "collapsed": false
   },
   "outputs": [
    {
     "data": {
      "text/html": [
       "<table>\n",
       "<thead><tr><th style=\"text-align:center\">index</th><th style=\"text-align:center\">first</th><th style=\"text-align:center\">length</th><th style=\"text-align:center\">snps</th><th style=\"text-align:center\" colspan=2>alleles</th><th style=\"text-align:center\" colspan=2>matches</th><th style=\"text-align:center\" colspan=2>afr</th><th style=\"text-align:center\" colspan=2>afx</th><th style=\"text-align:center\" colspan=2>amr</th><th style=\"text-align:center\" colspan=2>eas</th><th style=\"text-align:center\" colspan=2>eur</th><th style=\"text-align:center\" colspan=2>sas</th><th style=\"text-align:center\" colspan=2>sax</th></tr></thead>\n",
       "<tr class=\"even\"><td style=\"text-align: right;\">353244</td><td style=\"text-align: right;\">135,758,231</td><td style=\"text-align: right;\">618,284</td><td style=\"text-align: right;\">117</td><td style=\"text-align: right;\">1685</td><td style=\"text-align: right;\">0.02</td><td style=\"text-align: right;\">27</td><td style=\"text-align: right;\">1.00</td><td style=\"text-align: right;\">0</td><td style=\"text-align: right;\">0.00</td><td style=\"text-align: right;\">0</td><td style=\"text-align: right;\">0.00</td><td style=\"text-align: right;\">0</td><td style=\"text-align: right;\">0.00</td><td style=\"text-align: right;\">0</td><td style=\"text-align: right;\">0.00</td><td style=\"text-align: right;\">0</td><td style=\"text-align: right;\">0.00</td><td style=\"text-align: right;\">13</td><td style=\"text-align: right;\">6.62</td><td style=\"text-align: right;\">14</td><td style=\"text-align: right;\">4.23</td></tr>\n",
       "<tr><td style=\"text-align: right;\">353478</td><td style=\"text-align: right;\">135,933,921</td><td style=\"text-align: right;\">434,642</td><td style=\"text-align: right;\">123</td><td style=\"text-align: right;\">1561</td><td style=\"text-align: right;\">0.02</td><td style=\"text-align: right;\">27</td><td style=\"text-align: right;\">1.00</td><td style=\"text-align: right;\">0</td><td style=\"text-align: right;\">0.00</td><td style=\"text-align: right;\">0</td><td style=\"text-align: right;\">0.00</td><td style=\"text-align: right;\">0</td><td style=\"text-align: right;\">0.00</td><td style=\"text-align: right;\">0</td><td style=\"text-align: right;\">0.00</td><td style=\"text-align: right;\">0</td><td style=\"text-align: right;\">0.00</td><td style=\"text-align: right;\">13</td><td style=\"text-align: right;\">6.62</td><td style=\"text-align: right;\">14</td><td style=\"text-align: right;\">4.23</td></tr>\n",
       "<tr class=\"even\"><td style=\"text-align: right;\">353925</td><td style=\"text-align: right;\">136,506,375</td><td style=\"text-align: right;\">32,564</td><td style=\"text-align: right;\">4</td><td style=\"text-align: right;\">1442</td><td style=\"text-align: right;\">0.02</td><td style=\"text-align: right;\">27</td><td style=\"text-align: right;\">1.00</td><td style=\"text-align: right;\">0</td><td style=\"text-align: right;\">0.00</td><td style=\"text-align: right;\">0</td><td style=\"text-align: right;\">0.00</td><td style=\"text-align: right;\">0</td><td style=\"text-align: right;\">0.00</td><td style=\"text-align: right;\">0</td><td style=\"text-align: right;\">0.00</td><td style=\"text-align: right;\">0</td><td style=\"text-align: right;\">0.00</td><td style=\"text-align: right;\">13</td><td style=\"text-align: right;\">6.62</td><td style=\"text-align: right;\">14</td><td style=\"text-align: right;\">4.23</td></tr>\n",
       "<tr><td style=\"text-align: right;\">353958</td><td style=\"text-align: right;\">136,535,876</td><td style=\"text-align: right;\">19,014</td><td style=\"text-align: right;\">7</td><td style=\"text-align: right;\">1303</td><td style=\"text-align: right;\">0.02</td><td style=\"text-align: right;\">27</td><td style=\"text-align: right;\">1.00</td><td style=\"text-align: right;\">0</td><td style=\"text-align: right;\">0.00</td><td style=\"text-align: right;\">0</td><td style=\"text-align: right;\">0.00</td><td style=\"text-align: right;\">0</td><td style=\"text-align: right;\">0.00</td><td style=\"text-align: right;\">0</td><td style=\"text-align: right;\">0.00</td><td style=\"text-align: right;\">0</td><td style=\"text-align: right;\">0.00</td><td style=\"text-align: right;\">13</td><td style=\"text-align: right;\">6.62</td><td style=\"text-align: right;\">14</td><td style=\"text-align: right;\">4.23</td></tr>\n",
       "<tr class=\"even\"><td style=\"text-align: right;\">353269</td><td style=\"text-align: right;\">135,766,890</td><td style=\"text-align: right;\">509,095</td><td style=\"text-align: right;\">62</td><td style=\"text-align: right;\">1265</td><td style=\"text-align: right;\">0.02</td><td style=\"text-align: right;\">27</td><td style=\"text-align: right;\">1.00</td><td style=\"text-align: right;\">0</td><td style=\"text-align: right;\">0.00</td><td style=\"text-align: right;\">0</td><td style=\"text-align: right;\">0.00</td><td style=\"text-align: right;\">0</td><td style=\"text-align: right;\">0.00</td><td style=\"text-align: right;\">0</td><td style=\"text-align: right;\">0.00</td><td style=\"text-align: right;\">0</td><td style=\"text-align: right;\">0.00</td><td style=\"text-align: right;\">13</td><td style=\"text-align: right;\">6.62</td><td style=\"text-align: right;\">14</td><td style=\"text-align: right;\">4.23</td></tr>\n",
       "<tr><td style=\"text-align: right;\">353984</td><td style=\"text-align: right;\">136,556,805</td><td style=\"text-align: right;\">190,280</td><td style=\"text-align: right;\">39</td><td style=\"text-align: right;\">1014</td><td style=\"text-align: right;\">0.03</td><td style=\"text-align: right;\">27</td><td style=\"text-align: right;\">1.00</td><td style=\"text-align: right;\">0</td><td style=\"text-align: right;\">0.00</td><td style=\"text-align: right;\">0</td><td style=\"text-align: right;\">0.00</td><td style=\"text-align: right;\">0</td><td style=\"text-align: right;\">0.00</td><td style=\"text-align: right;\">0</td><td style=\"text-align: right;\">0.00</td><td style=\"text-align: right;\">0</td><td style=\"text-align: right;\">0.00</td><td style=\"text-align: right;\">13</td><td style=\"text-align: right;\">6.62</td><td style=\"text-align: right;\">14</td><td style=\"text-align: right;\">4.23</td></tr>\n",
       "<tr class=\"even\"><td style=\"text-align: right;\">353504</td><td style=\"text-align: right;\">135,964,764</td><td style=\"text-align: right;\">136,368</td><td style=\"text-align: right;\">6</td><td style=\"text-align: right;\">946</td><td style=\"text-align: right;\">0.03</td><td style=\"text-align: right;\">27</td><td style=\"text-align: right;\">1.00</td><td style=\"text-align: right;\">0</td><td style=\"text-align: right;\">0.00</td><td style=\"text-align: right;\">0</td><td style=\"text-align: right;\">0.00</td><td style=\"text-align: right;\">0</td><td style=\"text-align: right;\">0.00</td><td style=\"text-align: right;\">0</td><td style=\"text-align: right;\">0.00</td><td style=\"text-align: right;\">0</td><td style=\"text-align: right;\">0.00</td><td style=\"text-align: right;\">13</td><td style=\"text-align: right;\">6.62</td><td style=\"text-align: right;\">14</td><td style=\"text-align: right;\">4.23</td></tr>\n",
       "<tr><td style=\"text-align: right;\">353248</td><td style=\"text-align: right;\">135,759,095</td><td style=\"text-align: right;\">628,204</td><td style=\"text-align: right;\">193</td><td style=\"text-align: right;\">843</td><td style=\"text-align: right;\">0.03</td><td style=\"text-align: right;\">27</td><td style=\"text-align: right;\">1.00</td><td style=\"text-align: right;\">0</td><td style=\"text-align: right;\">0.00</td><td style=\"text-align: right;\">0</td><td style=\"text-align: right;\">0.00</td><td style=\"text-align: right;\">0</td><td style=\"text-align: right;\">0.00</td><td style=\"text-align: right;\">0</td><td style=\"text-align: right;\">0.00</td><td style=\"text-align: right;\">0</td><td style=\"text-align: right;\">0.00</td><td style=\"text-align: right;\">13</td><td style=\"text-align: right;\">6.62</td><td style=\"text-align: right;\">14</td><td style=\"text-align: right;\">4.23</td></tr>\n",
       "<tr class=\"even\"><td style=\"text-align: right;\">353788</td><td style=\"text-align: right;\">136,392,700</td><td style=\"text-align: right;\">158,106</td><td style=\"text-align: right;\">55</td><td style=\"text-align: right;\">180</td><td style=\"text-align: right;\">0.15</td><td style=\"text-align: right;\">27</td><td style=\"text-align: right;\">1.00</td><td style=\"text-align: right;\">0</td><td style=\"text-align: right;\">0.00</td><td style=\"text-align: right;\">0</td><td style=\"text-align: right;\">0.00</td><td style=\"text-align: right;\">0</td><td style=\"text-align: right;\">0.00</td><td style=\"text-align: right;\">0</td><td style=\"text-align: right;\">0.00</td><td style=\"text-align: right;\">0</td><td style=\"text-align: right;\">0.00</td><td style=\"text-align: right;\">13</td><td style=\"text-align: right;\">6.62</td><td style=\"text-align: right;\">14</td><td style=\"text-align: right;\">4.23</td></tr>\n",
       "<tr><td style=\"text-align: right;\">353285</td><td style=\"text-align: right;\">135,772,482</td><td style=\"text-align: right;\">525,048</td><td style=\"text-align: right;\">7</td><td style=\"text-align: right;\">90</td><td style=\"text-align: right;\">0.30</td><td style=\"text-align: right;\">27</td><td style=\"text-align: right;\">1.00</td><td style=\"text-align: right;\">0</td><td style=\"text-align: right;\">0.00</td><td style=\"text-align: right;\">0</td><td style=\"text-align: right;\">0.00</td><td style=\"text-align: right;\">0</td><td style=\"text-align: right;\">0.00</td><td style=\"text-align: right;\">0</td><td style=\"text-align: right;\">0.00</td><td style=\"text-align: right;\">0</td><td style=\"text-align: right;\">0.00</td><td style=\"text-align: right;\">13</td><td style=\"text-align: right;\">6.62</td><td style=\"text-align: right;\">14</td><td style=\"text-align: right;\">4.23</td></tr>\n",
       "<tr class=\"even\"><td style=\"text-align: right;\">353355</td><td style=\"text-align: right;\">135,814,490</td><td style=\"text-align: right;\">711,812</td><td style=\"text-align: right;\">14</td><td style=\"text-align: right;\">57</td><td style=\"text-align: right;\">0.46</td><td style=\"text-align: right;\">26</td><td style=\"text-align: right;\">0.96</td><td style=\"text-align: right;\">0</td><td style=\"text-align: right;\">0.00</td><td style=\"text-align: right;\">0</td><td style=\"text-align: right;\">0.00</td><td style=\"text-align: right;\">0</td><td style=\"text-align: right;\">0.00</td><td style=\"text-align: right;\">0</td><td style=\"text-align: right;\">0.00</td><td style=\"text-align: right;\">0</td><td style=\"text-align: right;\">0.00</td><td style=\"text-align: right;\">13</td><td style=\"text-align: right;\">6.88</td><td style=\"text-align: right;\">13</td><td style=\"text-align: right;\">4.08</td></tr>\n",
       "<tr><td style=\"text-align: right;\">353459</td><td style=\"text-align: right;\">135,909,151</td><td style=\"text-align: right;\">834,668</td><td style=\"text-align: right;\">15</td><td style=\"text-align: right;\">27</td><td style=\"text-align: right;\">1.00</td><td style=\"text-align: right;\">27</td><td style=\"text-align: right;\">1.00</td><td style=\"text-align: right;\">0</td><td style=\"text-align: right;\">0.00</td><td style=\"text-align: right;\">0</td><td style=\"text-align: right;\">0.00</td><td style=\"text-align: right;\">0</td><td style=\"text-align: right;\">0.00</td><td style=\"text-align: right;\">0</td><td style=\"text-align: right;\">0.00</td><td style=\"text-align: right;\">0</td><td style=\"text-align: right;\">0.00</td><td style=\"text-align: right;\">13</td><td style=\"text-align: right;\">6.62</td><td style=\"text-align: right;\">14</td><td style=\"text-align: right;\">4.23</td></tr>\n",
       "</table>"
      ],
      "text/plain": [
       "<IPython.core.display.HTML object>"
      ]
     },
     "execution_count": 3,
     "metadata": {},
     "output_type": "execute_result"
    }
   ],
   "source": [
    "plt_obj = dm.superset_yes_no([di_15_27], min_match=0.001)\n",
    "plt_obj.do_plot()\n",
    "HTML(plt_obj.get_html())"
   ]
  },
  {
   "cell_type": "code",
   "execution_count": 4,
   "metadata": {
    "collapsed": false
   },
   "outputs": [
    {
     "data": {
      "text/plain": [
       "array([(0, 4966), (1, 6), (2, 2), (3, 3), (5, 1), (10, 1), (12, 1),\n",
       "       (13, 1), (15, 27)], \n",
       "      dtype=[('count', '<u2'), ('snps', '<u2')])"
      ]
     },
     "execution_count": 4,
     "metadata": {},
     "output_type": "execute_result"
    }
   ],
   "source": [
    "count_data = sa_15_27.unique_snps_per_allele()\n",
    "count_data"
   ]
  },
  {
   "cell_type": "code",
   "execution_count": 5,
   "metadata": {
    "collapsed": false
   },
   "outputs": [
    {
     "data": {
      "text/html": [
       "\n",
       "\n",
       "    <div class=\"bk-root\">\n",
       "        <div class=\"plotdiv\" id=\"7301f187-c13b-4977-ac77-981748e1e176\"></div>\n",
       "    </div>\n",
       "<script type=\"text/javascript\">\n",
       "  \n",
       "  (function(global) {\n",
       "    function now() {\n",
       "      return new Date();\n",
       "    }\n",
       "  \n",
       "    if (typeof (window._bokeh_onload_callbacks) === \"undefined\") {\n",
       "      window._bokeh_onload_callbacks = [];\n",
       "    }\n",
       "  \n",
       "    function run_callbacks() {\n",
       "      window._bokeh_onload_callbacks.forEach(function(callback) { callback() });\n",
       "      delete window._bokeh_onload_callbacks\n",
       "      console.info(\"Bokeh: all callbacks have finished\");\n",
       "    }\n",
       "  \n",
       "    function load_libs(js_urls, callback) {\n",
       "      window._bokeh_onload_callbacks.push(callback);\n",
       "      if (window._bokeh_is_loading > 0) {\n",
       "        console.log(\"Bokeh: BokehJS is being loaded, scheduling callback at\", now());\n",
       "        return null;\n",
       "      }\n",
       "      if (js_urls == null || js_urls.length === 0) {\n",
       "        run_callbacks();\n",
       "        return null;\n",
       "      }\n",
       "      console.log(\"Bokeh: BokehJS not loaded, scheduling load and callback at\", now());\n",
       "      window._bokeh_is_loading = js_urls.length;\n",
       "      for (var i = 0; i < js_urls.length; i++) {\n",
       "        var url = js_urls[i];\n",
       "        var s = document.createElement('script');\n",
       "        s.src = url;\n",
       "        s.async = false;\n",
       "        s.onreadystatechange = s.onload = function() {\n",
       "          window._bokeh_is_loading--;\n",
       "          if (window._bokeh_is_loading === 0) {\n",
       "            console.log(\"Bokeh: all BokehJS libraries loaded\");\n",
       "            run_callbacks()\n",
       "          }\n",
       "        };\n",
       "        s.onerror = function() {\n",
       "          console.warn(\"failed to load library \" + url);\n",
       "        };\n",
       "        console.log(\"Bokeh: injecting script tag for BokehJS library: \", url);\n",
       "        document.getElementsByTagName(\"head\")[0].appendChild(s);\n",
       "      }\n",
       "    };var element = document.getElementById(\"7301f187-c13b-4977-ac77-981748e1e176\");\n",
       "    if (element == null) {\n",
       "      console.log(\"Bokeh: ERROR: autoload.js configured with elementid '7301f187-c13b-4977-ac77-981748e1e176' but no matching script tag was found. \")\n",
       "      return false;\n",
       "    }\n",
       "  \n",
       "    var js_urls = [];\n",
       "  \n",
       "    var inline_js = [\n",
       "      function(Bokeh) {\n",
       "        Bokeh.$(function() {\n",
       "            var docs_json = {\"d05376c5-c764-42a9-90d8-0d18b1ca995e\":{\"roots\":{\"references\":[{\"attributes\":{\"formatter\":{\"id\":\"a8c3f149-7766-4f18-a4c0-89fbb7c1353d\",\"type\":\"BasicTickFormatter\"},\"plot\":{\"id\":\"a19c4dac-516c-4a60-a33a-062b217ae2d3\",\"subtype\":\"Figure\",\"type\":\"Plot\"},\"ticker\":{\"id\":\"6fad1441-90e4-43a2-8214-5dbf7628f9ce\",\"type\":\"BasicTicker\"},\"visible\":null},\"id\":\"6ebf5f9d-1e52-48ce-8242-b7ea47486b89\",\"type\":\"LinearAxis\"},{\"attributes\":{\"dimension\":1,\"plot\":{\"id\":\"a19c4dac-516c-4a60-a33a-062b217ae2d3\",\"subtype\":\"Figure\",\"type\":\"Plot\"},\"ticker\":{\"id\":\"6fad1441-90e4-43a2-8214-5dbf7628f9ce\",\"type\":\"BasicTicker\"}},\"id\":\"12550ba0-ad43-45e8-9e51-2207c22f61ca\",\"type\":\"Grid\"},{\"attributes\":{\"plot\":{\"id\":\"a19c4dac-516c-4a60-a33a-062b217ae2d3\",\"subtype\":\"Figure\",\"type\":\"Plot\"}},\"id\":\"ad9c0026-704d-4340-9c45-a17315d6f4bf\",\"type\":\"ResetTool\"},{\"attributes\":{\"level\":\"glyph\",\"plot\":{\"id\":\"a19c4dac-516c-4a60-a33a-062b217ae2d3\",\"subtype\":\"Figure\",\"type\":\"Plot\"},\"source\":{\"id\":\"0ce92964-ceca-4da7-b8fe-6a294a471176\",\"type\":\"ColumnDataSource\"},\"text\":{\"field\":\"vals\"},\"text_align\":\"center\",\"text_baseline\":\"middle\",\"text_font_size\":{\"value\":\"8pt\"},\"x\":{\"field\":\"x\"},\"y\":{\"field\":\"y\"}},\"id\":\"ba656c26-f881-4adf-ac1c-104870d534f9\",\"type\":\"LabelSet\"},{\"attributes\":{\"overlay\":{\"id\":\"f103d44d-6f70-4b93-9702-d2078366adfb\",\"type\":\"BoxAnnotation\"},\"plot\":{\"id\":\"a19c4dac-516c-4a60-a33a-062b217ae2d3\",\"subtype\":\"Figure\",\"type\":\"Plot\"}},\"id\":\"cd1fe6ee-1e9d-41d6-a9e2-a467cee43a77\",\"type\":\"BoxZoomTool\"},{\"attributes\":{},\"id\":\"a8c3f149-7766-4f18-a4c0-89fbb7c1353d\",\"type\":\"BasicTickFormatter\"},{\"attributes\":{\"plot\":{\"id\":\"a19c4dac-516c-4a60-a33a-062b217ae2d3\",\"subtype\":\"Figure\",\"type\":\"Plot\"}},\"id\":\"098a3f7b-2e43-4dcf-98c1-68988c90fb6a\",\"type\":\"HelpTool\"},{\"attributes\":{\"data_source\":{\"id\":\"c6e2ca87-7843-47ed-8426-7e6939a03d31\",\"type\":\"ColumnDataSource\"},\"glyph\":{\"id\":\"dfc02375-c580-4f60-aab0-1d139cafb867\",\"type\":\"MultiLine\"},\"hover_glyph\":null,\"nonselection_glyph\":{\"id\":\"e7da63dc-eec1-497d-bb11-1b9502820a0a\",\"type\":\"MultiLine\"},\"selection_glyph\":null},\"id\":\"0397f580-2ac5-4607-b137-5f2b2086583f\",\"type\":\"GlyphRenderer\"},{\"attributes\":{\"line_alpha\":{\"value\":0.1},\"line_color\":{\"value\":\"#1f77b4\"},\"xs\":{\"field\":\"xs\"},\"ys\":{\"field\":\"ys\"}},\"id\":\"e7da63dc-eec1-497d-bb11-1b9502820a0a\",\"type\":\"MultiLine\"},{\"attributes\":{\"plot\":{\"id\":\"a19c4dac-516c-4a60-a33a-062b217ae2d3\",\"subtype\":\"Figure\",\"type\":\"Plot\"},\"ticker\":{\"id\":\"11586b82-76d2-407e-9788-3a101b6629a0\",\"type\":\"BasicTicker\"}},\"id\":\"74c43222-6f96-488c-a580-0369b0b48959\",\"type\":\"Grid\"},{\"attributes\":{\"plot\":{\"id\":\"a19c4dac-516c-4a60-a33a-062b217ae2d3\",\"subtype\":\"Figure\",\"type\":\"Plot\"}},\"id\":\"d4b9faf5-67b3-4865-939a-622d5c8bc2a8\",\"type\":\"SaveTool\"},{\"attributes\":{\"data_source\":{\"id\":\"f60b3b9b-c588-47e6-9c73-af99593459d5\",\"type\":\"ColumnDataSource\"},\"glyph\":{\"id\":\"b2a572a6-2085-4d62-92a4-284ae7a15296\",\"type\":\"Quad\"},\"hover_glyph\":null,\"nonselection_glyph\":{\"id\":\"732b7dbb-f5cf-46e1-8952-01003b9adc5c\",\"type\":\"Quad\"},\"selection_glyph\":null},\"id\":\"b60b740a-7312-47d0-878c-562cb79e68d3\",\"type\":\"GlyphRenderer\"},{\"attributes\":{\"plot\":null,\"text\":null},\"id\":\"c866bf0a-edf3-408b-81c0-c17d3c974281\",\"type\":\"Title\"},{\"attributes\":{\"callback\":null,\"end\":900},\"id\":\"2a4b2997-26b9-4130-bcaa-84b147ed2dd8\",\"type\":\"Range1d\"},{\"attributes\":{\"bottom_units\":\"screen\",\"fill_alpha\":{\"value\":0.5},\"fill_color\":{\"value\":\"lightgrey\"},\"left_units\":\"screen\",\"level\":\"overlay\",\"line_alpha\":{\"value\":1.0},\"line_color\":{\"value\":\"black\"},\"line_dash\":[4,4],\"line_width\":{\"value\":2},\"plot\":null,\"render_mode\":\"css\",\"right_units\":\"screen\",\"top_units\":\"screen\"},\"id\":\"f103d44d-6f70-4b93-9702-d2078366adfb\",\"type\":\"BoxAnnotation\"},{\"attributes\":{\"bottom\":{\"field\":\"bottom\"},\"fill_color\":{\"value\":\"white\"},\"left\":{\"field\":\"left\"},\"right\":{\"field\":\"right\"},\"top\":{\"field\":\"top\"}},\"id\":\"41d5ba4c-bf76-4cba-aa45-facffa8d9df8\",\"type\":\"Quad\"},{\"attributes\":{\"callback\":null,\"end\":136786630,\"start\":135757320},\"id\":\"67694cba-a28c-487c-8a87-2e41fde05168\",\"type\":\"Range1d\"},{\"attributes\":{\"formatter\":{\"id\":\"7f5a4489-c152-4091-b2c1-f09729e54208\",\"type\":\"BasicTickFormatter\"},\"plot\":{\"id\":\"a19c4dac-516c-4a60-a33a-062b217ae2d3\",\"subtype\":\"Figure\",\"type\":\"Plot\"},\"ticker\":{\"id\":\"11586b82-76d2-407e-9788-3a101b6629a0\",\"type\":\"BasicTicker\"}},\"id\":\"902e4e12-1de9-49c9-b554-f71ba41b35a3\",\"type\":\"LinearAxis\"},{\"attributes\":{\"data_source\":{\"id\":\"3ec7cacb-5a29-4c7c-bf0e-af5cc19aa93b\",\"type\":\"ColumnDataSource\"},\"glyph\":{\"id\":\"41d5ba4c-bf76-4cba-aa45-facffa8d9df8\",\"type\":\"Quad\"},\"hover_glyph\":null,\"nonselection_glyph\":{\"id\":\"b0e4dcde-2518-4ef3-b4fe-22bea39b7e37\",\"type\":\"Quad\"},\"selection_glyph\":null},\"id\":\"7d961898-74c6-480c-924d-d4fcfd141020\",\"type\":\"GlyphRenderer\"},{\"attributes\":{\"bottom\":{\"field\":\"bottom\"},\"fill_alpha\":{\"value\":0.1},\"fill_color\":{\"value\":\"#1f77b4\"},\"left\":{\"field\":\"left\"},\"line_alpha\":{\"value\":0.1},\"line_color\":{\"value\":\"#1f77b4\"},\"right\":{\"field\":\"right\"},\"top\":{\"field\":\"top\"}},\"id\":\"732b7dbb-f5cf-46e1-8952-01003b9adc5c\",\"type\":\"Quad\"},{\"attributes\":{\"callback\":null,\"column_names\":[\"right\",\"bottom\",\"top\",\"left\",\"fill_color\"],\"data\":{\"bottom\":[750,350,550,250,150,50,650,450,350,650,550,450],\"fill_color\":[\"#808080\",\"#61c4c4\",\"#808080\",\"#61c4c4\",\"#00ffff\",\"#00ffff\",\"#c46161\",\"#61c4c4\",\"#c46161\",\"#808080\",\"#808080\",\"#808080\"],\"left\":[135758231,135759095,135766890,135772482,135814490,135909151,135933921,135964764,136392700,136506375,136535876,136556805],\"right\":[136376515,136387299,136275985,136297530,136526302,136743819,136368563,136101132,136550806,136538939,136554890,136747085],\"top\":[796,390,593,270,166,60,695,491,376,694,594,491]}},\"id\":\"f60b3b9b-c588-47e6-9c73-af99593459d5\",\"type\":\"ColumnDataSource\"},{\"attributes\":{\"below\":[{\"id\":\"902e4e12-1de9-49c9-b554-f71ba41b35a3\",\"type\":\"LinearAxis\"}],\"left\":[{\"id\":\"6ebf5f9d-1e52-48ce-8242-b7ea47486b89\",\"type\":\"LinearAxis\"}],\"plot_height\":900,\"plot_width\":900,\"renderers\":[{\"id\":\"902e4e12-1de9-49c9-b554-f71ba41b35a3\",\"type\":\"LinearAxis\"},{\"id\":\"74c43222-6f96-488c-a580-0369b0b48959\",\"type\":\"Grid\"},{\"id\":\"6ebf5f9d-1e52-48ce-8242-b7ea47486b89\",\"type\":\"LinearAxis\"},{\"id\":\"12550ba0-ad43-45e8-9e51-2207c22f61ca\",\"type\":\"Grid\"},{\"id\":\"f103d44d-6f70-4b93-9702-d2078366adfb\",\"type\":\"BoxAnnotation\"},{\"id\":\"b60b740a-7312-47d0-878c-562cb79e68d3\",\"type\":\"GlyphRenderer\"},{\"id\":\"0397f580-2ac5-4607-b137-5f2b2086583f\",\"type\":\"GlyphRenderer\"},{\"id\":\"c9345cc9-d16a-4c33-8698-19ff2cded23c\",\"type\":\"LabelSet\"},{\"id\":\"7d961898-74c6-480c-924d-d4fcfd141020\",\"type\":\"GlyphRenderer\"},{\"id\":\"ba656c26-f881-4adf-ac1c-104870d534f9\",\"type\":\"LabelSet\"}],\"title\":{\"id\":\"c866bf0a-edf3-408b-81c0-c17d3c974281\",\"type\":\"Title\"},\"tool_events\":{\"id\":\"0808ca01-4489-437e-a889-259f350c6be5\",\"type\":\"ToolEvents\"},\"toolbar\":{\"id\":\"a45d8075-1be9-4334-a76c-e060746afdb1\",\"type\":\"Toolbar\"},\"toolbar_location\":null,\"x_range\":{\"id\":\"67694cba-a28c-487c-8a87-2e41fde05168\",\"type\":\"Range1d\"},\"y_range\":{\"id\":\"2a4b2997-26b9-4130-bcaa-84b147ed2dd8\",\"type\":\"Range1d\"}},\"id\":\"a19c4dac-516c-4a60-a33a-062b217ae2d3\",\"subtype\":\"Figure\",\"type\":\"Plot\"},{\"attributes\":{\"callback\":null,\"column_names\":[\"y\",\"x\",\"vals\"],\"data\":{\"vals\":[\"RAB3GAP1\",\"ZRANB3\",\"R3HDM1\",\"UBXN4\",\"LCT\",\"MCM6\",\"DARS\"],\"x\":[135869057.0,136122878.0,136385961.0,136520911.0,136570082.5,136615621.5,136703738.0],\"y\":[860.0,860.0,860.0,860.0,860.0,860.0,860.0]}},\"id\":\"0ce92964-ceca-4da7-b8fe-6a294a471176\",\"type\":\"ColumnDataSource\"},{\"attributes\":{\"active_drag\":\"auto\",\"active_scroll\":\"auto\",\"active_tap\":\"auto\",\"tools\":[{\"id\":\"18401980-e1e3-463e-90c7-4c4bab4b067b\",\"type\":\"PanTool\"},{\"id\":\"e493d520-4443-43a1-a02e-2f633ab5e45a\",\"type\":\"WheelZoomTool\"},{\"id\":\"cd1fe6ee-1e9d-41d6-a9e2-a467cee43a77\",\"type\":\"BoxZoomTool\"},{\"id\":\"d4b9faf5-67b3-4865-939a-622d5c8bc2a8\",\"type\":\"SaveTool\"},{\"id\":\"ad9c0026-704d-4340-9c45-a17315d6f4bf\",\"type\":\"ResetTool\"},{\"id\":\"098a3f7b-2e43-4dcf-98c1-68988c90fb6a\",\"type\":\"HelpTool\"}]},\"id\":\"a45d8075-1be9-4334-a76c-e060746afdb1\",\"type\":\"Toolbar\"},{\"attributes\":{\"callback\":null,\"column_names\":[\"right\",\"bottom\",\"top\",\"left\"],\"data\":{\"bottom\":[845,845,845,845,845,845,845],\"left\":[135809835,135957574,136289083,136499189,136545415,136597196,136664254],\"right\":[135928279,136288182,136482839,136542633,136594750,136634047,136743222],\"top\":[875,875,875,875,875,875,875]}},\"id\":\"3ec7cacb-5a29-4c7c-bf0e-af5cc19aa93b\",\"type\":\"ColumnDataSource\"},{\"attributes\":{},\"id\":\"7f5a4489-c152-4091-b2c1-f09729e54208\",\"type\":\"BasicTickFormatter\"},{\"attributes\":{},\"id\":\"6fad1441-90e4-43a2-8214-5dbf7628f9ce\",\"type\":\"BasicTicker\"},{\"attributes\":{\"callback\":null,\"column_names\":[\"y\",\"x\",\"vals\"],\"data\":{\"vals\":[\"117_1685\",\"193_843\",\"62_1265\",\"7_90\",\"14_57\",\"15_27\",\"123_1561\",\"6_946\",\"55_180\",\"4_1442\",\"7_1303\",\"39_1014\"],\"x\":[135758231,135759095,135766890,135772482,135814490,135909151,135933921,135964764,136392700,136506375,136535876,136556805],\"y\":[801.0,395.0,598.0,275.0,171.0,65.0,700.0,496.0,381.0,699.0,599.0,496.0]}},\"id\":\"f6a557a5-7c58-4ec4-88a1-b1a5acd51125\",\"type\":\"ColumnDataSource\"},{\"attributes\":{\"callback\":null,\"column_names\":[\"xs\",\"ys\",\"line_color\"],\"data\":{\"line_color\":[\"black\",\"black\",\"black\",\"black\",\"black\",\"black\",\"black\",\"black\",\"black\",\"black\",\"black\",\"black\",\"black\",\"black\",\"black\",\"black\",\"black\",\"black\",\"black\",\"black\",\"black\",\"black\",\"black\",\"black\",\"black\",\"black\",\"black\",\"black\",\"black\",\"black\",\"black\",\"black\",\"black\",\"black\",\"black\",\"black\",\"black\",\"black\",\"black\",\"black\",\"black\",\"black\",\"black\",\"black\",\"black\",\"black\",\"black\",\"black\",\"black\",\"black\",\"black\",\"black\",\"black\",\"black\",\"black\",\"black\",\"black\",\"black\",\"black\",\"black\",\"black\",\"black\",\"black\",\"black\",\"black\",\"black\",\"black\",\"black\",\"black\",\"black\",\"black\",\"black\",\"black\",\"black\",\"black\",\"black\",\"black\",\"black\",\"black\",\"black\",\"black\",\"black\",\"black\",\"black\",\"black\",\"black\",\"black\",\"black\",\"black\",\"black\",\"black\",\"black\",\"black\",\"black\",\"black\",\"black\",\"black\",\"black\",\"black\",\"black\",\"black\",\"black\",\"black\",\"black\",\"black\",\"black\",\"black\",\"black\",\"black\",\"black\",\"black\",\"black\",\"black\",\"black\",\"black\",\"black\",\"black\",\"black\",\"black\",\"black\",\"black\",\"black\",\"black\",\"black\",\"black\",\"black\",\"black\",\"black\",\"black\",\"black\",\"black\",\"black\",\"black\",\"black\",\"black\",\"black\",\"black\",\"black\",\"black\",\"black\",\"black\",\"black\",\"black\",\"black\",\"black\",\"black\",\"black\",\"black\",\"black\",\"black\",\"black\",\"black\",\"black\",\"black\",\"black\",\"black\",\"black\",\"black\",\"black\",\"black\",\"black\",\"black\",\"black\",\"black\",\"black\",\"black\",\"black\",\"black\",\"black\",\"black\",\"black\",\"black\",\"black\",\"black\",\"black\",\"black\",\"black\",\"black\",\"black\",\"black\",\"black\",\"black\",\"black\",\"black\",\"black\",\"black\",\"black\",\"black\",\"black\",\"black\",\"black\",\"black\",\"black\",\"black\",\"black\",\"black\",\"black\",\"black\",\"black\",\"black\",\"black\",\"black\",\"black\",\"black\",\"black\",\"black\",\"black\",\"black\",\"black\",\"black\",\"black\",\"black\",\"black\",\"black\",\"black\",\"black\",\"black\",\"black\",\"black\",\"black\",\"black\",\"black\",\"black\",\"black\",\"black\",\"black\",\"black\",\"black\",\"black\",\"black\",\"black\",\"black\",\"black\",\"black\",\"black\",\"black\",\"black\",\"black\",\"black\",\"black\",\"black\",\"black\",\"black\",\"black\",\"black\",\"black\",\"black\",\"black\",\"black\",\"black\",\"black\",\"black\",\"black\",\"black\",\"black\",\"black\",\"black\",\"black\",\"black\",\"black\",\"black\",\"black\",\"black\",\"black\",\"black\",\"black\",\"black\",\"black\",\"black\",\"black\",\"black\",\"black\",\"black\",\"black\",\"black\",\"black\",\"black\",\"black\",\"black\",\"black\",\"black\",\"black\",\"black\",\"black\",\"black\",\"black\",\"black\",\"black\",\"black\",\"black\",\"black\",\"black\",\"black\",\"black\",\"black\",\"black\",\"black\",\"black\",\"black\",\"black\",\"black\",\"black\",\"black\",\"black\",\"black\",\"black\",\"black\",\"black\",\"black\",\"black\",\"black\",\"black\",\"black\",\"black\",\"black\",\"black\",\"black\",\"black\",\"black\",\"black\",\"black\",\"black\",\"black\",\"black\",\"black\",\"black\",\"black\",\"black\",\"black\",\"black\",\"black\",\"black\",\"black\",\"black\",\"black\",\"black\",\"black\",\"black\",\"black\",\"black\",\"black\",\"black\",\"black\",\"black\",\"black\",\"black\",\"black\",\"black\",\"black\",\"black\",\"black\",\"black\",\"black\",\"black\",\"black\",\"black\",\"black\",\"black\",\"black\",\"black\",\"black\",\"black\",\"black\",\"black\",\"black\",\"black\",\"black\",\"black\",\"black\",\"black\",\"black\",\"black\",\"black\",\"black\",\"black\",\"black\",\"black\",\"black\",\"black\",\"black\",\"black\",\"black\",\"black\",\"black\",\"black\",\"black\",\"black\",\"black\",\"black\",\"black\",\"black\",\"black\",\"black\",\"black\",\"black\",\"black\",\"black\",\"black\",\"black\",\"black\",\"black\",\"black\",\"black\",\"black\",\"black\",\"black\",\"black\",\"black\",\"black\",\"black\",\"black\",\"black\",\"black\",\"black\",\"black\",\"black\",\"black\",\"black\",\"black\",\"black\",\"black\",\"black\",\"black\",\"black\",\"black\",\"black\",\"black\",\"black\",\"black\",\"black\",\"black\",\"black\",\"black\",\"black\",\"black\",\"black\",\"black\",\"black\",\"black\",\"black\",\"black\",\"black\",\"black\",\"black\",\"black\",\"black\",\"black\",\"black\",\"black\",\"black\",\"black\",\"black\",\"black\",\"black\",\"black\",\"black\",\"black\",\"black\",\"black\",\"black\",\"black\",\"black\",\"black\",\"black\",\"black\",\"black\",\"black\",\"black\",\"black\",\"black\",\"black\",\"black\",\"black\",\"black\",\"black\",\"black\",\"black\",\"black\",\"black\",\"black\",\"black\",\"black\",\"black\",\"black\",\"black\",\"black\",\"black\",\"black\",\"black\",\"black\",\"black\",\"black\",\"black\",\"black\",\"black\",\"black\",\"black\",\"black\",\"black\",\"black\",\"black\",\"black\",\"black\",\"black\",\"black\",\"black\",\"black\",\"black\",\"black\",\"black\",\"black\",\"black\",\"black\",\"black\",\"black\",\"black\",\"black\",\"black\",\"black\",\"black\",\"black\",\"black\",\"black\",\"black\",\"black\",\"black\",\"black\",\"black\",\"black\",\"black\",\"black\",\"black\",\"black\",\"black\",\"black\",\"black\",\"black\",\"black\",\"black\",\"black\",\"black\",\"black\",\"black\",\"black\",\"black\",\"black\",\"black\",\"black\",\"black\",\"black\",\"black\",\"black\",\"black\",\"black\",\"black\",\"black\",\"black\",\"black\",\"black\",\"black\",\"black\",\"black\",\"black\",\"black\",\"black\",\"black\",\"black\",\"black\",\"black\",\"black\",\"black\",\"black\",\"black\",\"black\",\"black\",\"black\",\"black\",\"black\",\"black\",\"black\",\"black\",\"black\",\"black\",\"black\",\"black\",\"black\",\"black\",\"black\",\"black\",\"black\",\"black\",\"black\",\"black\",\"black\",\"black\",\"black\",\"black\",\"black\",\"black\",\"black\",\"black\",\"black\",\"black\",\"black\",\"black\",\"black\",\"black\",\"black\",\"black\",\"black\",\"black\",\"black\",\"black\",\"black\",\"black\",\"black\",\"black\",\"black\",\"black\",\"black\",\"black\",\"black\",\"black\",\"black\",\"black\",\"black\",\"black\",\"black\",\"black\",\"black\",\"black\",\"black\",\"black\",\"black\",\"black\",\"black\",\"black\",\"black\",\"black\",\"black\",\"black\",\"black\"],\"xs\":[[135758231,135758231],[135758520,135758520],[135766072,135766072],[135773420,135773420],[135773446,135773446],[135773617,135773617],[135773692,135773692],[135774681,135774681],[135775049,135775049],[135776430,135776430],[135778656,135778656],[135780168,135780168],[135780587,135780587],[135781301,135781301],[135781522,135781522],[135781635,135781635],[135782456,135782456],[135783157,135783157],[135783366,135783366],[135783367,135783367],[135784227,135784227],[135784733,135784733],[135785066,135785066],[135785068,135785068],[135785149,135785149],[135787148,135787148],[135787642,135787642],[135789405,135789405],[135789472,135789472],[135789682,135789682],[135789784,135789784],[135792338,135792338],[135792528,135792528],[135793565,135793565],[135793684,135793684],[135793845,135793845],[135794367,135794367],[135794986,135794986],[135795040,135795040],[135795095,135795095],[135795150,135795150],[135795385,135795385],[135795396,135795396],[135795443,135795443],[135795595,135795595],[135796000,135796000],[135796155,135796155],[135796410,135796410],[135796965,135796965],[135797223,135797223],[135797747,135797747],[135798082,135798082],[135798758,135798758],[135799082,135799082],[135800085,135800085],[135800601,135800601],[135800757,135800757],[135801228,135801228],[135801956,135801956],[135802020,135802020],[135802028,135802028],[135802050,135802050],[135802148,135802148],[135803766,135803766],[135809241,135809241],[135812969,135812969],[135814716,135814716],[135818907,135818907],[135829432,135829432],[135832131,135832131],[135849613,135849613],[135853807,135853807],[135859923,135859923],[135860305,135860305],[135861497,135861497],[135863143,135863143],[135864294,135864294],[135871624,135871624],[135872646,135872646],[135874038,135874038],[135874622,135874622],[135878814,135878814],[135880013,135880013],[135884487,135884487],[135885357,135885357],[135893853,135893853],[135895809,135895809],[135895879,135895879],[135899069,135899069],[135909462,135909462],[135912977,135912977],[135914038,135914038],[135921839,135921839],[135925002,135925002],[135928312,135928312],[135935049,135935049],[135962711,135962711],[135984172,135984172],[135994753,135994753],[135994754,135994754],[136016079,136016079],[136027264,136027264],[136052004,136052004],[136100473,136100473],[136110129,136110129],[136166536,136166536],[136169799,136169799],[136191314,136191314],[136228887,136228887],[136238453,136238453],[136288273,136288273],[136292425,136292425],[136321951,136321951],[136324564,136324564],[136327299,136327299],[136327302,136327302],[136376515,136376515],[135759095,135759095],[135767882,135767882],[135772049,135772049],[135773449,135773449],[135775786,135775786],[135776584,135776584],[135778239,135778239],[135781035,135781035],[135796302,135796302],[135803806,135803806],[135809572,135809572],[135812974,135812974],[135823042,135823042],[135825074,135825074],[135833521,135833521],[135851941,135851941],[135853900,135853900],[135854901,135854901],[135861310,135861310],[135866182,135866182],[135876308,135876308],[135887893,135887893],[135890608,135890608],[135899021,135899021],[135900539,135900539],[135912255,135912255],[135915414,135915414],[135918681,135918681],[135938999,135938999],[135946762,135946762],[135949064,135949064],[135949065,135949065],[135950240,135950240],[135954501,135954501],[135958940,135958940],[135960011,135960011],[135964572,135964572],[135971806,135971806],[135975598,135975598],[135978637,135978637],[135978792,135978792],[135980802,135980802],[135981130,135981130],[135984068,135984068],[135986636,135986636],[135987163,135987163],[135988186,135988186],[135992038,135992038],[135995885,135995885],[135996353,135996353],[135997275,135997275],[135998352,135998352],[135999189,135999189],[135999758,135999758],[136003597,136003597],[136007338,136007338],[136007529,136007529],[136009326,136009326],[136012313,136012313],[136019560,136019560],[136021007,136021007],[136027748,136027748],[136027809,136027809],[136031318,136031318],[136031551,136031551],[136034837,136034837],[136035510,136035510],[136042064,136042064],[136043293,136043293],[136045826,136045826],[136049992,136049992],[136052318,136052318],[136052770,136052770],[136053195,136053195],[136053599,136053599],[136055139,136055139],[136057643,136057643],[136060102,136060102],[136062586,136062586],[136062749,136062749],[136069870,136069870],[136070441,136070441],[136072754,136072754],[136074672,136074672],[136076275,136076275],[136081038,136081038],[136084661,136084661],[136085367,136085367],[136086897,136086897],[136088431,136088431],[136092485,136092485],[136093253,136093253],[136094478,136094478],[136102064,136102064],[136105186,136105186],[136108385,136108385],[136109851,136109851],[136112697,136112697],[136114228,136114228],[136119133,136119133],[136120174,136120174],[136127216,136127216],[136128254,136128254],[136131744,136131744],[136133109,136133109],[136136279,136136279],[136142490,136142490],[136145192,136145192],[136146053,136146053],[136146369,136146369],[136149565,136149565],[136149927,136149927],[136151774,136151774],[136154364,136154364],[136157752,136157752],[136158243,136158243],[136158644,136158644],[136158946,136158946],[136159843,136159843],[136160751,136160751],[136163870,136163870],[136168686,136168686],[136171386,136171386],[136172024,136172024],[136172820,136172820],[136172853,136172853],[136175034,136175034],[136176104,136176104],[136178761,136178761],[136180917,136180917],[136182160,136182160],[136182355,136182355],[136185950,136185950],[136188300,136188300],[136188480,136188480],[136188575,136188575],[136191286,136191286],[136191661,136191661],[136193839,136193839],[136197756,136197756],[136198645,136198645],[136201320,136201320],[136202976,136202976],[136203038,136203038],[136208730,136208730],[136211792,136211792],[136213050,136213050],[136213287,136213287],[136222634,136222634],[136225101,136225101],[136227710,136227710],[136228150,136228150],[136229697,136229697],[136232100,136232100],[136237994,136237994],[136249777,136249777],[136253514,136253514],[136254660,136254660],[136258254,136258254],[136262412,136262412],[136263071,136263071],[136263450,136263450],[136266335,136266335],[136268788,136268788],[136274236,136274236],[136276238,136276238],[136277664,136277664],[136283916,136283916],[136284779,136284779],[136287555,136287555],[136298035,136298035],[136300554,136300554],[136308555,136308555],[136309552,136309552],[136309779,136309779],[136310924,136310924],[136311867,136311867],[136312909,136312909],[136315932,136315932],[136321197,136321197],[136331435,136331435],[136337874,136337874],[136339552,136339552],[136340725,136340725],[136345038,136345038],[136349891,136349891],[136356227,136356227],[136366433,136366433],[136380723,136380723],[136382681,136382681],[136385683,136385683],[136386726,136386726],[136387299,136387299],[135766890,135766890],[135778708,135778708],[135779588,135779588],[135805941,135805941],[135805943,135805943],[135932720,135932720],[135933317,135933317],[135934842,135934842],[135952376,135952376],[135958853,135958853],[135962864,135962864],[135963304,135963304],[135965376,135965376],[135980201,135980201],[135981554,135981554],[135988127,135988127],[135988416,135988416],[135991470,135991470],[136000500,136000500],[136001215,136001215],[136001295,136001295],[136016514,136016514],[136017388,136017388],[136041102,136041102],[136041662,136041662],[136047387,136047387],[136052936,136052936],[136055275,136055275],[136063118,136063118],[136066802,136066802],[136068890,136068890],[136069577,136069577],[136081193,136081193],[136105193,136105193],[136107839,136107839],[136110835,136110835],[136138026,136138026],[136142092,136142092],[136146499,136146499],[136147607,136147607],[136148401,136148401],[136150512,136150512],[136154734,136154734],[136155805,136155805],[136163001,136163001],[136163266,136163266],[136163568,136163568],[136163821,136163821],[136165965,136165965],[136183312,136183312],[136185945,136185945],[136191729,136191729],[136204827,136204827],[136208747,136208747],[136217980,136217980],[136229438,136229438],[136232572,136232572],[136240942,136240942],[136251329,136251329],[136265187,136265187],[136265188,136265188],[136275985,136275985],[135772482,135772482],[135793088,135793088],[135864263,135864263],[135968122,135968122],[136133347,136133347],[136195838,136195838],[136297530,136297530],[135814490,135814490],[135914369,135914369],[136019085,136019085],[136066551,136066551],[136075959,136075959],[136168055,136168055],[136288529,136288529],[136363110,136363110],[136430243,136430243],[136456281,136456281],[136467920,136467920],[136470204,136470204],[136509047,136509047],[136526302,136526302],[135909151,135909151],[135936211,135936211],[135941821,135941821],[135965619,135965619],[135989582,135989582],[136036308,136036308],[136147135,136147135],[136205718,136205718],[136240829,136240829],[136430802,136430802],[136480836,136480836],[136557544,136557544],[136649683,136649683],[136711179,136711179],[136743819,136743819],[135933921,135933921],[135939824,135939824],[135941503,135941503],[135943900,135943900],[135945474,135945474],[135949715,135949715],[135956745,135956745],[135958693,135958693],[135967778,135967778],[135972093,135972093],[135973768,135973768],[135976498,135976498],[135978428,135978428],[135990031,135990031],[135992481,135992481],[135993925,135993925],[135994838,135994838],[136000253,136000253],[136003567,136003567],[136005477,136005477],[136005971,136005971],[136020977,136020977],[136027535,136027535],[136031588,136031588],[136032905,136032905],[136042480,136042480],[136043885,136043885],[136050471,136050471],[136052898,136052898],[136054815,136054815],[136056285,136056285],[136061560,136061560],[136063685,136063685],[136069060,136069060],[136072179,136072179],[136074233,136074233],[136080721,136080721],[136080822,136080822],[136088440,136088440],[136088643,136088643],[136092416,136092416],[136092869,136092869],[136094615,136094615],[136095505,136095505],[136095604,136095604],[136096766,136096766],[136097091,136097091],[136097394,136097394],[136100243,136100243],[136101823,136101823],[136106561,136106561],[136115501,136115501],[136122622,136122622],[136123014,136123014],[136123848,136123848],[136127100,136127100],[136127950,136127950],[136128630,136128630],[136129630,136129630],[136129791,136129791],[136131324,136131324],[136135383,136135383],[136135994,136135994],[136136224,136136224],[136136366,136136366],[136136440,136136440],[136138145,136138145],[136140568,136140568],[136145882,136145882],[136147948,136147948],[136148630,136148630],[136151485,136151485],[136152802,136152802],[136156753,136156753],[136157913,136157913],[136160902,136160902],[136165765,136165765],[136171649,136171649],[136173220,136173220],[136173735,136173735],[136174552,136174552],[136175692,136175692],[136176805,136176805],[136182484,136182484],[136183188,136183188],[136187252,136187252],[136187345,136187345],[136189475,136189475],[136197702,136197702],[136198435,136198435],[136202937,136202937],[136219999,136219999],[136221500,136221500],[136226626,136226626],[136228929,136228929],[136229598,136229598],[136238270,136238270],[136238346,136238346],[136240769,136240769],[136244171,136244171],[136249245,136249245],[136250285,136250285],[136254419,136254419],[136266241,136266241],[136267808,136267808],[136272074,136272074],[136277304,136277304],[136290607,136290607],[136290663,136290663],[136291310,136291310],[136296051,136296051],[136305392,136305392],[136306890,136306890],[136310803,136310803],[136324225,136324225],[136324465,136324465],[136327305,136327305],[136329618,136329618],[136333300,136333300],[136350089,136350089],[136354204,136354204],[136360455,136360455],[136368563,136368563],[135964764,135964764],[135964765,135964765],[136099127,136099127],[136099650,136099650],[136100705,136100705],[136101132,136101132],[136392700,136392700],[136400692,136400692],[136408881,136408881],[136409096,136409096],[136413099,136413099],[136413116,136413116],[136413618,136413618],[136417468,136417468],[136421589,136421589],[136425362,136425362],[136430479,136430479],[136439871,136439871],[136442318,136442318],[136444284,136444284],[136444985,136444985],[136445838,136445838],[136446249,136446249],[136447867,136447867],[136449090,136449090],[136449671,136449671],[136451724,136451724],[136452322,136452322],[136459565,136459565],[136460977,136460977],[136462831,136462831],[136464615,136464615],[136464818,136464818],[136464885,136464885],[136465856,136465856],[136467164,136467164],[136483721,136483721],[136485246,136485246],[136485657,136485657],[136493550,136493550],[136500338,136500338],[136500597,136500597],[136502199,136502199],[136506995,136506995],[136507804,136507804],[136509222,136509222],[136510091,136510091],[136512545,136512545],[136517471,136517471],[136522377,136522377],[136523696,136523696],[136523874,136523874],[136526324,136526324],[136528006,136528006],[136529000,136529000],[136533161,136533161],[136539413,136539413],[136548116,136548116],[136548169,136548169],[136548192,136548192],[136550806,136550806],[136506375,136506375],[136506927,136506927],[136510012,136510012],[136538939,136538939],[136535876,136535876],[136544651,136544651],[136545844,136545844],[136552526,136552526],[136553022,136553022],[136554797,136554797],[136554890,136554890],[136556805,136556805],[136560003,136560003],[136562472,136562472],[136563248,136563248],[136565328,136565328],[136570613,136570613],[136571982,136571982],[136574305,136574305],[136578040,136578040],[136578194,136578194],[136580398,136580398],[136586828,136586828],[136590558,136590558],[136592309,136592309],[136593541,136593541],[136593694,136593694],[136595426,136595426],[136615222,136615222],[136624919,136624919],[136626004,136626004],[136628380,136628380],[136636909,136636909],[136637350,136637350],[136637622,136637622],[136639487,136639487],[136646900,136646900],[136652093,136652093],[136652859,136652859],[136655620,136655620],[136667896,136667896],[136671801,136671801],[136677192,136677192],[136683293,136683293],[136704414,136704414],[136720344,136720344],[136731066,136731066],[136733897,136733897],[136743490,136743490],[136747085,136747085]],\"ys\":[[750,796],[750,796],[750,796],[750,796],[750,796],[750,796],[750,796],[750,796],[750,796],[750,796],[750,796],[750,796],[750,796],[750,796],[750,796],[750,796],[750,796],[750,796],[750,796],[750,796],[750,796],[750,796],[750,796],[750,796],[750,796],[750,796],[750,796],[750,796],[750,796],[750,796],[750,796],[750,796],[750,796],[750,796],[750,796],[750,796],[750,796],[750,796],[750,796],[750,796],[750,796],[750,796],[750,796],[750,796],[750,796],[750,796],[750,796],[750,796],[750,796],[750,796],[750,796],[750,796],[750,796],[750,796],[750,796],[750,796],[750,796],[750,796],[750,796],[750,796],[750,796],[750,796],[750,796],[750,796],[750,796],[750,796],[750,796],[750,796],[750,796],[750,796],[750,796],[750,796],[750,796],[750,796],[750,796],[750,796],[750,796],[750,796],[750,796],[750,796],[750,796],[750,796],[750,796],[750,796],[750,796],[750,796],[750,796],[750,796],[750,796],[750,796],[750,796],[750,796],[750,796],[750,796],[750,796],[750,796],[750,796],[750,796],[750,796],[750,796],[750,796],[750,796],[750,796],[750,796],[750,796],[750,796],[750,796],[750,796],[750,796],[750,796],[750,796],[750,796],[750,796],[750,796],[750,796],[750,796],[750,796],[350,390],[350,390],[350,390],[350,390],[350,390],[350,390],[350,390],[350,390],[350,390],[350,390],[350,390],[350,390],[350,390],[350,390],[350,390],[350,390],[350,390],[350,390],[350,390],[350,390],[350,390],[350,390],[350,390],[350,390],[350,390],[350,390],[350,390],[350,390],[350,390],[350,390],[350,390],[350,390],[350,390],[350,390],[350,390],[350,390],[350,390],[350,390],[350,390],[350,390],[350,390],[350,390],[350,390],[350,390],[350,390],[350,390],[350,390],[350,390],[350,390],[350,390],[350,390],[350,390],[350,390],[350,390],[350,390],[350,390],[350,390],[350,390],[350,390],[350,390],[350,390],[350,390],[350,390],[350,390],[350,390],[350,390],[350,390],[350,390],[350,390],[350,390],[350,390],[350,390],[350,390],[350,390],[350,390],[350,390],[350,390],[350,390],[350,390],[350,390],[350,390],[350,390],[350,390],[350,390],[350,390],[350,390],[350,390],[350,390],[350,390],[350,390],[350,390],[350,390],[350,390],[350,390],[350,390],[350,390],[350,390],[350,390],[350,390],[350,390],[350,390],[350,390],[350,390],[350,390],[350,390],[350,390],[350,390],[350,390],[350,390],[350,390],[350,390],[350,390],[350,390],[350,390],[350,390],[350,390],[350,390],[350,390],[350,390],[350,390],[350,390],[350,390],[350,390],[350,390],[350,390],[350,390],[350,390],[350,390],[350,390],[350,390],[350,390],[350,390],[350,390],[350,390],[350,390],[350,390],[350,390],[350,390],[350,390],[350,390],[350,390],[350,390],[350,390],[350,390],[350,390],[350,390],[350,390],[350,390],[350,390],[350,390],[350,390],[350,390],[350,390],[350,390],[350,390],[350,390],[350,390],[350,390],[350,390],[350,390],[350,390],[350,390],[350,390],[350,390],[350,390],[350,390],[350,390],[350,390],[350,390],[350,390],[350,390],[350,390],[350,390],[350,390],[350,390],[350,390],[350,390],[350,390],[350,390],[350,390],[350,390],[350,390],[350,390],[350,390],[350,390],[350,390],[350,390],[350,390],[350,390],[350,390],[350,390],[350,390],[350,390],[550,593],[550,593],[550,593],[550,593],[550,593],[550,593],[550,593],[550,593],[550,593],[550,593],[550,593],[550,593],[550,593],[550,593],[550,593],[550,593],[550,593],[550,593],[550,593],[550,593],[550,593],[550,593],[550,593],[550,593],[550,593],[550,593],[550,593],[550,593],[550,593],[550,593],[550,593],[550,593],[550,593],[550,593],[550,593],[550,593],[550,593],[550,593],[550,593],[550,593],[550,593],[550,593],[550,593],[550,593],[550,593],[550,593],[550,593],[550,593],[550,593],[550,593],[550,593],[550,593],[550,593],[550,593],[550,593],[550,593],[550,593],[550,593],[550,593],[550,593],[550,593],[550,593],[250,270],[250,270],[250,270],[250,270],[250,270],[250,270],[250,270],[150,166],[150,166],[150,166],[150,166],[150,166],[150,166],[150,166],[150,166],[150,166],[150,166],[150,166],[150,166],[150,166],[150,166],[50,60],[50,60],[50,60],[50,60],[50,60],[50,60],[50,60],[50,60],[50,60],[50,60],[50,60],[50,60],[50,60],[50,60],[50,60],[650,695],[650,695],[650,695],[650,695],[650,695],[650,695],[650,695],[650,695],[650,695],[650,695],[650,695],[650,695],[650,695],[650,695],[650,695],[650,695],[650,695],[650,695],[650,695],[650,695],[650,695],[650,695],[650,695],[650,695],[650,695],[650,695],[650,695],[650,695],[650,695],[650,695],[650,695],[650,695],[650,695],[650,695],[650,695],[650,695],[650,695],[650,695],[650,695],[650,695],[650,695],[650,695],[650,695],[650,695],[650,695],[650,695],[650,695],[650,695],[650,695],[650,695],[650,695],[650,695],[650,695],[650,695],[650,695],[650,695],[650,695],[650,695],[650,695],[650,695],[650,695],[650,695],[650,695],[650,695],[650,695],[650,695],[650,695],[650,695],[650,695],[650,695],[650,695],[650,695],[650,695],[650,695],[650,695],[650,695],[650,695],[650,695],[650,695],[650,695],[650,695],[650,695],[650,695],[650,695],[650,695],[650,695],[650,695],[650,695],[650,695],[650,695],[650,695],[650,695],[650,695],[650,695],[650,695],[650,695],[650,695],[650,695],[650,695],[650,695],[650,695],[650,695],[650,695],[650,695],[650,695],[650,695],[650,695],[650,695],[650,695],[650,695],[650,695],[650,695],[650,695],[650,695],[650,695],[650,695],[650,695],[650,695],[650,695],[650,695],[650,695],[650,695],[650,695],[450,491],[450,491],[450,491],[450,491],[450,491],[450,491],[350,376],[350,376],[350,376],[350,376],[350,376],[350,376],[350,376],[350,376],[350,376],[350,376],[350,376],[350,376],[350,376],[350,376],[350,376],[350,376],[350,376],[350,376],[350,376],[350,376],[350,376],[350,376],[350,376],[350,376],[350,376],[350,376],[350,376],[350,376],[350,376],[350,376],[350,376],[350,376],[350,376],[350,376],[350,376],[350,376],[350,376],[350,376],[350,376],[350,376],[350,376],[350,376],[350,376],[350,376],[350,376],[350,376],[350,376],[350,376],[350,376],[350,376],[350,376],[350,376],[350,376],[350,376],[350,376],[650,694],[650,694],[650,694],[650,694],[550,594],[550,594],[550,594],[550,594],[550,594],[550,594],[550,594],[450,491],[450,491],[450,491],[450,491],[450,491],[450,491],[450,491],[450,491],[450,491],[450,491],[450,491],[450,491],[450,491],[450,491],[450,491],[450,491],[450,491],[450,491],[450,491],[450,491],[450,491],[450,491],[450,491],[450,491],[450,491],[450,491],[450,491],[450,491],[450,491],[450,491],[450,491],[450,491],[450,491],[450,491],[450,491],[450,491],[450,491],[450,491],[450,491]]}},\"id\":\"c6e2ca87-7843-47ed-8426-7e6939a03d31\",\"type\":\"ColumnDataSource\"},{\"attributes\":{\"plot\":{\"id\":\"a19c4dac-516c-4a60-a33a-062b217ae2d3\",\"subtype\":\"Figure\",\"type\":\"Plot\"}},\"id\":\"18401980-e1e3-463e-90c7-4c4bab4b067b\",\"type\":\"PanTool\"},{\"attributes\":{},\"id\":\"0808ca01-4489-437e-a889-259f350c6be5\",\"type\":\"ToolEvents\"},{\"attributes\":{\"plot\":{\"id\":\"a19c4dac-516c-4a60-a33a-062b217ae2d3\",\"subtype\":\"Figure\",\"type\":\"Plot\"}},\"id\":\"e493d520-4443-43a1-a02e-2f633ab5e45a\",\"type\":\"WheelZoomTool\"},{\"attributes\":{\"bottom\":{\"field\":\"bottom\"},\"fill_color\":{\"field\":\"fill_color\"},\"left\":{\"field\":\"left\"},\"line_color\":{\"value\":null},\"right\":{\"field\":\"right\"},\"top\":{\"field\":\"top\"}},\"id\":\"b2a572a6-2085-4d62-92a4-284ae7a15296\",\"type\":\"Quad\"},{\"attributes\":{},\"id\":\"11586b82-76d2-407e-9788-3a101b6629a0\",\"type\":\"BasicTicker\"},{\"attributes\":{\"level\":\"glyph\",\"plot\":{\"id\":\"a19c4dac-516c-4a60-a33a-062b217ae2d3\",\"subtype\":\"Figure\",\"type\":\"Plot\"},\"source\":{\"id\":\"f6a557a5-7c58-4ec4-88a1-b1a5acd51125\",\"type\":\"ColumnDataSource\"},\"text\":{\"field\":\"vals\"},\"text_font_size\":{\"value\":\"9pt\"},\"text_font_style\":\"bold\",\"x\":{\"field\":\"x\"},\"y\":{\"field\":\"y\"}},\"id\":\"c9345cc9-d16a-4c33-8698-19ff2cded23c\",\"type\":\"LabelSet\"},{\"attributes\":{\"bottom\":{\"field\":\"bottom\"},\"fill_alpha\":{\"value\":0.1},\"fill_color\":{\"value\":\"#1f77b4\"},\"left\":{\"field\":\"left\"},\"line_alpha\":{\"value\":0.1},\"line_color\":{\"value\":\"#1f77b4\"},\"right\":{\"field\":\"right\"},\"top\":{\"field\":\"top\"}},\"id\":\"b0e4dcde-2518-4ef3-b4fe-22bea39b7e37\",\"type\":\"Quad\"},{\"attributes\":{\"line_color\":{\"field\":\"line_color\"},\"xs\":{\"field\":\"xs\"},\"ys\":{\"field\":\"ys\"}},\"id\":\"dfc02375-c580-4f60-aab0-1d139cafb867\",\"type\":\"MultiLine\"}],\"root_ids\":[\"a19c4dac-516c-4a60-a33a-062b217ae2d3\"]},\"title\":\"Bokeh Application\",\"version\":\"0.12.0\"}};\n",
       "            var render_items = [{\"docid\":\"d05376c5-c764-42a9-90d8-0d18b1ca995e\",\"elementid\":\"7301f187-c13b-4977-ac77-981748e1e176\",\"modelid\":\"a19c4dac-516c-4a60-a33a-062b217ae2d3\",\"notebook_comms_target\":\"020c29e4-a696-4f42-a174-02b2699dbe84\"}];\n",
       "            \n",
       "            Bokeh.embed.embed_items(docs_json, render_items);\n",
       "        });\n",
       "      },\n",
       "      function(Bokeh) {\n",
       "      }\n",
       "    ];\n",
       "  \n",
       "    function run_inline_js() {\n",
       "      for (var i = 0; i < inline_js.length; i++) {\n",
       "        inline_js[i](window.Bokeh);\n",
       "      }\n",
       "    }\n",
       "  \n",
       "    if (window._bokeh_is_loading === 0) {\n",
       "      console.log(\"Bokeh: BokehJS loaded, going straight to plotting\");\n",
       "      run_inline_js();\n",
       "    } else {\n",
       "      load_libs(js_urls, function() {\n",
       "        console.log(\"Bokeh: BokehJS plotting callback run at\", now());\n",
       "        run_inline_js();\n",
       "      });\n",
       "    }\n",
       "  }(this));\n",
       "</script>"
      ]
     },
     "metadata": {},
     "output_type": "display_data"
    },
    {
     "data": {
      "text/html": [
       "<p><code>&lt;Bokeh Notebook handle for <strong>In[5]</strong>&gt;</code></p>"
      ],
      "text/plain": [
       "<bokeh.io._CommsHandle at 0x7f5a28b3f710>"
      ]
     },
     "execution_count": 5,
     "metadata": {},
     "output_type": "execute_result"
    }
   ],
   "source": [
    "plt_obj = dm.superset_yes_no([di_15_27], min_match=0.5)\n",
    "plt = plt_obj.do_plot()\n",
    "am = plt_obj.plot_context.yes_allele_mask\n",
    "show(plt)"
   ]
  },
  {
   "cell_type": "code",
   "execution_count": 6,
   "metadata": {
    "collapsed": false
   },
   "outputs": [
    {
     "data": {
      "text/plain": [
       "array([(115, 1), (117, 26)], \n",
       "      dtype=[('count', '<u2'), ('snps', '<u2')])"
      ]
     },
     "execution_count": 6,
     "metadata": {},
     "output_type": "execute_result"
    }
   ],
   "source": [
    "an.sa_117_1685.unique_snps_per_allele(am_15_27)"
   ]
  },
  {
   "cell_type": "code",
   "execution_count": 7,
   "metadata": {
    "collapsed": false
   },
   "outputs": [
    {
     "data": {
      "text/plain": [
       "array([(120, 1), (121, 5), (122, 21)], \n",
       "      dtype=[('count', '<u2'), ('snps', '<u2')])"
      ]
     },
     "execution_count": 7,
     "metadata": {},
     "output_type": "execute_result"
    }
   ],
   "source": [
    "an.sa_123_1561.unique_snps_per_allele(am_15_27)"
   ]
  },
  {
   "cell_type": "code",
   "execution_count": 8,
   "metadata": {
    "collapsed": false
   },
   "outputs": [
    {
     "data": {
      "text/plain": [
       "array([21, 21, 21, 21, 21, 21, 21, 21, 21, 21, 21, 21, 21, 21, 21, 21, 21,\n",
       "       21, 21, 21, 21, 21, 21, 21, 21, 21, 21, 21, 21, 21, 21, 21, 21, 21,\n",
       "       21, 21, 21, 21, 21, 21, 21, 21, 21, 21, 21, 21, 21, 21, 21, 21, 21,\n",
       "       21, 21, 21, 21, 21, 21, 21, 21, 21, 21, 21, 21, 21, 21, 21, 21, 21,\n",
       "       21, 21, 21, 21, 21, 21, 21, 21, 21, 21, 21, 21, 21, 21, 21, 21, 21,\n",
       "       21, 21, 21, 21, 21, 21, 21, 21, 21, 21, 21, 21, 21, 21, 21, 21, 21,\n",
       "       21, 21, 21, 21, 21, 21, 21, 21, 21, 21, 21, 21, 21, 21, 21, 21, 21,\n",
       "       21, 21,  0, 21])"
      ]
     },
     "execution_count": 8,
     "metadata": {},
     "output_type": "execute_result"
    }
   ],
   "source": [
    "aps, am = an.sa_123_1561.snps_from_aps_value(122, am_15_27)\n",
    "aps"
   ]
  },
  {
   "cell_type": "code",
   "execution_count": 9,
   "metadata": {
    "collapsed": false
   },
   "outputs": [
    {
     "data": {
      "text/plain": [
       "array([5, 5, 5, 5, 5, 5, 5, 5, 5, 5, 5, 5, 5, 5, 5, 5, 5, 5, 5, 5, 5, 5, 5,\n",
       "       5, 5, 5, 5, 5, 5, 5, 5, 5, 5, 5, 5, 5, 5, 5, 5, 5, 5, 5, 5, 5, 5, 5,\n",
       "       5, 5, 5, 5, 5, 5, 5, 5, 5, 5, 5, 5, 5, 5, 5, 5, 5, 5, 5, 5, 5, 5, 5,\n",
       "       5, 5, 5, 5, 5, 5, 5, 5, 5, 5, 0, 5, 5, 5, 5, 5, 5, 5, 5, 5, 5, 5, 5,\n",
       "       5, 5, 5, 5, 5, 5, 5, 5, 5, 5, 5, 5, 5, 5, 5, 5, 5, 5, 5, 5, 5, 5, 5,\n",
       "       5, 5, 5, 5, 5, 5, 0, 5])"
      ]
     },
     "execution_count": 9,
     "metadata": {},
     "output_type": "execute_result"
    }
   ],
   "source": [
    "aps, am = an.sa_123_1561.snps_from_aps_value(121, am_15_27)\n",
    "aps"
   ]
  },
  {
   "cell_type": "code",
   "execution_count": 10,
   "metadata": {
    "collapsed": false
   },
   "outputs": [
    {
     "data": {
      "text/plain": [
       "array([(62, 27)], \n",
       "      dtype=[('count', '<u2'), ('snps', '<u2')])"
      ]
     },
     "execution_count": 10,
     "metadata": {},
     "output_type": "execute_result"
    }
   ],
   "source": [
    "an.sa_62_1265.unique_snps_per_allele(am_15_27)"
   ]
  },
  {
   "cell_type": "code",
   "execution_count": 11,
   "metadata": {
    "collapsed": false
   },
   "outputs": [
    {
     "data": {
      "text/plain": [
       "array([(193, 27)], \n",
       "      dtype=[('count', '<u2'), ('snps', '<u2')])"
      ]
     },
     "execution_count": 11,
     "metadata": {},
     "output_type": "execute_result"
    }
   ],
   "source": [
    "an.sa_193_843.unique_snps_per_allele(am_15_27)"
   ]
  }
 ],
 "metadata": {
  "kernelspec": {
   "display_name": "Python [Root]",
   "language": "python",
   "name": "Python [Root]"
  },
  "language_info": {
   "codemirror_mode": {
    "name": "ipython",
    "version": 2
   },
   "file_extension": ".py",
   "mimetype": "text/x-python",
   "name": "python",
   "nbconvert_exporter": "python",
   "pygments_lexer": "ipython2",
   "version": "2.7.12"
  }
 },
 "nbformat": 4,
 "nbformat_minor": 0
}
