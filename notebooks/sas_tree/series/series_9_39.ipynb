{
 "cells": [
  {
   "cell_type": "code",
   "execution_count": 1,
   "metadata": {
    "collapsed": false
   },
   "outputs": [
    {
     "data": {
      "text/html": []
     },
     "metadata": {},
     "output_type": "display_data"
    },
    {
     "data": {
      "application/javascript": [
       "\n",
       "(function(global) {\n",
       "  function now() {\n",
       "    return new Date();\n",
       "  }\n",
       "\n",
       "  if (typeof (window._bokeh_onload_callbacks) === \"undefined\") {\n",
       "    window._bokeh_onload_callbacks = [];\n",
       "  }\n",
       "\n",
       "  function run_callbacks() {\n",
       "    window._bokeh_onload_callbacks.forEach(function(callback) { callback() });\n",
       "    delete window._bokeh_onload_callbacks\n",
       "    console.info(\"Bokeh: all callbacks have finished\");\n",
       "  }\n",
       "\n",
       "  function load_libs(js_urls, callback) {\n",
       "    window._bokeh_onload_callbacks.push(callback);\n",
       "    if (window._bokeh_is_loading > 0) {\n",
       "      console.log(\"Bokeh: BokehJS is being loaded, scheduling callback at\", now());\n",
       "      return null;\n",
       "    }\n",
       "    if (js_urls == null || js_urls.length === 0) {\n",
       "      run_callbacks();\n",
       "      return null;\n",
       "    }\n",
       "    console.log(\"Bokeh: BokehJS not loaded, scheduling load and callback at\", now());\n",
       "    window._bokeh_is_loading = js_urls.length;\n",
       "    for (var i = 0; i < js_urls.length; i++) {\n",
       "      var url = js_urls[i];\n",
       "      var s = document.createElement('script');\n",
       "      s.src = url;\n",
       "      s.async = false;\n",
       "      s.onreadystatechange = s.onload = function() {\n",
       "        window._bokeh_is_loading--;\n",
       "        if (window._bokeh_is_loading === 0) {\n",
       "          console.log(\"Bokeh: all BokehJS libraries loaded\");\n",
       "          run_callbacks()\n",
       "        }\n",
       "      };\n",
       "      s.onerror = function() {\n",
       "        console.warn(\"failed to load library \" + url);\n",
       "      };\n",
       "      console.log(\"Bokeh: injecting script tag for BokehJS library: \", url);\n",
       "      document.getElementsByTagName(\"head\")[0].appendChild(s);\n",
       "    }\n",
       "  };\n",
       "\n",
       "  var js_urls = ['https://cdn.pydata.org/bokeh/release/bokeh-0.12.0.min.js', 'https://cdn.pydata.org/bokeh/release/bokeh-widgets-0.12.0.min.js', 'https://cdn.pydata.org/bokeh/release/bokeh-compiler-0.12.0.min.js'];\n",
       "\n",
       "  var inline_js = [\n",
       "    function(Bokeh) {\n",
       "      Bokeh.set_log_level(\"info\");\n",
       "    },\n",
       "    \n",
       "    function(Bokeh) {\n",
       "      Bokeh.$(\"#0b406bcc-1475-48c8-bae5-89d5d4d912f7\").text(\"BokehJS successfully loaded\");\n",
       "    },\n",
       "    function(Bokeh) {\n",
       "      console.log(\"Bokeh: injecting CSS: https://cdn.pydata.org/bokeh/release/bokeh-0.12.0.min.css\");\n",
       "      Bokeh.embed.inject_css(\"https://cdn.pydata.org/bokeh/release/bokeh-0.12.0.min.css\");\n",
       "      console.log(\"Bokeh: injecting CSS: https://cdn.pydata.org/bokeh/release/bokeh-widgets-0.12.0.min.css\");\n",
       "      Bokeh.embed.inject_css(\"https://cdn.pydata.org/bokeh/release/bokeh-widgets-0.12.0.min.css\");\n",
       "    }\n",
       "  ];\n",
       "\n",
       "  function run_inline_js() {\n",
       "    for (var i = 0; i < inline_js.length; i++) {\n",
       "      inline_js[i](window.Bokeh);\n",
       "    }\n",
       "  }\n",
       "\n",
       "  if (window._bokeh_is_loading === 0) {\n",
       "    console.log(\"Bokeh: BokehJS loaded, going straight to plotting\");\n",
       "    run_inline_js();\n",
       "  } else {\n",
       "    load_libs(js_urls, function() {\n",
       "      console.log(\"Bokeh: BokehJS plotting callback run at\", now());\n",
       "      run_inline_js();\n",
       "    });\n",
       "  }\n",
       "}(this));"
      ]
     },
     "metadata": {},
     "output_type": "display_data"
    }
   ],
   "source": [
    "import numpy as np\n",
    "from IPython.display import HTML\n",
    "from bokeh.plotting import output_notebook, show\n",
    "import genomes_dnj.lct_interval.series_plots as dm\n",
    "import genomes_dnj.lct_interval.anal_series as an\n",
    "import genomes_dnj.lct_interval.series_masks as sm\n",
    "import genomes_dnj.lct_interval_snp_anal.lct_interval_snp_anal as snp_anal\n",
    "from genomes_dnj.lct_interval.bokeh_match_count_plot import snp_match_count_plot_cls as smcp\n",
    "output_notebook(hide_banner=True)\n",
    "di_9_39 = 353559\n",
    "sa_9_39 = snp_anal.series_anal_cls(di_9_39, sm.series_data)\n",
    "am_9_39 = dm.allele_mask_from_index(di_9_39)"
   ]
  },
  {
   "cell_type": "markdown",
   "metadata": {},
   "source": [
    "<h3>Series 9_39</h3>\n",
    "<div style=\"width:700px\">\n",
    "<p>\n",
    "This notebook documents the series 9_39 and its 9 SNPs.  The 1000 genomes data includes\n",
    "4959 samples that express none of its 9 SNPs and 35 samples that express all 9 of them.\n",
    "Another 4 samples express 8 of the SNPs. The 9 SNP series covers almost 410,000 DNA bases.\n",
    "It is overexpressed in European and American populations.  It is under expressed in\n",
    "African, East Asian, and South Asian populations.\n",
    "<p>\n",
    "The series 9_39 is a child of 8_267 that does not express 193_843 or 123_1561.  Analysis\n",
    "of series SNPs expressed by 9_39 samples shows that all 39 of them have lost top SNPs\n",
    "from 117_1685, 123_1561, and 193_843.  6 top SNPs have been lost from 117_1685.\n",
    "16 top SNPs have been lost from 123_1561.  23 top SNPs have been lost from 193_843.\n",
    "<p>\n",
    "These SNPs appear to have been lost through a recombination event with a chromosome\n",
    "that expressed the series 32_1361 and 81_857 from the EAS tree root.  29 of the\n",
    "9_39 samples express the association of series that resulted from the recombination.\n",
    "The other 10 show histories of additional recombination events.\n",
    "</div>"
   ]
  },
  {
   "cell_type": "code",
   "execution_count": 2,
   "metadata": {
    "collapsed": false
   },
   "outputs": [
    {
     "data": {
      "text/html": [
       "<p>\n",
       "<b>9_39 series</b>\n",
       "</p><p>\n",
       "<table>\n",
       "<thead><tr><th style=\"text-align:center\">index</th><th style=\"text-align:center\">first</th><th style=\"text-align:center\">length</th><th style=\"text-align:center\">snps</th><th style=\"text-align:center\">alleles</th><th style=\"text-align:center\" colspan=2>afr</th><th style=\"text-align:center\" colspan=2>afx</th><th style=\"text-align:center\" colspan=2>amr</th><th style=\"text-align:center\" colspan=2>eas</th><th style=\"text-align:center\" colspan=2>eur</th><th style=\"text-align:center\" colspan=2>sas</th><th style=\"text-align:center\" colspan=2>sax</th></tr></thead>\n",
       "<tr class=\"even\"><td style=\"text-align: right;\">353559</td><td style=\"text-align: right;\">136,028,572</td><td style=\"text-align: right;\">409,893</td><td style=\"text-align: right;\">9</td><td style=\"text-align: right;\">39</td><td style=\"text-align: right;\">1</td><td style=\"text-align: right;\">0.13</td><td style=\"text-align: right;\">0</td><td style=\"text-align: right;\">0.00</td><td style=\"text-align: right;\">13</td><td style=\"text-align: right;\">2.41</td><td style=\"text-align: right;\">0</td><td style=\"text-align: right;\">0.00</td><td style=\"text-align: right;\">22</td><td style=\"text-align: right;\">2.81</td><td style=\"text-align: right;\">0</td><td style=\"text-align: right;\">0.00</td><td style=\"text-align: right;\">3</td><td style=\"text-align: right;\">0.63</td></tr>\n",
       "</table>\n",
       "</p>\n",
       "<p>\n",
       "<b>9_39 series snps</b>\n",
       "</p><p>\n",
       "<table>\n",
       "<thead><tr><th style=\"text-align:center\">index</th><th style=\"text-align:center\">pos</th><th style=\"text-align:center\">id</th><th style=\"text-align:center\">niv</th><th style=\"text-align:center\">alleles</th><th style=\"text-align:center\" colspan=2>afr</th><th style=\"text-align:center\" colspan=2>afx</th><th style=\"text-align:center\" colspan=2>amr</th><th style=\"text-align:center\" colspan=2>eas</th><th style=\"text-align:center\" colspan=2>eur</th><th style=\"text-align:center\" colspan=2>sas</th><th style=\"text-align:center\" colspan=2>sax</th></tr></thead>\n",
       "<tr class=\"even\"><td style=\"text-align: right;\">876369</td><td style=\"text-align: right;\">136,028,572</td><td>rs115458360</td><td>0</td><td style=\"text-align: right;\">44</td><td style=\"text-align: right;\">1</td><td style=\"text-align: right;\">0.11</td><td style=\"text-align: right;\">0</td><td style=\"text-align: right;\">0.00</td><td style=\"text-align: right;\">13</td><td style=\"text-align: right;\">2.13</td><td style=\"text-align: right;\">0</td><td style=\"text-align: right;\">0.00</td><td style=\"text-align: right;\">28</td><td style=\"text-align: right;\">3.17</td><td style=\"text-align: right;\">0</td><td style=\"text-align: right;\">0.00</td><td style=\"text-align: right;\">2</td><td style=\"text-align: right;\">0.37</td></tr>\n",
       "<tr><td style=\"text-align: right;\">876977</td><td style=\"text-align: right;\">136,141,525</td><td>rs148672674</td><td>0</td><td style=\"text-align: right;\">41</td><td style=\"text-align: right;\">1</td><td style=\"text-align: right;\">0.12</td><td style=\"text-align: right;\">0</td><td style=\"text-align: right;\">0.00</td><td style=\"text-align: right;\">13</td><td style=\"text-align: right;\">2.29</td><td style=\"text-align: right;\">0</td><td style=\"text-align: right;\">0.00</td><td style=\"text-align: right;\">24</td><td style=\"text-align: right;\">2.91</td><td style=\"text-align: right;\">0</td><td style=\"text-align: right;\">0.00</td><td style=\"text-align: right;\">3</td><td style=\"text-align: right;\">0.60</td></tr>\n",
       "<tr class=\"even\"><td style=\"text-align: right;\">877212</td><td style=\"text-align: right;\">136,174,478</td><td>.</td><td>0</td><td style=\"text-align: right;\">42</td><td style=\"text-align: right;\">1</td><td style=\"text-align: right;\">0.12</td><td style=\"text-align: right;\">0</td><td style=\"text-align: right;\">0.00</td><td style=\"text-align: right;\">13</td><td style=\"text-align: right;\">2.23</td><td style=\"text-align: right;\">0</td><td style=\"text-align: right;\">0.00</td><td style=\"text-align: right;\">25</td><td style=\"text-align: right;\">2.96</td><td style=\"text-align: right;\">0</td><td style=\"text-align: right;\">0.00</td><td style=\"text-align: right;\">3</td><td style=\"text-align: right;\">0.58</td></tr>\n",
       "<tr><td style=\"text-align: right;\">877386</td><td style=\"text-align: right;\">136,211,744</td><td>rs114779250</td><td>0</td><td style=\"text-align: right;\">42</td><td style=\"text-align: right;\">1</td><td style=\"text-align: right;\">0.12</td><td style=\"text-align: right;\">0</td><td style=\"text-align: right;\">0.00</td><td style=\"text-align: right;\">13</td><td style=\"text-align: right;\">2.23</td><td style=\"text-align: right;\">0</td><td style=\"text-align: right;\">0.00</td><td style=\"text-align: right;\">25</td><td style=\"text-align: right;\">2.96</td><td style=\"text-align: right;\">0</td><td style=\"text-align: right;\">0.00</td><td style=\"text-align: right;\">3</td><td style=\"text-align: right;\">0.58</td></tr>\n",
       "<tr class=\"even\"><td style=\"text-align: right;\">877517</td><td style=\"text-align: right;\">136,240,608</td><td>.</td><td>0</td><td style=\"text-align: right;\">42</td><td style=\"text-align: right;\">1</td><td style=\"text-align: right;\">0.12</td><td style=\"text-align: right;\">0</td><td style=\"text-align: right;\">0.00</td><td style=\"text-align: right;\">13</td><td style=\"text-align: right;\">2.23</td><td style=\"text-align: right;\">0</td><td style=\"text-align: right;\">0.00</td><td style=\"text-align: right;\">25</td><td style=\"text-align: right;\">2.96</td><td style=\"text-align: right;\">0</td><td style=\"text-align: right;\">0.00</td><td style=\"text-align: right;\">3</td><td style=\"text-align: right;\">0.58</td></tr>\n",
       "<tr><td style=\"text-align: right;\">877889</td><td style=\"text-align: right;\">136,320,031</td><td>rs143149252</td><td>0</td><td style=\"text-align: right;\">41</td><td style=\"text-align: right;\">1</td><td style=\"text-align: right;\">0.12</td><td style=\"text-align: right;\">0</td><td style=\"text-align: right;\">0.00</td><td style=\"text-align: right;\">13</td><td style=\"text-align: right;\">2.29</td><td style=\"text-align: right;\">0</td><td style=\"text-align: right;\">0.00</td><td style=\"text-align: right;\">24</td><td style=\"text-align: right;\">2.91</td><td style=\"text-align: right;\">0</td><td style=\"text-align: right;\">0.00</td><td style=\"text-align: right;\">3</td><td style=\"text-align: right;\">0.60</td></tr>\n",
       "<tr class=\"even\"><td style=\"text-align: right;\">877890</td><td style=\"text-align: right;\">136,320,040</td><td>rs114347279</td><td>0</td><td style=\"text-align: right;\">41</td><td style=\"text-align: right;\">1</td><td style=\"text-align: right;\">0.12</td><td style=\"text-align: right;\">0</td><td style=\"text-align: right;\">0.00</td><td style=\"text-align: right;\">13</td><td style=\"text-align: right;\">2.29</td><td style=\"text-align: right;\">0</td><td style=\"text-align: right;\">0.00</td><td style=\"text-align: right;\">24</td><td style=\"text-align: right;\">2.91</td><td style=\"text-align: right;\">0</td><td style=\"text-align: right;\">0.00</td><td style=\"text-align: right;\">3</td><td style=\"text-align: right;\">0.60</td></tr>\n",
       "<tr><td style=\"text-align: right;\">878085</td><td style=\"text-align: right;\">136,368,926</td><td>rs114100315</td><td>0</td><td style=\"text-align: right;\">41</td><td style=\"text-align: right;\">1</td><td style=\"text-align: right;\">0.12</td><td style=\"text-align: right;\">0</td><td style=\"text-align: right;\">0.00</td><td style=\"text-align: right;\">13</td><td style=\"text-align: right;\">2.29</td><td style=\"text-align: right;\">0</td><td style=\"text-align: right;\">0.00</td><td style=\"text-align: right;\">24</td><td style=\"text-align: right;\">2.91</td><td style=\"text-align: right;\">0</td><td style=\"text-align: right;\">0.00</td><td style=\"text-align: right;\">3</td><td style=\"text-align: right;\">0.60</td></tr>\n",
       "<tr class=\"even\"><td style=\"text-align: right;\">878393</td><td style=\"text-align: right;\">136,438,465</td><td>rs147179945</td><td>0</td><td style=\"text-align: right;\">43</td><td style=\"text-align: right;\">1</td><td style=\"text-align: right;\">0.12</td><td style=\"text-align: right;\">0</td><td style=\"text-align: right;\">0.00</td><td style=\"text-align: right;\">14</td><td style=\"text-align: right;\">2.35</td><td style=\"text-align: right;\">0</td><td style=\"text-align: right;\">0.00</td><td style=\"text-align: right;\">25</td><td style=\"text-align: right;\">2.89</td><td style=\"text-align: right;\">0</td><td style=\"text-align: right;\">0.00</td><td style=\"text-align: right;\">3</td><td style=\"text-align: right;\">0.57</td></tr>\n",
       "</table>"
      ],
      "text/plain": [
       "<IPython.core.display.HTML object>"
      ]
     },
     "execution_count": 2,
     "metadata": {},
     "output_type": "execute_result"
    }
   ],
   "source": [
    "HTML(dm.series_html(di_9_39))"
   ]
  },
  {
   "cell_type": "code",
   "execution_count": 3,
   "metadata": {
    "collapsed": false
   },
   "outputs": [
    {
     "data": {
      "text/plain": [
       "array([(0, 4959), (1, 5), (2, 2), (7, 3), (8, 4), (9, 35)], \n",
       "      dtype=[('count', '<u2'), ('snps', '<u2')])"
      ]
     },
     "execution_count": 3,
     "metadata": {},
     "output_type": "execute_result"
    }
   ],
   "source": [
    "count_data = sa_9_39.unique_snps_per_allele()\n",
    "count_data"
   ]
  },
  {
   "cell_type": "code",
   "execution_count": 4,
   "metadata": {
    "collapsed": false
   },
   "outputs": [
    {
     "data": {
      "text/html": [
       "\n",
       "\n",
       "    <div class=\"bk-root\">\n",
       "        <div class=\"plotdiv\" id=\"cdce6227-d661-4982-8a48-3c353c7da7c2\"></div>\n",
       "    </div>\n",
       "<script type=\"text/javascript\">\n",
       "  \n",
       "  (function(global) {\n",
       "    function now() {\n",
       "      return new Date();\n",
       "    }\n",
       "  \n",
       "    if (typeof (window._bokeh_onload_callbacks) === \"undefined\") {\n",
       "      window._bokeh_onload_callbacks = [];\n",
       "    }\n",
       "  \n",
       "    function run_callbacks() {\n",
       "      window._bokeh_onload_callbacks.forEach(function(callback) { callback() });\n",
       "      delete window._bokeh_onload_callbacks\n",
       "      console.info(\"Bokeh: all callbacks have finished\");\n",
       "    }\n",
       "  \n",
       "    function load_libs(js_urls, callback) {\n",
       "      window._bokeh_onload_callbacks.push(callback);\n",
       "      if (window._bokeh_is_loading > 0) {\n",
       "        console.log(\"Bokeh: BokehJS is being loaded, scheduling callback at\", now());\n",
       "        return null;\n",
       "      }\n",
       "      if (js_urls == null || js_urls.length === 0) {\n",
       "        run_callbacks();\n",
       "        return null;\n",
       "      }\n",
       "      console.log(\"Bokeh: BokehJS not loaded, scheduling load and callback at\", now());\n",
       "      window._bokeh_is_loading = js_urls.length;\n",
       "      for (var i = 0; i < js_urls.length; i++) {\n",
       "        var url = js_urls[i];\n",
       "        var s = document.createElement('script');\n",
       "        s.src = url;\n",
       "        s.async = false;\n",
       "        s.onreadystatechange = s.onload = function() {\n",
       "          window._bokeh_is_loading--;\n",
       "          if (window._bokeh_is_loading === 0) {\n",
       "            console.log(\"Bokeh: all BokehJS libraries loaded\");\n",
       "            run_callbacks()\n",
       "          }\n",
       "        };\n",
       "        s.onerror = function() {\n",
       "          console.warn(\"failed to load library \" + url);\n",
       "        };\n",
       "        console.log(\"Bokeh: injecting script tag for BokehJS library: \", url);\n",
       "        document.getElementsByTagName(\"head\")[0].appendChild(s);\n",
       "      }\n",
       "    };var element = document.getElementById(\"cdce6227-d661-4982-8a48-3c353c7da7c2\");\n",
       "    if (element == null) {\n",
       "      console.log(\"Bokeh: ERROR: autoload.js configured with elementid 'cdce6227-d661-4982-8a48-3c353c7da7c2' but no matching script tag was found. \")\n",
       "      return false;\n",
       "    }\n",
       "  \n",
       "    var js_urls = [];\n",
       "  \n",
       "    var inline_js = [\n",
       "      function(Bokeh) {\n",
       "        Bokeh.$(function() {\n",
       "            var docs_json = {\"431c425d-ee7f-489d-9376-f5fa9f48faa8\":{\"roots\":{\"references\":[{\"attributes\":{\"callback\":null,\"column_names\":[\"y\",\"x\",\"vals\"],\"data\":{\"vals\":[\"RAB3GAP1\",\"ZRANB3\",\"R3HDM1\",\"UBXN4\",\"LCT\",\"MCM6\",\"DARS\"],\"x\":[135869057.0,136122878.0,136385961.0,136520911.0,136570082.5,136615621.5,136703738.0],\"y\":[860.0,860.0,860.0,860.0,860.0,860.0,860.0]}},\"id\":\"8e7278e8-c86e-40db-a3e6-9936e3bf3dc4\",\"type\":\"ColumnDataSource\"},{\"attributes\":{},\"id\":\"8c73810c-5518-41e5-abf4-506c9c83eb11\",\"type\":\"ToolEvents\"},{\"attributes\":{\"below\":[{\"id\":\"5a820412-4fda-4b69-b2c4-b506a659a511\",\"type\":\"LinearAxis\"}],\"left\":[{\"id\":\"8f22e718-5dfa-4a70-b978-89c7e88b0cc9\",\"type\":\"LinearAxis\"}],\"plot_height\":900,\"plot_width\":900,\"renderers\":[{\"id\":\"5a820412-4fda-4b69-b2c4-b506a659a511\",\"type\":\"LinearAxis\"},{\"id\":\"1ee47cac-b875-447f-8ea8-3580d608319b\",\"type\":\"Grid\"},{\"id\":\"8f22e718-5dfa-4a70-b978-89c7e88b0cc9\",\"type\":\"LinearAxis\"},{\"id\":\"7a1de6ed-6738-4d89-8aef-1a11a9cdc2a1\",\"type\":\"Grid\"},{\"id\":\"848a8f5d-5602-4ecb-a0fe-910a06f1a9f0\",\"type\":\"BoxAnnotation\"},{\"id\":\"5a9ce519-74c4-454a-87f2-0ad195ac0ac2\",\"type\":\"GlyphRenderer\"},{\"id\":\"adcaca94-6d09-4169-85c0-f26bdd6f9733\",\"type\":\"GlyphRenderer\"},{\"id\":\"547e4d51-93ad-4d7f-ba3e-cf0d0504243f\",\"type\":\"LabelSet\"},{\"id\":\"fca37377-e57b-42ce-9bb4-7a246cb42f09\",\"type\":\"GlyphRenderer\"},{\"id\":\"4b732977-3577-4312-990f-9dab0c340893\",\"type\":\"LabelSet\"}],\"title\":{\"id\":\"fd3f1789-5b6f-49bf-8a41-a254ee4c7a25\",\"type\":\"Title\"},\"tool_events\":{\"id\":\"8c73810c-5518-41e5-abf4-506c9c83eb11\",\"type\":\"ToolEvents\"},\"toolbar\":{\"id\":\"2d21e690-62b1-4d5d-b0e4-f683ec358bcd\",\"type\":\"Toolbar\"},\"toolbar_location\":null,\"x_range\":{\"id\":\"5d920cea-7eff-45e6-9ee9-90db52d1ed00\",\"type\":\"Range1d\"},\"y_range\":{\"id\":\"98f1ac45-43d6-4917-b503-62e6d2e31b9d\",\"type\":\"Range1d\"}},\"id\":\"3225afaf-a435-4784-898a-2c1ba7147009\",\"subtype\":\"Figure\",\"type\":\"Plot\"},{\"attributes\":{\"dimension\":1,\"plot\":{\"id\":\"3225afaf-a435-4784-898a-2c1ba7147009\",\"subtype\":\"Figure\",\"type\":\"Plot\"},\"ticker\":{\"id\":\"17ac25ad-e7ae-4155-a93b-7a1fb315e11f\",\"type\":\"BasicTicker\"}},\"id\":\"7a1de6ed-6738-4d89-8aef-1a11a9cdc2a1\",\"type\":\"Grid\"},{\"attributes\":{\"callback\":null,\"column_names\":[\"y\",\"x\",\"vals\"],\"data\":{\"vals\":[\"117_1685\",\"62_1265\",\"8_267\",\"4_815\",\"6_946\",\"6_713\",\"9_39\",\"32_1361\",\"81_857\",\"13_1227\",\"4_1442\",\"7_1303\",\"7_1760\",\"6_1114\",\"5_1296\",\"24_1504\"],\"x\":[135758231,135766890,135818487,135839805,135964764,135989333,136028572,136393658,136494985,136500475,136506375,136535876,136588031,136652491,136652953,136653925],\"y\":[801.0,498.0,185.0,295.0,396.0,293.0,68.0,699.0,395.0,498.0,699.0,599.0,801.0,497.0,599.0,800.0]}},\"id\":\"80d5fc7d-cda2-4672-aeeb-fc4a437e5be9\",\"type\":\"ColumnDataSource\"},{\"attributes\":{\"callback\":null,\"column_names\":[\"xs\",\"ys\",\"line_color\"],\"data\":{\"line_color\":[\"black\",\"black\",\"black\",\"black\",\"black\",\"black\",\"black\",\"black\",\"black\",\"black\",\"black\",\"black\",\"black\",\"black\",\"black\",\"black\",\"black\",\"black\",\"black\",\"black\",\"black\",\"black\",\"black\",\"black\",\"black\",\"black\",\"black\",\"black\",\"black\",\"black\",\"black\",\"black\",\"black\",\"black\",\"black\",\"black\",\"black\",\"black\",\"black\",\"black\",\"black\",\"black\",\"black\",\"black\",\"black\",\"black\",\"black\",\"black\",\"black\",\"black\",\"black\",\"black\",\"black\",\"black\",\"black\",\"black\",\"black\",\"black\",\"black\",\"black\",\"black\",\"black\",\"black\",\"black\",\"black\",\"black\",\"black\",\"black\",\"black\",\"black\",\"black\",\"black\",\"black\",\"black\",\"black\",\"black\",\"black\",\"black\",\"black\",\"black\",\"black\",\"black\",\"black\",\"black\",\"black\",\"black\",\"black\",\"black\",\"black\",\"black\",\"black\",\"black\",\"black\",\"black\",\"black\",\"black\",\"black\",\"black\",\"black\",\"black\",\"black\",\"black\",\"black\",\"black\",\"black\",\"black\",\"black\",\"black\",\"black\",\"black\",\"black\",\"black\",\"black\",\"black\",\"black\",\"black\",\"black\",\"black\",\"black\",\"black\",\"black\",\"black\",\"black\",\"black\",\"black\",\"black\",\"black\",\"black\",\"black\",\"black\",\"black\",\"black\",\"black\",\"black\",\"black\",\"black\",\"black\",\"black\",\"black\",\"black\",\"black\",\"black\",\"black\",\"black\",\"black\",\"black\",\"black\",\"black\",\"black\",\"black\",\"black\",\"black\",\"black\",\"black\",\"black\",\"black\",\"black\",\"black\",\"black\",\"black\",\"black\",\"black\",\"black\",\"black\",\"black\",\"black\",\"black\",\"black\",\"black\",\"black\",\"black\",\"black\",\"black\",\"black\",\"black\",\"black\",\"black\",\"black\",\"black\",\"black\",\"black\",\"black\",\"black\",\"black\",\"black\",\"black\",\"black\",\"black\",\"black\",\"black\",\"black\",\"black\",\"black\",\"black\",\"black\",\"black\",\"black\",\"black\",\"black\",\"black\",\"black\",\"black\",\"black\",\"black\",\"black\",\"black\",\"black\",\"black\",\"black\",\"black\",\"black\",\"black\",\"black\",\"black\",\"black\",\"black\",\"black\",\"black\",\"black\",\"black\",\"black\",\"black\",\"black\",\"black\",\"black\",\"black\",\"black\",\"black\",\"black\",\"black\",\"black\",\"black\",\"black\",\"black\",\"black\",\"black\",\"black\",\"black\",\"black\",\"black\",\"black\",\"black\",\"black\",\"black\",\"black\",\"black\",\"black\",\"black\",\"black\",\"black\",\"black\",\"black\",\"black\",\"black\",\"black\",\"black\",\"black\",\"black\",\"black\",\"black\",\"black\",\"black\",\"black\",\"black\",\"black\",\"black\",\"black\",\"black\",\"black\",\"black\",\"black\",\"black\",\"black\",\"black\",\"black\",\"black\",\"black\",\"black\",\"black\",\"black\",\"black\",\"black\",\"black\",\"black\",\"black\",\"black\",\"black\",\"black\",\"black\",\"black\",\"black\",\"black\",\"black\",\"black\",\"black\",\"black\",\"black\",\"black\",\"black\",\"black\",\"black\",\"black\",\"black\",\"black\",\"black\",\"black\",\"black\",\"black\",\"black\",\"black\",\"black\",\"black\",\"black\",\"black\",\"black\",\"black\",\"black\",\"black\",\"black\",\"black\",\"black\",\"black\",\"black\",\"black\",\"black\",\"black\",\"black\",\"black\",\"black\",\"black\",\"black\",\"black\",\"black\",\"black\",\"black\",\"black\",\"black\",\"black\",\"black\",\"black\",\"black\",\"black\",\"black\",\"black\",\"black\",\"black\",\"black\",\"black\",\"black\",\"black\",\"black\",\"black\",\"black\",\"black\",\"black\",\"black\",\"black\",\"black\",\"black\",\"black\",\"black\",\"black\",\"black\",\"black\",\"black\",\"black\",\"black\",\"black\",\"black\",\"black\",\"black\",\"black\",\"black\",\"black\",\"black\",\"black\",\"black\",\"black\",\"black\",\"black\",\"black\",\"black\",\"black\",\"black\",\"black\",\"black\",\"black\",\"black\",\"black\",\"black\",\"black\"],\"xs\":[[135758231,135758231],[135758520,135758520],[135766072,135766072],[135773420,135773420],[135773446,135773446],[135773617,135773617],[135773692,135773692],[135774681,135774681],[135775049,135775049],[135776430,135776430],[135778656,135778656],[135780168,135780168],[135780587,135780587],[135781301,135781301],[135781522,135781522],[135781635,135781635],[135782456,135782456],[135783157,135783157],[135783366,135783366],[135783367,135783367],[135784227,135784227],[135784733,135784733],[135785066,135785066],[135785068,135785068],[135785149,135785149],[135787148,135787148],[135787642,135787642],[135789405,135789405],[135789472,135789472],[135789682,135789682],[135789784,135789784],[135792338,135792338],[135792528,135792528],[135793565,135793565],[135793684,135793684],[135793845,135793845],[135794367,135794367],[135794986,135794986],[135795040,135795040],[135795095,135795095],[135795150,135795150],[135795385,135795385],[135795396,135795396],[135795443,135795443],[135795595,135795595],[135796000,135796000],[135796155,135796155],[135796410,135796410],[135796965,135796965],[135797223,135797223],[135797747,135797747],[135798082,135798082],[135798758,135798758],[135799082,135799082],[135800085,135800085],[135800601,135800601],[135800757,135800757],[135801228,135801228],[135801956,135801956],[135802020,135802020],[135802028,135802028],[135802050,135802050],[135802148,135802148],[135803766,135803766],[135809241,135809241],[135812969,135812969],[135814716,135814716],[135818907,135818907],[135829432,135829432],[135832131,135832131],[135849613,135849613],[135853807,135853807],[135859923,135859923],[135860305,135860305],[135861497,135861497],[135863143,135863143],[135864294,135864294],[135871624,135871624],[135872646,135872646],[135874038,135874038],[135874622,135874622],[135878814,135878814],[135880013,135880013],[135884487,135884487],[135885357,135885357],[135893853,135893853],[135895809,135895809],[135895879,135895879],[135899069,135899069],[135909462,135909462],[135912977,135912977],[135914038,135914038],[135921839,135921839],[135925002,135925002],[135928312,135928312],[135935049,135935049],[135962711,135962711],[135984172,135984172],[135994753,135994753],[135994754,135994754],[136016079,136016079],[136027264,136027264],[136052004,136052004],[136100473,136100473],[136110129,136110129],[136166536,136166536],[136169799,136169799],[136191314,136191314],[136228887,136228887],[136238453,136238453],[136288273,136288273],[136292425,136292425],[136321951,136321951],[136324564,136324564],[136327299,136327299],[136327302,136327302],[136376515,136376515],[135766890,135766890],[135778708,135778708],[135779588,135779588],[135805941,135805941],[135805943,135805943],[135932720,135932720],[135933317,135933317],[135934842,135934842],[135952376,135952376],[135958853,135958853],[135962864,135962864],[135963304,135963304],[135965376,135965376],[135980201,135980201],[135981554,135981554],[135988127,135988127],[135988416,135988416],[135991470,135991470],[136000500,136000500],[136001215,136001215],[136001295,136001295],[136016514,136016514],[136017388,136017388],[136041102,136041102],[136041662,136041662],[136047387,136047387],[136052936,136052936],[136055275,136055275],[136063118,136063118],[136066802,136066802],[136068890,136068890],[136069577,136069577],[136081193,136081193],[136105193,136105193],[136107839,136107839],[136110835,136110835],[136138026,136138026],[136142092,136142092],[136146499,136146499],[136147607,136147607],[136148401,136148401],[136150512,136150512],[136154734,136154734],[136155805,136155805],[136163001,136163001],[136163266,136163266],[136163568,136163568],[136163821,136163821],[136165965,136165965],[136183312,136183312],[136185945,136185945],[136191729,136191729],[136204827,136204827],[136208747,136208747],[136217980,136217980],[136229438,136229438],[136232572,136232572],[136240942,136240942],[136251329,136251329],[136265187,136265187],[136265188,136265188],[136275985,136275985],[135818487,135818487],[136048649,136048649],[136107286,136107286],[136127914,136127914],[136130497,136130497],[136268096,136268096],[136281880,136281880],[136289565,136289565],[135839805,135839805],[135866750,135866750],[135886744,135886744],[135924467,135924467],[135964764,135964764],[135964765,135964765],[136099127,136099127],[136099650,136099650],[136100705,136100705],[136101132,136101132],[135989333,135989333],[136000304,136000304],[136030519,136030519],[136034836,136034836],[136125165,136125165],[136264631,136264631],[136028572,136028572],[136141525,136141525],[136174478,136174478],[136211744,136211744],[136240608,136240608],[136320031,136320031],[136320040,136320040],[136368926,136368926],[136438465,136438465],[136393658,136393658],[136396300,136396300],[136401843,136401843],[136407445,136407445],[136411879,136411879],[136412270,136412270],[136413244,136413244],[136413847,136413847],[136415217,136415217],[136416533,136416533],[136420726,136420726],[136429857,136429857],[136433740,136433740],[136436317,136436317],[136437615,136437615],[136438517,136438517],[136440300,136440300],[136443900,136443900],[136444185,136444185],[136444338,136444338],[136449254,136449254],[136451676,136451676],[136459227,136459227],[136463117,136463117],[136463454,136463454],[136467119,136467119],[136468238,136468238],[136470219,136470219],[136483355,136483355],[136485276,136485276],[136486340,136486340],[136486342,136486342],[136494985,136494985],[136497199,136497199],[136511817,136511817],[136513670,136513670],[136515458,136515458],[136516970,136516970],[136525309,136525309],[136528034,136528034],[136532225,136532225],[136535235,136535235],[136536095,136536095],[136544423,136544423],[136546927,136546927],[136552188,136552188],[136552517,136552517],[136555525,136555525],[136556480,136556480],[136560464,136560464],[136572285,136572285],[136582694,136582694],[136582809,136582809],[136584538,136584538],[136585323,136585323],[136586825,136586825],[136600662,136600662],[136612036,136612036],[136618178,136618178],[136618507,136618507],[136622543,136622543],[136624947,136624947],[136625113,136625113],[136626078,136626078],[136628121,136628121],[136632300,136632300],[136633962,136633962],[136635343,136635343],[136638113,136638113],[136640101,136640101],[136641593,136641593],[136646582,136646582],[136648077,136648077],[136648883,136648883],[136652045,136652045],[136653848,136653848],[136656094,136656094],[136661110,136661110],[136663110,136663110],[136663605,136663605],[136665162,136665162],[136665711,136665711],[136668123,136668123],[136670419,136670419],[136672680,136672680],[136673546,136673546],[136684632,136684632],[136686114,136686114],[136690425,136690425],[136690783,136690783],[136692893,136692893],[136694905,136694905],[136695694,136695694],[136695705,136695705],[136696608,136696608],[136697372,136697372],[136697468,136697468],[136700024,136700024],[136701539,136701539],[136702118,136702118],[136707480,136707480],[136710554,136710554],[136714178,136714178],[136719173,136719173],[136725459,136725459],[136734569,136734569],[136744678,136744678],[136748779,136748779],[136751488,136751488],[136754183,136754183],[136763242,136763242],[136765074,136765074],[136773638,136773638],[136500475,136500475],[136501509,136501509],[136504101,136504101],[136509868,136509868],[136520043,136520043],[136527120,136527120],[136530379,136530379],[136530443,136530443],[136539330,136539330],[136539670,136539670],[136540083,136540083],[136542559,136542559],[136542560,136542560],[136506375,136506375],[136506927,136506927],[136510012,136510012],[136538939,136538939],[136535876,136535876],[136544651,136544651],[136545844,136545844],[136552526,136552526],[136553022,136553022],[136554797,136554797],[136554890,136554890],[136588031,136588031],[136589278,136589278],[136589379,136589379],[136589741,136589741],[136590746,136590746],[136593553,136593553],[136593678,136593678],[136652491,136652491],[136652524,136652524],[136661150,136661150],[136669264,136669264],[136726567,136726567],[136732772,136732772],[136652953,136652953],[136655582,136655582],[136674028,136674028],[136684940,136684940],[136761175,136761175],[136653925,136653925],[136654833,136654833],[136656534,136656534],[136656536,136656536],[136657252,136657252],[136667301,136667301],[136667487,136667487],[136672775,136672775],[136680534,136680534],[136686393,136686393],[136688749,136688749],[136692553,136692553],[136697371,136697371],[136708787,136708787],[136710372,136710372],[136711064,136711064],[136715324,136715324],[136723504,136723504],[136737460,136737460],[136743143,136743143],[136746224,136746224],[136751842,136751842],[136759379,136759379],[136761853,136761853]],\"ys\":[[750,796],[750,796],[750,796],[750,796],[750,796],[750,796],[750,796],[750,796],[750,796],[750,796],[750,796],[750,796],[750,796],[750,796],[750,796],[750,796],[750,796],[750,796],[750,796],[750,796],[750,796],[750,796],[750,796],[750,796],[750,796],[750,796],[750,796],[750,796],[750,796],[750,796],[750,796],[750,796],[750,796],[750,796],[750,796],[750,796],[750,796],[750,796],[750,796],[750,796],[750,796],[750,796],[750,796],[750,796],[750,796],[750,796],[750,796],[750,796],[750,796],[750,796],[750,796],[750,796],[750,796],[750,796],[750,796],[750,796],[750,796],[750,796],[750,796],[750,796],[750,796],[750,796],[750,796],[750,796],[750,796],[750,796],[750,796],[750,796],[750,796],[750,796],[750,796],[750,796],[750,796],[750,796],[750,796],[750,796],[750,796],[750,796],[750,796],[750,796],[750,796],[750,796],[750,796],[750,796],[750,796],[750,796],[750,796],[750,796],[750,796],[750,796],[750,796],[750,796],[750,796],[750,796],[750,796],[750,796],[750,796],[750,796],[750,796],[750,796],[750,796],[750,796],[750,796],[750,796],[750,796],[750,796],[750,796],[750,796],[750,796],[750,796],[750,796],[750,796],[750,796],[750,796],[750,796],[750,796],[750,796],[450,493],[450,493],[450,493],[450,493],[450,493],[450,493],[450,493],[450,493],[450,493],[450,493],[450,493],[450,493],[450,493],[450,493],[450,493],[450,493],[450,493],[450,493],[450,493],[450,493],[450,493],[450,493],[450,493],[450,493],[450,493],[450,493],[450,493],[450,493],[450,493],[450,493],[450,493],[450,493],[450,493],[450,493],[450,493],[450,493],[450,493],[450,493],[450,493],[450,493],[450,493],[450,493],[450,493],[450,493],[450,493],[450,493],[450,493],[450,493],[450,493],[450,493],[450,493],[450,493],[450,493],[450,493],[450,493],[450,493],[450,493],[450,493],[450,493],[450,493],[450,493],[450,493],[150,180],[150,180],[150,180],[150,180],[150,180],[150,180],[150,180],[150,180],[250,290],[250,290],[250,290],[250,290],[350,391],[350,391],[350,391],[350,391],[350,391],[350,391],[250,288],[250,288],[250,288],[250,288],[250,288],[250,288],[50,63],[50,63],[50,63],[50,63],[50,63],[50,63],[50,63],[50,63],[50,63],[650,694],[650,694],[650,694],[650,694],[650,694],[650,694],[650,694],[650,694],[650,694],[650,694],[650,694],[650,694],[650,694],[650,694],[650,694],[650,694],[650,694],[650,694],[650,694],[650,694],[650,694],[650,694],[650,694],[650,694],[650,694],[650,694],[650,694],[650,694],[650,694],[650,694],[650,694],[650,694],[350,390],[350,390],[350,390],[350,390],[350,390],[350,390],[350,390],[350,390],[350,390],[350,390],[350,390],[350,390],[350,390],[350,390],[350,390],[350,390],[350,390],[350,390],[350,390],[350,390],[350,390],[350,390],[350,390],[350,390],[350,390],[350,390],[350,390],[350,390],[350,390],[350,390],[350,390],[350,390],[350,390],[350,390],[350,390],[350,390],[350,390],[350,390],[350,390],[350,390],[350,390],[350,390],[350,390],[350,390],[350,390],[350,390],[350,390],[350,390],[350,390],[350,390],[350,390],[350,390],[350,390],[350,390],[350,390],[350,390],[350,390],[350,390],[350,390],[350,390],[350,390],[350,390],[350,390],[350,390],[350,390],[350,390],[350,390],[350,390],[350,390],[350,390],[350,390],[350,390],[350,390],[350,390],[350,390],[350,390],[350,390],[350,390],[350,390],[350,390],[350,390],[450,493],[450,493],[450,493],[450,493],[450,493],[450,493],[450,493],[450,493],[450,493],[450,493],[450,493],[450,493],[450,493],[650,694],[650,694],[650,694],[650,694],[550,594],[550,594],[550,594],[550,594],[550,594],[550,594],[550,594],[750,796],[750,796],[750,796],[750,796],[750,796],[750,796],[750,796],[450,492],[450,492],[450,492],[450,492],[450,492],[450,492],[550,594],[550,594],[550,594],[550,594],[550,594],[750,795],[750,795],[750,795],[750,795],[750,795],[750,795],[750,795],[750,795],[750,795],[750,795],[750,795],[750,795],[750,795],[750,795],[750,795],[750,795],[750,795],[750,795],[750,795],[750,795],[750,795],[750,795],[750,795],[750,795]]}},\"id\":\"a9441b9e-849f-4e2f-ab68-e76eba445cce\",\"type\":\"ColumnDataSource\"},{\"attributes\":{\"overlay\":{\"id\":\"848a8f5d-5602-4ecb-a0fe-910a06f1a9f0\",\"type\":\"BoxAnnotation\"},\"plot\":{\"id\":\"3225afaf-a435-4784-898a-2c1ba7147009\",\"subtype\":\"Figure\",\"type\":\"Plot\"}},\"id\":\"ff58a369-0691-436a-9ca4-11a9299e90cc\",\"type\":\"BoxZoomTool\"},{\"attributes\":{\"plot\":{\"id\":\"3225afaf-a435-4784-898a-2c1ba7147009\",\"subtype\":\"Figure\",\"type\":\"Plot\"}},\"id\":\"276b1bf6-b4e5-4708-9411-9068993630f7\",\"type\":\"HelpTool\"},{\"attributes\":{\"formatter\":{\"id\":\"f8241644-f554-43c1-b631-ae5444400c5b\",\"type\":\"BasicTickFormatter\"},\"plot\":{\"id\":\"3225afaf-a435-4784-898a-2c1ba7147009\",\"subtype\":\"Figure\",\"type\":\"Plot\"},\"ticker\":{\"id\":\"62f3a519-3830-442c-8ffb-0bc6decc730a\",\"type\":\"BasicTicker\"}},\"id\":\"5a820412-4fda-4b69-b2c4-b506a659a511\",\"type\":\"LinearAxis\"},{\"attributes\":{\"data_source\":{\"id\":\"465b6217-055c-4a75-a8de-71e80b092fda\",\"type\":\"ColumnDataSource\"},\"glyph\":{\"id\":\"ea7566b9-18b9-49a6-a868-8a50bfa4c9f7\",\"type\":\"Quad\"},\"hover_glyph\":null,\"nonselection_glyph\":{\"id\":\"1435f5b1-6035-4851-a8e7-0ae67a7c0f5e\",\"type\":\"Quad\"},\"selection_glyph\":null},\"id\":\"fca37377-e57b-42ce-9bb4-7a246cb42f09\",\"type\":\"GlyphRenderer\"},{\"attributes\":{\"callback\":null,\"end\":900},\"id\":\"98f1ac45-43d6-4917-b503-62e6d2e31b9d\",\"type\":\"Range1d\"},{\"attributes\":{\"plot\":{\"id\":\"3225afaf-a435-4784-898a-2c1ba7147009\",\"subtype\":\"Figure\",\"type\":\"Plot\"}},\"id\":\"df4c2283-e953-49f9-97e2-c5fce8dfade6\",\"type\":\"SaveTool\"},{\"attributes\":{\"level\":\"glyph\",\"plot\":{\"id\":\"3225afaf-a435-4784-898a-2c1ba7147009\",\"subtype\":\"Figure\",\"type\":\"Plot\"},\"source\":{\"id\":\"80d5fc7d-cda2-4672-aeeb-fc4a437e5be9\",\"type\":\"ColumnDataSource\"},\"text\":{\"field\":\"vals\"},\"text_font_size\":{\"value\":\"9pt\"},\"text_font_style\":\"bold\",\"x\":{\"field\":\"x\"},\"y\":{\"field\":\"y\"}},\"id\":\"547e4d51-93ad-4d7f-ba3e-cf0d0504243f\",\"type\":\"LabelSet\"},{\"attributes\":{\"bottom\":{\"field\":\"bottom\"},\"fill_color\":{\"value\":\"white\"},\"left\":{\"field\":\"left\"},\"right\":{\"field\":\"right\"},\"top\":{\"field\":\"top\"}},\"id\":\"ea7566b9-18b9-49a6-a868-8a50bfa4c9f7\",\"type\":\"Quad\"},{\"attributes\":{},\"id\":\"62f3a519-3830-442c-8ffb-0bc6decc730a\",\"type\":\"BasicTicker\"},{\"attributes\":{\"bottom_units\":\"screen\",\"fill_alpha\":{\"value\":0.5},\"fill_color\":{\"value\":\"lightgrey\"},\"left_units\":\"screen\",\"level\":\"overlay\",\"line_alpha\":{\"value\":1.0},\"line_color\":{\"value\":\"black\"},\"line_dash\":[4,4],\"line_width\":{\"value\":2},\"plot\":null,\"render_mode\":\"css\",\"right_units\":\"screen\",\"top_units\":\"screen\"},\"id\":\"848a8f5d-5602-4ecb-a0fe-910a06f1a9f0\",\"type\":\"BoxAnnotation\"},{\"attributes\":{\"line_alpha\":{\"value\":0.1},\"line_color\":{\"value\":\"#1f77b4\"},\"xs\":{\"field\":\"xs\"},\"ys\":{\"field\":\"ys\"}},\"id\":\"3bffc519-f4be-41c4-aa75-82da709eef98\",\"type\":\"MultiLine\"},{\"attributes\":{\"plot\":{\"id\":\"3225afaf-a435-4784-898a-2c1ba7147009\",\"subtype\":\"Figure\",\"type\":\"Plot\"},\"ticker\":{\"id\":\"62f3a519-3830-442c-8ffb-0bc6decc730a\",\"type\":\"BasicTicker\"}},\"id\":\"1ee47cac-b875-447f-8ea8-3580d608319b\",\"type\":\"Grid\"},{\"attributes\":{\"formatter\":{\"id\":\"7a7f4fb6-e350-4af7-838f-a7c3ace9263d\",\"type\":\"BasicTickFormatter\"},\"plot\":{\"id\":\"3225afaf-a435-4784-898a-2c1ba7147009\",\"subtype\":\"Figure\",\"type\":\"Plot\"},\"ticker\":{\"id\":\"17ac25ad-e7ae-4155-a93b-7a1fb315e11f\",\"type\":\"BasicTicker\"},\"visible\":null},\"id\":\"8f22e718-5dfa-4a70-b978-89c7e88b0cc9\",\"type\":\"LinearAxis\"},{\"attributes\":{\"plot\":{\"id\":\"3225afaf-a435-4784-898a-2c1ba7147009\",\"subtype\":\"Figure\",\"type\":\"Plot\"}},\"id\":\"7cd7b046-d103-44ef-b87a-5cf867d24ea7\",\"type\":\"PanTool\"},{\"attributes\":{\"data_source\":{\"id\":\"f66d2678-ee57-4552-b782-b477363a2dc0\",\"type\":\"ColumnDataSource\"},\"glyph\":{\"id\":\"585aae10-a391-4283-ab0b-62e64bc29b13\",\"type\":\"Quad\"},\"hover_glyph\":null,\"nonselection_glyph\":{\"id\":\"c63db5c2-165c-4513-b4ba-ddf9d8fe7a87\",\"type\":\"Quad\"},\"selection_glyph\":null},\"id\":\"5a9ce519-74c4-454a-87f2-0ad195ac0ac2\",\"type\":\"GlyphRenderer\"},{\"attributes\":{},\"id\":\"7a7f4fb6-e350-4af7-838f-a7c3ace9263d\",\"type\":\"BasicTickFormatter\"},{\"attributes\":{\"plot\":{\"id\":\"3225afaf-a435-4784-898a-2c1ba7147009\",\"subtype\":\"Figure\",\"type\":\"Plot\"}},\"id\":\"6adf5675-ab45-4885-aada-a7a474a99990\",\"type\":\"ResetTool\"},{\"attributes\":{\"plot\":{\"id\":\"3225afaf-a435-4784-898a-2c1ba7147009\",\"subtype\":\"Figure\",\"type\":\"Plot\"}},\"id\":\"c3f4c394-dc6d-4d91-ab42-0c9d81ded549\",\"type\":\"WheelZoomTool\"},{\"attributes\":{\"bottom\":{\"field\":\"bottom\"},\"fill_color\":{\"field\":\"fill_color\"},\"left\":{\"field\":\"left\"},\"line_color\":{\"value\":null},\"right\":{\"field\":\"right\"},\"top\":{\"field\":\"top\"}},\"id\":\"585aae10-a391-4283-ab0b-62e64bc29b13\",\"type\":\"Quad\"},{\"attributes\":{\"bottom\":{\"field\":\"bottom\"},\"fill_alpha\":{\"value\":0.1},\"fill_color\":{\"value\":\"#1f77b4\"},\"left\":{\"field\":\"left\"},\"line_alpha\":{\"value\":0.1},\"line_color\":{\"value\":\"#1f77b4\"},\"right\":{\"field\":\"right\"},\"top\":{\"field\":\"top\"}},\"id\":\"c63db5c2-165c-4513-b4ba-ddf9d8fe7a87\",\"type\":\"Quad\"},{\"attributes\":{\"callback\":null,\"end\":136786630,\"start\":135757320},\"id\":\"5d920cea-7eff-45e6-9ee9-90db52d1ed00\",\"type\":\"Range1d\"},{\"attributes\":{\"line_color\":{\"field\":\"line_color\"},\"xs\":{\"field\":\"xs\"},\"ys\":{\"field\":\"ys\"}},\"id\":\"913669ac-fc9a-417b-8048-f2241cf6a066\",\"type\":\"MultiLine\"},{\"attributes\":{},\"id\":\"17ac25ad-e7ae-4155-a93b-7a1fb315e11f\",\"type\":\"BasicTicker\"},{\"attributes\":{\"callback\":null,\"column_names\":[\"right\",\"bottom\",\"top\",\"left\",\"fill_color\"],\"data\":{\"bottom\":[750,450,150,250,350,250,50,650,350,450,650,550,750,450,550,750],\"fill_color\":[\"#808080\",\"#808080\",\"#c461c4\",\"#61c4c4\",\"#61c4c4\",\"#61c4c4\",\"#00ff00\",\"#c4c461\",\"#808080\",\"#808080\",\"#808080\",\"#808080\",\"#c46161\",\"#808080\",\"#808080\",\"#808080\"],\"left\":[135758231,135766890,135818487,135839805,135964764,135989333,136028572,136393658,136494985,136500475,136506375,136535876,136588031,136652491,136652953,136653925],\"right\":[136376515,136275985,136289565,135924467,136101132,136264631,136438465,136486342,136773638,136542560,136538939,136554890,136593678,136732772,136761175,136761853],\"top\":[796,493,180,290,391,288,63,694,390,493,694,594,796,492,594,795]}},\"id\":\"f66d2678-ee57-4552-b782-b477363a2dc0\",\"type\":\"ColumnDataSource\"},{\"attributes\":{\"bottom\":{\"field\":\"bottom\"},\"fill_alpha\":{\"value\":0.1},\"fill_color\":{\"value\":\"#1f77b4\"},\"left\":{\"field\":\"left\"},\"line_alpha\":{\"value\":0.1},\"line_color\":{\"value\":\"#1f77b4\"},\"right\":{\"field\":\"right\"},\"top\":{\"field\":\"top\"}},\"id\":\"1435f5b1-6035-4851-a8e7-0ae67a7c0f5e\",\"type\":\"Quad\"},{\"attributes\":{\"data_source\":{\"id\":\"a9441b9e-849f-4e2f-ab68-e76eba445cce\",\"type\":\"ColumnDataSource\"},\"glyph\":{\"id\":\"913669ac-fc9a-417b-8048-f2241cf6a066\",\"type\":\"MultiLine\"},\"hover_glyph\":null,\"nonselection_glyph\":{\"id\":\"3bffc519-f4be-41c4-aa75-82da709eef98\",\"type\":\"MultiLine\"},\"selection_glyph\":null},\"id\":\"adcaca94-6d09-4169-85c0-f26bdd6f9733\",\"type\":\"GlyphRenderer\"},{\"attributes\":{\"active_drag\":\"auto\",\"active_scroll\":\"auto\",\"active_tap\":\"auto\",\"tools\":[{\"id\":\"7cd7b046-d103-44ef-b87a-5cf867d24ea7\",\"type\":\"PanTool\"},{\"id\":\"c3f4c394-dc6d-4d91-ab42-0c9d81ded549\",\"type\":\"WheelZoomTool\"},{\"id\":\"ff58a369-0691-436a-9ca4-11a9299e90cc\",\"type\":\"BoxZoomTool\"},{\"id\":\"df4c2283-e953-49f9-97e2-c5fce8dfade6\",\"type\":\"SaveTool\"},{\"id\":\"6adf5675-ab45-4885-aada-a7a474a99990\",\"type\":\"ResetTool\"},{\"id\":\"276b1bf6-b4e5-4708-9411-9068993630f7\",\"type\":\"HelpTool\"}]},\"id\":\"2d21e690-62b1-4d5d-b0e4-f683ec358bcd\",\"type\":\"Toolbar\"},{\"attributes\":{\"level\":\"glyph\",\"plot\":{\"id\":\"3225afaf-a435-4784-898a-2c1ba7147009\",\"subtype\":\"Figure\",\"type\":\"Plot\"},\"source\":{\"id\":\"8e7278e8-c86e-40db-a3e6-9936e3bf3dc4\",\"type\":\"ColumnDataSource\"},\"text\":{\"field\":\"vals\"},\"text_align\":\"center\",\"text_baseline\":\"middle\",\"text_font_size\":{\"value\":\"8pt\"},\"x\":{\"field\":\"x\"},\"y\":{\"field\":\"y\"}},\"id\":\"4b732977-3577-4312-990f-9dab0c340893\",\"type\":\"LabelSet\"},{\"attributes\":{\"callback\":null,\"column_names\":[\"right\",\"bottom\",\"top\",\"left\"],\"data\":{\"bottom\":[845,845,845,845,845,845,845],\"left\":[135809835,135957574,136289083,136499189,136545415,136597196,136664254],\"right\":[135928279,136288182,136482839,136542633,136594750,136634047,136743222],\"top\":[875,875,875,875,875,875,875]}},\"id\":\"465b6217-055c-4a75-a8de-71e80b092fda\",\"type\":\"ColumnDataSource\"},{\"attributes\":{\"plot\":null,\"text\":null},\"id\":\"fd3f1789-5b6f-49bf-8a41-a254ee4c7a25\",\"type\":\"Title\"},{\"attributes\":{},\"id\":\"f8241644-f554-43c1-b631-ae5444400c5b\",\"type\":\"BasicTickFormatter\"}],\"root_ids\":[\"3225afaf-a435-4784-898a-2c1ba7147009\"]},\"title\":\"Bokeh Application\",\"version\":\"0.12.0\"}};\n",
       "            var render_items = [{\"docid\":\"431c425d-ee7f-489d-9376-f5fa9f48faa8\",\"elementid\":\"cdce6227-d661-4982-8a48-3c353c7da7c2\",\"modelid\":\"3225afaf-a435-4784-898a-2c1ba7147009\",\"notebook_comms_target\":\"74ec9a76-0e2f-4b1b-8093-cc09083d0f11\"}];\n",
       "            \n",
       "            Bokeh.embed.embed_items(docs_json, render_items);\n",
       "        });\n",
       "      },\n",
       "      function(Bokeh) {\n",
       "      }\n",
       "    ];\n",
       "  \n",
       "    function run_inline_js() {\n",
       "      for (var i = 0; i < inline_js.length; i++) {\n",
       "        inline_js[i](window.Bokeh);\n",
       "      }\n",
       "    }\n",
       "  \n",
       "    if (window._bokeh_is_loading === 0) {\n",
       "      console.log(\"Bokeh: BokehJS loaded, going straight to plotting\");\n",
       "      run_inline_js();\n",
       "    } else {\n",
       "      load_libs(js_urls, function() {\n",
       "        console.log(\"Bokeh: BokehJS plotting callback run at\", now());\n",
       "        run_inline_js();\n",
       "      });\n",
       "    }\n",
       "  }(this));\n",
       "</script>"
      ]
     },
     "metadata": {},
     "output_type": "display_data"
    },
    {
     "data": {
      "text/html": [
       "<p><code>&lt;Bokeh Notebook handle for <strong>In[4]</strong>&gt;</code></p>"
      ],
      "text/plain": [
       "<bokeh.io._CommsHandle at 0x7fa3e9753a90>"
      ]
     },
     "execution_count": 4,
     "metadata": {},
     "output_type": "execute_result"
    }
   ],
   "source": [
    "plt_obj = dm.superset_yes_no([di_9_39], min_match=0.5)\n",
    "plt = plt_obj.do_plot()\n",
    "show(plt)"
   ]
  },
  {
   "cell_type": "code",
   "execution_count": 5,
   "metadata": {
    "collapsed": false
   },
   "outputs": [
    {
     "data": {
      "text/html": [
       "<table>\n",
       "<thead><tr><th style=\"text-align:center\">index</th><th style=\"text-align:center\">first</th><th style=\"text-align:center\">length</th><th style=\"text-align:center\">snps</th><th style=\"text-align:center\" colspan=2>alleles</th><th style=\"text-align:center\" colspan=2>matches</th><th style=\"text-align:center\" colspan=2>afr</th><th style=\"text-align:center\" colspan=2>afx</th><th style=\"text-align:center\" colspan=2>amr</th><th style=\"text-align:center\" colspan=2>eas</th><th style=\"text-align:center\" colspan=2>eur</th><th style=\"text-align:center\" colspan=2>sas</th><th style=\"text-align:center\" colspan=2>sax</th></tr></thead>\n",
       "<tr class=\"even\"><td style=\"text-align: right;\">354033</td><td style=\"text-align: right;\">136,588,031</td><td style=\"text-align: right;\">5,647</td><td style=\"text-align: right;\">7</td><td style=\"text-align: right;\">1760</td><td style=\"text-align: right;\">0.02</td><td style=\"text-align: right;\">32</td><td style=\"text-align: right;\">0.82</td><td style=\"text-align: right;\">1</td><td style=\"text-align: right;\">0.16</td><td style=\"text-align: right;\">0</td><td style=\"text-align: right;\">0.00</td><td style=\"text-align: right;\">9</td><td style=\"text-align: right;\">2.03</td><td style=\"text-align: right;\">0</td><td style=\"text-align: right;\">0.00</td><td style=\"text-align: right;\">19</td><td style=\"text-align: right;\">2.96</td><td style=\"text-align: right;\">0</td><td style=\"text-align: right;\">0.00</td><td style=\"text-align: right;\">3</td><td style=\"text-align: right;\">0.76</td></tr>\n",
       "<tr><td style=\"text-align: right;\">353244</td><td style=\"text-align: right;\">135,758,231</td><td style=\"text-align: right;\">618,284</td><td style=\"text-align: right;\">117</td><td style=\"text-align: right;\">1685</td><td style=\"text-align: right;\">0.02</td><td style=\"text-align: right;\">39</td><td style=\"text-align: right;\">1.00</td><td style=\"text-align: right;\">1</td><td style=\"text-align: right;\">0.13</td><td style=\"text-align: right;\">0</td><td style=\"text-align: right;\">0.00</td><td style=\"text-align: right;\">13</td><td style=\"text-align: right;\">2.41</td><td style=\"text-align: right;\">0</td><td style=\"text-align: right;\">0.00</td><td style=\"text-align: right;\">22</td><td style=\"text-align: right;\">2.81</td><td style=\"text-align: right;\">0</td><td style=\"text-align: right;\">0.00</td><td style=\"text-align: right;\">3</td><td style=\"text-align: right;\">0.63</td></tr>\n",
       "<tr class=\"even\"><td style=\"text-align: right;\">354130</td><td style=\"text-align: right;\">136,653,925</td><td style=\"text-align: right;\">107,928</td><td style=\"text-align: right;\">24</td><td style=\"text-align: right;\">1504</td><td style=\"text-align: right;\">0.02</td><td style=\"text-align: right;\">29</td><td style=\"text-align: right;\">0.74</td><td style=\"text-align: right;\">1</td><td style=\"text-align: right;\">0.17</td><td style=\"text-align: right;\">0</td><td style=\"text-align: right;\">0.00</td><td style=\"text-align: right;\">9</td><td style=\"text-align: right;\">2.24</td><td style=\"text-align: right;\">0</td><td style=\"text-align: right;\">0.00</td><td style=\"text-align: right;\">16</td><td style=\"text-align: right;\">2.75</td><td style=\"text-align: right;\">0</td><td style=\"text-align: right;\">0.00</td><td style=\"text-align: right;\">3</td><td style=\"text-align: right;\">0.84</td></tr>\n",
       "<tr><td style=\"text-align: right;\">353925</td><td style=\"text-align: right;\">136,506,375</td><td style=\"text-align: right;\">32,564</td><td style=\"text-align: right;\">4</td><td style=\"text-align: right;\">1442</td><td style=\"text-align: right;\">0.02</td><td style=\"text-align: right;\">32</td><td style=\"text-align: right;\">0.82</td><td style=\"text-align: right;\">1</td><td style=\"text-align: right;\">0.16</td><td style=\"text-align: right;\">0</td><td style=\"text-align: right;\">0.00</td><td style=\"text-align: right;\">9</td><td style=\"text-align: right;\">2.03</td><td style=\"text-align: right;\">0</td><td style=\"text-align: right;\">0.00</td><td style=\"text-align: right;\">19</td><td style=\"text-align: right;\">2.96</td><td style=\"text-align: right;\">0</td><td style=\"text-align: right;\">0.00</td><td style=\"text-align: right;\">3</td><td style=\"text-align: right;\">0.76</td></tr>\n",
       "<tr class=\"even\"><td style=\"text-align: right;\">353791</td><td style=\"text-align: right;\">136,393,658</td><td style=\"text-align: right;\">92,684</td><td style=\"text-align: right;\">32</td><td style=\"text-align: right;\">1361</td><td style=\"text-align: right;\">0.03</td><td style=\"text-align: right;\">39</td><td style=\"text-align: right;\">1.00</td><td style=\"text-align: right;\">1</td><td style=\"text-align: right;\">0.13</td><td style=\"text-align: right;\">0</td><td style=\"text-align: right;\">0.00</td><td style=\"text-align: right;\">13</td><td style=\"text-align: right;\">2.41</td><td style=\"text-align: right;\">0</td><td style=\"text-align: right;\">0.00</td><td style=\"text-align: right;\">22</td><td style=\"text-align: right;\">2.81</td><td style=\"text-align: right;\">0</td><td style=\"text-align: right;\">0.00</td><td style=\"text-align: right;\">3</td><td style=\"text-align: right;\">0.63</td></tr>\n",
       "<tr><td style=\"text-align: right;\">353958</td><td style=\"text-align: right;\">136,535,876</td><td style=\"text-align: right;\">19,014</td><td style=\"text-align: right;\">7</td><td style=\"text-align: right;\">1303</td><td style=\"text-align: right;\">0.02</td><td style=\"text-align: right;\">32</td><td style=\"text-align: right;\">0.82</td><td style=\"text-align: right;\">1</td><td style=\"text-align: right;\">0.16</td><td style=\"text-align: right;\">0</td><td style=\"text-align: right;\">0.00</td><td style=\"text-align: right;\">9</td><td style=\"text-align: right;\">2.03</td><td style=\"text-align: right;\">0</td><td style=\"text-align: right;\">0.00</td><td style=\"text-align: right;\">19</td><td style=\"text-align: right;\">2.96</td><td style=\"text-align: right;\">0</td><td style=\"text-align: right;\">0.00</td><td style=\"text-align: right;\">3</td><td style=\"text-align: right;\">0.76</td></tr>\n",
       "<tr class=\"even\"><td style=\"text-align: right;\">354129</td><td style=\"text-align: right;\">136,652,953</td><td style=\"text-align: right;\">108,222</td><td style=\"text-align: right;\">5</td><td style=\"text-align: right;\">1296</td><td style=\"text-align: right;\">0.02</td><td style=\"text-align: right;\">29</td><td style=\"text-align: right;\">0.74</td><td style=\"text-align: right;\">1</td><td style=\"text-align: right;\">0.17</td><td style=\"text-align: right;\">0</td><td style=\"text-align: right;\">0.00</td><td style=\"text-align: right;\">9</td><td style=\"text-align: right;\">2.24</td><td style=\"text-align: right;\">0</td><td style=\"text-align: right;\">0.00</td><td style=\"text-align: right;\">16</td><td style=\"text-align: right;\">2.75</td><td style=\"text-align: right;\">0</td><td style=\"text-align: right;\">0.00</td><td style=\"text-align: right;\">3</td><td style=\"text-align: right;\">0.84</td></tr>\n",
       "<tr><td style=\"text-align: right;\">353269</td><td style=\"text-align: right;\">135,766,890</td><td style=\"text-align: right;\">509,095</td><td style=\"text-align: right;\">62</td><td style=\"text-align: right;\">1265</td><td style=\"text-align: right;\">0.03</td><td style=\"text-align: right;\">39</td><td style=\"text-align: right;\">1.00</td><td style=\"text-align: right;\">1</td><td style=\"text-align: right;\">0.13</td><td style=\"text-align: right;\">0</td><td style=\"text-align: right;\">0.00</td><td style=\"text-align: right;\">13</td><td style=\"text-align: right;\">2.41</td><td style=\"text-align: right;\">0</td><td style=\"text-align: right;\">0.00</td><td style=\"text-align: right;\">22</td><td style=\"text-align: right;\">2.81</td><td style=\"text-align: right;\">0</td><td style=\"text-align: right;\">0.00</td><td style=\"text-align: right;\">3</td><td style=\"text-align: right;\">0.63</td></tr>\n",
       "<tr class=\"even\"><td style=\"text-align: right;\">353919</td><td style=\"text-align: right;\">136,500,475</td><td style=\"text-align: right;\">42,085</td><td style=\"text-align: right;\">13</td><td style=\"text-align: right;\">1227</td><td style=\"text-align: right;\">0.03</td><td style=\"text-align: right;\">32</td><td style=\"text-align: right;\">0.82</td><td style=\"text-align: right;\">1</td><td style=\"text-align: right;\">0.16</td><td style=\"text-align: right;\">0</td><td style=\"text-align: right;\">0.00</td><td style=\"text-align: right;\">9</td><td style=\"text-align: right;\">2.03</td><td style=\"text-align: right;\">0</td><td style=\"text-align: right;\">0.00</td><td style=\"text-align: right;\">19</td><td style=\"text-align: right;\">2.96</td><td style=\"text-align: right;\">0</td><td style=\"text-align: right;\">0.00</td><td style=\"text-align: right;\">3</td><td style=\"text-align: right;\">0.76</td></tr>\n",
       "<tr><td style=\"text-align: right;\">354127</td><td style=\"text-align: right;\">136,652,491</td><td style=\"text-align: right;\">80,281</td><td style=\"text-align: right;\">6</td><td style=\"text-align: right;\">1114</td><td style=\"text-align: right;\">0.03</td><td style=\"text-align: right;\">29</td><td style=\"text-align: right;\">0.74</td><td style=\"text-align: right;\">1</td><td style=\"text-align: right;\">0.17</td><td style=\"text-align: right;\">0</td><td style=\"text-align: right;\">0.00</td><td style=\"text-align: right;\">9</td><td style=\"text-align: right;\">2.24</td><td style=\"text-align: right;\">0</td><td style=\"text-align: right;\">0.00</td><td style=\"text-align: right;\">16</td><td style=\"text-align: right;\">2.75</td><td style=\"text-align: right;\">0</td><td style=\"text-align: right;\">0.00</td><td style=\"text-align: right;\">3</td><td style=\"text-align: right;\">0.84</td></tr>\n",
       "<tr class=\"even\"><td style=\"text-align: right;\">353504</td><td style=\"text-align: right;\">135,964,764</td><td style=\"text-align: right;\">136,368</td><td style=\"text-align: right;\">6</td><td style=\"text-align: right;\">946</td><td style=\"text-align: right;\">0.04</td><td style=\"text-align: right;\">39</td><td style=\"text-align: right;\">1.00</td><td style=\"text-align: right;\">1</td><td style=\"text-align: right;\">0.13</td><td style=\"text-align: right;\">0</td><td style=\"text-align: right;\">0.00</td><td style=\"text-align: right;\">13</td><td style=\"text-align: right;\">2.41</td><td style=\"text-align: right;\">0</td><td style=\"text-align: right;\">0.00</td><td style=\"text-align: right;\">22</td><td style=\"text-align: right;\">2.81</td><td style=\"text-align: right;\">0</td><td style=\"text-align: right;\">0.00</td><td style=\"text-align: right;\">3</td><td style=\"text-align: right;\">0.63</td></tr>\n",
       "<tr><td style=\"text-align: right;\">353902</td><td style=\"text-align: right;\">136,494,985</td><td style=\"text-align: right;\">278,653</td><td style=\"text-align: right;\">81</td><td style=\"text-align: right;\">857</td><td style=\"text-align: right;\">0.03</td><td style=\"text-align: right;\">29</td><td style=\"text-align: right;\">0.74</td><td style=\"text-align: right;\">1</td><td style=\"text-align: right;\">0.17</td><td style=\"text-align: right;\">0</td><td style=\"text-align: right;\">0.00</td><td style=\"text-align: right;\">9</td><td style=\"text-align: right;\">2.24</td><td style=\"text-align: right;\">0</td><td style=\"text-align: right;\">0.00</td><td style=\"text-align: right;\">16</td><td style=\"text-align: right;\">2.75</td><td style=\"text-align: right;\">0</td><td style=\"text-align: right;\">0.00</td><td style=\"text-align: right;\">3</td><td style=\"text-align: right;\">0.84</td></tr>\n",
       "<tr class=\"even\"><td style=\"text-align: right;\">353384</td><td style=\"text-align: right;\">135,839,805</td><td style=\"text-align: right;\">84,662</td><td style=\"text-align: right;\">4</td><td style=\"text-align: right;\">815</td><td style=\"text-align: right;\">0.05</td><td style=\"text-align: right;\">39</td><td style=\"text-align: right;\">1.00</td><td style=\"text-align: right;\">1</td><td style=\"text-align: right;\">0.13</td><td style=\"text-align: right;\">0</td><td style=\"text-align: right;\">0.00</td><td style=\"text-align: right;\">13</td><td style=\"text-align: right;\">2.41</td><td style=\"text-align: right;\">0</td><td style=\"text-align: right;\">0.00</td><td style=\"text-align: right;\">22</td><td style=\"text-align: right;\">2.81</td><td style=\"text-align: right;\">0</td><td style=\"text-align: right;\">0.00</td><td style=\"text-align: right;\">3</td><td style=\"text-align: right;\">0.63</td></tr>\n",
       "<tr><td style=\"text-align: right;\">353521</td><td style=\"text-align: right;\">135,989,333</td><td style=\"text-align: right;\">275,298</td><td style=\"text-align: right;\">6</td><td style=\"text-align: right;\">713</td><td style=\"text-align: right;\">0.05</td><td style=\"text-align: right;\">39</td><td style=\"text-align: right;\">1.00</td><td style=\"text-align: right;\">1</td><td style=\"text-align: right;\">0.13</td><td style=\"text-align: right;\">0</td><td style=\"text-align: right;\">0.00</td><td style=\"text-align: right;\">13</td><td style=\"text-align: right;\">2.41</td><td style=\"text-align: right;\">0</td><td style=\"text-align: right;\">0.00</td><td style=\"text-align: right;\">22</td><td style=\"text-align: right;\">2.81</td><td style=\"text-align: right;\">0</td><td style=\"text-align: right;\">0.00</td><td style=\"text-align: right;\">3</td><td style=\"text-align: right;\">0.63</td></tr>\n",
       "<tr class=\"even\"><td style=\"text-align: right;\">353358</td><td style=\"text-align: right;\">135,818,487</td><td style=\"text-align: right;\">471,078</td><td style=\"text-align: right;\">8</td><td style=\"text-align: right;\">267</td><td style=\"text-align: right;\">0.15</td><td style=\"text-align: right;\">39</td><td style=\"text-align: right;\">1.00</td><td style=\"text-align: right;\">1</td><td style=\"text-align: right;\">0.13</td><td style=\"text-align: right;\">0</td><td style=\"text-align: right;\">0.00</td><td style=\"text-align: right;\">13</td><td style=\"text-align: right;\">2.41</td><td style=\"text-align: right;\">0</td><td style=\"text-align: right;\">0.00</td><td style=\"text-align: right;\">22</td><td style=\"text-align: right;\">2.81</td><td style=\"text-align: right;\">0</td><td style=\"text-align: right;\">0.00</td><td style=\"text-align: right;\">3</td><td style=\"text-align: right;\">0.63</td></tr>\n",
       "<tr><td style=\"text-align: right;\">353559</td><td style=\"text-align: right;\">136,028,572</td><td style=\"text-align: right;\">409,893</td><td style=\"text-align: right;\">9</td><td style=\"text-align: right;\">39</td><td style=\"text-align: right;\">1.00</td><td style=\"text-align: right;\">39</td><td style=\"text-align: right;\">1.00</td><td style=\"text-align: right;\">1</td><td style=\"text-align: right;\">0.13</td><td style=\"text-align: right;\">0</td><td style=\"text-align: right;\">0.00</td><td style=\"text-align: right;\">13</td><td style=\"text-align: right;\">2.41</td><td style=\"text-align: right;\">0</td><td style=\"text-align: right;\">0.00</td><td style=\"text-align: right;\">22</td><td style=\"text-align: right;\">2.81</td><td style=\"text-align: right;\">0</td><td style=\"text-align: right;\">0.00</td><td style=\"text-align: right;\">3</td><td style=\"text-align: right;\">0.63</td></tr>\n",
       "</table>"
      ],
      "text/plain": [
       "<IPython.core.display.HTML object>"
      ]
     },
     "execution_count": 5,
     "metadata": {},
     "output_type": "execute_result"
    }
   ],
   "source": [
    "HTML(plt_obj.get_html())"
   ]
  },
  {
   "cell_type": "code",
   "execution_count": 6,
   "metadata": {
    "collapsed": false
   },
   "outputs": [
    {
     "data": {
      "text/html": [
       "\n",
       "\n",
       "    <div class=\"bk-root\">\n",
       "        <div class=\"plotdiv\" id=\"8c4e1f0d-2cc5-4246-aa14-2fbb0f4d070e\"></div>\n",
       "    </div>\n",
       "<script type=\"text/javascript\">\n",
       "  \n",
       "  (function(global) {\n",
       "    function now() {\n",
       "      return new Date();\n",
       "    }\n",
       "  \n",
       "    if (typeof (window._bokeh_onload_callbacks) === \"undefined\") {\n",
       "      window._bokeh_onload_callbacks = [];\n",
       "    }\n",
       "  \n",
       "    function run_callbacks() {\n",
       "      window._bokeh_onload_callbacks.forEach(function(callback) { callback() });\n",
       "      delete window._bokeh_onload_callbacks\n",
       "      console.info(\"Bokeh: all callbacks have finished\");\n",
       "    }\n",
       "  \n",
       "    function load_libs(js_urls, callback) {\n",
       "      window._bokeh_onload_callbacks.push(callback);\n",
       "      if (window._bokeh_is_loading > 0) {\n",
       "        console.log(\"Bokeh: BokehJS is being loaded, scheduling callback at\", now());\n",
       "        return null;\n",
       "      }\n",
       "      if (js_urls == null || js_urls.length === 0) {\n",
       "        run_callbacks();\n",
       "        return null;\n",
       "      }\n",
       "      console.log(\"Bokeh: BokehJS not loaded, scheduling load and callback at\", now());\n",
       "      window._bokeh_is_loading = js_urls.length;\n",
       "      for (var i = 0; i < js_urls.length; i++) {\n",
       "        var url = js_urls[i];\n",
       "        var s = document.createElement('script');\n",
       "        s.src = url;\n",
       "        s.async = false;\n",
       "        s.onreadystatechange = s.onload = function() {\n",
       "          window._bokeh_is_loading--;\n",
       "          if (window._bokeh_is_loading === 0) {\n",
       "            console.log(\"Bokeh: all BokehJS libraries loaded\");\n",
       "            run_callbacks()\n",
       "          }\n",
       "        };\n",
       "        s.onerror = function() {\n",
       "          console.warn(\"failed to load library \" + url);\n",
       "        };\n",
       "        console.log(\"Bokeh: injecting script tag for BokehJS library: \", url);\n",
       "        document.getElementsByTagName(\"head\")[0].appendChild(s);\n",
       "      }\n",
       "    };var element = document.getElementById(\"8c4e1f0d-2cc5-4246-aa14-2fbb0f4d070e\");\n",
       "    if (element == null) {\n",
       "      console.log(\"Bokeh: ERROR: autoload.js configured with elementid '8c4e1f0d-2cc5-4246-aa14-2fbb0f4d070e' but no matching script tag was found. \")\n",
       "      return false;\n",
       "    }\n",
       "  \n",
       "    var js_urls = [];\n",
       "  \n",
       "    var inline_js = [\n",
       "      function(Bokeh) {\n",
       "        Bokeh.$(function() {\n",
       "            var docs_json = {\"63eb76a9-27a7-4f8a-bf94-0ba71a1c3e22\":{\"roots\":{\"references\":[{\"attributes\":{\"callback\":null,\"end\":112.5,\"start\":-0.5},\"id\":\"464eea4b-cb9f-4620-b6ca-02b8bf43c66b\",\"type\":\"Range1d\"},{\"attributes\":{\"line_alpha\":{\"value\":0.1},\"line_color\":{\"value\":\"#1f77b4\"},\"x\":{\"field\":\"x\"},\"y\":{\"field\":\"y\"}},\"id\":\"6c76138a-647f-4649-bae3-13ee7c9eb548\",\"type\":\"Line\"},{\"attributes\":{\"bottom_units\":\"screen\",\"fill_alpha\":{\"value\":0.5},\"fill_color\":{\"value\":\"lightgrey\"},\"left_units\":\"screen\",\"level\":\"overlay\",\"line_alpha\":{\"value\":1.0},\"line_color\":{\"value\":\"black\"},\"line_dash\":[4,4],\"line_width\":{\"value\":2},\"plot\":null,\"render_mode\":\"css\",\"right_units\":\"screen\",\"top_units\":\"screen\"},\"id\":\"34c7ebec-83f5-4e80-b159-e6c11ee7d086\",\"type\":\"BoxAnnotation\"},{\"attributes\":{},\"id\":\"47ead1bc-79b7-44a5-ba89-26f4c6de3b61\",\"type\":\"BasicTickFormatter\"},{\"attributes\":{\"below\":[{\"id\":\"bbafbf61-d4fd-47b6-9c96-4ee02ae68ee5\",\"type\":\"LinearAxis\"}],\"left\":[{\"id\":\"4d26e595-0486-49a5-90ec-826d0dd0a377\",\"type\":\"LinearAxis\"}],\"plot_height\":400,\"plot_width\":900,\"renderers\":[{\"id\":\"bbafbf61-d4fd-47b6-9c96-4ee02ae68ee5\",\"type\":\"LinearAxis\"},{\"id\":\"7e60101c-794e-4424-844c-5898bee25366\",\"type\":\"Grid\"},{\"id\":\"4d26e595-0486-49a5-90ec-826d0dd0a377\",\"type\":\"LinearAxis\"},{\"id\":\"480fa834-9adc-4bde-9688-a8350f08477d\",\"type\":\"Grid\"},{\"id\":\"34c7ebec-83f5-4e80-b159-e6c11ee7d086\",\"type\":\"BoxAnnotation\"},{\"id\":\"611712f8-d81a-434a-979d-e46af9e58e2c\",\"type\":\"GlyphRenderer\"}],\"title\":{\"id\":\"f68cd909-e1d4-4c20-b482-9ff6a973695e\",\"type\":\"Title\"},\"tool_events\":{\"id\":\"e7ed9086-5bd0-46db-93b3-e011118311e9\",\"type\":\"ToolEvents\"},\"toolbar\":{\"id\":\"a9ad91b4-6f92-47ac-af42-eb9b4b20f486\",\"type\":\"Toolbar\"},\"toolbar_location\":null,\"x_range\":{\"id\":\"464eea4b-cb9f-4620-b6ca-02b8bf43c66b\",\"type\":\"Range1d\"},\"y_range\":{\"id\":\"a8aa90cc-35b7-4df1-9b3d-7c7a8e382996\",\"type\":\"Range1d\"}},\"id\":\"fff35349-292d-4cdf-88c9-6a58e8cc6479\",\"subtype\":\"Figure\",\"type\":\"Plot\"},{\"attributes\":{\"plot\":{\"id\":\"fff35349-292d-4cdf-88c9-6a58e8cc6479\",\"subtype\":\"Figure\",\"type\":\"Plot\"}},\"id\":\"c62b1e2d-95de-47a7-8f8d-0f9243234eb3\",\"type\":\"SaveTool\"},{\"attributes\":{\"plot\":{\"id\":\"fff35349-292d-4cdf-88c9-6a58e8cc6479\",\"subtype\":\"Figure\",\"type\":\"Plot\"}},\"id\":\"74875a1f-2269-4d0c-8476-d06fb7cdc4ea\",\"type\":\"HelpTool\"},{\"attributes\":{},\"id\":\"e7ed9086-5bd0-46db-93b3-e011118311e9\",\"type\":\"ToolEvents\"},{\"attributes\":{\"formatter\":{\"id\":\"47ead1bc-79b7-44a5-ba89-26f4c6de3b61\",\"type\":\"BasicTickFormatter\"},\"plot\":{\"id\":\"fff35349-292d-4cdf-88c9-6a58e8cc6479\",\"subtype\":\"Figure\",\"type\":\"Plot\"},\"ticker\":{\"id\":\"5ae53958-3bf4-465d-b393-6f2ba5ae5dc7\",\"type\":\"BasicTicker\"}},\"id\":\"4d26e595-0486-49a5-90ec-826d0dd0a377\",\"type\":\"LinearAxis\"},{\"attributes\":{},\"id\":\"3e49734b-0df7-47ea-8453-443a4beb6e25\",\"type\":\"BasicTickFormatter\"},{\"attributes\":{\"data_source\":{\"id\":\"3b37d82d-b6df-43bb-bf41-f8695842057c\",\"type\":\"ColumnDataSource\"},\"glyph\":{\"id\":\"517af7c6-4cd7-45c2-b3f6-daf1703adf88\",\"type\":\"Line\"},\"hover_glyph\":null,\"nonselection_glyph\":{\"id\":\"6c76138a-647f-4649-bae3-13ee7c9eb548\",\"type\":\"Line\"},\"selection_glyph\":null},\"id\":\"611712f8-d81a-434a-979d-e46af9e58e2c\",\"type\":\"GlyphRenderer\"},{\"attributes\":{\"plot\":{\"id\":\"fff35349-292d-4cdf-88c9-6a58e8cc6479\",\"subtype\":\"Figure\",\"type\":\"Plot\"}},\"id\":\"06756164-febd-449a-9b7e-2bd9dbfba06e\",\"type\":\"PanTool\"},{\"attributes\":{\"formatter\":{\"id\":\"3e49734b-0df7-47ea-8453-443a4beb6e25\",\"type\":\"BasicTickFormatter\"},\"plot\":{\"id\":\"fff35349-292d-4cdf-88c9-6a58e8cc6479\",\"subtype\":\"Figure\",\"type\":\"Plot\"},\"ticker\":{\"id\":\"f2985743-93f3-4703-b8e8-a7b50fdd7549\",\"type\":\"BasicTicker\"}},\"id\":\"bbafbf61-d4fd-47b6-9c96-4ee02ae68ee5\",\"type\":\"LinearAxis\"},{\"attributes\":{\"active_drag\":\"auto\",\"active_scroll\":\"auto\",\"active_tap\":\"auto\",\"tools\":[{\"id\":\"06756164-febd-449a-9b7e-2bd9dbfba06e\",\"type\":\"PanTool\"},{\"id\":\"987ad59e-14dd-4826-9808-2f24d424699f\",\"type\":\"WheelZoomTool\"},{\"id\":\"a66b8ede-5003-429d-86a6-9c492db6a762\",\"type\":\"BoxZoomTool\"},{\"id\":\"c62b1e2d-95de-47a7-8f8d-0f9243234eb3\",\"type\":\"SaveTool\"},{\"id\":\"1390ce83-ec02-4d12-9ebe-44c7dc10e1e5\",\"type\":\"ResetTool\"},{\"id\":\"74875a1f-2269-4d0c-8476-d06fb7cdc4ea\",\"type\":\"HelpTool\"}]},\"id\":\"a9ad91b4-6f92-47ac-af42-eb9b4b20f486\",\"type\":\"Toolbar\"},{\"attributes\":{\"line_color\":{\"value\":\"#1f77b4\"},\"x\":{\"field\":\"x\"},\"y\":{\"field\":\"y\"}},\"id\":\"517af7c6-4cd7-45c2-b3f6-daf1703adf88\",\"type\":\"Line\"},{\"attributes\":{\"overlay\":{\"id\":\"34c7ebec-83f5-4e80-b159-e6c11ee7d086\",\"type\":\"BoxAnnotation\"},\"plot\":{\"id\":\"fff35349-292d-4cdf-88c9-6a58e8cc6479\",\"subtype\":\"Figure\",\"type\":\"Plot\"}},\"id\":\"a66b8ede-5003-429d-86a6-9c492db6a762\",\"type\":\"BoxZoomTool\"},{\"attributes\":{\"dimension\":1,\"plot\":{\"id\":\"fff35349-292d-4cdf-88c9-6a58e8cc6479\",\"subtype\":\"Figure\",\"type\":\"Plot\"},\"ticker\":{\"id\":\"5ae53958-3bf4-465d-b393-6f2ba5ae5dc7\",\"type\":\"BasicTicker\"}},\"id\":\"480fa834-9adc-4bde-9688-a8350f08477d\",\"type\":\"Grid\"},{\"attributes\":{},\"id\":\"5ae53958-3bf4-465d-b393-6f2ba5ae5dc7\",\"type\":\"BasicTicker\"},{\"attributes\":{\"plot\":null,\"text\":null},\"id\":\"f68cd909-e1d4-4c20-b482-9ff6a973695e\",\"type\":\"Title\"},{\"attributes\":{\"plot\":{\"id\":\"fff35349-292d-4cdf-88c9-6a58e8cc6479\",\"subtype\":\"Figure\",\"type\":\"Plot\"}},\"id\":\"1390ce83-ec02-4d12-9ebe-44c7dc10e1e5\",\"type\":\"ResetTool\"},{\"attributes\":{\"plot\":{\"id\":\"fff35349-292d-4cdf-88c9-6a58e8cc6479\",\"subtype\":\"Figure\",\"type\":\"Plot\"}},\"id\":\"987ad59e-14dd-4826-9808-2f24d424699f\",\"type\":\"WheelZoomTool\"},{\"attributes\":{\"callback\":null,\"column_names\":[\"y\",\"x\"],\"data\":{\"x\":[-0.5,-0.5,109.5,109.5,110.5,110.5,111.5,111.5],\"y\":[0.0,0.0,0.0,1.0,1.0,38.0,38.0,0.0]}},\"id\":\"3b37d82d-b6df-43bb-bf41-f8695842057c\",\"type\":\"ColumnDataSource\"},{\"attributes\":{},\"id\":\"f2985743-93f3-4703-b8e8-a7b50fdd7549\",\"type\":\"BasicTicker\"},{\"attributes\":{\"plot\":{\"id\":\"fff35349-292d-4cdf-88c9-6a58e8cc6479\",\"subtype\":\"Figure\",\"type\":\"Plot\"},\"ticker\":{\"id\":\"f2985743-93f3-4703-b8e8-a7b50fdd7549\",\"type\":\"BasicTicker\"}},\"id\":\"7e60101c-794e-4424-844c-5898bee25366\",\"type\":\"Grid\"},{\"attributes\":{\"callback\":null,\"end\":41.800000000000004},\"id\":\"a8aa90cc-35b7-4df1-9b3d-7c7a8e382996\",\"type\":\"Range1d\"}],\"root_ids\":[\"fff35349-292d-4cdf-88c9-6a58e8cc6479\"]},\"title\":\"Bokeh Application\",\"version\":\"0.12.0\"}};\n",
       "            var render_items = [{\"docid\":\"63eb76a9-27a7-4f8a-bf94-0ba71a1c3e22\",\"elementid\":\"8c4e1f0d-2cc5-4246-aa14-2fbb0f4d070e\",\"modelid\":\"fff35349-292d-4cdf-88c9-6a58e8cc6479\",\"notebook_comms_target\":\"703dfcf1-2816-4c7c-a67d-5e194c125f65\"}];\n",
       "            \n",
       "            Bokeh.embed.embed_items(docs_json, render_items);\n",
       "        });\n",
       "      },\n",
       "      function(Bokeh) {\n",
       "      }\n",
       "    ];\n",
       "  \n",
       "    function run_inline_js() {\n",
       "      for (var i = 0; i < inline_js.length; i++) {\n",
       "        inline_js[i](window.Bokeh);\n",
       "      }\n",
       "    }\n",
       "  \n",
       "    if (window._bokeh_is_loading === 0) {\n",
       "      console.log(\"Bokeh: BokehJS loaded, going straight to plotting\");\n",
       "      run_inline_js();\n",
       "    } else {\n",
       "      load_libs(js_urls, function() {\n",
       "        console.log(\"Bokeh: BokehJS plotting callback run at\", now());\n",
       "        run_inline_js();\n",
       "      });\n",
       "    }\n",
       "  }(this));\n",
       "</script>"
      ]
     },
     "metadata": {},
     "output_type": "display_data"
    },
    {
     "data": {
      "text/html": [
       "<p><code>&lt;Bokeh Notebook handle for <strong>In[6]</strong>&gt;</code></p>"
      ],
      "text/plain": [
       "<bokeh.io._CommsHandle at 0x7fa3eb5d0ad0>"
      ]
     },
     "execution_count": 6,
     "metadata": {},
     "output_type": "execute_result"
    }
   ],
   "source": [
    "count_data = an.sa_117_1685.unique_snps_per_allele(am_9_39)\n",
    "plt_obj = smcp(count_data)\n",
    "plt = plt_obj.do_plot()\n",
    "show(plt)"
   ]
  },
  {
   "cell_type": "code",
   "execution_count": 7,
   "metadata": {
    "collapsed": false
   },
   "outputs": [
    {
     "data": {
      "text/plain": [
       "array([(110, 1), (111, 38)], \n",
       "      dtype=[('count', '<u2'), ('snps', '<u2')])"
      ]
     },
     "execution_count": 7,
     "metadata": {},
     "output_type": "execute_result"
    }
   ],
   "source": [
    "count_data"
   ]
  },
  {
   "cell_type": "code",
   "execution_count": 8,
   "metadata": {
    "collapsed": false
   },
   "outputs": [
    {
     "data": {
      "text/plain": [
       "array([39, 39, 39, 39, 39, 39, 39, 39, 39, 39, 39, 39, 39, 39, 39, 39, 39,\n",
       "       39, 39, 39, 39, 39, 39, 39, 39, 39, 39, 39, 39, 39, 39, 39, 39, 39,\n",
       "       39, 39, 39, 39, 39, 39, 39, 39, 39, 39, 39, 39, 39, 39, 39, 39, 38,\n",
       "       39, 39, 39, 39, 39, 39, 39, 39, 39, 39, 39, 39, 39, 39, 39, 39, 39,\n",
       "       39, 39, 39, 39, 39, 39, 39, 39, 39, 39, 39, 39, 39, 39, 39, 39, 39,\n",
       "       39, 39, 39, 39, 39, 39, 39, 39, 39, 39, 39, 39, 39, 39, 39, 39, 39,\n",
       "       39, 39, 39, 39, 39, 39, 39, 39, 39,  0,  0,  0,  0,  0,  0])"
      ]
     },
     "execution_count": 8,
     "metadata": {},
     "output_type": "execute_result"
    }
   ],
   "source": [
    "an.sa_117_1685.alleles_per_snp(am_9_39)"
   ]
  },
  {
   "cell_type": "code",
   "execution_count": 9,
   "metadata": {
    "collapsed": false
   },
   "outputs": [
    {
     "data": {
      "text/html": [
       "\n",
       "\n",
       "    <div class=\"bk-root\">\n",
       "        <div class=\"plotdiv\" id=\"440c62c5-249e-4552-b818-65f2ed4576b7\"></div>\n",
       "    </div>\n",
       "<script type=\"text/javascript\">\n",
       "  \n",
       "  (function(global) {\n",
       "    function now() {\n",
       "      return new Date();\n",
       "    }\n",
       "  \n",
       "    if (typeof (window._bokeh_onload_callbacks) === \"undefined\") {\n",
       "      window._bokeh_onload_callbacks = [];\n",
       "    }\n",
       "  \n",
       "    function run_callbacks() {\n",
       "      window._bokeh_onload_callbacks.forEach(function(callback) { callback() });\n",
       "      delete window._bokeh_onload_callbacks\n",
       "      console.info(\"Bokeh: all callbacks have finished\");\n",
       "    }\n",
       "  \n",
       "    function load_libs(js_urls, callback) {\n",
       "      window._bokeh_onload_callbacks.push(callback);\n",
       "      if (window._bokeh_is_loading > 0) {\n",
       "        console.log(\"Bokeh: BokehJS is being loaded, scheduling callback at\", now());\n",
       "        return null;\n",
       "      }\n",
       "      if (js_urls == null || js_urls.length === 0) {\n",
       "        run_callbacks();\n",
       "        return null;\n",
       "      }\n",
       "      console.log(\"Bokeh: BokehJS not loaded, scheduling load and callback at\", now());\n",
       "      window._bokeh_is_loading = js_urls.length;\n",
       "      for (var i = 0; i < js_urls.length; i++) {\n",
       "        var url = js_urls[i];\n",
       "        var s = document.createElement('script');\n",
       "        s.src = url;\n",
       "        s.async = false;\n",
       "        s.onreadystatechange = s.onload = function() {\n",
       "          window._bokeh_is_loading--;\n",
       "          if (window._bokeh_is_loading === 0) {\n",
       "            console.log(\"Bokeh: all BokehJS libraries loaded\");\n",
       "            run_callbacks()\n",
       "          }\n",
       "        };\n",
       "        s.onerror = function() {\n",
       "          console.warn(\"failed to load library \" + url);\n",
       "        };\n",
       "        console.log(\"Bokeh: injecting script tag for BokehJS library: \", url);\n",
       "        document.getElementsByTagName(\"head\")[0].appendChild(s);\n",
       "      }\n",
       "    };var element = document.getElementById(\"440c62c5-249e-4552-b818-65f2ed4576b7\");\n",
       "    if (element == null) {\n",
       "      console.log(\"Bokeh: ERROR: autoload.js configured with elementid '440c62c5-249e-4552-b818-65f2ed4576b7' but no matching script tag was found. \")\n",
       "      return false;\n",
       "    }\n",
       "  \n",
       "    var js_urls = [];\n",
       "  \n",
       "    var inline_js = [\n",
       "      function(Bokeh) {\n",
       "        Bokeh.$(function() {\n",
       "            var docs_json = {\"e0644a46-271a-438c-83f6-c85dcf4a9b65\":{\"roots\":{\"references\":[{\"attributes\":{\"plot\":{\"id\":\"e0b74ea8-124f-4e8d-846c-82a0978e2895\",\"subtype\":\"Figure\",\"type\":\"Plot\"},\"ticker\":{\"id\":\"daab8a53-e60d-4be2-bf2f-7ec5ee435f9c\",\"type\":\"BasicTicker\"}},\"id\":\"2853d0cf-9647-4a2c-aee7-8a663f75d708\",\"type\":\"Grid\"},{\"attributes\":{\"line_color\":{\"value\":\"#1f77b4\"},\"x\":{\"field\":\"x\"},\"y\":{\"field\":\"y\"}},\"id\":\"d4518938-cfdf-4360-852f-eaea4dd6749a\",\"type\":\"Line\"},{\"attributes\":{\"plot\":{\"id\":\"e0b74ea8-124f-4e8d-846c-82a0978e2895\",\"subtype\":\"Figure\",\"type\":\"Plot\"}},\"id\":\"dca18aeb-a06a-4d79-a622-ba0658ae4ab8\",\"type\":\"HelpTool\"},{\"attributes\":{\"plot\":{\"id\":\"e0b74ea8-124f-4e8d-846c-82a0978e2895\",\"subtype\":\"Figure\",\"type\":\"Plot\"}},\"id\":\"0a9340d0-69d8-4e2f-8e57-37d6862ed50d\",\"type\":\"SaveTool\"},{\"attributes\":{\"formatter\":{\"id\":\"96bc9149-0f7b-4b05-8725-d6f2febed13e\",\"type\":\"BasicTickFormatter\"},\"plot\":{\"id\":\"e0b74ea8-124f-4e8d-846c-82a0978e2895\",\"subtype\":\"Figure\",\"type\":\"Plot\"},\"ticker\":{\"id\":\"c457d544-71a9-4d1f-94b9-a6a1d3f03fdd\",\"type\":\"BasicTicker\"}},\"id\":\"7af92d0d-af9d-4b42-baac-2e603d9921bd\",\"type\":\"LinearAxis\"},{\"attributes\":{\"plot\":{\"id\":\"e0b74ea8-124f-4e8d-846c-82a0978e2895\",\"subtype\":\"Figure\",\"type\":\"Plot\"}},\"id\":\"99c42ef6-ab16-4d68-859a-7e0d8b93ac55\",\"type\":\"ResetTool\"},{\"attributes\":{},\"id\":\"94b36d78-fd88-4cd1-a564-ba032a69ef06\",\"type\":\"ToolEvents\"},{\"attributes\":{},\"id\":\"96bc9149-0f7b-4b05-8725-d6f2febed13e\",\"type\":\"BasicTickFormatter\"},{\"attributes\":{\"plot\":{\"id\":\"e0b74ea8-124f-4e8d-846c-82a0978e2895\",\"subtype\":\"Figure\",\"type\":\"Plot\"}},\"id\":\"d8ca9796-9c7b-425f-8fe0-47da9216a021\",\"type\":\"WheelZoomTool\"},{\"attributes\":{\"formatter\":{\"id\":\"1b3824dc-4e01-4dee-992b-31d3298f0885\",\"type\":\"BasicTickFormatter\"},\"plot\":{\"id\":\"e0b74ea8-124f-4e8d-846c-82a0978e2895\",\"subtype\":\"Figure\",\"type\":\"Plot\"},\"ticker\":{\"id\":\"daab8a53-e60d-4be2-bf2f-7ec5ee435f9c\",\"type\":\"BasicTicker\"}},\"id\":\"624797bf-726c-42b3-8a20-6d95fbc14501\",\"type\":\"LinearAxis\"},{\"attributes\":{\"plot\":null,\"text\":null},\"id\":\"b7600703-eae5-4d18-aada-12f22f2a6e1b\",\"type\":\"Title\"},{\"attributes\":{\"active_drag\":\"auto\",\"active_scroll\":\"auto\",\"active_tap\":\"auto\",\"tools\":[{\"id\":\"00fc526f-a798-45c2-9ba6-63e22fa3727d\",\"type\":\"PanTool\"},{\"id\":\"d8ca9796-9c7b-425f-8fe0-47da9216a021\",\"type\":\"WheelZoomTool\"},{\"id\":\"15407cef-a59b-4c8d-b7bb-e7e699840a06\",\"type\":\"BoxZoomTool\"},{\"id\":\"0a9340d0-69d8-4e2f-8e57-37d6862ed50d\",\"type\":\"SaveTool\"},{\"id\":\"99c42ef6-ab16-4d68-859a-7e0d8b93ac55\",\"type\":\"ResetTool\"},{\"id\":\"dca18aeb-a06a-4d79-a622-ba0658ae4ab8\",\"type\":\"HelpTool\"}]},\"id\":\"d4038803-fb8b-4acb-ad16-a9cce2f4cc99\",\"type\":\"Toolbar\"},{\"attributes\":{\"callback\":null,\"column_names\":[\"y\",\"x\"],\"data\":{\"x\":[-0.5,-0.5,105.5,105.5,106.5,106.5,107.5,107.5],\"y\":[0.0,0.0,0.0,15.0,15.0,24.0,24.0,0.0]}},\"id\":\"cfb311ee-9ddc-4354-abb1-e2eea42de8a2\",\"type\":\"ColumnDataSource\"},{\"attributes\":{\"bottom_units\":\"screen\",\"fill_alpha\":{\"value\":0.5},\"fill_color\":{\"value\":\"lightgrey\"},\"left_units\":\"screen\",\"level\":\"overlay\",\"line_alpha\":{\"value\":1.0},\"line_color\":{\"value\":\"black\"},\"line_dash\":[4,4],\"line_width\":{\"value\":2},\"plot\":null,\"render_mode\":\"css\",\"right_units\":\"screen\",\"top_units\":\"screen\"},\"id\":\"37182733-7696-46eb-b81c-a2acffabc350\",\"type\":\"BoxAnnotation\"},{\"attributes\":{},\"id\":\"c457d544-71a9-4d1f-94b9-a6a1d3f03fdd\",\"type\":\"BasicTicker\"},{\"attributes\":{\"line_alpha\":{\"value\":0.1},\"line_color\":{\"value\":\"#1f77b4\"},\"x\":{\"field\":\"x\"},\"y\":{\"field\":\"y\"}},\"id\":\"97886a2e-ed54-4cef-b20d-be310eb28523\",\"type\":\"Line\"},{\"attributes\":{\"callback\":null,\"end\":26.400000000000002},\"id\":\"a9abab2b-dfe5-4ab7-9f0e-b936cb089acc\",\"type\":\"Range1d\"},{\"attributes\":{},\"id\":\"daab8a53-e60d-4be2-bf2f-7ec5ee435f9c\",\"type\":\"BasicTicker\"},{\"attributes\":{\"data_source\":{\"id\":\"cfb311ee-9ddc-4354-abb1-e2eea42de8a2\",\"type\":\"ColumnDataSource\"},\"glyph\":{\"id\":\"d4518938-cfdf-4360-852f-eaea4dd6749a\",\"type\":\"Line\"},\"hover_glyph\":null,\"nonselection_glyph\":{\"id\":\"97886a2e-ed54-4cef-b20d-be310eb28523\",\"type\":\"Line\"},\"selection_glyph\":null},\"id\":\"1c386140-a727-45df-a86d-6dae2bc99de2\",\"type\":\"GlyphRenderer\"},{\"attributes\":{\"dimension\":1,\"plot\":{\"id\":\"e0b74ea8-124f-4e8d-846c-82a0978e2895\",\"subtype\":\"Figure\",\"type\":\"Plot\"},\"ticker\":{\"id\":\"c457d544-71a9-4d1f-94b9-a6a1d3f03fdd\",\"type\":\"BasicTicker\"}},\"id\":\"5e3b2635-91ab-4fbe-895b-1a1d493fc621\",\"type\":\"Grid\"},{\"attributes\":{},\"id\":\"1b3824dc-4e01-4dee-992b-31d3298f0885\",\"type\":\"BasicTickFormatter\"},{\"attributes\":{\"overlay\":{\"id\":\"37182733-7696-46eb-b81c-a2acffabc350\",\"type\":\"BoxAnnotation\"},\"plot\":{\"id\":\"e0b74ea8-124f-4e8d-846c-82a0978e2895\",\"subtype\":\"Figure\",\"type\":\"Plot\"}},\"id\":\"15407cef-a59b-4c8d-b7bb-e7e699840a06\",\"type\":\"BoxZoomTool\"},{\"attributes\":{\"callback\":null,\"end\":108.5,\"start\":-0.5},\"id\":\"cc5357c3-6f13-4a52-b56d-c64ec79c0fbb\",\"type\":\"Range1d\"},{\"attributes\":{\"below\":[{\"id\":\"624797bf-726c-42b3-8a20-6d95fbc14501\",\"type\":\"LinearAxis\"}],\"left\":[{\"id\":\"7af92d0d-af9d-4b42-baac-2e603d9921bd\",\"type\":\"LinearAxis\"}],\"plot_height\":400,\"plot_width\":900,\"renderers\":[{\"id\":\"624797bf-726c-42b3-8a20-6d95fbc14501\",\"type\":\"LinearAxis\"},{\"id\":\"2853d0cf-9647-4a2c-aee7-8a663f75d708\",\"type\":\"Grid\"},{\"id\":\"7af92d0d-af9d-4b42-baac-2e603d9921bd\",\"type\":\"LinearAxis\"},{\"id\":\"5e3b2635-91ab-4fbe-895b-1a1d493fc621\",\"type\":\"Grid\"},{\"id\":\"37182733-7696-46eb-b81c-a2acffabc350\",\"type\":\"BoxAnnotation\"},{\"id\":\"1c386140-a727-45df-a86d-6dae2bc99de2\",\"type\":\"GlyphRenderer\"}],\"title\":{\"id\":\"b7600703-eae5-4d18-aada-12f22f2a6e1b\",\"type\":\"Title\"},\"tool_events\":{\"id\":\"94b36d78-fd88-4cd1-a564-ba032a69ef06\",\"type\":\"ToolEvents\"},\"toolbar\":{\"id\":\"d4038803-fb8b-4acb-ad16-a9cce2f4cc99\",\"type\":\"Toolbar\"},\"toolbar_location\":null,\"x_range\":{\"id\":\"cc5357c3-6f13-4a52-b56d-c64ec79c0fbb\",\"type\":\"Range1d\"},\"y_range\":{\"id\":\"a9abab2b-dfe5-4ab7-9f0e-b936cb089acc\",\"type\":\"Range1d\"}},\"id\":\"e0b74ea8-124f-4e8d-846c-82a0978e2895\",\"subtype\":\"Figure\",\"type\":\"Plot\"},{\"attributes\":{\"plot\":{\"id\":\"e0b74ea8-124f-4e8d-846c-82a0978e2895\",\"subtype\":\"Figure\",\"type\":\"Plot\"}},\"id\":\"00fc526f-a798-45c2-9ba6-63e22fa3727d\",\"type\":\"PanTool\"}],\"root_ids\":[\"e0b74ea8-124f-4e8d-846c-82a0978e2895\"]},\"title\":\"Bokeh Application\",\"version\":\"0.12.0\"}};\n",
       "            var render_items = [{\"docid\":\"e0644a46-271a-438c-83f6-c85dcf4a9b65\",\"elementid\":\"440c62c5-249e-4552-b818-65f2ed4576b7\",\"modelid\":\"e0b74ea8-124f-4e8d-846c-82a0978e2895\",\"notebook_comms_target\":\"6ba58461-c98e-4517-9682-30f893e52f86\"}];\n",
       "            \n",
       "            Bokeh.embed.embed_items(docs_json, render_items);\n",
       "        });\n",
       "      },\n",
       "      function(Bokeh) {\n",
       "      }\n",
       "    ];\n",
       "  \n",
       "    function run_inline_js() {\n",
       "      for (var i = 0; i < inline_js.length; i++) {\n",
       "        inline_js[i](window.Bokeh);\n",
       "      }\n",
       "    }\n",
       "  \n",
       "    if (window._bokeh_is_loading === 0) {\n",
       "      console.log(\"Bokeh: BokehJS loaded, going straight to plotting\");\n",
       "      run_inline_js();\n",
       "    } else {\n",
       "      load_libs(js_urls, function() {\n",
       "        console.log(\"Bokeh: BokehJS plotting callback run at\", now());\n",
       "        run_inline_js();\n",
       "      });\n",
       "    }\n",
       "  }(this));\n",
       "</script>"
      ]
     },
     "metadata": {},
     "output_type": "display_data"
    },
    {
     "data": {
      "text/html": [
       "<p><code>&lt;Bokeh Notebook handle for <strong>In[9]</strong>&gt;</code></p>"
      ],
      "text/plain": [
       "<bokeh.io._CommsHandle at 0x7fa4157d0490>"
      ]
     },
     "execution_count": 9,
     "metadata": {},
     "output_type": "execute_result"
    }
   ],
   "source": [
    "count_data = an.sa_123_1561.unique_snps_per_allele(am_9_39)\n",
    "plt_obj = smcp(count_data)\n",
    "plt = plt_obj.do_plot()\n",
    "show(plt)"
   ]
  },
  {
   "cell_type": "code",
   "execution_count": 10,
   "metadata": {
    "collapsed": false
   },
   "outputs": [
    {
     "data": {
      "text/plain": [
       "array([(106, 15), (107, 24)], \n",
       "      dtype=[('count', '<u2'), ('snps', '<u2')])"
      ]
     },
     "execution_count": 10,
     "metadata": {},
     "output_type": "execute_result"
    }
   ],
   "source": [
    "count_data"
   ]
  },
  {
   "cell_type": "code",
   "execution_count": 11,
   "metadata": {
    "collapsed": false
   },
   "outputs": [
    {
     "data": {
      "text/plain": [
       "array([39, 39, 39, 39, 39, 39, 39, 39, 39, 39, 39, 39, 36, 39, 39, 29, 39,\n",
       "       39, 39, 39, 39, 39, 39, 39, 39, 39, 39, 38, 39, 39, 39, 39, 39, 39,\n",
       "       39, 39, 39, 39, 39, 39, 39, 39, 39, 39, 39, 39, 39, 39, 39, 39, 39,\n",
       "       39, 39, 39, 39, 39, 39, 39, 39, 39, 39, 39, 39, 39, 39, 39, 39, 39,\n",
       "       39, 39, 39, 39, 39, 39, 39, 39, 39, 39, 39, 39, 39, 39, 39, 39, 39,\n",
       "       39, 39, 39, 39, 39, 39, 39, 39, 39, 39, 39, 39, 39, 38, 39, 39, 39,\n",
       "       39, 39, 39, 39, 39,  0,  0,  0,  0,  0,  0,  0,  0,  0,  0,  0,  0,\n",
       "        0,  0,  0,  0])"
      ]
     },
     "execution_count": 11,
     "metadata": {},
     "output_type": "execute_result"
    }
   ],
   "source": [
    "an.sa_123_1561.alleles_per_snp(am_9_39)"
   ]
  },
  {
   "cell_type": "code",
   "execution_count": 12,
   "metadata": {
    "collapsed": false
   },
   "outputs": [
    {
     "data": {
      "text/html": [
       "\n",
       "\n",
       "    <div class=\"bk-root\">\n",
       "        <div class=\"plotdiv\" id=\"92aba615-4b82-484a-a77c-8b74da54b2c3\"></div>\n",
       "    </div>\n",
       "<script type=\"text/javascript\">\n",
       "  \n",
       "  (function(global) {\n",
       "    function now() {\n",
       "      return new Date();\n",
       "    }\n",
       "  \n",
       "    if (typeof (window._bokeh_onload_callbacks) === \"undefined\") {\n",
       "      window._bokeh_onload_callbacks = [];\n",
       "    }\n",
       "  \n",
       "    function run_callbacks() {\n",
       "      window._bokeh_onload_callbacks.forEach(function(callback) { callback() });\n",
       "      delete window._bokeh_onload_callbacks\n",
       "      console.info(\"Bokeh: all callbacks have finished\");\n",
       "    }\n",
       "  \n",
       "    function load_libs(js_urls, callback) {\n",
       "      window._bokeh_onload_callbacks.push(callback);\n",
       "      if (window._bokeh_is_loading > 0) {\n",
       "        console.log(\"Bokeh: BokehJS is being loaded, scheduling callback at\", now());\n",
       "        return null;\n",
       "      }\n",
       "      if (js_urls == null || js_urls.length === 0) {\n",
       "        run_callbacks();\n",
       "        return null;\n",
       "      }\n",
       "      console.log(\"Bokeh: BokehJS not loaded, scheduling load and callback at\", now());\n",
       "      window._bokeh_is_loading = js_urls.length;\n",
       "      for (var i = 0; i < js_urls.length; i++) {\n",
       "        var url = js_urls[i];\n",
       "        var s = document.createElement('script');\n",
       "        s.src = url;\n",
       "        s.async = false;\n",
       "        s.onreadystatechange = s.onload = function() {\n",
       "          window._bokeh_is_loading--;\n",
       "          if (window._bokeh_is_loading === 0) {\n",
       "            console.log(\"Bokeh: all BokehJS libraries loaded\");\n",
       "            run_callbacks()\n",
       "          }\n",
       "        };\n",
       "        s.onerror = function() {\n",
       "          console.warn(\"failed to load library \" + url);\n",
       "        };\n",
       "        console.log(\"Bokeh: injecting script tag for BokehJS library: \", url);\n",
       "        document.getElementsByTagName(\"head\")[0].appendChild(s);\n",
       "      }\n",
       "    };var element = document.getElementById(\"92aba615-4b82-484a-a77c-8b74da54b2c3\");\n",
       "    if (element == null) {\n",
       "      console.log(\"Bokeh: ERROR: autoload.js configured with elementid '92aba615-4b82-484a-a77c-8b74da54b2c3' but no matching script tag was found. \")\n",
       "      return false;\n",
       "    }\n",
       "  \n",
       "    var js_urls = [];\n",
       "  \n",
       "    var inline_js = [\n",
       "      function(Bokeh) {\n",
       "        Bokeh.$(function() {\n",
       "            var docs_json = {\"5d6a7244-201e-4425-a1fd-208c2db1e35c\":{\"roots\":{\"references\":[{\"attributes\":{\"callback\":null,\"end\":63.5,\"start\":-0.5},\"id\":\"46a3fdf8-b17e-45e3-ab8a-e79ee2c6da8c\",\"type\":\"Range1d\"},{\"attributes\":{\"dimension\":1,\"plot\":{\"id\":\"061943fe-1db2-422c-ab6c-0f2ec1333553\",\"subtype\":\"Figure\",\"type\":\"Plot\"},\"ticker\":{\"id\":\"e9431538-220a-4a3e-9e39-db52c4d17b33\",\"type\":\"BasicTicker\"}},\"id\":\"35e50f1d-9245-4ecf-b37c-d4b84e648c19\",\"type\":\"Grid\"},{\"attributes\":{},\"id\":\"89bd32f4-ac76-4ea0-9721-ed6b57b50de5\",\"type\":\"BasicTickFormatter\"},{\"attributes\":{\"formatter\":{\"id\":\"23e7b065-dc08-4fcf-99c9-e114e9e6a29b\",\"type\":\"BasicTickFormatter\"},\"plot\":{\"id\":\"061943fe-1db2-422c-ab6c-0f2ec1333553\",\"subtype\":\"Figure\",\"type\":\"Plot\"},\"ticker\":{\"id\":\"e6a1897e-ca9a-4f3f-ad8a-f51ce6de8a4c\",\"type\":\"BasicTicker\"}},\"id\":\"dba31cb0-ecb6-4f0c-94f8-5913d93cf3c8\",\"type\":\"LinearAxis\"},{\"attributes\":{\"data_source\":{\"id\":\"b9d096ec-bbac-484b-bb65-e2dfd5c88b8a\",\"type\":\"ColumnDataSource\"},\"glyph\":{\"id\":\"a675a1cc-4f12-4e8d-a94d-a0f2f750f21d\",\"type\":\"Line\"},\"hover_glyph\":null,\"nonselection_glyph\":{\"id\":\"ed156733-e8b8-4543-aeeb-20c0c3feab9d\",\"type\":\"Line\"},\"selection_glyph\":null},\"id\":\"e104c6c6-d374-43be-b369-e43b3bb1a502\",\"type\":\"GlyphRenderer\"},{\"attributes\":{\"callback\":null,\"end\":41.800000000000004},\"id\":\"f2e42727-b5d1-43e7-9710-4ddefa75a1df\",\"type\":\"Range1d\"},{\"attributes\":{\"plot\":{\"id\":\"061943fe-1db2-422c-ab6c-0f2ec1333553\",\"subtype\":\"Figure\",\"type\":\"Plot\"}},\"id\":\"23d06f92-7fe9-4eee-9d8b-118e27f82eb3\",\"type\":\"PanTool\"},{\"attributes\":{\"plot\":{\"id\":\"061943fe-1db2-422c-ab6c-0f2ec1333553\",\"subtype\":\"Figure\",\"type\":\"Plot\"}},\"id\":\"5a439fbf-99a8-4e74-a136-b252612e9c7e\",\"type\":\"WheelZoomTool\"},{\"attributes\":{\"plot\":null,\"text\":null},\"id\":\"2f70d133-a718-4ca5-af47-44b6a1e3b6a0\",\"type\":\"Title\"},{\"attributes\":{\"below\":[{\"id\":\"dba31cb0-ecb6-4f0c-94f8-5913d93cf3c8\",\"type\":\"LinearAxis\"}],\"left\":[{\"id\":\"fe4f8414-417c-4495-a697-9df4737863d9\",\"type\":\"LinearAxis\"}],\"plot_height\":400,\"plot_width\":900,\"renderers\":[{\"id\":\"dba31cb0-ecb6-4f0c-94f8-5913d93cf3c8\",\"type\":\"LinearAxis\"},{\"id\":\"1ad7ef2b-6cbf-4979-a972-7809776e96f2\",\"type\":\"Grid\"},{\"id\":\"fe4f8414-417c-4495-a697-9df4737863d9\",\"type\":\"LinearAxis\"},{\"id\":\"35e50f1d-9245-4ecf-b37c-d4b84e648c19\",\"type\":\"Grid\"},{\"id\":\"c668f911-f5a1-4ee2-8da1-062541120430\",\"type\":\"BoxAnnotation\"},{\"id\":\"e104c6c6-d374-43be-b369-e43b3bb1a502\",\"type\":\"GlyphRenderer\"}],\"title\":{\"id\":\"2f70d133-a718-4ca5-af47-44b6a1e3b6a0\",\"type\":\"Title\"},\"tool_events\":{\"id\":\"05dc46aa-0dd0-4e9a-b451-301353d84638\",\"type\":\"ToolEvents\"},\"toolbar\":{\"id\":\"eb8942da-a02b-4cd2-8c21-44d9ad78b3b1\",\"type\":\"Toolbar\"},\"toolbar_location\":null,\"x_range\":{\"id\":\"46a3fdf8-b17e-45e3-ab8a-e79ee2c6da8c\",\"type\":\"Range1d\"},\"y_range\":{\"id\":\"f2e42727-b5d1-43e7-9710-4ddefa75a1df\",\"type\":\"Range1d\"}},\"id\":\"061943fe-1db2-422c-ab6c-0f2ec1333553\",\"subtype\":\"Figure\",\"type\":\"Plot\"},{\"attributes\":{\"overlay\":{\"id\":\"c668f911-f5a1-4ee2-8da1-062541120430\",\"type\":\"BoxAnnotation\"},\"plot\":{\"id\":\"061943fe-1db2-422c-ab6c-0f2ec1333553\",\"subtype\":\"Figure\",\"type\":\"Plot\"}},\"id\":\"75da9c90-f96d-488b-a375-c758c0d3b0a3\",\"type\":\"BoxZoomTool\"},{\"attributes\":{\"line_alpha\":{\"value\":0.1},\"line_color\":{\"value\":\"#1f77b4\"},\"x\":{\"field\":\"x\"},\"y\":{\"field\":\"y\"}},\"id\":\"ed156733-e8b8-4543-aeeb-20c0c3feab9d\",\"type\":\"Line\"},{\"attributes\":{\"plot\":{\"id\":\"061943fe-1db2-422c-ab6c-0f2ec1333553\",\"subtype\":\"Figure\",\"type\":\"Plot\"},\"ticker\":{\"id\":\"e6a1897e-ca9a-4f3f-ad8a-f51ce6de8a4c\",\"type\":\"BasicTicker\"}},\"id\":\"1ad7ef2b-6cbf-4979-a972-7809776e96f2\",\"type\":\"Grid\"},{\"attributes\":{},\"id\":\"05dc46aa-0dd0-4e9a-b451-301353d84638\",\"type\":\"ToolEvents\"},{\"attributes\":{},\"id\":\"23e7b065-dc08-4fcf-99c9-e114e9e6a29b\",\"type\":\"BasicTickFormatter\"},{\"attributes\":{\"plot\":{\"id\":\"061943fe-1db2-422c-ab6c-0f2ec1333553\",\"subtype\":\"Figure\",\"type\":\"Plot\"}},\"id\":\"593649d6-cb3a-458c-b41e-9bf7db89e459\",\"type\":\"ResetTool\"},{\"attributes\":{\"formatter\":{\"id\":\"89bd32f4-ac76-4ea0-9721-ed6b57b50de5\",\"type\":\"BasicTickFormatter\"},\"plot\":{\"id\":\"061943fe-1db2-422c-ab6c-0f2ec1333553\",\"subtype\":\"Figure\",\"type\":\"Plot\"},\"ticker\":{\"id\":\"e9431538-220a-4a3e-9e39-db52c4d17b33\",\"type\":\"BasicTicker\"}},\"id\":\"fe4f8414-417c-4495-a697-9df4737863d9\",\"type\":\"LinearAxis\"},{\"attributes\":{},\"id\":\"e9431538-220a-4a3e-9e39-db52c4d17b33\",\"type\":\"BasicTicker\"},{\"attributes\":{\"callback\":null,\"column_names\":[\"y\",\"x\"],\"data\":{\"x\":[-0.5,-0.5,60.5,60.5,61.5,61.5,62.5,62.5],\"y\":[0.0,0.0,0.0,1.0,1.0,38.0,38.0,0.0]}},\"id\":\"b9d096ec-bbac-484b-bb65-e2dfd5c88b8a\",\"type\":\"ColumnDataSource\"},{\"attributes\":{},\"id\":\"e6a1897e-ca9a-4f3f-ad8a-f51ce6de8a4c\",\"type\":\"BasicTicker\"},{\"attributes\":{\"plot\":{\"id\":\"061943fe-1db2-422c-ab6c-0f2ec1333553\",\"subtype\":\"Figure\",\"type\":\"Plot\"}},\"id\":\"a39ecd59-dda2-4021-951e-44be99b6f7f0\",\"type\":\"SaveTool\"},{\"attributes\":{\"line_color\":{\"value\":\"#1f77b4\"},\"x\":{\"field\":\"x\"},\"y\":{\"field\":\"y\"}},\"id\":\"a675a1cc-4f12-4e8d-a94d-a0f2f750f21d\",\"type\":\"Line\"},{\"attributes\":{\"bottom_units\":\"screen\",\"fill_alpha\":{\"value\":0.5},\"fill_color\":{\"value\":\"lightgrey\"},\"left_units\":\"screen\",\"level\":\"overlay\",\"line_alpha\":{\"value\":1.0},\"line_color\":{\"value\":\"black\"},\"line_dash\":[4,4],\"line_width\":{\"value\":2},\"plot\":null,\"render_mode\":\"css\",\"right_units\":\"screen\",\"top_units\":\"screen\"},\"id\":\"c668f911-f5a1-4ee2-8da1-062541120430\",\"type\":\"BoxAnnotation\"},{\"attributes\":{\"plot\":{\"id\":\"061943fe-1db2-422c-ab6c-0f2ec1333553\",\"subtype\":\"Figure\",\"type\":\"Plot\"}},\"id\":\"15c7c419-a240-4243-9380-2fb062f4cb89\",\"type\":\"HelpTool\"},{\"attributes\":{\"active_drag\":\"auto\",\"active_scroll\":\"auto\",\"active_tap\":\"auto\",\"tools\":[{\"id\":\"23d06f92-7fe9-4eee-9d8b-118e27f82eb3\",\"type\":\"PanTool\"},{\"id\":\"5a439fbf-99a8-4e74-a136-b252612e9c7e\",\"type\":\"WheelZoomTool\"},{\"id\":\"75da9c90-f96d-488b-a375-c758c0d3b0a3\",\"type\":\"BoxZoomTool\"},{\"id\":\"a39ecd59-dda2-4021-951e-44be99b6f7f0\",\"type\":\"SaveTool\"},{\"id\":\"593649d6-cb3a-458c-b41e-9bf7db89e459\",\"type\":\"ResetTool\"},{\"id\":\"15c7c419-a240-4243-9380-2fb062f4cb89\",\"type\":\"HelpTool\"}]},\"id\":\"eb8942da-a02b-4cd2-8c21-44d9ad78b3b1\",\"type\":\"Toolbar\"}],\"root_ids\":[\"061943fe-1db2-422c-ab6c-0f2ec1333553\"]},\"title\":\"Bokeh Application\",\"version\":\"0.12.0\"}};\n",
       "            var render_items = [{\"docid\":\"5d6a7244-201e-4425-a1fd-208c2db1e35c\",\"elementid\":\"92aba615-4b82-484a-a77c-8b74da54b2c3\",\"modelid\":\"061943fe-1db2-422c-ab6c-0f2ec1333553\",\"notebook_comms_target\":\"03ea8aa7-367b-46ac-8c3d-7eabfe8d1583\"}];\n",
       "            \n",
       "            Bokeh.embed.embed_items(docs_json, render_items);\n",
       "        });\n",
       "      },\n",
       "      function(Bokeh) {\n",
       "      }\n",
       "    ];\n",
       "  \n",
       "    function run_inline_js() {\n",
       "      for (var i = 0; i < inline_js.length; i++) {\n",
       "        inline_js[i](window.Bokeh);\n",
       "      }\n",
       "    }\n",
       "  \n",
       "    if (window._bokeh_is_loading === 0) {\n",
       "      console.log(\"Bokeh: BokehJS loaded, going straight to plotting\");\n",
       "      run_inline_js();\n",
       "    } else {\n",
       "      load_libs(js_urls, function() {\n",
       "        console.log(\"Bokeh: BokehJS plotting callback run at\", now());\n",
       "        run_inline_js();\n",
       "      });\n",
       "    }\n",
       "  }(this));\n",
       "</script>"
      ]
     },
     "metadata": {},
     "output_type": "display_data"
    },
    {
     "data": {
      "text/html": [
       "<p><code>&lt;Bokeh Notebook handle for <strong>In[12]</strong>&gt;</code></p>"
      ],
      "text/plain": [
       "<bokeh.io._CommsHandle at 0x7fa3eb5b1bd0>"
      ]
     },
     "execution_count": 12,
     "metadata": {},
     "output_type": "execute_result"
    }
   ],
   "source": [
    "count_data = an.sa_62_1265.unique_snps_per_allele(am_9_39)\n",
    "plt_obj = smcp(count_data)\n",
    "plt = plt_obj.do_plot()\n",
    "show(plt)"
   ]
  },
  {
   "cell_type": "code",
   "execution_count": 13,
   "metadata": {
    "collapsed": false
   },
   "outputs": [
    {
     "data": {
      "text/plain": [
       "array([(61, 1), (62, 38)], \n",
       "      dtype=[('count', '<u2'), ('snps', '<u2')])"
      ]
     },
     "execution_count": 13,
     "metadata": {},
     "output_type": "execute_result"
    }
   ],
   "source": [
    "count_data"
   ]
  },
  {
   "cell_type": "code",
   "execution_count": 14,
   "metadata": {
    "collapsed": false
   },
   "outputs": [
    {
     "data": {
      "text/html": [
       "\n",
       "\n",
       "    <div class=\"bk-root\">\n",
       "        <div class=\"plotdiv\" id=\"624ce34f-84dc-4d64-9337-df739fdf97cc\"></div>\n",
       "    </div>\n",
       "<script type=\"text/javascript\">\n",
       "  \n",
       "  (function(global) {\n",
       "    function now() {\n",
       "      return new Date();\n",
       "    }\n",
       "  \n",
       "    if (typeof (window._bokeh_onload_callbacks) === \"undefined\") {\n",
       "      window._bokeh_onload_callbacks = [];\n",
       "    }\n",
       "  \n",
       "    function run_callbacks() {\n",
       "      window._bokeh_onload_callbacks.forEach(function(callback) { callback() });\n",
       "      delete window._bokeh_onload_callbacks\n",
       "      console.info(\"Bokeh: all callbacks have finished\");\n",
       "    }\n",
       "  \n",
       "    function load_libs(js_urls, callback) {\n",
       "      window._bokeh_onload_callbacks.push(callback);\n",
       "      if (window._bokeh_is_loading > 0) {\n",
       "        console.log(\"Bokeh: BokehJS is being loaded, scheduling callback at\", now());\n",
       "        return null;\n",
       "      }\n",
       "      if (js_urls == null || js_urls.length === 0) {\n",
       "        run_callbacks();\n",
       "        return null;\n",
       "      }\n",
       "      console.log(\"Bokeh: BokehJS not loaded, scheduling load and callback at\", now());\n",
       "      window._bokeh_is_loading = js_urls.length;\n",
       "      for (var i = 0; i < js_urls.length; i++) {\n",
       "        var url = js_urls[i];\n",
       "        var s = document.createElement('script');\n",
       "        s.src = url;\n",
       "        s.async = false;\n",
       "        s.onreadystatechange = s.onload = function() {\n",
       "          window._bokeh_is_loading--;\n",
       "          if (window._bokeh_is_loading === 0) {\n",
       "            console.log(\"Bokeh: all BokehJS libraries loaded\");\n",
       "            run_callbacks()\n",
       "          }\n",
       "        };\n",
       "        s.onerror = function() {\n",
       "          console.warn(\"failed to load library \" + url);\n",
       "        };\n",
       "        console.log(\"Bokeh: injecting script tag for BokehJS library: \", url);\n",
       "        document.getElementsByTagName(\"head\")[0].appendChild(s);\n",
       "      }\n",
       "    };var element = document.getElementById(\"624ce34f-84dc-4d64-9337-df739fdf97cc\");\n",
       "    if (element == null) {\n",
       "      console.log(\"Bokeh: ERROR: autoload.js configured with elementid '624ce34f-84dc-4d64-9337-df739fdf97cc' but no matching script tag was found. \")\n",
       "      return false;\n",
       "    }\n",
       "  \n",
       "    var js_urls = [];\n",
       "  \n",
       "    var inline_js = [\n",
       "      function(Bokeh) {\n",
       "        Bokeh.$(function() {\n",
       "            var docs_json = {\"7b48c88a-67f5-4cf5-8cc5-a24c44913bfb\":{\"roots\":{\"references\":[{\"attributes\":{\"plot\":{\"id\":\"cff2c1a4-b8be-49e7-86f3-ac2aa09c1c99\",\"subtype\":\"Figure\",\"type\":\"Plot\"}},\"id\":\"e139e592-adfb-4c30-b06f-5d96048469a9\",\"type\":\"SaveTool\"},{\"attributes\":{},\"id\":\"47a331b4-2ec1-4ca5-b7f1-09d99402f479\",\"type\":\"BasicTickFormatter\"},{\"attributes\":{\"plot\":{\"id\":\"cff2c1a4-b8be-49e7-86f3-ac2aa09c1c99\",\"subtype\":\"Figure\",\"type\":\"Plot\"}},\"id\":\"5ed1a1b9-26c5-4a79-b8d5-62f3d02ae350\",\"type\":\"PanTool\"},{\"attributes\":{\"plot\":{\"id\":\"cff2c1a4-b8be-49e7-86f3-ac2aa09c1c99\",\"subtype\":\"Figure\",\"type\":\"Plot\"}},\"id\":\"20d16a1d-fbc1-4a9d-ae7c-228bf66612b5\",\"type\":\"ResetTool\"},{\"attributes\":{\"plot\":{\"id\":\"cff2c1a4-b8be-49e7-86f3-ac2aa09c1c99\",\"subtype\":\"Figure\",\"type\":\"Plot\"}},\"id\":\"41db05f2-5a39-4f3f-b63b-337b5c4fd9bc\",\"type\":\"HelpTool\"},{\"attributes\":{\"data_source\":{\"id\":\"80274d32-b8a0-4c1a-9e74-545bf900de0a\",\"type\":\"ColumnDataSource\"},\"glyph\":{\"id\":\"62780458-945b-45b3-afcd-229da74333d8\",\"type\":\"Line\"},\"hover_glyph\":null,\"nonselection_glyph\":{\"id\":\"bdf589e4-c812-485f-b383-c87920f84b97\",\"type\":\"Line\"},\"selection_glyph\":null},\"id\":\"dfea6f8d-4df6-47d5-b956-357509a769f8\",\"type\":\"GlyphRenderer\"},{\"attributes\":{},\"id\":\"c85ba0d9-60dc-479e-8ad0-57dca190dfbb\",\"type\":\"BasicTicker\"},{\"attributes\":{},\"id\":\"ba9025b9-c0f9-4c91-b92f-504953b1171e\",\"type\":\"BasicTickFormatter\"},{\"attributes\":{\"formatter\":{\"id\":\"47a331b4-2ec1-4ca5-b7f1-09d99402f479\",\"type\":\"BasicTickFormatter\"},\"plot\":{\"id\":\"cff2c1a4-b8be-49e7-86f3-ac2aa09c1c99\",\"subtype\":\"Figure\",\"type\":\"Plot\"},\"ticker\":{\"id\":\"fd81eca8-74c5-42ea-ba91-77888eac32ce\",\"type\":\"BasicTicker\"}},\"id\":\"19483946-7560-4e9c-a2d6-6c06eb34f2f4\",\"type\":\"LinearAxis\"},{\"attributes\":{\"line_color\":{\"value\":\"#1f77b4\"},\"x\":{\"field\":\"x\"},\"y\":{\"field\":\"y\"}},\"id\":\"62780458-945b-45b3-afcd-229da74333d8\",\"type\":\"Line\"},{\"attributes\":{\"plot\":{\"id\":\"cff2c1a4-b8be-49e7-86f3-ac2aa09c1c99\",\"subtype\":\"Figure\",\"type\":\"Plot\"}},\"id\":\"b55aab19-9f13-409c-9727-7ddacc97a15f\",\"type\":\"WheelZoomTool\"},{\"attributes\":{\"formatter\":{\"id\":\"ba9025b9-c0f9-4c91-b92f-504953b1171e\",\"type\":\"BasicTickFormatter\"},\"plot\":{\"id\":\"cff2c1a4-b8be-49e7-86f3-ac2aa09c1c99\",\"subtype\":\"Figure\",\"type\":\"Plot\"},\"ticker\":{\"id\":\"c85ba0d9-60dc-479e-8ad0-57dca190dfbb\",\"type\":\"BasicTicker\"}},\"id\":\"d3795057-88c0-4736-b90d-e71c9cc0df36\",\"type\":\"LinearAxis\"},{\"attributes\":{},\"id\":\"9cb36c26-a131-4c91-a854-726933f42edc\",\"type\":\"ToolEvents\"},{\"attributes\":{\"plot\":null,\"text\":null},\"id\":\"13030505-4ead-466e-8451-fa492b558952\",\"type\":\"Title\"},{\"attributes\":{\"plot\":{\"id\":\"cff2c1a4-b8be-49e7-86f3-ac2aa09c1c99\",\"subtype\":\"Figure\",\"type\":\"Plot\"},\"ticker\":{\"id\":\"fd81eca8-74c5-42ea-ba91-77888eac32ce\",\"type\":\"BasicTicker\"}},\"id\":\"bcc1c7c3-39dd-4000-aea9-18af3d116eec\",\"type\":\"Grid\"},{\"attributes\":{\"callback\":null,\"column_names\":[\"y\",\"x\"],\"data\":{\"x\":[-0.5,-0.5,168.5,168.5,169.5,169.5,170.5,170.5],\"y\":[0.0,0.0,0.0,1.0,1.0,38.0,38.0,0.0]}},\"id\":\"80274d32-b8a0-4c1a-9e74-545bf900de0a\",\"type\":\"ColumnDataSource\"},{\"attributes\":{\"dimension\":1,\"plot\":{\"id\":\"cff2c1a4-b8be-49e7-86f3-ac2aa09c1c99\",\"subtype\":\"Figure\",\"type\":\"Plot\"},\"ticker\":{\"id\":\"c85ba0d9-60dc-479e-8ad0-57dca190dfbb\",\"type\":\"BasicTicker\"}},\"id\":\"7db6122f-5eae-419f-9461-f725b66de737\",\"type\":\"Grid\"},{\"attributes\":{\"below\":[{\"id\":\"19483946-7560-4e9c-a2d6-6c06eb34f2f4\",\"type\":\"LinearAxis\"}],\"left\":[{\"id\":\"d3795057-88c0-4736-b90d-e71c9cc0df36\",\"type\":\"LinearAxis\"}],\"plot_height\":400,\"plot_width\":900,\"renderers\":[{\"id\":\"19483946-7560-4e9c-a2d6-6c06eb34f2f4\",\"type\":\"LinearAxis\"},{\"id\":\"bcc1c7c3-39dd-4000-aea9-18af3d116eec\",\"type\":\"Grid\"},{\"id\":\"d3795057-88c0-4736-b90d-e71c9cc0df36\",\"type\":\"LinearAxis\"},{\"id\":\"7db6122f-5eae-419f-9461-f725b66de737\",\"type\":\"Grid\"},{\"id\":\"c72f9ceb-998b-4ba4-bc0e-0d271952893f\",\"type\":\"BoxAnnotation\"},{\"id\":\"dfea6f8d-4df6-47d5-b956-357509a769f8\",\"type\":\"GlyphRenderer\"}],\"title\":{\"id\":\"13030505-4ead-466e-8451-fa492b558952\",\"type\":\"Title\"},\"tool_events\":{\"id\":\"9cb36c26-a131-4c91-a854-726933f42edc\",\"type\":\"ToolEvents\"},\"toolbar\":{\"id\":\"476afcb0-9704-4c35-8f9a-a7628cd704b6\",\"type\":\"Toolbar\"},\"toolbar_location\":null,\"x_range\":{\"id\":\"1a7181c4-be55-4459-b770-f3219f3029f8\",\"type\":\"Range1d\"},\"y_range\":{\"id\":\"e9c4ca51-a4cf-450b-8841-a5f415170a16\",\"type\":\"Range1d\"}},\"id\":\"cff2c1a4-b8be-49e7-86f3-ac2aa09c1c99\",\"subtype\":\"Figure\",\"type\":\"Plot\"},{\"attributes\":{\"active_drag\":\"auto\",\"active_scroll\":\"auto\",\"active_tap\":\"auto\",\"tools\":[{\"id\":\"5ed1a1b9-26c5-4a79-b8d5-62f3d02ae350\",\"type\":\"PanTool\"},{\"id\":\"b55aab19-9f13-409c-9727-7ddacc97a15f\",\"type\":\"WheelZoomTool\"},{\"id\":\"ae5085ae-9644-4381-b011-a528603afcdd\",\"type\":\"BoxZoomTool\"},{\"id\":\"e139e592-adfb-4c30-b06f-5d96048469a9\",\"type\":\"SaveTool\"},{\"id\":\"20d16a1d-fbc1-4a9d-ae7c-228bf66612b5\",\"type\":\"ResetTool\"},{\"id\":\"41db05f2-5a39-4f3f-b63b-337b5c4fd9bc\",\"type\":\"HelpTool\"}]},\"id\":\"476afcb0-9704-4c35-8f9a-a7628cd704b6\",\"type\":\"Toolbar\"},{\"attributes\":{},\"id\":\"fd81eca8-74c5-42ea-ba91-77888eac32ce\",\"type\":\"BasicTicker\"},{\"attributes\":{\"bottom_units\":\"screen\",\"fill_alpha\":{\"value\":0.5},\"fill_color\":{\"value\":\"lightgrey\"},\"left_units\":\"screen\",\"level\":\"overlay\",\"line_alpha\":{\"value\":1.0},\"line_color\":{\"value\":\"black\"},\"line_dash\":[4,4],\"line_width\":{\"value\":2},\"plot\":null,\"render_mode\":\"css\",\"right_units\":\"screen\",\"top_units\":\"screen\"},\"id\":\"c72f9ceb-998b-4ba4-bc0e-0d271952893f\",\"type\":\"BoxAnnotation\"},{\"attributes\":{\"callback\":null,\"end\":171.5,\"start\":-0.5},\"id\":\"1a7181c4-be55-4459-b770-f3219f3029f8\",\"type\":\"Range1d\"},{\"attributes\":{\"callback\":null,\"end\":41.800000000000004},\"id\":\"e9c4ca51-a4cf-450b-8841-a5f415170a16\",\"type\":\"Range1d\"},{\"attributes\":{\"overlay\":{\"id\":\"c72f9ceb-998b-4ba4-bc0e-0d271952893f\",\"type\":\"BoxAnnotation\"},\"plot\":{\"id\":\"cff2c1a4-b8be-49e7-86f3-ac2aa09c1c99\",\"subtype\":\"Figure\",\"type\":\"Plot\"}},\"id\":\"ae5085ae-9644-4381-b011-a528603afcdd\",\"type\":\"BoxZoomTool\"},{\"attributes\":{\"line_alpha\":{\"value\":0.1},\"line_color\":{\"value\":\"#1f77b4\"},\"x\":{\"field\":\"x\"},\"y\":{\"field\":\"y\"}},\"id\":\"bdf589e4-c812-485f-b383-c87920f84b97\",\"type\":\"Line\"}],\"root_ids\":[\"cff2c1a4-b8be-49e7-86f3-ac2aa09c1c99\"]},\"title\":\"Bokeh Application\",\"version\":\"0.12.0\"}};\n",
       "            var render_items = [{\"docid\":\"7b48c88a-67f5-4cf5-8cc5-a24c44913bfb\",\"elementid\":\"624ce34f-84dc-4d64-9337-df739fdf97cc\",\"modelid\":\"cff2c1a4-b8be-49e7-86f3-ac2aa09c1c99\",\"notebook_comms_target\":\"aaf8a6f3-6105-42da-babc-27cf68c4bd7e\"}];\n",
       "            \n",
       "            Bokeh.embed.embed_items(docs_json, render_items);\n",
       "        });\n",
       "      },\n",
       "      function(Bokeh) {\n",
       "      }\n",
       "    ];\n",
       "  \n",
       "    function run_inline_js() {\n",
       "      for (var i = 0; i < inline_js.length; i++) {\n",
       "        inline_js[i](window.Bokeh);\n",
       "      }\n",
       "    }\n",
       "  \n",
       "    if (window._bokeh_is_loading === 0) {\n",
       "      console.log(\"Bokeh: BokehJS loaded, going straight to plotting\");\n",
       "      run_inline_js();\n",
       "    } else {\n",
       "      load_libs(js_urls, function() {\n",
       "        console.log(\"Bokeh: BokehJS plotting callback run at\", now());\n",
       "        run_inline_js();\n",
       "      });\n",
       "    }\n",
       "  }(this));\n",
       "</script>"
      ]
     },
     "metadata": {},
     "output_type": "display_data"
    },
    {
     "data": {
      "text/html": [
       "<p><code>&lt;Bokeh Notebook handle for <strong>In[14]</strong>&gt;</code></p>"
      ],
      "text/plain": [
       "<bokeh.io._CommsHandle at 0x7fa3eb593110>"
      ]
     },
     "execution_count": 14,
     "metadata": {},
     "output_type": "execute_result"
    }
   ],
   "source": [
    "count_data = an.sa_193_843.unique_snps_per_allele(am_9_39)\n",
    "plt_obj = smcp(count_data)\n",
    "plt = plt_obj.do_plot()\n",
    "show(plt)"
   ]
  },
  {
   "cell_type": "code",
   "execution_count": 15,
   "metadata": {
    "collapsed": false
   },
   "outputs": [
    {
     "data": {
      "text/plain": [
       "array([(169, 1), (170, 38)], \n",
       "      dtype=[('count', '<u2'), ('snps', '<u2')])"
      ]
     },
     "execution_count": 15,
     "metadata": {},
     "output_type": "execute_result"
    }
   ],
   "source": [
    "count_data"
   ]
  },
  {
   "cell_type": "code",
   "execution_count": 16,
   "metadata": {
    "collapsed": false
   },
   "outputs": [
    {
     "data": {
      "text/plain": [
       "array([39, 39, 39, 39, 39, 39, 39, 39, 39, 39, 39, 39, 39, 39, 39, 39, 39,\n",
       "       39, 39, 39, 39, 39, 39, 39, 39, 39, 39, 39, 39, 39, 39, 39, 39, 39,\n",
       "       39, 39, 39, 39, 39, 39, 39, 39, 39, 39, 39, 39, 39, 39, 39, 39, 39,\n",
       "       39, 39, 39, 39, 39, 39, 39, 39, 39, 39, 39, 39, 39, 39, 39, 39, 39,\n",
       "       39, 39, 39, 39, 39, 39, 39, 39, 39, 39, 39, 39, 39, 39, 39, 39, 39,\n",
       "       39, 39, 39, 39, 39, 39, 39, 39, 39, 39, 39, 39, 39, 39, 39, 39, 39,\n",
       "       39, 39, 39, 39, 39, 39, 39, 39, 39, 39, 39, 39, 39, 39, 39, 39, 39,\n",
       "       39, 39, 39, 39, 39, 39, 38, 39, 39, 39, 39, 39, 39, 39, 39, 39, 39,\n",
       "       39, 39, 39, 39, 39, 39, 39, 39, 39, 39, 39, 39, 39, 39, 39, 39, 39,\n",
       "       39, 39, 39, 39, 39, 39, 39, 39, 39, 39, 39, 39, 39, 39, 39, 39, 39,\n",
       "        0,  0,  0,  0,  0,  0,  0,  0,  0,  0,  0,  0,  0,  0,  0,  0,  0,\n",
       "        0,  0,  0,  0,  0,  0])"
      ]
     },
     "execution_count": 16,
     "metadata": {},
     "output_type": "execute_result"
    }
   ],
   "source": [
    "an.sa_193_843.alleles_per_snp(am_9_39)"
   ]
  },
  {
   "cell_type": "code",
   "execution_count": 17,
   "metadata": {
    "collapsed": false
   },
   "outputs": [
    {
     "data": {
      "text/html": [
       "\n",
       "\n",
       "    <div class=\"bk-root\">\n",
       "        <div class=\"plotdiv\" id=\"9fbbc121-f6e4-4b73-8402-59390d0a2cfc\"></div>\n",
       "    </div>\n",
       "<script type=\"text/javascript\">\n",
       "  \n",
       "  (function(global) {\n",
       "    function now() {\n",
       "      return new Date();\n",
       "    }\n",
       "  \n",
       "    if (typeof (window._bokeh_onload_callbacks) === \"undefined\") {\n",
       "      window._bokeh_onload_callbacks = [];\n",
       "    }\n",
       "  \n",
       "    function run_callbacks() {\n",
       "      window._bokeh_onload_callbacks.forEach(function(callback) { callback() });\n",
       "      delete window._bokeh_onload_callbacks\n",
       "      console.info(\"Bokeh: all callbacks have finished\");\n",
       "    }\n",
       "  \n",
       "    function load_libs(js_urls, callback) {\n",
       "      window._bokeh_onload_callbacks.push(callback);\n",
       "      if (window._bokeh_is_loading > 0) {\n",
       "        console.log(\"Bokeh: BokehJS is being loaded, scheduling callback at\", now());\n",
       "        return null;\n",
       "      }\n",
       "      if (js_urls == null || js_urls.length === 0) {\n",
       "        run_callbacks();\n",
       "        return null;\n",
       "      }\n",
       "      console.log(\"Bokeh: BokehJS not loaded, scheduling load and callback at\", now());\n",
       "      window._bokeh_is_loading = js_urls.length;\n",
       "      for (var i = 0; i < js_urls.length; i++) {\n",
       "        var url = js_urls[i];\n",
       "        var s = document.createElement('script');\n",
       "        s.src = url;\n",
       "        s.async = false;\n",
       "        s.onreadystatechange = s.onload = function() {\n",
       "          window._bokeh_is_loading--;\n",
       "          if (window._bokeh_is_loading === 0) {\n",
       "            console.log(\"Bokeh: all BokehJS libraries loaded\");\n",
       "            run_callbacks()\n",
       "          }\n",
       "        };\n",
       "        s.onerror = function() {\n",
       "          console.warn(\"failed to load library \" + url);\n",
       "        };\n",
       "        console.log(\"Bokeh: injecting script tag for BokehJS library: \", url);\n",
       "        document.getElementsByTagName(\"head\")[0].appendChild(s);\n",
       "      }\n",
       "    };var element = document.getElementById(\"9fbbc121-f6e4-4b73-8402-59390d0a2cfc\");\n",
       "    if (element == null) {\n",
       "      console.log(\"Bokeh: ERROR: autoload.js configured with elementid '9fbbc121-f6e4-4b73-8402-59390d0a2cfc' but no matching script tag was found. \")\n",
       "      return false;\n",
       "    }\n",
       "  \n",
       "    var js_urls = [];\n",
       "  \n",
       "    var inline_js = [\n",
       "      function(Bokeh) {\n",
       "        Bokeh.$(function() {\n",
       "            var docs_json = {\"3f39c231-a2c3-447e-8bc4-2fc90a867b54\":{\"roots\":{\"references\":[{\"attributes\":{\"bottom\":{\"field\":\"bottom\"},\"fill_color\":{\"value\":\"white\"},\"left\":{\"field\":\"left\"},\"right\":{\"field\":\"right\"},\"top\":{\"field\":\"top\"}},\"id\":\"6d742472-0742-4224-ac62-f85ef048d2fe\",\"type\":\"Quad\"},{\"attributes\":{\"data_source\":{\"id\":\"67969337-24f4-4bee-af3a-129c5d236bda\",\"type\":\"ColumnDataSource\"},\"glyph\":{\"id\":\"6d742472-0742-4224-ac62-f85ef048d2fe\",\"type\":\"Quad\"},\"hover_glyph\":null,\"nonselection_glyph\":{\"id\":\"bd8d3e0f-8a48-444c-ad40-f4711487d68e\",\"type\":\"Quad\"},\"selection_glyph\":null},\"id\":\"bef58af9-7fc8-4ead-8575-22d385c9c207\",\"type\":\"GlyphRenderer\"},{\"attributes\":{\"line_alpha\":{\"value\":0.1},\"line_color\":{\"value\":\"#1f77b4\"},\"xs\":{\"field\":\"xs\"},\"ys\":{\"field\":\"ys\"}},\"id\":\"6054632d-4841-4d1b-a424-0d22078482e4\",\"type\":\"MultiLine\"},{\"attributes\":{\"active_drag\":\"auto\",\"active_scroll\":\"auto\",\"active_tap\":\"auto\",\"tools\":[{\"id\":\"58210c00-6ffd-4c64-804a-44742e15e1fb\",\"type\":\"PanTool\"},{\"id\":\"a8051304-f706-41ef-9ba3-240037f1e25b\",\"type\":\"WheelZoomTool\"},{\"id\":\"e271801f-46bf-4d28-98a8-816be54d5a1d\",\"type\":\"BoxZoomTool\"},{\"id\":\"e91e8301-e536-45f9-a6b7-ade2425e17f8\",\"type\":\"SaveTool\"},{\"id\":\"9dd023c7-88c7-4cdc-84d4-a77b6d8e3720\",\"type\":\"ResetTool\"},{\"id\":\"c1194c77-539f-4a37-9f89-d4e0c90f6ebe\",\"type\":\"HelpTool\"}]},\"id\":\"5822a957-a825-4573-810b-6f001903a056\",\"type\":\"Toolbar\"},{\"attributes\":{\"callback\":null,\"end\":136786630,\"start\":135757320},\"id\":\"e5e04ae2-e11d-45c7-927c-000bce765102\",\"type\":\"Range1d\"},{\"attributes\":{\"plot\":{\"id\":\"24165bd3-2f5a-4863-aa49-c4bc9fdc1b53\",\"subtype\":\"Figure\",\"type\":\"Plot\"}},\"id\":\"c1194c77-539f-4a37-9f89-d4e0c90f6ebe\",\"type\":\"HelpTool\"},{\"attributes\":{\"callback\":null,\"column_names\":[\"y\",\"x\",\"vals\"],\"data\":{\"vals\":[\"RAB3GAP1\",\"ZRANB3\",\"R3HDM1\",\"UBXN4\",\"LCT\",\"MCM6\",\"DARS\"],\"x\":[135869057.0,136122878.0,136385961.0,136520911.0,136570082.5,136615621.5,136703738.0],\"y\":[860.0,860.0,860.0,860.0,860.0,860.0,860.0]}},\"id\":\"d7e9d1fa-ccac-4301-87fc-9fdc819a7201\",\"type\":\"ColumnDataSource\"},{\"attributes\":{\"plot\":{\"id\":\"24165bd3-2f5a-4863-aa49-c4bc9fdc1b53\",\"subtype\":\"Figure\",\"type\":\"Plot\"}},\"id\":\"a8051304-f706-41ef-9ba3-240037f1e25b\",\"type\":\"WheelZoomTool\"},{\"attributes\":{\"callback\":null,\"column_names\":[\"right\",\"bottom\",\"top\",\"left\",\"fill_color\"],\"data\":{\"bottom\":[750,450,150,250,350,250,50,650,350,450,650,550,750,450,550,750],\"fill_color\":[\"#808080\",\"#808080\",\"#c461c4\",\"#61c4c4\",\"#61c4c4\",\"#61c4c4\",\"#00ff00\",\"#c4c461\",\"#808080\",\"#808080\",\"#808080\",\"#808080\",\"#c46161\",\"#808080\",\"#808080\",\"#808080\"],\"left\":[135758231,135766890,135818487,135839805,135964764,135989333,136028572,136393658,136494985,136500475,136506375,136535876,136588031,136652491,136652953,136653925],\"right\":[136376515,136275985,136289565,135924467,136101132,136264631,136438465,136486342,136773638,136542560,136538939,136554890,136593678,136732772,136761175,136761853],\"top\":[796,493,180,290,391,288,63,694,390,493,694,594,796,492,594,795]}},\"id\":\"94c4fe28-529a-4ab3-8435-b29a87dbffc1\",\"type\":\"ColumnDataSource\"},{\"attributes\":{\"callback\":null,\"end\":900},\"id\":\"299929c9-bf8e-4ecb-8ccd-b7735d56ee58\",\"type\":\"Range1d\"},{\"attributes\":{\"callback\":null,\"column_names\":[\"xs\",\"ys\",\"line_color\"],\"data\":{\"line_color\":[\"black\",\"black\",\"black\",\"black\",\"black\",\"black\",\"black\",\"black\",\"black\",\"black\",\"black\",\"black\",\"black\",\"black\",\"black\",\"black\",\"black\",\"black\",\"black\",\"black\",\"black\",\"black\",\"black\",\"black\",\"black\",\"black\",\"black\",\"black\",\"black\",\"black\",\"black\",\"black\",\"black\",\"black\",\"black\",\"black\",\"black\",\"black\",\"black\",\"black\",\"black\",\"black\",\"black\",\"black\",\"black\",\"black\",\"black\",\"black\",\"black\",\"black\",\"black\",\"black\",\"black\",\"black\",\"black\",\"black\",\"black\",\"black\",\"black\",\"black\",\"black\",\"black\",\"black\",\"black\",\"black\",\"black\",\"black\",\"black\",\"black\",\"black\",\"black\",\"black\",\"black\",\"black\",\"black\",\"black\",\"black\",\"black\",\"black\",\"black\",\"black\",\"black\",\"black\",\"black\",\"black\",\"black\",\"black\",\"black\",\"black\",\"black\",\"black\",\"black\",\"black\",\"black\",\"black\",\"black\",\"black\",\"black\",\"black\",\"black\",\"black\",\"black\",\"black\",\"black\",\"black\",\"black\",\"black\",\"black\",\"black\",\"black\",\"black\",\"black\",\"black\",\"black\",\"black\",\"black\",\"black\",\"black\",\"black\",\"black\",\"black\",\"black\",\"black\",\"black\",\"black\",\"black\",\"black\",\"black\",\"black\",\"black\",\"black\",\"black\",\"black\",\"black\",\"black\",\"black\",\"black\",\"black\",\"black\",\"black\",\"black\",\"black\",\"black\",\"black\",\"black\",\"black\",\"black\",\"black\",\"black\",\"black\",\"black\",\"black\",\"black\",\"black\",\"black\",\"black\",\"black\",\"black\",\"black\",\"black\",\"black\",\"black\",\"black\",\"black\",\"black\",\"black\",\"black\",\"black\",\"black\",\"black\",\"black\",\"black\",\"black\",\"black\",\"black\",\"black\",\"black\",\"black\",\"black\",\"black\",\"black\",\"black\",\"black\",\"black\",\"black\",\"black\",\"black\",\"black\",\"black\",\"black\",\"black\",\"black\",\"black\",\"black\",\"black\",\"black\",\"black\",\"black\",\"black\",\"black\",\"black\",\"black\",\"black\",\"black\",\"black\",\"black\",\"black\",\"black\",\"black\",\"black\",\"black\",\"black\",\"black\",\"black\",\"black\",\"black\",\"black\",\"black\",\"black\",\"black\",\"black\",\"black\",\"black\",\"black\",\"black\",\"black\",\"black\",\"black\",\"black\",\"black\",\"black\",\"black\",\"black\",\"black\",\"black\",\"black\",\"black\",\"black\",\"black\",\"black\",\"black\",\"black\",\"black\",\"black\",\"black\",\"black\",\"black\",\"black\",\"black\",\"black\",\"black\",\"black\",\"black\",\"black\",\"black\",\"black\",\"black\",\"black\",\"black\",\"black\",\"black\",\"black\",\"black\",\"black\",\"black\",\"black\",\"black\",\"black\",\"black\",\"black\",\"black\",\"black\",\"black\",\"black\",\"black\",\"black\",\"black\",\"black\",\"black\",\"black\",\"black\",\"black\",\"black\",\"black\",\"black\",\"black\",\"black\",\"black\",\"black\",\"black\",\"black\",\"black\",\"black\",\"black\",\"black\",\"black\",\"black\",\"black\",\"black\",\"black\",\"black\",\"black\",\"black\",\"black\",\"black\",\"black\",\"black\",\"black\",\"black\",\"black\",\"black\",\"black\",\"black\",\"black\",\"black\",\"black\",\"black\",\"black\",\"black\",\"black\",\"black\",\"black\",\"black\",\"black\",\"black\",\"black\",\"black\",\"black\",\"black\",\"black\",\"black\",\"black\",\"black\",\"black\",\"black\",\"black\",\"black\",\"black\",\"black\",\"black\",\"black\",\"black\",\"black\",\"black\",\"black\",\"black\",\"black\",\"black\",\"black\",\"black\",\"black\",\"black\",\"black\",\"black\",\"black\",\"black\",\"black\",\"black\",\"black\",\"black\",\"black\",\"black\",\"black\",\"black\",\"black\",\"black\",\"black\",\"black\",\"black\",\"black\",\"black\",\"black\",\"black\",\"black\",\"black\",\"black\",\"black\",\"black\",\"black\",\"black\",\"black\",\"black\",\"black\",\"black\",\"black\",\"black\",\"black\",\"black\",\"black\",\"black\",\"black\"],\"xs\":[[135758231,135758231],[135758520,135758520],[135766072,135766072],[135773420,135773420],[135773446,135773446],[135773617,135773617],[135773692,135773692],[135774681,135774681],[135775049,135775049],[135776430,135776430],[135778656,135778656],[135780168,135780168],[135780587,135780587],[135781301,135781301],[135781522,135781522],[135781635,135781635],[135782456,135782456],[135783157,135783157],[135783366,135783366],[135783367,135783367],[135784227,135784227],[135784733,135784733],[135785066,135785066],[135785068,135785068],[135785149,135785149],[135787148,135787148],[135787642,135787642],[135789405,135789405],[135789472,135789472],[135789682,135789682],[135789784,135789784],[135792338,135792338],[135792528,135792528],[135793565,135793565],[135793684,135793684],[135793845,135793845],[135794367,135794367],[135794986,135794986],[135795040,135795040],[135795095,135795095],[135795150,135795150],[135795385,135795385],[135795396,135795396],[135795443,135795443],[135795595,135795595],[135796000,135796000],[135796155,135796155],[135796410,135796410],[135796965,135796965],[135797223,135797223],[135797747,135797747],[135798082,135798082],[135798758,135798758],[135799082,135799082],[135800085,135800085],[135800601,135800601],[135800757,135800757],[135801228,135801228],[135801956,135801956],[135802020,135802020],[135802028,135802028],[135802050,135802050],[135802148,135802148],[135803766,135803766],[135809241,135809241],[135812969,135812969],[135814716,135814716],[135818907,135818907],[135829432,135829432],[135832131,135832131],[135849613,135849613],[135853807,135853807],[135859923,135859923],[135860305,135860305],[135861497,135861497],[135863143,135863143],[135864294,135864294],[135871624,135871624],[135872646,135872646],[135874038,135874038],[135874622,135874622],[135878814,135878814],[135880013,135880013],[135884487,135884487],[135885357,135885357],[135893853,135893853],[135895809,135895809],[135895879,135895879],[135899069,135899069],[135909462,135909462],[135912977,135912977],[135914038,135914038],[135921839,135921839],[135925002,135925002],[135928312,135928312],[135935049,135935049],[135962711,135962711],[135984172,135984172],[135994753,135994753],[135994754,135994754],[136016079,136016079],[136027264,136027264],[136052004,136052004],[136100473,136100473],[136110129,136110129],[136166536,136166536],[136169799,136169799],[136191314,136191314],[136228887,136228887],[136238453,136238453],[136288273,136288273],[136292425,136292425],[136321951,136321951],[136324564,136324564],[136327299,136327299],[136327302,136327302],[136376515,136376515],[135766890,135766890],[135778708,135778708],[135779588,135779588],[135805941,135805941],[135805943,135805943],[135932720,135932720],[135933317,135933317],[135934842,135934842],[135952376,135952376],[135958853,135958853],[135962864,135962864],[135963304,135963304],[135965376,135965376],[135980201,135980201],[135981554,135981554],[135988127,135988127],[135988416,135988416],[135991470,135991470],[136000500,136000500],[136001215,136001215],[136001295,136001295],[136016514,136016514],[136017388,136017388],[136041102,136041102],[136041662,136041662],[136047387,136047387],[136052936,136052936],[136055275,136055275],[136063118,136063118],[136066802,136066802],[136068890,136068890],[136069577,136069577],[136081193,136081193],[136105193,136105193],[136107839,136107839],[136110835,136110835],[136138026,136138026],[136142092,136142092],[136146499,136146499],[136147607,136147607],[136148401,136148401],[136150512,136150512],[136154734,136154734],[136155805,136155805],[136163001,136163001],[136163266,136163266],[136163568,136163568],[136163821,136163821],[136165965,136165965],[136183312,136183312],[136185945,136185945],[136191729,136191729],[136204827,136204827],[136208747,136208747],[136217980,136217980],[136229438,136229438],[136232572,136232572],[136240942,136240942],[136251329,136251329],[136265187,136265187],[136265188,136265188],[136275985,136275985],[135818487,135818487],[136048649,136048649],[136107286,136107286],[136127914,136127914],[136130497,136130497],[136268096,136268096],[136281880,136281880],[136289565,136289565],[135839805,135839805],[135866750,135866750],[135886744,135886744],[135924467,135924467],[135964764,135964764],[135964765,135964765],[136099127,136099127],[136099650,136099650],[136100705,136100705],[136101132,136101132],[135989333,135989333],[136000304,136000304],[136030519,136030519],[136034836,136034836],[136125165,136125165],[136264631,136264631],[136028572,136028572],[136141525,136141525],[136174478,136174478],[136211744,136211744],[136240608,136240608],[136320031,136320031],[136320040,136320040],[136368926,136368926],[136438465,136438465],[136393658,136393658],[136396300,136396300],[136401843,136401843],[136407445,136407445],[136411879,136411879],[136412270,136412270],[136413244,136413244],[136413847,136413847],[136415217,136415217],[136416533,136416533],[136420726,136420726],[136429857,136429857],[136433740,136433740],[136436317,136436317],[136437615,136437615],[136438517,136438517],[136440300,136440300],[136443900,136443900],[136444185,136444185],[136444338,136444338],[136449254,136449254],[136451676,136451676],[136459227,136459227],[136463117,136463117],[136463454,136463454],[136467119,136467119],[136468238,136468238],[136470219,136470219],[136483355,136483355],[136485276,136485276],[136486340,136486340],[136486342,136486342],[136494985,136494985],[136497199,136497199],[136511817,136511817],[136513670,136513670],[136515458,136515458],[136516970,136516970],[136525309,136525309],[136528034,136528034],[136532225,136532225],[136535235,136535235],[136536095,136536095],[136544423,136544423],[136546927,136546927],[136552188,136552188],[136552517,136552517],[136555525,136555525],[136556480,136556480],[136560464,136560464],[136572285,136572285],[136582694,136582694],[136582809,136582809],[136584538,136584538],[136585323,136585323],[136586825,136586825],[136600662,136600662],[136612036,136612036],[136618178,136618178],[136618507,136618507],[136622543,136622543],[136624947,136624947],[136625113,136625113],[136626078,136626078],[136628121,136628121],[136632300,136632300],[136633962,136633962],[136635343,136635343],[136638113,136638113],[136640101,136640101],[136641593,136641593],[136646582,136646582],[136648077,136648077],[136648883,136648883],[136652045,136652045],[136653848,136653848],[136656094,136656094],[136661110,136661110],[136663110,136663110],[136663605,136663605],[136665162,136665162],[136665711,136665711],[136668123,136668123],[136670419,136670419],[136672680,136672680],[136673546,136673546],[136684632,136684632],[136686114,136686114],[136690425,136690425],[136690783,136690783],[136692893,136692893],[136694905,136694905],[136695694,136695694],[136695705,136695705],[136696608,136696608],[136697372,136697372],[136697468,136697468],[136700024,136700024],[136701539,136701539],[136702118,136702118],[136707480,136707480],[136710554,136710554],[136714178,136714178],[136719173,136719173],[136725459,136725459],[136734569,136734569],[136744678,136744678],[136748779,136748779],[136751488,136751488],[136754183,136754183],[136763242,136763242],[136765074,136765074],[136773638,136773638],[136500475,136500475],[136501509,136501509],[136504101,136504101],[136509868,136509868],[136520043,136520043],[136527120,136527120],[136530379,136530379],[136530443,136530443],[136539330,136539330],[136539670,136539670],[136540083,136540083],[136542559,136542559],[136542560,136542560],[136506375,136506375],[136506927,136506927],[136510012,136510012],[136538939,136538939],[136535876,136535876],[136544651,136544651],[136545844,136545844],[136552526,136552526],[136553022,136553022],[136554797,136554797],[136554890,136554890],[136588031,136588031],[136589278,136589278],[136589379,136589379],[136589741,136589741],[136590746,136590746],[136593553,136593553],[136593678,136593678],[136652491,136652491],[136652524,136652524],[136661150,136661150],[136669264,136669264],[136726567,136726567],[136732772,136732772],[136652953,136652953],[136655582,136655582],[136674028,136674028],[136684940,136684940],[136761175,136761175],[136653925,136653925],[136654833,136654833],[136656534,136656534],[136656536,136656536],[136657252,136657252],[136667301,136667301],[136667487,136667487],[136672775,136672775],[136680534,136680534],[136686393,136686393],[136688749,136688749],[136692553,136692553],[136697371,136697371],[136708787,136708787],[136710372,136710372],[136711064,136711064],[136715324,136715324],[136723504,136723504],[136737460,136737460],[136743143,136743143],[136746224,136746224],[136751842,136751842],[136759379,136759379],[136761853,136761853]],\"ys\":[[750,796],[750,796],[750,796],[750,796],[750,796],[750,796],[750,796],[750,796],[750,796],[750,796],[750,796],[750,796],[750,796],[750,796],[750,796],[750,796],[750,796],[750,796],[750,796],[750,796],[750,796],[750,796],[750,796],[750,796],[750,796],[750,796],[750,796],[750,796],[750,796],[750,796],[750,796],[750,796],[750,796],[750,796],[750,796],[750,796],[750,796],[750,796],[750,796],[750,796],[750,796],[750,796],[750,796],[750,796],[750,796],[750,796],[750,796],[750,796],[750,796],[750,796],[750,796],[750,796],[750,796],[750,796],[750,796],[750,796],[750,796],[750,796],[750,796],[750,796],[750,796],[750,796],[750,796],[750,796],[750,796],[750,796],[750,796],[750,796],[750,796],[750,796],[750,796],[750,796],[750,796],[750,796],[750,796],[750,796],[750,796],[750,796],[750,796],[750,796],[750,796],[750,796],[750,796],[750,796],[750,796],[750,796],[750,796],[750,796],[750,796],[750,796],[750,796],[750,796],[750,796],[750,796],[750,796],[750,796],[750,796],[750,796],[750,796],[750,796],[750,796],[750,796],[750,796],[750,796],[750,796],[750,796],[750,796],[750,796],[750,796],[750,796],[750,796],[750,796],[750,796],[750,796],[750,796],[750,796],[750,796],[450,493],[450,493],[450,493],[450,493],[450,493],[450,493],[450,493],[450,493],[450,493],[450,493],[450,493],[450,493],[450,493],[450,493],[450,493],[450,493],[450,493],[450,493],[450,493],[450,493],[450,493],[450,493],[450,493],[450,493],[450,493],[450,493],[450,493],[450,493],[450,493],[450,493],[450,493],[450,493],[450,493],[450,493],[450,493],[450,493],[450,493],[450,493],[450,493],[450,493],[450,493],[450,493],[450,493],[450,493],[450,493],[450,493],[450,493],[450,493],[450,493],[450,493],[450,493],[450,493],[450,493],[450,493],[450,493],[450,493],[450,493],[450,493],[450,493],[450,493],[450,493],[450,493],[150,180],[150,180],[150,180],[150,180],[150,180],[150,180],[150,180],[150,180],[250,290],[250,290],[250,290],[250,290],[350,391],[350,391],[350,391],[350,391],[350,391],[350,391],[250,288],[250,288],[250,288],[250,288],[250,288],[250,288],[50,63],[50,63],[50,63],[50,63],[50,63],[50,63],[50,63],[50,63],[50,63],[650,694],[650,694],[650,694],[650,694],[650,694],[650,694],[650,694],[650,694],[650,694],[650,694],[650,694],[650,694],[650,694],[650,694],[650,694],[650,694],[650,694],[650,694],[650,694],[650,694],[650,694],[650,694],[650,694],[650,694],[650,694],[650,694],[650,694],[650,694],[650,694],[650,694],[650,694],[650,694],[350,390],[350,390],[350,390],[350,390],[350,390],[350,390],[350,390],[350,390],[350,390],[350,390],[350,390],[350,390],[350,390],[350,390],[350,390],[350,390],[350,390],[350,390],[350,390],[350,390],[350,390],[350,390],[350,390],[350,390],[350,390],[350,390],[350,390],[350,390],[350,390],[350,390],[350,390],[350,390],[350,390],[350,390],[350,390],[350,390],[350,390],[350,390],[350,390],[350,390],[350,390],[350,390],[350,390],[350,390],[350,390],[350,390],[350,390],[350,390],[350,390],[350,390],[350,390],[350,390],[350,390],[350,390],[350,390],[350,390],[350,390],[350,390],[350,390],[350,390],[350,390],[350,390],[350,390],[350,390],[350,390],[350,390],[350,390],[350,390],[350,390],[350,390],[350,390],[350,390],[350,390],[350,390],[350,390],[350,390],[350,390],[350,390],[350,390],[350,390],[350,390],[450,493],[450,493],[450,493],[450,493],[450,493],[450,493],[450,493],[450,493],[450,493],[450,493],[450,493],[450,493],[450,493],[650,694],[650,694],[650,694],[650,694],[550,594],[550,594],[550,594],[550,594],[550,594],[550,594],[550,594],[750,796],[750,796],[750,796],[750,796],[750,796],[750,796],[750,796],[450,492],[450,492],[450,492],[450,492],[450,492],[450,492],[550,594],[550,594],[550,594],[550,594],[550,594],[750,795],[750,795],[750,795],[750,795],[750,795],[750,795],[750,795],[750,795],[750,795],[750,795],[750,795],[750,795],[750,795],[750,795],[750,795],[750,795],[750,795],[750,795],[750,795],[750,795],[750,795],[750,795],[750,795],[750,795]]}},\"id\":\"424365d7-52f0-478b-8cf6-894b17bdd5a0\",\"type\":\"ColumnDataSource\"},{\"attributes\":{\"level\":\"glyph\",\"plot\":{\"id\":\"24165bd3-2f5a-4863-aa49-c4bc9fdc1b53\",\"subtype\":\"Figure\",\"type\":\"Plot\"},\"source\":{\"id\":\"d7e9d1fa-ccac-4301-87fc-9fdc819a7201\",\"type\":\"ColumnDataSource\"},\"text\":{\"field\":\"vals\"},\"text_align\":\"center\",\"text_baseline\":\"middle\",\"text_font_size\":{\"value\":\"8pt\"},\"x\":{\"field\":\"x\"},\"y\":{\"field\":\"y\"}},\"id\":\"a758fccb-d250-431a-b48a-98003ababab3\",\"type\":\"LabelSet\"},{\"attributes\":{},\"id\":\"a904f4a8-bd34-4f70-8641-91418db2c743\",\"type\":\"BasicTicker\"},{\"attributes\":{\"plot\":null,\"text\":null},\"id\":\"59fd84f7-afe7-4a9c-b447-4794bb08bf08\",\"type\":\"Title\"},{\"attributes\":{\"bottom\":{\"field\":\"bottom\"},\"fill_color\":{\"field\":\"fill_color\"},\"left\":{\"field\":\"left\"},\"line_color\":{\"value\":null},\"right\":{\"field\":\"right\"},\"top\":{\"field\":\"top\"}},\"id\":\"60302253-45b7-4dd4-9b3a-e63694db37ce\",\"type\":\"Quad\"},{\"attributes\":{\"overlay\":{\"id\":\"44e17c9b-8f2b-4f17-b432-2d22b38eb68c\",\"type\":\"BoxAnnotation\"},\"plot\":{\"id\":\"24165bd3-2f5a-4863-aa49-c4bc9fdc1b53\",\"subtype\":\"Figure\",\"type\":\"Plot\"}},\"id\":\"e271801f-46bf-4d28-98a8-816be54d5a1d\",\"type\":\"BoxZoomTool\"},{\"attributes\":{\"data_source\":{\"id\":\"94c4fe28-529a-4ab3-8435-b29a87dbffc1\",\"type\":\"ColumnDataSource\"},\"glyph\":{\"id\":\"60302253-45b7-4dd4-9b3a-e63694db37ce\",\"type\":\"Quad\"},\"hover_glyph\":null,\"nonselection_glyph\":{\"id\":\"42d16181-5a24-425e-be4d-9df4b1b5ed9b\",\"type\":\"Quad\"},\"selection_glyph\":null},\"id\":\"f5b7c316-4a9c-42c2-8070-a220151bb33c\",\"type\":\"GlyphRenderer\"},{\"attributes\":{\"below\":[{\"id\":\"3e11717a-fe35-4929-8127-ac40a9df47fc\",\"type\":\"LinearAxis\"}],\"left\":[{\"id\":\"26aae25f-0443-4013-a00c-9e72deaca3e3\",\"type\":\"LinearAxis\"}],\"plot_height\":900,\"plot_width\":900,\"renderers\":[{\"id\":\"3e11717a-fe35-4929-8127-ac40a9df47fc\",\"type\":\"LinearAxis\"},{\"id\":\"35af3baf-4219-4e4d-8965-7fbbc80bf1cd\",\"type\":\"Grid\"},{\"id\":\"26aae25f-0443-4013-a00c-9e72deaca3e3\",\"type\":\"LinearAxis\"},{\"id\":\"e55bfd4b-1920-41c2-a78e-e3f0fb51f033\",\"type\":\"Grid\"},{\"id\":\"44e17c9b-8f2b-4f17-b432-2d22b38eb68c\",\"type\":\"BoxAnnotation\"},{\"id\":\"f5b7c316-4a9c-42c2-8070-a220151bb33c\",\"type\":\"GlyphRenderer\"},{\"id\":\"83030548-b03e-4119-9189-5793de65636e\",\"type\":\"GlyphRenderer\"},{\"id\":\"bef1bdc3-4a91-4a57-866c-a4bdeaf863a7\",\"type\":\"LabelSet\"},{\"id\":\"bef58af9-7fc8-4ead-8575-22d385c9c207\",\"type\":\"GlyphRenderer\"},{\"id\":\"a758fccb-d250-431a-b48a-98003ababab3\",\"type\":\"LabelSet\"}],\"title\":{\"id\":\"59fd84f7-afe7-4a9c-b447-4794bb08bf08\",\"type\":\"Title\"},\"tool_events\":{\"id\":\"c9e76f79-b73f-4ef3-b055-dcb4e5dd6469\",\"type\":\"ToolEvents\"},\"toolbar\":{\"id\":\"5822a957-a825-4573-810b-6f001903a056\",\"type\":\"Toolbar\"},\"toolbar_location\":null,\"x_range\":{\"id\":\"e5e04ae2-e11d-45c7-927c-000bce765102\",\"type\":\"Range1d\"},\"y_range\":{\"id\":\"299929c9-bf8e-4ecb-8ccd-b7735d56ee58\",\"type\":\"Range1d\"}},\"id\":\"24165bd3-2f5a-4863-aa49-c4bc9fdc1b53\",\"subtype\":\"Figure\",\"type\":\"Plot\"},{\"attributes\":{\"formatter\":{\"id\":\"c7d19449-9a01-4d62-83fa-c7880ddc1ab8\",\"type\":\"BasicTickFormatter\"},\"plot\":{\"id\":\"24165bd3-2f5a-4863-aa49-c4bc9fdc1b53\",\"subtype\":\"Figure\",\"type\":\"Plot\"},\"ticker\":{\"id\":\"f39e2b9a-b031-4567-ba61-032c353bf63d\",\"type\":\"BasicTicker\"},\"visible\":null},\"id\":\"26aae25f-0443-4013-a00c-9e72deaca3e3\",\"type\":\"LinearAxis\"},{\"attributes\":{\"plot\":{\"id\":\"24165bd3-2f5a-4863-aa49-c4bc9fdc1b53\",\"subtype\":\"Figure\",\"type\":\"Plot\"}},\"id\":\"58210c00-6ffd-4c64-804a-44742e15e1fb\",\"type\":\"PanTool\"},{\"attributes\":{\"plot\":{\"id\":\"24165bd3-2f5a-4863-aa49-c4bc9fdc1b53\",\"subtype\":\"Figure\",\"type\":\"Plot\"},\"ticker\":{\"id\":\"a904f4a8-bd34-4f70-8641-91418db2c743\",\"type\":\"BasicTicker\"}},\"id\":\"35af3baf-4219-4e4d-8965-7fbbc80bf1cd\",\"type\":\"Grid\"},{\"attributes\":{\"line_color\":{\"field\":\"line_color\"},\"xs\":{\"field\":\"xs\"},\"ys\":{\"field\":\"ys\"}},\"id\":\"e9fc79d3-ca8a-48f2-85c3-390e54b9adbd\",\"type\":\"MultiLine\"},{\"attributes\":{},\"id\":\"f8ae91cd-85fd-410e-9088-760f0f7060fc\",\"type\":\"BasicTickFormatter\"},{\"attributes\":{\"bottom_units\":\"screen\",\"fill_alpha\":{\"value\":0.5},\"fill_color\":{\"value\":\"lightgrey\"},\"left_units\":\"screen\",\"level\":\"overlay\",\"line_alpha\":{\"value\":1.0},\"line_color\":{\"value\":\"black\"},\"line_dash\":[4,4],\"line_width\":{\"value\":2},\"plot\":null,\"render_mode\":\"css\",\"right_units\":\"screen\",\"top_units\":\"screen\"},\"id\":\"44e17c9b-8f2b-4f17-b432-2d22b38eb68c\",\"type\":\"BoxAnnotation\"},{\"attributes\":{\"level\":\"glyph\",\"plot\":{\"id\":\"24165bd3-2f5a-4863-aa49-c4bc9fdc1b53\",\"subtype\":\"Figure\",\"type\":\"Plot\"},\"source\":{\"id\":\"ad265cb5-644d-4868-9bf2-018ae458a46a\",\"type\":\"ColumnDataSource\"},\"text\":{\"field\":\"vals\"},\"text_font_size\":{\"value\":\"9pt\"},\"text_font_style\":\"bold\",\"x\":{\"field\":\"x\"},\"y\":{\"field\":\"y\"}},\"id\":\"bef1bdc3-4a91-4a57-866c-a4bdeaf863a7\",\"type\":\"LabelSet\"},{\"attributes\":{\"callback\":null,\"column_names\":[\"right\",\"bottom\",\"top\",\"left\"],\"data\":{\"bottom\":[845,845,845,845,845,845,845],\"left\":[135809835,135957574,136289083,136499189,136545415,136597196,136664254],\"right\":[135928279,136288182,136482839,136542633,136594750,136634047,136743222],\"top\":[875,875,875,875,875,875,875]}},\"id\":\"67969337-24f4-4bee-af3a-129c5d236bda\",\"type\":\"ColumnDataSource\"},{\"attributes\":{\"bottom\":{\"field\":\"bottom\"},\"fill_alpha\":{\"value\":0.1},\"fill_color\":{\"value\":\"#1f77b4\"},\"left\":{\"field\":\"left\"},\"line_alpha\":{\"value\":0.1},\"line_color\":{\"value\":\"#1f77b4\"},\"right\":{\"field\":\"right\"},\"top\":{\"field\":\"top\"}},\"id\":\"bd8d3e0f-8a48-444c-ad40-f4711487d68e\",\"type\":\"Quad\"},{\"attributes\":{\"formatter\":{\"id\":\"f8ae91cd-85fd-410e-9088-760f0f7060fc\",\"type\":\"BasicTickFormatter\"},\"plot\":{\"id\":\"24165bd3-2f5a-4863-aa49-c4bc9fdc1b53\",\"subtype\":\"Figure\",\"type\":\"Plot\"},\"ticker\":{\"id\":\"a904f4a8-bd34-4f70-8641-91418db2c743\",\"type\":\"BasicTicker\"}},\"id\":\"3e11717a-fe35-4929-8127-ac40a9df47fc\",\"type\":\"LinearAxis\"},{\"attributes\":{\"callback\":null,\"column_names\":[\"y\",\"x\",\"vals\"],\"data\":{\"vals\":[\"117_1685\",\"62_1265\",\"8_267\",\"4_815\",\"6_946\",\"6_713\",\"9_39\",\"32_1361\",\"81_857\",\"13_1227\",\"4_1442\",\"7_1303\",\"7_1760\",\"6_1114\",\"5_1296\",\"24_1504\"],\"x\":[135758231,135766890,135818487,135839805,135964764,135989333,136028572,136393658,136494985,136500475,136506375,136535876,136588031,136652491,136652953,136653925],\"y\":[801.0,498.0,185.0,295.0,396.0,293.0,68.0,699.0,395.0,498.0,699.0,599.0,801.0,497.0,599.0,800.0]}},\"id\":\"ad265cb5-644d-4868-9bf2-018ae458a46a\",\"type\":\"ColumnDataSource\"},{\"attributes\":{},\"id\":\"f39e2b9a-b031-4567-ba61-032c353bf63d\",\"type\":\"BasicTicker\"},{\"attributes\":{\"plot\":{\"id\":\"24165bd3-2f5a-4863-aa49-c4bc9fdc1b53\",\"subtype\":\"Figure\",\"type\":\"Plot\"}},\"id\":\"9dd023c7-88c7-4cdc-84d4-a77b6d8e3720\",\"type\":\"ResetTool\"},{\"attributes\":{\"bottom\":{\"field\":\"bottom\"},\"fill_alpha\":{\"value\":0.1},\"fill_color\":{\"value\":\"#1f77b4\"},\"left\":{\"field\":\"left\"},\"line_alpha\":{\"value\":0.1},\"line_color\":{\"value\":\"#1f77b4\"},\"right\":{\"field\":\"right\"},\"top\":{\"field\":\"top\"}},\"id\":\"42d16181-5a24-425e-be4d-9df4b1b5ed9b\",\"type\":\"Quad\"},{\"attributes\":{\"dimension\":1,\"plot\":{\"id\":\"24165bd3-2f5a-4863-aa49-c4bc9fdc1b53\",\"subtype\":\"Figure\",\"type\":\"Plot\"},\"ticker\":{\"id\":\"f39e2b9a-b031-4567-ba61-032c353bf63d\",\"type\":\"BasicTicker\"}},\"id\":\"e55bfd4b-1920-41c2-a78e-e3f0fb51f033\",\"type\":\"Grid\"},{\"attributes\":{\"plot\":{\"id\":\"24165bd3-2f5a-4863-aa49-c4bc9fdc1b53\",\"subtype\":\"Figure\",\"type\":\"Plot\"}},\"id\":\"e91e8301-e536-45f9-a6b7-ade2425e17f8\",\"type\":\"SaveTool\"},{\"attributes\":{\"data_source\":{\"id\":\"424365d7-52f0-478b-8cf6-894b17bdd5a0\",\"type\":\"ColumnDataSource\"},\"glyph\":{\"id\":\"e9fc79d3-ca8a-48f2-85c3-390e54b9adbd\",\"type\":\"MultiLine\"},\"hover_glyph\":null,\"nonselection_glyph\":{\"id\":\"6054632d-4841-4d1b-a424-0d22078482e4\",\"type\":\"MultiLine\"},\"selection_glyph\":null},\"id\":\"83030548-b03e-4119-9189-5793de65636e\",\"type\":\"GlyphRenderer\"},{\"attributes\":{},\"id\":\"c9e76f79-b73f-4ef3-b055-dcb4e5dd6469\",\"type\":\"ToolEvents\"},{\"attributes\":{},\"id\":\"c7d19449-9a01-4d62-83fa-c7880ddc1ab8\",\"type\":\"BasicTickFormatter\"}],\"root_ids\":[\"24165bd3-2f5a-4863-aa49-c4bc9fdc1b53\"]},\"title\":\"Bokeh Application\",\"version\":\"0.12.0\"}};\n",
       "            var render_items = [{\"docid\":\"3f39c231-a2c3-447e-8bc4-2fc90a867b54\",\"elementid\":\"9fbbc121-f6e4-4b73-8402-59390d0a2cfc\",\"modelid\":\"24165bd3-2f5a-4863-aa49-c4bc9fdc1b53\",\"notebook_comms_target\":\"1059ef26-a9e9-4ded-8c2c-af00a5dca23c\"}];\n",
       "            \n",
       "            Bokeh.embed.embed_items(docs_json, render_items);\n",
       "        });\n",
       "      },\n",
       "      function(Bokeh) {\n",
       "      }\n",
       "    ];\n",
       "  \n",
       "    function run_inline_js() {\n",
       "      for (var i = 0; i < inline_js.length; i++) {\n",
       "        inline_js[i](window.Bokeh);\n",
       "      }\n",
       "    }\n",
       "  \n",
       "    if (window._bokeh_is_loading === 0) {\n",
       "      console.log(\"Bokeh: BokehJS loaded, going straight to plotting\");\n",
       "      run_inline_js();\n",
       "    } else {\n",
       "      load_libs(js_urls, function() {\n",
       "        console.log(\"Bokeh: BokehJS plotting callback run at\", now());\n",
       "        run_inline_js();\n",
       "      });\n",
       "    }\n",
       "  }(this));\n",
       "</script>"
      ]
     },
     "metadata": {},
     "output_type": "display_data"
    },
    {
     "data": {
      "text/html": [
       "<p><code>&lt;Bokeh Notebook handle for <strong>In[17]</strong>&gt;</code></p>"
      ],
      "text/plain": [
       "<bokeh.io._CommsHandle at 0x7fa3e9774810>"
      ]
     },
     "execution_count": 17,
     "metadata": {},
     "output_type": "execute_result"
    }
   ],
   "source": [
    "plt_obj = dm.superset_yes_no([di_9_39, dm.di_81_857], min_match=0.001)\n",
    "plt = plt_obj.do_plot()\n",
    "show(plt)"
   ]
  },
  {
   "cell_type": "code",
   "execution_count": 18,
   "metadata": {
    "collapsed": false
   },
   "outputs": [
    {
     "data": {
      "text/html": [
       "<table>\n",
       "<thead><tr><th style=\"text-align:center\">index</th><th style=\"text-align:center\">first</th><th style=\"text-align:center\">length</th><th style=\"text-align:center\">snps</th><th style=\"text-align:center\" colspan=2>alleles</th><th style=\"text-align:center\" colspan=2>matches</th><th style=\"text-align:center\" colspan=2>afr</th><th style=\"text-align:center\" colspan=2>afx</th><th style=\"text-align:center\" colspan=2>amr</th><th style=\"text-align:center\" colspan=2>eas</th><th style=\"text-align:center\" colspan=2>eur</th><th style=\"text-align:center\" colspan=2>sas</th><th style=\"text-align:center\" colspan=2>sax</th></tr></thead>\n",
       "<tr class=\"even\"><td style=\"text-align: right;\">354033</td><td style=\"text-align: right;\">136,588,031</td><td style=\"text-align: right;\">5,647</td><td style=\"text-align: right;\">7</td><td style=\"text-align: right;\">1760</td><td style=\"text-align: right;\">0.02</td><td style=\"text-align: right;\">29</td><td style=\"text-align: right;\">1.00</td><td style=\"text-align: right;\">1</td><td style=\"text-align: right;\">0.17</td><td style=\"text-align: right;\">0</td><td style=\"text-align: right;\">0.00</td><td style=\"text-align: right;\">9</td><td style=\"text-align: right;\">2.24</td><td style=\"text-align: right;\">0</td><td style=\"text-align: right;\">0.00</td><td style=\"text-align: right;\">16</td><td style=\"text-align: right;\">2.75</td><td style=\"text-align: right;\">0</td><td style=\"text-align: right;\">0.00</td><td style=\"text-align: right;\">3</td><td style=\"text-align: right;\">0.84</td></tr>\n",
       "<tr><td style=\"text-align: right;\">353244</td><td style=\"text-align: right;\">135,758,231</td><td style=\"text-align: right;\">618,284</td><td style=\"text-align: right;\">117</td><td style=\"text-align: right;\">1685</td><td style=\"text-align: right;\">0.02</td><td style=\"text-align: right;\">29</td><td style=\"text-align: right;\">1.00</td><td style=\"text-align: right;\">1</td><td style=\"text-align: right;\">0.17</td><td style=\"text-align: right;\">0</td><td style=\"text-align: right;\">0.00</td><td style=\"text-align: right;\">9</td><td style=\"text-align: right;\">2.24</td><td style=\"text-align: right;\">0</td><td style=\"text-align: right;\">0.00</td><td style=\"text-align: right;\">16</td><td style=\"text-align: right;\">2.75</td><td style=\"text-align: right;\">0</td><td style=\"text-align: right;\">0.00</td><td style=\"text-align: right;\">3</td><td style=\"text-align: right;\">0.84</td></tr>\n",
       "<tr class=\"even\"><td style=\"text-align: right;\">354130</td><td style=\"text-align: right;\">136,653,925</td><td style=\"text-align: right;\">107,928</td><td style=\"text-align: right;\">24</td><td style=\"text-align: right;\">1504</td><td style=\"text-align: right;\">0.02</td><td style=\"text-align: right;\">29</td><td style=\"text-align: right;\">1.00</td><td style=\"text-align: right;\">1</td><td style=\"text-align: right;\">0.17</td><td style=\"text-align: right;\">0</td><td style=\"text-align: right;\">0.00</td><td style=\"text-align: right;\">9</td><td style=\"text-align: right;\">2.24</td><td style=\"text-align: right;\">0</td><td style=\"text-align: right;\">0.00</td><td style=\"text-align: right;\">16</td><td style=\"text-align: right;\">2.75</td><td style=\"text-align: right;\">0</td><td style=\"text-align: right;\">0.00</td><td style=\"text-align: right;\">3</td><td style=\"text-align: right;\">0.84</td></tr>\n",
       "<tr><td style=\"text-align: right;\">353925</td><td style=\"text-align: right;\">136,506,375</td><td style=\"text-align: right;\">32,564</td><td style=\"text-align: right;\">4</td><td style=\"text-align: right;\">1442</td><td style=\"text-align: right;\">0.02</td><td style=\"text-align: right;\">29</td><td style=\"text-align: right;\">1.00</td><td style=\"text-align: right;\">1</td><td style=\"text-align: right;\">0.17</td><td style=\"text-align: right;\">0</td><td style=\"text-align: right;\">0.00</td><td style=\"text-align: right;\">9</td><td style=\"text-align: right;\">2.24</td><td style=\"text-align: right;\">0</td><td style=\"text-align: right;\">0.00</td><td style=\"text-align: right;\">16</td><td style=\"text-align: right;\">2.75</td><td style=\"text-align: right;\">0</td><td style=\"text-align: right;\">0.00</td><td style=\"text-align: right;\">3</td><td style=\"text-align: right;\">0.84</td></tr>\n",
       "<tr class=\"even\"><td style=\"text-align: right;\">353791</td><td style=\"text-align: right;\">136,393,658</td><td style=\"text-align: right;\">92,684</td><td style=\"text-align: right;\">32</td><td style=\"text-align: right;\">1361</td><td style=\"text-align: right;\">0.02</td><td style=\"text-align: right;\">29</td><td style=\"text-align: right;\">1.00</td><td style=\"text-align: right;\">1</td><td style=\"text-align: right;\">0.17</td><td style=\"text-align: right;\">0</td><td style=\"text-align: right;\">0.00</td><td style=\"text-align: right;\">9</td><td style=\"text-align: right;\">2.24</td><td style=\"text-align: right;\">0</td><td style=\"text-align: right;\">0.00</td><td style=\"text-align: right;\">16</td><td style=\"text-align: right;\">2.75</td><td style=\"text-align: right;\">0</td><td style=\"text-align: right;\">0.00</td><td style=\"text-align: right;\">3</td><td style=\"text-align: right;\">0.84</td></tr>\n",
       "<tr><td style=\"text-align: right;\">353958</td><td style=\"text-align: right;\">136,535,876</td><td style=\"text-align: right;\">19,014</td><td style=\"text-align: right;\">7</td><td style=\"text-align: right;\">1303</td><td style=\"text-align: right;\">0.02</td><td style=\"text-align: right;\">29</td><td style=\"text-align: right;\">1.00</td><td style=\"text-align: right;\">1</td><td style=\"text-align: right;\">0.17</td><td style=\"text-align: right;\">0</td><td style=\"text-align: right;\">0.00</td><td style=\"text-align: right;\">9</td><td style=\"text-align: right;\">2.24</td><td style=\"text-align: right;\">0</td><td style=\"text-align: right;\">0.00</td><td style=\"text-align: right;\">16</td><td style=\"text-align: right;\">2.75</td><td style=\"text-align: right;\">0</td><td style=\"text-align: right;\">0.00</td><td style=\"text-align: right;\">3</td><td style=\"text-align: right;\">0.84</td></tr>\n",
       "<tr class=\"even\"><td style=\"text-align: right;\">354129</td><td style=\"text-align: right;\">136,652,953</td><td style=\"text-align: right;\">108,222</td><td style=\"text-align: right;\">5</td><td style=\"text-align: right;\">1296</td><td style=\"text-align: right;\">0.02</td><td style=\"text-align: right;\">29</td><td style=\"text-align: right;\">1.00</td><td style=\"text-align: right;\">1</td><td style=\"text-align: right;\">0.17</td><td style=\"text-align: right;\">0</td><td style=\"text-align: right;\">0.00</td><td style=\"text-align: right;\">9</td><td style=\"text-align: right;\">2.24</td><td style=\"text-align: right;\">0</td><td style=\"text-align: right;\">0.00</td><td style=\"text-align: right;\">16</td><td style=\"text-align: right;\">2.75</td><td style=\"text-align: right;\">0</td><td style=\"text-align: right;\">0.00</td><td style=\"text-align: right;\">3</td><td style=\"text-align: right;\">0.84</td></tr>\n",
       "<tr><td style=\"text-align: right;\">353269</td><td style=\"text-align: right;\">135,766,890</td><td style=\"text-align: right;\">509,095</td><td style=\"text-align: right;\">62</td><td style=\"text-align: right;\">1265</td><td style=\"text-align: right;\">0.02</td><td style=\"text-align: right;\">29</td><td style=\"text-align: right;\">1.00</td><td style=\"text-align: right;\">1</td><td style=\"text-align: right;\">0.17</td><td style=\"text-align: right;\">0</td><td style=\"text-align: right;\">0.00</td><td style=\"text-align: right;\">9</td><td style=\"text-align: right;\">2.24</td><td style=\"text-align: right;\">0</td><td style=\"text-align: right;\">0.00</td><td style=\"text-align: right;\">16</td><td style=\"text-align: right;\">2.75</td><td style=\"text-align: right;\">0</td><td style=\"text-align: right;\">0.00</td><td style=\"text-align: right;\">3</td><td style=\"text-align: right;\">0.84</td></tr>\n",
       "<tr class=\"even\"><td style=\"text-align: right;\">353919</td><td style=\"text-align: right;\">136,500,475</td><td style=\"text-align: right;\">42,085</td><td style=\"text-align: right;\">13</td><td style=\"text-align: right;\">1227</td><td style=\"text-align: right;\">0.02</td><td style=\"text-align: right;\">29</td><td style=\"text-align: right;\">1.00</td><td style=\"text-align: right;\">1</td><td style=\"text-align: right;\">0.17</td><td style=\"text-align: right;\">0</td><td style=\"text-align: right;\">0.00</td><td style=\"text-align: right;\">9</td><td style=\"text-align: right;\">2.24</td><td style=\"text-align: right;\">0</td><td style=\"text-align: right;\">0.00</td><td style=\"text-align: right;\">16</td><td style=\"text-align: right;\">2.75</td><td style=\"text-align: right;\">0</td><td style=\"text-align: right;\">0.00</td><td style=\"text-align: right;\">3</td><td style=\"text-align: right;\">0.84</td></tr>\n",
       "<tr><td style=\"text-align: right;\">354127</td><td style=\"text-align: right;\">136,652,491</td><td style=\"text-align: right;\">80,281</td><td style=\"text-align: right;\">6</td><td style=\"text-align: right;\">1114</td><td style=\"text-align: right;\">0.03</td><td style=\"text-align: right;\">29</td><td style=\"text-align: right;\">1.00</td><td style=\"text-align: right;\">1</td><td style=\"text-align: right;\">0.17</td><td style=\"text-align: right;\">0</td><td style=\"text-align: right;\">0.00</td><td style=\"text-align: right;\">9</td><td style=\"text-align: right;\">2.24</td><td style=\"text-align: right;\">0</td><td style=\"text-align: right;\">0.00</td><td style=\"text-align: right;\">16</td><td style=\"text-align: right;\">2.75</td><td style=\"text-align: right;\">0</td><td style=\"text-align: right;\">0.00</td><td style=\"text-align: right;\">3</td><td style=\"text-align: right;\">0.84</td></tr>\n",
       "<tr class=\"even\"><td style=\"text-align: right;\">353504</td><td style=\"text-align: right;\">135,964,764</td><td style=\"text-align: right;\">136,368</td><td style=\"text-align: right;\">6</td><td style=\"text-align: right;\">946</td><td style=\"text-align: right;\">0.03</td><td style=\"text-align: right;\">29</td><td style=\"text-align: right;\">1.00</td><td style=\"text-align: right;\">1</td><td style=\"text-align: right;\">0.17</td><td style=\"text-align: right;\">0</td><td style=\"text-align: right;\">0.00</td><td style=\"text-align: right;\">9</td><td style=\"text-align: right;\">2.24</td><td style=\"text-align: right;\">0</td><td style=\"text-align: right;\">0.00</td><td style=\"text-align: right;\">16</td><td style=\"text-align: right;\">2.75</td><td style=\"text-align: right;\">0</td><td style=\"text-align: right;\">0.00</td><td style=\"text-align: right;\">3</td><td style=\"text-align: right;\">0.84</td></tr>\n",
       "<tr><td style=\"text-align: right;\">353902</td><td style=\"text-align: right;\">136,494,985</td><td style=\"text-align: right;\">278,653</td><td style=\"text-align: right;\">81</td><td style=\"text-align: right;\">857</td><td style=\"text-align: right;\">0.03</td><td style=\"text-align: right;\">29</td><td style=\"text-align: right;\">1.00</td><td style=\"text-align: right;\">1</td><td style=\"text-align: right;\">0.17</td><td style=\"text-align: right;\">0</td><td style=\"text-align: right;\">0.00</td><td style=\"text-align: right;\">9</td><td style=\"text-align: right;\">2.24</td><td style=\"text-align: right;\">0</td><td style=\"text-align: right;\">0.00</td><td style=\"text-align: right;\">16</td><td style=\"text-align: right;\">2.75</td><td style=\"text-align: right;\">0</td><td style=\"text-align: right;\">0.00</td><td style=\"text-align: right;\">3</td><td style=\"text-align: right;\">0.84</td></tr>\n",
       "<tr class=\"even\"><td style=\"text-align: right;\">353384</td><td style=\"text-align: right;\">135,839,805</td><td style=\"text-align: right;\">84,662</td><td style=\"text-align: right;\">4</td><td style=\"text-align: right;\">815</td><td style=\"text-align: right;\">0.04</td><td style=\"text-align: right;\">29</td><td style=\"text-align: right;\">1.00</td><td style=\"text-align: right;\">1</td><td style=\"text-align: right;\">0.17</td><td style=\"text-align: right;\">0</td><td style=\"text-align: right;\">0.00</td><td style=\"text-align: right;\">9</td><td style=\"text-align: right;\">2.24</td><td style=\"text-align: right;\">0</td><td style=\"text-align: right;\">0.00</td><td style=\"text-align: right;\">16</td><td style=\"text-align: right;\">2.75</td><td style=\"text-align: right;\">0</td><td style=\"text-align: right;\">0.00</td><td style=\"text-align: right;\">3</td><td style=\"text-align: right;\">0.84</td></tr>\n",
       "<tr><td style=\"text-align: right;\">353521</td><td style=\"text-align: right;\">135,989,333</td><td style=\"text-align: right;\">275,298</td><td style=\"text-align: right;\">6</td><td style=\"text-align: right;\">713</td><td style=\"text-align: right;\">0.04</td><td style=\"text-align: right;\">29</td><td style=\"text-align: right;\">1.00</td><td style=\"text-align: right;\">1</td><td style=\"text-align: right;\">0.17</td><td style=\"text-align: right;\">0</td><td style=\"text-align: right;\">0.00</td><td style=\"text-align: right;\">9</td><td style=\"text-align: right;\">2.24</td><td style=\"text-align: right;\">0</td><td style=\"text-align: right;\">0.00</td><td style=\"text-align: right;\">16</td><td style=\"text-align: right;\">2.75</td><td style=\"text-align: right;\">0</td><td style=\"text-align: right;\">0.00</td><td style=\"text-align: right;\">3</td><td style=\"text-align: right;\">0.84</td></tr>\n",
       "<tr class=\"even\"><td style=\"text-align: right;\">353358</td><td style=\"text-align: right;\">135,818,487</td><td style=\"text-align: right;\">471,078</td><td style=\"text-align: right;\">8</td><td style=\"text-align: right;\">267</td><td style=\"text-align: right;\">0.11</td><td style=\"text-align: right;\">29</td><td style=\"text-align: right;\">1.00</td><td style=\"text-align: right;\">1</td><td style=\"text-align: right;\">0.17</td><td style=\"text-align: right;\">0</td><td style=\"text-align: right;\">0.00</td><td style=\"text-align: right;\">9</td><td style=\"text-align: right;\">2.24</td><td style=\"text-align: right;\">0</td><td style=\"text-align: right;\">0.00</td><td style=\"text-align: right;\">16</td><td style=\"text-align: right;\">2.75</td><td style=\"text-align: right;\">0</td><td style=\"text-align: right;\">0.00</td><td style=\"text-align: right;\">3</td><td style=\"text-align: right;\">0.84</td></tr>\n",
       "<tr><td style=\"text-align: right;\">353559</td><td style=\"text-align: right;\">136,028,572</td><td style=\"text-align: right;\">409,893</td><td style=\"text-align: right;\">9</td><td style=\"text-align: right;\">39</td><td style=\"text-align: right;\">0.74</td><td style=\"text-align: right;\">29</td><td style=\"text-align: right;\">1.00</td><td style=\"text-align: right;\">1</td><td style=\"text-align: right;\">0.17</td><td style=\"text-align: right;\">0</td><td style=\"text-align: right;\">0.00</td><td style=\"text-align: right;\">9</td><td style=\"text-align: right;\">2.24</td><td style=\"text-align: right;\">0</td><td style=\"text-align: right;\">0.00</td><td style=\"text-align: right;\">16</td><td style=\"text-align: right;\">2.75</td><td style=\"text-align: right;\">0</td><td style=\"text-align: right;\">0.00</td><td style=\"text-align: right;\">3</td><td style=\"text-align: right;\">0.84</td></tr>\n",
       "</table>"
      ],
      "text/plain": [
       "<IPython.core.display.HTML object>"
      ]
     },
     "execution_count": 18,
     "metadata": {},
     "output_type": "execute_result"
    }
   ],
   "source": [
    "HTML(plt_obj.get_html())"
   ]
  },
  {
   "cell_type": "code",
   "execution_count": 19,
   "metadata": {
    "collapsed": false
   },
   "outputs": [
    {
     "data": {
      "text/html": [
       "\n",
       "\n",
       "    <div class=\"bk-root\">\n",
       "        <div class=\"plotdiv\" id=\"83f84323-72cc-4f01-b008-d56f7a0ae0d7\"></div>\n",
       "    </div>\n",
       "<script type=\"text/javascript\">\n",
       "  \n",
       "  (function(global) {\n",
       "    function now() {\n",
       "      return new Date();\n",
       "    }\n",
       "  \n",
       "    if (typeof (window._bokeh_onload_callbacks) === \"undefined\") {\n",
       "      window._bokeh_onload_callbacks = [];\n",
       "    }\n",
       "  \n",
       "    function run_callbacks() {\n",
       "      window._bokeh_onload_callbacks.forEach(function(callback) { callback() });\n",
       "      delete window._bokeh_onload_callbacks\n",
       "      console.info(\"Bokeh: all callbacks have finished\");\n",
       "    }\n",
       "  \n",
       "    function load_libs(js_urls, callback) {\n",
       "      window._bokeh_onload_callbacks.push(callback);\n",
       "      if (window._bokeh_is_loading > 0) {\n",
       "        console.log(\"Bokeh: BokehJS is being loaded, scheduling callback at\", now());\n",
       "        return null;\n",
       "      }\n",
       "      if (js_urls == null || js_urls.length === 0) {\n",
       "        run_callbacks();\n",
       "        return null;\n",
       "      }\n",
       "      console.log(\"Bokeh: BokehJS not loaded, scheduling load and callback at\", now());\n",
       "      window._bokeh_is_loading = js_urls.length;\n",
       "      for (var i = 0; i < js_urls.length; i++) {\n",
       "        var url = js_urls[i];\n",
       "        var s = document.createElement('script');\n",
       "        s.src = url;\n",
       "        s.async = false;\n",
       "        s.onreadystatechange = s.onload = function() {\n",
       "          window._bokeh_is_loading--;\n",
       "          if (window._bokeh_is_loading === 0) {\n",
       "            console.log(\"Bokeh: all BokehJS libraries loaded\");\n",
       "            run_callbacks()\n",
       "          }\n",
       "        };\n",
       "        s.onerror = function() {\n",
       "          console.warn(\"failed to load library \" + url);\n",
       "        };\n",
       "        console.log(\"Bokeh: injecting script tag for BokehJS library: \", url);\n",
       "        document.getElementsByTagName(\"head\")[0].appendChild(s);\n",
       "      }\n",
       "    };var element = document.getElementById(\"83f84323-72cc-4f01-b008-d56f7a0ae0d7\");\n",
       "    if (element == null) {\n",
       "      console.log(\"Bokeh: ERROR: autoload.js configured with elementid '83f84323-72cc-4f01-b008-d56f7a0ae0d7' but no matching script tag was found. \")\n",
       "      return false;\n",
       "    }\n",
       "  \n",
       "    var js_urls = [];\n",
       "  \n",
       "    var inline_js = [\n",
       "      function(Bokeh) {\n",
       "        Bokeh.$(function() {\n",
       "            var docs_json = {\"03a89241-13e1-4b11-9736-11d4a00b5a52\":{\"roots\":{\"references\":[{\"attributes\":{\"plot\":{\"id\":\"7dca4611-bc2f-4863-b0af-8f203e808df7\",\"subtype\":\"Figure\",\"type\":\"Plot\"}},\"id\":\"55dabbf7-6dfc-4bea-89c4-7a9a02b52608\",\"type\":\"PanTool\"},{\"attributes\":{\"data_source\":{\"id\":\"7a9e6b76-d185-4a0a-9f63-95bdd02d1138\",\"type\":\"ColumnDataSource\"},\"glyph\":{\"id\":\"6ae4b7de-5e7a-47a6-ace9-e382cbdf1be9\",\"type\":\"Quad\"},\"hover_glyph\":null,\"nonselection_glyph\":{\"id\":\"fa8d5e12-65ad-47a5-b1d8-6f38409393ef\",\"type\":\"Quad\"},\"selection_glyph\":null},\"id\":\"f0e17e47-86a8-4211-942e-fa261bb49d28\",\"type\":\"GlyphRenderer\"},{\"attributes\":{\"plot\":{\"id\":\"7dca4611-bc2f-4863-b0af-8f203e808df7\",\"subtype\":\"Figure\",\"type\":\"Plot\"},\"ticker\":{\"id\":\"0f4e3269-e841-4571-bbee-283fc11741d4\",\"type\":\"BasicTicker\"}},\"id\":\"eeb95ae0-b268-461f-9550-fc6a58576edf\",\"type\":\"Grid\"},{\"attributes\":{\"level\":\"glyph\",\"plot\":{\"id\":\"7dca4611-bc2f-4863-b0af-8f203e808df7\",\"subtype\":\"Figure\",\"type\":\"Plot\"},\"source\":{\"id\":\"808b2658-0e84-430a-ba9f-8ad4f7cc3be2\",\"type\":\"ColumnDataSource\"},\"text\":{\"field\":\"vals\"},\"text_align\":\"center\",\"text_baseline\":\"middle\",\"text_font_size\":{\"value\":\"8pt\"},\"x\":{\"field\":\"x\"},\"y\":{\"field\":\"y\"}},\"id\":\"f4edd9e4-e9e5-42fa-8beb-222158639f81\",\"type\":\"LabelSet\"},{\"attributes\":{},\"id\":\"ce5cb7e0-064c-46ea-b5b8-7164ea2720eb\",\"type\":\"BasicTicker\"},{\"attributes\":{},\"id\":\"29506f30-01e4-4ccb-881e-5e6922855219\",\"type\":\"BasicTickFormatter\"},{\"attributes\":{\"callback\":null,\"end\":800},\"id\":\"90a70c7a-50cb-4d46-9aa1-d0d182adb16c\",\"type\":\"Range1d\"},{\"attributes\":{},\"id\":\"24e3010f-4c5d-49e8-92bd-5c982520e58a\",\"type\":\"BasicTickFormatter\"},{\"attributes\":{\"bottom\":{\"field\":\"bottom\"},\"fill_alpha\":{\"value\":0.1},\"fill_color\":{\"value\":\"#1f77b4\"},\"left\":{\"field\":\"left\"},\"line_alpha\":{\"value\":0.1},\"line_color\":{\"value\":\"#1f77b4\"},\"right\":{\"field\":\"right\"},\"top\":{\"field\":\"top\"}},\"id\":\"f105abf3-0bb2-4993-825e-4f7216c56a7e\",\"type\":\"Quad\"},{\"attributes\":{\"plot\":{\"id\":\"7dca4611-bc2f-4863-b0af-8f203e808df7\",\"subtype\":\"Figure\",\"type\":\"Plot\"}},\"id\":\"3311a3be-f8ef-4500-9706-11a939c64e59\",\"type\":\"WheelZoomTool\"},{\"attributes\":{\"bottom\":{\"field\":\"bottom\"},\"fill_color\":{\"value\":\"white\"},\"left\":{\"field\":\"left\"},\"right\":{\"field\":\"right\"},\"top\":{\"field\":\"top\"}},\"id\":\"6ae4b7de-5e7a-47a6-ace9-e382cbdf1be9\",\"type\":\"Quad\"},{\"attributes\":{},\"id\":\"03929e9a-cfd9-4c0d-9373-018087567502\",\"type\":\"ToolEvents\"},{\"attributes\":{\"plot\":null,\"text\":null},\"id\":\"7cfa8d7a-0d64-43ed-aa5f-5eca90141188\",\"type\":\"Title\"},{\"attributes\":{\"callback\":null,\"column_names\":[\"y\",\"x\",\"vals\"],\"data\":{\"vals\":[\"RAB3GAP1\",\"ZRANB3\",\"R3HDM1\",\"UBXN4\",\"LCT\",\"MCM6\",\"DARS\"],\"x\":[135869057.0,136122878.0,136385961.0,136520911.0,136570082.5,136615621.5,136703738.0],\"y\":[760.0,760.0,760.0,760.0,760.0,760.0,760.0]}},\"id\":\"808b2658-0e84-430a-ba9f-8ad4f7cc3be2\",\"type\":\"ColumnDataSource\"},{\"attributes\":{\"bottom_units\":\"screen\",\"fill_alpha\":{\"value\":0.5},\"fill_color\":{\"value\":\"lightgrey\"},\"left_units\":\"screen\",\"level\":\"overlay\",\"line_alpha\":{\"value\":1.0},\"line_color\":{\"value\":\"black\"},\"line_dash\":[4,4],\"line_width\":{\"value\":2},\"plot\":null,\"render_mode\":\"css\",\"right_units\":\"screen\",\"top_units\":\"screen\"},\"id\":\"d0f338c5-e5c8-4bbe-b88e-0b1b1e1f18b8\",\"type\":\"BoxAnnotation\"},{\"attributes\":{\"callback\":null,\"column_names\":[\"right\",\"bottom\",\"top\",\"left\"],\"data\":{\"bottom\":[745,745,745,745,745,745,745],\"left\":[135809835,135957574,136289083,136499189,136545415,136597196,136664254],\"right\":[135928279,136288182,136482839,136542633,136594750,136634047,136743222],\"top\":[775,775,775,775,775,775,775]}},\"id\":\"7a9e6b76-d185-4a0a-9f63-95bdd02d1138\",\"type\":\"ColumnDataSource\"},{\"attributes\":{\"data_source\":{\"id\":\"bd828cf5-dbb0-433a-8da5-e2141f21c80c\",\"type\":\"ColumnDataSource\"},\"glyph\":{\"id\":\"c7f8eb24-00e4-4606-a016-9286fb6aee46\",\"type\":\"Quad\"},\"hover_glyph\":null,\"nonselection_glyph\":{\"id\":\"f105abf3-0bb2-4993-825e-4f7216c56a7e\",\"type\":\"Quad\"},\"selection_glyph\":null},\"id\":\"41b48a93-a218-4ffb-bff2-197238ca61e7\",\"type\":\"GlyphRenderer\"},{\"attributes\":{\"plot\":{\"id\":\"7dca4611-bc2f-4863-b0af-8f203e808df7\",\"subtype\":\"Figure\",\"type\":\"Plot\"}},\"id\":\"88d6c2b1-42d7-48c3-a533-98ba6429898f\",\"type\":\"SaveTool\"},{\"attributes\":{},\"id\":\"0f4e3269-e841-4571-bbee-283fc11741d4\",\"type\":\"BasicTicker\"},{\"attributes\":{\"plot\":{\"id\":\"7dca4611-bc2f-4863-b0af-8f203e808df7\",\"subtype\":\"Figure\",\"type\":\"Plot\"}},\"id\":\"58825493-05df-43d2-abf9-855801f4c036\",\"type\":\"HelpTool\"},{\"attributes\":{\"plot\":{\"id\":\"7dca4611-bc2f-4863-b0af-8f203e808df7\",\"subtype\":\"Figure\",\"type\":\"Plot\"}},\"id\":\"131e8136-6ae0-43f5-9c2e-717a0c5948e3\",\"type\":\"ResetTool\"},{\"attributes\":{\"level\":\"glyph\",\"plot\":{\"id\":\"7dca4611-bc2f-4863-b0af-8f203e808df7\",\"subtype\":\"Figure\",\"type\":\"Plot\"},\"source\":{\"id\":\"9e4a0b99-0ea3-48b2-8307-141bf4826910\",\"type\":\"ColumnDataSource\"},\"text\":{\"field\":\"vals\"},\"text_font_size\":{\"value\":\"9pt\"},\"text_font_style\":\"bold\",\"x\":{\"field\":\"x\"},\"y\":{\"field\":\"y\"}},\"id\":\"7d0dceb3-1afc-47ab-a738-9fa1c1ed413d\",\"type\":\"LabelSet\"},{\"attributes\":{\"bottom\":{\"field\":\"bottom\"},\"fill_color\":{\"field\":\"fill_color\"},\"left\":{\"field\":\"left\"},\"line_color\":{\"value\":null},\"right\":{\"field\":\"right\"},\"top\":{\"field\":\"top\"}},\"id\":\"c7f8eb24-00e4-4606-a016-9286fb6aee46\",\"type\":\"Quad\"},{\"attributes\":{\"below\":[{\"id\":\"33ce47c3-9223-4593-8c62-5c289fbb8b94\",\"type\":\"LinearAxis\"}],\"left\":[{\"id\":\"2d68eceb-f43e-4244-9c07-8c8379b94c7e\",\"type\":\"LinearAxis\"}],\"plot_height\":800,\"plot_width\":900,\"renderers\":[{\"id\":\"33ce47c3-9223-4593-8c62-5c289fbb8b94\",\"type\":\"LinearAxis\"},{\"id\":\"eeb95ae0-b268-461f-9550-fc6a58576edf\",\"type\":\"Grid\"},{\"id\":\"2d68eceb-f43e-4244-9c07-8c8379b94c7e\",\"type\":\"LinearAxis\"},{\"id\":\"36e4f285-acc5-41a7-8087-e076b4eea02d\",\"type\":\"Grid\"},{\"id\":\"d0f338c5-e5c8-4bbe-b88e-0b1b1e1f18b8\",\"type\":\"BoxAnnotation\"},{\"id\":\"41b48a93-a218-4ffb-bff2-197238ca61e7\",\"type\":\"GlyphRenderer\"},{\"id\":\"4a509252-237d-4984-a89b-62e416f44bec\",\"type\":\"GlyphRenderer\"},{\"id\":\"7d0dceb3-1afc-47ab-a738-9fa1c1ed413d\",\"type\":\"LabelSet\"},{\"id\":\"f0e17e47-86a8-4211-942e-fa261bb49d28\",\"type\":\"GlyphRenderer\"},{\"id\":\"f4edd9e4-e9e5-42fa-8beb-222158639f81\",\"type\":\"LabelSet\"}],\"title\":{\"id\":\"7cfa8d7a-0d64-43ed-aa5f-5eca90141188\",\"type\":\"Title\"},\"tool_events\":{\"id\":\"03929e9a-cfd9-4c0d-9373-018087567502\",\"type\":\"ToolEvents\"},\"toolbar\":{\"id\":\"627326e9-3253-4632-9ad0-3595e6af8815\",\"type\":\"Toolbar\"},\"toolbar_location\":null,\"x_range\":{\"id\":\"565d2ad2-be55-4d91-9ba5-a882f9d44ef3\",\"type\":\"Range1d\"},\"y_range\":{\"id\":\"90a70c7a-50cb-4d46-9aa1-d0d182adb16c\",\"type\":\"Range1d\"}},\"id\":\"7dca4611-bc2f-4863-b0af-8f203e808df7\",\"subtype\":\"Figure\",\"type\":\"Plot\"},{\"attributes\":{\"dimension\":1,\"plot\":{\"id\":\"7dca4611-bc2f-4863-b0af-8f203e808df7\",\"subtype\":\"Figure\",\"type\":\"Plot\"},\"ticker\":{\"id\":\"ce5cb7e0-064c-46ea-b5b8-7164ea2720eb\",\"type\":\"BasicTicker\"}},\"id\":\"36e4f285-acc5-41a7-8087-e076b4eea02d\",\"type\":\"Grid\"},{\"attributes\":{\"callback\":null,\"end\":136786630,\"start\":135757320},\"id\":\"565d2ad2-be55-4d91-9ba5-a882f9d44ef3\",\"type\":\"Range1d\"},{\"attributes\":{\"formatter\":{\"id\":\"29506f30-01e4-4ccb-881e-5e6922855219\",\"type\":\"BasicTickFormatter\"},\"plot\":{\"id\":\"7dca4611-bc2f-4863-b0af-8f203e808df7\",\"subtype\":\"Figure\",\"type\":\"Plot\"},\"ticker\":{\"id\":\"ce5cb7e0-064c-46ea-b5b8-7164ea2720eb\",\"type\":\"BasicTicker\"},\"visible\":null},\"id\":\"2d68eceb-f43e-4244-9c07-8c8379b94c7e\",\"type\":\"LinearAxis\"},{\"attributes\":{\"bottom\":{\"field\":\"bottom\"},\"fill_alpha\":{\"value\":0.1},\"fill_color\":{\"value\":\"#1f77b4\"},\"left\":{\"field\":\"left\"},\"line_alpha\":{\"value\":0.1},\"line_color\":{\"value\":\"#1f77b4\"},\"right\":{\"field\":\"right\"},\"top\":{\"field\":\"top\"}},\"id\":\"fa8d5e12-65ad-47a5-b1d8-6f38409393ef\",\"type\":\"Quad\"},{\"attributes\":{\"formatter\":{\"id\":\"24e3010f-4c5d-49e8-92bd-5c982520e58a\",\"type\":\"BasicTickFormatter\"},\"plot\":{\"id\":\"7dca4611-bc2f-4863-b0af-8f203e808df7\",\"subtype\":\"Figure\",\"type\":\"Plot\"},\"ticker\":{\"id\":\"0f4e3269-e841-4571-bbee-283fc11741d4\",\"type\":\"BasicTicker\"}},\"id\":\"33ce47c3-9223-4593-8c62-5c289fbb8b94\",\"type\":\"LinearAxis\"},{\"attributes\":{\"callback\":null,\"column_names\":[\"xs\",\"ys\",\"line_color\"],\"data\":{\"line_color\":[\"black\",\"black\",\"black\",\"black\",\"black\",\"black\",\"black\",\"black\",\"black\",\"black\",\"black\",\"black\",\"black\",\"black\",\"black\",\"black\",\"black\",\"black\",\"black\",\"black\",\"black\",\"black\",\"black\",\"black\",\"black\",\"black\",\"black\",\"black\",\"black\",\"black\",\"black\",\"black\",\"black\",\"black\",\"black\",\"black\",\"black\",\"black\",\"black\",\"black\",\"black\",\"black\",\"black\",\"black\",\"black\",\"black\",\"black\",\"black\",\"black\",\"black\",\"black\",\"black\",\"black\",\"black\",\"black\",\"black\",\"black\",\"black\",\"black\",\"black\",\"black\",\"black\",\"black\",\"black\",\"black\",\"black\",\"black\",\"black\",\"black\",\"black\",\"black\",\"black\",\"black\",\"black\",\"black\",\"black\",\"black\",\"black\",\"black\",\"black\",\"black\",\"black\",\"black\",\"black\",\"black\",\"black\",\"black\",\"black\",\"black\",\"black\",\"black\",\"black\",\"black\",\"black\",\"black\",\"black\",\"black\",\"black\",\"black\",\"black\",\"black\",\"black\",\"black\",\"black\",\"black\",\"black\",\"black\",\"black\",\"black\",\"black\",\"black\",\"black\",\"black\",\"black\",\"black\",\"black\",\"black\",\"black\",\"black\",\"black\",\"black\",\"black\",\"black\",\"black\",\"black\",\"black\",\"black\",\"black\",\"black\",\"black\",\"black\",\"black\",\"black\",\"black\",\"black\",\"black\",\"black\",\"black\",\"black\",\"black\",\"black\",\"black\",\"black\",\"black\",\"black\",\"black\",\"black\",\"black\",\"black\",\"black\",\"black\",\"black\",\"black\",\"black\",\"black\",\"black\",\"black\",\"black\",\"black\",\"black\",\"black\",\"black\",\"black\",\"black\",\"black\",\"black\",\"black\",\"black\",\"black\",\"black\",\"black\",\"black\",\"black\",\"black\",\"black\",\"black\",\"black\",\"black\",\"black\",\"black\",\"black\",\"black\",\"black\",\"black\",\"black\",\"black\",\"black\",\"black\",\"black\",\"black\",\"black\",\"black\",\"black\",\"black\",\"black\",\"black\",\"black\",\"black\",\"black\",\"black\",\"black\",\"black\",\"black\",\"black\",\"black\",\"black\",\"black\",\"black\",\"black\",\"black\",\"black\",\"black\",\"black\",\"black\",\"black\",\"black\",\"black\",\"black\",\"black\",\"black\",\"black\",\"black\",\"black\",\"black\",\"black\",\"black\",\"black\",\"black\",\"black\",\"black\",\"black\",\"black\",\"black\",\"black\",\"black\",\"black\",\"black\",\"black\",\"black\",\"black\",\"black\",\"black\",\"black\",\"black\",\"black\",\"black\",\"black\",\"black\",\"black\",\"black\",\"black\",\"black\",\"black\",\"black\",\"black\",\"black\",\"black\",\"black\",\"black\",\"black\",\"black\",\"black\",\"black\",\"black\",\"black\",\"black\",\"black\",\"black\",\"black\",\"black\",\"black\",\"black\",\"black\",\"black\",\"black\",\"black\",\"black\",\"black\",\"black\",\"black\",\"black\",\"black\",\"black\",\"black\",\"black\",\"black\",\"black\",\"black\",\"black\",\"black\",\"black\",\"black\",\"black\",\"black\",\"black\",\"black\",\"black\",\"black\",\"black\",\"black\",\"black\",\"black\",\"black\",\"black\",\"black\",\"black\",\"black\",\"black\",\"black\",\"black\",\"black\",\"black\"],\"xs\":[[135758231,135758231],[135758520,135758520],[135766072,135766072],[135773420,135773420],[135773446,135773446],[135773617,135773617],[135773692,135773692],[135774681,135774681],[135775049,135775049],[135776430,135776430],[135778656,135778656],[135780168,135780168],[135780587,135780587],[135781301,135781301],[135781522,135781522],[135781635,135781635],[135782456,135782456],[135783157,135783157],[135783366,135783366],[135783367,135783367],[135784227,135784227],[135784733,135784733],[135785066,135785066],[135785068,135785068],[135785149,135785149],[135787148,135787148],[135787642,135787642],[135789405,135789405],[135789472,135789472],[135789682,135789682],[135789784,135789784],[135792338,135792338],[135792528,135792528],[135793565,135793565],[135793684,135793684],[135793845,135793845],[135794367,135794367],[135794986,135794986],[135795040,135795040],[135795095,135795095],[135795150,135795150],[135795385,135795385],[135795396,135795396],[135795443,135795443],[135795595,135795595],[135796000,135796000],[135796155,135796155],[135796410,135796410],[135796965,135796965],[135797223,135797223],[135797747,135797747],[135798082,135798082],[135798758,135798758],[135799082,135799082],[135800085,135800085],[135800601,135800601],[135800757,135800757],[135801228,135801228],[135801956,135801956],[135802020,135802020],[135802028,135802028],[135802050,135802050],[135802148,135802148],[135803766,135803766],[135809241,135809241],[135812969,135812969],[135814716,135814716],[135818907,135818907],[135829432,135829432],[135832131,135832131],[135849613,135849613],[135853807,135853807],[135859923,135859923],[135860305,135860305],[135861497,135861497],[135863143,135863143],[135864294,135864294],[135871624,135871624],[135872646,135872646],[135874038,135874038],[135874622,135874622],[135878814,135878814],[135880013,135880013],[135884487,135884487],[135885357,135885357],[135893853,135893853],[135895809,135895809],[135895879,135895879],[135899069,135899069],[135909462,135909462],[135912977,135912977],[135914038,135914038],[135921839,135921839],[135925002,135925002],[135928312,135928312],[135935049,135935049],[135962711,135962711],[135984172,135984172],[135994753,135994753],[135994754,135994754],[136016079,136016079],[136027264,136027264],[136052004,136052004],[136100473,136100473],[136110129,136110129],[136166536,136166536],[136169799,136169799],[136191314,136191314],[136228887,136228887],[136238453,136238453],[136288273,136288273],[136292425,136292425],[136321951,136321951],[136324564,136324564],[136327299,136327299],[136327302,136327302],[136376515,136376515],[135766890,135766890],[135778708,135778708],[135779588,135779588],[135805941,135805941],[135805943,135805943],[135932720,135932720],[135933317,135933317],[135934842,135934842],[135952376,135952376],[135958853,135958853],[135962864,135962864],[135963304,135963304],[135965376,135965376],[135980201,135980201],[135981554,135981554],[135988127,135988127],[135988416,135988416],[135991470,135991470],[136000500,136000500],[136001215,136001215],[136001295,136001295],[136016514,136016514],[136017388,136017388],[136041102,136041102],[136041662,136041662],[136047387,136047387],[136052936,136052936],[136055275,136055275],[136063118,136063118],[136066802,136066802],[136068890,136068890],[136069577,136069577],[136081193,136081193],[136105193,136105193],[136107839,136107839],[136110835,136110835],[136138026,136138026],[136142092,136142092],[136146499,136146499],[136147607,136147607],[136148401,136148401],[136150512,136150512],[136154734,136154734],[136155805,136155805],[136163001,136163001],[136163266,136163266],[136163568,136163568],[136163821,136163821],[136165965,136165965],[136183312,136183312],[136185945,136185945],[136191729,136191729],[136204827,136204827],[136208747,136208747],[136217980,136217980],[136229438,136229438],[136232572,136232572],[136240942,136240942],[136251329,136251329],[136265187,136265187],[136265188,136265188],[136275985,136275985],[135818487,135818487],[136048649,136048649],[136107286,136107286],[136127914,136127914],[136130497,136130497],[136268096,136268096],[136281880,136281880],[136289565,136289565],[135839805,135839805],[135866750,135866750],[135886744,135886744],[135924467,135924467],[135964764,135964764],[135964765,135964765],[136099127,136099127],[136099650,136099650],[136100705,136100705],[136101132,136101132],[135989333,135989333],[136000304,136000304],[136030519,136030519],[136034836,136034836],[136125165,136125165],[136264631,136264631],[136028572,136028572],[136141525,136141525],[136174478,136174478],[136211744,136211744],[136240608,136240608],[136320031,136320031],[136320040,136320040],[136368926,136368926],[136438465,136438465],[136393658,136393658],[136396300,136396300],[136401843,136401843],[136407445,136407445],[136411879,136411879],[136412270,136412270],[136413244,136413244],[136413847,136413847],[136415217,136415217],[136416533,136416533],[136420726,136420726],[136429857,136429857],[136433740,136433740],[136436317,136436317],[136437615,136437615],[136438517,136438517],[136440300,136440300],[136443900,136443900],[136444185,136444185],[136444338,136444338],[136449254,136449254],[136451676,136451676],[136459227,136459227],[136463117,136463117],[136463454,136463454],[136467119,136467119],[136468238,136468238],[136470219,136470219],[136483355,136483355],[136485276,136485276],[136486340,136486340],[136486342,136486342],[136496493,136496493],[136496639,136496639],[136496928,136496928],[136509573,136509573],[136511951,136511951],[136537057,136537057],[136546635,136546635],[136553438,136553438],[136553925,136553925],[136496805,136496805],[136496910,136496910],[136515859,136515859],[136515924,136515924],[136520186,136520186],[136524766,136524766],[136535364,136535364],[136536113,136536113],[136552629,136552629],[136511874,136511874],[136530248,136530248],[136530556,136530556],[136531252,136531252],[136533195,136533195],[136514709,136514709],[136516308,136516308],[136520100,136520100],[136521595,136521595],[136523045,136523045],[136543147,136543147],[136556805,136556805],[136560003,136560003],[136562472,136562472],[136563248,136563248],[136565328,136565328],[136570613,136570613],[136571982,136571982],[136574305,136574305],[136578040,136578040],[136578194,136578194],[136580398,136580398],[136586828,136586828],[136590558,136590558],[136592309,136592309],[136593541,136593541],[136593694,136593694],[136595426,136595426],[136615222,136615222],[136624919,136624919],[136626004,136626004],[136628380,136628380],[136636909,136636909],[136637350,136637350],[136637622,136637622],[136639487,136639487],[136646900,136646900],[136652093,136652093],[136652859,136652859],[136655620,136655620],[136667896,136667896],[136671801,136671801],[136677192,136677192],[136683293,136683293],[136704414,136704414],[136720344,136720344],[136731066,136731066],[136733897,136733897],[136743490,136743490],[136747085,136747085]],\"ys\":[[650,696],[650,696],[650,696],[650,696],[650,696],[650,696],[650,696],[650,696],[650,696],[650,696],[650,696],[650,696],[650,696],[650,696],[650,696],[650,696],[650,696],[650,696],[650,696],[650,696],[650,696],[650,696],[650,696],[650,696],[650,696],[650,696],[650,696],[650,696],[650,696],[650,696],[650,696],[650,696],[650,696],[650,696],[650,696],[650,696],[650,696],[650,696],[650,696],[650,696],[650,696],[650,696],[650,696],[650,696],[650,696],[650,696],[650,696],[650,696],[650,696],[650,696],[650,696],[650,696],[650,696],[650,696],[650,696],[650,696],[650,696],[650,696],[650,696],[650,696],[650,696],[650,696],[650,696],[650,696],[650,696],[650,696],[650,696],[650,696],[650,696],[650,696],[650,696],[650,696],[650,696],[650,696],[650,696],[650,696],[650,696],[650,696],[650,696],[650,696],[650,696],[650,696],[650,696],[650,696],[650,696],[650,696],[650,696],[650,696],[650,696],[650,696],[650,696],[650,696],[650,696],[650,696],[650,696],[650,696],[650,696],[650,696],[650,696],[650,696],[650,696],[650,696],[650,696],[650,696],[650,696],[650,696],[650,696],[650,696],[650,696],[650,696],[650,696],[650,696],[650,696],[650,696],[650,696],[650,696],[650,696],[550,593],[550,593],[550,593],[550,593],[550,593],[550,593],[550,593],[550,593],[550,593],[550,593],[550,593],[550,593],[550,593],[550,593],[550,593],[550,593],[550,593],[550,593],[550,593],[550,593],[550,593],[550,593],[550,593],[550,593],[550,593],[550,593],[550,593],[550,593],[550,593],[550,593],[550,593],[550,593],[550,593],[550,593],[550,593],[550,593],[550,593],[550,593],[550,593],[550,593],[550,593],[550,593],[550,593],[550,593],[550,593],[550,593],[550,593],[550,593],[550,593],[550,593],[550,593],[550,593],[550,593],[550,593],[550,593],[550,593],[550,593],[550,593],[550,593],[550,593],[550,593],[550,593],[150,180],[150,180],[150,180],[150,180],[150,180],[150,180],[150,180],[150,180],[250,290],[250,290],[250,290],[250,290],[350,391],[350,391],[350,391],[350,391],[350,391],[350,391],[250,288],[250,288],[250,288],[250,288],[250,288],[250,288],[50,63],[50,63],[50,63],[50,63],[50,63],[50,63],[50,63],[50,63],[50,63],[650,694],[650,694],[650,694],[650,694],[650,694],[650,694],[650,694],[650,694],[650,694],[650,694],[650,694],[650,694],[650,694],[650,694],[650,694],[650,694],[650,694],[650,694],[650,694],[650,694],[650,694],[650,694],[650,694],[650,694],[650,694],[650,694],[650,694],[650,694],[650,694],[650,694],[650,694],[650,694],[550,593],[550,593],[550,593],[550,593],[550,593],[550,593],[550,593],[550,593],[550,593],[450,491],[450,491],[450,491],[450,491],[450,491],[450,491],[450,491],[450,491],[450,491],[350,391],[350,391],[350,391],[350,391],[350,391],[250,290],[250,290],[250,290],[250,290],[250,290],[250,290],[450,491],[450,491],[450,491],[450,491],[450,491],[450,491],[450,491],[450,491],[450,491],[450,491],[450,491],[450,491],[450,491],[450,491],[450,491],[450,491],[450,491],[450,491],[450,491],[450,491],[450,491],[450,491],[450,491],[450,491],[450,491],[450,491],[450,491],[450,491],[450,491],[450,491],[450,491],[450,491],[450,491],[450,491],[450,491],[450,491],[450,491],[450,491],[450,491]]}},\"id\":\"564dce93-d3a9-43ae-b6af-303f694a601a\",\"type\":\"ColumnDataSource\"},{\"attributes\":{\"line_color\":{\"field\":\"line_color\"},\"xs\":{\"field\":\"xs\"},\"ys\":{\"field\":\"ys\"}},\"id\":\"1bce0182-8809-4eeb-8f34-6014fd27ee4e\",\"type\":\"MultiLine\"},{\"attributes\":{\"overlay\":{\"id\":\"d0f338c5-e5c8-4bbe-b88e-0b1b1e1f18b8\",\"type\":\"BoxAnnotation\"},\"plot\":{\"id\":\"7dca4611-bc2f-4863-b0af-8f203e808df7\",\"subtype\":\"Figure\",\"type\":\"Plot\"}},\"id\":\"e074804f-1973-4aae-b2e2-5bea25c03209\",\"type\":\"BoxZoomTool\"},{\"attributes\":{\"line_alpha\":{\"value\":0.1},\"line_color\":{\"value\":\"#1f77b4\"},\"xs\":{\"field\":\"xs\"},\"ys\":{\"field\":\"ys\"}},\"id\":\"0fc75346-b14d-4ba8-97cb-9f84ab1bbe1b\",\"type\":\"MultiLine\"},{\"attributes\":{\"active_drag\":\"auto\",\"active_scroll\":\"auto\",\"active_tap\":\"auto\",\"tools\":[{\"id\":\"55dabbf7-6dfc-4bea-89c4-7a9a02b52608\",\"type\":\"PanTool\"},{\"id\":\"3311a3be-f8ef-4500-9706-11a939c64e59\",\"type\":\"WheelZoomTool\"},{\"id\":\"e074804f-1973-4aae-b2e2-5bea25c03209\",\"type\":\"BoxZoomTool\"},{\"id\":\"88d6c2b1-42d7-48c3-a533-98ba6429898f\",\"type\":\"SaveTool\"},{\"id\":\"131e8136-6ae0-43f5-9c2e-717a0c5948e3\",\"type\":\"ResetTool\"},{\"id\":\"58825493-05df-43d2-abf9-855801f4c036\",\"type\":\"HelpTool\"}]},\"id\":\"627326e9-3253-4632-9ad0-3595e6af8815\",\"type\":\"Toolbar\"},{\"attributes\":{\"data_source\":{\"id\":\"564dce93-d3a9-43ae-b6af-303f694a601a\",\"type\":\"ColumnDataSource\"},\"glyph\":{\"id\":\"1bce0182-8809-4eeb-8f34-6014fd27ee4e\",\"type\":\"MultiLine\"},\"hover_glyph\":null,\"nonselection_glyph\":{\"id\":\"0fc75346-b14d-4ba8-97cb-9f84ab1bbe1b\",\"type\":\"MultiLine\"},\"selection_glyph\":null},\"id\":\"4a509252-237d-4984-a89b-62e416f44bec\",\"type\":\"GlyphRenderer\"},{\"attributes\":{\"callback\":null,\"column_names\":[\"y\",\"x\",\"vals\"],\"data\":{\"vals\":[\"117_1685\",\"62_1265\",\"8_267\",\"4_815\",\"6_946\",\"6_713\",\"9_39\",\"32_1361\",\"9_1170\",\"9_1023\",\"5_976\",\"6_820\",\"39_1014\"],\"x\":[135758231,135766890,135818487,135839805,135964764,135989333,136028572,136393658,136496493,136496805,136511874,136514709,136556805],\"y\":[701.0,598.0,185.0,295.0,396.0,293.0,68.0,699.0,598.0,496.0,396.0,295.0,496.0]}},\"id\":\"9e4a0b99-0ea3-48b2-8307-141bf4826910\",\"type\":\"ColumnDataSource\"},{\"attributes\":{\"callback\":null,\"column_names\":[\"right\",\"bottom\",\"top\",\"left\",\"fill_color\"],\"data\":{\"bottom\":[650,550,150,250,350,250,50,650,550,450,350,250,450],\"fill_color\":[\"#808080\",\"#808080\",\"#c461c4\",\"#61c4c4\",\"#61c4c4\",\"#61c4c4\",\"#00ff00\",\"#c4c461\",\"#808080\",\"#61c4c4\",\"#808080\",\"#61c4c4\",\"#808080\"],\"left\":[135758231,135766890,135818487,135839805,135964764,135989333,136028572,136393658,136496493,136496805,136511874,136514709,136556805],\"right\":[136376515,136275985,136289565,135924467,136101132,136264631,136438465,136486342,136553925,136552629,136533195,136543147,136747085],\"top\":[696,593,180,290,391,288,63,694,593,491,391,290,491]}},\"id\":\"bd828cf5-dbb0-433a-8da5-e2141f21c80c\",\"type\":\"ColumnDataSource\"}],\"root_ids\":[\"7dca4611-bc2f-4863-b0af-8f203e808df7\"]},\"title\":\"Bokeh Application\",\"version\":\"0.12.0\"}};\n",
       "            var render_items = [{\"docid\":\"03a89241-13e1-4b11-9736-11d4a00b5a52\",\"elementid\":\"83f84323-72cc-4f01-b008-d56f7a0ae0d7\",\"modelid\":\"7dca4611-bc2f-4863-b0af-8f203e808df7\",\"notebook_comms_target\":\"daceac54-51f7-48dd-9868-c901bc93cdb8\"}];\n",
       "            \n",
       "            Bokeh.embed.embed_items(docs_json, render_items);\n",
       "        });\n",
       "      },\n",
       "      function(Bokeh) {\n",
       "      }\n",
       "    ];\n",
       "  \n",
       "    function run_inline_js() {\n",
       "      for (var i = 0; i < inline_js.length; i++) {\n",
       "        inline_js[i](window.Bokeh);\n",
       "      }\n",
       "    }\n",
       "  \n",
       "    if (window._bokeh_is_loading === 0) {\n",
       "      console.log(\"Bokeh: BokehJS loaded, going straight to plotting\");\n",
       "      run_inline_js();\n",
       "    } else {\n",
       "      load_libs(js_urls, function() {\n",
       "        console.log(\"Bokeh: BokehJS plotting callback run at\", now());\n",
       "        run_inline_js();\n",
       "      });\n",
       "    }\n",
       "  }(this));\n",
       "</script>"
      ]
     },
     "metadata": {},
     "output_type": "display_data"
    },
    {
     "data": {
      "text/html": [
       "<p><code>&lt;Bokeh Notebook handle for <strong>In[19]</strong>&gt;</code></p>"
      ],
      "text/plain": [
       "<bokeh.io._CommsHandle at 0x7fa3e9651910>"
      ]
     },
     "execution_count": 19,
     "metadata": {},
     "output_type": "execute_result"
    }
   ],
   "source": [
    "plt_obj = dm.superset_yes_no([di_9_39, dm.di_9_1170], [dm.di_81_857], min_match=0.001)\n",
    "plt = plt_obj.do_plot()\n",
    "show(plt)"
   ]
  },
  {
   "cell_type": "code",
   "execution_count": 20,
   "metadata": {
    "collapsed": false
   },
   "outputs": [
    {
     "data": {
      "text/html": [
       "<table>\n",
       "<thead><tr><th style=\"text-align:center\">index</th><th style=\"text-align:center\">first</th><th style=\"text-align:center\">length</th><th style=\"text-align:center\">snps</th><th style=\"text-align:center\" colspan=2>alleles</th><th style=\"text-align:center\" colspan=2>matches</th><th style=\"text-align:center\" colspan=2>afr</th><th style=\"text-align:center\" colspan=2>afx</th><th style=\"text-align:center\" colspan=2>amr</th><th style=\"text-align:center\" colspan=2>eas</th><th style=\"text-align:center\" colspan=2>eur</th><th style=\"text-align:center\" colspan=2>sas</th><th style=\"text-align:center\" colspan=2>sax</th></tr></thead>\n",
       "<tr class=\"even\"><td style=\"text-align: right;\">353244</td><td style=\"text-align: right;\">135,758,231</td><td style=\"text-align: right;\">618,284</td><td style=\"text-align: right;\">117</td><td style=\"text-align: right;\">1685</td><td style=\"text-align: right;\">0.00</td><td style=\"text-align: right;\">6</td><td style=\"text-align: right;\">1.00</td><td style=\"text-align: right;\">0</td><td style=\"text-align: right;\">0.00</td><td style=\"text-align: right;\">0</td><td style=\"text-align: right;\">0.00</td><td style=\"text-align: right;\">4</td><td style=\"text-align: right;\">4.96</td><td style=\"text-align: right;\">0</td><td style=\"text-align: right;\">0.00</td><td style=\"text-align: right;\">2</td><td style=\"text-align: right;\">1.69</td><td style=\"text-align: right;\">0</td><td style=\"text-align: right;\">0.00</td><td style=\"text-align: right;\">0</td><td style=\"text-align: right;\">0.00</td></tr>\n",
       "<tr><td style=\"text-align: right;\">353791</td><td style=\"text-align: right;\">136,393,658</td><td style=\"text-align: right;\">92,684</td><td style=\"text-align: right;\">32</td><td style=\"text-align: right;\">1361</td><td style=\"text-align: right;\">0.00</td><td style=\"text-align: right;\">6</td><td style=\"text-align: right;\">1.00</td><td style=\"text-align: right;\">0</td><td style=\"text-align: right;\">0.00</td><td style=\"text-align: right;\">0</td><td style=\"text-align: right;\">0.00</td><td style=\"text-align: right;\">4</td><td style=\"text-align: right;\">4.96</td><td style=\"text-align: right;\">0</td><td style=\"text-align: right;\">0.00</td><td style=\"text-align: right;\">2</td><td style=\"text-align: right;\">1.69</td><td style=\"text-align: right;\">0</td><td style=\"text-align: right;\">0.00</td><td style=\"text-align: right;\">0</td><td style=\"text-align: right;\">0.00</td></tr>\n",
       "<tr class=\"even\"><td style=\"text-align: right;\">353269</td><td style=\"text-align: right;\">135,766,890</td><td style=\"text-align: right;\">509,095</td><td style=\"text-align: right;\">62</td><td style=\"text-align: right;\">1265</td><td style=\"text-align: right;\">0.00</td><td style=\"text-align: right;\">6</td><td style=\"text-align: right;\">1.00</td><td style=\"text-align: right;\">0</td><td style=\"text-align: right;\">0.00</td><td style=\"text-align: right;\">0</td><td style=\"text-align: right;\">0.00</td><td style=\"text-align: right;\">4</td><td style=\"text-align: right;\">4.96</td><td style=\"text-align: right;\">0</td><td style=\"text-align: right;\">0.00</td><td style=\"text-align: right;\">2</td><td style=\"text-align: right;\">1.69</td><td style=\"text-align: right;\">0</td><td style=\"text-align: right;\">0.00</td><td style=\"text-align: right;\">0</td><td style=\"text-align: right;\">0.00</td></tr>\n",
       "<tr><td style=\"text-align: right;\">353906</td><td style=\"text-align: right;\">136,496,493</td><td style=\"text-align: right;\">57,432</td><td style=\"text-align: right;\">9</td><td style=\"text-align: right;\">1170</td><td style=\"text-align: right;\">0.01</td><td style=\"text-align: right;\">6</td><td style=\"text-align: right;\">1.00</td><td style=\"text-align: right;\">0</td><td style=\"text-align: right;\">0.00</td><td style=\"text-align: right;\">0</td><td style=\"text-align: right;\">0.00</td><td style=\"text-align: right;\">4</td><td style=\"text-align: right;\">4.96</td><td style=\"text-align: right;\">0</td><td style=\"text-align: right;\">0.00</td><td style=\"text-align: right;\">2</td><td style=\"text-align: right;\">1.69</td><td style=\"text-align: right;\">0</td><td style=\"text-align: right;\">0.00</td><td style=\"text-align: right;\">0</td><td style=\"text-align: right;\">0.00</td></tr>\n",
       "<tr class=\"even\"><td style=\"text-align: right;\">353907</td><td style=\"text-align: right;\">136,496,805</td><td style=\"text-align: right;\">55,824</td><td style=\"text-align: right;\">9</td><td style=\"text-align: right;\">1023</td><td style=\"text-align: right;\">0.01</td><td style=\"text-align: right;\">6</td><td style=\"text-align: right;\">1.00</td><td style=\"text-align: right;\">0</td><td style=\"text-align: right;\">0.00</td><td style=\"text-align: right;\">0</td><td style=\"text-align: right;\">0.00</td><td style=\"text-align: right;\">4</td><td style=\"text-align: right;\">4.96</td><td style=\"text-align: right;\">0</td><td style=\"text-align: right;\">0.00</td><td style=\"text-align: right;\">2</td><td style=\"text-align: right;\">1.69</td><td style=\"text-align: right;\">0</td><td style=\"text-align: right;\">0.00</td><td style=\"text-align: right;\">0</td><td style=\"text-align: right;\">0.00</td></tr>\n",
       "<tr><td style=\"text-align: right;\">353984</td><td style=\"text-align: right;\">136,556,805</td><td style=\"text-align: right;\">190,280</td><td style=\"text-align: right;\">39</td><td style=\"text-align: right;\">1014</td><td style=\"text-align: right;\">0.01</td><td style=\"text-align: right;\">6</td><td style=\"text-align: right;\">1.00</td><td style=\"text-align: right;\">0</td><td style=\"text-align: right;\">0.00</td><td style=\"text-align: right;\">0</td><td style=\"text-align: right;\">0.00</td><td style=\"text-align: right;\">4</td><td style=\"text-align: right;\">4.96</td><td style=\"text-align: right;\">0</td><td style=\"text-align: right;\">0.00</td><td style=\"text-align: right;\">2</td><td style=\"text-align: right;\">1.69</td><td style=\"text-align: right;\">0</td><td style=\"text-align: right;\">0.00</td><td style=\"text-align: right;\">0</td><td style=\"text-align: right;\">0.00</td></tr>\n",
       "<tr class=\"even\"><td style=\"text-align: right;\">353935</td><td style=\"text-align: right;\">136,511,874</td><td style=\"text-align: right;\">21,321</td><td style=\"text-align: right;\">5</td><td style=\"text-align: right;\">976</td><td style=\"text-align: right;\">0.01</td><td style=\"text-align: right;\">6</td><td style=\"text-align: right;\">1.00</td><td style=\"text-align: right;\">0</td><td style=\"text-align: right;\">0.00</td><td style=\"text-align: right;\">0</td><td style=\"text-align: right;\">0.00</td><td style=\"text-align: right;\">4</td><td style=\"text-align: right;\">4.96</td><td style=\"text-align: right;\">0</td><td style=\"text-align: right;\">0.00</td><td style=\"text-align: right;\">2</td><td style=\"text-align: right;\">1.69</td><td style=\"text-align: right;\">0</td><td style=\"text-align: right;\">0.00</td><td style=\"text-align: right;\">0</td><td style=\"text-align: right;\">0.00</td></tr>\n",
       "<tr><td style=\"text-align: right;\">353504</td><td style=\"text-align: right;\">135,964,764</td><td style=\"text-align: right;\">136,368</td><td style=\"text-align: right;\">6</td><td style=\"text-align: right;\">946</td><td style=\"text-align: right;\">0.01</td><td style=\"text-align: right;\">6</td><td style=\"text-align: right;\">1.00</td><td style=\"text-align: right;\">0</td><td style=\"text-align: right;\">0.00</td><td style=\"text-align: right;\">0</td><td style=\"text-align: right;\">0.00</td><td style=\"text-align: right;\">4</td><td style=\"text-align: right;\">4.96</td><td style=\"text-align: right;\">0</td><td style=\"text-align: right;\">0.00</td><td style=\"text-align: right;\">2</td><td style=\"text-align: right;\">1.69</td><td style=\"text-align: right;\">0</td><td style=\"text-align: right;\">0.00</td><td style=\"text-align: right;\">0</td><td style=\"text-align: right;\">0.00</td></tr>\n",
       "<tr class=\"even\"><td style=\"text-align: right;\">353938</td><td style=\"text-align: right;\">136,514,709</td><td style=\"text-align: right;\">28,438</td><td style=\"text-align: right;\">6</td><td style=\"text-align: right;\">820</td><td style=\"text-align: right;\">0.01</td><td style=\"text-align: right;\">6</td><td style=\"text-align: right;\">1.00</td><td style=\"text-align: right;\">0</td><td style=\"text-align: right;\">0.00</td><td style=\"text-align: right;\">0</td><td style=\"text-align: right;\">0.00</td><td style=\"text-align: right;\">4</td><td style=\"text-align: right;\">4.96</td><td style=\"text-align: right;\">0</td><td style=\"text-align: right;\">0.00</td><td style=\"text-align: right;\">2</td><td style=\"text-align: right;\">1.69</td><td style=\"text-align: right;\">0</td><td style=\"text-align: right;\">0.00</td><td style=\"text-align: right;\">0</td><td style=\"text-align: right;\">0.00</td></tr>\n",
       "<tr><td style=\"text-align: right;\">353384</td><td style=\"text-align: right;\">135,839,805</td><td style=\"text-align: right;\">84,662</td><td style=\"text-align: right;\">4</td><td style=\"text-align: right;\">815</td><td style=\"text-align: right;\">0.01</td><td style=\"text-align: right;\">6</td><td style=\"text-align: right;\">1.00</td><td style=\"text-align: right;\">0</td><td style=\"text-align: right;\">0.00</td><td style=\"text-align: right;\">0</td><td style=\"text-align: right;\">0.00</td><td style=\"text-align: right;\">4</td><td style=\"text-align: right;\">4.96</td><td style=\"text-align: right;\">0</td><td style=\"text-align: right;\">0.00</td><td style=\"text-align: right;\">2</td><td style=\"text-align: right;\">1.69</td><td style=\"text-align: right;\">0</td><td style=\"text-align: right;\">0.00</td><td style=\"text-align: right;\">0</td><td style=\"text-align: right;\">0.00</td></tr>\n",
       "<tr class=\"even\"><td style=\"text-align: right;\">353521</td><td style=\"text-align: right;\">135,989,333</td><td style=\"text-align: right;\">275,298</td><td style=\"text-align: right;\">6</td><td style=\"text-align: right;\">713</td><td style=\"text-align: right;\">0.01</td><td style=\"text-align: right;\">6</td><td style=\"text-align: right;\">1.00</td><td style=\"text-align: right;\">0</td><td style=\"text-align: right;\">0.00</td><td style=\"text-align: right;\">0</td><td style=\"text-align: right;\">0.00</td><td style=\"text-align: right;\">4</td><td style=\"text-align: right;\">4.96</td><td style=\"text-align: right;\">0</td><td style=\"text-align: right;\">0.00</td><td style=\"text-align: right;\">2</td><td style=\"text-align: right;\">1.69</td><td style=\"text-align: right;\">0</td><td style=\"text-align: right;\">0.00</td><td style=\"text-align: right;\">0</td><td style=\"text-align: right;\">0.00</td></tr>\n",
       "<tr><td style=\"text-align: right;\">353358</td><td style=\"text-align: right;\">135,818,487</td><td style=\"text-align: right;\">471,078</td><td style=\"text-align: right;\">8</td><td style=\"text-align: right;\">267</td><td style=\"text-align: right;\">0.02</td><td style=\"text-align: right;\">6</td><td style=\"text-align: right;\">1.00</td><td style=\"text-align: right;\">0</td><td style=\"text-align: right;\">0.00</td><td style=\"text-align: right;\">0</td><td style=\"text-align: right;\">0.00</td><td style=\"text-align: right;\">4</td><td style=\"text-align: right;\">4.96</td><td style=\"text-align: right;\">0</td><td style=\"text-align: right;\">0.00</td><td style=\"text-align: right;\">2</td><td style=\"text-align: right;\">1.69</td><td style=\"text-align: right;\">0</td><td style=\"text-align: right;\">0.00</td><td style=\"text-align: right;\">0</td><td style=\"text-align: right;\">0.00</td></tr>\n",
       "<tr class=\"even\"><td style=\"text-align: right;\">353559</td><td style=\"text-align: right;\">136,028,572</td><td style=\"text-align: right;\">409,893</td><td style=\"text-align: right;\">9</td><td style=\"text-align: right;\">39</td><td style=\"text-align: right;\">0.15</td><td style=\"text-align: right;\">6</td><td style=\"text-align: right;\">1.00</td><td style=\"text-align: right;\">0</td><td style=\"text-align: right;\">0.00</td><td style=\"text-align: right;\">0</td><td style=\"text-align: right;\">0.00</td><td style=\"text-align: right;\">4</td><td style=\"text-align: right;\">4.96</td><td style=\"text-align: right;\">0</td><td style=\"text-align: right;\">0.00</td><td style=\"text-align: right;\">2</td><td style=\"text-align: right;\">1.69</td><td style=\"text-align: right;\">0</td><td style=\"text-align: right;\">0.00</td><td style=\"text-align: right;\">0</td><td style=\"text-align: right;\">0.00</td></tr>\n",
       "</table>"
      ],
      "text/plain": [
       "<IPython.core.display.HTML object>"
      ]
     },
     "execution_count": 20,
     "metadata": {},
     "output_type": "execute_result"
    }
   ],
   "source": [
    "HTML(plt_obj.get_html())"
   ]
  },
  {
   "cell_type": "code",
   "execution_count": 21,
   "metadata": {
    "collapsed": false
   },
   "outputs": [
    {
     "data": {
      "text/html": [
       "\n",
       "\n",
       "    <div class=\"bk-root\">\n",
       "        <div class=\"plotdiv\" id=\"baaac3bf-0a5a-4a7d-b718-fd0dd052f5fa\"></div>\n",
       "    </div>\n",
       "<script type=\"text/javascript\">\n",
       "  \n",
       "  (function(global) {\n",
       "    function now() {\n",
       "      return new Date();\n",
       "    }\n",
       "  \n",
       "    if (typeof (window._bokeh_onload_callbacks) === \"undefined\") {\n",
       "      window._bokeh_onload_callbacks = [];\n",
       "    }\n",
       "  \n",
       "    function run_callbacks() {\n",
       "      window._bokeh_onload_callbacks.forEach(function(callback) { callback() });\n",
       "      delete window._bokeh_onload_callbacks\n",
       "      console.info(\"Bokeh: all callbacks have finished\");\n",
       "    }\n",
       "  \n",
       "    function load_libs(js_urls, callback) {\n",
       "      window._bokeh_onload_callbacks.push(callback);\n",
       "      if (window._bokeh_is_loading > 0) {\n",
       "        console.log(\"Bokeh: BokehJS is being loaded, scheduling callback at\", now());\n",
       "        return null;\n",
       "      }\n",
       "      if (js_urls == null || js_urls.length === 0) {\n",
       "        run_callbacks();\n",
       "        return null;\n",
       "      }\n",
       "      console.log(\"Bokeh: BokehJS not loaded, scheduling load and callback at\", now());\n",
       "      window._bokeh_is_loading = js_urls.length;\n",
       "      for (var i = 0; i < js_urls.length; i++) {\n",
       "        var url = js_urls[i];\n",
       "        var s = document.createElement('script');\n",
       "        s.src = url;\n",
       "        s.async = false;\n",
       "        s.onreadystatechange = s.onload = function() {\n",
       "          window._bokeh_is_loading--;\n",
       "          if (window._bokeh_is_loading === 0) {\n",
       "            console.log(\"Bokeh: all BokehJS libraries loaded\");\n",
       "            run_callbacks()\n",
       "          }\n",
       "        };\n",
       "        s.onerror = function() {\n",
       "          console.warn(\"failed to load library \" + url);\n",
       "        };\n",
       "        console.log(\"Bokeh: injecting script tag for BokehJS library: \", url);\n",
       "        document.getElementsByTagName(\"head\")[0].appendChild(s);\n",
       "      }\n",
       "    };var element = document.getElementById(\"baaac3bf-0a5a-4a7d-b718-fd0dd052f5fa\");\n",
       "    if (element == null) {\n",
       "      console.log(\"Bokeh: ERROR: autoload.js configured with elementid 'baaac3bf-0a5a-4a7d-b718-fd0dd052f5fa' but no matching script tag was found. \")\n",
       "      return false;\n",
       "    }\n",
       "  \n",
       "    var js_urls = [];\n",
       "  \n",
       "    var inline_js = [\n",
       "      function(Bokeh) {\n",
       "        Bokeh.$(function() {\n",
       "            var docs_json = {\"7d442d26-5ab6-4db5-84b3-81fcd57af508\":{\"roots\":{\"references\":[{\"attributes\":{\"line_alpha\":{\"value\":0.1},\"line_color\":{\"value\":\"#1f77b4\"},\"xs\":{\"field\":\"xs\"},\"ys\":{\"field\":\"ys\"}},\"id\":\"25d20482-3306-413b-8876-730dfa28ce0b\",\"type\":\"MultiLine\"},{\"attributes\":{\"bottom\":{\"field\":\"bottom\"},\"fill_alpha\":{\"value\":0.1},\"fill_color\":{\"value\":\"#1f77b4\"},\"left\":{\"field\":\"left\"},\"line_alpha\":{\"value\":0.1},\"line_color\":{\"value\":\"#1f77b4\"},\"right\":{\"field\":\"right\"},\"top\":{\"field\":\"top\"}},\"id\":\"71d524cd-ad78-47c3-99b1-b3693bfe8c92\",\"type\":\"Quad\"},{\"attributes\":{\"level\":\"glyph\",\"plot\":{\"id\":\"d54147e5-1b21-41e2-840e-01d10a64d272\",\"subtype\":\"Figure\",\"type\":\"Plot\"},\"source\":{\"id\":\"05e097b1-1c12-43f9-a7dd-b7331c93852d\",\"type\":\"ColumnDataSource\"},\"text\":{\"field\":\"vals\"},\"text_font_size\":{\"value\":\"9pt\"},\"text_font_style\":\"bold\",\"x\":{\"field\":\"x\"},\"y\":{\"field\":\"y\"}},\"id\":\"9b0d0108-a1b7-41c8-b4cf-395019c22169\",\"type\":\"LabelSet\"},{\"attributes\":{},\"id\":\"03082286-ec48-4b44-a98f-857af055cda1\",\"type\":\"ToolEvents\"},{\"attributes\":{\"level\":\"glyph\",\"plot\":{\"id\":\"d54147e5-1b21-41e2-840e-01d10a64d272\",\"subtype\":\"Figure\",\"type\":\"Plot\"},\"source\":{\"id\":\"76ce3c63-b2d3-46dd-92c1-d8cd4ca687b4\",\"type\":\"ColumnDataSource\"},\"text\":{\"field\":\"vals\"},\"text_align\":\"center\",\"text_baseline\":\"middle\",\"text_font_size\":{\"value\":\"8pt\"},\"x\":{\"field\":\"x\"},\"y\":{\"field\":\"y\"}},\"id\":\"7bd346b1-8553-409d-b7c7-2f946b09ed20\",\"type\":\"LabelSet\"},{\"attributes\":{},\"id\":\"c5c4b6f5-0ae3-4a1b-be7a-9a01a4426325\",\"type\":\"BasicTickFormatter\"},{\"attributes\":{\"bottom\":{\"field\":\"bottom\"},\"fill_alpha\":{\"value\":0.1},\"fill_color\":{\"value\":\"#1f77b4\"},\"left\":{\"field\":\"left\"},\"line_alpha\":{\"value\":0.1},\"line_color\":{\"value\":\"#1f77b4\"},\"right\":{\"field\":\"right\"},\"top\":{\"field\":\"top\"}},\"id\":\"fcdf0bb7-9fa0-45ed-98e5-549050adc363\",\"type\":\"Quad\"},{\"attributes\":{\"formatter\":{\"id\":\"7fbf6a7d-9e93-4254-817e-bd5ae24de33e\",\"type\":\"BasicTickFormatter\"},\"plot\":{\"id\":\"d54147e5-1b21-41e2-840e-01d10a64d272\",\"subtype\":\"Figure\",\"type\":\"Plot\"},\"ticker\":{\"id\":\"f28206b5-29bf-4cd9-9c1c-ff8557bdb28a\",\"type\":\"BasicTicker\"}},\"id\":\"7bcaf455-4cd0-47a9-951b-20df63b582c9\",\"type\":\"LinearAxis\"},{\"attributes\":{\"dimension\":1,\"plot\":{\"id\":\"d54147e5-1b21-41e2-840e-01d10a64d272\",\"subtype\":\"Figure\",\"type\":\"Plot\"},\"ticker\":{\"id\":\"94f0657e-54e6-463a-97a6-13116abd8c7a\",\"type\":\"BasicTicker\"}},\"id\":\"ba0fcaa0-0944-48fc-999a-2499c6fe957f\",\"type\":\"Grid\"},{\"attributes\":{\"data_source\":{\"id\":\"12d3701b-4555-4d7f-a941-1339a98c599a\",\"type\":\"ColumnDataSource\"},\"glyph\":{\"id\":\"22a21e01-6983-4735-9276-cf2cdfba6f7b\",\"type\":\"Quad\"},\"hover_glyph\":null,\"nonselection_glyph\":{\"id\":\"fcdf0bb7-9fa0-45ed-98e5-549050adc363\",\"type\":\"Quad\"},\"selection_glyph\":null},\"id\":\"a4ac8f58-a0e5-414a-b79c-4f6e75dcb26a\",\"type\":\"GlyphRenderer\"},{\"attributes\":{\"callback\":null,\"column_names\":[\"y\",\"x\",\"vals\"],\"data\":{\"vals\":[\"RAB3GAP1\",\"ZRANB3\",\"R3HDM1\",\"UBXN4\",\"LCT\",\"MCM6\",\"DARS\"],\"x\":[135869057.0,136122878.0,136385961.0,136520911.0,136570082.5,136615621.5,136703738.0],\"y\":[660.0,660.0,660.0,660.0,660.0,660.0,660.0]}},\"id\":\"76ce3c63-b2d3-46dd-92c1-d8cd4ca687b4\",\"type\":\"ColumnDataSource\"},{\"attributes\":{\"callback\":null,\"end\":136786630,\"start\":135757320},\"id\":\"91527b9e-0584-45f6-a494-7902e63023d9\",\"type\":\"Range1d\"},{\"attributes\":{\"bottom_units\":\"screen\",\"fill_alpha\":{\"value\":0.5},\"fill_color\":{\"value\":\"lightgrey\"},\"left_units\":\"screen\",\"level\":\"overlay\",\"line_alpha\":{\"value\":1.0},\"line_color\":{\"value\":\"black\"},\"line_dash\":[4,4],\"line_width\":{\"value\":2},\"plot\":null,\"render_mode\":\"css\",\"right_units\":\"screen\",\"top_units\":\"screen\"},\"id\":\"6003b53d-3bdc-46e0-8faf-53e14b680255\",\"type\":\"BoxAnnotation\"},{\"attributes\":{},\"id\":\"7fbf6a7d-9e93-4254-817e-bd5ae24de33e\",\"type\":\"BasicTickFormatter\"},{\"attributes\":{\"plot\":{\"id\":\"d54147e5-1b21-41e2-840e-01d10a64d272\",\"subtype\":\"Figure\",\"type\":\"Plot\"}},\"id\":\"5abe11bf-f04d-4365-8695-0fa25ccf1173\",\"type\":\"PanTool\"},{\"attributes\":{\"formatter\":{\"id\":\"c5c4b6f5-0ae3-4a1b-be7a-9a01a4426325\",\"type\":\"BasicTickFormatter\"},\"plot\":{\"id\":\"d54147e5-1b21-41e2-840e-01d10a64d272\",\"subtype\":\"Figure\",\"type\":\"Plot\"},\"ticker\":{\"id\":\"94f0657e-54e6-463a-97a6-13116abd8c7a\",\"type\":\"BasicTicker\"},\"visible\":null},\"id\":\"b09f9987-e01c-4353-bc4f-aebf05891699\",\"type\":\"LinearAxis\"},{\"attributes\":{\"plot\":{\"id\":\"d54147e5-1b21-41e2-840e-01d10a64d272\",\"subtype\":\"Figure\",\"type\":\"Plot\"}},\"id\":\"2ab0a22a-5289-49cd-9c7f-159f02b1809b\",\"type\":\"WheelZoomTool\"},{\"attributes\":{\"callback\":null,\"column_names\":[\"xs\",\"ys\",\"line_color\"],\"data\":{\"line_color\":[\"black\",\"black\",\"black\",\"black\",\"black\",\"black\",\"black\",\"black\",\"black\",\"black\",\"black\",\"black\",\"black\",\"black\",\"black\",\"black\",\"black\",\"black\",\"black\",\"black\",\"black\",\"black\",\"black\",\"black\",\"black\",\"black\",\"black\",\"black\",\"black\",\"black\",\"black\",\"black\",\"black\",\"black\",\"black\",\"black\",\"black\",\"black\",\"black\",\"black\",\"black\",\"black\",\"black\",\"black\",\"black\",\"black\",\"black\",\"black\",\"black\",\"black\",\"black\",\"black\",\"black\",\"black\",\"black\",\"black\",\"black\",\"black\",\"black\",\"black\",\"black\",\"black\",\"black\",\"black\",\"black\",\"black\",\"black\",\"black\",\"black\",\"black\",\"black\",\"black\",\"black\",\"black\",\"black\",\"black\",\"black\",\"black\",\"black\",\"black\",\"black\",\"black\",\"black\",\"black\",\"black\",\"black\",\"black\",\"black\",\"black\",\"black\",\"black\",\"black\",\"black\",\"black\",\"black\",\"black\",\"black\",\"black\",\"black\",\"black\",\"black\",\"black\",\"black\",\"black\",\"black\",\"black\",\"black\",\"black\",\"black\",\"black\",\"black\",\"black\",\"black\",\"black\",\"black\",\"black\",\"black\",\"black\",\"black\",\"black\",\"black\",\"black\",\"black\",\"black\",\"black\",\"black\",\"black\",\"black\",\"black\",\"black\",\"black\",\"black\",\"black\",\"black\",\"black\",\"black\",\"black\",\"black\",\"black\",\"black\",\"black\",\"black\",\"black\",\"black\",\"black\",\"black\",\"black\",\"black\",\"black\",\"black\",\"black\",\"black\",\"black\",\"black\",\"black\",\"black\",\"black\",\"black\",\"black\",\"black\",\"black\",\"black\",\"black\",\"black\",\"black\",\"black\",\"black\",\"black\",\"black\",\"black\",\"black\",\"black\",\"black\",\"black\",\"black\",\"black\",\"black\",\"black\",\"black\",\"black\",\"black\",\"black\",\"black\",\"black\",\"black\",\"black\",\"black\",\"black\",\"black\",\"black\",\"black\",\"black\",\"black\",\"black\",\"black\",\"black\",\"black\",\"black\",\"black\",\"black\",\"black\",\"black\",\"black\",\"black\",\"black\",\"black\",\"black\",\"black\",\"black\",\"black\",\"black\",\"black\",\"black\",\"black\",\"black\",\"black\",\"black\",\"black\",\"black\",\"black\",\"black\",\"black\",\"black\",\"black\",\"black\",\"black\",\"black\",\"black\",\"black\",\"black\",\"black\",\"black\",\"black\",\"black\",\"black\",\"black\",\"black\",\"black\",\"black\",\"black\",\"black\",\"black\",\"black\",\"black\",\"black\",\"black\",\"black\",\"black\",\"black\",\"black\",\"black\",\"black\",\"black\",\"black\",\"black\",\"black\",\"black\",\"black\",\"black\",\"black\",\"black\",\"black\",\"black\",\"black\",\"black\",\"black\",\"black\",\"black\",\"black\",\"black\",\"black\",\"black\",\"black\",\"black\",\"black\",\"black\",\"black\",\"black\",\"black\",\"black\",\"black\",\"black\"],\"xs\":[[135758231,135758231],[135758520,135758520],[135766072,135766072],[135773420,135773420],[135773446,135773446],[135773617,135773617],[135773692,135773692],[135774681,135774681],[135775049,135775049],[135776430,135776430],[135778656,135778656],[135780168,135780168],[135780587,135780587],[135781301,135781301],[135781522,135781522],[135781635,135781635],[135782456,135782456],[135783157,135783157],[135783366,135783366],[135783367,135783367],[135784227,135784227],[135784733,135784733],[135785066,135785066],[135785068,135785068],[135785149,135785149],[135787148,135787148],[135787642,135787642],[135789405,135789405],[135789472,135789472],[135789682,135789682],[135789784,135789784],[135792338,135792338],[135792528,135792528],[135793565,135793565],[135793684,135793684],[135793845,135793845],[135794367,135794367],[135794986,135794986],[135795040,135795040],[135795095,135795095],[135795150,135795150],[135795385,135795385],[135795396,135795396],[135795443,135795443],[135795595,135795595],[135796000,135796000],[135796155,135796155],[135796410,135796410],[135796965,135796965],[135797223,135797223],[135797747,135797747],[135798082,135798082],[135798758,135798758],[135799082,135799082],[135800085,135800085],[135800601,135800601],[135800757,135800757],[135801228,135801228],[135801956,135801956],[135802020,135802020],[135802028,135802028],[135802050,135802050],[135802148,135802148],[135803766,135803766],[135809241,135809241],[135812969,135812969],[135814716,135814716],[135818907,135818907],[135829432,135829432],[135832131,135832131],[135849613,135849613],[135853807,135853807],[135859923,135859923],[135860305,135860305],[135861497,135861497],[135863143,135863143],[135864294,135864294],[135871624,135871624],[135872646,135872646],[135874038,135874038],[135874622,135874622],[135878814,135878814],[135880013,135880013],[135884487,135884487],[135885357,135885357],[135893853,135893853],[135895809,135895809],[135895879,135895879],[135899069,135899069],[135909462,135909462],[135912977,135912977],[135914038,135914038],[135921839,135921839],[135925002,135925002],[135928312,135928312],[135935049,135935049],[135962711,135962711],[135984172,135984172],[135994753,135994753],[135994754,135994754],[136016079,136016079],[136027264,136027264],[136052004,136052004],[136100473,136100473],[136110129,136110129],[136166536,136166536],[136169799,136169799],[136191314,136191314],[136228887,136228887],[136238453,136238453],[136288273,136288273],[136292425,136292425],[136321951,136321951],[136324564,136324564],[136327299,136327299],[136327302,136327302],[136376515,136376515],[135766890,135766890],[135778708,135778708],[135779588,135779588],[135805941,135805941],[135805943,135805943],[135932720,135932720],[135933317,135933317],[135934842,135934842],[135952376,135952376],[135958853,135958853],[135962864,135962864],[135963304,135963304],[135965376,135965376],[135980201,135980201],[135981554,135981554],[135988127,135988127],[135988416,135988416],[135991470,135991470],[136000500,136000500],[136001215,136001215],[136001295,136001295],[136016514,136016514],[136017388,136017388],[136041102,136041102],[136041662,136041662],[136047387,136047387],[136052936,136052936],[136055275,136055275],[136063118,136063118],[136066802,136066802],[136068890,136068890],[136069577,136069577],[136081193,136081193],[136105193,136105193],[136107839,136107839],[136110835,136110835],[136138026,136138026],[136142092,136142092],[136146499,136146499],[136147607,136147607],[136148401,136148401],[136150512,136150512],[136154734,136154734],[136155805,136155805],[136163001,136163001],[136163266,136163266],[136163568,136163568],[136163821,136163821],[136165965,136165965],[136183312,136183312],[136185945,136185945],[136191729,136191729],[136204827,136204827],[136208747,136208747],[136217980,136217980],[136229438,136229438],[136232572,136232572],[136240942,136240942],[136251329,136251329],[136265187,136265187],[136265188,136265188],[136275985,136275985],[135818487,135818487],[136048649,136048649],[136107286,136107286],[136127914,136127914],[136130497,136130497],[136268096,136268096],[136281880,136281880],[136289565,136289565],[135839805,135839805],[135866750,135866750],[135886744,135886744],[135924467,135924467],[135964764,135964764],[135964765,135964765],[136099127,136099127],[136099650,136099650],[136100705,136100705],[136101132,136101132],[135989333,135989333],[136000304,136000304],[136030519,136030519],[136034836,136034836],[136125165,136125165],[136264631,136264631],[136028572,136028572],[136141525,136141525],[136174478,136174478],[136211744,136211744],[136240608,136240608],[136320031,136320031],[136320040,136320040],[136368926,136368926],[136438465,136438465],[136393658,136393658],[136396300,136396300],[136401843,136401843],[136407445,136407445],[136411879,136411879],[136412270,136412270],[136413244,136413244],[136413847,136413847],[136415217,136415217],[136416533,136416533],[136420726,136420726],[136429857,136429857],[136433740,136433740],[136436317,136436317],[136437615,136437615],[136438517,136438517],[136440300,136440300],[136443900,136443900],[136444185,136444185],[136444338,136444338],[136449254,136449254],[136451676,136451676],[136459227,136459227],[136463117,136463117],[136463454,136463454],[136467119,136467119],[136468238,136468238],[136470219,136470219],[136483355,136483355],[136485276,136485276],[136486340,136486340],[136486342,136486342],[136500475,136500475],[136501509,136501509],[136504101,136504101],[136509868,136509868],[136520043,136520043],[136527120,136527120],[136530379,136530379],[136530443,136530443],[136539330,136539330],[136539670,136539670],[136540083,136540083],[136542559,136542559],[136542560,136542560],[136506375,136506375],[136506927,136506927],[136510012,136510012],[136538939,136538939],[136535876,136535876],[136544651,136544651],[136545844,136545844],[136552526,136552526],[136553022,136553022],[136554797,136554797],[136554890,136554890],[136588031,136588031],[136589278,136589278],[136589379,136589379],[136589741,136589741],[136590746,136590746],[136593553,136593553],[136593678,136593678],[136682274,136682274],[136691825,136691825],[136698098,136698098],[136721603,136721603],[136721995,136721995],[136755684,136755684],[136775898,136775898]],\"ys\":[[550,596],[550,596],[550,596],[550,596],[550,596],[550,596],[550,596],[550,596],[550,596],[550,596],[550,596],[550,596],[550,596],[550,596],[550,596],[550,596],[550,596],[550,596],[550,596],[550,596],[550,596],[550,596],[550,596],[550,596],[550,596],[550,596],[550,596],[550,596],[550,596],[550,596],[550,596],[550,596],[550,596],[550,596],[550,596],[550,596],[550,596],[550,596],[550,596],[550,596],[550,596],[550,596],[550,596],[550,596],[550,596],[550,596],[550,596],[550,596],[550,596],[550,596],[550,596],[550,596],[550,596],[550,596],[550,596],[550,596],[550,596],[550,596],[550,596],[550,596],[550,596],[550,596],[550,596],[550,596],[550,596],[550,596],[550,596],[550,596],[550,596],[550,596],[550,596],[550,596],[550,596],[550,596],[550,596],[550,596],[550,596],[550,596],[550,596],[550,596],[550,596],[550,596],[550,596],[550,596],[550,596],[550,596],[550,596],[550,596],[550,596],[550,596],[550,596],[550,596],[550,596],[550,596],[550,596],[550,596],[550,596],[550,596],[550,596],[550,596],[550,596],[550,596],[550,596],[550,596],[550,596],[550,596],[550,596],[550,596],[550,596],[550,596],[550,596],[550,596],[550,596],[550,596],[550,596],[550,596],[550,596],[450,493],[450,493],[450,493],[450,493],[450,493],[450,493],[450,493],[450,493],[450,493],[450,493],[450,493],[450,493],[450,493],[450,493],[450,493],[450,493],[450,493],[450,493],[450,493],[450,493],[450,493],[450,493],[450,493],[450,493],[450,493],[450,493],[450,493],[450,493],[450,493],[450,493],[450,493],[450,493],[450,493],[450,493],[450,493],[450,493],[450,493],[450,493],[450,493],[450,493],[450,493],[450,493],[450,493],[450,493],[450,493],[450,493],[450,493],[450,493],[450,493],[450,493],[450,493],[450,493],[450,493],[450,493],[450,493],[450,493],[450,493],[450,493],[450,493],[450,493],[450,493],[450,493],[150,180],[150,180],[150,180],[150,180],[150,180],[150,180],[150,180],[150,180],[350,390],[350,390],[350,390],[350,390],[350,391],[350,391],[350,391],[350,391],[350,391],[350,391],[250,288],[250,288],[250,288],[250,288],[250,288],[250,288],[50,63],[50,63],[50,63],[50,63],[50,63],[50,63],[50,63],[50,63],[50,63],[550,594],[550,594],[550,594],[550,594],[550,594],[550,594],[550,594],[550,594],[550,594],[550,594],[550,594],[550,594],[550,594],[550,594],[550,594],[550,594],[550,594],[550,594],[550,594],[550,594],[550,594],[550,594],[550,594],[550,594],[550,594],[550,594],[550,594],[550,594],[550,594],[550,594],[550,594],[550,594],[350,393],[350,393],[350,393],[350,393],[350,393],[350,393],[350,393],[350,393],[350,393],[350,393],[350,393],[350,393],[350,393],[550,594],[550,594],[550,594],[550,594],[450,494],[450,494],[450,494],[450,494],[450,494],[450,494],[450,494],[550,596],[550,596],[550,596],[550,596],[550,596],[550,596],[550,596],[550,597],[550,597],[550,597],[550,597],[550,597],[550,597],[550,597]]}},\"id\":\"38e4d7df-b7a5-45c9-b956-4066526822f4\",\"type\":\"ColumnDataSource\"},{\"attributes\":{\"plot\":null,\"text\":null},\"id\":\"8b7abacc-a7da-4391-a169-739fec9d84b1\",\"type\":\"Title\"},{\"attributes\":{\"overlay\":{\"id\":\"6003b53d-3bdc-46e0-8faf-53e14b680255\",\"type\":\"BoxAnnotation\"},\"plot\":{\"id\":\"d54147e5-1b21-41e2-840e-01d10a64d272\",\"subtype\":\"Figure\",\"type\":\"Plot\"}},\"id\":\"75c4f4b7-1cf4-4d53-a9de-8e111ed5dca9\",\"type\":\"BoxZoomTool\"},{\"attributes\":{\"data_source\":{\"id\":\"38e4d7df-b7a5-45c9-b956-4066526822f4\",\"type\":\"ColumnDataSource\"},\"glyph\":{\"id\":\"abe1f976-9dc1-4344-aadf-853553f17728\",\"type\":\"MultiLine\"},\"hover_glyph\":null,\"nonselection_glyph\":{\"id\":\"25d20482-3306-413b-8876-730dfa28ce0b\",\"type\":\"MultiLine\"},\"selection_glyph\":null},\"id\":\"b8bcacbc-773f-4b29-a5d7-153b2fbf29f7\",\"type\":\"GlyphRenderer\"},{\"attributes\":{\"bottom\":{\"field\":\"bottom\"},\"fill_color\":{\"field\":\"fill_color\"},\"left\":{\"field\":\"left\"},\"line_color\":{\"value\":null},\"right\":{\"field\":\"right\"},\"top\":{\"field\":\"top\"}},\"id\":\"06b6b1aa-b317-41da-8a2d-6d5b091a9ac4\",\"type\":\"Quad\"},{\"attributes\":{\"bottom\":{\"field\":\"bottom\"},\"fill_color\":{\"value\":\"white\"},\"left\":{\"field\":\"left\"},\"right\":{\"field\":\"right\"},\"top\":{\"field\":\"top\"}},\"id\":\"22a21e01-6983-4735-9276-cf2cdfba6f7b\",\"type\":\"Quad\"},{\"attributes\":{\"callback\":null,\"column_names\":[\"y\",\"x\",\"vals\"],\"data\":{\"vals\":[\"117_1685\",\"62_1265\",\"8_267\",\"4_815\",\"6_946\",\"6_713\",\"9_39\",\"32_1361\",\"13_1227\",\"4_1442\",\"7_1303\",\"7_1760\",\"7_1868\"],\"x\":[135758231,135766890,135818487,135839805,135964764,135989333,136028572,136393658,136500475,136506375,136535876,136588031,136682274],\"y\":[601.0,498.0,185.0,395.0,396.0,293.0,68.0,599.0,398.0,599.0,499.0,601.0,602.0]}},\"id\":\"05e097b1-1c12-43f9-a7dd-b7331c93852d\",\"type\":\"ColumnDataSource\"},{\"attributes\":{\"plot\":{\"id\":\"d54147e5-1b21-41e2-840e-01d10a64d272\",\"subtype\":\"Figure\",\"type\":\"Plot\"}},\"id\":\"cf100214-e33b-40dc-b569-cdb6a151c40d\",\"type\":\"HelpTool\"},{\"attributes\":{\"plot\":{\"id\":\"d54147e5-1b21-41e2-840e-01d10a64d272\",\"subtype\":\"Figure\",\"type\":\"Plot\"},\"ticker\":{\"id\":\"f28206b5-29bf-4cd9-9c1c-ff8557bdb28a\",\"type\":\"BasicTicker\"}},\"id\":\"79739fde-8761-4d25-9999-2f993b706d48\",\"type\":\"Grid\"},{\"attributes\":{\"plot\":{\"id\":\"d54147e5-1b21-41e2-840e-01d10a64d272\",\"subtype\":\"Figure\",\"type\":\"Plot\"}},\"id\":\"06347650-c7fd-4635-b30c-a01e760eb4ef\",\"type\":\"SaveTool\"},{\"attributes\":{\"data_source\":{\"id\":\"114b0a15-9848-4eb9-bf23-e53dcd621b79\",\"type\":\"ColumnDataSource\"},\"glyph\":{\"id\":\"06b6b1aa-b317-41da-8a2d-6d5b091a9ac4\",\"type\":\"Quad\"},\"hover_glyph\":null,\"nonselection_glyph\":{\"id\":\"71d524cd-ad78-47c3-99b1-b3693bfe8c92\",\"type\":\"Quad\"},\"selection_glyph\":null},\"id\":\"1352109c-aaf9-4166-8754-f3c5f1b9c43c\",\"type\":\"GlyphRenderer\"},{\"attributes\":{},\"id\":\"f28206b5-29bf-4cd9-9c1c-ff8557bdb28a\",\"type\":\"BasicTicker\"},{\"attributes\":{\"callback\":null,\"column_names\":[\"right\",\"bottom\",\"top\",\"left\"],\"data\":{\"bottom\":[645,645,645,645,645,645,645],\"left\":[135809835,135957574,136289083,136499189,136545415,136597196,136664254],\"right\":[135928279,136288182,136482839,136542633,136594750,136634047,136743222],\"top\":[675,675,675,675,675,675,675]}},\"id\":\"12d3701b-4555-4d7f-a941-1339a98c599a\",\"type\":\"ColumnDataSource\"},{\"attributes\":{\"callback\":null,\"column_names\":[\"right\",\"bottom\",\"top\",\"left\",\"fill_color\"],\"data\":{\"bottom\":[550,450,150,350,350,250,50,550,350,550,450,550,550],\"fill_color\":[\"#808080\",\"#808080\",\"#c461c4\",\"#61c4c4\",\"#61c4c4\",\"#61c4c4\",\"#00ff00\",\"#c4c461\",\"#808080\",\"#808080\",\"#808080\",\"#c46161\",\"#61c461\"],\"left\":[135758231,135766890,135818487,135839805,135964764,135989333,136028572,136393658,136500475,136506375,136535876,136588031,136682274],\"right\":[136376515,136275985,136289565,135924467,136101132,136264631,136438465,136486342,136542560,136538939,136554890,136593678,136775898],\"top\":[596,493,180,390,391,288,63,594,393,594,494,596,597]}},\"id\":\"114b0a15-9848-4eb9-bf23-e53dcd621b79\",\"type\":\"ColumnDataSource\"},{\"attributes\":{\"active_drag\":\"auto\",\"active_scroll\":\"auto\",\"active_tap\":\"auto\",\"tools\":[{\"id\":\"5abe11bf-f04d-4365-8695-0fa25ccf1173\",\"type\":\"PanTool\"},{\"id\":\"2ab0a22a-5289-49cd-9c7f-159f02b1809b\",\"type\":\"WheelZoomTool\"},{\"id\":\"75c4f4b7-1cf4-4d53-a9de-8e111ed5dca9\",\"type\":\"BoxZoomTool\"},{\"id\":\"06347650-c7fd-4635-b30c-a01e760eb4ef\",\"type\":\"SaveTool\"},{\"id\":\"f2b8c04c-dbba-4289-9352-0b729971c64e\",\"type\":\"ResetTool\"},{\"id\":\"cf100214-e33b-40dc-b569-cdb6a151c40d\",\"type\":\"HelpTool\"}]},\"id\":\"cc651b07-fe5e-4ca5-bc09-816618677eed\",\"type\":\"Toolbar\"},{\"attributes\":{\"line_color\":{\"field\":\"line_color\"},\"xs\":{\"field\":\"xs\"},\"ys\":{\"field\":\"ys\"}},\"id\":\"abe1f976-9dc1-4344-aadf-853553f17728\",\"type\":\"MultiLine\"},{\"attributes\":{\"below\":[{\"id\":\"7bcaf455-4cd0-47a9-951b-20df63b582c9\",\"type\":\"LinearAxis\"}],\"left\":[{\"id\":\"b09f9987-e01c-4353-bc4f-aebf05891699\",\"type\":\"LinearAxis\"}],\"plot_height\":700,\"plot_width\":900,\"renderers\":[{\"id\":\"7bcaf455-4cd0-47a9-951b-20df63b582c9\",\"type\":\"LinearAxis\"},{\"id\":\"79739fde-8761-4d25-9999-2f993b706d48\",\"type\":\"Grid\"},{\"id\":\"b09f9987-e01c-4353-bc4f-aebf05891699\",\"type\":\"LinearAxis\"},{\"id\":\"ba0fcaa0-0944-48fc-999a-2499c6fe957f\",\"type\":\"Grid\"},{\"id\":\"6003b53d-3bdc-46e0-8faf-53e14b680255\",\"type\":\"BoxAnnotation\"},{\"id\":\"1352109c-aaf9-4166-8754-f3c5f1b9c43c\",\"type\":\"GlyphRenderer\"},{\"id\":\"b8bcacbc-773f-4b29-a5d7-153b2fbf29f7\",\"type\":\"GlyphRenderer\"},{\"id\":\"9b0d0108-a1b7-41c8-b4cf-395019c22169\",\"type\":\"LabelSet\"},{\"id\":\"a4ac8f58-a0e5-414a-b79c-4f6e75dcb26a\",\"type\":\"GlyphRenderer\"},{\"id\":\"7bd346b1-8553-409d-b7c7-2f946b09ed20\",\"type\":\"LabelSet\"}],\"title\":{\"id\":\"8b7abacc-a7da-4391-a169-739fec9d84b1\",\"type\":\"Title\"},\"tool_events\":{\"id\":\"03082286-ec48-4b44-a98f-857af055cda1\",\"type\":\"ToolEvents\"},\"toolbar\":{\"id\":\"cc651b07-fe5e-4ca5-bc09-816618677eed\",\"type\":\"Toolbar\"},\"toolbar_location\":null,\"x_range\":{\"id\":\"91527b9e-0584-45f6-a494-7902e63023d9\",\"type\":\"Range1d\"},\"y_range\":{\"id\":\"8a597922-adef-4c2b-89c3-18d10f2049b0\",\"type\":\"Range1d\"}},\"id\":\"d54147e5-1b21-41e2-840e-01d10a64d272\",\"subtype\":\"Figure\",\"type\":\"Plot\"},{\"attributes\":{\"plot\":{\"id\":\"d54147e5-1b21-41e2-840e-01d10a64d272\",\"subtype\":\"Figure\",\"type\":\"Plot\"}},\"id\":\"f2b8c04c-dbba-4289-9352-0b729971c64e\",\"type\":\"ResetTool\"},{\"attributes\":{\"callback\":null,\"end\":700},\"id\":\"8a597922-adef-4c2b-89c3-18d10f2049b0\",\"type\":\"Range1d\"},{\"attributes\":{},\"id\":\"94f0657e-54e6-463a-97a6-13116abd8c7a\",\"type\":\"BasicTicker\"}],\"root_ids\":[\"d54147e5-1b21-41e2-840e-01d10a64d272\"]},\"title\":\"Bokeh Application\",\"version\":\"0.12.0\"}};\n",
       "            var render_items = [{\"docid\":\"7d442d26-5ab6-4db5-84b3-81fcd57af508\",\"elementid\":\"baaac3bf-0a5a-4a7d-b718-fd0dd052f5fa\",\"modelid\":\"d54147e5-1b21-41e2-840e-01d10a64d272\",\"notebook_comms_target\":\"64fee58c-46bd-44d5-8507-a341ee8aefd0\"}];\n",
       "            \n",
       "            Bokeh.embed.embed_items(docs_json, render_items);\n",
       "        });\n",
       "      },\n",
       "      function(Bokeh) {\n",
       "      }\n",
       "    ];\n",
       "  \n",
       "    function run_inline_js() {\n",
       "      for (var i = 0; i < inline_js.length; i++) {\n",
       "        inline_js[i](window.Bokeh);\n",
       "      }\n",
       "    }\n",
       "  \n",
       "    if (window._bokeh_is_loading === 0) {\n",
       "      console.log(\"Bokeh: BokehJS loaded, going straight to plotting\");\n",
       "      run_inline_js();\n",
       "    } else {\n",
       "      load_libs(js_urls, function() {\n",
       "        console.log(\"Bokeh: BokehJS plotting callback run at\", now());\n",
       "        run_inline_js();\n",
       "      });\n",
       "    }\n",
       "  }(this));\n",
       "</script>"
      ]
     },
     "metadata": {},
     "output_type": "display_data"
    },
    {
     "data": {
      "text/html": [
       "<p><code>&lt;Bokeh Notebook handle for <strong>In[21]</strong>&gt;</code></p>"
      ],
      "text/plain": [
       "<bokeh.io._CommsHandle at 0x7fa3e9737d50>"
      ]
     },
     "execution_count": 21,
     "metadata": {},
     "output_type": "execute_result"
    }
   ],
   "source": [
    "plt_obj = dm.superset_yes_no([di_9_39, dm.di_4_1442], [dm.di_9_1170, dm.di_81_857], min_match=0.001)\n",
    "plt = plt_obj.do_plot()\n",
    "show(plt)"
   ]
  },
  {
   "cell_type": "code",
   "execution_count": 22,
   "metadata": {
    "collapsed": false
   },
   "outputs": [
    {
     "data": {
      "text/html": [
       "<table>\n",
       "<thead><tr><th style=\"text-align:center\">index</th><th style=\"text-align:center\">first</th><th style=\"text-align:center\">length</th><th style=\"text-align:center\">snps</th><th style=\"text-align:center\" colspan=2>alleles</th><th style=\"text-align:center\" colspan=2>matches</th><th style=\"text-align:center\" colspan=2>afr</th><th style=\"text-align:center\" colspan=2>afx</th><th style=\"text-align:center\" colspan=2>amr</th><th style=\"text-align:center\" colspan=2>eas</th><th style=\"text-align:center\" colspan=2>eur</th><th style=\"text-align:center\" colspan=2>sas</th><th style=\"text-align:center\" colspan=2>sax</th></tr></thead>\n",
       "<tr class=\"even\"><td style=\"text-align: right;\">354170</td><td style=\"text-align: right;\">136,682,274</td><td style=\"text-align: right;\">93,624</td><td style=\"text-align: right;\">7</td><td style=\"text-align: right;\">1868</td><td style=\"text-align: right;\">0.00</td><td style=\"text-align: right;\">2</td><td style=\"text-align: right;\">0.67</td><td style=\"text-align: right;\">0</td><td style=\"text-align: right;\">0.00</td><td style=\"text-align: right;\">0</td><td style=\"text-align: right;\">0.00</td><td style=\"text-align: right;\">0</td><td style=\"text-align: right;\">0.00</td><td style=\"text-align: right;\">0</td><td style=\"text-align: right;\">0.00</td><td style=\"text-align: right;\">2</td><td style=\"text-align: right;\">4.35</td><td style=\"text-align: right;\">0</td><td style=\"text-align: right;\">0.00</td><td style=\"text-align: right;\">0</td><td style=\"text-align: right;\">0.00</td></tr>\n",
       "<tr><td style=\"text-align: right;\">354033</td><td style=\"text-align: right;\">136,588,031</td><td style=\"text-align: right;\">5,647</td><td style=\"text-align: right;\">7</td><td style=\"text-align: right;\">1760</td><td style=\"text-align: right;\">0.00</td><td style=\"text-align: right;\">3</td><td style=\"text-align: right;\">1.00</td><td style=\"text-align: right;\">0</td><td style=\"text-align: right;\">0.00</td><td style=\"text-align: right;\">0</td><td style=\"text-align: right;\">0.00</td><td style=\"text-align: right;\">0</td><td style=\"text-align: right;\">0.00</td><td style=\"text-align: right;\">0</td><td style=\"text-align: right;\">0.00</td><td style=\"text-align: right;\">3</td><td style=\"text-align: right;\">4.35</td><td style=\"text-align: right;\">0</td><td style=\"text-align: right;\">0.00</td><td style=\"text-align: right;\">0</td><td style=\"text-align: right;\">0.00</td></tr>\n",
       "<tr class=\"even\"><td style=\"text-align: right;\">353244</td><td style=\"text-align: right;\">135,758,231</td><td style=\"text-align: right;\">618,284</td><td style=\"text-align: right;\">117</td><td style=\"text-align: right;\">1685</td><td style=\"text-align: right;\">0.00</td><td style=\"text-align: right;\">3</td><td style=\"text-align: right;\">1.00</td><td style=\"text-align: right;\">0</td><td style=\"text-align: right;\">0.00</td><td style=\"text-align: right;\">0</td><td style=\"text-align: right;\">0.00</td><td style=\"text-align: right;\">0</td><td style=\"text-align: right;\">0.00</td><td style=\"text-align: right;\">0</td><td style=\"text-align: right;\">0.00</td><td style=\"text-align: right;\">3</td><td style=\"text-align: right;\">4.35</td><td style=\"text-align: right;\">0</td><td style=\"text-align: right;\">0.00</td><td style=\"text-align: right;\">0</td><td style=\"text-align: right;\">0.00</td></tr>\n",
       "<tr><td style=\"text-align: right;\">353925</td><td style=\"text-align: right;\">136,506,375</td><td style=\"text-align: right;\">32,564</td><td style=\"text-align: right;\">4</td><td style=\"text-align: right;\">1442</td><td style=\"text-align: right;\">0.00</td><td style=\"text-align: right;\">3</td><td style=\"text-align: right;\">1.00</td><td style=\"text-align: right;\">0</td><td style=\"text-align: right;\">0.00</td><td style=\"text-align: right;\">0</td><td style=\"text-align: right;\">0.00</td><td style=\"text-align: right;\">0</td><td style=\"text-align: right;\">0.00</td><td style=\"text-align: right;\">0</td><td style=\"text-align: right;\">0.00</td><td style=\"text-align: right;\">3</td><td style=\"text-align: right;\">4.35</td><td style=\"text-align: right;\">0</td><td style=\"text-align: right;\">0.00</td><td style=\"text-align: right;\">0</td><td style=\"text-align: right;\">0.00</td></tr>\n",
       "<tr class=\"even\"><td style=\"text-align: right;\">353791</td><td style=\"text-align: right;\">136,393,658</td><td style=\"text-align: right;\">92,684</td><td style=\"text-align: right;\">32</td><td style=\"text-align: right;\">1361</td><td style=\"text-align: right;\">0.00</td><td style=\"text-align: right;\">3</td><td style=\"text-align: right;\">1.00</td><td style=\"text-align: right;\">0</td><td style=\"text-align: right;\">0.00</td><td style=\"text-align: right;\">0</td><td style=\"text-align: right;\">0.00</td><td style=\"text-align: right;\">0</td><td style=\"text-align: right;\">0.00</td><td style=\"text-align: right;\">0</td><td style=\"text-align: right;\">0.00</td><td style=\"text-align: right;\">3</td><td style=\"text-align: right;\">4.35</td><td style=\"text-align: right;\">0</td><td style=\"text-align: right;\">0.00</td><td style=\"text-align: right;\">0</td><td style=\"text-align: right;\">0.00</td></tr>\n",
       "<tr><td style=\"text-align: right;\">353958</td><td style=\"text-align: right;\">136,535,876</td><td style=\"text-align: right;\">19,014</td><td style=\"text-align: right;\">7</td><td style=\"text-align: right;\">1303</td><td style=\"text-align: right;\">0.00</td><td style=\"text-align: right;\">3</td><td style=\"text-align: right;\">1.00</td><td style=\"text-align: right;\">0</td><td style=\"text-align: right;\">0.00</td><td style=\"text-align: right;\">0</td><td style=\"text-align: right;\">0.00</td><td style=\"text-align: right;\">0</td><td style=\"text-align: right;\">0.00</td><td style=\"text-align: right;\">0</td><td style=\"text-align: right;\">0.00</td><td style=\"text-align: right;\">3</td><td style=\"text-align: right;\">4.35</td><td style=\"text-align: right;\">0</td><td style=\"text-align: right;\">0.00</td><td style=\"text-align: right;\">0</td><td style=\"text-align: right;\">0.00</td></tr>\n",
       "<tr class=\"even\"><td style=\"text-align: right;\">353269</td><td style=\"text-align: right;\">135,766,890</td><td style=\"text-align: right;\">509,095</td><td style=\"text-align: right;\">62</td><td style=\"text-align: right;\">1265</td><td style=\"text-align: right;\">0.00</td><td style=\"text-align: right;\">3</td><td style=\"text-align: right;\">1.00</td><td style=\"text-align: right;\">0</td><td style=\"text-align: right;\">0.00</td><td style=\"text-align: right;\">0</td><td style=\"text-align: right;\">0.00</td><td style=\"text-align: right;\">0</td><td style=\"text-align: right;\">0.00</td><td style=\"text-align: right;\">0</td><td style=\"text-align: right;\">0.00</td><td style=\"text-align: right;\">3</td><td style=\"text-align: right;\">4.35</td><td style=\"text-align: right;\">0</td><td style=\"text-align: right;\">0.00</td><td style=\"text-align: right;\">0</td><td style=\"text-align: right;\">0.00</td></tr>\n",
       "<tr><td style=\"text-align: right;\">353919</td><td style=\"text-align: right;\">136,500,475</td><td style=\"text-align: right;\">42,085</td><td style=\"text-align: right;\">13</td><td style=\"text-align: right;\">1227</td><td style=\"text-align: right;\">0.00</td><td style=\"text-align: right;\">3</td><td style=\"text-align: right;\">1.00</td><td style=\"text-align: right;\">0</td><td style=\"text-align: right;\">0.00</td><td style=\"text-align: right;\">0</td><td style=\"text-align: right;\">0.00</td><td style=\"text-align: right;\">0</td><td style=\"text-align: right;\">0.00</td><td style=\"text-align: right;\">0</td><td style=\"text-align: right;\">0.00</td><td style=\"text-align: right;\">3</td><td style=\"text-align: right;\">4.35</td><td style=\"text-align: right;\">0</td><td style=\"text-align: right;\">0.00</td><td style=\"text-align: right;\">0</td><td style=\"text-align: right;\">0.00</td></tr>\n",
       "<tr class=\"even\"><td style=\"text-align: right;\">353504</td><td style=\"text-align: right;\">135,964,764</td><td style=\"text-align: right;\">136,368</td><td style=\"text-align: right;\">6</td><td style=\"text-align: right;\">946</td><td style=\"text-align: right;\">0.00</td><td style=\"text-align: right;\">3</td><td style=\"text-align: right;\">1.00</td><td style=\"text-align: right;\">0</td><td style=\"text-align: right;\">0.00</td><td style=\"text-align: right;\">0</td><td style=\"text-align: right;\">0.00</td><td style=\"text-align: right;\">0</td><td style=\"text-align: right;\">0.00</td><td style=\"text-align: right;\">0</td><td style=\"text-align: right;\">0.00</td><td style=\"text-align: right;\">3</td><td style=\"text-align: right;\">4.35</td><td style=\"text-align: right;\">0</td><td style=\"text-align: right;\">0.00</td><td style=\"text-align: right;\">0</td><td style=\"text-align: right;\">0.00</td></tr>\n",
       "<tr><td style=\"text-align: right;\">353384</td><td style=\"text-align: right;\">135,839,805</td><td style=\"text-align: right;\">84,662</td><td style=\"text-align: right;\">4</td><td style=\"text-align: right;\">815</td><td style=\"text-align: right;\">0.00</td><td style=\"text-align: right;\">3</td><td style=\"text-align: right;\">1.00</td><td style=\"text-align: right;\">0</td><td style=\"text-align: right;\">0.00</td><td style=\"text-align: right;\">0</td><td style=\"text-align: right;\">0.00</td><td style=\"text-align: right;\">0</td><td style=\"text-align: right;\">0.00</td><td style=\"text-align: right;\">0</td><td style=\"text-align: right;\">0.00</td><td style=\"text-align: right;\">3</td><td style=\"text-align: right;\">4.35</td><td style=\"text-align: right;\">0</td><td style=\"text-align: right;\">0.00</td><td style=\"text-align: right;\">0</td><td style=\"text-align: right;\">0.00</td></tr>\n",
       "<tr class=\"even\"><td style=\"text-align: right;\">353521</td><td style=\"text-align: right;\">135,989,333</td><td style=\"text-align: right;\">275,298</td><td style=\"text-align: right;\">6</td><td style=\"text-align: right;\">713</td><td style=\"text-align: right;\">0.00</td><td style=\"text-align: right;\">3</td><td style=\"text-align: right;\">1.00</td><td style=\"text-align: right;\">0</td><td style=\"text-align: right;\">0.00</td><td style=\"text-align: right;\">0</td><td style=\"text-align: right;\">0.00</td><td style=\"text-align: right;\">0</td><td style=\"text-align: right;\">0.00</td><td style=\"text-align: right;\">0</td><td style=\"text-align: right;\">0.00</td><td style=\"text-align: right;\">3</td><td style=\"text-align: right;\">4.35</td><td style=\"text-align: right;\">0</td><td style=\"text-align: right;\">0.00</td><td style=\"text-align: right;\">0</td><td style=\"text-align: right;\">0.00</td></tr>\n",
       "<tr><td style=\"text-align: right;\">353358</td><td style=\"text-align: right;\">135,818,487</td><td style=\"text-align: right;\">471,078</td><td style=\"text-align: right;\">8</td><td style=\"text-align: right;\">267</td><td style=\"text-align: right;\">0.01</td><td style=\"text-align: right;\">3</td><td style=\"text-align: right;\">1.00</td><td style=\"text-align: right;\">0</td><td style=\"text-align: right;\">0.00</td><td style=\"text-align: right;\">0</td><td style=\"text-align: right;\">0.00</td><td style=\"text-align: right;\">0</td><td style=\"text-align: right;\">0.00</td><td style=\"text-align: right;\">0</td><td style=\"text-align: right;\">0.00</td><td style=\"text-align: right;\">3</td><td style=\"text-align: right;\">4.35</td><td style=\"text-align: right;\">0</td><td style=\"text-align: right;\">0.00</td><td style=\"text-align: right;\">0</td><td style=\"text-align: right;\">0.00</td></tr>\n",
       "<tr class=\"even\"><td style=\"text-align: right;\">353559</td><td style=\"text-align: right;\">136,028,572</td><td style=\"text-align: right;\">409,893</td><td style=\"text-align: right;\">9</td><td style=\"text-align: right;\">39</td><td style=\"text-align: right;\">0.08</td><td style=\"text-align: right;\">3</td><td style=\"text-align: right;\">1.00</td><td style=\"text-align: right;\">0</td><td style=\"text-align: right;\">0.00</td><td style=\"text-align: right;\">0</td><td style=\"text-align: right;\">0.00</td><td style=\"text-align: right;\">0</td><td style=\"text-align: right;\">0.00</td><td style=\"text-align: right;\">0</td><td style=\"text-align: right;\">0.00</td><td style=\"text-align: right;\">3</td><td style=\"text-align: right;\">4.35</td><td style=\"text-align: right;\">0</td><td style=\"text-align: right;\">0.00</td><td style=\"text-align: right;\">0</td><td style=\"text-align: right;\">0.00</td></tr>\n",
       "</table>"
      ],
      "text/plain": [
       "<IPython.core.display.HTML object>"
      ]
     },
     "execution_count": 22,
     "metadata": {},
     "output_type": "execute_result"
    }
   ],
   "source": [
    "HTML(plt_obj.get_html())"
   ]
  },
  {
   "cell_type": "code",
   "execution_count": 23,
   "metadata": {
    "collapsed": false
   },
   "outputs": [
    {
     "data": {
      "text/html": [
       "\n",
       "\n",
       "    <div class=\"bk-root\">\n",
       "        <div class=\"plotdiv\" id=\"495e7ee0-e6f3-4e64-80ac-219c10ae8ad8\"></div>\n",
       "    </div>\n",
       "<script type=\"text/javascript\">\n",
       "  \n",
       "  (function(global) {\n",
       "    function now() {\n",
       "      return new Date();\n",
       "    }\n",
       "  \n",
       "    if (typeof (window._bokeh_onload_callbacks) === \"undefined\") {\n",
       "      window._bokeh_onload_callbacks = [];\n",
       "    }\n",
       "  \n",
       "    function run_callbacks() {\n",
       "      window._bokeh_onload_callbacks.forEach(function(callback) { callback() });\n",
       "      delete window._bokeh_onload_callbacks\n",
       "      console.info(\"Bokeh: all callbacks have finished\");\n",
       "    }\n",
       "  \n",
       "    function load_libs(js_urls, callback) {\n",
       "      window._bokeh_onload_callbacks.push(callback);\n",
       "      if (window._bokeh_is_loading > 0) {\n",
       "        console.log(\"Bokeh: BokehJS is being loaded, scheduling callback at\", now());\n",
       "        return null;\n",
       "      }\n",
       "      if (js_urls == null || js_urls.length === 0) {\n",
       "        run_callbacks();\n",
       "        return null;\n",
       "      }\n",
       "      console.log(\"Bokeh: BokehJS not loaded, scheduling load and callback at\", now());\n",
       "      window._bokeh_is_loading = js_urls.length;\n",
       "      for (var i = 0; i < js_urls.length; i++) {\n",
       "        var url = js_urls[i];\n",
       "        var s = document.createElement('script');\n",
       "        s.src = url;\n",
       "        s.async = false;\n",
       "        s.onreadystatechange = s.onload = function() {\n",
       "          window._bokeh_is_loading--;\n",
       "          if (window._bokeh_is_loading === 0) {\n",
       "            console.log(\"Bokeh: all BokehJS libraries loaded\");\n",
       "            run_callbacks()\n",
       "          }\n",
       "        };\n",
       "        s.onerror = function() {\n",
       "          console.warn(\"failed to load library \" + url);\n",
       "        };\n",
       "        console.log(\"Bokeh: injecting script tag for BokehJS library: \", url);\n",
       "        document.getElementsByTagName(\"head\")[0].appendChild(s);\n",
       "      }\n",
       "    };var element = document.getElementById(\"495e7ee0-e6f3-4e64-80ac-219c10ae8ad8\");\n",
       "    if (element == null) {\n",
       "      console.log(\"Bokeh: ERROR: autoload.js configured with elementid '495e7ee0-e6f3-4e64-80ac-219c10ae8ad8' but no matching script tag was found. \")\n",
       "      return false;\n",
       "    }\n",
       "  \n",
       "    var js_urls = [];\n",
       "  \n",
       "    var inline_js = [\n",
       "      function(Bokeh) {\n",
       "        Bokeh.$(function() {\n",
       "            var docs_json = {\"a6b79df7-d44f-41c3-ab32-28c5ce254ba3\":{\"roots\":{\"references\":[{\"attributes\":{\"formatter\":{\"id\":\"28212a40-f116-40c5-ba14-e02f81370298\",\"type\":\"BasicTickFormatter\"},\"plot\":{\"id\":\"1603ae43-7129-43e9-abf6-04ed4cc080f1\",\"subtype\":\"Figure\",\"type\":\"Plot\"},\"ticker\":{\"id\":\"dedb81c9-d2af-47d3-b496-40cd7e8ae1dd\",\"type\":\"BasicTicker\"}},\"id\":\"639d5d02-0a5b-4063-b06c-7827e3262f10\",\"type\":\"LinearAxis\"},{\"attributes\":{\"level\":\"glyph\",\"plot\":{\"id\":\"1603ae43-7129-43e9-abf6-04ed4cc080f1\",\"subtype\":\"Figure\",\"type\":\"Plot\"},\"source\":{\"id\":\"35504e6d-377a-4475-ae5c-49ae422d6bd6\",\"type\":\"ColumnDataSource\"},\"text\":{\"field\":\"vals\"},\"text_font_size\":{\"value\":\"9pt\"},\"text_font_style\":\"bold\",\"x\":{\"field\":\"x\"},\"y\":{\"field\":\"y\"}},\"id\":\"f5ba612d-d4cc-4439-a150-b603fefd17a6\",\"type\":\"LabelSet\"},{\"attributes\":{\"bottom\":{\"field\":\"bottom\"},\"fill_alpha\":{\"value\":0.1},\"fill_color\":{\"value\":\"#1f77b4\"},\"left\":{\"field\":\"left\"},\"line_alpha\":{\"value\":0.1},\"line_color\":{\"value\":\"#1f77b4\"},\"right\":{\"field\":\"right\"},\"top\":{\"field\":\"top\"}},\"id\":\"c1c663ed-5ba0-49ce-8ada-b8349cb12d5c\",\"type\":\"Quad\"},{\"attributes\":{\"active_drag\":\"auto\",\"active_scroll\":\"auto\",\"active_tap\":\"auto\",\"tools\":[{\"id\":\"877749ec-1698-4a6b-afdd-5f289ab9917c\",\"type\":\"PanTool\"},{\"id\":\"8c3e84a2-19de-445c-b12f-b7fd8516830b\",\"type\":\"WheelZoomTool\"},{\"id\":\"97bf8b3c-7640-454e-bdf2-93305bf9eeb0\",\"type\":\"BoxZoomTool\"},{\"id\":\"ab61fa62-a0a3-4d45-98ae-c1e71a3cdc5b\",\"type\":\"SaveTool\"},{\"id\":\"886169c2-6ddd-41b0-a563-c5887187f30d\",\"type\":\"ResetTool\"},{\"id\":\"f191d9bd-668c-47ad-9fdd-b9681f609b02\",\"type\":\"HelpTool\"}]},\"id\":\"ab646e73-2e33-40f4-ae54-d5bbb270a109\",\"type\":\"Toolbar\"},{\"attributes\":{\"formatter\":{\"id\":\"14cee0d3-06c3-478e-b021-6a2410569705\",\"type\":\"BasicTickFormatter\"},\"plot\":{\"id\":\"1603ae43-7129-43e9-abf6-04ed4cc080f1\",\"subtype\":\"Figure\",\"type\":\"Plot\"},\"ticker\":{\"id\":\"3207a1c9-3454-4481-8b05-458b03d308c4\",\"type\":\"BasicTicker\"},\"visible\":null},\"id\":\"b77e0ad5-2370-4305-82e9-b8b24955c4a8\",\"type\":\"LinearAxis\"},{\"attributes\":{\"plot\":{\"id\":\"1603ae43-7129-43e9-abf6-04ed4cc080f1\",\"subtype\":\"Figure\",\"type\":\"Plot\"}},\"id\":\"886169c2-6ddd-41b0-a563-c5887187f30d\",\"type\":\"ResetTool\"},{\"attributes\":{\"callback\":null,\"column_names\":[\"right\",\"bottom\",\"top\",\"left\"],\"data\":{\"bottom\":[745,745,745,745,745,745,745],\"left\":[135809835,135957574,136289083,136499189,136545415,136597196,136664254],\"right\":[135928279,136288182,136482839,136542633,136594750,136634047,136743222],\"top\":[775,775,775,775,775,775,775]}},\"id\":\"d09e46b0-11bf-4df7-abc9-bc129521d426\",\"type\":\"ColumnDataSource\"},{\"attributes\":{\"plot\":null,\"text\":null},\"id\":\"e4889dd6-bd6b-4642-a319-5d548023222f\",\"type\":\"Title\"},{\"attributes\":{\"data_source\":{\"id\":\"d09e46b0-11bf-4df7-abc9-bc129521d426\",\"type\":\"ColumnDataSource\"},\"glyph\":{\"id\":\"0ebebab8-5385-4c3f-b67f-db2208a9b7fd\",\"type\":\"Quad\"},\"hover_glyph\":null,\"nonselection_glyph\":{\"id\":\"ca963559-4a46-4ebd-bb08-b4794864ce6b\",\"type\":\"Quad\"},\"selection_glyph\":null},\"id\":\"d757ddfd-964a-48a2-8290-07bc5c303fe4\",\"type\":\"GlyphRenderer\"},{\"attributes\":{\"callback\":null,\"end\":800},\"id\":\"c901bc23-d439-4a9e-9ffd-7f1e4f79974a\",\"type\":\"Range1d\"},{\"attributes\":{\"overlay\":{\"id\":\"fa574cd4-eeed-4650-8bb1-223df71a0f85\",\"type\":\"BoxAnnotation\"},\"plot\":{\"id\":\"1603ae43-7129-43e9-abf6-04ed4cc080f1\",\"subtype\":\"Figure\",\"type\":\"Plot\"}},\"id\":\"97bf8b3c-7640-454e-bdf2-93305bf9eeb0\",\"type\":\"BoxZoomTool\"},{\"attributes\":{\"line_alpha\":{\"value\":0.1},\"line_color\":{\"value\":\"#1f77b4\"},\"xs\":{\"field\":\"xs\"},\"ys\":{\"field\":\"ys\"}},\"id\":\"5fd3ddad-8ef2-4b7c-b87d-2008ea488569\",\"type\":\"MultiLine\"},{\"attributes\":{\"plot\":{\"id\":\"1603ae43-7129-43e9-abf6-04ed4cc080f1\",\"subtype\":\"Figure\",\"type\":\"Plot\"}},\"id\":\"ab61fa62-a0a3-4d45-98ae-c1e71a3cdc5b\",\"type\":\"SaveTool\"},{\"attributes\":{\"callback\":null,\"column_names\":[\"right\",\"bottom\",\"top\",\"left\",\"fill_color\"],\"data\":{\"bottom\":[550,450,150,350,350,250,50,550,550,650,650],\"fill_color\":[\"#808080\",\"#808080\",\"#c461c4\",\"#61c4c4\",\"#61c4c4\",\"#61c4c4\",\"#00ff00\",\"#c4c461\",\"#61c461\",\"#808080\",\"#61c461\"],\"left\":[135758231,135766890,135818487,135839805,135964764,135989333,136028572,136393658,136494186,136501840,136682274],\"right\":[136376515,136275985,136289565,135924467,136101132,136264631,136438465,136486342,136765951,136555659,136775898],\"top\":[596,493,180,390,391,288,63,594,595,698,697]}},\"id\":\"39963bb0-fee8-46bf-9e85-66c9c15a0e6a\",\"type\":\"ColumnDataSource\"},{\"attributes\":{},\"id\":\"c506a9ad-b36a-4c00-9e53-b34825effce1\",\"type\":\"ToolEvents\"},{\"attributes\":{\"level\":\"glyph\",\"plot\":{\"id\":\"1603ae43-7129-43e9-abf6-04ed4cc080f1\",\"subtype\":\"Figure\",\"type\":\"Plot\"},\"source\":{\"id\":\"ad524d33-d206-4f6b-9d60-13aeed80d36a\",\"type\":\"ColumnDataSource\"},\"text\":{\"field\":\"vals\"},\"text_align\":\"center\",\"text_baseline\":\"middle\",\"text_font_size\":{\"value\":\"8pt\"},\"x\":{\"field\":\"x\"},\"y\":{\"field\":\"y\"}},\"id\":\"f1c32b4a-0f9d-4baa-8fe8-a87179e16e1c\",\"type\":\"LabelSet\"},{\"attributes\":{\"callback\":null,\"column_names\":[\"xs\",\"ys\",\"line_color\"],\"data\":{\"line_color\":[\"black\",\"black\",\"black\",\"black\",\"black\",\"black\",\"black\",\"black\",\"black\",\"black\",\"black\",\"black\",\"black\",\"black\",\"black\",\"black\",\"black\",\"black\",\"black\",\"black\",\"black\",\"black\",\"black\",\"black\",\"black\",\"black\",\"black\",\"black\",\"black\",\"black\",\"black\",\"black\",\"black\",\"black\",\"black\",\"black\",\"black\",\"black\",\"black\",\"black\",\"black\",\"black\",\"black\",\"black\",\"black\",\"black\",\"black\",\"black\",\"black\",\"black\",\"black\",\"black\",\"black\",\"black\",\"black\",\"black\",\"black\",\"black\",\"black\",\"black\",\"black\",\"black\",\"black\",\"black\",\"black\",\"black\",\"black\",\"black\",\"black\",\"black\",\"black\",\"black\",\"black\",\"black\",\"black\",\"black\",\"black\",\"black\",\"black\",\"black\",\"black\",\"black\",\"black\",\"black\",\"black\",\"black\",\"black\",\"black\",\"black\",\"black\",\"black\",\"black\",\"black\",\"black\",\"black\",\"black\",\"black\",\"black\",\"black\",\"black\",\"black\",\"black\",\"black\",\"black\",\"black\",\"black\",\"black\",\"black\",\"black\",\"black\",\"black\",\"black\",\"black\",\"black\",\"black\",\"black\",\"black\",\"black\",\"black\",\"black\",\"black\",\"black\",\"black\",\"black\",\"black\",\"black\",\"black\",\"black\",\"black\",\"black\",\"black\",\"black\",\"black\",\"black\",\"black\",\"black\",\"black\",\"black\",\"black\",\"black\",\"black\",\"black\",\"black\",\"black\",\"black\",\"black\",\"black\",\"black\",\"black\",\"black\",\"black\",\"black\",\"black\",\"black\",\"black\",\"black\",\"black\",\"black\",\"black\",\"black\",\"black\",\"black\",\"black\",\"black\",\"black\",\"black\",\"black\",\"black\",\"black\",\"black\",\"black\",\"black\",\"black\",\"black\",\"black\",\"black\",\"black\",\"black\",\"black\",\"black\",\"black\",\"black\",\"black\",\"black\",\"black\",\"black\",\"black\",\"black\",\"black\",\"black\",\"black\",\"black\",\"black\",\"black\",\"black\",\"black\",\"black\",\"black\",\"black\",\"black\",\"black\",\"black\",\"black\",\"black\",\"black\",\"black\",\"black\",\"black\",\"black\",\"black\",\"black\",\"black\",\"black\",\"black\",\"black\",\"black\",\"black\",\"black\",\"black\",\"black\",\"black\",\"black\",\"black\",\"black\",\"black\",\"black\",\"black\",\"black\",\"black\",\"black\",\"black\",\"black\",\"black\",\"black\",\"black\",\"black\",\"black\",\"black\",\"black\",\"black\",\"black\",\"black\",\"black\",\"black\",\"black\",\"black\",\"black\",\"black\",\"black\",\"black\",\"black\",\"black\",\"black\",\"black\",\"black\",\"black\",\"black\",\"black\",\"black\",\"black\",\"black\",\"black\",\"black\",\"black\",\"black\",\"black\",\"black\",\"black\",\"black\",\"black\",\"black\",\"black\",\"black\",\"black\",\"black\",\"black\",\"black\",\"black\",\"black\",\"black\",\"black\",\"black\",\"black\",\"black\",\"black\",\"black\",\"black\",\"black\",\"black\",\"black\",\"black\",\"black\",\"black\",\"black\",\"black\",\"black\",\"black\",\"black\",\"black\",\"black\",\"black\",\"black\",\"black\",\"black\",\"black\",\"black\",\"black\",\"black\",\"black\",\"black\",\"black\",\"black\",\"black\",\"black\",\"black\",\"black\",\"black\",\"black\",\"black\",\"black\",\"black\",\"black\",\"black\",\"black\",\"black\"],\"xs\":[[135758231,135758231],[135758520,135758520],[135766072,135766072],[135773420,135773420],[135773446,135773446],[135773617,135773617],[135773692,135773692],[135774681,135774681],[135775049,135775049],[135776430,135776430],[135778656,135778656],[135780168,135780168],[135780587,135780587],[135781301,135781301],[135781522,135781522],[135781635,135781635],[135782456,135782456],[135783157,135783157],[135783366,135783366],[135783367,135783367],[135784227,135784227],[135784733,135784733],[135785066,135785066],[135785068,135785068],[135785149,135785149],[135787148,135787148],[135787642,135787642],[135789405,135789405],[135789472,135789472],[135789682,135789682],[135789784,135789784],[135792338,135792338],[135792528,135792528],[135793565,135793565],[135793684,135793684],[135793845,135793845],[135794367,135794367],[135794986,135794986],[135795040,135795040],[135795095,135795095],[135795150,135795150],[135795385,135795385],[135795396,135795396],[135795443,135795443],[135795595,135795595],[135796000,135796000],[135796155,135796155],[135796410,135796410],[135796965,135796965],[135797223,135797223],[135797747,135797747],[135798082,135798082],[135798758,135798758],[135799082,135799082],[135800085,135800085],[135800601,135800601],[135800757,135800757],[135801228,135801228],[135801956,135801956],[135802020,135802020],[135802028,135802028],[135802050,135802050],[135802148,135802148],[135803766,135803766],[135809241,135809241],[135812969,135812969],[135814716,135814716],[135818907,135818907],[135829432,135829432],[135832131,135832131],[135849613,135849613],[135853807,135853807],[135859923,135859923],[135860305,135860305],[135861497,135861497],[135863143,135863143],[135864294,135864294],[135871624,135871624],[135872646,135872646],[135874038,135874038],[135874622,135874622],[135878814,135878814],[135880013,135880013],[135884487,135884487],[135885357,135885357],[135893853,135893853],[135895809,135895809],[135895879,135895879],[135899069,135899069],[135909462,135909462],[135912977,135912977],[135914038,135914038],[135921839,135921839],[135925002,135925002],[135928312,135928312],[135935049,135935049],[135962711,135962711],[135984172,135984172],[135994753,135994753],[135994754,135994754],[136016079,136016079],[136027264,136027264],[136052004,136052004],[136100473,136100473],[136110129,136110129],[136166536,136166536],[136169799,136169799],[136191314,136191314],[136228887,136228887],[136238453,136238453],[136288273,136288273],[136292425,136292425],[136321951,136321951],[136324564,136324564],[136327299,136327299],[136327302,136327302],[136376515,136376515],[135766890,135766890],[135778708,135778708],[135779588,135779588],[135805941,135805941],[135805943,135805943],[135932720,135932720],[135933317,135933317],[135934842,135934842],[135952376,135952376],[135958853,135958853],[135962864,135962864],[135963304,135963304],[135965376,135965376],[135980201,135980201],[135981554,135981554],[135988127,135988127],[135988416,135988416],[135991470,135991470],[136000500,136000500],[136001215,136001215],[136001295,136001295],[136016514,136016514],[136017388,136017388],[136041102,136041102],[136041662,136041662],[136047387,136047387],[136052936,136052936],[136055275,136055275],[136063118,136063118],[136066802,136066802],[136068890,136068890],[136069577,136069577],[136081193,136081193],[136105193,136105193],[136107839,136107839],[136110835,136110835],[136138026,136138026],[136142092,136142092],[136146499,136146499],[136147607,136147607],[136148401,136148401],[136150512,136150512],[136154734,136154734],[136155805,136155805],[136163001,136163001],[136163266,136163266],[136163568,136163568],[136163821,136163821],[136165965,136165965],[136183312,136183312],[136185945,136185945],[136191729,136191729],[136204827,136204827],[136208747,136208747],[136217980,136217980],[136229438,136229438],[136232572,136232572],[136240942,136240942],[136251329,136251329],[136265187,136265187],[136265188,136265188],[136275985,136275985],[135818487,135818487],[136048649,136048649],[136107286,136107286],[136127914,136127914],[136130497,136130497],[136268096,136268096],[136281880,136281880],[136289565,136289565],[135839805,135839805],[135866750,135866750],[135886744,135886744],[135924467,135924467],[135964764,135964764],[135964765,135964765],[136099127,136099127],[136099650,136099650],[136100705,136100705],[136101132,136101132],[135989333,135989333],[136000304,136000304],[136030519,136030519],[136034836,136034836],[136125165,136125165],[136264631,136264631],[136028572,136028572],[136141525,136141525],[136174478,136174478],[136211744,136211744],[136240608,136240608],[136320031,136320031],[136320040,136320040],[136368926,136368926],[136438465,136438465],[136393658,136393658],[136396300,136396300],[136401843,136401843],[136407445,136407445],[136411879,136411879],[136412270,136412270],[136413244,136413244],[136413847,136413847],[136415217,136415217],[136416533,136416533],[136420726,136420726],[136429857,136429857],[136433740,136433740],[136436317,136436317],[136437615,136437615],[136438517,136438517],[136440300,136440300],[136443900,136443900],[136444185,136444185],[136444338,136444338],[136449254,136449254],[136451676,136451676],[136459227,136459227],[136463117,136463117],[136463454,136463454],[136467119,136467119],[136468238,136468238],[136470219,136470219],[136483355,136483355],[136485276,136485276],[136486340,136486340],[136486342,136486342],[136494186,136494186],[136495300,136495300],[136495619,136495619],[136499166,136499166],[136502792,136502792],[136503157,136503157],[136507039,136507039],[136511575,136511575],[136518103,136518103],[136521514,136521514],[136522675,136522675],[136522941,136522941],[136526981,136526981],[136535410,136535410],[136539122,136539122],[136544197,136544197],[136550109,136550109],[136551694,136551694],[136553188,136553188],[136553639,136553639],[136554800,136554800],[136557319,136557319],[136558157,136558157],[136569848,136569848],[136575199,136575199],[136576577,136576577],[136578536,136578536],[136580287,136580287],[136583192,136583192],[136586958,136586958],[136588478,136588478],[136589612,136589612],[136591178,136591178],[136591859,136591859],[136593760,136593760],[136594158,136594158],[136603276,136603276],[136603366,136603366],[136608231,136608231],[136609975,136609975],[136610598,136610598],[136611624,136611624],[136613780,136613780],[136614255,136614255],[136614813,136614813],[136617524,136617524],[136622216,136622216],[136625602,136625602],[136629911,136629911],[136630757,136630757],[136630989,136630989],[136631031,136631031],[136633771,136633771],[136636324,136636324],[136638216,136638216],[136640233,136640233],[136641882,136641882],[136643555,136643555],[136658345,136658345],[136670298,136670298],[136685228,136685228],[136696138,136696138],[136740900,136740900],[136765951,136765951],[136501840,136501840],[136505546,136505546],[136516748,136516748],[136522710,136522710],[136528004,136528004],[136539513,136539513],[136544752,136544752],[136546110,136546110],[136553529,136553529],[136555659,136555659],[136682274,136682274],[136691825,136691825],[136698098,136698098],[136721603,136721603],[136721995,136721995],[136755684,136755684],[136775898,136775898]],\"ys\":[[550,596],[550,596],[550,596],[550,596],[550,596],[550,596],[550,596],[550,596],[550,596],[550,596],[550,596],[550,596],[550,596],[550,596],[550,596],[550,596],[550,596],[550,596],[550,596],[550,596],[550,596],[550,596],[550,596],[550,596],[550,596],[550,596],[550,596],[550,596],[550,596],[550,596],[550,596],[550,596],[550,596],[550,596],[550,596],[550,596],[550,596],[550,596],[550,596],[550,596],[550,596],[550,596],[550,596],[550,596],[550,596],[550,596],[550,596],[550,596],[550,596],[550,596],[550,596],[550,596],[550,596],[550,596],[550,596],[550,596],[550,596],[550,596],[550,596],[550,596],[550,596],[550,596],[550,596],[550,596],[550,596],[550,596],[550,596],[550,596],[550,596],[550,596],[550,596],[550,596],[550,596],[550,596],[550,596],[550,596],[550,596],[550,596],[550,596],[550,596],[550,596],[550,596],[550,596],[550,596],[550,596],[550,596],[550,596],[550,596],[550,596],[550,596],[550,596],[550,596],[550,596],[550,596],[550,596],[550,596],[550,596],[550,596],[550,596],[550,596],[550,596],[550,596],[550,596],[550,596],[550,596],[550,596],[550,596],[550,596],[550,596],[550,596],[550,596],[550,596],[550,596],[550,596],[550,596],[550,596],[550,596],[450,493],[450,493],[450,493],[450,493],[450,493],[450,493],[450,493],[450,493],[450,493],[450,493],[450,493],[450,493],[450,493],[450,493],[450,493],[450,493],[450,493],[450,493],[450,493],[450,493],[450,493],[450,493],[450,493],[450,493],[450,493],[450,493],[450,493],[450,493],[450,493],[450,493],[450,493],[450,493],[450,493],[450,493],[450,493],[450,493],[450,493],[450,493],[450,493],[450,493],[450,493],[450,493],[450,493],[450,493],[450,493],[450,493],[450,493],[450,493],[450,493],[450,493],[450,493],[450,493],[450,493],[450,493],[450,493],[450,493],[450,493],[450,493],[450,493],[450,493],[450,493],[450,493],[150,180],[150,180],[150,180],[150,180],[150,180],[150,180],[150,180],[150,180],[350,390],[350,390],[350,390],[350,390],[350,391],[350,391],[350,391],[350,391],[350,391],[350,391],[250,288],[250,288],[250,288],[250,288],[250,288],[250,288],[50,63],[50,63],[50,63],[50,63],[50,63],[50,63],[50,63],[50,63],[50,63],[550,594],[550,594],[550,594],[550,594],[550,594],[550,594],[550,594],[550,594],[550,594],[550,594],[550,594],[550,594],[550,594],[550,594],[550,594],[550,594],[550,594],[550,594],[550,594],[550,594],[550,594],[550,594],[550,594],[550,594],[550,594],[550,594],[550,594],[550,594],[550,594],[550,594],[550,594],[550,594],[550,595],[550,595],[550,595],[550,595],[550,595],[550,595],[550,595],[550,595],[550,595],[550,595],[550,595],[550,595],[550,595],[550,595],[550,595],[550,595],[550,595],[550,595],[550,595],[550,595],[550,595],[550,595],[550,595],[550,595],[550,595],[550,595],[550,595],[550,595],[550,595],[550,595],[550,595],[550,595],[550,595],[550,595],[550,595],[550,595],[550,595],[550,595],[550,595],[550,595],[550,595],[550,595],[550,595],[550,595],[550,595],[550,595],[550,595],[550,595],[550,595],[550,595],[550,595],[550,595],[550,595],[550,595],[550,595],[550,595],[550,595],[550,595],[550,595],[550,595],[550,595],[550,595],[550,595],[550,595],[650,698],[650,698],[650,698],[650,698],[650,698],[650,698],[650,698],[650,698],[650,698],[650,698],[650,697],[650,697],[650,697],[650,697],[650,697],[650,697],[650,697]]}},\"id\":\"2d8c2897-ffaa-4f10-a7ef-b85f47ff1a7f\",\"type\":\"ColumnDataSource\"},{\"attributes\":{\"plot\":{\"id\":\"1603ae43-7129-43e9-abf6-04ed4cc080f1\",\"subtype\":\"Figure\",\"type\":\"Plot\"}},\"id\":\"f191d9bd-668c-47ad-9fdd-b9681f609b02\",\"type\":\"HelpTool\"},{\"attributes\":{\"line_color\":{\"field\":\"line_color\"},\"xs\":{\"field\":\"xs\"},\"ys\":{\"field\":\"ys\"}},\"id\":\"7e7a157d-2790-432f-a9af-fb4e59712abb\",\"type\":\"MultiLine\"},{\"attributes\":{\"below\":[{\"id\":\"639d5d02-0a5b-4063-b06c-7827e3262f10\",\"type\":\"LinearAxis\"}],\"left\":[{\"id\":\"b77e0ad5-2370-4305-82e9-b8b24955c4a8\",\"type\":\"LinearAxis\"}],\"plot_height\":800,\"plot_width\":900,\"renderers\":[{\"id\":\"639d5d02-0a5b-4063-b06c-7827e3262f10\",\"type\":\"LinearAxis\"},{\"id\":\"dfdff33c-4f93-4501-8e60-bb3a12bb497a\",\"type\":\"Grid\"},{\"id\":\"b77e0ad5-2370-4305-82e9-b8b24955c4a8\",\"type\":\"LinearAxis\"},{\"id\":\"598841c0-7153-4d1f-94aa-b51b031b3e06\",\"type\":\"Grid\"},{\"id\":\"fa574cd4-eeed-4650-8bb1-223df71a0f85\",\"type\":\"BoxAnnotation\"},{\"id\":\"a97f6db1-b4c8-43f5-a7fc-898198851bcd\",\"type\":\"GlyphRenderer\"},{\"id\":\"677f39ec-eb16-41ad-9d2a-869b52ccb8ea\",\"type\":\"GlyphRenderer\"},{\"id\":\"f5ba612d-d4cc-4439-a150-b603fefd17a6\",\"type\":\"LabelSet\"},{\"id\":\"d757ddfd-964a-48a2-8290-07bc5c303fe4\",\"type\":\"GlyphRenderer\"},{\"id\":\"f1c32b4a-0f9d-4baa-8fe8-a87179e16e1c\",\"type\":\"LabelSet\"}],\"title\":{\"id\":\"e4889dd6-bd6b-4642-a319-5d548023222f\",\"type\":\"Title\"},\"tool_events\":{\"id\":\"c506a9ad-b36a-4c00-9e53-b34825effce1\",\"type\":\"ToolEvents\"},\"toolbar\":{\"id\":\"ab646e73-2e33-40f4-ae54-d5bbb270a109\",\"type\":\"Toolbar\"},\"toolbar_location\":null,\"x_range\":{\"id\":\"13c56929-b19a-4583-8db9-c0823f54e08c\",\"type\":\"Range1d\"},\"y_range\":{\"id\":\"c901bc23-d439-4a9e-9ffd-7f1e4f79974a\",\"type\":\"Range1d\"}},\"id\":\"1603ae43-7129-43e9-abf6-04ed4cc080f1\",\"subtype\":\"Figure\",\"type\":\"Plot\"},{\"attributes\":{\"data_source\":{\"id\":\"2d8c2897-ffaa-4f10-a7ef-b85f47ff1a7f\",\"type\":\"ColumnDataSource\"},\"glyph\":{\"id\":\"7e7a157d-2790-432f-a9af-fb4e59712abb\",\"type\":\"MultiLine\"},\"hover_glyph\":null,\"nonselection_glyph\":{\"id\":\"5fd3ddad-8ef2-4b7c-b87d-2008ea488569\",\"type\":\"MultiLine\"},\"selection_glyph\":null},\"id\":\"677f39ec-eb16-41ad-9d2a-869b52ccb8ea\",\"type\":\"GlyphRenderer\"},{\"attributes\":{},\"id\":\"28212a40-f116-40c5-ba14-e02f81370298\",\"type\":\"BasicTickFormatter\"},{\"attributes\":{\"bottom\":{\"field\":\"bottom\"},\"fill_alpha\":{\"value\":0.1},\"fill_color\":{\"value\":\"#1f77b4\"},\"left\":{\"field\":\"left\"},\"line_alpha\":{\"value\":0.1},\"line_color\":{\"value\":\"#1f77b4\"},\"right\":{\"field\":\"right\"},\"top\":{\"field\":\"top\"}},\"id\":\"ca963559-4a46-4ebd-bb08-b4794864ce6b\",\"type\":\"Quad\"},{\"attributes\":{\"plot\":{\"id\":\"1603ae43-7129-43e9-abf6-04ed4cc080f1\",\"subtype\":\"Figure\",\"type\":\"Plot\"}},\"id\":\"8c3e84a2-19de-445c-b12f-b7fd8516830b\",\"type\":\"WheelZoomTool\"},{\"attributes\":{},\"id\":\"dedb81c9-d2af-47d3-b496-40cd7e8ae1dd\",\"type\":\"BasicTicker\"},{\"attributes\":{},\"id\":\"3207a1c9-3454-4481-8b05-458b03d308c4\",\"type\":\"BasicTicker\"},{\"attributes\":{\"callback\":null,\"column_names\":[\"y\",\"x\",\"vals\"],\"data\":{\"vals\":[\"117_1685\",\"62_1265\",\"8_267\",\"4_815\",\"6_946\",\"6_713\",\"9_39\",\"32_1361\",\"64_1575\",\"10_2206\",\"7_1868\"],\"x\":[135758231,135766890,135818487,135839805,135964764,135989333,136028572,136393658,136494186,136501840,136682274],\"y\":[601.0,498.0,185.0,395.0,396.0,293.0,68.0,599.0,600.0,703.0,702.0]}},\"id\":\"35504e6d-377a-4475-ae5c-49ae422d6bd6\",\"type\":\"ColumnDataSource\"},{\"attributes\":{\"plot\":{\"id\":\"1603ae43-7129-43e9-abf6-04ed4cc080f1\",\"subtype\":\"Figure\",\"type\":\"Plot\"},\"ticker\":{\"id\":\"dedb81c9-d2af-47d3-b496-40cd7e8ae1dd\",\"type\":\"BasicTicker\"}},\"id\":\"dfdff33c-4f93-4501-8e60-bb3a12bb497a\",\"type\":\"Grid\"},{\"attributes\":{\"callback\":null,\"column_names\":[\"y\",\"x\",\"vals\"],\"data\":{\"vals\":[\"RAB3GAP1\",\"ZRANB3\",\"R3HDM1\",\"UBXN4\",\"LCT\",\"MCM6\",\"DARS\"],\"x\":[135869057.0,136122878.0,136385961.0,136520911.0,136570082.5,136615621.5,136703738.0],\"y\":[760.0,760.0,760.0,760.0,760.0,760.0,760.0]}},\"id\":\"ad524d33-d206-4f6b-9d60-13aeed80d36a\",\"type\":\"ColumnDataSource\"},{\"attributes\":{\"bottom\":{\"field\":\"bottom\"},\"fill_color\":{\"field\":\"fill_color\"},\"left\":{\"field\":\"left\"},\"line_color\":{\"value\":null},\"right\":{\"field\":\"right\"},\"top\":{\"field\":\"top\"}},\"id\":\"4cc2d049-f99d-4a87-a173-f72d21b6d6a9\",\"type\":\"Quad\"},{\"attributes\":{\"data_source\":{\"id\":\"39963bb0-fee8-46bf-9e85-66c9c15a0e6a\",\"type\":\"ColumnDataSource\"},\"glyph\":{\"id\":\"4cc2d049-f99d-4a87-a173-f72d21b6d6a9\",\"type\":\"Quad\"},\"hover_glyph\":null,\"nonselection_glyph\":{\"id\":\"c1c663ed-5ba0-49ce-8ada-b8349cb12d5c\",\"type\":\"Quad\"},\"selection_glyph\":null},\"id\":\"a97f6db1-b4c8-43f5-a7fc-898198851bcd\",\"type\":\"GlyphRenderer\"},{\"attributes\":{\"bottom\":{\"field\":\"bottom\"},\"fill_color\":{\"value\":\"white\"},\"left\":{\"field\":\"left\"},\"right\":{\"field\":\"right\"},\"top\":{\"field\":\"top\"}},\"id\":\"0ebebab8-5385-4c3f-b67f-db2208a9b7fd\",\"type\":\"Quad\"},{\"attributes\":{\"dimension\":1,\"plot\":{\"id\":\"1603ae43-7129-43e9-abf6-04ed4cc080f1\",\"subtype\":\"Figure\",\"type\":\"Plot\"},\"ticker\":{\"id\":\"3207a1c9-3454-4481-8b05-458b03d308c4\",\"type\":\"BasicTicker\"}},\"id\":\"598841c0-7153-4d1f-94aa-b51b031b3e06\",\"type\":\"Grid\"},{\"attributes\":{\"bottom_units\":\"screen\",\"fill_alpha\":{\"value\":0.5},\"fill_color\":{\"value\":\"lightgrey\"},\"left_units\":\"screen\",\"level\":\"overlay\",\"line_alpha\":{\"value\":1.0},\"line_color\":{\"value\":\"black\"},\"line_dash\":[4,4],\"line_width\":{\"value\":2},\"plot\":null,\"render_mode\":\"css\",\"right_units\":\"screen\",\"top_units\":\"screen\"},\"id\":\"fa574cd4-eeed-4650-8bb1-223df71a0f85\",\"type\":\"BoxAnnotation\"},{\"attributes\":{\"callback\":null,\"end\":136786630,\"start\":135757320},\"id\":\"13c56929-b19a-4583-8db9-c0823f54e08c\",\"type\":\"Range1d\"},{\"attributes\":{},\"id\":\"14cee0d3-06c3-478e-b021-6a2410569705\",\"type\":\"BasicTickFormatter\"},{\"attributes\":{\"plot\":{\"id\":\"1603ae43-7129-43e9-abf6-04ed4cc080f1\",\"subtype\":\"Figure\",\"type\":\"Plot\"}},\"id\":\"877749ec-1698-4a6b-afdd-5f289ab9917c\",\"type\":\"PanTool\"}],\"root_ids\":[\"1603ae43-7129-43e9-abf6-04ed4cc080f1\"]},\"title\":\"Bokeh Application\",\"version\":\"0.12.0\"}};\n",
       "            var render_items = [{\"docid\":\"a6b79df7-d44f-41c3-ab32-28c5ce254ba3\",\"elementid\":\"495e7ee0-e6f3-4e64-80ac-219c10ae8ad8\",\"modelid\":\"1603ae43-7129-43e9-abf6-04ed4cc080f1\",\"notebook_comms_target\":\"a15406af-d861-4e71-a014-d28b59e3af9d\"}];\n",
       "            \n",
       "            Bokeh.embed.embed_items(docs_json, render_items);\n",
       "        });\n",
       "      },\n",
       "      function(Bokeh) {\n",
       "      }\n",
       "    ];\n",
       "  \n",
       "    function run_inline_js() {\n",
       "      for (var i = 0; i < inline_js.length; i++) {\n",
       "        inline_js[i](window.Bokeh);\n",
       "      }\n",
       "    }\n",
       "  \n",
       "    if (window._bokeh_is_loading === 0) {\n",
       "      console.log(\"Bokeh: BokehJS loaded, going straight to plotting\");\n",
       "      run_inline_js();\n",
       "    } else {\n",
       "      load_libs(js_urls, function() {\n",
       "        console.log(\"Bokeh: BokehJS plotting callback run at\", now());\n",
       "        run_inline_js();\n",
       "      });\n",
       "    }\n",
       "  }(this));\n",
       "</script>"
      ]
     },
     "metadata": {},
     "output_type": "display_data"
    },
    {
     "data": {
      "text/html": [
       "<p><code>&lt;Bokeh Notebook handle for <strong>In[23]</strong>&gt;</code></p>"
      ],
      "text/plain": [
       "<bokeh.io._CommsHandle at 0x7fa3e965d510>"
      ]
     },
     "execution_count": 23,
     "metadata": {},
     "output_type": "execute_result"
    }
   ],
   "source": [
    "plt_obj = dm.superset_yes_no([di_9_39], [dm.di_4_1442, dm.di_9_1170, dm.di_81_857], min_match=0.001)\n",
    "plt = plt_obj.do_plot()\n",
    "show(plt)"
   ]
  },
  {
   "cell_type": "code",
   "execution_count": 24,
   "metadata": {
    "collapsed": false
   },
   "outputs": [
    {
     "data": {
      "text/html": [
       "<table>\n",
       "<thead><tr><th style=\"text-align:center\">index</th><th style=\"text-align:center\">first</th><th style=\"text-align:center\">length</th><th style=\"text-align:center\">snps</th><th style=\"text-align:center\" colspan=2>alleles</th><th style=\"text-align:center\" colspan=2>matches</th><th style=\"text-align:center\" colspan=2>afr</th><th style=\"text-align:center\" colspan=2>afx</th><th style=\"text-align:center\" colspan=2>amr</th><th style=\"text-align:center\" colspan=2>eas</th><th style=\"text-align:center\" colspan=2>eur</th><th style=\"text-align:center\" colspan=2>sas</th><th style=\"text-align:center\" colspan=2>sax</th></tr></thead>\n",
       "<tr class=\"even\"><td style=\"text-align: right;\">353921</td><td style=\"text-align: right;\">136,501,840</td><td style=\"text-align: right;\">53,819</td><td style=\"text-align: right;\">10</td><td style=\"text-align: right;\">2206</td><td style=\"text-align: right;\">0.00</td><td style=\"text-align: right;\">1</td><td style=\"text-align: right;\">1.00</td><td style=\"text-align: right;\">0</td><td style=\"text-align: right;\">0.00</td><td style=\"text-align: right;\">0</td><td style=\"text-align: right;\">0.00</td><td style=\"text-align: right;\">0</td><td style=\"text-align: right;\">0.00</td><td style=\"text-align: right;\">0</td><td style=\"text-align: right;\">0.00</td><td style=\"text-align: right;\">1</td><td style=\"text-align: right;\">3.96</td><td style=\"text-align: right;\">0</td><td style=\"text-align: right;\">0.00</td><td style=\"text-align: right;\">0</td><td style=\"text-align: right;\">0.00</td></tr>\n",
       "<tr><td style=\"text-align: right;\">354170</td><td style=\"text-align: right;\">136,682,274</td><td style=\"text-align: right;\">93,624</td><td style=\"text-align: right;\">7</td><td style=\"text-align: right;\">1868</td><td style=\"text-align: right;\">0.00</td><td style=\"text-align: right;\">1</td><td style=\"text-align: right;\">1.00</td><td style=\"text-align: right;\">0</td><td style=\"text-align: right;\">0.00</td><td style=\"text-align: right;\">0</td><td style=\"text-align: right;\">0.00</td><td style=\"text-align: right;\">0</td><td style=\"text-align: right;\">0.00</td><td style=\"text-align: right;\">0</td><td style=\"text-align: right;\">0.00</td><td style=\"text-align: right;\">1</td><td style=\"text-align: right;\">3.96</td><td style=\"text-align: right;\">0</td><td style=\"text-align: right;\">0.00</td><td style=\"text-align: right;\">0</td><td style=\"text-align: right;\">0.00</td></tr>\n",
       "<tr class=\"even\"><td style=\"text-align: right;\">353244</td><td style=\"text-align: right;\">135,758,231</td><td style=\"text-align: right;\">618,284</td><td style=\"text-align: right;\">117</td><td style=\"text-align: right;\">1685</td><td style=\"text-align: right;\">0.00</td><td style=\"text-align: right;\">1</td><td style=\"text-align: right;\">1.00</td><td style=\"text-align: right;\">0</td><td style=\"text-align: right;\">0.00</td><td style=\"text-align: right;\">0</td><td style=\"text-align: right;\">0.00</td><td style=\"text-align: right;\">0</td><td style=\"text-align: right;\">0.00</td><td style=\"text-align: right;\">0</td><td style=\"text-align: right;\">0.00</td><td style=\"text-align: right;\">1</td><td style=\"text-align: right;\">3.96</td><td style=\"text-align: right;\">0</td><td style=\"text-align: right;\">0.00</td><td style=\"text-align: right;\">0</td><td style=\"text-align: right;\">0.00</td></tr>\n",
       "<tr><td style=\"text-align: right;\">353901</td><td style=\"text-align: right;\">136,494,186</td><td style=\"text-align: right;\">271,765</td><td style=\"text-align: right;\">64</td><td style=\"text-align: right;\">1575</td><td style=\"text-align: right;\">0.00</td><td style=\"text-align: right;\">1</td><td style=\"text-align: right;\">1.00</td><td style=\"text-align: right;\">0</td><td style=\"text-align: right;\">0.00</td><td style=\"text-align: right;\">0</td><td style=\"text-align: right;\">0.00</td><td style=\"text-align: right;\">0</td><td style=\"text-align: right;\">0.00</td><td style=\"text-align: right;\">0</td><td style=\"text-align: right;\">0.00</td><td style=\"text-align: right;\">1</td><td style=\"text-align: right;\">3.96</td><td style=\"text-align: right;\">0</td><td style=\"text-align: right;\">0.00</td><td style=\"text-align: right;\">0</td><td style=\"text-align: right;\">0.00</td></tr>\n",
       "<tr class=\"even\"><td style=\"text-align: right;\">353791</td><td style=\"text-align: right;\">136,393,658</td><td style=\"text-align: right;\">92,684</td><td style=\"text-align: right;\">32</td><td style=\"text-align: right;\">1361</td><td style=\"text-align: right;\">0.00</td><td style=\"text-align: right;\">1</td><td style=\"text-align: right;\">1.00</td><td style=\"text-align: right;\">0</td><td style=\"text-align: right;\">0.00</td><td style=\"text-align: right;\">0</td><td style=\"text-align: right;\">0.00</td><td style=\"text-align: right;\">0</td><td style=\"text-align: right;\">0.00</td><td style=\"text-align: right;\">0</td><td style=\"text-align: right;\">0.00</td><td style=\"text-align: right;\">1</td><td style=\"text-align: right;\">3.96</td><td style=\"text-align: right;\">0</td><td style=\"text-align: right;\">0.00</td><td style=\"text-align: right;\">0</td><td style=\"text-align: right;\">0.00</td></tr>\n",
       "<tr><td style=\"text-align: right;\">353269</td><td style=\"text-align: right;\">135,766,890</td><td style=\"text-align: right;\">509,095</td><td style=\"text-align: right;\">62</td><td style=\"text-align: right;\">1265</td><td style=\"text-align: right;\">0.00</td><td style=\"text-align: right;\">1</td><td style=\"text-align: right;\">1.00</td><td style=\"text-align: right;\">0</td><td style=\"text-align: right;\">0.00</td><td style=\"text-align: right;\">0</td><td style=\"text-align: right;\">0.00</td><td style=\"text-align: right;\">0</td><td style=\"text-align: right;\">0.00</td><td style=\"text-align: right;\">0</td><td style=\"text-align: right;\">0.00</td><td style=\"text-align: right;\">1</td><td style=\"text-align: right;\">3.96</td><td style=\"text-align: right;\">0</td><td style=\"text-align: right;\">0.00</td><td style=\"text-align: right;\">0</td><td style=\"text-align: right;\">0.00</td></tr>\n",
       "<tr class=\"even\"><td style=\"text-align: right;\">353504</td><td style=\"text-align: right;\">135,964,764</td><td style=\"text-align: right;\">136,368</td><td style=\"text-align: right;\">6</td><td style=\"text-align: right;\">946</td><td style=\"text-align: right;\">0.00</td><td style=\"text-align: right;\">1</td><td style=\"text-align: right;\">1.00</td><td style=\"text-align: right;\">0</td><td style=\"text-align: right;\">0.00</td><td style=\"text-align: right;\">0</td><td style=\"text-align: right;\">0.00</td><td style=\"text-align: right;\">0</td><td style=\"text-align: right;\">0.00</td><td style=\"text-align: right;\">0</td><td style=\"text-align: right;\">0.00</td><td style=\"text-align: right;\">1</td><td style=\"text-align: right;\">3.96</td><td style=\"text-align: right;\">0</td><td style=\"text-align: right;\">0.00</td><td style=\"text-align: right;\">0</td><td style=\"text-align: right;\">0.00</td></tr>\n",
       "<tr><td style=\"text-align: right;\">353384</td><td style=\"text-align: right;\">135,839,805</td><td style=\"text-align: right;\">84,662</td><td style=\"text-align: right;\">4</td><td style=\"text-align: right;\">815</td><td style=\"text-align: right;\">0.00</td><td style=\"text-align: right;\">1</td><td style=\"text-align: right;\">1.00</td><td style=\"text-align: right;\">0</td><td style=\"text-align: right;\">0.00</td><td style=\"text-align: right;\">0</td><td style=\"text-align: right;\">0.00</td><td style=\"text-align: right;\">0</td><td style=\"text-align: right;\">0.00</td><td style=\"text-align: right;\">0</td><td style=\"text-align: right;\">0.00</td><td style=\"text-align: right;\">1</td><td style=\"text-align: right;\">3.96</td><td style=\"text-align: right;\">0</td><td style=\"text-align: right;\">0.00</td><td style=\"text-align: right;\">0</td><td style=\"text-align: right;\">0.00</td></tr>\n",
       "<tr class=\"even\"><td style=\"text-align: right;\">353521</td><td style=\"text-align: right;\">135,989,333</td><td style=\"text-align: right;\">275,298</td><td style=\"text-align: right;\">6</td><td style=\"text-align: right;\">713</td><td style=\"text-align: right;\">0.00</td><td style=\"text-align: right;\">1</td><td style=\"text-align: right;\">1.00</td><td style=\"text-align: right;\">0</td><td style=\"text-align: right;\">0.00</td><td style=\"text-align: right;\">0</td><td style=\"text-align: right;\">0.00</td><td style=\"text-align: right;\">0</td><td style=\"text-align: right;\">0.00</td><td style=\"text-align: right;\">0</td><td style=\"text-align: right;\">0.00</td><td style=\"text-align: right;\">1</td><td style=\"text-align: right;\">3.96</td><td style=\"text-align: right;\">0</td><td style=\"text-align: right;\">0.00</td><td style=\"text-align: right;\">0</td><td style=\"text-align: right;\">0.00</td></tr>\n",
       "<tr><td style=\"text-align: right;\">353358</td><td style=\"text-align: right;\">135,818,487</td><td style=\"text-align: right;\">471,078</td><td style=\"text-align: right;\">8</td><td style=\"text-align: right;\">267</td><td style=\"text-align: right;\">0.00</td><td style=\"text-align: right;\">1</td><td style=\"text-align: right;\">1.00</td><td style=\"text-align: right;\">0</td><td style=\"text-align: right;\">0.00</td><td style=\"text-align: right;\">0</td><td style=\"text-align: right;\">0.00</td><td style=\"text-align: right;\">0</td><td style=\"text-align: right;\">0.00</td><td style=\"text-align: right;\">0</td><td style=\"text-align: right;\">0.00</td><td style=\"text-align: right;\">1</td><td style=\"text-align: right;\">3.96</td><td style=\"text-align: right;\">0</td><td style=\"text-align: right;\">0.00</td><td style=\"text-align: right;\">0</td><td style=\"text-align: right;\">0.00</td></tr>\n",
       "<tr class=\"even\"><td style=\"text-align: right;\">353559</td><td style=\"text-align: right;\">136,028,572</td><td style=\"text-align: right;\">409,893</td><td style=\"text-align: right;\">9</td><td style=\"text-align: right;\">39</td><td style=\"text-align: right;\">0.03</td><td style=\"text-align: right;\">1</td><td style=\"text-align: right;\">1.00</td><td style=\"text-align: right;\">0</td><td style=\"text-align: right;\">0.00</td><td style=\"text-align: right;\">0</td><td style=\"text-align: right;\">0.00</td><td style=\"text-align: right;\">0</td><td style=\"text-align: right;\">0.00</td><td style=\"text-align: right;\">0</td><td style=\"text-align: right;\">0.00</td><td style=\"text-align: right;\">1</td><td style=\"text-align: right;\">3.96</td><td style=\"text-align: right;\">0</td><td style=\"text-align: right;\">0.00</td><td style=\"text-align: right;\">0</td><td style=\"text-align: right;\">0.00</td></tr>\n",
       "</table>"
      ],
      "text/plain": [
       "<IPython.core.display.HTML object>"
      ]
     },
     "execution_count": 24,
     "metadata": {},
     "output_type": "execute_result"
    }
   ],
   "source": [
    "HTML(plt_obj.get_html())"
   ]
  }
 ],
 "metadata": {
  "kernelspec": {
   "display_name": "Python [Root]",
   "language": "python",
   "name": "Python [Root]"
  },
  "language_info": {
   "codemirror_mode": {
    "name": "ipython",
    "version": 2
   },
   "file_extension": ".py",
   "mimetype": "text/x-python",
   "name": "python",
   "nbconvert_exporter": "python",
   "pygments_lexer": "ipython2",
   "version": "2.7.12"
  }
 },
 "nbformat": 4,
 "nbformat_minor": 0
}
