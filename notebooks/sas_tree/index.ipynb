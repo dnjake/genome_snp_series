{
 "cells": [
  {
   "cell_type": "markdown",
   "metadata": {},
   "source": [
    "[sas root](sas_root.ipynb)\n",
    "\n",
    "    Notebook that explores the series that form the root of the \n",
    "    South Asian tree and its immediated descendant series.\n",
    "    \n",
    "[sas sub 29 68](sas_sub_29_68.ipynb)\n",
    "\n",
    "    Notebook that explores the subtree rooted in 29_68.\n",
    "    29_68 is a direct descendant of 193_843.\n",
    "    \n",
    "[sas sub 4 416](sas_sub_4_416.ipynb)\n",
    "\n",
    "    Notebook that explores the subtree rooted in 4_416.\n",
    "    4_416 is a descenant of 6_713.\n",
    "    \n",
    "[sas sub 6 713](sas_sub_6_713.ipynb)\n",
    "\n",
    "    Notebook that explores the subtree rooted in 6_713\n",
    "    6_713 is a direct descendant of 193_843.\n",
    "    \n",
    "[sas sub 7 90](sas_sub_7_90.ipynb)\n",
    "\n",
    "    Notebook that explores the subtree rooted in 7_90.\n",
    "    7_90 is a direct descendant of 193_843.\n",
    "    \n",
    "[sas sub 8 267](sas_sub_8_267.ipynb)\n",
    "\n",
    "    Notebook that explores the subtree rooted in 8_267.\n",
    "    8_267 is a descendant of 6_713.\n",
    "    \n",
    "[series](series/)\n",
    "\n",
    "    Notebooks that document individual series."
   ]
  }
 ],
 "metadata": {
  "kernelspec": {
   "display_name": "Python [Root]",
   "language": "python",
   "name": "Python [Root]"
  },
  "language_info": {
   "codemirror_mode": {
    "name": "ipython",
    "version": 2
   },
   "file_extension": ".py",
   "mimetype": "text/x-python",
   "name": "python",
   "nbconvert_exporter": "python",
   "pygments_lexer": "ipython2",
   "version": "2.7.12"
  }
 },
 "nbformat": 4,
 "nbformat_minor": 0
}
