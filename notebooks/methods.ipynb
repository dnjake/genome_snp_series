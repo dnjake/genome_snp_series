{
 "cells": [
  {
   "cell_type": "code",
   "execution_count": 1,
   "metadata": {
    "collapsed": false
   },
   "outputs": [
    {
     "data": {
      "text/html": []
     },
     "metadata": {},
     "output_type": "display_data"
    },
    {
     "data": {
      "application/javascript": [
       "\n",
       "(function(global) {\n",
       "  function now() {\n",
       "    return new Date();\n",
       "  }\n",
       "\n",
       "  if (typeof (window._bokeh_onload_callbacks) === \"undefined\") {\n",
       "    window._bokeh_onload_callbacks = [];\n",
       "  }\n",
       "\n",
       "  function run_callbacks() {\n",
       "    window._bokeh_onload_callbacks.forEach(function(callback) { callback() });\n",
       "    delete window._bokeh_onload_callbacks\n",
       "    console.info(\"Bokeh: all callbacks have finished\");\n",
       "  }\n",
       "\n",
       "  function load_libs(js_urls, callback) {\n",
       "    window._bokeh_onload_callbacks.push(callback);\n",
       "    if (window._bokeh_is_loading > 0) {\n",
       "      console.log(\"Bokeh: BokehJS is being loaded, scheduling callback at\", now());\n",
       "      return null;\n",
       "    }\n",
       "    if (js_urls == null || js_urls.length === 0) {\n",
       "      run_callbacks();\n",
       "      return null;\n",
       "    }\n",
       "    console.log(\"Bokeh: BokehJS not loaded, scheduling load and callback at\", now());\n",
       "    window._bokeh_is_loading = js_urls.length;\n",
       "    for (var i = 0; i < js_urls.length; i++) {\n",
       "      var url = js_urls[i];\n",
       "      var s = document.createElement('script');\n",
       "      s.src = url;\n",
       "      s.async = false;\n",
       "      s.onreadystatechange = s.onload = function() {\n",
       "        window._bokeh_is_loading--;\n",
       "        if (window._bokeh_is_loading === 0) {\n",
       "          console.log(\"Bokeh: all BokehJS libraries loaded\");\n",
       "          run_callbacks()\n",
       "        }\n",
       "      };\n",
       "      s.onerror = function() {\n",
       "        console.warn(\"failed to load library \" + url);\n",
       "      };\n",
       "      console.log(\"Bokeh: injecting script tag for BokehJS library: \", url);\n",
       "      document.getElementsByTagName(\"head\")[0].appendChild(s);\n",
       "    }\n",
       "  };\n",
       "\n",
       "  var js_urls = ['https://cdn.pydata.org/bokeh/release/bokeh-0.12.0.min.js', 'https://cdn.pydata.org/bokeh/release/bokeh-widgets-0.12.0.min.js', 'https://cdn.pydata.org/bokeh/release/bokeh-compiler-0.12.0.min.js'];\n",
       "\n",
       "  var inline_js = [\n",
       "    function(Bokeh) {\n",
       "      Bokeh.set_log_level(\"info\");\n",
       "    },\n",
       "    \n",
       "    function(Bokeh) {\n",
       "      Bokeh.$(\"#dbabfeb4-40ea-44dc-89f5-f9cb6a9f845f\").text(\"BokehJS successfully loaded\");\n",
       "    },\n",
       "    function(Bokeh) {\n",
       "      console.log(\"Bokeh: injecting CSS: https://cdn.pydata.org/bokeh/release/bokeh-0.12.0.min.css\");\n",
       "      Bokeh.embed.inject_css(\"https://cdn.pydata.org/bokeh/release/bokeh-0.12.0.min.css\");\n",
       "      console.log(\"Bokeh: injecting CSS: https://cdn.pydata.org/bokeh/release/bokeh-widgets-0.12.0.min.css\");\n",
       "      Bokeh.embed.inject_css(\"https://cdn.pydata.org/bokeh/release/bokeh-widgets-0.12.0.min.css\");\n",
       "    }\n",
       "  ];\n",
       "\n",
       "  function run_inline_js() {\n",
       "    for (var i = 0; i < inline_js.length; i++) {\n",
       "      inline_js[i](window.Bokeh);\n",
       "    }\n",
       "  }\n",
       "\n",
       "  if (window._bokeh_is_loading === 0) {\n",
       "    console.log(\"Bokeh: BokehJS loaded, going straight to plotting\");\n",
       "    run_inline_js();\n",
       "  } else {\n",
       "    load_libs(js_urls, function() {\n",
       "      console.log(\"Bokeh: BokehJS plotting callback run at\", now());\n",
       "      run_inline_js();\n",
       "    });\n",
       "  }\n",
       "}(this));"
      ]
     },
     "metadata": {},
     "output_type": "display_data"
    }
   ],
   "source": [
    "import numpy as np\n",
    "from IPython.display import HTML\n",
    "from bokeh.plotting import output_notebook, show\n",
    "import genomes_dnj.lct_interval.series_plots as dm\n",
    "import genomes_dnj.lct_interval.anal_series as an\n",
    "import genomes_dnj.lct_interval_snp_anal.lct_interval_snp_anal as snp_anal\n",
    "import genomes_dnj.lct_interval.series_masks as sm\n",
    "from genomes_dnj.lct_interval.bokeh_match_count_plot import snp_match_count_plot_cls as smcp\n",
    "output_notebook(hide_banner=True)"
   ]
  },
  {
   "cell_type": "markdown",
   "metadata": {},
   "source": [
    "<h3>Methods</h3>\n",
    "<div style=\"width:700px\">\n",
    "<p>\n",
    "Full details of all of the methods are available in the source code.  This notebook describes\n",
    "them and provides some examples to illustrate their use.\n",
    "</div>"
   ]
  },
  {
   "cell_type": "markdown",
   "metadata": {},
   "source": [
    "<h3>Identification of Series</h3>\n",
    "<div style=\"width:700px\">\n",
    "<p>\n",
    "SNPs were grouped into series through an algorithmic process.  The data for that process was\n",
    "a two dimensional array.  There was a row for each SNP expressed by at least 16 1000 genomes\n",
    "chromosome samples.  There were 5008 columns, one for each 1000 genomes chromosome sample.\n",
    "Values were true if a sample expressed a SNP and false if it did not.\n",
    "<p>\n",
    "The process for identifying a series started with a specific SNP and an array of the column\n",
    "indexes for the samples that expressed that SNP.  Those indexes were used to generate an array\n",
    "of counts of the number of the test samples that expressed each SNP farther along the chromosome.\n",
    "The counts were compared with the 90% match criterion to identify additional SNPs that were expressed\n",
    "by 90% of the test samples.  A second array was generated with counts of all samples that expressed\n",
    "each of the SNPs selected by the initial match process.  The second match check required the count of\n",
    "the test samples expressing the SNP to be at least 90% of the count of all samples expressing the SNP.\n",
    "<p>\n",
    "This process was carried out recursively by making the last identified SNP in a series the start of\n",
    "another attempt to find more SNPs in the series.  The process was continued until a 1,000,000 base\n",
    "interval was scanned without finding any additional SNPs in the series.  The cases where this process\n",
    "resulted in at least 4 SNPs were identified as a series.  Samples that expressed at least 90% of the\n",
    "SNPs in a series were considered to express the series.\n",
    "<p>\n",
    "Rounding can result in inclusion samples that express less than 90% of the SNPs.  The recursive process\n",
    "can favor identification of series that have some history of fragment generation of the lower part of the\n",
    "series.  But, samples that express the fragments are not counted as expressing the series.\n",
    "</div>"
   ]
  },
  {
   "cell_type": "markdown",
   "metadata": {},
   "source": [
    "<h3>Yes No Comparisons</h3>\n",
    "<div style=\"width:700px\">\n",
    "<p>\n",
    "Plots were constructed by selecting chromosome samples that satisfied some filter criteria.\n",
    "The criteria are based on a yes list of series and a no list of series.  To be selected\n",
    "a chromosome sample must express all of the series in the yes list and none of the series in the no list.\n",
    "</div>"
   ]
  },
  {
   "cell_type": "markdown",
   "metadata": {},
   "source": [
    "<h3>Series Representation</h3>\n",
    "<div style=\"width:700px\">\n",
    "<p>\n",
    "Series are identified by the number of SNPs in the series and the number of 1000 genomes chromosome\n",
    "samples that express it.  The series 11_765 associated with lactase persistence includes 11 SNPs\n",
    "and is expressed by 765 of the 5008 1000 genomes samples of chromsome 2.\n",
    "</div>"
   ]
  },
  {
   "cell_type": "code",
   "execution_count": 2,
   "metadata": {
    "collapsed": false
   },
   "outputs": [
    {
     "data": {
      "text/html": [
       "\n",
       "<div style=\"margin-left:100px\">\n",
       "<table>\n",
       "<tr><td style=\"background-color:#ff0000;width:50px;\"></td><td>African</td></tr>\n",
       "<tr><td style=\"background-color:#ff00ff;width:50px;\"></td><td>American</td></tr>\n",
       "<tr><td style=\"background-color:#ffff00;width:50px;\"></td><td>East Asian</td></tr>\n",
       "<tr><td style=\"background-color:#00ff00;width:50px;\"></td><td>European</td></tr>\n",
       "<tr><td style=\"background-color:#00ffff;width:50px;\"></td><td>South Asian</td></tr>\n",
       "</table>\n",
       "</div>\n"
      ],
      "text/plain": [
       "<IPython.core.display.HTML object>"
      ]
     },
     "execution_count": 2,
     "metadata": {},
     "output_type": "execute_result"
    }
   ],
   "source": [
    "import genomes_dnj.lct_interval.plot_colors as clr\n",
    "HTML(clr.pop_colors)"
   ]
  },
  {
   "cell_type": "markdown",
   "metadata": {},
   "source": [
    "<div style=\"width:700px\">\n",
    "<p>\n",
    "Series are represented in a plot by a colored rectangle.  The hue of the rectangle represents\n",
    "the most overexpressed population for the chromosome samples that express the series.\n",
    "More saturated colors represent more overexpressed populations.  The table above shows the fully\n",
    "saturated colors used to represent overexpression of series by different 1000 genomes populations.\n",
    "The plot x axis maps to positions on chromosome 2.  The height of the rectangle represents the log\n",
    "of the number of 1000 genomes chromosome 2 samples that express the series.  Each SNP in the series\n",
    "is represented with a vertical line.  Height and color are properties of the series regardless\n",
    "of how many chromosome samples express the series in a particular plot.\n",
    "</div>"
   ]
  },
  {
   "cell_type": "markdown",
   "metadata": {},
   "source": [
    "<h3>Superset Plots</h3>\n",
    "<div style=\"width:700px\">\n",
    "<p>\n",
    "Most plots in these notebooks are superset plots.  The intent of a superset plot is to find\n",
    "all of the series in the studied region expressed by some set of chromosome samples.\n",
    "Some of those series may be expressed specifically by the samples that satisfy the filter\n",
    "test.  For other series those samples are just a subset of the 1000 genomes chromosome\n",
    "samples that express the series.  A yes no comparison is used to select\n",
    "input chromosome samples.  The output series are identified by trying to match the input samples\n",
    "with the samples that express each of the series in the studied region.  Those series that\n",
    "meet the match criterion are added to the result set.  When the intent was to limit\n",
    "the series to those expressed by all of the selected chromosome samples, the match\n",
    "criterion was generally 90%.  When the intent was to identify all of the series most commonly\n",
    "expressed by the selected chromosome samples, the match criterion was generally 50%.  The use\n",
    "of a 50% match prevents the selection of overlapping series that are expressed by different\n",
    "subsets of the selected chromosome samples.  When the intent was to display a complete hierarchy of\n",
    "series that are all expressed by all the chosen set of chromosome samples, the match criterion\n",
    "was generally 0.1%.  The data associated with each plot shows the number of input samples\n",
    "that actually express each of the result series.\n",
    "</div>"
   ]
  },
  {
   "cell_type": "code",
   "execution_count": 3,
   "metadata": {
    "collapsed": false
   },
   "outputs": [
    {
     "data": {
      "text/html": [
       "\n",
       "\n",
       "    <div class=\"bk-root\">\n",
       "        <div class=\"plotdiv\" id=\"a285eb66-4ff5-40bf-86c5-c604014dc4d8\"></div>\n",
       "    </div>\n",
       "<script type=\"text/javascript\">\n",
       "  \n",
       "  (function(global) {\n",
       "    function now() {\n",
       "      return new Date();\n",
       "    }\n",
       "  \n",
       "    if (typeof (window._bokeh_onload_callbacks) === \"undefined\") {\n",
       "      window._bokeh_onload_callbacks = [];\n",
       "    }\n",
       "  \n",
       "    function run_callbacks() {\n",
       "      window._bokeh_onload_callbacks.forEach(function(callback) { callback() });\n",
       "      delete window._bokeh_onload_callbacks\n",
       "      console.info(\"Bokeh: all callbacks have finished\");\n",
       "    }\n",
       "  \n",
       "    function load_libs(js_urls, callback) {\n",
       "      window._bokeh_onload_callbacks.push(callback);\n",
       "      if (window._bokeh_is_loading > 0) {\n",
       "        console.log(\"Bokeh: BokehJS is being loaded, scheduling callback at\", now());\n",
       "        return null;\n",
       "      }\n",
       "      if (js_urls == null || js_urls.length === 0) {\n",
       "        run_callbacks();\n",
       "        return null;\n",
       "      }\n",
       "      console.log(\"Bokeh: BokehJS not loaded, scheduling load and callback at\", now());\n",
       "      window._bokeh_is_loading = js_urls.length;\n",
       "      for (var i = 0; i < js_urls.length; i++) {\n",
       "        var url = js_urls[i];\n",
       "        var s = document.createElement('script');\n",
       "        s.src = url;\n",
       "        s.async = false;\n",
       "        s.onreadystatechange = s.onload = function() {\n",
       "          window._bokeh_is_loading--;\n",
       "          if (window._bokeh_is_loading === 0) {\n",
       "            console.log(\"Bokeh: all BokehJS libraries loaded\");\n",
       "            run_callbacks()\n",
       "          }\n",
       "        };\n",
       "        s.onerror = function() {\n",
       "          console.warn(\"failed to load library \" + url);\n",
       "        };\n",
       "        console.log(\"Bokeh: injecting script tag for BokehJS library: \", url);\n",
       "        document.getElementsByTagName(\"head\")[0].appendChild(s);\n",
       "      }\n",
       "    };var element = document.getElementById(\"a285eb66-4ff5-40bf-86c5-c604014dc4d8\");\n",
       "    if (element == null) {\n",
       "      console.log(\"Bokeh: ERROR: autoload.js configured with elementid 'a285eb66-4ff5-40bf-86c5-c604014dc4d8' but no matching script tag was found. \")\n",
       "      return false;\n",
       "    }\n",
       "  \n",
       "    var js_urls = [];\n",
       "  \n",
       "    var inline_js = [\n",
       "      function(Bokeh) {\n",
       "        Bokeh.$(function() {\n",
       "            var docs_json = {\"0af4e325-89b1-4c9e-845f-f7d566ca4f14\":{\"roots\":{\"references\":[{\"attributes\":{\"plot\":null,\"text\":null},\"id\":\"7b8d3f08-3739-4179-b305-1dd065ba766a\",\"type\":\"Title\"},{\"attributes\":{\"overlay\":{\"id\":\"31860ec3-3ff2-47e6-ac81-7bd618171811\",\"type\":\"BoxAnnotation\"},\"plot\":{\"id\":\"1cf220ba-c522-4e66-be2e-69c079344f6d\",\"subtype\":\"Figure\",\"type\":\"Plot\"}},\"id\":\"d10f653d-f193-471e-b21c-b9874c85c9bc\",\"type\":\"BoxZoomTool\"},{\"attributes\":{\"line_alpha\":{\"value\":0.1},\"line_color\":{\"value\":\"#1f77b4\"},\"xs\":{\"field\":\"xs\"},\"ys\":{\"field\":\"ys\"}},\"id\":\"9a3d1015-3b00-41de-b1ec-7876834d9486\",\"type\":\"MultiLine\"},{\"attributes\":{\"callback\":null,\"column_names\":[\"right\",\"bottom\",\"top\",\"left\"],\"data\":{\"bottom\":[545,545,545,545,545,545,545],\"left\":[135809835,135957574,136289083,136499189,136545415,136597196,136664254],\"right\":[135928279,136288182,136482839,136542633,136594750,136634047,136743222],\"top\":[575,575,575,575,575,575,575]}},\"id\":\"993931cd-d3dc-4e48-972e-f8b59cf94a1a\",\"type\":\"ColumnDataSource\"},{\"attributes\":{\"formatter\":{\"id\":\"149fe22e-7388-4ee0-a2e9-9ca43db46d6c\",\"type\":\"BasicTickFormatter\"},\"plot\":{\"id\":\"1cf220ba-c522-4e66-be2e-69c079344f6d\",\"subtype\":\"Figure\",\"type\":\"Plot\"},\"ticker\":{\"id\":\"c7baee96-cec8-49e8-bf60-812d8e5cbfbd\",\"type\":\"BasicTicker\"},\"visible\":null},\"id\":\"c7a90263-2878-44d1-a0ef-df093191fc4b\",\"type\":\"LinearAxis\"},{\"attributes\":{\"plot\":{\"id\":\"1cf220ba-c522-4e66-be2e-69c079344f6d\",\"subtype\":\"Figure\",\"type\":\"Plot\"}},\"id\":\"f86029bc-0eba-44ab-b88f-a861b5b6b29a\",\"type\":\"WheelZoomTool\"},{\"attributes\":{},\"id\":\"0e0b5eaa-5a27-4782-b164-67a2cd616602\",\"type\":\"ToolEvents\"},{\"attributes\":{\"bottom\":{\"field\":\"bottom\"},\"fill_color\":{\"value\":\"white\"},\"left\":{\"field\":\"left\"},\"right\":{\"field\":\"right\"},\"top\":{\"field\":\"top\"}},\"id\":\"0fd34b30-dd93-494e-9b1c-cf63a1dc7881\",\"type\":\"Quad\"},{\"attributes\":{\"plot\":{\"id\":\"1cf220ba-c522-4e66-be2e-69c079344f6d\",\"subtype\":\"Figure\",\"type\":\"Plot\"},\"ticker\":{\"id\":\"58e18376-ad83-4290-991a-2f3a687bd4aa\",\"type\":\"BasicTicker\"}},\"id\":\"6dec1128-2feb-4322-910c-86382a6400e3\",\"type\":\"Grid\"},{\"attributes\":{},\"id\":\"2c06c696-3499-45d2-8ac6-4cbccca3562e\",\"type\":\"BasicTickFormatter\"},{\"attributes\":{\"bottom\":{\"field\":\"bottom\"},\"fill_alpha\":{\"value\":0.1},\"fill_color\":{\"value\":\"#1f77b4\"},\"left\":{\"field\":\"left\"},\"line_alpha\":{\"value\":0.1},\"line_color\":{\"value\":\"#1f77b4\"},\"right\":{\"field\":\"right\"},\"top\":{\"field\":\"top\"}},\"id\":\"f5bfe76c-f7eb-4174-b42e-5ad0c28c7fc1\",\"type\":\"Quad\"},{\"attributes\":{},\"id\":\"149fe22e-7388-4ee0-a2e9-9ca43db46d6c\",\"type\":\"BasicTickFormatter\"},{\"attributes\":{\"bottom\":{\"field\":\"bottom\"},\"fill_color\":{\"field\":\"fill_color\"},\"left\":{\"field\":\"left\"},\"line_color\":{\"value\":null},\"right\":{\"field\":\"right\"},\"top\":{\"field\":\"top\"}},\"id\":\"7c95aa6a-9c8c-4dd1-bb6d-bde2b4bec747\",\"type\":\"Quad\"},{\"attributes\":{\"formatter\":{\"id\":\"2c06c696-3499-45d2-8ac6-4cbccca3562e\",\"type\":\"BasicTickFormatter\"},\"plot\":{\"id\":\"1cf220ba-c522-4e66-be2e-69c079344f6d\",\"subtype\":\"Figure\",\"type\":\"Plot\"},\"ticker\":{\"id\":\"58e18376-ad83-4290-991a-2f3a687bd4aa\",\"type\":\"BasicTicker\"}},\"id\":\"5ed996ea-d1b1-4ea0-8aea-fe9c4873903f\",\"type\":\"LinearAxis\"},{\"attributes\":{\"callback\":null,\"column_names\":[\"xs\",\"ys\",\"line_color\"],\"data\":{\"line_color\":[\"black\",\"black\",\"black\",\"black\",\"black\",\"black\",\"black\",\"black\",\"black\",\"black\",\"black\",\"black\",\"black\",\"black\",\"black\",\"black\",\"black\",\"black\",\"black\",\"black\",\"black\",\"black\",\"black\",\"black\",\"black\",\"black\",\"black\",\"black\",\"black\",\"black\",\"black\",\"black\",\"black\",\"black\",\"black\",\"black\",\"black\",\"black\",\"black\",\"black\",\"black\",\"black\",\"black\",\"black\",\"black\",\"black\",\"black\",\"black\",\"black\",\"black\",\"black\",\"black\",\"black\",\"black\",\"black\",\"black\",\"black\",\"black\",\"black\",\"black\",\"black\",\"black\",\"black\",\"black\",\"black\",\"black\",\"black\",\"black\",\"black\",\"black\",\"black\",\"black\",\"black\",\"black\",\"black\",\"black\",\"black\",\"black\",\"black\",\"black\",\"black\",\"black\",\"black\",\"black\",\"black\",\"black\",\"black\",\"black\",\"black\",\"black\",\"black\",\"black\",\"black\",\"black\",\"black\",\"black\",\"black\",\"black\",\"black\",\"black\",\"black\",\"black\",\"black\",\"black\",\"black\",\"black\",\"black\",\"black\",\"black\",\"black\",\"black\",\"black\",\"black\",\"black\",\"black\",\"black\",\"black\",\"black\",\"black\",\"black\",\"black\",\"black\",\"black\",\"black\",\"black\",\"black\",\"black\",\"black\",\"black\",\"black\",\"black\",\"black\"],\"xs\":[[135771974,135771974],[135859371,135859371],[135877562,135877562],[136022798,136022798],[136058820,136058820],[136140304,136140304],[135837906,135837906],[135907088,135907088],[135954797,135954797],[136138627,136138627],[136176540,136176540],[136328890,136328890],[136381348,136381348],[136429366,136429366],[136608646,136608646],[136616754,136616754],[136707982,136707982],[135915358,135915358],[135954405,135954405],[135995073,135995073],[135995079,135995079],[136092061,136092061],[136273578,136273578],[136322676,136322676],[136407479,136407479],[136398174,136398174],[136402117,136402117],[136403749,136403749],[136409073,136409073],[136410299,136410299],[136413359,136413359],[136416855,136416855],[136416941,136416941],[136418348,136418348],[136419961,136419961],[136420690,136420690],[136422171,136422171],[136428460,136428460],[136430866,136430866],[136432103,136432103],[136437507,136437507],[136439090,136439090],[136439517,136439517],[136444123,136444123],[136445526,136445526],[136445869,136445869],[136455600,136455600],[136456642,136456642],[136462441,136462441],[136470714,136470714],[136474098,136474098],[136494186,136494186],[136495300,136495300],[136495619,136495619],[136499166,136499166],[136502792,136502792],[136503157,136503157],[136507039,136507039],[136511575,136511575],[136518103,136518103],[136521514,136521514],[136522675,136522675],[136522941,136522941],[136526981,136526981],[136535410,136535410],[136539122,136539122],[136544197,136544197],[136550109,136550109],[136551694,136551694],[136553188,136553188],[136553639,136553639],[136554800,136554800],[136557319,136557319],[136558157,136558157],[136569848,136569848],[136575199,136575199],[136576577,136576577],[136578536,136578536],[136580287,136580287],[136583192,136583192],[136586958,136586958],[136588478,136588478],[136589612,136589612],[136591178,136591178],[136591859,136591859],[136593760,136593760],[136594158,136594158],[136603276,136603276],[136603366,136603366],[136608231,136608231],[136609975,136609975],[136610598,136610598],[136611624,136611624],[136613780,136613780],[136614255,136614255],[136614813,136614813],[136617524,136617524],[136622216,136622216],[136625602,136625602],[136629911,136629911],[136630757,136630757],[136630989,136630989],[136631031,136631031],[136633771,136633771],[136636324,136636324],[136638216,136638216],[136640233,136640233],[136641882,136641882],[136643555,136643555],[136658345,136658345],[136670298,136670298],[136685228,136685228],[136696138,136696138],[136740900,136740900],[136765951,136765951],[136501840,136501840],[136505546,136505546],[136516748,136516748],[136522710,136522710],[136528004,136528004],[136539513,136539513],[136544752,136544752],[136546110,136546110],[136553529,136553529],[136555659,136555659],[136682274,136682274],[136691825,136691825],[136698098,136698098],[136721603,136721603],[136721995,136721995],[136755684,136755684],[136775898,136775898]],\"ys\":[[250,295],[250,295],[250,295],[250,295],[250,295],[250,295],[50,89],[50,89],[50,89],[50,89],[50,89],[50,89],[50,89],[50,89],[50,89],[50,89],[50,89],[350,396],[350,396],[350,396],[350,396],[150,190],[150,190],[150,190],[150,190],[250,294],[250,294],[250,294],[250,294],[250,294],[250,294],[250,294],[250,294],[250,294],[250,294],[250,294],[250,294],[250,294],[250,294],[250,294],[250,294],[250,294],[250,294],[250,294],[250,294],[250,294],[250,294],[250,294],[250,294],[250,294],[250,294],[350,395],[350,395],[350,395],[350,395],[350,395],[350,395],[350,395],[350,395],[350,395],[350,395],[350,395],[350,395],[350,395],[350,395],[350,395],[350,395],[350,395],[350,395],[350,395],[350,395],[350,395],[350,395],[350,395],[350,395],[350,395],[350,395],[350,395],[350,395],[350,395],[350,395],[350,395],[350,395],[350,395],[350,395],[350,395],[350,395],[350,395],[350,395],[350,395],[350,395],[350,395],[350,395],[350,395],[350,395],[350,395],[350,395],[350,395],[350,395],[350,395],[350,395],[350,395],[350,395],[350,395],[350,395],[350,395],[350,395],[350,395],[350,395],[350,395],[350,395],[350,395],[350,395],[350,395],[350,395],[450,498],[450,498],[450,498],[450,498],[450,498],[450,498],[450,498],[450,498],[450,498],[450,498],[450,497],[450,497],[450,497],[450,497],[450,497],[450,497],[450,497]]}},\"id\":\"cd160d91-8b7b-4051-9ca7-f2fe90e33ce8\",\"type\":\"ColumnDataSource\"},{\"attributes\":{\"level\":\"glyph\",\"plot\":{\"id\":\"1cf220ba-c522-4e66-be2e-69c079344f6d\",\"subtype\":\"Figure\",\"type\":\"Plot\"},\"source\":{\"id\":\"85c94f3a-d04d-4ad9-ac27-e07b3ce2816a\",\"type\":\"ColumnDataSource\"},\"text\":{\"field\":\"vals\"},\"text_align\":\"center\",\"text_baseline\":\"middle\",\"text_font_size\":{\"value\":\"8pt\"},\"x\":{\"field\":\"x\"},\"y\":{\"field\":\"y\"}},\"id\":\"a96946d9-d915-4821-9f2e-5d1de04ce97b\",\"type\":\"LabelSet\"},{\"attributes\":{},\"id\":\"c7baee96-cec8-49e8-bf60-812d8e5cbfbd\",\"type\":\"BasicTicker\"},{\"attributes\":{\"dimension\":1,\"plot\":{\"id\":\"1cf220ba-c522-4e66-be2e-69c079344f6d\",\"subtype\":\"Figure\",\"type\":\"Plot\"},\"ticker\":{\"id\":\"c7baee96-cec8-49e8-bf60-812d8e5cbfbd\",\"type\":\"BasicTicker\"}},\"id\":\"861e927e-7142-47cb-a7a0-9c5c7104035a\",\"type\":\"Grid\"},{\"attributes\":{\"bottom_units\":\"screen\",\"fill_alpha\":{\"value\":0.5},\"fill_color\":{\"value\":\"lightgrey\"},\"left_units\":\"screen\",\"level\":\"overlay\",\"line_alpha\":{\"value\":1.0},\"line_color\":{\"value\":\"black\"},\"line_dash\":[4,4],\"line_width\":{\"value\":2},\"plot\":null,\"render_mode\":\"css\",\"right_units\":\"screen\",\"top_units\":\"screen\"},\"id\":\"31860ec3-3ff2-47e6-ac81-7bd618171811\",\"type\":\"BoxAnnotation\"},{\"attributes\":{\"callback\":null,\"column_names\":[\"y\",\"x\",\"vals\"],\"data\":{\"vals\":[\"RAB3GAP1\",\"ZRANB3\",\"R3HDM1\",\"UBXN4\",\"LCT\",\"MCM6\",\"DARS\"],\"x\":[135869057.0,136122878.0,136385961.0,136520911.0,136570082.5,136615621.5,136703738.0],\"y\":[560.0,560.0,560.0,560.0,560.0,560.0,560.0]}},\"id\":\"85c94f3a-d04d-4ad9-ac27-e07b3ce2816a\",\"type\":\"ColumnDataSource\"},{\"attributes\":{\"data_source\":{\"id\":\"e7dead80-f94d-45fd-80ed-eb35509f8981\",\"type\":\"ColumnDataSource\"},\"glyph\":{\"id\":\"7c95aa6a-9c8c-4dd1-bb6d-bde2b4bec747\",\"type\":\"Quad\"},\"hover_glyph\":null,\"nonselection_glyph\":{\"id\":\"f5bfe76c-f7eb-4174-b42e-5ad0c28c7fc1\",\"type\":\"Quad\"},\"selection_glyph\":null},\"id\":\"a8eb2c3e-2472-450a-b4c7-ede0c628eb24\",\"type\":\"GlyphRenderer\"},{\"attributes\":{\"below\":[{\"id\":\"5ed996ea-d1b1-4ea0-8aea-fe9c4873903f\",\"type\":\"LinearAxis\"}],\"left\":[{\"id\":\"c7a90263-2878-44d1-a0ef-df093191fc4b\",\"type\":\"LinearAxis\"}],\"plot_width\":900,\"renderers\":[{\"id\":\"5ed996ea-d1b1-4ea0-8aea-fe9c4873903f\",\"type\":\"LinearAxis\"},{\"id\":\"6dec1128-2feb-4322-910c-86382a6400e3\",\"type\":\"Grid\"},{\"id\":\"c7a90263-2878-44d1-a0ef-df093191fc4b\",\"type\":\"LinearAxis\"},{\"id\":\"861e927e-7142-47cb-a7a0-9c5c7104035a\",\"type\":\"Grid\"},{\"id\":\"31860ec3-3ff2-47e6-ac81-7bd618171811\",\"type\":\"BoxAnnotation\"},{\"id\":\"a8eb2c3e-2472-450a-b4c7-ede0c628eb24\",\"type\":\"GlyphRenderer\"},{\"id\":\"f75f02f0-db41-424e-a678-ddb7b92d3a2a\",\"type\":\"GlyphRenderer\"},{\"id\":\"c609d27d-c48e-4818-ad2d-2e1b5091a351\",\"type\":\"LabelSet\"},{\"id\":\"a797717f-e8d3-4da1-8982-2b565bf268ad\",\"type\":\"GlyphRenderer\"},{\"id\":\"a96946d9-d915-4821-9f2e-5d1de04ce97b\",\"type\":\"LabelSet\"}],\"title\":{\"id\":\"7b8d3f08-3739-4179-b305-1dd065ba766a\",\"type\":\"Title\"},\"tool_events\":{\"id\":\"0e0b5eaa-5a27-4782-b164-67a2cd616602\",\"type\":\"ToolEvents\"},\"toolbar\":{\"id\":\"f0b867a3-b8df-4346-ac56-75cfac2aa67f\",\"type\":\"Toolbar\"},\"toolbar_location\":null,\"x_range\":{\"id\":\"47c7b6f7-c267-4011-aca1-2beb83a7e25c\",\"type\":\"Range1d\"},\"y_range\":{\"id\":\"3ab48b85-06aa-4c60-bdd8-ba94ff773c15\",\"type\":\"Range1d\"}},\"id\":\"1cf220ba-c522-4e66-be2e-69c079344f6d\",\"subtype\":\"Figure\",\"type\":\"Plot\"},{\"attributes\":{\"level\":\"glyph\",\"plot\":{\"id\":\"1cf220ba-c522-4e66-be2e-69c079344f6d\",\"subtype\":\"Figure\",\"type\":\"Plot\"},\"source\":{\"id\":\"0025c756-fbc1-4bfa-92a5-559f8bedc21b\",\"type\":\"ColumnDataSource\"},\"text\":{\"field\":\"vals\"},\"text_font_size\":{\"value\":\"9pt\"},\"text_font_style\":\"bold\",\"x\":{\"field\":\"x\"},\"y\":{\"field\":\"y\"}},\"id\":\"c609d27d-c48e-4818-ad2d-2e1b5091a351\",\"type\":\"LabelSet\"},{\"attributes\":{\"callback\":null,\"end\":136786630,\"start\":135757320},\"id\":\"47c7b6f7-c267-4011-aca1-2beb83a7e25c\",\"type\":\"Range1d\"},{\"attributes\":{\"line_color\":{\"field\":\"line_color\"},\"xs\":{\"field\":\"xs\"},\"ys\":{\"field\":\"ys\"}},\"id\":\"f2d932ac-fd26-45f5-8eb1-c50002010c55\",\"type\":\"MultiLine\"},{\"attributes\":{\"callback\":null,\"column_names\":[\"y\",\"x\",\"vals\"],\"data\":{\"vals\":[\"6_1503\",\"11_765\",\"4_1699\",\"4_911\",\"26_1414\",\"64_1575\",\"10_2206\",\"7_1868\"],\"x\":[135771974,135837906,135915358,136092061,136398174,136494186,136501840,136682274],\"y\":[300.0,94.0,401.0,195.0,299.0,400.0,503.0,502.0]}},\"id\":\"0025c756-fbc1-4bfa-92a5-559f8bedc21b\",\"type\":\"ColumnDataSource\"},{\"attributes\":{\"active_drag\":\"auto\",\"active_scroll\":\"auto\",\"active_tap\":\"auto\",\"tools\":[{\"id\":\"d7ba3bb2-1e12-4c3f-8884-0d367d2c6a60\",\"type\":\"PanTool\"},{\"id\":\"f86029bc-0eba-44ab-b88f-a861b5b6b29a\",\"type\":\"WheelZoomTool\"},{\"id\":\"d10f653d-f193-471e-b21c-b9874c85c9bc\",\"type\":\"BoxZoomTool\"},{\"id\":\"a96606ce-446e-4d2e-b0a5-122dc13827c8\",\"type\":\"SaveTool\"},{\"id\":\"4391e450-a2b2-40fd-a5e0-5087dc4ade14\",\"type\":\"ResetTool\"},{\"id\":\"6a4194b5-370d-46a0-a3e3-1235894724fe\",\"type\":\"HelpTool\"}]},\"id\":\"f0b867a3-b8df-4346-ac56-75cfac2aa67f\",\"type\":\"Toolbar\"},{\"attributes\":{\"data_source\":{\"id\":\"cd160d91-8b7b-4051-9ca7-f2fe90e33ce8\",\"type\":\"ColumnDataSource\"},\"glyph\":{\"id\":\"f2d932ac-fd26-45f5-8eb1-c50002010c55\",\"type\":\"MultiLine\"},\"hover_glyph\":null,\"nonselection_glyph\":{\"id\":\"9a3d1015-3b00-41de-b1ec-7876834d9486\",\"type\":\"MultiLine\"},\"selection_glyph\":null},\"id\":\"f75f02f0-db41-424e-a678-ddb7b92d3a2a\",\"type\":\"GlyphRenderer\"},{\"attributes\":{\"plot\":{\"id\":\"1cf220ba-c522-4e66-be2e-69c079344f6d\",\"subtype\":\"Figure\",\"type\":\"Plot\"}},\"id\":\"6a4194b5-370d-46a0-a3e3-1235894724fe\",\"type\":\"HelpTool\"},{\"attributes\":{\"callback\":null,\"column_names\":[\"right\",\"bottom\",\"top\",\"left\",\"fill_color\"],\"data\":{\"bottom\":[250,50,350,150,250,350,450,450],\"fill_color\":[\"#61c461\",\"#00ff00\",\"#61c461\",\"#00ff00\",\"#61c461\",\"#61c461\",\"#808080\",\"#61c461\"],\"left\":[135771974,135837906,135915358,136092061,136398174,136494186,136501840,136682274],\"right\":[136140304,136707982,135995079,136407479,136474098,136765951,136555659,136775898],\"top\":[295,89,396,190,294,395,498,497]}},\"id\":\"e7dead80-f94d-45fd-80ed-eb35509f8981\",\"type\":\"ColumnDataSource\"},{\"attributes\":{},\"id\":\"58e18376-ad83-4290-991a-2f3a687bd4aa\",\"type\":\"BasicTicker\"},{\"attributes\":{\"callback\":null,\"end\":600},\"id\":\"3ab48b85-06aa-4c60-bdd8-ba94ff773c15\",\"type\":\"Range1d\"},{\"attributes\":{\"bottom\":{\"field\":\"bottom\"},\"fill_alpha\":{\"value\":0.1},\"fill_color\":{\"value\":\"#1f77b4\"},\"left\":{\"field\":\"left\"},\"line_alpha\":{\"value\":0.1},\"line_color\":{\"value\":\"#1f77b4\"},\"right\":{\"field\":\"right\"},\"top\":{\"field\":\"top\"}},\"id\":\"1dd5a95e-2d50-4320-a5c2-87c7ca2865c3\",\"type\":\"Quad\"},{\"attributes\":{\"plot\":{\"id\":\"1cf220ba-c522-4e66-be2e-69c079344f6d\",\"subtype\":\"Figure\",\"type\":\"Plot\"}},\"id\":\"d7ba3bb2-1e12-4c3f-8884-0d367d2c6a60\",\"type\":\"PanTool\"},{\"attributes\":{\"data_source\":{\"id\":\"993931cd-d3dc-4e48-972e-f8b59cf94a1a\",\"type\":\"ColumnDataSource\"},\"glyph\":{\"id\":\"0fd34b30-dd93-494e-9b1c-cf63a1dc7881\",\"type\":\"Quad\"},\"hover_glyph\":null,\"nonselection_glyph\":{\"id\":\"1dd5a95e-2d50-4320-a5c2-87c7ca2865c3\",\"type\":\"Quad\"},\"selection_glyph\":null},\"id\":\"a797717f-e8d3-4da1-8982-2b565bf268ad\",\"type\":\"GlyphRenderer\"},{\"attributes\":{\"plot\":{\"id\":\"1cf220ba-c522-4e66-be2e-69c079344f6d\",\"subtype\":\"Figure\",\"type\":\"Plot\"}},\"id\":\"4391e450-a2b2-40fd-a5e0-5087dc4ade14\",\"type\":\"ResetTool\"},{\"attributes\":{\"plot\":{\"id\":\"1cf220ba-c522-4e66-be2e-69c079344f6d\",\"subtype\":\"Figure\",\"type\":\"Plot\"}},\"id\":\"a96606ce-446e-4d2e-b0a5-122dc13827c8\",\"type\":\"SaveTool\"}],\"root_ids\":[\"1cf220ba-c522-4e66-be2e-69c079344f6d\"]},\"title\":\"Bokeh Application\",\"version\":\"0.12.0\"}};\n",
       "            var render_items = [{\"docid\":\"0af4e325-89b1-4c9e-845f-f7d566ca4f14\",\"elementid\":\"a285eb66-4ff5-40bf-86c5-c604014dc4d8\",\"modelid\":\"1cf220ba-c522-4e66-be2e-69c079344f6d\",\"notebook_comms_target\":\"c36144de-5a1b-4f7f-b99c-07b861529af3\"}];\n",
       "            \n",
       "            Bokeh.embed.embed_items(docs_json, render_items);\n",
       "        });\n",
       "      },\n",
       "      function(Bokeh) {\n",
       "      }\n",
       "    ];\n",
       "  \n",
       "    function run_inline_js() {\n",
       "      for (var i = 0; i < inline_js.length; i++) {\n",
       "        inline_js[i](window.Bokeh);\n",
       "      }\n",
       "    }\n",
       "  \n",
       "    if (window._bokeh_is_loading === 0) {\n",
       "      console.log(\"Bokeh: BokehJS loaded, going straight to plotting\");\n",
       "      run_inline_js();\n",
       "    } else {\n",
       "      load_libs(js_urls, function() {\n",
       "        console.log(\"Bokeh: BokehJS plotting callback run at\", now());\n",
       "        run_inline_js();\n",
       "      });\n",
       "    }\n",
       "  }(this));\n",
       "</script>"
      ]
     },
     "metadata": {},
     "output_type": "display_data"
    },
    {
     "data": {
      "text/html": [
       "<p><code>&lt;Bokeh Notebook handle for <strong>In[3]</strong>&gt;</code></p>"
      ],
      "text/plain": [
       "<bokeh.io._CommsHandle at 0x7f3f0c8fd4d0>"
      ]
     },
     "execution_count": 3,
     "metadata": {},
     "output_type": "execute_result"
    }
   ],
   "source": [
    "lct_plt_obj = dm.superset_yes_no([dm.di_11_765], min_match=0.9)\n",
    "plt = lct_plt_obj.do_plot()\n",
    "show(plt)"
   ]
  },
  {
   "cell_type": "markdown",
   "metadata": {},
   "source": [
    "<div style=\"width:700px\">\n",
    "<p>\n",
    "This plot is an example of a superset plot.  The only criterion for selecting chromosome samples is\n",
    "the expression of the series 11_765.  The series in the plot are ones that are expressed by\n",
    "at least 90% of the 1000 genomes phase 3 chromsome 2 samples that express the series 11_765.\n",
    "</div>"
   ]
  },
  {
   "cell_type": "code",
   "execution_count": 4,
   "metadata": {
    "collapsed": false
   },
   "outputs": [
    {
     "data": {
      "text/html": [
       "<table>\n",
       "<thead><tr><th style=\"text-align:center\">index</th><th style=\"text-align:center\">first</th><th style=\"text-align:center\">length</th><th style=\"text-align:center\">snps</th><th style=\"text-align:center\" colspan=2>alleles</th><th style=\"text-align:center\" colspan=2>matches</th><th style=\"text-align:center\" colspan=2>afr</th><th style=\"text-align:center\" colspan=2>afx</th><th style=\"text-align:center\" colspan=2>amr</th><th style=\"text-align:center\" colspan=2>eas</th><th style=\"text-align:center\" colspan=2>eur</th><th style=\"text-align:center\" colspan=2>sas</th><th style=\"text-align:center\" colspan=2>sax</th></tr></thead>\n",
       "<tr class=\"even\"><td style=\"text-align: right;\">353921</td><td style=\"text-align: right;\">136,501,840</td><td style=\"text-align: right;\">53,819</td><td style=\"text-align: right;\">10</td><td style=\"text-align: right;\">2206</td><td style=\"text-align: right;\">0.35</td><td style=\"text-align: right;\">765</td><td style=\"text-align: right;\">1.00</td><td style=\"text-align: right;\">2</td><td style=\"text-align: right;\">0.01</td><td style=\"text-align: right;\">32</td><td style=\"text-align: right;\">0.67</td><td style=\"text-align: right;\">146</td><td style=\"text-align: right;\">1.38</td><td style=\"text-align: right;\">0</td><td style=\"text-align: right;\">0.00</td><td style=\"text-align: right;\">484</td><td style=\"text-align: right;\">3.15</td><td style=\"text-align: right;\">56</td><td style=\"text-align: right;\">1.01</td><td style=\"text-align: right;\">45</td><td style=\"text-align: right;\">0.48</td></tr>\n",
       "<tr><td style=\"text-align: right;\">354170</td><td style=\"text-align: right;\">136,682,274</td><td style=\"text-align: right;\">93,624</td><td style=\"text-align: right;\">7</td><td style=\"text-align: right;\">1868</td><td style=\"text-align: right;\">0.41</td><td style=\"text-align: right;\">764</td><td style=\"text-align: right;\">1.00</td><td style=\"text-align: right;\">2</td><td style=\"text-align: right;\">0.01</td><td style=\"text-align: right;\">32</td><td style=\"text-align: right;\">0.67</td><td style=\"text-align: right;\">146</td><td style=\"text-align: right;\">1.38</td><td style=\"text-align: right;\">0</td><td style=\"text-align: right;\">0.00</td><td style=\"text-align: right;\">484</td><td style=\"text-align: right;\">3.15</td><td style=\"text-align: right;\">56</td><td style=\"text-align: right;\">1.01</td><td style=\"text-align: right;\">44</td><td style=\"text-align: right;\">0.47</td></tr>\n",
       "<tr class=\"even\"><td style=\"text-align: right;\">353462</td><td style=\"text-align: right;\">135,915,358</td><td style=\"text-align: right;\">79,721</td><td style=\"text-align: right;\">4</td><td style=\"text-align: right;\">1699</td><td style=\"text-align: right;\">0.45</td><td style=\"text-align: right;\">765</td><td style=\"text-align: right;\">1.00</td><td style=\"text-align: right;\">2</td><td style=\"text-align: right;\">0.01</td><td style=\"text-align: right;\">32</td><td style=\"text-align: right;\">0.67</td><td style=\"text-align: right;\">146</td><td style=\"text-align: right;\">1.38</td><td style=\"text-align: right;\">0</td><td style=\"text-align: right;\">0.00</td><td style=\"text-align: right;\">484</td><td style=\"text-align: right;\">3.15</td><td style=\"text-align: right;\">56</td><td style=\"text-align: right;\">1.01</td><td style=\"text-align: right;\">45</td><td style=\"text-align: right;\">0.48</td></tr>\n",
       "<tr><td style=\"text-align: right;\">353901</td><td style=\"text-align: right;\">136,494,186</td><td style=\"text-align: right;\">271,765</td><td style=\"text-align: right;\">64</td><td style=\"text-align: right;\">1575</td><td style=\"text-align: right;\">0.49</td><td style=\"text-align: right;\">765</td><td style=\"text-align: right;\">1.00</td><td style=\"text-align: right;\">2</td><td style=\"text-align: right;\">0.01</td><td style=\"text-align: right;\">32</td><td style=\"text-align: right;\">0.67</td><td style=\"text-align: right;\">146</td><td style=\"text-align: right;\">1.38</td><td style=\"text-align: right;\">0</td><td style=\"text-align: right;\">0.00</td><td style=\"text-align: right;\">484</td><td style=\"text-align: right;\">3.15</td><td style=\"text-align: right;\">56</td><td style=\"text-align: right;\">1.01</td><td style=\"text-align: right;\">45</td><td style=\"text-align: right;\">0.48</td></tr>\n",
       "<tr class=\"even\"><td style=\"text-align: right;\">353283</td><td style=\"text-align: right;\">135,771,974</td><td style=\"text-align: right;\">368,330</td><td style=\"text-align: right;\">6</td><td style=\"text-align: right;\">1503</td><td style=\"text-align: right;\">0.51</td><td style=\"text-align: right;\">765</td><td style=\"text-align: right;\">1.00</td><td style=\"text-align: right;\">2</td><td style=\"text-align: right;\">0.01</td><td style=\"text-align: right;\">32</td><td style=\"text-align: right;\">0.67</td><td style=\"text-align: right;\">146</td><td style=\"text-align: right;\">1.38</td><td style=\"text-align: right;\">0</td><td style=\"text-align: right;\">0.00</td><td style=\"text-align: right;\">484</td><td style=\"text-align: right;\">3.15</td><td style=\"text-align: right;\">56</td><td style=\"text-align: right;\">1.01</td><td style=\"text-align: right;\">45</td><td style=\"text-align: right;\">0.48</td></tr>\n",
       "<tr><td style=\"text-align: right;\">353797</td><td style=\"text-align: right;\">136,398,174</td><td style=\"text-align: right;\">75,924</td><td style=\"text-align: right;\">26</td><td style=\"text-align: right;\">1414</td><td style=\"text-align: right;\">0.54</td><td style=\"text-align: right;\">765</td><td style=\"text-align: right;\">1.00</td><td style=\"text-align: right;\">2</td><td style=\"text-align: right;\">0.01</td><td style=\"text-align: right;\">32</td><td style=\"text-align: right;\">0.67</td><td style=\"text-align: right;\">146</td><td style=\"text-align: right;\">1.38</td><td style=\"text-align: right;\">0</td><td style=\"text-align: right;\">0.00</td><td style=\"text-align: right;\">484</td><td style=\"text-align: right;\">3.15</td><td style=\"text-align: right;\">56</td><td style=\"text-align: right;\">1.01</td><td style=\"text-align: right;\">45</td><td style=\"text-align: right;\">0.48</td></tr>\n",
       "<tr class=\"even\"><td style=\"text-align: right;\">353604</td><td style=\"text-align: right;\">136,092,061</td><td style=\"text-align: right;\">315,418</td><td style=\"text-align: right;\">4</td><td style=\"text-align: right;\">911</td><td style=\"text-align: right;\">0.84</td><td style=\"text-align: right;\">762</td><td style=\"text-align: right;\">1.00</td><td style=\"text-align: right;\">2</td><td style=\"text-align: right;\">0.01</td><td style=\"text-align: right;\">31</td><td style=\"text-align: right;\">0.65</td><td style=\"text-align: right;\">146</td><td style=\"text-align: right;\">1.38</td><td style=\"text-align: right;\">0</td><td style=\"text-align: right;\">0.00</td><td style=\"text-align: right;\">484</td><td style=\"text-align: right;\">3.16</td><td style=\"text-align: right;\">54</td><td style=\"text-align: right;\">0.97</td><td style=\"text-align: right;\">45</td><td style=\"text-align: right;\">0.48</td></tr>\n",
       "<tr><td style=\"text-align: right;\">353380</td><td style=\"text-align: right;\">135,837,906</td><td style=\"text-align: right;\">870,076</td><td style=\"text-align: right;\">11</td><td style=\"text-align: right;\">765</td><td style=\"text-align: right;\">1.00</td><td style=\"text-align: right;\">765</td><td style=\"text-align: right;\">1.00</td><td style=\"text-align: right;\">2</td><td style=\"text-align: right;\">0.01</td><td style=\"text-align: right;\">32</td><td style=\"text-align: right;\">0.67</td><td style=\"text-align: right;\">146</td><td style=\"text-align: right;\">1.38</td><td style=\"text-align: right;\">0</td><td style=\"text-align: right;\">0.00</td><td style=\"text-align: right;\">484</td><td style=\"text-align: right;\">3.15</td><td style=\"text-align: right;\">56</td><td style=\"text-align: right;\">1.01</td><td style=\"text-align: right;\">45</td><td style=\"text-align: right;\">0.48</td></tr>\n",
       "</table>"
      ],
      "text/plain": [
       "<IPython.core.display.HTML object>"
      ]
     },
     "execution_count": 4,
     "metadata": {},
     "output_type": "execute_result"
    }
   ],
   "source": [
    "HTML(lct_plt_obj.get_html())"
   ]
  },
  {
   "cell_type": "markdown",
   "metadata": {},
   "source": [
    "<div style=\"width:700px\">\n",
    "<p>\n",
    "This table shows the plot data for the 11_765 superset plot.  Each matched series has a row\n",
    "in the table.  Series are ordered by the number of 1000 genomes chromosome samples that express\n",
    "the series.  Matches give the number of those samples selected for the plot that express the\n",
    "particular series.\n",
    "<p>\n",
    "For example the top line indicates that the 10 SNP series expressed by 2206 chromosome 2 samples\n",
    "is expressed by all 765 of the chromsomes samples that satisfied this plot's yes no criteria.\n",
    "Those samples were 35% of the total 2206 1000 genomes chromosome 2 samples that express the series\n",
    "10_2206.  Those samples were 100% of the 765 chromosome samples that satisfied this plot's yes no\n",
    "criteria.\n",
    "<p>\n",
    "Number of matches and relative population expression are broken out by population.  Both the\n",
    "African and South Asian populations are divided between those that came from the native area\n",
    "and those who live externally.  The data in this table was the reason for that choice.  The 32\n",
    "instances of 11_765 found in American Southwest and Caribbean African populations are very unlikely\n",
    "to have come from Africa and significantly over represent the frequency of lactase persistence\n",
    "in Afican populations.\n",
    "<p>\n",
    "For calculations of population overexpression chromosome samples that failed the no test\n",
    "were excluded from the population under consideration.  The relative expression calculation\n",
    "is based on a ratio of the samples that matched to the population size minus the samples that\n",
    "failed the no test.\n",
    "</div>"
   ]
  },
  {
   "cell_type": "markdown",
   "metadata": {},
   "source": [
    "<h3>Subset Plots</h3>\n",
    "<div style=\"width:700px\">\n",
    "<p>\n",
    "A subset plot starts with a test sample set and identifies series that are expressed by some\n",
    "subset of that sample set.  The samples that express each of the series in the result set\n",
    "must be a subset of the samples in the test set up to some match criterion.\n",
    "Generally, a 90% match criterion was used for these plots.\n",
    "</div>"
   ]
  },
  {
   "cell_type": "code",
   "execution_count": 5,
   "metadata": {
    "collapsed": false,
    "scrolled": false
   },
   "outputs": [
    {
     "data": {
      "text/html": [
       "\n",
       "\n",
       "    <div class=\"bk-root\">\n",
       "        <div class=\"plotdiv\" id=\"eea1334d-3c74-4e2c-ade1-1deb03e1d271\"></div>\n",
       "    </div>\n",
       "<script type=\"text/javascript\">\n",
       "  \n",
       "  (function(global) {\n",
       "    function now() {\n",
       "      return new Date();\n",
       "    }\n",
       "  \n",
       "    if (typeof (window._bokeh_onload_callbacks) === \"undefined\") {\n",
       "      window._bokeh_onload_callbacks = [];\n",
       "    }\n",
       "  \n",
       "    function run_callbacks() {\n",
       "      window._bokeh_onload_callbacks.forEach(function(callback) { callback() });\n",
       "      delete window._bokeh_onload_callbacks\n",
       "      console.info(\"Bokeh: all callbacks have finished\");\n",
       "    }\n",
       "  \n",
       "    function load_libs(js_urls, callback) {\n",
       "      window._bokeh_onload_callbacks.push(callback);\n",
       "      if (window._bokeh_is_loading > 0) {\n",
       "        console.log(\"Bokeh: BokehJS is being loaded, scheduling callback at\", now());\n",
       "        return null;\n",
       "      }\n",
       "      if (js_urls == null || js_urls.length === 0) {\n",
       "        run_callbacks();\n",
       "        return null;\n",
       "      }\n",
       "      console.log(\"Bokeh: BokehJS not loaded, scheduling load and callback at\", now());\n",
       "      window._bokeh_is_loading = js_urls.length;\n",
       "      for (var i = 0; i < js_urls.length; i++) {\n",
       "        var url = js_urls[i];\n",
       "        var s = document.createElement('script');\n",
       "        s.src = url;\n",
       "        s.async = false;\n",
       "        s.onreadystatechange = s.onload = function() {\n",
       "          window._bokeh_is_loading--;\n",
       "          if (window._bokeh_is_loading === 0) {\n",
       "            console.log(\"Bokeh: all BokehJS libraries loaded\");\n",
       "            run_callbacks()\n",
       "          }\n",
       "        };\n",
       "        s.onerror = function() {\n",
       "          console.warn(\"failed to load library \" + url);\n",
       "        };\n",
       "        console.log(\"Bokeh: injecting script tag for BokehJS library: \", url);\n",
       "        document.getElementsByTagName(\"head\")[0].appendChild(s);\n",
       "      }\n",
       "    };var element = document.getElementById(\"eea1334d-3c74-4e2c-ade1-1deb03e1d271\");\n",
       "    if (element == null) {\n",
       "      console.log(\"Bokeh: ERROR: autoload.js configured with elementid 'eea1334d-3c74-4e2c-ade1-1deb03e1d271' but no matching script tag was found. \")\n",
       "      return false;\n",
       "    }\n",
       "  \n",
       "    var js_urls = [];\n",
       "  \n",
       "    var inline_js = [\n",
       "      function(Bokeh) {\n",
       "        Bokeh.$(function() {\n",
       "            var docs_json = {\"6647b109-9f11-4070-86db-13b9c392d0f6\":{\"roots\":{\"references\":[{\"attributes\":{\"dimension\":1,\"plot\":{\"id\":\"23027a09-417b-4ff2-9fc4-d121479fda92\",\"subtype\":\"Figure\",\"type\":\"Plot\"},\"ticker\":{\"id\":\"71eb9d1d-bc52-4984-83c0-3cf10118fdb8\",\"type\":\"BasicTicker\"}},\"id\":\"9a02e661-6d8a-4809-911c-54025f101e1b\",\"type\":\"Grid\"},{\"attributes\":{},\"id\":\"e365262b-cd82-4aaa-8183-d0c9eaca8354\",\"type\":\"BasicTicker\"},{\"attributes\":{\"line_color\":{\"field\":\"line_color\"},\"xs\":{\"field\":\"xs\"},\"ys\":{\"field\":\"ys\"}},\"id\":\"7c0f9c96-0a79-41e0-85d1-a22875da7967\",\"type\":\"MultiLine\"},{\"attributes\":{},\"id\":\"71eb9d1d-bc52-4984-83c0-3cf10118fdb8\",\"type\":\"BasicTicker\"},{\"attributes\":{\"callback\":null,\"column_names\":[\"y\",\"x\",\"vals\"],\"data\":{\"vals\":[\"193_843\",\"14_39\",\"6_19\",\"19_27\",\"7_90\",\"29_68\",\"4_91\",\"14_57\",\"8_267\",\"4_815\",\"10_25\",\"7_79\",\"9_29\",\"6_43\",\"4_38\",\"5_16\",\"15_27\",\"5_26\",\"6_946\",\"4_416\",\"6_713\",\"8_17\",\"6_19\",\"4_45\",\"4_27\",\"15_59\",\"4_49\",\"5_28\",\"15_25\",\"20_56\"],\"x\":[135759095,135763383,135765502,135770895,135772482,135775651,135789764,135814490,135818487,135839805,135840292,135846793,135865015,135884166,135894943,135899723,135909151,135921205,135964764,135977595,135989333,136013433,136037384,136133578,136288733,136404524,136405656,136568458,136595044,136654760],\"y\":[2395.0,1168.0,262.0,665.0,1875.0,1673.0,1976.0,1571.0,2085.0,2295.0,464.0,1774.0,966.0,1269.0,1068.0,61.0,765.0,565.0,2496.0,2189.0,2293.0,161.0,362.0,1369.0,865.0,1672.0,1470.0,965.0,564.0,1571.0]}},\"id\":\"ef7d1627-18c5-40ee-95bb-27df8ffde843\",\"type\":\"ColumnDataSource\"},{\"attributes\":{\"plot\":{\"id\":\"23027a09-417b-4ff2-9fc4-d121479fda92\",\"subtype\":\"Figure\",\"type\":\"Plot\"}},\"id\":\"c6c73198-d827-4702-b58f-808bf0eb2e3d\",\"type\":\"HelpTool\"},{\"attributes\":{},\"id\":\"0570c1ae-42f5-45f1-a816-d82422997005\",\"type\":\"BasicTickFormatter\"},{\"attributes\":{\"plot\":{\"id\":\"23027a09-417b-4ff2-9fc4-d121479fda92\",\"subtype\":\"Figure\",\"type\":\"Plot\"},\"ticker\":{\"id\":\"e365262b-cd82-4aaa-8183-d0c9eaca8354\",\"type\":\"BasicTicker\"}},\"id\":\"ddc25952-1851-4297-b484-8602dcb03028\",\"type\":\"Grid\"},{\"attributes\":{\"callback\":null,\"end\":2600},\"id\":\"fa9ffbc7-1420-4804-8db5-3dad7381a6a3\",\"type\":\"Range1d\"},{\"attributes\":{\"formatter\":{\"id\":\"0570c1ae-42f5-45f1-a816-d82422997005\",\"type\":\"BasicTickFormatter\"},\"plot\":{\"id\":\"23027a09-417b-4ff2-9fc4-d121479fda92\",\"subtype\":\"Figure\",\"type\":\"Plot\"},\"ticker\":{\"id\":\"e365262b-cd82-4aaa-8183-d0c9eaca8354\",\"type\":\"BasicTicker\"}},\"id\":\"c9f6bbf0-0760-418e-86de-816eb7e4953d\",\"type\":\"LinearAxis\"},{\"attributes\":{\"callback\":null,\"column_names\":[\"y\",\"x\",\"vals\"],\"data\":{\"vals\":[\"RAB3GAP1\",\"ZRANB3\",\"R3HDM1\",\"UBXN4\",\"LCT\",\"MCM6\",\"DARS\"],\"x\":[135869057.0,136122878.0,136385961.0,136520911.0,136570082.5,136615621.5,136703738.0],\"y\":[2560.0,2560.0,2560.0,2560.0,2560.0,2560.0,2560.0]}},\"id\":\"fa7db1aa-adf5-4433-99e4-6e1bf2218cf4\",\"type\":\"ColumnDataSource\"},{\"attributes\":{\"data_source\":{\"id\":\"91ec3c9f-1d90-4f19-b358-1beecf2edfe9\",\"type\":\"ColumnDataSource\"},\"glyph\":{\"id\":\"91534822-a5b2-45d8-859d-f932ba461104\",\"type\":\"Quad\"},\"hover_glyph\":null,\"nonselection_glyph\":{\"id\":\"d1a373a5-ac51-484c-8edc-8e27ccb00244\",\"type\":\"Quad\"},\"selection_glyph\":null},\"id\":\"c01d13d1-3650-44b7-9eba-1f87ee802180\",\"type\":\"GlyphRenderer\"},{\"attributes\":{\"plot\":{\"id\":\"23027a09-417b-4ff2-9fc4-d121479fda92\",\"subtype\":\"Figure\",\"type\":\"Plot\"}},\"id\":\"2b25f3f0-6c7f-46ee-b795-3868d3fdf1a6\",\"type\":\"WheelZoomTool\"},{\"attributes\":{\"bottom\":{\"field\":\"bottom\"},\"fill_alpha\":{\"value\":0.1},\"fill_color\":{\"value\":\"#1f77b4\"},\"left\":{\"field\":\"left\"},\"line_alpha\":{\"value\":0.1},\"line_color\":{\"value\":\"#1f77b4\"},\"right\":{\"field\":\"right\"},\"top\":{\"field\":\"top\"}},\"id\":\"d1a373a5-ac51-484c-8edc-8e27ccb00244\",\"type\":\"Quad\"},{\"attributes\":{\"bottom\":{\"field\":\"bottom\"},\"fill_color\":{\"field\":\"fill_color\"},\"left\":{\"field\":\"left\"},\"line_color\":{\"value\":null},\"right\":{\"field\":\"right\"},\"top\":{\"field\":\"top\"}},\"id\":\"91534822-a5b2-45d8-859d-f932ba461104\",\"type\":\"Quad\"},{\"attributes\":{\"data_source\":{\"id\":\"138a2230-ed1c-48cb-b345-57cb0f61e646\",\"type\":\"ColumnDataSource\"},\"glyph\":{\"id\":\"7c0f9c96-0a79-41e0-85d1-a22875da7967\",\"type\":\"MultiLine\"},\"hover_glyph\":null,\"nonselection_glyph\":{\"id\":\"87b4d805-261d-4a07-adf4-cb0d22d21aba\",\"type\":\"MultiLine\"},\"selection_glyph\":null},\"id\":\"03d8572e-7c06-44b0-8412-d34cfc09873a\",\"type\":\"GlyphRenderer\"},{\"attributes\":{\"data_source\":{\"id\":\"49855d45-8361-4b1a-abd1-70ff3e8f2045\",\"type\":\"ColumnDataSource\"},\"glyph\":{\"id\":\"1b6ffb3d-3c74-41f0-8963-8478da07cfe1\",\"type\":\"Quad\"},\"hover_glyph\":null,\"nonselection_glyph\":{\"id\":\"4fd22539-3a7e-4e06-a92e-0b4bd76e8d65\",\"type\":\"Quad\"},\"selection_glyph\":null},\"id\":\"685319c4-a988-4200-ac83-9a10214d50c4\",\"type\":\"GlyphRenderer\"},{\"attributes\":{\"bottom\":{\"field\":\"bottom\"},\"fill_alpha\":{\"value\":0.1},\"fill_color\":{\"value\":\"#1f77b4\"},\"left\":{\"field\":\"left\"},\"line_alpha\":{\"value\":0.1},\"line_color\":{\"value\":\"#1f77b4\"},\"right\":{\"field\":\"right\"},\"top\":{\"field\":\"top\"}},\"id\":\"4fd22539-3a7e-4e06-a92e-0b4bd76e8d65\",\"type\":\"Quad\"},{\"attributes\":{\"below\":[{\"id\":\"c9f6bbf0-0760-418e-86de-816eb7e4953d\",\"type\":\"LinearAxis\"}],\"left\":[{\"id\":\"f58f9a22-685c-4460-aaf6-7c5b1e7bc6ff\",\"type\":\"LinearAxis\"}],\"plot_height\":2600,\"plot_width\":900,\"renderers\":[{\"id\":\"c9f6bbf0-0760-418e-86de-816eb7e4953d\",\"type\":\"LinearAxis\"},{\"id\":\"ddc25952-1851-4297-b484-8602dcb03028\",\"type\":\"Grid\"},{\"id\":\"f58f9a22-685c-4460-aaf6-7c5b1e7bc6ff\",\"type\":\"LinearAxis\"},{\"id\":\"9a02e661-6d8a-4809-911c-54025f101e1b\",\"type\":\"Grid\"},{\"id\":\"fd7ad1e0-99de-47b4-a9d1-e93d994dd27c\",\"type\":\"BoxAnnotation\"},{\"id\":\"c01d13d1-3650-44b7-9eba-1f87ee802180\",\"type\":\"GlyphRenderer\"},{\"id\":\"03d8572e-7c06-44b0-8412-d34cfc09873a\",\"type\":\"GlyphRenderer\"},{\"id\":\"a14f8d7e-ec12-4212-82e5-d319062a3198\",\"type\":\"LabelSet\"},{\"id\":\"685319c4-a988-4200-ac83-9a10214d50c4\",\"type\":\"GlyphRenderer\"},{\"id\":\"6ff1e2b0-de70-4992-9470-148e15ed040f\",\"type\":\"LabelSet\"}],\"title\":{\"id\":\"a2c80fa2-cc55-4040-87a4-434a9fea12cd\",\"type\":\"Title\"},\"tool_events\":{\"id\":\"69378e0b-9f52-40d6-964f-079fd10f5a93\",\"type\":\"ToolEvents\"},\"toolbar\":{\"id\":\"6c9b03d2-cb1f-402c-a781-cc7a4022edbc\",\"type\":\"Toolbar\"},\"toolbar_location\":null,\"x_range\":{\"id\":\"05c06593-9eae-4fcf-b42f-46bc0e17e849\",\"type\":\"Range1d\"},\"y_range\":{\"id\":\"fa9ffbc7-1420-4804-8db5-3dad7381a6a3\",\"type\":\"Range1d\"}},\"id\":\"23027a09-417b-4ff2-9fc4-d121479fda92\",\"subtype\":\"Figure\",\"type\":\"Plot\"},{\"attributes\":{},\"id\":\"69378e0b-9f52-40d6-964f-079fd10f5a93\",\"type\":\"ToolEvents\"},{\"attributes\":{\"plot\":null,\"text\":null},\"id\":\"a2c80fa2-cc55-4040-87a4-434a9fea12cd\",\"type\":\"Title\"},{\"attributes\":{\"plot\":{\"id\":\"23027a09-417b-4ff2-9fc4-d121479fda92\",\"subtype\":\"Figure\",\"type\":\"Plot\"}},\"id\":\"a5f83038-800f-48aa-8008-f84f11253f87\",\"type\":\"PanTool\"},{\"attributes\":{\"bottom_units\":\"screen\",\"fill_alpha\":{\"value\":0.5},\"fill_color\":{\"value\":\"lightgrey\"},\"left_units\":\"screen\",\"level\":\"overlay\",\"line_alpha\":{\"value\":1.0},\"line_color\":{\"value\":\"black\"},\"line_dash\":[4,4],\"line_width\":{\"value\":2},\"plot\":null,\"render_mode\":\"css\",\"right_units\":\"screen\",\"top_units\":\"screen\"},\"id\":\"fd7ad1e0-99de-47b4-a9d1-e93d994dd27c\",\"type\":\"BoxAnnotation\"},{\"attributes\":{\"callback\":null,\"column_names\":[\"xs\",\"ys\",\"line_color\"],\"data\":{\"line_color\":[\"black\",\"black\",\"black\",\"black\",\"black\",\"black\",\"black\",\"black\",\"black\",\"black\",\"black\",\"black\",\"black\",\"black\",\"black\",\"black\",\"black\",\"black\",\"black\",\"black\",\"black\",\"black\",\"black\",\"black\",\"black\",\"black\",\"black\",\"black\",\"black\",\"black\",\"black\",\"black\",\"black\",\"black\",\"black\",\"black\",\"black\",\"black\",\"black\",\"black\",\"black\",\"black\",\"black\",\"black\",\"black\",\"black\",\"black\",\"black\",\"black\",\"black\",\"black\",\"black\",\"black\",\"black\",\"black\",\"black\",\"black\",\"black\",\"black\",\"black\",\"black\",\"black\",\"black\",\"black\",\"black\",\"black\",\"black\",\"black\",\"black\",\"black\",\"black\",\"black\",\"black\",\"black\",\"black\",\"black\",\"black\",\"black\",\"black\",\"black\",\"black\",\"black\",\"black\",\"black\",\"black\",\"black\",\"black\",\"black\",\"black\",\"black\",\"black\",\"black\",\"black\",\"black\",\"black\",\"black\",\"black\",\"black\",\"black\",\"black\",\"black\",\"black\",\"black\",\"black\",\"black\",\"black\",\"black\",\"black\",\"black\",\"black\",\"black\",\"black\",\"black\",\"black\",\"black\",\"black\",\"black\",\"black\",\"black\",\"black\",\"black\",\"black\",\"black\",\"black\",\"black\",\"black\",\"black\",\"black\",\"black\",\"black\",\"black\",\"black\",\"black\",\"black\",\"black\",\"black\",\"black\",\"black\",\"black\",\"black\",\"black\",\"black\",\"black\",\"black\",\"black\",\"black\",\"black\",\"black\",\"black\",\"black\",\"black\",\"black\",\"black\",\"black\",\"black\",\"black\",\"black\",\"black\",\"black\",\"black\",\"black\",\"black\",\"black\",\"black\",\"black\",\"black\",\"black\",\"black\",\"black\",\"black\",\"black\",\"black\",\"black\",\"black\",\"black\",\"black\",\"black\",\"black\",\"black\",\"black\",\"black\",\"black\",\"black\",\"black\",\"black\",\"black\",\"black\",\"black\",\"black\",\"black\",\"black\",\"black\",\"black\",\"black\",\"black\",\"black\",\"black\",\"black\",\"black\",\"black\",\"black\",\"black\",\"black\",\"black\",\"black\",\"black\",\"black\",\"black\",\"black\",\"black\",\"black\",\"black\",\"black\",\"black\",\"black\",\"black\",\"black\",\"black\",\"black\",\"black\",\"black\",\"black\",\"black\",\"black\",\"black\",\"black\",\"black\",\"black\",\"black\",\"black\",\"black\",\"black\",\"black\",\"black\",\"black\",\"black\",\"black\",\"black\",\"black\",\"black\",\"black\",\"black\",\"black\",\"black\",\"black\",\"black\",\"black\",\"black\",\"black\",\"black\",\"black\",\"black\",\"black\",\"black\",\"black\",\"black\",\"black\",\"black\",\"black\",\"black\",\"black\",\"black\",\"black\",\"black\",\"black\",\"black\",\"black\",\"black\",\"black\",\"black\",\"black\",\"black\",\"black\",\"black\",\"black\",\"black\",\"black\",\"black\",\"black\",\"black\",\"black\",\"black\",\"black\",\"black\",\"black\",\"black\",\"black\",\"black\",\"black\",\"black\",\"black\",\"black\",\"black\",\"black\",\"black\",\"black\",\"black\",\"black\",\"black\",\"black\",\"black\",\"black\",\"black\",\"black\",\"black\",\"black\",\"black\",\"black\",\"black\",\"black\",\"black\",\"black\",\"black\",\"black\",\"black\",\"black\",\"black\",\"black\",\"black\",\"black\",\"black\",\"black\",\"black\",\"black\",\"black\",\"black\",\"black\",\"black\",\"black\",\"black\",\"black\",\"black\",\"black\",\"black\",\"black\",\"black\",\"black\",\"black\",\"black\",\"black\",\"black\",\"black\",\"black\",\"black\",\"black\",\"black\",\"black\",\"black\",\"black\",\"black\",\"black\",\"black\",\"black\",\"black\",\"black\",\"black\",\"black\",\"black\",\"black\",\"black\",\"black\",\"black\",\"black\",\"black\",\"black\",\"black\",\"black\",\"black\",\"black\",\"black\",\"black\",\"black\",\"black\",\"black\",\"black\",\"black\",\"black\",\"black\",\"black\",\"black\",\"black\",\"black\",\"black\",\"black\",\"black\",\"black\",\"black\",\"black\",\"black\",\"black\",\"black\",\"black\",\"black\",\"black\",\"black\",\"black\",\"black\",\"black\",\"black\",\"black\",\"black\",\"black\",\"black\",\"black\",\"black\",\"black\",\"black\",\"black\",\"black\",\"black\",\"black\",\"black\",\"black\",\"black\",\"black\",\"black\",\"black\",\"black\",\"black\",\"black\",\"black\",\"black\",\"black\",\"black\",\"black\",\"black\",\"black\",\"black\",\"black\",\"black\",\"black\",\"black\",\"black\",\"black\",\"black\",\"black\",\"black\",\"black\",\"black\",\"black\",\"black\",\"black\",\"black\",\"black\",\"black\",\"black\",\"black\",\"black\",\"black\",\"black\",\"black\",\"black\",\"black\",\"black\",\"black\",\"black\"],\"xs\":[[135759095,135759095],[135767882,135767882],[135772049,135772049],[135773449,135773449],[135775786,135775786],[135776584,135776584],[135778239,135778239],[135781035,135781035],[135796302,135796302],[135803806,135803806],[135809572,135809572],[135812974,135812974],[135823042,135823042],[135825074,135825074],[135833521,135833521],[135851941,135851941],[135853900,135853900],[135854901,135854901],[135861310,135861310],[135866182,135866182],[135876308,135876308],[135887893,135887893],[135890608,135890608],[135899021,135899021],[135900539,135900539],[135912255,135912255],[135915414,135915414],[135918681,135918681],[135938999,135938999],[135946762,135946762],[135949064,135949064],[135949065,135949065],[135950240,135950240],[135954501,135954501],[135958940,135958940],[135960011,135960011],[135964572,135964572],[135971806,135971806],[135975598,135975598],[135978637,135978637],[135978792,135978792],[135980802,135980802],[135981130,135981130],[135984068,135984068],[135986636,135986636],[135987163,135987163],[135988186,135988186],[135992038,135992038],[135995885,135995885],[135996353,135996353],[135997275,135997275],[135998352,135998352],[135999189,135999189],[135999758,135999758],[136003597,136003597],[136007338,136007338],[136007529,136007529],[136009326,136009326],[136012313,136012313],[136019560,136019560],[136021007,136021007],[136027748,136027748],[136027809,136027809],[136031318,136031318],[136031551,136031551],[136034837,136034837],[136035510,136035510],[136042064,136042064],[136043293,136043293],[136045826,136045826],[136049992,136049992],[136052318,136052318],[136052770,136052770],[136053195,136053195],[136053599,136053599],[136055139,136055139],[136057643,136057643],[136060102,136060102],[136062586,136062586],[136062749,136062749],[136069870,136069870],[136070441,136070441],[136072754,136072754],[136074672,136074672],[136076275,136076275],[136081038,136081038],[136084661,136084661],[136085367,136085367],[136086897,136086897],[136088431,136088431],[136092485,136092485],[136093253,136093253],[136094478,136094478],[136102064,136102064],[136105186,136105186],[136108385,136108385],[136109851,136109851],[136112697,136112697],[136114228,136114228],[136119133,136119133],[136120174,136120174],[136127216,136127216],[136128254,136128254],[136131744,136131744],[136133109,136133109],[136136279,136136279],[136142490,136142490],[136145192,136145192],[136146053,136146053],[136146369,136146369],[136149565,136149565],[136149927,136149927],[136151774,136151774],[136154364,136154364],[136157752,136157752],[136158243,136158243],[136158644,136158644],[136158946,136158946],[136159843,136159843],[136160751,136160751],[136163870,136163870],[136168686,136168686],[136171386,136171386],[136172024,136172024],[136172820,136172820],[136172853,136172853],[136175034,136175034],[136176104,136176104],[136178761,136178761],[136180917,136180917],[136182160,136182160],[136182355,136182355],[136185950,136185950],[136188300,136188300],[136188480,136188480],[136188575,136188575],[136191286,136191286],[136191661,136191661],[136193839,136193839],[136197756,136197756],[136198645,136198645],[136201320,136201320],[136202976,136202976],[136203038,136203038],[136208730,136208730],[136211792,136211792],[136213050,136213050],[136213287,136213287],[136222634,136222634],[136225101,136225101],[136227710,136227710],[136228150,136228150],[136229697,136229697],[136232100,136232100],[136237994,136237994],[136249777,136249777],[136253514,136253514],[136254660,136254660],[136258254,136258254],[136262412,136262412],[136263071,136263071],[136263450,136263450],[136266335,136266335],[136268788,136268788],[136274236,136274236],[136276238,136276238],[136277664,136277664],[136283916,136283916],[136284779,136284779],[136287555,136287555],[136298035,136298035],[136300554,136300554],[136308555,136308555],[136309552,136309552],[136309779,136309779],[136310924,136310924],[136311867,136311867],[136312909,136312909],[136315932,136315932],[136321197,136321197],[136331435,136331435],[136337874,136337874],[136339552,136339552],[136340725,136340725],[136345038,136345038],[136349891,136349891],[136356227,136356227],[136366433,136366433],[136380723,136380723],[136382681,136382681],[136385683,136385683],[136386726,136386726],[136387299,136387299],[135763383,135763383],[135808469,135808469],[135812772,135812772],[135851258,135851258],[135879619,135879619],[135991227,135991227],[136086946,136086946],[136121658,136121658],[136268330,136268330],[136288403,136288403],[136327370,136327370],[136354915,136354915],[136377414,136377414],[136413708,136413708],[135765502,135765502],[135798070,135798070],[135888323,135888323],[135914679,135914679],[136236631,136236631],[136495203,136495203],[135770895,135770895],[135788761,135788761],[135914028,135914028],[135932117,135932117],[135941867,135941867],[136031650,136031650],[136052378,136052378],[136054898,136054898],[136072720,136072720],[136189373,136189373],[136199819,136199819],[136243868,136243868],[136250379,136250379],[136308156,136308156],[136356644,136356644],[136356780,136356780],[136378599,136378599],[136460006,136460006],[136472859,136472859],[135772482,135772482],[135793088,135793088],[135864263,135864263],[135968122,135968122],[136133347,136133347],[136195838,136195838],[136297530,136297530],[135775651,135775651],[135777732,135777732],[135779145,135779145],[135825162,135825162],[135853387,135853387],[135886701,135886701],[135901746,135901746],[135920793,135920793],[135924107,135924107],[135951948,135951948],[135953149,135953149],[135996950,135996950],[136031640,136031640],[136063883,136063883],[136088033,136088033],[136101810,136101810],[136120597,136120597],[136121955,136121955],[136133339,136133339],[136136019,136136019],[136146141,136146141],[136156284,136156284],[136170586,136170586],[136206965,136206965],[136208220,136208220],[136295474,136295474],[136313322,136313322],[136318299,136318299],[136386433,136386433],[135789764,135789764],[136270980,136270980],[136284018,136284018],[136361452,136361452],[135814490,135814490],[135914369,135914369],[136019085,136019085],[136066551,136066551],[136075959,136075959],[136168055,136168055],[136288529,136288529],[136363110,136363110],[136430243,136430243],[136456281,136456281],[136467920,136467920],[136470204,136470204],[136509047,136509047],[136526302,136526302],[135818487,135818487],[136048649,136048649],[136107286,136107286],[136127914,136127914],[136130497,136130497],[136268096,136268096],[136281880,136281880],[136289565,136289565],[135839805,135839805],[135866750,135866750],[135886744,135886744],[135924467,135924467],[135840292,135840292],[136117074,136117074],[136132205,136132205],[136143283,136143283],[136198550,136198550],[136231996,136231996],[136241393,136241393],[136245212,136245212],[136274821,136274821],[136297937,136297937],[135846793,135846793],[135864147,135864147],[135917251,135917251],[136122447,136122447],[136125763,136125763],[136139642,136139642],[136301292,136301292],[135865015,135865015],[135943870,135943870],[136009017,136009017],[136050001,136050001],[136069615,136069615],[136106501,136106501],[136291872,136291872],[136320044,136320044],[136359190,136359190],[135884166,135884166],[135890035,135890035],[135891704,135891704],[136204156,136204156],[136255174,136255174],[136383923,136383923],[135894943,135894943],[135904380,135904380],[135957184,135957184],[136374009,136374009],[135899723,135899723],[136011168,136011168],[136073238,136073238],[136257136,136257136],[136361863,136361863],[135909151,135909151],[135936211,135936211],[135941821,135941821],[135965619,135965619],[135989582,135989582],[136036308,136036308],[136147135,136147135],[136205718,136205718],[136240829,136240829],[136430802,136430802],[136480836,136480836],[136557544,136557544],[136649683,136649683],[136711179,136711179],[136743819,136743819],[135921205,135921205],[136019254,136019254],[136193596,136193596],[136212052,136212052],[136359940,136359940],[135964764,135964764],[135964765,135964765],[136099127,136099127],[136099650,136099650],[136100705,136100705],[136101132,136101132],[135977595,135977595],[136046086,136046086],[136100680,136100680],[136283799,136283799],[135989333,135989333],[136000304,136000304],[136030519,136030519],[136034836,136034836],[136125165,136125165],[136264631,136264631],[136013433,136013433],[136030238,136030238],[136057748,136057748],[136081967,136081967],[136195513,136195513],[136222413,136222413],[136290856,136290856],[136309466,136309466],[136037384,136037384],[136127320,136127320],[136179258,136179258],[136186301,136186301],[136276058,136276058],[136351327,136351327],[136133578,136133578],[136145422,136145422],[136150044,136150044],[136417202,136417202],[136288733,136288733],[136319062,136319062],[136324471,136324471],[136427580,136427580],[136404524,136404524],[136412395,136412395],[136422134,136422134],[136426688,136426688],[136426690,136426690],[136426692,136426692],[136446152,136446152],[136461620,136461620],[136481405,136481405],[136493913,136493913],[136498218,136498218],[136509470,136509470],[136523057,136523057],[136544108,136544108],[136554557,136554557],[136405656,136405656],[136480944,136480944],[136493424,136493424],[136493649,136493649],[136568458,136568458],[136573410,136573410],[136580950,136580950],[136586359,136586359],[136591308,136591308],[136595044,136595044],[136596592,136596592],[136598550,136598550],[136602293,136602293],[136602384,136602384],[136618869,136618869],[136619799,136619799],[136621573,136621573],[136624897,136624897],[136626115,136626115],[136628525,136628525],[136629839,136629839],[136630698,136630698],[136636801,136636801],[136639556,136639556],[136654760,136654760],[136660234,136660234],[136666899,136666899],[136666900,136666900],[136678320,136678320],[136684951,136684951],[136702944,136702944],[136717522,136717522],[136719684,136719684],[136726822,136726822],[136728353,136728353],[136741501,136741501],[136750334,136750334],[136755124,136755124],[136758216,136758216],[136765773,136765773],[136766165,136766165],[136766570,136766570],[136766635,136766635],[136770767,136770767]],\"ys\":[[2350,2390],[2350,2390],[2350,2390],[2350,2390],[2350,2390],[2350,2390],[2350,2390],[2350,2390],[2350,2390],[2350,2390],[2350,2390],[2350,2390],[2350,2390],[2350,2390],[2350,2390],[2350,2390],[2350,2390],[2350,2390],[2350,2390],[2350,2390],[2350,2390],[2350,2390],[2350,2390],[2350,2390],[2350,2390],[2350,2390],[2350,2390],[2350,2390],[2350,2390],[2350,2390],[2350,2390],[2350,2390],[2350,2390],[2350,2390],[2350,2390],[2350,2390],[2350,2390],[2350,2390],[2350,2390],[2350,2390],[2350,2390],[2350,2390],[2350,2390],[2350,2390],[2350,2390],[2350,2390],[2350,2390],[2350,2390],[2350,2390],[2350,2390],[2350,2390],[2350,2390],[2350,2390],[2350,2390],[2350,2390],[2350,2390],[2350,2390],[2350,2390],[2350,2390],[2350,2390],[2350,2390],[2350,2390],[2350,2390],[2350,2390],[2350,2390],[2350,2390],[2350,2390],[2350,2390],[2350,2390],[2350,2390],[2350,2390],[2350,2390],[2350,2390],[2350,2390],[2350,2390],[2350,2390],[2350,2390],[2350,2390],[2350,2390],[2350,2390],[2350,2390],[2350,2390],[2350,2390],[2350,2390],[2350,2390],[2350,2390],[2350,2390],[2350,2390],[2350,2390],[2350,2390],[2350,2390],[2350,2390],[2350,2390],[2350,2390],[2350,2390],[2350,2390],[2350,2390],[2350,2390],[2350,2390],[2350,2390],[2350,2390],[2350,2390],[2350,2390],[2350,2390],[2350,2390],[2350,2390],[2350,2390],[2350,2390],[2350,2390],[2350,2390],[2350,2390],[2350,2390],[2350,2390],[2350,2390],[2350,2390],[2350,2390],[2350,2390],[2350,2390],[2350,2390],[2350,2390],[2350,2390],[2350,2390],[2350,2390],[2350,2390],[2350,2390],[2350,2390],[2350,2390],[2350,2390],[2350,2390],[2350,2390],[2350,2390],[2350,2390],[2350,2390],[2350,2390],[2350,2390],[2350,2390],[2350,2390],[2350,2390],[2350,2390],[2350,2390],[2350,2390],[2350,2390],[2350,2390],[2350,2390],[2350,2390],[2350,2390],[2350,2390],[2350,2390],[2350,2390],[2350,2390],[2350,2390],[2350,2390],[2350,2390],[2350,2390],[2350,2390],[2350,2390],[2350,2390],[2350,2390],[2350,2390],[2350,2390],[2350,2390],[2350,2390],[2350,2390],[2350,2390],[2350,2390],[2350,2390],[2350,2390],[2350,2390],[2350,2390],[2350,2390],[2350,2390],[2350,2390],[2350,2390],[2350,2390],[2350,2390],[2350,2390],[2350,2390],[2350,2390],[2350,2390],[2350,2390],[2350,2390],[2350,2390],[2350,2390],[2350,2390],[2350,2390],[2350,2390],[2350,2390],[2350,2390],[2350,2390],[2350,2390],[2350,2390],[2350,2390],[2350,2390],[1150,1163],[1150,1163],[1150,1163],[1150,1163],[1150,1163],[1150,1163],[1150,1163],[1150,1163],[1150,1163],[1150,1163],[1150,1163],[1150,1163],[1150,1163],[1150,1163],[250,257],[250,257],[250,257],[250,257],[250,257],[250,257],[650,660],[650,660],[650,660],[650,660],[650,660],[650,660],[650,660],[650,660],[650,660],[650,660],[650,660],[650,660],[650,660],[650,660],[650,660],[650,660],[650,660],[650,660],[650,660],[1850,1870],[1850,1870],[1850,1870],[1850,1870],[1850,1870],[1850,1870],[1850,1870],[1650,1668],[1650,1668],[1650,1668],[1650,1668],[1650,1668],[1650,1668],[1650,1668],[1650,1668],[1650,1668],[1650,1668],[1650,1668],[1650,1668],[1650,1668],[1650,1668],[1650,1668],[1650,1668],[1650,1668],[1650,1668],[1650,1668],[1650,1668],[1650,1668],[1650,1668],[1650,1668],[1650,1668],[1650,1668],[1650,1668],[1650,1668],[1650,1668],[1650,1668],[1950,1971],[1950,1971],[1950,1971],[1950,1971],[1550,1566],[1550,1566],[1550,1566],[1550,1566],[1550,1566],[1550,1566],[1550,1566],[1550,1566],[1550,1566],[1550,1566],[1550,1566],[1550,1566],[1550,1566],[1550,1566],[2050,2080],[2050,2080],[2050,2080],[2050,2080],[2050,2080],[2050,2080],[2050,2080],[2050,2080],[2250,2290],[2250,2290],[2250,2290],[2250,2290],[450,459],[450,459],[450,459],[450,459],[450,459],[450,459],[450,459],[450,459],[450,459],[450,459],[1750,1769],[1750,1769],[1750,1769],[1750,1769],[1750,1769],[1750,1769],[1750,1769],[950,961],[950,961],[950,961],[950,961],[950,961],[950,961],[950,961],[950,961],[950,961],[1250,1264],[1250,1264],[1250,1264],[1250,1264],[1250,1264],[1250,1264],[1050,1063],[1050,1063],[1050,1063],[1050,1063],[50,56],[50,56],[50,56],[50,56],[50,56],[750,760],[750,760],[750,760],[750,760],[750,760],[750,760],[750,760],[750,760],[750,760],[750,760],[750,760],[750,760],[750,760],[750,760],[750,760],[550,560],[550,560],[550,560],[550,560],[550,560],[2450,2491],[2450,2491],[2450,2491],[2450,2491],[2450,2491],[2450,2491],[2150,2184],[2150,2184],[2150,2184],[2150,2184],[2250,2288],[2250,2288],[2250,2288],[2250,2288],[2250,2288],[2250,2288],[150,156],[150,156],[150,156],[150,156],[150,156],[150,156],[150,156],[150,156],[350,357],[350,357],[350,357],[350,357],[350,357],[350,357],[1350,1364],[1350,1364],[1350,1364],[1350,1364],[850,860],[850,860],[850,860],[850,860],[1650,1667],[1650,1667],[1650,1667],[1650,1667],[1650,1667],[1650,1667],[1650,1667],[1650,1667],[1650,1667],[1650,1667],[1650,1667],[1650,1667],[1650,1667],[1650,1667],[1650,1667],[1450,1465],[1450,1465],[1450,1465],[1450,1465],[950,960],[950,960],[950,960],[950,960],[950,960],[550,559],[550,559],[550,559],[550,559],[550,559],[550,559],[550,559],[550,559],[550,559],[550,559],[550,559],[550,559],[550,559],[550,559],[550,559],[1550,1566],[1550,1566],[1550,1566],[1550,1566],[1550,1566],[1550,1566],[1550,1566],[1550,1566],[1550,1566],[1550,1566],[1550,1566],[1550,1566],[1550,1566],[1550,1566],[1550,1566],[1550,1566],[1550,1566],[1550,1566],[1550,1566],[1550,1566]]}},\"id\":\"138a2230-ed1c-48cb-b345-57cb0f61e646\",\"type\":\"ColumnDataSource\"},{\"attributes\":{\"plot\":{\"id\":\"23027a09-417b-4ff2-9fc4-d121479fda92\",\"subtype\":\"Figure\",\"type\":\"Plot\"}},\"id\":\"e5c790f2-ab13-46ff-94a4-5f96a1e4179f\",\"type\":\"ResetTool\"},{\"attributes\":{\"callback\":null,\"end\":136786630,\"start\":135757320},\"id\":\"05c06593-9eae-4fcf-b42f-46bc0e17e849\",\"type\":\"Range1d\"},{\"attributes\":{\"level\":\"glyph\",\"plot\":{\"id\":\"23027a09-417b-4ff2-9fc4-d121479fda92\",\"subtype\":\"Figure\",\"type\":\"Plot\"},\"source\":{\"id\":\"ef7d1627-18c5-40ee-95bb-27df8ffde843\",\"type\":\"ColumnDataSource\"},\"text\":{\"field\":\"vals\"},\"text_font_size\":{\"value\":\"9pt\"},\"text_font_style\":\"bold\",\"x\":{\"field\":\"x\"},\"y\":{\"field\":\"y\"}},\"id\":\"a14f8d7e-ec12-4212-82e5-d319062a3198\",\"type\":\"LabelSet\"},{\"attributes\":{\"active_drag\":\"auto\",\"active_scroll\":\"auto\",\"active_tap\":\"auto\",\"tools\":[{\"id\":\"a5f83038-800f-48aa-8008-f84f11253f87\",\"type\":\"PanTool\"},{\"id\":\"2b25f3f0-6c7f-46ee-b795-3868d3fdf1a6\",\"type\":\"WheelZoomTool\"},{\"id\":\"1f8a865a-7aba-43dd-91dc-1a4a3ca3ea78\",\"type\":\"BoxZoomTool\"},{\"id\":\"40e469dd-c73f-4b8b-b14c-012338c8442a\",\"type\":\"SaveTool\"},{\"id\":\"e5c790f2-ab13-46ff-94a4-5f96a1e4179f\",\"type\":\"ResetTool\"},{\"id\":\"c6c73198-d827-4702-b58f-808bf0eb2e3d\",\"type\":\"HelpTool\"}]},\"id\":\"6c9b03d2-cb1f-402c-a781-cc7a4022edbc\",\"type\":\"Toolbar\"},{\"attributes\":{\"overlay\":{\"id\":\"fd7ad1e0-99de-47b4-a9d1-e93d994dd27c\",\"type\":\"BoxAnnotation\"},\"plot\":{\"id\":\"23027a09-417b-4ff2-9fc4-d121479fda92\",\"subtype\":\"Figure\",\"type\":\"Plot\"}},\"id\":\"1f8a865a-7aba-43dd-91dc-1a4a3ca3ea78\",\"type\":\"BoxZoomTool\"},{\"attributes\":{\"plot\":{\"id\":\"23027a09-417b-4ff2-9fc4-d121479fda92\",\"subtype\":\"Figure\",\"type\":\"Plot\"}},\"id\":\"40e469dd-c73f-4b8b-b14c-012338c8442a\",\"type\":\"SaveTool\"},{\"attributes\":{\"formatter\":{\"id\":\"ac07c27a-6ee2-4a5d-b9c2-686eb0d1d42c\",\"type\":\"BasicTickFormatter\"},\"plot\":{\"id\":\"23027a09-417b-4ff2-9fc4-d121479fda92\",\"subtype\":\"Figure\",\"type\":\"Plot\"},\"ticker\":{\"id\":\"71eb9d1d-bc52-4984-83c0-3cf10118fdb8\",\"type\":\"BasicTicker\"},\"visible\":null},\"id\":\"f58f9a22-685c-4460-aaf6-7c5b1e7bc6ff\",\"type\":\"LinearAxis\"},{\"attributes\":{\"level\":\"glyph\",\"plot\":{\"id\":\"23027a09-417b-4ff2-9fc4-d121479fda92\",\"subtype\":\"Figure\",\"type\":\"Plot\"},\"source\":{\"id\":\"fa7db1aa-adf5-4433-99e4-6e1bf2218cf4\",\"type\":\"ColumnDataSource\"},\"text\":{\"field\":\"vals\"},\"text_align\":\"center\",\"text_baseline\":\"middle\",\"text_font_size\":{\"value\":\"8pt\"},\"x\":{\"field\":\"x\"},\"y\":{\"field\":\"y\"}},\"id\":\"6ff1e2b0-de70-4992-9470-148e15ed040f\",\"type\":\"LabelSet\"},{\"attributes\":{\"callback\":null,\"column_names\":[\"right\",\"bottom\",\"top\",\"left\"],\"data\":{\"bottom\":[2545,2545,2545,2545,2545,2545,2545],\"left\":[135809835,135957574,136289083,136499189,136545415,136597196,136664254],\"right\":[135928279,136288182,136482839,136542633,136594750,136634047,136743222],\"top\":[2575,2575,2575,2575,2575,2575,2575]}},\"id\":\"49855d45-8361-4b1a-abd1-70ff3e8f2045\",\"type\":\"ColumnDataSource\"},{\"attributes\":{\"line_alpha\":{\"value\":0.1},\"line_color\":{\"value\":\"#1f77b4\"},\"xs\":{\"field\":\"xs\"},\"ys\":{\"field\":\"ys\"}},\"id\":\"87b4d805-261d-4a07-adf4-cb0d22d21aba\",\"type\":\"MultiLine\"},{\"attributes\":{\"bottom\":{\"field\":\"bottom\"},\"fill_color\":{\"value\":\"white\"},\"left\":{\"field\":\"left\"},\"right\":{\"field\":\"right\"},\"top\":{\"field\":\"top\"}},\"id\":\"1b6ffb3d-3c74-41f0-8963-8478da07cfe1\",\"type\":\"Quad\"},{\"attributes\":{},\"id\":\"ac07c27a-6ee2-4a5d-b9c2-686eb0d1d42c\",\"type\":\"BasicTickFormatter\"},{\"attributes\":{\"callback\":null,\"column_names\":[\"right\",\"bottom\",\"top\",\"left\",\"fill_color\"],\"data\":{\"bottom\":[2350,1150,250,650,1850,1650,1950,1550,2050,2250,450,1750,950,1250,1050,50,750,550,2450,2150,2250,150,350,1350,850,1650,1450,950,550,1550],\"fill_color\":[\"#61c4c4\",\"#ff0000\",\"#ff0000\",\"#ff0000\",\"#61c4c4\",\"#00ffff\",\"#ff00ff\",\"#00ffff\",\"#c461c4\",\"#61c4c4\",\"#00ffff\",\"#ff00ff\",\"#61c4c4\",\"#00ffff\",\"#ff00ff\",\"#61c461\",\"#00ffff\",\"#00ff00\",\"#61c4c4\",\"#61c4c4\",\"#61c4c4\",\"#00ffff\",\"#00ffff\",\"#ff00ff\",\"#ff00ff\",\"#00ffff\",\"#00ffff\",\"#00ffff\",\"#00ffff\",\"#00ffff\"],\"left\":[135759095,135763383,135765502,135770895,135772482,135775651,135789764,135814490,135818487,135839805,135840292,135846793,135865015,135884166,135894943,135899723,135909151,135921205,135964764,135977595,135989333,136013433,136037384,136133578,136288733,136404524,136405656,136568458,136595044,136654760],\"right\":[136387299,136413708,136495203,136472859,136297530,136386433,136361452,136526302,136289565,135924467,136297937,136301292,136359190,136383923,136374009,136361863,136743819,136359940,136101132,136283799,136264631,136309466,136351327,136417202,136427580,136554557,136493649,136591308,136639556,136770767],\"top\":[2390,1163,257,660,1870,1668,1971,1566,2080,2290,459,1769,961,1264,1063,56,760,560,2491,2184,2288,156,357,1364,860,1667,1465,960,559,1566]}},\"id\":\"91ec3c9f-1d90-4f19-b358-1beecf2edfe9\",\"type\":\"ColumnDataSource\"}],\"root_ids\":[\"23027a09-417b-4ff2-9fc4-d121479fda92\"]},\"title\":\"Bokeh Application\",\"version\":\"0.12.0\"}};\n",
       "            var render_items = [{\"docid\":\"6647b109-9f11-4070-86db-13b9c392d0f6\",\"elementid\":\"eea1334d-3c74-4e2c-ade1-1deb03e1d271\",\"modelid\":\"23027a09-417b-4ff2-9fc4-d121479fda92\",\"notebook_comms_target\":\"002daf10-1d47-41b1-8117-975a1ad6c365\"}];\n",
       "            \n",
       "            Bokeh.embed.embed_items(docs_json, render_items);\n",
       "        });\n",
       "      },\n",
       "      function(Bokeh) {\n",
       "      }\n",
       "    ];\n",
       "  \n",
       "    function run_inline_js() {\n",
       "      for (var i = 0; i < inline_js.length; i++) {\n",
       "        inline_js[i](window.Bokeh);\n",
       "      }\n",
       "    }\n",
       "  \n",
       "    if (window._bokeh_is_loading === 0) {\n",
       "      console.log(\"Bokeh: BokehJS loaded, going straight to plotting\");\n",
       "      run_inline_js();\n",
       "    } else {\n",
       "      load_libs(js_urls, function() {\n",
       "        console.log(\"Bokeh: BokehJS plotting callback run at\", now());\n",
       "        run_inline_js();\n",
       "      });\n",
       "    }\n",
       "  }(this));\n",
       "</script>"
      ]
     },
     "metadata": {},
     "output_type": "display_data"
    },
    {
     "data": {
      "text/html": [
       "<p><code>&lt;Bokeh Notebook handle for <strong>In[5]</strong>&gt;</code></p>"
      ],
      "text/plain": [
       "<bokeh.io._CommsHandle at 0x7f3f0c3668d0>"
      ]
     },
     "execution_count": 5,
     "metadata": {},
     "output_type": "execute_result"
    }
   ],
   "source": [
    "plt_obj = dm.subset_yes_no([dm.di_193_843], min_match=0.8)\n",
    "plt = plt_obj.do_plot()\n",
    "show(plt)"
   ]
  },
  {
   "cell_type": "markdown",
   "metadata": {},
   "source": [
    "<div style=\"width:700px\">\n",
    "<p>\n",
    "The plot above shows series that are expressed by chromosome 2 samples that are subsets of\n",
    "the chromosome samples that express the series 193_843.  Those series are all part of the\n",
    "hierarchy that has been named the SAS tree.  The match criterion has been relaxed to 0.8\n",
    "because some of the chromosome samples that express the series 8_267 have experienced a\n",
    "recombination event that cause loss of enough 193_843 SNPs for those samples not to match\n",
    "193_843.\n",
    "</div>"
   ]
  },
  {
   "cell_type": "code",
   "execution_count": 6,
   "metadata": {
    "collapsed": false
   },
   "outputs": [
    {
     "data": {
      "text/html": [
       "<table>\n",
       "<thead><tr><th style=\"text-align:center\">index</th><th style=\"text-align:center\">first</th><th style=\"text-align:center\">length</th><th style=\"text-align:center\">snps</th><th style=\"text-align:center\" colspan=2>alleles</th><th style=\"text-align:center\" colspan=2>matches</th><th style=\"text-align:center\" colspan=2>afr</th><th style=\"text-align:center\" colspan=2>afx</th><th style=\"text-align:center\" colspan=2>amr</th><th style=\"text-align:center\" colspan=2>eas</th><th style=\"text-align:center\" colspan=2>eur</th><th style=\"text-align:center\" colspan=2>sas</th><th style=\"text-align:center\" colspan=2>sax</th></tr></thead>\n",
       "<tr class=\"even\"><td style=\"text-align: right;\">353504</td><td style=\"text-align: right;\">135,964,764</td><td style=\"text-align: right;\">136,368</td><td style=\"text-align: right;\">6</td><td style=\"text-align: right;\">946</td><td style=\"text-align: right;\">0.88</td><td style=\"text-align: right;\">832</td><td style=\"text-align: right;\">0.99</td><td style=\"text-align: right;\">78</td><td style=\"text-align: right;\">0.47</td><td style=\"text-align: right;\">26</td><td style=\"text-align: right;\">0.50</td><td style=\"text-align: right;\">141</td><td style=\"text-align: right;\">1.22</td><td style=\"text-align: right;\">165</td><td style=\"text-align: right;\">0.99</td><td style=\"text-align: right;\">82</td><td style=\"text-align: right;\">0.49</td><td style=\"text-align: right;\">114</td><td style=\"text-align: right;\">1.89</td><td style=\"text-align: right;\">226</td><td style=\"text-align: right;\">2.22</td></tr>\n",
       "<tr><td style=\"text-align: right;\">353248</td><td style=\"text-align: right;\">135,759,095</td><td style=\"text-align: right;\">628,204</td><td style=\"text-align: right;\">193</td><td style=\"text-align: right;\">843</td><td style=\"text-align: right;\">1.00</td><td style=\"text-align: right;\">843</td><td style=\"text-align: right;\">1.00</td><td style=\"text-align: right;\">79</td><td style=\"text-align: right;\">0.47</td><td style=\"text-align: right;\">26</td><td style=\"text-align: right;\">0.49</td><td style=\"text-align: right;\">143</td><td style=\"text-align: right;\">1.22</td><td style=\"text-align: right;\">167</td><td style=\"text-align: right;\">0.98</td><td style=\"text-align: right;\">83</td><td style=\"text-align: right;\">0.49</td><td style=\"text-align: right;\">117</td><td style=\"text-align: right;\">1.91</td><td style=\"text-align: right;\">228</td><td style=\"text-align: right;\">2.21</td></tr>\n",
       "<tr class=\"even\"><td style=\"text-align: right;\">353384</td><td style=\"text-align: right;\">135,839,805</td><td style=\"text-align: right;\">84,662</td><td style=\"text-align: right;\">4</td><td style=\"text-align: right;\">815</td><td style=\"text-align: right;\">0.82</td><td style=\"text-align: right;\">667</td><td style=\"text-align: right;\">0.79</td><td style=\"text-align: right;\">47</td><td style=\"text-align: right;\">0.35</td><td style=\"text-align: right;\">18</td><td style=\"text-align: right;\">0.43</td><td style=\"text-align: right;\">135</td><td style=\"text-align: right;\">1.46</td><td style=\"text-align: right;\">147</td><td style=\"text-align: right;\">1.09</td><td style=\"text-align: right;\">71</td><td style=\"text-align: right;\">0.53</td><td style=\"text-align: right;\">79</td><td style=\"text-align: right;\">1.63</td><td style=\"text-align: right;\">170</td><td style=\"text-align: right;\">2.08</td></tr>\n",
       "<tr><td style=\"text-align: right;\">353521</td><td style=\"text-align: right;\">135,989,333</td><td style=\"text-align: right;\">275,298</td><td style=\"text-align: right;\">6</td><td style=\"text-align: right;\">713</td><td style=\"text-align: right;\">0.94</td><td style=\"text-align: right;\">668</td><td style=\"text-align: right;\">0.79</td><td style=\"text-align: right;\">47</td><td style=\"text-align: right;\">0.35</td><td style=\"text-align: right;\">18</td><td style=\"text-align: right;\">0.43</td><td style=\"text-align: right;\">135</td><td style=\"text-align: right;\">1.46</td><td style=\"text-align: right;\">146</td><td style=\"text-align: right;\">1.09</td><td style=\"text-align: right;\">73</td><td style=\"text-align: right;\">0.54</td><td style=\"text-align: right;\">79</td><td style=\"text-align: right;\">1.63</td><td style=\"text-align: right;\">170</td><td style=\"text-align: right;\">2.08</td></tr>\n",
       "<tr class=\"even\"><td style=\"text-align: right;\">353511</td><td style=\"text-align: right;\">135,977,595</td><td style=\"text-align: right;\">306,204</td><td style=\"text-align: right;\">4</td><td style=\"text-align: right;\">416</td><td style=\"text-align: right;\">1.00</td><td style=\"text-align: right;\">415</td><td style=\"text-align: right;\">0.49</td><td style=\"text-align: right;\">33</td><td style=\"text-align: right;\">0.40</td><td style=\"text-align: right;\">9</td><td style=\"text-align: right;\">0.35</td><td style=\"text-align: right;\">77</td><td style=\"text-align: right;\">1.34</td><td style=\"text-align: right;\">96</td><td style=\"text-align: right;\">1.15</td><td style=\"text-align: right;\">24</td><td style=\"text-align: right;\">0.29</td><td style=\"text-align: right;\">53</td><td style=\"text-align: right;\">1.76</td><td style=\"text-align: right;\">123</td><td style=\"text-align: right;\">2.42</td></tr>\n",
       "<tr><td style=\"text-align: right;\">353358</td><td style=\"text-align: right;\">135,818,487</td><td style=\"text-align: right;\">471,078</td><td style=\"text-align: right;\">8</td><td style=\"text-align: right;\">267</td><td style=\"text-align: right;\">0.84</td><td style=\"text-align: right;\">223</td><td style=\"text-align: right;\">0.26</td><td style=\"text-align: right;\">1</td><td style=\"text-align: right;\">0.02</td><td style=\"text-align: right;\">3</td><td style=\"text-align: right;\">0.21</td><td style=\"text-align: right;\">56</td><td style=\"text-align: right;\">1.81</td><td style=\"text-align: right;\">47</td><td style=\"text-align: right;\">1.05</td><td style=\"text-align: right;\">48</td><td style=\"text-align: right;\">1.07</td><td style=\"text-align: right;\">24</td><td style=\"text-align: right;\">1.48</td><td style=\"text-align: right;\">44</td><td style=\"text-align: right;\">1.61</td></tr>\n",
       "<tr class=\"even\"><td style=\"text-align: right;\">353320</td><td style=\"text-align: right;\">135,789,764</td><td style=\"text-align: right;\">571,688</td><td style=\"text-align: right;\">4</td><td style=\"text-align: right;\">91</td><td style=\"text-align: right;\">1.00</td><td style=\"text-align: right;\">91</td><td style=\"text-align: right;\">0.11</td><td style=\"text-align: right;\">0</td><td style=\"text-align: right;\">0.00</td><td style=\"text-align: right;\">0</td><td style=\"text-align: right;\">0.00</td><td style=\"text-align: right;\">64</td><td style=\"text-align: right;\">5.08</td><td style=\"text-align: right;\">25</td><td style=\"text-align: right;\">1.36</td><td style=\"text-align: right;\">2</td><td style=\"text-align: right;\">0.11</td><td style=\"text-align: right;\">0</td><td style=\"text-align: right;\">0.00</td><td style=\"text-align: right;\">0</td><td style=\"text-align: right;\">0.00</td></tr>\n",
       "<tr><td style=\"text-align: right;\">353285</td><td style=\"text-align: right;\">135,772,482</td><td style=\"text-align: right;\">525,048</td><td style=\"text-align: right;\">7</td><td style=\"text-align: right;\">90</td><td style=\"text-align: right;\">1.00</td><td style=\"text-align: right;\">90</td><td style=\"text-align: right;\">0.11</td><td style=\"text-align: right;\">24</td><td style=\"text-align: right;\">1.32</td><td style=\"text-align: right;\">3</td><td style=\"text-align: right;\">0.53</td><td style=\"text-align: right;\">1</td><td style=\"text-align: right;\">0.08</td><td style=\"text-align: right;\">19</td><td style=\"text-align: right;\">1.05</td><td style=\"text-align: right;\">0</td><td style=\"text-align: right;\">0.00</td><td style=\"text-align: right;\">17</td><td style=\"text-align: right;\">2.60</td><td style=\"text-align: right;\">26</td><td style=\"text-align: right;\">2.36</td></tr>\n",
       "<tr class=\"even\"><td style=\"text-align: right;\">353396</td><td style=\"text-align: right;\">135,846,793</td><td style=\"text-align: right;\">454,499</td><td style=\"text-align: right;\">7</td><td style=\"text-align: right;\">79</td><td style=\"text-align: right;\">1.00</td><td style=\"text-align: right;\">79</td><td style=\"text-align: right;\">0.09</td><td style=\"text-align: right;\">0</td><td style=\"text-align: right;\">0.00</td><td style=\"text-align: right;\">0</td><td style=\"text-align: right;\">0.00</td><td style=\"text-align: right;\">66</td><td style=\"text-align: right;\">6.03</td><td style=\"text-align: right;\">11</td><td style=\"text-align: right;\">0.69</td><td style=\"text-align: right;\">2</td><td style=\"text-align: right;\">0.13</td><td style=\"text-align: right;\">0</td><td style=\"text-align: right;\">0.00</td><td style=\"text-align: right;\">0</td><td style=\"text-align: right;\">0.00</td></tr>\n",
       "<tr><td style=\"text-align: right;\">353292</td><td style=\"text-align: right;\">135,775,651</td><td style=\"text-align: right;\">610,782</td><td style=\"text-align: right;\">29</td><td style=\"text-align: right;\">68</td><td style=\"text-align: right;\">1.00</td><td style=\"text-align: right;\">68</td><td style=\"text-align: right;\">0.08</td><td style=\"text-align: right;\">1</td><td style=\"text-align: right;\">0.07</td><td style=\"text-align: right;\">1</td><td style=\"text-align: right;\">0.23</td><td style=\"text-align: right;\">5</td><td style=\"text-align: right;\">0.53</td><td style=\"text-align: right;\">0</td><td style=\"text-align: right;\">0.00</td><td style=\"text-align: right;\">10</td><td style=\"text-align: right;\">0.73</td><td style=\"text-align: right;\">20</td><td style=\"text-align: right;\">4.05</td><td style=\"text-align: right;\">31</td><td style=\"text-align: right;\">3.72</td></tr>\n",
       "<tr class=\"even\"><td style=\"text-align: right;\">353809</td><td style=\"text-align: right;\">136,404,524</td><td style=\"text-align: right;\">150,033</td><td style=\"text-align: right;\">15</td><td style=\"text-align: right;\">59</td><td style=\"text-align: right;\">0.92</td><td style=\"text-align: right;\">54</td><td style=\"text-align: right;\">0.06</td><td style=\"text-align: right;\">0</td><td style=\"text-align: right;\">0.00</td><td style=\"text-align: right;\">0</td><td style=\"text-align: right;\">0.00</td><td style=\"text-align: right;\">2</td><td style=\"text-align: right;\">0.27</td><td style=\"text-align: right;\">1</td><td style=\"text-align: right;\">0.09</td><td style=\"text-align: right;\">9</td><td style=\"text-align: right;\">0.83</td><td style=\"text-align: right;\">16</td><td style=\"text-align: right;\">4.08</td><td style=\"text-align: right;\">26</td><td style=\"text-align: right;\">3.93</td></tr>\n",
       "<tr><td style=\"text-align: right;\">353355</td><td style=\"text-align: right;\">135,814,490</td><td style=\"text-align: right;\">711,812</td><td style=\"text-align: right;\">14</td><td style=\"text-align: right;\">57</td><td style=\"text-align: right;\">1.00</td><td style=\"text-align: right;\">57</td><td style=\"text-align: right;\">0.07</td><td style=\"text-align: right;\">0</td><td style=\"text-align: right;\">0.00</td><td style=\"text-align: right;\">0</td><td style=\"text-align: right;\">0.00</td><td style=\"text-align: right;\">0</td><td style=\"text-align: right;\">0.00</td><td style=\"text-align: right;\">16</td><td style=\"text-align: right;\">1.39</td><td style=\"text-align: right;\">0</td><td style=\"text-align: right;\">0.00</td><td style=\"text-align: right;\">18</td><td style=\"text-align: right;\">4.34</td><td style=\"text-align: right;\">23</td><td style=\"text-align: right;\">3.29</td></tr>\n",
       "<tr class=\"even\"><td style=\"text-align: right;\">354133</td><td style=\"text-align: right;\">136,654,760</td><td style=\"text-align: right;\">116,007</td><td style=\"text-align: right;\">20</td><td style=\"text-align: right;\">56</td><td style=\"text-align: right;\">0.80</td><td style=\"text-align: right;\">45</td><td style=\"text-align: right;\">0.05</td><td style=\"text-align: right;\">1</td><td style=\"text-align: right;\">0.11</td><td style=\"text-align: right;\">2</td><td style=\"text-align: right;\">0.71</td><td style=\"text-align: right;\">0</td><td style=\"text-align: right;\">0.00</td><td style=\"text-align: right;\">9</td><td style=\"text-align: right;\">0.99</td><td style=\"text-align: right;\">1</td><td style=\"text-align: right;\">0.11</td><td style=\"text-align: right;\">9</td><td style=\"text-align: right;\">2.75</td><td style=\"text-align: right;\">23</td><td style=\"text-align: right;\">4.17</td></tr>\n",
       "<tr><td style=\"text-align: right;\">353811</td><td style=\"text-align: right;\">136,405,656</td><td style=\"text-align: right;\">87,993</td><td style=\"text-align: right;\">4</td><td style=\"text-align: right;\">49</td><td style=\"text-align: right;\">1.00</td><td style=\"text-align: right;\">49</td><td style=\"text-align: right;\">0.06</td><td style=\"text-align: right;\">0</td><td style=\"text-align: right;\">0.00</td><td style=\"text-align: right;\">0</td><td style=\"text-align: right;\">0.00</td><td style=\"text-align: right;\">0</td><td style=\"text-align: right;\">0.00</td><td style=\"text-align: right;\">0</td><td style=\"text-align: right;\">0.00</td><td style=\"text-align: right;\">0</td><td style=\"text-align: right;\">0.00</td><td style=\"text-align: right;\">17</td><td style=\"text-align: right;\">4.77</td><td style=\"text-align: right;\">32</td><td style=\"text-align: right;\">5.33</td></tr>\n",
       "<tr class=\"even\"><td style=\"text-align: right;\">353626</td><td style=\"text-align: right;\">136,133,578</td><td style=\"text-align: right;\">283,624</td><td style=\"text-align: right;\">4</td><td style=\"text-align: right;\">45</td><td style=\"text-align: right;\">1.00</td><td style=\"text-align: right;\">45</td><td style=\"text-align: right;\">0.05</td><td style=\"text-align: right;\">0</td><td style=\"text-align: right;\">0.00</td><td style=\"text-align: right;\">0</td><td style=\"text-align: right;\">0.00</td><td style=\"text-align: right;\">40</td><td style=\"text-align: right;\">6.41</td><td style=\"text-align: right;\">0</td><td style=\"text-align: right;\">0.00</td><td style=\"text-align: right;\">0</td><td style=\"text-align: right;\">0.00</td><td style=\"text-align: right;\">1</td><td style=\"text-align: right;\">0.31</td><td style=\"text-align: right;\">4</td><td style=\"text-align: right;\">0.73</td></tr>\n",
       "<tr><td style=\"text-align: right;\">353437</td><td style=\"text-align: right;\">135,884,166</td><td style=\"text-align: right;\">499,757</td><td style=\"text-align: right;\">6</td><td style=\"text-align: right;\">43</td><td style=\"text-align: right;\">1.00</td><td style=\"text-align: right;\">43</td><td style=\"text-align: right;\">0.05</td><td style=\"text-align: right;\">0</td><td style=\"text-align: right;\">0.00</td><td style=\"text-align: right;\">0</td><td style=\"text-align: right;\">0.00</td><td style=\"text-align: right;\">1</td><td style=\"text-align: right;\">0.17</td><td style=\"text-align: right;\">0</td><td style=\"text-align: right;\">0.00</td><td style=\"text-align: right;\">12</td><td style=\"text-align: right;\">1.39</td><td style=\"text-align: right;\">9</td><td style=\"text-align: right;\">2.88</td><td style=\"text-align: right;\">21</td><td style=\"text-align: right;\">3.98</td></tr>\n",
       "<tr class=\"even\"><td style=\"text-align: right;\">353262</td><td style=\"text-align: right;\">135,763,383</td><td style=\"text-align: right;\">650,325</td><td style=\"text-align: right;\">14</td><td style=\"text-align: right;\">39</td><td style=\"text-align: right;\">1.00</td><td style=\"text-align: right;\">39</td><td style=\"text-align: right;\">0.05</td><td style=\"text-align: right;\">30</td><td style=\"text-align: right;\">3.82</td><td style=\"text-align: right;\">6</td><td style=\"text-align: right;\">2.45</td><td style=\"text-align: right;\">3</td><td style=\"text-align: right;\">0.56</td><td style=\"text-align: right;\">0</td><td style=\"text-align: right;\">0.00</td><td style=\"text-align: right;\">0</td><td style=\"text-align: right;\">0.00</td><td style=\"text-align: right;\">0</td><td style=\"text-align: right;\">0.00</td><td style=\"text-align: right;\">0</td><td style=\"text-align: right;\">0.00</td></tr>\n",
       "<tr><td style=\"text-align: right;\">353450</td><td style=\"text-align: right;\">135,894,943</td><td style=\"text-align: right;\">479,066</td><td style=\"text-align: right;\">4</td><td style=\"text-align: right;\">38</td><td style=\"text-align: right;\">1.00</td><td style=\"text-align: right;\">38</td><td style=\"text-align: right;\">0.05</td><td style=\"text-align: right;\">0</td><td style=\"text-align: right;\">0.00</td><td style=\"text-align: right;\">0</td><td style=\"text-align: right;\">0.00</td><td style=\"text-align: right;\">38</td><td style=\"text-align: right;\">7.22</td><td style=\"text-align: right;\">0</td><td style=\"text-align: right;\">0.00</td><td style=\"text-align: right;\">0</td><td style=\"text-align: right;\">0.00</td><td style=\"text-align: right;\">0</td><td style=\"text-align: right;\">0.00</td><td style=\"text-align: right;\">0</td><td style=\"text-align: right;\">0.00</td></tr>\n",
       "<tr class=\"even\"><td style=\"text-align: right;\">353413</td><td style=\"text-align: right;\">135,865,015</td><td style=\"text-align: right;\">494,175</td><td style=\"text-align: right;\">9</td><td style=\"text-align: right;\">29</td><td style=\"text-align: right;\">1.00</td><td style=\"text-align: right;\">29</td><td style=\"text-align: right;\">0.03</td><td style=\"text-align: right;\">2</td><td style=\"text-align: right;\">0.34</td><td style=\"text-align: right;\">0</td><td style=\"text-align: right;\">0.00</td><td style=\"text-align: right;\">7</td><td style=\"text-align: right;\">1.74</td><td style=\"text-align: right;\">0</td><td style=\"text-align: right;\">0.00</td><td style=\"text-align: right;\">7</td><td style=\"text-align: right;\">1.20</td><td style=\"text-align: right;\">4</td><td style=\"text-align: right;\">1.90</td><td style=\"text-align: right;\">9</td><td style=\"text-align: right;\">2.53</td></tr>\n",
       "<tr><td style=\"text-align: right;\">353998</td><td style=\"text-align: right;\">136,568,458</td><td style=\"text-align: right;\">22,850</td><td style=\"text-align: right;\">5</td><td style=\"text-align: right;\">28</td><td style=\"text-align: right;\">0.82</td><td style=\"text-align: right;\">23</td><td style=\"text-align: right;\">0.03</td><td style=\"text-align: right;\">1</td><td style=\"text-align: right;\">0.22</td><td style=\"text-align: right;\">1</td><td style=\"text-align: right;\">0.69</td><td style=\"text-align: right;\">0</td><td style=\"text-align: right;\">0.00</td><td style=\"text-align: right;\">1</td><td style=\"text-align: right;\">0.22</td><td style=\"text-align: right;\">1</td><td style=\"text-align: right;\">0.22</td><td style=\"text-align: right;\">8</td><td style=\"text-align: right;\">4.79</td><td style=\"text-align: right;\">11</td><td style=\"text-align: right;\">3.90</td></tr>\n",
       "<tr class=\"even\"><td style=\"text-align: right;\">353719</td><td style=\"text-align: right;\">136,288,733</td><td style=\"text-align: right;\">138,847</td><td style=\"text-align: right;\">4</td><td style=\"text-align: right;\">27</td><td style=\"text-align: right;\">1.00</td><td style=\"text-align: right;\">27</td><td style=\"text-align: right;\">0.03</td><td style=\"text-align: right;\">0</td><td style=\"text-align: right;\">0.00</td><td style=\"text-align: right;\">0</td><td style=\"text-align: right;\">0.00</td><td style=\"text-align: right;\">24</td><td style=\"text-align: right;\">6.41</td><td style=\"text-align: right;\">1</td><td style=\"text-align: right;\">0.18</td><td style=\"text-align: right;\">2</td><td style=\"text-align: right;\">0.37</td><td style=\"text-align: right;\">0</td><td style=\"text-align: right;\">0.00</td><td style=\"text-align: right;\">0</td><td style=\"text-align: right;\">0.00</td></tr>\n",
       "<tr><td style=\"text-align: right;\">353459</td><td style=\"text-align: right;\">135,909,151</td><td style=\"text-align: right;\">834,668</td><td style=\"text-align: right;\">15</td><td style=\"text-align: right;\">27</td><td style=\"text-align: right;\">1.00</td><td style=\"text-align: right;\">27</td><td style=\"text-align: right;\">0.03</td><td style=\"text-align: right;\">0</td><td style=\"text-align: right;\">0.00</td><td style=\"text-align: right;\">0</td><td style=\"text-align: right;\">0.00</td><td style=\"text-align: right;\">0</td><td style=\"text-align: right;\">0.00</td><td style=\"text-align: right;\">0</td><td style=\"text-align: right;\">0.00</td><td style=\"text-align: right;\">0</td><td style=\"text-align: right;\">0.00</td><td style=\"text-align: right;\">13</td><td style=\"text-align: right;\">6.62</td><td style=\"text-align: right;\">14</td><td style=\"text-align: right;\">4.23</td></tr>\n",
       "<tr class=\"even\"><td style=\"text-align: right;\">353280</td><td style=\"text-align: right;\">135,770,895</td><td style=\"text-align: right;\">701,964</td><td style=\"text-align: right;\">19</td><td style=\"text-align: right;\">27</td><td style=\"text-align: right;\">1.00</td><td style=\"text-align: right;\">27</td><td style=\"text-align: right;\">0.03</td><td style=\"text-align: right;\">23</td><td style=\"text-align: right;\">4.23</td><td style=\"text-align: right;\">3</td><td style=\"text-align: right;\">1.77</td><td style=\"text-align: right;\">1</td><td style=\"text-align: right;\">0.27</td><td style=\"text-align: right;\">0</td><td style=\"text-align: right;\">0.00</td><td style=\"text-align: right;\">0</td><td style=\"text-align: right;\">0.00</td><td style=\"text-align: right;\">0</td><td style=\"text-align: right;\">0.00</td><td style=\"text-align: right;\">0</td><td style=\"text-align: right;\">0.00</td></tr>\n",
       "<tr><td style=\"text-align: right;\">353468</td><td style=\"text-align: right;\">135,921,205</td><td style=\"text-align: right;\">438,735</td><td style=\"text-align: right;\">5</td><td style=\"text-align: right;\">26</td><td style=\"text-align: right;\">1.00</td><td style=\"text-align: right;\">26</td><td style=\"text-align: right;\">0.03</td><td style=\"text-align: right;\">0</td><td style=\"text-align: right;\">0.00</td><td style=\"text-align: right;\">2</td><td style=\"text-align: right;\">1.23</td><td style=\"text-align: right;\">3</td><td style=\"text-align: right;\">0.83</td><td style=\"text-align: right;\">0</td><td style=\"text-align: right;\">0.00</td><td style=\"text-align: right;\">15</td><td style=\"text-align: right;\">2.87</td><td style=\"text-align: right;\">2</td><td style=\"text-align: right;\">1.06</td><td style=\"text-align: right;\">4</td><td style=\"text-align: right;\">1.25</td></tr>\n",
       "<tr class=\"even\"><td style=\"text-align: right;\">354047</td><td style=\"text-align: right;\">136,595,044</td><td style=\"text-align: right;\">44,512</td><td style=\"text-align: right;\">15</td><td style=\"text-align: right;\">25</td><td style=\"text-align: right;\">0.80</td><td style=\"text-align: right;\">20</td><td style=\"text-align: right;\">0.02</td><td style=\"text-align: right;\">1</td><td style=\"text-align: right;\">0.25</td><td style=\"text-align: right;\">2</td><td style=\"text-align: right;\">1.59</td><td style=\"text-align: right;\">0</td><td style=\"text-align: right;\">0.00</td><td style=\"text-align: right;\">1</td><td style=\"text-align: right;\">0.25</td><td style=\"text-align: right;\">1</td><td style=\"text-align: right;\">0.25</td><td style=\"text-align: right;\">6</td><td style=\"text-align: right;\">4.13</td><td style=\"text-align: right;\">9</td><td style=\"text-align: right;\">3.67</td></tr>\n",
       "<tr><td style=\"text-align: right;\">353386</td><td style=\"text-align: right;\">135,840,292</td><td style=\"text-align: right;\">457,645</td><td style=\"text-align: right;\">10</td><td style=\"text-align: right;\">25</td><td style=\"text-align: right;\">0.96</td><td style=\"text-align: right;\">24</td><td style=\"text-align: right;\">0.03</td><td style=\"text-align: right;\">0</td><td style=\"text-align: right;\">0.00</td><td style=\"text-align: right;\">0</td><td style=\"text-align: right;\">0.00</td><td style=\"text-align: right;\">2</td><td style=\"text-align: right;\">0.60</td><td style=\"text-align: right;\">0</td><td style=\"text-align: right;\">0.00</td><td style=\"text-align: right;\">6</td><td style=\"text-align: right;\">1.24</td><td style=\"text-align: right;\">8</td><td style=\"text-align: right;\">4.59</td><td style=\"text-align: right;\">8</td><td style=\"text-align: right;\">2.72</td></tr>\n",
       "<tr class=\"even\"><td style=\"text-align: right;\">353568</td><td style=\"text-align: right;\">136,037,384</td><td style=\"text-align: right;\">313,943</td><td style=\"text-align: right;\">6</td><td style=\"text-align: right;\">19</td><td style=\"text-align: right;\">1.00</td><td style=\"text-align: right;\">19</td><td style=\"text-align: right;\">0.02</td><td style=\"text-align: right;\">0</td><td style=\"text-align: right;\">0.00</td><td style=\"text-align: right;\">0</td><td style=\"text-align: right;\">0.00</td><td style=\"text-align: right;\">3</td><td style=\"text-align: right;\">1.14</td><td style=\"text-align: right;\">0</td><td style=\"text-align: right;\">0.00</td><td style=\"text-align: right;\">4</td><td style=\"text-align: right;\">1.05</td><td style=\"text-align: right;\">2</td><td style=\"text-align: right;\">1.45</td><td style=\"text-align: right;\">10</td><td style=\"text-align: right;\">4.29</td></tr>\n",
       "<tr><td style=\"text-align: right;\">353266</td><td style=\"text-align: right;\">135,765,502</td><td style=\"text-align: right;\">729,701</td><td style=\"text-align: right;\">6</td><td style=\"text-align: right;\">19</td><td style=\"text-align: right;\">1.00</td><td style=\"text-align: right;\">19</td><td style=\"text-align: right;\">0.02</td><td style=\"text-align: right;\">15</td><td style=\"text-align: right;\">3.92</td><td style=\"text-align: right;\">4</td><td style=\"text-align: right;\">3.36</td><td style=\"text-align: right;\">0</td><td style=\"text-align: right;\">0.00</td><td style=\"text-align: right;\">0</td><td style=\"text-align: right;\">0.00</td><td style=\"text-align: right;\">0</td><td style=\"text-align: right;\">0.00</td><td style=\"text-align: right;\">0</td><td style=\"text-align: right;\">0.00</td><td style=\"text-align: right;\">0</td><td style=\"text-align: right;\">0.00</td></tr>\n",
       "<tr class=\"even\"><td style=\"text-align: right;\">353548</td><td style=\"text-align: right;\">136,013,433</td><td style=\"text-align: right;\">296,033</td><td style=\"text-align: right;\">8</td><td style=\"text-align: right;\">17</td><td style=\"text-align: right;\">0.88</td><td style=\"text-align: right;\">15</td><td style=\"text-align: right;\">0.02</td><td style=\"text-align: right;\">0</td><td style=\"text-align: right;\">0.00</td><td style=\"text-align: right;\">0</td><td style=\"text-align: right;\">0.00</td><td style=\"text-align: right;\">0</td><td style=\"text-align: right;\">0.00</td><td style=\"text-align: right;\">0</td><td style=\"text-align: right;\">0.00</td><td style=\"text-align: right;\">0</td><td style=\"text-align: right;\">0.00</td><td style=\"text-align: right;\">7</td><td style=\"text-align: right;\">6.42</td><td style=\"text-align: right;\">8</td><td style=\"text-align: right;\">4.35</td></tr>\n",
       "<tr><td style=\"text-align: right;\">353456</td><td style=\"text-align: right;\">135,899,723</td><td style=\"text-align: right;\">462,140</td><td style=\"text-align: right;\">5</td><td style=\"text-align: right;\">16</td><td style=\"text-align: right;\">1.00</td><td style=\"text-align: right;\">16</td><td style=\"text-align: right;\">0.02</td><td style=\"text-align: right;\">0</td><td style=\"text-align: right;\">0.00</td><td style=\"text-align: right;\">0</td><td style=\"text-align: right;\">0.00</td><td style=\"text-align: right;\">4</td><td style=\"text-align: right;\">1.80</td><td style=\"text-align: right;\">0</td><td style=\"text-align: right;\">0.00</td><td style=\"text-align: right;\">7</td><td style=\"text-align: right;\">2.18</td><td style=\"text-align: right;\">0</td><td style=\"text-align: right;\">0.00</td><td style=\"text-align: right;\">5</td><td style=\"text-align: right;\">2.55</td></tr>\n",
       "</table>"
      ],
      "text/plain": [
       "<IPython.core.display.HTML object>"
      ]
     },
     "execution_count": 6,
     "metadata": {},
     "output_type": "execute_result"
    }
   ],
   "source": [
    "HTML(plt_obj.get_html())"
   ]
  },
  {
   "cell_type": "markdown",
   "metadata": {},
   "source": [
    "<div style=\"width:700px\">\n",
    "<p>\n",
    "The data in the table above shows 19 series where 100% of the chromsome samples that\n",
    "express the series also express 193_843.\n",
    "<p>\n",
    "Three other series, 4_815, 6_713, and 8_267,\n",
    "are of particular interest.  All three are contained within the interval of chromosome 2\n",
    "covered by 193_843.  Recombination events that lose association with 193_843\n",
    "must be somewhere within the DNA covered by the 193_843 series.  More than 80% of the\n",
    "chromosome samples that express any of the three series also express 193_843.  But a\n",
    "signficant number of those chromosomes samples do not.\n",
    "<p>\n",
    "The reasons are two recombination events that are analyszed in the part of this notebook\n",
    "focused on allele masks.  One involved a chromosome that expressed the series 8_267 and\n",
    "6_713.  It resulted from a recombination event that lost the last 23 SNPs of 193_843.\n",
    "The result of that recombination event became overexpressed through a selection \n",
    "process associated with the appearance of the series 9_39.\n",
    "<p>\n",
    "The other recombination event involved a chromosome that expressed 193_843 and the\n",
    "other major series that form the root of the SAS tree with a chromosome that expressed\n",
    "the series 5_684 that is a major component of the EAS tree hierarchy.  That recombination\n",
    "event resulted in a number of overexpressed variations on the association of 4_815\n",
    "and 5_684 that appear to have conferred some kind of selecrtive advantage on the\n",
    "recombinant chromosomes.\n",
    "<p>\n",
    "Another class of cases include 15_59, 20_56, 5_28, and 5_25.  All of these series\n",
    "cover parts of the studied region of chromosome 2 that are beyond the\n",
    "end of 193_843.  As is commonly the case hierarchies selected by these series have\n",
    "experienced recombination events between the more stable lower part of the region\n",
    "and the less stable upper part.\n",
    "<p>\n",
    "The two other cases are the series 10_25 and 8_17.  Both have experienced recombination\n",
    "events within the region covered by 193_843.  But neither case has generated an\n",
    "overexpressed result.\n",
    "</div>"
   ]
  },
  {
   "cell_type": "markdown",
   "metadata": {},
   "source": [
    "<h3>Basis Plots</h3>\n",
    "<div style=\"width:700px\">\n",
    "<p>\n",
    "A basis plot is used to match samples to the most specific series in an hierarchy\n",
    "that the samples express.  Basis filtering can be used in combination with yes no comparisons\n",
    "to explore recombination events for samples that express particular parts of an hierarchy.\n",
    "</div>"
   ]
  },
  {
   "cell_type": "code",
   "execution_count": 7,
   "metadata": {
    "collapsed": false
   },
   "outputs": [
    {
     "data": {
      "text/html": [
       "\n",
       "\n",
       "    <div class=\"bk-root\">\n",
       "        <div class=\"plotdiv\" id=\"43fb0b1a-7dd7-4154-81c7-c9a12d562d70\"></div>\n",
       "    </div>\n",
       "<script type=\"text/javascript\">\n",
       "  \n",
       "  (function(global) {\n",
       "    function now() {\n",
       "      return new Date();\n",
       "    }\n",
       "  \n",
       "    if (typeof (window._bokeh_onload_callbacks) === \"undefined\") {\n",
       "      window._bokeh_onload_callbacks = [];\n",
       "    }\n",
       "  \n",
       "    function run_callbacks() {\n",
       "      window._bokeh_onload_callbacks.forEach(function(callback) { callback() });\n",
       "      delete window._bokeh_onload_callbacks\n",
       "      console.info(\"Bokeh: all callbacks have finished\");\n",
       "    }\n",
       "  \n",
       "    function load_libs(js_urls, callback) {\n",
       "      window._bokeh_onload_callbacks.push(callback);\n",
       "      if (window._bokeh_is_loading > 0) {\n",
       "        console.log(\"Bokeh: BokehJS is being loaded, scheduling callback at\", now());\n",
       "        return null;\n",
       "      }\n",
       "      if (js_urls == null || js_urls.length === 0) {\n",
       "        run_callbacks();\n",
       "        return null;\n",
       "      }\n",
       "      console.log(\"Bokeh: BokehJS not loaded, scheduling load and callback at\", now());\n",
       "      window._bokeh_is_loading = js_urls.length;\n",
       "      for (var i = 0; i < js_urls.length; i++) {\n",
       "        var url = js_urls[i];\n",
       "        var s = document.createElement('script');\n",
       "        s.src = url;\n",
       "        s.async = false;\n",
       "        s.onreadystatechange = s.onload = function() {\n",
       "          window._bokeh_is_loading--;\n",
       "          if (window._bokeh_is_loading === 0) {\n",
       "            console.log(\"Bokeh: all BokehJS libraries loaded\");\n",
       "            run_callbacks()\n",
       "          }\n",
       "        };\n",
       "        s.onerror = function() {\n",
       "          console.warn(\"failed to load library \" + url);\n",
       "        };\n",
       "        console.log(\"Bokeh: injecting script tag for BokehJS library: \", url);\n",
       "        document.getElementsByTagName(\"head\")[0].appendChild(s);\n",
       "      }\n",
       "    };var element = document.getElementById(\"43fb0b1a-7dd7-4154-81c7-c9a12d562d70\");\n",
       "    if (element == null) {\n",
       "      console.log(\"Bokeh: ERROR: autoload.js configured with elementid '43fb0b1a-7dd7-4154-81c7-c9a12d562d70' but no matching script tag was found. \")\n",
       "      return false;\n",
       "    }\n",
       "  \n",
       "    var js_urls = [];\n",
       "  \n",
       "    var inline_js = [\n",
       "      function(Bokeh) {\n",
       "        Bokeh.$(function() {\n",
       "            var docs_json = {\"725e2719-25e0-42dd-ba7a-3574563be187\":{\"roots\":{\"references\":[{\"attributes\":{\"dimension\":1,\"plot\":{\"id\":\"2e15e1a8-a8f3-4e71-a316-90c01d5ae0e6\",\"subtype\":\"Figure\",\"type\":\"Plot\"},\"ticker\":{\"id\":\"e53e133f-0b61-49ae-a51e-1619a958b20e\",\"type\":\"BasicTicker\"}},\"id\":\"5c6e6b4c-6919-4857-b538-5e3c2f572b5c\",\"type\":\"Grid\"},{\"attributes\":{},\"id\":\"e53e133f-0b61-49ae-a51e-1619a958b20e\",\"type\":\"BasicTicker\"},{\"attributes\":{\"active_drag\":\"auto\",\"active_scroll\":\"auto\",\"active_tap\":\"auto\",\"tools\":[{\"id\":\"0d0cf323-0050-4cd2-b8bd-c8ff2513b17e\",\"type\":\"PanTool\"},{\"id\":\"f36f2a25-2cd1-4a9f-b6b4-c149bf2e49fb\",\"type\":\"WheelZoomTool\"},{\"id\":\"c4c4bd1f-8eec-4381-a15c-6d0416f7dd98\",\"type\":\"BoxZoomTool\"},{\"id\":\"494c809e-86a0-4c31-a604-a2c4cbb16c23\",\"type\":\"SaveTool\"},{\"id\":\"3a5575d5-bebf-4bf4-bb6e-d7e6f0beb7f2\",\"type\":\"ResetTool\"},{\"id\":\"10feba38-196a-4b62-bea3-7a488d7f9ef6\",\"type\":\"HelpTool\"}]},\"id\":\"510a08b1-2ddd-4828-8e33-ae34c40810ee\",\"type\":\"Toolbar\"},{\"attributes\":{\"line_alpha\":{\"value\":0.1},\"line_color\":{\"value\":\"#1f77b4\"},\"xs\":{\"field\":\"xs\"},\"ys\":{\"field\":\"ys\"}},\"id\":\"dc208740-23aa-4d2a-9e6a-52633878a054\",\"type\":\"MultiLine\"},{\"attributes\":{\"callback\":null,\"column_names\":[\"right\",\"bottom\",\"top\",\"left\"],\"data\":{\"bottom\":[983,983,983,983,983,983,983],\"left\":[135809835,135957574,136289083,136499189,136545415,136597196,136664254],\"right\":[135928279,136288182,136482839,136542633,136594750,136634047,136743222],\"top\":[1013,1013,1013,1013,1013,1013,1013]}},\"id\":\"e8ae7a0a-3278-41e9-a5b5-0359ca0d802e\",\"type\":\"ColumnDataSource\"},{\"attributes\":{\"level\":\"glyph\",\"plot\":{\"id\":\"2e15e1a8-a8f3-4e71-a316-90c01d5ae0e6\",\"subtype\":\"Figure\",\"type\":\"Plot\"},\"source\":{\"id\":\"b360c58d-dec6-42c9-8a28-4a9bccb7125b\",\"type\":\"ColumnDataSource\"},\"text\":{\"field\":\"vals\"},\"text_baseline\":\"middle\",\"text_font_size\":{\"value\":\"9pt\"},\"text_font_style\":\"bold\",\"x\":{\"field\":\"x\"},\"y\":{\"field\":\"y\"}},\"id\":\"69c65fd8-1f60-4c07-8f36-52284e7a9c72\",\"type\":\"LabelSet\"},{\"attributes\":{\"level\":\"glyph\",\"plot\":{\"id\":\"2e15e1a8-a8f3-4e71-a316-90c01d5ae0e6\",\"subtype\":\"Figure\",\"type\":\"Plot\"},\"source\":{\"id\":\"ccadfefc-fd22-4c12-a2bb-7b66e565d6dd\",\"type\":\"ColumnDataSource\"},\"text\":{\"field\":\"vals\"},\"text_align\":\"right\",\"text_baseline\":\"middle\",\"text_font_size\":{\"value\":\"9pt\"},\"text_font_style\":\"bold\",\"x\":{\"field\":\"x\"},\"y\":{\"field\":\"y\"}},\"id\":\"1044d185-e046-4df9-b910-1ccfbf782fb9\",\"type\":\"LabelSet\"},{\"attributes\":{\"bottom\":{\"field\":\"bottom\"},\"fill_alpha\":{\"value\":0.1},\"fill_color\":{\"value\":\"#1f77b4\"},\"left\":{\"field\":\"left\"},\"line_alpha\":{\"value\":0.1},\"line_color\":{\"value\":\"#1f77b4\"},\"right\":{\"field\":\"right\"},\"top\":{\"field\":\"top\"}},\"id\":\"31434792-55b5-451e-b8d1-b30b5c404e6b\",\"type\":\"Quad\"},{\"attributes\":{\"callback\":null,\"column_names\":[\"y\",\"x\",\"vals\"],\"data\":{\"vals\":[\"4_17\",\"5_18\",\"7_20\",\"7_22\",\"4_25\",\"4_26\",\"7_31\",\"12_32\",\"6_35\",\"6_57\",\"4_57\",\"17_137\",\"51_176\",\"8_328\",\"16_511\",\"11_765\",\"6_820\",\"81_857\",\"4_911\",\"39_1014\",\"6_1114\",\"5_1296\",\"26_1414\"],\"x\":[136504541,136243714,136039834,135786061,136687844,136648736,136608339,135759628,135859157,135889881,136560126,136596162,136651773,136605402,136603638,135837906,136514709,136494985,136092061,136556805,136652491,136652953,136398174],\"y\":[61.0,97.0,133.0,171.0,207.0,243.0,279.0,315.0,357.0,403.0,439.0,475.0,511.0,547.0,583.0,652.0,688.0,724.0,778.0,814.0,850.0,886.0,943.0]}},\"id\":\"5e87fe8f-2b5e-4547-964e-d3e749bf2e4f\",\"type\":\"ColumnDataSource\"},{\"attributes\":{\"callback\":null,\"end\":1038},\"id\":\"daa3856a-fcee-4e86-870d-4325941fe231\",\"type\":\"Range1d\"},{\"attributes\":{\"data_source\":{\"id\":\"08beb468-b256-4172-9874-40f1dab19890\",\"type\":\"ColumnDataSource\"},\"glyph\":{\"id\":\"b8f266c1-3886-451d-aa21-46e76c2cee6f\",\"type\":\"MultiLine\"},\"hover_glyph\":null,\"nonselection_glyph\":{\"id\":\"dc208740-23aa-4d2a-9e6a-52633878a054\",\"type\":\"MultiLine\"},\"selection_glyph\":null},\"id\":\"8fc3aaa0-b778-4bc6-9887-f06a4c13bb06\",\"type\":\"GlyphRenderer\"},{\"attributes\":{\"plot\":{\"id\":\"2e15e1a8-a8f3-4e71-a316-90c01d5ae0e6\",\"subtype\":\"Figure\",\"type\":\"Plot\"}},\"id\":\"3a5575d5-bebf-4bf4-bb6e-d7e6f0beb7f2\",\"type\":\"ResetTool\"},{\"attributes\":{\"callback\":null,\"column_names\":[\"y\",\"x\",\"vals\"],\"data\":{\"vals\":[\"RAB3GAP1\",\"ZRANB3\",\"R3HDM1\",\"UBXN4\",\"LCT\",\"MCM6\",\"DARS\"],\"x\":[135869057.0,136122878.0,136385961.0,136520911.0,136570082.5,136615621.5,136703738.0],\"y\":[998.0,998.0,998.0,998.0,998.0,998.0,998.0]}},\"id\":\"742ea710-8e41-4cb2-9d01-730fc7c2b226\",\"type\":\"ColumnDataSource\"},{\"attributes\":{\"plot\":{\"id\":\"2e15e1a8-a8f3-4e71-a316-90c01d5ae0e6\",\"subtype\":\"Figure\",\"type\":\"Plot\"}},\"id\":\"494c809e-86a0-4c31-a604-a2c4cbb16c23\",\"type\":\"SaveTool\"},{\"attributes\":{\"callback\":null,\"column_names\":[\"right\",\"bottom\",\"top\",\"left\",\"fill_color\"],\"data\":{\"bottom\":[50,86,122,158,196,232,268,304,340,382,428,464,500,536,572,608,677,713,749,803,839,875,911],\"fill_color\":[\"#ff0000\",\"#ff00ff\",\"#00ff00\",\"#ffff00\",\"#ffff00\",\"#61c461\",\"#ff0000\",\"#ff0000\",\"#ff00ff\",\"#00ff00\",\"#00ff00\",\"#c4c461\",\"#ffff00\",\"#c46161\",\"#c46161\",\"#00ff00\",\"#61c4c4\",\"#808080\",\"#00ff00\",\"#808080\",\"#808080\",\"#808080\",\"#61c461\"],\"left\":[136504541,136243714,136039834,135786061,136687844,136648736,136608339,135759628,135859157,135889881,136560126,136596162,136651773,136605402,136603638,135837906,136514709,136494985,136092061,136556805,136652491,136652953,136398174],\"right\":[136528224,136351532,136349562,136586684,136709809,136762850,136738273,136443550,135980938,136382936,136742080,136785729,136774627,136624686,136632125,136707982,136543147,136773638,136407479,136747085,136732772,136761175,136474098],\"top\":[56,92,128,166,202,238,274,310,352,398,434,470,506,542,578,647,683,719,773,809,845,881,938]}},\"id\":\"5b1516c8-ccc9-47cd-8f99-575d175d1239\",\"type\":\"ColumnDataSource\"},{\"attributes\":{\"data_source\":{\"id\":\"5b1516c8-ccc9-47cd-8f99-575d175d1239\",\"type\":\"ColumnDataSource\"},\"glyph\":{\"id\":\"be9cbb2c-be54-4ff3-b0f4-5e567c044f00\",\"type\":\"Quad\"},\"hover_glyph\":null,\"nonselection_glyph\":{\"id\":\"31434792-55b5-451e-b8d1-b30b5c404e6b\",\"type\":\"Quad\"},\"selection_glyph\":null},\"id\":\"363e8a42-161c-4c02-bb8b-90af20da4c0b\",\"type\":\"GlyphRenderer\"},{\"attributes\":{\"bottom\":{\"field\":\"bottom\"},\"fill_color\":{\"value\":\"white\"},\"left\":{\"field\":\"left\"},\"right\":{\"field\":\"right\"},\"top\":{\"field\":\"top\"}},\"id\":\"3d3338cd-a90d-4afb-9734-705025aa3ed8\",\"type\":\"Quad\"},{\"attributes\":{\"callback\":null,\"end\":136786630,\"start\":135757320},\"id\":\"078329d6-190b-4342-a52e-fa0a9ffbf5c0\",\"type\":\"Range1d\"},{\"attributes\":{\"plot\":{\"id\":\"2e15e1a8-a8f3-4e71-a316-90c01d5ae0e6\",\"subtype\":\"Figure\",\"type\":\"Plot\"}},\"id\":\"f36f2a25-2cd1-4a9f-b6b4-c149bf2e49fb\",\"type\":\"WheelZoomTool\"},{\"attributes\":{\"level\":\"glyph\",\"plot\":{\"id\":\"2e15e1a8-a8f3-4e71-a316-90c01d5ae0e6\",\"subtype\":\"Figure\",\"type\":\"Plot\"},\"source\":{\"id\":\"5e87fe8f-2b5e-4547-964e-d3e749bf2e4f\",\"type\":\"ColumnDataSource\"},\"text\":{\"field\":\"vals\"},\"text_font_size\":{\"value\":\"9pt\"},\"text_font_style\":\"bold\",\"x\":{\"field\":\"x\"},\"y\":{\"field\":\"y\"}},\"id\":\"fcb5774f-caf5-4f19-8b07-ebcca2b22751\",\"type\":\"LabelSet\"},{\"attributes\":{\"bottom\":{\"field\":\"bottom\"},\"fill_alpha\":{\"value\":0.1},\"fill_color\":{\"value\":\"#1f77b4\"},\"left\":{\"field\":\"left\"},\"line_alpha\":{\"value\":0.1},\"line_color\":{\"value\":\"#1f77b4\"},\"right\":{\"field\":\"right\"},\"top\":{\"field\":\"top\"}},\"id\":\"fab17fbd-af02-4641-8838-157064653647\",\"type\":\"Quad\"},{\"attributes\":{},\"id\":\"adc6230a-2e8b-4154-885f-3ef3ad070da1\",\"type\":\"ToolEvents\"},{\"attributes\":{\"plot\":{\"id\":\"2e15e1a8-a8f3-4e71-a316-90c01d5ae0e6\",\"subtype\":\"Figure\",\"type\":\"Plot\"},\"ticker\":{\"id\":\"eed0a7c8-897f-4a69-b6c8-ad839c4947ce\",\"type\":\"BasicTicker\"}},\"id\":\"97602265-4527-4e01-b4cb-ae21351dcd5b\",\"type\":\"Grid\"},{\"attributes\":{},\"id\":\"2c981bf0-a4c5-4637-aeec-85abe56538dc\",\"type\":\"BasicTickFormatter\"},{\"attributes\":{\"bottom_units\":\"screen\",\"fill_alpha\":{\"value\":0.5},\"fill_color\":{\"value\":\"lightgrey\"},\"left_units\":\"screen\",\"level\":\"overlay\",\"line_alpha\":{\"value\":1.0},\"line_color\":{\"value\":\"black\"},\"line_dash\":[4,4],\"line_width\":{\"value\":2},\"plot\":null,\"render_mode\":\"css\",\"right_units\":\"screen\",\"top_units\":\"screen\"},\"id\":\"a1394a83-6e9f-4756-902a-6d94461bb671\",\"type\":\"BoxAnnotation\"},{\"attributes\":{\"plot\":{\"id\":\"2e15e1a8-a8f3-4e71-a316-90c01d5ae0e6\",\"subtype\":\"Figure\",\"type\":\"Plot\"}},\"id\":\"10feba38-196a-4b62-bea3-7a488d7f9ef6\",\"type\":\"HelpTool\"},{\"attributes\":{},\"id\":\"eed0a7c8-897f-4a69-b6c8-ad839c4947ce\",\"type\":\"BasicTicker\"},{\"attributes\":{\"bottom\":{\"field\":\"bottom\"},\"fill_color\":{\"field\":\"fill_color\"},\"left\":{\"field\":\"left\"},\"line_color\":{\"value\":null},\"right\":{\"field\":\"right\"},\"top\":{\"field\":\"top\"}},\"id\":\"be9cbb2c-be54-4ff3-b0f4-5e567c044f00\",\"type\":\"Quad\"},{\"attributes\":{\"formatter\":{\"id\":\"2c981bf0-a4c5-4637-aeec-85abe56538dc\",\"type\":\"BasicTickFormatter\"},\"plot\":{\"id\":\"2e15e1a8-a8f3-4e71-a316-90c01d5ae0e6\",\"subtype\":\"Figure\",\"type\":\"Plot\"},\"ticker\":{\"id\":\"e53e133f-0b61-49ae-a51e-1619a958b20e\",\"type\":\"BasicTicker\"},\"visible\":null},\"id\":\"e67c1905-a29b-4d85-b0bd-4a5edc83e49e\",\"type\":\"LinearAxis\"},{\"attributes\":{\"level\":\"glyph\",\"plot\":{\"id\":\"2e15e1a8-a8f3-4e71-a316-90c01d5ae0e6\",\"subtype\":\"Figure\",\"type\":\"Plot\"},\"source\":{\"id\":\"742ea710-8e41-4cb2-9d01-730fc7c2b226\",\"type\":\"ColumnDataSource\"},\"text\":{\"field\":\"vals\"},\"text_align\":\"center\",\"text_baseline\":\"middle\",\"text_font_size\":{\"value\":\"8pt\"},\"x\":{\"field\":\"x\"},\"y\":{\"field\":\"y\"}},\"id\":\"665e2b82-6671-4853-a2c2-b70e1c7ce517\",\"type\":\"LabelSet\"},{\"attributes\":{\"plot\":{\"id\":\"2e15e1a8-a8f3-4e71-a316-90c01d5ae0e6\",\"subtype\":\"Figure\",\"type\":\"Plot\"}},\"id\":\"0d0cf323-0050-4cd2-b8bd-c8ff2513b17e\",\"type\":\"PanTool\"},{\"attributes\":{\"overlay\":{\"id\":\"a1394a83-6e9f-4756-902a-6d94461bb671\",\"type\":\"BoxAnnotation\"},\"plot\":{\"id\":\"2e15e1a8-a8f3-4e71-a316-90c01d5ae0e6\",\"subtype\":\"Figure\",\"type\":\"Plot\"}},\"id\":\"c4c4bd1f-8eec-4381-a15c-6d0416f7dd98\",\"type\":\"BoxZoomTool\"},{\"attributes\":{\"plot\":null,\"text\":null},\"id\":\"50b2b8d2-61d2-4d54-b744-b93825c29003\",\"type\":\"Title\"},{\"attributes\":{\"data_source\":{\"id\":\"e8ae7a0a-3278-41e9-a5b5-0359ca0d802e\",\"type\":\"ColumnDataSource\"},\"glyph\":{\"id\":\"3d3338cd-a90d-4afb-9734-705025aa3ed8\",\"type\":\"Quad\"},\"hover_glyph\":null,\"nonselection_glyph\":{\"id\":\"fab17fbd-af02-4641-8838-157064653647\",\"type\":\"Quad\"},\"selection_glyph\":null},\"id\":\"06d70b83-72c1-46d6-a17d-8d6d2bb76ecd\",\"type\":\"GlyphRenderer\"},{\"attributes\":{\"callback\":null,\"column_names\":[\"y\",\"x\",\"vals\"],\"data\":{\"vals\":[\"1\",\"1\",\"17\",\"22\",\"1\",\"1\",\"1\",\"34\",\"53\",\"1\",\"3\",\"1\",\"765\",\"5\",\"135\",\"9\",\"7\",\"202\"],\"x\":[136539660,136362968,136360998,136598120,136721245,136749709,136454986,135992374,136394372,136753516,136636122,136643561,136719418,136554583,136418915,136758521,136744208,136485534],\"y\":[53,89,125,162,199,271,307,346,390,431,539,575,627,680,761,806,842,924]}},\"id\":\"b360c58d-dec6-42c9-8a28-4a9bccb7125b\",\"type\":\"ColumnDataSource\"},{\"attributes\":{},\"id\":\"ea348eef-dd27-4f64-84cf-90bba011e360\",\"type\":\"BasicTickFormatter\"},{\"attributes\":{\"line_color\":{\"field\":\"line_color\"},\"xs\":{\"field\":\"xs\"},\"ys\":{\"field\":\"ys\"}},\"id\":\"b8f266c1-3886-451d-aa21-46e76c2cee6f\",\"type\":\"MultiLine\"},{\"attributes\":{\"callback\":null,\"column_names\":[\"y\",\"x\",\"vals\"],\"data\":{\"vals\":[\"1\",\"3\",\"2\",\"2\",\"3\"],\"x\":[136637300,136584726,136640337,136483549,136641517],\"y\":[235,467,503,716,878]}},\"id\":\"ccadfefc-fd22-4c12-a2bb-7b66e565d6dd\",\"type\":\"ColumnDataSource\"},{\"attributes\":{\"below\":[{\"id\":\"de4327e6-5abe-48e4-a7be-46c373258a50\",\"type\":\"LinearAxis\"}],\"left\":[{\"id\":\"e67c1905-a29b-4d85-b0bd-4a5edc83e49e\",\"type\":\"LinearAxis\"}],\"plot_height\":1038,\"plot_width\":900,\"renderers\":[{\"id\":\"de4327e6-5abe-48e4-a7be-46c373258a50\",\"type\":\"LinearAxis\"},{\"id\":\"97602265-4527-4e01-b4cb-ae21351dcd5b\",\"type\":\"Grid\"},{\"id\":\"e67c1905-a29b-4d85-b0bd-4a5edc83e49e\",\"type\":\"LinearAxis\"},{\"id\":\"5c6e6b4c-6919-4857-b538-5e3c2f572b5c\",\"type\":\"Grid\"},{\"id\":\"a1394a83-6e9f-4756-902a-6d94461bb671\",\"type\":\"BoxAnnotation\"},{\"id\":\"363e8a42-161c-4c02-bb8b-90af20da4c0b\",\"type\":\"GlyphRenderer\"},{\"id\":\"8fc3aaa0-b778-4bc6-9887-f06a4c13bb06\",\"type\":\"GlyphRenderer\"},{\"id\":\"fcb5774f-caf5-4f19-8b07-ebcca2b22751\",\"type\":\"LabelSet\"},{\"id\":\"1044d185-e046-4df9-b910-1ccfbf782fb9\",\"type\":\"LabelSet\"},{\"id\":\"69c65fd8-1f60-4c07-8f36-52284e7a9c72\",\"type\":\"LabelSet\"},{\"id\":\"06d70b83-72c1-46d6-a17d-8d6d2bb76ecd\",\"type\":\"GlyphRenderer\"},{\"id\":\"665e2b82-6671-4853-a2c2-b70e1c7ce517\",\"type\":\"LabelSet\"}],\"title\":{\"id\":\"50b2b8d2-61d2-4d54-b744-b93825c29003\",\"type\":\"Title\"},\"tool_events\":{\"id\":\"adc6230a-2e8b-4154-885f-3ef3ad070da1\",\"type\":\"ToolEvents\"},\"toolbar\":{\"id\":\"510a08b1-2ddd-4828-8e33-ae34c40810ee\",\"type\":\"Toolbar\"},\"toolbar_location\":null,\"x_range\":{\"id\":\"078329d6-190b-4342-a52e-fa0a9ffbf5c0\",\"type\":\"Range1d\"},\"y_range\":{\"id\":\"daa3856a-fcee-4e86-870d-4325941fe231\",\"type\":\"Range1d\"}},\"id\":\"2e15e1a8-a8f3-4e71-a316-90c01d5ae0e6\",\"subtype\":\"Figure\",\"type\":\"Plot\"},{\"attributes\":{\"callback\":null,\"column_names\":[\"xs\",\"ys\",\"line_color\"],\"data\":{\"line_color\":[\"black\",\"black\",\"black\",\"black\",\"black\",\"black\",\"black\",\"black\",\"black\",\"black\",\"black\",\"black\",\"black\",\"black\",\"black\",\"black\",\"black\",\"black\",\"black\",\"black\",\"black\",\"black\",\"black\",\"black\",\"black\",\"black\",\"black\",\"black\",\"black\",\"black\",\"black\",\"black\",\"black\",\"black\",\"black\",\"black\",\"black\",\"black\",\"black\",\"black\",\"black\",\"black\",\"black\",\"black\",\"black\",\"black\",\"black\",\"black\",\"black\",\"black\",\"black\",\"black\",\"black\",\"black\",\"black\",\"black\",\"black\",\"black\",\"black\",\"black\",\"black\",\"black\",\"black\",\"black\",\"black\",\"black\",\"black\",\"black\",\"black\",\"black\",\"black\",\"black\",\"black\",\"black\",\"black\",\"black\",\"black\",\"black\",\"black\",\"black\",\"black\",\"black\",\"black\",\"black\",\"black\",\"black\",\"black\",\"black\",\"black\",\"black\",\"black\",\"black\",\"black\",\"black\",\"black\",\"black\",\"black\",\"black\",\"black\",\"black\",\"black\",\"black\",\"black\",\"black\",\"black\",\"black\",\"black\",\"black\",\"black\",\"black\",\"black\",\"black\",\"black\",\"black\",\"black\",\"black\",\"black\",\"black\",\"black\",\"black\",\"black\",\"black\",\"black\",\"black\",\"black\",\"black\",\"black\",\"black\",\"black\",\"black\",\"black\",\"black\",\"black\",\"black\",\"black\",\"black\",\"black\",\"black\",\"black\",\"black\",\"black\",\"black\",\"black\",\"black\",\"black\",\"black\",\"black\",\"black\",\"black\",\"black\",\"black\",\"black\",\"black\",\"black\",\"black\",\"black\",\"black\",\"black\",\"black\",\"black\",\"black\",\"black\",\"black\",\"black\",\"black\",\"black\",\"black\",\"black\",\"black\",\"black\",\"black\",\"black\",\"black\",\"black\",\"black\",\"black\",\"black\",\"black\",\"black\",\"black\",\"black\",\"black\",\"black\",\"black\",\"black\",\"black\",\"black\",\"black\",\"black\",\"black\",\"black\",\"black\",\"black\",\"black\",\"black\",\"black\",\"black\",\"black\",\"black\",\"black\",\"black\",\"black\",\"black\",\"black\",\"black\",\"black\",\"black\",\"black\",\"black\",\"black\",\"black\",\"black\",\"black\",\"black\",\"black\",\"black\",\"black\",\"black\",\"black\",\"black\",\"black\",\"black\",\"black\",\"black\",\"black\",\"black\",\"black\",\"black\",\"black\",\"black\",\"black\",\"black\",\"black\",\"black\",\"black\",\"black\",\"black\",\"black\",\"black\",\"black\",\"black\",\"black\",\"black\",\"black\",\"black\",\"black\",\"black\",\"black\",\"black\",\"black\",\"black\",\"black\",\"black\",\"black\",\"black\",\"black\",\"black\",\"black\",\"black\",\"black\",\"black\",\"black\",\"black\",\"black\",\"black\",\"black\",\"black\",\"black\",\"black\",\"black\",\"black\",\"black\",\"black\",\"black\",\"black\",\"black\",\"black\",\"black\",\"black\",\"black\",\"black\",\"black\",\"black\",\"black\",\"black\",\"black\",\"black\",\"black\",\"black\",\"black\",\"black\",\"black\",\"black\",\"black\",\"black\",\"black\",\"black\",\"black\",\"black\",\"black\",\"black\",\"black\",\"black\",\"black\",\"black\",\"black\",\"black\",\"black\",\"black\",\"black\",\"black\",\"black\",\"black\",\"black\",\"black\",\"black\",\"black\",\"black\",\"black\",\"black\",\"black\",\"black\",\"black\",\"black\",\"black\",\"black\",\"black\",\"black\",\"black\",\"black\",\"black\",\"black\",\"black\",\"black\",\"black\",\"black\"],\"xs\":[[136504541,136504541],[136513977,136513977],[136526501,136526501],[136528224,136528224],[136243714,136243714],[136252958,136252958],[136276448,136276448],[136280207,136280207],[136351532,136351532],[136039834,136039834],[136040506,136040506],[136108092,136108092],[136283871,136283871],[136284021,136284021],[136343363,136343363],[136349562,136349562],[135786061,135786061],[135815142,135815142],[135860442,135860442],[136488551,136488551],[136516760,136516760],[136562320,136562320],[136586684,136586684],[136687844,136687844],[136688159,136688159],[136688517,136688517],[136709809,136709809],[136648736,136648736],[136705399,136705399],[136715023,136715023],[136762850,136762850],[136608339,136608339],[136637201,136637201],[136645466,136645466],[136657649,136657649],[136669367,136669367],[136671087,136671087],[136738273,136738273],[135759628,135759628],[135822319,135822319],[135846209,135846209],[135959550,135959550],[136147148,136147148],[136187567,136187567],[136191148,136191148],[136227526,136227526],[136248973,136248973],[136328222,136328222],[136337566,136337566],[136443550,136443550],[135859157,135859157],[135873466,135873466],[135925411,135925411],[135954198,135954198],[135973399,135973399],[135980938,135980938],[135889881,135889881],[135956309,135956309],[136088389,136088389],[136323321,136323321],[136361384,136361384],[136382936,136382936],[136560126,136560126],[136580744,136580744],[136657998,136657998],[136742080,136742080],[136596162,136596162],[136598316,136598316],[136599520,136599520],[136601167,136601167],[136604113,136604113],[136604610,136604610],[136604699,136604699],[136609671,136609671],[136620957,136620957],[136646667,136646667],[136683320,136683320],[136697769,136697769],[136743172,136743172],[136776381,136776381],[136784743,136784743],[136785727,136785727],[136785729,136785729],[136651773,136651773],[136653553,136653553],[136662561,136662561],[136666144,136666144],[136668014,136668014],[136668363,136668363],[136670923,136670923],[136671242,136671242],[136673605,136673605],[136674629,136674629],[136676187,136676187],[136677580,136677580],[136684994,136684994],[136691142,136691142],[136693702,136693702],[136693718,136693718],[136693984,136693984],[136694866,136694866],[136695772,136695772],[136698366,136698366],[136700927,136700927],[136702325,136702325],[136702713,136702713],[136706891,136706891],[136707277,136707277],[136710828,136710828],[136713108,136713108],[136713194,136713194],[136719313,136719313],[136724569,136724569],[136734276,136734276],[136735127,136735127],[136737090,136737090],[136738950,136738950],[136741828,136741828],[136743080,136743080],[136743310,136743310],[136746683,136746683],[136747967,136747967],[136748809,136748809],[136758353,136758353],[136758922,136758922],[136762147,136762147],[136762198,136762198],[136764012,136764012],[136764818,136764818],[136770019,136770019],[136772954,136772954],[136772959,136772959],[136772961,136772961],[136774627,136774627],[136605402,136605402],[136609320,136609320],[136611400,136611400],[136619744,136619744],[136621858,136621858],[136621941,136621941],[136624382,136624382],[136624686,136624686],[136603638,136603638],[136603690,136603690],[136604210,136604210],[136604345,136604345],[136604346,136604346],[136605111,136605111],[136612598,136612598],[136614955,136614955],[136619114,136619114],[136619213,136619213],[136623900,136623900],[136624123,136624123],[136624155,136624155],[136630170,136630170],[136631415,136631415],[136632125,136632125],[135837906,135837906],[135907088,135907088],[135954797,135954797],[136138627,136138627],[136176540,136176540],[136328890,136328890],[136381348,136381348],[136429366,136429366],[136608646,136608646],[136616754,136616754],[136707982,136707982],[136514709,136514709],[136516308,136516308],[136520100,136520100],[136521595,136521595],[136523045,136523045],[136543147,136543147],[136494985,136494985],[136497199,136497199],[136511817,136511817],[136513670,136513670],[136515458,136515458],[136516970,136516970],[136525309,136525309],[136528034,136528034],[136532225,136532225],[136535235,136535235],[136536095,136536095],[136544423,136544423],[136546927,136546927],[136552188,136552188],[136552517,136552517],[136555525,136555525],[136556480,136556480],[136560464,136560464],[136572285,136572285],[136582694,136582694],[136582809,136582809],[136584538,136584538],[136585323,136585323],[136586825,136586825],[136600662,136600662],[136612036,136612036],[136618178,136618178],[136618507,136618507],[136622543,136622543],[136624947,136624947],[136625113,136625113],[136626078,136626078],[136628121,136628121],[136632300,136632300],[136633962,136633962],[136635343,136635343],[136638113,136638113],[136640101,136640101],[136641593,136641593],[136646582,136646582],[136648077,136648077],[136648883,136648883],[136652045,136652045],[136653848,136653848],[136656094,136656094],[136661110,136661110],[136663110,136663110],[136663605,136663605],[136665162,136665162],[136665711,136665711],[136668123,136668123],[136670419,136670419],[136672680,136672680],[136673546,136673546],[136684632,136684632],[136686114,136686114],[136690425,136690425],[136690783,136690783],[136692893,136692893],[136694905,136694905],[136695694,136695694],[136695705,136695705],[136696608,136696608],[136697372,136697372],[136697468,136697468],[136700024,136700024],[136701539,136701539],[136702118,136702118],[136707480,136707480],[136710554,136710554],[136714178,136714178],[136719173,136719173],[136725459,136725459],[136734569,136734569],[136744678,136744678],[136748779,136748779],[136751488,136751488],[136754183,136754183],[136763242,136763242],[136765074,136765074],[136773638,136773638],[136092061,136092061],[136273578,136273578],[136322676,136322676],[136407479,136407479],[136556805,136556805],[136560003,136560003],[136562472,136562472],[136563248,136563248],[136565328,136565328],[136570613,136570613],[136571982,136571982],[136574305,136574305],[136578040,136578040],[136578194,136578194],[136580398,136580398],[136586828,136586828],[136590558,136590558],[136592309,136592309],[136593541,136593541],[136593694,136593694],[136595426,136595426],[136615222,136615222],[136624919,136624919],[136626004,136626004],[136628380,136628380],[136636909,136636909],[136637350,136637350],[136637622,136637622],[136639487,136639487],[136646900,136646900],[136652093,136652093],[136652859,136652859],[136655620,136655620],[136667896,136667896],[136671801,136671801],[136677192,136677192],[136683293,136683293],[136704414,136704414],[136720344,136720344],[136731066,136731066],[136733897,136733897],[136743490,136743490],[136747085,136747085],[136652491,136652491],[136652524,136652524],[136661150,136661150],[136669264,136669264],[136726567,136726567],[136732772,136732772],[136652953,136652953],[136655582,136655582],[136674028,136674028],[136684940,136684940],[136761175,136761175],[136398174,136398174],[136402117,136402117],[136403749,136403749],[136409073,136409073],[136410299,136410299],[136413359,136413359],[136416855,136416855],[136416941,136416941],[136418348,136418348],[136419961,136419961],[136420690,136420690],[136422171,136422171],[136428460,136428460],[136430866,136430866],[136432103,136432103],[136437507,136437507],[136439090,136439090],[136439517,136439517],[136444123,136444123],[136445526,136445526],[136445869,136445869],[136455600,136455600],[136456642,136456642],[136462441,136462441],[136470714,136470714],[136474098,136474098]],\"ys\":[[50,56],[50,56],[50,56],[50,56],[86,92],[86,92],[86,92],[86,92],[86,92],[122,128],[122,128],[122,128],[122,128],[122,128],[122,128],[122,128],[158,166],[158,166],[158,166],[158,166],[158,166],[158,166],[158,166],[196,202],[196,202],[196,202],[196,202],[232,238],[232,238],[232,238],[232,238],[268,274],[268,274],[268,274],[268,274],[268,274],[268,274],[268,274],[304,310],[304,310],[304,310],[304,310],[304,310],[304,310],[304,310],[304,310],[304,310],[304,310],[304,310],[304,310],[340,352],[340,352],[340,352],[340,352],[340,352],[340,352],[382,398],[382,398],[382,398],[382,398],[382,398],[382,398],[428,434],[428,434],[428,434],[428,434],[464,470],[464,470],[464,470],[464,470],[464,470],[464,470],[464,470],[464,470],[464,470],[464,470],[464,470],[464,470],[464,470],[464,470],[464,470],[464,470],[464,470],[500,506],[500,506],[500,506],[500,506],[500,506],[500,506],[500,506],[500,506],[500,506],[500,506],[500,506],[500,506],[500,506],[500,506],[500,506],[500,506],[500,506],[500,506],[500,506],[500,506],[500,506],[500,506],[500,506],[500,506],[500,506],[500,506],[500,506],[500,506],[500,506],[500,506],[500,506],[500,506],[500,506],[500,506],[500,506],[500,506],[500,506],[500,506],[500,506],[500,506],[500,506],[500,506],[500,506],[500,506],[500,506],[500,506],[500,506],[500,506],[500,506],[500,506],[500,506],[536,542],[536,542],[536,542],[536,542],[536,542],[536,542],[536,542],[536,542],[572,578],[572,578],[572,578],[572,578],[572,578],[572,578],[572,578],[572,578],[572,578],[572,578],[572,578],[572,578],[572,578],[572,578],[572,578],[572,578],[608,647],[608,647],[608,647],[608,647],[608,647],[608,647],[608,647],[608,647],[608,647],[608,647],[608,647],[677,683],[677,683],[677,683],[677,683],[677,683],[677,683],[713,719],[713,719],[713,719],[713,719],[713,719],[713,719],[713,719],[713,719],[713,719],[713,719],[713,719],[713,719],[713,719],[713,719],[713,719],[713,719],[713,719],[713,719],[713,719],[713,719],[713,719],[713,719],[713,719],[713,719],[713,719],[713,719],[713,719],[713,719],[713,719],[713,719],[713,719],[713,719],[713,719],[713,719],[713,719],[713,719],[713,719],[713,719],[713,719],[713,719],[713,719],[713,719],[713,719],[713,719],[713,719],[713,719],[713,719],[713,719],[713,719],[713,719],[713,719],[713,719],[713,719],[713,719],[713,719],[713,719],[713,719],[713,719],[713,719],[713,719],[713,719],[713,719],[713,719],[713,719],[713,719],[713,719],[713,719],[713,719],[713,719],[713,719],[713,719],[713,719],[713,719],[713,719],[713,719],[713,719],[713,719],[713,719],[713,719],[713,719],[713,719],[749,773],[749,773],[749,773],[749,773],[803,809],[803,809],[803,809],[803,809],[803,809],[803,809],[803,809],[803,809],[803,809],[803,809],[803,809],[803,809],[803,809],[803,809],[803,809],[803,809],[803,809],[803,809],[803,809],[803,809],[803,809],[803,809],[803,809],[803,809],[803,809],[803,809],[803,809],[803,809],[803,809],[803,809],[803,809],[803,809],[803,809],[803,809],[803,809],[803,809],[803,809],[803,809],[803,809],[839,845],[839,845],[839,845],[839,845],[839,845],[839,845],[875,881],[875,881],[875,881],[875,881],[875,881],[911,938],[911,938],[911,938],[911,938],[911,938],[911,938],[911,938],[911,938],[911,938],[911,938],[911,938],[911,938],[911,938],[911,938],[911,938],[911,938],[911,938],[911,938],[911,938],[911,938],[911,938],[911,938],[911,938],[911,938],[911,938],[911,938]]}},\"id\":\"08beb468-b256-4172-9874-40f1dab19890\",\"type\":\"ColumnDataSource\"},{\"attributes\":{\"formatter\":{\"id\":\"ea348eef-dd27-4f64-84cf-90bba011e360\",\"type\":\"BasicTickFormatter\"},\"plot\":{\"id\":\"2e15e1a8-a8f3-4e71-a316-90c01d5ae0e6\",\"subtype\":\"Figure\",\"type\":\"Plot\"},\"ticker\":{\"id\":\"eed0a7c8-897f-4a69-b6c8-ad839c4947ce\",\"type\":\"BasicTicker\"}},\"id\":\"de4327e6-5abe-48e4-a7be-46c373258a50\",\"type\":\"LinearAxis\"}],\"root_ids\":[\"2e15e1a8-a8f3-4e71-a316-90c01d5ae0e6\"]},\"title\":\"Bokeh Application\",\"version\":\"0.12.0\"}};\n",
       "            var render_items = [{\"docid\":\"725e2719-25e0-42dd-ba7a-3574563be187\",\"elementid\":\"43fb0b1a-7dd7-4154-81c7-c9a12d562d70\",\"modelid\":\"2e15e1a8-a8f3-4e71-a316-90c01d5ae0e6\",\"notebook_comms_target\":\"5e718daf-babd-4372-a111-0c6cd388a1c3\"}];\n",
       "            \n",
       "            Bokeh.embed.embed_items(docs_json, render_items);\n",
       "        });\n",
       "      },\n",
       "      function(Bokeh) {\n",
       "      }\n",
       "    ];\n",
       "  \n",
       "    function run_inline_js() {\n",
       "      for (var i = 0; i < inline_js.length; i++) {\n",
       "        inline_js[i](window.Bokeh);\n",
       "      }\n",
       "    }\n",
       "  \n",
       "    if (window._bokeh_is_loading === 0) {\n",
       "      console.log(\"Bokeh: BokehJS loaded, going straight to plotting\");\n",
       "      run_inline_js();\n",
       "    } else {\n",
       "      load_libs(js_urls, function() {\n",
       "        console.log(\"Bokeh: BokehJS plotting callback run at\", now());\n",
       "        run_inline_js();\n",
       "      });\n",
       "    }\n",
       "  }(this));\n",
       "</script>"
      ]
     },
     "metadata": {},
     "output_type": "display_data"
    },
    {
     "data": {
      "text/html": [
       "<p><code>&lt;Bokeh Notebook handle for <strong>In[7]</strong>&gt;</code></p>"
      ],
      "text/plain": [
       "<bokeh.io._CommsHandle at 0x7f3f0c339510>"
      ]
     },
     "execution_count": 7,
     "metadata": {},
     "output_type": "execute_result"
    }
   ],
   "source": [
    "plt_obj = dm.basis_yes_no([dm.di_6_1503, dm.di_26_1414])\n",
    "plt = plt_obj.do_basis_plot()\n",
    "show(plt)"
   ]
  },
  {
   "cell_type": "markdown",
   "metadata": {},
   "source": [
    "<div style=\"width:700px\">\n",
    "<p>\n",
    "This plot shows the basis series for all of the chromosome 2 samples in the phase 3 1000 genomes data\n",
    "that express both the series 6_1503 and 26_1414.  These criteria identify the chromosome 2 samples\n",
    "that express hierarchies that are part of the EUR tree.\n",
    "<p>\n",
    "Series are labeled in the top left corner by their id.  The number at the end of the series is the\n",
    "number of chromosome 2 samples that do express it and do not express any other more specific series\n",
    "in the lactase persistence region of chromosome 2.  For example the 135 chromosome 2 samples that express\n",
    "the series 4_911 as a basis series do not express the series 11_765.  All but 3 of the chromosome samples\n",
    "that express 11_765 also express 4_911.  But, since 911 chromosamples express 4_911 and only 765 chromosome\n",
    "samples express 11_765, 11_765 is the more specific series.\n",
    "<p>\n",
    "The color used to represent the basis series is the color used to represent the whole series.  But the height\n",
    "of the basis series rectangles is a function of the log of the number of chromosome samples that actually\n",
    "express it as a basis series.\n",
    "</div>"
   ]
  },
  {
   "cell_type": "code",
   "execution_count": 8,
   "metadata": {
    "collapsed": false
   },
   "outputs": [
    {
     "data": {
      "text/html": [
       "<table>\n",
       "<thead><tr><th style=\"text-align:center\">index</th><th style=\"text-align:center\">first</th><th style=\"text-align:center\">last</th><th style=\"text-align:center\">length</th><th style=\"text-align:center\">snps</th><th style=\"text-align:center\">alleles</th><th style=\"text-align:center\">basis</th><th style=\"text-align:center\" colspan=2>afr</th><th style=\"text-align:center\" colspan=2>afx</th><th style=\"text-align:center\" colspan=2>amr</th><th style=\"text-align:center\" colspan=2>eas</th><th style=\"text-align:center\" colspan=2>eur</th><th style=\"text-align:center\" colspan=2>sas</th><th style=\"text-align:center\" colspan=2>sax</th></tr></thead>\n",
       "<tr class=\"even\"><td style=\"text-align: right;\">353797</td><td style=\"text-align: right;\">136,398,174</td><td style=\"text-align: right;\">136,474,098</td><td style=\"text-align: right;\">75,924</td><td style=\"text-align: right;\">26</td><td style=\"text-align: right;padding-right: 1em\">1414</td><td style=\"text-align: right;padding-right: 1em\">202</td><td style=\"text-align: right;\">6</td><td style=\"text-align: right;\">0.15</td><td style=\"text-align: right;\">2</td><td style=\"text-align: right;\">0.16</td><td style=\"text-align: right;\">39</td><td style=\"text-align: right;\">1.39</td><td style=\"text-align: right;\">80</td><td style=\"text-align: right;\">1.97</td><td style=\"text-align: right;\">20</td><td style=\"text-align: right;\">0.49</td><td style=\"text-align: right;\">19</td><td style=\"text-align: right;\">1.29</td><td style=\"text-align: right;\">36</td><td style=\"text-align: right;\">1.45</td></tr>\n",
       "<tr><td style=\"text-align: right;\">354129</td><td style=\"text-align: right;\">136,652,953</td><td style=\"text-align: right;\">136,761,175</td><td style=\"text-align: right;\">108,222</td><td style=\"text-align: right;\">5</td><td style=\"text-align: right;padding-right: 1em\">1296</td><td style=\"text-align: right;padding-right: 1em\">3</td><td style=\"text-align: right;\">0</td><td style=\"text-align: right;\">0.00</td><td style=\"text-align: right;\">0</td><td style=\"text-align: right;\">0.00</td><td style=\"text-align: right;\">0</td><td style=\"text-align: right;\">0.00</td><td style=\"text-align: right;\">3</td><td style=\"text-align: right;\">4.97</td><td style=\"text-align: right;\">0</td><td style=\"text-align: right;\">0.00</td><td style=\"text-align: right;\">0</td><td style=\"text-align: right;\">0.00</td><td style=\"text-align: right;\">0</td><td style=\"text-align: right;\">0.00</td></tr>\n",
       "<tr class=\"even\"><td style=\"text-align: right;\">354127</td><td style=\"text-align: right;\">136,652,491</td><td style=\"text-align: right;\">136,732,772</td><td style=\"text-align: right;\">80,281</td><td style=\"text-align: right;\">6</td><td style=\"text-align: right;padding-right: 1em\">1114</td><td style=\"text-align: right;padding-right: 1em\">7</td><td style=\"text-align: right;\">0</td><td style=\"text-align: right;\">0.00</td><td style=\"text-align: right;\">0</td><td style=\"text-align: right;\">0.00</td><td style=\"text-align: right;\">0</td><td style=\"text-align: right;\">0.00</td><td style=\"text-align: right;\">2</td><td style=\"text-align: right;\">1.42</td><td style=\"text-align: right;\">1</td><td style=\"text-align: right;\">0.71</td><td style=\"text-align: right;\">2</td><td style=\"text-align: right;\">3.93</td><td style=\"text-align: right;\">2</td><td style=\"text-align: right;\">2.33</td></tr>\n",
       "<tr><td style=\"text-align: right;\">353984</td><td style=\"text-align: right;\">136,556,805</td><td style=\"text-align: right;\">136,747,085</td><td style=\"text-align: right;\">190,280</td><td style=\"text-align: right;\">39</td><td style=\"text-align: right;padding-right: 1em\">1014</td><td style=\"text-align: right;padding-right: 1em\">9</td><td style=\"text-align: right;\">0</td><td style=\"text-align: right;\">0.00</td><td style=\"text-align: right;\">0</td><td style=\"text-align: right;\">0.00</td><td style=\"text-align: right;\">0</td><td style=\"text-align: right;\">0.00</td><td style=\"text-align: right;\">7</td><td style=\"text-align: right;\">3.86</td><td style=\"text-align: right;\">1</td><td style=\"text-align: right;\">0.55</td><td style=\"text-align: right;\">1</td><td style=\"text-align: right;\">1.53</td><td style=\"text-align: right;\">0</td><td style=\"text-align: right;\">0.00</td></tr>\n",
       "<tr class=\"even\"><td style=\"text-align: right;\">353604</td><td style=\"text-align: right;\">136,092,061</td><td style=\"text-align: right;\">136,407,479</td><td style=\"text-align: right;\">315,418</td><td style=\"text-align: right;\">4</td><td style=\"text-align: right;padding-right: 1em\">911</td><td style=\"text-align: right;padding-right: 1em\">135</td><td style=\"text-align: right;\">0</td><td style=\"text-align: right;\">0.00</td><td style=\"text-align: right;\">0</td><td style=\"text-align: right;\">0.00</td><td style=\"text-align: right;\">56</td><td style=\"text-align: right;\">2.99</td><td style=\"text-align: right;\">0</td><td style=\"text-align: right;\">0.00</td><td style=\"text-align: right;\">35</td><td style=\"text-align: right;\">1.29</td><td style=\"text-align: right;\">16</td><td style=\"text-align: right;\">1.63</td><td style=\"text-align: right;\">28</td><td style=\"text-align: right;\">1.69</td></tr>\n",
       "<tr><td style=\"text-align: right;\">353902</td><td style=\"text-align: right;\">136,494,985</td><td style=\"text-align: right;\">136,773,638</td><td style=\"text-align: right;\">278,653</td><td style=\"text-align: right;\">81</td><td style=\"text-align: right;padding-right: 1em\">857</td><td style=\"text-align: right;padding-right: 1em\">2</td><td style=\"text-align: right;\">0</td><td style=\"text-align: right;\">0.00</td><td style=\"text-align: right;\">0</td><td style=\"text-align: right;\">0.00</td><td style=\"text-align: right;\">0</td><td style=\"text-align: right;\">0.00</td><td style=\"text-align: right;\">0</td><td style=\"text-align: right;\">0.00</td><td style=\"text-align: right;\">0</td><td style=\"text-align: right;\">0.00</td><td style=\"text-align: right;\">0</td><td style=\"text-align: right;\">0.00</td><td style=\"text-align: right;\">2</td><td style=\"text-align: right;\">8.16</td></tr>\n",
       "<tr class=\"even\"><td style=\"text-align: right;\">353938</td><td style=\"text-align: right;\">136,514,709</td><td style=\"text-align: right;\">136,543,147</td><td style=\"text-align: right;\">28,438</td><td style=\"text-align: right;\">6</td><td style=\"text-align: right;padding-right: 1em\">820</td><td style=\"text-align: right;padding-right: 1em\">5</td><td style=\"text-align: right;\">0</td><td style=\"text-align: right;\">0.00</td><td style=\"text-align: right;\">0</td><td style=\"text-align: right;\">0.00</td><td style=\"text-align: right;\">1</td><td style=\"text-align: right;\">1.44</td><td style=\"text-align: right;\">0</td><td style=\"text-align: right;\">0.00</td><td style=\"text-align: right;\">0</td><td style=\"text-align: right;\">0.00</td><td style=\"text-align: right;\">2</td><td style=\"text-align: right;\">5.50</td><td style=\"text-align: right;\">2</td><td style=\"text-align: right;\">3.26</td></tr>\n",
       "<tr><td style=\"text-align: right;\">353380</td><td style=\"text-align: right;\">135,837,906</td><td style=\"text-align: right;\">136,707,982</td><td style=\"text-align: right;\">870,076</td><td style=\"text-align: right;\">11</td><td style=\"text-align: right;padding-right: 1em\">765</td><td style=\"text-align: right;padding-right: 1em\">765</td><td style=\"text-align: right;\">2</td><td style=\"text-align: right;\">0.01</td><td style=\"text-align: right;\">32</td><td style=\"text-align: right;\">0.67</td><td style=\"text-align: right;\">146</td><td style=\"text-align: right;\">1.38</td><td style=\"text-align: right;\">0</td><td style=\"text-align: right;\">0.00</td><td style=\"text-align: right;\">484</td><td style=\"text-align: right;\">3.15</td><td style=\"text-align: right;\">56</td><td style=\"text-align: right;\">1.01</td><td style=\"text-align: right;\">45</td><td style=\"text-align: right;\">0.48</td></tr>\n",
       "<tr class=\"even\"><td style=\"text-align: right;\">354061</td><td style=\"text-align: right;\">136,603,638</td><td style=\"text-align: right;\">136,632,125</td><td style=\"text-align: right;\">28,487</td><td style=\"text-align: right;\">16</td><td style=\"text-align: right;padding-right: 1em\">511</td><td style=\"text-align: right;padding-right: 1em\">1</td><td style=\"text-align: right;\">0</td><td style=\"text-align: right;\">0.00</td><td style=\"text-align: right;\">0</td><td style=\"text-align: right;\">0.00</td><td style=\"text-align: right;\">1</td><td style=\"text-align: right;\">7.22</td><td style=\"text-align: right;\">0</td><td style=\"text-align: right;\">0.00</td><td style=\"text-align: right;\">0</td><td style=\"text-align: right;\">0.00</td><td style=\"text-align: right;\">0</td><td style=\"text-align: right;\">0.00</td><td style=\"text-align: right;\">0</td><td style=\"text-align: right;\">0.00</td></tr>\n",
       "<tr><td style=\"text-align: right;\">354064</td><td style=\"text-align: right;\">136,605,402</td><td style=\"text-align: right;\">136,624,686</td><td style=\"text-align: right;\">19,284</td><td style=\"text-align: right;\">8</td><td style=\"text-align: right;padding-right: 1em\">328</td><td style=\"text-align: right;padding-right: 1em\">3</td><td style=\"text-align: right;\">0</td><td style=\"text-align: right;\">0.00</td><td style=\"text-align: right;\">0</td><td style=\"text-align: right;\">0.00</td><td style=\"text-align: right;\">1</td><td style=\"text-align: right;\">2.41</td><td style=\"text-align: right;\">0</td><td style=\"text-align: right;\">0.00</td><td style=\"text-align: right;\">2</td><td style=\"text-align: right;\">3.32</td><td style=\"text-align: right;\">0</td><td style=\"text-align: right;\">0.00</td><td style=\"text-align: right;\">0</td><td style=\"text-align: right;\">0.00</td></tr>\n",
       "<tr class=\"even\"><td style=\"text-align: right;\">354123</td><td style=\"text-align: right;\">136,651,773</td><td style=\"text-align: right;\">136,774,627</td><td style=\"text-align: right;\">122,854</td><td style=\"text-align: right;\">51</td><td style=\"text-align: right;padding-right: 1em\">176</td><td style=\"text-align: right;padding-right: 1em\">2</td><td style=\"text-align: right;\">0</td><td style=\"text-align: right;\">0.00</td><td style=\"text-align: right;\">0</td><td style=\"text-align: right;\">0.00</td><td style=\"text-align: right;\">0</td><td style=\"text-align: right;\">0.00</td><td style=\"text-align: right;\">2</td><td style=\"text-align: right;\">4.97</td><td style=\"text-align: right;\">0</td><td style=\"text-align: right;\">0.00</td><td style=\"text-align: right;\">0</td><td style=\"text-align: right;\">0.00</td><td style=\"text-align: right;\">0</td><td style=\"text-align: right;\">0.00</td></tr>\n",
       "<tr><td style=\"text-align: right;\">354051</td><td style=\"text-align: right;\">136,596,162</td><td style=\"text-align: right;\">136,785,729</td><td style=\"text-align: right;\">189,567</td><td style=\"text-align: right;\">17</td><td style=\"text-align: right;padding-right: 1em\">137</td><td style=\"text-align: right;padding-right: 1em\">3</td><td style=\"text-align: right;\">0</td><td style=\"text-align: right;\">0.00</td><td style=\"text-align: right;\">0</td><td style=\"text-align: right;\">0.00</td><td style=\"text-align: right;\">0</td><td style=\"text-align: right;\">0.00</td><td style=\"text-align: right;\">1</td><td style=\"text-align: right;\">1.66</td><td style=\"text-align: right;\">2</td><td style=\"text-align: right;\">3.32</td><td style=\"text-align: right;\">0</td><td style=\"text-align: right;\">0.00</td><td style=\"text-align: right;\">0</td><td style=\"text-align: right;\">0.00</td></tr>\n",
       "<tr class=\"even\"><td style=\"text-align: right;\">353987</td><td style=\"text-align: right;\">136,560,126</td><td style=\"text-align: right;\">136,742,080</td><td style=\"text-align: right;\">181,954</td><td style=\"text-align: right;\">4</td><td style=\"text-align: right;padding-right: 1em\">57</td><td style=\"text-align: right;padding-right: 1em\">1</td><td style=\"text-align: right;\">0</td><td style=\"text-align: right;\">0.00</td><td style=\"text-align: right;\">0</td><td style=\"text-align: right;\">0.00</td><td style=\"text-align: right;\">0</td><td style=\"text-align: right;\">0.00</td><td style=\"text-align: right;\">0</td><td style=\"text-align: right;\">0.00</td><td style=\"text-align: right;\">0</td><td style=\"text-align: right;\">0.00</td><td style=\"text-align: right;\">1</td><td style=\"text-align: right;\">13.76</td><td style=\"text-align: right;\">0</td><td style=\"text-align: right;\">0.00</td></tr>\n",
       "<tr><td style=\"text-align: right;\">353444</td><td style=\"text-align: right;\">135,889,881</td><td style=\"text-align: right;\">136,382,936</td><td style=\"text-align: right;\">493,055</td><td style=\"text-align: right;\">6</td><td style=\"text-align: right;padding-right: 1em\">57</td><td style=\"text-align: right;padding-right: 1em\">53</td><td style=\"text-align: right;\">2</td><td style=\"text-align: right;\">0.19</td><td style=\"text-align: right;\">1</td><td style=\"text-align: right;\">0.30</td><td style=\"text-align: right;\">14</td><td style=\"text-align: right;\">1.91</td><td style=\"text-align: right;\">0</td><td style=\"text-align: right;\">0.00</td><td style=\"text-align: right;\">28</td><td style=\"text-align: right;\">2.63</td><td style=\"text-align: right;\">5</td><td style=\"text-align: right;\">1.30</td><td style=\"text-align: right;\">3</td><td style=\"text-align: right;\">0.46</td></tr>\n",
       "<tr class=\"even\"><td style=\"text-align: right;\">353407</td><td style=\"text-align: right;\">135,859,157</td><td style=\"text-align: right;\">135,980,938</td><td style=\"text-align: right;\">121,781</td><td style=\"text-align: right;\">6</td><td style=\"text-align: right;padding-right: 1em\">35</td><td style=\"text-align: right;padding-right: 1em\">34</td><td style=\"text-align: right;\">1</td><td style=\"text-align: right;\">0.15</td><td style=\"text-align: right;\">1</td><td style=\"text-align: right;\">0.47</td><td style=\"text-align: right;\">12</td><td style=\"text-align: right;\">2.55</td><td style=\"text-align: right;\">0</td><td style=\"text-align: right;\">0.00</td><td style=\"text-align: right;\">17</td><td style=\"text-align: right;\">2.49</td><td style=\"text-align: right;\">2</td><td style=\"text-align: right;\">0.81</td><td style=\"text-align: right;\">1</td><td style=\"text-align: right;\">0.24</td></tr>\n",
       "<tr><td style=\"text-align: right;\">353252</td><td style=\"text-align: right;\">135,759,628</td><td style=\"text-align: right;\">136,443,550</td><td style=\"text-align: right;\">683,922</td><td style=\"text-align: right;\">12</td><td style=\"text-align: right;padding-right: 1em\">32</td><td style=\"text-align: right;padding-right: 1em\">1</td><td style=\"text-align: right;\">0</td><td style=\"text-align: right;\">0.00</td><td style=\"text-align: right;\">0</td><td style=\"text-align: right;\">0.00</td><td style=\"text-align: right;\">1</td><td style=\"text-align: right;\">7.22</td><td style=\"text-align: right;\">0</td><td style=\"text-align: right;\">0.00</td><td style=\"text-align: right;\">0</td><td style=\"text-align: right;\">0.00</td><td style=\"text-align: right;\">0</td><td style=\"text-align: right;\">0.00</td><td style=\"text-align: right;\">0</td><td style=\"text-align: right;\">0.00</td></tr>\n",
       "<tr class=\"even\"><td style=\"text-align: right;\">354074</td><td style=\"text-align: right;\">136,608,339</td><td style=\"text-align: right;\">136,738,273</td><td style=\"text-align: right;\">129,934</td><td style=\"text-align: right;\">7</td><td style=\"text-align: right;padding-right: 1em\">31</td><td style=\"text-align: right;padding-right: 1em\">1</td><td style=\"text-align: right;\">1</td><td style=\"text-align: right;\">4.97</td><td style=\"text-align: right;\">0</td><td style=\"text-align: right;\">0.00</td><td style=\"text-align: right;\">0</td><td style=\"text-align: right;\">0.00</td><td style=\"text-align: right;\">0</td><td style=\"text-align: right;\">0.00</td><td style=\"text-align: right;\">0</td><td style=\"text-align: right;\">0.00</td><td style=\"text-align: right;\">0</td><td style=\"text-align: right;\">0.00</td><td style=\"text-align: right;\">0</td><td style=\"text-align: right;\">0.00</td></tr>\n",
       "<tr><td style=\"text-align: right;\">354116</td><td style=\"text-align: right;\">136,648,736</td><td style=\"text-align: right;\">136,762,850</td><td style=\"text-align: right;\">114,114</td><td style=\"text-align: right;\">4</td><td style=\"text-align: right;padding-right: 1em\">26</td><td style=\"text-align: right;padding-right: 1em\">1</td><td style=\"text-align: right;\">0</td><td style=\"text-align: right;\">0.00</td><td style=\"text-align: right;\">0</td><td style=\"text-align: right;\">0.00</td><td style=\"text-align: right;\">0</td><td style=\"text-align: right;\">0.00</td><td style=\"text-align: right;\">0</td><td style=\"text-align: right;\">0.00</td><td style=\"text-align: right;\">1</td><td style=\"text-align: right;\">4.98</td><td style=\"text-align: right;\">0</td><td style=\"text-align: right;\">0.00</td><td style=\"text-align: right;\">0</td><td style=\"text-align: right;\">0.00</td></tr>\n",
       "<tr class=\"even\"><td style=\"text-align: right;\">354176</td><td style=\"text-align: right;\">136,687,844</td><td style=\"text-align: right;\">136,709,809</td><td style=\"text-align: right;\">21,965</td><td style=\"text-align: right;\">4</td><td style=\"text-align: right;padding-right: 1em\">25</td><td style=\"text-align: right;padding-right: 1em\">1</td><td style=\"text-align: right;\">0</td><td style=\"text-align: right;\">0.00</td><td style=\"text-align: right;\">0</td><td style=\"text-align: right;\">0.00</td><td style=\"text-align: right;\">0</td><td style=\"text-align: right;\">0.00</td><td style=\"text-align: right;\">1</td><td style=\"text-align: right;\">4.97</td><td style=\"text-align: right;\">0</td><td style=\"text-align: right;\">0.00</td><td style=\"text-align: right;\">0</td><td style=\"text-align: right;\">0.00</td><td style=\"text-align: right;\">0</td><td style=\"text-align: right;\">0.00</td></tr>\n",
       "<tr><td style=\"text-align: right;\">353315</td><td style=\"text-align: right;\">135,786,061</td><td style=\"text-align: right;\">136,586,684</td><td style=\"text-align: right;\">800,623</td><td style=\"text-align: right;\">7</td><td style=\"text-align: right;padding-right: 1em\">22</td><td style=\"text-align: right;padding-right: 1em\">22</td><td style=\"text-align: right;\">0</td><td style=\"text-align: right;\">0.00</td><td style=\"text-align: right;\">0</td><td style=\"text-align: right;\">0.00</td><td style=\"text-align: right;\">0</td><td style=\"text-align: right;\">0.00</td><td style=\"text-align: right;\">19</td><td style=\"text-align: right;\">4.29</td><td style=\"text-align: right;\">0</td><td style=\"text-align: right;\">0.00</td><td style=\"text-align: right;\">3</td><td style=\"text-align: right;\">1.88</td><td style=\"text-align: right;\">0</td><td style=\"text-align: right;\">0.00</td></tr>\n",
       "<tr class=\"even\"><td style=\"text-align: right;\">353570</td><td style=\"text-align: right;\">136,039,834</td><td style=\"text-align: right;\">136,349,562</td><td style=\"text-align: right;\">309,728</td><td style=\"text-align: right;\">7</td><td style=\"text-align: right;padding-right: 1em\">20</td><td style=\"text-align: right;padding-right: 1em\">17</td><td style=\"text-align: right;\">0</td><td style=\"text-align: right;\">0.00</td><td style=\"text-align: right;\">1</td><td style=\"text-align: right;\">0.94</td><td style=\"text-align: right;\">4</td><td style=\"text-align: right;\">1.70</td><td style=\"text-align: right;\">0</td><td style=\"text-align: right;\">0.00</td><td style=\"text-align: right;\">11</td><td style=\"text-align: right;\">3.22</td><td style=\"text-align: right;\">0</td><td style=\"text-align: right;\">0.00</td><td style=\"text-align: right;\">1</td><td style=\"text-align: right;\">0.48</td></tr>\n",
       "<tr><td style=\"text-align: right;\">353692</td><td style=\"text-align: right;\">136,243,714</td><td style=\"text-align: right;\">136,351,532</td><td style=\"text-align: right;\">107,818</td><td style=\"text-align: right;\">5</td><td style=\"text-align: right;padding-right: 1em\">18</td><td style=\"text-align: right;padding-right: 1em\">1</td><td style=\"text-align: right;\">0</td><td style=\"text-align: right;\">0.00</td><td style=\"text-align: right;\">0</td><td style=\"text-align: right;\">0.00</td><td style=\"text-align: right;\">1</td><td style=\"text-align: right;\">7.22</td><td style=\"text-align: right;\">0</td><td style=\"text-align: right;\">0.00</td><td style=\"text-align: right;\">0</td><td style=\"text-align: right;\">0.00</td><td style=\"text-align: right;\">0</td><td style=\"text-align: right;\">0.00</td><td style=\"text-align: right;\">0</td><td style=\"text-align: right;\">0.00</td></tr>\n",
       "<tr class=\"even\"><td style=\"text-align: right;\">353922</td><td style=\"text-align: right;\">136,504,541</td><td style=\"text-align: right;\">136,528,224</td><td style=\"text-align: right;\">23,683</td><td style=\"text-align: right;\">4</td><td style=\"text-align: right;padding-right: 1em\">17</td><td style=\"text-align: right;padding-right: 1em\">1</td><td style=\"text-align: right;\">1</td><td style=\"text-align: right;\">4.97</td><td style=\"text-align: right;\">0</td><td style=\"text-align: right;\">0.00</td><td style=\"text-align: right;\">0</td><td style=\"text-align: right;\">0.00</td><td style=\"text-align: right;\">0</td><td style=\"text-align: right;\">0.00</td><td style=\"text-align: right;\">0</td><td style=\"text-align: right;\">0.00</td><td style=\"text-align: right;\">0</td><td style=\"text-align: right;\">0.00</td><td style=\"text-align: right;\">0</td><td style=\"text-align: right;\">0.00</td></tr>\n",
       "</table>"
      ],
      "text/plain": [
       "<IPython.core.display.HTML object>"
      ]
     },
     "execution_count": 8,
     "metadata": {},
     "output_type": "execute_result"
    }
   ],
   "source": [
    "HTML(plt_obj.get_basis_html())"
   ]
  },
  {
   "cell_type": "markdown",
   "metadata": {},
   "source": [
    "<div style=\"width:700px\">\n",
    "<p>\n",
    "The data accompanying the basis plots needs to be consulted to understand the population\n",
    "distribution of the chromosome samples that express a particular series as a basis.  The data\n",
    "in this table for the series 26_1414, 4_911, and 11_765 provide some insight in the evolution\n",
    "of lactase persistence.\n",
    "<p>\n",
    "The 202 chromosome samples that express 26_1414 as a basis suggest\n",
    "that the root series of the EUR tree already had some kind of selective advantage.  Those\n",
    "samples are heavily under expressed in African populations, modestly under expressed in\n",
    "European populations, modestly overexpressed in American and South Asian populations,\n",
    "and most heavily overexpressed in East Asian populations.  The root series of the EUR\n",
    "tree does seem to have been favored by the expansion out of Africa.  But, it appears\n",
    "to have been distributed over all of the other 1000 genomes population regions.\n",
    "<p>\n",
    "The 135 chromosomes that express 4_911 as a basis do not include any African or East Asian\n",
    "chromosomes.  They are modestly overexpressed for European populations, more overexpressed\n",
    "for South Asian populations and most overexpressed for American populations.  It seems unlikely\n",
    "that the American samples got to America through the migration either of East Asian or European\n",
    "populations.\n",
    "</div>"
   ]
  },
  {
   "cell_type": "markdown",
   "metadata": {},
   "source": [
    "<h3>Series SNP distributions</h3>\n",
    "<div style=\"width:700px\">\n",
    "<p>\n",
    "Another kind of plot is used to examine the number of SNPs from a series that are expressed by samples\n",
    "from the 1000 genomes data.  This plot shows number of series SNPs on the x axis and number of 1000 genomes\n",
    "chromosome samples that express that number of the series SNPs on the y axis.\n",
    "<p>\n",
    "This example shows that kind of plot for the 117 SNPs from the series 117_1685\n",
    "</div>"
   ]
  },
  {
   "cell_type": "code",
   "execution_count": 9,
   "metadata": {
    "collapsed": false
   },
   "outputs": [
    {
     "data": {
      "text/html": [
       "\n",
       "\n",
       "    <div class=\"bk-root\">\n",
       "        <div class=\"plotdiv\" id=\"d35fa664-9d77-4ab8-8a1a-a53f9c72f704\"></div>\n",
       "    </div>\n",
       "<script type=\"text/javascript\">\n",
       "  \n",
       "  (function(global) {\n",
       "    function now() {\n",
       "      return new Date();\n",
       "    }\n",
       "  \n",
       "    if (typeof (window._bokeh_onload_callbacks) === \"undefined\") {\n",
       "      window._bokeh_onload_callbacks = [];\n",
       "    }\n",
       "  \n",
       "    function run_callbacks() {\n",
       "      window._bokeh_onload_callbacks.forEach(function(callback) { callback() });\n",
       "      delete window._bokeh_onload_callbacks\n",
       "      console.info(\"Bokeh: all callbacks have finished\");\n",
       "    }\n",
       "  \n",
       "    function load_libs(js_urls, callback) {\n",
       "      window._bokeh_onload_callbacks.push(callback);\n",
       "      if (window._bokeh_is_loading > 0) {\n",
       "        console.log(\"Bokeh: BokehJS is being loaded, scheduling callback at\", now());\n",
       "        return null;\n",
       "      }\n",
       "      if (js_urls == null || js_urls.length === 0) {\n",
       "        run_callbacks();\n",
       "        return null;\n",
       "      }\n",
       "      console.log(\"Bokeh: BokehJS not loaded, scheduling load and callback at\", now());\n",
       "      window._bokeh_is_loading = js_urls.length;\n",
       "      for (var i = 0; i < js_urls.length; i++) {\n",
       "        var url = js_urls[i];\n",
       "        var s = document.createElement('script');\n",
       "        s.src = url;\n",
       "        s.async = false;\n",
       "        s.onreadystatechange = s.onload = function() {\n",
       "          window._bokeh_is_loading--;\n",
       "          if (window._bokeh_is_loading === 0) {\n",
       "            console.log(\"Bokeh: all BokehJS libraries loaded\");\n",
       "            run_callbacks()\n",
       "          }\n",
       "        };\n",
       "        s.onerror = function() {\n",
       "          console.warn(\"failed to load library \" + url);\n",
       "        };\n",
       "        console.log(\"Bokeh: injecting script tag for BokehJS library: \", url);\n",
       "        document.getElementsByTagName(\"head\")[0].appendChild(s);\n",
       "      }\n",
       "    };var element = document.getElementById(\"d35fa664-9d77-4ab8-8a1a-a53f9c72f704\");\n",
       "    if (element == null) {\n",
       "      console.log(\"Bokeh: ERROR: autoload.js configured with elementid 'd35fa664-9d77-4ab8-8a1a-a53f9c72f704' but no matching script tag was found. \")\n",
       "      return false;\n",
       "    }\n",
       "  \n",
       "    var js_urls = [];\n",
       "  \n",
       "    var inline_js = [\n",
       "      function(Bokeh) {\n",
       "        Bokeh.$(function() {\n",
       "            var docs_json = {\"8f587acd-a8bf-4584-ad28-4db1bb329e22\":{\"roots\":{\"references\":[{\"attributes\":{\"plot\":{\"id\":\"18c019f2-c633-409f-b9d3-4bcb19ac2795\",\"subtype\":\"Figure\",\"type\":\"Plot\"},\"ticker\":{\"id\":\"b50327c7-8bc1-46ec-926e-0d94b9ab35c8\",\"type\":\"BasicTicker\"}},\"id\":\"9c0fa56b-354b-41af-87cb-a03590a2c103\",\"type\":\"Grid\"},{\"attributes\":{\"dimension\":1,\"plot\":{\"id\":\"18c019f2-c633-409f-b9d3-4bcb19ac2795\",\"subtype\":\"Figure\",\"type\":\"Plot\"},\"ticker\":{\"id\":\"d01bc71b-be03-4d4a-8136-cc2d2a488790\",\"type\":\"BasicTicker\"}},\"id\":\"cb60e36a-932a-477a-80b6-58a2f7308a25\",\"type\":\"Grid\"},{\"attributes\":{\"formatter\":{\"id\":\"25265647-77a7-45e6-8250-f06eeb63e094\",\"type\":\"BasicTickFormatter\"},\"plot\":{\"id\":\"18c019f2-c633-409f-b9d3-4bcb19ac2795\",\"subtype\":\"Figure\",\"type\":\"Plot\"},\"ticker\":{\"id\":\"b50327c7-8bc1-46ec-926e-0d94b9ab35c8\",\"type\":\"BasicTicker\"}},\"id\":\"acc98514-a8ef-4177-a856-bb8498449df7\",\"type\":\"LinearAxis\"},{\"attributes\":{},\"id\":\"d01bc71b-be03-4d4a-8136-cc2d2a488790\",\"type\":\"BasicTicker\"},{\"attributes\":{\"line_color\":{\"value\":\"#1f77b4\"},\"x\":{\"field\":\"x\"},\"y\":{\"field\":\"y\"}},\"id\":\"c1c04c17-8f07-45f3-84a8-a6b308e03197\",\"type\":\"Line\"},{\"attributes\":{\"plot\":{\"id\":\"18c019f2-c633-409f-b9d3-4bcb19ac2795\",\"subtype\":\"Figure\",\"type\":\"Plot\"}},\"id\":\"91f3ff8a-fdd4-466d-b067-496c32efcd34\",\"type\":\"SaveTool\"},{\"attributes\":{\"data_source\":{\"id\":\"5c03d6be-88f2-481c-aea3-e2f4e9507bb4\",\"type\":\"ColumnDataSource\"},\"glyph\":{\"id\":\"c1c04c17-8f07-45f3-84a8-a6b308e03197\",\"type\":\"Line\"},\"hover_glyph\":null,\"nonselection_glyph\":{\"id\":\"4c12c588-6249-42d9-b121-e28739aac61d\",\"type\":\"Line\"},\"selection_glyph\":null},\"id\":\"a8ad8ce8-4880-4a36-8b91-79087d13232d\",\"type\":\"GlyphRenderer\"},{\"attributes\":{\"formatter\":{\"id\":\"4444717d-102c-472a-a542-9d78525fd423\",\"type\":\"BasicTickFormatter\"},\"plot\":{\"id\":\"18c019f2-c633-409f-b9d3-4bcb19ac2795\",\"subtype\":\"Figure\",\"type\":\"Plot\"},\"ticker\":{\"id\":\"d01bc71b-be03-4d4a-8136-cc2d2a488790\",\"type\":\"BasicTicker\"}},\"id\":\"d1c7f35c-57ee-4f9e-ba44-9764b9f5d818\",\"type\":\"LinearAxis\"},{\"attributes\":{\"below\":[{\"id\":\"acc98514-a8ef-4177-a856-bb8498449df7\",\"type\":\"LinearAxis\"}],\"left\":[{\"id\":\"d1c7f35c-57ee-4f9e-ba44-9764b9f5d818\",\"type\":\"LinearAxis\"}],\"plot_height\":400,\"plot_width\":900,\"renderers\":[{\"id\":\"acc98514-a8ef-4177-a856-bb8498449df7\",\"type\":\"LinearAxis\"},{\"id\":\"9c0fa56b-354b-41af-87cb-a03590a2c103\",\"type\":\"Grid\"},{\"id\":\"d1c7f35c-57ee-4f9e-ba44-9764b9f5d818\",\"type\":\"LinearAxis\"},{\"id\":\"cb60e36a-932a-477a-80b6-58a2f7308a25\",\"type\":\"Grid\"},{\"id\":\"c1555e03-f0e2-406e-98ea-8286971b0892\",\"type\":\"BoxAnnotation\"},{\"id\":\"a8ad8ce8-4880-4a36-8b91-79087d13232d\",\"type\":\"GlyphRenderer\"}],\"title\":{\"id\":\"9bafad24-ba73-4789-974f-3bf60f8db18d\",\"type\":\"Title\"},\"tool_events\":{\"id\":\"b2eb2d87-a066-468d-bb62-f94998fb9c39\",\"type\":\"ToolEvents\"},\"toolbar\":{\"id\":\"29d55cc1-1f05-4ba9-a690-58caeb712d05\",\"type\":\"Toolbar\"},\"toolbar_location\":null,\"x_range\":{\"id\":\"69009014-b364-4563-92b8-039f7dcb6147\",\"type\":\"Range1d\"},\"y_range\":{\"id\":\"02fc4b29-c6c1-4877-aad3-5182146a6082\",\"type\":\"Range1d\"}},\"id\":\"18c019f2-c633-409f-b9d3-4bcb19ac2795\",\"subtype\":\"Figure\",\"type\":\"Plot\"},{\"attributes\":{},\"id\":\"25265647-77a7-45e6-8250-f06eeb63e094\",\"type\":\"BasicTickFormatter\"},{\"attributes\":{\"bottom_units\":\"screen\",\"fill_alpha\":{\"value\":0.5},\"fill_color\":{\"value\":\"lightgrey\"},\"left_units\":\"screen\",\"level\":\"overlay\",\"line_alpha\":{\"value\":1.0},\"line_color\":{\"value\":\"black\"},\"line_dash\":[4,4],\"line_width\":{\"value\":2},\"plot\":null,\"render_mode\":\"css\",\"right_units\":\"screen\",\"top_units\":\"screen\"},\"id\":\"c1555e03-f0e2-406e-98ea-8286971b0892\",\"type\":\"BoxAnnotation\"},{\"attributes\":{\"overlay\":{\"id\":\"c1555e03-f0e2-406e-98ea-8286971b0892\",\"type\":\"BoxAnnotation\"},\"plot\":{\"id\":\"18c019f2-c633-409f-b9d3-4bcb19ac2795\",\"subtype\":\"Figure\",\"type\":\"Plot\"}},\"id\":\"1117e6a9-944c-411f-9311-e07549b2fbff\",\"type\":\"BoxZoomTool\"},{\"attributes\":{\"plot\":{\"id\":\"18c019f2-c633-409f-b9d3-4bcb19ac2795\",\"subtype\":\"Figure\",\"type\":\"Plot\"}},\"id\":\"dca52830-f7aa-473c-bddd-1a35e33cdf6d\",\"type\":\"HelpTool\"},{\"attributes\":{\"line_alpha\":{\"value\":0.1},\"line_color\":{\"value\":\"#1f77b4\"},\"x\":{\"field\":\"x\"},\"y\":{\"field\":\"y\"}},\"id\":\"4c12c588-6249-42d9-b121-e28739aac61d\",\"type\":\"Line\"},{\"attributes\":{\"plot\":{\"id\":\"18c019f2-c633-409f-b9d3-4bcb19ac2795\",\"subtype\":\"Figure\",\"type\":\"Plot\"}},\"id\":\"9193e1d7-f4fa-4fc5-8b64-01b2915deb20\",\"type\":\"PanTool\"},{\"attributes\":{\"callback\":null,\"end\":118.5,\"start\":-0.5},\"id\":\"69009014-b364-4563-92b8-039f7dcb6147\",\"type\":\"Range1d\"},{\"attributes\":{\"active_drag\":\"auto\",\"active_scroll\":\"auto\",\"active_tap\":\"auto\",\"tools\":[{\"id\":\"9193e1d7-f4fa-4fc5-8b64-01b2915deb20\",\"type\":\"PanTool\"},{\"id\":\"7b2da259-32eb-4491-95c4-4543a9e1017b\",\"type\":\"WheelZoomTool\"},{\"id\":\"1117e6a9-944c-411f-9311-e07549b2fbff\",\"type\":\"BoxZoomTool\"},{\"id\":\"91f3ff8a-fdd4-466d-b067-496c32efcd34\",\"type\":\"SaveTool\"},{\"id\":\"c717c47b-6d43-47b7-a3c3-aac5d4f00d26\",\"type\":\"ResetTool\"},{\"id\":\"dca52830-f7aa-473c-bddd-1a35e33cdf6d\",\"type\":\"HelpTool\"}]},\"id\":\"29d55cc1-1f05-4ba9-a690-58caeb712d05\",\"type\":\"Toolbar\"},{\"attributes\":{\"callback\":null,\"end\":2948.0000000000005},\"id\":\"02fc4b29-c6c1-4877-aad3-5182146a6082\",\"type\":\"Range1d\"},{\"attributes\":{},\"id\":\"4444717d-102c-472a-a542-9d78525fd423\",\"type\":\"BasicTickFormatter\"},{\"attributes\":{\"plot\":{\"id\":\"18c019f2-c633-409f-b9d3-4bcb19ac2795\",\"subtype\":\"Figure\",\"type\":\"Plot\"}},\"id\":\"7b2da259-32eb-4491-95c4-4543a9e1017b\",\"type\":\"WheelZoomTool\"},{\"attributes\":{},\"id\":\"b2eb2d87-a066-468d-bb62-f94998fb9c39\",\"type\":\"ToolEvents\"},{\"attributes\":{\"callback\":null,\"column_names\":[\"y\",\"x\"],\"data\":{\"x\":[-0.5,-0.5,0.5,0.5,1.5,1.5,2.5,2.5,3.5,3.5,4.5,4.5,5.5,5.5,6.5,6.5,7.5,7.5,8.5,8.5,9.5,9.5,10.5,10.5,11.5,11.5,12.5,12.5,13.5,13.5,16.5,16.5,17.5,17.5,19.5,19.5,20.5,20.5,21.5,21.5,22.5,22.5,23.5,23.5,24.5,24.5,42.5,42.5,43.5,43.5,44.5,44.5,45.5,45.5,46.5,46.5,47.5,47.5,49.5,49.5,50.5,50.5,52.5,52.5,53.5,53.5,54.5,54.5,56.5,56.5,57.5,57.5,58.5,58.5,59.5,59.5,60.5,60.5,61.5,61.5,62.5,62.5,63.5,63.5,64.5,64.5,67.5,67.5,68.5,68.5,69.5,69.5,70.5,70.5,74.5,74.5,75.5,75.5,82.5,82.5,83.5,83.5,86.5,86.5,87.5,87.5,91.5,91.5,92.5,92.5,93.5,93.5,94.5,94.5,95.5,95.5,96.5,96.5,97.5,97.5,98.5,98.5,99.5,99.5,100.5,100.5,101.5,101.5,102.5,102.5,103.5,103.5,104.5,104.5,105.5,105.5,106.5,106.5,107.5,107.5,108.5,108.5,109.5,109.5,110.5,110.5,111.5,111.5,112.5,112.5,113.5,113.5,114.5,114.5,115.5,115.5,116.5,116.5,117.5,117.5],\"y\":[0.0,2680.0,2680.0,153.0,153.0,15.0,15.0,7.0,7.0,1.0,1.0,4.0,4.0,2.0,2.0,1.0,1.0,1.0,1.0,0.0,0.0,2.0,2.0,5.0,5.0,1.0,1.0,1.0,1.0,0.0,0.0,3.0,3.0,0.0,0.0,1.0,1.0,13.0,13.0,3.0,3.0,0.0,0.0,2.0,2.0,0.0,0.0,22.0,22.0,2.0,2.0,0.0,0.0,1.0,1.0,1.0,1.0,0.0,0.0,1.0,1.0,0.0,0.0,1.0,1.0,1.0,1.0,0.0,0.0,1.0,1.0,1.0,1.0,11.0,11.0,28.0,28.0,167.0,167.0,53.0,53.0,2.0,2.0,1.0,1.0,0.0,0.0,1.0,1.0,0.0,0.0,3.0,3.0,0.0,0.0,1.0,1.0,0.0,0.0,2.0,2.0,0.0,0.0,2.0,2.0,0.0,0.0,6.0,6.0,1.0,1.0,2.0,2.0,14.0,14.0,87.0,87.0,4.0,4.0,1.0,1.0,0.0,0.0,5.0,5.0,0.0,0.0,5.0,5.0,0.0,0.0,1.0,1.0,6.0,6.0,70.0,70.0,5.0,5.0,6.0,6.0,1.0,1.0,1.0,1.0,41.0,41.0,3.0,3.0,9.0,9.0,12.0,12.0,55.0,55.0,294.0,294.0,1182.0,1182.0,0.0]}},\"id\":\"5c03d6be-88f2-481c-aea3-e2f4e9507bb4\",\"type\":\"ColumnDataSource\"},{\"attributes\":{\"plot\":{\"id\":\"18c019f2-c633-409f-b9d3-4bcb19ac2795\",\"subtype\":\"Figure\",\"type\":\"Plot\"}},\"id\":\"c717c47b-6d43-47b7-a3c3-aac5d4f00d26\",\"type\":\"ResetTool\"},{\"attributes\":{\"plot\":null,\"text\":null},\"id\":\"9bafad24-ba73-4789-974f-3bf60f8db18d\",\"type\":\"Title\"},{\"attributes\":{},\"id\":\"b50327c7-8bc1-46ec-926e-0d94b9ab35c8\",\"type\":\"BasicTicker\"}],\"root_ids\":[\"18c019f2-c633-409f-b9d3-4bcb19ac2795\"]},\"title\":\"Bokeh Application\",\"version\":\"0.12.0\"}};\n",
       "            var render_items = [{\"docid\":\"8f587acd-a8bf-4584-ad28-4db1bb329e22\",\"elementid\":\"d35fa664-9d77-4ab8-8a1a-a53f9c72f704\",\"modelid\":\"18c019f2-c633-409f-b9d3-4bcb19ac2795\",\"notebook_comms_target\":\"a945b0dc-9c98-485d-bffc-07f44a9da8d6\"}];\n",
       "            \n",
       "            Bokeh.embed.embed_items(docs_json, render_items);\n",
       "        });\n",
       "      },\n",
       "      function(Bokeh) {\n",
       "      }\n",
       "    ];\n",
       "  \n",
       "    function run_inline_js() {\n",
       "      for (var i = 0; i < inline_js.length; i++) {\n",
       "        inline_js[i](window.Bokeh);\n",
       "      }\n",
       "    }\n",
       "  \n",
       "    if (window._bokeh_is_loading === 0) {\n",
       "      console.log(\"Bokeh: BokehJS loaded, going straight to plotting\");\n",
       "      run_inline_js();\n",
       "    } else {\n",
       "      load_libs(js_urls, function() {\n",
       "        console.log(\"Bokeh: BokehJS plotting callback run at\", now());\n",
       "        run_inline_js();\n",
       "      });\n",
       "    }\n",
       "  }(this));\n",
       "</script>"
      ]
     },
     "metadata": {},
     "output_type": "display_data"
    },
    {
     "data": {
      "text/html": [
       "<p><code>&lt;Bokeh Notebook handle for <strong>In[9]</strong>&gt;</code></p>"
      ],
      "text/plain": [
       "<bokeh.io._CommsHandle at 0x7f3f0c8b8a50>"
      ]
     },
     "execution_count": 9,
     "metadata": {},
     "output_type": "execute_result"
    }
   ],
   "source": [
    "count_data = an.sa_117_1685.unique_snps_per_allele()\n",
    "plt_obj = smcp(count_data)\n",
    "plt = plt_obj.do_plot()\n",
    "show(plt)"
   ]
  },
  {
   "cell_type": "markdown",
   "metadata": {},
   "source": [
    "<div style=\"width:700px\">\n",
    "<p>\n",
    "This plot shows the numbers of samples that express different numbers of SNPs from the series 117_1685\n",
    "</div>"
   ]
  },
  {
   "cell_type": "code",
   "execution_count": 10,
   "metadata": {
    "collapsed": false
   },
   "outputs": [
    {
     "data": {
      "text/plain": [
       "array([(0, 2680), (1, 153), (2, 15), (3, 7), (4, 1), (5, 4), (6, 2),\n",
       "       (7, 1), (8, 1), (10, 2), (11, 5), (12, 1), (13, 1), (17, 3),\n",
       "       (20, 1), (21, 13), (22, 3), (24, 2), (43, 22), (44, 2), (46, 1),\n",
       "       (47, 1), (50, 1), (53, 1), (54, 1), (57, 1), (58, 1), (59, 11),\n",
       "       (60, 28), (61, 167), (62, 53), (63, 2), (64, 1), (68, 1), (70, 3),\n",
       "       (75, 1), (83, 2), (87, 2), (92, 6), (93, 1), (94, 2), (95, 14),\n",
       "       (96, 87), (97, 4), (98, 1), (100, 5), (102, 5), (104, 1), (105, 6),\n",
       "       (106, 70), (107, 5), (108, 6), (109, 1), (110, 1), (111, 41),\n",
       "       (112, 3), (113, 9), (114, 12), (115, 55), (116, 294), (117, 1182)], \n",
       "      dtype=[('count', '<u2'), ('snps', '<u2')])"
      ]
     },
     "execution_count": 10,
     "metadata": {},
     "output_type": "execute_result"
    }
   ],
   "source": [
    "count_data"
   ]
  },
  {
   "cell_type": "markdown",
   "metadata": {},
   "source": [
    "<div style=\"width:700px\">\n",
    "<p>\n",
    "This data shows the SNP fragment size and the number of samples expressing\n",
    "that number of 117_1685 SNPs as an array of tuples.\n",
    "Each tuple associate a number of SNPs with the number of samples\n",
    "that express that number of SNPs\n",
    "<p>\n",
    "In this example the distribution is strongly peaked with 2680 samples expressing\n",
    "none of the 117 SNPs and 1182 samples expressing all 117 of them. This kind of result\n",
    "was observed for all of the 76 series documented in the detailed results of this study.\n",
    "<p>\n",
    "The distribution includes several cases of peaks for significant numbers of samples\n",
    "expressing the same size fragment of the 117 SNPs.  Investigations documented in the detailed\n",
    "results showed that multiple fragments of the same size generally indicate expression of\n",
    "multiple instances of fragments with the same or similar sequences of SNPs.\n",
    "</div>"
   ]
  },
  {
   "cell_type": "code",
   "execution_count": 11,
   "metadata": {
    "collapsed": false
   },
   "outputs": [
    {
     "data": {
      "text/html": [
       "\n",
       "\n",
       "    <div class=\"bk-root\">\n",
       "        <div class=\"plotdiv\" id=\"8969151f-432c-4277-ac78-31c69a5cd927\"></div>\n",
       "    </div>\n",
       "<script type=\"text/javascript\">\n",
       "  \n",
       "  (function(global) {\n",
       "    function now() {\n",
       "      return new Date();\n",
       "    }\n",
       "  \n",
       "    if (typeof (window._bokeh_onload_callbacks) === \"undefined\") {\n",
       "      window._bokeh_onload_callbacks = [];\n",
       "    }\n",
       "  \n",
       "    function run_callbacks() {\n",
       "      window._bokeh_onload_callbacks.forEach(function(callback) { callback() });\n",
       "      delete window._bokeh_onload_callbacks\n",
       "      console.info(\"Bokeh: all callbacks have finished\");\n",
       "    }\n",
       "  \n",
       "    function load_libs(js_urls, callback) {\n",
       "      window._bokeh_onload_callbacks.push(callback);\n",
       "      if (window._bokeh_is_loading > 0) {\n",
       "        console.log(\"Bokeh: BokehJS is being loaded, scheduling callback at\", now());\n",
       "        return null;\n",
       "      }\n",
       "      if (js_urls == null || js_urls.length === 0) {\n",
       "        run_callbacks();\n",
       "        return null;\n",
       "      }\n",
       "      console.log(\"Bokeh: BokehJS not loaded, scheduling load and callback at\", now());\n",
       "      window._bokeh_is_loading = js_urls.length;\n",
       "      for (var i = 0; i < js_urls.length; i++) {\n",
       "        var url = js_urls[i];\n",
       "        var s = document.createElement('script');\n",
       "        s.src = url;\n",
       "        s.async = false;\n",
       "        s.onreadystatechange = s.onload = function() {\n",
       "          window._bokeh_is_loading--;\n",
       "          if (window._bokeh_is_loading === 0) {\n",
       "            console.log(\"Bokeh: all BokehJS libraries loaded\");\n",
       "            run_callbacks()\n",
       "          }\n",
       "        };\n",
       "        s.onerror = function() {\n",
       "          console.warn(\"failed to load library \" + url);\n",
       "        };\n",
       "        console.log(\"Bokeh: injecting script tag for BokehJS library: \", url);\n",
       "        document.getElementsByTagName(\"head\")[0].appendChild(s);\n",
       "      }\n",
       "    };var element = document.getElementById(\"8969151f-432c-4277-ac78-31c69a5cd927\");\n",
       "    if (element == null) {\n",
       "      console.log(\"Bokeh: ERROR: autoload.js configured with elementid '8969151f-432c-4277-ac78-31c69a5cd927' but no matching script tag was found. \")\n",
       "      return false;\n",
       "    }\n",
       "  \n",
       "    var js_urls = [];\n",
       "  \n",
       "    var inline_js = [\n",
       "      function(Bokeh) {\n",
       "        Bokeh.$(function() {\n",
       "            var docs_json = {\"4a7a0312-22b4-4f3c-afdd-343f8068070f\":{\"roots\":{\"references\":[{\"attributes\":{\"formatter\":{\"id\":\"ae5cee56-7e24-4849-974a-26a50ad8e19c\",\"type\":\"BasicTickFormatter\"},\"plot\":{\"id\":\"0405c08d-a470-4dfd-92a5-6d694eba3f13\",\"subtype\":\"Figure\",\"type\":\"Plot\"},\"ticker\":{\"id\":\"f579389a-71ff-444b-8b6a-84345d1babd8\",\"type\":\"BasicTicker\"}},\"id\":\"3cfd3963-ef00-4efe-a1e5-0cfcdac9c3fb\",\"type\":\"LinearAxis\"},{\"attributes\":{\"plot\":{\"id\":\"0405c08d-a470-4dfd-92a5-6d694eba3f13\",\"subtype\":\"Figure\",\"type\":\"Plot\"}},\"id\":\"d06c82f0-0dad-4dca-96df-b692a0ffe8f8\",\"type\":\"PanTool\"},{\"attributes\":{\"plot\":{\"id\":\"0405c08d-a470-4dfd-92a5-6d694eba3f13\",\"subtype\":\"Figure\",\"type\":\"Plot\"},\"ticker\":{\"id\":\"f579389a-71ff-444b-8b6a-84345d1babd8\",\"type\":\"BasicTicker\"}},\"id\":\"31078284-a179-438b-9e2d-f13a95c15505\",\"type\":\"Grid\"},{\"attributes\":{\"data_source\":{\"id\":\"e778bb5a-ee7a-4dd8-9841-d1df4cd45b8b\",\"type\":\"ColumnDataSource\"},\"glyph\":{\"id\":\"eb7eb38a-239f-41b7-8fc4-b5eec84387f3\",\"type\":\"Line\"},\"hover_glyph\":null,\"nonselection_glyph\":{\"id\":\"a79a011f-939b-4cab-af2a-c1b0e1cc9d7c\",\"type\":\"Line\"},\"selection_glyph\":null},\"id\":\"7310f152-e204-4541-a0e2-ecd3174a2d84\",\"type\":\"GlyphRenderer\"},{\"attributes\":{\"formatter\":{\"id\":\"460504f7-5050-4992-80a3-1c268e436ee3\",\"type\":\"BasicTickFormatter\"},\"plot\":{\"id\":\"0405c08d-a470-4dfd-92a5-6d694eba3f13\",\"subtype\":\"Figure\",\"type\":\"Plot\"},\"ticker\":{\"id\":\"173b11c6-cc91-4d6e-9dad-2dcc56e826dd\",\"type\":\"BasicTicker\"}},\"id\":\"4a0b9fba-5094-406c-81d0-6a23b55bd7ad\",\"type\":\"LinearAxis\"},{\"attributes\":{\"callback\":null,\"column_names\":[\"y\",\"x\"],\"data\":{\"x\":[-0.5,-0.5,0.5,0.5,1.5,1.5,2.5,2.5,3.5,3.5,4.5,4.5,5.5,5.5,6.5,6.5,7.5,7.5,8.5,8.5,9.5,9.5,10.5,10.5,11.5,11.5,12.5,12.5,13.5,13.5,14.5,14.5,15.5,15.5,19.5,19.5,20.5,20.5,21.5,21.5,22.5,22.5,23.5,23.5,25.5,25.5,26.5,26.5,27.5,27.5,28.5,28.5,29.5,29.5,30.5,30.5,31.5,31.5,32.5,32.5,33.5,33.5,34.5,34.5,35.5,35.5,36.5,36.5,37.5,37.5,38.5,38.5,39.5,39.5,40.5,40.5,41.5,41.5,42.5,42.5,43.5,43.5,44.5,44.5,45.5,45.5,46.5,46.5,48.5,48.5,49.5,49.5,50.5,50.5,51.5,51.5,52.5,52.5,53.5,53.5,54.5,54.5,56.5,56.5,57.5,57.5,58.5,58.5,60.5,60.5,61.5,61.5,62.5,62.5,63.5,63.5,64.5,64.5],\"y\":[0.0,2689.0,2689.0,191.0,191.0,136.0,136.0,2.0,2.0,33.0,33.0,40.0,40.0,25.0,25.0,4.0,4.0,0.0,0.0,7.0,7.0,1.0,1.0,17.0,17.0,1.0,1.0,1.0,1.0,1.0,1.0,2.0,2.0,0.0,0.0,3.0,3.0,42.0,42.0,4.0,4.0,1.0,1.0,0.0,0.0,7.0,7.0,3.0,3.0,9.0,9.0,1.0,1.0,5.0,5.0,37.0,37.0,6.0,6.0,4.0,4.0,0.0,0.0,1.0,1.0,12.0,12.0,6.0,6.0,0.0,0.0,2.0,2.0,50.0,50.0,8.0,8.0,1.0,1.0,15.0,15.0,2.0,2.0,0.0,0.0,2.0,2.0,0.0,0.0,6.0,6.0,1.0,1.0,2.0,2.0,46.0,46.0,3.0,3.0,1.0,1.0,0.0,0.0,3.0,3.0,31.0,31.0,0.0,0.0,21.0,21.0,19.0,19.0,135.0,135.0,1369.0,1369.0,0.0]}},\"id\":\"e778bb5a-ee7a-4dd8-9841-d1df4cd45b8b\",\"type\":\"ColumnDataSource\"},{\"attributes\":{},\"id\":\"460504f7-5050-4992-80a3-1c268e436ee3\",\"type\":\"BasicTickFormatter\"},{\"attributes\":{\"plot\":{\"id\":\"0405c08d-a470-4dfd-92a5-6d694eba3f13\",\"subtype\":\"Figure\",\"type\":\"Plot\"}},\"id\":\"0e9f4c02-341b-4952-9911-9571a689ae54\",\"type\":\"WheelZoomTool\"},{\"attributes\":{\"line_alpha\":{\"value\":0.1},\"line_color\":{\"value\":\"#1f77b4\"},\"x\":{\"field\":\"x\"},\"y\":{\"field\":\"y\"}},\"id\":\"a79a011f-939b-4cab-af2a-c1b0e1cc9d7c\",\"type\":\"Line\"},{\"attributes\":{},\"id\":\"f579389a-71ff-444b-8b6a-84345d1babd8\",\"type\":\"BasicTicker\"},{\"attributes\":{},\"id\":\"91a30429-fcdd-4995-ab12-40be28c6ab71\",\"type\":\"ToolEvents\"},{\"attributes\":{\"plot\":null,\"text\":null},\"id\":\"8944ed68-ee2e-4f00-b050-bcb2e7a964f1\",\"type\":\"Title\"},{\"attributes\":{\"dimension\":1,\"plot\":{\"id\":\"0405c08d-a470-4dfd-92a5-6d694eba3f13\",\"subtype\":\"Figure\",\"type\":\"Plot\"},\"ticker\":{\"id\":\"173b11c6-cc91-4d6e-9dad-2dcc56e826dd\",\"type\":\"BasicTicker\"}},\"id\":\"bcdb3dfe-851c-4ec2-9e07-8ab630b3e491\",\"type\":\"Grid\"},{\"attributes\":{},\"id\":\"173b11c6-cc91-4d6e-9dad-2dcc56e826dd\",\"type\":\"BasicTicker\"},{\"attributes\":{\"line_color\":{\"value\":\"#1f77b4\"},\"x\":{\"field\":\"x\"},\"y\":{\"field\":\"y\"}},\"id\":\"eb7eb38a-239f-41b7-8fc4-b5eec84387f3\",\"type\":\"Line\"},{\"attributes\":{\"callback\":null,\"end\":65.5,\"start\":-0.5},\"id\":\"15607eb8-ce45-486d-bcef-f826d48fdf3a\",\"type\":\"Range1d\"},{\"attributes\":{\"active_drag\":\"auto\",\"active_scroll\":\"auto\",\"active_tap\":\"auto\",\"tools\":[{\"id\":\"d06c82f0-0dad-4dca-96df-b692a0ffe8f8\",\"type\":\"PanTool\"},{\"id\":\"0e9f4c02-341b-4952-9911-9571a689ae54\",\"type\":\"WheelZoomTool\"},{\"id\":\"c94c490d-ad53-4088-8a46-901329f7e5f1\",\"type\":\"BoxZoomTool\"},{\"id\":\"04366375-8769-4be7-b837-8f4935a78a2a\",\"type\":\"SaveTool\"},{\"id\":\"a559a48b-eefa-4f80-bad7-ff5c9cbfd06d\",\"type\":\"ResetTool\"},{\"id\":\"bfab22c6-d97f-49ce-a4da-2ab2d0e90114\",\"type\":\"HelpTool\"}]},\"id\":\"8ea92462-cf89-473c-a687-9c357b3638d9\",\"type\":\"Toolbar\"},{\"attributes\":{\"bottom_units\":\"screen\",\"fill_alpha\":{\"value\":0.5},\"fill_color\":{\"value\":\"lightgrey\"},\"left_units\":\"screen\",\"level\":\"overlay\",\"line_alpha\":{\"value\":1.0},\"line_color\":{\"value\":\"black\"},\"line_dash\":[4,4],\"line_width\":{\"value\":2},\"plot\":null,\"render_mode\":\"css\",\"right_units\":\"screen\",\"top_units\":\"screen\"},\"id\":\"8ce297b4-df4f-4f50-bc3b-2e1e01d363a4\",\"type\":\"BoxAnnotation\"},{\"attributes\":{\"plot\":{\"id\":\"0405c08d-a470-4dfd-92a5-6d694eba3f13\",\"subtype\":\"Figure\",\"type\":\"Plot\"}},\"id\":\"bfab22c6-d97f-49ce-a4da-2ab2d0e90114\",\"type\":\"HelpTool\"},{\"attributes\":{\"plot\":{\"id\":\"0405c08d-a470-4dfd-92a5-6d694eba3f13\",\"subtype\":\"Figure\",\"type\":\"Plot\"}},\"id\":\"04366375-8769-4be7-b837-8f4935a78a2a\",\"type\":\"SaveTool\"},{\"attributes\":{\"below\":[{\"id\":\"3cfd3963-ef00-4efe-a1e5-0cfcdac9c3fb\",\"type\":\"LinearAxis\"}],\"left\":[{\"id\":\"4a0b9fba-5094-406c-81d0-6a23b55bd7ad\",\"type\":\"LinearAxis\"}],\"plot_height\":400,\"plot_width\":900,\"renderers\":[{\"id\":\"3cfd3963-ef00-4efe-a1e5-0cfcdac9c3fb\",\"type\":\"LinearAxis\"},{\"id\":\"31078284-a179-438b-9e2d-f13a95c15505\",\"type\":\"Grid\"},{\"id\":\"4a0b9fba-5094-406c-81d0-6a23b55bd7ad\",\"type\":\"LinearAxis\"},{\"id\":\"bcdb3dfe-851c-4ec2-9e07-8ab630b3e491\",\"type\":\"Grid\"},{\"id\":\"8ce297b4-df4f-4f50-bc3b-2e1e01d363a4\",\"type\":\"BoxAnnotation\"},{\"id\":\"7310f152-e204-4541-a0e2-ecd3174a2d84\",\"type\":\"GlyphRenderer\"}],\"title\":{\"id\":\"8944ed68-ee2e-4f00-b050-bcb2e7a964f1\",\"type\":\"Title\"},\"tool_events\":{\"id\":\"91a30429-fcdd-4995-ab12-40be28c6ab71\",\"type\":\"ToolEvents\"},\"toolbar\":{\"id\":\"8ea92462-cf89-473c-a687-9c357b3638d9\",\"type\":\"Toolbar\"},\"toolbar_location\":null,\"x_range\":{\"id\":\"15607eb8-ce45-486d-bcef-f826d48fdf3a\",\"type\":\"Range1d\"},\"y_range\":{\"id\":\"d01c74c9-5f79-45da-b3fe-66c6f8172c8f\",\"type\":\"Range1d\"}},\"id\":\"0405c08d-a470-4dfd-92a5-6d694eba3f13\",\"subtype\":\"Figure\",\"type\":\"Plot\"},{\"attributes\":{},\"id\":\"ae5cee56-7e24-4849-974a-26a50ad8e19c\",\"type\":\"BasicTickFormatter\"},{\"attributes\":{\"callback\":null,\"end\":2957.9},\"id\":\"d01c74c9-5f79-45da-b3fe-66c6f8172c8f\",\"type\":\"Range1d\"},{\"attributes\":{\"overlay\":{\"id\":\"8ce297b4-df4f-4f50-bc3b-2e1e01d363a4\",\"type\":\"BoxAnnotation\"},\"plot\":{\"id\":\"0405c08d-a470-4dfd-92a5-6d694eba3f13\",\"subtype\":\"Figure\",\"type\":\"Plot\"}},\"id\":\"c94c490d-ad53-4088-8a46-901329f7e5f1\",\"type\":\"BoxZoomTool\"},{\"attributes\":{\"plot\":{\"id\":\"0405c08d-a470-4dfd-92a5-6d694eba3f13\",\"subtype\":\"Figure\",\"type\":\"Plot\"}},\"id\":\"a559a48b-eefa-4f80-bad7-ff5c9cbfd06d\",\"type\":\"ResetTool\"}],\"root_ids\":[\"0405c08d-a470-4dfd-92a5-6d694eba3f13\"]},\"title\":\"Bokeh Application\",\"version\":\"0.12.0\"}};\n",
       "            var render_items = [{\"docid\":\"4a7a0312-22b4-4f3c-afdd-343f8068070f\",\"elementid\":\"8969151f-432c-4277-ac78-31c69a5cd927\",\"modelid\":\"0405c08d-a470-4dfd-92a5-6d694eba3f13\",\"notebook_comms_target\":\"7c068fbe-75ec-41ae-be7d-48b12a0aa79d\"}];\n",
       "            \n",
       "            Bokeh.embed.embed_items(docs_json, render_items);\n",
       "        });\n",
       "      },\n",
       "      function(Bokeh) {\n",
       "      }\n",
       "    ];\n",
       "  \n",
       "    function run_inline_js() {\n",
       "      for (var i = 0; i < inline_js.length; i++) {\n",
       "        inline_js[i](window.Bokeh);\n",
       "      }\n",
       "    }\n",
       "  \n",
       "    if (window._bokeh_is_loading === 0) {\n",
       "      console.log(\"Bokeh: BokehJS loaded, going straight to plotting\");\n",
       "      run_inline_js();\n",
       "    } else {\n",
       "      load_libs(js_urls, function() {\n",
       "        console.log(\"Bokeh: BokehJS plotting callback run at\", now());\n",
       "        run_inline_js();\n",
       "      });\n",
       "    }\n",
       "  }(this));\n",
       "</script>"
      ]
     },
     "metadata": {},
     "output_type": "display_data"
    },
    {
     "data": {
      "text/html": [
       "<p><code>&lt;Bokeh Notebook handle for <strong>In[11]</strong>&gt;</code></p>"
      ],
      "text/plain": [
       "<bokeh.io._CommsHandle at 0x7f3f0c328990>"
      ]
     },
     "execution_count": 11,
     "metadata": {},
     "output_type": "execute_result"
    }
   ],
   "source": [
    "sa_64_1575 = snp_anal.series_anal_cls(dm.di_64_1575, sm.series_data)\n",
    "count_data = sa_64_1575.unique_snps_per_allele()\n",
    "plt_obj = smcp(count_data)\n",
    "plt = plt_obj.do_plot()\n",
    "show(plt)"
   ]
  },
  {
   "cell_type": "markdown",
   "metadata": {},
   "source": [
    "<div style=\"width:700px\">\n",
    "<p>\n",
    "This plot shows the SNP distribution analysis for the series\n",
    "64_1575.  It is another case where substantial numbers of fragments exist that\n",
    "generally can be traced back to recombination events and some kind of process\n",
    "that selected the fragment for overexpression.\n",
    "</div>"
   ]
  },
  {
   "cell_type": "code",
   "execution_count": 12,
   "metadata": {
    "collapsed": false
   },
   "outputs": [
    {
     "data": {
      "text/plain": [
       "array([(0, 2689), (1, 191), (2, 136), (3, 2), (4, 33), (5, 40), (6, 25),\n",
       "       (7, 4), (9, 7), (10, 1), (11, 17), (12, 1), (13, 1), (14, 1),\n",
       "       (15, 2), (20, 3), (21, 42), (22, 4), (23, 1), (26, 7), (27, 3),\n",
       "       (28, 9), (29, 1), (30, 5), (31, 37), (32, 6), (33, 4), (35, 1),\n",
       "       (36, 12), (37, 6), (39, 2), (40, 50), (41, 8), (42, 1), (43, 15),\n",
       "       (44, 2), (46, 2), (49, 6), (50, 1), (51, 2), (52, 46), (53, 3),\n",
       "       (54, 1), (57, 3), (58, 31), (61, 21), (62, 19), (63, 135),\n",
       "       (64, 1369)], \n",
       "      dtype=[('count', '<u2'), ('snps', '<u2')])"
      ]
     },
     "execution_count": 12,
     "metadata": {},
     "output_type": "execute_result"
    }
   ],
   "source": [
    "count_data"
   ]
  },
  {
   "cell_type": "markdown",
   "metadata": {},
   "source": [
    "<div style=\"width:700px\">\n",
    "<p>\n",
    "This data is the array of SNP counts and sample numbers for the 64_1575 analysis.\n",
    "</div>"
   ]
  },
  {
   "cell_type": "markdown",
   "metadata": {},
   "source": [
    "<h3>Allele Mask Plots</h3>\n",
    "<div style=\"width:700px\">\n",
    "<p>\n",
    "Detailed analysis of series fragments can be carried out with allele mask plots.  An allele mask is\n",
    "an array with a boolean value for each of the 5008 chromosome samples in the 1000 genomes phase 3 data.\n",
    "The value is true for those chromosome samples that satisfy some logical test.  Allele masks for samples\n",
    "that express fragments of a specific size from some series are useful for analyzing those series fragments.\n",
    "</div>"
   ]
  },
  {
   "cell_type": "code",
   "execution_count": 13,
   "metadata": {
    "collapsed": false
   },
   "outputs": [
    {
     "data": {
      "text/plain": [
       "array([(174, 4), (175, 1), (181, 3), (185, 1), (186, 1), (188, 2),\n",
       "       (191, 15), (192, 120), (193, 696)], \n",
       "      dtype=[('count', '<u2'), ('snps', '<u2')])"
      ]
     },
     "execution_count": 13,
     "metadata": {},
     "output_type": "execute_result"
    }
   ],
   "source": [
    "from genomes_dnj.lct_interval.series_masks import am_193_843, nam_193_843\n",
    "an.sa_193_843.unique_snps_per_allele(am_193_843)"
   ]
  },
  {
   "cell_type": "markdown",
   "metadata": {},
   "source": [
    "<div style=\"width:700px\">\n",
    "<p>\n",
    "The an.sa_193_43 object is an instance of the series_anal_cls.  It is used for analysis\n",
    "of the samples that express any subset of the 193 SNPs in the series 193_843.\n",
    "The allele mask am_193_843 is a boolean mask that identifies the 1000 genomes\n",
    "chromosome 2 samples that express the series 193_843.  The unique_snps_allele method\n",
    "returns a list of the number of SNPs and the number of chromosome samples that express\n",
    "that number of 193_843 SNPs.  This data shows that 696 of the 843 chromosome samples\n",
    "that express 193_843 express all 193 of its SNPs.  Another 120 of the chromosomes express\n",
    "192 of them.  Smaller numbers of chromosome samples do express smaller numbers of SNPs\n",
    "that are fragments of the whole series.\n",
    "</div>"
   ]
  },
  {
   "cell_type": "code",
   "execution_count": 14,
   "metadata": {
    "collapsed": false
   },
   "outputs": [
    {
     "data": {
      "text/plain": [
       "array([(0, 3458), (1, 215), (2, 174), (3, 2), (4, 3), (5, 52), (6, 8),\n",
       "       (7, 3), (8, 2), (9, 1), (10, 1), (11, 1), (12, 39), (15, 1),\n",
       "       (17, 1), (18, 3), (19, 1), (21, 1), (23, 3), (26, 1), (27, 1),\n",
       "       (28, 12), (29, 94), (30, 1), (44, 2), (54, 1), (55, 27), (63, 2),\n",
       "       (65, 2), (98, 1), (100, 1), (101, 1), (139, 1), (158, 1), (164, 3),\n",
       "       (165, 3), (169, 1), (170, 41)], \n",
       "      dtype=[('count', '<u2'), ('snps', '<u2')])"
      ]
     },
     "execution_count": 14,
     "metadata": {},
     "output_type": "execute_result"
    }
   ],
   "source": [
    "an.sa_193_843.unique_snps_per_allele(nam_193_843)"
   ]
  },
  {
   "cell_type": "markdown",
   "metadata": {},
   "source": [
    "<div style=\"width:700px\">\n",
    "<p>\n",
    "The nam_193_843 boolean mask identifies chromosome 2 samples that do not\n",
    "express 193_843.  The results are a list of numbers of 193_843 SNPs and\n",
    "the number of chromsome 2 samples that express that number of 193_843 SNPs.\n",
    "The results show that 3458 samples express none of the 193 SNPs.\n",
    "<p>\n",
    "The data does show that a significant number of samples express 1 or 2\n",
    "of the 193 SNPs.  It also shows that 5, 6, 12, 28, 29, 55\n",
    "and 170 SNP fragments are expressed by numbers of samples that indicate\n",
    "substantial overexpression.  There also is a background of\n",
    "other fragments of the 193 SNPs that could be available for some kind\n",
    "of future selection process.\n",
    "</div>"
   ]
  },
  {
   "cell_type": "code",
   "execution_count": 15,
   "metadata": {
    "collapsed": false
   },
   "outputs": [
    {
     "data": {
      "text/plain": [
       "array([93, 93, 93, 93, 93, 93, 93, 93, 93, 93, 93, 93, 93, 93, 93, 93, 93,\n",
       "       93, 93, 93, 93, 93, 93, 93, 93, 93, 93, 93, 93,  0,  0,  0,  0,  0,\n",
       "        0,  0,  0,  0,  0,  0,  0,  0,  0,  0,  0,  0,  0,  0,  0,  0,  0,\n",
       "        0,  0,  0,  0,  0,  0,  0,  0,  0,  0,  0,  1,  0,  0,  0,  0,  0,\n",
       "        0,  1,  0,  0,  0,  0,  0,  0,  1,  0,  0,  1,  0,  1,  0,  0,  1,\n",
       "        0,  0,  0,  0,  0,  0,  0,  0,  1,  1,  0,  0,  1,  1,  1,  0,  0,\n",
       "        0,  0,  1,  0,  1,  0,  0,  0,  0,  1,  0,  1,  0,  0,  1,  1,  0,\n",
       "        0,  0,  0,  0,  0,  0,  0,  0,  0,  1,  1,  1,  0,  0,  0,  0,  1,\n",
       "        1,  0,  0,  1,  0,  0,  1,  0,  1,  0,  1,  1,  0,  0,  1,  0,  0,\n",
       "        0,  1,  0,  0,  0,  0,  0,  0,  0,  0,  0,  0,  0,  0,  0,  0,  0,\n",
       "        0,  0,  0,  0,  0,  0,  0,  0,  0,  0,  0,  0,  0,  0,  0,  0,  0,\n",
       "        0,  0,  0,  0,  0,  0])"
      ]
     },
     "execution_count": 15,
     "metadata": {},
     "output_type": "execute_result"
    }
   ],
   "source": [
    "aps_29, am_29 = an.sa_193_843.snps_from_aps_value(29, nam_193_843)\n",
    "aps_29"
   ]
  },
  {
   "cell_type": "markdown",
   "metadata": {},
   "source": [
    "<div style=\"width:700px\">\n",
    "<p>\n",
    "This data looks at the 29 SNP fragments that are expressed by 94 chromosome samples.\n",
    "The method snps_from_aps_value takes a count of the number of SNPs and a\n",
    "boolean mask of chromosome 2 samples.  It returns an array of the number of\n",
    "samples that express each of the 193 SNPs and a boolean mask of\n",
    "samples that express 29 SNP fragments of the 193 SNPs.  Only samples\n",
    "identified in the input mask are elgible for the output mask.\n",
    "<p>\n",
    "In this case 93 of the chromsomes samples express the first 29 SNPs.\n",
    "That pattern reflects the result of some recombination event.  The other chromosome\n",
    "sample expresses a very irregular collection of 29 different SNPs generated\n",
    "by some kind of unknown process.\n",
    "</div>"
   ]
  },
  {
   "cell_type": "code",
   "execution_count": 16,
   "metadata": {
    "collapsed": false
   },
   "outputs": [
    {
     "data": {
      "text/html": [
       "\n",
       "\n",
       "    <div class=\"bk-root\">\n",
       "        <div class=\"plotdiv\" id=\"050c01ff-27f3-48c6-9972-e7ef62d2d5b4\"></div>\n",
       "    </div>\n",
       "<script type=\"text/javascript\">\n",
       "  \n",
       "  (function(global) {\n",
       "    function now() {\n",
       "      return new Date();\n",
       "    }\n",
       "  \n",
       "    if (typeof (window._bokeh_onload_callbacks) === \"undefined\") {\n",
       "      window._bokeh_onload_callbacks = [];\n",
       "    }\n",
       "  \n",
       "    function run_callbacks() {\n",
       "      window._bokeh_onload_callbacks.forEach(function(callback) { callback() });\n",
       "      delete window._bokeh_onload_callbacks\n",
       "      console.info(\"Bokeh: all callbacks have finished\");\n",
       "    }\n",
       "  \n",
       "    function load_libs(js_urls, callback) {\n",
       "      window._bokeh_onload_callbacks.push(callback);\n",
       "      if (window._bokeh_is_loading > 0) {\n",
       "        console.log(\"Bokeh: BokehJS is being loaded, scheduling callback at\", now());\n",
       "        return null;\n",
       "      }\n",
       "      if (js_urls == null || js_urls.length === 0) {\n",
       "        run_callbacks();\n",
       "        return null;\n",
       "      }\n",
       "      console.log(\"Bokeh: BokehJS not loaded, scheduling load and callback at\", now());\n",
       "      window._bokeh_is_loading = js_urls.length;\n",
       "      for (var i = 0; i < js_urls.length; i++) {\n",
       "        var url = js_urls[i];\n",
       "        var s = document.createElement('script');\n",
       "        s.src = url;\n",
       "        s.async = false;\n",
       "        s.onreadystatechange = s.onload = function() {\n",
       "          window._bokeh_is_loading--;\n",
       "          if (window._bokeh_is_loading === 0) {\n",
       "            console.log(\"Bokeh: all BokehJS libraries loaded\");\n",
       "            run_callbacks()\n",
       "          }\n",
       "        };\n",
       "        s.onerror = function() {\n",
       "          console.warn(\"failed to load library \" + url);\n",
       "        };\n",
       "        console.log(\"Bokeh: injecting script tag for BokehJS library: \", url);\n",
       "        document.getElementsByTagName(\"head\")[0].appendChild(s);\n",
       "      }\n",
       "    };var element = document.getElementById(\"050c01ff-27f3-48c6-9972-e7ef62d2d5b4\");\n",
       "    if (element == null) {\n",
       "      console.log(\"Bokeh: ERROR: autoload.js configured with elementid '050c01ff-27f3-48c6-9972-e7ef62d2d5b4' but no matching script tag was found. \")\n",
       "      return false;\n",
       "    }\n",
       "  \n",
       "    var js_urls = [];\n",
       "  \n",
       "    var inline_js = [\n",
       "      function(Bokeh) {\n",
       "        Bokeh.$(function() {\n",
       "            var docs_json = {\"2ca59815-de63-48f6-8fe8-33764acd7e59\":{\"roots\":{\"references\":[{\"attributes\":{\"plot\":{\"id\":\"734c32ce-9e3f-4c8a-a35d-7a339d2167c4\",\"subtype\":\"Figure\",\"type\":\"Plot\"}},\"id\":\"e6e14c5f-03f2-43db-b8ba-8e8d5cd94369\",\"type\":\"SaveTool\"},{\"attributes\":{\"below\":[{\"id\":\"971726bf-e268-44e6-b6dd-1e998802208e\",\"type\":\"LinearAxis\"}],\"left\":[{\"id\":\"0864e4ce-b8c8-405e-8047-c01123406c92\",\"type\":\"LinearAxis\"}],\"plot_height\":300,\"plot_width\":900,\"renderers\":[{\"id\":\"971726bf-e268-44e6-b6dd-1e998802208e\",\"type\":\"LinearAxis\"},{\"id\":\"3c47dc33-739d-4328-bd5f-e36736be9498\",\"type\":\"Grid\"},{\"id\":\"0864e4ce-b8c8-405e-8047-c01123406c92\",\"type\":\"LinearAxis\"},{\"id\":\"64875ea6-4bb6-47d3-b3b9-f0dbde625665\",\"type\":\"Grid\"},{\"id\":\"2abb4261-5721-4de5-a113-501b1eb901c5\",\"type\":\"BoxAnnotation\"},{\"id\":\"2735971c-2729-496c-a007-42778c8ff44b\",\"type\":\"GlyphRenderer\"},{\"id\":\"5925e4b4-6b07-4ba1-b63f-1d2fc223796e\",\"type\":\"GlyphRenderer\"},{\"id\":\"b360683b-99fe-4504-81bb-204ce586b236\",\"type\":\"LabelSet\"},{\"id\":\"eb90e847-c092-4ca2-b28d-e2093e260def\",\"type\":\"GlyphRenderer\"},{\"id\":\"1364205e-b781-4325-83b9-be79197e83d9\",\"type\":\"LabelSet\"}],\"title\":{\"id\":\"a9eada76-43eb-43c7-9eca-df4248bc782f\",\"type\":\"Title\"},\"tool_events\":{\"id\":\"aba1a69f-b774-4e08-8d9d-784c2ccbe694\",\"type\":\"ToolEvents\"},\"toolbar\":{\"id\":\"bc3d6375-8081-43e5-a645-feb1adf75ad8\",\"type\":\"Toolbar\"},\"toolbar_location\":null,\"x_range\":{\"id\":\"313c61b0-b688-4c75-a2d0-3d6833dff659\",\"type\":\"Range1d\"},\"y_range\":{\"id\":\"9257f66c-ce64-4186-a9c1-e7567247a23a\",\"type\":\"Range1d\"}},\"id\":\"734c32ce-9e3f-4c8a-a35d-7a339d2167c4\",\"subtype\":\"Figure\",\"type\":\"Plot\"},{\"attributes\":{\"formatter\":{\"id\":\"fe37979e-1e1f-4de4-a8dd-9678c2fccfa5\",\"type\":\"BasicTickFormatter\"},\"plot\":{\"id\":\"734c32ce-9e3f-4c8a-a35d-7a339d2167c4\",\"subtype\":\"Figure\",\"type\":\"Plot\"},\"ticker\":{\"id\":\"ef9a32a1-6bf2-493c-94de-d375f6ffa7a3\",\"type\":\"BasicTicker\"}},\"id\":\"971726bf-e268-44e6-b6dd-1e998802208e\",\"type\":\"LinearAxis\"},{\"attributes\":{},\"id\":\"ef9a32a1-6bf2-493c-94de-d375f6ffa7a3\",\"type\":\"BasicTicker\"},{\"attributes\":{\"callback\":null,\"column_names\":[\"right\",\"bottom\",\"top\",\"left\"],\"data\":{\"bottom\":[245,245,245,245,245,245,245],\"left\":[135809835,135957574,136289083,136499189,136545415,136597196,136664254],\"right\":[135928279,136288182,136482839,136542633,136594750,136634047,136743222],\"top\":[275,275,275,275,275,275,275]}},\"id\":\"b82e25b9-bf5c-4827-b8fb-9fda664a8b43\",\"type\":\"ColumnDataSource\"},{\"attributes\":{\"bottom_units\":\"screen\",\"fill_alpha\":{\"value\":0.5},\"fill_color\":{\"value\":\"lightgrey\"},\"left_units\":\"screen\",\"level\":\"overlay\",\"line_alpha\":{\"value\":1.0},\"line_color\":{\"value\":\"black\"},\"line_dash\":[4,4],\"line_width\":{\"value\":2},\"plot\":null,\"render_mode\":\"css\",\"right_units\":\"screen\",\"top_units\":\"screen\"},\"id\":\"2abb4261-5721-4de5-a113-501b1eb901c5\",\"type\":\"BoxAnnotation\"},{\"attributes\":{\"level\":\"glyph\",\"plot\":{\"id\":\"734c32ce-9e3f-4c8a-a35d-7a339d2167c4\",\"subtype\":\"Figure\",\"type\":\"Plot\"},\"source\":{\"id\":\"32de982c-70bb-4d3e-a4dd-9bb8aa0b11ae\",\"type\":\"ColumnDataSource\"},\"text\":{\"field\":\"vals\"},\"text_font_size\":{\"value\":\"9pt\"},\"text_font_style\":\"bold\",\"x\":{\"field\":\"x\"},\"y\":{\"field\":\"y\"}},\"id\":\"b360683b-99fe-4504-81bb-204ce586b236\",\"type\":\"LabelSet\"},{\"attributes\":{\"callback\":null,\"column_names\":[\"right\",\"bottom\",\"top\",\"left\",\"fill_color\"],\"data\":{\"bottom\":[50,50,50,50,150,150],\"fill_color\":[\"#61c4c4\",\"#ffff00\",\"#c4c461\",\"#61c461\",\"#808080\",\"#61c461\"],\"left\":[135839805,135959272,136393658,136494186,136501840,136682274],\"right\":[135924467,136375855,136486342,136765951,136555659,136775898],\"top\":[90,88,94,95,198,197]}},\"id\":\"26f5aa95-1036-4616-b9cc-61fc42e3b3b2\",\"type\":\"ColumnDataSource\"},{\"attributes\":{\"line_alpha\":{\"value\":0.1},\"line_color\":{\"value\":\"#1f77b4\"},\"xs\":{\"field\":\"xs\"},\"ys\":{\"field\":\"ys\"}},\"id\":\"118a3d85-8696-4e87-a4d2-583901b4a730\",\"type\":\"MultiLine\"},{\"attributes\":{\"bottom\":{\"field\":\"bottom\"},\"fill_color\":{\"value\":\"white\"},\"left\":{\"field\":\"left\"},\"right\":{\"field\":\"right\"},\"top\":{\"field\":\"top\"}},\"id\":\"c15c75d1-c22f-48fc-8d23-41456787ee8d\",\"type\":\"Quad\"},{\"attributes\":{\"plot\":null,\"text\":null},\"id\":\"a9eada76-43eb-43c7-9eca-df4248bc782f\",\"type\":\"Title\"},{\"attributes\":{},\"id\":\"e2b1d1c1-816b-483c-8695-d0676360de80\",\"type\":\"BasicTicker\"},{\"attributes\":{\"callback\":null,\"end\":136786630,\"start\":135757320},\"id\":\"313c61b0-b688-4c75-a2d0-3d6833dff659\",\"type\":\"Range1d\"},{\"attributes\":{\"callback\":null,\"end\":300},\"id\":\"9257f66c-ce64-4186-a9c1-e7567247a23a\",\"type\":\"Range1d\"},{\"attributes\":{\"data_source\":{\"id\":\"6cf96fc5-c520-41c4-a541-40d44ea95b0e\",\"type\":\"ColumnDataSource\"},\"glyph\":{\"id\":\"62e6c998-db68-4697-9611-a894a9213454\",\"type\":\"MultiLine\"},\"hover_glyph\":null,\"nonselection_glyph\":{\"id\":\"118a3d85-8696-4e87-a4d2-583901b4a730\",\"type\":\"MultiLine\"},\"selection_glyph\":null},\"id\":\"5925e4b4-6b07-4ba1-b63f-1d2fc223796e\",\"type\":\"GlyphRenderer\"},{\"attributes\":{\"callback\":null,\"column_names\":[\"xs\",\"ys\",\"line_color\"],\"data\":{\"line_color\":[\"black\",\"black\",\"black\",\"black\",\"black\",\"black\",\"black\",\"black\",\"black\",\"black\",\"black\",\"black\",\"black\",\"black\",\"black\",\"black\",\"black\",\"black\",\"black\",\"black\",\"black\",\"black\",\"black\",\"black\",\"black\",\"black\",\"black\",\"black\",\"black\",\"black\",\"black\",\"black\",\"black\",\"black\",\"black\",\"black\",\"black\",\"black\",\"black\",\"black\",\"black\",\"black\",\"black\",\"black\",\"black\",\"black\",\"black\",\"black\",\"black\",\"black\",\"black\",\"black\",\"black\",\"black\",\"black\",\"black\",\"black\",\"black\",\"black\",\"black\",\"black\",\"black\",\"black\",\"black\",\"black\",\"black\",\"black\",\"black\",\"black\",\"black\",\"black\",\"black\",\"black\",\"black\",\"black\",\"black\",\"black\",\"black\",\"black\",\"black\",\"black\",\"black\",\"black\",\"black\",\"black\",\"black\",\"black\",\"black\",\"black\",\"black\",\"black\",\"black\",\"black\",\"black\",\"black\",\"black\",\"black\",\"black\",\"black\",\"black\",\"black\",\"black\",\"black\",\"black\",\"black\",\"black\",\"black\",\"black\",\"black\",\"black\",\"black\",\"black\",\"black\",\"black\",\"black\",\"black\",\"black\",\"black\",\"black\",\"black\",\"black\",\"black\"],\"xs\":[[135839805,135839805],[135866750,135866750],[135886744,135886744],[135924467,135924467],[135959272,135959272],[136149550,136149550],[136164840,136164840],[136313885,136313885],[136375855,136375855],[136393658,136393658],[136396300,136396300],[136401843,136401843],[136407445,136407445],[136411879,136411879],[136412270,136412270],[136413244,136413244],[136413847,136413847],[136415217,136415217],[136416533,136416533],[136420726,136420726],[136429857,136429857],[136433740,136433740],[136436317,136436317],[136437615,136437615],[136438517,136438517],[136440300,136440300],[136443900,136443900],[136444185,136444185],[136444338,136444338],[136449254,136449254],[136451676,136451676],[136459227,136459227],[136463117,136463117],[136463454,136463454],[136467119,136467119],[136468238,136468238],[136470219,136470219],[136483355,136483355],[136485276,136485276],[136486340,136486340],[136486342,136486342],[136494186,136494186],[136495300,136495300],[136495619,136495619],[136499166,136499166],[136502792,136502792],[136503157,136503157],[136507039,136507039],[136511575,136511575],[136518103,136518103],[136521514,136521514],[136522675,136522675],[136522941,136522941],[136526981,136526981],[136535410,136535410],[136539122,136539122],[136544197,136544197],[136550109,136550109],[136551694,136551694],[136553188,136553188],[136553639,136553639],[136554800,136554800],[136557319,136557319],[136558157,136558157],[136569848,136569848],[136575199,136575199],[136576577,136576577],[136578536,136578536],[136580287,136580287],[136583192,136583192],[136586958,136586958],[136588478,136588478],[136589612,136589612],[136591178,136591178],[136591859,136591859],[136593760,136593760],[136594158,136594158],[136603276,136603276],[136603366,136603366],[136608231,136608231],[136609975,136609975],[136610598,136610598],[136611624,136611624],[136613780,136613780],[136614255,136614255],[136614813,136614813],[136617524,136617524],[136622216,136622216],[136625602,136625602],[136629911,136629911],[136630757,136630757],[136630989,136630989],[136631031,136631031],[136633771,136633771],[136636324,136636324],[136638216,136638216],[136640233,136640233],[136641882,136641882],[136643555,136643555],[136658345,136658345],[136670298,136670298],[136685228,136685228],[136696138,136696138],[136740900,136740900],[136765951,136765951],[136501840,136501840],[136505546,136505546],[136516748,136516748],[136522710,136522710],[136528004,136528004],[136539513,136539513],[136544752,136544752],[136546110,136546110],[136553529,136553529],[136555659,136555659],[136682274,136682274],[136691825,136691825],[136698098,136698098],[136721603,136721603],[136721995,136721995],[136755684,136755684],[136775898,136775898]],\"ys\":[[50,90],[50,90],[50,90],[50,90],[50,88],[50,88],[50,88],[50,88],[50,88],[50,94],[50,94],[50,94],[50,94],[50,94],[50,94],[50,94],[50,94],[50,94],[50,94],[50,94],[50,94],[50,94],[50,94],[50,94],[50,94],[50,94],[50,94],[50,94],[50,94],[50,94],[50,94],[50,94],[50,94],[50,94],[50,94],[50,94],[50,94],[50,94],[50,94],[50,94],[50,94],[50,95],[50,95],[50,95],[50,95],[50,95],[50,95],[50,95],[50,95],[50,95],[50,95],[50,95],[50,95],[50,95],[50,95],[50,95],[50,95],[50,95],[50,95],[50,95],[50,95],[50,95],[50,95],[50,95],[50,95],[50,95],[50,95],[50,95],[50,95],[50,95],[50,95],[50,95],[50,95],[50,95],[50,95],[50,95],[50,95],[50,95],[50,95],[50,95],[50,95],[50,95],[50,95],[50,95],[50,95],[50,95],[50,95],[50,95],[50,95],[50,95],[50,95],[50,95],[50,95],[50,95],[50,95],[50,95],[50,95],[50,95],[50,95],[50,95],[50,95],[50,95],[50,95],[50,95],[50,95],[150,198],[150,198],[150,198],[150,198],[150,198],[150,198],[150,198],[150,198],[150,198],[150,198],[150,197],[150,197],[150,197],[150,197],[150,197],[150,197],[150,197]]}},\"id\":\"6cf96fc5-c520-41c4-a541-40d44ea95b0e\",\"type\":\"ColumnDataSource\"},{\"attributes\":{\"dimension\":1,\"plot\":{\"id\":\"734c32ce-9e3f-4c8a-a35d-7a339d2167c4\",\"subtype\":\"Figure\",\"type\":\"Plot\"},\"ticker\":{\"id\":\"e2b1d1c1-816b-483c-8695-d0676360de80\",\"type\":\"BasicTicker\"}},\"id\":\"64875ea6-4bb6-47d3-b3b9-f0dbde625665\",\"type\":\"Grid\"},{\"attributes\":{\"level\":\"glyph\",\"plot\":{\"id\":\"734c32ce-9e3f-4c8a-a35d-7a339d2167c4\",\"subtype\":\"Figure\",\"type\":\"Plot\"},\"source\":{\"id\":\"b135e228-7bf7-46e4-b407-d3b59d3b7260\",\"type\":\"ColumnDataSource\"},\"text\":{\"field\":\"vals\"},\"text_align\":\"center\",\"text_baseline\":\"middle\",\"text_font_size\":{\"value\":\"8pt\"},\"x\":{\"field\":\"x\"},\"y\":{\"field\":\"y\"}},\"id\":\"1364205e-b781-4325-83b9-be79197e83d9\",\"type\":\"LabelSet\"},{\"attributes\":{\"plot\":{\"id\":\"734c32ce-9e3f-4c8a-a35d-7a339d2167c4\",\"subtype\":\"Figure\",\"type\":\"Plot\"}},\"id\":\"f828f41a-8602-44b8-9b55-369dc733a64b\",\"type\":\"WheelZoomTool\"},{\"attributes\":{\"plot\":{\"id\":\"734c32ce-9e3f-4c8a-a35d-7a339d2167c4\",\"subtype\":\"Figure\",\"type\":\"Plot\"}},\"id\":\"e8e4a4ba-000b-4891-96d9-7abf57da5473\",\"type\":\"ResetTool\"},{\"attributes\":{\"overlay\":{\"id\":\"2abb4261-5721-4de5-a113-501b1eb901c5\",\"type\":\"BoxAnnotation\"},\"plot\":{\"id\":\"734c32ce-9e3f-4c8a-a35d-7a339d2167c4\",\"subtype\":\"Figure\",\"type\":\"Plot\"}},\"id\":\"8be80f9c-e78e-4896-8a8a-baba5818f341\",\"type\":\"BoxZoomTool\"},{\"attributes\":{\"callback\":null,\"column_names\":[\"y\",\"x\",\"vals\"],\"data\":{\"vals\":[\"4_815\",\"5_684\",\"32_1361\",\"64_1575\",\"10_2206\",\"7_1868\"],\"x\":[135839805,135959272,136393658,136494186,136501840,136682274],\"y\":[95.0,93.0,99.0,100.0,203.0,202.0]}},\"id\":\"32de982c-70bb-4d3e-a4dd-9bb8aa0b11ae\",\"type\":\"ColumnDataSource\"},{\"attributes\":{},\"id\":\"55ce7136-dd90-42c5-bb64-565da3724034\",\"type\":\"BasicTickFormatter\"},{\"attributes\":{\"line_color\":{\"field\":\"line_color\"},\"xs\":{\"field\":\"xs\"},\"ys\":{\"field\":\"ys\"}},\"id\":\"62e6c998-db68-4697-9611-a894a9213454\",\"type\":\"MultiLine\"},{\"attributes\":{\"data_source\":{\"id\":\"26f5aa95-1036-4616-b9cc-61fc42e3b3b2\",\"type\":\"ColumnDataSource\"},\"glyph\":{\"id\":\"0cd369d4-92e9-4beb-bb43-97875953835c\",\"type\":\"Quad\"},\"hover_glyph\":null,\"nonselection_glyph\":{\"id\":\"e3188c30-f949-4aa7-bcf3-c21ebdedcf19\",\"type\":\"Quad\"},\"selection_glyph\":null},\"id\":\"2735971c-2729-496c-a007-42778c8ff44b\",\"type\":\"GlyphRenderer\"},{\"attributes\":{\"plot\":{\"id\":\"734c32ce-9e3f-4c8a-a35d-7a339d2167c4\",\"subtype\":\"Figure\",\"type\":\"Plot\"}},\"id\":\"f9257868-01ec-4a8f-b964-ddd0fc9081cb\",\"type\":\"PanTool\"},{\"attributes\":{\"bottom\":{\"field\":\"bottom\"},\"fill_alpha\":{\"value\":0.1},\"fill_color\":{\"value\":\"#1f77b4\"},\"left\":{\"field\":\"left\"},\"line_alpha\":{\"value\":0.1},\"line_color\":{\"value\":\"#1f77b4\"},\"right\":{\"field\":\"right\"},\"top\":{\"field\":\"top\"}},\"id\":\"8e83d3a6-9016-48e3-b82c-d230b4816ef7\",\"type\":\"Quad\"},{\"attributes\":{\"bottom\":{\"field\":\"bottom\"},\"fill_alpha\":{\"value\":0.1},\"fill_color\":{\"value\":\"#1f77b4\"},\"left\":{\"field\":\"left\"},\"line_alpha\":{\"value\":0.1},\"line_color\":{\"value\":\"#1f77b4\"},\"right\":{\"field\":\"right\"},\"top\":{\"field\":\"top\"}},\"id\":\"e3188c30-f949-4aa7-bcf3-c21ebdedcf19\",\"type\":\"Quad\"},{\"attributes\":{\"bottom\":{\"field\":\"bottom\"},\"fill_color\":{\"field\":\"fill_color\"},\"left\":{\"field\":\"left\"},\"line_color\":{\"value\":null},\"right\":{\"field\":\"right\"},\"top\":{\"field\":\"top\"}},\"id\":\"0cd369d4-92e9-4beb-bb43-97875953835c\",\"type\":\"Quad\"},{\"attributes\":{\"plot\":{\"id\":\"734c32ce-9e3f-4c8a-a35d-7a339d2167c4\",\"subtype\":\"Figure\",\"type\":\"Plot\"}},\"id\":\"4fd14bb9-a416-4c83-8a56-b66213ac1dda\",\"type\":\"HelpTool\"},{\"attributes\":{\"callback\":null,\"column_names\":[\"y\",\"x\",\"vals\"],\"data\":{\"vals\":[\"RAB3GAP1\",\"ZRANB3\",\"R3HDM1\",\"UBXN4\",\"LCT\",\"MCM6\",\"DARS\"],\"x\":[135869057.0,136122878.0,136385961.0,136520911.0,136570082.5,136615621.5,136703738.0],\"y\":[260.0,260.0,260.0,260.0,260.0,260.0,260.0]}},\"id\":\"b135e228-7bf7-46e4-b407-d3b59d3b7260\",\"type\":\"ColumnDataSource\"},{\"attributes\":{},\"id\":\"fe37979e-1e1f-4de4-a8dd-9678c2fccfa5\",\"type\":\"BasicTickFormatter\"},{\"attributes\":{\"data_source\":{\"id\":\"b82e25b9-bf5c-4827-b8fb-9fda664a8b43\",\"type\":\"ColumnDataSource\"},\"glyph\":{\"id\":\"c15c75d1-c22f-48fc-8d23-41456787ee8d\",\"type\":\"Quad\"},\"hover_glyph\":null,\"nonselection_glyph\":{\"id\":\"8e83d3a6-9016-48e3-b82c-d230b4816ef7\",\"type\":\"Quad\"},\"selection_glyph\":null},\"id\":\"eb90e847-c092-4ca2-b28d-e2093e260def\",\"type\":\"GlyphRenderer\"},{\"attributes\":{\"plot\":{\"id\":\"734c32ce-9e3f-4c8a-a35d-7a339d2167c4\",\"subtype\":\"Figure\",\"type\":\"Plot\"},\"ticker\":{\"id\":\"ef9a32a1-6bf2-493c-94de-d375f6ffa7a3\",\"type\":\"BasicTicker\"}},\"id\":\"3c47dc33-739d-4328-bd5f-e36736be9498\",\"type\":\"Grid\"},{\"attributes\":{\"formatter\":{\"id\":\"55ce7136-dd90-42c5-bb64-565da3724034\",\"type\":\"BasicTickFormatter\"},\"plot\":{\"id\":\"734c32ce-9e3f-4c8a-a35d-7a339d2167c4\",\"subtype\":\"Figure\",\"type\":\"Plot\"},\"ticker\":{\"id\":\"e2b1d1c1-816b-483c-8695-d0676360de80\",\"type\":\"BasicTicker\"},\"visible\":null},\"id\":\"0864e4ce-b8c8-405e-8047-c01123406c92\",\"type\":\"LinearAxis\"},{\"attributes\":{},\"id\":\"aba1a69f-b774-4e08-8d9d-784c2ccbe694\",\"type\":\"ToolEvents\"},{\"attributes\":{\"active_drag\":\"auto\",\"active_scroll\":\"auto\",\"active_tap\":\"auto\",\"tools\":[{\"id\":\"f9257868-01ec-4a8f-b964-ddd0fc9081cb\",\"type\":\"PanTool\"},{\"id\":\"f828f41a-8602-44b8-9b55-369dc733a64b\",\"type\":\"WheelZoomTool\"},{\"id\":\"8be80f9c-e78e-4896-8a8a-baba5818f341\",\"type\":\"BoxZoomTool\"},{\"id\":\"e6e14c5f-03f2-43db-b8ba-8e8d5cd94369\",\"type\":\"SaveTool\"},{\"id\":\"e8e4a4ba-000b-4891-96d9-7abf57da5473\",\"type\":\"ResetTool\"},{\"id\":\"4fd14bb9-a416-4c83-8a56-b66213ac1dda\",\"type\":\"HelpTool\"}]},\"id\":\"bc3d6375-8081-43e5-a645-feb1adf75ad8\",\"type\":\"Toolbar\"}],\"root_ids\":[\"734c32ce-9e3f-4c8a-a35d-7a339d2167c4\"]},\"title\":\"Bokeh Application\",\"version\":\"0.12.0\"}};\n",
       "            var render_items = [{\"docid\":\"2ca59815-de63-48f6-8fe8-33764acd7e59\",\"elementid\":\"050c01ff-27f3-48c6-9972-e7ef62d2d5b4\",\"modelid\":\"734c32ce-9e3f-4c8a-a35d-7a339d2167c4\",\"notebook_comms_target\":\"925ac195-9360-4c49-97aa-ad1392718390\"}];\n",
       "            \n",
       "            Bokeh.embed.embed_items(docs_json, render_items);\n",
       "        });\n",
       "      },\n",
       "      function(Bokeh) {\n",
       "      }\n",
       "    ];\n",
       "  \n",
       "    function run_inline_js() {\n",
       "      for (var i = 0; i < inline_js.length; i++) {\n",
       "        inline_js[i](window.Bokeh);\n",
       "      }\n",
       "    }\n",
       "  \n",
       "    if (window._bokeh_is_loading === 0) {\n",
       "      console.log(\"Bokeh: BokehJS loaded, going straight to plotting\");\n",
       "      run_inline_js();\n",
       "    } else {\n",
       "      load_libs(js_urls, function() {\n",
       "        console.log(\"Bokeh: BokehJS plotting callback run at\", now());\n",
       "        run_inline_js();\n",
       "      });\n",
       "    }\n",
       "  }(this));\n",
       "</script>"
      ]
     },
     "metadata": {},
     "output_type": "display_data"
    },
    {
     "data": {
      "text/html": [
       "<p><code>&lt;Bokeh Notebook handle for <strong>In[16]</strong>&gt;</code></p>"
      ],
      "text/plain": [
       "<bokeh.io._CommsHandle at 0x7f3f0c328dd0>"
      ]
     },
     "execution_count": 16,
     "metadata": {},
     "output_type": "execute_result"
    }
   ],
   "source": [
    "plt_obj = dm.superset_allele_mask(am_29, min_match=0.5)\n",
    "plt = plt_obj.do_plot()\n",
    "show(plt)"
   ]
  },
  {
   "cell_type": "markdown",
   "metadata": {},
   "source": [
    "<div style=\"width:700px\">\n",
    "<p>\n",
    "This plot shows the series expressed by at least 50% of the chromosome samples that express a 29\n",
    "SNP fragment of the series 193_843 SNPs.  It indentifies the results of recombination events that\n",
    "have associated the series 4_815 from the South Asian tree with 5_684 and 32_1361 from the East Asian\n",
    "tree and with 64_1575, 10_2206, and 7_1868 from the European tree.\n",
    "</div>"
   ]
  },
  {
   "cell_type": "code",
   "execution_count": 17,
   "metadata": {
    "collapsed": false
   },
   "outputs": [
    {
     "data": {
      "text/html": [
       "<table>\n",
       "<thead><tr><th style=\"text-align:center\">index</th><th style=\"text-align:center\">first</th><th style=\"text-align:center\">length</th><th style=\"text-align:center\">snps</th><th style=\"text-align:center\" colspan=2>alleles</th><th style=\"text-align:center\" colspan=2>matches</th><th style=\"text-align:center\" colspan=2>afr</th><th style=\"text-align:center\" colspan=2>afx</th><th style=\"text-align:center\" colspan=2>amr</th><th style=\"text-align:center\" colspan=2>eas</th><th style=\"text-align:center\" colspan=2>eur</th><th style=\"text-align:center\" colspan=2>sas</th><th style=\"text-align:center\" colspan=2>sax</th></tr></thead>\n",
       "<tr class=\"even\"><td style=\"text-align: right;\">353921</td><td style=\"text-align: right;\">136,501,840</td><td style=\"text-align: right;\">53,819</td><td style=\"text-align: right;\">10</td><td style=\"text-align: right;\">2206</td><td style=\"text-align: right;\">0.03</td><td style=\"text-align: right;\">60</td><td style=\"text-align: right;\">0.64</td><td style=\"text-align: right;\">0</td><td style=\"text-align: right;\">0.00</td><td style=\"text-align: right;\">0</td><td style=\"text-align: right;\">0.00</td><td style=\"text-align: right;\">0</td><td style=\"text-align: right;\">0.00</td><td style=\"text-align: right;\">59</td><td style=\"text-align: right;\">4.89</td><td style=\"text-align: right;\">0</td><td style=\"text-align: right;\">0.00</td><td style=\"text-align: right;\">1</td><td style=\"text-align: right;\">0.23</td><td style=\"text-align: right;\">0</td><td style=\"text-align: right;\">0.00</td></tr>\n",
       "<tr><td style=\"text-align: right;\">354170</td><td style=\"text-align: right;\">136,682,274</td><td style=\"text-align: right;\">93,624</td><td style=\"text-align: right;\">7</td><td style=\"text-align: right;\">1868</td><td style=\"text-align: right;\">0.03</td><td style=\"text-align: right;\">62</td><td style=\"text-align: right;\">0.66</td><td style=\"text-align: right;\">1</td><td style=\"text-align: right;\">0.08</td><td style=\"text-align: right;\">0</td><td style=\"text-align: right;\">0.00</td><td style=\"text-align: right;\">0</td><td style=\"text-align: right;\">0.00</td><td style=\"text-align: right;\">59</td><td style=\"text-align: right;\">4.73</td><td style=\"text-align: right;\">1</td><td style=\"text-align: right;\">0.08</td><td style=\"text-align: right;\">1</td><td style=\"text-align: right;\">0.22</td><td style=\"text-align: right;\">0</td><td style=\"text-align: right;\">0.00</td></tr>\n",
       "<tr class=\"even\"><td style=\"text-align: right;\">353901</td><td style=\"text-align: right;\">136,494,186</td><td style=\"text-align: right;\">271,765</td><td style=\"text-align: right;\">64</td><td style=\"text-align: right;\">1575</td><td style=\"text-align: right;\">0.04</td><td style=\"text-align: right;\">60</td><td style=\"text-align: right;\">0.64</td><td style=\"text-align: right;\">0</td><td style=\"text-align: right;\">0.00</td><td style=\"text-align: right;\">0</td><td style=\"text-align: right;\">0.00</td><td style=\"text-align: right;\">0</td><td style=\"text-align: right;\">0.00</td><td style=\"text-align: right;\">59</td><td style=\"text-align: right;\">4.89</td><td style=\"text-align: right;\">0</td><td style=\"text-align: right;\">0.00</td><td style=\"text-align: right;\">1</td><td style=\"text-align: right;\">0.23</td><td style=\"text-align: right;\">0</td><td style=\"text-align: right;\">0.00</td></tr>\n",
       "<tr><td style=\"text-align: right;\">353791</td><td style=\"text-align: right;\">136,393,658</td><td style=\"text-align: right;\">92,684</td><td style=\"text-align: right;\">32</td><td style=\"text-align: right;\">1361</td><td style=\"text-align: right;\">0.06</td><td style=\"text-align: right;\">79</td><td style=\"text-align: right;\">0.84</td><td style=\"text-align: right;\">1</td><td style=\"text-align: right;\">0.06</td><td style=\"text-align: right;\">0</td><td style=\"text-align: right;\">0.00</td><td style=\"text-align: right;\">0</td><td style=\"text-align: right;\">0.00</td><td style=\"text-align: right;\">71</td><td style=\"text-align: right;\">4.47</td><td style=\"text-align: right;\">1</td><td style=\"text-align: right;\">0.06</td><td style=\"text-align: right;\">4</td><td style=\"text-align: right;\">0.70</td><td style=\"text-align: right;\">2</td><td style=\"text-align: right;\">0.21</td></tr>\n",
       "<tr class=\"even\"><td style=\"text-align: right;\">353384</td><td style=\"text-align: right;\">135,839,805</td><td style=\"text-align: right;\">84,662</td><td style=\"text-align: right;\">4</td><td style=\"text-align: right;\">815</td><td style=\"text-align: right;\">0.11</td><td style=\"text-align: right;\">93</td><td style=\"text-align: right;\">0.99</td><td style=\"text-align: right;\">2</td><td style=\"text-align: right;\">0.11</td><td style=\"text-align: right;\">0</td><td style=\"text-align: right;\">0.00</td><td style=\"text-align: right;\">0</td><td style=\"text-align: right;\">0.00</td><td style=\"text-align: right;\">84</td><td style=\"text-align: right;\">4.49</td><td style=\"text-align: right;\">1</td><td style=\"text-align: right;\">0.05</td><td style=\"text-align: right;\">4</td><td style=\"text-align: right;\">0.59</td><td style=\"text-align: right;\">2</td><td style=\"text-align: right;\">0.18</td></tr>\n",
       "<tr><td style=\"text-align: right;\">353498</td><td style=\"text-align: right;\">135,959,272</td><td style=\"text-align: right;\">416,583</td><td style=\"text-align: right;\">5</td><td style=\"text-align: right;\">684</td><td style=\"text-align: right;\">0.13</td><td style=\"text-align: right;\">87</td><td style=\"text-align: right;\">0.93</td><td style=\"text-align: right;\">0</td><td style=\"text-align: right;\">0.00</td><td style=\"text-align: right;\">0</td><td style=\"text-align: right;\">0.00</td><td style=\"text-align: right;\">0</td><td style=\"text-align: right;\">0.00</td><td style=\"text-align: right;\">82</td><td style=\"text-align: right;\">4.68</td><td style=\"text-align: right;\">0</td><td style=\"text-align: right;\">0.00</td><td style=\"text-align: right;\">4</td><td style=\"text-align: right;\">0.63</td><td style=\"text-align: right;\">1</td><td style=\"text-align: right;\">0.09</td></tr>\n",
       "</table>"
      ],
      "text/plain": [
       "<IPython.core.display.HTML object>"
      ]
     },
     "execution_count": 17,
     "metadata": {},
     "output_type": "execute_result"
    }
   ],
   "source": [
    "HTML(plt_obj.get_html())"
   ]
  },
  {
   "cell_type": "markdown",
   "metadata": {},
   "source": [
    "<div style=\"width:700px\">\n",
    "<p>\n",
    "The data from the plot show that 93 out of the 94 chromsome samples that express 29 193_843\n",
    "SNPs express the series 4_815.\n",
    "</div>"
   ]
  },
  {
   "cell_type": "code",
   "execution_count": 18,
   "metadata": {
    "collapsed": false
   },
   "outputs": [
    {
     "data": {
      "text/html": [
       "\n",
       "\n",
       "    <div class=\"bk-root\">\n",
       "        <div class=\"plotdiv\" id=\"65a99ddc-9ddd-41e6-8490-33e9281564ea\"></div>\n",
       "    </div>\n",
       "<script type=\"text/javascript\">\n",
       "  \n",
       "  (function(global) {\n",
       "    function now() {\n",
       "      return new Date();\n",
       "    }\n",
       "  \n",
       "    if (typeof (window._bokeh_onload_callbacks) === \"undefined\") {\n",
       "      window._bokeh_onload_callbacks = [];\n",
       "    }\n",
       "  \n",
       "    function run_callbacks() {\n",
       "      window._bokeh_onload_callbacks.forEach(function(callback) { callback() });\n",
       "      delete window._bokeh_onload_callbacks\n",
       "      console.info(\"Bokeh: all callbacks have finished\");\n",
       "    }\n",
       "  \n",
       "    function load_libs(js_urls, callback) {\n",
       "      window._bokeh_onload_callbacks.push(callback);\n",
       "      if (window._bokeh_is_loading > 0) {\n",
       "        console.log(\"Bokeh: BokehJS is being loaded, scheduling callback at\", now());\n",
       "        return null;\n",
       "      }\n",
       "      if (js_urls == null || js_urls.length === 0) {\n",
       "        run_callbacks();\n",
       "        return null;\n",
       "      }\n",
       "      console.log(\"Bokeh: BokehJS not loaded, scheduling load and callback at\", now());\n",
       "      window._bokeh_is_loading = js_urls.length;\n",
       "      for (var i = 0; i < js_urls.length; i++) {\n",
       "        var url = js_urls[i];\n",
       "        var s = document.createElement('script');\n",
       "        s.src = url;\n",
       "        s.async = false;\n",
       "        s.onreadystatechange = s.onload = function() {\n",
       "          window._bokeh_is_loading--;\n",
       "          if (window._bokeh_is_loading === 0) {\n",
       "            console.log(\"Bokeh: all BokehJS libraries loaded\");\n",
       "            run_callbacks()\n",
       "          }\n",
       "        };\n",
       "        s.onerror = function() {\n",
       "          console.warn(\"failed to load library \" + url);\n",
       "        };\n",
       "        console.log(\"Bokeh: injecting script tag for BokehJS library: \", url);\n",
       "        document.getElementsByTagName(\"head\")[0].appendChild(s);\n",
       "      }\n",
       "    };var element = document.getElementById(\"65a99ddc-9ddd-41e6-8490-33e9281564ea\");\n",
       "    if (element == null) {\n",
       "      console.log(\"Bokeh: ERROR: autoload.js configured with elementid '65a99ddc-9ddd-41e6-8490-33e9281564ea' but no matching script tag was found. \")\n",
       "      return false;\n",
       "    }\n",
       "  \n",
       "    var js_urls = [];\n",
       "  \n",
       "    var inline_js = [\n",
       "      function(Bokeh) {\n",
       "        Bokeh.$(function() {\n",
       "            var docs_json = {\"c187a238-0f43-410d-8e61-6e5372a06a8f\":{\"roots\":{\"references\":[{\"attributes\":{\"overlay\":{\"id\":\"15cc01cb-c01c-418e-9c9e-803116369458\",\"type\":\"BoxAnnotation\"},\"plot\":{\"id\":\"ba0a76ee-fc91-4e24-8a5b-fea2b8f6aa1c\",\"subtype\":\"Figure\",\"type\":\"Plot\"}},\"id\":\"ea4b4f4f-4abb-418b-8817-929b8f459621\",\"type\":\"BoxZoomTool\"},{\"attributes\":{\"plot\":{\"id\":\"ba0a76ee-fc91-4e24-8a5b-fea2b8f6aa1c\",\"subtype\":\"Figure\",\"type\":\"Plot\"},\"ticker\":{\"id\":\"3a7c570c-99f0-4ade-b333-d329a4b00e0f\",\"type\":\"BasicTicker\"}},\"id\":\"71f60244-8bfa-4b27-809f-caf63b386e36\",\"type\":\"Grid\"},{\"attributes\":{\"callback\":null,\"end\":136786630,\"start\":135757320},\"id\":\"fd459915-50a1-41d2-a91e-62e8da5ae1f8\",\"type\":\"Range1d\"},{\"attributes\":{\"callback\":null,\"column_names\":[\"y\",\"x\",\"vals\"],\"data\":{\"vals\":[\"RAB3GAP1\",\"ZRANB3\",\"R3HDM1\",\"UBXN4\",\"LCT\",\"MCM6\",\"DARS\"],\"x\":[135869057.0,136122878.0,136385961.0,136520911.0,136570082.5,136615621.5,136703738.0],\"y\":[260.0,260.0,260.0,260.0,260.0,260.0,260.0]}},\"id\":\"c9bfc2fd-8cc3-4d9c-955b-172964f698ce\",\"type\":\"ColumnDataSource\"},{\"attributes\":{\"callback\":null,\"column_names\":[\"right\",\"bottom\",\"top\",\"left\"],\"data\":{\"bottom\":[245,245,245,245,245,245,245],\"left\":[135809835,135957574,136289083,136499189,136545415,136597196,136664254],\"right\":[135928279,136288182,136482839,136542633,136594750,136634047,136743222],\"top\":[275,275,275,275,275,275,275]}},\"id\":\"61373bbc-49a7-4036-8e20-72f4b50487c4\",\"type\":\"ColumnDataSource\"},{\"attributes\":{\"data_source\":{\"id\":\"bf6eab92-09ec-4a15-84f3-582b0a9aed42\",\"type\":\"ColumnDataSource\"},\"glyph\":{\"id\":\"6221b6a9-53da-4c3e-aa2d-57b672c291e6\",\"type\":\"Quad\"},\"hover_glyph\":null,\"nonselection_glyph\":{\"id\":\"1802f910-0401-4ba3-9246-f8509d00de59\",\"type\":\"Quad\"},\"selection_glyph\":null},\"id\":\"097362a0-a31b-4912-8711-4a9e6efb4959\",\"type\":\"GlyphRenderer\"},{\"attributes\":{\"formatter\":{\"id\":\"99c721ed-6c59-4e70-bf94-7b0c9fe8724c\",\"type\":\"BasicTickFormatter\"},\"plot\":{\"id\":\"ba0a76ee-fc91-4e24-8a5b-fea2b8f6aa1c\",\"subtype\":\"Figure\",\"type\":\"Plot\"},\"ticker\":{\"id\":\"258d4c37-8e47-4970-b260-737fccef89d7\",\"type\":\"BasicTicker\"},\"visible\":null},\"id\":\"60b17be4-b770-4102-b642-9c83df4aee71\",\"type\":\"LinearAxis\"},{\"attributes\":{\"bottom\":{\"field\":\"bottom\"},\"fill_alpha\":{\"value\":0.1},\"fill_color\":{\"value\":\"#1f77b4\"},\"left\":{\"field\":\"left\"},\"line_alpha\":{\"value\":0.1},\"line_color\":{\"value\":\"#1f77b4\"},\"right\":{\"field\":\"right\"},\"top\":{\"field\":\"top\"}},\"id\":\"1802f910-0401-4ba3-9246-f8509d00de59\",\"type\":\"Quad\"},{\"attributes\":{\"bottom\":{\"field\":\"bottom\"},\"fill_color\":{\"field\":\"fill_color\"},\"left\":{\"field\":\"left\"},\"line_color\":{\"value\":null},\"right\":{\"field\":\"right\"},\"top\":{\"field\":\"top\"}},\"id\":\"6221b6a9-53da-4c3e-aa2d-57b672c291e6\",\"type\":\"Quad\"},{\"attributes\":{\"callback\":null,\"column_names\":[\"right\",\"bottom\",\"top\",\"left\",\"fill_color\"],\"data\":{\"bottom\":[50,50,50,50,150,150],\"fill_color\":[\"#61c4c4\",\"#ffff00\",\"#c4c461\",\"#61c461\",\"#808080\",\"#61c461\"],\"left\":[135839805,135959272,136393658,136494186,136501840,136682274],\"right\":[135924467,136375855,136486342,136765951,136555659,136775898],\"top\":[90,88,94,95,198,197]}},\"id\":\"bf6eab92-09ec-4a15-84f3-582b0a9aed42\",\"type\":\"ColumnDataSource\"},{\"attributes\":{},\"id\":\"258d4c37-8e47-4970-b260-737fccef89d7\",\"type\":\"BasicTicker\"},{\"attributes\":{\"plot\":{\"id\":\"ba0a76ee-fc91-4e24-8a5b-fea2b8f6aa1c\",\"subtype\":\"Figure\",\"type\":\"Plot\"}},\"id\":\"50ec7cf6-c495-4a5b-a031-36dce900383f\",\"type\":\"WheelZoomTool\"},{\"attributes\":{\"line_alpha\":{\"value\":0.1},\"line_color\":{\"value\":\"#1f77b4\"},\"xs\":{\"field\":\"xs\"},\"ys\":{\"field\":\"ys\"}},\"id\":\"fb63c282-ae99-41a5-8ec7-b6ec7c0bc694\",\"type\":\"MultiLine\"},{\"attributes\":{\"bottom\":{\"field\":\"bottom\"},\"fill_alpha\":{\"value\":0.1},\"fill_color\":{\"value\":\"#1f77b4\"},\"left\":{\"field\":\"left\"},\"line_alpha\":{\"value\":0.1},\"line_color\":{\"value\":\"#1f77b4\"},\"right\":{\"field\":\"right\"},\"top\":{\"field\":\"top\"}},\"id\":\"0e4508a5-1a25-4d70-8055-d0e8dc76630d\",\"type\":\"Quad\"},{\"attributes\":{\"data_source\":{\"id\":\"61373bbc-49a7-4036-8e20-72f4b50487c4\",\"type\":\"ColumnDataSource\"},\"glyph\":{\"id\":\"2b4771a5-3bbb-483e-b426-cfb0392eb60a\",\"type\":\"Quad\"},\"hover_glyph\":null,\"nonselection_glyph\":{\"id\":\"0e4508a5-1a25-4d70-8055-d0e8dc76630d\",\"type\":\"Quad\"},\"selection_glyph\":null},\"id\":\"3e7c2a2c-47d2-4e29-b432-5e97e7885add\",\"type\":\"GlyphRenderer\"},{\"attributes\":{\"formatter\":{\"id\":\"eed23f4d-4506-4234-ad73-e49019c70f31\",\"type\":\"BasicTickFormatter\"},\"plot\":{\"id\":\"ba0a76ee-fc91-4e24-8a5b-fea2b8f6aa1c\",\"subtype\":\"Figure\",\"type\":\"Plot\"},\"ticker\":{\"id\":\"3a7c570c-99f0-4ade-b333-d329a4b00e0f\",\"type\":\"BasicTicker\"}},\"id\":\"fecad6f9-cd8b-49a8-bfb2-92112415c39a\",\"type\":\"LinearAxis\"},{\"attributes\":{},\"id\":\"3a7c570c-99f0-4ade-b333-d329a4b00e0f\",\"type\":\"BasicTicker\"},{\"attributes\":{\"plot\":{\"id\":\"ba0a76ee-fc91-4e24-8a5b-fea2b8f6aa1c\",\"subtype\":\"Figure\",\"type\":\"Plot\"}},\"id\":\"7d73b529-a25c-434f-a90e-357820ce07de\",\"type\":\"ResetTool\"},{\"attributes\":{\"bottom\":{\"field\":\"bottom\"},\"fill_color\":{\"value\":\"white\"},\"left\":{\"field\":\"left\"},\"right\":{\"field\":\"right\"},\"top\":{\"field\":\"top\"}},\"id\":\"2b4771a5-3bbb-483e-b426-cfb0392eb60a\",\"type\":\"Quad\"},{\"attributes\":{\"callback\":null,\"end\":300},\"id\":\"9c0dcd6b-9730-474e-9668-56a1456e3a51\",\"type\":\"Range1d\"},{\"attributes\":{\"plot\":{\"id\":\"ba0a76ee-fc91-4e24-8a5b-fea2b8f6aa1c\",\"subtype\":\"Figure\",\"type\":\"Plot\"}},\"id\":\"b33b7531-d505-4ee3-b476-f1d1a9b13986\",\"type\":\"HelpTool\"},{\"attributes\":{\"callback\":null,\"column_names\":[\"xs\",\"ys\",\"line_color\"],\"data\":{\"line_color\":[\"black\",\"black\",\"black\",\"black\",\"black\",\"black\",\"black\",\"black\",\"black\",\"black\",\"black\",\"black\",\"black\",\"black\",\"black\",\"black\",\"black\",\"black\",\"black\",\"black\",\"black\",\"black\",\"black\",\"black\",\"black\",\"black\",\"black\",\"black\",\"black\",\"black\",\"black\",\"black\",\"black\",\"black\",\"black\",\"black\",\"black\",\"black\",\"black\",\"black\",\"black\",\"black\",\"black\",\"black\",\"black\",\"black\",\"black\",\"black\",\"black\",\"black\",\"black\",\"black\",\"black\",\"black\",\"black\",\"black\",\"black\",\"black\",\"black\",\"black\",\"black\",\"black\",\"black\",\"black\",\"black\",\"black\",\"black\",\"black\",\"black\",\"black\",\"black\",\"black\",\"black\",\"black\",\"black\",\"black\",\"black\",\"black\",\"black\",\"black\",\"black\",\"black\",\"black\",\"black\",\"black\",\"black\",\"black\",\"black\",\"black\",\"black\",\"black\",\"black\",\"black\",\"black\",\"black\",\"black\",\"black\",\"black\",\"black\",\"black\",\"black\",\"black\",\"black\",\"black\",\"black\",\"black\",\"black\",\"black\",\"black\",\"black\",\"black\",\"black\",\"black\",\"black\",\"black\",\"black\",\"black\",\"black\",\"black\",\"black\",\"black\",\"black\"],\"xs\":[[135839805,135839805],[135866750,135866750],[135886744,135886744],[135924467,135924467],[135959272,135959272],[136149550,136149550],[136164840,136164840],[136313885,136313885],[136375855,136375855],[136393658,136393658],[136396300,136396300],[136401843,136401843],[136407445,136407445],[136411879,136411879],[136412270,136412270],[136413244,136413244],[136413847,136413847],[136415217,136415217],[136416533,136416533],[136420726,136420726],[136429857,136429857],[136433740,136433740],[136436317,136436317],[136437615,136437615],[136438517,136438517],[136440300,136440300],[136443900,136443900],[136444185,136444185],[136444338,136444338],[136449254,136449254],[136451676,136451676],[136459227,136459227],[136463117,136463117],[136463454,136463454],[136467119,136467119],[136468238,136468238],[136470219,136470219],[136483355,136483355],[136485276,136485276],[136486340,136486340],[136486342,136486342],[136494186,136494186],[136495300,136495300],[136495619,136495619],[136499166,136499166],[136502792,136502792],[136503157,136503157],[136507039,136507039],[136511575,136511575],[136518103,136518103],[136521514,136521514],[136522675,136522675],[136522941,136522941],[136526981,136526981],[136535410,136535410],[136539122,136539122],[136544197,136544197],[136550109,136550109],[136551694,136551694],[136553188,136553188],[136553639,136553639],[136554800,136554800],[136557319,136557319],[136558157,136558157],[136569848,136569848],[136575199,136575199],[136576577,136576577],[136578536,136578536],[136580287,136580287],[136583192,136583192],[136586958,136586958],[136588478,136588478],[136589612,136589612],[136591178,136591178],[136591859,136591859],[136593760,136593760],[136594158,136594158],[136603276,136603276],[136603366,136603366],[136608231,136608231],[136609975,136609975],[136610598,136610598],[136611624,136611624],[136613780,136613780],[136614255,136614255],[136614813,136614813],[136617524,136617524],[136622216,136622216],[136625602,136625602],[136629911,136629911],[136630757,136630757],[136630989,136630989],[136631031,136631031],[136633771,136633771],[136636324,136636324],[136638216,136638216],[136640233,136640233],[136641882,136641882],[136643555,136643555],[136658345,136658345],[136670298,136670298],[136685228,136685228],[136696138,136696138],[136740900,136740900],[136765951,136765951],[136501840,136501840],[136505546,136505546],[136516748,136516748],[136522710,136522710],[136528004,136528004],[136539513,136539513],[136544752,136544752],[136546110,136546110],[136553529,136553529],[136555659,136555659],[136682274,136682274],[136691825,136691825],[136698098,136698098],[136721603,136721603],[136721995,136721995],[136755684,136755684],[136775898,136775898]],\"ys\":[[50,90],[50,90],[50,90],[50,90],[50,88],[50,88],[50,88],[50,88],[50,88],[50,94],[50,94],[50,94],[50,94],[50,94],[50,94],[50,94],[50,94],[50,94],[50,94],[50,94],[50,94],[50,94],[50,94],[50,94],[50,94],[50,94],[50,94],[50,94],[50,94],[50,94],[50,94],[50,94],[50,94],[50,94],[50,94],[50,94],[50,94],[50,94],[50,94],[50,94],[50,94],[50,95],[50,95],[50,95],[50,95],[50,95],[50,95],[50,95],[50,95],[50,95],[50,95],[50,95],[50,95],[50,95],[50,95],[50,95],[50,95],[50,95],[50,95],[50,95],[50,95],[50,95],[50,95],[50,95],[50,95],[50,95],[50,95],[50,95],[50,95],[50,95],[50,95],[50,95],[50,95],[50,95],[50,95],[50,95],[50,95],[50,95],[50,95],[50,95],[50,95],[50,95],[50,95],[50,95],[50,95],[50,95],[50,95],[50,95],[50,95],[50,95],[50,95],[50,95],[50,95],[50,95],[50,95],[50,95],[50,95],[50,95],[50,95],[50,95],[50,95],[50,95],[50,95],[50,95],[50,95],[150,198],[150,198],[150,198],[150,198],[150,198],[150,198],[150,198],[150,198],[150,198],[150,198],[150,197],[150,197],[150,197],[150,197],[150,197],[150,197],[150,197]]}},\"id\":\"f13eca56-db15-4595-94c6-b54b5bc26489\",\"type\":\"ColumnDataSource\"},{\"attributes\":{},\"id\":\"1cdd36da-0e7e-42cd-8669-5660261ce8e8\",\"type\":\"ToolEvents\"},{\"attributes\":{\"plot\":{\"id\":\"ba0a76ee-fc91-4e24-8a5b-fea2b8f6aa1c\",\"subtype\":\"Figure\",\"type\":\"Plot\"}},\"id\":\"13066956-8c1e-4ce1-924e-3b5d780a445e\",\"type\":\"PanTool\"},{\"attributes\":{\"below\":[{\"id\":\"fecad6f9-cd8b-49a8-bfb2-92112415c39a\",\"type\":\"LinearAxis\"}],\"left\":[{\"id\":\"60b17be4-b770-4102-b642-9c83df4aee71\",\"type\":\"LinearAxis\"}],\"plot_height\":300,\"plot_width\":900,\"renderers\":[{\"id\":\"fecad6f9-cd8b-49a8-bfb2-92112415c39a\",\"type\":\"LinearAxis\"},{\"id\":\"71f60244-8bfa-4b27-809f-caf63b386e36\",\"type\":\"Grid\"},{\"id\":\"60b17be4-b770-4102-b642-9c83df4aee71\",\"type\":\"LinearAxis\"},{\"id\":\"b1a8bd5a-6a07-42bc-a7ca-f86194ddcd66\",\"type\":\"Grid\"},{\"id\":\"15cc01cb-c01c-418e-9c9e-803116369458\",\"type\":\"BoxAnnotation\"},{\"id\":\"097362a0-a31b-4912-8711-4a9e6efb4959\",\"type\":\"GlyphRenderer\"},{\"id\":\"84464602-72ef-4904-8985-4b8d9a59803d\",\"type\":\"GlyphRenderer\"},{\"id\":\"f185bbce-23c6-47d3-bbc8-040a57c5e9b0\",\"type\":\"LabelSet\"},{\"id\":\"3e7c2a2c-47d2-4e29-b432-5e97e7885add\",\"type\":\"GlyphRenderer\"},{\"id\":\"a22592a1-88b4-4bc4-b815-97b10d396bed\",\"type\":\"LabelSet\"}],\"title\":{\"id\":\"23b091b9-232a-4ba9-845e-16834359e67e\",\"type\":\"Title\"},\"tool_events\":{\"id\":\"1cdd36da-0e7e-42cd-8669-5660261ce8e8\",\"type\":\"ToolEvents\"},\"toolbar\":{\"id\":\"ec3c815e-152f-4364-aed1-9a82772615d7\",\"type\":\"Toolbar\"},\"toolbar_location\":null,\"x_range\":{\"id\":\"fd459915-50a1-41d2-a91e-62e8da5ae1f8\",\"type\":\"Range1d\"},\"y_range\":{\"id\":\"9c0dcd6b-9730-474e-9668-56a1456e3a51\",\"type\":\"Range1d\"}},\"id\":\"ba0a76ee-fc91-4e24-8a5b-fea2b8f6aa1c\",\"subtype\":\"Figure\",\"type\":\"Plot\"},{\"attributes\":{\"level\":\"glyph\",\"plot\":{\"id\":\"ba0a76ee-fc91-4e24-8a5b-fea2b8f6aa1c\",\"subtype\":\"Figure\",\"type\":\"Plot\"},\"source\":{\"id\":\"c9bfc2fd-8cc3-4d9c-955b-172964f698ce\",\"type\":\"ColumnDataSource\"},\"text\":{\"field\":\"vals\"},\"text_align\":\"center\",\"text_baseline\":\"middle\",\"text_font_size\":{\"value\":\"8pt\"},\"x\":{\"field\":\"x\"},\"y\":{\"field\":\"y\"}},\"id\":\"a22592a1-88b4-4bc4-b815-97b10d396bed\",\"type\":\"LabelSet\"},{\"attributes\":{\"data_source\":{\"id\":\"f13eca56-db15-4595-94c6-b54b5bc26489\",\"type\":\"ColumnDataSource\"},\"glyph\":{\"id\":\"7323e5ff-9158-4772-9be0-698105ab217e\",\"type\":\"MultiLine\"},\"hover_glyph\":null,\"nonselection_glyph\":{\"id\":\"fb63c282-ae99-41a5-8ec7-b6ec7c0bc694\",\"type\":\"MultiLine\"},\"selection_glyph\":null},\"id\":\"84464602-72ef-4904-8985-4b8d9a59803d\",\"type\":\"GlyphRenderer\"},{\"attributes\":{},\"id\":\"eed23f4d-4506-4234-ad73-e49019c70f31\",\"type\":\"BasicTickFormatter\"},{\"attributes\":{\"callback\":null,\"column_names\":[\"y\",\"x\",\"vals\"],\"data\":{\"vals\":[\"4_815\",\"5_684\",\"32_1361\",\"64_1575\",\"10_2206\",\"7_1868\"],\"x\":[135839805,135959272,136393658,136494186,136501840,136682274],\"y\":[95.0,93.0,99.0,100.0,203.0,202.0]}},\"id\":\"cb83447c-758a-4d26-9518-14323167edd2\",\"type\":\"ColumnDataSource\"},{\"attributes\":{\"active_drag\":\"auto\",\"active_scroll\":\"auto\",\"active_tap\":\"auto\",\"tools\":[{\"id\":\"13066956-8c1e-4ce1-924e-3b5d780a445e\",\"type\":\"PanTool\"},{\"id\":\"50ec7cf6-c495-4a5b-a031-36dce900383f\",\"type\":\"WheelZoomTool\"},{\"id\":\"ea4b4f4f-4abb-418b-8817-929b8f459621\",\"type\":\"BoxZoomTool\"},{\"id\":\"88d81fc7-e2c0-477d-958f-6ad7e0d0ac6f\",\"type\":\"SaveTool\"},{\"id\":\"7d73b529-a25c-434f-a90e-357820ce07de\",\"type\":\"ResetTool\"},{\"id\":\"b33b7531-d505-4ee3-b476-f1d1a9b13986\",\"type\":\"HelpTool\"}]},\"id\":\"ec3c815e-152f-4364-aed1-9a82772615d7\",\"type\":\"Toolbar\"},{\"attributes\":{\"dimension\":1,\"plot\":{\"id\":\"ba0a76ee-fc91-4e24-8a5b-fea2b8f6aa1c\",\"subtype\":\"Figure\",\"type\":\"Plot\"},\"ticker\":{\"id\":\"258d4c37-8e47-4970-b260-737fccef89d7\",\"type\":\"BasicTicker\"}},\"id\":\"b1a8bd5a-6a07-42bc-a7ca-f86194ddcd66\",\"type\":\"Grid\"},{\"attributes\":{},\"id\":\"99c721ed-6c59-4e70-bf94-7b0c9fe8724c\",\"type\":\"BasicTickFormatter\"},{\"attributes\":{\"line_color\":{\"field\":\"line_color\"},\"xs\":{\"field\":\"xs\"},\"ys\":{\"field\":\"ys\"}},\"id\":\"7323e5ff-9158-4772-9be0-698105ab217e\",\"type\":\"MultiLine\"},{\"attributes\":{\"level\":\"glyph\",\"plot\":{\"id\":\"ba0a76ee-fc91-4e24-8a5b-fea2b8f6aa1c\",\"subtype\":\"Figure\",\"type\":\"Plot\"},\"source\":{\"id\":\"cb83447c-758a-4d26-9518-14323167edd2\",\"type\":\"ColumnDataSource\"},\"text\":{\"field\":\"vals\"},\"text_font_size\":{\"value\":\"9pt\"},\"text_font_style\":\"bold\",\"x\":{\"field\":\"x\"},\"y\":{\"field\":\"y\"}},\"id\":\"f185bbce-23c6-47d3-bbc8-040a57c5e9b0\",\"type\":\"LabelSet\"},{\"attributes\":{\"plot\":{\"id\":\"ba0a76ee-fc91-4e24-8a5b-fea2b8f6aa1c\",\"subtype\":\"Figure\",\"type\":\"Plot\"}},\"id\":\"88d81fc7-e2c0-477d-958f-6ad7e0d0ac6f\",\"type\":\"SaveTool\"},{\"attributes\":{\"plot\":null,\"text\":null},\"id\":\"23b091b9-232a-4ba9-845e-16834359e67e\",\"type\":\"Title\"},{\"attributes\":{\"bottom_units\":\"screen\",\"fill_alpha\":{\"value\":0.5},\"fill_color\":{\"value\":\"lightgrey\"},\"left_units\":\"screen\",\"level\":\"overlay\",\"line_alpha\":{\"value\":1.0},\"line_color\":{\"value\":\"black\"},\"line_dash\":[4,4],\"line_width\":{\"value\":2},\"plot\":null,\"render_mode\":\"css\",\"right_units\":\"screen\",\"top_units\":\"screen\"},\"id\":\"15cc01cb-c01c-418e-9c9e-803116369458\",\"type\":\"BoxAnnotation\"}],\"root_ids\":[\"ba0a76ee-fc91-4e24-8a5b-fea2b8f6aa1c\"]},\"title\":\"Bokeh Application\",\"version\":\"0.12.0\"}};\n",
       "            var render_items = [{\"docid\":\"c187a238-0f43-410d-8e61-6e5372a06a8f\",\"elementid\":\"65a99ddc-9ddd-41e6-8490-33e9281564ea\",\"modelid\":\"ba0a76ee-fc91-4e24-8a5b-fea2b8f6aa1c\",\"notebook_comms_target\":\"26be62b7-fe40-4e06-a629-6c7f9f1fa908\"}];\n",
       "            \n",
       "            Bokeh.embed.embed_items(docs_json, render_items);\n",
       "        });\n",
       "      },\n",
       "      function(Bokeh) {\n",
       "      }\n",
       "    ];\n",
       "  \n",
       "    function run_inline_js() {\n",
       "      for (var i = 0; i < inline_js.length; i++) {\n",
       "        inline_js[i](window.Bokeh);\n",
       "      }\n",
       "    }\n",
       "  \n",
       "    if (window._bokeh_is_loading === 0) {\n",
       "      console.log(\"Bokeh: BokehJS loaded, going straight to plotting\");\n",
       "      run_inline_js();\n",
       "    } else {\n",
       "      load_libs(js_urls, function() {\n",
       "        console.log(\"Bokeh: BokehJS plotting callback run at\", now());\n",
       "        run_inline_js();\n",
       "      });\n",
       "    }\n",
       "  }(this));\n",
       "</script>"
      ]
     },
     "metadata": {},
     "output_type": "display_data"
    },
    {
     "data": {
      "text/html": [
       "<p><code>&lt;Bokeh Notebook handle for <strong>In[18]</strong>&gt;</code></p>"
      ],
      "text/plain": [
       "<bokeh.io._CommsHandle at 0x7f3f0c299510>"
      ]
     },
     "execution_count": 18,
     "metadata": {},
     "output_type": "execute_result"
    }
   ],
   "source": [
    "plt_obj = dm.superset_allele_mask(am_29, [dm.di_4_815], min_match=0.5)\n",
    "plt = plt_obj.do_plot()\n",
    "am_4_815 = plt_obj.plot_context.yes_allele_mask\n",
    "show(plt)"
   ]
  },
  {
   "cell_type": "code",
   "execution_count": 19,
   "metadata": {
    "collapsed": false
   },
   "outputs": [
    {
     "data": {
      "text/html": [
       "<table>\n",
       "<thead><tr><th style=\"text-align:center\">index</th><th style=\"text-align:center\">first</th><th style=\"text-align:center\">length</th><th style=\"text-align:center\">snps</th><th style=\"text-align:center\" colspan=2>alleles</th><th style=\"text-align:center\" colspan=2>matches</th><th style=\"text-align:center\" colspan=2>afr</th><th style=\"text-align:center\" colspan=2>afx</th><th style=\"text-align:center\" colspan=2>amr</th><th style=\"text-align:center\" colspan=2>eas</th><th style=\"text-align:center\" colspan=2>eur</th><th style=\"text-align:center\" colspan=2>sas</th><th style=\"text-align:center\" colspan=2>sax</th></tr></thead>\n",
       "<tr class=\"even\"><td style=\"text-align: right;\">353921</td><td style=\"text-align: right;\">136,501,840</td><td style=\"text-align: right;\">53,819</td><td style=\"text-align: right;\">10</td><td style=\"text-align: right;\">2206</td><td style=\"text-align: right;\">0.03</td><td style=\"text-align: right;\">60</td><td style=\"text-align: right;\">0.65</td><td style=\"text-align: right;\">0</td><td style=\"text-align: right;\">0.00</td><td style=\"text-align: right;\">0</td><td style=\"text-align: right;\">0.00</td><td style=\"text-align: right;\">0</td><td style=\"text-align: right;\">0.00</td><td style=\"text-align: right;\">59</td><td style=\"text-align: right;\">4.89</td><td style=\"text-align: right;\">0</td><td style=\"text-align: right;\">0.00</td><td style=\"text-align: right;\">1</td><td style=\"text-align: right;\">0.23</td><td style=\"text-align: right;\">0</td><td style=\"text-align: right;\">0.00</td></tr>\n",
       "<tr><td style=\"text-align: right;\">354170</td><td style=\"text-align: right;\">136,682,274</td><td style=\"text-align: right;\">93,624</td><td style=\"text-align: right;\">7</td><td style=\"text-align: right;\">1868</td><td style=\"text-align: right;\">0.03</td><td style=\"text-align: right;\">62</td><td style=\"text-align: right;\">0.67</td><td style=\"text-align: right;\">1</td><td style=\"text-align: right;\">0.08</td><td style=\"text-align: right;\">0</td><td style=\"text-align: right;\">0.00</td><td style=\"text-align: right;\">0</td><td style=\"text-align: right;\">0.00</td><td style=\"text-align: right;\">59</td><td style=\"text-align: right;\">4.73</td><td style=\"text-align: right;\">1</td><td style=\"text-align: right;\">0.08</td><td style=\"text-align: right;\">1</td><td style=\"text-align: right;\">0.22</td><td style=\"text-align: right;\">0</td><td style=\"text-align: right;\">0.00</td></tr>\n",
       "<tr class=\"even\"><td style=\"text-align: right;\">353901</td><td style=\"text-align: right;\">136,494,186</td><td style=\"text-align: right;\">271,765</td><td style=\"text-align: right;\">64</td><td style=\"text-align: right;\">1575</td><td style=\"text-align: right;\">0.04</td><td style=\"text-align: right;\">60</td><td style=\"text-align: right;\">0.65</td><td style=\"text-align: right;\">0</td><td style=\"text-align: right;\">0.00</td><td style=\"text-align: right;\">0</td><td style=\"text-align: right;\">0.00</td><td style=\"text-align: right;\">0</td><td style=\"text-align: right;\">0.00</td><td style=\"text-align: right;\">59</td><td style=\"text-align: right;\">4.89</td><td style=\"text-align: right;\">0</td><td style=\"text-align: right;\">0.00</td><td style=\"text-align: right;\">1</td><td style=\"text-align: right;\">0.23</td><td style=\"text-align: right;\">0</td><td style=\"text-align: right;\">0.00</td></tr>\n",
       "<tr><td style=\"text-align: right;\">353791</td><td style=\"text-align: right;\">136,393,658</td><td style=\"text-align: right;\">92,684</td><td style=\"text-align: right;\">32</td><td style=\"text-align: right;\">1361</td><td style=\"text-align: right;\">0.06</td><td style=\"text-align: right;\">79</td><td style=\"text-align: right;\">0.85</td><td style=\"text-align: right;\">1</td><td style=\"text-align: right;\">0.06</td><td style=\"text-align: right;\">0</td><td style=\"text-align: right;\">0.00</td><td style=\"text-align: right;\">0</td><td style=\"text-align: right;\">0.00</td><td style=\"text-align: right;\">71</td><td style=\"text-align: right;\">4.47</td><td style=\"text-align: right;\">1</td><td style=\"text-align: right;\">0.06</td><td style=\"text-align: right;\">4</td><td style=\"text-align: right;\">0.70</td><td style=\"text-align: right;\">2</td><td style=\"text-align: right;\">0.21</td></tr>\n",
       "<tr class=\"even\"><td style=\"text-align: right;\">353384</td><td style=\"text-align: right;\">135,839,805</td><td style=\"text-align: right;\">84,662</td><td style=\"text-align: right;\">4</td><td style=\"text-align: right;\">815</td><td style=\"text-align: right;\">0.11</td><td style=\"text-align: right;\">93</td><td style=\"text-align: right;\">1.00</td><td style=\"text-align: right;\">2</td><td style=\"text-align: right;\">0.11</td><td style=\"text-align: right;\">0</td><td style=\"text-align: right;\">0.00</td><td style=\"text-align: right;\">0</td><td style=\"text-align: right;\">0.00</td><td style=\"text-align: right;\">84</td><td style=\"text-align: right;\">4.49</td><td style=\"text-align: right;\">1</td><td style=\"text-align: right;\">0.05</td><td style=\"text-align: right;\">4</td><td style=\"text-align: right;\">0.59</td><td style=\"text-align: right;\">2</td><td style=\"text-align: right;\">0.18</td></tr>\n",
       "<tr><td style=\"text-align: right;\">353498</td><td style=\"text-align: right;\">135,959,272</td><td style=\"text-align: right;\">416,583</td><td style=\"text-align: right;\">5</td><td style=\"text-align: right;\">684</td><td style=\"text-align: right;\">0.13</td><td style=\"text-align: right;\">87</td><td style=\"text-align: right;\">0.94</td><td style=\"text-align: right;\">0</td><td style=\"text-align: right;\">0.00</td><td style=\"text-align: right;\">0</td><td style=\"text-align: right;\">0.00</td><td style=\"text-align: right;\">0</td><td style=\"text-align: right;\">0.00</td><td style=\"text-align: right;\">82</td><td style=\"text-align: right;\">4.68</td><td style=\"text-align: right;\">0</td><td style=\"text-align: right;\">0.00</td><td style=\"text-align: right;\">4</td><td style=\"text-align: right;\">0.63</td><td style=\"text-align: right;\">1</td><td style=\"text-align: right;\">0.09</td></tr>\n",
       "</table>"
      ],
      "text/plain": [
       "<IPython.core.display.HTML object>"
      ]
     },
     "execution_count": 19,
     "metadata": {},
     "output_type": "execute_result"
    }
   ],
   "source": [
    "HTML(plt_obj.get_html())"
   ]
  },
  {
   "cell_type": "markdown",
   "metadata": {},
   "source": [
    "<div style=\"width:700px\">\n",
    "<p>\n",
    "The data from the plot show that 87 of the 93 chromsome samples that express 29 193_843\n",
    "SNPs and the series 4_815 also express the series 5_864.\n",
    "</div>"
   ]
  },
  {
   "cell_type": "code",
   "execution_count": 20,
   "metadata": {
    "collapsed": false
   },
   "outputs": [
    {
     "data": {
      "text/plain": [
       "array([93, 93, 93, 93, 93, 93, 93, 93, 93, 93, 93, 93, 93, 93, 93, 93, 93,\n",
       "       93, 93, 93, 93, 93, 93, 93, 93, 93, 93, 93, 93,  0,  0,  0,  0,  0,\n",
       "        0,  0,  0,  0,  0,  0,  0,  0,  0,  0,  0,  0,  0,  0,  0,  0,  0,\n",
       "        0,  0,  0,  0,  0,  0,  0,  0,  0,  0,  0,  0,  0,  0,  0,  0,  0,\n",
       "        0,  0,  0,  0,  0,  0,  0,  0,  0,  0,  0,  0,  0,  0,  0,  0,  0,\n",
       "        0,  0,  0,  0,  0,  0,  0,  0,  0,  0,  0,  0,  0,  0,  0,  0,  0,\n",
       "        0,  0,  0,  0,  0,  0,  0,  0,  0,  0,  0,  0,  0,  0,  0,  0,  0,\n",
       "        0,  0,  0,  0,  0,  0,  0,  0,  0,  0,  0,  0,  0,  0,  0,  0,  0,\n",
       "        0,  0,  0,  0,  0,  0,  0,  0,  0,  0,  0,  0,  0,  0,  0,  0,  0,\n",
       "        0,  0,  0,  0,  0,  0,  0,  0,  0,  0,  0,  0,  0,  0,  0,  0,  0,\n",
       "        0,  0,  0,  0,  0,  0,  0,  0,  0,  0,  0,  0,  0,  0,  0,  0,  0,\n",
       "        0,  0,  0,  0,  0,  0])"
      ]
     },
     "execution_count": 20,
     "metadata": {},
     "output_type": "execute_result"
    }
   ],
   "source": [
    "an.sa_193_843.alleles_per_snp(am_4_815)"
   ]
  },
  {
   "cell_type": "markdown",
   "metadata": {},
   "source": [
    "<div style=\"width:700px\">\n",
    "<p>\n",
    "This data confirms that the 93 chromosome samples that express 4_815 are the\n",
    "93 chromsome samples that express the first 29 SNPs of the series 193_843.\n",
    "</div>"
   ]
  },
  {
   "cell_type": "code",
   "execution_count": 21,
   "metadata": {
    "collapsed": false
   },
   "outputs": [
    {
     "data": {
      "text/html": [
       "\n",
       "\n",
       "    <div class=\"bk-root\">\n",
       "        <div class=\"plotdiv\" id=\"8aa0c99b-63a9-462c-9d0f-7b81c6b643d2\"></div>\n",
       "    </div>\n",
       "<script type=\"text/javascript\">\n",
       "  \n",
       "  (function(global) {\n",
       "    function now() {\n",
       "      return new Date();\n",
       "    }\n",
       "  \n",
       "    if (typeof (window._bokeh_onload_callbacks) === \"undefined\") {\n",
       "      window._bokeh_onload_callbacks = [];\n",
       "    }\n",
       "  \n",
       "    function run_callbacks() {\n",
       "      window._bokeh_onload_callbacks.forEach(function(callback) { callback() });\n",
       "      delete window._bokeh_onload_callbacks\n",
       "      console.info(\"Bokeh: all callbacks have finished\");\n",
       "    }\n",
       "  \n",
       "    function load_libs(js_urls, callback) {\n",
       "      window._bokeh_onload_callbacks.push(callback);\n",
       "      if (window._bokeh_is_loading > 0) {\n",
       "        console.log(\"Bokeh: BokehJS is being loaded, scheduling callback at\", now());\n",
       "        return null;\n",
       "      }\n",
       "      if (js_urls == null || js_urls.length === 0) {\n",
       "        run_callbacks();\n",
       "        return null;\n",
       "      }\n",
       "      console.log(\"Bokeh: BokehJS not loaded, scheduling load and callback at\", now());\n",
       "      window._bokeh_is_loading = js_urls.length;\n",
       "      for (var i = 0; i < js_urls.length; i++) {\n",
       "        var url = js_urls[i];\n",
       "        var s = document.createElement('script');\n",
       "        s.src = url;\n",
       "        s.async = false;\n",
       "        s.onreadystatechange = s.onload = function() {\n",
       "          window._bokeh_is_loading--;\n",
       "          if (window._bokeh_is_loading === 0) {\n",
       "            console.log(\"Bokeh: all BokehJS libraries loaded\");\n",
       "            run_callbacks()\n",
       "          }\n",
       "        };\n",
       "        s.onerror = function() {\n",
       "          console.warn(\"failed to load library \" + url);\n",
       "        };\n",
       "        console.log(\"Bokeh: injecting script tag for BokehJS library: \", url);\n",
       "        document.getElementsByTagName(\"head\")[0].appendChild(s);\n",
       "      }\n",
       "    };var element = document.getElementById(\"8aa0c99b-63a9-462c-9d0f-7b81c6b643d2\");\n",
       "    if (element == null) {\n",
       "      console.log(\"Bokeh: ERROR: autoload.js configured with elementid '8aa0c99b-63a9-462c-9d0f-7b81c6b643d2' but no matching script tag was found. \")\n",
       "      return false;\n",
       "    }\n",
       "  \n",
       "    var js_urls = [];\n",
       "  \n",
       "    var inline_js = [\n",
       "      function(Bokeh) {\n",
       "        Bokeh.$(function() {\n",
       "            var docs_json = {\"2627a8a6-2332-43b1-8437-3f7afa8dbc77\":{\"roots\":{\"references\":[{\"attributes\":{\"bottom_units\":\"screen\",\"fill_alpha\":{\"value\":0.5},\"fill_color\":{\"value\":\"lightgrey\"},\"left_units\":\"screen\",\"level\":\"overlay\",\"line_alpha\":{\"value\":1.0},\"line_color\":{\"value\":\"black\"},\"line_dash\":[4,4],\"line_width\":{\"value\":2},\"plot\":null,\"render_mode\":\"css\",\"right_units\":\"screen\",\"top_units\":\"screen\"},\"id\":\"8c61f6c6-29a4-411c-b6f9-16f390819c11\",\"type\":\"BoxAnnotation\"},{\"attributes\":{\"plot\":{\"id\":\"4751651f-3be7-42ab-aed8-e5f6b66411fc\",\"subtype\":\"Figure\",\"type\":\"Plot\"}},\"id\":\"a00512f9-27e3-449b-af3b-a0d56930481a\",\"type\":\"WheelZoomTool\"},{\"attributes\":{\"formatter\":{\"id\":\"05d63038-a62e-4403-8581-d82abea9063d\",\"type\":\"BasicTickFormatter\"},\"plot\":{\"id\":\"4751651f-3be7-42ab-aed8-e5f6b66411fc\",\"subtype\":\"Figure\",\"type\":\"Plot\"},\"ticker\":{\"id\":\"0d89f67b-4b02-4b4f-a82b-493f01a39b34\",\"type\":\"BasicTicker\"},\"visible\":null},\"id\":\"97021e9c-c3ff-4611-a497-1ec656c3ef30\",\"type\":\"LinearAxis\"},{\"attributes\":{\"line_color\":{\"field\":\"line_color\"},\"xs\":{\"field\":\"xs\"},\"ys\":{\"field\":\"ys\"}},\"id\":\"2519efc9-6aef-4624-9dd9-3ed2800fa993\",\"type\":\"MultiLine\"},{\"attributes\":{\"level\":\"glyph\",\"plot\":{\"id\":\"4751651f-3be7-42ab-aed8-e5f6b66411fc\",\"subtype\":\"Figure\",\"type\":\"Plot\"},\"source\":{\"id\":\"98f8f365-1b66-46f4-a10c-a971418ae7bd\",\"type\":\"ColumnDataSource\"},\"text\":{\"field\":\"vals\"},\"text_font_size\":{\"value\":\"9pt\"},\"text_font_style\":\"bold\",\"x\":{\"field\":\"x\"},\"y\":{\"field\":\"y\"}},\"id\":\"fdabd034-7422-4308-a589-9d3e08aab4fa\",\"type\":\"LabelSet\"},{\"attributes\":{\"callback\":null,\"end\":136786630,\"start\":135757320},\"id\":\"bfc1e8a8-b351-4bf4-b56e-adf8e673abba\",\"type\":\"Range1d\"},{\"attributes\":{},\"id\":\"05d63038-a62e-4403-8581-d82abea9063d\",\"type\":\"BasicTickFormatter\"},{\"attributes\":{\"overlay\":{\"id\":\"8c61f6c6-29a4-411c-b6f9-16f390819c11\",\"type\":\"BoxAnnotation\"},\"plot\":{\"id\":\"4751651f-3be7-42ab-aed8-e5f6b66411fc\",\"subtype\":\"Figure\",\"type\":\"Plot\"}},\"id\":\"6d4ab98a-1e4e-4477-8647-ff0304cfe1a6\",\"type\":\"BoxZoomTool\"},{\"attributes\":{},\"id\":\"6015a3b3-81a3-4d66-8d63-59f7d0e4294e\",\"type\":\"BasicTickFormatter\"},{\"attributes\":{\"plot\":{\"id\":\"4751651f-3be7-42ab-aed8-e5f6b66411fc\",\"subtype\":\"Figure\",\"type\":\"Plot\"}},\"id\":\"dcc8732d-02eb-4afc-8461-4ab155619545\",\"type\":\"SaveTool\"},{\"attributes\":{},\"id\":\"0d89f67b-4b02-4b4f-a82b-493f01a39b34\",\"type\":\"BasicTicker\"},{\"attributes\":{\"bottom\":{\"field\":\"bottom\"},\"fill_color\":{\"field\":\"fill_color\"},\"left\":{\"field\":\"left\"},\"line_color\":{\"value\":null},\"right\":{\"field\":\"right\"},\"top\":{\"field\":\"top\"}},\"id\":\"524ef578-c520-4227-a65f-d35d9f23dd8b\",\"type\":\"Quad\"},{\"attributes\":{\"callback\":null,\"column_names\":[\"xs\",\"ys\",\"line_color\"],\"data\":{\"line_color\":[\"black\",\"black\",\"black\",\"black\",\"black\",\"black\",\"black\",\"black\",\"black\",\"black\",\"black\",\"black\",\"black\",\"black\",\"black\",\"black\",\"black\",\"black\",\"black\",\"black\",\"black\",\"black\",\"black\",\"black\",\"black\",\"black\",\"black\",\"black\",\"black\",\"black\",\"black\",\"black\",\"black\",\"black\",\"black\",\"black\",\"black\",\"black\",\"black\",\"black\",\"black\",\"black\",\"black\",\"black\",\"black\",\"black\",\"black\",\"black\",\"black\",\"black\",\"black\",\"black\",\"black\",\"black\",\"black\",\"black\",\"black\",\"black\",\"black\",\"black\",\"black\",\"black\",\"black\",\"black\",\"black\",\"black\",\"black\",\"black\",\"black\",\"black\",\"black\",\"black\",\"black\",\"black\",\"black\",\"black\",\"black\",\"black\",\"black\",\"black\",\"black\",\"black\",\"black\",\"black\",\"black\",\"black\",\"black\",\"black\",\"black\",\"black\",\"black\",\"black\",\"black\",\"black\",\"black\",\"black\",\"black\",\"black\",\"black\",\"black\",\"black\",\"black\",\"black\",\"black\",\"black\",\"black\",\"black\",\"black\",\"black\",\"black\",\"black\",\"black\",\"black\",\"black\",\"black\",\"black\",\"black\",\"black\",\"black\",\"black\",\"black\",\"black\"],\"xs\":[[135839805,135839805],[135866750,135866750],[135886744,135886744],[135924467,135924467],[135959272,135959272],[136149550,136149550],[136164840,136164840],[136313885,136313885],[136375855,136375855],[136393658,136393658],[136396300,136396300],[136401843,136401843],[136407445,136407445],[136411879,136411879],[136412270,136412270],[136413244,136413244],[136413847,136413847],[136415217,136415217],[136416533,136416533],[136420726,136420726],[136429857,136429857],[136433740,136433740],[136436317,136436317],[136437615,136437615],[136438517,136438517],[136440300,136440300],[136443900,136443900],[136444185,136444185],[136444338,136444338],[136449254,136449254],[136451676,136451676],[136459227,136459227],[136463117,136463117],[136463454,136463454],[136467119,136467119],[136468238,136468238],[136470219,136470219],[136483355,136483355],[136485276,136485276],[136486340,136486340],[136486342,136486342],[136494186,136494186],[136495300,136495300],[136495619,136495619],[136499166,136499166],[136502792,136502792],[136503157,136503157],[136507039,136507039],[136511575,136511575],[136518103,136518103],[136521514,136521514],[136522675,136522675],[136522941,136522941],[136526981,136526981],[136535410,136535410],[136539122,136539122],[136544197,136544197],[136550109,136550109],[136551694,136551694],[136553188,136553188],[136553639,136553639],[136554800,136554800],[136557319,136557319],[136558157,136558157],[136569848,136569848],[136575199,136575199],[136576577,136576577],[136578536,136578536],[136580287,136580287],[136583192,136583192],[136586958,136586958],[136588478,136588478],[136589612,136589612],[136591178,136591178],[136591859,136591859],[136593760,136593760],[136594158,136594158],[136603276,136603276],[136603366,136603366],[136608231,136608231],[136609975,136609975],[136610598,136610598],[136611624,136611624],[136613780,136613780],[136614255,136614255],[136614813,136614813],[136617524,136617524],[136622216,136622216],[136625602,136625602],[136629911,136629911],[136630757,136630757],[136630989,136630989],[136631031,136631031],[136633771,136633771],[136636324,136636324],[136638216,136638216],[136640233,136640233],[136641882,136641882],[136643555,136643555],[136658345,136658345],[136670298,136670298],[136685228,136685228],[136696138,136696138],[136740900,136740900],[136765951,136765951],[136501840,136501840],[136505546,136505546],[136516748,136516748],[136522710,136522710],[136528004,136528004],[136539513,136539513],[136544752,136544752],[136546110,136546110],[136553529,136553529],[136555659,136555659],[136682274,136682274],[136691825,136691825],[136698098,136698098],[136721603,136721603],[136721995,136721995],[136755684,136755684],[136775898,136775898]],\"ys\":[[50,90],[50,90],[50,90],[50,90],[50,88],[50,88],[50,88],[50,88],[50,88],[50,94],[50,94],[50,94],[50,94],[50,94],[50,94],[50,94],[50,94],[50,94],[50,94],[50,94],[50,94],[50,94],[50,94],[50,94],[50,94],[50,94],[50,94],[50,94],[50,94],[50,94],[50,94],[50,94],[50,94],[50,94],[50,94],[50,94],[50,94],[50,94],[50,94],[50,94],[50,94],[50,95],[50,95],[50,95],[50,95],[50,95],[50,95],[50,95],[50,95],[50,95],[50,95],[50,95],[50,95],[50,95],[50,95],[50,95],[50,95],[50,95],[50,95],[50,95],[50,95],[50,95],[50,95],[50,95],[50,95],[50,95],[50,95],[50,95],[50,95],[50,95],[50,95],[50,95],[50,95],[50,95],[50,95],[50,95],[50,95],[50,95],[50,95],[50,95],[50,95],[50,95],[50,95],[50,95],[50,95],[50,95],[50,95],[50,95],[50,95],[50,95],[50,95],[50,95],[50,95],[50,95],[50,95],[50,95],[50,95],[50,95],[50,95],[50,95],[50,95],[50,95],[50,95],[50,95],[50,95],[150,198],[150,198],[150,198],[150,198],[150,198],[150,198],[150,198],[150,198],[150,198],[150,198],[150,197],[150,197],[150,197],[150,197],[150,197],[150,197],[150,197]]}},\"id\":\"08b8c44e-6f11-4bad-92ba-6fd15618ce1f\",\"type\":\"ColumnDataSource\"},{\"attributes\":{\"data_source\":{\"id\":\"b0ab3dac-3afd-4b30-b6fe-8d802072887a\",\"type\":\"ColumnDataSource\"},\"glyph\":{\"id\":\"10dca17b-15dc-4eb6-b1dd-cfcead60325b\",\"type\":\"Quad\"},\"hover_glyph\":null,\"nonselection_glyph\":{\"id\":\"92391d79-36e1-42a7-8170-ada8c71a9ac1\",\"type\":\"Quad\"},\"selection_glyph\":null},\"id\":\"c65cc5fb-acd0-4141-87db-1b984d831507\",\"type\":\"GlyphRenderer\"},{\"attributes\":{\"formatter\":{\"id\":\"6015a3b3-81a3-4d66-8d63-59f7d0e4294e\",\"type\":\"BasicTickFormatter\"},\"plot\":{\"id\":\"4751651f-3be7-42ab-aed8-e5f6b66411fc\",\"subtype\":\"Figure\",\"type\":\"Plot\"},\"ticker\":{\"id\":\"7f95db17-42d6-46a5-b6dd-ca16b166f552\",\"type\":\"BasicTicker\"}},\"id\":\"f409e4fa-2e90-4cfe-9e56-f4724da357cf\",\"type\":\"LinearAxis\"},{\"attributes\":{\"data_source\":{\"id\":\"5f99b885-d428-4a02-b597-fd1e11ca6fe8\",\"type\":\"ColumnDataSource\"},\"glyph\":{\"id\":\"524ef578-c520-4227-a65f-d35d9f23dd8b\",\"type\":\"Quad\"},\"hover_glyph\":null,\"nonselection_glyph\":{\"id\":\"6117826c-a681-45e5-9042-e868c7d08c11\",\"type\":\"Quad\"},\"selection_glyph\":null},\"id\":\"4c3443b9-ec4b-4eb8-b896-b4ea4fe8902d\",\"type\":\"GlyphRenderer\"},{\"attributes\":{\"plot\":{\"id\":\"4751651f-3be7-42ab-aed8-e5f6b66411fc\",\"subtype\":\"Figure\",\"type\":\"Plot\"}},\"id\":\"10ee6755-2d6b-435c-a504-b36137c2b9f5\",\"type\":\"PanTool\"},{\"attributes\":{\"plot\":null,\"text\":null},\"id\":\"b2b453aa-8ffc-4a6c-84f5-11137eb7764c\",\"type\":\"Title\"},{\"attributes\":{\"callback\":null,\"column_names\":[\"right\",\"bottom\",\"top\",\"left\"],\"data\":{\"bottom\":[245,245,245,245,245,245,245],\"left\":[135809835,135957574,136289083,136499189,136545415,136597196,136664254],\"right\":[135928279,136288182,136482839,136542633,136594750,136634047,136743222],\"top\":[275,275,275,275,275,275,275]}},\"id\":\"b0ab3dac-3afd-4b30-b6fe-8d802072887a\",\"type\":\"ColumnDataSource\"},{\"attributes\":{\"plot\":{\"id\":\"4751651f-3be7-42ab-aed8-e5f6b66411fc\",\"subtype\":\"Figure\",\"type\":\"Plot\"},\"ticker\":{\"id\":\"7f95db17-42d6-46a5-b6dd-ca16b166f552\",\"type\":\"BasicTicker\"}},\"id\":\"cdb557ca-2cf3-41ad-9190-5b2a04211d14\",\"type\":\"Grid\"},{\"attributes\":{\"callback\":null,\"column_names\":[\"y\",\"x\",\"vals\"],\"data\":{\"vals\":[\"RAB3GAP1\",\"ZRANB3\",\"R3HDM1\",\"UBXN4\",\"LCT\",\"MCM6\",\"DARS\"],\"x\":[135869057.0,136122878.0,136385961.0,136520911.0,136570082.5,136615621.5,136703738.0],\"y\":[260.0,260.0,260.0,260.0,260.0,260.0,260.0]}},\"id\":\"47911abd-3af7-4f1e-8bcf-b9a1ad96302c\",\"type\":\"ColumnDataSource\"},{\"attributes\":{\"callback\":null,\"end\":300},\"id\":\"211abf0b-9acf-4899-933c-29f0b5ef802f\",\"type\":\"Range1d\"},{\"attributes\":{\"level\":\"glyph\",\"plot\":{\"id\":\"4751651f-3be7-42ab-aed8-e5f6b66411fc\",\"subtype\":\"Figure\",\"type\":\"Plot\"},\"source\":{\"id\":\"47911abd-3af7-4f1e-8bcf-b9a1ad96302c\",\"type\":\"ColumnDataSource\"},\"text\":{\"field\":\"vals\"},\"text_align\":\"center\",\"text_baseline\":\"middle\",\"text_font_size\":{\"value\":\"8pt\"},\"x\":{\"field\":\"x\"},\"y\":{\"field\":\"y\"}},\"id\":\"db3b528c-e38e-42ea-9fd6-4e1d5d85e1e3\",\"type\":\"LabelSet\"},{\"attributes\":{\"below\":[{\"id\":\"f409e4fa-2e90-4cfe-9e56-f4724da357cf\",\"type\":\"LinearAxis\"}],\"left\":[{\"id\":\"97021e9c-c3ff-4611-a497-1ec656c3ef30\",\"type\":\"LinearAxis\"}],\"plot_height\":300,\"plot_width\":900,\"renderers\":[{\"id\":\"f409e4fa-2e90-4cfe-9e56-f4724da357cf\",\"type\":\"LinearAxis\"},{\"id\":\"cdb557ca-2cf3-41ad-9190-5b2a04211d14\",\"type\":\"Grid\"},{\"id\":\"97021e9c-c3ff-4611-a497-1ec656c3ef30\",\"type\":\"LinearAxis\"},{\"id\":\"3331db59-ece7-48c2-a16b-58228207136e\",\"type\":\"Grid\"},{\"id\":\"8c61f6c6-29a4-411c-b6f9-16f390819c11\",\"type\":\"BoxAnnotation\"},{\"id\":\"4c3443b9-ec4b-4eb8-b896-b4ea4fe8902d\",\"type\":\"GlyphRenderer\"},{\"id\":\"97b42dad-0a25-451b-b67a-c5396df2bbed\",\"type\":\"GlyphRenderer\"},{\"id\":\"fdabd034-7422-4308-a589-9d3e08aab4fa\",\"type\":\"LabelSet\"},{\"id\":\"c65cc5fb-acd0-4141-87db-1b984d831507\",\"type\":\"GlyphRenderer\"},{\"id\":\"db3b528c-e38e-42ea-9fd6-4e1d5d85e1e3\",\"type\":\"LabelSet\"}],\"title\":{\"id\":\"b2b453aa-8ffc-4a6c-84f5-11137eb7764c\",\"type\":\"Title\"},\"tool_events\":{\"id\":\"1e067412-8535-4e77-adbd-2330a8bdf4c3\",\"type\":\"ToolEvents\"},\"toolbar\":{\"id\":\"a88ac235-b423-476b-b682-b462d7420667\",\"type\":\"Toolbar\"},\"toolbar_location\":null,\"x_range\":{\"id\":\"bfc1e8a8-b351-4bf4-b56e-adf8e673abba\",\"type\":\"Range1d\"},\"y_range\":{\"id\":\"211abf0b-9acf-4899-933c-29f0b5ef802f\",\"type\":\"Range1d\"}},\"id\":\"4751651f-3be7-42ab-aed8-e5f6b66411fc\",\"subtype\":\"Figure\",\"type\":\"Plot\"},{\"attributes\":{\"bottom\":{\"field\":\"bottom\"},\"fill_alpha\":{\"value\":0.1},\"fill_color\":{\"value\":\"#1f77b4\"},\"left\":{\"field\":\"left\"},\"line_alpha\":{\"value\":0.1},\"line_color\":{\"value\":\"#1f77b4\"},\"right\":{\"field\":\"right\"},\"top\":{\"field\":\"top\"}},\"id\":\"6117826c-a681-45e5-9042-e868c7d08c11\",\"type\":\"Quad\"},{\"attributes\":{},\"id\":\"7f95db17-42d6-46a5-b6dd-ca16b166f552\",\"type\":\"BasicTicker\"},{\"attributes\":{\"line_alpha\":{\"value\":0.1},\"line_color\":{\"value\":\"#1f77b4\"},\"xs\":{\"field\":\"xs\"},\"ys\":{\"field\":\"ys\"}},\"id\":\"f655dab8-a039-49f9-9865-ab6ce56f55fe\",\"type\":\"MultiLine\"},{\"attributes\":{\"callback\":null,\"column_names\":[\"y\",\"x\",\"vals\"],\"data\":{\"vals\":[\"4_815\",\"5_684\",\"32_1361\",\"64_1575\",\"10_2206\",\"7_1868\"],\"x\":[135839805,135959272,136393658,136494186,136501840,136682274],\"y\":[95.0,93.0,99.0,100.0,203.0,202.0]}},\"id\":\"98f8f365-1b66-46f4-a10c-a971418ae7bd\",\"type\":\"ColumnDataSource\"},{\"attributes\":{\"active_drag\":\"auto\",\"active_scroll\":\"auto\",\"active_tap\":\"auto\",\"tools\":[{\"id\":\"10ee6755-2d6b-435c-a504-b36137c2b9f5\",\"type\":\"PanTool\"},{\"id\":\"a00512f9-27e3-449b-af3b-a0d56930481a\",\"type\":\"WheelZoomTool\"},{\"id\":\"6d4ab98a-1e4e-4477-8647-ff0304cfe1a6\",\"type\":\"BoxZoomTool\"},{\"id\":\"dcc8732d-02eb-4afc-8461-4ab155619545\",\"type\":\"SaveTool\"},{\"id\":\"4c70dbaa-e77d-40f4-aba4-b35d4be8bae6\",\"type\":\"ResetTool\"},{\"id\":\"e5436b90-bb95-49e4-9632-91ee30d98267\",\"type\":\"HelpTool\"}]},\"id\":\"a88ac235-b423-476b-b682-b462d7420667\",\"type\":\"Toolbar\"},{\"attributes\":{\"plot\":{\"id\":\"4751651f-3be7-42ab-aed8-e5f6b66411fc\",\"subtype\":\"Figure\",\"type\":\"Plot\"}},\"id\":\"e5436b90-bb95-49e4-9632-91ee30d98267\",\"type\":\"HelpTool\"},{\"attributes\":{\"data_source\":{\"id\":\"08b8c44e-6f11-4bad-92ba-6fd15618ce1f\",\"type\":\"ColumnDataSource\"},\"glyph\":{\"id\":\"2519efc9-6aef-4624-9dd9-3ed2800fa993\",\"type\":\"MultiLine\"},\"hover_glyph\":null,\"nonselection_glyph\":{\"id\":\"f655dab8-a039-49f9-9865-ab6ce56f55fe\",\"type\":\"MultiLine\"},\"selection_glyph\":null},\"id\":\"97b42dad-0a25-451b-b67a-c5396df2bbed\",\"type\":\"GlyphRenderer\"},{\"attributes\":{\"bottom\":{\"field\":\"bottom\"},\"fill_color\":{\"value\":\"white\"},\"left\":{\"field\":\"left\"},\"right\":{\"field\":\"right\"},\"top\":{\"field\":\"top\"}},\"id\":\"10dca17b-15dc-4eb6-b1dd-cfcead60325b\",\"type\":\"Quad\"},{\"attributes\":{\"bottom\":{\"field\":\"bottom\"},\"fill_alpha\":{\"value\":0.1},\"fill_color\":{\"value\":\"#1f77b4\"},\"left\":{\"field\":\"left\"},\"line_alpha\":{\"value\":0.1},\"line_color\":{\"value\":\"#1f77b4\"},\"right\":{\"field\":\"right\"},\"top\":{\"field\":\"top\"}},\"id\":\"92391d79-36e1-42a7-8170-ada8c71a9ac1\",\"type\":\"Quad\"},{\"attributes\":{\"plot\":{\"id\":\"4751651f-3be7-42ab-aed8-e5f6b66411fc\",\"subtype\":\"Figure\",\"type\":\"Plot\"}},\"id\":\"4c70dbaa-e77d-40f4-aba4-b35d4be8bae6\",\"type\":\"ResetTool\"},{\"attributes\":{\"callback\":null,\"column_names\":[\"right\",\"bottom\",\"top\",\"left\",\"fill_color\"],\"data\":{\"bottom\":[50,50,50,50,150,150],\"fill_color\":[\"#61c4c4\",\"#ffff00\",\"#c4c461\",\"#61c461\",\"#808080\",\"#61c461\"],\"left\":[135839805,135959272,136393658,136494186,136501840,136682274],\"right\":[135924467,136375855,136486342,136765951,136555659,136775898],\"top\":[90,88,94,95,198,197]}},\"id\":\"5f99b885-d428-4a02-b597-fd1e11ca6fe8\",\"type\":\"ColumnDataSource\"},{\"attributes\":{\"dimension\":1,\"plot\":{\"id\":\"4751651f-3be7-42ab-aed8-e5f6b66411fc\",\"subtype\":\"Figure\",\"type\":\"Plot\"},\"ticker\":{\"id\":\"0d89f67b-4b02-4b4f-a82b-493f01a39b34\",\"type\":\"BasicTicker\"}},\"id\":\"3331db59-ece7-48c2-a16b-58228207136e\",\"type\":\"Grid\"},{\"attributes\":{},\"id\":\"1e067412-8535-4e77-adbd-2330a8bdf4c3\",\"type\":\"ToolEvents\"}],\"root_ids\":[\"4751651f-3be7-42ab-aed8-e5f6b66411fc\"]},\"title\":\"Bokeh Application\",\"version\":\"0.12.0\"}};\n",
       "            var render_items = [{\"docid\":\"2627a8a6-2332-43b1-8437-3f7afa8dbc77\",\"elementid\":\"8aa0c99b-63a9-462c-9d0f-7b81c6b643d2\",\"modelid\":\"4751651f-3be7-42ab-aed8-e5f6b66411fc\",\"notebook_comms_target\":\"cbd4c7a4-0ce9-4ee5-bb95-526337f47966\"}];\n",
       "            \n",
       "            Bokeh.embed.embed_items(docs_json, render_items);\n",
       "        });\n",
       "      },\n",
       "      function(Bokeh) {\n",
       "      }\n",
       "    ];\n",
       "  \n",
       "    function run_inline_js() {\n",
       "      for (var i = 0; i < inline_js.length; i++) {\n",
       "        inline_js[i](window.Bokeh);\n",
       "      }\n",
       "    }\n",
       "  \n",
       "    if (window._bokeh_is_loading === 0) {\n",
       "      console.log(\"Bokeh: BokehJS loaded, going straight to plotting\");\n",
       "      run_inline_js();\n",
       "    } else {\n",
       "      load_libs(js_urls, function() {\n",
       "        console.log(\"Bokeh: BokehJS plotting callback run at\", now());\n",
       "        run_inline_js();\n",
       "      });\n",
       "    }\n",
       "  }(this));\n",
       "</script>"
      ]
     },
     "metadata": {},
     "output_type": "display_data"
    },
    {
     "data": {
      "text/html": [
       "<p><code>&lt;Bokeh Notebook handle for <strong>In[21]</strong>&gt;</code></p>"
      ],
      "text/plain": [
       "<bokeh.io._CommsHandle at 0x7f3f0c328f50>"
      ]
     },
     "execution_count": 21,
     "metadata": {},
     "output_type": "execute_result"
    }
   ],
   "source": [
    "plt_obj = dm.superset_allele_mask(am_29, [dm.di_4_815, dm.di_5_684, dm.di_32_1361, dm.di_64_1575], min_match=0.001)\n",
    "plt = plt_obj.do_plot()\n",
    "show(plt)"
   ]
  },
  {
   "cell_type": "markdown",
   "metadata": {},
   "source": [
    "<div style=\"width:700px\">\n",
    "<p>\n",
    "This plot limits the chromosme samples to those that express all of the 6 series shown in the plot and\n",
    "no others.\n",
    "</div>"
   ]
  },
  {
   "cell_type": "code",
   "execution_count": 22,
   "metadata": {
    "collapsed": false
   },
   "outputs": [
    {
     "data": {
      "text/html": [
       "<table>\n",
       "<thead><tr><th style=\"text-align:center\">index</th><th style=\"text-align:center\">first</th><th style=\"text-align:center\">length</th><th style=\"text-align:center\">snps</th><th style=\"text-align:center\" colspan=2>alleles</th><th style=\"text-align:center\" colspan=2>matches</th><th style=\"text-align:center\" colspan=2>afr</th><th style=\"text-align:center\" colspan=2>afx</th><th style=\"text-align:center\" colspan=2>amr</th><th style=\"text-align:center\" colspan=2>eas</th><th style=\"text-align:center\" colspan=2>eur</th><th style=\"text-align:center\" colspan=2>sas</th><th style=\"text-align:center\" colspan=2>sax</th></tr></thead>\n",
       "<tr class=\"even\"><td style=\"text-align: right;\">353921</td><td style=\"text-align: right;\">136,501,840</td><td style=\"text-align: right;\">53,819</td><td style=\"text-align: right;\">10</td><td style=\"text-align: right;\">2206</td><td style=\"text-align: right;\">0.03</td><td style=\"text-align: right;\">58</td><td style=\"text-align: right;\">1.00</td><td style=\"text-align: right;\">0</td><td style=\"text-align: right;\">0.00</td><td style=\"text-align: right;\">0</td><td style=\"text-align: right;\">0.00</td><td style=\"text-align: right;\">0</td><td style=\"text-align: right;\">0.00</td><td style=\"text-align: right;\">57</td><td style=\"text-align: right;\">4.88</td><td style=\"text-align: right;\">0</td><td style=\"text-align: right;\">0.00</td><td style=\"text-align: right;\">1</td><td style=\"text-align: right;\">0.24</td><td style=\"text-align: right;\">0</td><td style=\"text-align: right;\">0.00</td></tr>\n",
       "<tr><td style=\"text-align: right;\">354170</td><td style=\"text-align: right;\">136,682,274</td><td style=\"text-align: right;\">93,624</td><td style=\"text-align: right;\">7</td><td style=\"text-align: right;\">1868</td><td style=\"text-align: right;\">0.03</td><td style=\"text-align: right;\">58</td><td style=\"text-align: right;\">1.00</td><td style=\"text-align: right;\">0</td><td style=\"text-align: right;\">0.00</td><td style=\"text-align: right;\">0</td><td style=\"text-align: right;\">0.00</td><td style=\"text-align: right;\">0</td><td style=\"text-align: right;\">0.00</td><td style=\"text-align: right;\">57</td><td style=\"text-align: right;\">4.88</td><td style=\"text-align: right;\">0</td><td style=\"text-align: right;\">0.00</td><td style=\"text-align: right;\">1</td><td style=\"text-align: right;\">0.24</td><td style=\"text-align: right;\">0</td><td style=\"text-align: right;\">0.00</td></tr>\n",
       "<tr class=\"even\"><td style=\"text-align: right;\">353901</td><td style=\"text-align: right;\">136,494,186</td><td style=\"text-align: right;\">271,765</td><td style=\"text-align: right;\">64</td><td style=\"text-align: right;\">1575</td><td style=\"text-align: right;\">0.04</td><td style=\"text-align: right;\">58</td><td style=\"text-align: right;\">1.00</td><td style=\"text-align: right;\">0</td><td style=\"text-align: right;\">0.00</td><td style=\"text-align: right;\">0</td><td style=\"text-align: right;\">0.00</td><td style=\"text-align: right;\">0</td><td style=\"text-align: right;\">0.00</td><td style=\"text-align: right;\">57</td><td style=\"text-align: right;\">4.88</td><td style=\"text-align: right;\">0</td><td style=\"text-align: right;\">0.00</td><td style=\"text-align: right;\">1</td><td style=\"text-align: right;\">0.24</td><td style=\"text-align: right;\">0</td><td style=\"text-align: right;\">0.00</td></tr>\n",
       "<tr><td style=\"text-align: right;\">353791</td><td style=\"text-align: right;\">136,393,658</td><td style=\"text-align: right;\">92,684</td><td style=\"text-align: right;\">32</td><td style=\"text-align: right;\">1361</td><td style=\"text-align: right;\">0.04</td><td style=\"text-align: right;\">58</td><td style=\"text-align: right;\">1.00</td><td style=\"text-align: right;\">0</td><td style=\"text-align: right;\">0.00</td><td style=\"text-align: right;\">0</td><td style=\"text-align: right;\">0.00</td><td style=\"text-align: right;\">0</td><td style=\"text-align: right;\">0.00</td><td style=\"text-align: right;\">57</td><td style=\"text-align: right;\">4.88</td><td style=\"text-align: right;\">0</td><td style=\"text-align: right;\">0.00</td><td style=\"text-align: right;\">1</td><td style=\"text-align: right;\">0.24</td><td style=\"text-align: right;\">0</td><td style=\"text-align: right;\">0.00</td></tr>\n",
       "<tr class=\"even\"><td style=\"text-align: right;\">353384</td><td style=\"text-align: right;\">135,839,805</td><td style=\"text-align: right;\">84,662</td><td style=\"text-align: right;\">4</td><td style=\"text-align: right;\">815</td><td style=\"text-align: right;\">0.07</td><td style=\"text-align: right;\">58</td><td style=\"text-align: right;\">1.00</td><td style=\"text-align: right;\">0</td><td style=\"text-align: right;\">0.00</td><td style=\"text-align: right;\">0</td><td style=\"text-align: right;\">0.00</td><td style=\"text-align: right;\">0</td><td style=\"text-align: right;\">0.00</td><td style=\"text-align: right;\">57</td><td style=\"text-align: right;\">4.88</td><td style=\"text-align: right;\">0</td><td style=\"text-align: right;\">0.00</td><td style=\"text-align: right;\">1</td><td style=\"text-align: right;\">0.24</td><td style=\"text-align: right;\">0</td><td style=\"text-align: right;\">0.00</td></tr>\n",
       "<tr><td style=\"text-align: right;\">353498</td><td style=\"text-align: right;\">135,959,272</td><td style=\"text-align: right;\">416,583</td><td style=\"text-align: right;\">5</td><td style=\"text-align: right;\">684</td><td style=\"text-align: right;\">0.08</td><td style=\"text-align: right;\">58</td><td style=\"text-align: right;\">1.00</td><td style=\"text-align: right;\">0</td><td style=\"text-align: right;\">0.00</td><td style=\"text-align: right;\">0</td><td style=\"text-align: right;\">0.00</td><td style=\"text-align: right;\">0</td><td style=\"text-align: right;\">0.00</td><td style=\"text-align: right;\">57</td><td style=\"text-align: right;\">4.88</td><td style=\"text-align: right;\">0</td><td style=\"text-align: right;\">0.00</td><td style=\"text-align: right;\">1</td><td style=\"text-align: right;\">0.24</td><td style=\"text-align: right;\">0</td><td style=\"text-align: right;\">0.00</td></tr>\n",
       "</table>"
      ],
      "text/plain": [
       "<IPython.core.display.HTML object>"
      ]
     },
     "execution_count": 22,
     "metadata": {},
     "output_type": "execute_result"
    }
   ],
   "source": [
    "HTML(plt_obj.get_html())"
   ]
  },
  {
   "cell_type": "markdown",
   "metadata": {},
   "source": [
    "<div style=\"width:700px\">\n",
    "<p>\n",
    "The data shows that 58 chromosomes satisfy the plot's criteria.  All but 1 of them are East Asian.\n",
    "<p>\n",
    "The next 6 plots show the series expressed by the 6 chromosome samples that express the first 29\n",
    "193_843 SNPs, series 4_815, but not series 5_684.  Every one of those chromosome samples expresses\n",
    "a different association of series.\n",
    "</div>"
   ]
  },
  {
   "cell_type": "code",
   "execution_count": 23,
   "metadata": {
    "collapsed": false
   },
   "outputs": [
    {
     "data": {
      "text/html": [
       "\n",
       "\n",
       "    <div class=\"bk-root\">\n",
       "        <div class=\"plotdiv\" id=\"a4d9efc1-79e9-4b5c-b172-be80c2d9a056\"></div>\n",
       "    </div>\n",
       "<script type=\"text/javascript\">\n",
       "  \n",
       "  (function(global) {\n",
       "    function now() {\n",
       "      return new Date();\n",
       "    }\n",
       "  \n",
       "    if (typeof (window._bokeh_onload_callbacks) === \"undefined\") {\n",
       "      window._bokeh_onload_callbacks = [];\n",
       "    }\n",
       "  \n",
       "    function run_callbacks() {\n",
       "      window._bokeh_onload_callbacks.forEach(function(callback) { callback() });\n",
       "      delete window._bokeh_onload_callbacks\n",
       "      console.info(\"Bokeh: all callbacks have finished\");\n",
       "    }\n",
       "  \n",
       "    function load_libs(js_urls, callback) {\n",
       "      window._bokeh_onload_callbacks.push(callback);\n",
       "      if (window._bokeh_is_loading > 0) {\n",
       "        console.log(\"Bokeh: BokehJS is being loaded, scheduling callback at\", now());\n",
       "        return null;\n",
       "      }\n",
       "      if (js_urls == null || js_urls.length === 0) {\n",
       "        run_callbacks();\n",
       "        return null;\n",
       "      }\n",
       "      console.log(\"Bokeh: BokehJS not loaded, scheduling load and callback at\", now());\n",
       "      window._bokeh_is_loading = js_urls.length;\n",
       "      for (var i = 0; i < js_urls.length; i++) {\n",
       "        var url = js_urls[i];\n",
       "        var s = document.createElement('script');\n",
       "        s.src = url;\n",
       "        s.async = false;\n",
       "        s.onreadystatechange = s.onload = function() {\n",
       "          window._bokeh_is_loading--;\n",
       "          if (window._bokeh_is_loading === 0) {\n",
       "            console.log(\"Bokeh: all BokehJS libraries loaded\");\n",
       "            run_callbacks()\n",
       "          }\n",
       "        };\n",
       "        s.onerror = function() {\n",
       "          console.warn(\"failed to load library \" + url);\n",
       "        };\n",
       "        console.log(\"Bokeh: injecting script tag for BokehJS library: \", url);\n",
       "        document.getElementsByTagName(\"head\")[0].appendChild(s);\n",
       "      }\n",
       "    };var element = document.getElementById(\"a4d9efc1-79e9-4b5c-b172-be80c2d9a056\");\n",
       "    if (element == null) {\n",
       "      console.log(\"Bokeh: ERROR: autoload.js configured with elementid 'a4d9efc1-79e9-4b5c-b172-be80c2d9a056' but no matching script tag was found. \")\n",
       "      return false;\n",
       "    }\n",
       "  \n",
       "    var js_urls = [];\n",
       "  \n",
       "    var inline_js = [\n",
       "      function(Bokeh) {\n",
       "        Bokeh.$(function() {\n",
       "            var docs_json = {\"36b31e4c-9c74-48e7-ac07-294b7608102a\":{\"roots\":{\"references\":[{\"attributes\":{\"data_source\":{\"id\":\"cc97afc4-50b1-4364-aef4-dd8c2a71c567\",\"type\":\"ColumnDataSource\"},\"glyph\":{\"id\":\"c2938aa6-4c14-470b-ae2f-9b4457fbbdb5\",\"type\":\"Quad\"},\"hover_glyph\":null,\"nonselection_glyph\":{\"id\":\"11052c82-7886-435d-9f0e-11e4d117499b\",\"type\":\"Quad\"},\"selection_glyph\":null},\"id\":\"0d93f4e6-3a42-4ac2-a47b-f7bb132b9246\",\"type\":\"GlyphRenderer\"},{\"attributes\":{\"dimension\":1,\"plot\":{\"id\":\"0d01a165-26c7-49ae-b91d-83f156e570eb\",\"subtype\":\"Figure\",\"type\":\"Plot\"},\"ticker\":{\"id\":\"4056d6b6-fcb4-443a-82e7-193d7b2fbe25\",\"type\":\"BasicTicker\"}},\"id\":\"cc808c75-85d7-49bc-b1b4-82c5879940fc\",\"type\":\"Grid\"},{\"attributes\":{\"active_drag\":\"auto\",\"active_scroll\":\"auto\",\"active_tap\":\"auto\",\"tools\":[{\"id\":\"8ee40d98-709f-424f-b0dd-ffa7f2844c42\",\"type\":\"PanTool\"},{\"id\":\"8328dfcc-cf1a-4f33-94bd-79f882ab2d06\",\"type\":\"WheelZoomTool\"},{\"id\":\"d59ac8f2-3fef-40b8-9f37-f31a5fc30e57\",\"type\":\"BoxZoomTool\"},{\"id\":\"a9b2fd02-e152-4dde-95e4-71718ff82b08\",\"type\":\"SaveTool\"},{\"id\":\"98d28cdc-f3d6-4e6c-a9f7-4c11fccb1827\",\"type\":\"ResetTool\"},{\"id\":\"8c916b44-3785-4ab9-968f-277e24217cc3\",\"type\":\"HelpTool\"}]},\"id\":\"afb5499d-4fd7-4b6b-a2a4-c5b6fa6d2878\",\"type\":\"Toolbar\"},{\"attributes\":{\"bottom\":{\"field\":\"bottom\"},\"fill_alpha\":{\"value\":0.1},\"fill_color\":{\"value\":\"#1f77b4\"},\"left\":{\"field\":\"left\"},\"line_alpha\":{\"value\":0.1},\"line_color\":{\"value\":\"#1f77b4\"},\"right\":{\"field\":\"right\"},\"top\":{\"field\":\"top\"}},\"id\":\"887d8323-4098-46d6-bb2d-414e7877f93c\",\"type\":\"Quad\"},{\"attributes\":{},\"id\":\"41a5f5ae-cfcb-4d2f-bb96-efb567dd6286\",\"type\":\"BasicTickFormatter\"},{\"attributes\":{\"bottom\":{\"field\":\"bottom\"},\"fill_alpha\":{\"value\":0.1},\"fill_color\":{\"value\":\"#1f77b4\"},\"left\":{\"field\":\"left\"},\"line_alpha\":{\"value\":0.1},\"line_color\":{\"value\":\"#1f77b4\"},\"right\":{\"field\":\"right\"},\"top\":{\"field\":\"top\"}},\"id\":\"11052c82-7886-435d-9f0e-11e4d117499b\",\"type\":\"Quad\"},{\"attributes\":{\"bottom\":{\"field\":\"bottom\"},\"fill_color\":{\"value\":\"white\"},\"left\":{\"field\":\"left\"},\"right\":{\"field\":\"right\"},\"top\":{\"field\":\"top\"}},\"id\":\"c2938aa6-4c14-470b-ae2f-9b4457fbbdb5\",\"type\":\"Quad\"},{\"attributes\":{\"callback\":null,\"column_names\":[\"right\",\"bottom\",\"top\",\"left\"],\"data\":{\"bottom\":[545,545,545,545,545,545,545],\"left\":[135809835,135957574,136289083,136499189,136545415,136597196,136664254],\"right\":[135928279,136288182,136482839,136542633,136594750,136634047,136743222],\"top\":[575,575,575,575,575,575,575]}},\"id\":\"cc97afc4-50b1-4364-aef4-dd8c2a71c567\",\"type\":\"ColumnDataSource\"},{\"attributes\":{},\"id\":\"4056d6b6-fcb4-443a-82e7-193d7b2fbe25\",\"type\":\"BasicTicker\"},{\"attributes\":{\"data_source\":{\"id\":\"91581eb6-9803-4398-bfb2-a4d00c3b505b\",\"type\":\"ColumnDataSource\"},\"glyph\":{\"id\":\"fe190a7b-8ce6-4f8e-9c71-102fe7624c90\",\"type\":\"MultiLine\"},\"hover_glyph\":null,\"nonselection_glyph\":{\"id\":\"8d8b7f0e-5f01-4164-8b54-45cbd11dfa0e\",\"type\":\"MultiLine\"},\"selection_glyph\":null},\"id\":\"da5c78db-af85-4029-ae51-95e86041e621\",\"type\":\"GlyphRenderer\"},{\"attributes\":{\"plot\":null,\"text\":null},\"id\":\"b3e5ffeb-a5bc-4b20-8bc5-80e8e283d2f4\",\"type\":\"Title\"},{\"attributes\":{\"level\":\"glyph\",\"plot\":{\"id\":\"0d01a165-26c7-49ae-b91d-83f156e570eb\",\"subtype\":\"Figure\",\"type\":\"Plot\"},\"source\":{\"id\":\"4213efbe-f434-4adf-9d75-2025d9d1fac5\",\"type\":\"ColumnDataSource\"},\"text\":{\"field\":\"vals\"},\"text_align\":\"center\",\"text_baseline\":\"middle\",\"text_font_size\":{\"value\":\"8pt\"},\"x\":{\"field\":\"x\"},\"y\":{\"field\":\"y\"}},\"id\":\"674d54ae-4e96-41ae-b8ad-49befc84d687\",\"type\":\"LabelSet\"},{\"attributes\":{\"plot\":{\"id\":\"0d01a165-26c7-49ae-b91d-83f156e570eb\",\"subtype\":\"Figure\",\"type\":\"Plot\"}},\"id\":\"a9b2fd02-e152-4dde-95e4-71718ff82b08\",\"type\":\"SaveTool\"},{\"attributes\":{\"callback\":null,\"end\":136786630,\"start\":135757320},\"id\":\"758e1f71-5c61-4f2f-b3a8-013cc04ffe03\",\"type\":\"Range1d\"},{\"attributes\":{\"level\":\"glyph\",\"plot\":{\"id\":\"0d01a165-26c7-49ae-b91d-83f156e570eb\",\"subtype\":\"Figure\",\"type\":\"Plot\"},\"source\":{\"id\":\"aa1a362b-2c4a-4584-bebf-0e492a8dc5e0\",\"type\":\"ColumnDataSource\"},\"text\":{\"field\":\"vals\"},\"text_font_size\":{\"value\":\"9pt\"},\"text_font_style\":\"bold\",\"x\":{\"field\":\"x\"},\"y\":{\"field\":\"y\"}},\"id\":\"ddb527cd-bf17-4615-b359-1359ad1643f3\",\"type\":\"LabelSet\"},{\"attributes\":{\"callback\":null,\"column_names\":[\"xs\",\"ys\",\"line_color\"],\"data\":{\"line_color\":[\"black\",\"black\",\"black\",\"black\",\"black\",\"black\",\"black\",\"black\",\"black\",\"black\",\"black\",\"black\",\"black\",\"black\",\"black\",\"black\",\"black\",\"black\",\"black\",\"black\",\"black\",\"black\",\"black\",\"black\",\"black\",\"black\",\"black\",\"black\",\"black\",\"black\",\"black\",\"black\",\"black\",\"black\",\"black\",\"black\",\"black\",\"black\",\"black\",\"black\",\"black\",\"black\",\"black\",\"black\",\"black\",\"black\",\"black\",\"black\",\"black\",\"black\",\"black\",\"black\",\"black\",\"black\",\"black\",\"black\",\"black\",\"black\",\"black\",\"black\",\"black\",\"black\",\"black\",\"black\",\"black\",\"black\",\"black\",\"black\",\"black\",\"black\",\"black\",\"black\",\"black\",\"black\",\"black\",\"black\",\"black\",\"black\",\"black\",\"black\",\"black\",\"black\",\"black\",\"black\",\"black\",\"black\",\"black\",\"black\",\"black\",\"black\",\"black\",\"black\",\"black\",\"black\",\"black\",\"black\",\"black\",\"black\",\"black\",\"black\",\"black\",\"black\",\"black\",\"black\",\"black\",\"black\",\"black\",\"black\",\"black\",\"black\",\"black\",\"black\",\"black\",\"black\",\"black\",\"black\",\"black\",\"black\",\"black\",\"black\",\"black\",\"black\",\"black\",\"black\",\"black\",\"black\",\"black\",\"black\",\"black\",\"black\",\"black\",\"black\",\"black\",\"black\",\"black\",\"black\",\"black\",\"black\",\"black\",\"black\",\"black\",\"black\",\"black\",\"black\",\"black\",\"black\",\"black\",\"black\",\"black\",\"black\",\"black\",\"black\",\"black\",\"black\",\"black\",\"black\",\"black\",\"black\",\"black\",\"black\",\"black\",\"black\",\"black\",\"black\",\"black\",\"black\",\"black\",\"black\",\"black\",\"black\",\"black\",\"black\",\"black\",\"black\",\"black\",\"black\",\"black\",\"black\",\"black\",\"black\",\"black\",\"black\",\"black\",\"black\",\"black\",\"black\",\"black\",\"black\"],\"xs\":[[135839805,135839805],[135866750,135866750],[135886744,135886744],[135924467,135924467],[136021814,136021814],[136090527,136090527],[136172482,136172482],[136314201,136314201],[136369336,136369336],[136393658,136393658],[136396300,136396300],[136401843,136401843],[136407445,136407445],[136411879,136411879],[136412270,136412270],[136413244,136413244],[136413847,136413847],[136415217,136415217],[136416533,136416533],[136420726,136420726],[136429857,136429857],[136433740,136433740],[136436317,136436317],[136437615,136437615],[136438517,136438517],[136440300,136440300],[136443900,136443900],[136444185,136444185],[136444338,136444338],[136449254,136449254],[136451676,136451676],[136459227,136459227],[136463117,136463117],[136463454,136463454],[136467119,136467119],[136468238,136468238],[136470219,136470219],[136483355,136483355],[136485276,136485276],[136486340,136486340],[136486342,136486342],[136494985,136494985],[136497199,136497199],[136511817,136511817],[136513670,136513670],[136515458,136515458],[136516970,136516970],[136525309,136525309],[136528034,136528034],[136532225,136532225],[136535235,136535235],[136536095,136536095],[136544423,136544423],[136546927,136546927],[136552188,136552188],[136552517,136552517],[136555525,136555525],[136556480,136556480],[136560464,136560464],[136572285,136572285],[136582694,136582694],[136582809,136582809],[136584538,136584538],[136585323,136585323],[136586825,136586825],[136600662,136600662],[136612036,136612036],[136618178,136618178],[136618507,136618507],[136622543,136622543],[136624947,136624947],[136625113,136625113],[136626078,136626078],[136628121,136628121],[136632300,136632300],[136633962,136633962],[136635343,136635343],[136638113,136638113],[136640101,136640101],[136641593,136641593],[136646582,136646582],[136648077,136648077],[136648883,136648883],[136652045,136652045],[136653848,136653848],[136656094,136656094],[136661110,136661110],[136663110,136663110],[136663605,136663605],[136665162,136665162],[136665711,136665711],[136668123,136668123],[136670419,136670419],[136672680,136672680],[136673546,136673546],[136684632,136684632],[136686114,136686114],[136690425,136690425],[136690783,136690783],[136692893,136692893],[136694905,136694905],[136695694,136695694],[136695705,136695705],[136696608,136696608],[136697372,136697372],[136697468,136697468],[136700024,136700024],[136701539,136701539],[136702118,136702118],[136707480,136707480],[136710554,136710554],[136714178,136714178],[136719173,136719173],[136725459,136725459],[136734569,136734569],[136744678,136744678],[136748779,136748779],[136751488,136751488],[136754183,136754183],[136763242,136763242],[136765074,136765074],[136773638,136773638],[136500475,136500475],[136501509,136501509],[136504101,136504101],[136509868,136509868],[136520043,136520043],[136527120,136527120],[136530379,136530379],[136530443,136530443],[136539330,136539330],[136539670,136539670],[136540083,136540083],[136542559,136542559],[136542560,136542560],[136506375,136506375],[136506927,136506927],[136510012,136510012],[136538939,136538939],[136535876,136535876],[136544651,136544651],[136545844,136545844],[136552526,136552526],[136553022,136553022],[136554797,136554797],[136554890,136554890],[136588031,136588031],[136589278,136589278],[136589379,136589379],[136589741,136589741],[136590746,136590746],[136593553,136593553],[136593678,136593678],[136652491,136652491],[136652524,136652524],[136661150,136661150],[136669264,136669264],[136726567,136726567],[136732772,136732772],[136652953,136652953],[136655582,136655582],[136674028,136674028],[136684940,136684940],[136761175,136761175],[136653925,136653925],[136654833,136654833],[136656534,136656534],[136656536,136656536],[136657252,136657252],[136667301,136667301],[136667487,136667487],[136672775,136672775],[136680534,136680534],[136686393,136686393],[136688749,136688749],[136692553,136692553],[136697371,136697371],[136708787,136708787],[136710372,136710372],[136711064,136711064],[136715324,136715324],[136723504,136723504],[136737460,136737460],[136743143,136743143],[136746224,136746224],[136751842,136751842],[136759379,136759379],[136761853,136761853]],\"ys\":[[50,90],[50,90],[50,90],[50,90],[50,65],[50,65],[50,65],[50,65],[50,65],[350,394],[350,394],[350,394],[350,394],[350,394],[350,394],[350,394],[350,394],[350,394],[350,394],[350,394],[350,394],[350,394],[350,394],[350,394],[350,394],[350,394],[350,394],[350,394],[350,394],[350,394],[350,394],[350,394],[350,394],[350,394],[350,394],[350,394],[350,394],[350,394],[350,394],[350,394],[350,394],[50,90],[50,90],[50,90],[50,90],[50,90],[50,90],[50,90],[50,90],[50,90],[50,90],[50,90],[50,90],[50,90],[50,90],[50,90],[50,90],[50,90],[50,90],[50,90],[50,90],[50,90],[50,90],[50,90],[50,90],[50,90],[50,90],[50,90],[50,90],[50,90],[50,90],[50,90],[50,90],[50,90],[50,90],[50,90],[50,90],[50,90],[50,90],[50,90],[50,90],[50,90],[50,90],[50,90],[50,90],[50,90],[50,90],[50,90],[50,90],[50,90],[50,90],[50,90],[50,90],[50,90],[50,90],[50,90],[50,90],[50,90],[50,90],[50,90],[50,90],[50,90],[50,90],[50,90],[50,90],[50,90],[50,90],[50,90],[50,90],[50,90],[50,90],[50,90],[50,90],[50,90],[50,90],[50,90],[50,90],[50,90],[50,90],[50,90],[50,90],[50,90],[150,193],[150,193],[150,193],[150,193],[150,193],[150,193],[150,193],[150,193],[150,193],[150,193],[150,193],[150,193],[150,193],[350,394],[350,394],[350,394],[350,394],[250,294],[250,294],[250,294],[250,294],[250,294],[250,294],[250,294],[450,496],[450,496],[450,496],[450,496],[450,496],[450,496],[450,496],[150,192],[150,192],[150,192],[150,192],[150,192],[150,192],[250,294],[250,294],[250,294],[250,294],[250,294],[450,495],[450,495],[450,495],[450,495],[450,495],[450,495],[450,495],[450,495],[450,495],[450,495],[450,495],[450,495],[450,495],[450,495],[450,495],[450,495],[450,495],[450,495],[450,495],[450,495],[450,495],[450,495],[450,495],[450,495]]}},\"id\":\"91581eb6-9803-4398-bfb2-a4d00c3b505b\",\"type\":\"ColumnDataSource\"},{\"attributes\":{\"plot\":{\"id\":\"0d01a165-26c7-49ae-b91d-83f156e570eb\",\"subtype\":\"Figure\",\"type\":\"Plot\"},\"ticker\":{\"id\":\"46080d34-5329-4877-b6db-e49033cb8aa6\",\"type\":\"BasicTicker\"}},\"id\":\"7e5e65b5-f069-485f-a655-e0f3dc57e189\",\"type\":\"Grid\"},{\"attributes\":{},\"id\":\"d6a742a4-fc44-46a5-a231-61ebef4b9c2d\",\"type\":\"BasicTickFormatter\"},{\"attributes\":{\"plot\":{\"id\":\"0d01a165-26c7-49ae-b91d-83f156e570eb\",\"subtype\":\"Figure\",\"type\":\"Plot\"}},\"id\":\"98d28cdc-f3d6-4e6c-a9f7-4c11fccb1827\",\"type\":\"ResetTool\"},{\"attributes\":{\"bottom\":{\"field\":\"bottom\"},\"fill_color\":{\"field\":\"fill_color\"},\"left\":{\"field\":\"left\"},\"line_color\":{\"value\":null},\"right\":{\"field\":\"right\"},\"top\":{\"field\":\"top\"}},\"id\":\"5c1e2fb7-e427-4878-8886-a7a1ffef4d79\",\"type\":\"Quad\"},{\"attributes\":{\"below\":[{\"id\":\"391118cb-5d09-4a74-b337-98c54cfcb0ee\",\"type\":\"LinearAxis\"}],\"left\":[{\"id\":\"c72cb8d3-233f-4e98-a286-290825aed3e2\",\"type\":\"LinearAxis\"}],\"plot_width\":900,\"renderers\":[{\"id\":\"391118cb-5d09-4a74-b337-98c54cfcb0ee\",\"type\":\"LinearAxis\"},{\"id\":\"7e5e65b5-f069-485f-a655-e0f3dc57e189\",\"type\":\"Grid\"},{\"id\":\"c72cb8d3-233f-4e98-a286-290825aed3e2\",\"type\":\"LinearAxis\"},{\"id\":\"cc808c75-85d7-49bc-b1b4-82c5879940fc\",\"type\":\"Grid\"},{\"id\":\"f07d88eb-1906-4d1a-9ed1-821be58101a7\",\"type\":\"BoxAnnotation\"},{\"id\":\"a0a6e98a-da3f-4737-9399-45b61727ec82\",\"type\":\"GlyphRenderer\"},{\"id\":\"da5c78db-af85-4029-ae51-95e86041e621\",\"type\":\"GlyphRenderer\"},{\"id\":\"ddb527cd-bf17-4615-b359-1359ad1643f3\",\"type\":\"LabelSet\"},{\"id\":\"0d93f4e6-3a42-4ac2-a47b-f7bb132b9246\",\"type\":\"GlyphRenderer\"},{\"id\":\"674d54ae-4e96-41ae-b8ad-49befc84d687\",\"type\":\"LabelSet\"}],\"title\":{\"id\":\"b3e5ffeb-a5bc-4b20-8bc5-80e8e283d2f4\",\"type\":\"Title\"},\"tool_events\":{\"id\":\"319048e3-7228-4541-9cac-1adcc6b4fec0\",\"type\":\"ToolEvents\"},\"toolbar\":{\"id\":\"afb5499d-4fd7-4b6b-a2a4-c5b6fa6d2878\",\"type\":\"Toolbar\"},\"toolbar_location\":null,\"x_range\":{\"id\":\"758e1f71-5c61-4f2f-b3a8-013cc04ffe03\",\"type\":\"Range1d\"},\"y_range\":{\"id\":\"556082b6-cf78-40dc-88ed-8c6c56bd703d\",\"type\":\"Range1d\"}},\"id\":\"0d01a165-26c7-49ae-b91d-83f156e570eb\",\"subtype\":\"Figure\",\"type\":\"Plot\"},{\"attributes\":{},\"id\":\"46080d34-5329-4877-b6db-e49033cb8aa6\",\"type\":\"BasicTicker\"},{\"attributes\":{\"formatter\":{\"id\":\"d6a742a4-fc44-46a5-a231-61ebef4b9c2d\",\"type\":\"BasicTickFormatter\"},\"plot\":{\"id\":\"0d01a165-26c7-49ae-b91d-83f156e570eb\",\"subtype\":\"Figure\",\"type\":\"Plot\"},\"ticker\":{\"id\":\"46080d34-5329-4877-b6db-e49033cb8aa6\",\"type\":\"BasicTicker\"}},\"id\":\"391118cb-5d09-4a74-b337-98c54cfcb0ee\",\"type\":\"LinearAxis\"},{\"attributes\":{\"callback\":null,\"column_names\":[\"y\",\"x\",\"vals\"],\"data\":{\"vals\":[\"RAB3GAP1\",\"ZRANB3\",\"R3HDM1\",\"UBXN4\",\"LCT\",\"MCM6\",\"DARS\"],\"x\":[135869057.0,136122878.0,136385961.0,136520911.0,136570082.5,136615621.5,136703738.0],\"y\":[560.0,560.0,560.0,560.0,560.0,560.0,560.0]}},\"id\":\"4213efbe-f434-4adf-9d75-2025d9d1fac5\",\"type\":\"ColumnDataSource\"},{\"attributes\":{\"line_alpha\":{\"value\":0.1},\"line_color\":{\"value\":\"#1f77b4\"},\"xs\":{\"field\":\"xs\"},\"ys\":{\"field\":\"ys\"}},\"id\":\"8d8b7f0e-5f01-4164-8b54-45cbd11dfa0e\",\"type\":\"MultiLine\"},{\"attributes\":{\"callback\":null,\"column_names\":[\"y\",\"x\",\"vals\"],\"data\":{\"vals\":[\"4_815\",\"5_47\",\"32_1361\",\"81_857\",\"13_1227\",\"4_1442\",\"7_1303\",\"7_1760\",\"6_1114\",\"5_1296\",\"24_1504\"],\"x\":[135839805,136021814,136393658,136494985,136500475,136506375,136535876,136588031,136652491,136652953,136653925],\"y\":[95.0,70.0,399.0,95.0,198.0,399.0,299.0,501.0,197.0,299.0,500.0]}},\"id\":\"aa1a362b-2c4a-4584-bebf-0e492a8dc5e0\",\"type\":\"ColumnDataSource\"},{\"attributes\":{\"data_source\":{\"id\":\"13083b3a-42b8-4a5f-8ba4-124e00de1e64\",\"type\":\"ColumnDataSource\"},\"glyph\":{\"id\":\"5c1e2fb7-e427-4878-8886-a7a1ffef4d79\",\"type\":\"Quad\"},\"hover_glyph\":null,\"nonselection_glyph\":{\"id\":\"887d8323-4098-46d6-bb2d-414e7877f93c\",\"type\":\"Quad\"},\"selection_glyph\":null},\"id\":\"a0a6e98a-da3f-4737-9399-45b61727ec82\",\"type\":\"GlyphRenderer\"},{\"attributes\":{\"line_color\":{\"field\":\"line_color\"},\"xs\":{\"field\":\"xs\"},\"ys\":{\"field\":\"ys\"}},\"id\":\"fe190a7b-8ce6-4f8e-9c71-102fe7624c90\",\"type\":\"MultiLine\"},{\"attributes\":{\"plot\":{\"id\":\"0d01a165-26c7-49ae-b91d-83f156e570eb\",\"subtype\":\"Figure\",\"type\":\"Plot\"}},\"id\":\"8328dfcc-cf1a-4f33-94bd-79f882ab2d06\",\"type\":\"WheelZoomTool\"},{\"attributes\":{\"overlay\":{\"id\":\"f07d88eb-1906-4d1a-9ed1-821be58101a7\",\"type\":\"BoxAnnotation\"},\"plot\":{\"id\":\"0d01a165-26c7-49ae-b91d-83f156e570eb\",\"subtype\":\"Figure\",\"type\":\"Plot\"}},\"id\":\"d59ac8f2-3fef-40b8-9f37-f31a5fc30e57\",\"type\":\"BoxZoomTool\"},{\"attributes\":{\"plot\":{\"id\":\"0d01a165-26c7-49ae-b91d-83f156e570eb\",\"subtype\":\"Figure\",\"type\":\"Plot\"}},\"id\":\"8c916b44-3785-4ab9-968f-277e24217cc3\",\"type\":\"HelpTool\"},{\"attributes\":{\"bottom_units\":\"screen\",\"fill_alpha\":{\"value\":0.5},\"fill_color\":{\"value\":\"lightgrey\"},\"left_units\":\"screen\",\"level\":\"overlay\",\"line_alpha\":{\"value\":1.0},\"line_color\":{\"value\":\"black\"},\"line_dash\":[4,4],\"line_width\":{\"value\":2},\"plot\":null,\"render_mode\":\"css\",\"right_units\":\"screen\",\"top_units\":\"screen\"},\"id\":\"f07d88eb-1906-4d1a-9ed1-821be58101a7\",\"type\":\"BoxAnnotation\"},{\"attributes\":{\"formatter\":{\"id\":\"41a5f5ae-cfcb-4d2f-bb96-efb567dd6286\",\"type\":\"BasicTickFormatter\"},\"plot\":{\"id\":\"0d01a165-26c7-49ae-b91d-83f156e570eb\",\"subtype\":\"Figure\",\"type\":\"Plot\"},\"ticker\":{\"id\":\"4056d6b6-fcb4-443a-82e7-193d7b2fbe25\",\"type\":\"BasicTicker\"},\"visible\":null},\"id\":\"c72cb8d3-233f-4e98-a286-290825aed3e2\",\"type\":\"LinearAxis\"},{\"attributes\":{\"plot\":{\"id\":\"0d01a165-26c7-49ae-b91d-83f156e570eb\",\"subtype\":\"Figure\",\"type\":\"Plot\"}},\"id\":\"8ee40d98-709f-424f-b0dd-ffa7f2844c42\",\"type\":\"PanTool\"},{\"attributes\":{\"callback\":null,\"column_names\":[\"right\",\"bottom\",\"top\",\"left\",\"fill_color\"],\"data\":{\"bottom\":[50,50,350,50,150,350,250,450,150,250,450],\"fill_color\":[\"#61c4c4\",\"#ffff00\",\"#c4c461\",\"#808080\",\"#808080\",\"#808080\",\"#808080\",\"#c46161\",\"#808080\",\"#808080\",\"#808080\"],\"left\":[135839805,136021814,136393658,136494985,136500475,136506375,136535876,136588031,136652491,136652953,136653925],\"right\":[135924467,136369336,136486342,136773638,136542560,136538939,136554890,136593678,136732772,136761175,136761853],\"top\":[90,65,394,90,193,394,294,496,192,294,495]}},\"id\":\"13083b3a-42b8-4a5f-8ba4-124e00de1e64\",\"type\":\"ColumnDataSource\"},{\"attributes\":{},\"id\":\"319048e3-7228-4541-9cac-1adcc6b4fec0\",\"type\":\"ToolEvents\"},{\"attributes\":{\"callback\":null,\"end\":600},\"id\":\"556082b6-cf78-40dc-88ed-8c6c56bd703d\",\"type\":\"Range1d\"}],\"root_ids\":[\"0d01a165-26c7-49ae-b91d-83f156e570eb\"]},\"title\":\"Bokeh Application\",\"version\":\"0.12.0\"}};\n",
       "            var render_items = [{\"docid\":\"36b31e4c-9c74-48e7-ac07-294b7608102a\",\"elementid\":\"a4d9efc1-79e9-4b5c-b172-be80c2d9a056\",\"modelid\":\"0d01a165-26c7-49ae-b91d-83f156e570eb\",\"notebook_comms_target\":\"23fb5c83-c242-4e85-8692-4ee4ba01d381\"}];\n",
       "            \n",
       "            Bokeh.embed.embed_items(docs_json, render_items);\n",
       "        });\n",
       "      },\n",
       "      function(Bokeh) {\n",
       "      }\n",
       "    ];\n",
       "  \n",
       "    function run_inline_js() {\n",
       "      for (var i = 0; i < inline_js.length; i++) {\n",
       "        inline_js[i](window.Bokeh);\n",
       "      }\n",
       "    }\n",
       "  \n",
       "    if (window._bokeh_is_loading === 0) {\n",
       "      console.log(\"Bokeh: BokehJS loaded, going straight to plotting\");\n",
       "      run_inline_js();\n",
       "    } else {\n",
       "      load_libs(js_urls, function() {\n",
       "        console.log(\"Bokeh: BokehJS plotting callback run at\", now());\n",
       "        run_inline_js();\n",
       "      });\n",
       "    }\n",
       "  }(this));\n",
       "</script>"
      ]
     },
     "metadata": {},
     "output_type": "display_data"
    },
    {
     "data": {
      "text/html": [
       "<p><code>&lt;Bokeh Notebook handle for <strong>In[23]</strong>&gt;</code></p>"
      ],
      "text/plain": [
       "<bokeh.io._CommsHandle at 0x7f3f0c299890>"
      ]
     },
     "execution_count": 23,
     "metadata": {},
     "output_type": "execute_result"
    }
   ],
   "source": [
    "plt_obj = dm.superset_allele_mask(am_29, [dm.di_4_815, dm.di_32_1361, dm.di_81_857, dm.di_5_47], [dm.di_5_684], min_match=0.001)\n",
    "plt = plt_obj.do_plot()\n",
    "show(plt)"
   ]
  },
  {
   "cell_type": "code",
   "execution_count": 24,
   "metadata": {
    "collapsed": false
   },
   "outputs": [
    {
     "data": {
      "text/html": [
       "<table>\n",
       "<thead><tr><th style=\"text-align:center\">index</th><th style=\"text-align:center\">first</th><th style=\"text-align:center\">length</th><th style=\"text-align:center\">snps</th><th style=\"text-align:center\" colspan=2>alleles</th><th style=\"text-align:center\" colspan=2>matches</th><th style=\"text-align:center\" colspan=2>afr</th><th style=\"text-align:center\" colspan=2>afx</th><th style=\"text-align:center\" colspan=2>amr</th><th style=\"text-align:center\" colspan=2>eas</th><th style=\"text-align:center\" colspan=2>eur</th><th style=\"text-align:center\" colspan=2>sas</th><th style=\"text-align:center\" colspan=2>sax</th></tr></thead>\n",
       "<tr class=\"even\"><td style=\"text-align: right;\">354033</td><td style=\"text-align: right;\">136,588,031</td><td style=\"text-align: right;\">5,647</td><td style=\"text-align: right;\">7</td><td style=\"text-align: right;\">1760</td><td style=\"text-align: right;\">0.00</td><td style=\"text-align: right;\">1</td><td style=\"text-align: right;\">1.00</td><td style=\"text-align: right;\">0</td><td style=\"text-align: right;\">0.00</td><td style=\"text-align: right;\">0</td><td style=\"text-align: right;\">0.00</td><td style=\"text-align: right;\">0</td><td style=\"text-align: right;\">0.00</td><td style=\"text-align: right;\">0</td><td style=\"text-align: right;\">0.00</td><td style=\"text-align: right;\">0</td><td style=\"text-align: right;\">0.00</td><td style=\"text-align: right;\">0</td><td style=\"text-align: right;\">0.00</td><td style=\"text-align: right;\">1</td><td style=\"text-align: right;\">8.16</td></tr>\n",
       "<tr><td style=\"text-align: right;\">354130</td><td style=\"text-align: right;\">136,653,925</td><td style=\"text-align: right;\">107,928</td><td style=\"text-align: right;\">24</td><td style=\"text-align: right;\">1504</td><td style=\"text-align: right;\">0.00</td><td style=\"text-align: right;\">1</td><td style=\"text-align: right;\">1.00</td><td style=\"text-align: right;\">0</td><td style=\"text-align: right;\">0.00</td><td style=\"text-align: right;\">0</td><td style=\"text-align: right;\">0.00</td><td style=\"text-align: right;\">0</td><td style=\"text-align: right;\">0.00</td><td style=\"text-align: right;\">0</td><td style=\"text-align: right;\">0.00</td><td style=\"text-align: right;\">0</td><td style=\"text-align: right;\">0.00</td><td style=\"text-align: right;\">0</td><td style=\"text-align: right;\">0.00</td><td style=\"text-align: right;\">1</td><td style=\"text-align: right;\">8.16</td></tr>\n",
       "<tr class=\"even\"><td style=\"text-align: right;\">353925</td><td style=\"text-align: right;\">136,506,375</td><td style=\"text-align: right;\">32,564</td><td style=\"text-align: right;\">4</td><td style=\"text-align: right;\">1442</td><td style=\"text-align: right;\">0.00</td><td style=\"text-align: right;\">1</td><td style=\"text-align: right;\">1.00</td><td style=\"text-align: right;\">0</td><td style=\"text-align: right;\">0.00</td><td style=\"text-align: right;\">0</td><td style=\"text-align: right;\">0.00</td><td style=\"text-align: right;\">0</td><td style=\"text-align: right;\">0.00</td><td style=\"text-align: right;\">0</td><td style=\"text-align: right;\">0.00</td><td style=\"text-align: right;\">0</td><td style=\"text-align: right;\">0.00</td><td style=\"text-align: right;\">0</td><td style=\"text-align: right;\">0.00</td><td style=\"text-align: right;\">1</td><td style=\"text-align: right;\">8.16</td></tr>\n",
       "<tr><td style=\"text-align: right;\">353791</td><td style=\"text-align: right;\">136,393,658</td><td style=\"text-align: right;\">92,684</td><td style=\"text-align: right;\">32</td><td style=\"text-align: right;\">1361</td><td style=\"text-align: right;\">0.00</td><td style=\"text-align: right;\">1</td><td style=\"text-align: right;\">1.00</td><td style=\"text-align: right;\">0</td><td style=\"text-align: right;\">0.00</td><td style=\"text-align: right;\">0</td><td style=\"text-align: right;\">0.00</td><td style=\"text-align: right;\">0</td><td style=\"text-align: right;\">0.00</td><td style=\"text-align: right;\">0</td><td style=\"text-align: right;\">0.00</td><td style=\"text-align: right;\">0</td><td style=\"text-align: right;\">0.00</td><td style=\"text-align: right;\">0</td><td style=\"text-align: right;\">0.00</td><td style=\"text-align: right;\">1</td><td style=\"text-align: right;\">8.16</td></tr>\n",
       "<tr class=\"even\"><td style=\"text-align: right;\">353958</td><td style=\"text-align: right;\">136,535,876</td><td style=\"text-align: right;\">19,014</td><td style=\"text-align: right;\">7</td><td style=\"text-align: right;\">1303</td><td style=\"text-align: right;\">0.00</td><td style=\"text-align: right;\">1</td><td style=\"text-align: right;\">1.00</td><td style=\"text-align: right;\">0</td><td style=\"text-align: right;\">0.00</td><td style=\"text-align: right;\">0</td><td style=\"text-align: right;\">0.00</td><td style=\"text-align: right;\">0</td><td style=\"text-align: right;\">0.00</td><td style=\"text-align: right;\">0</td><td style=\"text-align: right;\">0.00</td><td style=\"text-align: right;\">0</td><td style=\"text-align: right;\">0.00</td><td style=\"text-align: right;\">0</td><td style=\"text-align: right;\">0.00</td><td style=\"text-align: right;\">1</td><td style=\"text-align: right;\">8.16</td></tr>\n",
       "<tr><td style=\"text-align: right;\">354129</td><td style=\"text-align: right;\">136,652,953</td><td style=\"text-align: right;\">108,222</td><td style=\"text-align: right;\">5</td><td style=\"text-align: right;\">1296</td><td style=\"text-align: right;\">0.00</td><td style=\"text-align: right;\">1</td><td style=\"text-align: right;\">1.00</td><td style=\"text-align: right;\">0</td><td style=\"text-align: right;\">0.00</td><td style=\"text-align: right;\">0</td><td style=\"text-align: right;\">0.00</td><td style=\"text-align: right;\">0</td><td style=\"text-align: right;\">0.00</td><td style=\"text-align: right;\">0</td><td style=\"text-align: right;\">0.00</td><td style=\"text-align: right;\">0</td><td style=\"text-align: right;\">0.00</td><td style=\"text-align: right;\">0</td><td style=\"text-align: right;\">0.00</td><td style=\"text-align: right;\">1</td><td style=\"text-align: right;\">8.16</td></tr>\n",
       "<tr class=\"even\"><td style=\"text-align: right;\">353919</td><td style=\"text-align: right;\">136,500,475</td><td style=\"text-align: right;\">42,085</td><td style=\"text-align: right;\">13</td><td style=\"text-align: right;\">1227</td><td style=\"text-align: right;\">0.00</td><td style=\"text-align: right;\">1</td><td style=\"text-align: right;\">1.00</td><td style=\"text-align: right;\">0</td><td style=\"text-align: right;\">0.00</td><td style=\"text-align: right;\">0</td><td style=\"text-align: right;\">0.00</td><td style=\"text-align: right;\">0</td><td style=\"text-align: right;\">0.00</td><td style=\"text-align: right;\">0</td><td style=\"text-align: right;\">0.00</td><td style=\"text-align: right;\">0</td><td style=\"text-align: right;\">0.00</td><td style=\"text-align: right;\">0</td><td style=\"text-align: right;\">0.00</td><td style=\"text-align: right;\">1</td><td style=\"text-align: right;\">8.16</td></tr>\n",
       "<tr><td style=\"text-align: right;\">354127</td><td style=\"text-align: right;\">136,652,491</td><td style=\"text-align: right;\">80,281</td><td style=\"text-align: right;\">6</td><td style=\"text-align: right;\">1114</td><td style=\"text-align: right;\">0.00</td><td style=\"text-align: right;\">1</td><td style=\"text-align: right;\">1.00</td><td style=\"text-align: right;\">0</td><td style=\"text-align: right;\">0.00</td><td style=\"text-align: right;\">0</td><td style=\"text-align: right;\">0.00</td><td style=\"text-align: right;\">0</td><td style=\"text-align: right;\">0.00</td><td style=\"text-align: right;\">0</td><td style=\"text-align: right;\">0.00</td><td style=\"text-align: right;\">0</td><td style=\"text-align: right;\">0.00</td><td style=\"text-align: right;\">0</td><td style=\"text-align: right;\">0.00</td><td style=\"text-align: right;\">1</td><td style=\"text-align: right;\">8.16</td></tr>\n",
       "<tr class=\"even\"><td style=\"text-align: right;\">353902</td><td style=\"text-align: right;\">136,494,985</td><td style=\"text-align: right;\">278,653</td><td style=\"text-align: right;\">81</td><td style=\"text-align: right;\">857</td><td style=\"text-align: right;\">0.00</td><td style=\"text-align: right;\">1</td><td style=\"text-align: right;\">1.00</td><td style=\"text-align: right;\">0</td><td style=\"text-align: right;\">0.00</td><td style=\"text-align: right;\">0</td><td style=\"text-align: right;\">0.00</td><td style=\"text-align: right;\">0</td><td style=\"text-align: right;\">0.00</td><td style=\"text-align: right;\">0</td><td style=\"text-align: right;\">0.00</td><td style=\"text-align: right;\">0</td><td style=\"text-align: right;\">0.00</td><td style=\"text-align: right;\">0</td><td style=\"text-align: right;\">0.00</td><td style=\"text-align: right;\">1</td><td style=\"text-align: right;\">8.16</td></tr>\n",
       "<tr><td style=\"text-align: right;\">353384</td><td style=\"text-align: right;\">135,839,805</td><td style=\"text-align: right;\">84,662</td><td style=\"text-align: right;\">4</td><td style=\"text-align: right;\">815</td><td style=\"text-align: right;\">0.00</td><td style=\"text-align: right;\">1</td><td style=\"text-align: right;\">1.00</td><td style=\"text-align: right;\">0</td><td style=\"text-align: right;\">0.00</td><td style=\"text-align: right;\">0</td><td style=\"text-align: right;\">0.00</td><td style=\"text-align: right;\">0</td><td style=\"text-align: right;\">0.00</td><td style=\"text-align: right;\">0</td><td style=\"text-align: right;\">0.00</td><td style=\"text-align: right;\">0</td><td style=\"text-align: right;\">0.00</td><td style=\"text-align: right;\">0</td><td style=\"text-align: right;\">0.00</td><td style=\"text-align: right;\">1</td><td style=\"text-align: right;\">8.16</td></tr>\n",
       "<tr class=\"even\"><td style=\"text-align: right;\">353554</td><td style=\"text-align: right;\">136,021,814</td><td style=\"text-align: right;\">347,522</td><td style=\"text-align: right;\">5</td><td style=\"text-align: right;\">47</td><td style=\"text-align: right;\">0.02</td><td style=\"text-align: right;\">1</td><td style=\"text-align: right;\">1.00</td><td style=\"text-align: right;\">0</td><td style=\"text-align: right;\">0.00</td><td style=\"text-align: right;\">0</td><td style=\"text-align: right;\">0.00</td><td style=\"text-align: right;\">0</td><td style=\"text-align: right;\">0.00</td><td style=\"text-align: right;\">0</td><td style=\"text-align: right;\">0.00</td><td style=\"text-align: right;\">0</td><td style=\"text-align: right;\">0.00</td><td style=\"text-align: right;\">0</td><td style=\"text-align: right;\">0.00</td><td style=\"text-align: right;\">1</td><td style=\"text-align: right;\">8.16</td></tr>\n",
       "</table>"
      ],
      "text/plain": [
       "<IPython.core.display.HTML object>"
      ]
     },
     "execution_count": 24,
     "metadata": {},
     "output_type": "execute_result"
    }
   ],
   "source": [
    "HTML(plt_obj.get_html())"
   ]
  },
  {
   "cell_type": "code",
   "execution_count": 25,
   "metadata": {
    "collapsed": false
   },
   "outputs": [
    {
     "data": {
      "text/html": [
       "\n",
       "\n",
       "    <div class=\"bk-root\">\n",
       "        <div class=\"plotdiv\" id=\"9ae8962c-edd9-4a5c-94ac-003f3f4992cd\"></div>\n",
       "    </div>\n",
       "<script type=\"text/javascript\">\n",
       "  \n",
       "  (function(global) {\n",
       "    function now() {\n",
       "      return new Date();\n",
       "    }\n",
       "  \n",
       "    if (typeof (window._bokeh_onload_callbacks) === \"undefined\") {\n",
       "      window._bokeh_onload_callbacks = [];\n",
       "    }\n",
       "  \n",
       "    function run_callbacks() {\n",
       "      window._bokeh_onload_callbacks.forEach(function(callback) { callback() });\n",
       "      delete window._bokeh_onload_callbacks\n",
       "      console.info(\"Bokeh: all callbacks have finished\");\n",
       "    }\n",
       "  \n",
       "    function load_libs(js_urls, callback) {\n",
       "      window._bokeh_onload_callbacks.push(callback);\n",
       "      if (window._bokeh_is_loading > 0) {\n",
       "        console.log(\"Bokeh: BokehJS is being loaded, scheduling callback at\", now());\n",
       "        return null;\n",
       "      }\n",
       "      if (js_urls == null || js_urls.length === 0) {\n",
       "        run_callbacks();\n",
       "        return null;\n",
       "      }\n",
       "      console.log(\"Bokeh: BokehJS not loaded, scheduling load and callback at\", now());\n",
       "      window._bokeh_is_loading = js_urls.length;\n",
       "      for (var i = 0; i < js_urls.length; i++) {\n",
       "        var url = js_urls[i];\n",
       "        var s = document.createElement('script');\n",
       "        s.src = url;\n",
       "        s.async = false;\n",
       "        s.onreadystatechange = s.onload = function() {\n",
       "          window._bokeh_is_loading--;\n",
       "          if (window._bokeh_is_loading === 0) {\n",
       "            console.log(\"Bokeh: all BokehJS libraries loaded\");\n",
       "            run_callbacks()\n",
       "          }\n",
       "        };\n",
       "        s.onerror = function() {\n",
       "          console.warn(\"failed to load library \" + url);\n",
       "        };\n",
       "        console.log(\"Bokeh: injecting script tag for BokehJS library: \", url);\n",
       "        document.getElementsByTagName(\"head\")[0].appendChild(s);\n",
       "      }\n",
       "    };var element = document.getElementById(\"9ae8962c-edd9-4a5c-94ac-003f3f4992cd\");\n",
       "    if (element == null) {\n",
       "      console.log(\"Bokeh: ERROR: autoload.js configured with elementid '9ae8962c-edd9-4a5c-94ac-003f3f4992cd' but no matching script tag was found. \")\n",
       "      return false;\n",
       "    }\n",
       "  \n",
       "    var js_urls = [];\n",
       "  \n",
       "    var inline_js = [\n",
       "      function(Bokeh) {\n",
       "        Bokeh.$(function() {\n",
       "            var docs_json = {\"d4b07e1f-1309-45ab-a605-ca2c7dc4fb10\":{\"roots\":{\"references\":[{\"attributes\":{\"plot\":{\"id\":\"689e1a5c-b113-4302-8528-55174ec858c6\",\"subtype\":\"Figure\",\"type\":\"Plot\"},\"ticker\":{\"id\":\"ed79bb9f-fa91-4aea-b5df-cc715052e85e\",\"type\":\"BasicTicker\"}},\"id\":\"67f14854-9cba-4b0e-931e-3a92be4e156f\",\"type\":\"Grid\"},{\"attributes\":{\"bottom_units\":\"screen\",\"fill_alpha\":{\"value\":0.5},\"fill_color\":{\"value\":\"lightgrey\"},\"left_units\":\"screen\",\"level\":\"overlay\",\"line_alpha\":{\"value\":1.0},\"line_color\":{\"value\":\"black\"},\"line_dash\":[4,4],\"line_width\":{\"value\":2},\"plot\":null,\"render_mode\":\"css\",\"right_units\":\"screen\",\"top_units\":\"screen\"},\"id\":\"28180212-bfd8-4bb5-aaf3-e7b0971e602e\",\"type\":\"BoxAnnotation\"},{\"attributes\":{\"data_source\":{\"id\":\"f5c6704d-e63d-4ed5-8858-b172d7005cc6\",\"type\":\"ColumnDataSource\"},\"glyph\":{\"id\":\"76b8e7ee-89fa-4208-86a4-223c91f33a32\",\"type\":\"Quad\"},\"hover_glyph\":null,\"nonselection_glyph\":{\"id\":\"66963fae-a137-4167-b744-090a810399ab\",\"type\":\"Quad\"},\"selection_glyph\":null},\"id\":\"073022c0-4d11-4ef3-993d-414bbc18f182\",\"type\":\"GlyphRenderer\"},{\"attributes\":{\"callback\":null,\"column_names\":[\"xs\",\"ys\",\"line_color\"],\"data\":{\"line_color\":[\"black\",\"black\",\"black\",\"black\",\"black\",\"black\",\"black\",\"black\",\"black\",\"black\",\"black\",\"black\",\"black\",\"black\",\"black\",\"black\",\"black\",\"black\",\"black\",\"black\",\"black\",\"black\",\"black\",\"black\",\"black\",\"black\",\"black\",\"black\",\"black\",\"black\",\"black\",\"black\",\"black\",\"black\",\"black\",\"black\",\"black\",\"black\",\"black\",\"black\",\"black\",\"black\",\"black\",\"black\",\"black\",\"black\",\"black\",\"black\",\"black\",\"black\",\"black\",\"black\",\"black\",\"black\",\"black\",\"black\",\"black\",\"black\",\"black\",\"black\",\"black\",\"black\",\"black\",\"black\",\"black\",\"black\",\"black\",\"black\",\"black\",\"black\",\"black\",\"black\",\"black\",\"black\",\"black\",\"black\",\"black\",\"black\",\"black\",\"black\",\"black\",\"black\",\"black\",\"black\",\"black\",\"black\",\"black\",\"black\",\"black\",\"black\",\"black\",\"black\",\"black\",\"black\",\"black\",\"black\",\"black\",\"black\",\"black\",\"black\",\"black\",\"black\",\"black\",\"black\",\"black\",\"black\",\"black\",\"black\",\"black\",\"black\",\"black\",\"black\",\"black\",\"black\",\"black\",\"black\",\"black\",\"black\",\"black\",\"black\",\"black\",\"black\",\"black\",\"black\",\"black\",\"black\",\"black\",\"black\",\"black\",\"black\",\"black\",\"black\",\"black\",\"black\",\"black\",\"black\",\"black\",\"black\",\"black\",\"black\",\"black\",\"black\",\"black\",\"black\",\"black\",\"black\",\"black\",\"black\",\"black\",\"black\",\"black\",\"black\",\"black\",\"black\",\"black\",\"black\",\"black\",\"black\",\"black\",\"black\",\"black\",\"black\",\"black\",\"black\",\"black\",\"black\",\"black\",\"black\",\"black\",\"black\",\"black\",\"black\",\"black\",\"black\",\"black\",\"black\",\"black\",\"black\",\"black\",\"black\",\"black\",\"black\",\"black\",\"black\",\"black\",\"black\",\"black\",\"black\",\"black\",\"black\"],\"xs\":[[135839805,135839805],[135866750,135866750],[135886744,135886744],[135924467,135924467],[136039834,136039834],[136040506,136040506],[136108092,136108092],[136283871,136283871],[136284021,136284021],[136343363,136343363],[136349562,136349562],[136393658,136393658],[136396300,136396300],[136401843,136401843],[136407445,136407445],[136411879,136411879],[136412270,136412270],[136413244,136413244],[136413847,136413847],[136415217,136415217],[136416533,136416533],[136420726,136420726],[136429857,136429857],[136433740,136433740],[136436317,136436317],[136437615,136437615],[136438517,136438517],[136440300,136440300],[136443900,136443900],[136444185,136444185],[136444338,136444338],[136449254,136449254],[136451676,136451676],[136459227,136459227],[136463117,136463117],[136463454,136463454],[136467119,136467119],[136468238,136468238],[136470219,136470219],[136483355,136483355],[136485276,136485276],[136486340,136486340],[136486342,136486342],[136494985,136494985],[136497199,136497199],[136511817,136511817],[136513670,136513670],[136515458,136515458],[136516970,136516970],[136525309,136525309],[136528034,136528034],[136532225,136532225],[136535235,136535235],[136536095,136536095],[136544423,136544423],[136546927,136546927],[136552188,136552188],[136552517,136552517],[136555525,136555525],[136556480,136556480],[136560464,136560464],[136572285,136572285],[136582694,136582694],[136582809,136582809],[136584538,136584538],[136585323,136585323],[136586825,136586825],[136600662,136600662],[136612036,136612036],[136618178,136618178],[136618507,136618507],[136622543,136622543],[136624947,136624947],[136625113,136625113],[136626078,136626078],[136628121,136628121],[136632300,136632300],[136633962,136633962],[136635343,136635343],[136638113,136638113],[136640101,136640101],[136641593,136641593],[136646582,136646582],[136648077,136648077],[136648883,136648883],[136652045,136652045],[136653848,136653848],[136656094,136656094],[136661110,136661110],[136663110,136663110],[136663605,136663605],[136665162,136665162],[136665711,136665711],[136668123,136668123],[136670419,136670419],[136672680,136672680],[136673546,136673546],[136684632,136684632],[136686114,136686114],[136690425,136690425],[136690783,136690783],[136692893,136692893],[136694905,136694905],[136695694,136695694],[136695705,136695705],[136696608,136696608],[136697372,136697372],[136697468,136697468],[136700024,136700024],[136701539,136701539],[136702118,136702118],[136707480,136707480],[136710554,136710554],[136714178,136714178],[136719173,136719173],[136725459,136725459],[136734569,136734569],[136744678,136744678],[136748779,136748779],[136751488,136751488],[136754183,136754183],[136763242,136763242],[136765074,136765074],[136773638,136773638],[136500475,136500475],[136501509,136501509],[136504101,136504101],[136509868,136509868],[136520043,136520043],[136527120,136527120],[136530379,136530379],[136530443,136530443],[136539330,136539330],[136539670,136539670],[136540083,136540083],[136542559,136542559],[136542560,136542560],[136506375,136506375],[136506927,136506927],[136510012,136510012],[136538939,136538939],[136535876,136535876],[136544651,136544651],[136545844,136545844],[136552526,136552526],[136553022,136553022],[136554797,136554797],[136554890,136554890],[136588031,136588031],[136589278,136589278],[136589379,136589379],[136589741,136589741],[136590746,136590746],[136593553,136593553],[136593678,136593678],[136652491,136652491],[136652524,136652524],[136661150,136661150],[136669264,136669264],[136726567,136726567],[136732772,136732772],[136652953,136652953],[136655582,136655582],[136674028,136674028],[136684940,136684940],[136761175,136761175],[136653925,136653925],[136654833,136654833],[136656534,136656534],[136656536,136656536],[136657252,136657252],[136667301,136667301],[136667487,136667487],[136672775,136672775],[136680534,136680534],[136686393,136686393],[136688749,136688749],[136692553,136692553],[136697371,136697371],[136708787,136708787],[136710372,136710372],[136711064,136711064],[136715324,136715324],[136723504,136723504],[136737460,136737460],[136743143,136743143],[136746224,136746224],[136751842,136751842],[136759379,136759379],[136761853,136761853]],\"ys\":[[50,90],[50,90],[50,90],[50,90],[50,57],[50,57],[50,57],[50,57],[50,57],[50,57],[50,57],[350,394],[350,394],[350,394],[350,394],[350,394],[350,394],[350,394],[350,394],[350,394],[350,394],[350,394],[350,394],[350,394],[350,394],[350,394],[350,394],[350,394],[350,394],[350,394],[350,394],[350,394],[350,394],[350,394],[350,394],[350,394],[350,394],[350,394],[350,394],[350,394],[350,394],[350,394],[350,394],[50,90],[50,90],[50,90],[50,90],[50,90],[50,90],[50,90],[50,90],[50,90],[50,90],[50,90],[50,90],[50,90],[50,90],[50,90],[50,90],[50,90],[50,90],[50,90],[50,90],[50,90],[50,90],[50,90],[50,90],[50,90],[50,90],[50,90],[50,90],[50,90],[50,90],[50,90],[50,90],[50,90],[50,90],[50,90],[50,90],[50,90],[50,90],[50,90],[50,90],[50,90],[50,90],[50,90],[50,90],[50,90],[50,90],[50,90],[50,90],[50,90],[50,90],[50,90],[50,90],[50,90],[50,90],[50,90],[50,90],[50,90],[50,90],[50,90],[50,90],[50,90],[50,90],[50,90],[50,90],[50,90],[50,90],[50,90],[50,90],[50,90],[50,90],[50,90],[50,90],[50,90],[50,90],[50,90],[50,90],[50,90],[50,90],[50,90],[50,90],[50,90],[150,193],[150,193],[150,193],[150,193],[150,193],[150,193],[150,193],[150,193],[150,193],[150,193],[150,193],[150,193],[150,193],[350,394],[350,394],[350,394],[350,394],[250,294],[250,294],[250,294],[250,294],[250,294],[250,294],[250,294],[450,496],[450,496],[450,496],[450,496],[450,496],[450,496],[450,496],[150,192],[150,192],[150,192],[150,192],[150,192],[150,192],[250,294],[250,294],[250,294],[250,294],[250,294],[450,495],[450,495],[450,495],[450,495],[450,495],[450,495],[450,495],[450,495],[450,495],[450,495],[450,495],[450,495],[450,495],[450,495],[450,495],[450,495],[450,495],[450,495],[450,495],[450,495],[450,495],[450,495],[450,495],[450,495]]}},\"id\":\"3f27523b-ade3-4532-a944-80e2a6739855\",\"type\":\"ColumnDataSource\"},{\"attributes\":{},\"id\":\"a3a8ebeb-b6b6-4bdf-8add-7fd27f219ba7\",\"type\":\"ToolEvents\"},{\"attributes\":{\"below\":[{\"id\":\"fcbff058-7482-4e13-a3a3-d06d396641c5\",\"type\":\"LinearAxis\"}],\"left\":[{\"id\":\"549d89d7-a394-4978-8597-d7b12b8bec82\",\"type\":\"LinearAxis\"}],\"plot_width\":900,\"renderers\":[{\"id\":\"fcbff058-7482-4e13-a3a3-d06d396641c5\",\"type\":\"LinearAxis\"},{\"id\":\"67f14854-9cba-4b0e-931e-3a92be4e156f\",\"type\":\"Grid\"},{\"id\":\"549d89d7-a394-4978-8597-d7b12b8bec82\",\"type\":\"LinearAxis\"},{\"id\":\"d662cec6-bb04-498b-babc-65bfb2c0776d\",\"type\":\"Grid\"},{\"id\":\"28180212-bfd8-4bb5-aaf3-e7b0971e602e\",\"type\":\"BoxAnnotation\"},{\"id\":\"7a80ad90-937a-46db-aa86-12de2c57bd38\",\"type\":\"GlyphRenderer\"},{\"id\":\"591ee791-d069-4efb-a2b5-82b36bb9ad44\",\"type\":\"GlyphRenderer\"},{\"id\":\"7eba411f-0faa-48c1-b764-54503428d60c\",\"type\":\"LabelSet\"},{\"id\":\"073022c0-4d11-4ef3-993d-414bbc18f182\",\"type\":\"GlyphRenderer\"},{\"id\":\"276481e9-c6cd-408b-ba26-18781a1d46a1\",\"type\":\"LabelSet\"}],\"title\":{\"id\":\"42515659-dad9-4ce6-ae9f-c10c2e6a3ffe\",\"type\":\"Title\"},\"tool_events\":{\"id\":\"a3a8ebeb-b6b6-4bdf-8add-7fd27f219ba7\",\"type\":\"ToolEvents\"},\"toolbar\":{\"id\":\"878dc461-68eb-4740-bf3e-38730df17277\",\"type\":\"Toolbar\"},\"toolbar_location\":null,\"x_range\":{\"id\":\"eefe2708-3888-43bb-af35-08bbe42fea43\",\"type\":\"Range1d\"},\"y_range\":{\"id\":\"34454a08-c973-4e26-bfc7-9e54c759f82f\",\"type\":\"Range1d\"}},\"id\":\"689e1a5c-b113-4302-8528-55174ec858c6\",\"subtype\":\"Figure\",\"type\":\"Plot\"},{\"attributes\":{\"callback\":null,\"end\":136786630,\"start\":135757320},\"id\":\"eefe2708-3888-43bb-af35-08bbe42fea43\",\"type\":\"Range1d\"},{\"attributes\":{\"data_source\":{\"id\":\"e7437e9a-bc16-4134-8440-16b80225dc78\",\"type\":\"ColumnDataSource\"},\"glyph\":{\"id\":\"bdc83772-c645-4628-ae07-a31d710ac060\",\"type\":\"Quad\"},\"hover_glyph\":null,\"nonselection_glyph\":{\"id\":\"39971080-eb3b-4896-ac50-ceb25298a111\",\"type\":\"Quad\"},\"selection_glyph\":null},\"id\":\"7a80ad90-937a-46db-aa86-12de2c57bd38\",\"type\":\"GlyphRenderer\"},{\"attributes\":{\"data_source\":{\"id\":\"3f27523b-ade3-4532-a944-80e2a6739855\",\"type\":\"ColumnDataSource\"},\"glyph\":{\"id\":\"2c76bcab-0170-461f-a2af-2e62ee21e3a4\",\"type\":\"MultiLine\"},\"hover_glyph\":null,\"nonselection_glyph\":{\"id\":\"dacb8e98-a4e7-4fc3-96eb-71fd3275e123\",\"type\":\"MultiLine\"},\"selection_glyph\":null},\"id\":\"591ee791-d069-4efb-a2b5-82b36bb9ad44\",\"type\":\"GlyphRenderer\"},{\"attributes\":{\"line_color\":{\"field\":\"line_color\"},\"xs\":{\"field\":\"xs\"},\"ys\":{\"field\":\"ys\"}},\"id\":\"2c76bcab-0170-461f-a2af-2e62ee21e3a4\",\"type\":\"MultiLine\"},{\"attributes\":{\"bottom\":{\"field\":\"bottom\"},\"fill_color\":{\"value\":\"white\"},\"left\":{\"field\":\"left\"},\"right\":{\"field\":\"right\"},\"top\":{\"field\":\"top\"}},\"id\":\"76b8e7ee-89fa-4208-86a4-223c91f33a32\",\"type\":\"Quad\"},{\"attributes\":{\"bottom\":{\"field\":\"bottom\"},\"fill_color\":{\"field\":\"fill_color\"},\"left\":{\"field\":\"left\"},\"line_color\":{\"value\":null},\"right\":{\"field\":\"right\"},\"top\":{\"field\":\"top\"}},\"id\":\"bdc83772-c645-4628-ae07-a31d710ac060\",\"type\":\"Quad\"},{\"attributes\":{\"plot\":{\"id\":\"689e1a5c-b113-4302-8528-55174ec858c6\",\"subtype\":\"Figure\",\"type\":\"Plot\"}},\"id\":\"8f1e05f5-eae2-47cf-a539-d781eb2a24bf\",\"type\":\"WheelZoomTool\"},{\"attributes\":{\"plot\":{\"id\":\"689e1a5c-b113-4302-8528-55174ec858c6\",\"subtype\":\"Figure\",\"type\":\"Plot\"}},\"id\":\"40a82982-b0ab-4208-97fb-e12527844655\",\"type\":\"ResetTool\"},{\"attributes\":{\"callback\":null,\"column_names\":[\"y\",\"x\",\"vals\"],\"data\":{\"vals\":[\"4_815\",\"7_20\",\"32_1361\",\"81_857\",\"13_1227\",\"4_1442\",\"7_1303\",\"7_1760\",\"6_1114\",\"5_1296\",\"24_1504\"],\"x\":[135839805,136039834,136393658,136494985,136500475,136506375,136535876,136588031,136652491,136652953,136653925],\"y\":[95.0,62.0,399.0,95.0,198.0,399.0,299.0,501.0,197.0,299.0,500.0]}},\"id\":\"7d39bf55-78f0-4fa5-bab0-b63c9d073d81\",\"type\":\"ColumnDataSource\"},{\"attributes\":{\"bottom\":{\"field\":\"bottom\"},\"fill_alpha\":{\"value\":0.1},\"fill_color\":{\"value\":\"#1f77b4\"},\"left\":{\"field\":\"left\"},\"line_alpha\":{\"value\":0.1},\"line_color\":{\"value\":\"#1f77b4\"},\"right\":{\"field\":\"right\"},\"top\":{\"field\":\"top\"}},\"id\":\"66963fae-a137-4167-b744-090a810399ab\",\"type\":\"Quad\"},{\"attributes\":{\"formatter\":{\"id\":\"62eefb14-054d-4ea9-a0f1-c6b95dd82904\",\"type\":\"BasicTickFormatter\"},\"plot\":{\"id\":\"689e1a5c-b113-4302-8528-55174ec858c6\",\"subtype\":\"Figure\",\"type\":\"Plot\"},\"ticker\":{\"id\":\"ed79bb9f-fa91-4aea-b5df-cc715052e85e\",\"type\":\"BasicTicker\"}},\"id\":\"fcbff058-7482-4e13-a3a3-d06d396641c5\",\"type\":\"LinearAxis\"},{\"attributes\":{\"formatter\":{\"id\":\"9907014b-a093-4611-abaa-7dba595c99ba\",\"type\":\"BasicTickFormatter\"},\"plot\":{\"id\":\"689e1a5c-b113-4302-8528-55174ec858c6\",\"subtype\":\"Figure\",\"type\":\"Plot\"},\"ticker\":{\"id\":\"7da35fcd-7ec5-42d5-b362-0185b0472988\",\"type\":\"BasicTicker\"},\"visible\":null},\"id\":\"549d89d7-a394-4978-8597-d7b12b8bec82\",\"type\":\"LinearAxis\"},{\"attributes\":{\"callback\":null,\"column_names\":[\"y\",\"x\",\"vals\"],\"data\":{\"vals\":[\"RAB3GAP1\",\"ZRANB3\",\"R3HDM1\",\"UBXN4\",\"LCT\",\"MCM6\",\"DARS\"],\"x\":[135869057.0,136122878.0,136385961.0,136520911.0,136570082.5,136615621.5,136703738.0],\"y\":[560.0,560.0,560.0,560.0,560.0,560.0,560.0]}},\"id\":\"730524e4-2e89-42e7-8499-ebc648ba7415\",\"type\":\"ColumnDataSource\"},{\"attributes\":{},\"id\":\"9907014b-a093-4611-abaa-7dba595c99ba\",\"type\":\"BasicTickFormatter\"},{\"attributes\":{\"active_drag\":\"auto\",\"active_scroll\":\"auto\",\"active_tap\":\"auto\",\"tools\":[{\"id\":\"affef8ba-f572-42c3-8d70-ab24ce4388e5\",\"type\":\"PanTool\"},{\"id\":\"8f1e05f5-eae2-47cf-a539-d781eb2a24bf\",\"type\":\"WheelZoomTool\"},{\"id\":\"eee6e438-9f65-428b-8aac-1415064d2855\",\"type\":\"BoxZoomTool\"},{\"id\":\"ebb722d0-0bdc-4598-bdb5-8e696b38d6fd\",\"type\":\"SaveTool\"},{\"id\":\"40a82982-b0ab-4208-97fb-e12527844655\",\"type\":\"ResetTool\"},{\"id\":\"e01125ce-8225-46b9-bce7-606f0fe75693\",\"type\":\"HelpTool\"}]},\"id\":\"878dc461-68eb-4740-bf3e-38730df17277\",\"type\":\"Toolbar\"},{\"attributes\":{\"plot\":null,\"text\":null},\"id\":\"42515659-dad9-4ce6-ae9f-c10c2e6a3ffe\",\"type\":\"Title\"},{\"attributes\":{\"plot\":{\"id\":\"689e1a5c-b113-4302-8528-55174ec858c6\",\"subtype\":\"Figure\",\"type\":\"Plot\"}},\"id\":\"e01125ce-8225-46b9-bce7-606f0fe75693\",\"type\":\"HelpTool\"},{\"attributes\":{\"plot\":{\"id\":\"689e1a5c-b113-4302-8528-55174ec858c6\",\"subtype\":\"Figure\",\"type\":\"Plot\"}},\"id\":\"affef8ba-f572-42c3-8d70-ab24ce4388e5\",\"type\":\"PanTool\"},{\"attributes\":{\"callback\":null,\"column_names\":[\"right\",\"bottom\",\"top\",\"left\",\"fill_color\"],\"data\":{\"bottom\":[50,50,350,50,150,350,250,450,150,250,450],\"fill_color\":[\"#61c4c4\",\"#00ff00\",\"#c4c461\",\"#808080\",\"#808080\",\"#808080\",\"#808080\",\"#c46161\",\"#808080\",\"#808080\",\"#808080\"],\"left\":[135839805,136039834,136393658,136494985,136500475,136506375,136535876,136588031,136652491,136652953,136653925],\"right\":[135924467,136349562,136486342,136773638,136542560,136538939,136554890,136593678,136732772,136761175,136761853],\"top\":[90,57,394,90,193,394,294,496,192,294,495]}},\"id\":\"e7437e9a-bc16-4134-8440-16b80225dc78\",\"type\":\"ColumnDataSource\"},{\"attributes\":{\"callback\":null,\"end\":600},\"id\":\"34454a08-c973-4e26-bfc7-9e54c759f82f\",\"type\":\"Range1d\"},{\"attributes\":{\"level\":\"glyph\",\"plot\":{\"id\":\"689e1a5c-b113-4302-8528-55174ec858c6\",\"subtype\":\"Figure\",\"type\":\"Plot\"},\"source\":{\"id\":\"7d39bf55-78f0-4fa5-bab0-b63c9d073d81\",\"type\":\"ColumnDataSource\"},\"text\":{\"field\":\"vals\"},\"text_font_size\":{\"value\":\"9pt\"},\"text_font_style\":\"bold\",\"x\":{\"field\":\"x\"},\"y\":{\"field\":\"y\"}},\"id\":\"7eba411f-0faa-48c1-b764-54503428d60c\",\"type\":\"LabelSet\"},{\"attributes\":{},\"id\":\"7da35fcd-7ec5-42d5-b362-0185b0472988\",\"type\":\"BasicTicker\"},{\"attributes\":{},\"id\":\"ed79bb9f-fa91-4aea-b5df-cc715052e85e\",\"type\":\"BasicTicker\"},{\"attributes\":{\"plot\":{\"id\":\"689e1a5c-b113-4302-8528-55174ec858c6\",\"subtype\":\"Figure\",\"type\":\"Plot\"}},\"id\":\"ebb722d0-0bdc-4598-bdb5-8e696b38d6fd\",\"type\":\"SaveTool\"},{\"attributes\":{\"bottom\":{\"field\":\"bottom\"},\"fill_alpha\":{\"value\":0.1},\"fill_color\":{\"value\":\"#1f77b4\"},\"left\":{\"field\":\"left\"},\"line_alpha\":{\"value\":0.1},\"line_color\":{\"value\":\"#1f77b4\"},\"right\":{\"field\":\"right\"},\"top\":{\"field\":\"top\"}},\"id\":\"39971080-eb3b-4896-ac50-ceb25298a111\",\"type\":\"Quad\"},{\"attributes\":{\"overlay\":{\"id\":\"28180212-bfd8-4bb5-aaf3-e7b0971e602e\",\"type\":\"BoxAnnotation\"},\"plot\":{\"id\":\"689e1a5c-b113-4302-8528-55174ec858c6\",\"subtype\":\"Figure\",\"type\":\"Plot\"}},\"id\":\"eee6e438-9f65-428b-8aac-1415064d2855\",\"type\":\"BoxZoomTool\"},{\"attributes\":{\"callback\":null,\"column_names\":[\"right\",\"bottom\",\"top\",\"left\"],\"data\":{\"bottom\":[545,545,545,545,545,545,545],\"left\":[135809835,135957574,136289083,136499189,136545415,136597196,136664254],\"right\":[135928279,136288182,136482839,136542633,136594750,136634047,136743222],\"top\":[575,575,575,575,575,575,575]}},\"id\":\"f5c6704d-e63d-4ed5-8858-b172d7005cc6\",\"type\":\"ColumnDataSource\"},{\"attributes\":{\"dimension\":1,\"plot\":{\"id\":\"689e1a5c-b113-4302-8528-55174ec858c6\",\"subtype\":\"Figure\",\"type\":\"Plot\"},\"ticker\":{\"id\":\"7da35fcd-7ec5-42d5-b362-0185b0472988\",\"type\":\"BasicTicker\"}},\"id\":\"d662cec6-bb04-498b-babc-65bfb2c0776d\",\"type\":\"Grid\"},{\"attributes\":{},\"id\":\"62eefb14-054d-4ea9-a0f1-c6b95dd82904\",\"type\":\"BasicTickFormatter\"},{\"attributes\":{\"line_alpha\":{\"value\":0.1},\"line_color\":{\"value\":\"#1f77b4\"},\"xs\":{\"field\":\"xs\"},\"ys\":{\"field\":\"ys\"}},\"id\":\"dacb8e98-a4e7-4fc3-96eb-71fd3275e123\",\"type\":\"MultiLine\"},{\"attributes\":{\"level\":\"glyph\",\"plot\":{\"id\":\"689e1a5c-b113-4302-8528-55174ec858c6\",\"subtype\":\"Figure\",\"type\":\"Plot\"},\"source\":{\"id\":\"730524e4-2e89-42e7-8499-ebc648ba7415\",\"type\":\"ColumnDataSource\"},\"text\":{\"field\":\"vals\"},\"text_align\":\"center\",\"text_baseline\":\"middle\",\"text_font_size\":{\"value\":\"8pt\"},\"x\":{\"field\":\"x\"},\"y\":{\"field\":\"y\"}},\"id\":\"276481e9-c6cd-408b-ba26-18781a1d46a1\",\"type\":\"LabelSet\"}],\"root_ids\":[\"689e1a5c-b113-4302-8528-55174ec858c6\"]},\"title\":\"Bokeh Application\",\"version\":\"0.12.0\"}};\n",
       "            var render_items = [{\"docid\":\"d4b07e1f-1309-45ab-a605-ca2c7dc4fb10\",\"elementid\":\"9ae8962c-edd9-4a5c-94ac-003f3f4992cd\",\"modelid\":\"689e1a5c-b113-4302-8528-55174ec858c6\",\"notebook_comms_target\":\"04d7772d-3bf6-4d96-b489-2cf1186ab9ef\"}];\n",
       "            \n",
       "            Bokeh.embed.embed_items(docs_json, render_items);\n",
       "        });\n",
       "      },\n",
       "      function(Bokeh) {\n",
       "      }\n",
       "    ];\n",
       "  \n",
       "    function run_inline_js() {\n",
       "      for (var i = 0; i < inline_js.length; i++) {\n",
       "        inline_js[i](window.Bokeh);\n",
       "      }\n",
       "    }\n",
       "  \n",
       "    if (window._bokeh_is_loading === 0) {\n",
       "      console.log(\"Bokeh: BokehJS loaded, going straight to plotting\");\n",
       "      run_inline_js();\n",
       "    } else {\n",
       "      load_libs(js_urls, function() {\n",
       "        console.log(\"Bokeh: BokehJS plotting callback run at\", now());\n",
       "        run_inline_js();\n",
       "      });\n",
       "    }\n",
       "  }(this));\n",
       "</script>"
      ]
     },
     "metadata": {},
     "output_type": "display_data"
    },
    {
     "data": {
      "text/html": [
       "<p><code>&lt;Bokeh Notebook handle for <strong>In[25]</strong>&gt;</code></p>"
      ],
      "text/plain": [
       "<bokeh.io._CommsHandle at 0x7f3f0c0ce5d0>"
      ]
     },
     "execution_count": 25,
     "metadata": {},
     "output_type": "execute_result"
    }
   ],
   "source": [
    "plt_obj = dm.superset_allele_mask(am_29, [dm.di_4_815, dm.di_32_1361, dm.di_81_857], [dm.di_5_47, dm.di_5_684], min_match=0.001)\n",
    "plt = plt_obj.do_plot()\n",
    "show(plt)"
   ]
  },
  {
   "cell_type": "code",
   "execution_count": 26,
   "metadata": {
    "collapsed": false
   },
   "outputs": [
    {
     "data": {
      "text/html": [
       "<table>\n",
       "<thead><tr><th style=\"text-align:center\">index</th><th style=\"text-align:center\">first</th><th style=\"text-align:center\">length</th><th style=\"text-align:center\">snps</th><th style=\"text-align:center\" colspan=2>alleles</th><th style=\"text-align:center\" colspan=2>matches</th><th style=\"text-align:center\" colspan=2>afr</th><th style=\"text-align:center\" colspan=2>afx</th><th style=\"text-align:center\" colspan=2>amr</th><th style=\"text-align:center\" colspan=2>eas</th><th style=\"text-align:center\" colspan=2>eur</th><th style=\"text-align:center\" colspan=2>sas</th><th style=\"text-align:center\" colspan=2>sax</th></tr></thead>\n",
       "<tr class=\"even\"><td style=\"text-align: right;\">354033</td><td style=\"text-align: right;\">136,588,031</td><td style=\"text-align: right;\">5,647</td><td style=\"text-align: right;\">7</td><td style=\"text-align: right;\">1760</td><td style=\"text-align: right;\">0.00</td><td style=\"text-align: right;\">1</td><td style=\"text-align: right;\">1.00</td><td style=\"text-align: right;\">1</td><td style=\"text-align: right;\">4.97</td><td style=\"text-align: right;\">0</td><td style=\"text-align: right;\">0.00</td><td style=\"text-align: right;\">0</td><td style=\"text-align: right;\">0.00</td><td style=\"text-align: right;\">0</td><td style=\"text-align: right;\">0.00</td><td style=\"text-align: right;\">0</td><td style=\"text-align: right;\">0.00</td><td style=\"text-align: right;\">0</td><td style=\"text-align: right;\">0.00</td><td style=\"text-align: right;\">0</td><td style=\"text-align: right;\">0.00</td></tr>\n",
       "<tr><td style=\"text-align: right;\">354130</td><td style=\"text-align: right;\">136,653,925</td><td style=\"text-align: right;\">107,928</td><td style=\"text-align: right;\">24</td><td style=\"text-align: right;\">1504</td><td style=\"text-align: right;\">0.00</td><td style=\"text-align: right;\">1</td><td style=\"text-align: right;\">1.00</td><td style=\"text-align: right;\">1</td><td style=\"text-align: right;\">4.97</td><td style=\"text-align: right;\">0</td><td style=\"text-align: right;\">0.00</td><td style=\"text-align: right;\">0</td><td style=\"text-align: right;\">0.00</td><td style=\"text-align: right;\">0</td><td style=\"text-align: right;\">0.00</td><td style=\"text-align: right;\">0</td><td style=\"text-align: right;\">0.00</td><td style=\"text-align: right;\">0</td><td style=\"text-align: right;\">0.00</td><td style=\"text-align: right;\">0</td><td style=\"text-align: right;\">0.00</td></tr>\n",
       "<tr class=\"even\"><td style=\"text-align: right;\">353925</td><td style=\"text-align: right;\">136,506,375</td><td style=\"text-align: right;\">32,564</td><td style=\"text-align: right;\">4</td><td style=\"text-align: right;\">1442</td><td style=\"text-align: right;\">0.00</td><td style=\"text-align: right;\">1</td><td style=\"text-align: right;\">1.00</td><td style=\"text-align: right;\">1</td><td style=\"text-align: right;\">4.97</td><td style=\"text-align: right;\">0</td><td style=\"text-align: right;\">0.00</td><td style=\"text-align: right;\">0</td><td style=\"text-align: right;\">0.00</td><td style=\"text-align: right;\">0</td><td style=\"text-align: right;\">0.00</td><td style=\"text-align: right;\">0</td><td style=\"text-align: right;\">0.00</td><td style=\"text-align: right;\">0</td><td style=\"text-align: right;\">0.00</td><td style=\"text-align: right;\">0</td><td style=\"text-align: right;\">0.00</td></tr>\n",
       "<tr><td style=\"text-align: right;\">353791</td><td style=\"text-align: right;\">136,393,658</td><td style=\"text-align: right;\">92,684</td><td style=\"text-align: right;\">32</td><td style=\"text-align: right;\">1361</td><td style=\"text-align: right;\">0.00</td><td style=\"text-align: right;\">1</td><td style=\"text-align: right;\">1.00</td><td style=\"text-align: right;\">1</td><td style=\"text-align: right;\">4.97</td><td style=\"text-align: right;\">0</td><td style=\"text-align: right;\">0.00</td><td style=\"text-align: right;\">0</td><td style=\"text-align: right;\">0.00</td><td style=\"text-align: right;\">0</td><td style=\"text-align: right;\">0.00</td><td style=\"text-align: right;\">0</td><td style=\"text-align: right;\">0.00</td><td style=\"text-align: right;\">0</td><td style=\"text-align: right;\">0.00</td><td style=\"text-align: right;\">0</td><td style=\"text-align: right;\">0.00</td></tr>\n",
       "<tr class=\"even\"><td style=\"text-align: right;\">353958</td><td style=\"text-align: right;\">136,535,876</td><td style=\"text-align: right;\">19,014</td><td style=\"text-align: right;\">7</td><td style=\"text-align: right;\">1303</td><td style=\"text-align: right;\">0.00</td><td style=\"text-align: right;\">1</td><td style=\"text-align: right;\">1.00</td><td style=\"text-align: right;\">1</td><td style=\"text-align: right;\">4.97</td><td style=\"text-align: right;\">0</td><td style=\"text-align: right;\">0.00</td><td style=\"text-align: right;\">0</td><td style=\"text-align: right;\">0.00</td><td style=\"text-align: right;\">0</td><td style=\"text-align: right;\">0.00</td><td style=\"text-align: right;\">0</td><td style=\"text-align: right;\">0.00</td><td style=\"text-align: right;\">0</td><td style=\"text-align: right;\">0.00</td><td style=\"text-align: right;\">0</td><td style=\"text-align: right;\">0.00</td></tr>\n",
       "<tr><td style=\"text-align: right;\">354129</td><td style=\"text-align: right;\">136,652,953</td><td style=\"text-align: right;\">108,222</td><td style=\"text-align: right;\">5</td><td style=\"text-align: right;\">1296</td><td style=\"text-align: right;\">0.00</td><td style=\"text-align: right;\">1</td><td style=\"text-align: right;\">1.00</td><td style=\"text-align: right;\">1</td><td style=\"text-align: right;\">4.97</td><td style=\"text-align: right;\">0</td><td style=\"text-align: right;\">0.00</td><td style=\"text-align: right;\">0</td><td style=\"text-align: right;\">0.00</td><td style=\"text-align: right;\">0</td><td style=\"text-align: right;\">0.00</td><td style=\"text-align: right;\">0</td><td style=\"text-align: right;\">0.00</td><td style=\"text-align: right;\">0</td><td style=\"text-align: right;\">0.00</td><td style=\"text-align: right;\">0</td><td style=\"text-align: right;\">0.00</td></tr>\n",
       "<tr class=\"even\"><td style=\"text-align: right;\">353919</td><td style=\"text-align: right;\">136,500,475</td><td style=\"text-align: right;\">42,085</td><td style=\"text-align: right;\">13</td><td style=\"text-align: right;\">1227</td><td style=\"text-align: right;\">0.00</td><td style=\"text-align: right;\">1</td><td style=\"text-align: right;\">1.00</td><td style=\"text-align: right;\">1</td><td style=\"text-align: right;\">4.97</td><td style=\"text-align: right;\">0</td><td style=\"text-align: right;\">0.00</td><td style=\"text-align: right;\">0</td><td style=\"text-align: right;\">0.00</td><td style=\"text-align: right;\">0</td><td style=\"text-align: right;\">0.00</td><td style=\"text-align: right;\">0</td><td style=\"text-align: right;\">0.00</td><td style=\"text-align: right;\">0</td><td style=\"text-align: right;\">0.00</td><td style=\"text-align: right;\">0</td><td style=\"text-align: right;\">0.00</td></tr>\n",
       "<tr><td style=\"text-align: right;\">354127</td><td style=\"text-align: right;\">136,652,491</td><td style=\"text-align: right;\">80,281</td><td style=\"text-align: right;\">6</td><td style=\"text-align: right;\">1114</td><td style=\"text-align: right;\">0.00</td><td style=\"text-align: right;\">1</td><td style=\"text-align: right;\">1.00</td><td style=\"text-align: right;\">1</td><td style=\"text-align: right;\">4.97</td><td style=\"text-align: right;\">0</td><td style=\"text-align: right;\">0.00</td><td style=\"text-align: right;\">0</td><td style=\"text-align: right;\">0.00</td><td style=\"text-align: right;\">0</td><td style=\"text-align: right;\">0.00</td><td style=\"text-align: right;\">0</td><td style=\"text-align: right;\">0.00</td><td style=\"text-align: right;\">0</td><td style=\"text-align: right;\">0.00</td><td style=\"text-align: right;\">0</td><td style=\"text-align: right;\">0.00</td></tr>\n",
       "<tr class=\"even\"><td style=\"text-align: right;\">353902</td><td style=\"text-align: right;\">136,494,985</td><td style=\"text-align: right;\">278,653</td><td style=\"text-align: right;\">81</td><td style=\"text-align: right;\">857</td><td style=\"text-align: right;\">0.00</td><td style=\"text-align: right;\">1</td><td style=\"text-align: right;\">1.00</td><td style=\"text-align: right;\">1</td><td style=\"text-align: right;\">4.97</td><td style=\"text-align: right;\">0</td><td style=\"text-align: right;\">0.00</td><td style=\"text-align: right;\">0</td><td style=\"text-align: right;\">0.00</td><td style=\"text-align: right;\">0</td><td style=\"text-align: right;\">0.00</td><td style=\"text-align: right;\">0</td><td style=\"text-align: right;\">0.00</td><td style=\"text-align: right;\">0</td><td style=\"text-align: right;\">0.00</td><td style=\"text-align: right;\">0</td><td style=\"text-align: right;\">0.00</td></tr>\n",
       "<tr><td style=\"text-align: right;\">353384</td><td style=\"text-align: right;\">135,839,805</td><td style=\"text-align: right;\">84,662</td><td style=\"text-align: right;\">4</td><td style=\"text-align: right;\">815</td><td style=\"text-align: right;\">0.00</td><td style=\"text-align: right;\">1</td><td style=\"text-align: right;\">1.00</td><td style=\"text-align: right;\">1</td><td style=\"text-align: right;\">4.97</td><td style=\"text-align: right;\">0</td><td style=\"text-align: right;\">0.00</td><td style=\"text-align: right;\">0</td><td style=\"text-align: right;\">0.00</td><td style=\"text-align: right;\">0</td><td style=\"text-align: right;\">0.00</td><td style=\"text-align: right;\">0</td><td style=\"text-align: right;\">0.00</td><td style=\"text-align: right;\">0</td><td style=\"text-align: right;\">0.00</td><td style=\"text-align: right;\">0</td><td style=\"text-align: right;\">0.00</td></tr>\n",
       "<tr class=\"even\"><td style=\"text-align: right;\">353570</td><td style=\"text-align: right;\">136,039,834</td><td style=\"text-align: right;\">309,728</td><td style=\"text-align: right;\">7</td><td style=\"text-align: right;\">20</td><td style=\"text-align: right;\">0.05</td><td style=\"text-align: right;\">1</td><td style=\"text-align: right;\">1.00</td><td style=\"text-align: right;\">1</td><td style=\"text-align: right;\">4.97</td><td style=\"text-align: right;\">0</td><td style=\"text-align: right;\">0.00</td><td style=\"text-align: right;\">0</td><td style=\"text-align: right;\">0.00</td><td style=\"text-align: right;\">0</td><td style=\"text-align: right;\">0.00</td><td style=\"text-align: right;\">0</td><td style=\"text-align: right;\">0.00</td><td style=\"text-align: right;\">0</td><td style=\"text-align: right;\">0.00</td><td style=\"text-align: right;\">0</td><td style=\"text-align: right;\">0.00</td></tr>\n",
       "</table>"
      ],
      "text/plain": [
       "<IPython.core.display.HTML object>"
      ]
     },
     "execution_count": 26,
     "metadata": {},
     "output_type": "execute_result"
    }
   ],
   "source": [
    "HTML(plt_obj.get_html())"
   ]
  },
  {
   "cell_type": "code",
   "execution_count": 27,
   "metadata": {
    "collapsed": false
   },
   "outputs": [
    {
     "data": {
      "text/html": [
       "\n",
       "\n",
       "    <div class=\"bk-root\">\n",
       "        <div class=\"plotdiv\" id=\"df5ccc65-f9b9-4976-a068-ff52a5ae3772\"></div>\n",
       "    </div>\n",
       "<script type=\"text/javascript\">\n",
       "  \n",
       "  (function(global) {\n",
       "    function now() {\n",
       "      return new Date();\n",
       "    }\n",
       "  \n",
       "    if (typeof (window._bokeh_onload_callbacks) === \"undefined\") {\n",
       "      window._bokeh_onload_callbacks = [];\n",
       "    }\n",
       "  \n",
       "    function run_callbacks() {\n",
       "      window._bokeh_onload_callbacks.forEach(function(callback) { callback() });\n",
       "      delete window._bokeh_onload_callbacks\n",
       "      console.info(\"Bokeh: all callbacks have finished\");\n",
       "    }\n",
       "  \n",
       "    function load_libs(js_urls, callback) {\n",
       "      window._bokeh_onload_callbacks.push(callback);\n",
       "      if (window._bokeh_is_loading > 0) {\n",
       "        console.log(\"Bokeh: BokehJS is being loaded, scheduling callback at\", now());\n",
       "        return null;\n",
       "      }\n",
       "      if (js_urls == null || js_urls.length === 0) {\n",
       "        run_callbacks();\n",
       "        return null;\n",
       "      }\n",
       "      console.log(\"Bokeh: BokehJS not loaded, scheduling load and callback at\", now());\n",
       "      window._bokeh_is_loading = js_urls.length;\n",
       "      for (var i = 0; i < js_urls.length; i++) {\n",
       "        var url = js_urls[i];\n",
       "        var s = document.createElement('script');\n",
       "        s.src = url;\n",
       "        s.async = false;\n",
       "        s.onreadystatechange = s.onload = function() {\n",
       "          window._bokeh_is_loading--;\n",
       "          if (window._bokeh_is_loading === 0) {\n",
       "            console.log(\"Bokeh: all BokehJS libraries loaded\");\n",
       "            run_callbacks()\n",
       "          }\n",
       "        };\n",
       "        s.onerror = function() {\n",
       "          console.warn(\"failed to load library \" + url);\n",
       "        };\n",
       "        console.log(\"Bokeh: injecting script tag for BokehJS library: \", url);\n",
       "        document.getElementsByTagName(\"head\")[0].appendChild(s);\n",
       "      }\n",
       "    };var element = document.getElementById(\"df5ccc65-f9b9-4976-a068-ff52a5ae3772\");\n",
       "    if (element == null) {\n",
       "      console.log(\"Bokeh: ERROR: autoload.js configured with elementid 'df5ccc65-f9b9-4976-a068-ff52a5ae3772' but no matching script tag was found. \")\n",
       "      return false;\n",
       "    }\n",
       "  \n",
       "    var js_urls = [];\n",
       "  \n",
       "    var inline_js = [\n",
       "      function(Bokeh) {\n",
       "        Bokeh.$(function() {\n",
       "            var docs_json = {\"d9587d13-bbe5-43a7-9091-ed920ecaf038\":{\"roots\":{\"references\":[{\"attributes\":{\"line_alpha\":{\"value\":0.1},\"line_color\":{\"value\":\"#1f77b4\"},\"xs\":{\"field\":\"xs\"},\"ys\":{\"field\":\"ys\"}},\"id\":\"06de8d96-fcf1-4d6b-96d9-3129eab2a317\",\"type\":\"MultiLine\"},{\"attributes\":{\"active_drag\":\"auto\",\"active_scroll\":\"auto\",\"active_tap\":\"auto\",\"tools\":[{\"id\":\"b7aa3cb2-52f4-4321-8e12-49e2266856ef\",\"type\":\"PanTool\"},{\"id\":\"0bb85d0b-d8fd-497d-80f7-7b467e08142c\",\"type\":\"WheelZoomTool\"},{\"id\":\"728badfb-3467-41cb-bd05-8001f33ded6f\",\"type\":\"BoxZoomTool\"},{\"id\":\"d5c2be27-c808-4776-aa60-156221870379\",\"type\":\"SaveTool\"},{\"id\":\"e05fb307-3c53-4904-864e-f53db1d1347d\",\"type\":\"ResetTool\"},{\"id\":\"38bfc416-394d-48ba-a2a0-33b93bddd8f0\",\"type\":\"HelpTool\"}]},\"id\":\"4d77e0ee-5332-4d33-aaae-7bc7d090ef50\",\"type\":\"Toolbar\"},{\"attributes\":{\"bottom\":{\"field\":\"bottom\"},\"fill_alpha\":{\"value\":0.1},\"fill_color\":{\"value\":\"#1f77b4\"},\"left\":{\"field\":\"left\"},\"line_alpha\":{\"value\":0.1},\"line_color\":{\"value\":\"#1f77b4\"},\"right\":{\"field\":\"right\"},\"top\":{\"field\":\"top\"}},\"id\":\"53948de2-1f02-4553-9adb-23d3a12e47fe\",\"type\":\"Quad\"},{\"attributes\":{\"callback\":null,\"column_names\":[\"y\",\"x\",\"vals\"],\"data\":{\"vals\":[\"RAB3GAP1\",\"ZRANB3\",\"R3HDM1\",\"UBXN4\",\"LCT\",\"MCM6\",\"DARS\"],\"x\":[135869057.0,136122878.0,136385961.0,136520911.0,136570082.5,136615621.5,136703738.0],\"y\":[160.0,160.0,160.0,160.0,160.0,160.0,160.0]}},\"id\":\"7358fb63-1ef3-43e5-9038-b92b291331bb\",\"type\":\"ColumnDataSource\"},{\"attributes\":{\"callback\":null,\"column_names\":[\"xs\",\"ys\",\"line_color\"],\"data\":{\"line_color\":[\"black\",\"black\",\"black\",\"black\",\"black\",\"black\",\"black\",\"black\",\"black\",\"black\",\"black\",\"black\",\"black\",\"black\",\"black\",\"black\",\"black\",\"black\",\"black\",\"black\",\"black\",\"black\",\"black\",\"black\",\"black\",\"black\",\"black\",\"black\",\"black\",\"black\",\"black\",\"black\",\"black\",\"black\",\"black\",\"black\",\"black\",\"black\",\"black\",\"black\",\"black\",\"black\",\"black\"],\"xs\":[[135839805,135839805],[135866750,135866750],[135886744,135886744],[135924467,135924467],[136393658,136393658],[136396300,136396300],[136401843,136401843],[136407445,136407445],[136411879,136411879],[136412270,136412270],[136413244,136413244],[136413847,136413847],[136415217,136415217],[136416533,136416533],[136420726,136420726],[136429857,136429857],[136433740,136433740],[136436317,136436317],[136437615,136437615],[136438517,136438517],[136440300,136440300],[136443900,136443900],[136444185,136444185],[136444338,136444338],[136449254,136449254],[136451676,136451676],[136459227,136459227],[136463117,136463117],[136463454,136463454],[136467119,136467119],[136468238,136468238],[136470219,136470219],[136483355,136483355],[136485276,136485276],[136486340,136486340],[136486342,136486342],[136682274,136682274],[136691825,136691825],[136698098,136698098],[136721603,136721603],[136721995,136721995],[136755684,136755684],[136775898,136775898]],\"ys\":[[50,90],[50,90],[50,90],[50,90],[50,94],[50,94],[50,94],[50,94],[50,94],[50,94],[50,94],[50,94],[50,94],[50,94],[50,94],[50,94],[50,94],[50,94],[50,94],[50,94],[50,94],[50,94],[50,94],[50,94],[50,94],[50,94],[50,94],[50,94],[50,94],[50,94],[50,94],[50,94],[50,94],[50,94],[50,94],[50,94],[50,97],[50,97],[50,97],[50,97],[50,97],[50,97],[50,97]]}},\"id\":\"82db541a-b8d4-4f7b-9e06-44f7b24a3796\",\"type\":\"ColumnDataSource\"},{\"attributes\":{\"level\":\"glyph\",\"plot\":{\"id\":\"2d2a3345-fff1-4730-b7fe-bfbd844620e6\",\"subtype\":\"Figure\",\"type\":\"Plot\"},\"source\":{\"id\":\"7358fb63-1ef3-43e5-9038-b92b291331bb\",\"type\":\"ColumnDataSource\"},\"text\":{\"field\":\"vals\"},\"text_align\":\"center\",\"text_baseline\":\"middle\",\"text_font_size\":{\"value\":\"8pt\"},\"x\":{\"field\":\"x\"},\"y\":{\"field\":\"y\"}},\"id\":\"08e38e1c-25c1-4dbf-8c84-920f538d65e5\",\"type\":\"LabelSet\"},{\"attributes\":{\"bottom_units\":\"screen\",\"fill_alpha\":{\"value\":0.5},\"fill_color\":{\"value\":\"lightgrey\"},\"left_units\":\"screen\",\"level\":\"overlay\",\"line_alpha\":{\"value\":1.0},\"line_color\":{\"value\":\"black\"},\"line_dash\":[4,4],\"line_width\":{\"value\":2},\"plot\":null,\"render_mode\":\"css\",\"right_units\":\"screen\",\"top_units\":\"screen\"},\"id\":\"6d61dce3-2257-48fc-bfa5-0a2735bd3a54\",\"type\":\"BoxAnnotation\"},{\"attributes\":{\"bottom\":{\"field\":\"bottom\"},\"fill_color\":{\"field\":\"fill_color\"},\"left\":{\"field\":\"left\"},\"line_color\":{\"value\":null},\"right\":{\"field\":\"right\"},\"top\":{\"field\":\"top\"}},\"id\":\"48ac42ed-1287-4634-a532-fec81ce0452e\",\"type\":\"Quad\"},{\"attributes\":{\"callback\":null,\"end\":136786630,\"start\":135757320},\"id\":\"f43e389f-635b-4628-a16c-21627e3093e9\",\"type\":\"Range1d\"},{\"attributes\":{\"plot\":null,\"text\":null},\"id\":\"70f01818-d13a-4df3-ab93-960b8bdf155a\",\"type\":\"Title\"},{\"attributes\":{\"plot\":{\"id\":\"2d2a3345-fff1-4730-b7fe-bfbd844620e6\",\"subtype\":\"Figure\",\"type\":\"Plot\"}},\"id\":\"0bb85d0b-d8fd-497d-80f7-7b467e08142c\",\"type\":\"WheelZoomTool\"},{\"attributes\":{\"level\":\"glyph\",\"plot\":{\"id\":\"2d2a3345-fff1-4730-b7fe-bfbd844620e6\",\"subtype\":\"Figure\",\"type\":\"Plot\"},\"source\":{\"id\":\"257a9975-88a4-4a44-a72f-72eafa1013d3\",\"type\":\"ColumnDataSource\"},\"text\":{\"field\":\"vals\"},\"text_font_size\":{\"value\":\"9pt\"},\"text_font_style\":\"bold\",\"x\":{\"field\":\"x\"},\"y\":{\"field\":\"y\"}},\"id\":\"2f220ac3-2ded-4c2a-a454-d3ea0f510908\",\"type\":\"LabelSet\"},{\"attributes\":{},\"id\":\"16b823e5-c128-4e06-97c0-27c5df7e1ff2\",\"type\":\"ToolEvents\"},{\"attributes\":{},\"id\":\"db0a472e-4bc6-420c-befe-45089d182f6f\",\"type\":\"BasicTicker\"},{\"attributes\":{\"callback\":null,\"column_names\":[\"right\",\"bottom\",\"top\",\"left\"],\"data\":{\"bottom\":[145,145,145,145,145,145,145],\"left\":[135809835,135957574,136289083,136499189,136545415,136597196,136664254],\"right\":[135928279,136288182,136482839,136542633,136594750,136634047,136743222],\"top\":[175,175,175,175,175,175,175]}},\"id\":\"6245732e-31ff-4d9e-a716-a7d7c7c9809e\",\"type\":\"ColumnDataSource\"},{\"attributes\":{\"callback\":null,\"column_names\":[\"y\",\"x\",\"vals\"],\"data\":{\"vals\":[\"4_815\",\"32_1361\",\"7_1868\"],\"x\":[135839805,136393658,136682274],\"y\":[95.0,99.0,102.0]}},\"id\":\"257a9975-88a4-4a44-a72f-72eafa1013d3\",\"type\":\"ColumnDataSource\"},{\"attributes\":{},\"id\":\"a9752b78-127c-4f19-89f0-696c77e7ac99\",\"type\":\"BasicTicker\"},{\"attributes\":{\"bottom\":{\"field\":\"bottom\"},\"fill_color\":{\"value\":\"white\"},\"left\":{\"field\":\"left\"},\"right\":{\"field\":\"right\"},\"top\":{\"field\":\"top\"}},\"id\":\"7163c2f4-c890-4298-9fba-b36653557801\",\"type\":\"Quad\"},{\"attributes\":{\"plot\":{\"id\":\"2d2a3345-fff1-4730-b7fe-bfbd844620e6\",\"subtype\":\"Figure\",\"type\":\"Plot\"}},\"id\":\"38bfc416-394d-48ba-a2a0-33b93bddd8f0\",\"type\":\"HelpTool\"},{\"attributes\":{\"bottom\":{\"field\":\"bottom\"},\"fill_alpha\":{\"value\":0.1},\"fill_color\":{\"value\":\"#1f77b4\"},\"left\":{\"field\":\"left\"},\"line_alpha\":{\"value\":0.1},\"line_color\":{\"value\":\"#1f77b4\"},\"right\":{\"field\":\"right\"},\"top\":{\"field\":\"top\"}},\"id\":\"00d62e80-7195-4c0a-a943-21e6d76ae182\",\"type\":\"Quad\"},{\"attributes\":{\"overlay\":{\"id\":\"6d61dce3-2257-48fc-bfa5-0a2735bd3a54\",\"type\":\"BoxAnnotation\"},\"plot\":{\"id\":\"2d2a3345-fff1-4730-b7fe-bfbd844620e6\",\"subtype\":\"Figure\",\"type\":\"Plot\"}},\"id\":\"728badfb-3467-41cb-bd05-8001f33ded6f\",\"type\":\"BoxZoomTool\"},{\"attributes\":{\"below\":[{\"id\":\"29ae132a-804f-4829-a2f8-46bf46b710fb\",\"type\":\"LinearAxis\"}],\"left\":[{\"id\":\"20a5046b-6f34-421b-b56d-8926db95f004\",\"type\":\"LinearAxis\"}],\"plot_height\":200,\"plot_width\":900,\"renderers\":[{\"id\":\"29ae132a-804f-4829-a2f8-46bf46b710fb\",\"type\":\"LinearAxis\"},{\"id\":\"c5a5b043-5a30-45bb-9e22-05dd882bffcd\",\"type\":\"Grid\"},{\"id\":\"20a5046b-6f34-421b-b56d-8926db95f004\",\"type\":\"LinearAxis\"},{\"id\":\"10328871-ee2a-4af4-b324-e62cd4faf38b\",\"type\":\"Grid\"},{\"id\":\"6d61dce3-2257-48fc-bfa5-0a2735bd3a54\",\"type\":\"BoxAnnotation\"},{\"id\":\"add8373e-a11f-4bc4-8a0b-482a3fae9859\",\"type\":\"GlyphRenderer\"},{\"id\":\"7634133e-fb84-45f8-a808-1dfabe5486a3\",\"type\":\"GlyphRenderer\"},{\"id\":\"2f220ac3-2ded-4c2a-a454-d3ea0f510908\",\"type\":\"LabelSet\"},{\"id\":\"28bd7470-125d-47f0-ab91-4d466d323efa\",\"type\":\"GlyphRenderer\"},{\"id\":\"08e38e1c-25c1-4dbf-8c84-920f538d65e5\",\"type\":\"LabelSet\"}],\"title\":{\"id\":\"70f01818-d13a-4df3-ab93-960b8bdf155a\",\"type\":\"Title\"},\"tool_events\":{\"id\":\"16b823e5-c128-4e06-97c0-27c5df7e1ff2\",\"type\":\"ToolEvents\"},\"toolbar\":{\"id\":\"4d77e0ee-5332-4d33-aaae-7bc7d090ef50\",\"type\":\"Toolbar\"},\"toolbar_location\":null,\"x_range\":{\"id\":\"f43e389f-635b-4628-a16c-21627e3093e9\",\"type\":\"Range1d\"},\"y_range\":{\"id\":\"baefeb12-b401-4fea-8143-cf5e915bda1e\",\"type\":\"Range1d\"}},\"id\":\"2d2a3345-fff1-4730-b7fe-bfbd844620e6\",\"subtype\":\"Figure\",\"type\":\"Plot\"},{\"attributes\":{\"data_source\":{\"id\":\"d225635a-7d93-4987-afaa-739b55bafa2a\",\"type\":\"ColumnDataSource\"},\"glyph\":{\"id\":\"48ac42ed-1287-4634-a532-fec81ce0452e\",\"type\":\"Quad\"},\"hover_glyph\":null,\"nonselection_glyph\":{\"id\":\"00d62e80-7195-4c0a-a943-21e6d76ae182\",\"type\":\"Quad\"},\"selection_glyph\":null},\"id\":\"add8373e-a11f-4bc4-8a0b-482a3fae9859\",\"type\":\"GlyphRenderer\"},{\"attributes\":{\"plot\":{\"id\":\"2d2a3345-fff1-4730-b7fe-bfbd844620e6\",\"subtype\":\"Figure\",\"type\":\"Plot\"}},\"id\":\"b7aa3cb2-52f4-4321-8e12-49e2266856ef\",\"type\":\"PanTool\"},{\"attributes\":{\"formatter\":{\"id\":\"7f0055f7-ad2c-458b-bd00-918b05e20716\",\"type\":\"BasicTickFormatter\"},\"plot\":{\"id\":\"2d2a3345-fff1-4730-b7fe-bfbd844620e6\",\"subtype\":\"Figure\",\"type\":\"Plot\"},\"ticker\":{\"id\":\"a9752b78-127c-4f19-89f0-696c77e7ac99\",\"type\":\"BasicTicker\"},\"visible\":null},\"id\":\"20a5046b-6f34-421b-b56d-8926db95f004\",\"type\":\"LinearAxis\"},{\"attributes\":{\"callback\":null,\"end\":200},\"id\":\"baefeb12-b401-4fea-8143-cf5e915bda1e\",\"type\":\"Range1d\"},{\"attributes\":{\"dimension\":1,\"plot\":{\"id\":\"2d2a3345-fff1-4730-b7fe-bfbd844620e6\",\"subtype\":\"Figure\",\"type\":\"Plot\"},\"ticker\":{\"id\":\"a9752b78-127c-4f19-89f0-696c77e7ac99\",\"type\":\"BasicTicker\"}},\"id\":\"10328871-ee2a-4af4-b324-e62cd4faf38b\",\"type\":\"Grid\"},{\"attributes\":{},\"id\":\"5cd11d40-f1c1-48a0-a436-06887c03287a\",\"type\":\"BasicTickFormatter\"},{\"attributes\":{\"plot\":{\"id\":\"2d2a3345-fff1-4730-b7fe-bfbd844620e6\",\"subtype\":\"Figure\",\"type\":\"Plot\"}},\"id\":\"e05fb307-3c53-4904-864e-f53db1d1347d\",\"type\":\"ResetTool\"},{\"attributes\":{\"plot\":{\"id\":\"2d2a3345-fff1-4730-b7fe-bfbd844620e6\",\"subtype\":\"Figure\",\"type\":\"Plot\"},\"ticker\":{\"id\":\"db0a472e-4bc6-420c-befe-45089d182f6f\",\"type\":\"BasicTicker\"}},\"id\":\"c5a5b043-5a30-45bb-9e22-05dd882bffcd\",\"type\":\"Grid\"},{\"attributes\":{\"plot\":{\"id\":\"2d2a3345-fff1-4730-b7fe-bfbd844620e6\",\"subtype\":\"Figure\",\"type\":\"Plot\"}},\"id\":\"d5c2be27-c808-4776-aa60-156221870379\",\"type\":\"SaveTool\"},{\"attributes\":{\"callback\":null,\"column_names\":[\"right\",\"bottom\",\"top\",\"left\",\"fill_color\"],\"data\":{\"bottom\":[50,50,50],\"fill_color\":[\"#61c4c4\",\"#c4c461\",\"#61c461\"],\"left\":[135839805,136393658,136682274],\"right\":[135924467,136486342,136775898],\"top\":[90,94,97]}},\"id\":\"d225635a-7d93-4987-afaa-739b55bafa2a\",\"type\":\"ColumnDataSource\"},{\"attributes\":{\"data_source\":{\"id\":\"82db541a-b8d4-4f7b-9e06-44f7b24a3796\",\"type\":\"ColumnDataSource\"},\"glyph\":{\"id\":\"9cac5b19-76a1-4d77-afc4-22d121b51686\",\"type\":\"MultiLine\"},\"hover_glyph\":null,\"nonselection_glyph\":{\"id\":\"06de8d96-fcf1-4d6b-96d9-3129eab2a317\",\"type\":\"MultiLine\"},\"selection_glyph\":null},\"id\":\"7634133e-fb84-45f8-a808-1dfabe5486a3\",\"type\":\"GlyphRenderer\"},{\"attributes\":{\"formatter\":{\"id\":\"5cd11d40-f1c1-48a0-a436-06887c03287a\",\"type\":\"BasicTickFormatter\"},\"plot\":{\"id\":\"2d2a3345-fff1-4730-b7fe-bfbd844620e6\",\"subtype\":\"Figure\",\"type\":\"Plot\"},\"ticker\":{\"id\":\"db0a472e-4bc6-420c-befe-45089d182f6f\",\"type\":\"BasicTicker\"}},\"id\":\"29ae132a-804f-4829-a2f8-46bf46b710fb\",\"type\":\"LinearAxis\"},{\"attributes\":{},\"id\":\"7f0055f7-ad2c-458b-bd00-918b05e20716\",\"type\":\"BasicTickFormatter\"},{\"attributes\":{\"line_color\":{\"field\":\"line_color\"},\"xs\":{\"field\":\"xs\"},\"ys\":{\"field\":\"ys\"}},\"id\":\"9cac5b19-76a1-4d77-afc4-22d121b51686\",\"type\":\"MultiLine\"},{\"attributes\":{\"data_source\":{\"id\":\"6245732e-31ff-4d9e-a716-a7d7c7c9809e\",\"type\":\"ColumnDataSource\"},\"glyph\":{\"id\":\"7163c2f4-c890-4298-9fba-b36653557801\",\"type\":\"Quad\"},\"hover_glyph\":null,\"nonselection_glyph\":{\"id\":\"53948de2-1f02-4553-9adb-23d3a12e47fe\",\"type\":\"Quad\"},\"selection_glyph\":null},\"id\":\"28bd7470-125d-47f0-ab91-4d466d323efa\",\"type\":\"GlyphRenderer\"}],\"root_ids\":[\"2d2a3345-fff1-4730-b7fe-bfbd844620e6\"]},\"title\":\"Bokeh Application\",\"version\":\"0.12.0\"}};\n",
       "            var render_items = [{\"docid\":\"d9587d13-bbe5-43a7-9091-ed920ecaf038\",\"elementid\":\"df5ccc65-f9b9-4976-a068-ff52a5ae3772\",\"modelid\":\"2d2a3345-fff1-4730-b7fe-bfbd844620e6\",\"notebook_comms_target\":\"858e8935-0be8-4f7a-864e-ad040731f049\"}];\n",
       "            \n",
       "            Bokeh.embed.embed_items(docs_json, render_items);\n",
       "        });\n",
       "      },\n",
       "      function(Bokeh) {\n",
       "      }\n",
       "    ];\n",
       "  \n",
       "    function run_inline_js() {\n",
       "      for (var i = 0; i < inline_js.length; i++) {\n",
       "        inline_js[i](window.Bokeh);\n",
       "      }\n",
       "    }\n",
       "  \n",
       "    if (window._bokeh_is_loading === 0) {\n",
       "      console.log(\"Bokeh: BokehJS loaded, going straight to plotting\");\n",
       "      run_inline_js();\n",
       "    } else {\n",
       "      load_libs(js_urls, function() {\n",
       "        console.log(\"Bokeh: BokehJS plotting callback run at\", now());\n",
       "        run_inline_js();\n",
       "      });\n",
       "    }\n",
       "  }(this));\n",
       "</script>"
      ]
     },
     "metadata": {},
     "output_type": "display_data"
    },
    {
     "data": {
      "text/html": [
       "<p><code>&lt;Bokeh Notebook handle for <strong>In[27]</strong>&gt;</code></p>"
      ],
      "text/plain": [
       "<bokeh.io._CommsHandle at 0x7f3f0c2a9510>"
      ]
     },
     "execution_count": 27,
     "metadata": {},
     "output_type": "execute_result"
    }
   ],
   "source": [
    "plt_obj = dm.superset_allele_mask(am_29, [dm.di_4_815, dm.di_32_1361], [dm.di_81_857, dm.di_5_684], min_match=0.001)\n",
    "plt = plt_obj.do_plot()\n",
    "show(plt)"
   ]
  },
  {
   "cell_type": "code",
   "execution_count": 28,
   "metadata": {
    "collapsed": false
   },
   "outputs": [
    {
     "data": {
      "text/html": [
       "<table>\n",
       "<thead><tr><th style=\"text-align:center\">index</th><th style=\"text-align:center\">first</th><th style=\"text-align:center\">length</th><th style=\"text-align:center\">snps</th><th style=\"text-align:center\" colspan=2>alleles</th><th style=\"text-align:center\" colspan=2>matches</th><th style=\"text-align:center\" colspan=2>afr</th><th style=\"text-align:center\" colspan=2>afx</th><th style=\"text-align:center\" colspan=2>amr</th><th style=\"text-align:center\" colspan=2>eas</th><th style=\"text-align:center\" colspan=2>eur</th><th style=\"text-align:center\" colspan=2>sas</th><th style=\"text-align:center\" colspan=2>sax</th></tr></thead>\n",
       "<tr class=\"even\"><td style=\"text-align: right;\">354170</td><td style=\"text-align: right;\">136,682,274</td><td style=\"text-align: right;\">93,624</td><td style=\"text-align: right;\">7</td><td style=\"text-align: right;\">1868</td><td style=\"text-align: right;\">0.00</td><td style=\"text-align: right;\">1</td><td style=\"text-align: right;\">1.00</td><td style=\"text-align: right;\">0</td><td style=\"text-align: right;\">0.00</td><td style=\"text-align: right;\">0</td><td style=\"text-align: right;\">0.00</td><td style=\"text-align: right;\">0</td><td style=\"text-align: right;\">0.00</td><td style=\"text-align: right;\">0</td><td style=\"text-align: right;\">0.00</td><td style=\"text-align: right;\">1</td><td style=\"text-align: right;\">4.98</td><td style=\"text-align: right;\">0</td><td style=\"text-align: right;\">0.00</td><td style=\"text-align: right;\">0</td><td style=\"text-align: right;\">0.00</td></tr>\n",
       "<tr><td style=\"text-align: right;\">353791</td><td style=\"text-align: right;\">136,393,658</td><td style=\"text-align: right;\">92,684</td><td style=\"text-align: right;\">32</td><td style=\"text-align: right;\">1361</td><td style=\"text-align: right;\">0.00</td><td style=\"text-align: right;\">1</td><td style=\"text-align: right;\">1.00</td><td style=\"text-align: right;\">0</td><td style=\"text-align: right;\">0.00</td><td style=\"text-align: right;\">0</td><td style=\"text-align: right;\">0.00</td><td style=\"text-align: right;\">0</td><td style=\"text-align: right;\">0.00</td><td style=\"text-align: right;\">0</td><td style=\"text-align: right;\">0.00</td><td style=\"text-align: right;\">1</td><td style=\"text-align: right;\">4.98</td><td style=\"text-align: right;\">0</td><td style=\"text-align: right;\">0.00</td><td style=\"text-align: right;\">0</td><td style=\"text-align: right;\">0.00</td></tr>\n",
       "<tr class=\"even\"><td style=\"text-align: right;\">353384</td><td style=\"text-align: right;\">135,839,805</td><td style=\"text-align: right;\">84,662</td><td style=\"text-align: right;\">4</td><td style=\"text-align: right;\">815</td><td style=\"text-align: right;\">0.00</td><td style=\"text-align: right;\">1</td><td style=\"text-align: right;\">1.00</td><td style=\"text-align: right;\">0</td><td style=\"text-align: right;\">0.00</td><td style=\"text-align: right;\">0</td><td style=\"text-align: right;\">0.00</td><td style=\"text-align: right;\">0</td><td style=\"text-align: right;\">0.00</td><td style=\"text-align: right;\">0</td><td style=\"text-align: right;\">0.00</td><td style=\"text-align: right;\">1</td><td style=\"text-align: right;\">4.98</td><td style=\"text-align: right;\">0</td><td style=\"text-align: right;\">0.00</td><td style=\"text-align: right;\">0</td><td style=\"text-align: right;\">0.00</td></tr>\n",
       "</table>"
      ],
      "text/plain": [
       "<IPython.core.display.HTML object>"
      ]
     },
     "execution_count": 28,
     "metadata": {},
     "output_type": "execute_result"
    }
   ],
   "source": [
    "HTML(plt_obj.get_html())"
   ]
  },
  {
   "cell_type": "code",
   "execution_count": 29,
   "metadata": {
    "collapsed": false
   },
   "outputs": [
    {
     "data": {
      "text/html": [
       "\n",
       "\n",
       "    <div class=\"bk-root\">\n",
       "        <div class=\"plotdiv\" id=\"ca37bae1-c09a-4a79-8b62-aa352a355d87\"></div>\n",
       "    </div>\n",
       "<script type=\"text/javascript\">\n",
       "  \n",
       "  (function(global) {\n",
       "    function now() {\n",
       "      return new Date();\n",
       "    }\n",
       "  \n",
       "    if (typeof (window._bokeh_onload_callbacks) === \"undefined\") {\n",
       "      window._bokeh_onload_callbacks = [];\n",
       "    }\n",
       "  \n",
       "    function run_callbacks() {\n",
       "      window._bokeh_onload_callbacks.forEach(function(callback) { callback() });\n",
       "      delete window._bokeh_onload_callbacks\n",
       "      console.info(\"Bokeh: all callbacks have finished\");\n",
       "    }\n",
       "  \n",
       "    function load_libs(js_urls, callback) {\n",
       "      window._bokeh_onload_callbacks.push(callback);\n",
       "      if (window._bokeh_is_loading > 0) {\n",
       "        console.log(\"Bokeh: BokehJS is being loaded, scheduling callback at\", now());\n",
       "        return null;\n",
       "      }\n",
       "      if (js_urls == null || js_urls.length === 0) {\n",
       "        run_callbacks();\n",
       "        return null;\n",
       "      }\n",
       "      console.log(\"Bokeh: BokehJS not loaded, scheduling load and callback at\", now());\n",
       "      window._bokeh_is_loading = js_urls.length;\n",
       "      for (var i = 0; i < js_urls.length; i++) {\n",
       "        var url = js_urls[i];\n",
       "        var s = document.createElement('script');\n",
       "        s.src = url;\n",
       "        s.async = false;\n",
       "        s.onreadystatechange = s.onload = function() {\n",
       "          window._bokeh_is_loading--;\n",
       "          if (window._bokeh_is_loading === 0) {\n",
       "            console.log(\"Bokeh: all BokehJS libraries loaded\");\n",
       "            run_callbacks()\n",
       "          }\n",
       "        };\n",
       "        s.onerror = function() {\n",
       "          console.warn(\"failed to load library \" + url);\n",
       "        };\n",
       "        console.log(\"Bokeh: injecting script tag for BokehJS library: \", url);\n",
       "        document.getElementsByTagName(\"head\")[0].appendChild(s);\n",
       "      }\n",
       "    };var element = document.getElementById(\"ca37bae1-c09a-4a79-8b62-aa352a355d87\");\n",
       "    if (element == null) {\n",
       "      console.log(\"Bokeh: ERROR: autoload.js configured with elementid 'ca37bae1-c09a-4a79-8b62-aa352a355d87' but no matching script tag was found. \")\n",
       "      return false;\n",
       "    }\n",
       "  \n",
       "    var js_urls = [];\n",
       "  \n",
       "    var inline_js = [\n",
       "      function(Bokeh) {\n",
       "        Bokeh.$(function() {\n",
       "            var docs_json = {\"5f484c66-27f0-4f3e-9b00-cd4a2d933017\":{\"roots\":{\"references\":[{\"attributes\":{\"dimension\":1,\"plot\":{\"id\":\"f3894226-f4a8-4cd4-9e65-a441dbaf841e\",\"subtype\":\"Figure\",\"type\":\"Plot\"},\"ticker\":{\"id\":\"e77d061d-33ec-44e6-9802-ce23882d0d8a\",\"type\":\"BasicTicker\"}},\"id\":\"003d3627-6029-42fd-b129-0a40d7cdecb8\",\"type\":\"Grid\"},{\"attributes\":{\"data_source\":{\"id\":\"9a7be0df-1374-4cf8-b857-05a115a9c0f8\",\"type\":\"ColumnDataSource\"},\"glyph\":{\"id\":\"b32bfb83-1c06-4070-a885-a4e76efe5c91\",\"type\":\"Quad\"},\"hover_glyph\":null,\"nonselection_glyph\":{\"id\":\"04459b78-5df8-4f9d-9004-f25a15248f02\",\"type\":\"Quad\"},\"selection_glyph\":null},\"id\":\"1a154bad-3963-4f78-a956-318b5644e1e7\",\"type\":\"GlyphRenderer\"},{\"attributes\":{},\"id\":\"e77d061d-33ec-44e6-9802-ce23882d0d8a\",\"type\":\"BasicTicker\"},{\"attributes\":{\"line_color\":{\"field\":\"line_color\"},\"xs\":{\"field\":\"xs\"},\"ys\":{\"field\":\"ys\"}},\"id\":\"48413501-ead9-443d-b6df-9523bba8bcdd\",\"type\":\"MultiLine\"},{\"attributes\":{\"plot\":{\"id\":\"f3894226-f4a8-4cd4-9e65-a441dbaf841e\",\"subtype\":\"Figure\",\"type\":\"Plot\"},\"ticker\":{\"id\":\"d2ad0195-c685-4ba2-887f-87f8477890f3\",\"type\":\"BasicTicker\"}},\"id\":\"6814ecbd-3fd9-41bb-a003-3de5d67ec373\",\"type\":\"Grid\"},{\"attributes\":{\"level\":\"glyph\",\"plot\":{\"id\":\"f3894226-f4a8-4cd4-9e65-a441dbaf841e\",\"subtype\":\"Figure\",\"type\":\"Plot\"},\"source\":{\"id\":\"201b5a65-7e8e-402d-a072-ffabaca76d1e\",\"type\":\"ColumnDataSource\"},\"text\":{\"field\":\"vals\"},\"text_font_size\":{\"value\":\"9pt\"},\"text_font_style\":\"bold\",\"x\":{\"field\":\"x\"},\"y\":{\"field\":\"y\"}},\"id\":\"2661038a-60df-466f-8e48-13553e7acf73\",\"type\":\"LabelSet\"},{\"attributes\":{\"formatter\":{\"id\":\"1592eac0-2850-4056-9b38-e4250d6d9a83\",\"type\":\"BasicTickFormatter\"},\"plot\":{\"id\":\"f3894226-f4a8-4cd4-9e65-a441dbaf841e\",\"subtype\":\"Figure\",\"type\":\"Plot\"},\"ticker\":{\"id\":\"d2ad0195-c685-4ba2-887f-87f8477890f3\",\"type\":\"BasicTicker\"}},\"id\":\"6114c558-a63e-40bd-95a8-0d0e04544583\",\"type\":\"LinearAxis\"},{\"attributes\":{\"plot\":{\"id\":\"f3894226-f4a8-4cd4-9e65-a441dbaf841e\",\"subtype\":\"Figure\",\"type\":\"Plot\"}},\"id\":\"578ecff2-254d-4db9-a152-9980c00525a7\",\"type\":\"HelpTool\"},{\"attributes\":{\"plot\":{\"id\":\"f3894226-f4a8-4cd4-9e65-a441dbaf841e\",\"subtype\":\"Figure\",\"type\":\"Plot\"}},\"id\":\"a71d2659-e3d6-4125-a75c-8a5f02b9d216\",\"type\":\"PanTool\"},{\"attributes\":{\"bottom\":{\"field\":\"bottom\"},\"fill_alpha\":{\"value\":0.1},\"fill_color\":{\"value\":\"#1f77b4\"},\"left\":{\"field\":\"left\"},\"line_alpha\":{\"value\":0.1},\"line_color\":{\"value\":\"#1f77b4\"},\"right\":{\"field\":\"right\"},\"top\":{\"field\":\"top\"}},\"id\":\"04459b78-5df8-4f9d-9004-f25a15248f02\",\"type\":\"Quad\"},{\"attributes\":{\"active_drag\":\"auto\",\"active_scroll\":\"auto\",\"active_tap\":\"auto\",\"tools\":[{\"id\":\"a71d2659-e3d6-4125-a75c-8a5f02b9d216\",\"type\":\"PanTool\"},{\"id\":\"c03d2df4-3cbb-4f34-a124-fe99ea737b8c\",\"type\":\"WheelZoomTool\"},{\"id\":\"83fef91d-9f7e-4236-8d09-77212c46b09a\",\"type\":\"BoxZoomTool\"},{\"id\":\"07eec8af-b571-49a9-95d2-738165b80ed9\",\"type\":\"SaveTool\"},{\"id\":\"84b53356-cce8-4f8c-ba66-70895c725432\",\"type\":\"ResetTool\"},{\"id\":\"578ecff2-254d-4db9-a152-9980c00525a7\",\"type\":\"HelpTool\"}]},\"id\":\"26ea956c-784c-4a5f-bd41-815b676f1db8\",\"type\":\"Toolbar\"},{\"attributes\":{\"level\":\"glyph\",\"plot\":{\"id\":\"f3894226-f4a8-4cd4-9e65-a441dbaf841e\",\"subtype\":\"Figure\",\"type\":\"Plot\"},\"source\":{\"id\":\"98dc78cd-13d6-4535-a5bb-c212354ac454\",\"type\":\"ColumnDataSource\"},\"text\":{\"field\":\"vals\"},\"text_align\":\"center\",\"text_baseline\":\"middle\",\"text_font_size\":{\"value\":\"8pt\"},\"x\":{\"field\":\"x\"},\"y\":{\"field\":\"y\"}},\"id\":\"c527163d-9677-4d22-8a3a-0257bfa3e5c7\",\"type\":\"LabelSet\"},{\"attributes\":{\"bottom_units\":\"screen\",\"fill_alpha\":{\"value\":0.5},\"fill_color\":{\"value\":\"lightgrey\"},\"left_units\":\"screen\",\"level\":\"overlay\",\"line_alpha\":{\"value\":1.0},\"line_color\":{\"value\":\"black\"},\"line_dash\":[4,4],\"line_width\":{\"value\":2},\"plot\":null,\"render_mode\":\"css\",\"right_units\":\"screen\",\"top_units\":\"screen\"},\"id\":\"c5cd33b0-8d7b-4c7d-851b-95f8530febd3\",\"type\":\"BoxAnnotation\"},{\"attributes\":{},\"id\":\"d2ad0195-c685-4ba2-887f-87f8477890f3\",\"type\":\"BasicTicker\"},{\"attributes\":{\"below\":[{\"id\":\"6114c558-a63e-40bd-95a8-0d0e04544583\",\"type\":\"LinearAxis\"}],\"left\":[{\"id\":\"7175293b-3d6f-4c8b-b525-be0095199d92\",\"type\":\"LinearAxis\"}],\"plot_height\":800,\"plot_width\":900,\"renderers\":[{\"id\":\"6114c558-a63e-40bd-95a8-0d0e04544583\",\"type\":\"LinearAxis\"},{\"id\":\"6814ecbd-3fd9-41bb-a003-3de5d67ec373\",\"type\":\"Grid\"},{\"id\":\"7175293b-3d6f-4c8b-b525-be0095199d92\",\"type\":\"LinearAxis\"},{\"id\":\"003d3627-6029-42fd-b129-0a40d7cdecb8\",\"type\":\"Grid\"},{\"id\":\"c5cd33b0-8d7b-4c7d-851b-95f8530febd3\",\"type\":\"BoxAnnotation\"},{\"id\":\"c33233f8-a75f-4e0d-a598-8c9c18bbfe79\",\"type\":\"GlyphRenderer\"},{\"id\":\"78ff2d05-59ea-484c-ba58-5e075e249ec8\",\"type\":\"GlyphRenderer\"},{\"id\":\"2661038a-60df-466f-8e48-13553e7acf73\",\"type\":\"LabelSet\"},{\"id\":\"1a154bad-3963-4f78-a956-318b5644e1e7\",\"type\":\"GlyphRenderer\"},{\"id\":\"c527163d-9677-4d22-8a3a-0257bfa3e5c7\",\"type\":\"LabelSet\"}],\"title\":{\"id\":\"02170baf-ebd3-42ab-b609-c4d6974c2cc6\",\"type\":\"Title\"},\"tool_events\":{\"id\":\"7a918e12-9acc-4edc-827a-bce5ba968fd8\",\"type\":\"ToolEvents\"},\"toolbar\":{\"id\":\"26ea956c-784c-4a5f-bd41-815b676f1db8\",\"type\":\"Toolbar\"},\"toolbar_location\":null,\"x_range\":{\"id\":\"a54fb56c-733a-4f0d-84c5-1d617947eb6d\",\"type\":\"Range1d\"},\"y_range\":{\"id\":\"43bbad7a-f5fb-40a8-98b1-db3ab6d38112\",\"type\":\"Range1d\"}},\"id\":\"f3894226-f4a8-4cd4-9e65-a441dbaf841e\",\"subtype\":\"Figure\",\"type\":\"Plot\"},{\"attributes\":{\"callback\":null,\"end\":136786630,\"start\":135757320},\"id\":\"a54fb56c-733a-4f0d-84c5-1d617947eb6d\",\"type\":\"Range1d\"},{\"attributes\":{\"line_alpha\":{\"value\":0.1},\"line_color\":{\"value\":\"#1f77b4\"},\"xs\":{\"field\":\"xs\"},\"ys\":{\"field\":\"ys\"}},\"id\":\"7d1cc1f7-f721-4faa-bb31-b87b358cb2e4\",\"type\":\"MultiLine\"},{\"attributes\":{\"callback\":null,\"column_names\":[\"right\",\"bottom\",\"top\",\"left\"],\"data\":{\"bottom\":[745,745,745,745,745,745,745],\"left\":[135809835,135957574,136289083,136499189,136545415,136597196,136664254],\"right\":[135928279,136288182,136482839,136542633,136594750,136634047,136743222],\"top\":[775,775,775,775,775,775,775]}},\"id\":\"9a7be0df-1374-4cf8-b857-05a115a9c0f8\",\"type\":\"ColumnDataSource\"},{\"attributes\":{\"plot\":{\"id\":\"f3894226-f4a8-4cd4-9e65-a441dbaf841e\",\"subtype\":\"Figure\",\"type\":\"Plot\"}},\"id\":\"84b53356-cce8-4f8c-ba66-70895c725432\",\"type\":\"ResetTool\"},{\"attributes\":{\"formatter\":{\"id\":\"63cc89e9-4e39-4f95-8f17-5b092e395f48\",\"type\":\"BasicTickFormatter\"},\"plot\":{\"id\":\"f3894226-f4a8-4cd4-9e65-a441dbaf841e\",\"subtype\":\"Figure\",\"type\":\"Plot\"},\"ticker\":{\"id\":\"e77d061d-33ec-44e6-9802-ce23882d0d8a\",\"type\":\"BasicTicker\"},\"visible\":null},\"id\":\"7175293b-3d6f-4c8b-b525-be0095199d92\",\"type\":\"LinearAxis\"},{\"attributes\":{},\"id\":\"7a918e12-9acc-4edc-827a-bce5ba968fd8\",\"type\":\"ToolEvents\"},{\"attributes\":{\"data_source\":{\"id\":\"8d764d54-1966-4a29-ab1c-38b12e3b13df\",\"type\":\"ColumnDataSource\"},\"glyph\":{\"id\":\"48413501-ead9-443d-b6df-9523bba8bcdd\",\"type\":\"MultiLine\"},\"hover_glyph\":null,\"nonselection_glyph\":{\"id\":\"7d1cc1f7-f721-4faa-bb31-b87b358cb2e4\",\"type\":\"MultiLine\"},\"selection_glyph\":null},\"id\":\"78ff2d05-59ea-484c-ba58-5e075e249ec8\",\"type\":\"GlyphRenderer\"},{\"attributes\":{\"callback\":null,\"column_names\":[\"right\",\"bottom\",\"top\",\"left\",\"fill_color\"],\"data\":{\"bottom\":[650,350,550,150,350,250,450,550,350,450,50,350,50,650,150,50,650],\"fill_color\":[\"#808080\",\"#61c4c4\",\"#c46161\",\"#ff0000\",\"#ff0000\",\"#ff0000\",\"#808080\",\"#808080\",\"#ff0000\",\"#808080\",\"#ff0000\",\"#808080\",\"#ff0000\",\"#c46161\",\"#c46161\",\"#ff0000\",\"#61c461\"],\"left\":[135758231,135839805,135933921,136115507,136309239,136364916,136393157,136406646,136448855,136496493,136496875,136511874,136562716,136588031,136605402,136651964,136682274],\"right\":[136376515,135924467,136368563,136385280,136361560,136387893,136441410,136438078,136466831,136553925,136548206,136533195,136584714,136593678,136624686,136746252,136775898],\"top\":[696,390,595,184,390,287,493,595,387,493,75,391,73,696,182,76,697]}},\"id\":\"261c293e-ea6d-40e6-8879-1eb9abf371d3\",\"type\":\"ColumnDataSource\"},{\"attributes\":{\"data_source\":{\"id\":\"261c293e-ea6d-40e6-8879-1eb9abf371d3\",\"type\":\"ColumnDataSource\"},\"glyph\":{\"id\":\"c15a91d0-f9de-424c-9e8e-b7544a0c10ce\",\"type\":\"Quad\"},\"hover_glyph\":null,\"nonselection_glyph\":{\"id\":\"52d9da7f-ae9d-444a-8575-8fb13beff95d\",\"type\":\"Quad\"},\"selection_glyph\":null},\"id\":\"c33233f8-a75f-4e0d-a598-8c9c18bbfe79\",\"type\":\"GlyphRenderer\"},{\"attributes\":{\"overlay\":{\"id\":\"c5cd33b0-8d7b-4c7d-851b-95f8530febd3\",\"type\":\"BoxAnnotation\"},\"plot\":{\"id\":\"f3894226-f4a8-4cd4-9e65-a441dbaf841e\",\"subtype\":\"Figure\",\"type\":\"Plot\"}},\"id\":\"83fef91d-9f7e-4236-8d09-77212c46b09a\",\"type\":\"BoxZoomTool\"},{\"attributes\":{\"bottom\":{\"field\":\"bottom\"},\"fill_color\":{\"field\":\"fill_color\"},\"left\":{\"field\":\"left\"},\"line_color\":{\"value\":null},\"right\":{\"field\":\"right\"},\"top\":{\"field\":\"top\"}},\"id\":\"c15a91d0-f9de-424c-9e8e-b7544a0c10ce\",\"type\":\"Quad\"},{\"attributes\":{\"plot\":{\"id\":\"f3894226-f4a8-4cd4-9e65-a441dbaf841e\",\"subtype\":\"Figure\",\"type\":\"Plot\"}},\"id\":\"07eec8af-b571-49a9-95d2-738165b80ed9\",\"type\":\"SaveTool\"},{\"attributes\":{\"bottom\":{\"field\":\"bottom\"},\"fill_alpha\":{\"value\":0.1},\"fill_color\":{\"value\":\"#1f77b4\"},\"left\":{\"field\":\"left\"},\"line_alpha\":{\"value\":0.1},\"line_color\":{\"value\":\"#1f77b4\"},\"right\":{\"field\":\"right\"},\"top\":{\"field\":\"top\"}},\"id\":\"52d9da7f-ae9d-444a-8575-8fb13beff95d\",\"type\":\"Quad\"},{\"attributes\":{\"bottom\":{\"field\":\"bottom\"},\"fill_color\":{\"value\":\"white\"},\"left\":{\"field\":\"left\"},\"right\":{\"field\":\"right\"},\"top\":{\"field\":\"top\"}},\"id\":\"b32bfb83-1c06-4070-a885-a4e76efe5c91\",\"type\":\"Quad\"},{\"attributes\":{\"callback\":null,\"column_names\":[\"y\",\"x\",\"vals\"],\"data\":{\"vals\":[\"RAB3GAP1\",\"ZRANB3\",\"R3HDM1\",\"UBXN4\",\"LCT\",\"MCM6\",\"DARS\"],\"x\":[135869057.0,136122878.0,136385961.0,136520911.0,136570082.5,136615621.5,136703738.0],\"y\":[760.0,760.0,760.0,760.0,760.0,760.0,760.0]}},\"id\":\"98dc78cd-13d6-4535-a5bb-c212354ac454\",\"type\":\"ColumnDataSource\"},{\"attributes\":{\"plot\":{\"id\":\"f3894226-f4a8-4cd4-9e65-a441dbaf841e\",\"subtype\":\"Figure\",\"type\":\"Plot\"}},\"id\":\"c03d2df4-3cbb-4f34-a124-fe99ea737b8c\",\"type\":\"WheelZoomTool\"},{\"attributes\":{},\"id\":\"1592eac0-2850-4056-9b38-e4250d6d9a83\",\"type\":\"BasicTickFormatter\"},{\"attributes\":{\"callback\":null,\"column_names\":[\"y\",\"x\",\"vals\"],\"data\":{\"vals\":[\"117_1685\",\"4_815\",\"123_1561\",\"28_434\",\"9_887\",\"5_588\",\"10_1218\",\"5_1460\",\"4_612\",\"9_1170\",\"18_148\",\"5_976\",\"6_127\",\"7_1760\",\"8_328\",\"4_163\",\"7_1868\"],\"x\":[135758231,135839805,135933921,136115507,136309239,136364916,136393157,136406646,136448855,136496493,136496875,136511874,136562716,136588031,136605402,136651964,136682274],\"y\":[701.0,395.0,600.0,189.0,395.0,292.0,498.0,600.0,392.0,498.0,80.0,396.0,78.0,701.0,187.0,81.0,702.0]}},\"id\":\"201b5a65-7e8e-402d-a072-ffabaca76d1e\",\"type\":\"ColumnDataSource\"},{\"attributes\":{\"callback\":null,\"column_names\":[\"xs\",\"ys\",\"line_color\"],\"data\":{\"line_color\":[\"black\",\"black\",\"black\",\"black\",\"black\",\"black\",\"black\",\"black\",\"black\",\"black\",\"black\",\"black\",\"black\",\"black\",\"black\",\"black\",\"black\",\"black\",\"black\",\"black\",\"black\",\"black\",\"black\",\"black\",\"black\",\"black\",\"black\",\"black\",\"black\",\"black\",\"black\",\"black\",\"black\",\"black\",\"black\",\"black\",\"black\",\"black\",\"black\",\"black\",\"black\",\"black\",\"black\",\"black\",\"black\",\"black\",\"black\",\"black\",\"black\",\"black\",\"black\",\"black\",\"black\",\"black\",\"black\",\"black\",\"black\",\"black\",\"black\",\"black\",\"black\",\"black\",\"black\",\"black\",\"black\",\"black\",\"black\",\"black\",\"black\",\"black\",\"black\",\"black\",\"black\",\"black\",\"black\",\"black\",\"black\",\"black\",\"black\",\"black\",\"black\",\"black\",\"black\",\"black\",\"black\",\"black\",\"black\",\"black\",\"black\",\"black\",\"black\",\"black\",\"black\",\"black\",\"black\",\"black\",\"black\",\"black\",\"black\",\"black\",\"black\",\"black\",\"black\",\"black\",\"black\",\"black\",\"black\",\"black\",\"black\",\"black\",\"black\",\"black\",\"black\",\"black\",\"black\",\"black\",\"black\",\"black\",\"black\",\"black\",\"black\",\"black\",\"black\",\"black\",\"black\",\"black\",\"black\",\"black\",\"black\",\"black\",\"black\",\"black\",\"black\",\"black\",\"black\",\"black\",\"black\",\"black\",\"black\",\"black\",\"black\",\"black\",\"black\",\"black\",\"black\",\"black\",\"black\",\"black\",\"black\",\"black\",\"black\",\"black\",\"black\",\"black\",\"black\",\"black\",\"black\",\"black\",\"black\",\"black\",\"black\",\"black\",\"black\",\"black\",\"black\",\"black\",\"black\",\"black\",\"black\",\"black\",\"black\",\"black\",\"black\",\"black\",\"black\",\"black\",\"black\",\"black\",\"black\",\"black\",\"black\",\"black\",\"black\",\"black\",\"black\",\"black\",\"black\",\"black\",\"black\",\"black\",\"black\",\"black\",\"black\",\"black\",\"black\",\"black\",\"black\",\"black\",\"black\",\"black\",\"black\",\"black\",\"black\",\"black\",\"black\",\"black\",\"black\",\"black\",\"black\",\"black\",\"black\",\"black\",\"black\",\"black\",\"black\",\"black\",\"black\",\"black\",\"black\",\"black\",\"black\",\"black\",\"black\",\"black\",\"black\",\"black\",\"black\",\"black\",\"black\",\"black\",\"black\",\"black\",\"black\",\"black\",\"black\",\"black\",\"black\",\"black\",\"black\",\"black\",\"black\",\"black\",\"black\",\"black\",\"black\",\"black\",\"black\",\"black\",\"black\",\"black\",\"black\",\"black\",\"black\",\"black\",\"black\",\"black\",\"black\",\"black\",\"black\",\"black\",\"black\",\"black\",\"black\",\"black\",\"black\",\"black\",\"black\",\"black\",\"black\",\"black\",\"black\",\"black\",\"black\",\"black\",\"black\",\"black\",\"black\",\"black\",\"black\",\"black\",\"black\",\"black\",\"black\",\"black\",\"black\",\"black\",\"black\",\"black\",\"black\",\"black\",\"black\",\"black\",\"black\",\"black\",\"black\",\"black\",\"black\",\"black\",\"black\",\"black\",\"black\",\"black\",\"black\",\"black\",\"black\",\"black\",\"black\",\"black\",\"black\",\"black\",\"black\",\"black\",\"black\",\"black\",\"black\",\"black\",\"black\",\"black\",\"black\",\"black\",\"black\",\"black\",\"black\",\"black\",\"black\",\"black\",\"black\",\"black\",\"black\",\"black\",\"black\",\"black\",\"black\",\"black\",\"black\",\"black\",\"black\",\"black\",\"black\",\"black\",\"black\",\"black\",\"black\",\"black\",\"black\",\"black\",\"black\",\"black\",\"black\",\"black\",\"black\",\"black\",\"black\",\"black\",\"black\",\"black\",\"black\",\"black\",\"black\",\"black\",\"black\",\"black\",\"black\",\"black\",\"black\",\"black\",\"black\",\"black\",\"black\"],\"xs\":[[135758231,135758231],[135758520,135758520],[135766072,135766072],[135773420,135773420],[135773446,135773446],[135773617,135773617],[135773692,135773692],[135774681,135774681],[135775049,135775049],[135776430,135776430],[135778656,135778656],[135780168,135780168],[135780587,135780587],[135781301,135781301],[135781522,135781522],[135781635,135781635],[135782456,135782456],[135783157,135783157],[135783366,135783366],[135783367,135783367],[135784227,135784227],[135784733,135784733],[135785066,135785066],[135785068,135785068],[135785149,135785149],[135787148,135787148],[135787642,135787642],[135789405,135789405],[135789472,135789472],[135789682,135789682],[135789784,135789784],[135792338,135792338],[135792528,135792528],[135793565,135793565],[135793684,135793684],[135793845,135793845],[135794367,135794367],[135794986,135794986],[135795040,135795040],[135795095,135795095],[135795150,135795150],[135795385,135795385],[135795396,135795396],[135795443,135795443],[135795595,135795595],[135796000,135796000],[135796155,135796155],[135796410,135796410],[135796965,135796965],[135797223,135797223],[135797747,135797747],[135798082,135798082],[135798758,135798758],[135799082,135799082],[135800085,135800085],[135800601,135800601],[135800757,135800757],[135801228,135801228],[135801956,135801956],[135802020,135802020],[135802028,135802028],[135802050,135802050],[135802148,135802148],[135803766,135803766],[135809241,135809241],[135812969,135812969],[135814716,135814716],[135818907,135818907],[135829432,135829432],[135832131,135832131],[135849613,135849613],[135853807,135853807],[135859923,135859923],[135860305,135860305],[135861497,135861497],[135863143,135863143],[135864294,135864294],[135871624,135871624],[135872646,135872646],[135874038,135874038],[135874622,135874622],[135878814,135878814],[135880013,135880013],[135884487,135884487],[135885357,135885357],[135893853,135893853],[135895809,135895809],[135895879,135895879],[135899069,135899069],[135909462,135909462],[135912977,135912977],[135914038,135914038],[135921839,135921839],[135925002,135925002],[135928312,135928312],[135935049,135935049],[135962711,135962711],[135984172,135984172],[135994753,135994753],[135994754,135994754],[136016079,136016079],[136027264,136027264],[136052004,136052004],[136100473,136100473],[136110129,136110129],[136166536,136166536],[136169799,136169799],[136191314,136191314],[136228887,136228887],[136238453,136238453],[136288273,136288273],[136292425,136292425],[136321951,136321951],[136324564,136324564],[136327299,136327299],[136327302,136327302],[136376515,136376515],[135839805,135839805],[135866750,135866750],[135886744,135886744],[135924467,135924467],[135933921,135933921],[135939824,135939824],[135941503,135941503],[135943900,135943900],[135945474,135945474],[135949715,135949715],[135956745,135956745],[135958693,135958693],[135967778,135967778],[135972093,135972093],[135973768,135973768],[135976498,135976498],[135978428,135978428],[135990031,135990031],[135992481,135992481],[135993925,135993925],[135994838,135994838],[136000253,136000253],[136003567,136003567],[136005477,136005477],[136005971,136005971],[136020977,136020977],[136027535,136027535],[136031588,136031588],[136032905,136032905],[136042480,136042480],[136043885,136043885],[136050471,136050471],[136052898,136052898],[136054815,136054815],[136056285,136056285],[136061560,136061560],[136063685,136063685],[136069060,136069060],[136072179,136072179],[136074233,136074233],[136080721,136080721],[136080822,136080822],[136088440,136088440],[136088643,136088643],[136092416,136092416],[136092869,136092869],[136094615,136094615],[136095505,136095505],[136095604,136095604],[136096766,136096766],[136097091,136097091],[136097394,136097394],[136100243,136100243],[136101823,136101823],[136106561,136106561],[136115501,136115501],[136122622,136122622],[136123014,136123014],[136123848,136123848],[136127100,136127100],[136127950,136127950],[136128630,136128630],[136129630,136129630],[136129791,136129791],[136131324,136131324],[136135383,136135383],[136135994,136135994],[136136224,136136224],[136136366,136136366],[136136440,136136440],[136138145,136138145],[136140568,136140568],[136145882,136145882],[136147948,136147948],[136148630,136148630],[136151485,136151485],[136152802,136152802],[136156753,136156753],[136157913,136157913],[136160902,136160902],[136165765,136165765],[136171649,136171649],[136173220,136173220],[136173735,136173735],[136174552,136174552],[136175692,136175692],[136176805,136176805],[136182484,136182484],[136183188,136183188],[136187252,136187252],[136187345,136187345],[136189475,136189475],[136197702,136197702],[136198435,136198435],[136202937,136202937],[136219999,136219999],[136221500,136221500],[136226626,136226626],[136228929,136228929],[136229598,136229598],[136238270,136238270],[136238346,136238346],[136240769,136240769],[136244171,136244171],[136249245,136249245],[136250285,136250285],[136254419,136254419],[136266241,136266241],[136267808,136267808],[136272074,136272074],[136277304,136277304],[136290607,136290607],[136290663,136290663],[136291310,136291310],[136296051,136296051],[136305392,136305392],[136306890,136306890],[136310803,136310803],[136324225,136324225],[136324465,136324465],[136327305,136327305],[136329618,136329618],[136333300,136333300],[136350089,136350089],[136354204,136354204],[136360455,136360455],[136368563,136368563],[136115507,136115507],[136133627,136133627],[136135820,136135820],[136145676,136145676],[136166014,136166014],[136173684,136173684],[136176031,136176031],[136214307,136214307],[136215590,136215590],[136219265,136219265],[136219831,136219831],[136289471,136289471],[136298739,136298739],[136302296,136302296],[136302897,136302897],[136348702,136348702],[136348964,136348964],[136358707,136358707],[136359608,136359608],[136360402,136360402],[136365624,136365624],[136366970,136366970],[136367871,136367871],[136368393,136368393],[136370701,136370701],[136378539,136378539],[136378895,136378895],[136385280,136385280],[136309239,136309239],[136322472,136322472],[136323787,136323787],[136323862,136323862],[136326765,136326765],[136329500,136329500],[136331657,136331657],[136345356,136345356],[136361560,136361560],[136364916,136364916],[136369497,136369497],[136369580,136369580],[136380846,136380846],[136387893,136387893],[136393157,136393157],[136397433,136397433],[136402116,136402116],[136408291,136408291],[136421548,136421548],[136422784,136422784],[136427745,136427745],[136438950,136438950],[136439805,136439805],[136441410,136441410],[136406646,136406646],[136408821,136408821],[136412472,136412472],[136416959,136416959],[136438078,136438078],[136448855,136448855],[136456090,136456090],[136456675,136456675],[136466831,136466831],[136496493,136496493],[136496639,136496639],[136496928,136496928],[136509573,136509573],[136511951,136511951],[136537057,136537057],[136546635,136546635],[136553438,136553438],[136553925,136553925],[136496875,136496875],[136499066,136499066],[136505438,136505438],[136508372,136508372],[136514164,136514164],[136514846,136514846],[136517177,136517177],[136520305,136520305],[136521243,136521243],[136522001,136522001],[136523281,136523281],[136533585,136533585],[136534168,136534168],[136543228,136543228],[136544100,136544100],[136546151,136546151],[136547483,136547483],[136548206,136548206],[136511874,136511874],[136530248,136530248],[136530556,136530556],[136531252,136531252],[136533195,136533195],[136562716,136562716],[136569317,136569317],[136576425,136576425],[136576579,136576579],[136584376,136584376],[136584714,136584714],[136588031,136588031],[136589278,136589278],[136589379,136589379],[136589741,136589741],[136590746,136590746],[136593553,136593553],[136593678,136593678],[136605402,136605402],[136609320,136609320],[136611400,136611400],[136619744,136619744],[136621858,136621858],[136621941,136621941],[136624382,136624382],[136624686,136624686],[136651964,136651964],[136714929,136714929],[136734139,136734139],[136746252,136746252],[136682274,136682274],[136691825,136691825],[136698098,136698098],[136721603,136721603],[136721995,136721995],[136755684,136755684],[136775898,136775898]],\"ys\":[[650,696],[650,696],[650,696],[650,696],[650,696],[650,696],[650,696],[650,696],[650,696],[650,696],[650,696],[650,696],[650,696],[650,696],[650,696],[650,696],[650,696],[650,696],[650,696],[650,696],[650,696],[650,696],[650,696],[650,696],[650,696],[650,696],[650,696],[650,696],[650,696],[650,696],[650,696],[650,696],[650,696],[650,696],[650,696],[650,696],[650,696],[650,696],[650,696],[650,696],[650,696],[650,696],[650,696],[650,696],[650,696],[650,696],[650,696],[650,696],[650,696],[650,696],[650,696],[650,696],[650,696],[650,696],[650,696],[650,696],[650,696],[650,696],[650,696],[650,696],[650,696],[650,696],[650,696],[650,696],[650,696],[650,696],[650,696],[650,696],[650,696],[650,696],[650,696],[650,696],[650,696],[650,696],[650,696],[650,696],[650,696],[650,696],[650,696],[650,696],[650,696],[650,696],[650,696],[650,696],[650,696],[650,696],[650,696],[650,696],[650,696],[650,696],[650,696],[650,696],[650,696],[650,696],[650,696],[650,696],[650,696],[650,696],[650,696],[650,696],[650,696],[650,696],[650,696],[650,696],[650,696],[650,696],[650,696],[650,696],[650,696],[650,696],[650,696],[650,696],[650,696],[650,696],[650,696],[650,696],[650,696],[350,390],[350,390],[350,390],[350,390],[550,595],[550,595],[550,595],[550,595],[550,595],[550,595],[550,595],[550,595],[550,595],[550,595],[550,595],[550,595],[550,595],[550,595],[550,595],[550,595],[550,595],[550,595],[550,595],[550,595],[550,595],[550,595],[550,595],[550,595],[550,595],[550,595],[550,595],[550,595],[550,595],[550,595],[550,595],[550,595],[550,595],[550,595],[550,595],[550,595],[550,595],[550,595],[550,595],[550,595],[550,595],[550,595],[550,595],[550,595],[550,595],[550,595],[550,595],[550,595],[550,595],[550,595],[550,595],[550,595],[550,595],[550,595],[550,595],[550,595],[550,595],[550,595],[550,595],[550,595],[550,595],[550,595],[550,595],[550,595],[550,595],[550,595],[550,595],[550,595],[550,595],[550,595],[550,595],[550,595],[550,595],[550,595],[550,595],[550,595],[550,595],[550,595],[550,595],[550,595],[550,595],[550,595],[550,595],[550,595],[550,595],[550,595],[550,595],[550,595],[550,595],[550,595],[550,595],[550,595],[550,595],[550,595],[550,595],[550,595],[550,595],[550,595],[550,595],[550,595],[550,595],[550,595],[550,595],[550,595],[550,595],[550,595],[550,595],[550,595],[550,595],[550,595],[550,595],[550,595],[550,595],[550,595],[550,595],[550,595],[550,595],[550,595],[550,595],[550,595],[550,595],[550,595],[550,595],[150,184],[150,184],[150,184],[150,184],[150,184],[150,184],[150,184],[150,184],[150,184],[150,184],[150,184],[150,184],[150,184],[150,184],[150,184],[150,184],[150,184],[150,184],[150,184],[150,184],[150,184],[150,184],[150,184],[150,184],[150,184],[150,184],[150,184],[150,184],[350,390],[350,390],[350,390],[350,390],[350,390],[350,390],[350,390],[350,390],[350,390],[250,287],[250,287],[250,287],[250,287],[250,287],[450,493],[450,493],[450,493],[450,493],[450,493],[450,493],[450,493],[450,493],[450,493],[450,493],[550,595],[550,595],[550,595],[550,595],[550,595],[350,387],[350,387],[350,387],[350,387],[450,493],[450,493],[450,493],[450,493],[450,493],[450,493],[450,493],[450,493],[450,493],[50,75],[50,75],[50,75],[50,75],[50,75],[50,75],[50,75],[50,75],[50,75],[50,75],[50,75],[50,75],[50,75],[50,75],[50,75],[50,75],[50,75],[50,75],[350,391],[350,391],[350,391],[350,391],[350,391],[50,73],[50,73],[50,73],[50,73],[50,73],[50,73],[650,696],[650,696],[650,696],[650,696],[650,696],[650,696],[650,696],[150,182],[150,182],[150,182],[150,182],[150,182],[150,182],[150,182],[150,182],[50,76],[50,76],[50,76],[50,76],[650,697],[650,697],[650,697],[650,697],[650,697],[650,697],[650,697]]}},\"id\":\"8d764d54-1966-4a29-ab1c-38b12e3b13df\",\"type\":\"ColumnDataSource\"},{\"attributes\":{\"plot\":null,\"text\":null},\"id\":\"02170baf-ebd3-42ab-b609-c4d6974c2cc6\",\"type\":\"Title\"},{\"attributes\":{\"callback\":null,\"end\":800},\"id\":\"43bbad7a-f5fb-40a8-98b1-db3ab6d38112\",\"type\":\"Range1d\"},{\"attributes\":{},\"id\":\"63cc89e9-4e39-4f95-8f17-5b092e395f48\",\"type\":\"BasicTickFormatter\"}],\"root_ids\":[\"f3894226-f4a8-4cd4-9e65-a441dbaf841e\"]},\"title\":\"Bokeh Application\",\"version\":\"0.12.0\"}};\n",
       "            var render_items = [{\"docid\":\"5f484c66-27f0-4f3e-9b00-cd4a2d933017\",\"elementid\":\"ca37bae1-c09a-4a79-8b62-aa352a355d87\",\"modelid\":\"f3894226-f4a8-4cd4-9e65-a441dbaf841e\",\"notebook_comms_target\":\"c77ee4d4-8376-4c95-9439-46311ae77cf7\"}];\n",
       "            \n",
       "            Bokeh.embed.embed_items(docs_json, render_items);\n",
       "        });\n",
       "      },\n",
       "      function(Bokeh) {\n",
       "      }\n",
       "    ];\n",
       "  \n",
       "    function run_inline_js() {\n",
       "      for (var i = 0; i < inline_js.length; i++) {\n",
       "        inline_js[i](window.Bokeh);\n",
       "      }\n",
       "    }\n",
       "  \n",
       "    if (window._bokeh_is_loading === 0) {\n",
       "      console.log(\"Bokeh: BokehJS loaded, going straight to plotting\");\n",
       "      run_inline_js();\n",
       "    } else {\n",
       "      load_libs(js_urls, function() {\n",
       "        console.log(\"Bokeh: BokehJS plotting callback run at\", now());\n",
       "        run_inline_js();\n",
       "      });\n",
       "    }\n",
       "  }(this));\n",
       "</script>"
      ]
     },
     "metadata": {},
     "output_type": "display_data"
    },
    {
     "data": {
      "text/html": [
       "<p><code>&lt;Bokeh Notebook handle for <strong>In[29]</strong>&gt;</code></p>"
      ],
      "text/plain": [
       "<bokeh.io._CommsHandle at 0x7f3f0c366350>"
      ]
     },
     "execution_count": 29,
     "metadata": {},
     "output_type": "execute_result"
    }
   ],
   "source": [
    "\n",
    "plt_obj = dm.superset_allele_mask(am_29, [dm.di_4_815, dm.di_5_1460, dm.di_117_1685], \n",
    "                                  [dm.di_32_1361, dm.di_5_684], min_match=0.001)\n",
    "plt = plt_obj.do_plot()\n",
    "show(plt)"
   ]
  },
  {
   "cell_type": "code",
   "execution_count": 30,
   "metadata": {
    "collapsed": false
   },
   "outputs": [
    {
     "data": {
      "text/html": [
       "<table>\n",
       "<thead><tr><th style=\"text-align:center\">index</th><th style=\"text-align:center\">first</th><th style=\"text-align:center\">length</th><th style=\"text-align:center\">snps</th><th style=\"text-align:center\" colspan=2>alleles</th><th style=\"text-align:center\" colspan=2>matches</th><th style=\"text-align:center\" colspan=2>afr</th><th style=\"text-align:center\" colspan=2>afx</th><th style=\"text-align:center\" colspan=2>amr</th><th style=\"text-align:center\" colspan=2>eas</th><th style=\"text-align:center\" colspan=2>eur</th><th style=\"text-align:center\" colspan=2>sas</th><th style=\"text-align:center\" colspan=2>sax</th></tr></thead>\n",
       "<tr class=\"even\"><td style=\"text-align: right;\">354170</td><td style=\"text-align: right;\">136,682,274</td><td style=\"text-align: right;\">93,624</td><td style=\"text-align: right;\">7</td><td style=\"text-align: right;\">1868</td><td style=\"text-align: right;\">0.00</td><td style=\"text-align: right;\">1</td><td style=\"text-align: right;\">1.00</td><td style=\"text-align: right;\">1</td><td style=\"text-align: right;\">4.97</td><td style=\"text-align: right;\">0</td><td style=\"text-align: right;\">0.00</td><td style=\"text-align: right;\">0</td><td style=\"text-align: right;\">0.00</td><td style=\"text-align: right;\">0</td><td style=\"text-align: right;\">0.00</td><td style=\"text-align: right;\">0</td><td style=\"text-align: right;\">0.00</td><td style=\"text-align: right;\">0</td><td style=\"text-align: right;\">0.00</td><td style=\"text-align: right;\">0</td><td style=\"text-align: right;\">0.00</td></tr>\n",
       "<tr><td style=\"text-align: right;\">354033</td><td style=\"text-align: right;\">136,588,031</td><td style=\"text-align: right;\">5,647</td><td style=\"text-align: right;\">7</td><td style=\"text-align: right;\">1760</td><td style=\"text-align: right;\">0.00</td><td style=\"text-align: right;\">1</td><td style=\"text-align: right;\">1.00</td><td style=\"text-align: right;\">1</td><td style=\"text-align: right;\">4.97</td><td style=\"text-align: right;\">0</td><td style=\"text-align: right;\">0.00</td><td style=\"text-align: right;\">0</td><td style=\"text-align: right;\">0.00</td><td style=\"text-align: right;\">0</td><td style=\"text-align: right;\">0.00</td><td style=\"text-align: right;\">0</td><td style=\"text-align: right;\">0.00</td><td style=\"text-align: right;\">0</td><td style=\"text-align: right;\">0.00</td><td style=\"text-align: right;\">0</td><td style=\"text-align: right;\">0.00</td></tr>\n",
       "<tr class=\"even\"><td style=\"text-align: right;\">353244</td><td style=\"text-align: right;\">135,758,231</td><td style=\"text-align: right;\">618,284</td><td style=\"text-align: right;\">117</td><td style=\"text-align: right;\">1685</td><td style=\"text-align: right;\">0.00</td><td style=\"text-align: right;\">1</td><td style=\"text-align: right;\">1.00</td><td style=\"text-align: right;\">1</td><td style=\"text-align: right;\">4.97</td><td style=\"text-align: right;\">0</td><td style=\"text-align: right;\">0.00</td><td style=\"text-align: right;\">0</td><td style=\"text-align: right;\">0.00</td><td style=\"text-align: right;\">0</td><td style=\"text-align: right;\">0.00</td><td style=\"text-align: right;\">0</td><td style=\"text-align: right;\">0.00</td><td style=\"text-align: right;\">0</td><td style=\"text-align: right;\">0.00</td><td style=\"text-align: right;\">0</td><td style=\"text-align: right;\">0.00</td></tr>\n",
       "<tr><td style=\"text-align: right;\">353478</td><td style=\"text-align: right;\">135,933,921</td><td style=\"text-align: right;\">434,642</td><td style=\"text-align: right;\">123</td><td style=\"text-align: right;\">1561</td><td style=\"text-align: right;\">0.00</td><td style=\"text-align: right;\">1</td><td style=\"text-align: right;\">1.00</td><td style=\"text-align: right;\">1</td><td style=\"text-align: right;\">4.97</td><td style=\"text-align: right;\">0</td><td style=\"text-align: right;\">0.00</td><td style=\"text-align: right;\">0</td><td style=\"text-align: right;\">0.00</td><td style=\"text-align: right;\">0</td><td style=\"text-align: right;\">0.00</td><td style=\"text-align: right;\">0</td><td style=\"text-align: right;\">0.00</td><td style=\"text-align: right;\">0</td><td style=\"text-align: right;\">0.00</td><td style=\"text-align: right;\">0</td><td style=\"text-align: right;\">0.00</td></tr>\n",
       "<tr class=\"even\"><td style=\"text-align: right;\">353814</td><td style=\"text-align: right;\">136,406,646</td><td style=\"text-align: right;\">31,432</td><td style=\"text-align: right;\">5</td><td style=\"text-align: right;\">1460</td><td style=\"text-align: right;\">0.00</td><td style=\"text-align: right;\">1</td><td style=\"text-align: right;\">1.00</td><td style=\"text-align: right;\">1</td><td style=\"text-align: right;\">4.97</td><td style=\"text-align: right;\">0</td><td style=\"text-align: right;\">0.00</td><td style=\"text-align: right;\">0</td><td style=\"text-align: right;\">0.00</td><td style=\"text-align: right;\">0</td><td style=\"text-align: right;\">0.00</td><td style=\"text-align: right;\">0</td><td style=\"text-align: right;\">0.00</td><td style=\"text-align: right;\">0</td><td style=\"text-align: right;\">0.00</td><td style=\"text-align: right;\">0</td><td style=\"text-align: right;\">0.00</td></tr>\n",
       "<tr><td style=\"text-align: right;\">353790</td><td style=\"text-align: right;\">136,393,157</td><td style=\"text-align: right;\">48,253</td><td style=\"text-align: right;\">10</td><td style=\"text-align: right;\">1218</td><td style=\"text-align: right;\">0.00</td><td style=\"text-align: right;\">1</td><td style=\"text-align: right;\">1.00</td><td style=\"text-align: right;\">1</td><td style=\"text-align: right;\">4.97</td><td style=\"text-align: right;\">0</td><td style=\"text-align: right;\">0.00</td><td style=\"text-align: right;\">0</td><td style=\"text-align: right;\">0.00</td><td style=\"text-align: right;\">0</td><td style=\"text-align: right;\">0.00</td><td style=\"text-align: right;\">0</td><td style=\"text-align: right;\">0.00</td><td style=\"text-align: right;\">0</td><td style=\"text-align: right;\">0.00</td><td style=\"text-align: right;\">0</td><td style=\"text-align: right;\">0.00</td></tr>\n",
       "<tr class=\"even\"><td style=\"text-align: right;\">353906</td><td style=\"text-align: right;\">136,496,493</td><td style=\"text-align: right;\">57,432</td><td style=\"text-align: right;\">9</td><td style=\"text-align: right;\">1170</td><td style=\"text-align: right;\">0.00</td><td style=\"text-align: right;\">1</td><td style=\"text-align: right;\">1.00</td><td style=\"text-align: right;\">1</td><td style=\"text-align: right;\">4.97</td><td style=\"text-align: right;\">0</td><td style=\"text-align: right;\">0.00</td><td style=\"text-align: right;\">0</td><td style=\"text-align: right;\">0.00</td><td style=\"text-align: right;\">0</td><td style=\"text-align: right;\">0.00</td><td style=\"text-align: right;\">0</td><td style=\"text-align: right;\">0.00</td><td style=\"text-align: right;\">0</td><td style=\"text-align: right;\">0.00</td><td style=\"text-align: right;\">0</td><td style=\"text-align: right;\">0.00</td></tr>\n",
       "<tr><td style=\"text-align: right;\">353935</td><td style=\"text-align: right;\">136,511,874</td><td style=\"text-align: right;\">21,321</td><td style=\"text-align: right;\">5</td><td style=\"text-align: right;\">976</td><td style=\"text-align: right;\">0.00</td><td style=\"text-align: right;\">1</td><td style=\"text-align: right;\">1.00</td><td style=\"text-align: right;\">1</td><td style=\"text-align: right;\">4.97</td><td style=\"text-align: right;\">0</td><td style=\"text-align: right;\">0.00</td><td style=\"text-align: right;\">0</td><td style=\"text-align: right;\">0.00</td><td style=\"text-align: right;\">0</td><td style=\"text-align: right;\">0.00</td><td style=\"text-align: right;\">0</td><td style=\"text-align: right;\">0.00</td><td style=\"text-align: right;\">0</td><td style=\"text-align: right;\">0.00</td><td style=\"text-align: right;\">0</td><td style=\"text-align: right;\">0.00</td></tr>\n",
       "<tr class=\"even\"><td style=\"text-align: right;\">353729</td><td style=\"text-align: right;\">136,309,239</td><td style=\"text-align: right;\">52,321</td><td style=\"text-align: right;\">9</td><td style=\"text-align: right;\">887</td><td style=\"text-align: right;\">0.00</td><td style=\"text-align: right;\">1</td><td style=\"text-align: right;\">1.00</td><td style=\"text-align: right;\">1</td><td style=\"text-align: right;\">4.97</td><td style=\"text-align: right;\">0</td><td style=\"text-align: right;\">0.00</td><td style=\"text-align: right;\">0</td><td style=\"text-align: right;\">0.00</td><td style=\"text-align: right;\">0</td><td style=\"text-align: right;\">0.00</td><td style=\"text-align: right;\">0</td><td style=\"text-align: right;\">0.00</td><td style=\"text-align: right;\">0</td><td style=\"text-align: right;\">0.00</td><td style=\"text-align: right;\">0</td><td style=\"text-align: right;\">0.00</td></tr>\n",
       "<tr><td style=\"text-align: right;\">353384</td><td style=\"text-align: right;\">135,839,805</td><td style=\"text-align: right;\">84,662</td><td style=\"text-align: right;\">4</td><td style=\"text-align: right;\">815</td><td style=\"text-align: right;\">0.00</td><td style=\"text-align: right;\">1</td><td style=\"text-align: right;\">1.00</td><td style=\"text-align: right;\">1</td><td style=\"text-align: right;\">4.97</td><td style=\"text-align: right;\">0</td><td style=\"text-align: right;\">0.00</td><td style=\"text-align: right;\">0</td><td style=\"text-align: right;\">0.00</td><td style=\"text-align: right;\">0</td><td style=\"text-align: right;\">0.00</td><td style=\"text-align: right;\">0</td><td style=\"text-align: right;\">0.00</td><td style=\"text-align: right;\">0</td><td style=\"text-align: right;\">0.00</td><td style=\"text-align: right;\">0</td><td style=\"text-align: right;\">0.00</td></tr>\n",
       "<tr class=\"even\"><td style=\"text-align: right;\">353851</td><td style=\"text-align: right;\">136,448,855</td><td style=\"text-align: right;\">17,976</td><td style=\"text-align: right;\">4</td><td style=\"text-align: right;\">612</td><td style=\"text-align: right;\">0.00</td><td style=\"text-align: right;\">1</td><td style=\"text-align: right;\">1.00</td><td style=\"text-align: right;\">1</td><td style=\"text-align: right;\">4.97</td><td style=\"text-align: right;\">0</td><td style=\"text-align: right;\">0.00</td><td style=\"text-align: right;\">0</td><td style=\"text-align: right;\">0.00</td><td style=\"text-align: right;\">0</td><td style=\"text-align: right;\">0.00</td><td style=\"text-align: right;\">0</td><td style=\"text-align: right;\">0.00</td><td style=\"text-align: right;\">0</td><td style=\"text-align: right;\">0.00</td><td style=\"text-align: right;\">0</td><td style=\"text-align: right;\">0.00</td></tr>\n",
       "<tr><td style=\"text-align: right;\">353764</td><td style=\"text-align: right;\">136,364,916</td><td style=\"text-align: right;\">22,977</td><td style=\"text-align: right;\">5</td><td style=\"text-align: right;\">588</td><td style=\"text-align: right;\">0.00</td><td style=\"text-align: right;\">1</td><td style=\"text-align: right;\">1.00</td><td style=\"text-align: right;\">1</td><td style=\"text-align: right;\">4.97</td><td style=\"text-align: right;\">0</td><td style=\"text-align: right;\">0.00</td><td style=\"text-align: right;\">0</td><td style=\"text-align: right;\">0.00</td><td style=\"text-align: right;\">0</td><td style=\"text-align: right;\">0.00</td><td style=\"text-align: right;\">0</td><td style=\"text-align: right;\">0.00</td><td style=\"text-align: right;\">0</td><td style=\"text-align: right;\">0.00</td><td style=\"text-align: right;\">0</td><td style=\"text-align: right;\">0.00</td></tr>\n",
       "<tr class=\"even\"><td style=\"text-align: right;\">353614</td><td style=\"text-align: right;\">136,115,507</td><td style=\"text-align: right;\">269,773</td><td style=\"text-align: right;\">28</td><td style=\"text-align: right;\">434</td><td style=\"text-align: right;\">0.00</td><td style=\"text-align: right;\">1</td><td style=\"text-align: right;\">1.00</td><td style=\"text-align: right;\">1</td><td style=\"text-align: right;\">4.97</td><td style=\"text-align: right;\">0</td><td style=\"text-align: right;\">0.00</td><td style=\"text-align: right;\">0</td><td style=\"text-align: right;\">0.00</td><td style=\"text-align: right;\">0</td><td style=\"text-align: right;\">0.00</td><td style=\"text-align: right;\">0</td><td style=\"text-align: right;\">0.00</td><td style=\"text-align: right;\">0</td><td style=\"text-align: right;\">0.00</td><td style=\"text-align: right;\">0</td><td style=\"text-align: right;\">0.00</td></tr>\n",
       "<tr><td style=\"text-align: right;\">354064</td><td style=\"text-align: right;\">136,605,402</td><td style=\"text-align: right;\">19,284</td><td style=\"text-align: right;\">8</td><td style=\"text-align: right;\">328</td><td style=\"text-align: right;\">0.00</td><td style=\"text-align: right;\">1</td><td style=\"text-align: right;\">1.00</td><td style=\"text-align: right;\">1</td><td style=\"text-align: right;\">4.97</td><td style=\"text-align: right;\">0</td><td style=\"text-align: right;\">0.00</td><td style=\"text-align: right;\">0</td><td style=\"text-align: right;\">0.00</td><td style=\"text-align: right;\">0</td><td style=\"text-align: right;\">0.00</td><td style=\"text-align: right;\">0</td><td style=\"text-align: right;\">0.00</td><td style=\"text-align: right;\">0</td><td style=\"text-align: right;\">0.00</td><td style=\"text-align: right;\">0</td><td style=\"text-align: right;\">0.00</td></tr>\n",
       "<tr class=\"even\"><td style=\"text-align: right;\">354124</td><td style=\"text-align: right;\">136,651,964</td><td style=\"text-align: right;\">94,288</td><td style=\"text-align: right;\">4</td><td style=\"text-align: right;\">163</td><td style=\"text-align: right;\">0.01</td><td style=\"text-align: right;\">1</td><td style=\"text-align: right;\">1.00</td><td style=\"text-align: right;\">1</td><td style=\"text-align: right;\">4.97</td><td style=\"text-align: right;\">0</td><td style=\"text-align: right;\">0.00</td><td style=\"text-align: right;\">0</td><td style=\"text-align: right;\">0.00</td><td style=\"text-align: right;\">0</td><td style=\"text-align: right;\">0.00</td><td style=\"text-align: right;\">0</td><td style=\"text-align: right;\">0.00</td><td style=\"text-align: right;\">0</td><td style=\"text-align: right;\">0.00</td><td style=\"text-align: right;\">0</td><td style=\"text-align: right;\">0.00</td></tr>\n",
       "<tr><td style=\"text-align: right;\">353909</td><td style=\"text-align: right;\">136,496,875</td><td style=\"text-align: right;\">51,331</td><td style=\"text-align: right;\">18</td><td style=\"text-align: right;\">148</td><td style=\"text-align: right;\">0.01</td><td style=\"text-align: right;\">1</td><td style=\"text-align: right;\">1.00</td><td style=\"text-align: right;\">1</td><td style=\"text-align: right;\">4.97</td><td style=\"text-align: right;\">0</td><td style=\"text-align: right;\">0.00</td><td style=\"text-align: right;\">0</td><td style=\"text-align: right;\">0.00</td><td style=\"text-align: right;\">0</td><td style=\"text-align: right;\">0.00</td><td style=\"text-align: right;\">0</td><td style=\"text-align: right;\">0.00</td><td style=\"text-align: right;\">0</td><td style=\"text-align: right;\">0.00</td><td style=\"text-align: right;\">0</td><td style=\"text-align: right;\">0.00</td></tr>\n",
       "<tr class=\"even\"><td style=\"text-align: right;\">353992</td><td style=\"text-align: right;\">136,562,716</td><td style=\"text-align: right;\">21,998</td><td style=\"text-align: right;\">6</td><td style=\"text-align: right;\">127</td><td style=\"text-align: right;\">0.01</td><td style=\"text-align: right;\">1</td><td style=\"text-align: right;\">1.00</td><td style=\"text-align: right;\">1</td><td style=\"text-align: right;\">4.97</td><td style=\"text-align: right;\">0</td><td style=\"text-align: right;\">0.00</td><td style=\"text-align: right;\">0</td><td style=\"text-align: right;\">0.00</td><td style=\"text-align: right;\">0</td><td style=\"text-align: right;\">0.00</td><td style=\"text-align: right;\">0</td><td style=\"text-align: right;\">0.00</td><td style=\"text-align: right;\">0</td><td style=\"text-align: right;\">0.00</td><td style=\"text-align: right;\">0</td><td style=\"text-align: right;\">0.00</td></tr>\n",
       "</table>"
      ],
      "text/plain": [
       "<IPython.core.display.HTML object>"
      ]
     },
     "execution_count": 30,
     "metadata": {},
     "output_type": "execute_result"
    }
   ],
   "source": [
    "HTML(plt_obj.get_html())"
   ]
  },
  {
   "cell_type": "code",
   "execution_count": 31,
   "metadata": {
    "collapsed": false
   },
   "outputs": [
    {
     "data": {
      "text/html": [
       "\n",
       "\n",
       "    <div class=\"bk-root\">\n",
       "        <div class=\"plotdiv\" id=\"7d44a052-4989-4f09-a4ad-658aa8184cbd\"></div>\n",
       "    </div>\n",
       "<script type=\"text/javascript\">\n",
       "  \n",
       "  (function(global) {\n",
       "    function now() {\n",
       "      return new Date();\n",
       "    }\n",
       "  \n",
       "    if (typeof (window._bokeh_onload_callbacks) === \"undefined\") {\n",
       "      window._bokeh_onload_callbacks = [];\n",
       "    }\n",
       "  \n",
       "    function run_callbacks() {\n",
       "      window._bokeh_onload_callbacks.forEach(function(callback) { callback() });\n",
       "      delete window._bokeh_onload_callbacks\n",
       "      console.info(\"Bokeh: all callbacks have finished\");\n",
       "    }\n",
       "  \n",
       "    function load_libs(js_urls, callback) {\n",
       "      window._bokeh_onload_callbacks.push(callback);\n",
       "      if (window._bokeh_is_loading > 0) {\n",
       "        console.log(\"Bokeh: BokehJS is being loaded, scheduling callback at\", now());\n",
       "        return null;\n",
       "      }\n",
       "      if (js_urls == null || js_urls.length === 0) {\n",
       "        run_callbacks();\n",
       "        return null;\n",
       "      }\n",
       "      console.log(\"Bokeh: BokehJS not loaded, scheduling load and callback at\", now());\n",
       "      window._bokeh_is_loading = js_urls.length;\n",
       "      for (var i = 0; i < js_urls.length; i++) {\n",
       "        var url = js_urls[i];\n",
       "        var s = document.createElement('script');\n",
       "        s.src = url;\n",
       "        s.async = false;\n",
       "        s.onreadystatechange = s.onload = function() {\n",
       "          window._bokeh_is_loading--;\n",
       "          if (window._bokeh_is_loading === 0) {\n",
       "            console.log(\"Bokeh: all BokehJS libraries loaded\");\n",
       "            run_callbacks()\n",
       "          }\n",
       "        };\n",
       "        s.onerror = function() {\n",
       "          console.warn(\"failed to load library \" + url);\n",
       "        };\n",
       "        console.log(\"Bokeh: injecting script tag for BokehJS library: \", url);\n",
       "        document.getElementsByTagName(\"head\")[0].appendChild(s);\n",
       "      }\n",
       "    };var element = document.getElementById(\"7d44a052-4989-4f09-a4ad-658aa8184cbd\");\n",
       "    if (element == null) {\n",
       "      console.log(\"Bokeh: ERROR: autoload.js configured with elementid '7d44a052-4989-4f09-a4ad-658aa8184cbd' but no matching script tag was found. \")\n",
       "      return false;\n",
       "    }\n",
       "  \n",
       "    var js_urls = [];\n",
       "  \n",
       "    var inline_js = [\n",
       "      function(Bokeh) {\n",
       "        Bokeh.$(function() {\n",
       "            var docs_json = {\"15abc657-e3f5-43ee-abcf-6cf196e54897\":{\"roots\":{\"references\":[{\"attributes\":{\"level\":\"glyph\",\"plot\":{\"id\":\"ab76fe41-ba98-4d35-a7fb-80994a09db98\",\"subtype\":\"Figure\",\"type\":\"Plot\"},\"source\":{\"id\":\"224e195f-7f76-411e-b54e-129b997701eb\",\"type\":\"ColumnDataSource\"},\"text\":{\"field\":\"vals\"},\"text_font_size\":{\"value\":\"9pt\"},\"text_font_style\":\"bold\",\"x\":{\"field\":\"x\"},\"y\":{\"field\":\"y\"}},\"id\":\"da3aad24-0a30-4553-bf14-bb8fea5a2e8c\",\"type\":\"LabelSet\"},{\"attributes\":{\"plot\":{\"id\":\"ab76fe41-ba98-4d35-a7fb-80994a09db98\",\"subtype\":\"Figure\",\"type\":\"Plot\"}},\"id\":\"1dac6ac6-01a2-4c76-94fb-490a4df173b2\",\"type\":\"WheelZoomTool\"},{\"attributes\":{\"line_alpha\":{\"value\":0.1},\"line_color\":{\"value\":\"#1f77b4\"},\"xs\":{\"field\":\"xs\"},\"ys\":{\"field\":\"ys\"}},\"id\":\"f3ed6556-ac98-495b-b290-d6eddf2d6c22\",\"type\":\"MultiLine\"},{\"attributes\":{\"callback\":null,\"column_names\":[\"y\",\"x\",\"vals\"],\"data\":{\"vals\":[\"RAB3GAP1\",\"ZRANB3\",\"R3HDM1\",\"UBXN4\",\"LCT\",\"MCM6\",\"DARS\"],\"x\":[135869057.0,136122878.0,136385961.0,136520911.0,136570082.5,136615621.5,136703738.0],\"y\":[560.0,560.0,560.0,560.0,560.0,560.0,560.0]}},\"id\":\"23a6a5a2-a444-45cf-9fb3-f2d478177ce6\",\"type\":\"ColumnDataSource\"},{\"attributes\":{\"callback\":null,\"column_names\":[\"xs\",\"ys\",\"line_color\"],\"data\":{\"line_color\":[\"black\",\"black\",\"black\",\"black\",\"black\",\"black\",\"black\",\"black\",\"black\",\"black\",\"black\",\"black\",\"black\",\"black\",\"black\",\"black\",\"black\",\"black\",\"black\",\"black\",\"black\",\"black\",\"black\",\"black\",\"black\",\"black\",\"black\",\"black\",\"black\",\"black\",\"black\",\"black\",\"black\",\"black\",\"black\",\"black\",\"black\",\"black\",\"black\",\"black\",\"black\",\"black\",\"black\",\"black\",\"black\",\"black\",\"black\",\"black\",\"black\",\"black\",\"black\",\"black\",\"black\",\"black\",\"black\",\"black\",\"black\",\"black\",\"black\",\"black\",\"black\",\"black\",\"black\",\"black\",\"black\",\"black\",\"black\",\"black\",\"black\",\"black\",\"black\",\"black\",\"black\",\"black\",\"black\",\"black\",\"black\",\"black\",\"black\",\"black\",\"black\",\"black\",\"black\",\"black\",\"black\",\"black\",\"black\",\"black\",\"black\",\"black\",\"black\",\"black\",\"black\",\"black\"],\"xs\":[[135839805,135839805],[135866750,135866750],[135886744,135886744],[135924467,135924467],[136403994,136403994],[136405878,136405878],[136409574,136409574],[136413225,136413225],[136418741,136418741],[136429088,136429088],[136432121,136432121],[136449305,136449305],[136451432,136451432],[136470978,136470978],[136472107,136472107],[136477100,136477100],[136485096,136485096],[136406646,136406646],[136408821,136408821],[136412472,136412472],[136416959,136416959],[136438078,136438078],[136447707,136447707],[136460324,136460324],[136472357,136472357],[136490266,136490266],[136496493,136496493],[136496639,136496639],[136496928,136496928],[136509573,136509573],[136511951,136511951],[136537057,136537057],[136546635,136546635],[136553438,136553438],[136553925,136553925],[136496805,136496805],[136496910,136496910],[136515859,136515859],[136515924,136515924],[136520186,136520186],[136524766,136524766],[136535364,136535364],[136536113,136536113],[136552629,136552629],[136511874,136511874],[136530248,136530248],[136530556,136530556],[136531252,136531252],[136533195,136533195],[136514709,136514709],[136516308,136516308],[136520100,136520100],[136521595,136521595],[136523045,136523045],[136543147,136543147],[136556805,136556805],[136560003,136560003],[136562472,136562472],[136563248,136563248],[136565328,136565328],[136570613,136570613],[136571982,136571982],[136574305,136574305],[136578040,136578040],[136578194,136578194],[136580398,136580398],[136586828,136586828],[136590558,136590558],[136592309,136592309],[136593541,136593541],[136593694,136593694],[136595426,136595426],[136615222,136615222],[136624919,136624919],[136626004,136626004],[136628380,136628380],[136636909,136636909],[136637350,136637350],[136637622,136637622],[136639487,136639487],[136646900,136646900],[136652093,136652093],[136652859,136652859],[136655620,136655620],[136667896,136667896],[136671801,136671801],[136677192,136677192],[136683293,136683293],[136704414,136704414],[136720344,136720344],[136731066,136731066],[136733897,136733897],[136743490,136743490],[136747085,136747085]],\"ys\":[[50,90],[50,90],[50,90],[50,90],[150,190],[150,190],[150,190],[150,190],[150,190],[150,190],[150,190],[150,190],[150,190],[150,190],[150,190],[150,190],[150,190],[450,495],[450,495],[450,495],[450,495],[450,495],[350,392],[350,392],[350,392],[350,392],[450,493],[450,493],[450,493],[450,493],[450,493],[450,493],[450,493],[450,493],[450,493],[250,291],[250,291],[250,291],[250,291],[250,291],[250,291],[250,291],[250,291],[250,291],[150,191],[150,191],[150,191],[150,191],[150,191],[50,90],[50,90],[50,90],[50,90],[50,90],[50,90],[250,291],[250,291],[250,291],[250,291],[250,291],[250,291],[250,291],[250,291],[250,291],[250,291],[250,291],[250,291],[250,291],[250,291],[250,291],[250,291],[250,291],[250,291],[250,291],[250,291],[250,291],[250,291],[250,291],[250,291],[250,291],[250,291],[250,291],[250,291],[250,291],[250,291],[250,291],[250,291],[250,291],[250,291],[250,291],[250,291],[250,291],[250,291],[250,291]]}},\"id\":\"c88a8e5a-2968-48f2-8951-41df1217ad6b\",\"type\":\"ColumnDataSource\"},{\"attributes\":{},\"id\":\"0a88c46d-d4a8-47f1-8144-c32155d366f0\",\"type\":\"ToolEvents\"},{\"attributes\":{\"plot\":{\"id\":\"ab76fe41-ba98-4d35-a7fb-80994a09db98\",\"subtype\":\"Figure\",\"type\":\"Plot\"},\"ticker\":{\"id\":\"13670391-5991-42a0-accb-2de112d0eb1e\",\"type\":\"BasicTicker\"}},\"id\":\"11e12720-774f-47f4-821f-22e27c034f9f\",\"type\":\"Grid\"},{\"attributes\":{\"bottom\":{\"field\":\"bottom\"},\"fill_alpha\":{\"value\":0.1},\"fill_color\":{\"value\":\"#1f77b4\"},\"left\":{\"field\":\"left\"},\"line_alpha\":{\"value\":0.1},\"line_color\":{\"value\":\"#1f77b4\"},\"right\":{\"field\":\"right\"},\"top\":{\"field\":\"top\"}},\"id\":\"7bbcd9ad-3ced-49cc-81fc-12c9bdae35a4\",\"type\":\"Quad\"},{\"attributes\":{},\"id\":\"8897f6c5-f6ef-464b-89be-64b980a4f9f3\",\"type\":\"BasicTickFormatter\"},{\"attributes\":{\"active_drag\":\"auto\",\"active_scroll\":\"auto\",\"active_tap\":\"auto\",\"tools\":[{\"id\":\"dacd5d4d-ee2a-4d6e-82b7-ff10db78a383\",\"type\":\"PanTool\"},{\"id\":\"1dac6ac6-01a2-4c76-94fb-490a4df173b2\",\"type\":\"WheelZoomTool\"},{\"id\":\"27fefe0d-9b2b-4a5c-b84e-4e249a4d3d17\",\"type\":\"BoxZoomTool\"},{\"id\":\"b76093d1-6834-4512-a0b2-74a5706155da\",\"type\":\"SaveTool\"},{\"id\":\"4515c9ec-2cf9-405d-b8bd-e42c03f1170a\",\"type\":\"ResetTool\"},{\"id\":\"6bd059d6-0cdc-470c-b7e0-2787ee2bb4d6\",\"type\":\"HelpTool\"}]},\"id\":\"3b8b7ce5-b8ea-486f-bfa0-f449f3f54169\",\"type\":\"Toolbar\"},{\"attributes\":{\"bottom\":{\"field\":\"bottom\"},\"fill_color\":{\"value\":\"white\"},\"left\":{\"field\":\"left\"},\"right\":{\"field\":\"right\"},\"top\":{\"field\":\"top\"}},\"id\":\"e404d4a6-c554-4486-9b18-06be809cae1c\",\"type\":\"Quad\"},{\"attributes\":{\"plot\":{\"id\":\"ab76fe41-ba98-4d35-a7fb-80994a09db98\",\"subtype\":\"Figure\",\"type\":\"Plot\"}},\"id\":\"dacd5d4d-ee2a-4d6e-82b7-ff10db78a383\",\"type\":\"PanTool\"},{\"attributes\":{\"bottom\":{\"field\":\"bottom\"},\"fill_color\":{\"field\":\"fill_color\"},\"left\":{\"field\":\"left\"},\"line_color\":{\"value\":null},\"right\":{\"field\":\"right\"},\"top\":{\"field\":\"top\"}},\"id\":\"8256e19c-3fb7-424e-b5a7-a9ec447ffcaf\",\"type\":\"Quad\"},{\"attributes\":{\"level\":\"glyph\",\"plot\":{\"id\":\"ab76fe41-ba98-4d35-a7fb-80994a09db98\",\"subtype\":\"Figure\",\"type\":\"Plot\"},\"source\":{\"id\":\"23a6a5a2-a444-45cf-9fb3-f2d478177ce6\",\"type\":\"ColumnDataSource\"},\"text\":{\"field\":\"vals\"},\"text_align\":\"center\",\"text_baseline\":\"middle\",\"text_font_size\":{\"value\":\"8pt\"},\"x\":{\"field\":\"x\"},\"y\":{\"field\":\"y\"}},\"id\":\"9ca40797-0120-406f-8cfa-a0bba65093a3\",\"type\":\"LabelSet\"},{\"attributes\":{\"data_source\":{\"id\":\"433f33e3-df72-4ee9-b9d4-ad3d2261e10e\",\"type\":\"ColumnDataSource\"},\"glyph\":{\"id\":\"8256e19c-3fb7-424e-b5a7-a9ec447ffcaf\",\"type\":\"Quad\"},\"hover_glyph\":null,\"nonselection_glyph\":{\"id\":\"26452187-c839-4201-99dc-3605b3c19d5c\",\"type\":\"Quad\"},\"selection_glyph\":null},\"id\":\"28ecd968-e37f-42bf-8169-cc3a913d7958\",\"type\":\"GlyphRenderer\"},{\"attributes\":{\"bottom\":{\"field\":\"bottom\"},\"fill_alpha\":{\"value\":0.1},\"fill_color\":{\"value\":\"#1f77b4\"},\"left\":{\"field\":\"left\"},\"line_alpha\":{\"value\":0.1},\"line_color\":{\"value\":\"#1f77b4\"},\"right\":{\"field\":\"right\"},\"top\":{\"field\":\"top\"}},\"id\":\"26452187-c839-4201-99dc-3605b3c19d5c\",\"type\":\"Quad\"},{\"attributes\":{\"line_color\":{\"field\":\"line_color\"},\"xs\":{\"field\":\"xs\"},\"ys\":{\"field\":\"ys\"}},\"id\":\"1f5f4714-fd67-4a4e-b9fd-8e3e6ab2c225\",\"type\":\"MultiLine\"},{\"attributes\":{\"bottom_units\":\"screen\",\"fill_alpha\":{\"value\":0.5},\"fill_color\":{\"value\":\"lightgrey\"},\"left_units\":\"screen\",\"level\":\"overlay\",\"line_alpha\":{\"value\":1.0},\"line_color\":{\"value\":\"black\"},\"line_dash\":[4,4],\"line_width\":{\"value\":2},\"plot\":null,\"render_mode\":\"css\",\"right_units\":\"screen\",\"top_units\":\"screen\"},\"id\":\"5ce0ffb5-61aa-4e0f-9c43-8c48475db7b0\",\"type\":\"BoxAnnotation\"},{\"attributes\":{\"below\":[{\"id\":\"b0be66fa-0c1a-4aee-864b-0c08c66b7d98\",\"type\":\"LinearAxis\"}],\"left\":[{\"id\":\"1a88881d-2518-484d-9972-26d225f86205\",\"type\":\"LinearAxis\"}],\"plot_width\":900,\"renderers\":[{\"id\":\"b0be66fa-0c1a-4aee-864b-0c08c66b7d98\",\"type\":\"LinearAxis\"},{\"id\":\"11e12720-774f-47f4-821f-22e27c034f9f\",\"type\":\"Grid\"},{\"id\":\"1a88881d-2518-484d-9972-26d225f86205\",\"type\":\"LinearAxis\"},{\"id\":\"defbb4bb-6ce5-405c-b19a-84b235866b1e\",\"type\":\"Grid\"},{\"id\":\"5ce0ffb5-61aa-4e0f-9c43-8c48475db7b0\",\"type\":\"BoxAnnotation\"},{\"id\":\"28ecd968-e37f-42bf-8169-cc3a913d7958\",\"type\":\"GlyphRenderer\"},{\"id\":\"172f85c8-32a2-43f9-8a6d-894f40a7a06d\",\"type\":\"GlyphRenderer\"},{\"id\":\"da3aad24-0a30-4553-bf14-bb8fea5a2e8c\",\"type\":\"LabelSet\"},{\"id\":\"f83593bc-5ffc-4736-9a91-56fdb859e757\",\"type\":\"GlyphRenderer\"},{\"id\":\"9ca40797-0120-406f-8cfa-a0bba65093a3\",\"type\":\"LabelSet\"}],\"title\":{\"id\":\"e3fb3b75-0ee7-4206-8fa2-a4bd6e2463a4\",\"type\":\"Title\"},\"tool_events\":{\"id\":\"0a88c46d-d4a8-47f1-8144-c32155d366f0\",\"type\":\"ToolEvents\"},\"toolbar\":{\"id\":\"3b8b7ce5-b8ea-486f-bfa0-f449f3f54169\",\"type\":\"Toolbar\"},\"toolbar_location\":null,\"x_range\":{\"id\":\"b6fb792f-2c91-4b94-9593-d5f4ed370d98\",\"type\":\"Range1d\"},\"y_range\":{\"id\":\"69fd1165-c05d-44b8-a256-0ca2dd6c5072\",\"type\":\"Range1d\"}},\"id\":\"ab76fe41-ba98-4d35-a7fb-80994a09db98\",\"subtype\":\"Figure\",\"type\":\"Plot\"},{\"attributes\":{\"data_source\":{\"id\":\"a6d8b94f-a3d2-4ea0-a4a1-2c171285d45c\",\"type\":\"ColumnDataSource\"},\"glyph\":{\"id\":\"e404d4a6-c554-4486-9b18-06be809cae1c\",\"type\":\"Quad\"},\"hover_glyph\":null,\"nonselection_glyph\":{\"id\":\"7bbcd9ad-3ced-49cc-81fc-12c9bdae35a4\",\"type\":\"Quad\"},\"selection_glyph\":null},\"id\":\"f83593bc-5ffc-4736-9a91-56fdb859e757\",\"type\":\"GlyphRenderer\"},{\"attributes\":{\"callback\":null,\"column_names\":[\"y\",\"x\",\"vals\"],\"data\":{\"vals\":[\"4_815\",\"13_911\",\"5_1460\",\"4_1149\",\"9_1170\",\"9_1023\",\"5_976\",\"6_820\",\"39_1014\"],\"x\":[135839805,136403994,136406646,136447707,136496493,136496805,136511874,136514709,136556805],\"y\":[95.0,195.0,500.0,397.0,498.0,296.0,196.0,95.0,296.0]}},\"id\":\"224e195f-7f76-411e-b54e-129b997701eb\",\"type\":\"ColumnDataSource\"},{\"attributes\":{\"dimension\":1,\"plot\":{\"id\":\"ab76fe41-ba98-4d35-a7fb-80994a09db98\",\"subtype\":\"Figure\",\"type\":\"Plot\"},\"ticker\":{\"id\":\"3193eaf7-dfd3-4c12-8212-4089a3173b9d\",\"type\":\"BasicTicker\"}},\"id\":\"defbb4bb-6ce5-405c-b19a-84b235866b1e\",\"type\":\"Grid\"},{\"attributes\":{},\"id\":\"13670391-5991-42a0-accb-2de112d0eb1e\",\"type\":\"BasicTicker\"},{\"attributes\":{\"callback\":null,\"end\":136786630,\"start\":135757320},\"id\":\"b6fb792f-2c91-4b94-9593-d5f4ed370d98\",\"type\":\"Range1d\"},{\"attributes\":{\"data_source\":{\"id\":\"c88a8e5a-2968-48f2-8951-41df1217ad6b\",\"type\":\"ColumnDataSource\"},\"glyph\":{\"id\":\"1f5f4714-fd67-4a4e-b9fd-8e3e6ab2c225\",\"type\":\"MultiLine\"},\"hover_glyph\":null,\"nonselection_glyph\":{\"id\":\"f3ed6556-ac98-495b-b290-d6eddf2d6c22\",\"type\":\"MultiLine\"},\"selection_glyph\":null},\"id\":\"172f85c8-32a2-43f9-8a6d-894f40a7a06d\",\"type\":\"GlyphRenderer\"},{\"attributes\":{\"callback\":null,\"column_names\":[\"right\",\"bottom\",\"top\",\"left\"],\"data\":{\"bottom\":[545,545,545,545,545,545,545],\"left\":[135809835,135957574,136289083,136499189,136545415,136597196,136664254],\"right\":[135928279,136288182,136482839,136542633,136594750,136634047,136743222],\"top\":[575,575,575,575,575,575,575]}},\"id\":\"a6d8b94f-a3d2-4ea0-a4a1-2c171285d45c\",\"type\":\"ColumnDataSource\"},{\"attributes\":{\"callback\":null,\"end\":600},\"id\":\"69fd1165-c05d-44b8-a256-0ca2dd6c5072\",\"type\":\"Range1d\"},{\"attributes\":{\"formatter\":{\"id\":\"59f87436-37ad-4e9d-ae8f-dd34914dc064\",\"type\":\"BasicTickFormatter\"},\"plot\":{\"id\":\"ab76fe41-ba98-4d35-a7fb-80994a09db98\",\"subtype\":\"Figure\",\"type\":\"Plot\"},\"ticker\":{\"id\":\"3193eaf7-dfd3-4c12-8212-4089a3173b9d\",\"type\":\"BasicTicker\"},\"visible\":null},\"id\":\"1a88881d-2518-484d-9972-26d225f86205\",\"type\":\"LinearAxis\"},{\"attributes\":{},\"id\":\"3193eaf7-dfd3-4c12-8212-4089a3173b9d\",\"type\":\"BasicTicker\"},{\"attributes\":{\"plot\":null,\"text\":null},\"id\":\"e3fb3b75-0ee7-4206-8fa2-a4bd6e2463a4\",\"type\":\"Title\"},{\"attributes\":{\"plot\":{\"id\":\"ab76fe41-ba98-4d35-a7fb-80994a09db98\",\"subtype\":\"Figure\",\"type\":\"Plot\"}},\"id\":\"4515c9ec-2cf9-405d-b8bd-e42c03f1170a\",\"type\":\"ResetTool\"},{\"attributes\":{\"callback\":null,\"column_names\":[\"right\",\"bottom\",\"top\",\"left\",\"fill_color\"],\"data\":{\"bottom\":[50,150,450,350,450,250,150,50,250],\"fill_color\":[\"#61c4c4\",\"#61c4c4\",\"#808080\",\"#61c4c4\",\"#808080\",\"#61c4c4\",\"#808080\",\"#61c4c4\",\"#808080\"],\"left\":[135839805,136403994,136406646,136447707,136496493,136496805,136511874,136514709,136556805],\"right\":[135924467,136485096,136438078,136490266,136553925,136552629,136533195,136543147,136747085],\"top\":[90,190,495,392,493,291,191,90,291]}},\"id\":\"433f33e3-df72-4ee9-b9d4-ad3d2261e10e\",\"type\":\"ColumnDataSource\"},{\"attributes\":{},\"id\":\"59f87436-37ad-4e9d-ae8f-dd34914dc064\",\"type\":\"BasicTickFormatter\"},{\"attributes\":{\"overlay\":{\"id\":\"5ce0ffb5-61aa-4e0f-9c43-8c48475db7b0\",\"type\":\"BoxAnnotation\"},\"plot\":{\"id\":\"ab76fe41-ba98-4d35-a7fb-80994a09db98\",\"subtype\":\"Figure\",\"type\":\"Plot\"}},\"id\":\"27fefe0d-9b2b-4a5c-b84e-4e249a4d3d17\",\"type\":\"BoxZoomTool\"},{\"attributes\":{\"plot\":{\"id\":\"ab76fe41-ba98-4d35-a7fb-80994a09db98\",\"subtype\":\"Figure\",\"type\":\"Plot\"}},\"id\":\"b76093d1-6834-4512-a0b2-74a5706155da\",\"type\":\"SaveTool\"},{\"attributes\":{\"plot\":{\"id\":\"ab76fe41-ba98-4d35-a7fb-80994a09db98\",\"subtype\":\"Figure\",\"type\":\"Plot\"}},\"id\":\"6bd059d6-0cdc-470c-b7e0-2787ee2bb4d6\",\"type\":\"HelpTool\"},{\"attributes\":{\"formatter\":{\"id\":\"8897f6c5-f6ef-464b-89be-64b980a4f9f3\",\"type\":\"BasicTickFormatter\"},\"plot\":{\"id\":\"ab76fe41-ba98-4d35-a7fb-80994a09db98\",\"subtype\":\"Figure\",\"type\":\"Plot\"},\"ticker\":{\"id\":\"13670391-5991-42a0-accb-2de112d0eb1e\",\"type\":\"BasicTicker\"}},\"id\":\"b0be66fa-0c1a-4aee-864b-0c08c66b7d98\",\"type\":\"LinearAxis\"}],\"root_ids\":[\"ab76fe41-ba98-4d35-a7fb-80994a09db98\"]},\"title\":\"Bokeh Application\",\"version\":\"0.12.0\"}};\n",
       "            var render_items = [{\"docid\":\"15abc657-e3f5-43ee-abcf-6cf196e54897\",\"elementid\":\"7d44a052-4989-4f09-a4ad-658aa8184cbd\",\"modelid\":\"ab76fe41-ba98-4d35-a7fb-80994a09db98\",\"notebook_comms_target\":\"3412046e-fd6a-400b-a9d2-ffc2fe4e5f81\"}];\n",
       "            \n",
       "            Bokeh.embed.embed_items(docs_json, render_items);\n",
       "        });\n",
       "      },\n",
       "      function(Bokeh) {\n",
       "      }\n",
       "    ];\n",
       "  \n",
       "    function run_inline_js() {\n",
       "      for (var i = 0; i < inline_js.length; i++) {\n",
       "        inline_js[i](window.Bokeh);\n",
       "      }\n",
       "    }\n",
       "  \n",
       "    if (window._bokeh_is_loading === 0) {\n",
       "      console.log(\"Bokeh: BokehJS loaded, going straight to plotting\");\n",
       "      run_inline_js();\n",
       "    } else {\n",
       "      load_libs(js_urls, function() {\n",
       "        console.log(\"Bokeh: BokehJS plotting callback run at\", now());\n",
       "        run_inline_js();\n",
       "      });\n",
       "    }\n",
       "  }(this));\n",
       "</script>"
      ]
     },
     "metadata": {},
     "output_type": "display_data"
    },
    {
     "data": {
      "text/html": [
       "<p><code>&lt;Bokeh Notebook handle for <strong>In[31]</strong>&gt;</code></p>"
      ],
      "text/plain": [
       "<bokeh.io._CommsHandle at 0x7f3eea5820d0>"
      ]
     },
     "execution_count": 31,
     "metadata": {},
     "output_type": "execute_result"
    }
   ],
   "source": [
    "plt_obj = dm.superset_allele_mask(am_29, [dm.di_4_815, dm.di_5_1460], \n",
    "                                  [dm.di_117_1685, dm.di_32_1361, dm.di_5_684], min_match=0.001)\n",
    "plt = plt_obj.do_plot()\n",
    "show(plt)"
   ]
  },
  {
   "cell_type": "code",
   "execution_count": 32,
   "metadata": {
    "collapsed": false
   },
   "outputs": [
    {
     "data": {
      "text/html": [
       "<table>\n",
       "<thead><tr><th style=\"text-align:center\">index</th><th style=\"text-align:center\">first</th><th style=\"text-align:center\">length</th><th style=\"text-align:center\">snps</th><th style=\"text-align:center\" colspan=2>alleles</th><th style=\"text-align:center\" colspan=2>matches</th><th style=\"text-align:center\" colspan=2>afr</th><th style=\"text-align:center\" colspan=2>afx</th><th style=\"text-align:center\" colspan=2>amr</th><th style=\"text-align:center\" colspan=2>eas</th><th style=\"text-align:center\" colspan=2>eur</th><th style=\"text-align:center\" colspan=2>sas</th><th style=\"text-align:center\" colspan=2>sax</th></tr></thead>\n",
       "<tr class=\"even\"><td style=\"text-align: right;\">353814</td><td style=\"text-align: right;\">136,406,646</td><td style=\"text-align: right;\">31,432</td><td style=\"text-align: right;\">5</td><td style=\"text-align: right;\">1460</td><td style=\"text-align: right;\">0.00</td><td style=\"text-align: right;\">1</td><td style=\"text-align: right;\">1.00</td><td style=\"text-align: right;\">0</td><td style=\"text-align: right;\">0.00</td><td style=\"text-align: right;\">0</td><td style=\"text-align: right;\">0.00</td><td style=\"text-align: right;\">0</td><td style=\"text-align: right;\">0.00</td><td style=\"text-align: right;\">1</td><td style=\"text-align: right;\">4.97</td><td style=\"text-align: right;\">0</td><td style=\"text-align: right;\">0.00</td><td style=\"text-align: right;\">0</td><td style=\"text-align: right;\">0.00</td><td style=\"text-align: right;\">0</td><td style=\"text-align: right;\">0.00</td></tr>\n",
       "<tr><td style=\"text-align: right;\">353906</td><td style=\"text-align: right;\">136,496,493</td><td style=\"text-align: right;\">57,432</td><td style=\"text-align: right;\">9</td><td style=\"text-align: right;\">1170</td><td style=\"text-align: right;\">0.00</td><td style=\"text-align: right;\">1</td><td style=\"text-align: right;\">1.00</td><td style=\"text-align: right;\">0</td><td style=\"text-align: right;\">0.00</td><td style=\"text-align: right;\">0</td><td style=\"text-align: right;\">0.00</td><td style=\"text-align: right;\">0</td><td style=\"text-align: right;\">0.00</td><td style=\"text-align: right;\">1</td><td style=\"text-align: right;\">4.97</td><td style=\"text-align: right;\">0</td><td style=\"text-align: right;\">0.00</td><td style=\"text-align: right;\">0</td><td style=\"text-align: right;\">0.00</td><td style=\"text-align: right;\">0</td><td style=\"text-align: right;\">0.00</td></tr>\n",
       "<tr class=\"even\"><td style=\"text-align: right;\">353849</td><td style=\"text-align: right;\">136,447,707</td><td style=\"text-align: right;\">42,559</td><td style=\"text-align: right;\">4</td><td style=\"text-align: right;\">1149</td><td style=\"text-align: right;\">0.00</td><td style=\"text-align: right;\">1</td><td style=\"text-align: right;\">1.00</td><td style=\"text-align: right;\">0</td><td style=\"text-align: right;\">0.00</td><td style=\"text-align: right;\">0</td><td style=\"text-align: right;\">0.00</td><td style=\"text-align: right;\">0</td><td style=\"text-align: right;\">0.00</td><td style=\"text-align: right;\">1</td><td style=\"text-align: right;\">4.97</td><td style=\"text-align: right;\">0</td><td style=\"text-align: right;\">0.00</td><td style=\"text-align: right;\">0</td><td style=\"text-align: right;\">0.00</td><td style=\"text-align: right;\">0</td><td style=\"text-align: right;\">0.00</td></tr>\n",
       "<tr><td style=\"text-align: right;\">353907</td><td style=\"text-align: right;\">136,496,805</td><td style=\"text-align: right;\">55,824</td><td style=\"text-align: right;\">9</td><td style=\"text-align: right;\">1023</td><td style=\"text-align: right;\">0.00</td><td style=\"text-align: right;\">1</td><td style=\"text-align: right;\">1.00</td><td style=\"text-align: right;\">0</td><td style=\"text-align: right;\">0.00</td><td style=\"text-align: right;\">0</td><td style=\"text-align: right;\">0.00</td><td style=\"text-align: right;\">0</td><td style=\"text-align: right;\">0.00</td><td style=\"text-align: right;\">1</td><td style=\"text-align: right;\">4.97</td><td style=\"text-align: right;\">0</td><td style=\"text-align: right;\">0.00</td><td style=\"text-align: right;\">0</td><td style=\"text-align: right;\">0.00</td><td style=\"text-align: right;\">0</td><td style=\"text-align: right;\">0.00</td></tr>\n",
       "<tr class=\"even\"><td style=\"text-align: right;\">353984</td><td style=\"text-align: right;\">136,556,805</td><td style=\"text-align: right;\">190,280</td><td style=\"text-align: right;\">39</td><td style=\"text-align: right;\">1014</td><td style=\"text-align: right;\">0.00</td><td style=\"text-align: right;\">1</td><td style=\"text-align: right;\">1.00</td><td style=\"text-align: right;\">0</td><td style=\"text-align: right;\">0.00</td><td style=\"text-align: right;\">0</td><td style=\"text-align: right;\">0.00</td><td style=\"text-align: right;\">0</td><td style=\"text-align: right;\">0.00</td><td style=\"text-align: right;\">1</td><td style=\"text-align: right;\">4.97</td><td style=\"text-align: right;\">0</td><td style=\"text-align: right;\">0.00</td><td style=\"text-align: right;\">0</td><td style=\"text-align: right;\">0.00</td><td style=\"text-align: right;\">0</td><td style=\"text-align: right;\">0.00</td></tr>\n",
       "<tr><td style=\"text-align: right;\">353935</td><td style=\"text-align: right;\">136,511,874</td><td style=\"text-align: right;\">21,321</td><td style=\"text-align: right;\">5</td><td style=\"text-align: right;\">976</td><td style=\"text-align: right;\">0.00</td><td style=\"text-align: right;\">1</td><td style=\"text-align: right;\">1.00</td><td style=\"text-align: right;\">0</td><td style=\"text-align: right;\">0.00</td><td style=\"text-align: right;\">0</td><td style=\"text-align: right;\">0.00</td><td style=\"text-align: right;\">0</td><td style=\"text-align: right;\">0.00</td><td style=\"text-align: right;\">1</td><td style=\"text-align: right;\">4.97</td><td style=\"text-align: right;\">0</td><td style=\"text-align: right;\">0.00</td><td style=\"text-align: right;\">0</td><td style=\"text-align: right;\">0.00</td><td style=\"text-align: right;\">0</td><td style=\"text-align: right;\">0.00</td></tr>\n",
       "<tr class=\"even\"><td style=\"text-align: right;\">353807</td><td style=\"text-align: right;\">136,403,994</td><td style=\"text-align: right;\">81,102</td><td style=\"text-align: right;\">13</td><td style=\"text-align: right;\">911</td><td style=\"text-align: right;\">0.00</td><td style=\"text-align: right;\">1</td><td style=\"text-align: right;\">1.00</td><td style=\"text-align: right;\">0</td><td style=\"text-align: right;\">0.00</td><td style=\"text-align: right;\">0</td><td style=\"text-align: right;\">0.00</td><td style=\"text-align: right;\">0</td><td style=\"text-align: right;\">0.00</td><td style=\"text-align: right;\">1</td><td style=\"text-align: right;\">4.97</td><td style=\"text-align: right;\">0</td><td style=\"text-align: right;\">0.00</td><td style=\"text-align: right;\">0</td><td style=\"text-align: right;\">0.00</td><td style=\"text-align: right;\">0</td><td style=\"text-align: right;\">0.00</td></tr>\n",
       "<tr><td style=\"text-align: right;\">353938</td><td style=\"text-align: right;\">136,514,709</td><td style=\"text-align: right;\">28,438</td><td style=\"text-align: right;\">6</td><td style=\"text-align: right;\">820</td><td style=\"text-align: right;\">0.00</td><td style=\"text-align: right;\">1</td><td style=\"text-align: right;\">1.00</td><td style=\"text-align: right;\">0</td><td style=\"text-align: right;\">0.00</td><td style=\"text-align: right;\">0</td><td style=\"text-align: right;\">0.00</td><td style=\"text-align: right;\">0</td><td style=\"text-align: right;\">0.00</td><td style=\"text-align: right;\">1</td><td style=\"text-align: right;\">4.97</td><td style=\"text-align: right;\">0</td><td style=\"text-align: right;\">0.00</td><td style=\"text-align: right;\">0</td><td style=\"text-align: right;\">0.00</td><td style=\"text-align: right;\">0</td><td style=\"text-align: right;\">0.00</td></tr>\n",
       "<tr class=\"even\"><td style=\"text-align: right;\">353384</td><td style=\"text-align: right;\">135,839,805</td><td style=\"text-align: right;\">84,662</td><td style=\"text-align: right;\">4</td><td style=\"text-align: right;\">815</td><td style=\"text-align: right;\">0.00</td><td style=\"text-align: right;\">1</td><td style=\"text-align: right;\">1.00</td><td style=\"text-align: right;\">0</td><td style=\"text-align: right;\">0.00</td><td style=\"text-align: right;\">0</td><td style=\"text-align: right;\">0.00</td><td style=\"text-align: right;\">0</td><td style=\"text-align: right;\">0.00</td><td style=\"text-align: right;\">1</td><td style=\"text-align: right;\">4.97</td><td style=\"text-align: right;\">0</td><td style=\"text-align: right;\">0.00</td><td style=\"text-align: right;\">0</td><td style=\"text-align: right;\">0.00</td><td style=\"text-align: right;\">0</td><td style=\"text-align: right;\">0.00</td></tr>\n",
       "</table>"
      ],
      "text/plain": [
       "<IPython.core.display.HTML object>"
      ]
     },
     "execution_count": 32,
     "metadata": {},
     "output_type": "execute_result"
    }
   ],
   "source": [
    "HTML(plt_obj.get_html())"
   ]
  },
  {
   "cell_type": "code",
   "execution_count": 33,
   "metadata": {
    "collapsed": false
   },
   "outputs": [
    {
     "data": {
      "text/html": [
       "\n",
       "\n",
       "    <div class=\"bk-root\">\n",
       "        <div class=\"plotdiv\" id=\"22ac017c-812a-4b75-bb63-7428f79340aa\"></div>\n",
       "    </div>\n",
       "<script type=\"text/javascript\">\n",
       "  \n",
       "  (function(global) {\n",
       "    function now() {\n",
       "      return new Date();\n",
       "    }\n",
       "  \n",
       "    if (typeof (window._bokeh_onload_callbacks) === \"undefined\") {\n",
       "      window._bokeh_onload_callbacks = [];\n",
       "    }\n",
       "  \n",
       "    function run_callbacks() {\n",
       "      window._bokeh_onload_callbacks.forEach(function(callback) { callback() });\n",
       "      delete window._bokeh_onload_callbacks\n",
       "      console.info(\"Bokeh: all callbacks have finished\");\n",
       "    }\n",
       "  \n",
       "    function load_libs(js_urls, callback) {\n",
       "      window._bokeh_onload_callbacks.push(callback);\n",
       "      if (window._bokeh_is_loading > 0) {\n",
       "        console.log(\"Bokeh: BokehJS is being loaded, scheduling callback at\", now());\n",
       "        return null;\n",
       "      }\n",
       "      if (js_urls == null || js_urls.length === 0) {\n",
       "        run_callbacks();\n",
       "        return null;\n",
       "      }\n",
       "      console.log(\"Bokeh: BokehJS not loaded, scheduling load and callback at\", now());\n",
       "      window._bokeh_is_loading = js_urls.length;\n",
       "      for (var i = 0; i < js_urls.length; i++) {\n",
       "        var url = js_urls[i];\n",
       "        var s = document.createElement('script');\n",
       "        s.src = url;\n",
       "        s.async = false;\n",
       "        s.onreadystatechange = s.onload = function() {\n",
       "          window._bokeh_is_loading--;\n",
       "          if (window._bokeh_is_loading === 0) {\n",
       "            console.log(\"Bokeh: all BokehJS libraries loaded\");\n",
       "            run_callbacks()\n",
       "          }\n",
       "        };\n",
       "        s.onerror = function() {\n",
       "          console.warn(\"failed to load library \" + url);\n",
       "        };\n",
       "        console.log(\"Bokeh: injecting script tag for BokehJS library: \", url);\n",
       "        document.getElementsByTagName(\"head\")[0].appendChild(s);\n",
       "      }\n",
       "    };var element = document.getElementById(\"22ac017c-812a-4b75-bb63-7428f79340aa\");\n",
       "    if (element == null) {\n",
       "      console.log(\"Bokeh: ERROR: autoload.js configured with elementid '22ac017c-812a-4b75-bb63-7428f79340aa' but no matching script tag was found. \")\n",
       "      return false;\n",
       "    }\n",
       "  \n",
       "    var js_urls = [];\n",
       "  \n",
       "    var inline_js = [\n",
       "      function(Bokeh) {\n",
       "        Bokeh.$(function() {\n",
       "            var docs_json = {\"84a986d3-9661-4aae-9324-e70f91ef432f\":{\"roots\":{\"references\":[{\"attributes\":{\"plot\":{\"id\":\"dfd20ffc-569a-4717-9672-d0b117b86447\",\"subtype\":\"Figure\",\"type\":\"Plot\"}},\"id\":\"2dcf91a4-12c8-46a3-b013-d15c500d066f\",\"type\":\"SaveTool\"},{\"attributes\":{\"bottom\":{\"field\":\"bottom\"},\"fill_alpha\":{\"value\":0.1},\"fill_color\":{\"value\":\"#1f77b4\"},\"left\":{\"field\":\"left\"},\"line_alpha\":{\"value\":0.1},\"line_color\":{\"value\":\"#1f77b4\"},\"right\":{\"field\":\"right\"},\"top\":{\"field\":\"top\"}},\"id\":\"1b1b3df6-90ff-4228-9dfa-c4b2fce19dd8\",\"type\":\"Quad\"},{\"attributes\":{\"bottom\":{\"field\":\"bottom\"},\"fill_color\":{\"field\":\"fill_color\"},\"left\":{\"field\":\"left\"},\"line_color\":{\"value\":null},\"right\":{\"field\":\"right\"},\"top\":{\"field\":\"top\"}},\"id\":\"9d2913f0-f6c2-4b90-91e1-d3811865af28\",\"type\":\"Quad\"},{\"attributes\":{\"data_source\":{\"id\":\"d3800a1f-a906-4f19-90a0-c962d2a53838\",\"type\":\"ColumnDataSource\"},\"glyph\":{\"id\":\"ae028ae9-91c7-4f3c-a791-f93fd6f6f1ba\",\"type\":\"MultiLine\"},\"hover_glyph\":null,\"nonselection_glyph\":{\"id\":\"67752686-be2f-4ab9-a83d-5e8242739711\",\"type\":\"MultiLine\"},\"selection_glyph\":null},\"id\":\"912ac154-44f7-479c-99af-f021df84c4a8\",\"type\":\"GlyphRenderer\"},{\"attributes\":{\"plot\":{\"id\":\"dfd20ffc-569a-4717-9672-d0b117b86447\",\"subtype\":\"Figure\",\"type\":\"Plot\"}},\"id\":\"052fdb68-73a4-4887-bf80-23ba8c303bbe\",\"type\":\"PanTool\"},{\"attributes\":{\"plot\":{\"id\":\"dfd20ffc-569a-4717-9672-d0b117b86447\",\"subtype\":\"Figure\",\"type\":\"Plot\"}},\"id\":\"94cb1fb3-d63f-4578-b0ea-3c34bc85f2ae\",\"type\":\"ResetTool\"},{\"attributes\":{\"callback\":null,\"column_names\":[\"y\",\"x\",\"vals\"],\"data\":{\"vals\":[\"RAB3GAP1\",\"ZRANB3\",\"R3HDM1\",\"UBXN4\",\"LCT\",\"MCM6\",\"DARS\"],\"x\":[135869057.0,136122878.0,136385961.0,136520911.0,136570082.5,136615621.5,136703738.0],\"y\":[260.0,260.0,260.0,260.0,260.0,260.0,260.0]}},\"id\":\"da83024a-b536-46ce-a986-bafd063ef247\",\"type\":\"ColumnDataSource\"},{\"attributes\":{\"callback\":null,\"column_names\":[\"xs\",\"ys\",\"line_color\"],\"data\":{\"line_color\":[\"black\",\"black\",\"black\",\"black\",\"black\",\"black\",\"black\",\"black\",\"black\",\"black\",\"black\",\"black\",\"black\",\"black\",\"black\",\"black\",\"black\",\"black\",\"black\",\"black\",\"black\",\"black\",\"black\",\"black\",\"black\",\"black\",\"black\",\"black\",\"black\",\"black\",\"black\",\"black\",\"black\",\"black\",\"black\",\"black\",\"black\",\"black\",\"black\",\"black\",\"black\",\"black\",\"black\",\"black\",\"black\",\"black\",\"black\",\"black\",\"black\",\"black\",\"black\",\"black\",\"black\",\"black\",\"black\",\"black\",\"black\",\"black\",\"black\",\"black\",\"black\",\"black\",\"black\",\"black\",\"black\",\"black\",\"black\",\"black\",\"black\",\"black\",\"black\",\"black\",\"black\",\"black\",\"black\",\"black\",\"black\",\"black\",\"black\",\"black\",\"black\",\"black\",\"black\",\"black\",\"black\",\"black\",\"black\",\"black\",\"black\",\"black\",\"black\",\"black\",\"black\",\"black\",\"black\",\"black\",\"black\",\"black\",\"black\",\"black\",\"black\",\"black\",\"black\",\"black\",\"black\",\"black\",\"black\",\"black\",\"black\",\"black\",\"black\"],\"xs\":[[135839805,135839805],[135866750,135866750],[135886744,135886744],[135924467,135924467],[136398174,136398174],[136402117,136402117],[136403749,136403749],[136409073,136409073],[136410299,136410299],[136413359,136413359],[136416855,136416855],[136416941,136416941],[136418348,136418348],[136419961,136419961],[136420690,136420690],[136422171,136422171],[136428460,136428460],[136430866,136430866],[136432103,136432103],[136437507,136437507],[136439090,136439090],[136439517,136439517],[136444123,136444123],[136445526,136445526],[136445869,136445869],[136455600,136455600],[136456642,136456642],[136462441,136462441],[136470714,136470714],[136474098,136474098],[136494186,136494186],[136495300,136495300],[136495619,136495619],[136499166,136499166],[136502792,136502792],[136503157,136503157],[136507039,136507039],[136511575,136511575],[136518103,136518103],[136521514,136521514],[136522675,136522675],[136522941,136522941],[136526981,136526981],[136535410,136535410],[136539122,136539122],[136544197,136544197],[136550109,136550109],[136551694,136551694],[136553188,136553188],[136553639,136553639],[136554800,136554800],[136557319,136557319],[136558157,136558157],[136569848,136569848],[136575199,136575199],[136576577,136576577],[136578536,136578536],[136580287,136580287],[136583192,136583192],[136586958,136586958],[136588478,136588478],[136589612,136589612],[136591178,136591178],[136591859,136591859],[136593760,136593760],[136594158,136594158],[136603276,136603276],[136603366,136603366],[136608231,136608231],[136609975,136609975],[136610598,136610598],[136611624,136611624],[136613780,136613780],[136614255,136614255],[136614813,136614813],[136617524,136617524],[136622216,136622216],[136625602,136625602],[136629911,136629911],[136630757,136630757],[136630989,136630989],[136631031,136631031],[136633771,136633771],[136636324,136636324],[136638216,136638216],[136640233,136640233],[136641882,136641882],[136643555,136643555],[136658345,136658345],[136670298,136670298],[136685228,136685228],[136696138,136696138],[136740900,136740900],[136765951,136765951],[136501840,136501840],[136505546,136505546],[136516748,136516748],[136522710,136522710],[136528004,136528004],[136539513,136539513],[136544752,136544752],[136546110,136546110],[136553529,136553529],[136555659,136555659],[136682274,136682274],[136691825,136691825],[136698098,136698098],[136721603,136721603],[136721995,136721995],[136755684,136755684],[136775898,136775898]],\"ys\":[[50,90],[50,90],[50,90],[50,90],[50,94],[50,94],[50,94],[50,94],[50,94],[50,94],[50,94],[50,94],[50,94],[50,94],[50,94],[50,94],[50,94],[50,94],[50,94],[50,94],[50,94],[50,94],[50,94],[50,94],[50,94],[50,94],[50,94],[50,94],[50,94],[50,94],[50,95],[50,95],[50,95],[50,95],[50,95],[50,95],[50,95],[50,95],[50,95],[50,95],[50,95],[50,95],[50,95],[50,95],[50,95],[50,95],[50,95],[50,95],[50,95],[50,95],[50,95],[50,95],[50,95],[50,95],[50,95],[50,95],[50,95],[50,95],[50,95],[50,95],[50,95],[50,95],[50,95],[50,95],[50,95],[50,95],[50,95],[50,95],[50,95],[50,95],[50,95],[50,95],[50,95],[50,95],[50,95],[50,95],[50,95],[50,95],[50,95],[50,95],[50,95],[50,95],[50,95],[50,95],[50,95],[50,95],[50,95],[50,95],[50,95],[50,95],[50,95],[50,95],[50,95],[50,95],[150,198],[150,198],[150,198],[150,198],[150,198],[150,198],[150,198],[150,198],[150,198],[150,198],[150,197],[150,197],[150,197],[150,197],[150,197],[150,197],[150,197]]}},\"id\":\"d3800a1f-a906-4f19-90a0-c962d2a53838\",\"type\":\"ColumnDataSource\"},{\"attributes\":{},\"id\":\"3ac87cb9-cae9-4d92-904a-d41dd57ef7cf\",\"type\":\"BasicTickFormatter\"},{\"attributes\":{\"dimension\":1,\"plot\":{\"id\":\"dfd20ffc-569a-4717-9672-d0b117b86447\",\"subtype\":\"Figure\",\"type\":\"Plot\"},\"ticker\":{\"id\":\"1db56cdd-ae37-4586-9466-497d6599f719\",\"type\":\"BasicTicker\"}},\"id\":\"39564ac1-63b4-4381-a838-6c52200a0249\",\"type\":\"Grid\"},{\"attributes\":{\"overlay\":{\"id\":\"dffa04dd-39c2-480b-8a2b-9ecc3ff6db99\",\"type\":\"BoxAnnotation\"},\"plot\":{\"id\":\"dfd20ffc-569a-4717-9672-d0b117b86447\",\"subtype\":\"Figure\",\"type\":\"Plot\"}},\"id\":\"fc51b8cf-d3f2-441c-b546-2ed238b7a959\",\"type\":\"BoxZoomTool\"},{\"attributes\":{\"bottom\":{\"field\":\"bottom\"},\"fill_alpha\":{\"value\":0.1},\"fill_color\":{\"value\":\"#1f77b4\"},\"left\":{\"field\":\"left\"},\"line_alpha\":{\"value\":0.1},\"line_color\":{\"value\":\"#1f77b4\"},\"right\":{\"field\":\"right\"},\"top\":{\"field\":\"top\"}},\"id\":\"3c5dac78-38ff-46a8-837c-3ae44083573c\",\"type\":\"Quad\"},{\"attributes\":{\"bottom_units\":\"screen\",\"fill_alpha\":{\"value\":0.5},\"fill_color\":{\"value\":\"lightgrey\"},\"left_units\":\"screen\",\"level\":\"overlay\",\"line_alpha\":{\"value\":1.0},\"line_color\":{\"value\":\"black\"},\"line_dash\":[4,4],\"line_width\":{\"value\":2},\"plot\":null,\"render_mode\":\"css\",\"right_units\":\"screen\",\"top_units\":\"screen\"},\"id\":\"dffa04dd-39c2-480b-8a2b-9ecc3ff6db99\",\"type\":\"BoxAnnotation\"},{\"attributes\":{\"data_source\":{\"id\":\"2766f8d0-905b-4112-a99f-14bf3435b778\",\"type\":\"ColumnDataSource\"},\"glyph\":{\"id\":\"f9279796-a052-435b-bf7b-d783f8a4ea3e\",\"type\":\"Quad\"},\"hover_glyph\":null,\"nonselection_glyph\":{\"id\":\"1b1b3df6-90ff-4228-9dfa-c4b2fce19dd8\",\"type\":\"Quad\"},\"selection_glyph\":null},\"id\":\"cee73e61-e3eb-4ab6-83f8-78e333a2676e\",\"type\":\"GlyphRenderer\"},{\"attributes\":{},\"id\":\"caf4b090-14a1-4d82-9694-8a4024561147\",\"type\":\"BasicTickFormatter\"},{\"attributes\":{\"callback\":null,\"column_names\":[\"y\",\"x\",\"vals\"],\"data\":{\"vals\":[\"4_815\",\"26_1414\",\"64_1575\",\"10_2206\",\"7_1868\"],\"x\":[135839805,136398174,136494186,136501840,136682274],\"y\":[95.0,99.0,100.0,203.0,202.0]}},\"id\":\"24bc316f-2498-4a26-be8b-4c7781c52161\",\"type\":\"ColumnDataSource\"},{\"attributes\":{\"line_color\":{\"field\":\"line_color\"},\"xs\":{\"field\":\"xs\"},\"ys\":{\"field\":\"ys\"}},\"id\":\"ae028ae9-91c7-4f3c-a791-f93fd6f6f1ba\",\"type\":\"MultiLine\"},{\"attributes\":{\"formatter\":{\"id\":\"caf4b090-14a1-4d82-9694-8a4024561147\",\"type\":\"BasicTickFormatter\"},\"plot\":{\"id\":\"dfd20ffc-569a-4717-9672-d0b117b86447\",\"subtype\":\"Figure\",\"type\":\"Plot\"},\"ticker\":{\"id\":\"1db56cdd-ae37-4586-9466-497d6599f719\",\"type\":\"BasicTicker\"},\"visible\":null},\"id\":\"b0bc0f8d-2c40-4e63-8fa0-6a6ba4324c8f\",\"type\":\"LinearAxis\"},{\"attributes\":{\"level\":\"glyph\",\"plot\":{\"id\":\"dfd20ffc-569a-4717-9672-d0b117b86447\",\"subtype\":\"Figure\",\"type\":\"Plot\"},\"source\":{\"id\":\"da83024a-b536-46ce-a986-bafd063ef247\",\"type\":\"ColumnDataSource\"},\"text\":{\"field\":\"vals\"},\"text_align\":\"center\",\"text_baseline\":\"middle\",\"text_font_size\":{\"value\":\"8pt\"},\"x\":{\"field\":\"x\"},\"y\":{\"field\":\"y\"}},\"id\":\"accefcf0-bff9-4023-93a5-b7d015342991\",\"type\":\"LabelSet\"},{\"attributes\":{\"plot\":{\"id\":\"dfd20ffc-569a-4717-9672-d0b117b86447\",\"subtype\":\"Figure\",\"type\":\"Plot\"},\"ticker\":{\"id\":\"5ce5861c-9942-4f85-94a3-a8be1bcdf133\",\"type\":\"BasicTicker\"}},\"id\":\"878757c8-0616-42a6-a682-d3f819c0142b\",\"type\":\"Grid\"},{\"attributes\":{\"callback\":null,\"column_names\":[\"right\",\"bottom\",\"top\",\"left\"],\"data\":{\"bottom\":[245,245,245,245,245,245,245],\"left\":[135809835,135957574,136289083,136499189,136545415,136597196,136664254],\"right\":[135928279,136288182,136482839,136542633,136594750,136634047,136743222],\"top\":[275,275,275,275,275,275,275]}},\"id\":\"2766f8d0-905b-4112-a99f-14bf3435b778\",\"type\":\"ColumnDataSource\"},{\"attributes\":{\"line_alpha\":{\"value\":0.1},\"line_color\":{\"value\":\"#1f77b4\"},\"xs\":{\"field\":\"xs\"},\"ys\":{\"field\":\"ys\"}},\"id\":\"67752686-be2f-4ab9-a83d-5e8242739711\",\"type\":\"MultiLine\"},{\"attributes\":{\"callback\":null,\"end\":136786630,\"start\":135757320},\"id\":\"ba110bf9-7b0b-4ea0-b10e-64a4535013ea\",\"type\":\"Range1d\"},{\"attributes\":{\"active_drag\":\"auto\",\"active_scroll\":\"auto\",\"active_tap\":\"auto\",\"tools\":[{\"id\":\"052fdb68-73a4-4887-bf80-23ba8c303bbe\",\"type\":\"PanTool\"},{\"id\":\"9893a1d0-8263-4624-827a-d633127002f8\",\"type\":\"WheelZoomTool\"},{\"id\":\"fc51b8cf-d3f2-441c-b546-2ed238b7a959\",\"type\":\"BoxZoomTool\"},{\"id\":\"2dcf91a4-12c8-46a3-b013-d15c500d066f\",\"type\":\"SaveTool\"},{\"id\":\"94cb1fb3-d63f-4578-b0ea-3c34bc85f2ae\",\"type\":\"ResetTool\"},{\"id\":\"1cd555be-66fc-4b80-83b5-ea14b71ce271\",\"type\":\"HelpTool\"}]},\"id\":\"486b6326-195b-4c77-afb6-fc85626e862a\",\"type\":\"Toolbar\"},{\"attributes\":{},\"id\":\"1db56cdd-ae37-4586-9466-497d6599f719\",\"type\":\"BasicTicker\"},{\"attributes\":{\"callback\":null,\"column_names\":[\"right\",\"bottom\",\"top\",\"left\",\"fill_color\"],\"data\":{\"bottom\":[50,50,50,150,150],\"fill_color\":[\"#61c4c4\",\"#61c461\",\"#61c461\",\"#808080\",\"#61c461\"],\"left\":[135839805,136398174,136494186,136501840,136682274],\"right\":[135924467,136474098,136765951,136555659,136775898],\"top\":[90,94,95,198,197]}},\"id\":\"c3b1dfb4-d783-4c44-805f-efa73e338b7f\",\"type\":\"ColumnDataSource\"},{\"attributes\":{},\"id\":\"f9deed58-3506-4d45-b0fc-8d24c98668d8\",\"type\":\"ToolEvents\"},{\"attributes\":{\"below\":[{\"id\":\"e7657e24-31f9-4246-888b-f2b1f567b7ae\",\"type\":\"LinearAxis\"}],\"left\":[{\"id\":\"b0bc0f8d-2c40-4e63-8fa0-6a6ba4324c8f\",\"type\":\"LinearAxis\"}],\"plot_height\":300,\"plot_width\":900,\"renderers\":[{\"id\":\"e7657e24-31f9-4246-888b-f2b1f567b7ae\",\"type\":\"LinearAxis\"},{\"id\":\"878757c8-0616-42a6-a682-d3f819c0142b\",\"type\":\"Grid\"},{\"id\":\"b0bc0f8d-2c40-4e63-8fa0-6a6ba4324c8f\",\"type\":\"LinearAxis\"},{\"id\":\"39564ac1-63b4-4381-a838-6c52200a0249\",\"type\":\"Grid\"},{\"id\":\"dffa04dd-39c2-480b-8a2b-9ecc3ff6db99\",\"type\":\"BoxAnnotation\"},{\"id\":\"fb814ede-b9cb-410c-a9ba-700a2d700c0c\",\"type\":\"GlyphRenderer\"},{\"id\":\"912ac154-44f7-479c-99af-f021df84c4a8\",\"type\":\"GlyphRenderer\"},{\"id\":\"3c9affcd-eb19-4ef7-a46c-12da4b970cbf\",\"type\":\"LabelSet\"},{\"id\":\"cee73e61-e3eb-4ab6-83f8-78e333a2676e\",\"type\":\"GlyphRenderer\"},{\"id\":\"accefcf0-bff9-4023-93a5-b7d015342991\",\"type\":\"LabelSet\"}],\"title\":{\"id\":\"663694f2-6993-41a1-aa15-558254a1c088\",\"type\":\"Title\"},\"tool_events\":{\"id\":\"f9deed58-3506-4d45-b0fc-8d24c98668d8\",\"type\":\"ToolEvents\"},\"toolbar\":{\"id\":\"486b6326-195b-4c77-afb6-fc85626e862a\",\"type\":\"Toolbar\"},\"toolbar_location\":null,\"x_range\":{\"id\":\"ba110bf9-7b0b-4ea0-b10e-64a4535013ea\",\"type\":\"Range1d\"},\"y_range\":{\"id\":\"dbec2893-3ae2-4e74-8f1c-c19d1d20a3cd\",\"type\":\"Range1d\"}},\"id\":\"dfd20ffc-569a-4717-9672-d0b117b86447\",\"subtype\":\"Figure\",\"type\":\"Plot\"},{\"attributes\":{\"plot\":{\"id\":\"dfd20ffc-569a-4717-9672-d0b117b86447\",\"subtype\":\"Figure\",\"type\":\"Plot\"}},\"id\":\"1cd555be-66fc-4b80-83b5-ea14b71ce271\",\"type\":\"HelpTool\"},{\"attributes\":{},\"id\":\"5ce5861c-9942-4f85-94a3-a8be1bcdf133\",\"type\":\"BasicTicker\"},{\"attributes\":{\"plot\":null,\"text\":null},\"id\":\"663694f2-6993-41a1-aa15-558254a1c088\",\"type\":\"Title\"},{\"attributes\":{\"callback\":null,\"end\":300},\"id\":\"dbec2893-3ae2-4e74-8f1c-c19d1d20a3cd\",\"type\":\"Range1d\"},{\"attributes\":{\"plot\":{\"id\":\"dfd20ffc-569a-4717-9672-d0b117b86447\",\"subtype\":\"Figure\",\"type\":\"Plot\"}},\"id\":\"9893a1d0-8263-4624-827a-d633127002f8\",\"type\":\"WheelZoomTool\"},{\"attributes\":{\"bottom\":{\"field\":\"bottom\"},\"fill_color\":{\"value\":\"white\"},\"left\":{\"field\":\"left\"},\"right\":{\"field\":\"right\"},\"top\":{\"field\":\"top\"}},\"id\":\"f9279796-a052-435b-bf7b-d783f8a4ea3e\",\"type\":\"Quad\"},{\"attributes\":{\"level\":\"glyph\",\"plot\":{\"id\":\"dfd20ffc-569a-4717-9672-d0b117b86447\",\"subtype\":\"Figure\",\"type\":\"Plot\"},\"source\":{\"id\":\"24bc316f-2498-4a26-be8b-4c7781c52161\",\"type\":\"ColumnDataSource\"},\"text\":{\"field\":\"vals\"},\"text_font_size\":{\"value\":\"9pt\"},\"text_font_style\":\"bold\",\"x\":{\"field\":\"x\"},\"y\":{\"field\":\"y\"}},\"id\":\"3c9affcd-eb19-4ef7-a46c-12da4b970cbf\",\"type\":\"LabelSet\"},{\"attributes\":{\"formatter\":{\"id\":\"3ac87cb9-cae9-4d92-904a-d41dd57ef7cf\",\"type\":\"BasicTickFormatter\"},\"plot\":{\"id\":\"dfd20ffc-569a-4717-9672-d0b117b86447\",\"subtype\":\"Figure\",\"type\":\"Plot\"},\"ticker\":{\"id\":\"5ce5861c-9942-4f85-94a3-a8be1bcdf133\",\"type\":\"BasicTicker\"}},\"id\":\"e7657e24-31f9-4246-888b-f2b1f567b7ae\",\"type\":\"LinearAxis\"},{\"attributes\":{\"data_source\":{\"id\":\"c3b1dfb4-d783-4c44-805f-efa73e338b7f\",\"type\":\"ColumnDataSource\"},\"glyph\":{\"id\":\"9d2913f0-f6c2-4b90-91e1-d3811865af28\",\"type\":\"Quad\"},\"hover_glyph\":null,\"nonselection_glyph\":{\"id\":\"3c5dac78-38ff-46a8-837c-3ae44083573c\",\"type\":\"Quad\"},\"selection_glyph\":null},\"id\":\"fb814ede-b9cb-410c-a9ba-700a2d700c0c\",\"type\":\"GlyphRenderer\"}],\"root_ids\":[\"dfd20ffc-569a-4717-9672-d0b117b86447\"]},\"title\":\"Bokeh Application\",\"version\":\"0.12.0\"}};\n",
       "            var render_items = [{\"docid\":\"84a986d3-9661-4aae-9324-e70f91ef432f\",\"elementid\":\"22ac017c-812a-4b75-bb63-7428f79340aa\",\"modelid\":\"dfd20ffc-569a-4717-9672-d0b117b86447\",\"notebook_comms_target\":\"883c47b6-728c-4ab0-a218-50fd59ce3121\"}];\n",
       "            \n",
       "            Bokeh.embed.embed_items(docs_json, render_items);\n",
       "        });\n",
       "      },\n",
       "      function(Bokeh) {\n",
       "      }\n",
       "    ];\n",
       "  \n",
       "    function run_inline_js() {\n",
       "      for (var i = 0; i < inline_js.length; i++) {\n",
       "        inline_js[i](window.Bokeh);\n",
       "      }\n",
       "    }\n",
       "  \n",
       "    if (window._bokeh_is_loading === 0) {\n",
       "      console.log(\"Bokeh: BokehJS loaded, going straight to plotting\");\n",
       "      run_inline_js();\n",
       "    } else {\n",
       "      load_libs(js_urls, function() {\n",
       "        console.log(\"Bokeh: BokehJS plotting callback run at\", now());\n",
       "        run_inline_js();\n",
       "      });\n",
       "    }\n",
       "  }(this));\n",
       "</script>"
      ]
     },
     "metadata": {},
     "output_type": "display_data"
    },
    {
     "data": {
      "text/html": [
       "<p><code>&lt;Bokeh Notebook handle for <strong>In[33]</strong>&gt;</code></p>"
      ],
      "text/plain": [
       "<bokeh.io._CommsHandle at 0x7f3f0c191ed0>"
      ]
     },
     "execution_count": 33,
     "metadata": {},
     "output_type": "execute_result"
    }
   ],
   "source": [
    "plt_obj = dm.superset_allele_mask(am_29, [dm.di_4_815], [dm.di_5_1460, dm.di_32_1361, dm.di_5_684], min_match=0.001)\n",
    "plt = plt_obj.do_plot()\n",
    "show(plt)"
   ]
  },
  {
   "cell_type": "code",
   "execution_count": 34,
   "metadata": {
    "collapsed": false
   },
   "outputs": [
    {
     "data": {
      "text/html": [
       "<table>\n",
       "<thead><tr><th style=\"text-align:center\">index</th><th style=\"text-align:center\">first</th><th style=\"text-align:center\">length</th><th style=\"text-align:center\">snps</th><th style=\"text-align:center\" colspan=2>alleles</th><th style=\"text-align:center\" colspan=2>matches</th><th style=\"text-align:center\" colspan=2>afr</th><th style=\"text-align:center\" colspan=2>afx</th><th style=\"text-align:center\" colspan=2>amr</th><th style=\"text-align:center\" colspan=2>eas</th><th style=\"text-align:center\" colspan=2>eur</th><th style=\"text-align:center\" colspan=2>sas</th><th style=\"text-align:center\" colspan=2>sax</th></tr></thead>\n",
       "<tr class=\"even\"><td style=\"text-align: right;\">353921</td><td style=\"text-align: right;\">136,501,840</td><td style=\"text-align: right;\">53,819</td><td style=\"text-align: right;\">10</td><td style=\"text-align: right;\">2206</td><td style=\"text-align: right;\">0.00</td><td style=\"text-align: right;\">1</td><td style=\"text-align: right;\">1.00</td><td style=\"text-align: right;\">0</td><td style=\"text-align: right;\">0.00</td><td style=\"text-align: right;\">0</td><td style=\"text-align: right;\">0.00</td><td style=\"text-align: right;\">0</td><td style=\"text-align: right;\">0.00</td><td style=\"text-align: right;\">1</td><td style=\"text-align: right;\">4.97</td><td style=\"text-align: right;\">0</td><td style=\"text-align: right;\">0.00</td><td style=\"text-align: right;\">0</td><td style=\"text-align: right;\">0.00</td><td style=\"text-align: right;\">0</td><td style=\"text-align: right;\">0.00</td></tr>\n",
       "<tr><td style=\"text-align: right;\">354170</td><td style=\"text-align: right;\">136,682,274</td><td style=\"text-align: right;\">93,624</td><td style=\"text-align: right;\">7</td><td style=\"text-align: right;\">1868</td><td style=\"text-align: right;\">0.00</td><td style=\"text-align: right;\">1</td><td style=\"text-align: right;\">1.00</td><td style=\"text-align: right;\">0</td><td style=\"text-align: right;\">0.00</td><td style=\"text-align: right;\">0</td><td style=\"text-align: right;\">0.00</td><td style=\"text-align: right;\">0</td><td style=\"text-align: right;\">0.00</td><td style=\"text-align: right;\">1</td><td style=\"text-align: right;\">4.97</td><td style=\"text-align: right;\">0</td><td style=\"text-align: right;\">0.00</td><td style=\"text-align: right;\">0</td><td style=\"text-align: right;\">0.00</td><td style=\"text-align: right;\">0</td><td style=\"text-align: right;\">0.00</td></tr>\n",
       "<tr class=\"even\"><td style=\"text-align: right;\">353901</td><td style=\"text-align: right;\">136,494,186</td><td style=\"text-align: right;\">271,765</td><td style=\"text-align: right;\">64</td><td style=\"text-align: right;\">1575</td><td style=\"text-align: right;\">0.00</td><td style=\"text-align: right;\">1</td><td style=\"text-align: right;\">1.00</td><td style=\"text-align: right;\">0</td><td style=\"text-align: right;\">0.00</td><td style=\"text-align: right;\">0</td><td style=\"text-align: right;\">0.00</td><td style=\"text-align: right;\">0</td><td style=\"text-align: right;\">0.00</td><td style=\"text-align: right;\">1</td><td style=\"text-align: right;\">4.97</td><td style=\"text-align: right;\">0</td><td style=\"text-align: right;\">0.00</td><td style=\"text-align: right;\">0</td><td style=\"text-align: right;\">0.00</td><td style=\"text-align: right;\">0</td><td style=\"text-align: right;\">0.00</td></tr>\n",
       "<tr><td style=\"text-align: right;\">353797</td><td style=\"text-align: right;\">136,398,174</td><td style=\"text-align: right;\">75,924</td><td style=\"text-align: right;\">26</td><td style=\"text-align: right;\">1414</td><td style=\"text-align: right;\">0.00</td><td style=\"text-align: right;\">1</td><td style=\"text-align: right;\">1.00</td><td style=\"text-align: right;\">0</td><td style=\"text-align: right;\">0.00</td><td style=\"text-align: right;\">0</td><td style=\"text-align: right;\">0.00</td><td style=\"text-align: right;\">0</td><td style=\"text-align: right;\">0.00</td><td style=\"text-align: right;\">1</td><td style=\"text-align: right;\">4.97</td><td style=\"text-align: right;\">0</td><td style=\"text-align: right;\">0.00</td><td style=\"text-align: right;\">0</td><td style=\"text-align: right;\">0.00</td><td style=\"text-align: right;\">0</td><td style=\"text-align: right;\">0.00</td></tr>\n",
       "<tr class=\"even\"><td style=\"text-align: right;\">353384</td><td style=\"text-align: right;\">135,839,805</td><td style=\"text-align: right;\">84,662</td><td style=\"text-align: right;\">4</td><td style=\"text-align: right;\">815</td><td style=\"text-align: right;\">0.00</td><td style=\"text-align: right;\">1</td><td style=\"text-align: right;\">1.00</td><td style=\"text-align: right;\">0</td><td style=\"text-align: right;\">0.00</td><td style=\"text-align: right;\">0</td><td style=\"text-align: right;\">0.00</td><td style=\"text-align: right;\">0</td><td style=\"text-align: right;\">0.00</td><td style=\"text-align: right;\">1</td><td style=\"text-align: right;\">4.97</td><td style=\"text-align: right;\">0</td><td style=\"text-align: right;\">0.00</td><td style=\"text-align: right;\">0</td><td style=\"text-align: right;\">0.00</td><td style=\"text-align: right;\">0</td><td style=\"text-align: right;\">0.00</td></tr>\n",
       "</table>"
      ],
      "text/plain": [
       "<IPython.core.display.HTML object>"
      ]
     },
     "execution_count": 34,
     "metadata": {},
     "output_type": "execute_result"
    }
   ],
   "source": [
    "HTML(plt_obj.get_html())"
   ]
  },
  {
   "cell_type": "markdown",
   "metadata": {},
   "source": [
    "<div style=\"width:700px\">\n",
    "<p>\n",
    "The following plot shows the series expressed by the 1 chromosome sample that expresses\n",
    "29 193_843 SNPs but does not express the series 4_815\n",
    "</div>"
   ]
  },
  {
   "cell_type": "code",
   "execution_count": 35,
   "metadata": {
    "collapsed": false,
    "scrolled": false
   },
   "outputs": [
    {
     "data": {
      "text/html": [
       "\n",
       "\n",
       "    <div class=\"bk-root\">\n",
       "        <div class=\"plotdiv\" id=\"1221deb8-1f77-4e8f-a5cf-d5645bb0f9c0\"></div>\n",
       "    </div>\n",
       "<script type=\"text/javascript\">\n",
       "  \n",
       "  (function(global) {\n",
       "    function now() {\n",
       "      return new Date();\n",
       "    }\n",
       "  \n",
       "    if (typeof (window._bokeh_onload_callbacks) === \"undefined\") {\n",
       "      window._bokeh_onload_callbacks = [];\n",
       "    }\n",
       "  \n",
       "    function run_callbacks() {\n",
       "      window._bokeh_onload_callbacks.forEach(function(callback) { callback() });\n",
       "      delete window._bokeh_onload_callbacks\n",
       "      console.info(\"Bokeh: all callbacks have finished\");\n",
       "    }\n",
       "  \n",
       "    function load_libs(js_urls, callback) {\n",
       "      window._bokeh_onload_callbacks.push(callback);\n",
       "      if (window._bokeh_is_loading > 0) {\n",
       "        console.log(\"Bokeh: BokehJS is being loaded, scheduling callback at\", now());\n",
       "        return null;\n",
       "      }\n",
       "      if (js_urls == null || js_urls.length === 0) {\n",
       "        run_callbacks();\n",
       "        return null;\n",
       "      }\n",
       "      console.log(\"Bokeh: BokehJS not loaded, scheduling load and callback at\", now());\n",
       "      window._bokeh_is_loading = js_urls.length;\n",
       "      for (var i = 0; i < js_urls.length; i++) {\n",
       "        var url = js_urls[i];\n",
       "        var s = document.createElement('script');\n",
       "        s.src = url;\n",
       "        s.async = false;\n",
       "        s.onreadystatechange = s.onload = function() {\n",
       "          window._bokeh_is_loading--;\n",
       "          if (window._bokeh_is_loading === 0) {\n",
       "            console.log(\"Bokeh: all BokehJS libraries loaded\");\n",
       "            run_callbacks()\n",
       "          }\n",
       "        };\n",
       "        s.onerror = function() {\n",
       "          console.warn(\"failed to load library \" + url);\n",
       "        };\n",
       "        console.log(\"Bokeh: injecting script tag for BokehJS library: \", url);\n",
       "        document.getElementsByTagName(\"head\")[0].appendChild(s);\n",
       "      }\n",
       "    };var element = document.getElementById(\"1221deb8-1f77-4e8f-a5cf-d5645bb0f9c0\");\n",
       "    if (element == null) {\n",
       "      console.log(\"Bokeh: ERROR: autoload.js configured with elementid '1221deb8-1f77-4e8f-a5cf-d5645bb0f9c0' but no matching script tag was found. \")\n",
       "      return false;\n",
       "    }\n",
       "  \n",
       "    var js_urls = [];\n",
       "  \n",
       "    var inline_js = [\n",
       "      function(Bokeh) {\n",
       "        Bokeh.$(function() {\n",
       "            var docs_json = {\"569a7270-0b3a-4607-8bda-07416a3a84d0\":{\"roots\":{\"references\":[{\"attributes\":{\"plot\":{\"id\":\"206f3384-3b4c-445b-9ae7-e7dd5c93c9b0\",\"subtype\":\"Figure\",\"type\":\"Plot\"}},\"id\":\"e81db47b-1450-4a8a-b7f2-1e9e81cb7ebf\",\"type\":\"SaveTool\"},{\"attributes\":{\"callback\":null,\"column_names\":[\"y\",\"x\",\"vals\"],\"data\":{\"vals\":[\"117_1685\",\"123_1561\",\"5_18\",\"24_1504\",\"6_167\",\"17_121\",\"18_172\",\"5_212\"],\"x\":[135758231,135933921,136468307,136653925,136658238,136666402,136696010,136704466],\"y\":[601.0,500.0,62.0,500.0,181.0,78.0,281.0,383.0]}},\"id\":\"5d3acba9-19ad-48b6-a0d7-454f1121d381\",\"type\":\"ColumnDataSource\"},{\"attributes\":{\"overlay\":{\"id\":\"fce2071b-9583-48cf-89a4-c706037098c4\",\"type\":\"BoxAnnotation\"},\"plot\":{\"id\":\"206f3384-3b4c-445b-9ae7-e7dd5c93c9b0\",\"subtype\":\"Figure\",\"type\":\"Plot\"}},\"id\":\"bf96d2a7-e8c3-494d-a264-865088fcc371\",\"type\":\"BoxZoomTool\"},{\"attributes\":{\"line_color\":{\"field\":\"line_color\"},\"xs\":{\"field\":\"xs\"},\"ys\":{\"field\":\"ys\"}},\"id\":\"98a29b62-490e-4b88-badf-b974823fd3d3\",\"type\":\"MultiLine\"},{\"attributes\":{\"plot\":{\"id\":\"206f3384-3b4c-445b-9ae7-e7dd5c93c9b0\",\"subtype\":\"Figure\",\"type\":\"Plot\"}},\"id\":\"e41cd017-aebb-4276-aebb-27b36ca2bb64\",\"type\":\"WheelZoomTool\"},{\"attributes\":{\"plot\":{\"id\":\"206f3384-3b4c-445b-9ae7-e7dd5c93c9b0\",\"subtype\":\"Figure\",\"type\":\"Plot\"}},\"id\":\"5e53d64b-b866-40ac-b573-ee20705f610b\",\"type\":\"PanTool\"},{\"attributes\":{},\"id\":\"ad2bdf8e-c5a4-4c60-a0cd-3d4ef902e3e7\",\"type\":\"BasicTicker\"},{\"attributes\":{\"callback\":null,\"column_names\":[\"xs\",\"ys\",\"line_color\"],\"data\":{\"line_color\":[\"black\",\"black\",\"black\",\"black\",\"black\",\"black\",\"black\",\"black\",\"black\",\"black\",\"black\",\"black\",\"black\",\"black\",\"black\",\"black\",\"black\",\"black\",\"black\",\"black\",\"black\",\"black\",\"black\",\"black\",\"black\",\"black\",\"black\",\"black\",\"black\",\"black\",\"black\",\"black\",\"black\",\"black\",\"black\",\"black\",\"black\",\"black\",\"black\",\"black\",\"black\",\"black\",\"black\",\"black\",\"black\",\"black\",\"black\",\"black\",\"black\",\"black\",\"black\",\"black\",\"black\",\"black\",\"black\",\"black\",\"black\",\"black\",\"black\",\"black\",\"black\",\"black\",\"black\",\"black\",\"black\",\"black\",\"black\",\"black\",\"black\",\"black\",\"black\",\"black\",\"black\",\"black\",\"black\",\"black\",\"black\",\"black\",\"black\",\"black\",\"black\",\"black\",\"black\",\"black\",\"black\",\"black\",\"black\",\"black\",\"black\",\"black\",\"black\",\"black\",\"black\",\"black\",\"black\",\"black\",\"black\",\"black\",\"black\",\"black\",\"black\",\"black\",\"black\",\"black\",\"black\",\"black\",\"black\",\"black\",\"black\",\"black\",\"black\",\"black\",\"black\",\"black\",\"black\",\"black\",\"black\",\"black\",\"black\",\"black\",\"black\",\"black\",\"black\",\"black\",\"black\",\"black\",\"black\",\"black\",\"black\",\"black\",\"black\",\"black\",\"black\",\"black\",\"black\",\"black\",\"black\",\"black\",\"black\",\"black\",\"black\",\"black\",\"black\",\"black\",\"black\",\"black\",\"black\",\"black\",\"black\",\"black\",\"black\",\"black\",\"black\",\"black\",\"black\",\"black\",\"black\",\"black\",\"black\",\"black\",\"black\",\"black\",\"black\",\"black\",\"black\",\"black\",\"black\",\"black\",\"black\",\"black\",\"black\",\"black\",\"black\",\"black\",\"black\",\"black\",\"black\",\"black\",\"black\",\"black\",\"black\",\"black\",\"black\",\"black\",\"black\",\"black\",\"black\",\"black\",\"black\",\"black\",\"black\",\"black\",\"black\",\"black\",\"black\",\"black\",\"black\",\"black\",\"black\",\"black\",\"black\",\"black\",\"black\",\"black\",\"black\",\"black\",\"black\",\"black\",\"black\",\"black\",\"black\",\"black\",\"black\",\"black\",\"black\",\"black\",\"black\",\"black\",\"black\",\"black\",\"black\",\"black\",\"black\",\"black\",\"black\",\"black\",\"black\",\"black\",\"black\",\"black\",\"black\",\"black\",\"black\",\"black\",\"black\",\"black\",\"black\",\"black\",\"black\",\"black\",\"black\",\"black\",\"black\",\"black\",\"black\",\"black\",\"black\",\"black\",\"black\",\"black\",\"black\",\"black\",\"black\",\"black\",\"black\",\"black\",\"black\",\"black\",\"black\",\"black\",\"black\",\"black\",\"black\",\"black\",\"black\",\"black\",\"black\",\"black\",\"black\",\"black\",\"black\",\"black\",\"black\",\"black\",\"black\",\"black\",\"black\",\"black\",\"black\",\"black\",\"black\",\"black\",\"black\",\"black\",\"black\",\"black\",\"black\",\"black\",\"black\",\"black\",\"black\",\"black\",\"black\",\"black\",\"black\",\"black\",\"black\",\"black\",\"black\",\"black\",\"black\",\"black\",\"black\",\"black\",\"black\",\"black\",\"black\",\"black\",\"black\",\"black\",\"black\",\"black\",\"black\",\"black\",\"black\"],\"xs\":[[135758231,135758231],[135758520,135758520],[135766072,135766072],[135773420,135773420],[135773446,135773446],[135773617,135773617],[135773692,135773692],[135774681,135774681],[135775049,135775049],[135776430,135776430],[135778656,135778656],[135780168,135780168],[135780587,135780587],[135781301,135781301],[135781522,135781522],[135781635,135781635],[135782456,135782456],[135783157,135783157],[135783366,135783366],[135783367,135783367],[135784227,135784227],[135784733,135784733],[135785066,135785066],[135785068,135785068],[135785149,135785149],[135787148,135787148],[135787642,135787642],[135789405,135789405],[135789472,135789472],[135789682,135789682],[135789784,135789784],[135792338,135792338],[135792528,135792528],[135793565,135793565],[135793684,135793684],[135793845,135793845],[135794367,135794367],[135794986,135794986],[135795040,135795040],[135795095,135795095],[135795150,135795150],[135795385,135795385],[135795396,135795396],[135795443,135795443],[135795595,135795595],[135796000,135796000],[135796155,135796155],[135796410,135796410],[135796965,135796965],[135797223,135797223],[135797747,135797747],[135798082,135798082],[135798758,135798758],[135799082,135799082],[135800085,135800085],[135800601,135800601],[135800757,135800757],[135801228,135801228],[135801956,135801956],[135802020,135802020],[135802028,135802028],[135802050,135802050],[135802148,135802148],[135803766,135803766],[135809241,135809241],[135812969,135812969],[135814716,135814716],[135818907,135818907],[135829432,135829432],[135832131,135832131],[135849613,135849613],[135853807,135853807],[135859923,135859923],[135860305,135860305],[135861497,135861497],[135863143,135863143],[135864294,135864294],[135871624,135871624],[135872646,135872646],[135874038,135874038],[135874622,135874622],[135878814,135878814],[135880013,135880013],[135884487,135884487],[135885357,135885357],[135893853,135893853],[135895809,135895809],[135895879,135895879],[135899069,135899069],[135909462,135909462],[135912977,135912977],[135914038,135914038],[135921839,135921839],[135925002,135925002],[135928312,135928312],[135935049,135935049],[135962711,135962711],[135984172,135984172],[135994753,135994753],[135994754,135994754],[136016079,136016079],[136027264,136027264],[136052004,136052004],[136100473,136100473],[136110129,136110129],[136166536,136166536],[136169799,136169799],[136191314,136191314],[136228887,136228887],[136238453,136238453],[136288273,136288273],[136292425,136292425],[136321951,136321951],[136324564,136324564],[136327299,136327299],[136327302,136327302],[136376515,136376515],[135933921,135933921],[135939824,135939824],[135941503,135941503],[135943900,135943900],[135945474,135945474],[135949715,135949715],[135956745,135956745],[135958693,135958693],[135967778,135967778],[135972093,135972093],[135973768,135973768],[135976498,135976498],[135978428,135978428],[135990031,135990031],[135992481,135992481],[135993925,135993925],[135994838,135994838],[136000253,136000253],[136003567,136003567],[136005477,136005477],[136005971,136005971],[136020977,136020977],[136027535,136027535],[136031588,136031588],[136032905,136032905],[136042480,136042480],[136043885,136043885],[136050471,136050471],[136052898,136052898],[136054815,136054815],[136056285,136056285],[136061560,136061560],[136063685,136063685],[136069060,136069060],[136072179,136072179],[136074233,136074233],[136080721,136080721],[136080822,136080822],[136088440,136088440],[136088643,136088643],[136092416,136092416],[136092869,136092869],[136094615,136094615],[136095505,136095505],[136095604,136095604],[136096766,136096766],[136097091,136097091],[136097394,136097394],[136100243,136100243],[136101823,136101823],[136106561,136106561],[136115501,136115501],[136122622,136122622],[136123014,136123014],[136123848,136123848],[136127100,136127100],[136127950,136127950],[136128630,136128630],[136129630,136129630],[136129791,136129791],[136131324,136131324],[136135383,136135383],[136135994,136135994],[136136224,136136224],[136136366,136136366],[136136440,136136440],[136138145,136138145],[136140568,136140568],[136145882,136145882],[136147948,136147948],[136148630,136148630],[136151485,136151485],[136152802,136152802],[136156753,136156753],[136157913,136157913],[136160902,136160902],[136165765,136165765],[136171649,136171649],[136173220,136173220],[136173735,136173735],[136174552,136174552],[136175692,136175692],[136176805,136176805],[136182484,136182484],[136183188,136183188],[136187252,136187252],[136187345,136187345],[136189475,136189475],[136197702,136197702],[136198435,136198435],[136202937,136202937],[136219999,136219999],[136221500,136221500],[136226626,136226626],[136228929,136228929],[136229598,136229598],[136238270,136238270],[136238346,136238346],[136240769,136240769],[136244171,136244171],[136249245,136249245],[136250285,136250285],[136254419,136254419],[136266241,136266241],[136267808,136267808],[136272074,136272074],[136277304,136277304],[136290607,136290607],[136290663,136290663],[136291310,136291310],[136296051,136296051],[136305392,136305392],[136306890,136306890],[136310803,136310803],[136324225,136324225],[136324465,136324465],[136327305,136327305],[136329618,136329618],[136333300,136333300],[136350089,136350089],[136354204,136354204],[136360455,136360455],[136368563,136368563],[136468307,136468307],[136473664,136473664],[136475712,136475712],[136483618,136483618],[136483898,136483898],[136653925,136653925],[136654833,136654833],[136656534,136656534],[136656536,136656536],[136657252,136657252],[136667301,136667301],[136667487,136667487],[136672775,136672775],[136680534,136680534],[136686393,136686393],[136688749,136688749],[136692553,136692553],[136697371,136697371],[136708787,136708787],[136710372,136710372],[136711064,136711064],[136715324,136715324],[136723504,136723504],[136737460,136737460],[136743143,136743143],[136746224,136746224],[136751842,136751842],[136759379,136759379],[136761853,136761853],[136658238,136658238],[136658821,136658821],[136664975,136664975],[136674123,136674123],[136677052,136677052],[136677919,136677919],[136666402,136666402],[136687260,136687260],[136688452,136688452],[136698242,136698242],[136701773,136701773],[136701926,136701926],[136701930,136701930],[136708426,136708426],[136714412,136714412],[136721430,136721430],[136729906,136729906],[136750914,136750914],[136751990,136751990],[136753305,136753305],[136755711,136755711],[136760887,136760887],[136768655,136768655],[136696010,136696010],[136696794,136696794],[136700762,136700762],[136703387,136703387],[136708405,136708405],[136708737,136708737],[136710616,136710616],[136715715,136715715],[136716781,136716781],[136731550,136731550],[136735482,136735482],[136736120,136736120],[136738235,136738235],[136739038,136739038],[136743138,136743138],[136744366,136744366],[136754269,136754269],[136764564,136764564],[136704466,136704466],[136714792,136714792],[136724974,136724974],[136725890,136725890],[136732214,136732214]],\"ys\":[[550,596],[550,596],[550,596],[550,596],[550,596],[550,596],[550,596],[550,596],[550,596],[550,596],[550,596],[550,596],[550,596],[550,596],[550,596],[550,596],[550,596],[550,596],[550,596],[550,596],[550,596],[550,596],[550,596],[550,596],[550,596],[550,596],[550,596],[550,596],[550,596],[550,596],[550,596],[550,596],[550,596],[550,596],[550,596],[550,596],[550,596],[550,596],[550,596],[550,596],[550,596],[550,596],[550,596],[550,596],[550,596],[550,596],[550,596],[550,596],[550,596],[550,596],[550,596],[550,596],[550,596],[550,596],[550,596],[550,596],[550,596],[550,596],[550,596],[550,596],[550,596],[550,596],[550,596],[550,596],[550,596],[550,596],[550,596],[550,596],[550,596],[550,596],[550,596],[550,596],[550,596],[550,596],[550,596],[550,596],[550,596],[550,596],[550,596],[550,596],[550,596],[550,596],[550,596],[550,596],[550,596],[550,596],[550,596],[550,596],[550,596],[550,596],[550,596],[550,596],[550,596],[550,596],[550,596],[550,596],[550,596],[550,596],[550,596],[550,596],[550,596],[550,596],[550,596],[550,596],[550,596],[550,596],[550,596],[550,596],[550,596],[550,596],[550,596],[550,596],[550,596],[550,596],[550,596],[550,596],[550,596],[450,495],[450,495],[450,495],[450,495],[450,495],[450,495],[450,495],[450,495],[450,495],[450,495],[450,495],[450,495],[450,495],[450,495],[450,495],[450,495],[450,495],[450,495],[450,495],[450,495],[450,495],[450,495],[450,495],[450,495],[450,495],[450,495],[450,495],[450,495],[450,495],[450,495],[450,495],[450,495],[450,495],[450,495],[450,495],[450,495],[450,495],[450,495],[450,495],[450,495],[450,495],[450,495],[450,495],[450,495],[450,495],[450,495],[450,495],[450,495],[450,495],[450,495],[450,495],[450,495],[450,495],[450,495],[450,495],[450,495],[450,495],[450,495],[450,495],[450,495],[450,495],[450,495],[450,495],[450,495],[450,495],[450,495],[450,495],[450,495],[450,495],[450,495],[450,495],[450,495],[450,495],[450,495],[450,495],[450,495],[450,495],[450,495],[450,495],[450,495],[450,495],[450,495],[450,495],[450,495],[450,495],[450,495],[450,495],[450,495],[450,495],[450,495],[450,495],[450,495],[450,495],[450,495],[450,495],[450,495],[450,495],[450,495],[450,495],[450,495],[450,495],[450,495],[450,495],[450,495],[450,495],[450,495],[450,495],[450,495],[450,495],[450,495],[450,495],[450,495],[450,495],[450,495],[450,495],[450,495],[450,495],[450,495],[450,495],[450,495],[450,495],[450,495],[450,495],[50,57],[50,57],[50,57],[50,57],[50,57],[450,495],[450,495],[450,495],[450,495],[450,495],[450,495],[450,495],[450,495],[450,495],[450,495],[450,495],[450,495],[450,495],[450,495],[450,495],[450,495],[450,495],[450,495],[450,495],[450,495],[450,495],[450,495],[450,495],[450,495],[150,176],[150,176],[150,176],[150,176],[150,176],[150,176],[50,73],[50,73],[50,73],[50,73],[50,73],[50,73],[50,73],[50,73],[50,73],[50,73],[50,73],[50,73],[50,73],[50,73],[50,73],[50,73],[50,73],[250,276],[250,276],[250,276],[250,276],[250,276],[250,276],[250,276],[250,276],[250,276],[250,276],[250,276],[250,276],[250,276],[250,276],[250,276],[250,276],[250,276],[250,276],[350,378],[350,378],[350,378],[350,378],[350,378]]}},\"id\":\"424d59b1-ce51-43a8-8b21-8009a5019ea6\",\"type\":\"ColumnDataSource\"},{\"attributes\":{\"plot\":{\"id\":\"206f3384-3b4c-445b-9ae7-e7dd5c93c9b0\",\"subtype\":\"Figure\",\"type\":\"Plot\"},\"ticker\":{\"id\":\"12316977-af34-4c6a-8938-ec30c99fa579\",\"type\":\"BasicTicker\"}},\"id\":\"dd43e953-5982-425b-9531-c6a9f322fcfc\",\"type\":\"Grid\"},{\"attributes\":{\"bottom\":{\"field\":\"bottom\"},\"fill_color\":{\"field\":\"fill_color\"},\"left\":{\"field\":\"left\"},\"line_color\":{\"value\":null},\"right\":{\"field\":\"right\"},\"top\":{\"field\":\"top\"}},\"id\":\"35894622-9508-426d-9544-65387415a7d9\",\"type\":\"Quad\"},{\"attributes\":{\"bottom\":{\"field\":\"bottom\"},\"fill_alpha\":{\"value\":0.1},\"fill_color\":{\"value\":\"#1f77b4\"},\"left\":{\"field\":\"left\"},\"line_alpha\":{\"value\":0.1},\"line_color\":{\"value\":\"#1f77b4\"},\"right\":{\"field\":\"right\"},\"top\":{\"field\":\"top\"}},\"id\":\"a810f6b7-8450-48ca-915a-477f4a0a80bf\",\"type\":\"Quad\"},{\"attributes\":{},\"id\":\"12316977-af34-4c6a-8938-ec30c99fa579\",\"type\":\"BasicTicker\"},{\"attributes\":{\"plot\":{\"id\":\"206f3384-3b4c-445b-9ae7-e7dd5c93c9b0\",\"subtype\":\"Figure\",\"type\":\"Plot\"}},\"id\":\"cf2d49de-02ed-465d-ae7f-b52bcb53eacc\",\"type\":\"ResetTool\"},{\"attributes\":{},\"id\":\"fbbbf623-e734-46d2-b382-d4d131f135d5\",\"type\":\"BasicTickFormatter\"},{\"attributes\":{\"bottom\":{\"field\":\"bottom\"},\"fill_alpha\":{\"value\":0.1},\"fill_color\":{\"value\":\"#1f77b4\"},\"left\":{\"field\":\"left\"},\"line_alpha\":{\"value\":0.1},\"line_color\":{\"value\":\"#1f77b4\"},\"right\":{\"field\":\"right\"},\"top\":{\"field\":\"top\"}},\"id\":\"47a3dc21-503a-4ed8-8ac0-b862b524f34c\",\"type\":\"Quad\"},{\"attributes\":{\"dimension\":1,\"plot\":{\"id\":\"206f3384-3b4c-445b-9ae7-e7dd5c93c9b0\",\"subtype\":\"Figure\",\"type\":\"Plot\"},\"ticker\":{\"id\":\"ad2bdf8e-c5a4-4c60-a0cd-3d4ef902e3e7\",\"type\":\"BasicTicker\"}},\"id\":\"164dcbd5-c6eb-4c7f-8406-2deadd081007\",\"type\":\"Grid\"},{\"attributes\":{\"callback\":null,\"end\":700},\"id\":\"3bd75e70-9d4b-4ddb-ba08-8d3c64570ed7\",\"type\":\"Range1d\"},{\"attributes\":{\"callback\":null,\"end\":136786630,\"start\":135757320},\"id\":\"4eab2042-e5ad-4c6f-9192-4b7900188e51\",\"type\":\"Range1d\"},{\"attributes\":{\"level\":\"glyph\",\"plot\":{\"id\":\"206f3384-3b4c-445b-9ae7-e7dd5c93c9b0\",\"subtype\":\"Figure\",\"type\":\"Plot\"},\"source\":{\"id\":\"ead4bd67-144d-459a-97d4-d7601f74353a\",\"type\":\"ColumnDataSource\"},\"text\":{\"field\":\"vals\"},\"text_align\":\"center\",\"text_baseline\":\"middle\",\"text_font_size\":{\"value\":\"8pt\"},\"x\":{\"field\":\"x\"},\"y\":{\"field\":\"y\"}},\"id\":\"e10fb3c5-7973-4425-8460-14b010e60342\",\"type\":\"LabelSet\"},{\"attributes\":{\"callback\":null,\"column_names\":[\"y\",\"x\",\"vals\"],\"data\":{\"vals\":[\"RAB3GAP1\",\"ZRANB3\",\"R3HDM1\",\"UBXN4\",\"LCT\",\"MCM6\",\"DARS\"],\"x\":[135869057.0,136122878.0,136385961.0,136520911.0,136570082.5,136615621.5,136703738.0],\"y\":[660.0,660.0,660.0,660.0,660.0,660.0,660.0]}},\"id\":\"ead4bd67-144d-459a-97d4-d7601f74353a\",\"type\":\"ColumnDataSource\"},{\"attributes\":{\"bottom_units\":\"screen\",\"fill_alpha\":{\"value\":0.5},\"fill_color\":{\"value\":\"lightgrey\"},\"left_units\":\"screen\",\"level\":\"overlay\",\"line_alpha\":{\"value\":1.0},\"line_color\":{\"value\":\"black\"},\"line_dash\":[4,4],\"line_width\":{\"value\":2},\"plot\":null,\"render_mode\":\"css\",\"right_units\":\"screen\",\"top_units\":\"screen\"},\"id\":\"fce2071b-9583-48cf-89a4-c706037098c4\",\"type\":\"BoxAnnotation\"},{\"attributes\":{\"callback\":null,\"column_names\":[\"right\",\"bottom\",\"top\",\"left\"],\"data\":{\"bottom\":[645,645,645,645,645,645,645],\"left\":[135809835,135957574,136289083,136499189,136545415,136597196,136664254],\"right\":[135928279,136288182,136482839,136542633,136594750,136634047,136743222],\"top\":[675,675,675,675,675,675,675]}},\"id\":\"7f92c0ee-30d8-4fc1-8f41-ef4c8a51c498\",\"type\":\"ColumnDataSource\"},{\"attributes\":{\"formatter\":{\"id\":\"1ddcc576-adcc-49a1-a0b7-d26dbccf7bf2\",\"type\":\"BasicTickFormatter\"},\"plot\":{\"id\":\"206f3384-3b4c-445b-9ae7-e7dd5c93c9b0\",\"subtype\":\"Figure\",\"type\":\"Plot\"},\"ticker\":{\"id\":\"ad2bdf8e-c5a4-4c60-a0cd-3d4ef902e3e7\",\"type\":\"BasicTicker\"},\"visible\":null},\"id\":\"1418a725-f3c2-43af-96f5-20c51d9ee762\",\"type\":\"LinearAxis\"},{\"attributes\":{\"data_source\":{\"id\":\"e861c5da-a81c-40dd-8aff-c89c935406e1\",\"type\":\"ColumnDataSource\"},\"glyph\":{\"id\":\"35894622-9508-426d-9544-65387415a7d9\",\"type\":\"Quad\"},\"hover_glyph\":null,\"nonselection_glyph\":{\"id\":\"a810f6b7-8450-48ca-915a-477f4a0a80bf\",\"type\":\"Quad\"},\"selection_glyph\":null},\"id\":\"cba6a590-ccf5-49e8-b4b1-c64e4b47f889\",\"type\":\"GlyphRenderer\"},{\"attributes\":{},\"id\":\"1ddcc576-adcc-49a1-a0b7-d26dbccf7bf2\",\"type\":\"BasicTickFormatter\"},{\"attributes\":{\"plot\":null,\"text\":null},\"id\":\"5857f473-60a0-4972-841f-bb7e850e047a\",\"type\":\"Title\"},{\"attributes\":{\"below\":[{\"id\":\"0136f898-c0c9-4542-a705-eb37d3940efc\",\"type\":\"LinearAxis\"}],\"left\":[{\"id\":\"1418a725-f3c2-43af-96f5-20c51d9ee762\",\"type\":\"LinearAxis\"}],\"plot_height\":700,\"plot_width\":900,\"renderers\":[{\"id\":\"0136f898-c0c9-4542-a705-eb37d3940efc\",\"type\":\"LinearAxis\"},{\"id\":\"dd43e953-5982-425b-9531-c6a9f322fcfc\",\"type\":\"Grid\"},{\"id\":\"1418a725-f3c2-43af-96f5-20c51d9ee762\",\"type\":\"LinearAxis\"},{\"id\":\"164dcbd5-c6eb-4c7f-8406-2deadd081007\",\"type\":\"Grid\"},{\"id\":\"fce2071b-9583-48cf-89a4-c706037098c4\",\"type\":\"BoxAnnotation\"},{\"id\":\"cba6a590-ccf5-49e8-b4b1-c64e4b47f889\",\"type\":\"GlyphRenderer\"},{\"id\":\"957ee81b-def4-408b-a4a9-916ab213ed1a\",\"type\":\"GlyphRenderer\"},{\"id\":\"4ea62fdc-ec24-4f36-a49e-3966a188927c\",\"type\":\"LabelSet\"},{\"id\":\"aff30dcf-75b0-499d-af5c-a571e4ac8217\",\"type\":\"GlyphRenderer\"},{\"id\":\"e10fb3c5-7973-4425-8460-14b010e60342\",\"type\":\"LabelSet\"}],\"title\":{\"id\":\"5857f473-60a0-4972-841f-bb7e850e047a\",\"type\":\"Title\"},\"tool_events\":{\"id\":\"1aeedcda-adce-4a2f-85f1-889a2fff30d7\",\"type\":\"ToolEvents\"},\"toolbar\":{\"id\":\"0da30280-5045-45f7-af88-40f9e3e0f538\",\"type\":\"Toolbar\"},\"toolbar_location\":null,\"x_range\":{\"id\":\"4eab2042-e5ad-4c6f-9192-4b7900188e51\",\"type\":\"Range1d\"},\"y_range\":{\"id\":\"3bd75e70-9d4b-4ddb-ba08-8d3c64570ed7\",\"type\":\"Range1d\"}},\"id\":\"206f3384-3b4c-445b-9ae7-e7dd5c93c9b0\",\"subtype\":\"Figure\",\"type\":\"Plot\"},{\"attributes\":{\"data_source\":{\"id\":\"7f92c0ee-30d8-4fc1-8f41-ef4c8a51c498\",\"type\":\"ColumnDataSource\"},\"glyph\":{\"id\":\"8d909be1-353c-44c6-b88e-ee9d5a638d66\",\"type\":\"Quad\"},\"hover_glyph\":null,\"nonselection_glyph\":{\"id\":\"47a3dc21-503a-4ed8-8ac0-b862b524f34c\",\"type\":\"Quad\"},\"selection_glyph\":null},\"id\":\"aff30dcf-75b0-499d-af5c-a571e4ac8217\",\"type\":\"GlyphRenderer\"},{\"attributes\":{\"active_drag\":\"auto\",\"active_scroll\":\"auto\",\"active_tap\":\"auto\",\"tools\":[{\"id\":\"5e53d64b-b866-40ac-b573-ee20705f610b\",\"type\":\"PanTool\"},{\"id\":\"e41cd017-aebb-4276-aebb-27b36ca2bb64\",\"type\":\"WheelZoomTool\"},{\"id\":\"bf96d2a7-e8c3-494d-a264-865088fcc371\",\"type\":\"BoxZoomTool\"},{\"id\":\"e81db47b-1450-4a8a-b7f2-1e9e81cb7ebf\",\"type\":\"SaveTool\"},{\"id\":\"cf2d49de-02ed-465d-ae7f-b52bcb53eacc\",\"type\":\"ResetTool\"},{\"id\":\"91d0a174-4518-4b0a-8f54-0dfd0118dfb9\",\"type\":\"HelpTool\"}]},\"id\":\"0da30280-5045-45f7-af88-40f9e3e0f538\",\"type\":\"Toolbar\"},{\"attributes\":{\"plot\":{\"id\":\"206f3384-3b4c-445b-9ae7-e7dd5c93c9b0\",\"subtype\":\"Figure\",\"type\":\"Plot\"}},\"id\":\"91d0a174-4518-4b0a-8f54-0dfd0118dfb9\",\"type\":\"HelpTool\"},{\"attributes\":{\"formatter\":{\"id\":\"fbbbf623-e734-46d2-b382-d4d131f135d5\",\"type\":\"BasicTickFormatter\"},\"plot\":{\"id\":\"206f3384-3b4c-445b-9ae7-e7dd5c93c9b0\",\"subtype\":\"Figure\",\"type\":\"Plot\"},\"ticker\":{\"id\":\"12316977-af34-4c6a-8938-ec30c99fa579\",\"type\":\"BasicTicker\"}},\"id\":\"0136f898-c0c9-4542-a705-eb37d3940efc\",\"type\":\"LinearAxis\"},{\"attributes\":{},\"id\":\"1aeedcda-adce-4a2f-85f1-889a2fff30d7\",\"type\":\"ToolEvents\"},{\"attributes\":{\"line_alpha\":{\"value\":0.1},\"line_color\":{\"value\":\"#1f77b4\"},\"xs\":{\"field\":\"xs\"},\"ys\":{\"field\":\"ys\"}},\"id\":\"22d5dfc4-64d7-434d-bd09-343845a72128\",\"type\":\"MultiLine\"},{\"attributes\":{\"level\":\"glyph\",\"plot\":{\"id\":\"206f3384-3b4c-445b-9ae7-e7dd5c93c9b0\",\"subtype\":\"Figure\",\"type\":\"Plot\"},\"source\":{\"id\":\"5d3acba9-19ad-48b6-a0d7-454f1121d381\",\"type\":\"ColumnDataSource\"},\"text\":{\"field\":\"vals\"},\"text_font_size\":{\"value\":\"9pt\"},\"text_font_style\":\"bold\",\"x\":{\"field\":\"x\"},\"y\":{\"field\":\"y\"}},\"id\":\"4ea62fdc-ec24-4f36-a49e-3966a188927c\",\"type\":\"LabelSet\"},{\"attributes\":{\"data_source\":{\"id\":\"424d59b1-ce51-43a8-8b21-8009a5019ea6\",\"type\":\"ColumnDataSource\"},\"glyph\":{\"id\":\"98a29b62-490e-4b88-badf-b974823fd3d3\",\"type\":\"MultiLine\"},\"hover_glyph\":null,\"nonselection_glyph\":{\"id\":\"22d5dfc4-64d7-434d-bd09-343845a72128\",\"type\":\"MultiLine\"},\"selection_glyph\":null},\"id\":\"957ee81b-def4-408b-a4a9-916ab213ed1a\",\"type\":\"GlyphRenderer\"},{\"attributes\":{\"callback\":null,\"column_names\":[\"right\",\"bottom\",\"top\",\"left\",\"fill_color\"],\"data\":{\"bottom\":[550,450,50,450,150,50,250,350],\"fill_color\":[\"#808080\",\"#c46161\",\"#ff0000\",\"#808080\",\"#c46161\",\"#c46161\",\"#ff0000\",\"#ff0000\"],\"left\":[135758231,135933921,136468307,136653925,136658238,136666402,136696010,136704466],\"right\":[136376515,136368563,136483898,136761853,136677919,136768655,136764564,136732214],\"top\":[596,495,57,495,176,73,276,378]}},\"id\":\"e861c5da-a81c-40dd-8aff-c89c935406e1\",\"type\":\"ColumnDataSource\"},{\"attributes\":{\"bottom\":{\"field\":\"bottom\"},\"fill_color\":{\"value\":\"white\"},\"left\":{\"field\":\"left\"},\"right\":{\"field\":\"right\"},\"top\":{\"field\":\"top\"}},\"id\":\"8d909be1-353c-44c6-b88e-ee9d5a638d66\",\"type\":\"Quad\"}],\"root_ids\":[\"206f3384-3b4c-445b-9ae7-e7dd5c93c9b0\"]},\"title\":\"Bokeh Application\",\"version\":\"0.12.0\"}};\n",
       "            var render_items = [{\"docid\":\"569a7270-0b3a-4607-8bda-07416a3a84d0\",\"elementid\":\"1221deb8-1f77-4e8f-a5cf-d5645bb0f9c0\",\"modelid\":\"206f3384-3b4c-445b-9ae7-e7dd5c93c9b0\",\"notebook_comms_target\":\"d55f39e1-3391-4f58-a774-6a74169677d1\"}];\n",
       "            \n",
       "            Bokeh.embed.embed_items(docs_json, render_items);\n",
       "        });\n",
       "      },\n",
       "      function(Bokeh) {\n",
       "      }\n",
       "    ];\n",
       "  \n",
       "    function run_inline_js() {\n",
       "      for (var i = 0; i < inline_js.length; i++) {\n",
       "        inline_js[i](window.Bokeh);\n",
       "      }\n",
       "    }\n",
       "  \n",
       "    if (window._bokeh_is_loading === 0) {\n",
       "      console.log(\"Bokeh: BokehJS loaded, going straight to plotting\");\n",
       "      run_inline_js();\n",
       "    } else {\n",
       "      load_libs(js_urls, function() {\n",
       "        console.log(\"Bokeh: BokehJS plotting callback run at\", now());\n",
       "        run_inline_js();\n",
       "      });\n",
       "    }\n",
       "  }(this));\n",
       "</script>"
      ]
     },
     "metadata": {},
     "output_type": "display_data"
    },
    {
     "data": {
      "text/html": [
       "<p><code>&lt;Bokeh Notebook handle for <strong>In[35]</strong>&gt;</code></p>"
      ],
      "text/plain": [
       "<bokeh.io._CommsHandle at 0x7f3f0c328e90>"
      ]
     },
     "execution_count": 35,
     "metadata": {},
     "output_type": "execute_result"
    }
   ],
   "source": [
    "plt_obj = dm.superset_allele_mask(am_29, [dm.di_117_1685], [dm.di_4_815], min_match=0.001)\n",
    "plt = plt_obj.do_plot()\n",
    "am_not_4_815 = plt_obj.plot_context.yes_allele_mask\n",
    "show(plt)"
   ]
  },
  {
   "cell_type": "code",
   "execution_count": 36,
   "metadata": {
    "collapsed": false
   },
   "outputs": [
    {
     "data": {
      "text/html": [
       "<table>\n",
       "<thead><tr><th style=\"text-align:center\">index</th><th style=\"text-align:center\">first</th><th style=\"text-align:center\">length</th><th style=\"text-align:center\">snps</th><th style=\"text-align:center\" colspan=2>alleles</th><th style=\"text-align:center\" colspan=2>matches</th><th style=\"text-align:center\" colspan=2>afr</th><th style=\"text-align:center\" colspan=2>afx</th><th style=\"text-align:center\" colspan=2>amr</th><th style=\"text-align:center\" colspan=2>eas</th><th style=\"text-align:center\" colspan=2>eur</th><th style=\"text-align:center\" colspan=2>sas</th><th style=\"text-align:center\" colspan=2>sax</th></tr></thead>\n",
       "<tr class=\"even\"><td style=\"text-align: right;\">353244</td><td style=\"text-align: right;\">135,758,231</td><td style=\"text-align: right;\">618,284</td><td style=\"text-align: right;\">117</td><td style=\"text-align: right;\">1685</td><td style=\"text-align: right;\">0.00</td><td style=\"text-align: right;\">1</td><td style=\"text-align: right;\">1.00</td><td style=\"text-align: right;\">1</td><td style=\"text-align: right;\">4.97</td><td style=\"text-align: right;\">0</td><td style=\"text-align: right;\">0.00</td><td style=\"text-align: right;\">0</td><td style=\"text-align: right;\">0.00</td><td style=\"text-align: right;\">0</td><td style=\"text-align: right;\">0.00</td><td style=\"text-align: right;\">0</td><td style=\"text-align: right;\">0.00</td><td style=\"text-align: right;\">0</td><td style=\"text-align: right;\">0.00</td><td style=\"text-align: right;\">0</td><td style=\"text-align: right;\">0.00</td></tr>\n",
       "<tr><td style=\"text-align: right;\">353478</td><td style=\"text-align: right;\">135,933,921</td><td style=\"text-align: right;\">434,642</td><td style=\"text-align: right;\">123</td><td style=\"text-align: right;\">1561</td><td style=\"text-align: right;\">0.00</td><td style=\"text-align: right;\">1</td><td style=\"text-align: right;\">1.00</td><td style=\"text-align: right;\">1</td><td style=\"text-align: right;\">4.97</td><td style=\"text-align: right;\">0</td><td style=\"text-align: right;\">0.00</td><td style=\"text-align: right;\">0</td><td style=\"text-align: right;\">0.00</td><td style=\"text-align: right;\">0</td><td style=\"text-align: right;\">0.00</td><td style=\"text-align: right;\">0</td><td style=\"text-align: right;\">0.00</td><td style=\"text-align: right;\">0</td><td style=\"text-align: right;\">0.00</td><td style=\"text-align: right;\">0</td><td style=\"text-align: right;\">0.00</td></tr>\n",
       "<tr class=\"even\"><td style=\"text-align: right;\">354130</td><td style=\"text-align: right;\">136,653,925</td><td style=\"text-align: right;\">107,928</td><td style=\"text-align: right;\">24</td><td style=\"text-align: right;\">1504</td><td style=\"text-align: right;\">0.00</td><td style=\"text-align: right;\">1</td><td style=\"text-align: right;\">1.00</td><td style=\"text-align: right;\">1</td><td style=\"text-align: right;\">4.97</td><td style=\"text-align: right;\">0</td><td style=\"text-align: right;\">0.00</td><td style=\"text-align: right;\">0</td><td style=\"text-align: right;\">0.00</td><td style=\"text-align: right;\">0</td><td style=\"text-align: right;\">0.00</td><td style=\"text-align: right;\">0</td><td style=\"text-align: right;\">0.00</td><td style=\"text-align: right;\">0</td><td style=\"text-align: right;\">0.00</td><td style=\"text-align: right;\">0</td><td style=\"text-align: right;\">0.00</td></tr>\n",
       "<tr><td style=\"text-align: right;\">354189</td><td style=\"text-align: right;\">136,704,466</td><td style=\"text-align: right;\">27,748</td><td style=\"text-align: right;\">5</td><td style=\"text-align: right;\">212</td><td style=\"text-align: right;\">0.00</td><td style=\"text-align: right;\">1</td><td style=\"text-align: right;\">1.00</td><td style=\"text-align: right;\">1</td><td style=\"text-align: right;\">4.97</td><td style=\"text-align: right;\">0</td><td style=\"text-align: right;\">0.00</td><td style=\"text-align: right;\">0</td><td style=\"text-align: right;\">0.00</td><td style=\"text-align: right;\">0</td><td style=\"text-align: right;\">0.00</td><td style=\"text-align: right;\">0</td><td style=\"text-align: right;\">0.00</td><td style=\"text-align: right;\">0</td><td style=\"text-align: right;\">0.00</td><td style=\"text-align: right;\">0</td><td style=\"text-align: right;\">0.00</td></tr>\n",
       "<tr class=\"even\"><td style=\"text-align: right;\">354181</td><td style=\"text-align: right;\">136,696,010</td><td style=\"text-align: right;\">68,554</td><td style=\"text-align: right;\">18</td><td style=\"text-align: right;\">172</td><td style=\"text-align: right;\">0.01</td><td style=\"text-align: right;\">1</td><td style=\"text-align: right;\">1.00</td><td style=\"text-align: right;\">1</td><td style=\"text-align: right;\">4.97</td><td style=\"text-align: right;\">0</td><td style=\"text-align: right;\">0.00</td><td style=\"text-align: right;\">0</td><td style=\"text-align: right;\">0.00</td><td style=\"text-align: right;\">0</td><td style=\"text-align: right;\">0.00</td><td style=\"text-align: right;\">0</td><td style=\"text-align: right;\">0.00</td><td style=\"text-align: right;\">0</td><td style=\"text-align: right;\">0.00</td><td style=\"text-align: right;\">0</td><td style=\"text-align: right;\">0.00</td></tr>\n",
       "<tr><td style=\"text-align: right;\">354143</td><td style=\"text-align: right;\">136,658,238</td><td style=\"text-align: right;\">19,681</td><td style=\"text-align: right;\">6</td><td style=\"text-align: right;\">167</td><td style=\"text-align: right;\">0.01</td><td style=\"text-align: right;\">1</td><td style=\"text-align: right;\">1.00</td><td style=\"text-align: right;\">1</td><td style=\"text-align: right;\">4.97</td><td style=\"text-align: right;\">0</td><td style=\"text-align: right;\">0.00</td><td style=\"text-align: right;\">0</td><td style=\"text-align: right;\">0.00</td><td style=\"text-align: right;\">0</td><td style=\"text-align: right;\">0.00</td><td style=\"text-align: right;\">0</td><td style=\"text-align: right;\">0.00</td><td style=\"text-align: right;\">0</td><td style=\"text-align: right;\">0.00</td><td style=\"text-align: right;\">0</td><td style=\"text-align: right;\">0.00</td></tr>\n",
       "<tr class=\"even\"><td style=\"text-align: right;\">354156</td><td style=\"text-align: right;\">136,666,402</td><td style=\"text-align: right;\">102,253</td><td style=\"text-align: right;\">17</td><td style=\"text-align: right;\">121</td><td style=\"text-align: right;\">0.01</td><td style=\"text-align: right;\">1</td><td style=\"text-align: right;\">1.00</td><td style=\"text-align: right;\">1</td><td style=\"text-align: right;\">4.97</td><td style=\"text-align: right;\">0</td><td style=\"text-align: right;\">0.00</td><td style=\"text-align: right;\">0</td><td style=\"text-align: right;\">0.00</td><td style=\"text-align: right;\">0</td><td style=\"text-align: right;\">0.00</td><td style=\"text-align: right;\">0</td><td style=\"text-align: right;\">0.00</td><td style=\"text-align: right;\">0</td><td style=\"text-align: right;\">0.00</td><td style=\"text-align: right;\">0</td><td style=\"text-align: right;\">0.00</td></tr>\n",
       "<tr><td style=\"text-align: right;\">353866</td><td style=\"text-align: right;\">136,468,307</td><td style=\"text-align: right;\">15,591</td><td style=\"text-align: right;\">5</td><td style=\"text-align: right;\">18</td><td style=\"text-align: right;\">0.06</td><td style=\"text-align: right;\">1</td><td style=\"text-align: right;\">1.00</td><td style=\"text-align: right;\">1</td><td style=\"text-align: right;\">4.97</td><td style=\"text-align: right;\">0</td><td style=\"text-align: right;\">0.00</td><td style=\"text-align: right;\">0</td><td style=\"text-align: right;\">0.00</td><td style=\"text-align: right;\">0</td><td style=\"text-align: right;\">0.00</td><td style=\"text-align: right;\">0</td><td style=\"text-align: right;\">0.00</td><td style=\"text-align: right;\">0</td><td style=\"text-align: right;\">0.00</td><td style=\"text-align: right;\">0</td><td style=\"text-align: right;\">0.00</td></tr>\n",
       "</table>"
      ],
      "text/plain": [
       "<IPython.core.display.HTML object>"
      ]
     },
     "execution_count": 36,
     "metadata": {},
     "output_type": "execute_result"
    }
   ],
   "source": [
    "HTML(plt_obj.get_html())"
   ]
  },
  {
   "cell_type": "code",
   "execution_count": 37,
   "metadata": {
    "collapsed": false
   },
   "outputs": [
    {
     "data": {
      "text/plain": [
       "array([0, 0, 0, 0, 0, 0, 0, 0, 0, 0, 0, 0, 0, 0, 0, 0, 0, 0, 0, 0, 0, 0, 0,\n",
       "       0, 0, 0, 0, 0, 0, 0, 0, 0, 0, 0, 0, 0, 0, 0, 0, 0, 0, 0, 0, 0, 0, 0,\n",
       "       0, 0, 0, 0, 0, 0, 0, 0, 0, 0, 0, 0, 0, 0, 0, 0, 1, 0, 0, 0, 0, 0, 0,\n",
       "       1, 0, 0, 0, 0, 0, 0, 1, 0, 0, 1, 0, 1, 0, 0, 1, 0, 0, 0, 0, 0, 0, 0,\n",
       "       0, 1, 1, 0, 0, 1, 1, 1, 0, 0, 0, 0, 1, 0, 1, 0, 0, 0, 0, 1, 0, 1, 0,\n",
       "       0, 1, 1, 0, 0, 0, 0, 0, 0, 0, 0, 0, 0, 1, 1, 1, 0, 0, 0, 0, 1, 1, 0,\n",
       "       0, 1, 0, 0, 1, 0, 1, 0, 1, 1, 0, 0, 1, 0, 0, 0, 1, 0, 0, 0, 0, 0, 0,\n",
       "       0, 0, 0, 0, 0, 0, 0, 0, 0, 0, 0, 0, 0, 0, 0, 0, 0, 0, 0, 0, 0, 0, 0,\n",
       "       0, 0, 0, 0, 0, 0, 0, 0, 0])"
      ]
     },
     "execution_count": 37,
     "metadata": {},
     "output_type": "execute_result"
    }
   ],
   "source": [
    "an.sa_193_843.alleles_per_snp(am_not_4_815)"
   ]
  },
  {
   "cell_type": "markdown",
   "metadata": {},
   "source": [
    "<div style=\"width:700px\">\n",
    "<p>\n",
    "This data confirms that this chromosome sample is the one that expresses the\n",
    "divergent series of 29 193_843 SNPs.\n",
    "</div>"
   ]
  },
  {
   "cell_type": "code",
   "execution_count": 38,
   "metadata": {
    "collapsed": false
   },
   "outputs": [
    {
     "data": {
      "text/plain": [
       "array([41, 41, 41, 41, 41, 41, 41, 41, 41, 41, 41, 41, 41, 41, 41, 41, 41,\n",
       "       41, 41, 41, 41, 41, 41, 41, 41, 41, 41, 41, 41, 41, 41, 41, 41, 41,\n",
       "       41, 41, 41, 41, 41, 41, 41, 41, 41, 41, 41, 41, 41, 41, 41, 41, 41,\n",
       "       41, 41, 41, 41, 41, 41, 41, 41, 41, 41, 41, 41, 41, 41, 41, 41, 41,\n",
       "       41, 41, 41, 41, 41, 41, 41, 41, 41, 41, 41, 41, 41, 41, 41, 41, 41,\n",
       "       41, 41, 41, 41, 41, 41, 41, 41, 41, 41, 41, 41, 41, 41, 41, 41, 41,\n",
       "       41, 41, 41, 41, 41, 41, 41, 41, 41, 41, 41, 41, 41, 41, 41, 41, 41,\n",
       "       41, 41, 41, 41, 41, 41, 41, 41, 41, 41, 41, 41, 41, 41, 41, 41, 41,\n",
       "       41, 41, 41, 41, 41, 41, 41, 41, 41, 41, 41, 41, 41, 41, 41, 41, 41,\n",
       "       41, 41, 41, 41, 41, 41, 41, 41, 41, 41, 41, 41, 41, 41, 41, 41, 41,\n",
       "        0,  0,  0,  0,  0,  0,  0,  0,  0,  0,  0,  0,  0,  0,  0,  0,  0,\n",
       "        0,  0,  0,  0,  0,  0])"
      ]
     },
     "execution_count": 38,
     "metadata": {},
     "output_type": "execute_result"
    }
   ],
   "source": [
    "aps_170, am_170 = an.sa_193_843.snps_from_aps_value(170, nam_193_843)\n",
    "aps_170"
   ]
  },
  {
   "cell_type": "markdown",
   "metadata": {},
   "source": [
    "<div style=\"width:700px\">\n",
    "<p>\n",
    "This data shows the expressed SNPs and for the\n",
    "chromosome samples that express 170 193_843 SNPs.  In this case, all 41\n",
    "of the chromosome samples express the first 170 SNPs.\n",
    "</div>"
   ]
  },
  {
   "cell_type": "code",
   "execution_count": 39,
   "metadata": {
    "collapsed": false
   },
   "outputs": [
    {
     "data": {
      "text/html": [
       "\n",
       "\n",
       "    <div class=\"bk-root\">\n",
       "        <div class=\"plotdiv\" id=\"61710f69-6209-4206-a63f-fd564f195fea\"></div>\n",
       "    </div>\n",
       "<script type=\"text/javascript\">\n",
       "  \n",
       "  (function(global) {\n",
       "    function now() {\n",
       "      return new Date();\n",
       "    }\n",
       "  \n",
       "    if (typeof (window._bokeh_onload_callbacks) === \"undefined\") {\n",
       "      window._bokeh_onload_callbacks = [];\n",
       "    }\n",
       "  \n",
       "    function run_callbacks() {\n",
       "      window._bokeh_onload_callbacks.forEach(function(callback) { callback() });\n",
       "      delete window._bokeh_onload_callbacks\n",
       "      console.info(\"Bokeh: all callbacks have finished\");\n",
       "    }\n",
       "  \n",
       "    function load_libs(js_urls, callback) {\n",
       "      window._bokeh_onload_callbacks.push(callback);\n",
       "      if (window._bokeh_is_loading > 0) {\n",
       "        console.log(\"Bokeh: BokehJS is being loaded, scheduling callback at\", now());\n",
       "        return null;\n",
       "      }\n",
       "      if (js_urls == null || js_urls.length === 0) {\n",
       "        run_callbacks();\n",
       "        return null;\n",
       "      }\n",
       "      console.log(\"Bokeh: BokehJS not loaded, scheduling load and callback at\", now());\n",
       "      window._bokeh_is_loading = js_urls.length;\n",
       "      for (var i = 0; i < js_urls.length; i++) {\n",
       "        var url = js_urls[i];\n",
       "        var s = document.createElement('script');\n",
       "        s.src = url;\n",
       "        s.async = false;\n",
       "        s.onreadystatechange = s.onload = function() {\n",
       "          window._bokeh_is_loading--;\n",
       "          if (window._bokeh_is_loading === 0) {\n",
       "            console.log(\"Bokeh: all BokehJS libraries loaded\");\n",
       "            run_callbacks()\n",
       "          }\n",
       "        };\n",
       "        s.onerror = function() {\n",
       "          console.warn(\"failed to load library \" + url);\n",
       "        };\n",
       "        console.log(\"Bokeh: injecting script tag for BokehJS library: \", url);\n",
       "        document.getElementsByTagName(\"head\")[0].appendChild(s);\n",
       "      }\n",
       "    };var element = document.getElementById(\"61710f69-6209-4206-a63f-fd564f195fea\");\n",
       "    if (element == null) {\n",
       "      console.log(\"Bokeh: ERROR: autoload.js configured with elementid '61710f69-6209-4206-a63f-fd564f195fea' but no matching script tag was found. \")\n",
       "      return false;\n",
       "    }\n",
       "  \n",
       "    var js_urls = [];\n",
       "  \n",
       "    var inline_js = [\n",
       "      function(Bokeh) {\n",
       "        Bokeh.$(function() {\n",
       "            var docs_json = {\"a1eef3a9-a681-44fa-b458-97edb6dc2298\":{\"roots\":{\"references\":[{\"attributes\":{\"callback\":null,\"column_names\":[\"xs\",\"ys\",\"line_color\"],\"data\":{\"line_color\":[\"black\",\"black\",\"black\",\"black\",\"black\",\"black\",\"black\",\"black\",\"black\",\"black\",\"black\",\"black\",\"black\",\"black\",\"black\",\"black\",\"black\",\"black\",\"black\",\"black\",\"black\",\"black\",\"black\",\"black\",\"black\",\"black\",\"black\",\"black\",\"black\",\"black\",\"black\",\"black\",\"black\",\"black\",\"black\",\"black\",\"black\",\"black\",\"black\",\"black\",\"black\",\"black\",\"black\",\"black\",\"black\",\"black\",\"black\",\"black\",\"black\",\"black\",\"black\",\"black\",\"black\",\"black\",\"black\",\"black\",\"black\",\"black\",\"black\",\"black\",\"black\",\"black\",\"black\",\"black\",\"black\",\"black\",\"black\",\"black\",\"black\",\"black\",\"black\",\"black\",\"black\",\"black\",\"black\",\"black\",\"black\",\"black\",\"black\",\"black\",\"black\",\"black\",\"black\",\"black\",\"black\",\"black\",\"black\",\"black\",\"black\",\"black\",\"black\",\"black\",\"black\",\"black\",\"black\",\"black\",\"black\",\"black\",\"black\",\"black\",\"black\",\"black\",\"black\",\"black\",\"black\",\"black\",\"black\",\"black\",\"black\",\"black\",\"black\",\"black\",\"black\",\"black\",\"black\",\"black\",\"black\",\"black\",\"black\",\"black\",\"black\",\"black\",\"black\",\"black\",\"black\",\"black\",\"black\",\"black\",\"black\",\"black\",\"black\",\"black\",\"black\",\"black\",\"black\",\"black\",\"black\",\"black\",\"black\",\"black\",\"black\",\"black\",\"black\",\"black\",\"black\",\"black\",\"black\",\"black\",\"black\",\"black\",\"black\",\"black\",\"black\",\"black\",\"black\",\"black\",\"black\",\"black\",\"black\",\"black\",\"black\",\"black\",\"black\",\"black\",\"black\",\"black\",\"black\",\"black\",\"black\",\"black\",\"black\",\"black\",\"black\",\"black\",\"black\",\"black\",\"black\",\"black\",\"black\",\"black\",\"black\",\"black\",\"black\",\"black\",\"black\",\"black\",\"black\",\"black\",\"black\",\"black\",\"black\",\"black\",\"black\",\"black\",\"black\",\"black\",\"black\",\"black\",\"black\",\"black\",\"black\",\"black\",\"black\",\"black\",\"black\",\"black\",\"black\",\"black\",\"black\",\"black\",\"black\",\"black\",\"black\",\"black\",\"black\",\"black\",\"black\",\"black\",\"black\",\"black\",\"black\",\"black\",\"black\",\"black\",\"black\",\"black\",\"black\",\"black\",\"black\",\"black\",\"black\",\"black\",\"black\",\"black\",\"black\",\"black\",\"black\",\"black\",\"black\",\"black\",\"black\",\"black\",\"black\",\"black\",\"black\",\"black\",\"black\",\"black\",\"black\",\"black\",\"black\",\"black\",\"black\",\"black\",\"black\",\"black\",\"black\",\"black\",\"black\",\"black\",\"black\",\"black\",\"black\",\"black\",\"black\",\"black\",\"black\",\"black\",\"black\",\"black\",\"black\",\"black\",\"black\",\"black\",\"black\",\"black\",\"black\",\"black\",\"black\",\"black\",\"black\",\"black\",\"black\",\"black\",\"black\",\"black\",\"black\",\"black\",\"black\",\"black\",\"black\",\"black\",\"black\",\"black\",\"black\",\"black\",\"black\",\"black\",\"black\",\"black\",\"black\",\"black\",\"black\",\"black\",\"black\",\"black\",\"black\",\"black\",\"black\",\"black\",\"black\",\"black\",\"black\",\"black\",\"black\",\"black\",\"black\",\"black\",\"black\",\"black\",\"black\",\"black\",\"black\",\"black\",\"black\",\"black\",\"black\",\"black\",\"black\",\"black\",\"black\",\"black\",\"black\",\"black\",\"black\",\"black\",\"black\",\"black\",\"black\",\"black\",\"black\",\"black\",\"black\",\"black\",\"black\",\"black\",\"black\",\"black\",\"black\",\"black\",\"black\",\"black\",\"black\",\"black\",\"black\",\"black\",\"black\",\"black\",\"black\",\"black\",\"black\",\"black\",\"black\",\"black\",\"black\",\"black\",\"black\",\"black\",\"black\",\"black\",\"black\",\"black\",\"black\",\"black\",\"black\",\"black\",\"black\",\"black\",\"black\",\"black\",\"black\",\"black\",\"black\",\"black\",\"black\",\"black\",\"black\",\"black\",\"black\",\"black\",\"black\"],\"xs\":[[135758231,135758231],[135758520,135758520],[135766072,135766072],[135773420,135773420],[135773446,135773446],[135773617,135773617],[135773692,135773692],[135774681,135774681],[135775049,135775049],[135776430,135776430],[135778656,135778656],[135780168,135780168],[135780587,135780587],[135781301,135781301],[135781522,135781522],[135781635,135781635],[135782456,135782456],[135783157,135783157],[135783366,135783366],[135783367,135783367],[135784227,135784227],[135784733,135784733],[135785066,135785066],[135785068,135785068],[135785149,135785149],[135787148,135787148],[135787642,135787642],[135789405,135789405],[135789472,135789472],[135789682,135789682],[135789784,135789784],[135792338,135792338],[135792528,135792528],[135793565,135793565],[135793684,135793684],[135793845,135793845],[135794367,135794367],[135794986,135794986],[135795040,135795040],[135795095,135795095],[135795150,135795150],[135795385,135795385],[135795396,135795396],[135795443,135795443],[135795595,135795595],[135796000,135796000],[135796155,135796155],[135796410,135796410],[135796965,135796965],[135797223,135797223],[135797747,135797747],[135798082,135798082],[135798758,135798758],[135799082,135799082],[135800085,135800085],[135800601,135800601],[135800757,135800757],[135801228,135801228],[135801956,135801956],[135802020,135802020],[135802028,135802028],[135802050,135802050],[135802148,135802148],[135803766,135803766],[135809241,135809241],[135812969,135812969],[135814716,135814716],[135818907,135818907],[135829432,135829432],[135832131,135832131],[135849613,135849613],[135853807,135853807],[135859923,135859923],[135860305,135860305],[135861497,135861497],[135863143,135863143],[135864294,135864294],[135871624,135871624],[135872646,135872646],[135874038,135874038],[135874622,135874622],[135878814,135878814],[135880013,135880013],[135884487,135884487],[135885357,135885357],[135893853,135893853],[135895809,135895809],[135895879,135895879],[135899069,135899069],[135909462,135909462],[135912977,135912977],[135914038,135914038],[135921839,135921839],[135925002,135925002],[135928312,135928312],[135935049,135935049],[135962711,135962711],[135984172,135984172],[135994753,135994753],[135994754,135994754],[136016079,136016079],[136027264,136027264],[136052004,136052004],[136100473,136100473],[136110129,136110129],[136166536,136166536],[136169799,136169799],[136191314,136191314],[136228887,136228887],[136238453,136238453],[136288273,136288273],[136292425,136292425],[136321951,136321951],[136324564,136324564],[136327299,136327299],[136327302,136327302],[136376515,136376515],[135766890,135766890],[135778708,135778708],[135779588,135779588],[135805941,135805941],[135805943,135805943],[135932720,135932720],[135933317,135933317],[135934842,135934842],[135952376,135952376],[135958853,135958853],[135962864,135962864],[135963304,135963304],[135965376,135965376],[135980201,135980201],[135981554,135981554],[135988127,135988127],[135988416,135988416],[135991470,135991470],[136000500,136000500],[136001215,136001215],[136001295,136001295],[136016514,136016514],[136017388,136017388],[136041102,136041102],[136041662,136041662],[136047387,136047387],[136052936,136052936],[136055275,136055275],[136063118,136063118],[136066802,136066802],[136068890,136068890],[136069577,136069577],[136081193,136081193],[136105193,136105193],[136107839,136107839],[136110835,136110835],[136138026,136138026],[136142092,136142092],[136146499,136146499],[136147607,136147607],[136148401,136148401],[136150512,136150512],[136154734,136154734],[136155805,136155805],[136163001,136163001],[136163266,136163266],[136163568,136163568],[136163821,136163821],[136165965,136165965],[136183312,136183312],[136185945,136185945],[136191729,136191729],[136204827,136204827],[136208747,136208747],[136217980,136217980],[136229438,136229438],[136232572,136232572],[136240942,136240942],[136251329,136251329],[136265187,136265187],[136265188,136265188],[136275985,136275985],[135818487,135818487],[136048649,136048649],[136107286,136107286],[136127914,136127914],[136130497,136130497],[136268096,136268096],[136281880,136281880],[136289565,136289565],[135839805,135839805],[135866750,135866750],[135886744,135886744],[135924467,135924467],[135964764,135964764],[135964765,135964765],[136099127,136099127],[136099650,136099650],[136100705,136100705],[136101132,136101132],[135989333,135989333],[136000304,136000304],[136030519,136030519],[136034836,136034836],[136125165,136125165],[136264631,136264631],[136028572,136028572],[136141525,136141525],[136174478,136174478],[136211744,136211744],[136240608,136240608],[136320031,136320031],[136320040,136320040],[136368926,136368926],[136438465,136438465],[136393658,136393658],[136396300,136396300],[136401843,136401843],[136407445,136407445],[136411879,136411879],[136412270,136412270],[136413244,136413244],[136413847,136413847],[136415217,136415217],[136416533,136416533],[136420726,136420726],[136429857,136429857],[136433740,136433740],[136436317,136436317],[136437615,136437615],[136438517,136438517],[136440300,136440300],[136443900,136443900],[136444185,136444185],[136444338,136444338],[136449254,136449254],[136451676,136451676],[136459227,136459227],[136463117,136463117],[136463454,136463454],[136467119,136467119],[136468238,136468238],[136470219,136470219],[136483355,136483355],[136485276,136485276],[136486340,136486340],[136486342,136486342],[136494985,136494985],[136497199,136497199],[136511817,136511817],[136513670,136513670],[136515458,136515458],[136516970,136516970],[136525309,136525309],[136528034,136528034],[136532225,136532225],[136535235,136535235],[136536095,136536095],[136544423,136544423],[136546927,136546927],[136552188,136552188],[136552517,136552517],[136555525,136555525],[136556480,136556480],[136560464,136560464],[136572285,136572285],[136582694,136582694],[136582809,136582809],[136584538,136584538],[136585323,136585323],[136586825,136586825],[136600662,136600662],[136612036,136612036],[136618178,136618178],[136618507,136618507],[136622543,136622543],[136624947,136624947],[136625113,136625113],[136626078,136626078],[136628121,136628121],[136632300,136632300],[136633962,136633962],[136635343,136635343],[136638113,136638113],[136640101,136640101],[136641593,136641593],[136646582,136646582],[136648077,136648077],[136648883,136648883],[136652045,136652045],[136653848,136653848],[136656094,136656094],[136661110,136661110],[136663110,136663110],[136663605,136663605],[136665162,136665162],[136665711,136665711],[136668123,136668123],[136670419,136670419],[136672680,136672680],[136673546,136673546],[136684632,136684632],[136686114,136686114],[136690425,136690425],[136690783,136690783],[136692893,136692893],[136694905,136694905],[136695694,136695694],[136695705,136695705],[136696608,136696608],[136697372,136697372],[136697468,136697468],[136700024,136700024],[136701539,136701539],[136702118,136702118],[136707480,136707480],[136710554,136710554],[136714178,136714178],[136719173,136719173],[136725459,136725459],[136734569,136734569],[136744678,136744678],[136748779,136748779],[136751488,136751488],[136754183,136754183],[136763242,136763242],[136765074,136765074],[136773638,136773638],[136500475,136500475],[136501509,136501509],[136504101,136504101],[136509868,136509868],[136520043,136520043],[136527120,136527120],[136530379,136530379],[136530443,136530443],[136539330,136539330],[136539670,136539670],[136540083,136540083],[136542559,136542559],[136542560,136542560],[136506375,136506375],[136506927,136506927],[136510012,136510012],[136538939,136538939],[136535876,136535876],[136544651,136544651],[136545844,136545844],[136552526,136552526],[136553022,136553022],[136554797,136554797],[136554890,136554890],[136588031,136588031],[136589278,136589278],[136589379,136589379],[136589741,136589741],[136590746,136590746],[136593553,136593553],[136593678,136593678],[136652491,136652491],[136652524,136652524],[136661150,136661150],[136669264,136669264],[136726567,136726567],[136732772,136732772],[136652953,136652953],[136655582,136655582],[136674028,136674028],[136684940,136684940],[136761175,136761175],[136653925,136653925],[136654833,136654833],[136656534,136656534],[136656536,136656536],[136657252,136657252],[136667301,136667301],[136667487,136667487],[136672775,136672775],[136680534,136680534],[136686393,136686393],[136688749,136688749],[136692553,136692553],[136697371,136697371],[136708787,136708787],[136710372,136710372],[136711064,136711064],[136715324,136715324],[136723504,136723504],[136737460,136737460],[136743143,136743143],[136746224,136746224],[136751842,136751842],[136759379,136759379],[136761853,136761853]],\"ys\":[[750,796],[750,796],[750,796],[750,796],[750,796],[750,796],[750,796],[750,796],[750,796],[750,796],[750,796],[750,796],[750,796],[750,796],[750,796],[750,796],[750,796],[750,796],[750,796],[750,796],[750,796],[750,796],[750,796],[750,796],[750,796],[750,796],[750,796],[750,796],[750,796],[750,796],[750,796],[750,796],[750,796],[750,796],[750,796],[750,796],[750,796],[750,796],[750,796],[750,796],[750,796],[750,796],[750,796],[750,796],[750,796],[750,796],[750,796],[750,796],[750,796],[750,796],[750,796],[750,796],[750,796],[750,796],[750,796],[750,796],[750,796],[750,796],[750,796],[750,796],[750,796],[750,796],[750,796],[750,796],[750,796],[750,796],[750,796],[750,796],[750,796],[750,796],[750,796],[750,796],[750,796],[750,796],[750,796],[750,796],[750,796],[750,796],[750,796],[750,796],[750,796],[750,796],[750,796],[750,796],[750,796],[750,796],[750,796],[750,796],[750,796],[750,796],[750,796],[750,796],[750,796],[750,796],[750,796],[750,796],[750,796],[750,796],[750,796],[750,796],[750,796],[750,796],[750,796],[750,796],[750,796],[750,796],[750,796],[750,796],[750,796],[750,796],[750,796],[750,796],[750,796],[750,796],[750,796],[750,796],[750,796],[450,493],[450,493],[450,493],[450,493],[450,493],[450,493],[450,493],[450,493],[450,493],[450,493],[450,493],[450,493],[450,493],[450,493],[450,493],[450,493],[450,493],[450,493],[450,493],[450,493],[450,493],[450,493],[450,493],[450,493],[450,493],[450,493],[450,493],[450,493],[450,493],[450,493],[450,493],[450,493],[450,493],[450,493],[450,493],[450,493],[450,493],[450,493],[450,493],[450,493],[450,493],[450,493],[450,493],[450,493],[450,493],[450,493],[450,493],[450,493],[450,493],[450,493],[450,493],[450,493],[450,493],[450,493],[450,493],[450,493],[450,493],[450,493],[450,493],[450,493],[450,493],[450,493],[150,180],[150,180],[150,180],[150,180],[150,180],[150,180],[150,180],[150,180],[250,290],[250,290],[250,290],[250,290],[350,391],[350,391],[350,391],[350,391],[350,391],[350,391],[250,288],[250,288],[250,288],[250,288],[250,288],[250,288],[50,63],[50,63],[50,63],[50,63],[50,63],[50,63],[50,63],[50,63],[50,63],[650,694],[650,694],[650,694],[650,694],[650,694],[650,694],[650,694],[650,694],[650,694],[650,694],[650,694],[650,694],[650,694],[650,694],[650,694],[650,694],[650,694],[650,694],[650,694],[650,694],[650,694],[650,694],[650,694],[650,694],[650,694],[650,694],[650,694],[650,694],[650,694],[650,694],[650,694],[650,694],[350,390],[350,390],[350,390],[350,390],[350,390],[350,390],[350,390],[350,390],[350,390],[350,390],[350,390],[350,390],[350,390],[350,390],[350,390],[350,390],[350,390],[350,390],[350,390],[350,390],[350,390],[350,390],[350,390],[350,390],[350,390],[350,390],[350,390],[350,390],[350,390],[350,390],[350,390],[350,390],[350,390],[350,390],[350,390],[350,390],[350,390],[350,390],[350,390],[350,390],[350,390],[350,390],[350,390],[350,390],[350,390],[350,390],[350,390],[350,390],[350,390],[350,390],[350,390],[350,390],[350,390],[350,390],[350,390],[350,390],[350,390],[350,390],[350,390],[350,390],[350,390],[350,390],[350,390],[350,390],[350,390],[350,390],[350,390],[350,390],[350,390],[350,390],[350,390],[350,390],[350,390],[350,390],[350,390],[350,390],[350,390],[350,390],[350,390],[350,390],[350,390],[450,493],[450,493],[450,493],[450,493],[450,493],[450,493],[450,493],[450,493],[450,493],[450,493],[450,493],[450,493],[450,493],[650,694],[650,694],[650,694],[650,694],[550,594],[550,594],[550,594],[550,594],[550,594],[550,594],[550,594],[750,796],[750,796],[750,796],[750,796],[750,796],[750,796],[750,796],[450,492],[450,492],[450,492],[450,492],[450,492],[450,492],[550,594],[550,594],[550,594],[550,594],[550,594],[750,795],[750,795],[750,795],[750,795],[750,795],[750,795],[750,795],[750,795],[750,795],[750,795],[750,795],[750,795],[750,795],[750,795],[750,795],[750,795],[750,795],[750,795],[750,795],[750,795],[750,795],[750,795],[750,795],[750,795]]}},\"id\":\"e3ed1093-08a2-43fc-a024-5b49df40094e\",\"type\":\"ColumnDataSource\"},{\"attributes\":{\"bottom\":{\"field\":\"bottom\"},\"fill_alpha\":{\"value\":0.1},\"fill_color\":{\"value\":\"#1f77b4\"},\"left\":{\"field\":\"left\"},\"line_alpha\":{\"value\":0.1},\"line_color\":{\"value\":\"#1f77b4\"},\"right\":{\"field\":\"right\"},\"top\":{\"field\":\"top\"}},\"id\":\"7cac25f1-5286-40c0-812a-9091ad12c455\",\"type\":\"Quad\"},{\"attributes\":{\"level\":\"glyph\",\"plot\":{\"id\":\"db3f8f71-60b2-48b8-9685-c71ad002d15a\",\"subtype\":\"Figure\",\"type\":\"Plot\"},\"source\":{\"id\":\"b45a6a1f-983a-4757-8abd-7610280b93df\",\"type\":\"ColumnDataSource\"},\"text\":{\"field\":\"vals\"},\"text_font_size\":{\"value\":\"9pt\"},\"text_font_style\":\"bold\",\"x\":{\"field\":\"x\"},\"y\":{\"field\":\"y\"}},\"id\":\"fe66d458-256e-4168-9341-2a5c2d5dd5f4\",\"type\":\"LabelSet\"},{\"attributes\":{\"data_source\":{\"id\":\"74d81c03-032f-431f-8910-a68aa50078fd\",\"type\":\"ColumnDataSource\"},\"glyph\":{\"id\":\"8775937b-100b-4e54-aab4-ddb9cf3345a6\",\"type\":\"Quad\"},\"hover_glyph\":null,\"nonselection_glyph\":{\"id\":\"7cac25f1-5286-40c0-812a-9091ad12c455\",\"type\":\"Quad\"},\"selection_glyph\":null},\"id\":\"aa2a11cc-4e2d-4028-9735-73ea49e5d7bb\",\"type\":\"GlyphRenderer\"},{\"attributes\":{\"formatter\":{\"id\":\"5e020ae2-c442-4f2d-999e-9800743fb278\",\"type\":\"BasicTickFormatter\"},\"plot\":{\"id\":\"db3f8f71-60b2-48b8-9685-c71ad002d15a\",\"subtype\":\"Figure\",\"type\":\"Plot\"},\"ticker\":{\"id\":\"f35014d8-3095-4c40-9f1e-aea7c0b05865\",\"type\":\"BasicTicker\"}},\"id\":\"3e46ae19-cd57-45a4-a007-f4139ccc4238\",\"type\":\"LinearAxis\"},{\"attributes\":{\"bottom_units\":\"screen\",\"fill_alpha\":{\"value\":0.5},\"fill_color\":{\"value\":\"lightgrey\"},\"left_units\":\"screen\",\"level\":\"overlay\",\"line_alpha\":{\"value\":1.0},\"line_color\":{\"value\":\"black\"},\"line_dash\":[4,4],\"line_width\":{\"value\":2},\"plot\":null,\"render_mode\":\"css\",\"right_units\":\"screen\",\"top_units\":\"screen\"},\"id\":\"c559e890-a4ca-4f99-b6cc-e1f1455610ad\",\"type\":\"BoxAnnotation\"},{\"attributes\":{\"dimension\":1,\"plot\":{\"id\":\"db3f8f71-60b2-48b8-9685-c71ad002d15a\",\"subtype\":\"Figure\",\"type\":\"Plot\"},\"ticker\":{\"id\":\"06453cff-99f5-4e2b-8083-023b67dbf0de\",\"type\":\"BasicTicker\"}},\"id\":\"02b0aa08-b439-4261-9679-e1b349762ef3\",\"type\":\"Grid\"},{\"attributes\":{\"plot\":{\"id\":\"db3f8f71-60b2-48b8-9685-c71ad002d15a\",\"subtype\":\"Figure\",\"type\":\"Plot\"}},\"id\":\"ba72912a-10c0-4279-b5fb-523ea82423f0\",\"type\":\"HelpTool\"},{\"attributes\":{},\"id\":\"21f55f3a-0d0d-4b91-b0f5-783b7eae8fd4\",\"type\":\"ToolEvents\"},{\"attributes\":{\"plot\":{\"id\":\"db3f8f71-60b2-48b8-9685-c71ad002d15a\",\"subtype\":\"Figure\",\"type\":\"Plot\"},\"ticker\":{\"id\":\"f35014d8-3095-4c40-9f1e-aea7c0b05865\",\"type\":\"BasicTicker\"}},\"id\":\"d27fecbf-6497-4c38-8e3f-18b31002dd9f\",\"type\":\"Grid\"},{\"attributes\":{},\"id\":\"e469e792-3d50-4214-9be5-41ae8fbca14c\",\"type\":\"BasicTickFormatter\"},{\"attributes\":{\"data_source\":{\"id\":\"fa17a6a2-a05b-4ffd-bab2-176f98b2cdb8\",\"type\":\"ColumnDataSource\"},\"glyph\":{\"id\":\"a9aa2785-0a46-404b-8481-80d4eac4eeb4\",\"type\":\"Quad\"},\"hover_glyph\":null,\"nonselection_glyph\":{\"id\":\"e99393da-ce73-458d-b456-b7f6c3c904ca\",\"type\":\"Quad\"},\"selection_glyph\":null},\"id\":\"6c30fbd2-0699-4b4f-9e19-6a0980df5e79\",\"type\":\"GlyphRenderer\"},{\"attributes\":{},\"id\":\"f35014d8-3095-4c40-9f1e-aea7c0b05865\",\"type\":\"BasicTicker\"},{\"attributes\":{\"callback\":null,\"column_names\":[\"y\",\"x\",\"vals\"],\"data\":{\"vals\":[\"RAB3GAP1\",\"ZRANB3\",\"R3HDM1\",\"UBXN4\",\"LCT\",\"MCM6\",\"DARS\"],\"x\":[135869057.0,136122878.0,136385961.0,136520911.0,136570082.5,136615621.5,136703738.0],\"y\":[860.0,860.0,860.0,860.0,860.0,860.0,860.0]}},\"id\":\"bdb5ea1f-7fd6-4be5-8ebc-0f3b6de7ace3\",\"type\":\"ColumnDataSource\"},{\"attributes\":{\"callback\":null,\"column_names\":[\"y\",\"x\",\"vals\"],\"data\":{\"vals\":[\"117_1685\",\"62_1265\",\"8_267\",\"4_815\",\"6_946\",\"6_713\",\"9_39\",\"32_1361\",\"81_857\",\"13_1227\",\"4_1442\",\"7_1303\",\"7_1760\",\"6_1114\",\"5_1296\",\"24_1504\"],\"x\":[135758231,135766890,135818487,135839805,135964764,135989333,136028572,136393658,136494985,136500475,136506375,136535876,136588031,136652491,136652953,136653925],\"y\":[801.0,498.0,185.0,295.0,396.0,293.0,68.0,699.0,395.0,498.0,699.0,599.0,801.0,497.0,599.0,800.0]}},\"id\":\"b45a6a1f-983a-4757-8abd-7610280b93df\",\"type\":\"ColumnDataSource\"},{\"attributes\":{\"below\":[{\"id\":\"3e46ae19-cd57-45a4-a007-f4139ccc4238\",\"type\":\"LinearAxis\"}],\"left\":[{\"id\":\"492054f4-dd55-4b45-920d-53c648a6a8e3\",\"type\":\"LinearAxis\"}],\"plot_height\":900,\"plot_width\":900,\"renderers\":[{\"id\":\"3e46ae19-cd57-45a4-a007-f4139ccc4238\",\"type\":\"LinearAxis\"},{\"id\":\"d27fecbf-6497-4c38-8e3f-18b31002dd9f\",\"type\":\"Grid\"},{\"id\":\"492054f4-dd55-4b45-920d-53c648a6a8e3\",\"type\":\"LinearAxis\"},{\"id\":\"02b0aa08-b439-4261-9679-e1b349762ef3\",\"type\":\"Grid\"},{\"id\":\"c559e890-a4ca-4f99-b6cc-e1f1455610ad\",\"type\":\"BoxAnnotation\"},{\"id\":\"aa2a11cc-4e2d-4028-9735-73ea49e5d7bb\",\"type\":\"GlyphRenderer\"},{\"id\":\"12cb6296-8a31-466d-97c4-5a72c5a854fb\",\"type\":\"GlyphRenderer\"},{\"id\":\"fe66d458-256e-4168-9341-2a5c2d5dd5f4\",\"type\":\"LabelSet\"},{\"id\":\"6c30fbd2-0699-4b4f-9e19-6a0980df5e79\",\"type\":\"GlyphRenderer\"},{\"id\":\"9e92e73e-a011-41c9-8fd2-b23ec0cec431\",\"type\":\"LabelSet\"}],\"title\":{\"id\":\"f19ffe5b-4557-4fbb-b35a-6923eb7d9300\",\"type\":\"Title\"},\"tool_events\":{\"id\":\"21f55f3a-0d0d-4b91-b0f5-783b7eae8fd4\",\"type\":\"ToolEvents\"},\"toolbar\":{\"id\":\"72177c35-b259-4a56-8521-dfa8e3c5dddd\",\"type\":\"Toolbar\"},\"toolbar_location\":null,\"x_range\":{\"id\":\"ab89cdcf-f91c-4f1d-bfe5-8ee770a860ad\",\"type\":\"Range1d\"},\"y_range\":{\"id\":\"3e6ec862-332e-4e82-8646-5f1878430277\",\"type\":\"Range1d\"}},\"id\":\"db3f8f71-60b2-48b8-9685-c71ad002d15a\",\"subtype\":\"Figure\",\"type\":\"Plot\"},{\"attributes\":{\"bottom\":{\"field\":\"bottom\"},\"fill_color\":{\"field\":\"fill_color\"},\"left\":{\"field\":\"left\"},\"line_color\":{\"value\":null},\"right\":{\"field\":\"right\"},\"top\":{\"field\":\"top\"}},\"id\":\"8775937b-100b-4e54-aab4-ddb9cf3345a6\",\"type\":\"Quad\"},{\"attributes\":{},\"id\":\"5e020ae2-c442-4f2d-999e-9800743fb278\",\"type\":\"BasicTickFormatter\"},{\"attributes\":{\"callback\":null,\"column_names\":[\"right\",\"bottom\",\"top\",\"left\",\"fill_color\"],\"data\":{\"bottom\":[750,450,150,250,350,250,50,650,350,450,650,550,750,450,550,750],\"fill_color\":[\"#808080\",\"#808080\",\"#c461c4\",\"#61c4c4\",\"#61c4c4\",\"#61c4c4\",\"#00ff00\",\"#c4c461\",\"#808080\",\"#808080\",\"#808080\",\"#808080\",\"#c46161\",\"#808080\",\"#808080\",\"#808080\"],\"left\":[135758231,135766890,135818487,135839805,135964764,135989333,136028572,136393658,136494985,136500475,136506375,136535876,136588031,136652491,136652953,136653925],\"right\":[136376515,136275985,136289565,135924467,136101132,136264631,136438465,136486342,136773638,136542560,136538939,136554890,136593678,136732772,136761175,136761853],\"top\":[796,493,180,290,391,288,63,694,390,493,694,594,796,492,594,795]}},\"id\":\"74d81c03-032f-431f-8910-a68aa50078fd\",\"type\":\"ColumnDataSource\"},{\"attributes\":{\"overlay\":{\"id\":\"c559e890-a4ca-4f99-b6cc-e1f1455610ad\",\"type\":\"BoxAnnotation\"},\"plot\":{\"id\":\"db3f8f71-60b2-48b8-9685-c71ad002d15a\",\"subtype\":\"Figure\",\"type\":\"Plot\"}},\"id\":\"39b8356c-5225-4a2b-91fc-5ed90c8483c0\",\"type\":\"BoxZoomTool\"},{\"attributes\":{\"formatter\":{\"id\":\"e469e792-3d50-4214-9be5-41ae8fbca14c\",\"type\":\"BasicTickFormatter\"},\"plot\":{\"id\":\"db3f8f71-60b2-48b8-9685-c71ad002d15a\",\"subtype\":\"Figure\",\"type\":\"Plot\"},\"ticker\":{\"id\":\"06453cff-99f5-4e2b-8083-023b67dbf0de\",\"type\":\"BasicTicker\"},\"visible\":null},\"id\":\"492054f4-dd55-4b45-920d-53c648a6a8e3\",\"type\":\"LinearAxis\"},{\"attributes\":{\"plot\":null,\"text\":null},\"id\":\"f19ffe5b-4557-4fbb-b35a-6923eb7d9300\",\"type\":\"Title\"},{\"attributes\":{\"plot\":{\"id\":\"db3f8f71-60b2-48b8-9685-c71ad002d15a\",\"subtype\":\"Figure\",\"type\":\"Plot\"}},\"id\":\"33971711-c3d5-4765-ba39-d9813534cd07\",\"type\":\"PanTool\"},{\"attributes\":{\"callback\":null,\"end\":900},\"id\":\"3e6ec862-332e-4e82-8646-5f1878430277\",\"type\":\"Range1d\"},{\"attributes\":{\"data_source\":{\"id\":\"e3ed1093-08a2-43fc-a024-5b49df40094e\",\"type\":\"ColumnDataSource\"},\"glyph\":{\"id\":\"4e79f94d-9385-4e02-b4e7-e6552b4c7577\",\"type\":\"MultiLine\"},\"hover_glyph\":null,\"nonselection_glyph\":{\"id\":\"6e601a28-9293-48ef-b481-c71d0381ea98\",\"type\":\"MultiLine\"},\"selection_glyph\":null},\"id\":\"12cb6296-8a31-466d-97c4-5a72c5a854fb\",\"type\":\"GlyphRenderer\"},{\"attributes\":{\"plot\":{\"id\":\"db3f8f71-60b2-48b8-9685-c71ad002d15a\",\"subtype\":\"Figure\",\"type\":\"Plot\"}},\"id\":\"d516352e-a142-4701-9513-4f3ceb61c2d4\",\"type\":\"SaveTool\"},{\"attributes\":{\"bottom\":{\"field\":\"bottom\"},\"fill_color\":{\"value\":\"white\"},\"left\":{\"field\":\"left\"},\"right\":{\"field\":\"right\"},\"top\":{\"field\":\"top\"}},\"id\":\"a9aa2785-0a46-404b-8481-80d4eac4eeb4\",\"type\":\"Quad\"},{\"attributes\":{\"callback\":null,\"column_names\":[\"right\",\"bottom\",\"top\",\"left\"],\"data\":{\"bottom\":[845,845,845,845,845,845,845],\"left\":[135809835,135957574,136289083,136499189,136545415,136597196,136664254],\"right\":[135928279,136288182,136482839,136542633,136594750,136634047,136743222],\"top\":[875,875,875,875,875,875,875]}},\"id\":\"fa17a6a2-a05b-4ffd-bab2-176f98b2cdb8\",\"type\":\"ColumnDataSource\"},{\"attributes\":{},\"id\":\"06453cff-99f5-4e2b-8083-023b67dbf0de\",\"type\":\"BasicTicker\"},{\"attributes\":{\"line_alpha\":{\"value\":0.1},\"line_color\":{\"value\":\"#1f77b4\"},\"xs\":{\"field\":\"xs\"},\"ys\":{\"field\":\"ys\"}},\"id\":\"6e601a28-9293-48ef-b481-c71d0381ea98\",\"type\":\"MultiLine\"},{\"attributes\":{\"plot\":{\"id\":\"db3f8f71-60b2-48b8-9685-c71ad002d15a\",\"subtype\":\"Figure\",\"type\":\"Plot\"}},\"id\":\"5e958b4a-6d88-4023-8627-f4bf8e0a37aa\",\"type\":\"ResetTool\"},{\"attributes\":{\"level\":\"glyph\",\"plot\":{\"id\":\"db3f8f71-60b2-48b8-9685-c71ad002d15a\",\"subtype\":\"Figure\",\"type\":\"Plot\"},\"source\":{\"id\":\"bdb5ea1f-7fd6-4be5-8ebc-0f3b6de7ace3\",\"type\":\"ColumnDataSource\"},\"text\":{\"field\":\"vals\"},\"text_align\":\"center\",\"text_baseline\":\"middle\",\"text_font_size\":{\"value\":\"8pt\"},\"x\":{\"field\":\"x\"},\"y\":{\"field\":\"y\"}},\"id\":\"9e92e73e-a011-41c9-8fd2-b23ec0cec431\",\"type\":\"LabelSet\"},{\"attributes\":{\"plot\":{\"id\":\"db3f8f71-60b2-48b8-9685-c71ad002d15a\",\"subtype\":\"Figure\",\"type\":\"Plot\"}},\"id\":\"c33f6435-91de-4bed-8ec4-4b180e42c764\",\"type\":\"WheelZoomTool\"},{\"attributes\":{\"callback\":null,\"end\":136786630,\"start\":135757320},\"id\":\"ab89cdcf-f91c-4f1d-bfe5-8ee770a860ad\",\"type\":\"Range1d\"},{\"attributes\":{\"active_drag\":\"auto\",\"active_scroll\":\"auto\",\"active_tap\":\"auto\",\"tools\":[{\"id\":\"33971711-c3d5-4765-ba39-d9813534cd07\",\"type\":\"PanTool\"},{\"id\":\"c33f6435-91de-4bed-8ec4-4b180e42c764\",\"type\":\"WheelZoomTool\"},{\"id\":\"39b8356c-5225-4a2b-91fc-5ed90c8483c0\",\"type\":\"BoxZoomTool\"},{\"id\":\"d516352e-a142-4701-9513-4f3ceb61c2d4\",\"type\":\"SaveTool\"},{\"id\":\"5e958b4a-6d88-4023-8627-f4bf8e0a37aa\",\"type\":\"ResetTool\"},{\"id\":\"ba72912a-10c0-4279-b5fb-523ea82423f0\",\"type\":\"HelpTool\"}]},\"id\":\"72177c35-b259-4a56-8521-dfa8e3c5dddd\",\"type\":\"Toolbar\"},{\"attributes\":{\"bottom\":{\"field\":\"bottom\"},\"fill_alpha\":{\"value\":0.1},\"fill_color\":{\"value\":\"#1f77b4\"},\"left\":{\"field\":\"left\"},\"line_alpha\":{\"value\":0.1},\"line_color\":{\"value\":\"#1f77b4\"},\"right\":{\"field\":\"right\"},\"top\":{\"field\":\"top\"}},\"id\":\"e99393da-ce73-458d-b456-b7f6c3c904ca\",\"type\":\"Quad\"},{\"attributes\":{\"line_color\":{\"field\":\"line_color\"},\"xs\":{\"field\":\"xs\"},\"ys\":{\"field\":\"ys\"}},\"id\":\"4e79f94d-9385-4e02-b4e7-e6552b4c7577\",\"type\":\"MultiLine\"}],\"root_ids\":[\"db3f8f71-60b2-48b8-9685-c71ad002d15a\"]},\"title\":\"Bokeh Application\",\"version\":\"0.12.0\"}};\n",
       "            var render_items = [{\"docid\":\"a1eef3a9-a681-44fa-b458-97edb6dc2298\",\"elementid\":\"61710f69-6209-4206-a63f-fd564f195fea\",\"modelid\":\"db3f8f71-60b2-48b8-9685-c71ad002d15a\",\"notebook_comms_target\":\"744ec5af-b4a0-4eaa-ab38-79cb19325aa8\"}];\n",
       "            \n",
       "            Bokeh.embed.embed_items(docs_json, render_items);\n",
       "        });\n",
       "      },\n",
       "      function(Bokeh) {\n",
       "      }\n",
       "    ];\n",
       "  \n",
       "    function run_inline_js() {\n",
       "      for (var i = 0; i < inline_js.length; i++) {\n",
       "        inline_js[i](window.Bokeh);\n",
       "      }\n",
       "    }\n",
       "  \n",
       "    if (window._bokeh_is_loading === 0) {\n",
       "      console.log(\"Bokeh: BokehJS loaded, going straight to plotting\");\n",
       "      run_inline_js();\n",
       "    } else {\n",
       "      load_libs(js_urls, function() {\n",
       "        console.log(\"Bokeh: BokehJS plotting callback run at\", now());\n",
       "        run_inline_js();\n",
       "      });\n",
       "    }\n",
       "  }(this));\n",
       "</script>"
      ]
     },
     "metadata": {},
     "output_type": "display_data"
    },
    {
     "data": {
      "text/html": [
       "<p><code>&lt;Bokeh Notebook handle for <strong>In[39]</strong>&gt;</code></p>"
      ],
      "text/plain": [
       "<bokeh.io._CommsHandle at 0x7f3f0c2399d0>"
      ]
     },
     "execution_count": 39,
     "metadata": {},
     "output_type": "execute_result"
    }
   ],
   "source": [
    "plt_obj = dm.superset_allele_mask(am_170, min_match=0.5)\n",
    "plt = plt_obj.do_plot()\n",
    "show(plt)"
   ]
  },
  {
   "cell_type": "markdown",
   "metadata": {},
   "source": [
    "<div style=\"width:700px\">\n",
    "<p>\n",
    "This plot indicates that a selection process  associated with the emergence of the\n",
    "series 9_39 has resulted in overexpression of the first 170 193_843 SNPs.  The series\n",
    "9_39 appears to be rooted in an hierachy formed by a recombination of 8_267 from the\n",
    "South Asian tree and the series including 32_1361 and 81_857 at the root of the upper region\n",
    "of the East Asian tree\n",
    "</div>"
   ]
  },
  {
   "cell_type": "code",
   "execution_count": 40,
   "metadata": {
    "collapsed": false
   },
   "outputs": [
    {
     "data": {
      "text/html": [
       "<table>\n",
       "<thead><tr><th style=\"text-align:center\">index</th><th style=\"text-align:center\">first</th><th style=\"text-align:center\">length</th><th style=\"text-align:center\">snps</th><th style=\"text-align:center\" colspan=2>alleles</th><th style=\"text-align:center\" colspan=2>matches</th><th style=\"text-align:center\" colspan=2>afr</th><th style=\"text-align:center\" colspan=2>afx</th><th style=\"text-align:center\" colspan=2>amr</th><th style=\"text-align:center\" colspan=2>eas</th><th style=\"text-align:center\" colspan=2>eur</th><th style=\"text-align:center\" colspan=2>sas</th><th style=\"text-align:center\" colspan=2>sax</th></tr></thead>\n",
       "<tr class=\"even\"><td style=\"text-align: right;\">354033</td><td style=\"text-align: right;\">136,588,031</td><td style=\"text-align: right;\">5,647</td><td style=\"text-align: right;\">7</td><td style=\"text-align: right;\">1760</td><td style=\"text-align: right;\">0.02</td><td style=\"text-align: right;\">34</td><td style=\"text-align: right;\">0.83</td><td style=\"text-align: right;\">1</td><td style=\"text-align: right;\">0.15</td><td style=\"text-align: right;\">0</td><td style=\"text-align: right;\">0.00</td><td style=\"text-align: right;\">9</td><td style=\"text-align: right;\">1.91</td><td style=\"text-align: right;\">0</td><td style=\"text-align: right;\">0.00</td><td style=\"text-align: right;\">21</td><td style=\"text-align: right;\">3.07</td><td style=\"text-align: right;\">0</td><td style=\"text-align: right;\">0.00</td><td style=\"text-align: right;\">3</td><td style=\"text-align: right;\">0.72</td></tr>\n",
       "<tr><td style=\"text-align: right;\">353244</td><td style=\"text-align: right;\">135,758,231</td><td style=\"text-align: right;\">618,284</td><td style=\"text-align: right;\">117</td><td style=\"text-align: right;\">1685</td><td style=\"text-align: right;\">0.02</td><td style=\"text-align: right;\">41</td><td style=\"text-align: right;\">1.00</td><td style=\"text-align: right;\">1</td><td style=\"text-align: right;\">0.12</td><td style=\"text-align: right;\">0</td><td style=\"text-align: right;\">0.00</td><td style=\"text-align: right;\">13</td><td style=\"text-align: right;\">2.29</td><td style=\"text-align: right;\">0</td><td style=\"text-align: right;\">0.00</td><td style=\"text-align: right;\">24</td><td style=\"text-align: right;\">2.91</td><td style=\"text-align: right;\">0</td><td style=\"text-align: right;\">0.00</td><td style=\"text-align: right;\">3</td><td style=\"text-align: right;\">0.60</td></tr>\n",
       "<tr class=\"even\"><td style=\"text-align: right;\">354130</td><td style=\"text-align: right;\">136,653,925</td><td style=\"text-align: right;\">107,928</td><td style=\"text-align: right;\">24</td><td style=\"text-align: right;\">1504</td><td style=\"text-align: right;\">0.02</td><td style=\"text-align: right;\">31</td><td style=\"text-align: right;\">0.76</td><td style=\"text-align: right;\">1</td><td style=\"text-align: right;\">0.16</td><td style=\"text-align: right;\">0</td><td style=\"text-align: right;\">0.00</td><td style=\"text-align: right;\">9</td><td style=\"text-align: right;\">2.10</td><td style=\"text-align: right;\">0</td><td style=\"text-align: right;\">0.00</td><td style=\"text-align: right;\">18</td><td style=\"text-align: right;\">2.89</td><td style=\"text-align: right;\">0</td><td style=\"text-align: right;\">0.00</td><td style=\"text-align: right;\">3</td><td style=\"text-align: right;\">0.79</td></tr>\n",
       "<tr><td style=\"text-align: right;\">353925</td><td style=\"text-align: right;\">136,506,375</td><td style=\"text-align: right;\">32,564</td><td style=\"text-align: right;\">4</td><td style=\"text-align: right;\">1442</td><td style=\"text-align: right;\">0.02</td><td style=\"text-align: right;\">34</td><td style=\"text-align: right;\">0.83</td><td style=\"text-align: right;\">1</td><td style=\"text-align: right;\">0.15</td><td style=\"text-align: right;\">0</td><td style=\"text-align: right;\">0.00</td><td style=\"text-align: right;\">9</td><td style=\"text-align: right;\">1.91</td><td style=\"text-align: right;\">0</td><td style=\"text-align: right;\">0.00</td><td style=\"text-align: right;\">21</td><td style=\"text-align: right;\">3.07</td><td style=\"text-align: right;\">0</td><td style=\"text-align: right;\">0.00</td><td style=\"text-align: right;\">3</td><td style=\"text-align: right;\">0.72</td></tr>\n",
       "<tr class=\"even\"><td style=\"text-align: right;\">353791</td><td style=\"text-align: right;\">136,393,658</td><td style=\"text-align: right;\">92,684</td><td style=\"text-align: right;\">32</td><td style=\"text-align: right;\">1361</td><td style=\"text-align: right;\">0.03</td><td style=\"text-align: right;\">41</td><td style=\"text-align: right;\">1.00</td><td style=\"text-align: right;\">1</td><td style=\"text-align: right;\">0.12</td><td style=\"text-align: right;\">0</td><td style=\"text-align: right;\">0.00</td><td style=\"text-align: right;\">13</td><td style=\"text-align: right;\">2.29</td><td style=\"text-align: right;\">0</td><td style=\"text-align: right;\">0.00</td><td style=\"text-align: right;\">24</td><td style=\"text-align: right;\">2.91</td><td style=\"text-align: right;\">0</td><td style=\"text-align: right;\">0.00</td><td style=\"text-align: right;\">3</td><td style=\"text-align: right;\">0.60</td></tr>\n",
       "<tr><td style=\"text-align: right;\">353958</td><td style=\"text-align: right;\">136,535,876</td><td style=\"text-align: right;\">19,014</td><td style=\"text-align: right;\">7</td><td style=\"text-align: right;\">1303</td><td style=\"text-align: right;\">0.03</td><td style=\"text-align: right;\">34</td><td style=\"text-align: right;\">0.83</td><td style=\"text-align: right;\">1</td><td style=\"text-align: right;\">0.15</td><td style=\"text-align: right;\">0</td><td style=\"text-align: right;\">0.00</td><td style=\"text-align: right;\">9</td><td style=\"text-align: right;\">1.91</td><td style=\"text-align: right;\">0</td><td style=\"text-align: right;\">0.00</td><td style=\"text-align: right;\">21</td><td style=\"text-align: right;\">3.07</td><td style=\"text-align: right;\">0</td><td style=\"text-align: right;\">0.00</td><td style=\"text-align: right;\">3</td><td style=\"text-align: right;\">0.72</td></tr>\n",
       "<tr class=\"even\"><td style=\"text-align: right;\">354129</td><td style=\"text-align: right;\">136,652,953</td><td style=\"text-align: right;\">108,222</td><td style=\"text-align: right;\">5</td><td style=\"text-align: right;\">1296</td><td style=\"text-align: right;\">0.02</td><td style=\"text-align: right;\">31</td><td style=\"text-align: right;\">0.76</td><td style=\"text-align: right;\">1</td><td style=\"text-align: right;\">0.16</td><td style=\"text-align: right;\">0</td><td style=\"text-align: right;\">0.00</td><td style=\"text-align: right;\">9</td><td style=\"text-align: right;\">2.10</td><td style=\"text-align: right;\">0</td><td style=\"text-align: right;\">0.00</td><td style=\"text-align: right;\">18</td><td style=\"text-align: right;\">2.89</td><td style=\"text-align: right;\">0</td><td style=\"text-align: right;\">0.00</td><td style=\"text-align: right;\">3</td><td style=\"text-align: right;\">0.79</td></tr>\n",
       "<tr><td style=\"text-align: right;\">353269</td><td style=\"text-align: right;\">135,766,890</td><td style=\"text-align: right;\">509,095</td><td style=\"text-align: right;\">62</td><td style=\"text-align: right;\">1265</td><td style=\"text-align: right;\">0.03</td><td style=\"text-align: right;\">41</td><td style=\"text-align: right;\">1.00</td><td style=\"text-align: right;\">1</td><td style=\"text-align: right;\">0.12</td><td style=\"text-align: right;\">0</td><td style=\"text-align: right;\">0.00</td><td style=\"text-align: right;\">13</td><td style=\"text-align: right;\">2.29</td><td style=\"text-align: right;\">0</td><td style=\"text-align: right;\">0.00</td><td style=\"text-align: right;\">24</td><td style=\"text-align: right;\">2.91</td><td style=\"text-align: right;\">0</td><td style=\"text-align: right;\">0.00</td><td style=\"text-align: right;\">3</td><td style=\"text-align: right;\">0.60</td></tr>\n",
       "<tr class=\"even\"><td style=\"text-align: right;\">353919</td><td style=\"text-align: right;\">136,500,475</td><td style=\"text-align: right;\">42,085</td><td style=\"text-align: right;\">13</td><td style=\"text-align: right;\">1227</td><td style=\"text-align: right;\">0.03</td><td style=\"text-align: right;\">34</td><td style=\"text-align: right;\">0.83</td><td style=\"text-align: right;\">1</td><td style=\"text-align: right;\">0.15</td><td style=\"text-align: right;\">0</td><td style=\"text-align: right;\">0.00</td><td style=\"text-align: right;\">9</td><td style=\"text-align: right;\">1.91</td><td style=\"text-align: right;\">0</td><td style=\"text-align: right;\">0.00</td><td style=\"text-align: right;\">21</td><td style=\"text-align: right;\">3.07</td><td style=\"text-align: right;\">0</td><td style=\"text-align: right;\">0.00</td><td style=\"text-align: right;\">3</td><td style=\"text-align: right;\">0.72</td></tr>\n",
       "<tr><td style=\"text-align: right;\">354127</td><td style=\"text-align: right;\">136,652,491</td><td style=\"text-align: right;\">80,281</td><td style=\"text-align: right;\">6</td><td style=\"text-align: right;\">1114</td><td style=\"text-align: right;\">0.03</td><td style=\"text-align: right;\">31</td><td style=\"text-align: right;\">0.76</td><td style=\"text-align: right;\">1</td><td style=\"text-align: right;\">0.16</td><td style=\"text-align: right;\">0</td><td style=\"text-align: right;\">0.00</td><td style=\"text-align: right;\">9</td><td style=\"text-align: right;\">2.10</td><td style=\"text-align: right;\">0</td><td style=\"text-align: right;\">0.00</td><td style=\"text-align: right;\">18</td><td style=\"text-align: right;\">2.89</td><td style=\"text-align: right;\">0</td><td style=\"text-align: right;\">0.00</td><td style=\"text-align: right;\">3</td><td style=\"text-align: right;\">0.79</td></tr>\n",
       "<tr class=\"even\"><td style=\"text-align: right;\">353504</td><td style=\"text-align: right;\">135,964,764</td><td style=\"text-align: right;\">136,368</td><td style=\"text-align: right;\">6</td><td style=\"text-align: right;\">946</td><td style=\"text-align: right;\">0.04</td><td style=\"text-align: right;\">41</td><td style=\"text-align: right;\">1.00</td><td style=\"text-align: right;\">1</td><td style=\"text-align: right;\">0.12</td><td style=\"text-align: right;\">0</td><td style=\"text-align: right;\">0.00</td><td style=\"text-align: right;\">13</td><td style=\"text-align: right;\">2.29</td><td style=\"text-align: right;\">0</td><td style=\"text-align: right;\">0.00</td><td style=\"text-align: right;\">24</td><td style=\"text-align: right;\">2.91</td><td style=\"text-align: right;\">0</td><td style=\"text-align: right;\">0.00</td><td style=\"text-align: right;\">3</td><td style=\"text-align: right;\">0.60</td></tr>\n",
       "<tr><td style=\"text-align: right;\">353902</td><td style=\"text-align: right;\">136,494,985</td><td style=\"text-align: right;\">278,653</td><td style=\"text-align: right;\">81</td><td style=\"text-align: right;\">857</td><td style=\"text-align: right;\">0.04</td><td style=\"text-align: right;\">31</td><td style=\"text-align: right;\">0.76</td><td style=\"text-align: right;\">1</td><td style=\"text-align: right;\">0.16</td><td style=\"text-align: right;\">0</td><td style=\"text-align: right;\">0.00</td><td style=\"text-align: right;\">9</td><td style=\"text-align: right;\">2.10</td><td style=\"text-align: right;\">0</td><td style=\"text-align: right;\">0.00</td><td style=\"text-align: right;\">18</td><td style=\"text-align: right;\">2.89</td><td style=\"text-align: right;\">0</td><td style=\"text-align: right;\">0.00</td><td style=\"text-align: right;\">3</td><td style=\"text-align: right;\">0.79</td></tr>\n",
       "<tr class=\"even\"><td style=\"text-align: right;\">353384</td><td style=\"text-align: right;\">135,839,805</td><td style=\"text-align: right;\">84,662</td><td style=\"text-align: right;\">4</td><td style=\"text-align: right;\">815</td><td style=\"text-align: right;\">0.05</td><td style=\"text-align: right;\">41</td><td style=\"text-align: right;\">1.00</td><td style=\"text-align: right;\">1</td><td style=\"text-align: right;\">0.12</td><td style=\"text-align: right;\">0</td><td style=\"text-align: right;\">0.00</td><td style=\"text-align: right;\">13</td><td style=\"text-align: right;\">2.29</td><td style=\"text-align: right;\">0</td><td style=\"text-align: right;\">0.00</td><td style=\"text-align: right;\">24</td><td style=\"text-align: right;\">2.91</td><td style=\"text-align: right;\">0</td><td style=\"text-align: right;\">0.00</td><td style=\"text-align: right;\">3</td><td style=\"text-align: right;\">0.60</td></tr>\n",
       "<tr><td style=\"text-align: right;\">353521</td><td style=\"text-align: right;\">135,989,333</td><td style=\"text-align: right;\">275,298</td><td style=\"text-align: right;\">6</td><td style=\"text-align: right;\">713</td><td style=\"text-align: right;\">0.06</td><td style=\"text-align: right;\">41</td><td style=\"text-align: right;\">1.00</td><td style=\"text-align: right;\">1</td><td style=\"text-align: right;\">0.12</td><td style=\"text-align: right;\">0</td><td style=\"text-align: right;\">0.00</td><td style=\"text-align: right;\">13</td><td style=\"text-align: right;\">2.29</td><td style=\"text-align: right;\">0</td><td style=\"text-align: right;\">0.00</td><td style=\"text-align: right;\">24</td><td style=\"text-align: right;\">2.91</td><td style=\"text-align: right;\">0</td><td style=\"text-align: right;\">0.00</td><td style=\"text-align: right;\">3</td><td style=\"text-align: right;\">0.60</td></tr>\n",
       "<tr class=\"even\"><td style=\"text-align: right;\">353358</td><td style=\"text-align: right;\">135,818,487</td><td style=\"text-align: right;\">471,078</td><td style=\"text-align: right;\">8</td><td style=\"text-align: right;\">267</td><td style=\"text-align: right;\">0.15</td><td style=\"text-align: right;\">41</td><td style=\"text-align: right;\">1.00</td><td style=\"text-align: right;\">1</td><td style=\"text-align: right;\">0.12</td><td style=\"text-align: right;\">0</td><td style=\"text-align: right;\">0.00</td><td style=\"text-align: right;\">13</td><td style=\"text-align: right;\">2.29</td><td style=\"text-align: right;\">0</td><td style=\"text-align: right;\">0.00</td><td style=\"text-align: right;\">24</td><td style=\"text-align: right;\">2.91</td><td style=\"text-align: right;\">0</td><td style=\"text-align: right;\">0.00</td><td style=\"text-align: right;\">3</td><td style=\"text-align: right;\">0.60</td></tr>\n",
       "<tr><td style=\"text-align: right;\">353559</td><td style=\"text-align: right;\">136,028,572</td><td style=\"text-align: right;\">409,893</td><td style=\"text-align: right;\">9</td><td style=\"text-align: right;\">39</td><td style=\"text-align: right;\">0.97</td><td style=\"text-align: right;\">38</td><td style=\"text-align: right;\">0.93</td><td style=\"text-align: right;\">1</td><td style=\"text-align: right;\">0.13</td><td style=\"text-align: right;\">0</td><td style=\"text-align: right;\">0.00</td><td style=\"text-align: right;\">13</td><td style=\"text-align: right;\">2.47</td><td style=\"text-align: right;\">0</td><td style=\"text-align: right;\">0.00</td><td style=\"text-align: right;\">21</td><td style=\"text-align: right;\">2.75</td><td style=\"text-align: right;\">0</td><td style=\"text-align: right;\">0.00</td><td style=\"text-align: right;\">3</td><td style=\"text-align: right;\">0.64</td></tr>\n",
       "</table>"
      ],
      "text/plain": [
       "<IPython.core.display.HTML object>"
      ]
     },
     "execution_count": 40,
     "metadata": {},
     "output_type": "execute_result"
    }
   ],
   "source": [
    "HTML(plt_obj.get_html())"
   ]
  },
  {
   "cell_type": "markdown",
   "metadata": {},
   "source": [
    "<div style=\"width:700px\">\n",
    "<p>\n",
    "The data associated with the plot shows that 38 of the chromosome samples that\n",
    "express the series 9_38 express the first 170 SNPs of series 193_843.\n",
    "</div>"
   ]
  },
  {
   "cell_type": "code",
   "execution_count": 41,
   "metadata": {
    "collapsed": false
   },
   "outputs": [
    {
     "data": {
      "text/plain": [
       "array([1, 1, 1, 1, 1, 1, 1, 1, 1, 1, 1, 1, 1, 1, 1, 1, 1, 1, 1, 1, 1, 1, 1,\n",
       "       1, 1, 1, 1, 1, 1, 1, 1, 1, 1, 1, 1, 1, 1, 1, 1, 1, 1, 1, 1, 1, 1, 1,\n",
       "       1, 1, 1, 1, 1, 1, 1, 1, 1, 1, 1, 1, 1, 1, 1, 1, 1, 1, 1, 1, 1, 1, 1,\n",
       "       1, 1, 1, 1, 1, 1, 1, 1, 1, 1, 1, 1, 1, 1, 1, 1, 1, 1, 1, 1, 1, 1, 1,\n",
       "       1, 1, 1, 1, 1, 1, 1, 1, 1, 1, 1, 1, 1, 1, 1, 1, 1, 1, 1, 1, 1, 1, 1,\n",
       "       1, 1, 1, 1, 1, 1, 1, 1, 1, 1, 0, 1, 1, 1, 1, 1, 1, 1, 1, 1, 1, 1, 1,\n",
       "       1, 1, 1, 1, 1, 1, 1, 1, 1, 1, 1, 1, 1, 1, 1, 1, 1, 1, 1, 1, 1, 1, 1,\n",
       "       1, 1, 1, 1, 1, 1, 1, 1, 1, 0, 0, 0, 0, 0, 0, 0, 0, 0, 0, 0, 0, 0, 0,\n",
       "       0, 0, 0, 0, 0, 0, 0, 0, 0])"
      ]
     },
     "execution_count": 41,
     "metadata": {},
     "output_type": "execute_result"
    }
   ],
   "source": [
    "aps_169, am_169 = an.sa_193_843.snps_from_aps_value(169, nam_193_843)\n",
    "aps_169"
   ]
  },
  {
   "cell_type": "markdown",
   "metadata": {},
   "source": [
    "<div style=\"width:700px\">\n",
    "<p>\n",
    "This data is for the 1 chromosome sample that expresses 169 series\n",
    "193_843 SNPs.  It expresses all but 1 of the first 170 SNPs.\n",
    "</div>"
   ]
  },
  {
   "cell_type": "code",
   "execution_count": 42,
   "metadata": {
    "collapsed": false
   },
   "outputs": [
    {
     "data": {
      "text/html": [
       "\n",
       "\n",
       "    <div class=\"bk-root\">\n",
       "        <div class=\"plotdiv\" id=\"9a1385ea-8a07-4ef5-935f-e40c5c097843\"></div>\n",
       "    </div>\n",
       "<script type=\"text/javascript\">\n",
       "  \n",
       "  (function(global) {\n",
       "    function now() {\n",
       "      return new Date();\n",
       "    }\n",
       "  \n",
       "    if (typeof (window._bokeh_onload_callbacks) === \"undefined\") {\n",
       "      window._bokeh_onload_callbacks = [];\n",
       "    }\n",
       "  \n",
       "    function run_callbacks() {\n",
       "      window._bokeh_onload_callbacks.forEach(function(callback) { callback() });\n",
       "      delete window._bokeh_onload_callbacks\n",
       "      console.info(\"Bokeh: all callbacks have finished\");\n",
       "    }\n",
       "  \n",
       "    function load_libs(js_urls, callback) {\n",
       "      window._bokeh_onload_callbacks.push(callback);\n",
       "      if (window._bokeh_is_loading > 0) {\n",
       "        console.log(\"Bokeh: BokehJS is being loaded, scheduling callback at\", now());\n",
       "        return null;\n",
       "      }\n",
       "      if (js_urls == null || js_urls.length === 0) {\n",
       "        run_callbacks();\n",
       "        return null;\n",
       "      }\n",
       "      console.log(\"Bokeh: BokehJS not loaded, scheduling load and callback at\", now());\n",
       "      window._bokeh_is_loading = js_urls.length;\n",
       "      for (var i = 0; i < js_urls.length; i++) {\n",
       "        var url = js_urls[i];\n",
       "        var s = document.createElement('script');\n",
       "        s.src = url;\n",
       "        s.async = false;\n",
       "        s.onreadystatechange = s.onload = function() {\n",
       "          window._bokeh_is_loading--;\n",
       "          if (window._bokeh_is_loading === 0) {\n",
       "            console.log(\"Bokeh: all BokehJS libraries loaded\");\n",
       "            run_callbacks()\n",
       "          }\n",
       "        };\n",
       "        s.onerror = function() {\n",
       "          console.warn(\"failed to load library \" + url);\n",
       "        };\n",
       "        console.log(\"Bokeh: injecting script tag for BokehJS library: \", url);\n",
       "        document.getElementsByTagName(\"head\")[0].appendChild(s);\n",
       "      }\n",
       "    };var element = document.getElementById(\"9a1385ea-8a07-4ef5-935f-e40c5c097843\");\n",
       "    if (element == null) {\n",
       "      console.log(\"Bokeh: ERROR: autoload.js configured with elementid '9a1385ea-8a07-4ef5-935f-e40c5c097843' but no matching script tag was found. \")\n",
       "      return false;\n",
       "    }\n",
       "  \n",
       "    var js_urls = [];\n",
       "  \n",
       "    var inline_js = [\n",
       "      function(Bokeh) {\n",
       "        Bokeh.$(function() {\n",
       "            var docs_json = {\"2da6760a-484e-4550-bf0d-1bd5e74caf82\":{\"roots\":{\"references\":[{\"attributes\":{\"plot\":{\"id\":\"93f02b0f-dee3-478c-b2b7-cac9fd12dbdc\",\"subtype\":\"Figure\",\"type\":\"Plot\"}},\"id\":\"871db295-e437-4d8f-8eec-6a591890afd4\",\"type\":\"WheelZoomTool\"},{\"attributes\":{\"plot\":{\"id\":\"93f02b0f-dee3-478c-b2b7-cac9fd12dbdc\",\"subtype\":\"Figure\",\"type\":\"Plot\"},\"ticker\":{\"id\":\"16d686ad-e203-4992-91d8-3340004055bf\",\"type\":\"BasicTicker\"}},\"id\":\"1b058c4d-f48d-422e-a029-0788d9565860\",\"type\":\"Grid\"},{\"attributes\":{\"below\":[{\"id\":\"77f312e4-a390-481b-8cae-d8e27582c8d1\",\"type\":\"LinearAxis\"}],\"left\":[{\"id\":\"4bc76877-8b32-48d3-ac9e-528c57427184\",\"type\":\"LinearAxis\"}],\"plot_height\":800,\"plot_width\":900,\"renderers\":[{\"id\":\"77f312e4-a390-481b-8cae-d8e27582c8d1\",\"type\":\"LinearAxis\"},{\"id\":\"1b058c4d-f48d-422e-a029-0788d9565860\",\"type\":\"Grid\"},{\"id\":\"4bc76877-8b32-48d3-ac9e-528c57427184\",\"type\":\"LinearAxis\"},{\"id\":\"98bbd91e-c442-4255-a064-52c86fb757c8\",\"type\":\"Grid\"},{\"id\":\"2eeeb268-987a-4760-a2a9-91c3b42ec414\",\"type\":\"BoxAnnotation\"},{\"id\":\"3d836dfd-f2ed-4f36-bc22-2ca74ece9a94\",\"type\":\"GlyphRenderer\"},{\"id\":\"b17bf54d-903e-441d-ac32-1c214cba41a2\",\"type\":\"GlyphRenderer\"},{\"id\":\"b93f259b-1970-4147-9f51-7e756331b7f9\",\"type\":\"LabelSet\"},{\"id\":\"47b34f7d-820d-4e1f-bf71-bf505b7a8fe1\",\"type\":\"GlyphRenderer\"},{\"id\":\"830ef580-f0b4-4ba1-96f3-c3906654fe9d\",\"type\":\"LabelSet\"}],\"title\":{\"id\":\"72b39c9e-afc7-4c6a-b241-33f2a6a1c334\",\"type\":\"Title\"},\"tool_events\":{\"id\":\"d5096eb5-3579-4cdb-ad40-946440967857\",\"type\":\"ToolEvents\"},\"toolbar\":{\"id\":\"6c5d7b02-5329-47db-9188-b1c3309916af\",\"type\":\"Toolbar\"},\"toolbar_location\":null,\"x_range\":{\"id\":\"142da70a-a3c1-45f2-96ad-3a089a44d7c3\",\"type\":\"Range1d\"},\"y_range\":{\"id\":\"69ca432c-b874-4000-95d8-d62427aa0798\",\"type\":\"Range1d\"}},\"id\":\"93f02b0f-dee3-478c-b2b7-cac9fd12dbdc\",\"subtype\":\"Figure\",\"type\":\"Plot\"},{\"attributes\":{},\"id\":\"cca9fbf0-d042-461a-94aa-7fa8a16589cb\",\"type\":\"BasicTicker\"},{\"attributes\":{\"line_alpha\":{\"value\":0.1},\"line_color\":{\"value\":\"#1f77b4\"},\"xs\":{\"field\":\"xs\"},\"ys\":{\"field\":\"ys\"}},\"id\":\"55871510-843c-4285-ab1e-262251e2ac28\",\"type\":\"MultiLine\"},{\"attributes\":{\"data_source\":{\"id\":\"83fd4aaf-afec-4146-8a4c-1d442bb8077f\",\"type\":\"ColumnDataSource\"},\"glyph\":{\"id\":\"e73932f9-478d-4c16-9c67-243ff42f9a0b\",\"type\":\"MultiLine\"},\"hover_glyph\":null,\"nonselection_glyph\":{\"id\":\"55871510-843c-4285-ab1e-262251e2ac28\",\"type\":\"MultiLine\"},\"selection_glyph\":null},\"id\":\"b17bf54d-903e-441d-ac32-1c214cba41a2\",\"type\":\"GlyphRenderer\"},{\"attributes\":{\"formatter\":{\"id\":\"add2f2e2-aef3-4f01-9667-9e65a30e2ac1\",\"type\":\"BasicTickFormatter\"},\"plot\":{\"id\":\"93f02b0f-dee3-478c-b2b7-cac9fd12dbdc\",\"subtype\":\"Figure\",\"type\":\"Plot\"},\"ticker\":{\"id\":\"16d686ad-e203-4992-91d8-3340004055bf\",\"type\":\"BasicTicker\"}},\"id\":\"77f312e4-a390-481b-8cae-d8e27582c8d1\",\"type\":\"LinearAxis\"},{\"attributes\":{\"bottom\":{\"field\":\"bottom\"},\"fill_alpha\":{\"value\":0.1},\"fill_color\":{\"value\":\"#1f77b4\"},\"left\":{\"field\":\"left\"},\"line_alpha\":{\"value\":0.1},\"line_color\":{\"value\":\"#1f77b4\"},\"right\":{\"field\":\"right\"},\"top\":{\"field\":\"top\"}},\"id\":\"b4fa3547-fa55-4745-857d-fcfb5d3b0ed9\",\"type\":\"Quad\"},{\"attributes\":{\"bottom\":{\"field\":\"bottom\"},\"fill_color\":{\"field\":\"fill_color\"},\"left\":{\"field\":\"left\"},\"line_color\":{\"value\":null},\"right\":{\"field\":\"right\"},\"top\":{\"field\":\"top\"}},\"id\":\"639ac225-9431-43ce-9711-8b3836fe42b7\",\"type\":\"Quad\"},{\"attributes\":{},\"id\":\"d5096eb5-3579-4cdb-ad40-946440967857\",\"type\":\"ToolEvents\"},{\"attributes\":{\"plot\":{\"id\":\"93f02b0f-dee3-478c-b2b7-cac9fd12dbdc\",\"subtype\":\"Figure\",\"type\":\"Plot\"}},\"id\":\"5b452ad5-3e2c-4132-adca-b715f1a23016\",\"type\":\"PanTool\"},{\"attributes\":{\"line_color\":{\"field\":\"line_color\"},\"xs\":{\"field\":\"xs\"},\"ys\":{\"field\":\"ys\"}},\"id\":\"e73932f9-478d-4c16-9c67-243ff42f9a0b\",\"type\":\"MultiLine\"},{\"attributes\":{\"plot\":null,\"text\":null},\"id\":\"72b39c9e-afc7-4c6a-b241-33f2a6a1c334\",\"type\":\"Title\"},{\"attributes\":{\"bottom\":{\"field\":\"bottom\"},\"fill_color\":{\"value\":\"white\"},\"left\":{\"field\":\"left\"},\"right\":{\"field\":\"right\"},\"top\":{\"field\":\"top\"}},\"id\":\"724bb33c-f736-4f57-a3b7-206dd3f4f054\",\"type\":\"Quad\"},{\"attributes\":{\"plot\":{\"id\":\"93f02b0f-dee3-478c-b2b7-cac9fd12dbdc\",\"subtype\":\"Figure\",\"type\":\"Plot\"}},\"id\":\"42e8b036-eb49-482a-9e9f-3d50b6b23c3a\",\"type\":\"HelpTool\"},{\"attributes\":{\"callback\":null,\"column_names\":[\"y\",\"x\",\"vals\"],\"data\":{\"vals\":[\"RAB3GAP1\",\"ZRANB3\",\"R3HDM1\",\"UBXN4\",\"LCT\",\"MCM6\",\"DARS\"],\"x\":[135869057.0,136122878.0,136385961.0,136520911.0,136570082.5,136615621.5,136703738.0],\"y\":[760.0,760.0,760.0,760.0,760.0,760.0,760.0]}},\"id\":\"67d7de12-5136-4496-b334-96d50c249ace\",\"type\":\"ColumnDataSource\"},{\"attributes\":{\"callback\":null,\"column_names\":[\"xs\",\"ys\",\"line_color\"],\"data\":{\"line_color\":[\"black\",\"black\",\"black\",\"black\",\"black\",\"black\",\"black\",\"black\",\"black\",\"black\",\"black\",\"black\",\"black\",\"black\",\"black\",\"black\",\"black\",\"black\",\"black\",\"black\",\"black\",\"black\",\"black\",\"black\",\"black\",\"black\",\"black\",\"black\",\"black\",\"black\",\"black\",\"black\",\"black\",\"black\",\"black\",\"black\",\"black\",\"black\",\"black\",\"black\",\"black\",\"black\",\"black\",\"black\",\"black\",\"black\",\"black\",\"black\",\"black\",\"black\",\"black\",\"black\",\"black\",\"black\",\"black\",\"black\",\"black\",\"black\",\"black\",\"black\",\"black\",\"black\",\"black\",\"black\",\"black\",\"black\",\"black\",\"black\",\"black\",\"black\",\"black\",\"black\",\"black\",\"black\",\"black\",\"black\",\"black\",\"black\",\"black\",\"black\",\"black\",\"black\",\"black\",\"black\",\"black\",\"black\",\"black\",\"black\",\"black\",\"black\",\"black\",\"black\",\"black\",\"black\",\"black\",\"black\",\"black\",\"black\",\"black\",\"black\",\"black\",\"black\",\"black\",\"black\",\"black\",\"black\",\"black\",\"black\",\"black\",\"black\",\"black\",\"black\",\"black\",\"black\",\"black\",\"black\",\"black\",\"black\",\"black\",\"black\",\"black\",\"black\",\"black\",\"black\",\"black\",\"black\",\"black\",\"black\",\"black\",\"black\",\"black\",\"black\",\"black\",\"black\",\"black\",\"black\",\"black\",\"black\",\"black\",\"black\",\"black\",\"black\",\"black\",\"black\",\"black\",\"black\",\"black\",\"black\",\"black\",\"black\",\"black\",\"black\",\"black\",\"black\",\"black\",\"black\",\"black\",\"black\",\"black\",\"black\",\"black\",\"black\",\"black\",\"black\",\"black\",\"black\",\"black\",\"black\",\"black\",\"black\",\"black\",\"black\",\"black\",\"black\",\"black\",\"black\",\"black\",\"black\",\"black\",\"black\",\"black\",\"black\",\"black\",\"black\",\"black\",\"black\",\"black\",\"black\",\"black\",\"black\",\"black\",\"black\",\"black\",\"black\",\"black\",\"black\",\"black\",\"black\",\"black\",\"black\",\"black\",\"black\",\"black\",\"black\",\"black\",\"black\",\"black\",\"black\",\"black\",\"black\",\"black\",\"black\",\"black\",\"black\",\"black\",\"black\",\"black\",\"black\",\"black\",\"black\",\"black\",\"black\",\"black\",\"black\",\"black\",\"black\",\"black\",\"black\",\"black\",\"black\",\"black\",\"black\",\"black\",\"black\",\"black\",\"black\",\"black\",\"black\",\"black\",\"black\",\"black\",\"black\",\"black\",\"black\",\"black\",\"black\",\"black\",\"black\",\"black\",\"black\",\"black\",\"black\",\"black\",\"black\",\"black\",\"black\",\"black\",\"black\",\"black\",\"black\",\"black\",\"black\",\"black\",\"black\",\"black\",\"black\",\"black\",\"black\",\"black\",\"black\",\"black\",\"black\",\"black\",\"black\",\"black\",\"black\",\"black\",\"black\",\"black\",\"black\",\"black\",\"black\",\"black\",\"black\",\"black\",\"black\",\"black\",\"black\",\"black\",\"black\",\"black\",\"black\",\"black\",\"black\",\"black\",\"black\",\"black\",\"black\",\"black\",\"black\",\"black\",\"black\",\"black\",\"black\",\"black\",\"black\",\"black\",\"black\",\"black\",\"black\",\"black\",\"black\"],\"xs\":[[135758231,135758231],[135758520,135758520],[135766072,135766072],[135773420,135773420],[135773446,135773446],[135773617,135773617],[135773692,135773692],[135774681,135774681],[135775049,135775049],[135776430,135776430],[135778656,135778656],[135780168,135780168],[135780587,135780587],[135781301,135781301],[135781522,135781522],[135781635,135781635],[135782456,135782456],[135783157,135783157],[135783366,135783366],[135783367,135783367],[135784227,135784227],[135784733,135784733],[135785066,135785066],[135785068,135785068],[135785149,135785149],[135787148,135787148],[135787642,135787642],[135789405,135789405],[135789472,135789472],[135789682,135789682],[135789784,135789784],[135792338,135792338],[135792528,135792528],[135793565,135793565],[135793684,135793684],[135793845,135793845],[135794367,135794367],[135794986,135794986],[135795040,135795040],[135795095,135795095],[135795150,135795150],[135795385,135795385],[135795396,135795396],[135795443,135795443],[135795595,135795595],[135796000,135796000],[135796155,135796155],[135796410,135796410],[135796965,135796965],[135797223,135797223],[135797747,135797747],[135798082,135798082],[135798758,135798758],[135799082,135799082],[135800085,135800085],[135800601,135800601],[135800757,135800757],[135801228,135801228],[135801956,135801956],[135802020,135802020],[135802028,135802028],[135802050,135802050],[135802148,135802148],[135803766,135803766],[135809241,135809241],[135812969,135812969],[135814716,135814716],[135818907,135818907],[135829432,135829432],[135832131,135832131],[135849613,135849613],[135853807,135853807],[135859923,135859923],[135860305,135860305],[135861497,135861497],[135863143,135863143],[135864294,135864294],[135871624,135871624],[135872646,135872646],[135874038,135874038],[135874622,135874622],[135878814,135878814],[135880013,135880013],[135884487,135884487],[135885357,135885357],[135893853,135893853],[135895809,135895809],[135895879,135895879],[135899069,135899069],[135909462,135909462],[135912977,135912977],[135914038,135914038],[135921839,135921839],[135925002,135925002],[135928312,135928312],[135935049,135935049],[135962711,135962711],[135984172,135984172],[135994753,135994753],[135994754,135994754],[136016079,136016079],[136027264,136027264],[136052004,136052004],[136100473,136100473],[136110129,136110129],[136166536,136166536],[136169799,136169799],[136191314,136191314],[136228887,136228887],[136238453,136238453],[136288273,136288273],[136292425,136292425],[136321951,136321951],[136324564,136324564],[136327299,136327299],[136327302,136327302],[136376515,136376515],[135766890,135766890],[135778708,135778708],[135779588,135779588],[135805941,135805941],[135805943,135805943],[135932720,135932720],[135933317,135933317],[135934842,135934842],[135952376,135952376],[135958853,135958853],[135962864,135962864],[135963304,135963304],[135965376,135965376],[135980201,135980201],[135981554,135981554],[135988127,135988127],[135988416,135988416],[135991470,135991470],[136000500,136000500],[136001215,136001215],[136001295,136001295],[136016514,136016514],[136017388,136017388],[136041102,136041102],[136041662,136041662],[136047387,136047387],[136052936,136052936],[136055275,136055275],[136063118,136063118],[136066802,136066802],[136068890,136068890],[136069577,136069577],[136081193,136081193],[136105193,136105193],[136107839,136107839],[136110835,136110835],[136138026,136138026],[136142092,136142092],[136146499,136146499],[136147607,136147607],[136148401,136148401],[136150512,136150512],[136154734,136154734],[136155805,136155805],[136163001,136163001],[136163266,136163266],[136163568,136163568],[136163821,136163821],[136165965,136165965],[136183312,136183312],[136185945,136185945],[136191729,136191729],[136204827,136204827],[136208747,136208747],[136217980,136217980],[136229438,136229438],[136232572,136232572],[136240942,136240942],[136251329,136251329],[136265187,136265187],[136265188,136265188],[136275985,136275985],[135818487,135818487],[136048649,136048649],[136107286,136107286],[136127914,136127914],[136130497,136130497],[136268096,136268096],[136281880,136281880],[136289565,136289565],[135839805,135839805],[135866750,135866750],[135886744,135886744],[135924467,135924467],[135964764,135964764],[135964765,135964765],[136099127,136099127],[136099650,136099650],[136100705,136100705],[136101132,136101132],[135989333,135989333],[136000304,136000304],[136030519,136030519],[136034836,136034836],[136125165,136125165],[136264631,136264631],[136028572,136028572],[136141525,136141525],[136174478,136174478],[136211744,136211744],[136240608,136240608],[136320031,136320031],[136320040,136320040],[136368926,136368926],[136438465,136438465],[136393658,136393658],[136396300,136396300],[136401843,136401843],[136407445,136407445],[136411879,136411879],[136412270,136412270],[136413244,136413244],[136413847,136413847],[136415217,136415217],[136416533,136416533],[136420726,136420726],[136429857,136429857],[136433740,136433740],[136436317,136436317],[136437615,136437615],[136438517,136438517],[136440300,136440300],[136443900,136443900],[136444185,136444185],[136444338,136444338],[136449254,136449254],[136451676,136451676],[136459227,136459227],[136463117,136463117],[136463454,136463454],[136467119,136467119],[136468238,136468238],[136470219,136470219],[136483355,136483355],[136485276,136485276],[136486340,136486340],[136486342,136486342],[136496493,136496493],[136496639,136496639],[136496928,136496928],[136509573,136509573],[136511951,136511951],[136537057,136537057],[136546635,136546635],[136553438,136553438],[136553925,136553925],[136496805,136496805],[136496910,136496910],[136515859,136515859],[136515924,136515924],[136520186,136520186],[136524766,136524766],[136535364,136535364],[136536113,136536113],[136552629,136552629],[136511874,136511874],[136530248,136530248],[136530556,136530556],[136531252,136531252],[136533195,136533195],[136514709,136514709],[136516308,136516308],[136520100,136520100],[136521595,136521595],[136523045,136523045],[136543147,136543147],[136556805,136556805],[136560003,136560003],[136562472,136562472],[136563248,136563248],[136565328,136565328],[136570613,136570613],[136571982,136571982],[136574305,136574305],[136578040,136578040],[136578194,136578194],[136580398,136580398],[136586828,136586828],[136590558,136590558],[136592309,136592309],[136593541,136593541],[136593694,136593694],[136595426,136595426],[136615222,136615222],[136624919,136624919],[136626004,136626004],[136628380,136628380],[136636909,136636909],[136637350,136637350],[136637622,136637622],[136639487,136639487],[136646900,136646900],[136652093,136652093],[136652859,136652859],[136655620,136655620],[136667896,136667896],[136671801,136671801],[136677192,136677192],[136683293,136683293],[136704414,136704414],[136720344,136720344],[136731066,136731066],[136733897,136733897],[136743490,136743490],[136747085,136747085]],\"ys\":[[650,696],[650,696],[650,696],[650,696],[650,696],[650,696],[650,696],[650,696],[650,696],[650,696],[650,696],[650,696],[650,696],[650,696],[650,696],[650,696],[650,696],[650,696],[650,696],[650,696],[650,696],[650,696],[650,696],[650,696],[650,696],[650,696],[650,696],[650,696],[650,696],[650,696],[650,696],[650,696],[650,696],[650,696],[650,696],[650,696],[650,696],[650,696],[650,696],[650,696],[650,696],[650,696],[650,696],[650,696],[650,696],[650,696],[650,696],[650,696],[650,696],[650,696],[650,696],[650,696],[650,696],[650,696],[650,696],[650,696],[650,696],[650,696],[650,696],[650,696],[650,696],[650,696],[650,696],[650,696],[650,696],[650,696],[650,696],[650,696],[650,696],[650,696],[650,696],[650,696],[650,696],[650,696],[650,696],[650,696],[650,696],[650,696],[650,696],[650,696],[650,696],[650,696],[650,696],[650,696],[650,696],[650,696],[650,696],[650,696],[650,696],[650,696],[650,696],[650,696],[650,696],[650,696],[650,696],[650,696],[650,696],[650,696],[650,696],[650,696],[650,696],[650,696],[650,696],[650,696],[650,696],[650,696],[650,696],[650,696],[650,696],[650,696],[650,696],[650,696],[650,696],[650,696],[650,696],[650,696],[650,696],[550,593],[550,593],[550,593],[550,593],[550,593],[550,593],[550,593],[550,593],[550,593],[550,593],[550,593],[550,593],[550,593],[550,593],[550,593],[550,593],[550,593],[550,593],[550,593],[550,593],[550,593],[550,593],[550,593],[550,593],[550,593],[550,593],[550,593],[550,593],[550,593],[550,593],[550,593],[550,593],[550,593],[550,593],[550,593],[550,593],[550,593],[550,593],[550,593],[550,593],[550,593],[550,593],[550,593],[550,593],[550,593],[550,593],[550,593],[550,593],[550,593],[550,593],[550,593],[550,593],[550,593],[550,593],[550,593],[550,593],[550,593],[550,593],[550,593],[550,593],[550,593],[550,593],[150,180],[150,180],[150,180],[150,180],[150,180],[150,180],[150,180],[150,180],[250,290],[250,290],[250,290],[250,290],[350,391],[350,391],[350,391],[350,391],[350,391],[350,391],[250,288],[250,288],[250,288],[250,288],[250,288],[250,288],[50,63],[50,63],[50,63],[50,63],[50,63],[50,63],[50,63],[50,63],[50,63],[650,694],[650,694],[650,694],[650,694],[650,694],[650,694],[650,694],[650,694],[650,694],[650,694],[650,694],[650,694],[650,694],[650,694],[650,694],[650,694],[650,694],[650,694],[650,694],[650,694],[650,694],[650,694],[650,694],[650,694],[650,694],[650,694],[650,694],[650,694],[650,694],[650,694],[650,694],[650,694],[550,593],[550,593],[550,593],[550,593],[550,593],[550,593],[550,593],[550,593],[550,593],[450,491],[450,491],[450,491],[450,491],[450,491],[450,491],[450,491],[450,491],[450,491],[350,391],[350,391],[350,391],[350,391],[350,391],[250,290],[250,290],[250,290],[250,290],[250,290],[250,290],[450,491],[450,491],[450,491],[450,491],[450,491],[450,491],[450,491],[450,491],[450,491],[450,491],[450,491],[450,491],[450,491],[450,491],[450,491],[450,491],[450,491],[450,491],[450,491],[450,491],[450,491],[450,491],[450,491],[450,491],[450,491],[450,491],[450,491],[450,491],[450,491],[450,491],[450,491],[450,491],[450,491],[450,491],[450,491],[450,491],[450,491],[450,491],[450,491]]}},\"id\":\"83fd4aaf-afec-4146-8a4c-1d442bb8077f\",\"type\":\"ColumnDataSource\"},{\"attributes\":{\"data_source\":{\"id\":\"7c1e945a-b9ff-4c9e-b655-053815fb6e28\",\"type\":\"ColumnDataSource\"},\"glyph\":{\"id\":\"724bb33c-f736-4f57-a3b7-206dd3f4f054\",\"type\":\"Quad\"},\"hover_glyph\":null,\"nonselection_glyph\":{\"id\":\"b4fa3547-fa55-4745-857d-fcfb5d3b0ed9\",\"type\":\"Quad\"},\"selection_glyph\":null},\"id\":\"47b34f7d-820d-4e1f-bf71-bf505b7a8fe1\",\"type\":\"GlyphRenderer\"},{\"attributes\":{\"formatter\":{\"id\":\"82065847-152d-4dc6-bbe4-04cf9c68a058\",\"type\":\"BasicTickFormatter\"},\"plot\":{\"id\":\"93f02b0f-dee3-478c-b2b7-cac9fd12dbdc\",\"subtype\":\"Figure\",\"type\":\"Plot\"},\"ticker\":{\"id\":\"cca9fbf0-d042-461a-94aa-7fa8a16589cb\",\"type\":\"BasicTicker\"},\"visible\":null},\"id\":\"4bc76877-8b32-48d3-ac9e-528c57427184\",\"type\":\"LinearAxis\"},{\"attributes\":{\"level\":\"glyph\",\"plot\":{\"id\":\"93f02b0f-dee3-478c-b2b7-cac9fd12dbdc\",\"subtype\":\"Figure\",\"type\":\"Plot\"},\"source\":{\"id\":\"36804a0a-475f-4020-9e92-f4bb242d0c51\",\"type\":\"ColumnDataSource\"},\"text\":{\"field\":\"vals\"},\"text_font_size\":{\"value\":\"9pt\"},\"text_font_style\":\"bold\",\"x\":{\"field\":\"x\"},\"y\":{\"field\":\"y\"}},\"id\":\"b93f259b-1970-4147-9f51-7e756331b7f9\",\"type\":\"LabelSet\"},{\"attributes\":{\"data_source\":{\"id\":\"fe561a4a-79ac-4c47-8fa3-3f30efa9bee5\",\"type\":\"ColumnDataSource\"},\"glyph\":{\"id\":\"639ac225-9431-43ce-9711-8b3836fe42b7\",\"type\":\"Quad\"},\"hover_glyph\":null,\"nonselection_glyph\":{\"id\":\"a086047a-1e5c-48c7-a491-07660320ba3a\",\"type\":\"Quad\"},\"selection_glyph\":null},\"id\":\"3d836dfd-f2ed-4f36-bc22-2ca74ece9a94\",\"type\":\"GlyphRenderer\"},{\"attributes\":{\"callback\":null,\"end\":136786630,\"start\":135757320},\"id\":\"142da70a-a3c1-45f2-96ad-3a089a44d7c3\",\"type\":\"Range1d\"},{\"attributes\":{\"bottom_units\":\"screen\",\"fill_alpha\":{\"value\":0.5},\"fill_color\":{\"value\":\"lightgrey\"},\"left_units\":\"screen\",\"level\":\"overlay\",\"line_alpha\":{\"value\":1.0},\"line_color\":{\"value\":\"black\"},\"line_dash\":[4,4],\"line_width\":{\"value\":2},\"plot\":null,\"render_mode\":\"css\",\"right_units\":\"screen\",\"top_units\":\"screen\"},\"id\":\"2eeeb268-987a-4760-a2a9-91c3b42ec414\",\"type\":\"BoxAnnotation\"},{\"attributes\":{\"callback\":null,\"column_names\":[\"right\",\"bottom\",\"top\",\"left\"],\"data\":{\"bottom\":[745,745,745,745,745,745,745],\"left\":[135809835,135957574,136289083,136499189,136545415,136597196,136664254],\"right\":[135928279,136288182,136482839,136542633,136594750,136634047,136743222],\"top\":[775,775,775,775,775,775,775]}},\"id\":\"7c1e945a-b9ff-4c9e-b655-053815fb6e28\",\"type\":\"ColumnDataSource\"},{\"attributes\":{\"level\":\"glyph\",\"plot\":{\"id\":\"93f02b0f-dee3-478c-b2b7-cac9fd12dbdc\",\"subtype\":\"Figure\",\"type\":\"Plot\"},\"source\":{\"id\":\"67d7de12-5136-4496-b334-96d50c249ace\",\"type\":\"ColumnDataSource\"},\"text\":{\"field\":\"vals\"},\"text_align\":\"center\",\"text_baseline\":\"middle\",\"text_font_size\":{\"value\":\"8pt\"},\"x\":{\"field\":\"x\"},\"y\":{\"field\":\"y\"}},\"id\":\"830ef580-f0b4-4ba1-96f3-c3906654fe9d\",\"type\":\"LabelSet\"},{\"attributes\":{},\"id\":\"add2f2e2-aef3-4f01-9667-9e65a30e2ac1\",\"type\":\"BasicTickFormatter\"},{\"attributes\":{\"bottom\":{\"field\":\"bottom\"},\"fill_alpha\":{\"value\":0.1},\"fill_color\":{\"value\":\"#1f77b4\"},\"left\":{\"field\":\"left\"},\"line_alpha\":{\"value\":0.1},\"line_color\":{\"value\":\"#1f77b4\"},\"right\":{\"field\":\"right\"},\"top\":{\"field\":\"top\"}},\"id\":\"a086047a-1e5c-48c7-a491-07660320ba3a\",\"type\":\"Quad\"},{\"attributes\":{\"callback\":null,\"end\":800},\"id\":\"69ca432c-b874-4000-95d8-d62427aa0798\",\"type\":\"Range1d\"},{\"attributes\":{\"plot\":{\"id\":\"93f02b0f-dee3-478c-b2b7-cac9fd12dbdc\",\"subtype\":\"Figure\",\"type\":\"Plot\"}},\"id\":\"be11181a-6fe5-453f-911f-4cb8de33d8f2\",\"type\":\"SaveTool\"},{\"attributes\":{},\"id\":\"82065847-152d-4dc6-bbe4-04cf9c68a058\",\"type\":\"BasicTickFormatter\"},{\"attributes\":{\"active_drag\":\"auto\",\"active_scroll\":\"auto\",\"active_tap\":\"auto\",\"tools\":[{\"id\":\"5b452ad5-3e2c-4132-adca-b715f1a23016\",\"type\":\"PanTool\"},{\"id\":\"871db295-e437-4d8f-8eec-6a591890afd4\",\"type\":\"WheelZoomTool\"},{\"id\":\"b3d9ca5a-3eed-4d30-9f81-f6c47dad731a\",\"type\":\"BoxZoomTool\"},{\"id\":\"be11181a-6fe5-453f-911f-4cb8de33d8f2\",\"type\":\"SaveTool\"},{\"id\":\"c7b52ddb-6b52-4a79-88bf-3faecaca9152\",\"type\":\"ResetTool\"},{\"id\":\"42e8b036-eb49-482a-9e9f-3d50b6b23c3a\",\"type\":\"HelpTool\"}]},\"id\":\"6c5d7b02-5329-47db-9188-b1c3309916af\",\"type\":\"Toolbar\"},{\"attributes\":{\"overlay\":{\"id\":\"2eeeb268-987a-4760-a2a9-91c3b42ec414\",\"type\":\"BoxAnnotation\"},\"plot\":{\"id\":\"93f02b0f-dee3-478c-b2b7-cac9fd12dbdc\",\"subtype\":\"Figure\",\"type\":\"Plot\"}},\"id\":\"b3d9ca5a-3eed-4d30-9f81-f6c47dad731a\",\"type\":\"BoxZoomTool\"},{\"attributes\":{\"plot\":{\"id\":\"93f02b0f-dee3-478c-b2b7-cac9fd12dbdc\",\"subtype\":\"Figure\",\"type\":\"Plot\"}},\"id\":\"c7b52ddb-6b52-4a79-88bf-3faecaca9152\",\"type\":\"ResetTool\"},{\"attributes\":{\"dimension\":1,\"plot\":{\"id\":\"93f02b0f-dee3-478c-b2b7-cac9fd12dbdc\",\"subtype\":\"Figure\",\"type\":\"Plot\"},\"ticker\":{\"id\":\"cca9fbf0-d042-461a-94aa-7fa8a16589cb\",\"type\":\"BasicTicker\"}},\"id\":\"98bbd91e-c442-4255-a064-52c86fb757c8\",\"type\":\"Grid\"},{\"attributes\":{\"callback\":null,\"column_names\":[\"y\",\"x\",\"vals\"],\"data\":{\"vals\":[\"117_1685\",\"62_1265\",\"8_267\",\"4_815\",\"6_946\",\"6_713\",\"9_39\",\"32_1361\",\"9_1170\",\"9_1023\",\"5_976\",\"6_820\",\"39_1014\"],\"x\":[135758231,135766890,135818487,135839805,135964764,135989333,136028572,136393658,136496493,136496805,136511874,136514709,136556805],\"y\":[701.0,598.0,185.0,295.0,396.0,293.0,68.0,699.0,598.0,496.0,396.0,295.0,496.0]}},\"id\":\"36804a0a-475f-4020-9e92-f4bb242d0c51\",\"type\":\"ColumnDataSource\"},{\"attributes\":{\"callback\":null,\"column_names\":[\"right\",\"bottom\",\"top\",\"left\",\"fill_color\"],\"data\":{\"bottom\":[650,550,150,250,350,250,50,650,550,450,350,250,450],\"fill_color\":[\"#808080\",\"#808080\",\"#c461c4\",\"#61c4c4\",\"#61c4c4\",\"#61c4c4\",\"#00ff00\",\"#c4c461\",\"#808080\",\"#61c4c4\",\"#808080\",\"#61c4c4\",\"#808080\"],\"left\":[135758231,135766890,135818487,135839805,135964764,135989333,136028572,136393658,136496493,136496805,136511874,136514709,136556805],\"right\":[136376515,136275985,136289565,135924467,136101132,136264631,136438465,136486342,136553925,136552629,136533195,136543147,136747085],\"top\":[696,593,180,290,391,288,63,694,593,491,391,290,491]}},\"id\":\"fe561a4a-79ac-4c47-8fa3-3f30efa9bee5\",\"type\":\"ColumnDataSource\"},{\"attributes\":{},\"id\":\"16d686ad-e203-4992-91d8-3340004055bf\",\"type\":\"BasicTicker\"}],\"root_ids\":[\"93f02b0f-dee3-478c-b2b7-cac9fd12dbdc\"]},\"title\":\"Bokeh Application\",\"version\":\"0.12.0\"}};\n",
       "            var render_items = [{\"docid\":\"2da6760a-484e-4550-bf0d-1bd5e74caf82\",\"elementid\":\"9a1385ea-8a07-4ef5-935f-e40c5c097843\",\"modelid\":\"93f02b0f-dee3-478c-b2b7-cac9fd12dbdc\",\"notebook_comms_target\":\"aa18bf2e-3e21-41d8-b113-abf0dee3f04a\"}];\n",
       "            \n",
       "            Bokeh.embed.embed_items(docs_json, render_items);\n",
       "        });\n",
       "      },\n",
       "      function(Bokeh) {\n",
       "      }\n",
       "    ];\n",
       "  \n",
       "    function run_inline_js() {\n",
       "      for (var i = 0; i < inline_js.length; i++) {\n",
       "        inline_js[i](window.Bokeh);\n",
       "      }\n",
       "    }\n",
       "  \n",
       "    if (window._bokeh_is_loading === 0) {\n",
       "      console.log(\"Bokeh: BokehJS loaded, going straight to plotting\");\n",
       "      run_inline_js();\n",
       "    } else {\n",
       "      load_libs(js_urls, function() {\n",
       "        console.log(\"Bokeh: BokehJS plotting callback run at\", now());\n",
       "        run_inline_js();\n",
       "      });\n",
       "    }\n",
       "  }(this));\n",
       "</script>"
      ]
     },
     "metadata": {},
     "output_type": "display_data"
    },
    {
     "data": {
      "text/html": [
       "<p><code>&lt;Bokeh Notebook handle for <strong>In[42]</strong>&gt;</code></p>"
      ],
      "text/plain": [
       "<bokeh.io._CommsHandle at 0x7f3eea621910>"
      ]
     },
     "execution_count": 42,
     "metadata": {},
     "output_type": "execute_result"
    }
   ],
   "source": [
    "plt_obj = dm.superset_allele_mask(am_169, min_match=0.5)\n",
    "plt = plt_obj.do_plot()\n",
    "show(plt)"
   ]
  },
  {
   "cell_type": "markdown",
   "metadata": {},
   "source": [
    "<div style=\"width:700px\">\n",
    "<p>\n",
    "This plot shows that the 1 chromosome sample that expresses 169 series 193_843 SNPs is the\n",
    "remaining chromosome sample that expresses the series 9_39\n",
    "</div>"
   ]
  },
  {
   "cell_type": "code",
   "execution_count": 43,
   "metadata": {
    "collapsed": false
   },
   "outputs": [
    {
     "data": {
      "text/html": [
       "<table>\n",
       "<thead><tr><th style=\"text-align:center\">index</th><th style=\"text-align:center\">first</th><th style=\"text-align:center\">length</th><th style=\"text-align:center\">snps</th><th style=\"text-align:center\" colspan=2>alleles</th><th style=\"text-align:center\" colspan=2>matches</th><th style=\"text-align:center\" colspan=2>afr</th><th style=\"text-align:center\" colspan=2>afx</th><th style=\"text-align:center\" colspan=2>amr</th><th style=\"text-align:center\" colspan=2>eas</th><th style=\"text-align:center\" colspan=2>eur</th><th style=\"text-align:center\" colspan=2>sas</th><th style=\"text-align:center\" colspan=2>sax</th></tr></thead>\n",
       "<tr class=\"even\"><td style=\"text-align: right;\">353244</td><td style=\"text-align: right;\">135,758,231</td><td style=\"text-align: right;\">618,284</td><td style=\"text-align: right;\">117</td><td style=\"text-align: right;\">1685</td><td style=\"text-align: right;\">0.00</td><td style=\"text-align: right;\">1</td><td style=\"text-align: right;\">1.00</td><td style=\"text-align: right;\">0</td><td style=\"text-align: right;\">0.00</td><td style=\"text-align: right;\">0</td><td style=\"text-align: right;\">0.00</td><td style=\"text-align: right;\">0</td><td style=\"text-align: right;\">0.00</td><td style=\"text-align: right;\">0</td><td style=\"text-align: right;\">0.00</td><td style=\"text-align: right;\">1</td><td style=\"text-align: right;\">4.98</td><td style=\"text-align: right;\">0</td><td style=\"text-align: right;\">0.00</td><td style=\"text-align: right;\">0</td><td style=\"text-align: right;\">0.00</td></tr>\n",
       "<tr><td style=\"text-align: right;\">353791</td><td style=\"text-align: right;\">136,393,658</td><td style=\"text-align: right;\">92,684</td><td style=\"text-align: right;\">32</td><td style=\"text-align: right;\">1361</td><td style=\"text-align: right;\">0.00</td><td style=\"text-align: right;\">1</td><td style=\"text-align: right;\">1.00</td><td style=\"text-align: right;\">0</td><td style=\"text-align: right;\">0.00</td><td style=\"text-align: right;\">0</td><td style=\"text-align: right;\">0.00</td><td style=\"text-align: right;\">0</td><td style=\"text-align: right;\">0.00</td><td style=\"text-align: right;\">0</td><td style=\"text-align: right;\">0.00</td><td style=\"text-align: right;\">1</td><td style=\"text-align: right;\">4.98</td><td style=\"text-align: right;\">0</td><td style=\"text-align: right;\">0.00</td><td style=\"text-align: right;\">0</td><td style=\"text-align: right;\">0.00</td></tr>\n",
       "<tr class=\"even\"><td style=\"text-align: right;\">353269</td><td style=\"text-align: right;\">135,766,890</td><td style=\"text-align: right;\">509,095</td><td style=\"text-align: right;\">62</td><td style=\"text-align: right;\">1265</td><td style=\"text-align: right;\">0.00</td><td style=\"text-align: right;\">1</td><td style=\"text-align: right;\">1.00</td><td style=\"text-align: right;\">0</td><td style=\"text-align: right;\">0.00</td><td style=\"text-align: right;\">0</td><td style=\"text-align: right;\">0.00</td><td style=\"text-align: right;\">0</td><td style=\"text-align: right;\">0.00</td><td style=\"text-align: right;\">0</td><td style=\"text-align: right;\">0.00</td><td style=\"text-align: right;\">1</td><td style=\"text-align: right;\">4.98</td><td style=\"text-align: right;\">0</td><td style=\"text-align: right;\">0.00</td><td style=\"text-align: right;\">0</td><td style=\"text-align: right;\">0.00</td></tr>\n",
       "<tr><td style=\"text-align: right;\">353906</td><td style=\"text-align: right;\">136,496,493</td><td style=\"text-align: right;\">57,432</td><td style=\"text-align: right;\">9</td><td style=\"text-align: right;\">1170</td><td style=\"text-align: right;\">0.00</td><td style=\"text-align: right;\">1</td><td style=\"text-align: right;\">1.00</td><td style=\"text-align: right;\">0</td><td style=\"text-align: right;\">0.00</td><td style=\"text-align: right;\">0</td><td style=\"text-align: right;\">0.00</td><td style=\"text-align: right;\">0</td><td style=\"text-align: right;\">0.00</td><td style=\"text-align: right;\">0</td><td style=\"text-align: right;\">0.00</td><td style=\"text-align: right;\">1</td><td style=\"text-align: right;\">4.98</td><td style=\"text-align: right;\">0</td><td style=\"text-align: right;\">0.00</td><td style=\"text-align: right;\">0</td><td style=\"text-align: right;\">0.00</td></tr>\n",
       "<tr class=\"even\"><td style=\"text-align: right;\">353907</td><td style=\"text-align: right;\">136,496,805</td><td style=\"text-align: right;\">55,824</td><td style=\"text-align: right;\">9</td><td style=\"text-align: right;\">1023</td><td style=\"text-align: right;\">0.00</td><td style=\"text-align: right;\">1</td><td style=\"text-align: right;\">1.00</td><td style=\"text-align: right;\">0</td><td style=\"text-align: right;\">0.00</td><td style=\"text-align: right;\">0</td><td style=\"text-align: right;\">0.00</td><td style=\"text-align: right;\">0</td><td style=\"text-align: right;\">0.00</td><td style=\"text-align: right;\">0</td><td style=\"text-align: right;\">0.00</td><td style=\"text-align: right;\">1</td><td style=\"text-align: right;\">4.98</td><td style=\"text-align: right;\">0</td><td style=\"text-align: right;\">0.00</td><td style=\"text-align: right;\">0</td><td style=\"text-align: right;\">0.00</td></tr>\n",
       "<tr><td style=\"text-align: right;\">353984</td><td style=\"text-align: right;\">136,556,805</td><td style=\"text-align: right;\">190,280</td><td style=\"text-align: right;\">39</td><td style=\"text-align: right;\">1014</td><td style=\"text-align: right;\">0.00</td><td style=\"text-align: right;\">1</td><td style=\"text-align: right;\">1.00</td><td style=\"text-align: right;\">0</td><td style=\"text-align: right;\">0.00</td><td style=\"text-align: right;\">0</td><td style=\"text-align: right;\">0.00</td><td style=\"text-align: right;\">0</td><td style=\"text-align: right;\">0.00</td><td style=\"text-align: right;\">0</td><td style=\"text-align: right;\">0.00</td><td style=\"text-align: right;\">1</td><td style=\"text-align: right;\">4.98</td><td style=\"text-align: right;\">0</td><td style=\"text-align: right;\">0.00</td><td style=\"text-align: right;\">0</td><td style=\"text-align: right;\">0.00</td></tr>\n",
       "<tr class=\"even\"><td style=\"text-align: right;\">353935</td><td style=\"text-align: right;\">136,511,874</td><td style=\"text-align: right;\">21,321</td><td style=\"text-align: right;\">5</td><td style=\"text-align: right;\">976</td><td style=\"text-align: right;\">0.00</td><td style=\"text-align: right;\">1</td><td style=\"text-align: right;\">1.00</td><td style=\"text-align: right;\">0</td><td style=\"text-align: right;\">0.00</td><td style=\"text-align: right;\">0</td><td style=\"text-align: right;\">0.00</td><td style=\"text-align: right;\">0</td><td style=\"text-align: right;\">0.00</td><td style=\"text-align: right;\">0</td><td style=\"text-align: right;\">0.00</td><td style=\"text-align: right;\">1</td><td style=\"text-align: right;\">4.98</td><td style=\"text-align: right;\">0</td><td style=\"text-align: right;\">0.00</td><td style=\"text-align: right;\">0</td><td style=\"text-align: right;\">0.00</td></tr>\n",
       "<tr><td style=\"text-align: right;\">353504</td><td style=\"text-align: right;\">135,964,764</td><td style=\"text-align: right;\">136,368</td><td style=\"text-align: right;\">6</td><td style=\"text-align: right;\">946</td><td style=\"text-align: right;\">0.00</td><td style=\"text-align: right;\">1</td><td style=\"text-align: right;\">1.00</td><td style=\"text-align: right;\">0</td><td style=\"text-align: right;\">0.00</td><td style=\"text-align: right;\">0</td><td style=\"text-align: right;\">0.00</td><td style=\"text-align: right;\">0</td><td style=\"text-align: right;\">0.00</td><td style=\"text-align: right;\">0</td><td style=\"text-align: right;\">0.00</td><td style=\"text-align: right;\">1</td><td style=\"text-align: right;\">4.98</td><td style=\"text-align: right;\">0</td><td style=\"text-align: right;\">0.00</td><td style=\"text-align: right;\">0</td><td style=\"text-align: right;\">0.00</td></tr>\n",
       "<tr class=\"even\"><td style=\"text-align: right;\">353938</td><td style=\"text-align: right;\">136,514,709</td><td style=\"text-align: right;\">28,438</td><td style=\"text-align: right;\">6</td><td style=\"text-align: right;\">820</td><td style=\"text-align: right;\">0.00</td><td style=\"text-align: right;\">1</td><td style=\"text-align: right;\">1.00</td><td style=\"text-align: right;\">0</td><td style=\"text-align: right;\">0.00</td><td style=\"text-align: right;\">0</td><td style=\"text-align: right;\">0.00</td><td style=\"text-align: right;\">0</td><td style=\"text-align: right;\">0.00</td><td style=\"text-align: right;\">0</td><td style=\"text-align: right;\">0.00</td><td style=\"text-align: right;\">1</td><td style=\"text-align: right;\">4.98</td><td style=\"text-align: right;\">0</td><td style=\"text-align: right;\">0.00</td><td style=\"text-align: right;\">0</td><td style=\"text-align: right;\">0.00</td></tr>\n",
       "<tr><td style=\"text-align: right;\">353384</td><td style=\"text-align: right;\">135,839,805</td><td style=\"text-align: right;\">84,662</td><td style=\"text-align: right;\">4</td><td style=\"text-align: right;\">815</td><td style=\"text-align: right;\">0.00</td><td style=\"text-align: right;\">1</td><td style=\"text-align: right;\">1.00</td><td style=\"text-align: right;\">0</td><td style=\"text-align: right;\">0.00</td><td style=\"text-align: right;\">0</td><td style=\"text-align: right;\">0.00</td><td style=\"text-align: right;\">0</td><td style=\"text-align: right;\">0.00</td><td style=\"text-align: right;\">0</td><td style=\"text-align: right;\">0.00</td><td style=\"text-align: right;\">1</td><td style=\"text-align: right;\">4.98</td><td style=\"text-align: right;\">0</td><td style=\"text-align: right;\">0.00</td><td style=\"text-align: right;\">0</td><td style=\"text-align: right;\">0.00</td></tr>\n",
       "<tr class=\"even\"><td style=\"text-align: right;\">353521</td><td style=\"text-align: right;\">135,989,333</td><td style=\"text-align: right;\">275,298</td><td style=\"text-align: right;\">6</td><td style=\"text-align: right;\">713</td><td style=\"text-align: right;\">0.00</td><td style=\"text-align: right;\">1</td><td style=\"text-align: right;\">1.00</td><td style=\"text-align: right;\">0</td><td style=\"text-align: right;\">0.00</td><td style=\"text-align: right;\">0</td><td style=\"text-align: right;\">0.00</td><td style=\"text-align: right;\">0</td><td style=\"text-align: right;\">0.00</td><td style=\"text-align: right;\">0</td><td style=\"text-align: right;\">0.00</td><td style=\"text-align: right;\">1</td><td style=\"text-align: right;\">4.98</td><td style=\"text-align: right;\">0</td><td style=\"text-align: right;\">0.00</td><td style=\"text-align: right;\">0</td><td style=\"text-align: right;\">0.00</td></tr>\n",
       "<tr><td style=\"text-align: right;\">353358</td><td style=\"text-align: right;\">135,818,487</td><td style=\"text-align: right;\">471,078</td><td style=\"text-align: right;\">8</td><td style=\"text-align: right;\">267</td><td style=\"text-align: right;\">0.00</td><td style=\"text-align: right;\">1</td><td style=\"text-align: right;\">1.00</td><td style=\"text-align: right;\">0</td><td style=\"text-align: right;\">0.00</td><td style=\"text-align: right;\">0</td><td style=\"text-align: right;\">0.00</td><td style=\"text-align: right;\">0</td><td style=\"text-align: right;\">0.00</td><td style=\"text-align: right;\">0</td><td style=\"text-align: right;\">0.00</td><td style=\"text-align: right;\">1</td><td style=\"text-align: right;\">4.98</td><td style=\"text-align: right;\">0</td><td style=\"text-align: right;\">0.00</td><td style=\"text-align: right;\">0</td><td style=\"text-align: right;\">0.00</td></tr>\n",
       "<tr class=\"even\"><td style=\"text-align: right;\">353559</td><td style=\"text-align: right;\">136,028,572</td><td style=\"text-align: right;\">409,893</td><td style=\"text-align: right;\">9</td><td style=\"text-align: right;\">39</td><td style=\"text-align: right;\">0.03</td><td style=\"text-align: right;\">1</td><td style=\"text-align: right;\">1.00</td><td style=\"text-align: right;\">0</td><td style=\"text-align: right;\">0.00</td><td style=\"text-align: right;\">0</td><td style=\"text-align: right;\">0.00</td><td style=\"text-align: right;\">0</td><td style=\"text-align: right;\">0.00</td><td style=\"text-align: right;\">0</td><td style=\"text-align: right;\">0.00</td><td style=\"text-align: right;\">1</td><td style=\"text-align: right;\">4.98</td><td style=\"text-align: right;\">0</td><td style=\"text-align: right;\">0.00</td><td style=\"text-align: right;\">0</td><td style=\"text-align: right;\">0.00</td></tr>\n",
       "</table>"
      ],
      "text/plain": [
       "<IPython.core.display.HTML object>"
      ]
     },
     "execution_count": 43,
     "metadata": {},
     "output_type": "execute_result"
    }
   ],
   "source": [
    "HTML(plt_obj.get_html())"
   ]
  },
  {
   "cell_type": "markdown",
   "metadata": {},
   "source": [
    "<div style=\"width:700px\">\n",
    "<p>\n",
    "This data confirms that the 1 chromosome sample has matched all of the plotted series.\n",
    "</div>"
   ]
  },
  {
   "cell_type": "code",
   "execution_count": 44,
   "metadata": {
    "collapsed": false
   },
   "outputs": [
    {
     "data": {
      "text/html": [
       "\n",
       "\n",
       "    <div class=\"bk-root\">\n",
       "        <div class=\"plotdiv\" id=\"5723b115-cf6e-4113-81d7-353bed34685b\"></div>\n",
       "    </div>\n",
       "<script type=\"text/javascript\">\n",
       "  \n",
       "  (function(global) {\n",
       "    function now() {\n",
       "      return new Date();\n",
       "    }\n",
       "  \n",
       "    if (typeof (window._bokeh_onload_callbacks) === \"undefined\") {\n",
       "      window._bokeh_onload_callbacks = [];\n",
       "    }\n",
       "  \n",
       "    function run_callbacks() {\n",
       "      window._bokeh_onload_callbacks.forEach(function(callback) { callback() });\n",
       "      delete window._bokeh_onload_callbacks\n",
       "      console.info(\"Bokeh: all callbacks have finished\");\n",
       "    }\n",
       "  \n",
       "    function load_libs(js_urls, callback) {\n",
       "      window._bokeh_onload_callbacks.push(callback);\n",
       "      if (window._bokeh_is_loading > 0) {\n",
       "        console.log(\"Bokeh: BokehJS is being loaded, scheduling callback at\", now());\n",
       "        return null;\n",
       "      }\n",
       "      if (js_urls == null || js_urls.length === 0) {\n",
       "        run_callbacks();\n",
       "        return null;\n",
       "      }\n",
       "      console.log(\"Bokeh: BokehJS not loaded, scheduling load and callback at\", now());\n",
       "      window._bokeh_is_loading = js_urls.length;\n",
       "      for (var i = 0; i < js_urls.length; i++) {\n",
       "        var url = js_urls[i];\n",
       "        var s = document.createElement('script');\n",
       "        s.src = url;\n",
       "        s.async = false;\n",
       "        s.onreadystatechange = s.onload = function() {\n",
       "          window._bokeh_is_loading--;\n",
       "          if (window._bokeh_is_loading === 0) {\n",
       "            console.log(\"Bokeh: all BokehJS libraries loaded\");\n",
       "            run_callbacks()\n",
       "          }\n",
       "        };\n",
       "        s.onerror = function() {\n",
       "          console.warn(\"failed to load library \" + url);\n",
       "        };\n",
       "        console.log(\"Bokeh: injecting script tag for BokehJS library: \", url);\n",
       "        document.getElementsByTagName(\"head\")[0].appendChild(s);\n",
       "      }\n",
       "    };var element = document.getElementById(\"5723b115-cf6e-4113-81d7-353bed34685b\");\n",
       "    if (element == null) {\n",
       "      console.log(\"Bokeh: ERROR: autoload.js configured with elementid '5723b115-cf6e-4113-81d7-353bed34685b' but no matching script tag was found. \")\n",
       "      return false;\n",
       "    }\n",
       "  \n",
       "    var js_urls = [];\n",
       "  \n",
       "    var inline_js = [\n",
       "      function(Bokeh) {\n",
       "        Bokeh.$(function() {\n",
       "            var docs_json = {\"e8510529-ec00-4e94-bc2d-9cd727c06adc\":{\"roots\":{\"references\":[{\"attributes\":{},\"id\":\"700d6a6d-e8ed-4618-a37d-8d1c96274454\",\"type\":\"BasicTickFormatter\"},{\"attributes\":{\"plot\":{\"id\":\"6b85aab4-0229-41e5-9b14-625b6859b69c\",\"subtype\":\"Figure\",\"type\":\"Plot\"}},\"id\":\"e4419024-5369-4d11-9cbe-da86716bb6ff\",\"type\":\"PanTool\"},{\"attributes\":{\"plot\":{\"id\":\"6b85aab4-0229-41e5-9b14-625b6859b69c\",\"subtype\":\"Figure\",\"type\":\"Plot\"},\"ticker\":{\"id\":\"79c9a15a-58ca-4c40-9551-f8877a63d5eb\",\"type\":\"BasicTicker\"}},\"id\":\"50260de4-4ec3-476d-855b-8fe47240f72a\",\"type\":\"Grid\"},{\"attributes\":{\"bottom\":{\"field\":\"bottom\"},\"fill_alpha\":{\"value\":0.1},\"fill_color\":{\"value\":\"#1f77b4\"},\"left\":{\"field\":\"left\"},\"line_alpha\":{\"value\":0.1},\"line_color\":{\"value\":\"#1f77b4\"},\"right\":{\"field\":\"right\"},\"top\":{\"field\":\"top\"}},\"id\":\"99195f52-fb46-4b31-867c-4883a02d713c\",\"type\":\"Quad\"},{\"attributes\":{\"overlay\":{\"id\":\"f06563cf-e423-493d-a9be-593359e8f776\",\"type\":\"BoxAnnotation\"},\"plot\":{\"id\":\"6b85aab4-0229-41e5-9b14-625b6859b69c\",\"subtype\":\"Figure\",\"type\":\"Plot\"}},\"id\":\"60132cbf-f2fc-4eeb-b120-9dcb67b5ad46\",\"type\":\"BoxZoomTool\"},{\"attributes\":{\"bottom\":{\"field\":\"bottom\"},\"fill_alpha\":{\"value\":0.1},\"fill_color\":{\"value\":\"#1f77b4\"},\"left\":{\"field\":\"left\"},\"line_alpha\":{\"value\":0.1},\"line_color\":{\"value\":\"#1f77b4\"},\"right\":{\"field\":\"right\"},\"top\":{\"field\":\"top\"}},\"id\":\"2159c65f-c1ee-48d2-85f4-68fe3596e4c2\",\"type\":\"Quad\"},{\"attributes\":{\"bottom\":{\"field\":\"bottom\"},\"fill_color\":{\"value\":\"white\"},\"left\":{\"field\":\"left\"},\"right\":{\"field\":\"right\"},\"top\":{\"field\":\"top\"}},\"id\":\"60748e79-1f9d-4c4a-bf1d-af2289b8e6c7\",\"type\":\"Quad\"},{\"attributes\":{\"data_source\":{\"id\":\"c742b649-fdea-43c3-aa67-01a94d80544e\",\"type\":\"ColumnDataSource\"},\"glyph\":{\"id\":\"9d989383-3451-4dd4-9a8b-92ebee630c92\",\"type\":\"Quad\"},\"hover_glyph\":null,\"nonselection_glyph\":{\"id\":\"99195f52-fb46-4b31-867c-4883a02d713c\",\"type\":\"Quad\"},\"selection_glyph\":null},\"id\":\"c4742cb6-1566-4ded-870f-b025ed2533ca\",\"type\":\"GlyphRenderer\"},{\"attributes\":{\"plot\":{\"id\":\"6b85aab4-0229-41e5-9b14-625b6859b69c\",\"subtype\":\"Figure\",\"type\":\"Plot\"}},\"id\":\"340d1741-49e9-4418-9c5a-af4df1f26b8a\",\"type\":\"ResetTool\"},{\"attributes\":{\"plot\":{\"id\":\"6b85aab4-0229-41e5-9b14-625b6859b69c\",\"subtype\":\"Figure\",\"type\":\"Plot\"}},\"id\":\"eb31bb42-72cc-4b98-a9f3-1f1e0aa20b71\",\"type\":\"WheelZoomTool\"},{\"attributes\":{\"below\":[{\"id\":\"ee62bf57-4630-4995-b6a3-a0a74c47b3e0\",\"type\":\"LinearAxis\"}],\"left\":[{\"id\":\"6ce3a561-ed7a-47e1-a2f0-8f9678044c26\",\"type\":\"LinearAxis\"}],\"plot_height\":800,\"plot_width\":900,\"renderers\":[{\"id\":\"ee62bf57-4630-4995-b6a3-a0a74c47b3e0\",\"type\":\"LinearAxis\"},{\"id\":\"50260de4-4ec3-476d-855b-8fe47240f72a\",\"type\":\"Grid\"},{\"id\":\"6ce3a561-ed7a-47e1-a2f0-8f9678044c26\",\"type\":\"LinearAxis\"},{\"id\":\"97f0ddc7-6e61-445a-8309-b89249a03d8c\",\"type\":\"Grid\"},{\"id\":\"f06563cf-e423-493d-a9be-593359e8f776\",\"type\":\"BoxAnnotation\"},{\"id\":\"c4742cb6-1566-4ded-870f-b025ed2533ca\",\"type\":\"GlyphRenderer\"},{\"id\":\"b5c48234-ce23-4196-ba7e-fd26b4433dee\",\"type\":\"GlyphRenderer\"},{\"id\":\"c66af208-657d-4f4a-b0fa-ba384523259b\",\"type\":\"LabelSet\"},{\"id\":\"2fb56b2d-b6be-40be-9274-c3f76ec3a15e\",\"type\":\"GlyphRenderer\"},{\"id\":\"49a75b68-4e5d-4134-8688-c73a26fc47fb\",\"type\":\"LabelSet\"}],\"title\":{\"id\":\"ba370652-ecc6-493d-a3d7-946d50e2b8f8\",\"type\":\"Title\"},\"tool_events\":{\"id\":\"62eb8295-6cb3-4b78-87c0-199d890e5220\",\"type\":\"ToolEvents\"},\"toolbar\":{\"id\":\"df1fee68-8ef8-45fb-a488-6cd721cd5069\",\"type\":\"Toolbar\"},\"toolbar_location\":null,\"x_range\":{\"id\":\"87bab710-1a29-41fe-8d50-18341becdcd5\",\"type\":\"Range1d\"},\"y_range\":{\"id\":\"03341077-d304-4027-be1a-e8ff451e78bf\",\"type\":\"Range1d\"}},\"id\":\"6b85aab4-0229-41e5-9b14-625b6859b69c\",\"subtype\":\"Figure\",\"type\":\"Plot\"},{\"attributes\":{\"bottom\":{\"field\":\"bottom\"},\"fill_color\":{\"field\":\"fill_color\"},\"left\":{\"field\":\"left\"},\"line_color\":{\"value\":null},\"right\":{\"field\":\"right\"},\"top\":{\"field\":\"top\"}},\"id\":\"9d989383-3451-4dd4-9a8b-92ebee630c92\",\"type\":\"Quad\"},{\"attributes\":{\"line_alpha\":{\"value\":0.1},\"line_color\":{\"value\":\"#1f77b4\"},\"xs\":{\"field\":\"xs\"},\"ys\":{\"field\":\"ys\"}},\"id\":\"7edaa0db-3764-403b-b505-a46c59ded413\",\"type\":\"MultiLine\"},{\"attributes\":{},\"id\":\"80732428-4c3f-4ff3-b83f-f193e154755a\",\"type\":\"BasicTickFormatter\"},{\"attributes\":{},\"id\":\"ebc038ba-80a2-4e13-a73e-5c31b7cb635c\",\"type\":\"BasicTicker\"},{\"attributes\":{\"formatter\":{\"id\":\"80732428-4c3f-4ff3-b83f-f193e154755a\",\"type\":\"BasicTickFormatter\"},\"plot\":{\"id\":\"6b85aab4-0229-41e5-9b14-625b6859b69c\",\"subtype\":\"Figure\",\"type\":\"Plot\"},\"ticker\":{\"id\":\"ebc038ba-80a2-4e13-a73e-5c31b7cb635c\",\"type\":\"BasicTicker\"},\"visible\":null},\"id\":\"6ce3a561-ed7a-47e1-a2f0-8f9678044c26\",\"type\":\"LinearAxis\"},{\"attributes\":{\"callback\":null,\"column_names\":[\"y\",\"x\",\"vals\"],\"data\":{\"vals\":[\"RAB3GAP1\",\"ZRANB3\",\"R3HDM1\",\"UBXN4\",\"LCT\",\"MCM6\",\"DARS\"],\"x\":[135869057.0,136122878.0,136385961.0,136520911.0,136570082.5,136615621.5,136703738.0],\"y\":[760.0,760.0,760.0,760.0,760.0,760.0,760.0]}},\"id\":\"6b893822-36be-4860-b524-feb683e64abf\",\"type\":\"ColumnDataSource\"},{\"attributes\":{\"bottom_units\":\"screen\",\"fill_alpha\":{\"value\":0.5},\"fill_color\":{\"value\":\"lightgrey\"},\"left_units\":\"screen\",\"level\":\"overlay\",\"line_alpha\":{\"value\":1.0},\"line_color\":{\"value\":\"black\"},\"line_dash\":[4,4],\"line_width\":{\"value\":2},\"plot\":null,\"render_mode\":\"css\",\"right_units\":\"screen\",\"top_units\":\"screen\"},\"id\":\"f06563cf-e423-493d-a9be-593359e8f776\",\"type\":\"BoxAnnotation\"},{\"attributes\":{\"plot\":{\"id\":\"6b85aab4-0229-41e5-9b14-625b6859b69c\",\"subtype\":\"Figure\",\"type\":\"Plot\"}},\"id\":\"c5209b57-a711-42ab-9584-8bf0953790e0\",\"type\":\"SaveTool\"},{\"attributes\":{\"level\":\"glyph\",\"plot\":{\"id\":\"6b85aab4-0229-41e5-9b14-625b6859b69c\",\"subtype\":\"Figure\",\"type\":\"Plot\"},\"source\":{\"id\":\"6b893822-36be-4860-b524-feb683e64abf\",\"type\":\"ColumnDataSource\"},\"text\":{\"field\":\"vals\"},\"text_align\":\"center\",\"text_baseline\":\"middle\",\"text_font_size\":{\"value\":\"8pt\"},\"x\":{\"field\":\"x\"},\"y\":{\"field\":\"y\"}},\"id\":\"49a75b68-4e5d-4134-8688-c73a26fc47fb\",\"type\":\"LabelSet\"},{\"attributes\":{\"callback\":null,\"end\":136786630,\"start\":135757320},\"id\":\"87bab710-1a29-41fe-8d50-18341becdcd5\",\"type\":\"Range1d\"},{\"attributes\":{\"plot\":null,\"text\":null},\"id\":\"ba370652-ecc6-493d-a3d7-946d50e2b8f8\",\"type\":\"Title\"},{\"attributes\":{\"formatter\":{\"id\":\"700d6a6d-e8ed-4618-a37d-8d1c96274454\",\"type\":\"BasicTickFormatter\"},\"plot\":{\"id\":\"6b85aab4-0229-41e5-9b14-625b6859b69c\",\"subtype\":\"Figure\",\"type\":\"Plot\"},\"ticker\":{\"id\":\"79c9a15a-58ca-4c40-9551-f8877a63d5eb\",\"type\":\"BasicTicker\"}},\"id\":\"ee62bf57-4630-4995-b6a3-a0a74c47b3e0\",\"type\":\"LinearAxis\"},{\"attributes\":{\"active_drag\":\"auto\",\"active_scroll\":\"auto\",\"active_tap\":\"auto\",\"tools\":[{\"id\":\"e4419024-5369-4d11-9cbe-da86716bb6ff\",\"type\":\"PanTool\"},{\"id\":\"eb31bb42-72cc-4b98-a9f3-1f1e0aa20b71\",\"type\":\"WheelZoomTool\"},{\"id\":\"60132cbf-f2fc-4eeb-b120-9dcb67b5ad46\",\"type\":\"BoxZoomTool\"},{\"id\":\"c5209b57-a711-42ab-9584-8bf0953790e0\",\"type\":\"SaveTool\"},{\"id\":\"340d1741-49e9-4418-9c5a-af4df1f26b8a\",\"type\":\"ResetTool\"},{\"id\":\"9d0b48b2-b23f-48fc-839c-67156cf7a02c\",\"type\":\"HelpTool\"}]},\"id\":\"df1fee68-8ef8-45fb-a488-6cd721cd5069\",\"type\":\"Toolbar\"},{\"attributes\":{\"callback\":null,\"column_names\":[\"right\",\"bottom\",\"top\",\"left\",\"fill_color\"],\"data\":{\"bottom\":[650,350,50,150,250,150,550,250,350,550,450,650,350,450,650],\"fill_color\":[\"#808080\",\"#808080\",\"#c461c4\",\"#61c4c4\",\"#61c4c4\",\"#61c4c4\",\"#c4c461\",\"#808080\",\"#808080\",\"#808080\",\"#808080\",\"#c46161\",\"#808080\",\"#808080\",\"#808080\"],\"left\":[135758231,135766890,135818487,135839805,135964764,135989333,136393658,136494985,136500475,136506375,136535876,136588031,136652491,136652953,136653925],\"right\":[136376515,136275985,136289565,135924467,136101132,136264631,136486342,136773638,136542560,136538939,136554890,136593678,136732772,136761175,136761853],\"top\":[696,393,80,190,291,188,594,290,393,594,494,696,392,494,695]}},\"id\":\"c742b649-fdea-43c3-aa67-01a94d80544e\",\"type\":\"ColumnDataSource\"},{\"attributes\":{},\"id\":\"79c9a15a-58ca-4c40-9551-f8877a63d5eb\",\"type\":\"BasicTicker\"},{\"attributes\":{\"data_source\":{\"id\":\"79c1e606-38e2-47f1-a789-213e426778ab\",\"type\":\"ColumnDataSource\"},\"glyph\":{\"id\":\"60748e79-1f9d-4c4a-bf1d-af2289b8e6c7\",\"type\":\"Quad\"},\"hover_glyph\":null,\"nonselection_glyph\":{\"id\":\"2159c65f-c1ee-48d2-85f4-68fe3596e4c2\",\"type\":\"Quad\"},\"selection_glyph\":null},\"id\":\"2fb56b2d-b6be-40be-9274-c3f76ec3a15e\",\"type\":\"GlyphRenderer\"},{\"attributes\":{\"level\":\"glyph\",\"plot\":{\"id\":\"6b85aab4-0229-41e5-9b14-625b6859b69c\",\"subtype\":\"Figure\",\"type\":\"Plot\"},\"source\":{\"id\":\"6254c1eb-92f3-474d-92b0-81db825bdc8c\",\"type\":\"ColumnDataSource\"},\"text\":{\"field\":\"vals\"},\"text_font_size\":{\"value\":\"9pt\"},\"text_font_style\":\"bold\",\"x\":{\"field\":\"x\"},\"y\":{\"field\":\"y\"}},\"id\":\"c66af208-657d-4f4a-b0fa-ba384523259b\",\"type\":\"LabelSet\"},{\"attributes\":{\"data_source\":{\"id\":\"a0de1423-da81-4648-99fc-dadebe0cf378\",\"type\":\"ColumnDataSource\"},\"glyph\":{\"id\":\"411b3e93-718b-4431-bffa-ad2af08467bd\",\"type\":\"MultiLine\"},\"hover_glyph\":null,\"nonselection_glyph\":{\"id\":\"7edaa0db-3764-403b-b505-a46c59ded413\",\"type\":\"MultiLine\"},\"selection_glyph\":null},\"id\":\"b5c48234-ce23-4196-ba7e-fd26b4433dee\",\"type\":\"GlyphRenderer\"},{\"attributes\":{\"callback\":null,\"column_names\":[\"y\",\"x\",\"vals\"],\"data\":{\"vals\":[\"117_1685\",\"62_1265\",\"8_267\",\"4_815\",\"6_946\",\"6_713\",\"32_1361\",\"81_857\",\"13_1227\",\"4_1442\",\"7_1303\",\"7_1760\",\"6_1114\",\"5_1296\",\"24_1504\"],\"x\":[135758231,135766890,135818487,135839805,135964764,135989333,136393658,136494985,136500475,136506375,136535876,136588031,136652491,136652953,136653925],\"y\":[701.0,398.0,85.0,195.0,296.0,193.0,599.0,295.0,398.0,599.0,499.0,701.0,397.0,499.0,700.0]}},\"id\":\"6254c1eb-92f3-474d-92b0-81db825bdc8c\",\"type\":\"ColumnDataSource\"},{\"attributes\":{},\"id\":\"62eb8295-6cb3-4b78-87c0-199d890e5220\",\"type\":\"ToolEvents\"},{\"attributes\":{\"callback\":null,\"end\":800},\"id\":\"03341077-d304-4027-be1a-e8ff451e78bf\",\"type\":\"Range1d\"},{\"attributes\":{\"dimension\":1,\"plot\":{\"id\":\"6b85aab4-0229-41e5-9b14-625b6859b69c\",\"subtype\":\"Figure\",\"type\":\"Plot\"},\"ticker\":{\"id\":\"ebc038ba-80a2-4e13-a73e-5c31b7cb635c\",\"type\":\"BasicTicker\"}},\"id\":\"97f0ddc7-6e61-445a-8309-b89249a03d8c\",\"type\":\"Grid\"},{\"attributes\":{\"callback\":null,\"column_names\":[\"right\",\"bottom\",\"top\",\"left\"],\"data\":{\"bottom\":[745,745,745,745,745,745,745],\"left\":[135809835,135957574,136289083,136499189,136545415,136597196,136664254],\"right\":[135928279,136288182,136482839,136542633,136594750,136634047,136743222],\"top\":[775,775,775,775,775,775,775]}},\"id\":\"79c1e606-38e2-47f1-a789-213e426778ab\",\"type\":\"ColumnDataSource\"},{\"attributes\":{\"callback\":null,\"column_names\":[\"xs\",\"ys\",\"line_color\"],\"data\":{\"line_color\":[\"black\",\"black\",\"black\",\"black\",\"black\",\"black\",\"black\",\"black\",\"black\",\"black\",\"black\",\"black\",\"black\",\"black\",\"black\",\"black\",\"black\",\"black\",\"black\",\"black\",\"black\",\"black\",\"black\",\"black\",\"black\",\"black\",\"black\",\"black\",\"black\",\"black\",\"black\",\"black\",\"black\",\"black\",\"black\",\"black\",\"black\",\"black\",\"black\",\"black\",\"black\",\"black\",\"black\",\"black\",\"black\",\"black\",\"black\",\"black\",\"black\",\"black\",\"black\",\"black\",\"black\",\"black\",\"black\",\"black\",\"black\",\"black\",\"black\",\"black\",\"black\",\"black\",\"black\",\"black\",\"black\",\"black\",\"black\",\"black\",\"black\",\"black\",\"black\",\"black\",\"black\",\"black\",\"black\",\"black\",\"black\",\"black\",\"black\",\"black\",\"black\",\"black\",\"black\",\"black\",\"black\",\"black\",\"black\",\"black\",\"black\",\"black\",\"black\",\"black\",\"black\",\"black\",\"black\",\"black\",\"black\",\"black\",\"black\",\"black\",\"black\",\"black\",\"black\",\"black\",\"black\",\"black\",\"black\",\"black\",\"black\",\"black\",\"black\",\"black\",\"black\",\"black\",\"black\",\"black\",\"black\",\"black\",\"black\",\"black\",\"black\",\"black\",\"black\",\"black\",\"black\",\"black\",\"black\",\"black\",\"black\",\"black\",\"black\",\"black\",\"black\",\"black\",\"black\",\"black\",\"black\",\"black\",\"black\",\"black\",\"black\",\"black\",\"black\",\"black\",\"black\",\"black\",\"black\",\"black\",\"black\",\"black\",\"black\",\"black\",\"black\",\"black\",\"black\",\"black\",\"black\",\"black\",\"black\",\"black\",\"black\",\"black\",\"black\",\"black\",\"black\",\"black\",\"black\",\"black\",\"black\",\"black\",\"black\",\"black\",\"black\",\"black\",\"black\",\"black\",\"black\",\"black\",\"black\",\"black\",\"black\",\"black\",\"black\",\"black\",\"black\",\"black\",\"black\",\"black\",\"black\",\"black\",\"black\",\"black\",\"black\",\"black\",\"black\",\"black\",\"black\",\"black\",\"black\",\"black\",\"black\",\"black\",\"black\",\"black\",\"black\",\"black\",\"black\",\"black\",\"black\",\"black\",\"black\",\"black\",\"black\",\"black\",\"black\",\"black\",\"black\",\"black\",\"black\",\"black\",\"black\",\"black\",\"black\",\"black\",\"black\",\"black\",\"black\",\"black\",\"black\",\"black\",\"black\",\"black\",\"black\",\"black\",\"black\",\"black\",\"black\",\"black\",\"black\",\"black\",\"black\",\"black\",\"black\",\"black\",\"black\",\"black\",\"black\",\"black\",\"black\",\"black\",\"black\",\"black\",\"black\",\"black\",\"black\",\"black\",\"black\",\"black\",\"black\",\"black\",\"black\",\"black\",\"black\",\"black\",\"black\",\"black\",\"black\",\"black\",\"black\",\"black\",\"black\",\"black\",\"black\",\"black\",\"black\",\"black\",\"black\",\"black\",\"black\",\"black\",\"black\",\"black\",\"black\",\"black\",\"black\",\"black\",\"black\",\"black\",\"black\",\"black\",\"black\",\"black\",\"black\",\"black\",\"black\",\"black\",\"black\",\"black\",\"black\",\"black\",\"black\",\"black\",\"black\",\"black\",\"black\",\"black\",\"black\",\"black\",\"black\",\"black\",\"black\",\"black\",\"black\",\"black\",\"black\",\"black\",\"black\",\"black\",\"black\",\"black\",\"black\",\"black\",\"black\",\"black\",\"black\",\"black\",\"black\",\"black\",\"black\",\"black\",\"black\",\"black\",\"black\",\"black\",\"black\",\"black\",\"black\",\"black\",\"black\",\"black\",\"black\",\"black\",\"black\",\"black\",\"black\",\"black\",\"black\",\"black\",\"black\",\"black\",\"black\",\"black\",\"black\",\"black\",\"black\",\"black\",\"black\",\"black\",\"black\",\"black\",\"black\",\"black\",\"black\",\"black\",\"black\",\"black\",\"black\",\"black\",\"black\",\"black\",\"black\",\"black\",\"black\",\"black\",\"black\",\"black\",\"black\",\"black\",\"black\",\"black\",\"black\",\"black\"],\"xs\":[[135758231,135758231],[135758520,135758520],[135766072,135766072],[135773420,135773420],[135773446,135773446],[135773617,135773617],[135773692,135773692],[135774681,135774681],[135775049,135775049],[135776430,135776430],[135778656,135778656],[135780168,135780168],[135780587,135780587],[135781301,135781301],[135781522,135781522],[135781635,135781635],[135782456,135782456],[135783157,135783157],[135783366,135783366],[135783367,135783367],[135784227,135784227],[135784733,135784733],[135785066,135785066],[135785068,135785068],[135785149,135785149],[135787148,135787148],[135787642,135787642],[135789405,135789405],[135789472,135789472],[135789682,135789682],[135789784,135789784],[135792338,135792338],[135792528,135792528],[135793565,135793565],[135793684,135793684],[135793845,135793845],[135794367,135794367],[135794986,135794986],[135795040,135795040],[135795095,135795095],[135795150,135795150],[135795385,135795385],[135795396,135795396],[135795443,135795443],[135795595,135795595],[135796000,135796000],[135796155,135796155],[135796410,135796410],[135796965,135796965],[135797223,135797223],[135797747,135797747],[135798082,135798082],[135798758,135798758],[135799082,135799082],[135800085,135800085],[135800601,135800601],[135800757,135800757],[135801228,135801228],[135801956,135801956],[135802020,135802020],[135802028,135802028],[135802050,135802050],[135802148,135802148],[135803766,135803766],[135809241,135809241],[135812969,135812969],[135814716,135814716],[135818907,135818907],[135829432,135829432],[135832131,135832131],[135849613,135849613],[135853807,135853807],[135859923,135859923],[135860305,135860305],[135861497,135861497],[135863143,135863143],[135864294,135864294],[135871624,135871624],[135872646,135872646],[135874038,135874038],[135874622,135874622],[135878814,135878814],[135880013,135880013],[135884487,135884487],[135885357,135885357],[135893853,135893853],[135895809,135895809],[135895879,135895879],[135899069,135899069],[135909462,135909462],[135912977,135912977],[135914038,135914038],[135921839,135921839],[135925002,135925002],[135928312,135928312],[135935049,135935049],[135962711,135962711],[135984172,135984172],[135994753,135994753],[135994754,135994754],[136016079,136016079],[136027264,136027264],[136052004,136052004],[136100473,136100473],[136110129,136110129],[136166536,136166536],[136169799,136169799],[136191314,136191314],[136228887,136228887],[136238453,136238453],[136288273,136288273],[136292425,136292425],[136321951,136321951],[136324564,136324564],[136327299,136327299],[136327302,136327302],[136376515,136376515],[135766890,135766890],[135778708,135778708],[135779588,135779588],[135805941,135805941],[135805943,135805943],[135932720,135932720],[135933317,135933317],[135934842,135934842],[135952376,135952376],[135958853,135958853],[135962864,135962864],[135963304,135963304],[135965376,135965376],[135980201,135980201],[135981554,135981554],[135988127,135988127],[135988416,135988416],[135991470,135991470],[136000500,136000500],[136001215,136001215],[136001295,136001295],[136016514,136016514],[136017388,136017388],[136041102,136041102],[136041662,136041662],[136047387,136047387],[136052936,136052936],[136055275,136055275],[136063118,136063118],[136066802,136066802],[136068890,136068890],[136069577,136069577],[136081193,136081193],[136105193,136105193],[136107839,136107839],[136110835,136110835],[136138026,136138026],[136142092,136142092],[136146499,136146499],[136147607,136147607],[136148401,136148401],[136150512,136150512],[136154734,136154734],[136155805,136155805],[136163001,136163001],[136163266,136163266],[136163568,136163568],[136163821,136163821],[136165965,136165965],[136183312,136183312],[136185945,136185945],[136191729,136191729],[136204827,136204827],[136208747,136208747],[136217980,136217980],[136229438,136229438],[136232572,136232572],[136240942,136240942],[136251329,136251329],[136265187,136265187],[136265188,136265188],[136275985,136275985],[135818487,135818487],[136048649,136048649],[136107286,136107286],[136127914,136127914],[136130497,136130497],[136268096,136268096],[136281880,136281880],[136289565,136289565],[135839805,135839805],[135866750,135866750],[135886744,135886744],[135924467,135924467],[135964764,135964764],[135964765,135964765],[136099127,136099127],[136099650,136099650],[136100705,136100705],[136101132,136101132],[135989333,135989333],[136000304,136000304],[136030519,136030519],[136034836,136034836],[136125165,136125165],[136264631,136264631],[136393658,136393658],[136396300,136396300],[136401843,136401843],[136407445,136407445],[136411879,136411879],[136412270,136412270],[136413244,136413244],[136413847,136413847],[136415217,136415217],[136416533,136416533],[136420726,136420726],[136429857,136429857],[136433740,136433740],[136436317,136436317],[136437615,136437615],[136438517,136438517],[136440300,136440300],[136443900,136443900],[136444185,136444185],[136444338,136444338],[136449254,136449254],[136451676,136451676],[136459227,136459227],[136463117,136463117],[136463454,136463454],[136467119,136467119],[136468238,136468238],[136470219,136470219],[136483355,136483355],[136485276,136485276],[136486340,136486340],[136486342,136486342],[136494985,136494985],[136497199,136497199],[136511817,136511817],[136513670,136513670],[136515458,136515458],[136516970,136516970],[136525309,136525309],[136528034,136528034],[136532225,136532225],[136535235,136535235],[136536095,136536095],[136544423,136544423],[136546927,136546927],[136552188,136552188],[136552517,136552517],[136555525,136555525],[136556480,136556480],[136560464,136560464],[136572285,136572285],[136582694,136582694],[136582809,136582809],[136584538,136584538],[136585323,136585323],[136586825,136586825],[136600662,136600662],[136612036,136612036],[136618178,136618178],[136618507,136618507],[136622543,136622543],[136624947,136624947],[136625113,136625113],[136626078,136626078],[136628121,136628121],[136632300,136632300],[136633962,136633962],[136635343,136635343],[136638113,136638113],[136640101,136640101],[136641593,136641593],[136646582,136646582],[136648077,136648077],[136648883,136648883],[136652045,136652045],[136653848,136653848],[136656094,136656094],[136661110,136661110],[136663110,136663110],[136663605,136663605],[136665162,136665162],[136665711,136665711],[136668123,136668123],[136670419,136670419],[136672680,136672680],[136673546,136673546],[136684632,136684632],[136686114,136686114],[136690425,136690425],[136690783,136690783],[136692893,136692893],[136694905,136694905],[136695694,136695694],[136695705,136695705],[136696608,136696608],[136697372,136697372],[136697468,136697468],[136700024,136700024],[136701539,136701539],[136702118,136702118],[136707480,136707480],[136710554,136710554],[136714178,136714178],[136719173,136719173],[136725459,136725459],[136734569,136734569],[136744678,136744678],[136748779,136748779],[136751488,136751488],[136754183,136754183],[136763242,136763242],[136765074,136765074],[136773638,136773638],[136500475,136500475],[136501509,136501509],[136504101,136504101],[136509868,136509868],[136520043,136520043],[136527120,136527120],[136530379,136530379],[136530443,136530443],[136539330,136539330],[136539670,136539670],[136540083,136540083],[136542559,136542559],[136542560,136542560],[136506375,136506375],[136506927,136506927],[136510012,136510012],[136538939,136538939],[136535876,136535876],[136544651,136544651],[136545844,136545844],[136552526,136552526],[136553022,136553022],[136554797,136554797],[136554890,136554890],[136588031,136588031],[136589278,136589278],[136589379,136589379],[136589741,136589741],[136590746,136590746],[136593553,136593553],[136593678,136593678],[136652491,136652491],[136652524,136652524],[136661150,136661150],[136669264,136669264],[136726567,136726567],[136732772,136732772],[136652953,136652953],[136655582,136655582],[136674028,136674028],[136684940,136684940],[136761175,136761175],[136653925,136653925],[136654833,136654833],[136656534,136656534],[136656536,136656536],[136657252,136657252],[136667301,136667301],[136667487,136667487],[136672775,136672775],[136680534,136680534],[136686393,136686393],[136688749,136688749],[136692553,136692553],[136697371,136697371],[136708787,136708787],[136710372,136710372],[136711064,136711064],[136715324,136715324],[136723504,136723504],[136737460,136737460],[136743143,136743143],[136746224,136746224],[136751842,136751842],[136759379,136759379],[136761853,136761853]],\"ys\":[[650,696],[650,696],[650,696],[650,696],[650,696],[650,696],[650,696],[650,696],[650,696],[650,696],[650,696],[650,696],[650,696],[650,696],[650,696],[650,696],[650,696],[650,696],[650,696],[650,696],[650,696],[650,696],[650,696],[650,696],[650,696],[650,696],[650,696],[650,696],[650,696],[650,696],[650,696],[650,696],[650,696],[650,696],[650,696],[650,696],[650,696],[650,696],[650,696],[650,696],[650,696],[650,696],[650,696],[650,696],[650,696],[650,696],[650,696],[650,696],[650,696],[650,696],[650,696],[650,696],[650,696],[650,696],[650,696],[650,696],[650,696],[650,696],[650,696],[650,696],[650,696],[650,696],[650,696],[650,696],[650,696],[650,696],[650,696],[650,696],[650,696],[650,696],[650,696],[650,696],[650,696],[650,696],[650,696],[650,696],[650,696],[650,696],[650,696],[650,696],[650,696],[650,696],[650,696],[650,696],[650,696],[650,696],[650,696],[650,696],[650,696],[650,696],[650,696],[650,696],[650,696],[650,696],[650,696],[650,696],[650,696],[650,696],[650,696],[650,696],[650,696],[650,696],[650,696],[650,696],[650,696],[650,696],[650,696],[650,696],[650,696],[650,696],[650,696],[650,696],[650,696],[650,696],[650,696],[650,696],[650,696],[350,393],[350,393],[350,393],[350,393],[350,393],[350,393],[350,393],[350,393],[350,393],[350,393],[350,393],[350,393],[350,393],[350,393],[350,393],[350,393],[350,393],[350,393],[350,393],[350,393],[350,393],[350,393],[350,393],[350,393],[350,393],[350,393],[350,393],[350,393],[350,393],[350,393],[350,393],[350,393],[350,393],[350,393],[350,393],[350,393],[350,393],[350,393],[350,393],[350,393],[350,393],[350,393],[350,393],[350,393],[350,393],[350,393],[350,393],[350,393],[350,393],[350,393],[350,393],[350,393],[350,393],[350,393],[350,393],[350,393],[350,393],[350,393],[350,393],[350,393],[350,393],[350,393],[50,80],[50,80],[50,80],[50,80],[50,80],[50,80],[50,80],[50,80],[150,190],[150,190],[150,190],[150,190],[250,291],[250,291],[250,291],[250,291],[250,291],[250,291],[150,188],[150,188],[150,188],[150,188],[150,188],[150,188],[550,594],[550,594],[550,594],[550,594],[550,594],[550,594],[550,594],[550,594],[550,594],[550,594],[550,594],[550,594],[550,594],[550,594],[550,594],[550,594],[550,594],[550,594],[550,594],[550,594],[550,594],[550,594],[550,594],[550,594],[550,594],[550,594],[550,594],[550,594],[550,594],[550,594],[550,594],[550,594],[250,290],[250,290],[250,290],[250,290],[250,290],[250,290],[250,290],[250,290],[250,290],[250,290],[250,290],[250,290],[250,290],[250,290],[250,290],[250,290],[250,290],[250,290],[250,290],[250,290],[250,290],[250,290],[250,290],[250,290],[250,290],[250,290],[250,290],[250,290],[250,290],[250,290],[250,290],[250,290],[250,290],[250,290],[250,290],[250,290],[250,290],[250,290],[250,290],[250,290],[250,290],[250,290],[250,290],[250,290],[250,290],[250,290],[250,290],[250,290],[250,290],[250,290],[250,290],[250,290],[250,290],[250,290],[250,290],[250,290],[250,290],[250,290],[250,290],[250,290],[250,290],[250,290],[250,290],[250,290],[250,290],[250,290],[250,290],[250,290],[250,290],[250,290],[250,290],[250,290],[250,290],[250,290],[250,290],[250,290],[250,290],[250,290],[250,290],[250,290],[250,290],[350,393],[350,393],[350,393],[350,393],[350,393],[350,393],[350,393],[350,393],[350,393],[350,393],[350,393],[350,393],[350,393],[550,594],[550,594],[550,594],[550,594],[450,494],[450,494],[450,494],[450,494],[450,494],[450,494],[450,494],[650,696],[650,696],[650,696],[650,696],[650,696],[650,696],[650,696],[350,392],[350,392],[350,392],[350,392],[350,392],[350,392],[450,494],[450,494],[450,494],[450,494],[450,494],[650,695],[650,695],[650,695],[650,695],[650,695],[650,695],[650,695],[650,695],[650,695],[650,695],[650,695],[650,695],[650,695],[650,695],[650,695],[650,695],[650,695],[650,695],[650,695],[650,695],[650,695],[650,695],[650,695],[650,695]]}},\"id\":\"a0de1423-da81-4648-99fc-dadebe0cf378\",\"type\":\"ColumnDataSource\"},{\"attributes\":{\"line_color\":{\"field\":\"line_color\"},\"xs\":{\"field\":\"xs\"},\"ys\":{\"field\":\"ys\"}},\"id\":\"411b3e93-718b-4431-bffa-ad2af08467bd\",\"type\":\"MultiLine\"},{\"attributes\":{\"plot\":{\"id\":\"6b85aab4-0229-41e5-9b14-625b6859b69c\",\"subtype\":\"Figure\",\"type\":\"Plot\"}},\"id\":\"9d0b48b2-b23f-48fc-839c-67156cf7a02c\",\"type\":\"HelpTool\"}],\"root_ids\":[\"6b85aab4-0229-41e5-9b14-625b6859b69c\"]},\"title\":\"Bokeh Application\",\"version\":\"0.12.0\"}};\n",
       "            var render_items = [{\"docid\":\"e8510529-ec00-4e94-bc2d-9cd727c06adc\",\"elementid\":\"5723b115-cf6e-4113-81d7-353bed34685b\",\"modelid\":\"6b85aab4-0229-41e5-9b14-625b6859b69c\",\"notebook_comms_target\":\"e3b7e601-87ca-4837-9635-2ce63346c546\"}];\n",
       "            \n",
       "            Bokeh.embed.embed_items(docs_json, render_items);\n",
       "        });\n",
       "      },\n",
       "      function(Bokeh) {\n",
       "      }\n",
       "    ];\n",
       "  \n",
       "    function run_inline_js() {\n",
       "      for (var i = 0; i < inline_js.length; i++) {\n",
       "        inline_js[i](window.Bokeh);\n",
       "      }\n",
       "    }\n",
       "  \n",
       "    if (window._bokeh_is_loading === 0) {\n",
       "      console.log(\"Bokeh: BokehJS loaded, going straight to plotting\");\n",
       "      run_inline_js();\n",
       "    } else {\n",
       "      load_libs(js_urls, function() {\n",
       "        console.log(\"Bokeh: BokehJS plotting callback run at\", now());\n",
       "        run_inline_js();\n",
       "      });\n",
       "    }\n",
       "  }(this));\n",
       "</script>"
      ]
     },
     "metadata": {},
     "output_type": "display_data"
    },
    {
     "data": {
      "text/html": [
       "<p><code>&lt;Bokeh Notebook handle for <strong>In[44]</strong>&gt;</code></p>"
      ],
      "text/plain": [
       "<bokeh.io._CommsHandle at 0x7f3f0c2a9f50>"
      ]
     },
     "execution_count": 44,
     "metadata": {},
     "output_type": "execute_result"
    }
   ],
   "source": [
    "plt_obj = dm.superset_allele_mask(am_170, [dm.di_8_267, dm.di_81_857], [dm.di_9_39], min_match=0.001)\n",
    "plt = plt_obj.do_plot()\n",
    "show(plt)"
   ]
  },
  {
   "cell_type": "markdown",
   "metadata": {},
   "source": [
    "<div style=\"width:700px\">\n",
    "<p>\n",
    "This plot shows the series association for chromosome samples that do express 170 series 193_843 SNPs,\n",
    "the series 8_267, the series 81_857, but not the series 9_39\n",
    "</div>"
   ]
  },
  {
   "cell_type": "code",
   "execution_count": 45,
   "metadata": {
    "collapsed": false
   },
   "outputs": [
    {
     "data": {
      "text/html": [
       "<table>\n",
       "<thead><tr><th style=\"text-align:center\">index</th><th style=\"text-align:center\">first</th><th style=\"text-align:center\">length</th><th style=\"text-align:center\">snps</th><th style=\"text-align:center\" colspan=2>alleles</th><th style=\"text-align:center\" colspan=2>matches</th><th style=\"text-align:center\" colspan=2>afr</th><th style=\"text-align:center\" colspan=2>afx</th><th style=\"text-align:center\" colspan=2>amr</th><th style=\"text-align:center\" colspan=2>eas</th><th style=\"text-align:center\" colspan=2>eur</th><th style=\"text-align:center\" colspan=2>sas</th><th style=\"text-align:center\" colspan=2>sax</th></tr></thead>\n",
       "<tr class=\"even\"><td style=\"text-align: right;\">354033</td><td style=\"text-align: right;\">136,588,031</td><td style=\"text-align: right;\">5,647</td><td style=\"text-align: right;\">7</td><td style=\"text-align: right;\">1760</td><td style=\"text-align: right;\">0.00</td><td style=\"text-align: right;\">2</td><td style=\"text-align: right;\">1.00</td><td style=\"text-align: right;\">0</td><td style=\"text-align: right;\">0.00</td><td style=\"text-align: right;\">0</td><td style=\"text-align: right;\">0.00</td><td style=\"text-align: right;\">0</td><td style=\"text-align: right;\">0.00</td><td style=\"text-align: right;\">0</td><td style=\"text-align: right;\">0.00</td><td style=\"text-align: right;\">2</td><td style=\"text-align: right;\">4.98</td><td style=\"text-align: right;\">0</td><td style=\"text-align: right;\">0.00</td><td style=\"text-align: right;\">0</td><td style=\"text-align: right;\">0.00</td></tr>\n",
       "<tr><td style=\"text-align: right;\">353244</td><td style=\"text-align: right;\">135,758,231</td><td style=\"text-align: right;\">618,284</td><td style=\"text-align: right;\">117</td><td style=\"text-align: right;\">1685</td><td style=\"text-align: right;\">0.00</td><td style=\"text-align: right;\">2</td><td style=\"text-align: right;\">1.00</td><td style=\"text-align: right;\">0</td><td style=\"text-align: right;\">0.00</td><td style=\"text-align: right;\">0</td><td style=\"text-align: right;\">0.00</td><td style=\"text-align: right;\">0</td><td style=\"text-align: right;\">0.00</td><td style=\"text-align: right;\">0</td><td style=\"text-align: right;\">0.00</td><td style=\"text-align: right;\">2</td><td style=\"text-align: right;\">4.98</td><td style=\"text-align: right;\">0</td><td style=\"text-align: right;\">0.00</td><td style=\"text-align: right;\">0</td><td style=\"text-align: right;\">0.00</td></tr>\n",
       "<tr class=\"even\"><td style=\"text-align: right;\">354130</td><td style=\"text-align: right;\">136,653,925</td><td style=\"text-align: right;\">107,928</td><td style=\"text-align: right;\">24</td><td style=\"text-align: right;\">1504</td><td style=\"text-align: right;\">0.00</td><td style=\"text-align: right;\">2</td><td style=\"text-align: right;\">1.00</td><td style=\"text-align: right;\">0</td><td style=\"text-align: right;\">0.00</td><td style=\"text-align: right;\">0</td><td style=\"text-align: right;\">0.00</td><td style=\"text-align: right;\">0</td><td style=\"text-align: right;\">0.00</td><td style=\"text-align: right;\">0</td><td style=\"text-align: right;\">0.00</td><td style=\"text-align: right;\">2</td><td style=\"text-align: right;\">4.98</td><td style=\"text-align: right;\">0</td><td style=\"text-align: right;\">0.00</td><td style=\"text-align: right;\">0</td><td style=\"text-align: right;\">0.00</td></tr>\n",
       "<tr><td style=\"text-align: right;\">353925</td><td style=\"text-align: right;\">136,506,375</td><td style=\"text-align: right;\">32,564</td><td style=\"text-align: right;\">4</td><td style=\"text-align: right;\">1442</td><td style=\"text-align: right;\">0.00</td><td style=\"text-align: right;\">2</td><td style=\"text-align: right;\">1.00</td><td style=\"text-align: right;\">0</td><td style=\"text-align: right;\">0.00</td><td style=\"text-align: right;\">0</td><td style=\"text-align: right;\">0.00</td><td style=\"text-align: right;\">0</td><td style=\"text-align: right;\">0.00</td><td style=\"text-align: right;\">0</td><td style=\"text-align: right;\">0.00</td><td style=\"text-align: right;\">2</td><td style=\"text-align: right;\">4.98</td><td style=\"text-align: right;\">0</td><td style=\"text-align: right;\">0.00</td><td style=\"text-align: right;\">0</td><td style=\"text-align: right;\">0.00</td></tr>\n",
       "<tr class=\"even\"><td style=\"text-align: right;\">353791</td><td style=\"text-align: right;\">136,393,658</td><td style=\"text-align: right;\">92,684</td><td style=\"text-align: right;\">32</td><td style=\"text-align: right;\">1361</td><td style=\"text-align: right;\">0.00</td><td style=\"text-align: right;\">2</td><td style=\"text-align: right;\">1.00</td><td style=\"text-align: right;\">0</td><td style=\"text-align: right;\">0.00</td><td style=\"text-align: right;\">0</td><td style=\"text-align: right;\">0.00</td><td style=\"text-align: right;\">0</td><td style=\"text-align: right;\">0.00</td><td style=\"text-align: right;\">0</td><td style=\"text-align: right;\">0.00</td><td style=\"text-align: right;\">2</td><td style=\"text-align: right;\">4.98</td><td style=\"text-align: right;\">0</td><td style=\"text-align: right;\">0.00</td><td style=\"text-align: right;\">0</td><td style=\"text-align: right;\">0.00</td></tr>\n",
       "<tr><td style=\"text-align: right;\">353958</td><td style=\"text-align: right;\">136,535,876</td><td style=\"text-align: right;\">19,014</td><td style=\"text-align: right;\">7</td><td style=\"text-align: right;\">1303</td><td style=\"text-align: right;\">0.00</td><td style=\"text-align: right;\">2</td><td style=\"text-align: right;\">1.00</td><td style=\"text-align: right;\">0</td><td style=\"text-align: right;\">0.00</td><td style=\"text-align: right;\">0</td><td style=\"text-align: right;\">0.00</td><td style=\"text-align: right;\">0</td><td style=\"text-align: right;\">0.00</td><td style=\"text-align: right;\">0</td><td style=\"text-align: right;\">0.00</td><td style=\"text-align: right;\">2</td><td style=\"text-align: right;\">4.98</td><td style=\"text-align: right;\">0</td><td style=\"text-align: right;\">0.00</td><td style=\"text-align: right;\">0</td><td style=\"text-align: right;\">0.00</td></tr>\n",
       "<tr class=\"even\"><td style=\"text-align: right;\">354129</td><td style=\"text-align: right;\">136,652,953</td><td style=\"text-align: right;\">108,222</td><td style=\"text-align: right;\">5</td><td style=\"text-align: right;\">1296</td><td style=\"text-align: right;\">0.00</td><td style=\"text-align: right;\">2</td><td style=\"text-align: right;\">1.00</td><td style=\"text-align: right;\">0</td><td style=\"text-align: right;\">0.00</td><td style=\"text-align: right;\">0</td><td style=\"text-align: right;\">0.00</td><td style=\"text-align: right;\">0</td><td style=\"text-align: right;\">0.00</td><td style=\"text-align: right;\">0</td><td style=\"text-align: right;\">0.00</td><td style=\"text-align: right;\">2</td><td style=\"text-align: right;\">4.98</td><td style=\"text-align: right;\">0</td><td style=\"text-align: right;\">0.00</td><td style=\"text-align: right;\">0</td><td style=\"text-align: right;\">0.00</td></tr>\n",
       "<tr><td style=\"text-align: right;\">353269</td><td style=\"text-align: right;\">135,766,890</td><td style=\"text-align: right;\">509,095</td><td style=\"text-align: right;\">62</td><td style=\"text-align: right;\">1265</td><td style=\"text-align: right;\">0.00</td><td style=\"text-align: right;\">2</td><td style=\"text-align: right;\">1.00</td><td style=\"text-align: right;\">0</td><td style=\"text-align: right;\">0.00</td><td style=\"text-align: right;\">0</td><td style=\"text-align: right;\">0.00</td><td style=\"text-align: right;\">0</td><td style=\"text-align: right;\">0.00</td><td style=\"text-align: right;\">0</td><td style=\"text-align: right;\">0.00</td><td style=\"text-align: right;\">2</td><td style=\"text-align: right;\">4.98</td><td style=\"text-align: right;\">0</td><td style=\"text-align: right;\">0.00</td><td style=\"text-align: right;\">0</td><td style=\"text-align: right;\">0.00</td></tr>\n",
       "<tr class=\"even\"><td style=\"text-align: right;\">353919</td><td style=\"text-align: right;\">136,500,475</td><td style=\"text-align: right;\">42,085</td><td style=\"text-align: right;\">13</td><td style=\"text-align: right;\">1227</td><td style=\"text-align: right;\">0.00</td><td style=\"text-align: right;\">2</td><td style=\"text-align: right;\">1.00</td><td style=\"text-align: right;\">0</td><td style=\"text-align: right;\">0.00</td><td style=\"text-align: right;\">0</td><td style=\"text-align: right;\">0.00</td><td style=\"text-align: right;\">0</td><td style=\"text-align: right;\">0.00</td><td style=\"text-align: right;\">0</td><td style=\"text-align: right;\">0.00</td><td style=\"text-align: right;\">2</td><td style=\"text-align: right;\">4.98</td><td style=\"text-align: right;\">0</td><td style=\"text-align: right;\">0.00</td><td style=\"text-align: right;\">0</td><td style=\"text-align: right;\">0.00</td></tr>\n",
       "<tr><td style=\"text-align: right;\">354127</td><td style=\"text-align: right;\">136,652,491</td><td style=\"text-align: right;\">80,281</td><td style=\"text-align: right;\">6</td><td style=\"text-align: right;\">1114</td><td style=\"text-align: right;\">0.00</td><td style=\"text-align: right;\">2</td><td style=\"text-align: right;\">1.00</td><td style=\"text-align: right;\">0</td><td style=\"text-align: right;\">0.00</td><td style=\"text-align: right;\">0</td><td style=\"text-align: right;\">0.00</td><td style=\"text-align: right;\">0</td><td style=\"text-align: right;\">0.00</td><td style=\"text-align: right;\">0</td><td style=\"text-align: right;\">0.00</td><td style=\"text-align: right;\">2</td><td style=\"text-align: right;\">4.98</td><td style=\"text-align: right;\">0</td><td style=\"text-align: right;\">0.00</td><td style=\"text-align: right;\">0</td><td style=\"text-align: right;\">0.00</td></tr>\n",
       "<tr class=\"even\"><td style=\"text-align: right;\">353504</td><td style=\"text-align: right;\">135,964,764</td><td style=\"text-align: right;\">136,368</td><td style=\"text-align: right;\">6</td><td style=\"text-align: right;\">946</td><td style=\"text-align: right;\">0.00</td><td style=\"text-align: right;\">2</td><td style=\"text-align: right;\">1.00</td><td style=\"text-align: right;\">0</td><td style=\"text-align: right;\">0.00</td><td style=\"text-align: right;\">0</td><td style=\"text-align: right;\">0.00</td><td style=\"text-align: right;\">0</td><td style=\"text-align: right;\">0.00</td><td style=\"text-align: right;\">0</td><td style=\"text-align: right;\">0.00</td><td style=\"text-align: right;\">2</td><td style=\"text-align: right;\">4.98</td><td style=\"text-align: right;\">0</td><td style=\"text-align: right;\">0.00</td><td style=\"text-align: right;\">0</td><td style=\"text-align: right;\">0.00</td></tr>\n",
       "<tr><td style=\"text-align: right;\">353902</td><td style=\"text-align: right;\">136,494,985</td><td style=\"text-align: right;\">278,653</td><td style=\"text-align: right;\">81</td><td style=\"text-align: right;\">857</td><td style=\"text-align: right;\">0.00</td><td style=\"text-align: right;\">2</td><td style=\"text-align: right;\">1.00</td><td style=\"text-align: right;\">0</td><td style=\"text-align: right;\">0.00</td><td style=\"text-align: right;\">0</td><td style=\"text-align: right;\">0.00</td><td style=\"text-align: right;\">0</td><td style=\"text-align: right;\">0.00</td><td style=\"text-align: right;\">0</td><td style=\"text-align: right;\">0.00</td><td style=\"text-align: right;\">2</td><td style=\"text-align: right;\">4.98</td><td style=\"text-align: right;\">0</td><td style=\"text-align: right;\">0.00</td><td style=\"text-align: right;\">0</td><td style=\"text-align: right;\">0.00</td></tr>\n",
       "<tr class=\"even\"><td style=\"text-align: right;\">353384</td><td style=\"text-align: right;\">135,839,805</td><td style=\"text-align: right;\">84,662</td><td style=\"text-align: right;\">4</td><td style=\"text-align: right;\">815</td><td style=\"text-align: right;\">0.00</td><td style=\"text-align: right;\">2</td><td style=\"text-align: right;\">1.00</td><td style=\"text-align: right;\">0</td><td style=\"text-align: right;\">0.00</td><td style=\"text-align: right;\">0</td><td style=\"text-align: right;\">0.00</td><td style=\"text-align: right;\">0</td><td style=\"text-align: right;\">0.00</td><td style=\"text-align: right;\">0</td><td style=\"text-align: right;\">0.00</td><td style=\"text-align: right;\">2</td><td style=\"text-align: right;\">4.98</td><td style=\"text-align: right;\">0</td><td style=\"text-align: right;\">0.00</td><td style=\"text-align: right;\">0</td><td style=\"text-align: right;\">0.00</td></tr>\n",
       "<tr><td style=\"text-align: right;\">353521</td><td style=\"text-align: right;\">135,989,333</td><td style=\"text-align: right;\">275,298</td><td style=\"text-align: right;\">6</td><td style=\"text-align: right;\">713</td><td style=\"text-align: right;\">0.00</td><td style=\"text-align: right;\">2</td><td style=\"text-align: right;\">1.00</td><td style=\"text-align: right;\">0</td><td style=\"text-align: right;\">0.00</td><td style=\"text-align: right;\">0</td><td style=\"text-align: right;\">0.00</td><td style=\"text-align: right;\">0</td><td style=\"text-align: right;\">0.00</td><td style=\"text-align: right;\">0</td><td style=\"text-align: right;\">0.00</td><td style=\"text-align: right;\">2</td><td style=\"text-align: right;\">4.98</td><td style=\"text-align: right;\">0</td><td style=\"text-align: right;\">0.00</td><td style=\"text-align: right;\">0</td><td style=\"text-align: right;\">0.00</td></tr>\n",
       "<tr class=\"even\"><td style=\"text-align: right;\">353358</td><td style=\"text-align: right;\">135,818,487</td><td style=\"text-align: right;\">471,078</td><td style=\"text-align: right;\">8</td><td style=\"text-align: right;\">267</td><td style=\"text-align: right;\">0.01</td><td style=\"text-align: right;\">2</td><td style=\"text-align: right;\">1.00</td><td style=\"text-align: right;\">0</td><td style=\"text-align: right;\">0.00</td><td style=\"text-align: right;\">0</td><td style=\"text-align: right;\">0.00</td><td style=\"text-align: right;\">0</td><td style=\"text-align: right;\">0.00</td><td style=\"text-align: right;\">0</td><td style=\"text-align: right;\">0.00</td><td style=\"text-align: right;\">2</td><td style=\"text-align: right;\">4.98</td><td style=\"text-align: right;\">0</td><td style=\"text-align: right;\">0.00</td><td style=\"text-align: right;\">0</td><td style=\"text-align: right;\">0.00</td></tr>\n",
       "</table>"
      ],
      "text/plain": [
       "<IPython.core.display.HTML object>"
      ]
     },
     "execution_count": 45,
     "metadata": {},
     "output_type": "execute_result"
    }
   ],
   "source": [
    "HTML(plt_obj.get_html())"
   ]
  },
  {
   "cell_type": "markdown",
   "metadata": {},
   "source": [
    "<div style=\"width:700px\">\n",
    "<p>\n",
    "This data shows that this plot accounts for 2 of the chromsome samples that express 170 series\n",
    "193_843 SNPs but do not express series 9_39.\n",
    "</div>"
   ]
  },
  {
   "cell_type": "code",
   "execution_count": 46,
   "metadata": {
    "collapsed": false
   },
   "outputs": [
    {
     "data": {
      "text/html": [
       "\n",
       "\n",
       "    <div class=\"bk-root\">\n",
       "        <div class=\"plotdiv\" id=\"878d6420-206a-48f5-8b9f-236e0d237849\"></div>\n",
       "    </div>\n",
       "<script type=\"text/javascript\">\n",
       "  \n",
       "  (function(global) {\n",
       "    function now() {\n",
       "      return new Date();\n",
       "    }\n",
       "  \n",
       "    if (typeof (window._bokeh_onload_callbacks) === \"undefined\") {\n",
       "      window._bokeh_onload_callbacks = [];\n",
       "    }\n",
       "  \n",
       "    function run_callbacks() {\n",
       "      window._bokeh_onload_callbacks.forEach(function(callback) { callback() });\n",
       "      delete window._bokeh_onload_callbacks\n",
       "      console.info(\"Bokeh: all callbacks have finished\");\n",
       "    }\n",
       "  \n",
       "    function load_libs(js_urls, callback) {\n",
       "      window._bokeh_onload_callbacks.push(callback);\n",
       "      if (window._bokeh_is_loading > 0) {\n",
       "        console.log(\"Bokeh: BokehJS is being loaded, scheduling callback at\", now());\n",
       "        return null;\n",
       "      }\n",
       "      if (js_urls == null || js_urls.length === 0) {\n",
       "        run_callbacks();\n",
       "        return null;\n",
       "      }\n",
       "      console.log(\"Bokeh: BokehJS not loaded, scheduling load and callback at\", now());\n",
       "      window._bokeh_is_loading = js_urls.length;\n",
       "      for (var i = 0; i < js_urls.length; i++) {\n",
       "        var url = js_urls[i];\n",
       "        var s = document.createElement('script');\n",
       "        s.src = url;\n",
       "        s.async = false;\n",
       "        s.onreadystatechange = s.onload = function() {\n",
       "          window._bokeh_is_loading--;\n",
       "          if (window._bokeh_is_loading === 0) {\n",
       "            console.log(\"Bokeh: all BokehJS libraries loaded\");\n",
       "            run_callbacks()\n",
       "          }\n",
       "        };\n",
       "        s.onerror = function() {\n",
       "          console.warn(\"failed to load library \" + url);\n",
       "        };\n",
       "        console.log(\"Bokeh: injecting script tag for BokehJS library: \", url);\n",
       "        document.getElementsByTagName(\"head\")[0].appendChild(s);\n",
       "      }\n",
       "    };var element = document.getElementById(\"878d6420-206a-48f5-8b9f-236e0d237849\");\n",
       "    if (element == null) {\n",
       "      console.log(\"Bokeh: ERROR: autoload.js configured with elementid '878d6420-206a-48f5-8b9f-236e0d237849' but no matching script tag was found. \")\n",
       "      return false;\n",
       "    }\n",
       "  \n",
       "    var js_urls = [];\n",
       "  \n",
       "    var inline_js = [\n",
       "      function(Bokeh) {\n",
       "        Bokeh.$(function() {\n",
       "            var docs_json = {\"a4398a8a-f5dc-4f0f-b263-1ba5b4ea54f0\":{\"roots\":{\"references\":[{\"attributes\":{\"bottom\":{\"field\":\"bottom\"},\"fill_color\":{\"value\":\"white\"},\"left\":{\"field\":\"left\"},\"right\":{\"field\":\"right\"},\"top\":{\"field\":\"top\"}},\"id\":\"006b2be1-9785-4ac7-9d4a-2ca54b59733e\",\"type\":\"Quad\"},{\"attributes\":{\"bottom\":{\"field\":\"bottom\"},\"fill_alpha\":{\"value\":0.1},\"fill_color\":{\"value\":\"#1f77b4\"},\"left\":{\"field\":\"left\"},\"line_alpha\":{\"value\":0.1},\"line_color\":{\"value\":\"#1f77b4\"},\"right\":{\"field\":\"right\"},\"top\":{\"field\":\"top\"}},\"id\":\"d049d0aa-19d6-4e44-ac5c-e7138ed5c4ae\",\"type\":\"Quad\"},{\"attributes\":{\"line_color\":{\"field\":\"line_color\"},\"xs\":{\"field\":\"xs\"},\"ys\":{\"field\":\"ys\"}},\"id\":\"176912cd-c8ff-4a35-82db-45aeed719766\",\"type\":\"MultiLine\"},{\"attributes\":{},\"id\":\"8251a52a-3c8b-4c5e-8078-e1a220b3c6cc\",\"type\":\"BasicTickFormatter\"},{\"attributes\":{\"plot\":{\"id\":\"f98e040a-2bce-448a-9026-da6255764532\",\"subtype\":\"Figure\",\"type\":\"Plot\"},\"ticker\":{\"id\":\"481ca48b-9231-4c48-9033-49a53e5a03b7\",\"type\":\"BasicTicker\"}},\"id\":\"185fd202-e432-4b6a-b087-43b98722ad1d\",\"type\":\"Grid\"},{\"attributes\":{\"plot\":{\"id\":\"f98e040a-2bce-448a-9026-da6255764532\",\"subtype\":\"Figure\",\"type\":\"Plot\"}},\"id\":\"95dd54b0-9b5b-41e5-8020-17705ea08ee5\",\"type\":\"ResetTool\"},{\"attributes\":{\"callback\":null,\"end\":136786630,\"start\":135757320},\"id\":\"6a2851fe-7389-4c6d-9eb9-7a62ef0ac226\",\"type\":\"Range1d\"},{\"attributes\":{},\"id\":\"cbd48811-e157-4c90-9a8c-c8bcb6587baf\",\"type\":\"BasicTicker\"},{\"attributes\":{\"active_drag\":\"auto\",\"active_scroll\":\"auto\",\"active_tap\":\"auto\",\"tools\":[{\"id\":\"195dc0b8-eb2a-435e-ac79-bd9fae00d7f1\",\"type\":\"PanTool\"},{\"id\":\"977aa7c5-3e5a-49b5-88b2-d69f2e54de34\",\"type\":\"WheelZoomTool\"},{\"id\":\"b665f18e-3304-48ef-af84-ef279ecceda0\",\"type\":\"BoxZoomTool\"},{\"id\":\"3c5a7f13-63b6-46cd-9ea3-ef0f2ac85ce0\",\"type\":\"SaveTool\"},{\"id\":\"95dd54b0-9b5b-41e5-8020-17705ea08ee5\",\"type\":\"ResetTool\"},{\"id\":\"31e97deb-9f5b-45bd-8c38-fa329b8b66eb\",\"type\":\"HelpTool\"}]},\"id\":\"a6b057f1-a37d-463c-8328-141ab4596fad\",\"type\":\"Toolbar\"},{\"attributes\":{\"plot\":{\"id\":\"f98e040a-2bce-448a-9026-da6255764532\",\"subtype\":\"Figure\",\"type\":\"Plot\"}},\"id\":\"3c5a7f13-63b6-46cd-9ea3-ef0f2ac85ce0\",\"type\":\"SaveTool\"},{\"attributes\":{\"line_alpha\":{\"value\":0.1},\"line_color\":{\"value\":\"#1f77b4\"},\"xs\":{\"field\":\"xs\"},\"ys\":{\"field\":\"ys\"}},\"id\":\"61cbacca-7b92-411f-92b4-68d34bdfbde6\",\"type\":\"MultiLine\"},{\"attributes\":{\"callback\":null,\"column_names\":[\"right\",\"bottom\",\"top\",\"left\",\"fill_color\"],\"data\":{\"bottom\":[550,450,50,150,250,150,550,450,350,250,150,350],\"fill_color\":[\"#808080\",\"#808080\",\"#c461c4\",\"#61c4c4\",\"#61c4c4\",\"#61c4c4\",\"#c4c461\",\"#808080\",\"#61c4c4\",\"#808080\",\"#61c4c4\",\"#808080\"],\"left\":[135758231,135766890,135818487,135839805,135964764,135989333,136393658,136496493,136496805,136511874,136514709,136556805],\"right\":[136376515,136275985,136289565,135924467,136101132,136264631,136486342,136553925,136552629,136533195,136543147,136747085],\"top\":[596,493,80,190,291,188,594,493,391,291,190,391]}},\"id\":\"ff045e0b-eefa-4a15-b626-fcdfd66ea37e\",\"type\":\"ColumnDataSource\"},{\"attributes\":{\"bottom\":{\"field\":\"bottom\"},\"fill_color\":{\"field\":\"fill_color\"},\"left\":{\"field\":\"left\"},\"line_color\":{\"value\":null},\"right\":{\"field\":\"right\"},\"top\":{\"field\":\"top\"}},\"id\":\"ef26e5fc-07c4-4707-a56d-ce3e8a2e292a\",\"type\":\"Quad\"},{\"attributes\":{},\"id\":\"3e3fb5ec-82ec-4fff-b90b-0e6f091524b6\",\"type\":\"ToolEvents\"},{\"attributes\":{\"callback\":null,\"end\":700},\"id\":\"4fe1f327-4369-433c-80aa-0d86aae1c37a\",\"type\":\"Range1d\"},{\"attributes\":{\"bottom_units\":\"screen\",\"fill_alpha\":{\"value\":0.5},\"fill_color\":{\"value\":\"lightgrey\"},\"left_units\":\"screen\",\"level\":\"overlay\",\"line_alpha\":{\"value\":1.0},\"line_color\":{\"value\":\"black\"},\"line_dash\":[4,4],\"line_width\":{\"value\":2},\"plot\":null,\"render_mode\":\"css\",\"right_units\":\"screen\",\"top_units\":\"screen\"},\"id\":\"891219c0-2ecd-43ec-bdd9-abffc80f0430\",\"type\":\"BoxAnnotation\"},{\"attributes\":{\"bottom\":{\"field\":\"bottom\"},\"fill_alpha\":{\"value\":0.1},\"fill_color\":{\"value\":\"#1f77b4\"},\"left\":{\"field\":\"left\"},\"line_alpha\":{\"value\":0.1},\"line_color\":{\"value\":\"#1f77b4\"},\"right\":{\"field\":\"right\"},\"top\":{\"field\":\"top\"}},\"id\":\"825a9e22-21a3-40dd-9b64-99a39b31d1e9\",\"type\":\"Quad\"},{\"attributes\":{\"plot\":{\"id\":\"f98e040a-2bce-448a-9026-da6255764532\",\"subtype\":\"Figure\",\"type\":\"Plot\"}},\"id\":\"977aa7c5-3e5a-49b5-88b2-d69f2e54de34\",\"type\":\"WheelZoomTool\"},{\"attributes\":{\"callback\":null,\"column_names\":[\"y\",\"x\",\"vals\"],\"data\":{\"vals\":[\"117_1685\",\"62_1265\",\"8_267\",\"4_815\",\"6_946\",\"6_713\",\"32_1361\",\"9_1170\",\"9_1023\",\"5_976\",\"6_820\",\"39_1014\"],\"x\":[135758231,135766890,135818487,135839805,135964764,135989333,136393658,136496493,136496805,136511874,136514709,136556805],\"y\":[601.0,498.0,85.0,195.0,296.0,193.0,599.0,498.0,396.0,296.0,195.0,396.0]}},\"id\":\"34d3c980-816d-46aa-9fe0-7c56c3a58c78\",\"type\":\"ColumnDataSource\"},{\"attributes\":{\"level\":\"glyph\",\"plot\":{\"id\":\"f98e040a-2bce-448a-9026-da6255764532\",\"subtype\":\"Figure\",\"type\":\"Plot\"},\"source\":{\"id\":\"d6417472-7d63-4a10-ba8a-ffd6dd2c86d8\",\"type\":\"ColumnDataSource\"},\"text\":{\"field\":\"vals\"},\"text_align\":\"center\",\"text_baseline\":\"middle\",\"text_font_size\":{\"value\":\"8pt\"},\"x\":{\"field\":\"x\"},\"y\":{\"field\":\"y\"}},\"id\":\"13f64f88-ff3d-4aed-b89f-ff94acd94dfb\",\"type\":\"LabelSet\"},{\"attributes\":{\"plot\":{\"id\":\"f98e040a-2bce-448a-9026-da6255764532\",\"subtype\":\"Figure\",\"type\":\"Plot\"}},\"id\":\"195dc0b8-eb2a-435e-ac79-bd9fae00d7f1\",\"type\":\"PanTool\"},{\"attributes\":{\"plot\":null,\"text\":null},\"id\":\"cffb9aa2-53f7-4e3b-bf56-708af47c4e55\",\"type\":\"Title\"},{\"attributes\":{\"data_source\":{\"id\":\"6c99b7ab-64f2-4712-99e1-ef6e347b67c3\",\"type\":\"ColumnDataSource\"},\"glyph\":{\"id\":\"006b2be1-9785-4ac7-9d4a-2ca54b59733e\",\"type\":\"Quad\"},\"hover_glyph\":null,\"nonselection_glyph\":{\"id\":\"825a9e22-21a3-40dd-9b64-99a39b31d1e9\",\"type\":\"Quad\"},\"selection_glyph\":null},\"id\":\"86540902-0667-4726-88a8-42f33ed380f1\",\"type\":\"GlyphRenderer\"},{\"attributes\":{\"formatter\":{\"id\":\"a8c21ff1-92d0-481c-b4fd-b5cac14e53c2\",\"type\":\"BasicTickFormatter\"},\"plot\":{\"id\":\"f98e040a-2bce-448a-9026-da6255764532\",\"subtype\":\"Figure\",\"type\":\"Plot\"},\"ticker\":{\"id\":\"481ca48b-9231-4c48-9033-49a53e5a03b7\",\"type\":\"BasicTicker\"}},\"id\":\"2f66c53e-ad76-441f-b51b-18034454e53c\",\"type\":\"LinearAxis\"},{\"attributes\":{\"data_source\":{\"id\":\"e352d0c5-1da5-4c7d-b74a-45a33ca013ce\",\"type\":\"ColumnDataSource\"},\"glyph\":{\"id\":\"176912cd-c8ff-4a35-82db-45aeed719766\",\"type\":\"MultiLine\"},\"hover_glyph\":null,\"nonselection_glyph\":{\"id\":\"61cbacca-7b92-411f-92b4-68d34bdfbde6\",\"type\":\"MultiLine\"},\"selection_glyph\":null},\"id\":\"eea1f9cf-3800-4ee5-b851-426618301b04\",\"type\":\"GlyphRenderer\"},{\"attributes\":{\"callback\":null,\"column_names\":[\"right\",\"bottom\",\"top\",\"left\"],\"data\":{\"bottom\":[645,645,645,645,645,645,645],\"left\":[135809835,135957574,136289083,136499189,136545415,136597196,136664254],\"right\":[135928279,136288182,136482839,136542633,136594750,136634047,136743222],\"top\":[675,675,675,675,675,675,675]}},\"id\":\"6c99b7ab-64f2-4712-99e1-ef6e347b67c3\",\"type\":\"ColumnDataSource\"},{\"attributes\":{\"level\":\"glyph\",\"plot\":{\"id\":\"f98e040a-2bce-448a-9026-da6255764532\",\"subtype\":\"Figure\",\"type\":\"Plot\"},\"source\":{\"id\":\"34d3c980-816d-46aa-9fe0-7c56c3a58c78\",\"type\":\"ColumnDataSource\"},\"text\":{\"field\":\"vals\"},\"text_font_size\":{\"value\":\"9pt\"},\"text_font_style\":\"bold\",\"x\":{\"field\":\"x\"},\"y\":{\"field\":\"y\"}},\"id\":\"1807bcb4-b2a6-4e77-939c-5597aa8082a6\",\"type\":\"LabelSet\"},{\"attributes\":{\"below\":[{\"id\":\"2f66c53e-ad76-441f-b51b-18034454e53c\",\"type\":\"LinearAxis\"}],\"left\":[{\"id\":\"356b8c0f-5699-4a9b-bb78-1043a172dbd0\",\"type\":\"LinearAxis\"}],\"plot_height\":700,\"plot_width\":900,\"renderers\":[{\"id\":\"2f66c53e-ad76-441f-b51b-18034454e53c\",\"type\":\"LinearAxis\"},{\"id\":\"185fd202-e432-4b6a-b087-43b98722ad1d\",\"type\":\"Grid\"},{\"id\":\"356b8c0f-5699-4a9b-bb78-1043a172dbd0\",\"type\":\"LinearAxis\"},{\"id\":\"9070d593-312a-401a-9f79-53e20cb095d5\",\"type\":\"Grid\"},{\"id\":\"891219c0-2ecd-43ec-bdd9-abffc80f0430\",\"type\":\"BoxAnnotation\"},{\"id\":\"edc75fb7-5d93-4408-b836-8fd940285161\",\"type\":\"GlyphRenderer\"},{\"id\":\"eea1f9cf-3800-4ee5-b851-426618301b04\",\"type\":\"GlyphRenderer\"},{\"id\":\"1807bcb4-b2a6-4e77-939c-5597aa8082a6\",\"type\":\"LabelSet\"},{\"id\":\"86540902-0667-4726-88a8-42f33ed380f1\",\"type\":\"GlyphRenderer\"},{\"id\":\"13f64f88-ff3d-4aed-b89f-ff94acd94dfb\",\"type\":\"LabelSet\"}],\"title\":{\"id\":\"cffb9aa2-53f7-4e3b-bf56-708af47c4e55\",\"type\":\"Title\"},\"tool_events\":{\"id\":\"3e3fb5ec-82ec-4fff-b90b-0e6f091524b6\",\"type\":\"ToolEvents\"},\"toolbar\":{\"id\":\"a6b057f1-a37d-463c-8328-141ab4596fad\",\"type\":\"Toolbar\"},\"toolbar_location\":null,\"x_range\":{\"id\":\"6a2851fe-7389-4c6d-9eb9-7a62ef0ac226\",\"type\":\"Range1d\"},\"y_range\":{\"id\":\"4fe1f327-4369-433c-80aa-0d86aae1c37a\",\"type\":\"Range1d\"}},\"id\":\"f98e040a-2bce-448a-9026-da6255764532\",\"subtype\":\"Figure\",\"type\":\"Plot\"},{\"attributes\":{\"callback\":null,\"column_names\":[\"y\",\"x\",\"vals\"],\"data\":{\"vals\":[\"RAB3GAP1\",\"ZRANB3\",\"R3HDM1\",\"UBXN4\",\"LCT\",\"MCM6\",\"DARS\"],\"x\":[135869057.0,136122878.0,136385961.0,136520911.0,136570082.5,136615621.5,136703738.0],\"y\":[660.0,660.0,660.0,660.0,660.0,660.0,660.0]}},\"id\":\"d6417472-7d63-4a10-ba8a-ffd6dd2c86d8\",\"type\":\"ColumnDataSource\"},{\"attributes\":{\"data_source\":{\"id\":\"ff045e0b-eefa-4a15-b626-fcdfd66ea37e\",\"type\":\"ColumnDataSource\"},\"glyph\":{\"id\":\"ef26e5fc-07c4-4707-a56d-ce3e8a2e292a\",\"type\":\"Quad\"},\"hover_glyph\":null,\"nonselection_glyph\":{\"id\":\"d049d0aa-19d6-4e44-ac5c-e7138ed5c4ae\",\"type\":\"Quad\"},\"selection_glyph\":null},\"id\":\"edc75fb7-5d93-4408-b836-8fd940285161\",\"type\":\"GlyphRenderer\"},{\"attributes\":{\"plot\":{\"id\":\"f98e040a-2bce-448a-9026-da6255764532\",\"subtype\":\"Figure\",\"type\":\"Plot\"}},\"id\":\"31e97deb-9f5b-45bd-8c38-fa329b8b66eb\",\"type\":\"HelpTool\"},{\"attributes\":{\"dimension\":1,\"plot\":{\"id\":\"f98e040a-2bce-448a-9026-da6255764532\",\"subtype\":\"Figure\",\"type\":\"Plot\"},\"ticker\":{\"id\":\"cbd48811-e157-4c90-9a8c-c8bcb6587baf\",\"type\":\"BasicTicker\"}},\"id\":\"9070d593-312a-401a-9f79-53e20cb095d5\",\"type\":\"Grid\"},{\"attributes\":{\"callback\":null,\"column_names\":[\"xs\",\"ys\",\"line_color\"],\"data\":{\"line_color\":[\"black\",\"black\",\"black\",\"black\",\"black\",\"black\",\"black\",\"black\",\"black\",\"black\",\"black\",\"black\",\"black\",\"black\",\"black\",\"black\",\"black\",\"black\",\"black\",\"black\",\"black\",\"black\",\"black\",\"black\",\"black\",\"black\",\"black\",\"black\",\"black\",\"black\",\"black\",\"black\",\"black\",\"black\",\"black\",\"black\",\"black\",\"black\",\"black\",\"black\",\"black\",\"black\",\"black\",\"black\",\"black\",\"black\",\"black\",\"black\",\"black\",\"black\",\"black\",\"black\",\"black\",\"black\",\"black\",\"black\",\"black\",\"black\",\"black\",\"black\",\"black\",\"black\",\"black\",\"black\",\"black\",\"black\",\"black\",\"black\",\"black\",\"black\",\"black\",\"black\",\"black\",\"black\",\"black\",\"black\",\"black\",\"black\",\"black\",\"black\",\"black\",\"black\",\"black\",\"black\",\"black\",\"black\",\"black\",\"black\",\"black\",\"black\",\"black\",\"black\",\"black\",\"black\",\"black\",\"black\",\"black\",\"black\",\"black\",\"black\",\"black\",\"black\",\"black\",\"black\",\"black\",\"black\",\"black\",\"black\",\"black\",\"black\",\"black\",\"black\",\"black\",\"black\",\"black\",\"black\",\"black\",\"black\",\"black\",\"black\",\"black\",\"black\",\"black\",\"black\",\"black\",\"black\",\"black\",\"black\",\"black\",\"black\",\"black\",\"black\",\"black\",\"black\",\"black\",\"black\",\"black\",\"black\",\"black\",\"black\",\"black\",\"black\",\"black\",\"black\",\"black\",\"black\",\"black\",\"black\",\"black\",\"black\",\"black\",\"black\",\"black\",\"black\",\"black\",\"black\",\"black\",\"black\",\"black\",\"black\",\"black\",\"black\",\"black\",\"black\",\"black\",\"black\",\"black\",\"black\",\"black\",\"black\",\"black\",\"black\",\"black\",\"black\",\"black\",\"black\",\"black\",\"black\",\"black\",\"black\",\"black\",\"black\",\"black\",\"black\",\"black\",\"black\",\"black\",\"black\",\"black\",\"black\",\"black\",\"black\",\"black\",\"black\",\"black\",\"black\",\"black\",\"black\",\"black\",\"black\",\"black\",\"black\",\"black\",\"black\",\"black\",\"black\",\"black\",\"black\",\"black\",\"black\",\"black\",\"black\",\"black\",\"black\",\"black\",\"black\",\"black\",\"black\",\"black\",\"black\",\"black\",\"black\",\"black\",\"black\",\"black\",\"black\",\"black\",\"black\",\"black\",\"black\",\"black\",\"black\",\"black\",\"black\",\"black\",\"black\",\"black\",\"black\",\"black\",\"black\",\"black\",\"black\",\"black\",\"black\",\"black\",\"black\",\"black\",\"black\",\"black\",\"black\",\"black\",\"black\",\"black\",\"black\",\"black\",\"black\",\"black\",\"black\",\"black\",\"black\",\"black\",\"black\",\"black\",\"black\",\"black\",\"black\",\"black\",\"black\",\"black\",\"black\",\"black\",\"black\",\"black\",\"black\",\"black\",\"black\",\"black\",\"black\",\"black\",\"black\",\"black\",\"black\",\"black\",\"black\",\"black\",\"black\",\"black\",\"black\",\"black\",\"black\",\"black\",\"black\",\"black\",\"black\",\"black\",\"black\",\"black\",\"black\",\"black\",\"black\",\"black\",\"black\",\"black\"],\"xs\":[[135758231,135758231],[135758520,135758520],[135766072,135766072],[135773420,135773420],[135773446,135773446],[135773617,135773617],[135773692,135773692],[135774681,135774681],[135775049,135775049],[135776430,135776430],[135778656,135778656],[135780168,135780168],[135780587,135780587],[135781301,135781301],[135781522,135781522],[135781635,135781635],[135782456,135782456],[135783157,135783157],[135783366,135783366],[135783367,135783367],[135784227,135784227],[135784733,135784733],[135785066,135785066],[135785068,135785068],[135785149,135785149],[135787148,135787148],[135787642,135787642],[135789405,135789405],[135789472,135789472],[135789682,135789682],[135789784,135789784],[135792338,135792338],[135792528,135792528],[135793565,135793565],[135793684,135793684],[135793845,135793845],[135794367,135794367],[135794986,135794986],[135795040,135795040],[135795095,135795095],[135795150,135795150],[135795385,135795385],[135795396,135795396],[135795443,135795443],[135795595,135795595],[135796000,135796000],[135796155,135796155],[135796410,135796410],[135796965,135796965],[135797223,135797223],[135797747,135797747],[135798082,135798082],[135798758,135798758],[135799082,135799082],[135800085,135800085],[135800601,135800601],[135800757,135800757],[135801228,135801228],[135801956,135801956],[135802020,135802020],[135802028,135802028],[135802050,135802050],[135802148,135802148],[135803766,135803766],[135809241,135809241],[135812969,135812969],[135814716,135814716],[135818907,135818907],[135829432,135829432],[135832131,135832131],[135849613,135849613],[135853807,135853807],[135859923,135859923],[135860305,135860305],[135861497,135861497],[135863143,135863143],[135864294,135864294],[135871624,135871624],[135872646,135872646],[135874038,135874038],[135874622,135874622],[135878814,135878814],[135880013,135880013],[135884487,135884487],[135885357,135885357],[135893853,135893853],[135895809,135895809],[135895879,135895879],[135899069,135899069],[135909462,135909462],[135912977,135912977],[135914038,135914038],[135921839,135921839],[135925002,135925002],[135928312,135928312],[135935049,135935049],[135962711,135962711],[135984172,135984172],[135994753,135994753],[135994754,135994754],[136016079,136016079],[136027264,136027264],[136052004,136052004],[136100473,136100473],[136110129,136110129],[136166536,136166536],[136169799,136169799],[136191314,136191314],[136228887,136228887],[136238453,136238453],[136288273,136288273],[136292425,136292425],[136321951,136321951],[136324564,136324564],[136327299,136327299],[136327302,136327302],[136376515,136376515],[135766890,135766890],[135778708,135778708],[135779588,135779588],[135805941,135805941],[135805943,135805943],[135932720,135932720],[135933317,135933317],[135934842,135934842],[135952376,135952376],[135958853,135958853],[135962864,135962864],[135963304,135963304],[135965376,135965376],[135980201,135980201],[135981554,135981554],[135988127,135988127],[135988416,135988416],[135991470,135991470],[136000500,136000500],[136001215,136001215],[136001295,136001295],[136016514,136016514],[136017388,136017388],[136041102,136041102],[136041662,136041662],[136047387,136047387],[136052936,136052936],[136055275,136055275],[136063118,136063118],[136066802,136066802],[136068890,136068890],[136069577,136069577],[136081193,136081193],[136105193,136105193],[136107839,136107839],[136110835,136110835],[136138026,136138026],[136142092,136142092],[136146499,136146499],[136147607,136147607],[136148401,136148401],[136150512,136150512],[136154734,136154734],[136155805,136155805],[136163001,136163001],[136163266,136163266],[136163568,136163568],[136163821,136163821],[136165965,136165965],[136183312,136183312],[136185945,136185945],[136191729,136191729],[136204827,136204827],[136208747,136208747],[136217980,136217980],[136229438,136229438],[136232572,136232572],[136240942,136240942],[136251329,136251329],[136265187,136265187],[136265188,136265188],[136275985,136275985],[135818487,135818487],[136048649,136048649],[136107286,136107286],[136127914,136127914],[136130497,136130497],[136268096,136268096],[136281880,136281880],[136289565,136289565],[135839805,135839805],[135866750,135866750],[135886744,135886744],[135924467,135924467],[135964764,135964764],[135964765,135964765],[136099127,136099127],[136099650,136099650],[136100705,136100705],[136101132,136101132],[135989333,135989333],[136000304,136000304],[136030519,136030519],[136034836,136034836],[136125165,136125165],[136264631,136264631],[136393658,136393658],[136396300,136396300],[136401843,136401843],[136407445,136407445],[136411879,136411879],[136412270,136412270],[136413244,136413244],[136413847,136413847],[136415217,136415217],[136416533,136416533],[136420726,136420726],[136429857,136429857],[136433740,136433740],[136436317,136436317],[136437615,136437615],[136438517,136438517],[136440300,136440300],[136443900,136443900],[136444185,136444185],[136444338,136444338],[136449254,136449254],[136451676,136451676],[136459227,136459227],[136463117,136463117],[136463454,136463454],[136467119,136467119],[136468238,136468238],[136470219,136470219],[136483355,136483355],[136485276,136485276],[136486340,136486340],[136486342,136486342],[136496493,136496493],[136496639,136496639],[136496928,136496928],[136509573,136509573],[136511951,136511951],[136537057,136537057],[136546635,136546635],[136553438,136553438],[136553925,136553925],[136496805,136496805],[136496910,136496910],[136515859,136515859],[136515924,136515924],[136520186,136520186],[136524766,136524766],[136535364,136535364],[136536113,136536113],[136552629,136552629],[136511874,136511874],[136530248,136530248],[136530556,136530556],[136531252,136531252],[136533195,136533195],[136514709,136514709],[136516308,136516308],[136520100,136520100],[136521595,136521595],[136523045,136523045],[136543147,136543147],[136556805,136556805],[136560003,136560003],[136562472,136562472],[136563248,136563248],[136565328,136565328],[136570613,136570613],[136571982,136571982],[136574305,136574305],[136578040,136578040],[136578194,136578194],[136580398,136580398],[136586828,136586828],[136590558,136590558],[136592309,136592309],[136593541,136593541],[136593694,136593694],[136595426,136595426],[136615222,136615222],[136624919,136624919],[136626004,136626004],[136628380,136628380],[136636909,136636909],[136637350,136637350],[136637622,136637622],[136639487,136639487],[136646900,136646900],[136652093,136652093],[136652859,136652859],[136655620,136655620],[136667896,136667896],[136671801,136671801],[136677192,136677192],[136683293,136683293],[136704414,136704414],[136720344,136720344],[136731066,136731066],[136733897,136733897],[136743490,136743490],[136747085,136747085]],\"ys\":[[550,596],[550,596],[550,596],[550,596],[550,596],[550,596],[550,596],[550,596],[550,596],[550,596],[550,596],[550,596],[550,596],[550,596],[550,596],[550,596],[550,596],[550,596],[550,596],[550,596],[550,596],[550,596],[550,596],[550,596],[550,596],[550,596],[550,596],[550,596],[550,596],[550,596],[550,596],[550,596],[550,596],[550,596],[550,596],[550,596],[550,596],[550,596],[550,596],[550,596],[550,596],[550,596],[550,596],[550,596],[550,596],[550,596],[550,596],[550,596],[550,596],[550,596],[550,596],[550,596],[550,596],[550,596],[550,596],[550,596],[550,596],[550,596],[550,596],[550,596],[550,596],[550,596],[550,596],[550,596],[550,596],[550,596],[550,596],[550,596],[550,596],[550,596],[550,596],[550,596],[550,596],[550,596],[550,596],[550,596],[550,596],[550,596],[550,596],[550,596],[550,596],[550,596],[550,596],[550,596],[550,596],[550,596],[550,596],[550,596],[550,596],[550,596],[550,596],[550,596],[550,596],[550,596],[550,596],[550,596],[550,596],[550,596],[550,596],[550,596],[550,596],[550,596],[550,596],[550,596],[550,596],[550,596],[550,596],[550,596],[550,596],[550,596],[550,596],[550,596],[550,596],[550,596],[550,596],[550,596],[550,596],[450,493],[450,493],[450,493],[450,493],[450,493],[450,493],[450,493],[450,493],[450,493],[450,493],[450,493],[450,493],[450,493],[450,493],[450,493],[450,493],[450,493],[450,493],[450,493],[450,493],[450,493],[450,493],[450,493],[450,493],[450,493],[450,493],[450,493],[450,493],[450,493],[450,493],[450,493],[450,493],[450,493],[450,493],[450,493],[450,493],[450,493],[450,493],[450,493],[450,493],[450,493],[450,493],[450,493],[450,493],[450,493],[450,493],[450,493],[450,493],[450,493],[450,493],[450,493],[450,493],[450,493],[450,493],[450,493],[450,493],[450,493],[450,493],[450,493],[450,493],[450,493],[450,493],[50,80],[50,80],[50,80],[50,80],[50,80],[50,80],[50,80],[50,80],[150,190],[150,190],[150,190],[150,190],[250,291],[250,291],[250,291],[250,291],[250,291],[250,291],[150,188],[150,188],[150,188],[150,188],[150,188],[150,188],[550,594],[550,594],[550,594],[550,594],[550,594],[550,594],[550,594],[550,594],[550,594],[550,594],[550,594],[550,594],[550,594],[550,594],[550,594],[550,594],[550,594],[550,594],[550,594],[550,594],[550,594],[550,594],[550,594],[550,594],[550,594],[550,594],[550,594],[550,594],[550,594],[550,594],[550,594],[550,594],[450,493],[450,493],[450,493],[450,493],[450,493],[450,493],[450,493],[450,493],[450,493],[350,391],[350,391],[350,391],[350,391],[350,391],[350,391],[350,391],[350,391],[350,391],[250,291],[250,291],[250,291],[250,291],[250,291],[150,190],[150,190],[150,190],[150,190],[150,190],[150,190],[350,391],[350,391],[350,391],[350,391],[350,391],[350,391],[350,391],[350,391],[350,391],[350,391],[350,391],[350,391],[350,391],[350,391],[350,391],[350,391],[350,391],[350,391],[350,391],[350,391],[350,391],[350,391],[350,391],[350,391],[350,391],[350,391],[350,391],[350,391],[350,391],[350,391],[350,391],[350,391],[350,391],[350,391],[350,391],[350,391],[350,391],[350,391],[350,391]]}},\"id\":\"e352d0c5-1da5-4c7d-b74a-45a33ca013ce\",\"type\":\"ColumnDataSource\"},{\"attributes\":{\"formatter\":{\"id\":\"8251a52a-3c8b-4c5e-8078-e1a220b3c6cc\",\"type\":\"BasicTickFormatter\"},\"plot\":{\"id\":\"f98e040a-2bce-448a-9026-da6255764532\",\"subtype\":\"Figure\",\"type\":\"Plot\"},\"ticker\":{\"id\":\"cbd48811-e157-4c90-9a8c-c8bcb6587baf\",\"type\":\"BasicTicker\"},\"visible\":null},\"id\":\"356b8c0f-5699-4a9b-bb78-1043a172dbd0\",\"type\":\"LinearAxis\"},{\"attributes\":{},\"id\":\"481ca48b-9231-4c48-9033-49a53e5a03b7\",\"type\":\"BasicTicker\"},{\"attributes\":{},\"id\":\"a8c21ff1-92d0-481c-b4fd-b5cac14e53c2\",\"type\":\"BasicTickFormatter\"},{\"attributes\":{\"overlay\":{\"id\":\"891219c0-2ecd-43ec-bdd9-abffc80f0430\",\"type\":\"BoxAnnotation\"},\"plot\":{\"id\":\"f98e040a-2bce-448a-9026-da6255764532\",\"subtype\":\"Figure\",\"type\":\"Plot\"}},\"id\":\"b665f18e-3304-48ef-af84-ef279ecceda0\",\"type\":\"BoxZoomTool\"}],\"root_ids\":[\"f98e040a-2bce-448a-9026-da6255764532\"]},\"title\":\"Bokeh Application\",\"version\":\"0.12.0\"}};\n",
       "            var render_items = [{\"docid\":\"a4398a8a-f5dc-4f0f-b263-1ba5b4ea54f0\",\"elementid\":\"878d6420-206a-48f5-8b9f-236e0d237849\",\"modelid\":\"f98e040a-2bce-448a-9026-da6255764532\",\"notebook_comms_target\":\"1181e16a-b2c3-414c-9f8e-299a58295d4e\"}];\n",
       "            \n",
       "            Bokeh.embed.embed_items(docs_json, render_items);\n",
       "        });\n",
       "      },\n",
       "      function(Bokeh) {\n",
       "      }\n",
       "    ];\n",
       "  \n",
       "    function run_inline_js() {\n",
       "      for (var i = 0; i < inline_js.length; i++) {\n",
       "        inline_js[i](window.Bokeh);\n",
       "      }\n",
       "    }\n",
       "  \n",
       "    if (window._bokeh_is_loading === 0) {\n",
       "      console.log(\"Bokeh: BokehJS loaded, going straight to plotting\");\n",
       "      run_inline_js();\n",
       "    } else {\n",
       "      load_libs(js_urls, function() {\n",
       "        console.log(\"Bokeh: BokehJS plotting callback run at\", now());\n",
       "        run_inline_js();\n",
       "      });\n",
       "    }\n",
       "  }(this));\n",
       "</script>"
      ]
     },
     "metadata": {},
     "output_type": "display_data"
    },
    {
     "data": {
      "text/html": [
       "<p><code>&lt;Bokeh Notebook handle for <strong>In[46]</strong>&gt;</code></p>"
      ],
      "text/plain": [
       "<bokeh.io._CommsHandle at 0x7f3eea621950>"
      ]
     },
     "execution_count": 46,
     "metadata": {},
     "output_type": "execute_result"
    }
   ],
   "source": [
    "plt_obj = dm.superset_allele_mask(am_170, [dm.di_8_267], [dm.di_9_39, dm.di_81_857], min_match=0.001)\n",
    "plt = plt_obj.do_plot()\n",
    "show(plt)"
   ]
  },
  {
   "cell_type": "markdown",
   "metadata": {},
   "source": [
    "<div style=\"width:700px\">\n",
    "<p>\n",
    "This plot shows the series expressed by the 1 remaining chromosome sample that expresses 170\n",
    "series 193_843 SNPs but does not express the series 9_39.\n",
    "</div>"
   ]
  },
  {
   "cell_type": "code",
   "execution_count": 47,
   "metadata": {
    "collapsed": false
   },
   "outputs": [
    {
     "data": {
      "text/html": [
       "<table>\n",
       "<thead><tr><th style=\"text-align:center\">index</th><th style=\"text-align:center\">first</th><th style=\"text-align:center\">length</th><th style=\"text-align:center\">snps</th><th style=\"text-align:center\" colspan=2>alleles</th><th style=\"text-align:center\" colspan=2>matches</th><th style=\"text-align:center\" colspan=2>afr</th><th style=\"text-align:center\" colspan=2>afx</th><th style=\"text-align:center\" colspan=2>amr</th><th style=\"text-align:center\" colspan=2>eas</th><th style=\"text-align:center\" colspan=2>eur</th><th style=\"text-align:center\" colspan=2>sas</th><th style=\"text-align:center\" colspan=2>sax</th></tr></thead>\n",
       "<tr class=\"even\"><td style=\"text-align: right;\">353244</td><td style=\"text-align: right;\">135,758,231</td><td style=\"text-align: right;\">618,284</td><td style=\"text-align: right;\">117</td><td style=\"text-align: right;\">1685</td><td style=\"text-align: right;\">0.00</td><td style=\"text-align: right;\">1</td><td style=\"text-align: right;\">1.00</td><td style=\"text-align: right;\">0</td><td style=\"text-align: right;\">0.00</td><td style=\"text-align: right;\">0</td><td style=\"text-align: right;\">0.00</td><td style=\"text-align: right;\">0</td><td style=\"text-align: right;\">0.00</td><td style=\"text-align: right;\">0</td><td style=\"text-align: right;\">0.00</td><td style=\"text-align: right;\">1</td><td style=\"text-align: right;\">4.98</td><td style=\"text-align: right;\">0</td><td style=\"text-align: right;\">0.00</td><td style=\"text-align: right;\">0</td><td style=\"text-align: right;\">0.00</td></tr>\n",
       "<tr><td style=\"text-align: right;\">353791</td><td style=\"text-align: right;\">136,393,658</td><td style=\"text-align: right;\">92,684</td><td style=\"text-align: right;\">32</td><td style=\"text-align: right;\">1361</td><td style=\"text-align: right;\">0.00</td><td style=\"text-align: right;\">1</td><td style=\"text-align: right;\">1.00</td><td style=\"text-align: right;\">0</td><td style=\"text-align: right;\">0.00</td><td style=\"text-align: right;\">0</td><td style=\"text-align: right;\">0.00</td><td style=\"text-align: right;\">0</td><td style=\"text-align: right;\">0.00</td><td style=\"text-align: right;\">0</td><td style=\"text-align: right;\">0.00</td><td style=\"text-align: right;\">1</td><td style=\"text-align: right;\">4.98</td><td style=\"text-align: right;\">0</td><td style=\"text-align: right;\">0.00</td><td style=\"text-align: right;\">0</td><td style=\"text-align: right;\">0.00</td></tr>\n",
       "<tr class=\"even\"><td style=\"text-align: right;\">353269</td><td style=\"text-align: right;\">135,766,890</td><td style=\"text-align: right;\">509,095</td><td style=\"text-align: right;\">62</td><td style=\"text-align: right;\">1265</td><td style=\"text-align: right;\">0.00</td><td style=\"text-align: right;\">1</td><td style=\"text-align: right;\">1.00</td><td style=\"text-align: right;\">0</td><td style=\"text-align: right;\">0.00</td><td style=\"text-align: right;\">0</td><td style=\"text-align: right;\">0.00</td><td style=\"text-align: right;\">0</td><td style=\"text-align: right;\">0.00</td><td style=\"text-align: right;\">0</td><td style=\"text-align: right;\">0.00</td><td style=\"text-align: right;\">1</td><td style=\"text-align: right;\">4.98</td><td style=\"text-align: right;\">0</td><td style=\"text-align: right;\">0.00</td><td style=\"text-align: right;\">0</td><td style=\"text-align: right;\">0.00</td></tr>\n",
       "<tr><td style=\"text-align: right;\">353906</td><td style=\"text-align: right;\">136,496,493</td><td style=\"text-align: right;\">57,432</td><td style=\"text-align: right;\">9</td><td style=\"text-align: right;\">1170</td><td style=\"text-align: right;\">0.00</td><td style=\"text-align: right;\">1</td><td style=\"text-align: right;\">1.00</td><td style=\"text-align: right;\">0</td><td style=\"text-align: right;\">0.00</td><td style=\"text-align: right;\">0</td><td style=\"text-align: right;\">0.00</td><td style=\"text-align: right;\">0</td><td style=\"text-align: right;\">0.00</td><td style=\"text-align: right;\">0</td><td style=\"text-align: right;\">0.00</td><td style=\"text-align: right;\">1</td><td style=\"text-align: right;\">4.98</td><td style=\"text-align: right;\">0</td><td style=\"text-align: right;\">0.00</td><td style=\"text-align: right;\">0</td><td style=\"text-align: right;\">0.00</td></tr>\n",
       "<tr class=\"even\"><td style=\"text-align: right;\">353907</td><td style=\"text-align: right;\">136,496,805</td><td style=\"text-align: right;\">55,824</td><td style=\"text-align: right;\">9</td><td style=\"text-align: right;\">1023</td><td style=\"text-align: right;\">0.00</td><td style=\"text-align: right;\">1</td><td style=\"text-align: right;\">1.00</td><td style=\"text-align: right;\">0</td><td style=\"text-align: right;\">0.00</td><td style=\"text-align: right;\">0</td><td style=\"text-align: right;\">0.00</td><td style=\"text-align: right;\">0</td><td style=\"text-align: right;\">0.00</td><td style=\"text-align: right;\">0</td><td style=\"text-align: right;\">0.00</td><td style=\"text-align: right;\">1</td><td style=\"text-align: right;\">4.98</td><td style=\"text-align: right;\">0</td><td style=\"text-align: right;\">0.00</td><td style=\"text-align: right;\">0</td><td style=\"text-align: right;\">0.00</td></tr>\n",
       "<tr><td style=\"text-align: right;\">353984</td><td style=\"text-align: right;\">136,556,805</td><td style=\"text-align: right;\">190,280</td><td style=\"text-align: right;\">39</td><td style=\"text-align: right;\">1014</td><td style=\"text-align: right;\">0.00</td><td style=\"text-align: right;\">1</td><td style=\"text-align: right;\">1.00</td><td style=\"text-align: right;\">0</td><td style=\"text-align: right;\">0.00</td><td style=\"text-align: right;\">0</td><td style=\"text-align: right;\">0.00</td><td style=\"text-align: right;\">0</td><td style=\"text-align: right;\">0.00</td><td style=\"text-align: right;\">0</td><td style=\"text-align: right;\">0.00</td><td style=\"text-align: right;\">1</td><td style=\"text-align: right;\">4.98</td><td style=\"text-align: right;\">0</td><td style=\"text-align: right;\">0.00</td><td style=\"text-align: right;\">0</td><td style=\"text-align: right;\">0.00</td></tr>\n",
       "<tr class=\"even\"><td style=\"text-align: right;\">353935</td><td style=\"text-align: right;\">136,511,874</td><td style=\"text-align: right;\">21,321</td><td style=\"text-align: right;\">5</td><td style=\"text-align: right;\">976</td><td style=\"text-align: right;\">0.00</td><td style=\"text-align: right;\">1</td><td style=\"text-align: right;\">1.00</td><td style=\"text-align: right;\">0</td><td style=\"text-align: right;\">0.00</td><td style=\"text-align: right;\">0</td><td style=\"text-align: right;\">0.00</td><td style=\"text-align: right;\">0</td><td style=\"text-align: right;\">0.00</td><td style=\"text-align: right;\">0</td><td style=\"text-align: right;\">0.00</td><td style=\"text-align: right;\">1</td><td style=\"text-align: right;\">4.98</td><td style=\"text-align: right;\">0</td><td style=\"text-align: right;\">0.00</td><td style=\"text-align: right;\">0</td><td style=\"text-align: right;\">0.00</td></tr>\n",
       "<tr><td style=\"text-align: right;\">353504</td><td style=\"text-align: right;\">135,964,764</td><td style=\"text-align: right;\">136,368</td><td style=\"text-align: right;\">6</td><td style=\"text-align: right;\">946</td><td style=\"text-align: right;\">0.00</td><td style=\"text-align: right;\">1</td><td style=\"text-align: right;\">1.00</td><td style=\"text-align: right;\">0</td><td style=\"text-align: right;\">0.00</td><td style=\"text-align: right;\">0</td><td style=\"text-align: right;\">0.00</td><td style=\"text-align: right;\">0</td><td style=\"text-align: right;\">0.00</td><td style=\"text-align: right;\">0</td><td style=\"text-align: right;\">0.00</td><td style=\"text-align: right;\">1</td><td style=\"text-align: right;\">4.98</td><td style=\"text-align: right;\">0</td><td style=\"text-align: right;\">0.00</td><td style=\"text-align: right;\">0</td><td style=\"text-align: right;\">0.00</td></tr>\n",
       "<tr class=\"even\"><td style=\"text-align: right;\">353938</td><td style=\"text-align: right;\">136,514,709</td><td style=\"text-align: right;\">28,438</td><td style=\"text-align: right;\">6</td><td style=\"text-align: right;\">820</td><td style=\"text-align: right;\">0.00</td><td style=\"text-align: right;\">1</td><td style=\"text-align: right;\">1.00</td><td style=\"text-align: right;\">0</td><td style=\"text-align: right;\">0.00</td><td style=\"text-align: right;\">0</td><td style=\"text-align: right;\">0.00</td><td style=\"text-align: right;\">0</td><td style=\"text-align: right;\">0.00</td><td style=\"text-align: right;\">0</td><td style=\"text-align: right;\">0.00</td><td style=\"text-align: right;\">1</td><td style=\"text-align: right;\">4.98</td><td style=\"text-align: right;\">0</td><td style=\"text-align: right;\">0.00</td><td style=\"text-align: right;\">0</td><td style=\"text-align: right;\">0.00</td></tr>\n",
       "<tr><td style=\"text-align: right;\">353384</td><td style=\"text-align: right;\">135,839,805</td><td style=\"text-align: right;\">84,662</td><td style=\"text-align: right;\">4</td><td style=\"text-align: right;\">815</td><td style=\"text-align: right;\">0.00</td><td style=\"text-align: right;\">1</td><td style=\"text-align: right;\">1.00</td><td style=\"text-align: right;\">0</td><td style=\"text-align: right;\">0.00</td><td style=\"text-align: right;\">0</td><td style=\"text-align: right;\">0.00</td><td style=\"text-align: right;\">0</td><td style=\"text-align: right;\">0.00</td><td style=\"text-align: right;\">0</td><td style=\"text-align: right;\">0.00</td><td style=\"text-align: right;\">1</td><td style=\"text-align: right;\">4.98</td><td style=\"text-align: right;\">0</td><td style=\"text-align: right;\">0.00</td><td style=\"text-align: right;\">0</td><td style=\"text-align: right;\">0.00</td></tr>\n",
       "<tr class=\"even\"><td style=\"text-align: right;\">353521</td><td style=\"text-align: right;\">135,989,333</td><td style=\"text-align: right;\">275,298</td><td style=\"text-align: right;\">6</td><td style=\"text-align: right;\">713</td><td style=\"text-align: right;\">0.00</td><td style=\"text-align: right;\">1</td><td style=\"text-align: right;\">1.00</td><td style=\"text-align: right;\">0</td><td style=\"text-align: right;\">0.00</td><td style=\"text-align: right;\">0</td><td style=\"text-align: right;\">0.00</td><td style=\"text-align: right;\">0</td><td style=\"text-align: right;\">0.00</td><td style=\"text-align: right;\">0</td><td style=\"text-align: right;\">0.00</td><td style=\"text-align: right;\">1</td><td style=\"text-align: right;\">4.98</td><td style=\"text-align: right;\">0</td><td style=\"text-align: right;\">0.00</td><td style=\"text-align: right;\">0</td><td style=\"text-align: right;\">0.00</td></tr>\n",
       "<tr><td style=\"text-align: right;\">353358</td><td style=\"text-align: right;\">135,818,487</td><td style=\"text-align: right;\">471,078</td><td style=\"text-align: right;\">8</td><td style=\"text-align: right;\">267</td><td style=\"text-align: right;\">0.00</td><td style=\"text-align: right;\">1</td><td style=\"text-align: right;\">1.00</td><td style=\"text-align: right;\">0</td><td style=\"text-align: right;\">0.00</td><td style=\"text-align: right;\">0</td><td style=\"text-align: right;\">0.00</td><td style=\"text-align: right;\">0</td><td style=\"text-align: right;\">0.00</td><td style=\"text-align: right;\">0</td><td style=\"text-align: right;\">0.00</td><td style=\"text-align: right;\">1</td><td style=\"text-align: right;\">4.98</td><td style=\"text-align: right;\">0</td><td style=\"text-align: right;\">0.00</td><td style=\"text-align: right;\">0</td><td style=\"text-align: right;\">0.00</td></tr>\n",
       "</table>"
      ],
      "text/plain": [
       "<IPython.core.display.HTML object>"
      ]
     },
     "execution_count": 47,
     "metadata": {},
     "output_type": "execute_result"
    }
   ],
   "source": [
    "HTML(plt_obj.get_html())"
   ]
  },
  {
   "cell_type": "markdown",
   "metadata": {},
   "source": [
    "<div style=\"width:700px\">\n",
    "<p>\n",
    "The data confirms that the plotted association of series is expressed by 1 chromosome sample.\n",
    "</div>"
   ]
  },
  {
   "cell_type": "markdown",
   "metadata": {},
   "source": [
    "<h3>SNP Series</h3>\n",
    "<div style=\"width:700px\">\n",
    "<p>\n",
    "SNP series are documented with a table that shows the properties of the series and the regional\n",
    "population samples that express it.  The individual series SNPs are documented in a separate table\n",
    "that shows the properties of each individual SNP.\n",
    "<p>\n",
    "The column in the SNP data tables labeled \"niv\" means not_expressed_is_variant. The SNP allele\n",
    "with the lowest frequency in the thousand genome data is always considered to be the variant\n",
    "even when the reference genome labeled the more common allele as the variant.  An niv value\n",
    "of 1 means the allele considered as the variant for this analysis is the one that the reference\n",
    "genome considers to be the standard.  Note that the word allele is used to indicate a single\n",
    "chromosome sample that expresses an individual SNP or an SNP series.\n",
    "</div>"
   ]
  },
  {
   "cell_type": "code",
   "execution_count": 48,
   "metadata": {
    "collapsed": false
   },
   "outputs": [
    {
     "data": {
      "text/html": [
       "<p>\n",
       "<b>11_765 series</b>\n",
       "</p><p>\n",
       "<table>\n",
       "<thead><tr><th style=\"text-align:center\">index</th><th style=\"text-align:center\">first</th><th style=\"text-align:center\">length</th><th style=\"text-align:center\">snps</th><th style=\"text-align:center\">alleles</th><th style=\"text-align:center\" colspan=2>afr</th><th style=\"text-align:center\" colspan=2>afx</th><th style=\"text-align:center\" colspan=2>amr</th><th style=\"text-align:center\" colspan=2>eas</th><th style=\"text-align:center\" colspan=2>eur</th><th style=\"text-align:center\" colspan=2>sas</th><th style=\"text-align:center\" colspan=2>sax</th></tr></thead>\n",
       "<tr class=\"even\"><td style=\"text-align: right;\">353380</td><td style=\"text-align: right;\">135,837,906</td><td style=\"text-align: right;\">870,076</td><td style=\"text-align: right;\">11</td><td style=\"text-align: right;\">765</td><td style=\"text-align: right;\">2</td><td style=\"text-align: right;\">0.01</td><td style=\"text-align: right;\">32</td><td style=\"text-align: right;\">0.67</td><td style=\"text-align: right;\">146</td><td style=\"text-align: right;\">1.38</td><td style=\"text-align: right;\">0</td><td style=\"text-align: right;\">0.00</td><td style=\"text-align: right;\">484</td><td style=\"text-align: right;\">3.15</td><td style=\"text-align: right;\">56</td><td style=\"text-align: right;\">1.01</td><td style=\"text-align: right;\">45</td><td style=\"text-align: right;\">0.48</td></tr>\n",
       "</table>\n",
       "</p>\n",
       "<p>\n",
       "<b>11_765 series snps</b>\n",
       "</p><p>\n",
       "<table>\n",
       "<thead><tr><th style=\"text-align:center\">index</th><th style=\"text-align:center\">pos</th><th style=\"text-align:center\">id</th><th style=\"text-align:center\">niv</th><th style=\"text-align:center\">alleles</th><th style=\"text-align:center\" colspan=2>afr</th><th style=\"text-align:center\" colspan=2>afx</th><th style=\"text-align:center\" colspan=2>amr</th><th style=\"text-align:center\" colspan=2>eas</th><th style=\"text-align:center\" colspan=2>eur</th><th style=\"text-align:center\" colspan=2>sas</th><th style=\"text-align:center\" colspan=2>sax</th></tr></thead>\n",
       "<tr class=\"even\"><td style=\"text-align: right;\">875450</td><td style=\"text-align: right;\">135,837,906</td><td>rs7570971</td><td>1</td><td style=\"text-align: right;\">785</td><td style=\"text-align: right;\">2</td><td style=\"text-align: right;\">0.01</td><td style=\"text-align: right;\">32</td><td style=\"text-align: right;\">0.65</td><td style=\"text-align: right;\">149</td><td style=\"text-align: right;\">1.37</td><td style=\"text-align: right;\">0</td><td style=\"text-align: right;\">0.00</td><td style=\"text-align: right;\">493</td><td style=\"text-align: right;\">3.13</td><td style=\"text-align: right;\">60</td><td style=\"text-align: right;\">1.05</td><td style=\"text-align: right;\">49</td><td style=\"text-align: right;\">0.51</td></tr>\n",
       "<tr><td style=\"text-align: right;\">875770</td><td style=\"text-align: right;\">135,907,088</td><td>rs6730157</td><td>1</td><td style=\"text-align: right;\">791</td><td style=\"text-align: right;\">2</td><td style=\"text-align: right;\">0.01</td><td style=\"text-align: right;\">32</td><td style=\"text-align: right;\">0.65</td><td style=\"text-align: right;\">151</td><td style=\"text-align: right;\">1.38</td><td style=\"text-align: right;\">0</td><td style=\"text-align: right;\">0.00</td><td style=\"text-align: right;\">493</td><td style=\"text-align: right;\">3.10</td><td style=\"text-align: right;\">61</td><td style=\"text-align: right;\">1.06</td><td style=\"text-align: right;\">52</td><td style=\"text-align: right;\">0.54</td></tr>\n",
       "<tr class=\"even\"><td style=\"text-align: right;\">875981</td><td style=\"text-align: right;\">135,954,797</td><td>rs1375131</td><td>1</td><td style=\"text-align: right;\">789</td><td style=\"text-align: right;\">2</td><td style=\"text-align: right;\">0.01</td><td style=\"text-align: right;\">32</td><td style=\"text-align: right;\">0.65</td><td style=\"text-align: right;\">149</td><td style=\"text-align: right;\">1.36</td><td style=\"text-align: right;\">0</td><td style=\"text-align: right;\">0.00</td><td style=\"text-align: right;\">492</td><td style=\"text-align: right;\">3.10</td><td style=\"text-align: right;\">61</td><td style=\"text-align: right;\">1.06</td><td style=\"text-align: right;\">53</td><td style=\"text-align: right;\">0.55</td></tr>\n",
       "<tr><td style=\"text-align: right;\">876953</td><td style=\"text-align: right;\">136,138,627</td><td>rs3940549</td><td>1</td><td style=\"text-align: right;\">785</td><td style=\"text-align: right;\">2</td><td style=\"text-align: right;\">0.01</td><td style=\"text-align: right;\">32</td><td style=\"text-align: right;\">0.65</td><td style=\"text-align: right;\">150</td><td style=\"text-align: right;\">1.38</td><td style=\"text-align: right;\">0</td><td style=\"text-align: right;\">0.00</td><td style=\"text-align: right;\">492</td><td style=\"text-align: right;\">3.12</td><td style=\"text-align: right;\">61</td><td style=\"text-align: right;\">1.07</td><td style=\"text-align: right;\">48</td><td style=\"text-align: right;\">0.50</td></tr>\n",
       "<tr class=\"even\"><td style=\"text-align: right;\">877231</td><td style=\"text-align: right;\">136,176,540</td><td>rs13384711</td><td>1</td><td style=\"text-align: right;\">795</td><td style=\"text-align: right;\">3</td><td style=\"text-align: right;\">0.02</td><td style=\"text-align: right;\">32</td><td style=\"text-align: right;\">0.64</td><td style=\"text-align: right;\">151</td><td style=\"text-align: right;\">1.37</td><td style=\"text-align: right;\">0</td><td style=\"text-align: right;\">0.00</td><td style=\"text-align: right;\">493</td><td style=\"text-align: right;\">3.09</td><td style=\"text-align: right;\">63</td><td style=\"text-align: right;\">1.09</td><td style=\"text-align: right;\">53</td><td style=\"text-align: right;\">0.54</td></tr>\n",
       "<tr><td style=\"text-align: right;\">877937</td><td style=\"text-align: right;\">136,328,890</td><td>rs56369224</td><td>1</td><td style=\"text-align: right;\">793</td><td style=\"text-align: right;\">2</td><td style=\"text-align: right;\">0.01</td><td style=\"text-align: right;\">32</td><td style=\"text-align: right;\">0.64</td><td style=\"text-align: right;\">151</td><td style=\"text-align: right;\">1.37</td><td style=\"text-align: right;\">2</td><td style=\"text-align: right;\">0.01</td><td style=\"text-align: right;\">492</td><td style=\"text-align: right;\">3.09</td><td style=\"text-align: right;\">62</td><td style=\"text-align: right;\">1.08</td><td style=\"text-align: right;\">52</td><td style=\"text-align: right;\">0.53</td></tr>\n",
       "<tr class=\"even\"><td style=\"text-align: right;\">878126</td><td style=\"text-align: right;\">136,381,348</td><td>rs12465802</td><td>1</td><td style=\"text-align: right;\">795</td><td style=\"text-align: right;\">2</td><td style=\"text-align: right;\">0.01</td><td style=\"text-align: right;\">32</td><td style=\"text-align: right;\">0.64</td><td style=\"text-align: right;\">151</td><td style=\"text-align: right;\">1.37</td><td style=\"text-align: right;\">0</td><td style=\"text-align: right;\">0.00</td><td style=\"text-align: right;\">496</td><td style=\"text-align: right;\">3.11</td><td style=\"text-align: right;\">62</td><td style=\"text-align: right;\">1.07</td><td style=\"text-align: right;\">52</td><td style=\"text-align: right;\">0.53</td></tr>\n",
       "<tr><td style=\"text-align: right;\">878351</td><td style=\"text-align: right;\">136,429,366</td><td>rs62168795</td><td>1</td><td style=\"text-align: right;\">807</td><td style=\"text-align: right;\">2</td><td style=\"text-align: right;\">0.01</td><td style=\"text-align: right;\">34</td><td style=\"text-align: right;\">0.67</td><td style=\"text-align: right;\">154</td><td style=\"text-align: right;\">1.38</td><td style=\"text-align: right;\">0</td><td style=\"text-align: right;\">0.00</td><td style=\"text-align: right;\">506</td><td style=\"text-align: right;\">3.12</td><td style=\"text-align: right;\">60</td><td style=\"text-align: right;\">1.02</td><td style=\"text-align: right;\">51</td><td style=\"text-align: right;\">0.52</td></tr>\n",
       "<tr class=\"even\"><td style=\"text-align: right;\">879308</td><td style=\"text-align: right;\">136,608,646</td><td>rs4988235</td><td>0</td><td style=\"text-align: right;\">808</td><td style=\"text-align: right;\">2</td><td style=\"text-align: right;\">0.01</td><td style=\"text-align: right;\">34</td><td style=\"text-align: right;\">0.67</td><td style=\"text-align: right;\">150</td><td style=\"text-align: right;\">1.34</td><td style=\"text-align: right;\">0</td><td style=\"text-align: right;\">0.00</td><td style=\"text-align: right;\">511</td><td style=\"text-align: right;\">3.15</td><td style=\"text-align: right;\">60</td><td style=\"text-align: right;\">1.02</td><td style=\"text-align: right;\">51</td><td style=\"text-align: right;\">0.51</td></tr>\n",
       "<tr><td style=\"text-align: right;\">879345</td><td style=\"text-align: right;\">136,616,754</td><td>rs182549</td><td>0</td><td style=\"text-align: right;\">818</td><td style=\"text-align: right;\">2</td><td style=\"text-align: right;\">0.01</td><td style=\"text-align: right;\">34</td><td style=\"text-align: right;\">0.66</td><td style=\"text-align: right;\">153</td><td style=\"text-align: right;\">1.35</td><td style=\"text-align: right;\">0</td><td style=\"text-align: right;\">0.00</td><td style=\"text-align: right;\">512</td><td style=\"text-align: right;\">3.12</td><td style=\"text-align: right;\">63</td><td style=\"text-align: right;\">1.06</td><td style=\"text-align: right;\">54</td><td style=\"text-align: right;\">0.54</td></tr>\n",
       "<tr class=\"even\"><td style=\"text-align: right;\">879828</td><td style=\"text-align: right;\">136,707,982</td><td>rs6754311</td><td>1</td><td style=\"text-align: right;\">821</td><td style=\"text-align: right;\">0</td><td style=\"text-align: right;\">0.00</td><td style=\"text-align: right;\">34</td><td style=\"text-align: right;\">0.66</td><td style=\"text-align: right;\">154</td><td style=\"text-align: right;\">1.35</td><td style=\"text-align: right;\">0</td><td style=\"text-align: right;\">0.00</td><td style=\"text-align: right;\">514</td><td style=\"text-align: right;\">3.12</td><td style=\"text-align: right;\">62</td><td style=\"text-align: right;\">1.04</td><td style=\"text-align: right;\">57</td><td style=\"text-align: right;\">0.57</td></tr>\n",
       "</table>"
      ],
      "text/plain": [
       "<IPython.core.display.HTML object>"
      ]
     },
     "execution_count": 48,
     "metadata": {},
     "output_type": "execute_result"
    }
   ],
   "source": [
    "HTML(dm.series_html(dm.di_11_765))"
   ]
  }
 ],
 "metadata": {
  "kernelspec": {
   "display_name": "Python [Root]",
   "language": "python",
   "name": "Python [Root]"
  },
  "language_info": {
   "codemirror_mode": {
    "name": "ipython",
    "version": 2
   },
   "file_extension": ".py",
   "mimetype": "text/x-python",
   "name": "python",
   "nbconvert_exporter": "python",
   "pygments_lexer": "ipython2",
   "version": "2.7.12"
  }
 },
 "nbformat": 4,
 "nbformat_minor": 0
}
