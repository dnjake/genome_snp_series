{
 "cells": [
  {
   "cell_type": "code",
   "execution_count": 1,
   "metadata": {
    "collapsed": false
   },
   "outputs": [
    {
     "data": {
      "text/html": []
     },
     "metadata": {},
     "output_type": "display_data"
    },
    {
     "data": {
      "application/javascript": [
       "\n",
       "(function(global) {\n",
       "  function now() {\n",
       "    return new Date();\n",
       "  }\n",
       "\n",
       "  if (typeof (window._bokeh_onload_callbacks) === \"undefined\") {\n",
       "    window._bokeh_onload_callbacks = [];\n",
       "  }\n",
       "\n",
       "  function run_callbacks() {\n",
       "    window._bokeh_onload_callbacks.forEach(function(callback) { callback() });\n",
       "    delete window._bokeh_onload_callbacks\n",
       "    console.info(\"Bokeh: all callbacks have finished\");\n",
       "  }\n",
       "\n",
       "  function load_libs(js_urls, callback) {\n",
       "    window._bokeh_onload_callbacks.push(callback);\n",
       "    if (window._bokeh_is_loading > 0) {\n",
       "      console.log(\"Bokeh: BokehJS is being loaded, scheduling callback at\", now());\n",
       "      return null;\n",
       "    }\n",
       "    if (js_urls == null || js_urls.length === 0) {\n",
       "      run_callbacks();\n",
       "      return null;\n",
       "    }\n",
       "    console.log(\"Bokeh: BokehJS not loaded, scheduling load and callback at\", now());\n",
       "    window._bokeh_is_loading = js_urls.length;\n",
       "    for (var i = 0; i < js_urls.length; i++) {\n",
       "      var url = js_urls[i];\n",
       "      var s = document.createElement('script');\n",
       "      s.src = url;\n",
       "      s.async = false;\n",
       "      s.onreadystatechange = s.onload = function() {\n",
       "        window._bokeh_is_loading--;\n",
       "        if (window._bokeh_is_loading === 0) {\n",
       "          console.log(\"Bokeh: all BokehJS libraries loaded\");\n",
       "          run_callbacks()\n",
       "        }\n",
       "      };\n",
       "      s.onerror = function() {\n",
       "        console.warn(\"failed to load library \" + url);\n",
       "      };\n",
       "      console.log(\"Bokeh: injecting script tag for BokehJS library: \", url);\n",
       "      document.getElementsByTagName(\"head\")[0].appendChild(s);\n",
       "    }\n",
       "  };\n",
       "\n",
       "  var js_urls = ['https://cdn.pydata.org/bokeh/release/bokeh-0.12.0.min.js', 'https://cdn.pydata.org/bokeh/release/bokeh-widgets-0.12.0.min.js', 'https://cdn.pydata.org/bokeh/release/bokeh-compiler-0.12.0.min.js'];\n",
       "\n",
       "  var inline_js = [\n",
       "    function(Bokeh) {\n",
       "      Bokeh.set_log_level(\"info\");\n",
       "    },\n",
       "    \n",
       "    function(Bokeh) {\n",
       "      Bokeh.$(\"#d4bfad4a-03a0-40cc-a1a5-ff179b4c0b83\").text(\"BokehJS successfully loaded\");\n",
       "    },\n",
       "    function(Bokeh) {\n",
       "      console.log(\"Bokeh: injecting CSS: https://cdn.pydata.org/bokeh/release/bokeh-0.12.0.min.css\");\n",
       "      Bokeh.embed.inject_css(\"https://cdn.pydata.org/bokeh/release/bokeh-0.12.0.min.css\");\n",
       "      console.log(\"Bokeh: injecting CSS: https://cdn.pydata.org/bokeh/release/bokeh-widgets-0.12.0.min.css\");\n",
       "      Bokeh.embed.inject_css(\"https://cdn.pydata.org/bokeh/release/bokeh-widgets-0.12.0.min.css\");\n",
       "    }\n",
       "  ];\n",
       "\n",
       "  function run_inline_js() {\n",
       "    for (var i = 0; i < inline_js.length; i++) {\n",
       "      inline_js[i](window.Bokeh);\n",
       "    }\n",
       "  }\n",
       "\n",
       "  if (window._bokeh_is_loading === 0) {\n",
       "    console.log(\"Bokeh: BokehJS loaded, going straight to plotting\");\n",
       "    run_inline_js();\n",
       "  } else {\n",
       "    load_libs(js_urls, function() {\n",
       "      console.log(\"Bokeh: BokehJS plotting callback run at\", now());\n",
       "      run_inline_js();\n",
       "    });\n",
       "  }\n",
       "}(this));"
      ]
     },
     "metadata": {},
     "output_type": "display_data"
    }
   ],
   "source": [
    "from IPython.display import HTML\n",
    "import genomes_dnj.lct_interval.plot_colors as clr\n",
    "from bokeh.plotting import output_notebook, show\n",
    "import genomes_dnj.lct_interval.series_plots as dm\n",
    "output_notebook(hide_banner=True)"
   ]
  },
  {
   "cell_type": "markdown",
   "metadata": {},
   "source": [
    "<h3>Methods</h3>\n",
    "<div style=\"width:700px\">\n",
    "<p>\n",
    "Full details of all of the methods are available in the source code.  This notebook describes\n",
    "them and provides some examples to illustrate their use.\n",
    "</div>"
   ]
  },
  {
   "cell_type": "markdown",
   "metadata": {},
   "source": [
    "<h3>Identification of Series</h3>\n",
    "<div style=\"width:700px\">\n",
    "<p>\n",
    "SNPs were grouped into series through an algorithmic process.  That process started with an SNP\n",
    "located somewhere on chromosome 2 and a test boolean mask of the thousand genomes chromosome 2\n",
    "samples that express it.  SNPs farther along chromosome 2 were scanned to identify more SNPs\n",
    "that met two criteria.  A boolean mask was constructed for the chromosome samples that expressed\n",
    "the SNP.  That mask was compared with the test mask.  The requirement for a match was the ability\n",
    "to find 90% of the samples from each mask that matched.  The other was the requirement that 90%\n",
    "of the chromosome samples that matched any SNP in the series matched at least 90% of all the SNPs\n",
    "in the series.  This process was carried out recursively by making the last identified SNP in a\n",
    "series the start of another attempt to find more SNPs in the series.  The process was continued\n",
    "until a 1,000,000 base interval was scanned without finding any additional SNPs in the series.\n",
    "</div>"
   ]
  },
  {
   "cell_type": "markdown",
   "metadata": {},
   "source": [
    "<h3>Yes No Comparisons</h3>\n",
    "<div style=\"width:700px\">\n",
    "<p>\n",
    "Plots were constructed by selecting chromosome samples that satisfied some filter criteria.\n",
    "The criteria are based on a yes list of series and a no list of series.  To be selected\n",
    "a chromosome sample must express all of the series in the yes list and none of the series in the no list.\n",
    "</div>"
   ]
  },
  {
   "cell_type": "markdown",
   "metadata": {},
   "source": [
    "<h3>Series Representation</h3>\n",
    "<div style=\"width:700px\">\n",
    "<p>\n",
    "Series are identified by the number of SNPs in the series and the number of 1000 genomes chromosome\n",
    "samples that express it.  The series 11_765 associated with lactase persistence includes 11 SNPs\n",
    "and is expressed by 765 of the 5008 1000 genomes samples of chromsome 2.\n",
    "</div>"
   ]
  },
  {
   "cell_type": "code",
   "execution_count": 2,
   "metadata": {
    "collapsed": false
   },
   "outputs": [
    {
     "data": {
      "text/html": [
       "\n",
       "<div style=\"margin-left:100px\">\n",
       "<table>\n",
       "<tr><td style=\"background-color:#ff0000;width:50px;\"></td><td>African</td></tr>\n",
       "<tr><td style=\"background-color:#ff00ff;width:50px;\"></td><td>American</td></tr>\n",
       "<tr><td style=\"background-color:#ffff00;width:50px;\"></td><td>East Asian</td></tr>\n",
       "<tr><td style=\"background-color:#00ff00;width:50px;\"></td><td>European</td></tr>\n",
       "<tr><td style=\"background-color:#00ffff;width:50px;\"></td><td>South Asian</td></tr>\n",
       "</table>\n",
       "</div>\n"
      ],
      "text/plain": [
       "<IPython.core.display.HTML object>"
      ]
     },
     "execution_count": 2,
     "metadata": {},
     "output_type": "execute_result"
    }
   ],
   "source": [
    "HTML(clr.pop_colors)"
   ]
  },
  {
   "cell_type": "markdown",
   "metadata": {},
   "source": [
    "<div style=\"width:700px\">\n",
    "<p>\n",
    "Series are represented in a plot by a colored rectangle.  The hue of the rectangle represents\n",
    "the most overexpressed population for the chromosome samples that express the series.\n",
    "More saturated colors represent more overexpressed populations.  The table above shows the fully\n",
    "saturated colors used to represent overexpression of series by different 1000 genomes populations.\n",
    "The plot x axis maps to locations on chromosome 2.  The height of the rectangle represents the log\n",
    "of the number of 1000 genome chromosome 2 samples that express the series.  Each SNP in the series\n",
    "is represented with a vertical line.  Height and color are properties of the series regardless\n",
    "of how many chromosome samples express the series in a particular plot.\n",
    "</div>"
   ]
  },
  {
   "cell_type": "markdown",
   "metadata": {},
   "source": [
    "<h3>Superset Plots</h3>\n",
    "<div style=\"width:700px\">\n",
    "<p>\n",
    "Most plots in these notebooks are superset plots.  The intent of a superset plot is to find\n",
    "all of the series in the studied region expressed by some set of chromosome samples including\n",
    "series that are also expressed by additional samples.  A yes no comparison is used to select\n",
    "input chromosome samples.  The output series are identified by trying to match the input samples\n",
    "with the samples that express each of the series in the studied region.  Those series that\n",
    "meet the match criterion are added to the result set.  When the intent was to limit\n",
    "the series to those expressed by all of the selected chromosome samples, the match\n",
    "criterion was generally 90%.  When the intent was to identify all of the series most commonly\n",
    "expressed by the selected chromosome samples, the match criterion was generally 50%.  The use\n",
    "of a 50% match prevents the selection of overlapping series that are expressed by different\n",
    "subsets of the selected chromosome samples.  When the intent was to display an hierarchy of\n",
    "series that are all expressed by all the chosen set of chromosome samples, the match criterion\n",
    "was generally 0.1%.  The data associated with each plot shows the number of input samples\n",
    "that actually express each of the result series.\n",
    "</div>"
   ]
  },
  {
   "cell_type": "code",
   "execution_count": 3,
   "metadata": {
    "collapsed": false
   },
   "outputs": [
    {
     "data": {
      "text/html": [
       "\n",
       "\n",
       "    <div class=\"bk-root\">\n",
       "        <div class=\"plotdiv\" id=\"5b057526-001a-47fb-bf46-2bbece012d35\"></div>\n",
       "    </div>\n",
       "<script type=\"text/javascript\">\n",
       "  \n",
       "  (function(global) {\n",
       "    function now() {\n",
       "      return new Date();\n",
       "    }\n",
       "  \n",
       "    if (typeof (window._bokeh_onload_callbacks) === \"undefined\") {\n",
       "      window._bokeh_onload_callbacks = [];\n",
       "    }\n",
       "  \n",
       "    function run_callbacks() {\n",
       "      window._bokeh_onload_callbacks.forEach(function(callback) { callback() });\n",
       "      delete window._bokeh_onload_callbacks\n",
       "      console.info(\"Bokeh: all callbacks have finished\");\n",
       "    }\n",
       "  \n",
       "    function load_libs(js_urls, callback) {\n",
       "      window._bokeh_onload_callbacks.push(callback);\n",
       "      if (window._bokeh_is_loading > 0) {\n",
       "        console.log(\"Bokeh: BokehJS is being loaded, scheduling callback at\", now());\n",
       "        return null;\n",
       "      }\n",
       "      if (js_urls == null || js_urls.length === 0) {\n",
       "        run_callbacks();\n",
       "        return null;\n",
       "      }\n",
       "      console.log(\"Bokeh: BokehJS not loaded, scheduling load and callback at\", now());\n",
       "      window._bokeh_is_loading = js_urls.length;\n",
       "      for (var i = 0; i < js_urls.length; i++) {\n",
       "        var url = js_urls[i];\n",
       "        var s = document.createElement('script');\n",
       "        s.src = url;\n",
       "        s.async = false;\n",
       "        s.onreadystatechange = s.onload = function() {\n",
       "          window._bokeh_is_loading--;\n",
       "          if (window._bokeh_is_loading === 0) {\n",
       "            console.log(\"Bokeh: all BokehJS libraries loaded\");\n",
       "            run_callbacks()\n",
       "          }\n",
       "        };\n",
       "        s.onerror = function() {\n",
       "          console.warn(\"failed to load library \" + url);\n",
       "        };\n",
       "        console.log(\"Bokeh: injecting script tag for BokehJS library: \", url);\n",
       "        document.getElementsByTagName(\"head\")[0].appendChild(s);\n",
       "      }\n",
       "    };var element = document.getElementById(\"5b057526-001a-47fb-bf46-2bbece012d35\");\n",
       "    if (element == null) {\n",
       "      console.log(\"Bokeh: ERROR: autoload.js configured with elementid '5b057526-001a-47fb-bf46-2bbece012d35' but no matching script tag was found. \")\n",
       "      return false;\n",
       "    }\n",
       "  \n",
       "    var js_urls = [];\n",
       "  \n",
       "    var inline_js = [\n",
       "      function(Bokeh) {\n",
       "        Bokeh.$(function() {\n",
       "            var docs_json = {\"abfd3dee-7ac0-4bf3-bad1-b46ee64e03f0\":{\"roots\":{\"references\":[{\"attributes\":{\"plot\":{\"id\":\"c36c58a6-8123-425f-9825-952805e54d5e\",\"subtype\":\"Figure\",\"type\":\"Plot\"}},\"id\":\"180b0e97-96cd-483f-a48c-24b9c93ecac3\",\"type\":\"WheelZoomTool\"},{\"attributes\":{\"bottom_units\":\"screen\",\"fill_alpha\":{\"value\":0.5},\"fill_color\":{\"value\":\"lightgrey\"},\"left_units\":\"screen\",\"level\":\"overlay\",\"line_alpha\":{\"value\":1.0},\"line_color\":{\"value\":\"black\"},\"line_dash\":[4,4],\"line_width\":{\"value\":2},\"plot\":null,\"render_mode\":\"css\",\"right_units\":\"screen\",\"top_units\":\"screen\"},\"id\":\"e11fd792-34f8-443f-b442-b947cb47f192\",\"type\":\"BoxAnnotation\"},{\"attributes\":{\"bottom\":{\"field\":\"bottom\"},\"fill_alpha\":{\"value\":0.1},\"fill_color\":{\"value\":\"#1f77b4\"},\"left\":{\"field\":\"left\"},\"line_alpha\":{\"value\":0.1},\"line_color\":{\"value\":\"#1f77b4\"},\"right\":{\"field\":\"right\"},\"top\":{\"field\":\"top\"}},\"id\":\"5a679681-cef4-4f31-8784-aca6dbe54ae2\",\"type\":\"Quad\"},{\"attributes\":{\"plot\":{\"id\":\"c36c58a6-8123-425f-9825-952805e54d5e\",\"subtype\":\"Figure\",\"type\":\"Plot\"}},\"id\":\"819b2cda-33db-48c1-b917-a01a9f1504f6\",\"type\":\"PanTool\"},{\"attributes\":{\"callback\":null,\"end\":600},\"id\":\"d53cd656-3e6a-475f-887d-e4e7cc898286\",\"type\":\"Range1d\"},{\"attributes\":{\"callback\":null,\"column_names\":[\"y\",\"x\",\"vals\"],\"data\":{\"vals\":[\"6_1503\",\"11_765\",\"4_1699\",\"4_911\",\"26_1414\",\"64_1575\",\"10_2206\",\"7_1868\"],\"x\":[135771974,135837906,135915358,136092061,136398174,136494186,136501840,136682274],\"y\":[300.0,94.0,401.0,195.0,299.0,400.0,503.0,502.0]}},\"id\":\"6c773dd7-1d8a-4674-bc27-1466ee2cebe4\",\"type\":\"ColumnDataSource\"},{\"attributes\":{\"below\":[{\"id\":\"e112e8ef-50e7-4957-82c5-4c0ecefbd68e\",\"type\":\"LinearAxis\"}],\"left\":[{\"id\":\"7915dcc1-7107-4e67-b3d8-12e59ccb53b1\",\"type\":\"LinearAxis\"}],\"plot_width\":900,\"renderers\":[{\"id\":\"e112e8ef-50e7-4957-82c5-4c0ecefbd68e\",\"type\":\"LinearAxis\"},{\"id\":\"70eea6e3-fe9d-43fe-8ea0-4f83b0df39bc\",\"type\":\"Grid\"},{\"id\":\"7915dcc1-7107-4e67-b3d8-12e59ccb53b1\",\"type\":\"LinearAxis\"},{\"id\":\"b88a2ebe-0beb-4d15-97aa-365c22f89a75\",\"type\":\"Grid\"},{\"id\":\"e11fd792-34f8-443f-b442-b947cb47f192\",\"type\":\"BoxAnnotation\"},{\"id\":\"03f322dc-1a93-4f1a-8a22-b5321af00d18\",\"type\":\"GlyphRenderer\"},{\"id\":\"585a362f-94b3-4c22-b738-f21c17bf8d21\",\"type\":\"GlyphRenderer\"},{\"id\":\"33821df5-750c-4e7f-9b03-03698d807bdc\",\"type\":\"LabelSet\"},{\"id\":\"2febdf86-1a5d-404a-9533-4cbb5ef42e68\",\"type\":\"GlyphRenderer\"},{\"id\":\"bc28ad87-18b0-422d-bf02-975c2b6962fa\",\"type\":\"LabelSet\"}],\"title\":{\"id\":\"6e8542ce-02bf-4d4a-a218-5fc65beb0d63\",\"type\":\"Title\"},\"tool_events\":{\"id\":\"4c8b9ea6-2ce3-47d2-b0f6-297accf65bc1\",\"type\":\"ToolEvents\"},\"toolbar\":{\"id\":\"cfb51f63-792a-40ae-862f-c3e4d10b6f1a\",\"type\":\"Toolbar\"},\"toolbar_location\":null,\"x_range\":{\"id\":\"7c8991df-d61c-47dd-b888-624efb36621b\",\"type\":\"Range1d\"},\"y_range\":{\"id\":\"d53cd656-3e6a-475f-887d-e4e7cc898286\",\"type\":\"Range1d\"}},\"id\":\"c36c58a6-8123-425f-9825-952805e54d5e\",\"subtype\":\"Figure\",\"type\":\"Plot\"},{\"attributes\":{\"plot\":null,\"text\":null},\"id\":\"6e8542ce-02bf-4d4a-a218-5fc65beb0d63\",\"type\":\"Title\"},{\"attributes\":{\"line_color\":{\"field\":\"line_color\"},\"xs\":{\"field\":\"xs\"},\"ys\":{\"field\":\"ys\"}},\"id\":\"e877308b-a78f-4d78-b231-67e38836bae1\",\"type\":\"MultiLine\"},{\"attributes\":{\"plot\":{\"id\":\"c36c58a6-8123-425f-9825-952805e54d5e\",\"subtype\":\"Figure\",\"type\":\"Plot\"}},\"id\":\"2de17a9a-35f6-4c00-9683-78241a5f6dbc\",\"type\":\"SaveTool\"},{\"attributes\":{\"callback\":null,\"column_names\":[\"right\",\"bottom\",\"top\",\"left\"],\"data\":{\"bottom\":[545,545,545,545,545,545,545],\"left\":[135809835,135957574,136289083,136499189,136545415,136597196,136664254],\"right\":[135928279,136288182,136482839,136542633,136594750,136634047,136743222],\"top\":[575,575,575,575,575,575,575]}},\"id\":\"539bd0f0-2658-4006-818c-7ca477c9a640\",\"type\":\"ColumnDataSource\"},{\"attributes\":{\"data_source\":{\"id\":\"2bac7f9c-2772-4563-a19f-5e97a8fb18da\",\"type\":\"ColumnDataSource\"},\"glyph\":{\"id\":\"e877308b-a78f-4d78-b231-67e38836bae1\",\"type\":\"MultiLine\"},\"hover_glyph\":null,\"nonselection_glyph\":{\"id\":\"36b8b7f3-d27f-409d-8c92-1a09e9c90873\",\"type\":\"MultiLine\"},\"selection_glyph\":null},\"id\":\"585a362f-94b3-4c22-b738-f21c17bf8d21\",\"type\":\"GlyphRenderer\"},{\"attributes\":{\"callback\":null,\"column_names\":[\"xs\",\"ys\",\"line_color\"],\"data\":{\"line_color\":[\"black\",\"black\",\"black\",\"black\",\"black\",\"black\",\"black\",\"black\",\"black\",\"black\",\"black\",\"black\",\"black\",\"black\",\"black\",\"black\",\"black\",\"black\",\"black\",\"black\",\"black\",\"black\",\"black\",\"black\",\"black\",\"black\",\"black\",\"black\",\"black\",\"black\",\"black\",\"black\",\"black\",\"black\",\"black\",\"black\",\"black\",\"black\",\"black\",\"black\",\"black\",\"black\",\"black\",\"black\",\"black\",\"black\",\"black\",\"black\",\"black\",\"black\",\"black\",\"black\",\"black\",\"black\",\"black\",\"black\",\"black\",\"black\",\"black\",\"black\",\"black\",\"black\",\"black\",\"black\",\"black\",\"black\",\"black\",\"black\",\"black\",\"black\",\"black\",\"black\",\"black\",\"black\",\"black\",\"black\",\"black\",\"black\",\"black\",\"black\",\"black\",\"black\",\"black\",\"black\",\"black\",\"black\",\"black\",\"black\",\"black\",\"black\",\"black\",\"black\",\"black\",\"black\",\"black\",\"black\",\"black\",\"black\",\"black\",\"black\",\"black\",\"black\",\"black\",\"black\",\"black\",\"black\",\"black\",\"black\",\"black\",\"black\",\"black\",\"black\",\"black\",\"black\",\"black\",\"black\",\"black\",\"black\",\"black\",\"black\",\"black\",\"black\",\"black\",\"black\",\"black\",\"black\",\"black\",\"black\",\"black\",\"black\",\"black\",\"black\"],\"xs\":[[135771974,135771974],[135859371,135859371],[135877562,135877562],[136022798,136022798],[136058820,136058820],[136140304,136140304],[135837906,135837906],[135907088,135907088],[135954797,135954797],[136138627,136138627],[136176540,136176540],[136328890,136328890],[136381348,136381348],[136429366,136429366],[136608646,136608646],[136616754,136616754],[136707982,136707982],[135915358,135915358],[135954405,135954405],[135995073,135995073],[135995079,135995079],[136092061,136092061],[136273578,136273578],[136322676,136322676],[136407479,136407479],[136398174,136398174],[136402117,136402117],[136403749,136403749],[136409073,136409073],[136410299,136410299],[136413359,136413359],[136416855,136416855],[136416941,136416941],[136418348,136418348],[136419961,136419961],[136420690,136420690],[136422171,136422171],[136428460,136428460],[136430866,136430866],[136432103,136432103],[136437507,136437507],[136439090,136439090],[136439517,136439517],[136444123,136444123],[136445526,136445526],[136445869,136445869],[136455600,136455600],[136456642,136456642],[136462441,136462441],[136470714,136470714],[136474098,136474098],[136494186,136494186],[136495300,136495300],[136495619,136495619],[136499166,136499166],[136502792,136502792],[136503157,136503157],[136507039,136507039],[136511575,136511575],[136518103,136518103],[136521514,136521514],[136522675,136522675],[136522941,136522941],[136526981,136526981],[136535410,136535410],[136539122,136539122],[136544197,136544197],[136550109,136550109],[136551694,136551694],[136553188,136553188],[136553639,136553639],[136554800,136554800],[136557319,136557319],[136558157,136558157],[136569848,136569848],[136575199,136575199],[136576577,136576577],[136578536,136578536],[136580287,136580287],[136583192,136583192],[136586958,136586958],[136588478,136588478],[136589612,136589612],[136591178,136591178],[136591859,136591859],[136593760,136593760],[136594158,136594158],[136603276,136603276],[136603366,136603366],[136608231,136608231],[136609975,136609975],[136610598,136610598],[136611624,136611624],[136613780,136613780],[136614255,136614255],[136614813,136614813],[136617524,136617524],[136622216,136622216],[136625602,136625602],[136629911,136629911],[136630757,136630757],[136630989,136630989],[136631031,136631031],[136633771,136633771],[136636324,136636324],[136638216,136638216],[136640233,136640233],[136641882,136641882],[136643555,136643555],[136658345,136658345],[136670298,136670298],[136685228,136685228],[136696138,136696138],[136740900,136740900],[136765951,136765951],[136501840,136501840],[136505546,136505546],[136516748,136516748],[136522710,136522710],[136528004,136528004],[136539513,136539513],[136544752,136544752],[136546110,136546110],[136553529,136553529],[136555659,136555659],[136682274,136682274],[136691825,136691825],[136698098,136698098],[136721603,136721603],[136721995,136721995],[136755684,136755684],[136775898,136775898]],\"ys\":[[250,295],[250,295],[250,295],[250,295],[250,295],[250,295],[50,89],[50,89],[50,89],[50,89],[50,89],[50,89],[50,89],[50,89],[50,89],[50,89],[50,89],[350,396],[350,396],[350,396],[350,396],[150,190],[150,190],[150,190],[150,190],[250,294],[250,294],[250,294],[250,294],[250,294],[250,294],[250,294],[250,294],[250,294],[250,294],[250,294],[250,294],[250,294],[250,294],[250,294],[250,294],[250,294],[250,294],[250,294],[250,294],[250,294],[250,294],[250,294],[250,294],[250,294],[250,294],[350,395],[350,395],[350,395],[350,395],[350,395],[350,395],[350,395],[350,395],[350,395],[350,395],[350,395],[350,395],[350,395],[350,395],[350,395],[350,395],[350,395],[350,395],[350,395],[350,395],[350,395],[350,395],[350,395],[350,395],[350,395],[350,395],[350,395],[350,395],[350,395],[350,395],[350,395],[350,395],[350,395],[350,395],[350,395],[350,395],[350,395],[350,395],[350,395],[350,395],[350,395],[350,395],[350,395],[350,395],[350,395],[350,395],[350,395],[350,395],[350,395],[350,395],[350,395],[350,395],[350,395],[350,395],[350,395],[350,395],[350,395],[350,395],[350,395],[350,395],[350,395],[350,395],[350,395],[350,395],[450,498],[450,498],[450,498],[450,498],[450,498],[450,498],[450,498],[450,498],[450,498],[450,498],[450,497],[450,497],[450,497],[450,497],[450,497],[450,497],[450,497]]}},\"id\":\"2bac7f9c-2772-4563-a19f-5e97a8fb18da\",\"type\":\"ColumnDataSource\"},{\"attributes\":{},\"id\":\"4c8b9ea6-2ce3-47d2-b0f6-297accf65bc1\",\"type\":\"ToolEvents\"},{\"attributes\":{\"level\":\"glyph\",\"plot\":{\"id\":\"c36c58a6-8123-425f-9825-952805e54d5e\",\"subtype\":\"Figure\",\"type\":\"Plot\"},\"source\":{\"id\":\"6c773dd7-1d8a-4674-bc27-1466ee2cebe4\",\"type\":\"ColumnDataSource\"},\"text\":{\"field\":\"vals\"},\"text_font_size\":{\"value\":\"9pt\"},\"text_font_style\":\"bold\",\"x\":{\"field\":\"x\"},\"y\":{\"field\":\"y\"}},\"id\":\"33821df5-750c-4e7f-9b03-03698d807bdc\",\"type\":\"LabelSet\"},{\"attributes\":{\"data_source\":{\"id\":\"14b9f909-c172-479f-b1e3-d7b880b6aebc\",\"type\":\"ColumnDataSource\"},\"glyph\":{\"id\":\"113ec212-fea6-40fe-905e-ddd70eef6ce4\",\"type\":\"Quad\"},\"hover_glyph\":null,\"nonselection_glyph\":{\"id\":\"5a679681-cef4-4f31-8784-aca6dbe54ae2\",\"type\":\"Quad\"},\"selection_glyph\":null},\"id\":\"03f322dc-1a93-4f1a-8a22-b5321af00d18\",\"type\":\"GlyphRenderer\"},{\"attributes\":{},\"id\":\"d8cd8040-7527-4dcc-9c8b-78aa71cec98f\",\"type\":\"BasicTicker\"},{\"attributes\":{\"bottom\":{\"field\":\"bottom\"},\"fill_alpha\":{\"value\":0.1},\"fill_color\":{\"value\":\"#1f77b4\"},\"left\":{\"field\":\"left\"},\"line_alpha\":{\"value\":0.1},\"line_color\":{\"value\":\"#1f77b4\"},\"right\":{\"field\":\"right\"},\"top\":{\"field\":\"top\"}},\"id\":\"7152b91e-60b2-4397-8b27-44f1b78e680c\",\"type\":\"Quad\"},{\"attributes\":{\"plot\":{\"id\":\"c36c58a6-8123-425f-9825-952805e54d5e\",\"subtype\":\"Figure\",\"type\":\"Plot\"}},\"id\":\"b2975b13-c8bc-4af8-99de-ef4d9a75f48d\",\"type\":\"ResetTool\"},{\"attributes\":{},\"id\":\"30a3c1e0-e47c-4d51-9b3f-5beaa99a5e29\",\"type\":\"BasicTickFormatter\"},{\"attributes\":{\"formatter\":{\"id\":\"421a6c45-4e1a-4883-a4eb-d39e5816d421\",\"type\":\"BasicTickFormatter\"},\"plot\":{\"id\":\"c36c58a6-8123-425f-9825-952805e54d5e\",\"subtype\":\"Figure\",\"type\":\"Plot\"},\"ticker\":{\"id\":\"6f4da674-a099-4e24-97de-73cc85881f59\",\"type\":\"BasicTicker\"}},\"id\":\"e112e8ef-50e7-4957-82c5-4c0ecefbd68e\",\"type\":\"LinearAxis\"},{\"attributes\":{\"callback\":null,\"column_names\":[\"y\",\"x\",\"vals\"],\"data\":{\"vals\":[\"RAB3GAP1\",\"ZRANB3\",\"R3HDM1\",\"UBXN4\",\"LCT\",\"MCM6\",\"DARS\"],\"x\":[135869057.0,136122878.0,136385961.0,136520911.0,136570082.5,136615621.5,136703738.0],\"y\":[560.0,560.0,560.0,560.0,560.0,560.0,560.0]}},\"id\":\"0582753b-28a2-4a38-bae8-2731c7fb0605\",\"type\":\"ColumnDataSource\"},{\"attributes\":{\"formatter\":{\"id\":\"30a3c1e0-e47c-4d51-9b3f-5beaa99a5e29\",\"type\":\"BasicTickFormatter\"},\"plot\":{\"id\":\"c36c58a6-8123-425f-9825-952805e54d5e\",\"subtype\":\"Figure\",\"type\":\"Plot\"},\"ticker\":{\"id\":\"d8cd8040-7527-4dcc-9c8b-78aa71cec98f\",\"type\":\"BasicTicker\"},\"visible\":null},\"id\":\"7915dcc1-7107-4e67-b3d8-12e59ccb53b1\",\"type\":\"LinearAxis\"},{\"attributes\":{\"active_drag\":\"auto\",\"active_scroll\":\"auto\",\"active_tap\":\"auto\",\"tools\":[{\"id\":\"819b2cda-33db-48c1-b917-a01a9f1504f6\",\"type\":\"PanTool\"},{\"id\":\"180b0e97-96cd-483f-a48c-24b9c93ecac3\",\"type\":\"WheelZoomTool\"},{\"id\":\"7f4074c9-b9c3-49c2-9ad3-0e3464d37ced\",\"type\":\"BoxZoomTool\"},{\"id\":\"2de17a9a-35f6-4c00-9683-78241a5f6dbc\",\"type\":\"SaveTool\"},{\"id\":\"b2975b13-c8bc-4af8-99de-ef4d9a75f48d\",\"type\":\"ResetTool\"},{\"id\":\"71044009-2405-4b63-b37b-8ace855a6912\",\"type\":\"HelpTool\"}]},\"id\":\"cfb51f63-792a-40ae-862f-c3e4d10b6f1a\",\"type\":\"Toolbar\"},{\"attributes\":{\"plot\":{\"id\":\"c36c58a6-8123-425f-9825-952805e54d5e\",\"subtype\":\"Figure\",\"type\":\"Plot\"}},\"id\":\"71044009-2405-4b63-b37b-8ace855a6912\",\"type\":\"HelpTool\"},{\"attributes\":{\"bottom\":{\"field\":\"bottom\"},\"fill_color\":{\"value\":\"white\"},\"left\":{\"field\":\"left\"},\"right\":{\"field\":\"right\"},\"top\":{\"field\":\"top\"}},\"id\":\"3f903855-d031-46cc-b9ba-7af0606b8e84\",\"type\":\"Quad\"},{\"attributes\":{\"callback\":null,\"column_names\":[\"right\",\"bottom\",\"top\",\"left\",\"fill_color\"],\"data\":{\"bottom\":[250,50,350,150,250,350,450,450],\"fill_color\":[\"#61c461\",\"#00ff00\",\"#61c461\",\"#00ff00\",\"#61c461\",\"#61c461\",\"#808080\",\"#61c461\"],\"left\":[135771974,135837906,135915358,136092061,136398174,136494186,136501840,136682274],\"right\":[136140304,136707982,135995079,136407479,136474098,136765951,136555659,136775898],\"top\":[295,89,396,190,294,395,498,497]}},\"id\":\"14b9f909-c172-479f-b1e3-d7b880b6aebc\",\"type\":\"ColumnDataSource\"},{\"attributes\":{\"callback\":null,\"end\":136786630,\"start\":135757320},\"id\":\"7c8991df-d61c-47dd-b888-624efb36621b\",\"type\":\"Range1d\"},{\"attributes\":{\"overlay\":{\"id\":\"e11fd792-34f8-443f-b442-b947cb47f192\",\"type\":\"BoxAnnotation\"},\"plot\":{\"id\":\"c36c58a6-8123-425f-9825-952805e54d5e\",\"subtype\":\"Figure\",\"type\":\"Plot\"}},\"id\":\"7f4074c9-b9c3-49c2-9ad3-0e3464d37ced\",\"type\":\"BoxZoomTool\"},{\"attributes\":{\"plot\":{\"id\":\"c36c58a6-8123-425f-9825-952805e54d5e\",\"subtype\":\"Figure\",\"type\":\"Plot\"},\"ticker\":{\"id\":\"6f4da674-a099-4e24-97de-73cc85881f59\",\"type\":\"BasicTicker\"}},\"id\":\"70eea6e3-fe9d-43fe-8ea0-4f83b0df39bc\",\"type\":\"Grid\"},{\"attributes\":{},\"id\":\"6f4da674-a099-4e24-97de-73cc85881f59\",\"type\":\"BasicTicker\"},{\"attributes\":{},\"id\":\"421a6c45-4e1a-4883-a4eb-d39e5816d421\",\"type\":\"BasicTickFormatter\"},{\"attributes\":{\"data_source\":{\"id\":\"539bd0f0-2658-4006-818c-7ca477c9a640\",\"type\":\"ColumnDataSource\"},\"glyph\":{\"id\":\"3f903855-d031-46cc-b9ba-7af0606b8e84\",\"type\":\"Quad\"},\"hover_glyph\":null,\"nonselection_glyph\":{\"id\":\"7152b91e-60b2-4397-8b27-44f1b78e680c\",\"type\":\"Quad\"},\"selection_glyph\":null},\"id\":\"2febdf86-1a5d-404a-9533-4cbb5ef42e68\",\"type\":\"GlyphRenderer\"},{\"attributes\":{\"bottom\":{\"field\":\"bottom\"},\"fill_color\":{\"field\":\"fill_color\"},\"left\":{\"field\":\"left\"},\"line_color\":{\"value\":null},\"right\":{\"field\":\"right\"},\"top\":{\"field\":\"top\"}},\"id\":\"113ec212-fea6-40fe-905e-ddd70eef6ce4\",\"type\":\"Quad\"},{\"attributes\":{\"level\":\"glyph\",\"plot\":{\"id\":\"c36c58a6-8123-425f-9825-952805e54d5e\",\"subtype\":\"Figure\",\"type\":\"Plot\"},\"source\":{\"id\":\"0582753b-28a2-4a38-bae8-2731c7fb0605\",\"type\":\"ColumnDataSource\"},\"text\":{\"field\":\"vals\"},\"text_align\":\"center\",\"text_baseline\":\"middle\",\"text_font_size\":{\"value\":\"8pt\"},\"x\":{\"field\":\"x\"},\"y\":{\"field\":\"y\"}},\"id\":\"bc28ad87-18b0-422d-bf02-975c2b6962fa\",\"type\":\"LabelSet\"},{\"attributes\":{\"line_alpha\":{\"value\":0.1},\"line_color\":{\"value\":\"#1f77b4\"},\"xs\":{\"field\":\"xs\"},\"ys\":{\"field\":\"ys\"}},\"id\":\"36b8b7f3-d27f-409d-8c92-1a09e9c90873\",\"type\":\"MultiLine\"},{\"attributes\":{\"dimension\":1,\"plot\":{\"id\":\"c36c58a6-8123-425f-9825-952805e54d5e\",\"subtype\":\"Figure\",\"type\":\"Plot\"},\"ticker\":{\"id\":\"d8cd8040-7527-4dcc-9c8b-78aa71cec98f\",\"type\":\"BasicTicker\"}},\"id\":\"b88a2ebe-0beb-4d15-97aa-365c22f89a75\",\"type\":\"Grid\"}],\"root_ids\":[\"c36c58a6-8123-425f-9825-952805e54d5e\"]},\"title\":\"Bokeh Application\",\"version\":\"0.12.0\"}};\n",
       "            var render_items = [{\"docid\":\"abfd3dee-7ac0-4bf3-bad1-b46ee64e03f0\",\"elementid\":\"5b057526-001a-47fb-bf46-2bbece012d35\",\"modelid\":\"c36c58a6-8123-425f-9825-952805e54d5e\",\"notebook_comms_target\":\"aded7913-9ad2-421a-9f9d-4f5c99ab9d55\"}];\n",
       "            \n",
       "            Bokeh.embed.embed_items(docs_json, render_items);\n",
       "        });\n",
       "      },\n",
       "      function(Bokeh) {\n",
       "      }\n",
       "    ];\n",
       "  \n",
       "    function run_inline_js() {\n",
       "      for (var i = 0; i < inline_js.length; i++) {\n",
       "        inline_js[i](window.Bokeh);\n",
       "      }\n",
       "    }\n",
       "  \n",
       "    if (window._bokeh_is_loading === 0) {\n",
       "      console.log(\"Bokeh: BokehJS loaded, going straight to plotting\");\n",
       "      run_inline_js();\n",
       "    } else {\n",
       "      load_libs(js_urls, function() {\n",
       "        console.log(\"Bokeh: BokehJS plotting callback run at\", now());\n",
       "        run_inline_js();\n",
       "      });\n",
       "    }\n",
       "  }(this));\n",
       "</script>"
      ]
     },
     "metadata": {},
     "output_type": "display_data"
    },
    {
     "data": {
      "text/html": [
       "<p><code>&lt;Bokeh Notebook handle for <strong>In[3]</strong>&gt;</code></p>"
      ],
      "text/plain": [
       "<bokeh.io._CommsHandle at 0x7f148b35cc10>"
      ]
     },
     "execution_count": 3,
     "metadata": {},
     "output_type": "execute_result"
    }
   ],
   "source": [
    "lct_plt_obj = dm.superset_yes_no([dm.di_11_765], min_match=0.9)\n",
    "plt = lct_plt_obj.do_plot()\n",
    "show(plt)"
   ]
  },
  {
   "cell_type": "markdown",
   "metadata": {},
   "source": [
    "<div style=\"width:700px\">\n",
    "<p>\n",
    "This plot is an example of a superset plot.  The only criteria for selecting chromosome samples is\n",
    "the expression of the series 11_765.  The series in the plot are ones that are expressed by\n",
    "at least 90% of the 1000 genomes phase 3 chromsome 2 samples that express the series 11_765.\n",
    "</div>"
   ]
  },
  {
   "cell_type": "code",
   "execution_count": 4,
   "metadata": {
    "collapsed": false
   },
   "outputs": [
    {
     "data": {
      "text/html": [
       "<table>\n",
       "<thead><tr><th style=\"text-align:center\">index</th><th style=\"text-align:center\">first</th><th style=\"text-align:center\">length</th><th style=\"text-align:center\">snps</th><th style=\"text-align:center\" colspan=2>alleles</th><th style=\"text-align:center\" colspan=2>matches</th><th style=\"text-align:center\" colspan=2>afr</th><th style=\"text-align:center\" colspan=2>afx</th><th style=\"text-align:center\" colspan=2>amr</th><th style=\"text-align:center\" colspan=2>eas</th><th style=\"text-align:center\" colspan=2>eur</th><th style=\"text-align:center\" colspan=2>sas</th><th style=\"text-align:center\" colspan=2>sax</th></tr></thead>\n",
       "<tr class=\"even\"><td style=\"text-align: right;\">353921</td><td style=\"text-align: right;\">136,501,840</td><td style=\"text-align: right;\">53,819</td><td style=\"text-align: right;\">10</td><td style=\"text-align: right;\">2206</td><td style=\"text-align: right;\">0.35</td><td style=\"text-align: right;\">765</td><td style=\"text-align: right;\">1.00</td><td style=\"text-align: right;\">2</td><td style=\"text-align: right;\">0.01</td><td style=\"text-align: right;\">32</td><td style=\"text-align: right;\">0.67</td><td style=\"text-align: right;\">146</td><td style=\"text-align: right;\">1.38</td><td style=\"text-align: right;\">0</td><td style=\"text-align: right;\">0.00</td><td style=\"text-align: right;\">484</td><td style=\"text-align: right;\">3.15</td><td style=\"text-align: right;\">56</td><td style=\"text-align: right;\">1.01</td><td style=\"text-align: right;\">45</td><td style=\"text-align: right;\">0.48</td></tr>\n",
       "<tr><td style=\"text-align: right;\">354170</td><td style=\"text-align: right;\">136,682,274</td><td style=\"text-align: right;\">93,624</td><td style=\"text-align: right;\">7</td><td style=\"text-align: right;\">1868</td><td style=\"text-align: right;\">0.41</td><td style=\"text-align: right;\">764</td><td style=\"text-align: right;\">1.00</td><td style=\"text-align: right;\">2</td><td style=\"text-align: right;\">0.01</td><td style=\"text-align: right;\">32</td><td style=\"text-align: right;\">0.67</td><td style=\"text-align: right;\">146</td><td style=\"text-align: right;\">1.38</td><td style=\"text-align: right;\">0</td><td style=\"text-align: right;\">0.00</td><td style=\"text-align: right;\">484</td><td style=\"text-align: right;\">3.15</td><td style=\"text-align: right;\">56</td><td style=\"text-align: right;\">1.01</td><td style=\"text-align: right;\">44</td><td style=\"text-align: right;\">0.47</td></tr>\n",
       "<tr class=\"even\"><td style=\"text-align: right;\">353462</td><td style=\"text-align: right;\">135,915,358</td><td style=\"text-align: right;\">79,721</td><td style=\"text-align: right;\">4</td><td style=\"text-align: right;\">1699</td><td style=\"text-align: right;\">0.45</td><td style=\"text-align: right;\">765</td><td style=\"text-align: right;\">1.00</td><td style=\"text-align: right;\">2</td><td style=\"text-align: right;\">0.01</td><td style=\"text-align: right;\">32</td><td style=\"text-align: right;\">0.67</td><td style=\"text-align: right;\">146</td><td style=\"text-align: right;\">1.38</td><td style=\"text-align: right;\">0</td><td style=\"text-align: right;\">0.00</td><td style=\"text-align: right;\">484</td><td style=\"text-align: right;\">3.15</td><td style=\"text-align: right;\">56</td><td style=\"text-align: right;\">1.01</td><td style=\"text-align: right;\">45</td><td style=\"text-align: right;\">0.48</td></tr>\n",
       "<tr><td style=\"text-align: right;\">353901</td><td style=\"text-align: right;\">136,494,186</td><td style=\"text-align: right;\">271,765</td><td style=\"text-align: right;\">64</td><td style=\"text-align: right;\">1575</td><td style=\"text-align: right;\">0.49</td><td style=\"text-align: right;\">765</td><td style=\"text-align: right;\">1.00</td><td style=\"text-align: right;\">2</td><td style=\"text-align: right;\">0.01</td><td style=\"text-align: right;\">32</td><td style=\"text-align: right;\">0.67</td><td style=\"text-align: right;\">146</td><td style=\"text-align: right;\">1.38</td><td style=\"text-align: right;\">0</td><td style=\"text-align: right;\">0.00</td><td style=\"text-align: right;\">484</td><td style=\"text-align: right;\">3.15</td><td style=\"text-align: right;\">56</td><td style=\"text-align: right;\">1.01</td><td style=\"text-align: right;\">45</td><td style=\"text-align: right;\">0.48</td></tr>\n",
       "<tr class=\"even\"><td style=\"text-align: right;\">353283</td><td style=\"text-align: right;\">135,771,974</td><td style=\"text-align: right;\">368,330</td><td style=\"text-align: right;\">6</td><td style=\"text-align: right;\">1503</td><td style=\"text-align: right;\">0.51</td><td style=\"text-align: right;\">765</td><td style=\"text-align: right;\">1.00</td><td style=\"text-align: right;\">2</td><td style=\"text-align: right;\">0.01</td><td style=\"text-align: right;\">32</td><td style=\"text-align: right;\">0.67</td><td style=\"text-align: right;\">146</td><td style=\"text-align: right;\">1.38</td><td style=\"text-align: right;\">0</td><td style=\"text-align: right;\">0.00</td><td style=\"text-align: right;\">484</td><td style=\"text-align: right;\">3.15</td><td style=\"text-align: right;\">56</td><td style=\"text-align: right;\">1.01</td><td style=\"text-align: right;\">45</td><td style=\"text-align: right;\">0.48</td></tr>\n",
       "<tr><td style=\"text-align: right;\">353797</td><td style=\"text-align: right;\">136,398,174</td><td style=\"text-align: right;\">75,924</td><td style=\"text-align: right;\">26</td><td style=\"text-align: right;\">1414</td><td style=\"text-align: right;\">0.54</td><td style=\"text-align: right;\">765</td><td style=\"text-align: right;\">1.00</td><td style=\"text-align: right;\">2</td><td style=\"text-align: right;\">0.01</td><td style=\"text-align: right;\">32</td><td style=\"text-align: right;\">0.67</td><td style=\"text-align: right;\">146</td><td style=\"text-align: right;\">1.38</td><td style=\"text-align: right;\">0</td><td style=\"text-align: right;\">0.00</td><td style=\"text-align: right;\">484</td><td style=\"text-align: right;\">3.15</td><td style=\"text-align: right;\">56</td><td style=\"text-align: right;\">1.01</td><td style=\"text-align: right;\">45</td><td style=\"text-align: right;\">0.48</td></tr>\n",
       "<tr class=\"even\"><td style=\"text-align: right;\">353604</td><td style=\"text-align: right;\">136,092,061</td><td style=\"text-align: right;\">315,418</td><td style=\"text-align: right;\">4</td><td style=\"text-align: right;\">911</td><td style=\"text-align: right;\">0.84</td><td style=\"text-align: right;\">762</td><td style=\"text-align: right;\">1.00</td><td style=\"text-align: right;\">2</td><td style=\"text-align: right;\">0.01</td><td style=\"text-align: right;\">31</td><td style=\"text-align: right;\">0.65</td><td style=\"text-align: right;\">146</td><td style=\"text-align: right;\">1.38</td><td style=\"text-align: right;\">0</td><td style=\"text-align: right;\">0.00</td><td style=\"text-align: right;\">484</td><td style=\"text-align: right;\">3.16</td><td style=\"text-align: right;\">54</td><td style=\"text-align: right;\">0.97</td><td style=\"text-align: right;\">45</td><td style=\"text-align: right;\">0.48</td></tr>\n",
       "<tr><td style=\"text-align: right;\">353380</td><td style=\"text-align: right;\">135,837,906</td><td style=\"text-align: right;\">870,076</td><td style=\"text-align: right;\">11</td><td style=\"text-align: right;\">765</td><td style=\"text-align: right;\">1.00</td><td style=\"text-align: right;\">765</td><td style=\"text-align: right;\">1.00</td><td style=\"text-align: right;\">2</td><td style=\"text-align: right;\">0.01</td><td style=\"text-align: right;\">32</td><td style=\"text-align: right;\">0.67</td><td style=\"text-align: right;\">146</td><td style=\"text-align: right;\">1.38</td><td style=\"text-align: right;\">0</td><td style=\"text-align: right;\">0.00</td><td style=\"text-align: right;\">484</td><td style=\"text-align: right;\">3.15</td><td style=\"text-align: right;\">56</td><td style=\"text-align: right;\">1.01</td><td style=\"text-align: right;\">45</td><td style=\"text-align: right;\">0.48</td></tr>\n",
       "</table>"
      ],
      "text/plain": [
       "<IPython.core.display.HTML object>"
      ]
     },
     "execution_count": 4,
     "metadata": {},
     "output_type": "execute_result"
    }
   ],
   "source": [
    "HTML(lct_plt_obj.get_html())"
   ]
  },
  {
   "cell_type": "markdown",
   "metadata": {},
   "source": [
    "<div style=\"width:700px\">\n",
    "<p>\n",
    "This table shows the plot data for the 11_765 superset plot.  Each matched series has a row\n",
    "in the table.  Series are ordered by the number of 1000 genomes chromosome samples that express\n",
    "the series.  Matches give the number of those samples selected for the plot that express the\n",
    "particular series.\n",
    "<p>\n",
    "For example the top line indicates that the 10 SNP series expressed by 2206 chromosome 2 samples\n",
    "is expressed by all 765 of the chromsomes samples that satisfied this plot's yes no criteria.\n",
    "Those samples were 35% of the total 2206 1000 genomes chromosome 2 samples that express the series\n",
    "10_2206.  Those samples were 100% of the 765 chromosome samples that satisfied this plot's yes no\n",
    "criteria.\n",
    "<p>\n",
    "Number of matches and relative population expression are broken out by population.  Both the\n",
    "African and South Asian populations are divided between those that came from the native area\n",
    "and those who live externally.  The data in this table was the reason for that choice.  The 32\n",
    "instances of 11_765 found in American Southwest and Caribbean African populations are very unlikely\n",
    "to have come from Africa and significantly over represent the frequency of lactase persistence\n",
    "in Afican populations.\n",
    "<p>\n",
    "For calculations of population overexpression chromosome samples that failed the no test\n",
    "were excluded from the population under consideration.  The relative expression calculation\n",
    "is based on a ratio of the samples that matched to the population size minus the samples that\n",
    "failed the no test.\n",
    "</div>"
   ]
  },
  {
   "cell_type": "markdown",
   "metadata": {},
   "source": [
    "<h3>Subset Plots</h3>\n",
    "<div style=\"width:700px\">\n",
    "<p>\n",
    "A subset plot starts with a test sample set and identifies series that are expressed by a\n",
    "subset of that sample set.  The samples that express each of the series in the result set\n",
    "must be a subset of the samples in the test set up to some match criterion.\n",
    "Generally, a 90% match criterion was used for these plots.\n",
    "</div>"
   ]
  },
  {
   "cell_type": "code",
   "execution_count": 5,
   "metadata": {
    "collapsed": false,
    "scrolled": false
   },
   "outputs": [
    {
     "data": {
      "text/html": [
       "\n",
       "\n",
       "    <div class=\"bk-root\">\n",
       "        <div class=\"plotdiv\" id=\"e2fd9da3-078d-4cbb-b886-d2d07fedad02\"></div>\n",
       "    </div>\n",
       "<script type=\"text/javascript\">\n",
       "  \n",
       "  (function(global) {\n",
       "    function now() {\n",
       "      return new Date();\n",
       "    }\n",
       "  \n",
       "    if (typeof (window._bokeh_onload_callbacks) === \"undefined\") {\n",
       "      window._bokeh_onload_callbacks = [];\n",
       "    }\n",
       "  \n",
       "    function run_callbacks() {\n",
       "      window._bokeh_onload_callbacks.forEach(function(callback) { callback() });\n",
       "      delete window._bokeh_onload_callbacks\n",
       "      console.info(\"Bokeh: all callbacks have finished\");\n",
       "    }\n",
       "  \n",
       "    function load_libs(js_urls, callback) {\n",
       "      window._bokeh_onload_callbacks.push(callback);\n",
       "      if (window._bokeh_is_loading > 0) {\n",
       "        console.log(\"Bokeh: BokehJS is being loaded, scheduling callback at\", now());\n",
       "        return null;\n",
       "      }\n",
       "      if (js_urls == null || js_urls.length === 0) {\n",
       "        run_callbacks();\n",
       "        return null;\n",
       "      }\n",
       "      console.log(\"Bokeh: BokehJS not loaded, scheduling load and callback at\", now());\n",
       "      window._bokeh_is_loading = js_urls.length;\n",
       "      for (var i = 0; i < js_urls.length; i++) {\n",
       "        var url = js_urls[i];\n",
       "        var s = document.createElement('script');\n",
       "        s.src = url;\n",
       "        s.async = false;\n",
       "        s.onreadystatechange = s.onload = function() {\n",
       "          window._bokeh_is_loading--;\n",
       "          if (window._bokeh_is_loading === 0) {\n",
       "            console.log(\"Bokeh: all BokehJS libraries loaded\");\n",
       "            run_callbacks()\n",
       "          }\n",
       "        };\n",
       "        s.onerror = function() {\n",
       "          console.warn(\"failed to load library \" + url);\n",
       "        };\n",
       "        console.log(\"Bokeh: injecting script tag for BokehJS library: \", url);\n",
       "        document.getElementsByTagName(\"head\")[0].appendChild(s);\n",
       "      }\n",
       "    };var element = document.getElementById(\"e2fd9da3-078d-4cbb-b886-d2d07fedad02\");\n",
       "    if (element == null) {\n",
       "      console.log(\"Bokeh: ERROR: autoload.js configured with elementid 'e2fd9da3-078d-4cbb-b886-d2d07fedad02' but no matching script tag was found. \")\n",
       "      return false;\n",
       "    }\n",
       "  \n",
       "    var js_urls = [];\n",
       "  \n",
       "    var inline_js = [\n",
       "      function(Bokeh) {\n",
       "        Bokeh.$(function() {\n",
       "            var docs_json = {\"73d8dc5c-711f-463d-8d37-bd83944ab80a\":{\"roots\":{\"references\":[{\"attributes\":{},\"id\":\"69fb29a1-d12f-47e8-99d8-e156198f1b60\",\"type\":\"BasicTicker\"},{\"attributes\":{\"callback\":null,\"column_names\":[\"y\",\"x\",\"vals\"],\"data\":{\"vals\":[\"RAB3GAP1\",\"ZRANB3\",\"R3HDM1\",\"UBXN4\",\"LCT\",\"MCM6\",\"DARS\"],\"x\":[135869057.0,136122878.0,136385961.0,136520911.0,136570082.5,136615621.5,136703738.0],\"y\":[2560.0,2560.0,2560.0,2560.0,2560.0,2560.0,2560.0]}},\"id\":\"060e197e-8755-45ea-952c-474f7d4a515b\",\"type\":\"ColumnDataSource\"},{\"attributes\":{\"plot\":{\"id\":\"82866285-3734-4ed2-bca7-f27db994b9a1\",\"subtype\":\"Figure\",\"type\":\"Plot\"}},\"id\":\"7392b99c-9c8a-4a6c-8803-0305ea5acc3d\",\"type\":\"ResetTool\"},{\"attributes\":{},\"id\":\"56c35506-493c-44a9-b064-80df67108580\",\"type\":\"BasicTickFormatter\"},{\"attributes\":{\"overlay\":{\"id\":\"09474573-ee3a-4c68-8e4c-2635925df7e8\",\"type\":\"BoxAnnotation\"},\"plot\":{\"id\":\"82866285-3734-4ed2-bca7-f27db994b9a1\",\"subtype\":\"Figure\",\"type\":\"Plot\"}},\"id\":\"3e8f0a11-b571-499b-8a97-eff5957a363e\",\"type\":\"BoxZoomTool\"},{\"attributes\":{\"callback\":null,\"column_names\":[\"right\",\"bottom\",\"top\",\"left\"],\"data\":{\"bottom\":[2545,2545,2545,2545,2545,2545,2545],\"left\":[135809835,135957574,136289083,136499189,136545415,136597196,136664254],\"right\":[135928279,136288182,136482839,136542633,136594750,136634047,136743222],\"top\":[2575,2575,2575,2575,2575,2575,2575]}},\"id\":\"ed08bd74-002c-4c41-b5d9-646df3caa32e\",\"type\":\"ColumnDataSource\"},{\"attributes\":{},\"id\":\"96e7a16d-9faf-4d57-89d5-b65c6c88dc78\",\"type\":\"BasicTickFormatter\"},{\"attributes\":{\"below\":[{\"id\":\"e1d89dc4-15de-4b38-b0da-2a1d8ca62b27\",\"type\":\"LinearAxis\"}],\"left\":[{\"id\":\"18213772-7de3-431b-9e9e-b396dba5cd3a\",\"type\":\"LinearAxis\"}],\"plot_height\":2600,\"plot_width\":900,\"renderers\":[{\"id\":\"e1d89dc4-15de-4b38-b0da-2a1d8ca62b27\",\"type\":\"LinearAxis\"},{\"id\":\"99beaa8f-b903-45ae-bdd2-ea415ee64c30\",\"type\":\"Grid\"},{\"id\":\"18213772-7de3-431b-9e9e-b396dba5cd3a\",\"type\":\"LinearAxis\"},{\"id\":\"7184f734-fa82-41fd-aa91-688e9c637f80\",\"type\":\"Grid\"},{\"id\":\"09474573-ee3a-4c68-8e4c-2635925df7e8\",\"type\":\"BoxAnnotation\"},{\"id\":\"75efc28e-2be3-46b8-8102-e030ca892119\",\"type\":\"GlyphRenderer\"},{\"id\":\"7b4c1dee-98e3-422e-973c-90be4fd9d818\",\"type\":\"GlyphRenderer\"},{\"id\":\"dae47b07-e63a-41dc-881f-1f4d9436dd10\",\"type\":\"LabelSet\"},{\"id\":\"a53b6aaa-4bae-4701-9aa9-b3881a17c1f2\",\"type\":\"GlyphRenderer\"},{\"id\":\"101c30c6-bb19-45dd-b25d-5877858e7c8c\",\"type\":\"LabelSet\"}],\"title\":{\"id\":\"7b264bee-7a81-4ce5-941f-e0a64eb64238\",\"type\":\"Title\"},\"tool_events\":{\"id\":\"4b1e121c-cf5d-4b9a-9c98-3d93515a5848\",\"type\":\"ToolEvents\"},\"toolbar\":{\"id\":\"c46d0e02-028c-44f8-9539-f65f52bdc6fa\",\"type\":\"Toolbar\"},\"toolbar_location\":null,\"x_range\":{\"id\":\"6b825e5b-fd98-41e1-b160-2601ec3845b4\",\"type\":\"Range1d\"},\"y_range\":{\"id\":\"87c4a122-d7b0-49f5-823f-b7f457b1a888\",\"type\":\"Range1d\"}},\"id\":\"82866285-3734-4ed2-bca7-f27db994b9a1\",\"subtype\":\"Figure\",\"type\":\"Plot\"},{\"attributes\":{\"formatter\":{\"id\":\"96e7a16d-9faf-4d57-89d5-b65c6c88dc78\",\"type\":\"BasicTickFormatter\"},\"plot\":{\"id\":\"82866285-3734-4ed2-bca7-f27db994b9a1\",\"subtype\":\"Figure\",\"type\":\"Plot\"},\"ticker\":{\"id\":\"3630fea6-d738-402d-aef4-291755f5c143\",\"type\":\"BasicTicker\"}},\"id\":\"e1d89dc4-15de-4b38-b0da-2a1d8ca62b27\",\"type\":\"LinearAxis\"},{\"attributes\":{\"plot\":null,\"text\":null},\"id\":\"7b264bee-7a81-4ce5-941f-e0a64eb64238\",\"type\":\"Title\"},{\"attributes\":{\"level\":\"glyph\",\"plot\":{\"id\":\"82866285-3734-4ed2-bca7-f27db994b9a1\",\"subtype\":\"Figure\",\"type\":\"Plot\"},\"source\":{\"id\":\"a8cfaf0a-e39d-4667-b1bd-b000d4a169f1\",\"type\":\"ColumnDataSource\"},\"text\":{\"field\":\"vals\"},\"text_font_size\":{\"value\":\"9pt\"},\"text_font_style\":\"bold\",\"x\":{\"field\":\"x\"},\"y\":{\"field\":\"y\"}},\"id\":\"dae47b07-e63a-41dc-881f-1f4d9436dd10\",\"type\":\"LabelSet\"},{\"attributes\":{\"bottom\":{\"field\":\"bottom\"},\"fill_alpha\":{\"value\":0.1},\"fill_color\":{\"value\":\"#1f77b4\"},\"left\":{\"field\":\"left\"},\"line_alpha\":{\"value\":0.1},\"line_color\":{\"value\":\"#1f77b4\"},\"right\":{\"field\":\"right\"},\"top\":{\"field\":\"top\"}},\"id\":\"bc86d49b-de95-4c54-9d3f-d565ca7feb6a\",\"type\":\"Quad\"},{\"attributes\":{\"data_source\":{\"id\":\"bb8f514b-e23a-4899-bce8-d2671365627f\",\"type\":\"ColumnDataSource\"},\"glyph\":{\"id\":\"a6e5a180-cba8-49b0-8322-452a16cd7644\",\"type\":\"Quad\"},\"hover_glyph\":null,\"nonselection_glyph\":{\"id\":\"f4e2cf50-9a42-47dc-b67c-29193384b5c2\",\"type\":\"Quad\"},\"selection_glyph\":null},\"id\":\"75efc28e-2be3-46b8-8102-e030ca892119\",\"type\":\"GlyphRenderer\"},{\"attributes\":{\"plot\":{\"id\":\"82866285-3734-4ed2-bca7-f27db994b9a1\",\"subtype\":\"Figure\",\"type\":\"Plot\"}},\"id\":\"9eb6c3ee-b5d0-4ac7-93a8-2a73baed24ba\",\"type\":\"WheelZoomTool\"},{\"attributes\":{\"bottom\":{\"field\":\"bottom\"},\"fill_alpha\":{\"value\":0.1},\"fill_color\":{\"value\":\"#1f77b4\"},\"left\":{\"field\":\"left\"},\"line_alpha\":{\"value\":0.1},\"line_color\":{\"value\":\"#1f77b4\"},\"right\":{\"field\":\"right\"},\"top\":{\"field\":\"top\"}},\"id\":\"f4e2cf50-9a42-47dc-b67c-29193384b5c2\",\"type\":\"Quad\"},{\"attributes\":{\"plot\":{\"id\":\"82866285-3734-4ed2-bca7-f27db994b9a1\",\"subtype\":\"Figure\",\"type\":\"Plot\"},\"ticker\":{\"id\":\"3630fea6-d738-402d-aef4-291755f5c143\",\"type\":\"BasicTicker\"}},\"id\":\"99beaa8f-b903-45ae-bdd2-ea415ee64c30\",\"type\":\"Grid\"},{\"attributes\":{\"formatter\":{\"id\":\"56c35506-493c-44a9-b064-80df67108580\",\"type\":\"BasicTickFormatter\"},\"plot\":{\"id\":\"82866285-3734-4ed2-bca7-f27db994b9a1\",\"subtype\":\"Figure\",\"type\":\"Plot\"},\"ticker\":{\"id\":\"69fb29a1-d12f-47e8-99d8-e156198f1b60\",\"type\":\"BasicTicker\"},\"visible\":null},\"id\":\"18213772-7de3-431b-9e9e-b396dba5cd3a\",\"type\":\"LinearAxis\"},{\"attributes\":{\"plot\":{\"id\":\"82866285-3734-4ed2-bca7-f27db994b9a1\",\"subtype\":\"Figure\",\"type\":\"Plot\"}},\"id\":\"0acdf03f-6390-465f-9e96-a05f8a1b6bd5\",\"type\":\"HelpTool\"},{\"attributes\":{\"bottom_units\":\"screen\",\"fill_alpha\":{\"value\":0.5},\"fill_color\":{\"value\":\"lightgrey\"},\"left_units\":\"screen\",\"level\":\"overlay\",\"line_alpha\":{\"value\":1.0},\"line_color\":{\"value\":\"black\"},\"line_dash\":[4,4],\"line_width\":{\"value\":2},\"plot\":null,\"render_mode\":\"css\",\"right_units\":\"screen\",\"top_units\":\"screen\"},\"id\":\"09474573-ee3a-4c68-8e4c-2635925df7e8\",\"type\":\"BoxAnnotation\"},{\"attributes\":{\"active_drag\":\"auto\",\"active_scroll\":\"auto\",\"active_tap\":\"auto\",\"tools\":[{\"id\":\"546117c7-0142-4729-8212-4ac1a367508e\",\"type\":\"PanTool\"},{\"id\":\"9eb6c3ee-b5d0-4ac7-93a8-2a73baed24ba\",\"type\":\"WheelZoomTool\"},{\"id\":\"3e8f0a11-b571-499b-8a97-eff5957a363e\",\"type\":\"BoxZoomTool\"},{\"id\":\"906c4662-5100-4d63-80f2-047470414efa\",\"type\":\"SaveTool\"},{\"id\":\"7392b99c-9c8a-4a6c-8803-0305ea5acc3d\",\"type\":\"ResetTool\"},{\"id\":\"0acdf03f-6390-465f-9e96-a05f8a1b6bd5\",\"type\":\"HelpTool\"}]},\"id\":\"c46d0e02-028c-44f8-9539-f65f52bdc6fa\",\"type\":\"Toolbar\"},{\"attributes\":{\"level\":\"glyph\",\"plot\":{\"id\":\"82866285-3734-4ed2-bca7-f27db994b9a1\",\"subtype\":\"Figure\",\"type\":\"Plot\"},\"source\":{\"id\":\"060e197e-8755-45ea-952c-474f7d4a515b\",\"type\":\"ColumnDataSource\"},\"text\":{\"field\":\"vals\"},\"text_align\":\"center\",\"text_baseline\":\"middle\",\"text_font_size\":{\"value\":\"8pt\"},\"x\":{\"field\":\"x\"},\"y\":{\"field\":\"y\"}},\"id\":\"101c30c6-bb19-45dd-b25d-5877858e7c8c\",\"type\":\"LabelSet\"},{\"attributes\":{\"callback\":null,\"column_names\":[\"y\",\"x\",\"vals\"],\"data\":{\"vals\":[\"193_843\",\"14_39\",\"6_19\",\"19_27\",\"7_90\",\"29_68\",\"4_91\",\"14_57\",\"8_267\",\"4_815\",\"10_25\",\"7_79\",\"9_29\",\"6_43\",\"4_38\",\"5_16\",\"15_27\",\"5_26\",\"6_946\",\"4_416\",\"6_713\",\"8_17\",\"6_19\",\"4_45\",\"4_27\",\"15_59\",\"4_49\",\"5_28\",\"15_25\",\"20_56\"],\"x\":[135759095,135763383,135765502,135770895,135772482,135775651,135789764,135814490,135818487,135839805,135840292,135846793,135865015,135884166,135894943,135899723,135909151,135921205,135964764,135977595,135989333,136013433,136037384,136133578,136288733,136404524,136405656,136568458,136595044,136654760],\"y\":[2395.0,1168.0,262.0,665.0,1875.0,1673.0,1976.0,1571.0,2085.0,2295.0,464.0,1774.0,966.0,1269.0,1068.0,61.0,765.0,565.0,2496.0,2189.0,2293.0,161.0,362.0,1369.0,865.0,1672.0,1470.0,965.0,564.0,1571.0]}},\"id\":\"a8cfaf0a-e39d-4667-b1bd-b000d4a169f1\",\"type\":\"ColumnDataSource\"},{\"attributes\":{},\"id\":\"4b1e121c-cf5d-4b9a-9c98-3d93515a5848\",\"type\":\"ToolEvents\"},{\"attributes\":{\"bottom\":{\"field\":\"bottom\"},\"fill_color\":{\"field\":\"fill_color\"},\"left\":{\"field\":\"left\"},\"line_color\":{\"value\":null},\"right\":{\"field\":\"right\"},\"top\":{\"field\":\"top\"}},\"id\":\"a6e5a180-cba8-49b0-8322-452a16cd7644\",\"type\":\"Quad\"},{\"attributes\":{\"callback\":null,\"end\":136786630,\"start\":135757320},\"id\":\"6b825e5b-fd98-41e1-b160-2601ec3845b4\",\"type\":\"Range1d\"},{\"attributes\":{\"plot\":{\"id\":\"82866285-3734-4ed2-bca7-f27db994b9a1\",\"subtype\":\"Figure\",\"type\":\"Plot\"}},\"id\":\"906c4662-5100-4d63-80f2-047470414efa\",\"type\":\"SaveTool\"},{\"attributes\":{\"dimension\":1,\"plot\":{\"id\":\"82866285-3734-4ed2-bca7-f27db994b9a1\",\"subtype\":\"Figure\",\"type\":\"Plot\"},\"ticker\":{\"id\":\"69fb29a1-d12f-47e8-99d8-e156198f1b60\",\"type\":\"BasicTicker\"}},\"id\":\"7184f734-fa82-41fd-aa91-688e9c637f80\",\"type\":\"Grid\"},{\"attributes\":{\"line_alpha\":{\"value\":0.1},\"line_color\":{\"value\":\"#1f77b4\"},\"xs\":{\"field\":\"xs\"},\"ys\":{\"field\":\"ys\"}},\"id\":\"8fc9abdf-71bd-40cd-94d1-9b8864749d90\",\"type\":\"MultiLine\"},{\"attributes\":{\"data_source\":{\"id\":\"a570fd32-ed32-41aa-a009-98b11d543b37\",\"type\":\"ColumnDataSource\"},\"glyph\":{\"id\":\"64cfede3-86cd-46ea-aefb-65e36b127668\",\"type\":\"MultiLine\"},\"hover_glyph\":null,\"nonselection_glyph\":{\"id\":\"8fc9abdf-71bd-40cd-94d1-9b8864749d90\",\"type\":\"MultiLine\"},\"selection_glyph\":null},\"id\":\"7b4c1dee-98e3-422e-973c-90be4fd9d818\",\"type\":\"GlyphRenderer\"},{\"attributes\":{\"line_color\":{\"field\":\"line_color\"},\"xs\":{\"field\":\"xs\"},\"ys\":{\"field\":\"ys\"}},\"id\":\"64cfede3-86cd-46ea-aefb-65e36b127668\",\"type\":\"MultiLine\"},{\"attributes\":{\"bottom\":{\"field\":\"bottom\"},\"fill_color\":{\"value\":\"white\"},\"left\":{\"field\":\"left\"},\"right\":{\"field\":\"right\"},\"top\":{\"field\":\"top\"}},\"id\":\"36fda631-a91e-480a-a88b-a3fbdc6b7729\",\"type\":\"Quad\"},{\"attributes\":{\"data_source\":{\"id\":\"ed08bd74-002c-4c41-b5d9-646df3caa32e\",\"type\":\"ColumnDataSource\"},\"glyph\":{\"id\":\"36fda631-a91e-480a-a88b-a3fbdc6b7729\",\"type\":\"Quad\"},\"hover_glyph\":null,\"nonselection_glyph\":{\"id\":\"bc86d49b-de95-4c54-9d3f-d565ca7feb6a\",\"type\":\"Quad\"},\"selection_glyph\":null},\"id\":\"a53b6aaa-4bae-4701-9aa9-b3881a17c1f2\",\"type\":\"GlyphRenderer\"},{\"attributes\":{\"callback\":null,\"column_names\":[\"right\",\"bottom\",\"top\",\"left\",\"fill_color\"],\"data\":{\"bottom\":[2350,1150,250,650,1850,1650,1950,1550,2050,2250,450,1750,950,1250,1050,50,750,550,2450,2150,2250,150,350,1350,850,1650,1450,950,550,1550],\"fill_color\":[\"#61c4c4\",\"#ff0000\",\"#ff0000\",\"#ff0000\",\"#61c4c4\",\"#00ffff\",\"#ff00ff\",\"#00ffff\",\"#c461c4\",\"#61c4c4\",\"#00ffff\",\"#ff00ff\",\"#61c4c4\",\"#00ffff\",\"#ff00ff\",\"#61c461\",\"#00ffff\",\"#00ff00\",\"#61c4c4\",\"#61c4c4\",\"#61c4c4\",\"#00ffff\",\"#00ffff\",\"#ff00ff\",\"#ff00ff\",\"#00ffff\",\"#00ffff\",\"#00ffff\",\"#00ffff\",\"#00ffff\"],\"left\":[135759095,135763383,135765502,135770895,135772482,135775651,135789764,135814490,135818487,135839805,135840292,135846793,135865015,135884166,135894943,135899723,135909151,135921205,135964764,135977595,135989333,136013433,136037384,136133578,136288733,136404524,136405656,136568458,136595044,136654760],\"right\":[136387299,136413708,136495203,136472859,136297530,136386433,136361452,136526302,136289565,135924467,136297937,136301292,136359190,136383923,136374009,136361863,136743819,136359940,136101132,136283799,136264631,136309466,136351327,136417202,136427580,136554557,136493649,136591308,136639556,136770767],\"top\":[2390,1163,257,660,1870,1668,1971,1566,2080,2290,459,1769,961,1264,1063,56,760,560,2491,2184,2288,156,357,1364,860,1667,1465,960,559,1566]}},\"id\":\"bb8f514b-e23a-4899-bce8-d2671365627f\",\"type\":\"ColumnDataSource\"},{\"attributes\":{\"callback\":null,\"end\":2600},\"id\":\"87c4a122-d7b0-49f5-823f-b7f457b1a888\",\"type\":\"Range1d\"},{\"attributes\":{\"plot\":{\"id\":\"82866285-3734-4ed2-bca7-f27db994b9a1\",\"subtype\":\"Figure\",\"type\":\"Plot\"}},\"id\":\"546117c7-0142-4729-8212-4ac1a367508e\",\"type\":\"PanTool\"},{\"attributes\":{},\"id\":\"3630fea6-d738-402d-aef4-291755f5c143\",\"type\":\"BasicTicker\"},{\"attributes\":{\"callback\":null,\"column_names\":[\"xs\",\"ys\",\"line_color\"],\"data\":{\"line_color\":[\"black\",\"black\",\"black\",\"black\",\"black\",\"black\",\"black\",\"black\",\"black\",\"black\",\"black\",\"black\",\"black\",\"black\",\"black\",\"black\",\"black\",\"black\",\"black\",\"black\",\"black\",\"black\",\"black\",\"black\",\"black\",\"black\",\"black\",\"black\",\"black\",\"black\",\"black\",\"black\",\"black\",\"black\",\"black\",\"black\",\"black\",\"black\",\"black\",\"black\",\"black\",\"black\",\"black\",\"black\",\"black\",\"black\",\"black\",\"black\",\"black\",\"black\",\"black\",\"black\",\"black\",\"black\",\"black\",\"black\",\"black\",\"black\",\"black\",\"black\",\"black\",\"black\",\"black\",\"black\",\"black\",\"black\",\"black\",\"black\",\"black\",\"black\",\"black\",\"black\",\"black\",\"black\",\"black\",\"black\",\"black\",\"black\",\"black\",\"black\",\"black\",\"black\",\"black\",\"black\",\"black\",\"black\",\"black\",\"black\",\"black\",\"black\",\"black\",\"black\",\"black\",\"black\",\"black\",\"black\",\"black\",\"black\",\"black\",\"black\",\"black\",\"black\",\"black\",\"black\",\"black\",\"black\",\"black\",\"black\",\"black\",\"black\",\"black\",\"black\",\"black\",\"black\",\"black\",\"black\",\"black\",\"black\",\"black\",\"black\",\"black\",\"black\",\"black\",\"black\",\"black\",\"black\",\"black\",\"black\",\"black\",\"black\",\"black\",\"black\",\"black\",\"black\",\"black\",\"black\",\"black\",\"black\",\"black\",\"black\",\"black\",\"black\",\"black\",\"black\",\"black\",\"black\",\"black\",\"black\",\"black\",\"black\",\"black\",\"black\",\"black\",\"black\",\"black\",\"black\",\"black\",\"black\",\"black\",\"black\",\"black\",\"black\",\"black\",\"black\",\"black\",\"black\",\"black\",\"black\",\"black\",\"black\",\"black\",\"black\",\"black\",\"black\",\"black\",\"black\",\"black\",\"black\",\"black\",\"black\",\"black\",\"black\",\"black\",\"black\",\"black\",\"black\",\"black\",\"black\",\"black\",\"black\",\"black\",\"black\",\"black\",\"black\",\"black\",\"black\",\"black\",\"black\",\"black\",\"black\",\"black\",\"black\",\"black\",\"black\",\"black\",\"black\",\"black\",\"black\",\"black\",\"black\",\"black\",\"black\",\"black\",\"black\",\"black\",\"black\",\"black\",\"black\",\"black\",\"black\",\"black\",\"black\",\"black\",\"black\",\"black\",\"black\",\"black\",\"black\",\"black\",\"black\",\"black\",\"black\",\"black\",\"black\",\"black\",\"black\",\"black\",\"black\",\"black\",\"black\",\"black\",\"black\",\"black\",\"black\",\"black\",\"black\",\"black\",\"black\",\"black\",\"black\",\"black\",\"black\",\"black\",\"black\",\"black\",\"black\",\"black\",\"black\",\"black\",\"black\",\"black\",\"black\",\"black\",\"black\",\"black\",\"black\",\"black\",\"black\",\"black\",\"black\",\"black\",\"black\",\"black\",\"black\",\"black\",\"black\",\"black\",\"black\",\"black\",\"black\",\"black\",\"black\",\"black\",\"black\",\"black\",\"black\",\"black\",\"black\",\"black\",\"black\",\"black\",\"black\",\"black\",\"black\",\"black\",\"black\",\"black\",\"black\",\"black\",\"black\",\"black\",\"black\",\"black\",\"black\",\"black\",\"black\",\"black\",\"black\",\"black\",\"black\",\"black\",\"black\",\"black\",\"black\",\"black\",\"black\",\"black\",\"black\",\"black\",\"black\",\"black\",\"black\",\"black\",\"black\",\"black\",\"black\",\"black\",\"black\",\"black\",\"black\",\"black\",\"black\",\"black\",\"black\",\"black\",\"black\",\"black\",\"black\",\"black\",\"black\",\"black\",\"black\",\"black\",\"black\",\"black\",\"black\",\"black\",\"black\",\"black\",\"black\",\"black\",\"black\",\"black\",\"black\",\"black\",\"black\",\"black\",\"black\",\"black\",\"black\",\"black\",\"black\",\"black\",\"black\",\"black\",\"black\",\"black\",\"black\",\"black\",\"black\",\"black\",\"black\",\"black\",\"black\",\"black\",\"black\",\"black\",\"black\",\"black\",\"black\",\"black\",\"black\",\"black\",\"black\",\"black\",\"black\",\"black\",\"black\",\"black\",\"black\",\"black\",\"black\",\"black\",\"black\",\"black\",\"black\",\"black\",\"black\",\"black\",\"black\",\"black\",\"black\",\"black\",\"black\",\"black\",\"black\",\"black\",\"black\",\"black\",\"black\",\"black\",\"black\",\"black\",\"black\",\"black\",\"black\",\"black\",\"black\",\"black\",\"black\",\"black\",\"black\",\"black\",\"black\",\"black\",\"black\",\"black\",\"black\",\"black\",\"black\",\"black\",\"black\",\"black\",\"black\",\"black\",\"black\",\"black\",\"black\",\"black\",\"black\",\"black\",\"black\",\"black\",\"black\",\"black\",\"black\",\"black\",\"black\",\"black\",\"black\",\"black\",\"black\",\"black\",\"black\",\"black\",\"black\"],\"xs\":[[135759095,135759095],[135767882,135767882],[135772049,135772049],[135773449,135773449],[135775786,135775786],[135776584,135776584],[135778239,135778239],[135781035,135781035],[135796302,135796302],[135803806,135803806],[135809572,135809572],[135812974,135812974],[135823042,135823042],[135825074,135825074],[135833521,135833521],[135851941,135851941],[135853900,135853900],[135854901,135854901],[135861310,135861310],[135866182,135866182],[135876308,135876308],[135887893,135887893],[135890608,135890608],[135899021,135899021],[135900539,135900539],[135912255,135912255],[135915414,135915414],[135918681,135918681],[135938999,135938999],[135946762,135946762],[135949064,135949064],[135949065,135949065],[135950240,135950240],[135954501,135954501],[135958940,135958940],[135960011,135960011],[135964572,135964572],[135971806,135971806],[135975598,135975598],[135978637,135978637],[135978792,135978792],[135980802,135980802],[135981130,135981130],[135984068,135984068],[135986636,135986636],[135987163,135987163],[135988186,135988186],[135992038,135992038],[135995885,135995885],[135996353,135996353],[135997275,135997275],[135998352,135998352],[135999189,135999189],[135999758,135999758],[136003597,136003597],[136007338,136007338],[136007529,136007529],[136009326,136009326],[136012313,136012313],[136019560,136019560],[136021007,136021007],[136027748,136027748],[136027809,136027809],[136031318,136031318],[136031551,136031551],[136034837,136034837],[136035510,136035510],[136042064,136042064],[136043293,136043293],[136045826,136045826],[136049992,136049992],[136052318,136052318],[136052770,136052770],[136053195,136053195],[136053599,136053599],[136055139,136055139],[136057643,136057643],[136060102,136060102],[136062586,136062586],[136062749,136062749],[136069870,136069870],[136070441,136070441],[136072754,136072754],[136074672,136074672],[136076275,136076275],[136081038,136081038],[136084661,136084661],[136085367,136085367],[136086897,136086897],[136088431,136088431],[136092485,136092485],[136093253,136093253],[136094478,136094478],[136102064,136102064],[136105186,136105186],[136108385,136108385],[136109851,136109851],[136112697,136112697],[136114228,136114228],[136119133,136119133],[136120174,136120174],[136127216,136127216],[136128254,136128254],[136131744,136131744],[136133109,136133109],[136136279,136136279],[136142490,136142490],[136145192,136145192],[136146053,136146053],[136146369,136146369],[136149565,136149565],[136149927,136149927],[136151774,136151774],[136154364,136154364],[136157752,136157752],[136158243,136158243],[136158644,136158644],[136158946,136158946],[136159843,136159843],[136160751,136160751],[136163870,136163870],[136168686,136168686],[136171386,136171386],[136172024,136172024],[136172820,136172820],[136172853,136172853],[136175034,136175034],[136176104,136176104],[136178761,136178761],[136180917,136180917],[136182160,136182160],[136182355,136182355],[136185950,136185950],[136188300,136188300],[136188480,136188480],[136188575,136188575],[136191286,136191286],[136191661,136191661],[136193839,136193839],[136197756,136197756],[136198645,136198645],[136201320,136201320],[136202976,136202976],[136203038,136203038],[136208730,136208730],[136211792,136211792],[136213050,136213050],[136213287,136213287],[136222634,136222634],[136225101,136225101],[136227710,136227710],[136228150,136228150],[136229697,136229697],[136232100,136232100],[136237994,136237994],[136249777,136249777],[136253514,136253514],[136254660,136254660],[136258254,136258254],[136262412,136262412],[136263071,136263071],[136263450,136263450],[136266335,136266335],[136268788,136268788],[136274236,136274236],[136276238,136276238],[136277664,136277664],[136283916,136283916],[136284779,136284779],[136287555,136287555],[136298035,136298035],[136300554,136300554],[136308555,136308555],[136309552,136309552],[136309779,136309779],[136310924,136310924],[136311867,136311867],[136312909,136312909],[136315932,136315932],[136321197,136321197],[136331435,136331435],[136337874,136337874],[136339552,136339552],[136340725,136340725],[136345038,136345038],[136349891,136349891],[136356227,136356227],[136366433,136366433],[136380723,136380723],[136382681,136382681],[136385683,136385683],[136386726,136386726],[136387299,136387299],[135763383,135763383],[135808469,135808469],[135812772,135812772],[135851258,135851258],[135879619,135879619],[135991227,135991227],[136086946,136086946],[136121658,136121658],[136268330,136268330],[136288403,136288403],[136327370,136327370],[136354915,136354915],[136377414,136377414],[136413708,136413708],[135765502,135765502],[135798070,135798070],[135888323,135888323],[135914679,135914679],[136236631,136236631],[136495203,136495203],[135770895,135770895],[135788761,135788761],[135914028,135914028],[135932117,135932117],[135941867,135941867],[136031650,136031650],[136052378,136052378],[136054898,136054898],[136072720,136072720],[136189373,136189373],[136199819,136199819],[136243868,136243868],[136250379,136250379],[136308156,136308156],[136356644,136356644],[136356780,136356780],[136378599,136378599],[136460006,136460006],[136472859,136472859],[135772482,135772482],[135793088,135793088],[135864263,135864263],[135968122,135968122],[136133347,136133347],[136195838,136195838],[136297530,136297530],[135775651,135775651],[135777732,135777732],[135779145,135779145],[135825162,135825162],[135853387,135853387],[135886701,135886701],[135901746,135901746],[135920793,135920793],[135924107,135924107],[135951948,135951948],[135953149,135953149],[135996950,135996950],[136031640,136031640],[136063883,136063883],[136088033,136088033],[136101810,136101810],[136120597,136120597],[136121955,136121955],[136133339,136133339],[136136019,136136019],[136146141,136146141],[136156284,136156284],[136170586,136170586],[136206965,136206965],[136208220,136208220],[136295474,136295474],[136313322,136313322],[136318299,136318299],[136386433,136386433],[135789764,135789764],[136270980,136270980],[136284018,136284018],[136361452,136361452],[135814490,135814490],[135914369,135914369],[136019085,136019085],[136066551,136066551],[136075959,136075959],[136168055,136168055],[136288529,136288529],[136363110,136363110],[136430243,136430243],[136456281,136456281],[136467920,136467920],[136470204,136470204],[136509047,136509047],[136526302,136526302],[135818487,135818487],[136048649,136048649],[136107286,136107286],[136127914,136127914],[136130497,136130497],[136268096,136268096],[136281880,136281880],[136289565,136289565],[135839805,135839805],[135866750,135866750],[135886744,135886744],[135924467,135924467],[135840292,135840292],[136117074,136117074],[136132205,136132205],[136143283,136143283],[136198550,136198550],[136231996,136231996],[136241393,136241393],[136245212,136245212],[136274821,136274821],[136297937,136297937],[135846793,135846793],[135864147,135864147],[135917251,135917251],[136122447,136122447],[136125763,136125763],[136139642,136139642],[136301292,136301292],[135865015,135865015],[135943870,135943870],[136009017,136009017],[136050001,136050001],[136069615,136069615],[136106501,136106501],[136291872,136291872],[136320044,136320044],[136359190,136359190],[135884166,135884166],[135890035,135890035],[135891704,135891704],[136204156,136204156],[136255174,136255174],[136383923,136383923],[135894943,135894943],[135904380,135904380],[135957184,135957184],[136374009,136374009],[135899723,135899723],[136011168,136011168],[136073238,136073238],[136257136,136257136],[136361863,136361863],[135909151,135909151],[135936211,135936211],[135941821,135941821],[135965619,135965619],[135989582,135989582],[136036308,136036308],[136147135,136147135],[136205718,136205718],[136240829,136240829],[136430802,136430802],[136480836,136480836],[136557544,136557544],[136649683,136649683],[136711179,136711179],[136743819,136743819],[135921205,135921205],[136019254,136019254],[136193596,136193596],[136212052,136212052],[136359940,136359940],[135964764,135964764],[135964765,135964765],[136099127,136099127],[136099650,136099650],[136100705,136100705],[136101132,136101132],[135977595,135977595],[136046086,136046086],[136100680,136100680],[136283799,136283799],[135989333,135989333],[136000304,136000304],[136030519,136030519],[136034836,136034836],[136125165,136125165],[136264631,136264631],[136013433,136013433],[136030238,136030238],[136057748,136057748],[136081967,136081967],[136195513,136195513],[136222413,136222413],[136290856,136290856],[136309466,136309466],[136037384,136037384],[136127320,136127320],[136179258,136179258],[136186301,136186301],[136276058,136276058],[136351327,136351327],[136133578,136133578],[136145422,136145422],[136150044,136150044],[136417202,136417202],[136288733,136288733],[136319062,136319062],[136324471,136324471],[136427580,136427580],[136404524,136404524],[136412395,136412395],[136422134,136422134],[136426688,136426688],[136426690,136426690],[136426692,136426692],[136446152,136446152],[136461620,136461620],[136481405,136481405],[136493913,136493913],[136498218,136498218],[136509470,136509470],[136523057,136523057],[136544108,136544108],[136554557,136554557],[136405656,136405656],[136480944,136480944],[136493424,136493424],[136493649,136493649],[136568458,136568458],[136573410,136573410],[136580950,136580950],[136586359,136586359],[136591308,136591308],[136595044,136595044],[136596592,136596592],[136598550,136598550],[136602293,136602293],[136602384,136602384],[136618869,136618869],[136619799,136619799],[136621573,136621573],[136624897,136624897],[136626115,136626115],[136628525,136628525],[136629839,136629839],[136630698,136630698],[136636801,136636801],[136639556,136639556],[136654760,136654760],[136660234,136660234],[136666899,136666899],[136666900,136666900],[136678320,136678320],[136684951,136684951],[136702944,136702944],[136717522,136717522],[136719684,136719684],[136726822,136726822],[136728353,136728353],[136741501,136741501],[136750334,136750334],[136755124,136755124],[136758216,136758216],[136765773,136765773],[136766165,136766165],[136766570,136766570],[136766635,136766635],[136770767,136770767]],\"ys\":[[2350,2390],[2350,2390],[2350,2390],[2350,2390],[2350,2390],[2350,2390],[2350,2390],[2350,2390],[2350,2390],[2350,2390],[2350,2390],[2350,2390],[2350,2390],[2350,2390],[2350,2390],[2350,2390],[2350,2390],[2350,2390],[2350,2390],[2350,2390],[2350,2390],[2350,2390],[2350,2390],[2350,2390],[2350,2390],[2350,2390],[2350,2390],[2350,2390],[2350,2390],[2350,2390],[2350,2390],[2350,2390],[2350,2390],[2350,2390],[2350,2390],[2350,2390],[2350,2390],[2350,2390],[2350,2390],[2350,2390],[2350,2390],[2350,2390],[2350,2390],[2350,2390],[2350,2390],[2350,2390],[2350,2390],[2350,2390],[2350,2390],[2350,2390],[2350,2390],[2350,2390],[2350,2390],[2350,2390],[2350,2390],[2350,2390],[2350,2390],[2350,2390],[2350,2390],[2350,2390],[2350,2390],[2350,2390],[2350,2390],[2350,2390],[2350,2390],[2350,2390],[2350,2390],[2350,2390],[2350,2390],[2350,2390],[2350,2390],[2350,2390],[2350,2390],[2350,2390],[2350,2390],[2350,2390],[2350,2390],[2350,2390],[2350,2390],[2350,2390],[2350,2390],[2350,2390],[2350,2390],[2350,2390],[2350,2390],[2350,2390],[2350,2390],[2350,2390],[2350,2390],[2350,2390],[2350,2390],[2350,2390],[2350,2390],[2350,2390],[2350,2390],[2350,2390],[2350,2390],[2350,2390],[2350,2390],[2350,2390],[2350,2390],[2350,2390],[2350,2390],[2350,2390],[2350,2390],[2350,2390],[2350,2390],[2350,2390],[2350,2390],[2350,2390],[2350,2390],[2350,2390],[2350,2390],[2350,2390],[2350,2390],[2350,2390],[2350,2390],[2350,2390],[2350,2390],[2350,2390],[2350,2390],[2350,2390],[2350,2390],[2350,2390],[2350,2390],[2350,2390],[2350,2390],[2350,2390],[2350,2390],[2350,2390],[2350,2390],[2350,2390],[2350,2390],[2350,2390],[2350,2390],[2350,2390],[2350,2390],[2350,2390],[2350,2390],[2350,2390],[2350,2390],[2350,2390],[2350,2390],[2350,2390],[2350,2390],[2350,2390],[2350,2390],[2350,2390],[2350,2390],[2350,2390],[2350,2390],[2350,2390],[2350,2390],[2350,2390],[2350,2390],[2350,2390],[2350,2390],[2350,2390],[2350,2390],[2350,2390],[2350,2390],[2350,2390],[2350,2390],[2350,2390],[2350,2390],[2350,2390],[2350,2390],[2350,2390],[2350,2390],[2350,2390],[2350,2390],[2350,2390],[2350,2390],[2350,2390],[2350,2390],[2350,2390],[2350,2390],[2350,2390],[2350,2390],[2350,2390],[2350,2390],[2350,2390],[2350,2390],[2350,2390],[2350,2390],[2350,2390],[2350,2390],[2350,2390],[2350,2390],[2350,2390],[2350,2390],[2350,2390],[2350,2390],[1150,1163],[1150,1163],[1150,1163],[1150,1163],[1150,1163],[1150,1163],[1150,1163],[1150,1163],[1150,1163],[1150,1163],[1150,1163],[1150,1163],[1150,1163],[1150,1163],[250,257],[250,257],[250,257],[250,257],[250,257],[250,257],[650,660],[650,660],[650,660],[650,660],[650,660],[650,660],[650,660],[650,660],[650,660],[650,660],[650,660],[650,660],[650,660],[650,660],[650,660],[650,660],[650,660],[650,660],[650,660],[1850,1870],[1850,1870],[1850,1870],[1850,1870],[1850,1870],[1850,1870],[1850,1870],[1650,1668],[1650,1668],[1650,1668],[1650,1668],[1650,1668],[1650,1668],[1650,1668],[1650,1668],[1650,1668],[1650,1668],[1650,1668],[1650,1668],[1650,1668],[1650,1668],[1650,1668],[1650,1668],[1650,1668],[1650,1668],[1650,1668],[1650,1668],[1650,1668],[1650,1668],[1650,1668],[1650,1668],[1650,1668],[1650,1668],[1650,1668],[1650,1668],[1650,1668],[1950,1971],[1950,1971],[1950,1971],[1950,1971],[1550,1566],[1550,1566],[1550,1566],[1550,1566],[1550,1566],[1550,1566],[1550,1566],[1550,1566],[1550,1566],[1550,1566],[1550,1566],[1550,1566],[1550,1566],[1550,1566],[2050,2080],[2050,2080],[2050,2080],[2050,2080],[2050,2080],[2050,2080],[2050,2080],[2050,2080],[2250,2290],[2250,2290],[2250,2290],[2250,2290],[450,459],[450,459],[450,459],[450,459],[450,459],[450,459],[450,459],[450,459],[450,459],[450,459],[1750,1769],[1750,1769],[1750,1769],[1750,1769],[1750,1769],[1750,1769],[1750,1769],[950,961],[950,961],[950,961],[950,961],[950,961],[950,961],[950,961],[950,961],[950,961],[1250,1264],[1250,1264],[1250,1264],[1250,1264],[1250,1264],[1250,1264],[1050,1063],[1050,1063],[1050,1063],[1050,1063],[50,56],[50,56],[50,56],[50,56],[50,56],[750,760],[750,760],[750,760],[750,760],[750,760],[750,760],[750,760],[750,760],[750,760],[750,760],[750,760],[750,760],[750,760],[750,760],[750,760],[550,560],[550,560],[550,560],[550,560],[550,560],[2450,2491],[2450,2491],[2450,2491],[2450,2491],[2450,2491],[2450,2491],[2150,2184],[2150,2184],[2150,2184],[2150,2184],[2250,2288],[2250,2288],[2250,2288],[2250,2288],[2250,2288],[2250,2288],[150,156],[150,156],[150,156],[150,156],[150,156],[150,156],[150,156],[150,156],[350,357],[350,357],[350,357],[350,357],[350,357],[350,357],[1350,1364],[1350,1364],[1350,1364],[1350,1364],[850,860],[850,860],[850,860],[850,860],[1650,1667],[1650,1667],[1650,1667],[1650,1667],[1650,1667],[1650,1667],[1650,1667],[1650,1667],[1650,1667],[1650,1667],[1650,1667],[1650,1667],[1650,1667],[1650,1667],[1650,1667],[1450,1465],[1450,1465],[1450,1465],[1450,1465],[950,960],[950,960],[950,960],[950,960],[950,960],[550,559],[550,559],[550,559],[550,559],[550,559],[550,559],[550,559],[550,559],[550,559],[550,559],[550,559],[550,559],[550,559],[550,559],[550,559],[1550,1566],[1550,1566],[1550,1566],[1550,1566],[1550,1566],[1550,1566],[1550,1566],[1550,1566],[1550,1566],[1550,1566],[1550,1566],[1550,1566],[1550,1566],[1550,1566],[1550,1566],[1550,1566],[1550,1566],[1550,1566],[1550,1566],[1550,1566]]}},\"id\":\"a570fd32-ed32-41aa-a009-98b11d543b37\",\"type\":\"ColumnDataSource\"}],\"root_ids\":[\"82866285-3734-4ed2-bca7-f27db994b9a1\"]},\"title\":\"Bokeh Application\",\"version\":\"0.12.0\"}};\n",
       "            var render_items = [{\"docid\":\"73d8dc5c-711f-463d-8d37-bd83944ab80a\",\"elementid\":\"e2fd9da3-078d-4cbb-b886-d2d07fedad02\",\"modelid\":\"82866285-3734-4ed2-bca7-f27db994b9a1\",\"notebook_comms_target\":\"0542bed6-8a44-466c-96c4-56db96e0c47f\"}];\n",
       "            \n",
       "            Bokeh.embed.embed_items(docs_json, render_items);\n",
       "        });\n",
       "      },\n",
       "      function(Bokeh) {\n",
       "      }\n",
       "    ];\n",
       "  \n",
       "    function run_inline_js() {\n",
       "      for (var i = 0; i < inline_js.length; i++) {\n",
       "        inline_js[i](window.Bokeh);\n",
       "      }\n",
       "    }\n",
       "  \n",
       "    if (window._bokeh_is_loading === 0) {\n",
       "      console.log(\"Bokeh: BokehJS loaded, going straight to plotting\");\n",
       "      run_inline_js();\n",
       "    } else {\n",
       "      load_libs(js_urls, function() {\n",
       "        console.log(\"Bokeh: BokehJS plotting callback run at\", now());\n",
       "        run_inline_js();\n",
       "      });\n",
       "    }\n",
       "  }(this));\n",
       "</script>"
      ]
     },
     "metadata": {},
     "output_type": "display_data"
    },
    {
     "data": {
      "text/html": [
       "<p><code>&lt;Bokeh Notebook handle for <strong>In[5]</strong>&gt;</code></p>"
      ],
      "text/plain": [
       "<bokeh.io._CommsHandle at 0x7f148b330f10>"
      ]
     },
     "execution_count": 5,
     "metadata": {},
     "output_type": "execute_result"
    }
   ],
   "source": [
    "plt_obj = dm.subset_yes_no([dm.di_193_843], min_match=0.8)\n",
    "plt = plt_obj.do_plot()\n",
    "show(plt)"
   ]
  },
  {
   "cell_type": "markdown",
   "metadata": {},
   "source": [
    "<div style=\"width:700px\">\n",
    "<p>\n",
    "The plot above shows series that are expressed by chromosome 2 samples that are subsets of\n",
    "the chromosome samples that express the series 193_843.  Those series are all part of the\n",
    "hierarchy that has been named the SAS tree.  The match criterion has been relaxed to 0.8\n",
    "because some of the chromosome samples that express the series 8_267 have experienced a\n",
    "recombination event that cause loss of enough 193_843 SNPs for those samples not to match\n",
    "193_843.\n",
    "</div>"
   ]
  },
  {
   "cell_type": "code",
   "execution_count": 6,
   "metadata": {
    "collapsed": false
   },
   "outputs": [
    {
     "data": {
      "text/html": [
       "<table>\n",
       "<thead><tr><th style=\"text-align:center\">index</th><th style=\"text-align:center\">first</th><th style=\"text-align:center\">length</th><th style=\"text-align:center\">snps</th><th style=\"text-align:center\" colspan=2>alleles</th><th style=\"text-align:center\" colspan=2>matches</th><th style=\"text-align:center\" colspan=2>afr</th><th style=\"text-align:center\" colspan=2>afx</th><th style=\"text-align:center\" colspan=2>amr</th><th style=\"text-align:center\" colspan=2>eas</th><th style=\"text-align:center\" colspan=2>eur</th><th style=\"text-align:center\" colspan=2>sas</th><th style=\"text-align:center\" colspan=2>sax</th></tr></thead>\n",
       "<tr class=\"even\"><td style=\"text-align: right;\">353504</td><td style=\"text-align: right;\">135,964,764</td><td style=\"text-align: right;\">136,368</td><td style=\"text-align: right;\">6</td><td style=\"text-align: right;\">946</td><td style=\"text-align: right;\">0.88</td><td style=\"text-align: right;\">832</td><td style=\"text-align: right;\">0.99</td><td style=\"text-align: right;\">78</td><td style=\"text-align: right;\">0.47</td><td style=\"text-align: right;\">26</td><td style=\"text-align: right;\">0.50</td><td style=\"text-align: right;\">141</td><td style=\"text-align: right;\">1.22</td><td style=\"text-align: right;\">165</td><td style=\"text-align: right;\">0.99</td><td style=\"text-align: right;\">82</td><td style=\"text-align: right;\">0.49</td><td style=\"text-align: right;\">114</td><td style=\"text-align: right;\">1.89</td><td style=\"text-align: right;\">226</td><td style=\"text-align: right;\">2.22</td></tr>\n",
       "<tr><td style=\"text-align: right;\">353248</td><td style=\"text-align: right;\">135,759,095</td><td style=\"text-align: right;\">628,204</td><td style=\"text-align: right;\">193</td><td style=\"text-align: right;\">843</td><td style=\"text-align: right;\">1.00</td><td style=\"text-align: right;\">843</td><td style=\"text-align: right;\">1.00</td><td style=\"text-align: right;\">79</td><td style=\"text-align: right;\">0.47</td><td style=\"text-align: right;\">26</td><td style=\"text-align: right;\">0.49</td><td style=\"text-align: right;\">143</td><td style=\"text-align: right;\">1.22</td><td style=\"text-align: right;\">167</td><td style=\"text-align: right;\">0.98</td><td style=\"text-align: right;\">83</td><td style=\"text-align: right;\">0.49</td><td style=\"text-align: right;\">117</td><td style=\"text-align: right;\">1.91</td><td style=\"text-align: right;\">228</td><td style=\"text-align: right;\">2.21</td></tr>\n",
       "<tr class=\"even\"><td style=\"text-align: right;\">353384</td><td style=\"text-align: right;\">135,839,805</td><td style=\"text-align: right;\">84,662</td><td style=\"text-align: right;\">4</td><td style=\"text-align: right;\">815</td><td style=\"text-align: right;\">0.82</td><td style=\"text-align: right;\">667</td><td style=\"text-align: right;\">0.79</td><td style=\"text-align: right;\">47</td><td style=\"text-align: right;\">0.35</td><td style=\"text-align: right;\">18</td><td style=\"text-align: right;\">0.43</td><td style=\"text-align: right;\">135</td><td style=\"text-align: right;\">1.46</td><td style=\"text-align: right;\">147</td><td style=\"text-align: right;\">1.09</td><td style=\"text-align: right;\">71</td><td style=\"text-align: right;\">0.53</td><td style=\"text-align: right;\">79</td><td style=\"text-align: right;\">1.63</td><td style=\"text-align: right;\">170</td><td style=\"text-align: right;\">2.08</td></tr>\n",
       "<tr><td style=\"text-align: right;\">353521</td><td style=\"text-align: right;\">135,989,333</td><td style=\"text-align: right;\">275,298</td><td style=\"text-align: right;\">6</td><td style=\"text-align: right;\">713</td><td style=\"text-align: right;\">0.94</td><td style=\"text-align: right;\">668</td><td style=\"text-align: right;\">0.79</td><td style=\"text-align: right;\">47</td><td style=\"text-align: right;\">0.35</td><td style=\"text-align: right;\">18</td><td style=\"text-align: right;\">0.43</td><td style=\"text-align: right;\">135</td><td style=\"text-align: right;\">1.46</td><td style=\"text-align: right;\">146</td><td style=\"text-align: right;\">1.09</td><td style=\"text-align: right;\">73</td><td style=\"text-align: right;\">0.54</td><td style=\"text-align: right;\">79</td><td style=\"text-align: right;\">1.63</td><td style=\"text-align: right;\">170</td><td style=\"text-align: right;\">2.08</td></tr>\n",
       "<tr class=\"even\"><td style=\"text-align: right;\">353511</td><td style=\"text-align: right;\">135,977,595</td><td style=\"text-align: right;\">306,204</td><td style=\"text-align: right;\">4</td><td style=\"text-align: right;\">416</td><td style=\"text-align: right;\">1.00</td><td style=\"text-align: right;\">415</td><td style=\"text-align: right;\">0.49</td><td style=\"text-align: right;\">33</td><td style=\"text-align: right;\">0.40</td><td style=\"text-align: right;\">9</td><td style=\"text-align: right;\">0.35</td><td style=\"text-align: right;\">77</td><td style=\"text-align: right;\">1.34</td><td style=\"text-align: right;\">96</td><td style=\"text-align: right;\">1.15</td><td style=\"text-align: right;\">24</td><td style=\"text-align: right;\">0.29</td><td style=\"text-align: right;\">53</td><td style=\"text-align: right;\">1.76</td><td style=\"text-align: right;\">123</td><td style=\"text-align: right;\">2.42</td></tr>\n",
       "<tr><td style=\"text-align: right;\">353358</td><td style=\"text-align: right;\">135,818,487</td><td style=\"text-align: right;\">471,078</td><td style=\"text-align: right;\">8</td><td style=\"text-align: right;\">267</td><td style=\"text-align: right;\">0.84</td><td style=\"text-align: right;\">223</td><td style=\"text-align: right;\">0.26</td><td style=\"text-align: right;\">1</td><td style=\"text-align: right;\">0.02</td><td style=\"text-align: right;\">3</td><td style=\"text-align: right;\">0.21</td><td style=\"text-align: right;\">56</td><td style=\"text-align: right;\">1.81</td><td style=\"text-align: right;\">47</td><td style=\"text-align: right;\">1.05</td><td style=\"text-align: right;\">48</td><td style=\"text-align: right;\">1.07</td><td style=\"text-align: right;\">24</td><td style=\"text-align: right;\">1.48</td><td style=\"text-align: right;\">44</td><td style=\"text-align: right;\">1.61</td></tr>\n",
       "<tr class=\"even\"><td style=\"text-align: right;\">353320</td><td style=\"text-align: right;\">135,789,764</td><td style=\"text-align: right;\">571,688</td><td style=\"text-align: right;\">4</td><td style=\"text-align: right;\">91</td><td style=\"text-align: right;\">1.00</td><td style=\"text-align: right;\">91</td><td style=\"text-align: right;\">0.11</td><td style=\"text-align: right;\">0</td><td style=\"text-align: right;\">0.00</td><td style=\"text-align: right;\">0</td><td style=\"text-align: right;\">0.00</td><td style=\"text-align: right;\">64</td><td style=\"text-align: right;\">5.08</td><td style=\"text-align: right;\">25</td><td style=\"text-align: right;\">1.36</td><td style=\"text-align: right;\">2</td><td style=\"text-align: right;\">0.11</td><td style=\"text-align: right;\">0</td><td style=\"text-align: right;\">0.00</td><td style=\"text-align: right;\">0</td><td style=\"text-align: right;\">0.00</td></tr>\n",
       "<tr><td style=\"text-align: right;\">353285</td><td style=\"text-align: right;\">135,772,482</td><td style=\"text-align: right;\">525,048</td><td style=\"text-align: right;\">7</td><td style=\"text-align: right;\">90</td><td style=\"text-align: right;\">1.00</td><td style=\"text-align: right;\">90</td><td style=\"text-align: right;\">0.11</td><td style=\"text-align: right;\">24</td><td style=\"text-align: right;\">1.32</td><td style=\"text-align: right;\">3</td><td style=\"text-align: right;\">0.53</td><td style=\"text-align: right;\">1</td><td style=\"text-align: right;\">0.08</td><td style=\"text-align: right;\">19</td><td style=\"text-align: right;\">1.05</td><td style=\"text-align: right;\">0</td><td style=\"text-align: right;\">0.00</td><td style=\"text-align: right;\">17</td><td style=\"text-align: right;\">2.60</td><td style=\"text-align: right;\">26</td><td style=\"text-align: right;\">2.36</td></tr>\n",
       "<tr class=\"even\"><td style=\"text-align: right;\">353396</td><td style=\"text-align: right;\">135,846,793</td><td style=\"text-align: right;\">454,499</td><td style=\"text-align: right;\">7</td><td style=\"text-align: right;\">79</td><td style=\"text-align: right;\">1.00</td><td style=\"text-align: right;\">79</td><td style=\"text-align: right;\">0.09</td><td style=\"text-align: right;\">0</td><td style=\"text-align: right;\">0.00</td><td style=\"text-align: right;\">0</td><td style=\"text-align: right;\">0.00</td><td style=\"text-align: right;\">66</td><td style=\"text-align: right;\">6.03</td><td style=\"text-align: right;\">11</td><td style=\"text-align: right;\">0.69</td><td style=\"text-align: right;\">2</td><td style=\"text-align: right;\">0.13</td><td style=\"text-align: right;\">0</td><td style=\"text-align: right;\">0.00</td><td style=\"text-align: right;\">0</td><td style=\"text-align: right;\">0.00</td></tr>\n",
       "<tr><td style=\"text-align: right;\">353292</td><td style=\"text-align: right;\">135,775,651</td><td style=\"text-align: right;\">610,782</td><td style=\"text-align: right;\">29</td><td style=\"text-align: right;\">68</td><td style=\"text-align: right;\">1.00</td><td style=\"text-align: right;\">68</td><td style=\"text-align: right;\">0.08</td><td style=\"text-align: right;\">1</td><td style=\"text-align: right;\">0.07</td><td style=\"text-align: right;\">1</td><td style=\"text-align: right;\">0.23</td><td style=\"text-align: right;\">5</td><td style=\"text-align: right;\">0.53</td><td style=\"text-align: right;\">0</td><td style=\"text-align: right;\">0.00</td><td style=\"text-align: right;\">10</td><td style=\"text-align: right;\">0.73</td><td style=\"text-align: right;\">20</td><td style=\"text-align: right;\">4.05</td><td style=\"text-align: right;\">31</td><td style=\"text-align: right;\">3.72</td></tr>\n",
       "<tr class=\"even\"><td style=\"text-align: right;\">353809</td><td style=\"text-align: right;\">136,404,524</td><td style=\"text-align: right;\">150,033</td><td style=\"text-align: right;\">15</td><td style=\"text-align: right;\">59</td><td style=\"text-align: right;\">0.92</td><td style=\"text-align: right;\">54</td><td style=\"text-align: right;\">0.06</td><td style=\"text-align: right;\">0</td><td style=\"text-align: right;\">0.00</td><td style=\"text-align: right;\">0</td><td style=\"text-align: right;\">0.00</td><td style=\"text-align: right;\">2</td><td style=\"text-align: right;\">0.27</td><td style=\"text-align: right;\">1</td><td style=\"text-align: right;\">0.09</td><td style=\"text-align: right;\">9</td><td style=\"text-align: right;\">0.83</td><td style=\"text-align: right;\">16</td><td style=\"text-align: right;\">4.08</td><td style=\"text-align: right;\">26</td><td style=\"text-align: right;\">3.93</td></tr>\n",
       "<tr><td style=\"text-align: right;\">353355</td><td style=\"text-align: right;\">135,814,490</td><td style=\"text-align: right;\">711,812</td><td style=\"text-align: right;\">14</td><td style=\"text-align: right;\">57</td><td style=\"text-align: right;\">1.00</td><td style=\"text-align: right;\">57</td><td style=\"text-align: right;\">0.07</td><td style=\"text-align: right;\">0</td><td style=\"text-align: right;\">0.00</td><td style=\"text-align: right;\">0</td><td style=\"text-align: right;\">0.00</td><td style=\"text-align: right;\">0</td><td style=\"text-align: right;\">0.00</td><td style=\"text-align: right;\">16</td><td style=\"text-align: right;\">1.39</td><td style=\"text-align: right;\">0</td><td style=\"text-align: right;\">0.00</td><td style=\"text-align: right;\">18</td><td style=\"text-align: right;\">4.34</td><td style=\"text-align: right;\">23</td><td style=\"text-align: right;\">3.29</td></tr>\n",
       "<tr class=\"even\"><td style=\"text-align: right;\">354133</td><td style=\"text-align: right;\">136,654,760</td><td style=\"text-align: right;\">116,007</td><td style=\"text-align: right;\">20</td><td style=\"text-align: right;\">56</td><td style=\"text-align: right;\">0.80</td><td style=\"text-align: right;\">45</td><td style=\"text-align: right;\">0.05</td><td style=\"text-align: right;\">1</td><td style=\"text-align: right;\">0.11</td><td style=\"text-align: right;\">2</td><td style=\"text-align: right;\">0.71</td><td style=\"text-align: right;\">0</td><td style=\"text-align: right;\">0.00</td><td style=\"text-align: right;\">9</td><td style=\"text-align: right;\">0.99</td><td style=\"text-align: right;\">1</td><td style=\"text-align: right;\">0.11</td><td style=\"text-align: right;\">9</td><td style=\"text-align: right;\">2.75</td><td style=\"text-align: right;\">23</td><td style=\"text-align: right;\">4.17</td></tr>\n",
       "<tr><td style=\"text-align: right;\">353811</td><td style=\"text-align: right;\">136,405,656</td><td style=\"text-align: right;\">87,993</td><td style=\"text-align: right;\">4</td><td style=\"text-align: right;\">49</td><td style=\"text-align: right;\">1.00</td><td style=\"text-align: right;\">49</td><td style=\"text-align: right;\">0.06</td><td style=\"text-align: right;\">0</td><td style=\"text-align: right;\">0.00</td><td style=\"text-align: right;\">0</td><td style=\"text-align: right;\">0.00</td><td style=\"text-align: right;\">0</td><td style=\"text-align: right;\">0.00</td><td style=\"text-align: right;\">0</td><td style=\"text-align: right;\">0.00</td><td style=\"text-align: right;\">0</td><td style=\"text-align: right;\">0.00</td><td style=\"text-align: right;\">17</td><td style=\"text-align: right;\">4.77</td><td style=\"text-align: right;\">32</td><td style=\"text-align: right;\">5.33</td></tr>\n",
       "<tr class=\"even\"><td style=\"text-align: right;\">353626</td><td style=\"text-align: right;\">136,133,578</td><td style=\"text-align: right;\">283,624</td><td style=\"text-align: right;\">4</td><td style=\"text-align: right;\">45</td><td style=\"text-align: right;\">1.00</td><td style=\"text-align: right;\">45</td><td style=\"text-align: right;\">0.05</td><td style=\"text-align: right;\">0</td><td style=\"text-align: right;\">0.00</td><td style=\"text-align: right;\">0</td><td style=\"text-align: right;\">0.00</td><td style=\"text-align: right;\">40</td><td style=\"text-align: right;\">6.41</td><td style=\"text-align: right;\">0</td><td style=\"text-align: right;\">0.00</td><td style=\"text-align: right;\">0</td><td style=\"text-align: right;\">0.00</td><td style=\"text-align: right;\">1</td><td style=\"text-align: right;\">0.31</td><td style=\"text-align: right;\">4</td><td style=\"text-align: right;\">0.73</td></tr>\n",
       "<tr><td style=\"text-align: right;\">353437</td><td style=\"text-align: right;\">135,884,166</td><td style=\"text-align: right;\">499,757</td><td style=\"text-align: right;\">6</td><td style=\"text-align: right;\">43</td><td style=\"text-align: right;\">1.00</td><td style=\"text-align: right;\">43</td><td style=\"text-align: right;\">0.05</td><td style=\"text-align: right;\">0</td><td style=\"text-align: right;\">0.00</td><td style=\"text-align: right;\">0</td><td style=\"text-align: right;\">0.00</td><td style=\"text-align: right;\">1</td><td style=\"text-align: right;\">0.17</td><td style=\"text-align: right;\">0</td><td style=\"text-align: right;\">0.00</td><td style=\"text-align: right;\">12</td><td style=\"text-align: right;\">1.39</td><td style=\"text-align: right;\">9</td><td style=\"text-align: right;\">2.88</td><td style=\"text-align: right;\">21</td><td style=\"text-align: right;\">3.98</td></tr>\n",
       "<tr class=\"even\"><td style=\"text-align: right;\">353262</td><td style=\"text-align: right;\">135,763,383</td><td style=\"text-align: right;\">650,325</td><td style=\"text-align: right;\">14</td><td style=\"text-align: right;\">39</td><td style=\"text-align: right;\">1.00</td><td style=\"text-align: right;\">39</td><td style=\"text-align: right;\">0.05</td><td style=\"text-align: right;\">30</td><td style=\"text-align: right;\">3.82</td><td style=\"text-align: right;\">6</td><td style=\"text-align: right;\">2.45</td><td style=\"text-align: right;\">3</td><td style=\"text-align: right;\">0.56</td><td style=\"text-align: right;\">0</td><td style=\"text-align: right;\">0.00</td><td style=\"text-align: right;\">0</td><td style=\"text-align: right;\">0.00</td><td style=\"text-align: right;\">0</td><td style=\"text-align: right;\">0.00</td><td style=\"text-align: right;\">0</td><td style=\"text-align: right;\">0.00</td></tr>\n",
       "<tr><td style=\"text-align: right;\">353450</td><td style=\"text-align: right;\">135,894,943</td><td style=\"text-align: right;\">479,066</td><td style=\"text-align: right;\">4</td><td style=\"text-align: right;\">38</td><td style=\"text-align: right;\">1.00</td><td style=\"text-align: right;\">38</td><td style=\"text-align: right;\">0.05</td><td style=\"text-align: right;\">0</td><td style=\"text-align: right;\">0.00</td><td style=\"text-align: right;\">0</td><td style=\"text-align: right;\">0.00</td><td style=\"text-align: right;\">38</td><td style=\"text-align: right;\">7.22</td><td style=\"text-align: right;\">0</td><td style=\"text-align: right;\">0.00</td><td style=\"text-align: right;\">0</td><td style=\"text-align: right;\">0.00</td><td style=\"text-align: right;\">0</td><td style=\"text-align: right;\">0.00</td><td style=\"text-align: right;\">0</td><td style=\"text-align: right;\">0.00</td></tr>\n",
       "<tr class=\"even\"><td style=\"text-align: right;\">353413</td><td style=\"text-align: right;\">135,865,015</td><td style=\"text-align: right;\">494,175</td><td style=\"text-align: right;\">9</td><td style=\"text-align: right;\">29</td><td style=\"text-align: right;\">1.00</td><td style=\"text-align: right;\">29</td><td style=\"text-align: right;\">0.03</td><td style=\"text-align: right;\">2</td><td style=\"text-align: right;\">0.34</td><td style=\"text-align: right;\">0</td><td style=\"text-align: right;\">0.00</td><td style=\"text-align: right;\">7</td><td style=\"text-align: right;\">1.74</td><td style=\"text-align: right;\">0</td><td style=\"text-align: right;\">0.00</td><td style=\"text-align: right;\">7</td><td style=\"text-align: right;\">1.20</td><td style=\"text-align: right;\">4</td><td style=\"text-align: right;\">1.90</td><td style=\"text-align: right;\">9</td><td style=\"text-align: right;\">2.53</td></tr>\n",
       "<tr><td style=\"text-align: right;\">353998</td><td style=\"text-align: right;\">136,568,458</td><td style=\"text-align: right;\">22,850</td><td style=\"text-align: right;\">5</td><td style=\"text-align: right;\">28</td><td style=\"text-align: right;\">0.82</td><td style=\"text-align: right;\">23</td><td style=\"text-align: right;\">0.03</td><td style=\"text-align: right;\">1</td><td style=\"text-align: right;\">0.22</td><td style=\"text-align: right;\">1</td><td style=\"text-align: right;\">0.69</td><td style=\"text-align: right;\">0</td><td style=\"text-align: right;\">0.00</td><td style=\"text-align: right;\">1</td><td style=\"text-align: right;\">0.22</td><td style=\"text-align: right;\">1</td><td style=\"text-align: right;\">0.22</td><td style=\"text-align: right;\">8</td><td style=\"text-align: right;\">4.79</td><td style=\"text-align: right;\">11</td><td style=\"text-align: right;\">3.90</td></tr>\n",
       "<tr class=\"even\"><td style=\"text-align: right;\">353719</td><td style=\"text-align: right;\">136,288,733</td><td style=\"text-align: right;\">138,847</td><td style=\"text-align: right;\">4</td><td style=\"text-align: right;\">27</td><td style=\"text-align: right;\">1.00</td><td style=\"text-align: right;\">27</td><td style=\"text-align: right;\">0.03</td><td style=\"text-align: right;\">0</td><td style=\"text-align: right;\">0.00</td><td style=\"text-align: right;\">0</td><td style=\"text-align: right;\">0.00</td><td style=\"text-align: right;\">24</td><td style=\"text-align: right;\">6.41</td><td style=\"text-align: right;\">1</td><td style=\"text-align: right;\">0.18</td><td style=\"text-align: right;\">2</td><td style=\"text-align: right;\">0.37</td><td style=\"text-align: right;\">0</td><td style=\"text-align: right;\">0.00</td><td style=\"text-align: right;\">0</td><td style=\"text-align: right;\">0.00</td></tr>\n",
       "<tr><td style=\"text-align: right;\">353459</td><td style=\"text-align: right;\">135,909,151</td><td style=\"text-align: right;\">834,668</td><td style=\"text-align: right;\">15</td><td style=\"text-align: right;\">27</td><td style=\"text-align: right;\">1.00</td><td style=\"text-align: right;\">27</td><td style=\"text-align: right;\">0.03</td><td style=\"text-align: right;\">0</td><td style=\"text-align: right;\">0.00</td><td style=\"text-align: right;\">0</td><td style=\"text-align: right;\">0.00</td><td style=\"text-align: right;\">0</td><td style=\"text-align: right;\">0.00</td><td style=\"text-align: right;\">0</td><td style=\"text-align: right;\">0.00</td><td style=\"text-align: right;\">0</td><td style=\"text-align: right;\">0.00</td><td style=\"text-align: right;\">13</td><td style=\"text-align: right;\">6.62</td><td style=\"text-align: right;\">14</td><td style=\"text-align: right;\">4.23</td></tr>\n",
       "<tr class=\"even\"><td style=\"text-align: right;\">353280</td><td style=\"text-align: right;\">135,770,895</td><td style=\"text-align: right;\">701,964</td><td style=\"text-align: right;\">19</td><td style=\"text-align: right;\">27</td><td style=\"text-align: right;\">1.00</td><td style=\"text-align: right;\">27</td><td style=\"text-align: right;\">0.03</td><td style=\"text-align: right;\">23</td><td style=\"text-align: right;\">4.23</td><td style=\"text-align: right;\">3</td><td style=\"text-align: right;\">1.77</td><td style=\"text-align: right;\">1</td><td style=\"text-align: right;\">0.27</td><td style=\"text-align: right;\">0</td><td style=\"text-align: right;\">0.00</td><td style=\"text-align: right;\">0</td><td style=\"text-align: right;\">0.00</td><td style=\"text-align: right;\">0</td><td style=\"text-align: right;\">0.00</td><td style=\"text-align: right;\">0</td><td style=\"text-align: right;\">0.00</td></tr>\n",
       "<tr><td style=\"text-align: right;\">353468</td><td style=\"text-align: right;\">135,921,205</td><td style=\"text-align: right;\">438,735</td><td style=\"text-align: right;\">5</td><td style=\"text-align: right;\">26</td><td style=\"text-align: right;\">1.00</td><td style=\"text-align: right;\">26</td><td style=\"text-align: right;\">0.03</td><td style=\"text-align: right;\">0</td><td style=\"text-align: right;\">0.00</td><td style=\"text-align: right;\">2</td><td style=\"text-align: right;\">1.23</td><td style=\"text-align: right;\">3</td><td style=\"text-align: right;\">0.83</td><td style=\"text-align: right;\">0</td><td style=\"text-align: right;\">0.00</td><td style=\"text-align: right;\">15</td><td style=\"text-align: right;\">2.87</td><td style=\"text-align: right;\">2</td><td style=\"text-align: right;\">1.06</td><td style=\"text-align: right;\">4</td><td style=\"text-align: right;\">1.25</td></tr>\n",
       "<tr class=\"even\"><td style=\"text-align: right;\">354047</td><td style=\"text-align: right;\">136,595,044</td><td style=\"text-align: right;\">44,512</td><td style=\"text-align: right;\">15</td><td style=\"text-align: right;\">25</td><td style=\"text-align: right;\">0.80</td><td style=\"text-align: right;\">20</td><td style=\"text-align: right;\">0.02</td><td style=\"text-align: right;\">1</td><td style=\"text-align: right;\">0.25</td><td style=\"text-align: right;\">2</td><td style=\"text-align: right;\">1.59</td><td style=\"text-align: right;\">0</td><td style=\"text-align: right;\">0.00</td><td style=\"text-align: right;\">1</td><td style=\"text-align: right;\">0.25</td><td style=\"text-align: right;\">1</td><td style=\"text-align: right;\">0.25</td><td style=\"text-align: right;\">6</td><td style=\"text-align: right;\">4.13</td><td style=\"text-align: right;\">9</td><td style=\"text-align: right;\">3.67</td></tr>\n",
       "<tr><td style=\"text-align: right;\">353386</td><td style=\"text-align: right;\">135,840,292</td><td style=\"text-align: right;\">457,645</td><td style=\"text-align: right;\">10</td><td style=\"text-align: right;\">25</td><td style=\"text-align: right;\">0.96</td><td style=\"text-align: right;\">24</td><td style=\"text-align: right;\">0.03</td><td style=\"text-align: right;\">0</td><td style=\"text-align: right;\">0.00</td><td style=\"text-align: right;\">0</td><td style=\"text-align: right;\">0.00</td><td style=\"text-align: right;\">2</td><td style=\"text-align: right;\">0.60</td><td style=\"text-align: right;\">0</td><td style=\"text-align: right;\">0.00</td><td style=\"text-align: right;\">6</td><td style=\"text-align: right;\">1.24</td><td style=\"text-align: right;\">8</td><td style=\"text-align: right;\">4.59</td><td style=\"text-align: right;\">8</td><td style=\"text-align: right;\">2.72</td></tr>\n",
       "<tr class=\"even\"><td style=\"text-align: right;\">353568</td><td style=\"text-align: right;\">136,037,384</td><td style=\"text-align: right;\">313,943</td><td style=\"text-align: right;\">6</td><td style=\"text-align: right;\">19</td><td style=\"text-align: right;\">1.00</td><td style=\"text-align: right;\">19</td><td style=\"text-align: right;\">0.02</td><td style=\"text-align: right;\">0</td><td style=\"text-align: right;\">0.00</td><td style=\"text-align: right;\">0</td><td style=\"text-align: right;\">0.00</td><td style=\"text-align: right;\">3</td><td style=\"text-align: right;\">1.14</td><td style=\"text-align: right;\">0</td><td style=\"text-align: right;\">0.00</td><td style=\"text-align: right;\">4</td><td style=\"text-align: right;\">1.05</td><td style=\"text-align: right;\">2</td><td style=\"text-align: right;\">1.45</td><td style=\"text-align: right;\">10</td><td style=\"text-align: right;\">4.29</td></tr>\n",
       "<tr><td style=\"text-align: right;\">353266</td><td style=\"text-align: right;\">135,765,502</td><td style=\"text-align: right;\">729,701</td><td style=\"text-align: right;\">6</td><td style=\"text-align: right;\">19</td><td style=\"text-align: right;\">1.00</td><td style=\"text-align: right;\">19</td><td style=\"text-align: right;\">0.02</td><td style=\"text-align: right;\">15</td><td style=\"text-align: right;\">3.92</td><td style=\"text-align: right;\">4</td><td style=\"text-align: right;\">3.36</td><td style=\"text-align: right;\">0</td><td style=\"text-align: right;\">0.00</td><td style=\"text-align: right;\">0</td><td style=\"text-align: right;\">0.00</td><td style=\"text-align: right;\">0</td><td style=\"text-align: right;\">0.00</td><td style=\"text-align: right;\">0</td><td style=\"text-align: right;\">0.00</td><td style=\"text-align: right;\">0</td><td style=\"text-align: right;\">0.00</td></tr>\n",
       "<tr class=\"even\"><td style=\"text-align: right;\">353548</td><td style=\"text-align: right;\">136,013,433</td><td style=\"text-align: right;\">296,033</td><td style=\"text-align: right;\">8</td><td style=\"text-align: right;\">17</td><td style=\"text-align: right;\">0.88</td><td style=\"text-align: right;\">15</td><td style=\"text-align: right;\">0.02</td><td style=\"text-align: right;\">0</td><td style=\"text-align: right;\">0.00</td><td style=\"text-align: right;\">0</td><td style=\"text-align: right;\">0.00</td><td style=\"text-align: right;\">0</td><td style=\"text-align: right;\">0.00</td><td style=\"text-align: right;\">0</td><td style=\"text-align: right;\">0.00</td><td style=\"text-align: right;\">0</td><td style=\"text-align: right;\">0.00</td><td style=\"text-align: right;\">7</td><td style=\"text-align: right;\">6.42</td><td style=\"text-align: right;\">8</td><td style=\"text-align: right;\">4.35</td></tr>\n",
       "<tr><td style=\"text-align: right;\">353456</td><td style=\"text-align: right;\">135,899,723</td><td style=\"text-align: right;\">462,140</td><td style=\"text-align: right;\">5</td><td style=\"text-align: right;\">16</td><td style=\"text-align: right;\">1.00</td><td style=\"text-align: right;\">16</td><td style=\"text-align: right;\">0.02</td><td style=\"text-align: right;\">0</td><td style=\"text-align: right;\">0.00</td><td style=\"text-align: right;\">0</td><td style=\"text-align: right;\">0.00</td><td style=\"text-align: right;\">4</td><td style=\"text-align: right;\">1.80</td><td style=\"text-align: right;\">0</td><td style=\"text-align: right;\">0.00</td><td style=\"text-align: right;\">7</td><td style=\"text-align: right;\">2.18</td><td style=\"text-align: right;\">0</td><td style=\"text-align: right;\">0.00</td><td style=\"text-align: right;\">5</td><td style=\"text-align: right;\">2.55</td></tr>\n",
       "</table>"
      ],
      "text/plain": [
       "<IPython.core.display.HTML object>"
      ]
     },
     "execution_count": 6,
     "metadata": {},
     "output_type": "execute_result"
    }
   ],
   "source": [
    "HTML(plt_obj.get_html())"
   ]
  },
  {
   "cell_type": "markdown",
   "metadata": {},
   "source": [
    "<div style=\"width:700px\">\n",
    "<p>\n",
    "The data in the table above shows 19 series where 100% of the chromsome samples that\n",
    "express the series also express 193_843.\n",
    "<p>\n",
    "Three other series, 4_815, 6_713, and 8_267,\n",
    "are of particular interest.  All three are contained within the interval of chromosome 2\n",
    "covered by 193_843.  Recombination events that lose association with 193_843\n",
    "must be somewhere within the DNA covered by the 193_843 series.  More than 80% of the\n",
    "chromosome samples that express any of the three series also express 193_843.  But a\n",
    "signficant number of those chromosomes samples do not.\n",
    "<p>\n",
    "The reasons are two recombination events that are analyszed in the part of this notebook\n",
    "focused on allele masks.  One involved a chromosome that expressed the series 8_267 and\n",
    "6_713.  It resulted from a recombination event that lost the last 23 SNPs of 193_843.\n",
    "The result of that recombination event became overexpressed through a selection \n",
    "process associated with the appearance of the series 9_39.\n",
    "<p>\n",
    "The other recombination event involved a chromosome that expressed 193_843 and the\n",
    "other major series that form the root of the SAS tree with a chromosome that expressed\n",
    "the series 5_684 that is a major component of the EAS tree hierarchy.  That recombination\n",
    "event resulted in a number of overexpressed variations on the association of 4_815\n",
    "and 5_684 that appear to have conferred some kind of selecrtive advantage on the\n",
    "recombinant chromosomes.\n",
    "<p>\n",
    "Another class of cases include 15_59, 20_56, 5_28, and 5_25.  All of these series\n",
    "cover parts of the studied region of chromosome 2 that are beyond the\n",
    "end of 193_843.  As is commonly the case hierarchies selected by these series have\n",
    "experienced recombination events between the more stable lower part of the region\n",
    "and the less stable upper part.\n",
    "<p>\n",
    "The two other cases are the series 10_25 and 8_17.  Both have experienced recombination\n",
    "events within the region covered by 193_843.  But neither case has generated an\n",
    "overexpressed result.\n",
    "</div>"
   ]
  },
  {
   "cell_type": "markdown",
   "metadata": {},
   "source": [
    "<h3>Basis Plots</h3>\n",
    "<div style=\"width:700px\">\n",
    "<p>\n",
    "A basis plot is used to match samples to the most specific series in an hierarchy\n",
    "that the samples express.  Basis filtering can be used in combination with yes no comparisons\n",
    "to explore recombination events for samples that express particular parts of an hierarchy.\n",
    "</div>"
   ]
  },
  {
   "cell_type": "code",
   "execution_count": 7,
   "metadata": {
    "collapsed": false
   },
   "outputs": [
    {
     "data": {
      "text/html": [
       "\n",
       "\n",
       "    <div class=\"bk-root\">\n",
       "        <div class=\"plotdiv\" id=\"f580705e-eba9-4acc-bcef-8d52ee0c7ccd\"></div>\n",
       "    </div>\n",
       "<script type=\"text/javascript\">\n",
       "  \n",
       "  (function(global) {\n",
       "    function now() {\n",
       "      return new Date();\n",
       "    }\n",
       "  \n",
       "    if (typeof (window._bokeh_onload_callbacks) === \"undefined\") {\n",
       "      window._bokeh_onload_callbacks = [];\n",
       "    }\n",
       "  \n",
       "    function run_callbacks() {\n",
       "      window._bokeh_onload_callbacks.forEach(function(callback) { callback() });\n",
       "      delete window._bokeh_onload_callbacks\n",
       "      console.info(\"Bokeh: all callbacks have finished\");\n",
       "    }\n",
       "  \n",
       "    function load_libs(js_urls, callback) {\n",
       "      window._bokeh_onload_callbacks.push(callback);\n",
       "      if (window._bokeh_is_loading > 0) {\n",
       "        console.log(\"Bokeh: BokehJS is being loaded, scheduling callback at\", now());\n",
       "        return null;\n",
       "      }\n",
       "      if (js_urls == null || js_urls.length === 0) {\n",
       "        run_callbacks();\n",
       "        return null;\n",
       "      }\n",
       "      console.log(\"Bokeh: BokehJS not loaded, scheduling load and callback at\", now());\n",
       "      window._bokeh_is_loading = js_urls.length;\n",
       "      for (var i = 0; i < js_urls.length; i++) {\n",
       "        var url = js_urls[i];\n",
       "        var s = document.createElement('script');\n",
       "        s.src = url;\n",
       "        s.async = false;\n",
       "        s.onreadystatechange = s.onload = function() {\n",
       "          window._bokeh_is_loading--;\n",
       "          if (window._bokeh_is_loading === 0) {\n",
       "            console.log(\"Bokeh: all BokehJS libraries loaded\");\n",
       "            run_callbacks()\n",
       "          }\n",
       "        };\n",
       "        s.onerror = function() {\n",
       "          console.warn(\"failed to load library \" + url);\n",
       "        };\n",
       "        console.log(\"Bokeh: injecting script tag for BokehJS library: \", url);\n",
       "        document.getElementsByTagName(\"head\")[0].appendChild(s);\n",
       "      }\n",
       "    };var element = document.getElementById(\"f580705e-eba9-4acc-bcef-8d52ee0c7ccd\");\n",
       "    if (element == null) {\n",
       "      console.log(\"Bokeh: ERROR: autoload.js configured with elementid 'f580705e-eba9-4acc-bcef-8d52ee0c7ccd' but no matching script tag was found. \")\n",
       "      return false;\n",
       "    }\n",
       "  \n",
       "    var js_urls = [];\n",
       "  \n",
       "    var inline_js = [\n",
       "      function(Bokeh) {\n",
       "        Bokeh.$(function() {\n",
       "            var docs_json = {\"f7e1c666-d7ff-40cd-855e-f27cde9b26d4\":{\"roots\":{\"references\":[{\"attributes\":{\"below\":[{\"id\":\"5b23921f-a9d9-4030-bb13-232138878d31\",\"type\":\"LinearAxis\"}],\"left\":[{\"id\":\"932d425d-663e-4498-90ad-7cfc6440f263\",\"type\":\"LinearAxis\"}],\"plot_height\":1038,\"plot_width\":900,\"renderers\":[{\"id\":\"5b23921f-a9d9-4030-bb13-232138878d31\",\"type\":\"LinearAxis\"},{\"id\":\"e206d324-c510-44b2-9f42-448b1bb38dfc\",\"type\":\"Grid\"},{\"id\":\"932d425d-663e-4498-90ad-7cfc6440f263\",\"type\":\"LinearAxis\"},{\"id\":\"203056aa-c946-4529-b9d4-dab7f3557991\",\"type\":\"Grid\"},{\"id\":\"dd6ba7ee-21c7-4ccd-8ace-f018f0f49626\",\"type\":\"BoxAnnotation\"},{\"id\":\"e22f8b8f-06e3-4109-a4ee-18c69ea1c492\",\"type\":\"GlyphRenderer\"},{\"id\":\"6eda9be3-74c9-45f2-8a06-aa9b637d926a\",\"type\":\"GlyphRenderer\"},{\"id\":\"1358b8d7-1521-4995-bd79-b7e424e33345\",\"type\":\"LabelSet\"},{\"id\":\"dd896ed4-e486-4065-be0e-378f61ed3631\",\"type\":\"LabelSet\"},{\"id\":\"70ced82b-4c50-43d7-bc10-b38f3b8ec5ae\",\"type\":\"LabelSet\"},{\"id\":\"7f317579-35e5-4e47-a9be-63cf8d6a0ae2\",\"type\":\"GlyphRenderer\"},{\"id\":\"61e5bbbe-c998-4347-9e81-6e7b27d54ced\",\"type\":\"LabelSet\"}],\"title\":{\"id\":\"20182110-8a4c-4502-83b7-a225cf4b0265\",\"type\":\"Title\"},\"tool_events\":{\"id\":\"4bceca63-6819-437f-8164-7aab77b4751c\",\"type\":\"ToolEvents\"},\"toolbar\":{\"id\":\"5d868ecc-9466-4080-9751-5acdce361cd5\",\"type\":\"Toolbar\"},\"toolbar_location\":null,\"x_range\":{\"id\":\"abc8a862-3183-4883-b3b1-cadf57655575\",\"type\":\"Range1d\"},\"y_range\":{\"id\":\"45a6363e-5830-4747-a03f-80794ea40cbb\",\"type\":\"Range1d\"}},\"id\":\"b86b095b-a714-4c54-a01e-7ec939298cce\",\"subtype\":\"Figure\",\"type\":\"Plot\"},{\"attributes\":{\"plot\":{\"id\":\"b86b095b-a714-4c54-a01e-7ec939298cce\",\"subtype\":\"Figure\",\"type\":\"Plot\"}},\"id\":\"4b2501ab-d5b9-4f99-a6a4-b9d7dde2e3d9\",\"type\":\"WheelZoomTool\"},{\"attributes\":{\"data_source\":{\"id\":\"ec82a720-9aa0-4678-b52f-475067065c0e\",\"type\":\"ColumnDataSource\"},\"glyph\":{\"id\":\"c876cd2e-3bac-4b04-9feb-29f272009969\",\"type\":\"MultiLine\"},\"hover_glyph\":null,\"nonselection_glyph\":{\"id\":\"11d93059-7899-4140-9320-4d47e792f0b5\",\"type\":\"MultiLine\"},\"selection_glyph\":null},\"id\":\"6eda9be3-74c9-45f2-8a06-aa9b637d926a\",\"type\":\"GlyphRenderer\"},{\"attributes\":{\"bottom\":{\"field\":\"bottom\"},\"fill_color\":{\"field\":\"fill_color\"},\"left\":{\"field\":\"left\"},\"line_color\":{\"value\":null},\"right\":{\"field\":\"right\"},\"top\":{\"field\":\"top\"}},\"id\":\"612dbec3-f7a2-4c70-909a-85a15ee285fa\",\"type\":\"Quad\"},{\"attributes\":{\"plot\":{\"id\":\"b86b095b-a714-4c54-a01e-7ec939298cce\",\"subtype\":\"Figure\",\"type\":\"Plot\"},\"ticker\":{\"id\":\"e9f2320c-3b43-4ad3-9987-622e31dbd8c5\",\"type\":\"BasicTicker\"}},\"id\":\"e206d324-c510-44b2-9f42-448b1bb38dfc\",\"type\":\"Grid\"},{\"attributes\":{},\"id\":\"84766f77-0d7a-4754-b3c6-8870fb34d7f2\",\"type\":\"BasicTicker\"},{\"attributes\":{\"callback\":null,\"end\":136786630,\"start\":135757320},\"id\":\"abc8a862-3183-4883-b3b1-cadf57655575\",\"type\":\"Range1d\"},{\"attributes\":{\"line_color\":{\"field\":\"line_color\"},\"xs\":{\"field\":\"xs\"},\"ys\":{\"field\":\"ys\"}},\"id\":\"c876cd2e-3bac-4b04-9feb-29f272009969\",\"type\":\"MultiLine\"},{\"attributes\":{\"data_source\":{\"id\":\"966e3341-6760-4499-aef2-fad591bb1150\",\"type\":\"ColumnDataSource\"},\"glyph\":{\"id\":\"612dbec3-f7a2-4c70-909a-85a15ee285fa\",\"type\":\"Quad\"},\"hover_glyph\":null,\"nonselection_glyph\":{\"id\":\"973a0efb-1996-4c84-bcb3-3e77ed18ba6f\",\"type\":\"Quad\"},\"selection_glyph\":null},\"id\":\"e22f8b8f-06e3-4109-a4ee-18c69ea1c492\",\"type\":\"GlyphRenderer\"},{\"attributes\":{\"overlay\":{\"id\":\"dd6ba7ee-21c7-4ccd-8ace-f018f0f49626\",\"type\":\"BoxAnnotation\"},\"plot\":{\"id\":\"b86b095b-a714-4c54-a01e-7ec939298cce\",\"subtype\":\"Figure\",\"type\":\"Plot\"}},\"id\":\"d21f70ff-c36f-466f-99cc-910f3144e56b\",\"type\":\"BoxZoomTool\"},{\"attributes\":{\"level\":\"glyph\",\"plot\":{\"id\":\"b86b095b-a714-4c54-a01e-7ec939298cce\",\"subtype\":\"Figure\",\"type\":\"Plot\"},\"source\":{\"id\":\"b4572075-942c-480e-91b9-c7440de29813\",\"type\":\"ColumnDataSource\"},\"text\":{\"field\":\"vals\"},\"text_font_size\":{\"value\":\"9pt\"},\"text_font_style\":\"bold\",\"x\":{\"field\":\"x\"},\"y\":{\"field\":\"y\"}},\"id\":\"1358b8d7-1521-4995-bd79-b7e424e33345\",\"type\":\"LabelSet\"},{\"attributes\":{\"callback\":null,\"column_names\":[\"right\",\"bottom\",\"top\",\"left\"],\"data\":{\"bottom\":[983,983,983,983,983,983,983],\"left\":[135809835,135957574,136289083,136499189,136545415,136597196,136664254],\"right\":[135928279,136288182,136482839,136542633,136594750,136634047,136743222],\"top\":[1013,1013,1013,1013,1013,1013,1013]}},\"id\":\"6b94570e-2814-484b-b4df-435402c556f2\",\"type\":\"ColumnDataSource\"},{\"attributes\":{\"plot\":{\"id\":\"b86b095b-a714-4c54-a01e-7ec939298cce\",\"subtype\":\"Figure\",\"type\":\"Plot\"}},\"id\":\"12f597bd-6877-4428-9694-22a026d7ecc4\",\"type\":\"ResetTool\"},{\"attributes\":{\"callback\":null,\"column_names\":[\"right\",\"bottom\",\"top\",\"left\",\"fill_color\"],\"data\":{\"bottom\":[50,86,122,158,196,232,268,304,340,382,428,464,500,536,572,608,677,713,749,803,839,875,911],\"fill_color\":[\"#ff0000\",\"#ff00ff\",\"#00ff00\",\"#ffff00\",\"#ffff00\",\"#61c461\",\"#ff0000\",\"#ff0000\",\"#ff00ff\",\"#00ff00\",\"#00ff00\",\"#c4c461\",\"#ffff00\",\"#c46161\",\"#c46161\",\"#00ff00\",\"#61c4c4\",\"#808080\",\"#00ff00\",\"#808080\",\"#808080\",\"#808080\",\"#61c461\"],\"left\":[136504541,136243714,136039834,135786061,136687844,136648736,136608339,135759628,135859157,135889881,136560126,136596162,136651773,136605402,136603638,135837906,136514709,136494985,136092061,136556805,136652491,136652953,136398174],\"right\":[136528224,136351532,136349562,136586684,136709809,136762850,136738273,136443550,135980938,136382936,136742080,136785729,136774627,136624686,136632125,136707982,136543147,136773638,136407479,136747085,136732772,136761175,136474098],\"top\":[56,92,128,166,202,238,274,310,352,398,434,470,506,542,578,647,683,719,773,809,845,881,938]}},\"id\":\"966e3341-6760-4499-aef2-fad591bb1150\",\"type\":\"ColumnDataSource\"},{\"attributes\":{\"level\":\"glyph\",\"plot\":{\"id\":\"b86b095b-a714-4c54-a01e-7ec939298cce\",\"subtype\":\"Figure\",\"type\":\"Plot\"},\"source\":{\"id\":\"2138dc26-a89f-4778-85f3-fa8cba7da1db\",\"type\":\"ColumnDataSource\"},\"text\":{\"field\":\"vals\"},\"text_align\":\"center\",\"text_baseline\":\"middle\",\"text_font_size\":{\"value\":\"8pt\"},\"x\":{\"field\":\"x\"},\"y\":{\"field\":\"y\"}},\"id\":\"61e5bbbe-c998-4347-9e81-6e7b27d54ced\",\"type\":\"LabelSet\"},{\"attributes\":{},\"id\":\"e9f2320c-3b43-4ad3-9987-622e31dbd8c5\",\"type\":\"BasicTicker\"},{\"attributes\":{\"level\":\"glyph\",\"plot\":{\"id\":\"b86b095b-a714-4c54-a01e-7ec939298cce\",\"subtype\":\"Figure\",\"type\":\"Plot\"},\"source\":{\"id\":\"97c54109-0c56-4e36-a3a3-0c3d4e7fee89\",\"type\":\"ColumnDataSource\"},\"text\":{\"field\":\"vals\"},\"text_baseline\":\"middle\",\"text_font_size\":{\"value\":\"9pt\"},\"text_font_style\":\"bold\",\"x\":{\"field\":\"x\"},\"y\":{\"field\":\"y\"}},\"id\":\"70ced82b-4c50-43d7-bc10-b38f3b8ec5ae\",\"type\":\"LabelSet\"},{\"attributes\":{\"plot\":{\"id\":\"b86b095b-a714-4c54-a01e-7ec939298cce\",\"subtype\":\"Figure\",\"type\":\"Plot\"}},\"id\":\"390bce6d-1d2c-4eb4-93a8-10ebf67d79c3\",\"type\":\"SaveTool\"},{\"attributes\":{\"level\":\"glyph\",\"plot\":{\"id\":\"b86b095b-a714-4c54-a01e-7ec939298cce\",\"subtype\":\"Figure\",\"type\":\"Plot\"},\"source\":{\"id\":\"acb2143c-efba-4a9b-9b48-746e4beb8831\",\"type\":\"ColumnDataSource\"},\"text\":{\"field\":\"vals\"},\"text_align\":\"right\",\"text_baseline\":\"middle\",\"text_font_size\":{\"value\":\"9pt\"},\"text_font_style\":\"bold\",\"x\":{\"field\":\"x\"},\"y\":{\"field\":\"y\"}},\"id\":\"dd896ed4-e486-4065-be0e-378f61ed3631\",\"type\":\"LabelSet\"},{\"attributes\":{\"line_alpha\":{\"value\":0.1},\"line_color\":{\"value\":\"#1f77b4\"},\"xs\":{\"field\":\"xs\"},\"ys\":{\"field\":\"ys\"}},\"id\":\"11d93059-7899-4140-9320-4d47e792f0b5\",\"type\":\"MultiLine\"},{\"attributes\":{\"formatter\":{\"id\":\"2ac81cae-3930-47c6-831c-d795227d4606\",\"type\":\"BasicTickFormatter\"},\"plot\":{\"id\":\"b86b095b-a714-4c54-a01e-7ec939298cce\",\"subtype\":\"Figure\",\"type\":\"Plot\"},\"ticker\":{\"id\":\"84766f77-0d7a-4754-b3c6-8870fb34d7f2\",\"type\":\"BasicTicker\"},\"visible\":null},\"id\":\"932d425d-663e-4498-90ad-7cfc6440f263\",\"type\":\"LinearAxis\"},{\"attributes\":{\"active_drag\":\"auto\",\"active_scroll\":\"auto\",\"active_tap\":\"auto\",\"tools\":[{\"id\":\"3edaed5d-9b55-4619-9064-14c3a508c05b\",\"type\":\"PanTool\"},{\"id\":\"4b2501ab-d5b9-4f99-a6a4-b9d7dde2e3d9\",\"type\":\"WheelZoomTool\"},{\"id\":\"d21f70ff-c36f-466f-99cc-910f3144e56b\",\"type\":\"BoxZoomTool\"},{\"id\":\"390bce6d-1d2c-4eb4-93a8-10ebf67d79c3\",\"type\":\"SaveTool\"},{\"id\":\"12f597bd-6877-4428-9694-22a026d7ecc4\",\"type\":\"ResetTool\"},{\"id\":\"6c80d2b7-a8f0-4b5f-94bc-be1a5345c8d0\",\"type\":\"HelpTool\"}]},\"id\":\"5d868ecc-9466-4080-9751-5acdce361cd5\",\"type\":\"Toolbar\"},{\"attributes\":{\"bottom\":{\"field\":\"bottom\"},\"fill_color\":{\"value\":\"white\"},\"left\":{\"field\":\"left\"},\"right\":{\"field\":\"right\"},\"top\":{\"field\":\"top\"}},\"id\":\"e1fd152f-8ffb-4d80-8953-38b8ec6e0d91\",\"type\":\"Quad\"},{\"attributes\":{\"bottom_units\":\"screen\",\"fill_alpha\":{\"value\":0.5},\"fill_color\":{\"value\":\"lightgrey\"},\"left_units\":\"screen\",\"level\":\"overlay\",\"line_alpha\":{\"value\":1.0},\"line_color\":{\"value\":\"black\"},\"line_dash\":[4,4],\"line_width\":{\"value\":2},\"plot\":null,\"render_mode\":\"css\",\"right_units\":\"screen\",\"top_units\":\"screen\"},\"id\":\"dd6ba7ee-21c7-4ccd-8ace-f018f0f49626\",\"type\":\"BoxAnnotation\"},{\"attributes\":{\"callback\":null,\"end\":1038},\"id\":\"45a6363e-5830-4747-a03f-80794ea40cbb\",\"type\":\"Range1d\"},{\"attributes\":{\"dimension\":1,\"plot\":{\"id\":\"b86b095b-a714-4c54-a01e-7ec939298cce\",\"subtype\":\"Figure\",\"type\":\"Plot\"},\"ticker\":{\"id\":\"84766f77-0d7a-4754-b3c6-8870fb34d7f2\",\"type\":\"BasicTicker\"}},\"id\":\"203056aa-c946-4529-b9d4-dab7f3557991\",\"type\":\"Grid\"},{\"attributes\":{},\"id\":\"4bceca63-6819-437f-8164-7aab77b4751c\",\"type\":\"ToolEvents\"},{\"attributes\":{\"callback\":null,\"column_names\":[\"y\",\"x\",\"vals\"],\"data\":{\"vals\":[\"4_17\",\"5_18\",\"7_20\",\"7_22\",\"4_25\",\"4_26\",\"7_31\",\"12_32\",\"6_35\",\"6_57\",\"4_57\",\"17_137\",\"51_176\",\"8_328\",\"16_511\",\"11_765\",\"6_820\",\"81_857\",\"4_911\",\"39_1014\",\"6_1114\",\"5_1296\",\"26_1414\"],\"x\":[136504541,136243714,136039834,135786061,136687844,136648736,136608339,135759628,135859157,135889881,136560126,136596162,136651773,136605402,136603638,135837906,136514709,136494985,136092061,136556805,136652491,136652953,136398174],\"y\":[61.0,97.0,133.0,171.0,207.0,243.0,279.0,315.0,357.0,403.0,439.0,475.0,511.0,547.0,583.0,652.0,688.0,724.0,778.0,814.0,850.0,886.0,943.0]}},\"id\":\"b4572075-942c-480e-91b9-c7440de29813\",\"type\":\"ColumnDataSource\"},{\"attributes\":{\"bottom\":{\"field\":\"bottom\"},\"fill_alpha\":{\"value\":0.1},\"fill_color\":{\"value\":\"#1f77b4\"},\"left\":{\"field\":\"left\"},\"line_alpha\":{\"value\":0.1},\"line_color\":{\"value\":\"#1f77b4\"},\"right\":{\"field\":\"right\"},\"top\":{\"field\":\"top\"}},\"id\":\"d9a9afe5-124a-45c2-968a-a968b9c2c165\",\"type\":\"Quad\"},{\"attributes\":{\"data_source\":{\"id\":\"6b94570e-2814-484b-b4df-435402c556f2\",\"type\":\"ColumnDataSource\"},\"glyph\":{\"id\":\"e1fd152f-8ffb-4d80-8953-38b8ec6e0d91\",\"type\":\"Quad\"},\"hover_glyph\":null,\"nonselection_glyph\":{\"id\":\"d9a9afe5-124a-45c2-968a-a968b9c2c165\",\"type\":\"Quad\"},\"selection_glyph\":null},\"id\":\"7f317579-35e5-4e47-a9be-63cf8d6a0ae2\",\"type\":\"GlyphRenderer\"},{\"attributes\":{},\"id\":\"2ac81cae-3930-47c6-831c-d795227d4606\",\"type\":\"BasicTickFormatter\"},{\"attributes\":{\"callback\":null,\"column_names\":[\"y\",\"x\",\"vals\"],\"data\":{\"vals\":[\"RAB3GAP1\",\"ZRANB3\",\"R3HDM1\",\"UBXN4\",\"LCT\",\"MCM6\",\"DARS\"],\"x\":[135869057.0,136122878.0,136385961.0,136520911.0,136570082.5,136615621.5,136703738.0],\"y\":[998.0,998.0,998.0,998.0,998.0,998.0,998.0]}},\"id\":\"2138dc26-a89f-4778-85f3-fa8cba7da1db\",\"type\":\"ColumnDataSource\"},{\"attributes\":{\"plot\":{\"id\":\"b86b095b-a714-4c54-a01e-7ec939298cce\",\"subtype\":\"Figure\",\"type\":\"Plot\"}},\"id\":\"3edaed5d-9b55-4619-9064-14c3a508c05b\",\"type\":\"PanTool\"},{\"attributes\":{},\"id\":\"c346117d-69b4-49df-b4c8-923720e82204\",\"type\":\"BasicTickFormatter\"},{\"attributes\":{\"plot\":{\"id\":\"b86b095b-a714-4c54-a01e-7ec939298cce\",\"subtype\":\"Figure\",\"type\":\"Plot\"}},\"id\":\"6c80d2b7-a8f0-4b5f-94bc-be1a5345c8d0\",\"type\":\"HelpTool\"},{\"attributes\":{\"callback\":null,\"column_names\":[\"y\",\"x\",\"vals\"],\"data\":{\"vals\":[\"1\",\"3\",\"2\",\"2\",\"3\"],\"x\":[136637300,136584726,136640337,136483549,136641517],\"y\":[235,467,503,716,878]}},\"id\":\"acb2143c-efba-4a9b-9b48-746e4beb8831\",\"type\":\"ColumnDataSource\"},{\"attributes\":{\"bottom\":{\"field\":\"bottom\"},\"fill_alpha\":{\"value\":0.1},\"fill_color\":{\"value\":\"#1f77b4\"},\"left\":{\"field\":\"left\"},\"line_alpha\":{\"value\":0.1},\"line_color\":{\"value\":\"#1f77b4\"},\"right\":{\"field\":\"right\"},\"top\":{\"field\":\"top\"}},\"id\":\"973a0efb-1996-4c84-bcb3-3e77ed18ba6f\",\"type\":\"Quad\"},{\"attributes\":{\"callback\":null,\"column_names\":[\"y\",\"x\",\"vals\"],\"data\":{\"vals\":[\"1\",\"1\",\"17\",\"22\",\"1\",\"1\",\"1\",\"34\",\"53\",\"1\",\"3\",\"1\",\"765\",\"5\",\"135\",\"9\",\"7\",\"202\"],\"x\":[136539660,136362968,136360998,136598120,136721245,136749709,136454986,135992374,136394372,136753516,136636122,136643561,136719418,136554583,136418915,136758521,136744208,136485534],\"y\":[53,89,125,162,199,271,307,346,390,431,539,575,627,680,761,806,842,924]}},\"id\":\"97c54109-0c56-4e36-a3a3-0c3d4e7fee89\",\"type\":\"ColumnDataSource\"},{\"attributes\":{\"formatter\":{\"id\":\"c346117d-69b4-49df-b4c8-923720e82204\",\"type\":\"BasicTickFormatter\"},\"plot\":{\"id\":\"b86b095b-a714-4c54-a01e-7ec939298cce\",\"subtype\":\"Figure\",\"type\":\"Plot\"},\"ticker\":{\"id\":\"e9f2320c-3b43-4ad3-9987-622e31dbd8c5\",\"type\":\"BasicTicker\"}},\"id\":\"5b23921f-a9d9-4030-bb13-232138878d31\",\"type\":\"LinearAxis\"},{\"attributes\":{\"callback\":null,\"column_names\":[\"xs\",\"ys\",\"line_color\"],\"data\":{\"line_color\":[\"black\",\"black\",\"black\",\"black\",\"black\",\"black\",\"black\",\"black\",\"black\",\"black\",\"black\",\"black\",\"black\",\"black\",\"black\",\"black\",\"black\",\"black\",\"black\",\"black\",\"black\",\"black\",\"black\",\"black\",\"black\",\"black\",\"black\",\"black\",\"black\",\"black\",\"black\",\"black\",\"black\",\"black\",\"black\",\"black\",\"black\",\"black\",\"black\",\"black\",\"black\",\"black\",\"black\",\"black\",\"black\",\"black\",\"black\",\"black\",\"black\",\"black\",\"black\",\"black\",\"black\",\"black\",\"black\",\"black\",\"black\",\"black\",\"black\",\"black\",\"black\",\"black\",\"black\",\"black\",\"black\",\"black\",\"black\",\"black\",\"black\",\"black\",\"black\",\"black\",\"black\",\"black\",\"black\",\"black\",\"black\",\"black\",\"black\",\"black\",\"black\",\"black\",\"black\",\"black\",\"black\",\"black\",\"black\",\"black\",\"black\",\"black\",\"black\",\"black\",\"black\",\"black\",\"black\",\"black\",\"black\",\"black\",\"black\",\"black\",\"black\",\"black\",\"black\",\"black\",\"black\",\"black\",\"black\",\"black\",\"black\",\"black\",\"black\",\"black\",\"black\",\"black\",\"black\",\"black\",\"black\",\"black\",\"black\",\"black\",\"black\",\"black\",\"black\",\"black\",\"black\",\"black\",\"black\",\"black\",\"black\",\"black\",\"black\",\"black\",\"black\",\"black\",\"black\",\"black\",\"black\",\"black\",\"black\",\"black\",\"black\",\"black\",\"black\",\"black\",\"black\",\"black\",\"black\",\"black\",\"black\",\"black\",\"black\",\"black\",\"black\",\"black\",\"black\",\"black\",\"black\",\"black\",\"black\",\"black\",\"black\",\"black\",\"black\",\"black\",\"black\",\"black\",\"black\",\"black\",\"black\",\"black\",\"black\",\"black\",\"black\",\"black\",\"black\",\"black\",\"black\",\"black\",\"black\",\"black\",\"black\",\"black\",\"black\",\"black\",\"black\",\"black\",\"black\",\"black\",\"black\",\"black\",\"black\",\"black\",\"black\",\"black\",\"black\",\"black\",\"black\",\"black\",\"black\",\"black\",\"black\",\"black\",\"black\",\"black\",\"black\",\"black\",\"black\",\"black\",\"black\",\"black\",\"black\",\"black\",\"black\",\"black\",\"black\",\"black\",\"black\",\"black\",\"black\",\"black\",\"black\",\"black\",\"black\",\"black\",\"black\",\"black\",\"black\",\"black\",\"black\",\"black\",\"black\",\"black\",\"black\",\"black\",\"black\",\"black\",\"black\",\"black\",\"black\",\"black\",\"black\",\"black\",\"black\",\"black\",\"black\",\"black\",\"black\",\"black\",\"black\",\"black\",\"black\",\"black\",\"black\",\"black\",\"black\",\"black\",\"black\",\"black\",\"black\",\"black\",\"black\",\"black\",\"black\",\"black\",\"black\",\"black\",\"black\",\"black\",\"black\",\"black\",\"black\",\"black\",\"black\",\"black\",\"black\",\"black\",\"black\",\"black\",\"black\",\"black\",\"black\",\"black\",\"black\",\"black\",\"black\",\"black\",\"black\",\"black\",\"black\",\"black\",\"black\",\"black\",\"black\",\"black\",\"black\",\"black\",\"black\",\"black\",\"black\",\"black\",\"black\",\"black\",\"black\",\"black\",\"black\",\"black\",\"black\",\"black\",\"black\",\"black\",\"black\",\"black\",\"black\",\"black\",\"black\",\"black\",\"black\",\"black\",\"black\",\"black\",\"black\",\"black\",\"black\",\"black\",\"black\",\"black\",\"black\",\"black\",\"black\",\"black\",\"black\",\"black\",\"black\",\"black\",\"black\",\"black\"],\"xs\":[[136504541,136504541],[136513977,136513977],[136526501,136526501],[136528224,136528224],[136243714,136243714],[136252958,136252958],[136276448,136276448],[136280207,136280207],[136351532,136351532],[136039834,136039834],[136040506,136040506],[136108092,136108092],[136283871,136283871],[136284021,136284021],[136343363,136343363],[136349562,136349562],[135786061,135786061],[135815142,135815142],[135860442,135860442],[136488551,136488551],[136516760,136516760],[136562320,136562320],[136586684,136586684],[136687844,136687844],[136688159,136688159],[136688517,136688517],[136709809,136709809],[136648736,136648736],[136705399,136705399],[136715023,136715023],[136762850,136762850],[136608339,136608339],[136637201,136637201],[136645466,136645466],[136657649,136657649],[136669367,136669367],[136671087,136671087],[136738273,136738273],[135759628,135759628],[135822319,135822319],[135846209,135846209],[135959550,135959550],[136147148,136147148],[136187567,136187567],[136191148,136191148],[136227526,136227526],[136248973,136248973],[136328222,136328222],[136337566,136337566],[136443550,136443550],[135859157,135859157],[135873466,135873466],[135925411,135925411],[135954198,135954198],[135973399,135973399],[135980938,135980938],[135889881,135889881],[135956309,135956309],[136088389,136088389],[136323321,136323321],[136361384,136361384],[136382936,136382936],[136560126,136560126],[136580744,136580744],[136657998,136657998],[136742080,136742080],[136596162,136596162],[136598316,136598316],[136599520,136599520],[136601167,136601167],[136604113,136604113],[136604610,136604610],[136604699,136604699],[136609671,136609671],[136620957,136620957],[136646667,136646667],[136683320,136683320],[136697769,136697769],[136743172,136743172],[136776381,136776381],[136784743,136784743],[136785727,136785727],[136785729,136785729],[136651773,136651773],[136653553,136653553],[136662561,136662561],[136666144,136666144],[136668014,136668014],[136668363,136668363],[136670923,136670923],[136671242,136671242],[136673605,136673605],[136674629,136674629],[136676187,136676187],[136677580,136677580],[136684994,136684994],[136691142,136691142],[136693702,136693702],[136693718,136693718],[136693984,136693984],[136694866,136694866],[136695772,136695772],[136698366,136698366],[136700927,136700927],[136702325,136702325],[136702713,136702713],[136706891,136706891],[136707277,136707277],[136710828,136710828],[136713108,136713108],[136713194,136713194],[136719313,136719313],[136724569,136724569],[136734276,136734276],[136735127,136735127],[136737090,136737090],[136738950,136738950],[136741828,136741828],[136743080,136743080],[136743310,136743310],[136746683,136746683],[136747967,136747967],[136748809,136748809],[136758353,136758353],[136758922,136758922],[136762147,136762147],[136762198,136762198],[136764012,136764012],[136764818,136764818],[136770019,136770019],[136772954,136772954],[136772959,136772959],[136772961,136772961],[136774627,136774627],[136605402,136605402],[136609320,136609320],[136611400,136611400],[136619744,136619744],[136621858,136621858],[136621941,136621941],[136624382,136624382],[136624686,136624686],[136603638,136603638],[136603690,136603690],[136604210,136604210],[136604345,136604345],[136604346,136604346],[136605111,136605111],[136612598,136612598],[136614955,136614955],[136619114,136619114],[136619213,136619213],[136623900,136623900],[136624123,136624123],[136624155,136624155],[136630170,136630170],[136631415,136631415],[136632125,136632125],[135837906,135837906],[135907088,135907088],[135954797,135954797],[136138627,136138627],[136176540,136176540],[136328890,136328890],[136381348,136381348],[136429366,136429366],[136608646,136608646],[136616754,136616754],[136707982,136707982],[136514709,136514709],[136516308,136516308],[136520100,136520100],[136521595,136521595],[136523045,136523045],[136543147,136543147],[136494985,136494985],[136497199,136497199],[136511817,136511817],[136513670,136513670],[136515458,136515458],[136516970,136516970],[136525309,136525309],[136528034,136528034],[136532225,136532225],[136535235,136535235],[136536095,136536095],[136544423,136544423],[136546927,136546927],[136552188,136552188],[136552517,136552517],[136555525,136555525],[136556480,136556480],[136560464,136560464],[136572285,136572285],[136582694,136582694],[136582809,136582809],[136584538,136584538],[136585323,136585323],[136586825,136586825],[136600662,136600662],[136612036,136612036],[136618178,136618178],[136618507,136618507],[136622543,136622543],[136624947,136624947],[136625113,136625113],[136626078,136626078],[136628121,136628121],[136632300,136632300],[136633962,136633962],[136635343,136635343],[136638113,136638113],[136640101,136640101],[136641593,136641593],[136646582,136646582],[136648077,136648077],[136648883,136648883],[136652045,136652045],[136653848,136653848],[136656094,136656094],[136661110,136661110],[136663110,136663110],[136663605,136663605],[136665162,136665162],[136665711,136665711],[136668123,136668123],[136670419,136670419],[136672680,136672680],[136673546,136673546],[136684632,136684632],[136686114,136686114],[136690425,136690425],[136690783,136690783],[136692893,136692893],[136694905,136694905],[136695694,136695694],[136695705,136695705],[136696608,136696608],[136697372,136697372],[136697468,136697468],[136700024,136700024],[136701539,136701539],[136702118,136702118],[136707480,136707480],[136710554,136710554],[136714178,136714178],[136719173,136719173],[136725459,136725459],[136734569,136734569],[136744678,136744678],[136748779,136748779],[136751488,136751488],[136754183,136754183],[136763242,136763242],[136765074,136765074],[136773638,136773638],[136092061,136092061],[136273578,136273578],[136322676,136322676],[136407479,136407479],[136556805,136556805],[136560003,136560003],[136562472,136562472],[136563248,136563248],[136565328,136565328],[136570613,136570613],[136571982,136571982],[136574305,136574305],[136578040,136578040],[136578194,136578194],[136580398,136580398],[136586828,136586828],[136590558,136590558],[136592309,136592309],[136593541,136593541],[136593694,136593694],[136595426,136595426],[136615222,136615222],[136624919,136624919],[136626004,136626004],[136628380,136628380],[136636909,136636909],[136637350,136637350],[136637622,136637622],[136639487,136639487],[136646900,136646900],[136652093,136652093],[136652859,136652859],[136655620,136655620],[136667896,136667896],[136671801,136671801],[136677192,136677192],[136683293,136683293],[136704414,136704414],[136720344,136720344],[136731066,136731066],[136733897,136733897],[136743490,136743490],[136747085,136747085],[136652491,136652491],[136652524,136652524],[136661150,136661150],[136669264,136669264],[136726567,136726567],[136732772,136732772],[136652953,136652953],[136655582,136655582],[136674028,136674028],[136684940,136684940],[136761175,136761175],[136398174,136398174],[136402117,136402117],[136403749,136403749],[136409073,136409073],[136410299,136410299],[136413359,136413359],[136416855,136416855],[136416941,136416941],[136418348,136418348],[136419961,136419961],[136420690,136420690],[136422171,136422171],[136428460,136428460],[136430866,136430866],[136432103,136432103],[136437507,136437507],[136439090,136439090],[136439517,136439517],[136444123,136444123],[136445526,136445526],[136445869,136445869],[136455600,136455600],[136456642,136456642],[136462441,136462441],[136470714,136470714],[136474098,136474098]],\"ys\":[[50,56],[50,56],[50,56],[50,56],[86,92],[86,92],[86,92],[86,92],[86,92],[122,128],[122,128],[122,128],[122,128],[122,128],[122,128],[122,128],[158,166],[158,166],[158,166],[158,166],[158,166],[158,166],[158,166],[196,202],[196,202],[196,202],[196,202],[232,238],[232,238],[232,238],[232,238],[268,274],[268,274],[268,274],[268,274],[268,274],[268,274],[268,274],[304,310],[304,310],[304,310],[304,310],[304,310],[304,310],[304,310],[304,310],[304,310],[304,310],[304,310],[304,310],[340,352],[340,352],[340,352],[340,352],[340,352],[340,352],[382,398],[382,398],[382,398],[382,398],[382,398],[382,398],[428,434],[428,434],[428,434],[428,434],[464,470],[464,470],[464,470],[464,470],[464,470],[464,470],[464,470],[464,470],[464,470],[464,470],[464,470],[464,470],[464,470],[464,470],[464,470],[464,470],[464,470],[500,506],[500,506],[500,506],[500,506],[500,506],[500,506],[500,506],[500,506],[500,506],[500,506],[500,506],[500,506],[500,506],[500,506],[500,506],[500,506],[500,506],[500,506],[500,506],[500,506],[500,506],[500,506],[500,506],[500,506],[500,506],[500,506],[500,506],[500,506],[500,506],[500,506],[500,506],[500,506],[500,506],[500,506],[500,506],[500,506],[500,506],[500,506],[500,506],[500,506],[500,506],[500,506],[500,506],[500,506],[500,506],[500,506],[500,506],[500,506],[500,506],[500,506],[500,506],[536,542],[536,542],[536,542],[536,542],[536,542],[536,542],[536,542],[536,542],[572,578],[572,578],[572,578],[572,578],[572,578],[572,578],[572,578],[572,578],[572,578],[572,578],[572,578],[572,578],[572,578],[572,578],[572,578],[572,578],[608,647],[608,647],[608,647],[608,647],[608,647],[608,647],[608,647],[608,647],[608,647],[608,647],[608,647],[677,683],[677,683],[677,683],[677,683],[677,683],[677,683],[713,719],[713,719],[713,719],[713,719],[713,719],[713,719],[713,719],[713,719],[713,719],[713,719],[713,719],[713,719],[713,719],[713,719],[713,719],[713,719],[713,719],[713,719],[713,719],[713,719],[713,719],[713,719],[713,719],[713,719],[713,719],[713,719],[713,719],[713,719],[713,719],[713,719],[713,719],[713,719],[713,719],[713,719],[713,719],[713,719],[713,719],[713,719],[713,719],[713,719],[713,719],[713,719],[713,719],[713,719],[713,719],[713,719],[713,719],[713,719],[713,719],[713,719],[713,719],[713,719],[713,719],[713,719],[713,719],[713,719],[713,719],[713,719],[713,719],[713,719],[713,719],[713,719],[713,719],[713,719],[713,719],[713,719],[713,719],[713,719],[713,719],[713,719],[713,719],[713,719],[713,719],[713,719],[713,719],[713,719],[713,719],[713,719],[713,719],[713,719],[713,719],[749,773],[749,773],[749,773],[749,773],[803,809],[803,809],[803,809],[803,809],[803,809],[803,809],[803,809],[803,809],[803,809],[803,809],[803,809],[803,809],[803,809],[803,809],[803,809],[803,809],[803,809],[803,809],[803,809],[803,809],[803,809],[803,809],[803,809],[803,809],[803,809],[803,809],[803,809],[803,809],[803,809],[803,809],[803,809],[803,809],[803,809],[803,809],[803,809],[803,809],[803,809],[803,809],[803,809],[839,845],[839,845],[839,845],[839,845],[839,845],[839,845],[875,881],[875,881],[875,881],[875,881],[875,881],[911,938],[911,938],[911,938],[911,938],[911,938],[911,938],[911,938],[911,938],[911,938],[911,938],[911,938],[911,938],[911,938],[911,938],[911,938],[911,938],[911,938],[911,938],[911,938],[911,938],[911,938],[911,938],[911,938],[911,938],[911,938],[911,938]]}},\"id\":\"ec82a720-9aa0-4678-b52f-475067065c0e\",\"type\":\"ColumnDataSource\"},{\"attributes\":{\"plot\":null,\"text\":null},\"id\":\"20182110-8a4c-4502-83b7-a225cf4b0265\",\"type\":\"Title\"}],\"root_ids\":[\"b86b095b-a714-4c54-a01e-7ec939298cce\"]},\"title\":\"Bokeh Application\",\"version\":\"0.12.0\"}};\n",
       "            var render_items = [{\"docid\":\"f7e1c666-d7ff-40cd-855e-f27cde9b26d4\",\"elementid\":\"f580705e-eba9-4acc-bcef-8d52ee0c7ccd\",\"modelid\":\"b86b095b-a714-4c54-a01e-7ec939298cce\",\"notebook_comms_target\":\"5d9763eb-96db-4258-bb65-a18c7c19296d\"}];\n",
       "            \n",
       "            Bokeh.embed.embed_items(docs_json, render_items);\n",
       "        });\n",
       "      },\n",
       "      function(Bokeh) {\n",
       "      }\n",
       "    ];\n",
       "  \n",
       "    function run_inline_js() {\n",
       "      for (var i = 0; i < inline_js.length; i++) {\n",
       "        inline_js[i](window.Bokeh);\n",
       "      }\n",
       "    }\n",
       "  \n",
       "    if (window._bokeh_is_loading === 0) {\n",
       "      console.log(\"Bokeh: BokehJS loaded, going straight to plotting\");\n",
       "      run_inline_js();\n",
       "    } else {\n",
       "      load_libs(js_urls, function() {\n",
       "        console.log(\"Bokeh: BokehJS plotting callback run at\", now());\n",
       "        run_inline_js();\n",
       "      });\n",
       "    }\n",
       "  }(this));\n",
       "</script>"
      ]
     },
     "metadata": {},
     "output_type": "display_data"
    },
    {
     "data": {
      "text/html": [
       "<p><code>&lt;Bokeh Notebook handle for <strong>In[7]</strong>&gt;</code></p>"
      ],
      "text/plain": [
       "<bokeh.io._CommsHandle at 0x7f148b3c3590>"
      ]
     },
     "execution_count": 7,
     "metadata": {},
     "output_type": "execute_result"
    }
   ],
   "source": [
    "plt_obj = dm.basis_yes_no([dm.di_6_1503, dm.di_26_1414])\n",
    "plt = plt_obj.do_basis_plot()\n",
    "show(plt)"
   ]
  },
  {
   "cell_type": "markdown",
   "metadata": {},
   "source": [
    "<div style=\"width:700px\">\n",
    "<p>\n",
    "This plot shows the basis series for all of the chromosome 2 samples in the phase 3 1000 genomes data\n",
    "that express both the series 6_1503 and 26_1414.  These criteria identify the chromosome 2 samples\n",
    "that express hierarchies that are part of the EUR tree.\n",
    "<p>\n",
    "Series are labeled in the top left corner by their id.  The number at the end of the series is the\n",
    "number of chromosome 2 samples that do express it and do not express any other more specific series\n",
    "in the lactase persistence region of chromosome 2.  For example the 135 chromosome 2 samples that express\n",
    "the series 4_911 as a basis series do not express the series 11_765.  All but 3 of the chromosome samples\n",
    "that express 11_765 also express 4_911.  But, since 911 chromosamples express 4_911 and only 765 chromosome\n",
    "samples express 11_765, 11_765 is the more specific series.\n",
    "<p>\n",
    "The color used to represent the basis series is the color used to represent the whole series.  But the height\n",
    "of the basis series rectangles is a function of the log of the number of chromosome samples that actually\n",
    "express it as a basis series.\n",
    "</div>"
   ]
  },
  {
   "cell_type": "code",
   "execution_count": 8,
   "metadata": {
    "collapsed": false
   },
   "outputs": [
    {
     "data": {
      "text/html": [
       "<table>\n",
       "<thead><tr><th style=\"text-align:center\">index</th><th style=\"text-align:center\">first</th><th style=\"text-align:center\">last</th><th style=\"text-align:center\">length</th><th style=\"text-align:center\">snps</th><th style=\"text-align:center\">alleles</th><th style=\"text-align:center\">basis</th><th style=\"text-align:center\" colspan=2>afr</th><th style=\"text-align:center\" colspan=2>afx</th><th style=\"text-align:center\" colspan=2>amr</th><th style=\"text-align:center\" colspan=2>eas</th><th style=\"text-align:center\" colspan=2>eur</th><th style=\"text-align:center\" colspan=2>sas</th><th style=\"text-align:center\" colspan=2>sax</th></tr></thead>\n",
       "<tr class=\"even\"><td style=\"text-align: right;\">353797</td><td style=\"text-align: right;\">136,398,174</td><td style=\"text-align: right;\">136,474,098</td><td style=\"text-align: right;\">75,924</td><td style=\"text-align: right;\">26</td><td style=\"text-align: right;padding-right: 1em\">1414</td><td style=\"text-align: right;padding-right: 1em\">202</td><td style=\"text-align: right;\">6</td><td style=\"text-align: right;\">0.15</td><td style=\"text-align: right;\">2</td><td style=\"text-align: right;\">0.16</td><td style=\"text-align: right;\">39</td><td style=\"text-align: right;\">1.39</td><td style=\"text-align: right;\">80</td><td style=\"text-align: right;\">1.97</td><td style=\"text-align: right;\">20</td><td style=\"text-align: right;\">0.49</td><td style=\"text-align: right;\">19</td><td style=\"text-align: right;\">1.29</td><td style=\"text-align: right;\">36</td><td style=\"text-align: right;\">1.45</td></tr>\n",
       "<tr><td style=\"text-align: right;\">354129</td><td style=\"text-align: right;\">136,652,953</td><td style=\"text-align: right;\">136,761,175</td><td style=\"text-align: right;\">108,222</td><td style=\"text-align: right;\">5</td><td style=\"text-align: right;padding-right: 1em\">1296</td><td style=\"text-align: right;padding-right: 1em\">3</td><td style=\"text-align: right;\">0</td><td style=\"text-align: right;\">0.00</td><td style=\"text-align: right;\">0</td><td style=\"text-align: right;\">0.00</td><td style=\"text-align: right;\">0</td><td style=\"text-align: right;\">0.00</td><td style=\"text-align: right;\">3</td><td style=\"text-align: right;\">4.97</td><td style=\"text-align: right;\">0</td><td style=\"text-align: right;\">0.00</td><td style=\"text-align: right;\">0</td><td style=\"text-align: right;\">0.00</td><td style=\"text-align: right;\">0</td><td style=\"text-align: right;\">0.00</td></tr>\n",
       "<tr class=\"even\"><td style=\"text-align: right;\">354127</td><td style=\"text-align: right;\">136,652,491</td><td style=\"text-align: right;\">136,732,772</td><td style=\"text-align: right;\">80,281</td><td style=\"text-align: right;\">6</td><td style=\"text-align: right;padding-right: 1em\">1114</td><td style=\"text-align: right;padding-right: 1em\">7</td><td style=\"text-align: right;\">0</td><td style=\"text-align: right;\">0.00</td><td style=\"text-align: right;\">0</td><td style=\"text-align: right;\">0.00</td><td style=\"text-align: right;\">0</td><td style=\"text-align: right;\">0.00</td><td style=\"text-align: right;\">2</td><td style=\"text-align: right;\">1.42</td><td style=\"text-align: right;\">1</td><td style=\"text-align: right;\">0.71</td><td style=\"text-align: right;\">2</td><td style=\"text-align: right;\">3.93</td><td style=\"text-align: right;\">2</td><td style=\"text-align: right;\">2.33</td></tr>\n",
       "<tr><td style=\"text-align: right;\">353984</td><td style=\"text-align: right;\">136,556,805</td><td style=\"text-align: right;\">136,747,085</td><td style=\"text-align: right;\">190,280</td><td style=\"text-align: right;\">39</td><td style=\"text-align: right;padding-right: 1em\">1014</td><td style=\"text-align: right;padding-right: 1em\">9</td><td style=\"text-align: right;\">0</td><td style=\"text-align: right;\">0.00</td><td style=\"text-align: right;\">0</td><td style=\"text-align: right;\">0.00</td><td style=\"text-align: right;\">0</td><td style=\"text-align: right;\">0.00</td><td style=\"text-align: right;\">7</td><td style=\"text-align: right;\">3.86</td><td style=\"text-align: right;\">1</td><td style=\"text-align: right;\">0.55</td><td style=\"text-align: right;\">1</td><td style=\"text-align: right;\">1.53</td><td style=\"text-align: right;\">0</td><td style=\"text-align: right;\">0.00</td></tr>\n",
       "<tr class=\"even\"><td style=\"text-align: right;\">353604</td><td style=\"text-align: right;\">136,092,061</td><td style=\"text-align: right;\">136,407,479</td><td style=\"text-align: right;\">315,418</td><td style=\"text-align: right;\">4</td><td style=\"text-align: right;padding-right: 1em\">911</td><td style=\"text-align: right;padding-right: 1em\">135</td><td style=\"text-align: right;\">0</td><td style=\"text-align: right;\">0.00</td><td style=\"text-align: right;\">0</td><td style=\"text-align: right;\">0.00</td><td style=\"text-align: right;\">56</td><td style=\"text-align: right;\">2.99</td><td style=\"text-align: right;\">0</td><td style=\"text-align: right;\">0.00</td><td style=\"text-align: right;\">35</td><td style=\"text-align: right;\">1.29</td><td style=\"text-align: right;\">16</td><td style=\"text-align: right;\">1.63</td><td style=\"text-align: right;\">28</td><td style=\"text-align: right;\">1.69</td></tr>\n",
       "<tr><td style=\"text-align: right;\">353902</td><td style=\"text-align: right;\">136,494,985</td><td style=\"text-align: right;\">136,773,638</td><td style=\"text-align: right;\">278,653</td><td style=\"text-align: right;\">81</td><td style=\"text-align: right;padding-right: 1em\">857</td><td style=\"text-align: right;padding-right: 1em\">2</td><td style=\"text-align: right;\">0</td><td style=\"text-align: right;\">0.00</td><td style=\"text-align: right;\">0</td><td style=\"text-align: right;\">0.00</td><td style=\"text-align: right;\">0</td><td style=\"text-align: right;\">0.00</td><td style=\"text-align: right;\">0</td><td style=\"text-align: right;\">0.00</td><td style=\"text-align: right;\">0</td><td style=\"text-align: right;\">0.00</td><td style=\"text-align: right;\">0</td><td style=\"text-align: right;\">0.00</td><td style=\"text-align: right;\">2</td><td style=\"text-align: right;\">8.16</td></tr>\n",
       "<tr class=\"even\"><td style=\"text-align: right;\">353938</td><td style=\"text-align: right;\">136,514,709</td><td style=\"text-align: right;\">136,543,147</td><td style=\"text-align: right;\">28,438</td><td style=\"text-align: right;\">6</td><td style=\"text-align: right;padding-right: 1em\">820</td><td style=\"text-align: right;padding-right: 1em\">5</td><td style=\"text-align: right;\">0</td><td style=\"text-align: right;\">0.00</td><td style=\"text-align: right;\">0</td><td style=\"text-align: right;\">0.00</td><td style=\"text-align: right;\">1</td><td style=\"text-align: right;\">1.44</td><td style=\"text-align: right;\">0</td><td style=\"text-align: right;\">0.00</td><td style=\"text-align: right;\">0</td><td style=\"text-align: right;\">0.00</td><td style=\"text-align: right;\">2</td><td style=\"text-align: right;\">5.50</td><td style=\"text-align: right;\">2</td><td style=\"text-align: right;\">3.26</td></tr>\n",
       "<tr><td style=\"text-align: right;\">353380</td><td style=\"text-align: right;\">135,837,906</td><td style=\"text-align: right;\">136,707,982</td><td style=\"text-align: right;\">870,076</td><td style=\"text-align: right;\">11</td><td style=\"text-align: right;padding-right: 1em\">765</td><td style=\"text-align: right;padding-right: 1em\">765</td><td style=\"text-align: right;\">2</td><td style=\"text-align: right;\">0.01</td><td style=\"text-align: right;\">32</td><td style=\"text-align: right;\">0.67</td><td style=\"text-align: right;\">146</td><td style=\"text-align: right;\">1.38</td><td style=\"text-align: right;\">0</td><td style=\"text-align: right;\">0.00</td><td style=\"text-align: right;\">484</td><td style=\"text-align: right;\">3.15</td><td style=\"text-align: right;\">56</td><td style=\"text-align: right;\">1.01</td><td style=\"text-align: right;\">45</td><td style=\"text-align: right;\">0.48</td></tr>\n",
       "<tr class=\"even\"><td style=\"text-align: right;\">354061</td><td style=\"text-align: right;\">136,603,638</td><td style=\"text-align: right;\">136,632,125</td><td style=\"text-align: right;\">28,487</td><td style=\"text-align: right;\">16</td><td style=\"text-align: right;padding-right: 1em\">511</td><td style=\"text-align: right;padding-right: 1em\">1</td><td style=\"text-align: right;\">0</td><td style=\"text-align: right;\">0.00</td><td style=\"text-align: right;\">0</td><td style=\"text-align: right;\">0.00</td><td style=\"text-align: right;\">1</td><td style=\"text-align: right;\">7.22</td><td style=\"text-align: right;\">0</td><td style=\"text-align: right;\">0.00</td><td style=\"text-align: right;\">0</td><td style=\"text-align: right;\">0.00</td><td style=\"text-align: right;\">0</td><td style=\"text-align: right;\">0.00</td><td style=\"text-align: right;\">0</td><td style=\"text-align: right;\">0.00</td></tr>\n",
       "<tr><td style=\"text-align: right;\">354064</td><td style=\"text-align: right;\">136,605,402</td><td style=\"text-align: right;\">136,624,686</td><td style=\"text-align: right;\">19,284</td><td style=\"text-align: right;\">8</td><td style=\"text-align: right;padding-right: 1em\">328</td><td style=\"text-align: right;padding-right: 1em\">3</td><td style=\"text-align: right;\">0</td><td style=\"text-align: right;\">0.00</td><td style=\"text-align: right;\">0</td><td style=\"text-align: right;\">0.00</td><td style=\"text-align: right;\">1</td><td style=\"text-align: right;\">2.41</td><td style=\"text-align: right;\">0</td><td style=\"text-align: right;\">0.00</td><td style=\"text-align: right;\">2</td><td style=\"text-align: right;\">3.32</td><td style=\"text-align: right;\">0</td><td style=\"text-align: right;\">0.00</td><td style=\"text-align: right;\">0</td><td style=\"text-align: right;\">0.00</td></tr>\n",
       "<tr class=\"even\"><td style=\"text-align: right;\">354123</td><td style=\"text-align: right;\">136,651,773</td><td style=\"text-align: right;\">136,774,627</td><td style=\"text-align: right;\">122,854</td><td style=\"text-align: right;\">51</td><td style=\"text-align: right;padding-right: 1em\">176</td><td style=\"text-align: right;padding-right: 1em\">2</td><td style=\"text-align: right;\">0</td><td style=\"text-align: right;\">0.00</td><td style=\"text-align: right;\">0</td><td style=\"text-align: right;\">0.00</td><td style=\"text-align: right;\">0</td><td style=\"text-align: right;\">0.00</td><td style=\"text-align: right;\">2</td><td style=\"text-align: right;\">4.97</td><td style=\"text-align: right;\">0</td><td style=\"text-align: right;\">0.00</td><td style=\"text-align: right;\">0</td><td style=\"text-align: right;\">0.00</td><td style=\"text-align: right;\">0</td><td style=\"text-align: right;\">0.00</td></tr>\n",
       "<tr><td style=\"text-align: right;\">354051</td><td style=\"text-align: right;\">136,596,162</td><td style=\"text-align: right;\">136,785,729</td><td style=\"text-align: right;\">189,567</td><td style=\"text-align: right;\">17</td><td style=\"text-align: right;padding-right: 1em\">137</td><td style=\"text-align: right;padding-right: 1em\">3</td><td style=\"text-align: right;\">0</td><td style=\"text-align: right;\">0.00</td><td style=\"text-align: right;\">0</td><td style=\"text-align: right;\">0.00</td><td style=\"text-align: right;\">0</td><td style=\"text-align: right;\">0.00</td><td style=\"text-align: right;\">1</td><td style=\"text-align: right;\">1.66</td><td style=\"text-align: right;\">2</td><td style=\"text-align: right;\">3.32</td><td style=\"text-align: right;\">0</td><td style=\"text-align: right;\">0.00</td><td style=\"text-align: right;\">0</td><td style=\"text-align: right;\">0.00</td></tr>\n",
       "<tr class=\"even\"><td style=\"text-align: right;\">353987</td><td style=\"text-align: right;\">136,560,126</td><td style=\"text-align: right;\">136,742,080</td><td style=\"text-align: right;\">181,954</td><td style=\"text-align: right;\">4</td><td style=\"text-align: right;padding-right: 1em\">57</td><td style=\"text-align: right;padding-right: 1em\">1</td><td style=\"text-align: right;\">0</td><td style=\"text-align: right;\">0.00</td><td style=\"text-align: right;\">0</td><td style=\"text-align: right;\">0.00</td><td style=\"text-align: right;\">0</td><td style=\"text-align: right;\">0.00</td><td style=\"text-align: right;\">0</td><td style=\"text-align: right;\">0.00</td><td style=\"text-align: right;\">0</td><td style=\"text-align: right;\">0.00</td><td style=\"text-align: right;\">1</td><td style=\"text-align: right;\">13.76</td><td style=\"text-align: right;\">0</td><td style=\"text-align: right;\">0.00</td></tr>\n",
       "<tr><td style=\"text-align: right;\">353444</td><td style=\"text-align: right;\">135,889,881</td><td style=\"text-align: right;\">136,382,936</td><td style=\"text-align: right;\">493,055</td><td style=\"text-align: right;\">6</td><td style=\"text-align: right;padding-right: 1em\">57</td><td style=\"text-align: right;padding-right: 1em\">53</td><td style=\"text-align: right;\">2</td><td style=\"text-align: right;\">0.19</td><td style=\"text-align: right;\">1</td><td style=\"text-align: right;\">0.30</td><td style=\"text-align: right;\">14</td><td style=\"text-align: right;\">1.91</td><td style=\"text-align: right;\">0</td><td style=\"text-align: right;\">0.00</td><td style=\"text-align: right;\">28</td><td style=\"text-align: right;\">2.63</td><td style=\"text-align: right;\">5</td><td style=\"text-align: right;\">1.30</td><td style=\"text-align: right;\">3</td><td style=\"text-align: right;\">0.46</td></tr>\n",
       "<tr class=\"even\"><td style=\"text-align: right;\">353407</td><td style=\"text-align: right;\">135,859,157</td><td style=\"text-align: right;\">135,980,938</td><td style=\"text-align: right;\">121,781</td><td style=\"text-align: right;\">6</td><td style=\"text-align: right;padding-right: 1em\">35</td><td style=\"text-align: right;padding-right: 1em\">34</td><td style=\"text-align: right;\">1</td><td style=\"text-align: right;\">0.15</td><td style=\"text-align: right;\">1</td><td style=\"text-align: right;\">0.47</td><td style=\"text-align: right;\">12</td><td style=\"text-align: right;\">2.55</td><td style=\"text-align: right;\">0</td><td style=\"text-align: right;\">0.00</td><td style=\"text-align: right;\">17</td><td style=\"text-align: right;\">2.49</td><td style=\"text-align: right;\">2</td><td style=\"text-align: right;\">0.81</td><td style=\"text-align: right;\">1</td><td style=\"text-align: right;\">0.24</td></tr>\n",
       "<tr><td style=\"text-align: right;\">353252</td><td style=\"text-align: right;\">135,759,628</td><td style=\"text-align: right;\">136,443,550</td><td style=\"text-align: right;\">683,922</td><td style=\"text-align: right;\">12</td><td style=\"text-align: right;padding-right: 1em\">32</td><td style=\"text-align: right;padding-right: 1em\">1</td><td style=\"text-align: right;\">0</td><td style=\"text-align: right;\">0.00</td><td style=\"text-align: right;\">0</td><td style=\"text-align: right;\">0.00</td><td style=\"text-align: right;\">1</td><td style=\"text-align: right;\">7.22</td><td style=\"text-align: right;\">0</td><td style=\"text-align: right;\">0.00</td><td style=\"text-align: right;\">0</td><td style=\"text-align: right;\">0.00</td><td style=\"text-align: right;\">0</td><td style=\"text-align: right;\">0.00</td><td style=\"text-align: right;\">0</td><td style=\"text-align: right;\">0.00</td></tr>\n",
       "<tr class=\"even\"><td style=\"text-align: right;\">354074</td><td style=\"text-align: right;\">136,608,339</td><td style=\"text-align: right;\">136,738,273</td><td style=\"text-align: right;\">129,934</td><td style=\"text-align: right;\">7</td><td style=\"text-align: right;padding-right: 1em\">31</td><td style=\"text-align: right;padding-right: 1em\">1</td><td style=\"text-align: right;\">1</td><td style=\"text-align: right;\">4.97</td><td style=\"text-align: right;\">0</td><td style=\"text-align: right;\">0.00</td><td style=\"text-align: right;\">0</td><td style=\"text-align: right;\">0.00</td><td style=\"text-align: right;\">0</td><td style=\"text-align: right;\">0.00</td><td style=\"text-align: right;\">0</td><td style=\"text-align: right;\">0.00</td><td style=\"text-align: right;\">0</td><td style=\"text-align: right;\">0.00</td><td style=\"text-align: right;\">0</td><td style=\"text-align: right;\">0.00</td></tr>\n",
       "<tr><td style=\"text-align: right;\">354116</td><td style=\"text-align: right;\">136,648,736</td><td style=\"text-align: right;\">136,762,850</td><td style=\"text-align: right;\">114,114</td><td style=\"text-align: right;\">4</td><td style=\"text-align: right;padding-right: 1em\">26</td><td style=\"text-align: right;padding-right: 1em\">1</td><td style=\"text-align: right;\">0</td><td style=\"text-align: right;\">0.00</td><td style=\"text-align: right;\">0</td><td style=\"text-align: right;\">0.00</td><td style=\"text-align: right;\">0</td><td style=\"text-align: right;\">0.00</td><td style=\"text-align: right;\">0</td><td style=\"text-align: right;\">0.00</td><td style=\"text-align: right;\">1</td><td style=\"text-align: right;\">4.98</td><td style=\"text-align: right;\">0</td><td style=\"text-align: right;\">0.00</td><td style=\"text-align: right;\">0</td><td style=\"text-align: right;\">0.00</td></tr>\n",
       "<tr class=\"even\"><td style=\"text-align: right;\">354176</td><td style=\"text-align: right;\">136,687,844</td><td style=\"text-align: right;\">136,709,809</td><td style=\"text-align: right;\">21,965</td><td style=\"text-align: right;\">4</td><td style=\"text-align: right;padding-right: 1em\">25</td><td style=\"text-align: right;padding-right: 1em\">1</td><td style=\"text-align: right;\">0</td><td style=\"text-align: right;\">0.00</td><td style=\"text-align: right;\">0</td><td style=\"text-align: right;\">0.00</td><td style=\"text-align: right;\">0</td><td style=\"text-align: right;\">0.00</td><td style=\"text-align: right;\">1</td><td style=\"text-align: right;\">4.97</td><td style=\"text-align: right;\">0</td><td style=\"text-align: right;\">0.00</td><td style=\"text-align: right;\">0</td><td style=\"text-align: right;\">0.00</td><td style=\"text-align: right;\">0</td><td style=\"text-align: right;\">0.00</td></tr>\n",
       "<tr><td style=\"text-align: right;\">353315</td><td style=\"text-align: right;\">135,786,061</td><td style=\"text-align: right;\">136,586,684</td><td style=\"text-align: right;\">800,623</td><td style=\"text-align: right;\">7</td><td style=\"text-align: right;padding-right: 1em\">22</td><td style=\"text-align: right;padding-right: 1em\">22</td><td style=\"text-align: right;\">0</td><td style=\"text-align: right;\">0.00</td><td style=\"text-align: right;\">0</td><td style=\"text-align: right;\">0.00</td><td style=\"text-align: right;\">0</td><td style=\"text-align: right;\">0.00</td><td style=\"text-align: right;\">19</td><td style=\"text-align: right;\">4.29</td><td style=\"text-align: right;\">0</td><td style=\"text-align: right;\">0.00</td><td style=\"text-align: right;\">3</td><td style=\"text-align: right;\">1.88</td><td style=\"text-align: right;\">0</td><td style=\"text-align: right;\">0.00</td></tr>\n",
       "<tr class=\"even\"><td style=\"text-align: right;\">353570</td><td style=\"text-align: right;\">136,039,834</td><td style=\"text-align: right;\">136,349,562</td><td style=\"text-align: right;\">309,728</td><td style=\"text-align: right;\">7</td><td style=\"text-align: right;padding-right: 1em\">20</td><td style=\"text-align: right;padding-right: 1em\">17</td><td style=\"text-align: right;\">0</td><td style=\"text-align: right;\">0.00</td><td style=\"text-align: right;\">1</td><td style=\"text-align: right;\">0.94</td><td style=\"text-align: right;\">4</td><td style=\"text-align: right;\">1.70</td><td style=\"text-align: right;\">0</td><td style=\"text-align: right;\">0.00</td><td style=\"text-align: right;\">11</td><td style=\"text-align: right;\">3.22</td><td style=\"text-align: right;\">0</td><td style=\"text-align: right;\">0.00</td><td style=\"text-align: right;\">1</td><td style=\"text-align: right;\">0.48</td></tr>\n",
       "<tr><td style=\"text-align: right;\">353692</td><td style=\"text-align: right;\">136,243,714</td><td style=\"text-align: right;\">136,351,532</td><td style=\"text-align: right;\">107,818</td><td style=\"text-align: right;\">5</td><td style=\"text-align: right;padding-right: 1em\">18</td><td style=\"text-align: right;padding-right: 1em\">1</td><td style=\"text-align: right;\">0</td><td style=\"text-align: right;\">0.00</td><td style=\"text-align: right;\">0</td><td style=\"text-align: right;\">0.00</td><td style=\"text-align: right;\">1</td><td style=\"text-align: right;\">7.22</td><td style=\"text-align: right;\">0</td><td style=\"text-align: right;\">0.00</td><td style=\"text-align: right;\">0</td><td style=\"text-align: right;\">0.00</td><td style=\"text-align: right;\">0</td><td style=\"text-align: right;\">0.00</td><td style=\"text-align: right;\">0</td><td style=\"text-align: right;\">0.00</td></tr>\n",
       "<tr class=\"even\"><td style=\"text-align: right;\">353922</td><td style=\"text-align: right;\">136,504,541</td><td style=\"text-align: right;\">136,528,224</td><td style=\"text-align: right;\">23,683</td><td style=\"text-align: right;\">4</td><td style=\"text-align: right;padding-right: 1em\">17</td><td style=\"text-align: right;padding-right: 1em\">1</td><td style=\"text-align: right;\">1</td><td style=\"text-align: right;\">4.97</td><td style=\"text-align: right;\">0</td><td style=\"text-align: right;\">0.00</td><td style=\"text-align: right;\">0</td><td style=\"text-align: right;\">0.00</td><td style=\"text-align: right;\">0</td><td style=\"text-align: right;\">0.00</td><td style=\"text-align: right;\">0</td><td style=\"text-align: right;\">0.00</td><td style=\"text-align: right;\">0</td><td style=\"text-align: right;\">0.00</td><td style=\"text-align: right;\">0</td><td style=\"text-align: right;\">0.00</td></tr>\n",
       "</table>"
      ],
      "text/plain": [
       "<IPython.core.display.HTML object>"
      ]
     },
     "execution_count": 8,
     "metadata": {},
     "output_type": "execute_result"
    }
   ],
   "source": [
    "HTML(plt_obj.get_basis_html())"
   ]
  },
  {
   "cell_type": "markdown",
   "metadata": {},
   "source": [
    "<div style=\"width:700px\">\n",
    "<p>\n",
    "The data accompanying the basis plots needs to be consulted to understand the population\n",
    "distribution of the chromosome samples that express a particular series as a basis.  The data\n",
    "in this table for the series 26_1414, 4_911, and 11_765 provide some insight in the evolution\n",
    "of lactase persistence.\n",
    "<p>\n",
    "The 202 chromosome samples that express 26_1414 as a basis suggest\n",
    "that the root series of the EUR tree already had some kind of selective advantage.  Those\n",
    "samples are heavily under expressed in African populations, modestly under expressed in\n",
    "European populations, modestly over expressed in American and South Asian populations,\n",
    "and most heavily over expressed in East Asian populations.  The root series of the EUR\n",
    "tree does seem to have been favored by the expansion out of Africa.  But, it appears\n",
    "to have been distributed over all of the other 1000 genomes population regions.\n",
    "<p>\n",
    "The 135 chromosomes that express 4_911 as a basis do not include any African or East Asian\n",
    "chromosomes.  They are modestly over expressed for European populations, more over expressed\n",
    "for South Asian populations and most over expressed for American populations.  It seems unlikely\n",
    "that the American samples got to America through the migration either of East Asian or European\n",
    "populations.\n",
    "</div>"
   ]
  },
  {
   "cell_type": "markdown",
   "metadata": {},
   "source": [
    "<h3>Allele Mask Plots</h3>\n",
    "<div style=\"width:700px\">\n",
    "<p>\n",
    "Another kind of analysis is based on the use of an allele mask to keep track of the 1000 genomes\n",
    "chromosome samples that express some characteristic.  An allele mask is an array with a boolean value\n",
    "for each of the 5008 chromosome samples in the 1000 genomes phase 3 data.  The value is true for those\n",
    "chromosome samples that satisfy some logical test.  This kind of analysis is particularly useful in\n",
    "analyzing the expression of series fragments."
   ]
  },
  {
   "cell_type": "code",
   "execution_count": 9,
   "metadata": {
    "collapsed": false
   },
   "outputs": [
    {
     "data": {
      "text/plain": [
       "array([(174, 4), (175, 1), (181, 3), (185, 1), (186, 1), (188, 2),\n",
       "       (191, 15), (192, 120), (193, 696)], \n",
       "      dtype=[('count', '<u2'), ('snps', '<u2')])"
      ]
     },
     "execution_count": 9,
     "metadata": {},
     "output_type": "execute_result"
    }
   ],
   "source": [
    "import genomes_dnj.lct_interval.anal_series as an\n",
    "from genomes_dnj.lct_interval.series_masks import am_193_843, nam_193_843\n",
    "an.sa_193_843.unique_snps_per_allele(am_193_843)"
   ]
  },
  {
   "cell_type": "markdown",
   "metadata": {},
   "source": [
    "<div style=\"width:700px\">\n",
    "<p>\n",
    "The an.sa_193_43 object is an instance of the series_anal_cls.  It is used for analysis\n",
    "of the samples that express any subset of the 193 SNPs in the series 193_843.\n",
    "The allele mask am_193_843 is a boolean mask that identifies the 1000 genomes\n",
    "chromosome 2 samples that express the series 193_843.  The unique_snps_allele method\n",
    "returns a list of the number of SNPs and the number of chromosome samples that express\n",
    "that number of 193_843 SNPs.  This data shows that 696 of the 843 chromosome samples\n",
    "that express 193_843 express all 193 of its SNPs.  Another 120 of the chromosomes express\n",
    "192 of them.  Smaller numbers of chromosome samples do express smaller numbers of SNPs\n",
    "that are fragments of the whole series.\n",
    "</div>"
   ]
  },
  {
   "cell_type": "code",
   "execution_count": 10,
   "metadata": {
    "collapsed": false
   },
   "outputs": [
    {
     "data": {
      "text/plain": [
       "array([(0, 3458), (1, 215), (2, 174), (3, 2), (4, 3), (5, 52), (6, 8),\n",
       "       (7, 3), (8, 2), (9, 1), (10, 1), (11, 1), (12, 39), (15, 1),\n",
       "       (17, 1), (18, 3), (19, 1), (21, 1), (23, 3), (26, 1), (27, 1),\n",
       "       (28, 12), (29, 94), (30, 1), (44, 2), (54, 1), (55, 27), (63, 2),\n",
       "       (65, 2), (98, 1), (100, 1), (101, 1), (139, 1), (158, 1), (164, 3),\n",
       "       (165, 3), (169, 1), (170, 41)], \n",
       "      dtype=[('count', '<u2'), ('snps', '<u2')])"
      ]
     },
     "execution_count": 10,
     "metadata": {},
     "output_type": "execute_result"
    }
   ],
   "source": [
    "an.sa_193_843.unique_snps_per_allele(nam_193_843)"
   ]
  },
  {
   "cell_type": "markdown",
   "metadata": {},
   "source": [
    "<div style=\"width:700px\">\n",
    "<p>\n",
    "The nam_193_843 boolean mask identifies chromosome 2 samples that do not\n",
    "express 193_843.  The results are a list of numbers of 193_843 SNPs and\n",
    "the number of chromsome 2 samples that express that number of 193_843 SNPs.\n",
    "The results show that 3458 samples express none of the 193 SNPs.\n",
    "<p>\n",
    "The data does show that a significant number of samples express 1, 2,\n",
    "or 3 fragments of the 193 SNPs.  It also shows that 5, 6, 12, 28, 29, 55\n",
    "and 170 SNP fragments are expressed by numbers of samples that indicate\n",
    "substantial non random overexpression.  It also shows a background of\n",
    "other fragments of the 193 SNPs that could be available for some kind\n",
    "of future selection process.\n",
    "</div>"
   ]
  },
  {
   "cell_type": "code",
   "execution_count": 11,
   "metadata": {
    "collapsed": false
   },
   "outputs": [
    {
     "data": {
      "text/plain": [
       "array([93, 93, 93, 93, 93, 93, 93, 93, 93, 93, 93, 93, 93, 93, 93, 93, 93,\n",
       "       93, 93, 93, 93, 93, 93, 93, 93, 93, 93, 93, 93,  0,  0,  0,  0,  0,\n",
       "        0,  0,  0,  0,  0,  0,  0,  0,  0,  0,  0,  0,  0,  0,  0,  0,  0,\n",
       "        0,  0,  0,  0,  0,  0,  0,  0,  0,  0,  0,  1,  0,  0,  0,  0,  0,\n",
       "        0,  1,  0,  0,  0,  0,  0,  0,  1,  0,  0,  1,  0,  1,  0,  0,  1,\n",
       "        0,  0,  0,  0,  0,  0,  0,  0,  1,  1,  0,  0,  1,  1,  1,  0,  0,\n",
       "        0,  0,  1,  0,  1,  0,  0,  0,  0,  1,  0,  1,  0,  0,  1,  1,  0,\n",
       "        0,  0,  0,  0,  0,  0,  0,  0,  0,  1,  1,  1,  0,  0,  0,  0,  1,\n",
       "        1,  0,  0,  1,  0,  0,  1,  0,  1,  0,  1,  1,  0,  0,  1,  0,  0,\n",
       "        0,  1,  0,  0,  0,  0,  0,  0,  0,  0,  0,  0,  0,  0,  0,  0,  0,\n",
       "        0,  0,  0,  0,  0,  0,  0,  0,  0,  0,  0,  0,  0,  0,  0,  0,  0,\n",
       "        0,  0,  0,  0,  0,  0])"
      ]
     },
     "execution_count": 11,
     "metadata": {},
     "output_type": "execute_result"
    }
   ],
   "source": [
    "aps_29, am_29 = an.sa_193_843.snps_from_aps_value(29, nam_193_843)\n",
    "aps_29"
   ]
  },
  {
   "cell_type": "markdown",
   "metadata": {},
   "source": [
    "<div style=\"width:700px\">\n",
    "<p>\n",
    "This data looks at the 29 SNP fragments that are expressed by 94 chromosome samples.\n",
    "The method snps_from_aps_value takes a count of the number of SNPs and a\n",
    "boolean mask of chromosome 2 samples.  It returns an array of the number of\n",
    "samples that express each of the 193 SNPs and a boolean mask of\n",
    "samples that express 29 SNP fragments of the 193 SNPs.  Only samples\n",
    "identified in the input mask are elgible for the output mask.\n",
    "<p>\n",
    "In this case 93 of the chromsomes samples express the first 29 SNPs.\n",
    "That pattern reflects the result of some recombination event.  The other chromosome\n",
    "sample expresses a very irregular collection of 29 different SNPs generated\n",
    "by some kind of unknown process.\n",
    "</div>"
   ]
  },
  {
   "cell_type": "code",
   "execution_count": 12,
   "metadata": {
    "collapsed": false
   },
   "outputs": [
    {
     "data": {
      "text/html": [
       "\n",
       "\n",
       "    <div class=\"bk-root\">\n",
       "        <div class=\"plotdiv\" id=\"026fc704-a2c2-41f1-8543-02c86975dff8\"></div>\n",
       "    </div>\n",
       "<script type=\"text/javascript\">\n",
       "  \n",
       "  (function(global) {\n",
       "    function now() {\n",
       "      return new Date();\n",
       "    }\n",
       "  \n",
       "    if (typeof (window._bokeh_onload_callbacks) === \"undefined\") {\n",
       "      window._bokeh_onload_callbacks = [];\n",
       "    }\n",
       "  \n",
       "    function run_callbacks() {\n",
       "      window._bokeh_onload_callbacks.forEach(function(callback) { callback() });\n",
       "      delete window._bokeh_onload_callbacks\n",
       "      console.info(\"Bokeh: all callbacks have finished\");\n",
       "    }\n",
       "  \n",
       "    function load_libs(js_urls, callback) {\n",
       "      window._bokeh_onload_callbacks.push(callback);\n",
       "      if (window._bokeh_is_loading > 0) {\n",
       "        console.log(\"Bokeh: BokehJS is being loaded, scheduling callback at\", now());\n",
       "        return null;\n",
       "      }\n",
       "      if (js_urls == null || js_urls.length === 0) {\n",
       "        run_callbacks();\n",
       "        return null;\n",
       "      }\n",
       "      console.log(\"Bokeh: BokehJS not loaded, scheduling load and callback at\", now());\n",
       "      window._bokeh_is_loading = js_urls.length;\n",
       "      for (var i = 0; i < js_urls.length; i++) {\n",
       "        var url = js_urls[i];\n",
       "        var s = document.createElement('script');\n",
       "        s.src = url;\n",
       "        s.async = false;\n",
       "        s.onreadystatechange = s.onload = function() {\n",
       "          window._bokeh_is_loading--;\n",
       "          if (window._bokeh_is_loading === 0) {\n",
       "            console.log(\"Bokeh: all BokehJS libraries loaded\");\n",
       "            run_callbacks()\n",
       "          }\n",
       "        };\n",
       "        s.onerror = function() {\n",
       "          console.warn(\"failed to load library \" + url);\n",
       "        };\n",
       "        console.log(\"Bokeh: injecting script tag for BokehJS library: \", url);\n",
       "        document.getElementsByTagName(\"head\")[0].appendChild(s);\n",
       "      }\n",
       "    };var element = document.getElementById(\"026fc704-a2c2-41f1-8543-02c86975dff8\");\n",
       "    if (element == null) {\n",
       "      console.log(\"Bokeh: ERROR: autoload.js configured with elementid '026fc704-a2c2-41f1-8543-02c86975dff8' but no matching script tag was found. \")\n",
       "      return false;\n",
       "    }\n",
       "  \n",
       "    var js_urls = [];\n",
       "  \n",
       "    var inline_js = [\n",
       "      function(Bokeh) {\n",
       "        Bokeh.$(function() {\n",
       "            var docs_json = {\"150d0a8d-9449-46db-9278-84e09b6e681f\":{\"roots\":{\"references\":[{\"attributes\":{\"callback\":null,\"column_names\":[\"y\",\"x\",\"vals\"],\"data\":{\"vals\":[\"4_815\",\"5_684\",\"32_1361\",\"64_1575\",\"10_2206\",\"7_1868\"],\"x\":[135839805,135959272,136393658,136494186,136501840,136682274],\"y\":[95.0,93.0,99.0,100.0,203.0,202.0]}},\"id\":\"7372253d-976d-4e96-b326-6d87e64d3472\",\"type\":\"ColumnDataSource\"},{\"attributes\":{\"dimension\":1,\"plot\":{\"id\":\"b9e76a15-615f-46cc-92f4-6b8eb43c44df\",\"subtype\":\"Figure\",\"type\":\"Plot\"},\"ticker\":{\"id\":\"043c72e8-9615-4457-ae1c-ea5e5b28d007\",\"type\":\"BasicTicker\"}},\"id\":\"429a1d9e-5578-4a63-9369-241fc49d0349\",\"type\":\"Grid\"},{\"attributes\":{},\"id\":\"3846aee7-d9ed-4280-9673-9c3b861ac31f\",\"type\":\"BasicTickFormatter\"},{\"attributes\":{\"bottom\":{\"field\":\"bottom\"},\"fill_color\":{\"value\":\"white\"},\"left\":{\"field\":\"left\"},\"right\":{\"field\":\"right\"},\"top\":{\"field\":\"top\"}},\"id\":\"439cc468-b512-4a7c-9353-15e47e84525e\",\"type\":\"Quad\"},{\"attributes\":{\"plot\":{\"id\":\"b9e76a15-615f-46cc-92f4-6b8eb43c44df\",\"subtype\":\"Figure\",\"type\":\"Plot\"}},\"id\":\"963f9fda-2383-4963-b948-aa1fd246ee30\",\"type\":\"PanTool\"},{\"attributes\":{\"plot\":{\"id\":\"b9e76a15-615f-46cc-92f4-6b8eb43c44df\",\"subtype\":\"Figure\",\"type\":\"Plot\"}},\"id\":\"99c347f0-f900-413f-9b46-036fcc3122a8\",\"type\":\"ResetTool\"},{\"attributes\":{\"plot\":{\"id\":\"b9e76a15-615f-46cc-92f4-6b8eb43c44df\",\"subtype\":\"Figure\",\"type\":\"Plot\"}},\"id\":\"616e974a-ebc7-4f9d-9f16-d65322c54072\",\"type\":\"HelpTool\"},{\"attributes\":{\"level\":\"glyph\",\"plot\":{\"id\":\"b9e76a15-615f-46cc-92f4-6b8eb43c44df\",\"subtype\":\"Figure\",\"type\":\"Plot\"},\"source\":{\"id\":\"7372253d-976d-4e96-b326-6d87e64d3472\",\"type\":\"ColumnDataSource\"},\"text\":{\"field\":\"vals\"},\"text_font_size\":{\"value\":\"9pt\"},\"text_font_style\":\"bold\",\"x\":{\"field\":\"x\"},\"y\":{\"field\":\"y\"}},\"id\":\"39224eec-ebdf-4340-ba3b-f22791ade66a\",\"type\":\"LabelSet\"},{\"attributes\":{},\"id\":\"883d03b9-f9f7-4b03-8d41-bd0d0e632476\",\"type\":\"BasicTickFormatter\"},{\"attributes\":{\"plot\":null,\"text\":null},\"id\":\"7ab1116c-7db9-4b7e-a651-6a12c2a2707f\",\"type\":\"Title\"},{\"attributes\":{\"data_source\":{\"id\":\"e368043c-30a1-4989-9538-ea43f3614273\",\"type\":\"ColumnDataSource\"},\"glyph\":{\"id\":\"439cc468-b512-4a7c-9353-15e47e84525e\",\"type\":\"Quad\"},\"hover_glyph\":null,\"nonselection_glyph\":{\"id\":\"fc9a5c8b-c946-4cd5-9ba5-1061cf05c0a1\",\"type\":\"Quad\"},\"selection_glyph\":null},\"id\":\"88e0ed11-4b4c-43ab-a472-bdd51c5d9e25\",\"type\":\"GlyphRenderer\"},{\"attributes\":{\"callback\":null,\"end\":300},\"id\":\"007b73ff-7fe9-4ac1-a183-c9e35480b916\",\"type\":\"Range1d\"},{\"attributes\":{\"callback\":null,\"column_names\":[\"y\",\"x\",\"vals\"],\"data\":{\"vals\":[\"RAB3GAP1\",\"ZRANB3\",\"R3HDM1\",\"UBXN4\",\"LCT\",\"MCM6\",\"DARS\"],\"x\":[135869057.0,136122878.0,136385961.0,136520911.0,136570082.5,136615621.5,136703738.0],\"y\":[260.0,260.0,260.0,260.0,260.0,260.0,260.0]}},\"id\":\"76229c9f-a093-4641-b658-680e0b0c06ca\",\"type\":\"ColumnDataSource\"},{\"attributes\":{\"data_source\":{\"id\":\"e1c51106-f01a-4b88-bfc3-7418583562de\",\"type\":\"ColumnDataSource\"},\"glyph\":{\"id\":\"6c104b25-ee29-40e2-a980-48b9c4734505\",\"type\":\"MultiLine\"},\"hover_glyph\":null,\"nonselection_glyph\":{\"id\":\"344cf9b4-6e63-4a71-85d1-b3fe1af03da4\",\"type\":\"MultiLine\"},\"selection_glyph\":null},\"id\":\"642cf40e-db59-486f-aecf-e266732d13c8\",\"type\":\"GlyphRenderer\"},{\"attributes\":{\"line_alpha\":{\"value\":0.1},\"line_color\":{\"value\":\"#1f77b4\"},\"xs\":{\"field\":\"xs\"},\"ys\":{\"field\":\"ys\"}},\"id\":\"344cf9b4-6e63-4a71-85d1-b3fe1af03da4\",\"type\":\"MultiLine\"},{\"attributes\":{\"callback\":null,\"column_names\":[\"xs\",\"ys\",\"line_color\"],\"data\":{\"line_color\":[\"black\",\"black\",\"black\",\"black\",\"black\",\"black\",\"black\",\"black\",\"black\",\"black\",\"black\",\"black\",\"black\",\"black\",\"black\",\"black\",\"black\",\"black\",\"black\",\"black\",\"black\",\"black\",\"black\",\"black\",\"black\",\"black\",\"black\",\"black\",\"black\",\"black\",\"black\",\"black\",\"black\",\"black\",\"black\",\"black\",\"black\",\"black\",\"black\",\"black\",\"black\",\"black\",\"black\",\"black\",\"black\",\"black\",\"black\",\"black\",\"black\",\"black\",\"black\",\"black\",\"black\",\"black\",\"black\",\"black\",\"black\",\"black\",\"black\",\"black\",\"black\",\"black\",\"black\",\"black\",\"black\",\"black\",\"black\",\"black\",\"black\",\"black\",\"black\",\"black\",\"black\",\"black\",\"black\",\"black\",\"black\",\"black\",\"black\",\"black\",\"black\",\"black\",\"black\",\"black\",\"black\",\"black\",\"black\",\"black\",\"black\",\"black\",\"black\",\"black\",\"black\",\"black\",\"black\",\"black\",\"black\",\"black\",\"black\",\"black\",\"black\",\"black\",\"black\",\"black\",\"black\",\"black\",\"black\",\"black\",\"black\",\"black\",\"black\",\"black\",\"black\",\"black\",\"black\",\"black\",\"black\",\"black\",\"black\",\"black\",\"black\",\"black\"],\"xs\":[[135839805,135839805],[135866750,135866750],[135886744,135886744],[135924467,135924467],[135959272,135959272],[136149550,136149550],[136164840,136164840],[136313885,136313885],[136375855,136375855],[136393658,136393658],[136396300,136396300],[136401843,136401843],[136407445,136407445],[136411879,136411879],[136412270,136412270],[136413244,136413244],[136413847,136413847],[136415217,136415217],[136416533,136416533],[136420726,136420726],[136429857,136429857],[136433740,136433740],[136436317,136436317],[136437615,136437615],[136438517,136438517],[136440300,136440300],[136443900,136443900],[136444185,136444185],[136444338,136444338],[136449254,136449254],[136451676,136451676],[136459227,136459227],[136463117,136463117],[136463454,136463454],[136467119,136467119],[136468238,136468238],[136470219,136470219],[136483355,136483355],[136485276,136485276],[136486340,136486340],[136486342,136486342],[136494186,136494186],[136495300,136495300],[136495619,136495619],[136499166,136499166],[136502792,136502792],[136503157,136503157],[136507039,136507039],[136511575,136511575],[136518103,136518103],[136521514,136521514],[136522675,136522675],[136522941,136522941],[136526981,136526981],[136535410,136535410],[136539122,136539122],[136544197,136544197],[136550109,136550109],[136551694,136551694],[136553188,136553188],[136553639,136553639],[136554800,136554800],[136557319,136557319],[136558157,136558157],[136569848,136569848],[136575199,136575199],[136576577,136576577],[136578536,136578536],[136580287,136580287],[136583192,136583192],[136586958,136586958],[136588478,136588478],[136589612,136589612],[136591178,136591178],[136591859,136591859],[136593760,136593760],[136594158,136594158],[136603276,136603276],[136603366,136603366],[136608231,136608231],[136609975,136609975],[136610598,136610598],[136611624,136611624],[136613780,136613780],[136614255,136614255],[136614813,136614813],[136617524,136617524],[136622216,136622216],[136625602,136625602],[136629911,136629911],[136630757,136630757],[136630989,136630989],[136631031,136631031],[136633771,136633771],[136636324,136636324],[136638216,136638216],[136640233,136640233],[136641882,136641882],[136643555,136643555],[136658345,136658345],[136670298,136670298],[136685228,136685228],[136696138,136696138],[136740900,136740900],[136765951,136765951],[136501840,136501840],[136505546,136505546],[136516748,136516748],[136522710,136522710],[136528004,136528004],[136539513,136539513],[136544752,136544752],[136546110,136546110],[136553529,136553529],[136555659,136555659],[136682274,136682274],[136691825,136691825],[136698098,136698098],[136721603,136721603],[136721995,136721995],[136755684,136755684],[136775898,136775898]],\"ys\":[[50,90],[50,90],[50,90],[50,90],[50,88],[50,88],[50,88],[50,88],[50,88],[50,94],[50,94],[50,94],[50,94],[50,94],[50,94],[50,94],[50,94],[50,94],[50,94],[50,94],[50,94],[50,94],[50,94],[50,94],[50,94],[50,94],[50,94],[50,94],[50,94],[50,94],[50,94],[50,94],[50,94],[50,94],[50,94],[50,94],[50,94],[50,94],[50,94],[50,94],[50,94],[50,95],[50,95],[50,95],[50,95],[50,95],[50,95],[50,95],[50,95],[50,95],[50,95],[50,95],[50,95],[50,95],[50,95],[50,95],[50,95],[50,95],[50,95],[50,95],[50,95],[50,95],[50,95],[50,95],[50,95],[50,95],[50,95],[50,95],[50,95],[50,95],[50,95],[50,95],[50,95],[50,95],[50,95],[50,95],[50,95],[50,95],[50,95],[50,95],[50,95],[50,95],[50,95],[50,95],[50,95],[50,95],[50,95],[50,95],[50,95],[50,95],[50,95],[50,95],[50,95],[50,95],[50,95],[50,95],[50,95],[50,95],[50,95],[50,95],[50,95],[50,95],[50,95],[50,95],[50,95],[150,198],[150,198],[150,198],[150,198],[150,198],[150,198],[150,198],[150,198],[150,198],[150,198],[150,197],[150,197],[150,197],[150,197],[150,197],[150,197],[150,197]]}},\"id\":\"e1c51106-f01a-4b88-bfc3-7418583562de\",\"type\":\"ColumnDataSource\"},{\"attributes\":{\"below\":[{\"id\":\"c4f94926-97ce-445c-b1d5-426f39c305b6\",\"type\":\"LinearAxis\"}],\"left\":[{\"id\":\"09177ca3-05b1-46a6-ac04-8c950fb0148b\",\"type\":\"LinearAxis\"}],\"plot_height\":300,\"plot_width\":900,\"renderers\":[{\"id\":\"c4f94926-97ce-445c-b1d5-426f39c305b6\",\"type\":\"LinearAxis\"},{\"id\":\"874500b3-3a07-46dc-9cec-b7ecca445cb9\",\"type\":\"Grid\"},{\"id\":\"09177ca3-05b1-46a6-ac04-8c950fb0148b\",\"type\":\"LinearAxis\"},{\"id\":\"429a1d9e-5578-4a63-9369-241fc49d0349\",\"type\":\"Grid\"},{\"id\":\"ddaa99eb-e798-4749-a8d2-05c7d2ec3f1b\",\"type\":\"BoxAnnotation\"},{\"id\":\"79d4e775-fdc1-422e-9d27-d8760ad10911\",\"type\":\"GlyphRenderer\"},{\"id\":\"642cf40e-db59-486f-aecf-e266732d13c8\",\"type\":\"GlyphRenderer\"},{\"id\":\"39224eec-ebdf-4340-ba3b-f22791ade66a\",\"type\":\"LabelSet\"},{\"id\":\"88e0ed11-4b4c-43ab-a472-bdd51c5d9e25\",\"type\":\"GlyphRenderer\"},{\"id\":\"dc78164c-8b84-48b1-9c0c-005ee4e8ae77\",\"type\":\"LabelSet\"}],\"title\":{\"id\":\"7ab1116c-7db9-4b7e-a651-6a12c2a2707f\",\"type\":\"Title\"},\"tool_events\":{\"id\":\"4b62d0ad-1812-4e0b-912e-7d18d36f6d39\",\"type\":\"ToolEvents\"},\"toolbar\":{\"id\":\"119dc9ce-bcc1-467e-8ed5-01180de1cb2c\",\"type\":\"Toolbar\"},\"toolbar_location\":null,\"x_range\":{\"id\":\"fbc57ff0-62ab-441b-a068-93461f182a91\",\"type\":\"Range1d\"},\"y_range\":{\"id\":\"007b73ff-7fe9-4ac1-a183-c9e35480b916\",\"type\":\"Range1d\"}},\"id\":\"b9e76a15-615f-46cc-92f4-6b8eb43c44df\",\"subtype\":\"Figure\",\"type\":\"Plot\"},{\"attributes\":{\"overlay\":{\"id\":\"ddaa99eb-e798-4749-a8d2-05c7d2ec3f1b\",\"type\":\"BoxAnnotation\"},\"plot\":{\"id\":\"b9e76a15-615f-46cc-92f4-6b8eb43c44df\",\"subtype\":\"Figure\",\"type\":\"Plot\"}},\"id\":\"ac3b5086-c3dd-4d68-a1fb-b7813ad8c5a4\",\"type\":\"BoxZoomTool\"},{\"attributes\":{\"bottom\":{\"field\":\"bottom\"},\"fill_alpha\":{\"value\":0.1},\"fill_color\":{\"value\":\"#1f77b4\"},\"left\":{\"field\":\"left\"},\"line_alpha\":{\"value\":0.1},\"line_color\":{\"value\":\"#1f77b4\"},\"right\":{\"field\":\"right\"},\"top\":{\"field\":\"top\"}},\"id\":\"424eb66b-078c-485e-9e8b-88bda92c6b74\",\"type\":\"Quad\"},{\"attributes\":{\"bottom_units\":\"screen\",\"fill_alpha\":{\"value\":0.5},\"fill_color\":{\"value\":\"lightgrey\"},\"left_units\":\"screen\",\"level\":\"overlay\",\"line_alpha\":{\"value\":1.0},\"line_color\":{\"value\":\"black\"},\"line_dash\":[4,4],\"line_width\":{\"value\":2},\"plot\":null,\"render_mode\":\"css\",\"right_units\":\"screen\",\"top_units\":\"screen\"},\"id\":\"ddaa99eb-e798-4749-a8d2-05c7d2ec3f1b\",\"type\":\"BoxAnnotation\"},{\"attributes\":{\"bottom\":{\"field\":\"bottom\"},\"fill_alpha\":{\"value\":0.1},\"fill_color\":{\"value\":\"#1f77b4\"},\"left\":{\"field\":\"left\"},\"line_alpha\":{\"value\":0.1},\"line_color\":{\"value\":\"#1f77b4\"},\"right\":{\"field\":\"right\"},\"top\":{\"field\":\"top\"}},\"id\":\"fc9a5c8b-c946-4cd5-9ba5-1061cf05c0a1\",\"type\":\"Quad\"},{\"attributes\":{\"bottom\":{\"field\":\"bottom\"},\"fill_color\":{\"field\":\"fill_color\"},\"left\":{\"field\":\"left\"},\"line_color\":{\"value\":null},\"right\":{\"field\":\"right\"},\"top\":{\"field\":\"top\"}},\"id\":\"989bc307-b138-470d-ab00-666ee092195f\",\"type\":\"Quad\"},{\"attributes\":{\"callback\":null,\"end\":136786630,\"start\":135757320},\"id\":\"fbc57ff0-62ab-441b-a068-93461f182a91\",\"type\":\"Range1d\"},{\"attributes\":{\"plot\":{\"id\":\"b9e76a15-615f-46cc-92f4-6b8eb43c44df\",\"subtype\":\"Figure\",\"type\":\"Plot\"}},\"id\":\"c9954f5a-b8c4-487e-a2d1-f27ffabc4783\",\"type\":\"WheelZoomTool\"},{\"attributes\":{},\"id\":\"01355c52-fda9-4ea1-98b1-3b3007bd0db5\",\"type\":\"BasicTicker\"},{\"attributes\":{\"plot\":{\"id\":\"b9e76a15-615f-46cc-92f4-6b8eb43c44df\",\"subtype\":\"Figure\",\"type\":\"Plot\"},\"ticker\":{\"id\":\"01355c52-fda9-4ea1-98b1-3b3007bd0db5\",\"type\":\"BasicTicker\"}},\"id\":\"874500b3-3a07-46dc-9cec-b7ecca445cb9\",\"type\":\"Grid\"},{\"attributes\":{\"callback\":null,\"column_names\":[\"right\",\"bottom\",\"top\",\"left\",\"fill_color\"],\"data\":{\"bottom\":[50,50,50,50,150,150],\"fill_color\":[\"#61c4c4\",\"#ffff00\",\"#c4c461\",\"#61c461\",\"#808080\",\"#61c461\"],\"left\":[135839805,135959272,136393658,136494186,136501840,136682274],\"right\":[135924467,136375855,136486342,136765951,136555659,136775898],\"top\":[90,88,94,95,198,197]}},\"id\":\"4ab55219-9aed-4614-89ec-03d7f1403cdc\",\"type\":\"ColumnDataSource\"},{\"attributes\":{},\"id\":\"4b62d0ad-1812-4e0b-912e-7d18d36f6d39\",\"type\":\"ToolEvents\"},{\"attributes\":{},\"id\":\"043c72e8-9615-4457-ae1c-ea5e5b28d007\",\"type\":\"BasicTicker\"},{\"attributes\":{\"line_color\":{\"field\":\"line_color\"},\"xs\":{\"field\":\"xs\"},\"ys\":{\"field\":\"ys\"}},\"id\":\"6c104b25-ee29-40e2-a980-48b9c4734505\",\"type\":\"MultiLine\"},{\"attributes\":{\"active_drag\":\"auto\",\"active_scroll\":\"auto\",\"active_tap\":\"auto\",\"tools\":[{\"id\":\"963f9fda-2383-4963-b948-aa1fd246ee30\",\"type\":\"PanTool\"},{\"id\":\"c9954f5a-b8c4-487e-a2d1-f27ffabc4783\",\"type\":\"WheelZoomTool\"},{\"id\":\"ac3b5086-c3dd-4d68-a1fb-b7813ad8c5a4\",\"type\":\"BoxZoomTool\"},{\"id\":\"653641cc-ba14-413d-b876-5842fc3b97f5\",\"type\":\"SaveTool\"},{\"id\":\"99c347f0-f900-413f-9b46-036fcc3122a8\",\"type\":\"ResetTool\"},{\"id\":\"616e974a-ebc7-4f9d-9f16-d65322c54072\",\"type\":\"HelpTool\"}]},\"id\":\"119dc9ce-bcc1-467e-8ed5-01180de1cb2c\",\"type\":\"Toolbar\"},{\"attributes\":{\"plot\":{\"id\":\"b9e76a15-615f-46cc-92f4-6b8eb43c44df\",\"subtype\":\"Figure\",\"type\":\"Plot\"}},\"id\":\"653641cc-ba14-413d-b876-5842fc3b97f5\",\"type\":\"SaveTool\"},{\"attributes\":{\"formatter\":{\"id\":\"883d03b9-f9f7-4b03-8d41-bd0d0e632476\",\"type\":\"BasicTickFormatter\"},\"plot\":{\"id\":\"b9e76a15-615f-46cc-92f4-6b8eb43c44df\",\"subtype\":\"Figure\",\"type\":\"Plot\"},\"ticker\":{\"id\":\"043c72e8-9615-4457-ae1c-ea5e5b28d007\",\"type\":\"BasicTicker\"},\"visible\":null},\"id\":\"09177ca3-05b1-46a6-ac04-8c950fb0148b\",\"type\":\"LinearAxis\"},{\"attributes\":{\"data_source\":{\"id\":\"4ab55219-9aed-4614-89ec-03d7f1403cdc\",\"type\":\"ColumnDataSource\"},\"glyph\":{\"id\":\"989bc307-b138-470d-ab00-666ee092195f\",\"type\":\"Quad\"},\"hover_glyph\":null,\"nonselection_glyph\":{\"id\":\"424eb66b-078c-485e-9e8b-88bda92c6b74\",\"type\":\"Quad\"},\"selection_glyph\":null},\"id\":\"79d4e775-fdc1-422e-9d27-d8760ad10911\",\"type\":\"GlyphRenderer\"},{\"attributes\":{\"level\":\"glyph\",\"plot\":{\"id\":\"b9e76a15-615f-46cc-92f4-6b8eb43c44df\",\"subtype\":\"Figure\",\"type\":\"Plot\"},\"source\":{\"id\":\"76229c9f-a093-4641-b658-680e0b0c06ca\",\"type\":\"ColumnDataSource\"},\"text\":{\"field\":\"vals\"},\"text_align\":\"center\",\"text_baseline\":\"middle\",\"text_font_size\":{\"value\":\"8pt\"},\"x\":{\"field\":\"x\"},\"y\":{\"field\":\"y\"}},\"id\":\"dc78164c-8b84-48b1-9c0c-005ee4e8ae77\",\"type\":\"LabelSet\"},{\"attributes\":{\"callback\":null,\"column_names\":[\"right\",\"bottom\",\"top\",\"left\"],\"data\":{\"bottom\":[245,245,245,245,245,245,245],\"left\":[135809835,135957574,136289083,136499189,136545415,136597196,136664254],\"right\":[135928279,136288182,136482839,136542633,136594750,136634047,136743222],\"top\":[275,275,275,275,275,275,275]}},\"id\":\"e368043c-30a1-4989-9538-ea43f3614273\",\"type\":\"ColumnDataSource\"},{\"attributes\":{\"formatter\":{\"id\":\"3846aee7-d9ed-4280-9673-9c3b861ac31f\",\"type\":\"BasicTickFormatter\"},\"plot\":{\"id\":\"b9e76a15-615f-46cc-92f4-6b8eb43c44df\",\"subtype\":\"Figure\",\"type\":\"Plot\"},\"ticker\":{\"id\":\"01355c52-fda9-4ea1-98b1-3b3007bd0db5\",\"type\":\"BasicTicker\"}},\"id\":\"c4f94926-97ce-445c-b1d5-426f39c305b6\",\"type\":\"LinearAxis\"}],\"root_ids\":[\"b9e76a15-615f-46cc-92f4-6b8eb43c44df\"]},\"title\":\"Bokeh Application\",\"version\":\"0.12.0\"}};\n",
       "            var render_items = [{\"docid\":\"150d0a8d-9449-46db-9278-84e09b6e681f\",\"elementid\":\"026fc704-a2c2-41f1-8543-02c86975dff8\",\"modelid\":\"b9e76a15-615f-46cc-92f4-6b8eb43c44df\",\"notebook_comms_target\":\"183d6f1b-826e-4c8d-a934-1211b30fa067\"}];\n",
       "            \n",
       "            Bokeh.embed.embed_items(docs_json, render_items);\n",
       "        });\n",
       "      },\n",
       "      function(Bokeh) {\n",
       "      }\n",
       "    ];\n",
       "  \n",
       "    function run_inline_js() {\n",
       "      for (var i = 0; i < inline_js.length; i++) {\n",
       "        inline_js[i](window.Bokeh);\n",
       "      }\n",
       "    }\n",
       "  \n",
       "    if (window._bokeh_is_loading === 0) {\n",
       "      console.log(\"Bokeh: BokehJS loaded, going straight to plotting\");\n",
       "      run_inline_js();\n",
       "    } else {\n",
       "      load_libs(js_urls, function() {\n",
       "        console.log(\"Bokeh: BokehJS plotting callback run at\", now());\n",
       "        run_inline_js();\n",
       "      });\n",
       "    }\n",
       "  }(this));\n",
       "</script>"
      ]
     },
     "metadata": {},
     "output_type": "display_data"
    },
    {
     "data": {
      "text/html": [
       "<p><code>&lt;Bokeh Notebook handle for <strong>In[12]</strong>&gt;</code></p>"
      ],
      "text/plain": [
       "<bokeh.io._CommsHandle at 0x7f148b3099d0>"
      ]
     },
     "execution_count": 12,
     "metadata": {},
     "output_type": "execute_result"
    }
   ],
   "source": [
    "plt_obj = dm.superset_allele_mask(am_29, min_match=0.5)\n",
    "plt = plt_obj.do_plot()\n",
    "am_4_815 = plt_obj.plot_context.yes_allele_mask\n",
    "show(plt)"
   ]
  },
  {
   "cell_type": "markdown",
   "metadata": {},
   "source": [
    "<div style=\"width:700px\">\n",
    "<p>\n",
    "This plot shows the series expressed by at least 50% of the chromosome samples that express a 29\n",
    "SNP fragment of the series 193_843 SNPs.  It indentifies the result of a recombination events that\n",
    "have associated the series 4_815 from the South Asian tree with 5_684 and 32_1361 from the East Asian\n",
    "tree and with 64_1575, 10_2206, and 7_1868 from the European tree.\n",
    "</div>"
   ]
  },
  {
   "cell_type": "code",
   "execution_count": 13,
   "metadata": {
    "collapsed": false
   },
   "outputs": [
    {
     "data": {
      "text/html": [
       "<table>\n",
       "<thead><tr><th style=\"text-align:center\">index</th><th style=\"text-align:center\">first</th><th style=\"text-align:center\">length</th><th style=\"text-align:center\">snps</th><th style=\"text-align:center\" colspan=2>alleles</th><th style=\"text-align:center\" colspan=2>matches</th><th style=\"text-align:center\" colspan=2>afr</th><th style=\"text-align:center\" colspan=2>afx</th><th style=\"text-align:center\" colspan=2>amr</th><th style=\"text-align:center\" colspan=2>eas</th><th style=\"text-align:center\" colspan=2>eur</th><th style=\"text-align:center\" colspan=2>sas</th><th style=\"text-align:center\" colspan=2>sax</th></tr></thead>\n",
       "<tr class=\"even\"><td style=\"text-align: right;\">353921</td><td style=\"text-align: right;\">136,501,840</td><td style=\"text-align: right;\">53,819</td><td style=\"text-align: right;\">10</td><td style=\"text-align: right;\">2206</td><td style=\"text-align: right;\">0.03</td><td style=\"text-align: right;\">60</td><td style=\"text-align: right;\">0.64</td><td style=\"text-align: right;\">0</td><td style=\"text-align: right;\">0.00</td><td style=\"text-align: right;\">0</td><td style=\"text-align: right;\">0.00</td><td style=\"text-align: right;\">0</td><td style=\"text-align: right;\">0.00</td><td style=\"text-align: right;\">59</td><td style=\"text-align: right;\">4.89</td><td style=\"text-align: right;\">0</td><td style=\"text-align: right;\">0.00</td><td style=\"text-align: right;\">1</td><td style=\"text-align: right;\">0.23</td><td style=\"text-align: right;\">0</td><td style=\"text-align: right;\">0.00</td></tr>\n",
       "<tr><td style=\"text-align: right;\">354170</td><td style=\"text-align: right;\">136,682,274</td><td style=\"text-align: right;\">93,624</td><td style=\"text-align: right;\">7</td><td style=\"text-align: right;\">1868</td><td style=\"text-align: right;\">0.03</td><td style=\"text-align: right;\">62</td><td style=\"text-align: right;\">0.66</td><td style=\"text-align: right;\">1</td><td style=\"text-align: right;\">0.08</td><td style=\"text-align: right;\">0</td><td style=\"text-align: right;\">0.00</td><td style=\"text-align: right;\">0</td><td style=\"text-align: right;\">0.00</td><td style=\"text-align: right;\">59</td><td style=\"text-align: right;\">4.73</td><td style=\"text-align: right;\">1</td><td style=\"text-align: right;\">0.08</td><td style=\"text-align: right;\">1</td><td style=\"text-align: right;\">0.22</td><td style=\"text-align: right;\">0</td><td style=\"text-align: right;\">0.00</td></tr>\n",
       "<tr class=\"even\"><td style=\"text-align: right;\">353901</td><td style=\"text-align: right;\">136,494,186</td><td style=\"text-align: right;\">271,765</td><td style=\"text-align: right;\">64</td><td style=\"text-align: right;\">1575</td><td style=\"text-align: right;\">0.04</td><td style=\"text-align: right;\">60</td><td style=\"text-align: right;\">0.64</td><td style=\"text-align: right;\">0</td><td style=\"text-align: right;\">0.00</td><td style=\"text-align: right;\">0</td><td style=\"text-align: right;\">0.00</td><td style=\"text-align: right;\">0</td><td style=\"text-align: right;\">0.00</td><td style=\"text-align: right;\">59</td><td style=\"text-align: right;\">4.89</td><td style=\"text-align: right;\">0</td><td style=\"text-align: right;\">0.00</td><td style=\"text-align: right;\">1</td><td style=\"text-align: right;\">0.23</td><td style=\"text-align: right;\">0</td><td style=\"text-align: right;\">0.00</td></tr>\n",
       "<tr><td style=\"text-align: right;\">353791</td><td style=\"text-align: right;\">136,393,658</td><td style=\"text-align: right;\">92,684</td><td style=\"text-align: right;\">32</td><td style=\"text-align: right;\">1361</td><td style=\"text-align: right;\">0.06</td><td style=\"text-align: right;\">79</td><td style=\"text-align: right;\">0.84</td><td style=\"text-align: right;\">1</td><td style=\"text-align: right;\">0.06</td><td style=\"text-align: right;\">0</td><td style=\"text-align: right;\">0.00</td><td style=\"text-align: right;\">0</td><td style=\"text-align: right;\">0.00</td><td style=\"text-align: right;\">71</td><td style=\"text-align: right;\">4.47</td><td style=\"text-align: right;\">1</td><td style=\"text-align: right;\">0.06</td><td style=\"text-align: right;\">4</td><td style=\"text-align: right;\">0.70</td><td style=\"text-align: right;\">2</td><td style=\"text-align: right;\">0.21</td></tr>\n",
       "<tr class=\"even\"><td style=\"text-align: right;\">353384</td><td style=\"text-align: right;\">135,839,805</td><td style=\"text-align: right;\">84,662</td><td style=\"text-align: right;\">4</td><td style=\"text-align: right;\">815</td><td style=\"text-align: right;\">0.11</td><td style=\"text-align: right;\">93</td><td style=\"text-align: right;\">0.99</td><td style=\"text-align: right;\">2</td><td style=\"text-align: right;\">0.11</td><td style=\"text-align: right;\">0</td><td style=\"text-align: right;\">0.00</td><td style=\"text-align: right;\">0</td><td style=\"text-align: right;\">0.00</td><td style=\"text-align: right;\">84</td><td style=\"text-align: right;\">4.49</td><td style=\"text-align: right;\">1</td><td style=\"text-align: right;\">0.05</td><td style=\"text-align: right;\">4</td><td style=\"text-align: right;\">0.59</td><td style=\"text-align: right;\">2</td><td style=\"text-align: right;\">0.18</td></tr>\n",
       "<tr><td style=\"text-align: right;\">353498</td><td style=\"text-align: right;\">135,959,272</td><td style=\"text-align: right;\">416,583</td><td style=\"text-align: right;\">5</td><td style=\"text-align: right;\">684</td><td style=\"text-align: right;\">0.13</td><td style=\"text-align: right;\">87</td><td style=\"text-align: right;\">0.93</td><td style=\"text-align: right;\">0</td><td style=\"text-align: right;\">0.00</td><td style=\"text-align: right;\">0</td><td style=\"text-align: right;\">0.00</td><td style=\"text-align: right;\">0</td><td style=\"text-align: right;\">0.00</td><td style=\"text-align: right;\">82</td><td style=\"text-align: right;\">4.68</td><td style=\"text-align: right;\">0</td><td style=\"text-align: right;\">0.00</td><td style=\"text-align: right;\">4</td><td style=\"text-align: right;\">0.63</td><td style=\"text-align: right;\">1</td><td style=\"text-align: right;\">0.09</td></tr>\n",
       "</table>"
      ],
      "text/plain": [
       "<IPython.core.display.HTML object>"
      ]
     },
     "execution_count": 13,
     "metadata": {},
     "output_type": "execute_result"
    }
   ],
   "source": [
    "HTML(plt_obj.get_html())"
   ]
  },
  {
   "cell_type": "markdown",
   "metadata": {},
   "source": [
    "<div style=\"width:700px\">\n",
    "<p>\n",
    "The data from the plot show that 93 out of the 94 chromsome samples that express 29 193_843\n",
    "SNPs express the series 4_815 and that 87 of them express the series 5_864\n",
    "</div>"
   ]
  },
  {
   "cell_type": "code",
   "execution_count": 42,
   "metadata": {
    "collapsed": false
   },
   "outputs": [
    {
     "data": {
      "text/plain": [
       "array([93, 93, 93, 93, 93, 93, 93, 93, 93, 93, 93, 93, 93, 93, 93, 93, 93,\n",
       "       93, 93, 93, 93, 93, 93, 93, 93, 93, 93, 93, 93,  0,  0,  0,  0,  0,\n",
       "        0,  0,  0,  0,  0,  0,  0,  0,  0,  0,  0,  0,  0,  0,  0,  0,  0,\n",
       "        0,  0,  0,  0,  0,  0,  0,  0,  0,  0,  0,  0,  0,  0,  0,  0,  0,\n",
       "        0,  0,  0,  0,  0,  0,  0,  0,  0,  0,  0,  0,  0,  0,  0,  0,  0,\n",
       "        0,  0,  0,  0,  0,  0,  0,  0,  0,  0,  0,  0,  0,  0,  0,  0,  0,\n",
       "        0,  0,  0,  0,  0,  0,  0,  0,  0,  0,  0,  0,  0,  0,  0,  0,  0,\n",
       "        0,  0,  0,  0,  0,  0,  0,  0,  0,  0,  0,  0,  0,  0,  0,  0,  0,\n",
       "        0,  0,  0,  0,  0,  0,  0,  0,  0,  0,  0,  0,  0,  0,  0,  0,  0,\n",
       "        0,  0,  0,  0,  0,  0,  0,  0,  0,  0,  0,  0,  0,  0,  0,  0,  0,\n",
       "        0,  0,  0,  0,  0,  0,  0,  0,  0,  0,  0,  0,  0,  0,  0,  0,  0,\n",
       "        0,  0,  0,  0,  0,  0])"
      ]
     },
     "execution_count": 42,
     "metadata": {},
     "output_type": "execute_result"
    }
   ],
   "source": [
    "an.sa_193_843.alleles_per_snp(am_4_815)"
   ]
  },
  {
   "cell_type": "markdown",
   "metadata": {},
   "source": [
    "<div style=\"width:700px\">\n",
    "<p>\n",
    "This data confirms that the 93 chromosome samples that express 4_815 are the\n",
    "93 chromsome samples that express the first 29 SNPs of the series 193_843.\n",
    "</div>"
   ]
  },
  {
   "cell_type": "code",
   "execution_count": 43,
   "metadata": {
    "collapsed": false
   },
   "outputs": [
    {
     "data": {
      "text/html": [
       "\n",
       "\n",
       "    <div class=\"bk-root\">\n",
       "        <div class=\"plotdiv\" id=\"8f2544ca-a019-4406-bf65-eb0a4a45016d\"></div>\n",
       "    </div>\n",
       "<script type=\"text/javascript\">\n",
       "  \n",
       "  (function(global) {\n",
       "    function now() {\n",
       "      return new Date();\n",
       "    }\n",
       "  \n",
       "    if (typeof (window._bokeh_onload_callbacks) === \"undefined\") {\n",
       "      window._bokeh_onload_callbacks = [];\n",
       "    }\n",
       "  \n",
       "    function run_callbacks() {\n",
       "      window._bokeh_onload_callbacks.forEach(function(callback) { callback() });\n",
       "      delete window._bokeh_onload_callbacks\n",
       "      console.info(\"Bokeh: all callbacks have finished\");\n",
       "    }\n",
       "  \n",
       "    function load_libs(js_urls, callback) {\n",
       "      window._bokeh_onload_callbacks.push(callback);\n",
       "      if (window._bokeh_is_loading > 0) {\n",
       "        console.log(\"Bokeh: BokehJS is being loaded, scheduling callback at\", now());\n",
       "        return null;\n",
       "      }\n",
       "      if (js_urls == null || js_urls.length === 0) {\n",
       "        run_callbacks();\n",
       "        return null;\n",
       "      }\n",
       "      console.log(\"Bokeh: BokehJS not loaded, scheduling load and callback at\", now());\n",
       "      window._bokeh_is_loading = js_urls.length;\n",
       "      for (var i = 0; i < js_urls.length; i++) {\n",
       "        var url = js_urls[i];\n",
       "        var s = document.createElement('script');\n",
       "        s.src = url;\n",
       "        s.async = false;\n",
       "        s.onreadystatechange = s.onload = function() {\n",
       "          window._bokeh_is_loading--;\n",
       "          if (window._bokeh_is_loading === 0) {\n",
       "            console.log(\"Bokeh: all BokehJS libraries loaded\");\n",
       "            run_callbacks()\n",
       "          }\n",
       "        };\n",
       "        s.onerror = function() {\n",
       "          console.warn(\"failed to load library \" + url);\n",
       "        };\n",
       "        console.log(\"Bokeh: injecting script tag for BokehJS library: \", url);\n",
       "        document.getElementsByTagName(\"head\")[0].appendChild(s);\n",
       "      }\n",
       "    };var element = document.getElementById(\"8f2544ca-a019-4406-bf65-eb0a4a45016d\");\n",
       "    if (element == null) {\n",
       "      console.log(\"Bokeh: ERROR: autoload.js configured with elementid '8f2544ca-a019-4406-bf65-eb0a4a45016d' but no matching script tag was found. \")\n",
       "      return false;\n",
       "    }\n",
       "  \n",
       "    var js_urls = [];\n",
       "  \n",
       "    var inline_js = [\n",
       "      function(Bokeh) {\n",
       "        Bokeh.$(function() {\n",
       "            var docs_json = {\"3550987b-5be1-48ae-a7eb-8b4ab632e26f\":{\"roots\":{\"references\":[{\"attributes\":{\"callback\":null,\"column_names\":[\"y\",\"x\",\"vals\"],\"data\":{\"vals\":[\"4_815\",\"5_684\",\"32_1361\",\"64_1575\",\"10_2206\",\"7_1868\"],\"x\":[135839805,135959272,136393658,136494186,136501840,136682274],\"y\":[95.0,93.0,99.0,100.0,203.0,202.0]}},\"id\":\"5836d783-7606-41d8-9631-e7ef3041b986\",\"type\":\"ColumnDataSource\"},{\"attributes\":{\"data_source\":{\"id\":\"7399a222-2124-4d71-addb-46a2f4829e21\",\"type\":\"ColumnDataSource\"},\"glyph\":{\"id\":\"ad12c619-1d0f-4ab3-95da-d089105a1bd2\",\"type\":\"Quad\"},\"hover_glyph\":null,\"nonselection_glyph\":{\"id\":\"0ad7b8ac-e328-43a8-abd5-02f0d31e9350\",\"type\":\"Quad\"},\"selection_glyph\":null},\"id\":\"e3228483-aa9d-4c35-9488-186828ea8512\",\"type\":\"GlyphRenderer\"},{\"attributes\":{},\"id\":\"47e3eeb2-57ec-425a-a5d4-e3d5b577c2c3\",\"type\":\"BasicTickFormatter\"},{\"attributes\":{\"line_alpha\":{\"value\":0.1},\"line_color\":{\"value\":\"#1f77b4\"},\"xs\":{\"field\":\"xs\"},\"ys\":{\"field\":\"ys\"}},\"id\":\"20e3e085-c9d9-4348-9667-1c473374d6f7\",\"type\":\"MultiLine\"},{\"attributes\":{\"plot\":null,\"text\":null},\"id\":\"35380783-c37b-46ea-897e-c437bcf8ff05\",\"type\":\"Title\"},{\"attributes\":{\"plot\":{\"id\":\"b06a9ef0-e172-4fb0-81b0-bc962fab0b8e\",\"subtype\":\"Figure\",\"type\":\"Plot\"}},\"id\":\"e541f6aa-cda3-4958-9014-1d5517f8ce06\",\"type\":\"SaveTool\"},{\"attributes\":{\"callback\":null,\"column_names\":[\"y\",\"x\",\"vals\"],\"data\":{\"vals\":[\"RAB3GAP1\",\"ZRANB3\",\"R3HDM1\",\"UBXN4\",\"LCT\",\"MCM6\",\"DARS\"],\"x\":[135869057.0,136122878.0,136385961.0,136520911.0,136570082.5,136615621.5,136703738.0],\"y\":[260.0,260.0,260.0,260.0,260.0,260.0,260.0]}},\"id\":\"64747bdd-7184-4fac-b91b-095ab777667d\",\"type\":\"ColumnDataSource\"},{\"attributes\":{\"callback\":null,\"column_names\":[\"xs\",\"ys\",\"line_color\"],\"data\":{\"line_color\":[\"black\",\"black\",\"black\",\"black\",\"black\",\"black\",\"black\",\"black\",\"black\",\"black\",\"black\",\"black\",\"black\",\"black\",\"black\",\"black\",\"black\",\"black\",\"black\",\"black\",\"black\",\"black\",\"black\",\"black\",\"black\",\"black\",\"black\",\"black\",\"black\",\"black\",\"black\",\"black\",\"black\",\"black\",\"black\",\"black\",\"black\",\"black\",\"black\",\"black\",\"black\",\"black\",\"black\",\"black\",\"black\",\"black\",\"black\",\"black\",\"black\",\"black\",\"black\",\"black\",\"black\",\"black\",\"black\",\"black\",\"black\",\"black\",\"black\",\"black\",\"black\",\"black\",\"black\",\"black\",\"black\",\"black\",\"black\",\"black\",\"black\",\"black\",\"black\",\"black\",\"black\",\"black\",\"black\",\"black\",\"black\",\"black\",\"black\",\"black\",\"black\",\"black\",\"black\",\"black\",\"black\",\"black\",\"black\",\"black\",\"black\",\"black\",\"black\",\"black\",\"black\",\"black\",\"black\",\"black\",\"black\",\"black\",\"black\",\"black\",\"black\",\"black\",\"black\",\"black\",\"black\",\"black\",\"black\",\"black\",\"black\",\"black\",\"black\",\"black\",\"black\",\"black\",\"black\",\"black\",\"black\",\"black\",\"black\",\"black\",\"black\",\"black\"],\"xs\":[[135839805,135839805],[135866750,135866750],[135886744,135886744],[135924467,135924467],[135959272,135959272],[136149550,136149550],[136164840,136164840],[136313885,136313885],[136375855,136375855],[136393658,136393658],[136396300,136396300],[136401843,136401843],[136407445,136407445],[136411879,136411879],[136412270,136412270],[136413244,136413244],[136413847,136413847],[136415217,136415217],[136416533,136416533],[136420726,136420726],[136429857,136429857],[136433740,136433740],[136436317,136436317],[136437615,136437615],[136438517,136438517],[136440300,136440300],[136443900,136443900],[136444185,136444185],[136444338,136444338],[136449254,136449254],[136451676,136451676],[136459227,136459227],[136463117,136463117],[136463454,136463454],[136467119,136467119],[136468238,136468238],[136470219,136470219],[136483355,136483355],[136485276,136485276],[136486340,136486340],[136486342,136486342],[136494186,136494186],[136495300,136495300],[136495619,136495619],[136499166,136499166],[136502792,136502792],[136503157,136503157],[136507039,136507039],[136511575,136511575],[136518103,136518103],[136521514,136521514],[136522675,136522675],[136522941,136522941],[136526981,136526981],[136535410,136535410],[136539122,136539122],[136544197,136544197],[136550109,136550109],[136551694,136551694],[136553188,136553188],[136553639,136553639],[136554800,136554800],[136557319,136557319],[136558157,136558157],[136569848,136569848],[136575199,136575199],[136576577,136576577],[136578536,136578536],[136580287,136580287],[136583192,136583192],[136586958,136586958],[136588478,136588478],[136589612,136589612],[136591178,136591178],[136591859,136591859],[136593760,136593760],[136594158,136594158],[136603276,136603276],[136603366,136603366],[136608231,136608231],[136609975,136609975],[136610598,136610598],[136611624,136611624],[136613780,136613780],[136614255,136614255],[136614813,136614813],[136617524,136617524],[136622216,136622216],[136625602,136625602],[136629911,136629911],[136630757,136630757],[136630989,136630989],[136631031,136631031],[136633771,136633771],[136636324,136636324],[136638216,136638216],[136640233,136640233],[136641882,136641882],[136643555,136643555],[136658345,136658345],[136670298,136670298],[136685228,136685228],[136696138,136696138],[136740900,136740900],[136765951,136765951],[136501840,136501840],[136505546,136505546],[136516748,136516748],[136522710,136522710],[136528004,136528004],[136539513,136539513],[136544752,136544752],[136546110,136546110],[136553529,136553529],[136555659,136555659],[136682274,136682274],[136691825,136691825],[136698098,136698098],[136721603,136721603],[136721995,136721995],[136755684,136755684],[136775898,136775898]],\"ys\":[[50,90],[50,90],[50,90],[50,90],[50,88],[50,88],[50,88],[50,88],[50,88],[50,94],[50,94],[50,94],[50,94],[50,94],[50,94],[50,94],[50,94],[50,94],[50,94],[50,94],[50,94],[50,94],[50,94],[50,94],[50,94],[50,94],[50,94],[50,94],[50,94],[50,94],[50,94],[50,94],[50,94],[50,94],[50,94],[50,94],[50,94],[50,94],[50,94],[50,94],[50,94],[50,95],[50,95],[50,95],[50,95],[50,95],[50,95],[50,95],[50,95],[50,95],[50,95],[50,95],[50,95],[50,95],[50,95],[50,95],[50,95],[50,95],[50,95],[50,95],[50,95],[50,95],[50,95],[50,95],[50,95],[50,95],[50,95],[50,95],[50,95],[50,95],[50,95],[50,95],[50,95],[50,95],[50,95],[50,95],[50,95],[50,95],[50,95],[50,95],[50,95],[50,95],[50,95],[50,95],[50,95],[50,95],[50,95],[50,95],[50,95],[50,95],[50,95],[50,95],[50,95],[50,95],[50,95],[50,95],[50,95],[50,95],[50,95],[50,95],[50,95],[50,95],[50,95],[50,95],[50,95],[150,198],[150,198],[150,198],[150,198],[150,198],[150,198],[150,198],[150,198],[150,198],[150,198],[150,197],[150,197],[150,197],[150,197],[150,197],[150,197],[150,197]]}},\"id\":\"2d9576f2-31a0-4d53-b2ee-fdb400bd9e02\",\"type\":\"ColumnDataSource\"},{\"attributes\":{\"formatter\":{\"id\":\"faf3d34e-dd4d-4726-8a9f-6abe9c130f13\",\"type\":\"BasicTickFormatter\"},\"plot\":{\"id\":\"b06a9ef0-e172-4fb0-81b0-bc962fab0b8e\",\"subtype\":\"Figure\",\"type\":\"Plot\"},\"ticker\":{\"id\":\"14c68714-e580-44f0-a21e-0f73909aedbf\",\"type\":\"BasicTicker\"}},\"id\":\"cccfb46b-f3da-4c1c-ac47-e78b16100e36\",\"type\":\"LinearAxis\"},{\"attributes\":{\"formatter\":{\"id\":\"47e3eeb2-57ec-425a-a5d4-e3d5b577c2c3\",\"type\":\"BasicTickFormatter\"},\"plot\":{\"id\":\"b06a9ef0-e172-4fb0-81b0-bc962fab0b8e\",\"subtype\":\"Figure\",\"type\":\"Plot\"},\"ticker\":{\"id\":\"85206743-b612-4cdb-ada2-0c358317f2a2\",\"type\":\"BasicTicker\"},\"visible\":null},\"id\":\"d6b75128-7ac3-4a7a-a731-83a5c957193f\",\"type\":\"LinearAxis\"},{\"attributes\":{},\"id\":\"2378bbcc-a078-44ab-b1a8-5fc0aebe0f21\",\"type\":\"ToolEvents\"},{\"attributes\":{\"bottom\":{\"field\":\"bottom\"},\"fill_color\":{\"field\":\"fill_color\"},\"left\":{\"field\":\"left\"},\"line_color\":{\"value\":null},\"right\":{\"field\":\"right\"},\"top\":{\"field\":\"top\"}},\"id\":\"ad12c619-1d0f-4ab3-95da-d089105a1bd2\",\"type\":\"Quad\"},{\"attributes\":{\"dimension\":1,\"plot\":{\"id\":\"b06a9ef0-e172-4fb0-81b0-bc962fab0b8e\",\"subtype\":\"Figure\",\"type\":\"Plot\"},\"ticker\":{\"id\":\"85206743-b612-4cdb-ada2-0c358317f2a2\",\"type\":\"BasicTicker\"}},\"id\":\"38ff4039-3891-4c39-9efc-b637d0f0f544\",\"type\":\"Grid\"},{\"attributes\":{\"bottom\":{\"field\":\"bottom\"},\"fill_alpha\":{\"value\":0.1},\"fill_color\":{\"value\":\"#1f77b4\"},\"left\":{\"field\":\"left\"},\"line_alpha\":{\"value\":0.1},\"line_color\":{\"value\":\"#1f77b4\"},\"right\":{\"field\":\"right\"},\"top\":{\"field\":\"top\"}},\"id\":\"abea2468-0350-4ea1-bcff-31683ca80446\",\"type\":\"Quad\"},{\"attributes\":{},\"id\":\"85206743-b612-4cdb-ada2-0c358317f2a2\",\"type\":\"BasicTicker\"},{\"attributes\":{\"below\":[{\"id\":\"cccfb46b-f3da-4c1c-ac47-e78b16100e36\",\"type\":\"LinearAxis\"}],\"left\":[{\"id\":\"d6b75128-7ac3-4a7a-a731-83a5c957193f\",\"type\":\"LinearAxis\"}],\"plot_height\":300,\"plot_width\":900,\"renderers\":[{\"id\":\"cccfb46b-f3da-4c1c-ac47-e78b16100e36\",\"type\":\"LinearAxis\"},{\"id\":\"4857c09b-2fcc-42ce-b137-49780def9b37\",\"type\":\"Grid\"},{\"id\":\"d6b75128-7ac3-4a7a-a731-83a5c957193f\",\"type\":\"LinearAxis\"},{\"id\":\"38ff4039-3891-4c39-9efc-b637d0f0f544\",\"type\":\"Grid\"},{\"id\":\"f1f7d753-336d-4863-8eea-b9a4f8b206cb\",\"type\":\"BoxAnnotation\"},{\"id\":\"e3228483-aa9d-4c35-9488-186828ea8512\",\"type\":\"GlyphRenderer\"},{\"id\":\"1c55e803-d880-43b0-aa22-e3a217084e14\",\"type\":\"GlyphRenderer\"},{\"id\":\"2690edb2-fb88-4837-a893-4551f2813bbd\",\"type\":\"LabelSet\"},{\"id\":\"10d1cc05-d164-4b4e-bd20-cbd5cb762442\",\"type\":\"GlyphRenderer\"},{\"id\":\"ff37b6fe-6207-4008-ba78-2cb2ec4aabd7\",\"type\":\"LabelSet\"}],\"title\":{\"id\":\"35380783-c37b-46ea-897e-c437bcf8ff05\",\"type\":\"Title\"},\"tool_events\":{\"id\":\"2378bbcc-a078-44ab-b1a8-5fc0aebe0f21\",\"type\":\"ToolEvents\"},\"toolbar\":{\"id\":\"b167ed60-6f32-4bae-b66a-d1c6321efd3f\",\"type\":\"Toolbar\"},\"toolbar_location\":null,\"x_range\":{\"id\":\"7f27857e-fd5e-48fb-a4b8-634384dd6640\",\"type\":\"Range1d\"},\"y_range\":{\"id\":\"37869a1c-0781-47e5-99e4-7dfe1706163f\",\"type\":\"Range1d\"}},\"id\":\"b06a9ef0-e172-4fb0-81b0-bc962fab0b8e\",\"subtype\":\"Figure\",\"type\":\"Plot\"},{\"attributes\":{\"callback\":null,\"column_names\":[\"right\",\"bottom\",\"top\",\"left\"],\"data\":{\"bottom\":[245,245,245,245,245,245,245],\"left\":[135809835,135957574,136289083,136499189,136545415,136597196,136664254],\"right\":[135928279,136288182,136482839,136542633,136594750,136634047,136743222],\"top\":[275,275,275,275,275,275,275]}},\"id\":\"5db4e6f2-4ad0-4663-be48-82043001150f\",\"type\":\"ColumnDataSource\"},{\"attributes\":{\"plot\":{\"id\":\"b06a9ef0-e172-4fb0-81b0-bc962fab0b8e\",\"subtype\":\"Figure\",\"type\":\"Plot\"}},\"id\":\"88a2d685-74a0-4a35-b67a-67ada8c81ee5\",\"type\":\"ResetTool\"},{\"attributes\":{\"plot\":{\"id\":\"b06a9ef0-e172-4fb0-81b0-bc962fab0b8e\",\"subtype\":\"Figure\",\"type\":\"Plot\"},\"ticker\":{\"id\":\"14c68714-e580-44f0-a21e-0f73909aedbf\",\"type\":\"BasicTicker\"}},\"id\":\"4857c09b-2fcc-42ce-b137-49780def9b37\",\"type\":\"Grid\"},{\"attributes\":{\"bottom\":{\"field\":\"bottom\"},\"fill_alpha\":{\"value\":0.1},\"fill_color\":{\"value\":\"#1f77b4\"},\"left\":{\"field\":\"left\"},\"line_alpha\":{\"value\":0.1},\"line_color\":{\"value\":\"#1f77b4\"},\"right\":{\"field\":\"right\"},\"top\":{\"field\":\"top\"}},\"id\":\"0ad7b8ac-e328-43a8-abd5-02f0d31e9350\",\"type\":\"Quad\"},{\"attributes\":{\"plot\":{\"id\":\"b06a9ef0-e172-4fb0-81b0-bc962fab0b8e\",\"subtype\":\"Figure\",\"type\":\"Plot\"}},\"id\":\"5eb4cc4c-6d5c-43e5-9841-7462df3743b4\",\"type\":\"PanTool\"},{\"attributes\":{\"plot\":{\"id\":\"b06a9ef0-e172-4fb0-81b0-bc962fab0b8e\",\"subtype\":\"Figure\",\"type\":\"Plot\"}},\"id\":\"74aebc07-0865-4e27-a25f-8854c5cc9576\",\"type\":\"WheelZoomTool\"},{\"attributes\":{\"line_color\":{\"field\":\"line_color\"},\"xs\":{\"field\":\"xs\"},\"ys\":{\"field\":\"ys\"}},\"id\":\"10ed77a6-7400-499e-a4fa-f41d68223f15\",\"type\":\"MultiLine\"},{\"attributes\":{\"bottom\":{\"field\":\"bottom\"},\"fill_color\":{\"value\":\"white\"},\"left\":{\"field\":\"left\"},\"right\":{\"field\":\"right\"},\"top\":{\"field\":\"top\"}},\"id\":\"a3de12c0-ca06-48cc-85a6-87f7ec435dd3\",\"type\":\"Quad\"},{\"attributes\":{\"plot\":{\"id\":\"b06a9ef0-e172-4fb0-81b0-bc962fab0b8e\",\"subtype\":\"Figure\",\"type\":\"Plot\"}},\"id\":\"8c2efccc-d82e-4406-994a-c593e5295b57\",\"type\":\"HelpTool\"},{\"attributes\":{\"active_drag\":\"auto\",\"active_scroll\":\"auto\",\"active_tap\":\"auto\",\"tools\":[{\"id\":\"5eb4cc4c-6d5c-43e5-9841-7462df3743b4\",\"type\":\"PanTool\"},{\"id\":\"74aebc07-0865-4e27-a25f-8854c5cc9576\",\"type\":\"WheelZoomTool\"},{\"id\":\"30483a0b-f8d8-4fcd-9616-bd4e5c0ac018\",\"type\":\"BoxZoomTool\"},{\"id\":\"e541f6aa-cda3-4958-9014-1d5517f8ce06\",\"type\":\"SaveTool\"},{\"id\":\"88a2d685-74a0-4a35-b67a-67ada8c81ee5\",\"type\":\"ResetTool\"},{\"id\":\"8c2efccc-d82e-4406-994a-c593e5295b57\",\"type\":\"HelpTool\"}]},\"id\":\"b167ed60-6f32-4bae-b66a-d1c6321efd3f\",\"type\":\"Toolbar\"},{\"attributes\":{\"level\":\"glyph\",\"plot\":{\"id\":\"b06a9ef0-e172-4fb0-81b0-bc962fab0b8e\",\"subtype\":\"Figure\",\"type\":\"Plot\"},\"source\":{\"id\":\"64747bdd-7184-4fac-b91b-095ab777667d\",\"type\":\"ColumnDataSource\"},\"text\":{\"field\":\"vals\"},\"text_align\":\"center\",\"text_baseline\":\"middle\",\"text_font_size\":{\"value\":\"8pt\"},\"x\":{\"field\":\"x\"},\"y\":{\"field\":\"y\"}},\"id\":\"ff37b6fe-6207-4008-ba78-2cb2ec4aabd7\",\"type\":\"LabelSet\"},{\"attributes\":{\"callback\":null,\"end\":136786630,\"start\":135757320},\"id\":\"7f27857e-fd5e-48fb-a4b8-634384dd6640\",\"type\":\"Range1d\"},{\"attributes\":{\"bottom_units\":\"screen\",\"fill_alpha\":{\"value\":0.5},\"fill_color\":{\"value\":\"lightgrey\"},\"left_units\":\"screen\",\"level\":\"overlay\",\"line_alpha\":{\"value\":1.0},\"line_color\":{\"value\":\"black\"},\"line_dash\":[4,4],\"line_width\":{\"value\":2},\"plot\":null,\"render_mode\":\"css\",\"right_units\":\"screen\",\"top_units\":\"screen\"},\"id\":\"f1f7d753-336d-4863-8eea-b9a4f8b206cb\",\"type\":\"BoxAnnotation\"},{\"attributes\":{},\"id\":\"14c68714-e580-44f0-a21e-0f73909aedbf\",\"type\":\"BasicTicker\"},{\"attributes\":{\"callback\":null,\"end\":300},\"id\":\"37869a1c-0781-47e5-99e4-7dfe1706163f\",\"type\":\"Range1d\"},{\"attributes\":{},\"id\":\"faf3d34e-dd4d-4726-8a9f-6abe9c130f13\",\"type\":\"BasicTickFormatter\"},{\"attributes\":{\"data_source\":{\"id\":\"5db4e6f2-4ad0-4663-be48-82043001150f\",\"type\":\"ColumnDataSource\"},\"glyph\":{\"id\":\"a3de12c0-ca06-48cc-85a6-87f7ec435dd3\",\"type\":\"Quad\"},\"hover_glyph\":null,\"nonselection_glyph\":{\"id\":\"abea2468-0350-4ea1-bcff-31683ca80446\",\"type\":\"Quad\"},\"selection_glyph\":null},\"id\":\"10d1cc05-d164-4b4e-bd20-cbd5cb762442\",\"type\":\"GlyphRenderer\"},{\"attributes\":{\"level\":\"glyph\",\"plot\":{\"id\":\"b06a9ef0-e172-4fb0-81b0-bc962fab0b8e\",\"subtype\":\"Figure\",\"type\":\"Plot\"},\"source\":{\"id\":\"5836d783-7606-41d8-9631-e7ef3041b986\",\"type\":\"ColumnDataSource\"},\"text\":{\"field\":\"vals\"},\"text_font_size\":{\"value\":\"9pt\"},\"text_font_style\":\"bold\",\"x\":{\"field\":\"x\"},\"y\":{\"field\":\"y\"}},\"id\":\"2690edb2-fb88-4837-a893-4551f2813bbd\",\"type\":\"LabelSet\"},{\"attributes\":{\"data_source\":{\"id\":\"2d9576f2-31a0-4d53-b2ee-fdb400bd9e02\",\"type\":\"ColumnDataSource\"},\"glyph\":{\"id\":\"10ed77a6-7400-499e-a4fa-f41d68223f15\",\"type\":\"MultiLine\"},\"hover_glyph\":null,\"nonselection_glyph\":{\"id\":\"20e3e085-c9d9-4348-9667-1c473374d6f7\",\"type\":\"MultiLine\"},\"selection_glyph\":null},\"id\":\"1c55e803-d880-43b0-aa22-e3a217084e14\",\"type\":\"GlyphRenderer\"},{\"attributes\":{\"overlay\":{\"id\":\"f1f7d753-336d-4863-8eea-b9a4f8b206cb\",\"type\":\"BoxAnnotation\"},\"plot\":{\"id\":\"b06a9ef0-e172-4fb0-81b0-bc962fab0b8e\",\"subtype\":\"Figure\",\"type\":\"Plot\"}},\"id\":\"30483a0b-f8d8-4fcd-9616-bd4e5c0ac018\",\"type\":\"BoxZoomTool\"},{\"attributes\":{\"callback\":null,\"column_names\":[\"right\",\"bottom\",\"top\",\"left\",\"fill_color\"],\"data\":{\"bottom\":[50,50,50,50,150,150],\"fill_color\":[\"#61c4c4\",\"#ffff00\",\"#c4c461\",\"#61c461\",\"#808080\",\"#61c461\"],\"left\":[135839805,135959272,136393658,136494186,136501840,136682274],\"right\":[135924467,136375855,136486342,136765951,136555659,136775898],\"top\":[90,88,94,95,198,197]}},\"id\":\"7399a222-2124-4d71-addb-46a2f4829e21\",\"type\":\"ColumnDataSource\"}],\"root_ids\":[\"b06a9ef0-e172-4fb0-81b0-bc962fab0b8e\"]},\"title\":\"Bokeh Application\",\"version\":\"0.12.0\"}};\n",
       "            var render_items = [{\"docid\":\"3550987b-5be1-48ae-a7eb-8b4ab632e26f\",\"elementid\":\"8f2544ca-a019-4406-bf65-eb0a4a45016d\",\"modelid\":\"b06a9ef0-e172-4fb0-81b0-bc962fab0b8e\",\"notebook_comms_target\":\"8f5b7247-bb05-4a8d-9211-af4f28b0d14a\"}];\n",
       "            \n",
       "            Bokeh.embed.embed_items(docs_json, render_items);\n",
       "        });\n",
       "      },\n",
       "      function(Bokeh) {\n",
       "      }\n",
       "    ];\n",
       "  \n",
       "    function run_inline_js() {\n",
       "      for (var i = 0; i < inline_js.length; i++) {\n",
       "        inline_js[i](window.Bokeh);\n",
       "      }\n",
       "    }\n",
       "  \n",
       "    if (window._bokeh_is_loading === 0) {\n",
       "      console.log(\"Bokeh: BokehJS loaded, going straight to plotting\");\n",
       "      run_inline_js();\n",
       "    } else {\n",
       "      load_libs(js_urls, function() {\n",
       "        console.log(\"Bokeh: BokehJS plotting callback run at\", now());\n",
       "        run_inline_js();\n",
       "      });\n",
       "    }\n",
       "  }(this));\n",
       "</script>"
      ]
     },
     "metadata": {},
     "output_type": "display_data"
    },
    {
     "data": {
      "text/html": [
       "<p><code>&lt;Bokeh Notebook handle for <strong>In[43]</strong>&gt;</code></p>"
      ],
      "text/plain": [
       "<bokeh.io._CommsHandle at 0x7f1489207910>"
      ]
     },
     "execution_count": 43,
     "metadata": {},
     "output_type": "execute_result"
    }
   ],
   "source": [
    "plt_obj = dm.superset_allele_mask(am_29, [dm.di_4_815, dm.di_5_684, dm.di_32_1361, dm.di_64_1575], min_match=0.001)\n",
    "plt = plt_obj.do_plot()\n",
    "show(plt)"
   ]
  },
  {
   "cell_type": "markdown",
   "metadata": {},
   "source": [
    "<div style=\"width:700px\">\n",
    "<p>\n",
    "This plot limits the chromosme samples to those that express all of the 6 series shown in the plot and\n",
    "no others.\n",
    "</div>"
   ]
  },
  {
   "cell_type": "code",
   "execution_count": 44,
   "metadata": {
    "collapsed": false
   },
   "outputs": [
    {
     "data": {
      "text/html": [
       "<table>\n",
       "<thead><tr><th style=\"text-align:center\">index</th><th style=\"text-align:center\">first</th><th style=\"text-align:center\">length</th><th style=\"text-align:center\">snps</th><th style=\"text-align:center\" colspan=2>alleles</th><th style=\"text-align:center\" colspan=2>matches</th><th style=\"text-align:center\" colspan=2>afr</th><th style=\"text-align:center\" colspan=2>afx</th><th style=\"text-align:center\" colspan=2>amr</th><th style=\"text-align:center\" colspan=2>eas</th><th style=\"text-align:center\" colspan=2>eur</th><th style=\"text-align:center\" colspan=2>sas</th><th style=\"text-align:center\" colspan=2>sax</th></tr></thead>\n",
       "<tr class=\"even\"><td style=\"text-align: right;\">353921</td><td style=\"text-align: right;\">136,501,840</td><td style=\"text-align: right;\">53,819</td><td style=\"text-align: right;\">10</td><td style=\"text-align: right;\">2206</td><td style=\"text-align: right;\">0.03</td><td style=\"text-align: right;\">58</td><td style=\"text-align: right;\">1.00</td><td style=\"text-align: right;\">0</td><td style=\"text-align: right;\">0.00</td><td style=\"text-align: right;\">0</td><td style=\"text-align: right;\">0.00</td><td style=\"text-align: right;\">0</td><td style=\"text-align: right;\">0.00</td><td style=\"text-align: right;\">57</td><td style=\"text-align: right;\">4.88</td><td style=\"text-align: right;\">0</td><td style=\"text-align: right;\">0.00</td><td style=\"text-align: right;\">1</td><td style=\"text-align: right;\">0.24</td><td style=\"text-align: right;\">0</td><td style=\"text-align: right;\">0.00</td></tr>\n",
       "<tr><td style=\"text-align: right;\">354170</td><td style=\"text-align: right;\">136,682,274</td><td style=\"text-align: right;\">93,624</td><td style=\"text-align: right;\">7</td><td style=\"text-align: right;\">1868</td><td style=\"text-align: right;\">0.03</td><td style=\"text-align: right;\">58</td><td style=\"text-align: right;\">1.00</td><td style=\"text-align: right;\">0</td><td style=\"text-align: right;\">0.00</td><td style=\"text-align: right;\">0</td><td style=\"text-align: right;\">0.00</td><td style=\"text-align: right;\">0</td><td style=\"text-align: right;\">0.00</td><td style=\"text-align: right;\">57</td><td style=\"text-align: right;\">4.88</td><td style=\"text-align: right;\">0</td><td style=\"text-align: right;\">0.00</td><td style=\"text-align: right;\">1</td><td style=\"text-align: right;\">0.24</td><td style=\"text-align: right;\">0</td><td style=\"text-align: right;\">0.00</td></tr>\n",
       "<tr class=\"even\"><td style=\"text-align: right;\">353901</td><td style=\"text-align: right;\">136,494,186</td><td style=\"text-align: right;\">271,765</td><td style=\"text-align: right;\">64</td><td style=\"text-align: right;\">1575</td><td style=\"text-align: right;\">0.04</td><td style=\"text-align: right;\">58</td><td style=\"text-align: right;\">1.00</td><td style=\"text-align: right;\">0</td><td style=\"text-align: right;\">0.00</td><td style=\"text-align: right;\">0</td><td style=\"text-align: right;\">0.00</td><td style=\"text-align: right;\">0</td><td style=\"text-align: right;\">0.00</td><td style=\"text-align: right;\">57</td><td style=\"text-align: right;\">4.88</td><td style=\"text-align: right;\">0</td><td style=\"text-align: right;\">0.00</td><td style=\"text-align: right;\">1</td><td style=\"text-align: right;\">0.24</td><td style=\"text-align: right;\">0</td><td style=\"text-align: right;\">0.00</td></tr>\n",
       "<tr><td style=\"text-align: right;\">353791</td><td style=\"text-align: right;\">136,393,658</td><td style=\"text-align: right;\">92,684</td><td style=\"text-align: right;\">32</td><td style=\"text-align: right;\">1361</td><td style=\"text-align: right;\">0.04</td><td style=\"text-align: right;\">58</td><td style=\"text-align: right;\">1.00</td><td style=\"text-align: right;\">0</td><td style=\"text-align: right;\">0.00</td><td style=\"text-align: right;\">0</td><td style=\"text-align: right;\">0.00</td><td style=\"text-align: right;\">0</td><td style=\"text-align: right;\">0.00</td><td style=\"text-align: right;\">57</td><td style=\"text-align: right;\">4.88</td><td style=\"text-align: right;\">0</td><td style=\"text-align: right;\">0.00</td><td style=\"text-align: right;\">1</td><td style=\"text-align: right;\">0.24</td><td style=\"text-align: right;\">0</td><td style=\"text-align: right;\">0.00</td></tr>\n",
       "<tr class=\"even\"><td style=\"text-align: right;\">353384</td><td style=\"text-align: right;\">135,839,805</td><td style=\"text-align: right;\">84,662</td><td style=\"text-align: right;\">4</td><td style=\"text-align: right;\">815</td><td style=\"text-align: right;\">0.07</td><td style=\"text-align: right;\">58</td><td style=\"text-align: right;\">1.00</td><td style=\"text-align: right;\">0</td><td style=\"text-align: right;\">0.00</td><td style=\"text-align: right;\">0</td><td style=\"text-align: right;\">0.00</td><td style=\"text-align: right;\">0</td><td style=\"text-align: right;\">0.00</td><td style=\"text-align: right;\">57</td><td style=\"text-align: right;\">4.88</td><td style=\"text-align: right;\">0</td><td style=\"text-align: right;\">0.00</td><td style=\"text-align: right;\">1</td><td style=\"text-align: right;\">0.24</td><td style=\"text-align: right;\">0</td><td style=\"text-align: right;\">0.00</td></tr>\n",
       "<tr><td style=\"text-align: right;\">353498</td><td style=\"text-align: right;\">135,959,272</td><td style=\"text-align: right;\">416,583</td><td style=\"text-align: right;\">5</td><td style=\"text-align: right;\">684</td><td style=\"text-align: right;\">0.08</td><td style=\"text-align: right;\">58</td><td style=\"text-align: right;\">1.00</td><td style=\"text-align: right;\">0</td><td style=\"text-align: right;\">0.00</td><td style=\"text-align: right;\">0</td><td style=\"text-align: right;\">0.00</td><td style=\"text-align: right;\">0</td><td style=\"text-align: right;\">0.00</td><td style=\"text-align: right;\">57</td><td style=\"text-align: right;\">4.88</td><td style=\"text-align: right;\">0</td><td style=\"text-align: right;\">0.00</td><td style=\"text-align: right;\">1</td><td style=\"text-align: right;\">0.24</td><td style=\"text-align: right;\">0</td><td style=\"text-align: right;\">0.00</td></tr>\n",
       "</table>"
      ],
      "text/plain": [
       "<IPython.core.display.HTML object>"
      ]
     },
     "execution_count": 44,
     "metadata": {},
     "output_type": "execute_result"
    }
   ],
   "source": [
    "HTML(plt_obj.get_html())"
   ]
  },
  {
   "cell_type": "markdown",
   "metadata": {},
   "source": [
    "<div style=\"width:700px\">\n",
    "<p>\n",
    "The data shows that 58 chromosomes satisfy the plot's criteria.  All but 1 of them are East Asian.\n",
    "<p>\n",
    "The next 6 plots show the series expressed by the 6 chromosome samples that express the first 29\n",
    "193_843 SNPs, series 4_815, but not series 5_684.  Every one of those chromosome samples expresses\n",
    "a different association of series.\n",
    "</div>"
   ]
  },
  {
   "cell_type": "code",
   "execution_count": 45,
   "metadata": {
    "collapsed": false
   },
   "outputs": [
    {
     "data": {
      "text/html": [
       "\n",
       "\n",
       "    <div class=\"bk-root\">\n",
       "        <div class=\"plotdiv\" id=\"321a68a4-8366-481f-a89c-d156dde37ba4\"></div>\n",
       "    </div>\n",
       "<script type=\"text/javascript\">\n",
       "  \n",
       "  (function(global) {\n",
       "    function now() {\n",
       "      return new Date();\n",
       "    }\n",
       "  \n",
       "    if (typeof (window._bokeh_onload_callbacks) === \"undefined\") {\n",
       "      window._bokeh_onload_callbacks = [];\n",
       "    }\n",
       "  \n",
       "    function run_callbacks() {\n",
       "      window._bokeh_onload_callbacks.forEach(function(callback) { callback() });\n",
       "      delete window._bokeh_onload_callbacks\n",
       "      console.info(\"Bokeh: all callbacks have finished\");\n",
       "    }\n",
       "  \n",
       "    function load_libs(js_urls, callback) {\n",
       "      window._bokeh_onload_callbacks.push(callback);\n",
       "      if (window._bokeh_is_loading > 0) {\n",
       "        console.log(\"Bokeh: BokehJS is being loaded, scheduling callback at\", now());\n",
       "        return null;\n",
       "      }\n",
       "      if (js_urls == null || js_urls.length === 0) {\n",
       "        run_callbacks();\n",
       "        return null;\n",
       "      }\n",
       "      console.log(\"Bokeh: BokehJS not loaded, scheduling load and callback at\", now());\n",
       "      window._bokeh_is_loading = js_urls.length;\n",
       "      for (var i = 0; i < js_urls.length; i++) {\n",
       "        var url = js_urls[i];\n",
       "        var s = document.createElement('script');\n",
       "        s.src = url;\n",
       "        s.async = false;\n",
       "        s.onreadystatechange = s.onload = function() {\n",
       "          window._bokeh_is_loading--;\n",
       "          if (window._bokeh_is_loading === 0) {\n",
       "            console.log(\"Bokeh: all BokehJS libraries loaded\");\n",
       "            run_callbacks()\n",
       "          }\n",
       "        };\n",
       "        s.onerror = function() {\n",
       "          console.warn(\"failed to load library \" + url);\n",
       "        };\n",
       "        console.log(\"Bokeh: injecting script tag for BokehJS library: \", url);\n",
       "        document.getElementsByTagName(\"head\")[0].appendChild(s);\n",
       "      }\n",
       "    };var element = document.getElementById(\"321a68a4-8366-481f-a89c-d156dde37ba4\");\n",
       "    if (element == null) {\n",
       "      console.log(\"Bokeh: ERROR: autoload.js configured with elementid '321a68a4-8366-481f-a89c-d156dde37ba4' but no matching script tag was found. \")\n",
       "      return false;\n",
       "    }\n",
       "  \n",
       "    var js_urls = [];\n",
       "  \n",
       "    var inline_js = [\n",
       "      function(Bokeh) {\n",
       "        Bokeh.$(function() {\n",
       "            var docs_json = {\"1e5d6e53-279b-48df-9d08-bd65cac5e775\":{\"roots\":{\"references\":[{\"attributes\":{},\"id\":\"a13830f8-82b7-499c-8ea7-1b22c44dedda\",\"type\":\"BasicTickFormatter\"},{\"attributes\":{\"bottom\":{\"field\":\"bottom\"},\"fill_alpha\":{\"value\":0.1},\"fill_color\":{\"value\":\"#1f77b4\"},\"left\":{\"field\":\"left\"},\"line_alpha\":{\"value\":0.1},\"line_color\":{\"value\":\"#1f77b4\"},\"right\":{\"field\":\"right\"},\"top\":{\"field\":\"top\"}},\"id\":\"87a5e81d-3f06-41c1-9367-4bec3eaf31b1\",\"type\":\"Quad\"},{\"attributes\":{\"level\":\"glyph\",\"plot\":{\"id\":\"07f72723-972e-407b-a5d0-7ead02b14eee\",\"subtype\":\"Figure\",\"type\":\"Plot\"},\"source\":{\"id\":\"94121e40-7655-4680-ad75-6a44cb5cf190\",\"type\":\"ColumnDataSource\"},\"text\":{\"field\":\"vals\"},\"text_font_size\":{\"value\":\"9pt\"},\"text_font_style\":\"bold\",\"x\":{\"field\":\"x\"},\"y\":{\"field\":\"y\"}},\"id\":\"e5274aa9-564b-4870-873f-07be932681a1\",\"type\":\"LabelSet\"},{\"attributes\":{\"bottom\":{\"field\":\"bottom\"},\"fill_alpha\":{\"value\":0.1},\"fill_color\":{\"value\":\"#1f77b4\"},\"left\":{\"field\":\"left\"},\"line_alpha\":{\"value\":0.1},\"line_color\":{\"value\":\"#1f77b4\"},\"right\":{\"field\":\"right\"},\"top\":{\"field\":\"top\"}},\"id\":\"afe0ece4-3f41-4442-ad8e-968efbc052d5\",\"type\":\"Quad\"},{\"attributes\":{\"plot\":{\"id\":\"07f72723-972e-407b-a5d0-7ead02b14eee\",\"subtype\":\"Figure\",\"type\":\"Plot\"}},\"id\":\"63073fa5-032f-4e48-b245-77afefc26c46\",\"type\":\"ResetTool\"},{\"attributes\":{\"plot\":{\"id\":\"07f72723-972e-407b-a5d0-7ead02b14eee\",\"subtype\":\"Figure\",\"type\":\"Plot\"}},\"id\":\"24a089f2-214c-432b-9455-d88a6a77ba9c\",\"type\":\"HelpTool\"},{\"attributes\":{\"callback\":null,\"column_names\":[\"right\",\"bottom\",\"top\",\"left\",\"fill_color\"],\"data\":{\"bottom\":[50,50,350,50,150,350,250,450,150,250,450],\"fill_color\":[\"#61c4c4\",\"#ffff00\",\"#c4c461\",\"#808080\",\"#808080\",\"#808080\",\"#808080\",\"#c46161\",\"#808080\",\"#808080\",\"#808080\"],\"left\":[135839805,136021814,136393658,136494985,136500475,136506375,136535876,136588031,136652491,136652953,136653925],\"right\":[135924467,136369336,136486342,136773638,136542560,136538939,136554890,136593678,136732772,136761175,136761853],\"top\":[90,65,394,90,193,394,294,496,192,294,495]}},\"id\":\"ab02b24f-1f62-4acd-b896-84c22a02e3ce\",\"type\":\"ColumnDataSource\"},{\"attributes\":{\"line_color\":{\"field\":\"line_color\"},\"xs\":{\"field\":\"xs\"},\"ys\":{\"field\":\"ys\"}},\"id\":\"8b0365e8-b199-4722-9fd1-7563d954718f\",\"type\":\"MultiLine\"},{\"attributes\":{\"callback\":null,\"column_names\":[\"y\",\"x\",\"vals\"],\"data\":{\"vals\":[\"4_815\",\"5_47\",\"32_1361\",\"81_857\",\"13_1227\",\"4_1442\",\"7_1303\",\"7_1760\",\"6_1114\",\"5_1296\",\"24_1504\"],\"x\":[135839805,136021814,136393658,136494985,136500475,136506375,136535876,136588031,136652491,136652953,136653925],\"y\":[95.0,70.0,399.0,95.0,198.0,399.0,299.0,501.0,197.0,299.0,500.0]}},\"id\":\"94121e40-7655-4680-ad75-6a44cb5cf190\",\"type\":\"ColumnDataSource\"},{\"attributes\":{\"level\":\"glyph\",\"plot\":{\"id\":\"07f72723-972e-407b-a5d0-7ead02b14eee\",\"subtype\":\"Figure\",\"type\":\"Plot\"},\"source\":{\"id\":\"95b1b335-bbc3-4daa-b73e-b5629cf9fc9b\",\"type\":\"ColumnDataSource\"},\"text\":{\"field\":\"vals\"},\"text_align\":\"center\",\"text_baseline\":\"middle\",\"text_font_size\":{\"value\":\"8pt\"},\"x\":{\"field\":\"x\"},\"y\":{\"field\":\"y\"}},\"id\":\"a348b097-68ac-45f2-af22-43e071cdd2b7\",\"type\":\"LabelSet\"},{\"attributes\":{\"callback\":null,\"column_names\":[\"right\",\"bottom\",\"top\",\"left\"],\"data\":{\"bottom\":[545,545,545,545,545,545,545],\"left\":[135809835,135957574,136289083,136499189,136545415,136597196,136664254],\"right\":[135928279,136288182,136482839,136542633,136594750,136634047,136743222],\"top\":[575,575,575,575,575,575,575]}},\"id\":\"2f18d0db-d2e0-429b-833b-df301696d998\",\"type\":\"ColumnDataSource\"},{\"attributes\":{\"line_alpha\":{\"value\":0.1},\"line_color\":{\"value\":\"#1f77b4\"},\"xs\":{\"field\":\"xs\"},\"ys\":{\"field\":\"ys\"}},\"id\":\"c563ff4e-2306-4ee7-9569-3fd1675f0c2b\",\"type\":\"MultiLine\"},{\"attributes\":{\"callback\":null,\"column_names\":[\"xs\",\"ys\",\"line_color\"],\"data\":{\"line_color\":[\"black\",\"black\",\"black\",\"black\",\"black\",\"black\",\"black\",\"black\",\"black\",\"black\",\"black\",\"black\",\"black\",\"black\",\"black\",\"black\",\"black\",\"black\",\"black\",\"black\",\"black\",\"black\",\"black\",\"black\",\"black\",\"black\",\"black\",\"black\",\"black\",\"black\",\"black\",\"black\",\"black\",\"black\",\"black\",\"black\",\"black\",\"black\",\"black\",\"black\",\"black\",\"black\",\"black\",\"black\",\"black\",\"black\",\"black\",\"black\",\"black\",\"black\",\"black\",\"black\",\"black\",\"black\",\"black\",\"black\",\"black\",\"black\",\"black\",\"black\",\"black\",\"black\",\"black\",\"black\",\"black\",\"black\",\"black\",\"black\",\"black\",\"black\",\"black\",\"black\",\"black\",\"black\",\"black\",\"black\",\"black\",\"black\",\"black\",\"black\",\"black\",\"black\",\"black\",\"black\",\"black\",\"black\",\"black\",\"black\",\"black\",\"black\",\"black\",\"black\",\"black\",\"black\",\"black\",\"black\",\"black\",\"black\",\"black\",\"black\",\"black\",\"black\",\"black\",\"black\",\"black\",\"black\",\"black\",\"black\",\"black\",\"black\",\"black\",\"black\",\"black\",\"black\",\"black\",\"black\",\"black\",\"black\",\"black\",\"black\",\"black\",\"black\",\"black\",\"black\",\"black\",\"black\",\"black\",\"black\",\"black\",\"black\",\"black\",\"black\",\"black\",\"black\",\"black\",\"black\",\"black\",\"black\",\"black\",\"black\",\"black\",\"black\",\"black\",\"black\",\"black\",\"black\",\"black\",\"black\",\"black\",\"black\",\"black\",\"black\",\"black\",\"black\",\"black\",\"black\",\"black\",\"black\",\"black\",\"black\",\"black\",\"black\",\"black\",\"black\",\"black\",\"black\",\"black\",\"black\",\"black\",\"black\",\"black\",\"black\",\"black\",\"black\",\"black\",\"black\",\"black\",\"black\",\"black\",\"black\",\"black\",\"black\",\"black\",\"black\",\"black\",\"black\",\"black\",\"black\"],\"xs\":[[135839805,135839805],[135866750,135866750],[135886744,135886744],[135924467,135924467],[136021814,136021814],[136090527,136090527],[136172482,136172482],[136314201,136314201],[136369336,136369336],[136393658,136393658],[136396300,136396300],[136401843,136401843],[136407445,136407445],[136411879,136411879],[136412270,136412270],[136413244,136413244],[136413847,136413847],[136415217,136415217],[136416533,136416533],[136420726,136420726],[136429857,136429857],[136433740,136433740],[136436317,136436317],[136437615,136437615],[136438517,136438517],[136440300,136440300],[136443900,136443900],[136444185,136444185],[136444338,136444338],[136449254,136449254],[136451676,136451676],[136459227,136459227],[136463117,136463117],[136463454,136463454],[136467119,136467119],[136468238,136468238],[136470219,136470219],[136483355,136483355],[136485276,136485276],[136486340,136486340],[136486342,136486342],[136494985,136494985],[136497199,136497199],[136511817,136511817],[136513670,136513670],[136515458,136515458],[136516970,136516970],[136525309,136525309],[136528034,136528034],[136532225,136532225],[136535235,136535235],[136536095,136536095],[136544423,136544423],[136546927,136546927],[136552188,136552188],[136552517,136552517],[136555525,136555525],[136556480,136556480],[136560464,136560464],[136572285,136572285],[136582694,136582694],[136582809,136582809],[136584538,136584538],[136585323,136585323],[136586825,136586825],[136600662,136600662],[136612036,136612036],[136618178,136618178],[136618507,136618507],[136622543,136622543],[136624947,136624947],[136625113,136625113],[136626078,136626078],[136628121,136628121],[136632300,136632300],[136633962,136633962],[136635343,136635343],[136638113,136638113],[136640101,136640101],[136641593,136641593],[136646582,136646582],[136648077,136648077],[136648883,136648883],[136652045,136652045],[136653848,136653848],[136656094,136656094],[136661110,136661110],[136663110,136663110],[136663605,136663605],[136665162,136665162],[136665711,136665711],[136668123,136668123],[136670419,136670419],[136672680,136672680],[136673546,136673546],[136684632,136684632],[136686114,136686114],[136690425,136690425],[136690783,136690783],[136692893,136692893],[136694905,136694905],[136695694,136695694],[136695705,136695705],[136696608,136696608],[136697372,136697372],[136697468,136697468],[136700024,136700024],[136701539,136701539],[136702118,136702118],[136707480,136707480],[136710554,136710554],[136714178,136714178],[136719173,136719173],[136725459,136725459],[136734569,136734569],[136744678,136744678],[136748779,136748779],[136751488,136751488],[136754183,136754183],[136763242,136763242],[136765074,136765074],[136773638,136773638],[136500475,136500475],[136501509,136501509],[136504101,136504101],[136509868,136509868],[136520043,136520043],[136527120,136527120],[136530379,136530379],[136530443,136530443],[136539330,136539330],[136539670,136539670],[136540083,136540083],[136542559,136542559],[136542560,136542560],[136506375,136506375],[136506927,136506927],[136510012,136510012],[136538939,136538939],[136535876,136535876],[136544651,136544651],[136545844,136545844],[136552526,136552526],[136553022,136553022],[136554797,136554797],[136554890,136554890],[136588031,136588031],[136589278,136589278],[136589379,136589379],[136589741,136589741],[136590746,136590746],[136593553,136593553],[136593678,136593678],[136652491,136652491],[136652524,136652524],[136661150,136661150],[136669264,136669264],[136726567,136726567],[136732772,136732772],[136652953,136652953],[136655582,136655582],[136674028,136674028],[136684940,136684940],[136761175,136761175],[136653925,136653925],[136654833,136654833],[136656534,136656534],[136656536,136656536],[136657252,136657252],[136667301,136667301],[136667487,136667487],[136672775,136672775],[136680534,136680534],[136686393,136686393],[136688749,136688749],[136692553,136692553],[136697371,136697371],[136708787,136708787],[136710372,136710372],[136711064,136711064],[136715324,136715324],[136723504,136723504],[136737460,136737460],[136743143,136743143],[136746224,136746224],[136751842,136751842],[136759379,136759379],[136761853,136761853]],\"ys\":[[50,90],[50,90],[50,90],[50,90],[50,65],[50,65],[50,65],[50,65],[50,65],[350,394],[350,394],[350,394],[350,394],[350,394],[350,394],[350,394],[350,394],[350,394],[350,394],[350,394],[350,394],[350,394],[350,394],[350,394],[350,394],[350,394],[350,394],[350,394],[350,394],[350,394],[350,394],[350,394],[350,394],[350,394],[350,394],[350,394],[350,394],[350,394],[350,394],[350,394],[350,394],[50,90],[50,90],[50,90],[50,90],[50,90],[50,90],[50,90],[50,90],[50,90],[50,90],[50,90],[50,90],[50,90],[50,90],[50,90],[50,90],[50,90],[50,90],[50,90],[50,90],[50,90],[50,90],[50,90],[50,90],[50,90],[50,90],[50,90],[50,90],[50,90],[50,90],[50,90],[50,90],[50,90],[50,90],[50,90],[50,90],[50,90],[50,90],[50,90],[50,90],[50,90],[50,90],[50,90],[50,90],[50,90],[50,90],[50,90],[50,90],[50,90],[50,90],[50,90],[50,90],[50,90],[50,90],[50,90],[50,90],[50,90],[50,90],[50,90],[50,90],[50,90],[50,90],[50,90],[50,90],[50,90],[50,90],[50,90],[50,90],[50,90],[50,90],[50,90],[50,90],[50,90],[50,90],[50,90],[50,90],[50,90],[50,90],[50,90],[50,90],[50,90],[150,193],[150,193],[150,193],[150,193],[150,193],[150,193],[150,193],[150,193],[150,193],[150,193],[150,193],[150,193],[150,193],[350,394],[350,394],[350,394],[350,394],[250,294],[250,294],[250,294],[250,294],[250,294],[250,294],[250,294],[450,496],[450,496],[450,496],[450,496],[450,496],[450,496],[450,496],[150,192],[150,192],[150,192],[150,192],[150,192],[150,192],[250,294],[250,294],[250,294],[250,294],[250,294],[450,495],[450,495],[450,495],[450,495],[450,495],[450,495],[450,495],[450,495],[450,495],[450,495],[450,495],[450,495],[450,495],[450,495],[450,495],[450,495],[450,495],[450,495],[450,495],[450,495],[450,495],[450,495],[450,495],[450,495]]}},\"id\":\"e54db9d9-3730-4ea3-9b67-9ce434f1b800\",\"type\":\"ColumnDataSource\"},{\"attributes\":{\"data_source\":{\"id\":\"2f18d0db-d2e0-429b-833b-df301696d998\",\"type\":\"ColumnDataSource\"},\"glyph\":{\"id\":\"0acfbcf7-4578-4f58-95a1-67db61abbd23\",\"type\":\"Quad\"},\"hover_glyph\":null,\"nonselection_glyph\":{\"id\":\"afe0ece4-3f41-4442-ad8e-968efbc052d5\",\"type\":\"Quad\"},\"selection_glyph\":null},\"id\":\"9031d385-6688-415c-890e-aadc48178396\",\"type\":\"GlyphRenderer\"},{\"attributes\":{},\"id\":\"7fc027e4-f0d3-4b91-9d57-dc80860e35e4\",\"type\":\"BasicTicker\"},{\"attributes\":{\"dimension\":1,\"plot\":{\"id\":\"07f72723-972e-407b-a5d0-7ead02b14eee\",\"subtype\":\"Figure\",\"type\":\"Plot\"},\"ticker\":{\"id\":\"7fc027e4-f0d3-4b91-9d57-dc80860e35e4\",\"type\":\"BasicTicker\"}},\"id\":\"ed8258e5-4e71-4a4b-a1fd-6ef4beb70c67\",\"type\":\"Grid\"},{\"attributes\":{\"plot\":{\"id\":\"07f72723-972e-407b-a5d0-7ead02b14eee\",\"subtype\":\"Figure\",\"type\":\"Plot\"}},\"id\":\"56810d7b-ae5f-471b-a5a9-28d99d30a95f\",\"type\":\"SaveTool\"},{\"attributes\":{\"formatter\":{\"id\":\"8fc7e880-b202-47a3-b22a-5f646cf468c9\",\"type\":\"BasicTickFormatter\"},\"plot\":{\"id\":\"07f72723-972e-407b-a5d0-7ead02b14eee\",\"subtype\":\"Figure\",\"type\":\"Plot\"},\"ticker\":{\"id\":\"df3c8d61-5b9d-4770-9017-9502d25e85c6\",\"type\":\"BasicTicker\"}},\"id\":\"21a99baf-a44b-46ae-a554-8ce1a6bf450d\",\"type\":\"LinearAxis\"},{\"attributes\":{\"callback\":null,\"end\":136786630,\"start\":135757320},\"id\":\"1177cd75-0744-4f28-99b6-ae5752b6d2fe\",\"type\":\"Range1d\"},{\"attributes\":{\"overlay\":{\"id\":\"d35a2042-4bff-4910-81f7-175b6cd9ec5d\",\"type\":\"BoxAnnotation\"},\"plot\":{\"id\":\"07f72723-972e-407b-a5d0-7ead02b14eee\",\"subtype\":\"Figure\",\"type\":\"Plot\"}},\"id\":\"04e32c24-abb2-4e09-baeb-638f4a69d653\",\"type\":\"BoxZoomTool\"},{\"attributes\":{\"plot\":{\"id\":\"07f72723-972e-407b-a5d0-7ead02b14eee\",\"subtype\":\"Figure\",\"type\":\"Plot\"},\"ticker\":{\"id\":\"df3c8d61-5b9d-4770-9017-9502d25e85c6\",\"type\":\"BasicTicker\"}},\"id\":\"7f6d04e7-e756-44a9-a2b2-7c1c8ecb828f\",\"type\":\"Grid\"},{\"attributes\":{\"plot\":{\"id\":\"07f72723-972e-407b-a5d0-7ead02b14eee\",\"subtype\":\"Figure\",\"type\":\"Plot\"}},\"id\":\"9ae91a13-2a32-4e06-8a5e-64bd9da7e70c\",\"type\":\"PanTool\"},{\"attributes\":{\"plot\":{\"id\":\"07f72723-972e-407b-a5d0-7ead02b14eee\",\"subtype\":\"Figure\",\"type\":\"Plot\"}},\"id\":\"a479aa69-5d71-4e68-bfa1-a4aae904eed5\",\"type\":\"WheelZoomTool\"},{\"attributes\":{},\"id\":\"415d7d96-e658-438f-9ce9-1266ffe0e919\",\"type\":\"ToolEvents\"},{\"attributes\":{\"bottom_units\":\"screen\",\"fill_alpha\":{\"value\":0.5},\"fill_color\":{\"value\":\"lightgrey\"},\"left_units\":\"screen\",\"level\":\"overlay\",\"line_alpha\":{\"value\":1.0},\"line_color\":{\"value\":\"black\"},\"line_dash\":[4,4],\"line_width\":{\"value\":2},\"plot\":null,\"render_mode\":\"css\",\"right_units\":\"screen\",\"top_units\":\"screen\"},\"id\":\"d35a2042-4bff-4910-81f7-175b6cd9ec5d\",\"type\":\"BoxAnnotation\"},{\"attributes\":{\"bottom\":{\"field\":\"bottom\"},\"fill_color\":{\"value\":\"white\"},\"left\":{\"field\":\"left\"},\"right\":{\"field\":\"right\"},\"top\":{\"field\":\"top\"}},\"id\":\"0acfbcf7-4578-4f58-95a1-67db61abbd23\",\"type\":\"Quad\"},{\"attributes\":{\"formatter\":{\"id\":\"a13830f8-82b7-499c-8ea7-1b22c44dedda\",\"type\":\"BasicTickFormatter\"},\"plot\":{\"id\":\"07f72723-972e-407b-a5d0-7ead02b14eee\",\"subtype\":\"Figure\",\"type\":\"Plot\"},\"ticker\":{\"id\":\"7fc027e4-f0d3-4b91-9d57-dc80860e35e4\",\"type\":\"BasicTicker\"},\"visible\":null},\"id\":\"fef02e05-6dda-4563-a6ec-f3d256a5e922\",\"type\":\"LinearAxis\"},{\"attributes\":{},\"id\":\"8fc7e880-b202-47a3-b22a-5f646cf468c9\",\"type\":\"BasicTickFormatter\"},{\"attributes\":{\"active_drag\":\"auto\",\"active_scroll\":\"auto\",\"active_tap\":\"auto\",\"tools\":[{\"id\":\"9ae91a13-2a32-4e06-8a5e-64bd9da7e70c\",\"type\":\"PanTool\"},{\"id\":\"a479aa69-5d71-4e68-bfa1-a4aae904eed5\",\"type\":\"WheelZoomTool\"},{\"id\":\"04e32c24-abb2-4e09-baeb-638f4a69d653\",\"type\":\"BoxZoomTool\"},{\"id\":\"56810d7b-ae5f-471b-a5a9-28d99d30a95f\",\"type\":\"SaveTool\"},{\"id\":\"63073fa5-032f-4e48-b245-77afefc26c46\",\"type\":\"ResetTool\"},{\"id\":\"24a089f2-214c-432b-9455-d88a6a77ba9c\",\"type\":\"HelpTool\"}]},\"id\":\"4e57e5de-1705-40f5-9819-54e318387f5f\",\"type\":\"Toolbar\"},{\"attributes\":{\"callback\":null,\"column_names\":[\"y\",\"x\",\"vals\"],\"data\":{\"vals\":[\"RAB3GAP1\",\"ZRANB3\",\"R3HDM1\",\"UBXN4\",\"LCT\",\"MCM6\",\"DARS\"],\"x\":[135869057.0,136122878.0,136385961.0,136520911.0,136570082.5,136615621.5,136703738.0],\"y\":[560.0,560.0,560.0,560.0,560.0,560.0,560.0]}},\"id\":\"95b1b335-bbc3-4daa-b73e-b5629cf9fc9b\",\"type\":\"ColumnDataSource\"},{\"attributes\":{\"plot\":null,\"text\":null},\"id\":\"67e853b8-caa7-4de6-919c-e4deb7a04ef8\",\"type\":\"Title\"},{\"attributes\":{\"data_source\":{\"id\":\"e54db9d9-3730-4ea3-9b67-9ce434f1b800\",\"type\":\"ColumnDataSource\"},\"glyph\":{\"id\":\"8b0365e8-b199-4722-9fd1-7563d954718f\",\"type\":\"MultiLine\"},\"hover_glyph\":null,\"nonselection_glyph\":{\"id\":\"c563ff4e-2306-4ee7-9569-3fd1675f0c2b\",\"type\":\"MultiLine\"},\"selection_glyph\":null},\"id\":\"8d49822a-5b0e-4cb8-8e8c-29228d7a3031\",\"type\":\"GlyphRenderer\"},{\"attributes\":{\"below\":[{\"id\":\"21a99baf-a44b-46ae-a554-8ce1a6bf450d\",\"type\":\"LinearAxis\"}],\"left\":[{\"id\":\"fef02e05-6dda-4563-a6ec-f3d256a5e922\",\"type\":\"LinearAxis\"}],\"plot_width\":900,\"renderers\":[{\"id\":\"21a99baf-a44b-46ae-a554-8ce1a6bf450d\",\"type\":\"LinearAxis\"},{\"id\":\"7f6d04e7-e756-44a9-a2b2-7c1c8ecb828f\",\"type\":\"Grid\"},{\"id\":\"fef02e05-6dda-4563-a6ec-f3d256a5e922\",\"type\":\"LinearAxis\"},{\"id\":\"ed8258e5-4e71-4a4b-a1fd-6ef4beb70c67\",\"type\":\"Grid\"},{\"id\":\"d35a2042-4bff-4910-81f7-175b6cd9ec5d\",\"type\":\"BoxAnnotation\"},{\"id\":\"d9dab89c-6857-4f7a-8bc2-15b7f79d8bc4\",\"type\":\"GlyphRenderer\"},{\"id\":\"8d49822a-5b0e-4cb8-8e8c-29228d7a3031\",\"type\":\"GlyphRenderer\"},{\"id\":\"e5274aa9-564b-4870-873f-07be932681a1\",\"type\":\"LabelSet\"},{\"id\":\"9031d385-6688-415c-890e-aadc48178396\",\"type\":\"GlyphRenderer\"},{\"id\":\"a348b097-68ac-45f2-af22-43e071cdd2b7\",\"type\":\"LabelSet\"}],\"title\":{\"id\":\"67e853b8-caa7-4de6-919c-e4deb7a04ef8\",\"type\":\"Title\"},\"tool_events\":{\"id\":\"415d7d96-e658-438f-9ce9-1266ffe0e919\",\"type\":\"ToolEvents\"},\"toolbar\":{\"id\":\"4e57e5de-1705-40f5-9819-54e318387f5f\",\"type\":\"Toolbar\"},\"toolbar_location\":null,\"x_range\":{\"id\":\"1177cd75-0744-4f28-99b6-ae5752b6d2fe\",\"type\":\"Range1d\"},\"y_range\":{\"id\":\"1eeab364-294c-4611-8fde-be915ad0d2b7\",\"type\":\"Range1d\"}},\"id\":\"07f72723-972e-407b-a5d0-7ead02b14eee\",\"subtype\":\"Figure\",\"type\":\"Plot\"},{\"attributes\":{},\"id\":\"df3c8d61-5b9d-4770-9017-9502d25e85c6\",\"type\":\"BasicTicker\"},{\"attributes\":{\"bottom\":{\"field\":\"bottom\"},\"fill_color\":{\"field\":\"fill_color\"},\"left\":{\"field\":\"left\"},\"line_color\":{\"value\":null},\"right\":{\"field\":\"right\"},\"top\":{\"field\":\"top\"}},\"id\":\"879f8c42-155a-4299-82f0-723f69255b8a\",\"type\":\"Quad\"},{\"attributes\":{\"callback\":null,\"end\":600},\"id\":\"1eeab364-294c-4611-8fde-be915ad0d2b7\",\"type\":\"Range1d\"},{\"attributes\":{\"data_source\":{\"id\":\"ab02b24f-1f62-4acd-b896-84c22a02e3ce\",\"type\":\"ColumnDataSource\"},\"glyph\":{\"id\":\"879f8c42-155a-4299-82f0-723f69255b8a\",\"type\":\"Quad\"},\"hover_glyph\":null,\"nonselection_glyph\":{\"id\":\"87a5e81d-3f06-41c1-9367-4bec3eaf31b1\",\"type\":\"Quad\"},\"selection_glyph\":null},\"id\":\"d9dab89c-6857-4f7a-8bc2-15b7f79d8bc4\",\"type\":\"GlyphRenderer\"}],\"root_ids\":[\"07f72723-972e-407b-a5d0-7ead02b14eee\"]},\"title\":\"Bokeh Application\",\"version\":\"0.12.0\"}};\n",
       "            var render_items = [{\"docid\":\"1e5d6e53-279b-48df-9d08-bd65cac5e775\",\"elementid\":\"321a68a4-8366-481f-a89c-d156dde37ba4\",\"modelid\":\"07f72723-972e-407b-a5d0-7ead02b14eee\",\"notebook_comms_target\":\"a24019d5-4059-4bf5-bb17-0b7f8b87fc68\"}];\n",
       "            \n",
       "            Bokeh.embed.embed_items(docs_json, render_items);\n",
       "        });\n",
       "      },\n",
       "      function(Bokeh) {\n",
       "      }\n",
       "    ];\n",
       "  \n",
       "    function run_inline_js() {\n",
       "      for (var i = 0; i < inline_js.length; i++) {\n",
       "        inline_js[i](window.Bokeh);\n",
       "      }\n",
       "    }\n",
       "  \n",
       "    if (window._bokeh_is_loading === 0) {\n",
       "      console.log(\"Bokeh: BokehJS loaded, going straight to plotting\");\n",
       "      run_inline_js();\n",
       "    } else {\n",
       "      load_libs(js_urls, function() {\n",
       "        console.log(\"Bokeh: BokehJS plotting callback run at\", now());\n",
       "        run_inline_js();\n",
       "      });\n",
       "    }\n",
       "  }(this));\n",
       "</script>"
      ]
     },
     "metadata": {},
     "output_type": "display_data"
    },
    {
     "data": {
      "text/html": [
       "<p><code>&lt;Bokeh Notebook handle for <strong>In[45]</strong>&gt;</code></p>"
      ],
      "text/plain": [
       "<bokeh.io._CommsHandle at 0x7f148b330f50>"
      ]
     },
     "execution_count": 45,
     "metadata": {},
     "output_type": "execute_result"
    }
   ],
   "source": [
    "plt_obj = dm.superset_allele_mask(am_29, [dm.di_4_815, dm.di_32_1361, dm.di_81_857, dm.di_5_47], [dm.di_5_684], min_match=0.5)\n",
    "plt = plt_obj.do_plot()\n",
    "show(plt)"
   ]
  },
  {
   "cell_type": "code",
   "execution_count": 46,
   "metadata": {
    "collapsed": false
   },
   "outputs": [
    {
     "data": {
      "text/html": [
       "<table>\n",
       "<thead><tr><th style=\"text-align:center\">index</th><th style=\"text-align:center\">first</th><th style=\"text-align:center\">length</th><th style=\"text-align:center\">snps</th><th style=\"text-align:center\" colspan=2>alleles</th><th style=\"text-align:center\" colspan=2>matches</th><th style=\"text-align:center\" colspan=2>afr</th><th style=\"text-align:center\" colspan=2>afx</th><th style=\"text-align:center\" colspan=2>amr</th><th style=\"text-align:center\" colspan=2>eas</th><th style=\"text-align:center\" colspan=2>eur</th><th style=\"text-align:center\" colspan=2>sas</th><th style=\"text-align:center\" colspan=2>sax</th></tr></thead>\n",
       "<tr class=\"even\"><td style=\"text-align: right;\">354033</td><td style=\"text-align: right;\">136,588,031</td><td style=\"text-align: right;\">5,647</td><td style=\"text-align: right;\">7</td><td style=\"text-align: right;\">1760</td><td style=\"text-align: right;\">0.00</td><td style=\"text-align: right;\">1</td><td style=\"text-align: right;\">1.00</td><td style=\"text-align: right;\">0</td><td style=\"text-align: right;\">0.00</td><td style=\"text-align: right;\">0</td><td style=\"text-align: right;\">0.00</td><td style=\"text-align: right;\">0</td><td style=\"text-align: right;\">0.00</td><td style=\"text-align: right;\">0</td><td style=\"text-align: right;\">0.00</td><td style=\"text-align: right;\">0</td><td style=\"text-align: right;\">0.00</td><td style=\"text-align: right;\">0</td><td style=\"text-align: right;\">0.00</td><td style=\"text-align: right;\">1</td><td style=\"text-align: right;\">8.16</td></tr>\n",
       "<tr><td style=\"text-align: right;\">354130</td><td style=\"text-align: right;\">136,653,925</td><td style=\"text-align: right;\">107,928</td><td style=\"text-align: right;\">24</td><td style=\"text-align: right;\">1504</td><td style=\"text-align: right;\">0.00</td><td style=\"text-align: right;\">1</td><td style=\"text-align: right;\">1.00</td><td style=\"text-align: right;\">0</td><td style=\"text-align: right;\">0.00</td><td style=\"text-align: right;\">0</td><td style=\"text-align: right;\">0.00</td><td style=\"text-align: right;\">0</td><td style=\"text-align: right;\">0.00</td><td style=\"text-align: right;\">0</td><td style=\"text-align: right;\">0.00</td><td style=\"text-align: right;\">0</td><td style=\"text-align: right;\">0.00</td><td style=\"text-align: right;\">0</td><td style=\"text-align: right;\">0.00</td><td style=\"text-align: right;\">1</td><td style=\"text-align: right;\">8.16</td></tr>\n",
       "<tr class=\"even\"><td style=\"text-align: right;\">353925</td><td style=\"text-align: right;\">136,506,375</td><td style=\"text-align: right;\">32,564</td><td style=\"text-align: right;\">4</td><td style=\"text-align: right;\">1442</td><td style=\"text-align: right;\">0.00</td><td style=\"text-align: right;\">1</td><td style=\"text-align: right;\">1.00</td><td style=\"text-align: right;\">0</td><td style=\"text-align: right;\">0.00</td><td style=\"text-align: right;\">0</td><td style=\"text-align: right;\">0.00</td><td style=\"text-align: right;\">0</td><td style=\"text-align: right;\">0.00</td><td style=\"text-align: right;\">0</td><td style=\"text-align: right;\">0.00</td><td style=\"text-align: right;\">0</td><td style=\"text-align: right;\">0.00</td><td style=\"text-align: right;\">0</td><td style=\"text-align: right;\">0.00</td><td style=\"text-align: right;\">1</td><td style=\"text-align: right;\">8.16</td></tr>\n",
       "<tr><td style=\"text-align: right;\">353791</td><td style=\"text-align: right;\">136,393,658</td><td style=\"text-align: right;\">92,684</td><td style=\"text-align: right;\">32</td><td style=\"text-align: right;\">1361</td><td style=\"text-align: right;\">0.00</td><td style=\"text-align: right;\">1</td><td style=\"text-align: right;\">1.00</td><td style=\"text-align: right;\">0</td><td style=\"text-align: right;\">0.00</td><td style=\"text-align: right;\">0</td><td style=\"text-align: right;\">0.00</td><td style=\"text-align: right;\">0</td><td style=\"text-align: right;\">0.00</td><td style=\"text-align: right;\">0</td><td style=\"text-align: right;\">0.00</td><td style=\"text-align: right;\">0</td><td style=\"text-align: right;\">0.00</td><td style=\"text-align: right;\">0</td><td style=\"text-align: right;\">0.00</td><td style=\"text-align: right;\">1</td><td style=\"text-align: right;\">8.16</td></tr>\n",
       "<tr class=\"even\"><td style=\"text-align: right;\">353958</td><td style=\"text-align: right;\">136,535,876</td><td style=\"text-align: right;\">19,014</td><td style=\"text-align: right;\">7</td><td style=\"text-align: right;\">1303</td><td style=\"text-align: right;\">0.00</td><td style=\"text-align: right;\">1</td><td style=\"text-align: right;\">1.00</td><td style=\"text-align: right;\">0</td><td style=\"text-align: right;\">0.00</td><td style=\"text-align: right;\">0</td><td style=\"text-align: right;\">0.00</td><td style=\"text-align: right;\">0</td><td style=\"text-align: right;\">0.00</td><td style=\"text-align: right;\">0</td><td style=\"text-align: right;\">0.00</td><td style=\"text-align: right;\">0</td><td style=\"text-align: right;\">0.00</td><td style=\"text-align: right;\">0</td><td style=\"text-align: right;\">0.00</td><td style=\"text-align: right;\">1</td><td style=\"text-align: right;\">8.16</td></tr>\n",
       "<tr><td style=\"text-align: right;\">354129</td><td style=\"text-align: right;\">136,652,953</td><td style=\"text-align: right;\">108,222</td><td style=\"text-align: right;\">5</td><td style=\"text-align: right;\">1296</td><td style=\"text-align: right;\">0.00</td><td style=\"text-align: right;\">1</td><td style=\"text-align: right;\">1.00</td><td style=\"text-align: right;\">0</td><td style=\"text-align: right;\">0.00</td><td style=\"text-align: right;\">0</td><td style=\"text-align: right;\">0.00</td><td style=\"text-align: right;\">0</td><td style=\"text-align: right;\">0.00</td><td style=\"text-align: right;\">0</td><td style=\"text-align: right;\">0.00</td><td style=\"text-align: right;\">0</td><td style=\"text-align: right;\">0.00</td><td style=\"text-align: right;\">0</td><td style=\"text-align: right;\">0.00</td><td style=\"text-align: right;\">1</td><td style=\"text-align: right;\">8.16</td></tr>\n",
       "<tr class=\"even\"><td style=\"text-align: right;\">353919</td><td style=\"text-align: right;\">136,500,475</td><td style=\"text-align: right;\">42,085</td><td style=\"text-align: right;\">13</td><td style=\"text-align: right;\">1227</td><td style=\"text-align: right;\">0.00</td><td style=\"text-align: right;\">1</td><td style=\"text-align: right;\">1.00</td><td style=\"text-align: right;\">0</td><td style=\"text-align: right;\">0.00</td><td style=\"text-align: right;\">0</td><td style=\"text-align: right;\">0.00</td><td style=\"text-align: right;\">0</td><td style=\"text-align: right;\">0.00</td><td style=\"text-align: right;\">0</td><td style=\"text-align: right;\">0.00</td><td style=\"text-align: right;\">0</td><td style=\"text-align: right;\">0.00</td><td style=\"text-align: right;\">0</td><td style=\"text-align: right;\">0.00</td><td style=\"text-align: right;\">1</td><td style=\"text-align: right;\">8.16</td></tr>\n",
       "<tr><td style=\"text-align: right;\">354127</td><td style=\"text-align: right;\">136,652,491</td><td style=\"text-align: right;\">80,281</td><td style=\"text-align: right;\">6</td><td style=\"text-align: right;\">1114</td><td style=\"text-align: right;\">0.00</td><td style=\"text-align: right;\">1</td><td style=\"text-align: right;\">1.00</td><td style=\"text-align: right;\">0</td><td style=\"text-align: right;\">0.00</td><td style=\"text-align: right;\">0</td><td style=\"text-align: right;\">0.00</td><td style=\"text-align: right;\">0</td><td style=\"text-align: right;\">0.00</td><td style=\"text-align: right;\">0</td><td style=\"text-align: right;\">0.00</td><td style=\"text-align: right;\">0</td><td style=\"text-align: right;\">0.00</td><td style=\"text-align: right;\">0</td><td style=\"text-align: right;\">0.00</td><td style=\"text-align: right;\">1</td><td style=\"text-align: right;\">8.16</td></tr>\n",
       "<tr class=\"even\"><td style=\"text-align: right;\">353902</td><td style=\"text-align: right;\">136,494,985</td><td style=\"text-align: right;\">278,653</td><td style=\"text-align: right;\">81</td><td style=\"text-align: right;\">857</td><td style=\"text-align: right;\">0.00</td><td style=\"text-align: right;\">1</td><td style=\"text-align: right;\">1.00</td><td style=\"text-align: right;\">0</td><td style=\"text-align: right;\">0.00</td><td style=\"text-align: right;\">0</td><td style=\"text-align: right;\">0.00</td><td style=\"text-align: right;\">0</td><td style=\"text-align: right;\">0.00</td><td style=\"text-align: right;\">0</td><td style=\"text-align: right;\">0.00</td><td style=\"text-align: right;\">0</td><td style=\"text-align: right;\">0.00</td><td style=\"text-align: right;\">0</td><td style=\"text-align: right;\">0.00</td><td style=\"text-align: right;\">1</td><td style=\"text-align: right;\">8.16</td></tr>\n",
       "<tr><td style=\"text-align: right;\">353384</td><td style=\"text-align: right;\">135,839,805</td><td style=\"text-align: right;\">84,662</td><td style=\"text-align: right;\">4</td><td style=\"text-align: right;\">815</td><td style=\"text-align: right;\">0.00</td><td style=\"text-align: right;\">1</td><td style=\"text-align: right;\">1.00</td><td style=\"text-align: right;\">0</td><td style=\"text-align: right;\">0.00</td><td style=\"text-align: right;\">0</td><td style=\"text-align: right;\">0.00</td><td style=\"text-align: right;\">0</td><td style=\"text-align: right;\">0.00</td><td style=\"text-align: right;\">0</td><td style=\"text-align: right;\">0.00</td><td style=\"text-align: right;\">0</td><td style=\"text-align: right;\">0.00</td><td style=\"text-align: right;\">0</td><td style=\"text-align: right;\">0.00</td><td style=\"text-align: right;\">1</td><td style=\"text-align: right;\">8.16</td></tr>\n",
       "<tr class=\"even\"><td style=\"text-align: right;\">353554</td><td style=\"text-align: right;\">136,021,814</td><td style=\"text-align: right;\">347,522</td><td style=\"text-align: right;\">5</td><td style=\"text-align: right;\">47</td><td style=\"text-align: right;\">0.02</td><td style=\"text-align: right;\">1</td><td style=\"text-align: right;\">1.00</td><td style=\"text-align: right;\">0</td><td style=\"text-align: right;\">0.00</td><td style=\"text-align: right;\">0</td><td style=\"text-align: right;\">0.00</td><td style=\"text-align: right;\">0</td><td style=\"text-align: right;\">0.00</td><td style=\"text-align: right;\">0</td><td style=\"text-align: right;\">0.00</td><td style=\"text-align: right;\">0</td><td style=\"text-align: right;\">0.00</td><td style=\"text-align: right;\">0</td><td style=\"text-align: right;\">0.00</td><td style=\"text-align: right;\">1</td><td style=\"text-align: right;\">8.16</td></tr>\n",
       "</table>"
      ],
      "text/plain": [
       "<IPython.core.display.HTML object>"
      ]
     },
     "execution_count": 46,
     "metadata": {},
     "output_type": "execute_result"
    }
   ],
   "source": [
    "HTML(plt_obj.get_html())"
   ]
  },
  {
   "cell_type": "code",
   "execution_count": 47,
   "metadata": {
    "collapsed": false
   },
   "outputs": [
    {
     "data": {
      "text/html": [
       "\n",
       "\n",
       "    <div class=\"bk-root\">\n",
       "        <div class=\"plotdiv\" id=\"3ace64ae-afba-40fd-be58-e89e8ba6e974\"></div>\n",
       "    </div>\n",
       "<script type=\"text/javascript\">\n",
       "  \n",
       "  (function(global) {\n",
       "    function now() {\n",
       "      return new Date();\n",
       "    }\n",
       "  \n",
       "    if (typeof (window._bokeh_onload_callbacks) === \"undefined\") {\n",
       "      window._bokeh_onload_callbacks = [];\n",
       "    }\n",
       "  \n",
       "    function run_callbacks() {\n",
       "      window._bokeh_onload_callbacks.forEach(function(callback) { callback() });\n",
       "      delete window._bokeh_onload_callbacks\n",
       "      console.info(\"Bokeh: all callbacks have finished\");\n",
       "    }\n",
       "  \n",
       "    function load_libs(js_urls, callback) {\n",
       "      window._bokeh_onload_callbacks.push(callback);\n",
       "      if (window._bokeh_is_loading > 0) {\n",
       "        console.log(\"Bokeh: BokehJS is being loaded, scheduling callback at\", now());\n",
       "        return null;\n",
       "      }\n",
       "      if (js_urls == null || js_urls.length === 0) {\n",
       "        run_callbacks();\n",
       "        return null;\n",
       "      }\n",
       "      console.log(\"Bokeh: BokehJS not loaded, scheduling load and callback at\", now());\n",
       "      window._bokeh_is_loading = js_urls.length;\n",
       "      for (var i = 0; i < js_urls.length; i++) {\n",
       "        var url = js_urls[i];\n",
       "        var s = document.createElement('script');\n",
       "        s.src = url;\n",
       "        s.async = false;\n",
       "        s.onreadystatechange = s.onload = function() {\n",
       "          window._bokeh_is_loading--;\n",
       "          if (window._bokeh_is_loading === 0) {\n",
       "            console.log(\"Bokeh: all BokehJS libraries loaded\");\n",
       "            run_callbacks()\n",
       "          }\n",
       "        };\n",
       "        s.onerror = function() {\n",
       "          console.warn(\"failed to load library \" + url);\n",
       "        };\n",
       "        console.log(\"Bokeh: injecting script tag for BokehJS library: \", url);\n",
       "        document.getElementsByTagName(\"head\")[0].appendChild(s);\n",
       "      }\n",
       "    };var element = document.getElementById(\"3ace64ae-afba-40fd-be58-e89e8ba6e974\");\n",
       "    if (element == null) {\n",
       "      console.log(\"Bokeh: ERROR: autoload.js configured with elementid '3ace64ae-afba-40fd-be58-e89e8ba6e974' but no matching script tag was found. \")\n",
       "      return false;\n",
       "    }\n",
       "  \n",
       "    var js_urls = [];\n",
       "  \n",
       "    var inline_js = [\n",
       "      function(Bokeh) {\n",
       "        Bokeh.$(function() {\n",
       "            var docs_json = {\"baad2e76-1ecc-4f19-91a6-293ae1ccc69d\":{\"roots\":{\"references\":[{\"attributes\":{\"bottom\":{\"field\":\"bottom\"},\"fill_alpha\":{\"value\":0.1},\"fill_color\":{\"value\":\"#1f77b4\"},\"left\":{\"field\":\"left\"},\"line_alpha\":{\"value\":0.1},\"line_color\":{\"value\":\"#1f77b4\"},\"right\":{\"field\":\"right\"},\"top\":{\"field\":\"top\"}},\"id\":\"ba3c9e16-d94f-4b65-ba37-1ddb85f98bcc\",\"type\":\"Quad\"},{\"attributes\":{\"line_alpha\":{\"value\":0.1},\"line_color\":{\"value\":\"#1f77b4\"},\"xs\":{\"field\":\"xs\"},\"ys\":{\"field\":\"ys\"}},\"id\":\"45dfb78d-b772-4052-9032-1f7e6bbaaee3\",\"type\":\"MultiLine\"},{\"attributes\":{},\"id\":\"0e412272-1410-4157-9cd4-60951f9a86a7\",\"type\":\"ToolEvents\"},{\"attributes\":{\"callback\":null,\"column_names\":[\"right\",\"bottom\",\"top\",\"left\",\"fill_color\"],\"data\":{\"bottom\":[50,50,350,50,150,350,250,450,150,250,450],\"fill_color\":[\"#61c4c4\",\"#00ff00\",\"#c4c461\",\"#808080\",\"#808080\",\"#808080\",\"#808080\",\"#c46161\",\"#808080\",\"#808080\",\"#808080\"],\"left\":[135839805,136039834,136393658,136494985,136500475,136506375,136535876,136588031,136652491,136652953,136653925],\"right\":[135924467,136349562,136486342,136773638,136542560,136538939,136554890,136593678,136732772,136761175,136761853],\"top\":[90,57,394,90,193,394,294,496,192,294,495]}},\"id\":\"8fc4e371-fac2-46f9-98ec-8ef1992176ad\",\"type\":\"ColumnDataSource\"},{\"attributes\":{\"plot\":{\"id\":\"2a80a263-4145-4d05-b015-f61145f14427\",\"subtype\":\"Figure\",\"type\":\"Plot\"}},\"id\":\"d1fe2b5e-322e-4f84-b914-e57d603886c1\",\"type\":\"ResetTool\"},{\"attributes\":{\"callback\":null,\"end\":600},\"id\":\"6f4b1d9b-a411-442c-9485-9598c7f139b2\",\"type\":\"Range1d\"},{\"attributes\":{\"plot\":null,\"text\":null},\"id\":\"83f29f50-6f19-4dbf-b369-2543283a5b73\",\"type\":\"Title\"},{\"attributes\":{\"formatter\":{\"id\":\"2e4e2119-5628-4375-ac5c-6a15811f7149\",\"type\":\"BasicTickFormatter\"},\"plot\":{\"id\":\"2a80a263-4145-4d05-b015-f61145f14427\",\"subtype\":\"Figure\",\"type\":\"Plot\"},\"ticker\":{\"id\":\"dc229080-e991-4075-a0d4-857517d38d0a\",\"type\":\"BasicTicker\"}},\"id\":\"99a504cc-9036-480d-bd47-079b824e5cd2\",\"type\":\"LinearAxis\"},{\"attributes\":{\"data_source\":{\"id\":\"cf030e8f-6c26-45bb-b4c6-f6dd089bb12e\",\"type\":\"ColumnDataSource\"},\"glyph\":{\"id\":\"017f11d5-a43b-4909-9cd5-47f583a1ab9e\",\"type\":\"MultiLine\"},\"hover_glyph\":null,\"nonselection_glyph\":{\"id\":\"45dfb78d-b772-4052-9032-1f7e6bbaaee3\",\"type\":\"MultiLine\"},\"selection_glyph\":null},\"id\":\"27dde5c3-becf-4aff-9a98-6df7f2359262\",\"type\":\"GlyphRenderer\"},{\"attributes\":{\"callback\":null,\"column_names\":[\"right\",\"bottom\",\"top\",\"left\"],\"data\":{\"bottom\":[545,545,545,545,545,545,545],\"left\":[135809835,135957574,136289083,136499189,136545415,136597196,136664254],\"right\":[135928279,136288182,136482839,136542633,136594750,136634047,136743222],\"top\":[575,575,575,575,575,575,575]}},\"id\":\"03a213be-4935-4476-9019-ff1209891585\",\"type\":\"ColumnDataSource\"},{\"attributes\":{},\"id\":\"dc229080-e991-4075-a0d4-857517d38d0a\",\"type\":\"BasicTicker\"},{\"attributes\":{\"callback\":null,\"column_names\":[\"y\",\"x\",\"vals\"],\"data\":{\"vals\":[\"4_815\",\"7_20\",\"32_1361\",\"81_857\",\"13_1227\",\"4_1442\",\"7_1303\",\"7_1760\",\"6_1114\",\"5_1296\",\"24_1504\"],\"x\":[135839805,136039834,136393658,136494985,136500475,136506375,136535876,136588031,136652491,136652953,136653925],\"y\":[95.0,62.0,399.0,95.0,198.0,399.0,299.0,501.0,197.0,299.0,500.0]}},\"id\":\"227a2e42-ef31-4e4f-997f-52759419a073\",\"type\":\"ColumnDataSource\"},{\"attributes\":{\"plot\":{\"id\":\"2a80a263-4145-4d05-b015-f61145f14427\",\"subtype\":\"Figure\",\"type\":\"Plot\"}},\"id\":\"0df9ca43-8678-4479-8ccc-673c60e1c09f\",\"type\":\"WheelZoomTool\"},{\"attributes\":{\"plot\":{\"id\":\"2a80a263-4145-4d05-b015-f61145f14427\",\"subtype\":\"Figure\",\"type\":\"Plot\"}},\"id\":\"ae9f2bcd-ea98-4cdd-a08b-221bf0c298a2\",\"type\":\"HelpTool\"},{\"attributes\":{\"line_color\":{\"field\":\"line_color\"},\"xs\":{\"field\":\"xs\"},\"ys\":{\"field\":\"ys\"}},\"id\":\"017f11d5-a43b-4909-9cd5-47f583a1ab9e\",\"type\":\"MultiLine\"},{\"attributes\":{\"bottom_units\":\"screen\",\"fill_alpha\":{\"value\":0.5},\"fill_color\":{\"value\":\"lightgrey\"},\"left_units\":\"screen\",\"level\":\"overlay\",\"line_alpha\":{\"value\":1.0},\"line_color\":{\"value\":\"black\"},\"line_dash\":[4,4],\"line_width\":{\"value\":2},\"plot\":null,\"render_mode\":\"css\",\"right_units\":\"screen\",\"top_units\":\"screen\"},\"id\":\"528bebca-48e6-4cce-ad09-a4e26fbe4606\",\"type\":\"BoxAnnotation\"},{\"attributes\":{\"below\":[{\"id\":\"99a504cc-9036-480d-bd47-079b824e5cd2\",\"type\":\"LinearAxis\"}],\"left\":[{\"id\":\"30cc5ef2-3760-4cde-ba25-a9f88ffa7411\",\"type\":\"LinearAxis\"}],\"plot_width\":900,\"renderers\":[{\"id\":\"99a504cc-9036-480d-bd47-079b824e5cd2\",\"type\":\"LinearAxis\"},{\"id\":\"39dc22f1-0fab-419f-b1f9-3b0f811129be\",\"type\":\"Grid\"},{\"id\":\"30cc5ef2-3760-4cde-ba25-a9f88ffa7411\",\"type\":\"LinearAxis\"},{\"id\":\"7f58c8b1-b22c-4b88-89db-0b94470fdad2\",\"type\":\"Grid\"},{\"id\":\"528bebca-48e6-4cce-ad09-a4e26fbe4606\",\"type\":\"BoxAnnotation\"},{\"id\":\"dd40fe56-0dd3-4e73-a5d2-4d07d9ad0dca\",\"type\":\"GlyphRenderer\"},{\"id\":\"27dde5c3-becf-4aff-9a98-6df7f2359262\",\"type\":\"GlyphRenderer\"},{\"id\":\"6207a875-2451-4c71-8a77-25b8d3d908b1\",\"type\":\"LabelSet\"},{\"id\":\"2597f66d-a255-40b4-bed2-d803dbb038e5\",\"type\":\"GlyphRenderer\"},{\"id\":\"e41db6f3-aa83-4a51-b35b-e73e55689138\",\"type\":\"LabelSet\"}],\"title\":{\"id\":\"83f29f50-6f19-4dbf-b369-2543283a5b73\",\"type\":\"Title\"},\"tool_events\":{\"id\":\"0e412272-1410-4157-9cd4-60951f9a86a7\",\"type\":\"ToolEvents\"},\"toolbar\":{\"id\":\"466a78df-cb9e-4047-9a16-33ce6b86e626\",\"type\":\"Toolbar\"},\"toolbar_location\":null,\"x_range\":{\"id\":\"af468d45-4319-4463-83cc-6626143869af\",\"type\":\"Range1d\"},\"y_range\":{\"id\":\"6f4b1d9b-a411-442c-9485-9598c7f139b2\",\"type\":\"Range1d\"}},\"id\":\"2a80a263-4145-4d05-b015-f61145f14427\",\"subtype\":\"Figure\",\"type\":\"Plot\"},{\"attributes\":{\"callback\":null,\"column_names\":[\"xs\",\"ys\",\"line_color\"],\"data\":{\"line_color\":[\"black\",\"black\",\"black\",\"black\",\"black\",\"black\",\"black\",\"black\",\"black\",\"black\",\"black\",\"black\",\"black\",\"black\",\"black\",\"black\",\"black\",\"black\",\"black\",\"black\",\"black\",\"black\",\"black\",\"black\",\"black\",\"black\",\"black\",\"black\",\"black\",\"black\",\"black\",\"black\",\"black\",\"black\",\"black\",\"black\",\"black\",\"black\",\"black\",\"black\",\"black\",\"black\",\"black\",\"black\",\"black\",\"black\",\"black\",\"black\",\"black\",\"black\",\"black\",\"black\",\"black\",\"black\",\"black\",\"black\",\"black\",\"black\",\"black\",\"black\",\"black\",\"black\",\"black\",\"black\",\"black\",\"black\",\"black\",\"black\",\"black\",\"black\",\"black\",\"black\",\"black\",\"black\",\"black\",\"black\",\"black\",\"black\",\"black\",\"black\",\"black\",\"black\",\"black\",\"black\",\"black\",\"black\",\"black\",\"black\",\"black\",\"black\",\"black\",\"black\",\"black\",\"black\",\"black\",\"black\",\"black\",\"black\",\"black\",\"black\",\"black\",\"black\",\"black\",\"black\",\"black\",\"black\",\"black\",\"black\",\"black\",\"black\",\"black\",\"black\",\"black\",\"black\",\"black\",\"black\",\"black\",\"black\",\"black\",\"black\",\"black\",\"black\",\"black\",\"black\",\"black\",\"black\",\"black\",\"black\",\"black\",\"black\",\"black\",\"black\",\"black\",\"black\",\"black\",\"black\",\"black\",\"black\",\"black\",\"black\",\"black\",\"black\",\"black\",\"black\",\"black\",\"black\",\"black\",\"black\",\"black\",\"black\",\"black\",\"black\",\"black\",\"black\",\"black\",\"black\",\"black\",\"black\",\"black\",\"black\",\"black\",\"black\",\"black\",\"black\",\"black\",\"black\",\"black\",\"black\",\"black\",\"black\",\"black\",\"black\",\"black\",\"black\",\"black\",\"black\",\"black\",\"black\",\"black\",\"black\",\"black\",\"black\",\"black\",\"black\",\"black\",\"black\",\"black\",\"black\",\"black\",\"black\"],\"xs\":[[135839805,135839805],[135866750,135866750],[135886744,135886744],[135924467,135924467],[136039834,136039834],[136040506,136040506],[136108092,136108092],[136283871,136283871],[136284021,136284021],[136343363,136343363],[136349562,136349562],[136393658,136393658],[136396300,136396300],[136401843,136401843],[136407445,136407445],[136411879,136411879],[136412270,136412270],[136413244,136413244],[136413847,136413847],[136415217,136415217],[136416533,136416533],[136420726,136420726],[136429857,136429857],[136433740,136433740],[136436317,136436317],[136437615,136437615],[136438517,136438517],[136440300,136440300],[136443900,136443900],[136444185,136444185],[136444338,136444338],[136449254,136449254],[136451676,136451676],[136459227,136459227],[136463117,136463117],[136463454,136463454],[136467119,136467119],[136468238,136468238],[136470219,136470219],[136483355,136483355],[136485276,136485276],[136486340,136486340],[136486342,136486342],[136494985,136494985],[136497199,136497199],[136511817,136511817],[136513670,136513670],[136515458,136515458],[136516970,136516970],[136525309,136525309],[136528034,136528034],[136532225,136532225],[136535235,136535235],[136536095,136536095],[136544423,136544423],[136546927,136546927],[136552188,136552188],[136552517,136552517],[136555525,136555525],[136556480,136556480],[136560464,136560464],[136572285,136572285],[136582694,136582694],[136582809,136582809],[136584538,136584538],[136585323,136585323],[136586825,136586825],[136600662,136600662],[136612036,136612036],[136618178,136618178],[136618507,136618507],[136622543,136622543],[136624947,136624947],[136625113,136625113],[136626078,136626078],[136628121,136628121],[136632300,136632300],[136633962,136633962],[136635343,136635343],[136638113,136638113],[136640101,136640101],[136641593,136641593],[136646582,136646582],[136648077,136648077],[136648883,136648883],[136652045,136652045],[136653848,136653848],[136656094,136656094],[136661110,136661110],[136663110,136663110],[136663605,136663605],[136665162,136665162],[136665711,136665711],[136668123,136668123],[136670419,136670419],[136672680,136672680],[136673546,136673546],[136684632,136684632],[136686114,136686114],[136690425,136690425],[136690783,136690783],[136692893,136692893],[136694905,136694905],[136695694,136695694],[136695705,136695705],[136696608,136696608],[136697372,136697372],[136697468,136697468],[136700024,136700024],[136701539,136701539],[136702118,136702118],[136707480,136707480],[136710554,136710554],[136714178,136714178],[136719173,136719173],[136725459,136725459],[136734569,136734569],[136744678,136744678],[136748779,136748779],[136751488,136751488],[136754183,136754183],[136763242,136763242],[136765074,136765074],[136773638,136773638],[136500475,136500475],[136501509,136501509],[136504101,136504101],[136509868,136509868],[136520043,136520043],[136527120,136527120],[136530379,136530379],[136530443,136530443],[136539330,136539330],[136539670,136539670],[136540083,136540083],[136542559,136542559],[136542560,136542560],[136506375,136506375],[136506927,136506927],[136510012,136510012],[136538939,136538939],[136535876,136535876],[136544651,136544651],[136545844,136545844],[136552526,136552526],[136553022,136553022],[136554797,136554797],[136554890,136554890],[136588031,136588031],[136589278,136589278],[136589379,136589379],[136589741,136589741],[136590746,136590746],[136593553,136593553],[136593678,136593678],[136652491,136652491],[136652524,136652524],[136661150,136661150],[136669264,136669264],[136726567,136726567],[136732772,136732772],[136652953,136652953],[136655582,136655582],[136674028,136674028],[136684940,136684940],[136761175,136761175],[136653925,136653925],[136654833,136654833],[136656534,136656534],[136656536,136656536],[136657252,136657252],[136667301,136667301],[136667487,136667487],[136672775,136672775],[136680534,136680534],[136686393,136686393],[136688749,136688749],[136692553,136692553],[136697371,136697371],[136708787,136708787],[136710372,136710372],[136711064,136711064],[136715324,136715324],[136723504,136723504],[136737460,136737460],[136743143,136743143],[136746224,136746224],[136751842,136751842],[136759379,136759379],[136761853,136761853]],\"ys\":[[50,90],[50,90],[50,90],[50,90],[50,57],[50,57],[50,57],[50,57],[50,57],[50,57],[50,57],[350,394],[350,394],[350,394],[350,394],[350,394],[350,394],[350,394],[350,394],[350,394],[350,394],[350,394],[350,394],[350,394],[350,394],[350,394],[350,394],[350,394],[350,394],[350,394],[350,394],[350,394],[350,394],[350,394],[350,394],[350,394],[350,394],[350,394],[350,394],[350,394],[350,394],[350,394],[350,394],[50,90],[50,90],[50,90],[50,90],[50,90],[50,90],[50,90],[50,90],[50,90],[50,90],[50,90],[50,90],[50,90],[50,90],[50,90],[50,90],[50,90],[50,90],[50,90],[50,90],[50,90],[50,90],[50,90],[50,90],[50,90],[50,90],[50,90],[50,90],[50,90],[50,90],[50,90],[50,90],[50,90],[50,90],[50,90],[50,90],[50,90],[50,90],[50,90],[50,90],[50,90],[50,90],[50,90],[50,90],[50,90],[50,90],[50,90],[50,90],[50,90],[50,90],[50,90],[50,90],[50,90],[50,90],[50,90],[50,90],[50,90],[50,90],[50,90],[50,90],[50,90],[50,90],[50,90],[50,90],[50,90],[50,90],[50,90],[50,90],[50,90],[50,90],[50,90],[50,90],[50,90],[50,90],[50,90],[50,90],[50,90],[50,90],[50,90],[50,90],[50,90],[150,193],[150,193],[150,193],[150,193],[150,193],[150,193],[150,193],[150,193],[150,193],[150,193],[150,193],[150,193],[150,193],[350,394],[350,394],[350,394],[350,394],[250,294],[250,294],[250,294],[250,294],[250,294],[250,294],[250,294],[450,496],[450,496],[450,496],[450,496],[450,496],[450,496],[450,496],[150,192],[150,192],[150,192],[150,192],[150,192],[150,192],[250,294],[250,294],[250,294],[250,294],[250,294],[450,495],[450,495],[450,495],[450,495],[450,495],[450,495],[450,495],[450,495],[450,495],[450,495],[450,495],[450,495],[450,495],[450,495],[450,495],[450,495],[450,495],[450,495],[450,495],[450,495],[450,495],[450,495],[450,495],[450,495]]}},\"id\":\"cf030e8f-6c26-45bb-b4c6-f6dd089bb12e\",\"type\":\"ColumnDataSource\"},{\"attributes\":{\"bottom\":{\"field\":\"bottom\"},\"fill_color\":{\"field\":\"fill_color\"},\"left\":{\"field\":\"left\"},\"line_color\":{\"value\":null},\"right\":{\"field\":\"right\"},\"top\":{\"field\":\"top\"}},\"id\":\"0624348a-ba16-41eb-b993-7bb9990c1dd9\",\"type\":\"Quad\"},{\"attributes\":{\"level\":\"glyph\",\"plot\":{\"id\":\"2a80a263-4145-4d05-b015-f61145f14427\",\"subtype\":\"Figure\",\"type\":\"Plot\"},\"source\":{\"id\":\"227a2e42-ef31-4e4f-997f-52759419a073\",\"type\":\"ColumnDataSource\"},\"text\":{\"field\":\"vals\"},\"text_font_size\":{\"value\":\"9pt\"},\"text_font_style\":\"bold\",\"x\":{\"field\":\"x\"},\"y\":{\"field\":\"y\"}},\"id\":\"6207a875-2451-4c71-8a77-25b8d3d908b1\",\"type\":\"LabelSet\"},{\"attributes\":{\"active_drag\":\"auto\",\"active_scroll\":\"auto\",\"active_tap\":\"auto\",\"tools\":[{\"id\":\"71820270-6ff9-42b8-bf2c-1de1c5c3f91a\",\"type\":\"PanTool\"},{\"id\":\"0df9ca43-8678-4479-8ccc-673c60e1c09f\",\"type\":\"WheelZoomTool\"},{\"id\":\"d43fdbea-e441-49d8-8b90-4229de7dfdaa\",\"type\":\"BoxZoomTool\"},{\"id\":\"37f7bad8-a5ea-4094-afdc-805a49172db5\",\"type\":\"SaveTool\"},{\"id\":\"d1fe2b5e-322e-4f84-b914-e57d603886c1\",\"type\":\"ResetTool\"},{\"id\":\"ae9f2bcd-ea98-4cdd-a08b-221bf0c298a2\",\"type\":\"HelpTool\"}]},\"id\":\"466a78df-cb9e-4047-9a16-33ce6b86e626\",\"type\":\"Toolbar\"},{\"attributes\":{},\"id\":\"e319c908-feb5-4dcb-bc2c-062629534ae1\",\"type\":\"BasicTicker\"},{\"attributes\":{\"data_source\":{\"id\":\"03a213be-4935-4476-9019-ff1209891585\",\"type\":\"ColumnDataSource\"},\"glyph\":{\"id\":\"d92c6a82-1108-43bc-8c64-95efb77ae776\",\"type\":\"Quad\"},\"hover_glyph\":null,\"nonselection_glyph\":{\"id\":\"ba3c9e16-d94f-4b65-ba37-1ddb85f98bcc\",\"type\":\"Quad\"},\"selection_glyph\":null},\"id\":\"2597f66d-a255-40b4-bed2-d803dbb038e5\",\"type\":\"GlyphRenderer\"},{\"attributes\":{\"callback\":null,\"end\":136786630,\"start\":135757320},\"id\":\"af468d45-4319-4463-83cc-6626143869af\",\"type\":\"Range1d\"},{\"attributes\":{\"level\":\"glyph\",\"plot\":{\"id\":\"2a80a263-4145-4d05-b015-f61145f14427\",\"subtype\":\"Figure\",\"type\":\"Plot\"},\"source\":{\"id\":\"775cf5dc-00bf-4f10-b56c-2e4778edd002\",\"type\":\"ColumnDataSource\"},\"text\":{\"field\":\"vals\"},\"text_align\":\"center\",\"text_baseline\":\"middle\",\"text_font_size\":{\"value\":\"8pt\"},\"x\":{\"field\":\"x\"},\"y\":{\"field\":\"y\"}},\"id\":\"e41db6f3-aa83-4a51-b35b-e73e55689138\",\"type\":\"LabelSet\"},{\"attributes\":{},\"id\":\"7073ad9e-bbc3-4ce2-8884-1f76c87d9ce6\",\"type\":\"BasicTickFormatter\"},{\"attributes\":{\"plot\":{\"id\":\"2a80a263-4145-4d05-b015-f61145f14427\",\"subtype\":\"Figure\",\"type\":\"Plot\"}},\"id\":\"37f7bad8-a5ea-4094-afdc-805a49172db5\",\"type\":\"SaveTool\"},{\"attributes\":{\"dimension\":1,\"plot\":{\"id\":\"2a80a263-4145-4d05-b015-f61145f14427\",\"subtype\":\"Figure\",\"type\":\"Plot\"},\"ticker\":{\"id\":\"e319c908-feb5-4dcb-bc2c-062629534ae1\",\"type\":\"BasicTicker\"}},\"id\":\"7f58c8b1-b22c-4b88-89db-0b94470fdad2\",\"type\":\"Grid\"},{\"attributes\":{\"bottom\":{\"field\":\"bottom\"},\"fill_color\":{\"value\":\"white\"},\"left\":{\"field\":\"left\"},\"right\":{\"field\":\"right\"},\"top\":{\"field\":\"top\"}},\"id\":\"d92c6a82-1108-43bc-8c64-95efb77ae776\",\"type\":\"Quad\"},{\"attributes\":{\"formatter\":{\"id\":\"7073ad9e-bbc3-4ce2-8884-1f76c87d9ce6\",\"type\":\"BasicTickFormatter\"},\"plot\":{\"id\":\"2a80a263-4145-4d05-b015-f61145f14427\",\"subtype\":\"Figure\",\"type\":\"Plot\"},\"ticker\":{\"id\":\"e319c908-feb5-4dcb-bc2c-062629534ae1\",\"type\":\"BasicTicker\"},\"visible\":null},\"id\":\"30cc5ef2-3760-4cde-ba25-a9f88ffa7411\",\"type\":\"LinearAxis\"},{\"attributes\":{\"overlay\":{\"id\":\"528bebca-48e6-4cce-ad09-a4e26fbe4606\",\"type\":\"BoxAnnotation\"},\"plot\":{\"id\":\"2a80a263-4145-4d05-b015-f61145f14427\",\"subtype\":\"Figure\",\"type\":\"Plot\"}},\"id\":\"d43fdbea-e441-49d8-8b90-4229de7dfdaa\",\"type\":\"BoxZoomTool\"},{\"attributes\":{\"callback\":null,\"column_names\":[\"y\",\"x\",\"vals\"],\"data\":{\"vals\":[\"RAB3GAP1\",\"ZRANB3\",\"R3HDM1\",\"UBXN4\",\"LCT\",\"MCM6\",\"DARS\"],\"x\":[135869057.0,136122878.0,136385961.0,136520911.0,136570082.5,136615621.5,136703738.0],\"y\":[560.0,560.0,560.0,560.0,560.0,560.0,560.0]}},\"id\":\"775cf5dc-00bf-4f10-b56c-2e4778edd002\",\"type\":\"ColumnDataSource\"},{\"attributes\":{\"bottom\":{\"field\":\"bottom\"},\"fill_alpha\":{\"value\":0.1},\"fill_color\":{\"value\":\"#1f77b4\"},\"left\":{\"field\":\"left\"},\"line_alpha\":{\"value\":0.1},\"line_color\":{\"value\":\"#1f77b4\"},\"right\":{\"field\":\"right\"},\"top\":{\"field\":\"top\"}},\"id\":\"59518e3b-5876-486a-9309-43a6622a8645\",\"type\":\"Quad\"},{\"attributes\":{},\"id\":\"2e4e2119-5628-4375-ac5c-6a15811f7149\",\"type\":\"BasicTickFormatter\"},{\"attributes\":{\"data_source\":{\"id\":\"8fc4e371-fac2-46f9-98ec-8ef1992176ad\",\"type\":\"ColumnDataSource\"},\"glyph\":{\"id\":\"0624348a-ba16-41eb-b993-7bb9990c1dd9\",\"type\":\"Quad\"},\"hover_glyph\":null,\"nonselection_glyph\":{\"id\":\"59518e3b-5876-486a-9309-43a6622a8645\",\"type\":\"Quad\"},\"selection_glyph\":null},\"id\":\"dd40fe56-0dd3-4e73-a5d2-4d07d9ad0dca\",\"type\":\"GlyphRenderer\"},{\"attributes\":{\"plot\":{\"id\":\"2a80a263-4145-4d05-b015-f61145f14427\",\"subtype\":\"Figure\",\"type\":\"Plot\"}},\"id\":\"71820270-6ff9-42b8-bf2c-1de1c5c3f91a\",\"type\":\"PanTool\"},{\"attributes\":{\"plot\":{\"id\":\"2a80a263-4145-4d05-b015-f61145f14427\",\"subtype\":\"Figure\",\"type\":\"Plot\"},\"ticker\":{\"id\":\"dc229080-e991-4075-a0d4-857517d38d0a\",\"type\":\"BasicTicker\"}},\"id\":\"39dc22f1-0fab-419f-b1f9-3b0f811129be\",\"type\":\"Grid\"}],\"root_ids\":[\"2a80a263-4145-4d05-b015-f61145f14427\"]},\"title\":\"Bokeh Application\",\"version\":\"0.12.0\"}};\n",
       "            var render_items = [{\"docid\":\"baad2e76-1ecc-4f19-91a6-293ae1ccc69d\",\"elementid\":\"3ace64ae-afba-40fd-be58-e89e8ba6e974\",\"modelid\":\"2a80a263-4145-4d05-b015-f61145f14427\",\"notebook_comms_target\":\"a9776206-0969-4a73-8b32-44a772678d21\"}];\n",
       "            \n",
       "            Bokeh.embed.embed_items(docs_json, render_items);\n",
       "        });\n",
       "      },\n",
       "      function(Bokeh) {\n",
       "      }\n",
       "    ];\n",
       "  \n",
       "    function run_inline_js() {\n",
       "      for (var i = 0; i < inline_js.length; i++) {\n",
       "        inline_js[i](window.Bokeh);\n",
       "      }\n",
       "    }\n",
       "  \n",
       "    if (window._bokeh_is_loading === 0) {\n",
       "      console.log(\"Bokeh: BokehJS loaded, going straight to plotting\");\n",
       "      run_inline_js();\n",
       "    } else {\n",
       "      load_libs(js_urls, function() {\n",
       "        console.log(\"Bokeh: BokehJS plotting callback run at\", now());\n",
       "        run_inline_js();\n",
       "      });\n",
       "    }\n",
       "  }(this));\n",
       "</script>"
      ]
     },
     "metadata": {},
     "output_type": "display_data"
    },
    {
     "data": {
      "text/html": [
       "<p><code>&lt;Bokeh Notebook handle for <strong>In[47]</strong>&gt;</code></p>"
      ],
      "text/plain": [
       "<bokeh.io._CommsHandle at 0x7f1488f12e10>"
      ]
     },
     "execution_count": 47,
     "metadata": {},
     "output_type": "execute_result"
    }
   ],
   "source": [
    "plt_obj = dm.superset_allele_mask(am_29, [dm.di_4_815, dm.di_32_1361, dm.di_81_857], [dm.di_5_47, dm.di_5_684], min_match=0.5)\n",
    "plt = plt_obj.do_plot()\n",
    "show(plt)"
   ]
  },
  {
   "cell_type": "code",
   "execution_count": 20,
   "metadata": {
    "collapsed": false
   },
   "outputs": [
    {
     "data": {
      "text/html": [
       "<table>\n",
       "<thead><tr><th style=\"text-align:center\">index</th><th style=\"text-align:center\">first</th><th style=\"text-align:center\">length</th><th style=\"text-align:center\">snps</th><th style=\"text-align:center\" colspan=2>alleles</th><th style=\"text-align:center\" colspan=2>matches</th><th style=\"text-align:center\" colspan=2>afr</th><th style=\"text-align:center\" colspan=2>afx</th><th style=\"text-align:center\" colspan=2>amr</th><th style=\"text-align:center\" colspan=2>eas</th><th style=\"text-align:center\" colspan=2>eur</th><th style=\"text-align:center\" colspan=2>sas</th><th style=\"text-align:center\" colspan=2>sax</th></tr></thead>\n",
       "<tr class=\"even\"><td style=\"text-align: right;\">354033</td><td style=\"text-align: right;\">136,588,031</td><td style=\"text-align: right;\">5,647</td><td style=\"text-align: right;\">7</td><td style=\"text-align: right;\">1760</td><td style=\"text-align: right;\">0.00</td><td style=\"text-align: right;\">1</td><td style=\"text-align: right;\">1.00</td><td style=\"text-align: right;\">1</td><td style=\"text-align: right;\">4.97</td><td style=\"text-align: right;\">0</td><td style=\"text-align: right;\">0.00</td><td style=\"text-align: right;\">0</td><td style=\"text-align: right;\">0.00</td><td style=\"text-align: right;\">0</td><td style=\"text-align: right;\">0.00</td><td style=\"text-align: right;\">0</td><td style=\"text-align: right;\">0.00</td><td style=\"text-align: right;\">0</td><td style=\"text-align: right;\">0.00</td><td style=\"text-align: right;\">0</td><td style=\"text-align: right;\">0.00</td></tr>\n",
       "<tr><td style=\"text-align: right;\">354130</td><td style=\"text-align: right;\">136,653,925</td><td style=\"text-align: right;\">107,928</td><td style=\"text-align: right;\">24</td><td style=\"text-align: right;\">1504</td><td style=\"text-align: right;\">0.00</td><td style=\"text-align: right;\">1</td><td style=\"text-align: right;\">1.00</td><td style=\"text-align: right;\">1</td><td style=\"text-align: right;\">4.97</td><td style=\"text-align: right;\">0</td><td style=\"text-align: right;\">0.00</td><td style=\"text-align: right;\">0</td><td style=\"text-align: right;\">0.00</td><td style=\"text-align: right;\">0</td><td style=\"text-align: right;\">0.00</td><td style=\"text-align: right;\">0</td><td style=\"text-align: right;\">0.00</td><td style=\"text-align: right;\">0</td><td style=\"text-align: right;\">0.00</td><td style=\"text-align: right;\">0</td><td style=\"text-align: right;\">0.00</td></tr>\n",
       "<tr class=\"even\"><td style=\"text-align: right;\">353925</td><td style=\"text-align: right;\">136,506,375</td><td style=\"text-align: right;\">32,564</td><td style=\"text-align: right;\">4</td><td style=\"text-align: right;\">1442</td><td style=\"text-align: right;\">0.00</td><td style=\"text-align: right;\">1</td><td style=\"text-align: right;\">1.00</td><td style=\"text-align: right;\">1</td><td style=\"text-align: right;\">4.97</td><td style=\"text-align: right;\">0</td><td style=\"text-align: right;\">0.00</td><td style=\"text-align: right;\">0</td><td style=\"text-align: right;\">0.00</td><td style=\"text-align: right;\">0</td><td style=\"text-align: right;\">0.00</td><td style=\"text-align: right;\">0</td><td style=\"text-align: right;\">0.00</td><td style=\"text-align: right;\">0</td><td style=\"text-align: right;\">0.00</td><td style=\"text-align: right;\">0</td><td style=\"text-align: right;\">0.00</td></tr>\n",
       "<tr><td style=\"text-align: right;\">353791</td><td style=\"text-align: right;\">136,393,658</td><td style=\"text-align: right;\">92,684</td><td style=\"text-align: right;\">32</td><td style=\"text-align: right;\">1361</td><td style=\"text-align: right;\">0.00</td><td style=\"text-align: right;\">1</td><td style=\"text-align: right;\">1.00</td><td style=\"text-align: right;\">1</td><td style=\"text-align: right;\">4.97</td><td style=\"text-align: right;\">0</td><td style=\"text-align: right;\">0.00</td><td style=\"text-align: right;\">0</td><td style=\"text-align: right;\">0.00</td><td style=\"text-align: right;\">0</td><td style=\"text-align: right;\">0.00</td><td style=\"text-align: right;\">0</td><td style=\"text-align: right;\">0.00</td><td style=\"text-align: right;\">0</td><td style=\"text-align: right;\">0.00</td><td style=\"text-align: right;\">0</td><td style=\"text-align: right;\">0.00</td></tr>\n",
       "<tr class=\"even\"><td style=\"text-align: right;\">353958</td><td style=\"text-align: right;\">136,535,876</td><td style=\"text-align: right;\">19,014</td><td style=\"text-align: right;\">7</td><td style=\"text-align: right;\">1303</td><td style=\"text-align: right;\">0.00</td><td style=\"text-align: right;\">1</td><td style=\"text-align: right;\">1.00</td><td style=\"text-align: right;\">1</td><td style=\"text-align: right;\">4.97</td><td style=\"text-align: right;\">0</td><td style=\"text-align: right;\">0.00</td><td style=\"text-align: right;\">0</td><td style=\"text-align: right;\">0.00</td><td style=\"text-align: right;\">0</td><td style=\"text-align: right;\">0.00</td><td style=\"text-align: right;\">0</td><td style=\"text-align: right;\">0.00</td><td style=\"text-align: right;\">0</td><td style=\"text-align: right;\">0.00</td><td style=\"text-align: right;\">0</td><td style=\"text-align: right;\">0.00</td></tr>\n",
       "<tr><td style=\"text-align: right;\">354129</td><td style=\"text-align: right;\">136,652,953</td><td style=\"text-align: right;\">108,222</td><td style=\"text-align: right;\">5</td><td style=\"text-align: right;\">1296</td><td style=\"text-align: right;\">0.00</td><td style=\"text-align: right;\">1</td><td style=\"text-align: right;\">1.00</td><td style=\"text-align: right;\">1</td><td style=\"text-align: right;\">4.97</td><td style=\"text-align: right;\">0</td><td style=\"text-align: right;\">0.00</td><td style=\"text-align: right;\">0</td><td style=\"text-align: right;\">0.00</td><td style=\"text-align: right;\">0</td><td style=\"text-align: right;\">0.00</td><td style=\"text-align: right;\">0</td><td style=\"text-align: right;\">0.00</td><td style=\"text-align: right;\">0</td><td style=\"text-align: right;\">0.00</td><td style=\"text-align: right;\">0</td><td style=\"text-align: right;\">0.00</td></tr>\n",
       "<tr class=\"even\"><td style=\"text-align: right;\">353919</td><td style=\"text-align: right;\">136,500,475</td><td style=\"text-align: right;\">42,085</td><td style=\"text-align: right;\">13</td><td style=\"text-align: right;\">1227</td><td style=\"text-align: right;\">0.00</td><td style=\"text-align: right;\">1</td><td style=\"text-align: right;\">1.00</td><td style=\"text-align: right;\">1</td><td style=\"text-align: right;\">4.97</td><td style=\"text-align: right;\">0</td><td style=\"text-align: right;\">0.00</td><td style=\"text-align: right;\">0</td><td style=\"text-align: right;\">0.00</td><td style=\"text-align: right;\">0</td><td style=\"text-align: right;\">0.00</td><td style=\"text-align: right;\">0</td><td style=\"text-align: right;\">0.00</td><td style=\"text-align: right;\">0</td><td style=\"text-align: right;\">0.00</td><td style=\"text-align: right;\">0</td><td style=\"text-align: right;\">0.00</td></tr>\n",
       "<tr><td style=\"text-align: right;\">354127</td><td style=\"text-align: right;\">136,652,491</td><td style=\"text-align: right;\">80,281</td><td style=\"text-align: right;\">6</td><td style=\"text-align: right;\">1114</td><td style=\"text-align: right;\">0.00</td><td style=\"text-align: right;\">1</td><td style=\"text-align: right;\">1.00</td><td style=\"text-align: right;\">1</td><td style=\"text-align: right;\">4.97</td><td style=\"text-align: right;\">0</td><td style=\"text-align: right;\">0.00</td><td style=\"text-align: right;\">0</td><td style=\"text-align: right;\">0.00</td><td style=\"text-align: right;\">0</td><td style=\"text-align: right;\">0.00</td><td style=\"text-align: right;\">0</td><td style=\"text-align: right;\">0.00</td><td style=\"text-align: right;\">0</td><td style=\"text-align: right;\">0.00</td><td style=\"text-align: right;\">0</td><td style=\"text-align: right;\">0.00</td></tr>\n",
       "<tr class=\"even\"><td style=\"text-align: right;\">353902</td><td style=\"text-align: right;\">136,494,985</td><td style=\"text-align: right;\">278,653</td><td style=\"text-align: right;\">81</td><td style=\"text-align: right;\">857</td><td style=\"text-align: right;\">0.00</td><td style=\"text-align: right;\">1</td><td style=\"text-align: right;\">1.00</td><td style=\"text-align: right;\">1</td><td style=\"text-align: right;\">4.97</td><td style=\"text-align: right;\">0</td><td style=\"text-align: right;\">0.00</td><td style=\"text-align: right;\">0</td><td style=\"text-align: right;\">0.00</td><td style=\"text-align: right;\">0</td><td style=\"text-align: right;\">0.00</td><td style=\"text-align: right;\">0</td><td style=\"text-align: right;\">0.00</td><td style=\"text-align: right;\">0</td><td style=\"text-align: right;\">0.00</td><td style=\"text-align: right;\">0</td><td style=\"text-align: right;\">0.00</td></tr>\n",
       "<tr><td style=\"text-align: right;\">353384</td><td style=\"text-align: right;\">135,839,805</td><td style=\"text-align: right;\">84,662</td><td style=\"text-align: right;\">4</td><td style=\"text-align: right;\">815</td><td style=\"text-align: right;\">0.00</td><td style=\"text-align: right;\">1</td><td style=\"text-align: right;\">1.00</td><td style=\"text-align: right;\">1</td><td style=\"text-align: right;\">4.97</td><td style=\"text-align: right;\">0</td><td style=\"text-align: right;\">0.00</td><td style=\"text-align: right;\">0</td><td style=\"text-align: right;\">0.00</td><td style=\"text-align: right;\">0</td><td style=\"text-align: right;\">0.00</td><td style=\"text-align: right;\">0</td><td style=\"text-align: right;\">0.00</td><td style=\"text-align: right;\">0</td><td style=\"text-align: right;\">0.00</td><td style=\"text-align: right;\">0</td><td style=\"text-align: right;\">0.00</td></tr>\n",
       "<tr class=\"even\"><td style=\"text-align: right;\">353570</td><td style=\"text-align: right;\">136,039,834</td><td style=\"text-align: right;\">309,728</td><td style=\"text-align: right;\">7</td><td style=\"text-align: right;\">20</td><td style=\"text-align: right;\">0.05</td><td style=\"text-align: right;\">1</td><td style=\"text-align: right;\">1.00</td><td style=\"text-align: right;\">1</td><td style=\"text-align: right;\">4.97</td><td style=\"text-align: right;\">0</td><td style=\"text-align: right;\">0.00</td><td style=\"text-align: right;\">0</td><td style=\"text-align: right;\">0.00</td><td style=\"text-align: right;\">0</td><td style=\"text-align: right;\">0.00</td><td style=\"text-align: right;\">0</td><td style=\"text-align: right;\">0.00</td><td style=\"text-align: right;\">0</td><td style=\"text-align: right;\">0.00</td><td style=\"text-align: right;\">0</td><td style=\"text-align: right;\">0.00</td></tr>\n",
       "</table>"
      ],
      "text/plain": [
       "<IPython.core.display.HTML object>"
      ]
     },
     "execution_count": 20,
     "metadata": {},
     "output_type": "execute_result"
    }
   ],
   "source": [
    "HTML(plt_obj.get_html())"
   ]
  },
  {
   "cell_type": "code",
   "execution_count": 21,
   "metadata": {
    "collapsed": false
   },
   "outputs": [
    {
     "data": {
      "text/html": [
       "\n",
       "\n",
       "    <div class=\"bk-root\">\n",
       "        <div class=\"plotdiv\" id=\"c9f66905-d424-4cf8-a246-cae3ce299c96\"></div>\n",
       "    </div>\n",
       "<script type=\"text/javascript\">\n",
       "  \n",
       "  (function(global) {\n",
       "    function now() {\n",
       "      return new Date();\n",
       "    }\n",
       "  \n",
       "    if (typeof (window._bokeh_onload_callbacks) === \"undefined\") {\n",
       "      window._bokeh_onload_callbacks = [];\n",
       "    }\n",
       "  \n",
       "    function run_callbacks() {\n",
       "      window._bokeh_onload_callbacks.forEach(function(callback) { callback() });\n",
       "      delete window._bokeh_onload_callbacks\n",
       "      console.info(\"Bokeh: all callbacks have finished\");\n",
       "    }\n",
       "  \n",
       "    function load_libs(js_urls, callback) {\n",
       "      window._bokeh_onload_callbacks.push(callback);\n",
       "      if (window._bokeh_is_loading > 0) {\n",
       "        console.log(\"Bokeh: BokehJS is being loaded, scheduling callback at\", now());\n",
       "        return null;\n",
       "      }\n",
       "      if (js_urls == null || js_urls.length === 0) {\n",
       "        run_callbacks();\n",
       "        return null;\n",
       "      }\n",
       "      console.log(\"Bokeh: BokehJS not loaded, scheduling load and callback at\", now());\n",
       "      window._bokeh_is_loading = js_urls.length;\n",
       "      for (var i = 0; i < js_urls.length; i++) {\n",
       "        var url = js_urls[i];\n",
       "        var s = document.createElement('script');\n",
       "        s.src = url;\n",
       "        s.async = false;\n",
       "        s.onreadystatechange = s.onload = function() {\n",
       "          window._bokeh_is_loading--;\n",
       "          if (window._bokeh_is_loading === 0) {\n",
       "            console.log(\"Bokeh: all BokehJS libraries loaded\");\n",
       "            run_callbacks()\n",
       "          }\n",
       "        };\n",
       "        s.onerror = function() {\n",
       "          console.warn(\"failed to load library \" + url);\n",
       "        };\n",
       "        console.log(\"Bokeh: injecting script tag for BokehJS library: \", url);\n",
       "        document.getElementsByTagName(\"head\")[0].appendChild(s);\n",
       "      }\n",
       "    };var element = document.getElementById(\"c9f66905-d424-4cf8-a246-cae3ce299c96\");\n",
       "    if (element == null) {\n",
       "      console.log(\"Bokeh: ERROR: autoload.js configured with elementid 'c9f66905-d424-4cf8-a246-cae3ce299c96' but no matching script tag was found. \")\n",
       "      return false;\n",
       "    }\n",
       "  \n",
       "    var js_urls = [];\n",
       "  \n",
       "    var inline_js = [\n",
       "      function(Bokeh) {\n",
       "        Bokeh.$(function() {\n",
       "            var docs_json = {\"87dbeb16-22bd-4bca-ae5f-1df2b56c75d0\":{\"roots\":{\"references\":[{\"attributes\":{},\"id\":\"6c328be0-c9eb-4ca2-9556-ae2938b8e918\",\"type\":\"BasicTicker\"},{\"attributes\":{\"plot\":null,\"text\":null},\"id\":\"1fe8794a-524f-44d1-9de9-6bb895678773\",\"type\":\"Title\"},{\"attributes\":{\"overlay\":{\"id\":\"a2d755ff-3c41-4f8d-abc1-e30ff3fa2163\",\"type\":\"BoxAnnotation\"},\"plot\":{\"id\":\"a1b6063f-7aca-4920-b658-84cfd0480a4f\",\"subtype\":\"Figure\",\"type\":\"Plot\"}},\"id\":\"095cc3ef-c1e1-42ff-bb53-2dc437cf659e\",\"type\":\"BoxZoomTool\"},{\"attributes\":{\"callback\":null,\"column_names\":[\"right\",\"bottom\",\"top\",\"left\",\"fill_color\"],\"data\":{\"bottom\":[50,50,50],\"fill_color\":[\"#61c4c4\",\"#c4c461\",\"#61c461\"],\"left\":[135839805,136393658,136682274],\"right\":[135924467,136486342,136775898],\"top\":[90,94,97]}},\"id\":\"3da82eff-53f2-421c-88fb-21e2f69034f2\",\"type\":\"ColumnDataSource\"},{\"attributes\":{},\"id\":\"6a40d12b-1f59-444f-b64f-d81465cd06ac\",\"type\":\"BasicTickFormatter\"},{\"attributes\":{\"data_source\":{\"id\":\"3da82eff-53f2-421c-88fb-21e2f69034f2\",\"type\":\"ColumnDataSource\"},\"glyph\":{\"id\":\"3cb0c4bb-68aa-4010-96be-03ca7c389fad\",\"type\":\"Quad\"},\"hover_glyph\":null,\"nonselection_glyph\":{\"id\":\"9bb710ee-1005-479b-b8ce-465bdb3ec07b\",\"type\":\"Quad\"},\"selection_glyph\":null},\"id\":\"5ccf5dc9-a6ec-42fc-b18e-748b44fe8a91\",\"type\":\"GlyphRenderer\"},{\"attributes\":{},\"id\":\"16adc343-28ef-4650-890c-402b5d6c5fa3\",\"type\":\"BasicTickFormatter\"},{\"attributes\":{\"below\":[{\"id\":\"43fbebd8-5439-4cd3-9430-221d5cba0406\",\"type\":\"LinearAxis\"}],\"left\":[{\"id\":\"65e7fbd8-4b55-45bf-a3e3-d95b64102024\",\"type\":\"LinearAxis\"}],\"plot_height\":200,\"plot_width\":900,\"renderers\":[{\"id\":\"43fbebd8-5439-4cd3-9430-221d5cba0406\",\"type\":\"LinearAxis\"},{\"id\":\"3efe5c3f-c2f8-4072-bc56-b999e277e89a\",\"type\":\"Grid\"},{\"id\":\"65e7fbd8-4b55-45bf-a3e3-d95b64102024\",\"type\":\"LinearAxis\"},{\"id\":\"9dbbee6e-08f2-4523-9986-e9a4a278231c\",\"type\":\"Grid\"},{\"id\":\"a2d755ff-3c41-4f8d-abc1-e30ff3fa2163\",\"type\":\"BoxAnnotation\"},{\"id\":\"5ccf5dc9-a6ec-42fc-b18e-748b44fe8a91\",\"type\":\"GlyphRenderer\"},{\"id\":\"97a1d2c4-4e69-4fbe-9cea-6040f3600d7e\",\"type\":\"GlyphRenderer\"},{\"id\":\"72ec5749-b8b0-4244-97bd-0decce954157\",\"type\":\"LabelSet\"},{\"id\":\"fbae94f4-1416-4ca9-9e31-f8ea4f428119\",\"type\":\"GlyphRenderer\"},{\"id\":\"ccc730b6-6b75-443b-8c6a-e31a08c35168\",\"type\":\"LabelSet\"}],\"title\":{\"id\":\"1fe8794a-524f-44d1-9de9-6bb895678773\",\"type\":\"Title\"},\"tool_events\":{\"id\":\"08e66a53-d2e0-4b2f-a69d-8af99ae45502\",\"type\":\"ToolEvents\"},\"toolbar\":{\"id\":\"047040b0-f6b8-41bc-8d82-313596446275\",\"type\":\"Toolbar\"},\"toolbar_location\":null,\"x_range\":{\"id\":\"91728ff0-89c6-4900-8991-07b1444996a3\",\"type\":\"Range1d\"},\"y_range\":{\"id\":\"b76b4fcb-3e48-4d26-868e-7dcf127b6325\",\"type\":\"Range1d\"}},\"id\":\"a1b6063f-7aca-4920-b658-84cfd0480a4f\",\"subtype\":\"Figure\",\"type\":\"Plot\"},{\"attributes\":{\"bottom_units\":\"screen\",\"fill_alpha\":{\"value\":0.5},\"fill_color\":{\"value\":\"lightgrey\"},\"left_units\":\"screen\",\"level\":\"overlay\",\"line_alpha\":{\"value\":1.0},\"line_color\":{\"value\":\"black\"},\"line_dash\":[4,4],\"line_width\":{\"value\":2},\"plot\":null,\"render_mode\":\"css\",\"right_units\":\"screen\",\"top_units\":\"screen\"},\"id\":\"a2d755ff-3c41-4f8d-abc1-e30ff3fa2163\",\"type\":\"BoxAnnotation\"},{\"attributes\":{\"plot\":{\"id\":\"a1b6063f-7aca-4920-b658-84cfd0480a4f\",\"subtype\":\"Figure\",\"type\":\"Plot\"}},\"id\":\"d1ae7741-14d3-46f6-9561-956241b36d86\",\"type\":\"HelpTool\"},{\"attributes\":{\"level\":\"glyph\",\"plot\":{\"id\":\"a1b6063f-7aca-4920-b658-84cfd0480a4f\",\"subtype\":\"Figure\",\"type\":\"Plot\"},\"source\":{\"id\":\"e97f1822-edc8-44f7-b7e8-584822eb9d92\",\"type\":\"ColumnDataSource\"},\"text\":{\"field\":\"vals\"},\"text_font_size\":{\"value\":\"9pt\"},\"text_font_style\":\"bold\",\"x\":{\"field\":\"x\"},\"y\":{\"field\":\"y\"}},\"id\":\"72ec5749-b8b0-4244-97bd-0decce954157\",\"type\":\"LabelSet\"},{\"attributes\":{\"callback\":null,\"end\":200},\"id\":\"b76b4fcb-3e48-4d26-868e-7dcf127b6325\",\"type\":\"Range1d\"},{\"attributes\":{},\"id\":\"cd6694df-db4a-4fbf-a5ad-0a672f4ffc5d\",\"type\":\"BasicTicker\"},{\"attributes\":{\"level\":\"glyph\",\"plot\":{\"id\":\"a1b6063f-7aca-4920-b658-84cfd0480a4f\",\"subtype\":\"Figure\",\"type\":\"Plot\"},\"source\":{\"id\":\"f0a8f588-04ee-4d1c-b28c-c8232f06b09f\",\"type\":\"ColumnDataSource\"},\"text\":{\"field\":\"vals\"},\"text_align\":\"center\",\"text_baseline\":\"middle\",\"text_font_size\":{\"value\":\"8pt\"},\"x\":{\"field\":\"x\"},\"y\":{\"field\":\"y\"}},\"id\":\"ccc730b6-6b75-443b-8c6a-e31a08c35168\",\"type\":\"LabelSet\"},{\"attributes\":{\"line_alpha\":{\"value\":0.1},\"line_color\":{\"value\":\"#1f77b4\"},\"xs\":{\"field\":\"xs\"},\"ys\":{\"field\":\"ys\"}},\"id\":\"d3be72f5-14e0-43b0-822f-2185a88049f4\",\"type\":\"MultiLine\"},{\"attributes\":{\"plot\":{\"id\":\"a1b6063f-7aca-4920-b658-84cfd0480a4f\",\"subtype\":\"Figure\",\"type\":\"Plot\"}},\"id\":\"4de27fc7-39bf-4d96-ab42-5bebaac03b97\",\"type\":\"SaveTool\"},{\"attributes\":{\"callback\":null,\"column_names\":[\"right\",\"bottom\",\"top\",\"left\"],\"data\":{\"bottom\":[145,145,145,145,145,145,145],\"left\":[135809835,135957574,136289083,136499189,136545415,136597196,136664254],\"right\":[135928279,136288182,136482839,136542633,136594750,136634047,136743222],\"top\":[175,175,175,175,175,175,175]}},\"id\":\"65ea321b-e14f-47f8-93ad-c60d6b4c7c00\",\"type\":\"ColumnDataSource\"},{\"attributes\":{\"callback\":null,\"column_names\":[\"y\",\"x\",\"vals\"],\"data\":{\"vals\":[\"4_815\",\"32_1361\",\"7_1868\"],\"x\":[135839805,136393658,136682274],\"y\":[95.0,99.0,102.0]}},\"id\":\"e97f1822-edc8-44f7-b7e8-584822eb9d92\",\"type\":\"ColumnDataSource\"},{\"attributes\":{\"callback\":null,\"end\":136786630,\"start\":135757320},\"id\":\"91728ff0-89c6-4900-8991-07b1444996a3\",\"type\":\"Range1d\"},{\"attributes\":{\"plot\":{\"id\":\"a1b6063f-7aca-4920-b658-84cfd0480a4f\",\"subtype\":\"Figure\",\"type\":\"Plot\"}},\"id\":\"ac2d79ba-af0c-4102-bad6-ea26fb7bad11\",\"type\":\"ResetTool\"},{\"attributes\":{\"callback\":null,\"column_names\":[\"y\",\"x\",\"vals\"],\"data\":{\"vals\":[\"RAB3GAP1\",\"ZRANB3\",\"R3HDM1\",\"UBXN4\",\"LCT\",\"MCM6\",\"DARS\"],\"x\":[135869057.0,136122878.0,136385961.0,136520911.0,136570082.5,136615621.5,136703738.0],\"y\":[160.0,160.0,160.0,160.0,160.0,160.0,160.0]}},\"id\":\"f0a8f588-04ee-4d1c-b28c-c8232f06b09f\",\"type\":\"ColumnDataSource\"},{\"attributes\":{\"bottom\":{\"field\":\"bottom\"},\"fill_alpha\":{\"value\":0.1},\"fill_color\":{\"value\":\"#1f77b4\"},\"left\":{\"field\":\"left\"},\"line_alpha\":{\"value\":0.1},\"line_color\":{\"value\":\"#1f77b4\"},\"right\":{\"field\":\"right\"},\"top\":{\"field\":\"top\"}},\"id\":\"9bb710ee-1005-479b-b8ce-465bdb3ec07b\",\"type\":\"Quad\"},{\"attributes\":{\"dimension\":1,\"plot\":{\"id\":\"a1b6063f-7aca-4920-b658-84cfd0480a4f\",\"subtype\":\"Figure\",\"type\":\"Plot\"},\"ticker\":{\"id\":\"cd6694df-db4a-4fbf-a5ad-0a672f4ffc5d\",\"type\":\"BasicTicker\"}},\"id\":\"9dbbee6e-08f2-4523-9986-e9a4a278231c\",\"type\":\"Grid\"},{\"attributes\":{\"line_color\":{\"field\":\"line_color\"},\"xs\":{\"field\":\"xs\"},\"ys\":{\"field\":\"ys\"}},\"id\":\"d4471c50-a7e6-4ca3-b1e2-28f014c92f09\",\"type\":\"MultiLine\"},{\"attributes\":{\"plot\":{\"id\":\"a1b6063f-7aca-4920-b658-84cfd0480a4f\",\"subtype\":\"Figure\",\"type\":\"Plot\"}},\"id\":\"0392b2d6-b224-4025-9fc9-6c861cb530a2\",\"type\":\"WheelZoomTool\"},{\"attributes\":{\"data_source\":{\"id\":\"65ea321b-e14f-47f8-93ad-c60d6b4c7c00\",\"type\":\"ColumnDataSource\"},\"glyph\":{\"id\":\"518f8063-8a60-4f66-84a0-930f3e501030\",\"type\":\"Quad\"},\"hover_glyph\":null,\"nonselection_glyph\":{\"id\":\"8767d36d-2b0f-41c4-9b82-aab2f1b39e0b\",\"type\":\"Quad\"},\"selection_glyph\":null},\"id\":\"fbae94f4-1416-4ca9-9e31-f8ea4f428119\",\"type\":\"GlyphRenderer\"},{\"attributes\":{\"bottom\":{\"field\":\"bottom\"},\"fill_color\":{\"field\":\"fill_color\"},\"left\":{\"field\":\"left\"},\"line_color\":{\"value\":null},\"right\":{\"field\":\"right\"},\"top\":{\"field\":\"top\"}},\"id\":\"3cb0c4bb-68aa-4010-96be-03ca7c389fad\",\"type\":\"Quad\"},{\"attributes\":{\"formatter\":{\"id\":\"16adc343-28ef-4650-890c-402b5d6c5fa3\",\"type\":\"BasicTickFormatter\"},\"plot\":{\"id\":\"a1b6063f-7aca-4920-b658-84cfd0480a4f\",\"subtype\":\"Figure\",\"type\":\"Plot\"},\"ticker\":{\"id\":\"cd6694df-db4a-4fbf-a5ad-0a672f4ffc5d\",\"type\":\"BasicTicker\"},\"visible\":null},\"id\":\"65e7fbd8-4b55-45bf-a3e3-d95b64102024\",\"type\":\"LinearAxis\"},{\"attributes\":{\"bottom\":{\"field\":\"bottom\"},\"fill_alpha\":{\"value\":0.1},\"fill_color\":{\"value\":\"#1f77b4\"},\"left\":{\"field\":\"left\"},\"line_alpha\":{\"value\":0.1},\"line_color\":{\"value\":\"#1f77b4\"},\"right\":{\"field\":\"right\"},\"top\":{\"field\":\"top\"}},\"id\":\"8767d36d-2b0f-41c4-9b82-aab2f1b39e0b\",\"type\":\"Quad\"},{\"attributes\":{\"plot\":{\"id\":\"a1b6063f-7aca-4920-b658-84cfd0480a4f\",\"subtype\":\"Figure\",\"type\":\"Plot\"}},\"id\":\"1f4e5aae-4c4c-4562-a932-234e16229d3c\",\"type\":\"PanTool\"},{\"attributes\":{\"active_drag\":\"auto\",\"active_scroll\":\"auto\",\"active_tap\":\"auto\",\"tools\":[{\"id\":\"1f4e5aae-4c4c-4562-a932-234e16229d3c\",\"type\":\"PanTool\"},{\"id\":\"0392b2d6-b224-4025-9fc9-6c861cb530a2\",\"type\":\"WheelZoomTool\"},{\"id\":\"095cc3ef-c1e1-42ff-bb53-2dc437cf659e\",\"type\":\"BoxZoomTool\"},{\"id\":\"4de27fc7-39bf-4d96-ab42-5bebaac03b97\",\"type\":\"SaveTool\"},{\"id\":\"ac2d79ba-af0c-4102-bad6-ea26fb7bad11\",\"type\":\"ResetTool\"},{\"id\":\"d1ae7741-14d3-46f6-9561-956241b36d86\",\"type\":\"HelpTool\"}]},\"id\":\"047040b0-f6b8-41bc-8d82-313596446275\",\"type\":\"Toolbar\"},{\"attributes\":{\"plot\":{\"id\":\"a1b6063f-7aca-4920-b658-84cfd0480a4f\",\"subtype\":\"Figure\",\"type\":\"Plot\"},\"ticker\":{\"id\":\"6c328be0-c9eb-4ca2-9556-ae2938b8e918\",\"type\":\"BasicTicker\"}},\"id\":\"3efe5c3f-c2f8-4072-bc56-b999e277e89a\",\"type\":\"Grid\"},{\"attributes\":{\"data_source\":{\"id\":\"418a0934-c4af-4467-8260-74f83ef621bf\",\"type\":\"ColumnDataSource\"},\"glyph\":{\"id\":\"d4471c50-a7e6-4ca3-b1e2-28f014c92f09\",\"type\":\"MultiLine\"},\"hover_glyph\":null,\"nonselection_glyph\":{\"id\":\"d3be72f5-14e0-43b0-822f-2185a88049f4\",\"type\":\"MultiLine\"},\"selection_glyph\":null},\"id\":\"97a1d2c4-4e69-4fbe-9cea-6040f3600d7e\",\"type\":\"GlyphRenderer\"},{\"attributes\":{\"bottom\":{\"field\":\"bottom\"},\"fill_color\":{\"value\":\"white\"},\"left\":{\"field\":\"left\"},\"right\":{\"field\":\"right\"},\"top\":{\"field\":\"top\"}},\"id\":\"518f8063-8a60-4f66-84a0-930f3e501030\",\"type\":\"Quad\"},{\"attributes\":{},\"id\":\"08e66a53-d2e0-4b2f-a69d-8af99ae45502\",\"type\":\"ToolEvents\"},{\"attributes\":{\"formatter\":{\"id\":\"6a40d12b-1f59-444f-b64f-d81465cd06ac\",\"type\":\"BasicTickFormatter\"},\"plot\":{\"id\":\"a1b6063f-7aca-4920-b658-84cfd0480a4f\",\"subtype\":\"Figure\",\"type\":\"Plot\"},\"ticker\":{\"id\":\"6c328be0-c9eb-4ca2-9556-ae2938b8e918\",\"type\":\"BasicTicker\"}},\"id\":\"43fbebd8-5439-4cd3-9430-221d5cba0406\",\"type\":\"LinearAxis\"},{\"attributes\":{\"callback\":null,\"column_names\":[\"xs\",\"ys\",\"line_color\"],\"data\":{\"line_color\":[\"black\",\"black\",\"black\",\"black\",\"black\",\"black\",\"black\",\"black\",\"black\",\"black\",\"black\",\"black\",\"black\",\"black\",\"black\",\"black\",\"black\",\"black\",\"black\",\"black\",\"black\",\"black\",\"black\",\"black\",\"black\",\"black\",\"black\",\"black\",\"black\",\"black\",\"black\",\"black\",\"black\",\"black\",\"black\",\"black\",\"black\",\"black\",\"black\",\"black\",\"black\",\"black\",\"black\"],\"xs\":[[135839805,135839805],[135866750,135866750],[135886744,135886744],[135924467,135924467],[136393658,136393658],[136396300,136396300],[136401843,136401843],[136407445,136407445],[136411879,136411879],[136412270,136412270],[136413244,136413244],[136413847,136413847],[136415217,136415217],[136416533,136416533],[136420726,136420726],[136429857,136429857],[136433740,136433740],[136436317,136436317],[136437615,136437615],[136438517,136438517],[136440300,136440300],[136443900,136443900],[136444185,136444185],[136444338,136444338],[136449254,136449254],[136451676,136451676],[136459227,136459227],[136463117,136463117],[136463454,136463454],[136467119,136467119],[136468238,136468238],[136470219,136470219],[136483355,136483355],[136485276,136485276],[136486340,136486340],[136486342,136486342],[136682274,136682274],[136691825,136691825],[136698098,136698098],[136721603,136721603],[136721995,136721995],[136755684,136755684],[136775898,136775898]],\"ys\":[[50,90],[50,90],[50,90],[50,90],[50,94],[50,94],[50,94],[50,94],[50,94],[50,94],[50,94],[50,94],[50,94],[50,94],[50,94],[50,94],[50,94],[50,94],[50,94],[50,94],[50,94],[50,94],[50,94],[50,94],[50,94],[50,94],[50,94],[50,94],[50,94],[50,94],[50,94],[50,94],[50,94],[50,94],[50,94],[50,94],[50,97],[50,97],[50,97],[50,97],[50,97],[50,97],[50,97]]}},\"id\":\"418a0934-c4af-4467-8260-74f83ef621bf\",\"type\":\"ColumnDataSource\"}],\"root_ids\":[\"a1b6063f-7aca-4920-b658-84cfd0480a4f\"]},\"title\":\"Bokeh Application\",\"version\":\"0.12.0\"}};\n",
       "            var render_items = [{\"docid\":\"87dbeb16-22bd-4bca-ae5f-1df2b56c75d0\",\"elementid\":\"c9f66905-d424-4cf8-a246-cae3ce299c96\",\"modelid\":\"a1b6063f-7aca-4920-b658-84cfd0480a4f\",\"notebook_comms_target\":\"41e10a70-88ca-4518-a022-aa1651f51a66\"}];\n",
       "            \n",
       "            Bokeh.embed.embed_items(docs_json, render_items);\n",
       "        });\n",
       "      },\n",
       "      function(Bokeh) {\n",
       "      }\n",
       "    ];\n",
       "  \n",
       "    function run_inline_js() {\n",
       "      for (var i = 0; i < inline_js.length; i++) {\n",
       "        inline_js[i](window.Bokeh);\n",
       "      }\n",
       "    }\n",
       "  \n",
       "    if (window._bokeh_is_loading === 0) {\n",
       "      console.log(\"Bokeh: BokehJS loaded, going straight to plotting\");\n",
       "      run_inline_js();\n",
       "    } else {\n",
       "      load_libs(js_urls, function() {\n",
       "        console.log(\"Bokeh: BokehJS plotting callback run at\", now());\n",
       "        run_inline_js();\n",
       "      });\n",
       "    }\n",
       "  }(this));\n",
       "</script>"
      ]
     },
     "metadata": {},
     "output_type": "display_data"
    },
    {
     "data": {
      "text/html": [
       "<p><code>&lt;Bokeh Notebook handle for <strong>In[21]</strong>&gt;</code></p>"
      ],
      "text/plain": [
       "<bokeh.io._CommsHandle at 0x7f148b21a3d0>"
      ]
     },
     "execution_count": 21,
     "metadata": {},
     "output_type": "execute_result"
    }
   ],
   "source": [
    "plt_obj = dm.superset_allele_mask(am_29, [dm.di_4_815, dm.di_32_1361], [dm.di_81_857, dm.di_5_684], min_match=0.5)\n",
    "plt = plt_obj.do_plot()\n",
    "show(plt)"
   ]
  },
  {
   "cell_type": "code",
   "execution_count": 22,
   "metadata": {
    "collapsed": false
   },
   "outputs": [
    {
     "data": {
      "text/html": [
       "<table>\n",
       "<thead><tr><th style=\"text-align:center\">index</th><th style=\"text-align:center\">first</th><th style=\"text-align:center\">length</th><th style=\"text-align:center\">snps</th><th style=\"text-align:center\" colspan=2>alleles</th><th style=\"text-align:center\" colspan=2>matches</th><th style=\"text-align:center\" colspan=2>afr</th><th style=\"text-align:center\" colspan=2>afx</th><th style=\"text-align:center\" colspan=2>amr</th><th style=\"text-align:center\" colspan=2>eas</th><th style=\"text-align:center\" colspan=2>eur</th><th style=\"text-align:center\" colspan=2>sas</th><th style=\"text-align:center\" colspan=2>sax</th></tr></thead>\n",
       "<tr class=\"even\"><td style=\"text-align: right;\">354170</td><td style=\"text-align: right;\">136,682,274</td><td style=\"text-align: right;\">93,624</td><td style=\"text-align: right;\">7</td><td style=\"text-align: right;\">1868</td><td style=\"text-align: right;\">0.00</td><td style=\"text-align: right;\">1</td><td style=\"text-align: right;\">1.00</td><td style=\"text-align: right;\">0</td><td style=\"text-align: right;\">0.00</td><td style=\"text-align: right;\">0</td><td style=\"text-align: right;\">0.00</td><td style=\"text-align: right;\">0</td><td style=\"text-align: right;\">0.00</td><td style=\"text-align: right;\">0</td><td style=\"text-align: right;\">0.00</td><td style=\"text-align: right;\">1</td><td style=\"text-align: right;\">4.98</td><td style=\"text-align: right;\">0</td><td style=\"text-align: right;\">0.00</td><td style=\"text-align: right;\">0</td><td style=\"text-align: right;\">0.00</td></tr>\n",
       "<tr><td style=\"text-align: right;\">353791</td><td style=\"text-align: right;\">136,393,658</td><td style=\"text-align: right;\">92,684</td><td style=\"text-align: right;\">32</td><td style=\"text-align: right;\">1361</td><td style=\"text-align: right;\">0.00</td><td style=\"text-align: right;\">1</td><td style=\"text-align: right;\">1.00</td><td style=\"text-align: right;\">0</td><td style=\"text-align: right;\">0.00</td><td style=\"text-align: right;\">0</td><td style=\"text-align: right;\">0.00</td><td style=\"text-align: right;\">0</td><td style=\"text-align: right;\">0.00</td><td style=\"text-align: right;\">0</td><td style=\"text-align: right;\">0.00</td><td style=\"text-align: right;\">1</td><td style=\"text-align: right;\">4.98</td><td style=\"text-align: right;\">0</td><td style=\"text-align: right;\">0.00</td><td style=\"text-align: right;\">0</td><td style=\"text-align: right;\">0.00</td></tr>\n",
       "<tr class=\"even\"><td style=\"text-align: right;\">353384</td><td style=\"text-align: right;\">135,839,805</td><td style=\"text-align: right;\">84,662</td><td style=\"text-align: right;\">4</td><td style=\"text-align: right;\">815</td><td style=\"text-align: right;\">0.00</td><td style=\"text-align: right;\">1</td><td style=\"text-align: right;\">1.00</td><td style=\"text-align: right;\">0</td><td style=\"text-align: right;\">0.00</td><td style=\"text-align: right;\">0</td><td style=\"text-align: right;\">0.00</td><td style=\"text-align: right;\">0</td><td style=\"text-align: right;\">0.00</td><td style=\"text-align: right;\">0</td><td style=\"text-align: right;\">0.00</td><td style=\"text-align: right;\">1</td><td style=\"text-align: right;\">4.98</td><td style=\"text-align: right;\">0</td><td style=\"text-align: right;\">0.00</td><td style=\"text-align: right;\">0</td><td style=\"text-align: right;\">0.00</td></tr>\n",
       "</table>"
      ],
      "text/plain": [
       "<IPython.core.display.HTML object>"
      ]
     },
     "execution_count": 22,
     "metadata": {},
     "output_type": "execute_result"
    }
   ],
   "source": [
    "HTML(plt_obj.get_html())"
   ]
  },
  {
   "cell_type": "code",
   "execution_count": 23,
   "metadata": {
    "collapsed": false
   },
   "outputs": [
    {
     "data": {
      "text/html": [
       "\n",
       "\n",
       "    <div class=\"bk-root\">\n",
       "        <div class=\"plotdiv\" id=\"d39e159b-df5a-4c42-bd6d-60352198a492\"></div>\n",
       "    </div>\n",
       "<script type=\"text/javascript\">\n",
       "  \n",
       "  (function(global) {\n",
       "    function now() {\n",
       "      return new Date();\n",
       "    }\n",
       "  \n",
       "    if (typeof (window._bokeh_onload_callbacks) === \"undefined\") {\n",
       "      window._bokeh_onload_callbacks = [];\n",
       "    }\n",
       "  \n",
       "    function run_callbacks() {\n",
       "      window._bokeh_onload_callbacks.forEach(function(callback) { callback() });\n",
       "      delete window._bokeh_onload_callbacks\n",
       "      console.info(\"Bokeh: all callbacks have finished\");\n",
       "    }\n",
       "  \n",
       "    function load_libs(js_urls, callback) {\n",
       "      window._bokeh_onload_callbacks.push(callback);\n",
       "      if (window._bokeh_is_loading > 0) {\n",
       "        console.log(\"Bokeh: BokehJS is being loaded, scheduling callback at\", now());\n",
       "        return null;\n",
       "      }\n",
       "      if (js_urls == null || js_urls.length === 0) {\n",
       "        run_callbacks();\n",
       "        return null;\n",
       "      }\n",
       "      console.log(\"Bokeh: BokehJS not loaded, scheduling load and callback at\", now());\n",
       "      window._bokeh_is_loading = js_urls.length;\n",
       "      for (var i = 0; i < js_urls.length; i++) {\n",
       "        var url = js_urls[i];\n",
       "        var s = document.createElement('script');\n",
       "        s.src = url;\n",
       "        s.async = false;\n",
       "        s.onreadystatechange = s.onload = function() {\n",
       "          window._bokeh_is_loading--;\n",
       "          if (window._bokeh_is_loading === 0) {\n",
       "            console.log(\"Bokeh: all BokehJS libraries loaded\");\n",
       "            run_callbacks()\n",
       "          }\n",
       "        };\n",
       "        s.onerror = function() {\n",
       "          console.warn(\"failed to load library \" + url);\n",
       "        };\n",
       "        console.log(\"Bokeh: injecting script tag for BokehJS library: \", url);\n",
       "        document.getElementsByTagName(\"head\")[0].appendChild(s);\n",
       "      }\n",
       "    };var element = document.getElementById(\"d39e159b-df5a-4c42-bd6d-60352198a492\");\n",
       "    if (element == null) {\n",
       "      console.log(\"Bokeh: ERROR: autoload.js configured with elementid 'd39e159b-df5a-4c42-bd6d-60352198a492' but no matching script tag was found. \")\n",
       "      return false;\n",
       "    }\n",
       "  \n",
       "    var js_urls = [];\n",
       "  \n",
       "    var inline_js = [\n",
       "      function(Bokeh) {\n",
       "        Bokeh.$(function() {\n",
       "            var docs_json = {\"d5a02615-2238-4313-80af-d3af8edd3e34\":{\"roots\":{\"references\":[{\"attributes\":{\"plot\":{\"id\":\"1d1c7a80-071b-40ef-a928-e94eac819eeb\",\"subtype\":\"Figure\",\"type\":\"Plot\"}},\"id\":\"cdf87a6f-5dc4-4cff-a458-fbf9400d08c5\",\"type\":\"PanTool\"},{\"attributes\":{\"plot\":{\"id\":\"1d1c7a80-071b-40ef-a928-e94eac819eeb\",\"subtype\":\"Figure\",\"type\":\"Plot\"}},\"id\":\"3a681406-4303-483a-acbf-115bde2c6388\",\"type\":\"WheelZoomTool\"},{\"attributes\":{\"formatter\":{\"id\":\"84928a97-e735-4491-86ba-d27dfbcc0ccc\",\"type\":\"BasicTickFormatter\"},\"plot\":{\"id\":\"1d1c7a80-071b-40ef-a928-e94eac819eeb\",\"subtype\":\"Figure\",\"type\":\"Plot\"},\"ticker\":{\"id\":\"eb5caf2f-7d12-47f3-a2c7-8776266cf37b\",\"type\":\"BasicTicker\"},\"visible\":null},\"id\":\"7358f64b-aa7d-463a-b2ee-23dc711d9104\",\"type\":\"LinearAxis\"},{\"attributes\":{\"callback\":null,\"column_names\":[\"y\",\"x\",\"vals\"],\"data\":{\"vals\":[\"117_1685\",\"4_815\",\"123_1561\",\"28_434\",\"9_887\",\"5_588\",\"10_1218\",\"5_1460\",\"4_612\",\"9_1170\",\"18_148\",\"5_976\",\"6_127\",\"7_1760\",\"8_328\",\"4_163\",\"7_1868\"],\"x\":[135758231,135839805,135933921,136115507,136309239,136364916,136393157,136406646,136448855,136496493,136496875,136511874,136562716,136588031,136605402,136651964,136682274],\"y\":[701.0,395.0,600.0,189.0,395.0,292.0,498.0,600.0,392.0,498.0,80.0,396.0,78.0,701.0,187.0,81.0,702.0]}},\"id\":\"6f712349-6cfe-475c-bc4f-ab0b08b16302\",\"type\":\"ColumnDataSource\"},{\"attributes\":{\"callback\":null,\"end\":800},\"id\":\"830a50f2-367d-41f9-a021-6822866a170b\",\"type\":\"Range1d\"},{\"attributes\":{\"bottom_units\":\"screen\",\"fill_alpha\":{\"value\":0.5},\"fill_color\":{\"value\":\"lightgrey\"},\"left_units\":\"screen\",\"level\":\"overlay\",\"line_alpha\":{\"value\":1.0},\"line_color\":{\"value\":\"black\"},\"line_dash\":[4,4],\"line_width\":{\"value\":2},\"plot\":null,\"render_mode\":\"css\",\"right_units\":\"screen\",\"top_units\":\"screen\"},\"id\":\"8fb9f703-51c7-47b1-8e4f-fb0c99135ebd\",\"type\":\"BoxAnnotation\"},{\"attributes\":{\"level\":\"glyph\",\"plot\":{\"id\":\"1d1c7a80-071b-40ef-a928-e94eac819eeb\",\"subtype\":\"Figure\",\"type\":\"Plot\"},\"source\":{\"id\":\"ca885abf-bba2-4919-b5c8-ccc0c7d33250\",\"type\":\"ColumnDataSource\"},\"text\":{\"field\":\"vals\"},\"text_align\":\"center\",\"text_baseline\":\"middle\",\"text_font_size\":{\"value\":\"8pt\"},\"x\":{\"field\":\"x\"},\"y\":{\"field\":\"y\"}},\"id\":\"f1bac12e-ad53-43ce-a212-37b77cc11104\",\"type\":\"LabelSet\"},{\"attributes\":{\"callback\":null,\"column_names\":[\"xs\",\"ys\",\"line_color\"],\"data\":{\"line_color\":[\"black\",\"black\",\"black\",\"black\",\"black\",\"black\",\"black\",\"black\",\"black\",\"black\",\"black\",\"black\",\"black\",\"black\",\"black\",\"black\",\"black\",\"black\",\"black\",\"black\",\"black\",\"black\",\"black\",\"black\",\"black\",\"black\",\"black\",\"black\",\"black\",\"black\",\"black\",\"black\",\"black\",\"black\",\"black\",\"black\",\"black\",\"black\",\"black\",\"black\",\"black\",\"black\",\"black\",\"black\",\"black\",\"black\",\"black\",\"black\",\"black\",\"black\",\"black\",\"black\",\"black\",\"black\",\"black\",\"black\",\"black\",\"black\",\"black\",\"black\",\"black\",\"black\",\"black\",\"black\",\"black\",\"black\",\"black\",\"black\",\"black\",\"black\",\"black\",\"black\",\"black\",\"black\",\"black\",\"black\",\"black\",\"black\",\"black\",\"black\",\"black\",\"black\",\"black\",\"black\",\"black\",\"black\",\"black\",\"black\",\"black\",\"black\",\"black\",\"black\",\"black\",\"black\",\"black\",\"black\",\"black\",\"black\",\"black\",\"black\",\"black\",\"black\",\"black\",\"black\",\"black\",\"black\",\"black\",\"black\",\"black\",\"black\",\"black\",\"black\",\"black\",\"black\",\"black\",\"black\",\"black\",\"black\",\"black\",\"black\",\"black\",\"black\",\"black\",\"black\",\"black\",\"black\",\"black\",\"black\",\"black\",\"black\",\"black\",\"black\",\"black\",\"black\",\"black\",\"black\",\"black\",\"black\",\"black\",\"black\",\"black\",\"black\",\"black\",\"black\",\"black\",\"black\",\"black\",\"black\",\"black\",\"black\",\"black\",\"black\",\"black\",\"black\",\"black\",\"black\",\"black\",\"black\",\"black\",\"black\",\"black\",\"black\",\"black\",\"black\",\"black\",\"black\",\"black\",\"black\",\"black\",\"black\",\"black\",\"black\",\"black\",\"black\",\"black\",\"black\",\"black\",\"black\",\"black\",\"black\",\"black\",\"black\",\"black\",\"black\",\"black\",\"black\",\"black\",\"black\",\"black\",\"black\",\"black\",\"black\",\"black\",\"black\",\"black\",\"black\",\"black\",\"black\",\"black\",\"black\",\"black\",\"black\",\"black\",\"black\",\"black\",\"black\",\"black\",\"black\",\"black\",\"black\",\"black\",\"black\",\"black\",\"black\",\"black\",\"black\",\"black\",\"black\",\"black\",\"black\",\"black\",\"black\",\"black\",\"black\",\"black\",\"black\",\"black\",\"black\",\"black\",\"black\",\"black\",\"black\",\"black\",\"black\",\"black\",\"black\",\"black\",\"black\",\"black\",\"black\",\"black\",\"black\",\"black\",\"black\",\"black\",\"black\",\"black\",\"black\",\"black\",\"black\",\"black\",\"black\",\"black\",\"black\",\"black\",\"black\",\"black\",\"black\",\"black\",\"black\",\"black\",\"black\",\"black\",\"black\",\"black\",\"black\",\"black\",\"black\",\"black\",\"black\",\"black\",\"black\",\"black\",\"black\",\"black\",\"black\",\"black\",\"black\",\"black\",\"black\",\"black\",\"black\",\"black\",\"black\",\"black\",\"black\",\"black\",\"black\",\"black\",\"black\",\"black\",\"black\",\"black\",\"black\",\"black\",\"black\",\"black\",\"black\",\"black\",\"black\",\"black\",\"black\",\"black\",\"black\",\"black\",\"black\",\"black\",\"black\",\"black\",\"black\",\"black\",\"black\",\"black\",\"black\",\"black\",\"black\",\"black\",\"black\",\"black\",\"black\",\"black\",\"black\",\"black\",\"black\",\"black\",\"black\",\"black\",\"black\",\"black\",\"black\",\"black\",\"black\",\"black\",\"black\",\"black\",\"black\",\"black\",\"black\",\"black\",\"black\",\"black\",\"black\",\"black\",\"black\",\"black\",\"black\",\"black\",\"black\",\"black\",\"black\",\"black\",\"black\",\"black\",\"black\",\"black\",\"black\",\"black\",\"black\",\"black\",\"black\",\"black\",\"black\",\"black\",\"black\",\"black\",\"black\",\"black\",\"black\",\"black\"],\"xs\":[[135758231,135758231],[135758520,135758520],[135766072,135766072],[135773420,135773420],[135773446,135773446],[135773617,135773617],[135773692,135773692],[135774681,135774681],[135775049,135775049],[135776430,135776430],[135778656,135778656],[135780168,135780168],[135780587,135780587],[135781301,135781301],[135781522,135781522],[135781635,135781635],[135782456,135782456],[135783157,135783157],[135783366,135783366],[135783367,135783367],[135784227,135784227],[135784733,135784733],[135785066,135785066],[135785068,135785068],[135785149,135785149],[135787148,135787148],[135787642,135787642],[135789405,135789405],[135789472,135789472],[135789682,135789682],[135789784,135789784],[135792338,135792338],[135792528,135792528],[135793565,135793565],[135793684,135793684],[135793845,135793845],[135794367,135794367],[135794986,135794986],[135795040,135795040],[135795095,135795095],[135795150,135795150],[135795385,135795385],[135795396,135795396],[135795443,135795443],[135795595,135795595],[135796000,135796000],[135796155,135796155],[135796410,135796410],[135796965,135796965],[135797223,135797223],[135797747,135797747],[135798082,135798082],[135798758,135798758],[135799082,135799082],[135800085,135800085],[135800601,135800601],[135800757,135800757],[135801228,135801228],[135801956,135801956],[135802020,135802020],[135802028,135802028],[135802050,135802050],[135802148,135802148],[135803766,135803766],[135809241,135809241],[135812969,135812969],[135814716,135814716],[135818907,135818907],[135829432,135829432],[135832131,135832131],[135849613,135849613],[135853807,135853807],[135859923,135859923],[135860305,135860305],[135861497,135861497],[135863143,135863143],[135864294,135864294],[135871624,135871624],[135872646,135872646],[135874038,135874038],[135874622,135874622],[135878814,135878814],[135880013,135880013],[135884487,135884487],[135885357,135885357],[135893853,135893853],[135895809,135895809],[135895879,135895879],[135899069,135899069],[135909462,135909462],[135912977,135912977],[135914038,135914038],[135921839,135921839],[135925002,135925002],[135928312,135928312],[135935049,135935049],[135962711,135962711],[135984172,135984172],[135994753,135994753],[135994754,135994754],[136016079,136016079],[136027264,136027264],[136052004,136052004],[136100473,136100473],[136110129,136110129],[136166536,136166536],[136169799,136169799],[136191314,136191314],[136228887,136228887],[136238453,136238453],[136288273,136288273],[136292425,136292425],[136321951,136321951],[136324564,136324564],[136327299,136327299],[136327302,136327302],[136376515,136376515],[135839805,135839805],[135866750,135866750],[135886744,135886744],[135924467,135924467],[135933921,135933921],[135939824,135939824],[135941503,135941503],[135943900,135943900],[135945474,135945474],[135949715,135949715],[135956745,135956745],[135958693,135958693],[135967778,135967778],[135972093,135972093],[135973768,135973768],[135976498,135976498],[135978428,135978428],[135990031,135990031],[135992481,135992481],[135993925,135993925],[135994838,135994838],[136000253,136000253],[136003567,136003567],[136005477,136005477],[136005971,136005971],[136020977,136020977],[136027535,136027535],[136031588,136031588],[136032905,136032905],[136042480,136042480],[136043885,136043885],[136050471,136050471],[136052898,136052898],[136054815,136054815],[136056285,136056285],[136061560,136061560],[136063685,136063685],[136069060,136069060],[136072179,136072179],[136074233,136074233],[136080721,136080721],[136080822,136080822],[136088440,136088440],[136088643,136088643],[136092416,136092416],[136092869,136092869],[136094615,136094615],[136095505,136095505],[136095604,136095604],[136096766,136096766],[136097091,136097091],[136097394,136097394],[136100243,136100243],[136101823,136101823],[136106561,136106561],[136115501,136115501],[136122622,136122622],[136123014,136123014],[136123848,136123848],[136127100,136127100],[136127950,136127950],[136128630,136128630],[136129630,136129630],[136129791,136129791],[136131324,136131324],[136135383,136135383],[136135994,136135994],[136136224,136136224],[136136366,136136366],[136136440,136136440],[136138145,136138145],[136140568,136140568],[136145882,136145882],[136147948,136147948],[136148630,136148630],[136151485,136151485],[136152802,136152802],[136156753,136156753],[136157913,136157913],[136160902,136160902],[136165765,136165765],[136171649,136171649],[136173220,136173220],[136173735,136173735],[136174552,136174552],[136175692,136175692],[136176805,136176805],[136182484,136182484],[136183188,136183188],[136187252,136187252],[136187345,136187345],[136189475,136189475],[136197702,136197702],[136198435,136198435],[136202937,136202937],[136219999,136219999],[136221500,136221500],[136226626,136226626],[136228929,136228929],[136229598,136229598],[136238270,136238270],[136238346,136238346],[136240769,136240769],[136244171,136244171],[136249245,136249245],[136250285,136250285],[136254419,136254419],[136266241,136266241],[136267808,136267808],[136272074,136272074],[136277304,136277304],[136290607,136290607],[136290663,136290663],[136291310,136291310],[136296051,136296051],[136305392,136305392],[136306890,136306890],[136310803,136310803],[136324225,136324225],[136324465,136324465],[136327305,136327305],[136329618,136329618],[136333300,136333300],[136350089,136350089],[136354204,136354204],[136360455,136360455],[136368563,136368563],[136115507,136115507],[136133627,136133627],[136135820,136135820],[136145676,136145676],[136166014,136166014],[136173684,136173684],[136176031,136176031],[136214307,136214307],[136215590,136215590],[136219265,136219265],[136219831,136219831],[136289471,136289471],[136298739,136298739],[136302296,136302296],[136302897,136302897],[136348702,136348702],[136348964,136348964],[136358707,136358707],[136359608,136359608],[136360402,136360402],[136365624,136365624],[136366970,136366970],[136367871,136367871],[136368393,136368393],[136370701,136370701],[136378539,136378539],[136378895,136378895],[136385280,136385280],[136309239,136309239],[136322472,136322472],[136323787,136323787],[136323862,136323862],[136326765,136326765],[136329500,136329500],[136331657,136331657],[136345356,136345356],[136361560,136361560],[136364916,136364916],[136369497,136369497],[136369580,136369580],[136380846,136380846],[136387893,136387893],[136393157,136393157],[136397433,136397433],[136402116,136402116],[136408291,136408291],[136421548,136421548],[136422784,136422784],[136427745,136427745],[136438950,136438950],[136439805,136439805],[136441410,136441410],[136406646,136406646],[136408821,136408821],[136412472,136412472],[136416959,136416959],[136438078,136438078],[136448855,136448855],[136456090,136456090],[136456675,136456675],[136466831,136466831],[136496493,136496493],[136496639,136496639],[136496928,136496928],[136509573,136509573],[136511951,136511951],[136537057,136537057],[136546635,136546635],[136553438,136553438],[136553925,136553925],[136496875,136496875],[136499066,136499066],[136505438,136505438],[136508372,136508372],[136514164,136514164],[136514846,136514846],[136517177,136517177],[136520305,136520305],[136521243,136521243],[136522001,136522001],[136523281,136523281],[136533585,136533585],[136534168,136534168],[136543228,136543228],[136544100,136544100],[136546151,136546151],[136547483,136547483],[136548206,136548206],[136511874,136511874],[136530248,136530248],[136530556,136530556],[136531252,136531252],[136533195,136533195],[136562716,136562716],[136569317,136569317],[136576425,136576425],[136576579,136576579],[136584376,136584376],[136584714,136584714],[136588031,136588031],[136589278,136589278],[136589379,136589379],[136589741,136589741],[136590746,136590746],[136593553,136593553],[136593678,136593678],[136605402,136605402],[136609320,136609320],[136611400,136611400],[136619744,136619744],[136621858,136621858],[136621941,136621941],[136624382,136624382],[136624686,136624686],[136651964,136651964],[136714929,136714929],[136734139,136734139],[136746252,136746252],[136682274,136682274],[136691825,136691825],[136698098,136698098],[136721603,136721603],[136721995,136721995],[136755684,136755684],[136775898,136775898]],\"ys\":[[650,696],[650,696],[650,696],[650,696],[650,696],[650,696],[650,696],[650,696],[650,696],[650,696],[650,696],[650,696],[650,696],[650,696],[650,696],[650,696],[650,696],[650,696],[650,696],[650,696],[650,696],[650,696],[650,696],[650,696],[650,696],[650,696],[650,696],[650,696],[650,696],[650,696],[650,696],[650,696],[650,696],[650,696],[650,696],[650,696],[650,696],[650,696],[650,696],[650,696],[650,696],[650,696],[650,696],[650,696],[650,696],[650,696],[650,696],[650,696],[650,696],[650,696],[650,696],[650,696],[650,696],[650,696],[650,696],[650,696],[650,696],[650,696],[650,696],[650,696],[650,696],[650,696],[650,696],[650,696],[650,696],[650,696],[650,696],[650,696],[650,696],[650,696],[650,696],[650,696],[650,696],[650,696],[650,696],[650,696],[650,696],[650,696],[650,696],[650,696],[650,696],[650,696],[650,696],[650,696],[650,696],[650,696],[650,696],[650,696],[650,696],[650,696],[650,696],[650,696],[650,696],[650,696],[650,696],[650,696],[650,696],[650,696],[650,696],[650,696],[650,696],[650,696],[650,696],[650,696],[650,696],[650,696],[650,696],[650,696],[650,696],[650,696],[650,696],[650,696],[650,696],[650,696],[650,696],[650,696],[650,696],[350,390],[350,390],[350,390],[350,390],[550,595],[550,595],[550,595],[550,595],[550,595],[550,595],[550,595],[550,595],[550,595],[550,595],[550,595],[550,595],[550,595],[550,595],[550,595],[550,595],[550,595],[550,595],[550,595],[550,595],[550,595],[550,595],[550,595],[550,595],[550,595],[550,595],[550,595],[550,595],[550,595],[550,595],[550,595],[550,595],[550,595],[550,595],[550,595],[550,595],[550,595],[550,595],[550,595],[550,595],[550,595],[550,595],[550,595],[550,595],[550,595],[550,595],[550,595],[550,595],[550,595],[550,595],[550,595],[550,595],[550,595],[550,595],[550,595],[550,595],[550,595],[550,595],[550,595],[550,595],[550,595],[550,595],[550,595],[550,595],[550,595],[550,595],[550,595],[550,595],[550,595],[550,595],[550,595],[550,595],[550,595],[550,595],[550,595],[550,595],[550,595],[550,595],[550,595],[550,595],[550,595],[550,595],[550,595],[550,595],[550,595],[550,595],[550,595],[550,595],[550,595],[550,595],[550,595],[550,595],[550,595],[550,595],[550,595],[550,595],[550,595],[550,595],[550,595],[550,595],[550,595],[550,595],[550,595],[550,595],[550,595],[550,595],[550,595],[550,595],[550,595],[550,595],[550,595],[550,595],[550,595],[550,595],[550,595],[550,595],[550,595],[550,595],[550,595],[550,595],[550,595],[550,595],[550,595],[150,184],[150,184],[150,184],[150,184],[150,184],[150,184],[150,184],[150,184],[150,184],[150,184],[150,184],[150,184],[150,184],[150,184],[150,184],[150,184],[150,184],[150,184],[150,184],[150,184],[150,184],[150,184],[150,184],[150,184],[150,184],[150,184],[150,184],[150,184],[350,390],[350,390],[350,390],[350,390],[350,390],[350,390],[350,390],[350,390],[350,390],[250,287],[250,287],[250,287],[250,287],[250,287],[450,493],[450,493],[450,493],[450,493],[450,493],[450,493],[450,493],[450,493],[450,493],[450,493],[550,595],[550,595],[550,595],[550,595],[550,595],[350,387],[350,387],[350,387],[350,387],[450,493],[450,493],[450,493],[450,493],[450,493],[450,493],[450,493],[450,493],[450,493],[50,75],[50,75],[50,75],[50,75],[50,75],[50,75],[50,75],[50,75],[50,75],[50,75],[50,75],[50,75],[50,75],[50,75],[50,75],[50,75],[50,75],[50,75],[350,391],[350,391],[350,391],[350,391],[350,391],[50,73],[50,73],[50,73],[50,73],[50,73],[50,73],[650,696],[650,696],[650,696],[650,696],[650,696],[650,696],[650,696],[150,182],[150,182],[150,182],[150,182],[150,182],[150,182],[150,182],[150,182],[50,76],[50,76],[50,76],[50,76],[650,697],[650,697],[650,697],[650,697],[650,697],[650,697],[650,697]]}},\"id\":\"ed8a387d-81ed-4813-9426-18a1436c9fdb\",\"type\":\"ColumnDataSource\"},{\"attributes\":{\"data_source\":{\"id\":\"df7bb9af-3eee-4129-85c8-ad2c0e0e9394\",\"type\":\"ColumnDataSource\"},\"glyph\":{\"id\":\"ddb72b2a-48ba-4fef-8ab4-259b7a9bae2e\",\"type\":\"Quad\"},\"hover_glyph\":null,\"nonselection_glyph\":{\"id\":\"833bc2aa-c8ec-443e-9c10-cf0fb0d6319f\",\"type\":\"Quad\"},\"selection_glyph\":null},\"id\":\"787d4b0b-ff34-4315-b0bd-c77a673900b5\",\"type\":\"GlyphRenderer\"},{\"attributes\":{\"plot\":{\"id\":\"1d1c7a80-071b-40ef-a928-e94eac819eeb\",\"subtype\":\"Figure\",\"type\":\"Plot\"}},\"id\":\"c0e02a88-e23f-4533-9539-3cfb10b3e460\",\"type\":\"HelpTool\"},{\"attributes\":{\"active_drag\":\"auto\",\"active_scroll\":\"auto\",\"active_tap\":\"auto\",\"tools\":[{\"id\":\"cdf87a6f-5dc4-4cff-a458-fbf9400d08c5\",\"type\":\"PanTool\"},{\"id\":\"3a681406-4303-483a-acbf-115bde2c6388\",\"type\":\"WheelZoomTool\"},{\"id\":\"c3b079ed-f3c8-49c9-9ef6-2bb63a090681\",\"type\":\"BoxZoomTool\"},{\"id\":\"6b9651a4-c012-4d36-bf0c-50146db198bf\",\"type\":\"SaveTool\"},{\"id\":\"e10e18fe-4bdf-46b5-9099-4f01cffdf7ad\",\"type\":\"ResetTool\"},{\"id\":\"c0e02a88-e23f-4533-9539-3cfb10b3e460\",\"type\":\"HelpTool\"}]},\"id\":\"73461f50-770d-47a1-b7db-84cb9199f1fd\",\"type\":\"Toolbar\"},{\"attributes\":{},\"id\":\"eb5caf2f-7d12-47f3-a2c7-8776266cf37b\",\"type\":\"BasicTicker\"},{\"attributes\":{\"bottom\":{\"field\":\"bottom\"},\"fill_alpha\":{\"value\":0.1},\"fill_color\":{\"value\":\"#1f77b4\"},\"left\":{\"field\":\"left\"},\"line_alpha\":{\"value\":0.1},\"line_color\":{\"value\":\"#1f77b4\"},\"right\":{\"field\":\"right\"},\"top\":{\"field\":\"top\"}},\"id\":\"833bc2aa-c8ec-443e-9c10-cf0fb0d6319f\",\"type\":\"Quad\"},{\"attributes\":{},\"id\":\"3125e903-b1b6-4863-acc6-15f5cfeb01d9\",\"type\":\"BasicTicker\"},{\"attributes\":{\"bottom\":{\"field\":\"bottom\"},\"fill_color\":{\"value\":\"white\"},\"left\":{\"field\":\"left\"},\"right\":{\"field\":\"right\"},\"top\":{\"field\":\"top\"}},\"id\":\"48244e04-d65a-4a8c-9262-059b2b34e9ca\",\"type\":\"Quad\"},{\"attributes\":{\"bottom\":{\"field\":\"bottom\"},\"fill_color\":{\"field\":\"fill_color\"},\"left\":{\"field\":\"left\"},\"line_color\":{\"value\":null},\"right\":{\"field\":\"right\"},\"top\":{\"field\":\"top\"}},\"id\":\"ddb72b2a-48ba-4fef-8ab4-259b7a9bae2e\",\"type\":\"Quad\"},{\"attributes\":{\"plot\":{\"id\":\"1d1c7a80-071b-40ef-a928-e94eac819eeb\",\"subtype\":\"Figure\",\"type\":\"Plot\"}},\"id\":\"6b9651a4-c012-4d36-bf0c-50146db198bf\",\"type\":\"SaveTool\"},{\"attributes\":{},\"id\":\"84928a97-e735-4491-86ba-d27dfbcc0ccc\",\"type\":\"BasicTickFormatter\"},{\"attributes\":{\"level\":\"glyph\",\"plot\":{\"id\":\"1d1c7a80-071b-40ef-a928-e94eac819eeb\",\"subtype\":\"Figure\",\"type\":\"Plot\"},\"source\":{\"id\":\"6f712349-6cfe-475c-bc4f-ab0b08b16302\",\"type\":\"ColumnDataSource\"},\"text\":{\"field\":\"vals\"},\"text_font_size\":{\"value\":\"9pt\"},\"text_font_style\":\"bold\",\"x\":{\"field\":\"x\"},\"y\":{\"field\":\"y\"}},\"id\":\"70b1bd3d-40a8-4e82-a9f2-2b3ddefa1c08\",\"type\":\"LabelSet\"},{\"attributes\":{\"callback\":null,\"end\":136786630,\"start\":135757320},\"id\":\"3bc2d384-9386-4790-ad58-9a6fb045b396\",\"type\":\"Range1d\"},{\"attributes\":{},\"id\":\"1f3615ee-7094-4ee8-a9f7-f56255bd5618\",\"type\":\"ToolEvents\"},{\"attributes\":{\"callback\":null,\"column_names\":[\"right\",\"bottom\",\"top\",\"left\",\"fill_color\"],\"data\":{\"bottom\":[650,350,550,150,350,250,450,550,350,450,50,350,50,650,150,50,650],\"fill_color\":[\"#808080\",\"#61c4c4\",\"#c46161\",\"#ff0000\",\"#ff0000\",\"#ff0000\",\"#808080\",\"#808080\",\"#ff0000\",\"#808080\",\"#ff0000\",\"#808080\",\"#ff0000\",\"#c46161\",\"#c46161\",\"#ff0000\",\"#61c461\"],\"left\":[135758231,135839805,135933921,136115507,136309239,136364916,136393157,136406646,136448855,136496493,136496875,136511874,136562716,136588031,136605402,136651964,136682274],\"right\":[136376515,135924467,136368563,136385280,136361560,136387893,136441410,136438078,136466831,136553925,136548206,136533195,136584714,136593678,136624686,136746252,136775898],\"top\":[696,390,595,184,390,287,493,595,387,493,75,391,73,696,182,76,697]}},\"id\":\"df7bb9af-3eee-4129-85c8-ad2c0e0e9394\",\"type\":\"ColumnDataSource\"},{\"attributes\":{\"data_source\":{\"id\":\"f69854e1-79a7-405b-94a1-0408092f1e9b\",\"type\":\"ColumnDataSource\"},\"glyph\":{\"id\":\"48244e04-d65a-4a8c-9262-059b2b34e9ca\",\"type\":\"Quad\"},\"hover_glyph\":null,\"nonselection_glyph\":{\"id\":\"1dd57af3-b284-4a09-a9f1-151cc953901e\",\"type\":\"Quad\"},\"selection_glyph\":null},\"id\":\"cdf29878-5c3e-416f-acee-da9b65d152f1\",\"type\":\"GlyphRenderer\"},{\"attributes\":{\"line_alpha\":{\"value\":0.1},\"line_color\":{\"value\":\"#1f77b4\"},\"xs\":{\"field\":\"xs\"},\"ys\":{\"field\":\"ys\"}},\"id\":\"1c391ffd-c633-437e-be75-c81a12347fbb\",\"type\":\"MultiLine\"},{\"attributes\":{\"dimension\":1,\"plot\":{\"id\":\"1d1c7a80-071b-40ef-a928-e94eac819eeb\",\"subtype\":\"Figure\",\"type\":\"Plot\"},\"ticker\":{\"id\":\"eb5caf2f-7d12-47f3-a2c7-8776266cf37b\",\"type\":\"BasicTicker\"}},\"id\":\"e1024149-6a53-4a96-8ca9-c10707759e71\",\"type\":\"Grid\"},{\"attributes\":{\"formatter\":{\"id\":\"04495cf7-f72b-48b0-a094-2e787aa922cc\",\"type\":\"BasicTickFormatter\"},\"plot\":{\"id\":\"1d1c7a80-071b-40ef-a928-e94eac819eeb\",\"subtype\":\"Figure\",\"type\":\"Plot\"},\"ticker\":{\"id\":\"3125e903-b1b6-4863-acc6-15f5cfeb01d9\",\"type\":\"BasicTicker\"}},\"id\":\"f68f199f-e707-4c9a-bdc1-32d320d37298\",\"type\":\"LinearAxis\"},{\"attributes\":{\"plot\":{\"id\":\"1d1c7a80-071b-40ef-a928-e94eac819eeb\",\"subtype\":\"Figure\",\"type\":\"Plot\"},\"ticker\":{\"id\":\"3125e903-b1b6-4863-acc6-15f5cfeb01d9\",\"type\":\"BasicTicker\"}},\"id\":\"d7beef4c-8095-4ae5-817a-294baa7972aa\",\"type\":\"Grid\"},{\"attributes\":{\"plot\":null,\"text\":null},\"id\":\"9a6c0712-af47-41f0-b1e3-0b1004ce36f1\",\"type\":\"Title\"},{\"attributes\":{\"data_source\":{\"id\":\"ed8a387d-81ed-4813-9426-18a1436c9fdb\",\"type\":\"ColumnDataSource\"},\"glyph\":{\"id\":\"f50ead8a-9a21-4f5b-92f4-6483be75cac2\",\"type\":\"MultiLine\"},\"hover_glyph\":null,\"nonselection_glyph\":{\"id\":\"1c391ffd-c633-437e-be75-c81a12347fbb\",\"type\":\"MultiLine\"},\"selection_glyph\":null},\"id\":\"be6cf7f8-c58d-4a57-85b0-6d429c234617\",\"type\":\"GlyphRenderer\"},{\"attributes\":{\"plot\":{\"id\":\"1d1c7a80-071b-40ef-a928-e94eac819eeb\",\"subtype\":\"Figure\",\"type\":\"Plot\"}},\"id\":\"e10e18fe-4bdf-46b5-9099-4f01cffdf7ad\",\"type\":\"ResetTool\"},{\"attributes\":{\"callback\":null,\"column_names\":[\"right\",\"bottom\",\"top\",\"left\"],\"data\":{\"bottom\":[745,745,745,745,745,745,745],\"left\":[135809835,135957574,136289083,136499189,136545415,136597196,136664254],\"right\":[135928279,136288182,136482839,136542633,136594750,136634047,136743222],\"top\":[775,775,775,775,775,775,775]}},\"id\":\"f69854e1-79a7-405b-94a1-0408092f1e9b\",\"type\":\"ColumnDataSource\"},{\"attributes\":{\"callback\":null,\"column_names\":[\"y\",\"x\",\"vals\"],\"data\":{\"vals\":[\"RAB3GAP1\",\"ZRANB3\",\"R3HDM1\",\"UBXN4\",\"LCT\",\"MCM6\",\"DARS\"],\"x\":[135869057.0,136122878.0,136385961.0,136520911.0,136570082.5,136615621.5,136703738.0],\"y\":[760.0,760.0,760.0,760.0,760.0,760.0,760.0]}},\"id\":\"ca885abf-bba2-4919-b5c8-ccc0c7d33250\",\"type\":\"ColumnDataSource\"},{\"attributes\":{\"line_color\":{\"field\":\"line_color\"},\"xs\":{\"field\":\"xs\"},\"ys\":{\"field\":\"ys\"}},\"id\":\"f50ead8a-9a21-4f5b-92f4-6483be75cac2\",\"type\":\"MultiLine\"},{\"attributes\":{\"below\":[{\"id\":\"f68f199f-e707-4c9a-bdc1-32d320d37298\",\"type\":\"LinearAxis\"}],\"left\":[{\"id\":\"7358f64b-aa7d-463a-b2ee-23dc711d9104\",\"type\":\"LinearAxis\"}],\"plot_height\":800,\"plot_width\":900,\"renderers\":[{\"id\":\"f68f199f-e707-4c9a-bdc1-32d320d37298\",\"type\":\"LinearAxis\"},{\"id\":\"d7beef4c-8095-4ae5-817a-294baa7972aa\",\"type\":\"Grid\"},{\"id\":\"7358f64b-aa7d-463a-b2ee-23dc711d9104\",\"type\":\"LinearAxis\"},{\"id\":\"e1024149-6a53-4a96-8ca9-c10707759e71\",\"type\":\"Grid\"},{\"id\":\"8fb9f703-51c7-47b1-8e4f-fb0c99135ebd\",\"type\":\"BoxAnnotation\"},{\"id\":\"787d4b0b-ff34-4315-b0bd-c77a673900b5\",\"type\":\"GlyphRenderer\"},{\"id\":\"be6cf7f8-c58d-4a57-85b0-6d429c234617\",\"type\":\"GlyphRenderer\"},{\"id\":\"70b1bd3d-40a8-4e82-a9f2-2b3ddefa1c08\",\"type\":\"LabelSet\"},{\"id\":\"cdf29878-5c3e-416f-acee-da9b65d152f1\",\"type\":\"GlyphRenderer\"},{\"id\":\"f1bac12e-ad53-43ce-a212-37b77cc11104\",\"type\":\"LabelSet\"}],\"title\":{\"id\":\"9a6c0712-af47-41f0-b1e3-0b1004ce36f1\",\"type\":\"Title\"},\"tool_events\":{\"id\":\"1f3615ee-7094-4ee8-a9f7-f56255bd5618\",\"type\":\"ToolEvents\"},\"toolbar\":{\"id\":\"73461f50-770d-47a1-b7db-84cb9199f1fd\",\"type\":\"Toolbar\"},\"toolbar_location\":null,\"x_range\":{\"id\":\"3bc2d384-9386-4790-ad58-9a6fb045b396\",\"type\":\"Range1d\"},\"y_range\":{\"id\":\"830a50f2-367d-41f9-a021-6822866a170b\",\"type\":\"Range1d\"}},\"id\":\"1d1c7a80-071b-40ef-a928-e94eac819eeb\",\"subtype\":\"Figure\",\"type\":\"Plot\"},{\"attributes\":{\"overlay\":{\"id\":\"8fb9f703-51c7-47b1-8e4f-fb0c99135ebd\",\"type\":\"BoxAnnotation\"},\"plot\":{\"id\":\"1d1c7a80-071b-40ef-a928-e94eac819eeb\",\"subtype\":\"Figure\",\"type\":\"Plot\"}},\"id\":\"c3b079ed-f3c8-49c9-9ef6-2bb63a090681\",\"type\":\"BoxZoomTool\"},{\"attributes\":{\"bottom\":{\"field\":\"bottom\"},\"fill_alpha\":{\"value\":0.1},\"fill_color\":{\"value\":\"#1f77b4\"},\"left\":{\"field\":\"left\"},\"line_alpha\":{\"value\":0.1},\"line_color\":{\"value\":\"#1f77b4\"},\"right\":{\"field\":\"right\"},\"top\":{\"field\":\"top\"}},\"id\":\"1dd57af3-b284-4a09-a9f1-151cc953901e\",\"type\":\"Quad\"},{\"attributes\":{},\"id\":\"04495cf7-f72b-48b0-a094-2e787aa922cc\",\"type\":\"BasicTickFormatter\"}],\"root_ids\":[\"1d1c7a80-071b-40ef-a928-e94eac819eeb\"]},\"title\":\"Bokeh Application\",\"version\":\"0.12.0\"}};\n",
       "            var render_items = [{\"docid\":\"d5a02615-2238-4313-80af-d3af8edd3e34\",\"elementid\":\"d39e159b-df5a-4c42-bd6d-60352198a492\",\"modelid\":\"1d1c7a80-071b-40ef-a928-e94eac819eeb\",\"notebook_comms_target\":\"56abd24a-a052-4724-8923-e9794bfa83af\"}];\n",
       "            \n",
       "            Bokeh.embed.embed_items(docs_json, render_items);\n",
       "        });\n",
       "      },\n",
       "      function(Bokeh) {\n",
       "      }\n",
       "    ];\n",
       "  \n",
       "    function run_inline_js() {\n",
       "      for (var i = 0; i < inline_js.length; i++) {\n",
       "        inline_js[i](window.Bokeh);\n",
       "      }\n",
       "    }\n",
       "  \n",
       "    if (window._bokeh_is_loading === 0) {\n",
       "      console.log(\"Bokeh: BokehJS loaded, going straight to plotting\");\n",
       "      run_inline_js();\n",
       "    } else {\n",
       "      load_libs(js_urls, function() {\n",
       "        console.log(\"Bokeh: BokehJS plotting callback run at\", now());\n",
       "        run_inline_js();\n",
       "      });\n",
       "    }\n",
       "  }(this));\n",
       "</script>"
      ]
     },
     "metadata": {},
     "output_type": "display_data"
    },
    {
     "data": {
      "text/html": [
       "<p><code>&lt;Bokeh Notebook handle for <strong>In[23]</strong>&gt;</code></p>"
      ],
      "text/plain": [
       "<bokeh.io._CommsHandle at 0x7f148b2f9a50>"
      ]
     },
     "execution_count": 23,
     "metadata": {},
     "output_type": "execute_result"
    }
   ],
   "source": [
    "plt_obj = dm.superset_allele_mask(am_29, [dm.di_4_815, dm.di_5_1460, dm.di_117_1685], \n",
    "                                  [dm.di_32_1361, dm.di_5_684], min_match=0.5)\n",
    "plt = plt_obj.do_plot()\n",
    "show(plt)"
   ]
  },
  {
   "cell_type": "code",
   "execution_count": 24,
   "metadata": {
    "collapsed": false
   },
   "outputs": [
    {
     "data": {
      "text/html": [
       "<table>\n",
       "<thead><tr><th style=\"text-align:center\">index</th><th style=\"text-align:center\">first</th><th style=\"text-align:center\">length</th><th style=\"text-align:center\">snps</th><th style=\"text-align:center\" colspan=2>alleles</th><th style=\"text-align:center\" colspan=2>matches</th><th style=\"text-align:center\" colspan=2>afr</th><th style=\"text-align:center\" colspan=2>afx</th><th style=\"text-align:center\" colspan=2>amr</th><th style=\"text-align:center\" colspan=2>eas</th><th style=\"text-align:center\" colspan=2>eur</th><th style=\"text-align:center\" colspan=2>sas</th><th style=\"text-align:center\" colspan=2>sax</th></tr></thead>\n",
       "<tr class=\"even\"><td style=\"text-align: right;\">354170</td><td style=\"text-align: right;\">136,682,274</td><td style=\"text-align: right;\">93,624</td><td style=\"text-align: right;\">7</td><td style=\"text-align: right;\">1868</td><td style=\"text-align: right;\">0.00</td><td style=\"text-align: right;\">1</td><td style=\"text-align: right;\">1.00</td><td style=\"text-align: right;\">1</td><td style=\"text-align: right;\">4.97</td><td style=\"text-align: right;\">0</td><td style=\"text-align: right;\">0.00</td><td style=\"text-align: right;\">0</td><td style=\"text-align: right;\">0.00</td><td style=\"text-align: right;\">0</td><td style=\"text-align: right;\">0.00</td><td style=\"text-align: right;\">0</td><td style=\"text-align: right;\">0.00</td><td style=\"text-align: right;\">0</td><td style=\"text-align: right;\">0.00</td><td style=\"text-align: right;\">0</td><td style=\"text-align: right;\">0.00</td></tr>\n",
       "<tr><td style=\"text-align: right;\">354033</td><td style=\"text-align: right;\">136,588,031</td><td style=\"text-align: right;\">5,647</td><td style=\"text-align: right;\">7</td><td style=\"text-align: right;\">1760</td><td style=\"text-align: right;\">0.00</td><td style=\"text-align: right;\">1</td><td style=\"text-align: right;\">1.00</td><td style=\"text-align: right;\">1</td><td style=\"text-align: right;\">4.97</td><td style=\"text-align: right;\">0</td><td style=\"text-align: right;\">0.00</td><td style=\"text-align: right;\">0</td><td style=\"text-align: right;\">0.00</td><td style=\"text-align: right;\">0</td><td style=\"text-align: right;\">0.00</td><td style=\"text-align: right;\">0</td><td style=\"text-align: right;\">0.00</td><td style=\"text-align: right;\">0</td><td style=\"text-align: right;\">0.00</td><td style=\"text-align: right;\">0</td><td style=\"text-align: right;\">0.00</td></tr>\n",
       "<tr class=\"even\"><td style=\"text-align: right;\">353244</td><td style=\"text-align: right;\">135,758,231</td><td style=\"text-align: right;\">618,284</td><td style=\"text-align: right;\">117</td><td style=\"text-align: right;\">1685</td><td style=\"text-align: right;\">0.00</td><td style=\"text-align: right;\">1</td><td style=\"text-align: right;\">1.00</td><td style=\"text-align: right;\">1</td><td style=\"text-align: right;\">4.97</td><td style=\"text-align: right;\">0</td><td style=\"text-align: right;\">0.00</td><td style=\"text-align: right;\">0</td><td style=\"text-align: right;\">0.00</td><td style=\"text-align: right;\">0</td><td style=\"text-align: right;\">0.00</td><td style=\"text-align: right;\">0</td><td style=\"text-align: right;\">0.00</td><td style=\"text-align: right;\">0</td><td style=\"text-align: right;\">0.00</td><td style=\"text-align: right;\">0</td><td style=\"text-align: right;\">0.00</td></tr>\n",
       "<tr><td style=\"text-align: right;\">353478</td><td style=\"text-align: right;\">135,933,921</td><td style=\"text-align: right;\">434,642</td><td style=\"text-align: right;\">123</td><td style=\"text-align: right;\">1561</td><td style=\"text-align: right;\">0.00</td><td style=\"text-align: right;\">1</td><td style=\"text-align: right;\">1.00</td><td style=\"text-align: right;\">1</td><td style=\"text-align: right;\">4.97</td><td style=\"text-align: right;\">0</td><td style=\"text-align: right;\">0.00</td><td style=\"text-align: right;\">0</td><td style=\"text-align: right;\">0.00</td><td style=\"text-align: right;\">0</td><td style=\"text-align: right;\">0.00</td><td style=\"text-align: right;\">0</td><td style=\"text-align: right;\">0.00</td><td style=\"text-align: right;\">0</td><td style=\"text-align: right;\">0.00</td><td style=\"text-align: right;\">0</td><td style=\"text-align: right;\">0.00</td></tr>\n",
       "<tr class=\"even\"><td style=\"text-align: right;\">353814</td><td style=\"text-align: right;\">136,406,646</td><td style=\"text-align: right;\">31,432</td><td style=\"text-align: right;\">5</td><td style=\"text-align: right;\">1460</td><td style=\"text-align: right;\">0.00</td><td style=\"text-align: right;\">1</td><td style=\"text-align: right;\">1.00</td><td style=\"text-align: right;\">1</td><td style=\"text-align: right;\">4.97</td><td style=\"text-align: right;\">0</td><td style=\"text-align: right;\">0.00</td><td style=\"text-align: right;\">0</td><td style=\"text-align: right;\">0.00</td><td style=\"text-align: right;\">0</td><td style=\"text-align: right;\">0.00</td><td style=\"text-align: right;\">0</td><td style=\"text-align: right;\">0.00</td><td style=\"text-align: right;\">0</td><td style=\"text-align: right;\">0.00</td><td style=\"text-align: right;\">0</td><td style=\"text-align: right;\">0.00</td></tr>\n",
       "<tr><td style=\"text-align: right;\">353790</td><td style=\"text-align: right;\">136,393,157</td><td style=\"text-align: right;\">48,253</td><td style=\"text-align: right;\">10</td><td style=\"text-align: right;\">1218</td><td style=\"text-align: right;\">0.00</td><td style=\"text-align: right;\">1</td><td style=\"text-align: right;\">1.00</td><td style=\"text-align: right;\">1</td><td style=\"text-align: right;\">4.97</td><td style=\"text-align: right;\">0</td><td style=\"text-align: right;\">0.00</td><td style=\"text-align: right;\">0</td><td style=\"text-align: right;\">0.00</td><td style=\"text-align: right;\">0</td><td style=\"text-align: right;\">0.00</td><td style=\"text-align: right;\">0</td><td style=\"text-align: right;\">0.00</td><td style=\"text-align: right;\">0</td><td style=\"text-align: right;\">0.00</td><td style=\"text-align: right;\">0</td><td style=\"text-align: right;\">0.00</td></tr>\n",
       "<tr class=\"even\"><td style=\"text-align: right;\">353906</td><td style=\"text-align: right;\">136,496,493</td><td style=\"text-align: right;\">57,432</td><td style=\"text-align: right;\">9</td><td style=\"text-align: right;\">1170</td><td style=\"text-align: right;\">0.00</td><td style=\"text-align: right;\">1</td><td style=\"text-align: right;\">1.00</td><td style=\"text-align: right;\">1</td><td style=\"text-align: right;\">4.97</td><td style=\"text-align: right;\">0</td><td style=\"text-align: right;\">0.00</td><td style=\"text-align: right;\">0</td><td style=\"text-align: right;\">0.00</td><td style=\"text-align: right;\">0</td><td style=\"text-align: right;\">0.00</td><td style=\"text-align: right;\">0</td><td style=\"text-align: right;\">0.00</td><td style=\"text-align: right;\">0</td><td style=\"text-align: right;\">0.00</td><td style=\"text-align: right;\">0</td><td style=\"text-align: right;\">0.00</td></tr>\n",
       "<tr><td style=\"text-align: right;\">353935</td><td style=\"text-align: right;\">136,511,874</td><td style=\"text-align: right;\">21,321</td><td style=\"text-align: right;\">5</td><td style=\"text-align: right;\">976</td><td style=\"text-align: right;\">0.00</td><td style=\"text-align: right;\">1</td><td style=\"text-align: right;\">1.00</td><td style=\"text-align: right;\">1</td><td style=\"text-align: right;\">4.97</td><td style=\"text-align: right;\">0</td><td style=\"text-align: right;\">0.00</td><td style=\"text-align: right;\">0</td><td style=\"text-align: right;\">0.00</td><td style=\"text-align: right;\">0</td><td style=\"text-align: right;\">0.00</td><td style=\"text-align: right;\">0</td><td style=\"text-align: right;\">0.00</td><td style=\"text-align: right;\">0</td><td style=\"text-align: right;\">0.00</td><td style=\"text-align: right;\">0</td><td style=\"text-align: right;\">0.00</td></tr>\n",
       "<tr class=\"even\"><td style=\"text-align: right;\">353729</td><td style=\"text-align: right;\">136,309,239</td><td style=\"text-align: right;\">52,321</td><td style=\"text-align: right;\">9</td><td style=\"text-align: right;\">887</td><td style=\"text-align: right;\">0.00</td><td style=\"text-align: right;\">1</td><td style=\"text-align: right;\">1.00</td><td style=\"text-align: right;\">1</td><td style=\"text-align: right;\">4.97</td><td style=\"text-align: right;\">0</td><td style=\"text-align: right;\">0.00</td><td style=\"text-align: right;\">0</td><td style=\"text-align: right;\">0.00</td><td style=\"text-align: right;\">0</td><td style=\"text-align: right;\">0.00</td><td style=\"text-align: right;\">0</td><td style=\"text-align: right;\">0.00</td><td style=\"text-align: right;\">0</td><td style=\"text-align: right;\">0.00</td><td style=\"text-align: right;\">0</td><td style=\"text-align: right;\">0.00</td></tr>\n",
       "<tr><td style=\"text-align: right;\">353384</td><td style=\"text-align: right;\">135,839,805</td><td style=\"text-align: right;\">84,662</td><td style=\"text-align: right;\">4</td><td style=\"text-align: right;\">815</td><td style=\"text-align: right;\">0.00</td><td style=\"text-align: right;\">1</td><td style=\"text-align: right;\">1.00</td><td style=\"text-align: right;\">1</td><td style=\"text-align: right;\">4.97</td><td style=\"text-align: right;\">0</td><td style=\"text-align: right;\">0.00</td><td style=\"text-align: right;\">0</td><td style=\"text-align: right;\">0.00</td><td style=\"text-align: right;\">0</td><td style=\"text-align: right;\">0.00</td><td style=\"text-align: right;\">0</td><td style=\"text-align: right;\">0.00</td><td style=\"text-align: right;\">0</td><td style=\"text-align: right;\">0.00</td><td style=\"text-align: right;\">0</td><td style=\"text-align: right;\">0.00</td></tr>\n",
       "<tr class=\"even\"><td style=\"text-align: right;\">353851</td><td style=\"text-align: right;\">136,448,855</td><td style=\"text-align: right;\">17,976</td><td style=\"text-align: right;\">4</td><td style=\"text-align: right;\">612</td><td style=\"text-align: right;\">0.00</td><td style=\"text-align: right;\">1</td><td style=\"text-align: right;\">1.00</td><td style=\"text-align: right;\">1</td><td style=\"text-align: right;\">4.97</td><td style=\"text-align: right;\">0</td><td style=\"text-align: right;\">0.00</td><td style=\"text-align: right;\">0</td><td style=\"text-align: right;\">0.00</td><td style=\"text-align: right;\">0</td><td style=\"text-align: right;\">0.00</td><td style=\"text-align: right;\">0</td><td style=\"text-align: right;\">0.00</td><td style=\"text-align: right;\">0</td><td style=\"text-align: right;\">0.00</td><td style=\"text-align: right;\">0</td><td style=\"text-align: right;\">0.00</td></tr>\n",
       "<tr><td style=\"text-align: right;\">353764</td><td style=\"text-align: right;\">136,364,916</td><td style=\"text-align: right;\">22,977</td><td style=\"text-align: right;\">5</td><td style=\"text-align: right;\">588</td><td style=\"text-align: right;\">0.00</td><td style=\"text-align: right;\">1</td><td style=\"text-align: right;\">1.00</td><td style=\"text-align: right;\">1</td><td style=\"text-align: right;\">4.97</td><td style=\"text-align: right;\">0</td><td style=\"text-align: right;\">0.00</td><td style=\"text-align: right;\">0</td><td style=\"text-align: right;\">0.00</td><td style=\"text-align: right;\">0</td><td style=\"text-align: right;\">0.00</td><td style=\"text-align: right;\">0</td><td style=\"text-align: right;\">0.00</td><td style=\"text-align: right;\">0</td><td style=\"text-align: right;\">0.00</td><td style=\"text-align: right;\">0</td><td style=\"text-align: right;\">0.00</td></tr>\n",
       "<tr class=\"even\"><td style=\"text-align: right;\">353614</td><td style=\"text-align: right;\">136,115,507</td><td style=\"text-align: right;\">269,773</td><td style=\"text-align: right;\">28</td><td style=\"text-align: right;\">434</td><td style=\"text-align: right;\">0.00</td><td style=\"text-align: right;\">1</td><td style=\"text-align: right;\">1.00</td><td style=\"text-align: right;\">1</td><td style=\"text-align: right;\">4.97</td><td style=\"text-align: right;\">0</td><td style=\"text-align: right;\">0.00</td><td style=\"text-align: right;\">0</td><td style=\"text-align: right;\">0.00</td><td style=\"text-align: right;\">0</td><td style=\"text-align: right;\">0.00</td><td style=\"text-align: right;\">0</td><td style=\"text-align: right;\">0.00</td><td style=\"text-align: right;\">0</td><td style=\"text-align: right;\">0.00</td><td style=\"text-align: right;\">0</td><td style=\"text-align: right;\">0.00</td></tr>\n",
       "<tr><td style=\"text-align: right;\">354064</td><td style=\"text-align: right;\">136,605,402</td><td style=\"text-align: right;\">19,284</td><td style=\"text-align: right;\">8</td><td style=\"text-align: right;\">328</td><td style=\"text-align: right;\">0.00</td><td style=\"text-align: right;\">1</td><td style=\"text-align: right;\">1.00</td><td style=\"text-align: right;\">1</td><td style=\"text-align: right;\">4.97</td><td style=\"text-align: right;\">0</td><td style=\"text-align: right;\">0.00</td><td style=\"text-align: right;\">0</td><td style=\"text-align: right;\">0.00</td><td style=\"text-align: right;\">0</td><td style=\"text-align: right;\">0.00</td><td style=\"text-align: right;\">0</td><td style=\"text-align: right;\">0.00</td><td style=\"text-align: right;\">0</td><td style=\"text-align: right;\">0.00</td><td style=\"text-align: right;\">0</td><td style=\"text-align: right;\">0.00</td></tr>\n",
       "<tr class=\"even\"><td style=\"text-align: right;\">354124</td><td style=\"text-align: right;\">136,651,964</td><td style=\"text-align: right;\">94,288</td><td style=\"text-align: right;\">4</td><td style=\"text-align: right;\">163</td><td style=\"text-align: right;\">0.01</td><td style=\"text-align: right;\">1</td><td style=\"text-align: right;\">1.00</td><td style=\"text-align: right;\">1</td><td style=\"text-align: right;\">4.97</td><td style=\"text-align: right;\">0</td><td style=\"text-align: right;\">0.00</td><td style=\"text-align: right;\">0</td><td style=\"text-align: right;\">0.00</td><td style=\"text-align: right;\">0</td><td style=\"text-align: right;\">0.00</td><td style=\"text-align: right;\">0</td><td style=\"text-align: right;\">0.00</td><td style=\"text-align: right;\">0</td><td style=\"text-align: right;\">0.00</td><td style=\"text-align: right;\">0</td><td style=\"text-align: right;\">0.00</td></tr>\n",
       "<tr><td style=\"text-align: right;\">353909</td><td style=\"text-align: right;\">136,496,875</td><td style=\"text-align: right;\">51,331</td><td style=\"text-align: right;\">18</td><td style=\"text-align: right;\">148</td><td style=\"text-align: right;\">0.01</td><td style=\"text-align: right;\">1</td><td style=\"text-align: right;\">1.00</td><td style=\"text-align: right;\">1</td><td style=\"text-align: right;\">4.97</td><td style=\"text-align: right;\">0</td><td style=\"text-align: right;\">0.00</td><td style=\"text-align: right;\">0</td><td style=\"text-align: right;\">0.00</td><td style=\"text-align: right;\">0</td><td style=\"text-align: right;\">0.00</td><td style=\"text-align: right;\">0</td><td style=\"text-align: right;\">0.00</td><td style=\"text-align: right;\">0</td><td style=\"text-align: right;\">0.00</td><td style=\"text-align: right;\">0</td><td style=\"text-align: right;\">0.00</td></tr>\n",
       "<tr class=\"even\"><td style=\"text-align: right;\">353992</td><td style=\"text-align: right;\">136,562,716</td><td style=\"text-align: right;\">21,998</td><td style=\"text-align: right;\">6</td><td style=\"text-align: right;\">127</td><td style=\"text-align: right;\">0.01</td><td style=\"text-align: right;\">1</td><td style=\"text-align: right;\">1.00</td><td style=\"text-align: right;\">1</td><td style=\"text-align: right;\">4.97</td><td style=\"text-align: right;\">0</td><td style=\"text-align: right;\">0.00</td><td style=\"text-align: right;\">0</td><td style=\"text-align: right;\">0.00</td><td style=\"text-align: right;\">0</td><td style=\"text-align: right;\">0.00</td><td style=\"text-align: right;\">0</td><td style=\"text-align: right;\">0.00</td><td style=\"text-align: right;\">0</td><td style=\"text-align: right;\">0.00</td><td style=\"text-align: right;\">0</td><td style=\"text-align: right;\">0.00</td></tr>\n",
       "</table>"
      ],
      "text/plain": [
       "<IPython.core.display.HTML object>"
      ]
     },
     "execution_count": 24,
     "metadata": {},
     "output_type": "execute_result"
    }
   ],
   "source": [
    "HTML(plt_obj.get_html())"
   ]
  },
  {
   "cell_type": "code",
   "execution_count": 25,
   "metadata": {
    "collapsed": false
   },
   "outputs": [
    {
     "data": {
      "text/html": [
       "\n",
       "\n",
       "    <div class=\"bk-root\">\n",
       "        <div class=\"plotdiv\" id=\"113cfa38-503a-450c-85ae-7ca805d313e4\"></div>\n",
       "    </div>\n",
       "<script type=\"text/javascript\">\n",
       "  \n",
       "  (function(global) {\n",
       "    function now() {\n",
       "      return new Date();\n",
       "    }\n",
       "  \n",
       "    if (typeof (window._bokeh_onload_callbacks) === \"undefined\") {\n",
       "      window._bokeh_onload_callbacks = [];\n",
       "    }\n",
       "  \n",
       "    function run_callbacks() {\n",
       "      window._bokeh_onload_callbacks.forEach(function(callback) { callback() });\n",
       "      delete window._bokeh_onload_callbacks\n",
       "      console.info(\"Bokeh: all callbacks have finished\");\n",
       "    }\n",
       "  \n",
       "    function load_libs(js_urls, callback) {\n",
       "      window._bokeh_onload_callbacks.push(callback);\n",
       "      if (window._bokeh_is_loading > 0) {\n",
       "        console.log(\"Bokeh: BokehJS is being loaded, scheduling callback at\", now());\n",
       "        return null;\n",
       "      }\n",
       "      if (js_urls == null || js_urls.length === 0) {\n",
       "        run_callbacks();\n",
       "        return null;\n",
       "      }\n",
       "      console.log(\"Bokeh: BokehJS not loaded, scheduling load and callback at\", now());\n",
       "      window._bokeh_is_loading = js_urls.length;\n",
       "      for (var i = 0; i < js_urls.length; i++) {\n",
       "        var url = js_urls[i];\n",
       "        var s = document.createElement('script');\n",
       "        s.src = url;\n",
       "        s.async = false;\n",
       "        s.onreadystatechange = s.onload = function() {\n",
       "          window._bokeh_is_loading--;\n",
       "          if (window._bokeh_is_loading === 0) {\n",
       "            console.log(\"Bokeh: all BokehJS libraries loaded\");\n",
       "            run_callbacks()\n",
       "          }\n",
       "        };\n",
       "        s.onerror = function() {\n",
       "          console.warn(\"failed to load library \" + url);\n",
       "        };\n",
       "        console.log(\"Bokeh: injecting script tag for BokehJS library: \", url);\n",
       "        document.getElementsByTagName(\"head\")[0].appendChild(s);\n",
       "      }\n",
       "    };var element = document.getElementById(\"113cfa38-503a-450c-85ae-7ca805d313e4\");\n",
       "    if (element == null) {\n",
       "      console.log(\"Bokeh: ERROR: autoload.js configured with elementid '113cfa38-503a-450c-85ae-7ca805d313e4' but no matching script tag was found. \")\n",
       "      return false;\n",
       "    }\n",
       "  \n",
       "    var js_urls = [];\n",
       "  \n",
       "    var inline_js = [\n",
       "      function(Bokeh) {\n",
       "        Bokeh.$(function() {\n",
       "            var docs_json = {\"fc9ed592-9cc5-45e6-957f-8c9f32ee972d\":{\"roots\":{\"references\":[{\"attributes\":{},\"id\":\"245d5783-31be-4981-be24-d8d5f2b118c4\",\"type\":\"BasicTickFormatter\"},{\"attributes\":{\"dimension\":1,\"plot\":{\"id\":\"dbe08cef-bdf6-46ba-8890-29d5d1e62522\",\"subtype\":\"Figure\",\"type\":\"Plot\"},\"ticker\":{\"id\":\"6d9932dc-a471-4169-af97-e9e0c6344c3d\",\"type\":\"BasicTicker\"}},\"id\":\"13487e3e-c247-401c-bac5-7a87d8c48177\",\"type\":\"Grid\"},{\"attributes\":{\"plot\":{\"id\":\"dbe08cef-bdf6-46ba-8890-29d5d1e62522\",\"subtype\":\"Figure\",\"type\":\"Plot\"},\"ticker\":{\"id\":\"af51091d-5811-4350-98e8-0f0737c85364\",\"type\":\"BasicTicker\"}},\"id\":\"53accd3f-82e3-4425-a61c-66b13bf28df3\",\"type\":\"Grid\"},{\"attributes\":{\"bottom_units\":\"screen\",\"fill_alpha\":{\"value\":0.5},\"fill_color\":{\"value\":\"lightgrey\"},\"left_units\":\"screen\",\"level\":\"overlay\",\"line_alpha\":{\"value\":1.0},\"line_color\":{\"value\":\"black\"},\"line_dash\":[4,4],\"line_width\":{\"value\":2},\"plot\":null,\"render_mode\":\"css\",\"right_units\":\"screen\",\"top_units\":\"screen\"},\"id\":\"79d7ed94-d198-4320-9f29-ed8534d41a22\",\"type\":\"BoxAnnotation\"},{\"attributes\":{\"overlay\":{\"id\":\"79d7ed94-d198-4320-9f29-ed8534d41a22\",\"type\":\"BoxAnnotation\"},\"plot\":{\"id\":\"dbe08cef-bdf6-46ba-8890-29d5d1e62522\",\"subtype\":\"Figure\",\"type\":\"Plot\"}},\"id\":\"38ad29e9-4291-4b0a-a1cb-d985e46c4c56\",\"type\":\"BoxZoomTool\"},{\"attributes\":{\"callback\":null,\"column_names\":[\"xs\",\"ys\",\"line_color\"],\"data\":{\"line_color\":[\"black\",\"black\",\"black\",\"black\",\"black\",\"black\",\"black\",\"black\",\"black\",\"black\",\"black\",\"black\",\"black\",\"black\",\"black\",\"black\",\"black\",\"black\",\"black\",\"black\",\"black\",\"black\",\"black\",\"black\",\"black\",\"black\",\"black\",\"black\",\"black\",\"black\",\"black\",\"black\",\"black\",\"black\",\"black\",\"black\",\"black\",\"black\",\"black\",\"black\",\"black\",\"black\",\"black\",\"black\",\"black\",\"black\",\"black\",\"black\",\"black\",\"black\",\"black\",\"black\",\"black\",\"black\",\"black\",\"black\",\"black\",\"black\",\"black\",\"black\",\"black\",\"black\",\"black\",\"black\",\"black\",\"black\",\"black\",\"black\",\"black\",\"black\",\"black\",\"black\",\"black\",\"black\",\"black\",\"black\",\"black\",\"black\",\"black\",\"black\",\"black\",\"black\",\"black\",\"black\",\"black\",\"black\",\"black\",\"black\",\"black\",\"black\",\"black\",\"black\",\"black\",\"black\"],\"xs\":[[135839805,135839805],[135866750,135866750],[135886744,135886744],[135924467,135924467],[136403994,136403994],[136405878,136405878],[136409574,136409574],[136413225,136413225],[136418741,136418741],[136429088,136429088],[136432121,136432121],[136449305,136449305],[136451432,136451432],[136470978,136470978],[136472107,136472107],[136477100,136477100],[136485096,136485096],[136406646,136406646],[136408821,136408821],[136412472,136412472],[136416959,136416959],[136438078,136438078],[136447707,136447707],[136460324,136460324],[136472357,136472357],[136490266,136490266],[136496493,136496493],[136496639,136496639],[136496928,136496928],[136509573,136509573],[136511951,136511951],[136537057,136537057],[136546635,136546635],[136553438,136553438],[136553925,136553925],[136496805,136496805],[136496910,136496910],[136515859,136515859],[136515924,136515924],[136520186,136520186],[136524766,136524766],[136535364,136535364],[136536113,136536113],[136552629,136552629],[136511874,136511874],[136530248,136530248],[136530556,136530556],[136531252,136531252],[136533195,136533195],[136514709,136514709],[136516308,136516308],[136520100,136520100],[136521595,136521595],[136523045,136523045],[136543147,136543147],[136556805,136556805],[136560003,136560003],[136562472,136562472],[136563248,136563248],[136565328,136565328],[136570613,136570613],[136571982,136571982],[136574305,136574305],[136578040,136578040],[136578194,136578194],[136580398,136580398],[136586828,136586828],[136590558,136590558],[136592309,136592309],[136593541,136593541],[136593694,136593694],[136595426,136595426],[136615222,136615222],[136624919,136624919],[136626004,136626004],[136628380,136628380],[136636909,136636909],[136637350,136637350],[136637622,136637622],[136639487,136639487],[136646900,136646900],[136652093,136652093],[136652859,136652859],[136655620,136655620],[136667896,136667896],[136671801,136671801],[136677192,136677192],[136683293,136683293],[136704414,136704414],[136720344,136720344],[136731066,136731066],[136733897,136733897],[136743490,136743490],[136747085,136747085]],\"ys\":[[50,90],[50,90],[50,90],[50,90],[150,190],[150,190],[150,190],[150,190],[150,190],[150,190],[150,190],[150,190],[150,190],[150,190],[150,190],[150,190],[150,190],[450,495],[450,495],[450,495],[450,495],[450,495],[350,392],[350,392],[350,392],[350,392],[450,493],[450,493],[450,493],[450,493],[450,493],[450,493],[450,493],[450,493],[450,493],[250,291],[250,291],[250,291],[250,291],[250,291],[250,291],[250,291],[250,291],[250,291],[150,191],[150,191],[150,191],[150,191],[150,191],[50,90],[50,90],[50,90],[50,90],[50,90],[50,90],[250,291],[250,291],[250,291],[250,291],[250,291],[250,291],[250,291],[250,291],[250,291],[250,291],[250,291],[250,291],[250,291],[250,291],[250,291],[250,291],[250,291],[250,291],[250,291],[250,291],[250,291],[250,291],[250,291],[250,291],[250,291],[250,291],[250,291],[250,291],[250,291],[250,291],[250,291],[250,291],[250,291],[250,291],[250,291],[250,291],[250,291],[250,291],[250,291]]}},\"id\":\"df038452-1ef4-4eb0-bca6-d806671eb5cf\",\"type\":\"ColumnDataSource\"},{\"attributes\":{\"active_drag\":\"auto\",\"active_scroll\":\"auto\",\"active_tap\":\"auto\",\"tools\":[{\"id\":\"2b41158b-38bd-4816-80bd-24ca9b94e4cd\",\"type\":\"PanTool\"},{\"id\":\"ab6d866f-2294-4692-b569-c69bfc07b1a8\",\"type\":\"WheelZoomTool\"},{\"id\":\"38ad29e9-4291-4b0a-a1cb-d985e46c4c56\",\"type\":\"BoxZoomTool\"},{\"id\":\"6bf2b643-96bf-4de6-9a7f-e45343a9dda1\",\"type\":\"SaveTool\"},{\"id\":\"4dea8ec1-99eb-4cd6-8aac-ef76b0a7dacf\",\"type\":\"ResetTool\"},{\"id\":\"9d42597d-d679-4a0f-80a3-165cf4533cd4\",\"type\":\"HelpTool\"}]},\"id\":\"48ba2afe-1868-45e5-babc-6be8f43f7451\",\"type\":\"Toolbar\"},{\"attributes\":{\"plot\":null,\"text\":null},\"id\":\"61d1c93f-5de1-4612-8e59-3811a6b2b868\",\"type\":\"Title\"},{\"attributes\":{\"bottom\":{\"field\":\"bottom\"},\"fill_alpha\":{\"value\":0.1},\"fill_color\":{\"value\":\"#1f77b4\"},\"left\":{\"field\":\"left\"},\"line_alpha\":{\"value\":0.1},\"line_color\":{\"value\":\"#1f77b4\"},\"right\":{\"field\":\"right\"},\"top\":{\"field\":\"top\"}},\"id\":\"12baa6cd-10ff-4750-9471-e717e2b14352\",\"type\":\"Quad\"},{\"attributes\":{\"level\":\"glyph\",\"plot\":{\"id\":\"dbe08cef-bdf6-46ba-8890-29d5d1e62522\",\"subtype\":\"Figure\",\"type\":\"Plot\"},\"source\":{\"id\":\"6e5e6b65-7645-445c-bf1e-b14a458a7dd0\",\"type\":\"ColumnDataSource\"},\"text\":{\"field\":\"vals\"},\"text_align\":\"center\",\"text_baseline\":\"middle\",\"text_font_size\":{\"value\":\"8pt\"},\"x\":{\"field\":\"x\"},\"y\":{\"field\":\"y\"}},\"id\":\"ea5dee83-9f2f-45a5-9dec-e79000ae15b0\",\"type\":\"LabelSet\"},{\"attributes\":{\"data_source\":{\"id\":\"11eb341c-38b3-456b-84a8-62ebb59389c8\",\"type\":\"ColumnDataSource\"},\"glyph\":{\"id\":\"b53dd206-1ae6-41bc-959a-d2b582d5afe6\",\"type\":\"Quad\"},\"hover_glyph\":null,\"nonselection_glyph\":{\"id\":\"fe7e8661-4dd0-4575-a730-ba7aacdde7ca\",\"type\":\"Quad\"},\"selection_glyph\":null},\"id\":\"5999f2b9-7648-4ef8-a501-4b9e6b8baa69\",\"type\":\"GlyphRenderer\"},{\"attributes\":{\"plot\":{\"id\":\"dbe08cef-bdf6-46ba-8890-29d5d1e62522\",\"subtype\":\"Figure\",\"type\":\"Plot\"}},\"id\":\"4dea8ec1-99eb-4cd6-8aac-ef76b0a7dacf\",\"type\":\"ResetTool\"},{\"attributes\":{\"plot\":{\"id\":\"dbe08cef-bdf6-46ba-8890-29d5d1e62522\",\"subtype\":\"Figure\",\"type\":\"Plot\"}},\"id\":\"ab6d866f-2294-4692-b569-c69bfc07b1a8\",\"type\":\"WheelZoomTool\"},{\"attributes\":{\"line_color\":{\"field\":\"line_color\"},\"xs\":{\"field\":\"xs\"},\"ys\":{\"field\":\"ys\"}},\"id\":\"04e547f5-5d2e-4475-ab21-4e633ccf6c2b\",\"type\":\"MultiLine\"},{\"attributes\":{\"callback\":null,\"column_names\":[\"right\",\"bottom\",\"top\",\"left\",\"fill_color\"],\"data\":{\"bottom\":[50,150,450,350,450,250,150,50,250],\"fill_color\":[\"#61c4c4\",\"#61c4c4\",\"#808080\",\"#61c4c4\",\"#808080\",\"#61c4c4\",\"#808080\",\"#61c4c4\",\"#808080\"],\"left\":[135839805,136403994,136406646,136447707,136496493,136496805,136511874,136514709,136556805],\"right\":[135924467,136485096,136438078,136490266,136553925,136552629,136533195,136543147,136747085],\"top\":[90,190,495,392,493,291,191,90,291]}},\"id\":\"11eb341c-38b3-456b-84a8-62ebb59389c8\",\"type\":\"ColumnDataSource\"},{\"attributes\":{},\"id\":\"1dc5b0ef-3225-48a0-8398-373f3e04b43b\",\"type\":\"ToolEvents\"},{\"attributes\":{\"line_alpha\":{\"value\":0.1},\"line_color\":{\"value\":\"#1f77b4\"},\"xs\":{\"field\":\"xs\"},\"ys\":{\"field\":\"ys\"}},\"id\":\"4db85e9e-1199-44cb-a133-724b158b1af8\",\"type\":\"MultiLine\"},{\"attributes\":{\"callback\":null,\"end\":600},\"id\":\"4708da48-86b2-4fb1-8556-41943d957818\",\"type\":\"Range1d\"},{\"attributes\":{\"level\":\"glyph\",\"plot\":{\"id\":\"dbe08cef-bdf6-46ba-8890-29d5d1e62522\",\"subtype\":\"Figure\",\"type\":\"Plot\"},\"source\":{\"id\":\"7a886ebf-6a12-4cb3-9168-0d2b25eea867\",\"type\":\"ColumnDataSource\"},\"text\":{\"field\":\"vals\"},\"text_font_size\":{\"value\":\"9pt\"},\"text_font_style\":\"bold\",\"x\":{\"field\":\"x\"},\"y\":{\"field\":\"y\"}},\"id\":\"e6a1fce6-2180-4915-a304-26c49d6e8e50\",\"type\":\"LabelSet\"},{\"attributes\":{\"data_source\":{\"id\":\"0989e3be-effd-43cf-af5e-8ce8b0b6edc7\",\"type\":\"ColumnDataSource\"},\"glyph\":{\"id\":\"213971da-10c7-4fd4-9652-4e581bb41c8a\",\"type\":\"Quad\"},\"hover_glyph\":null,\"nonselection_glyph\":{\"id\":\"12baa6cd-10ff-4750-9471-e717e2b14352\",\"type\":\"Quad\"},\"selection_glyph\":null},\"id\":\"0d303403-994c-4c17-9d06-6d7bea055679\",\"type\":\"GlyphRenderer\"},{\"attributes\":{\"callback\":null,\"column_names\":[\"right\",\"bottom\",\"top\",\"left\"],\"data\":{\"bottom\":[545,545,545,545,545,545,545],\"left\":[135809835,135957574,136289083,136499189,136545415,136597196,136664254],\"right\":[135928279,136288182,136482839,136542633,136594750,136634047,136743222],\"top\":[575,575,575,575,575,575,575]}},\"id\":\"0989e3be-effd-43cf-af5e-8ce8b0b6edc7\",\"type\":\"ColumnDataSource\"},{\"attributes\":{\"bottom\":{\"field\":\"bottom\"},\"fill_color\":{\"value\":\"white\"},\"left\":{\"field\":\"left\"},\"right\":{\"field\":\"right\"},\"top\":{\"field\":\"top\"}},\"id\":\"213971da-10c7-4fd4-9652-4e581bb41c8a\",\"type\":\"Quad\"},{\"attributes\":{\"data_source\":{\"id\":\"df038452-1ef4-4eb0-bca6-d806671eb5cf\",\"type\":\"ColumnDataSource\"},\"glyph\":{\"id\":\"04e547f5-5d2e-4475-ab21-4e633ccf6c2b\",\"type\":\"MultiLine\"},\"hover_glyph\":null,\"nonselection_glyph\":{\"id\":\"4db85e9e-1199-44cb-a133-724b158b1af8\",\"type\":\"MultiLine\"},\"selection_glyph\":null},\"id\":\"56074f90-a2bf-43f5-bce0-3d0a74c29d29\",\"type\":\"GlyphRenderer\"},{\"attributes\":{},\"id\":\"6d9932dc-a471-4169-af97-e9e0c6344c3d\",\"type\":\"BasicTicker\"},{\"attributes\":{\"plot\":{\"id\":\"dbe08cef-bdf6-46ba-8890-29d5d1e62522\",\"subtype\":\"Figure\",\"type\":\"Plot\"}},\"id\":\"6bf2b643-96bf-4de6-9a7f-e45343a9dda1\",\"type\":\"SaveTool\"},{\"attributes\":{},\"id\":\"af51091d-5811-4350-98e8-0f0737c85364\",\"type\":\"BasicTicker\"},{\"attributes\":{\"bottom\":{\"field\":\"bottom\"},\"fill_alpha\":{\"value\":0.1},\"fill_color\":{\"value\":\"#1f77b4\"},\"left\":{\"field\":\"left\"},\"line_alpha\":{\"value\":0.1},\"line_color\":{\"value\":\"#1f77b4\"},\"right\":{\"field\":\"right\"},\"top\":{\"field\":\"top\"}},\"id\":\"fe7e8661-4dd0-4575-a730-ba7aacdde7ca\",\"type\":\"Quad\"},{\"attributes\":{\"formatter\":{\"id\":\"245d5783-31be-4981-be24-d8d5f2b118c4\",\"type\":\"BasicTickFormatter\"},\"plot\":{\"id\":\"dbe08cef-bdf6-46ba-8890-29d5d1e62522\",\"subtype\":\"Figure\",\"type\":\"Plot\"},\"ticker\":{\"id\":\"af51091d-5811-4350-98e8-0f0737c85364\",\"type\":\"BasicTicker\"}},\"id\":\"22d25572-07b8-48f0-9213-254b20d5426a\",\"type\":\"LinearAxis\"},{\"attributes\":{\"callback\":null,\"column_names\":[\"y\",\"x\",\"vals\"],\"data\":{\"vals\":[\"RAB3GAP1\",\"ZRANB3\",\"R3HDM1\",\"UBXN4\",\"LCT\",\"MCM6\",\"DARS\"],\"x\":[135869057.0,136122878.0,136385961.0,136520911.0,136570082.5,136615621.5,136703738.0],\"y\":[560.0,560.0,560.0,560.0,560.0,560.0,560.0]}},\"id\":\"6e5e6b65-7645-445c-bf1e-b14a458a7dd0\",\"type\":\"ColumnDataSource\"},{\"attributes\":{\"callback\":null,\"column_names\":[\"y\",\"x\",\"vals\"],\"data\":{\"vals\":[\"4_815\",\"13_911\",\"5_1460\",\"4_1149\",\"9_1170\",\"9_1023\",\"5_976\",\"6_820\",\"39_1014\"],\"x\":[135839805,136403994,136406646,136447707,136496493,136496805,136511874,136514709,136556805],\"y\":[95.0,195.0,500.0,397.0,498.0,296.0,196.0,95.0,296.0]}},\"id\":\"7a886ebf-6a12-4cb3-9168-0d2b25eea867\",\"type\":\"ColumnDataSource\"},{\"attributes\":{\"plot\":{\"id\":\"dbe08cef-bdf6-46ba-8890-29d5d1e62522\",\"subtype\":\"Figure\",\"type\":\"Plot\"}},\"id\":\"9d42597d-d679-4a0f-80a3-165cf4533cd4\",\"type\":\"HelpTool\"},{\"attributes\":{\"callback\":null,\"end\":136786630,\"start\":135757320},\"id\":\"63ee009d-a20d-4f5e-84a3-bcf364ad206d\",\"type\":\"Range1d\"},{\"attributes\":{\"formatter\":{\"id\":\"a8e0c810-6506-4a44-bc5f-02f941adca81\",\"type\":\"BasicTickFormatter\"},\"plot\":{\"id\":\"dbe08cef-bdf6-46ba-8890-29d5d1e62522\",\"subtype\":\"Figure\",\"type\":\"Plot\"},\"ticker\":{\"id\":\"6d9932dc-a471-4169-af97-e9e0c6344c3d\",\"type\":\"BasicTicker\"},\"visible\":null},\"id\":\"1a4ddc21-32f4-4448-845e-eb2000a1f432\",\"type\":\"LinearAxis\"},{\"attributes\":{},\"id\":\"a8e0c810-6506-4a44-bc5f-02f941adca81\",\"type\":\"BasicTickFormatter\"},{\"attributes\":{\"plot\":{\"id\":\"dbe08cef-bdf6-46ba-8890-29d5d1e62522\",\"subtype\":\"Figure\",\"type\":\"Plot\"}},\"id\":\"2b41158b-38bd-4816-80bd-24ca9b94e4cd\",\"type\":\"PanTool\"},{\"attributes\":{\"below\":[{\"id\":\"22d25572-07b8-48f0-9213-254b20d5426a\",\"type\":\"LinearAxis\"}],\"left\":[{\"id\":\"1a4ddc21-32f4-4448-845e-eb2000a1f432\",\"type\":\"LinearAxis\"}],\"plot_width\":900,\"renderers\":[{\"id\":\"22d25572-07b8-48f0-9213-254b20d5426a\",\"type\":\"LinearAxis\"},{\"id\":\"53accd3f-82e3-4425-a61c-66b13bf28df3\",\"type\":\"Grid\"},{\"id\":\"1a4ddc21-32f4-4448-845e-eb2000a1f432\",\"type\":\"LinearAxis\"},{\"id\":\"13487e3e-c247-401c-bac5-7a87d8c48177\",\"type\":\"Grid\"},{\"id\":\"79d7ed94-d198-4320-9f29-ed8534d41a22\",\"type\":\"BoxAnnotation\"},{\"id\":\"5999f2b9-7648-4ef8-a501-4b9e6b8baa69\",\"type\":\"GlyphRenderer\"},{\"id\":\"56074f90-a2bf-43f5-bce0-3d0a74c29d29\",\"type\":\"GlyphRenderer\"},{\"id\":\"e6a1fce6-2180-4915-a304-26c49d6e8e50\",\"type\":\"LabelSet\"},{\"id\":\"0d303403-994c-4c17-9d06-6d7bea055679\",\"type\":\"GlyphRenderer\"},{\"id\":\"ea5dee83-9f2f-45a5-9dec-e79000ae15b0\",\"type\":\"LabelSet\"}],\"title\":{\"id\":\"61d1c93f-5de1-4612-8e59-3811a6b2b868\",\"type\":\"Title\"},\"tool_events\":{\"id\":\"1dc5b0ef-3225-48a0-8398-373f3e04b43b\",\"type\":\"ToolEvents\"},\"toolbar\":{\"id\":\"48ba2afe-1868-45e5-babc-6be8f43f7451\",\"type\":\"Toolbar\"},\"toolbar_location\":null,\"x_range\":{\"id\":\"63ee009d-a20d-4f5e-84a3-bcf364ad206d\",\"type\":\"Range1d\"},\"y_range\":{\"id\":\"4708da48-86b2-4fb1-8556-41943d957818\",\"type\":\"Range1d\"}},\"id\":\"dbe08cef-bdf6-46ba-8890-29d5d1e62522\",\"subtype\":\"Figure\",\"type\":\"Plot\"},{\"attributes\":{\"bottom\":{\"field\":\"bottom\"},\"fill_color\":{\"field\":\"fill_color\"},\"left\":{\"field\":\"left\"},\"line_color\":{\"value\":null},\"right\":{\"field\":\"right\"},\"top\":{\"field\":\"top\"}},\"id\":\"b53dd206-1ae6-41bc-959a-d2b582d5afe6\",\"type\":\"Quad\"}],\"root_ids\":[\"dbe08cef-bdf6-46ba-8890-29d5d1e62522\"]},\"title\":\"Bokeh Application\",\"version\":\"0.12.0\"}};\n",
       "            var render_items = [{\"docid\":\"fc9ed592-9cc5-45e6-957f-8c9f32ee972d\",\"elementid\":\"113cfa38-503a-450c-85ae-7ca805d313e4\",\"modelid\":\"dbe08cef-bdf6-46ba-8890-29d5d1e62522\",\"notebook_comms_target\":\"dc5cb38a-4c57-40b4-a24f-a3e896e1530b\"}];\n",
       "            \n",
       "            Bokeh.embed.embed_items(docs_json, render_items);\n",
       "        });\n",
       "      },\n",
       "      function(Bokeh) {\n",
       "      }\n",
       "    ];\n",
       "  \n",
       "    function run_inline_js() {\n",
       "      for (var i = 0; i < inline_js.length; i++) {\n",
       "        inline_js[i](window.Bokeh);\n",
       "      }\n",
       "    }\n",
       "  \n",
       "    if (window._bokeh_is_loading === 0) {\n",
       "      console.log(\"Bokeh: BokehJS loaded, going straight to plotting\");\n",
       "      run_inline_js();\n",
       "    } else {\n",
       "      load_libs(js_urls, function() {\n",
       "        console.log(\"Bokeh: BokehJS plotting callback run at\", now());\n",
       "        run_inline_js();\n",
       "      });\n",
       "    }\n",
       "  }(this));\n",
       "</script>"
      ]
     },
     "metadata": {},
     "output_type": "display_data"
    },
    {
     "data": {
      "text/html": [
       "<p><code>&lt;Bokeh Notebook handle for <strong>In[25]</strong>&gt;</code></p>"
      ],
      "text/plain": [
       "<bokeh.io._CommsHandle at 0x7f148b2b1f50>"
      ]
     },
     "execution_count": 25,
     "metadata": {},
     "output_type": "execute_result"
    }
   ],
   "source": [
    "plt_obj = dm.superset_allele_mask(am_29, [dm.di_4_815, dm.di_5_1460], \n",
    "                                  [dm.di_117_1685, dm.di_32_1361, dm.di_5_684], min_match=0.5)\n",
    "plt = plt_obj.do_plot()\n",
    "show(plt)"
   ]
  },
  {
   "cell_type": "code",
   "execution_count": 26,
   "metadata": {
    "collapsed": false
   },
   "outputs": [
    {
     "data": {
      "text/html": [
       "<table>\n",
       "<thead><tr><th style=\"text-align:center\">index</th><th style=\"text-align:center\">first</th><th style=\"text-align:center\">length</th><th style=\"text-align:center\">snps</th><th style=\"text-align:center\" colspan=2>alleles</th><th style=\"text-align:center\" colspan=2>matches</th><th style=\"text-align:center\" colspan=2>afr</th><th style=\"text-align:center\" colspan=2>afx</th><th style=\"text-align:center\" colspan=2>amr</th><th style=\"text-align:center\" colspan=2>eas</th><th style=\"text-align:center\" colspan=2>eur</th><th style=\"text-align:center\" colspan=2>sas</th><th style=\"text-align:center\" colspan=2>sax</th></tr></thead>\n",
       "<tr class=\"even\"><td style=\"text-align: right;\">353814</td><td style=\"text-align: right;\">136,406,646</td><td style=\"text-align: right;\">31,432</td><td style=\"text-align: right;\">5</td><td style=\"text-align: right;\">1460</td><td style=\"text-align: right;\">0.00</td><td style=\"text-align: right;\">1</td><td style=\"text-align: right;\">1.00</td><td style=\"text-align: right;\">0</td><td style=\"text-align: right;\">0.00</td><td style=\"text-align: right;\">0</td><td style=\"text-align: right;\">0.00</td><td style=\"text-align: right;\">0</td><td style=\"text-align: right;\">0.00</td><td style=\"text-align: right;\">1</td><td style=\"text-align: right;\">4.97</td><td style=\"text-align: right;\">0</td><td style=\"text-align: right;\">0.00</td><td style=\"text-align: right;\">0</td><td style=\"text-align: right;\">0.00</td><td style=\"text-align: right;\">0</td><td style=\"text-align: right;\">0.00</td></tr>\n",
       "<tr><td style=\"text-align: right;\">353906</td><td style=\"text-align: right;\">136,496,493</td><td style=\"text-align: right;\">57,432</td><td style=\"text-align: right;\">9</td><td style=\"text-align: right;\">1170</td><td style=\"text-align: right;\">0.00</td><td style=\"text-align: right;\">1</td><td style=\"text-align: right;\">1.00</td><td style=\"text-align: right;\">0</td><td style=\"text-align: right;\">0.00</td><td style=\"text-align: right;\">0</td><td style=\"text-align: right;\">0.00</td><td style=\"text-align: right;\">0</td><td style=\"text-align: right;\">0.00</td><td style=\"text-align: right;\">1</td><td style=\"text-align: right;\">4.97</td><td style=\"text-align: right;\">0</td><td style=\"text-align: right;\">0.00</td><td style=\"text-align: right;\">0</td><td style=\"text-align: right;\">0.00</td><td style=\"text-align: right;\">0</td><td style=\"text-align: right;\">0.00</td></tr>\n",
       "<tr class=\"even\"><td style=\"text-align: right;\">353849</td><td style=\"text-align: right;\">136,447,707</td><td style=\"text-align: right;\">42,559</td><td style=\"text-align: right;\">4</td><td style=\"text-align: right;\">1149</td><td style=\"text-align: right;\">0.00</td><td style=\"text-align: right;\">1</td><td style=\"text-align: right;\">1.00</td><td style=\"text-align: right;\">0</td><td style=\"text-align: right;\">0.00</td><td style=\"text-align: right;\">0</td><td style=\"text-align: right;\">0.00</td><td style=\"text-align: right;\">0</td><td style=\"text-align: right;\">0.00</td><td style=\"text-align: right;\">1</td><td style=\"text-align: right;\">4.97</td><td style=\"text-align: right;\">0</td><td style=\"text-align: right;\">0.00</td><td style=\"text-align: right;\">0</td><td style=\"text-align: right;\">0.00</td><td style=\"text-align: right;\">0</td><td style=\"text-align: right;\">0.00</td></tr>\n",
       "<tr><td style=\"text-align: right;\">353907</td><td style=\"text-align: right;\">136,496,805</td><td style=\"text-align: right;\">55,824</td><td style=\"text-align: right;\">9</td><td style=\"text-align: right;\">1023</td><td style=\"text-align: right;\">0.00</td><td style=\"text-align: right;\">1</td><td style=\"text-align: right;\">1.00</td><td style=\"text-align: right;\">0</td><td style=\"text-align: right;\">0.00</td><td style=\"text-align: right;\">0</td><td style=\"text-align: right;\">0.00</td><td style=\"text-align: right;\">0</td><td style=\"text-align: right;\">0.00</td><td style=\"text-align: right;\">1</td><td style=\"text-align: right;\">4.97</td><td style=\"text-align: right;\">0</td><td style=\"text-align: right;\">0.00</td><td style=\"text-align: right;\">0</td><td style=\"text-align: right;\">0.00</td><td style=\"text-align: right;\">0</td><td style=\"text-align: right;\">0.00</td></tr>\n",
       "<tr class=\"even\"><td style=\"text-align: right;\">353984</td><td style=\"text-align: right;\">136,556,805</td><td style=\"text-align: right;\">190,280</td><td style=\"text-align: right;\">39</td><td style=\"text-align: right;\">1014</td><td style=\"text-align: right;\">0.00</td><td style=\"text-align: right;\">1</td><td style=\"text-align: right;\">1.00</td><td style=\"text-align: right;\">0</td><td style=\"text-align: right;\">0.00</td><td style=\"text-align: right;\">0</td><td style=\"text-align: right;\">0.00</td><td style=\"text-align: right;\">0</td><td style=\"text-align: right;\">0.00</td><td style=\"text-align: right;\">1</td><td style=\"text-align: right;\">4.97</td><td style=\"text-align: right;\">0</td><td style=\"text-align: right;\">0.00</td><td style=\"text-align: right;\">0</td><td style=\"text-align: right;\">0.00</td><td style=\"text-align: right;\">0</td><td style=\"text-align: right;\">0.00</td></tr>\n",
       "<tr><td style=\"text-align: right;\">353935</td><td style=\"text-align: right;\">136,511,874</td><td style=\"text-align: right;\">21,321</td><td style=\"text-align: right;\">5</td><td style=\"text-align: right;\">976</td><td style=\"text-align: right;\">0.00</td><td style=\"text-align: right;\">1</td><td style=\"text-align: right;\">1.00</td><td style=\"text-align: right;\">0</td><td style=\"text-align: right;\">0.00</td><td style=\"text-align: right;\">0</td><td style=\"text-align: right;\">0.00</td><td style=\"text-align: right;\">0</td><td style=\"text-align: right;\">0.00</td><td style=\"text-align: right;\">1</td><td style=\"text-align: right;\">4.97</td><td style=\"text-align: right;\">0</td><td style=\"text-align: right;\">0.00</td><td style=\"text-align: right;\">0</td><td style=\"text-align: right;\">0.00</td><td style=\"text-align: right;\">0</td><td style=\"text-align: right;\">0.00</td></tr>\n",
       "<tr class=\"even\"><td style=\"text-align: right;\">353807</td><td style=\"text-align: right;\">136,403,994</td><td style=\"text-align: right;\">81,102</td><td style=\"text-align: right;\">13</td><td style=\"text-align: right;\">911</td><td style=\"text-align: right;\">0.00</td><td style=\"text-align: right;\">1</td><td style=\"text-align: right;\">1.00</td><td style=\"text-align: right;\">0</td><td style=\"text-align: right;\">0.00</td><td style=\"text-align: right;\">0</td><td style=\"text-align: right;\">0.00</td><td style=\"text-align: right;\">0</td><td style=\"text-align: right;\">0.00</td><td style=\"text-align: right;\">1</td><td style=\"text-align: right;\">4.97</td><td style=\"text-align: right;\">0</td><td style=\"text-align: right;\">0.00</td><td style=\"text-align: right;\">0</td><td style=\"text-align: right;\">0.00</td><td style=\"text-align: right;\">0</td><td style=\"text-align: right;\">0.00</td></tr>\n",
       "<tr><td style=\"text-align: right;\">353938</td><td style=\"text-align: right;\">136,514,709</td><td style=\"text-align: right;\">28,438</td><td style=\"text-align: right;\">6</td><td style=\"text-align: right;\">820</td><td style=\"text-align: right;\">0.00</td><td style=\"text-align: right;\">1</td><td style=\"text-align: right;\">1.00</td><td style=\"text-align: right;\">0</td><td style=\"text-align: right;\">0.00</td><td style=\"text-align: right;\">0</td><td style=\"text-align: right;\">0.00</td><td style=\"text-align: right;\">0</td><td style=\"text-align: right;\">0.00</td><td style=\"text-align: right;\">1</td><td style=\"text-align: right;\">4.97</td><td style=\"text-align: right;\">0</td><td style=\"text-align: right;\">0.00</td><td style=\"text-align: right;\">0</td><td style=\"text-align: right;\">0.00</td><td style=\"text-align: right;\">0</td><td style=\"text-align: right;\">0.00</td></tr>\n",
       "<tr class=\"even\"><td style=\"text-align: right;\">353384</td><td style=\"text-align: right;\">135,839,805</td><td style=\"text-align: right;\">84,662</td><td style=\"text-align: right;\">4</td><td style=\"text-align: right;\">815</td><td style=\"text-align: right;\">0.00</td><td style=\"text-align: right;\">1</td><td style=\"text-align: right;\">1.00</td><td style=\"text-align: right;\">0</td><td style=\"text-align: right;\">0.00</td><td style=\"text-align: right;\">0</td><td style=\"text-align: right;\">0.00</td><td style=\"text-align: right;\">0</td><td style=\"text-align: right;\">0.00</td><td style=\"text-align: right;\">1</td><td style=\"text-align: right;\">4.97</td><td style=\"text-align: right;\">0</td><td style=\"text-align: right;\">0.00</td><td style=\"text-align: right;\">0</td><td style=\"text-align: right;\">0.00</td><td style=\"text-align: right;\">0</td><td style=\"text-align: right;\">0.00</td></tr>\n",
       "</table>"
      ],
      "text/plain": [
       "<IPython.core.display.HTML object>"
      ]
     },
     "execution_count": 26,
     "metadata": {},
     "output_type": "execute_result"
    }
   ],
   "source": [
    "HTML(plt_obj.get_html())"
   ]
  },
  {
   "cell_type": "code",
   "execution_count": 27,
   "metadata": {
    "collapsed": false
   },
   "outputs": [
    {
     "data": {
      "text/html": [
       "\n",
       "\n",
       "    <div class=\"bk-root\">\n",
       "        <div class=\"plotdiv\" id=\"0664cd08-7a54-4271-b685-a0d417ddc541\"></div>\n",
       "    </div>\n",
       "<script type=\"text/javascript\">\n",
       "  \n",
       "  (function(global) {\n",
       "    function now() {\n",
       "      return new Date();\n",
       "    }\n",
       "  \n",
       "    if (typeof (window._bokeh_onload_callbacks) === \"undefined\") {\n",
       "      window._bokeh_onload_callbacks = [];\n",
       "    }\n",
       "  \n",
       "    function run_callbacks() {\n",
       "      window._bokeh_onload_callbacks.forEach(function(callback) { callback() });\n",
       "      delete window._bokeh_onload_callbacks\n",
       "      console.info(\"Bokeh: all callbacks have finished\");\n",
       "    }\n",
       "  \n",
       "    function load_libs(js_urls, callback) {\n",
       "      window._bokeh_onload_callbacks.push(callback);\n",
       "      if (window._bokeh_is_loading > 0) {\n",
       "        console.log(\"Bokeh: BokehJS is being loaded, scheduling callback at\", now());\n",
       "        return null;\n",
       "      }\n",
       "      if (js_urls == null || js_urls.length === 0) {\n",
       "        run_callbacks();\n",
       "        return null;\n",
       "      }\n",
       "      console.log(\"Bokeh: BokehJS not loaded, scheduling load and callback at\", now());\n",
       "      window._bokeh_is_loading = js_urls.length;\n",
       "      for (var i = 0; i < js_urls.length; i++) {\n",
       "        var url = js_urls[i];\n",
       "        var s = document.createElement('script');\n",
       "        s.src = url;\n",
       "        s.async = false;\n",
       "        s.onreadystatechange = s.onload = function() {\n",
       "          window._bokeh_is_loading--;\n",
       "          if (window._bokeh_is_loading === 0) {\n",
       "            console.log(\"Bokeh: all BokehJS libraries loaded\");\n",
       "            run_callbacks()\n",
       "          }\n",
       "        };\n",
       "        s.onerror = function() {\n",
       "          console.warn(\"failed to load library \" + url);\n",
       "        };\n",
       "        console.log(\"Bokeh: injecting script tag for BokehJS library: \", url);\n",
       "        document.getElementsByTagName(\"head\")[0].appendChild(s);\n",
       "      }\n",
       "    };var element = document.getElementById(\"0664cd08-7a54-4271-b685-a0d417ddc541\");\n",
       "    if (element == null) {\n",
       "      console.log(\"Bokeh: ERROR: autoload.js configured with elementid '0664cd08-7a54-4271-b685-a0d417ddc541' but no matching script tag was found. \")\n",
       "      return false;\n",
       "    }\n",
       "  \n",
       "    var js_urls = [];\n",
       "  \n",
       "    var inline_js = [\n",
       "      function(Bokeh) {\n",
       "        Bokeh.$(function() {\n",
       "            var docs_json = {\"0c47bbd9-cafe-4c70-a160-19191d656c33\":{\"roots\":{\"references\":[{\"attributes\":{\"line_color\":{\"field\":\"line_color\"},\"xs\":{\"field\":\"xs\"},\"ys\":{\"field\":\"ys\"}},\"id\":\"511721c1-422f-4883-8ab9-dd1fe34f2765\",\"type\":\"MultiLine\"},{\"attributes\":{\"plot\":null,\"text\":null},\"id\":\"1f5471a9-069e-426d-95a7-54f643fbdb2d\",\"type\":\"Title\"},{\"attributes\":{\"plot\":{\"id\":\"acbd01a1-0db5-45fb-8c5e-6034b90c60e9\",\"subtype\":\"Figure\",\"type\":\"Plot\"}},\"id\":\"9ae3af24-4779-4cd4-8234-52d152d0ca3a\",\"type\":\"HelpTool\"},{\"attributes\":{},\"id\":\"30f370d7-73df-414f-8d08-b172d40441f1\",\"type\":\"BasicTicker\"},{\"attributes\":{},\"id\":\"432bff9f-f99b-4c94-b7d7-716846dce9cc\",\"type\":\"ToolEvents\"},{\"attributes\":{\"formatter\":{\"id\":\"0fce541d-5f7c-4046-9d50-6e9da4c537e6\",\"type\":\"BasicTickFormatter\"},\"plot\":{\"id\":\"acbd01a1-0db5-45fb-8c5e-6034b90c60e9\",\"subtype\":\"Figure\",\"type\":\"Plot\"},\"ticker\":{\"id\":\"139a5553-4678-48b0-af36-ad9a749f5777\",\"type\":\"BasicTicker\"}},\"id\":\"b2e32747-b3ae-4553-9644-bfa7564af578\",\"type\":\"LinearAxis\"},{\"attributes\":{\"bottom\":{\"field\":\"bottom\"},\"fill_color\":{\"field\":\"fill_color\"},\"left\":{\"field\":\"left\"},\"line_color\":{\"value\":null},\"right\":{\"field\":\"right\"},\"top\":{\"field\":\"top\"}},\"id\":\"5276274b-a765-43a4-b650-10e85fc8cbf4\",\"type\":\"Quad\"},{\"attributes\":{\"plot\":{\"id\":\"acbd01a1-0db5-45fb-8c5e-6034b90c60e9\",\"subtype\":\"Figure\",\"type\":\"Plot\"}},\"id\":\"3838b796-65a1-486e-b14c-19d9c512db6c\",\"type\":\"WheelZoomTool\"},{\"attributes\":{\"data_source\":{\"id\":\"cc521344-4e8a-4020-a9d4-9a8cd0c00feb\",\"type\":\"ColumnDataSource\"},\"glyph\":{\"id\":\"511721c1-422f-4883-8ab9-dd1fe34f2765\",\"type\":\"MultiLine\"},\"hover_glyph\":null,\"nonselection_glyph\":{\"id\":\"9d0374dc-1bf6-416d-850f-492c3661ad17\",\"type\":\"MultiLine\"},\"selection_glyph\":null},\"id\":\"2c536107-6159-43c5-b10d-ad3e1bb966cd\",\"type\":\"GlyphRenderer\"},{\"attributes\":{\"callback\":null,\"end\":300},\"id\":\"2ffbd35a-808f-4f60-81a3-7aa4dd15d99c\",\"type\":\"Range1d\"},{\"attributes\":{\"level\":\"glyph\",\"plot\":{\"id\":\"acbd01a1-0db5-45fb-8c5e-6034b90c60e9\",\"subtype\":\"Figure\",\"type\":\"Plot\"},\"source\":{\"id\":\"de83fbb8-bd0a-4683-b667-7c08556595ee\",\"type\":\"ColumnDataSource\"},\"text\":{\"field\":\"vals\"},\"text_align\":\"center\",\"text_baseline\":\"middle\",\"text_font_size\":{\"value\":\"8pt\"},\"x\":{\"field\":\"x\"},\"y\":{\"field\":\"y\"}},\"id\":\"3ca13980-16d7-441f-9b87-7006e0e36428\",\"type\":\"LabelSet\"},{\"attributes\":{\"dimension\":1,\"plot\":{\"id\":\"acbd01a1-0db5-45fb-8c5e-6034b90c60e9\",\"subtype\":\"Figure\",\"type\":\"Plot\"},\"ticker\":{\"id\":\"30f370d7-73df-414f-8d08-b172d40441f1\",\"type\":\"BasicTicker\"}},\"id\":\"ed0cc2a9-9026-4a1d-acd4-c03480f703cb\",\"type\":\"Grid\"},{\"attributes\":{\"callback\":null,\"column_names\":[\"xs\",\"ys\",\"line_color\"],\"data\":{\"line_color\":[\"black\",\"black\",\"black\",\"black\",\"black\",\"black\",\"black\",\"black\",\"black\",\"black\",\"black\",\"black\",\"black\",\"black\",\"black\",\"black\",\"black\",\"black\",\"black\",\"black\",\"black\",\"black\",\"black\",\"black\",\"black\",\"black\",\"black\",\"black\",\"black\",\"black\",\"black\",\"black\",\"black\",\"black\",\"black\",\"black\",\"black\",\"black\",\"black\",\"black\",\"black\",\"black\",\"black\",\"black\",\"black\",\"black\",\"black\",\"black\",\"black\",\"black\",\"black\",\"black\",\"black\",\"black\",\"black\",\"black\",\"black\",\"black\",\"black\",\"black\",\"black\",\"black\",\"black\",\"black\",\"black\",\"black\",\"black\",\"black\",\"black\",\"black\",\"black\",\"black\",\"black\",\"black\",\"black\",\"black\",\"black\",\"black\",\"black\",\"black\",\"black\",\"black\",\"black\",\"black\",\"black\",\"black\",\"black\",\"black\",\"black\",\"black\",\"black\",\"black\",\"black\",\"black\",\"black\",\"black\",\"black\",\"black\",\"black\",\"black\",\"black\",\"black\",\"black\",\"black\",\"black\",\"black\",\"black\",\"black\",\"black\",\"black\",\"black\"],\"xs\":[[135839805,135839805],[135866750,135866750],[135886744,135886744],[135924467,135924467],[136398174,136398174],[136402117,136402117],[136403749,136403749],[136409073,136409073],[136410299,136410299],[136413359,136413359],[136416855,136416855],[136416941,136416941],[136418348,136418348],[136419961,136419961],[136420690,136420690],[136422171,136422171],[136428460,136428460],[136430866,136430866],[136432103,136432103],[136437507,136437507],[136439090,136439090],[136439517,136439517],[136444123,136444123],[136445526,136445526],[136445869,136445869],[136455600,136455600],[136456642,136456642],[136462441,136462441],[136470714,136470714],[136474098,136474098],[136494186,136494186],[136495300,136495300],[136495619,136495619],[136499166,136499166],[136502792,136502792],[136503157,136503157],[136507039,136507039],[136511575,136511575],[136518103,136518103],[136521514,136521514],[136522675,136522675],[136522941,136522941],[136526981,136526981],[136535410,136535410],[136539122,136539122],[136544197,136544197],[136550109,136550109],[136551694,136551694],[136553188,136553188],[136553639,136553639],[136554800,136554800],[136557319,136557319],[136558157,136558157],[136569848,136569848],[136575199,136575199],[136576577,136576577],[136578536,136578536],[136580287,136580287],[136583192,136583192],[136586958,136586958],[136588478,136588478],[136589612,136589612],[136591178,136591178],[136591859,136591859],[136593760,136593760],[136594158,136594158],[136603276,136603276],[136603366,136603366],[136608231,136608231],[136609975,136609975],[136610598,136610598],[136611624,136611624],[136613780,136613780],[136614255,136614255],[136614813,136614813],[136617524,136617524],[136622216,136622216],[136625602,136625602],[136629911,136629911],[136630757,136630757],[136630989,136630989],[136631031,136631031],[136633771,136633771],[136636324,136636324],[136638216,136638216],[136640233,136640233],[136641882,136641882],[136643555,136643555],[136658345,136658345],[136670298,136670298],[136685228,136685228],[136696138,136696138],[136740900,136740900],[136765951,136765951],[136501840,136501840],[136505546,136505546],[136516748,136516748],[136522710,136522710],[136528004,136528004],[136539513,136539513],[136544752,136544752],[136546110,136546110],[136553529,136553529],[136555659,136555659],[136682274,136682274],[136691825,136691825],[136698098,136698098],[136721603,136721603],[136721995,136721995],[136755684,136755684],[136775898,136775898]],\"ys\":[[50,90],[50,90],[50,90],[50,90],[50,94],[50,94],[50,94],[50,94],[50,94],[50,94],[50,94],[50,94],[50,94],[50,94],[50,94],[50,94],[50,94],[50,94],[50,94],[50,94],[50,94],[50,94],[50,94],[50,94],[50,94],[50,94],[50,94],[50,94],[50,94],[50,94],[50,95],[50,95],[50,95],[50,95],[50,95],[50,95],[50,95],[50,95],[50,95],[50,95],[50,95],[50,95],[50,95],[50,95],[50,95],[50,95],[50,95],[50,95],[50,95],[50,95],[50,95],[50,95],[50,95],[50,95],[50,95],[50,95],[50,95],[50,95],[50,95],[50,95],[50,95],[50,95],[50,95],[50,95],[50,95],[50,95],[50,95],[50,95],[50,95],[50,95],[50,95],[50,95],[50,95],[50,95],[50,95],[50,95],[50,95],[50,95],[50,95],[50,95],[50,95],[50,95],[50,95],[50,95],[50,95],[50,95],[50,95],[50,95],[50,95],[50,95],[50,95],[50,95],[50,95],[50,95],[150,198],[150,198],[150,198],[150,198],[150,198],[150,198],[150,198],[150,198],[150,198],[150,198],[150,197],[150,197],[150,197],[150,197],[150,197],[150,197],[150,197]]}},\"id\":\"cc521344-4e8a-4020-a9d4-9a8cd0c00feb\",\"type\":\"ColumnDataSource\"},{\"attributes\":{},\"id\":\"139a5553-4678-48b0-af36-ad9a749f5777\",\"type\":\"BasicTicker\"},{\"attributes\":{\"callback\":null,\"column_names\":[\"right\",\"bottom\",\"top\",\"left\",\"fill_color\"],\"data\":{\"bottom\":[50,50,50,150,150],\"fill_color\":[\"#61c4c4\",\"#61c461\",\"#61c461\",\"#808080\",\"#61c461\"],\"left\":[135839805,136398174,136494186,136501840,136682274],\"right\":[135924467,136474098,136765951,136555659,136775898],\"top\":[90,94,95,198,197]}},\"id\":\"0cfc100b-ebbb-4b38-8240-71044aafabc0\",\"type\":\"ColumnDataSource\"},{\"attributes\":{\"overlay\":{\"id\":\"0ea626e7-6f36-4338-a716-ece0dcc0d6f4\",\"type\":\"BoxAnnotation\"},\"plot\":{\"id\":\"acbd01a1-0db5-45fb-8c5e-6034b90c60e9\",\"subtype\":\"Figure\",\"type\":\"Plot\"}},\"id\":\"6e018c88-18d6-4709-a88f-1231573aff59\",\"type\":\"BoxZoomTool\"},{\"attributes\":{\"data_source\":{\"id\":\"fd6d69e5-3214-4173-b3b5-ef6324d23d8a\",\"type\":\"ColumnDataSource\"},\"glyph\":{\"id\":\"922805b1-0ace-427c-90b8-4096c63db9f3\",\"type\":\"Quad\"},\"hover_glyph\":null,\"nonselection_glyph\":{\"id\":\"5fbf2402-0f16-4a27-9f3b-56e1bd4ded7a\",\"type\":\"Quad\"},\"selection_glyph\":null},\"id\":\"7f8835b0-b7e4-48f5-9f9c-4c80ff5ca9b3\",\"type\":\"GlyphRenderer\"},{\"attributes\":{\"callback\":null,\"end\":136786630,\"start\":135757320},\"id\":\"ff5026fc-a1f4-435b-bdb1-55f17b369497\",\"type\":\"Range1d\"},{\"attributes\":{\"plot\":{\"id\":\"acbd01a1-0db5-45fb-8c5e-6034b90c60e9\",\"subtype\":\"Figure\",\"type\":\"Plot\"},\"ticker\":{\"id\":\"139a5553-4678-48b0-af36-ad9a749f5777\",\"type\":\"BasicTicker\"}},\"id\":\"30f9076c-8a66-4b5a-8d35-c5d8e4e9ed10\",\"type\":\"Grid\"},{\"attributes\":{\"plot\":{\"id\":\"acbd01a1-0db5-45fb-8c5e-6034b90c60e9\",\"subtype\":\"Figure\",\"type\":\"Plot\"}},\"id\":\"608b5b66-6d58-4c93-92db-caa8afb2bc8f\",\"type\":\"PanTool\"},{\"attributes\":{\"plot\":{\"id\":\"acbd01a1-0db5-45fb-8c5e-6034b90c60e9\",\"subtype\":\"Figure\",\"type\":\"Plot\"}},\"id\":\"fb13df17-65de-4e47-ba01-724b9f8e8e6e\",\"type\":\"SaveTool\"},{\"attributes\":{\"active_drag\":\"auto\",\"active_scroll\":\"auto\",\"active_tap\":\"auto\",\"tools\":[{\"id\":\"608b5b66-6d58-4c93-92db-caa8afb2bc8f\",\"type\":\"PanTool\"},{\"id\":\"3838b796-65a1-486e-b14c-19d9c512db6c\",\"type\":\"WheelZoomTool\"},{\"id\":\"6e018c88-18d6-4709-a88f-1231573aff59\",\"type\":\"BoxZoomTool\"},{\"id\":\"fb13df17-65de-4e47-ba01-724b9f8e8e6e\",\"type\":\"SaveTool\"},{\"id\":\"5e2583e4-8a67-432d-9f1b-84d6147f6e23\",\"type\":\"ResetTool\"},{\"id\":\"9ae3af24-4779-4cd4-8234-52d152d0ca3a\",\"type\":\"HelpTool\"}]},\"id\":\"81bfcf8a-6b9a-4e5a-a0e1-0377a17693be\",\"type\":\"Toolbar\"},{\"attributes\":{\"data_source\":{\"id\":\"0cfc100b-ebbb-4b38-8240-71044aafabc0\",\"type\":\"ColumnDataSource\"},\"glyph\":{\"id\":\"5276274b-a765-43a4-b650-10e85fc8cbf4\",\"type\":\"Quad\"},\"hover_glyph\":null,\"nonselection_glyph\":{\"id\":\"722b9151-ddc0-4f67-86d7-c0b13b89e619\",\"type\":\"Quad\"},\"selection_glyph\":null},\"id\":\"5d3ac447-ae03-4fdf-970c-693bc82fe506\",\"type\":\"GlyphRenderer\"},{\"attributes\":{\"bottom\":{\"field\":\"bottom\"},\"fill_alpha\":{\"value\":0.1},\"fill_color\":{\"value\":\"#1f77b4\"},\"left\":{\"field\":\"left\"},\"line_alpha\":{\"value\":0.1},\"line_color\":{\"value\":\"#1f77b4\"},\"right\":{\"field\":\"right\"},\"top\":{\"field\":\"top\"}},\"id\":\"5fbf2402-0f16-4a27-9f3b-56e1bd4ded7a\",\"type\":\"Quad\"},{\"attributes\":{\"bottom_units\":\"screen\",\"fill_alpha\":{\"value\":0.5},\"fill_color\":{\"value\":\"lightgrey\"},\"left_units\":\"screen\",\"level\":\"overlay\",\"line_alpha\":{\"value\":1.0},\"line_color\":{\"value\":\"black\"},\"line_dash\":[4,4],\"line_width\":{\"value\":2},\"plot\":null,\"render_mode\":\"css\",\"right_units\":\"screen\",\"top_units\":\"screen\"},\"id\":\"0ea626e7-6f36-4338-a716-ece0dcc0d6f4\",\"type\":\"BoxAnnotation\"},{\"attributes\":{\"line_alpha\":{\"value\":0.1},\"line_color\":{\"value\":\"#1f77b4\"},\"xs\":{\"field\":\"xs\"},\"ys\":{\"field\":\"ys\"}},\"id\":\"9d0374dc-1bf6-416d-850f-492c3661ad17\",\"type\":\"MultiLine\"},{\"attributes\":{\"bottom\":{\"field\":\"bottom\"},\"fill_color\":{\"value\":\"white\"},\"left\":{\"field\":\"left\"},\"right\":{\"field\":\"right\"},\"top\":{\"field\":\"top\"}},\"id\":\"922805b1-0ace-427c-90b8-4096c63db9f3\",\"type\":\"Quad\"},{\"attributes\":{\"below\":[{\"id\":\"b2e32747-b3ae-4553-9644-bfa7564af578\",\"type\":\"LinearAxis\"}],\"left\":[{\"id\":\"042994c4-8936-4508-8f24-4bb7f58dcebf\",\"type\":\"LinearAxis\"}],\"plot_height\":300,\"plot_width\":900,\"renderers\":[{\"id\":\"b2e32747-b3ae-4553-9644-bfa7564af578\",\"type\":\"LinearAxis\"},{\"id\":\"30f9076c-8a66-4b5a-8d35-c5d8e4e9ed10\",\"type\":\"Grid\"},{\"id\":\"042994c4-8936-4508-8f24-4bb7f58dcebf\",\"type\":\"LinearAxis\"},{\"id\":\"ed0cc2a9-9026-4a1d-acd4-c03480f703cb\",\"type\":\"Grid\"},{\"id\":\"0ea626e7-6f36-4338-a716-ece0dcc0d6f4\",\"type\":\"BoxAnnotation\"},{\"id\":\"5d3ac447-ae03-4fdf-970c-693bc82fe506\",\"type\":\"GlyphRenderer\"},{\"id\":\"2c536107-6159-43c5-b10d-ad3e1bb966cd\",\"type\":\"GlyphRenderer\"},{\"id\":\"3337a97b-32f4-4bf5-91f5-425d74a5c057\",\"type\":\"LabelSet\"},{\"id\":\"7f8835b0-b7e4-48f5-9f9c-4c80ff5ca9b3\",\"type\":\"GlyphRenderer\"},{\"id\":\"3ca13980-16d7-441f-9b87-7006e0e36428\",\"type\":\"LabelSet\"}],\"title\":{\"id\":\"1f5471a9-069e-426d-95a7-54f643fbdb2d\",\"type\":\"Title\"},\"tool_events\":{\"id\":\"432bff9f-f99b-4c94-b7d7-716846dce9cc\",\"type\":\"ToolEvents\"},\"toolbar\":{\"id\":\"81bfcf8a-6b9a-4e5a-a0e1-0377a17693be\",\"type\":\"Toolbar\"},\"toolbar_location\":null,\"x_range\":{\"id\":\"ff5026fc-a1f4-435b-bdb1-55f17b369497\",\"type\":\"Range1d\"},\"y_range\":{\"id\":\"2ffbd35a-808f-4f60-81a3-7aa4dd15d99c\",\"type\":\"Range1d\"}},\"id\":\"acbd01a1-0db5-45fb-8c5e-6034b90c60e9\",\"subtype\":\"Figure\",\"type\":\"Plot\"},{\"attributes\":{},\"id\":\"20b16a13-be1a-4854-a89d-555955ba9158\",\"type\":\"BasicTickFormatter\"},{\"attributes\":{\"plot\":{\"id\":\"acbd01a1-0db5-45fb-8c5e-6034b90c60e9\",\"subtype\":\"Figure\",\"type\":\"Plot\"}},\"id\":\"5e2583e4-8a67-432d-9f1b-84d6147f6e23\",\"type\":\"ResetTool\"},{\"attributes\":{\"callback\":null,\"column_names\":[\"y\",\"x\",\"vals\"],\"data\":{\"vals\":[\"4_815\",\"26_1414\",\"64_1575\",\"10_2206\",\"7_1868\"],\"x\":[135839805,136398174,136494186,136501840,136682274],\"y\":[95.0,99.0,100.0,203.0,202.0]}},\"id\":\"2b4401a2-194b-4585-83c5-ed30df940780\",\"type\":\"ColumnDataSource\"},{\"attributes\":{\"bottom\":{\"field\":\"bottom\"},\"fill_alpha\":{\"value\":0.1},\"fill_color\":{\"value\":\"#1f77b4\"},\"left\":{\"field\":\"left\"},\"line_alpha\":{\"value\":0.1},\"line_color\":{\"value\":\"#1f77b4\"},\"right\":{\"field\":\"right\"},\"top\":{\"field\":\"top\"}},\"id\":\"722b9151-ddc0-4f67-86d7-c0b13b89e619\",\"type\":\"Quad\"},{\"attributes\":{\"formatter\":{\"id\":\"20b16a13-be1a-4854-a89d-555955ba9158\",\"type\":\"BasicTickFormatter\"},\"plot\":{\"id\":\"acbd01a1-0db5-45fb-8c5e-6034b90c60e9\",\"subtype\":\"Figure\",\"type\":\"Plot\"},\"ticker\":{\"id\":\"30f370d7-73df-414f-8d08-b172d40441f1\",\"type\":\"BasicTicker\"},\"visible\":null},\"id\":\"042994c4-8936-4508-8f24-4bb7f58dcebf\",\"type\":\"LinearAxis\"},{\"attributes\":{\"callback\":null,\"column_names\":[\"y\",\"x\",\"vals\"],\"data\":{\"vals\":[\"RAB3GAP1\",\"ZRANB3\",\"R3HDM1\",\"UBXN4\",\"LCT\",\"MCM6\",\"DARS\"],\"x\":[135869057.0,136122878.0,136385961.0,136520911.0,136570082.5,136615621.5,136703738.0],\"y\":[260.0,260.0,260.0,260.0,260.0,260.0,260.0]}},\"id\":\"de83fbb8-bd0a-4683-b667-7c08556595ee\",\"type\":\"ColumnDataSource\"},{\"attributes\":{},\"id\":\"0fce541d-5f7c-4046-9d50-6e9da4c537e6\",\"type\":\"BasicTickFormatter\"},{\"attributes\":{\"level\":\"glyph\",\"plot\":{\"id\":\"acbd01a1-0db5-45fb-8c5e-6034b90c60e9\",\"subtype\":\"Figure\",\"type\":\"Plot\"},\"source\":{\"id\":\"2b4401a2-194b-4585-83c5-ed30df940780\",\"type\":\"ColumnDataSource\"},\"text\":{\"field\":\"vals\"},\"text_font_size\":{\"value\":\"9pt\"},\"text_font_style\":\"bold\",\"x\":{\"field\":\"x\"},\"y\":{\"field\":\"y\"}},\"id\":\"3337a97b-32f4-4bf5-91f5-425d74a5c057\",\"type\":\"LabelSet\"},{\"attributes\":{\"callback\":null,\"column_names\":[\"right\",\"bottom\",\"top\",\"left\"],\"data\":{\"bottom\":[245,245,245,245,245,245,245],\"left\":[135809835,135957574,136289083,136499189,136545415,136597196,136664254],\"right\":[135928279,136288182,136482839,136542633,136594750,136634047,136743222],\"top\":[275,275,275,275,275,275,275]}},\"id\":\"fd6d69e5-3214-4173-b3b5-ef6324d23d8a\",\"type\":\"ColumnDataSource\"}],\"root_ids\":[\"acbd01a1-0db5-45fb-8c5e-6034b90c60e9\"]},\"title\":\"Bokeh Application\",\"version\":\"0.12.0\"}};\n",
       "            var render_items = [{\"docid\":\"0c47bbd9-cafe-4c70-a160-19191d656c33\",\"elementid\":\"0664cd08-7a54-4271-b685-a0d417ddc541\",\"modelid\":\"acbd01a1-0db5-45fb-8c5e-6034b90c60e9\",\"notebook_comms_target\":\"7e46d166-e8af-482a-8c1c-c53f9ef91b03\"}];\n",
       "            \n",
       "            Bokeh.embed.embed_items(docs_json, render_items);\n",
       "        });\n",
       "      },\n",
       "      function(Bokeh) {\n",
       "      }\n",
       "    ];\n",
       "  \n",
       "    function run_inline_js() {\n",
       "      for (var i = 0; i < inline_js.length; i++) {\n",
       "        inline_js[i](window.Bokeh);\n",
       "      }\n",
       "    }\n",
       "  \n",
       "    if (window._bokeh_is_loading === 0) {\n",
       "      console.log(\"Bokeh: BokehJS loaded, going straight to plotting\");\n",
       "      run_inline_js();\n",
       "    } else {\n",
       "      load_libs(js_urls, function() {\n",
       "        console.log(\"Bokeh: BokehJS plotting callback run at\", now());\n",
       "        run_inline_js();\n",
       "      });\n",
       "    }\n",
       "  }(this));\n",
       "</script>"
      ]
     },
     "metadata": {},
     "output_type": "display_data"
    },
    {
     "data": {
      "text/html": [
       "<p><code>&lt;Bokeh Notebook handle for <strong>In[27]</strong>&gt;</code></p>"
      ],
      "text/plain": [
       "<bokeh.io._CommsHandle at 0x7f148b33e990>"
      ]
     },
     "execution_count": 27,
     "metadata": {},
     "output_type": "execute_result"
    }
   ],
   "source": [
    "plt_obj = dm.superset_allele_mask(am_29, [dm.di_4_815], [dm.di_5_1460, dm.di_32_1361, dm.di_5_684], min_match=0.5)\n",
    "plt = plt_obj.do_plot()\n",
    "show(plt)"
   ]
  },
  {
   "cell_type": "code",
   "execution_count": 28,
   "metadata": {
    "collapsed": false
   },
   "outputs": [
    {
     "data": {
      "text/html": [
       "<table>\n",
       "<thead><tr><th style=\"text-align:center\">index</th><th style=\"text-align:center\">first</th><th style=\"text-align:center\">length</th><th style=\"text-align:center\">snps</th><th style=\"text-align:center\" colspan=2>alleles</th><th style=\"text-align:center\" colspan=2>matches</th><th style=\"text-align:center\" colspan=2>afr</th><th style=\"text-align:center\" colspan=2>afx</th><th style=\"text-align:center\" colspan=2>amr</th><th style=\"text-align:center\" colspan=2>eas</th><th style=\"text-align:center\" colspan=2>eur</th><th style=\"text-align:center\" colspan=2>sas</th><th style=\"text-align:center\" colspan=2>sax</th></tr></thead>\n",
       "<tr class=\"even\"><td style=\"text-align: right;\">353921</td><td style=\"text-align: right;\">136,501,840</td><td style=\"text-align: right;\">53,819</td><td style=\"text-align: right;\">10</td><td style=\"text-align: right;\">2206</td><td style=\"text-align: right;\">0.00</td><td style=\"text-align: right;\">1</td><td style=\"text-align: right;\">1.00</td><td style=\"text-align: right;\">0</td><td style=\"text-align: right;\">0.00</td><td style=\"text-align: right;\">0</td><td style=\"text-align: right;\">0.00</td><td style=\"text-align: right;\">0</td><td style=\"text-align: right;\">0.00</td><td style=\"text-align: right;\">1</td><td style=\"text-align: right;\">4.97</td><td style=\"text-align: right;\">0</td><td style=\"text-align: right;\">0.00</td><td style=\"text-align: right;\">0</td><td style=\"text-align: right;\">0.00</td><td style=\"text-align: right;\">0</td><td style=\"text-align: right;\">0.00</td></tr>\n",
       "<tr><td style=\"text-align: right;\">354170</td><td style=\"text-align: right;\">136,682,274</td><td style=\"text-align: right;\">93,624</td><td style=\"text-align: right;\">7</td><td style=\"text-align: right;\">1868</td><td style=\"text-align: right;\">0.00</td><td style=\"text-align: right;\">1</td><td style=\"text-align: right;\">1.00</td><td style=\"text-align: right;\">0</td><td style=\"text-align: right;\">0.00</td><td style=\"text-align: right;\">0</td><td style=\"text-align: right;\">0.00</td><td style=\"text-align: right;\">0</td><td style=\"text-align: right;\">0.00</td><td style=\"text-align: right;\">1</td><td style=\"text-align: right;\">4.97</td><td style=\"text-align: right;\">0</td><td style=\"text-align: right;\">0.00</td><td style=\"text-align: right;\">0</td><td style=\"text-align: right;\">0.00</td><td style=\"text-align: right;\">0</td><td style=\"text-align: right;\">0.00</td></tr>\n",
       "<tr class=\"even\"><td style=\"text-align: right;\">353901</td><td style=\"text-align: right;\">136,494,186</td><td style=\"text-align: right;\">271,765</td><td style=\"text-align: right;\">64</td><td style=\"text-align: right;\">1575</td><td style=\"text-align: right;\">0.00</td><td style=\"text-align: right;\">1</td><td style=\"text-align: right;\">1.00</td><td style=\"text-align: right;\">0</td><td style=\"text-align: right;\">0.00</td><td style=\"text-align: right;\">0</td><td style=\"text-align: right;\">0.00</td><td style=\"text-align: right;\">0</td><td style=\"text-align: right;\">0.00</td><td style=\"text-align: right;\">1</td><td style=\"text-align: right;\">4.97</td><td style=\"text-align: right;\">0</td><td style=\"text-align: right;\">0.00</td><td style=\"text-align: right;\">0</td><td style=\"text-align: right;\">0.00</td><td style=\"text-align: right;\">0</td><td style=\"text-align: right;\">0.00</td></tr>\n",
       "<tr><td style=\"text-align: right;\">353797</td><td style=\"text-align: right;\">136,398,174</td><td style=\"text-align: right;\">75,924</td><td style=\"text-align: right;\">26</td><td style=\"text-align: right;\">1414</td><td style=\"text-align: right;\">0.00</td><td style=\"text-align: right;\">1</td><td style=\"text-align: right;\">1.00</td><td style=\"text-align: right;\">0</td><td style=\"text-align: right;\">0.00</td><td style=\"text-align: right;\">0</td><td style=\"text-align: right;\">0.00</td><td style=\"text-align: right;\">0</td><td style=\"text-align: right;\">0.00</td><td style=\"text-align: right;\">1</td><td style=\"text-align: right;\">4.97</td><td style=\"text-align: right;\">0</td><td style=\"text-align: right;\">0.00</td><td style=\"text-align: right;\">0</td><td style=\"text-align: right;\">0.00</td><td style=\"text-align: right;\">0</td><td style=\"text-align: right;\">0.00</td></tr>\n",
       "<tr class=\"even\"><td style=\"text-align: right;\">353384</td><td style=\"text-align: right;\">135,839,805</td><td style=\"text-align: right;\">84,662</td><td style=\"text-align: right;\">4</td><td style=\"text-align: right;\">815</td><td style=\"text-align: right;\">0.00</td><td style=\"text-align: right;\">1</td><td style=\"text-align: right;\">1.00</td><td style=\"text-align: right;\">0</td><td style=\"text-align: right;\">0.00</td><td style=\"text-align: right;\">0</td><td style=\"text-align: right;\">0.00</td><td style=\"text-align: right;\">0</td><td style=\"text-align: right;\">0.00</td><td style=\"text-align: right;\">1</td><td style=\"text-align: right;\">4.97</td><td style=\"text-align: right;\">0</td><td style=\"text-align: right;\">0.00</td><td style=\"text-align: right;\">0</td><td style=\"text-align: right;\">0.00</td><td style=\"text-align: right;\">0</td><td style=\"text-align: right;\">0.00</td></tr>\n",
       "</table>"
      ],
      "text/plain": [
       "<IPython.core.display.HTML object>"
      ]
     },
     "execution_count": 28,
     "metadata": {},
     "output_type": "execute_result"
    }
   ],
   "source": [
    "HTML(plt_obj.get_html())"
   ]
  },
  {
   "cell_type": "markdown",
   "metadata": {},
   "source": [
    "<div style=\"width:700px\">\n",
    "<p>\n",
    "The following plot shows the series expressed by the 1 chromosome sample that expresses\n",
    "29 193_843 SNPs but does not express the series 4_815\n",
    "</div>"
   ]
  },
  {
   "cell_type": "code",
   "execution_count": 48,
   "metadata": {
    "collapsed": false,
    "scrolled": false
   },
   "outputs": [
    {
     "data": {
      "text/html": [
       "\n",
       "\n",
       "    <div class=\"bk-root\">\n",
       "        <div class=\"plotdiv\" id=\"9a1a94e5-af0c-4424-a886-c0ec3ce3f500\"></div>\n",
       "    </div>\n",
       "<script type=\"text/javascript\">\n",
       "  \n",
       "  (function(global) {\n",
       "    function now() {\n",
       "      return new Date();\n",
       "    }\n",
       "  \n",
       "    if (typeof (window._bokeh_onload_callbacks) === \"undefined\") {\n",
       "      window._bokeh_onload_callbacks = [];\n",
       "    }\n",
       "  \n",
       "    function run_callbacks() {\n",
       "      window._bokeh_onload_callbacks.forEach(function(callback) { callback() });\n",
       "      delete window._bokeh_onload_callbacks\n",
       "      console.info(\"Bokeh: all callbacks have finished\");\n",
       "    }\n",
       "  \n",
       "    function load_libs(js_urls, callback) {\n",
       "      window._bokeh_onload_callbacks.push(callback);\n",
       "      if (window._bokeh_is_loading > 0) {\n",
       "        console.log(\"Bokeh: BokehJS is being loaded, scheduling callback at\", now());\n",
       "        return null;\n",
       "      }\n",
       "      if (js_urls == null || js_urls.length === 0) {\n",
       "        run_callbacks();\n",
       "        return null;\n",
       "      }\n",
       "      console.log(\"Bokeh: BokehJS not loaded, scheduling load and callback at\", now());\n",
       "      window._bokeh_is_loading = js_urls.length;\n",
       "      for (var i = 0; i < js_urls.length; i++) {\n",
       "        var url = js_urls[i];\n",
       "        var s = document.createElement('script');\n",
       "        s.src = url;\n",
       "        s.async = false;\n",
       "        s.onreadystatechange = s.onload = function() {\n",
       "          window._bokeh_is_loading--;\n",
       "          if (window._bokeh_is_loading === 0) {\n",
       "            console.log(\"Bokeh: all BokehJS libraries loaded\");\n",
       "            run_callbacks()\n",
       "          }\n",
       "        };\n",
       "        s.onerror = function() {\n",
       "          console.warn(\"failed to load library \" + url);\n",
       "        };\n",
       "        console.log(\"Bokeh: injecting script tag for BokehJS library: \", url);\n",
       "        document.getElementsByTagName(\"head\")[0].appendChild(s);\n",
       "      }\n",
       "    };var element = document.getElementById(\"9a1a94e5-af0c-4424-a886-c0ec3ce3f500\");\n",
       "    if (element == null) {\n",
       "      console.log(\"Bokeh: ERROR: autoload.js configured with elementid '9a1a94e5-af0c-4424-a886-c0ec3ce3f500' but no matching script tag was found. \")\n",
       "      return false;\n",
       "    }\n",
       "  \n",
       "    var js_urls = [];\n",
       "  \n",
       "    var inline_js = [\n",
       "      function(Bokeh) {\n",
       "        Bokeh.$(function() {\n",
       "            var docs_json = {\"d893e3a9-fcb9-48ba-9dba-23a43a60e5b4\":{\"roots\":{\"references\":[{\"attributes\":{\"bottom\":{\"field\":\"bottom\"},\"fill_alpha\":{\"value\":0.1},\"fill_color\":{\"value\":\"#1f77b4\"},\"left\":{\"field\":\"left\"},\"line_alpha\":{\"value\":0.1},\"line_color\":{\"value\":\"#1f77b4\"},\"right\":{\"field\":\"right\"},\"top\":{\"field\":\"top\"}},\"id\":\"aa67a7c7-6a94-4a58-9bce-aca481bf674f\",\"type\":\"Quad\"},{\"attributes\":{\"callback\":null,\"column_names\":[\"xs\",\"ys\",\"line_color\"],\"data\":{\"line_color\":[\"black\",\"black\",\"black\",\"black\",\"black\",\"black\",\"black\",\"black\",\"black\",\"black\",\"black\",\"black\",\"black\",\"black\",\"black\",\"black\",\"black\",\"black\",\"black\",\"black\",\"black\",\"black\",\"black\",\"black\",\"black\",\"black\",\"black\",\"black\",\"black\",\"black\",\"black\",\"black\",\"black\",\"black\",\"black\",\"black\",\"black\",\"black\",\"black\",\"black\",\"black\",\"black\",\"black\",\"black\",\"black\",\"black\",\"black\",\"black\",\"black\",\"black\",\"black\",\"black\",\"black\",\"black\",\"black\",\"black\",\"black\",\"black\",\"black\",\"black\",\"black\",\"black\",\"black\",\"black\",\"black\",\"black\",\"black\",\"black\",\"black\",\"black\",\"black\",\"black\",\"black\",\"black\",\"black\",\"black\",\"black\",\"black\",\"black\",\"black\",\"black\",\"black\",\"black\",\"black\",\"black\",\"black\",\"black\",\"black\",\"black\",\"black\",\"black\",\"black\",\"black\",\"black\",\"black\",\"black\",\"black\",\"black\",\"black\",\"black\",\"black\",\"black\",\"black\",\"black\",\"black\",\"black\",\"black\",\"black\",\"black\",\"black\",\"black\",\"black\",\"black\",\"black\",\"black\",\"black\",\"black\",\"black\",\"black\",\"black\",\"black\",\"black\",\"black\",\"black\",\"black\",\"black\",\"black\",\"black\",\"black\",\"black\",\"black\",\"black\",\"black\",\"black\",\"black\",\"black\",\"black\",\"black\",\"black\",\"black\",\"black\",\"black\",\"black\",\"black\",\"black\",\"black\",\"black\",\"black\",\"black\",\"black\",\"black\",\"black\",\"black\",\"black\",\"black\",\"black\",\"black\",\"black\",\"black\",\"black\",\"black\",\"black\",\"black\",\"black\",\"black\",\"black\",\"black\",\"black\",\"black\",\"black\",\"black\",\"black\",\"black\",\"black\",\"black\",\"black\",\"black\",\"black\",\"black\",\"black\",\"black\",\"black\",\"black\",\"black\",\"black\",\"black\",\"black\",\"black\",\"black\",\"black\",\"black\",\"black\",\"black\",\"black\",\"black\",\"black\",\"black\",\"black\",\"black\",\"black\",\"black\",\"black\",\"black\",\"black\",\"black\",\"black\",\"black\",\"black\",\"black\",\"black\",\"black\",\"black\",\"black\",\"black\",\"black\",\"black\",\"black\",\"black\",\"black\",\"black\",\"black\",\"black\",\"black\",\"black\",\"black\",\"black\",\"black\",\"black\",\"black\",\"black\",\"black\",\"black\",\"black\",\"black\",\"black\",\"black\",\"black\",\"black\",\"black\",\"black\",\"black\",\"black\",\"black\",\"black\",\"black\",\"black\",\"black\",\"black\",\"black\",\"black\",\"black\",\"black\",\"black\",\"black\",\"black\",\"black\",\"black\",\"black\",\"black\",\"black\",\"black\",\"black\",\"black\",\"black\",\"black\",\"black\",\"black\",\"black\",\"black\",\"black\",\"black\",\"black\",\"black\",\"black\",\"black\",\"black\",\"black\",\"black\",\"black\",\"black\",\"black\",\"black\",\"black\",\"black\",\"black\",\"black\",\"black\",\"black\",\"black\",\"black\",\"black\",\"black\",\"black\",\"black\",\"black\",\"black\",\"black\",\"black\",\"black\",\"black\",\"black\",\"black\",\"black\",\"black\",\"black\",\"black\",\"black\",\"black\",\"black\",\"black\",\"black\",\"black\",\"black\",\"black\",\"black\"],\"xs\":[[135758231,135758231],[135758520,135758520],[135766072,135766072],[135773420,135773420],[135773446,135773446],[135773617,135773617],[135773692,135773692],[135774681,135774681],[135775049,135775049],[135776430,135776430],[135778656,135778656],[135780168,135780168],[135780587,135780587],[135781301,135781301],[135781522,135781522],[135781635,135781635],[135782456,135782456],[135783157,135783157],[135783366,135783366],[135783367,135783367],[135784227,135784227],[135784733,135784733],[135785066,135785066],[135785068,135785068],[135785149,135785149],[135787148,135787148],[135787642,135787642],[135789405,135789405],[135789472,135789472],[135789682,135789682],[135789784,135789784],[135792338,135792338],[135792528,135792528],[135793565,135793565],[135793684,135793684],[135793845,135793845],[135794367,135794367],[135794986,135794986],[135795040,135795040],[135795095,135795095],[135795150,135795150],[135795385,135795385],[135795396,135795396],[135795443,135795443],[135795595,135795595],[135796000,135796000],[135796155,135796155],[135796410,135796410],[135796965,135796965],[135797223,135797223],[135797747,135797747],[135798082,135798082],[135798758,135798758],[135799082,135799082],[135800085,135800085],[135800601,135800601],[135800757,135800757],[135801228,135801228],[135801956,135801956],[135802020,135802020],[135802028,135802028],[135802050,135802050],[135802148,135802148],[135803766,135803766],[135809241,135809241],[135812969,135812969],[135814716,135814716],[135818907,135818907],[135829432,135829432],[135832131,135832131],[135849613,135849613],[135853807,135853807],[135859923,135859923],[135860305,135860305],[135861497,135861497],[135863143,135863143],[135864294,135864294],[135871624,135871624],[135872646,135872646],[135874038,135874038],[135874622,135874622],[135878814,135878814],[135880013,135880013],[135884487,135884487],[135885357,135885357],[135893853,135893853],[135895809,135895809],[135895879,135895879],[135899069,135899069],[135909462,135909462],[135912977,135912977],[135914038,135914038],[135921839,135921839],[135925002,135925002],[135928312,135928312],[135935049,135935049],[135962711,135962711],[135984172,135984172],[135994753,135994753],[135994754,135994754],[136016079,136016079],[136027264,136027264],[136052004,136052004],[136100473,136100473],[136110129,136110129],[136166536,136166536],[136169799,136169799],[136191314,136191314],[136228887,136228887],[136238453,136238453],[136288273,136288273],[136292425,136292425],[136321951,136321951],[136324564,136324564],[136327299,136327299],[136327302,136327302],[136376515,136376515],[135933921,135933921],[135939824,135939824],[135941503,135941503],[135943900,135943900],[135945474,135945474],[135949715,135949715],[135956745,135956745],[135958693,135958693],[135967778,135967778],[135972093,135972093],[135973768,135973768],[135976498,135976498],[135978428,135978428],[135990031,135990031],[135992481,135992481],[135993925,135993925],[135994838,135994838],[136000253,136000253],[136003567,136003567],[136005477,136005477],[136005971,136005971],[136020977,136020977],[136027535,136027535],[136031588,136031588],[136032905,136032905],[136042480,136042480],[136043885,136043885],[136050471,136050471],[136052898,136052898],[136054815,136054815],[136056285,136056285],[136061560,136061560],[136063685,136063685],[136069060,136069060],[136072179,136072179],[136074233,136074233],[136080721,136080721],[136080822,136080822],[136088440,136088440],[136088643,136088643],[136092416,136092416],[136092869,136092869],[136094615,136094615],[136095505,136095505],[136095604,136095604],[136096766,136096766],[136097091,136097091],[136097394,136097394],[136100243,136100243],[136101823,136101823],[136106561,136106561],[136115501,136115501],[136122622,136122622],[136123014,136123014],[136123848,136123848],[136127100,136127100],[136127950,136127950],[136128630,136128630],[136129630,136129630],[136129791,136129791],[136131324,136131324],[136135383,136135383],[136135994,136135994],[136136224,136136224],[136136366,136136366],[136136440,136136440],[136138145,136138145],[136140568,136140568],[136145882,136145882],[136147948,136147948],[136148630,136148630],[136151485,136151485],[136152802,136152802],[136156753,136156753],[136157913,136157913],[136160902,136160902],[136165765,136165765],[136171649,136171649],[136173220,136173220],[136173735,136173735],[136174552,136174552],[136175692,136175692],[136176805,136176805],[136182484,136182484],[136183188,136183188],[136187252,136187252],[136187345,136187345],[136189475,136189475],[136197702,136197702],[136198435,136198435],[136202937,136202937],[136219999,136219999],[136221500,136221500],[136226626,136226626],[136228929,136228929],[136229598,136229598],[136238270,136238270],[136238346,136238346],[136240769,136240769],[136244171,136244171],[136249245,136249245],[136250285,136250285],[136254419,136254419],[136266241,136266241],[136267808,136267808],[136272074,136272074],[136277304,136277304],[136290607,136290607],[136290663,136290663],[136291310,136291310],[136296051,136296051],[136305392,136305392],[136306890,136306890],[136310803,136310803],[136324225,136324225],[136324465,136324465],[136327305,136327305],[136329618,136329618],[136333300,136333300],[136350089,136350089],[136354204,136354204],[136360455,136360455],[136368563,136368563],[136468307,136468307],[136473664,136473664],[136475712,136475712],[136483618,136483618],[136483898,136483898],[136653925,136653925],[136654833,136654833],[136656534,136656534],[136656536,136656536],[136657252,136657252],[136667301,136667301],[136667487,136667487],[136672775,136672775],[136680534,136680534],[136686393,136686393],[136688749,136688749],[136692553,136692553],[136697371,136697371],[136708787,136708787],[136710372,136710372],[136711064,136711064],[136715324,136715324],[136723504,136723504],[136737460,136737460],[136743143,136743143],[136746224,136746224],[136751842,136751842],[136759379,136759379],[136761853,136761853],[136658238,136658238],[136658821,136658821],[136664975,136664975],[136674123,136674123],[136677052,136677052],[136677919,136677919],[136666402,136666402],[136687260,136687260],[136688452,136688452],[136698242,136698242],[136701773,136701773],[136701926,136701926],[136701930,136701930],[136708426,136708426],[136714412,136714412],[136721430,136721430],[136729906,136729906],[136750914,136750914],[136751990,136751990],[136753305,136753305],[136755711,136755711],[136760887,136760887],[136768655,136768655],[136696010,136696010],[136696794,136696794],[136700762,136700762],[136703387,136703387],[136708405,136708405],[136708737,136708737],[136710616,136710616],[136715715,136715715],[136716781,136716781],[136731550,136731550],[136735482,136735482],[136736120,136736120],[136738235,136738235],[136739038,136739038],[136743138,136743138],[136744366,136744366],[136754269,136754269],[136764564,136764564],[136704466,136704466],[136714792,136714792],[136724974,136724974],[136725890,136725890],[136732214,136732214]],\"ys\":[[550,596],[550,596],[550,596],[550,596],[550,596],[550,596],[550,596],[550,596],[550,596],[550,596],[550,596],[550,596],[550,596],[550,596],[550,596],[550,596],[550,596],[550,596],[550,596],[550,596],[550,596],[550,596],[550,596],[550,596],[550,596],[550,596],[550,596],[550,596],[550,596],[550,596],[550,596],[550,596],[550,596],[550,596],[550,596],[550,596],[550,596],[550,596],[550,596],[550,596],[550,596],[550,596],[550,596],[550,596],[550,596],[550,596],[550,596],[550,596],[550,596],[550,596],[550,596],[550,596],[550,596],[550,596],[550,596],[550,596],[550,596],[550,596],[550,596],[550,596],[550,596],[550,596],[550,596],[550,596],[550,596],[550,596],[550,596],[550,596],[550,596],[550,596],[550,596],[550,596],[550,596],[550,596],[550,596],[550,596],[550,596],[550,596],[550,596],[550,596],[550,596],[550,596],[550,596],[550,596],[550,596],[550,596],[550,596],[550,596],[550,596],[550,596],[550,596],[550,596],[550,596],[550,596],[550,596],[550,596],[550,596],[550,596],[550,596],[550,596],[550,596],[550,596],[550,596],[550,596],[550,596],[550,596],[550,596],[550,596],[550,596],[550,596],[550,596],[550,596],[550,596],[550,596],[550,596],[550,596],[550,596],[450,495],[450,495],[450,495],[450,495],[450,495],[450,495],[450,495],[450,495],[450,495],[450,495],[450,495],[450,495],[450,495],[450,495],[450,495],[450,495],[450,495],[450,495],[450,495],[450,495],[450,495],[450,495],[450,495],[450,495],[450,495],[450,495],[450,495],[450,495],[450,495],[450,495],[450,495],[450,495],[450,495],[450,495],[450,495],[450,495],[450,495],[450,495],[450,495],[450,495],[450,495],[450,495],[450,495],[450,495],[450,495],[450,495],[450,495],[450,495],[450,495],[450,495],[450,495],[450,495],[450,495],[450,495],[450,495],[450,495],[450,495],[450,495],[450,495],[450,495],[450,495],[450,495],[450,495],[450,495],[450,495],[450,495],[450,495],[450,495],[450,495],[450,495],[450,495],[450,495],[450,495],[450,495],[450,495],[450,495],[450,495],[450,495],[450,495],[450,495],[450,495],[450,495],[450,495],[450,495],[450,495],[450,495],[450,495],[450,495],[450,495],[450,495],[450,495],[450,495],[450,495],[450,495],[450,495],[450,495],[450,495],[450,495],[450,495],[450,495],[450,495],[450,495],[450,495],[450,495],[450,495],[450,495],[450,495],[450,495],[450,495],[450,495],[450,495],[450,495],[450,495],[450,495],[450,495],[450,495],[450,495],[450,495],[450,495],[450,495],[450,495],[450,495],[450,495],[50,57],[50,57],[50,57],[50,57],[50,57],[450,495],[450,495],[450,495],[450,495],[450,495],[450,495],[450,495],[450,495],[450,495],[450,495],[450,495],[450,495],[450,495],[450,495],[450,495],[450,495],[450,495],[450,495],[450,495],[450,495],[450,495],[450,495],[450,495],[450,495],[150,176],[150,176],[150,176],[150,176],[150,176],[150,176],[50,73],[50,73],[50,73],[50,73],[50,73],[50,73],[50,73],[50,73],[50,73],[50,73],[50,73],[50,73],[50,73],[50,73],[50,73],[50,73],[50,73],[250,276],[250,276],[250,276],[250,276],[250,276],[250,276],[250,276],[250,276],[250,276],[250,276],[250,276],[250,276],[250,276],[250,276],[250,276],[250,276],[250,276],[250,276],[350,378],[350,378],[350,378],[350,378],[350,378]]}},\"id\":\"db0d2c03-3bcc-4bf9-b594-3c02b7950cd5\",\"type\":\"ColumnDataSource\"},{\"attributes\":{\"formatter\":{\"id\":\"43ba9c04-73b9-4b68-9272-9ed84f691c3b\",\"type\":\"BasicTickFormatter\"},\"plot\":{\"id\":\"c66612cb-d8b4-4e31-a62c-f5aed624a751\",\"subtype\":\"Figure\",\"type\":\"Plot\"},\"ticker\":{\"id\":\"68e3e4f7-2feb-4f7a-a59b-849a72174a85\",\"type\":\"BasicTicker\"},\"visible\":null},\"id\":\"30ea9e15-ab30-45ed-98df-22c38b91d7bc\",\"type\":\"LinearAxis\"},{\"attributes\":{\"plot\":{\"id\":\"c66612cb-d8b4-4e31-a62c-f5aed624a751\",\"subtype\":\"Figure\",\"type\":\"Plot\"},\"ticker\":{\"id\":\"37d25480-8260-4d5f-bada-fae0e5aa41ed\",\"type\":\"BasicTicker\"}},\"id\":\"0d0f46d3-b1b5-45b7-b1de-3386caaee7bf\",\"type\":\"Grid\"},{\"attributes\":{\"callback\":null,\"column_names\":[\"y\",\"x\",\"vals\"],\"data\":{\"vals\":[\"RAB3GAP1\",\"ZRANB3\",\"R3HDM1\",\"UBXN4\",\"LCT\",\"MCM6\",\"DARS\"],\"x\":[135869057.0,136122878.0,136385961.0,136520911.0,136570082.5,136615621.5,136703738.0],\"y\":[660.0,660.0,660.0,660.0,660.0,660.0,660.0]}},\"id\":\"98c6f83d-3e8a-4cf4-89d6-500a14760ec2\",\"type\":\"ColumnDataSource\"},{\"attributes\":{\"bottom\":{\"field\":\"bottom\"},\"fill_alpha\":{\"value\":0.1},\"fill_color\":{\"value\":\"#1f77b4\"},\"left\":{\"field\":\"left\"},\"line_alpha\":{\"value\":0.1},\"line_color\":{\"value\":\"#1f77b4\"},\"right\":{\"field\":\"right\"},\"top\":{\"field\":\"top\"}},\"id\":\"c95732f5-7c25-4184-a9c8-3b5ce9cf0071\",\"type\":\"Quad\"},{\"attributes\":{\"plot\":null,\"text\":null},\"id\":\"90659273-5543-4dc9-af54-37f90753dd1c\",\"type\":\"Title\"},{\"attributes\":{\"plot\":{\"id\":\"c66612cb-d8b4-4e31-a62c-f5aed624a751\",\"subtype\":\"Figure\",\"type\":\"Plot\"}},\"id\":\"310af367-1d69-4782-9151-24fd989bdd70\",\"type\":\"ResetTool\"},{\"attributes\":{\"formatter\":{\"id\":\"cc435bcf-ba83-4bca-b874-f07320cf267f\",\"type\":\"BasicTickFormatter\"},\"plot\":{\"id\":\"c66612cb-d8b4-4e31-a62c-f5aed624a751\",\"subtype\":\"Figure\",\"type\":\"Plot\"},\"ticker\":{\"id\":\"37d25480-8260-4d5f-bada-fae0e5aa41ed\",\"type\":\"BasicTicker\"}},\"id\":\"5c9bb5a9-bc7e-4416-bd99-745ddd0a9933\",\"type\":\"LinearAxis\"},{\"attributes\":{\"plot\":{\"id\":\"c66612cb-d8b4-4e31-a62c-f5aed624a751\",\"subtype\":\"Figure\",\"type\":\"Plot\"}},\"id\":\"cffa2df5-3e42-4043-813f-a0e14308a982\",\"type\":\"PanTool\"},{\"attributes\":{},\"id\":\"cc435bcf-ba83-4bca-b874-f07320cf267f\",\"type\":\"BasicTickFormatter\"},{\"attributes\":{\"dimension\":1,\"plot\":{\"id\":\"c66612cb-d8b4-4e31-a62c-f5aed624a751\",\"subtype\":\"Figure\",\"type\":\"Plot\"},\"ticker\":{\"id\":\"68e3e4f7-2feb-4f7a-a59b-849a72174a85\",\"type\":\"BasicTicker\"}},\"id\":\"053a1968-87d9-4f4c-915c-308e3cb394cf\",\"type\":\"Grid\"},{\"attributes\":{},\"id\":\"43ba9c04-73b9-4b68-9272-9ed84f691c3b\",\"type\":\"BasicTickFormatter\"},{\"attributes\":{\"bottom_units\":\"screen\",\"fill_alpha\":{\"value\":0.5},\"fill_color\":{\"value\":\"lightgrey\"},\"left_units\":\"screen\",\"level\":\"overlay\",\"line_alpha\":{\"value\":1.0},\"line_color\":{\"value\":\"black\"},\"line_dash\":[4,4],\"line_width\":{\"value\":2},\"plot\":null,\"render_mode\":\"css\",\"right_units\":\"screen\",\"top_units\":\"screen\"},\"id\":\"b5d5179a-4748-44f2-8bf9-1101d0500253\",\"type\":\"BoxAnnotation\"},{\"attributes\":{},\"id\":\"37d25480-8260-4d5f-bada-fae0e5aa41ed\",\"type\":\"BasicTicker\"},{\"attributes\":{\"data_source\":{\"id\":\"ee989c52-b9ad-47ed-9212-413f764e99a1\",\"type\":\"ColumnDataSource\"},\"glyph\":{\"id\":\"9a126ad2-2c05-4b10-96d0-779b5ae07bc0\",\"type\":\"Quad\"},\"hover_glyph\":null,\"nonselection_glyph\":{\"id\":\"c95732f5-7c25-4184-a9c8-3b5ce9cf0071\",\"type\":\"Quad\"},\"selection_glyph\":null},\"id\":\"cdd96a8d-d921-4d5d-ac4e-37f12c413d2c\",\"type\":\"GlyphRenderer\"},{\"attributes\":{\"active_drag\":\"auto\",\"active_scroll\":\"auto\",\"active_tap\":\"auto\",\"tools\":[{\"id\":\"cffa2df5-3e42-4043-813f-a0e14308a982\",\"type\":\"PanTool\"},{\"id\":\"fd3e8f72-4d5d-4b5c-bfee-7d6194f6f0dd\",\"type\":\"WheelZoomTool\"},{\"id\":\"7ebbb84c-16b4-4c0a-b290-bb96f263c412\",\"type\":\"BoxZoomTool\"},{\"id\":\"9d7867db-bf29-46a0-aead-58807d299b27\",\"type\":\"SaveTool\"},{\"id\":\"310af367-1d69-4782-9151-24fd989bdd70\",\"type\":\"ResetTool\"},{\"id\":\"283b2a15-d625-4553-839f-c9458a28fd06\",\"type\":\"HelpTool\"}]},\"id\":\"6730d07b-ed92-47b5-b198-297d1aef98f9\",\"type\":\"Toolbar\"},{\"attributes\":{\"below\":[{\"id\":\"5c9bb5a9-bc7e-4416-bd99-745ddd0a9933\",\"type\":\"LinearAxis\"}],\"left\":[{\"id\":\"30ea9e15-ab30-45ed-98df-22c38b91d7bc\",\"type\":\"LinearAxis\"}],\"plot_height\":700,\"plot_width\":900,\"renderers\":[{\"id\":\"5c9bb5a9-bc7e-4416-bd99-745ddd0a9933\",\"type\":\"LinearAxis\"},{\"id\":\"0d0f46d3-b1b5-45b7-b1de-3386caaee7bf\",\"type\":\"Grid\"},{\"id\":\"30ea9e15-ab30-45ed-98df-22c38b91d7bc\",\"type\":\"LinearAxis\"},{\"id\":\"053a1968-87d9-4f4c-915c-308e3cb394cf\",\"type\":\"Grid\"},{\"id\":\"b5d5179a-4748-44f2-8bf9-1101d0500253\",\"type\":\"BoxAnnotation\"},{\"id\":\"df8cade7-5bd0-4744-b24b-3195645e1542\",\"type\":\"GlyphRenderer\"},{\"id\":\"3d22a7a8-df6a-41ec-abf4-6299f7f3fef4\",\"type\":\"GlyphRenderer\"},{\"id\":\"c14f5b5a-8e5d-4c5b-927c-cb7f74d9b941\",\"type\":\"LabelSet\"},{\"id\":\"cdd96a8d-d921-4d5d-ac4e-37f12c413d2c\",\"type\":\"GlyphRenderer\"},{\"id\":\"ce5fd90a-0bae-4533-8414-4712be85e4a6\",\"type\":\"LabelSet\"}],\"title\":{\"id\":\"90659273-5543-4dc9-af54-37f90753dd1c\",\"type\":\"Title\"},\"tool_events\":{\"id\":\"2e0c3302-5d70-460b-9f4e-2e46d7740241\",\"type\":\"ToolEvents\"},\"toolbar\":{\"id\":\"6730d07b-ed92-47b5-b198-297d1aef98f9\",\"type\":\"Toolbar\"},\"toolbar_location\":null,\"x_range\":{\"id\":\"3a931c05-2960-4768-8a75-c30f42e678ba\",\"type\":\"Range1d\"},\"y_range\":{\"id\":\"6cee3170-a842-4e90-b336-b37ea9734971\",\"type\":\"Range1d\"}},\"id\":\"c66612cb-d8b4-4e31-a62c-f5aed624a751\",\"subtype\":\"Figure\",\"type\":\"Plot\"},{\"attributes\":{\"callback\":null,\"end\":700},\"id\":\"6cee3170-a842-4e90-b336-b37ea9734971\",\"type\":\"Range1d\"},{\"attributes\":{\"callback\":null,\"end\":136786630,\"start\":135757320},\"id\":\"3a931c05-2960-4768-8a75-c30f42e678ba\",\"type\":\"Range1d\"},{\"attributes\":{},\"id\":\"2e0c3302-5d70-460b-9f4e-2e46d7740241\",\"type\":\"ToolEvents\"},{\"attributes\":{\"data_source\":{\"id\":\"db0d2c03-3bcc-4bf9-b594-3c02b7950cd5\",\"type\":\"ColumnDataSource\"},\"glyph\":{\"id\":\"e4b2f3f3-266d-4f31-b1a1-db717bd6e62e\",\"type\":\"MultiLine\"},\"hover_glyph\":null,\"nonselection_glyph\":{\"id\":\"2a117b7c-5740-4eac-81d6-18670d38617b\",\"type\":\"MultiLine\"},\"selection_glyph\":null},\"id\":\"3d22a7a8-df6a-41ec-abf4-6299f7f3fef4\",\"type\":\"GlyphRenderer\"},{\"attributes\":{\"level\":\"glyph\",\"plot\":{\"id\":\"c66612cb-d8b4-4e31-a62c-f5aed624a751\",\"subtype\":\"Figure\",\"type\":\"Plot\"},\"source\":{\"id\":\"0667f5ee-ceed-4063-aafd-3f0b430d182c\",\"type\":\"ColumnDataSource\"},\"text\":{\"field\":\"vals\"},\"text_font_size\":{\"value\":\"9pt\"},\"text_font_style\":\"bold\",\"x\":{\"field\":\"x\"},\"y\":{\"field\":\"y\"}},\"id\":\"c14f5b5a-8e5d-4c5b-927c-cb7f74d9b941\",\"type\":\"LabelSet\"},{\"attributes\":{\"plot\":{\"id\":\"c66612cb-d8b4-4e31-a62c-f5aed624a751\",\"subtype\":\"Figure\",\"type\":\"Plot\"}},\"id\":\"fd3e8f72-4d5d-4b5c-bfee-7d6194f6f0dd\",\"type\":\"WheelZoomTool\"},{\"attributes\":{\"line_alpha\":{\"value\":0.1},\"line_color\":{\"value\":\"#1f77b4\"},\"xs\":{\"field\":\"xs\"},\"ys\":{\"field\":\"ys\"}},\"id\":\"2a117b7c-5740-4eac-81d6-18670d38617b\",\"type\":\"MultiLine\"},{\"attributes\":{\"data_source\":{\"id\":\"1f4fb97e-a0f8-4c62-9941-78d6eb2482ee\",\"type\":\"ColumnDataSource\"},\"glyph\":{\"id\":\"a0560ae9-fe7f-4652-a044-5ba7efe34ee3\",\"type\":\"Quad\"},\"hover_glyph\":null,\"nonselection_glyph\":{\"id\":\"aa67a7c7-6a94-4a58-9bce-aca481bf674f\",\"type\":\"Quad\"},\"selection_glyph\":null},\"id\":\"df8cade7-5bd0-4744-b24b-3195645e1542\",\"type\":\"GlyphRenderer\"},{\"attributes\":{\"overlay\":{\"id\":\"b5d5179a-4748-44f2-8bf9-1101d0500253\",\"type\":\"BoxAnnotation\"},\"plot\":{\"id\":\"c66612cb-d8b4-4e31-a62c-f5aed624a751\",\"subtype\":\"Figure\",\"type\":\"Plot\"}},\"id\":\"7ebbb84c-16b4-4c0a-b290-bb96f263c412\",\"type\":\"BoxZoomTool\"},{\"attributes\":{\"bottom\":{\"field\":\"bottom\"},\"fill_color\":{\"value\":\"white\"},\"left\":{\"field\":\"left\"},\"right\":{\"field\":\"right\"},\"top\":{\"field\":\"top\"}},\"id\":\"9a126ad2-2c05-4b10-96d0-779b5ae07bc0\",\"type\":\"Quad\"},{\"attributes\":{\"plot\":{\"id\":\"c66612cb-d8b4-4e31-a62c-f5aed624a751\",\"subtype\":\"Figure\",\"type\":\"Plot\"}},\"id\":\"9d7867db-bf29-46a0-aead-58807d299b27\",\"type\":\"SaveTool\"},{\"attributes\":{\"callback\":null,\"column_names\":[\"right\",\"bottom\",\"top\",\"left\",\"fill_color\"],\"data\":{\"bottom\":[550,450,50,450,150,50,250,350],\"fill_color\":[\"#808080\",\"#c46161\",\"#ff0000\",\"#808080\",\"#c46161\",\"#c46161\",\"#ff0000\",\"#ff0000\"],\"left\":[135758231,135933921,136468307,136653925,136658238,136666402,136696010,136704466],\"right\":[136376515,136368563,136483898,136761853,136677919,136768655,136764564,136732214],\"top\":[596,495,57,495,176,73,276,378]}},\"id\":\"1f4fb97e-a0f8-4c62-9941-78d6eb2482ee\",\"type\":\"ColumnDataSource\"},{\"attributes\":{\"bottom\":{\"field\":\"bottom\"},\"fill_color\":{\"field\":\"fill_color\"},\"left\":{\"field\":\"left\"},\"line_color\":{\"value\":null},\"right\":{\"field\":\"right\"},\"top\":{\"field\":\"top\"}},\"id\":\"a0560ae9-fe7f-4652-a044-5ba7efe34ee3\",\"type\":\"Quad\"},{\"attributes\":{\"level\":\"glyph\",\"plot\":{\"id\":\"c66612cb-d8b4-4e31-a62c-f5aed624a751\",\"subtype\":\"Figure\",\"type\":\"Plot\"},\"source\":{\"id\":\"98c6f83d-3e8a-4cf4-89d6-500a14760ec2\",\"type\":\"ColumnDataSource\"},\"text\":{\"field\":\"vals\"},\"text_align\":\"center\",\"text_baseline\":\"middle\",\"text_font_size\":{\"value\":\"8pt\"},\"x\":{\"field\":\"x\"},\"y\":{\"field\":\"y\"}},\"id\":\"ce5fd90a-0bae-4533-8414-4712be85e4a6\",\"type\":\"LabelSet\"},{\"attributes\":{\"callback\":null,\"column_names\":[\"right\",\"bottom\",\"top\",\"left\"],\"data\":{\"bottom\":[645,645,645,645,645,645,645],\"left\":[135809835,135957574,136289083,136499189,136545415,136597196,136664254],\"right\":[135928279,136288182,136482839,136542633,136594750,136634047,136743222],\"top\":[675,675,675,675,675,675,675]}},\"id\":\"ee989c52-b9ad-47ed-9212-413f764e99a1\",\"type\":\"ColumnDataSource\"},{\"attributes\":{},\"id\":\"68e3e4f7-2feb-4f7a-a59b-849a72174a85\",\"type\":\"BasicTicker\"},{\"attributes\":{\"plot\":{\"id\":\"c66612cb-d8b4-4e31-a62c-f5aed624a751\",\"subtype\":\"Figure\",\"type\":\"Plot\"}},\"id\":\"283b2a15-d625-4553-839f-c9458a28fd06\",\"type\":\"HelpTool\"},{\"attributes\":{\"line_color\":{\"field\":\"line_color\"},\"xs\":{\"field\":\"xs\"},\"ys\":{\"field\":\"ys\"}},\"id\":\"e4b2f3f3-266d-4f31-b1a1-db717bd6e62e\",\"type\":\"MultiLine\"},{\"attributes\":{\"callback\":null,\"column_names\":[\"y\",\"x\",\"vals\"],\"data\":{\"vals\":[\"117_1685\",\"123_1561\",\"5_18\",\"24_1504\",\"6_167\",\"17_121\",\"18_172\",\"5_212\"],\"x\":[135758231,135933921,136468307,136653925,136658238,136666402,136696010,136704466],\"y\":[601.0,500.0,62.0,500.0,181.0,78.0,281.0,383.0]}},\"id\":\"0667f5ee-ceed-4063-aafd-3f0b430d182c\",\"type\":\"ColumnDataSource\"}],\"root_ids\":[\"c66612cb-d8b4-4e31-a62c-f5aed624a751\"]},\"title\":\"Bokeh Application\",\"version\":\"0.12.0\"}};\n",
       "            var render_items = [{\"docid\":\"d893e3a9-fcb9-48ba-9dba-23a43a60e5b4\",\"elementid\":\"9a1a94e5-af0c-4424-a886-c0ec3ce3f500\",\"modelid\":\"c66612cb-d8b4-4e31-a62c-f5aed624a751\",\"notebook_comms_target\":\"85d6685f-0962-456a-8fb6-6f6a0820dbeb\"}];\n",
       "            \n",
       "            Bokeh.embed.embed_items(docs_json, render_items);\n",
       "        });\n",
       "      },\n",
       "      function(Bokeh) {\n",
       "      }\n",
       "    ];\n",
       "  \n",
       "    function run_inline_js() {\n",
       "      for (var i = 0; i < inline_js.length; i++) {\n",
       "        inline_js[i](window.Bokeh);\n",
       "      }\n",
       "    }\n",
       "  \n",
       "    if (window._bokeh_is_loading === 0) {\n",
       "      console.log(\"Bokeh: BokehJS loaded, going straight to plotting\");\n",
       "      run_inline_js();\n",
       "    } else {\n",
       "      load_libs(js_urls, function() {\n",
       "        console.log(\"Bokeh: BokehJS plotting callback run at\", now());\n",
       "        run_inline_js();\n",
       "      });\n",
       "    }\n",
       "  }(this));\n",
       "</script>"
      ]
     },
     "metadata": {},
     "output_type": "display_data"
    },
    {
     "data": {
      "text/html": [
       "<p><code>&lt;Bokeh Notebook handle for <strong>In[48]</strong>&gt;</code></p>"
      ],
      "text/plain": [
       "<bokeh.io._CommsHandle at 0x7f1489186150>"
      ]
     },
     "execution_count": 48,
     "metadata": {},
     "output_type": "execute_result"
    }
   ],
   "source": [
    "plt_obj = dm.superset_allele_mask(am_29, [dm.di_117_1685], [dm.di_4_815], min_match=0.001)\n",
    "plt = plt_obj.do_plot()\n",
    "am_not_4_815 = plt_obj.plot_context.yes_allele_mask\n",
    "show(plt)"
   ]
  },
  {
   "cell_type": "code",
   "execution_count": 49,
   "metadata": {
    "collapsed": false
   },
   "outputs": [
    {
     "data": {
      "text/html": [
       "<table>\n",
       "<thead><tr><th style=\"text-align:center\">index</th><th style=\"text-align:center\">first</th><th style=\"text-align:center\">length</th><th style=\"text-align:center\">snps</th><th style=\"text-align:center\" colspan=2>alleles</th><th style=\"text-align:center\" colspan=2>matches</th><th style=\"text-align:center\" colspan=2>afr</th><th style=\"text-align:center\" colspan=2>afx</th><th style=\"text-align:center\" colspan=2>amr</th><th style=\"text-align:center\" colspan=2>eas</th><th style=\"text-align:center\" colspan=2>eur</th><th style=\"text-align:center\" colspan=2>sas</th><th style=\"text-align:center\" colspan=2>sax</th></tr></thead>\n",
       "<tr class=\"even\"><td style=\"text-align: right;\">353244</td><td style=\"text-align: right;\">135,758,231</td><td style=\"text-align: right;\">618,284</td><td style=\"text-align: right;\">117</td><td style=\"text-align: right;\">1685</td><td style=\"text-align: right;\">0.00</td><td style=\"text-align: right;\">1</td><td style=\"text-align: right;\">1.00</td><td style=\"text-align: right;\">1</td><td style=\"text-align: right;\">4.97</td><td style=\"text-align: right;\">0</td><td style=\"text-align: right;\">0.00</td><td style=\"text-align: right;\">0</td><td style=\"text-align: right;\">0.00</td><td style=\"text-align: right;\">0</td><td style=\"text-align: right;\">0.00</td><td style=\"text-align: right;\">0</td><td style=\"text-align: right;\">0.00</td><td style=\"text-align: right;\">0</td><td style=\"text-align: right;\">0.00</td><td style=\"text-align: right;\">0</td><td style=\"text-align: right;\">0.00</td></tr>\n",
       "<tr><td style=\"text-align: right;\">353478</td><td style=\"text-align: right;\">135,933,921</td><td style=\"text-align: right;\">434,642</td><td style=\"text-align: right;\">123</td><td style=\"text-align: right;\">1561</td><td style=\"text-align: right;\">0.00</td><td style=\"text-align: right;\">1</td><td style=\"text-align: right;\">1.00</td><td style=\"text-align: right;\">1</td><td style=\"text-align: right;\">4.97</td><td style=\"text-align: right;\">0</td><td style=\"text-align: right;\">0.00</td><td style=\"text-align: right;\">0</td><td style=\"text-align: right;\">0.00</td><td style=\"text-align: right;\">0</td><td style=\"text-align: right;\">0.00</td><td style=\"text-align: right;\">0</td><td style=\"text-align: right;\">0.00</td><td style=\"text-align: right;\">0</td><td style=\"text-align: right;\">0.00</td><td style=\"text-align: right;\">0</td><td style=\"text-align: right;\">0.00</td></tr>\n",
       "<tr class=\"even\"><td style=\"text-align: right;\">354130</td><td style=\"text-align: right;\">136,653,925</td><td style=\"text-align: right;\">107,928</td><td style=\"text-align: right;\">24</td><td style=\"text-align: right;\">1504</td><td style=\"text-align: right;\">0.00</td><td style=\"text-align: right;\">1</td><td style=\"text-align: right;\">1.00</td><td style=\"text-align: right;\">1</td><td style=\"text-align: right;\">4.97</td><td style=\"text-align: right;\">0</td><td style=\"text-align: right;\">0.00</td><td style=\"text-align: right;\">0</td><td style=\"text-align: right;\">0.00</td><td style=\"text-align: right;\">0</td><td style=\"text-align: right;\">0.00</td><td style=\"text-align: right;\">0</td><td style=\"text-align: right;\">0.00</td><td style=\"text-align: right;\">0</td><td style=\"text-align: right;\">0.00</td><td style=\"text-align: right;\">0</td><td style=\"text-align: right;\">0.00</td></tr>\n",
       "<tr><td style=\"text-align: right;\">354189</td><td style=\"text-align: right;\">136,704,466</td><td style=\"text-align: right;\">27,748</td><td style=\"text-align: right;\">5</td><td style=\"text-align: right;\">212</td><td style=\"text-align: right;\">0.00</td><td style=\"text-align: right;\">1</td><td style=\"text-align: right;\">1.00</td><td style=\"text-align: right;\">1</td><td style=\"text-align: right;\">4.97</td><td style=\"text-align: right;\">0</td><td style=\"text-align: right;\">0.00</td><td style=\"text-align: right;\">0</td><td style=\"text-align: right;\">0.00</td><td style=\"text-align: right;\">0</td><td style=\"text-align: right;\">0.00</td><td style=\"text-align: right;\">0</td><td style=\"text-align: right;\">0.00</td><td style=\"text-align: right;\">0</td><td style=\"text-align: right;\">0.00</td><td style=\"text-align: right;\">0</td><td style=\"text-align: right;\">0.00</td></tr>\n",
       "<tr class=\"even\"><td style=\"text-align: right;\">354181</td><td style=\"text-align: right;\">136,696,010</td><td style=\"text-align: right;\">68,554</td><td style=\"text-align: right;\">18</td><td style=\"text-align: right;\">172</td><td style=\"text-align: right;\">0.01</td><td style=\"text-align: right;\">1</td><td style=\"text-align: right;\">1.00</td><td style=\"text-align: right;\">1</td><td style=\"text-align: right;\">4.97</td><td style=\"text-align: right;\">0</td><td style=\"text-align: right;\">0.00</td><td style=\"text-align: right;\">0</td><td style=\"text-align: right;\">0.00</td><td style=\"text-align: right;\">0</td><td style=\"text-align: right;\">0.00</td><td style=\"text-align: right;\">0</td><td style=\"text-align: right;\">0.00</td><td style=\"text-align: right;\">0</td><td style=\"text-align: right;\">0.00</td><td style=\"text-align: right;\">0</td><td style=\"text-align: right;\">0.00</td></tr>\n",
       "<tr><td style=\"text-align: right;\">354143</td><td style=\"text-align: right;\">136,658,238</td><td style=\"text-align: right;\">19,681</td><td style=\"text-align: right;\">6</td><td style=\"text-align: right;\">167</td><td style=\"text-align: right;\">0.01</td><td style=\"text-align: right;\">1</td><td style=\"text-align: right;\">1.00</td><td style=\"text-align: right;\">1</td><td style=\"text-align: right;\">4.97</td><td style=\"text-align: right;\">0</td><td style=\"text-align: right;\">0.00</td><td style=\"text-align: right;\">0</td><td style=\"text-align: right;\">0.00</td><td style=\"text-align: right;\">0</td><td style=\"text-align: right;\">0.00</td><td style=\"text-align: right;\">0</td><td style=\"text-align: right;\">0.00</td><td style=\"text-align: right;\">0</td><td style=\"text-align: right;\">0.00</td><td style=\"text-align: right;\">0</td><td style=\"text-align: right;\">0.00</td></tr>\n",
       "<tr class=\"even\"><td style=\"text-align: right;\">354156</td><td style=\"text-align: right;\">136,666,402</td><td style=\"text-align: right;\">102,253</td><td style=\"text-align: right;\">17</td><td style=\"text-align: right;\">121</td><td style=\"text-align: right;\">0.01</td><td style=\"text-align: right;\">1</td><td style=\"text-align: right;\">1.00</td><td style=\"text-align: right;\">1</td><td style=\"text-align: right;\">4.97</td><td style=\"text-align: right;\">0</td><td style=\"text-align: right;\">0.00</td><td style=\"text-align: right;\">0</td><td style=\"text-align: right;\">0.00</td><td style=\"text-align: right;\">0</td><td style=\"text-align: right;\">0.00</td><td style=\"text-align: right;\">0</td><td style=\"text-align: right;\">0.00</td><td style=\"text-align: right;\">0</td><td style=\"text-align: right;\">0.00</td><td style=\"text-align: right;\">0</td><td style=\"text-align: right;\">0.00</td></tr>\n",
       "<tr><td style=\"text-align: right;\">353866</td><td style=\"text-align: right;\">136,468,307</td><td style=\"text-align: right;\">15,591</td><td style=\"text-align: right;\">5</td><td style=\"text-align: right;\">18</td><td style=\"text-align: right;\">0.06</td><td style=\"text-align: right;\">1</td><td style=\"text-align: right;\">1.00</td><td style=\"text-align: right;\">1</td><td style=\"text-align: right;\">4.97</td><td style=\"text-align: right;\">0</td><td style=\"text-align: right;\">0.00</td><td style=\"text-align: right;\">0</td><td style=\"text-align: right;\">0.00</td><td style=\"text-align: right;\">0</td><td style=\"text-align: right;\">0.00</td><td style=\"text-align: right;\">0</td><td style=\"text-align: right;\">0.00</td><td style=\"text-align: right;\">0</td><td style=\"text-align: right;\">0.00</td><td style=\"text-align: right;\">0</td><td style=\"text-align: right;\">0.00</td></tr>\n",
       "</table>"
      ],
      "text/plain": [
       "<IPython.core.display.HTML object>"
      ]
     },
     "execution_count": 49,
     "metadata": {},
     "output_type": "execute_result"
    }
   ],
   "source": [
    "HTML(plt_obj.get_html())"
   ]
  },
  {
   "cell_type": "code",
   "execution_count": 50,
   "metadata": {
    "collapsed": false
   },
   "outputs": [
    {
     "data": {
      "text/plain": [
       "array([0, 0, 0, 0, 0, 0, 0, 0, 0, 0, 0, 0, 0, 0, 0, 0, 0, 0, 0, 0, 0, 0, 0,\n",
       "       0, 0, 0, 0, 0, 0, 0, 0, 0, 0, 0, 0, 0, 0, 0, 0, 0, 0, 0, 0, 0, 0, 0,\n",
       "       0, 0, 0, 0, 0, 0, 0, 0, 0, 0, 0, 0, 0, 0, 0, 0, 1, 0, 0, 0, 0, 0, 0,\n",
       "       1, 0, 0, 0, 0, 0, 0, 1, 0, 0, 1, 0, 1, 0, 0, 1, 0, 0, 0, 0, 0, 0, 0,\n",
       "       0, 1, 1, 0, 0, 1, 1, 1, 0, 0, 0, 0, 1, 0, 1, 0, 0, 0, 0, 1, 0, 1, 0,\n",
       "       0, 1, 1, 0, 0, 0, 0, 0, 0, 0, 0, 0, 0, 1, 1, 1, 0, 0, 0, 0, 1, 1, 0,\n",
       "       0, 1, 0, 0, 1, 0, 1, 0, 1, 1, 0, 0, 1, 0, 0, 0, 1, 0, 0, 0, 0, 0, 0,\n",
       "       0, 0, 0, 0, 0, 0, 0, 0, 0, 0, 0, 0, 0, 0, 0, 0, 0, 0, 0, 0, 0, 0, 0,\n",
       "       0, 0, 0, 0, 0, 0, 0, 0, 0])"
      ]
     },
     "execution_count": 50,
     "metadata": {},
     "output_type": "execute_result"
    }
   ],
   "source": [
    "an.sa_193_843.alleles_per_snp(am_not_4_815)"
   ]
  },
  {
   "cell_type": "markdown",
   "metadata": {},
   "source": [
    "<div style=\"width:700px\">\n",
    "<p>\n",
    "This data confirms that this chromosome sample is the one that expresses the\n",
    "divergent series of 29 193_843 SNPs.\n",
    "</div>"
   ]
  },
  {
   "cell_type": "code",
   "execution_count": 32,
   "metadata": {
    "collapsed": false
   },
   "outputs": [
    {
     "data": {
      "text/plain": [
       "array([41, 41, 41, 41, 41, 41, 41, 41, 41, 41, 41, 41, 41, 41, 41, 41, 41,\n",
       "       41, 41, 41, 41, 41, 41, 41, 41, 41, 41, 41, 41, 41, 41, 41, 41, 41,\n",
       "       41, 41, 41, 41, 41, 41, 41, 41, 41, 41, 41, 41, 41, 41, 41, 41, 41,\n",
       "       41, 41, 41, 41, 41, 41, 41, 41, 41, 41, 41, 41, 41, 41, 41, 41, 41,\n",
       "       41, 41, 41, 41, 41, 41, 41, 41, 41, 41, 41, 41, 41, 41, 41, 41, 41,\n",
       "       41, 41, 41, 41, 41, 41, 41, 41, 41, 41, 41, 41, 41, 41, 41, 41, 41,\n",
       "       41, 41, 41, 41, 41, 41, 41, 41, 41, 41, 41, 41, 41, 41, 41, 41, 41,\n",
       "       41, 41, 41, 41, 41, 41, 41, 41, 41, 41, 41, 41, 41, 41, 41, 41, 41,\n",
       "       41, 41, 41, 41, 41, 41, 41, 41, 41, 41, 41, 41, 41, 41, 41, 41, 41,\n",
       "       41, 41, 41, 41, 41, 41, 41, 41, 41, 41, 41, 41, 41, 41, 41, 41, 41,\n",
       "        0,  0,  0,  0,  0,  0,  0,  0,  0,  0,  0,  0,  0,  0,  0,  0,  0,\n",
       "        0,  0,  0,  0,  0,  0])"
      ]
     },
     "execution_count": 32,
     "metadata": {},
     "output_type": "execute_result"
    }
   ],
   "source": [
    "aps_170, am_170 = an.sa_193_843.snps_from_aps_value(170, nam_193_843)\n",
    "aps_170"
   ]
  },
  {
   "cell_type": "markdown",
   "metadata": {},
   "source": [
    "<div style=\"width:700px\">\n",
    "<p>\n",
    "This data shows the expressed SNPs and obtains the allele mask for the\n",
    "chromosome samples that express 170 193_843 SNPs.  In this case, all 41\n",
    "of the chromosome samples express the first 170 SNPs.\n",
    "</div>"
   ]
  },
  {
   "cell_type": "code",
   "execution_count": 53,
   "metadata": {
    "collapsed": false
   },
   "outputs": [
    {
     "data": {
      "text/html": [
       "\n",
       "\n",
       "    <div class=\"bk-root\">\n",
       "        <div class=\"plotdiv\" id=\"d893288b-7e52-492e-8209-ed631848304f\"></div>\n",
       "    </div>\n",
       "<script type=\"text/javascript\">\n",
       "  \n",
       "  (function(global) {\n",
       "    function now() {\n",
       "      return new Date();\n",
       "    }\n",
       "  \n",
       "    if (typeof (window._bokeh_onload_callbacks) === \"undefined\") {\n",
       "      window._bokeh_onload_callbacks = [];\n",
       "    }\n",
       "  \n",
       "    function run_callbacks() {\n",
       "      window._bokeh_onload_callbacks.forEach(function(callback) { callback() });\n",
       "      delete window._bokeh_onload_callbacks\n",
       "      console.info(\"Bokeh: all callbacks have finished\");\n",
       "    }\n",
       "  \n",
       "    function load_libs(js_urls, callback) {\n",
       "      window._bokeh_onload_callbacks.push(callback);\n",
       "      if (window._bokeh_is_loading > 0) {\n",
       "        console.log(\"Bokeh: BokehJS is being loaded, scheduling callback at\", now());\n",
       "        return null;\n",
       "      }\n",
       "      if (js_urls == null || js_urls.length === 0) {\n",
       "        run_callbacks();\n",
       "        return null;\n",
       "      }\n",
       "      console.log(\"Bokeh: BokehJS not loaded, scheduling load and callback at\", now());\n",
       "      window._bokeh_is_loading = js_urls.length;\n",
       "      for (var i = 0; i < js_urls.length; i++) {\n",
       "        var url = js_urls[i];\n",
       "        var s = document.createElement('script');\n",
       "        s.src = url;\n",
       "        s.async = false;\n",
       "        s.onreadystatechange = s.onload = function() {\n",
       "          window._bokeh_is_loading--;\n",
       "          if (window._bokeh_is_loading === 0) {\n",
       "            console.log(\"Bokeh: all BokehJS libraries loaded\");\n",
       "            run_callbacks()\n",
       "          }\n",
       "        };\n",
       "        s.onerror = function() {\n",
       "          console.warn(\"failed to load library \" + url);\n",
       "        };\n",
       "        console.log(\"Bokeh: injecting script tag for BokehJS library: \", url);\n",
       "        document.getElementsByTagName(\"head\")[0].appendChild(s);\n",
       "      }\n",
       "    };var element = document.getElementById(\"d893288b-7e52-492e-8209-ed631848304f\");\n",
       "    if (element == null) {\n",
       "      console.log(\"Bokeh: ERROR: autoload.js configured with elementid 'd893288b-7e52-492e-8209-ed631848304f' but no matching script tag was found. \")\n",
       "      return false;\n",
       "    }\n",
       "  \n",
       "    var js_urls = [];\n",
       "  \n",
       "    var inline_js = [\n",
       "      function(Bokeh) {\n",
       "        Bokeh.$(function() {\n",
       "            var docs_json = {\"79a89791-6c63-452f-840f-6570d2b9cf9f\":{\"roots\":{\"references\":[{\"attributes\":{\"plot\":{\"id\":\"cce64ed7-3673-4eb2-8db0-3f5275763da4\",\"subtype\":\"Figure\",\"type\":\"Plot\"}},\"id\":\"610b0747-fdd7-4e36-9dc2-f64965137cb1\",\"type\":\"ResetTool\"},{\"attributes\":{\"callback\":null,\"column_names\":[\"y\",\"x\",\"vals\"],\"data\":{\"vals\":[\"117_1685\",\"62_1265\",\"8_267\",\"4_815\",\"6_946\",\"6_713\",\"9_39\",\"32_1361\",\"81_857\",\"13_1227\",\"4_1442\",\"7_1303\",\"7_1760\",\"6_1114\",\"5_1296\",\"24_1504\"],\"x\":[135758231,135766890,135818487,135839805,135964764,135989333,136028572,136393658,136494985,136500475,136506375,136535876,136588031,136652491,136652953,136653925],\"y\":[801.0,498.0,185.0,295.0,396.0,293.0,68.0,699.0,395.0,498.0,699.0,599.0,801.0,497.0,599.0,800.0]}},\"id\":\"e2090099-7528-4262-8eb3-f035a8dfd943\",\"type\":\"ColumnDataSource\"},{\"attributes\":{\"callback\":null,\"column_names\":[\"right\",\"bottom\",\"top\",\"left\"],\"data\":{\"bottom\":[845,845,845,845,845,845,845],\"left\":[135809835,135957574,136289083,136499189,136545415,136597196,136664254],\"right\":[135928279,136288182,136482839,136542633,136594750,136634047,136743222],\"top\":[875,875,875,875,875,875,875]}},\"id\":\"f50f1656-f4a9-456a-ad42-da66505c0f7c\",\"type\":\"ColumnDataSource\"},{\"attributes\":{\"bottom\":{\"field\":\"bottom\"},\"fill_color\":{\"field\":\"fill_color\"},\"left\":{\"field\":\"left\"},\"line_color\":{\"value\":null},\"right\":{\"field\":\"right\"},\"top\":{\"field\":\"top\"}},\"id\":\"c940c049-468a-4786-af50-9cfbe352a708\",\"type\":\"Quad\"},{\"attributes\":{\"callback\":null,\"end\":900},\"id\":\"01813d28-c123-4fd9-a1e4-bbce6c4c4fcb\",\"type\":\"Range1d\"},{\"attributes\":{\"active_drag\":\"auto\",\"active_scroll\":\"auto\",\"active_tap\":\"auto\",\"tools\":[{\"id\":\"f8253943-aaba-4563-a60b-5880b28f8d1a\",\"type\":\"PanTool\"},{\"id\":\"fd63839f-f23a-413b-9d42-93cb9662bcde\",\"type\":\"WheelZoomTool\"},{\"id\":\"f21955ad-ae99-4449-8592-ed36cb695ae6\",\"type\":\"BoxZoomTool\"},{\"id\":\"356c514e-2115-45a2-8829-183456f1c8e7\",\"type\":\"SaveTool\"},{\"id\":\"610b0747-fdd7-4e36-9dc2-f64965137cb1\",\"type\":\"ResetTool\"},{\"id\":\"a4941432-e182-4bdc-b4c7-472dc3fe2efa\",\"type\":\"HelpTool\"}]},\"id\":\"08dc0eb8-2dbb-477a-8a84-57e02ef4e898\",\"type\":\"Toolbar\"},{\"attributes\":{},\"id\":\"9c1e1dfe-3980-40f4-8ea8-c2871b917a91\",\"type\":\"ToolEvents\"},{\"attributes\":{\"bottom\":{\"field\":\"bottom\"},\"fill_color\":{\"value\":\"white\"},\"left\":{\"field\":\"left\"},\"right\":{\"field\":\"right\"},\"top\":{\"field\":\"top\"}},\"id\":\"0843bb0d-7df6-4e70-88cb-ac89f64ffdd8\",\"type\":\"Quad\"},{\"attributes\":{\"below\":[{\"id\":\"a97fae9f-3618-4f9f-a82f-26e2638936bc\",\"type\":\"LinearAxis\"}],\"left\":[{\"id\":\"0243dd27-d099-4322-a17c-1ea23adf9126\",\"type\":\"LinearAxis\"}],\"plot_height\":900,\"plot_width\":900,\"renderers\":[{\"id\":\"a97fae9f-3618-4f9f-a82f-26e2638936bc\",\"type\":\"LinearAxis\"},{\"id\":\"c56a739b-3bdc-4c5a-87e9-9e4a3f17e6f2\",\"type\":\"Grid\"},{\"id\":\"0243dd27-d099-4322-a17c-1ea23adf9126\",\"type\":\"LinearAxis\"},{\"id\":\"28908387-5dd8-495f-a90f-19f6fcf69ada\",\"type\":\"Grid\"},{\"id\":\"54497c37-95e9-49e1-b6f3-804e8c57d527\",\"type\":\"BoxAnnotation\"},{\"id\":\"6b766647-700b-41a7-b78e-512606b8dcb5\",\"type\":\"GlyphRenderer\"},{\"id\":\"5ef222a5-1f3e-49f6-bc08-93eebf95c090\",\"type\":\"GlyphRenderer\"},{\"id\":\"afaa825d-5e98-4f92-adfb-7a409af4e1e1\",\"type\":\"LabelSet\"},{\"id\":\"2ef3ea2d-be7e-4dc2-94e2-f1061367c321\",\"type\":\"GlyphRenderer\"},{\"id\":\"4c472e1f-1405-4db9-a6c5-b2c0cdf3acae\",\"type\":\"LabelSet\"}],\"title\":{\"id\":\"4fdb8cc7-99d4-4e4d-aaa4-680d99bbd69b\",\"type\":\"Title\"},\"tool_events\":{\"id\":\"9c1e1dfe-3980-40f4-8ea8-c2871b917a91\",\"type\":\"ToolEvents\"},\"toolbar\":{\"id\":\"08dc0eb8-2dbb-477a-8a84-57e02ef4e898\",\"type\":\"Toolbar\"},\"toolbar_location\":null,\"x_range\":{\"id\":\"85c51291-2dea-4c52-a8f6-5fc4a3c8f80c\",\"type\":\"Range1d\"},\"y_range\":{\"id\":\"01813d28-c123-4fd9-a1e4-bbce6c4c4fcb\",\"type\":\"Range1d\"}},\"id\":\"cce64ed7-3673-4eb2-8db0-3f5275763da4\",\"subtype\":\"Figure\",\"type\":\"Plot\"},{\"attributes\":{\"plot\":{\"id\":\"cce64ed7-3673-4eb2-8db0-3f5275763da4\",\"subtype\":\"Figure\",\"type\":\"Plot\"}},\"id\":\"f8253943-aaba-4563-a60b-5880b28f8d1a\",\"type\":\"PanTool\"},{\"attributes\":{},\"id\":\"a25fce2f-8daa-4369-99fa-9e3b8150b184\",\"type\":\"BasicTickFormatter\"},{\"attributes\":{\"plot\":{\"id\":\"cce64ed7-3673-4eb2-8db0-3f5275763da4\",\"subtype\":\"Figure\",\"type\":\"Plot\"}},\"id\":\"fd63839f-f23a-413b-9d42-93cb9662bcde\",\"type\":\"WheelZoomTool\"},{\"attributes\":{\"callback\":null,\"column_names\":[\"xs\",\"ys\",\"line_color\"],\"data\":{\"line_color\":[\"black\",\"black\",\"black\",\"black\",\"black\",\"black\",\"black\",\"black\",\"black\",\"black\",\"black\",\"black\",\"black\",\"black\",\"black\",\"black\",\"black\",\"black\",\"black\",\"black\",\"black\",\"black\",\"black\",\"black\",\"black\",\"black\",\"black\",\"black\",\"black\",\"black\",\"black\",\"black\",\"black\",\"black\",\"black\",\"black\",\"black\",\"black\",\"black\",\"black\",\"black\",\"black\",\"black\",\"black\",\"black\",\"black\",\"black\",\"black\",\"black\",\"black\",\"black\",\"black\",\"black\",\"black\",\"black\",\"black\",\"black\",\"black\",\"black\",\"black\",\"black\",\"black\",\"black\",\"black\",\"black\",\"black\",\"black\",\"black\",\"black\",\"black\",\"black\",\"black\",\"black\",\"black\",\"black\",\"black\",\"black\",\"black\",\"black\",\"black\",\"black\",\"black\",\"black\",\"black\",\"black\",\"black\",\"black\",\"black\",\"black\",\"black\",\"black\",\"black\",\"black\",\"black\",\"black\",\"black\",\"black\",\"black\",\"black\",\"black\",\"black\",\"black\",\"black\",\"black\",\"black\",\"black\",\"black\",\"black\",\"black\",\"black\",\"black\",\"black\",\"black\",\"black\",\"black\",\"black\",\"black\",\"black\",\"black\",\"black\",\"black\",\"black\",\"black\",\"black\",\"black\",\"black\",\"black\",\"black\",\"black\",\"black\",\"black\",\"black\",\"black\",\"black\",\"black\",\"black\",\"black\",\"black\",\"black\",\"black\",\"black\",\"black\",\"black\",\"black\",\"black\",\"black\",\"black\",\"black\",\"black\",\"black\",\"black\",\"black\",\"black\",\"black\",\"black\",\"black\",\"black\",\"black\",\"black\",\"black\",\"black\",\"black\",\"black\",\"black\",\"black\",\"black\",\"black\",\"black\",\"black\",\"black\",\"black\",\"black\",\"black\",\"black\",\"black\",\"black\",\"black\",\"black\",\"black\",\"black\",\"black\",\"black\",\"black\",\"black\",\"black\",\"black\",\"black\",\"black\",\"black\",\"black\",\"black\",\"black\",\"black\",\"black\",\"black\",\"black\",\"black\",\"black\",\"black\",\"black\",\"black\",\"black\",\"black\",\"black\",\"black\",\"black\",\"black\",\"black\",\"black\",\"black\",\"black\",\"black\",\"black\",\"black\",\"black\",\"black\",\"black\",\"black\",\"black\",\"black\",\"black\",\"black\",\"black\",\"black\",\"black\",\"black\",\"black\",\"black\",\"black\",\"black\",\"black\",\"black\",\"black\",\"black\",\"black\",\"black\",\"black\",\"black\",\"black\",\"black\",\"black\",\"black\",\"black\",\"black\",\"black\",\"black\",\"black\",\"black\",\"black\",\"black\",\"black\",\"black\",\"black\",\"black\",\"black\",\"black\",\"black\",\"black\",\"black\",\"black\",\"black\",\"black\",\"black\",\"black\",\"black\",\"black\",\"black\",\"black\",\"black\",\"black\",\"black\",\"black\",\"black\",\"black\",\"black\",\"black\",\"black\",\"black\",\"black\",\"black\",\"black\",\"black\",\"black\",\"black\",\"black\",\"black\",\"black\",\"black\",\"black\",\"black\",\"black\",\"black\",\"black\",\"black\",\"black\",\"black\",\"black\",\"black\",\"black\",\"black\",\"black\",\"black\",\"black\",\"black\",\"black\",\"black\",\"black\",\"black\",\"black\",\"black\",\"black\",\"black\",\"black\",\"black\",\"black\",\"black\",\"black\",\"black\",\"black\",\"black\",\"black\",\"black\",\"black\",\"black\",\"black\",\"black\",\"black\",\"black\",\"black\",\"black\",\"black\",\"black\",\"black\",\"black\",\"black\",\"black\",\"black\",\"black\",\"black\",\"black\",\"black\",\"black\",\"black\",\"black\",\"black\",\"black\",\"black\",\"black\",\"black\",\"black\",\"black\",\"black\",\"black\",\"black\",\"black\",\"black\",\"black\",\"black\",\"black\",\"black\",\"black\",\"black\",\"black\",\"black\",\"black\",\"black\",\"black\",\"black\",\"black\",\"black\",\"black\",\"black\",\"black\",\"black\",\"black\",\"black\",\"black\",\"black\",\"black\",\"black\",\"black\",\"black\",\"black\",\"black\",\"black\",\"black\",\"black\",\"black\",\"black\",\"black\",\"black\"],\"xs\":[[135758231,135758231],[135758520,135758520],[135766072,135766072],[135773420,135773420],[135773446,135773446],[135773617,135773617],[135773692,135773692],[135774681,135774681],[135775049,135775049],[135776430,135776430],[135778656,135778656],[135780168,135780168],[135780587,135780587],[135781301,135781301],[135781522,135781522],[135781635,135781635],[135782456,135782456],[135783157,135783157],[135783366,135783366],[135783367,135783367],[135784227,135784227],[135784733,135784733],[135785066,135785066],[135785068,135785068],[135785149,135785149],[135787148,135787148],[135787642,135787642],[135789405,135789405],[135789472,135789472],[135789682,135789682],[135789784,135789784],[135792338,135792338],[135792528,135792528],[135793565,135793565],[135793684,135793684],[135793845,135793845],[135794367,135794367],[135794986,135794986],[135795040,135795040],[135795095,135795095],[135795150,135795150],[135795385,135795385],[135795396,135795396],[135795443,135795443],[135795595,135795595],[135796000,135796000],[135796155,135796155],[135796410,135796410],[135796965,135796965],[135797223,135797223],[135797747,135797747],[135798082,135798082],[135798758,135798758],[135799082,135799082],[135800085,135800085],[135800601,135800601],[135800757,135800757],[135801228,135801228],[135801956,135801956],[135802020,135802020],[135802028,135802028],[135802050,135802050],[135802148,135802148],[135803766,135803766],[135809241,135809241],[135812969,135812969],[135814716,135814716],[135818907,135818907],[135829432,135829432],[135832131,135832131],[135849613,135849613],[135853807,135853807],[135859923,135859923],[135860305,135860305],[135861497,135861497],[135863143,135863143],[135864294,135864294],[135871624,135871624],[135872646,135872646],[135874038,135874038],[135874622,135874622],[135878814,135878814],[135880013,135880013],[135884487,135884487],[135885357,135885357],[135893853,135893853],[135895809,135895809],[135895879,135895879],[135899069,135899069],[135909462,135909462],[135912977,135912977],[135914038,135914038],[135921839,135921839],[135925002,135925002],[135928312,135928312],[135935049,135935049],[135962711,135962711],[135984172,135984172],[135994753,135994753],[135994754,135994754],[136016079,136016079],[136027264,136027264],[136052004,136052004],[136100473,136100473],[136110129,136110129],[136166536,136166536],[136169799,136169799],[136191314,136191314],[136228887,136228887],[136238453,136238453],[136288273,136288273],[136292425,136292425],[136321951,136321951],[136324564,136324564],[136327299,136327299],[136327302,136327302],[136376515,136376515],[135766890,135766890],[135778708,135778708],[135779588,135779588],[135805941,135805941],[135805943,135805943],[135932720,135932720],[135933317,135933317],[135934842,135934842],[135952376,135952376],[135958853,135958853],[135962864,135962864],[135963304,135963304],[135965376,135965376],[135980201,135980201],[135981554,135981554],[135988127,135988127],[135988416,135988416],[135991470,135991470],[136000500,136000500],[136001215,136001215],[136001295,136001295],[136016514,136016514],[136017388,136017388],[136041102,136041102],[136041662,136041662],[136047387,136047387],[136052936,136052936],[136055275,136055275],[136063118,136063118],[136066802,136066802],[136068890,136068890],[136069577,136069577],[136081193,136081193],[136105193,136105193],[136107839,136107839],[136110835,136110835],[136138026,136138026],[136142092,136142092],[136146499,136146499],[136147607,136147607],[136148401,136148401],[136150512,136150512],[136154734,136154734],[136155805,136155805],[136163001,136163001],[136163266,136163266],[136163568,136163568],[136163821,136163821],[136165965,136165965],[136183312,136183312],[136185945,136185945],[136191729,136191729],[136204827,136204827],[136208747,136208747],[136217980,136217980],[136229438,136229438],[136232572,136232572],[136240942,136240942],[136251329,136251329],[136265187,136265187],[136265188,136265188],[136275985,136275985],[135818487,135818487],[136048649,136048649],[136107286,136107286],[136127914,136127914],[136130497,136130497],[136268096,136268096],[136281880,136281880],[136289565,136289565],[135839805,135839805],[135866750,135866750],[135886744,135886744],[135924467,135924467],[135964764,135964764],[135964765,135964765],[136099127,136099127],[136099650,136099650],[136100705,136100705],[136101132,136101132],[135989333,135989333],[136000304,136000304],[136030519,136030519],[136034836,136034836],[136125165,136125165],[136264631,136264631],[136028572,136028572],[136141525,136141525],[136174478,136174478],[136211744,136211744],[136240608,136240608],[136320031,136320031],[136320040,136320040],[136368926,136368926],[136438465,136438465],[136393658,136393658],[136396300,136396300],[136401843,136401843],[136407445,136407445],[136411879,136411879],[136412270,136412270],[136413244,136413244],[136413847,136413847],[136415217,136415217],[136416533,136416533],[136420726,136420726],[136429857,136429857],[136433740,136433740],[136436317,136436317],[136437615,136437615],[136438517,136438517],[136440300,136440300],[136443900,136443900],[136444185,136444185],[136444338,136444338],[136449254,136449254],[136451676,136451676],[136459227,136459227],[136463117,136463117],[136463454,136463454],[136467119,136467119],[136468238,136468238],[136470219,136470219],[136483355,136483355],[136485276,136485276],[136486340,136486340],[136486342,136486342],[136494985,136494985],[136497199,136497199],[136511817,136511817],[136513670,136513670],[136515458,136515458],[136516970,136516970],[136525309,136525309],[136528034,136528034],[136532225,136532225],[136535235,136535235],[136536095,136536095],[136544423,136544423],[136546927,136546927],[136552188,136552188],[136552517,136552517],[136555525,136555525],[136556480,136556480],[136560464,136560464],[136572285,136572285],[136582694,136582694],[136582809,136582809],[136584538,136584538],[136585323,136585323],[136586825,136586825],[136600662,136600662],[136612036,136612036],[136618178,136618178],[136618507,136618507],[136622543,136622543],[136624947,136624947],[136625113,136625113],[136626078,136626078],[136628121,136628121],[136632300,136632300],[136633962,136633962],[136635343,136635343],[136638113,136638113],[136640101,136640101],[136641593,136641593],[136646582,136646582],[136648077,136648077],[136648883,136648883],[136652045,136652045],[136653848,136653848],[136656094,136656094],[136661110,136661110],[136663110,136663110],[136663605,136663605],[136665162,136665162],[136665711,136665711],[136668123,136668123],[136670419,136670419],[136672680,136672680],[136673546,136673546],[136684632,136684632],[136686114,136686114],[136690425,136690425],[136690783,136690783],[136692893,136692893],[136694905,136694905],[136695694,136695694],[136695705,136695705],[136696608,136696608],[136697372,136697372],[136697468,136697468],[136700024,136700024],[136701539,136701539],[136702118,136702118],[136707480,136707480],[136710554,136710554],[136714178,136714178],[136719173,136719173],[136725459,136725459],[136734569,136734569],[136744678,136744678],[136748779,136748779],[136751488,136751488],[136754183,136754183],[136763242,136763242],[136765074,136765074],[136773638,136773638],[136500475,136500475],[136501509,136501509],[136504101,136504101],[136509868,136509868],[136520043,136520043],[136527120,136527120],[136530379,136530379],[136530443,136530443],[136539330,136539330],[136539670,136539670],[136540083,136540083],[136542559,136542559],[136542560,136542560],[136506375,136506375],[136506927,136506927],[136510012,136510012],[136538939,136538939],[136535876,136535876],[136544651,136544651],[136545844,136545844],[136552526,136552526],[136553022,136553022],[136554797,136554797],[136554890,136554890],[136588031,136588031],[136589278,136589278],[136589379,136589379],[136589741,136589741],[136590746,136590746],[136593553,136593553],[136593678,136593678],[136652491,136652491],[136652524,136652524],[136661150,136661150],[136669264,136669264],[136726567,136726567],[136732772,136732772],[136652953,136652953],[136655582,136655582],[136674028,136674028],[136684940,136684940],[136761175,136761175],[136653925,136653925],[136654833,136654833],[136656534,136656534],[136656536,136656536],[136657252,136657252],[136667301,136667301],[136667487,136667487],[136672775,136672775],[136680534,136680534],[136686393,136686393],[136688749,136688749],[136692553,136692553],[136697371,136697371],[136708787,136708787],[136710372,136710372],[136711064,136711064],[136715324,136715324],[136723504,136723504],[136737460,136737460],[136743143,136743143],[136746224,136746224],[136751842,136751842],[136759379,136759379],[136761853,136761853]],\"ys\":[[750,796],[750,796],[750,796],[750,796],[750,796],[750,796],[750,796],[750,796],[750,796],[750,796],[750,796],[750,796],[750,796],[750,796],[750,796],[750,796],[750,796],[750,796],[750,796],[750,796],[750,796],[750,796],[750,796],[750,796],[750,796],[750,796],[750,796],[750,796],[750,796],[750,796],[750,796],[750,796],[750,796],[750,796],[750,796],[750,796],[750,796],[750,796],[750,796],[750,796],[750,796],[750,796],[750,796],[750,796],[750,796],[750,796],[750,796],[750,796],[750,796],[750,796],[750,796],[750,796],[750,796],[750,796],[750,796],[750,796],[750,796],[750,796],[750,796],[750,796],[750,796],[750,796],[750,796],[750,796],[750,796],[750,796],[750,796],[750,796],[750,796],[750,796],[750,796],[750,796],[750,796],[750,796],[750,796],[750,796],[750,796],[750,796],[750,796],[750,796],[750,796],[750,796],[750,796],[750,796],[750,796],[750,796],[750,796],[750,796],[750,796],[750,796],[750,796],[750,796],[750,796],[750,796],[750,796],[750,796],[750,796],[750,796],[750,796],[750,796],[750,796],[750,796],[750,796],[750,796],[750,796],[750,796],[750,796],[750,796],[750,796],[750,796],[750,796],[750,796],[750,796],[750,796],[750,796],[750,796],[750,796],[450,493],[450,493],[450,493],[450,493],[450,493],[450,493],[450,493],[450,493],[450,493],[450,493],[450,493],[450,493],[450,493],[450,493],[450,493],[450,493],[450,493],[450,493],[450,493],[450,493],[450,493],[450,493],[450,493],[450,493],[450,493],[450,493],[450,493],[450,493],[450,493],[450,493],[450,493],[450,493],[450,493],[450,493],[450,493],[450,493],[450,493],[450,493],[450,493],[450,493],[450,493],[450,493],[450,493],[450,493],[450,493],[450,493],[450,493],[450,493],[450,493],[450,493],[450,493],[450,493],[450,493],[450,493],[450,493],[450,493],[450,493],[450,493],[450,493],[450,493],[450,493],[450,493],[150,180],[150,180],[150,180],[150,180],[150,180],[150,180],[150,180],[150,180],[250,290],[250,290],[250,290],[250,290],[350,391],[350,391],[350,391],[350,391],[350,391],[350,391],[250,288],[250,288],[250,288],[250,288],[250,288],[250,288],[50,63],[50,63],[50,63],[50,63],[50,63],[50,63],[50,63],[50,63],[50,63],[650,694],[650,694],[650,694],[650,694],[650,694],[650,694],[650,694],[650,694],[650,694],[650,694],[650,694],[650,694],[650,694],[650,694],[650,694],[650,694],[650,694],[650,694],[650,694],[650,694],[650,694],[650,694],[650,694],[650,694],[650,694],[650,694],[650,694],[650,694],[650,694],[650,694],[650,694],[650,694],[350,390],[350,390],[350,390],[350,390],[350,390],[350,390],[350,390],[350,390],[350,390],[350,390],[350,390],[350,390],[350,390],[350,390],[350,390],[350,390],[350,390],[350,390],[350,390],[350,390],[350,390],[350,390],[350,390],[350,390],[350,390],[350,390],[350,390],[350,390],[350,390],[350,390],[350,390],[350,390],[350,390],[350,390],[350,390],[350,390],[350,390],[350,390],[350,390],[350,390],[350,390],[350,390],[350,390],[350,390],[350,390],[350,390],[350,390],[350,390],[350,390],[350,390],[350,390],[350,390],[350,390],[350,390],[350,390],[350,390],[350,390],[350,390],[350,390],[350,390],[350,390],[350,390],[350,390],[350,390],[350,390],[350,390],[350,390],[350,390],[350,390],[350,390],[350,390],[350,390],[350,390],[350,390],[350,390],[350,390],[350,390],[350,390],[350,390],[350,390],[350,390],[450,493],[450,493],[450,493],[450,493],[450,493],[450,493],[450,493],[450,493],[450,493],[450,493],[450,493],[450,493],[450,493],[650,694],[650,694],[650,694],[650,694],[550,594],[550,594],[550,594],[550,594],[550,594],[550,594],[550,594],[750,796],[750,796],[750,796],[750,796],[750,796],[750,796],[750,796],[450,492],[450,492],[450,492],[450,492],[450,492],[450,492],[550,594],[550,594],[550,594],[550,594],[550,594],[750,795],[750,795],[750,795],[750,795],[750,795],[750,795],[750,795],[750,795],[750,795],[750,795],[750,795],[750,795],[750,795],[750,795],[750,795],[750,795],[750,795],[750,795],[750,795],[750,795],[750,795],[750,795],[750,795],[750,795]]}},\"id\":\"a1dc7cc2-3105-4236-92bb-4dbd4f9bd295\",\"type\":\"ColumnDataSource\"},{\"attributes\":{\"data_source\":{\"id\":\"2a1692aa-1c05-4a22-8ab2-2e8261c5a667\",\"type\":\"ColumnDataSource\"},\"glyph\":{\"id\":\"c940c049-468a-4786-af50-9cfbe352a708\",\"type\":\"Quad\"},\"hover_glyph\":null,\"nonselection_glyph\":{\"id\":\"0cb6e9f4-e81d-4370-bc18-0660c6a007f1\",\"type\":\"Quad\"},\"selection_glyph\":null},\"id\":\"6b766647-700b-41a7-b78e-512606b8dcb5\",\"type\":\"GlyphRenderer\"},{\"attributes\":{\"plot\":null,\"text\":null},\"id\":\"4fdb8cc7-99d4-4e4d-aaa4-680d99bbd69b\",\"type\":\"Title\"},{\"attributes\":{\"level\":\"glyph\",\"plot\":{\"id\":\"cce64ed7-3673-4eb2-8db0-3f5275763da4\",\"subtype\":\"Figure\",\"type\":\"Plot\"},\"source\":{\"id\":\"647a58e8-9cae-44eb-8cb9-8b26c4a182e9\",\"type\":\"ColumnDataSource\"},\"text\":{\"field\":\"vals\"},\"text_align\":\"center\",\"text_baseline\":\"middle\",\"text_font_size\":{\"value\":\"8pt\"},\"x\":{\"field\":\"x\"},\"y\":{\"field\":\"y\"}},\"id\":\"4c472e1f-1405-4db9-a6c5-b2c0cdf3acae\",\"type\":\"LabelSet\"},{\"attributes\":{\"dimension\":1,\"plot\":{\"id\":\"cce64ed7-3673-4eb2-8db0-3f5275763da4\",\"subtype\":\"Figure\",\"type\":\"Plot\"},\"ticker\":{\"id\":\"cd3a5a98-142f-4ffd-837f-d2f252ff8965\",\"type\":\"BasicTicker\"}},\"id\":\"28908387-5dd8-495f-a90f-19f6fcf69ada\",\"type\":\"Grid\"},{\"attributes\":{\"plot\":{\"id\":\"cce64ed7-3673-4eb2-8db0-3f5275763da4\",\"subtype\":\"Figure\",\"type\":\"Plot\"}},\"id\":\"a4941432-e182-4bdc-b4c7-472dc3fe2efa\",\"type\":\"HelpTool\"},{\"attributes\":{\"level\":\"glyph\",\"plot\":{\"id\":\"cce64ed7-3673-4eb2-8db0-3f5275763da4\",\"subtype\":\"Figure\",\"type\":\"Plot\"},\"source\":{\"id\":\"e2090099-7528-4262-8eb3-f035a8dfd943\",\"type\":\"ColumnDataSource\"},\"text\":{\"field\":\"vals\"},\"text_font_size\":{\"value\":\"9pt\"},\"text_font_style\":\"bold\",\"x\":{\"field\":\"x\"},\"y\":{\"field\":\"y\"}},\"id\":\"afaa825d-5e98-4f92-adfb-7a409af4e1e1\",\"type\":\"LabelSet\"},{\"attributes\":{\"formatter\":{\"id\":\"300c8088-8362-4b10-ac17-9b8d5cf6c321\",\"type\":\"BasicTickFormatter\"},\"plot\":{\"id\":\"cce64ed7-3673-4eb2-8db0-3f5275763da4\",\"subtype\":\"Figure\",\"type\":\"Plot\"},\"ticker\":{\"id\":\"cd3a5a98-142f-4ffd-837f-d2f252ff8965\",\"type\":\"BasicTicker\"},\"visible\":null},\"id\":\"0243dd27-d099-4322-a17c-1ea23adf9126\",\"type\":\"LinearAxis\"},{\"attributes\":{\"overlay\":{\"id\":\"54497c37-95e9-49e1-b6f3-804e8c57d527\",\"type\":\"BoxAnnotation\"},\"plot\":{\"id\":\"cce64ed7-3673-4eb2-8db0-3f5275763da4\",\"subtype\":\"Figure\",\"type\":\"Plot\"}},\"id\":\"f21955ad-ae99-4449-8592-ed36cb695ae6\",\"type\":\"BoxZoomTool\"},{\"attributes\":{\"line_alpha\":{\"value\":0.1},\"line_color\":{\"value\":\"#1f77b4\"},\"xs\":{\"field\":\"xs\"},\"ys\":{\"field\":\"ys\"}},\"id\":\"f204ec00-2701-4008-b3fc-31824854027f\",\"type\":\"MultiLine\"},{\"attributes\":{\"callback\":null,\"end\":136786630,\"start\":135757320},\"id\":\"85c51291-2dea-4c52-a8f6-5fc4a3c8f80c\",\"type\":\"Range1d\"},{\"attributes\":{\"plot\":{\"id\":\"cce64ed7-3673-4eb2-8db0-3f5275763da4\",\"subtype\":\"Figure\",\"type\":\"Plot\"},\"ticker\":{\"id\":\"a24b88b9-699e-498d-a03f-7e654d0b3093\",\"type\":\"BasicTicker\"}},\"id\":\"c56a739b-3bdc-4c5a-87e9-9e4a3f17e6f2\",\"type\":\"Grid\"},{\"attributes\":{\"line_color\":{\"field\":\"line_color\"},\"xs\":{\"field\":\"xs\"},\"ys\":{\"field\":\"ys\"}},\"id\":\"be6ec337-8660-4f06-b2e9-13557711069f\",\"type\":\"MultiLine\"},{\"attributes\":{\"callback\":null,\"column_names\":[\"y\",\"x\",\"vals\"],\"data\":{\"vals\":[\"RAB3GAP1\",\"ZRANB3\",\"R3HDM1\",\"UBXN4\",\"LCT\",\"MCM6\",\"DARS\"],\"x\":[135869057.0,136122878.0,136385961.0,136520911.0,136570082.5,136615621.5,136703738.0],\"y\":[860.0,860.0,860.0,860.0,860.0,860.0,860.0]}},\"id\":\"647a58e8-9cae-44eb-8cb9-8b26c4a182e9\",\"type\":\"ColumnDataSource\"},{\"attributes\":{\"plot\":{\"id\":\"cce64ed7-3673-4eb2-8db0-3f5275763da4\",\"subtype\":\"Figure\",\"type\":\"Plot\"}},\"id\":\"356c514e-2115-45a2-8829-183456f1c8e7\",\"type\":\"SaveTool\"},{\"attributes\":{\"bottom\":{\"field\":\"bottom\"},\"fill_alpha\":{\"value\":0.1},\"fill_color\":{\"value\":\"#1f77b4\"},\"left\":{\"field\":\"left\"},\"line_alpha\":{\"value\":0.1},\"line_color\":{\"value\":\"#1f77b4\"},\"right\":{\"field\":\"right\"},\"top\":{\"field\":\"top\"}},\"id\":\"380e57ce-06f1-486c-97e8-d2daa1a72140\",\"type\":\"Quad\"},{\"attributes\":{},\"id\":\"300c8088-8362-4b10-ac17-9b8d5cf6c321\",\"type\":\"BasicTickFormatter\"},{\"attributes\":{},\"id\":\"a24b88b9-699e-498d-a03f-7e654d0b3093\",\"type\":\"BasicTicker\"},{\"attributes\":{\"bottom\":{\"field\":\"bottom\"},\"fill_alpha\":{\"value\":0.1},\"fill_color\":{\"value\":\"#1f77b4\"},\"left\":{\"field\":\"left\"},\"line_alpha\":{\"value\":0.1},\"line_color\":{\"value\":\"#1f77b4\"},\"right\":{\"field\":\"right\"},\"top\":{\"field\":\"top\"}},\"id\":\"0cb6e9f4-e81d-4370-bc18-0660c6a007f1\",\"type\":\"Quad\"},{\"attributes\":{\"data_source\":{\"id\":\"a1dc7cc2-3105-4236-92bb-4dbd4f9bd295\",\"type\":\"ColumnDataSource\"},\"glyph\":{\"id\":\"be6ec337-8660-4f06-b2e9-13557711069f\",\"type\":\"MultiLine\"},\"hover_glyph\":null,\"nonselection_glyph\":{\"id\":\"f204ec00-2701-4008-b3fc-31824854027f\",\"type\":\"MultiLine\"},\"selection_glyph\":null},\"id\":\"5ef222a5-1f3e-49f6-bc08-93eebf95c090\",\"type\":\"GlyphRenderer\"},{\"attributes\":{},\"id\":\"cd3a5a98-142f-4ffd-837f-d2f252ff8965\",\"type\":\"BasicTicker\"},{\"attributes\":{\"callback\":null,\"column_names\":[\"right\",\"bottom\",\"top\",\"left\",\"fill_color\"],\"data\":{\"bottom\":[750,450,150,250,350,250,50,650,350,450,650,550,750,450,550,750],\"fill_color\":[\"#808080\",\"#808080\",\"#c461c4\",\"#61c4c4\",\"#61c4c4\",\"#61c4c4\",\"#00ff00\",\"#c4c461\",\"#808080\",\"#808080\",\"#808080\",\"#808080\",\"#c46161\",\"#808080\",\"#808080\",\"#808080\"],\"left\":[135758231,135766890,135818487,135839805,135964764,135989333,136028572,136393658,136494985,136500475,136506375,136535876,136588031,136652491,136652953,136653925],\"right\":[136376515,136275985,136289565,135924467,136101132,136264631,136438465,136486342,136773638,136542560,136538939,136554890,136593678,136732772,136761175,136761853],\"top\":[796,493,180,290,391,288,63,694,390,493,694,594,796,492,594,795]}},\"id\":\"2a1692aa-1c05-4a22-8ab2-2e8261c5a667\",\"type\":\"ColumnDataSource\"},{\"attributes\":{\"bottom_units\":\"screen\",\"fill_alpha\":{\"value\":0.5},\"fill_color\":{\"value\":\"lightgrey\"},\"left_units\":\"screen\",\"level\":\"overlay\",\"line_alpha\":{\"value\":1.0},\"line_color\":{\"value\":\"black\"},\"line_dash\":[4,4],\"line_width\":{\"value\":2},\"plot\":null,\"render_mode\":\"css\",\"right_units\":\"screen\",\"top_units\":\"screen\"},\"id\":\"54497c37-95e9-49e1-b6f3-804e8c57d527\",\"type\":\"BoxAnnotation\"},{\"attributes\":{\"data_source\":{\"id\":\"f50f1656-f4a9-456a-ad42-da66505c0f7c\",\"type\":\"ColumnDataSource\"},\"glyph\":{\"id\":\"0843bb0d-7df6-4e70-88cb-ac89f64ffdd8\",\"type\":\"Quad\"},\"hover_glyph\":null,\"nonselection_glyph\":{\"id\":\"380e57ce-06f1-486c-97e8-d2daa1a72140\",\"type\":\"Quad\"},\"selection_glyph\":null},\"id\":\"2ef3ea2d-be7e-4dc2-94e2-f1061367c321\",\"type\":\"GlyphRenderer\"},{\"attributes\":{\"formatter\":{\"id\":\"a25fce2f-8daa-4369-99fa-9e3b8150b184\",\"type\":\"BasicTickFormatter\"},\"plot\":{\"id\":\"cce64ed7-3673-4eb2-8db0-3f5275763da4\",\"subtype\":\"Figure\",\"type\":\"Plot\"},\"ticker\":{\"id\":\"a24b88b9-699e-498d-a03f-7e654d0b3093\",\"type\":\"BasicTicker\"}},\"id\":\"a97fae9f-3618-4f9f-a82f-26e2638936bc\",\"type\":\"LinearAxis\"}],\"root_ids\":[\"cce64ed7-3673-4eb2-8db0-3f5275763da4\"]},\"title\":\"Bokeh Application\",\"version\":\"0.12.0\"}};\n",
       "            var render_items = [{\"docid\":\"79a89791-6c63-452f-840f-6570d2b9cf9f\",\"elementid\":\"d893288b-7e52-492e-8209-ed631848304f\",\"modelid\":\"cce64ed7-3673-4eb2-8db0-3f5275763da4\",\"notebook_comms_target\":\"3c18bfc5-8fa8-4b8b-a2b7-b1b9d1913d7e\"}];\n",
       "            \n",
       "            Bokeh.embed.embed_items(docs_json, render_items);\n",
       "        });\n",
       "      },\n",
       "      function(Bokeh) {\n",
       "      }\n",
       "    ];\n",
       "  \n",
       "    function run_inline_js() {\n",
       "      for (var i = 0; i < inline_js.length; i++) {\n",
       "        inline_js[i](window.Bokeh);\n",
       "      }\n",
       "    }\n",
       "  \n",
       "    if (window._bokeh_is_loading === 0) {\n",
       "      console.log(\"Bokeh: BokehJS loaded, going straight to plotting\");\n",
       "      run_inline_js();\n",
       "    } else {\n",
       "      load_libs(js_urls, function() {\n",
       "        console.log(\"Bokeh: BokehJS plotting callback run at\", now());\n",
       "        run_inline_js();\n",
       "      });\n",
       "    }\n",
       "  }(this));\n",
       "</script>"
      ]
     },
     "metadata": {},
     "output_type": "display_data"
    },
    {
     "data": {
      "text/html": [
       "<p><code>&lt;Bokeh Notebook handle for <strong>In[53]</strong>&gt;</code></p>"
      ],
      "text/plain": [
       "<bokeh.io._CommsHandle at 0x7f1488c082d0>"
      ]
     },
     "execution_count": 53,
     "metadata": {},
     "output_type": "execute_result"
    }
   ],
   "source": [
    "plt_obj = dm.superset_allele_mask(am_170, min_match=0.5)\n",
    "plt = plt_obj.do_plot()\n",
    "show(plt)"
   ]
  },
  {
   "cell_type": "markdown",
   "metadata": {},
   "source": [
    "<div style=\"width:700px\">\n",
    "<p>\n",
    "This plot indicates that a selection process  associated with the emergence of the\n",
    "series 9_39 has resulted in overexpression of the first 170 193_843 SNPs.  The series\n",
    "9_39 appears to be rooted in an hierachy formed by a recombination of 8_267 from the\n",
    "South Asian tree and the series including 32_1361 and 81_857 at the root of the upper region\n",
    "of the East Asian tree\n",
    "</div>"
   ]
  },
  {
   "cell_type": "code",
   "execution_count": 54,
   "metadata": {
    "collapsed": false
   },
   "outputs": [
    {
     "data": {
      "text/html": [
       "<table>\n",
       "<thead><tr><th style=\"text-align:center\">index</th><th style=\"text-align:center\">first</th><th style=\"text-align:center\">length</th><th style=\"text-align:center\">snps</th><th style=\"text-align:center\" colspan=2>alleles</th><th style=\"text-align:center\" colspan=2>matches</th><th style=\"text-align:center\" colspan=2>afr</th><th style=\"text-align:center\" colspan=2>afx</th><th style=\"text-align:center\" colspan=2>amr</th><th style=\"text-align:center\" colspan=2>eas</th><th style=\"text-align:center\" colspan=2>eur</th><th style=\"text-align:center\" colspan=2>sas</th><th style=\"text-align:center\" colspan=2>sax</th></tr></thead>\n",
       "<tr class=\"even\"><td style=\"text-align: right;\">354033</td><td style=\"text-align: right;\">136,588,031</td><td style=\"text-align: right;\">5,647</td><td style=\"text-align: right;\">7</td><td style=\"text-align: right;\">1760</td><td style=\"text-align: right;\">0.02</td><td style=\"text-align: right;\">34</td><td style=\"text-align: right;\">0.83</td><td style=\"text-align: right;\">1</td><td style=\"text-align: right;\">0.15</td><td style=\"text-align: right;\">0</td><td style=\"text-align: right;\">0.00</td><td style=\"text-align: right;\">9</td><td style=\"text-align: right;\">1.91</td><td style=\"text-align: right;\">0</td><td style=\"text-align: right;\">0.00</td><td style=\"text-align: right;\">21</td><td style=\"text-align: right;\">3.07</td><td style=\"text-align: right;\">0</td><td style=\"text-align: right;\">0.00</td><td style=\"text-align: right;\">3</td><td style=\"text-align: right;\">0.72</td></tr>\n",
       "<tr><td style=\"text-align: right;\">353244</td><td style=\"text-align: right;\">135,758,231</td><td style=\"text-align: right;\">618,284</td><td style=\"text-align: right;\">117</td><td style=\"text-align: right;\">1685</td><td style=\"text-align: right;\">0.02</td><td style=\"text-align: right;\">41</td><td style=\"text-align: right;\">1.00</td><td style=\"text-align: right;\">1</td><td style=\"text-align: right;\">0.12</td><td style=\"text-align: right;\">0</td><td style=\"text-align: right;\">0.00</td><td style=\"text-align: right;\">13</td><td style=\"text-align: right;\">2.29</td><td style=\"text-align: right;\">0</td><td style=\"text-align: right;\">0.00</td><td style=\"text-align: right;\">24</td><td style=\"text-align: right;\">2.91</td><td style=\"text-align: right;\">0</td><td style=\"text-align: right;\">0.00</td><td style=\"text-align: right;\">3</td><td style=\"text-align: right;\">0.60</td></tr>\n",
       "<tr class=\"even\"><td style=\"text-align: right;\">354130</td><td style=\"text-align: right;\">136,653,925</td><td style=\"text-align: right;\">107,928</td><td style=\"text-align: right;\">24</td><td style=\"text-align: right;\">1504</td><td style=\"text-align: right;\">0.02</td><td style=\"text-align: right;\">31</td><td style=\"text-align: right;\">0.76</td><td style=\"text-align: right;\">1</td><td style=\"text-align: right;\">0.16</td><td style=\"text-align: right;\">0</td><td style=\"text-align: right;\">0.00</td><td style=\"text-align: right;\">9</td><td style=\"text-align: right;\">2.10</td><td style=\"text-align: right;\">0</td><td style=\"text-align: right;\">0.00</td><td style=\"text-align: right;\">18</td><td style=\"text-align: right;\">2.89</td><td style=\"text-align: right;\">0</td><td style=\"text-align: right;\">0.00</td><td style=\"text-align: right;\">3</td><td style=\"text-align: right;\">0.79</td></tr>\n",
       "<tr><td style=\"text-align: right;\">353925</td><td style=\"text-align: right;\">136,506,375</td><td style=\"text-align: right;\">32,564</td><td style=\"text-align: right;\">4</td><td style=\"text-align: right;\">1442</td><td style=\"text-align: right;\">0.02</td><td style=\"text-align: right;\">34</td><td style=\"text-align: right;\">0.83</td><td style=\"text-align: right;\">1</td><td style=\"text-align: right;\">0.15</td><td style=\"text-align: right;\">0</td><td style=\"text-align: right;\">0.00</td><td style=\"text-align: right;\">9</td><td style=\"text-align: right;\">1.91</td><td style=\"text-align: right;\">0</td><td style=\"text-align: right;\">0.00</td><td style=\"text-align: right;\">21</td><td style=\"text-align: right;\">3.07</td><td style=\"text-align: right;\">0</td><td style=\"text-align: right;\">0.00</td><td style=\"text-align: right;\">3</td><td style=\"text-align: right;\">0.72</td></tr>\n",
       "<tr class=\"even\"><td style=\"text-align: right;\">353791</td><td style=\"text-align: right;\">136,393,658</td><td style=\"text-align: right;\">92,684</td><td style=\"text-align: right;\">32</td><td style=\"text-align: right;\">1361</td><td style=\"text-align: right;\">0.03</td><td style=\"text-align: right;\">41</td><td style=\"text-align: right;\">1.00</td><td style=\"text-align: right;\">1</td><td style=\"text-align: right;\">0.12</td><td style=\"text-align: right;\">0</td><td style=\"text-align: right;\">0.00</td><td style=\"text-align: right;\">13</td><td style=\"text-align: right;\">2.29</td><td style=\"text-align: right;\">0</td><td style=\"text-align: right;\">0.00</td><td style=\"text-align: right;\">24</td><td style=\"text-align: right;\">2.91</td><td style=\"text-align: right;\">0</td><td style=\"text-align: right;\">0.00</td><td style=\"text-align: right;\">3</td><td style=\"text-align: right;\">0.60</td></tr>\n",
       "<tr><td style=\"text-align: right;\">353958</td><td style=\"text-align: right;\">136,535,876</td><td style=\"text-align: right;\">19,014</td><td style=\"text-align: right;\">7</td><td style=\"text-align: right;\">1303</td><td style=\"text-align: right;\">0.03</td><td style=\"text-align: right;\">34</td><td style=\"text-align: right;\">0.83</td><td style=\"text-align: right;\">1</td><td style=\"text-align: right;\">0.15</td><td style=\"text-align: right;\">0</td><td style=\"text-align: right;\">0.00</td><td style=\"text-align: right;\">9</td><td style=\"text-align: right;\">1.91</td><td style=\"text-align: right;\">0</td><td style=\"text-align: right;\">0.00</td><td style=\"text-align: right;\">21</td><td style=\"text-align: right;\">3.07</td><td style=\"text-align: right;\">0</td><td style=\"text-align: right;\">0.00</td><td style=\"text-align: right;\">3</td><td style=\"text-align: right;\">0.72</td></tr>\n",
       "<tr class=\"even\"><td style=\"text-align: right;\">354129</td><td style=\"text-align: right;\">136,652,953</td><td style=\"text-align: right;\">108,222</td><td style=\"text-align: right;\">5</td><td style=\"text-align: right;\">1296</td><td style=\"text-align: right;\">0.02</td><td style=\"text-align: right;\">31</td><td style=\"text-align: right;\">0.76</td><td style=\"text-align: right;\">1</td><td style=\"text-align: right;\">0.16</td><td style=\"text-align: right;\">0</td><td style=\"text-align: right;\">0.00</td><td style=\"text-align: right;\">9</td><td style=\"text-align: right;\">2.10</td><td style=\"text-align: right;\">0</td><td style=\"text-align: right;\">0.00</td><td style=\"text-align: right;\">18</td><td style=\"text-align: right;\">2.89</td><td style=\"text-align: right;\">0</td><td style=\"text-align: right;\">0.00</td><td style=\"text-align: right;\">3</td><td style=\"text-align: right;\">0.79</td></tr>\n",
       "<tr><td style=\"text-align: right;\">353269</td><td style=\"text-align: right;\">135,766,890</td><td style=\"text-align: right;\">509,095</td><td style=\"text-align: right;\">62</td><td style=\"text-align: right;\">1265</td><td style=\"text-align: right;\">0.03</td><td style=\"text-align: right;\">41</td><td style=\"text-align: right;\">1.00</td><td style=\"text-align: right;\">1</td><td style=\"text-align: right;\">0.12</td><td style=\"text-align: right;\">0</td><td style=\"text-align: right;\">0.00</td><td style=\"text-align: right;\">13</td><td style=\"text-align: right;\">2.29</td><td style=\"text-align: right;\">0</td><td style=\"text-align: right;\">0.00</td><td style=\"text-align: right;\">24</td><td style=\"text-align: right;\">2.91</td><td style=\"text-align: right;\">0</td><td style=\"text-align: right;\">0.00</td><td style=\"text-align: right;\">3</td><td style=\"text-align: right;\">0.60</td></tr>\n",
       "<tr class=\"even\"><td style=\"text-align: right;\">353919</td><td style=\"text-align: right;\">136,500,475</td><td style=\"text-align: right;\">42,085</td><td style=\"text-align: right;\">13</td><td style=\"text-align: right;\">1227</td><td style=\"text-align: right;\">0.03</td><td style=\"text-align: right;\">34</td><td style=\"text-align: right;\">0.83</td><td style=\"text-align: right;\">1</td><td style=\"text-align: right;\">0.15</td><td style=\"text-align: right;\">0</td><td style=\"text-align: right;\">0.00</td><td style=\"text-align: right;\">9</td><td style=\"text-align: right;\">1.91</td><td style=\"text-align: right;\">0</td><td style=\"text-align: right;\">0.00</td><td style=\"text-align: right;\">21</td><td style=\"text-align: right;\">3.07</td><td style=\"text-align: right;\">0</td><td style=\"text-align: right;\">0.00</td><td style=\"text-align: right;\">3</td><td style=\"text-align: right;\">0.72</td></tr>\n",
       "<tr><td style=\"text-align: right;\">354127</td><td style=\"text-align: right;\">136,652,491</td><td style=\"text-align: right;\">80,281</td><td style=\"text-align: right;\">6</td><td style=\"text-align: right;\">1114</td><td style=\"text-align: right;\">0.03</td><td style=\"text-align: right;\">31</td><td style=\"text-align: right;\">0.76</td><td style=\"text-align: right;\">1</td><td style=\"text-align: right;\">0.16</td><td style=\"text-align: right;\">0</td><td style=\"text-align: right;\">0.00</td><td style=\"text-align: right;\">9</td><td style=\"text-align: right;\">2.10</td><td style=\"text-align: right;\">0</td><td style=\"text-align: right;\">0.00</td><td style=\"text-align: right;\">18</td><td style=\"text-align: right;\">2.89</td><td style=\"text-align: right;\">0</td><td style=\"text-align: right;\">0.00</td><td style=\"text-align: right;\">3</td><td style=\"text-align: right;\">0.79</td></tr>\n",
       "<tr class=\"even\"><td style=\"text-align: right;\">353504</td><td style=\"text-align: right;\">135,964,764</td><td style=\"text-align: right;\">136,368</td><td style=\"text-align: right;\">6</td><td style=\"text-align: right;\">946</td><td style=\"text-align: right;\">0.04</td><td style=\"text-align: right;\">41</td><td style=\"text-align: right;\">1.00</td><td style=\"text-align: right;\">1</td><td style=\"text-align: right;\">0.12</td><td style=\"text-align: right;\">0</td><td style=\"text-align: right;\">0.00</td><td style=\"text-align: right;\">13</td><td style=\"text-align: right;\">2.29</td><td style=\"text-align: right;\">0</td><td style=\"text-align: right;\">0.00</td><td style=\"text-align: right;\">24</td><td style=\"text-align: right;\">2.91</td><td style=\"text-align: right;\">0</td><td style=\"text-align: right;\">0.00</td><td style=\"text-align: right;\">3</td><td style=\"text-align: right;\">0.60</td></tr>\n",
       "<tr><td style=\"text-align: right;\">353902</td><td style=\"text-align: right;\">136,494,985</td><td style=\"text-align: right;\">278,653</td><td style=\"text-align: right;\">81</td><td style=\"text-align: right;\">857</td><td style=\"text-align: right;\">0.04</td><td style=\"text-align: right;\">31</td><td style=\"text-align: right;\">0.76</td><td style=\"text-align: right;\">1</td><td style=\"text-align: right;\">0.16</td><td style=\"text-align: right;\">0</td><td style=\"text-align: right;\">0.00</td><td style=\"text-align: right;\">9</td><td style=\"text-align: right;\">2.10</td><td style=\"text-align: right;\">0</td><td style=\"text-align: right;\">0.00</td><td style=\"text-align: right;\">18</td><td style=\"text-align: right;\">2.89</td><td style=\"text-align: right;\">0</td><td style=\"text-align: right;\">0.00</td><td style=\"text-align: right;\">3</td><td style=\"text-align: right;\">0.79</td></tr>\n",
       "<tr class=\"even\"><td style=\"text-align: right;\">353384</td><td style=\"text-align: right;\">135,839,805</td><td style=\"text-align: right;\">84,662</td><td style=\"text-align: right;\">4</td><td style=\"text-align: right;\">815</td><td style=\"text-align: right;\">0.05</td><td style=\"text-align: right;\">41</td><td style=\"text-align: right;\">1.00</td><td style=\"text-align: right;\">1</td><td style=\"text-align: right;\">0.12</td><td style=\"text-align: right;\">0</td><td style=\"text-align: right;\">0.00</td><td style=\"text-align: right;\">13</td><td style=\"text-align: right;\">2.29</td><td style=\"text-align: right;\">0</td><td style=\"text-align: right;\">0.00</td><td style=\"text-align: right;\">24</td><td style=\"text-align: right;\">2.91</td><td style=\"text-align: right;\">0</td><td style=\"text-align: right;\">0.00</td><td style=\"text-align: right;\">3</td><td style=\"text-align: right;\">0.60</td></tr>\n",
       "<tr><td style=\"text-align: right;\">353521</td><td style=\"text-align: right;\">135,989,333</td><td style=\"text-align: right;\">275,298</td><td style=\"text-align: right;\">6</td><td style=\"text-align: right;\">713</td><td style=\"text-align: right;\">0.06</td><td style=\"text-align: right;\">41</td><td style=\"text-align: right;\">1.00</td><td style=\"text-align: right;\">1</td><td style=\"text-align: right;\">0.12</td><td style=\"text-align: right;\">0</td><td style=\"text-align: right;\">0.00</td><td style=\"text-align: right;\">13</td><td style=\"text-align: right;\">2.29</td><td style=\"text-align: right;\">0</td><td style=\"text-align: right;\">0.00</td><td style=\"text-align: right;\">24</td><td style=\"text-align: right;\">2.91</td><td style=\"text-align: right;\">0</td><td style=\"text-align: right;\">0.00</td><td style=\"text-align: right;\">3</td><td style=\"text-align: right;\">0.60</td></tr>\n",
       "<tr class=\"even\"><td style=\"text-align: right;\">353358</td><td style=\"text-align: right;\">135,818,487</td><td style=\"text-align: right;\">471,078</td><td style=\"text-align: right;\">8</td><td style=\"text-align: right;\">267</td><td style=\"text-align: right;\">0.15</td><td style=\"text-align: right;\">41</td><td style=\"text-align: right;\">1.00</td><td style=\"text-align: right;\">1</td><td style=\"text-align: right;\">0.12</td><td style=\"text-align: right;\">0</td><td style=\"text-align: right;\">0.00</td><td style=\"text-align: right;\">13</td><td style=\"text-align: right;\">2.29</td><td style=\"text-align: right;\">0</td><td style=\"text-align: right;\">0.00</td><td style=\"text-align: right;\">24</td><td style=\"text-align: right;\">2.91</td><td style=\"text-align: right;\">0</td><td style=\"text-align: right;\">0.00</td><td style=\"text-align: right;\">3</td><td style=\"text-align: right;\">0.60</td></tr>\n",
       "<tr><td style=\"text-align: right;\">353559</td><td style=\"text-align: right;\">136,028,572</td><td style=\"text-align: right;\">409,893</td><td style=\"text-align: right;\">9</td><td style=\"text-align: right;\">39</td><td style=\"text-align: right;\">0.97</td><td style=\"text-align: right;\">38</td><td style=\"text-align: right;\">0.93</td><td style=\"text-align: right;\">1</td><td style=\"text-align: right;\">0.13</td><td style=\"text-align: right;\">0</td><td style=\"text-align: right;\">0.00</td><td style=\"text-align: right;\">13</td><td style=\"text-align: right;\">2.47</td><td style=\"text-align: right;\">0</td><td style=\"text-align: right;\">0.00</td><td style=\"text-align: right;\">21</td><td style=\"text-align: right;\">2.75</td><td style=\"text-align: right;\">0</td><td style=\"text-align: right;\">0.00</td><td style=\"text-align: right;\">3</td><td style=\"text-align: right;\">0.64</td></tr>\n",
       "</table>"
      ],
      "text/plain": [
       "<IPython.core.display.HTML object>"
      ]
     },
     "execution_count": 54,
     "metadata": {},
     "output_type": "execute_result"
    }
   ],
   "source": [
    "HTML(plt_obj.get_html())"
   ]
  },
  {
   "cell_type": "markdown",
   "metadata": {},
   "source": [
    "<div style=\"width:700px\">\n",
    "<p>\n",
    "The data associated with the plot shows that 38 of the chromosome samples that\n",
    "express the series 9_38 express the first 170 SNPs of series 193_843.\n",
    "</div>"
   ]
  },
  {
   "cell_type": "code",
   "execution_count": 55,
   "metadata": {
    "collapsed": false
   },
   "outputs": [
    {
     "data": {
      "text/plain": [
       "array([1, 1, 1, 1, 1, 1, 1, 1, 1, 1, 1, 1, 1, 1, 1, 1, 1, 1, 1, 1, 1, 1, 1,\n",
       "       1, 1, 1, 1, 1, 1, 1, 1, 1, 1, 1, 1, 1, 1, 1, 1, 1, 1, 1, 1, 1, 1, 1,\n",
       "       1, 1, 1, 1, 1, 1, 1, 1, 1, 1, 1, 1, 1, 1, 1, 1, 1, 1, 1, 1, 1, 1, 1,\n",
       "       1, 1, 1, 1, 1, 1, 1, 1, 1, 1, 1, 1, 1, 1, 1, 1, 1, 1, 1, 1, 1, 1, 1,\n",
       "       1, 1, 1, 1, 1, 1, 1, 1, 1, 1, 1, 1, 1, 1, 1, 1, 1, 1, 1, 1, 1, 1, 1,\n",
       "       1, 1, 1, 1, 1, 1, 1, 1, 1, 1, 0, 1, 1, 1, 1, 1, 1, 1, 1, 1, 1, 1, 1,\n",
       "       1, 1, 1, 1, 1, 1, 1, 1, 1, 1, 1, 1, 1, 1, 1, 1, 1, 1, 1, 1, 1, 1, 1,\n",
       "       1, 1, 1, 1, 1, 1, 1, 1, 1, 0, 0, 0, 0, 0, 0, 0, 0, 0, 0, 0, 0, 0, 0,\n",
       "       0, 0, 0, 0, 0, 0, 0, 0, 0])"
      ]
     },
     "execution_count": 55,
     "metadata": {},
     "output_type": "execute_result"
    }
   ],
   "source": [
    "aps_169, am_169 = an.sa_193_843.snps_from_aps_value(169, nam_193_843)\n",
    "aps_169"
   ]
  },
  {
   "cell_type": "markdown",
   "metadata": {},
   "source": [
    "<div style=\"width:700px\">\n",
    "<p>\n",
    "This data is for the 1 chromosome sample that expresses 169 series\n",
    "193_843 SNPs.  It expresses all but 1 of the first 170 SNPs.\n",
    "</div>"
   ]
  },
  {
   "cell_type": "code",
   "execution_count": 36,
   "metadata": {
    "collapsed": false
   },
   "outputs": [
    {
     "data": {
      "text/html": [
       "\n",
       "\n",
       "    <div class=\"bk-root\">\n",
       "        <div class=\"plotdiv\" id=\"1b14821f-d39c-4833-a936-067846425058\"></div>\n",
       "    </div>\n",
       "<script type=\"text/javascript\">\n",
       "  \n",
       "  (function(global) {\n",
       "    function now() {\n",
       "      return new Date();\n",
       "    }\n",
       "  \n",
       "    if (typeof (window._bokeh_onload_callbacks) === \"undefined\") {\n",
       "      window._bokeh_onload_callbacks = [];\n",
       "    }\n",
       "  \n",
       "    function run_callbacks() {\n",
       "      window._bokeh_onload_callbacks.forEach(function(callback) { callback() });\n",
       "      delete window._bokeh_onload_callbacks\n",
       "      console.info(\"Bokeh: all callbacks have finished\");\n",
       "    }\n",
       "  \n",
       "    function load_libs(js_urls, callback) {\n",
       "      window._bokeh_onload_callbacks.push(callback);\n",
       "      if (window._bokeh_is_loading > 0) {\n",
       "        console.log(\"Bokeh: BokehJS is being loaded, scheduling callback at\", now());\n",
       "        return null;\n",
       "      }\n",
       "      if (js_urls == null || js_urls.length === 0) {\n",
       "        run_callbacks();\n",
       "        return null;\n",
       "      }\n",
       "      console.log(\"Bokeh: BokehJS not loaded, scheduling load and callback at\", now());\n",
       "      window._bokeh_is_loading = js_urls.length;\n",
       "      for (var i = 0; i < js_urls.length; i++) {\n",
       "        var url = js_urls[i];\n",
       "        var s = document.createElement('script');\n",
       "        s.src = url;\n",
       "        s.async = false;\n",
       "        s.onreadystatechange = s.onload = function() {\n",
       "          window._bokeh_is_loading--;\n",
       "          if (window._bokeh_is_loading === 0) {\n",
       "            console.log(\"Bokeh: all BokehJS libraries loaded\");\n",
       "            run_callbacks()\n",
       "          }\n",
       "        };\n",
       "        s.onerror = function() {\n",
       "          console.warn(\"failed to load library \" + url);\n",
       "        };\n",
       "        console.log(\"Bokeh: injecting script tag for BokehJS library: \", url);\n",
       "        document.getElementsByTagName(\"head\")[0].appendChild(s);\n",
       "      }\n",
       "    };var element = document.getElementById(\"1b14821f-d39c-4833-a936-067846425058\");\n",
       "    if (element == null) {\n",
       "      console.log(\"Bokeh: ERROR: autoload.js configured with elementid '1b14821f-d39c-4833-a936-067846425058' but no matching script tag was found. \")\n",
       "      return false;\n",
       "    }\n",
       "  \n",
       "    var js_urls = [];\n",
       "  \n",
       "    var inline_js = [\n",
       "      function(Bokeh) {\n",
       "        Bokeh.$(function() {\n",
       "            var docs_json = {\"77fb4359-c398-4314-ba8b-a7b0e383615c\":{\"roots\":{\"references\":[{\"attributes\":{\"bottom\":{\"field\":\"bottom\"},\"fill_alpha\":{\"value\":0.1},\"fill_color\":{\"value\":\"#1f77b4\"},\"left\":{\"field\":\"left\"},\"line_alpha\":{\"value\":0.1},\"line_color\":{\"value\":\"#1f77b4\"},\"right\":{\"field\":\"right\"},\"top\":{\"field\":\"top\"}},\"id\":\"f6d51164-c329-4ccd-9632-abfd320146b2\",\"type\":\"Quad\"},{\"attributes\":{},\"id\":\"83123b57-05ce-4db4-8e65-7e4f181b8517\",\"type\":\"ToolEvents\"},{\"attributes\":{\"overlay\":{\"id\":\"3ea5ecaf-d70b-4cf3-93f2-88037900df54\",\"type\":\"BoxAnnotation\"},\"plot\":{\"id\":\"35051270-0d32-4ae4-8516-965b5a3edd90\",\"subtype\":\"Figure\",\"type\":\"Plot\"}},\"id\":\"4a06789b-d336-491a-9ef8-d5dd0f462b26\",\"type\":\"BoxZoomTool\"},{\"attributes\":{\"data_source\":{\"id\":\"046314ce-cd9a-4986-8fc0-8ecac7dbe3e6\",\"type\":\"ColumnDataSource\"},\"glyph\":{\"id\":\"e3dcf23f-96e3-430d-bfd4-eff6afee749d\",\"type\":\"MultiLine\"},\"hover_glyph\":null,\"nonselection_glyph\":{\"id\":\"85079264-c8c7-4354-82df-651c97053134\",\"type\":\"MultiLine\"},\"selection_glyph\":null},\"id\":\"d2a1d149-11af-42fa-807d-3c46f0827952\",\"type\":\"GlyphRenderer\"},{\"attributes\":{\"bottom_units\":\"screen\",\"fill_alpha\":{\"value\":0.5},\"fill_color\":{\"value\":\"lightgrey\"},\"left_units\":\"screen\",\"level\":\"overlay\",\"line_alpha\":{\"value\":1.0},\"line_color\":{\"value\":\"black\"},\"line_dash\":[4,4],\"line_width\":{\"value\":2},\"plot\":null,\"render_mode\":\"css\",\"right_units\":\"screen\",\"top_units\":\"screen\"},\"id\":\"3ea5ecaf-d70b-4cf3-93f2-88037900df54\",\"type\":\"BoxAnnotation\"},{\"attributes\":{\"callback\":null,\"end\":136786630,\"start\":135757320},\"id\":\"c5c866e1-1d4d-4878-8f7e-febde26b6f17\",\"type\":\"Range1d\"},{\"attributes\":{\"line_color\":{\"field\":\"line_color\"},\"xs\":{\"field\":\"xs\"},\"ys\":{\"field\":\"ys\"}},\"id\":\"e3dcf23f-96e3-430d-bfd4-eff6afee749d\",\"type\":\"MultiLine\"},{\"attributes\":{\"formatter\":{\"id\":\"7101d3d8-c784-4e8c-8e8f-0ac9482a3fa1\",\"type\":\"BasicTickFormatter\"},\"plot\":{\"id\":\"35051270-0d32-4ae4-8516-965b5a3edd90\",\"subtype\":\"Figure\",\"type\":\"Plot\"},\"ticker\":{\"id\":\"e124e062-135b-445f-802a-8f59a9d2d198\",\"type\":\"BasicTicker\"}},\"id\":\"f2748c4a-ccc1-4477-8763-87df0b95ea7b\",\"type\":\"LinearAxis\"},{\"attributes\":{\"plot\":{\"id\":\"35051270-0d32-4ae4-8516-965b5a3edd90\",\"subtype\":\"Figure\",\"type\":\"Plot\"},\"ticker\":{\"id\":\"e124e062-135b-445f-802a-8f59a9d2d198\",\"type\":\"BasicTicker\"}},\"id\":\"4408ee2f-59d2-48ab-aa50-6f7af89bae0c\",\"type\":\"Grid\"},{\"attributes\":{\"callback\":null,\"column_names\":[\"right\",\"bottom\",\"top\",\"left\",\"fill_color\"],\"data\":{\"bottom\":[650,550,150,250,350,250,50,650,550,450,350,250,450],\"fill_color\":[\"#808080\",\"#808080\",\"#c461c4\",\"#61c4c4\",\"#61c4c4\",\"#61c4c4\",\"#00ff00\",\"#c4c461\",\"#808080\",\"#61c4c4\",\"#808080\",\"#61c4c4\",\"#808080\"],\"left\":[135758231,135766890,135818487,135839805,135964764,135989333,136028572,136393658,136496493,136496805,136511874,136514709,136556805],\"right\":[136376515,136275985,136289565,135924467,136101132,136264631,136438465,136486342,136553925,136552629,136533195,136543147,136747085],\"top\":[696,593,180,290,391,288,63,694,593,491,391,290,491]}},\"id\":\"dec5a17e-537e-4d11-b65a-17e59900a1d6\",\"type\":\"ColumnDataSource\"},{\"attributes\":{\"callback\":null,\"end\":800},\"id\":\"56d7b376-5fe2-4ba0-af6c-bb8d70f205ff\",\"type\":\"Range1d\"},{\"attributes\":{\"callback\":null,\"column_names\":[\"y\",\"x\",\"vals\"],\"data\":{\"vals\":[\"117_1685\",\"62_1265\",\"8_267\",\"4_815\",\"6_946\",\"6_713\",\"9_39\",\"32_1361\",\"9_1170\",\"9_1023\",\"5_976\",\"6_820\",\"39_1014\"],\"x\":[135758231,135766890,135818487,135839805,135964764,135989333,136028572,136393658,136496493,136496805,136511874,136514709,136556805],\"y\":[701.0,598.0,185.0,295.0,396.0,293.0,68.0,699.0,598.0,496.0,396.0,295.0,496.0]}},\"id\":\"4c4798fd-2d18-4028-a1d2-7cc62d60a8a1\",\"type\":\"ColumnDataSource\"},{\"attributes\":{\"data_source\":{\"id\":\"3ede42c1-abae-4335-9a4d-e9f3e5e9e940\",\"type\":\"ColumnDataSource\"},\"glyph\":{\"id\":\"555231fe-471f-4eaa-b785-3f814a428a0a\",\"type\":\"Quad\"},\"hover_glyph\":null,\"nonselection_glyph\":{\"id\":\"f6d51164-c329-4ccd-9632-abfd320146b2\",\"type\":\"Quad\"},\"selection_glyph\":null},\"id\":\"fc4932ae-d18f-48a6-96d9-7f2607d7b4ce\",\"type\":\"GlyphRenderer\"},{\"attributes\":{},\"id\":\"72122e24-10c3-4916-ad5e-997bad2381e1\",\"type\":\"BasicTickFormatter\"},{\"attributes\":{\"data_source\":{\"id\":\"dec5a17e-537e-4d11-b65a-17e59900a1d6\",\"type\":\"ColumnDataSource\"},\"glyph\":{\"id\":\"32c3ccb5-808f-4ea7-80f7-4923d0bb9b90\",\"type\":\"Quad\"},\"hover_glyph\":null,\"nonselection_glyph\":{\"id\":\"d8e7874e-f98f-46bb-923e-1a2734879ea4\",\"type\":\"Quad\"},\"selection_glyph\":null},\"id\":\"9254d054-13a5-4d76-a346-c9a8283a0d5b\",\"type\":\"GlyphRenderer\"},{\"attributes\":{\"level\":\"glyph\",\"plot\":{\"id\":\"35051270-0d32-4ae4-8516-965b5a3edd90\",\"subtype\":\"Figure\",\"type\":\"Plot\"},\"source\":{\"id\":\"a730afce-9341-4da1-8827-053e2f8421e2\",\"type\":\"ColumnDataSource\"},\"text\":{\"field\":\"vals\"},\"text_align\":\"center\",\"text_baseline\":\"middle\",\"text_font_size\":{\"value\":\"8pt\"},\"x\":{\"field\":\"x\"},\"y\":{\"field\":\"y\"}},\"id\":\"e37ef15d-2649-4ec6-b6f0-69ada8fe1a78\",\"type\":\"LabelSet\"},{\"attributes\":{\"plot\":{\"id\":\"35051270-0d32-4ae4-8516-965b5a3edd90\",\"subtype\":\"Figure\",\"type\":\"Plot\"}},\"id\":\"967be33f-0868-4660-8f4c-5df292e1daa5\",\"type\":\"PanTool\"},{\"attributes\":{\"bottom\":{\"field\":\"bottom\"},\"fill_color\":{\"value\":\"white\"},\"left\":{\"field\":\"left\"},\"right\":{\"field\":\"right\"},\"top\":{\"field\":\"top\"}},\"id\":\"555231fe-471f-4eaa-b785-3f814a428a0a\",\"type\":\"Quad\"},{\"attributes\":{\"plot\":{\"id\":\"35051270-0d32-4ae4-8516-965b5a3edd90\",\"subtype\":\"Figure\",\"type\":\"Plot\"}},\"id\":\"4991778d-eb60-416b-921d-e2453e54aba3\",\"type\":\"HelpTool\"},{\"attributes\":{\"bottom\":{\"field\":\"bottom\"},\"fill_alpha\":{\"value\":0.1},\"fill_color\":{\"value\":\"#1f77b4\"},\"left\":{\"field\":\"left\"},\"line_alpha\":{\"value\":0.1},\"line_color\":{\"value\":\"#1f77b4\"},\"right\":{\"field\":\"right\"},\"top\":{\"field\":\"top\"}},\"id\":\"d8e7874e-f98f-46bb-923e-1a2734879ea4\",\"type\":\"Quad\"},{\"attributes\":{\"line_alpha\":{\"value\":0.1},\"line_color\":{\"value\":\"#1f77b4\"},\"xs\":{\"field\":\"xs\"},\"ys\":{\"field\":\"ys\"}},\"id\":\"85079264-c8c7-4354-82df-651c97053134\",\"type\":\"MultiLine\"},{\"attributes\":{},\"id\":\"3e79c19e-ab01-40b6-b804-d1ec36f7f180\",\"type\":\"BasicTicker\"},{\"attributes\":{\"level\":\"glyph\",\"plot\":{\"id\":\"35051270-0d32-4ae4-8516-965b5a3edd90\",\"subtype\":\"Figure\",\"type\":\"Plot\"},\"source\":{\"id\":\"4c4798fd-2d18-4028-a1d2-7cc62d60a8a1\",\"type\":\"ColumnDataSource\"},\"text\":{\"field\":\"vals\"},\"text_font_size\":{\"value\":\"9pt\"},\"text_font_style\":\"bold\",\"x\":{\"field\":\"x\"},\"y\":{\"field\":\"y\"}},\"id\":\"0d78b289-1548-4e1e-a14b-853850c7c903\",\"type\":\"LabelSet\"},{\"attributes\":{\"bottom\":{\"field\":\"bottom\"},\"fill_color\":{\"field\":\"fill_color\"},\"left\":{\"field\":\"left\"},\"line_color\":{\"value\":null},\"right\":{\"field\":\"right\"},\"top\":{\"field\":\"top\"}},\"id\":\"32c3ccb5-808f-4ea7-80f7-4923d0bb9b90\",\"type\":\"Quad\"},{\"attributes\":{},\"id\":\"7101d3d8-c784-4e8c-8e8f-0ac9482a3fa1\",\"type\":\"BasicTickFormatter\"},{\"attributes\":{\"callback\":null,\"column_names\":[\"xs\",\"ys\",\"line_color\"],\"data\":{\"line_color\":[\"black\",\"black\",\"black\",\"black\",\"black\",\"black\",\"black\",\"black\",\"black\",\"black\",\"black\",\"black\",\"black\",\"black\",\"black\",\"black\",\"black\",\"black\",\"black\",\"black\",\"black\",\"black\",\"black\",\"black\",\"black\",\"black\",\"black\",\"black\",\"black\",\"black\",\"black\",\"black\",\"black\",\"black\",\"black\",\"black\",\"black\",\"black\",\"black\",\"black\",\"black\",\"black\",\"black\",\"black\",\"black\",\"black\",\"black\",\"black\",\"black\",\"black\",\"black\",\"black\",\"black\",\"black\",\"black\",\"black\",\"black\",\"black\",\"black\",\"black\",\"black\",\"black\",\"black\",\"black\",\"black\",\"black\",\"black\",\"black\",\"black\",\"black\",\"black\",\"black\",\"black\",\"black\",\"black\",\"black\",\"black\",\"black\",\"black\",\"black\",\"black\",\"black\",\"black\",\"black\",\"black\",\"black\",\"black\",\"black\",\"black\",\"black\",\"black\",\"black\",\"black\",\"black\",\"black\",\"black\",\"black\",\"black\",\"black\",\"black\",\"black\",\"black\",\"black\",\"black\",\"black\",\"black\",\"black\",\"black\",\"black\",\"black\",\"black\",\"black\",\"black\",\"black\",\"black\",\"black\",\"black\",\"black\",\"black\",\"black\",\"black\",\"black\",\"black\",\"black\",\"black\",\"black\",\"black\",\"black\",\"black\",\"black\",\"black\",\"black\",\"black\",\"black\",\"black\",\"black\",\"black\",\"black\",\"black\",\"black\",\"black\",\"black\",\"black\",\"black\",\"black\",\"black\",\"black\",\"black\",\"black\",\"black\",\"black\",\"black\",\"black\",\"black\",\"black\",\"black\",\"black\",\"black\",\"black\",\"black\",\"black\",\"black\",\"black\",\"black\",\"black\",\"black\",\"black\",\"black\",\"black\",\"black\",\"black\",\"black\",\"black\",\"black\",\"black\",\"black\",\"black\",\"black\",\"black\",\"black\",\"black\",\"black\",\"black\",\"black\",\"black\",\"black\",\"black\",\"black\",\"black\",\"black\",\"black\",\"black\",\"black\",\"black\",\"black\",\"black\",\"black\",\"black\",\"black\",\"black\",\"black\",\"black\",\"black\",\"black\",\"black\",\"black\",\"black\",\"black\",\"black\",\"black\",\"black\",\"black\",\"black\",\"black\",\"black\",\"black\",\"black\",\"black\",\"black\",\"black\",\"black\",\"black\",\"black\",\"black\",\"black\",\"black\",\"black\",\"black\",\"black\",\"black\",\"black\",\"black\",\"black\",\"black\",\"black\",\"black\",\"black\",\"black\",\"black\",\"black\",\"black\",\"black\",\"black\",\"black\",\"black\",\"black\",\"black\",\"black\",\"black\",\"black\",\"black\",\"black\",\"black\",\"black\",\"black\",\"black\",\"black\",\"black\",\"black\",\"black\",\"black\",\"black\",\"black\",\"black\",\"black\",\"black\",\"black\",\"black\",\"black\",\"black\",\"black\",\"black\",\"black\",\"black\",\"black\",\"black\",\"black\",\"black\",\"black\",\"black\",\"black\",\"black\",\"black\",\"black\",\"black\",\"black\",\"black\",\"black\",\"black\",\"black\",\"black\",\"black\",\"black\",\"black\",\"black\",\"black\",\"black\",\"black\",\"black\",\"black\",\"black\",\"black\",\"black\",\"black\",\"black\",\"black\",\"black\",\"black\",\"black\",\"black\",\"black\",\"black\"],\"xs\":[[135758231,135758231],[135758520,135758520],[135766072,135766072],[135773420,135773420],[135773446,135773446],[135773617,135773617],[135773692,135773692],[135774681,135774681],[135775049,135775049],[135776430,135776430],[135778656,135778656],[135780168,135780168],[135780587,135780587],[135781301,135781301],[135781522,135781522],[135781635,135781635],[135782456,135782456],[135783157,135783157],[135783366,135783366],[135783367,135783367],[135784227,135784227],[135784733,135784733],[135785066,135785066],[135785068,135785068],[135785149,135785149],[135787148,135787148],[135787642,135787642],[135789405,135789405],[135789472,135789472],[135789682,135789682],[135789784,135789784],[135792338,135792338],[135792528,135792528],[135793565,135793565],[135793684,135793684],[135793845,135793845],[135794367,135794367],[135794986,135794986],[135795040,135795040],[135795095,135795095],[135795150,135795150],[135795385,135795385],[135795396,135795396],[135795443,135795443],[135795595,135795595],[135796000,135796000],[135796155,135796155],[135796410,135796410],[135796965,135796965],[135797223,135797223],[135797747,135797747],[135798082,135798082],[135798758,135798758],[135799082,135799082],[135800085,135800085],[135800601,135800601],[135800757,135800757],[135801228,135801228],[135801956,135801956],[135802020,135802020],[135802028,135802028],[135802050,135802050],[135802148,135802148],[135803766,135803766],[135809241,135809241],[135812969,135812969],[135814716,135814716],[135818907,135818907],[135829432,135829432],[135832131,135832131],[135849613,135849613],[135853807,135853807],[135859923,135859923],[135860305,135860305],[135861497,135861497],[135863143,135863143],[135864294,135864294],[135871624,135871624],[135872646,135872646],[135874038,135874038],[135874622,135874622],[135878814,135878814],[135880013,135880013],[135884487,135884487],[135885357,135885357],[135893853,135893853],[135895809,135895809],[135895879,135895879],[135899069,135899069],[135909462,135909462],[135912977,135912977],[135914038,135914038],[135921839,135921839],[135925002,135925002],[135928312,135928312],[135935049,135935049],[135962711,135962711],[135984172,135984172],[135994753,135994753],[135994754,135994754],[136016079,136016079],[136027264,136027264],[136052004,136052004],[136100473,136100473],[136110129,136110129],[136166536,136166536],[136169799,136169799],[136191314,136191314],[136228887,136228887],[136238453,136238453],[136288273,136288273],[136292425,136292425],[136321951,136321951],[136324564,136324564],[136327299,136327299],[136327302,136327302],[136376515,136376515],[135766890,135766890],[135778708,135778708],[135779588,135779588],[135805941,135805941],[135805943,135805943],[135932720,135932720],[135933317,135933317],[135934842,135934842],[135952376,135952376],[135958853,135958853],[135962864,135962864],[135963304,135963304],[135965376,135965376],[135980201,135980201],[135981554,135981554],[135988127,135988127],[135988416,135988416],[135991470,135991470],[136000500,136000500],[136001215,136001215],[136001295,136001295],[136016514,136016514],[136017388,136017388],[136041102,136041102],[136041662,136041662],[136047387,136047387],[136052936,136052936],[136055275,136055275],[136063118,136063118],[136066802,136066802],[136068890,136068890],[136069577,136069577],[136081193,136081193],[136105193,136105193],[136107839,136107839],[136110835,136110835],[136138026,136138026],[136142092,136142092],[136146499,136146499],[136147607,136147607],[136148401,136148401],[136150512,136150512],[136154734,136154734],[136155805,136155805],[136163001,136163001],[136163266,136163266],[136163568,136163568],[136163821,136163821],[136165965,136165965],[136183312,136183312],[136185945,136185945],[136191729,136191729],[136204827,136204827],[136208747,136208747],[136217980,136217980],[136229438,136229438],[136232572,136232572],[136240942,136240942],[136251329,136251329],[136265187,136265187],[136265188,136265188],[136275985,136275985],[135818487,135818487],[136048649,136048649],[136107286,136107286],[136127914,136127914],[136130497,136130497],[136268096,136268096],[136281880,136281880],[136289565,136289565],[135839805,135839805],[135866750,135866750],[135886744,135886744],[135924467,135924467],[135964764,135964764],[135964765,135964765],[136099127,136099127],[136099650,136099650],[136100705,136100705],[136101132,136101132],[135989333,135989333],[136000304,136000304],[136030519,136030519],[136034836,136034836],[136125165,136125165],[136264631,136264631],[136028572,136028572],[136141525,136141525],[136174478,136174478],[136211744,136211744],[136240608,136240608],[136320031,136320031],[136320040,136320040],[136368926,136368926],[136438465,136438465],[136393658,136393658],[136396300,136396300],[136401843,136401843],[136407445,136407445],[136411879,136411879],[136412270,136412270],[136413244,136413244],[136413847,136413847],[136415217,136415217],[136416533,136416533],[136420726,136420726],[136429857,136429857],[136433740,136433740],[136436317,136436317],[136437615,136437615],[136438517,136438517],[136440300,136440300],[136443900,136443900],[136444185,136444185],[136444338,136444338],[136449254,136449254],[136451676,136451676],[136459227,136459227],[136463117,136463117],[136463454,136463454],[136467119,136467119],[136468238,136468238],[136470219,136470219],[136483355,136483355],[136485276,136485276],[136486340,136486340],[136486342,136486342],[136496493,136496493],[136496639,136496639],[136496928,136496928],[136509573,136509573],[136511951,136511951],[136537057,136537057],[136546635,136546635],[136553438,136553438],[136553925,136553925],[136496805,136496805],[136496910,136496910],[136515859,136515859],[136515924,136515924],[136520186,136520186],[136524766,136524766],[136535364,136535364],[136536113,136536113],[136552629,136552629],[136511874,136511874],[136530248,136530248],[136530556,136530556],[136531252,136531252],[136533195,136533195],[136514709,136514709],[136516308,136516308],[136520100,136520100],[136521595,136521595],[136523045,136523045],[136543147,136543147],[136556805,136556805],[136560003,136560003],[136562472,136562472],[136563248,136563248],[136565328,136565328],[136570613,136570613],[136571982,136571982],[136574305,136574305],[136578040,136578040],[136578194,136578194],[136580398,136580398],[136586828,136586828],[136590558,136590558],[136592309,136592309],[136593541,136593541],[136593694,136593694],[136595426,136595426],[136615222,136615222],[136624919,136624919],[136626004,136626004],[136628380,136628380],[136636909,136636909],[136637350,136637350],[136637622,136637622],[136639487,136639487],[136646900,136646900],[136652093,136652093],[136652859,136652859],[136655620,136655620],[136667896,136667896],[136671801,136671801],[136677192,136677192],[136683293,136683293],[136704414,136704414],[136720344,136720344],[136731066,136731066],[136733897,136733897],[136743490,136743490],[136747085,136747085]],\"ys\":[[650,696],[650,696],[650,696],[650,696],[650,696],[650,696],[650,696],[650,696],[650,696],[650,696],[650,696],[650,696],[650,696],[650,696],[650,696],[650,696],[650,696],[650,696],[650,696],[650,696],[650,696],[650,696],[650,696],[650,696],[650,696],[650,696],[650,696],[650,696],[650,696],[650,696],[650,696],[650,696],[650,696],[650,696],[650,696],[650,696],[650,696],[650,696],[650,696],[650,696],[650,696],[650,696],[650,696],[650,696],[650,696],[650,696],[650,696],[650,696],[650,696],[650,696],[650,696],[650,696],[650,696],[650,696],[650,696],[650,696],[650,696],[650,696],[650,696],[650,696],[650,696],[650,696],[650,696],[650,696],[650,696],[650,696],[650,696],[650,696],[650,696],[650,696],[650,696],[650,696],[650,696],[650,696],[650,696],[650,696],[650,696],[650,696],[650,696],[650,696],[650,696],[650,696],[650,696],[650,696],[650,696],[650,696],[650,696],[650,696],[650,696],[650,696],[650,696],[650,696],[650,696],[650,696],[650,696],[650,696],[650,696],[650,696],[650,696],[650,696],[650,696],[650,696],[650,696],[650,696],[650,696],[650,696],[650,696],[650,696],[650,696],[650,696],[650,696],[650,696],[650,696],[650,696],[650,696],[650,696],[650,696],[550,593],[550,593],[550,593],[550,593],[550,593],[550,593],[550,593],[550,593],[550,593],[550,593],[550,593],[550,593],[550,593],[550,593],[550,593],[550,593],[550,593],[550,593],[550,593],[550,593],[550,593],[550,593],[550,593],[550,593],[550,593],[550,593],[550,593],[550,593],[550,593],[550,593],[550,593],[550,593],[550,593],[550,593],[550,593],[550,593],[550,593],[550,593],[550,593],[550,593],[550,593],[550,593],[550,593],[550,593],[550,593],[550,593],[550,593],[550,593],[550,593],[550,593],[550,593],[550,593],[550,593],[550,593],[550,593],[550,593],[550,593],[550,593],[550,593],[550,593],[550,593],[550,593],[150,180],[150,180],[150,180],[150,180],[150,180],[150,180],[150,180],[150,180],[250,290],[250,290],[250,290],[250,290],[350,391],[350,391],[350,391],[350,391],[350,391],[350,391],[250,288],[250,288],[250,288],[250,288],[250,288],[250,288],[50,63],[50,63],[50,63],[50,63],[50,63],[50,63],[50,63],[50,63],[50,63],[650,694],[650,694],[650,694],[650,694],[650,694],[650,694],[650,694],[650,694],[650,694],[650,694],[650,694],[650,694],[650,694],[650,694],[650,694],[650,694],[650,694],[650,694],[650,694],[650,694],[650,694],[650,694],[650,694],[650,694],[650,694],[650,694],[650,694],[650,694],[650,694],[650,694],[650,694],[650,694],[550,593],[550,593],[550,593],[550,593],[550,593],[550,593],[550,593],[550,593],[550,593],[450,491],[450,491],[450,491],[450,491],[450,491],[450,491],[450,491],[450,491],[450,491],[350,391],[350,391],[350,391],[350,391],[350,391],[250,290],[250,290],[250,290],[250,290],[250,290],[250,290],[450,491],[450,491],[450,491],[450,491],[450,491],[450,491],[450,491],[450,491],[450,491],[450,491],[450,491],[450,491],[450,491],[450,491],[450,491],[450,491],[450,491],[450,491],[450,491],[450,491],[450,491],[450,491],[450,491],[450,491],[450,491],[450,491],[450,491],[450,491],[450,491],[450,491],[450,491],[450,491],[450,491],[450,491],[450,491],[450,491],[450,491],[450,491],[450,491]]}},\"id\":\"046314ce-cd9a-4986-8fc0-8ecac7dbe3e6\",\"type\":\"ColumnDataSource\"},{\"attributes\":{\"callback\":null,\"column_names\":[\"right\",\"bottom\",\"top\",\"left\"],\"data\":{\"bottom\":[745,745,745,745,745,745,745],\"left\":[135809835,135957574,136289083,136499189,136545415,136597196,136664254],\"right\":[135928279,136288182,136482839,136542633,136594750,136634047,136743222],\"top\":[775,775,775,775,775,775,775]}},\"id\":\"3ede42c1-abae-4335-9a4d-e9f3e5e9e940\",\"type\":\"ColumnDataSource\"},{\"attributes\":{},\"id\":\"e124e062-135b-445f-802a-8f59a9d2d198\",\"type\":\"BasicTicker\"},{\"attributes\":{\"plot\":{\"id\":\"35051270-0d32-4ae4-8516-965b5a3edd90\",\"subtype\":\"Figure\",\"type\":\"Plot\"}},\"id\":\"a1398f61-e312-41bc-8503-4596d7e95f7b\",\"type\":\"WheelZoomTool\"},{\"attributes\":{\"plot\":{\"id\":\"35051270-0d32-4ae4-8516-965b5a3edd90\",\"subtype\":\"Figure\",\"type\":\"Plot\"}},\"id\":\"7799a897-de71-4425-888a-a5606614b5c7\",\"type\":\"SaveTool\"},{\"attributes\":{\"callback\":null,\"column_names\":[\"y\",\"x\",\"vals\"],\"data\":{\"vals\":[\"RAB3GAP1\",\"ZRANB3\",\"R3HDM1\",\"UBXN4\",\"LCT\",\"MCM6\",\"DARS\"],\"x\":[135869057.0,136122878.0,136385961.0,136520911.0,136570082.5,136615621.5,136703738.0],\"y\":[760.0,760.0,760.0,760.0,760.0,760.0,760.0]}},\"id\":\"a730afce-9341-4da1-8827-053e2f8421e2\",\"type\":\"ColumnDataSource\"},{\"attributes\":{\"plot\":null,\"text\":null},\"id\":\"09f23c67-f92e-405a-9756-a634fb709098\",\"type\":\"Title\"},{\"attributes\":{\"active_drag\":\"auto\",\"active_scroll\":\"auto\",\"active_tap\":\"auto\",\"tools\":[{\"id\":\"967be33f-0868-4660-8f4c-5df292e1daa5\",\"type\":\"PanTool\"},{\"id\":\"a1398f61-e312-41bc-8503-4596d7e95f7b\",\"type\":\"WheelZoomTool\"},{\"id\":\"4a06789b-d336-491a-9ef8-d5dd0f462b26\",\"type\":\"BoxZoomTool\"},{\"id\":\"7799a897-de71-4425-888a-a5606614b5c7\",\"type\":\"SaveTool\"},{\"id\":\"4328bc0d-d4a4-4e98-8123-e3da931d3e72\",\"type\":\"ResetTool\"},{\"id\":\"4991778d-eb60-416b-921d-e2453e54aba3\",\"type\":\"HelpTool\"}]},\"id\":\"12fe3a82-ea79-4320-9248-da65a6a4c50b\",\"type\":\"Toolbar\"},{\"attributes\":{\"below\":[{\"id\":\"f2748c4a-ccc1-4477-8763-87df0b95ea7b\",\"type\":\"LinearAxis\"}],\"left\":[{\"id\":\"de255a68-937a-40f2-9562-ba6bd9602d43\",\"type\":\"LinearAxis\"}],\"plot_height\":800,\"plot_width\":900,\"renderers\":[{\"id\":\"f2748c4a-ccc1-4477-8763-87df0b95ea7b\",\"type\":\"LinearAxis\"},{\"id\":\"4408ee2f-59d2-48ab-aa50-6f7af89bae0c\",\"type\":\"Grid\"},{\"id\":\"de255a68-937a-40f2-9562-ba6bd9602d43\",\"type\":\"LinearAxis\"},{\"id\":\"685e300c-7710-4b47-8f74-24d2895df427\",\"type\":\"Grid\"},{\"id\":\"3ea5ecaf-d70b-4cf3-93f2-88037900df54\",\"type\":\"BoxAnnotation\"},{\"id\":\"9254d054-13a5-4d76-a346-c9a8283a0d5b\",\"type\":\"GlyphRenderer\"},{\"id\":\"d2a1d149-11af-42fa-807d-3c46f0827952\",\"type\":\"GlyphRenderer\"},{\"id\":\"0d78b289-1548-4e1e-a14b-853850c7c903\",\"type\":\"LabelSet\"},{\"id\":\"fc4932ae-d18f-48a6-96d9-7f2607d7b4ce\",\"type\":\"GlyphRenderer\"},{\"id\":\"e37ef15d-2649-4ec6-b6f0-69ada8fe1a78\",\"type\":\"LabelSet\"}],\"title\":{\"id\":\"09f23c67-f92e-405a-9756-a634fb709098\",\"type\":\"Title\"},\"tool_events\":{\"id\":\"83123b57-05ce-4db4-8e65-7e4f181b8517\",\"type\":\"ToolEvents\"},\"toolbar\":{\"id\":\"12fe3a82-ea79-4320-9248-da65a6a4c50b\",\"type\":\"Toolbar\"},\"toolbar_location\":null,\"x_range\":{\"id\":\"c5c866e1-1d4d-4878-8f7e-febde26b6f17\",\"type\":\"Range1d\"},\"y_range\":{\"id\":\"56d7b376-5fe2-4ba0-af6c-bb8d70f205ff\",\"type\":\"Range1d\"}},\"id\":\"35051270-0d32-4ae4-8516-965b5a3edd90\",\"subtype\":\"Figure\",\"type\":\"Plot\"},{\"attributes\":{\"formatter\":{\"id\":\"72122e24-10c3-4916-ad5e-997bad2381e1\",\"type\":\"BasicTickFormatter\"},\"plot\":{\"id\":\"35051270-0d32-4ae4-8516-965b5a3edd90\",\"subtype\":\"Figure\",\"type\":\"Plot\"},\"ticker\":{\"id\":\"3e79c19e-ab01-40b6-b804-d1ec36f7f180\",\"type\":\"BasicTicker\"},\"visible\":null},\"id\":\"de255a68-937a-40f2-9562-ba6bd9602d43\",\"type\":\"LinearAxis\"},{\"attributes\":{\"plot\":{\"id\":\"35051270-0d32-4ae4-8516-965b5a3edd90\",\"subtype\":\"Figure\",\"type\":\"Plot\"}},\"id\":\"4328bc0d-d4a4-4e98-8123-e3da931d3e72\",\"type\":\"ResetTool\"},{\"attributes\":{\"dimension\":1,\"plot\":{\"id\":\"35051270-0d32-4ae4-8516-965b5a3edd90\",\"subtype\":\"Figure\",\"type\":\"Plot\"},\"ticker\":{\"id\":\"3e79c19e-ab01-40b6-b804-d1ec36f7f180\",\"type\":\"BasicTicker\"}},\"id\":\"685e300c-7710-4b47-8f74-24d2895df427\",\"type\":\"Grid\"}],\"root_ids\":[\"35051270-0d32-4ae4-8516-965b5a3edd90\"]},\"title\":\"Bokeh Application\",\"version\":\"0.12.0\"}};\n",
       "            var render_items = [{\"docid\":\"77fb4359-c398-4314-ba8b-a7b0e383615c\",\"elementid\":\"1b14821f-d39c-4833-a936-067846425058\",\"modelid\":\"35051270-0d32-4ae4-8516-965b5a3edd90\",\"notebook_comms_target\":\"0e2b3efd-88a8-4a2d-b5fb-a16bab672a19\"}];\n",
       "            \n",
       "            Bokeh.embed.embed_items(docs_json, render_items);\n",
       "        });\n",
       "      },\n",
       "      function(Bokeh) {\n",
       "      }\n",
       "    ];\n",
       "  \n",
       "    function run_inline_js() {\n",
       "      for (var i = 0; i < inline_js.length; i++) {\n",
       "        inline_js[i](window.Bokeh);\n",
       "      }\n",
       "    }\n",
       "  \n",
       "    if (window._bokeh_is_loading === 0) {\n",
       "      console.log(\"Bokeh: BokehJS loaded, going straight to plotting\");\n",
       "      run_inline_js();\n",
       "    } else {\n",
       "      load_libs(js_urls, function() {\n",
       "        console.log(\"Bokeh: BokehJS plotting callback run at\", now());\n",
       "        run_inline_js();\n",
       "      });\n",
       "    }\n",
       "  }(this));\n",
       "</script>"
      ]
     },
     "metadata": {},
     "output_type": "display_data"
    },
    {
     "data": {
      "text/html": [
       "<p><code>&lt;Bokeh Notebook handle for <strong>In[36]</strong>&gt;</code></p>"
      ],
      "text/plain": [
       "<bokeh.io._CommsHandle at 0x7f148918ce50>"
      ]
     },
     "execution_count": 36,
     "metadata": {},
     "output_type": "execute_result"
    }
   ],
   "source": [
    "plt_obj = dm.superset_allele_mask(am_169, min_match=0.5)\n",
    "plt = plt_obj.do_plot()\n",
    "show(plt)"
   ]
  },
  {
   "cell_type": "markdown",
   "metadata": {},
   "source": [
    "<div style=\"width:700px\">\n",
    "<p>\n",
    "This plot shows that the 1 chromosome sample that expresses 169 series 193_843 SNPs is the\n",
    "remaining chromosome sample that expresses the series 9_39\n",
    "</div>"
   ]
  },
  {
   "cell_type": "code",
   "execution_count": 37,
   "metadata": {
    "collapsed": false
   },
   "outputs": [
    {
     "data": {
      "text/html": [
       "<table>\n",
       "<thead><tr><th style=\"text-align:center\">index</th><th style=\"text-align:center\">first</th><th style=\"text-align:center\">length</th><th style=\"text-align:center\">snps</th><th style=\"text-align:center\" colspan=2>alleles</th><th style=\"text-align:center\" colspan=2>matches</th><th style=\"text-align:center\" colspan=2>afr</th><th style=\"text-align:center\" colspan=2>afx</th><th style=\"text-align:center\" colspan=2>amr</th><th style=\"text-align:center\" colspan=2>eas</th><th style=\"text-align:center\" colspan=2>eur</th><th style=\"text-align:center\" colspan=2>sas</th><th style=\"text-align:center\" colspan=2>sax</th></tr></thead>\n",
       "<tr class=\"even\"><td style=\"text-align: right;\">353244</td><td style=\"text-align: right;\">135,758,231</td><td style=\"text-align: right;\">618,284</td><td style=\"text-align: right;\">117</td><td style=\"text-align: right;\">1685</td><td style=\"text-align: right;\">0.00</td><td style=\"text-align: right;\">1</td><td style=\"text-align: right;\">1.00</td><td style=\"text-align: right;\">0</td><td style=\"text-align: right;\">0.00</td><td style=\"text-align: right;\">0</td><td style=\"text-align: right;\">0.00</td><td style=\"text-align: right;\">0</td><td style=\"text-align: right;\">0.00</td><td style=\"text-align: right;\">0</td><td style=\"text-align: right;\">0.00</td><td style=\"text-align: right;\">1</td><td style=\"text-align: right;\">4.98</td><td style=\"text-align: right;\">0</td><td style=\"text-align: right;\">0.00</td><td style=\"text-align: right;\">0</td><td style=\"text-align: right;\">0.00</td></tr>\n",
       "<tr><td style=\"text-align: right;\">353791</td><td style=\"text-align: right;\">136,393,658</td><td style=\"text-align: right;\">92,684</td><td style=\"text-align: right;\">32</td><td style=\"text-align: right;\">1361</td><td style=\"text-align: right;\">0.00</td><td style=\"text-align: right;\">1</td><td style=\"text-align: right;\">1.00</td><td style=\"text-align: right;\">0</td><td style=\"text-align: right;\">0.00</td><td style=\"text-align: right;\">0</td><td style=\"text-align: right;\">0.00</td><td style=\"text-align: right;\">0</td><td style=\"text-align: right;\">0.00</td><td style=\"text-align: right;\">0</td><td style=\"text-align: right;\">0.00</td><td style=\"text-align: right;\">1</td><td style=\"text-align: right;\">4.98</td><td style=\"text-align: right;\">0</td><td style=\"text-align: right;\">0.00</td><td style=\"text-align: right;\">0</td><td style=\"text-align: right;\">0.00</td></tr>\n",
       "<tr class=\"even\"><td style=\"text-align: right;\">353269</td><td style=\"text-align: right;\">135,766,890</td><td style=\"text-align: right;\">509,095</td><td style=\"text-align: right;\">62</td><td style=\"text-align: right;\">1265</td><td style=\"text-align: right;\">0.00</td><td style=\"text-align: right;\">1</td><td style=\"text-align: right;\">1.00</td><td style=\"text-align: right;\">0</td><td style=\"text-align: right;\">0.00</td><td style=\"text-align: right;\">0</td><td style=\"text-align: right;\">0.00</td><td style=\"text-align: right;\">0</td><td style=\"text-align: right;\">0.00</td><td style=\"text-align: right;\">0</td><td style=\"text-align: right;\">0.00</td><td style=\"text-align: right;\">1</td><td style=\"text-align: right;\">4.98</td><td style=\"text-align: right;\">0</td><td style=\"text-align: right;\">0.00</td><td style=\"text-align: right;\">0</td><td style=\"text-align: right;\">0.00</td></tr>\n",
       "<tr><td style=\"text-align: right;\">353906</td><td style=\"text-align: right;\">136,496,493</td><td style=\"text-align: right;\">57,432</td><td style=\"text-align: right;\">9</td><td style=\"text-align: right;\">1170</td><td style=\"text-align: right;\">0.00</td><td style=\"text-align: right;\">1</td><td style=\"text-align: right;\">1.00</td><td style=\"text-align: right;\">0</td><td style=\"text-align: right;\">0.00</td><td style=\"text-align: right;\">0</td><td style=\"text-align: right;\">0.00</td><td style=\"text-align: right;\">0</td><td style=\"text-align: right;\">0.00</td><td style=\"text-align: right;\">0</td><td style=\"text-align: right;\">0.00</td><td style=\"text-align: right;\">1</td><td style=\"text-align: right;\">4.98</td><td style=\"text-align: right;\">0</td><td style=\"text-align: right;\">0.00</td><td style=\"text-align: right;\">0</td><td style=\"text-align: right;\">0.00</td></tr>\n",
       "<tr class=\"even\"><td style=\"text-align: right;\">353907</td><td style=\"text-align: right;\">136,496,805</td><td style=\"text-align: right;\">55,824</td><td style=\"text-align: right;\">9</td><td style=\"text-align: right;\">1023</td><td style=\"text-align: right;\">0.00</td><td style=\"text-align: right;\">1</td><td style=\"text-align: right;\">1.00</td><td style=\"text-align: right;\">0</td><td style=\"text-align: right;\">0.00</td><td style=\"text-align: right;\">0</td><td style=\"text-align: right;\">0.00</td><td style=\"text-align: right;\">0</td><td style=\"text-align: right;\">0.00</td><td style=\"text-align: right;\">0</td><td style=\"text-align: right;\">0.00</td><td style=\"text-align: right;\">1</td><td style=\"text-align: right;\">4.98</td><td style=\"text-align: right;\">0</td><td style=\"text-align: right;\">0.00</td><td style=\"text-align: right;\">0</td><td style=\"text-align: right;\">0.00</td></tr>\n",
       "<tr><td style=\"text-align: right;\">353984</td><td style=\"text-align: right;\">136,556,805</td><td style=\"text-align: right;\">190,280</td><td style=\"text-align: right;\">39</td><td style=\"text-align: right;\">1014</td><td style=\"text-align: right;\">0.00</td><td style=\"text-align: right;\">1</td><td style=\"text-align: right;\">1.00</td><td style=\"text-align: right;\">0</td><td style=\"text-align: right;\">0.00</td><td style=\"text-align: right;\">0</td><td style=\"text-align: right;\">0.00</td><td style=\"text-align: right;\">0</td><td style=\"text-align: right;\">0.00</td><td style=\"text-align: right;\">0</td><td style=\"text-align: right;\">0.00</td><td style=\"text-align: right;\">1</td><td style=\"text-align: right;\">4.98</td><td style=\"text-align: right;\">0</td><td style=\"text-align: right;\">0.00</td><td style=\"text-align: right;\">0</td><td style=\"text-align: right;\">0.00</td></tr>\n",
       "<tr class=\"even\"><td style=\"text-align: right;\">353935</td><td style=\"text-align: right;\">136,511,874</td><td style=\"text-align: right;\">21,321</td><td style=\"text-align: right;\">5</td><td style=\"text-align: right;\">976</td><td style=\"text-align: right;\">0.00</td><td style=\"text-align: right;\">1</td><td style=\"text-align: right;\">1.00</td><td style=\"text-align: right;\">0</td><td style=\"text-align: right;\">0.00</td><td style=\"text-align: right;\">0</td><td style=\"text-align: right;\">0.00</td><td style=\"text-align: right;\">0</td><td style=\"text-align: right;\">0.00</td><td style=\"text-align: right;\">0</td><td style=\"text-align: right;\">0.00</td><td style=\"text-align: right;\">1</td><td style=\"text-align: right;\">4.98</td><td style=\"text-align: right;\">0</td><td style=\"text-align: right;\">0.00</td><td style=\"text-align: right;\">0</td><td style=\"text-align: right;\">0.00</td></tr>\n",
       "<tr><td style=\"text-align: right;\">353504</td><td style=\"text-align: right;\">135,964,764</td><td style=\"text-align: right;\">136,368</td><td style=\"text-align: right;\">6</td><td style=\"text-align: right;\">946</td><td style=\"text-align: right;\">0.00</td><td style=\"text-align: right;\">1</td><td style=\"text-align: right;\">1.00</td><td style=\"text-align: right;\">0</td><td style=\"text-align: right;\">0.00</td><td style=\"text-align: right;\">0</td><td style=\"text-align: right;\">0.00</td><td style=\"text-align: right;\">0</td><td style=\"text-align: right;\">0.00</td><td style=\"text-align: right;\">0</td><td style=\"text-align: right;\">0.00</td><td style=\"text-align: right;\">1</td><td style=\"text-align: right;\">4.98</td><td style=\"text-align: right;\">0</td><td style=\"text-align: right;\">0.00</td><td style=\"text-align: right;\">0</td><td style=\"text-align: right;\">0.00</td></tr>\n",
       "<tr class=\"even\"><td style=\"text-align: right;\">353938</td><td style=\"text-align: right;\">136,514,709</td><td style=\"text-align: right;\">28,438</td><td style=\"text-align: right;\">6</td><td style=\"text-align: right;\">820</td><td style=\"text-align: right;\">0.00</td><td style=\"text-align: right;\">1</td><td style=\"text-align: right;\">1.00</td><td style=\"text-align: right;\">0</td><td style=\"text-align: right;\">0.00</td><td style=\"text-align: right;\">0</td><td style=\"text-align: right;\">0.00</td><td style=\"text-align: right;\">0</td><td style=\"text-align: right;\">0.00</td><td style=\"text-align: right;\">0</td><td style=\"text-align: right;\">0.00</td><td style=\"text-align: right;\">1</td><td style=\"text-align: right;\">4.98</td><td style=\"text-align: right;\">0</td><td style=\"text-align: right;\">0.00</td><td style=\"text-align: right;\">0</td><td style=\"text-align: right;\">0.00</td></tr>\n",
       "<tr><td style=\"text-align: right;\">353384</td><td style=\"text-align: right;\">135,839,805</td><td style=\"text-align: right;\">84,662</td><td style=\"text-align: right;\">4</td><td style=\"text-align: right;\">815</td><td style=\"text-align: right;\">0.00</td><td style=\"text-align: right;\">1</td><td style=\"text-align: right;\">1.00</td><td style=\"text-align: right;\">0</td><td style=\"text-align: right;\">0.00</td><td style=\"text-align: right;\">0</td><td style=\"text-align: right;\">0.00</td><td style=\"text-align: right;\">0</td><td style=\"text-align: right;\">0.00</td><td style=\"text-align: right;\">0</td><td style=\"text-align: right;\">0.00</td><td style=\"text-align: right;\">1</td><td style=\"text-align: right;\">4.98</td><td style=\"text-align: right;\">0</td><td style=\"text-align: right;\">0.00</td><td style=\"text-align: right;\">0</td><td style=\"text-align: right;\">0.00</td></tr>\n",
       "<tr class=\"even\"><td style=\"text-align: right;\">353521</td><td style=\"text-align: right;\">135,989,333</td><td style=\"text-align: right;\">275,298</td><td style=\"text-align: right;\">6</td><td style=\"text-align: right;\">713</td><td style=\"text-align: right;\">0.00</td><td style=\"text-align: right;\">1</td><td style=\"text-align: right;\">1.00</td><td style=\"text-align: right;\">0</td><td style=\"text-align: right;\">0.00</td><td style=\"text-align: right;\">0</td><td style=\"text-align: right;\">0.00</td><td style=\"text-align: right;\">0</td><td style=\"text-align: right;\">0.00</td><td style=\"text-align: right;\">0</td><td style=\"text-align: right;\">0.00</td><td style=\"text-align: right;\">1</td><td style=\"text-align: right;\">4.98</td><td style=\"text-align: right;\">0</td><td style=\"text-align: right;\">0.00</td><td style=\"text-align: right;\">0</td><td style=\"text-align: right;\">0.00</td></tr>\n",
       "<tr><td style=\"text-align: right;\">353358</td><td style=\"text-align: right;\">135,818,487</td><td style=\"text-align: right;\">471,078</td><td style=\"text-align: right;\">8</td><td style=\"text-align: right;\">267</td><td style=\"text-align: right;\">0.00</td><td style=\"text-align: right;\">1</td><td style=\"text-align: right;\">1.00</td><td style=\"text-align: right;\">0</td><td style=\"text-align: right;\">0.00</td><td style=\"text-align: right;\">0</td><td style=\"text-align: right;\">0.00</td><td style=\"text-align: right;\">0</td><td style=\"text-align: right;\">0.00</td><td style=\"text-align: right;\">0</td><td style=\"text-align: right;\">0.00</td><td style=\"text-align: right;\">1</td><td style=\"text-align: right;\">4.98</td><td style=\"text-align: right;\">0</td><td style=\"text-align: right;\">0.00</td><td style=\"text-align: right;\">0</td><td style=\"text-align: right;\">0.00</td></tr>\n",
       "<tr class=\"even\"><td style=\"text-align: right;\">353559</td><td style=\"text-align: right;\">136,028,572</td><td style=\"text-align: right;\">409,893</td><td style=\"text-align: right;\">9</td><td style=\"text-align: right;\">39</td><td style=\"text-align: right;\">0.03</td><td style=\"text-align: right;\">1</td><td style=\"text-align: right;\">1.00</td><td style=\"text-align: right;\">0</td><td style=\"text-align: right;\">0.00</td><td style=\"text-align: right;\">0</td><td style=\"text-align: right;\">0.00</td><td style=\"text-align: right;\">0</td><td style=\"text-align: right;\">0.00</td><td style=\"text-align: right;\">0</td><td style=\"text-align: right;\">0.00</td><td style=\"text-align: right;\">1</td><td style=\"text-align: right;\">4.98</td><td style=\"text-align: right;\">0</td><td style=\"text-align: right;\">0.00</td><td style=\"text-align: right;\">0</td><td style=\"text-align: right;\">0.00</td></tr>\n",
       "</table>"
      ],
      "text/plain": [
       "<IPython.core.display.HTML object>"
      ]
     },
     "execution_count": 37,
     "metadata": {},
     "output_type": "execute_result"
    }
   ],
   "source": [
    "HTML(plt_obj.get_html())"
   ]
  },
  {
   "cell_type": "markdown",
   "metadata": {},
   "source": [
    "<div style=\"width:700px\">\n",
    "<p>\n",
    "This data confirms that the 1 chromosome sample has matched all of the plotted series.\n",
    "</div>"
   ]
  },
  {
   "cell_type": "code",
   "execution_count": 56,
   "metadata": {
    "collapsed": false
   },
   "outputs": [
    {
     "data": {
      "text/html": [
       "\n",
       "\n",
       "    <div class=\"bk-root\">\n",
       "        <div class=\"plotdiv\" id=\"ec414472-7cfd-4cef-b377-834eec6dfdef\"></div>\n",
       "    </div>\n",
       "<script type=\"text/javascript\">\n",
       "  \n",
       "  (function(global) {\n",
       "    function now() {\n",
       "      return new Date();\n",
       "    }\n",
       "  \n",
       "    if (typeof (window._bokeh_onload_callbacks) === \"undefined\") {\n",
       "      window._bokeh_onload_callbacks = [];\n",
       "    }\n",
       "  \n",
       "    function run_callbacks() {\n",
       "      window._bokeh_onload_callbacks.forEach(function(callback) { callback() });\n",
       "      delete window._bokeh_onload_callbacks\n",
       "      console.info(\"Bokeh: all callbacks have finished\");\n",
       "    }\n",
       "  \n",
       "    function load_libs(js_urls, callback) {\n",
       "      window._bokeh_onload_callbacks.push(callback);\n",
       "      if (window._bokeh_is_loading > 0) {\n",
       "        console.log(\"Bokeh: BokehJS is being loaded, scheduling callback at\", now());\n",
       "        return null;\n",
       "      }\n",
       "      if (js_urls == null || js_urls.length === 0) {\n",
       "        run_callbacks();\n",
       "        return null;\n",
       "      }\n",
       "      console.log(\"Bokeh: BokehJS not loaded, scheduling load and callback at\", now());\n",
       "      window._bokeh_is_loading = js_urls.length;\n",
       "      for (var i = 0; i < js_urls.length; i++) {\n",
       "        var url = js_urls[i];\n",
       "        var s = document.createElement('script');\n",
       "        s.src = url;\n",
       "        s.async = false;\n",
       "        s.onreadystatechange = s.onload = function() {\n",
       "          window._bokeh_is_loading--;\n",
       "          if (window._bokeh_is_loading === 0) {\n",
       "            console.log(\"Bokeh: all BokehJS libraries loaded\");\n",
       "            run_callbacks()\n",
       "          }\n",
       "        };\n",
       "        s.onerror = function() {\n",
       "          console.warn(\"failed to load library \" + url);\n",
       "        };\n",
       "        console.log(\"Bokeh: injecting script tag for BokehJS library: \", url);\n",
       "        document.getElementsByTagName(\"head\")[0].appendChild(s);\n",
       "      }\n",
       "    };var element = document.getElementById(\"ec414472-7cfd-4cef-b377-834eec6dfdef\");\n",
       "    if (element == null) {\n",
       "      console.log(\"Bokeh: ERROR: autoload.js configured with elementid 'ec414472-7cfd-4cef-b377-834eec6dfdef' but no matching script tag was found. \")\n",
       "      return false;\n",
       "    }\n",
       "  \n",
       "    var js_urls = [];\n",
       "  \n",
       "    var inline_js = [\n",
       "      function(Bokeh) {\n",
       "        Bokeh.$(function() {\n",
       "            var docs_json = {\"d785c9a6-1e70-44df-aa0a-e5757870cd26\":{\"roots\":{\"references\":[{\"attributes\":{},\"id\":\"a387e8b2-ae33-4c88-a20c-6e1c84eb8a11\",\"type\":\"BasicTickFormatter\"},{\"attributes\":{\"plot\":{\"id\":\"10f2f1bc-bf81-4793-b8c2-dbefd4521a5b\",\"subtype\":\"Figure\",\"type\":\"Plot\"}},\"id\":\"5e785023-56c3-46f5-99f8-f058f225e265\",\"type\":\"HelpTool\"},{\"attributes\":{\"level\":\"glyph\",\"plot\":{\"id\":\"10f2f1bc-bf81-4793-b8c2-dbefd4521a5b\",\"subtype\":\"Figure\",\"type\":\"Plot\"},\"source\":{\"id\":\"bd5c80f5-3d15-4fd1-99e0-0131dfad407d\",\"type\":\"ColumnDataSource\"},\"text\":{\"field\":\"vals\"},\"text_align\":\"center\",\"text_baseline\":\"middle\",\"text_font_size\":{\"value\":\"8pt\"},\"x\":{\"field\":\"x\"},\"y\":{\"field\":\"y\"}},\"id\":\"0a716c2f-ab66-483c-a1f7-997b5f7f6307\",\"type\":\"LabelSet\"},{\"attributes\":{\"callback\":null,\"column_names\":[\"xs\",\"ys\",\"line_color\"],\"data\":{\"line_color\":[\"black\",\"black\",\"black\",\"black\",\"black\",\"black\",\"black\",\"black\",\"black\",\"black\",\"black\",\"black\",\"black\",\"black\",\"black\",\"black\",\"black\",\"black\",\"black\",\"black\",\"black\",\"black\",\"black\",\"black\",\"black\",\"black\",\"black\",\"black\",\"black\",\"black\",\"black\",\"black\",\"black\",\"black\",\"black\",\"black\",\"black\",\"black\",\"black\",\"black\",\"black\",\"black\",\"black\",\"black\",\"black\",\"black\",\"black\",\"black\",\"black\",\"black\",\"black\",\"black\",\"black\",\"black\",\"black\",\"black\",\"black\",\"black\",\"black\",\"black\",\"black\",\"black\",\"black\",\"black\",\"black\",\"black\",\"black\",\"black\",\"black\",\"black\",\"black\",\"black\",\"black\",\"black\",\"black\",\"black\",\"black\",\"black\",\"black\",\"black\",\"black\",\"black\",\"black\",\"black\",\"black\",\"black\",\"black\",\"black\",\"black\",\"black\",\"black\",\"black\",\"black\",\"black\",\"black\",\"black\",\"black\",\"black\",\"black\",\"black\",\"black\",\"black\",\"black\",\"black\",\"black\",\"black\",\"black\",\"black\",\"black\",\"black\",\"black\",\"black\",\"black\",\"black\",\"black\",\"black\",\"black\",\"black\",\"black\",\"black\",\"black\",\"black\",\"black\",\"black\",\"black\",\"black\",\"black\",\"black\",\"black\",\"black\",\"black\",\"black\",\"black\",\"black\",\"black\",\"black\",\"black\",\"black\",\"black\",\"black\",\"black\",\"black\",\"black\",\"black\",\"black\",\"black\",\"black\",\"black\",\"black\",\"black\",\"black\",\"black\",\"black\",\"black\",\"black\",\"black\",\"black\",\"black\",\"black\",\"black\",\"black\",\"black\",\"black\",\"black\",\"black\",\"black\",\"black\",\"black\",\"black\",\"black\",\"black\",\"black\",\"black\",\"black\",\"black\",\"black\",\"black\",\"black\",\"black\",\"black\",\"black\",\"black\",\"black\",\"black\",\"black\",\"black\",\"black\",\"black\",\"black\",\"black\",\"black\",\"black\",\"black\",\"black\",\"black\",\"black\",\"black\",\"black\",\"black\",\"black\",\"black\",\"black\",\"black\",\"black\",\"black\",\"black\",\"black\",\"black\",\"black\",\"black\",\"black\",\"black\",\"black\",\"black\",\"black\",\"black\",\"black\",\"black\",\"black\",\"black\",\"black\",\"black\",\"black\",\"black\",\"black\",\"black\",\"black\",\"black\",\"black\",\"black\",\"black\",\"black\",\"black\",\"black\",\"black\",\"black\",\"black\",\"black\",\"black\",\"black\",\"black\",\"black\",\"black\",\"black\",\"black\",\"black\",\"black\",\"black\",\"black\",\"black\",\"black\",\"black\",\"black\",\"black\",\"black\",\"black\",\"black\",\"black\",\"black\",\"black\",\"black\",\"black\",\"black\",\"black\",\"black\",\"black\",\"black\",\"black\",\"black\",\"black\",\"black\",\"black\",\"black\",\"black\",\"black\",\"black\",\"black\",\"black\",\"black\",\"black\",\"black\",\"black\",\"black\",\"black\",\"black\",\"black\",\"black\",\"black\",\"black\",\"black\",\"black\",\"black\",\"black\",\"black\",\"black\",\"black\",\"black\",\"black\",\"black\",\"black\",\"black\",\"black\",\"black\",\"black\",\"black\",\"black\",\"black\",\"black\",\"black\",\"black\",\"black\",\"black\",\"black\",\"black\",\"black\",\"black\",\"black\",\"black\",\"black\",\"black\",\"black\",\"black\",\"black\",\"black\",\"black\",\"black\",\"black\",\"black\",\"black\",\"black\",\"black\",\"black\",\"black\",\"black\",\"black\",\"black\",\"black\",\"black\",\"black\",\"black\",\"black\",\"black\",\"black\",\"black\",\"black\",\"black\",\"black\",\"black\",\"black\",\"black\",\"black\",\"black\",\"black\",\"black\",\"black\",\"black\",\"black\",\"black\",\"black\",\"black\",\"black\",\"black\",\"black\",\"black\",\"black\",\"black\",\"black\",\"black\",\"black\",\"black\",\"black\",\"black\",\"black\",\"black\",\"black\",\"black\",\"black\",\"black\",\"black\",\"black\",\"black\",\"black\"],\"xs\":[[135758231,135758231],[135758520,135758520],[135766072,135766072],[135773420,135773420],[135773446,135773446],[135773617,135773617],[135773692,135773692],[135774681,135774681],[135775049,135775049],[135776430,135776430],[135778656,135778656],[135780168,135780168],[135780587,135780587],[135781301,135781301],[135781522,135781522],[135781635,135781635],[135782456,135782456],[135783157,135783157],[135783366,135783366],[135783367,135783367],[135784227,135784227],[135784733,135784733],[135785066,135785066],[135785068,135785068],[135785149,135785149],[135787148,135787148],[135787642,135787642],[135789405,135789405],[135789472,135789472],[135789682,135789682],[135789784,135789784],[135792338,135792338],[135792528,135792528],[135793565,135793565],[135793684,135793684],[135793845,135793845],[135794367,135794367],[135794986,135794986],[135795040,135795040],[135795095,135795095],[135795150,135795150],[135795385,135795385],[135795396,135795396],[135795443,135795443],[135795595,135795595],[135796000,135796000],[135796155,135796155],[135796410,135796410],[135796965,135796965],[135797223,135797223],[135797747,135797747],[135798082,135798082],[135798758,135798758],[135799082,135799082],[135800085,135800085],[135800601,135800601],[135800757,135800757],[135801228,135801228],[135801956,135801956],[135802020,135802020],[135802028,135802028],[135802050,135802050],[135802148,135802148],[135803766,135803766],[135809241,135809241],[135812969,135812969],[135814716,135814716],[135818907,135818907],[135829432,135829432],[135832131,135832131],[135849613,135849613],[135853807,135853807],[135859923,135859923],[135860305,135860305],[135861497,135861497],[135863143,135863143],[135864294,135864294],[135871624,135871624],[135872646,135872646],[135874038,135874038],[135874622,135874622],[135878814,135878814],[135880013,135880013],[135884487,135884487],[135885357,135885357],[135893853,135893853],[135895809,135895809],[135895879,135895879],[135899069,135899069],[135909462,135909462],[135912977,135912977],[135914038,135914038],[135921839,135921839],[135925002,135925002],[135928312,135928312],[135935049,135935049],[135962711,135962711],[135984172,135984172],[135994753,135994753],[135994754,135994754],[136016079,136016079],[136027264,136027264],[136052004,136052004],[136100473,136100473],[136110129,136110129],[136166536,136166536],[136169799,136169799],[136191314,136191314],[136228887,136228887],[136238453,136238453],[136288273,136288273],[136292425,136292425],[136321951,136321951],[136324564,136324564],[136327299,136327299],[136327302,136327302],[136376515,136376515],[135766890,135766890],[135778708,135778708],[135779588,135779588],[135805941,135805941],[135805943,135805943],[135932720,135932720],[135933317,135933317],[135934842,135934842],[135952376,135952376],[135958853,135958853],[135962864,135962864],[135963304,135963304],[135965376,135965376],[135980201,135980201],[135981554,135981554],[135988127,135988127],[135988416,135988416],[135991470,135991470],[136000500,136000500],[136001215,136001215],[136001295,136001295],[136016514,136016514],[136017388,136017388],[136041102,136041102],[136041662,136041662],[136047387,136047387],[136052936,136052936],[136055275,136055275],[136063118,136063118],[136066802,136066802],[136068890,136068890],[136069577,136069577],[136081193,136081193],[136105193,136105193],[136107839,136107839],[136110835,136110835],[136138026,136138026],[136142092,136142092],[136146499,136146499],[136147607,136147607],[136148401,136148401],[136150512,136150512],[136154734,136154734],[136155805,136155805],[136163001,136163001],[136163266,136163266],[136163568,136163568],[136163821,136163821],[136165965,136165965],[136183312,136183312],[136185945,136185945],[136191729,136191729],[136204827,136204827],[136208747,136208747],[136217980,136217980],[136229438,136229438],[136232572,136232572],[136240942,136240942],[136251329,136251329],[136265187,136265187],[136265188,136265188],[136275985,136275985],[135818487,135818487],[136048649,136048649],[136107286,136107286],[136127914,136127914],[136130497,136130497],[136268096,136268096],[136281880,136281880],[136289565,136289565],[135839805,135839805],[135866750,135866750],[135886744,135886744],[135924467,135924467],[135964764,135964764],[135964765,135964765],[136099127,136099127],[136099650,136099650],[136100705,136100705],[136101132,136101132],[135989333,135989333],[136000304,136000304],[136030519,136030519],[136034836,136034836],[136125165,136125165],[136264631,136264631],[136393658,136393658],[136396300,136396300],[136401843,136401843],[136407445,136407445],[136411879,136411879],[136412270,136412270],[136413244,136413244],[136413847,136413847],[136415217,136415217],[136416533,136416533],[136420726,136420726],[136429857,136429857],[136433740,136433740],[136436317,136436317],[136437615,136437615],[136438517,136438517],[136440300,136440300],[136443900,136443900],[136444185,136444185],[136444338,136444338],[136449254,136449254],[136451676,136451676],[136459227,136459227],[136463117,136463117],[136463454,136463454],[136467119,136467119],[136468238,136468238],[136470219,136470219],[136483355,136483355],[136485276,136485276],[136486340,136486340],[136486342,136486342],[136494985,136494985],[136497199,136497199],[136511817,136511817],[136513670,136513670],[136515458,136515458],[136516970,136516970],[136525309,136525309],[136528034,136528034],[136532225,136532225],[136535235,136535235],[136536095,136536095],[136544423,136544423],[136546927,136546927],[136552188,136552188],[136552517,136552517],[136555525,136555525],[136556480,136556480],[136560464,136560464],[136572285,136572285],[136582694,136582694],[136582809,136582809],[136584538,136584538],[136585323,136585323],[136586825,136586825],[136600662,136600662],[136612036,136612036],[136618178,136618178],[136618507,136618507],[136622543,136622543],[136624947,136624947],[136625113,136625113],[136626078,136626078],[136628121,136628121],[136632300,136632300],[136633962,136633962],[136635343,136635343],[136638113,136638113],[136640101,136640101],[136641593,136641593],[136646582,136646582],[136648077,136648077],[136648883,136648883],[136652045,136652045],[136653848,136653848],[136656094,136656094],[136661110,136661110],[136663110,136663110],[136663605,136663605],[136665162,136665162],[136665711,136665711],[136668123,136668123],[136670419,136670419],[136672680,136672680],[136673546,136673546],[136684632,136684632],[136686114,136686114],[136690425,136690425],[136690783,136690783],[136692893,136692893],[136694905,136694905],[136695694,136695694],[136695705,136695705],[136696608,136696608],[136697372,136697372],[136697468,136697468],[136700024,136700024],[136701539,136701539],[136702118,136702118],[136707480,136707480],[136710554,136710554],[136714178,136714178],[136719173,136719173],[136725459,136725459],[136734569,136734569],[136744678,136744678],[136748779,136748779],[136751488,136751488],[136754183,136754183],[136763242,136763242],[136765074,136765074],[136773638,136773638],[136500475,136500475],[136501509,136501509],[136504101,136504101],[136509868,136509868],[136520043,136520043],[136527120,136527120],[136530379,136530379],[136530443,136530443],[136539330,136539330],[136539670,136539670],[136540083,136540083],[136542559,136542559],[136542560,136542560],[136506375,136506375],[136506927,136506927],[136510012,136510012],[136538939,136538939],[136535876,136535876],[136544651,136544651],[136545844,136545844],[136552526,136552526],[136553022,136553022],[136554797,136554797],[136554890,136554890],[136588031,136588031],[136589278,136589278],[136589379,136589379],[136589741,136589741],[136590746,136590746],[136593553,136593553],[136593678,136593678],[136652491,136652491],[136652524,136652524],[136661150,136661150],[136669264,136669264],[136726567,136726567],[136732772,136732772],[136652953,136652953],[136655582,136655582],[136674028,136674028],[136684940,136684940],[136761175,136761175],[136653925,136653925],[136654833,136654833],[136656534,136656534],[136656536,136656536],[136657252,136657252],[136667301,136667301],[136667487,136667487],[136672775,136672775],[136680534,136680534],[136686393,136686393],[136688749,136688749],[136692553,136692553],[136697371,136697371],[136708787,136708787],[136710372,136710372],[136711064,136711064],[136715324,136715324],[136723504,136723504],[136737460,136737460],[136743143,136743143],[136746224,136746224],[136751842,136751842],[136759379,136759379],[136761853,136761853]],\"ys\":[[650,696],[650,696],[650,696],[650,696],[650,696],[650,696],[650,696],[650,696],[650,696],[650,696],[650,696],[650,696],[650,696],[650,696],[650,696],[650,696],[650,696],[650,696],[650,696],[650,696],[650,696],[650,696],[650,696],[650,696],[650,696],[650,696],[650,696],[650,696],[650,696],[650,696],[650,696],[650,696],[650,696],[650,696],[650,696],[650,696],[650,696],[650,696],[650,696],[650,696],[650,696],[650,696],[650,696],[650,696],[650,696],[650,696],[650,696],[650,696],[650,696],[650,696],[650,696],[650,696],[650,696],[650,696],[650,696],[650,696],[650,696],[650,696],[650,696],[650,696],[650,696],[650,696],[650,696],[650,696],[650,696],[650,696],[650,696],[650,696],[650,696],[650,696],[650,696],[650,696],[650,696],[650,696],[650,696],[650,696],[650,696],[650,696],[650,696],[650,696],[650,696],[650,696],[650,696],[650,696],[650,696],[650,696],[650,696],[650,696],[650,696],[650,696],[650,696],[650,696],[650,696],[650,696],[650,696],[650,696],[650,696],[650,696],[650,696],[650,696],[650,696],[650,696],[650,696],[650,696],[650,696],[650,696],[650,696],[650,696],[650,696],[650,696],[650,696],[650,696],[650,696],[650,696],[650,696],[650,696],[650,696],[350,393],[350,393],[350,393],[350,393],[350,393],[350,393],[350,393],[350,393],[350,393],[350,393],[350,393],[350,393],[350,393],[350,393],[350,393],[350,393],[350,393],[350,393],[350,393],[350,393],[350,393],[350,393],[350,393],[350,393],[350,393],[350,393],[350,393],[350,393],[350,393],[350,393],[350,393],[350,393],[350,393],[350,393],[350,393],[350,393],[350,393],[350,393],[350,393],[350,393],[350,393],[350,393],[350,393],[350,393],[350,393],[350,393],[350,393],[350,393],[350,393],[350,393],[350,393],[350,393],[350,393],[350,393],[350,393],[350,393],[350,393],[350,393],[350,393],[350,393],[350,393],[350,393],[50,80],[50,80],[50,80],[50,80],[50,80],[50,80],[50,80],[50,80],[150,190],[150,190],[150,190],[150,190],[250,291],[250,291],[250,291],[250,291],[250,291],[250,291],[150,188],[150,188],[150,188],[150,188],[150,188],[150,188],[550,594],[550,594],[550,594],[550,594],[550,594],[550,594],[550,594],[550,594],[550,594],[550,594],[550,594],[550,594],[550,594],[550,594],[550,594],[550,594],[550,594],[550,594],[550,594],[550,594],[550,594],[550,594],[550,594],[550,594],[550,594],[550,594],[550,594],[550,594],[550,594],[550,594],[550,594],[550,594],[250,290],[250,290],[250,290],[250,290],[250,290],[250,290],[250,290],[250,290],[250,290],[250,290],[250,290],[250,290],[250,290],[250,290],[250,290],[250,290],[250,290],[250,290],[250,290],[250,290],[250,290],[250,290],[250,290],[250,290],[250,290],[250,290],[250,290],[250,290],[250,290],[250,290],[250,290],[250,290],[250,290],[250,290],[250,290],[250,290],[250,290],[250,290],[250,290],[250,290],[250,290],[250,290],[250,290],[250,290],[250,290],[250,290],[250,290],[250,290],[250,290],[250,290],[250,290],[250,290],[250,290],[250,290],[250,290],[250,290],[250,290],[250,290],[250,290],[250,290],[250,290],[250,290],[250,290],[250,290],[250,290],[250,290],[250,290],[250,290],[250,290],[250,290],[250,290],[250,290],[250,290],[250,290],[250,290],[250,290],[250,290],[250,290],[250,290],[250,290],[250,290],[350,393],[350,393],[350,393],[350,393],[350,393],[350,393],[350,393],[350,393],[350,393],[350,393],[350,393],[350,393],[350,393],[550,594],[550,594],[550,594],[550,594],[450,494],[450,494],[450,494],[450,494],[450,494],[450,494],[450,494],[650,696],[650,696],[650,696],[650,696],[650,696],[650,696],[650,696],[350,392],[350,392],[350,392],[350,392],[350,392],[350,392],[450,494],[450,494],[450,494],[450,494],[450,494],[650,695],[650,695],[650,695],[650,695],[650,695],[650,695],[650,695],[650,695],[650,695],[650,695],[650,695],[650,695],[650,695],[650,695],[650,695],[650,695],[650,695],[650,695],[650,695],[650,695],[650,695],[650,695],[650,695],[650,695]]}},\"id\":\"3246df7b-0924-4566-9051-083de64448b1\",\"type\":\"ColumnDataSource\"},{\"attributes\":{\"data_source\":{\"id\":\"e9d5980d-9ee6-42ab-bc72-051aac32018d\",\"type\":\"ColumnDataSource\"},\"glyph\":{\"id\":\"3757072b-f464-48fe-8948-e269540f9837\",\"type\":\"Quad\"},\"hover_glyph\":null,\"nonselection_glyph\":{\"id\":\"66ac84d6-2b0c-4671-be31-fb1bf84c99f8\",\"type\":\"Quad\"},\"selection_glyph\":null},\"id\":\"c1d054dc-ab5b-4cc1-9062-109d7ad56d49\",\"type\":\"GlyphRenderer\"},{\"attributes\":{\"bottom\":{\"field\":\"bottom\"},\"fill_color\":{\"field\":\"fill_color\"},\"left\":{\"field\":\"left\"},\"line_color\":{\"value\":null},\"right\":{\"field\":\"right\"},\"top\":{\"field\":\"top\"}},\"id\":\"3757072b-f464-48fe-8948-e269540f9837\",\"type\":\"Quad\"},{\"attributes\":{\"bottom\":{\"field\":\"bottom\"},\"fill_color\":{\"value\":\"white\"},\"left\":{\"field\":\"left\"},\"right\":{\"field\":\"right\"},\"top\":{\"field\":\"top\"}},\"id\":\"b694c529-e888-42b8-8d3a-700c3f536d3c\",\"type\":\"Quad\"},{\"attributes\":{\"plot\":null,\"text\":null},\"id\":\"3dd1aeb3-3ef0-4e57-8e57-90431738bcae\",\"type\":\"Title\"},{\"attributes\":{\"bottom\":{\"field\":\"bottom\"},\"fill_alpha\":{\"value\":0.1},\"fill_color\":{\"value\":\"#1f77b4\"},\"left\":{\"field\":\"left\"},\"line_alpha\":{\"value\":0.1},\"line_color\":{\"value\":\"#1f77b4\"},\"right\":{\"field\":\"right\"},\"top\":{\"field\":\"top\"}},\"id\":\"6e3c5853-519d-4b69-91d5-ff9d84e72b46\",\"type\":\"Quad\"},{\"attributes\":{\"line_alpha\":{\"value\":0.1},\"line_color\":{\"value\":\"#1f77b4\"},\"xs\":{\"field\":\"xs\"},\"ys\":{\"field\":\"ys\"}},\"id\":\"86aa5767-aeaf-4477-91d8-73ea7e750c0b\",\"type\":\"MultiLine\"},{\"attributes\":{\"plot\":{\"id\":\"10f2f1bc-bf81-4793-b8c2-dbefd4521a5b\",\"subtype\":\"Figure\",\"type\":\"Plot\"},\"ticker\":{\"id\":\"86937853-d9f5-4c98-aa1f-ed14fc289811\",\"type\":\"BasicTicker\"}},\"id\":\"203bc87b-20c3-4f58-a72d-474e0c98ee4e\",\"type\":\"Grid\"},{\"attributes\":{\"formatter\":{\"id\":\"a387e8b2-ae33-4c88-a20c-6e1c84eb8a11\",\"type\":\"BasicTickFormatter\"},\"plot\":{\"id\":\"10f2f1bc-bf81-4793-b8c2-dbefd4521a5b\",\"subtype\":\"Figure\",\"type\":\"Plot\"},\"ticker\":{\"id\":\"5da0bf78-5f1c-419c-8e46-7e1109bc9d40\",\"type\":\"BasicTicker\"},\"visible\":null},\"id\":\"111c2d30-2a1e-4419-a653-65d782ce7889\",\"type\":\"LinearAxis\"},{\"attributes\":{\"callback\":null,\"column_names\":[\"right\",\"bottom\",\"top\",\"left\"],\"data\":{\"bottom\":[745,745,745,745,745,745,745],\"left\":[135809835,135957574,136289083,136499189,136545415,136597196,136664254],\"right\":[135928279,136288182,136482839,136542633,136594750,136634047,136743222],\"top\":[775,775,775,775,775,775,775]}},\"id\":\"10361242-57e9-4480-8445-097b1bae0157\",\"type\":\"ColumnDataSource\"},{\"attributes\":{},\"id\":\"3d43edc3-bd87-4dd8-b2a4-33aa84032010\",\"type\":\"ToolEvents\"},{\"attributes\":{\"line_color\":{\"field\":\"line_color\"},\"xs\":{\"field\":\"xs\"},\"ys\":{\"field\":\"ys\"}},\"id\":\"4cfe2334-072b-42ba-844f-6b43d05f5878\",\"type\":\"MultiLine\"},{\"attributes\":{\"callback\":null,\"end\":136786630,\"start\":135757320},\"id\":\"cc283389-5071-45c9-89f4-d68eaba8c522\",\"type\":\"Range1d\"},{\"attributes\":{},\"id\":\"86937853-d9f5-4c98-aa1f-ed14fc289811\",\"type\":\"BasicTicker\"},{\"attributes\":{\"plot\":{\"id\":\"10f2f1bc-bf81-4793-b8c2-dbefd4521a5b\",\"subtype\":\"Figure\",\"type\":\"Plot\"}},\"id\":\"ee578210-dfe6-4c22-a678-a4695e7c7ea1\",\"type\":\"WheelZoomTool\"},{\"attributes\":{\"data_source\":{\"id\":\"3246df7b-0924-4566-9051-083de64448b1\",\"type\":\"ColumnDataSource\"},\"glyph\":{\"id\":\"4cfe2334-072b-42ba-844f-6b43d05f5878\",\"type\":\"MultiLine\"},\"hover_glyph\":null,\"nonselection_glyph\":{\"id\":\"86aa5767-aeaf-4477-91d8-73ea7e750c0b\",\"type\":\"MultiLine\"},\"selection_glyph\":null},\"id\":\"d65f7f79-532f-4ae7-9acc-5cbc00684869\",\"type\":\"GlyphRenderer\"},{\"attributes\":{\"formatter\":{\"id\":\"53b8a05d-34c5-4b4a-96df-d03a0c19abfd\",\"type\":\"BasicTickFormatter\"},\"plot\":{\"id\":\"10f2f1bc-bf81-4793-b8c2-dbefd4521a5b\",\"subtype\":\"Figure\",\"type\":\"Plot\"},\"ticker\":{\"id\":\"86937853-d9f5-4c98-aa1f-ed14fc289811\",\"type\":\"BasicTicker\"}},\"id\":\"509f22ce-016e-46cc-b89d-7fa9105ba075\",\"type\":\"LinearAxis\"},{\"attributes\":{\"bottom_units\":\"screen\",\"fill_alpha\":{\"value\":0.5},\"fill_color\":{\"value\":\"lightgrey\"},\"left_units\":\"screen\",\"level\":\"overlay\",\"line_alpha\":{\"value\":1.0},\"line_color\":{\"value\":\"black\"},\"line_dash\":[4,4],\"line_width\":{\"value\":2},\"plot\":null,\"render_mode\":\"css\",\"right_units\":\"screen\",\"top_units\":\"screen\"},\"id\":\"7b2a3e27-6f33-4b98-bdd3-65515c031868\",\"type\":\"BoxAnnotation\"},{\"attributes\":{\"overlay\":{\"id\":\"7b2a3e27-6f33-4b98-bdd3-65515c031868\",\"type\":\"BoxAnnotation\"},\"plot\":{\"id\":\"10f2f1bc-bf81-4793-b8c2-dbefd4521a5b\",\"subtype\":\"Figure\",\"type\":\"Plot\"}},\"id\":\"3b787c5a-27b9-4d6b-aa3f-374fb75a3139\",\"type\":\"BoxZoomTool\"},{\"attributes\":{\"dimension\":1,\"plot\":{\"id\":\"10f2f1bc-bf81-4793-b8c2-dbefd4521a5b\",\"subtype\":\"Figure\",\"type\":\"Plot\"},\"ticker\":{\"id\":\"5da0bf78-5f1c-419c-8e46-7e1109bc9d40\",\"type\":\"BasicTicker\"}},\"id\":\"002dbcab-e5b0-4c74-8663-fe588743903e\",\"type\":\"Grid\"},{\"attributes\":{\"level\":\"glyph\",\"plot\":{\"id\":\"10f2f1bc-bf81-4793-b8c2-dbefd4521a5b\",\"subtype\":\"Figure\",\"type\":\"Plot\"},\"source\":{\"id\":\"2014a2a1-e694-4d20-a1f5-406ae5ebd522\",\"type\":\"ColumnDataSource\"},\"text\":{\"field\":\"vals\"},\"text_font_size\":{\"value\":\"9pt\"},\"text_font_style\":\"bold\",\"x\":{\"field\":\"x\"},\"y\":{\"field\":\"y\"}},\"id\":\"6e34715c-e8a7-45af-8529-782debd8ed23\",\"type\":\"LabelSet\"},{\"attributes\":{\"active_drag\":\"auto\",\"active_scroll\":\"auto\",\"active_tap\":\"auto\",\"tools\":[{\"id\":\"f0d4d99c-5a13-4385-9ad4-cc25ec01d715\",\"type\":\"PanTool\"},{\"id\":\"ee578210-dfe6-4c22-a678-a4695e7c7ea1\",\"type\":\"WheelZoomTool\"},{\"id\":\"3b787c5a-27b9-4d6b-aa3f-374fb75a3139\",\"type\":\"BoxZoomTool\"},{\"id\":\"86b5cb7c-8ace-46b7-9d8a-5543933c53aa\",\"type\":\"SaveTool\"},{\"id\":\"f45588db-5dde-4c4f-b973-e7646ea3d2cb\",\"type\":\"ResetTool\"},{\"id\":\"5e785023-56c3-46f5-99f8-f058f225e265\",\"type\":\"HelpTool\"}]},\"id\":\"385a5c28-0a21-4d18-a71f-1ae4b3ccb254\",\"type\":\"Toolbar\"},{\"attributes\":{\"data_source\":{\"id\":\"10361242-57e9-4480-8445-097b1bae0157\",\"type\":\"ColumnDataSource\"},\"glyph\":{\"id\":\"b694c529-e888-42b8-8d3a-700c3f536d3c\",\"type\":\"Quad\"},\"hover_glyph\":null,\"nonselection_glyph\":{\"id\":\"6e3c5853-519d-4b69-91d5-ff9d84e72b46\",\"type\":\"Quad\"},\"selection_glyph\":null},\"id\":\"b58e25e0-63bf-461b-b041-77728b3d7f0e\",\"type\":\"GlyphRenderer\"},{\"attributes\":{\"callback\":null,\"column_names\":[\"y\",\"x\",\"vals\"],\"data\":{\"vals\":[\"117_1685\",\"62_1265\",\"8_267\",\"4_815\",\"6_946\",\"6_713\",\"32_1361\",\"81_857\",\"13_1227\",\"4_1442\",\"7_1303\",\"7_1760\",\"6_1114\",\"5_1296\",\"24_1504\"],\"x\":[135758231,135766890,135818487,135839805,135964764,135989333,136393658,136494985,136500475,136506375,136535876,136588031,136652491,136652953,136653925],\"y\":[701.0,398.0,85.0,195.0,296.0,193.0,599.0,295.0,398.0,599.0,499.0,701.0,397.0,499.0,700.0]}},\"id\":\"2014a2a1-e694-4d20-a1f5-406ae5ebd522\",\"type\":\"ColumnDataSource\"},{\"attributes\":{\"plot\":{\"id\":\"10f2f1bc-bf81-4793-b8c2-dbefd4521a5b\",\"subtype\":\"Figure\",\"type\":\"Plot\"}},\"id\":\"f45588db-5dde-4c4f-b973-e7646ea3d2cb\",\"type\":\"ResetTool\"},{\"attributes\":{\"callback\":null,\"column_names\":[\"y\",\"x\",\"vals\"],\"data\":{\"vals\":[\"RAB3GAP1\",\"ZRANB3\",\"R3HDM1\",\"UBXN4\",\"LCT\",\"MCM6\",\"DARS\"],\"x\":[135869057.0,136122878.0,136385961.0,136520911.0,136570082.5,136615621.5,136703738.0],\"y\":[760.0,760.0,760.0,760.0,760.0,760.0,760.0]}},\"id\":\"bd5c80f5-3d15-4fd1-99e0-0131dfad407d\",\"type\":\"ColumnDataSource\"},{\"attributes\":{\"plot\":{\"id\":\"10f2f1bc-bf81-4793-b8c2-dbefd4521a5b\",\"subtype\":\"Figure\",\"type\":\"Plot\"}},\"id\":\"f0d4d99c-5a13-4385-9ad4-cc25ec01d715\",\"type\":\"PanTool\"},{\"attributes\":{\"plot\":{\"id\":\"10f2f1bc-bf81-4793-b8c2-dbefd4521a5b\",\"subtype\":\"Figure\",\"type\":\"Plot\"}},\"id\":\"86b5cb7c-8ace-46b7-9d8a-5543933c53aa\",\"type\":\"SaveTool\"},{\"attributes\":{\"bottom\":{\"field\":\"bottom\"},\"fill_alpha\":{\"value\":0.1},\"fill_color\":{\"value\":\"#1f77b4\"},\"left\":{\"field\":\"left\"},\"line_alpha\":{\"value\":0.1},\"line_color\":{\"value\":\"#1f77b4\"},\"right\":{\"field\":\"right\"},\"top\":{\"field\":\"top\"}},\"id\":\"66ac84d6-2b0c-4671-be31-fb1bf84c99f8\",\"type\":\"Quad\"},{\"attributes\":{\"callback\":null,\"end\":800},\"id\":\"85e69d54-c41d-4a9b-a052-0eedef0e3352\",\"type\":\"Range1d\"},{\"attributes\":{\"below\":[{\"id\":\"509f22ce-016e-46cc-b89d-7fa9105ba075\",\"type\":\"LinearAxis\"}],\"left\":[{\"id\":\"111c2d30-2a1e-4419-a653-65d782ce7889\",\"type\":\"LinearAxis\"}],\"plot_height\":800,\"plot_width\":900,\"renderers\":[{\"id\":\"509f22ce-016e-46cc-b89d-7fa9105ba075\",\"type\":\"LinearAxis\"},{\"id\":\"203bc87b-20c3-4f58-a72d-474e0c98ee4e\",\"type\":\"Grid\"},{\"id\":\"111c2d30-2a1e-4419-a653-65d782ce7889\",\"type\":\"LinearAxis\"},{\"id\":\"002dbcab-e5b0-4c74-8663-fe588743903e\",\"type\":\"Grid\"},{\"id\":\"7b2a3e27-6f33-4b98-bdd3-65515c031868\",\"type\":\"BoxAnnotation\"},{\"id\":\"c1d054dc-ab5b-4cc1-9062-109d7ad56d49\",\"type\":\"GlyphRenderer\"},{\"id\":\"d65f7f79-532f-4ae7-9acc-5cbc00684869\",\"type\":\"GlyphRenderer\"},{\"id\":\"6e34715c-e8a7-45af-8529-782debd8ed23\",\"type\":\"LabelSet\"},{\"id\":\"b58e25e0-63bf-461b-b041-77728b3d7f0e\",\"type\":\"GlyphRenderer\"},{\"id\":\"0a716c2f-ab66-483c-a1f7-997b5f7f6307\",\"type\":\"LabelSet\"}],\"title\":{\"id\":\"3dd1aeb3-3ef0-4e57-8e57-90431738bcae\",\"type\":\"Title\"},\"tool_events\":{\"id\":\"3d43edc3-bd87-4dd8-b2a4-33aa84032010\",\"type\":\"ToolEvents\"},\"toolbar\":{\"id\":\"385a5c28-0a21-4d18-a71f-1ae4b3ccb254\",\"type\":\"Toolbar\"},\"toolbar_location\":null,\"x_range\":{\"id\":\"cc283389-5071-45c9-89f4-d68eaba8c522\",\"type\":\"Range1d\"},\"y_range\":{\"id\":\"85e69d54-c41d-4a9b-a052-0eedef0e3352\",\"type\":\"Range1d\"}},\"id\":\"10f2f1bc-bf81-4793-b8c2-dbefd4521a5b\",\"subtype\":\"Figure\",\"type\":\"Plot\"},{\"attributes\":{},\"id\":\"5da0bf78-5f1c-419c-8e46-7e1109bc9d40\",\"type\":\"BasicTicker\"},{\"attributes\":{\"callback\":null,\"column_names\":[\"right\",\"bottom\",\"top\",\"left\",\"fill_color\"],\"data\":{\"bottom\":[650,350,50,150,250,150,550,250,350,550,450,650,350,450,650],\"fill_color\":[\"#808080\",\"#808080\",\"#c461c4\",\"#61c4c4\",\"#61c4c4\",\"#61c4c4\",\"#c4c461\",\"#808080\",\"#808080\",\"#808080\",\"#808080\",\"#c46161\",\"#808080\",\"#808080\",\"#808080\"],\"left\":[135758231,135766890,135818487,135839805,135964764,135989333,136393658,136494985,136500475,136506375,136535876,136588031,136652491,136652953,136653925],\"right\":[136376515,136275985,136289565,135924467,136101132,136264631,136486342,136773638,136542560,136538939,136554890,136593678,136732772,136761175,136761853],\"top\":[696,393,80,190,291,188,594,290,393,594,494,696,392,494,695]}},\"id\":\"e9d5980d-9ee6-42ab-bc72-051aac32018d\",\"type\":\"ColumnDataSource\"},{\"attributes\":{},\"id\":\"53b8a05d-34c5-4b4a-96df-d03a0c19abfd\",\"type\":\"BasicTickFormatter\"}],\"root_ids\":[\"10f2f1bc-bf81-4793-b8c2-dbefd4521a5b\"]},\"title\":\"Bokeh Application\",\"version\":\"0.12.0\"}};\n",
       "            var render_items = [{\"docid\":\"d785c9a6-1e70-44df-aa0a-e5757870cd26\",\"elementid\":\"ec414472-7cfd-4cef-b377-834eec6dfdef\",\"modelid\":\"10f2f1bc-bf81-4793-b8c2-dbefd4521a5b\",\"notebook_comms_target\":\"20eacc88-2457-48f0-b320-77a67ba5c75a\"}];\n",
       "            \n",
       "            Bokeh.embed.embed_items(docs_json, render_items);\n",
       "        });\n",
       "      },\n",
       "      function(Bokeh) {\n",
       "      }\n",
       "    ];\n",
       "  \n",
       "    function run_inline_js() {\n",
       "      for (var i = 0; i < inline_js.length; i++) {\n",
       "        inline_js[i](window.Bokeh);\n",
       "      }\n",
       "    }\n",
       "  \n",
       "    if (window._bokeh_is_loading === 0) {\n",
       "      console.log(\"Bokeh: BokehJS loaded, going straight to plotting\");\n",
       "      run_inline_js();\n",
       "    } else {\n",
       "      load_libs(js_urls, function() {\n",
       "        console.log(\"Bokeh: BokehJS plotting callback run at\", now());\n",
       "        run_inline_js();\n",
       "      });\n",
       "    }\n",
       "  }(this));\n",
       "</script>"
      ]
     },
     "metadata": {},
     "output_type": "display_data"
    },
    {
     "data": {
      "text/html": [
       "<p><code>&lt;Bokeh Notebook handle for <strong>In[56]</strong>&gt;</code></p>"
      ],
      "text/plain": [
       "<bokeh.io._CommsHandle at 0x7f1488c08590>"
      ]
     },
     "execution_count": 56,
     "metadata": {},
     "output_type": "execute_result"
    }
   ],
   "source": [
    "plt_obj = dm.superset_allele_mask(am_170, [dm.di_8_267, dm.di_81_857], [dm.di_9_39], min_match=0.001)\n",
    "plt = plt_obj.do_plot()\n",
    "show(plt)"
   ]
  },
  {
   "cell_type": "markdown",
   "metadata": {},
   "source": [
    "<div style=\"width:700px\">\n",
    "<p>\n",
    "This plot shows the series association for chromosome samples that do express 170 series 193_843 SNPs,\n",
    "the series 8_267, the series 81_857, but not the series 9_39\n",
    "</div>"
   ]
  },
  {
   "cell_type": "code",
   "execution_count": 39,
   "metadata": {
    "collapsed": false
   },
   "outputs": [
    {
     "data": {
      "text/html": [
       "<table>\n",
       "<thead><tr><th style=\"text-align:center\">index</th><th style=\"text-align:center\">first</th><th style=\"text-align:center\">length</th><th style=\"text-align:center\">snps</th><th style=\"text-align:center\" colspan=2>alleles</th><th style=\"text-align:center\" colspan=2>matches</th><th style=\"text-align:center\" colspan=2>afr</th><th style=\"text-align:center\" colspan=2>afx</th><th style=\"text-align:center\" colspan=2>amr</th><th style=\"text-align:center\" colspan=2>eas</th><th style=\"text-align:center\" colspan=2>eur</th><th style=\"text-align:center\" colspan=2>sas</th><th style=\"text-align:center\" colspan=2>sax</th></tr></thead>\n",
       "<tr class=\"even\"><td style=\"text-align: right;\">354033</td><td style=\"text-align: right;\">136,588,031</td><td style=\"text-align: right;\">5,647</td><td style=\"text-align: right;\">7</td><td style=\"text-align: right;\">1760</td><td style=\"text-align: right;\">0.00</td><td style=\"text-align: right;\">2</td><td style=\"text-align: right;\">1.00</td><td style=\"text-align: right;\">0</td><td style=\"text-align: right;\">0.00</td><td style=\"text-align: right;\">0</td><td style=\"text-align: right;\">0.00</td><td style=\"text-align: right;\">0</td><td style=\"text-align: right;\">0.00</td><td style=\"text-align: right;\">0</td><td style=\"text-align: right;\">0.00</td><td style=\"text-align: right;\">2</td><td style=\"text-align: right;\">4.98</td><td style=\"text-align: right;\">0</td><td style=\"text-align: right;\">0.00</td><td style=\"text-align: right;\">0</td><td style=\"text-align: right;\">0.00</td></tr>\n",
       "<tr><td style=\"text-align: right;\">353244</td><td style=\"text-align: right;\">135,758,231</td><td style=\"text-align: right;\">618,284</td><td style=\"text-align: right;\">117</td><td style=\"text-align: right;\">1685</td><td style=\"text-align: right;\">0.00</td><td style=\"text-align: right;\">2</td><td style=\"text-align: right;\">1.00</td><td style=\"text-align: right;\">0</td><td style=\"text-align: right;\">0.00</td><td style=\"text-align: right;\">0</td><td style=\"text-align: right;\">0.00</td><td style=\"text-align: right;\">0</td><td style=\"text-align: right;\">0.00</td><td style=\"text-align: right;\">0</td><td style=\"text-align: right;\">0.00</td><td style=\"text-align: right;\">2</td><td style=\"text-align: right;\">4.98</td><td style=\"text-align: right;\">0</td><td style=\"text-align: right;\">0.00</td><td style=\"text-align: right;\">0</td><td style=\"text-align: right;\">0.00</td></tr>\n",
       "<tr class=\"even\"><td style=\"text-align: right;\">354130</td><td style=\"text-align: right;\">136,653,925</td><td style=\"text-align: right;\">107,928</td><td style=\"text-align: right;\">24</td><td style=\"text-align: right;\">1504</td><td style=\"text-align: right;\">0.00</td><td style=\"text-align: right;\">2</td><td style=\"text-align: right;\">1.00</td><td style=\"text-align: right;\">0</td><td style=\"text-align: right;\">0.00</td><td style=\"text-align: right;\">0</td><td style=\"text-align: right;\">0.00</td><td style=\"text-align: right;\">0</td><td style=\"text-align: right;\">0.00</td><td style=\"text-align: right;\">0</td><td style=\"text-align: right;\">0.00</td><td style=\"text-align: right;\">2</td><td style=\"text-align: right;\">4.98</td><td style=\"text-align: right;\">0</td><td style=\"text-align: right;\">0.00</td><td style=\"text-align: right;\">0</td><td style=\"text-align: right;\">0.00</td></tr>\n",
       "<tr><td style=\"text-align: right;\">353925</td><td style=\"text-align: right;\">136,506,375</td><td style=\"text-align: right;\">32,564</td><td style=\"text-align: right;\">4</td><td style=\"text-align: right;\">1442</td><td style=\"text-align: right;\">0.00</td><td style=\"text-align: right;\">2</td><td style=\"text-align: right;\">1.00</td><td style=\"text-align: right;\">0</td><td style=\"text-align: right;\">0.00</td><td style=\"text-align: right;\">0</td><td style=\"text-align: right;\">0.00</td><td style=\"text-align: right;\">0</td><td style=\"text-align: right;\">0.00</td><td style=\"text-align: right;\">0</td><td style=\"text-align: right;\">0.00</td><td style=\"text-align: right;\">2</td><td style=\"text-align: right;\">4.98</td><td style=\"text-align: right;\">0</td><td style=\"text-align: right;\">0.00</td><td style=\"text-align: right;\">0</td><td style=\"text-align: right;\">0.00</td></tr>\n",
       "<tr class=\"even\"><td style=\"text-align: right;\">353791</td><td style=\"text-align: right;\">136,393,658</td><td style=\"text-align: right;\">92,684</td><td style=\"text-align: right;\">32</td><td style=\"text-align: right;\">1361</td><td style=\"text-align: right;\">0.00</td><td style=\"text-align: right;\">2</td><td style=\"text-align: right;\">1.00</td><td style=\"text-align: right;\">0</td><td style=\"text-align: right;\">0.00</td><td style=\"text-align: right;\">0</td><td style=\"text-align: right;\">0.00</td><td style=\"text-align: right;\">0</td><td style=\"text-align: right;\">0.00</td><td style=\"text-align: right;\">0</td><td style=\"text-align: right;\">0.00</td><td style=\"text-align: right;\">2</td><td style=\"text-align: right;\">4.98</td><td style=\"text-align: right;\">0</td><td style=\"text-align: right;\">0.00</td><td style=\"text-align: right;\">0</td><td style=\"text-align: right;\">0.00</td></tr>\n",
       "<tr><td style=\"text-align: right;\">353958</td><td style=\"text-align: right;\">136,535,876</td><td style=\"text-align: right;\">19,014</td><td style=\"text-align: right;\">7</td><td style=\"text-align: right;\">1303</td><td style=\"text-align: right;\">0.00</td><td style=\"text-align: right;\">2</td><td style=\"text-align: right;\">1.00</td><td style=\"text-align: right;\">0</td><td style=\"text-align: right;\">0.00</td><td style=\"text-align: right;\">0</td><td style=\"text-align: right;\">0.00</td><td style=\"text-align: right;\">0</td><td style=\"text-align: right;\">0.00</td><td style=\"text-align: right;\">0</td><td style=\"text-align: right;\">0.00</td><td style=\"text-align: right;\">2</td><td style=\"text-align: right;\">4.98</td><td style=\"text-align: right;\">0</td><td style=\"text-align: right;\">0.00</td><td style=\"text-align: right;\">0</td><td style=\"text-align: right;\">0.00</td></tr>\n",
       "<tr class=\"even\"><td style=\"text-align: right;\">354129</td><td style=\"text-align: right;\">136,652,953</td><td style=\"text-align: right;\">108,222</td><td style=\"text-align: right;\">5</td><td style=\"text-align: right;\">1296</td><td style=\"text-align: right;\">0.00</td><td style=\"text-align: right;\">2</td><td style=\"text-align: right;\">1.00</td><td style=\"text-align: right;\">0</td><td style=\"text-align: right;\">0.00</td><td style=\"text-align: right;\">0</td><td style=\"text-align: right;\">0.00</td><td style=\"text-align: right;\">0</td><td style=\"text-align: right;\">0.00</td><td style=\"text-align: right;\">0</td><td style=\"text-align: right;\">0.00</td><td style=\"text-align: right;\">2</td><td style=\"text-align: right;\">4.98</td><td style=\"text-align: right;\">0</td><td style=\"text-align: right;\">0.00</td><td style=\"text-align: right;\">0</td><td style=\"text-align: right;\">0.00</td></tr>\n",
       "<tr><td style=\"text-align: right;\">353269</td><td style=\"text-align: right;\">135,766,890</td><td style=\"text-align: right;\">509,095</td><td style=\"text-align: right;\">62</td><td style=\"text-align: right;\">1265</td><td style=\"text-align: right;\">0.00</td><td style=\"text-align: right;\">2</td><td style=\"text-align: right;\">1.00</td><td style=\"text-align: right;\">0</td><td style=\"text-align: right;\">0.00</td><td style=\"text-align: right;\">0</td><td style=\"text-align: right;\">0.00</td><td style=\"text-align: right;\">0</td><td style=\"text-align: right;\">0.00</td><td style=\"text-align: right;\">0</td><td style=\"text-align: right;\">0.00</td><td style=\"text-align: right;\">2</td><td style=\"text-align: right;\">4.98</td><td style=\"text-align: right;\">0</td><td style=\"text-align: right;\">0.00</td><td style=\"text-align: right;\">0</td><td style=\"text-align: right;\">0.00</td></tr>\n",
       "<tr class=\"even\"><td style=\"text-align: right;\">353919</td><td style=\"text-align: right;\">136,500,475</td><td style=\"text-align: right;\">42,085</td><td style=\"text-align: right;\">13</td><td style=\"text-align: right;\">1227</td><td style=\"text-align: right;\">0.00</td><td style=\"text-align: right;\">2</td><td style=\"text-align: right;\">1.00</td><td style=\"text-align: right;\">0</td><td style=\"text-align: right;\">0.00</td><td style=\"text-align: right;\">0</td><td style=\"text-align: right;\">0.00</td><td style=\"text-align: right;\">0</td><td style=\"text-align: right;\">0.00</td><td style=\"text-align: right;\">0</td><td style=\"text-align: right;\">0.00</td><td style=\"text-align: right;\">2</td><td style=\"text-align: right;\">4.98</td><td style=\"text-align: right;\">0</td><td style=\"text-align: right;\">0.00</td><td style=\"text-align: right;\">0</td><td style=\"text-align: right;\">0.00</td></tr>\n",
       "<tr><td style=\"text-align: right;\">354127</td><td style=\"text-align: right;\">136,652,491</td><td style=\"text-align: right;\">80,281</td><td style=\"text-align: right;\">6</td><td style=\"text-align: right;\">1114</td><td style=\"text-align: right;\">0.00</td><td style=\"text-align: right;\">2</td><td style=\"text-align: right;\">1.00</td><td style=\"text-align: right;\">0</td><td style=\"text-align: right;\">0.00</td><td style=\"text-align: right;\">0</td><td style=\"text-align: right;\">0.00</td><td style=\"text-align: right;\">0</td><td style=\"text-align: right;\">0.00</td><td style=\"text-align: right;\">0</td><td style=\"text-align: right;\">0.00</td><td style=\"text-align: right;\">2</td><td style=\"text-align: right;\">4.98</td><td style=\"text-align: right;\">0</td><td style=\"text-align: right;\">0.00</td><td style=\"text-align: right;\">0</td><td style=\"text-align: right;\">0.00</td></tr>\n",
       "<tr class=\"even\"><td style=\"text-align: right;\">353504</td><td style=\"text-align: right;\">135,964,764</td><td style=\"text-align: right;\">136,368</td><td style=\"text-align: right;\">6</td><td style=\"text-align: right;\">946</td><td style=\"text-align: right;\">0.00</td><td style=\"text-align: right;\">2</td><td style=\"text-align: right;\">1.00</td><td style=\"text-align: right;\">0</td><td style=\"text-align: right;\">0.00</td><td style=\"text-align: right;\">0</td><td style=\"text-align: right;\">0.00</td><td style=\"text-align: right;\">0</td><td style=\"text-align: right;\">0.00</td><td style=\"text-align: right;\">0</td><td style=\"text-align: right;\">0.00</td><td style=\"text-align: right;\">2</td><td style=\"text-align: right;\">4.98</td><td style=\"text-align: right;\">0</td><td style=\"text-align: right;\">0.00</td><td style=\"text-align: right;\">0</td><td style=\"text-align: right;\">0.00</td></tr>\n",
       "<tr><td style=\"text-align: right;\">353902</td><td style=\"text-align: right;\">136,494,985</td><td style=\"text-align: right;\">278,653</td><td style=\"text-align: right;\">81</td><td style=\"text-align: right;\">857</td><td style=\"text-align: right;\">0.00</td><td style=\"text-align: right;\">2</td><td style=\"text-align: right;\">1.00</td><td style=\"text-align: right;\">0</td><td style=\"text-align: right;\">0.00</td><td style=\"text-align: right;\">0</td><td style=\"text-align: right;\">0.00</td><td style=\"text-align: right;\">0</td><td style=\"text-align: right;\">0.00</td><td style=\"text-align: right;\">0</td><td style=\"text-align: right;\">0.00</td><td style=\"text-align: right;\">2</td><td style=\"text-align: right;\">4.98</td><td style=\"text-align: right;\">0</td><td style=\"text-align: right;\">0.00</td><td style=\"text-align: right;\">0</td><td style=\"text-align: right;\">0.00</td></tr>\n",
       "<tr class=\"even\"><td style=\"text-align: right;\">353384</td><td style=\"text-align: right;\">135,839,805</td><td style=\"text-align: right;\">84,662</td><td style=\"text-align: right;\">4</td><td style=\"text-align: right;\">815</td><td style=\"text-align: right;\">0.00</td><td style=\"text-align: right;\">2</td><td style=\"text-align: right;\">1.00</td><td style=\"text-align: right;\">0</td><td style=\"text-align: right;\">0.00</td><td style=\"text-align: right;\">0</td><td style=\"text-align: right;\">0.00</td><td style=\"text-align: right;\">0</td><td style=\"text-align: right;\">0.00</td><td style=\"text-align: right;\">0</td><td style=\"text-align: right;\">0.00</td><td style=\"text-align: right;\">2</td><td style=\"text-align: right;\">4.98</td><td style=\"text-align: right;\">0</td><td style=\"text-align: right;\">0.00</td><td style=\"text-align: right;\">0</td><td style=\"text-align: right;\">0.00</td></tr>\n",
       "<tr><td style=\"text-align: right;\">353521</td><td style=\"text-align: right;\">135,989,333</td><td style=\"text-align: right;\">275,298</td><td style=\"text-align: right;\">6</td><td style=\"text-align: right;\">713</td><td style=\"text-align: right;\">0.00</td><td style=\"text-align: right;\">2</td><td style=\"text-align: right;\">1.00</td><td style=\"text-align: right;\">0</td><td style=\"text-align: right;\">0.00</td><td style=\"text-align: right;\">0</td><td style=\"text-align: right;\">0.00</td><td style=\"text-align: right;\">0</td><td style=\"text-align: right;\">0.00</td><td style=\"text-align: right;\">0</td><td style=\"text-align: right;\">0.00</td><td style=\"text-align: right;\">2</td><td style=\"text-align: right;\">4.98</td><td style=\"text-align: right;\">0</td><td style=\"text-align: right;\">0.00</td><td style=\"text-align: right;\">0</td><td style=\"text-align: right;\">0.00</td></tr>\n",
       "<tr class=\"even\"><td style=\"text-align: right;\">353358</td><td style=\"text-align: right;\">135,818,487</td><td style=\"text-align: right;\">471,078</td><td style=\"text-align: right;\">8</td><td style=\"text-align: right;\">267</td><td style=\"text-align: right;\">0.01</td><td style=\"text-align: right;\">2</td><td style=\"text-align: right;\">1.00</td><td style=\"text-align: right;\">0</td><td style=\"text-align: right;\">0.00</td><td style=\"text-align: right;\">0</td><td style=\"text-align: right;\">0.00</td><td style=\"text-align: right;\">0</td><td style=\"text-align: right;\">0.00</td><td style=\"text-align: right;\">0</td><td style=\"text-align: right;\">0.00</td><td style=\"text-align: right;\">2</td><td style=\"text-align: right;\">4.98</td><td style=\"text-align: right;\">0</td><td style=\"text-align: right;\">0.00</td><td style=\"text-align: right;\">0</td><td style=\"text-align: right;\">0.00</td></tr>\n",
       "</table>"
      ],
      "text/plain": [
       "<IPython.core.display.HTML object>"
      ]
     },
     "execution_count": 39,
     "metadata": {},
     "output_type": "execute_result"
    }
   ],
   "source": [
    "HTML(plt_obj.get_html())"
   ]
  },
  {
   "cell_type": "markdown",
   "metadata": {},
   "source": [
    "<div style=\"width:700px\">\n",
    "<p>\n",
    "This data shows that this plot accounts for 2 of the chromsome samples that express 170 series\n",
    "193_843 SNPs but do not express series 9_39.\n",
    "</div>"
   ]
  },
  {
   "cell_type": "code",
   "execution_count": 40,
   "metadata": {
    "collapsed": false
   },
   "outputs": [
    {
     "data": {
      "text/html": [
       "\n",
       "\n",
       "    <div class=\"bk-root\">\n",
       "        <div class=\"plotdiv\" id=\"f9d92f52-2ec2-4cd5-b553-292f47724243\"></div>\n",
       "    </div>\n",
       "<script type=\"text/javascript\">\n",
       "  \n",
       "  (function(global) {\n",
       "    function now() {\n",
       "      return new Date();\n",
       "    }\n",
       "  \n",
       "    if (typeof (window._bokeh_onload_callbacks) === \"undefined\") {\n",
       "      window._bokeh_onload_callbacks = [];\n",
       "    }\n",
       "  \n",
       "    function run_callbacks() {\n",
       "      window._bokeh_onload_callbacks.forEach(function(callback) { callback() });\n",
       "      delete window._bokeh_onload_callbacks\n",
       "      console.info(\"Bokeh: all callbacks have finished\");\n",
       "    }\n",
       "  \n",
       "    function load_libs(js_urls, callback) {\n",
       "      window._bokeh_onload_callbacks.push(callback);\n",
       "      if (window._bokeh_is_loading > 0) {\n",
       "        console.log(\"Bokeh: BokehJS is being loaded, scheduling callback at\", now());\n",
       "        return null;\n",
       "      }\n",
       "      if (js_urls == null || js_urls.length === 0) {\n",
       "        run_callbacks();\n",
       "        return null;\n",
       "      }\n",
       "      console.log(\"Bokeh: BokehJS not loaded, scheduling load and callback at\", now());\n",
       "      window._bokeh_is_loading = js_urls.length;\n",
       "      for (var i = 0; i < js_urls.length; i++) {\n",
       "        var url = js_urls[i];\n",
       "        var s = document.createElement('script');\n",
       "        s.src = url;\n",
       "        s.async = false;\n",
       "        s.onreadystatechange = s.onload = function() {\n",
       "          window._bokeh_is_loading--;\n",
       "          if (window._bokeh_is_loading === 0) {\n",
       "            console.log(\"Bokeh: all BokehJS libraries loaded\");\n",
       "            run_callbacks()\n",
       "          }\n",
       "        };\n",
       "        s.onerror = function() {\n",
       "          console.warn(\"failed to load library \" + url);\n",
       "        };\n",
       "        console.log(\"Bokeh: injecting script tag for BokehJS library: \", url);\n",
       "        document.getElementsByTagName(\"head\")[0].appendChild(s);\n",
       "      }\n",
       "    };var element = document.getElementById(\"f9d92f52-2ec2-4cd5-b553-292f47724243\");\n",
       "    if (element == null) {\n",
       "      console.log(\"Bokeh: ERROR: autoload.js configured with elementid 'f9d92f52-2ec2-4cd5-b553-292f47724243' but no matching script tag was found. \")\n",
       "      return false;\n",
       "    }\n",
       "  \n",
       "    var js_urls = [];\n",
       "  \n",
       "    var inline_js = [\n",
       "      function(Bokeh) {\n",
       "        Bokeh.$(function() {\n",
       "            var docs_json = {\"dc405ba4-0f56-4a72-b8e4-28f9a2ee51e0\":{\"roots\":{\"references\":[{\"attributes\":{\"line_alpha\":{\"value\":0.1},\"line_color\":{\"value\":\"#1f77b4\"},\"xs\":{\"field\":\"xs\"},\"ys\":{\"field\":\"ys\"}},\"id\":\"54000df9-d153-479e-b45b-35a0836b608e\",\"type\":\"MultiLine\"},{\"attributes\":{\"plot\":{\"id\":\"718cbc01-052e-4669-ae45-ae65ab3782dc\",\"subtype\":\"Figure\",\"type\":\"Plot\"}},\"id\":\"4ad7e56e-98b4-4479-8cb5-e536799f691b\",\"type\":\"WheelZoomTool\"},{\"attributes\":{\"data_source\":{\"id\":\"bc80646d-5346-4db9-b412-b946a122b803\",\"type\":\"ColumnDataSource\"},\"glyph\":{\"id\":\"6e6fb283-b9d8-4a95-b578-899aa0d14096\",\"type\":\"MultiLine\"},\"hover_glyph\":null,\"nonselection_glyph\":{\"id\":\"54000df9-d153-479e-b45b-35a0836b608e\",\"type\":\"MultiLine\"},\"selection_glyph\":null},\"id\":\"2fadf228-413d-4cbb-8b9c-af8ea747e6ac\",\"type\":\"GlyphRenderer\"},{\"attributes\":{\"bottom\":{\"field\":\"bottom\"},\"fill_color\":{\"field\":\"fill_color\"},\"left\":{\"field\":\"left\"},\"line_color\":{\"value\":null},\"right\":{\"field\":\"right\"},\"top\":{\"field\":\"top\"}},\"id\":\"5b415a5c-b359-40c6-9774-5f4580d6e9e9\",\"type\":\"Quad\"},{\"attributes\":{\"data_source\":{\"id\":\"c655d493-57a6-4a47-a410-e565bf810007\",\"type\":\"ColumnDataSource\"},\"glyph\":{\"id\":\"a0a701cb-0aca-41a2-8c3e-b63ed52154e0\",\"type\":\"Quad\"},\"hover_glyph\":null,\"nonselection_glyph\":{\"id\":\"edf95387-f911-4455-89e2-1431dd65f67f\",\"type\":\"Quad\"},\"selection_glyph\":null},\"id\":\"959b4b59-9b51-486f-9490-ff905ddc35e9\",\"type\":\"GlyphRenderer\"},{\"attributes\":{},\"id\":\"faed9fe2-4a5f-4e5c-b86a-fa197423acb7\",\"type\":\"BasicTicker\"},{\"attributes\":{\"callback\":null,\"column_names\":[\"xs\",\"ys\",\"line_color\"],\"data\":{\"line_color\":[\"black\",\"black\",\"black\",\"black\",\"black\",\"black\",\"black\",\"black\",\"black\",\"black\",\"black\",\"black\",\"black\",\"black\",\"black\",\"black\",\"black\",\"black\",\"black\",\"black\",\"black\",\"black\",\"black\",\"black\",\"black\",\"black\",\"black\",\"black\",\"black\",\"black\",\"black\",\"black\",\"black\",\"black\",\"black\",\"black\",\"black\",\"black\",\"black\",\"black\",\"black\",\"black\",\"black\",\"black\",\"black\",\"black\",\"black\",\"black\",\"black\",\"black\",\"black\",\"black\",\"black\",\"black\",\"black\",\"black\",\"black\",\"black\",\"black\",\"black\",\"black\",\"black\",\"black\",\"black\",\"black\",\"black\",\"black\",\"black\",\"black\",\"black\",\"black\",\"black\",\"black\",\"black\",\"black\",\"black\",\"black\",\"black\",\"black\",\"black\",\"black\",\"black\",\"black\",\"black\",\"black\",\"black\",\"black\",\"black\",\"black\",\"black\",\"black\",\"black\",\"black\",\"black\",\"black\",\"black\",\"black\",\"black\",\"black\",\"black\",\"black\",\"black\",\"black\",\"black\",\"black\",\"black\",\"black\",\"black\",\"black\",\"black\",\"black\",\"black\",\"black\",\"black\",\"black\",\"black\",\"black\",\"black\",\"black\",\"black\",\"black\",\"black\",\"black\",\"black\",\"black\",\"black\",\"black\",\"black\",\"black\",\"black\",\"black\",\"black\",\"black\",\"black\",\"black\",\"black\",\"black\",\"black\",\"black\",\"black\",\"black\",\"black\",\"black\",\"black\",\"black\",\"black\",\"black\",\"black\",\"black\",\"black\",\"black\",\"black\",\"black\",\"black\",\"black\",\"black\",\"black\",\"black\",\"black\",\"black\",\"black\",\"black\",\"black\",\"black\",\"black\",\"black\",\"black\",\"black\",\"black\",\"black\",\"black\",\"black\",\"black\",\"black\",\"black\",\"black\",\"black\",\"black\",\"black\",\"black\",\"black\",\"black\",\"black\",\"black\",\"black\",\"black\",\"black\",\"black\",\"black\",\"black\",\"black\",\"black\",\"black\",\"black\",\"black\",\"black\",\"black\",\"black\",\"black\",\"black\",\"black\",\"black\",\"black\",\"black\",\"black\",\"black\",\"black\",\"black\",\"black\",\"black\",\"black\",\"black\",\"black\",\"black\",\"black\",\"black\",\"black\",\"black\",\"black\",\"black\",\"black\",\"black\",\"black\",\"black\",\"black\",\"black\",\"black\",\"black\",\"black\",\"black\",\"black\",\"black\",\"black\",\"black\",\"black\",\"black\",\"black\",\"black\",\"black\",\"black\",\"black\",\"black\",\"black\",\"black\",\"black\",\"black\",\"black\",\"black\",\"black\",\"black\",\"black\",\"black\",\"black\",\"black\",\"black\",\"black\",\"black\",\"black\",\"black\",\"black\",\"black\",\"black\",\"black\",\"black\",\"black\",\"black\",\"black\",\"black\",\"black\",\"black\",\"black\",\"black\",\"black\",\"black\",\"black\",\"black\",\"black\",\"black\",\"black\",\"black\",\"black\",\"black\",\"black\",\"black\",\"black\",\"black\",\"black\",\"black\",\"black\",\"black\",\"black\",\"black\",\"black\",\"black\",\"black\",\"black\",\"black\",\"black\",\"black\",\"black\",\"black\",\"black\",\"black\"],\"xs\":[[135758231,135758231],[135758520,135758520],[135766072,135766072],[135773420,135773420],[135773446,135773446],[135773617,135773617],[135773692,135773692],[135774681,135774681],[135775049,135775049],[135776430,135776430],[135778656,135778656],[135780168,135780168],[135780587,135780587],[135781301,135781301],[135781522,135781522],[135781635,135781635],[135782456,135782456],[135783157,135783157],[135783366,135783366],[135783367,135783367],[135784227,135784227],[135784733,135784733],[135785066,135785066],[135785068,135785068],[135785149,135785149],[135787148,135787148],[135787642,135787642],[135789405,135789405],[135789472,135789472],[135789682,135789682],[135789784,135789784],[135792338,135792338],[135792528,135792528],[135793565,135793565],[135793684,135793684],[135793845,135793845],[135794367,135794367],[135794986,135794986],[135795040,135795040],[135795095,135795095],[135795150,135795150],[135795385,135795385],[135795396,135795396],[135795443,135795443],[135795595,135795595],[135796000,135796000],[135796155,135796155],[135796410,135796410],[135796965,135796965],[135797223,135797223],[135797747,135797747],[135798082,135798082],[135798758,135798758],[135799082,135799082],[135800085,135800085],[135800601,135800601],[135800757,135800757],[135801228,135801228],[135801956,135801956],[135802020,135802020],[135802028,135802028],[135802050,135802050],[135802148,135802148],[135803766,135803766],[135809241,135809241],[135812969,135812969],[135814716,135814716],[135818907,135818907],[135829432,135829432],[135832131,135832131],[135849613,135849613],[135853807,135853807],[135859923,135859923],[135860305,135860305],[135861497,135861497],[135863143,135863143],[135864294,135864294],[135871624,135871624],[135872646,135872646],[135874038,135874038],[135874622,135874622],[135878814,135878814],[135880013,135880013],[135884487,135884487],[135885357,135885357],[135893853,135893853],[135895809,135895809],[135895879,135895879],[135899069,135899069],[135909462,135909462],[135912977,135912977],[135914038,135914038],[135921839,135921839],[135925002,135925002],[135928312,135928312],[135935049,135935049],[135962711,135962711],[135984172,135984172],[135994753,135994753],[135994754,135994754],[136016079,136016079],[136027264,136027264],[136052004,136052004],[136100473,136100473],[136110129,136110129],[136166536,136166536],[136169799,136169799],[136191314,136191314],[136228887,136228887],[136238453,136238453],[136288273,136288273],[136292425,136292425],[136321951,136321951],[136324564,136324564],[136327299,136327299],[136327302,136327302],[136376515,136376515],[135766890,135766890],[135778708,135778708],[135779588,135779588],[135805941,135805941],[135805943,135805943],[135932720,135932720],[135933317,135933317],[135934842,135934842],[135952376,135952376],[135958853,135958853],[135962864,135962864],[135963304,135963304],[135965376,135965376],[135980201,135980201],[135981554,135981554],[135988127,135988127],[135988416,135988416],[135991470,135991470],[136000500,136000500],[136001215,136001215],[136001295,136001295],[136016514,136016514],[136017388,136017388],[136041102,136041102],[136041662,136041662],[136047387,136047387],[136052936,136052936],[136055275,136055275],[136063118,136063118],[136066802,136066802],[136068890,136068890],[136069577,136069577],[136081193,136081193],[136105193,136105193],[136107839,136107839],[136110835,136110835],[136138026,136138026],[136142092,136142092],[136146499,136146499],[136147607,136147607],[136148401,136148401],[136150512,136150512],[136154734,136154734],[136155805,136155805],[136163001,136163001],[136163266,136163266],[136163568,136163568],[136163821,136163821],[136165965,136165965],[136183312,136183312],[136185945,136185945],[136191729,136191729],[136204827,136204827],[136208747,136208747],[136217980,136217980],[136229438,136229438],[136232572,136232572],[136240942,136240942],[136251329,136251329],[136265187,136265187],[136265188,136265188],[136275985,136275985],[135818487,135818487],[136048649,136048649],[136107286,136107286],[136127914,136127914],[136130497,136130497],[136268096,136268096],[136281880,136281880],[136289565,136289565],[135839805,135839805],[135866750,135866750],[135886744,135886744],[135924467,135924467],[135964764,135964764],[135964765,135964765],[136099127,136099127],[136099650,136099650],[136100705,136100705],[136101132,136101132],[135989333,135989333],[136000304,136000304],[136030519,136030519],[136034836,136034836],[136125165,136125165],[136264631,136264631],[136393658,136393658],[136396300,136396300],[136401843,136401843],[136407445,136407445],[136411879,136411879],[136412270,136412270],[136413244,136413244],[136413847,136413847],[136415217,136415217],[136416533,136416533],[136420726,136420726],[136429857,136429857],[136433740,136433740],[136436317,136436317],[136437615,136437615],[136438517,136438517],[136440300,136440300],[136443900,136443900],[136444185,136444185],[136444338,136444338],[136449254,136449254],[136451676,136451676],[136459227,136459227],[136463117,136463117],[136463454,136463454],[136467119,136467119],[136468238,136468238],[136470219,136470219],[136483355,136483355],[136485276,136485276],[136486340,136486340],[136486342,136486342],[136496493,136496493],[136496639,136496639],[136496928,136496928],[136509573,136509573],[136511951,136511951],[136537057,136537057],[136546635,136546635],[136553438,136553438],[136553925,136553925],[136496805,136496805],[136496910,136496910],[136515859,136515859],[136515924,136515924],[136520186,136520186],[136524766,136524766],[136535364,136535364],[136536113,136536113],[136552629,136552629],[136511874,136511874],[136530248,136530248],[136530556,136530556],[136531252,136531252],[136533195,136533195],[136514709,136514709],[136516308,136516308],[136520100,136520100],[136521595,136521595],[136523045,136523045],[136543147,136543147],[136556805,136556805],[136560003,136560003],[136562472,136562472],[136563248,136563248],[136565328,136565328],[136570613,136570613],[136571982,136571982],[136574305,136574305],[136578040,136578040],[136578194,136578194],[136580398,136580398],[136586828,136586828],[136590558,136590558],[136592309,136592309],[136593541,136593541],[136593694,136593694],[136595426,136595426],[136615222,136615222],[136624919,136624919],[136626004,136626004],[136628380,136628380],[136636909,136636909],[136637350,136637350],[136637622,136637622],[136639487,136639487],[136646900,136646900],[136652093,136652093],[136652859,136652859],[136655620,136655620],[136667896,136667896],[136671801,136671801],[136677192,136677192],[136683293,136683293],[136704414,136704414],[136720344,136720344],[136731066,136731066],[136733897,136733897],[136743490,136743490],[136747085,136747085]],\"ys\":[[550,596],[550,596],[550,596],[550,596],[550,596],[550,596],[550,596],[550,596],[550,596],[550,596],[550,596],[550,596],[550,596],[550,596],[550,596],[550,596],[550,596],[550,596],[550,596],[550,596],[550,596],[550,596],[550,596],[550,596],[550,596],[550,596],[550,596],[550,596],[550,596],[550,596],[550,596],[550,596],[550,596],[550,596],[550,596],[550,596],[550,596],[550,596],[550,596],[550,596],[550,596],[550,596],[550,596],[550,596],[550,596],[550,596],[550,596],[550,596],[550,596],[550,596],[550,596],[550,596],[550,596],[550,596],[550,596],[550,596],[550,596],[550,596],[550,596],[550,596],[550,596],[550,596],[550,596],[550,596],[550,596],[550,596],[550,596],[550,596],[550,596],[550,596],[550,596],[550,596],[550,596],[550,596],[550,596],[550,596],[550,596],[550,596],[550,596],[550,596],[550,596],[550,596],[550,596],[550,596],[550,596],[550,596],[550,596],[550,596],[550,596],[550,596],[550,596],[550,596],[550,596],[550,596],[550,596],[550,596],[550,596],[550,596],[550,596],[550,596],[550,596],[550,596],[550,596],[550,596],[550,596],[550,596],[550,596],[550,596],[550,596],[550,596],[550,596],[550,596],[550,596],[550,596],[550,596],[550,596],[550,596],[450,493],[450,493],[450,493],[450,493],[450,493],[450,493],[450,493],[450,493],[450,493],[450,493],[450,493],[450,493],[450,493],[450,493],[450,493],[450,493],[450,493],[450,493],[450,493],[450,493],[450,493],[450,493],[450,493],[450,493],[450,493],[450,493],[450,493],[450,493],[450,493],[450,493],[450,493],[450,493],[450,493],[450,493],[450,493],[450,493],[450,493],[450,493],[450,493],[450,493],[450,493],[450,493],[450,493],[450,493],[450,493],[450,493],[450,493],[450,493],[450,493],[450,493],[450,493],[450,493],[450,493],[450,493],[450,493],[450,493],[450,493],[450,493],[450,493],[450,493],[450,493],[450,493],[50,80],[50,80],[50,80],[50,80],[50,80],[50,80],[50,80],[50,80],[150,190],[150,190],[150,190],[150,190],[250,291],[250,291],[250,291],[250,291],[250,291],[250,291],[150,188],[150,188],[150,188],[150,188],[150,188],[150,188],[550,594],[550,594],[550,594],[550,594],[550,594],[550,594],[550,594],[550,594],[550,594],[550,594],[550,594],[550,594],[550,594],[550,594],[550,594],[550,594],[550,594],[550,594],[550,594],[550,594],[550,594],[550,594],[550,594],[550,594],[550,594],[550,594],[550,594],[550,594],[550,594],[550,594],[550,594],[550,594],[450,493],[450,493],[450,493],[450,493],[450,493],[450,493],[450,493],[450,493],[450,493],[350,391],[350,391],[350,391],[350,391],[350,391],[350,391],[350,391],[350,391],[350,391],[250,291],[250,291],[250,291],[250,291],[250,291],[150,190],[150,190],[150,190],[150,190],[150,190],[150,190],[350,391],[350,391],[350,391],[350,391],[350,391],[350,391],[350,391],[350,391],[350,391],[350,391],[350,391],[350,391],[350,391],[350,391],[350,391],[350,391],[350,391],[350,391],[350,391],[350,391],[350,391],[350,391],[350,391],[350,391],[350,391],[350,391],[350,391],[350,391],[350,391],[350,391],[350,391],[350,391],[350,391],[350,391],[350,391],[350,391],[350,391],[350,391],[350,391]]}},\"id\":\"bc80646d-5346-4db9-b412-b946a122b803\",\"type\":\"ColumnDataSource\"},{\"attributes\":{\"plot\":{\"id\":\"718cbc01-052e-4669-ae45-ae65ab3782dc\",\"subtype\":\"Figure\",\"type\":\"Plot\"}},\"id\":\"d6b16511-d389-4661-b74b-7d3e5de87693\",\"type\":\"HelpTool\"},{\"attributes\":{\"plot\":{\"id\":\"718cbc01-052e-4669-ae45-ae65ab3782dc\",\"subtype\":\"Figure\",\"type\":\"Plot\"}},\"id\":\"c8df60b0-6b97-4598-a103-58a1c967010f\",\"type\":\"PanTool\"},{\"attributes\":{\"below\":[{\"id\":\"068a5657-d1be-48ca-a85b-96697da5959d\",\"type\":\"LinearAxis\"}],\"left\":[{\"id\":\"4bd3e040-cd99-458d-8678-2087fa3797e2\",\"type\":\"LinearAxis\"}],\"plot_height\":700,\"plot_width\":900,\"renderers\":[{\"id\":\"068a5657-d1be-48ca-a85b-96697da5959d\",\"type\":\"LinearAxis\"},{\"id\":\"34b75bfc-24a3-49c9-9893-6f75eb44fb4a\",\"type\":\"Grid\"},{\"id\":\"4bd3e040-cd99-458d-8678-2087fa3797e2\",\"type\":\"LinearAxis\"},{\"id\":\"bb6889f0-8933-4653-8479-b549bb61debb\",\"type\":\"Grid\"},{\"id\":\"23bd11c9-2776-496c-946b-0943956c808c\",\"type\":\"BoxAnnotation\"},{\"id\":\"00c757de-6244-4e5b-836c-e0335186f24b\",\"type\":\"GlyphRenderer\"},{\"id\":\"2fadf228-413d-4cbb-8b9c-af8ea747e6ac\",\"type\":\"GlyphRenderer\"},{\"id\":\"fba497f5-2504-4662-a80b-3cf3016d06d6\",\"type\":\"LabelSet\"},{\"id\":\"959b4b59-9b51-486f-9490-ff905ddc35e9\",\"type\":\"GlyphRenderer\"},{\"id\":\"97e6a835-0daa-44aa-827e-2778ef25afa0\",\"type\":\"LabelSet\"}],\"title\":{\"id\":\"a9c605ec-35d9-4ad9-a87b-ebb942476fc2\",\"type\":\"Title\"},\"tool_events\":{\"id\":\"54f2545e-a455-4124-b9e1-772709c9ef6d\",\"type\":\"ToolEvents\"},\"toolbar\":{\"id\":\"f12d02a5-24a2-4a68-9fb7-43bc658ac54c\",\"type\":\"Toolbar\"},\"toolbar_location\":null,\"x_range\":{\"id\":\"bc2c29b8-5ac7-4d1c-99b6-d089f61585d7\",\"type\":\"Range1d\"},\"y_range\":{\"id\":\"5a514acf-8d4f-43e0-965e-686b8eb36b37\",\"type\":\"Range1d\"}},\"id\":\"718cbc01-052e-4669-ae45-ae65ab3782dc\",\"subtype\":\"Figure\",\"type\":\"Plot\"},{\"attributes\":{\"callback\":null,\"column_names\":[\"right\",\"bottom\",\"top\",\"left\",\"fill_color\"],\"data\":{\"bottom\":[550,450,50,150,250,150,550,450,350,250,150,350],\"fill_color\":[\"#808080\",\"#808080\",\"#c461c4\",\"#61c4c4\",\"#61c4c4\",\"#61c4c4\",\"#c4c461\",\"#808080\",\"#61c4c4\",\"#808080\",\"#61c4c4\",\"#808080\"],\"left\":[135758231,135766890,135818487,135839805,135964764,135989333,136393658,136496493,136496805,136511874,136514709,136556805],\"right\":[136376515,136275985,136289565,135924467,136101132,136264631,136486342,136553925,136552629,136533195,136543147,136747085],\"top\":[596,493,80,190,291,188,594,493,391,291,190,391]}},\"id\":\"5b61b634-0078-48e8-8468-829da2ecb7ff\",\"type\":\"ColumnDataSource\"},{\"attributes\":{},\"id\":\"40438b5a-d4c7-427d-b4f9-603aeab74ed3\",\"type\":\"BasicTickFormatter\"},{\"attributes\":{\"callback\":null,\"column_names\":[\"y\",\"x\",\"vals\"],\"data\":{\"vals\":[\"117_1685\",\"62_1265\",\"8_267\",\"4_815\",\"6_946\",\"6_713\",\"32_1361\",\"9_1170\",\"9_1023\",\"5_976\",\"6_820\",\"39_1014\"],\"x\":[135758231,135766890,135818487,135839805,135964764,135989333,136393658,136496493,136496805,136511874,136514709,136556805],\"y\":[601.0,498.0,85.0,195.0,296.0,193.0,599.0,498.0,396.0,296.0,195.0,396.0]}},\"id\":\"a9510153-c399-430b-8078-809757348a5b\",\"type\":\"ColumnDataSource\"},{\"attributes\":{},\"id\":\"54f2545e-a455-4124-b9e1-772709c9ef6d\",\"type\":\"ToolEvents\"},{\"attributes\":{\"callback\":null,\"end\":700},\"id\":\"5a514acf-8d4f-43e0-965e-686b8eb36b37\",\"type\":\"Range1d\"},{\"attributes\":{\"formatter\":{\"id\":\"3d3acb97-f096-4792-8b0c-88120ed2222c\",\"type\":\"BasicTickFormatter\"},\"plot\":{\"id\":\"718cbc01-052e-4669-ae45-ae65ab3782dc\",\"subtype\":\"Figure\",\"type\":\"Plot\"},\"ticker\":{\"id\":\"faed9fe2-4a5f-4e5c-b86a-fa197423acb7\",\"type\":\"BasicTicker\"}},\"id\":\"068a5657-d1be-48ca-a85b-96697da5959d\",\"type\":\"LinearAxis\"},{\"attributes\":{\"dimension\":1,\"plot\":{\"id\":\"718cbc01-052e-4669-ae45-ae65ab3782dc\",\"subtype\":\"Figure\",\"type\":\"Plot\"},\"ticker\":{\"id\":\"322beeb4-c6c3-4d5a-bcc6-5f8af3da3263\",\"type\":\"BasicTicker\"}},\"id\":\"bb6889f0-8933-4653-8479-b549bb61debb\",\"type\":\"Grid\"},{\"attributes\":{\"callback\":null,\"column_names\":[\"right\",\"bottom\",\"top\",\"left\"],\"data\":{\"bottom\":[645,645,645,645,645,645,645],\"left\":[135809835,135957574,136289083,136499189,136545415,136597196,136664254],\"right\":[135928279,136288182,136482839,136542633,136594750,136634047,136743222],\"top\":[675,675,675,675,675,675,675]}},\"id\":\"c655d493-57a6-4a47-a410-e565bf810007\",\"type\":\"ColumnDataSource\"},{\"attributes\":{\"overlay\":{\"id\":\"23bd11c9-2776-496c-946b-0943956c808c\",\"type\":\"BoxAnnotation\"},\"plot\":{\"id\":\"718cbc01-052e-4669-ae45-ae65ab3782dc\",\"subtype\":\"Figure\",\"type\":\"Plot\"}},\"id\":\"45636587-6b78-4511-b3ed-a5fc22f67152\",\"type\":\"BoxZoomTool\"},{\"attributes\":{\"callback\":null,\"column_names\":[\"y\",\"x\",\"vals\"],\"data\":{\"vals\":[\"RAB3GAP1\",\"ZRANB3\",\"R3HDM1\",\"UBXN4\",\"LCT\",\"MCM6\",\"DARS\"],\"x\":[135869057.0,136122878.0,136385961.0,136520911.0,136570082.5,136615621.5,136703738.0],\"y\":[660.0,660.0,660.0,660.0,660.0,660.0,660.0]}},\"id\":\"30ad87e3-63f9-4b69-a754-721f27ac1de4\",\"type\":\"ColumnDataSource\"},{\"attributes\":{\"level\":\"glyph\",\"plot\":{\"id\":\"718cbc01-052e-4669-ae45-ae65ab3782dc\",\"subtype\":\"Figure\",\"type\":\"Plot\"},\"source\":{\"id\":\"30ad87e3-63f9-4b69-a754-721f27ac1de4\",\"type\":\"ColumnDataSource\"},\"text\":{\"field\":\"vals\"},\"text_align\":\"center\",\"text_baseline\":\"middle\",\"text_font_size\":{\"value\":\"8pt\"},\"x\":{\"field\":\"x\"},\"y\":{\"field\":\"y\"}},\"id\":\"97e6a835-0daa-44aa-827e-2778ef25afa0\",\"type\":\"LabelSet\"},{\"attributes\":{\"level\":\"glyph\",\"plot\":{\"id\":\"718cbc01-052e-4669-ae45-ae65ab3782dc\",\"subtype\":\"Figure\",\"type\":\"Plot\"},\"source\":{\"id\":\"a9510153-c399-430b-8078-809757348a5b\",\"type\":\"ColumnDataSource\"},\"text\":{\"field\":\"vals\"},\"text_font_size\":{\"value\":\"9pt\"},\"text_font_style\":\"bold\",\"x\":{\"field\":\"x\"},\"y\":{\"field\":\"y\"}},\"id\":\"fba497f5-2504-4662-a80b-3cf3016d06d6\",\"type\":\"LabelSet\"},{\"attributes\":{},\"id\":\"3d3acb97-f096-4792-8b0c-88120ed2222c\",\"type\":\"BasicTickFormatter\"},{\"attributes\":{\"plot\":{\"id\":\"718cbc01-052e-4669-ae45-ae65ab3782dc\",\"subtype\":\"Figure\",\"type\":\"Plot\"}},\"id\":\"afa71661-8fcd-4e7c-b119-672862ccc5e2\",\"type\":\"SaveTool\"},{\"attributes\":{},\"id\":\"322beeb4-c6c3-4d5a-bcc6-5f8af3da3263\",\"type\":\"BasicTicker\"},{\"attributes\":{\"bottom\":{\"field\":\"bottom\"},\"fill_color\":{\"value\":\"white\"},\"left\":{\"field\":\"left\"},\"right\":{\"field\":\"right\"},\"top\":{\"field\":\"top\"}},\"id\":\"a0a701cb-0aca-41a2-8c3e-b63ed52154e0\",\"type\":\"Quad\"},{\"attributes\":{\"callback\":null,\"end\":136786630,\"start\":135757320},\"id\":\"bc2c29b8-5ac7-4d1c-99b6-d089f61585d7\",\"type\":\"Range1d\"},{\"attributes\":{\"plot\":{\"id\":\"718cbc01-052e-4669-ae45-ae65ab3782dc\",\"subtype\":\"Figure\",\"type\":\"Plot\"},\"ticker\":{\"id\":\"faed9fe2-4a5f-4e5c-b86a-fa197423acb7\",\"type\":\"BasicTicker\"}},\"id\":\"34b75bfc-24a3-49c9-9893-6f75eb44fb4a\",\"type\":\"Grid\"},{\"attributes\":{\"bottom\":{\"field\":\"bottom\"},\"fill_alpha\":{\"value\":0.1},\"fill_color\":{\"value\":\"#1f77b4\"},\"left\":{\"field\":\"left\"},\"line_alpha\":{\"value\":0.1},\"line_color\":{\"value\":\"#1f77b4\"},\"right\":{\"field\":\"right\"},\"top\":{\"field\":\"top\"}},\"id\":\"607ee15d-f703-4237-a1ad-12c37b77a1b4\",\"type\":\"Quad\"},{\"attributes\":{\"plot\":null,\"text\":null},\"id\":\"a9c605ec-35d9-4ad9-a87b-ebb942476fc2\",\"type\":\"Title\"},{\"attributes\":{\"formatter\":{\"id\":\"40438b5a-d4c7-427d-b4f9-603aeab74ed3\",\"type\":\"BasicTickFormatter\"},\"plot\":{\"id\":\"718cbc01-052e-4669-ae45-ae65ab3782dc\",\"subtype\":\"Figure\",\"type\":\"Plot\"},\"ticker\":{\"id\":\"322beeb4-c6c3-4d5a-bcc6-5f8af3da3263\",\"type\":\"BasicTicker\"},\"visible\":null},\"id\":\"4bd3e040-cd99-458d-8678-2087fa3797e2\",\"type\":\"LinearAxis\"},{\"attributes\":{\"bottom\":{\"field\":\"bottom\"},\"fill_alpha\":{\"value\":0.1},\"fill_color\":{\"value\":\"#1f77b4\"},\"left\":{\"field\":\"left\"},\"line_alpha\":{\"value\":0.1},\"line_color\":{\"value\":\"#1f77b4\"},\"right\":{\"field\":\"right\"},\"top\":{\"field\":\"top\"}},\"id\":\"edf95387-f911-4455-89e2-1431dd65f67f\",\"type\":\"Quad\"},{\"attributes\":{\"active_drag\":\"auto\",\"active_scroll\":\"auto\",\"active_tap\":\"auto\",\"tools\":[{\"id\":\"c8df60b0-6b97-4598-a103-58a1c967010f\",\"type\":\"PanTool\"},{\"id\":\"4ad7e56e-98b4-4479-8cb5-e536799f691b\",\"type\":\"WheelZoomTool\"},{\"id\":\"45636587-6b78-4511-b3ed-a5fc22f67152\",\"type\":\"BoxZoomTool\"},{\"id\":\"afa71661-8fcd-4e7c-b119-672862ccc5e2\",\"type\":\"SaveTool\"},{\"id\":\"88b57492-efd3-4398-9c83-aad4f154ed23\",\"type\":\"ResetTool\"},{\"id\":\"d6b16511-d389-4661-b74b-7d3e5de87693\",\"type\":\"HelpTool\"}]},\"id\":\"f12d02a5-24a2-4a68-9fb7-43bc658ac54c\",\"type\":\"Toolbar\"},{\"attributes\":{\"bottom_units\":\"screen\",\"fill_alpha\":{\"value\":0.5},\"fill_color\":{\"value\":\"lightgrey\"},\"left_units\":\"screen\",\"level\":\"overlay\",\"line_alpha\":{\"value\":1.0},\"line_color\":{\"value\":\"black\"},\"line_dash\":[4,4],\"line_width\":{\"value\":2},\"plot\":null,\"render_mode\":\"css\",\"right_units\":\"screen\",\"top_units\":\"screen\"},\"id\":\"23bd11c9-2776-496c-946b-0943956c808c\",\"type\":\"BoxAnnotation\"},{\"attributes\":{\"line_color\":{\"field\":\"line_color\"},\"xs\":{\"field\":\"xs\"},\"ys\":{\"field\":\"ys\"}},\"id\":\"6e6fb283-b9d8-4a95-b578-899aa0d14096\",\"type\":\"MultiLine\"},{\"attributes\":{\"plot\":{\"id\":\"718cbc01-052e-4669-ae45-ae65ab3782dc\",\"subtype\":\"Figure\",\"type\":\"Plot\"}},\"id\":\"88b57492-efd3-4398-9c83-aad4f154ed23\",\"type\":\"ResetTool\"},{\"attributes\":{\"data_source\":{\"id\":\"5b61b634-0078-48e8-8468-829da2ecb7ff\",\"type\":\"ColumnDataSource\"},\"glyph\":{\"id\":\"5b415a5c-b359-40c6-9774-5f4580d6e9e9\",\"type\":\"Quad\"},\"hover_glyph\":null,\"nonselection_glyph\":{\"id\":\"607ee15d-f703-4237-a1ad-12c37b77a1b4\",\"type\":\"Quad\"},\"selection_glyph\":null},\"id\":\"00c757de-6244-4e5b-836c-e0335186f24b\",\"type\":\"GlyphRenderer\"}],\"root_ids\":[\"718cbc01-052e-4669-ae45-ae65ab3782dc\"]},\"title\":\"Bokeh Application\",\"version\":\"0.12.0\"}};\n",
       "            var render_items = [{\"docid\":\"dc405ba4-0f56-4a72-b8e4-28f9a2ee51e0\",\"elementid\":\"f9d92f52-2ec2-4cd5-b553-292f47724243\",\"modelid\":\"718cbc01-052e-4669-ae45-ae65ab3782dc\",\"notebook_comms_target\":\"968ed10c-a480-4e94-b8d9-6430189e9328\"}];\n",
       "            \n",
       "            Bokeh.embed.embed_items(docs_json, render_items);\n",
       "        });\n",
       "      },\n",
       "      function(Bokeh) {\n",
       "      }\n",
       "    ];\n",
       "  \n",
       "    function run_inline_js() {\n",
       "      for (var i = 0; i < inline_js.length; i++) {\n",
       "        inline_js[i](window.Bokeh);\n",
       "      }\n",
       "    }\n",
       "  \n",
       "    if (window._bokeh_is_loading === 0) {\n",
       "      console.log(\"Bokeh: BokehJS loaded, going straight to plotting\");\n",
       "      run_inline_js();\n",
       "    } else {\n",
       "      load_libs(js_urls, function() {\n",
       "        console.log(\"Bokeh: BokehJS plotting callback run at\", now());\n",
       "        run_inline_js();\n",
       "      });\n",
       "    }\n",
       "  }(this));\n",
       "</script>"
      ]
     },
     "metadata": {},
     "output_type": "display_data"
    },
    {
     "data": {
      "text/html": [
       "<p><code>&lt;Bokeh Notebook handle for <strong>In[40]</strong>&gt;</code></p>"
      ],
      "text/plain": [
       "<bokeh.io._CommsHandle at 0x7f148b33e350>"
      ]
     },
     "execution_count": 40,
     "metadata": {},
     "output_type": "execute_result"
    }
   ],
   "source": [
    "plt_obj = dm.superset_allele_mask(am_170, [dm.di_8_267], [dm.di_9_39, dm.di_81_857], min_match=0.001)\n",
    "plt = plt_obj.do_plot()\n",
    "show(plt)"
   ]
  },
  {
   "cell_type": "markdown",
   "metadata": {},
   "source": [
    "<div style=\"width:700px\">\n",
    "<p>\n",
    "This plot shows the series expressed by the 1 remaining chromosome sample that expresses 170\n",
    "series 193_843 SNPs but does not express the series 9_39.\n",
    "</div>"
   ]
  },
  {
   "cell_type": "code",
   "execution_count": 41,
   "metadata": {
    "collapsed": false
   },
   "outputs": [
    {
     "data": {
      "text/html": [
       "<table>\n",
       "<thead><tr><th style=\"text-align:center\">index</th><th style=\"text-align:center\">first</th><th style=\"text-align:center\">length</th><th style=\"text-align:center\">snps</th><th style=\"text-align:center\" colspan=2>alleles</th><th style=\"text-align:center\" colspan=2>matches</th><th style=\"text-align:center\" colspan=2>afr</th><th style=\"text-align:center\" colspan=2>afx</th><th style=\"text-align:center\" colspan=2>amr</th><th style=\"text-align:center\" colspan=2>eas</th><th style=\"text-align:center\" colspan=2>eur</th><th style=\"text-align:center\" colspan=2>sas</th><th style=\"text-align:center\" colspan=2>sax</th></tr></thead>\n",
       "<tr class=\"even\"><td style=\"text-align: right;\">353244</td><td style=\"text-align: right;\">135,758,231</td><td style=\"text-align: right;\">618,284</td><td style=\"text-align: right;\">117</td><td style=\"text-align: right;\">1685</td><td style=\"text-align: right;\">0.00</td><td style=\"text-align: right;\">1</td><td style=\"text-align: right;\">1.00</td><td style=\"text-align: right;\">0</td><td style=\"text-align: right;\">0.00</td><td style=\"text-align: right;\">0</td><td style=\"text-align: right;\">0.00</td><td style=\"text-align: right;\">0</td><td style=\"text-align: right;\">0.00</td><td style=\"text-align: right;\">0</td><td style=\"text-align: right;\">0.00</td><td style=\"text-align: right;\">1</td><td style=\"text-align: right;\">4.98</td><td style=\"text-align: right;\">0</td><td style=\"text-align: right;\">0.00</td><td style=\"text-align: right;\">0</td><td style=\"text-align: right;\">0.00</td></tr>\n",
       "<tr><td style=\"text-align: right;\">353791</td><td style=\"text-align: right;\">136,393,658</td><td style=\"text-align: right;\">92,684</td><td style=\"text-align: right;\">32</td><td style=\"text-align: right;\">1361</td><td style=\"text-align: right;\">0.00</td><td style=\"text-align: right;\">1</td><td style=\"text-align: right;\">1.00</td><td style=\"text-align: right;\">0</td><td style=\"text-align: right;\">0.00</td><td style=\"text-align: right;\">0</td><td style=\"text-align: right;\">0.00</td><td style=\"text-align: right;\">0</td><td style=\"text-align: right;\">0.00</td><td style=\"text-align: right;\">0</td><td style=\"text-align: right;\">0.00</td><td style=\"text-align: right;\">1</td><td style=\"text-align: right;\">4.98</td><td style=\"text-align: right;\">0</td><td style=\"text-align: right;\">0.00</td><td style=\"text-align: right;\">0</td><td style=\"text-align: right;\">0.00</td></tr>\n",
       "<tr class=\"even\"><td style=\"text-align: right;\">353269</td><td style=\"text-align: right;\">135,766,890</td><td style=\"text-align: right;\">509,095</td><td style=\"text-align: right;\">62</td><td style=\"text-align: right;\">1265</td><td style=\"text-align: right;\">0.00</td><td style=\"text-align: right;\">1</td><td style=\"text-align: right;\">1.00</td><td style=\"text-align: right;\">0</td><td style=\"text-align: right;\">0.00</td><td style=\"text-align: right;\">0</td><td style=\"text-align: right;\">0.00</td><td style=\"text-align: right;\">0</td><td style=\"text-align: right;\">0.00</td><td style=\"text-align: right;\">0</td><td style=\"text-align: right;\">0.00</td><td style=\"text-align: right;\">1</td><td style=\"text-align: right;\">4.98</td><td style=\"text-align: right;\">0</td><td style=\"text-align: right;\">0.00</td><td style=\"text-align: right;\">0</td><td style=\"text-align: right;\">0.00</td></tr>\n",
       "<tr><td style=\"text-align: right;\">353906</td><td style=\"text-align: right;\">136,496,493</td><td style=\"text-align: right;\">57,432</td><td style=\"text-align: right;\">9</td><td style=\"text-align: right;\">1170</td><td style=\"text-align: right;\">0.00</td><td style=\"text-align: right;\">1</td><td style=\"text-align: right;\">1.00</td><td style=\"text-align: right;\">0</td><td style=\"text-align: right;\">0.00</td><td style=\"text-align: right;\">0</td><td style=\"text-align: right;\">0.00</td><td style=\"text-align: right;\">0</td><td style=\"text-align: right;\">0.00</td><td style=\"text-align: right;\">0</td><td style=\"text-align: right;\">0.00</td><td style=\"text-align: right;\">1</td><td style=\"text-align: right;\">4.98</td><td style=\"text-align: right;\">0</td><td style=\"text-align: right;\">0.00</td><td style=\"text-align: right;\">0</td><td style=\"text-align: right;\">0.00</td></tr>\n",
       "<tr class=\"even\"><td style=\"text-align: right;\">353907</td><td style=\"text-align: right;\">136,496,805</td><td style=\"text-align: right;\">55,824</td><td style=\"text-align: right;\">9</td><td style=\"text-align: right;\">1023</td><td style=\"text-align: right;\">0.00</td><td style=\"text-align: right;\">1</td><td style=\"text-align: right;\">1.00</td><td style=\"text-align: right;\">0</td><td style=\"text-align: right;\">0.00</td><td style=\"text-align: right;\">0</td><td style=\"text-align: right;\">0.00</td><td style=\"text-align: right;\">0</td><td style=\"text-align: right;\">0.00</td><td style=\"text-align: right;\">0</td><td style=\"text-align: right;\">0.00</td><td style=\"text-align: right;\">1</td><td style=\"text-align: right;\">4.98</td><td style=\"text-align: right;\">0</td><td style=\"text-align: right;\">0.00</td><td style=\"text-align: right;\">0</td><td style=\"text-align: right;\">0.00</td></tr>\n",
       "<tr><td style=\"text-align: right;\">353984</td><td style=\"text-align: right;\">136,556,805</td><td style=\"text-align: right;\">190,280</td><td style=\"text-align: right;\">39</td><td style=\"text-align: right;\">1014</td><td style=\"text-align: right;\">0.00</td><td style=\"text-align: right;\">1</td><td style=\"text-align: right;\">1.00</td><td style=\"text-align: right;\">0</td><td style=\"text-align: right;\">0.00</td><td style=\"text-align: right;\">0</td><td style=\"text-align: right;\">0.00</td><td style=\"text-align: right;\">0</td><td style=\"text-align: right;\">0.00</td><td style=\"text-align: right;\">0</td><td style=\"text-align: right;\">0.00</td><td style=\"text-align: right;\">1</td><td style=\"text-align: right;\">4.98</td><td style=\"text-align: right;\">0</td><td style=\"text-align: right;\">0.00</td><td style=\"text-align: right;\">0</td><td style=\"text-align: right;\">0.00</td></tr>\n",
       "<tr class=\"even\"><td style=\"text-align: right;\">353935</td><td style=\"text-align: right;\">136,511,874</td><td style=\"text-align: right;\">21,321</td><td style=\"text-align: right;\">5</td><td style=\"text-align: right;\">976</td><td style=\"text-align: right;\">0.00</td><td style=\"text-align: right;\">1</td><td style=\"text-align: right;\">1.00</td><td style=\"text-align: right;\">0</td><td style=\"text-align: right;\">0.00</td><td style=\"text-align: right;\">0</td><td style=\"text-align: right;\">0.00</td><td style=\"text-align: right;\">0</td><td style=\"text-align: right;\">0.00</td><td style=\"text-align: right;\">0</td><td style=\"text-align: right;\">0.00</td><td style=\"text-align: right;\">1</td><td style=\"text-align: right;\">4.98</td><td style=\"text-align: right;\">0</td><td style=\"text-align: right;\">0.00</td><td style=\"text-align: right;\">0</td><td style=\"text-align: right;\">0.00</td></tr>\n",
       "<tr><td style=\"text-align: right;\">353504</td><td style=\"text-align: right;\">135,964,764</td><td style=\"text-align: right;\">136,368</td><td style=\"text-align: right;\">6</td><td style=\"text-align: right;\">946</td><td style=\"text-align: right;\">0.00</td><td style=\"text-align: right;\">1</td><td style=\"text-align: right;\">1.00</td><td style=\"text-align: right;\">0</td><td style=\"text-align: right;\">0.00</td><td style=\"text-align: right;\">0</td><td style=\"text-align: right;\">0.00</td><td style=\"text-align: right;\">0</td><td style=\"text-align: right;\">0.00</td><td style=\"text-align: right;\">0</td><td style=\"text-align: right;\">0.00</td><td style=\"text-align: right;\">1</td><td style=\"text-align: right;\">4.98</td><td style=\"text-align: right;\">0</td><td style=\"text-align: right;\">0.00</td><td style=\"text-align: right;\">0</td><td style=\"text-align: right;\">0.00</td></tr>\n",
       "<tr class=\"even\"><td style=\"text-align: right;\">353938</td><td style=\"text-align: right;\">136,514,709</td><td style=\"text-align: right;\">28,438</td><td style=\"text-align: right;\">6</td><td style=\"text-align: right;\">820</td><td style=\"text-align: right;\">0.00</td><td style=\"text-align: right;\">1</td><td style=\"text-align: right;\">1.00</td><td style=\"text-align: right;\">0</td><td style=\"text-align: right;\">0.00</td><td style=\"text-align: right;\">0</td><td style=\"text-align: right;\">0.00</td><td style=\"text-align: right;\">0</td><td style=\"text-align: right;\">0.00</td><td style=\"text-align: right;\">0</td><td style=\"text-align: right;\">0.00</td><td style=\"text-align: right;\">1</td><td style=\"text-align: right;\">4.98</td><td style=\"text-align: right;\">0</td><td style=\"text-align: right;\">0.00</td><td style=\"text-align: right;\">0</td><td style=\"text-align: right;\">0.00</td></tr>\n",
       "<tr><td style=\"text-align: right;\">353384</td><td style=\"text-align: right;\">135,839,805</td><td style=\"text-align: right;\">84,662</td><td style=\"text-align: right;\">4</td><td style=\"text-align: right;\">815</td><td style=\"text-align: right;\">0.00</td><td style=\"text-align: right;\">1</td><td style=\"text-align: right;\">1.00</td><td style=\"text-align: right;\">0</td><td style=\"text-align: right;\">0.00</td><td style=\"text-align: right;\">0</td><td style=\"text-align: right;\">0.00</td><td style=\"text-align: right;\">0</td><td style=\"text-align: right;\">0.00</td><td style=\"text-align: right;\">0</td><td style=\"text-align: right;\">0.00</td><td style=\"text-align: right;\">1</td><td style=\"text-align: right;\">4.98</td><td style=\"text-align: right;\">0</td><td style=\"text-align: right;\">0.00</td><td style=\"text-align: right;\">0</td><td style=\"text-align: right;\">0.00</td></tr>\n",
       "<tr class=\"even\"><td style=\"text-align: right;\">353521</td><td style=\"text-align: right;\">135,989,333</td><td style=\"text-align: right;\">275,298</td><td style=\"text-align: right;\">6</td><td style=\"text-align: right;\">713</td><td style=\"text-align: right;\">0.00</td><td style=\"text-align: right;\">1</td><td style=\"text-align: right;\">1.00</td><td style=\"text-align: right;\">0</td><td style=\"text-align: right;\">0.00</td><td style=\"text-align: right;\">0</td><td style=\"text-align: right;\">0.00</td><td style=\"text-align: right;\">0</td><td style=\"text-align: right;\">0.00</td><td style=\"text-align: right;\">0</td><td style=\"text-align: right;\">0.00</td><td style=\"text-align: right;\">1</td><td style=\"text-align: right;\">4.98</td><td style=\"text-align: right;\">0</td><td style=\"text-align: right;\">0.00</td><td style=\"text-align: right;\">0</td><td style=\"text-align: right;\">0.00</td></tr>\n",
       "<tr><td style=\"text-align: right;\">353358</td><td style=\"text-align: right;\">135,818,487</td><td style=\"text-align: right;\">471,078</td><td style=\"text-align: right;\">8</td><td style=\"text-align: right;\">267</td><td style=\"text-align: right;\">0.00</td><td style=\"text-align: right;\">1</td><td style=\"text-align: right;\">1.00</td><td style=\"text-align: right;\">0</td><td style=\"text-align: right;\">0.00</td><td style=\"text-align: right;\">0</td><td style=\"text-align: right;\">0.00</td><td style=\"text-align: right;\">0</td><td style=\"text-align: right;\">0.00</td><td style=\"text-align: right;\">0</td><td style=\"text-align: right;\">0.00</td><td style=\"text-align: right;\">1</td><td style=\"text-align: right;\">4.98</td><td style=\"text-align: right;\">0</td><td style=\"text-align: right;\">0.00</td><td style=\"text-align: right;\">0</td><td style=\"text-align: right;\">0.00</td></tr>\n",
       "</table>"
      ],
      "text/plain": [
       "<IPython.core.display.HTML object>"
      ]
     },
     "execution_count": 41,
     "metadata": {},
     "output_type": "execute_result"
    }
   ],
   "source": [
    "HTML(plt_obj.get_html())"
   ]
  },
  {
   "cell_type": "markdown",
   "metadata": {},
   "source": [
    "<div style=\"width:700px\">\n",
    "<p>\n",
    "The data confirms that the plotted association of series is expressed by 1 chromosome sample.\n",
    "</div>"
   ]
  }
 ],
 "metadata": {
  "kernelspec": {
   "display_name": "Python [Root]",
   "language": "python",
   "name": "Python [Root]"
  },
  "language_info": {
   "codemirror_mode": {
    "name": "ipython",
    "version": 2
   },
   "file_extension": ".py",
   "mimetype": "text/x-python",
   "name": "python",
   "nbconvert_exporter": "python",
   "pygments_lexer": "ipython2",
   "version": "2.7.12"
  }
 },
 "nbformat": 4,
 "nbformat_minor": 0
}
