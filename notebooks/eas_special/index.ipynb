{
 "cells": [
  {
   "cell_type": "markdown",
   "metadata": {},
   "source": [
    "[association_95_176_and_51_176](association_95_176_and_51_176.ipynb)\n",
    "\n",
    "    Notebook that explores the recombination formed associations of the series\n",
    "    95_176 and 51_176 including the association with 6_1503 and 4_1699 from the\n",
    "    EUR tree root expressed by 139 East Asian samples.\n",
    "    \n",
    "[series](series/)\n",
    "\n",
    "    Notebook that document individual SNP series    "
   ]
  }
 ],
 "metadata": {
  "kernelspec": {
   "display_name": "Python [Root]",
   "language": "python",
   "name": "Python [Root]"
  },
  "language_info": {
   "codemirror_mode": {
    "name": "ipython",
    "version": 2
   },
   "file_extension": ".py",
   "mimetype": "text/x-python",
   "name": "python",
   "nbconvert_exporter": "python",
   "pygments_lexer": "ipython2",
   "version": "2.7.12"
  }
 },
 "nbformat": 4,
 "nbformat_minor": 0
}
