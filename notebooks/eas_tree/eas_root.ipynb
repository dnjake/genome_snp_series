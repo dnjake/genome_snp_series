{
 "cells": [
  {
   "cell_type": "code",
   "execution_count": 1,
   "metadata": {
    "collapsed": false
   },
   "outputs": [
    {
     "data": {
      "text/html": []
     },
     "metadata": {},
     "output_type": "display_data"
    },
    {
     "data": {
      "application/javascript": [
       "\n",
       "(function(global) {\n",
       "  function now() {\n",
       "    return new Date();\n",
       "  }\n",
       "\n",
       "  if (typeof (window._bokeh_onload_callbacks) === \"undefined\") {\n",
       "    window._bokeh_onload_callbacks = [];\n",
       "  }\n",
       "\n",
       "  function run_callbacks() {\n",
       "    window._bokeh_onload_callbacks.forEach(function(callback) { callback() });\n",
       "    delete window._bokeh_onload_callbacks\n",
       "    console.info(\"Bokeh: all callbacks have finished\");\n",
       "  }\n",
       "\n",
       "  function load_libs(js_urls, callback) {\n",
       "    window._bokeh_onload_callbacks.push(callback);\n",
       "    if (window._bokeh_is_loading > 0) {\n",
       "      console.log(\"Bokeh: BokehJS is being loaded, scheduling callback at\", now());\n",
       "      return null;\n",
       "    }\n",
       "    if (js_urls == null || js_urls.length === 0) {\n",
       "      run_callbacks();\n",
       "      return null;\n",
       "    }\n",
       "    console.log(\"Bokeh: BokehJS not loaded, scheduling load and callback at\", now());\n",
       "    window._bokeh_is_loading = js_urls.length;\n",
       "    for (var i = 0; i < js_urls.length; i++) {\n",
       "      var url = js_urls[i];\n",
       "      var s = document.createElement('script');\n",
       "      s.src = url;\n",
       "      s.async = false;\n",
       "      s.onreadystatechange = s.onload = function() {\n",
       "        window._bokeh_is_loading--;\n",
       "        if (window._bokeh_is_loading === 0) {\n",
       "          console.log(\"Bokeh: all BokehJS libraries loaded\");\n",
       "          run_callbacks()\n",
       "        }\n",
       "      };\n",
       "      s.onerror = function() {\n",
       "        console.warn(\"failed to load library \" + url);\n",
       "      };\n",
       "      console.log(\"Bokeh: injecting script tag for BokehJS library: \", url);\n",
       "      document.getElementsByTagName(\"head\")[0].appendChild(s);\n",
       "    }\n",
       "  };\n",
       "\n",
       "  var js_urls = ['https://cdn.pydata.org/bokeh/release/bokeh-0.12.0.min.js', 'https://cdn.pydata.org/bokeh/release/bokeh-widgets-0.12.0.min.js', 'https://cdn.pydata.org/bokeh/release/bokeh-compiler-0.12.0.min.js'];\n",
       "\n",
       "  var inline_js = [\n",
       "    function(Bokeh) {\n",
       "      Bokeh.set_log_level(\"info\");\n",
       "    },\n",
       "    \n",
       "    function(Bokeh) {\n",
       "      Bokeh.$(\"#fc89f267-00de-4652-a24a-833acaf1231b\").text(\"BokehJS successfully loaded\");\n",
       "    },\n",
       "    function(Bokeh) {\n",
       "      console.log(\"Bokeh: injecting CSS: https://cdn.pydata.org/bokeh/release/bokeh-0.12.0.min.css\");\n",
       "      Bokeh.embed.inject_css(\"https://cdn.pydata.org/bokeh/release/bokeh-0.12.0.min.css\");\n",
       "      console.log(\"Bokeh: injecting CSS: https://cdn.pydata.org/bokeh/release/bokeh-widgets-0.12.0.min.css\");\n",
       "      Bokeh.embed.inject_css(\"https://cdn.pydata.org/bokeh/release/bokeh-widgets-0.12.0.min.css\");\n",
       "    }\n",
       "  ];\n",
       "\n",
       "  function run_inline_js() {\n",
       "    for (var i = 0; i < inline_js.length; i++) {\n",
       "      inline_js[i](window.Bokeh);\n",
       "    }\n",
       "  }\n",
       "\n",
       "  if (window._bokeh_is_loading === 0) {\n",
       "    console.log(\"Bokeh: BokehJS loaded, going straight to plotting\");\n",
       "    run_inline_js();\n",
       "  } else {\n",
       "    load_libs(js_urls, function() {\n",
       "      console.log(\"Bokeh: BokehJS plotting callback run at\", now());\n",
       "      run_inline_js();\n",
       "    });\n",
       "  }\n",
       "}(this));"
      ]
     },
     "metadata": {},
     "output_type": "display_data"
    }
   ],
   "source": [
    "import numpy as np\n",
    "from IPython.display import HTML\n",
    "from bokeh.plotting import output_notebook, show\n",
    "import genomes_dnj.lct_interval.series_plots as dm\n",
    "output_notebook(hide_banner=True)"
   ]
  },
  {
   "cell_type": "markdown",
   "metadata": {},
   "source": [
    "<h3>EAS Tree</h3>\n",
    "<div style=\"width:700px\">\n",
    "<p>\n",
    "Like the EUR and SAS trees, the EAS tree appears to have emerged from an association\n",
    "of SNPs that stretched across the whole million base studied region of chromosome 2\n",
    "That region includes the genes rab3gap1, zranb3, r3hd1, unxn4, lct, mcm6 and dars.\n",
    "The series forming that association plus 5_684, the most overexpressed series that \n",
    "emerged from that root, are shown in the first plot.  The EAS tree is also similar to the\n",
    "other two in forming hierarchies mainly through the emergence of new series in the lower\n",
    "600,000 bases of the studied region.  The series 5_684 expressed by 684 samples is the\n",
    "most striking example.\n",
    "<p>\n",
    "The EAS tree shows more history of recombination events than the other two.  One kind\n",
    "of event has associated 32_1361 of the EAS tree with 64_1575, 10_2206, and 7_1868, the\n",
    "series that form the upper part of the EUR tree root.  The 1361 samples that express\n",
    "32_1361 include 781 that express 81_857 and 355 that express 64_1575.  Those 355 samples\n",
    "include 320 that express both 5_684 and 64_1575.\n",
    "<p>\n",
    "The other kind of recombination event replaces the series 13_1696 with the series\n",
    "4_815.  The series 4_815 covers most of the gene rab3gap1.  Most instances of 4_815\n",
    "are part of SAS tree hierarchies.  The 90 EAS tree samples that express recombinant\n",
    "4_815 associations with 5_684 have lost the first SNPs of 9_944 and retained fragments\n",
    "of the major SAS tree root series.\n",
    "<p>\n",
    "The series 9_944 is the specific root of the EAS tree.  Only 24 of the samples that express\n",
    "it come from African populations.  Like 6_1503 in the EUR tree, this significant but very low number\n",
    "of African samples appears to indicate a series that had a minor presence in African populations\n",
    "before the expansion out of Africa.  Its increased presence during the expansion out of Africa likely\n",
    "comes in part from the population bottleneck created by the departure from Africa.  But various selective\n",
    "advantages of its disproportionately expressed children that appeared after the departure from Africa \n",
    "appear to also have made a significant contribution.\n",
    "<p>\n",
    "The first plot shows the most common series expressed in association with the series 9_944.  The\n",
    "data associated with the plot shows that the series 9_944 has a very strong association with\n",
    "both 13_1696 and 32_1361.  Out of the 944 chromosome samples that express 9_944, 938 express 13_1696\n",
    "and 936 express 13_3261.\n",
    "</div>"
   ]
  },
  {
   "cell_type": "code",
   "execution_count": 2,
   "metadata": {
    "collapsed": false
   },
   "outputs": [
    {
     "data": {
      "text/html": [
       "\n",
       "\n",
       "    <div class=\"bk-root\">\n",
       "        <div class=\"plotdiv\" id=\"59cf00dd-b4f3-49fb-a937-1168f6afdb36\"></div>\n",
       "    </div>\n",
       "<script type=\"text/javascript\">\n",
       "  \n",
       "  (function(global) {\n",
       "    function now() {\n",
       "      return new Date();\n",
       "    }\n",
       "  \n",
       "    if (typeof (window._bokeh_onload_callbacks) === \"undefined\") {\n",
       "      window._bokeh_onload_callbacks = [];\n",
       "    }\n",
       "  \n",
       "    function run_callbacks() {\n",
       "      window._bokeh_onload_callbacks.forEach(function(callback) { callback() });\n",
       "      delete window._bokeh_onload_callbacks\n",
       "      console.info(\"Bokeh: all callbacks have finished\");\n",
       "    }\n",
       "  \n",
       "    function load_libs(js_urls, callback) {\n",
       "      window._bokeh_onload_callbacks.push(callback);\n",
       "      if (window._bokeh_is_loading > 0) {\n",
       "        console.log(\"Bokeh: BokehJS is being loaded, scheduling callback at\", now());\n",
       "        return null;\n",
       "      }\n",
       "      if (js_urls == null || js_urls.length === 0) {\n",
       "        run_callbacks();\n",
       "        return null;\n",
       "      }\n",
       "      console.log(\"Bokeh: BokehJS not loaded, scheduling load and callback at\", now());\n",
       "      window._bokeh_is_loading = js_urls.length;\n",
       "      for (var i = 0; i < js_urls.length; i++) {\n",
       "        var url = js_urls[i];\n",
       "        var s = document.createElement('script');\n",
       "        s.src = url;\n",
       "        s.async = false;\n",
       "        s.onreadystatechange = s.onload = function() {\n",
       "          window._bokeh_is_loading--;\n",
       "          if (window._bokeh_is_loading === 0) {\n",
       "            console.log(\"Bokeh: all BokehJS libraries loaded\");\n",
       "            run_callbacks()\n",
       "          }\n",
       "        };\n",
       "        s.onerror = function() {\n",
       "          console.warn(\"failed to load library \" + url);\n",
       "        };\n",
       "        console.log(\"Bokeh: injecting script tag for BokehJS library: \", url);\n",
       "        document.getElementsByTagName(\"head\")[0].appendChild(s);\n",
       "      }\n",
       "    };var element = document.getElementById(\"59cf00dd-b4f3-49fb-a937-1168f6afdb36\");\n",
       "    if (element == null) {\n",
       "      console.log(\"Bokeh: ERROR: autoload.js configured with elementid '59cf00dd-b4f3-49fb-a937-1168f6afdb36' but no matching script tag was found. \")\n",
       "      return false;\n",
       "    }\n",
       "  \n",
       "    var js_urls = [];\n",
       "  \n",
       "    var inline_js = [\n",
       "      function(Bokeh) {\n",
       "        Bokeh.$(function() {\n",
       "            var docs_json = {\"a5704b93-e05a-424d-8eef-1c739055e12b\":{\"roots\":{\"references\":[{\"attributes\":{},\"id\":\"86fc15ce-441a-43c9-a9c4-45071aeb9d8c\",\"type\":\"ToolEvents\"},{\"attributes\":{\"callback\":null,\"end\":136786630,\"start\":135757320},\"id\":\"d459c204-ae8d-4841-91bf-799f80f9adee\",\"type\":\"Range1d\"},{\"attributes\":{\"data_source\":{\"id\":\"4bf48323-ff76-4a5a-b579-7f32b219db32\",\"type\":\"ColumnDataSource\"},\"glyph\":{\"id\":\"40226d62-405c-4153-8ec3-aa7ed782c296\",\"type\":\"Quad\"},\"hover_glyph\":null,\"nonselection_glyph\":{\"id\":\"279ac631-78cc-4d9c-853f-e731f62df6f0\",\"type\":\"Quad\"},\"selection_glyph\":null},\"id\":\"96f1018c-e818-45fd-910f-2d20648f3393\",\"type\":\"GlyphRenderer\"},{\"attributes\":{\"below\":[{\"id\":\"ec8841f7-1353-4497-8f8a-09c6a1760404\",\"type\":\"LinearAxis\"}],\"left\":[{\"id\":\"b5599c8b-d4ff-4e97-9784-a92290d3df7b\",\"type\":\"LinearAxis\"}],\"plot_height\":700,\"plot_width\":900,\"renderers\":[{\"id\":\"ec8841f7-1353-4497-8f8a-09c6a1760404\",\"type\":\"LinearAxis\"},{\"id\":\"a65b14d5-fe9b-4289-acec-fc4eeadcf2ca\",\"type\":\"Grid\"},{\"id\":\"b5599c8b-d4ff-4e97-9784-a92290d3df7b\",\"type\":\"LinearAxis\"},{\"id\":\"bb005612-1090-4104-8e5e-b5e6940da46e\",\"type\":\"Grid\"},{\"id\":\"e5ff4198-4c0c-476a-814b-3550e8313413\",\"type\":\"BoxAnnotation\"},{\"id\":\"4a1bd894-96d8-4f03-ac63-dd170edec013\",\"type\":\"GlyphRenderer\"},{\"id\":\"4cb86625-f216-498f-adb5-3469a006420f\",\"type\":\"GlyphRenderer\"},{\"id\":\"13ccebde-a27f-4903-9d73-7ec64958c2cc\",\"type\":\"LabelSet\"},{\"id\":\"96f1018c-e818-45fd-910f-2d20648f3393\",\"type\":\"GlyphRenderer\"},{\"id\":\"9577deef-9a18-477b-9e6e-3594e5199e7a\",\"type\":\"LabelSet\"}],\"title\":{\"id\":\"95d7eb73-c690-4cbb-83d3-a6ae2e21fe55\",\"type\":\"Title\"},\"tool_events\":{\"id\":\"86fc15ce-441a-43c9-a9c4-45071aeb9d8c\",\"type\":\"ToolEvents\"},\"toolbar\":{\"id\":\"052fad07-7835-4566-9951-73466d808705\",\"type\":\"Toolbar\"},\"toolbar_location\":null,\"x_range\":{\"id\":\"d459c204-ae8d-4841-91bf-799f80f9adee\",\"type\":\"Range1d\"},\"y_range\":{\"id\":\"e86f297e-1d23-4180-8c33-146314fd8b28\",\"type\":\"Range1d\"}},\"id\":\"2d435238-1977-4aa2-9fb8-8bde4d59621c\",\"subtype\":\"Figure\",\"type\":\"Plot\"},{\"attributes\":{},\"id\":\"613ad4d5-26c0-4cf7-9230-a27b9f307911\",\"type\":\"BasicTickFormatter\"},{\"attributes\":{\"bottom_units\":\"screen\",\"fill_alpha\":{\"value\":0.5},\"fill_color\":{\"value\":\"lightgrey\"},\"left_units\":\"screen\",\"level\":\"overlay\",\"line_alpha\":{\"value\":1.0},\"line_color\":{\"value\":\"black\"},\"line_dash\":[4,4],\"line_width\":{\"value\":2},\"plot\":null,\"render_mode\":\"css\",\"right_units\":\"screen\",\"top_units\":\"screen\"},\"id\":\"e5ff4198-4c0c-476a-814b-3550e8313413\",\"type\":\"BoxAnnotation\"},{\"attributes\":{\"formatter\":{\"id\":\"3a157345-a19d-4396-82b4-65fccb81f0b0\",\"type\":\"BasicTickFormatter\"},\"plot\":{\"id\":\"2d435238-1977-4aa2-9fb8-8bde4d59621c\",\"subtype\":\"Figure\",\"type\":\"Plot\"},\"ticker\":{\"id\":\"41cce778-9cf9-4f2a-9015-98a01c6c8b9f\",\"type\":\"BasicTicker\"},\"visible\":null},\"id\":\"b5599c8b-d4ff-4e97-9784-a92290d3df7b\",\"type\":\"LinearAxis\"},{\"attributes\":{\"callback\":null,\"column_names\":[\"right\",\"bottom\",\"top\",\"left\",\"fill_color\"],\"data\":{\"bottom\":[550,150,50,450,150,250,450,350,550,250,350,550],\"fill_color\":[\"#808080\",\"#c4c461\",\"#ffff00\",\"#c4c461\",\"#808080\",\"#808080\",\"#808080\",\"#808080\",\"#c46161\",\"#808080\",\"#808080\",\"#808080\"],\"left\":[135757320,135829592,135959272,136393658,136494985,136500475,136506375,136535876,136588031,136652491,136652953,136653925],\"right\":[135777504,136420908,136375855,136486342,136773638,136542560,136538939,136554890,136593678,136732772,136761175,136761853],\"top\":[596,191,88,494,190,293,494,394,596,292,394,595]}},\"id\":\"88d324f2-65cc-4762-b457-72c908264e4c\",\"type\":\"ColumnDataSource\"},{\"attributes\":{\"callback\":null,\"column_names\":[\"y\",\"x\",\"vals\"],\"data\":{\"vals\":[\"RAB3GAP1\",\"ZRANB3\",\"R3HDM1\",\"UBXN4\",\"LCT\",\"MCM6\",\"DARS\"],\"x\":[135869057.0,136122878.0,136385961.0,136520911.0,136570082.5,136615621.5,136703738.0],\"y\":[660.0,660.0,660.0,660.0,660.0,660.0,660.0]}},\"id\":\"2a95a987-7b4b-4c33-ba7a-99978b1ec2b8\",\"type\":\"ColumnDataSource\"},{\"attributes\":{\"plot\":{\"id\":\"2d435238-1977-4aa2-9fb8-8bde4d59621c\",\"subtype\":\"Figure\",\"type\":\"Plot\"}},\"id\":\"0cb6d06f-b135-414e-be0d-050893c1a46b\",\"type\":\"HelpTool\"},{\"attributes\":{\"callback\":null,\"column_names\":[\"y\",\"x\",\"vals\"],\"data\":{\"vals\":[\"13_1696\",\"9_944\",\"5_684\",\"32_1361\",\"81_857\",\"13_1227\",\"4_1442\",\"7_1303\",\"7_1760\",\"6_1114\",\"5_1296\",\"24_1504\"],\"x\":[135757320,135829592,135959272,136393658,136494985,136500475,136506375,136535876,136588031,136652491,136652953,136653925],\"y\":[601.0,196.0,93.0,499.0,195.0,298.0,499.0,399.0,601.0,297.0,399.0,600.0]}},\"id\":\"47810e13-b577-4332-8618-ebb4a2c4e2fa\",\"type\":\"ColumnDataSource\"},{\"attributes\":{\"callback\":null,\"end\":700},\"id\":\"e86f297e-1d23-4180-8c33-146314fd8b28\",\"type\":\"Range1d\"},{\"attributes\":{\"callback\":null,\"column_names\":[\"xs\",\"ys\",\"line_color\"],\"data\":{\"line_color\":[\"black\",\"black\",\"black\",\"black\",\"black\",\"black\",\"black\",\"black\",\"black\",\"black\",\"black\",\"black\",\"black\",\"black\",\"black\",\"black\",\"black\",\"black\",\"black\",\"black\",\"black\",\"black\",\"black\",\"black\",\"black\",\"black\",\"black\",\"black\",\"black\",\"black\",\"black\",\"black\",\"black\",\"black\",\"black\",\"black\",\"black\",\"black\",\"black\",\"black\",\"black\",\"black\",\"black\",\"black\",\"black\",\"black\",\"black\",\"black\",\"black\",\"black\",\"black\",\"black\",\"black\",\"black\",\"black\",\"black\",\"black\",\"black\",\"black\",\"black\",\"black\",\"black\",\"black\",\"black\",\"black\",\"black\",\"black\",\"black\",\"black\",\"black\",\"black\",\"black\",\"black\",\"black\",\"black\",\"black\",\"black\",\"black\",\"black\",\"black\",\"black\",\"black\",\"black\",\"black\",\"black\",\"black\",\"black\",\"black\",\"black\",\"black\",\"black\",\"black\",\"black\",\"black\",\"black\",\"black\",\"black\",\"black\",\"black\",\"black\",\"black\",\"black\",\"black\",\"black\",\"black\",\"black\",\"black\",\"black\",\"black\",\"black\",\"black\",\"black\",\"black\",\"black\",\"black\",\"black\",\"black\",\"black\",\"black\",\"black\",\"black\",\"black\",\"black\",\"black\",\"black\",\"black\",\"black\",\"black\",\"black\",\"black\",\"black\",\"black\",\"black\",\"black\",\"black\",\"black\",\"black\",\"black\",\"black\",\"black\",\"black\",\"black\",\"black\",\"black\",\"black\",\"black\",\"black\",\"black\",\"black\",\"black\",\"black\",\"black\",\"black\",\"black\",\"black\",\"black\",\"black\",\"black\",\"black\",\"black\",\"black\",\"black\",\"black\",\"black\",\"black\",\"black\",\"black\",\"black\",\"black\",\"black\",\"black\",\"black\",\"black\",\"black\",\"black\",\"black\",\"black\",\"black\",\"black\",\"black\",\"black\",\"black\",\"black\",\"black\",\"black\",\"black\",\"black\",\"black\",\"black\",\"black\",\"black\",\"black\",\"black\",\"black\",\"black\",\"black\",\"black\",\"black\",\"black\",\"black\",\"black\",\"black\",\"black\",\"black\",\"black\",\"black\"],\"xs\":[[135757320,135757320],[135761078,135761078],[135761271,135761271],[135762344,135762344],[135762980,135762980],[135763280,135763280],[135768815,135768815],[135769093,135769093],[135769127,135769127],[135770940,135770940],[135770951,135770951],[135776728,135776728],[135777504,135777504],[135829592,135829592],[135893372,135893372],[135952405,135952405],[135989721,135989721],[136136056,136136056],[136313639,136313639],[136401418,136401418],[136407078,136407078],[136420908,136420908],[135959272,135959272],[136149550,136149550],[136164840,136164840],[136313885,136313885],[136375855,136375855],[136393658,136393658],[136396300,136396300],[136401843,136401843],[136407445,136407445],[136411879,136411879],[136412270,136412270],[136413244,136413244],[136413847,136413847],[136415217,136415217],[136416533,136416533],[136420726,136420726],[136429857,136429857],[136433740,136433740],[136436317,136436317],[136437615,136437615],[136438517,136438517],[136440300,136440300],[136443900,136443900],[136444185,136444185],[136444338,136444338],[136449254,136449254],[136451676,136451676],[136459227,136459227],[136463117,136463117],[136463454,136463454],[136467119,136467119],[136468238,136468238],[136470219,136470219],[136483355,136483355],[136485276,136485276],[136486340,136486340],[136486342,136486342],[136494985,136494985],[136497199,136497199],[136511817,136511817],[136513670,136513670],[136515458,136515458],[136516970,136516970],[136525309,136525309],[136528034,136528034],[136532225,136532225],[136535235,136535235],[136536095,136536095],[136544423,136544423],[136546927,136546927],[136552188,136552188],[136552517,136552517],[136555525,136555525],[136556480,136556480],[136560464,136560464],[136572285,136572285],[136582694,136582694],[136582809,136582809],[136584538,136584538],[136585323,136585323],[136586825,136586825],[136600662,136600662],[136612036,136612036],[136618178,136618178],[136618507,136618507],[136622543,136622543],[136624947,136624947],[136625113,136625113],[136626078,136626078],[136628121,136628121],[136632300,136632300],[136633962,136633962],[136635343,136635343],[136638113,136638113],[136640101,136640101],[136641593,136641593],[136646582,136646582],[136648077,136648077],[136648883,136648883],[136652045,136652045],[136653848,136653848],[136656094,136656094],[136661110,136661110],[136663110,136663110],[136663605,136663605],[136665162,136665162],[136665711,136665711],[136668123,136668123],[136670419,136670419],[136672680,136672680],[136673546,136673546],[136684632,136684632],[136686114,136686114],[136690425,136690425],[136690783,136690783],[136692893,136692893],[136694905,136694905],[136695694,136695694],[136695705,136695705],[136696608,136696608],[136697372,136697372],[136697468,136697468],[136700024,136700024],[136701539,136701539],[136702118,136702118],[136707480,136707480],[136710554,136710554],[136714178,136714178],[136719173,136719173],[136725459,136725459],[136734569,136734569],[136744678,136744678],[136748779,136748779],[136751488,136751488],[136754183,136754183],[136763242,136763242],[136765074,136765074],[136773638,136773638],[136500475,136500475],[136501509,136501509],[136504101,136504101],[136509868,136509868],[136520043,136520043],[136527120,136527120],[136530379,136530379],[136530443,136530443],[136539330,136539330],[136539670,136539670],[136540083,136540083],[136542559,136542559],[136542560,136542560],[136506375,136506375],[136506927,136506927],[136510012,136510012],[136538939,136538939],[136535876,136535876],[136544651,136544651],[136545844,136545844],[136552526,136552526],[136553022,136553022],[136554797,136554797],[136554890,136554890],[136588031,136588031],[136589278,136589278],[136589379,136589379],[136589741,136589741],[136590746,136590746],[136593553,136593553],[136593678,136593678],[136652491,136652491],[136652524,136652524],[136661150,136661150],[136669264,136669264],[136726567,136726567],[136732772,136732772],[136652953,136652953],[136655582,136655582],[136674028,136674028],[136684940,136684940],[136761175,136761175],[136653925,136653925],[136654833,136654833],[136656534,136656534],[136656536,136656536],[136657252,136657252],[136667301,136667301],[136667487,136667487],[136672775,136672775],[136680534,136680534],[136686393,136686393],[136688749,136688749],[136692553,136692553],[136697371,136697371],[136708787,136708787],[136710372,136710372],[136711064,136711064],[136715324,136715324],[136723504,136723504],[136737460,136737460],[136743143,136743143],[136746224,136746224],[136751842,136751842],[136759379,136759379],[136761853,136761853]],\"ys\":[[550,596],[550,596],[550,596],[550,596],[550,596],[550,596],[550,596],[550,596],[550,596],[550,596],[550,596],[550,596],[550,596],[150,191],[150,191],[150,191],[150,191],[150,191],[150,191],[150,191],[150,191],[150,191],[50,88],[50,88],[50,88],[50,88],[50,88],[450,494],[450,494],[450,494],[450,494],[450,494],[450,494],[450,494],[450,494],[450,494],[450,494],[450,494],[450,494],[450,494],[450,494],[450,494],[450,494],[450,494],[450,494],[450,494],[450,494],[450,494],[450,494],[450,494],[450,494],[450,494],[450,494],[450,494],[450,494],[450,494],[450,494],[450,494],[450,494],[150,190],[150,190],[150,190],[150,190],[150,190],[150,190],[150,190],[150,190],[150,190],[150,190],[150,190],[150,190],[150,190],[150,190],[150,190],[150,190],[150,190],[150,190],[150,190],[150,190],[150,190],[150,190],[150,190],[150,190],[150,190],[150,190],[150,190],[150,190],[150,190],[150,190],[150,190],[150,190],[150,190],[150,190],[150,190],[150,190],[150,190],[150,190],[150,190],[150,190],[150,190],[150,190],[150,190],[150,190],[150,190],[150,190],[150,190],[150,190],[150,190],[150,190],[150,190],[150,190],[150,190],[150,190],[150,190],[150,190],[150,190],[150,190],[150,190],[150,190],[150,190],[150,190],[150,190],[150,190],[150,190],[150,190],[150,190],[150,190],[150,190],[150,190],[150,190],[150,190],[150,190],[150,190],[150,190],[150,190],[150,190],[150,190],[150,190],[150,190],[150,190],[250,293],[250,293],[250,293],[250,293],[250,293],[250,293],[250,293],[250,293],[250,293],[250,293],[250,293],[250,293],[250,293],[450,494],[450,494],[450,494],[450,494],[350,394],[350,394],[350,394],[350,394],[350,394],[350,394],[350,394],[550,596],[550,596],[550,596],[550,596],[550,596],[550,596],[550,596],[250,292],[250,292],[250,292],[250,292],[250,292],[250,292],[350,394],[350,394],[350,394],[350,394],[350,394],[550,595],[550,595],[550,595],[550,595],[550,595],[550,595],[550,595],[550,595],[550,595],[550,595],[550,595],[550,595],[550,595],[550,595],[550,595],[550,595],[550,595],[550,595],[550,595],[550,595],[550,595],[550,595],[550,595],[550,595]]}},\"id\":\"6e4d3edd-0ef4-47d0-9cc7-014bbe6a3fb8\",\"type\":\"ColumnDataSource\"},{\"attributes\":{\"bottom\":{\"field\":\"bottom\"},\"fill_color\":{\"value\":\"white\"},\"left\":{\"field\":\"left\"},\"right\":{\"field\":\"right\"},\"top\":{\"field\":\"top\"}},\"id\":\"40226d62-405c-4153-8ec3-aa7ed782c296\",\"type\":\"Quad\"},{\"attributes\":{\"plot\":{\"id\":\"2d435238-1977-4aa2-9fb8-8bde4d59621c\",\"subtype\":\"Figure\",\"type\":\"Plot\"},\"ticker\":{\"id\":\"56de7f5c-882f-4b6a-ba97-f369338a203e\",\"type\":\"BasicTicker\"}},\"id\":\"a65b14d5-fe9b-4289-acec-fc4eeadcf2ca\",\"type\":\"Grid\"},{\"attributes\":{\"data_source\":{\"id\":\"88d324f2-65cc-4762-b457-72c908264e4c\",\"type\":\"ColumnDataSource\"},\"glyph\":{\"id\":\"3f9281e2-b313-4ecf-8e3d-cc3b4f642983\",\"type\":\"Quad\"},\"hover_glyph\":null,\"nonselection_glyph\":{\"id\":\"17e51761-bcdb-40cf-ab66-67edb468a465\",\"type\":\"Quad\"},\"selection_glyph\":null},\"id\":\"4a1bd894-96d8-4f03-ac63-dd170edec013\",\"type\":\"GlyphRenderer\"},{\"attributes\":{\"active_drag\":\"auto\",\"active_scroll\":\"auto\",\"active_tap\":\"auto\",\"tools\":[{\"id\":\"d4083cd3-0f33-482c-b548-fd9facc6c7f3\",\"type\":\"PanTool\"},{\"id\":\"873f0c01-3ad6-4ffa-9116-34a95118212c\",\"type\":\"WheelZoomTool\"},{\"id\":\"5919e0ae-4393-418e-a65b-f3cbc2c76356\",\"type\":\"BoxZoomTool\"},{\"id\":\"c07bb994-8100-4582-944f-7ba8ddaf72ef\",\"type\":\"SaveTool\"},{\"id\":\"a764b74b-515c-4bf3-87db-5ad97665a857\",\"type\":\"ResetTool\"},{\"id\":\"0cb6d06f-b135-414e-be0d-050893c1a46b\",\"type\":\"HelpTool\"}]},\"id\":\"052fad07-7835-4566-9951-73466d808705\",\"type\":\"Toolbar\"},{\"attributes\":{\"plot\":{\"id\":\"2d435238-1977-4aa2-9fb8-8bde4d59621c\",\"subtype\":\"Figure\",\"type\":\"Plot\"}},\"id\":\"c07bb994-8100-4582-944f-7ba8ddaf72ef\",\"type\":\"SaveTool\"},{\"attributes\":{\"bottom\":{\"field\":\"bottom\"},\"fill_color\":{\"field\":\"fill_color\"},\"left\":{\"field\":\"left\"},\"line_color\":{\"value\":null},\"right\":{\"field\":\"right\"},\"top\":{\"field\":\"top\"}},\"id\":\"3f9281e2-b313-4ecf-8e3d-cc3b4f642983\",\"type\":\"Quad\"},{\"attributes\":{\"plot\":{\"id\":\"2d435238-1977-4aa2-9fb8-8bde4d59621c\",\"subtype\":\"Figure\",\"type\":\"Plot\"}},\"id\":\"a764b74b-515c-4bf3-87db-5ad97665a857\",\"type\":\"ResetTool\"},{\"attributes\":{\"bottom\":{\"field\":\"bottom\"},\"fill_alpha\":{\"value\":0.1},\"fill_color\":{\"value\":\"#1f77b4\"},\"left\":{\"field\":\"left\"},\"line_alpha\":{\"value\":0.1},\"line_color\":{\"value\":\"#1f77b4\"},\"right\":{\"field\":\"right\"},\"top\":{\"field\":\"top\"}},\"id\":\"279ac631-78cc-4d9c-853f-e731f62df6f0\",\"type\":\"Quad\"},{\"attributes\":{\"plot\":{\"id\":\"2d435238-1977-4aa2-9fb8-8bde4d59621c\",\"subtype\":\"Figure\",\"type\":\"Plot\"}},\"id\":\"873f0c01-3ad6-4ffa-9116-34a95118212c\",\"type\":\"WheelZoomTool\"},{\"attributes\":{\"data_source\":{\"id\":\"6e4d3edd-0ef4-47d0-9cc7-014bbe6a3fb8\",\"type\":\"ColumnDataSource\"},\"glyph\":{\"id\":\"9abde004-c954-4e15-83ff-74bd6fe5e9d8\",\"type\":\"MultiLine\"},\"hover_glyph\":null,\"nonselection_glyph\":{\"id\":\"feb18215-2a2e-49f4-8190-3807bdb629bc\",\"type\":\"MultiLine\"},\"selection_glyph\":null},\"id\":\"4cb86625-f216-498f-adb5-3469a006420f\",\"type\":\"GlyphRenderer\"},{\"attributes\":{\"plot\":null,\"text\":null},\"id\":\"95d7eb73-c690-4cbb-83d3-a6ae2e21fe55\",\"type\":\"Title\"},{\"attributes\":{},\"id\":\"56de7f5c-882f-4b6a-ba97-f369338a203e\",\"type\":\"BasicTicker\"},{\"attributes\":{\"line_color\":{\"field\":\"line_color\"},\"xs\":{\"field\":\"xs\"},\"ys\":{\"field\":\"ys\"}},\"id\":\"9abde004-c954-4e15-83ff-74bd6fe5e9d8\",\"type\":\"MultiLine\"},{\"attributes\":{\"plot\":{\"id\":\"2d435238-1977-4aa2-9fb8-8bde4d59621c\",\"subtype\":\"Figure\",\"type\":\"Plot\"}},\"id\":\"d4083cd3-0f33-482c-b548-fd9facc6c7f3\",\"type\":\"PanTool\"},{\"attributes\":{\"bottom\":{\"field\":\"bottom\"},\"fill_alpha\":{\"value\":0.1},\"fill_color\":{\"value\":\"#1f77b4\"},\"left\":{\"field\":\"left\"},\"line_alpha\":{\"value\":0.1},\"line_color\":{\"value\":\"#1f77b4\"},\"right\":{\"field\":\"right\"},\"top\":{\"field\":\"top\"}},\"id\":\"17e51761-bcdb-40cf-ab66-67edb468a465\",\"type\":\"Quad\"},{\"attributes\":{\"dimension\":1,\"plot\":{\"id\":\"2d435238-1977-4aa2-9fb8-8bde4d59621c\",\"subtype\":\"Figure\",\"type\":\"Plot\"},\"ticker\":{\"id\":\"41cce778-9cf9-4f2a-9015-98a01c6c8b9f\",\"type\":\"BasicTicker\"}},\"id\":\"bb005612-1090-4104-8e5e-b5e6940da46e\",\"type\":\"Grid\"},{\"attributes\":{\"line_alpha\":{\"value\":0.1},\"line_color\":{\"value\":\"#1f77b4\"},\"xs\":{\"field\":\"xs\"},\"ys\":{\"field\":\"ys\"}},\"id\":\"feb18215-2a2e-49f4-8190-3807bdb629bc\",\"type\":\"MultiLine\"},{\"attributes\":{},\"id\":\"41cce778-9cf9-4f2a-9015-98a01c6c8b9f\",\"type\":\"BasicTicker\"},{\"attributes\":{\"formatter\":{\"id\":\"613ad4d5-26c0-4cf7-9230-a27b9f307911\",\"type\":\"BasicTickFormatter\"},\"plot\":{\"id\":\"2d435238-1977-4aa2-9fb8-8bde4d59621c\",\"subtype\":\"Figure\",\"type\":\"Plot\"},\"ticker\":{\"id\":\"56de7f5c-882f-4b6a-ba97-f369338a203e\",\"type\":\"BasicTicker\"}},\"id\":\"ec8841f7-1353-4497-8f8a-09c6a1760404\",\"type\":\"LinearAxis\"},{\"attributes\":{\"callback\":null,\"column_names\":[\"right\",\"bottom\",\"top\",\"left\"],\"data\":{\"bottom\":[645,645,645,645,645,645,645],\"left\":[135809835,135957574,136289083,136499189,136545415,136597196,136664254],\"right\":[135928279,136288182,136482839,136542633,136594750,136634047,136743222],\"top\":[675,675,675,675,675,675,675]}},\"id\":\"4bf48323-ff76-4a5a-b579-7f32b219db32\",\"type\":\"ColumnDataSource\"},{\"attributes\":{},\"id\":\"3a157345-a19d-4396-82b4-65fccb81f0b0\",\"type\":\"BasicTickFormatter\"},{\"attributes\":{\"level\":\"glyph\",\"plot\":{\"id\":\"2d435238-1977-4aa2-9fb8-8bde4d59621c\",\"subtype\":\"Figure\",\"type\":\"Plot\"},\"source\":{\"id\":\"47810e13-b577-4332-8618-ebb4a2c4e2fa\",\"type\":\"ColumnDataSource\"},\"text\":{\"field\":\"vals\"},\"text_font_size\":{\"value\":\"9pt\"},\"text_font_style\":\"bold\",\"x\":{\"field\":\"x\"},\"y\":{\"field\":\"y\"}},\"id\":\"13ccebde-a27f-4903-9d73-7ec64958c2cc\",\"type\":\"LabelSet\"},{\"attributes\":{\"level\":\"glyph\",\"plot\":{\"id\":\"2d435238-1977-4aa2-9fb8-8bde4d59621c\",\"subtype\":\"Figure\",\"type\":\"Plot\"},\"source\":{\"id\":\"2a95a987-7b4b-4c33-ba7a-99978b1ec2b8\",\"type\":\"ColumnDataSource\"},\"text\":{\"field\":\"vals\"},\"text_align\":\"center\",\"text_baseline\":\"middle\",\"text_font_size\":{\"value\":\"8pt\"},\"x\":{\"field\":\"x\"},\"y\":{\"field\":\"y\"}},\"id\":\"9577deef-9a18-477b-9e6e-3594e5199e7a\",\"type\":\"LabelSet\"},{\"attributes\":{\"overlay\":{\"id\":\"e5ff4198-4c0c-476a-814b-3550e8313413\",\"type\":\"BoxAnnotation\"},\"plot\":{\"id\":\"2d435238-1977-4aa2-9fb8-8bde4d59621c\",\"subtype\":\"Figure\",\"type\":\"Plot\"}},\"id\":\"5919e0ae-4393-418e-a65b-f3cbc2c76356\",\"type\":\"BoxZoomTool\"}],\"root_ids\":[\"2d435238-1977-4aa2-9fb8-8bde4d59621c\"]},\"title\":\"Bokeh Application\",\"version\":\"0.12.0\"}};\n",
       "            var render_items = [{\"docid\":\"a5704b93-e05a-424d-8eef-1c739055e12b\",\"elementid\":\"59cf00dd-b4f3-49fb-a937-1168f6afdb36\",\"modelid\":\"2d435238-1977-4aa2-9fb8-8bde4d59621c\",\"notebook_comms_target\":\"b0eadbae-cf7f-4d3d-a2b4-192db0e025c8\"}];\n",
       "            \n",
       "            Bokeh.embed.embed_items(docs_json, render_items);\n",
       "        });\n",
       "      },\n",
       "      function(Bokeh) {\n",
       "      }\n",
       "    ];\n",
       "  \n",
       "    function run_inline_js() {\n",
       "      for (var i = 0; i < inline_js.length; i++) {\n",
       "        inline_js[i](window.Bokeh);\n",
       "      }\n",
       "    }\n",
       "  \n",
       "    if (window._bokeh_is_loading === 0) {\n",
       "      console.log(\"Bokeh: BokehJS loaded, going straight to plotting\");\n",
       "      run_inline_js();\n",
       "    } else {\n",
       "      load_libs(js_urls, function() {\n",
       "        console.log(\"Bokeh: BokehJS plotting callback run at\", now());\n",
       "        run_inline_js();\n",
       "      });\n",
       "    }\n",
       "  }(this));\n",
       "</script>"
      ]
     },
     "metadata": {},
     "output_type": "display_data"
    },
    {
     "data": {
      "text/html": [
       "<p><code>&lt;Bokeh Notebook handle for <strong>In[2]</strong>&gt;</code></p>"
      ],
      "text/plain": [
       "<bokeh.io._CommsHandle at 0x7f7cb0067b50>"
      ]
     },
     "execution_count": 2,
     "metadata": {},
     "output_type": "execute_result"
    }
   ],
   "source": [
    "plt_obj = dm.superset_yes_no([dm.di_9_944], min_match=0.5)\n",
    "plt = plt_obj.do_plot()\n",
    "show(plt)"
   ]
  },
  {
   "cell_type": "code",
   "execution_count": 3,
   "metadata": {
    "collapsed": false
   },
   "outputs": [
    {
     "data": {
      "text/html": [
       "<table>\n",
       "<thead><tr><th style=\"text-align:center\">index</th><th style=\"text-align:center\">first</th><th style=\"text-align:center\">length</th><th style=\"text-align:center\">snps</th><th style=\"text-align:center\" colspan=2>alleles</th><th style=\"text-align:center\" colspan=2>matches</th><th style=\"text-align:center\" colspan=2>afr</th><th style=\"text-align:center\" colspan=2>afx</th><th style=\"text-align:center\" colspan=2>amr</th><th style=\"text-align:center\" colspan=2>eas</th><th style=\"text-align:center\" colspan=2>eur</th><th style=\"text-align:center\" colspan=2>sas</th><th style=\"text-align:center\" colspan=2>sax</th></tr></thead>\n",
       "<tr class=\"even\"><td style=\"text-align: right;\">354033</td><td style=\"text-align: right;\">136,588,031</td><td style=\"text-align: right;\">5,647</td><td style=\"text-align: right;\">7</td><td style=\"text-align: right;\">1760</td><td style=\"text-align: right;\">0.34</td><td style=\"text-align: right;\">604</td><td style=\"text-align: right;\">0.64</td><td style=\"text-align: right;\">17</td><td style=\"text-align: right;\">0.14</td><td style=\"text-align: right;\">4</td><td style=\"text-align: right;\">0.11</td><td style=\"text-align: right;\">106</td><td style=\"text-align: right;\">1.27</td><td style=\"text-align: right;\">145</td><td style=\"text-align: right;\">1.19</td><td style=\"text-align: right;\">155</td><td style=\"text-align: right;\">1.28</td><td style=\"text-align: right;\">61</td><td style=\"text-align: right;\">1.39</td><td style=\"text-align: right;\">116</td><td style=\"text-align: right;\">1.57</td></tr>\n",
       "<tr><td style=\"text-align: right;\">353240</td><td style=\"text-align: right;\">135,757,320</td><td style=\"text-align: right;\">20,184</td><td style=\"text-align: right;\">13</td><td style=\"text-align: right;\">1696</td><td style=\"text-align: right;\">0.55</td><td style=\"text-align: right;\">938</td><td style=\"text-align: right;\">0.99</td><td style=\"text-align: right;\">19</td><td style=\"text-align: right;\">0.10</td><td style=\"text-align: right;\">5</td><td style=\"text-align: right;\">0.09</td><td style=\"text-align: right;\">124</td><td style=\"text-align: right;\">0.95</td><td style=\"text-align: right;\">366</td><td style=\"text-align: right;\">1.94</td><td style=\"text-align: right;\">164</td><td style=\"text-align: right;\">0.87</td><td style=\"text-align: right;\">84</td><td style=\"text-align: right;\">1.23</td><td style=\"text-align: right;\">176</td><td style=\"text-align: right;\">1.53</td></tr>\n",
       "<tr class=\"even\"><td style=\"text-align: right;\">354130</td><td style=\"text-align: right;\">136,653,925</td><td style=\"text-align: right;\">107,928</td><td style=\"text-align: right;\">24</td><td style=\"text-align: right;\">1504</td><td style=\"text-align: right;\">0.38</td><td style=\"text-align: right;\">566</td><td style=\"text-align: right;\">0.60</td><td style=\"text-align: right;\">18</td><td style=\"text-align: right;\">0.16</td><td style=\"text-align: right;\">4</td><td style=\"text-align: right;\">0.11</td><td style=\"text-align: right;\">103</td><td style=\"text-align: right;\">1.31</td><td style=\"text-align: right;\">143</td><td style=\"text-align: right;\">1.26</td><td style=\"text-align: right;\">144</td><td style=\"text-align: right;\">1.27</td><td style=\"text-align: right;\">50</td><td style=\"text-align: right;\">1.22</td><td style=\"text-align: right;\">104</td><td style=\"text-align: right;\">1.50</td></tr>\n",
       "<tr><td style=\"text-align: right;\">353925</td><td style=\"text-align: right;\">136,506,375</td><td style=\"text-align: right;\">32,564</td><td style=\"text-align: right;\">4</td><td style=\"text-align: right;\">1442</td><td style=\"text-align: right;\">0.44</td><td style=\"text-align: right;\">635</td><td style=\"text-align: right;\">0.67</td><td style=\"text-align: right;\">17</td><td style=\"text-align: right;\">0.13</td><td style=\"text-align: right;\">4</td><td style=\"text-align: right;\">0.10</td><td style=\"text-align: right;\">106</td><td style=\"text-align: right;\">1.20</td><td style=\"text-align: right;\">169</td><td style=\"text-align: right;\">1.32</td><td style=\"text-align: right;\">158</td><td style=\"text-align: right;\">1.24</td><td style=\"text-align: right;\">62</td><td style=\"text-align: right;\">1.34</td><td style=\"text-align: right;\">119</td><td style=\"text-align: right;\">1.53</td></tr>\n",
       "<tr class=\"even\"><td style=\"text-align: right;\">353791</td><td style=\"text-align: right;\">136,393,658</td><td style=\"text-align: right;\">92,684</td><td style=\"text-align: right;\">32</td><td style=\"text-align: right;\">1361</td><td style=\"text-align: right;\">0.69</td><td style=\"text-align: right;\">936</td><td style=\"text-align: right;\">0.99</td><td style=\"text-align: right;\">19</td><td style=\"text-align: right;\">0.10</td><td style=\"text-align: right;\">5</td><td style=\"text-align: right;\">0.09</td><td style=\"text-align: right;\">126</td><td style=\"text-align: right;\">0.97</td><td style=\"text-align: right;\">359</td><td style=\"text-align: right;\">1.91</td><td style=\"text-align: right;\">165</td><td style=\"text-align: right;\">0.88</td><td style=\"text-align: right;\">85</td><td style=\"text-align: right;\">1.25</td><td style=\"text-align: right;\">177</td><td style=\"text-align: right;\">1.54</td></tr>\n",
       "<tr><td style=\"text-align: right;\">353958</td><td style=\"text-align: right;\">136,535,876</td><td style=\"text-align: right;\">19,014</td><td style=\"text-align: right;\">7</td><td style=\"text-align: right;\">1303</td><td style=\"text-align: right;\">0.49</td><td style=\"text-align: right;\">634</td><td style=\"text-align: right;\">0.67</td><td style=\"text-align: right;\">17</td><td style=\"text-align: right;\">0.13</td><td style=\"text-align: right;\">4</td><td style=\"text-align: right;\">0.10</td><td style=\"text-align: right;\">106</td><td style=\"text-align: right;\">1.21</td><td style=\"text-align: right;\">168</td><td style=\"text-align: right;\">1.32</td><td style=\"text-align: right;\">158</td><td style=\"text-align: right;\">1.24</td><td style=\"text-align: right;\">62</td><td style=\"text-align: right;\">1.35</td><td style=\"text-align: right;\">119</td><td style=\"text-align: right;\">1.53</td></tr>\n",
       "<tr class=\"even\"><td style=\"text-align: right;\">354129</td><td style=\"text-align: right;\">136,652,953</td><td style=\"text-align: right;\">108,222</td><td style=\"text-align: right;\">5</td><td style=\"text-align: right;\">1296</td><td style=\"text-align: right;\">0.43</td><td style=\"text-align: right;\">557</td><td style=\"text-align: right;\">0.59</td><td style=\"text-align: right;\">17</td><td style=\"text-align: right;\">0.15</td><td style=\"text-align: right;\">4</td><td style=\"text-align: right;\">0.11</td><td style=\"text-align: right;\">103</td><td style=\"text-align: right;\">1.33</td><td style=\"text-align: right;\">142</td><td style=\"text-align: right;\">1.27</td><td style=\"text-align: right;\">142</td><td style=\"text-align: right;\">1.27</td><td style=\"text-align: right;\">49</td><td style=\"text-align: right;\">1.21</td><td style=\"text-align: right;\">100</td><td style=\"text-align: right;\">1.46</td></tr>\n",
       "<tr><td style=\"text-align: right;\">353919</td><td style=\"text-align: right;\">136,500,475</td><td style=\"text-align: right;\">42,085</td><td style=\"text-align: right;\">13</td><td style=\"text-align: right;\">1227</td><td style=\"text-align: right;\">0.51</td><td style=\"text-align: right;\">629</td><td style=\"text-align: right;\">0.67</td><td style=\"text-align: right;\">17</td><td style=\"text-align: right;\">0.13</td><td style=\"text-align: right;\">4</td><td style=\"text-align: right;\">0.10</td><td style=\"text-align: right;\">104</td><td style=\"text-align: right;\">1.19</td><td style=\"text-align: right;\">169</td><td style=\"text-align: right;\">1.33</td><td style=\"text-align: right;\">158</td><td style=\"text-align: right;\">1.25</td><td style=\"text-align: right;\">61</td><td style=\"text-align: right;\">1.33</td><td style=\"text-align: right;\">116</td><td style=\"text-align: right;\">1.50</td></tr>\n",
       "<tr class=\"even\"><td style=\"text-align: right;\">354127</td><td style=\"text-align: right;\">136,652,491</td><td style=\"text-align: right;\">80,281</td><td style=\"text-align: right;\">6</td><td style=\"text-align: right;\">1114</td><td style=\"text-align: right;\">0.49</td><td style=\"text-align: right;\">550</td><td style=\"text-align: right;\">0.58</td><td style=\"text-align: right;\">17</td><td style=\"text-align: right;\">0.15</td><td style=\"text-align: right;\">4</td><td style=\"text-align: right;\">0.12</td><td style=\"text-align: right;\">103</td><td style=\"text-align: right;\">1.35</td><td style=\"text-align: right;\">135</td><td style=\"text-align: right;\">1.22</td><td style=\"text-align: right;\">142</td><td style=\"text-align: right;\">1.29</td><td style=\"text-align: right;\">49</td><td style=\"text-align: right;\">1.23</td><td style=\"text-align: right;\">100</td><td style=\"text-align: right;\">1.48</td></tr>\n",
       "<tr><td style=\"text-align: right;\">353372</td><td style=\"text-align: right;\">135,829,592</td><td style=\"text-align: right;\">591,316</td><td style=\"text-align: right;\">9</td><td style=\"text-align: right;\">944</td><td style=\"text-align: right;\">1.00</td><td style=\"text-align: right;\">944</td><td style=\"text-align: right;\">1.00</td><td style=\"text-align: right;\">19</td><td style=\"text-align: right;\">0.10</td><td style=\"text-align: right;\">5</td><td style=\"text-align: right;\">0.08</td><td style=\"text-align: right;\">126</td><td style=\"text-align: right;\">0.96</td><td style=\"text-align: right;\">367</td><td style=\"text-align: right;\">1.93</td><td style=\"text-align: right;\">165</td><td style=\"text-align: right;\">0.87</td><td style=\"text-align: right;\">85</td><td style=\"text-align: right;\">1.24</td><td style=\"text-align: right;\">177</td><td style=\"text-align: right;\">1.53</td></tr>\n",
       "<tr class=\"even\"><td style=\"text-align: right;\">353902</td><td style=\"text-align: right;\">136,494,985</td><td style=\"text-align: right;\">278,653</td><td style=\"text-align: right;\">81</td><td style=\"text-align: right;\">857</td><td style=\"text-align: right;\">0.64</td><td style=\"text-align: right;\">546</td><td style=\"text-align: right;\">0.58</td><td style=\"text-align: right;\">17</td><td style=\"text-align: right;\">0.15</td><td style=\"text-align: right;\">4</td><td style=\"text-align: right;\">0.12</td><td style=\"text-align: right;\">103</td><td style=\"text-align: right;\">1.36</td><td style=\"text-align: right;\">131</td><td style=\"text-align: right;\">1.19</td><td style=\"text-align: right;\">142</td><td style=\"text-align: right;\">1.29</td><td style=\"text-align: right;\">49</td><td style=\"text-align: right;\">1.23</td><td style=\"text-align: right;\">100</td><td style=\"text-align: right;\">1.49</td></tr>\n",
       "<tr><td style=\"text-align: right;\">353498</td><td style=\"text-align: right;\">135,959,272</td><td style=\"text-align: right;\">416,583</td><td style=\"text-align: right;\">5</td><td style=\"text-align: right;\">684</td><td style=\"text-align: right;\">0.82</td><td style=\"text-align: right;\">562</td><td style=\"text-align: right;\">0.60</td><td style=\"text-align: right;\">0</td><td style=\"text-align: right;\">0.00</td><td style=\"text-align: right;\">1</td><td style=\"text-align: right;\">0.03</td><td style=\"text-align: right;\">62</td><td style=\"text-align: right;\">0.80</td><td style=\"text-align: right;\">342</td><td style=\"text-align: right;\">3.02</td><td style=\"text-align: right;\">30</td><td style=\"text-align: right;\">0.27</td><td style=\"text-align: right;\">41</td><td style=\"text-align: right;\">1.00</td><td style=\"text-align: right;\">86</td><td style=\"text-align: right;\">1.25</td></tr>\n",
       "</table>"
      ],
      "text/plain": [
       "<IPython.core.display.HTML object>"
      ]
     },
     "execution_count": 3,
     "metadata": {},
     "output_type": "execute_result"
    }
   ],
   "source": [
    "HTML(plt_obj.get_html())"
   ]
  },
  {
   "cell_type": "markdown",
   "metadata": {},
   "source": [
    "<div style=\"width:700px\">\n",
    "<p>\n",
    "This plot shows the common series for samples that express both 32_1361 and\n",
    "81_857.  The 857 samples that express 81_857 include 781 that express 32_1361.\n",
    "Only 546 of the samples that express 9_944 express 32_1361 and 81_857.\n",
    "</div>"
   ]
  },
  {
   "cell_type": "code",
   "execution_count": 4,
   "metadata": {
    "collapsed": false
   },
   "outputs": [
    {
     "data": {
      "text/html": [
       "\n",
       "\n",
       "    <div class=\"bk-root\">\n",
       "        <div class=\"plotdiv\" id=\"6f4847d0-399b-4654-a0b5-3c12e722a114\"></div>\n",
       "    </div>\n",
       "<script type=\"text/javascript\">\n",
       "  \n",
       "  (function(global) {\n",
       "    function now() {\n",
       "      return new Date();\n",
       "    }\n",
       "  \n",
       "    if (typeof (window._bokeh_onload_callbacks) === \"undefined\") {\n",
       "      window._bokeh_onload_callbacks = [];\n",
       "    }\n",
       "  \n",
       "    function run_callbacks() {\n",
       "      window._bokeh_onload_callbacks.forEach(function(callback) { callback() });\n",
       "      delete window._bokeh_onload_callbacks\n",
       "      console.info(\"Bokeh: all callbacks have finished\");\n",
       "    }\n",
       "  \n",
       "    function load_libs(js_urls, callback) {\n",
       "      window._bokeh_onload_callbacks.push(callback);\n",
       "      if (window._bokeh_is_loading > 0) {\n",
       "        console.log(\"Bokeh: BokehJS is being loaded, scheduling callback at\", now());\n",
       "        return null;\n",
       "      }\n",
       "      if (js_urls == null || js_urls.length === 0) {\n",
       "        run_callbacks();\n",
       "        return null;\n",
       "      }\n",
       "      console.log(\"Bokeh: BokehJS not loaded, scheduling load and callback at\", now());\n",
       "      window._bokeh_is_loading = js_urls.length;\n",
       "      for (var i = 0; i < js_urls.length; i++) {\n",
       "        var url = js_urls[i];\n",
       "        var s = document.createElement('script');\n",
       "        s.src = url;\n",
       "        s.async = false;\n",
       "        s.onreadystatechange = s.onload = function() {\n",
       "          window._bokeh_is_loading--;\n",
       "          if (window._bokeh_is_loading === 0) {\n",
       "            console.log(\"Bokeh: all BokehJS libraries loaded\");\n",
       "            run_callbacks()\n",
       "          }\n",
       "        };\n",
       "        s.onerror = function() {\n",
       "          console.warn(\"failed to load library \" + url);\n",
       "        };\n",
       "        console.log(\"Bokeh: injecting script tag for BokehJS library: \", url);\n",
       "        document.getElementsByTagName(\"head\")[0].appendChild(s);\n",
       "      }\n",
       "    };var element = document.getElementById(\"6f4847d0-399b-4654-a0b5-3c12e722a114\");\n",
       "    if (element == null) {\n",
       "      console.log(\"Bokeh: ERROR: autoload.js configured with elementid '6f4847d0-399b-4654-a0b5-3c12e722a114' but no matching script tag was found. \")\n",
       "      return false;\n",
       "    }\n",
       "  \n",
       "    var js_urls = [];\n",
       "  \n",
       "    var inline_js = [\n",
       "      function(Bokeh) {\n",
       "        Bokeh.$(function() {\n",
       "            var docs_json = {\"fd6a0acb-3d1e-47ba-b3ae-b602cd02c29b\":{\"roots\":{\"references\":[{\"attributes\":{\"callback\":null,\"column_names\":[\"right\",\"bottom\",\"top\",\"left\"],\"data\":{\"bottom\":[545,545,545,545,545,545,545],\"left\":[135809835,135957574,136289083,136499189,136545415,136597196,136664254],\"right\":[135928279,136288182,136482839,136542633,136594750,136634047,136743222],\"top\":[575,575,575,575,575,575,575]}},\"id\":\"073c1e1e-0cc4-4c24-821f-6109d11d1cb7\",\"type\":\"ColumnDataSource\"},{\"attributes\":{\"data_source\":{\"id\":\"073c1e1e-0cc4-4c24-821f-6109d11d1cb7\",\"type\":\"ColumnDataSource\"},\"glyph\":{\"id\":\"79108832-48a3-413b-9978-6a21307f2048\",\"type\":\"Quad\"},\"hover_glyph\":null,\"nonselection_glyph\":{\"id\":\"7cb884dd-f30b-4315-8456-8f96983e0199\",\"type\":\"Quad\"},\"selection_glyph\":null},\"id\":\"01b0f731-06c0-4865-910b-7a20d867b831\",\"type\":\"GlyphRenderer\"},{\"attributes\":{\"formatter\":{\"id\":\"571da5fe-8e2f-4eec-8240-2677266caa3c\",\"type\":\"BasicTickFormatter\"},\"plot\":{\"id\":\"6ae297fc-297f-4691-ae6c-a34743e3b2fb\",\"subtype\":\"Figure\",\"type\":\"Plot\"},\"ticker\":{\"id\":\"35aa6da6-7729-407d-8243-d0d35e492d5e\",\"type\":\"BasicTicker\"}},\"id\":\"acb51acb-144d-4386-926e-85577dbc903e\",\"type\":\"LinearAxis\"},{\"attributes\":{\"plot\":{\"id\":\"6ae297fc-297f-4691-ae6c-a34743e3b2fb\",\"subtype\":\"Figure\",\"type\":\"Plot\"}},\"id\":\"36b0edb4-b15b-43c4-8598-96d6906c4212\",\"type\":\"ResetTool\"},{\"attributes\":{\"dimension\":1,\"plot\":{\"id\":\"6ae297fc-297f-4691-ae6c-a34743e3b2fb\",\"subtype\":\"Figure\",\"type\":\"Plot\"},\"ticker\":{\"id\":\"17122886-ce09-428b-b73c-6ba941199235\",\"type\":\"BasicTicker\"}},\"id\":\"58fafee8-8718-455f-b4cf-da3e00d9615b\",\"type\":\"Grid\"},{\"attributes\":{\"line_alpha\":{\"value\":0.1},\"line_color\":{\"value\":\"#1f77b4\"},\"xs\":{\"field\":\"xs\"},\"ys\":{\"field\":\"ys\"}},\"id\":\"113ac123-42a7-4966-92f1-02d9f982aae2\",\"type\":\"MultiLine\"},{\"attributes\":{\"plot\":{\"id\":\"6ae297fc-297f-4691-ae6c-a34743e3b2fb\",\"subtype\":\"Figure\",\"type\":\"Plot\"}},\"id\":\"4846d07a-83dc-43cc-bd15-9958c03380ce\",\"type\":\"PanTool\"},{\"attributes\":{},\"id\":\"571da5fe-8e2f-4eec-8240-2677266caa3c\",\"type\":\"BasicTickFormatter\"},{\"attributes\":{\"plot\":{\"id\":\"6ae297fc-297f-4691-ae6c-a34743e3b2fb\",\"subtype\":\"Figure\",\"type\":\"Plot\"}},\"id\":\"bd7fb3d9-cb59-4b77-a201-6d74d8878798\",\"type\":\"WheelZoomTool\"},{\"attributes\":{},\"id\":\"17122886-ce09-428b-b73c-6ba941199235\",\"type\":\"BasicTicker\"},{\"attributes\":{},\"id\":\"9e39dfae-f8fe-4fe1-ae7b-6d9cfca2fb5e\",\"type\":\"ToolEvents\"},{\"attributes\":{\"overlay\":{\"id\":\"87f20c92-c8b0-4f28-84cf-6878eb298ee8\",\"type\":\"BoxAnnotation\"},\"plot\":{\"id\":\"6ae297fc-297f-4691-ae6c-a34743e3b2fb\",\"subtype\":\"Figure\",\"type\":\"Plot\"}},\"id\":\"65503932-71c8-4104-830e-aaf7be726f4d\",\"type\":\"BoxZoomTool\"},{\"attributes\":{\"bottom_units\":\"screen\",\"fill_alpha\":{\"value\":0.5},\"fill_color\":{\"value\":\"lightgrey\"},\"left_units\":\"screen\",\"level\":\"overlay\",\"line_alpha\":{\"value\":1.0},\"line_color\":{\"value\":\"black\"},\"line_dash\":[4,4],\"line_width\":{\"value\":2},\"plot\":null,\"render_mode\":\"css\",\"right_units\":\"screen\",\"top_units\":\"screen\"},\"id\":\"87f20c92-c8b0-4f28-84cf-6878eb298ee8\",\"type\":\"BoxAnnotation\"},{\"attributes\":{\"formatter\":{\"id\":\"ca674550-0771-4bf4-ab50-4535f4efe334\",\"type\":\"BasicTickFormatter\"},\"plot\":{\"id\":\"6ae297fc-297f-4691-ae6c-a34743e3b2fb\",\"subtype\":\"Figure\",\"type\":\"Plot\"},\"ticker\":{\"id\":\"17122886-ce09-428b-b73c-6ba941199235\",\"type\":\"BasicTicker\"},\"visible\":null},\"id\":\"5bf9407c-d067-4d90-a40d-16e7f3e51a99\",\"type\":\"LinearAxis\"},{\"attributes\":{\"plot\":{\"id\":\"6ae297fc-297f-4691-ae6c-a34743e3b2fb\",\"subtype\":\"Figure\",\"type\":\"Plot\"}},\"id\":\"5193b77b-e8d2-4346-8c6a-6f4600e380c8\",\"type\":\"HelpTool\"},{\"attributes\":{\"below\":[{\"id\":\"acb51acb-144d-4386-926e-85577dbc903e\",\"type\":\"LinearAxis\"}],\"left\":[{\"id\":\"5bf9407c-d067-4d90-a40d-16e7f3e51a99\",\"type\":\"LinearAxis\"}],\"plot_width\":900,\"renderers\":[{\"id\":\"acb51acb-144d-4386-926e-85577dbc903e\",\"type\":\"LinearAxis\"},{\"id\":\"9a9511af-6b40-425f-850f-18db34d923f4\",\"type\":\"Grid\"},{\"id\":\"5bf9407c-d067-4d90-a40d-16e7f3e51a99\",\"type\":\"LinearAxis\"},{\"id\":\"58fafee8-8718-455f-b4cf-da3e00d9615b\",\"type\":\"Grid\"},{\"id\":\"87f20c92-c8b0-4f28-84cf-6878eb298ee8\",\"type\":\"BoxAnnotation\"},{\"id\":\"b2993c96-acb2-46a5-b5b5-8dbea44d5ec8\",\"type\":\"GlyphRenderer\"},{\"id\":\"30b038c9-4e98-48b0-b689-fe8faf75b7c7\",\"type\":\"GlyphRenderer\"},{\"id\":\"36f3abe2-72f0-4d9b-b343-3beaef9e42ec\",\"type\":\"LabelSet\"},{\"id\":\"01b0f731-06c0-4865-910b-7a20d867b831\",\"type\":\"GlyphRenderer\"},{\"id\":\"966f7b5c-d2b5-444e-a416-4298dd6b4d02\",\"type\":\"LabelSet\"}],\"title\":{\"id\":\"8425e4ba-28e2-47e0-a040-c99bdbbb056a\",\"type\":\"Title\"},\"tool_events\":{\"id\":\"9e39dfae-f8fe-4fe1-ae7b-6d9cfca2fb5e\",\"type\":\"ToolEvents\"},\"toolbar\":{\"id\":\"7ac63da1-3e37-4eff-85fa-a3adcb5f22f0\",\"type\":\"Toolbar\"},\"toolbar_location\":null,\"x_range\":{\"id\":\"e0b0f641-00f8-400f-8196-12c9f113d5e6\",\"type\":\"Range1d\"},\"y_range\":{\"id\":\"296761ca-c1d5-40cd-8e2f-65cca7feafe3\",\"type\":\"Range1d\"}},\"id\":\"6ae297fc-297f-4691-ae6c-a34743e3b2fb\",\"subtype\":\"Figure\",\"type\":\"Plot\"},{\"attributes\":{\"data_source\":{\"id\":\"b1c24449-21ce-43c8-b2c0-1fce31c1146f\",\"type\":\"ColumnDataSource\"},\"glyph\":{\"id\":\"8221f4fd-5a70-4805-bf8d-7064ff1d62a6\",\"type\":\"Quad\"},\"hover_glyph\":null,\"nonselection_glyph\":{\"id\":\"e12e2ddf-67da-494d-8b6c-830c6d794723\",\"type\":\"Quad\"},\"selection_glyph\":null},\"id\":\"b2993c96-acb2-46a5-b5b5-8dbea44d5ec8\",\"type\":\"GlyphRenderer\"},{\"attributes\":{\"callback\":null,\"end\":136786630,\"start\":135757320},\"id\":\"e0b0f641-00f8-400f-8196-12c9f113d5e6\",\"type\":\"Range1d\"},{\"attributes\":{\"level\":\"glyph\",\"plot\":{\"id\":\"6ae297fc-297f-4691-ae6c-a34743e3b2fb\",\"subtype\":\"Figure\",\"type\":\"Plot\"},\"source\":{\"id\":\"fa2d1fd9-5eea-4302-8e2a-f632f4931642\",\"type\":\"ColumnDataSource\"},\"text\":{\"field\":\"vals\"},\"text_font_size\":{\"value\":\"9pt\"},\"text_font_style\":\"bold\",\"x\":{\"field\":\"x\"},\"y\":{\"field\":\"y\"}},\"id\":\"36f3abe2-72f0-4d9b-b343-3beaef9e42ec\",\"type\":\"LabelSet\"},{\"attributes\":{\"bottom\":{\"field\":\"bottom\"},\"fill_alpha\":{\"value\":0.1},\"fill_color\":{\"value\":\"#1f77b4\"},\"left\":{\"field\":\"left\"},\"line_alpha\":{\"value\":0.1},\"line_color\":{\"value\":\"#1f77b4\"},\"right\":{\"field\":\"right\"},\"top\":{\"field\":\"top\"}},\"id\":\"e12e2ddf-67da-494d-8b6c-830c6d794723\",\"type\":\"Quad\"},{\"attributes\":{\"bottom\":{\"field\":\"bottom\"},\"fill_alpha\":{\"value\":0.1},\"fill_color\":{\"value\":\"#1f77b4\"},\"left\":{\"field\":\"left\"},\"line_alpha\":{\"value\":0.1},\"line_color\":{\"value\":\"#1f77b4\"},\"right\":{\"field\":\"right\"},\"top\":{\"field\":\"top\"}},\"id\":\"7cb884dd-f30b-4315-8456-8f96983e0199\",\"type\":\"Quad\"},{\"attributes\":{\"callback\":null,\"column_names\":[\"right\",\"bottom\",\"top\",\"left\",\"fill_color\"],\"data\":{\"bottom\":[450,50,350,50,150,350,250,450,150,250,450],\"fill_color\":[\"#808080\",\"#c4c461\",\"#c4c461\",\"#808080\",\"#808080\",\"#808080\",\"#808080\",\"#c46161\",\"#808080\",\"#808080\",\"#808080\"],\"left\":[135757320,135829592,136393658,136494985,136500475,136506375,136535876,136588031,136652491,136652953,136653925],\"right\":[135777504,136420908,136486342,136773638,136542560,136538939,136554890,136593678,136732772,136761175,136761853],\"top\":[496,91,394,90,193,394,294,496,192,294,495]}},\"id\":\"b1c24449-21ce-43c8-b2c0-1fce31c1146f\",\"type\":\"ColumnDataSource\"},{\"attributes\":{\"line_color\":{\"field\":\"line_color\"},\"xs\":{\"field\":\"xs\"},\"ys\":{\"field\":\"ys\"}},\"id\":\"00a68c2c-8d78-4cca-886d-c7994d64e67e\",\"type\":\"MultiLine\"},{\"attributes\":{\"level\":\"glyph\",\"plot\":{\"id\":\"6ae297fc-297f-4691-ae6c-a34743e3b2fb\",\"subtype\":\"Figure\",\"type\":\"Plot\"},\"source\":{\"id\":\"00d12df8-26af-4bbb-b7b6-9af9bd28167e\",\"type\":\"ColumnDataSource\"},\"text\":{\"field\":\"vals\"},\"text_align\":\"center\",\"text_baseline\":\"middle\",\"text_font_size\":{\"value\":\"8pt\"},\"x\":{\"field\":\"x\"},\"y\":{\"field\":\"y\"}},\"id\":\"966f7b5c-d2b5-444e-a416-4298dd6b4d02\",\"type\":\"LabelSet\"},{\"attributes\":{\"plot\":{\"id\":\"6ae297fc-297f-4691-ae6c-a34743e3b2fb\",\"subtype\":\"Figure\",\"type\":\"Plot\"},\"ticker\":{\"id\":\"35aa6da6-7729-407d-8243-d0d35e492d5e\",\"type\":\"BasicTicker\"}},\"id\":\"9a9511af-6b40-425f-850f-18db34d923f4\",\"type\":\"Grid\"},{\"attributes\":{\"callback\":null,\"column_names\":[\"y\",\"x\",\"vals\"],\"data\":{\"vals\":[\"13_1696\",\"9_944\",\"32_1361\",\"81_857\",\"13_1227\",\"4_1442\",\"7_1303\",\"7_1760\",\"6_1114\",\"5_1296\",\"24_1504\"],\"x\":[135757320,135829592,136393658,136494985,136500475,136506375,136535876,136588031,136652491,136652953,136653925],\"y\":[501.0,96.0,399.0,95.0,198.0,399.0,299.0,501.0,197.0,299.0,500.0]}},\"id\":\"fa2d1fd9-5eea-4302-8e2a-f632f4931642\",\"type\":\"ColumnDataSource\"},{\"attributes\":{\"callback\":null,\"column_names\":[\"y\",\"x\",\"vals\"],\"data\":{\"vals\":[\"RAB3GAP1\",\"ZRANB3\",\"R3HDM1\",\"UBXN4\",\"LCT\",\"MCM6\",\"DARS\"],\"x\":[135869057.0,136122878.0,136385961.0,136520911.0,136570082.5,136615621.5,136703738.0],\"y\":[560.0,560.0,560.0,560.0,560.0,560.0,560.0]}},\"id\":\"00d12df8-26af-4bbb-b7b6-9af9bd28167e\",\"type\":\"ColumnDataSource\"},{\"attributes\":{\"callback\":null,\"column_names\":[\"xs\",\"ys\",\"line_color\"],\"data\":{\"line_color\":[\"black\",\"black\",\"black\",\"black\",\"black\",\"black\",\"black\",\"black\",\"black\",\"black\",\"black\",\"black\",\"black\",\"black\",\"black\",\"black\",\"black\",\"black\",\"black\",\"black\",\"black\",\"black\",\"black\",\"black\",\"black\",\"black\",\"black\",\"black\",\"black\",\"black\",\"black\",\"black\",\"black\",\"black\",\"black\",\"black\",\"black\",\"black\",\"black\",\"black\",\"black\",\"black\",\"black\",\"black\",\"black\",\"black\",\"black\",\"black\",\"black\",\"black\",\"black\",\"black\",\"black\",\"black\",\"black\",\"black\",\"black\",\"black\",\"black\",\"black\",\"black\",\"black\",\"black\",\"black\",\"black\",\"black\",\"black\",\"black\",\"black\",\"black\",\"black\",\"black\",\"black\",\"black\",\"black\",\"black\",\"black\",\"black\",\"black\",\"black\",\"black\",\"black\",\"black\",\"black\",\"black\",\"black\",\"black\",\"black\",\"black\",\"black\",\"black\",\"black\",\"black\",\"black\",\"black\",\"black\",\"black\",\"black\",\"black\",\"black\",\"black\",\"black\",\"black\",\"black\",\"black\",\"black\",\"black\",\"black\",\"black\",\"black\",\"black\",\"black\",\"black\",\"black\",\"black\",\"black\",\"black\",\"black\",\"black\",\"black\",\"black\",\"black\",\"black\",\"black\",\"black\",\"black\",\"black\",\"black\",\"black\",\"black\",\"black\",\"black\",\"black\",\"black\",\"black\",\"black\",\"black\",\"black\",\"black\",\"black\",\"black\",\"black\",\"black\",\"black\",\"black\",\"black\",\"black\",\"black\",\"black\",\"black\",\"black\",\"black\",\"black\",\"black\",\"black\",\"black\",\"black\",\"black\",\"black\",\"black\",\"black\",\"black\",\"black\",\"black\",\"black\",\"black\",\"black\",\"black\",\"black\",\"black\",\"black\",\"black\",\"black\",\"black\",\"black\",\"black\",\"black\",\"black\",\"black\",\"black\",\"black\",\"black\",\"black\",\"black\",\"black\",\"black\",\"black\",\"black\",\"black\",\"black\",\"black\",\"black\",\"black\",\"black\",\"black\",\"black\",\"black\",\"black\",\"black\",\"black\",\"black\"],\"xs\":[[135757320,135757320],[135761078,135761078],[135761271,135761271],[135762344,135762344],[135762980,135762980],[135763280,135763280],[135768815,135768815],[135769093,135769093],[135769127,135769127],[135770940,135770940],[135770951,135770951],[135776728,135776728],[135777504,135777504],[135829592,135829592],[135893372,135893372],[135952405,135952405],[135989721,135989721],[136136056,136136056],[136313639,136313639],[136401418,136401418],[136407078,136407078],[136420908,136420908],[136393658,136393658],[136396300,136396300],[136401843,136401843],[136407445,136407445],[136411879,136411879],[136412270,136412270],[136413244,136413244],[136413847,136413847],[136415217,136415217],[136416533,136416533],[136420726,136420726],[136429857,136429857],[136433740,136433740],[136436317,136436317],[136437615,136437615],[136438517,136438517],[136440300,136440300],[136443900,136443900],[136444185,136444185],[136444338,136444338],[136449254,136449254],[136451676,136451676],[136459227,136459227],[136463117,136463117],[136463454,136463454],[136467119,136467119],[136468238,136468238],[136470219,136470219],[136483355,136483355],[136485276,136485276],[136486340,136486340],[136486342,136486342],[136494985,136494985],[136497199,136497199],[136511817,136511817],[136513670,136513670],[136515458,136515458],[136516970,136516970],[136525309,136525309],[136528034,136528034],[136532225,136532225],[136535235,136535235],[136536095,136536095],[136544423,136544423],[136546927,136546927],[136552188,136552188],[136552517,136552517],[136555525,136555525],[136556480,136556480],[136560464,136560464],[136572285,136572285],[136582694,136582694],[136582809,136582809],[136584538,136584538],[136585323,136585323],[136586825,136586825],[136600662,136600662],[136612036,136612036],[136618178,136618178],[136618507,136618507],[136622543,136622543],[136624947,136624947],[136625113,136625113],[136626078,136626078],[136628121,136628121],[136632300,136632300],[136633962,136633962],[136635343,136635343],[136638113,136638113],[136640101,136640101],[136641593,136641593],[136646582,136646582],[136648077,136648077],[136648883,136648883],[136652045,136652045],[136653848,136653848],[136656094,136656094],[136661110,136661110],[136663110,136663110],[136663605,136663605],[136665162,136665162],[136665711,136665711],[136668123,136668123],[136670419,136670419],[136672680,136672680],[136673546,136673546],[136684632,136684632],[136686114,136686114],[136690425,136690425],[136690783,136690783],[136692893,136692893],[136694905,136694905],[136695694,136695694],[136695705,136695705],[136696608,136696608],[136697372,136697372],[136697468,136697468],[136700024,136700024],[136701539,136701539],[136702118,136702118],[136707480,136707480],[136710554,136710554],[136714178,136714178],[136719173,136719173],[136725459,136725459],[136734569,136734569],[136744678,136744678],[136748779,136748779],[136751488,136751488],[136754183,136754183],[136763242,136763242],[136765074,136765074],[136773638,136773638],[136500475,136500475],[136501509,136501509],[136504101,136504101],[136509868,136509868],[136520043,136520043],[136527120,136527120],[136530379,136530379],[136530443,136530443],[136539330,136539330],[136539670,136539670],[136540083,136540083],[136542559,136542559],[136542560,136542560],[136506375,136506375],[136506927,136506927],[136510012,136510012],[136538939,136538939],[136535876,136535876],[136544651,136544651],[136545844,136545844],[136552526,136552526],[136553022,136553022],[136554797,136554797],[136554890,136554890],[136588031,136588031],[136589278,136589278],[136589379,136589379],[136589741,136589741],[136590746,136590746],[136593553,136593553],[136593678,136593678],[136652491,136652491],[136652524,136652524],[136661150,136661150],[136669264,136669264],[136726567,136726567],[136732772,136732772],[136652953,136652953],[136655582,136655582],[136674028,136674028],[136684940,136684940],[136761175,136761175],[136653925,136653925],[136654833,136654833],[136656534,136656534],[136656536,136656536],[136657252,136657252],[136667301,136667301],[136667487,136667487],[136672775,136672775],[136680534,136680534],[136686393,136686393],[136688749,136688749],[136692553,136692553],[136697371,136697371],[136708787,136708787],[136710372,136710372],[136711064,136711064],[136715324,136715324],[136723504,136723504],[136737460,136737460],[136743143,136743143],[136746224,136746224],[136751842,136751842],[136759379,136759379],[136761853,136761853]],\"ys\":[[450,496],[450,496],[450,496],[450,496],[450,496],[450,496],[450,496],[450,496],[450,496],[450,496],[450,496],[450,496],[450,496],[50,91],[50,91],[50,91],[50,91],[50,91],[50,91],[50,91],[50,91],[50,91],[350,394],[350,394],[350,394],[350,394],[350,394],[350,394],[350,394],[350,394],[350,394],[350,394],[350,394],[350,394],[350,394],[350,394],[350,394],[350,394],[350,394],[350,394],[350,394],[350,394],[350,394],[350,394],[350,394],[350,394],[350,394],[350,394],[350,394],[350,394],[350,394],[350,394],[350,394],[350,394],[50,90],[50,90],[50,90],[50,90],[50,90],[50,90],[50,90],[50,90],[50,90],[50,90],[50,90],[50,90],[50,90],[50,90],[50,90],[50,90],[50,90],[50,90],[50,90],[50,90],[50,90],[50,90],[50,90],[50,90],[50,90],[50,90],[50,90],[50,90],[50,90],[50,90],[50,90],[50,90],[50,90],[50,90],[50,90],[50,90],[50,90],[50,90],[50,90],[50,90],[50,90],[50,90],[50,90],[50,90],[50,90],[50,90],[50,90],[50,90],[50,90],[50,90],[50,90],[50,90],[50,90],[50,90],[50,90],[50,90],[50,90],[50,90],[50,90],[50,90],[50,90],[50,90],[50,90],[50,90],[50,90],[50,90],[50,90],[50,90],[50,90],[50,90],[50,90],[50,90],[50,90],[50,90],[50,90],[50,90],[50,90],[50,90],[50,90],[50,90],[50,90],[150,193],[150,193],[150,193],[150,193],[150,193],[150,193],[150,193],[150,193],[150,193],[150,193],[150,193],[150,193],[150,193],[350,394],[350,394],[350,394],[350,394],[250,294],[250,294],[250,294],[250,294],[250,294],[250,294],[250,294],[450,496],[450,496],[450,496],[450,496],[450,496],[450,496],[450,496],[150,192],[150,192],[150,192],[150,192],[150,192],[150,192],[250,294],[250,294],[250,294],[250,294],[250,294],[450,495],[450,495],[450,495],[450,495],[450,495],[450,495],[450,495],[450,495],[450,495],[450,495],[450,495],[450,495],[450,495],[450,495],[450,495],[450,495],[450,495],[450,495],[450,495],[450,495],[450,495],[450,495],[450,495],[450,495]]}},\"id\":\"14cef389-5374-438e-b425-08acc269cd28\",\"type\":\"ColumnDataSource\"},{\"attributes\":{\"bottom\":{\"field\":\"bottom\"},\"fill_color\":{\"field\":\"fill_color\"},\"left\":{\"field\":\"left\"},\"line_color\":{\"value\":null},\"right\":{\"field\":\"right\"},\"top\":{\"field\":\"top\"}},\"id\":\"8221f4fd-5a70-4805-bf8d-7064ff1d62a6\",\"type\":\"Quad\"},{\"attributes\":{\"active_drag\":\"auto\",\"active_scroll\":\"auto\",\"active_tap\":\"auto\",\"tools\":[{\"id\":\"4846d07a-83dc-43cc-bd15-9958c03380ce\",\"type\":\"PanTool\"},{\"id\":\"bd7fb3d9-cb59-4b77-a201-6d74d8878798\",\"type\":\"WheelZoomTool\"},{\"id\":\"65503932-71c8-4104-830e-aaf7be726f4d\",\"type\":\"BoxZoomTool\"},{\"id\":\"44174897-8b69-4c47-a199-9e8d6437809d\",\"type\":\"SaveTool\"},{\"id\":\"36b0edb4-b15b-43c4-8598-96d6906c4212\",\"type\":\"ResetTool\"},{\"id\":\"5193b77b-e8d2-4346-8c6a-6f4600e380c8\",\"type\":\"HelpTool\"}]},\"id\":\"7ac63da1-3e37-4eff-85fa-a3adcb5f22f0\",\"type\":\"Toolbar\"},{\"attributes\":{},\"id\":\"35aa6da6-7729-407d-8243-d0d35e492d5e\",\"type\":\"BasicTicker\"},{\"attributes\":{\"plot\":{\"id\":\"6ae297fc-297f-4691-ae6c-a34743e3b2fb\",\"subtype\":\"Figure\",\"type\":\"Plot\"}},\"id\":\"44174897-8b69-4c47-a199-9e8d6437809d\",\"type\":\"SaveTool\"},{\"attributes\":{\"bottom\":{\"field\":\"bottom\"},\"fill_color\":{\"value\":\"white\"},\"left\":{\"field\":\"left\"},\"right\":{\"field\":\"right\"},\"top\":{\"field\":\"top\"}},\"id\":\"79108832-48a3-413b-9978-6a21307f2048\",\"type\":\"Quad\"},{\"attributes\":{\"plot\":null,\"text\":null},\"id\":\"8425e4ba-28e2-47e0-a040-c99bdbbb056a\",\"type\":\"Title\"},{\"attributes\":{\"data_source\":{\"id\":\"14cef389-5374-438e-b425-08acc269cd28\",\"type\":\"ColumnDataSource\"},\"glyph\":{\"id\":\"00a68c2c-8d78-4cca-886d-c7994d64e67e\",\"type\":\"MultiLine\"},\"hover_glyph\":null,\"nonselection_glyph\":{\"id\":\"113ac123-42a7-4966-92f1-02d9f982aae2\",\"type\":\"MultiLine\"},\"selection_glyph\":null},\"id\":\"30b038c9-4e98-48b0-b689-fe8faf75b7c7\",\"type\":\"GlyphRenderer\"},{\"attributes\":{\"callback\":null,\"end\":600},\"id\":\"296761ca-c1d5-40cd-8e2f-65cca7feafe3\",\"type\":\"Range1d\"},{\"attributes\":{},\"id\":\"ca674550-0771-4bf4-ab50-4535f4efe334\",\"type\":\"BasicTickFormatter\"}],\"root_ids\":[\"6ae297fc-297f-4691-ae6c-a34743e3b2fb\"]},\"title\":\"Bokeh Application\",\"version\":\"0.12.0\"}};\n",
       "            var render_items = [{\"docid\":\"fd6a0acb-3d1e-47ba-b3ae-b602cd02c29b\",\"elementid\":\"6f4847d0-399b-4654-a0b5-3c12e722a114\",\"modelid\":\"6ae297fc-297f-4691-ae6c-a34743e3b2fb\",\"notebook_comms_target\":\"c764d28e-552d-4f10-a4f6-33380924eea7\"}];\n",
       "            \n",
       "            Bokeh.embed.embed_items(docs_json, render_items);\n",
       "        });\n",
       "      },\n",
       "      function(Bokeh) {\n",
       "      }\n",
       "    ];\n",
       "  \n",
       "    function run_inline_js() {\n",
       "      for (var i = 0; i < inline_js.length; i++) {\n",
       "        inline_js[i](window.Bokeh);\n",
       "      }\n",
       "    }\n",
       "  \n",
       "    if (window._bokeh_is_loading === 0) {\n",
       "      console.log(\"Bokeh: BokehJS loaded, going straight to plotting\");\n",
       "      run_inline_js();\n",
       "    } else {\n",
       "      load_libs(js_urls, function() {\n",
       "        console.log(\"Bokeh: BokehJS plotting callback run at\", now());\n",
       "        run_inline_js();\n",
       "      });\n",
       "    }\n",
       "  }(this));\n",
       "</script>"
      ]
     },
     "metadata": {},
     "output_type": "display_data"
    },
    {
     "data": {
      "text/html": [
       "<p><code>&lt;Bokeh Notebook handle for <strong>In[4]</strong>&gt;</code></p>"
      ],
      "text/plain": [
       "<bokeh.io._CommsHandle at 0x7f7c7ed1d110>"
      ]
     },
     "execution_count": 4,
     "metadata": {},
     "output_type": "execute_result"
    }
   ],
   "source": [
    "plt_obj = dm.superset_yes_no([dm.di_32_1361, dm.di_81_857], min_match=0.5)\n",
    "plt = plt_obj.do_plot()\n",
    "show(plt)"
   ]
  },
  {
   "cell_type": "code",
   "execution_count": 5,
   "metadata": {
    "collapsed": false
   },
   "outputs": [
    {
     "data": {
      "text/html": [
       "<table>\n",
       "<thead><tr><th style=\"text-align:center\">index</th><th style=\"text-align:center\">first</th><th style=\"text-align:center\">length</th><th style=\"text-align:center\">snps</th><th style=\"text-align:center\" colspan=2>alleles</th><th style=\"text-align:center\" colspan=2>matches</th><th style=\"text-align:center\" colspan=2>afr</th><th style=\"text-align:center\" colspan=2>afx</th><th style=\"text-align:center\" colspan=2>amr</th><th style=\"text-align:center\" colspan=2>eas</th><th style=\"text-align:center\" colspan=2>eur</th><th style=\"text-align:center\" colspan=2>sas</th><th style=\"text-align:center\" colspan=2>sax</th></tr></thead>\n",
       "<tr class=\"even\"><td style=\"text-align: right;\">354033</td><td style=\"text-align: right;\">136,588,031</td><td style=\"text-align: right;\">5,647</td><td style=\"text-align: right;\">7</td><td style=\"text-align: right;\">1760</td><td style=\"text-align: right;\">0.44</td><td style=\"text-align: right;\">780</td><td style=\"text-align: right;\">1.00</td><td style=\"text-align: right;\">125</td><td style=\"text-align: right;\">0.80</td><td style=\"text-align: right;\">31</td><td style=\"text-align: right;\">0.63</td><td style=\"text-align: right;\">131</td><td style=\"text-align: right;\">1.21</td><td style=\"text-align: right;\">154</td><td style=\"text-align: right;\">0.98</td><td style=\"text-align: right;\">169</td><td style=\"text-align: right;\">1.08</td><td style=\"text-align: right;\">56</td><td style=\"text-align: right;\">0.99</td><td style=\"text-align: right;\">114</td><td style=\"text-align: right;\">1.19</td></tr>\n",
       "<tr><td style=\"text-align: right;\">353240</td><td style=\"text-align: right;\">135,757,320</td><td style=\"text-align: right;\">20,184</td><td style=\"text-align: right;\">13</td><td style=\"text-align: right;\">1696</td><td style=\"text-align: right;\">0.40</td><td style=\"text-align: right;\">680</td><td style=\"text-align: right;\">0.87</td><td style=\"text-align: right;\">119</td><td style=\"text-align: right;\">0.87</td><td style=\"text-align: right;\">29</td><td style=\"text-align: right;\">0.68</td><td style=\"text-align: right;\">110</td><td style=\"text-align: right;\">1.17</td><td style=\"text-align: right;\">133</td><td style=\"text-align: right;\">0.97</td><td style=\"text-align: right;\">142</td><td style=\"text-align: right;\">1.04</td><td style=\"text-align: right;\">48</td><td style=\"text-align: right;\">0.97</td><td style=\"text-align: right;\">99</td><td style=\"text-align: right;\">1.19</td></tr>\n",
       "<tr class=\"even\"><td style=\"text-align: right;\">354130</td><td style=\"text-align: right;\">136,653,925</td><td style=\"text-align: right;\">107,928</td><td style=\"text-align: right;\">24</td><td style=\"text-align: right;\">1504</td><td style=\"text-align: right;\">0.52</td><td style=\"text-align: right;\">781</td><td style=\"text-align: right;\">1.00</td><td style=\"text-align: right;\">125</td><td style=\"text-align: right;\">0.80</td><td style=\"text-align: right;\">31</td><td style=\"text-align: right;\">0.63</td><td style=\"text-align: right;\">131</td><td style=\"text-align: right;\">1.21</td><td style=\"text-align: right;\">154</td><td style=\"text-align: right;\">0.98</td><td style=\"text-align: right;\">170</td><td style=\"text-align: right;\">1.08</td><td style=\"text-align: right;\">56</td><td style=\"text-align: right;\">0.99</td><td style=\"text-align: right;\">114</td><td style=\"text-align: right;\">1.19</td></tr>\n",
       "<tr><td style=\"text-align: right;\">353925</td><td style=\"text-align: right;\">136,506,375</td><td style=\"text-align: right;\">32,564</td><td style=\"text-align: right;\">4</td><td style=\"text-align: right;\">1442</td><td style=\"text-align: right;\">0.54</td><td style=\"text-align: right;\">781</td><td style=\"text-align: right;\">1.00</td><td style=\"text-align: right;\">125</td><td style=\"text-align: right;\">0.80</td><td style=\"text-align: right;\">31</td><td style=\"text-align: right;\">0.63</td><td style=\"text-align: right;\">131</td><td style=\"text-align: right;\">1.21</td><td style=\"text-align: right;\">154</td><td style=\"text-align: right;\">0.98</td><td style=\"text-align: right;\">170</td><td style=\"text-align: right;\">1.08</td><td style=\"text-align: right;\">56</td><td style=\"text-align: right;\">0.99</td><td style=\"text-align: right;\">114</td><td style=\"text-align: right;\">1.19</td></tr>\n",
       "<tr class=\"even\"><td style=\"text-align: right;\">353791</td><td style=\"text-align: right;\">136,393,658</td><td style=\"text-align: right;\">92,684</td><td style=\"text-align: right;\">32</td><td style=\"text-align: right;\">1361</td><td style=\"text-align: right;\">0.57</td><td style=\"text-align: right;\">781</td><td style=\"text-align: right;\">1.00</td><td style=\"text-align: right;\">125</td><td style=\"text-align: right;\">0.80</td><td style=\"text-align: right;\">31</td><td style=\"text-align: right;\">0.63</td><td style=\"text-align: right;\">131</td><td style=\"text-align: right;\">1.21</td><td style=\"text-align: right;\">154</td><td style=\"text-align: right;\">0.98</td><td style=\"text-align: right;\">170</td><td style=\"text-align: right;\">1.08</td><td style=\"text-align: right;\">56</td><td style=\"text-align: right;\">0.99</td><td style=\"text-align: right;\">114</td><td style=\"text-align: right;\">1.19</td></tr>\n",
       "<tr><td style=\"text-align: right;\">353958</td><td style=\"text-align: right;\">136,535,876</td><td style=\"text-align: right;\">19,014</td><td style=\"text-align: right;\">7</td><td style=\"text-align: right;\">1303</td><td style=\"text-align: right;\">0.60</td><td style=\"text-align: right;\">781</td><td style=\"text-align: right;\">1.00</td><td style=\"text-align: right;\">125</td><td style=\"text-align: right;\">0.80</td><td style=\"text-align: right;\">31</td><td style=\"text-align: right;\">0.63</td><td style=\"text-align: right;\">131</td><td style=\"text-align: right;\">1.21</td><td style=\"text-align: right;\">154</td><td style=\"text-align: right;\">0.98</td><td style=\"text-align: right;\">170</td><td style=\"text-align: right;\">1.08</td><td style=\"text-align: right;\">56</td><td style=\"text-align: right;\">0.99</td><td style=\"text-align: right;\">114</td><td style=\"text-align: right;\">1.19</td></tr>\n",
       "<tr class=\"even\"><td style=\"text-align: right;\">354129</td><td style=\"text-align: right;\">136,652,953</td><td style=\"text-align: right;\">108,222</td><td style=\"text-align: right;\">5</td><td style=\"text-align: right;\">1296</td><td style=\"text-align: right;\">0.60</td><td style=\"text-align: right;\">781</td><td style=\"text-align: right;\">1.00</td><td style=\"text-align: right;\">125</td><td style=\"text-align: right;\">0.80</td><td style=\"text-align: right;\">31</td><td style=\"text-align: right;\">0.63</td><td style=\"text-align: right;\">131</td><td style=\"text-align: right;\">1.21</td><td style=\"text-align: right;\">154</td><td style=\"text-align: right;\">0.98</td><td style=\"text-align: right;\">170</td><td style=\"text-align: right;\">1.08</td><td style=\"text-align: right;\">56</td><td style=\"text-align: right;\">0.99</td><td style=\"text-align: right;\">114</td><td style=\"text-align: right;\">1.19</td></tr>\n",
       "<tr><td style=\"text-align: right;\">353919</td><td style=\"text-align: right;\">136,500,475</td><td style=\"text-align: right;\">42,085</td><td style=\"text-align: right;\">13</td><td style=\"text-align: right;\">1227</td><td style=\"text-align: right;\">0.63</td><td style=\"text-align: right;\">774</td><td style=\"text-align: right;\">0.99</td><td style=\"text-align: right;\">124</td><td style=\"text-align: right;\">0.80</td><td style=\"text-align: right;\">31</td><td style=\"text-align: right;\">0.64</td><td style=\"text-align: right;\">129</td><td style=\"text-align: right;\">1.20</td><td style=\"text-align: right;\">154</td><td style=\"text-align: right;\">0.99</td><td style=\"text-align: right;\">170</td><td style=\"text-align: right;\">1.09</td><td style=\"text-align: right;\">55</td><td style=\"text-align: right;\">0.98</td><td style=\"text-align: right;\">111</td><td style=\"text-align: right;\">1.17</td></tr>\n",
       "<tr class=\"even\"><td style=\"text-align: right;\">354127</td><td style=\"text-align: right;\">136,652,491</td><td style=\"text-align: right;\">80,281</td><td style=\"text-align: right;\">6</td><td style=\"text-align: right;\">1114</td><td style=\"text-align: right;\">0.70</td><td style=\"text-align: right;\">780</td><td style=\"text-align: right;\">1.00</td><td style=\"text-align: right;\">124</td><td style=\"text-align: right;\">0.79</td><td style=\"text-align: right;\">31</td><td style=\"text-align: right;\">0.63</td><td style=\"text-align: right;\">131</td><td style=\"text-align: right;\">1.21</td><td style=\"text-align: right;\">154</td><td style=\"text-align: right;\">0.98</td><td style=\"text-align: right;\">170</td><td style=\"text-align: right;\">1.08</td><td style=\"text-align: right;\">56</td><td style=\"text-align: right;\">0.99</td><td style=\"text-align: right;\">114</td><td style=\"text-align: right;\">1.19</td></tr>\n",
       "<tr><td style=\"text-align: right;\">353372</td><td style=\"text-align: right;\">135,829,592</td><td style=\"text-align: right;\">591,316</td><td style=\"text-align: right;\">9</td><td style=\"text-align: right;\">944</td><td style=\"text-align: right;\">0.58</td><td style=\"text-align: right;\">546</td><td style=\"text-align: right;\">0.70</td><td style=\"text-align: right;\">17</td><td style=\"text-align: right;\">0.15</td><td style=\"text-align: right;\">4</td><td style=\"text-align: right;\">0.12</td><td style=\"text-align: right;\">103</td><td style=\"text-align: right;\">1.36</td><td style=\"text-align: right;\">131</td><td style=\"text-align: right;\">1.19</td><td style=\"text-align: right;\">142</td><td style=\"text-align: right;\">1.29</td><td style=\"text-align: right;\">49</td><td style=\"text-align: right;\">1.23</td><td style=\"text-align: right;\">100</td><td style=\"text-align: right;\">1.49</td></tr>\n",
       "<tr class=\"even\"><td style=\"text-align: right;\">353902</td><td style=\"text-align: right;\">136,494,985</td><td style=\"text-align: right;\">278,653</td><td style=\"text-align: right;\">81</td><td style=\"text-align: right;\">857</td><td style=\"text-align: right;\">0.91</td><td style=\"text-align: right;\">781</td><td style=\"text-align: right;\">1.00</td><td style=\"text-align: right;\">125</td><td style=\"text-align: right;\">0.80</td><td style=\"text-align: right;\">31</td><td style=\"text-align: right;\">0.63</td><td style=\"text-align: right;\">131</td><td style=\"text-align: right;\">1.21</td><td style=\"text-align: right;\">154</td><td style=\"text-align: right;\">0.98</td><td style=\"text-align: right;\">170</td><td style=\"text-align: right;\">1.08</td><td style=\"text-align: right;\">56</td><td style=\"text-align: right;\">0.99</td><td style=\"text-align: right;\">114</td><td style=\"text-align: right;\">1.19</td></tr>\n",
       "</table>"
      ],
      "text/plain": [
       "<IPython.core.display.HTML object>"
      ]
     },
     "execution_count": 5,
     "metadata": {},
     "output_type": "execute_result"
    }
   ],
   "source": [
    "HTML(plt_obj.get_html())"
   ]
  },
  {
   "cell_type": "markdown",
   "metadata": {},
   "source": [
    "<div style=\"width:700px\">\n",
    "<p>\n",
    "This plot shows the common series for samples that express 32_1361 and 64_1575.\n",
    "The 355 samples that express both series represent a large overexpression for\n",
    "a recombinant assoication of series from the EAS and EUR tree roots.\n",
    "After 11_765, 5_684 is the second most overexpressed series of SNPs to have emerged in\n",
    "the studied region during the expansion out of Africa.  The 320 samples that express\n",
    "these series in association with 5_684 are a large part of that overexpression.\n",
    "</div>"
   ]
  },
  {
   "cell_type": "code",
   "execution_count": 6,
   "metadata": {
    "collapsed": false
   },
   "outputs": [
    {
     "data": {
      "text/html": [
       "\n",
       "\n",
       "    <div class=\"bk-root\">\n",
       "        <div class=\"plotdiv\" id=\"8ac638ad-8290-44f5-b4af-15ab4babbabc\"></div>\n",
       "    </div>\n",
       "<script type=\"text/javascript\">\n",
       "  \n",
       "  (function(global) {\n",
       "    function now() {\n",
       "      return new Date();\n",
       "    }\n",
       "  \n",
       "    if (typeof (window._bokeh_onload_callbacks) === \"undefined\") {\n",
       "      window._bokeh_onload_callbacks = [];\n",
       "    }\n",
       "  \n",
       "    function run_callbacks() {\n",
       "      window._bokeh_onload_callbacks.forEach(function(callback) { callback() });\n",
       "      delete window._bokeh_onload_callbacks\n",
       "      console.info(\"Bokeh: all callbacks have finished\");\n",
       "    }\n",
       "  \n",
       "    function load_libs(js_urls, callback) {\n",
       "      window._bokeh_onload_callbacks.push(callback);\n",
       "      if (window._bokeh_is_loading > 0) {\n",
       "        console.log(\"Bokeh: BokehJS is being loaded, scheduling callback at\", now());\n",
       "        return null;\n",
       "      }\n",
       "      if (js_urls == null || js_urls.length === 0) {\n",
       "        run_callbacks();\n",
       "        return null;\n",
       "      }\n",
       "      console.log(\"Bokeh: BokehJS not loaded, scheduling load and callback at\", now());\n",
       "      window._bokeh_is_loading = js_urls.length;\n",
       "      for (var i = 0; i < js_urls.length; i++) {\n",
       "        var url = js_urls[i];\n",
       "        var s = document.createElement('script');\n",
       "        s.src = url;\n",
       "        s.async = false;\n",
       "        s.onreadystatechange = s.onload = function() {\n",
       "          window._bokeh_is_loading--;\n",
       "          if (window._bokeh_is_loading === 0) {\n",
       "            console.log(\"Bokeh: all BokehJS libraries loaded\");\n",
       "            run_callbacks()\n",
       "          }\n",
       "        };\n",
       "        s.onerror = function() {\n",
       "          console.warn(\"failed to load library \" + url);\n",
       "        };\n",
       "        console.log(\"Bokeh: injecting script tag for BokehJS library: \", url);\n",
       "        document.getElementsByTagName(\"head\")[0].appendChild(s);\n",
       "      }\n",
       "    };var element = document.getElementById(\"8ac638ad-8290-44f5-b4af-15ab4babbabc\");\n",
       "    if (element == null) {\n",
       "      console.log(\"Bokeh: ERROR: autoload.js configured with elementid '8ac638ad-8290-44f5-b4af-15ab4babbabc' but no matching script tag was found. \")\n",
       "      return false;\n",
       "    }\n",
       "  \n",
       "    var js_urls = [];\n",
       "  \n",
       "    var inline_js = [\n",
       "      function(Bokeh) {\n",
       "        Bokeh.$(function() {\n",
       "            var docs_json = {\"3fcc39bc-7e24-45ed-9ab4-021f62a656d5\":{\"roots\":{\"references\":[{\"attributes\":{\"plot\":{\"id\":\"d6eb6b0b-9966-4569-b558-cb2845b56cd4\",\"subtype\":\"Figure\",\"type\":\"Plot\"}},\"id\":\"4ec9bd5a-9216-4ef3-a48c-7eaafe0388ba\",\"type\":\"SaveTool\"},{\"attributes\":{\"bottom\":{\"field\":\"bottom\"},\"fill_alpha\":{\"value\":0.1},\"fill_color\":{\"value\":\"#1f77b4\"},\"left\":{\"field\":\"left\"},\"line_alpha\":{\"value\":0.1},\"line_color\":{\"value\":\"#1f77b4\"},\"right\":{\"field\":\"right\"},\"top\":{\"field\":\"top\"}},\"id\":\"a0153ae0-3df1-4218-8841-6d84b64464e9\",\"type\":\"Quad\"},{\"attributes\":{\"data_source\":{\"id\":\"6988666d-4bf4-4aa1-8de9-a219dd0fc529\",\"type\":\"ColumnDataSource\"},\"glyph\":{\"id\":\"68dd44a0-40ea-4ffe-b7e1-b21206837fef\",\"type\":\"Quad\"},\"hover_glyph\":null,\"nonselection_glyph\":{\"id\":\"a79790b3-638d-4d7d-b206-3ff448e0387e\",\"type\":\"Quad\"},\"selection_glyph\":null},\"id\":\"6ceb39a9-e072-4599-984b-102c244749cd\",\"type\":\"GlyphRenderer\"},{\"attributes\":{\"callback\":null,\"end\":136786630,\"start\":135757320},\"id\":\"1fee3000-98df-4c47-9188-3dcc2655a375\",\"type\":\"Range1d\"},{\"attributes\":{\"data_source\":{\"id\":\"44f8ead3-5c80-4c10-a8d2-91e11d65e50d\",\"type\":\"ColumnDataSource\"},\"glyph\":{\"id\":\"7093f8cd-57e0-4d13-953b-b5d8a7d45a0d\",\"type\":\"Quad\"},\"hover_glyph\":null,\"nonselection_glyph\":{\"id\":\"a0153ae0-3df1-4218-8841-6d84b64464e9\",\"type\":\"Quad\"},\"selection_glyph\":null},\"id\":\"1a6ff4d7-b95c-45c4-876f-94eea11f0fd2\",\"type\":\"GlyphRenderer\"},{\"attributes\":{\"plot\":null,\"text\":null},\"id\":\"0395b2da-ab63-4c6f-be49-9ff1a036c254\",\"type\":\"Title\"},{\"attributes\":{\"callback\":null,\"end\":500},\"id\":\"69d7c53b-0f87-4754-844c-d05db3d3a1b8\",\"type\":\"Range1d\"},{\"attributes\":{},\"id\":\"c5c5caf4-3dcd-41d7-85cb-1b7e90c74d18\",\"type\":\"BasicTicker\"},{\"attributes\":{\"formatter\":{\"id\":\"26b87842-2dfc-4a35-8921-b960b40f678a\",\"type\":\"BasicTickFormatter\"},\"plot\":{\"id\":\"d6eb6b0b-9966-4569-b558-cb2845b56cd4\",\"subtype\":\"Figure\",\"type\":\"Plot\"},\"ticker\":{\"id\":\"c5c5caf4-3dcd-41d7-85cb-1b7e90c74d18\",\"type\":\"BasicTicker\"},\"visible\":null},\"id\":\"62796671-dd83-488d-9409-25bd1dc81fb7\",\"type\":\"LinearAxis\"},{\"attributes\":{\"formatter\":{\"id\":\"6fa9a864-daeb-4a6a-ba78-fd767c75b46f\",\"type\":\"BasicTickFormatter\"},\"plot\":{\"id\":\"d6eb6b0b-9966-4569-b558-cb2845b56cd4\",\"subtype\":\"Figure\",\"type\":\"Plot\"},\"ticker\":{\"id\":\"b0230f73-b5e0-4c79-b034-2a6324a92118\",\"type\":\"BasicTicker\"}},\"id\":\"6bc2b7ac-dcd7-459c-b621-ae425dfb529b\",\"type\":\"LinearAxis\"},{\"attributes\":{\"callback\":null,\"column_names\":[\"y\",\"x\",\"vals\"],\"data\":{\"vals\":[\"13_1696\",\"9_944\",\"5_684\",\"32_1361\",\"64_1575\",\"10_2206\",\"7_1868\"],\"x\":[135757320,135829592,135959272,136393658,136494186,136501840,136682274],\"y\":[301.0,196.0,93.0,299.0,300.0,403.0,402.0]}},\"id\":\"6fcb52a5-9b37-44b4-9ae3-2a9d8176546d\",\"type\":\"ColumnDataSource\"},{\"attributes\":{\"below\":[{\"id\":\"6bc2b7ac-dcd7-459c-b621-ae425dfb529b\",\"type\":\"LinearAxis\"}],\"left\":[{\"id\":\"62796671-dd83-488d-9409-25bd1dc81fb7\",\"type\":\"LinearAxis\"}],\"plot_height\":500,\"plot_width\":900,\"renderers\":[{\"id\":\"6bc2b7ac-dcd7-459c-b621-ae425dfb529b\",\"type\":\"LinearAxis\"},{\"id\":\"7b3f83f5-7835-4d97-8441-dc599ed99837\",\"type\":\"Grid\"},{\"id\":\"62796671-dd83-488d-9409-25bd1dc81fb7\",\"type\":\"LinearAxis\"},{\"id\":\"020b48fe-0fa8-48e6-929c-c2b514f4d27d\",\"type\":\"Grid\"},{\"id\":\"7c17a92a-93b5-4eb4-8881-0e90c7c696c0\",\"type\":\"BoxAnnotation\"},{\"id\":\"1a6ff4d7-b95c-45c4-876f-94eea11f0fd2\",\"type\":\"GlyphRenderer\"},{\"id\":\"040c78b3-a57c-45d1-8363-bd0c03db3e7c\",\"type\":\"GlyphRenderer\"},{\"id\":\"fc18aa4e-7e99-4434-a0e5-67b99a5a5b83\",\"type\":\"LabelSet\"},{\"id\":\"6ceb39a9-e072-4599-984b-102c244749cd\",\"type\":\"GlyphRenderer\"},{\"id\":\"6b82bd64-b88c-4de1-849c-86ec8f3850bb\",\"type\":\"LabelSet\"}],\"title\":{\"id\":\"0395b2da-ab63-4c6f-be49-9ff1a036c254\",\"type\":\"Title\"},\"tool_events\":{\"id\":\"e3023b4e-8d49-4cf6-ad4f-2f652685ea8e\",\"type\":\"ToolEvents\"},\"toolbar\":{\"id\":\"01bad6a9-e503-4147-a5e9-b634edaa81de\",\"type\":\"Toolbar\"},\"toolbar_location\":null,\"x_range\":{\"id\":\"1fee3000-98df-4c47-9188-3dcc2655a375\",\"type\":\"Range1d\"},\"y_range\":{\"id\":\"69d7c53b-0f87-4754-844c-d05db3d3a1b8\",\"type\":\"Range1d\"}},\"id\":\"d6eb6b0b-9966-4569-b558-cb2845b56cd4\",\"subtype\":\"Figure\",\"type\":\"Plot\"},{\"attributes\":{\"plot\":{\"id\":\"d6eb6b0b-9966-4569-b558-cb2845b56cd4\",\"subtype\":\"Figure\",\"type\":\"Plot\"}},\"id\":\"660b4e97-edda-4f08-8047-dd620349dd67\",\"type\":\"HelpTool\"},{\"attributes\":{},\"id\":\"b0230f73-b5e0-4c79-b034-2a6324a92118\",\"type\":\"BasicTicker\"},{\"attributes\":{\"plot\":{\"id\":\"d6eb6b0b-9966-4569-b558-cb2845b56cd4\",\"subtype\":\"Figure\",\"type\":\"Plot\"}},\"id\":\"bb3657bd-c186-4970-a953-a290a8895b2b\",\"type\":\"ResetTool\"},{\"attributes\":{},\"id\":\"6fa9a864-daeb-4a6a-ba78-fd767c75b46f\",\"type\":\"BasicTickFormatter\"},{\"attributes\":{\"callback\":null,\"column_names\":[\"y\",\"x\",\"vals\"],\"data\":{\"vals\":[\"RAB3GAP1\",\"ZRANB3\",\"R3HDM1\",\"UBXN4\",\"LCT\",\"MCM6\",\"DARS\"],\"x\":[135869057.0,136122878.0,136385961.0,136520911.0,136570082.5,136615621.5,136703738.0],\"y\":[460.0,460.0,460.0,460.0,460.0,460.0,460.0]}},\"id\":\"0e6359bd-f67f-471c-8ee0-03031efddf1b\",\"type\":\"ColumnDataSource\"},{\"attributes\":{\"dimension\":1,\"plot\":{\"id\":\"d6eb6b0b-9966-4569-b558-cb2845b56cd4\",\"subtype\":\"Figure\",\"type\":\"Plot\"},\"ticker\":{\"id\":\"c5c5caf4-3dcd-41d7-85cb-1b7e90c74d18\",\"type\":\"BasicTicker\"}},\"id\":\"020b48fe-0fa8-48e6-929c-c2b514f4d27d\",\"type\":\"Grid\"},{\"attributes\":{\"plot\":{\"id\":\"d6eb6b0b-9966-4569-b558-cb2845b56cd4\",\"subtype\":\"Figure\",\"type\":\"Plot\"},\"ticker\":{\"id\":\"b0230f73-b5e0-4c79-b034-2a6324a92118\",\"type\":\"BasicTicker\"}},\"id\":\"7b3f83f5-7835-4d97-8441-dc599ed99837\",\"type\":\"Grid\"},{\"attributes\":{\"bottom_units\":\"screen\",\"fill_alpha\":{\"value\":0.5},\"fill_color\":{\"value\":\"lightgrey\"},\"left_units\":\"screen\",\"level\":\"overlay\",\"line_alpha\":{\"value\":1.0},\"line_color\":{\"value\":\"black\"},\"line_dash\":[4,4],\"line_width\":{\"value\":2},\"plot\":null,\"render_mode\":\"css\",\"right_units\":\"screen\",\"top_units\":\"screen\"},\"id\":\"7c17a92a-93b5-4eb4-8881-0e90c7c696c0\",\"type\":\"BoxAnnotation\"},{\"attributes\":{},\"id\":\"e3023b4e-8d49-4cf6-ad4f-2f652685ea8e\",\"type\":\"ToolEvents\"},{\"attributes\":{\"level\":\"glyph\",\"plot\":{\"id\":\"d6eb6b0b-9966-4569-b558-cb2845b56cd4\",\"subtype\":\"Figure\",\"type\":\"Plot\"},\"source\":{\"id\":\"0e6359bd-f67f-471c-8ee0-03031efddf1b\",\"type\":\"ColumnDataSource\"},\"text\":{\"field\":\"vals\"},\"text_align\":\"center\",\"text_baseline\":\"middle\",\"text_font_size\":{\"value\":\"8pt\"},\"x\":{\"field\":\"x\"},\"y\":{\"field\":\"y\"}},\"id\":\"6b82bd64-b88c-4de1-849c-86ec8f3850bb\",\"type\":\"LabelSet\"},{\"attributes\":{\"plot\":{\"id\":\"d6eb6b0b-9966-4569-b558-cb2845b56cd4\",\"subtype\":\"Figure\",\"type\":\"Plot\"}},\"id\":\"dc32fe1c-5d60-43cd-b7f2-4618b10478ec\",\"type\":\"PanTool\"},{\"attributes\":{\"line_color\":{\"field\":\"line_color\"},\"xs\":{\"field\":\"xs\"},\"ys\":{\"field\":\"ys\"}},\"id\":\"84e1f79b-bf6c-4076-8e4c-77116cfc2e3b\",\"type\":\"MultiLine\"},{\"attributes\":{\"active_drag\":\"auto\",\"active_scroll\":\"auto\",\"active_tap\":\"auto\",\"tools\":[{\"id\":\"dc32fe1c-5d60-43cd-b7f2-4618b10478ec\",\"type\":\"PanTool\"},{\"id\":\"d42873d6-6d16-4005-bf80-f4485f363b75\",\"type\":\"WheelZoomTool\"},{\"id\":\"4b1a5e32-78dd-4e22-9ae2-9257dbce392c\",\"type\":\"BoxZoomTool\"},{\"id\":\"4ec9bd5a-9216-4ef3-a48c-7eaafe0388ba\",\"type\":\"SaveTool\"},{\"id\":\"bb3657bd-c186-4970-a953-a290a8895b2b\",\"type\":\"ResetTool\"},{\"id\":\"660b4e97-edda-4f08-8047-dd620349dd67\",\"type\":\"HelpTool\"}]},\"id\":\"01bad6a9-e503-4147-a5e9-b634edaa81de\",\"type\":\"Toolbar\"},{\"attributes\":{\"line_alpha\":{\"value\":0.1},\"line_color\":{\"value\":\"#1f77b4\"},\"xs\":{\"field\":\"xs\"},\"ys\":{\"field\":\"ys\"}},\"id\":\"34d58248-dd61-4b2e-bbdc-f9c75fed5c09\",\"type\":\"MultiLine\"},{\"attributes\":{\"callback\":null,\"column_names\":[\"xs\",\"ys\",\"line_color\"],\"data\":{\"line_color\":[\"black\",\"black\",\"black\",\"black\",\"black\",\"black\",\"black\",\"black\",\"black\",\"black\",\"black\",\"black\",\"black\",\"black\",\"black\",\"black\",\"black\",\"black\",\"black\",\"black\",\"black\",\"black\",\"black\",\"black\",\"black\",\"black\",\"black\",\"black\",\"black\",\"black\",\"black\",\"black\",\"black\",\"black\",\"black\",\"black\",\"black\",\"black\",\"black\",\"black\",\"black\",\"black\",\"black\",\"black\",\"black\",\"black\",\"black\",\"black\",\"black\",\"black\",\"black\",\"black\",\"black\",\"black\",\"black\",\"black\",\"black\",\"black\",\"black\",\"black\",\"black\",\"black\",\"black\",\"black\",\"black\",\"black\",\"black\",\"black\",\"black\",\"black\",\"black\",\"black\",\"black\",\"black\",\"black\",\"black\",\"black\",\"black\",\"black\",\"black\",\"black\",\"black\",\"black\",\"black\",\"black\",\"black\",\"black\",\"black\",\"black\",\"black\",\"black\",\"black\",\"black\",\"black\",\"black\",\"black\",\"black\",\"black\",\"black\",\"black\",\"black\",\"black\",\"black\",\"black\",\"black\",\"black\",\"black\",\"black\",\"black\",\"black\",\"black\",\"black\",\"black\",\"black\",\"black\",\"black\",\"black\",\"black\",\"black\",\"black\",\"black\",\"black\",\"black\",\"black\",\"black\",\"black\",\"black\",\"black\",\"black\",\"black\",\"black\",\"black\",\"black\",\"black\",\"black\",\"black\",\"black\",\"black\",\"black\",\"black\"],\"xs\":[[135757320,135757320],[135761078,135761078],[135761271,135761271],[135762344,135762344],[135762980,135762980],[135763280,135763280],[135768815,135768815],[135769093,135769093],[135769127,135769127],[135770940,135770940],[135770951,135770951],[135776728,135776728],[135777504,135777504],[135829592,135829592],[135893372,135893372],[135952405,135952405],[135989721,135989721],[136136056,136136056],[136313639,136313639],[136401418,136401418],[136407078,136407078],[136420908,136420908],[135959272,135959272],[136149550,136149550],[136164840,136164840],[136313885,136313885],[136375855,136375855],[136393658,136393658],[136396300,136396300],[136401843,136401843],[136407445,136407445],[136411879,136411879],[136412270,136412270],[136413244,136413244],[136413847,136413847],[136415217,136415217],[136416533,136416533],[136420726,136420726],[136429857,136429857],[136433740,136433740],[136436317,136436317],[136437615,136437615],[136438517,136438517],[136440300,136440300],[136443900,136443900],[136444185,136444185],[136444338,136444338],[136449254,136449254],[136451676,136451676],[136459227,136459227],[136463117,136463117],[136463454,136463454],[136467119,136467119],[136468238,136468238],[136470219,136470219],[136483355,136483355],[136485276,136485276],[136486340,136486340],[136486342,136486342],[136494186,136494186],[136495300,136495300],[136495619,136495619],[136499166,136499166],[136502792,136502792],[136503157,136503157],[136507039,136507039],[136511575,136511575],[136518103,136518103],[136521514,136521514],[136522675,136522675],[136522941,136522941],[136526981,136526981],[136535410,136535410],[136539122,136539122],[136544197,136544197],[136550109,136550109],[136551694,136551694],[136553188,136553188],[136553639,136553639],[136554800,136554800],[136557319,136557319],[136558157,136558157],[136569848,136569848],[136575199,136575199],[136576577,136576577],[136578536,136578536],[136580287,136580287],[136583192,136583192],[136586958,136586958],[136588478,136588478],[136589612,136589612],[136591178,136591178],[136591859,136591859],[136593760,136593760],[136594158,136594158],[136603276,136603276],[136603366,136603366],[136608231,136608231],[136609975,136609975],[136610598,136610598],[136611624,136611624],[136613780,136613780],[136614255,136614255],[136614813,136614813],[136617524,136617524],[136622216,136622216],[136625602,136625602],[136629911,136629911],[136630757,136630757],[136630989,136630989],[136631031,136631031],[136633771,136633771],[136636324,136636324],[136638216,136638216],[136640233,136640233],[136641882,136641882],[136643555,136643555],[136658345,136658345],[136670298,136670298],[136685228,136685228],[136696138,136696138],[136740900,136740900],[136765951,136765951],[136501840,136501840],[136505546,136505546],[136516748,136516748],[136522710,136522710],[136528004,136528004],[136539513,136539513],[136544752,136544752],[136546110,136546110],[136553529,136553529],[136555659,136555659],[136682274,136682274],[136691825,136691825],[136698098,136698098],[136721603,136721603],[136721995,136721995],[136755684,136755684],[136775898,136775898]],\"ys\":[[250,296],[250,296],[250,296],[250,296],[250,296],[250,296],[250,296],[250,296],[250,296],[250,296],[250,296],[250,296],[250,296],[150,191],[150,191],[150,191],[150,191],[150,191],[150,191],[150,191],[150,191],[150,191],[50,88],[50,88],[50,88],[50,88],[50,88],[250,294],[250,294],[250,294],[250,294],[250,294],[250,294],[250,294],[250,294],[250,294],[250,294],[250,294],[250,294],[250,294],[250,294],[250,294],[250,294],[250,294],[250,294],[250,294],[250,294],[250,294],[250,294],[250,294],[250,294],[250,294],[250,294],[250,294],[250,294],[250,294],[250,294],[250,294],[250,294],[250,295],[250,295],[250,295],[250,295],[250,295],[250,295],[250,295],[250,295],[250,295],[250,295],[250,295],[250,295],[250,295],[250,295],[250,295],[250,295],[250,295],[250,295],[250,295],[250,295],[250,295],[250,295],[250,295],[250,295],[250,295],[250,295],[250,295],[250,295],[250,295],[250,295],[250,295],[250,295],[250,295],[250,295],[250,295],[250,295],[250,295],[250,295],[250,295],[250,295],[250,295],[250,295],[250,295],[250,295],[250,295],[250,295],[250,295],[250,295],[250,295],[250,295],[250,295],[250,295],[250,295],[250,295],[250,295],[250,295],[250,295],[250,295],[250,295],[250,295],[250,295],[250,295],[250,295],[250,295],[350,398],[350,398],[350,398],[350,398],[350,398],[350,398],[350,398],[350,398],[350,398],[350,398],[350,397],[350,397],[350,397],[350,397],[350,397],[350,397],[350,397]]}},\"id\":\"482da4c7-3bbe-4d77-84bd-92ebf78320ca\",\"type\":\"ColumnDataSource\"},{\"attributes\":{\"plot\":{\"id\":\"d6eb6b0b-9966-4569-b558-cb2845b56cd4\",\"subtype\":\"Figure\",\"type\":\"Plot\"}},\"id\":\"d42873d6-6d16-4005-bf80-f4485f363b75\",\"type\":\"WheelZoomTool\"},{\"attributes\":{\"callback\":null,\"column_names\":[\"right\",\"bottom\",\"top\",\"left\"],\"data\":{\"bottom\":[445,445,445,445,445,445,445],\"left\":[135809835,135957574,136289083,136499189,136545415,136597196,136664254],\"right\":[135928279,136288182,136482839,136542633,136594750,136634047,136743222],\"top\":[475,475,475,475,475,475,475]}},\"id\":\"6988666d-4bf4-4aa1-8de9-a219dd0fc529\",\"type\":\"ColumnDataSource\"},{\"attributes\":{\"overlay\":{\"id\":\"7c17a92a-93b5-4eb4-8881-0e90c7c696c0\",\"type\":\"BoxAnnotation\"},\"plot\":{\"id\":\"d6eb6b0b-9966-4569-b558-cb2845b56cd4\",\"subtype\":\"Figure\",\"type\":\"Plot\"}},\"id\":\"4b1a5e32-78dd-4e22-9ae2-9257dbce392c\",\"type\":\"BoxZoomTool\"},{\"attributes\":{\"callback\":null,\"column_names\":[\"right\",\"bottom\",\"top\",\"left\",\"fill_color\"],\"data\":{\"bottom\":[250,150,50,250,250,350,350],\"fill_color\":[\"#808080\",\"#c4c461\",\"#ffff00\",\"#c4c461\",\"#61c461\",\"#808080\",\"#61c461\"],\"left\":[135757320,135829592,135959272,136393658,136494186,136501840,136682274],\"right\":[135777504,136420908,136375855,136486342,136765951,136555659,136775898],\"top\":[296,191,88,294,295,398,397]}},\"id\":\"44f8ead3-5c80-4c10-a8d2-91e11d65e50d\",\"type\":\"ColumnDataSource\"},{\"attributes\":{\"bottom\":{\"field\":\"bottom\"},\"fill_color\":{\"value\":\"white\"},\"left\":{\"field\":\"left\"},\"right\":{\"field\":\"right\"},\"top\":{\"field\":\"top\"}},\"id\":\"68dd44a0-40ea-4ffe-b7e1-b21206837fef\",\"type\":\"Quad\"},{\"attributes\":{\"bottom\":{\"field\":\"bottom\"},\"fill_color\":{\"field\":\"fill_color\"},\"left\":{\"field\":\"left\"},\"line_color\":{\"value\":null},\"right\":{\"field\":\"right\"},\"top\":{\"field\":\"top\"}},\"id\":\"7093f8cd-57e0-4d13-953b-b5d8a7d45a0d\",\"type\":\"Quad\"},{\"attributes\":{\"level\":\"glyph\",\"plot\":{\"id\":\"d6eb6b0b-9966-4569-b558-cb2845b56cd4\",\"subtype\":\"Figure\",\"type\":\"Plot\"},\"source\":{\"id\":\"6fcb52a5-9b37-44b4-9ae3-2a9d8176546d\",\"type\":\"ColumnDataSource\"},\"text\":{\"field\":\"vals\"},\"text_font_size\":{\"value\":\"9pt\"},\"text_font_style\":\"bold\",\"x\":{\"field\":\"x\"},\"y\":{\"field\":\"y\"}},\"id\":\"fc18aa4e-7e99-4434-a0e5-67b99a5a5b83\",\"type\":\"LabelSet\"},{\"attributes\":{},\"id\":\"26b87842-2dfc-4a35-8921-b960b40f678a\",\"type\":\"BasicTickFormatter\"},{\"attributes\":{\"bottom\":{\"field\":\"bottom\"},\"fill_alpha\":{\"value\":0.1},\"fill_color\":{\"value\":\"#1f77b4\"},\"left\":{\"field\":\"left\"},\"line_alpha\":{\"value\":0.1},\"line_color\":{\"value\":\"#1f77b4\"},\"right\":{\"field\":\"right\"},\"top\":{\"field\":\"top\"}},\"id\":\"a79790b3-638d-4d7d-b206-3ff448e0387e\",\"type\":\"Quad\"},{\"attributes\":{\"data_source\":{\"id\":\"482da4c7-3bbe-4d77-84bd-92ebf78320ca\",\"type\":\"ColumnDataSource\"},\"glyph\":{\"id\":\"84e1f79b-bf6c-4076-8e4c-77116cfc2e3b\",\"type\":\"MultiLine\"},\"hover_glyph\":null,\"nonselection_glyph\":{\"id\":\"34d58248-dd61-4b2e-bbdc-f9c75fed5c09\",\"type\":\"MultiLine\"},\"selection_glyph\":null},\"id\":\"040c78b3-a57c-45d1-8363-bd0c03db3e7c\",\"type\":\"GlyphRenderer\"}],\"root_ids\":[\"d6eb6b0b-9966-4569-b558-cb2845b56cd4\"]},\"title\":\"Bokeh Application\",\"version\":\"0.12.0\"}};\n",
       "            var render_items = [{\"docid\":\"3fcc39bc-7e24-45ed-9ab4-021f62a656d5\",\"elementid\":\"8ac638ad-8290-44f5-b4af-15ab4babbabc\",\"modelid\":\"d6eb6b0b-9966-4569-b558-cb2845b56cd4\",\"notebook_comms_target\":\"2c53a1ed-0c02-49b7-9a03-5afe9ca2a946\"}];\n",
       "            \n",
       "            Bokeh.embed.embed_items(docs_json, render_items);\n",
       "        });\n",
       "      },\n",
       "      function(Bokeh) {\n",
       "      }\n",
       "    ];\n",
       "  \n",
       "    function run_inline_js() {\n",
       "      for (var i = 0; i < inline_js.length; i++) {\n",
       "        inline_js[i](window.Bokeh);\n",
       "      }\n",
       "    }\n",
       "  \n",
       "    if (window._bokeh_is_loading === 0) {\n",
       "      console.log(\"Bokeh: BokehJS loaded, going straight to plotting\");\n",
       "      run_inline_js();\n",
       "    } else {\n",
       "      load_libs(js_urls, function() {\n",
       "        console.log(\"Bokeh: BokehJS plotting callback run at\", now());\n",
       "        run_inline_js();\n",
       "      });\n",
       "    }\n",
       "  }(this));\n",
       "</script>"
      ]
     },
     "metadata": {},
     "output_type": "display_data"
    },
    {
     "data": {
      "text/html": [
       "<p><code>&lt;Bokeh Notebook handle for <strong>In[6]</strong>&gt;</code></p>"
      ],
      "text/plain": [
       "<bokeh.io._CommsHandle at 0x7f7cb0067c10>"
      ]
     },
     "execution_count": 6,
     "metadata": {},
     "output_type": "execute_result"
    }
   ],
   "source": [
    "plt_obj = dm.superset_yes_no([dm.di_32_1361, dm.di_64_1575], min_match=0.5)\n",
    "plt = plt_obj.do_plot()\n",
    "show(plt)"
   ]
  },
  {
   "cell_type": "code",
   "execution_count": 7,
   "metadata": {
    "collapsed": false
   },
   "outputs": [
    {
     "data": {
      "text/html": [
       "<table>\n",
       "<thead><tr><th style=\"text-align:center\">index</th><th style=\"text-align:center\">first</th><th style=\"text-align:center\">length</th><th style=\"text-align:center\">snps</th><th style=\"text-align:center\" colspan=2>alleles</th><th style=\"text-align:center\" colspan=2>matches</th><th style=\"text-align:center\" colspan=2>afr</th><th style=\"text-align:center\" colspan=2>afx</th><th style=\"text-align:center\" colspan=2>amr</th><th style=\"text-align:center\" colspan=2>eas</th><th style=\"text-align:center\" colspan=2>eur</th><th style=\"text-align:center\" colspan=2>sas</th><th style=\"text-align:center\" colspan=2>sax</th></tr></thead>\n",
       "<tr class=\"even\"><td style=\"text-align: right;\">353921</td><td style=\"text-align: right;\">136,501,840</td><td style=\"text-align: right;\">53,819</td><td style=\"text-align: right;\">10</td><td style=\"text-align: right;\">2206</td><td style=\"text-align: right;\">0.16</td><td style=\"text-align: right;\">355</td><td style=\"text-align: right;\">1.00</td><td style=\"text-align: right;\">0</td><td style=\"text-align: right;\">0.00</td><td style=\"text-align: right;\">1</td><td style=\"text-align: right;\">0.04</td><td style=\"text-align: right;\">21</td><td style=\"text-align: right;\">0.43</td><td style=\"text-align: right;\">245</td><td style=\"text-align: right;\">3.43</td><td style=\"text-align: right;\">6</td><td style=\"text-align: right;\">0.08</td><td style=\"text-align: right;\">24</td><td style=\"text-align: right;\">0.93</td><td style=\"text-align: right;\">58</td><td style=\"text-align: right;\">1.33</td></tr>\n",
       "<tr><td style=\"text-align: right;\">354170</td><td style=\"text-align: right;\">136,682,274</td><td style=\"text-align: right;\">93,624</td><td style=\"text-align: right;\">7</td><td style=\"text-align: right;\">1868</td><td style=\"text-align: right;\">0.18</td><td style=\"text-align: right;\">345</td><td style=\"text-align: right;\">0.97</td><td style=\"text-align: right;\">0</td><td style=\"text-align: right;\">0.00</td><td style=\"text-align: right;\">1</td><td style=\"text-align: right;\">0.05</td><td style=\"text-align: right;\">21</td><td style=\"text-align: right;\">0.44</td><td style=\"text-align: right;\">243</td><td style=\"text-align: right;\">3.50</td><td style=\"text-align: right;\">6</td><td style=\"text-align: right;\">0.09</td><td style=\"text-align: right;\">21</td><td style=\"text-align: right;\">0.84</td><td style=\"text-align: right;\">53</td><td style=\"text-align: right;\">1.25</td></tr>\n",
       "<tr class=\"even\"><td style=\"text-align: right;\">353240</td><td style=\"text-align: right;\">135,757,320</td><td style=\"text-align: right;\">20,184</td><td style=\"text-align: right;\">13</td><td style=\"text-align: right;\">1696</td><td style=\"text-align: right;\">0.16</td><td style=\"text-align: right;\">279</td><td style=\"text-align: right;\">0.79</td><td style=\"text-align: right;\">0</td><td style=\"text-align: right;\">0.00</td><td style=\"text-align: right;\">1</td><td style=\"text-align: right;\">0.06</td><td style=\"text-align: right;\">20</td><td style=\"text-align: right;\">0.52</td><td style=\"text-align: right;\">176</td><td style=\"text-align: right;\">3.13</td><td style=\"text-align: right;\">5</td><td style=\"text-align: right;\">0.09</td><td style=\"text-align: right;\">20</td><td style=\"text-align: right;\">0.99</td><td style=\"text-align: right;\">57</td><td style=\"text-align: right;\">1.67</td></tr>\n",
       "<tr><td style=\"text-align: right;\">353901</td><td style=\"text-align: right;\">136,494,186</td><td style=\"text-align: right;\">271,765</td><td style=\"text-align: right;\">64</td><td style=\"text-align: right;\">1575</td><td style=\"text-align: right;\">0.23</td><td style=\"text-align: right;\">355</td><td style=\"text-align: right;\">1.00</td><td style=\"text-align: right;\">0</td><td style=\"text-align: right;\">0.00</td><td style=\"text-align: right;\">1</td><td style=\"text-align: right;\">0.04</td><td style=\"text-align: right;\">21</td><td style=\"text-align: right;\">0.43</td><td style=\"text-align: right;\">245</td><td style=\"text-align: right;\">3.43</td><td style=\"text-align: right;\">6</td><td style=\"text-align: right;\">0.08</td><td style=\"text-align: right;\">24</td><td style=\"text-align: right;\">0.93</td><td style=\"text-align: right;\">58</td><td style=\"text-align: right;\">1.33</td></tr>\n",
       "<tr class=\"even\"><td style=\"text-align: right;\">353791</td><td style=\"text-align: right;\">136,393,658</td><td style=\"text-align: right;\">92,684</td><td style=\"text-align: right;\">32</td><td style=\"text-align: right;\">1361</td><td style=\"text-align: right;\">0.26</td><td style=\"text-align: right;\">355</td><td style=\"text-align: right;\">1.00</td><td style=\"text-align: right;\">0</td><td style=\"text-align: right;\">0.00</td><td style=\"text-align: right;\">1</td><td style=\"text-align: right;\">0.04</td><td style=\"text-align: right;\">21</td><td style=\"text-align: right;\">0.43</td><td style=\"text-align: right;\">245</td><td style=\"text-align: right;\">3.43</td><td style=\"text-align: right;\">6</td><td style=\"text-align: right;\">0.08</td><td style=\"text-align: right;\">24</td><td style=\"text-align: right;\">0.93</td><td style=\"text-align: right;\">58</td><td style=\"text-align: right;\">1.33</td></tr>\n",
       "<tr><td style=\"text-align: right;\">353372</td><td style=\"text-align: right;\">135,829,592</td><td style=\"text-align: right;\">591,316</td><td style=\"text-align: right;\">9</td><td style=\"text-align: right;\">944</td><td style=\"text-align: right;\">0.29</td><td style=\"text-align: right;\">276</td><td style=\"text-align: right;\">0.78</td><td style=\"text-align: right;\">0</td><td style=\"text-align: right;\">0.00</td><td style=\"text-align: right;\">1</td><td style=\"text-align: right;\">0.06</td><td style=\"text-align: right;\">20</td><td style=\"text-align: right;\">0.52</td><td style=\"text-align: right;\">176</td><td style=\"text-align: right;\">3.17</td><td style=\"text-align: right;\">5</td><td style=\"text-align: right;\">0.09</td><td style=\"text-align: right;\">19</td><td style=\"text-align: right;\">0.95</td><td style=\"text-align: right;\">55</td><td style=\"text-align: right;\">1.63</td></tr>\n",
       "<tr class=\"even\"><td style=\"text-align: right;\">353498</td><td style=\"text-align: right;\">135,959,272</td><td style=\"text-align: right;\">416,583</td><td style=\"text-align: right;\">5</td><td style=\"text-align: right;\">684</td><td style=\"text-align: right;\">0.47</td><td style=\"text-align: right;\">320</td><td style=\"text-align: right;\">0.90</td><td style=\"text-align: right;\">0</td><td style=\"text-align: right;\">0.00</td><td style=\"text-align: right;\">1</td><td style=\"text-align: right;\">0.05</td><td style=\"text-align: right;\">19</td><td style=\"text-align: right;\">0.43</td><td style=\"text-align: right;\">223</td><td style=\"text-align: right;\">3.46</td><td style=\"text-align: right;\">5</td><td style=\"text-align: right;\">0.08</td><td style=\"text-align: right;\">20</td><td style=\"text-align: right;\">0.86</td><td style=\"text-align: right;\">52</td><td style=\"text-align: right;\">1.33</td></tr>\n",
       "</table>"
      ],
      "text/plain": [
       "<IPython.core.display.HTML object>"
      ]
     },
     "execution_count": 7,
     "metadata": {},
     "output_type": "execute_result"
    }
   ],
   "source": [
    "HTML(plt_obj.get_html())"
   ]
  },
  {
   "cell_type": "markdown",
   "metadata": {},
   "source": [
    "<div style=\"width:700px\">\n",
    "<p>\n",
    "This plot shows the most common series expressed by the 90 samples that\n",
    "express both 4_815 and 5_684.  Those 90 samples include 61 that express\n",
    "64_1575.  The recombination events that have generated the associations illustrated\n",
    "in this plot have resulted in the loss of 13_1696 and early 9_944 SNPs.  Fragments\n",
    "of the root series of the SAS tree have been retained along with the series 4_815.\n",
    "</div>"
   ]
  },
  {
   "cell_type": "code",
   "execution_count": 8,
   "metadata": {
    "collapsed": false
   },
   "outputs": [
    {
     "data": {
      "text/html": [
       "\n",
       "\n",
       "    <div class=\"bk-root\">\n",
       "        <div class=\"plotdiv\" id=\"481753e8-7b64-40be-ab19-17a583c8800b\"></div>\n",
       "    </div>\n",
       "<script type=\"text/javascript\">\n",
       "  \n",
       "  (function(global) {\n",
       "    function now() {\n",
       "      return new Date();\n",
       "    }\n",
       "  \n",
       "    if (typeof (window._bokeh_onload_callbacks) === \"undefined\") {\n",
       "      window._bokeh_onload_callbacks = [];\n",
       "    }\n",
       "  \n",
       "    function run_callbacks() {\n",
       "      window._bokeh_onload_callbacks.forEach(function(callback) { callback() });\n",
       "      delete window._bokeh_onload_callbacks\n",
       "      console.info(\"Bokeh: all callbacks have finished\");\n",
       "    }\n",
       "  \n",
       "    function load_libs(js_urls, callback) {\n",
       "      window._bokeh_onload_callbacks.push(callback);\n",
       "      if (window._bokeh_is_loading > 0) {\n",
       "        console.log(\"Bokeh: BokehJS is being loaded, scheduling callback at\", now());\n",
       "        return null;\n",
       "      }\n",
       "      if (js_urls == null || js_urls.length === 0) {\n",
       "        run_callbacks();\n",
       "        return null;\n",
       "      }\n",
       "      console.log(\"Bokeh: BokehJS not loaded, scheduling load and callback at\", now());\n",
       "      window._bokeh_is_loading = js_urls.length;\n",
       "      for (var i = 0; i < js_urls.length; i++) {\n",
       "        var url = js_urls[i];\n",
       "        var s = document.createElement('script');\n",
       "        s.src = url;\n",
       "        s.async = false;\n",
       "        s.onreadystatechange = s.onload = function() {\n",
       "          window._bokeh_is_loading--;\n",
       "          if (window._bokeh_is_loading === 0) {\n",
       "            console.log(\"Bokeh: all BokehJS libraries loaded\");\n",
       "            run_callbacks()\n",
       "          }\n",
       "        };\n",
       "        s.onerror = function() {\n",
       "          console.warn(\"failed to load library \" + url);\n",
       "        };\n",
       "        console.log(\"Bokeh: injecting script tag for BokehJS library: \", url);\n",
       "        document.getElementsByTagName(\"head\")[0].appendChild(s);\n",
       "      }\n",
       "    };var element = document.getElementById(\"481753e8-7b64-40be-ab19-17a583c8800b\");\n",
       "    if (element == null) {\n",
       "      console.log(\"Bokeh: ERROR: autoload.js configured with elementid '481753e8-7b64-40be-ab19-17a583c8800b' but no matching script tag was found. \")\n",
       "      return false;\n",
       "    }\n",
       "  \n",
       "    var js_urls = [];\n",
       "  \n",
       "    var inline_js = [\n",
       "      function(Bokeh) {\n",
       "        Bokeh.$(function() {\n",
       "            var docs_json = {\"f989fc42-3971-452d-8e02-0d428fd767d5\":{\"roots\":{\"references\":[{\"attributes\":{},\"id\":\"c5d04fb8-c801-4e25-a017-dc3f80a000bb\",\"type\":\"BasicTickFormatter\"},{\"attributes\":{\"below\":[{\"id\":\"3672e7b2-2dfe-4244-afdc-dd77f30f6a52\",\"type\":\"LinearAxis\"}],\"left\":[{\"id\":\"b4cec2e4-9d5f-4873-b2af-8684a003fe43\",\"type\":\"LinearAxis\"}],\"plot_height\":300,\"plot_width\":900,\"renderers\":[{\"id\":\"3672e7b2-2dfe-4244-afdc-dd77f30f6a52\",\"type\":\"LinearAxis\"},{\"id\":\"01a88584-9315-4779-b70c-b0a391cedbbd\",\"type\":\"Grid\"},{\"id\":\"b4cec2e4-9d5f-4873-b2af-8684a003fe43\",\"type\":\"LinearAxis\"},{\"id\":\"e9ed09e3-a55d-42c2-abc0-e91e7f6dc538\",\"type\":\"Grid\"},{\"id\":\"b8aae734-a5b2-498d-9123-dc38365bb3f9\",\"type\":\"BoxAnnotation\"},{\"id\":\"78279757-7424-4399-8acc-776a56754eae\",\"type\":\"GlyphRenderer\"},{\"id\":\"9233bc90-490c-4583-8a6d-0bca701e1ed4\",\"type\":\"GlyphRenderer\"},{\"id\":\"d3f2ab84-54cd-434b-ae9d-18291e730674\",\"type\":\"LabelSet\"},{\"id\":\"02b54308-d589-42c4-9116-97a10f31d272\",\"type\":\"GlyphRenderer\"},{\"id\":\"6b0f155a-f253-40f5-b29b-acc92edf510a\",\"type\":\"LabelSet\"}],\"title\":{\"id\":\"c0970f10-0932-4a0b-82e9-29e4015b2801\",\"type\":\"Title\"},\"tool_events\":{\"id\":\"1989c9fa-c3c0-435c-a0d8-514e246e9591\",\"type\":\"ToolEvents\"},\"toolbar\":{\"id\":\"8f6e85a7-4c63-4b0d-afc2-ea0b66318657\",\"type\":\"Toolbar\"},\"toolbar_location\":null,\"x_range\":{\"id\":\"3993b4a4-b9c5-45a7-92d2-5db1d6eab6fd\",\"type\":\"Range1d\"},\"y_range\":{\"id\":\"ec2c5d01-725d-420a-8eff-36518823b368\",\"type\":\"Range1d\"}},\"id\":\"1e467cd1-001d-4049-953d-55d981a6507d\",\"subtype\":\"Figure\",\"type\":\"Plot\"},{\"attributes\":{\"plot\":{\"id\":\"1e467cd1-001d-4049-953d-55d981a6507d\",\"subtype\":\"Figure\",\"type\":\"Plot\"}},\"id\":\"f5bfea74-82d5-4a35-8afc-416674403705\",\"type\":\"PanTool\"},{\"attributes\":{\"plot\":{\"id\":\"1e467cd1-001d-4049-953d-55d981a6507d\",\"subtype\":\"Figure\",\"type\":\"Plot\"}},\"id\":\"2a7688ca-c5ef-43c7-8042-9038ef074ccb\",\"type\":\"ResetTool\"},{\"attributes\":{},\"id\":\"1989c9fa-c3c0-435c-a0d8-514e246e9591\",\"type\":\"ToolEvents\"},{\"attributes\":{\"callback\":null,\"column_names\":[\"y\",\"x\",\"vals\"],\"data\":{\"vals\":[\"RAB3GAP1\",\"ZRANB3\",\"R3HDM1\",\"UBXN4\",\"LCT\",\"MCM6\",\"DARS\"],\"x\":[135869057.0,136122878.0,136385961.0,136520911.0,136570082.5,136615621.5,136703738.0],\"y\":[260.0,260.0,260.0,260.0,260.0,260.0,260.0]}},\"id\":\"6b6ac76b-07a6-47c5-87cd-b7f60e020bc0\",\"type\":\"ColumnDataSource\"},{\"attributes\":{\"callback\":null,\"column_names\":[\"right\",\"bottom\",\"top\",\"left\",\"fill_color\"],\"data\":{\"bottom\":[50,50,50,50,150,150],\"fill_color\":[\"#61c4c4\",\"#ffff00\",\"#c4c461\",\"#61c461\",\"#808080\",\"#61c461\"],\"left\":[135839805,135959272,136393658,136494186,136501840,136682274],\"right\":[135924467,136375855,136486342,136765951,136555659,136775898],\"top\":[90,88,94,95,198,197]}},\"id\":\"d06d97ad-27ec-4645-8cbb-b3570d684bc3\",\"type\":\"ColumnDataSource\"},{\"attributes\":{},\"id\":\"0006becf-9e7d-4148-8ac0-d2908961eb1a\",\"type\":\"BasicTicker\"},{\"attributes\":{\"overlay\":{\"id\":\"b8aae734-a5b2-498d-9123-dc38365bb3f9\",\"type\":\"BoxAnnotation\"},\"plot\":{\"id\":\"1e467cd1-001d-4049-953d-55d981a6507d\",\"subtype\":\"Figure\",\"type\":\"Plot\"}},\"id\":\"a2788bb4-881a-4d8e-aa33-70badfbf6891\",\"type\":\"BoxZoomTool\"},{\"attributes\":{\"bottom_units\":\"screen\",\"fill_alpha\":{\"value\":0.5},\"fill_color\":{\"value\":\"lightgrey\"},\"left_units\":\"screen\",\"level\":\"overlay\",\"line_alpha\":{\"value\":1.0},\"line_color\":{\"value\":\"black\"},\"line_dash\":[4,4],\"line_width\":{\"value\":2},\"plot\":null,\"render_mode\":\"css\",\"right_units\":\"screen\",\"top_units\":\"screen\"},\"id\":\"b8aae734-a5b2-498d-9123-dc38365bb3f9\",\"type\":\"BoxAnnotation\"},{\"attributes\":{\"level\":\"glyph\",\"plot\":{\"id\":\"1e467cd1-001d-4049-953d-55d981a6507d\",\"subtype\":\"Figure\",\"type\":\"Plot\"},\"source\":{\"id\":\"4acfa567-9cf7-4f97-9974-a850b5c98656\",\"type\":\"ColumnDataSource\"},\"text\":{\"field\":\"vals\"},\"text_font_size\":{\"value\":\"9pt\"},\"text_font_style\":\"bold\",\"x\":{\"field\":\"x\"},\"y\":{\"field\":\"y\"}},\"id\":\"d3f2ab84-54cd-434b-ae9d-18291e730674\",\"type\":\"LabelSet\"},{\"attributes\":{\"data_source\":{\"id\":\"d06d97ad-27ec-4645-8cbb-b3570d684bc3\",\"type\":\"ColumnDataSource\"},\"glyph\":{\"id\":\"b1709fc5-5524-4d1f-aba7-978bd2178ad6\",\"type\":\"Quad\"},\"hover_glyph\":null,\"nonselection_glyph\":{\"id\":\"cada557f-526f-4c6d-beed-38c636604995\",\"type\":\"Quad\"},\"selection_glyph\":null},\"id\":\"78279757-7424-4399-8acc-776a56754eae\",\"type\":\"GlyphRenderer\"},{\"attributes\":{\"plot\":{\"id\":\"1e467cd1-001d-4049-953d-55d981a6507d\",\"subtype\":\"Figure\",\"type\":\"Plot\"},\"ticker\":{\"id\":\"cf648fdb-f50f-42cb-8f63-7b68b27f4481\",\"type\":\"BasicTicker\"}},\"id\":\"01a88584-9315-4779-b70c-b0a391cedbbd\",\"type\":\"Grid\"},{\"attributes\":{\"formatter\":{\"id\":\"c5d04fb8-c801-4e25-a017-dc3f80a000bb\",\"type\":\"BasicTickFormatter\"},\"plot\":{\"id\":\"1e467cd1-001d-4049-953d-55d981a6507d\",\"subtype\":\"Figure\",\"type\":\"Plot\"},\"ticker\":{\"id\":\"0006becf-9e7d-4148-8ac0-d2908961eb1a\",\"type\":\"BasicTicker\"},\"visible\":null},\"id\":\"b4cec2e4-9d5f-4873-b2af-8684a003fe43\",\"type\":\"LinearAxis\"},{\"attributes\":{\"callback\":null,\"end\":136786630,\"start\":135757320},\"id\":\"3993b4a4-b9c5-45a7-92d2-5db1d6eab6fd\",\"type\":\"Range1d\"},{\"attributes\":{\"formatter\":{\"id\":\"d565ab2f-af6c-4ee6-84e1-5ca6d1551244\",\"type\":\"BasicTickFormatter\"},\"plot\":{\"id\":\"1e467cd1-001d-4049-953d-55d981a6507d\",\"subtype\":\"Figure\",\"type\":\"Plot\"},\"ticker\":{\"id\":\"cf648fdb-f50f-42cb-8f63-7b68b27f4481\",\"type\":\"BasicTicker\"}},\"id\":\"3672e7b2-2dfe-4244-afdc-dd77f30f6a52\",\"type\":\"LinearAxis\"},{\"attributes\":{\"plot\":{\"id\":\"1e467cd1-001d-4049-953d-55d981a6507d\",\"subtype\":\"Figure\",\"type\":\"Plot\"}},\"id\":\"eaedb8c6-4a8a-43fc-9584-be636f00fec7\",\"type\":\"HelpTool\"},{\"attributes\":{\"level\":\"glyph\",\"plot\":{\"id\":\"1e467cd1-001d-4049-953d-55d981a6507d\",\"subtype\":\"Figure\",\"type\":\"Plot\"},\"source\":{\"id\":\"6b6ac76b-07a6-47c5-87cd-b7f60e020bc0\",\"type\":\"ColumnDataSource\"},\"text\":{\"field\":\"vals\"},\"text_align\":\"center\",\"text_baseline\":\"middle\",\"text_font_size\":{\"value\":\"8pt\"},\"x\":{\"field\":\"x\"},\"y\":{\"field\":\"y\"}},\"id\":\"6b0f155a-f253-40f5-b29b-acc92edf510a\",\"type\":\"LabelSet\"},{\"attributes\":{},\"id\":\"d565ab2f-af6c-4ee6-84e1-5ca6d1551244\",\"type\":\"BasicTickFormatter\"},{\"attributes\":{\"callback\":null,\"column_names\":[\"xs\",\"ys\",\"line_color\"],\"data\":{\"line_color\":[\"black\",\"black\",\"black\",\"black\",\"black\",\"black\",\"black\",\"black\",\"black\",\"black\",\"black\",\"black\",\"black\",\"black\",\"black\",\"black\",\"black\",\"black\",\"black\",\"black\",\"black\",\"black\",\"black\",\"black\",\"black\",\"black\",\"black\",\"black\",\"black\",\"black\",\"black\",\"black\",\"black\",\"black\",\"black\",\"black\",\"black\",\"black\",\"black\",\"black\",\"black\",\"black\",\"black\",\"black\",\"black\",\"black\",\"black\",\"black\",\"black\",\"black\",\"black\",\"black\",\"black\",\"black\",\"black\",\"black\",\"black\",\"black\",\"black\",\"black\",\"black\",\"black\",\"black\",\"black\",\"black\",\"black\",\"black\",\"black\",\"black\",\"black\",\"black\",\"black\",\"black\",\"black\",\"black\",\"black\",\"black\",\"black\",\"black\",\"black\",\"black\",\"black\",\"black\",\"black\",\"black\",\"black\",\"black\",\"black\",\"black\",\"black\",\"black\",\"black\",\"black\",\"black\",\"black\",\"black\",\"black\",\"black\",\"black\",\"black\",\"black\",\"black\",\"black\",\"black\",\"black\",\"black\",\"black\",\"black\",\"black\",\"black\",\"black\",\"black\",\"black\",\"black\",\"black\",\"black\",\"black\",\"black\",\"black\",\"black\",\"black\",\"black\"],\"xs\":[[135839805,135839805],[135866750,135866750],[135886744,135886744],[135924467,135924467],[135959272,135959272],[136149550,136149550],[136164840,136164840],[136313885,136313885],[136375855,136375855],[136393658,136393658],[136396300,136396300],[136401843,136401843],[136407445,136407445],[136411879,136411879],[136412270,136412270],[136413244,136413244],[136413847,136413847],[136415217,136415217],[136416533,136416533],[136420726,136420726],[136429857,136429857],[136433740,136433740],[136436317,136436317],[136437615,136437615],[136438517,136438517],[136440300,136440300],[136443900,136443900],[136444185,136444185],[136444338,136444338],[136449254,136449254],[136451676,136451676],[136459227,136459227],[136463117,136463117],[136463454,136463454],[136467119,136467119],[136468238,136468238],[136470219,136470219],[136483355,136483355],[136485276,136485276],[136486340,136486340],[136486342,136486342],[136494186,136494186],[136495300,136495300],[136495619,136495619],[136499166,136499166],[136502792,136502792],[136503157,136503157],[136507039,136507039],[136511575,136511575],[136518103,136518103],[136521514,136521514],[136522675,136522675],[136522941,136522941],[136526981,136526981],[136535410,136535410],[136539122,136539122],[136544197,136544197],[136550109,136550109],[136551694,136551694],[136553188,136553188],[136553639,136553639],[136554800,136554800],[136557319,136557319],[136558157,136558157],[136569848,136569848],[136575199,136575199],[136576577,136576577],[136578536,136578536],[136580287,136580287],[136583192,136583192],[136586958,136586958],[136588478,136588478],[136589612,136589612],[136591178,136591178],[136591859,136591859],[136593760,136593760],[136594158,136594158],[136603276,136603276],[136603366,136603366],[136608231,136608231],[136609975,136609975],[136610598,136610598],[136611624,136611624],[136613780,136613780],[136614255,136614255],[136614813,136614813],[136617524,136617524],[136622216,136622216],[136625602,136625602],[136629911,136629911],[136630757,136630757],[136630989,136630989],[136631031,136631031],[136633771,136633771],[136636324,136636324],[136638216,136638216],[136640233,136640233],[136641882,136641882],[136643555,136643555],[136658345,136658345],[136670298,136670298],[136685228,136685228],[136696138,136696138],[136740900,136740900],[136765951,136765951],[136501840,136501840],[136505546,136505546],[136516748,136516748],[136522710,136522710],[136528004,136528004],[136539513,136539513],[136544752,136544752],[136546110,136546110],[136553529,136553529],[136555659,136555659],[136682274,136682274],[136691825,136691825],[136698098,136698098],[136721603,136721603],[136721995,136721995],[136755684,136755684],[136775898,136775898]],\"ys\":[[50,90],[50,90],[50,90],[50,90],[50,88],[50,88],[50,88],[50,88],[50,88],[50,94],[50,94],[50,94],[50,94],[50,94],[50,94],[50,94],[50,94],[50,94],[50,94],[50,94],[50,94],[50,94],[50,94],[50,94],[50,94],[50,94],[50,94],[50,94],[50,94],[50,94],[50,94],[50,94],[50,94],[50,94],[50,94],[50,94],[50,94],[50,94],[50,94],[50,94],[50,94],[50,95],[50,95],[50,95],[50,95],[50,95],[50,95],[50,95],[50,95],[50,95],[50,95],[50,95],[50,95],[50,95],[50,95],[50,95],[50,95],[50,95],[50,95],[50,95],[50,95],[50,95],[50,95],[50,95],[50,95],[50,95],[50,95],[50,95],[50,95],[50,95],[50,95],[50,95],[50,95],[50,95],[50,95],[50,95],[50,95],[50,95],[50,95],[50,95],[50,95],[50,95],[50,95],[50,95],[50,95],[50,95],[50,95],[50,95],[50,95],[50,95],[50,95],[50,95],[50,95],[50,95],[50,95],[50,95],[50,95],[50,95],[50,95],[50,95],[50,95],[50,95],[50,95],[50,95],[50,95],[150,198],[150,198],[150,198],[150,198],[150,198],[150,198],[150,198],[150,198],[150,198],[150,198],[150,197],[150,197],[150,197],[150,197],[150,197],[150,197],[150,197]]}},\"id\":\"c3cc910f-f22d-41cf-8836-33896fc7dcc7\",\"type\":\"ColumnDataSource\"},{\"attributes\":{\"bottom\":{\"field\":\"bottom\"},\"fill_alpha\":{\"value\":0.1},\"fill_color\":{\"value\":\"#1f77b4\"},\"left\":{\"field\":\"left\"},\"line_alpha\":{\"value\":0.1},\"line_color\":{\"value\":\"#1f77b4\"},\"right\":{\"field\":\"right\"},\"top\":{\"field\":\"top\"}},\"id\":\"cada557f-526f-4c6d-beed-38c636604995\",\"type\":\"Quad\"},{\"attributes\":{\"data_source\":{\"id\":\"c3cc910f-f22d-41cf-8836-33896fc7dcc7\",\"type\":\"ColumnDataSource\"},\"glyph\":{\"id\":\"92726088-41d9-4528-b845-766336535d80\",\"type\":\"MultiLine\"},\"hover_glyph\":null,\"nonselection_glyph\":{\"id\":\"d1890c27-7f2e-4cf5-a29d-c5a1208d75bb\",\"type\":\"MultiLine\"},\"selection_glyph\":null},\"id\":\"9233bc90-490c-4583-8a6d-0bca701e1ed4\",\"type\":\"GlyphRenderer\"},{\"attributes\":{\"callback\":null,\"end\":300},\"id\":\"ec2c5d01-725d-420a-8eff-36518823b368\",\"type\":\"Range1d\"},{\"attributes\":{\"callback\":null,\"column_names\":[\"y\",\"x\",\"vals\"],\"data\":{\"vals\":[\"4_815\",\"5_684\",\"32_1361\",\"64_1575\",\"10_2206\",\"7_1868\"],\"x\":[135839805,135959272,136393658,136494186,136501840,136682274],\"y\":[95.0,93.0,99.0,100.0,203.0,202.0]}},\"id\":\"4acfa567-9cf7-4f97-9974-a850b5c98656\",\"type\":\"ColumnDataSource\"},{\"attributes\":{\"bottom\":{\"field\":\"bottom\"},\"fill_alpha\":{\"value\":0.1},\"fill_color\":{\"value\":\"#1f77b4\"},\"left\":{\"field\":\"left\"},\"line_alpha\":{\"value\":0.1},\"line_color\":{\"value\":\"#1f77b4\"},\"right\":{\"field\":\"right\"},\"top\":{\"field\":\"top\"}},\"id\":\"3d3bd894-9f56-43f8-a04b-839fbe4fad94\",\"type\":\"Quad\"},{\"attributes\":{\"dimension\":1,\"plot\":{\"id\":\"1e467cd1-001d-4049-953d-55d981a6507d\",\"subtype\":\"Figure\",\"type\":\"Plot\"},\"ticker\":{\"id\":\"0006becf-9e7d-4148-8ac0-d2908961eb1a\",\"type\":\"BasicTicker\"}},\"id\":\"e9ed09e3-a55d-42c2-abc0-e91e7f6dc538\",\"type\":\"Grid\"},{\"attributes\":{\"plot\":null,\"text\":null},\"id\":\"c0970f10-0932-4a0b-82e9-29e4015b2801\",\"type\":\"Title\"},{\"attributes\":{\"line_alpha\":{\"value\":0.1},\"line_color\":{\"value\":\"#1f77b4\"},\"xs\":{\"field\":\"xs\"},\"ys\":{\"field\":\"ys\"}},\"id\":\"d1890c27-7f2e-4cf5-a29d-c5a1208d75bb\",\"type\":\"MultiLine\"},{\"attributes\":{\"active_drag\":\"auto\",\"active_scroll\":\"auto\",\"active_tap\":\"auto\",\"tools\":[{\"id\":\"f5bfea74-82d5-4a35-8afc-416674403705\",\"type\":\"PanTool\"},{\"id\":\"59ba6892-ba53-413e-8b26-bb1e9ac2f536\",\"type\":\"WheelZoomTool\"},{\"id\":\"a2788bb4-881a-4d8e-aa33-70badfbf6891\",\"type\":\"BoxZoomTool\"},{\"id\":\"79f6359a-fae6-4ad1-96e8-b297fbe4559b\",\"type\":\"SaveTool\"},{\"id\":\"2a7688ca-c5ef-43c7-8042-9038ef074ccb\",\"type\":\"ResetTool\"},{\"id\":\"eaedb8c6-4a8a-43fc-9584-be636f00fec7\",\"type\":\"HelpTool\"}]},\"id\":\"8f6e85a7-4c63-4b0d-afc2-ea0b66318657\",\"type\":\"Toolbar\"},{\"attributes\":{\"data_source\":{\"id\":\"59590e87-3011-4924-a5cb-021c44b82f24\",\"type\":\"ColumnDataSource\"},\"glyph\":{\"id\":\"2b66da94-e5b9-4719-82d6-eb778fcfc850\",\"type\":\"Quad\"},\"hover_glyph\":null,\"nonselection_glyph\":{\"id\":\"3d3bd894-9f56-43f8-a04b-839fbe4fad94\",\"type\":\"Quad\"},\"selection_glyph\":null},\"id\":\"02b54308-d589-42c4-9116-97a10f31d272\",\"type\":\"GlyphRenderer\"},{\"attributes\":{\"bottom\":{\"field\":\"bottom\"},\"fill_color\":{\"value\":\"white\"},\"left\":{\"field\":\"left\"},\"right\":{\"field\":\"right\"},\"top\":{\"field\":\"top\"}},\"id\":\"2b66da94-e5b9-4719-82d6-eb778fcfc850\",\"type\":\"Quad\"},{\"attributes\":{\"plot\":{\"id\":\"1e467cd1-001d-4049-953d-55d981a6507d\",\"subtype\":\"Figure\",\"type\":\"Plot\"}},\"id\":\"79f6359a-fae6-4ad1-96e8-b297fbe4559b\",\"type\":\"SaveTool\"},{\"attributes\":{\"callback\":null,\"column_names\":[\"right\",\"bottom\",\"top\",\"left\"],\"data\":{\"bottom\":[245,245,245,245,245,245,245],\"left\":[135809835,135957574,136289083,136499189,136545415,136597196,136664254],\"right\":[135928279,136288182,136482839,136542633,136594750,136634047,136743222],\"top\":[275,275,275,275,275,275,275]}},\"id\":\"59590e87-3011-4924-a5cb-021c44b82f24\",\"type\":\"ColumnDataSource\"},{\"attributes\":{\"line_color\":{\"field\":\"line_color\"},\"xs\":{\"field\":\"xs\"},\"ys\":{\"field\":\"ys\"}},\"id\":\"92726088-41d9-4528-b845-766336535d80\",\"type\":\"MultiLine\"},{\"attributes\":{},\"id\":\"cf648fdb-f50f-42cb-8f63-7b68b27f4481\",\"type\":\"BasicTicker\"},{\"attributes\":{\"bottom\":{\"field\":\"bottom\"},\"fill_color\":{\"field\":\"fill_color\"},\"left\":{\"field\":\"left\"},\"line_color\":{\"value\":null},\"right\":{\"field\":\"right\"},\"top\":{\"field\":\"top\"}},\"id\":\"b1709fc5-5524-4d1f-aba7-978bd2178ad6\",\"type\":\"Quad\"},{\"attributes\":{\"plot\":{\"id\":\"1e467cd1-001d-4049-953d-55d981a6507d\",\"subtype\":\"Figure\",\"type\":\"Plot\"}},\"id\":\"59ba6892-ba53-413e-8b26-bb1e9ac2f536\",\"type\":\"WheelZoomTool\"}],\"root_ids\":[\"1e467cd1-001d-4049-953d-55d981a6507d\"]},\"title\":\"Bokeh Application\",\"version\":\"0.12.0\"}};\n",
       "            var render_items = [{\"docid\":\"f989fc42-3971-452d-8e02-0d428fd767d5\",\"elementid\":\"481753e8-7b64-40be-ab19-17a583c8800b\",\"modelid\":\"1e467cd1-001d-4049-953d-55d981a6507d\",\"notebook_comms_target\":\"c5ea7162-0247-4bd5-b737-c79b7f5084fe\"}];\n",
       "            \n",
       "            Bokeh.embed.embed_items(docs_json, render_items);\n",
       "        });\n",
       "      },\n",
       "      function(Bokeh) {\n",
       "      }\n",
       "    ];\n",
       "  \n",
       "    function run_inline_js() {\n",
       "      for (var i = 0; i < inline_js.length; i++) {\n",
       "        inline_js[i](window.Bokeh);\n",
       "      }\n",
       "    }\n",
       "  \n",
       "    if (window._bokeh_is_loading === 0) {\n",
       "      console.log(\"Bokeh: BokehJS loaded, going straight to plotting\");\n",
       "      run_inline_js();\n",
       "    } else {\n",
       "      load_libs(js_urls, function() {\n",
       "        console.log(\"Bokeh: BokehJS plotting callback run at\", now());\n",
       "        run_inline_js();\n",
       "      });\n",
       "    }\n",
       "  }(this));\n",
       "</script>"
      ]
     },
     "metadata": {},
     "output_type": "display_data"
    },
    {
     "data": {
      "text/html": [
       "<p><code>&lt;Bokeh Notebook handle for <strong>In[8]</strong>&gt;</code></p>"
      ],
      "text/plain": [
       "<bokeh.io._CommsHandle at 0x7f7c7ed26f50>"
      ]
     },
     "execution_count": 8,
     "metadata": {},
     "output_type": "execute_result"
    }
   ],
   "source": [
    "plt_obj = dm.superset_yes_no([dm.di_4_815, dm.di_5_684], min_match=0.5)\n",
    "plt = plt_obj.do_plot()\n",
    "show(plt)"
   ]
  },
  {
   "cell_type": "code",
   "execution_count": 9,
   "metadata": {
    "collapsed": false
   },
   "outputs": [
    {
     "data": {
      "text/html": [
       "<table>\n",
       "<thead><tr><th style=\"text-align:center\">index</th><th style=\"text-align:center\">first</th><th style=\"text-align:center\">length</th><th style=\"text-align:center\">snps</th><th style=\"text-align:center\" colspan=2>alleles</th><th style=\"text-align:center\" colspan=2>matches</th><th style=\"text-align:center\" colspan=2>afr</th><th style=\"text-align:center\" colspan=2>afx</th><th style=\"text-align:center\" colspan=2>amr</th><th style=\"text-align:center\" colspan=2>eas</th><th style=\"text-align:center\" colspan=2>eur</th><th style=\"text-align:center\" colspan=2>sas</th><th style=\"text-align:center\" colspan=2>sax</th></tr></thead>\n",
       "<tr class=\"even\"><td style=\"text-align: right;\">353921</td><td style=\"text-align: right;\">136,501,840</td><td style=\"text-align: right;\">53,819</td><td style=\"text-align: right;\">10</td><td style=\"text-align: right;\">2206</td><td style=\"text-align: right;\">0.03</td><td style=\"text-align: right;\">61</td><td style=\"text-align: right;\">0.68</td><td style=\"text-align: right;\">0</td><td style=\"text-align: right;\">0.00</td><td style=\"text-align: right;\">0</td><td style=\"text-align: right;\">0.00</td><td style=\"text-align: right;\">0</td><td style=\"text-align: right;\">0.00</td><td style=\"text-align: right;\">60</td><td style=\"text-align: right;\">4.89</td><td style=\"text-align: right;\">0</td><td style=\"text-align: right;\">0.00</td><td style=\"text-align: right;\">1</td><td style=\"text-align: right;\">0.23</td><td style=\"text-align: right;\">0</td><td style=\"text-align: right;\">0.00</td></tr>\n",
       "<tr><td style=\"text-align: right;\">354170</td><td style=\"text-align: right;\">136,682,274</td><td style=\"text-align: right;\">93,624</td><td style=\"text-align: right;\">7</td><td style=\"text-align: right;\">1868</td><td style=\"text-align: right;\">0.03</td><td style=\"text-align: right;\">61</td><td style=\"text-align: right;\">0.68</td><td style=\"text-align: right;\">0</td><td style=\"text-align: right;\">0.00</td><td style=\"text-align: right;\">0</td><td style=\"text-align: right;\">0.00</td><td style=\"text-align: right;\">0</td><td style=\"text-align: right;\">0.00</td><td style=\"text-align: right;\">60</td><td style=\"text-align: right;\">4.89</td><td style=\"text-align: right;\">0</td><td style=\"text-align: right;\">0.00</td><td style=\"text-align: right;\">1</td><td style=\"text-align: right;\">0.23</td><td style=\"text-align: right;\">0</td><td style=\"text-align: right;\">0.00</td></tr>\n",
       "<tr class=\"even\"><td style=\"text-align: right;\">353901</td><td style=\"text-align: right;\">136,494,186</td><td style=\"text-align: right;\">271,765</td><td style=\"text-align: right;\">64</td><td style=\"text-align: right;\">1575</td><td style=\"text-align: right;\">0.04</td><td style=\"text-align: right;\">61</td><td style=\"text-align: right;\">0.68</td><td style=\"text-align: right;\">0</td><td style=\"text-align: right;\">0.00</td><td style=\"text-align: right;\">0</td><td style=\"text-align: right;\">0.00</td><td style=\"text-align: right;\">0</td><td style=\"text-align: right;\">0.00</td><td style=\"text-align: right;\">60</td><td style=\"text-align: right;\">4.89</td><td style=\"text-align: right;\">0</td><td style=\"text-align: right;\">0.00</td><td style=\"text-align: right;\">1</td><td style=\"text-align: right;\">0.23</td><td style=\"text-align: right;\">0</td><td style=\"text-align: right;\">0.00</td></tr>\n",
       "<tr><td style=\"text-align: right;\">353791</td><td style=\"text-align: right;\">136,393,658</td><td style=\"text-align: right;\">92,684</td><td style=\"text-align: right;\">32</td><td style=\"text-align: right;\">1361</td><td style=\"text-align: right;\">0.06</td><td style=\"text-align: right;\">79</td><td style=\"text-align: right;\">0.88</td><td style=\"text-align: right;\">0</td><td style=\"text-align: right;\">0.00</td><td style=\"text-align: right;\">0</td><td style=\"text-align: right;\">0.00</td><td style=\"text-align: right;\">0</td><td style=\"text-align: right;\">0.00</td><td style=\"text-align: right;\">73</td><td style=\"text-align: right;\">4.59</td><td style=\"text-align: right;\">0</td><td style=\"text-align: right;\">0.00</td><td style=\"text-align: right;\">4</td><td style=\"text-align: right;\">0.70</td><td style=\"text-align: right;\">2</td><td style=\"text-align: right;\">0.21</td></tr>\n",
       "<tr class=\"even\"><td style=\"text-align: right;\">353384</td><td style=\"text-align: right;\">135,839,805</td><td style=\"text-align: right;\">84,662</td><td style=\"text-align: right;\">4</td><td style=\"text-align: right;\">815</td><td style=\"text-align: right;\">0.11</td><td style=\"text-align: right;\">90</td><td style=\"text-align: right;\">1.00</td><td style=\"text-align: right;\">0</td><td style=\"text-align: right;\">0.00</td><td style=\"text-align: right;\">0</td><td style=\"text-align: right;\">0.00</td><td style=\"text-align: right;\">0</td><td style=\"text-align: right;\">0.00</td><td style=\"text-align: right;\">84</td><td style=\"text-align: right;\">4.64</td><td style=\"text-align: right;\">0</td><td style=\"text-align: right;\">0.00</td><td style=\"text-align: right;\">4</td><td style=\"text-align: right;\">0.61</td><td style=\"text-align: right;\">2</td><td style=\"text-align: right;\">0.18</td></tr>\n",
       "<tr><td style=\"text-align: right;\">353498</td><td style=\"text-align: right;\">135,959,272</td><td style=\"text-align: right;\">416,583</td><td style=\"text-align: right;\">5</td><td style=\"text-align: right;\">684</td><td style=\"text-align: right;\">0.13</td><td style=\"text-align: right;\">90</td><td style=\"text-align: right;\">1.00</td><td style=\"text-align: right;\">0</td><td style=\"text-align: right;\">0.00</td><td style=\"text-align: right;\">0</td><td style=\"text-align: right;\">0.00</td><td style=\"text-align: right;\">0</td><td style=\"text-align: right;\">0.00</td><td style=\"text-align: right;\">84</td><td style=\"text-align: right;\">4.64</td><td style=\"text-align: right;\">0</td><td style=\"text-align: right;\">0.00</td><td style=\"text-align: right;\">4</td><td style=\"text-align: right;\">0.61</td><td style=\"text-align: right;\">2</td><td style=\"text-align: right;\">0.18</td></tr>\n",
       "</table>"
      ],
      "text/plain": [
       "<IPython.core.display.HTML object>"
      ]
     },
     "execution_count": 9,
     "metadata": {},
     "output_type": "execute_result"
    }
   ],
   "source": [
    "HTML(plt_obj.get_html())"
   ]
  },
  {
   "cell_type": "markdown",
   "metadata": {},
   "source": [
    "<div style=\"width:700px\">\n",
    "<p>\n",
    "This plot shows the most common series associations for the EAS tree root and series 5_684\n",
    "in the cases where series 64_1575 is part of its upper region.  The series\n",
    "in the lower part of this plot are more likely to be associated with 64_1575 in\n",
    "the upper part than with the primary EAS tree root 81_857.\n",
    "</div>"
   ]
  },
  {
   "cell_type": "code",
   "execution_count": 10,
   "metadata": {
    "collapsed": false
   },
   "outputs": [
    {
     "data": {
      "text/html": [
       "\n",
       "\n",
       "    <div class=\"bk-root\">\n",
       "        <div class=\"plotdiv\" id=\"17249b38-d6f6-4201-8e5c-4f91f5c003ee\"></div>\n",
       "    </div>\n",
       "<script type=\"text/javascript\">\n",
       "  \n",
       "  (function(global) {\n",
       "    function now() {\n",
       "      return new Date();\n",
       "    }\n",
       "  \n",
       "    if (typeof (window._bokeh_onload_callbacks) === \"undefined\") {\n",
       "      window._bokeh_onload_callbacks = [];\n",
       "    }\n",
       "  \n",
       "    function run_callbacks() {\n",
       "      window._bokeh_onload_callbacks.forEach(function(callback) { callback() });\n",
       "      delete window._bokeh_onload_callbacks\n",
       "      console.info(\"Bokeh: all callbacks have finished\");\n",
       "    }\n",
       "  \n",
       "    function load_libs(js_urls, callback) {\n",
       "      window._bokeh_onload_callbacks.push(callback);\n",
       "      if (window._bokeh_is_loading > 0) {\n",
       "        console.log(\"Bokeh: BokehJS is being loaded, scheduling callback at\", now());\n",
       "        return null;\n",
       "      }\n",
       "      if (js_urls == null || js_urls.length === 0) {\n",
       "        run_callbacks();\n",
       "        return null;\n",
       "      }\n",
       "      console.log(\"Bokeh: BokehJS not loaded, scheduling load and callback at\", now());\n",
       "      window._bokeh_is_loading = js_urls.length;\n",
       "      for (var i = 0; i < js_urls.length; i++) {\n",
       "        var url = js_urls[i];\n",
       "        var s = document.createElement('script');\n",
       "        s.src = url;\n",
       "        s.async = false;\n",
       "        s.onreadystatechange = s.onload = function() {\n",
       "          window._bokeh_is_loading--;\n",
       "          if (window._bokeh_is_loading === 0) {\n",
       "            console.log(\"Bokeh: all BokehJS libraries loaded\");\n",
       "            run_callbacks()\n",
       "          }\n",
       "        };\n",
       "        s.onerror = function() {\n",
       "          console.warn(\"failed to load library \" + url);\n",
       "        };\n",
       "        console.log(\"Bokeh: injecting script tag for BokehJS library: \", url);\n",
       "        document.getElementsByTagName(\"head\")[0].appendChild(s);\n",
       "      }\n",
       "    };var element = document.getElementById(\"17249b38-d6f6-4201-8e5c-4f91f5c003ee\");\n",
       "    if (element == null) {\n",
       "      console.log(\"Bokeh: ERROR: autoload.js configured with elementid '17249b38-d6f6-4201-8e5c-4f91f5c003ee' but no matching script tag was found. \")\n",
       "      return false;\n",
       "    }\n",
       "  \n",
       "    var js_urls = [];\n",
       "  \n",
       "    var inline_js = [\n",
       "      function(Bokeh) {\n",
       "        Bokeh.$(function() {\n",
       "            var docs_json = {\"ca7254e5-0cce-44e6-8ff7-75e7c4ed2c17\":{\"roots\":{\"references\":[{\"attributes\":{\"bottom_units\":\"screen\",\"fill_alpha\":{\"value\":0.5},\"fill_color\":{\"value\":\"lightgrey\"},\"left_units\":\"screen\",\"level\":\"overlay\",\"line_alpha\":{\"value\":1.0},\"line_color\":{\"value\":\"black\"},\"line_dash\":[4,4],\"line_width\":{\"value\":2},\"plot\":null,\"render_mode\":\"css\",\"right_units\":\"screen\",\"top_units\":\"screen\"},\"id\":\"07dfa3fe-5a29-4b3d-b355-688d8ed539e1\",\"type\":\"BoxAnnotation\"},{\"attributes\":{\"data_source\":{\"id\":\"91ecd64a-0388-41c5-8364-a463a055dd7a\",\"type\":\"ColumnDataSource\"},\"glyph\":{\"id\":\"fc59be68-c6f3-41b0-b9bf-0b4d3f22242f\",\"type\":\"Quad\"},\"hover_glyph\":null,\"nonselection_glyph\":{\"id\":\"5a643d62-364d-4e1b-b781-c0067e3e320b\",\"type\":\"Quad\"},\"selection_glyph\":null},\"id\":\"5a7cb385-1e11-43cf-8ca8-cb4e2d252c59\",\"type\":\"GlyphRenderer\"},{\"attributes\":{\"plot\":null,\"text\":null},\"id\":\"14368120-2481-4cb6-844c-e3cb08edb8a8\",\"type\":\"Title\"},{\"attributes\":{\"plot\":{\"id\":\"973fea7d-728f-496c-a030-ac651111929d\",\"subtype\":\"Figure\",\"type\":\"Plot\"}},\"id\":\"73e99046-13ea-4f45-828e-475311955d36\",\"type\":\"SaveTool\"},{\"attributes\":{\"line_color\":{\"field\":\"line_color\"},\"xs\":{\"field\":\"xs\"},\"ys\":{\"field\":\"ys\"}},\"id\":\"6c5b3270-cb91-46dd-a962-2508bd72b69a\",\"type\":\"MultiLine\"},{\"attributes\":{\"bottom\":{\"field\":\"bottom\"},\"fill_color\":{\"field\":\"fill_color\"},\"left\":{\"field\":\"left\"},\"line_color\":{\"value\":null},\"right\":{\"field\":\"right\"},\"top\":{\"field\":\"top\"}},\"id\":\"bb589367-faa5-47ee-8857-ff3a486cd607\",\"type\":\"Quad\"},{\"attributes\":{},\"id\":\"0c66f9a3-f0ea-4e40-8b16-d3f06ac321d2\",\"type\":\"BasicTicker\"},{\"attributes\":{},\"id\":\"15762f2b-ca04-478d-bf9f-52dd4982f7a2\",\"type\":\"ToolEvents\"},{\"attributes\":{\"bottom\":{\"field\":\"bottom\"},\"fill_alpha\":{\"value\":0.1},\"fill_color\":{\"value\":\"#1f77b4\"},\"left\":{\"field\":\"left\"},\"line_alpha\":{\"value\":0.1},\"line_color\":{\"value\":\"#1f77b4\"},\"right\":{\"field\":\"right\"},\"top\":{\"field\":\"top\"}},\"id\":\"26e6f2dc-79d1-46fe-9c54-107e45b23122\",\"type\":\"Quad\"},{\"attributes\":{\"line_alpha\":{\"value\":0.1},\"line_color\":{\"value\":\"#1f77b4\"},\"xs\":{\"field\":\"xs\"},\"ys\":{\"field\":\"ys\"}},\"id\":\"dc9e223d-3058-4c3c-81a0-a4923f940dc1\",\"type\":\"MultiLine\"},{\"attributes\":{\"below\":[{\"id\":\"72ec3ba0-b3d0-42e2-9cc3-e5658fbad12a\",\"type\":\"LinearAxis\"}],\"left\":[{\"id\":\"78c39cb8-1485-40c7-95b3-81f3d1450c3c\",\"type\":\"LinearAxis\"}],\"plot_height\":500,\"plot_width\":900,\"renderers\":[{\"id\":\"72ec3ba0-b3d0-42e2-9cc3-e5658fbad12a\",\"type\":\"LinearAxis\"},{\"id\":\"4d5c7954-4d20-42bd-956f-fe96a3d62870\",\"type\":\"Grid\"},{\"id\":\"78c39cb8-1485-40c7-95b3-81f3d1450c3c\",\"type\":\"LinearAxis\"},{\"id\":\"0dd86d98-cb32-4adb-ba05-97ec70597899\",\"type\":\"Grid\"},{\"id\":\"07dfa3fe-5a29-4b3d-b355-688d8ed539e1\",\"type\":\"BoxAnnotation\"},{\"id\":\"3e7789f8-5d7f-4e59-9b3c-bcba3afaf341\",\"type\":\"GlyphRenderer\"},{\"id\":\"2bfc224a-35e1-4eba-a8bd-6933007b0ccf\",\"type\":\"GlyphRenderer\"},{\"id\":\"e1b4f0a8-4d9f-4f15-9bb4-2489905dafd7\",\"type\":\"LabelSet\"},{\"id\":\"5a7cb385-1e11-43cf-8ca8-cb4e2d252c59\",\"type\":\"GlyphRenderer\"},{\"id\":\"d2a32eff-cdf3-4a0a-9a7f-ab4eee313558\",\"type\":\"LabelSet\"}],\"title\":{\"id\":\"14368120-2481-4cb6-844c-e3cb08edb8a8\",\"type\":\"Title\"},\"tool_events\":{\"id\":\"15762f2b-ca04-478d-bf9f-52dd4982f7a2\",\"type\":\"ToolEvents\"},\"toolbar\":{\"id\":\"ce9ca837-ea55-487d-9c08-f7ffc9647d92\",\"type\":\"Toolbar\"},\"toolbar_location\":null,\"x_range\":{\"id\":\"37af351c-b2a0-42a8-8aa2-e7e526d923aa\",\"type\":\"Range1d\"},\"y_range\":{\"id\":\"8838b0a7-c6cd-4378-a8bb-111ae9836bc6\",\"type\":\"Range1d\"}},\"id\":\"973fea7d-728f-496c-a030-ac651111929d\",\"subtype\":\"Figure\",\"type\":\"Plot\"},{\"attributes\":{\"plot\":{\"id\":\"973fea7d-728f-496c-a030-ac651111929d\",\"subtype\":\"Figure\",\"type\":\"Plot\"}},\"id\":\"e06b3306-2467-4320-908c-9b01fe8173e7\",\"type\":\"PanTool\"},{\"attributes\":{\"bottom\":{\"field\":\"bottom\"},\"fill_color\":{\"value\":\"white\"},\"left\":{\"field\":\"left\"},\"right\":{\"field\":\"right\"},\"top\":{\"field\":\"top\"}},\"id\":\"fc59be68-c6f3-41b0-b9bf-0b4d3f22242f\",\"type\":\"Quad\"},{\"attributes\":{\"callback\":null,\"column_names\":[\"xs\",\"ys\",\"line_color\"],\"data\":{\"line_color\":[\"black\",\"black\",\"black\",\"black\",\"black\",\"black\",\"black\",\"black\",\"black\",\"black\",\"black\",\"black\",\"black\",\"black\",\"black\",\"black\",\"black\",\"black\",\"black\",\"black\",\"black\",\"black\",\"black\",\"black\",\"black\",\"black\",\"black\",\"black\",\"black\",\"black\",\"black\",\"black\",\"black\",\"black\",\"black\",\"black\",\"black\",\"black\",\"black\",\"black\",\"black\",\"black\",\"black\",\"black\",\"black\",\"black\",\"black\",\"black\",\"black\",\"black\",\"black\",\"black\",\"black\",\"black\",\"black\",\"black\",\"black\",\"black\",\"black\",\"black\",\"black\",\"black\",\"black\",\"black\",\"black\",\"black\",\"black\",\"black\",\"black\",\"black\",\"black\",\"black\",\"black\",\"black\",\"black\",\"black\",\"black\",\"black\",\"black\",\"black\",\"black\",\"black\",\"black\",\"black\",\"black\",\"black\",\"black\",\"black\",\"black\",\"black\",\"black\",\"black\",\"black\",\"black\",\"black\",\"black\",\"black\",\"black\",\"black\",\"black\",\"black\",\"black\",\"black\",\"black\",\"black\",\"black\",\"black\",\"black\",\"black\",\"black\",\"black\",\"black\",\"black\",\"black\",\"black\",\"black\",\"black\",\"black\",\"black\",\"black\",\"black\",\"black\",\"black\",\"black\",\"black\",\"black\",\"black\",\"black\",\"black\",\"black\",\"black\",\"black\",\"black\",\"black\",\"black\",\"black\",\"black\",\"black\",\"black\",\"black\"],\"xs\":[[135757320,135757320],[135761078,135761078],[135761271,135761271],[135762344,135762344],[135762980,135762980],[135763280,135763280],[135768815,135768815],[135769093,135769093],[135769127,135769127],[135770940,135770940],[135770951,135770951],[135776728,135776728],[135777504,135777504],[135829592,135829592],[135893372,135893372],[135952405,135952405],[135989721,135989721],[136136056,136136056],[136313639,136313639],[136401418,136401418],[136407078,136407078],[136420908,136420908],[135959272,135959272],[136149550,136149550],[136164840,136164840],[136313885,136313885],[136375855,136375855],[136393658,136393658],[136396300,136396300],[136401843,136401843],[136407445,136407445],[136411879,136411879],[136412270,136412270],[136413244,136413244],[136413847,136413847],[136415217,136415217],[136416533,136416533],[136420726,136420726],[136429857,136429857],[136433740,136433740],[136436317,136436317],[136437615,136437615],[136438517,136438517],[136440300,136440300],[136443900,136443900],[136444185,136444185],[136444338,136444338],[136449254,136449254],[136451676,136451676],[136459227,136459227],[136463117,136463117],[136463454,136463454],[136467119,136467119],[136468238,136468238],[136470219,136470219],[136483355,136483355],[136485276,136485276],[136486340,136486340],[136486342,136486342],[136494186,136494186],[136495300,136495300],[136495619,136495619],[136499166,136499166],[136502792,136502792],[136503157,136503157],[136507039,136507039],[136511575,136511575],[136518103,136518103],[136521514,136521514],[136522675,136522675],[136522941,136522941],[136526981,136526981],[136535410,136535410],[136539122,136539122],[136544197,136544197],[136550109,136550109],[136551694,136551694],[136553188,136553188],[136553639,136553639],[136554800,136554800],[136557319,136557319],[136558157,136558157],[136569848,136569848],[136575199,136575199],[136576577,136576577],[136578536,136578536],[136580287,136580287],[136583192,136583192],[136586958,136586958],[136588478,136588478],[136589612,136589612],[136591178,136591178],[136591859,136591859],[136593760,136593760],[136594158,136594158],[136603276,136603276],[136603366,136603366],[136608231,136608231],[136609975,136609975],[136610598,136610598],[136611624,136611624],[136613780,136613780],[136614255,136614255],[136614813,136614813],[136617524,136617524],[136622216,136622216],[136625602,136625602],[136629911,136629911],[136630757,136630757],[136630989,136630989],[136631031,136631031],[136633771,136633771],[136636324,136636324],[136638216,136638216],[136640233,136640233],[136641882,136641882],[136643555,136643555],[136658345,136658345],[136670298,136670298],[136685228,136685228],[136696138,136696138],[136740900,136740900],[136765951,136765951],[136501840,136501840],[136505546,136505546],[136516748,136516748],[136522710,136522710],[136528004,136528004],[136539513,136539513],[136544752,136544752],[136546110,136546110],[136553529,136553529],[136555659,136555659],[136682274,136682274],[136691825,136691825],[136698098,136698098],[136721603,136721603],[136721995,136721995],[136755684,136755684],[136775898,136775898]],\"ys\":[[250,296],[250,296],[250,296],[250,296],[250,296],[250,296],[250,296],[250,296],[250,296],[250,296],[250,296],[250,296],[250,296],[150,191],[150,191],[150,191],[150,191],[150,191],[150,191],[150,191],[150,191],[150,191],[50,88],[50,88],[50,88],[50,88],[50,88],[250,294],[250,294],[250,294],[250,294],[250,294],[250,294],[250,294],[250,294],[250,294],[250,294],[250,294],[250,294],[250,294],[250,294],[250,294],[250,294],[250,294],[250,294],[250,294],[250,294],[250,294],[250,294],[250,294],[250,294],[250,294],[250,294],[250,294],[250,294],[250,294],[250,294],[250,294],[250,294],[250,295],[250,295],[250,295],[250,295],[250,295],[250,295],[250,295],[250,295],[250,295],[250,295],[250,295],[250,295],[250,295],[250,295],[250,295],[250,295],[250,295],[250,295],[250,295],[250,295],[250,295],[250,295],[250,295],[250,295],[250,295],[250,295],[250,295],[250,295],[250,295],[250,295],[250,295],[250,295],[250,295],[250,295],[250,295],[250,295],[250,295],[250,295],[250,295],[250,295],[250,295],[250,295],[250,295],[250,295],[250,295],[250,295],[250,295],[250,295],[250,295],[250,295],[250,295],[250,295],[250,295],[250,295],[250,295],[250,295],[250,295],[250,295],[250,295],[250,295],[250,295],[250,295],[250,295],[250,295],[350,398],[350,398],[350,398],[350,398],[350,398],[350,398],[350,398],[350,398],[350,398],[350,398],[350,397],[350,397],[350,397],[350,397],[350,397],[350,397],[350,397]]}},\"id\":\"81f33bbd-a731-4ee0-b388-6075b99692a7\",\"type\":\"ColumnDataSource\"},{\"attributes\":{\"level\":\"glyph\",\"plot\":{\"id\":\"973fea7d-728f-496c-a030-ac651111929d\",\"subtype\":\"Figure\",\"type\":\"Plot\"},\"source\":{\"id\":\"769c3838-4f12-4c0c-af59-0be64ee75180\",\"type\":\"ColumnDataSource\"},\"text\":{\"field\":\"vals\"},\"text_font_size\":{\"value\":\"9pt\"},\"text_font_style\":\"bold\",\"x\":{\"field\":\"x\"},\"y\":{\"field\":\"y\"}},\"id\":\"e1b4f0a8-4d9f-4f15-9bb4-2489905dafd7\",\"type\":\"LabelSet\"},{\"attributes\":{\"callback\":null,\"column_names\":[\"y\",\"x\",\"vals\"],\"data\":{\"vals\":[\"13_1696\",\"9_944\",\"5_684\",\"32_1361\",\"64_1575\",\"10_2206\",\"7_1868\"],\"x\":[135757320,135829592,135959272,136393658,136494186,136501840,136682274],\"y\":[301.0,196.0,93.0,299.0,300.0,403.0,402.0]}},\"id\":\"769c3838-4f12-4c0c-af59-0be64ee75180\",\"type\":\"ColumnDataSource\"},{\"attributes\":{\"formatter\":{\"id\":\"244d90cc-4701-4274-8d19-f1e3bd3633b2\",\"type\":\"BasicTickFormatter\"},\"plot\":{\"id\":\"973fea7d-728f-496c-a030-ac651111929d\",\"subtype\":\"Figure\",\"type\":\"Plot\"},\"ticker\":{\"id\":\"c2a930b9-0ec5-41b5-a6a8-8c42dbea2acc\",\"type\":\"BasicTicker\"}},\"id\":\"72ec3ba0-b3d0-42e2-9cc3-e5658fbad12a\",\"type\":\"LinearAxis\"},{\"attributes\":{\"plot\":{\"id\":\"973fea7d-728f-496c-a030-ac651111929d\",\"subtype\":\"Figure\",\"type\":\"Plot\"}},\"id\":\"fcd90b8e-e512-4c6f-bb56-0780cf8d9e5b\",\"type\":\"ResetTool\"},{\"attributes\":{\"callback\":null,\"column_names\":[\"y\",\"x\",\"vals\"],\"data\":{\"vals\":[\"RAB3GAP1\",\"ZRANB3\",\"R3HDM1\",\"UBXN4\",\"LCT\",\"MCM6\",\"DARS\"],\"x\":[135869057.0,136122878.0,136385961.0,136520911.0,136570082.5,136615621.5,136703738.0],\"y\":[460.0,460.0,460.0,460.0,460.0,460.0,460.0]}},\"id\":\"684f3662-3cfd-4f24-9b7c-d0d03a18de1c\",\"type\":\"ColumnDataSource\"},{\"attributes\":{\"data_source\":{\"id\":\"bfb4368a-a2b4-4046-bb22-fcbc29c06cba\",\"type\":\"ColumnDataSource\"},\"glyph\":{\"id\":\"bb589367-faa5-47ee-8857-ff3a486cd607\",\"type\":\"Quad\"},\"hover_glyph\":null,\"nonselection_glyph\":{\"id\":\"26e6f2dc-79d1-46fe-9c54-107e45b23122\",\"type\":\"Quad\"},\"selection_glyph\":null},\"id\":\"3e7789f8-5d7f-4e59-9b3c-bcba3afaf341\",\"type\":\"GlyphRenderer\"},{\"attributes\":{\"plot\":{\"id\":\"973fea7d-728f-496c-a030-ac651111929d\",\"subtype\":\"Figure\",\"type\":\"Plot\"},\"ticker\":{\"id\":\"c2a930b9-0ec5-41b5-a6a8-8c42dbea2acc\",\"type\":\"BasicTicker\"}},\"id\":\"4d5c7954-4d20-42bd-956f-fe96a3d62870\",\"type\":\"Grid\"},{\"attributes\":{},\"id\":\"ecf242fb-7563-4a29-8450-78fa0192f810\",\"type\":\"BasicTickFormatter\"},{\"attributes\":{\"plot\":{\"id\":\"973fea7d-728f-496c-a030-ac651111929d\",\"subtype\":\"Figure\",\"type\":\"Plot\"}},\"id\":\"feb89bd3-1772-45b6-bee8-34aab60d5ddd\",\"type\":\"WheelZoomTool\"},{\"attributes\":{\"callback\":null,\"end\":500},\"id\":\"8838b0a7-c6cd-4378-a8bb-111ae9836bc6\",\"type\":\"Range1d\"},{\"attributes\":{},\"id\":\"c2a930b9-0ec5-41b5-a6a8-8c42dbea2acc\",\"type\":\"BasicTicker\"},{\"attributes\":{\"formatter\":{\"id\":\"ecf242fb-7563-4a29-8450-78fa0192f810\",\"type\":\"BasicTickFormatter\"},\"plot\":{\"id\":\"973fea7d-728f-496c-a030-ac651111929d\",\"subtype\":\"Figure\",\"type\":\"Plot\"},\"ticker\":{\"id\":\"0c66f9a3-f0ea-4e40-8b16-d3f06ac321d2\",\"type\":\"BasicTicker\"},\"visible\":null},\"id\":\"78c39cb8-1485-40c7-95b3-81f3d1450c3c\",\"type\":\"LinearAxis\"},{\"attributes\":{\"bottom\":{\"field\":\"bottom\"},\"fill_alpha\":{\"value\":0.1},\"fill_color\":{\"value\":\"#1f77b4\"},\"left\":{\"field\":\"left\"},\"line_alpha\":{\"value\":0.1},\"line_color\":{\"value\":\"#1f77b4\"},\"right\":{\"field\":\"right\"},\"top\":{\"field\":\"top\"}},\"id\":\"5a643d62-364d-4e1b-b781-c0067e3e320b\",\"type\":\"Quad\"},{\"attributes\":{\"callback\":null,\"column_names\":[\"right\",\"bottom\",\"top\",\"left\",\"fill_color\"],\"data\":{\"bottom\":[250,150,50,250,250,350,350],\"fill_color\":[\"#808080\",\"#c4c461\",\"#ffff00\",\"#c4c461\",\"#61c461\",\"#808080\",\"#61c461\"],\"left\":[135757320,135829592,135959272,136393658,136494186,136501840,136682274],\"right\":[135777504,136420908,136375855,136486342,136765951,136555659,136775898],\"top\":[296,191,88,294,295,398,397]}},\"id\":\"bfb4368a-a2b4-4046-bb22-fcbc29c06cba\",\"type\":\"ColumnDataSource\"},{\"attributes\":{\"callback\":null,\"end\":136786630,\"start\":135757320},\"id\":\"37af351c-b2a0-42a8-8aa2-e7e526d923aa\",\"type\":\"Range1d\"},{\"attributes\":{\"callback\":null,\"column_names\":[\"right\",\"bottom\",\"top\",\"left\"],\"data\":{\"bottom\":[445,445,445,445,445,445,445],\"left\":[135809835,135957574,136289083,136499189,136545415,136597196,136664254],\"right\":[135928279,136288182,136482839,136542633,136594750,136634047,136743222],\"top\":[475,475,475,475,475,475,475]}},\"id\":\"91ecd64a-0388-41c5-8364-a463a055dd7a\",\"type\":\"ColumnDataSource\"},{\"attributes\":{\"dimension\":1,\"plot\":{\"id\":\"973fea7d-728f-496c-a030-ac651111929d\",\"subtype\":\"Figure\",\"type\":\"Plot\"},\"ticker\":{\"id\":\"0c66f9a3-f0ea-4e40-8b16-d3f06ac321d2\",\"type\":\"BasicTicker\"}},\"id\":\"0dd86d98-cb32-4adb-ba05-97ec70597899\",\"type\":\"Grid\"},{\"attributes\":{},\"id\":\"244d90cc-4701-4274-8d19-f1e3bd3633b2\",\"type\":\"BasicTickFormatter\"},{\"attributes\":{\"level\":\"glyph\",\"plot\":{\"id\":\"973fea7d-728f-496c-a030-ac651111929d\",\"subtype\":\"Figure\",\"type\":\"Plot\"},\"source\":{\"id\":\"684f3662-3cfd-4f24-9b7c-d0d03a18de1c\",\"type\":\"ColumnDataSource\"},\"text\":{\"field\":\"vals\"},\"text_align\":\"center\",\"text_baseline\":\"middle\",\"text_font_size\":{\"value\":\"8pt\"},\"x\":{\"field\":\"x\"},\"y\":{\"field\":\"y\"}},\"id\":\"d2a32eff-cdf3-4a0a-9a7f-ab4eee313558\",\"type\":\"LabelSet\"},{\"attributes\":{\"plot\":{\"id\":\"973fea7d-728f-496c-a030-ac651111929d\",\"subtype\":\"Figure\",\"type\":\"Plot\"}},\"id\":\"eed08e51-c151-48cc-b535-60688014a556\",\"type\":\"HelpTool\"},{\"attributes\":{\"overlay\":{\"id\":\"07dfa3fe-5a29-4b3d-b355-688d8ed539e1\",\"type\":\"BoxAnnotation\"},\"plot\":{\"id\":\"973fea7d-728f-496c-a030-ac651111929d\",\"subtype\":\"Figure\",\"type\":\"Plot\"}},\"id\":\"a995ac92-9616-43ba-a820-ea02df63948a\",\"type\":\"BoxZoomTool\"},{\"attributes\":{\"data_source\":{\"id\":\"81f33bbd-a731-4ee0-b388-6075b99692a7\",\"type\":\"ColumnDataSource\"},\"glyph\":{\"id\":\"6c5b3270-cb91-46dd-a962-2508bd72b69a\",\"type\":\"MultiLine\"},\"hover_glyph\":null,\"nonselection_glyph\":{\"id\":\"dc9e223d-3058-4c3c-81a0-a4923f940dc1\",\"type\":\"MultiLine\"},\"selection_glyph\":null},\"id\":\"2bfc224a-35e1-4eba-a8bd-6933007b0ccf\",\"type\":\"GlyphRenderer\"},{\"attributes\":{\"active_drag\":\"auto\",\"active_scroll\":\"auto\",\"active_tap\":\"auto\",\"tools\":[{\"id\":\"e06b3306-2467-4320-908c-9b01fe8173e7\",\"type\":\"PanTool\"},{\"id\":\"feb89bd3-1772-45b6-bee8-34aab60d5ddd\",\"type\":\"WheelZoomTool\"},{\"id\":\"a995ac92-9616-43ba-a820-ea02df63948a\",\"type\":\"BoxZoomTool\"},{\"id\":\"73e99046-13ea-4f45-828e-475311955d36\",\"type\":\"SaveTool\"},{\"id\":\"fcd90b8e-e512-4c6f-bb56-0780cf8d9e5b\",\"type\":\"ResetTool\"},{\"id\":\"eed08e51-c151-48cc-b535-60688014a556\",\"type\":\"HelpTool\"}]},\"id\":\"ce9ca837-ea55-487d-9c08-f7ffc9647d92\",\"type\":\"Toolbar\"}],\"root_ids\":[\"973fea7d-728f-496c-a030-ac651111929d\"]},\"title\":\"Bokeh Application\",\"version\":\"0.12.0\"}};\n",
       "            var render_items = [{\"docid\":\"ca7254e5-0cce-44e6-8ff7-75e7c4ed2c17\",\"elementid\":\"17249b38-d6f6-4201-8e5c-4f91f5c003ee\",\"modelid\":\"973fea7d-728f-496c-a030-ac651111929d\",\"notebook_comms_target\":\"d896f096-789f-4c63-994a-427a39ed5db1\"}];\n",
       "            \n",
       "            Bokeh.embed.embed_items(docs_json, render_items);\n",
       "        });\n",
       "      },\n",
       "      function(Bokeh) {\n",
       "      }\n",
       "    ];\n",
       "  \n",
       "    function run_inline_js() {\n",
       "      for (var i = 0; i < inline_js.length; i++) {\n",
       "        inline_js[i](window.Bokeh);\n",
       "      }\n",
       "    }\n",
       "  \n",
       "    if (window._bokeh_is_loading === 0) {\n",
       "      console.log(\"Bokeh: BokehJS loaded, going straight to plotting\");\n",
       "      run_inline_js();\n",
       "    } else {\n",
       "      load_libs(js_urls, function() {\n",
       "        console.log(\"Bokeh: BokehJS plotting callback run at\", now());\n",
       "        run_inline_js();\n",
       "      });\n",
       "    }\n",
       "  }(this));\n",
       "</script>"
      ]
     },
     "metadata": {},
     "output_type": "display_data"
    },
    {
     "data": {
      "text/html": [
       "<p><code>&lt;Bokeh Notebook handle for <strong>In[10]</strong>&gt;</code></p>"
      ],
      "text/plain": [
       "<bokeh.io._CommsHandle at 0x7f7c7ed2ec90>"
      ]
     },
     "execution_count": 10,
     "metadata": {},
     "output_type": "execute_result"
    }
   ],
   "source": [
    "plt_obj = dm.superset_yes_no([dm.di_9_944, dm.di_64_1575], min_match=0.5)\n",
    "plt = plt_obj.do_plot()\n",
    "show(plt)"
   ]
  },
  {
   "cell_type": "code",
   "execution_count": 11,
   "metadata": {
    "collapsed": false
   },
   "outputs": [
    {
     "data": {
      "text/html": [
       "<table>\n",
       "<thead><tr><th style=\"text-align:center\">index</th><th style=\"text-align:center\">first</th><th style=\"text-align:center\">length</th><th style=\"text-align:center\">snps</th><th style=\"text-align:center\" colspan=2>alleles</th><th style=\"text-align:center\" colspan=2>matches</th><th style=\"text-align:center\" colspan=2>afr</th><th style=\"text-align:center\" colspan=2>afx</th><th style=\"text-align:center\" colspan=2>amr</th><th style=\"text-align:center\" colspan=2>eas</th><th style=\"text-align:center\" colspan=2>eur</th><th style=\"text-align:center\" colspan=2>sas</th><th style=\"text-align:center\" colspan=2>sax</th></tr></thead>\n",
       "<tr class=\"even\"><td style=\"text-align: right;\">353921</td><td style=\"text-align: right;\">136,501,840</td><td style=\"text-align: right;\">53,819</td><td style=\"text-align: right;\">10</td><td style=\"text-align: right;\">2206</td><td style=\"text-align: right;\">0.13</td><td style=\"text-align: right;\">278</td><td style=\"text-align: right;\">1.00</td><td style=\"text-align: right;\">0</td><td style=\"text-align: right;\">0.00</td><td style=\"text-align: right;\">1</td><td style=\"text-align: right;\">0.06</td><td style=\"text-align: right;\">20</td><td style=\"text-align: right;\">0.52</td><td style=\"text-align: right;\">178</td><td style=\"text-align: right;\">3.18</td><td style=\"text-align: right;\">5</td><td style=\"text-align: right;\">0.09</td><td style=\"text-align: right;\">19</td><td style=\"text-align: right;\">0.94</td><td style=\"text-align: right;\">55</td><td style=\"text-align: right;\">1.61</td></tr>\n",
       "<tr><td style=\"text-align: right;\">354170</td><td style=\"text-align: right;\">136,682,274</td><td style=\"text-align: right;\">93,624</td><td style=\"text-align: right;\">7</td><td style=\"text-align: right;\">1868</td><td style=\"text-align: right;\">0.14</td><td style=\"text-align: right;\">269</td><td style=\"text-align: right;\">0.97</td><td style=\"text-align: right;\">0</td><td style=\"text-align: right;\">0.00</td><td style=\"text-align: right;\">1</td><td style=\"text-align: right;\">0.06</td><td style=\"text-align: right;\">20</td><td style=\"text-align: right;\">0.54</td><td style=\"text-align: right;\">176</td><td style=\"text-align: right;\">3.25</td><td style=\"text-align: right;\">5</td><td style=\"text-align: right;\">0.09</td><td style=\"text-align: right;\">17</td><td style=\"text-align: right;\">0.87</td><td style=\"text-align: right;\">50</td><td style=\"text-align: right;\">1.52</td></tr>\n",
       "<tr class=\"even\"><td style=\"text-align: right;\">353240</td><td style=\"text-align: right;\">135,757,320</td><td style=\"text-align: right;\">20,184</td><td style=\"text-align: right;\">13</td><td style=\"text-align: right;\">1696</td><td style=\"text-align: right;\">0.16</td><td style=\"text-align: right;\">278</td><td style=\"text-align: right;\">1.00</td><td style=\"text-align: right;\">0</td><td style=\"text-align: right;\">0.00</td><td style=\"text-align: right;\">1</td><td style=\"text-align: right;\">0.06</td><td style=\"text-align: right;\">20</td><td style=\"text-align: right;\">0.52</td><td style=\"text-align: right;\">178</td><td style=\"text-align: right;\">3.18</td><td style=\"text-align: right;\">5</td><td style=\"text-align: right;\">0.09</td><td style=\"text-align: right;\">19</td><td style=\"text-align: right;\">0.94</td><td style=\"text-align: right;\">55</td><td style=\"text-align: right;\">1.61</td></tr>\n",
       "<tr><td style=\"text-align: right;\">353901</td><td style=\"text-align: right;\">136,494,186</td><td style=\"text-align: right;\">271,765</td><td style=\"text-align: right;\">64</td><td style=\"text-align: right;\">1575</td><td style=\"text-align: right;\">0.18</td><td style=\"text-align: right;\">278</td><td style=\"text-align: right;\">1.00</td><td style=\"text-align: right;\">0</td><td style=\"text-align: right;\">0.00</td><td style=\"text-align: right;\">1</td><td style=\"text-align: right;\">0.06</td><td style=\"text-align: right;\">20</td><td style=\"text-align: right;\">0.52</td><td style=\"text-align: right;\">178</td><td style=\"text-align: right;\">3.18</td><td style=\"text-align: right;\">5</td><td style=\"text-align: right;\">0.09</td><td style=\"text-align: right;\">19</td><td style=\"text-align: right;\">0.94</td><td style=\"text-align: right;\">55</td><td style=\"text-align: right;\">1.61</td></tr>\n",
       "<tr class=\"even\"><td style=\"text-align: right;\">353791</td><td style=\"text-align: right;\">136,393,658</td><td style=\"text-align: right;\">92,684</td><td style=\"text-align: right;\">32</td><td style=\"text-align: right;\">1361</td><td style=\"text-align: right;\">0.20</td><td style=\"text-align: right;\">276</td><td style=\"text-align: right;\">0.99</td><td style=\"text-align: right;\">0</td><td style=\"text-align: right;\">0.00</td><td style=\"text-align: right;\">1</td><td style=\"text-align: right;\">0.06</td><td style=\"text-align: right;\">20</td><td style=\"text-align: right;\">0.52</td><td style=\"text-align: right;\">176</td><td style=\"text-align: right;\">3.17</td><td style=\"text-align: right;\">5</td><td style=\"text-align: right;\">0.09</td><td style=\"text-align: right;\">19</td><td style=\"text-align: right;\">0.95</td><td style=\"text-align: right;\">55</td><td style=\"text-align: right;\">1.63</td></tr>\n",
       "<tr><td style=\"text-align: right;\">353372</td><td style=\"text-align: right;\">135,829,592</td><td style=\"text-align: right;\">591,316</td><td style=\"text-align: right;\">9</td><td style=\"text-align: right;\">944</td><td style=\"text-align: right;\">0.29</td><td style=\"text-align: right;\">278</td><td style=\"text-align: right;\">1.00</td><td style=\"text-align: right;\">0</td><td style=\"text-align: right;\">0.00</td><td style=\"text-align: right;\">1</td><td style=\"text-align: right;\">0.06</td><td style=\"text-align: right;\">20</td><td style=\"text-align: right;\">0.52</td><td style=\"text-align: right;\">178</td><td style=\"text-align: right;\">3.18</td><td style=\"text-align: right;\">5</td><td style=\"text-align: right;\">0.09</td><td style=\"text-align: right;\">19</td><td style=\"text-align: right;\">0.94</td><td style=\"text-align: right;\">55</td><td style=\"text-align: right;\">1.61</td></tr>\n",
       "<tr class=\"even\"><td style=\"text-align: right;\">353498</td><td style=\"text-align: right;\">135,959,272</td><td style=\"text-align: right;\">416,583</td><td style=\"text-align: right;\">5</td><td style=\"text-align: right;\">684</td><td style=\"text-align: right;\">0.38</td><td style=\"text-align: right;\">261</td><td style=\"text-align: right;\">0.94</td><td style=\"text-align: right;\">0</td><td style=\"text-align: right;\">0.00</td><td style=\"text-align: right;\">1</td><td style=\"text-align: right;\">0.06</td><td style=\"text-align: right;\">19</td><td style=\"text-align: right;\">0.53</td><td style=\"text-align: right;\">165</td><td style=\"text-align: right;\">3.14</td><td style=\"text-align: right;\">5</td><td style=\"text-align: right;\">0.10</td><td style=\"text-align: right;\">19</td><td style=\"text-align: right;\">1.00</td><td style=\"text-align: right;\">52</td><td style=\"text-align: right;\">1.63</td></tr>\n",
       "</table>"
      ],
      "text/plain": [
       "<IPython.core.display.HTML object>"
      ]
     },
     "execution_count": 11,
     "metadata": {},
     "output_type": "execute_result"
    }
   ],
   "source": [
    "HTML(plt_obj.get_html())"
   ]
  },
  {
   "cell_type": "markdown",
   "metadata": {},
   "source": [
    "<div style=\"width:700px\">\n",
    "<p>\n",
    "This plot shows the association of series for the tree roots that include the series\n",
    "13_1696, 5_684, and 81_857.  All of the series shown in the plot are expressed by all\n",
    "of the 238 samples that express these three series except for 1 chromosome sample that does\n",
    "not express 9_944.\n",
    "</div>"
   ]
  },
  {
   "cell_type": "code",
   "execution_count": 12,
   "metadata": {
    "collapsed": false
   },
   "outputs": [
    {
     "data": {
      "text/html": [
       "\n",
       "\n",
       "    <div class=\"bk-root\">\n",
       "        <div class=\"plotdiv\" id=\"bfc731ef-485b-46cb-a9c1-67394d3beb88\"></div>\n",
       "    </div>\n",
       "<script type=\"text/javascript\">\n",
       "  \n",
       "  (function(global) {\n",
       "    function now() {\n",
       "      return new Date();\n",
       "    }\n",
       "  \n",
       "    if (typeof (window._bokeh_onload_callbacks) === \"undefined\") {\n",
       "      window._bokeh_onload_callbacks = [];\n",
       "    }\n",
       "  \n",
       "    function run_callbacks() {\n",
       "      window._bokeh_onload_callbacks.forEach(function(callback) { callback() });\n",
       "      delete window._bokeh_onload_callbacks\n",
       "      console.info(\"Bokeh: all callbacks have finished\");\n",
       "    }\n",
       "  \n",
       "    function load_libs(js_urls, callback) {\n",
       "      window._bokeh_onload_callbacks.push(callback);\n",
       "      if (window._bokeh_is_loading > 0) {\n",
       "        console.log(\"Bokeh: BokehJS is being loaded, scheduling callback at\", now());\n",
       "        return null;\n",
       "      }\n",
       "      if (js_urls == null || js_urls.length === 0) {\n",
       "        run_callbacks();\n",
       "        return null;\n",
       "      }\n",
       "      console.log(\"Bokeh: BokehJS not loaded, scheduling load and callback at\", now());\n",
       "      window._bokeh_is_loading = js_urls.length;\n",
       "      for (var i = 0; i < js_urls.length; i++) {\n",
       "        var url = js_urls[i];\n",
       "        var s = document.createElement('script');\n",
       "        s.src = url;\n",
       "        s.async = false;\n",
       "        s.onreadystatechange = s.onload = function() {\n",
       "          window._bokeh_is_loading--;\n",
       "          if (window._bokeh_is_loading === 0) {\n",
       "            console.log(\"Bokeh: all BokehJS libraries loaded\");\n",
       "            run_callbacks()\n",
       "          }\n",
       "        };\n",
       "        s.onerror = function() {\n",
       "          console.warn(\"failed to load library \" + url);\n",
       "        };\n",
       "        console.log(\"Bokeh: injecting script tag for BokehJS library: \", url);\n",
       "        document.getElementsByTagName(\"head\")[0].appendChild(s);\n",
       "      }\n",
       "    };var element = document.getElementById(\"bfc731ef-485b-46cb-a9c1-67394d3beb88\");\n",
       "    if (element == null) {\n",
       "      console.log(\"Bokeh: ERROR: autoload.js configured with elementid 'bfc731ef-485b-46cb-a9c1-67394d3beb88' but no matching script tag was found. \")\n",
       "      return false;\n",
       "    }\n",
       "  \n",
       "    var js_urls = [];\n",
       "  \n",
       "    var inline_js = [\n",
       "      function(Bokeh) {\n",
       "        Bokeh.$(function() {\n",
       "            var docs_json = {\"4e82c22a-7471-401d-a7db-fe635bc229ae\":{\"roots\":{\"references\":[{\"attributes\":{\"plot\":{\"id\":\"36f2fc8f-67cc-4cf7-8b19-a4b6f395a599\",\"subtype\":\"Figure\",\"type\":\"Plot\"}},\"id\":\"4635c666-5b31-4434-9b61-28d65814ae7f\",\"type\":\"SaveTool\"},{\"attributes\":{\"bottom\":{\"field\":\"bottom\"},\"fill_alpha\":{\"value\":0.1},\"fill_color\":{\"value\":\"#1f77b4\"},\"left\":{\"field\":\"left\"},\"line_alpha\":{\"value\":0.1},\"line_color\":{\"value\":\"#1f77b4\"},\"right\":{\"field\":\"right\"},\"top\":{\"field\":\"top\"}},\"id\":\"ca2a7060-4bf9-46a0-8645-0d5526f78778\",\"type\":\"Quad\"},{\"attributes\":{\"callback\":null,\"column_names\":[\"xs\",\"ys\",\"line_color\"],\"data\":{\"line_color\":[\"black\",\"black\",\"black\",\"black\",\"black\",\"black\",\"black\",\"black\",\"black\",\"black\",\"black\",\"black\",\"black\",\"black\",\"black\",\"black\",\"black\",\"black\",\"black\",\"black\",\"black\",\"black\",\"black\",\"black\",\"black\",\"black\",\"black\",\"black\",\"black\",\"black\",\"black\",\"black\",\"black\",\"black\",\"black\",\"black\",\"black\",\"black\",\"black\",\"black\",\"black\",\"black\",\"black\",\"black\",\"black\",\"black\",\"black\",\"black\",\"black\",\"black\",\"black\",\"black\",\"black\",\"black\",\"black\",\"black\",\"black\",\"black\",\"black\",\"black\",\"black\",\"black\",\"black\",\"black\",\"black\",\"black\",\"black\",\"black\",\"black\",\"black\",\"black\",\"black\",\"black\",\"black\",\"black\",\"black\",\"black\",\"black\",\"black\",\"black\",\"black\",\"black\",\"black\",\"black\",\"black\",\"black\",\"black\",\"black\",\"black\",\"black\",\"black\",\"black\",\"black\",\"black\",\"black\",\"black\",\"black\",\"black\",\"black\",\"black\",\"black\",\"black\",\"black\",\"black\",\"black\",\"black\",\"black\",\"black\",\"black\",\"black\",\"black\",\"black\",\"black\",\"black\",\"black\",\"black\",\"black\",\"black\",\"black\",\"black\",\"black\",\"black\",\"black\",\"black\",\"black\",\"black\",\"black\",\"black\",\"black\",\"black\",\"black\",\"black\",\"black\",\"black\",\"black\",\"black\",\"black\",\"black\",\"black\",\"black\",\"black\",\"black\",\"black\",\"black\",\"black\",\"black\",\"black\",\"black\",\"black\",\"black\",\"black\",\"black\",\"black\",\"black\",\"black\",\"black\",\"black\",\"black\",\"black\",\"black\",\"black\",\"black\",\"black\",\"black\",\"black\",\"black\",\"black\",\"black\",\"black\",\"black\",\"black\",\"black\",\"black\",\"black\",\"black\",\"black\",\"black\",\"black\",\"black\",\"black\",\"black\",\"black\",\"black\",\"black\",\"black\",\"black\",\"black\",\"black\",\"black\",\"black\",\"black\",\"black\",\"black\",\"black\",\"black\",\"black\",\"black\",\"black\",\"black\",\"black\",\"black\",\"black\",\"black\",\"black\",\"black\",\"black\"],\"xs\":[[135757320,135757320],[135761078,135761078],[135761271,135761271],[135762344,135762344],[135762980,135762980],[135763280,135763280],[135768815,135768815],[135769093,135769093],[135769127,135769127],[135770940,135770940],[135770951,135770951],[135776728,135776728],[135777504,135777504],[135829592,135829592],[135893372,135893372],[135952405,135952405],[135989721,135989721],[136136056,136136056],[136313639,136313639],[136401418,136401418],[136407078,136407078],[136420908,136420908],[135959272,135959272],[136149550,136149550],[136164840,136164840],[136313885,136313885],[136375855,136375855],[136393658,136393658],[136396300,136396300],[136401843,136401843],[136407445,136407445],[136411879,136411879],[136412270,136412270],[136413244,136413244],[136413847,136413847],[136415217,136415217],[136416533,136416533],[136420726,136420726],[136429857,136429857],[136433740,136433740],[136436317,136436317],[136437615,136437615],[136438517,136438517],[136440300,136440300],[136443900,136443900],[136444185,136444185],[136444338,136444338],[136449254,136449254],[136451676,136451676],[136459227,136459227],[136463117,136463117],[136463454,136463454],[136467119,136467119],[136468238,136468238],[136470219,136470219],[136483355,136483355],[136485276,136485276],[136486340,136486340],[136486342,136486342],[136494985,136494985],[136497199,136497199],[136511817,136511817],[136513670,136513670],[136515458,136515458],[136516970,136516970],[136525309,136525309],[136528034,136528034],[136532225,136532225],[136535235,136535235],[136536095,136536095],[136544423,136544423],[136546927,136546927],[136552188,136552188],[136552517,136552517],[136555525,136555525],[136556480,136556480],[136560464,136560464],[136572285,136572285],[136582694,136582694],[136582809,136582809],[136584538,136584538],[136585323,136585323],[136586825,136586825],[136600662,136600662],[136612036,136612036],[136618178,136618178],[136618507,136618507],[136622543,136622543],[136624947,136624947],[136625113,136625113],[136626078,136626078],[136628121,136628121],[136632300,136632300],[136633962,136633962],[136635343,136635343],[136638113,136638113],[136640101,136640101],[136641593,136641593],[136646582,136646582],[136648077,136648077],[136648883,136648883],[136652045,136652045],[136653848,136653848],[136656094,136656094],[136661110,136661110],[136663110,136663110],[136663605,136663605],[136665162,136665162],[136665711,136665711],[136668123,136668123],[136670419,136670419],[136672680,136672680],[136673546,136673546],[136684632,136684632],[136686114,136686114],[136690425,136690425],[136690783,136690783],[136692893,136692893],[136694905,136694905],[136695694,136695694],[136695705,136695705],[136696608,136696608],[136697372,136697372],[136697468,136697468],[136700024,136700024],[136701539,136701539],[136702118,136702118],[136707480,136707480],[136710554,136710554],[136714178,136714178],[136719173,136719173],[136725459,136725459],[136734569,136734569],[136744678,136744678],[136748779,136748779],[136751488,136751488],[136754183,136754183],[136763242,136763242],[136765074,136765074],[136773638,136773638],[136500475,136500475],[136501509,136501509],[136504101,136504101],[136509868,136509868],[136520043,136520043],[136527120,136527120],[136530379,136530379],[136530443,136530443],[136539330,136539330],[136539670,136539670],[136540083,136540083],[136542559,136542559],[136542560,136542560],[136506375,136506375],[136506927,136506927],[136510012,136510012],[136538939,136538939],[136535876,136535876],[136544651,136544651],[136545844,136545844],[136552526,136552526],[136553022,136553022],[136554797,136554797],[136554890,136554890],[136588031,136588031],[136589278,136589278],[136589379,136589379],[136589741,136589741],[136590746,136590746],[136593553,136593553],[136593678,136593678],[136652491,136652491],[136652524,136652524],[136661150,136661150],[136669264,136669264],[136726567,136726567],[136732772,136732772],[136652953,136652953],[136655582,136655582],[136674028,136674028],[136684940,136684940],[136761175,136761175],[136653925,136653925],[136654833,136654833],[136656534,136656534],[136656536,136656536],[136657252,136657252],[136667301,136667301],[136667487,136667487],[136672775,136672775],[136680534,136680534],[136686393,136686393],[136688749,136688749],[136692553,136692553],[136697371,136697371],[136708787,136708787],[136710372,136710372],[136711064,136711064],[136715324,136715324],[136723504,136723504],[136737460,136737460],[136743143,136743143],[136746224,136746224],[136751842,136751842],[136759379,136759379],[136761853,136761853]],\"ys\":[[550,596],[550,596],[550,596],[550,596],[550,596],[550,596],[550,596],[550,596],[550,596],[550,596],[550,596],[550,596],[550,596],[150,191],[150,191],[150,191],[150,191],[150,191],[150,191],[150,191],[150,191],[150,191],[50,88],[50,88],[50,88],[50,88],[50,88],[450,494],[450,494],[450,494],[450,494],[450,494],[450,494],[450,494],[450,494],[450,494],[450,494],[450,494],[450,494],[450,494],[450,494],[450,494],[450,494],[450,494],[450,494],[450,494],[450,494],[450,494],[450,494],[450,494],[450,494],[450,494],[450,494],[450,494],[450,494],[450,494],[450,494],[450,494],[450,494],[150,190],[150,190],[150,190],[150,190],[150,190],[150,190],[150,190],[150,190],[150,190],[150,190],[150,190],[150,190],[150,190],[150,190],[150,190],[150,190],[150,190],[150,190],[150,190],[150,190],[150,190],[150,190],[150,190],[150,190],[150,190],[150,190],[150,190],[150,190],[150,190],[150,190],[150,190],[150,190],[150,190],[150,190],[150,190],[150,190],[150,190],[150,190],[150,190],[150,190],[150,190],[150,190],[150,190],[150,190],[150,190],[150,190],[150,190],[150,190],[150,190],[150,190],[150,190],[150,190],[150,190],[150,190],[150,190],[150,190],[150,190],[150,190],[150,190],[150,190],[150,190],[150,190],[150,190],[150,190],[150,190],[150,190],[150,190],[150,190],[150,190],[150,190],[150,190],[150,190],[150,190],[150,190],[150,190],[150,190],[150,190],[150,190],[150,190],[150,190],[150,190],[250,293],[250,293],[250,293],[250,293],[250,293],[250,293],[250,293],[250,293],[250,293],[250,293],[250,293],[250,293],[250,293],[450,494],[450,494],[450,494],[450,494],[350,394],[350,394],[350,394],[350,394],[350,394],[350,394],[350,394],[550,596],[550,596],[550,596],[550,596],[550,596],[550,596],[550,596],[250,292],[250,292],[250,292],[250,292],[250,292],[250,292],[350,394],[350,394],[350,394],[350,394],[350,394],[550,595],[550,595],[550,595],[550,595],[550,595],[550,595],[550,595],[550,595],[550,595],[550,595],[550,595],[550,595],[550,595],[550,595],[550,595],[550,595],[550,595],[550,595],[550,595],[550,595],[550,595],[550,595],[550,595],[550,595]]}},\"id\":\"12de71fa-efdb-4118-bf76-844e8ac07091\",\"type\":\"ColumnDataSource\"},{\"attributes\":{\"callback\":null,\"column_names\":[\"right\",\"bottom\",\"top\",\"left\",\"fill_color\"],\"data\":{\"bottom\":[550,150,50,450,150,250,450,350,550,250,350,550],\"fill_color\":[\"#808080\",\"#c4c461\",\"#ffff00\",\"#c4c461\",\"#808080\",\"#808080\",\"#808080\",\"#808080\",\"#c46161\",\"#808080\",\"#808080\",\"#808080\"],\"left\":[135757320,135829592,135959272,136393658,136494985,136500475,136506375,136535876,136588031,136652491,136652953,136653925],\"right\":[135777504,136420908,136375855,136486342,136773638,136542560,136538939,136554890,136593678,136732772,136761175,136761853],\"top\":[596,191,88,494,190,293,494,394,596,292,394,595]}},\"id\":\"5d964b33-9bae-44a5-a363-340f648cfd3d\",\"type\":\"ColumnDataSource\"},{\"attributes\":{\"formatter\":{\"id\":\"a1aa3e51-08a0-4087-905a-72e005f85949\",\"type\":\"BasicTickFormatter\"},\"plot\":{\"id\":\"36f2fc8f-67cc-4cf7-8b19-a4b6f395a599\",\"subtype\":\"Figure\",\"type\":\"Plot\"},\"ticker\":{\"id\":\"4197f02f-cb24-4e35-b195-d6df82968661\",\"type\":\"BasicTicker\"}},\"id\":\"9a718b5b-d4cf-401c-83fd-4869295c5704\",\"type\":\"LinearAxis\"},{\"attributes\":{\"overlay\":{\"id\":\"04dff8c5-0aae-4e3e-bab7-c62e5dc59eb0\",\"type\":\"BoxAnnotation\"},\"plot\":{\"id\":\"36f2fc8f-67cc-4cf7-8b19-a4b6f395a599\",\"subtype\":\"Figure\",\"type\":\"Plot\"}},\"id\":\"8bd5c946-25b8-4c26-a5ad-49ceca6b3d75\",\"type\":\"BoxZoomTool\"},{\"attributes\":{\"dimension\":1,\"plot\":{\"id\":\"36f2fc8f-67cc-4cf7-8b19-a4b6f395a599\",\"subtype\":\"Figure\",\"type\":\"Plot\"},\"ticker\":{\"id\":\"b36e4724-8650-4225-ada3-68cfed24150a\",\"type\":\"BasicTicker\"}},\"id\":\"579d00f1-267b-400a-9e9f-75f4e3997f73\",\"type\":\"Grid\"},{\"attributes\":{\"data_source\":{\"id\":\"0b1fbf32-9657-4f16-b09f-8da35e05e8a5\",\"type\":\"ColumnDataSource\"},\"glyph\":{\"id\":\"b2b7e904-62c2-46be-883d-0609c4305414\",\"type\":\"Quad\"},\"hover_glyph\":null,\"nonselection_glyph\":{\"id\":\"f9c5066e-64c7-4eb1-877a-a3ad92cb1f26\",\"type\":\"Quad\"},\"selection_glyph\":null},\"id\":\"022fc8ef-05f8-4791-a5d8-f3156d26aa12\",\"type\":\"GlyphRenderer\"},{\"attributes\":{\"data_source\":{\"id\":\"5d964b33-9bae-44a5-a363-340f648cfd3d\",\"type\":\"ColumnDataSource\"},\"glyph\":{\"id\":\"9a2e31f3-76ca-443d-a41d-b3ebe993bdae\",\"type\":\"Quad\"},\"hover_glyph\":null,\"nonselection_glyph\":{\"id\":\"ca2a7060-4bf9-46a0-8645-0d5526f78778\",\"type\":\"Quad\"},\"selection_glyph\":null},\"id\":\"7e7c3411-0d28-4735-9b32-51b67ec80197\",\"type\":\"GlyphRenderer\"},{\"attributes\":{\"bottom_units\":\"screen\",\"fill_alpha\":{\"value\":0.5},\"fill_color\":{\"value\":\"lightgrey\"},\"left_units\":\"screen\",\"level\":\"overlay\",\"line_alpha\":{\"value\":1.0},\"line_color\":{\"value\":\"black\"},\"line_dash\":[4,4],\"line_width\":{\"value\":2},\"plot\":null,\"render_mode\":\"css\",\"right_units\":\"screen\",\"top_units\":\"screen\"},\"id\":\"04dff8c5-0aae-4e3e-bab7-c62e5dc59eb0\",\"type\":\"BoxAnnotation\"},{\"attributes\":{\"level\":\"glyph\",\"plot\":{\"id\":\"36f2fc8f-67cc-4cf7-8b19-a4b6f395a599\",\"subtype\":\"Figure\",\"type\":\"Plot\"},\"source\":{\"id\":\"d51f2c6c-229f-4400-9f4c-eb632577293a\",\"type\":\"ColumnDataSource\"},\"text\":{\"field\":\"vals\"},\"text_font_size\":{\"value\":\"9pt\"},\"text_font_style\":\"bold\",\"x\":{\"field\":\"x\"},\"y\":{\"field\":\"y\"}},\"id\":\"56a7df6b-5dd5-4d69-a790-31c8118cc848\",\"type\":\"LabelSet\"},{\"attributes\":{\"callback\":null,\"column_names\":[\"right\",\"bottom\",\"top\",\"left\"],\"data\":{\"bottom\":[645,645,645,645,645,645,645],\"left\":[135809835,135957574,136289083,136499189,136545415,136597196,136664254],\"right\":[135928279,136288182,136482839,136542633,136594750,136634047,136743222],\"top\":[675,675,675,675,675,675,675]}},\"id\":\"0b1fbf32-9657-4f16-b09f-8da35e05e8a5\",\"type\":\"ColumnDataSource\"},{\"attributes\":{\"plot\":null,\"text\":null},\"id\":\"4b84ee50-0315-4c0a-8f79-5475012db0f9\",\"type\":\"Title\"},{\"attributes\":{\"plot\":{\"id\":\"36f2fc8f-67cc-4cf7-8b19-a4b6f395a599\",\"subtype\":\"Figure\",\"type\":\"Plot\"}},\"id\":\"f8ab4d1f-85b6-43d6-b67f-3bed09d7c40c\",\"type\":\"ResetTool\"},{\"attributes\":{\"plot\":{\"id\":\"36f2fc8f-67cc-4cf7-8b19-a4b6f395a599\",\"subtype\":\"Figure\",\"type\":\"Plot\"}},\"id\":\"5b8491c9-36a7-458b-a9ab-2eff71c348cf\",\"type\":\"PanTool\"},{\"attributes\":{\"data_source\":{\"id\":\"12de71fa-efdb-4118-bf76-844e8ac07091\",\"type\":\"ColumnDataSource\"},\"glyph\":{\"id\":\"e959ce1d-22eb-4772-a58e-36907a399511\",\"type\":\"MultiLine\"},\"hover_glyph\":null,\"nonselection_glyph\":{\"id\":\"a52028e6-73b6-4f87-9897-8119bb2cedcd\",\"type\":\"MultiLine\"},\"selection_glyph\":null},\"id\":\"9cfdf16e-4905-47a7-a564-a29254596347\",\"type\":\"GlyphRenderer\"},{\"attributes\":{\"bottom\":{\"field\":\"bottom\"},\"fill_alpha\":{\"value\":0.1},\"fill_color\":{\"value\":\"#1f77b4\"},\"left\":{\"field\":\"left\"},\"line_alpha\":{\"value\":0.1},\"line_color\":{\"value\":\"#1f77b4\"},\"right\":{\"field\":\"right\"},\"top\":{\"field\":\"top\"}},\"id\":\"f9c5066e-64c7-4eb1-877a-a3ad92cb1f26\",\"type\":\"Quad\"},{\"attributes\":{\"plot\":{\"id\":\"36f2fc8f-67cc-4cf7-8b19-a4b6f395a599\",\"subtype\":\"Figure\",\"type\":\"Plot\"}},\"id\":\"e9f2746c-a55e-41a9-a7f6-631d8475423b\",\"type\":\"HelpTool\"},{\"attributes\":{},\"id\":\"de447d4c-a807-43d6-99da-690cc758858c\",\"type\":\"ToolEvents\"},{\"attributes\":{\"callback\":null,\"end\":136786630,\"start\":135757320},\"id\":\"5153879b-9eb5-47cc-97dc-920bda52cd5e\",\"type\":\"Range1d\"},{\"attributes\":{\"callback\":null,\"column_names\":[\"y\",\"x\",\"vals\"],\"data\":{\"vals\":[\"RAB3GAP1\",\"ZRANB3\",\"R3HDM1\",\"UBXN4\",\"LCT\",\"MCM6\",\"DARS\"],\"x\":[135869057.0,136122878.0,136385961.0,136520911.0,136570082.5,136615621.5,136703738.0],\"y\":[660.0,660.0,660.0,660.0,660.0,660.0,660.0]}},\"id\":\"ab7f6798-c6c5-4352-9c0f-39a00e2c99bb\",\"type\":\"ColumnDataSource\"},{\"attributes\":{\"formatter\":{\"id\":\"8756bfd0-8a13-4aba-91c1-63ec4337ec77\",\"type\":\"BasicTickFormatter\"},\"plot\":{\"id\":\"36f2fc8f-67cc-4cf7-8b19-a4b6f395a599\",\"subtype\":\"Figure\",\"type\":\"Plot\"},\"ticker\":{\"id\":\"b36e4724-8650-4225-ada3-68cfed24150a\",\"type\":\"BasicTicker\"},\"visible\":null},\"id\":\"e1e2efbd-410f-442d-a18a-f63004e81e5b\",\"type\":\"LinearAxis\"},{\"attributes\":{\"plot\":{\"id\":\"36f2fc8f-67cc-4cf7-8b19-a4b6f395a599\",\"subtype\":\"Figure\",\"type\":\"Plot\"},\"ticker\":{\"id\":\"4197f02f-cb24-4e35-b195-d6df82968661\",\"type\":\"BasicTicker\"}},\"id\":\"f7245df8-a5bd-4643-96c1-e77ee0f30148\",\"type\":\"Grid\"},{\"attributes\":{\"below\":[{\"id\":\"9a718b5b-d4cf-401c-83fd-4869295c5704\",\"type\":\"LinearAxis\"}],\"left\":[{\"id\":\"e1e2efbd-410f-442d-a18a-f63004e81e5b\",\"type\":\"LinearAxis\"}],\"plot_height\":700,\"plot_width\":900,\"renderers\":[{\"id\":\"9a718b5b-d4cf-401c-83fd-4869295c5704\",\"type\":\"LinearAxis\"},{\"id\":\"f7245df8-a5bd-4643-96c1-e77ee0f30148\",\"type\":\"Grid\"},{\"id\":\"e1e2efbd-410f-442d-a18a-f63004e81e5b\",\"type\":\"LinearAxis\"},{\"id\":\"579d00f1-267b-400a-9e9f-75f4e3997f73\",\"type\":\"Grid\"},{\"id\":\"04dff8c5-0aae-4e3e-bab7-c62e5dc59eb0\",\"type\":\"BoxAnnotation\"},{\"id\":\"7e7c3411-0d28-4735-9b32-51b67ec80197\",\"type\":\"GlyphRenderer\"},{\"id\":\"9cfdf16e-4905-47a7-a564-a29254596347\",\"type\":\"GlyphRenderer\"},{\"id\":\"56a7df6b-5dd5-4d69-a790-31c8118cc848\",\"type\":\"LabelSet\"},{\"id\":\"022fc8ef-05f8-4791-a5d8-f3156d26aa12\",\"type\":\"GlyphRenderer\"},{\"id\":\"ededd0d9-540c-4ebc-9cc5-a65863b0a78f\",\"type\":\"LabelSet\"}],\"title\":{\"id\":\"4b84ee50-0315-4c0a-8f79-5475012db0f9\",\"type\":\"Title\"},\"tool_events\":{\"id\":\"de447d4c-a807-43d6-99da-690cc758858c\",\"type\":\"ToolEvents\"},\"toolbar\":{\"id\":\"8279a043-3be8-4591-a8ca-76e3ecbecc44\",\"type\":\"Toolbar\"},\"toolbar_location\":null,\"x_range\":{\"id\":\"5153879b-9eb5-47cc-97dc-920bda52cd5e\",\"type\":\"Range1d\"},\"y_range\":{\"id\":\"04920da1-a371-4bbe-af9d-1b757c3ba8a6\",\"type\":\"Range1d\"}},\"id\":\"36f2fc8f-67cc-4cf7-8b19-a4b6f395a599\",\"subtype\":\"Figure\",\"type\":\"Plot\"},{\"attributes\":{\"line_alpha\":{\"value\":0.1},\"line_color\":{\"value\":\"#1f77b4\"},\"xs\":{\"field\":\"xs\"},\"ys\":{\"field\":\"ys\"}},\"id\":\"a52028e6-73b6-4f87-9897-8119bb2cedcd\",\"type\":\"MultiLine\"},{\"attributes\":{},\"id\":\"8756bfd0-8a13-4aba-91c1-63ec4337ec77\",\"type\":\"BasicTickFormatter\"},{\"attributes\":{\"bottom\":{\"field\":\"bottom\"},\"fill_color\":{\"field\":\"fill_color\"},\"left\":{\"field\":\"left\"},\"line_color\":{\"value\":null},\"right\":{\"field\":\"right\"},\"top\":{\"field\":\"top\"}},\"id\":\"9a2e31f3-76ca-443d-a41d-b3ebe993bdae\",\"type\":\"Quad\"},{\"attributes\":{\"bottom\":{\"field\":\"bottom\"},\"fill_color\":{\"value\":\"white\"},\"left\":{\"field\":\"left\"},\"right\":{\"field\":\"right\"},\"top\":{\"field\":\"top\"}},\"id\":\"b2b7e904-62c2-46be-883d-0609c4305414\",\"type\":\"Quad\"},{\"attributes\":{\"callback\":null,\"end\":700},\"id\":\"04920da1-a371-4bbe-af9d-1b757c3ba8a6\",\"type\":\"Range1d\"},{\"attributes\":{\"level\":\"glyph\",\"plot\":{\"id\":\"36f2fc8f-67cc-4cf7-8b19-a4b6f395a599\",\"subtype\":\"Figure\",\"type\":\"Plot\"},\"source\":{\"id\":\"ab7f6798-c6c5-4352-9c0f-39a00e2c99bb\",\"type\":\"ColumnDataSource\"},\"text\":{\"field\":\"vals\"},\"text_align\":\"center\",\"text_baseline\":\"middle\",\"text_font_size\":{\"value\":\"8pt\"},\"x\":{\"field\":\"x\"},\"y\":{\"field\":\"y\"}},\"id\":\"ededd0d9-540c-4ebc-9cc5-a65863b0a78f\",\"type\":\"LabelSet\"},{\"attributes\":{},\"id\":\"a1aa3e51-08a0-4087-905a-72e005f85949\",\"type\":\"BasicTickFormatter\"},{\"attributes\":{\"line_color\":{\"field\":\"line_color\"},\"xs\":{\"field\":\"xs\"},\"ys\":{\"field\":\"ys\"}},\"id\":\"e959ce1d-22eb-4772-a58e-36907a399511\",\"type\":\"MultiLine\"},{\"attributes\":{\"plot\":{\"id\":\"36f2fc8f-67cc-4cf7-8b19-a4b6f395a599\",\"subtype\":\"Figure\",\"type\":\"Plot\"}},\"id\":\"91a52060-88bf-45aa-8eae-9c57656ab684\",\"type\":\"WheelZoomTool\"},{\"attributes\":{\"callback\":null,\"column_names\":[\"y\",\"x\",\"vals\"],\"data\":{\"vals\":[\"13_1696\",\"9_944\",\"5_684\",\"32_1361\",\"81_857\",\"13_1227\",\"4_1442\",\"7_1303\",\"7_1760\",\"6_1114\",\"5_1296\",\"24_1504\"],\"x\":[135757320,135829592,135959272,136393658,136494985,136500475,136506375,136535876,136588031,136652491,136652953,136653925],\"y\":[601.0,196.0,93.0,499.0,195.0,298.0,499.0,399.0,601.0,297.0,399.0,600.0]}},\"id\":\"d51f2c6c-229f-4400-9f4c-eb632577293a\",\"type\":\"ColumnDataSource\"},{\"attributes\":{\"active_drag\":\"auto\",\"active_scroll\":\"auto\",\"active_tap\":\"auto\",\"tools\":[{\"id\":\"5b8491c9-36a7-458b-a9ab-2eff71c348cf\",\"type\":\"PanTool\"},{\"id\":\"91a52060-88bf-45aa-8eae-9c57656ab684\",\"type\":\"WheelZoomTool\"},{\"id\":\"8bd5c946-25b8-4c26-a5ad-49ceca6b3d75\",\"type\":\"BoxZoomTool\"},{\"id\":\"4635c666-5b31-4434-9b61-28d65814ae7f\",\"type\":\"SaveTool\"},{\"id\":\"f8ab4d1f-85b6-43d6-b67f-3bed09d7c40c\",\"type\":\"ResetTool\"},{\"id\":\"e9f2746c-a55e-41a9-a7f6-631d8475423b\",\"type\":\"HelpTool\"}]},\"id\":\"8279a043-3be8-4591-a8ca-76e3ecbecc44\",\"type\":\"Toolbar\"},{\"attributes\":{},\"id\":\"4197f02f-cb24-4e35-b195-d6df82968661\",\"type\":\"BasicTicker\"},{\"attributes\":{},\"id\":\"b36e4724-8650-4225-ada3-68cfed24150a\",\"type\":\"BasicTicker\"}],\"root_ids\":[\"36f2fc8f-67cc-4cf7-8b19-a4b6f395a599\"]},\"title\":\"Bokeh Application\",\"version\":\"0.12.0\"}};\n",
       "            var render_items = [{\"docid\":\"4e82c22a-7471-401d-a7db-fe635bc229ae\",\"elementid\":\"bfc731ef-485b-46cb-a9c1-67394d3beb88\",\"modelid\":\"36f2fc8f-67cc-4cf7-8b19-a4b6f395a599\",\"notebook_comms_target\":\"08f47b47-ec28-4916-ae51-a1162f2876e9\"}];\n",
       "            \n",
       "            Bokeh.embed.embed_items(docs_json, render_items);\n",
       "        });\n",
       "      },\n",
       "      function(Bokeh) {\n",
       "      }\n",
       "    ];\n",
       "  \n",
       "    function run_inline_js() {\n",
       "      for (var i = 0; i < inline_js.length; i++) {\n",
       "        inline_js[i](window.Bokeh);\n",
       "      }\n",
       "    }\n",
       "  \n",
       "    if (window._bokeh_is_loading === 0) {\n",
       "      console.log(\"Bokeh: BokehJS loaded, going straight to plotting\");\n",
       "      run_inline_js();\n",
       "    } else {\n",
       "      load_libs(js_urls, function() {\n",
       "        console.log(\"Bokeh: BokehJS plotting callback run at\", now());\n",
       "        run_inline_js();\n",
       "      });\n",
       "    }\n",
       "  }(this));\n",
       "</script>"
      ]
     },
     "metadata": {},
     "output_type": "display_data"
    },
    {
     "data": {
      "text/html": [
       "<p><code>&lt;Bokeh Notebook handle for <strong>In[12]</strong>&gt;</code></p>"
      ],
      "text/plain": [
       "<bokeh.io._CommsHandle at 0x7f7c7ed906d0>"
      ]
     },
     "execution_count": 12,
     "metadata": {},
     "output_type": "execute_result"
    }
   ],
   "source": [
    "plt_obj = dm.superset_yes_no([dm.di_13_1696, dm.di_5_684, dm.di_81_857], min_match=0.5)\n",
    "plt = plt_obj.do_plot()\n",
    "show(plt)"
   ]
  },
  {
   "cell_type": "code",
   "execution_count": 13,
   "metadata": {
    "collapsed": false
   },
   "outputs": [
    {
     "data": {
      "text/html": [
       "<table>\n",
       "<thead><tr><th style=\"text-align:center\">index</th><th style=\"text-align:center\">first</th><th style=\"text-align:center\">length</th><th style=\"text-align:center\">snps</th><th style=\"text-align:center\" colspan=2>alleles</th><th style=\"text-align:center\" colspan=2>matches</th><th style=\"text-align:center\" colspan=2>afr</th><th style=\"text-align:center\" colspan=2>afx</th><th style=\"text-align:center\" colspan=2>amr</th><th style=\"text-align:center\" colspan=2>eas</th><th style=\"text-align:center\" colspan=2>eur</th><th style=\"text-align:center\" colspan=2>sas</th><th style=\"text-align:center\" colspan=2>sax</th></tr></thead>\n",
       "<tr class=\"even\"><td style=\"text-align: right;\">354033</td><td style=\"text-align: right;\">136,588,031</td><td style=\"text-align: right;\">5,647</td><td style=\"text-align: right;\">7</td><td style=\"text-align: right;\">1760</td><td style=\"text-align: right;\">0.14</td><td style=\"text-align: right;\">238</td><td style=\"text-align: right;\">1.00</td><td style=\"text-align: right;\">0</td><td style=\"text-align: right;\">0.00</td><td style=\"text-align: right;\">0</td><td style=\"text-align: right;\">0.00</td><td style=\"text-align: right;\">43</td><td style=\"text-align: right;\">1.30</td><td style=\"text-align: right;\">122</td><td style=\"text-align: right;\">2.55</td><td style=\"text-align: right;\">25</td><td style=\"text-align: right;\">0.52</td><td style=\"text-align: right;\">17</td><td style=\"text-align: right;\">0.98</td><td style=\"text-align: right;\">31</td><td style=\"text-align: right;\">1.06</td></tr>\n",
       "<tr><td style=\"text-align: right;\">353240</td><td style=\"text-align: right;\">135,757,320</td><td style=\"text-align: right;\">20,184</td><td style=\"text-align: right;\">13</td><td style=\"text-align: right;\">1696</td><td style=\"text-align: right;\">0.14</td><td style=\"text-align: right;\">238</td><td style=\"text-align: right;\">1.00</td><td style=\"text-align: right;\">0</td><td style=\"text-align: right;\">0.00</td><td style=\"text-align: right;\">0</td><td style=\"text-align: right;\">0.00</td><td style=\"text-align: right;\">43</td><td style=\"text-align: right;\">1.30</td><td style=\"text-align: right;\">122</td><td style=\"text-align: right;\">2.55</td><td style=\"text-align: right;\">25</td><td style=\"text-align: right;\">0.52</td><td style=\"text-align: right;\">17</td><td style=\"text-align: right;\">0.98</td><td style=\"text-align: right;\">31</td><td style=\"text-align: right;\">1.06</td></tr>\n",
       "<tr class=\"even\"><td style=\"text-align: right;\">354130</td><td style=\"text-align: right;\">136,653,925</td><td style=\"text-align: right;\">107,928</td><td style=\"text-align: right;\">24</td><td style=\"text-align: right;\">1504</td><td style=\"text-align: right;\">0.16</td><td style=\"text-align: right;\">238</td><td style=\"text-align: right;\">1.00</td><td style=\"text-align: right;\">0</td><td style=\"text-align: right;\">0.00</td><td style=\"text-align: right;\">0</td><td style=\"text-align: right;\">0.00</td><td style=\"text-align: right;\">43</td><td style=\"text-align: right;\">1.30</td><td style=\"text-align: right;\">122</td><td style=\"text-align: right;\">2.55</td><td style=\"text-align: right;\">25</td><td style=\"text-align: right;\">0.52</td><td style=\"text-align: right;\">17</td><td style=\"text-align: right;\">0.98</td><td style=\"text-align: right;\">31</td><td style=\"text-align: right;\">1.06</td></tr>\n",
       "<tr><td style=\"text-align: right;\">353925</td><td style=\"text-align: right;\">136,506,375</td><td style=\"text-align: right;\">32,564</td><td style=\"text-align: right;\">4</td><td style=\"text-align: right;\">1442</td><td style=\"text-align: right;\">0.17</td><td style=\"text-align: right;\">238</td><td style=\"text-align: right;\">1.00</td><td style=\"text-align: right;\">0</td><td style=\"text-align: right;\">0.00</td><td style=\"text-align: right;\">0</td><td style=\"text-align: right;\">0.00</td><td style=\"text-align: right;\">43</td><td style=\"text-align: right;\">1.30</td><td style=\"text-align: right;\">122</td><td style=\"text-align: right;\">2.55</td><td style=\"text-align: right;\">25</td><td style=\"text-align: right;\">0.52</td><td style=\"text-align: right;\">17</td><td style=\"text-align: right;\">0.98</td><td style=\"text-align: right;\">31</td><td style=\"text-align: right;\">1.06</td></tr>\n",
       "<tr class=\"even\"><td style=\"text-align: right;\">353791</td><td style=\"text-align: right;\">136,393,658</td><td style=\"text-align: right;\">92,684</td><td style=\"text-align: right;\">32</td><td style=\"text-align: right;\">1361</td><td style=\"text-align: right;\">0.17</td><td style=\"text-align: right;\">238</td><td style=\"text-align: right;\">1.00</td><td style=\"text-align: right;\">0</td><td style=\"text-align: right;\">0.00</td><td style=\"text-align: right;\">0</td><td style=\"text-align: right;\">0.00</td><td style=\"text-align: right;\">43</td><td style=\"text-align: right;\">1.30</td><td style=\"text-align: right;\">122</td><td style=\"text-align: right;\">2.55</td><td style=\"text-align: right;\">25</td><td style=\"text-align: right;\">0.52</td><td style=\"text-align: right;\">17</td><td style=\"text-align: right;\">0.98</td><td style=\"text-align: right;\">31</td><td style=\"text-align: right;\">1.06</td></tr>\n",
       "<tr><td style=\"text-align: right;\">353958</td><td style=\"text-align: right;\">136,535,876</td><td style=\"text-align: right;\">19,014</td><td style=\"text-align: right;\">7</td><td style=\"text-align: right;\">1303</td><td style=\"text-align: right;\">0.18</td><td style=\"text-align: right;\">238</td><td style=\"text-align: right;\">1.00</td><td style=\"text-align: right;\">0</td><td style=\"text-align: right;\">0.00</td><td style=\"text-align: right;\">0</td><td style=\"text-align: right;\">0.00</td><td style=\"text-align: right;\">43</td><td style=\"text-align: right;\">1.30</td><td style=\"text-align: right;\">122</td><td style=\"text-align: right;\">2.55</td><td style=\"text-align: right;\">25</td><td style=\"text-align: right;\">0.52</td><td style=\"text-align: right;\">17</td><td style=\"text-align: right;\">0.98</td><td style=\"text-align: right;\">31</td><td style=\"text-align: right;\">1.06</td></tr>\n",
       "<tr class=\"even\"><td style=\"text-align: right;\">354129</td><td style=\"text-align: right;\">136,652,953</td><td style=\"text-align: right;\">108,222</td><td style=\"text-align: right;\">5</td><td style=\"text-align: right;\">1296</td><td style=\"text-align: right;\">0.18</td><td style=\"text-align: right;\">238</td><td style=\"text-align: right;\">1.00</td><td style=\"text-align: right;\">0</td><td style=\"text-align: right;\">0.00</td><td style=\"text-align: right;\">0</td><td style=\"text-align: right;\">0.00</td><td style=\"text-align: right;\">43</td><td style=\"text-align: right;\">1.30</td><td style=\"text-align: right;\">122</td><td style=\"text-align: right;\">2.55</td><td style=\"text-align: right;\">25</td><td style=\"text-align: right;\">0.52</td><td style=\"text-align: right;\">17</td><td style=\"text-align: right;\">0.98</td><td style=\"text-align: right;\">31</td><td style=\"text-align: right;\">1.06</td></tr>\n",
       "<tr><td style=\"text-align: right;\">353919</td><td style=\"text-align: right;\">136,500,475</td><td style=\"text-align: right;\">42,085</td><td style=\"text-align: right;\">13</td><td style=\"text-align: right;\">1227</td><td style=\"text-align: right;\">0.19</td><td style=\"text-align: right;\">236</td><td style=\"text-align: right;\">0.99</td><td style=\"text-align: right;\">0</td><td style=\"text-align: right;\">0.00</td><td style=\"text-align: right;\">0</td><td style=\"text-align: right;\">0.00</td><td style=\"text-align: right;\">42</td><td style=\"text-align: right;\">1.28</td><td style=\"text-align: right;\">122</td><td style=\"text-align: right;\">2.57</td><td style=\"text-align: right;\">25</td><td style=\"text-align: right;\">0.53</td><td style=\"text-align: right;\">17</td><td style=\"text-align: right;\">0.99</td><td style=\"text-align: right;\">30</td><td style=\"text-align: right;\">1.04</td></tr>\n",
       "<tr class=\"even\"><td style=\"text-align: right;\">354127</td><td style=\"text-align: right;\">136,652,491</td><td style=\"text-align: right;\">80,281</td><td style=\"text-align: right;\">6</td><td style=\"text-align: right;\">1114</td><td style=\"text-align: right;\">0.21</td><td style=\"text-align: right;\">238</td><td style=\"text-align: right;\">1.00</td><td style=\"text-align: right;\">0</td><td style=\"text-align: right;\">0.00</td><td style=\"text-align: right;\">0</td><td style=\"text-align: right;\">0.00</td><td style=\"text-align: right;\">43</td><td style=\"text-align: right;\">1.30</td><td style=\"text-align: right;\">122</td><td style=\"text-align: right;\">2.55</td><td style=\"text-align: right;\">25</td><td style=\"text-align: right;\">0.52</td><td style=\"text-align: right;\">17</td><td style=\"text-align: right;\">0.98</td><td style=\"text-align: right;\">31</td><td style=\"text-align: right;\">1.06</td></tr>\n",
       "<tr><td style=\"text-align: right;\">353372</td><td style=\"text-align: right;\">135,829,592</td><td style=\"text-align: right;\">591,316</td><td style=\"text-align: right;\">9</td><td style=\"text-align: right;\">944</td><td style=\"text-align: right;\">0.25</td><td style=\"text-align: right;\">237</td><td style=\"text-align: right;\">1.00</td><td style=\"text-align: right;\">0</td><td style=\"text-align: right;\">0.00</td><td style=\"text-align: right;\">0</td><td style=\"text-align: right;\">0.00</td><td style=\"text-align: right;\">42</td><td style=\"text-align: right;\">1.28</td><td style=\"text-align: right;\">122</td><td style=\"text-align: right;\">2.56</td><td style=\"text-align: right;\">25</td><td style=\"text-align: right;\">0.53</td><td style=\"text-align: right;\">17</td><td style=\"text-align: right;\">0.99</td><td style=\"text-align: right;\">31</td><td style=\"text-align: right;\">1.07</td></tr>\n",
       "<tr class=\"even\"><td style=\"text-align: right;\">353902</td><td style=\"text-align: right;\">136,494,985</td><td style=\"text-align: right;\">278,653</td><td style=\"text-align: right;\">81</td><td style=\"text-align: right;\">857</td><td style=\"text-align: right;\">0.28</td><td style=\"text-align: right;\">238</td><td style=\"text-align: right;\">1.00</td><td style=\"text-align: right;\">0</td><td style=\"text-align: right;\">0.00</td><td style=\"text-align: right;\">0</td><td style=\"text-align: right;\">0.00</td><td style=\"text-align: right;\">43</td><td style=\"text-align: right;\">1.30</td><td style=\"text-align: right;\">122</td><td style=\"text-align: right;\">2.55</td><td style=\"text-align: right;\">25</td><td style=\"text-align: right;\">0.52</td><td style=\"text-align: right;\">17</td><td style=\"text-align: right;\">0.98</td><td style=\"text-align: right;\">31</td><td style=\"text-align: right;\">1.06</td></tr>\n",
       "<tr><td style=\"text-align: right;\">353498</td><td style=\"text-align: right;\">135,959,272</td><td style=\"text-align: right;\">416,583</td><td style=\"text-align: right;\">5</td><td style=\"text-align: right;\">684</td><td style=\"text-align: right;\">0.35</td><td style=\"text-align: right;\">238</td><td style=\"text-align: right;\">1.00</td><td style=\"text-align: right;\">0</td><td style=\"text-align: right;\">0.00</td><td style=\"text-align: right;\">0</td><td style=\"text-align: right;\">0.00</td><td style=\"text-align: right;\">43</td><td style=\"text-align: right;\">1.30</td><td style=\"text-align: right;\">122</td><td style=\"text-align: right;\">2.55</td><td style=\"text-align: right;\">25</td><td style=\"text-align: right;\">0.52</td><td style=\"text-align: right;\">17</td><td style=\"text-align: right;\">0.98</td><td style=\"text-align: right;\">31</td><td style=\"text-align: right;\">1.06</td></tr>\n",
       "</table>"
      ],
      "text/plain": [
       "<IPython.core.display.HTML object>"
      ]
     },
     "execution_count": 13,
     "metadata": {},
     "output_type": "execute_result"
    }
   ],
   "source": [
    "HTML(plt_obj.get_html())"
   ]
  },
  {
   "cell_type": "markdown",
   "metadata": {},
   "source": [
    "<div style=\"width:700px\">\n",
    "<p>\n",
    "A significant number of the samples that express series 5_684 show an history of recombination events\n",
    "where the first two SNPs of series 9_944 were lost.  Those samples are not counted as expressing 9_944.\n",
    "The result is a mistmatch in the tree structure that confuses the analysis of 5_684 as a part of the 9_944 rooted\n",
    "tree hierarchy.  The rest of this notebook focuses on hierarchies rooted in 9_944 that do\n",
    "not include 5_684.  The hierarchies rooted in 5_684 are analyzed in the notebook [eas sub 5 684](eas_sub_5_684.ipynb)\n",
    "<p>\n",
    "This plot shows the 6 series that are descendants of series 9_944 but not 5_684.\n",
    "</div>"
   ]
  },
  {
   "cell_type": "code",
   "execution_count": 14,
   "metadata": {
    "collapsed": false
   },
   "outputs": [
    {
     "data": {
      "text/html": [
       "\n",
       "\n",
       "    <div class=\"bk-root\">\n",
       "        <div class=\"plotdiv\" id=\"5033982c-7c38-4076-8602-4aaa14b1399b\"></div>\n",
       "    </div>\n",
       "<script type=\"text/javascript\">\n",
       "  \n",
       "  (function(global) {\n",
       "    function now() {\n",
       "      return new Date();\n",
       "    }\n",
       "  \n",
       "    if (typeof (window._bokeh_onload_callbacks) === \"undefined\") {\n",
       "      window._bokeh_onload_callbacks = [];\n",
       "    }\n",
       "  \n",
       "    function run_callbacks() {\n",
       "      window._bokeh_onload_callbacks.forEach(function(callback) { callback() });\n",
       "      delete window._bokeh_onload_callbacks\n",
       "      console.info(\"Bokeh: all callbacks have finished\");\n",
       "    }\n",
       "  \n",
       "    function load_libs(js_urls, callback) {\n",
       "      window._bokeh_onload_callbacks.push(callback);\n",
       "      if (window._bokeh_is_loading > 0) {\n",
       "        console.log(\"Bokeh: BokehJS is being loaded, scheduling callback at\", now());\n",
       "        return null;\n",
       "      }\n",
       "      if (js_urls == null || js_urls.length === 0) {\n",
       "        run_callbacks();\n",
       "        return null;\n",
       "      }\n",
       "      console.log(\"Bokeh: BokehJS not loaded, scheduling load and callback at\", now());\n",
       "      window._bokeh_is_loading = js_urls.length;\n",
       "      for (var i = 0; i < js_urls.length; i++) {\n",
       "        var url = js_urls[i];\n",
       "        var s = document.createElement('script');\n",
       "        s.src = url;\n",
       "        s.async = false;\n",
       "        s.onreadystatechange = s.onload = function() {\n",
       "          window._bokeh_is_loading--;\n",
       "          if (window._bokeh_is_loading === 0) {\n",
       "            console.log(\"Bokeh: all BokehJS libraries loaded\");\n",
       "            run_callbacks()\n",
       "          }\n",
       "        };\n",
       "        s.onerror = function() {\n",
       "          console.warn(\"failed to load library \" + url);\n",
       "        };\n",
       "        console.log(\"Bokeh: injecting script tag for BokehJS library: \", url);\n",
       "        document.getElementsByTagName(\"head\")[0].appendChild(s);\n",
       "      }\n",
       "    };var element = document.getElementById(\"5033982c-7c38-4076-8602-4aaa14b1399b\");\n",
       "    if (element == null) {\n",
       "      console.log(\"Bokeh: ERROR: autoload.js configured with elementid '5033982c-7c38-4076-8602-4aaa14b1399b' but no matching script tag was found. \")\n",
       "      return false;\n",
       "    }\n",
       "  \n",
       "    var js_urls = [];\n",
       "  \n",
       "    var inline_js = [\n",
       "      function(Bokeh) {\n",
       "        Bokeh.$(function() {\n",
       "            var docs_json = {\"d127d489-d16f-4ac5-8533-28ca59747b3e\":{\"roots\":{\"references\":[{\"attributes\":{\"overlay\":{\"id\":\"4b0ac18e-33e8-4a40-abc3-4943aebc804b\",\"type\":\"BoxAnnotation\"},\"plot\":{\"id\":\"1e60a4bc-c775-4aed-b32d-59dfe255f5dd\",\"subtype\":\"Figure\",\"type\":\"Plot\"}},\"id\":\"3d32ba89-515a-4831-a3bf-01d896379eac\",\"type\":\"BoxZoomTool\"},{\"attributes\":{\"plot\":null,\"text\":null},\"id\":\"f57756d2-57c9-440f-9b26-eb2827d1ff81\",\"type\":\"Title\"},{\"attributes\":{\"data_source\":{\"id\":\"6aa9d4a4-f013-4325-8e40-337ac6238bd9\",\"type\":\"ColumnDataSource\"},\"glyph\":{\"id\":\"07152f1d-6980-4835-ba72-d93eab4632ae\",\"type\":\"MultiLine\"},\"hover_glyph\":null,\"nonselection_glyph\":{\"id\":\"990257a2-5d5e-4404-bc63-2caa1094172f\",\"type\":\"MultiLine\"},\"selection_glyph\":null},\"id\":\"68dcf78e-6d94-480d-859b-39ffaaaeb168\",\"type\":\"GlyphRenderer\"},{\"attributes\":{\"plot\":{\"id\":\"1e60a4bc-c775-4aed-b32d-59dfe255f5dd\",\"subtype\":\"Figure\",\"type\":\"Plot\"}},\"id\":\"e73d4404-e53c-415b-9fe9-ecf0ed1b4383\",\"type\":\"HelpTool\"},{\"attributes\":{\"bottom_units\":\"screen\",\"fill_alpha\":{\"value\":0.5},\"fill_color\":{\"value\":\"lightgrey\"},\"left_units\":\"screen\",\"level\":\"overlay\",\"line_alpha\":{\"value\":1.0},\"line_color\":{\"value\":\"black\"},\"line_dash\":[4,4],\"line_width\":{\"value\":2},\"plot\":null,\"render_mode\":\"css\",\"right_units\":\"screen\",\"top_units\":\"screen\"},\"id\":\"4b0ac18e-33e8-4a40-abc3-4943aebc804b\",\"type\":\"BoxAnnotation\"},{\"attributes\":{\"data_source\":{\"id\":\"db3f1669-bca0-4315-8be1-6337635fd14e\",\"type\":\"ColumnDataSource\"},\"glyph\":{\"id\":\"b479cfc3-892b-473d-b155-5386458107a6\",\"type\":\"Quad\"},\"hover_glyph\":null,\"nonselection_glyph\":{\"id\":\"4d61d937-1152-4cd7-adda-7dbf264ab2fa\",\"type\":\"Quad\"},\"selection_glyph\":null},\"id\":\"d5d72302-b9a2-4883-93ff-295cdf47b82e\",\"type\":\"GlyphRenderer\"},{\"attributes\":{\"bottom\":{\"field\":\"bottom\"},\"fill_color\":{\"field\":\"fill_color\"},\"left\":{\"field\":\"left\"},\"line_color\":{\"value\":null},\"right\":{\"field\":\"right\"},\"top\":{\"field\":\"top\"}},\"id\":\"9a861542-fd3d-4fe3-9886-f047e547dd80\",\"type\":\"Quad\"},{\"attributes\":{},\"id\":\"fbf2a6e2-aa65-478b-93ec-8f33490c1506\",\"type\":\"BasicTickFormatter\"},{\"attributes\":{\"bottom\":{\"field\":\"bottom\"},\"fill_color\":{\"value\":\"white\"},\"left\":{\"field\":\"left\"},\"right\":{\"field\":\"right\"},\"top\":{\"field\":\"top\"}},\"id\":\"b479cfc3-892b-473d-b155-5386458107a6\",\"type\":\"Quad\"},{\"attributes\":{\"below\":[{\"id\":\"838efdbb-485a-49d6-b80a-adcd8ec55d8e\",\"type\":\"LinearAxis\"}],\"left\":[{\"id\":\"622f6545-13e2-452c-b5a8-c7d764c78667\",\"type\":\"LinearAxis\"}],\"plot_height\":700,\"plot_width\":900,\"renderers\":[{\"id\":\"838efdbb-485a-49d6-b80a-adcd8ec55d8e\",\"type\":\"LinearAxis\"},{\"id\":\"317a725a-ae41-4efa-b5f8-075657daaa32\",\"type\":\"Grid\"},{\"id\":\"622f6545-13e2-452c-b5a8-c7d764c78667\",\"type\":\"LinearAxis\"},{\"id\":\"a19e872e-18b9-4c9c-8b01-d709736dc163\",\"type\":\"Grid\"},{\"id\":\"4b0ac18e-33e8-4a40-abc3-4943aebc804b\",\"type\":\"BoxAnnotation\"},{\"id\":\"83e11739-ecda-4fb8-9462-cbb83b2c3def\",\"type\":\"GlyphRenderer\"},{\"id\":\"68dcf78e-6d94-480d-859b-39ffaaaeb168\",\"type\":\"GlyphRenderer\"},{\"id\":\"a74af21e-f52d-4aa2-a1be-88ac4e03e960\",\"type\":\"LabelSet\"},{\"id\":\"d5d72302-b9a2-4883-93ff-295cdf47b82e\",\"type\":\"GlyphRenderer\"},{\"id\":\"e943aeb1-45f1-4045-9fec-d359694f1143\",\"type\":\"LabelSet\"}],\"title\":{\"id\":\"f57756d2-57c9-440f-9b26-eb2827d1ff81\",\"type\":\"Title\"},\"tool_events\":{\"id\":\"9f138772-6ac8-4840-bcae-234b69935bee\",\"type\":\"ToolEvents\"},\"toolbar\":{\"id\":\"3e9ce63b-768d-4f99-918c-202d21565e21\",\"type\":\"Toolbar\"},\"toolbar_location\":null,\"x_range\":{\"id\":\"fbc2c827-aee1-47ae-8668-abbb686d4050\",\"type\":\"Range1d\"},\"y_range\":{\"id\":\"4837e9de-5132-4bb2-ba0c-24b376317ac1\",\"type\":\"Range1d\"}},\"id\":\"1e60a4bc-c775-4aed-b32d-59dfe255f5dd\",\"subtype\":\"Figure\",\"type\":\"Plot\"},{\"attributes\":{\"line_color\":{\"field\":\"line_color\"},\"xs\":{\"field\":\"xs\"},\"ys\":{\"field\":\"ys\"}},\"id\":\"07152f1d-6980-4835-ba72-d93eab4632ae\",\"type\":\"MultiLine\"},{\"attributes\":{\"bottom\":{\"field\":\"bottom\"},\"fill_alpha\":{\"value\":0.1},\"fill_color\":{\"value\":\"#1f77b4\"},\"left\":{\"field\":\"left\"},\"line_alpha\":{\"value\":0.1},\"line_color\":{\"value\":\"#1f77b4\"},\"right\":{\"field\":\"right\"},\"top\":{\"field\":\"top\"}},\"id\":\"4d61d937-1152-4cd7-adda-7dbf264ab2fa\",\"type\":\"Quad\"},{\"attributes\":{\"callback\":null,\"column_names\":[\"right\",\"bottom\",\"top\",\"left\",\"fill_color\"],\"data\":{\"bottom\":[150,450,250,350,550,50],\"fill_color\":[\"#00ff00\",\"#00ff00\",\"#00ff00\",\"#00ff00\",\"#00ffff\",\"#00ff00\"],\"left\":[135789949,135879258,135920394,135922944,136033790,136266716],\"right\":[136552411,136395769,136528956,136269855,136325737,136564246],\"top\":[156,466,256,361,567,56]}},\"id\":\"2e12cc9b-d785-496b-8f32-dcf9dac75d17\",\"type\":\"ColumnDataSource\"},{\"attributes\":{\"callback\":null,\"column_names\":[\"y\",\"x\",\"vals\"],\"data\":{\"vals\":[\"RAB3GAP1\",\"ZRANB3\",\"R3HDM1\",\"UBXN4\",\"LCT\",\"MCM6\",\"DARS\"],\"x\":[135869057.0,136122878.0,136385961.0,136520911.0,136570082.5,136615621.5,136703738.0],\"y\":[660.0,660.0,660.0,660.0,660.0,660.0,660.0]}},\"id\":\"2012743a-bbb2-4e5b-8b99-130497c19f7d\",\"type\":\"ColumnDataSource\"},{\"attributes\":{},\"id\":\"ef2dcbb7-87e7-4971-874f-3eb3b2d1dd5f\",\"type\":\"BasicTicker\"},{\"attributes\":{\"plot\":{\"id\":\"1e60a4bc-c775-4aed-b32d-59dfe255f5dd\",\"subtype\":\"Figure\",\"type\":\"Plot\"}},\"id\":\"18ddee53-6f22-4a92-9090-8a3458dc5030\",\"type\":\"PanTool\"},{\"attributes\":{\"data_source\":{\"id\":\"2e12cc9b-d785-496b-8f32-dcf9dac75d17\",\"type\":\"ColumnDataSource\"},\"glyph\":{\"id\":\"9a861542-fd3d-4fe3-9886-f047e547dd80\",\"type\":\"Quad\"},\"hover_glyph\":null,\"nonselection_glyph\":{\"id\":\"91a41d91-1892-415b-b33f-0512e33c15ba\",\"type\":\"Quad\"},\"selection_glyph\":null},\"id\":\"83e11739-ecda-4fb8-9462-cbb83b2c3def\",\"type\":\"GlyphRenderer\"},{\"attributes\":{\"formatter\":{\"id\":\"5f32cb36-7407-4749-bd24-f9a8cc00dcf7\",\"type\":\"BasicTickFormatter\"},\"plot\":{\"id\":\"1e60a4bc-c775-4aed-b32d-59dfe255f5dd\",\"subtype\":\"Figure\",\"type\":\"Plot\"},\"ticker\":{\"id\":\"ef2dcbb7-87e7-4971-874f-3eb3b2d1dd5f\",\"type\":\"BasicTicker\"}},\"id\":\"838efdbb-485a-49d6-b80a-adcd8ec55d8e\",\"type\":\"LinearAxis\"},{\"attributes\":{},\"id\":\"5f32cb36-7407-4749-bd24-f9a8cc00dcf7\",\"type\":\"BasicTickFormatter\"},{\"attributes\":{},\"id\":\"9f138772-6ac8-4840-bcae-234b69935bee\",\"type\":\"ToolEvents\"},{\"attributes\":{\"active_drag\":\"auto\",\"active_scroll\":\"auto\",\"active_tap\":\"auto\",\"tools\":[{\"id\":\"18ddee53-6f22-4a92-9090-8a3458dc5030\",\"type\":\"PanTool\"},{\"id\":\"b18e5b6c-b1c1-4ad8-9519-2473df861ba0\",\"type\":\"WheelZoomTool\"},{\"id\":\"3d32ba89-515a-4831-a3bf-01d896379eac\",\"type\":\"BoxZoomTool\"},{\"id\":\"a1a56dba-b79c-4983-93c4-b9c5de1a9beb\",\"type\":\"SaveTool\"},{\"id\":\"23116f5d-4188-4957-b511-5a80124fea4b\",\"type\":\"ResetTool\"},{\"id\":\"e73d4404-e53c-415b-9fe9-ecf0ed1b4383\",\"type\":\"HelpTool\"}]},\"id\":\"3e9ce63b-768d-4f99-918c-202d21565e21\",\"type\":\"Toolbar\"},{\"attributes\":{\"plot\":{\"id\":\"1e60a4bc-c775-4aed-b32d-59dfe255f5dd\",\"subtype\":\"Figure\",\"type\":\"Plot\"},\"ticker\":{\"id\":\"ef2dcbb7-87e7-4971-874f-3eb3b2d1dd5f\",\"type\":\"BasicTicker\"}},\"id\":\"317a725a-ae41-4efa-b5f8-075657daaa32\",\"type\":\"Grid\"},{\"attributes\":{\"plot\":{\"id\":\"1e60a4bc-c775-4aed-b32d-59dfe255f5dd\",\"subtype\":\"Figure\",\"type\":\"Plot\"}},\"id\":\"a1a56dba-b79c-4983-93c4-b9c5de1a9beb\",\"type\":\"SaveTool\"},{\"attributes\":{\"callback\":null,\"end\":136786630,\"start\":135757320},\"id\":\"fbc2c827-aee1-47ae-8668-abbb686d4050\",\"type\":\"Range1d\"},{\"attributes\":{\"callback\":null,\"end\":700},\"id\":\"4837e9de-5132-4bb2-ba0c-24b376317ac1\",\"type\":\"Range1d\"},{\"attributes\":{\"callback\":null,\"column_names\":[\"xs\",\"ys\",\"line_color\"],\"data\":{\"line_color\":[\"black\",\"black\",\"black\",\"black\",\"black\",\"black\",\"black\",\"black\",\"black\",\"black\",\"black\",\"black\",\"black\",\"black\",\"black\",\"black\",\"black\",\"black\",\"black\",\"black\",\"black\",\"black\",\"black\",\"black\",\"black\",\"black\",\"black\",\"black\",\"black\",\"black\",\"black\",\"black\"],\"xs\":[[135789949,135789949],[135795872,135795872],[135820743,135820743],[136103917,136103917],[136439748,136439748],[136453534,136453534],[136552411,136552411],[135879258,135879258],[135967182,135967182],[136063448,136063448],[136145019,136145019],[136227304,136227304],[136395769,136395769],[135920394,135920394],[135929310,135929310],[136179305,136179305],[136388794,136388794],[136528956,136528956],[135922944,135922944],[136175761,136175761],[136244643,136244643],[136248801,136248801],[136269855,136269855],[136033790,136033790],[136103753,136103753],[136236633,136236633],[136277069,136277069],[136325737,136325737],[136266716,136266716],[136306546,136306546],[136451558,136451558],[136564246,136564246]],\"ys\":[[150,156],[150,156],[150,156],[150,156],[150,156],[150,156],[150,156],[450,466],[450,466],[450,466],[450,466],[450,466],[450,466],[250,256],[250,256],[250,256],[250,256],[250,256],[350,361],[350,361],[350,361],[350,361],[350,361],[550,567],[550,567],[550,567],[550,567],[550,567],[50,56],[50,56],[50,56],[50,56]]}},\"id\":\"6aa9d4a4-f013-4325-8e40-337ac6238bd9\",\"type\":\"ColumnDataSource\"},{\"attributes\":{\"line_alpha\":{\"value\":0.1},\"line_color\":{\"value\":\"#1f77b4\"},\"xs\":{\"field\":\"xs\"},\"ys\":{\"field\":\"ys\"}},\"id\":\"990257a2-5d5e-4404-bc63-2caa1094172f\",\"type\":\"MultiLine\"},{\"attributes\":{\"callback\":null,\"column_names\":[\"right\",\"bottom\",\"top\",\"left\"],\"data\":{\"bottom\":[645,645,645,645,645,645,645],\"left\":[135809835,135957574,136289083,136499189,136545415,136597196,136664254],\"right\":[135928279,136288182,136482839,136542633,136594750,136634047,136743222],\"top\":[675,675,675,675,675,675,675]}},\"id\":\"db3f1669-bca0-4315-8be1-6337635fd14e\",\"type\":\"ColumnDataSource\"},{\"attributes\":{},\"id\":\"fac22066-ab9a-46c5-bd6a-e2fb0ea5e53b\",\"type\":\"BasicTicker\"},{\"attributes\":{\"callback\":null,\"column_names\":[\"y\",\"x\",\"vals\"],\"data\":{\"vals\":[\"7_17\",\"6_54\",\"5_17\",\"5_31\",\"5_60\",\"4_16\"],\"x\":[135789949,135879258,135920394,135922944,136033790,136266716],\"y\":[161.0,471.0,261.0,366.0,572.0,61.0]}},\"id\":\"5a82b850-3279-4411-a09a-30eebf34b8a9\",\"type\":\"ColumnDataSource\"},{\"attributes\":{\"bottom\":{\"field\":\"bottom\"},\"fill_alpha\":{\"value\":0.1},\"fill_color\":{\"value\":\"#1f77b4\"},\"left\":{\"field\":\"left\"},\"line_alpha\":{\"value\":0.1},\"line_color\":{\"value\":\"#1f77b4\"},\"right\":{\"field\":\"right\"},\"top\":{\"field\":\"top\"}},\"id\":\"91a41d91-1892-415b-b33f-0512e33c15ba\",\"type\":\"Quad\"},{\"attributes\":{\"level\":\"glyph\",\"plot\":{\"id\":\"1e60a4bc-c775-4aed-b32d-59dfe255f5dd\",\"subtype\":\"Figure\",\"type\":\"Plot\"},\"source\":{\"id\":\"5a82b850-3279-4411-a09a-30eebf34b8a9\",\"type\":\"ColumnDataSource\"},\"text\":{\"field\":\"vals\"},\"text_font_size\":{\"value\":\"9pt\"},\"text_font_style\":\"bold\",\"x\":{\"field\":\"x\"},\"y\":{\"field\":\"y\"}},\"id\":\"a74af21e-f52d-4aa2-a1be-88ac4e03e960\",\"type\":\"LabelSet\"},{\"attributes\":{\"formatter\":{\"id\":\"fbf2a6e2-aa65-478b-93ec-8f33490c1506\",\"type\":\"BasicTickFormatter\"},\"plot\":{\"id\":\"1e60a4bc-c775-4aed-b32d-59dfe255f5dd\",\"subtype\":\"Figure\",\"type\":\"Plot\"},\"ticker\":{\"id\":\"fac22066-ab9a-46c5-bd6a-e2fb0ea5e53b\",\"type\":\"BasicTicker\"},\"visible\":null},\"id\":\"622f6545-13e2-452c-b5a8-c7d764c78667\",\"type\":\"LinearAxis\"},{\"attributes\":{\"dimension\":1,\"plot\":{\"id\":\"1e60a4bc-c775-4aed-b32d-59dfe255f5dd\",\"subtype\":\"Figure\",\"type\":\"Plot\"},\"ticker\":{\"id\":\"fac22066-ab9a-46c5-bd6a-e2fb0ea5e53b\",\"type\":\"BasicTicker\"}},\"id\":\"a19e872e-18b9-4c9c-8b01-d709736dc163\",\"type\":\"Grid\"},{\"attributes\":{\"plot\":{\"id\":\"1e60a4bc-c775-4aed-b32d-59dfe255f5dd\",\"subtype\":\"Figure\",\"type\":\"Plot\"}},\"id\":\"b18e5b6c-b1c1-4ad8-9519-2473df861ba0\",\"type\":\"WheelZoomTool\"},{\"attributes\":{\"plot\":{\"id\":\"1e60a4bc-c775-4aed-b32d-59dfe255f5dd\",\"subtype\":\"Figure\",\"type\":\"Plot\"}},\"id\":\"23116f5d-4188-4957-b511-5a80124fea4b\",\"type\":\"ResetTool\"},{\"attributes\":{\"level\":\"glyph\",\"plot\":{\"id\":\"1e60a4bc-c775-4aed-b32d-59dfe255f5dd\",\"subtype\":\"Figure\",\"type\":\"Plot\"},\"source\":{\"id\":\"2012743a-bbb2-4e5b-8b99-130497c19f7d\",\"type\":\"ColumnDataSource\"},\"text\":{\"field\":\"vals\"},\"text_align\":\"center\",\"text_baseline\":\"middle\",\"text_font_size\":{\"value\":\"8pt\"},\"x\":{\"field\":\"x\"},\"y\":{\"field\":\"y\"}},\"id\":\"e943aeb1-45f1-4045-9fec-d359694f1143\",\"type\":\"LabelSet\"}],\"root_ids\":[\"1e60a4bc-c775-4aed-b32d-59dfe255f5dd\"]},\"title\":\"Bokeh Application\",\"version\":\"0.12.0\"}};\n",
       "            var render_items = [{\"docid\":\"d127d489-d16f-4ac5-8533-28ca59747b3e\",\"elementid\":\"5033982c-7c38-4076-8602-4aaa14b1399b\",\"modelid\":\"1e60a4bc-c775-4aed-b32d-59dfe255f5dd\",\"notebook_comms_target\":\"935ec8b7-c6a6-47c5-99f2-cb4d30e5485e\"}];\n",
       "            \n",
       "            Bokeh.embed.embed_items(docs_json, render_items);\n",
       "        });\n",
       "      },\n",
       "      function(Bokeh) {\n",
       "      }\n",
       "    ];\n",
       "  \n",
       "    function run_inline_js() {\n",
       "      for (var i = 0; i < inline_js.length; i++) {\n",
       "        inline_js[i](window.Bokeh);\n",
       "      }\n",
       "    }\n",
       "  \n",
       "    if (window._bokeh_is_loading === 0) {\n",
       "      console.log(\"Bokeh: BokehJS loaded, going straight to plotting\");\n",
       "      run_inline_js();\n",
       "    } else {\n",
       "      load_libs(js_urls, function() {\n",
       "        console.log(\"Bokeh: BokehJS plotting callback run at\", now());\n",
       "        run_inline_js();\n",
       "      });\n",
       "    }\n",
       "  }(this));\n",
       "</script>"
      ]
     },
     "metadata": {},
     "output_type": "display_data"
    },
    {
     "data": {
      "text/html": [
       "<p><code>&lt;Bokeh Notebook handle for <strong>In[14]</strong>&gt;</code></p>"
      ],
      "text/plain": [
       "<bokeh.io._CommsHandle at 0x7f7c7ed2e750>"
      ]
     },
     "execution_count": 14,
     "metadata": {},
     "output_type": "execute_result"
    }
   ],
   "source": [
    "plt_obj = dm.subset_yes_no([dm.di_9_944], [dm.di_5_684])\n",
    "plt = plt_obj.do_plot()\n",
    "show(plt)"
   ]
  },
  {
   "cell_type": "code",
   "execution_count": 15,
   "metadata": {
    "collapsed": false
   },
   "outputs": [
    {
     "data": {
      "text/html": [
       "<table>\n",
       "<thead><tr><th style=\"text-align:center\">index</th><th style=\"text-align:center\">first</th><th style=\"text-align:center\">length</th><th style=\"text-align:center\">snps</th><th style=\"text-align:center\" colspan=2>alleles</th><th style=\"text-align:center\" colspan=2>matches</th><th style=\"text-align:center\" colspan=2>afr</th><th style=\"text-align:center\" colspan=2>afx</th><th style=\"text-align:center\" colspan=2>amr</th><th style=\"text-align:center\" colspan=2>eas</th><th style=\"text-align:center\" colspan=2>eur</th><th style=\"text-align:center\" colspan=2>sas</th><th style=\"text-align:center\" colspan=2>sax</th></tr></thead>\n",
       "<tr class=\"even\"><td style=\"text-align: right;\">353564</td><td style=\"text-align: right;\">136,033,790</td><td style=\"text-align: right;\">291,947</td><td style=\"text-align: right;\">5</td><td style=\"text-align: right;\">60</td><td style=\"text-align: right;\">1.00</td><td style=\"text-align: right;\">60</td><td style=\"text-align: right;\">0.16</td><td style=\"text-align: right;\">0</td><td style=\"text-align: right;\">0.00</td><td style=\"text-align: right;\">2</td><td style=\"text-align: right;\">0.46</td><td style=\"text-align: right;\">4</td><td style=\"text-align: right;\">0.46</td><td style=\"text-align: right;\">1</td><td style=\"text-align: right;\">0.13</td><td style=\"text-align: right;\">17</td><td style=\"text-align: right;\">1.26</td><td style=\"text-align: right;\">8</td><td style=\"text-align: right;\">1.83</td><td style=\"text-align: right;\">28</td><td style=\"text-align: right;\">3.90</td></tr>\n",
       "<tr><td style=\"text-align: right;\">353430</td><td style=\"text-align: right;\">135,879,258</td><td style=\"text-align: right;\">516,511</td><td style=\"text-align: right;\">6</td><td style=\"text-align: right;\">54</td><td style=\"text-align: right;\">1.00</td><td style=\"text-align: right;\">54</td><td style=\"text-align: right;\">0.14</td><td style=\"text-align: right;\">0</td><td style=\"text-align: right;\">0.00</td><td style=\"text-align: right;\">0</td><td style=\"text-align: right;\">0.00</td><td style=\"text-align: right;\">8</td><td style=\"text-align: right;\">1.02</td><td style=\"text-align: right;\">0</td><td style=\"text-align: right;\">0.00</td><td style=\"text-align: right;\">37</td><td style=\"text-align: right;\">3.04</td><td style=\"text-align: right;\">3</td><td style=\"text-align: right;\">0.76</td><td style=\"text-align: right;\">6</td><td style=\"text-align: right;\">0.93</td></tr>\n",
       "<tr class=\"even\"><td style=\"text-align: right;\">353469</td><td style=\"text-align: right;\">135,922,944</td><td style=\"text-align: right;\">346,911</td><td style=\"text-align: right;\">5</td><td style=\"text-align: right;\">31</td><td style=\"text-align: right;\">1.00</td><td style=\"text-align: right;\">31</td><td style=\"text-align: right;\">0.08</td><td style=\"text-align: right;\">0</td><td style=\"text-align: right;\">0.00</td><td style=\"text-align: right;\">0</td><td style=\"text-align: right;\">0.00</td><td style=\"text-align: right;\">6</td><td style=\"text-align: right;\">1.33</td><td style=\"text-align: right;\">0</td><td style=\"text-align: right;\">0.00</td><td style=\"text-align: right;\">20</td><td style=\"text-align: right;\">2.86</td><td style=\"text-align: right;\">1</td><td style=\"text-align: right;\">0.44</td><td style=\"text-align: right;\">4</td><td style=\"text-align: right;\">1.08</td></tr>\n",
       "<tr><td style=\"text-align: right;\">353467</td><td style=\"text-align: right;\">135,920,394</td><td style=\"text-align: right;\">608,562</td><td style=\"text-align: right;\">5</td><td style=\"text-align: right;\">17</td><td style=\"text-align: right;\">1.00</td><td style=\"text-align: right;\">17</td><td style=\"text-align: right;\">0.04</td><td style=\"text-align: right;\">0</td><td style=\"text-align: right;\">0.00</td><td style=\"text-align: right;\">0</td><td style=\"text-align: right;\">0.00</td><td style=\"text-align: right;\">5</td><td style=\"text-align: right;\">2.02</td><td style=\"text-align: right;\">0</td><td style=\"text-align: right;\">0.00</td><td style=\"text-align: right;\">11</td><td style=\"text-align: right;\">2.87</td><td style=\"text-align: right;\">1</td><td style=\"text-align: right;\">0.81</td><td style=\"text-align: right;\">0</td><td style=\"text-align: right;\">0.00</td></tr>\n",
       "<tr class=\"even\"><td style=\"text-align: right;\">353321</td><td style=\"text-align: right;\">135,789,949</td><td style=\"text-align: right;\">762,462</td><td style=\"text-align: right;\">7</td><td style=\"text-align: right;\">17</td><td style=\"text-align: right;\">1.00</td><td style=\"text-align: right;\">17</td><td style=\"text-align: right;\">0.04</td><td style=\"text-align: right;\">0</td><td style=\"text-align: right;\">0.00</td><td style=\"text-align: right;\">0</td><td style=\"text-align: right;\">0.00</td><td style=\"text-align: right;\">2</td><td style=\"text-align: right;\">0.81</td><td style=\"text-align: right;\">0</td><td style=\"text-align: right;\">0.00</td><td style=\"text-align: right;\">14</td><td style=\"text-align: right;\">3.65</td><td style=\"text-align: right;\">1</td><td style=\"text-align: right;\">0.81</td><td style=\"text-align: right;\">0</td><td style=\"text-align: right;\">0.00</td></tr>\n",
       "<tr><td style=\"text-align: right;\">353705</td><td style=\"text-align: right;\">136,266,716</td><td style=\"text-align: right;\">297,530</td><td style=\"text-align: right;\">4</td><td style=\"text-align: right;\">16</td><td style=\"text-align: right;\">1.00</td><td style=\"text-align: right;\">16</td><td style=\"text-align: right;\">0.04</td><td style=\"text-align: right;\">0</td><td style=\"text-align: right;\">0.00</td><td style=\"text-align: right;\">0</td><td style=\"text-align: right;\">0.00</td><td style=\"text-align: right;\">4</td><td style=\"text-align: right;\">1.71</td><td style=\"text-align: right;\">0</td><td style=\"text-align: right;\">0.00</td><td style=\"text-align: right;\">12</td><td style=\"text-align: right;\">3.33</td><td style=\"text-align: right;\">0</td><td style=\"text-align: right;\">0.00</td><td style=\"text-align: right;\">0</td><td style=\"text-align: right;\">0.00</td></tr>\n",
       "</table>"
      ],
      "text/plain": [
       "<IPython.core.display.HTML object>"
      ]
     },
     "execution_count": 15,
     "metadata": {},
     "output_type": "execute_result"
    }
   ],
   "source": [
    "HTML(plt_obj.get_html())"
   ]
  },
  {
   "cell_type": "markdown",
   "metadata": {},
   "source": [
    "<div style=\"width:700px\">\n",
    "<p>This plot shows this region's basis series for the sampless that express the series\n",
    "9_944 but not the series 5_684.  The series 81_857 is expressed as a basis by 150 of the\n",
    "samples.  But 9_944 appears to be a descendant of 81_857 that is only expressed by\n",
    "more samples because of recombination events during the human expansion out of Africa.\n",
    "</div>"
   ]
  },
  {
   "cell_type": "code",
   "execution_count": 16,
   "metadata": {
    "collapsed": false
   },
   "outputs": [
    {
     "data": {
      "text/html": [
       "\n",
       "\n",
       "    <div class=\"bk-root\">\n",
       "        <div class=\"plotdiv\" id=\"7f610ca1-5179-41c1-bf1c-4fbedcc4205d\"></div>\n",
       "    </div>\n",
       "<script type=\"text/javascript\">\n",
       "  \n",
       "  (function(global) {\n",
       "    function now() {\n",
       "      return new Date();\n",
       "    }\n",
       "  \n",
       "    if (typeof (window._bokeh_onload_callbacks) === \"undefined\") {\n",
       "      window._bokeh_onload_callbacks = [];\n",
       "    }\n",
       "  \n",
       "    function run_callbacks() {\n",
       "      window._bokeh_onload_callbacks.forEach(function(callback) { callback() });\n",
       "      delete window._bokeh_onload_callbacks\n",
       "      console.info(\"Bokeh: all callbacks have finished\");\n",
       "    }\n",
       "  \n",
       "    function load_libs(js_urls, callback) {\n",
       "      window._bokeh_onload_callbacks.push(callback);\n",
       "      if (window._bokeh_is_loading > 0) {\n",
       "        console.log(\"Bokeh: BokehJS is being loaded, scheduling callback at\", now());\n",
       "        return null;\n",
       "      }\n",
       "      if (js_urls == null || js_urls.length === 0) {\n",
       "        run_callbacks();\n",
       "        return null;\n",
       "      }\n",
       "      console.log(\"Bokeh: BokehJS not loaded, scheduling load and callback at\", now());\n",
       "      window._bokeh_is_loading = js_urls.length;\n",
       "      for (var i = 0; i < js_urls.length; i++) {\n",
       "        var url = js_urls[i];\n",
       "        var s = document.createElement('script');\n",
       "        s.src = url;\n",
       "        s.async = false;\n",
       "        s.onreadystatechange = s.onload = function() {\n",
       "          window._bokeh_is_loading--;\n",
       "          if (window._bokeh_is_loading === 0) {\n",
       "            console.log(\"Bokeh: all BokehJS libraries loaded\");\n",
       "            run_callbacks()\n",
       "          }\n",
       "        };\n",
       "        s.onerror = function() {\n",
       "          console.warn(\"failed to load library \" + url);\n",
       "        };\n",
       "        console.log(\"Bokeh: injecting script tag for BokehJS library: \", url);\n",
       "        document.getElementsByTagName(\"head\")[0].appendChild(s);\n",
       "      }\n",
       "    };var element = document.getElementById(\"7f610ca1-5179-41c1-bf1c-4fbedcc4205d\");\n",
       "    if (element == null) {\n",
       "      console.log(\"Bokeh: ERROR: autoload.js configured with elementid '7f610ca1-5179-41c1-bf1c-4fbedcc4205d' but no matching script tag was found. \")\n",
       "      return false;\n",
       "    }\n",
       "  \n",
       "    var js_urls = [];\n",
       "  \n",
       "    var inline_js = [\n",
       "      function(Bokeh) {\n",
       "        Bokeh.$(function() {\n",
       "            var docs_json = {\"7e28983e-beb3-4f03-b8d8-a6c0e9279f7f\":{\"roots\":{\"references\":[{\"attributes\":{\"line_color\":{\"field\":\"line_color\"},\"xs\":{\"field\":\"xs\"},\"ys\":{\"field\":\"ys\"}},\"id\":\"9698f9e9-33c1-4728-a2b4-0f2fc7abadca\",\"type\":\"MultiLine\"},{\"attributes\":{\"plot\":{\"id\":\"adff1fa6-d380-452b-87b3-5c0b42e9baa4\",\"subtype\":\"Figure\",\"type\":\"Plot\"}},\"id\":\"6747f0b2-b270-489a-aa8d-673a30490ffd\",\"type\":\"WheelZoomTool\"},{\"attributes\":{\"overlay\":{\"id\":\"4c05b86f-3fb3-4fda-bc84-7f6baf203241\",\"type\":\"BoxAnnotation\"},\"plot\":{\"id\":\"adff1fa6-d380-452b-87b3-5c0b42e9baa4\",\"subtype\":\"Figure\",\"type\":\"Plot\"}},\"id\":\"87f92f98-ffde-4d59-a0ad-4b2f7bcdf8d2\",\"type\":\"BoxZoomTool\"},{\"attributes\":{\"data_source\":{\"id\":\"de7217b0-54a8-4c48-8d92-13d31030984f\",\"type\":\"ColumnDataSource\"},\"glyph\":{\"id\":\"7a580a6b-8de0-4deb-a6a2-3118f86f6967\",\"type\":\"Quad\"},\"hover_glyph\":null,\"nonselection_glyph\":{\"id\":\"8b444b91-f47f-4e49-a0c3-ee208a1d38fe\",\"type\":\"Quad\"},\"selection_glyph\":null},\"id\":\"e87b2616-bc4c-4460-b3c1-4a6a8ac4ee19\",\"type\":\"GlyphRenderer\"},{\"attributes\":{\"bottom\":{\"field\":\"bottom\"},\"fill_color\":{\"field\":\"fill_color\"},\"left\":{\"field\":\"left\"},\"line_color\":{\"value\":null},\"right\":{\"field\":\"right\"},\"top\":{\"field\":\"top\"}},\"id\":\"44916af0-b8c7-4a6e-ab29-391b5f66f720\",\"type\":\"Quad\"},{\"attributes\":{\"bottom\":{\"field\":\"bottom\"},\"fill_alpha\":{\"value\":0.1},\"fill_color\":{\"value\":\"#1f77b4\"},\"left\":{\"field\":\"left\"},\"line_alpha\":{\"value\":0.1},\"line_color\":{\"value\":\"#1f77b4\"},\"right\":{\"field\":\"right\"},\"top\":{\"field\":\"top\"}},\"id\":\"69fef74e-84aa-4ec7-bb22-17094cea0edf\",\"type\":\"Quad\"},{\"attributes\":{\"bottom\":{\"field\":\"bottom\"},\"fill_alpha\":{\"value\":0.1},\"fill_color\":{\"value\":\"#1f77b4\"},\"left\":{\"field\":\"left\"},\"line_alpha\":{\"value\":0.1},\"line_color\":{\"value\":\"#1f77b4\"},\"right\":{\"field\":\"right\"},\"top\":{\"field\":\"top\"}},\"id\":\"8b444b91-f47f-4e49-a0c3-ee208a1d38fe\",\"type\":\"Quad\"},{\"attributes\":{\"callback\":null,\"column_names\":[\"y\",\"x\",\"vals\"],\"data\":{\"vals\":[\"16\",\"17\",\"17\",\"2\",\"2\",\"17\",\"9\",\"1\",\"4\",\"2\",\"4\",\"55\",\"1\",\"1\",\"57\"],\"x\":[136575682,136563847,136540392,136731309,136650992,136281291,135938191,136284126,136499012,136380772,136407205,136337173,136386178,136554583,136432344],\"y\":[53,89,125,161,197,307,343,379,451,487,523,600,641,713,809]}},\"id\":\"519c1ca4-5bcd-42d7-a1da-081b9d4d93a8\",\"type\":\"ColumnDataSource\"},{\"attributes\":{\"plot\":{\"id\":\"adff1fa6-d380-452b-87b3-5c0b42e9baa4\",\"subtype\":\"Figure\",\"type\":\"Plot\"}},\"id\":\"74b86468-71b9-4912-b930-b0d267be513d\",\"type\":\"ResetTool\"},{\"attributes\":{},\"id\":\"c7804719-707f-4a58-8c64-25cb6f8cefa0\",\"type\":\"BasicTicker\"},{\"attributes\":{},\"id\":\"ef1c77bd-9f6a-45be-9113-8c1b2a135dc0\",\"type\":\"BasicTickFormatter\"},{\"attributes\":{\"data_source\":{\"id\":\"cb901138-ea4c-44f4-bb9a-a37eb4292f47\",\"type\":\"ColumnDataSource\"},\"glyph\":{\"id\":\"44916af0-b8c7-4a6e-ab29-391b5f66f720\",\"type\":\"Quad\"},\"hover_glyph\":null,\"nonselection_glyph\":{\"id\":\"69fef74e-84aa-4ec7-bb22-17094cea0edf\",\"type\":\"Quad\"},\"selection_glyph\":null},\"id\":\"65300ab3-b581-487a-89a5-ab01353d4662\",\"type\":\"GlyphRenderer\"},{\"attributes\":{\"formatter\":{\"id\":\"09cfadbc-82b2-45bd-b4a5-5755f4a281fb\",\"type\":\"BasicTickFormatter\"},\"plot\":{\"id\":\"adff1fa6-d380-452b-87b3-5c0b42e9baa4\",\"subtype\":\"Figure\",\"type\":\"Plot\"},\"ticker\":{\"id\":\"9426cb93-6d3c-4f21-a7aa-a57905380a70\",\"type\":\"BasicTicker\"},\"visible\":null},\"id\":\"9154fac5-ca31-483d-83bf-aa27e566ab25\",\"type\":\"LinearAxis\"},{\"attributes\":{\"plot\":{\"id\":\"adff1fa6-d380-452b-87b3-5c0b42e9baa4\",\"subtype\":\"Figure\",\"type\":\"Plot\"}},\"id\":\"10ccaab5-2796-45d9-b607-e87b5ff1ba7a\",\"type\":\"SaveTool\"},{\"attributes\":{\"line_alpha\":{\"value\":0.1},\"line_color\":{\"value\":\"#1f77b4\"},\"xs\":{\"field\":\"xs\"},\"ys\":{\"field\":\"ys\"}},\"id\":\"98f4ad93-4f59-47d1-8d6b-442c754277b0\",\"type\":\"MultiLine\"},{\"attributes\":{\"dimension\":1,\"plot\":{\"id\":\"adff1fa6-d380-452b-87b3-5c0b42e9baa4\",\"subtype\":\"Figure\",\"type\":\"Plot\"},\"ticker\":{\"id\":\"9426cb93-6d3c-4f21-a7aa-a57905380a70\",\"type\":\"BasicTicker\"}},\"id\":\"0eb3d985-6434-4bdb-af61-e04d227dc232\",\"type\":\"Grid\"},{\"attributes\":{\"below\":[{\"id\":\"1443799c-981c-494c-a17d-323eae072081\",\"type\":\"LinearAxis\"}],\"left\":[{\"id\":\"9154fac5-ca31-483d-83bf-aa27e566ab25\",\"type\":\"LinearAxis\"}],\"plot_height\":917,\"plot_width\":900,\"renderers\":[{\"id\":\"1443799c-981c-494c-a17d-323eae072081\",\"type\":\"LinearAxis\"},{\"id\":\"0754e440-9b6d-4a35-92db-ee054b4306a9\",\"type\":\"Grid\"},{\"id\":\"9154fac5-ca31-483d-83bf-aa27e566ab25\",\"type\":\"LinearAxis\"},{\"id\":\"0eb3d985-6434-4bdb-af61-e04d227dc232\",\"type\":\"Grid\"},{\"id\":\"4c05b86f-3fb3-4fda-bc84-7f6baf203241\",\"type\":\"BoxAnnotation\"},{\"id\":\"65300ab3-b581-487a-89a5-ab01353d4662\",\"type\":\"GlyphRenderer\"},{\"id\":\"29a0bda8-6530-4cb4-b63e-634f880c42d7\",\"type\":\"GlyphRenderer\"},{\"id\":\"a0a8f3d1-535a-42c2-9369-e0281dd4c497\",\"type\":\"LabelSet\"},{\"id\":\"032f1175-7c76-4a75-bc70-d6d62d9d78e9\",\"type\":\"LabelSet\"},{\"id\":\"ae32aae2-8f93-442c-8654-2bca2c318d44\",\"type\":\"LabelSet\"},{\"id\":\"e87b2616-bc4c-4460-b3c1-4a6a8ac4ee19\",\"type\":\"GlyphRenderer\"},{\"id\":\"fc5e09a4-6163-4f3b-8512-7fd67b6bbffb\",\"type\":\"LabelSet\"}],\"title\":{\"id\":\"0a871cfc-3841-4ab0-813a-75b646f33ae8\",\"type\":\"Title\"},\"tool_events\":{\"id\":\"7850306d-67ae-4716-a3c7-c1e0d5b5a097\",\"type\":\"ToolEvents\"},\"toolbar\":{\"id\":\"688beb35-a5d3-400c-a933-79af53dc0e44\",\"type\":\"Toolbar\"},\"toolbar_location\":null,\"x_range\":{\"id\":\"4e30f48b-1f82-45a7-bbea-8e42ab1675e5\",\"type\":\"Range1d\"},\"y_range\":{\"id\":\"22786b2a-27e4-4803-bca9-f9439cff1150\",\"type\":\"Range1d\"}},\"id\":\"adff1fa6-d380-452b-87b3-5c0b42e9baa4\",\"subtype\":\"Figure\",\"type\":\"Plot\"},{\"attributes\":{},\"id\":\"09cfadbc-82b2-45bd-b4a5-5755f4a281fb\",\"type\":\"BasicTickFormatter\"},{\"attributes\":{\"level\":\"glyph\",\"plot\":{\"id\":\"adff1fa6-d380-452b-87b3-5c0b42e9baa4\",\"subtype\":\"Figure\",\"type\":\"Plot\"},\"source\":{\"id\":\"74922b76-88d1-4d7e-8181-e9ea023e2470\",\"type\":\"ColumnDataSource\"},\"text\":{\"field\":\"vals\"},\"text_align\":\"center\",\"text_baseline\":\"middle\",\"text_font_size\":{\"value\":\"8pt\"},\"x\":{\"field\":\"x\"},\"y\":{\"field\":\"y\"}},\"id\":\"fc5e09a4-6163-4f3b-8512-7fd67b6bbffb\",\"type\":\"LabelSet\"},{\"attributes\":{},\"id\":\"9426cb93-6d3c-4f21-a7aa-a57905380a70\",\"type\":\"BasicTicker\"},{\"attributes\":{\"callback\":null,\"column_names\":[\"xs\",\"ys\",\"line_color\"],\"data\":{\"line_color\":[\"black\",\"black\",\"black\",\"black\",\"black\",\"black\",\"black\",\"black\",\"black\",\"black\",\"black\",\"black\",\"black\",\"black\",\"black\",\"black\",\"black\",\"black\",\"black\",\"black\",\"black\",\"black\",\"black\",\"black\",\"black\",\"black\",\"black\",\"black\",\"black\",\"black\",\"black\",\"black\",\"black\",\"black\",\"black\",\"black\",\"black\",\"black\",\"black\",\"black\",\"black\",\"black\",\"black\",\"black\",\"black\",\"black\",\"black\",\"black\",\"black\",\"black\",\"black\",\"black\",\"black\",\"black\",\"black\",\"black\",\"black\",\"black\",\"black\",\"black\",\"black\",\"black\",\"black\",\"black\",\"black\",\"black\",\"black\",\"black\",\"black\",\"black\",\"black\",\"black\",\"black\",\"black\",\"black\",\"black\",\"black\",\"black\",\"black\",\"black\",\"black\",\"black\",\"black\",\"black\",\"black\",\"black\",\"black\",\"black\",\"black\",\"black\",\"black\",\"black\",\"black\",\"black\",\"black\",\"black\",\"black\",\"black\",\"black\",\"black\",\"black\",\"black\",\"black\",\"black\",\"black\",\"black\",\"black\",\"black\",\"black\",\"black\",\"black\",\"black\",\"black\",\"black\",\"black\",\"black\",\"black\",\"black\",\"black\",\"black\",\"black\",\"black\",\"black\",\"black\",\"black\",\"black\",\"black\",\"black\",\"black\",\"black\",\"black\",\"black\",\"black\",\"black\",\"black\",\"black\",\"black\",\"black\",\"black\",\"black\",\"black\",\"black\",\"black\",\"black\",\"black\",\"black\",\"black\",\"black\",\"black\",\"black\",\"black\",\"black\",\"black\",\"black\",\"black\",\"black\",\"black\",\"black\",\"black\",\"black\",\"black\",\"black\",\"black\",\"black\",\"black\",\"black\",\"black\",\"black\",\"black\",\"black\",\"black\",\"black\",\"black\",\"black\",\"black\",\"black\",\"black\",\"black\",\"black\",\"black\",\"black\",\"black\",\"black\",\"black\",\"black\",\"black\",\"black\",\"black\",\"black\",\"black\",\"black\",\"black\",\"black\",\"black\",\"black\",\"black\",\"black\",\"black\",\"black\",\"black\",\"black\",\"black\",\"black\",\"black\",\"black\",\"black\",\"black\",\"black\",\"black\",\"black\",\"black\",\"black\",\"black\",\"black\",\"black\",\"black\",\"black\",\"black\",\"black\",\"black\",\"black\",\"black\",\"black\",\"black\",\"black\",\"black\",\"black\",\"black\",\"black\",\"black\",\"black\",\"black\",\"black\",\"black\",\"black\",\"black\",\"black\",\"black\",\"black\",\"black\",\"black\",\"black\",\"black\",\"black\",\"black\",\"black\",\"black\",\"black\",\"black\",\"black\",\"black\",\"black\",\"black\",\"black\",\"black\",\"black\",\"black\",\"black\",\"black\",\"black\",\"black\",\"black\",\"black\",\"black\",\"black\",\"black\",\"black\",\"black\",\"black\",\"black\",\"black\",\"black\",\"black\",\"black\",\"black\",\"black\",\"black\",\"black\",\"black\",\"black\",\"black\",\"black\",\"black\",\"black\",\"black\",\"black\",\"black\",\"black\",\"black\",\"black\",\"black\",\"black\",\"black\",\"black\",\"black\",\"black\",\"black\",\"black\",\"black\",\"black\",\"black\",\"black\",\"black\",\"black\",\"black\",\"black\",\"black\",\"black\",\"black\",\"black\",\"black\",\"black\",\"black\",\"black\",\"black\",\"black\",\"black\",\"black\",\"black\",\"black\",\"black\",\"black\",\"black\",\"black\",\"black\",\"black\",\"black\",\"black\",\"black\",\"black\",\"black\",\"black\",\"black\",\"black\",\"black\",\"black\",\"black\",\"black\",\"black\",\"black\",\"black\",\"black\",\"black\",\"black\"],\"xs\":[[136266716,136266716],[136306546,136306546],[136451558,136451558],[136564246,136564246],[135789949,135789949],[135795872,135795872],[135820743,135820743],[136103917,136103917],[136439748,136439748],[136453534,136453534],[136552411,136552411],[135920394,135920394],[135929310,135929310],[136179305,136179305],[136388794,136388794],[136528956,136528956],[136658865,136658865],[136660239,136660239],[136677451,136677451],[136708564,136708564],[136709491,136709491],[136719873,136719873],[136595044,136595044],[136596592,136596592],[136598550,136598550],[136602293,136602293],[136602384,136602384],[136618869,136618869],[136619799,136619799],[136621573,136621573],[136624897,136624897],[136626115,136626115],[136628525,136628525],[136629839,136629839],[136630698,136630698],[136636801,136636801],[136639556,136639556],[136648736,136648736],[136705399,136705399],[136715023,136715023],[136762850,136762850],[136553105,136553105],[136562174,136562174],[136565622,136565622],[136643123,136643123],[136652934,136652934],[136659309,136659309],[136695461,136695461],[136701349,136701349],[136776186,136776186],[135922944,135922944],[136175761,136175761],[136244643,136244643],[136248801,136248801],[136269855,136269855],[135782087,135782087],[135870447,135870447],[135897635,135897635],[135926755,135926755],[136151572,136151572],[136159277,136159277],[136199181,136199181],[136272690,136272690],[136652918,136652918],[136654337,136654337],[136656539,136656539],[136662655,136662655],[136664620,136664620],[136666397,136666397],[136668691,136668691],[136676934,136676934],[136686353,136686353],[136686541,136686541],[136688512,136688512],[136688514,136688514],[136690571,136690571],[136691446,136691446],[136694495,136694495],[136697642,136697642],[136699995,136699995],[136703199,136703199],[136703587,136703587],[136703910,136703910],[136704096,136704096],[136704732,136704732],[136705287,136705287],[136705630,136705630],[136705653,136705653],[136706851,136706851],[136707713,136707713],[136709013,136709013],[136710163,136710163],[136710189,136710189],[136710223,136710223],[136710282,136710282],[136711055,136711055],[136713946,136713946],[136715079,136715079],[136717377,136717377],[136719354,136719354],[136720874,136720874],[136720941,136720941],[136721621,136721621],[136722365,136722365],[136723537,136723537],[136724692,136724692],[136725023,136725023],[136725212,136725212],[136725779,136725779],[136726084,136726084],[136727282,136727282],[136727577,136727577],[136729594,136729594],[136729666,136729666],[136731911,136731911],[136732476,136732476],[136739056,136739056],[136740189,136740189],[136741173,136741173],[136743840,136743840],[136746479,136746479],[136748199,136748199],[136748566,136748566],[136749565,136749565],[136752613,136752613],[136753806,136753806],[136754802,136754802],[136756172,136756172],[136757136,136757136],[136757880,136757880],[136759001,136759001],[136759206,136759206],[136762992,136762992],[136764007,136764007],[136765273,136765273],[136768615,136768615],[136772207,136772207],[136774885,136774885],[136775417,136775417],[136775505,136775505],[136776308,136776308],[136779174,136779174],[136786630,136786630],[135845676,135845676],[135967928,135967928],[135986556,135986556],[136004969,136004969],[136015490,136015490],[136032851,136032851],[136093434,136093434],[136216669,136216669],[136279157,136279157],[136321806,136321806],[136341131,136341131],[136401934,136401934],[136405903,136405903],[136487576,136487576],[136021814,136021814],[136090527,136090527],[136172482,136172482],[136314201,136314201],[136369336,136369336],[135879258,135879258],[135967182,135967182],[136063448,136063448],[136145019,136145019],[136227304,136227304],[136395769,136395769],[136654760,136654760],[136660234,136660234],[136666899,136666899],[136666900,136666900],[136678320,136678320],[136684951,136684951],[136702944,136702944],[136717522,136717522],[136719684,136719684],[136726822,136726822],[136728353,136728353],[136741501,136741501],[136750334,136750334],[136755124,136755124],[136758216,136758216],[136765773,136765773],[136766165,136766165],[136766570,136766570],[136766635,136766635],[136770767,136770767],[136033790,136033790],[136103753,136103753],[136236633,136236633],[136277069,136277069],[136325737,136325737],[135942182,135942182],[136120380,136120380],[136213143,136213143],[136374742,136374742],[136651773,136651773],[136653553,136653553],[136662561,136662561],[136666144,136666144],[136668014,136668014],[136668363,136668363],[136670923,136670923],[136671242,136671242],[136673605,136673605],[136674629,136674629],[136676187,136676187],[136677580,136677580],[136684994,136684994],[136691142,136691142],[136693702,136693702],[136693718,136693718],[136693984,136693984],[136694866,136694866],[136695772,136695772],[136698366,136698366],[136700927,136700927],[136702325,136702325],[136702713,136702713],[136706891,136706891],[136707277,136707277],[136710828,136710828],[136713108,136713108],[136713194,136713194],[136719313,136719313],[136724569,136724569],[136734276,136734276],[136735127,136735127],[136737090,136737090],[136738950,136738950],[136741828,136741828],[136743080,136743080],[136743310,136743310],[136746683,136746683],[136747967,136747967],[136748809,136748809],[136758353,136758353],[136758922,136758922],[136762147,136762147],[136762198,136762198],[136764012,136764012],[136764818,136764818],[136770019,136770019],[136772954,136772954],[136772959,136772959],[136772961,136772961],[136774627,136774627],[136514709,136514709],[136516308,136516308],[136520100,136520100],[136521595,136521595],[136523045,136523045],[136543147,136543147],[136494985,136494985],[136497199,136497199],[136511817,136511817],[136513670,136513670],[136515458,136515458],[136516970,136516970],[136525309,136525309],[136528034,136528034],[136532225,136532225],[136535235,136535235],[136536095,136536095],[136544423,136544423],[136546927,136546927],[136552188,136552188],[136552517,136552517],[136555525,136555525],[136556480,136556480],[136560464,136560464],[136572285,136572285],[136582694,136582694],[136582809,136582809],[136584538,136584538],[136585323,136585323],[136586825,136586825],[136600662,136600662],[136612036,136612036],[136618178,136618178],[136618507,136618507],[136622543,136622543],[136624947,136624947],[136625113,136625113],[136626078,136626078],[136628121,136628121],[136632300,136632300],[136633962,136633962],[136635343,136635343],[136638113,136638113],[136640101,136640101],[136641593,136641593],[136646582,136646582],[136648077,136648077],[136648883,136648883],[136652045,136652045],[136653848,136653848],[136656094,136656094],[136661110,136661110],[136663110,136663110],[136663605,136663605],[136665162,136665162],[136665711,136665711],[136668123,136668123],[136670419,136670419],[136672680,136672680],[136673546,136673546],[136684632,136684632],[136686114,136686114],[136690425,136690425],[136690783,136690783],[136692893,136692893],[136694905,136694905],[136695694,136695694],[136695705,136695705],[136696608,136696608],[136697372,136697372],[136697468,136697468],[136700024,136700024],[136701539,136701539],[136702118,136702118],[136707480,136707480],[136710554,136710554],[136714178,136714178],[136719173,136719173],[136725459,136725459],[136734569,136734569],[136744678,136744678],[136748779,136748779],[136751488,136751488],[136754183,136754183],[136763242,136763242],[136765074,136765074],[136773638,136773638],[135829592,135829592],[135893372,135893372],[135952405,135952405],[135989721,135989721],[136136056,136136056],[136313639,136313639],[136401418,136401418],[136407078,136407078],[136420908,136420908]],\"ys\":[[50,56],[50,56],[50,56],[50,56],[86,92],[86,92],[86,92],[86,92],[86,92],[86,92],[86,92],[122,128],[122,128],[122,128],[122,128],[122,128],[158,164],[158,164],[158,164],[158,164],[158,164],[158,164],[194,200],[194,200],[194,200],[194,200],[194,200],[194,200],[194,200],[194,200],[194,200],[194,200],[194,200],[194,200],[194,200],[194,200],[194,200],[230,238],[230,238],[230,238],[230,238],[268,274],[268,274],[268,274],[268,274],[268,274],[268,274],[268,274],[268,274],[268,274],[304,310],[304,310],[304,310],[304,310],[304,310],[340,346],[340,346],[340,346],[340,346],[376,382],[376,382],[376,382],[376,382],[412,418],[412,418],[412,418],[412,418],[412,418],[412,418],[412,418],[412,418],[412,418],[412,418],[412,418],[412,418],[412,418],[412,418],[412,418],[412,418],[412,418],[412,418],[412,418],[412,418],[412,418],[412,418],[412,418],[412,418],[412,418],[412,418],[412,418],[412,418],[412,418],[412,418],[412,418],[412,418],[412,418],[412,418],[412,418],[412,418],[412,418],[412,418],[412,418],[412,418],[412,418],[412,418],[412,418],[412,418],[412,418],[412,418],[412,418],[412,418],[412,418],[412,418],[412,418],[412,418],[412,418],[412,418],[412,418],[412,418],[412,418],[412,418],[412,418],[412,418],[412,418],[412,418],[412,418],[412,418],[412,418],[412,418],[412,418],[412,418],[412,418],[412,418],[412,418],[412,418],[412,418],[412,418],[412,418],[412,418],[412,418],[412,418],[412,418],[412,418],[448,454],[448,454],[448,454],[448,454],[448,454],[448,454],[448,454],[448,454],[448,454],[448,454],[448,454],[448,454],[448,454],[448,454],[484,490],[484,490],[484,490],[484,490],[484,490],[520,526],[520,526],[520,526],[520,526],[520,526],[520,526],[556,562],[556,562],[556,562],[556,562],[556,562],[556,562],[556,562],[556,562],[556,562],[556,562],[556,562],[556,562],[556,562],[556,562],[556,562],[556,562],[556,562],[556,562],[556,562],[556,562],[592,608],[592,608],[592,608],[592,608],[592,608],[638,644],[638,644],[638,644],[638,644],[674,680],[674,680],[674,680],[674,680],[674,680],[674,680],[674,680],[674,680],[674,680],[674,680],[674,680],[674,680],[674,680],[674,680],[674,680],[674,680],[674,680],[674,680],[674,680],[674,680],[674,680],[674,680],[674,680],[674,680],[674,680],[674,680],[674,680],[674,680],[674,680],[674,680],[674,680],[674,680],[674,680],[674,680],[674,680],[674,680],[674,680],[674,680],[674,680],[674,680],[674,680],[674,680],[674,680],[674,680],[674,680],[674,680],[674,680],[674,680],[674,680],[674,680],[674,680],[710,716],[710,716],[710,716],[710,716],[710,716],[710,716],[746,771],[746,771],[746,771],[746,771],[746,771],[746,771],[746,771],[746,771],[746,771],[746,771],[746,771],[746,771],[746,771],[746,771],[746,771],[746,771],[746,771],[746,771],[746,771],[746,771],[746,771],[746,771],[746,771],[746,771],[746,771],[746,771],[746,771],[746,771],[746,771],[746,771],[746,771],[746,771],[746,771],[746,771],[746,771],[746,771],[746,771],[746,771],[746,771],[746,771],[746,771],[746,771],[746,771],[746,771],[746,771],[746,771],[746,771],[746,771],[746,771],[746,771],[746,771],[746,771],[746,771],[746,771],[746,771],[746,771],[746,771],[746,771],[746,771],[746,771],[746,771],[746,771],[746,771],[746,771],[746,771],[746,771],[746,771],[746,771],[746,771],[746,771],[746,771],[746,771],[746,771],[746,771],[746,771],[746,771],[746,771],[746,771],[746,771],[746,771],[746,771],[801,817],[801,817],[801,817],[801,817],[801,817],[801,817],[801,817],[801,817],[801,817]]}},\"id\":\"b75a9cc3-639f-4141-b44e-e4800e26b7d9\",\"type\":\"ColumnDataSource\"},{\"attributes\":{\"level\":\"glyph\",\"plot\":{\"id\":\"adff1fa6-d380-452b-87b3-5c0b42e9baa4\",\"subtype\":\"Figure\",\"type\":\"Plot\"},\"source\":{\"id\":\"519c1ca4-5bcd-42d7-a1da-081b9d4d93a8\",\"type\":\"ColumnDataSource\"},\"text\":{\"field\":\"vals\"},\"text_baseline\":\"middle\",\"text_font_size\":{\"value\":\"9pt\"},\"text_font_style\":\"bold\",\"x\":{\"field\":\"x\"},\"y\":{\"field\":\"y\"}},\"id\":\"ae32aae2-8f93-442c-8654-2bca2c318d44\",\"type\":\"LabelSet\"},{\"attributes\":{\"callback\":null,\"column_names\":[\"y\",\"x\",\"vals\"],\"data\":{\"vals\":[\"4_16\",\"7_17\",\"5_17\",\"6_25\",\"15_25\",\"4_26\",\"9_27\",\"5_31\",\"4_34\",\"4_37\",\"80_38\",\"14_43\",\"5_47\",\"6_54\",\"20_56\",\"5_60\",\"4_67\",\"51_176\",\"6_820\",\"81_857\",\"9_944\"],\"x\":[136266716,135789949,135920394,136658865,136595044,136648736,136553105,135922944,135782087,136151572,136652918,135845676,136021814,135879258,136654760,136033790,135942182,136651773,136514709,136494985,135829592],\"y\":[61.0,97.0,133.0,169.0,205.0,243.0,279.0,315.0,351.0,387.0,423.0,459.0,495.0,531.0,567.0,613.0,649.0,685.0,721.0,776.0,822.0]}},\"id\":\"f961d96e-19df-475d-a49c-a5af5c21d8d3\",\"type\":\"ColumnDataSource\"},{\"attributes\":{\"plot\":{\"id\":\"adff1fa6-d380-452b-87b3-5c0b42e9baa4\",\"subtype\":\"Figure\",\"type\":\"Plot\"}},\"id\":\"6a79ccc1-9598-4100-b0e5-8684095eaf43\",\"type\":\"HelpTool\"},{\"attributes\":{\"callback\":null,\"column_names\":[\"right\",\"bottom\",\"top\",\"left\",\"fill_color\"],\"data\":{\"bottom\":[50,86,122,158,194,230,268,304,340,376,412,448,484,520,556,592,638,674,710,746,801],\"fill_color\":[\"#00ff00\",\"#00ff00\",\"#00ff00\",\"#00ffff\",\"#00ffff\",\"#61c461\",\"#ff0000\",\"#00ff00\",\"#00ffff\",\"#00ffff\",\"#ff0000\",\"#00ff00\",\"#ffff00\",\"#00ff00\",\"#00ffff\",\"#00ffff\",\"#ffff00\",\"#ffff00\",\"#61c4c4\",\"#808080\",\"#c4c461\"],\"left\":[136266716,135789949,135920394,136658865,136595044,136648736,136553105,135922944,135782087,136151572,136652918,135845676,136021814,135879258,136654760,136033790,135942182,136651773,136514709,136494985,135829592],\"right\":[136564246,136552411,136528956,136719873,136639556,136762850,136776186,136269855,135926755,136272690,136786630,136487576,136369336,136395769,136770767,136325737,136374742,136774627,136543147,136773638,136420908],\"top\":[56,92,128,164,200,238,274,310,346,382,418,454,490,526,562,608,644,680,716,771,817]}},\"id\":\"cb901138-ea4c-44f4-bb9a-a37eb4292f47\",\"type\":\"ColumnDataSource\"},{\"attributes\":{\"plot\":{\"id\":\"adff1fa6-d380-452b-87b3-5c0b42e9baa4\",\"subtype\":\"Figure\",\"type\":\"Plot\"},\"ticker\":{\"id\":\"c7804719-707f-4a58-8c64-25cb6f8cefa0\",\"type\":\"BasicTicker\"}},\"id\":\"0754e440-9b6d-4a35-92db-ee054b4306a9\",\"type\":\"Grid\"},{\"attributes\":{\"active_drag\":\"auto\",\"active_scroll\":\"auto\",\"active_tap\":\"auto\",\"tools\":[{\"id\":\"f775dac5-b7a8-4c5b-932b-5cc96e6dcdaa\",\"type\":\"PanTool\"},{\"id\":\"6747f0b2-b270-489a-aa8d-673a30490ffd\",\"type\":\"WheelZoomTool\"},{\"id\":\"87f92f98-ffde-4d59-a0ad-4b2f7bcdf8d2\",\"type\":\"BoxZoomTool\"},{\"id\":\"10ccaab5-2796-45d9-b607-e87b5ff1ba7a\",\"type\":\"SaveTool\"},{\"id\":\"74b86468-71b9-4912-b930-b0d267be513d\",\"type\":\"ResetTool\"},{\"id\":\"6a79ccc1-9598-4100-b0e5-8684095eaf43\",\"type\":\"HelpTool\"}]},\"id\":\"688beb35-a5d3-400c-a933-79af53dc0e44\",\"type\":\"Toolbar\"},{\"attributes\":{\"callback\":null,\"column_names\":[\"right\",\"bottom\",\"top\",\"left\"],\"data\":{\"bottom\":[862,862,862,862,862,862,862],\"left\":[135809835,135957574,136289083,136499189,136545415,136597196,136664254],\"right\":[135928279,136288182,136482839,136542633,136594750,136634047,136743222],\"top\":[892,892,892,892,892,892,892]}},\"id\":\"de7217b0-54a8-4c48-8d92-13d31030984f\",\"type\":\"ColumnDataSource\"},{\"attributes\":{\"callback\":null,\"end\":917},\"id\":\"22786b2a-27e4-4803-bca9-f9439cff1150\",\"type\":\"Range1d\"},{\"attributes\":{\"level\":\"glyph\",\"plot\":{\"id\":\"adff1fa6-d380-452b-87b3-5c0b42e9baa4\",\"subtype\":\"Figure\",\"type\":\"Plot\"},\"source\":{\"id\":\"f961d96e-19df-475d-a49c-a5af5c21d8d3\",\"type\":\"ColumnDataSource\"},\"text\":{\"field\":\"vals\"},\"text_font_size\":{\"value\":\"9pt\"},\"text_font_style\":\"bold\",\"x\":{\"field\":\"x\"},\"y\":{\"field\":\"y\"}},\"id\":\"a0a8f3d1-535a-42c2-9369-e0281dd4c497\",\"type\":\"LabelSet\"},{\"attributes\":{\"level\":\"glyph\",\"plot\":{\"id\":\"adff1fa6-d380-452b-87b3-5c0b42e9baa4\",\"subtype\":\"Figure\",\"type\":\"Plot\"},\"source\":{\"id\":\"e65564b0-1765-41dd-8f66-ab42b4516d39\",\"type\":\"ColumnDataSource\"},\"text\":{\"field\":\"vals\"},\"text_align\":\"right\",\"text_baseline\":\"middle\",\"text_font_size\":{\"value\":\"9pt\"},\"text_font_style\":\"bold\",\"x\":{\"field\":\"x\"},\"y\":{\"field\":\"y\"}},\"id\":\"032f1175-7c76-4a75-bc70-d6d62d9d78e9\",\"type\":\"LabelSet\"},{\"attributes\":{\"callback\":null,\"end\":136786630,\"start\":135757320},\"id\":\"4e30f48b-1f82-45a7-bbea-8e42ab1675e5\",\"type\":\"Range1d\"},{\"attributes\":{\"formatter\":{\"id\":\"ef1c77bd-9f6a-45be-9113-8c1b2a135dc0\",\"type\":\"BasicTickFormatter\"},\"plot\":{\"id\":\"adff1fa6-d380-452b-87b3-5c0b42e9baa4\",\"subtype\":\"Figure\",\"type\":\"Plot\"},\"ticker\":{\"id\":\"c7804719-707f-4a58-8c64-25cb6f8cefa0\",\"type\":\"BasicTicker\"}},\"id\":\"1443799c-981c-494c-a17d-323eae072081\",\"type\":\"LinearAxis\"},{\"attributes\":{\"callback\":null,\"column_names\":[\"y\",\"x\",\"vals\"],\"data\":{\"vals\":[\"21\",\"1\",\"1\",\"3\",\"1\",\"150\"],\"x\":[136637300,136541669,136641482,136643324,136640337,136483549],\"y\":[234,271,415,559,677,758]}},\"id\":\"e65564b0-1765-41dd-8f66-ab42b4516d39\",\"type\":\"ColumnDataSource\"},{\"attributes\":{},\"id\":\"7850306d-67ae-4716-a3c7-c1e0d5b5a097\",\"type\":\"ToolEvents\"},{\"attributes\":{\"plot\":null,\"text\":null},\"id\":\"0a871cfc-3841-4ab0-813a-75b646f33ae8\",\"type\":\"Title\"},{\"attributes\":{\"callback\":null,\"column_names\":[\"y\",\"x\",\"vals\"],\"data\":{\"vals\":[\"RAB3GAP1\",\"ZRANB3\",\"R3HDM1\",\"UBXN4\",\"LCT\",\"MCM6\",\"DARS\"],\"x\":[135869057.0,136122878.0,136385961.0,136520911.0,136570082.5,136615621.5,136703738.0],\"y\":[877.0,877.0,877.0,877.0,877.0,877.0,877.0]}},\"id\":\"74922b76-88d1-4d7e-8181-e9ea023e2470\",\"type\":\"ColumnDataSource\"},{\"attributes\":{\"bottom_units\":\"screen\",\"fill_alpha\":{\"value\":0.5},\"fill_color\":{\"value\":\"lightgrey\"},\"left_units\":\"screen\",\"level\":\"overlay\",\"line_alpha\":{\"value\":1.0},\"line_color\":{\"value\":\"black\"},\"line_dash\":[4,4],\"line_width\":{\"value\":2},\"plot\":null,\"render_mode\":\"css\",\"right_units\":\"screen\",\"top_units\":\"screen\"},\"id\":\"4c05b86f-3fb3-4fda-bc84-7f6baf203241\",\"type\":\"BoxAnnotation\"},{\"attributes\":{\"plot\":{\"id\":\"adff1fa6-d380-452b-87b3-5c0b42e9baa4\",\"subtype\":\"Figure\",\"type\":\"Plot\"}},\"id\":\"f775dac5-b7a8-4c5b-932b-5cc96e6dcdaa\",\"type\":\"PanTool\"},{\"attributes\":{\"data_source\":{\"id\":\"b75a9cc3-639f-4141-b44e-e4800e26b7d9\",\"type\":\"ColumnDataSource\"},\"glyph\":{\"id\":\"9698f9e9-33c1-4728-a2b4-0f2fc7abadca\",\"type\":\"MultiLine\"},\"hover_glyph\":null,\"nonselection_glyph\":{\"id\":\"98f4ad93-4f59-47d1-8d6b-442c754277b0\",\"type\":\"MultiLine\"},\"selection_glyph\":null},\"id\":\"29a0bda8-6530-4cb4-b63e-634f880c42d7\",\"type\":\"GlyphRenderer\"},{\"attributes\":{\"bottom\":{\"field\":\"bottom\"},\"fill_color\":{\"value\":\"white\"},\"left\":{\"field\":\"left\"},\"right\":{\"field\":\"right\"},\"top\":{\"field\":\"top\"}},\"id\":\"7a580a6b-8de0-4deb-a6a2-3118f86f6967\",\"type\":\"Quad\"}],\"root_ids\":[\"adff1fa6-d380-452b-87b3-5c0b42e9baa4\"]},\"title\":\"Bokeh Application\",\"version\":\"0.12.0\"}};\n",
       "            var render_items = [{\"docid\":\"7e28983e-beb3-4f03-b8d8-a6c0e9279f7f\",\"elementid\":\"7f610ca1-5179-41c1-bf1c-4fbedcc4205d\",\"modelid\":\"adff1fa6-d380-452b-87b3-5c0b42e9baa4\",\"notebook_comms_target\":\"ee7fc860-d2e6-450c-b860-103ea63d29f2\"}];\n",
       "            \n",
       "            Bokeh.embed.embed_items(docs_json, render_items);\n",
       "        });\n",
       "      },\n",
       "      function(Bokeh) {\n",
       "      }\n",
       "    ];\n",
       "  \n",
       "    function run_inline_js() {\n",
       "      for (var i = 0; i < inline_js.length; i++) {\n",
       "        inline_js[i](window.Bokeh);\n",
       "      }\n",
       "    }\n",
       "  \n",
       "    if (window._bokeh_is_loading === 0) {\n",
       "      console.log(\"Bokeh: BokehJS loaded, going straight to plotting\");\n",
       "      run_inline_js();\n",
       "    } else {\n",
       "      load_libs(js_urls, function() {\n",
       "        console.log(\"Bokeh: BokehJS plotting callback run at\", now());\n",
       "        run_inline_js();\n",
       "      });\n",
       "    }\n",
       "  }(this));\n",
       "</script>"
      ]
     },
     "metadata": {},
     "output_type": "display_data"
    },
    {
     "data": {
      "text/html": [
       "<p><code>&lt;Bokeh Notebook handle for <strong>In[16]</strong>&gt;</code></p>"
      ],
      "text/plain": [
       "<bokeh.io._CommsHandle at 0x7f7c7ed1d8d0>"
      ]
     },
     "execution_count": 16,
     "metadata": {},
     "output_type": "execute_result"
    }
   ],
   "source": [
    "plt_obj = dm.basis_yes_no([dm.di_9_944], [dm.di_5_684])\n",
    "plt = plt_obj.do_basis_plot()\n",
    "show(plt)"
   ]
  },
  {
   "cell_type": "code",
   "execution_count": 17,
   "metadata": {
    "collapsed": false
   },
   "outputs": [
    {
     "data": {
      "text/html": [
       "<table>\n",
       "<thead><tr><th style=\"text-align:center\">index</th><th style=\"text-align:center\">first</th><th style=\"text-align:center\">last</th><th style=\"text-align:center\">length</th><th style=\"text-align:center\">snps</th><th style=\"text-align:center\">alleles</th><th style=\"text-align:center\">basis</th><th style=\"text-align:center\" colspan=2>afr</th><th style=\"text-align:center\" colspan=2>afx</th><th style=\"text-align:center\" colspan=2>amr</th><th style=\"text-align:center\" colspan=2>eas</th><th style=\"text-align:center\" colspan=2>eur</th><th style=\"text-align:center\" colspan=2>sas</th><th style=\"text-align:center\" colspan=2>sax</th></tr></thead>\n",
       "<tr class=\"even\"><td style=\"text-align: right;\">353372</td><td style=\"text-align: right;\">135,829,592</td><td style=\"text-align: right;\">136,420,908</td><td style=\"text-align: right;\">591,316</td><td style=\"text-align: right;\">9</td><td style=\"text-align: right;padding-right: 1em\">944</td><td style=\"text-align: right;padding-right: 1em\">57</td><td style=\"text-align: right;\">0</td><td style=\"text-align: right;\">0.00</td><td style=\"text-align: right;\">0</td><td style=\"text-align: right;\">0.00</td><td style=\"text-align: right;\">4</td><td style=\"text-align: right;\">0.51</td><td style=\"text-align: right;\">14</td><td style=\"text-align: right;\">1.22</td><td style=\"text-align: right;\">13</td><td style=\"text-align: right;\">1.14</td><td style=\"text-align: right;\">11</td><td style=\"text-align: right;\">2.66</td><td style=\"text-align: right;\">15</td><td style=\"text-align: right;\">2.15</td></tr>\n",
       "<tr><td style=\"text-align: right;\">353902</td><td style=\"text-align: right;\">136,494,985</td><td style=\"text-align: right;\">136,773,638</td><td style=\"text-align: right;\">278,653</td><td style=\"text-align: right;\">81</td><td style=\"text-align: right;padding-right: 1em\">857</td><td style=\"text-align: right;padding-right: 1em\">150</td><td style=\"text-align: right;\">17</td><td style=\"text-align: right;\">0.56</td><td style=\"text-align: right;\">2</td><td style=\"text-align: right;\">0.21</td><td style=\"text-align: right;\">38</td><td style=\"text-align: right;\">1.83</td><td style=\"text-align: right;\">5</td><td style=\"text-align: right;\">0.17</td><td style=\"text-align: right;\">43</td><td style=\"text-align: right;\">1.43</td><td style=\"text-align: right;\">16</td><td style=\"text-align: right;\">1.47</td><td style=\"text-align: right;\">29</td><td style=\"text-align: right;\">1.58</td></tr>\n",
       "<tr class=\"even\"><td style=\"text-align: right;\">353938</td><td style=\"text-align: right;\">136,514,709</td><td style=\"text-align: right;\">136,543,147</td><td style=\"text-align: right;\">28,438</td><td style=\"text-align: right;\">6</td><td style=\"text-align: right;padding-right: 1em\">820</td><td style=\"text-align: right;padding-right: 1em\">1</td><td style=\"text-align: right;\">0</td><td style=\"text-align: right;\">0.00</td><td style=\"text-align: right;\">0</td><td style=\"text-align: right;\">0.00</td><td style=\"text-align: right;\">0</td><td style=\"text-align: right;\">0.00</td><td style=\"text-align: right;\">1</td><td style=\"text-align: right;\">4.97</td><td style=\"text-align: right;\">0</td><td style=\"text-align: right;\">0.00</td><td style=\"text-align: right;\">0</td><td style=\"text-align: right;\">0.00</td><td style=\"text-align: right;\">0</td><td style=\"text-align: right;\">0.00</td></tr>\n",
       "<tr><td style=\"text-align: right;\">354123</td><td style=\"text-align: right;\">136,651,773</td><td style=\"text-align: right;\">136,774,627</td><td style=\"text-align: right;\">122,854</td><td style=\"text-align: right;\">51</td><td style=\"text-align: right;padding-right: 1em\">176</td><td style=\"text-align: right;padding-right: 1em\">1</td><td style=\"text-align: right;\">0</td><td style=\"text-align: right;\">0.00</td><td style=\"text-align: right;\">0</td><td style=\"text-align: right;\">0.00</td><td style=\"text-align: right;\">0</td><td style=\"text-align: right;\">0.00</td><td style=\"text-align: right;\">1</td><td style=\"text-align: right;\">4.97</td><td style=\"text-align: right;\">0</td><td style=\"text-align: right;\">0.00</td><td style=\"text-align: right;\">0</td><td style=\"text-align: right;\">0.00</td><td style=\"text-align: right;\">0</td><td style=\"text-align: right;\">0.00</td></tr>\n",
       "<tr class=\"even\"><td style=\"text-align: right;\">353485</td><td style=\"text-align: right;\">135,942,182</td><td style=\"text-align: right;\">136,374,742</td><td style=\"text-align: right;\">432,560</td><td style=\"text-align: right;\">4</td><td style=\"text-align: right;padding-right: 1em\">67</td><td style=\"text-align: right;padding-right: 1em\">1</td><td style=\"text-align: right;\">0</td><td style=\"text-align: right;\">0.00</td><td style=\"text-align: right;\">0</td><td style=\"text-align: right;\">0.00</td><td style=\"text-align: right;\">0</td><td style=\"text-align: right;\">0.00</td><td style=\"text-align: right;\">1</td><td style=\"text-align: right;\">4.97</td><td style=\"text-align: right;\">0</td><td style=\"text-align: right;\">0.00</td><td style=\"text-align: right;\">0</td><td style=\"text-align: right;\">0.00</td><td style=\"text-align: right;\">0</td><td style=\"text-align: right;\">0.00</td></tr>\n",
       "<tr><td style=\"text-align: right;\">353564</td><td style=\"text-align: right;\">136,033,790</td><td style=\"text-align: right;\">136,325,737</td><td style=\"text-align: right;\">291,947</td><td style=\"text-align: right;\">5</td><td style=\"text-align: right;padding-right: 1em\">60</td><td style=\"text-align: right;padding-right: 1em\">55</td><td style=\"text-align: right;\">0</td><td style=\"text-align: right;\">0.00</td><td style=\"text-align: right;\">2</td><td style=\"text-align: right;\">0.58</td><td style=\"text-align: right;\">4</td><td style=\"text-align: right;\">0.52</td><td style=\"text-align: right;\">1</td><td style=\"text-align: right;\">0.09</td><td style=\"text-align: right;\">15</td><td style=\"text-align: right;\">1.36</td><td style=\"text-align: right;\">8</td><td style=\"text-align: right;\">2.00</td><td style=\"text-align: right;\">25</td><td style=\"text-align: right;\">3.71</td></tr>\n",
       "<tr class=\"even\"><td style=\"text-align: right;\">354133</td><td style=\"text-align: right;\">136,654,760</td><td style=\"text-align: right;\">136,770,767</td><td style=\"text-align: right;\">116,007</td><td style=\"text-align: right;\">20</td><td style=\"text-align: right;padding-right: 1em\">56</td><td style=\"text-align: right;padding-right: 1em\">3</td><td style=\"text-align: right;\">0</td><td style=\"text-align: right;\">0.00</td><td style=\"text-align: right;\">0</td><td style=\"text-align: right;\">0.00</td><td style=\"text-align: right;\">0</td><td style=\"text-align: right;\">0.00</td><td style=\"text-align: right;\">0</td><td style=\"text-align: right;\">0.00</td><td style=\"text-align: right;\">0</td><td style=\"text-align: right;\">0.00</td><td style=\"text-align: right;\">0</td><td style=\"text-align: right;\">0.00</td><td style=\"text-align: right;\">3</td><td style=\"text-align: right;\">8.16</td></tr>\n",
       "<tr><td style=\"text-align: right;\">353430</td><td style=\"text-align: right;\">135,879,258</td><td style=\"text-align: right;\">136,395,769</td><td style=\"text-align: right;\">516,511</td><td style=\"text-align: right;\">6</td><td style=\"text-align: right;padding-right: 1em\">54</td><td style=\"text-align: right;padding-right: 1em\">4</td><td style=\"text-align: right;\">0</td><td style=\"text-align: right;\">0.00</td><td style=\"text-align: right;\">0</td><td style=\"text-align: right;\">0.00</td><td style=\"text-align: right;\">0</td><td style=\"text-align: right;\">0.00</td><td style=\"text-align: right;\">0</td><td style=\"text-align: right;\">0.00</td><td style=\"text-align: right;\">1</td><td style=\"text-align: right;\">1.24</td><td style=\"text-align: right;\">1</td><td style=\"text-align: right;\">3.44</td><td style=\"text-align: right;\">2</td><td style=\"text-align: right;\">4.08</td></tr>\n",
       "<tr class=\"even\"><td style=\"text-align: right;\">353554</td><td style=\"text-align: right;\">136,021,814</td><td style=\"text-align: right;\">136,369,336</td><td style=\"text-align: right;\">347,522</td><td style=\"text-align: right;\">5</td><td style=\"text-align: right;padding-right: 1em\">47</td><td style=\"text-align: right;padding-right: 1em\">2</td><td style=\"text-align: right;\">0</td><td style=\"text-align: right;\">0.00</td><td style=\"text-align: right;\">0</td><td style=\"text-align: right;\">0.00</td><td style=\"text-align: right;\">0</td><td style=\"text-align: right;\">0.00</td><td style=\"text-align: right;\">2</td><td style=\"text-align: right;\">4.97</td><td style=\"text-align: right;\">0</td><td style=\"text-align: right;\">0.00</td><td style=\"text-align: right;\">0</td><td style=\"text-align: right;\">0.00</td><td style=\"text-align: right;\">0</td><td style=\"text-align: right;\">0.00</td></tr>\n",
       "<tr><td style=\"text-align: right;\">353394</td><td style=\"text-align: right;\">135,845,676</td><td style=\"text-align: right;\">136,487,576</td><td style=\"text-align: right;\">641,900</td><td style=\"text-align: right;\">14</td><td style=\"text-align: right;padding-right: 1em\">43</td><td style=\"text-align: right;padding-right: 1em\">4</td><td style=\"text-align: right;\">0</td><td style=\"text-align: right;\">0.00</td><td style=\"text-align: right;\">0</td><td style=\"text-align: right;\">0.00</td><td style=\"text-align: right;\">1</td><td style=\"text-align: right;\">1.80</td><td style=\"text-align: right;\">0</td><td style=\"text-align: right;\">0.00</td><td style=\"text-align: right;\">3</td><td style=\"text-align: right;\">3.73</td><td style=\"text-align: right;\">0</td><td style=\"text-align: right;\">0.00</td><td style=\"text-align: right;\">0</td><td style=\"text-align: right;\">0.00</td></tr>\n",
       "<tr class=\"even\"><td style=\"text-align: right;\">354128</td><td style=\"text-align: right;\">136,652,918</td><td style=\"text-align: right;\">136,786,630</td><td style=\"text-align: right;\">133,712</td><td style=\"text-align: right;\">80</td><td style=\"text-align: right;padding-right: 1em\">38</td><td style=\"text-align: right;padding-right: 1em\">1</td><td style=\"text-align: right;\">1</td><td style=\"text-align: right;\">4.97</td><td style=\"text-align: right;\">0</td><td style=\"text-align: right;\">0.00</td><td style=\"text-align: right;\">0</td><td style=\"text-align: right;\">0.00</td><td style=\"text-align: right;\">0</td><td style=\"text-align: right;\">0.00</td><td style=\"text-align: right;\">0</td><td style=\"text-align: right;\">0.00</td><td style=\"text-align: right;\">0</td><td style=\"text-align: right;\">0.00</td><td style=\"text-align: right;\">0</td><td style=\"text-align: right;\">0.00</td></tr>\n",
       "<tr><td style=\"text-align: right;\">353635</td><td style=\"text-align: right;\">136,151,572</td><td style=\"text-align: right;\">136,272,690</td><td style=\"text-align: right;\">121,118</td><td style=\"text-align: right;\">4</td><td style=\"text-align: right;padding-right: 1em\">37</td><td style=\"text-align: right;padding-right: 1em\">1</td><td style=\"text-align: right;\">0</td><td style=\"text-align: right;\">0.00</td><td style=\"text-align: right;\">0</td><td style=\"text-align: right;\">0.00</td><td style=\"text-align: right;\">0</td><td style=\"text-align: right;\">0.00</td><td style=\"text-align: right;\">0</td><td style=\"text-align: right;\">0.00</td><td style=\"text-align: right;\">0</td><td style=\"text-align: right;\">0.00</td><td style=\"text-align: right;\">0</td><td style=\"text-align: right;\">0.00</td><td style=\"text-align: right;\">1</td><td style=\"text-align: right;\">8.16</td></tr>\n",
       "<tr class=\"even\"><td style=\"text-align: right;\">353308</td><td style=\"text-align: right;\">135,782,087</td><td style=\"text-align: right;\">135,926,755</td><td style=\"text-align: right;\">144,668</td><td style=\"text-align: right;\">4</td><td style=\"text-align: right;padding-right: 1em\">34</td><td style=\"text-align: right;padding-right: 1em\">9</td><td style=\"text-align: right;\">0</td><td style=\"text-align: right;\">0.00</td><td style=\"text-align: right;\">0</td><td style=\"text-align: right;\">0.00</td><td style=\"text-align: right;\">0</td><td style=\"text-align: right;\">0.00</td><td style=\"text-align: right;\">0</td><td style=\"text-align: right;\">0.00</td><td style=\"text-align: right;\">1</td><td style=\"text-align: right;\">0.55</td><td style=\"text-align: right;\">1</td><td style=\"text-align: right;\">1.53</td><td style=\"text-align: right;\">7</td><td style=\"text-align: right;\">6.34</td></tr>\n",
       "<tr><td style=\"text-align: right;\">353469</td><td style=\"text-align: right;\">135,922,944</td><td style=\"text-align: right;\">136,269,855</td><td style=\"text-align: right;\">346,911</td><td style=\"text-align: right;\">5</td><td style=\"text-align: right;padding-right: 1em\">31</td><td style=\"text-align: right;padding-right: 1em\">17</td><td style=\"text-align: right;\">0</td><td style=\"text-align: right;\">0.00</td><td style=\"text-align: right;\">0</td><td style=\"text-align: right;\">0.00</td><td style=\"text-align: right;\">2</td><td style=\"text-align: right;\">0.85</td><td style=\"text-align: right;\">0</td><td style=\"text-align: right;\">0.00</td><td style=\"text-align: right;\">10</td><td style=\"text-align: right;\">2.93</td><td style=\"text-align: right;\">1</td><td style=\"text-align: right;\">0.81</td><td style=\"text-align: right;\">4</td><td style=\"text-align: right;\">1.92</td></tr>\n",
       "<tr class=\"even\"><td style=\"text-align: right;\">353975</td><td style=\"text-align: right;\">136,553,105</td><td style=\"text-align: right;\">136,776,186</td><td style=\"text-align: right;\">223,081</td><td style=\"text-align: right;\">9</td><td style=\"text-align: right;padding-right: 1em\">27</td><td style=\"text-align: right;padding-right: 1em\">1</td><td style=\"text-align: right;\">1</td><td style=\"text-align: right;\">4.97</td><td style=\"text-align: right;\">0</td><td style=\"text-align: right;\">0.00</td><td style=\"text-align: right;\">0</td><td style=\"text-align: right;\">0.00</td><td style=\"text-align: right;\">0</td><td style=\"text-align: right;\">0.00</td><td style=\"text-align: right;\">0</td><td style=\"text-align: right;\">0.00</td><td style=\"text-align: right;\">0</td><td style=\"text-align: right;\">0.00</td><td style=\"text-align: right;\">0</td><td style=\"text-align: right;\">0.00</td></tr>\n",
       "<tr><td style=\"text-align: right;\">354116</td><td style=\"text-align: right;\">136,648,736</td><td style=\"text-align: right;\">136,762,850</td><td style=\"text-align: right;\">114,114</td><td style=\"text-align: right;\">4</td><td style=\"text-align: right;padding-right: 1em\">26</td><td style=\"text-align: right;padding-right: 1em\">21</td><td style=\"text-align: right;\">0</td><td style=\"text-align: right;\">0.00</td><td style=\"text-align: right;\">0</td><td style=\"text-align: right;\">0.00</td><td style=\"text-align: right;\">4</td><td style=\"text-align: right;\">1.37</td><td style=\"text-align: right;\">0</td><td style=\"text-align: right;\">0.00</td><td style=\"text-align: right;\">10</td><td style=\"text-align: right;\">2.37</td><td style=\"text-align: right;\">3</td><td style=\"text-align: right;\">1.97</td><td style=\"text-align: right;\">4</td><td style=\"text-align: right;\">1.55</td></tr>\n",
       "<tr class=\"even\"><td style=\"text-align: right;\">354047</td><td style=\"text-align: right;\">136,595,044</td><td style=\"text-align: right;\">136,639,556</td><td style=\"text-align: right;\">44,512</td><td style=\"text-align: right;\">15</td><td style=\"text-align: right;padding-right: 1em\">25</td><td style=\"text-align: right;padding-right: 1em\">2</td><td style=\"text-align: right;\">0</td><td style=\"text-align: right;\">0.00</td><td style=\"text-align: right;\">0</td><td style=\"text-align: right;\">0.00</td><td style=\"text-align: right;\">0</td><td style=\"text-align: right;\">0.00</td><td style=\"text-align: right;\">0</td><td style=\"text-align: right;\">0.00</td><td style=\"text-align: right;\">2</td><td style=\"text-align: right;\">4.98</td><td style=\"text-align: right;\">0</td><td style=\"text-align: right;\">0.00</td><td style=\"text-align: right;\">0</td><td style=\"text-align: right;\">0.00</td></tr>\n",
       "<tr><td style=\"text-align: right;\">354147</td><td style=\"text-align: right;\">136,658,865</td><td style=\"text-align: right;\">136,719,873</td><td style=\"text-align: right;\">61,008</td><td style=\"text-align: right;\">6</td><td style=\"text-align: right;padding-right: 1em\">25</td><td style=\"text-align: right;padding-right: 1em\">2</td><td style=\"text-align: right;\">0</td><td style=\"text-align: right;\">0.00</td><td style=\"text-align: right;\">0</td><td style=\"text-align: right;\">0.00</td><td style=\"text-align: right;\">0</td><td style=\"text-align: right;\">0.00</td><td style=\"text-align: right;\">0</td><td style=\"text-align: right;\">0.00</td><td style=\"text-align: right;\">0</td><td style=\"text-align: right;\">0.00</td><td style=\"text-align: right;\">1</td><td style=\"text-align: right;\">6.88</td><td style=\"text-align: right;\">1</td><td style=\"text-align: right;\">4.08</td></tr>\n",
       "<tr class=\"even\"><td style=\"text-align: right;\">353467</td><td style=\"text-align: right;\">135,920,394</td><td style=\"text-align: right;\">136,528,956</td><td style=\"text-align: right;\">608,562</td><td style=\"text-align: right;\">5</td><td style=\"text-align: right;padding-right: 1em\">17</td><td style=\"text-align: right;padding-right: 1em\">17</td><td style=\"text-align: right;\">0</td><td style=\"text-align: right;\">0.00</td><td style=\"text-align: right;\">0</td><td style=\"text-align: right;\">0.00</td><td style=\"text-align: right;\">5</td><td style=\"text-align: right;\">2.12</td><td style=\"text-align: right;\">0</td><td style=\"text-align: right;\">0.00</td><td style=\"text-align: right;\">11</td><td style=\"text-align: right;\">3.22</td><td style=\"text-align: right;\">1</td><td style=\"text-align: right;\">0.81</td><td style=\"text-align: right;\">0</td><td style=\"text-align: right;\">0.00</td></tr>\n",
       "<tr><td style=\"text-align: right;\">353321</td><td style=\"text-align: right;\">135,789,949</td><td style=\"text-align: right;\">136,552,411</td><td style=\"text-align: right;\">762,462</td><td style=\"text-align: right;\">7</td><td style=\"text-align: right;padding-right: 1em\">17</td><td style=\"text-align: right;padding-right: 1em\">17</td><td style=\"text-align: right;\">0</td><td style=\"text-align: right;\">0.00</td><td style=\"text-align: right;\">0</td><td style=\"text-align: right;\">0.00</td><td style=\"text-align: right;\">2</td><td style=\"text-align: right;\">0.85</td><td style=\"text-align: right;\">0</td><td style=\"text-align: right;\">0.00</td><td style=\"text-align: right;\">14</td><td style=\"text-align: right;\">4.10</td><td style=\"text-align: right;\">1</td><td style=\"text-align: right;\">0.81</td><td style=\"text-align: right;\">0</td><td style=\"text-align: right;\">0.00</td></tr>\n",
       "<tr class=\"even\"><td style=\"text-align: right;\">353705</td><td style=\"text-align: right;\">136,266,716</td><td style=\"text-align: right;\">136,564,246</td><td style=\"text-align: right;\">297,530</td><td style=\"text-align: right;\">4</td><td style=\"text-align: right;padding-right: 1em\">16</td><td style=\"text-align: right;padding-right: 1em\">16</td><td style=\"text-align: right;\">0</td><td style=\"text-align: right;\">0.00</td><td style=\"text-align: right;\">0</td><td style=\"text-align: right;\">0.00</td><td style=\"text-align: right;\">4</td><td style=\"text-align: right;\">1.80</td><td style=\"text-align: right;\">0</td><td style=\"text-align: right;\">0.00</td><td style=\"text-align: right;\">12</td><td style=\"text-align: right;\">3.73</td><td style=\"text-align: right;\">0</td><td style=\"text-align: right;\">0.00</td><td style=\"text-align: right;\">0</td><td style=\"text-align: right;\">0.00</td></tr>\n",
       "</table>"
      ],
      "text/plain": [
       "<IPython.core.display.HTML object>"
      ]
     },
     "execution_count": 17,
     "metadata": {},
     "output_type": "execute_result"
    }
   ],
   "source": [
    "HTML(plt_obj.get_basis_html())"
   ]
  },
  {
   "cell_type": "markdown",
   "metadata": {},
   "source": [
    "<div style=\"width:700px\">\n",
    "<p>\n",
    "This plot shows the hierarchy selected by the series 4_16.  It is expressed\n",
    "by 12 European and 4 American chromosome 2 samples.\n",
    "</div>"
   ]
  },
  {
   "cell_type": "code",
   "execution_count": 18,
   "metadata": {
    "collapsed": false
   },
   "outputs": [
    {
     "data": {
      "text/html": [
       "\n",
       "\n",
       "    <div class=\"bk-root\">\n",
       "        <div class=\"plotdiv\" id=\"1a7e46e8-7334-48e3-a92c-0c408c963003\"></div>\n",
       "    </div>\n",
       "<script type=\"text/javascript\">\n",
       "  \n",
       "  (function(global) {\n",
       "    function now() {\n",
       "      return new Date();\n",
       "    }\n",
       "  \n",
       "    if (typeof (window._bokeh_onload_callbacks) === \"undefined\") {\n",
       "      window._bokeh_onload_callbacks = [];\n",
       "    }\n",
       "  \n",
       "    function run_callbacks() {\n",
       "      window._bokeh_onload_callbacks.forEach(function(callback) { callback() });\n",
       "      delete window._bokeh_onload_callbacks\n",
       "      console.info(\"Bokeh: all callbacks have finished\");\n",
       "    }\n",
       "  \n",
       "    function load_libs(js_urls, callback) {\n",
       "      window._bokeh_onload_callbacks.push(callback);\n",
       "      if (window._bokeh_is_loading > 0) {\n",
       "        console.log(\"Bokeh: BokehJS is being loaded, scheduling callback at\", now());\n",
       "        return null;\n",
       "      }\n",
       "      if (js_urls == null || js_urls.length === 0) {\n",
       "        run_callbacks();\n",
       "        return null;\n",
       "      }\n",
       "      console.log(\"Bokeh: BokehJS not loaded, scheduling load and callback at\", now());\n",
       "      window._bokeh_is_loading = js_urls.length;\n",
       "      for (var i = 0; i < js_urls.length; i++) {\n",
       "        var url = js_urls[i];\n",
       "        var s = document.createElement('script');\n",
       "        s.src = url;\n",
       "        s.async = false;\n",
       "        s.onreadystatechange = s.onload = function() {\n",
       "          window._bokeh_is_loading--;\n",
       "          if (window._bokeh_is_loading === 0) {\n",
       "            console.log(\"Bokeh: all BokehJS libraries loaded\");\n",
       "            run_callbacks()\n",
       "          }\n",
       "        };\n",
       "        s.onerror = function() {\n",
       "          console.warn(\"failed to load library \" + url);\n",
       "        };\n",
       "        console.log(\"Bokeh: injecting script tag for BokehJS library: \", url);\n",
       "        document.getElementsByTagName(\"head\")[0].appendChild(s);\n",
       "      }\n",
       "    };var element = document.getElementById(\"1a7e46e8-7334-48e3-a92c-0c408c963003\");\n",
       "    if (element == null) {\n",
       "      console.log(\"Bokeh: ERROR: autoload.js configured with elementid '1a7e46e8-7334-48e3-a92c-0c408c963003' but no matching script tag was found. \")\n",
       "      return false;\n",
       "    }\n",
       "  \n",
       "    var js_urls = [];\n",
       "  \n",
       "    var inline_js = [\n",
       "      function(Bokeh) {\n",
       "        Bokeh.$(function() {\n",
       "            var docs_json = {\"bfa9b262-8945-4b8b-9654-a17314c71ef9\":{\"roots\":{\"references\":[{\"attributes\":{\"plot\":{\"id\":\"54e231bc-235f-46de-ba02-d93614f47020\",\"subtype\":\"Figure\",\"type\":\"Plot\"}},\"id\":\"a366c5d9-0037-4c9f-a5a5-de47f61cc97d\",\"type\":\"HelpTool\"},{\"attributes\":{\"plot\":{\"id\":\"54e231bc-235f-46de-ba02-d93614f47020\",\"subtype\":\"Figure\",\"type\":\"Plot\"}},\"id\":\"66d43ce6-4ef6-4528-98b5-9cc077609cf0\",\"type\":\"SaveTool\"},{\"attributes\":{\"callback\":null,\"end\":136786630,\"start\":135757320},\"id\":\"217a1343-9e08-4b36-bbe4-188567fe833a\",\"type\":\"Range1d\"},{\"attributes\":{\"below\":[{\"id\":\"e6e98df5-3e8a-4ff6-8d22-b81fe5fa7c3b\",\"type\":\"LinearAxis\"}],\"left\":[{\"id\":\"9457f25f-5112-464b-8071-4848df956d4a\",\"type\":\"LinearAxis\"}],\"plot_height\":900,\"plot_width\":900,\"renderers\":[{\"id\":\"e6e98df5-3e8a-4ff6-8d22-b81fe5fa7c3b\",\"type\":\"LinearAxis\"},{\"id\":\"cf95cf92-94dc-4e18-8fef-f15f725022c6\",\"type\":\"Grid\"},{\"id\":\"9457f25f-5112-464b-8071-4848df956d4a\",\"type\":\"LinearAxis\"},{\"id\":\"2660280d-9c1e-499a-909c-2d55bcba7ea3\",\"type\":\"Grid\"},{\"id\":\"a35d844e-5f33-433d-a31b-59338cd8c630\",\"type\":\"BoxAnnotation\"},{\"id\":\"48591fc0-fbb5-4c75-9acc-ea7e510d6d8e\",\"type\":\"GlyphRenderer\"},{\"id\":\"e83bc648-b9dc-4172-b96d-1d35b8ed33dd\",\"type\":\"GlyphRenderer\"},{\"id\":\"3a0690a4-fdb1-43bb-ab8c-a2587c09f759\",\"type\":\"LabelSet\"},{\"id\":\"e53b0da2-8b92-405f-a5c3-72bbd054b227\",\"type\":\"GlyphRenderer\"},{\"id\":\"f9f9f587-7b80-4a28-ad3c-743b54c149f9\",\"type\":\"LabelSet\"}],\"title\":{\"id\":\"14526929-a5f9-44c5-8037-993d93ddfe27\",\"type\":\"Title\"},\"tool_events\":{\"id\":\"8658978a-4b90-42fc-9557-2353d651652f\",\"type\":\"ToolEvents\"},\"toolbar\":{\"id\":\"0024e961-b155-4123-9698-54b0015c5919\",\"type\":\"Toolbar\"},\"toolbar_location\":null,\"x_range\":{\"id\":\"217a1343-9e08-4b36-bbe4-188567fe833a\",\"type\":\"Range1d\"},\"y_range\":{\"id\":\"0a1c11f2-2cee-449f-9bba-68f5b1eb6797\",\"type\":\"Range1d\"}},\"id\":\"54e231bc-235f-46de-ba02-d93614f47020\",\"subtype\":\"Figure\",\"type\":\"Plot\"},{\"attributes\":{\"plot\":{\"id\":\"54e231bc-235f-46de-ba02-d93614f47020\",\"subtype\":\"Figure\",\"type\":\"Plot\"}},\"id\":\"b64b4d8d-7aed-426b-91aa-06f741a70b09\",\"type\":\"WheelZoomTool\"},{\"attributes\":{\"bottom_units\":\"screen\",\"fill_alpha\":{\"value\":0.5},\"fill_color\":{\"value\":\"lightgrey\"},\"left_units\":\"screen\",\"level\":\"overlay\",\"line_alpha\":{\"value\":1.0},\"line_color\":{\"value\":\"black\"},\"line_dash\":[4,4],\"line_width\":{\"value\":2},\"plot\":null,\"render_mode\":\"css\",\"right_units\":\"screen\",\"top_units\":\"screen\"},\"id\":\"a35d844e-5f33-433d-a31b-59338cd8c630\",\"type\":\"BoxAnnotation\"},{\"attributes\":{\"plot\":{\"id\":\"54e231bc-235f-46de-ba02-d93614f47020\",\"subtype\":\"Figure\",\"type\":\"Plot\"}},\"id\":\"d75baaeb-8136-4a44-824e-aebce41477ed\",\"type\":\"ResetTool\"},{\"attributes\":{\"callback\":null,\"column_names\":[\"right\",\"bottom\",\"top\",\"left\",\"fill_color\"],\"data\":{\"bottom\":[750,350,250,150,50,650,350,450,650,550,750,450,550,750],\"fill_color\":[\"#808080\",\"#c4c461\",\"#00ff00\",\"#00ff00\",\"#00ff00\",\"#c4c461\",\"#808080\",\"#808080\",\"#808080\",\"#808080\",\"#c46161\",\"#808080\",\"#808080\",\"#808080\"],\"left\":[135757320,135829592,135879258,135922944,136266716,136393658,136494985,136500475,136506375,136535876,136588031,136652491,136652953,136653925],\"right\":[135777504,136420908,136395769,136269855,136564246,136486342,136773638,136542560,136538939,136554890,136593678,136732772,136761175,136761853],\"top\":[796,391,266,161,56,694,390,493,694,594,796,492,594,795]}},\"id\":\"f53b2fcb-379e-461f-971f-6954ade5a972\",\"type\":\"ColumnDataSource\"},{\"attributes\":{},\"id\":\"8658978a-4b90-42fc-9557-2353d651652f\",\"type\":\"ToolEvents\"},{\"attributes\":{\"plot\":null,\"text\":null},\"id\":\"14526929-a5f9-44c5-8037-993d93ddfe27\",\"type\":\"Title\"},{\"attributes\":{},\"id\":\"e78aaacd-77ed-49b1-8892-a96d608896ad\",\"type\":\"BasicTickFormatter\"},{\"attributes\":{\"plot\":{\"id\":\"54e231bc-235f-46de-ba02-d93614f47020\",\"subtype\":\"Figure\",\"type\":\"Plot\"}},\"id\":\"bca067a0-be87-4305-8486-5fe6677311e0\",\"type\":\"PanTool\"},{\"attributes\":{\"overlay\":{\"id\":\"a35d844e-5f33-433d-a31b-59338cd8c630\",\"type\":\"BoxAnnotation\"},\"plot\":{\"id\":\"54e231bc-235f-46de-ba02-d93614f47020\",\"subtype\":\"Figure\",\"type\":\"Plot\"}},\"id\":\"5e7b9e80-b57e-4829-aa53-cc8bbcbb9ebe\",\"type\":\"BoxZoomTool\"},{\"attributes\":{\"bottom\":{\"field\":\"bottom\"},\"fill_color\":{\"field\":\"fill_color\"},\"left\":{\"field\":\"left\"},\"line_color\":{\"value\":null},\"right\":{\"field\":\"right\"},\"top\":{\"field\":\"top\"}},\"id\":\"7b67c18f-e141-4add-bc65-6ec13562eb74\",\"type\":\"Quad\"},{\"attributes\":{},\"id\":\"55e1da7f-c8b3-4dd2-a055-17168828cf50\",\"type\":\"BasicTickFormatter\"},{\"attributes\":{},\"id\":\"70f9eb20-be45-469c-b97b-9fbdbd36f7d6\",\"type\":\"BasicTicker\"},{\"attributes\":{\"level\":\"glyph\",\"plot\":{\"id\":\"54e231bc-235f-46de-ba02-d93614f47020\",\"subtype\":\"Figure\",\"type\":\"Plot\"},\"source\":{\"id\":\"ed05d8ca-231c-4d3e-a796-996a8215b4a8\",\"type\":\"ColumnDataSource\"},\"text\":{\"field\":\"vals\"},\"text_font_size\":{\"value\":\"9pt\"},\"text_font_style\":\"bold\",\"x\":{\"field\":\"x\"},\"y\":{\"field\":\"y\"}},\"id\":\"3a0690a4-fdb1-43bb-ab8c-a2587c09f759\",\"type\":\"LabelSet\"},{\"attributes\":{\"formatter\":{\"id\":\"55e1da7f-c8b3-4dd2-a055-17168828cf50\",\"type\":\"BasicTickFormatter\"},\"plot\":{\"id\":\"54e231bc-235f-46de-ba02-d93614f47020\",\"subtype\":\"Figure\",\"type\":\"Plot\"},\"ticker\":{\"id\":\"70f9eb20-be45-469c-b97b-9fbdbd36f7d6\",\"type\":\"BasicTicker\"}},\"id\":\"e6e98df5-3e8a-4ff6-8d22-b81fe5fa7c3b\",\"type\":\"LinearAxis\"},{\"attributes\":{\"callback\":null,\"column_names\":[\"y\",\"x\",\"vals\"],\"data\":{\"vals\":[\"RAB3GAP1\",\"ZRANB3\",\"R3HDM1\",\"UBXN4\",\"LCT\",\"MCM6\",\"DARS\"],\"x\":[135869057.0,136122878.0,136385961.0,136520911.0,136570082.5,136615621.5,136703738.0],\"y\":[860.0,860.0,860.0,860.0,860.0,860.0,860.0]}},\"id\":\"0e15ef10-ed31-4f69-a066-607e4df3867e\",\"type\":\"ColumnDataSource\"},{\"attributes\":{\"bottom\":{\"field\":\"bottom\"},\"fill_alpha\":{\"value\":0.1},\"fill_color\":{\"value\":\"#1f77b4\"},\"left\":{\"field\":\"left\"},\"line_alpha\":{\"value\":0.1},\"line_color\":{\"value\":\"#1f77b4\"},\"right\":{\"field\":\"right\"},\"top\":{\"field\":\"top\"}},\"id\":\"24448f54-a149-4061-8486-0def8f37d995\",\"type\":\"Quad\"},{\"attributes\":{},\"id\":\"5ff5c344-1757-4022-939e-99d0ba83c6ea\",\"type\":\"BasicTicker\"},{\"attributes\":{\"callback\":null,\"column_names\":[\"right\",\"bottom\",\"top\",\"left\"],\"data\":{\"bottom\":[845,845,845,845,845,845,845],\"left\":[135809835,135957574,136289083,136499189,136545415,136597196,136664254],\"right\":[135928279,136288182,136482839,136542633,136594750,136634047,136743222],\"top\":[875,875,875,875,875,875,875]}},\"id\":\"91aff4df-5b0d-455d-a08d-c5c750b21946\",\"type\":\"ColumnDataSource\"},{\"attributes\":{\"bottom\":{\"field\":\"bottom\"},\"fill_alpha\":{\"value\":0.1},\"fill_color\":{\"value\":\"#1f77b4\"},\"left\":{\"field\":\"left\"},\"line_alpha\":{\"value\":0.1},\"line_color\":{\"value\":\"#1f77b4\"},\"right\":{\"field\":\"right\"},\"top\":{\"field\":\"top\"}},\"id\":\"4228feb9-c83f-4a92-a8a8-cea1ba630105\",\"type\":\"Quad\"},{\"attributes\":{\"data_source\":{\"id\":\"f53b2fcb-379e-461f-971f-6954ade5a972\",\"type\":\"ColumnDataSource\"},\"glyph\":{\"id\":\"7b67c18f-e141-4add-bc65-6ec13562eb74\",\"type\":\"Quad\"},\"hover_glyph\":null,\"nonselection_glyph\":{\"id\":\"4228feb9-c83f-4a92-a8a8-cea1ba630105\",\"type\":\"Quad\"},\"selection_glyph\":null},\"id\":\"48591fc0-fbb5-4c75-9acc-ea7e510d6d8e\",\"type\":\"GlyphRenderer\"},{\"attributes\":{\"dimension\":1,\"plot\":{\"id\":\"54e231bc-235f-46de-ba02-d93614f47020\",\"subtype\":\"Figure\",\"type\":\"Plot\"},\"ticker\":{\"id\":\"5ff5c344-1757-4022-939e-99d0ba83c6ea\",\"type\":\"BasicTicker\"}},\"id\":\"2660280d-9c1e-499a-909c-2d55bcba7ea3\",\"type\":\"Grid\"},{\"attributes\":{\"line_alpha\":{\"value\":0.1},\"line_color\":{\"value\":\"#1f77b4\"},\"xs\":{\"field\":\"xs\"},\"ys\":{\"field\":\"ys\"}},\"id\":\"9e4cdc18-c8ba-4a30-993f-6df18724a6dd\",\"type\":\"MultiLine\"},{\"attributes\":{\"plot\":{\"id\":\"54e231bc-235f-46de-ba02-d93614f47020\",\"subtype\":\"Figure\",\"type\":\"Plot\"},\"ticker\":{\"id\":\"70f9eb20-be45-469c-b97b-9fbdbd36f7d6\",\"type\":\"BasicTicker\"}},\"id\":\"cf95cf92-94dc-4e18-8fef-f15f725022c6\",\"type\":\"Grid\"},{\"attributes\":{\"callback\":null,\"end\":900},\"id\":\"0a1c11f2-2cee-449f-9bba-68f5b1eb6797\",\"type\":\"Range1d\"},{\"attributes\":{\"callback\":null,\"column_names\":[\"y\",\"x\",\"vals\"],\"data\":{\"vals\":[\"13_1696\",\"9_944\",\"6_54\",\"5_31\",\"4_16\",\"32_1361\",\"81_857\",\"13_1227\",\"4_1442\",\"7_1303\",\"7_1760\",\"6_1114\",\"5_1296\",\"24_1504\"],\"x\":[135757320,135829592,135879258,135922944,136266716,136393658,136494985,136500475,136506375,136535876,136588031,136652491,136652953,136653925],\"y\":[801.0,396.0,271.0,166.0,61.0,699.0,395.0,498.0,699.0,599.0,801.0,497.0,599.0,800.0]}},\"id\":\"ed05d8ca-231c-4d3e-a796-996a8215b4a8\",\"type\":\"ColumnDataSource\"},{\"attributes\":{\"active_drag\":\"auto\",\"active_scroll\":\"auto\",\"active_tap\":\"auto\",\"tools\":[{\"id\":\"bca067a0-be87-4305-8486-5fe6677311e0\",\"type\":\"PanTool\"},{\"id\":\"b64b4d8d-7aed-426b-91aa-06f741a70b09\",\"type\":\"WheelZoomTool\"},{\"id\":\"5e7b9e80-b57e-4829-aa53-cc8bbcbb9ebe\",\"type\":\"BoxZoomTool\"},{\"id\":\"66d43ce6-4ef6-4528-98b5-9cc077609cf0\",\"type\":\"SaveTool\"},{\"id\":\"d75baaeb-8136-4a44-824e-aebce41477ed\",\"type\":\"ResetTool\"},{\"id\":\"a366c5d9-0037-4c9f-a5a5-de47f61cc97d\",\"type\":\"HelpTool\"}]},\"id\":\"0024e961-b155-4123-9698-54b0015c5919\",\"type\":\"Toolbar\"},{\"attributes\":{\"callback\":null,\"column_names\":[\"xs\",\"ys\",\"line_color\"],\"data\":{\"line_color\":[\"black\",\"black\",\"black\",\"black\",\"black\",\"black\",\"black\",\"black\",\"black\",\"black\",\"black\",\"black\",\"black\",\"black\",\"black\",\"black\",\"black\",\"black\",\"black\",\"black\",\"black\",\"black\",\"black\",\"black\",\"black\",\"black\",\"black\",\"black\",\"black\",\"black\",\"black\",\"black\",\"black\",\"black\",\"black\",\"black\",\"black\",\"black\",\"black\",\"black\",\"black\",\"black\",\"black\",\"black\",\"black\",\"black\",\"black\",\"black\",\"black\",\"black\",\"black\",\"black\",\"black\",\"black\",\"black\",\"black\",\"black\",\"black\",\"black\",\"black\",\"black\",\"black\",\"black\",\"black\",\"black\",\"black\",\"black\",\"black\",\"black\",\"black\",\"black\",\"black\",\"black\",\"black\",\"black\",\"black\",\"black\",\"black\",\"black\",\"black\",\"black\",\"black\",\"black\",\"black\",\"black\",\"black\",\"black\",\"black\",\"black\",\"black\",\"black\",\"black\",\"black\",\"black\",\"black\",\"black\",\"black\",\"black\",\"black\",\"black\",\"black\",\"black\",\"black\",\"black\",\"black\",\"black\",\"black\",\"black\",\"black\",\"black\",\"black\",\"black\",\"black\",\"black\",\"black\",\"black\",\"black\",\"black\",\"black\",\"black\",\"black\",\"black\",\"black\",\"black\",\"black\",\"black\",\"black\",\"black\",\"black\",\"black\",\"black\",\"black\",\"black\",\"black\",\"black\",\"black\",\"black\",\"black\",\"black\",\"black\",\"black\",\"black\",\"black\",\"black\",\"black\",\"black\",\"black\",\"black\",\"black\",\"black\",\"black\",\"black\",\"black\",\"black\",\"black\",\"black\",\"black\",\"black\",\"black\",\"black\",\"black\",\"black\",\"black\",\"black\",\"black\",\"black\",\"black\",\"black\",\"black\",\"black\",\"black\",\"black\",\"black\",\"black\",\"black\",\"black\",\"black\",\"black\",\"black\",\"black\",\"black\",\"black\",\"black\",\"black\",\"black\",\"black\",\"black\",\"black\",\"black\",\"black\",\"black\",\"black\",\"black\",\"black\",\"black\",\"black\",\"black\",\"black\",\"black\",\"black\",\"black\",\"black\",\"black\",\"black\",\"black\",\"black\",\"black\",\"black\",\"black\",\"black\",\"black\",\"black\",\"black\",\"black\",\"black\",\"black\"],\"xs\":[[135757320,135757320],[135761078,135761078],[135761271,135761271],[135762344,135762344],[135762980,135762980],[135763280,135763280],[135768815,135768815],[135769093,135769093],[135769127,135769127],[135770940,135770940],[135770951,135770951],[135776728,135776728],[135777504,135777504],[135829592,135829592],[135893372,135893372],[135952405,135952405],[135989721,135989721],[136136056,136136056],[136313639,136313639],[136401418,136401418],[136407078,136407078],[136420908,136420908],[135879258,135879258],[135967182,135967182],[136063448,136063448],[136145019,136145019],[136227304,136227304],[136395769,136395769],[135922944,135922944],[136175761,136175761],[136244643,136244643],[136248801,136248801],[136269855,136269855],[136266716,136266716],[136306546,136306546],[136451558,136451558],[136564246,136564246],[136393658,136393658],[136396300,136396300],[136401843,136401843],[136407445,136407445],[136411879,136411879],[136412270,136412270],[136413244,136413244],[136413847,136413847],[136415217,136415217],[136416533,136416533],[136420726,136420726],[136429857,136429857],[136433740,136433740],[136436317,136436317],[136437615,136437615],[136438517,136438517],[136440300,136440300],[136443900,136443900],[136444185,136444185],[136444338,136444338],[136449254,136449254],[136451676,136451676],[136459227,136459227],[136463117,136463117],[136463454,136463454],[136467119,136467119],[136468238,136468238],[136470219,136470219],[136483355,136483355],[136485276,136485276],[136486340,136486340],[136486342,136486342],[136494985,136494985],[136497199,136497199],[136511817,136511817],[136513670,136513670],[136515458,136515458],[136516970,136516970],[136525309,136525309],[136528034,136528034],[136532225,136532225],[136535235,136535235],[136536095,136536095],[136544423,136544423],[136546927,136546927],[136552188,136552188],[136552517,136552517],[136555525,136555525],[136556480,136556480],[136560464,136560464],[136572285,136572285],[136582694,136582694],[136582809,136582809],[136584538,136584538],[136585323,136585323],[136586825,136586825],[136600662,136600662],[136612036,136612036],[136618178,136618178],[136618507,136618507],[136622543,136622543],[136624947,136624947],[136625113,136625113],[136626078,136626078],[136628121,136628121],[136632300,136632300],[136633962,136633962],[136635343,136635343],[136638113,136638113],[136640101,136640101],[136641593,136641593],[136646582,136646582],[136648077,136648077],[136648883,136648883],[136652045,136652045],[136653848,136653848],[136656094,136656094],[136661110,136661110],[136663110,136663110],[136663605,136663605],[136665162,136665162],[136665711,136665711],[136668123,136668123],[136670419,136670419],[136672680,136672680],[136673546,136673546],[136684632,136684632],[136686114,136686114],[136690425,136690425],[136690783,136690783],[136692893,136692893],[136694905,136694905],[136695694,136695694],[136695705,136695705],[136696608,136696608],[136697372,136697372],[136697468,136697468],[136700024,136700024],[136701539,136701539],[136702118,136702118],[136707480,136707480],[136710554,136710554],[136714178,136714178],[136719173,136719173],[136725459,136725459],[136734569,136734569],[136744678,136744678],[136748779,136748779],[136751488,136751488],[136754183,136754183],[136763242,136763242],[136765074,136765074],[136773638,136773638],[136500475,136500475],[136501509,136501509],[136504101,136504101],[136509868,136509868],[136520043,136520043],[136527120,136527120],[136530379,136530379],[136530443,136530443],[136539330,136539330],[136539670,136539670],[136540083,136540083],[136542559,136542559],[136542560,136542560],[136506375,136506375],[136506927,136506927],[136510012,136510012],[136538939,136538939],[136535876,136535876],[136544651,136544651],[136545844,136545844],[136552526,136552526],[136553022,136553022],[136554797,136554797],[136554890,136554890],[136588031,136588031],[136589278,136589278],[136589379,136589379],[136589741,136589741],[136590746,136590746],[136593553,136593553],[136593678,136593678],[136652491,136652491],[136652524,136652524],[136661150,136661150],[136669264,136669264],[136726567,136726567],[136732772,136732772],[136652953,136652953],[136655582,136655582],[136674028,136674028],[136684940,136684940],[136761175,136761175],[136653925,136653925],[136654833,136654833],[136656534,136656534],[136656536,136656536],[136657252,136657252],[136667301,136667301],[136667487,136667487],[136672775,136672775],[136680534,136680534],[136686393,136686393],[136688749,136688749],[136692553,136692553],[136697371,136697371],[136708787,136708787],[136710372,136710372],[136711064,136711064],[136715324,136715324],[136723504,136723504],[136737460,136737460],[136743143,136743143],[136746224,136746224],[136751842,136751842],[136759379,136759379],[136761853,136761853]],\"ys\":[[750,796],[750,796],[750,796],[750,796],[750,796],[750,796],[750,796],[750,796],[750,796],[750,796],[750,796],[750,796],[750,796],[350,391],[350,391],[350,391],[350,391],[350,391],[350,391],[350,391],[350,391],[350,391],[250,266],[250,266],[250,266],[250,266],[250,266],[250,266],[150,161],[150,161],[150,161],[150,161],[150,161],[50,56],[50,56],[50,56],[50,56],[650,694],[650,694],[650,694],[650,694],[650,694],[650,694],[650,694],[650,694],[650,694],[650,694],[650,694],[650,694],[650,694],[650,694],[650,694],[650,694],[650,694],[650,694],[650,694],[650,694],[650,694],[650,694],[650,694],[650,694],[650,694],[650,694],[650,694],[650,694],[650,694],[650,694],[650,694],[650,694],[350,390],[350,390],[350,390],[350,390],[350,390],[350,390],[350,390],[350,390],[350,390],[350,390],[350,390],[350,390],[350,390],[350,390],[350,390],[350,390],[350,390],[350,390],[350,390],[350,390],[350,390],[350,390],[350,390],[350,390],[350,390],[350,390],[350,390],[350,390],[350,390],[350,390],[350,390],[350,390],[350,390],[350,390],[350,390],[350,390],[350,390],[350,390],[350,390],[350,390],[350,390],[350,390],[350,390],[350,390],[350,390],[350,390],[350,390],[350,390],[350,390],[350,390],[350,390],[350,390],[350,390],[350,390],[350,390],[350,390],[350,390],[350,390],[350,390],[350,390],[350,390],[350,390],[350,390],[350,390],[350,390],[350,390],[350,390],[350,390],[350,390],[350,390],[350,390],[350,390],[350,390],[350,390],[350,390],[350,390],[350,390],[350,390],[350,390],[350,390],[350,390],[450,493],[450,493],[450,493],[450,493],[450,493],[450,493],[450,493],[450,493],[450,493],[450,493],[450,493],[450,493],[450,493],[650,694],[650,694],[650,694],[650,694],[550,594],[550,594],[550,594],[550,594],[550,594],[550,594],[550,594],[750,796],[750,796],[750,796],[750,796],[750,796],[750,796],[750,796],[450,492],[450,492],[450,492],[450,492],[450,492],[450,492],[550,594],[550,594],[550,594],[550,594],[550,594],[750,795],[750,795],[750,795],[750,795],[750,795],[750,795],[750,795],[750,795],[750,795],[750,795],[750,795],[750,795],[750,795],[750,795],[750,795],[750,795],[750,795],[750,795],[750,795],[750,795],[750,795],[750,795],[750,795],[750,795]]}},\"id\":\"af53207f-5bbe-417e-bb29-92b4935851d2\",\"type\":\"ColumnDataSource\"},{\"attributes\":{\"bottom\":{\"field\":\"bottom\"},\"fill_color\":{\"value\":\"white\"},\"left\":{\"field\":\"left\"},\"right\":{\"field\":\"right\"},\"top\":{\"field\":\"top\"}},\"id\":\"c94d866d-07a6-46ef-a488-cd6532963278\",\"type\":\"Quad\"},{\"attributes\":{\"data_source\":{\"id\":\"af53207f-5bbe-417e-bb29-92b4935851d2\",\"type\":\"ColumnDataSource\"},\"glyph\":{\"id\":\"85823468-e01c-4ca6-bf9c-44f7cb783ce3\",\"type\":\"MultiLine\"},\"hover_glyph\":null,\"nonselection_glyph\":{\"id\":\"9e4cdc18-c8ba-4a30-993f-6df18724a6dd\",\"type\":\"MultiLine\"},\"selection_glyph\":null},\"id\":\"e83bc648-b9dc-4172-b96d-1d35b8ed33dd\",\"type\":\"GlyphRenderer\"},{\"attributes\":{\"formatter\":{\"id\":\"e78aaacd-77ed-49b1-8892-a96d608896ad\",\"type\":\"BasicTickFormatter\"},\"plot\":{\"id\":\"54e231bc-235f-46de-ba02-d93614f47020\",\"subtype\":\"Figure\",\"type\":\"Plot\"},\"ticker\":{\"id\":\"5ff5c344-1757-4022-939e-99d0ba83c6ea\",\"type\":\"BasicTicker\"},\"visible\":null},\"id\":\"9457f25f-5112-464b-8071-4848df956d4a\",\"type\":\"LinearAxis\"},{\"attributes\":{\"line_color\":{\"field\":\"line_color\"},\"xs\":{\"field\":\"xs\"},\"ys\":{\"field\":\"ys\"}},\"id\":\"85823468-e01c-4ca6-bf9c-44f7cb783ce3\",\"type\":\"MultiLine\"},{\"attributes\":{\"data_source\":{\"id\":\"91aff4df-5b0d-455d-a08d-c5c750b21946\",\"type\":\"ColumnDataSource\"},\"glyph\":{\"id\":\"c94d866d-07a6-46ef-a488-cd6532963278\",\"type\":\"Quad\"},\"hover_glyph\":null,\"nonselection_glyph\":{\"id\":\"24448f54-a149-4061-8486-0def8f37d995\",\"type\":\"Quad\"},\"selection_glyph\":null},\"id\":\"e53b0da2-8b92-405f-a5c3-72bbd054b227\",\"type\":\"GlyphRenderer\"},{\"attributes\":{\"level\":\"glyph\",\"plot\":{\"id\":\"54e231bc-235f-46de-ba02-d93614f47020\",\"subtype\":\"Figure\",\"type\":\"Plot\"},\"source\":{\"id\":\"0e15ef10-ed31-4f69-a066-607e4df3867e\",\"type\":\"ColumnDataSource\"},\"text\":{\"field\":\"vals\"},\"text_align\":\"center\",\"text_baseline\":\"middle\",\"text_font_size\":{\"value\":\"8pt\"},\"x\":{\"field\":\"x\"},\"y\":{\"field\":\"y\"}},\"id\":\"f9f9f587-7b80-4a28-ad3c-743b54c149f9\",\"type\":\"LabelSet\"}],\"root_ids\":[\"54e231bc-235f-46de-ba02-d93614f47020\"]},\"title\":\"Bokeh Application\",\"version\":\"0.12.0\"}};\n",
       "            var render_items = [{\"docid\":\"bfa9b262-8945-4b8b-9654-a17314c71ef9\",\"elementid\":\"1a7e46e8-7334-48e3-a92c-0c408c963003\",\"modelid\":\"54e231bc-235f-46de-ba02-d93614f47020\",\"notebook_comms_target\":\"8d279500-944f-4bde-98c1-762c650aeafa\"}];\n",
       "            \n",
       "            Bokeh.embed.embed_items(docs_json, render_items);\n",
       "        });\n",
       "      },\n",
       "      function(Bokeh) {\n",
       "      }\n",
       "    ];\n",
       "  \n",
       "    function run_inline_js() {\n",
       "      for (var i = 0; i < inline_js.length; i++) {\n",
       "        inline_js[i](window.Bokeh);\n",
       "      }\n",
       "    }\n",
       "  \n",
       "    if (window._bokeh_is_loading === 0) {\n",
       "      console.log(\"Bokeh: BokehJS loaded, going straight to plotting\");\n",
       "      run_inline_js();\n",
       "    } else {\n",
       "      load_libs(js_urls, function() {\n",
       "        console.log(\"Bokeh: BokehJS plotting callback run at\", now());\n",
       "        run_inline_js();\n",
       "      });\n",
       "    }\n",
       "  }(this));\n",
       "</script>"
      ]
     },
     "metadata": {},
     "output_type": "display_data"
    },
    {
     "data": {
      "text/html": [
       "<p><code>&lt;Bokeh Notebook handle for <strong>In[18]</strong>&gt;</code></p>"
      ],
      "text/plain": [
       "<bokeh.io._CommsHandle at 0x7f7c7ec3ced0>"
      ]
     },
     "execution_count": 18,
     "metadata": {},
     "output_type": "execute_result"
    }
   ],
   "source": [
    "di_4_16 = 353705\n",
    "plt_obj = dm.superset_yes_no([di_4_16], min_match=0.7)\n",
    "plt = plt_obj.do_plot()\n",
    "show(plt)"
   ]
  },
  {
   "cell_type": "code",
   "execution_count": 19,
   "metadata": {
    "collapsed": false
   },
   "outputs": [
    {
     "data": {
      "text/html": [
       "<table>\n",
       "<thead><tr><th style=\"text-align:center\">index</th><th style=\"text-align:center\">first</th><th style=\"text-align:center\">length</th><th style=\"text-align:center\">snps</th><th style=\"text-align:center\" colspan=2>alleles</th><th style=\"text-align:center\" colspan=2>matches</th><th style=\"text-align:center\" colspan=2>afr</th><th style=\"text-align:center\" colspan=2>afx</th><th style=\"text-align:center\" colspan=2>amr</th><th style=\"text-align:center\" colspan=2>eas</th><th style=\"text-align:center\" colspan=2>eur</th><th style=\"text-align:center\" colspan=2>sas</th><th style=\"text-align:center\" colspan=2>sax</th></tr></thead>\n",
       "<tr class=\"even\"><td style=\"text-align: right;\">354033</td><td style=\"text-align: right;\">136,588,031</td><td style=\"text-align: right;\">5,647</td><td style=\"text-align: right;\">7</td><td style=\"text-align: right;\">1760</td><td style=\"text-align: right;\">0.01</td><td style=\"text-align: right;\">16</td><td style=\"text-align: right;\">1.00</td><td style=\"text-align: right;\">0</td><td style=\"text-align: right;\">0.00</td><td style=\"text-align: right;\">0</td><td style=\"text-align: right;\">0.00</td><td style=\"text-align: right;\">4</td><td style=\"text-align: right;\">1.80</td><td style=\"text-align: right;\">0</td><td style=\"text-align: right;\">0.00</td><td style=\"text-align: right;\">12</td><td style=\"text-align: right;\">3.73</td><td style=\"text-align: right;\">0</td><td style=\"text-align: right;\">0.00</td><td style=\"text-align: right;\">0</td><td style=\"text-align: right;\">0.00</td></tr>\n",
       "<tr><td style=\"text-align: right;\">353240</td><td style=\"text-align: right;\">135,757,320</td><td style=\"text-align: right;\">20,184</td><td style=\"text-align: right;\">13</td><td style=\"text-align: right;\">1696</td><td style=\"text-align: right;\">0.01</td><td style=\"text-align: right;\">16</td><td style=\"text-align: right;\">1.00</td><td style=\"text-align: right;\">0</td><td style=\"text-align: right;\">0.00</td><td style=\"text-align: right;\">0</td><td style=\"text-align: right;\">0.00</td><td style=\"text-align: right;\">4</td><td style=\"text-align: right;\">1.80</td><td style=\"text-align: right;\">0</td><td style=\"text-align: right;\">0.00</td><td style=\"text-align: right;\">12</td><td style=\"text-align: right;\">3.73</td><td style=\"text-align: right;\">0</td><td style=\"text-align: right;\">0.00</td><td style=\"text-align: right;\">0</td><td style=\"text-align: right;\">0.00</td></tr>\n",
       "<tr class=\"even\"><td style=\"text-align: right;\">354130</td><td style=\"text-align: right;\">136,653,925</td><td style=\"text-align: right;\">107,928</td><td style=\"text-align: right;\">24</td><td style=\"text-align: right;\">1504</td><td style=\"text-align: right;\">0.01</td><td style=\"text-align: right;\">16</td><td style=\"text-align: right;\">1.00</td><td style=\"text-align: right;\">0</td><td style=\"text-align: right;\">0.00</td><td style=\"text-align: right;\">0</td><td style=\"text-align: right;\">0.00</td><td style=\"text-align: right;\">4</td><td style=\"text-align: right;\">1.80</td><td style=\"text-align: right;\">0</td><td style=\"text-align: right;\">0.00</td><td style=\"text-align: right;\">12</td><td style=\"text-align: right;\">3.73</td><td style=\"text-align: right;\">0</td><td style=\"text-align: right;\">0.00</td><td style=\"text-align: right;\">0</td><td style=\"text-align: right;\">0.00</td></tr>\n",
       "<tr><td style=\"text-align: right;\">353925</td><td style=\"text-align: right;\">136,506,375</td><td style=\"text-align: right;\">32,564</td><td style=\"text-align: right;\">4</td><td style=\"text-align: right;\">1442</td><td style=\"text-align: right;\">0.01</td><td style=\"text-align: right;\">16</td><td style=\"text-align: right;\">1.00</td><td style=\"text-align: right;\">0</td><td style=\"text-align: right;\">0.00</td><td style=\"text-align: right;\">0</td><td style=\"text-align: right;\">0.00</td><td style=\"text-align: right;\">4</td><td style=\"text-align: right;\">1.80</td><td style=\"text-align: right;\">0</td><td style=\"text-align: right;\">0.00</td><td style=\"text-align: right;\">12</td><td style=\"text-align: right;\">3.73</td><td style=\"text-align: right;\">0</td><td style=\"text-align: right;\">0.00</td><td style=\"text-align: right;\">0</td><td style=\"text-align: right;\">0.00</td></tr>\n",
       "<tr class=\"even\"><td style=\"text-align: right;\">353791</td><td style=\"text-align: right;\">136,393,658</td><td style=\"text-align: right;\">92,684</td><td style=\"text-align: right;\">32</td><td style=\"text-align: right;\">1361</td><td style=\"text-align: right;\">0.01</td><td style=\"text-align: right;\">16</td><td style=\"text-align: right;\">1.00</td><td style=\"text-align: right;\">0</td><td style=\"text-align: right;\">0.00</td><td style=\"text-align: right;\">0</td><td style=\"text-align: right;\">0.00</td><td style=\"text-align: right;\">4</td><td style=\"text-align: right;\">1.80</td><td style=\"text-align: right;\">0</td><td style=\"text-align: right;\">0.00</td><td style=\"text-align: right;\">12</td><td style=\"text-align: right;\">3.73</td><td style=\"text-align: right;\">0</td><td style=\"text-align: right;\">0.00</td><td style=\"text-align: right;\">0</td><td style=\"text-align: right;\">0.00</td></tr>\n",
       "<tr><td style=\"text-align: right;\">353958</td><td style=\"text-align: right;\">136,535,876</td><td style=\"text-align: right;\">19,014</td><td style=\"text-align: right;\">7</td><td style=\"text-align: right;\">1303</td><td style=\"text-align: right;\">0.01</td><td style=\"text-align: right;\">16</td><td style=\"text-align: right;\">1.00</td><td style=\"text-align: right;\">0</td><td style=\"text-align: right;\">0.00</td><td style=\"text-align: right;\">0</td><td style=\"text-align: right;\">0.00</td><td style=\"text-align: right;\">4</td><td style=\"text-align: right;\">1.80</td><td style=\"text-align: right;\">0</td><td style=\"text-align: right;\">0.00</td><td style=\"text-align: right;\">12</td><td style=\"text-align: right;\">3.73</td><td style=\"text-align: right;\">0</td><td style=\"text-align: right;\">0.00</td><td style=\"text-align: right;\">0</td><td style=\"text-align: right;\">0.00</td></tr>\n",
       "<tr class=\"even\"><td style=\"text-align: right;\">354129</td><td style=\"text-align: right;\">136,652,953</td><td style=\"text-align: right;\">108,222</td><td style=\"text-align: right;\">5</td><td style=\"text-align: right;\">1296</td><td style=\"text-align: right;\">0.01</td><td style=\"text-align: right;\">16</td><td style=\"text-align: right;\">1.00</td><td style=\"text-align: right;\">0</td><td style=\"text-align: right;\">0.00</td><td style=\"text-align: right;\">0</td><td style=\"text-align: right;\">0.00</td><td style=\"text-align: right;\">4</td><td style=\"text-align: right;\">1.80</td><td style=\"text-align: right;\">0</td><td style=\"text-align: right;\">0.00</td><td style=\"text-align: right;\">12</td><td style=\"text-align: right;\">3.73</td><td style=\"text-align: right;\">0</td><td style=\"text-align: right;\">0.00</td><td style=\"text-align: right;\">0</td><td style=\"text-align: right;\">0.00</td></tr>\n",
       "<tr><td style=\"text-align: right;\">353919</td><td style=\"text-align: right;\">136,500,475</td><td style=\"text-align: right;\">42,085</td><td style=\"text-align: right;\">13</td><td style=\"text-align: right;\">1227</td><td style=\"text-align: right;\">0.01</td><td style=\"text-align: right;\">16</td><td style=\"text-align: right;\">1.00</td><td style=\"text-align: right;\">0</td><td style=\"text-align: right;\">0.00</td><td style=\"text-align: right;\">0</td><td style=\"text-align: right;\">0.00</td><td style=\"text-align: right;\">4</td><td style=\"text-align: right;\">1.80</td><td style=\"text-align: right;\">0</td><td style=\"text-align: right;\">0.00</td><td style=\"text-align: right;\">12</td><td style=\"text-align: right;\">3.73</td><td style=\"text-align: right;\">0</td><td style=\"text-align: right;\">0.00</td><td style=\"text-align: right;\">0</td><td style=\"text-align: right;\">0.00</td></tr>\n",
       "<tr class=\"even\"><td style=\"text-align: right;\">354127</td><td style=\"text-align: right;\">136,652,491</td><td style=\"text-align: right;\">80,281</td><td style=\"text-align: right;\">6</td><td style=\"text-align: right;\">1114</td><td style=\"text-align: right;\">0.01</td><td style=\"text-align: right;\">16</td><td style=\"text-align: right;\">1.00</td><td style=\"text-align: right;\">0</td><td style=\"text-align: right;\">0.00</td><td style=\"text-align: right;\">0</td><td style=\"text-align: right;\">0.00</td><td style=\"text-align: right;\">4</td><td style=\"text-align: right;\">1.80</td><td style=\"text-align: right;\">0</td><td style=\"text-align: right;\">0.00</td><td style=\"text-align: right;\">12</td><td style=\"text-align: right;\">3.73</td><td style=\"text-align: right;\">0</td><td style=\"text-align: right;\">0.00</td><td style=\"text-align: right;\">0</td><td style=\"text-align: right;\">0.00</td></tr>\n",
       "<tr><td style=\"text-align: right;\">353372</td><td style=\"text-align: right;\">135,829,592</td><td style=\"text-align: right;\">591,316</td><td style=\"text-align: right;\">9</td><td style=\"text-align: right;\">944</td><td style=\"text-align: right;\">0.02</td><td style=\"text-align: right;\">16</td><td style=\"text-align: right;\">1.00</td><td style=\"text-align: right;\">0</td><td style=\"text-align: right;\">0.00</td><td style=\"text-align: right;\">0</td><td style=\"text-align: right;\">0.00</td><td style=\"text-align: right;\">4</td><td style=\"text-align: right;\">1.80</td><td style=\"text-align: right;\">0</td><td style=\"text-align: right;\">0.00</td><td style=\"text-align: right;\">12</td><td style=\"text-align: right;\">3.73</td><td style=\"text-align: right;\">0</td><td style=\"text-align: right;\">0.00</td><td style=\"text-align: right;\">0</td><td style=\"text-align: right;\">0.00</td></tr>\n",
       "<tr class=\"even\"><td style=\"text-align: right;\">353902</td><td style=\"text-align: right;\">136,494,985</td><td style=\"text-align: right;\">278,653</td><td style=\"text-align: right;\">81</td><td style=\"text-align: right;\">857</td><td style=\"text-align: right;\">0.02</td><td style=\"text-align: right;\">16</td><td style=\"text-align: right;\">1.00</td><td style=\"text-align: right;\">0</td><td style=\"text-align: right;\">0.00</td><td style=\"text-align: right;\">0</td><td style=\"text-align: right;\">0.00</td><td style=\"text-align: right;\">4</td><td style=\"text-align: right;\">1.80</td><td style=\"text-align: right;\">0</td><td style=\"text-align: right;\">0.00</td><td style=\"text-align: right;\">12</td><td style=\"text-align: right;\">3.73</td><td style=\"text-align: right;\">0</td><td style=\"text-align: right;\">0.00</td><td style=\"text-align: right;\">0</td><td style=\"text-align: right;\">0.00</td></tr>\n",
       "<tr><td style=\"text-align: right;\">353430</td><td style=\"text-align: right;\">135,879,258</td><td style=\"text-align: right;\">516,511</td><td style=\"text-align: right;\">6</td><td style=\"text-align: right;\">54</td><td style=\"text-align: right;\">0.30</td><td style=\"text-align: right;\">16</td><td style=\"text-align: right;\">1.00</td><td style=\"text-align: right;\">0</td><td style=\"text-align: right;\">0.00</td><td style=\"text-align: right;\">0</td><td style=\"text-align: right;\">0.00</td><td style=\"text-align: right;\">4</td><td style=\"text-align: right;\">1.80</td><td style=\"text-align: right;\">0</td><td style=\"text-align: right;\">0.00</td><td style=\"text-align: right;\">12</td><td style=\"text-align: right;\">3.73</td><td style=\"text-align: right;\">0</td><td style=\"text-align: right;\">0.00</td><td style=\"text-align: right;\">0</td><td style=\"text-align: right;\">0.00</td></tr>\n",
       "<tr class=\"even\"><td style=\"text-align: right;\">353469</td><td style=\"text-align: right;\">135,922,944</td><td style=\"text-align: right;\">346,911</td><td style=\"text-align: right;\">5</td><td style=\"text-align: right;\">31</td><td style=\"text-align: right;\">0.45</td><td style=\"text-align: right;\">14</td><td style=\"text-align: right;\">0.88</td><td style=\"text-align: right;\">0</td><td style=\"text-align: right;\">0.00</td><td style=\"text-align: right;\">0</td><td style=\"text-align: right;\">0.00</td><td style=\"text-align: right;\">4</td><td style=\"text-align: right;\">2.06</td><td style=\"text-align: right;\">0</td><td style=\"text-align: right;\">0.00</td><td style=\"text-align: right;\">10</td><td style=\"text-align: right;\">3.56</td><td style=\"text-align: right;\">0</td><td style=\"text-align: right;\">0.00</td><td style=\"text-align: right;\">0</td><td style=\"text-align: right;\">0.00</td></tr>\n",
       "<tr><td style=\"text-align: right;\">353705</td><td style=\"text-align: right;\">136,266,716</td><td style=\"text-align: right;\">297,530</td><td style=\"text-align: right;\">4</td><td style=\"text-align: right;\">16</td><td style=\"text-align: right;\">1.00</td><td style=\"text-align: right;\">16</td><td style=\"text-align: right;\">1.00</td><td style=\"text-align: right;\">0</td><td style=\"text-align: right;\">0.00</td><td style=\"text-align: right;\">0</td><td style=\"text-align: right;\">0.00</td><td style=\"text-align: right;\">4</td><td style=\"text-align: right;\">1.80</td><td style=\"text-align: right;\">0</td><td style=\"text-align: right;\">0.00</td><td style=\"text-align: right;\">12</td><td style=\"text-align: right;\">3.73</td><td style=\"text-align: right;\">0</td><td style=\"text-align: right;\">0.00</td><td style=\"text-align: right;\">0</td><td style=\"text-align: right;\">0.00</td></tr>\n",
       "</table>"
      ],
      "text/plain": [
       "<IPython.core.display.HTML object>"
      ]
     },
     "execution_count": 19,
     "metadata": {},
     "output_type": "execute_result"
    }
   ],
   "source": [
    "HTML(plt_obj.get_html())"
   ]
  },
  {
   "cell_type": "markdown",
   "metadata": {},
   "source": [
    "<div style=\"width:700px\">\n",
    "<p>\n",
    "The next 3 plots show hierarchies selected by the three siblings that are descended from the\n",
    "series 6_54.  The samples that express 6_54 include 37 European, 9 South Asian, and 8 American.\n",
    "<p>\n",
    "This plot shows the hierarchy selected by the series 7_17.  The samples that express it include\n",
    "14 European, 2 American, and 1 South Asian.\n",
    "</div>"
   ]
  },
  {
   "cell_type": "code",
   "execution_count": 20,
   "metadata": {
    "collapsed": false
   },
   "outputs": [
    {
     "data": {
      "text/html": [
       "\n",
       "\n",
       "    <div class=\"bk-root\">\n",
       "        <div class=\"plotdiv\" id=\"cf2ec055-6417-4526-9662-2049001e250e\"></div>\n",
       "    </div>\n",
       "<script type=\"text/javascript\">\n",
       "  \n",
       "  (function(global) {\n",
       "    function now() {\n",
       "      return new Date();\n",
       "    }\n",
       "  \n",
       "    if (typeof (window._bokeh_onload_callbacks) === \"undefined\") {\n",
       "      window._bokeh_onload_callbacks = [];\n",
       "    }\n",
       "  \n",
       "    function run_callbacks() {\n",
       "      window._bokeh_onload_callbacks.forEach(function(callback) { callback() });\n",
       "      delete window._bokeh_onload_callbacks\n",
       "      console.info(\"Bokeh: all callbacks have finished\");\n",
       "    }\n",
       "  \n",
       "    function load_libs(js_urls, callback) {\n",
       "      window._bokeh_onload_callbacks.push(callback);\n",
       "      if (window._bokeh_is_loading > 0) {\n",
       "        console.log(\"Bokeh: BokehJS is being loaded, scheduling callback at\", now());\n",
       "        return null;\n",
       "      }\n",
       "      if (js_urls == null || js_urls.length === 0) {\n",
       "        run_callbacks();\n",
       "        return null;\n",
       "      }\n",
       "      console.log(\"Bokeh: BokehJS not loaded, scheduling load and callback at\", now());\n",
       "      window._bokeh_is_loading = js_urls.length;\n",
       "      for (var i = 0; i < js_urls.length; i++) {\n",
       "        var url = js_urls[i];\n",
       "        var s = document.createElement('script');\n",
       "        s.src = url;\n",
       "        s.async = false;\n",
       "        s.onreadystatechange = s.onload = function() {\n",
       "          window._bokeh_is_loading--;\n",
       "          if (window._bokeh_is_loading === 0) {\n",
       "            console.log(\"Bokeh: all BokehJS libraries loaded\");\n",
       "            run_callbacks()\n",
       "          }\n",
       "        };\n",
       "        s.onerror = function() {\n",
       "          console.warn(\"failed to load library \" + url);\n",
       "        };\n",
       "        console.log(\"Bokeh: injecting script tag for BokehJS library: \", url);\n",
       "        document.getElementsByTagName(\"head\")[0].appendChild(s);\n",
       "      }\n",
       "    };var element = document.getElementById(\"cf2ec055-6417-4526-9662-2049001e250e\");\n",
       "    if (element == null) {\n",
       "      console.log(\"Bokeh: ERROR: autoload.js configured with elementid 'cf2ec055-6417-4526-9662-2049001e250e' but no matching script tag was found. \")\n",
       "      return false;\n",
       "    }\n",
       "  \n",
       "    var js_urls = [];\n",
       "  \n",
       "    var inline_js = [\n",
       "      function(Bokeh) {\n",
       "        Bokeh.$(function() {\n",
       "            var docs_json = {\"2589cfab-fc7f-4178-a070-fbc6fb17cc61\":{\"roots\":{\"references\":[{\"attributes\":{\"callback\":null,\"end\":800},\"id\":\"5c882757-e5b8-448d-bfb5-d61fd3b22366\",\"type\":\"Range1d\"},{\"attributes\":{},\"id\":\"435b5609-19b5-45ca-bc74-513dde6a8b6c\",\"type\":\"BasicTickFormatter\"},{\"attributes\":{\"callback\":null,\"column_names\":[\"xs\",\"ys\",\"line_color\"],\"data\":{\"line_color\":[\"black\",\"black\",\"black\",\"black\",\"black\",\"black\",\"black\",\"black\",\"black\",\"black\",\"black\",\"black\",\"black\",\"black\",\"black\",\"black\",\"black\",\"black\",\"black\",\"black\",\"black\",\"black\",\"black\",\"black\",\"black\",\"black\",\"black\",\"black\",\"black\",\"black\",\"black\",\"black\",\"black\",\"black\",\"black\",\"black\",\"black\",\"black\",\"black\",\"black\",\"black\",\"black\",\"black\",\"black\",\"black\",\"black\",\"black\",\"black\",\"black\",\"black\",\"black\",\"black\",\"black\",\"black\",\"black\",\"black\",\"black\",\"black\",\"black\",\"black\",\"black\",\"black\",\"black\",\"black\",\"black\",\"black\",\"black\",\"black\",\"black\",\"black\",\"black\",\"black\",\"black\",\"black\",\"black\",\"black\",\"black\",\"black\",\"black\",\"black\",\"black\",\"black\",\"black\",\"black\",\"black\",\"black\",\"black\",\"black\",\"black\",\"black\",\"black\",\"black\",\"black\",\"black\",\"black\",\"black\",\"black\",\"black\",\"black\",\"black\",\"black\",\"black\",\"black\",\"black\",\"black\",\"black\",\"black\",\"black\",\"black\",\"black\",\"black\",\"black\",\"black\",\"black\",\"black\",\"black\",\"black\",\"black\",\"black\",\"black\",\"black\",\"black\",\"black\",\"black\",\"black\",\"black\",\"black\",\"black\",\"black\",\"black\",\"black\",\"black\",\"black\",\"black\",\"black\",\"black\",\"black\",\"black\",\"black\",\"black\",\"black\",\"black\",\"black\",\"black\",\"black\",\"black\",\"black\",\"black\",\"black\",\"black\",\"black\",\"black\",\"black\",\"black\",\"black\",\"black\",\"black\",\"black\",\"black\",\"black\",\"black\",\"black\",\"black\",\"black\",\"black\",\"black\",\"black\",\"black\",\"black\",\"black\",\"black\",\"black\",\"black\",\"black\",\"black\",\"black\",\"black\",\"black\",\"black\",\"black\",\"black\",\"black\",\"black\",\"black\",\"black\",\"black\",\"black\",\"black\",\"black\",\"black\",\"black\",\"black\",\"black\",\"black\",\"black\",\"black\",\"black\",\"black\",\"black\",\"black\",\"black\",\"black\",\"black\",\"black\",\"black\",\"black\",\"black\",\"black\",\"black\",\"black\",\"black\",\"black\",\"black\",\"black\"],\"xs\":[[135757320,135757320],[135761078,135761078],[135761271,135761271],[135762344,135762344],[135762980,135762980],[135763280,135763280],[135768815,135768815],[135769093,135769093],[135769127,135769127],[135770940,135770940],[135770951,135770951],[135776728,135776728],[135777504,135777504],[135789949,135789949],[135795872,135795872],[135820743,135820743],[136103917,136103917],[136439748,136439748],[136453534,136453534],[136552411,136552411],[135829592,135829592],[135893372,135893372],[135952405,135952405],[135989721,135989721],[136136056,136136056],[136313639,136313639],[136401418,136401418],[136407078,136407078],[136420908,136420908],[135879258,135879258],[135967182,135967182],[136063448,136063448],[136145019,136145019],[136227304,136227304],[136395769,136395769],[136393658,136393658],[136396300,136396300],[136401843,136401843],[136407445,136407445],[136411879,136411879],[136412270,136412270],[136413244,136413244],[136413847,136413847],[136415217,136415217],[136416533,136416533],[136420726,136420726],[136429857,136429857],[136433740,136433740],[136436317,136436317],[136437615,136437615],[136438517,136438517],[136440300,136440300],[136443900,136443900],[136444185,136444185],[136444338,136444338],[136449254,136449254],[136451676,136451676],[136459227,136459227],[136463117,136463117],[136463454,136463454],[136467119,136467119],[136468238,136468238],[136470219,136470219],[136483355,136483355],[136485276,136485276],[136486340,136486340],[136486342,136486342],[136494985,136494985],[136497199,136497199],[136511817,136511817],[136513670,136513670],[136515458,136515458],[136516970,136516970],[136525309,136525309],[136528034,136528034],[136532225,136532225],[136535235,136535235],[136536095,136536095],[136544423,136544423],[136546927,136546927],[136552188,136552188],[136552517,136552517],[136555525,136555525],[136556480,136556480],[136560464,136560464],[136572285,136572285],[136582694,136582694],[136582809,136582809],[136584538,136584538],[136585323,136585323],[136586825,136586825],[136600662,136600662],[136612036,136612036],[136618178,136618178],[136618507,136618507],[136622543,136622543],[136624947,136624947],[136625113,136625113],[136626078,136626078],[136628121,136628121],[136632300,136632300],[136633962,136633962],[136635343,136635343],[136638113,136638113],[136640101,136640101],[136641593,136641593],[136646582,136646582],[136648077,136648077],[136648883,136648883],[136652045,136652045],[136653848,136653848],[136656094,136656094],[136661110,136661110],[136663110,136663110],[136663605,136663605],[136665162,136665162],[136665711,136665711],[136668123,136668123],[136670419,136670419],[136672680,136672680],[136673546,136673546],[136684632,136684632],[136686114,136686114],[136690425,136690425],[136690783,136690783],[136692893,136692893],[136694905,136694905],[136695694,136695694],[136695705,136695705],[136696608,136696608],[136697372,136697372],[136697468,136697468],[136700024,136700024],[136701539,136701539],[136702118,136702118],[136707480,136707480],[136710554,136710554],[136714178,136714178],[136719173,136719173],[136725459,136725459],[136734569,136734569],[136744678,136744678],[136748779,136748779],[136751488,136751488],[136754183,136754183],[136763242,136763242],[136765074,136765074],[136773638,136773638],[136500475,136500475],[136501509,136501509],[136504101,136504101],[136509868,136509868],[136520043,136520043],[136527120,136527120],[136530379,136530379],[136530443,136530443],[136539330,136539330],[136539670,136539670],[136540083,136540083],[136542559,136542559],[136542560,136542560],[136506375,136506375],[136506927,136506927],[136510012,136510012],[136538939,136538939],[136535876,136535876],[136544651,136544651],[136545844,136545844],[136552526,136552526],[136553022,136553022],[136554797,136554797],[136554890,136554890],[136588031,136588031],[136589278,136589278],[136589379,136589379],[136589741,136589741],[136590746,136590746],[136593553,136593553],[136593678,136593678],[136652491,136652491],[136652524,136652524],[136661150,136661150],[136669264,136669264],[136726567,136726567],[136732772,136732772],[136652953,136652953],[136655582,136655582],[136674028,136674028],[136684940,136684940],[136761175,136761175],[136653925,136653925],[136654833,136654833],[136656534,136656534],[136656536,136656536],[136657252,136657252],[136667301,136667301],[136667487,136667487],[136672775,136672775],[136680534,136680534],[136686393,136686393],[136688749,136688749],[136692553,136692553],[136697371,136697371],[136708787,136708787],[136710372,136710372],[136711064,136711064],[136715324,136715324],[136723504,136723504],[136737460,136737460],[136743143,136743143],[136746224,136746224],[136751842,136751842],[136759379,136759379],[136761853,136761853]],\"ys\":[[650,696],[650,696],[650,696],[650,696],[650,696],[650,696],[650,696],[650,696],[650,696],[650,696],[650,696],[650,696],[650,696],[50,56],[50,56],[50,56],[50,56],[50,56],[50,56],[50,56],[250,291],[250,291],[250,291],[250,291],[250,291],[250,291],[250,291],[250,291],[250,291],[150,166],[150,166],[150,166],[150,166],[150,166],[150,166],[550,594],[550,594],[550,594],[550,594],[550,594],[550,594],[550,594],[550,594],[550,594],[550,594],[550,594],[550,594],[550,594],[550,594],[550,594],[550,594],[550,594],[550,594],[550,594],[550,594],[550,594],[550,594],[550,594],[550,594],[550,594],[550,594],[550,594],[550,594],[550,594],[550,594],[550,594],[550,594],[250,290],[250,290],[250,290],[250,290],[250,290],[250,290],[250,290],[250,290],[250,290],[250,290],[250,290],[250,290],[250,290],[250,290],[250,290],[250,290],[250,290],[250,290],[250,290],[250,290],[250,290],[250,290],[250,290],[250,290],[250,290],[250,290],[250,290],[250,290],[250,290],[250,290],[250,290],[250,290],[250,290],[250,290],[250,290],[250,290],[250,290],[250,290],[250,290],[250,290],[250,290],[250,290],[250,290],[250,290],[250,290],[250,290],[250,290],[250,290],[250,290],[250,290],[250,290],[250,290],[250,290],[250,290],[250,290],[250,290],[250,290],[250,290],[250,290],[250,290],[250,290],[250,290],[250,290],[250,290],[250,290],[250,290],[250,290],[250,290],[250,290],[250,290],[250,290],[250,290],[250,290],[250,290],[250,290],[250,290],[250,290],[250,290],[250,290],[250,290],[250,290],[350,393],[350,393],[350,393],[350,393],[350,393],[350,393],[350,393],[350,393],[350,393],[350,393],[350,393],[350,393],[350,393],[550,594],[550,594],[550,594],[550,594],[450,494],[450,494],[450,494],[450,494],[450,494],[450,494],[450,494],[650,696],[650,696],[650,696],[650,696],[650,696],[650,696],[650,696],[350,392],[350,392],[350,392],[350,392],[350,392],[350,392],[450,494],[450,494],[450,494],[450,494],[450,494],[650,695],[650,695],[650,695],[650,695],[650,695],[650,695],[650,695],[650,695],[650,695],[650,695],[650,695],[650,695],[650,695],[650,695],[650,695],[650,695],[650,695],[650,695],[650,695],[650,695],[650,695],[650,695],[650,695],[650,695]]}},\"id\":\"5d333a92-8cb2-45ba-bd4a-36fc76496072\",\"type\":\"ColumnDataSource\"},{\"attributes\":{\"data_source\":{\"id\":\"5d333a92-8cb2-45ba-bd4a-36fc76496072\",\"type\":\"ColumnDataSource\"},\"glyph\":{\"id\":\"a7c08120-a033-484a-bbe0-6e4bf63b1953\",\"type\":\"MultiLine\"},\"hover_glyph\":null,\"nonselection_glyph\":{\"id\":\"d4a6a073-f5c3-4b39-bbef-e3ea354db4f5\",\"type\":\"MultiLine\"},\"selection_glyph\":null},\"id\":\"e2fdba80-a9b2-4e29-baef-b0f3ffd10ef3\",\"type\":\"GlyphRenderer\"},{\"attributes\":{\"below\":[{\"id\":\"507ae8a6-1902-4c4a-8869-9d5d8e69ba75\",\"type\":\"LinearAxis\"}],\"left\":[{\"id\":\"f36d0e07-23b0-4252-a975-fe901a91e4f3\",\"type\":\"LinearAxis\"}],\"plot_height\":800,\"plot_width\":900,\"renderers\":[{\"id\":\"507ae8a6-1902-4c4a-8869-9d5d8e69ba75\",\"type\":\"LinearAxis\"},{\"id\":\"e4c6ea8e-ca07-4dab-90b0-08a57b4393c2\",\"type\":\"Grid\"},{\"id\":\"f36d0e07-23b0-4252-a975-fe901a91e4f3\",\"type\":\"LinearAxis\"},{\"id\":\"26329fbc-e110-4afa-9297-34375fbdf982\",\"type\":\"Grid\"},{\"id\":\"5630bc84-0466-47ff-807d-da37680d61ac\",\"type\":\"BoxAnnotation\"},{\"id\":\"b6eacf05-72ad-4a26-b8f0-c445036e7ae4\",\"type\":\"GlyphRenderer\"},{\"id\":\"e2fdba80-a9b2-4e29-baef-b0f3ffd10ef3\",\"type\":\"GlyphRenderer\"},{\"id\":\"dfcab27f-8312-471e-a55b-13ce89d4952b\",\"type\":\"LabelSet\"},{\"id\":\"5607d662-e4ca-42ea-b224-3589aaf9f056\",\"type\":\"GlyphRenderer\"},{\"id\":\"47c94880-5144-45e2-bb17-13169fc54cbb\",\"type\":\"LabelSet\"}],\"title\":{\"id\":\"407a4dd0-31ac-4605-8033-43067ccdf096\",\"type\":\"Title\"},\"tool_events\":{\"id\":\"3038078e-5fff-4694-96d7-82f5df7ca353\",\"type\":\"ToolEvents\"},\"toolbar\":{\"id\":\"e7228128-9f50-4963-b1dd-bdc2e1eeed4a\",\"type\":\"Toolbar\"},\"toolbar_location\":null,\"x_range\":{\"id\":\"2c0124c4-d125-4382-a04f-6c66ab83ec05\",\"type\":\"Range1d\"},\"y_range\":{\"id\":\"5c882757-e5b8-448d-bfb5-d61fd3b22366\",\"type\":\"Range1d\"}},\"id\":\"380ec5ec-14d9-4a54-812f-b07c71714b1a\",\"subtype\":\"Figure\",\"type\":\"Plot\"},{\"attributes\":{\"plot\":{\"id\":\"380ec5ec-14d9-4a54-812f-b07c71714b1a\",\"subtype\":\"Figure\",\"type\":\"Plot\"}},\"id\":\"8410de44-d230-4de7-94a1-7ca071e6b15b\",\"type\":\"WheelZoomTool\"},{\"attributes\":{\"formatter\":{\"id\":\"435b5609-19b5-45ca-bc74-513dde6a8b6c\",\"type\":\"BasicTickFormatter\"},\"plot\":{\"id\":\"380ec5ec-14d9-4a54-812f-b07c71714b1a\",\"subtype\":\"Figure\",\"type\":\"Plot\"},\"ticker\":{\"id\":\"ae769360-8668-45e3-9607-37341aaa5397\",\"type\":\"BasicTicker\"},\"visible\":null},\"id\":\"f36d0e07-23b0-4252-a975-fe901a91e4f3\",\"type\":\"LinearAxis\"},{\"attributes\":{\"callback\":null,\"column_names\":[\"right\",\"bottom\",\"top\",\"left\"],\"data\":{\"bottom\":[745,745,745,745,745,745,745],\"left\":[135809835,135957574,136289083,136499189,136545415,136597196,136664254],\"right\":[135928279,136288182,136482839,136542633,136594750,136634047,136743222],\"top\":[775,775,775,775,775,775,775]}},\"id\":\"7f9c8ee1-f104-4ddf-bc9e-54c390791f2c\",\"type\":\"ColumnDataSource\"},{\"attributes\":{},\"id\":\"ae769360-8668-45e3-9607-37341aaa5397\",\"type\":\"BasicTicker\"},{\"attributes\":{\"plot\":null,\"text\":null},\"id\":\"407a4dd0-31ac-4605-8033-43067ccdf096\",\"type\":\"Title\"},{\"attributes\":{\"plot\":{\"id\":\"380ec5ec-14d9-4a54-812f-b07c71714b1a\",\"subtype\":\"Figure\",\"type\":\"Plot\"},\"ticker\":{\"id\":\"ab7981b5-cedf-4b8b-9d5e-7150fba41a9b\",\"type\":\"BasicTicker\"}},\"id\":\"e4c6ea8e-ca07-4dab-90b0-08a57b4393c2\",\"type\":\"Grid\"},{\"attributes\":{\"bottom\":{\"field\":\"bottom\"},\"fill_alpha\":{\"value\":0.1},\"fill_color\":{\"value\":\"#1f77b4\"},\"left\":{\"field\":\"left\"},\"line_alpha\":{\"value\":0.1},\"line_color\":{\"value\":\"#1f77b4\"},\"right\":{\"field\":\"right\"},\"top\":{\"field\":\"top\"}},\"id\":\"993a4abe-1a93-4c00-8ac1-8394f1592129\",\"type\":\"Quad\"},{\"attributes\":{\"dimension\":1,\"plot\":{\"id\":\"380ec5ec-14d9-4a54-812f-b07c71714b1a\",\"subtype\":\"Figure\",\"type\":\"Plot\"},\"ticker\":{\"id\":\"ae769360-8668-45e3-9607-37341aaa5397\",\"type\":\"BasicTicker\"}},\"id\":\"26329fbc-e110-4afa-9297-34375fbdf982\",\"type\":\"Grid\"},{\"attributes\":{},\"id\":\"bf0f02a0-0617-4072-a99a-a7980a117351\",\"type\":\"BasicTickFormatter\"},{\"attributes\":{\"bottom_units\":\"screen\",\"fill_alpha\":{\"value\":0.5},\"fill_color\":{\"value\":\"lightgrey\"},\"left_units\":\"screen\",\"level\":\"overlay\",\"line_alpha\":{\"value\":1.0},\"line_color\":{\"value\":\"black\"},\"line_dash\":[4,4],\"line_width\":{\"value\":2},\"plot\":null,\"render_mode\":\"css\",\"right_units\":\"screen\",\"top_units\":\"screen\"},\"id\":\"5630bc84-0466-47ff-807d-da37680d61ac\",\"type\":\"BoxAnnotation\"},{\"attributes\":{\"bottom\":{\"field\":\"bottom\"},\"fill_color\":{\"value\":\"white\"},\"left\":{\"field\":\"left\"},\"right\":{\"field\":\"right\"},\"top\":{\"field\":\"top\"}},\"id\":\"9763df13-3dd5-4d22-901a-b70724254d9c\",\"type\":\"Quad\"},{\"attributes\":{\"line_color\":{\"field\":\"line_color\"},\"xs\":{\"field\":\"xs\"},\"ys\":{\"field\":\"ys\"}},\"id\":\"a7c08120-a033-484a-bbe0-6e4bf63b1953\",\"type\":\"MultiLine\"},{\"attributes\":{\"data_source\":{\"id\":\"288800c3-3896-4ac5-a7a6-29690ead793d\",\"type\":\"ColumnDataSource\"},\"glyph\":{\"id\":\"2925789d-7923-42f5-950c-7bebb52e89bc\",\"type\":\"Quad\"},\"hover_glyph\":null,\"nonselection_glyph\":{\"id\":\"993a4abe-1a93-4c00-8ac1-8394f1592129\",\"type\":\"Quad\"},\"selection_glyph\":null},\"id\":\"b6eacf05-72ad-4a26-b8f0-c445036e7ae4\",\"type\":\"GlyphRenderer\"},{\"attributes\":{\"level\":\"glyph\",\"plot\":{\"id\":\"380ec5ec-14d9-4a54-812f-b07c71714b1a\",\"subtype\":\"Figure\",\"type\":\"Plot\"},\"source\":{\"id\":\"9382af4d-7df4-435a-a46b-ba5643f13809\",\"type\":\"ColumnDataSource\"},\"text\":{\"field\":\"vals\"},\"text_font_size\":{\"value\":\"9pt\"},\"text_font_style\":\"bold\",\"x\":{\"field\":\"x\"},\"y\":{\"field\":\"y\"}},\"id\":\"dfcab27f-8312-471e-a55b-13ce89d4952b\",\"type\":\"LabelSet\"},{\"attributes\":{\"level\":\"glyph\",\"plot\":{\"id\":\"380ec5ec-14d9-4a54-812f-b07c71714b1a\",\"subtype\":\"Figure\",\"type\":\"Plot\"},\"source\":{\"id\":\"aeed7c6b-f277-4a76-8890-93819e42e26b\",\"type\":\"ColumnDataSource\"},\"text\":{\"field\":\"vals\"},\"text_align\":\"center\",\"text_baseline\":\"middle\",\"text_font_size\":{\"value\":\"8pt\"},\"x\":{\"field\":\"x\"},\"y\":{\"field\":\"y\"}},\"id\":\"47c94880-5144-45e2-bb17-13169fc54cbb\",\"type\":\"LabelSet\"},{\"attributes\":{\"plot\":{\"id\":\"380ec5ec-14d9-4a54-812f-b07c71714b1a\",\"subtype\":\"Figure\",\"type\":\"Plot\"}},\"id\":\"1f8caee8-3b84-40f9-8bdd-3fcfffc7432c\",\"type\":\"PanTool\"},{\"attributes\":{\"data_source\":{\"id\":\"7f9c8ee1-f104-4ddf-bc9e-54c390791f2c\",\"type\":\"ColumnDataSource\"},\"glyph\":{\"id\":\"9763df13-3dd5-4d22-901a-b70724254d9c\",\"type\":\"Quad\"},\"hover_glyph\":null,\"nonselection_glyph\":{\"id\":\"60285bff-53b2-468a-a001-2244a021e891\",\"type\":\"Quad\"},\"selection_glyph\":null},\"id\":\"5607d662-e4ca-42ea-b224-3589aaf9f056\",\"type\":\"GlyphRenderer\"},{\"attributes\":{\"plot\":{\"id\":\"380ec5ec-14d9-4a54-812f-b07c71714b1a\",\"subtype\":\"Figure\",\"type\":\"Plot\"}},\"id\":\"fca87dda-e8f9-4d1b-8fe4-cd9d25e57b8b\",\"type\":\"HelpTool\"},{\"attributes\":{\"callback\":null,\"column_names\":[\"right\",\"bottom\",\"top\",\"left\",\"fill_color\"],\"data\":{\"bottom\":[650,50,250,150,550,250,350,550,450,650,350,450,650],\"fill_color\":[\"#808080\",\"#00ff00\",\"#c4c461\",\"#00ff00\",\"#c4c461\",\"#808080\",\"#808080\",\"#808080\",\"#808080\",\"#c46161\",\"#808080\",\"#808080\",\"#808080\"],\"left\":[135757320,135789949,135829592,135879258,136393658,136494985,136500475,136506375,136535876,136588031,136652491,136652953,136653925],\"right\":[135777504,136552411,136420908,136395769,136486342,136773638,136542560,136538939,136554890,136593678,136732772,136761175,136761853],\"top\":[696,56,291,166,594,290,393,594,494,696,392,494,695]}},\"id\":\"288800c3-3896-4ac5-a7a6-29690ead793d\",\"type\":\"ColumnDataSource\"},{\"attributes\":{},\"id\":\"ab7981b5-cedf-4b8b-9d5e-7150fba41a9b\",\"type\":\"BasicTicker\"},{\"attributes\":{\"bottom\":{\"field\":\"bottom\"},\"fill_color\":{\"field\":\"fill_color\"},\"left\":{\"field\":\"left\"},\"line_color\":{\"value\":null},\"right\":{\"field\":\"right\"},\"top\":{\"field\":\"top\"}},\"id\":\"2925789d-7923-42f5-950c-7bebb52e89bc\",\"type\":\"Quad\"},{\"attributes\":{\"plot\":{\"id\":\"380ec5ec-14d9-4a54-812f-b07c71714b1a\",\"subtype\":\"Figure\",\"type\":\"Plot\"}},\"id\":\"b8dd81e3-2df8-4535-b47c-28adec42bd3a\",\"type\":\"ResetTool\"},{\"attributes\":{\"callback\":null,\"column_names\":[\"y\",\"x\",\"vals\"],\"data\":{\"vals\":[\"13_1696\",\"7_17\",\"9_944\",\"6_54\",\"32_1361\",\"81_857\",\"13_1227\",\"4_1442\",\"7_1303\",\"7_1760\",\"6_1114\",\"5_1296\",\"24_1504\"],\"x\":[135757320,135789949,135829592,135879258,136393658,136494985,136500475,136506375,136535876,136588031,136652491,136652953,136653925],\"y\":[701.0,61.0,296.0,171.0,599.0,295.0,398.0,599.0,499.0,701.0,397.0,499.0,700.0]}},\"id\":\"9382af4d-7df4-435a-a46b-ba5643f13809\",\"type\":\"ColumnDataSource\"},{\"attributes\":{},\"id\":\"3038078e-5fff-4694-96d7-82f5df7ca353\",\"type\":\"ToolEvents\"},{\"attributes\":{\"line_alpha\":{\"value\":0.1},\"line_color\":{\"value\":\"#1f77b4\"},\"xs\":{\"field\":\"xs\"},\"ys\":{\"field\":\"ys\"}},\"id\":\"d4a6a073-f5c3-4b39-bbef-e3ea354db4f5\",\"type\":\"MultiLine\"},{\"attributes\":{\"bottom\":{\"field\":\"bottom\"},\"fill_alpha\":{\"value\":0.1},\"fill_color\":{\"value\":\"#1f77b4\"},\"left\":{\"field\":\"left\"},\"line_alpha\":{\"value\":0.1},\"line_color\":{\"value\":\"#1f77b4\"},\"right\":{\"field\":\"right\"},\"top\":{\"field\":\"top\"}},\"id\":\"60285bff-53b2-468a-a001-2244a021e891\",\"type\":\"Quad\"},{\"attributes\":{\"callback\":null,\"column_names\":[\"y\",\"x\",\"vals\"],\"data\":{\"vals\":[\"RAB3GAP1\",\"ZRANB3\",\"R3HDM1\",\"UBXN4\",\"LCT\",\"MCM6\",\"DARS\"],\"x\":[135869057.0,136122878.0,136385961.0,136520911.0,136570082.5,136615621.5,136703738.0],\"y\":[760.0,760.0,760.0,760.0,760.0,760.0,760.0]}},\"id\":\"aeed7c6b-f277-4a76-8890-93819e42e26b\",\"type\":\"ColumnDataSource\"},{\"attributes\":{\"active_drag\":\"auto\",\"active_scroll\":\"auto\",\"active_tap\":\"auto\",\"tools\":[{\"id\":\"1f8caee8-3b84-40f9-8bdd-3fcfffc7432c\",\"type\":\"PanTool\"},{\"id\":\"8410de44-d230-4de7-94a1-7ca071e6b15b\",\"type\":\"WheelZoomTool\"},{\"id\":\"5a18f821-a8bb-4ef9-93d7-8ad92233cc5c\",\"type\":\"BoxZoomTool\"},{\"id\":\"db65d8e6-0ee5-4889-9c4a-bbada011e4af\",\"type\":\"SaveTool\"},{\"id\":\"b8dd81e3-2df8-4535-b47c-28adec42bd3a\",\"type\":\"ResetTool\"},{\"id\":\"fca87dda-e8f9-4d1b-8fe4-cd9d25e57b8b\",\"type\":\"HelpTool\"}]},\"id\":\"e7228128-9f50-4963-b1dd-bdc2e1eeed4a\",\"type\":\"Toolbar\"},{\"attributes\":{\"formatter\":{\"id\":\"bf0f02a0-0617-4072-a99a-a7980a117351\",\"type\":\"BasicTickFormatter\"},\"plot\":{\"id\":\"380ec5ec-14d9-4a54-812f-b07c71714b1a\",\"subtype\":\"Figure\",\"type\":\"Plot\"},\"ticker\":{\"id\":\"ab7981b5-cedf-4b8b-9d5e-7150fba41a9b\",\"type\":\"BasicTicker\"}},\"id\":\"507ae8a6-1902-4c4a-8869-9d5d8e69ba75\",\"type\":\"LinearAxis\"},{\"attributes\":{\"callback\":null,\"end\":136786630,\"start\":135757320},\"id\":\"2c0124c4-d125-4382-a04f-6c66ab83ec05\",\"type\":\"Range1d\"},{\"attributes\":{\"overlay\":{\"id\":\"5630bc84-0466-47ff-807d-da37680d61ac\",\"type\":\"BoxAnnotation\"},\"plot\":{\"id\":\"380ec5ec-14d9-4a54-812f-b07c71714b1a\",\"subtype\":\"Figure\",\"type\":\"Plot\"}},\"id\":\"5a18f821-a8bb-4ef9-93d7-8ad92233cc5c\",\"type\":\"BoxZoomTool\"},{\"attributes\":{\"plot\":{\"id\":\"380ec5ec-14d9-4a54-812f-b07c71714b1a\",\"subtype\":\"Figure\",\"type\":\"Plot\"}},\"id\":\"db65d8e6-0ee5-4889-9c4a-bbada011e4af\",\"type\":\"SaveTool\"}],\"root_ids\":[\"380ec5ec-14d9-4a54-812f-b07c71714b1a\"]},\"title\":\"Bokeh Application\",\"version\":\"0.12.0\"}};\n",
       "            var render_items = [{\"docid\":\"2589cfab-fc7f-4178-a070-fbc6fb17cc61\",\"elementid\":\"cf2ec055-6417-4526-9662-2049001e250e\",\"modelid\":\"380ec5ec-14d9-4a54-812f-b07c71714b1a\",\"notebook_comms_target\":\"f3967318-303e-46b3-b1b7-1543e074bde2\"}];\n",
       "            \n",
       "            Bokeh.embed.embed_items(docs_json, render_items);\n",
       "        });\n",
       "      },\n",
       "      function(Bokeh) {\n",
       "      }\n",
       "    ];\n",
       "  \n",
       "    function run_inline_js() {\n",
       "      for (var i = 0; i < inline_js.length; i++) {\n",
       "        inline_js[i](window.Bokeh);\n",
       "      }\n",
       "    }\n",
       "  \n",
       "    if (window._bokeh_is_loading === 0) {\n",
       "      console.log(\"Bokeh: BokehJS loaded, going straight to plotting\");\n",
       "      run_inline_js();\n",
       "    } else {\n",
       "      load_libs(js_urls, function() {\n",
       "        console.log(\"Bokeh: BokehJS plotting callback run at\", now());\n",
       "        run_inline_js();\n",
       "      });\n",
       "    }\n",
       "  }(this));\n",
       "</script>"
      ]
     },
     "metadata": {},
     "output_type": "display_data"
    },
    {
     "data": {
      "text/html": [
       "<p><code>&lt;Bokeh Notebook handle for <strong>In[20]</strong>&gt;</code></p>"
      ],
      "text/plain": [
       "<bokeh.io._CommsHandle at 0x7f7c7ed90ad0>"
      ]
     },
     "execution_count": 20,
     "metadata": {},
     "output_type": "execute_result"
    }
   ],
   "source": [
    "di_7_17 = 353321\n",
    "plt_obj = dm.superset_yes_no([di_7_17], min_match=0.7)\n",
    "plt = plt_obj.do_plot()\n",
    "show(plt)"
   ]
  },
  {
   "cell_type": "code",
   "execution_count": 21,
   "metadata": {
    "collapsed": false
   },
   "outputs": [
    {
     "data": {
      "text/html": [
       "<table>\n",
       "<thead><tr><th style=\"text-align:center\">index</th><th style=\"text-align:center\">first</th><th style=\"text-align:center\">length</th><th style=\"text-align:center\">snps</th><th style=\"text-align:center\" colspan=2>alleles</th><th style=\"text-align:center\" colspan=2>matches</th><th style=\"text-align:center\" colspan=2>afr</th><th style=\"text-align:center\" colspan=2>afx</th><th style=\"text-align:center\" colspan=2>amr</th><th style=\"text-align:center\" colspan=2>eas</th><th style=\"text-align:center\" colspan=2>eur</th><th style=\"text-align:center\" colspan=2>sas</th><th style=\"text-align:center\" colspan=2>sax</th></tr></thead>\n",
       "<tr class=\"even\"><td style=\"text-align: right;\">354033</td><td style=\"text-align: right;\">136,588,031</td><td style=\"text-align: right;\">5,647</td><td style=\"text-align: right;\">7</td><td style=\"text-align: right;\">1760</td><td style=\"text-align: right;\">0.01</td><td style=\"text-align: right;\">16</td><td style=\"text-align: right;\">0.94</td><td style=\"text-align: right;\">0</td><td style=\"text-align: right;\">0.00</td><td style=\"text-align: right;\">0</td><td style=\"text-align: right;\">0.00</td><td style=\"text-align: right;\">2</td><td style=\"text-align: right;\">0.90</td><td style=\"text-align: right;\">0</td><td style=\"text-align: right;\">0.00</td><td style=\"text-align: right;\">13</td><td style=\"text-align: right;\">4.04</td><td style=\"text-align: right;\">1</td><td style=\"text-align: right;\">0.86</td><td style=\"text-align: right;\">0</td><td style=\"text-align: right;\">0.00</td></tr>\n",
       "<tr><td style=\"text-align: right;\">353240</td><td style=\"text-align: right;\">135,757,320</td><td style=\"text-align: right;\">20,184</td><td style=\"text-align: right;\">13</td><td style=\"text-align: right;\">1696</td><td style=\"text-align: right;\">0.01</td><td style=\"text-align: right;\">17</td><td style=\"text-align: right;\">1.00</td><td style=\"text-align: right;\">0</td><td style=\"text-align: right;\">0.00</td><td style=\"text-align: right;\">0</td><td style=\"text-align: right;\">0.00</td><td style=\"text-align: right;\">2</td><td style=\"text-align: right;\">0.85</td><td style=\"text-align: right;\">0</td><td style=\"text-align: right;\">0.00</td><td style=\"text-align: right;\">14</td><td style=\"text-align: right;\">4.10</td><td style=\"text-align: right;\">1</td><td style=\"text-align: right;\">0.81</td><td style=\"text-align: right;\">0</td><td style=\"text-align: right;\">0.00</td></tr>\n",
       "<tr class=\"even\"><td style=\"text-align: right;\">354130</td><td style=\"text-align: right;\">136,653,925</td><td style=\"text-align: right;\">107,928</td><td style=\"text-align: right;\">24</td><td style=\"text-align: right;\">1504</td><td style=\"text-align: right;\">0.01</td><td style=\"text-align: right;\">16</td><td style=\"text-align: right;\">0.94</td><td style=\"text-align: right;\">0</td><td style=\"text-align: right;\">0.00</td><td style=\"text-align: right;\">0</td><td style=\"text-align: right;\">0.00</td><td style=\"text-align: right;\">2</td><td style=\"text-align: right;\">0.90</td><td style=\"text-align: right;\">0</td><td style=\"text-align: right;\">0.00</td><td style=\"text-align: right;\">13</td><td style=\"text-align: right;\">4.04</td><td style=\"text-align: right;\">1</td><td style=\"text-align: right;\">0.86</td><td style=\"text-align: right;\">0</td><td style=\"text-align: right;\">0.00</td></tr>\n",
       "<tr><td style=\"text-align: right;\">353925</td><td style=\"text-align: right;\">136,506,375</td><td style=\"text-align: right;\">32,564</td><td style=\"text-align: right;\">4</td><td style=\"text-align: right;\">1442</td><td style=\"text-align: right;\">0.01</td><td style=\"text-align: right;\">17</td><td style=\"text-align: right;\">1.00</td><td style=\"text-align: right;\">0</td><td style=\"text-align: right;\">0.00</td><td style=\"text-align: right;\">0</td><td style=\"text-align: right;\">0.00</td><td style=\"text-align: right;\">2</td><td style=\"text-align: right;\">0.85</td><td style=\"text-align: right;\">0</td><td style=\"text-align: right;\">0.00</td><td style=\"text-align: right;\">14</td><td style=\"text-align: right;\">4.10</td><td style=\"text-align: right;\">1</td><td style=\"text-align: right;\">0.81</td><td style=\"text-align: right;\">0</td><td style=\"text-align: right;\">0.00</td></tr>\n",
       "<tr class=\"even\"><td style=\"text-align: right;\">353791</td><td style=\"text-align: right;\">136,393,658</td><td style=\"text-align: right;\">92,684</td><td style=\"text-align: right;\">32</td><td style=\"text-align: right;\">1361</td><td style=\"text-align: right;\">0.01</td><td style=\"text-align: right;\">17</td><td style=\"text-align: right;\">1.00</td><td style=\"text-align: right;\">0</td><td style=\"text-align: right;\">0.00</td><td style=\"text-align: right;\">0</td><td style=\"text-align: right;\">0.00</td><td style=\"text-align: right;\">2</td><td style=\"text-align: right;\">0.85</td><td style=\"text-align: right;\">0</td><td style=\"text-align: right;\">0.00</td><td style=\"text-align: right;\">14</td><td style=\"text-align: right;\">4.10</td><td style=\"text-align: right;\">1</td><td style=\"text-align: right;\">0.81</td><td style=\"text-align: right;\">0</td><td style=\"text-align: right;\">0.00</td></tr>\n",
       "<tr><td style=\"text-align: right;\">353958</td><td style=\"text-align: right;\">136,535,876</td><td style=\"text-align: right;\">19,014</td><td style=\"text-align: right;\">7</td><td style=\"text-align: right;\">1303</td><td style=\"text-align: right;\">0.01</td><td style=\"text-align: right;\">17</td><td style=\"text-align: right;\">1.00</td><td style=\"text-align: right;\">0</td><td style=\"text-align: right;\">0.00</td><td style=\"text-align: right;\">0</td><td style=\"text-align: right;\">0.00</td><td style=\"text-align: right;\">2</td><td style=\"text-align: right;\">0.85</td><td style=\"text-align: right;\">0</td><td style=\"text-align: right;\">0.00</td><td style=\"text-align: right;\">14</td><td style=\"text-align: right;\">4.10</td><td style=\"text-align: right;\">1</td><td style=\"text-align: right;\">0.81</td><td style=\"text-align: right;\">0</td><td style=\"text-align: right;\">0.00</td></tr>\n",
       "<tr class=\"even\"><td style=\"text-align: right;\">354129</td><td style=\"text-align: right;\">136,652,953</td><td style=\"text-align: right;\">108,222</td><td style=\"text-align: right;\">5</td><td style=\"text-align: right;\">1296</td><td style=\"text-align: right;\">0.01</td><td style=\"text-align: right;\">16</td><td style=\"text-align: right;\">0.94</td><td style=\"text-align: right;\">0</td><td style=\"text-align: right;\">0.00</td><td style=\"text-align: right;\">0</td><td style=\"text-align: right;\">0.00</td><td style=\"text-align: right;\">2</td><td style=\"text-align: right;\">0.90</td><td style=\"text-align: right;\">0</td><td style=\"text-align: right;\">0.00</td><td style=\"text-align: right;\">13</td><td style=\"text-align: right;\">4.04</td><td style=\"text-align: right;\">1</td><td style=\"text-align: right;\">0.86</td><td style=\"text-align: right;\">0</td><td style=\"text-align: right;\">0.00</td></tr>\n",
       "<tr><td style=\"text-align: right;\">353919</td><td style=\"text-align: right;\">136,500,475</td><td style=\"text-align: right;\">42,085</td><td style=\"text-align: right;\">13</td><td style=\"text-align: right;\">1227</td><td style=\"text-align: right;\">0.01</td><td style=\"text-align: right;\">17</td><td style=\"text-align: right;\">1.00</td><td style=\"text-align: right;\">0</td><td style=\"text-align: right;\">0.00</td><td style=\"text-align: right;\">0</td><td style=\"text-align: right;\">0.00</td><td style=\"text-align: right;\">2</td><td style=\"text-align: right;\">0.85</td><td style=\"text-align: right;\">0</td><td style=\"text-align: right;\">0.00</td><td style=\"text-align: right;\">14</td><td style=\"text-align: right;\">4.10</td><td style=\"text-align: right;\">1</td><td style=\"text-align: right;\">0.81</td><td style=\"text-align: right;\">0</td><td style=\"text-align: right;\">0.00</td></tr>\n",
       "<tr class=\"even\"><td style=\"text-align: right;\">354127</td><td style=\"text-align: right;\">136,652,491</td><td style=\"text-align: right;\">80,281</td><td style=\"text-align: right;\">6</td><td style=\"text-align: right;\">1114</td><td style=\"text-align: right;\">0.01</td><td style=\"text-align: right;\">16</td><td style=\"text-align: right;\">0.94</td><td style=\"text-align: right;\">0</td><td style=\"text-align: right;\">0.00</td><td style=\"text-align: right;\">0</td><td style=\"text-align: right;\">0.00</td><td style=\"text-align: right;\">2</td><td style=\"text-align: right;\">0.90</td><td style=\"text-align: right;\">0</td><td style=\"text-align: right;\">0.00</td><td style=\"text-align: right;\">13</td><td style=\"text-align: right;\">4.04</td><td style=\"text-align: right;\">1</td><td style=\"text-align: right;\">0.86</td><td style=\"text-align: right;\">0</td><td style=\"text-align: right;\">0.00</td></tr>\n",
       "<tr><td style=\"text-align: right;\">353372</td><td style=\"text-align: right;\">135,829,592</td><td style=\"text-align: right;\">591,316</td><td style=\"text-align: right;\">9</td><td style=\"text-align: right;\">944</td><td style=\"text-align: right;\">0.02</td><td style=\"text-align: right;\">17</td><td style=\"text-align: right;\">1.00</td><td style=\"text-align: right;\">0</td><td style=\"text-align: right;\">0.00</td><td style=\"text-align: right;\">0</td><td style=\"text-align: right;\">0.00</td><td style=\"text-align: right;\">2</td><td style=\"text-align: right;\">0.85</td><td style=\"text-align: right;\">0</td><td style=\"text-align: right;\">0.00</td><td style=\"text-align: right;\">14</td><td style=\"text-align: right;\">4.10</td><td style=\"text-align: right;\">1</td><td style=\"text-align: right;\">0.81</td><td style=\"text-align: right;\">0</td><td style=\"text-align: right;\">0.00</td></tr>\n",
       "<tr class=\"even\"><td style=\"text-align: right;\">353902</td><td style=\"text-align: right;\">136,494,985</td><td style=\"text-align: right;\">278,653</td><td style=\"text-align: right;\">81</td><td style=\"text-align: right;\">857</td><td style=\"text-align: right;\">0.02</td><td style=\"text-align: right;\">16</td><td style=\"text-align: right;\">0.94</td><td style=\"text-align: right;\">0</td><td style=\"text-align: right;\">0.00</td><td style=\"text-align: right;\">0</td><td style=\"text-align: right;\">0.00</td><td style=\"text-align: right;\">2</td><td style=\"text-align: right;\">0.90</td><td style=\"text-align: right;\">0</td><td style=\"text-align: right;\">0.00</td><td style=\"text-align: right;\">13</td><td style=\"text-align: right;\">4.04</td><td style=\"text-align: right;\">1</td><td style=\"text-align: right;\">0.86</td><td style=\"text-align: right;\">0</td><td style=\"text-align: right;\">0.00</td></tr>\n",
       "<tr><td style=\"text-align: right;\">353430</td><td style=\"text-align: right;\">135,879,258</td><td style=\"text-align: right;\">516,511</td><td style=\"text-align: right;\">6</td><td style=\"text-align: right;\">54</td><td style=\"text-align: right;\">0.31</td><td style=\"text-align: right;\">17</td><td style=\"text-align: right;\">1.00</td><td style=\"text-align: right;\">0</td><td style=\"text-align: right;\">0.00</td><td style=\"text-align: right;\">0</td><td style=\"text-align: right;\">0.00</td><td style=\"text-align: right;\">2</td><td style=\"text-align: right;\">0.85</td><td style=\"text-align: right;\">0</td><td style=\"text-align: right;\">0.00</td><td style=\"text-align: right;\">14</td><td style=\"text-align: right;\">4.10</td><td style=\"text-align: right;\">1</td><td style=\"text-align: right;\">0.81</td><td style=\"text-align: right;\">0</td><td style=\"text-align: right;\">0.00</td></tr>\n",
       "<tr class=\"even\"><td style=\"text-align: right;\">353321</td><td style=\"text-align: right;\">135,789,949</td><td style=\"text-align: right;\">762,462</td><td style=\"text-align: right;\">7</td><td style=\"text-align: right;\">17</td><td style=\"text-align: right;\">1.00</td><td style=\"text-align: right;\">17</td><td style=\"text-align: right;\">1.00</td><td style=\"text-align: right;\">0</td><td style=\"text-align: right;\">0.00</td><td style=\"text-align: right;\">0</td><td style=\"text-align: right;\">0.00</td><td style=\"text-align: right;\">2</td><td style=\"text-align: right;\">0.85</td><td style=\"text-align: right;\">0</td><td style=\"text-align: right;\">0.00</td><td style=\"text-align: right;\">14</td><td style=\"text-align: right;\">4.10</td><td style=\"text-align: right;\">1</td><td style=\"text-align: right;\">0.81</td><td style=\"text-align: right;\">0</td><td style=\"text-align: right;\">0.00</td></tr>\n",
       "</table>"
      ],
      "text/plain": [
       "<IPython.core.display.HTML object>"
      ]
     },
     "execution_count": 21,
     "metadata": {},
     "output_type": "execute_result"
    }
   ],
   "source": [
    "HTML(plt_obj.get_html())"
   ]
  },
  {
   "cell_type": "markdown",
   "metadata": {},
   "source": [
    "<div style=\"width:700px\">\n",
    "<p>This plot shows the hierarchy selected by the series 5_17.  The samples that \n",
    "express it include 11 European, 5 American, and 1 South Asian.\n",
    "</div>"
   ]
  },
  {
   "cell_type": "code",
   "execution_count": 22,
   "metadata": {
    "collapsed": false
   },
   "outputs": [
    {
     "data": {
      "text/html": [
       "\n",
       "\n",
       "    <div class=\"bk-root\">\n",
       "        <div class=\"plotdiv\" id=\"85ae9443-db1f-475a-8271-9235f1df7a13\"></div>\n",
       "    </div>\n",
       "<script type=\"text/javascript\">\n",
       "  \n",
       "  (function(global) {\n",
       "    function now() {\n",
       "      return new Date();\n",
       "    }\n",
       "  \n",
       "    if (typeof (window._bokeh_onload_callbacks) === \"undefined\") {\n",
       "      window._bokeh_onload_callbacks = [];\n",
       "    }\n",
       "  \n",
       "    function run_callbacks() {\n",
       "      window._bokeh_onload_callbacks.forEach(function(callback) { callback() });\n",
       "      delete window._bokeh_onload_callbacks\n",
       "      console.info(\"Bokeh: all callbacks have finished\");\n",
       "    }\n",
       "  \n",
       "    function load_libs(js_urls, callback) {\n",
       "      window._bokeh_onload_callbacks.push(callback);\n",
       "      if (window._bokeh_is_loading > 0) {\n",
       "        console.log(\"Bokeh: BokehJS is being loaded, scheduling callback at\", now());\n",
       "        return null;\n",
       "      }\n",
       "      if (js_urls == null || js_urls.length === 0) {\n",
       "        run_callbacks();\n",
       "        return null;\n",
       "      }\n",
       "      console.log(\"Bokeh: BokehJS not loaded, scheduling load and callback at\", now());\n",
       "      window._bokeh_is_loading = js_urls.length;\n",
       "      for (var i = 0; i < js_urls.length; i++) {\n",
       "        var url = js_urls[i];\n",
       "        var s = document.createElement('script');\n",
       "        s.src = url;\n",
       "        s.async = false;\n",
       "        s.onreadystatechange = s.onload = function() {\n",
       "          window._bokeh_is_loading--;\n",
       "          if (window._bokeh_is_loading === 0) {\n",
       "            console.log(\"Bokeh: all BokehJS libraries loaded\");\n",
       "            run_callbacks()\n",
       "          }\n",
       "        };\n",
       "        s.onerror = function() {\n",
       "          console.warn(\"failed to load library \" + url);\n",
       "        };\n",
       "        console.log(\"Bokeh: injecting script tag for BokehJS library: \", url);\n",
       "        document.getElementsByTagName(\"head\")[0].appendChild(s);\n",
       "      }\n",
       "    };var element = document.getElementById(\"85ae9443-db1f-475a-8271-9235f1df7a13\");\n",
       "    if (element == null) {\n",
       "      console.log(\"Bokeh: ERROR: autoload.js configured with elementid '85ae9443-db1f-475a-8271-9235f1df7a13' but no matching script tag was found. \")\n",
       "      return false;\n",
       "    }\n",
       "  \n",
       "    var js_urls = [];\n",
       "  \n",
       "    var inline_js = [\n",
       "      function(Bokeh) {\n",
       "        Bokeh.$(function() {\n",
       "            var docs_json = {\"bbfbc995-cf94-4995-8632-32f593af06bf\":{\"roots\":{\"references\":[{\"attributes\":{\"callback\":null,\"end\":700},\"id\":\"af7e70a6-98fd-4fff-a671-5b19cb857b20\",\"type\":\"Range1d\"},{\"attributes\":{},\"id\":\"2736099f-93ad-4041-8598-a7feba8091ef\",\"type\":\"BasicTicker\"},{\"attributes\":{\"dimension\":1,\"plot\":{\"id\":\"cbf5546d-475a-43ac-93f5-5b20e2491a97\",\"subtype\":\"Figure\",\"type\":\"Plot\"},\"ticker\":{\"id\":\"2736099f-93ad-4041-8598-a7feba8091ef\",\"type\":\"BasicTicker\"}},\"id\":\"e7e31d45-ea45-4113-9ad6-fd4d6d7266f9\",\"type\":\"Grid\"},{\"attributes\":{\"level\":\"glyph\",\"plot\":{\"id\":\"cbf5546d-475a-43ac-93f5-5b20e2491a97\",\"subtype\":\"Figure\",\"type\":\"Plot\"},\"source\":{\"id\":\"4bb5494d-8369-4523-abc7-d38aefb6f71c\",\"type\":\"ColumnDataSource\"},\"text\":{\"field\":\"vals\"},\"text_font_size\":{\"value\":\"9pt\"},\"text_font_style\":\"bold\",\"x\":{\"field\":\"x\"},\"y\":{\"field\":\"y\"}},\"id\":\"ccf5aaf5-d99b-4901-b09f-d0dc004ef1b1\",\"type\":\"LabelSet\"},{\"attributes\":{\"callback\":null,\"column_names\":[\"right\",\"bottom\",\"top\",\"left\"],\"data\":{\"bottom\":[645,645,645,645,645,645,645],\"left\":[135809835,135957574,136289083,136499189,136545415,136597196,136664254],\"right\":[135928279,136288182,136482839,136542633,136594750,136634047,136743222],\"top\":[675,675,675,675,675,675,675]}},\"id\":\"05fc6a91-7042-40d1-aedc-7bc766f71cc2\",\"type\":\"ColumnDataSource\"},{\"attributes\":{},\"id\":\"1f163836-1c5d-4fa0-a261-697d172a07da\",\"type\":\"BasicTickFormatter\"},{\"attributes\":{\"plot\":null,\"text\":null},\"id\":\"a7acc4e9-424c-41a2-b1e0-e603f4bb0813\",\"type\":\"Title\"},{\"attributes\":{\"bottom\":{\"field\":\"bottom\"},\"fill_alpha\":{\"value\":0.1},\"fill_color\":{\"value\":\"#1f77b4\"},\"left\":{\"field\":\"left\"},\"line_alpha\":{\"value\":0.1},\"line_color\":{\"value\":\"#1f77b4\"},\"right\":{\"field\":\"right\"},\"top\":{\"field\":\"top\"}},\"id\":\"25cba7f6-ee31-494c-9b76-66e60d000a28\",\"type\":\"Quad\"},{\"attributes\":{\"bottom\":{\"field\":\"bottom\"},\"fill_color\":{\"value\":\"white\"},\"left\":{\"field\":\"left\"},\"right\":{\"field\":\"right\"},\"top\":{\"field\":\"top\"}},\"id\":\"91ba7510-845d-4cf0-8c3b-270a2d4bf2eb\",\"type\":\"Quad\"},{\"attributes\":{\"callback\":null,\"column_names\":[\"y\",\"x\",\"vals\"],\"data\":{\"vals\":[\"RAB3GAP1\",\"ZRANB3\",\"R3HDM1\",\"UBXN4\",\"LCT\",\"MCM6\",\"DARS\"],\"x\":[135869057.0,136122878.0,136385961.0,136520911.0,136570082.5,136615621.5,136703738.0],\"y\":[660.0,660.0,660.0,660.0,660.0,660.0,660.0]}},\"id\":\"f59aa746-b29c-4707-a42f-28e9f8f8aacf\",\"type\":\"ColumnDataSource\"},{\"attributes\":{\"callback\":null,\"end\":136786630,\"start\":135757320},\"id\":\"4b0e0476-09e0-48ae-a55a-5205d7cc76b0\",\"type\":\"Range1d\"},{\"attributes\":{},\"id\":\"8599e1b9-204f-4861-9a83-e10ca2af5a78\",\"type\":\"BasicTickFormatter\"},{\"attributes\":{\"data_source\":{\"id\":\"c0af161e-f5b9-4646-a344-cce1366b758a\",\"type\":\"ColumnDataSource\"},\"glyph\":{\"id\":\"d083ca67-80c9-40ad-bd46-4401d984524c\",\"type\":\"MultiLine\"},\"hover_glyph\":null,\"nonselection_glyph\":{\"id\":\"f57dbd03-2b81-482d-8032-ab58d3399771\",\"type\":\"MultiLine\"},\"selection_glyph\":null},\"id\":\"0ee0dd8e-36f0-4be3-b866-b5da08867b61\",\"type\":\"GlyphRenderer\"},{\"attributes\":{\"plot\":{\"id\":\"cbf5546d-475a-43ac-93f5-5b20e2491a97\",\"subtype\":\"Figure\",\"type\":\"Plot\"}},\"id\":\"78e73913-e6b2-45f3-aa6d-56e7a804b8d0\",\"type\":\"HelpTool\"},{\"attributes\":{\"plot\":{\"id\":\"cbf5546d-475a-43ac-93f5-5b20e2491a97\",\"subtype\":\"Figure\",\"type\":\"Plot\"}},\"id\":\"69c6cefd-8d4d-4f8c-9725-7f0c4bd24854\",\"type\":\"WheelZoomTool\"},{\"attributes\":{\"callback\":null,\"column_names\":[\"y\",\"x\",\"vals\"],\"data\":{\"vals\":[\"13_1696\",\"9_944\",\"5_17\",\"32_1361\",\"81_857\",\"13_1227\",\"4_1442\",\"7_1303\",\"7_1760\",\"6_1114\",\"5_1296\",\"24_1504\"],\"x\":[135757320,135829592,135920394,136393658,136494985,136500475,136506375,136535876,136588031,136652491,136652953,136653925],\"y\":[601.0,196.0,61.0,499.0,195.0,298.0,499.0,399.0,601.0,297.0,399.0,600.0]}},\"id\":\"4bb5494d-8369-4523-abc7-d38aefb6f71c\",\"type\":\"ColumnDataSource\"},{\"attributes\":{\"plot\":{\"id\":\"cbf5546d-475a-43ac-93f5-5b20e2491a97\",\"subtype\":\"Figure\",\"type\":\"Plot\"},\"ticker\":{\"id\":\"97d6fc71-ddd2-470f-85b2-0cea308edd51\",\"type\":\"BasicTicker\"}},\"id\":\"02986185-06c4-4cdc-a46c-e3bc3535c09f\",\"type\":\"Grid\"},{\"attributes\":{\"formatter\":{\"id\":\"8599e1b9-204f-4861-9a83-e10ca2af5a78\",\"type\":\"BasicTickFormatter\"},\"plot\":{\"id\":\"cbf5546d-475a-43ac-93f5-5b20e2491a97\",\"subtype\":\"Figure\",\"type\":\"Plot\"},\"ticker\":{\"id\":\"97d6fc71-ddd2-470f-85b2-0cea308edd51\",\"type\":\"BasicTicker\"}},\"id\":\"e2fc582b-3b4b-4b1d-9224-3646ba107cd9\",\"type\":\"LinearAxis\"},{\"attributes\":{\"plot\":{\"id\":\"cbf5546d-475a-43ac-93f5-5b20e2491a97\",\"subtype\":\"Figure\",\"type\":\"Plot\"}},\"id\":\"a3ae4b46-f3d6-45bd-b667-77fb3c159aff\",\"type\":\"SaveTool\"},{\"attributes\":{},\"id\":\"71ce9215-a9d1-41cc-9ac4-05c1e1bf92b4\",\"type\":\"ToolEvents\"},{\"attributes\":{\"line_alpha\":{\"value\":0.1},\"line_color\":{\"value\":\"#1f77b4\"},\"xs\":{\"field\":\"xs\"},\"ys\":{\"field\":\"ys\"}},\"id\":\"f57dbd03-2b81-482d-8032-ab58d3399771\",\"type\":\"MultiLine\"},{\"attributes\":{\"bottom\":{\"field\":\"bottom\"},\"fill_color\":{\"field\":\"fill_color\"},\"left\":{\"field\":\"left\"},\"line_color\":{\"value\":null},\"right\":{\"field\":\"right\"},\"top\":{\"field\":\"top\"}},\"id\":\"d055009a-d25e-42bd-b0fa-a48d7c0e8fd7\",\"type\":\"Quad\"},{\"attributes\":{\"data_source\":{\"id\":\"05fc6a91-7042-40d1-aedc-7bc766f71cc2\",\"type\":\"ColumnDataSource\"},\"glyph\":{\"id\":\"91ba7510-845d-4cf0-8c3b-270a2d4bf2eb\",\"type\":\"Quad\"},\"hover_glyph\":null,\"nonselection_glyph\":{\"id\":\"25cba7f6-ee31-494c-9b76-66e60d000a28\",\"type\":\"Quad\"},\"selection_glyph\":null},\"id\":\"58e86a21-7d25-4635-a836-42b1a08a4cb5\",\"type\":\"GlyphRenderer\"},{\"attributes\":{},\"id\":\"97d6fc71-ddd2-470f-85b2-0cea308edd51\",\"type\":\"BasicTicker\"},{\"attributes\":{\"line_color\":{\"field\":\"line_color\"},\"xs\":{\"field\":\"xs\"},\"ys\":{\"field\":\"ys\"}},\"id\":\"d083ca67-80c9-40ad-bd46-4401d984524c\",\"type\":\"MultiLine\"},{\"attributes\":{\"level\":\"glyph\",\"plot\":{\"id\":\"cbf5546d-475a-43ac-93f5-5b20e2491a97\",\"subtype\":\"Figure\",\"type\":\"Plot\"},\"source\":{\"id\":\"f59aa746-b29c-4707-a42f-28e9f8f8aacf\",\"type\":\"ColumnDataSource\"},\"text\":{\"field\":\"vals\"},\"text_align\":\"center\",\"text_baseline\":\"middle\",\"text_font_size\":{\"value\":\"8pt\"},\"x\":{\"field\":\"x\"},\"y\":{\"field\":\"y\"}},\"id\":\"43bb5705-ec94-43c7-b0ee-e4d17e768312\",\"type\":\"LabelSet\"},{\"attributes\":{\"plot\":{\"id\":\"cbf5546d-475a-43ac-93f5-5b20e2491a97\",\"subtype\":\"Figure\",\"type\":\"Plot\"}},\"id\":\"0092c42e-043e-4715-ba48-5bd365cc3309\",\"type\":\"ResetTool\"},{\"attributes\":{\"callback\":null,\"column_names\":[\"right\",\"bottom\",\"top\",\"left\",\"fill_color\"],\"data\":{\"bottom\":[550,150,50,450,150,250,450,350,550,250,350,550],\"fill_color\":[\"#808080\",\"#c4c461\",\"#00ff00\",\"#c4c461\",\"#808080\",\"#808080\",\"#808080\",\"#808080\",\"#c46161\",\"#808080\",\"#808080\",\"#808080\"],\"left\":[135757320,135829592,135920394,136393658,136494985,136500475,136506375,136535876,136588031,136652491,136652953,136653925],\"right\":[135777504,136420908,136528956,136486342,136773638,136542560,136538939,136554890,136593678,136732772,136761175,136761853],\"top\":[596,191,56,494,190,293,494,394,596,292,394,595]}},\"id\":\"0cb64299-44bd-478c-93ff-c13e3c9ede47\",\"type\":\"ColumnDataSource\"},{\"attributes\":{\"bottom_units\":\"screen\",\"fill_alpha\":{\"value\":0.5},\"fill_color\":{\"value\":\"lightgrey\"},\"left_units\":\"screen\",\"level\":\"overlay\",\"line_alpha\":{\"value\":1.0},\"line_color\":{\"value\":\"black\"},\"line_dash\":[4,4],\"line_width\":{\"value\":2},\"plot\":null,\"render_mode\":\"css\",\"right_units\":\"screen\",\"top_units\":\"screen\"},\"id\":\"4957a934-7d3b-408b-a545-f15c89900fdd\",\"type\":\"BoxAnnotation\"},{\"attributes\":{\"active_drag\":\"auto\",\"active_scroll\":\"auto\",\"active_tap\":\"auto\",\"tools\":[{\"id\":\"c4974191-5ef5-47a3-adda-a5f3c1943f67\",\"type\":\"PanTool\"},{\"id\":\"69c6cefd-8d4d-4f8c-9725-7f0c4bd24854\",\"type\":\"WheelZoomTool\"},{\"id\":\"8eb7d1d3-6988-4e7e-886e-a6e29e429818\",\"type\":\"BoxZoomTool\"},{\"id\":\"a3ae4b46-f3d6-45bd-b667-77fb3c159aff\",\"type\":\"SaveTool\"},{\"id\":\"0092c42e-043e-4715-ba48-5bd365cc3309\",\"type\":\"ResetTool\"},{\"id\":\"78e73913-e6b2-45f3-aa6d-56e7a804b8d0\",\"type\":\"HelpTool\"}]},\"id\":\"c6731a23-db53-4b9f-8122-82ba2a3d219f\",\"type\":\"Toolbar\"},{\"attributes\":{\"bottom\":{\"field\":\"bottom\"},\"fill_alpha\":{\"value\":0.1},\"fill_color\":{\"value\":\"#1f77b4\"},\"left\":{\"field\":\"left\"},\"line_alpha\":{\"value\":0.1},\"line_color\":{\"value\":\"#1f77b4\"},\"right\":{\"field\":\"right\"},\"top\":{\"field\":\"top\"}},\"id\":\"2e4294a0-351b-4e4f-91ac-6ada58a5978d\",\"type\":\"Quad\"},{\"attributes\":{\"plot\":{\"id\":\"cbf5546d-475a-43ac-93f5-5b20e2491a97\",\"subtype\":\"Figure\",\"type\":\"Plot\"}},\"id\":\"c4974191-5ef5-47a3-adda-a5f3c1943f67\",\"type\":\"PanTool\"},{\"attributes\":{\"below\":[{\"id\":\"e2fc582b-3b4b-4b1d-9224-3646ba107cd9\",\"type\":\"LinearAxis\"}],\"left\":[{\"id\":\"0b0bc3dc-af5e-43bf-ae2c-12b16ccd979f\",\"type\":\"LinearAxis\"}],\"plot_height\":700,\"plot_width\":900,\"renderers\":[{\"id\":\"e2fc582b-3b4b-4b1d-9224-3646ba107cd9\",\"type\":\"LinearAxis\"},{\"id\":\"02986185-06c4-4cdc-a46c-e3bc3535c09f\",\"type\":\"Grid\"},{\"id\":\"0b0bc3dc-af5e-43bf-ae2c-12b16ccd979f\",\"type\":\"LinearAxis\"},{\"id\":\"e7e31d45-ea45-4113-9ad6-fd4d6d7266f9\",\"type\":\"Grid\"},{\"id\":\"4957a934-7d3b-408b-a545-f15c89900fdd\",\"type\":\"BoxAnnotation\"},{\"id\":\"c1a9fbbc-00ce-4161-be75-9065aeaddd1e\",\"type\":\"GlyphRenderer\"},{\"id\":\"0ee0dd8e-36f0-4be3-b866-b5da08867b61\",\"type\":\"GlyphRenderer\"},{\"id\":\"ccf5aaf5-d99b-4901-b09f-d0dc004ef1b1\",\"type\":\"LabelSet\"},{\"id\":\"58e86a21-7d25-4635-a836-42b1a08a4cb5\",\"type\":\"GlyphRenderer\"},{\"id\":\"43bb5705-ec94-43c7-b0ee-e4d17e768312\",\"type\":\"LabelSet\"}],\"title\":{\"id\":\"a7acc4e9-424c-41a2-b1e0-e603f4bb0813\",\"type\":\"Title\"},\"tool_events\":{\"id\":\"71ce9215-a9d1-41cc-9ac4-05c1e1bf92b4\",\"type\":\"ToolEvents\"},\"toolbar\":{\"id\":\"c6731a23-db53-4b9f-8122-82ba2a3d219f\",\"type\":\"Toolbar\"},\"toolbar_location\":null,\"x_range\":{\"id\":\"4b0e0476-09e0-48ae-a55a-5205d7cc76b0\",\"type\":\"Range1d\"},\"y_range\":{\"id\":\"af7e70a6-98fd-4fff-a671-5b19cb857b20\",\"type\":\"Range1d\"}},\"id\":\"cbf5546d-475a-43ac-93f5-5b20e2491a97\",\"subtype\":\"Figure\",\"type\":\"Plot\"},{\"attributes\":{\"data_source\":{\"id\":\"0cb64299-44bd-478c-93ff-c13e3c9ede47\",\"type\":\"ColumnDataSource\"},\"glyph\":{\"id\":\"d055009a-d25e-42bd-b0fa-a48d7c0e8fd7\",\"type\":\"Quad\"},\"hover_glyph\":null,\"nonselection_glyph\":{\"id\":\"2e4294a0-351b-4e4f-91ac-6ada58a5978d\",\"type\":\"Quad\"},\"selection_glyph\":null},\"id\":\"c1a9fbbc-00ce-4161-be75-9065aeaddd1e\",\"type\":\"GlyphRenderer\"},{\"attributes\":{\"overlay\":{\"id\":\"4957a934-7d3b-408b-a545-f15c89900fdd\",\"type\":\"BoxAnnotation\"},\"plot\":{\"id\":\"cbf5546d-475a-43ac-93f5-5b20e2491a97\",\"subtype\":\"Figure\",\"type\":\"Plot\"}},\"id\":\"8eb7d1d3-6988-4e7e-886e-a6e29e429818\",\"type\":\"BoxZoomTool\"},{\"attributes\":{\"callback\":null,\"column_names\":[\"xs\",\"ys\",\"line_color\"],\"data\":{\"line_color\":[\"black\",\"black\",\"black\",\"black\",\"black\",\"black\",\"black\",\"black\",\"black\",\"black\",\"black\",\"black\",\"black\",\"black\",\"black\",\"black\",\"black\",\"black\",\"black\",\"black\",\"black\",\"black\",\"black\",\"black\",\"black\",\"black\",\"black\",\"black\",\"black\",\"black\",\"black\",\"black\",\"black\",\"black\",\"black\",\"black\",\"black\",\"black\",\"black\",\"black\",\"black\",\"black\",\"black\",\"black\",\"black\",\"black\",\"black\",\"black\",\"black\",\"black\",\"black\",\"black\",\"black\",\"black\",\"black\",\"black\",\"black\",\"black\",\"black\",\"black\",\"black\",\"black\",\"black\",\"black\",\"black\",\"black\",\"black\",\"black\",\"black\",\"black\",\"black\",\"black\",\"black\",\"black\",\"black\",\"black\",\"black\",\"black\",\"black\",\"black\",\"black\",\"black\",\"black\",\"black\",\"black\",\"black\",\"black\",\"black\",\"black\",\"black\",\"black\",\"black\",\"black\",\"black\",\"black\",\"black\",\"black\",\"black\",\"black\",\"black\",\"black\",\"black\",\"black\",\"black\",\"black\",\"black\",\"black\",\"black\",\"black\",\"black\",\"black\",\"black\",\"black\",\"black\",\"black\",\"black\",\"black\",\"black\",\"black\",\"black\",\"black\",\"black\",\"black\",\"black\",\"black\",\"black\",\"black\",\"black\",\"black\",\"black\",\"black\",\"black\",\"black\",\"black\",\"black\",\"black\",\"black\",\"black\",\"black\",\"black\",\"black\",\"black\",\"black\",\"black\",\"black\",\"black\",\"black\",\"black\",\"black\",\"black\",\"black\",\"black\",\"black\",\"black\",\"black\",\"black\",\"black\",\"black\",\"black\",\"black\",\"black\",\"black\",\"black\",\"black\",\"black\",\"black\",\"black\",\"black\",\"black\",\"black\",\"black\",\"black\",\"black\",\"black\",\"black\",\"black\",\"black\",\"black\",\"black\",\"black\",\"black\",\"black\",\"black\",\"black\",\"black\",\"black\",\"black\",\"black\",\"black\",\"black\",\"black\",\"black\",\"black\",\"black\",\"black\",\"black\",\"black\",\"black\",\"black\",\"black\",\"black\",\"black\",\"black\",\"black\",\"black\",\"black\"],\"xs\":[[135757320,135757320],[135761078,135761078],[135761271,135761271],[135762344,135762344],[135762980,135762980],[135763280,135763280],[135768815,135768815],[135769093,135769093],[135769127,135769127],[135770940,135770940],[135770951,135770951],[135776728,135776728],[135777504,135777504],[135829592,135829592],[135893372,135893372],[135952405,135952405],[135989721,135989721],[136136056,136136056],[136313639,136313639],[136401418,136401418],[136407078,136407078],[136420908,136420908],[135920394,135920394],[135929310,135929310],[136179305,136179305],[136388794,136388794],[136528956,136528956],[136393658,136393658],[136396300,136396300],[136401843,136401843],[136407445,136407445],[136411879,136411879],[136412270,136412270],[136413244,136413244],[136413847,136413847],[136415217,136415217],[136416533,136416533],[136420726,136420726],[136429857,136429857],[136433740,136433740],[136436317,136436317],[136437615,136437615],[136438517,136438517],[136440300,136440300],[136443900,136443900],[136444185,136444185],[136444338,136444338],[136449254,136449254],[136451676,136451676],[136459227,136459227],[136463117,136463117],[136463454,136463454],[136467119,136467119],[136468238,136468238],[136470219,136470219],[136483355,136483355],[136485276,136485276],[136486340,136486340],[136486342,136486342],[136494985,136494985],[136497199,136497199],[136511817,136511817],[136513670,136513670],[136515458,136515458],[136516970,136516970],[136525309,136525309],[136528034,136528034],[136532225,136532225],[136535235,136535235],[136536095,136536095],[136544423,136544423],[136546927,136546927],[136552188,136552188],[136552517,136552517],[136555525,136555525],[136556480,136556480],[136560464,136560464],[136572285,136572285],[136582694,136582694],[136582809,136582809],[136584538,136584538],[136585323,136585323],[136586825,136586825],[136600662,136600662],[136612036,136612036],[136618178,136618178],[136618507,136618507],[136622543,136622543],[136624947,136624947],[136625113,136625113],[136626078,136626078],[136628121,136628121],[136632300,136632300],[136633962,136633962],[136635343,136635343],[136638113,136638113],[136640101,136640101],[136641593,136641593],[136646582,136646582],[136648077,136648077],[136648883,136648883],[136652045,136652045],[136653848,136653848],[136656094,136656094],[136661110,136661110],[136663110,136663110],[136663605,136663605],[136665162,136665162],[136665711,136665711],[136668123,136668123],[136670419,136670419],[136672680,136672680],[136673546,136673546],[136684632,136684632],[136686114,136686114],[136690425,136690425],[136690783,136690783],[136692893,136692893],[136694905,136694905],[136695694,136695694],[136695705,136695705],[136696608,136696608],[136697372,136697372],[136697468,136697468],[136700024,136700024],[136701539,136701539],[136702118,136702118],[136707480,136707480],[136710554,136710554],[136714178,136714178],[136719173,136719173],[136725459,136725459],[136734569,136734569],[136744678,136744678],[136748779,136748779],[136751488,136751488],[136754183,136754183],[136763242,136763242],[136765074,136765074],[136773638,136773638],[136500475,136500475],[136501509,136501509],[136504101,136504101],[136509868,136509868],[136520043,136520043],[136527120,136527120],[136530379,136530379],[136530443,136530443],[136539330,136539330],[136539670,136539670],[136540083,136540083],[136542559,136542559],[136542560,136542560],[136506375,136506375],[136506927,136506927],[136510012,136510012],[136538939,136538939],[136535876,136535876],[136544651,136544651],[136545844,136545844],[136552526,136552526],[136553022,136553022],[136554797,136554797],[136554890,136554890],[136588031,136588031],[136589278,136589278],[136589379,136589379],[136589741,136589741],[136590746,136590746],[136593553,136593553],[136593678,136593678],[136652491,136652491],[136652524,136652524],[136661150,136661150],[136669264,136669264],[136726567,136726567],[136732772,136732772],[136652953,136652953],[136655582,136655582],[136674028,136674028],[136684940,136684940],[136761175,136761175],[136653925,136653925],[136654833,136654833],[136656534,136656534],[136656536,136656536],[136657252,136657252],[136667301,136667301],[136667487,136667487],[136672775,136672775],[136680534,136680534],[136686393,136686393],[136688749,136688749],[136692553,136692553],[136697371,136697371],[136708787,136708787],[136710372,136710372],[136711064,136711064],[136715324,136715324],[136723504,136723504],[136737460,136737460],[136743143,136743143],[136746224,136746224],[136751842,136751842],[136759379,136759379],[136761853,136761853]],\"ys\":[[550,596],[550,596],[550,596],[550,596],[550,596],[550,596],[550,596],[550,596],[550,596],[550,596],[550,596],[550,596],[550,596],[150,191],[150,191],[150,191],[150,191],[150,191],[150,191],[150,191],[150,191],[150,191],[50,56],[50,56],[50,56],[50,56],[50,56],[450,494],[450,494],[450,494],[450,494],[450,494],[450,494],[450,494],[450,494],[450,494],[450,494],[450,494],[450,494],[450,494],[450,494],[450,494],[450,494],[450,494],[450,494],[450,494],[450,494],[450,494],[450,494],[450,494],[450,494],[450,494],[450,494],[450,494],[450,494],[450,494],[450,494],[450,494],[450,494],[150,190],[150,190],[150,190],[150,190],[150,190],[150,190],[150,190],[150,190],[150,190],[150,190],[150,190],[150,190],[150,190],[150,190],[150,190],[150,190],[150,190],[150,190],[150,190],[150,190],[150,190],[150,190],[150,190],[150,190],[150,190],[150,190],[150,190],[150,190],[150,190],[150,190],[150,190],[150,190],[150,190],[150,190],[150,190],[150,190],[150,190],[150,190],[150,190],[150,190],[150,190],[150,190],[150,190],[150,190],[150,190],[150,190],[150,190],[150,190],[150,190],[150,190],[150,190],[150,190],[150,190],[150,190],[150,190],[150,190],[150,190],[150,190],[150,190],[150,190],[150,190],[150,190],[150,190],[150,190],[150,190],[150,190],[150,190],[150,190],[150,190],[150,190],[150,190],[150,190],[150,190],[150,190],[150,190],[150,190],[150,190],[150,190],[150,190],[150,190],[150,190],[250,293],[250,293],[250,293],[250,293],[250,293],[250,293],[250,293],[250,293],[250,293],[250,293],[250,293],[250,293],[250,293],[450,494],[450,494],[450,494],[450,494],[350,394],[350,394],[350,394],[350,394],[350,394],[350,394],[350,394],[550,596],[550,596],[550,596],[550,596],[550,596],[550,596],[550,596],[250,292],[250,292],[250,292],[250,292],[250,292],[250,292],[350,394],[350,394],[350,394],[350,394],[350,394],[550,595],[550,595],[550,595],[550,595],[550,595],[550,595],[550,595],[550,595],[550,595],[550,595],[550,595],[550,595],[550,595],[550,595],[550,595],[550,595],[550,595],[550,595],[550,595],[550,595],[550,595],[550,595],[550,595],[550,595]]}},\"id\":\"c0af161e-f5b9-4646-a344-cce1366b758a\",\"type\":\"ColumnDataSource\"},{\"attributes\":{\"formatter\":{\"id\":\"1f163836-1c5d-4fa0-a261-697d172a07da\",\"type\":\"BasicTickFormatter\"},\"plot\":{\"id\":\"cbf5546d-475a-43ac-93f5-5b20e2491a97\",\"subtype\":\"Figure\",\"type\":\"Plot\"},\"ticker\":{\"id\":\"2736099f-93ad-4041-8598-a7feba8091ef\",\"type\":\"BasicTicker\"},\"visible\":null},\"id\":\"0b0bc3dc-af5e-43bf-ae2c-12b16ccd979f\",\"type\":\"LinearAxis\"}],\"root_ids\":[\"cbf5546d-475a-43ac-93f5-5b20e2491a97\"]},\"title\":\"Bokeh Application\",\"version\":\"0.12.0\"}};\n",
       "            var render_items = [{\"docid\":\"bbfbc995-cf94-4995-8632-32f593af06bf\",\"elementid\":\"85ae9443-db1f-475a-8271-9235f1df7a13\",\"modelid\":\"cbf5546d-475a-43ac-93f5-5b20e2491a97\",\"notebook_comms_target\":\"b0ab1985-8e62-4444-a8d1-5c121acddbf7\"}];\n",
       "            \n",
       "            Bokeh.embed.embed_items(docs_json, render_items);\n",
       "        });\n",
       "      },\n",
       "      function(Bokeh) {\n",
       "      }\n",
       "    ];\n",
       "  \n",
       "    function run_inline_js() {\n",
       "      for (var i = 0; i < inline_js.length; i++) {\n",
       "        inline_js[i](window.Bokeh);\n",
       "      }\n",
       "    }\n",
       "  \n",
       "    if (window._bokeh_is_loading === 0) {\n",
       "      console.log(\"Bokeh: BokehJS loaded, going straight to plotting\");\n",
       "      run_inline_js();\n",
       "    } else {\n",
       "      load_libs(js_urls, function() {\n",
       "        console.log(\"Bokeh: BokehJS plotting callback run at\", now());\n",
       "        run_inline_js();\n",
       "      });\n",
       "    }\n",
       "  }(this));\n",
       "</script>"
      ]
     },
     "metadata": {},
     "output_type": "display_data"
    },
    {
     "data": {
      "text/html": [
       "<p><code>&lt;Bokeh Notebook handle for <strong>In[22]</strong>&gt;</code></p>"
      ],
      "text/plain": [
       "<bokeh.io._CommsHandle at 0x7f7c7ea39a10>"
      ]
     },
     "execution_count": 22,
     "metadata": {},
     "output_type": "execute_result"
    }
   ],
   "source": [
    "di_5_17 = 353467\n",
    "plt_obj = dm.superset_yes_no([di_5_17], min_match=0.7)\n",
    "plt = plt_obj.do_plot()\n",
    "show(plt)"
   ]
  },
  {
   "cell_type": "code",
   "execution_count": 23,
   "metadata": {
    "collapsed": false
   },
   "outputs": [
    {
     "data": {
      "text/html": [
       "<table>\n",
       "<thead><tr><th style=\"text-align:center\">index</th><th style=\"text-align:center\">first</th><th style=\"text-align:center\">length</th><th style=\"text-align:center\">snps</th><th style=\"text-align:center\" colspan=2>alleles</th><th style=\"text-align:center\" colspan=2>matches</th><th style=\"text-align:center\" colspan=2>afr</th><th style=\"text-align:center\" colspan=2>afx</th><th style=\"text-align:center\" colspan=2>amr</th><th style=\"text-align:center\" colspan=2>eas</th><th style=\"text-align:center\" colspan=2>eur</th><th style=\"text-align:center\" colspan=2>sas</th><th style=\"text-align:center\" colspan=2>sax</th></tr></thead>\n",
       "<tr class=\"even\"><td style=\"text-align: right;\">354033</td><td style=\"text-align: right;\">136,588,031</td><td style=\"text-align: right;\">5,647</td><td style=\"text-align: right;\">7</td><td style=\"text-align: right;\">1760</td><td style=\"text-align: right;\">0.01</td><td style=\"text-align: right;\">17</td><td style=\"text-align: right;\">1.00</td><td style=\"text-align: right;\">0</td><td style=\"text-align: right;\">0.00</td><td style=\"text-align: right;\">0</td><td style=\"text-align: right;\">0.00</td><td style=\"text-align: right;\">5</td><td style=\"text-align: right;\">2.12</td><td style=\"text-align: right;\">0</td><td style=\"text-align: right;\">0.00</td><td style=\"text-align: right;\">11</td><td style=\"text-align: right;\">3.22</td><td style=\"text-align: right;\">1</td><td style=\"text-align: right;\">0.81</td><td style=\"text-align: right;\">0</td><td style=\"text-align: right;\">0.00</td></tr>\n",
       "<tr><td style=\"text-align: right;\">353240</td><td style=\"text-align: right;\">135,757,320</td><td style=\"text-align: right;\">20,184</td><td style=\"text-align: right;\">13</td><td style=\"text-align: right;\">1696</td><td style=\"text-align: right;\">0.01</td><td style=\"text-align: right;\">17</td><td style=\"text-align: right;\">1.00</td><td style=\"text-align: right;\">0</td><td style=\"text-align: right;\">0.00</td><td style=\"text-align: right;\">0</td><td style=\"text-align: right;\">0.00</td><td style=\"text-align: right;\">5</td><td style=\"text-align: right;\">2.12</td><td style=\"text-align: right;\">0</td><td style=\"text-align: right;\">0.00</td><td style=\"text-align: right;\">11</td><td style=\"text-align: right;\">3.22</td><td style=\"text-align: right;\">1</td><td style=\"text-align: right;\">0.81</td><td style=\"text-align: right;\">0</td><td style=\"text-align: right;\">0.00</td></tr>\n",
       "<tr class=\"even\"><td style=\"text-align: right;\">354130</td><td style=\"text-align: right;\">136,653,925</td><td style=\"text-align: right;\">107,928</td><td style=\"text-align: right;\">24</td><td style=\"text-align: right;\">1504</td><td style=\"text-align: right;\">0.01</td><td style=\"text-align: right;\">17</td><td style=\"text-align: right;\">1.00</td><td style=\"text-align: right;\">0</td><td style=\"text-align: right;\">0.00</td><td style=\"text-align: right;\">0</td><td style=\"text-align: right;\">0.00</td><td style=\"text-align: right;\">5</td><td style=\"text-align: right;\">2.12</td><td style=\"text-align: right;\">0</td><td style=\"text-align: right;\">0.00</td><td style=\"text-align: right;\">11</td><td style=\"text-align: right;\">3.22</td><td style=\"text-align: right;\">1</td><td style=\"text-align: right;\">0.81</td><td style=\"text-align: right;\">0</td><td style=\"text-align: right;\">0.00</td></tr>\n",
       "<tr><td style=\"text-align: right;\">353925</td><td style=\"text-align: right;\">136,506,375</td><td style=\"text-align: right;\">32,564</td><td style=\"text-align: right;\">4</td><td style=\"text-align: right;\">1442</td><td style=\"text-align: right;\">0.01</td><td style=\"text-align: right;\">17</td><td style=\"text-align: right;\">1.00</td><td style=\"text-align: right;\">0</td><td style=\"text-align: right;\">0.00</td><td style=\"text-align: right;\">0</td><td style=\"text-align: right;\">0.00</td><td style=\"text-align: right;\">5</td><td style=\"text-align: right;\">2.12</td><td style=\"text-align: right;\">0</td><td style=\"text-align: right;\">0.00</td><td style=\"text-align: right;\">11</td><td style=\"text-align: right;\">3.22</td><td style=\"text-align: right;\">1</td><td style=\"text-align: right;\">0.81</td><td style=\"text-align: right;\">0</td><td style=\"text-align: right;\">0.00</td></tr>\n",
       "<tr class=\"even\"><td style=\"text-align: right;\">353791</td><td style=\"text-align: right;\">136,393,658</td><td style=\"text-align: right;\">92,684</td><td style=\"text-align: right;\">32</td><td style=\"text-align: right;\">1361</td><td style=\"text-align: right;\">0.01</td><td style=\"text-align: right;\">17</td><td style=\"text-align: right;\">1.00</td><td style=\"text-align: right;\">0</td><td style=\"text-align: right;\">0.00</td><td style=\"text-align: right;\">0</td><td style=\"text-align: right;\">0.00</td><td style=\"text-align: right;\">5</td><td style=\"text-align: right;\">2.12</td><td style=\"text-align: right;\">0</td><td style=\"text-align: right;\">0.00</td><td style=\"text-align: right;\">11</td><td style=\"text-align: right;\">3.22</td><td style=\"text-align: right;\">1</td><td style=\"text-align: right;\">0.81</td><td style=\"text-align: right;\">0</td><td style=\"text-align: right;\">0.00</td></tr>\n",
       "<tr><td style=\"text-align: right;\">353958</td><td style=\"text-align: right;\">136,535,876</td><td style=\"text-align: right;\">19,014</td><td style=\"text-align: right;\">7</td><td style=\"text-align: right;\">1303</td><td style=\"text-align: right;\">0.01</td><td style=\"text-align: right;\">17</td><td style=\"text-align: right;\">1.00</td><td style=\"text-align: right;\">0</td><td style=\"text-align: right;\">0.00</td><td style=\"text-align: right;\">0</td><td style=\"text-align: right;\">0.00</td><td style=\"text-align: right;\">5</td><td style=\"text-align: right;\">2.12</td><td style=\"text-align: right;\">0</td><td style=\"text-align: right;\">0.00</td><td style=\"text-align: right;\">11</td><td style=\"text-align: right;\">3.22</td><td style=\"text-align: right;\">1</td><td style=\"text-align: right;\">0.81</td><td style=\"text-align: right;\">0</td><td style=\"text-align: right;\">0.00</td></tr>\n",
       "<tr class=\"even\"><td style=\"text-align: right;\">354129</td><td style=\"text-align: right;\">136,652,953</td><td style=\"text-align: right;\">108,222</td><td style=\"text-align: right;\">5</td><td style=\"text-align: right;\">1296</td><td style=\"text-align: right;\">0.01</td><td style=\"text-align: right;\">17</td><td style=\"text-align: right;\">1.00</td><td style=\"text-align: right;\">0</td><td style=\"text-align: right;\">0.00</td><td style=\"text-align: right;\">0</td><td style=\"text-align: right;\">0.00</td><td style=\"text-align: right;\">5</td><td style=\"text-align: right;\">2.12</td><td style=\"text-align: right;\">0</td><td style=\"text-align: right;\">0.00</td><td style=\"text-align: right;\">11</td><td style=\"text-align: right;\">3.22</td><td style=\"text-align: right;\">1</td><td style=\"text-align: right;\">0.81</td><td style=\"text-align: right;\">0</td><td style=\"text-align: right;\">0.00</td></tr>\n",
       "<tr><td style=\"text-align: right;\">353919</td><td style=\"text-align: right;\">136,500,475</td><td style=\"text-align: right;\">42,085</td><td style=\"text-align: right;\">13</td><td style=\"text-align: right;\">1227</td><td style=\"text-align: right;\">0.01</td><td style=\"text-align: right;\">16</td><td style=\"text-align: right;\">0.94</td><td style=\"text-align: right;\">0</td><td style=\"text-align: right;\">0.00</td><td style=\"text-align: right;\">0</td><td style=\"text-align: right;\">0.00</td><td style=\"text-align: right;\">5</td><td style=\"text-align: right;\">2.26</td><td style=\"text-align: right;\">0</td><td style=\"text-align: right;\">0.00</td><td style=\"text-align: right;\">11</td><td style=\"text-align: right;\">3.42</td><td style=\"text-align: right;\">0</td><td style=\"text-align: right;\">0.00</td><td style=\"text-align: right;\">0</td><td style=\"text-align: right;\">0.00</td></tr>\n",
       "<tr class=\"even\"><td style=\"text-align: right;\">354127</td><td style=\"text-align: right;\">136,652,491</td><td style=\"text-align: right;\">80,281</td><td style=\"text-align: right;\">6</td><td style=\"text-align: right;\">1114</td><td style=\"text-align: right;\">0.02</td><td style=\"text-align: right;\">17</td><td style=\"text-align: right;\">1.00</td><td style=\"text-align: right;\">0</td><td style=\"text-align: right;\">0.00</td><td style=\"text-align: right;\">0</td><td style=\"text-align: right;\">0.00</td><td style=\"text-align: right;\">5</td><td style=\"text-align: right;\">2.12</td><td style=\"text-align: right;\">0</td><td style=\"text-align: right;\">0.00</td><td style=\"text-align: right;\">11</td><td style=\"text-align: right;\">3.22</td><td style=\"text-align: right;\">1</td><td style=\"text-align: right;\">0.81</td><td style=\"text-align: right;\">0</td><td style=\"text-align: right;\">0.00</td></tr>\n",
       "<tr><td style=\"text-align: right;\">353372</td><td style=\"text-align: right;\">135,829,592</td><td style=\"text-align: right;\">591,316</td><td style=\"text-align: right;\">9</td><td style=\"text-align: right;\">944</td><td style=\"text-align: right;\">0.02</td><td style=\"text-align: right;\">17</td><td style=\"text-align: right;\">1.00</td><td style=\"text-align: right;\">0</td><td style=\"text-align: right;\">0.00</td><td style=\"text-align: right;\">0</td><td style=\"text-align: right;\">0.00</td><td style=\"text-align: right;\">5</td><td style=\"text-align: right;\">2.12</td><td style=\"text-align: right;\">0</td><td style=\"text-align: right;\">0.00</td><td style=\"text-align: right;\">11</td><td style=\"text-align: right;\">3.22</td><td style=\"text-align: right;\">1</td><td style=\"text-align: right;\">0.81</td><td style=\"text-align: right;\">0</td><td style=\"text-align: right;\">0.00</td></tr>\n",
       "<tr class=\"even\"><td style=\"text-align: right;\">353902</td><td style=\"text-align: right;\">136,494,985</td><td style=\"text-align: right;\">278,653</td><td style=\"text-align: right;\">81</td><td style=\"text-align: right;\">857</td><td style=\"text-align: right;\">0.02</td><td style=\"text-align: right;\">17</td><td style=\"text-align: right;\">1.00</td><td style=\"text-align: right;\">0</td><td style=\"text-align: right;\">0.00</td><td style=\"text-align: right;\">0</td><td style=\"text-align: right;\">0.00</td><td style=\"text-align: right;\">5</td><td style=\"text-align: right;\">2.12</td><td style=\"text-align: right;\">0</td><td style=\"text-align: right;\">0.00</td><td style=\"text-align: right;\">11</td><td style=\"text-align: right;\">3.22</td><td style=\"text-align: right;\">1</td><td style=\"text-align: right;\">0.81</td><td style=\"text-align: right;\">0</td><td style=\"text-align: right;\">0.00</td></tr>\n",
       "<tr><td style=\"text-align: right;\">353467</td><td style=\"text-align: right;\">135,920,394</td><td style=\"text-align: right;\">608,562</td><td style=\"text-align: right;\">5</td><td style=\"text-align: right;\">17</td><td style=\"text-align: right;\">1.00</td><td style=\"text-align: right;\">17</td><td style=\"text-align: right;\">1.00</td><td style=\"text-align: right;\">0</td><td style=\"text-align: right;\">0.00</td><td style=\"text-align: right;\">0</td><td style=\"text-align: right;\">0.00</td><td style=\"text-align: right;\">5</td><td style=\"text-align: right;\">2.12</td><td style=\"text-align: right;\">0</td><td style=\"text-align: right;\">0.00</td><td style=\"text-align: right;\">11</td><td style=\"text-align: right;\">3.22</td><td style=\"text-align: right;\">1</td><td style=\"text-align: right;\">0.81</td><td style=\"text-align: right;\">0</td><td style=\"text-align: right;\">0.00</td></tr>\n",
       "</table>"
      ],
      "text/plain": [
       "<IPython.core.display.HTML object>"
      ]
     },
     "execution_count": 23,
     "metadata": {},
     "output_type": "execute_result"
    }
   ],
   "source": [
    "HTML(plt_obj.get_html())"
   ]
  },
  {
   "cell_type": "markdown",
   "metadata": {},
   "source": [
    "<div style=\"width:700px\">\n",
    "<p>\n",
    "This plot shows the hierarchy selected by the series 4_26.  The samples that express\n",
    "it include 13 European, 8 South Asian, and 5 American\n",
    "</div>"
   ]
  },
  {
   "cell_type": "code",
   "execution_count": 24,
   "metadata": {
    "collapsed": false
   },
   "outputs": [
    {
     "data": {
      "text/html": [
       "\n",
       "\n",
       "    <div class=\"bk-root\">\n",
       "        <div class=\"plotdiv\" id=\"39a973f8-da4b-4177-bb5c-f84ccf626da9\"></div>\n",
       "    </div>\n",
       "<script type=\"text/javascript\">\n",
       "  \n",
       "  (function(global) {\n",
       "    function now() {\n",
       "      return new Date();\n",
       "    }\n",
       "  \n",
       "    if (typeof (window._bokeh_onload_callbacks) === \"undefined\") {\n",
       "      window._bokeh_onload_callbacks = [];\n",
       "    }\n",
       "  \n",
       "    function run_callbacks() {\n",
       "      window._bokeh_onload_callbacks.forEach(function(callback) { callback() });\n",
       "      delete window._bokeh_onload_callbacks\n",
       "      console.info(\"Bokeh: all callbacks have finished\");\n",
       "    }\n",
       "  \n",
       "    function load_libs(js_urls, callback) {\n",
       "      window._bokeh_onload_callbacks.push(callback);\n",
       "      if (window._bokeh_is_loading > 0) {\n",
       "        console.log(\"Bokeh: BokehJS is being loaded, scheduling callback at\", now());\n",
       "        return null;\n",
       "      }\n",
       "      if (js_urls == null || js_urls.length === 0) {\n",
       "        run_callbacks();\n",
       "        return null;\n",
       "      }\n",
       "      console.log(\"Bokeh: BokehJS not loaded, scheduling load and callback at\", now());\n",
       "      window._bokeh_is_loading = js_urls.length;\n",
       "      for (var i = 0; i < js_urls.length; i++) {\n",
       "        var url = js_urls[i];\n",
       "        var s = document.createElement('script');\n",
       "        s.src = url;\n",
       "        s.async = false;\n",
       "        s.onreadystatechange = s.onload = function() {\n",
       "          window._bokeh_is_loading--;\n",
       "          if (window._bokeh_is_loading === 0) {\n",
       "            console.log(\"Bokeh: all BokehJS libraries loaded\");\n",
       "            run_callbacks()\n",
       "          }\n",
       "        };\n",
       "        s.onerror = function() {\n",
       "          console.warn(\"failed to load library \" + url);\n",
       "        };\n",
       "        console.log(\"Bokeh: injecting script tag for BokehJS library: \", url);\n",
       "        document.getElementsByTagName(\"head\")[0].appendChild(s);\n",
       "      }\n",
       "    };var element = document.getElementById(\"39a973f8-da4b-4177-bb5c-f84ccf626da9\");\n",
       "    if (element == null) {\n",
       "      console.log(\"Bokeh: ERROR: autoload.js configured with elementid '39a973f8-da4b-4177-bb5c-f84ccf626da9' but no matching script tag was found. \")\n",
       "      return false;\n",
       "    }\n",
       "  \n",
       "    var js_urls = [];\n",
       "  \n",
       "    var inline_js = [\n",
       "      function(Bokeh) {\n",
       "        Bokeh.$(function() {\n",
       "            var docs_json = {\"cacee755-44de-4fb2-86ce-b605eea1c14c\":{\"roots\":{\"references\":[{\"attributes\":{\"data_source\":{\"id\":\"9e3dff6e-1f1d-4934-96c6-8ea258e00aac\",\"type\":\"ColumnDataSource\"},\"glyph\":{\"id\":\"4ebb13ba-716c-4226-b9e2-6d7e2548e164\",\"type\":\"Quad\"},\"hover_glyph\":null,\"nonselection_glyph\":{\"id\":\"b365e921-28b1-46c1-ac7c-d0c35610fde2\",\"type\":\"Quad\"},\"selection_glyph\":null},\"id\":\"9a18d9b8-400f-4859-a662-dda65d777be1\",\"type\":\"GlyphRenderer\"},{\"attributes\":{\"bottom\":{\"field\":\"bottom\"},\"fill_alpha\":{\"value\":0.1},\"fill_color\":{\"value\":\"#1f77b4\"},\"left\":{\"field\":\"left\"},\"line_alpha\":{\"value\":0.1},\"line_color\":{\"value\":\"#1f77b4\"},\"right\":{\"field\":\"right\"},\"top\":{\"field\":\"top\"}},\"id\":\"b365e921-28b1-46c1-ac7c-d0c35610fde2\",\"type\":\"Quad\"},{\"attributes\":{\"callback\":null,\"end\":136786630,\"start\":135757320},\"id\":\"213ee76f-f329-487d-a5e4-a641cbd03535\",\"type\":\"Range1d\"},{\"attributes\":{\"callback\":null,\"column_names\":[\"y\",\"x\",\"vals\"],\"data\":{\"vals\":[\"13_1696\",\"9_944\",\"32_1361\",\"81_857\",\"13_1227\",\"4_1442\",\"7_1303\",\"7_1760\",\"4_26\",\"6_1114\",\"5_1296\",\"24_1504\"],\"x\":[135757320,135829592,136393658,136494985,136500475,136506375,136535876,136588031,136648736,136652491,136652953,136653925],\"y\":[601.0,196.0,499.0,195.0,298.0,499.0,399.0,601.0,65.0,297.0,399.0,600.0]}},\"id\":\"72e9c63a-138f-4bb9-ad24-6d5c9c4b015a\",\"type\":\"ColumnDataSource\"},{\"attributes\":{},\"id\":\"35ef9605-9df3-4f5f-93ef-cb0d725e8f8b\",\"type\":\"BasicTicker\"},{\"attributes\":{\"below\":[{\"id\":\"6577ed6b-2b60-4bf1-a1b5-1ada54feb8ca\",\"type\":\"LinearAxis\"}],\"left\":[{\"id\":\"ae225e32-2202-4e49-ad01-afe79d907cd8\",\"type\":\"LinearAxis\"}],\"plot_height\":700,\"plot_width\":900,\"renderers\":[{\"id\":\"6577ed6b-2b60-4bf1-a1b5-1ada54feb8ca\",\"type\":\"LinearAxis\"},{\"id\":\"4247a92f-79dd-47a0-aef9-e13920b23313\",\"type\":\"Grid\"},{\"id\":\"ae225e32-2202-4e49-ad01-afe79d907cd8\",\"type\":\"LinearAxis\"},{\"id\":\"51e19091-0fbc-4f8d-b453-5ce2691093e3\",\"type\":\"Grid\"},{\"id\":\"931e6b3f-c296-4d5c-af10-8820493c5499\",\"type\":\"BoxAnnotation\"},{\"id\":\"9a18d9b8-400f-4859-a662-dda65d777be1\",\"type\":\"GlyphRenderer\"},{\"id\":\"13052c3c-6ef0-434e-b9b2-748dae4985d0\",\"type\":\"GlyphRenderer\"},{\"id\":\"129be380-9bbc-4e43-9533-78acd3c6bdc9\",\"type\":\"LabelSet\"},{\"id\":\"d443175a-7242-47b5-bb61-6a43bd912626\",\"type\":\"GlyphRenderer\"},{\"id\":\"8ec99364-6e2b-4b66-a35e-4b903ba65d7d\",\"type\":\"LabelSet\"}],\"title\":{\"id\":\"f0c2a58c-487a-4a7d-9ca4-375dcbc263c6\",\"type\":\"Title\"},\"tool_events\":{\"id\":\"ca73c4dd-0917-4b3b-a1e7-ac94d51bcd84\",\"type\":\"ToolEvents\"},\"toolbar\":{\"id\":\"188fc457-1e62-4128-b337-450d1d43856f\",\"type\":\"Toolbar\"},\"toolbar_location\":null,\"x_range\":{\"id\":\"213ee76f-f329-487d-a5e4-a641cbd03535\",\"type\":\"Range1d\"},\"y_range\":{\"id\":\"4717b4ae-7603-43c9-8bcd-c559fd0e80e0\",\"type\":\"Range1d\"}},\"id\":\"c4860e68-ceb3-401a-a6ca-33901718489e\",\"subtype\":\"Figure\",\"type\":\"Plot\"},{\"attributes\":{\"active_drag\":\"auto\",\"active_scroll\":\"auto\",\"active_tap\":\"auto\",\"tools\":[{\"id\":\"7a65ac9f-4c7b-457a-9b64-f0e1a5a491b1\",\"type\":\"PanTool\"},{\"id\":\"737c2bf8-493a-492e-a6ea-77721a143289\",\"type\":\"WheelZoomTool\"},{\"id\":\"077192be-d5cb-4001-a590-de845d82d0fc\",\"type\":\"BoxZoomTool\"},{\"id\":\"1c3d38ee-d3ea-4f1e-b2ca-1df1c57af5cc\",\"type\":\"SaveTool\"},{\"id\":\"cf4eb7c5-c6ef-44d3-b66d-332563308a6d\",\"type\":\"ResetTool\"},{\"id\":\"88980516-5c99-48c5-8294-d31f75565aba\",\"type\":\"HelpTool\"}]},\"id\":\"188fc457-1e62-4128-b337-450d1d43856f\",\"type\":\"Toolbar\"},{\"attributes\":{\"plot\":{\"id\":\"c4860e68-ceb3-401a-a6ca-33901718489e\",\"subtype\":\"Figure\",\"type\":\"Plot\"}},\"id\":\"1c3d38ee-d3ea-4f1e-b2ca-1df1c57af5cc\",\"type\":\"SaveTool\"},{\"attributes\":{\"plot\":{\"id\":\"c4860e68-ceb3-401a-a6ca-33901718489e\",\"subtype\":\"Figure\",\"type\":\"Plot\"}},\"id\":\"88980516-5c99-48c5-8294-d31f75565aba\",\"type\":\"HelpTool\"},{\"attributes\":{\"bottom\":{\"field\":\"bottom\"},\"fill_color\":{\"value\":\"white\"},\"left\":{\"field\":\"left\"},\"right\":{\"field\":\"right\"},\"top\":{\"field\":\"top\"}},\"id\":\"ce162218-b033-4c20-af5e-0fa60409ed85\",\"type\":\"Quad\"},{\"attributes\":{},\"id\":\"3740d5ec-ffe1-4a7a-8481-8ff4a5e56f9d\",\"type\":\"BasicTickFormatter\"},{\"attributes\":{\"callback\":null,\"column_names\":[\"right\",\"bottom\",\"top\",\"left\",\"fill_color\"],\"data\":{\"bottom\":[550,150,450,150,250,450,350,550,50,250,350,550],\"fill_color\":[\"#808080\",\"#c4c461\",\"#c4c461\",\"#808080\",\"#808080\",\"#808080\",\"#808080\",\"#c46161\",\"#61c461\",\"#808080\",\"#808080\",\"#808080\"],\"left\":[135757320,135829592,136393658,136494985,136500475,136506375,136535876,136588031,136648736,136652491,136652953,136653925],\"right\":[135777504,136420908,136486342,136773638,136542560,136538939,136554890,136593678,136762850,136732772,136761175,136761853],\"top\":[596,191,494,190,293,494,394,596,60,292,394,595]}},\"id\":\"9e3dff6e-1f1d-4934-96c6-8ea258e00aac\",\"type\":\"ColumnDataSource\"},{\"attributes\":{\"plot\":{\"id\":\"c4860e68-ceb3-401a-a6ca-33901718489e\",\"subtype\":\"Figure\",\"type\":\"Plot\"}},\"id\":\"7a65ac9f-4c7b-457a-9b64-f0e1a5a491b1\",\"type\":\"PanTool\"},{\"attributes\":{},\"id\":\"2a64bf03-55cd-4768-ac74-296f013e5a0f\",\"type\":\"BasicTicker\"},{\"attributes\":{\"callback\":null,\"end\":700},\"id\":\"4717b4ae-7603-43c9-8bcd-c559fd0e80e0\",\"type\":\"Range1d\"},{\"attributes\":{},\"id\":\"ca73c4dd-0917-4b3b-a1e7-ac94d51bcd84\",\"type\":\"ToolEvents\"},{\"attributes\":{\"line_color\":{\"field\":\"line_color\"},\"xs\":{\"field\":\"xs\"},\"ys\":{\"field\":\"ys\"}},\"id\":\"7249059d-112b-42b0-b773-71ef5baeb26c\",\"type\":\"MultiLine\"},{\"attributes\":{},\"id\":\"09fc87ee-fd06-4172-8d04-5c32f83d0ef0\",\"type\":\"BasicTickFormatter\"},{\"attributes\":{\"level\":\"glyph\",\"plot\":{\"id\":\"c4860e68-ceb3-401a-a6ca-33901718489e\",\"subtype\":\"Figure\",\"type\":\"Plot\"},\"source\":{\"id\":\"72e9c63a-138f-4bb9-ad24-6d5c9c4b015a\",\"type\":\"ColumnDataSource\"},\"text\":{\"field\":\"vals\"},\"text_font_size\":{\"value\":\"9pt\"},\"text_font_style\":\"bold\",\"x\":{\"field\":\"x\"},\"y\":{\"field\":\"y\"}},\"id\":\"129be380-9bbc-4e43-9533-78acd3c6bdc9\",\"type\":\"LabelSet\"},{\"attributes\":{\"data_source\":{\"id\":\"8200077b-abad-4017-b52f-51a5cd5b4b8e\",\"type\":\"ColumnDataSource\"},\"glyph\":{\"id\":\"ce162218-b033-4c20-af5e-0fa60409ed85\",\"type\":\"Quad\"},\"hover_glyph\":null,\"nonselection_glyph\":{\"id\":\"9c04b915-06b4-49c7-b0bb-5506b7d4a6c0\",\"type\":\"Quad\"},\"selection_glyph\":null},\"id\":\"d443175a-7242-47b5-bb61-6a43bd912626\",\"type\":\"GlyphRenderer\"},{\"attributes\":{\"bottom\":{\"field\":\"bottom\"},\"fill_color\":{\"field\":\"fill_color\"},\"left\":{\"field\":\"left\"},\"line_color\":{\"value\":null},\"right\":{\"field\":\"right\"},\"top\":{\"field\":\"top\"}},\"id\":\"4ebb13ba-716c-4226-b9e2-6d7e2548e164\",\"type\":\"Quad\"},{\"attributes\":{\"plot\":{\"id\":\"c4860e68-ceb3-401a-a6ca-33901718489e\",\"subtype\":\"Figure\",\"type\":\"Plot\"}},\"id\":\"cf4eb7c5-c6ef-44d3-b66d-332563308a6d\",\"type\":\"ResetTool\"},{\"attributes\":{\"bottom\":{\"field\":\"bottom\"},\"fill_alpha\":{\"value\":0.1},\"fill_color\":{\"value\":\"#1f77b4\"},\"left\":{\"field\":\"left\"},\"line_alpha\":{\"value\":0.1},\"line_color\":{\"value\":\"#1f77b4\"},\"right\":{\"field\":\"right\"},\"top\":{\"field\":\"top\"}},\"id\":\"9c04b915-06b4-49c7-b0bb-5506b7d4a6c0\",\"type\":\"Quad\"},{\"attributes\":{\"formatter\":{\"id\":\"09fc87ee-fd06-4172-8d04-5c32f83d0ef0\",\"type\":\"BasicTickFormatter\"},\"plot\":{\"id\":\"c4860e68-ceb3-401a-a6ca-33901718489e\",\"subtype\":\"Figure\",\"type\":\"Plot\"},\"ticker\":{\"id\":\"35ef9605-9df3-4f5f-93ef-cb0d725e8f8b\",\"type\":\"BasicTicker\"}},\"id\":\"6577ed6b-2b60-4bf1-a1b5-1ada54feb8ca\",\"type\":\"LinearAxis\"},{\"attributes\":{\"plot\":{\"id\":\"c4860e68-ceb3-401a-a6ca-33901718489e\",\"subtype\":\"Figure\",\"type\":\"Plot\"},\"ticker\":{\"id\":\"35ef9605-9df3-4f5f-93ef-cb0d725e8f8b\",\"type\":\"BasicTicker\"}},\"id\":\"4247a92f-79dd-47a0-aef9-e13920b23313\",\"type\":\"Grid\"},{\"attributes\":{\"callback\":null,\"column_names\":[\"xs\",\"ys\",\"line_color\"],\"data\":{\"line_color\":[\"black\",\"black\",\"black\",\"black\",\"black\",\"black\",\"black\",\"black\",\"black\",\"black\",\"black\",\"black\",\"black\",\"black\",\"black\",\"black\",\"black\",\"black\",\"black\",\"black\",\"black\",\"black\",\"black\",\"black\",\"black\",\"black\",\"black\",\"black\",\"black\",\"black\",\"black\",\"black\",\"black\",\"black\",\"black\",\"black\",\"black\",\"black\",\"black\",\"black\",\"black\",\"black\",\"black\",\"black\",\"black\",\"black\",\"black\",\"black\",\"black\",\"black\",\"black\",\"black\",\"black\",\"black\",\"black\",\"black\",\"black\",\"black\",\"black\",\"black\",\"black\",\"black\",\"black\",\"black\",\"black\",\"black\",\"black\",\"black\",\"black\",\"black\",\"black\",\"black\",\"black\",\"black\",\"black\",\"black\",\"black\",\"black\",\"black\",\"black\",\"black\",\"black\",\"black\",\"black\",\"black\",\"black\",\"black\",\"black\",\"black\",\"black\",\"black\",\"black\",\"black\",\"black\",\"black\",\"black\",\"black\",\"black\",\"black\",\"black\",\"black\",\"black\",\"black\",\"black\",\"black\",\"black\",\"black\",\"black\",\"black\",\"black\",\"black\",\"black\",\"black\",\"black\",\"black\",\"black\",\"black\",\"black\",\"black\",\"black\",\"black\",\"black\",\"black\",\"black\",\"black\",\"black\",\"black\",\"black\",\"black\",\"black\",\"black\",\"black\",\"black\",\"black\",\"black\",\"black\",\"black\",\"black\",\"black\",\"black\",\"black\",\"black\",\"black\",\"black\",\"black\",\"black\",\"black\",\"black\",\"black\",\"black\",\"black\",\"black\",\"black\",\"black\",\"black\",\"black\",\"black\",\"black\",\"black\",\"black\",\"black\",\"black\",\"black\",\"black\",\"black\",\"black\",\"black\",\"black\",\"black\",\"black\",\"black\",\"black\",\"black\",\"black\",\"black\",\"black\",\"black\",\"black\",\"black\",\"black\",\"black\",\"black\",\"black\",\"black\",\"black\",\"black\",\"black\",\"black\",\"black\",\"black\",\"black\",\"black\",\"black\",\"black\",\"black\",\"black\",\"black\",\"black\",\"black\",\"black\",\"black\",\"black\",\"black\",\"black\",\"black\"],\"xs\":[[135757320,135757320],[135761078,135761078],[135761271,135761271],[135762344,135762344],[135762980,135762980],[135763280,135763280],[135768815,135768815],[135769093,135769093],[135769127,135769127],[135770940,135770940],[135770951,135770951],[135776728,135776728],[135777504,135777504],[135829592,135829592],[135893372,135893372],[135952405,135952405],[135989721,135989721],[136136056,136136056],[136313639,136313639],[136401418,136401418],[136407078,136407078],[136420908,136420908],[136393658,136393658],[136396300,136396300],[136401843,136401843],[136407445,136407445],[136411879,136411879],[136412270,136412270],[136413244,136413244],[136413847,136413847],[136415217,136415217],[136416533,136416533],[136420726,136420726],[136429857,136429857],[136433740,136433740],[136436317,136436317],[136437615,136437615],[136438517,136438517],[136440300,136440300],[136443900,136443900],[136444185,136444185],[136444338,136444338],[136449254,136449254],[136451676,136451676],[136459227,136459227],[136463117,136463117],[136463454,136463454],[136467119,136467119],[136468238,136468238],[136470219,136470219],[136483355,136483355],[136485276,136485276],[136486340,136486340],[136486342,136486342],[136494985,136494985],[136497199,136497199],[136511817,136511817],[136513670,136513670],[136515458,136515458],[136516970,136516970],[136525309,136525309],[136528034,136528034],[136532225,136532225],[136535235,136535235],[136536095,136536095],[136544423,136544423],[136546927,136546927],[136552188,136552188],[136552517,136552517],[136555525,136555525],[136556480,136556480],[136560464,136560464],[136572285,136572285],[136582694,136582694],[136582809,136582809],[136584538,136584538],[136585323,136585323],[136586825,136586825],[136600662,136600662],[136612036,136612036],[136618178,136618178],[136618507,136618507],[136622543,136622543],[136624947,136624947],[136625113,136625113],[136626078,136626078],[136628121,136628121],[136632300,136632300],[136633962,136633962],[136635343,136635343],[136638113,136638113],[136640101,136640101],[136641593,136641593],[136646582,136646582],[136648077,136648077],[136648883,136648883],[136652045,136652045],[136653848,136653848],[136656094,136656094],[136661110,136661110],[136663110,136663110],[136663605,136663605],[136665162,136665162],[136665711,136665711],[136668123,136668123],[136670419,136670419],[136672680,136672680],[136673546,136673546],[136684632,136684632],[136686114,136686114],[136690425,136690425],[136690783,136690783],[136692893,136692893],[136694905,136694905],[136695694,136695694],[136695705,136695705],[136696608,136696608],[136697372,136697372],[136697468,136697468],[136700024,136700024],[136701539,136701539],[136702118,136702118],[136707480,136707480],[136710554,136710554],[136714178,136714178],[136719173,136719173],[136725459,136725459],[136734569,136734569],[136744678,136744678],[136748779,136748779],[136751488,136751488],[136754183,136754183],[136763242,136763242],[136765074,136765074],[136773638,136773638],[136500475,136500475],[136501509,136501509],[136504101,136504101],[136509868,136509868],[136520043,136520043],[136527120,136527120],[136530379,136530379],[136530443,136530443],[136539330,136539330],[136539670,136539670],[136540083,136540083],[136542559,136542559],[136542560,136542560],[136506375,136506375],[136506927,136506927],[136510012,136510012],[136538939,136538939],[136535876,136535876],[136544651,136544651],[136545844,136545844],[136552526,136552526],[136553022,136553022],[136554797,136554797],[136554890,136554890],[136588031,136588031],[136589278,136589278],[136589379,136589379],[136589741,136589741],[136590746,136590746],[136593553,136593553],[136593678,136593678],[136648736,136648736],[136705399,136705399],[136715023,136715023],[136762850,136762850],[136652491,136652491],[136652524,136652524],[136661150,136661150],[136669264,136669264],[136726567,136726567],[136732772,136732772],[136652953,136652953],[136655582,136655582],[136674028,136674028],[136684940,136684940],[136761175,136761175],[136653925,136653925],[136654833,136654833],[136656534,136656534],[136656536,136656536],[136657252,136657252],[136667301,136667301],[136667487,136667487],[136672775,136672775],[136680534,136680534],[136686393,136686393],[136688749,136688749],[136692553,136692553],[136697371,136697371],[136708787,136708787],[136710372,136710372],[136711064,136711064],[136715324,136715324],[136723504,136723504],[136737460,136737460],[136743143,136743143],[136746224,136746224],[136751842,136751842],[136759379,136759379],[136761853,136761853]],\"ys\":[[550,596],[550,596],[550,596],[550,596],[550,596],[550,596],[550,596],[550,596],[550,596],[550,596],[550,596],[550,596],[550,596],[150,191],[150,191],[150,191],[150,191],[150,191],[150,191],[150,191],[150,191],[150,191],[450,494],[450,494],[450,494],[450,494],[450,494],[450,494],[450,494],[450,494],[450,494],[450,494],[450,494],[450,494],[450,494],[450,494],[450,494],[450,494],[450,494],[450,494],[450,494],[450,494],[450,494],[450,494],[450,494],[450,494],[450,494],[450,494],[450,494],[450,494],[450,494],[450,494],[450,494],[450,494],[150,190],[150,190],[150,190],[150,190],[150,190],[150,190],[150,190],[150,190],[150,190],[150,190],[150,190],[150,190],[150,190],[150,190],[150,190],[150,190],[150,190],[150,190],[150,190],[150,190],[150,190],[150,190],[150,190],[150,190],[150,190],[150,190],[150,190],[150,190],[150,190],[150,190],[150,190],[150,190],[150,190],[150,190],[150,190],[150,190],[150,190],[150,190],[150,190],[150,190],[150,190],[150,190],[150,190],[150,190],[150,190],[150,190],[150,190],[150,190],[150,190],[150,190],[150,190],[150,190],[150,190],[150,190],[150,190],[150,190],[150,190],[150,190],[150,190],[150,190],[150,190],[150,190],[150,190],[150,190],[150,190],[150,190],[150,190],[150,190],[150,190],[150,190],[150,190],[150,190],[150,190],[150,190],[150,190],[150,190],[150,190],[150,190],[150,190],[150,190],[150,190],[250,293],[250,293],[250,293],[250,293],[250,293],[250,293],[250,293],[250,293],[250,293],[250,293],[250,293],[250,293],[250,293],[450,494],[450,494],[450,494],[450,494],[350,394],[350,394],[350,394],[350,394],[350,394],[350,394],[350,394],[550,596],[550,596],[550,596],[550,596],[550,596],[550,596],[550,596],[50,60],[50,60],[50,60],[50,60],[250,292],[250,292],[250,292],[250,292],[250,292],[250,292],[350,394],[350,394],[350,394],[350,394],[350,394],[550,595],[550,595],[550,595],[550,595],[550,595],[550,595],[550,595],[550,595],[550,595],[550,595],[550,595],[550,595],[550,595],[550,595],[550,595],[550,595],[550,595],[550,595],[550,595],[550,595],[550,595],[550,595],[550,595],[550,595]]}},\"id\":\"9d0df78b-fd52-4a81-8e62-93db78a33e49\",\"type\":\"ColumnDataSource\"},{\"attributes\":{\"data_source\":{\"id\":\"9d0df78b-fd52-4a81-8e62-93db78a33e49\",\"type\":\"ColumnDataSource\"},\"glyph\":{\"id\":\"7249059d-112b-42b0-b773-71ef5baeb26c\",\"type\":\"MultiLine\"},\"hover_glyph\":null,\"nonselection_glyph\":{\"id\":\"35c68c82-d366-4c95-b1cb-18294454fce6\",\"type\":\"MultiLine\"},\"selection_glyph\":null},\"id\":\"13052c3c-6ef0-434e-b9b2-748dae4985d0\",\"type\":\"GlyphRenderer\"},{\"attributes\":{\"callback\":null,\"column_names\":[\"y\",\"x\",\"vals\"],\"data\":{\"vals\":[\"RAB3GAP1\",\"ZRANB3\",\"R3HDM1\",\"UBXN4\",\"LCT\",\"MCM6\",\"DARS\"],\"x\":[135869057.0,136122878.0,136385961.0,136520911.0,136570082.5,136615621.5,136703738.0],\"y\":[660.0,660.0,660.0,660.0,660.0,660.0,660.0]}},\"id\":\"1819fcc8-7054-42ad-a1c8-0f07c131454d\",\"type\":\"ColumnDataSource\"},{\"attributes\":{\"plot\":{\"id\":\"c4860e68-ceb3-401a-a6ca-33901718489e\",\"subtype\":\"Figure\",\"type\":\"Plot\"}},\"id\":\"737c2bf8-493a-492e-a6ea-77721a143289\",\"type\":\"WheelZoomTool\"},{\"attributes\":{\"overlay\":{\"id\":\"931e6b3f-c296-4d5c-af10-8820493c5499\",\"type\":\"BoxAnnotation\"},\"plot\":{\"id\":\"c4860e68-ceb3-401a-a6ca-33901718489e\",\"subtype\":\"Figure\",\"type\":\"Plot\"}},\"id\":\"077192be-d5cb-4001-a590-de845d82d0fc\",\"type\":\"BoxZoomTool\"},{\"attributes\":{\"plot\":null,\"text\":null},\"id\":\"f0c2a58c-487a-4a7d-9ca4-375dcbc263c6\",\"type\":\"Title\"},{\"attributes\":{\"level\":\"glyph\",\"plot\":{\"id\":\"c4860e68-ceb3-401a-a6ca-33901718489e\",\"subtype\":\"Figure\",\"type\":\"Plot\"},\"source\":{\"id\":\"1819fcc8-7054-42ad-a1c8-0f07c131454d\",\"type\":\"ColumnDataSource\"},\"text\":{\"field\":\"vals\"},\"text_align\":\"center\",\"text_baseline\":\"middle\",\"text_font_size\":{\"value\":\"8pt\"},\"x\":{\"field\":\"x\"},\"y\":{\"field\":\"y\"}},\"id\":\"8ec99364-6e2b-4b66-a35e-4b903ba65d7d\",\"type\":\"LabelSet\"},{\"attributes\":{\"formatter\":{\"id\":\"3740d5ec-ffe1-4a7a-8481-8ff4a5e56f9d\",\"type\":\"BasicTickFormatter\"},\"plot\":{\"id\":\"c4860e68-ceb3-401a-a6ca-33901718489e\",\"subtype\":\"Figure\",\"type\":\"Plot\"},\"ticker\":{\"id\":\"2a64bf03-55cd-4768-ac74-296f013e5a0f\",\"type\":\"BasicTicker\"},\"visible\":null},\"id\":\"ae225e32-2202-4e49-ad01-afe79d907cd8\",\"type\":\"LinearAxis\"},{\"attributes\":{\"dimension\":1,\"plot\":{\"id\":\"c4860e68-ceb3-401a-a6ca-33901718489e\",\"subtype\":\"Figure\",\"type\":\"Plot\"},\"ticker\":{\"id\":\"2a64bf03-55cd-4768-ac74-296f013e5a0f\",\"type\":\"BasicTicker\"}},\"id\":\"51e19091-0fbc-4f8d-b453-5ce2691093e3\",\"type\":\"Grid\"},{\"attributes\":{\"bottom_units\":\"screen\",\"fill_alpha\":{\"value\":0.5},\"fill_color\":{\"value\":\"lightgrey\"},\"left_units\":\"screen\",\"level\":\"overlay\",\"line_alpha\":{\"value\":1.0},\"line_color\":{\"value\":\"black\"},\"line_dash\":[4,4],\"line_width\":{\"value\":2},\"plot\":null,\"render_mode\":\"css\",\"right_units\":\"screen\",\"top_units\":\"screen\"},\"id\":\"931e6b3f-c296-4d5c-af10-8820493c5499\",\"type\":\"BoxAnnotation\"},{\"attributes\":{\"callback\":null,\"column_names\":[\"right\",\"bottom\",\"top\",\"left\"],\"data\":{\"bottom\":[645,645,645,645,645,645,645],\"left\":[135809835,135957574,136289083,136499189,136545415,136597196,136664254],\"right\":[135928279,136288182,136482839,136542633,136594750,136634047,136743222],\"top\":[675,675,675,675,675,675,675]}},\"id\":\"8200077b-abad-4017-b52f-51a5cd5b4b8e\",\"type\":\"ColumnDataSource\"},{\"attributes\":{\"line_alpha\":{\"value\":0.1},\"line_color\":{\"value\":\"#1f77b4\"},\"xs\":{\"field\":\"xs\"},\"ys\":{\"field\":\"ys\"}},\"id\":\"35c68c82-d366-4c95-b1cb-18294454fce6\",\"type\":\"MultiLine\"}],\"root_ids\":[\"c4860e68-ceb3-401a-a6ca-33901718489e\"]},\"title\":\"Bokeh Application\",\"version\":\"0.12.0\"}};\n",
       "            var render_items = [{\"docid\":\"cacee755-44de-4fb2-86ce-b605eea1c14c\",\"elementid\":\"39a973f8-da4b-4177-bb5c-f84ccf626da9\",\"modelid\":\"c4860e68-ceb3-401a-a6ca-33901718489e\",\"notebook_comms_target\":\"3b51d46a-71d8-463c-9467-eed857ac92e3\"}];\n",
       "            \n",
       "            Bokeh.embed.embed_items(docs_json, render_items);\n",
       "        });\n",
       "      },\n",
       "      function(Bokeh) {\n",
       "      }\n",
       "    ];\n",
       "  \n",
       "    function run_inline_js() {\n",
       "      for (var i = 0; i < inline_js.length; i++) {\n",
       "        inline_js[i](window.Bokeh);\n",
       "      }\n",
       "    }\n",
       "  \n",
       "    if (window._bokeh_is_loading === 0) {\n",
       "      console.log(\"Bokeh: BokehJS loaded, going straight to plotting\");\n",
       "      run_inline_js();\n",
       "    } else {\n",
       "      load_libs(js_urls, function() {\n",
       "        console.log(\"Bokeh: BokehJS plotting callback run at\", now());\n",
       "        run_inline_js();\n",
       "      });\n",
       "    }\n",
       "  }(this));\n",
       "</script>"
      ]
     },
     "metadata": {},
     "output_type": "display_data"
    },
    {
     "data": {
      "text/html": [
       "<p><code>&lt;Bokeh Notebook handle for <strong>In[24]</strong>&gt;</code></p>"
      ],
      "text/plain": [
       "<bokeh.io._CommsHandle at 0x7f7cb006ccd0>"
      ]
     },
     "execution_count": 24,
     "metadata": {},
     "output_type": "execute_result"
    }
   ],
   "source": [
    "di_4_26 = 354116\n",
    "plt_obj = dm.superset_yes_no([di_4_26], min_match=0.7)\n",
    "plt = plt_obj.do_plot()\n",
    "show(plt)"
   ]
  },
  {
   "cell_type": "code",
   "execution_count": 25,
   "metadata": {
    "collapsed": false
   },
   "outputs": [
    {
     "data": {
      "text/html": [
       "<table>\n",
       "<thead><tr><th style=\"text-align:center\">index</th><th style=\"text-align:center\">first</th><th style=\"text-align:center\">length</th><th style=\"text-align:center\">snps</th><th style=\"text-align:center\" colspan=2>alleles</th><th style=\"text-align:center\" colspan=2>matches</th><th style=\"text-align:center\" colspan=2>afr</th><th style=\"text-align:center\" colspan=2>afx</th><th style=\"text-align:center\" colspan=2>amr</th><th style=\"text-align:center\" colspan=2>eas</th><th style=\"text-align:center\" colspan=2>eur</th><th style=\"text-align:center\" colspan=2>sas</th><th style=\"text-align:center\" colspan=2>sax</th></tr></thead>\n",
       "<tr class=\"even\"><td style=\"text-align: right;\">354033</td><td style=\"text-align: right;\">136,588,031</td><td style=\"text-align: right;\">5,647</td><td style=\"text-align: right;\">7</td><td style=\"text-align: right;\">1760</td><td style=\"text-align: right;\">0.01</td><td style=\"text-align: right;\">26</td><td style=\"text-align: right;\">1.00</td><td style=\"text-align: right;\">0</td><td style=\"text-align: right;\">0.00</td><td style=\"text-align: right;\">0</td><td style=\"text-align: right;\">0.00</td><td style=\"text-align: right;\">5</td><td style=\"text-align: right;\">1.39</td><td style=\"text-align: right;\">0</td><td style=\"text-align: right;\">0.00</td><td style=\"text-align: right;\">13</td><td style=\"text-align: right;\">2.49</td><td style=\"text-align: right;\">4</td><td style=\"text-align: right;\">2.12</td><td style=\"text-align: right;\">4</td><td style=\"text-align: right;\">1.25</td></tr>\n",
       "<tr><td style=\"text-align: right;\">353240</td><td style=\"text-align: right;\">135,757,320</td><td style=\"text-align: right;\">20,184</td><td style=\"text-align: right;\">13</td><td style=\"text-align: right;\">1696</td><td style=\"text-align: right;\">0.01</td><td style=\"text-align: right;\">20</td><td style=\"text-align: right;\">0.77</td><td style=\"text-align: right;\">0</td><td style=\"text-align: right;\">0.00</td><td style=\"text-align: right;\">0</td><td style=\"text-align: right;\">0.00</td><td style=\"text-align: right;\">4</td><td style=\"text-align: right;\">1.44</td><td style=\"text-align: right;\">0</td><td style=\"text-align: right;\">0.00</td><td style=\"text-align: right;\">10</td><td style=\"text-align: right;\">2.49</td><td style=\"text-align: right;\">2</td><td style=\"text-align: right;\">1.38</td><td style=\"text-align: right;\">4</td><td style=\"text-align: right;\">1.63</td></tr>\n",
       "<tr class=\"even\"><td style=\"text-align: right;\">354130</td><td style=\"text-align: right;\">136,653,925</td><td style=\"text-align: right;\">107,928</td><td style=\"text-align: right;\">24</td><td style=\"text-align: right;\">1504</td><td style=\"text-align: right;\">0.02</td><td style=\"text-align: right;\">26</td><td style=\"text-align: right;\">1.00</td><td style=\"text-align: right;\">0</td><td style=\"text-align: right;\">0.00</td><td style=\"text-align: right;\">0</td><td style=\"text-align: right;\">0.00</td><td style=\"text-align: right;\">5</td><td style=\"text-align: right;\">1.39</td><td style=\"text-align: right;\">0</td><td style=\"text-align: right;\">0.00</td><td style=\"text-align: right;\">13</td><td style=\"text-align: right;\">2.49</td><td style=\"text-align: right;\">4</td><td style=\"text-align: right;\">2.12</td><td style=\"text-align: right;\">4</td><td style=\"text-align: right;\">1.25</td></tr>\n",
       "<tr><td style=\"text-align: right;\">353925</td><td style=\"text-align: right;\">136,506,375</td><td style=\"text-align: right;\">32,564</td><td style=\"text-align: right;\">4</td><td style=\"text-align: right;\">1442</td><td style=\"text-align: right;\">0.02</td><td style=\"text-align: right;\">26</td><td style=\"text-align: right;\">1.00</td><td style=\"text-align: right;\">0</td><td style=\"text-align: right;\">0.00</td><td style=\"text-align: right;\">0</td><td style=\"text-align: right;\">0.00</td><td style=\"text-align: right;\">5</td><td style=\"text-align: right;\">1.39</td><td style=\"text-align: right;\">0</td><td style=\"text-align: right;\">0.00</td><td style=\"text-align: right;\">13</td><td style=\"text-align: right;\">2.49</td><td style=\"text-align: right;\">4</td><td style=\"text-align: right;\">2.12</td><td style=\"text-align: right;\">4</td><td style=\"text-align: right;\">1.25</td></tr>\n",
       "<tr class=\"even\"><td style=\"text-align: right;\">353791</td><td style=\"text-align: right;\">136,393,658</td><td style=\"text-align: right;\">92,684</td><td style=\"text-align: right;\">32</td><td style=\"text-align: right;\">1361</td><td style=\"text-align: right;\">0.02</td><td style=\"text-align: right;\">25</td><td style=\"text-align: right;\">0.96</td><td style=\"text-align: right;\">0</td><td style=\"text-align: right;\">0.00</td><td style=\"text-align: right;\">0</td><td style=\"text-align: right;\">0.00</td><td style=\"text-align: right;\">5</td><td style=\"text-align: right;\">1.44</td><td style=\"text-align: right;\">0</td><td style=\"text-align: right;\">0.00</td><td style=\"text-align: right;\">12</td><td style=\"text-align: right;\">2.39</td><td style=\"text-align: right;\">4</td><td style=\"text-align: right;\">2.20</td><td style=\"text-align: right;\">4</td><td style=\"text-align: right;\">1.31</td></tr>\n",
       "<tr><td style=\"text-align: right;\">353958</td><td style=\"text-align: right;\">136,535,876</td><td style=\"text-align: right;\">19,014</td><td style=\"text-align: right;\">7</td><td style=\"text-align: right;\">1303</td><td style=\"text-align: right;\">0.02</td><td style=\"text-align: right;\">26</td><td style=\"text-align: right;\">1.00</td><td style=\"text-align: right;\">0</td><td style=\"text-align: right;\">0.00</td><td style=\"text-align: right;\">0</td><td style=\"text-align: right;\">0.00</td><td style=\"text-align: right;\">5</td><td style=\"text-align: right;\">1.39</td><td style=\"text-align: right;\">0</td><td style=\"text-align: right;\">0.00</td><td style=\"text-align: right;\">13</td><td style=\"text-align: right;\">2.49</td><td style=\"text-align: right;\">4</td><td style=\"text-align: right;\">2.12</td><td style=\"text-align: right;\">4</td><td style=\"text-align: right;\">1.25</td></tr>\n",
       "<tr class=\"even\"><td style=\"text-align: right;\">354129</td><td style=\"text-align: right;\">136,652,953</td><td style=\"text-align: right;\">108,222</td><td style=\"text-align: right;\">5</td><td style=\"text-align: right;\">1296</td><td style=\"text-align: right;\">0.02</td><td style=\"text-align: right;\">26</td><td style=\"text-align: right;\">1.00</td><td style=\"text-align: right;\">0</td><td style=\"text-align: right;\">0.00</td><td style=\"text-align: right;\">0</td><td style=\"text-align: right;\">0.00</td><td style=\"text-align: right;\">5</td><td style=\"text-align: right;\">1.39</td><td style=\"text-align: right;\">0</td><td style=\"text-align: right;\">0.00</td><td style=\"text-align: right;\">13</td><td style=\"text-align: right;\">2.49</td><td style=\"text-align: right;\">4</td><td style=\"text-align: right;\">2.12</td><td style=\"text-align: right;\">4</td><td style=\"text-align: right;\">1.25</td></tr>\n",
       "<tr><td style=\"text-align: right;\">353919</td><td style=\"text-align: right;\">136,500,475</td><td style=\"text-align: right;\">42,085</td><td style=\"text-align: right;\">13</td><td style=\"text-align: right;\">1227</td><td style=\"text-align: right;\">0.02</td><td style=\"text-align: right;\">26</td><td style=\"text-align: right;\">1.00</td><td style=\"text-align: right;\">0</td><td style=\"text-align: right;\">0.00</td><td style=\"text-align: right;\">0</td><td style=\"text-align: right;\">0.00</td><td style=\"text-align: right;\">5</td><td style=\"text-align: right;\">1.39</td><td style=\"text-align: right;\">0</td><td style=\"text-align: right;\">0.00</td><td style=\"text-align: right;\">13</td><td style=\"text-align: right;\">2.49</td><td style=\"text-align: right;\">4</td><td style=\"text-align: right;\">2.12</td><td style=\"text-align: right;\">4</td><td style=\"text-align: right;\">1.25</td></tr>\n",
       "<tr class=\"even\"><td style=\"text-align: right;\">354127</td><td style=\"text-align: right;\">136,652,491</td><td style=\"text-align: right;\">80,281</td><td style=\"text-align: right;\">6</td><td style=\"text-align: right;\">1114</td><td style=\"text-align: right;\">0.02</td><td style=\"text-align: right;\">26</td><td style=\"text-align: right;\">1.00</td><td style=\"text-align: right;\">0</td><td style=\"text-align: right;\">0.00</td><td style=\"text-align: right;\">0</td><td style=\"text-align: right;\">0.00</td><td style=\"text-align: right;\">5</td><td style=\"text-align: right;\">1.39</td><td style=\"text-align: right;\">0</td><td style=\"text-align: right;\">0.00</td><td style=\"text-align: right;\">13</td><td style=\"text-align: right;\">2.49</td><td style=\"text-align: right;\">4</td><td style=\"text-align: right;\">2.12</td><td style=\"text-align: right;\">4</td><td style=\"text-align: right;\">1.25</td></tr>\n",
       "<tr><td style=\"text-align: right;\">353372</td><td style=\"text-align: right;\">135,829,592</td><td style=\"text-align: right;\">591,316</td><td style=\"text-align: right;\">9</td><td style=\"text-align: right;\">944</td><td style=\"text-align: right;\">0.02</td><td style=\"text-align: right;\">21</td><td style=\"text-align: right;\">0.81</td><td style=\"text-align: right;\">0</td><td style=\"text-align: right;\">0.00</td><td style=\"text-align: right;\">0</td><td style=\"text-align: right;\">0.00</td><td style=\"text-align: right;\">4</td><td style=\"text-align: right;\">1.37</td><td style=\"text-align: right;\">0</td><td style=\"text-align: right;\">0.00</td><td style=\"text-align: right;\">10</td><td style=\"text-align: right;\">2.37</td><td style=\"text-align: right;\">3</td><td style=\"text-align: right;\">1.97</td><td style=\"text-align: right;\">4</td><td style=\"text-align: right;\">1.55</td></tr>\n",
       "<tr class=\"even\"><td style=\"text-align: right;\">353902</td><td style=\"text-align: right;\">136,494,985</td><td style=\"text-align: right;\">278,653</td><td style=\"text-align: right;\">81</td><td style=\"text-align: right;\">857</td><td style=\"text-align: right;\">0.03</td><td style=\"text-align: right;\">26</td><td style=\"text-align: right;\">1.00</td><td style=\"text-align: right;\">0</td><td style=\"text-align: right;\">0.00</td><td style=\"text-align: right;\">0</td><td style=\"text-align: right;\">0.00</td><td style=\"text-align: right;\">5</td><td style=\"text-align: right;\">1.39</td><td style=\"text-align: right;\">0</td><td style=\"text-align: right;\">0.00</td><td style=\"text-align: right;\">13</td><td style=\"text-align: right;\">2.49</td><td style=\"text-align: right;\">4</td><td style=\"text-align: right;\">2.12</td><td style=\"text-align: right;\">4</td><td style=\"text-align: right;\">1.25</td></tr>\n",
       "<tr><td style=\"text-align: right;\">354116</td><td style=\"text-align: right;\">136,648,736</td><td style=\"text-align: right;\">114,114</td><td style=\"text-align: right;\">4</td><td style=\"text-align: right;\">26</td><td style=\"text-align: right;\">1.00</td><td style=\"text-align: right;\">26</td><td style=\"text-align: right;\">1.00</td><td style=\"text-align: right;\">0</td><td style=\"text-align: right;\">0.00</td><td style=\"text-align: right;\">0</td><td style=\"text-align: right;\">0.00</td><td style=\"text-align: right;\">5</td><td style=\"text-align: right;\">1.39</td><td style=\"text-align: right;\">0</td><td style=\"text-align: right;\">0.00</td><td style=\"text-align: right;\">13</td><td style=\"text-align: right;\">2.49</td><td style=\"text-align: right;\">4</td><td style=\"text-align: right;\">2.12</td><td style=\"text-align: right;\">4</td><td style=\"text-align: right;\">1.25</td></tr>\n",
       "</table>"
      ],
      "text/plain": [
       "<IPython.core.display.HTML object>"
      ]
     },
     "execution_count": 25,
     "metadata": {},
     "output_type": "execute_result"
    }
   ],
   "source": [
    "HTML(plt_obj.get_html())"
   ]
  },
  {
   "cell_type": "markdown",
   "metadata": {},
   "source": [
    "<div style=\"width:700px\">\n",
    "<p>\n",
    "This plot shows the hierarchy selected by the series 5_60.  The samples that express\n",
    "it include 36 South Asian, 17 European, 4 American, 2 African, and 1 South Asian.\n",
    "</div>"
   ]
  },
  {
   "cell_type": "code",
   "execution_count": 26,
   "metadata": {
    "collapsed": false
   },
   "outputs": [
    {
     "data": {
      "text/html": [
       "\n",
       "\n",
       "    <div class=\"bk-root\">\n",
       "        <div class=\"plotdiv\" id=\"fbbd0817-6337-4302-9840-f4ff0187df7f\"></div>\n",
       "    </div>\n",
       "<script type=\"text/javascript\">\n",
       "  \n",
       "  (function(global) {\n",
       "    function now() {\n",
       "      return new Date();\n",
       "    }\n",
       "  \n",
       "    if (typeof (window._bokeh_onload_callbacks) === \"undefined\") {\n",
       "      window._bokeh_onload_callbacks = [];\n",
       "    }\n",
       "  \n",
       "    function run_callbacks() {\n",
       "      window._bokeh_onload_callbacks.forEach(function(callback) { callback() });\n",
       "      delete window._bokeh_onload_callbacks\n",
       "      console.info(\"Bokeh: all callbacks have finished\");\n",
       "    }\n",
       "  \n",
       "    function load_libs(js_urls, callback) {\n",
       "      window._bokeh_onload_callbacks.push(callback);\n",
       "      if (window._bokeh_is_loading > 0) {\n",
       "        console.log(\"Bokeh: BokehJS is being loaded, scheduling callback at\", now());\n",
       "        return null;\n",
       "      }\n",
       "      if (js_urls == null || js_urls.length === 0) {\n",
       "        run_callbacks();\n",
       "        return null;\n",
       "      }\n",
       "      console.log(\"Bokeh: BokehJS not loaded, scheduling load and callback at\", now());\n",
       "      window._bokeh_is_loading = js_urls.length;\n",
       "      for (var i = 0; i < js_urls.length; i++) {\n",
       "        var url = js_urls[i];\n",
       "        var s = document.createElement('script');\n",
       "        s.src = url;\n",
       "        s.async = false;\n",
       "        s.onreadystatechange = s.onload = function() {\n",
       "          window._bokeh_is_loading--;\n",
       "          if (window._bokeh_is_loading === 0) {\n",
       "            console.log(\"Bokeh: all BokehJS libraries loaded\");\n",
       "            run_callbacks()\n",
       "          }\n",
       "        };\n",
       "        s.onerror = function() {\n",
       "          console.warn(\"failed to load library \" + url);\n",
       "        };\n",
       "        console.log(\"Bokeh: injecting script tag for BokehJS library: \", url);\n",
       "        document.getElementsByTagName(\"head\")[0].appendChild(s);\n",
       "      }\n",
       "    };var element = document.getElementById(\"fbbd0817-6337-4302-9840-f4ff0187df7f\");\n",
       "    if (element == null) {\n",
       "      console.log(\"Bokeh: ERROR: autoload.js configured with elementid 'fbbd0817-6337-4302-9840-f4ff0187df7f' but no matching script tag was found. \")\n",
       "      return false;\n",
       "    }\n",
       "  \n",
       "    var js_urls = [];\n",
       "  \n",
       "    var inline_js = [\n",
       "      function(Bokeh) {\n",
       "        Bokeh.$(function() {\n",
       "            var docs_json = {\"5acff892-3725-4fb9-b9bf-547fb754e2f7\":{\"roots\":{\"references\":[{\"attributes\":{},\"id\":\"2bbaad0f-99b9-492a-a2bf-aced7fd0a904\",\"type\":\"BasicTickFormatter\"},{\"attributes\":{\"plot\":{\"id\":\"7176f3a0-3c4a-4d8e-b66a-8b6177ba4833\",\"subtype\":\"Figure\",\"type\":\"Plot\"}},\"id\":\"dbd276c7-d32e-4e06-b2dd-bddbe41eb965\",\"type\":\"ResetTool\"},{\"attributes\":{},\"id\":\"594c9622-21f1-48c2-a41e-a5e8c7bf2f42\",\"type\":\"BasicTickFormatter\"},{\"attributes\":{\"plot\":{\"id\":\"7176f3a0-3c4a-4d8e-b66a-8b6177ba4833\",\"subtype\":\"Figure\",\"type\":\"Plot\"}},\"id\":\"6f6dd964-07be-4e55-a12f-cfb94e78ff9e\",\"type\":\"PanTool\"},{\"attributes\":{\"line_color\":{\"field\":\"line_color\"},\"xs\":{\"field\":\"xs\"},\"ys\":{\"field\":\"ys\"}},\"id\":\"954bfbf4-3233-4c10-9e5c-a297ab28e5f8\",\"type\":\"MultiLine\"},{\"attributes\":{\"line_alpha\":{\"value\":0.1},\"line_color\":{\"value\":\"#1f77b4\"},\"xs\":{\"field\":\"xs\"},\"ys\":{\"field\":\"ys\"}},\"id\":\"c638d42d-8b4a-49f4-a06c-a37a0e8e008c\",\"type\":\"MultiLine\"},{\"attributes\":{\"plot\":{\"id\":\"7176f3a0-3c4a-4d8e-b66a-8b6177ba4833\",\"subtype\":\"Figure\",\"type\":\"Plot\"},\"ticker\":{\"id\":\"d1c1958f-d452-4ec1-9937-a76bd5c3dce7\",\"type\":\"BasicTicker\"}},\"id\":\"a134b9b6-d4eb-489b-949a-f5bdb18ee2eb\",\"type\":\"Grid\"},{\"attributes\":{\"formatter\":{\"id\":\"594c9622-21f1-48c2-a41e-a5e8c7bf2f42\",\"type\":\"BasicTickFormatter\"},\"plot\":{\"id\":\"7176f3a0-3c4a-4d8e-b66a-8b6177ba4833\",\"subtype\":\"Figure\",\"type\":\"Plot\"},\"ticker\":{\"id\":\"d1c1958f-d452-4ec1-9937-a76bd5c3dce7\",\"type\":\"BasicTicker\"}},\"id\":\"ab72d26c-0b7d-4e51-b6bf-4460ec78a58d\",\"type\":\"LinearAxis\"},{\"attributes\":{\"dimension\":1,\"plot\":{\"id\":\"7176f3a0-3c4a-4d8e-b66a-8b6177ba4833\",\"subtype\":\"Figure\",\"type\":\"Plot\"},\"ticker\":{\"id\":\"5dffdb09-ac28-49c2-9f7c-5b0b410f6777\",\"type\":\"BasicTicker\"}},\"id\":\"7d2efff4-ad7f-4cac-8f46-14bd88ac68d2\",\"type\":\"Grid\"},{\"attributes\":{\"bottom\":{\"field\":\"bottom\"},\"fill_color\":{\"field\":\"fill_color\"},\"left\":{\"field\":\"left\"},\"line_color\":{\"value\":null},\"right\":{\"field\":\"right\"},\"top\":{\"field\":\"top\"}},\"id\":\"4c6a7bd5-14fd-43a5-a4f3-1ea6b5c49c44\",\"type\":\"Quad\"},{\"attributes\":{\"bottom_units\":\"screen\",\"fill_alpha\":{\"value\":0.5},\"fill_color\":{\"value\":\"lightgrey\"},\"left_units\":\"screen\",\"level\":\"overlay\",\"line_alpha\":{\"value\":1.0},\"line_color\":{\"value\":\"black\"},\"line_dash\":[4,4],\"line_width\":{\"value\":2},\"plot\":null,\"render_mode\":\"css\",\"right_units\":\"screen\",\"top_units\":\"screen\"},\"id\":\"bb932dd0-8a39-4c2a-a646-fd6e8588b25e\",\"type\":\"BoxAnnotation\"},{\"attributes\":{\"bottom\":{\"field\":\"bottom\"},\"fill_color\":{\"value\":\"white\"},\"left\":{\"field\":\"left\"},\"right\":{\"field\":\"right\"},\"top\":{\"field\":\"top\"}},\"id\":\"a3aa4215-9fe1-4574-8d12-9f4991f4f4d0\",\"type\":\"Quad\"},{\"attributes\":{\"formatter\":{\"id\":\"2bbaad0f-99b9-492a-a2bf-aced7fd0a904\",\"type\":\"BasicTickFormatter\"},\"plot\":{\"id\":\"7176f3a0-3c4a-4d8e-b66a-8b6177ba4833\",\"subtype\":\"Figure\",\"type\":\"Plot\"},\"ticker\":{\"id\":\"5dffdb09-ac28-49c2-9f7c-5b0b410f6777\",\"type\":\"BasicTicker\"},\"visible\":null},\"id\":\"f544a5c0-62da-477a-9bba-a07b0bd4a7d0\",\"type\":\"LinearAxis\"},{\"attributes\":{\"callback\":null,\"column_names\":[\"y\",\"x\",\"vals\"],\"data\":{\"vals\":[\"RAB3GAP1\",\"ZRANB3\",\"R3HDM1\",\"UBXN4\",\"LCT\",\"MCM6\",\"DARS\"],\"x\":[135869057.0,136122878.0,136385961.0,136520911.0,136570082.5,136615621.5,136703738.0],\"y\":[660.0,660.0,660.0,660.0,660.0,660.0,660.0]}},\"id\":\"995f1ded-51cf-4311-aa60-0f8da94f7406\",\"type\":\"ColumnDataSource\"},{\"attributes\":{\"data_source\":{\"id\":\"b2f77247-54df-451f-99df-409bfd264654\",\"type\":\"ColumnDataSource\"},\"glyph\":{\"id\":\"a3aa4215-9fe1-4574-8d12-9f4991f4f4d0\",\"type\":\"Quad\"},\"hover_glyph\":null,\"nonselection_glyph\":{\"id\":\"8b12c209-1d45-45d4-9139-36dbb4ca0561\",\"type\":\"Quad\"},\"selection_glyph\":null},\"id\":\"a8835ed8-21c6-4fa2-ace8-24797c25c5fd\",\"type\":\"GlyphRenderer\"},{\"attributes\":{\"data_source\":{\"id\":\"7687f48a-4876-439c-8027-0d3cf2ac2d69\",\"type\":\"ColumnDataSource\"},\"glyph\":{\"id\":\"4c6a7bd5-14fd-43a5-a4f3-1ea6b5c49c44\",\"type\":\"Quad\"},\"hover_glyph\":null,\"nonselection_glyph\":{\"id\":\"fcda3264-a176-4721-a4cc-6ed765422a22\",\"type\":\"Quad\"},\"selection_glyph\":null},\"id\":\"bfc03f8c-4302-4711-9ad1-0ab284e42071\",\"type\":\"GlyphRenderer\"},{\"attributes\":{\"data_source\":{\"id\":\"43e427be-621b-4caa-9651-bb9603a5420a\",\"type\":\"ColumnDataSource\"},\"glyph\":{\"id\":\"954bfbf4-3233-4c10-9e5c-a297ab28e5f8\",\"type\":\"MultiLine\"},\"hover_glyph\":null,\"nonselection_glyph\":{\"id\":\"c638d42d-8b4a-49f4-a06c-a37a0e8e008c\",\"type\":\"MultiLine\"},\"selection_glyph\":null},\"id\":\"5acc0d83-62f5-4f72-b93a-99bfe86595e7\",\"type\":\"GlyphRenderer\"},{\"attributes\":{\"callback\":null,\"column_names\":[\"right\",\"bottom\",\"top\",\"left\"],\"data\":{\"bottom\":[645,645,645,645,645,645,645],\"left\":[135809835,135957574,136289083,136499189,136545415,136597196,136664254],\"right\":[135928279,136288182,136482839,136542633,136594750,136634047,136743222],\"top\":[675,675,675,675,675,675,675]}},\"id\":\"b2f77247-54df-451f-99df-409bfd264654\",\"type\":\"ColumnDataSource\"},{\"attributes\":{\"callback\":null,\"column_names\":[\"right\",\"bottom\",\"top\",\"left\",\"fill_color\"],\"data\":{\"bottom\":[550,150,50,450,150,250,450,350,550,250,350,550],\"fill_color\":[\"#808080\",\"#c4c461\",\"#00ffff\",\"#c4c461\",\"#808080\",\"#808080\",\"#808080\",\"#808080\",\"#c46161\",\"#808080\",\"#808080\",\"#808080\"],\"left\":[135757320,135829592,136033790,136393658,136494985,136500475,136506375,136535876,136588031,136652491,136652953,136653925],\"right\":[135777504,136420908,136325737,136486342,136773638,136542560,136538939,136554890,136593678,136732772,136761175,136761853],\"top\":[596,191,67,494,190,293,494,394,596,292,394,595]}},\"id\":\"7687f48a-4876-439c-8027-0d3cf2ac2d69\",\"type\":\"ColumnDataSource\"},{\"attributes\":{},\"id\":\"8eda7fd6-7539-495d-a2de-cbf02e20802b\",\"type\":\"ToolEvents\"},{\"attributes\":{\"plot\":null,\"text\":null},\"id\":\"dbf79feb-8868-4876-aa60-8bb878116026\",\"type\":\"Title\"},{\"attributes\":{\"plot\":{\"id\":\"7176f3a0-3c4a-4d8e-b66a-8b6177ba4833\",\"subtype\":\"Figure\",\"type\":\"Plot\"}},\"id\":\"b7f9fb53-31c9-4d15-b875-0f7f13d61123\",\"type\":\"WheelZoomTool\"},{\"attributes\":{\"callback\":null,\"end\":700},\"id\":\"77a51996-430f-4566-b39f-05b4dca926b4\",\"type\":\"Range1d\"},{\"attributes\":{\"bottom\":{\"field\":\"bottom\"},\"fill_alpha\":{\"value\":0.1},\"fill_color\":{\"value\":\"#1f77b4\"},\"left\":{\"field\":\"left\"},\"line_alpha\":{\"value\":0.1},\"line_color\":{\"value\":\"#1f77b4\"},\"right\":{\"field\":\"right\"},\"top\":{\"field\":\"top\"}},\"id\":\"8b12c209-1d45-45d4-9139-36dbb4ca0561\",\"type\":\"Quad\"},{\"attributes\":{\"callback\":null,\"column_names\":[\"y\",\"x\",\"vals\"],\"data\":{\"vals\":[\"13_1696\",\"9_944\",\"5_60\",\"32_1361\",\"81_857\",\"13_1227\",\"4_1442\",\"7_1303\",\"7_1760\",\"6_1114\",\"5_1296\",\"24_1504\"],\"x\":[135757320,135829592,136033790,136393658,136494985,136500475,136506375,136535876,136588031,136652491,136652953,136653925],\"y\":[601.0,196.0,72.0,499.0,195.0,298.0,499.0,399.0,601.0,297.0,399.0,600.0]}},\"id\":\"fb284b96-db92-443b-86fc-92c9b84a15b3\",\"type\":\"ColumnDataSource\"},{\"attributes\":{\"plot\":{\"id\":\"7176f3a0-3c4a-4d8e-b66a-8b6177ba4833\",\"subtype\":\"Figure\",\"type\":\"Plot\"}},\"id\":\"806aca55-f2bc-4e10-9300-7a63d4617f29\",\"type\":\"SaveTool\"},{\"attributes\":{},\"id\":\"d1c1958f-d452-4ec1-9937-a76bd5c3dce7\",\"type\":\"BasicTicker\"},{\"attributes\":{\"level\":\"glyph\",\"plot\":{\"id\":\"7176f3a0-3c4a-4d8e-b66a-8b6177ba4833\",\"subtype\":\"Figure\",\"type\":\"Plot\"},\"source\":{\"id\":\"995f1ded-51cf-4311-aa60-0f8da94f7406\",\"type\":\"ColumnDataSource\"},\"text\":{\"field\":\"vals\"},\"text_align\":\"center\",\"text_baseline\":\"middle\",\"text_font_size\":{\"value\":\"8pt\"},\"x\":{\"field\":\"x\"},\"y\":{\"field\":\"y\"}},\"id\":\"b6763f2a-a7cb-4502-a3a2-f6b87eb640ff\",\"type\":\"LabelSet\"},{\"attributes\":{\"bottom\":{\"field\":\"bottom\"},\"fill_alpha\":{\"value\":0.1},\"fill_color\":{\"value\":\"#1f77b4\"},\"left\":{\"field\":\"left\"},\"line_alpha\":{\"value\":0.1},\"line_color\":{\"value\":\"#1f77b4\"},\"right\":{\"field\":\"right\"},\"top\":{\"field\":\"top\"}},\"id\":\"fcda3264-a176-4721-a4cc-6ed765422a22\",\"type\":\"Quad\"},{\"attributes\":{\"level\":\"glyph\",\"plot\":{\"id\":\"7176f3a0-3c4a-4d8e-b66a-8b6177ba4833\",\"subtype\":\"Figure\",\"type\":\"Plot\"},\"source\":{\"id\":\"fb284b96-db92-443b-86fc-92c9b84a15b3\",\"type\":\"ColumnDataSource\"},\"text\":{\"field\":\"vals\"},\"text_font_size\":{\"value\":\"9pt\"},\"text_font_style\":\"bold\",\"x\":{\"field\":\"x\"},\"y\":{\"field\":\"y\"}},\"id\":\"ba871bde-35b0-45b8-ace6-1c5c5166f7a7\",\"type\":\"LabelSet\"},{\"attributes\":{\"overlay\":{\"id\":\"bb932dd0-8a39-4c2a-a646-fd6e8588b25e\",\"type\":\"BoxAnnotation\"},\"plot\":{\"id\":\"7176f3a0-3c4a-4d8e-b66a-8b6177ba4833\",\"subtype\":\"Figure\",\"type\":\"Plot\"}},\"id\":\"1718944e-aa3a-4233-868b-c2eb50ca150c\",\"type\":\"BoxZoomTool\"},{\"attributes\":{\"active_drag\":\"auto\",\"active_scroll\":\"auto\",\"active_tap\":\"auto\",\"tools\":[{\"id\":\"6f6dd964-07be-4e55-a12f-cfb94e78ff9e\",\"type\":\"PanTool\"},{\"id\":\"b7f9fb53-31c9-4d15-b875-0f7f13d61123\",\"type\":\"WheelZoomTool\"},{\"id\":\"1718944e-aa3a-4233-868b-c2eb50ca150c\",\"type\":\"BoxZoomTool\"},{\"id\":\"806aca55-f2bc-4e10-9300-7a63d4617f29\",\"type\":\"SaveTool\"},{\"id\":\"dbd276c7-d32e-4e06-b2dd-bddbe41eb965\",\"type\":\"ResetTool\"},{\"id\":\"960d9bb7-c5d7-4563-b8c3-70b17d0d3f6e\",\"type\":\"HelpTool\"}]},\"id\":\"e0fbb1c3-e548-480e-9717-aa63b8ec5252\",\"type\":\"Toolbar\"},{\"attributes\":{},\"id\":\"5dffdb09-ac28-49c2-9f7c-5b0b410f6777\",\"type\":\"BasicTicker\"},{\"attributes\":{\"callback\":null,\"end\":136786630,\"start\":135757320},\"id\":\"60996016-33f4-481c-8e25-707a6a6f3d55\",\"type\":\"Range1d\"},{\"attributes\":{\"callback\":null,\"column_names\":[\"xs\",\"ys\",\"line_color\"],\"data\":{\"line_color\":[\"black\",\"black\",\"black\",\"black\",\"black\",\"black\",\"black\",\"black\",\"black\",\"black\",\"black\",\"black\",\"black\",\"black\",\"black\",\"black\",\"black\",\"black\",\"black\",\"black\",\"black\",\"black\",\"black\",\"black\",\"black\",\"black\",\"black\",\"black\",\"black\",\"black\",\"black\",\"black\",\"black\",\"black\",\"black\",\"black\",\"black\",\"black\",\"black\",\"black\",\"black\",\"black\",\"black\",\"black\",\"black\",\"black\",\"black\",\"black\",\"black\",\"black\",\"black\",\"black\",\"black\",\"black\",\"black\",\"black\",\"black\",\"black\",\"black\",\"black\",\"black\",\"black\",\"black\",\"black\",\"black\",\"black\",\"black\",\"black\",\"black\",\"black\",\"black\",\"black\",\"black\",\"black\",\"black\",\"black\",\"black\",\"black\",\"black\",\"black\",\"black\",\"black\",\"black\",\"black\",\"black\",\"black\",\"black\",\"black\",\"black\",\"black\",\"black\",\"black\",\"black\",\"black\",\"black\",\"black\",\"black\",\"black\",\"black\",\"black\",\"black\",\"black\",\"black\",\"black\",\"black\",\"black\",\"black\",\"black\",\"black\",\"black\",\"black\",\"black\",\"black\",\"black\",\"black\",\"black\",\"black\",\"black\",\"black\",\"black\",\"black\",\"black\",\"black\",\"black\",\"black\",\"black\",\"black\",\"black\",\"black\",\"black\",\"black\",\"black\",\"black\",\"black\",\"black\",\"black\",\"black\",\"black\",\"black\",\"black\",\"black\",\"black\",\"black\",\"black\",\"black\",\"black\",\"black\",\"black\",\"black\",\"black\",\"black\",\"black\",\"black\",\"black\",\"black\",\"black\",\"black\",\"black\",\"black\",\"black\",\"black\",\"black\",\"black\",\"black\",\"black\",\"black\",\"black\",\"black\",\"black\",\"black\",\"black\",\"black\",\"black\",\"black\",\"black\",\"black\",\"black\",\"black\",\"black\",\"black\",\"black\",\"black\",\"black\",\"black\",\"black\",\"black\",\"black\",\"black\",\"black\",\"black\",\"black\",\"black\",\"black\",\"black\",\"black\",\"black\",\"black\",\"black\",\"black\",\"black\",\"black\",\"black\",\"black\",\"black\",\"black\",\"black\"],\"xs\":[[135757320,135757320],[135761078,135761078],[135761271,135761271],[135762344,135762344],[135762980,135762980],[135763280,135763280],[135768815,135768815],[135769093,135769093],[135769127,135769127],[135770940,135770940],[135770951,135770951],[135776728,135776728],[135777504,135777504],[135829592,135829592],[135893372,135893372],[135952405,135952405],[135989721,135989721],[136136056,136136056],[136313639,136313639],[136401418,136401418],[136407078,136407078],[136420908,136420908],[136033790,136033790],[136103753,136103753],[136236633,136236633],[136277069,136277069],[136325737,136325737],[136393658,136393658],[136396300,136396300],[136401843,136401843],[136407445,136407445],[136411879,136411879],[136412270,136412270],[136413244,136413244],[136413847,136413847],[136415217,136415217],[136416533,136416533],[136420726,136420726],[136429857,136429857],[136433740,136433740],[136436317,136436317],[136437615,136437615],[136438517,136438517],[136440300,136440300],[136443900,136443900],[136444185,136444185],[136444338,136444338],[136449254,136449254],[136451676,136451676],[136459227,136459227],[136463117,136463117],[136463454,136463454],[136467119,136467119],[136468238,136468238],[136470219,136470219],[136483355,136483355],[136485276,136485276],[136486340,136486340],[136486342,136486342],[136494985,136494985],[136497199,136497199],[136511817,136511817],[136513670,136513670],[136515458,136515458],[136516970,136516970],[136525309,136525309],[136528034,136528034],[136532225,136532225],[136535235,136535235],[136536095,136536095],[136544423,136544423],[136546927,136546927],[136552188,136552188],[136552517,136552517],[136555525,136555525],[136556480,136556480],[136560464,136560464],[136572285,136572285],[136582694,136582694],[136582809,136582809],[136584538,136584538],[136585323,136585323],[136586825,136586825],[136600662,136600662],[136612036,136612036],[136618178,136618178],[136618507,136618507],[136622543,136622543],[136624947,136624947],[136625113,136625113],[136626078,136626078],[136628121,136628121],[136632300,136632300],[136633962,136633962],[136635343,136635343],[136638113,136638113],[136640101,136640101],[136641593,136641593],[136646582,136646582],[136648077,136648077],[136648883,136648883],[136652045,136652045],[136653848,136653848],[136656094,136656094],[136661110,136661110],[136663110,136663110],[136663605,136663605],[136665162,136665162],[136665711,136665711],[136668123,136668123],[136670419,136670419],[136672680,136672680],[136673546,136673546],[136684632,136684632],[136686114,136686114],[136690425,136690425],[136690783,136690783],[136692893,136692893],[136694905,136694905],[136695694,136695694],[136695705,136695705],[136696608,136696608],[136697372,136697372],[136697468,136697468],[136700024,136700024],[136701539,136701539],[136702118,136702118],[136707480,136707480],[136710554,136710554],[136714178,136714178],[136719173,136719173],[136725459,136725459],[136734569,136734569],[136744678,136744678],[136748779,136748779],[136751488,136751488],[136754183,136754183],[136763242,136763242],[136765074,136765074],[136773638,136773638],[136500475,136500475],[136501509,136501509],[136504101,136504101],[136509868,136509868],[136520043,136520043],[136527120,136527120],[136530379,136530379],[136530443,136530443],[136539330,136539330],[136539670,136539670],[136540083,136540083],[136542559,136542559],[136542560,136542560],[136506375,136506375],[136506927,136506927],[136510012,136510012],[136538939,136538939],[136535876,136535876],[136544651,136544651],[136545844,136545844],[136552526,136552526],[136553022,136553022],[136554797,136554797],[136554890,136554890],[136588031,136588031],[136589278,136589278],[136589379,136589379],[136589741,136589741],[136590746,136590746],[136593553,136593553],[136593678,136593678],[136652491,136652491],[136652524,136652524],[136661150,136661150],[136669264,136669264],[136726567,136726567],[136732772,136732772],[136652953,136652953],[136655582,136655582],[136674028,136674028],[136684940,136684940],[136761175,136761175],[136653925,136653925],[136654833,136654833],[136656534,136656534],[136656536,136656536],[136657252,136657252],[136667301,136667301],[136667487,136667487],[136672775,136672775],[136680534,136680534],[136686393,136686393],[136688749,136688749],[136692553,136692553],[136697371,136697371],[136708787,136708787],[136710372,136710372],[136711064,136711064],[136715324,136715324],[136723504,136723504],[136737460,136737460],[136743143,136743143],[136746224,136746224],[136751842,136751842],[136759379,136759379],[136761853,136761853]],\"ys\":[[550,596],[550,596],[550,596],[550,596],[550,596],[550,596],[550,596],[550,596],[550,596],[550,596],[550,596],[550,596],[550,596],[150,191],[150,191],[150,191],[150,191],[150,191],[150,191],[150,191],[150,191],[150,191],[50,67],[50,67],[50,67],[50,67],[50,67],[450,494],[450,494],[450,494],[450,494],[450,494],[450,494],[450,494],[450,494],[450,494],[450,494],[450,494],[450,494],[450,494],[450,494],[450,494],[450,494],[450,494],[450,494],[450,494],[450,494],[450,494],[450,494],[450,494],[450,494],[450,494],[450,494],[450,494],[450,494],[450,494],[450,494],[450,494],[450,494],[150,190],[150,190],[150,190],[150,190],[150,190],[150,190],[150,190],[150,190],[150,190],[150,190],[150,190],[150,190],[150,190],[150,190],[150,190],[150,190],[150,190],[150,190],[150,190],[150,190],[150,190],[150,190],[150,190],[150,190],[150,190],[150,190],[150,190],[150,190],[150,190],[150,190],[150,190],[150,190],[150,190],[150,190],[150,190],[150,190],[150,190],[150,190],[150,190],[150,190],[150,190],[150,190],[150,190],[150,190],[150,190],[150,190],[150,190],[150,190],[150,190],[150,190],[150,190],[150,190],[150,190],[150,190],[150,190],[150,190],[150,190],[150,190],[150,190],[150,190],[150,190],[150,190],[150,190],[150,190],[150,190],[150,190],[150,190],[150,190],[150,190],[150,190],[150,190],[150,190],[150,190],[150,190],[150,190],[150,190],[150,190],[150,190],[150,190],[150,190],[150,190],[250,293],[250,293],[250,293],[250,293],[250,293],[250,293],[250,293],[250,293],[250,293],[250,293],[250,293],[250,293],[250,293],[450,494],[450,494],[450,494],[450,494],[350,394],[350,394],[350,394],[350,394],[350,394],[350,394],[350,394],[550,596],[550,596],[550,596],[550,596],[550,596],[550,596],[550,596],[250,292],[250,292],[250,292],[250,292],[250,292],[250,292],[350,394],[350,394],[350,394],[350,394],[350,394],[550,595],[550,595],[550,595],[550,595],[550,595],[550,595],[550,595],[550,595],[550,595],[550,595],[550,595],[550,595],[550,595],[550,595],[550,595],[550,595],[550,595],[550,595],[550,595],[550,595],[550,595],[550,595],[550,595],[550,595]]}},\"id\":\"43e427be-621b-4caa-9651-bb9603a5420a\",\"type\":\"ColumnDataSource\"},{\"attributes\":{\"below\":[{\"id\":\"ab72d26c-0b7d-4e51-b6bf-4460ec78a58d\",\"type\":\"LinearAxis\"}],\"left\":[{\"id\":\"f544a5c0-62da-477a-9bba-a07b0bd4a7d0\",\"type\":\"LinearAxis\"}],\"plot_height\":700,\"plot_width\":900,\"renderers\":[{\"id\":\"ab72d26c-0b7d-4e51-b6bf-4460ec78a58d\",\"type\":\"LinearAxis\"},{\"id\":\"a134b9b6-d4eb-489b-949a-f5bdb18ee2eb\",\"type\":\"Grid\"},{\"id\":\"f544a5c0-62da-477a-9bba-a07b0bd4a7d0\",\"type\":\"LinearAxis\"},{\"id\":\"7d2efff4-ad7f-4cac-8f46-14bd88ac68d2\",\"type\":\"Grid\"},{\"id\":\"bb932dd0-8a39-4c2a-a646-fd6e8588b25e\",\"type\":\"BoxAnnotation\"},{\"id\":\"bfc03f8c-4302-4711-9ad1-0ab284e42071\",\"type\":\"GlyphRenderer\"},{\"id\":\"5acc0d83-62f5-4f72-b93a-99bfe86595e7\",\"type\":\"GlyphRenderer\"},{\"id\":\"ba871bde-35b0-45b8-ace6-1c5c5166f7a7\",\"type\":\"LabelSet\"},{\"id\":\"a8835ed8-21c6-4fa2-ace8-24797c25c5fd\",\"type\":\"GlyphRenderer\"},{\"id\":\"b6763f2a-a7cb-4502-a3a2-f6b87eb640ff\",\"type\":\"LabelSet\"}],\"title\":{\"id\":\"dbf79feb-8868-4876-aa60-8bb878116026\",\"type\":\"Title\"},\"tool_events\":{\"id\":\"8eda7fd6-7539-495d-a2de-cbf02e20802b\",\"type\":\"ToolEvents\"},\"toolbar\":{\"id\":\"e0fbb1c3-e548-480e-9717-aa63b8ec5252\",\"type\":\"Toolbar\"},\"toolbar_location\":null,\"x_range\":{\"id\":\"60996016-33f4-481c-8e25-707a6a6f3d55\",\"type\":\"Range1d\"},\"y_range\":{\"id\":\"77a51996-430f-4566-b39f-05b4dca926b4\",\"type\":\"Range1d\"}},\"id\":\"7176f3a0-3c4a-4d8e-b66a-8b6177ba4833\",\"subtype\":\"Figure\",\"type\":\"Plot\"},{\"attributes\":{\"plot\":{\"id\":\"7176f3a0-3c4a-4d8e-b66a-8b6177ba4833\",\"subtype\":\"Figure\",\"type\":\"Plot\"}},\"id\":\"960d9bb7-c5d7-4563-b8c3-70b17d0d3f6e\",\"type\":\"HelpTool\"}],\"root_ids\":[\"7176f3a0-3c4a-4d8e-b66a-8b6177ba4833\"]},\"title\":\"Bokeh Application\",\"version\":\"0.12.0\"}};\n",
       "            var render_items = [{\"docid\":\"5acff892-3725-4fb9-b9bf-547fb754e2f7\",\"elementid\":\"fbbd0817-6337-4302-9840-f4ff0187df7f\",\"modelid\":\"7176f3a0-3c4a-4d8e-b66a-8b6177ba4833\",\"notebook_comms_target\":\"65395797-86a7-4c70-95c4-ec4f0b55dc99\"}];\n",
       "            \n",
       "            Bokeh.embed.embed_items(docs_json, render_items);\n",
       "        });\n",
       "      },\n",
       "      function(Bokeh) {\n",
       "      }\n",
       "    ];\n",
       "  \n",
       "    function run_inline_js() {\n",
       "      for (var i = 0; i < inline_js.length; i++) {\n",
       "        inline_js[i](window.Bokeh);\n",
       "      }\n",
       "    }\n",
       "  \n",
       "    if (window._bokeh_is_loading === 0) {\n",
       "      console.log(\"Bokeh: BokehJS loaded, going straight to plotting\");\n",
       "      run_inline_js();\n",
       "    } else {\n",
       "      load_libs(js_urls, function() {\n",
       "        console.log(\"Bokeh: BokehJS plotting callback run at\", now());\n",
       "        run_inline_js();\n",
       "      });\n",
       "    }\n",
       "  }(this));\n",
       "</script>"
      ]
     },
     "metadata": {},
     "output_type": "display_data"
    },
    {
     "data": {
      "text/html": [
       "<p><code>&lt;Bokeh Notebook handle for <strong>In[26]</strong>&gt;</code></p>"
      ],
      "text/plain": [
       "<bokeh.io._CommsHandle at 0x7f7c7eabecd0>"
      ]
     },
     "execution_count": 26,
     "metadata": {},
     "output_type": "execute_result"
    }
   ],
   "source": [
    "di_5_60 = 353564\n",
    "plt_obj = dm.superset_yes_no([di_5_60], min_match=0.7)\n",
    "plt = plt_obj.do_plot()\n",
    "show(plt)"
   ]
  },
  {
   "cell_type": "code",
   "execution_count": 27,
   "metadata": {
    "collapsed": false
   },
   "outputs": [
    {
     "data": {
      "text/html": [
       "<table>\n",
       "<thead><tr><th style=\"text-align:center\">index</th><th style=\"text-align:center\">first</th><th style=\"text-align:center\">length</th><th style=\"text-align:center\">snps</th><th style=\"text-align:center\" colspan=2>alleles</th><th style=\"text-align:center\" colspan=2>matches</th><th style=\"text-align:center\" colspan=2>afr</th><th style=\"text-align:center\" colspan=2>afx</th><th style=\"text-align:center\" colspan=2>amr</th><th style=\"text-align:center\" colspan=2>eas</th><th style=\"text-align:center\" colspan=2>eur</th><th style=\"text-align:center\" colspan=2>sas</th><th style=\"text-align:center\" colspan=2>sax</th></tr></thead>\n",
       "<tr class=\"even\"><td style=\"text-align: right;\">354033</td><td style=\"text-align: right;\">136,588,031</td><td style=\"text-align: right;\">5,647</td><td style=\"text-align: right;\">7</td><td style=\"text-align: right;\">1760</td><td style=\"text-align: right;\">0.03</td><td style=\"text-align: right;\">58</td><td style=\"text-align: right;\">0.97</td><td style=\"text-align: right;\">0</td><td style=\"text-align: right;\">0.00</td><td style=\"text-align: right;\">2</td><td style=\"text-align: right;\">0.55</td><td style=\"text-align: right;\">4</td><td style=\"text-align: right;\">0.50</td><td style=\"text-align: right;\">1</td><td style=\"text-align: right;\">0.09</td><td style=\"text-align: right;\">15</td><td style=\"text-align: right;\">1.29</td><td style=\"text-align: right;\">8</td><td style=\"text-align: right;\">1.90</td><td style=\"text-align: right;\">28</td><td style=\"text-align: right;\">3.94</td></tr>\n",
       "<tr><td style=\"text-align: right;\">353240</td><td style=\"text-align: right;\">135,757,320</td><td style=\"text-align: right;\">20,184</td><td style=\"text-align: right;\">13</td><td style=\"text-align: right;\">1696</td><td style=\"text-align: right;\">0.03</td><td style=\"text-align: right;\">59</td><td style=\"text-align: right;\">0.98</td><td style=\"text-align: right;\">0</td><td style=\"text-align: right;\">0.00</td><td style=\"text-align: right;\">2</td><td style=\"text-align: right;\">0.54</td><td style=\"text-align: right;\">4</td><td style=\"text-align: right;\">0.49</td><td style=\"text-align: right;\">1</td><td style=\"text-align: right;\">0.08</td><td style=\"text-align: right;\">17</td><td style=\"text-align: right;\">1.43</td><td style=\"text-align: right;\">8</td><td style=\"text-align: right;\">1.87</td><td style=\"text-align: right;\">27</td><td style=\"text-align: right;\">3.73</td></tr>\n",
       "<tr class=\"even\"><td style=\"text-align: right;\">354130</td><td style=\"text-align: right;\">136,653,925</td><td style=\"text-align: right;\">107,928</td><td style=\"text-align: right;\">24</td><td style=\"text-align: right;\">1504</td><td style=\"text-align: right;\">0.04</td><td style=\"text-align: right;\">57</td><td style=\"text-align: right;\">0.95</td><td style=\"text-align: right;\">0</td><td style=\"text-align: right;\">0.00</td><td style=\"text-align: right;\">2</td><td style=\"text-align: right;\">0.56</td><td style=\"text-align: right;\">4</td><td style=\"text-align: right;\">0.51</td><td style=\"text-align: right;\">1</td><td style=\"text-align: right;\">0.09</td><td style=\"text-align: right;\">16</td><td style=\"text-align: right;\">1.40</td><td style=\"text-align: right;\">8</td><td style=\"text-align: right;\">1.93</td><td style=\"text-align: right;\">26</td><td style=\"text-align: right;\">3.72</td></tr>\n",
       "<tr><td style=\"text-align: right;\">353925</td><td style=\"text-align: right;\">136,506,375</td><td style=\"text-align: right;\">32,564</td><td style=\"text-align: right;\">4</td><td style=\"text-align: right;\">1442</td><td style=\"text-align: right;\">0.04</td><td style=\"text-align: right;\">58</td><td style=\"text-align: right;\">0.97</td><td style=\"text-align: right;\">0</td><td style=\"text-align: right;\">0.00</td><td style=\"text-align: right;\">2</td><td style=\"text-align: right;\">0.55</td><td style=\"text-align: right;\">4</td><td style=\"text-align: right;\">0.50</td><td style=\"text-align: right;\">1</td><td style=\"text-align: right;\">0.09</td><td style=\"text-align: right;\">15</td><td style=\"text-align: right;\">1.29</td><td style=\"text-align: right;\">8</td><td style=\"text-align: right;\">1.90</td><td style=\"text-align: right;\">28</td><td style=\"text-align: right;\">3.94</td></tr>\n",
       "<tr class=\"even\"><td style=\"text-align: right;\">353791</td><td style=\"text-align: right;\">136,393,658</td><td style=\"text-align: right;\">92,684</td><td style=\"text-align: right;\">32</td><td style=\"text-align: right;\">1361</td><td style=\"text-align: right;\">0.04</td><td style=\"text-align: right;\">60</td><td style=\"text-align: right;\">1.00</td><td style=\"text-align: right;\">0</td><td style=\"text-align: right;\">0.00</td><td style=\"text-align: right;\">2</td><td style=\"text-align: right;\">0.53</td><td style=\"text-align: right;\">4</td><td style=\"text-align: right;\">0.48</td><td style=\"text-align: right;\">1</td><td style=\"text-align: right;\">0.08</td><td style=\"text-align: right;\">17</td><td style=\"text-align: right;\">1.41</td><td style=\"text-align: right;\">8</td><td style=\"text-align: right;\">1.83</td><td style=\"text-align: right;\">28</td><td style=\"text-align: right;\">3.81</td></tr>\n",
       "<tr><td style=\"text-align: right;\">353958</td><td style=\"text-align: right;\">136,535,876</td><td style=\"text-align: right;\">19,014</td><td style=\"text-align: right;\">7</td><td style=\"text-align: right;\">1303</td><td style=\"text-align: right;\">0.04</td><td style=\"text-align: right;\">58</td><td style=\"text-align: right;\">0.97</td><td style=\"text-align: right;\">0</td><td style=\"text-align: right;\">0.00</td><td style=\"text-align: right;\">2</td><td style=\"text-align: right;\">0.55</td><td style=\"text-align: right;\">4</td><td style=\"text-align: right;\">0.50</td><td style=\"text-align: right;\">1</td><td style=\"text-align: right;\">0.09</td><td style=\"text-align: right;\">15</td><td style=\"text-align: right;\">1.29</td><td style=\"text-align: right;\">8</td><td style=\"text-align: right;\">1.90</td><td style=\"text-align: right;\">28</td><td style=\"text-align: right;\">3.94</td></tr>\n",
       "<tr class=\"even\"><td style=\"text-align: right;\">354129</td><td style=\"text-align: right;\">136,652,953</td><td style=\"text-align: right;\">108,222</td><td style=\"text-align: right;\">5</td><td style=\"text-align: right;\">1296</td><td style=\"text-align: right;\">0.04</td><td style=\"text-align: right;\">53</td><td style=\"text-align: right;\">0.88</td><td style=\"text-align: right;\">0</td><td style=\"text-align: right;\">0.00</td><td style=\"text-align: right;\">2</td><td style=\"text-align: right;\">0.60</td><td style=\"text-align: right;\">4</td><td style=\"text-align: right;\">0.54</td><td style=\"text-align: right;\">1</td><td style=\"text-align: right;\">0.09</td><td style=\"text-align: right;\">15</td><td style=\"text-align: right;\">1.41</td><td style=\"text-align: right;\">8</td><td style=\"text-align: right;\">2.08</td><td style=\"text-align: right;\">23</td><td style=\"text-align: right;\">3.54</td></tr>\n",
       "<tr><td style=\"text-align: right;\">353919</td><td style=\"text-align: right;\">136,500,475</td><td style=\"text-align: right;\">42,085</td><td style=\"text-align: right;\">13</td><td style=\"text-align: right;\">1227</td><td style=\"text-align: right;\">0.05</td><td style=\"text-align: right;\">58</td><td style=\"text-align: right;\">0.97</td><td style=\"text-align: right;\">0</td><td style=\"text-align: right;\">0.00</td><td style=\"text-align: right;\">2</td><td style=\"text-align: right;\">0.55</td><td style=\"text-align: right;\">4</td><td style=\"text-align: right;\">0.50</td><td style=\"text-align: right;\">1</td><td style=\"text-align: right;\">0.09</td><td style=\"text-align: right;\">15</td><td style=\"text-align: right;\">1.29</td><td style=\"text-align: right;\">8</td><td style=\"text-align: right;\">1.90</td><td style=\"text-align: right;\">28</td><td style=\"text-align: right;\">3.94</td></tr>\n",
       "<tr class=\"even\"><td style=\"text-align: right;\">354127</td><td style=\"text-align: right;\">136,652,491</td><td style=\"text-align: right;\">80,281</td><td style=\"text-align: right;\">6</td><td style=\"text-align: right;\">1114</td><td style=\"text-align: right;\">0.05</td><td style=\"text-align: right;\">53</td><td style=\"text-align: right;\">0.88</td><td style=\"text-align: right;\">0</td><td style=\"text-align: right;\">0.00</td><td style=\"text-align: right;\">2</td><td style=\"text-align: right;\">0.60</td><td style=\"text-align: right;\">4</td><td style=\"text-align: right;\">0.54</td><td style=\"text-align: right;\">1</td><td style=\"text-align: right;\">0.09</td><td style=\"text-align: right;\">15</td><td style=\"text-align: right;\">1.41</td><td style=\"text-align: right;\">8</td><td style=\"text-align: right;\">2.08</td><td style=\"text-align: right;\">23</td><td style=\"text-align: right;\">3.54</td></tr>\n",
       "<tr><td style=\"text-align: right;\">353372</td><td style=\"text-align: right;\">135,829,592</td><td style=\"text-align: right;\">591,316</td><td style=\"text-align: right;\">9</td><td style=\"text-align: right;\">944</td><td style=\"text-align: right;\">0.06</td><td style=\"text-align: right;\">60</td><td style=\"text-align: right;\">1.00</td><td style=\"text-align: right;\">0</td><td style=\"text-align: right;\">0.00</td><td style=\"text-align: right;\">2</td><td style=\"text-align: right;\">0.53</td><td style=\"text-align: right;\">4</td><td style=\"text-align: right;\">0.48</td><td style=\"text-align: right;\">1</td><td style=\"text-align: right;\">0.08</td><td style=\"text-align: right;\">17</td><td style=\"text-align: right;\">1.41</td><td style=\"text-align: right;\">8</td><td style=\"text-align: right;\">1.83</td><td style=\"text-align: right;\">28</td><td style=\"text-align: right;\">3.81</td></tr>\n",
       "<tr class=\"even\"><td style=\"text-align: right;\">353902</td><td style=\"text-align: right;\">136,494,985</td><td style=\"text-align: right;\">278,653</td><td style=\"text-align: right;\">81</td><td style=\"text-align: right;\">857</td><td style=\"text-align: right;\">0.06</td><td style=\"text-align: right;\">53</td><td style=\"text-align: right;\">0.88</td><td style=\"text-align: right;\">0</td><td style=\"text-align: right;\">0.00</td><td style=\"text-align: right;\">2</td><td style=\"text-align: right;\">0.60</td><td style=\"text-align: right;\">4</td><td style=\"text-align: right;\">0.54</td><td style=\"text-align: right;\">1</td><td style=\"text-align: right;\">0.09</td><td style=\"text-align: right;\">15</td><td style=\"text-align: right;\">1.41</td><td style=\"text-align: right;\">8</td><td style=\"text-align: right;\">2.08</td><td style=\"text-align: right;\">23</td><td style=\"text-align: right;\">3.54</td></tr>\n",
       "<tr><td style=\"text-align: right;\">353564</td><td style=\"text-align: right;\">136,033,790</td><td style=\"text-align: right;\">291,947</td><td style=\"text-align: right;\">5</td><td style=\"text-align: right;\">60</td><td style=\"text-align: right;\">1.00</td><td style=\"text-align: right;\">60</td><td style=\"text-align: right;\">1.00</td><td style=\"text-align: right;\">0</td><td style=\"text-align: right;\">0.00</td><td style=\"text-align: right;\">2</td><td style=\"text-align: right;\">0.53</td><td style=\"text-align: right;\">4</td><td style=\"text-align: right;\">0.48</td><td style=\"text-align: right;\">1</td><td style=\"text-align: right;\">0.08</td><td style=\"text-align: right;\">17</td><td style=\"text-align: right;\">1.41</td><td style=\"text-align: right;\">8</td><td style=\"text-align: right;\">1.83</td><td style=\"text-align: right;\">28</td><td style=\"text-align: right;\">3.81</td></tr>\n",
       "</table>"
      ],
      "text/plain": [
       "<IPython.core.display.HTML object>"
      ]
     },
     "execution_count": 27,
     "metadata": {},
     "output_type": "execute_result"
    }
   ],
   "source": [
    "HTML(plt_obj.get_html())"
   ]
  },
  {
   "cell_type": "markdown",
   "metadata": {},
   "source": [
    "<div style=\"width:700px\">\n",
    "<p>\n",
    "The plot below shows the association of series expressed by the 17 samples that\n",
    "express 9_944 as a basis series in association with 64_1575, 10_2206, and 7_1868.\n",
    "Those samples include 13 East Asian, 3 South Asian, and 1 American.\n",
    "</div>"
   ]
  },
  {
   "cell_type": "code",
   "execution_count": 28,
   "metadata": {
    "collapsed": false
   },
   "outputs": [
    {
     "data": {
      "text/html": [
       "\n",
       "\n",
       "    <div class=\"bk-root\">\n",
       "        <div class=\"plotdiv\" id=\"20824465-d9a8-44ac-8fe9-42ddd393c3f4\"></div>\n",
       "    </div>\n",
       "<script type=\"text/javascript\">\n",
       "  \n",
       "  (function(global) {\n",
       "    function now() {\n",
       "      return new Date();\n",
       "    }\n",
       "  \n",
       "    if (typeof (window._bokeh_onload_callbacks) === \"undefined\") {\n",
       "      window._bokeh_onload_callbacks = [];\n",
       "    }\n",
       "  \n",
       "    function run_callbacks() {\n",
       "      window._bokeh_onload_callbacks.forEach(function(callback) { callback() });\n",
       "      delete window._bokeh_onload_callbacks\n",
       "      console.info(\"Bokeh: all callbacks have finished\");\n",
       "    }\n",
       "  \n",
       "    function load_libs(js_urls, callback) {\n",
       "      window._bokeh_onload_callbacks.push(callback);\n",
       "      if (window._bokeh_is_loading > 0) {\n",
       "        console.log(\"Bokeh: BokehJS is being loaded, scheduling callback at\", now());\n",
       "        return null;\n",
       "      }\n",
       "      if (js_urls == null || js_urls.length === 0) {\n",
       "        run_callbacks();\n",
       "        return null;\n",
       "      }\n",
       "      console.log(\"Bokeh: BokehJS not loaded, scheduling load and callback at\", now());\n",
       "      window._bokeh_is_loading = js_urls.length;\n",
       "      for (var i = 0; i < js_urls.length; i++) {\n",
       "        var url = js_urls[i];\n",
       "        var s = document.createElement('script');\n",
       "        s.src = url;\n",
       "        s.async = false;\n",
       "        s.onreadystatechange = s.onload = function() {\n",
       "          window._bokeh_is_loading--;\n",
       "          if (window._bokeh_is_loading === 0) {\n",
       "            console.log(\"Bokeh: all BokehJS libraries loaded\");\n",
       "            run_callbacks()\n",
       "          }\n",
       "        };\n",
       "        s.onerror = function() {\n",
       "          console.warn(\"failed to load library \" + url);\n",
       "        };\n",
       "        console.log(\"Bokeh: injecting script tag for BokehJS library: \", url);\n",
       "        document.getElementsByTagName(\"head\")[0].appendChild(s);\n",
       "      }\n",
       "    };var element = document.getElementById(\"20824465-d9a8-44ac-8fe9-42ddd393c3f4\");\n",
       "    if (element == null) {\n",
       "      console.log(\"Bokeh: ERROR: autoload.js configured with elementid '20824465-d9a8-44ac-8fe9-42ddd393c3f4' but no matching script tag was found. \")\n",
       "      return false;\n",
       "    }\n",
       "  \n",
       "    var js_urls = [];\n",
       "  \n",
       "    var inline_js = [\n",
       "      function(Bokeh) {\n",
       "        Bokeh.$(function() {\n",
       "            var docs_json = {\"9d48034c-320f-4685-9751-c8c75aa8fce3\":{\"roots\":{\"references\":[{\"attributes\":{\"line_color\":{\"field\":\"line_color\"},\"xs\":{\"field\":\"xs\"},\"ys\":{\"field\":\"ys\"}},\"id\":\"b0e5b512-62e6-4c6a-903b-57e0b465d594\",\"type\":\"MultiLine\"},{\"attributes\":{\"below\":[{\"id\":\"81512bc8-19fc-42d3-be7c-d9cff7564ceb\",\"type\":\"LinearAxis\"}],\"left\":[{\"id\":\"2237f995-cdfc-445d-8a15-4d06c717e259\",\"type\":\"LinearAxis\"}],\"plot_height\":400,\"plot_width\":900,\"renderers\":[{\"id\":\"81512bc8-19fc-42d3-be7c-d9cff7564ceb\",\"type\":\"LinearAxis\"},{\"id\":\"59f3c47a-2b9e-4905-9107-89580b9c93ed\",\"type\":\"Grid\"},{\"id\":\"2237f995-cdfc-445d-8a15-4d06c717e259\",\"type\":\"LinearAxis\"},{\"id\":\"9b32203c-6bb1-4967-9d74-ddf2046c1c63\",\"type\":\"Grid\"},{\"id\":\"96141ffe-3cde-4b4d-9149-b8047d8bb9bd\",\"type\":\"BoxAnnotation\"},{\"id\":\"11dd40b6-a5e8-46de-9827-6e655749440b\",\"type\":\"GlyphRenderer\"},{\"id\":\"8f299230-79d1-4d79-b8c0-223b9e705236\",\"type\":\"GlyphRenderer\"},{\"id\":\"6eae2e9d-dcff-4cc1-b382-71428807fa4e\",\"type\":\"LabelSet\"},{\"id\":\"f9af4577-2891-4745-9708-2623dde1ccbe\",\"type\":\"GlyphRenderer\"},{\"id\":\"d2982746-73b1-4079-8de9-021afcbc5d36\",\"type\":\"LabelSet\"}],\"title\":{\"id\":\"705626f9-e447-4156-b8e0-79cf2d59bccd\",\"type\":\"Title\"},\"tool_events\":{\"id\":\"8267a8df-c9df-4d36-90cc-6139ac1acabd\",\"type\":\"ToolEvents\"},\"toolbar\":{\"id\":\"8d04998b-8e99-4668-8d4e-1c1a2e6c4ad8\",\"type\":\"Toolbar\"},\"toolbar_location\":null,\"x_range\":{\"id\":\"4c99546b-92e3-421d-853a-6f9429b39355\",\"type\":\"Range1d\"},\"y_range\":{\"id\":\"5614ff63-9bb4-4262-9aa6-32085c41f802\",\"type\":\"Range1d\"}},\"id\":\"53865fc3-fc87-4ea0-a870-d618babf189b\",\"subtype\":\"Figure\",\"type\":\"Plot\"},{\"attributes\":{},\"id\":\"c08af5d0-9157-4ef4-9200-c5a816a954c1\",\"type\":\"BasicTickFormatter\"},{\"attributes\":{\"callback\":null,\"end\":400},\"id\":\"5614ff63-9bb4-4262-9aa6-32085c41f802\",\"type\":\"Range1d\"},{\"attributes\":{},\"id\":\"1937e2f7-6b17-4726-b170-290b24685061\",\"type\":\"BasicTicker\"},{\"attributes\":{},\"id\":\"21356258-45eb-4229-b5c9-ca19d2619829\",\"type\":\"BasicTicker\"},{\"attributes\":{\"bottom\":{\"field\":\"bottom\"},\"fill_alpha\":{\"value\":0.1},\"fill_color\":{\"value\":\"#1f77b4\"},\"left\":{\"field\":\"left\"},\"line_alpha\":{\"value\":0.1},\"line_color\":{\"value\":\"#1f77b4\"},\"right\":{\"field\":\"right\"},\"top\":{\"field\":\"top\"}},\"id\":\"250326cb-539d-438f-b43a-a8c470a62e3b\",\"type\":\"Quad\"},{\"attributes\":{\"formatter\":{\"id\":\"d3018870-b6c8-483d-91fc-6f4122a7ac78\",\"type\":\"BasicTickFormatter\"},\"plot\":{\"id\":\"53865fc3-fc87-4ea0-a870-d618babf189b\",\"subtype\":\"Figure\",\"type\":\"Plot\"},\"ticker\":{\"id\":\"1937e2f7-6b17-4726-b170-290b24685061\",\"type\":\"BasicTicker\"}},\"id\":\"81512bc8-19fc-42d3-be7c-d9cff7564ceb\",\"type\":\"LinearAxis\"},{\"attributes\":{\"active_drag\":\"auto\",\"active_scroll\":\"auto\",\"active_tap\":\"auto\",\"tools\":[{\"id\":\"87ee98f8-cbc5-4372-9c00-5ac1c62c2020\",\"type\":\"PanTool\"},{\"id\":\"30c3e5c2-6aea-427b-9d88-7c8c953910aa\",\"type\":\"WheelZoomTool\"},{\"id\":\"8307e41e-6b04-40fd-8917-c378f32e825a\",\"type\":\"BoxZoomTool\"},{\"id\":\"c203303d-442c-4f9b-874e-056f4169358a\",\"type\":\"SaveTool\"},{\"id\":\"a179c9bd-8ac6-4d07-88dd-f254c83820f2\",\"type\":\"ResetTool\"},{\"id\":\"e4395cf8-d7ab-492a-ae5d-450f4d6f2f06\",\"type\":\"HelpTool\"}]},\"id\":\"8d04998b-8e99-4668-8d4e-1c1a2e6c4ad8\",\"type\":\"Toolbar\"},{\"attributes\":{\"bottom\":{\"field\":\"bottom\"},\"fill_color\":{\"field\":\"fill_color\"},\"left\":{\"field\":\"left\"},\"line_color\":{\"value\":null},\"right\":{\"field\":\"right\"},\"top\":{\"field\":\"top\"}},\"id\":\"7d16bba4-afaf-4e73-870f-f3cc6031c1f9\",\"type\":\"Quad\"},{\"attributes\":{\"callback\":null,\"end\":136786630,\"start\":135757320},\"id\":\"4c99546b-92e3-421d-853a-6f9429b39355\",\"type\":\"Range1d\"},{\"attributes\":{\"data_source\":{\"id\":\"52a686e8-e2ff-42d4-928c-dba36d011517\",\"type\":\"ColumnDataSource\"},\"glyph\":{\"id\":\"bbf4eba5-8375-43f7-ad19-6216d1bdaab4\",\"type\":\"Quad\"},\"hover_glyph\":null,\"nonselection_glyph\":{\"id\":\"43205d67-09c6-4ec3-843f-82f7f88359c8\",\"type\":\"Quad\"},\"selection_glyph\":null},\"id\":\"f9af4577-2891-4745-9708-2623dde1ccbe\",\"type\":\"GlyphRenderer\"},{\"attributes\":{\"callback\":null,\"column_names\":[\"y\",\"x\",\"vals\"],\"data\":{\"vals\":[\"RAB3GAP1\",\"ZRANB3\",\"R3HDM1\",\"UBXN4\",\"LCT\",\"MCM6\",\"DARS\"],\"x\":[135869057.0,136122878.0,136385961.0,136520911.0,136570082.5,136615621.5,136703738.0],\"y\":[360.0,360.0,360.0,360.0,360.0,360.0,360.0]}},\"id\":\"ca093725-a5df-49d3-b2fb-c866fb963dad\",\"type\":\"ColumnDataSource\"},{\"attributes\":{\"callback\":null,\"column_names\":[\"y\",\"x\",\"vals\"],\"data\":{\"vals\":[\"13_1696\",\"9_944\",\"32_1361\",\"64_1575\",\"10_2206\",\"7_1868\"],\"x\":[135757320,135829592,136393658,136494186,136501840,136682274],\"y\":[201.0,96.0,199.0,200.0,303.0,302.0]}},\"id\":\"f2b41298-8d96-49db-b98b-9b2a38a31f45\",\"type\":\"ColumnDataSource\"},{\"attributes\":{\"plot\":{\"id\":\"53865fc3-fc87-4ea0-a870-d618babf189b\",\"subtype\":\"Figure\",\"type\":\"Plot\"}},\"id\":\"30c3e5c2-6aea-427b-9d88-7c8c953910aa\",\"type\":\"WheelZoomTool\"},{\"attributes\":{\"data_source\":{\"id\":\"ffc62751-afa8-4118-938f-7433536f1e81\",\"type\":\"ColumnDataSource\"},\"glyph\":{\"id\":\"7d16bba4-afaf-4e73-870f-f3cc6031c1f9\",\"type\":\"Quad\"},\"hover_glyph\":null,\"nonselection_glyph\":{\"id\":\"250326cb-539d-438f-b43a-a8c470a62e3b\",\"type\":\"Quad\"},\"selection_glyph\":null},\"id\":\"11dd40b6-a5e8-46de-9827-6e655749440b\",\"type\":\"GlyphRenderer\"},{\"attributes\":{\"plot\":{\"id\":\"53865fc3-fc87-4ea0-a870-d618babf189b\",\"subtype\":\"Figure\",\"type\":\"Plot\"},\"ticker\":{\"id\":\"1937e2f7-6b17-4726-b170-290b24685061\",\"type\":\"BasicTicker\"}},\"id\":\"59f3c47a-2b9e-4905-9107-89580b9c93ed\",\"type\":\"Grid\"},{\"attributes\":{\"overlay\":{\"id\":\"96141ffe-3cde-4b4d-9149-b8047d8bb9bd\",\"type\":\"BoxAnnotation\"},\"plot\":{\"id\":\"53865fc3-fc87-4ea0-a870-d618babf189b\",\"subtype\":\"Figure\",\"type\":\"Plot\"}},\"id\":\"8307e41e-6b04-40fd-8917-c378f32e825a\",\"type\":\"BoxZoomTool\"},{\"attributes\":{\"line_alpha\":{\"value\":0.1},\"line_color\":{\"value\":\"#1f77b4\"},\"xs\":{\"field\":\"xs\"},\"ys\":{\"field\":\"ys\"}},\"id\":\"bdb71dbb-876e-4ec7-a91b-f6a2d070a30e\",\"type\":\"MultiLine\"},{\"attributes\":{\"bottom\":{\"field\":\"bottom\"},\"fill_alpha\":{\"value\":0.1},\"fill_color\":{\"value\":\"#1f77b4\"},\"left\":{\"field\":\"left\"},\"line_alpha\":{\"value\":0.1},\"line_color\":{\"value\":\"#1f77b4\"},\"right\":{\"field\":\"right\"},\"top\":{\"field\":\"top\"}},\"id\":\"43205d67-09c6-4ec3-843f-82f7f88359c8\",\"type\":\"Quad\"},{\"attributes\":{\"level\":\"glyph\",\"plot\":{\"id\":\"53865fc3-fc87-4ea0-a870-d618babf189b\",\"subtype\":\"Figure\",\"type\":\"Plot\"},\"source\":{\"id\":\"ca093725-a5df-49d3-b2fb-c866fb963dad\",\"type\":\"ColumnDataSource\"},\"text\":{\"field\":\"vals\"},\"text_align\":\"center\",\"text_baseline\":\"middle\",\"text_font_size\":{\"value\":\"8pt\"},\"x\":{\"field\":\"x\"},\"y\":{\"field\":\"y\"}},\"id\":\"d2982746-73b1-4079-8de9-021afcbc5d36\",\"type\":\"LabelSet\"},{\"attributes\":{},\"id\":\"d3018870-b6c8-483d-91fc-6f4122a7ac78\",\"type\":\"BasicTickFormatter\"},{\"attributes\":{\"dimension\":1,\"plot\":{\"id\":\"53865fc3-fc87-4ea0-a870-d618babf189b\",\"subtype\":\"Figure\",\"type\":\"Plot\"},\"ticker\":{\"id\":\"21356258-45eb-4229-b5c9-ca19d2619829\",\"type\":\"BasicTicker\"}},\"id\":\"9b32203c-6bb1-4967-9d74-ddf2046c1c63\",\"type\":\"Grid\"},{\"attributes\":{},\"id\":\"8267a8df-c9df-4d36-90cc-6139ac1acabd\",\"type\":\"ToolEvents\"},{\"attributes\":{\"plot\":{\"id\":\"53865fc3-fc87-4ea0-a870-d618babf189b\",\"subtype\":\"Figure\",\"type\":\"Plot\"}},\"id\":\"87ee98f8-cbc5-4372-9c00-5ac1c62c2020\",\"type\":\"PanTool\"},{\"attributes\":{\"data_source\":{\"id\":\"19d1739f-36ed-4d43-8d9a-90f6c3290692\",\"type\":\"ColumnDataSource\"},\"glyph\":{\"id\":\"b0e5b512-62e6-4c6a-903b-57e0b465d594\",\"type\":\"MultiLine\"},\"hover_glyph\":null,\"nonselection_glyph\":{\"id\":\"bdb71dbb-876e-4ec7-a91b-f6a2d070a30e\",\"type\":\"MultiLine\"},\"selection_glyph\":null},\"id\":\"8f299230-79d1-4d79-b8c0-223b9e705236\",\"type\":\"GlyphRenderer\"},{\"attributes\":{\"plot\":{\"id\":\"53865fc3-fc87-4ea0-a870-d618babf189b\",\"subtype\":\"Figure\",\"type\":\"Plot\"}},\"id\":\"e4395cf8-d7ab-492a-ae5d-450f4d6f2f06\",\"type\":\"HelpTool\"},{\"attributes\":{\"plot\":{\"id\":\"53865fc3-fc87-4ea0-a870-d618babf189b\",\"subtype\":\"Figure\",\"type\":\"Plot\"}},\"id\":\"c203303d-442c-4f9b-874e-056f4169358a\",\"type\":\"SaveTool\"},{\"attributes\":{\"callback\":null,\"column_names\":[\"right\",\"bottom\",\"top\",\"left\"],\"data\":{\"bottom\":[345,345,345,345,345,345,345],\"left\":[135809835,135957574,136289083,136499189,136545415,136597196,136664254],\"right\":[135928279,136288182,136482839,136542633,136594750,136634047,136743222],\"top\":[375,375,375,375,375,375,375]}},\"id\":\"52a686e8-e2ff-42d4-928c-dba36d011517\",\"type\":\"ColumnDataSource\"},{\"attributes\":{\"callback\":null,\"column_names\":[\"xs\",\"ys\",\"line_color\"],\"data\":{\"line_color\":[\"black\",\"black\",\"black\",\"black\",\"black\",\"black\",\"black\",\"black\",\"black\",\"black\",\"black\",\"black\",\"black\",\"black\",\"black\",\"black\",\"black\",\"black\",\"black\",\"black\",\"black\",\"black\",\"black\",\"black\",\"black\",\"black\",\"black\",\"black\",\"black\",\"black\",\"black\",\"black\",\"black\",\"black\",\"black\",\"black\",\"black\",\"black\",\"black\",\"black\",\"black\",\"black\",\"black\",\"black\",\"black\",\"black\",\"black\",\"black\",\"black\",\"black\",\"black\",\"black\",\"black\",\"black\",\"black\",\"black\",\"black\",\"black\",\"black\",\"black\",\"black\",\"black\",\"black\",\"black\",\"black\",\"black\",\"black\",\"black\",\"black\",\"black\",\"black\",\"black\",\"black\",\"black\",\"black\",\"black\",\"black\",\"black\",\"black\",\"black\",\"black\",\"black\",\"black\",\"black\",\"black\",\"black\",\"black\",\"black\",\"black\",\"black\",\"black\",\"black\",\"black\",\"black\",\"black\",\"black\",\"black\",\"black\",\"black\",\"black\",\"black\",\"black\",\"black\",\"black\",\"black\",\"black\",\"black\",\"black\",\"black\",\"black\",\"black\",\"black\",\"black\",\"black\",\"black\",\"black\",\"black\",\"black\",\"black\",\"black\",\"black\",\"black\",\"black\",\"black\",\"black\",\"black\",\"black\",\"black\",\"black\",\"black\",\"black\",\"black\",\"black\",\"black\",\"black\"],\"xs\":[[135757320,135757320],[135761078,135761078],[135761271,135761271],[135762344,135762344],[135762980,135762980],[135763280,135763280],[135768815,135768815],[135769093,135769093],[135769127,135769127],[135770940,135770940],[135770951,135770951],[135776728,135776728],[135777504,135777504],[135829592,135829592],[135893372,135893372],[135952405,135952405],[135989721,135989721],[136136056,136136056],[136313639,136313639],[136401418,136401418],[136407078,136407078],[136420908,136420908],[136393658,136393658],[136396300,136396300],[136401843,136401843],[136407445,136407445],[136411879,136411879],[136412270,136412270],[136413244,136413244],[136413847,136413847],[136415217,136415217],[136416533,136416533],[136420726,136420726],[136429857,136429857],[136433740,136433740],[136436317,136436317],[136437615,136437615],[136438517,136438517],[136440300,136440300],[136443900,136443900],[136444185,136444185],[136444338,136444338],[136449254,136449254],[136451676,136451676],[136459227,136459227],[136463117,136463117],[136463454,136463454],[136467119,136467119],[136468238,136468238],[136470219,136470219],[136483355,136483355],[136485276,136485276],[136486340,136486340],[136486342,136486342],[136494186,136494186],[136495300,136495300],[136495619,136495619],[136499166,136499166],[136502792,136502792],[136503157,136503157],[136507039,136507039],[136511575,136511575],[136518103,136518103],[136521514,136521514],[136522675,136522675],[136522941,136522941],[136526981,136526981],[136535410,136535410],[136539122,136539122],[136544197,136544197],[136550109,136550109],[136551694,136551694],[136553188,136553188],[136553639,136553639],[136554800,136554800],[136557319,136557319],[136558157,136558157],[136569848,136569848],[136575199,136575199],[136576577,136576577],[136578536,136578536],[136580287,136580287],[136583192,136583192],[136586958,136586958],[136588478,136588478],[136589612,136589612],[136591178,136591178],[136591859,136591859],[136593760,136593760],[136594158,136594158],[136603276,136603276],[136603366,136603366],[136608231,136608231],[136609975,136609975],[136610598,136610598],[136611624,136611624],[136613780,136613780],[136614255,136614255],[136614813,136614813],[136617524,136617524],[136622216,136622216],[136625602,136625602],[136629911,136629911],[136630757,136630757],[136630989,136630989],[136631031,136631031],[136633771,136633771],[136636324,136636324],[136638216,136638216],[136640233,136640233],[136641882,136641882],[136643555,136643555],[136658345,136658345],[136670298,136670298],[136685228,136685228],[136696138,136696138],[136740900,136740900],[136765951,136765951],[136501840,136501840],[136505546,136505546],[136516748,136516748],[136522710,136522710],[136528004,136528004],[136539513,136539513],[136544752,136544752],[136546110,136546110],[136553529,136553529],[136555659,136555659],[136682274,136682274],[136691825,136691825],[136698098,136698098],[136721603,136721603],[136721995,136721995],[136755684,136755684],[136775898,136775898]],\"ys\":[[150,196],[150,196],[150,196],[150,196],[150,196],[150,196],[150,196],[150,196],[150,196],[150,196],[150,196],[150,196],[150,196],[50,91],[50,91],[50,91],[50,91],[50,91],[50,91],[50,91],[50,91],[50,91],[150,194],[150,194],[150,194],[150,194],[150,194],[150,194],[150,194],[150,194],[150,194],[150,194],[150,194],[150,194],[150,194],[150,194],[150,194],[150,194],[150,194],[150,194],[150,194],[150,194],[150,194],[150,194],[150,194],[150,194],[150,194],[150,194],[150,194],[150,194],[150,194],[150,194],[150,194],[150,194],[150,195],[150,195],[150,195],[150,195],[150,195],[150,195],[150,195],[150,195],[150,195],[150,195],[150,195],[150,195],[150,195],[150,195],[150,195],[150,195],[150,195],[150,195],[150,195],[150,195],[150,195],[150,195],[150,195],[150,195],[150,195],[150,195],[150,195],[150,195],[150,195],[150,195],[150,195],[150,195],[150,195],[150,195],[150,195],[150,195],[150,195],[150,195],[150,195],[150,195],[150,195],[150,195],[150,195],[150,195],[150,195],[150,195],[150,195],[150,195],[150,195],[150,195],[150,195],[150,195],[150,195],[150,195],[150,195],[150,195],[150,195],[150,195],[150,195],[150,195],[150,195],[150,195],[150,195],[150,195],[250,298],[250,298],[250,298],[250,298],[250,298],[250,298],[250,298],[250,298],[250,298],[250,298],[250,297],[250,297],[250,297],[250,297],[250,297],[250,297],[250,297]]}},\"id\":\"19d1739f-36ed-4d43-8d9a-90f6c3290692\",\"type\":\"ColumnDataSource\"},{\"attributes\":{\"bottom\":{\"field\":\"bottom\"},\"fill_color\":{\"value\":\"white\"},\"left\":{\"field\":\"left\"},\"right\":{\"field\":\"right\"},\"top\":{\"field\":\"top\"}},\"id\":\"bbf4eba5-8375-43f7-ad19-6216d1bdaab4\",\"type\":\"Quad\"},{\"attributes\":{\"bottom_units\":\"screen\",\"fill_alpha\":{\"value\":0.5},\"fill_color\":{\"value\":\"lightgrey\"},\"left_units\":\"screen\",\"level\":\"overlay\",\"line_alpha\":{\"value\":1.0},\"line_color\":{\"value\":\"black\"},\"line_dash\":[4,4],\"line_width\":{\"value\":2},\"plot\":null,\"render_mode\":\"css\",\"right_units\":\"screen\",\"top_units\":\"screen\"},\"id\":\"96141ffe-3cde-4b4d-9149-b8047d8bb9bd\",\"type\":\"BoxAnnotation\"},{\"attributes\":{\"formatter\":{\"id\":\"c08af5d0-9157-4ef4-9200-c5a816a954c1\",\"type\":\"BasicTickFormatter\"},\"plot\":{\"id\":\"53865fc3-fc87-4ea0-a870-d618babf189b\",\"subtype\":\"Figure\",\"type\":\"Plot\"},\"ticker\":{\"id\":\"21356258-45eb-4229-b5c9-ca19d2619829\",\"type\":\"BasicTicker\"},\"visible\":null},\"id\":\"2237f995-cdfc-445d-8a15-4d06c717e259\",\"type\":\"LinearAxis\"},{\"attributes\":{\"level\":\"glyph\",\"plot\":{\"id\":\"53865fc3-fc87-4ea0-a870-d618babf189b\",\"subtype\":\"Figure\",\"type\":\"Plot\"},\"source\":{\"id\":\"f2b41298-8d96-49db-b98b-9b2a38a31f45\",\"type\":\"ColumnDataSource\"},\"text\":{\"field\":\"vals\"},\"text_font_size\":{\"value\":\"9pt\"},\"text_font_style\":\"bold\",\"x\":{\"field\":\"x\"},\"y\":{\"field\":\"y\"}},\"id\":\"6eae2e9d-dcff-4cc1-b382-71428807fa4e\",\"type\":\"LabelSet\"},{\"attributes\":{\"callback\":null,\"column_names\":[\"right\",\"bottom\",\"top\",\"left\",\"fill_color\"],\"data\":{\"bottom\":[150,50,150,150,250,250],\"fill_color\":[\"#808080\",\"#c4c461\",\"#c4c461\",\"#61c461\",\"#808080\",\"#61c461\"],\"left\":[135757320,135829592,136393658,136494186,136501840,136682274],\"right\":[135777504,136420908,136486342,136765951,136555659,136775898],\"top\":[196,91,194,195,298,297]}},\"id\":\"ffc62751-afa8-4118-938f-7433536f1e81\",\"type\":\"ColumnDataSource\"},{\"attributes\":{\"plot\":null,\"text\":null},\"id\":\"705626f9-e447-4156-b8e0-79cf2d59bccd\",\"type\":\"Title\"},{\"attributes\":{\"plot\":{\"id\":\"53865fc3-fc87-4ea0-a870-d618babf189b\",\"subtype\":\"Figure\",\"type\":\"Plot\"}},\"id\":\"a179c9bd-8ac6-4d07-88dd-f254c83820f2\",\"type\":\"ResetTool\"}],\"root_ids\":[\"53865fc3-fc87-4ea0-a870-d618babf189b\"]},\"title\":\"Bokeh Application\",\"version\":\"0.12.0\"}};\n",
       "            var render_items = [{\"docid\":\"9d48034c-320f-4685-9751-c8c75aa8fce3\",\"elementid\":\"20824465-d9a8-44ac-8fe9-42ddd393c3f4\",\"modelid\":\"53865fc3-fc87-4ea0-a870-d618babf189b\",\"notebook_comms_target\":\"e8e9b465-61d4-4d39-8f2f-969bb018d5d1\"}];\n",
       "            \n",
       "            Bokeh.embed.embed_items(docs_json, render_items);\n",
       "        });\n",
       "      },\n",
       "      function(Bokeh) {\n",
       "      }\n",
       "    ];\n",
       "  \n",
       "    function run_inline_js() {\n",
       "      for (var i = 0; i < inline_js.length; i++) {\n",
       "        inline_js[i](window.Bokeh);\n",
       "      }\n",
       "    }\n",
       "  \n",
       "    if (window._bokeh_is_loading === 0) {\n",
       "      console.log(\"Bokeh: BokehJS loaded, going straight to plotting\");\n",
       "      run_inline_js();\n",
       "    } else {\n",
       "      load_libs(js_urls, function() {\n",
       "        console.log(\"Bokeh: BokehJS plotting callback run at\", now());\n",
       "        run_inline_js();\n",
       "      });\n",
       "    }\n",
       "  }(this));\n",
       "</script>"
      ]
     },
     "metadata": {},
     "output_type": "display_data"
    },
    {
     "data": {
      "text/html": [
       "<p><code>&lt;Bokeh Notebook handle for <strong>In[28]</strong>&gt;</code></p>"
      ],
      "text/plain": [
       "<bokeh.io._CommsHandle at 0x7f7c7ed2e510>"
      ]
     },
     "execution_count": 28,
     "metadata": {},
     "output_type": "execute_result"
    }
   ],
   "source": [
    "plt_obj=dm.superset_basis_yes_no(dm.di_9_944, [dm.di_64_1575], min_match=0.1)\n",
    "plt = plt_obj.do_plot()\n",
    "show(plt)"
   ]
  },
  {
   "cell_type": "code",
   "execution_count": 29,
   "metadata": {
    "collapsed": false
   },
   "outputs": [
    {
     "data": {
      "text/html": [
       "<table>\n",
       "<thead><tr><th style=\"text-align:center\">index</th><th style=\"text-align:center\">first</th><th style=\"text-align:center\">length</th><th style=\"text-align:center\">snps</th><th style=\"text-align:center\" colspan=2>alleles</th><th style=\"text-align:center\" colspan=2>matches</th><th style=\"text-align:center\" colspan=2>afr</th><th style=\"text-align:center\" colspan=2>afx</th><th style=\"text-align:center\" colspan=2>amr</th><th style=\"text-align:center\" colspan=2>eas</th><th style=\"text-align:center\" colspan=2>eur</th><th style=\"text-align:center\" colspan=2>sas</th><th style=\"text-align:center\" colspan=2>sax</th></tr></thead>\n",
       "<tr class=\"even\"><td style=\"text-align: right;\">353921</td><td style=\"text-align: right;\">136,501,840</td><td style=\"text-align: right;\">53,819</td><td style=\"text-align: right;\">10</td><td style=\"text-align: right;\">2206</td><td style=\"text-align: right;\">0.01</td><td style=\"text-align: right;\">17</td><td style=\"text-align: right;\">1.00</td><td style=\"text-align: right;\">0</td><td style=\"text-align: right;\">0.00</td><td style=\"text-align: right;\">0</td><td style=\"text-align: right;\">0.00</td><td style=\"text-align: right;\">1</td><td style=\"text-align: right;\">0.42</td><td style=\"text-align: right;\">13</td><td style=\"text-align: right;\">3.80</td><td style=\"text-align: right;\">0</td><td style=\"text-align: right;\">0.00</td><td style=\"text-align: right;\">0</td><td style=\"text-align: right;\">0.00</td><td style=\"text-align: right;\">3</td><td style=\"text-align: right;\">1.44</td></tr>\n",
       "<tr><td style=\"text-align: right;\">354170</td><td style=\"text-align: right;\">136,682,274</td><td style=\"text-align: right;\">93,624</td><td style=\"text-align: right;\">7</td><td style=\"text-align: right;\">1868</td><td style=\"text-align: right;\">0.01</td><td style=\"text-align: right;\">17</td><td style=\"text-align: right;\">1.00</td><td style=\"text-align: right;\">0</td><td style=\"text-align: right;\">0.00</td><td style=\"text-align: right;\">0</td><td style=\"text-align: right;\">0.00</td><td style=\"text-align: right;\">1</td><td style=\"text-align: right;\">0.42</td><td style=\"text-align: right;\">13</td><td style=\"text-align: right;\">3.80</td><td style=\"text-align: right;\">0</td><td style=\"text-align: right;\">0.00</td><td style=\"text-align: right;\">0</td><td style=\"text-align: right;\">0.00</td><td style=\"text-align: right;\">3</td><td style=\"text-align: right;\">1.44</td></tr>\n",
       "<tr class=\"even\"><td style=\"text-align: right;\">353240</td><td style=\"text-align: right;\">135,757,320</td><td style=\"text-align: right;\">20,184</td><td style=\"text-align: right;\">13</td><td style=\"text-align: right;\">1696</td><td style=\"text-align: right;\">0.01</td><td style=\"text-align: right;\">17</td><td style=\"text-align: right;\">1.00</td><td style=\"text-align: right;\">0</td><td style=\"text-align: right;\">0.00</td><td style=\"text-align: right;\">0</td><td style=\"text-align: right;\">0.00</td><td style=\"text-align: right;\">1</td><td style=\"text-align: right;\">0.42</td><td style=\"text-align: right;\">13</td><td style=\"text-align: right;\">3.80</td><td style=\"text-align: right;\">0</td><td style=\"text-align: right;\">0.00</td><td style=\"text-align: right;\">0</td><td style=\"text-align: right;\">0.00</td><td style=\"text-align: right;\">3</td><td style=\"text-align: right;\">1.44</td></tr>\n",
       "<tr><td style=\"text-align: right;\">353901</td><td style=\"text-align: right;\">136,494,186</td><td style=\"text-align: right;\">271,765</td><td style=\"text-align: right;\">64</td><td style=\"text-align: right;\">1575</td><td style=\"text-align: right;\">0.01</td><td style=\"text-align: right;\">17</td><td style=\"text-align: right;\">1.00</td><td style=\"text-align: right;\">0</td><td style=\"text-align: right;\">0.00</td><td style=\"text-align: right;\">0</td><td style=\"text-align: right;\">0.00</td><td style=\"text-align: right;\">1</td><td style=\"text-align: right;\">0.42</td><td style=\"text-align: right;\">13</td><td style=\"text-align: right;\">3.80</td><td style=\"text-align: right;\">0</td><td style=\"text-align: right;\">0.00</td><td style=\"text-align: right;\">0</td><td style=\"text-align: right;\">0.00</td><td style=\"text-align: right;\">3</td><td style=\"text-align: right;\">1.44</td></tr>\n",
       "<tr class=\"even\"><td style=\"text-align: right;\">353791</td><td style=\"text-align: right;\">136,393,658</td><td style=\"text-align: right;\">92,684</td><td style=\"text-align: right;\">32</td><td style=\"text-align: right;\">1361</td><td style=\"text-align: right;\">0.01</td><td style=\"text-align: right;\">17</td><td style=\"text-align: right;\">1.00</td><td style=\"text-align: right;\">0</td><td style=\"text-align: right;\">0.00</td><td style=\"text-align: right;\">0</td><td style=\"text-align: right;\">0.00</td><td style=\"text-align: right;\">1</td><td style=\"text-align: right;\">0.42</td><td style=\"text-align: right;\">13</td><td style=\"text-align: right;\">3.80</td><td style=\"text-align: right;\">0</td><td style=\"text-align: right;\">0.00</td><td style=\"text-align: right;\">0</td><td style=\"text-align: right;\">0.00</td><td style=\"text-align: right;\">3</td><td style=\"text-align: right;\">1.44</td></tr>\n",
       "<tr><td style=\"text-align: right;\">353372</td><td style=\"text-align: right;\">135,829,592</td><td style=\"text-align: right;\">591,316</td><td style=\"text-align: right;\">9</td><td style=\"text-align: right;\">944</td><td style=\"text-align: right;\">0.02</td><td style=\"text-align: right;\">17</td><td style=\"text-align: right;\">1.00</td><td style=\"text-align: right;\">0</td><td style=\"text-align: right;\">0.00</td><td style=\"text-align: right;\">0</td><td style=\"text-align: right;\">0.00</td><td style=\"text-align: right;\">1</td><td style=\"text-align: right;\">0.42</td><td style=\"text-align: right;\">13</td><td style=\"text-align: right;\">3.80</td><td style=\"text-align: right;\">0</td><td style=\"text-align: right;\">0.00</td><td style=\"text-align: right;\">0</td><td style=\"text-align: right;\">0.00</td><td style=\"text-align: right;\">3</td><td style=\"text-align: right;\">1.44</td></tr>\n",
       "</table>"
      ],
      "text/plain": [
       "<IPython.core.display.HTML object>"
      ]
     },
     "execution_count": 29,
     "metadata": {},
     "output_type": "execute_result"
    }
   ],
   "source": [
    "HTML(plt_obj.get_html())"
   ]
  },
  {
   "cell_type": "markdown",
   "metadata": {},
   "source": [
    "<div style=\"width:700px\">\n",
    "<p>\n",
    "This plot shows the association of series for the samples that express series\n",
    "9_944 as a basis series but do not express the series 64_1575.  With the exception\n",
    "of 1 sample that does not express 13_1696 and 2 samples that do not express\n",
    "7_1760, all 40 of these samples express a common association of series.  That\n",
    "association does not include any of the upper region series that are the most common\n",
    "to the tree roots.\n",
    "</div>"
   ]
  },
  {
   "cell_type": "code",
   "execution_count": 30,
   "metadata": {
    "collapsed": false
   },
   "outputs": [
    {
     "data": {
      "text/html": [
       "\n",
       "\n",
       "    <div class=\"bk-root\">\n",
       "        <div class=\"plotdiv\" id=\"924f37d6-0a64-4b78-bbf1-64bfdac12f99\"></div>\n",
       "    </div>\n",
       "<script type=\"text/javascript\">\n",
       "  \n",
       "  (function(global) {\n",
       "    function now() {\n",
       "      return new Date();\n",
       "    }\n",
       "  \n",
       "    if (typeof (window._bokeh_onload_callbacks) === \"undefined\") {\n",
       "      window._bokeh_onload_callbacks = [];\n",
       "    }\n",
       "  \n",
       "    function run_callbacks() {\n",
       "      window._bokeh_onload_callbacks.forEach(function(callback) { callback() });\n",
       "      delete window._bokeh_onload_callbacks\n",
       "      console.info(\"Bokeh: all callbacks have finished\");\n",
       "    }\n",
       "  \n",
       "    function load_libs(js_urls, callback) {\n",
       "      window._bokeh_onload_callbacks.push(callback);\n",
       "      if (window._bokeh_is_loading > 0) {\n",
       "        console.log(\"Bokeh: BokehJS is being loaded, scheduling callback at\", now());\n",
       "        return null;\n",
       "      }\n",
       "      if (js_urls == null || js_urls.length === 0) {\n",
       "        run_callbacks();\n",
       "        return null;\n",
       "      }\n",
       "      console.log(\"Bokeh: BokehJS not loaded, scheduling load and callback at\", now());\n",
       "      window._bokeh_is_loading = js_urls.length;\n",
       "      for (var i = 0; i < js_urls.length; i++) {\n",
       "        var url = js_urls[i];\n",
       "        var s = document.createElement('script');\n",
       "        s.src = url;\n",
       "        s.async = false;\n",
       "        s.onreadystatechange = s.onload = function() {\n",
       "          window._bokeh_is_loading--;\n",
       "          if (window._bokeh_is_loading === 0) {\n",
       "            console.log(\"Bokeh: all BokehJS libraries loaded\");\n",
       "            run_callbacks()\n",
       "          }\n",
       "        };\n",
       "        s.onerror = function() {\n",
       "          console.warn(\"failed to load library \" + url);\n",
       "        };\n",
       "        console.log(\"Bokeh: injecting script tag for BokehJS library: \", url);\n",
       "        document.getElementsByTagName(\"head\")[0].appendChild(s);\n",
       "      }\n",
       "    };var element = document.getElementById(\"924f37d6-0a64-4b78-bbf1-64bfdac12f99\");\n",
       "    if (element == null) {\n",
       "      console.log(\"Bokeh: ERROR: autoload.js configured with elementid '924f37d6-0a64-4b78-bbf1-64bfdac12f99' but no matching script tag was found. \")\n",
       "      return false;\n",
       "    }\n",
       "  \n",
       "    var js_urls = [];\n",
       "  \n",
       "    var inline_js = [\n",
       "      function(Bokeh) {\n",
       "        Bokeh.$(function() {\n",
       "            var docs_json = {\"8a85be8d-c83c-4e19-8f40-92584ef5a114\":{\"roots\":{\"references\":[{\"attributes\":{\"dimension\":1,\"plot\":{\"id\":\"24318e02-1c28-4122-99d0-2d5c3e61d8bf\",\"subtype\":\"Figure\",\"type\":\"Plot\"},\"ticker\":{\"id\":\"b29f75ca-a482-4280-8e00-de7f7b98878f\",\"type\":\"BasicTicker\"}},\"id\":\"0ed2460b-6431-49e9-a738-9c68ac9cfce9\",\"type\":\"Grid\"},{\"attributes\":{\"formatter\":{\"id\":\"ab1d88af-0d9c-44f0-ad50-07f7592c65c0\",\"type\":\"BasicTickFormatter\"},\"plot\":{\"id\":\"24318e02-1c28-4122-99d0-2d5c3e61d8bf\",\"subtype\":\"Figure\",\"type\":\"Plot\"},\"ticker\":{\"id\":\"0d1f0602-4b59-4dcd-b024-546fc5e77d20\",\"type\":\"BasicTicker\"}},\"id\":\"f81eefac-efb0-4561-8725-b5fc2559364c\",\"type\":\"LinearAxis\"},{\"attributes\":{\"plot\":{\"id\":\"24318e02-1c28-4122-99d0-2d5c3e61d8bf\",\"subtype\":\"Figure\",\"type\":\"Plot\"}},\"id\":\"bebd4841-359e-4b83-ab1b-ba1f0438b35d\",\"type\":\"WheelZoomTool\"},{\"attributes\":{\"bottom\":{\"field\":\"bottom\"},\"fill_alpha\":{\"value\":0.1},\"fill_color\":{\"value\":\"#1f77b4\"},\"left\":{\"field\":\"left\"},\"line_alpha\":{\"value\":0.1},\"line_color\":{\"value\":\"#1f77b4\"},\"right\":{\"field\":\"right\"},\"top\":{\"field\":\"top\"}},\"id\":\"7eee7647-21d8-4dba-9f68-6ef68ffd2a75\",\"type\":\"Quad\"},{\"attributes\":{\"line_alpha\":{\"value\":0.1},\"line_color\":{\"value\":\"#1f77b4\"},\"xs\":{\"field\":\"xs\"},\"ys\":{\"field\":\"ys\"}},\"id\":\"849b657c-8cb0-4cfa-8d0e-50314b69952b\",\"type\":\"MultiLine\"},{\"attributes\":{\"active_drag\":\"auto\",\"active_scroll\":\"auto\",\"active_tap\":\"auto\",\"tools\":[{\"id\":\"dac6b684-df15-434d-8fc6-959314a5bc6f\",\"type\":\"PanTool\"},{\"id\":\"bebd4841-359e-4b83-ab1b-ba1f0438b35d\",\"type\":\"WheelZoomTool\"},{\"id\":\"cd0def2e-e2e2-486f-b421-e1656f430747\",\"type\":\"BoxZoomTool\"},{\"id\":\"7cc3ebe7-63c9-4cc2-a532-331590f7a44c\",\"type\":\"SaveTool\"},{\"id\":\"bd5c8b9c-3302-4289-a53a-a785d7d774fa\",\"type\":\"ResetTool\"},{\"id\":\"4e120852-e406-4835-8c75-7c3a69a60417\",\"type\":\"HelpTool\"}]},\"id\":\"b11cf76c-35c9-483c-9f9e-9289f4965a30\",\"type\":\"Toolbar\"},{\"attributes\":{\"bottom\":{\"field\":\"bottom\"},\"fill_color\":{\"field\":\"fill_color\"},\"left\":{\"field\":\"left\"},\"line_color\":{\"value\":null},\"right\":{\"field\":\"right\"},\"top\":{\"field\":\"top\"}},\"id\":\"939186f6-4f9b-4a06-baf8-31debbe12e98\",\"type\":\"Quad\"},{\"attributes\":{\"plot\":{\"id\":\"24318e02-1c28-4122-99d0-2d5c3e61d8bf\",\"subtype\":\"Figure\",\"type\":\"Plot\"}},\"id\":\"dac6b684-df15-434d-8fc6-959314a5bc6f\",\"type\":\"PanTool\"},{\"attributes\":{},\"id\":\"ab1d88af-0d9c-44f0-ad50-07f7592c65c0\",\"type\":\"BasicTickFormatter\"},{\"attributes\":{\"bottom_units\":\"screen\",\"fill_alpha\":{\"value\":0.5},\"fill_color\":{\"value\":\"lightgrey\"},\"left_units\":\"screen\",\"level\":\"overlay\",\"line_alpha\":{\"value\":1.0},\"line_color\":{\"value\":\"black\"},\"line_dash\":[4,4],\"line_width\":{\"value\":2},\"plot\":null,\"render_mode\":\"css\",\"right_units\":\"screen\",\"top_units\":\"screen\"},\"id\":\"2d12315a-1d04-4bee-b359-13ecd71700bb\",\"type\":\"BoxAnnotation\"},{\"attributes\":{\"callback\":null,\"column_names\":[\"right\",\"bottom\",\"top\",\"left\"],\"data\":{\"bottom\":[345,345,345,345,345,345,345],\"left\":[135809835,135957574,136289083,136499189,136545415,136597196,136664254],\"right\":[135928279,136288182,136482839,136542633,136594750,136634047,136743222],\"top\":[375,375,375,375,375,375,375]}},\"id\":\"d83731c5-e7a6-488a-8072-906b2ab53383\",\"type\":\"ColumnDataSource\"},{\"attributes\":{\"callback\":null,\"column_names\":[\"xs\",\"ys\",\"line_color\"],\"data\":{\"line_color\":[\"black\",\"black\",\"black\",\"black\",\"black\",\"black\",\"black\",\"black\",\"black\",\"black\",\"black\",\"black\",\"black\",\"black\",\"black\",\"black\",\"black\",\"black\",\"black\",\"black\",\"black\",\"black\",\"black\",\"black\",\"black\",\"black\",\"black\",\"black\",\"black\",\"black\",\"black\",\"black\",\"black\",\"black\",\"black\",\"black\",\"black\",\"black\",\"black\",\"black\",\"black\",\"black\",\"black\",\"black\",\"black\",\"black\",\"black\",\"black\",\"black\",\"black\",\"black\",\"black\",\"black\",\"black\",\"black\",\"black\",\"black\",\"black\",\"black\",\"black\",\"black\",\"black\",\"black\",\"black\",\"black\",\"black\",\"black\",\"black\",\"black\",\"black\",\"black\",\"black\",\"black\",\"black\",\"black\",\"black\",\"black\",\"black\",\"black\",\"black\",\"black\",\"black\",\"black\",\"black\",\"black\"],\"xs\":[[135757320,135757320],[135761078,135761078],[135761271,135761271],[135762344,135762344],[135762980,135762980],[135763280,135763280],[135768815,135768815],[135769093,135769093],[135769127,135769127],[135770940,135770940],[135770951,135770951],[135776728,135776728],[135777504,135777504],[135829592,135829592],[135893372,135893372],[135952405,135952405],[135989721,135989721],[136136056,136136056],[136313639,136313639],[136401418,136401418],[136407078,136407078],[136420908,136420908],[136393658,136393658],[136396300,136396300],[136401843,136401843],[136407445,136407445],[136411879,136411879],[136412270,136412270],[136413244,136413244],[136413847,136413847],[136415217,136415217],[136416533,136416533],[136420726,136420726],[136429857,136429857],[136433740,136433740],[136436317,136436317],[136437615,136437615],[136438517,136438517],[136440300,136440300],[136443900,136443900],[136444185,136444185],[136444338,136444338],[136449254,136449254],[136451676,136451676],[136459227,136459227],[136463117,136463117],[136463454,136463454],[136467119,136467119],[136468238,136468238],[136470219,136470219],[136483355,136483355],[136485276,136485276],[136486340,136486340],[136486342,136486342],[136500475,136500475],[136501509,136501509],[136504101,136504101],[136509868,136509868],[136520043,136520043],[136527120,136527120],[136530379,136530379],[136530443,136530443],[136539330,136539330],[136539670,136539670],[136540083,136540083],[136542559,136542559],[136542560,136542560],[136506375,136506375],[136506927,136506927],[136510012,136510012],[136538939,136538939],[136535876,136535876],[136544651,136544651],[136545844,136545844],[136552526,136552526],[136553022,136553022],[136554797,136554797],[136554890,136554890],[136588031,136588031],[136589278,136589278],[136589379,136589379],[136589741,136589741],[136590746,136590746],[136593553,136593553],[136593678,136593678]],\"ys\":[[250,296],[250,296],[250,296],[250,296],[250,296],[250,296],[250,296],[250,296],[250,296],[250,296],[250,296],[250,296],[250,296],[50,91],[50,91],[50,91],[50,91],[50,91],[50,91],[50,91],[50,91],[50,91],[250,294],[250,294],[250,294],[250,294],[250,294],[250,294],[250,294],[250,294],[250,294],[250,294],[250,294],[250,294],[250,294],[250,294],[250,294],[250,294],[250,294],[250,294],[250,294],[250,294],[250,294],[250,294],[250,294],[250,294],[250,294],[250,294],[250,294],[250,294],[250,294],[250,294],[250,294],[250,294],[50,93],[50,93],[50,93],[50,93],[50,93],[50,93],[50,93],[50,93],[50,93],[50,93],[50,93],[50,93],[50,93],[250,294],[250,294],[250,294],[250,294],[150,194],[150,194],[150,194],[150,194],[150,194],[150,194],[150,194],[250,296],[250,296],[250,296],[250,296],[250,296],[250,296],[250,296]]}},\"id\":\"1aed33b0-7df4-46f9-8cce-82b1ef0f6eb6\",\"type\":\"ColumnDataSource\"},{\"attributes\":{\"line_color\":{\"field\":\"line_color\"},\"xs\":{\"field\":\"xs\"},\"ys\":{\"field\":\"ys\"}},\"id\":\"bb035e7d-f804-425c-a7a9-1c6f06bd7d54\",\"type\":\"MultiLine\"},{\"attributes\":{\"plot\":{\"id\":\"24318e02-1c28-4122-99d0-2d5c3e61d8bf\",\"subtype\":\"Figure\",\"type\":\"Plot\"}},\"id\":\"bd5c8b9c-3302-4289-a53a-a785d7d774fa\",\"type\":\"ResetTool\"},{\"attributes\":{\"overlay\":{\"id\":\"2d12315a-1d04-4bee-b359-13ecd71700bb\",\"type\":\"BoxAnnotation\"},\"plot\":{\"id\":\"24318e02-1c28-4122-99d0-2d5c3e61d8bf\",\"subtype\":\"Figure\",\"type\":\"Plot\"}},\"id\":\"cd0def2e-e2e2-486f-b421-e1656f430747\",\"type\":\"BoxZoomTool\"},{\"attributes\":{\"data_source\":{\"id\":\"196aa34d-6252-4152-a7e2-d021a1265c38\",\"type\":\"ColumnDataSource\"},\"glyph\":{\"id\":\"939186f6-4f9b-4a06-baf8-31debbe12e98\",\"type\":\"Quad\"},\"hover_glyph\":null,\"nonselection_glyph\":{\"id\":\"96671ab3-0fbe-42ce-90c4-d9ff5e59409c\",\"type\":\"Quad\"},\"selection_glyph\":null},\"id\":\"dfff87da-f6aa-43db-8638-ce26f49bd10a\",\"type\":\"GlyphRenderer\"},{\"attributes\":{\"callback\":null,\"end\":400},\"id\":\"e6bd9395-25e0-4e7a-bf92-5097c8936e26\",\"type\":\"Range1d\"},{\"attributes\":{\"callback\":null,\"column_names\":[\"y\",\"x\",\"vals\"],\"data\":{\"vals\":[\"13_1696\",\"9_944\",\"32_1361\",\"13_1227\",\"4_1442\",\"7_1303\",\"7_1760\"],\"x\":[135757320,135829592,136393658,136500475,136506375,136535876,136588031],\"y\":[301.0,96.0,299.0,98.0,299.0,199.0,301.0]}},\"id\":\"a71387d8-fc38-456c-8619-d4092691cac5\",\"type\":\"ColumnDataSource\"},{\"attributes\":{\"plot\":{\"id\":\"24318e02-1c28-4122-99d0-2d5c3e61d8bf\",\"subtype\":\"Figure\",\"type\":\"Plot\"},\"ticker\":{\"id\":\"0d1f0602-4b59-4dcd-b024-546fc5e77d20\",\"type\":\"BasicTicker\"}},\"id\":\"47613bd0-46d0-4d66-b105-cbed23709945\",\"type\":\"Grid\"},{\"attributes\":{},\"id\":\"0d1f0602-4b59-4dcd-b024-546fc5e77d20\",\"type\":\"BasicTicker\"},{\"attributes\":{\"bottom\":{\"field\":\"bottom\"},\"fill_alpha\":{\"value\":0.1},\"fill_color\":{\"value\":\"#1f77b4\"},\"left\":{\"field\":\"left\"},\"line_alpha\":{\"value\":0.1},\"line_color\":{\"value\":\"#1f77b4\"},\"right\":{\"field\":\"right\"},\"top\":{\"field\":\"top\"}},\"id\":\"96671ab3-0fbe-42ce-90c4-d9ff5e59409c\",\"type\":\"Quad\"},{\"attributes\":{\"plot\":{\"id\":\"24318e02-1c28-4122-99d0-2d5c3e61d8bf\",\"subtype\":\"Figure\",\"type\":\"Plot\"}},\"id\":\"7cc3ebe7-63c9-4cc2-a532-331590f7a44c\",\"type\":\"SaveTool\"},{\"attributes\":{\"data_source\":{\"id\":\"1aed33b0-7df4-46f9-8cce-82b1ef0f6eb6\",\"type\":\"ColumnDataSource\"},\"glyph\":{\"id\":\"bb035e7d-f804-425c-a7a9-1c6f06bd7d54\",\"type\":\"MultiLine\"},\"hover_glyph\":null,\"nonselection_glyph\":{\"id\":\"849b657c-8cb0-4cfa-8d0e-50314b69952b\",\"type\":\"MultiLine\"},\"selection_glyph\":null},\"id\":\"cd0d36b9-e2cb-4c4a-a607-bece8defdda7\",\"type\":\"GlyphRenderer\"},{\"attributes\":{\"callback\":null,\"column_names\":[\"y\",\"x\",\"vals\"],\"data\":{\"vals\":[\"RAB3GAP1\",\"ZRANB3\",\"R3HDM1\",\"UBXN4\",\"LCT\",\"MCM6\",\"DARS\"],\"x\":[135869057.0,136122878.0,136385961.0,136520911.0,136570082.5,136615621.5,136703738.0],\"y\":[360.0,360.0,360.0,360.0,360.0,360.0,360.0]}},\"id\":\"68daf577-903e-421d-8b33-019771475b3c\",\"type\":\"ColumnDataSource\"},{\"attributes\":{},\"id\":\"680d5f04-d939-4564-b4c7-16cb0e1644fb\",\"type\":\"BasicTickFormatter\"},{\"attributes\":{\"formatter\":{\"id\":\"680d5f04-d939-4564-b4c7-16cb0e1644fb\",\"type\":\"BasicTickFormatter\"},\"plot\":{\"id\":\"24318e02-1c28-4122-99d0-2d5c3e61d8bf\",\"subtype\":\"Figure\",\"type\":\"Plot\"},\"ticker\":{\"id\":\"b29f75ca-a482-4280-8e00-de7f7b98878f\",\"type\":\"BasicTicker\"},\"visible\":null},\"id\":\"cd82caca-18de-406e-8a03-ebb210f29b31\",\"type\":\"LinearAxis\"},{\"attributes\":{\"plot\":{\"id\":\"24318e02-1c28-4122-99d0-2d5c3e61d8bf\",\"subtype\":\"Figure\",\"type\":\"Plot\"}},\"id\":\"4e120852-e406-4835-8c75-7c3a69a60417\",\"type\":\"HelpTool\"},{\"attributes\":{\"below\":[{\"id\":\"f81eefac-efb0-4561-8725-b5fc2559364c\",\"type\":\"LinearAxis\"}],\"left\":[{\"id\":\"cd82caca-18de-406e-8a03-ebb210f29b31\",\"type\":\"LinearAxis\"}],\"plot_height\":400,\"plot_width\":900,\"renderers\":[{\"id\":\"f81eefac-efb0-4561-8725-b5fc2559364c\",\"type\":\"LinearAxis\"},{\"id\":\"47613bd0-46d0-4d66-b105-cbed23709945\",\"type\":\"Grid\"},{\"id\":\"cd82caca-18de-406e-8a03-ebb210f29b31\",\"type\":\"LinearAxis\"},{\"id\":\"0ed2460b-6431-49e9-a738-9c68ac9cfce9\",\"type\":\"Grid\"},{\"id\":\"2d12315a-1d04-4bee-b359-13ecd71700bb\",\"type\":\"BoxAnnotation\"},{\"id\":\"dfff87da-f6aa-43db-8638-ce26f49bd10a\",\"type\":\"GlyphRenderer\"},{\"id\":\"cd0d36b9-e2cb-4c4a-a607-bece8defdda7\",\"type\":\"GlyphRenderer\"},{\"id\":\"61267886-97ba-4092-9842-3b3a6b2ff386\",\"type\":\"LabelSet\"},{\"id\":\"7dd36d09-cfca-43e9-8a0b-d5d835d44098\",\"type\":\"GlyphRenderer\"},{\"id\":\"7cc67d7d-1902-4015-80c2-bf0f08554ad3\",\"type\":\"LabelSet\"}],\"title\":{\"id\":\"01cc59b8-a316-4025-bb64-24e0cab8a6e1\",\"type\":\"Title\"},\"tool_events\":{\"id\":\"3c8f07dd-4bc7-4687-876b-3a2fb60d6e2c\",\"type\":\"ToolEvents\"},\"toolbar\":{\"id\":\"b11cf76c-35c9-483c-9f9e-9289f4965a30\",\"type\":\"Toolbar\"},\"toolbar_location\":null,\"x_range\":{\"id\":\"d43392e3-90fd-4acd-b7af-b1373d0f9458\",\"type\":\"Range1d\"},\"y_range\":{\"id\":\"e6bd9395-25e0-4e7a-bf92-5097c8936e26\",\"type\":\"Range1d\"}},\"id\":\"24318e02-1c28-4122-99d0-2d5c3e61d8bf\",\"subtype\":\"Figure\",\"type\":\"Plot\"},{\"attributes\":{\"callback\":null,\"end\":136786630,\"start\":135757320},\"id\":\"d43392e3-90fd-4acd-b7af-b1373d0f9458\",\"type\":\"Range1d\"},{\"attributes\":{\"callback\":null,\"column_names\":[\"right\",\"bottom\",\"top\",\"left\",\"fill_color\"],\"data\":{\"bottom\":[250,50,250,50,250,150,250],\"fill_color\":[\"#808080\",\"#c4c461\",\"#c4c461\",\"#808080\",\"#808080\",\"#808080\",\"#c46161\"],\"left\":[135757320,135829592,136393658,136500475,136506375,136535876,136588031],\"right\":[135777504,136420908,136486342,136542560,136538939,136554890,136593678],\"top\":[296,91,294,93,294,194,296]}},\"id\":\"196aa34d-6252-4152-a7e2-d021a1265c38\",\"type\":\"ColumnDataSource\"},{\"attributes\":{},\"id\":\"b29f75ca-a482-4280-8e00-de7f7b98878f\",\"type\":\"BasicTicker\"},{\"attributes\":{\"level\":\"glyph\",\"plot\":{\"id\":\"24318e02-1c28-4122-99d0-2d5c3e61d8bf\",\"subtype\":\"Figure\",\"type\":\"Plot\"},\"source\":{\"id\":\"a71387d8-fc38-456c-8619-d4092691cac5\",\"type\":\"ColumnDataSource\"},\"text\":{\"field\":\"vals\"},\"text_font_size\":{\"value\":\"9pt\"},\"text_font_style\":\"bold\",\"x\":{\"field\":\"x\"},\"y\":{\"field\":\"y\"}},\"id\":\"61267886-97ba-4092-9842-3b3a6b2ff386\",\"type\":\"LabelSet\"},{\"attributes\":{\"bottom\":{\"field\":\"bottom\"},\"fill_color\":{\"value\":\"white\"},\"left\":{\"field\":\"left\"},\"right\":{\"field\":\"right\"},\"top\":{\"field\":\"top\"}},\"id\":\"30727df8-2f6c-43f7-903d-dd540785f60f\",\"type\":\"Quad\"},{\"attributes\":{},\"id\":\"3c8f07dd-4bc7-4687-876b-3a2fb60d6e2c\",\"type\":\"ToolEvents\"},{\"attributes\":{\"data_source\":{\"id\":\"d83731c5-e7a6-488a-8072-906b2ab53383\",\"type\":\"ColumnDataSource\"},\"glyph\":{\"id\":\"30727df8-2f6c-43f7-903d-dd540785f60f\",\"type\":\"Quad\"},\"hover_glyph\":null,\"nonselection_glyph\":{\"id\":\"7eee7647-21d8-4dba-9f68-6ef68ffd2a75\",\"type\":\"Quad\"},\"selection_glyph\":null},\"id\":\"7dd36d09-cfca-43e9-8a0b-d5d835d44098\",\"type\":\"GlyphRenderer\"},{\"attributes\":{\"level\":\"glyph\",\"plot\":{\"id\":\"24318e02-1c28-4122-99d0-2d5c3e61d8bf\",\"subtype\":\"Figure\",\"type\":\"Plot\"},\"source\":{\"id\":\"68daf577-903e-421d-8b33-019771475b3c\",\"type\":\"ColumnDataSource\"},\"text\":{\"field\":\"vals\"},\"text_align\":\"center\",\"text_baseline\":\"middle\",\"text_font_size\":{\"value\":\"8pt\"},\"x\":{\"field\":\"x\"},\"y\":{\"field\":\"y\"}},\"id\":\"7cc67d7d-1902-4015-80c2-bf0f08554ad3\",\"type\":\"LabelSet\"},{\"attributes\":{\"plot\":null,\"text\":null},\"id\":\"01cc59b8-a316-4025-bb64-24e0cab8a6e1\",\"type\":\"Title\"}],\"root_ids\":[\"24318e02-1c28-4122-99d0-2d5c3e61d8bf\"]},\"title\":\"Bokeh Application\",\"version\":\"0.12.0\"}};\n",
       "            var render_items = [{\"docid\":\"8a85be8d-c83c-4e19-8f40-92584ef5a114\",\"elementid\":\"924f37d6-0a64-4b78-bbf1-64bfdac12f99\",\"modelid\":\"24318e02-1c28-4122-99d0-2d5c3e61d8bf\",\"notebook_comms_target\":\"45b58abc-b29e-4eb8-b260-6390fcba140a\"}];\n",
       "            \n",
       "            Bokeh.embed.embed_items(docs_json, render_items);\n",
       "        });\n",
       "      },\n",
       "      function(Bokeh) {\n",
       "      }\n",
       "    ];\n",
       "  \n",
       "    function run_inline_js() {\n",
       "      for (var i = 0; i < inline_js.length; i++) {\n",
       "        inline_js[i](window.Bokeh);\n",
       "      }\n",
       "    }\n",
       "  \n",
       "    if (window._bokeh_is_loading === 0) {\n",
       "      console.log(\"Bokeh: BokehJS loaded, going straight to plotting\");\n",
       "      run_inline_js();\n",
       "    } else {\n",
       "      load_libs(js_urls, function() {\n",
       "        console.log(\"Bokeh: BokehJS plotting callback run at\", now());\n",
       "        run_inline_js();\n",
       "      });\n",
       "    }\n",
       "  }(this));\n",
       "</script>"
      ]
     },
     "metadata": {},
     "output_type": "display_data"
    },
    {
     "data": {
      "text/html": [
       "<p><code>&lt;Bokeh Notebook handle for <strong>In[30]</strong>&gt;</code></p>"
      ],
      "text/plain": [
       "<bokeh.io._CommsHandle at 0x7f7c7ec6afd0>"
      ]
     },
     "execution_count": 30,
     "metadata": {},
     "output_type": "execute_result"
    }
   ],
   "source": [
    "plt_obj=dm.superset_basis_yes_no(dm.di_9_944, [dm.di_9_944], [dm.di_64_1575], min_match=0.1)\n",
    "plt = plt_obj.do_plot()\n",
    "show(plt)"
   ]
  },
  {
   "cell_type": "code",
   "execution_count": 31,
   "metadata": {
    "collapsed": false
   },
   "outputs": [
    {
     "data": {
      "text/html": [
       "<table>\n",
       "<thead><tr><th style=\"text-align:center\">index</th><th style=\"text-align:center\">first</th><th style=\"text-align:center\">length</th><th style=\"text-align:center\">snps</th><th style=\"text-align:center\" colspan=2>alleles</th><th style=\"text-align:center\" colspan=2>matches</th><th style=\"text-align:center\" colspan=2>afr</th><th style=\"text-align:center\" colspan=2>afx</th><th style=\"text-align:center\" colspan=2>amr</th><th style=\"text-align:center\" colspan=2>eas</th><th style=\"text-align:center\" colspan=2>eur</th><th style=\"text-align:center\" colspan=2>sas</th><th style=\"text-align:center\" colspan=2>sax</th></tr></thead>\n",
       "<tr class=\"even\"><td style=\"text-align: right;\">354033</td><td style=\"text-align: right;\">136,588,031</td><td style=\"text-align: right;\">5,647</td><td style=\"text-align: right;\">7</td><td style=\"text-align: right;\">1760</td><td style=\"text-align: right;\">0.02</td><td style=\"text-align: right;\">38</td><td style=\"text-align: right;\">0.95</td><td style=\"text-align: right;\">0</td><td style=\"text-align: right;\">0.00</td><td style=\"text-align: right;\">0</td><td style=\"text-align: right;\">0.00</td><td style=\"text-align: right;\">3</td><td style=\"text-align: right;\">0.57</td><td style=\"text-align: right;\">1</td><td style=\"text-align: right;\">0.13</td><td style=\"text-align: right;\">13</td><td style=\"text-align: right;\">1.70</td><td style=\"text-align: right;\">11</td><td style=\"text-align: right;\">3.98</td><td style=\"text-align: right;\">10</td><td style=\"text-align: right;\">2.15</td></tr>\n",
       "<tr><td style=\"text-align: right;\">353240</td><td style=\"text-align: right;\">135,757,320</td><td style=\"text-align: right;\">20,184</td><td style=\"text-align: right;\">13</td><td style=\"text-align: right;\">1696</td><td style=\"text-align: right;\">0.02</td><td style=\"text-align: right;\">39</td><td style=\"text-align: right;\">0.98</td><td style=\"text-align: right;\">0</td><td style=\"text-align: right;\">0.00</td><td style=\"text-align: right;\">0</td><td style=\"text-align: right;\">0.00</td><td style=\"text-align: right;\">3</td><td style=\"text-align: right;\">0.56</td><td style=\"text-align: right;\">1</td><td style=\"text-align: right;\">0.13</td><td style=\"text-align: right;\">12</td><td style=\"text-align: right;\">1.53</td><td style=\"text-align: right;\">11</td><td style=\"text-align: right;\">3.88</td><td style=\"text-align: right;\">12</td><td style=\"text-align: right;\">2.51</td></tr>\n",
       "<tr class=\"even\"><td style=\"text-align: right;\">353925</td><td style=\"text-align: right;\">136,506,375</td><td style=\"text-align: right;\">32,564</td><td style=\"text-align: right;\">4</td><td style=\"text-align: right;\">1442</td><td style=\"text-align: right;\">0.03</td><td style=\"text-align: right;\">40</td><td style=\"text-align: right;\">1.00</td><td style=\"text-align: right;\">0</td><td style=\"text-align: right;\">0.00</td><td style=\"text-align: right;\">0</td><td style=\"text-align: right;\">0.00</td><td style=\"text-align: right;\">3</td><td style=\"text-align: right;\">0.54</td><td style=\"text-align: right;\">1</td><td style=\"text-align: right;\">0.12</td><td style=\"text-align: right;\">13</td><td style=\"text-align: right;\">1.62</td><td style=\"text-align: right;\">11</td><td style=\"text-align: right;\">3.78</td><td style=\"text-align: right;\">12</td><td style=\"text-align: right;\">2.45</td></tr>\n",
       "<tr><td style=\"text-align: right;\">353791</td><td style=\"text-align: right;\">136,393,658</td><td style=\"text-align: right;\">92,684</td><td style=\"text-align: right;\">32</td><td style=\"text-align: right;\">1361</td><td style=\"text-align: right;\">0.03</td><td style=\"text-align: right;\">40</td><td style=\"text-align: right;\">1.00</td><td style=\"text-align: right;\">0</td><td style=\"text-align: right;\">0.00</td><td style=\"text-align: right;\">0</td><td style=\"text-align: right;\">0.00</td><td style=\"text-align: right;\">3</td><td style=\"text-align: right;\">0.54</td><td style=\"text-align: right;\">1</td><td style=\"text-align: right;\">0.12</td><td style=\"text-align: right;\">13</td><td style=\"text-align: right;\">1.62</td><td style=\"text-align: right;\">11</td><td style=\"text-align: right;\">3.78</td><td style=\"text-align: right;\">12</td><td style=\"text-align: right;\">2.45</td></tr>\n",
       "<tr class=\"even\"><td style=\"text-align: right;\">353958</td><td style=\"text-align: right;\">136,535,876</td><td style=\"text-align: right;\">19,014</td><td style=\"text-align: right;\">7</td><td style=\"text-align: right;\">1303</td><td style=\"text-align: right;\">0.03</td><td style=\"text-align: right;\">40</td><td style=\"text-align: right;\">1.00</td><td style=\"text-align: right;\">0</td><td style=\"text-align: right;\">0.00</td><td style=\"text-align: right;\">0</td><td style=\"text-align: right;\">0.00</td><td style=\"text-align: right;\">3</td><td style=\"text-align: right;\">0.54</td><td style=\"text-align: right;\">1</td><td style=\"text-align: right;\">0.12</td><td style=\"text-align: right;\">13</td><td style=\"text-align: right;\">1.62</td><td style=\"text-align: right;\">11</td><td style=\"text-align: right;\">3.78</td><td style=\"text-align: right;\">12</td><td style=\"text-align: right;\">2.45</td></tr>\n",
       "<tr><td style=\"text-align: right;\">353919</td><td style=\"text-align: right;\">136,500,475</td><td style=\"text-align: right;\">42,085</td><td style=\"text-align: right;\">13</td><td style=\"text-align: right;\">1227</td><td style=\"text-align: right;\">0.03</td><td style=\"text-align: right;\">40</td><td style=\"text-align: right;\">1.00</td><td style=\"text-align: right;\">0</td><td style=\"text-align: right;\">0.00</td><td style=\"text-align: right;\">0</td><td style=\"text-align: right;\">0.00</td><td style=\"text-align: right;\">3</td><td style=\"text-align: right;\">0.54</td><td style=\"text-align: right;\">1</td><td style=\"text-align: right;\">0.12</td><td style=\"text-align: right;\">13</td><td style=\"text-align: right;\">1.62</td><td style=\"text-align: right;\">11</td><td style=\"text-align: right;\">3.78</td><td style=\"text-align: right;\">12</td><td style=\"text-align: right;\">2.45</td></tr>\n",
       "<tr class=\"even\"><td style=\"text-align: right;\">353372</td><td style=\"text-align: right;\">135,829,592</td><td style=\"text-align: right;\">591,316</td><td style=\"text-align: right;\">9</td><td style=\"text-align: right;\">944</td><td style=\"text-align: right;\">0.04</td><td style=\"text-align: right;\">40</td><td style=\"text-align: right;\">1.00</td><td style=\"text-align: right;\">0</td><td style=\"text-align: right;\">0.00</td><td style=\"text-align: right;\">0</td><td style=\"text-align: right;\">0.00</td><td style=\"text-align: right;\">3</td><td style=\"text-align: right;\">0.54</td><td style=\"text-align: right;\">1</td><td style=\"text-align: right;\">0.12</td><td style=\"text-align: right;\">13</td><td style=\"text-align: right;\">1.62</td><td style=\"text-align: right;\">11</td><td style=\"text-align: right;\">3.78</td><td style=\"text-align: right;\">12</td><td style=\"text-align: right;\">2.45</td></tr>\n",
       "</table>"
      ],
      "text/plain": [
       "<IPython.core.display.HTML object>"
      ]
     },
     "execution_count": 31,
     "metadata": {},
     "output_type": "execute_result"
    }
   ],
   "source": [
    "HTML(plt_obj.get_html())"
   ]
  },
  {
   "cell_type": "markdown",
   "metadata": {},
   "source": [
    "<div style=\"width:700px\">\n",
    "<p>\n",
    "This plot shows the association of series expressed by the 150 samples that\n",
    "express 81_857 as a basis series and express the series 9_944.  Other then the\n",
    "2 samples that do not express the series 13_1227, all of these samples\n",
    "express a common association of series for this region. The samples include\n",
    "45 South Asian, 43 European, 38 American, 19 African, and 5 East Asian.  American\n",
    "samples are most overexpressed.  East Asian samples are the most under\n",
    "expressed.  The under expression of East Asian samples for this plot underscores\n",
    "the result that the overexpression of the East Asian tree by East Asian samples\n",
    "appears to primarily be the result of some kind of selective advantage for the\n",
    "series 5_684.\n",
    "</div>"
   ]
  },
  {
   "cell_type": "code",
   "execution_count": 32,
   "metadata": {
    "collapsed": false
   },
   "outputs": [
    {
     "data": {
      "text/html": [
       "\n",
       "\n",
       "    <div class=\"bk-root\">\n",
       "        <div class=\"plotdiv\" id=\"bf019f61-9164-4e2a-985a-405254362ec5\"></div>\n",
       "    </div>\n",
       "<script type=\"text/javascript\">\n",
       "  \n",
       "  (function(global) {\n",
       "    function now() {\n",
       "      return new Date();\n",
       "    }\n",
       "  \n",
       "    if (typeof (window._bokeh_onload_callbacks) === \"undefined\") {\n",
       "      window._bokeh_onload_callbacks = [];\n",
       "    }\n",
       "  \n",
       "    function run_callbacks() {\n",
       "      window._bokeh_onload_callbacks.forEach(function(callback) { callback() });\n",
       "      delete window._bokeh_onload_callbacks\n",
       "      console.info(\"Bokeh: all callbacks have finished\");\n",
       "    }\n",
       "  \n",
       "    function load_libs(js_urls, callback) {\n",
       "      window._bokeh_onload_callbacks.push(callback);\n",
       "      if (window._bokeh_is_loading > 0) {\n",
       "        console.log(\"Bokeh: BokehJS is being loaded, scheduling callback at\", now());\n",
       "        return null;\n",
       "      }\n",
       "      if (js_urls == null || js_urls.length === 0) {\n",
       "        run_callbacks();\n",
       "        return null;\n",
       "      }\n",
       "      console.log(\"Bokeh: BokehJS not loaded, scheduling load and callback at\", now());\n",
       "      window._bokeh_is_loading = js_urls.length;\n",
       "      for (var i = 0; i < js_urls.length; i++) {\n",
       "        var url = js_urls[i];\n",
       "        var s = document.createElement('script');\n",
       "        s.src = url;\n",
       "        s.async = false;\n",
       "        s.onreadystatechange = s.onload = function() {\n",
       "          window._bokeh_is_loading--;\n",
       "          if (window._bokeh_is_loading === 0) {\n",
       "            console.log(\"Bokeh: all BokehJS libraries loaded\");\n",
       "            run_callbacks()\n",
       "          }\n",
       "        };\n",
       "        s.onerror = function() {\n",
       "          console.warn(\"failed to load library \" + url);\n",
       "        };\n",
       "        console.log(\"Bokeh: injecting script tag for BokehJS library: \", url);\n",
       "        document.getElementsByTagName(\"head\")[0].appendChild(s);\n",
       "      }\n",
       "    };var element = document.getElementById(\"bf019f61-9164-4e2a-985a-405254362ec5\");\n",
       "    if (element == null) {\n",
       "      console.log(\"Bokeh: ERROR: autoload.js configured with elementid 'bf019f61-9164-4e2a-985a-405254362ec5' but no matching script tag was found. \")\n",
       "      return false;\n",
       "    }\n",
       "  \n",
       "    var js_urls = [];\n",
       "  \n",
       "    var inline_js = [\n",
       "      function(Bokeh) {\n",
       "        Bokeh.$(function() {\n",
       "            var docs_json = {\"f1c28016-bea0-4679-9ac4-0de2856cbcc5\":{\"roots\":{\"references\":[{\"attributes\":{\"formatter\":{\"id\":\"33bb6df0-4c5a-444d-bb0d-9d2f1473868b\",\"type\":\"BasicTickFormatter\"},\"plot\":{\"id\":\"8b8c2284-67b9-4708-8bb5-e2b13bc37ff8\",\"subtype\":\"Figure\",\"type\":\"Plot\"},\"ticker\":{\"id\":\"043719dc-b3d8-4a61-9ec0-7b5579c7bc3a\",\"type\":\"BasicTicker\"},\"visible\":null},\"id\":\"a81f8292-ddce-43ea-be7a-83885886d0d4\",\"type\":\"LinearAxis\"},{\"attributes\":{\"bottom\":{\"field\":\"bottom\"},\"fill_alpha\":{\"value\":0.1},\"fill_color\":{\"value\":\"#1f77b4\"},\"left\":{\"field\":\"left\"},\"line_alpha\":{\"value\":0.1},\"line_color\":{\"value\":\"#1f77b4\"},\"right\":{\"field\":\"right\"},\"top\":{\"field\":\"top\"}},\"id\":\"870ed45e-7e11-4fff-8f31-40bcfedfa1a1\",\"type\":\"Quad\"},{\"attributes\":{\"plot\":{\"id\":\"8b8c2284-67b9-4708-8bb5-e2b13bc37ff8\",\"subtype\":\"Figure\",\"type\":\"Plot\"}},\"id\":\"c568fcc9-b743-4373-bb81-0f687e3efc3a\",\"type\":\"SaveTool\"},{\"attributes\":{\"bottom\":{\"field\":\"bottom\"},\"fill_color\":{\"field\":\"fill_color\"},\"left\":{\"field\":\"left\"},\"line_color\":{\"value\":null},\"right\":{\"field\":\"right\"},\"top\":{\"field\":\"top\"}},\"id\":\"061576d7-6a25-4900-a0b8-0d8dbdaa346c\",\"type\":\"Quad\"},{\"attributes\":{\"callback\":null,\"column_names\":[\"right\",\"bottom\",\"top\",\"left\",\"fill_color\"],\"data\":{\"bottom\":[450,50,350,50,150,350,250,450,150,250,450],\"fill_color\":[\"#808080\",\"#c4c461\",\"#c4c461\",\"#808080\",\"#808080\",\"#808080\",\"#808080\",\"#c46161\",\"#808080\",\"#808080\",\"#808080\"],\"left\":[135757320,135829592,136393658,136494985,136500475,136506375,136535876,136588031,136652491,136652953,136653925],\"right\":[135777504,136420908,136486342,136773638,136542560,136538939,136554890,136593678,136732772,136761175,136761853],\"top\":[496,91,394,90,193,394,294,496,192,294,495]}},\"id\":\"a75a38a8-f375-47e8-93d7-3bb93af8c66a\",\"type\":\"ColumnDataSource\"},{\"attributes\":{\"bottom\":{\"field\":\"bottom\"},\"fill_alpha\":{\"value\":0.1},\"fill_color\":{\"value\":\"#1f77b4\"},\"left\":{\"field\":\"left\"},\"line_alpha\":{\"value\":0.1},\"line_color\":{\"value\":\"#1f77b4\"},\"right\":{\"field\":\"right\"},\"top\":{\"field\":\"top\"}},\"id\":\"d1edbb13-f0ea-4d87-84d6-167e839e627b\",\"type\":\"Quad\"},{\"attributes\":{\"bottom_units\":\"screen\",\"fill_alpha\":{\"value\":0.5},\"fill_color\":{\"value\":\"lightgrey\"},\"left_units\":\"screen\",\"level\":\"overlay\",\"line_alpha\":{\"value\":1.0},\"line_color\":{\"value\":\"black\"},\"line_dash\":[4,4],\"line_width\":{\"value\":2},\"plot\":null,\"render_mode\":\"css\",\"right_units\":\"screen\",\"top_units\":\"screen\"},\"id\":\"9e38d918-45c5-429b-8740-7c539f6eba92\",\"type\":\"BoxAnnotation\"},{\"attributes\":{},\"id\":\"33bb6df0-4c5a-444d-bb0d-9d2f1473868b\",\"type\":\"BasicTickFormatter\"},{\"attributes\":{\"data_source\":{\"id\":\"f311ce23-9603-4acb-a133-a9bb2a6aa39d\",\"type\":\"ColumnDataSource\"},\"glyph\":{\"id\":\"bbca6fe1-195a-4f1b-9dbb-d118c9c7acec\",\"type\":\"Quad\"},\"hover_glyph\":null,\"nonselection_glyph\":{\"id\":\"870ed45e-7e11-4fff-8f31-40bcfedfa1a1\",\"type\":\"Quad\"},\"selection_glyph\":null},\"id\":\"fa37e2b5-2fce-43f5-a2ba-411f322f8e1c\",\"type\":\"GlyphRenderer\"},{\"attributes\":{\"plot\":{\"id\":\"8b8c2284-67b9-4708-8bb5-e2b13bc37ff8\",\"subtype\":\"Figure\",\"type\":\"Plot\"},\"ticker\":{\"id\":\"673e4334-c3fc-46fa-ac87-9a1e510a274a\",\"type\":\"BasicTicker\"}},\"id\":\"e979ecd5-0ac1-4947-a6b4-9d45e111e4ee\",\"type\":\"Grid\"},{\"attributes\":{\"level\":\"glyph\",\"plot\":{\"id\":\"8b8c2284-67b9-4708-8bb5-e2b13bc37ff8\",\"subtype\":\"Figure\",\"type\":\"Plot\"},\"source\":{\"id\":\"eb0ccf88-c3d5-420d-a3fb-856d0ed81230\",\"type\":\"ColumnDataSource\"},\"text\":{\"field\":\"vals\"},\"text_font_size\":{\"value\":\"9pt\"},\"text_font_style\":\"bold\",\"x\":{\"field\":\"x\"},\"y\":{\"field\":\"y\"}},\"id\":\"68ab9d85-2755-40cb-816b-60dc65e0616f\",\"type\":\"LabelSet\"},{\"attributes\":{\"plot\":null,\"text\":null},\"id\":\"e49f22ce-2664-4431-957d-f86e1e3c9048\",\"type\":\"Title\"},{\"attributes\":{},\"id\":\"043719dc-b3d8-4a61-9ec0-7b5579c7bc3a\",\"type\":\"BasicTicker\"},{\"attributes\":{\"callback\":null,\"column_names\":[\"y\",\"x\",\"vals\"],\"data\":{\"vals\":[\"13_1696\",\"9_944\",\"32_1361\",\"81_857\",\"13_1227\",\"4_1442\",\"7_1303\",\"7_1760\",\"6_1114\",\"5_1296\",\"24_1504\"],\"x\":[135757320,135829592,136393658,136494985,136500475,136506375,136535876,136588031,136652491,136652953,136653925],\"y\":[501.0,96.0,399.0,95.0,198.0,399.0,299.0,501.0,197.0,299.0,500.0]}},\"id\":\"eb0ccf88-c3d5-420d-a3fb-856d0ed81230\",\"type\":\"ColumnDataSource\"},{\"attributes\":{\"callback\":null,\"column_names\":[\"right\",\"bottom\",\"top\",\"left\"],\"data\":{\"bottom\":[545,545,545,545,545,545,545],\"left\":[135809835,135957574,136289083,136499189,136545415,136597196,136664254],\"right\":[135928279,136288182,136482839,136542633,136594750,136634047,136743222],\"top\":[575,575,575,575,575,575,575]}},\"id\":\"f311ce23-9603-4acb-a133-a9bb2a6aa39d\",\"type\":\"ColumnDataSource\"},{\"attributes\":{\"callback\":null,\"end\":600},\"id\":\"03d6579d-f31e-4044-823c-5ba818877829\",\"type\":\"Range1d\"},{\"attributes\":{\"below\":[{\"id\":\"b5d36fdc-c356-4e1c-bf07-26660fd64091\",\"type\":\"LinearAxis\"}],\"left\":[{\"id\":\"a81f8292-ddce-43ea-be7a-83885886d0d4\",\"type\":\"LinearAxis\"}],\"plot_width\":900,\"renderers\":[{\"id\":\"b5d36fdc-c356-4e1c-bf07-26660fd64091\",\"type\":\"LinearAxis\"},{\"id\":\"e979ecd5-0ac1-4947-a6b4-9d45e111e4ee\",\"type\":\"Grid\"},{\"id\":\"a81f8292-ddce-43ea-be7a-83885886d0d4\",\"type\":\"LinearAxis\"},{\"id\":\"30b35a69-f80c-46fc-b752-a5797b516a51\",\"type\":\"Grid\"},{\"id\":\"9e38d918-45c5-429b-8740-7c539f6eba92\",\"type\":\"BoxAnnotation\"},{\"id\":\"7dd16a28-c69e-40ab-9dec-187d0910b84d\",\"type\":\"GlyphRenderer\"},{\"id\":\"f9e4eb7a-89ac-4235-bde6-8c0ce051d478\",\"type\":\"GlyphRenderer\"},{\"id\":\"68ab9d85-2755-40cb-816b-60dc65e0616f\",\"type\":\"LabelSet\"},{\"id\":\"fa37e2b5-2fce-43f5-a2ba-411f322f8e1c\",\"type\":\"GlyphRenderer\"},{\"id\":\"260399c0-012a-4a7a-963c-6c66c2489ef0\",\"type\":\"LabelSet\"}],\"title\":{\"id\":\"e49f22ce-2664-4431-957d-f86e1e3c9048\",\"type\":\"Title\"},\"tool_events\":{\"id\":\"482d6eaa-0807-4ca9-9b1d-abea3bb94091\",\"type\":\"ToolEvents\"},\"toolbar\":{\"id\":\"7797962a-b524-4490-a793-d13c8d15f1e8\",\"type\":\"Toolbar\"},\"toolbar_location\":null,\"x_range\":{\"id\":\"d920f74a-b029-4eba-a5da-7f005a6c9130\",\"type\":\"Range1d\"},\"y_range\":{\"id\":\"03d6579d-f31e-4044-823c-5ba818877829\",\"type\":\"Range1d\"}},\"id\":\"8b8c2284-67b9-4708-8bb5-e2b13bc37ff8\",\"subtype\":\"Figure\",\"type\":\"Plot\"},{\"attributes\":{\"plot\":{\"id\":\"8b8c2284-67b9-4708-8bb5-e2b13bc37ff8\",\"subtype\":\"Figure\",\"type\":\"Plot\"}},\"id\":\"dc13b65e-0f00-4eca-bb54-f2e46f2eb1df\",\"type\":\"PanTool\"},{\"attributes\":{\"data_source\":{\"id\":\"a75a38a8-f375-47e8-93d7-3bb93af8c66a\",\"type\":\"ColumnDataSource\"},\"glyph\":{\"id\":\"061576d7-6a25-4900-a0b8-0d8dbdaa346c\",\"type\":\"Quad\"},\"hover_glyph\":null,\"nonselection_glyph\":{\"id\":\"d1edbb13-f0ea-4d87-84d6-167e839e627b\",\"type\":\"Quad\"},\"selection_glyph\":null},\"id\":\"7dd16a28-c69e-40ab-9dec-187d0910b84d\",\"type\":\"GlyphRenderer\"},{\"attributes\":{\"plot\":{\"id\":\"8b8c2284-67b9-4708-8bb5-e2b13bc37ff8\",\"subtype\":\"Figure\",\"type\":\"Plot\"}},\"id\":\"ed7856a4-72e6-4937-92c8-25b3943f88af\",\"type\":\"ResetTool\"},{\"attributes\":{\"dimension\":1,\"plot\":{\"id\":\"8b8c2284-67b9-4708-8bb5-e2b13bc37ff8\",\"subtype\":\"Figure\",\"type\":\"Plot\"},\"ticker\":{\"id\":\"043719dc-b3d8-4a61-9ec0-7b5579c7bc3a\",\"type\":\"BasicTicker\"}},\"id\":\"30b35a69-f80c-46fc-b752-a5797b516a51\",\"type\":\"Grid\"},{\"attributes\":{\"active_drag\":\"auto\",\"active_scroll\":\"auto\",\"active_tap\":\"auto\",\"tools\":[{\"id\":\"dc13b65e-0f00-4eca-bb54-f2e46f2eb1df\",\"type\":\"PanTool\"},{\"id\":\"6fd73bc7-f81e-43a7-afe0-920963d51703\",\"type\":\"WheelZoomTool\"},{\"id\":\"13d6ed5b-a7f2-46b2-a541-40509bfa5acf\",\"type\":\"BoxZoomTool\"},{\"id\":\"c568fcc9-b743-4373-bb81-0f687e3efc3a\",\"type\":\"SaveTool\"},{\"id\":\"ed7856a4-72e6-4937-92c8-25b3943f88af\",\"type\":\"ResetTool\"},{\"id\":\"e8b87eee-7393-4540-a80c-ee594256f62f\",\"type\":\"HelpTool\"}]},\"id\":\"7797962a-b524-4490-a793-d13c8d15f1e8\",\"type\":\"Toolbar\"},{\"attributes\":{\"callback\":null,\"column_names\":[\"y\",\"x\",\"vals\"],\"data\":{\"vals\":[\"RAB3GAP1\",\"ZRANB3\",\"R3HDM1\",\"UBXN4\",\"LCT\",\"MCM6\",\"DARS\"],\"x\":[135869057.0,136122878.0,136385961.0,136520911.0,136570082.5,136615621.5,136703738.0],\"y\":[560.0,560.0,560.0,560.0,560.0,560.0,560.0]}},\"id\":\"2a92c2de-3f28-48e9-851b-47e572abfb8e\",\"type\":\"ColumnDataSource\"},{\"attributes\":{\"line_alpha\":{\"value\":0.1},\"line_color\":{\"value\":\"#1f77b4\"},\"xs\":{\"field\":\"xs\"},\"ys\":{\"field\":\"ys\"}},\"id\":\"1c9c5baf-7d0a-4a06-b8bd-d07606b701d5\",\"type\":\"MultiLine\"},{\"attributes\":{\"data_source\":{\"id\":\"2406d689-1d1e-4351-bd10-8f8054f3ce02\",\"type\":\"ColumnDataSource\"},\"glyph\":{\"id\":\"946818e6-0d94-4c22-a88f-3fc9282f217f\",\"type\":\"MultiLine\"},\"hover_glyph\":null,\"nonselection_glyph\":{\"id\":\"1c9c5baf-7d0a-4a06-b8bd-d07606b701d5\",\"type\":\"MultiLine\"},\"selection_glyph\":null},\"id\":\"f9e4eb7a-89ac-4235-bde6-8c0ce051d478\",\"type\":\"GlyphRenderer\"},{\"attributes\":{},\"id\":\"673e4334-c3fc-46fa-ac87-9a1e510a274a\",\"type\":\"BasicTicker\"},{\"attributes\":{},\"id\":\"aa00cf01-38cf-4cc7-9b93-3bcfc806b45a\",\"type\":\"BasicTickFormatter\"},{\"attributes\":{\"plot\":{\"id\":\"8b8c2284-67b9-4708-8bb5-e2b13bc37ff8\",\"subtype\":\"Figure\",\"type\":\"Plot\"}},\"id\":\"6fd73bc7-f81e-43a7-afe0-920963d51703\",\"type\":\"WheelZoomTool\"},{\"attributes\":{\"level\":\"glyph\",\"plot\":{\"id\":\"8b8c2284-67b9-4708-8bb5-e2b13bc37ff8\",\"subtype\":\"Figure\",\"type\":\"Plot\"},\"source\":{\"id\":\"2a92c2de-3f28-48e9-851b-47e572abfb8e\",\"type\":\"ColumnDataSource\"},\"text\":{\"field\":\"vals\"},\"text_align\":\"center\",\"text_baseline\":\"middle\",\"text_font_size\":{\"value\":\"8pt\"},\"x\":{\"field\":\"x\"},\"y\":{\"field\":\"y\"}},\"id\":\"260399c0-012a-4a7a-963c-6c66c2489ef0\",\"type\":\"LabelSet\"},{\"attributes\":{\"bottom\":{\"field\":\"bottom\"},\"fill_color\":{\"value\":\"white\"},\"left\":{\"field\":\"left\"},\"right\":{\"field\":\"right\"},\"top\":{\"field\":\"top\"}},\"id\":\"bbca6fe1-195a-4f1b-9dbb-d118c9c7acec\",\"type\":\"Quad\"},{\"attributes\":{\"callback\":null,\"end\":136786630,\"start\":135757320},\"id\":\"d920f74a-b029-4eba-a5da-7f005a6c9130\",\"type\":\"Range1d\"},{\"attributes\":{\"callback\":null,\"column_names\":[\"xs\",\"ys\",\"line_color\"],\"data\":{\"line_color\":[\"black\",\"black\",\"black\",\"black\",\"black\",\"black\",\"black\",\"black\",\"black\",\"black\",\"black\",\"black\",\"black\",\"black\",\"black\",\"black\",\"black\",\"black\",\"black\",\"black\",\"black\",\"black\",\"black\",\"black\",\"black\",\"black\",\"black\",\"black\",\"black\",\"black\",\"black\",\"black\",\"black\",\"black\",\"black\",\"black\",\"black\",\"black\",\"black\",\"black\",\"black\",\"black\",\"black\",\"black\",\"black\",\"black\",\"black\",\"black\",\"black\",\"black\",\"black\",\"black\",\"black\",\"black\",\"black\",\"black\",\"black\",\"black\",\"black\",\"black\",\"black\",\"black\",\"black\",\"black\",\"black\",\"black\",\"black\",\"black\",\"black\",\"black\",\"black\",\"black\",\"black\",\"black\",\"black\",\"black\",\"black\",\"black\",\"black\",\"black\",\"black\",\"black\",\"black\",\"black\",\"black\",\"black\",\"black\",\"black\",\"black\",\"black\",\"black\",\"black\",\"black\",\"black\",\"black\",\"black\",\"black\",\"black\",\"black\",\"black\",\"black\",\"black\",\"black\",\"black\",\"black\",\"black\",\"black\",\"black\",\"black\",\"black\",\"black\",\"black\",\"black\",\"black\",\"black\",\"black\",\"black\",\"black\",\"black\",\"black\",\"black\",\"black\",\"black\",\"black\",\"black\",\"black\",\"black\",\"black\",\"black\",\"black\",\"black\",\"black\",\"black\",\"black\",\"black\",\"black\",\"black\",\"black\",\"black\",\"black\",\"black\",\"black\",\"black\",\"black\",\"black\",\"black\",\"black\",\"black\",\"black\",\"black\",\"black\",\"black\",\"black\",\"black\",\"black\",\"black\",\"black\",\"black\",\"black\",\"black\",\"black\",\"black\",\"black\",\"black\",\"black\",\"black\",\"black\",\"black\",\"black\",\"black\",\"black\",\"black\",\"black\",\"black\",\"black\",\"black\",\"black\",\"black\",\"black\",\"black\",\"black\",\"black\",\"black\",\"black\",\"black\",\"black\",\"black\",\"black\",\"black\",\"black\",\"black\",\"black\",\"black\",\"black\",\"black\",\"black\",\"black\",\"black\",\"black\",\"black\",\"black\"],\"xs\":[[135757320,135757320],[135761078,135761078],[135761271,135761271],[135762344,135762344],[135762980,135762980],[135763280,135763280],[135768815,135768815],[135769093,135769093],[135769127,135769127],[135770940,135770940],[135770951,135770951],[135776728,135776728],[135777504,135777504],[135829592,135829592],[135893372,135893372],[135952405,135952405],[135989721,135989721],[136136056,136136056],[136313639,136313639],[136401418,136401418],[136407078,136407078],[136420908,136420908],[136393658,136393658],[136396300,136396300],[136401843,136401843],[136407445,136407445],[136411879,136411879],[136412270,136412270],[136413244,136413244],[136413847,136413847],[136415217,136415217],[136416533,136416533],[136420726,136420726],[136429857,136429857],[136433740,136433740],[136436317,136436317],[136437615,136437615],[136438517,136438517],[136440300,136440300],[136443900,136443900],[136444185,136444185],[136444338,136444338],[136449254,136449254],[136451676,136451676],[136459227,136459227],[136463117,136463117],[136463454,136463454],[136467119,136467119],[136468238,136468238],[136470219,136470219],[136483355,136483355],[136485276,136485276],[136486340,136486340],[136486342,136486342],[136494985,136494985],[136497199,136497199],[136511817,136511817],[136513670,136513670],[136515458,136515458],[136516970,136516970],[136525309,136525309],[136528034,136528034],[136532225,136532225],[136535235,136535235],[136536095,136536095],[136544423,136544423],[136546927,136546927],[136552188,136552188],[136552517,136552517],[136555525,136555525],[136556480,136556480],[136560464,136560464],[136572285,136572285],[136582694,136582694],[136582809,136582809],[136584538,136584538],[136585323,136585323],[136586825,136586825],[136600662,136600662],[136612036,136612036],[136618178,136618178],[136618507,136618507],[136622543,136622543],[136624947,136624947],[136625113,136625113],[136626078,136626078],[136628121,136628121],[136632300,136632300],[136633962,136633962],[136635343,136635343],[136638113,136638113],[136640101,136640101],[136641593,136641593],[136646582,136646582],[136648077,136648077],[136648883,136648883],[136652045,136652045],[136653848,136653848],[136656094,136656094],[136661110,136661110],[136663110,136663110],[136663605,136663605],[136665162,136665162],[136665711,136665711],[136668123,136668123],[136670419,136670419],[136672680,136672680],[136673546,136673546],[136684632,136684632],[136686114,136686114],[136690425,136690425],[136690783,136690783],[136692893,136692893],[136694905,136694905],[136695694,136695694],[136695705,136695705],[136696608,136696608],[136697372,136697372],[136697468,136697468],[136700024,136700024],[136701539,136701539],[136702118,136702118],[136707480,136707480],[136710554,136710554],[136714178,136714178],[136719173,136719173],[136725459,136725459],[136734569,136734569],[136744678,136744678],[136748779,136748779],[136751488,136751488],[136754183,136754183],[136763242,136763242],[136765074,136765074],[136773638,136773638],[136500475,136500475],[136501509,136501509],[136504101,136504101],[136509868,136509868],[136520043,136520043],[136527120,136527120],[136530379,136530379],[136530443,136530443],[136539330,136539330],[136539670,136539670],[136540083,136540083],[136542559,136542559],[136542560,136542560],[136506375,136506375],[136506927,136506927],[136510012,136510012],[136538939,136538939],[136535876,136535876],[136544651,136544651],[136545844,136545844],[136552526,136552526],[136553022,136553022],[136554797,136554797],[136554890,136554890],[136588031,136588031],[136589278,136589278],[136589379,136589379],[136589741,136589741],[136590746,136590746],[136593553,136593553],[136593678,136593678],[136652491,136652491],[136652524,136652524],[136661150,136661150],[136669264,136669264],[136726567,136726567],[136732772,136732772],[136652953,136652953],[136655582,136655582],[136674028,136674028],[136684940,136684940],[136761175,136761175],[136653925,136653925],[136654833,136654833],[136656534,136656534],[136656536,136656536],[136657252,136657252],[136667301,136667301],[136667487,136667487],[136672775,136672775],[136680534,136680534],[136686393,136686393],[136688749,136688749],[136692553,136692553],[136697371,136697371],[136708787,136708787],[136710372,136710372],[136711064,136711064],[136715324,136715324],[136723504,136723504],[136737460,136737460],[136743143,136743143],[136746224,136746224],[136751842,136751842],[136759379,136759379],[136761853,136761853]],\"ys\":[[450,496],[450,496],[450,496],[450,496],[450,496],[450,496],[450,496],[450,496],[450,496],[450,496],[450,496],[450,496],[450,496],[50,91],[50,91],[50,91],[50,91],[50,91],[50,91],[50,91],[50,91],[50,91],[350,394],[350,394],[350,394],[350,394],[350,394],[350,394],[350,394],[350,394],[350,394],[350,394],[350,394],[350,394],[350,394],[350,394],[350,394],[350,394],[350,394],[350,394],[350,394],[350,394],[350,394],[350,394],[350,394],[350,394],[350,394],[350,394],[350,394],[350,394],[350,394],[350,394],[350,394],[350,394],[50,90],[50,90],[50,90],[50,90],[50,90],[50,90],[50,90],[50,90],[50,90],[50,90],[50,90],[50,90],[50,90],[50,90],[50,90],[50,90],[50,90],[50,90],[50,90],[50,90],[50,90],[50,90],[50,90],[50,90],[50,90],[50,90],[50,90],[50,90],[50,90],[50,90],[50,90],[50,90],[50,90],[50,90],[50,90],[50,90],[50,90],[50,90],[50,90],[50,90],[50,90],[50,90],[50,90],[50,90],[50,90],[50,90],[50,90],[50,90],[50,90],[50,90],[50,90],[50,90],[50,90],[50,90],[50,90],[50,90],[50,90],[50,90],[50,90],[50,90],[50,90],[50,90],[50,90],[50,90],[50,90],[50,90],[50,90],[50,90],[50,90],[50,90],[50,90],[50,90],[50,90],[50,90],[50,90],[50,90],[50,90],[50,90],[50,90],[50,90],[50,90],[150,193],[150,193],[150,193],[150,193],[150,193],[150,193],[150,193],[150,193],[150,193],[150,193],[150,193],[150,193],[150,193],[350,394],[350,394],[350,394],[350,394],[250,294],[250,294],[250,294],[250,294],[250,294],[250,294],[250,294],[450,496],[450,496],[450,496],[450,496],[450,496],[450,496],[450,496],[150,192],[150,192],[150,192],[150,192],[150,192],[150,192],[250,294],[250,294],[250,294],[250,294],[250,294],[450,495],[450,495],[450,495],[450,495],[450,495],[450,495],[450,495],[450,495],[450,495],[450,495],[450,495],[450,495],[450,495],[450,495],[450,495],[450,495],[450,495],[450,495],[450,495],[450,495],[450,495],[450,495],[450,495],[450,495]]}},\"id\":\"2406d689-1d1e-4351-bd10-8f8054f3ce02\",\"type\":\"ColumnDataSource\"},{\"attributes\":{\"line_color\":{\"field\":\"line_color\"},\"xs\":{\"field\":\"xs\"},\"ys\":{\"field\":\"ys\"}},\"id\":\"946818e6-0d94-4c22-a88f-3fc9282f217f\",\"type\":\"MultiLine\"},{\"attributes\":{\"formatter\":{\"id\":\"aa00cf01-38cf-4cc7-9b93-3bcfc806b45a\",\"type\":\"BasicTickFormatter\"},\"plot\":{\"id\":\"8b8c2284-67b9-4708-8bb5-e2b13bc37ff8\",\"subtype\":\"Figure\",\"type\":\"Plot\"},\"ticker\":{\"id\":\"673e4334-c3fc-46fa-ac87-9a1e510a274a\",\"type\":\"BasicTicker\"}},\"id\":\"b5d36fdc-c356-4e1c-bf07-26660fd64091\",\"type\":\"LinearAxis\"},{\"attributes\":{},\"id\":\"482d6eaa-0807-4ca9-9b1d-abea3bb94091\",\"type\":\"ToolEvents\"},{\"attributes\":{\"overlay\":{\"id\":\"9e38d918-45c5-429b-8740-7c539f6eba92\",\"type\":\"BoxAnnotation\"},\"plot\":{\"id\":\"8b8c2284-67b9-4708-8bb5-e2b13bc37ff8\",\"subtype\":\"Figure\",\"type\":\"Plot\"}},\"id\":\"13d6ed5b-a7f2-46b2-a541-40509bfa5acf\",\"type\":\"BoxZoomTool\"},{\"attributes\":{\"plot\":{\"id\":\"8b8c2284-67b9-4708-8bb5-e2b13bc37ff8\",\"subtype\":\"Figure\",\"type\":\"Plot\"}},\"id\":\"e8b87eee-7393-4540-a80c-ee594256f62f\",\"type\":\"HelpTool\"}],\"root_ids\":[\"8b8c2284-67b9-4708-8bb5-e2b13bc37ff8\"]},\"title\":\"Bokeh Application\",\"version\":\"0.12.0\"}};\n",
       "            var render_items = [{\"docid\":\"f1c28016-bea0-4679-9ac4-0de2856cbcc5\",\"elementid\":\"bf019f61-9164-4e2a-985a-405254362ec5\",\"modelid\":\"8b8c2284-67b9-4708-8bb5-e2b13bc37ff8\",\"notebook_comms_target\":\"2e57895d-476c-4b05-bbf9-76b15addf7cf\"}];\n",
       "            \n",
       "            Bokeh.embed.embed_items(docs_json, render_items);\n",
       "        });\n",
       "      },\n",
       "      function(Bokeh) {\n",
       "      }\n",
       "    ];\n",
       "  \n",
       "    function run_inline_js() {\n",
       "      for (var i = 0; i < inline_js.length; i++) {\n",
       "        inline_js[i](window.Bokeh);\n",
       "      }\n",
       "    }\n",
       "  \n",
       "    if (window._bokeh_is_loading === 0) {\n",
       "      console.log(\"Bokeh: BokehJS loaded, going straight to plotting\");\n",
       "      run_inline_js();\n",
       "    } else {\n",
       "      load_libs(js_urls, function() {\n",
       "        console.log(\"Bokeh: BokehJS plotting callback run at\", now());\n",
       "        run_inline_js();\n",
       "      });\n",
       "    }\n",
       "  }(this));\n",
       "</script>"
      ]
     },
     "metadata": {},
     "output_type": "display_data"
    },
    {
     "data": {
      "text/html": [
       "<p><code>&lt;Bokeh Notebook handle for <strong>In[32]</strong>&gt;</code></p>"
      ],
      "text/plain": [
       "<bokeh.io._CommsHandle at 0x7f7c7e98cb10>"
      ]
     },
     "execution_count": 32,
     "metadata": {},
     "output_type": "execute_result"
    }
   ],
   "source": [
    "plt_obj=dm.superset_basis_yes_no(dm.di_81_857, [dm.di_9_944], min_match=0.1)\n",
    "plt = plt_obj.do_plot()\n",
    "show(plt)"
   ]
  },
  {
   "cell_type": "code",
   "execution_count": 33,
   "metadata": {
    "collapsed": false
   },
   "outputs": [
    {
     "data": {
      "text/html": [
       "<table>\n",
       "<thead><tr><th style=\"text-align:center\">index</th><th style=\"text-align:center\">first</th><th style=\"text-align:center\">length</th><th style=\"text-align:center\">snps</th><th style=\"text-align:center\" colspan=2>alleles</th><th style=\"text-align:center\" colspan=2>matches</th><th style=\"text-align:center\" colspan=2>afr</th><th style=\"text-align:center\" colspan=2>afx</th><th style=\"text-align:center\" colspan=2>amr</th><th style=\"text-align:center\" colspan=2>eas</th><th style=\"text-align:center\" colspan=2>eur</th><th style=\"text-align:center\" colspan=2>sas</th><th style=\"text-align:center\" colspan=2>sax</th></tr></thead>\n",
       "<tr class=\"even\"><td style=\"text-align: right;\">354033</td><td style=\"text-align: right;\">136,588,031</td><td style=\"text-align: right;\">5,647</td><td style=\"text-align: right;\">7</td><td style=\"text-align: right;\">1760</td><td style=\"text-align: right;\">0.09</td><td style=\"text-align: right;\">150</td><td style=\"text-align: right;\">1.00</td><td style=\"text-align: right;\">17</td><td style=\"text-align: right;\">0.56</td><td style=\"text-align: right;\">2</td><td style=\"text-align: right;\">0.21</td><td style=\"text-align: right;\">38</td><td style=\"text-align: right;\">1.83</td><td style=\"text-align: right;\">5</td><td style=\"text-align: right;\">0.17</td><td style=\"text-align: right;\">43</td><td style=\"text-align: right;\">1.43</td><td style=\"text-align: right;\">16</td><td style=\"text-align: right;\">1.47</td><td style=\"text-align: right;\">29</td><td style=\"text-align: right;\">1.58</td></tr>\n",
       "<tr><td style=\"text-align: right;\">353240</td><td style=\"text-align: right;\">135,757,320</td><td style=\"text-align: right;\">20,184</td><td style=\"text-align: right;\">13</td><td style=\"text-align: right;\">1696</td><td style=\"text-align: right;\">0.09</td><td style=\"text-align: right;\">150</td><td style=\"text-align: right;\">1.00</td><td style=\"text-align: right;\">17</td><td style=\"text-align: right;\">0.56</td><td style=\"text-align: right;\">2</td><td style=\"text-align: right;\">0.21</td><td style=\"text-align: right;\">38</td><td style=\"text-align: right;\">1.83</td><td style=\"text-align: right;\">5</td><td style=\"text-align: right;\">0.17</td><td style=\"text-align: right;\">43</td><td style=\"text-align: right;\">1.43</td><td style=\"text-align: right;\">16</td><td style=\"text-align: right;\">1.47</td><td style=\"text-align: right;\">29</td><td style=\"text-align: right;\">1.58</td></tr>\n",
       "<tr class=\"even\"><td style=\"text-align: right;\">354130</td><td style=\"text-align: right;\">136,653,925</td><td style=\"text-align: right;\">107,928</td><td style=\"text-align: right;\">24</td><td style=\"text-align: right;\">1504</td><td style=\"text-align: right;\">0.10</td><td style=\"text-align: right;\">150</td><td style=\"text-align: right;\">1.00</td><td style=\"text-align: right;\">17</td><td style=\"text-align: right;\">0.56</td><td style=\"text-align: right;\">2</td><td style=\"text-align: right;\">0.21</td><td style=\"text-align: right;\">38</td><td style=\"text-align: right;\">1.83</td><td style=\"text-align: right;\">5</td><td style=\"text-align: right;\">0.17</td><td style=\"text-align: right;\">43</td><td style=\"text-align: right;\">1.43</td><td style=\"text-align: right;\">16</td><td style=\"text-align: right;\">1.47</td><td style=\"text-align: right;\">29</td><td style=\"text-align: right;\">1.58</td></tr>\n",
       "<tr><td style=\"text-align: right;\">353925</td><td style=\"text-align: right;\">136,506,375</td><td style=\"text-align: right;\">32,564</td><td style=\"text-align: right;\">4</td><td style=\"text-align: right;\">1442</td><td style=\"text-align: right;\">0.10</td><td style=\"text-align: right;\">150</td><td style=\"text-align: right;\">1.00</td><td style=\"text-align: right;\">17</td><td style=\"text-align: right;\">0.56</td><td style=\"text-align: right;\">2</td><td style=\"text-align: right;\">0.21</td><td style=\"text-align: right;\">38</td><td style=\"text-align: right;\">1.83</td><td style=\"text-align: right;\">5</td><td style=\"text-align: right;\">0.17</td><td style=\"text-align: right;\">43</td><td style=\"text-align: right;\">1.43</td><td style=\"text-align: right;\">16</td><td style=\"text-align: right;\">1.47</td><td style=\"text-align: right;\">29</td><td style=\"text-align: right;\">1.58</td></tr>\n",
       "<tr class=\"even\"><td style=\"text-align: right;\">353791</td><td style=\"text-align: right;\">136,393,658</td><td style=\"text-align: right;\">92,684</td><td style=\"text-align: right;\">32</td><td style=\"text-align: right;\">1361</td><td style=\"text-align: right;\">0.11</td><td style=\"text-align: right;\">150</td><td style=\"text-align: right;\">1.00</td><td style=\"text-align: right;\">17</td><td style=\"text-align: right;\">0.56</td><td style=\"text-align: right;\">2</td><td style=\"text-align: right;\">0.21</td><td style=\"text-align: right;\">38</td><td style=\"text-align: right;\">1.83</td><td style=\"text-align: right;\">5</td><td style=\"text-align: right;\">0.17</td><td style=\"text-align: right;\">43</td><td style=\"text-align: right;\">1.43</td><td style=\"text-align: right;\">16</td><td style=\"text-align: right;\">1.47</td><td style=\"text-align: right;\">29</td><td style=\"text-align: right;\">1.58</td></tr>\n",
       "<tr><td style=\"text-align: right;\">353958</td><td style=\"text-align: right;\">136,535,876</td><td style=\"text-align: right;\">19,014</td><td style=\"text-align: right;\">7</td><td style=\"text-align: right;\">1303</td><td style=\"text-align: right;\">0.12</td><td style=\"text-align: right;\">150</td><td style=\"text-align: right;\">1.00</td><td style=\"text-align: right;\">17</td><td style=\"text-align: right;\">0.56</td><td style=\"text-align: right;\">2</td><td style=\"text-align: right;\">0.21</td><td style=\"text-align: right;\">38</td><td style=\"text-align: right;\">1.83</td><td style=\"text-align: right;\">5</td><td style=\"text-align: right;\">0.17</td><td style=\"text-align: right;\">43</td><td style=\"text-align: right;\">1.43</td><td style=\"text-align: right;\">16</td><td style=\"text-align: right;\">1.47</td><td style=\"text-align: right;\">29</td><td style=\"text-align: right;\">1.58</td></tr>\n",
       "<tr class=\"even\"><td style=\"text-align: right;\">354129</td><td style=\"text-align: right;\">136,652,953</td><td style=\"text-align: right;\">108,222</td><td style=\"text-align: right;\">5</td><td style=\"text-align: right;\">1296</td><td style=\"text-align: right;\">0.12</td><td style=\"text-align: right;\">150</td><td style=\"text-align: right;\">1.00</td><td style=\"text-align: right;\">17</td><td style=\"text-align: right;\">0.56</td><td style=\"text-align: right;\">2</td><td style=\"text-align: right;\">0.21</td><td style=\"text-align: right;\">38</td><td style=\"text-align: right;\">1.83</td><td style=\"text-align: right;\">5</td><td style=\"text-align: right;\">0.17</td><td style=\"text-align: right;\">43</td><td style=\"text-align: right;\">1.43</td><td style=\"text-align: right;\">16</td><td style=\"text-align: right;\">1.47</td><td style=\"text-align: right;\">29</td><td style=\"text-align: right;\">1.58</td></tr>\n",
       "<tr><td style=\"text-align: right;\">353919</td><td style=\"text-align: right;\">136,500,475</td><td style=\"text-align: right;\">42,085</td><td style=\"text-align: right;\">13</td><td style=\"text-align: right;\">1227</td><td style=\"text-align: right;\">0.12</td><td style=\"text-align: right;\">148</td><td style=\"text-align: right;\">0.99</td><td style=\"text-align: right;\">17</td><td style=\"text-align: right;\">0.57</td><td style=\"text-align: right;\">2</td><td style=\"text-align: right;\">0.22</td><td style=\"text-align: right;\">37</td><td style=\"text-align: right;\">1.80</td><td style=\"text-align: right;\">5</td><td style=\"text-align: right;\">0.17</td><td style=\"text-align: right;\">43</td><td style=\"text-align: right;\">1.45</td><td style=\"text-align: right;\">16</td><td style=\"text-align: right;\">1.49</td><td style=\"text-align: right;\">28</td><td style=\"text-align: right;\">1.54</td></tr>\n",
       "<tr class=\"even\"><td style=\"text-align: right;\">354127</td><td style=\"text-align: right;\">136,652,491</td><td style=\"text-align: right;\">80,281</td><td style=\"text-align: right;\">6</td><td style=\"text-align: right;\">1114</td><td style=\"text-align: right;\">0.13</td><td style=\"text-align: right;\">150</td><td style=\"text-align: right;\">1.00</td><td style=\"text-align: right;\">17</td><td style=\"text-align: right;\">0.56</td><td style=\"text-align: right;\">2</td><td style=\"text-align: right;\">0.21</td><td style=\"text-align: right;\">38</td><td style=\"text-align: right;\">1.83</td><td style=\"text-align: right;\">5</td><td style=\"text-align: right;\">0.17</td><td style=\"text-align: right;\">43</td><td style=\"text-align: right;\">1.43</td><td style=\"text-align: right;\">16</td><td style=\"text-align: right;\">1.47</td><td style=\"text-align: right;\">29</td><td style=\"text-align: right;\">1.58</td></tr>\n",
       "<tr><td style=\"text-align: right;\">353372</td><td style=\"text-align: right;\">135,829,592</td><td style=\"text-align: right;\">591,316</td><td style=\"text-align: right;\">9</td><td style=\"text-align: right;\">944</td><td style=\"text-align: right;\">0.16</td><td style=\"text-align: right;\">150</td><td style=\"text-align: right;\">1.00</td><td style=\"text-align: right;\">17</td><td style=\"text-align: right;\">0.56</td><td style=\"text-align: right;\">2</td><td style=\"text-align: right;\">0.21</td><td style=\"text-align: right;\">38</td><td style=\"text-align: right;\">1.83</td><td style=\"text-align: right;\">5</td><td style=\"text-align: right;\">0.17</td><td style=\"text-align: right;\">43</td><td style=\"text-align: right;\">1.43</td><td style=\"text-align: right;\">16</td><td style=\"text-align: right;\">1.47</td><td style=\"text-align: right;\">29</td><td style=\"text-align: right;\">1.58</td></tr>\n",
       "<tr class=\"even\"><td style=\"text-align: right;\">353902</td><td style=\"text-align: right;\">136,494,985</td><td style=\"text-align: right;\">278,653</td><td style=\"text-align: right;\">81</td><td style=\"text-align: right;\">857</td><td style=\"text-align: right;\">0.18</td><td style=\"text-align: right;\">150</td><td style=\"text-align: right;\">1.00</td><td style=\"text-align: right;\">17</td><td style=\"text-align: right;\">0.56</td><td style=\"text-align: right;\">2</td><td style=\"text-align: right;\">0.21</td><td style=\"text-align: right;\">38</td><td style=\"text-align: right;\">1.83</td><td style=\"text-align: right;\">5</td><td style=\"text-align: right;\">0.17</td><td style=\"text-align: right;\">43</td><td style=\"text-align: right;\">1.43</td><td style=\"text-align: right;\">16</td><td style=\"text-align: right;\">1.47</td><td style=\"text-align: right;\">29</td><td style=\"text-align: right;\">1.58</td></tr>\n",
       "</table>"
      ],
      "text/plain": [
       "<IPython.core.display.HTML object>"
      ]
     },
     "execution_count": 33,
     "metadata": {},
     "output_type": "execute_result"
    }
   ],
   "source": [
    "HTML(plt_obj.get_html())"
   ]
  }
 ],
 "metadata": {
  "anaconda-cloud": {},
  "kernelspec": {
   "display_name": "Python [Root]",
   "language": "python",
   "name": "Python [Root]"
  },
  "language_info": {
   "codemirror_mode": {
    "name": "ipython",
    "version": 2
   },
   "file_extension": ".py",
   "mimetype": "text/x-python",
   "name": "python",
   "nbconvert_exporter": "python",
   "pygments_lexer": "ipython2",
   "version": "2.7.12"
  }
 },
 "nbformat": 4,
 "nbformat_minor": 0
}
