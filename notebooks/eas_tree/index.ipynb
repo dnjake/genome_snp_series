{
 "cells": [
  {
   "cell_type": "markdown",
   "metadata": {},
   "source": [
    "[eas_root](eas_root.ipynb)\n",
    "\n",
    "    Notebook explores recombination generated variations in the root\n",
    "    of the East Asian tree and hierarchies of that tree that do not\n",
    "    include the series 5_684.\n",
    "        \n",
    "[eas_sub_5_684](eas_sub_5_684.ipynb)\n",
    "\n",
    "    Notebook explores the eas subtrees rooted in the series 5_684.\n",
    "    \n",
    "[eas_super_32_1361](eas_super_32_1361.ipynb)\n",
    "\n",
    "    Notebook explores the hiearchies rooted in the series of the\n",
    "    EAS tree root without the series 9_944.  Several hierarchies\n",
    "    are rooted in an association of series that includes 16_1396,\n",
    "    4_1699, and 32_1361.  4_1699 is a series commonly found in the\n",
    "    EUR tree.\n",
    "    \n",
    "[series](series/)\n",
    "\n",
    "    Notebooks that document individual series"
   ]
  }
 ],
 "metadata": {
  "kernelspec": {
   "display_name": "Python [Root]",
   "language": "python",
   "name": "Python [Root]"
  },
  "language_info": {
   "codemirror_mode": {
    "name": "ipython",
    "version": 2
   },
   "file_extension": ".py",
   "mimetype": "text/x-python",
   "name": "python",
   "nbconvert_exporter": "python",
   "pygments_lexer": "ipython2",
   "version": "2.7.12"
  }
 },
 "nbformat": 4,
 "nbformat_minor": 0
}
