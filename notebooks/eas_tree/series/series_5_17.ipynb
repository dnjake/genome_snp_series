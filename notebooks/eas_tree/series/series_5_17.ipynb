{
 "cells": [
  {
   "cell_type": "code",
   "execution_count": 1,
   "metadata": {
    "collapsed": false
   },
   "outputs": [
    {
     "data": {
      "text/html": []
     },
     "metadata": {},
     "output_type": "display_data"
    },
    {
     "data": {
      "application/javascript": [
       "\n",
       "(function(global) {\n",
       "  function now() {\n",
       "    return new Date();\n",
       "  }\n",
       "\n",
       "  if (typeof (window._bokeh_onload_callbacks) === \"undefined\") {\n",
       "    window._bokeh_onload_callbacks = [];\n",
       "  }\n",
       "\n",
       "  function run_callbacks() {\n",
       "    window._bokeh_onload_callbacks.forEach(function(callback) { callback() });\n",
       "    delete window._bokeh_onload_callbacks\n",
       "    console.info(\"Bokeh: all callbacks have finished\");\n",
       "  }\n",
       "\n",
       "  function load_libs(js_urls, callback) {\n",
       "    window._bokeh_onload_callbacks.push(callback);\n",
       "    if (window._bokeh_is_loading > 0) {\n",
       "      console.log(\"Bokeh: BokehJS is being loaded, scheduling callback at\", now());\n",
       "      return null;\n",
       "    }\n",
       "    if (js_urls == null || js_urls.length === 0) {\n",
       "      run_callbacks();\n",
       "      return null;\n",
       "    }\n",
       "    console.log(\"Bokeh: BokehJS not loaded, scheduling load and callback at\", now());\n",
       "    window._bokeh_is_loading = js_urls.length;\n",
       "    for (var i = 0; i < js_urls.length; i++) {\n",
       "      var url = js_urls[i];\n",
       "      var s = document.createElement('script');\n",
       "      s.src = url;\n",
       "      s.async = false;\n",
       "      s.onreadystatechange = s.onload = function() {\n",
       "        window._bokeh_is_loading--;\n",
       "        if (window._bokeh_is_loading === 0) {\n",
       "          console.log(\"Bokeh: all BokehJS libraries loaded\");\n",
       "          run_callbacks()\n",
       "        }\n",
       "      };\n",
       "      s.onerror = function() {\n",
       "        console.warn(\"failed to load library \" + url);\n",
       "      };\n",
       "      console.log(\"Bokeh: injecting script tag for BokehJS library: \", url);\n",
       "      document.getElementsByTagName(\"head\")[0].appendChild(s);\n",
       "    }\n",
       "  };\n",
       "\n",
       "  var js_urls = ['https://cdn.pydata.org/bokeh/release/bokeh-0.12.0.min.js', 'https://cdn.pydata.org/bokeh/release/bokeh-widgets-0.12.0.min.js', 'https://cdn.pydata.org/bokeh/release/bokeh-compiler-0.12.0.min.js'];\n",
       "\n",
       "  var inline_js = [\n",
       "    function(Bokeh) {\n",
       "      Bokeh.set_log_level(\"info\");\n",
       "    },\n",
       "    \n",
       "    function(Bokeh) {\n",
       "      Bokeh.$(\"#e0d6a7ad-cddb-4184-a94a-68fb1086c801\").text(\"BokehJS successfully loaded\");\n",
       "    },\n",
       "    function(Bokeh) {\n",
       "      console.log(\"Bokeh: injecting CSS: https://cdn.pydata.org/bokeh/release/bokeh-0.12.0.min.css\");\n",
       "      Bokeh.embed.inject_css(\"https://cdn.pydata.org/bokeh/release/bokeh-0.12.0.min.css\");\n",
       "      console.log(\"Bokeh: injecting CSS: https://cdn.pydata.org/bokeh/release/bokeh-widgets-0.12.0.min.css\");\n",
       "      Bokeh.embed.inject_css(\"https://cdn.pydata.org/bokeh/release/bokeh-widgets-0.12.0.min.css\");\n",
       "    }\n",
       "  ];\n",
       "\n",
       "  function run_inline_js() {\n",
       "    for (var i = 0; i < inline_js.length; i++) {\n",
       "      inline_js[i](window.Bokeh);\n",
       "    }\n",
       "  }\n",
       "\n",
       "  if (window._bokeh_is_loading === 0) {\n",
       "    console.log(\"Bokeh: BokehJS loaded, going straight to plotting\");\n",
       "    run_inline_js();\n",
       "  } else {\n",
       "    load_libs(js_urls, function() {\n",
       "      console.log(\"Bokeh: BokehJS plotting callback run at\", now());\n",
       "      run_inline_js();\n",
       "    });\n",
       "  }\n",
       "}(this));"
      ]
     },
     "metadata": {},
     "output_type": "display_data"
    }
   ],
   "source": [
    "import numpy as np\n",
    "from IPython.display import HTML\n",
    "from bokeh.plotting import output_notebook, show\n",
    "import genomes_dnj.lct_interval.series_plots as dm\n",
    "import genomes_dnj.lct_interval.anal_series as an\n",
    "import genomes_dnj.lct_interval.series_masks as sm\n",
    "import genomes_dnj.lct_interval_snp_anal.lct_interval_snp_anal as snp_anal\n",
    "from genomes_dnj.lct_interval.bokeh_match_count_plot import snp_match_count_plot_cls as smcp\n",
    "output_notebook(hide_banner=True)\n",
    "di_5_17 = 353467\n",
    "sa_5_17 = snp_anal.series_anal_cls(di_5_17, sm.series_data)"
   ]
  },
  {
   "cell_type": "markdown",
   "metadata": {},
   "source": [
    "<h3>Series 5_17</h3>\n",
    "<div style=\"width:700px\">\n",
    "<p>\n",
    "This notebook documents the series 5_17 and its 5 SNPs. The 1000 genomes data sample\n",
    "SNP counts for 5_17 are 4985 samples 0 SNPs, 1 sample 1 SNP, 1 sample 2 SNPs, 2 samples 3\n",
    "SNPs, 2 samples 4 SNPs, and 17 samples 5 SNPs.  The 5 SNP series extends over more than\n",
    "600,000 DNA bases.  All 17 samples express the basic EAS tree root without 5_684 including\n",
    "9_944, 13_1696, 32_1361, and 81_857.  This series is another case that fits the pattern\n",
    "of an EAS tree series that is not expressed in East Asian populations.  It is overexpressed\n",
    "in Europe and America.\n",
    "</div>"
   ]
  },
  {
   "cell_type": "code",
   "execution_count": 2,
   "metadata": {
    "collapsed": false
   },
   "outputs": [
    {
     "data": {
      "text/html": [
       "<p>\n",
       "<b>5_17 series</b>\n",
       "</p><p>\n",
       "<table>\n",
       "<thead><tr><th style=\"text-align:center\">index</th><th style=\"text-align:center\">first</th><th style=\"text-align:center\">length</th><th style=\"text-align:center\">snps</th><th style=\"text-align:center\">alleles</th><th style=\"text-align:center\" colspan=2>afr</th><th style=\"text-align:center\" colspan=2>afx</th><th style=\"text-align:center\" colspan=2>amr</th><th style=\"text-align:center\" colspan=2>eas</th><th style=\"text-align:center\" colspan=2>eur</th><th style=\"text-align:center\" colspan=2>sas</th><th style=\"text-align:center\" colspan=2>sax</th></tr></thead>\n",
       "<tr class=\"even\"><td style=\"text-align: right;\">353467</td><td style=\"text-align: right;\">135,920,394</td><td style=\"text-align: right;\">608,562</td><td style=\"text-align: right;\">5</td><td style=\"text-align: right;\">17</td><td style=\"text-align: right;\">0</td><td style=\"text-align: right;\">0.00</td><td style=\"text-align: right;\">0</td><td style=\"text-align: right;\">0.00</td><td style=\"text-align: right;\">5</td><td style=\"text-align: right;\">2.12</td><td style=\"text-align: right;\">0</td><td style=\"text-align: right;\">0.00</td><td style=\"text-align: right;\">11</td><td style=\"text-align: right;\">3.22</td><td style=\"text-align: right;\">1</td><td style=\"text-align: right;\">0.81</td><td style=\"text-align: right;\">0</td><td style=\"text-align: right;\">0.00</td></tr>\n",
       "</table>\n",
       "</p>\n",
       "<p>\n",
       "<b>5_17 series snps</b>\n",
       "</p><p>\n",
       "<table>\n",
       "<thead><tr><th style=\"text-align:center\">index</th><th style=\"text-align:center\">pos</th><th style=\"text-align:center\">id</th><th style=\"text-align:center\">niv</th><th style=\"text-align:center\">alleles</th><th style=\"text-align:center\" colspan=2>afr</th><th style=\"text-align:center\" colspan=2>afx</th><th style=\"text-align:center\" colspan=2>amr</th><th style=\"text-align:center\" colspan=2>eas</th><th style=\"text-align:center\" colspan=2>eur</th><th style=\"text-align:center\" colspan=2>sas</th><th style=\"text-align:center\" colspan=2>sax</th></tr></thead>\n",
       "<tr class=\"even\"><td style=\"text-align: right;\">875823</td><td style=\"text-align: right;\">135,920,394</td><td>rs61748693</td><td>0</td><td style=\"text-align: right;\">21</td><td style=\"text-align: right;\">0</td><td style=\"text-align: right;\">0.00</td><td style=\"text-align: right;\">0</td><td style=\"text-align: right;\">0.00</td><td style=\"text-align: right;\">5</td><td style=\"text-align: right;\">1.72</td><td style=\"text-align: right;\">0</td><td style=\"text-align: right;\">0.00</td><td style=\"text-align: right;\">14</td><td style=\"text-align: right;\">3.32</td><td style=\"text-align: right;\">1</td><td style=\"text-align: right;\">0.66</td><td style=\"text-align: right;\">1</td><td style=\"text-align: right;\">0.39</td></tr>\n",
       "<tr><td style=\"text-align: right;\">875856</td><td style=\"text-align: right;\">135,929,310</td><td>rs140957710</td><td>0</td><td style=\"text-align: right;\">21</td><td style=\"text-align: right;\">0</td><td style=\"text-align: right;\">0.00</td><td style=\"text-align: right;\">0</td><td style=\"text-align: right;\">0.00</td><td style=\"text-align: right;\">5</td><td style=\"text-align: right;\">1.72</td><td style=\"text-align: right;\">0</td><td style=\"text-align: right;\">0.00</td><td style=\"text-align: right;\">14</td><td style=\"text-align: right;\">3.32</td><td style=\"text-align: right;\">1</td><td style=\"text-align: right;\">0.66</td><td style=\"text-align: right;\">1</td><td style=\"text-align: right;\">0.39</td></tr>\n",
       "<tr class=\"even\"><td style=\"text-align: right;\">877244</td><td style=\"text-align: right;\">136,179,305</td><td>rs140748574</td><td>0</td><td style=\"text-align: right;\">21</td><td style=\"text-align: right;\">1</td><td style=\"text-align: right;\">0.24</td><td style=\"text-align: right;\">0</td><td style=\"text-align: right;\">0.00</td><td style=\"text-align: right;\">5</td><td style=\"text-align: right;\">1.72</td><td style=\"text-align: right;\">0</td><td style=\"text-align: right;\">0.00</td><td style=\"text-align: right;\">14</td><td style=\"text-align: right;\">3.32</td><td style=\"text-align: right;\">1</td><td style=\"text-align: right;\">0.66</td><td style=\"text-align: right;\">0</td><td style=\"text-align: right;\">0.00</td></tr>\n",
       "<tr><td style=\"text-align: right;\">878161</td><td style=\"text-align: right;\">136,388,794</td><td>rs140435454</td><td>0</td><td style=\"text-align: right;\">20</td><td style=\"text-align: right;\">0</td><td style=\"text-align: right;\">0.00</td><td style=\"text-align: right;\">0</td><td style=\"text-align: right;\">0.00</td><td style=\"text-align: right;\">5</td><td style=\"text-align: right;\">1.80</td><td style=\"text-align: right;\">0</td><td style=\"text-align: right;\">0.00</td><td style=\"text-align: right;\">13</td><td style=\"text-align: right;\">3.24</td><td style=\"text-align: right;\">1</td><td style=\"text-align: right;\">0.69</td><td style=\"text-align: right;\">1</td><td style=\"text-align: right;\">0.41</td></tr>\n",
       "<tr class=\"even\"><td style=\"text-align: right;\">878850</td><td style=\"text-align: right;\">136,528,956</td><td>rs188589379</td><td>0</td><td style=\"text-align: right;\">19</td><td style=\"text-align: right;\">0</td><td style=\"text-align: right;\">0.00</td><td style=\"text-align: right;\">0</td><td style=\"text-align: right;\">0.00</td><td style=\"text-align: right;\">5</td><td style=\"text-align: right;\">1.90</td><td style=\"text-align: right;\">0</td><td style=\"text-align: right;\">0.00</td><td style=\"text-align: right;\">12</td><td style=\"text-align: right;\">3.14</td><td style=\"text-align: right;\">1</td><td style=\"text-align: right;\">0.72</td><td style=\"text-align: right;\">1</td><td style=\"text-align: right;\">0.43</td></tr>\n",
       "</table>"
      ],
      "text/plain": [
       "<IPython.core.display.HTML object>"
      ]
     },
     "execution_count": 2,
     "metadata": {},
     "output_type": "execute_result"
    }
   ],
   "source": [
    "HTML(dm.series_html(di_5_17))"
   ]
  },
  {
   "cell_type": "code",
   "execution_count": 3,
   "metadata": {
    "collapsed": false
   },
   "outputs": [
    {
     "data": {
      "text/html": [
       "<table>\n",
       "<thead><tr><th style=\"text-align:center\">index</th><th style=\"text-align:center\">first</th><th style=\"text-align:center\">length</th><th style=\"text-align:center\">snps</th><th style=\"text-align:center\" colspan=2>alleles</th><th style=\"text-align:center\" colspan=2>matches</th><th style=\"text-align:center\" colspan=2>afr</th><th style=\"text-align:center\" colspan=2>afx</th><th style=\"text-align:center\" colspan=2>amr</th><th style=\"text-align:center\" colspan=2>eas</th><th style=\"text-align:center\" colspan=2>eur</th><th style=\"text-align:center\" colspan=2>sas</th><th style=\"text-align:center\" colspan=2>sax</th></tr></thead>\n",
       "<tr class=\"even\"><td style=\"text-align: right;\">354033</td><td style=\"text-align: right;\">136,588,031</td><td style=\"text-align: right;\">5,647</td><td style=\"text-align: right;\">7</td><td style=\"text-align: right;\">1760</td><td style=\"text-align: right;\">0.01</td><td style=\"text-align: right;\">17</td><td style=\"text-align: right;\">1.00</td><td style=\"text-align: right;\">0</td><td style=\"text-align: right;\">0.00</td><td style=\"text-align: right;\">0</td><td style=\"text-align: right;\">0.00</td><td style=\"text-align: right;\">5</td><td style=\"text-align: right;\">2.12</td><td style=\"text-align: right;\">0</td><td style=\"text-align: right;\">0.00</td><td style=\"text-align: right;\">11</td><td style=\"text-align: right;\">3.22</td><td style=\"text-align: right;\">1</td><td style=\"text-align: right;\">0.81</td><td style=\"text-align: right;\">0</td><td style=\"text-align: right;\">0.00</td></tr>\n",
       "<tr><td style=\"text-align: right;\">353240</td><td style=\"text-align: right;\">135,757,320</td><td style=\"text-align: right;\">20,184</td><td style=\"text-align: right;\">13</td><td style=\"text-align: right;\">1696</td><td style=\"text-align: right;\">0.01</td><td style=\"text-align: right;\">17</td><td style=\"text-align: right;\">1.00</td><td style=\"text-align: right;\">0</td><td style=\"text-align: right;\">0.00</td><td style=\"text-align: right;\">0</td><td style=\"text-align: right;\">0.00</td><td style=\"text-align: right;\">5</td><td style=\"text-align: right;\">2.12</td><td style=\"text-align: right;\">0</td><td style=\"text-align: right;\">0.00</td><td style=\"text-align: right;\">11</td><td style=\"text-align: right;\">3.22</td><td style=\"text-align: right;\">1</td><td style=\"text-align: right;\">0.81</td><td style=\"text-align: right;\">0</td><td style=\"text-align: right;\">0.00</td></tr>\n",
       "<tr class=\"even\"><td style=\"text-align: right;\">354130</td><td style=\"text-align: right;\">136,653,925</td><td style=\"text-align: right;\">107,928</td><td style=\"text-align: right;\">24</td><td style=\"text-align: right;\">1504</td><td style=\"text-align: right;\">0.01</td><td style=\"text-align: right;\">17</td><td style=\"text-align: right;\">1.00</td><td style=\"text-align: right;\">0</td><td style=\"text-align: right;\">0.00</td><td style=\"text-align: right;\">0</td><td style=\"text-align: right;\">0.00</td><td style=\"text-align: right;\">5</td><td style=\"text-align: right;\">2.12</td><td style=\"text-align: right;\">0</td><td style=\"text-align: right;\">0.00</td><td style=\"text-align: right;\">11</td><td style=\"text-align: right;\">3.22</td><td style=\"text-align: right;\">1</td><td style=\"text-align: right;\">0.81</td><td style=\"text-align: right;\">0</td><td style=\"text-align: right;\">0.00</td></tr>\n",
       "<tr><td style=\"text-align: right;\">353925</td><td style=\"text-align: right;\">136,506,375</td><td style=\"text-align: right;\">32,564</td><td style=\"text-align: right;\">4</td><td style=\"text-align: right;\">1442</td><td style=\"text-align: right;\">0.01</td><td style=\"text-align: right;\">17</td><td style=\"text-align: right;\">1.00</td><td style=\"text-align: right;\">0</td><td style=\"text-align: right;\">0.00</td><td style=\"text-align: right;\">0</td><td style=\"text-align: right;\">0.00</td><td style=\"text-align: right;\">5</td><td style=\"text-align: right;\">2.12</td><td style=\"text-align: right;\">0</td><td style=\"text-align: right;\">0.00</td><td style=\"text-align: right;\">11</td><td style=\"text-align: right;\">3.22</td><td style=\"text-align: right;\">1</td><td style=\"text-align: right;\">0.81</td><td style=\"text-align: right;\">0</td><td style=\"text-align: right;\">0.00</td></tr>\n",
       "<tr class=\"even\"><td style=\"text-align: right;\">353791</td><td style=\"text-align: right;\">136,393,658</td><td style=\"text-align: right;\">92,684</td><td style=\"text-align: right;\">32</td><td style=\"text-align: right;\">1361</td><td style=\"text-align: right;\">0.01</td><td style=\"text-align: right;\">17</td><td style=\"text-align: right;\">1.00</td><td style=\"text-align: right;\">0</td><td style=\"text-align: right;\">0.00</td><td style=\"text-align: right;\">0</td><td style=\"text-align: right;\">0.00</td><td style=\"text-align: right;\">5</td><td style=\"text-align: right;\">2.12</td><td style=\"text-align: right;\">0</td><td style=\"text-align: right;\">0.00</td><td style=\"text-align: right;\">11</td><td style=\"text-align: right;\">3.22</td><td style=\"text-align: right;\">1</td><td style=\"text-align: right;\">0.81</td><td style=\"text-align: right;\">0</td><td style=\"text-align: right;\">0.00</td></tr>\n",
       "<tr><td style=\"text-align: right;\">353958</td><td style=\"text-align: right;\">136,535,876</td><td style=\"text-align: right;\">19,014</td><td style=\"text-align: right;\">7</td><td style=\"text-align: right;\">1303</td><td style=\"text-align: right;\">0.01</td><td style=\"text-align: right;\">17</td><td style=\"text-align: right;\">1.00</td><td style=\"text-align: right;\">0</td><td style=\"text-align: right;\">0.00</td><td style=\"text-align: right;\">0</td><td style=\"text-align: right;\">0.00</td><td style=\"text-align: right;\">5</td><td style=\"text-align: right;\">2.12</td><td style=\"text-align: right;\">0</td><td style=\"text-align: right;\">0.00</td><td style=\"text-align: right;\">11</td><td style=\"text-align: right;\">3.22</td><td style=\"text-align: right;\">1</td><td style=\"text-align: right;\">0.81</td><td style=\"text-align: right;\">0</td><td style=\"text-align: right;\">0.00</td></tr>\n",
       "<tr class=\"even\"><td style=\"text-align: right;\">354129</td><td style=\"text-align: right;\">136,652,953</td><td style=\"text-align: right;\">108,222</td><td style=\"text-align: right;\">5</td><td style=\"text-align: right;\">1296</td><td style=\"text-align: right;\">0.01</td><td style=\"text-align: right;\">17</td><td style=\"text-align: right;\">1.00</td><td style=\"text-align: right;\">0</td><td style=\"text-align: right;\">0.00</td><td style=\"text-align: right;\">0</td><td style=\"text-align: right;\">0.00</td><td style=\"text-align: right;\">5</td><td style=\"text-align: right;\">2.12</td><td style=\"text-align: right;\">0</td><td style=\"text-align: right;\">0.00</td><td style=\"text-align: right;\">11</td><td style=\"text-align: right;\">3.22</td><td style=\"text-align: right;\">1</td><td style=\"text-align: right;\">0.81</td><td style=\"text-align: right;\">0</td><td style=\"text-align: right;\">0.00</td></tr>\n",
       "<tr><td style=\"text-align: right;\">353919</td><td style=\"text-align: right;\">136,500,475</td><td style=\"text-align: right;\">42,085</td><td style=\"text-align: right;\">13</td><td style=\"text-align: right;\">1227</td><td style=\"text-align: right;\">0.01</td><td style=\"text-align: right;\">16</td><td style=\"text-align: right;\">0.94</td><td style=\"text-align: right;\">0</td><td style=\"text-align: right;\">0.00</td><td style=\"text-align: right;\">0</td><td style=\"text-align: right;\">0.00</td><td style=\"text-align: right;\">5</td><td style=\"text-align: right;\">2.26</td><td style=\"text-align: right;\">0</td><td style=\"text-align: right;\">0.00</td><td style=\"text-align: right;\">11</td><td style=\"text-align: right;\">3.42</td><td style=\"text-align: right;\">0</td><td style=\"text-align: right;\">0.00</td><td style=\"text-align: right;\">0</td><td style=\"text-align: right;\">0.00</td></tr>\n",
       "<tr class=\"even\"><td style=\"text-align: right;\">354127</td><td style=\"text-align: right;\">136,652,491</td><td style=\"text-align: right;\">80,281</td><td style=\"text-align: right;\">6</td><td style=\"text-align: right;\">1114</td><td style=\"text-align: right;\">0.02</td><td style=\"text-align: right;\">17</td><td style=\"text-align: right;\">1.00</td><td style=\"text-align: right;\">0</td><td style=\"text-align: right;\">0.00</td><td style=\"text-align: right;\">0</td><td style=\"text-align: right;\">0.00</td><td style=\"text-align: right;\">5</td><td style=\"text-align: right;\">2.12</td><td style=\"text-align: right;\">0</td><td style=\"text-align: right;\">0.00</td><td style=\"text-align: right;\">11</td><td style=\"text-align: right;\">3.22</td><td style=\"text-align: right;\">1</td><td style=\"text-align: right;\">0.81</td><td style=\"text-align: right;\">0</td><td style=\"text-align: right;\">0.00</td></tr>\n",
       "<tr><td style=\"text-align: right;\">353372</td><td style=\"text-align: right;\">135,829,592</td><td style=\"text-align: right;\">591,316</td><td style=\"text-align: right;\">9</td><td style=\"text-align: right;\">944</td><td style=\"text-align: right;\">0.02</td><td style=\"text-align: right;\">17</td><td style=\"text-align: right;\">1.00</td><td style=\"text-align: right;\">0</td><td style=\"text-align: right;\">0.00</td><td style=\"text-align: right;\">0</td><td style=\"text-align: right;\">0.00</td><td style=\"text-align: right;\">5</td><td style=\"text-align: right;\">2.12</td><td style=\"text-align: right;\">0</td><td style=\"text-align: right;\">0.00</td><td style=\"text-align: right;\">11</td><td style=\"text-align: right;\">3.22</td><td style=\"text-align: right;\">1</td><td style=\"text-align: right;\">0.81</td><td style=\"text-align: right;\">0</td><td style=\"text-align: right;\">0.00</td></tr>\n",
       "<tr class=\"even\"><td style=\"text-align: right;\">353902</td><td style=\"text-align: right;\">136,494,985</td><td style=\"text-align: right;\">278,653</td><td style=\"text-align: right;\">81</td><td style=\"text-align: right;\">857</td><td style=\"text-align: right;\">0.02</td><td style=\"text-align: right;\">17</td><td style=\"text-align: right;\">1.00</td><td style=\"text-align: right;\">0</td><td style=\"text-align: right;\">0.00</td><td style=\"text-align: right;\">0</td><td style=\"text-align: right;\">0.00</td><td style=\"text-align: right;\">5</td><td style=\"text-align: right;\">2.12</td><td style=\"text-align: right;\">0</td><td style=\"text-align: right;\">0.00</td><td style=\"text-align: right;\">11</td><td style=\"text-align: right;\">3.22</td><td style=\"text-align: right;\">1</td><td style=\"text-align: right;\">0.81</td><td style=\"text-align: right;\">0</td><td style=\"text-align: right;\">0.00</td></tr>\n",
       "<tr><td style=\"text-align: right;\">353467</td><td style=\"text-align: right;\">135,920,394</td><td style=\"text-align: right;\">608,562</td><td style=\"text-align: right;\">5</td><td style=\"text-align: right;\">17</td><td style=\"text-align: right;\">1.00</td><td style=\"text-align: right;\">17</td><td style=\"text-align: right;\">1.00</td><td style=\"text-align: right;\">0</td><td style=\"text-align: right;\">0.00</td><td style=\"text-align: right;\">0</td><td style=\"text-align: right;\">0.00</td><td style=\"text-align: right;\">5</td><td style=\"text-align: right;\">2.12</td><td style=\"text-align: right;\">0</td><td style=\"text-align: right;\">0.00</td><td style=\"text-align: right;\">11</td><td style=\"text-align: right;\">3.22</td><td style=\"text-align: right;\">1</td><td style=\"text-align: right;\">0.81</td><td style=\"text-align: right;\">0</td><td style=\"text-align: right;\">0.00</td></tr>\n",
       "</table>"
      ],
      "text/plain": [
       "<IPython.core.display.HTML object>"
      ]
     },
     "execution_count": 3,
     "metadata": {},
     "output_type": "execute_result"
    }
   ],
   "source": [
    "plt_obj = dm.superset_yes_no([di_5_17], min_match=0.001)\n",
    "plt_obj.do_plot()\n",
    "HTML(plt_obj.get_html())"
   ]
  },
  {
   "cell_type": "code",
   "execution_count": 4,
   "metadata": {
    "collapsed": false
   },
   "outputs": [
    {
     "data": {
      "text/plain": [
       "array([(0, 4985), (1, 1), (2, 1), (3, 2), (4, 2), (5, 17)], \n",
       "      dtype=[('count', '<u2'), ('snps', '<u2')])"
      ]
     },
     "execution_count": 4,
     "metadata": {},
     "output_type": "execute_result"
    }
   ],
   "source": [
    "count_data = sa_5_17.unique_snps_per_allele()\n",
    "count_data"
   ]
  },
  {
   "cell_type": "code",
   "execution_count": 5,
   "metadata": {
    "collapsed": false
   },
   "outputs": [
    {
     "data": {
      "text/html": [
       "\n",
       "\n",
       "    <div class=\"bk-root\">\n",
       "        <div class=\"plotdiv\" id=\"02cb4d5b-c233-4b70-9ad3-0ba1af4d26ab\"></div>\n",
       "    </div>\n",
       "<script type=\"text/javascript\">\n",
       "  \n",
       "  (function(global) {\n",
       "    function now() {\n",
       "      return new Date();\n",
       "    }\n",
       "  \n",
       "    if (typeof (window._bokeh_onload_callbacks) === \"undefined\") {\n",
       "      window._bokeh_onload_callbacks = [];\n",
       "    }\n",
       "  \n",
       "    function run_callbacks() {\n",
       "      window._bokeh_onload_callbacks.forEach(function(callback) { callback() });\n",
       "      delete window._bokeh_onload_callbacks\n",
       "      console.info(\"Bokeh: all callbacks have finished\");\n",
       "    }\n",
       "  \n",
       "    function load_libs(js_urls, callback) {\n",
       "      window._bokeh_onload_callbacks.push(callback);\n",
       "      if (window._bokeh_is_loading > 0) {\n",
       "        console.log(\"Bokeh: BokehJS is being loaded, scheduling callback at\", now());\n",
       "        return null;\n",
       "      }\n",
       "      if (js_urls == null || js_urls.length === 0) {\n",
       "        run_callbacks();\n",
       "        return null;\n",
       "      }\n",
       "      console.log(\"Bokeh: BokehJS not loaded, scheduling load and callback at\", now());\n",
       "      window._bokeh_is_loading = js_urls.length;\n",
       "      for (var i = 0; i < js_urls.length; i++) {\n",
       "        var url = js_urls[i];\n",
       "        var s = document.createElement('script');\n",
       "        s.src = url;\n",
       "        s.async = false;\n",
       "        s.onreadystatechange = s.onload = function() {\n",
       "          window._bokeh_is_loading--;\n",
       "          if (window._bokeh_is_loading === 0) {\n",
       "            console.log(\"Bokeh: all BokehJS libraries loaded\");\n",
       "            run_callbacks()\n",
       "          }\n",
       "        };\n",
       "        s.onerror = function() {\n",
       "          console.warn(\"failed to load library \" + url);\n",
       "        };\n",
       "        console.log(\"Bokeh: injecting script tag for BokehJS library: \", url);\n",
       "        document.getElementsByTagName(\"head\")[0].appendChild(s);\n",
       "      }\n",
       "    };var element = document.getElementById(\"02cb4d5b-c233-4b70-9ad3-0ba1af4d26ab\");\n",
       "    if (element == null) {\n",
       "      console.log(\"Bokeh: ERROR: autoload.js configured with elementid '02cb4d5b-c233-4b70-9ad3-0ba1af4d26ab' but no matching script tag was found. \")\n",
       "      return false;\n",
       "    }\n",
       "  \n",
       "    var js_urls = [];\n",
       "  \n",
       "    var inline_js = [\n",
       "      function(Bokeh) {\n",
       "        Bokeh.$(function() {\n",
       "            var docs_json = {\"3d0af49a-e11f-435e-ab65-c20cb6701e4c\":{\"roots\":{\"references\":[{\"attributes\":{\"data_source\":{\"id\":\"864f0313-b9a8-4398-9894-9e857c2ad52c\",\"type\":\"ColumnDataSource\"},\"glyph\":{\"id\":\"d5284a73-0048-4d2a-94b7-dad0e0608574\",\"type\":\"Quad\"},\"hover_glyph\":null,\"nonselection_glyph\":{\"id\":\"fd5b0093-db57-4a44-bd93-92399fd1a683\",\"type\":\"Quad\"},\"selection_glyph\":null},\"id\":\"294880a9-f0c7-4333-9fee-5b919d4fa26d\",\"type\":\"GlyphRenderer\"},{\"attributes\":{\"data_source\":{\"id\":\"3737052b-4876-4800-b9a7-c653cb3edd3c\",\"type\":\"ColumnDataSource\"},\"glyph\":{\"id\":\"eade8fe0-9cc8-457c-b18b-451d918552a5\",\"type\":\"MultiLine\"},\"hover_glyph\":null,\"nonselection_glyph\":{\"id\":\"ce234b8f-16d0-447d-92df-d23880848326\",\"type\":\"MultiLine\"},\"selection_glyph\":null},\"id\":\"15d0f464-2220-48c3-8349-560cafd9bb67\",\"type\":\"GlyphRenderer\"},{\"attributes\":{\"callback\":null,\"column_names\":[\"y\",\"x\",\"vals\"],\"data\":{\"vals\":[\"13_1696\",\"9_944\",\"5_17\",\"32_1361\",\"81_857\",\"13_1227\",\"4_1442\",\"7_1303\",\"7_1760\",\"6_1114\",\"5_1296\",\"24_1504\"],\"x\":[135757320,135829592,135920394,136393658,136494985,136500475,136506375,136535876,136588031,136652491,136652953,136653925],\"y\":[601.0,196.0,61.0,499.0,195.0,298.0,499.0,399.0,601.0,297.0,399.0,600.0]}},\"id\":\"4ec12fb6-9f25-490f-8ead-1b023328b477\",\"type\":\"ColumnDataSource\"},{\"attributes\":{\"bottom_units\":\"screen\",\"fill_alpha\":{\"value\":0.5},\"fill_color\":{\"value\":\"lightgrey\"},\"left_units\":\"screen\",\"level\":\"overlay\",\"line_alpha\":{\"value\":1.0},\"line_color\":{\"value\":\"black\"},\"line_dash\":[4,4],\"line_width\":{\"value\":2},\"plot\":null,\"render_mode\":\"css\",\"right_units\":\"screen\",\"top_units\":\"screen\"},\"id\":\"21568337-0d76-4ba3-bb24-fb5b216b5e9c\",\"type\":\"BoxAnnotation\"},{\"attributes\":{\"plot\":{\"id\":\"ea7f2c4b-d5f5-4c60-b5c8-29b946bc495c\",\"subtype\":\"Figure\",\"type\":\"Plot\"}},\"id\":\"96be7787-b364-4a66-a8e1-0e9c130cc2c5\",\"type\":\"ResetTool\"},{\"attributes\":{\"callback\":null,\"column_names\":[\"right\",\"bottom\",\"top\",\"left\",\"fill_color\"],\"data\":{\"bottom\":[550,150,50,450,150,250,450,350,550,250,350,550],\"fill_color\":[\"#808080\",\"#c4c461\",\"#00ff00\",\"#c4c461\",\"#808080\",\"#808080\",\"#808080\",\"#808080\",\"#c46161\",\"#808080\",\"#808080\",\"#808080\"],\"left\":[135757320,135829592,135920394,136393658,136494985,136500475,136506375,136535876,136588031,136652491,136652953,136653925],\"right\":[135777504,136420908,136528956,136486342,136773638,136542560,136538939,136554890,136593678,136732772,136761175,136761853],\"top\":[596,191,56,494,190,293,494,394,596,292,394,595]}},\"id\":\"1bdb2e9b-6a48-4c62-be31-1a8de10e9923\",\"type\":\"ColumnDataSource\"},{\"attributes\":{\"bottom\":{\"field\":\"bottom\"},\"fill_alpha\":{\"value\":0.1},\"fill_color\":{\"value\":\"#1f77b4\"},\"left\":{\"field\":\"left\"},\"line_alpha\":{\"value\":0.1},\"line_color\":{\"value\":\"#1f77b4\"},\"right\":{\"field\":\"right\"},\"top\":{\"field\":\"top\"}},\"id\":\"9cb893af-b548-4d1d-af11-98d0788e3dbe\",\"type\":\"Quad\"},{\"attributes\":{\"plot\":{\"id\":\"ea7f2c4b-d5f5-4c60-b5c8-29b946bc495c\",\"subtype\":\"Figure\",\"type\":\"Plot\"}},\"id\":\"867bfacd-0485-4776-a177-0bed2d825aac\",\"type\":\"WheelZoomTool\"},{\"attributes\":{},\"id\":\"1aef5f08-3319-4258-9690-72e854024f87\",\"type\":\"ToolEvents\"},{\"attributes\":{\"callback\":null,\"column_names\":[\"right\",\"bottom\",\"top\",\"left\"],\"data\":{\"bottom\":[645,645,645,645,645,645,645],\"left\":[135809835,135957574,136289083,136499189,136545415,136597196,136664254],\"right\":[135928279,136288182,136482839,136542633,136594750,136634047,136743222],\"top\":[675,675,675,675,675,675,675]}},\"id\":\"864f0313-b9a8-4398-9894-9e857c2ad52c\",\"type\":\"ColumnDataSource\"},{\"attributes\":{\"dimension\":1,\"plot\":{\"id\":\"ea7f2c4b-d5f5-4c60-b5c8-29b946bc495c\",\"subtype\":\"Figure\",\"type\":\"Plot\"},\"ticker\":{\"id\":\"215740f0-ffe8-4544-ac04-77f86ef1c5fc\",\"type\":\"BasicTicker\"}},\"id\":\"3dbcf1bb-21ac-4449-b823-e3e7b75e4040\",\"type\":\"Grid\"},{\"attributes\":{\"plot\":{\"id\":\"ea7f2c4b-d5f5-4c60-b5c8-29b946bc495c\",\"subtype\":\"Figure\",\"type\":\"Plot\"},\"ticker\":{\"id\":\"21dcdd4e-857e-4542-b4cc-abf75d81e9f1\",\"type\":\"BasicTicker\"}},\"id\":\"48a20b7b-5305-4fa2-af69-20c7423a5a55\",\"type\":\"Grid\"},{\"attributes\":{\"overlay\":{\"id\":\"21568337-0d76-4ba3-bb24-fb5b216b5e9c\",\"type\":\"BoxAnnotation\"},\"plot\":{\"id\":\"ea7f2c4b-d5f5-4c60-b5c8-29b946bc495c\",\"subtype\":\"Figure\",\"type\":\"Plot\"}},\"id\":\"ca1dd166-a481-4bc1-9515-8d5d6ecd31bf\",\"type\":\"BoxZoomTool\"},{\"attributes\":{},\"id\":\"ba003956-dd45-4299-bf2f-2ef3cdf9088d\",\"type\":\"BasicTickFormatter\"},{\"attributes\":{},\"id\":\"b2a3099d-8a70-4dde-8797-6d537bf5a1cd\",\"type\":\"BasicTickFormatter\"},{\"attributes\":{\"plot\":{\"id\":\"ea7f2c4b-d5f5-4c60-b5c8-29b946bc495c\",\"subtype\":\"Figure\",\"type\":\"Plot\"}},\"id\":\"c16ea2f6-bd2c-4c48-bc19-f1be3c7541ee\",\"type\":\"PanTool\"},{\"attributes\":{\"plot\":{\"id\":\"ea7f2c4b-d5f5-4c60-b5c8-29b946bc495c\",\"subtype\":\"Figure\",\"type\":\"Plot\"}},\"id\":\"bb30f229-ce46-46fb-aa40-8e2a51e454d3\",\"type\":\"SaveTool\"},{\"attributes\":{\"plot\":null,\"text\":null},\"id\":\"0915aca8-bdad-485c-8cf9-eb3ca36c5abe\",\"type\":\"Title\"},{\"attributes\":{\"callback\":null,\"end\":136786630,\"start\":135757320},\"id\":\"debf4932-289c-4f11-8dbb-ef653058ab0d\",\"type\":\"Range1d\"},{\"attributes\":{\"below\":[{\"id\":\"8b9f5416-b360-4b56-bb63-2b8c7f60ca02\",\"type\":\"LinearAxis\"}],\"left\":[{\"id\":\"f216b9ff-06e0-4646-8a64-2c00ce036336\",\"type\":\"LinearAxis\"}],\"plot_height\":700,\"plot_width\":900,\"renderers\":[{\"id\":\"8b9f5416-b360-4b56-bb63-2b8c7f60ca02\",\"type\":\"LinearAxis\"},{\"id\":\"48a20b7b-5305-4fa2-af69-20c7423a5a55\",\"type\":\"Grid\"},{\"id\":\"f216b9ff-06e0-4646-8a64-2c00ce036336\",\"type\":\"LinearAxis\"},{\"id\":\"3dbcf1bb-21ac-4449-b823-e3e7b75e4040\",\"type\":\"Grid\"},{\"id\":\"21568337-0d76-4ba3-bb24-fb5b216b5e9c\",\"type\":\"BoxAnnotation\"},{\"id\":\"4c60590e-00e0-4d8b-8f0f-bb164a63569f\",\"type\":\"GlyphRenderer\"},{\"id\":\"15d0f464-2220-48c3-8349-560cafd9bb67\",\"type\":\"GlyphRenderer\"},{\"id\":\"2e1578df-6896-40cd-98af-f73214b7ab5e\",\"type\":\"LabelSet\"},{\"id\":\"294880a9-f0c7-4333-9fee-5b919d4fa26d\",\"type\":\"GlyphRenderer\"},{\"id\":\"b4fbc431-073f-48c9-ab6e-bf85c7ba1f7d\",\"type\":\"LabelSet\"}],\"title\":{\"id\":\"0915aca8-bdad-485c-8cf9-eb3ca36c5abe\",\"type\":\"Title\"},\"tool_events\":{\"id\":\"1aef5f08-3319-4258-9690-72e854024f87\",\"type\":\"ToolEvents\"},\"toolbar\":{\"id\":\"ff97a6b6-9d47-4319-b1e5-69e530d36609\",\"type\":\"Toolbar\"},\"toolbar_location\":null,\"x_range\":{\"id\":\"debf4932-289c-4f11-8dbb-ef653058ab0d\",\"type\":\"Range1d\"},\"y_range\":{\"id\":\"da858f19-0377-4f09-b33f-3716b56bd661\",\"type\":\"Range1d\"}},\"id\":\"ea7f2c4b-d5f5-4c60-b5c8-29b946bc495c\",\"subtype\":\"Figure\",\"type\":\"Plot\"},{\"attributes\":{},\"id\":\"21dcdd4e-857e-4542-b4cc-abf75d81e9f1\",\"type\":\"BasicTicker\"},{\"attributes\":{\"callback\":null,\"column_names\":[\"xs\",\"ys\",\"line_color\"],\"data\":{\"line_color\":[\"black\",\"black\",\"black\",\"black\",\"black\",\"black\",\"black\",\"black\",\"black\",\"black\",\"black\",\"black\",\"black\",\"black\",\"black\",\"black\",\"black\",\"black\",\"black\",\"black\",\"black\",\"black\",\"black\",\"black\",\"black\",\"black\",\"black\",\"black\",\"black\",\"black\",\"black\",\"black\",\"black\",\"black\",\"black\",\"black\",\"black\",\"black\",\"black\",\"black\",\"black\",\"black\",\"black\",\"black\",\"black\",\"black\",\"black\",\"black\",\"black\",\"black\",\"black\",\"black\",\"black\",\"black\",\"black\",\"black\",\"black\",\"black\",\"black\",\"black\",\"black\",\"black\",\"black\",\"black\",\"black\",\"black\",\"black\",\"black\",\"black\",\"black\",\"black\",\"black\",\"black\",\"black\",\"black\",\"black\",\"black\",\"black\",\"black\",\"black\",\"black\",\"black\",\"black\",\"black\",\"black\",\"black\",\"black\",\"black\",\"black\",\"black\",\"black\",\"black\",\"black\",\"black\",\"black\",\"black\",\"black\",\"black\",\"black\",\"black\",\"black\",\"black\",\"black\",\"black\",\"black\",\"black\",\"black\",\"black\",\"black\",\"black\",\"black\",\"black\",\"black\",\"black\",\"black\",\"black\",\"black\",\"black\",\"black\",\"black\",\"black\",\"black\",\"black\",\"black\",\"black\",\"black\",\"black\",\"black\",\"black\",\"black\",\"black\",\"black\",\"black\",\"black\",\"black\",\"black\",\"black\",\"black\",\"black\",\"black\",\"black\",\"black\",\"black\",\"black\",\"black\",\"black\",\"black\",\"black\",\"black\",\"black\",\"black\",\"black\",\"black\",\"black\",\"black\",\"black\",\"black\",\"black\",\"black\",\"black\",\"black\",\"black\",\"black\",\"black\",\"black\",\"black\",\"black\",\"black\",\"black\",\"black\",\"black\",\"black\",\"black\",\"black\",\"black\",\"black\",\"black\",\"black\",\"black\",\"black\",\"black\",\"black\",\"black\",\"black\",\"black\",\"black\",\"black\",\"black\",\"black\",\"black\",\"black\",\"black\",\"black\",\"black\",\"black\",\"black\",\"black\",\"black\",\"black\",\"black\",\"black\",\"black\",\"black\",\"black\",\"black\",\"black\"],\"xs\":[[135757320,135757320],[135761078,135761078],[135761271,135761271],[135762344,135762344],[135762980,135762980],[135763280,135763280],[135768815,135768815],[135769093,135769093],[135769127,135769127],[135770940,135770940],[135770951,135770951],[135776728,135776728],[135777504,135777504],[135829592,135829592],[135893372,135893372],[135952405,135952405],[135989721,135989721],[136136056,136136056],[136313639,136313639],[136401418,136401418],[136407078,136407078],[136420908,136420908],[135920394,135920394],[135929310,135929310],[136179305,136179305],[136388794,136388794],[136528956,136528956],[136393658,136393658],[136396300,136396300],[136401843,136401843],[136407445,136407445],[136411879,136411879],[136412270,136412270],[136413244,136413244],[136413847,136413847],[136415217,136415217],[136416533,136416533],[136420726,136420726],[136429857,136429857],[136433740,136433740],[136436317,136436317],[136437615,136437615],[136438517,136438517],[136440300,136440300],[136443900,136443900],[136444185,136444185],[136444338,136444338],[136449254,136449254],[136451676,136451676],[136459227,136459227],[136463117,136463117],[136463454,136463454],[136467119,136467119],[136468238,136468238],[136470219,136470219],[136483355,136483355],[136485276,136485276],[136486340,136486340],[136486342,136486342],[136494985,136494985],[136497199,136497199],[136511817,136511817],[136513670,136513670],[136515458,136515458],[136516970,136516970],[136525309,136525309],[136528034,136528034],[136532225,136532225],[136535235,136535235],[136536095,136536095],[136544423,136544423],[136546927,136546927],[136552188,136552188],[136552517,136552517],[136555525,136555525],[136556480,136556480],[136560464,136560464],[136572285,136572285],[136582694,136582694],[136582809,136582809],[136584538,136584538],[136585323,136585323],[136586825,136586825],[136600662,136600662],[136612036,136612036],[136618178,136618178],[136618507,136618507],[136622543,136622543],[136624947,136624947],[136625113,136625113],[136626078,136626078],[136628121,136628121],[136632300,136632300],[136633962,136633962],[136635343,136635343],[136638113,136638113],[136640101,136640101],[136641593,136641593],[136646582,136646582],[136648077,136648077],[136648883,136648883],[136652045,136652045],[136653848,136653848],[136656094,136656094],[136661110,136661110],[136663110,136663110],[136663605,136663605],[136665162,136665162],[136665711,136665711],[136668123,136668123],[136670419,136670419],[136672680,136672680],[136673546,136673546],[136684632,136684632],[136686114,136686114],[136690425,136690425],[136690783,136690783],[136692893,136692893],[136694905,136694905],[136695694,136695694],[136695705,136695705],[136696608,136696608],[136697372,136697372],[136697468,136697468],[136700024,136700024],[136701539,136701539],[136702118,136702118],[136707480,136707480],[136710554,136710554],[136714178,136714178],[136719173,136719173],[136725459,136725459],[136734569,136734569],[136744678,136744678],[136748779,136748779],[136751488,136751488],[136754183,136754183],[136763242,136763242],[136765074,136765074],[136773638,136773638],[136500475,136500475],[136501509,136501509],[136504101,136504101],[136509868,136509868],[136520043,136520043],[136527120,136527120],[136530379,136530379],[136530443,136530443],[136539330,136539330],[136539670,136539670],[136540083,136540083],[136542559,136542559],[136542560,136542560],[136506375,136506375],[136506927,136506927],[136510012,136510012],[136538939,136538939],[136535876,136535876],[136544651,136544651],[136545844,136545844],[136552526,136552526],[136553022,136553022],[136554797,136554797],[136554890,136554890],[136588031,136588031],[136589278,136589278],[136589379,136589379],[136589741,136589741],[136590746,136590746],[136593553,136593553],[136593678,136593678],[136652491,136652491],[136652524,136652524],[136661150,136661150],[136669264,136669264],[136726567,136726567],[136732772,136732772],[136652953,136652953],[136655582,136655582],[136674028,136674028],[136684940,136684940],[136761175,136761175],[136653925,136653925],[136654833,136654833],[136656534,136656534],[136656536,136656536],[136657252,136657252],[136667301,136667301],[136667487,136667487],[136672775,136672775],[136680534,136680534],[136686393,136686393],[136688749,136688749],[136692553,136692553],[136697371,136697371],[136708787,136708787],[136710372,136710372],[136711064,136711064],[136715324,136715324],[136723504,136723504],[136737460,136737460],[136743143,136743143],[136746224,136746224],[136751842,136751842],[136759379,136759379],[136761853,136761853]],\"ys\":[[550,596],[550,596],[550,596],[550,596],[550,596],[550,596],[550,596],[550,596],[550,596],[550,596],[550,596],[550,596],[550,596],[150,191],[150,191],[150,191],[150,191],[150,191],[150,191],[150,191],[150,191],[150,191],[50,56],[50,56],[50,56],[50,56],[50,56],[450,494],[450,494],[450,494],[450,494],[450,494],[450,494],[450,494],[450,494],[450,494],[450,494],[450,494],[450,494],[450,494],[450,494],[450,494],[450,494],[450,494],[450,494],[450,494],[450,494],[450,494],[450,494],[450,494],[450,494],[450,494],[450,494],[450,494],[450,494],[450,494],[450,494],[450,494],[450,494],[150,190],[150,190],[150,190],[150,190],[150,190],[150,190],[150,190],[150,190],[150,190],[150,190],[150,190],[150,190],[150,190],[150,190],[150,190],[150,190],[150,190],[150,190],[150,190],[150,190],[150,190],[150,190],[150,190],[150,190],[150,190],[150,190],[150,190],[150,190],[150,190],[150,190],[150,190],[150,190],[150,190],[150,190],[150,190],[150,190],[150,190],[150,190],[150,190],[150,190],[150,190],[150,190],[150,190],[150,190],[150,190],[150,190],[150,190],[150,190],[150,190],[150,190],[150,190],[150,190],[150,190],[150,190],[150,190],[150,190],[150,190],[150,190],[150,190],[150,190],[150,190],[150,190],[150,190],[150,190],[150,190],[150,190],[150,190],[150,190],[150,190],[150,190],[150,190],[150,190],[150,190],[150,190],[150,190],[150,190],[150,190],[150,190],[150,190],[150,190],[150,190],[250,293],[250,293],[250,293],[250,293],[250,293],[250,293],[250,293],[250,293],[250,293],[250,293],[250,293],[250,293],[250,293],[450,494],[450,494],[450,494],[450,494],[350,394],[350,394],[350,394],[350,394],[350,394],[350,394],[350,394],[550,596],[550,596],[550,596],[550,596],[550,596],[550,596],[550,596],[250,292],[250,292],[250,292],[250,292],[250,292],[250,292],[350,394],[350,394],[350,394],[350,394],[350,394],[550,595],[550,595],[550,595],[550,595],[550,595],[550,595],[550,595],[550,595],[550,595],[550,595],[550,595],[550,595],[550,595],[550,595],[550,595],[550,595],[550,595],[550,595],[550,595],[550,595],[550,595],[550,595],[550,595],[550,595]]}},\"id\":\"3737052b-4876-4800-b9a7-c653cb3edd3c\",\"type\":\"ColumnDataSource\"},{\"attributes\":{\"bottom\":{\"field\":\"bottom\"},\"fill_alpha\":{\"value\":0.1},\"fill_color\":{\"value\":\"#1f77b4\"},\"left\":{\"field\":\"left\"},\"line_alpha\":{\"value\":0.1},\"line_color\":{\"value\":\"#1f77b4\"},\"right\":{\"field\":\"right\"},\"top\":{\"field\":\"top\"}},\"id\":\"fd5b0093-db57-4a44-bd93-92399fd1a683\",\"type\":\"Quad\"},{\"attributes\":{\"callback\":null,\"end\":700},\"id\":\"da858f19-0377-4f09-b33f-3716b56bd661\",\"type\":\"Range1d\"},{\"attributes\":{\"formatter\":{\"id\":\"ba003956-dd45-4299-bf2f-2ef3cdf9088d\",\"type\":\"BasicTickFormatter\"},\"plot\":{\"id\":\"ea7f2c4b-d5f5-4c60-b5c8-29b946bc495c\",\"subtype\":\"Figure\",\"type\":\"Plot\"},\"ticker\":{\"id\":\"215740f0-ffe8-4544-ac04-77f86ef1c5fc\",\"type\":\"BasicTicker\"},\"visible\":null},\"id\":\"f216b9ff-06e0-4646-8a64-2c00ce036336\",\"type\":\"LinearAxis\"},{\"attributes\":{\"bottom\":{\"field\":\"bottom\"},\"fill_color\":{\"field\":\"fill_color\"},\"left\":{\"field\":\"left\"},\"line_color\":{\"value\":null},\"right\":{\"field\":\"right\"},\"top\":{\"field\":\"top\"}},\"id\":\"e53e16ff-f085-42f7-b8f2-f6a84bb18350\",\"type\":\"Quad\"},{\"attributes\":{\"callback\":null,\"column_names\":[\"y\",\"x\",\"vals\"],\"data\":{\"vals\":[\"RAB3GAP1\",\"ZRANB3\",\"R3HDM1\",\"UBXN4\",\"LCT\",\"MCM6\",\"DARS\"],\"x\":[135869057.0,136122878.0,136385961.0,136520911.0,136570082.5,136615621.5,136703738.0],\"y\":[660.0,660.0,660.0,660.0,660.0,660.0,660.0]}},\"id\":\"09c30569-e225-4c37-87da-2aaa00bba49b\",\"type\":\"ColumnDataSource\"},{\"attributes\":{\"data_source\":{\"id\":\"1bdb2e9b-6a48-4c62-be31-1a8de10e9923\",\"type\":\"ColumnDataSource\"},\"glyph\":{\"id\":\"e53e16ff-f085-42f7-b8f2-f6a84bb18350\",\"type\":\"Quad\"},\"hover_glyph\":null,\"nonselection_glyph\":{\"id\":\"9cb893af-b548-4d1d-af11-98d0788e3dbe\",\"type\":\"Quad\"},\"selection_glyph\":null},\"id\":\"4c60590e-00e0-4d8b-8f0f-bb164a63569f\",\"type\":\"GlyphRenderer\"},{\"attributes\":{\"bottom\":{\"field\":\"bottom\"},\"fill_color\":{\"value\":\"white\"},\"left\":{\"field\":\"left\"},\"right\":{\"field\":\"right\"},\"top\":{\"field\":\"top\"}},\"id\":\"d5284a73-0048-4d2a-94b7-dad0e0608574\",\"type\":\"Quad\"},{\"attributes\":{\"active_drag\":\"auto\",\"active_scroll\":\"auto\",\"active_tap\":\"auto\",\"tools\":[{\"id\":\"c16ea2f6-bd2c-4c48-bc19-f1be3c7541ee\",\"type\":\"PanTool\"},{\"id\":\"867bfacd-0485-4776-a177-0bed2d825aac\",\"type\":\"WheelZoomTool\"},{\"id\":\"ca1dd166-a481-4bc1-9515-8d5d6ecd31bf\",\"type\":\"BoxZoomTool\"},{\"id\":\"bb30f229-ce46-46fb-aa40-8e2a51e454d3\",\"type\":\"SaveTool\"},{\"id\":\"96be7787-b364-4a66-a8e1-0e9c130cc2c5\",\"type\":\"ResetTool\"},{\"id\":\"6c65a04d-5942-4f59-89b9-1cf293890fa9\",\"type\":\"HelpTool\"}]},\"id\":\"ff97a6b6-9d47-4319-b1e5-69e530d36609\",\"type\":\"Toolbar\"},{\"attributes\":{\"plot\":{\"id\":\"ea7f2c4b-d5f5-4c60-b5c8-29b946bc495c\",\"subtype\":\"Figure\",\"type\":\"Plot\"}},\"id\":\"6c65a04d-5942-4f59-89b9-1cf293890fa9\",\"type\":\"HelpTool\"},{\"attributes\":{\"formatter\":{\"id\":\"b2a3099d-8a70-4dde-8797-6d537bf5a1cd\",\"type\":\"BasicTickFormatter\"},\"plot\":{\"id\":\"ea7f2c4b-d5f5-4c60-b5c8-29b946bc495c\",\"subtype\":\"Figure\",\"type\":\"Plot\"},\"ticker\":{\"id\":\"21dcdd4e-857e-4542-b4cc-abf75d81e9f1\",\"type\":\"BasicTicker\"}},\"id\":\"8b9f5416-b360-4b56-bb63-2b8c7f60ca02\",\"type\":\"LinearAxis\"},{\"attributes\":{\"level\":\"glyph\",\"plot\":{\"id\":\"ea7f2c4b-d5f5-4c60-b5c8-29b946bc495c\",\"subtype\":\"Figure\",\"type\":\"Plot\"},\"source\":{\"id\":\"09c30569-e225-4c37-87da-2aaa00bba49b\",\"type\":\"ColumnDataSource\"},\"text\":{\"field\":\"vals\"},\"text_align\":\"center\",\"text_baseline\":\"middle\",\"text_font_size\":{\"value\":\"8pt\"},\"x\":{\"field\":\"x\"},\"y\":{\"field\":\"y\"}},\"id\":\"b4fbc431-073f-48c9-ab6e-bf85c7ba1f7d\",\"type\":\"LabelSet\"},{\"attributes\":{\"line_color\":{\"field\":\"line_color\"},\"xs\":{\"field\":\"xs\"},\"ys\":{\"field\":\"ys\"}},\"id\":\"eade8fe0-9cc8-457c-b18b-451d918552a5\",\"type\":\"MultiLine\"},{\"attributes\":{},\"id\":\"215740f0-ffe8-4544-ac04-77f86ef1c5fc\",\"type\":\"BasicTicker\"},{\"attributes\":{\"line_alpha\":{\"value\":0.1},\"line_color\":{\"value\":\"#1f77b4\"},\"xs\":{\"field\":\"xs\"},\"ys\":{\"field\":\"ys\"}},\"id\":\"ce234b8f-16d0-447d-92df-d23880848326\",\"type\":\"MultiLine\"},{\"attributes\":{\"level\":\"glyph\",\"plot\":{\"id\":\"ea7f2c4b-d5f5-4c60-b5c8-29b946bc495c\",\"subtype\":\"Figure\",\"type\":\"Plot\"},\"source\":{\"id\":\"4ec12fb6-9f25-490f-8ead-1b023328b477\",\"type\":\"ColumnDataSource\"},\"text\":{\"field\":\"vals\"},\"text_font_size\":{\"value\":\"9pt\"},\"text_font_style\":\"bold\",\"x\":{\"field\":\"x\"},\"y\":{\"field\":\"y\"}},\"id\":\"2e1578df-6896-40cd-98af-f73214b7ab5e\",\"type\":\"LabelSet\"}],\"root_ids\":[\"ea7f2c4b-d5f5-4c60-b5c8-29b946bc495c\"]},\"title\":\"Bokeh Application\",\"version\":\"0.12.0\"}};\n",
       "            var render_items = [{\"docid\":\"3d0af49a-e11f-435e-ab65-c20cb6701e4c\",\"elementid\":\"02cb4d5b-c233-4b70-9ad3-0ba1af4d26ab\",\"modelid\":\"ea7f2c4b-d5f5-4c60-b5c8-29b946bc495c\",\"notebook_comms_target\":\"536bcc48-a873-4d6f-beed-88f56ad70db3\"}];\n",
       "            \n",
       "            Bokeh.embed.embed_items(docs_json, render_items);\n",
       "        });\n",
       "      },\n",
       "      function(Bokeh) {\n",
       "      }\n",
       "    ];\n",
       "  \n",
       "    function run_inline_js() {\n",
       "      for (var i = 0; i < inline_js.length; i++) {\n",
       "        inline_js[i](window.Bokeh);\n",
       "      }\n",
       "    }\n",
       "  \n",
       "    if (window._bokeh_is_loading === 0) {\n",
       "      console.log(\"Bokeh: BokehJS loaded, going straight to plotting\");\n",
       "      run_inline_js();\n",
       "    } else {\n",
       "      load_libs(js_urls, function() {\n",
       "        console.log(\"Bokeh: BokehJS plotting callback run at\", now());\n",
       "        run_inline_js();\n",
       "      });\n",
       "    }\n",
       "  }(this));\n",
       "</script>"
      ]
     },
     "metadata": {},
     "output_type": "display_data"
    },
    {
     "data": {
      "text/html": [
       "<p><code>&lt;Bokeh Notebook handle for <strong>In[5]</strong>&gt;</code></p>"
      ],
      "text/plain": [
       "<bokeh.io._CommsHandle at 0x7f90d02d5f90>"
      ]
     },
     "execution_count": 5,
     "metadata": {},
     "output_type": "execute_result"
    }
   ],
   "source": [
    "plt_obj = dm.superset_yes_no([di_5_17], min_match=0.001)\n",
    "plt = plt_obj.do_plot()\n",
    "show(plt)"
   ]
  }
 ],
 "metadata": {
  "anaconda-cloud": {},
  "kernelspec": {
   "display_name": "Python [Root]",
   "language": "python",
   "name": "Python [Root]"
  },
  "language_info": {
   "codemirror_mode": {
    "name": "ipython",
    "version": 2
   },
   "file_extension": ".py",
   "mimetype": "text/x-python",
   "name": "python",
   "nbconvert_exporter": "python",
   "pygments_lexer": "ipython2",
   "version": "2.7.12"
  }
 },
 "nbformat": 4,
 "nbformat_minor": 0
}
