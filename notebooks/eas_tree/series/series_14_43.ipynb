{
 "cells": [
  {
   "cell_type": "code",
   "execution_count": 1,
   "metadata": {
    "collapsed": false
   },
   "outputs": [
    {
     "data": {
      "text/html": []
     },
     "metadata": {},
     "output_type": "display_data"
    },
    {
     "data": {
      "application/javascript": [
       "\n",
       "(function(global) {\n",
       "  function now() {\n",
       "    return new Date();\n",
       "  }\n",
       "\n",
       "  if (typeof (window._bokeh_onload_callbacks) === \"undefined\") {\n",
       "    window._bokeh_onload_callbacks = [];\n",
       "  }\n",
       "\n",
       "  function run_callbacks() {\n",
       "    window._bokeh_onload_callbacks.forEach(function(callback) { callback() });\n",
       "    delete window._bokeh_onload_callbacks\n",
       "    console.info(\"Bokeh: all callbacks have finished\");\n",
       "  }\n",
       "\n",
       "  function load_libs(js_urls, callback) {\n",
       "    window._bokeh_onload_callbacks.push(callback);\n",
       "    if (window._bokeh_is_loading > 0) {\n",
       "      console.log(\"Bokeh: BokehJS is being loaded, scheduling callback at\", now());\n",
       "      return null;\n",
       "    }\n",
       "    if (js_urls == null || js_urls.length === 0) {\n",
       "      run_callbacks();\n",
       "      return null;\n",
       "    }\n",
       "    console.log(\"Bokeh: BokehJS not loaded, scheduling load and callback at\", now());\n",
       "    window._bokeh_is_loading = js_urls.length;\n",
       "    for (var i = 0; i < js_urls.length; i++) {\n",
       "      var url = js_urls[i];\n",
       "      var s = document.createElement('script');\n",
       "      s.src = url;\n",
       "      s.async = false;\n",
       "      s.onreadystatechange = s.onload = function() {\n",
       "        window._bokeh_is_loading--;\n",
       "        if (window._bokeh_is_loading === 0) {\n",
       "          console.log(\"Bokeh: all BokehJS libraries loaded\");\n",
       "          run_callbacks()\n",
       "        }\n",
       "      };\n",
       "      s.onerror = function() {\n",
       "        console.warn(\"failed to load library \" + url);\n",
       "      };\n",
       "      console.log(\"Bokeh: injecting script tag for BokehJS library: \", url);\n",
       "      document.getElementsByTagName(\"head\")[0].appendChild(s);\n",
       "    }\n",
       "  };\n",
       "\n",
       "  var js_urls = ['https://cdn.pydata.org/bokeh/release/bokeh-0.12.0.min.js', 'https://cdn.pydata.org/bokeh/release/bokeh-widgets-0.12.0.min.js', 'https://cdn.pydata.org/bokeh/release/bokeh-compiler-0.12.0.min.js'];\n",
       "\n",
       "  var inline_js = [\n",
       "    function(Bokeh) {\n",
       "      Bokeh.set_log_level(\"info\");\n",
       "    },\n",
       "    \n",
       "    function(Bokeh) {\n",
       "      Bokeh.$(\"#748d98bc-bd6e-4e99-8050-bb95c9343f65\").text(\"BokehJS successfully loaded\");\n",
       "    },\n",
       "    function(Bokeh) {\n",
       "      console.log(\"Bokeh: injecting CSS: https://cdn.pydata.org/bokeh/release/bokeh-0.12.0.min.css\");\n",
       "      Bokeh.embed.inject_css(\"https://cdn.pydata.org/bokeh/release/bokeh-0.12.0.min.css\");\n",
       "      console.log(\"Bokeh: injecting CSS: https://cdn.pydata.org/bokeh/release/bokeh-widgets-0.12.0.min.css\");\n",
       "      Bokeh.embed.inject_css(\"https://cdn.pydata.org/bokeh/release/bokeh-widgets-0.12.0.min.css\");\n",
       "    }\n",
       "  ];\n",
       "\n",
       "  function run_inline_js() {\n",
       "    for (var i = 0; i < inline_js.length; i++) {\n",
       "      inline_js[i](window.Bokeh);\n",
       "    }\n",
       "  }\n",
       "\n",
       "  if (window._bokeh_is_loading === 0) {\n",
       "    console.log(\"Bokeh: BokehJS loaded, going straight to plotting\");\n",
       "    run_inline_js();\n",
       "  } else {\n",
       "    load_libs(js_urls, function() {\n",
       "      console.log(\"Bokeh: BokehJS plotting callback run at\", now());\n",
       "      run_inline_js();\n",
       "    });\n",
       "  }\n",
       "}(this));"
      ]
     },
     "metadata": {},
     "output_type": "display_data"
    }
   ],
   "source": [
    "import numpy as np\n",
    "from IPython.display import HTML\n",
    "from bokeh.plotting import output_notebook, show\n",
    "import genomes_dnj.lct_interval.series_plots as dm\n",
    "import genomes_dnj.lct_interval.anal_series as an\n",
    "import genomes_dnj.lct_interval_snp_anal.lct_interval_snp_anal as snp_anal\n",
    "import genomes_dnj.lct_interval.series_masks as sm\n",
    "from genomes_dnj.lct_interval.bokeh_match_count_plot import snp_match_count_plot_cls as smcp\n",
    "output_notebook(hide_banner=True)\n",
    "di_14_43 = 353394\n",
    "sa_14_43 = snp_anal.series_anal_cls(di_14_43, sm.series_data)\n",
    "am_14_43 = dm.allele_mask_from_index(di_14_43)\n",
    "sa_5_684 = snp_anal.series_anal_cls(dm.di_5_684, sm.series_data)\n",
    "sa_9_944 = snp_anal.series_anal_cls(dm.di_9_944, sm.series_data)"
   ]
  },
  {
   "cell_type": "markdown",
   "metadata": {},
   "source": [
    "<h3>Series 14_43</h3>\n",
    "<div style=\"width:700px\">\n",
    "<p>\n",
    "This notebook documents the series 14_43 and its 14 SNPs. The 1000 genomes data includes 4953\n",
    "chromosome 2 samples that express none of these 43 SNPs and 32 samples that express all 14 of them.\n",
    "Another 11 samples express 13 of them.  The series extends over 642,000 DNA bases in the same part\n",
    "of chromosome 2 as the series 5_684, 9_944, and 32_1361 from the East Asian tree.  All but 1 of\n",
    "the samples that express 14_43 also express the series 7_59.  The series 7_59 has selected an\n",
    "hierarchy formed from the upper region of the EAS tree root that includes the series 81_857.\n",
    "<p>\n",
    "Although the hierarchy selected by 14_43 comes from the EAS tree, it is not expressed by any\n",
    "chromosome samples from East Asian populations.  No chromosome that expresses either 14_43\n",
    "or 7_59 comes from any East Asian or African population.  The samples are heavily over expressed\n",
    "for European and American populations.  Chromosome samples from South Asian populations are under expressed\n",
    "but present in significant numbers.\n",
    "</div>"
   ]
  },
  {
   "cell_type": "code",
   "execution_count": 2,
   "metadata": {
    "collapsed": false
   },
   "outputs": [
    {
     "data": {
      "text/html": [
       "<p>\n",
       "<b>14_43 series</b>\n",
       "</p><p>\n",
       "<table>\n",
       "<thead><tr><th style=\"text-align:center\">index</th><th style=\"text-align:center\">first</th><th style=\"text-align:center\">length</th><th style=\"text-align:center\">snps</th><th style=\"text-align:center\">alleles</th><th style=\"text-align:center\" colspan=2>afr</th><th style=\"text-align:center\" colspan=2>afx</th><th style=\"text-align:center\" colspan=2>amr</th><th style=\"text-align:center\" colspan=2>eas</th><th style=\"text-align:center\" colspan=2>eur</th><th style=\"text-align:center\" colspan=2>sas</th><th style=\"text-align:center\" colspan=2>sax</th></tr></thead>\n",
       "<tr class=\"even\"><td style=\"text-align: right;\">353394</td><td style=\"text-align: right;\">135,845,676</td><td style=\"text-align: right;\">641,900</td><td style=\"text-align: right;\">14</td><td style=\"text-align: right;\">43</td><td style=\"text-align: right;\">0</td><td style=\"text-align: right;\">0.00</td><td style=\"text-align: right;\">0</td><td style=\"text-align: right;\">0.00</td><td style=\"text-align: right;\">14</td><td style=\"text-align: right;\">2.35</td><td style=\"text-align: right;\">0</td><td style=\"text-align: right;\">0.00</td><td style=\"text-align: right;\">23</td><td style=\"text-align: right;\">2.66</td><td style=\"text-align: right;\">2</td><td style=\"text-align: right;\">0.64</td><td style=\"text-align: right;\">4</td><td style=\"text-align: right;\">0.76</td></tr>\n",
       "</table>\n",
       "</p>\n",
       "<p>\n",
       "<b>14_43 series snps</b>\n",
       "</p><p>\n",
       "<table>\n",
       "<thead><tr><th style=\"text-align:center\">index</th><th style=\"text-align:center\">pos</th><th style=\"text-align:center\">id</th><th style=\"text-align:center\">niv</th><th style=\"text-align:center\">alleles</th><th style=\"text-align:center\" colspan=2>afr</th><th style=\"text-align:center\" colspan=2>afx</th><th style=\"text-align:center\" colspan=2>amr</th><th style=\"text-align:center\" colspan=2>eas</th><th style=\"text-align:center\" colspan=2>eur</th><th style=\"text-align:center\" colspan=2>sas</th><th style=\"text-align:center\" colspan=2>sax</th></tr></thead>\n",
       "<tr class=\"even\"><td style=\"text-align: right;\">875481</td><td style=\"text-align: right;\">135,845,676</td><td>rs76658372</td><td>0</td><td style=\"text-align: right;\">48</td><td style=\"text-align: right;\">0</td><td style=\"text-align: right;\">0.00</td><td style=\"text-align: right;\">0</td><td style=\"text-align: right;\">0.00</td><td style=\"text-align: right;\">18</td><td style=\"text-align: right;\">2.71</td><td style=\"text-align: right;\">0</td><td style=\"text-align: right;\">0.00</td><td style=\"text-align: right;\">23</td><td style=\"text-align: right;\">2.39</td><td style=\"text-align: right;\">2</td><td style=\"text-align: right;\">0.57</td><td style=\"text-align: right;\">5</td><td style=\"text-align: right;\">0.85</td></tr>\n",
       "<tr><td style=\"text-align: right;\">876041</td><td style=\"text-align: right;\">135,967,928</td><td>rs147023075</td><td>0</td><td style=\"text-align: right;\">45</td><td style=\"text-align: right;\">0</td><td style=\"text-align: right;\">0.00</td><td style=\"text-align: right;\">0</td><td style=\"text-align: right;\">0.00</td><td style=\"text-align: right;\">14</td><td style=\"text-align: right;\">2.25</td><td style=\"text-align: right;\">0</td><td style=\"text-align: right;\">0.00</td><td style=\"text-align: right;\">24</td><td style=\"text-align: right;\">2.66</td><td style=\"text-align: right;\">2</td><td style=\"text-align: right;\">0.61</td><td style=\"text-align: right;\">5</td><td style=\"text-align: right;\">0.91</td></tr>\n",
       "<tr class=\"even\"><td style=\"text-align: right;\">876129</td><td style=\"text-align: right;\">135,986,556</td><td>rs77968134</td><td>0</td><td style=\"text-align: right;\">47</td><td style=\"text-align: right;\">0</td><td style=\"text-align: right;\">0.00</td><td style=\"text-align: right;\">0</td><td style=\"text-align: right;\">0.00</td><td style=\"text-align: right;\">16</td><td style=\"text-align: right;\">2.46</td><td style=\"text-align: right;\">0</td><td style=\"text-align: right;\">0.00</td><td style=\"text-align: right;\">24</td><td style=\"text-align: right;\">2.54</td><td style=\"text-align: right;\">2</td><td style=\"text-align: right;\">0.59</td><td style=\"text-align: right;\">5</td><td style=\"text-align: right;\">0.87</td></tr>\n",
       "<tr><td style=\"text-align: right;\">876266</td><td style=\"text-align: right;\">136,004,969</td><td>rs79032027</td><td>0</td><td style=\"text-align: right;\">46</td><td style=\"text-align: right;\">0</td><td style=\"text-align: right;\">0.00</td><td style=\"text-align: right;\">0</td><td style=\"text-align: right;\">0.00</td><td style=\"text-align: right;\">15</td><td style=\"text-align: right;\">2.35</td><td style=\"text-align: right;\">0</td><td style=\"text-align: right;\">0.00</td><td style=\"text-align: right;\">24</td><td style=\"text-align: right;\">2.60</td><td style=\"text-align: right;\">2</td><td style=\"text-align: right;\">0.60</td><td style=\"text-align: right;\">5</td><td style=\"text-align: right;\">0.89</td></tr>\n",
       "<tr class=\"even\"><td style=\"text-align: right;\">876320</td><td style=\"text-align: right;\">136,015,490</td><td>rs144374249</td><td>0</td><td style=\"text-align: right;\">49</td><td style=\"text-align: right;\">0</td><td style=\"text-align: right;\">0.00</td><td style=\"text-align: right;\">0</td><td style=\"text-align: right;\">0.00</td><td style=\"text-align: right;\">18</td><td style=\"text-align: right;\">2.65</td><td style=\"text-align: right;\">0</td><td style=\"text-align: right;\">0.00</td><td style=\"text-align: right;\">24</td><td style=\"text-align: right;\">2.44</td><td style=\"text-align: right;\">2</td><td style=\"text-align: right;\">0.56</td><td style=\"text-align: right;\">5</td><td style=\"text-align: right;\">0.83</td></tr>\n",
       "<tr><td style=\"text-align: right;\">876388</td><td style=\"text-align: right;\">136,032,851</td><td>.</td><td>0</td><td style=\"text-align: right;\">45</td><td style=\"text-align: right;\">0</td><td style=\"text-align: right;\">0.00</td><td style=\"text-align: right;\">1</td><td style=\"text-align: right;\">0.35</td><td style=\"text-align: right;\">14</td><td style=\"text-align: right;\">2.25</td><td style=\"text-align: right;\">0</td><td style=\"text-align: right;\">0.00</td><td style=\"text-align: right;\">24</td><td style=\"text-align: right;\">2.66</td><td style=\"text-align: right;\">1</td><td style=\"text-align: right;\">0.31</td><td style=\"text-align: right;\">5</td><td style=\"text-align: right;\">0.91</td></tr>\n",
       "<tr class=\"even\"><td style=\"text-align: right;\">876712</td><td style=\"text-align: right;\">136,093,434</td><td>rs74789552</td><td>0</td><td style=\"text-align: right;\">46</td><td style=\"text-align: right;\">0</td><td style=\"text-align: right;\">0.00</td><td style=\"text-align: right;\">0</td><td style=\"text-align: right;\">0.00</td><td style=\"text-align: right;\">15</td><td style=\"text-align: right;\">2.35</td><td style=\"text-align: right;\">0</td><td style=\"text-align: right;\">0.00</td><td style=\"text-align: right;\">24</td><td style=\"text-align: right;\">2.60</td><td style=\"text-align: right;\">2</td><td style=\"text-align: right;\">0.60</td><td style=\"text-align: right;\">5</td><td style=\"text-align: right;\">0.89</td></tr>\n",
       "<tr><td style=\"text-align: right;\">877412</td><td style=\"text-align: right;\">136,216,669</td><td>rs77854115</td><td>0</td><td style=\"text-align: right;\">46</td><td style=\"text-align: right;\">0</td><td style=\"text-align: right;\">0.00</td><td style=\"text-align: right;\">0</td><td style=\"text-align: right;\">0.00</td><td style=\"text-align: right;\">18</td><td style=\"text-align: right;\">2.82</td><td style=\"text-align: right;\">0</td><td style=\"text-align: right;\">0.00</td><td style=\"text-align: right;\">21</td><td style=\"text-align: right;\">2.27</td><td style=\"text-align: right;\">2</td><td style=\"text-align: right;\">0.60</td><td style=\"text-align: right;\">5</td><td style=\"text-align: right;\">0.89</td></tr>\n",
       "<tr class=\"even\"><td style=\"text-align: right;\">877711</td><td style=\"text-align: right;\">136,279,157</td><td>rs77011678</td><td>0</td><td style=\"text-align: right;\">48</td><td style=\"text-align: right;\">0</td><td style=\"text-align: right;\">0.00</td><td style=\"text-align: right;\">0</td><td style=\"text-align: right;\">0.00</td><td style=\"text-align: right;\">18</td><td style=\"text-align: right;\">2.71</td><td style=\"text-align: right;\">0</td><td style=\"text-align: right;\">0.00</td><td style=\"text-align: right;\">24</td><td style=\"text-align: right;\">2.49</td><td style=\"text-align: right;\">2</td><td style=\"text-align: right;\">0.57</td><td style=\"text-align: right;\">4</td><td style=\"text-align: right;\">0.68</td></tr>\n",
       "<tr><td style=\"text-align: right;\">877897</td><td style=\"text-align: right;\">136,321,806</td><td>rs78994810</td><td>0</td><td style=\"text-align: right;\">48</td><td style=\"text-align: right;\">0</td><td style=\"text-align: right;\">0.00</td><td style=\"text-align: right;\">0</td><td style=\"text-align: right;\">0.00</td><td style=\"text-align: right;\">18</td><td style=\"text-align: right;\">2.71</td><td style=\"text-align: right;\">0</td><td style=\"text-align: right;\">0.00</td><td style=\"text-align: right;\">23</td><td style=\"text-align: right;\">2.39</td><td style=\"text-align: right;\">2</td><td style=\"text-align: right;\">0.57</td><td style=\"text-align: right;\">5</td><td style=\"text-align: right;\">0.85</td></tr>\n",
       "<tr class=\"even\"><td style=\"text-align: right;\">877982</td><td style=\"text-align: right;\">136,341,131</td><td>rs79111027</td><td>0</td><td style=\"text-align: right;\">48</td><td style=\"text-align: right;\">0</td><td style=\"text-align: right;\">0.00</td><td style=\"text-align: right;\">0</td><td style=\"text-align: right;\">0.00</td><td style=\"text-align: right;\">17</td><td style=\"text-align: right;\">2.56</td><td style=\"text-align: right;\">0</td><td style=\"text-align: right;\">0.00</td><td style=\"text-align: right;\">24</td><td style=\"text-align: right;\">2.49</td><td style=\"text-align: right;\">2</td><td style=\"text-align: right;\">0.57</td><td style=\"text-align: right;\">5</td><td style=\"text-align: right;\">0.85</td></tr>\n",
       "<tr><td style=\"text-align: right;\">878205</td><td style=\"text-align: right;\">136,401,934</td><td>rs138612486</td><td>0</td><td style=\"text-align: right;\">49</td><td style=\"text-align: right;\">0</td><td style=\"text-align: right;\">0.00</td><td style=\"text-align: right;\">0</td><td style=\"text-align: right;\">0.00</td><td style=\"text-align: right;\">18</td><td style=\"text-align: right;\">2.65</td><td style=\"text-align: right;\">0</td><td style=\"text-align: right;\">0.00</td><td style=\"text-align: right;\">24</td><td style=\"text-align: right;\">2.44</td><td style=\"text-align: right;\">2</td><td style=\"text-align: right;\">0.56</td><td style=\"text-align: right;\">5</td><td style=\"text-align: right;\">0.83</td></tr>\n",
       "<tr class=\"even\"><td style=\"text-align: right;\">878230</td><td style=\"text-align: right;\">136,405,903</td><td>rs74686543</td><td>0</td><td style=\"text-align: right;\">47</td><td style=\"text-align: right;\">0</td><td style=\"text-align: right;\">0.00</td><td style=\"text-align: right;\">0</td><td style=\"text-align: right;\">0.00</td><td style=\"text-align: right;\">15</td><td style=\"text-align: right;\">2.30</td><td style=\"text-align: right;\">0</td><td style=\"text-align: right;\">0.00</td><td style=\"text-align: right;\">25</td><td style=\"text-align: right;\">2.65</td><td style=\"text-align: right;\">2</td><td style=\"text-align: right;\">0.59</td><td style=\"text-align: right;\">5</td><td style=\"text-align: right;\">0.87</td></tr>\n",
       "<tr><td style=\"text-align: right;\">878627</td><td style=\"text-align: right;\">136,487,576</td><td>rs114645625</td><td>0</td><td style=\"text-align: right;\">50</td><td style=\"text-align: right;\">0</td><td style=\"text-align: right;\">0.00</td><td style=\"text-align: right;\">0</td><td style=\"text-align: right;\">0.00</td><td style=\"text-align: right;\">18</td><td style=\"text-align: right;\">2.60</td><td style=\"text-align: right;\">0</td><td style=\"text-align: right;\">0.00</td><td style=\"text-align: right;\">25</td><td style=\"text-align: right;\">2.49</td><td style=\"text-align: right;\">2</td><td style=\"text-align: right;\">0.55</td><td style=\"text-align: right;\">5</td><td style=\"text-align: right;\">0.82</td></tr>\n",
       "</table>"
      ],
      "text/plain": [
       "<IPython.core.display.HTML object>"
      ]
     },
     "execution_count": 2,
     "metadata": {},
     "output_type": "execute_result"
    }
   ],
   "source": [
    "HTML(dm.series_html(di_14_43))"
   ]
  },
  {
   "cell_type": "code",
   "execution_count": 3,
   "metadata": {
    "collapsed": false
   },
   "outputs": [
    {
     "data": {
      "text/html": [
       "<table>\n",
       "<thead><tr><th style=\"text-align:center\">index</th><th style=\"text-align:center\">first</th><th style=\"text-align:center\">length</th><th style=\"text-align:center\">snps</th><th style=\"text-align:center\" colspan=2>alleles</th><th style=\"text-align:center\" colspan=2>matches</th><th style=\"text-align:center\" colspan=2>afr</th><th style=\"text-align:center\" colspan=2>afx</th><th style=\"text-align:center\" colspan=2>amr</th><th style=\"text-align:center\" colspan=2>eas</th><th style=\"text-align:center\" colspan=2>eur</th><th style=\"text-align:center\" colspan=2>sas</th><th style=\"text-align:center\" colspan=2>sax</th></tr></thead>\n",
       "<tr class=\"even\"><td style=\"text-align: right;\">354033</td><td style=\"text-align: right;\">136,588,031</td><td style=\"text-align: right;\">5,647</td><td style=\"text-align: right;\">7</td><td style=\"text-align: right;\">1760</td><td style=\"text-align: right;\">0.02</td><td style=\"text-align: right;\">43</td><td style=\"text-align: right;\">1.00</td><td style=\"text-align: right;\">0</td><td style=\"text-align: right;\">0.00</td><td style=\"text-align: right;\">0</td><td style=\"text-align: right;\">0.00</td><td style=\"text-align: right;\">14</td><td style=\"text-align: right;\">2.35</td><td style=\"text-align: right;\">0</td><td style=\"text-align: right;\">0.00</td><td style=\"text-align: right;\">23</td><td style=\"text-align: right;\">2.66</td><td style=\"text-align: right;\">2</td><td style=\"text-align: right;\">0.64</td><td style=\"text-align: right;\">4</td><td style=\"text-align: right;\">0.76</td></tr>\n",
       "<tr><td style=\"text-align: right;\">353240</td><td style=\"text-align: right;\">135,757,320</td><td style=\"text-align: right;\">20,184</td><td style=\"text-align: right;\">13</td><td style=\"text-align: right;\">1696</td><td style=\"text-align: right;\">0.02</td><td style=\"text-align: right;\">42</td><td style=\"text-align: right;\">0.98</td><td style=\"text-align: right;\">0</td><td style=\"text-align: right;\">0.00</td><td style=\"text-align: right;\">0</td><td style=\"text-align: right;\">0.00</td><td style=\"text-align: right;\">14</td><td style=\"text-align: right;\">2.41</td><td style=\"text-align: right;\">0</td><td style=\"text-align: right;\">0.00</td><td style=\"text-align: right;\">22</td><td style=\"text-align: right;\">2.61</td><td style=\"text-align: right;\">2</td><td style=\"text-align: right;\">0.66</td><td style=\"text-align: right;\">4</td><td style=\"text-align: right;\">0.78</td></tr>\n",
       "<tr class=\"even\"><td style=\"text-align: right;\">354130</td><td style=\"text-align: right;\">136,653,925</td><td style=\"text-align: right;\">107,928</td><td style=\"text-align: right;\">24</td><td style=\"text-align: right;\">1504</td><td style=\"text-align: right;\">0.03</td><td style=\"text-align: right;\">43</td><td style=\"text-align: right;\">1.00</td><td style=\"text-align: right;\">0</td><td style=\"text-align: right;\">0.00</td><td style=\"text-align: right;\">0</td><td style=\"text-align: right;\">0.00</td><td style=\"text-align: right;\">14</td><td style=\"text-align: right;\">2.35</td><td style=\"text-align: right;\">0</td><td style=\"text-align: right;\">0.00</td><td style=\"text-align: right;\">23</td><td style=\"text-align: right;\">2.66</td><td style=\"text-align: right;\">2</td><td style=\"text-align: right;\">0.64</td><td style=\"text-align: right;\">4</td><td style=\"text-align: right;\">0.76</td></tr>\n",
       "<tr><td style=\"text-align: right;\">353925</td><td style=\"text-align: right;\">136,506,375</td><td style=\"text-align: right;\">32,564</td><td style=\"text-align: right;\">4</td><td style=\"text-align: right;\">1442</td><td style=\"text-align: right;\">0.03</td><td style=\"text-align: right;\">43</td><td style=\"text-align: right;\">1.00</td><td style=\"text-align: right;\">0</td><td style=\"text-align: right;\">0.00</td><td style=\"text-align: right;\">0</td><td style=\"text-align: right;\">0.00</td><td style=\"text-align: right;\">14</td><td style=\"text-align: right;\">2.35</td><td style=\"text-align: right;\">0</td><td style=\"text-align: right;\">0.00</td><td style=\"text-align: right;\">23</td><td style=\"text-align: right;\">2.66</td><td style=\"text-align: right;\">2</td><td style=\"text-align: right;\">0.64</td><td style=\"text-align: right;\">4</td><td style=\"text-align: right;\">0.76</td></tr>\n",
       "<tr class=\"even\"><td style=\"text-align: right;\">353791</td><td style=\"text-align: right;\">136,393,658</td><td style=\"text-align: right;\">92,684</td><td style=\"text-align: right;\">32</td><td style=\"text-align: right;\">1361</td><td style=\"text-align: right;\">0.03</td><td style=\"text-align: right;\">43</td><td style=\"text-align: right;\">1.00</td><td style=\"text-align: right;\">0</td><td style=\"text-align: right;\">0.00</td><td style=\"text-align: right;\">0</td><td style=\"text-align: right;\">0.00</td><td style=\"text-align: right;\">14</td><td style=\"text-align: right;\">2.35</td><td style=\"text-align: right;\">0</td><td style=\"text-align: right;\">0.00</td><td style=\"text-align: right;\">23</td><td style=\"text-align: right;\">2.66</td><td style=\"text-align: right;\">2</td><td style=\"text-align: right;\">0.64</td><td style=\"text-align: right;\">4</td><td style=\"text-align: right;\">0.76</td></tr>\n",
       "<tr><td style=\"text-align: right;\">353958</td><td style=\"text-align: right;\">136,535,876</td><td style=\"text-align: right;\">19,014</td><td style=\"text-align: right;\">7</td><td style=\"text-align: right;\">1303</td><td style=\"text-align: right;\">0.03</td><td style=\"text-align: right;\">43</td><td style=\"text-align: right;\">1.00</td><td style=\"text-align: right;\">0</td><td style=\"text-align: right;\">0.00</td><td style=\"text-align: right;\">0</td><td style=\"text-align: right;\">0.00</td><td style=\"text-align: right;\">14</td><td style=\"text-align: right;\">2.35</td><td style=\"text-align: right;\">0</td><td style=\"text-align: right;\">0.00</td><td style=\"text-align: right;\">23</td><td style=\"text-align: right;\">2.66</td><td style=\"text-align: right;\">2</td><td style=\"text-align: right;\">0.64</td><td style=\"text-align: right;\">4</td><td style=\"text-align: right;\">0.76</td></tr>\n",
       "<tr class=\"even\"><td style=\"text-align: right;\">354129</td><td style=\"text-align: right;\">136,652,953</td><td style=\"text-align: right;\">108,222</td><td style=\"text-align: right;\">5</td><td style=\"text-align: right;\">1296</td><td style=\"text-align: right;\">0.03</td><td style=\"text-align: right;\">43</td><td style=\"text-align: right;\">1.00</td><td style=\"text-align: right;\">0</td><td style=\"text-align: right;\">0.00</td><td style=\"text-align: right;\">0</td><td style=\"text-align: right;\">0.00</td><td style=\"text-align: right;\">14</td><td style=\"text-align: right;\">2.35</td><td style=\"text-align: right;\">0</td><td style=\"text-align: right;\">0.00</td><td style=\"text-align: right;\">23</td><td style=\"text-align: right;\">2.66</td><td style=\"text-align: right;\">2</td><td style=\"text-align: right;\">0.64</td><td style=\"text-align: right;\">4</td><td style=\"text-align: right;\">0.76</td></tr>\n",
       "<tr><td style=\"text-align: right;\">353919</td><td style=\"text-align: right;\">136,500,475</td><td style=\"text-align: right;\">42,085</td><td style=\"text-align: right;\">13</td><td style=\"text-align: right;\">1227</td><td style=\"text-align: right;\">0.04</td><td style=\"text-align: right;\">43</td><td style=\"text-align: right;\">1.00</td><td style=\"text-align: right;\">0</td><td style=\"text-align: right;\">0.00</td><td style=\"text-align: right;\">0</td><td style=\"text-align: right;\">0.00</td><td style=\"text-align: right;\">14</td><td style=\"text-align: right;\">2.35</td><td style=\"text-align: right;\">0</td><td style=\"text-align: right;\">0.00</td><td style=\"text-align: right;\">23</td><td style=\"text-align: right;\">2.66</td><td style=\"text-align: right;\">2</td><td style=\"text-align: right;\">0.64</td><td style=\"text-align: right;\">4</td><td style=\"text-align: right;\">0.76</td></tr>\n",
       "<tr class=\"even\"><td style=\"text-align: right;\">354127</td><td style=\"text-align: right;\">136,652,491</td><td style=\"text-align: right;\">80,281</td><td style=\"text-align: right;\">6</td><td style=\"text-align: right;\">1114</td><td style=\"text-align: right;\">0.04</td><td style=\"text-align: right;\">43</td><td style=\"text-align: right;\">1.00</td><td style=\"text-align: right;\">0</td><td style=\"text-align: right;\">0.00</td><td style=\"text-align: right;\">0</td><td style=\"text-align: right;\">0.00</td><td style=\"text-align: right;\">14</td><td style=\"text-align: right;\">2.35</td><td style=\"text-align: right;\">0</td><td style=\"text-align: right;\">0.00</td><td style=\"text-align: right;\">23</td><td style=\"text-align: right;\">2.66</td><td style=\"text-align: right;\">2</td><td style=\"text-align: right;\">0.64</td><td style=\"text-align: right;\">4</td><td style=\"text-align: right;\">0.76</td></tr>\n",
       "<tr><td style=\"text-align: right;\">353372</td><td style=\"text-align: right;\">135,829,592</td><td style=\"text-align: right;\">591,316</td><td style=\"text-align: right;\">9</td><td style=\"text-align: right;\">944</td><td style=\"text-align: right;\">0.04</td><td style=\"text-align: right;\">42</td><td style=\"text-align: right;\">0.98</td><td style=\"text-align: right;\">0</td><td style=\"text-align: right;\">0.00</td><td style=\"text-align: right;\">0</td><td style=\"text-align: right;\">0.00</td><td style=\"text-align: right;\">14</td><td style=\"text-align: right;\">2.41</td><td style=\"text-align: right;\">0</td><td style=\"text-align: right;\">0.00</td><td style=\"text-align: right;\">22</td><td style=\"text-align: right;\">2.61</td><td style=\"text-align: right;\">2</td><td style=\"text-align: right;\">0.66</td><td style=\"text-align: right;\">4</td><td style=\"text-align: right;\">0.78</td></tr>\n",
       "<tr class=\"even\"><td style=\"text-align: right;\">353902</td><td style=\"text-align: right;\">136,494,985</td><td style=\"text-align: right;\">278,653</td><td style=\"text-align: right;\">81</td><td style=\"text-align: right;\">857</td><td style=\"text-align: right;\">0.05</td><td style=\"text-align: right;\">43</td><td style=\"text-align: right;\">1.00</td><td style=\"text-align: right;\">0</td><td style=\"text-align: right;\">0.00</td><td style=\"text-align: right;\">0</td><td style=\"text-align: right;\">0.00</td><td style=\"text-align: right;\">14</td><td style=\"text-align: right;\">2.35</td><td style=\"text-align: right;\">0</td><td style=\"text-align: right;\">0.00</td><td style=\"text-align: right;\">23</td><td style=\"text-align: right;\">2.66</td><td style=\"text-align: right;\">2</td><td style=\"text-align: right;\">0.64</td><td style=\"text-align: right;\">4</td><td style=\"text-align: right;\">0.76</td></tr>\n",
       "<tr><td style=\"text-align: right;\">353384</td><td style=\"text-align: right;\">135,839,805</td><td style=\"text-align: right;\">84,662</td><td style=\"text-align: right;\">4</td><td style=\"text-align: right;\">815</td><td style=\"text-align: right;\">0.00</td><td style=\"text-align: right;\">1</td><td style=\"text-align: right;\">0.02</td><td style=\"text-align: right;\">0</td><td style=\"text-align: right;\">0.00</td><td style=\"text-align: right;\">0</td><td style=\"text-align: right;\">0.00</td><td style=\"text-align: right;\">0</td><td style=\"text-align: right;\">0.00</td><td style=\"text-align: right;\">0</td><td style=\"text-align: right;\">0.00</td><td style=\"text-align: right;\">1</td><td style=\"text-align: right;\">4.98</td><td style=\"text-align: right;\">0</td><td style=\"text-align: right;\">0.00</td><td style=\"text-align: right;\">0</td><td style=\"text-align: right;\">0.00</td></tr>\n",
       "<tr class=\"even\"><td style=\"text-align: right;\">353498</td><td style=\"text-align: right;\">135,959,272</td><td style=\"text-align: right;\">416,583</td><td style=\"text-align: right;\">5</td><td style=\"text-align: right;\">684</td><td style=\"text-align: right;\">0.06</td><td style=\"text-align: right;\">38</td><td style=\"text-align: right;\">0.88</td><td style=\"text-align: right;\">0</td><td style=\"text-align: right;\">0.00</td><td style=\"text-align: right;\">0</td><td style=\"text-align: right;\">0.00</td><td style=\"text-align: right;\">13</td><td style=\"text-align: right;\">2.47</td><td style=\"text-align: right;\">0</td><td style=\"text-align: right;\">0.00</td><td style=\"text-align: right;\">19</td><td style=\"text-align: right;\">2.49</td><td style=\"text-align: right;\">2</td><td style=\"text-align: right;\">0.72</td><td style=\"text-align: right;\">4</td><td style=\"text-align: right;\">0.86</td></tr>\n",
       "<tr><td style=\"text-align: right;\">353917</td><td style=\"text-align: right;\">136,499,236</td><td style=\"text-align: right;\">176,092</td><td style=\"text-align: right;\">7</td><td style=\"text-align: right;\">59</td><td style=\"text-align: right;\">0.71</td><td style=\"text-align: right;\">42</td><td style=\"text-align: right;\">0.98</td><td style=\"text-align: right;\">0</td><td style=\"text-align: right;\">0.00</td><td style=\"text-align: right;\">0</td><td style=\"text-align: right;\">0.00</td><td style=\"text-align: right;\">13</td><td style=\"text-align: right;\">2.23</td><td style=\"text-align: right;\">0</td><td style=\"text-align: right;\">0.00</td><td style=\"text-align: right;\">23</td><td style=\"text-align: right;\">2.73</td><td style=\"text-align: right;\">2</td><td style=\"text-align: right;\">0.66</td><td style=\"text-align: right;\">4</td><td style=\"text-align: right;\">0.78</td></tr>\n",
       "<tr class=\"even\"><td style=\"text-align: right;\">353394</td><td style=\"text-align: right;\">135,845,676</td><td style=\"text-align: right;\">641,900</td><td style=\"text-align: right;\">14</td><td style=\"text-align: right;\">43</td><td style=\"text-align: right;\">1.00</td><td style=\"text-align: right;\">43</td><td style=\"text-align: right;\">1.00</td><td style=\"text-align: right;\">0</td><td style=\"text-align: right;\">0.00</td><td style=\"text-align: right;\">0</td><td style=\"text-align: right;\">0.00</td><td style=\"text-align: right;\">14</td><td style=\"text-align: right;\">2.35</td><td style=\"text-align: right;\">0</td><td style=\"text-align: right;\">0.00</td><td style=\"text-align: right;\">23</td><td style=\"text-align: right;\">2.66</td><td style=\"text-align: right;\">2</td><td style=\"text-align: right;\">0.64</td><td style=\"text-align: right;\">4</td><td style=\"text-align: right;\">0.76</td></tr>\n",
       "</table>"
      ],
      "text/plain": [
       "<IPython.core.display.HTML object>"
      ]
     },
     "execution_count": 3,
     "metadata": {},
     "output_type": "execute_result"
    }
   ],
   "source": [
    "plt_obj = dm.superset_yes_no([di_14_43], min_match=0.001)\n",
    "plt_obj.do_plot()\n",
    "HTML(plt_obj.get_html())"
   ]
  },
  {
   "cell_type": "code",
   "execution_count": 4,
   "metadata": {
    "collapsed": false
   },
   "outputs": [
    {
     "data": {
      "text/plain": [
       "array([(0, 4953), (1, 4), (2, 1), (4, 1), (9, 3), (10, 1), (12, 2),\n",
       "       (13, 11), (14, 32)], \n",
       "      dtype=[('count', '<u2'), ('snps', '<u2')])"
      ]
     },
     "execution_count": 4,
     "metadata": {},
     "output_type": "execute_result"
    }
   ],
   "source": [
    "count_data = sa_14_43.unique_snps_per_allele()\n",
    "count_data"
   ]
  },
  {
   "cell_type": "code",
   "execution_count": 5,
   "metadata": {
    "collapsed": false
   },
   "outputs": [
    {
     "data": {
      "text/plain": [
       "array([42, 43, 42, 43, 43, 41, 42, 40, 42, 42, 42, 43, 43, 43])"
      ]
     },
     "execution_count": 5,
     "metadata": {},
     "output_type": "execute_result"
    }
   ],
   "source": [
    "sa_14_43.alleles_per_snp(am_14_43)"
   ]
  },
  {
   "cell_type": "code",
   "execution_count": 6,
   "metadata": {
    "collapsed": false
   },
   "outputs": [
    {
     "data": {
      "text/plain": [
       "array([(4, 5), (5, 38)], \n",
       "      dtype=[('count', '<u2'), ('snps', '<u2')])"
      ]
     },
     "execution_count": 6,
     "metadata": {},
     "output_type": "execute_result"
    }
   ],
   "source": [
    "count_data = sa_5_684.unique_snps_per_allele(am_14_43)\n",
    "count_data"
   ]
  },
  {
   "cell_type": "code",
   "execution_count": 7,
   "metadata": {
    "collapsed": false
   },
   "outputs": [
    {
     "data": {
      "text/plain": [
       "array([43, 43, 42, 43, 39])"
      ]
     },
     "execution_count": 7,
     "metadata": {},
     "output_type": "execute_result"
    }
   ],
   "source": [
    "sa_5_684.alleles_per_snp(am_14_43)"
   ]
  },
  {
   "cell_type": "code",
   "execution_count": 8,
   "metadata": {
    "collapsed": false
   },
   "outputs": [
    {
     "data": {
      "text/html": [
       "\n",
       "\n",
       "    <div class=\"bk-root\">\n",
       "        <div class=\"plotdiv\" id=\"da5f5b53-418f-4210-9454-9040a3fdc918\"></div>\n",
       "    </div>\n",
       "<script type=\"text/javascript\">\n",
       "  \n",
       "  (function(global) {\n",
       "    function now() {\n",
       "      return new Date();\n",
       "    }\n",
       "  \n",
       "    if (typeof (window._bokeh_onload_callbacks) === \"undefined\") {\n",
       "      window._bokeh_onload_callbacks = [];\n",
       "    }\n",
       "  \n",
       "    function run_callbacks() {\n",
       "      window._bokeh_onload_callbacks.forEach(function(callback) { callback() });\n",
       "      delete window._bokeh_onload_callbacks\n",
       "      console.info(\"Bokeh: all callbacks have finished\");\n",
       "    }\n",
       "  \n",
       "    function load_libs(js_urls, callback) {\n",
       "      window._bokeh_onload_callbacks.push(callback);\n",
       "      if (window._bokeh_is_loading > 0) {\n",
       "        console.log(\"Bokeh: BokehJS is being loaded, scheduling callback at\", now());\n",
       "        return null;\n",
       "      }\n",
       "      if (js_urls == null || js_urls.length === 0) {\n",
       "        run_callbacks();\n",
       "        return null;\n",
       "      }\n",
       "      console.log(\"Bokeh: BokehJS not loaded, scheduling load and callback at\", now());\n",
       "      window._bokeh_is_loading = js_urls.length;\n",
       "      for (var i = 0; i < js_urls.length; i++) {\n",
       "        var url = js_urls[i];\n",
       "        var s = document.createElement('script');\n",
       "        s.src = url;\n",
       "        s.async = false;\n",
       "        s.onreadystatechange = s.onload = function() {\n",
       "          window._bokeh_is_loading--;\n",
       "          if (window._bokeh_is_loading === 0) {\n",
       "            console.log(\"Bokeh: all BokehJS libraries loaded\");\n",
       "            run_callbacks()\n",
       "          }\n",
       "        };\n",
       "        s.onerror = function() {\n",
       "          console.warn(\"failed to load library \" + url);\n",
       "        };\n",
       "        console.log(\"Bokeh: injecting script tag for BokehJS library: \", url);\n",
       "        document.getElementsByTagName(\"head\")[0].appendChild(s);\n",
       "      }\n",
       "    };var element = document.getElementById(\"da5f5b53-418f-4210-9454-9040a3fdc918\");\n",
       "    if (element == null) {\n",
       "      console.log(\"Bokeh: ERROR: autoload.js configured with elementid 'da5f5b53-418f-4210-9454-9040a3fdc918' but no matching script tag was found. \")\n",
       "      return false;\n",
       "    }\n",
       "  \n",
       "    var js_urls = [];\n",
       "  \n",
       "    var inline_js = [\n",
       "      function(Bokeh) {\n",
       "        Bokeh.$(function() {\n",
       "            var docs_json = {\"5485ca9a-3276-4382-b4e0-7424692384bb\":{\"roots\":{\"references\":[{\"attributes\":{\"plot\":{\"id\":\"c1dea46a-d5e3-4535-a635-6882c69b5a20\",\"subtype\":\"Figure\",\"type\":\"Plot\"},\"ticker\":{\"id\":\"fa8c0221-6d15-4413-8b2c-3e6a84fbc595\",\"type\":\"BasicTicker\"}},\"id\":\"8707f416-e122-4d4d-833a-c3c220aa7330\",\"type\":\"Grid\"},{\"attributes\":{\"data_source\":{\"id\":\"a9bc6a48-0503-4218-81fb-0b5608fb1854\",\"type\":\"ColumnDataSource\"},\"glyph\":{\"id\":\"58d3836d-2519-42d5-b06a-9b35a2fac864\",\"type\":\"Quad\"},\"hover_glyph\":null,\"nonselection_glyph\":{\"id\":\"e7ee0f6b-7f18-44de-ab8f-d4fbe7155478\",\"type\":\"Quad\"},\"selection_glyph\":null},\"id\":\"50a24b34-ef02-4832-83bb-f8a6ef8113d8\",\"type\":\"GlyphRenderer\"},{\"attributes\":{},\"id\":\"e90dd188-d27c-4ef5-85e9-adfb7ba95861\",\"type\":\"BasicTickFormatter\"},{\"attributes\":{\"data_source\":{\"id\":\"1956512a-3db1-48ab-9fc9-6e0a54a3fa03\",\"type\":\"ColumnDataSource\"},\"glyph\":{\"id\":\"c94356d1-d837-4ac6-b31e-aec2e56b2bac\",\"type\":\"Quad\"},\"hover_glyph\":null,\"nonselection_glyph\":{\"id\":\"3af704be-5e67-4ca6-9458-398a688a2060\",\"type\":\"Quad\"},\"selection_glyph\":null},\"id\":\"036f7eef-6439-4012-9997-d627d450d9c0\",\"type\":\"GlyphRenderer\"},{\"attributes\":{\"callback\":null,\"end\":800},\"id\":\"94ad4833-b6c3-4183-ba98-396923850f25\",\"type\":\"Range1d\"},{\"attributes\":{\"callback\":null,\"end\":136786630,\"start\":135757320},\"id\":\"0f5d5cd8-ea5e-42ac-a753-ff442c389879\",\"type\":\"Range1d\"},{\"attributes\":{\"dimension\":1,\"plot\":{\"id\":\"c1dea46a-d5e3-4535-a635-6882c69b5a20\",\"subtype\":\"Figure\",\"type\":\"Plot\"},\"ticker\":{\"id\":\"76a16a79-df39-453a-8489-2cda23f9081e\",\"type\":\"BasicTicker\"}},\"id\":\"d48e8e97-88f5-4dc2-ac5b-396db29f6c11\",\"type\":\"Grid\"},{\"attributes\":{\"level\":\"glyph\",\"plot\":{\"id\":\"c1dea46a-d5e3-4535-a635-6882c69b5a20\",\"subtype\":\"Figure\",\"type\":\"Plot\"},\"source\":{\"id\":\"d8759d69-97fe-4a23-a4af-274ca9781edb\",\"type\":\"ColumnDataSource\"},\"text\":{\"field\":\"vals\"},\"text_align\":\"center\",\"text_baseline\":\"middle\",\"text_font_size\":{\"value\":\"8pt\"},\"x\":{\"field\":\"x\"},\"y\":{\"field\":\"y\"}},\"id\":\"77c99505-5e1c-4a47-8f1d-7843e08672f3\",\"type\":\"LabelSet\"},{\"attributes\":{\"line_color\":{\"field\":\"line_color\"},\"xs\":{\"field\":\"xs\"},\"ys\":{\"field\":\"ys\"}},\"id\":\"74df7da3-f37c-4616-909c-6208cba8763c\",\"type\":\"MultiLine\"},{\"attributes\":{\"formatter\":{\"id\":\"b456fed8-d333-48d7-b0d1-b9d3623b3fff\",\"type\":\"BasicTickFormatter\"},\"plot\":{\"id\":\"c1dea46a-d5e3-4535-a635-6882c69b5a20\",\"subtype\":\"Figure\",\"type\":\"Plot\"},\"ticker\":{\"id\":\"fa8c0221-6d15-4413-8b2c-3e6a84fbc595\",\"type\":\"BasicTicker\"}},\"id\":\"e8863cda-31dd-40ad-a097-d3876ef50f71\",\"type\":\"LinearAxis\"},{\"attributes\":{\"callback\":null,\"column_names\":[\"right\",\"bottom\",\"top\",\"left\"],\"data\":{\"bottom\":[745,745,745,745,745,745,745],\"left\":[135809835,135957574,136289083,136499189,136545415,136597196,136664254],\"right\":[135928279,136288182,136482839,136542633,136594750,136634047,136743222],\"top\":[775,775,775,775,775,775,775]}},\"id\":\"a9bc6a48-0503-4218-81fb-0b5608fb1854\",\"type\":\"ColumnDataSource\"},{\"attributes\":{\"active_drag\":\"auto\",\"active_scroll\":\"auto\",\"active_tap\":\"auto\",\"tools\":[{\"id\":\"dd0bddbc-7b6f-4d40-ac07-55dbcd90aeea\",\"type\":\"PanTool\"},{\"id\":\"9be7c769-8ab8-4298-b285-0ec8d7bb0c60\",\"type\":\"WheelZoomTool\"},{\"id\":\"95b6f47f-ad63-40cb-9a01-16f75baa8f6e\",\"type\":\"BoxZoomTool\"},{\"id\":\"1589ae96-ec83-4338-8690-f58ae9e07587\",\"type\":\"SaveTool\"},{\"id\":\"6730203b-bbda-4518-843f-b5ff606401dd\",\"type\":\"ResetTool\"},{\"id\":\"bc4ad122-3dd3-4d78-b6e6-05bbe906fd83\",\"type\":\"HelpTool\"}]},\"id\":\"732bc2d6-6a0f-4ba9-88e3-d9f9e883be2f\",\"type\":\"Toolbar\"},{\"attributes\":{\"plot\":{\"id\":\"c1dea46a-d5e3-4535-a635-6882c69b5a20\",\"subtype\":\"Figure\",\"type\":\"Plot\"}},\"id\":\"6730203b-bbda-4518-843f-b5ff606401dd\",\"type\":\"ResetTool\"},{\"attributes\":{\"callback\":null,\"column_names\":[\"xs\",\"ys\",\"line_color\"],\"data\":{\"line_color\":[\"black\",\"black\",\"black\",\"black\",\"black\",\"black\",\"black\",\"black\",\"black\",\"black\",\"black\",\"black\",\"black\",\"black\",\"black\",\"black\",\"black\",\"black\",\"black\",\"black\",\"black\",\"black\",\"black\",\"black\",\"black\",\"black\",\"black\",\"black\",\"black\",\"black\",\"black\",\"black\",\"black\",\"black\",\"black\",\"black\",\"black\",\"black\",\"black\",\"black\",\"black\",\"black\",\"black\",\"black\",\"black\",\"black\",\"black\",\"black\",\"black\",\"black\",\"black\",\"black\",\"black\",\"black\",\"black\",\"black\",\"black\",\"black\",\"black\",\"black\",\"black\",\"black\",\"black\",\"black\",\"black\",\"black\",\"black\",\"black\",\"black\",\"black\",\"black\",\"black\",\"black\",\"black\",\"black\",\"black\",\"black\",\"black\",\"black\",\"black\",\"black\",\"black\",\"black\",\"black\",\"black\",\"black\",\"black\",\"black\",\"black\",\"black\",\"black\",\"black\",\"black\",\"black\",\"black\",\"black\",\"black\",\"black\",\"black\",\"black\",\"black\",\"black\",\"black\",\"black\",\"black\",\"black\",\"black\",\"black\",\"black\",\"black\",\"black\",\"black\",\"black\",\"black\",\"black\",\"black\",\"black\",\"black\",\"black\",\"black\",\"black\",\"black\",\"black\",\"black\",\"black\",\"black\",\"black\",\"black\",\"black\",\"black\",\"black\",\"black\",\"black\",\"black\",\"black\",\"black\",\"black\",\"black\",\"black\",\"black\",\"black\",\"black\",\"black\",\"black\",\"black\",\"black\",\"black\",\"black\",\"black\",\"black\",\"black\",\"black\",\"black\",\"black\",\"black\",\"black\",\"black\",\"black\",\"black\",\"black\",\"black\",\"black\",\"black\",\"black\",\"black\",\"black\",\"black\",\"black\",\"black\",\"black\",\"black\",\"black\",\"black\",\"black\",\"black\",\"black\",\"black\",\"black\",\"black\",\"black\",\"black\",\"black\",\"black\",\"black\",\"black\",\"black\",\"black\",\"black\",\"black\",\"black\",\"black\",\"black\",\"black\",\"black\",\"black\",\"black\",\"black\",\"black\",\"black\",\"black\",\"black\",\"black\",\"black\",\"black\",\"black\",\"black\",\"black\",\"black\",\"black\",\"black\",\"black\",\"black\",\"black\",\"black\",\"black\",\"black\",\"black\",\"black\",\"black\",\"black\",\"black\",\"black\",\"black\",\"black\",\"black\",\"black\",\"black\"],\"xs\":[[135757320,135757320],[135761078,135761078],[135761271,135761271],[135762344,135762344],[135762980,135762980],[135763280,135763280],[135768815,135768815],[135769093,135769093],[135769127,135769127],[135770940,135770940],[135770951,135770951],[135776728,135776728],[135777504,135777504],[135829592,135829592],[135893372,135893372],[135952405,135952405],[135989721,135989721],[136136056,136136056],[136313639,136313639],[136401418,136401418],[136407078,136407078],[136420908,136420908],[135845676,135845676],[135967928,135967928],[135986556,135986556],[136004969,136004969],[136015490,136015490],[136032851,136032851],[136093434,136093434],[136216669,136216669],[136279157,136279157],[136321806,136321806],[136341131,136341131],[136401934,136401934],[136405903,136405903],[136487576,136487576],[135959272,135959272],[136149550,136149550],[136164840,136164840],[136313885,136313885],[136375855,136375855],[136393658,136393658],[136396300,136396300],[136401843,136401843],[136407445,136407445],[136411879,136411879],[136412270,136412270],[136413244,136413244],[136413847,136413847],[136415217,136415217],[136416533,136416533],[136420726,136420726],[136429857,136429857],[136433740,136433740],[136436317,136436317],[136437615,136437615],[136438517,136438517],[136440300,136440300],[136443900,136443900],[136444185,136444185],[136444338,136444338],[136449254,136449254],[136451676,136451676],[136459227,136459227],[136463117,136463117],[136463454,136463454],[136467119,136467119],[136468238,136468238],[136470219,136470219],[136483355,136483355],[136485276,136485276],[136486340,136486340],[136486342,136486342],[136494985,136494985],[136497199,136497199],[136511817,136511817],[136513670,136513670],[136515458,136515458],[136516970,136516970],[136525309,136525309],[136528034,136528034],[136532225,136532225],[136535235,136535235],[136536095,136536095],[136544423,136544423],[136546927,136546927],[136552188,136552188],[136552517,136552517],[136555525,136555525],[136556480,136556480],[136560464,136560464],[136572285,136572285],[136582694,136582694],[136582809,136582809],[136584538,136584538],[136585323,136585323],[136586825,136586825],[136600662,136600662],[136612036,136612036],[136618178,136618178],[136618507,136618507],[136622543,136622543],[136624947,136624947],[136625113,136625113],[136626078,136626078],[136628121,136628121],[136632300,136632300],[136633962,136633962],[136635343,136635343],[136638113,136638113],[136640101,136640101],[136641593,136641593],[136646582,136646582],[136648077,136648077],[136648883,136648883],[136652045,136652045],[136653848,136653848],[136656094,136656094],[136661110,136661110],[136663110,136663110],[136663605,136663605],[136665162,136665162],[136665711,136665711],[136668123,136668123],[136670419,136670419],[136672680,136672680],[136673546,136673546],[136684632,136684632],[136686114,136686114],[136690425,136690425],[136690783,136690783],[136692893,136692893],[136694905,136694905],[136695694,136695694],[136695705,136695705],[136696608,136696608],[136697372,136697372],[136697468,136697468],[136700024,136700024],[136701539,136701539],[136702118,136702118],[136707480,136707480],[136710554,136710554],[136714178,136714178],[136719173,136719173],[136725459,136725459],[136734569,136734569],[136744678,136744678],[136748779,136748779],[136751488,136751488],[136754183,136754183],[136763242,136763242],[136765074,136765074],[136773638,136773638],[136499236,136499236],[136525856,136525856],[136554477,136554477],[136577346,136577346],[136604166,136604166],[136655568,136655568],[136675328,136675328],[136500475,136500475],[136501509,136501509],[136504101,136504101],[136509868,136509868],[136520043,136520043],[136527120,136527120],[136530379,136530379],[136530443,136530443],[136539330,136539330],[136539670,136539670],[136540083,136540083],[136542559,136542559],[136542560,136542560],[136506375,136506375],[136506927,136506927],[136510012,136510012],[136538939,136538939],[136535876,136535876],[136544651,136544651],[136545844,136545844],[136552526,136552526],[136553022,136553022],[136554797,136554797],[136554890,136554890],[136588031,136588031],[136589278,136589278],[136589379,136589379],[136589741,136589741],[136590746,136590746],[136593553,136593553],[136593678,136593678],[136652491,136652491],[136652524,136652524],[136661150,136661150],[136669264,136669264],[136726567,136726567],[136732772,136732772],[136652953,136652953],[136655582,136655582],[136674028,136674028],[136684940,136684940],[136761175,136761175],[136653925,136653925],[136654833,136654833],[136656534,136656534],[136656536,136656536],[136657252,136657252],[136667301,136667301],[136667487,136667487],[136672775,136672775],[136680534,136680534],[136686393,136686393],[136688749,136688749],[136692553,136692553],[136697371,136697371],[136708787,136708787],[136710372,136710372],[136711064,136711064],[136715324,136715324],[136723504,136723504],[136737460,136737460],[136743143,136743143],[136746224,136746224],[136751842,136751842],[136759379,136759379],[136761853,136761853]],\"ys\":[[650,696],[650,696],[650,696],[650,696],[650,696],[650,696],[650,696],[650,696],[650,696],[650,696],[650,696],[650,696],[650,696],[250,291],[250,291],[250,291],[250,291],[250,291],[250,291],[250,291],[250,291],[250,291],[50,64],[50,64],[50,64],[50,64],[50,64],[50,64],[50,64],[50,64],[50,64],[50,64],[50,64],[50,64],[50,64],[50,64],[150,188],[150,188],[150,188],[150,188],[150,188],[550,594],[550,594],[550,594],[550,594],[550,594],[550,594],[550,594],[550,594],[550,594],[550,594],[550,594],[550,594],[550,594],[550,594],[550,594],[550,594],[550,594],[550,594],[550,594],[550,594],[550,594],[550,594],[550,594],[550,594],[550,594],[550,594],[550,594],[550,594],[550,594],[550,594],[550,594],[550,594],[250,290],[250,290],[250,290],[250,290],[250,290],[250,290],[250,290],[250,290],[250,290],[250,290],[250,290],[250,290],[250,290],[250,290],[250,290],[250,290],[250,290],[250,290],[250,290],[250,290],[250,290],[250,290],[250,290],[250,290],[250,290],[250,290],[250,290],[250,290],[250,290],[250,290],[250,290],[250,290],[250,290],[250,290],[250,290],[250,290],[250,290],[250,290],[250,290],[250,290],[250,290],[250,290],[250,290],[250,290],[250,290],[250,290],[250,290],[250,290],[250,290],[250,290],[250,290],[250,290],[250,290],[250,290],[250,290],[250,290],[250,290],[250,290],[250,290],[250,290],[250,290],[250,290],[250,290],[250,290],[250,290],[250,290],[250,290],[250,290],[250,290],[250,290],[250,290],[250,290],[250,290],[250,290],[250,290],[250,290],[250,290],[250,290],[250,290],[250,290],[250,290],[150,167],[150,167],[150,167],[150,167],[150,167],[150,167],[150,167],[350,393],[350,393],[350,393],[350,393],[350,393],[350,393],[350,393],[350,393],[350,393],[350,393],[350,393],[350,393],[350,393],[550,594],[550,594],[550,594],[550,594],[450,494],[450,494],[450,494],[450,494],[450,494],[450,494],[450,494],[650,696],[650,696],[650,696],[650,696],[650,696],[650,696],[650,696],[350,392],[350,392],[350,392],[350,392],[350,392],[350,392],[450,494],[450,494],[450,494],[450,494],[450,494],[650,695],[650,695],[650,695],[650,695],[650,695],[650,695],[650,695],[650,695],[650,695],[650,695],[650,695],[650,695],[650,695],[650,695],[650,695],[650,695],[650,695],[650,695],[650,695],[650,695],[650,695],[650,695],[650,695],[650,695]]}},\"id\":\"ccf8475c-9c67-4693-8f9a-d5f3af76445b\",\"type\":\"ColumnDataSource\"},{\"attributes\":{\"line_alpha\":{\"value\":0.1},\"line_color\":{\"value\":\"#1f77b4\"},\"xs\":{\"field\":\"xs\"},\"ys\":{\"field\":\"ys\"}},\"id\":\"3180ac3c-afe8-43f2-b644-ce01790d3d6f\",\"type\":\"MultiLine\"},{\"attributes\":{\"plot\":{\"id\":\"c1dea46a-d5e3-4535-a635-6882c69b5a20\",\"subtype\":\"Figure\",\"type\":\"Plot\"}},\"id\":\"dd0bddbc-7b6f-4d40-ac07-55dbcd90aeea\",\"type\":\"PanTool\"},{\"attributes\":{\"callback\":null,\"column_names\":[\"y\",\"x\",\"vals\"],\"data\":{\"vals\":[\"13_1696\",\"9_944\",\"14_43\",\"5_684\",\"32_1361\",\"81_857\",\"7_59\",\"13_1227\",\"4_1442\",\"7_1303\",\"7_1760\",\"6_1114\",\"5_1296\",\"24_1504\"],\"x\":[135757320,135829592,135845676,135959272,136393658,136494985,136499236,136500475,136506375,136535876,136588031,136652491,136652953,136653925],\"y\":[701.0,296.0,69.0,193.0,599.0,295.0,172.0,398.0,599.0,499.0,701.0,397.0,499.0,700.0]}},\"id\":\"20495ecd-24b4-4eb1-9198-057228182267\",\"type\":\"ColumnDataSource\"},{\"attributes\":{\"bottom\":{\"field\":\"bottom\"},\"fill_alpha\":{\"value\":0.1},\"fill_color\":{\"value\":\"#1f77b4\"},\"left\":{\"field\":\"left\"},\"line_alpha\":{\"value\":0.1},\"line_color\":{\"value\":\"#1f77b4\"},\"right\":{\"field\":\"right\"},\"top\":{\"field\":\"top\"}},\"id\":\"e7ee0f6b-7f18-44de-ab8f-d4fbe7155478\",\"type\":\"Quad\"},{\"attributes\":{\"bottom\":{\"field\":\"bottom\"},\"fill_color\":{\"field\":\"fill_color\"},\"left\":{\"field\":\"left\"},\"line_color\":{\"value\":null},\"right\":{\"field\":\"right\"},\"top\":{\"field\":\"top\"}},\"id\":\"c94356d1-d837-4ac6-b31e-aec2e56b2bac\",\"type\":\"Quad\"},{\"attributes\":{\"below\":[{\"id\":\"e8863cda-31dd-40ad-a097-d3876ef50f71\",\"type\":\"LinearAxis\"}],\"left\":[{\"id\":\"65ec4396-f4ff-41ac-923d-6961094dbf51\",\"type\":\"LinearAxis\"}],\"plot_height\":800,\"plot_width\":900,\"renderers\":[{\"id\":\"e8863cda-31dd-40ad-a097-d3876ef50f71\",\"type\":\"LinearAxis\"},{\"id\":\"8707f416-e122-4d4d-833a-c3c220aa7330\",\"type\":\"Grid\"},{\"id\":\"65ec4396-f4ff-41ac-923d-6961094dbf51\",\"type\":\"LinearAxis\"},{\"id\":\"d48e8e97-88f5-4dc2-ac5b-396db29f6c11\",\"type\":\"Grid\"},{\"id\":\"26a9ae2d-770a-4437-be4e-71703a6a6211\",\"type\":\"BoxAnnotation\"},{\"id\":\"036f7eef-6439-4012-9997-d627d450d9c0\",\"type\":\"GlyphRenderer\"},{\"id\":\"cc55602e-491f-4d30-98f7-2961d6c2906a\",\"type\":\"GlyphRenderer\"},{\"id\":\"fecb5475-e3d8-4c49-bcca-99e6d9265ee2\",\"type\":\"LabelSet\"},{\"id\":\"50a24b34-ef02-4832-83bb-f8a6ef8113d8\",\"type\":\"GlyphRenderer\"},{\"id\":\"77c99505-5e1c-4a47-8f1d-7843e08672f3\",\"type\":\"LabelSet\"}],\"title\":{\"id\":\"9a53584d-ef50-4098-bc6a-f342ca3bf2fa\",\"type\":\"Title\"},\"tool_events\":{\"id\":\"00ebcdee-d5cf-4804-bf64-4e8721e3ccbe\",\"type\":\"ToolEvents\"},\"toolbar\":{\"id\":\"732bc2d6-6a0f-4ba9-88e3-d9f9e883be2f\",\"type\":\"Toolbar\"},\"toolbar_location\":null,\"x_range\":{\"id\":\"0f5d5cd8-ea5e-42ac-a753-ff442c389879\",\"type\":\"Range1d\"},\"y_range\":{\"id\":\"94ad4833-b6c3-4183-ba98-396923850f25\",\"type\":\"Range1d\"}},\"id\":\"c1dea46a-d5e3-4535-a635-6882c69b5a20\",\"subtype\":\"Figure\",\"type\":\"Plot\"},{\"attributes\":{},\"id\":\"76a16a79-df39-453a-8489-2cda23f9081e\",\"type\":\"BasicTicker\"},{\"attributes\":{\"data_source\":{\"id\":\"ccf8475c-9c67-4693-8f9a-d5f3af76445b\",\"type\":\"ColumnDataSource\"},\"glyph\":{\"id\":\"74df7da3-f37c-4616-909c-6208cba8763c\",\"type\":\"MultiLine\"},\"hover_glyph\":null,\"nonselection_glyph\":{\"id\":\"3180ac3c-afe8-43f2-b644-ce01790d3d6f\",\"type\":\"MultiLine\"},\"selection_glyph\":null},\"id\":\"cc55602e-491f-4d30-98f7-2961d6c2906a\",\"type\":\"GlyphRenderer\"},{\"attributes\":{\"overlay\":{\"id\":\"26a9ae2d-770a-4437-be4e-71703a6a6211\",\"type\":\"BoxAnnotation\"},\"plot\":{\"id\":\"c1dea46a-d5e3-4535-a635-6882c69b5a20\",\"subtype\":\"Figure\",\"type\":\"Plot\"}},\"id\":\"95b6f47f-ad63-40cb-9a01-16f75baa8f6e\",\"type\":\"BoxZoomTool\"},{\"attributes\":{\"callback\":null,\"column_names\":[\"right\",\"bottom\",\"top\",\"left\",\"fill_color\"],\"data\":{\"bottom\":[650,250,50,150,550,250,150,350,550,450,650,350,450,650],\"fill_color\":[\"#808080\",\"#c4c461\",\"#00ff00\",\"#ffff00\",\"#c4c461\",\"#808080\",\"#61c461\",\"#808080\",\"#808080\",\"#808080\",\"#c46161\",\"#808080\",\"#808080\",\"#808080\"],\"left\":[135757320,135829592,135845676,135959272,136393658,136494985,136499236,136500475,136506375,136535876,136588031,136652491,136652953,136653925],\"right\":[135777504,136420908,136487576,136375855,136486342,136773638,136675328,136542560,136538939,136554890,136593678,136732772,136761175,136761853],\"top\":[696,291,64,188,594,290,167,393,594,494,696,392,494,695]}},\"id\":\"1956512a-3db1-48ab-9fc9-6e0a54a3fa03\",\"type\":\"ColumnDataSource\"},{\"attributes\":{\"level\":\"glyph\",\"plot\":{\"id\":\"c1dea46a-d5e3-4535-a635-6882c69b5a20\",\"subtype\":\"Figure\",\"type\":\"Plot\"},\"source\":{\"id\":\"20495ecd-24b4-4eb1-9198-057228182267\",\"type\":\"ColumnDataSource\"},\"text\":{\"field\":\"vals\"},\"text_font_size\":{\"value\":\"9pt\"},\"text_font_style\":\"bold\",\"x\":{\"field\":\"x\"},\"y\":{\"field\":\"y\"}},\"id\":\"fecb5475-e3d8-4c49-bcca-99e6d9265ee2\",\"type\":\"LabelSet\"},{\"attributes\":{\"plot\":{\"id\":\"c1dea46a-d5e3-4535-a635-6882c69b5a20\",\"subtype\":\"Figure\",\"type\":\"Plot\"}},\"id\":\"9be7c769-8ab8-4298-b285-0ec8d7bb0c60\",\"type\":\"WheelZoomTool\"},{\"attributes\":{},\"id\":\"fa8c0221-6d15-4413-8b2c-3e6a84fbc595\",\"type\":\"BasicTicker\"},{\"attributes\":{\"bottom\":{\"field\":\"bottom\"},\"fill_color\":{\"value\":\"white\"},\"left\":{\"field\":\"left\"},\"right\":{\"field\":\"right\"},\"top\":{\"field\":\"top\"}},\"id\":\"58d3836d-2519-42d5-b06a-9b35a2fac864\",\"type\":\"Quad\"},{\"attributes\":{},\"id\":\"b456fed8-d333-48d7-b0d1-b9d3623b3fff\",\"type\":\"BasicTickFormatter\"},{\"attributes\":{\"bottom_units\":\"screen\",\"fill_alpha\":{\"value\":0.5},\"fill_color\":{\"value\":\"lightgrey\"},\"left_units\":\"screen\",\"level\":\"overlay\",\"line_alpha\":{\"value\":1.0},\"line_color\":{\"value\":\"black\"},\"line_dash\":[4,4],\"line_width\":{\"value\":2},\"plot\":null,\"render_mode\":\"css\",\"right_units\":\"screen\",\"top_units\":\"screen\"},\"id\":\"26a9ae2d-770a-4437-be4e-71703a6a6211\",\"type\":\"BoxAnnotation\"},{\"attributes\":{\"plot\":{\"id\":\"c1dea46a-d5e3-4535-a635-6882c69b5a20\",\"subtype\":\"Figure\",\"type\":\"Plot\"}},\"id\":\"bc4ad122-3dd3-4d78-b6e6-05bbe906fd83\",\"type\":\"HelpTool\"},{\"attributes\":{\"plot\":{\"id\":\"c1dea46a-d5e3-4535-a635-6882c69b5a20\",\"subtype\":\"Figure\",\"type\":\"Plot\"}},\"id\":\"1589ae96-ec83-4338-8690-f58ae9e07587\",\"type\":\"SaveTool\"},{\"attributes\":{},\"id\":\"00ebcdee-d5cf-4804-bf64-4e8721e3ccbe\",\"type\":\"ToolEvents\"},{\"attributes\":{\"bottom\":{\"field\":\"bottom\"},\"fill_alpha\":{\"value\":0.1},\"fill_color\":{\"value\":\"#1f77b4\"},\"left\":{\"field\":\"left\"},\"line_alpha\":{\"value\":0.1},\"line_color\":{\"value\":\"#1f77b4\"},\"right\":{\"field\":\"right\"},\"top\":{\"field\":\"top\"}},\"id\":\"3af704be-5e67-4ca6-9458-398a688a2060\",\"type\":\"Quad\"},{\"attributes\":{\"callback\":null,\"column_names\":[\"y\",\"x\",\"vals\"],\"data\":{\"vals\":[\"RAB3GAP1\",\"ZRANB3\",\"R3HDM1\",\"UBXN4\",\"LCT\",\"MCM6\",\"DARS\"],\"x\":[135869057.0,136122878.0,136385961.0,136520911.0,136570082.5,136615621.5,136703738.0],\"y\":[760.0,760.0,760.0,760.0,760.0,760.0,760.0]}},\"id\":\"d8759d69-97fe-4a23-a4af-274ca9781edb\",\"type\":\"ColumnDataSource\"},{\"attributes\":{\"plot\":null,\"text\":null},\"id\":\"9a53584d-ef50-4098-bc6a-f342ca3bf2fa\",\"type\":\"Title\"},{\"attributes\":{\"formatter\":{\"id\":\"e90dd188-d27c-4ef5-85e9-adfb7ba95861\",\"type\":\"BasicTickFormatter\"},\"plot\":{\"id\":\"c1dea46a-d5e3-4535-a635-6882c69b5a20\",\"subtype\":\"Figure\",\"type\":\"Plot\"},\"ticker\":{\"id\":\"76a16a79-df39-453a-8489-2cda23f9081e\",\"type\":\"BasicTicker\"},\"visible\":null},\"id\":\"65ec4396-f4ff-41ac-923d-6961094dbf51\",\"type\":\"LinearAxis\"}],\"root_ids\":[\"c1dea46a-d5e3-4535-a635-6882c69b5a20\"]},\"title\":\"Bokeh Application\",\"version\":\"0.12.0\"}};\n",
       "            var render_items = [{\"docid\":\"5485ca9a-3276-4382-b4e0-7424692384bb\",\"elementid\":\"da5f5b53-418f-4210-9454-9040a3fdc918\",\"modelid\":\"c1dea46a-d5e3-4535-a635-6882c69b5a20\",\"notebook_comms_target\":\"99d2e134-657d-4650-a433-6ccbb91f3faf\"}];\n",
       "            \n",
       "            Bokeh.embed.embed_items(docs_json, render_items);\n",
       "        });\n",
       "      },\n",
       "      function(Bokeh) {\n",
       "      }\n",
       "    ];\n",
       "  \n",
       "    function run_inline_js() {\n",
       "      for (var i = 0; i < inline_js.length; i++) {\n",
       "        inline_js[i](window.Bokeh);\n",
       "      }\n",
       "    }\n",
       "  \n",
       "    if (window._bokeh_is_loading === 0) {\n",
       "      console.log(\"Bokeh: BokehJS loaded, going straight to plotting\");\n",
       "      run_inline_js();\n",
       "    } else {\n",
       "      load_libs(js_urls, function() {\n",
       "        console.log(\"Bokeh: BokehJS plotting callback run at\", now());\n",
       "        run_inline_js();\n",
       "      });\n",
       "    }\n",
       "  }(this));\n",
       "</script>"
      ]
     },
     "metadata": {},
     "output_type": "display_data"
    },
    {
     "data": {
      "text/html": [
       "<p><code>&lt;Bokeh Notebook handle for <strong>In[8]</strong>&gt;</code></p>"
      ],
      "text/plain": [
       "<bokeh.io._CommsHandle at 0x7f85ec015410>"
      ]
     },
     "execution_count": 8,
     "metadata": {},
     "output_type": "execute_result"
    }
   ],
   "source": [
    "plt_obj = dm.superset_yes_no([di_14_43, dm.di_13_1696, dm.di_5_684], min_match=0.001)\n",
    "plt = plt_obj.do_plot()\n",
    "am = plt_obj.plot_context.yes_allele_mask\n",
    "show(plt)"
   ]
  },
  {
   "cell_type": "code",
   "execution_count": 9,
   "metadata": {
    "collapsed": false
   },
   "outputs": [
    {
     "data": {
      "text/html": [
       "<table>\n",
       "<thead><tr><th style=\"text-align:center\">index</th><th style=\"text-align:center\">first</th><th style=\"text-align:center\">length</th><th style=\"text-align:center\">snps</th><th style=\"text-align:center\" colspan=2>alleles</th><th style=\"text-align:center\" colspan=2>matches</th><th style=\"text-align:center\" colspan=2>afr</th><th style=\"text-align:center\" colspan=2>afx</th><th style=\"text-align:center\" colspan=2>amr</th><th style=\"text-align:center\" colspan=2>eas</th><th style=\"text-align:center\" colspan=2>eur</th><th style=\"text-align:center\" colspan=2>sas</th><th style=\"text-align:center\" colspan=2>sax</th></tr></thead>\n",
       "<tr class=\"even\"><td style=\"text-align: right;\">354033</td><td style=\"text-align: right;\">136,588,031</td><td style=\"text-align: right;\">5,647</td><td style=\"text-align: right;\">7</td><td style=\"text-align: right;\">1760</td><td style=\"text-align: right;\">0.02</td><td style=\"text-align: right;\">38</td><td style=\"text-align: right;\">1.00</td><td style=\"text-align: right;\">0</td><td style=\"text-align: right;\">0.00</td><td style=\"text-align: right;\">0</td><td style=\"text-align: right;\">0.00</td><td style=\"text-align: right;\">13</td><td style=\"text-align: right;\">2.47</td><td style=\"text-align: right;\">0</td><td style=\"text-align: right;\">0.00</td><td style=\"text-align: right;\">19</td><td style=\"text-align: right;\">2.49</td><td style=\"text-align: right;\">2</td><td style=\"text-align: right;\">0.72</td><td style=\"text-align: right;\">4</td><td style=\"text-align: right;\">0.86</td></tr>\n",
       "<tr><td style=\"text-align: right;\">353240</td><td style=\"text-align: right;\">135,757,320</td><td style=\"text-align: right;\">20,184</td><td style=\"text-align: right;\">13</td><td style=\"text-align: right;\">1696</td><td style=\"text-align: right;\">0.02</td><td style=\"text-align: right;\">38</td><td style=\"text-align: right;\">1.00</td><td style=\"text-align: right;\">0</td><td style=\"text-align: right;\">0.00</td><td style=\"text-align: right;\">0</td><td style=\"text-align: right;\">0.00</td><td style=\"text-align: right;\">13</td><td style=\"text-align: right;\">2.47</td><td style=\"text-align: right;\">0</td><td style=\"text-align: right;\">0.00</td><td style=\"text-align: right;\">19</td><td style=\"text-align: right;\">2.49</td><td style=\"text-align: right;\">2</td><td style=\"text-align: right;\">0.72</td><td style=\"text-align: right;\">4</td><td style=\"text-align: right;\">0.86</td></tr>\n",
       "<tr class=\"even\"><td style=\"text-align: right;\">354130</td><td style=\"text-align: right;\">136,653,925</td><td style=\"text-align: right;\">107,928</td><td style=\"text-align: right;\">24</td><td style=\"text-align: right;\">1504</td><td style=\"text-align: right;\">0.03</td><td style=\"text-align: right;\">38</td><td style=\"text-align: right;\">1.00</td><td style=\"text-align: right;\">0</td><td style=\"text-align: right;\">0.00</td><td style=\"text-align: right;\">0</td><td style=\"text-align: right;\">0.00</td><td style=\"text-align: right;\">13</td><td style=\"text-align: right;\">2.47</td><td style=\"text-align: right;\">0</td><td style=\"text-align: right;\">0.00</td><td style=\"text-align: right;\">19</td><td style=\"text-align: right;\">2.49</td><td style=\"text-align: right;\">2</td><td style=\"text-align: right;\">0.72</td><td style=\"text-align: right;\">4</td><td style=\"text-align: right;\">0.86</td></tr>\n",
       "<tr><td style=\"text-align: right;\">353925</td><td style=\"text-align: right;\">136,506,375</td><td style=\"text-align: right;\">32,564</td><td style=\"text-align: right;\">4</td><td style=\"text-align: right;\">1442</td><td style=\"text-align: right;\">0.03</td><td style=\"text-align: right;\">38</td><td style=\"text-align: right;\">1.00</td><td style=\"text-align: right;\">0</td><td style=\"text-align: right;\">0.00</td><td style=\"text-align: right;\">0</td><td style=\"text-align: right;\">0.00</td><td style=\"text-align: right;\">13</td><td style=\"text-align: right;\">2.47</td><td style=\"text-align: right;\">0</td><td style=\"text-align: right;\">0.00</td><td style=\"text-align: right;\">19</td><td style=\"text-align: right;\">2.49</td><td style=\"text-align: right;\">2</td><td style=\"text-align: right;\">0.72</td><td style=\"text-align: right;\">4</td><td style=\"text-align: right;\">0.86</td></tr>\n",
       "<tr class=\"even\"><td style=\"text-align: right;\">353791</td><td style=\"text-align: right;\">136,393,658</td><td style=\"text-align: right;\">92,684</td><td style=\"text-align: right;\">32</td><td style=\"text-align: right;\">1361</td><td style=\"text-align: right;\">0.03</td><td style=\"text-align: right;\">38</td><td style=\"text-align: right;\">1.00</td><td style=\"text-align: right;\">0</td><td style=\"text-align: right;\">0.00</td><td style=\"text-align: right;\">0</td><td style=\"text-align: right;\">0.00</td><td style=\"text-align: right;\">13</td><td style=\"text-align: right;\">2.47</td><td style=\"text-align: right;\">0</td><td style=\"text-align: right;\">0.00</td><td style=\"text-align: right;\">19</td><td style=\"text-align: right;\">2.49</td><td style=\"text-align: right;\">2</td><td style=\"text-align: right;\">0.72</td><td style=\"text-align: right;\">4</td><td style=\"text-align: right;\">0.86</td></tr>\n",
       "<tr><td style=\"text-align: right;\">353958</td><td style=\"text-align: right;\">136,535,876</td><td style=\"text-align: right;\">19,014</td><td style=\"text-align: right;\">7</td><td style=\"text-align: right;\">1303</td><td style=\"text-align: right;\">0.03</td><td style=\"text-align: right;\">38</td><td style=\"text-align: right;\">1.00</td><td style=\"text-align: right;\">0</td><td style=\"text-align: right;\">0.00</td><td style=\"text-align: right;\">0</td><td style=\"text-align: right;\">0.00</td><td style=\"text-align: right;\">13</td><td style=\"text-align: right;\">2.47</td><td style=\"text-align: right;\">0</td><td style=\"text-align: right;\">0.00</td><td style=\"text-align: right;\">19</td><td style=\"text-align: right;\">2.49</td><td style=\"text-align: right;\">2</td><td style=\"text-align: right;\">0.72</td><td style=\"text-align: right;\">4</td><td style=\"text-align: right;\">0.86</td></tr>\n",
       "<tr class=\"even\"><td style=\"text-align: right;\">354129</td><td style=\"text-align: right;\">136,652,953</td><td style=\"text-align: right;\">108,222</td><td style=\"text-align: right;\">5</td><td style=\"text-align: right;\">1296</td><td style=\"text-align: right;\">0.03</td><td style=\"text-align: right;\">38</td><td style=\"text-align: right;\">1.00</td><td style=\"text-align: right;\">0</td><td style=\"text-align: right;\">0.00</td><td style=\"text-align: right;\">0</td><td style=\"text-align: right;\">0.00</td><td style=\"text-align: right;\">13</td><td style=\"text-align: right;\">2.47</td><td style=\"text-align: right;\">0</td><td style=\"text-align: right;\">0.00</td><td style=\"text-align: right;\">19</td><td style=\"text-align: right;\">2.49</td><td style=\"text-align: right;\">2</td><td style=\"text-align: right;\">0.72</td><td style=\"text-align: right;\">4</td><td style=\"text-align: right;\">0.86</td></tr>\n",
       "<tr><td style=\"text-align: right;\">353919</td><td style=\"text-align: right;\">136,500,475</td><td style=\"text-align: right;\">42,085</td><td style=\"text-align: right;\">13</td><td style=\"text-align: right;\">1227</td><td style=\"text-align: right;\">0.03</td><td style=\"text-align: right;\">38</td><td style=\"text-align: right;\">1.00</td><td style=\"text-align: right;\">0</td><td style=\"text-align: right;\">0.00</td><td style=\"text-align: right;\">0</td><td style=\"text-align: right;\">0.00</td><td style=\"text-align: right;\">13</td><td style=\"text-align: right;\">2.47</td><td style=\"text-align: right;\">0</td><td style=\"text-align: right;\">0.00</td><td style=\"text-align: right;\">19</td><td style=\"text-align: right;\">2.49</td><td style=\"text-align: right;\">2</td><td style=\"text-align: right;\">0.72</td><td style=\"text-align: right;\">4</td><td style=\"text-align: right;\">0.86</td></tr>\n",
       "<tr class=\"even\"><td style=\"text-align: right;\">354127</td><td style=\"text-align: right;\">136,652,491</td><td style=\"text-align: right;\">80,281</td><td style=\"text-align: right;\">6</td><td style=\"text-align: right;\">1114</td><td style=\"text-align: right;\">0.03</td><td style=\"text-align: right;\">38</td><td style=\"text-align: right;\">1.00</td><td style=\"text-align: right;\">0</td><td style=\"text-align: right;\">0.00</td><td style=\"text-align: right;\">0</td><td style=\"text-align: right;\">0.00</td><td style=\"text-align: right;\">13</td><td style=\"text-align: right;\">2.47</td><td style=\"text-align: right;\">0</td><td style=\"text-align: right;\">0.00</td><td style=\"text-align: right;\">19</td><td style=\"text-align: right;\">2.49</td><td style=\"text-align: right;\">2</td><td style=\"text-align: right;\">0.72</td><td style=\"text-align: right;\">4</td><td style=\"text-align: right;\">0.86</td></tr>\n",
       "<tr><td style=\"text-align: right;\">353372</td><td style=\"text-align: right;\">135,829,592</td><td style=\"text-align: right;\">591,316</td><td style=\"text-align: right;\">9</td><td style=\"text-align: right;\">944</td><td style=\"text-align: right;\">0.04</td><td style=\"text-align: right;\">38</td><td style=\"text-align: right;\">1.00</td><td style=\"text-align: right;\">0</td><td style=\"text-align: right;\">0.00</td><td style=\"text-align: right;\">0</td><td style=\"text-align: right;\">0.00</td><td style=\"text-align: right;\">13</td><td style=\"text-align: right;\">2.47</td><td style=\"text-align: right;\">0</td><td style=\"text-align: right;\">0.00</td><td style=\"text-align: right;\">19</td><td style=\"text-align: right;\">2.49</td><td style=\"text-align: right;\">2</td><td style=\"text-align: right;\">0.72</td><td style=\"text-align: right;\">4</td><td style=\"text-align: right;\">0.86</td></tr>\n",
       "<tr class=\"even\"><td style=\"text-align: right;\">353902</td><td style=\"text-align: right;\">136,494,985</td><td style=\"text-align: right;\">278,653</td><td style=\"text-align: right;\">81</td><td style=\"text-align: right;\">857</td><td style=\"text-align: right;\">0.04</td><td style=\"text-align: right;\">38</td><td style=\"text-align: right;\">1.00</td><td style=\"text-align: right;\">0</td><td style=\"text-align: right;\">0.00</td><td style=\"text-align: right;\">0</td><td style=\"text-align: right;\">0.00</td><td style=\"text-align: right;\">13</td><td style=\"text-align: right;\">2.47</td><td style=\"text-align: right;\">0</td><td style=\"text-align: right;\">0.00</td><td style=\"text-align: right;\">19</td><td style=\"text-align: right;\">2.49</td><td style=\"text-align: right;\">2</td><td style=\"text-align: right;\">0.72</td><td style=\"text-align: right;\">4</td><td style=\"text-align: right;\">0.86</td></tr>\n",
       "<tr><td style=\"text-align: right;\">353498</td><td style=\"text-align: right;\">135,959,272</td><td style=\"text-align: right;\">416,583</td><td style=\"text-align: right;\">5</td><td style=\"text-align: right;\">684</td><td style=\"text-align: right;\">0.06</td><td style=\"text-align: right;\">38</td><td style=\"text-align: right;\">1.00</td><td style=\"text-align: right;\">0</td><td style=\"text-align: right;\">0.00</td><td style=\"text-align: right;\">0</td><td style=\"text-align: right;\">0.00</td><td style=\"text-align: right;\">13</td><td style=\"text-align: right;\">2.47</td><td style=\"text-align: right;\">0</td><td style=\"text-align: right;\">0.00</td><td style=\"text-align: right;\">19</td><td style=\"text-align: right;\">2.49</td><td style=\"text-align: right;\">2</td><td style=\"text-align: right;\">0.72</td><td style=\"text-align: right;\">4</td><td style=\"text-align: right;\">0.86</td></tr>\n",
       "<tr class=\"even\"><td style=\"text-align: right;\">353917</td><td style=\"text-align: right;\">136,499,236</td><td style=\"text-align: right;\">176,092</td><td style=\"text-align: right;\">7</td><td style=\"text-align: right;\">59</td><td style=\"text-align: right;\">0.63</td><td style=\"text-align: right;\">37</td><td style=\"text-align: right;\">0.97</td><td style=\"text-align: right;\">0</td><td style=\"text-align: right;\">0.00</td><td style=\"text-align: right;\">0</td><td style=\"text-align: right;\">0.00</td><td style=\"text-align: right;\">12</td><td style=\"text-align: right;\">2.34</td><td style=\"text-align: right;\">0</td><td style=\"text-align: right;\">0.00</td><td style=\"text-align: right;\">19</td><td style=\"text-align: right;\">2.56</td><td style=\"text-align: right;\">2</td><td style=\"text-align: right;\">0.74</td><td style=\"text-align: right;\">4</td><td style=\"text-align: right;\">0.88</td></tr>\n",
       "<tr><td style=\"text-align: right;\">353394</td><td style=\"text-align: right;\">135,845,676</td><td style=\"text-align: right;\">641,900</td><td style=\"text-align: right;\">14</td><td style=\"text-align: right;\">43</td><td style=\"text-align: right;\">0.88</td><td style=\"text-align: right;\">38</td><td style=\"text-align: right;\">1.00</td><td style=\"text-align: right;\">0</td><td style=\"text-align: right;\">0.00</td><td style=\"text-align: right;\">0</td><td style=\"text-align: right;\">0.00</td><td style=\"text-align: right;\">13</td><td style=\"text-align: right;\">2.47</td><td style=\"text-align: right;\">0</td><td style=\"text-align: right;\">0.00</td><td style=\"text-align: right;\">19</td><td style=\"text-align: right;\">2.49</td><td style=\"text-align: right;\">2</td><td style=\"text-align: right;\">0.72</td><td style=\"text-align: right;\">4</td><td style=\"text-align: right;\">0.86</td></tr>\n",
       "</table>"
      ],
      "text/plain": [
       "<IPython.core.display.HTML object>"
      ]
     },
     "execution_count": 9,
     "metadata": {},
     "output_type": "execute_result"
    }
   ],
   "source": [
    "HTML(plt_obj.get_html())"
   ]
  },
  {
   "cell_type": "code",
   "execution_count": 10,
   "metadata": {
    "collapsed": false
   },
   "outputs": [
    {
     "data": {
      "text/plain": [
       "array([(13, 10), (14, 28)], \n",
       "      dtype=[('count', '<u2'), ('snps', '<u2')])"
      ]
     },
     "execution_count": 10,
     "metadata": {},
     "output_type": "execute_result"
    }
   ],
   "source": [
    "count_data = sa_14_43.unique_snps_per_allele(am)\n",
    "count_data"
   ]
  },
  {
   "cell_type": "code",
   "execution_count": 11,
   "metadata": {
    "collapsed": false
   },
   "outputs": [
    {
     "data": {
      "text/plain": [
       "array([(5, 38)], \n",
       "      dtype=[('count', '<u2'), ('snps', '<u2')])"
      ]
     },
     "execution_count": 11,
     "metadata": {},
     "output_type": "execute_result"
    }
   ],
   "source": [
    "count_data = sa_5_684.unique_snps_per_allele(am)\n",
    "count_data"
   ]
  },
  {
   "cell_type": "code",
   "execution_count": 12,
   "metadata": {
    "collapsed": false
   },
   "outputs": [
    {
     "data": {
      "text/html": [
       "\n",
       "\n",
       "    <div class=\"bk-root\">\n",
       "        <div class=\"plotdiv\" id=\"fdaa01f5-a298-47a2-9298-49b521174754\"></div>\n",
       "    </div>\n",
       "<script type=\"text/javascript\">\n",
       "  \n",
       "  (function(global) {\n",
       "    function now() {\n",
       "      return new Date();\n",
       "    }\n",
       "  \n",
       "    if (typeof (window._bokeh_onload_callbacks) === \"undefined\") {\n",
       "      window._bokeh_onload_callbacks = [];\n",
       "    }\n",
       "  \n",
       "    function run_callbacks() {\n",
       "      window._bokeh_onload_callbacks.forEach(function(callback) { callback() });\n",
       "      delete window._bokeh_onload_callbacks\n",
       "      console.info(\"Bokeh: all callbacks have finished\");\n",
       "    }\n",
       "  \n",
       "    function load_libs(js_urls, callback) {\n",
       "      window._bokeh_onload_callbacks.push(callback);\n",
       "      if (window._bokeh_is_loading > 0) {\n",
       "        console.log(\"Bokeh: BokehJS is being loaded, scheduling callback at\", now());\n",
       "        return null;\n",
       "      }\n",
       "      if (js_urls == null || js_urls.length === 0) {\n",
       "        run_callbacks();\n",
       "        return null;\n",
       "      }\n",
       "      console.log(\"Bokeh: BokehJS not loaded, scheduling load and callback at\", now());\n",
       "      window._bokeh_is_loading = js_urls.length;\n",
       "      for (var i = 0; i < js_urls.length; i++) {\n",
       "        var url = js_urls[i];\n",
       "        var s = document.createElement('script');\n",
       "        s.src = url;\n",
       "        s.async = false;\n",
       "        s.onreadystatechange = s.onload = function() {\n",
       "          window._bokeh_is_loading--;\n",
       "          if (window._bokeh_is_loading === 0) {\n",
       "            console.log(\"Bokeh: all BokehJS libraries loaded\");\n",
       "            run_callbacks()\n",
       "          }\n",
       "        };\n",
       "        s.onerror = function() {\n",
       "          console.warn(\"failed to load library \" + url);\n",
       "        };\n",
       "        console.log(\"Bokeh: injecting script tag for BokehJS library: \", url);\n",
       "        document.getElementsByTagName(\"head\")[0].appendChild(s);\n",
       "      }\n",
       "    };var element = document.getElementById(\"fdaa01f5-a298-47a2-9298-49b521174754\");\n",
       "    if (element == null) {\n",
       "      console.log(\"Bokeh: ERROR: autoload.js configured with elementid 'fdaa01f5-a298-47a2-9298-49b521174754' but no matching script tag was found. \")\n",
       "      return false;\n",
       "    }\n",
       "  \n",
       "    var js_urls = [];\n",
       "  \n",
       "    var inline_js = [\n",
       "      function(Bokeh) {\n",
       "        Bokeh.$(function() {\n",
       "            var docs_json = {\"1a671124-8d79-4ad0-8187-9d1da83c943c\":{\"roots\":{\"references\":[{\"attributes\":{\"line_alpha\":{\"value\":0.1},\"line_color\":{\"value\":\"#1f77b4\"},\"xs\":{\"field\":\"xs\"},\"ys\":{\"field\":\"ys\"}},\"id\":\"94b998d6-bd38-4129-a6e1-20d483c6f29f\",\"type\":\"MultiLine\"},{\"attributes\":{\"callback\":null,\"column_names\":[\"right\",\"bottom\",\"top\",\"left\",\"fill_color\"],\"data\":{\"bottom\":[950,350,650,150,250,50,850,450,250,650,450,850,550,450,150,650,850,750,950,550,750,850],\"fill_color\":[\"#808080\",\"#61c4c4\",\"#808080\",\"#c461c4\",\"#61c4c4\",\"#00ff00\",\"#c46161\",\"#61c4c4\",\"#61c4c4\",\"#808080\",\"#61c4c4\",\"#808080\",\"#61c4c4\",\"#808080\",\"#61c461\",\"#808080\",\"#808080\",\"#808080\",\"#c46161\",\"#808080\",\"#808080\",\"#808080\"],\"left\":[135758231,135759095,135766890,135818487,135839805,135921205,135933921,135964764,135989333,136393157,136403994,136406646,136447707,136494985,136499236,136500475,136506375,136535876,136588031,136652491,136652953,136653925],\"right\":[136376515,136387299,136275985,136289565,135924467,136359940,136368563,136101132,136264631,136441410,136485096,136438078,136490266,136773638,136675328,136542560,136538939,136554890,136593678,136732772,136761175,136761853],\"top\":[996,390,693,180,290,60,895,491,288,693,490,895,592,490,167,693,894,794,996,592,794,895]}},\"id\":\"a2690ec1-a4b8-4448-b304-c5ee11f380a8\",\"type\":\"ColumnDataSource\"},{\"attributes\":{\"level\":\"glyph\",\"plot\":{\"id\":\"911ee397-bf3b-4a46-b42a-6f8b53ec2160\",\"subtype\":\"Figure\",\"type\":\"Plot\"},\"source\":{\"id\":\"6ef56bdf-37ce-4f17-93d2-4bce6a04c97b\",\"type\":\"ColumnDataSource\"},\"text\":{\"field\":\"vals\"},\"text_align\":\"center\",\"text_baseline\":\"middle\",\"text_font_size\":{\"value\":\"8pt\"},\"x\":{\"field\":\"x\"},\"y\":{\"field\":\"y\"}},\"id\":\"e26e437c-910d-4153-9d1d-85c08b35f2c1\",\"type\":\"LabelSet\"},{\"attributes\":{},\"id\":\"7f2e1a86-0a5f-40ad-abca-ed513c288554\",\"type\":\"BasicTickFormatter\"},{\"attributes\":{\"bottom\":{\"field\":\"bottom\"},\"fill_alpha\":{\"value\":0.1},\"fill_color\":{\"value\":\"#1f77b4\"},\"left\":{\"field\":\"left\"},\"line_alpha\":{\"value\":0.1},\"line_color\":{\"value\":\"#1f77b4\"},\"right\":{\"field\":\"right\"},\"top\":{\"field\":\"top\"}},\"id\":\"501df0ae-74de-4789-a3c9-67b195b9d4fe\",\"type\":\"Quad\"},{\"attributes\":{\"overlay\":{\"id\":\"83969ea1-144a-43d6-9972-299a2d22f4c6\",\"type\":\"BoxAnnotation\"},\"plot\":{\"id\":\"911ee397-bf3b-4a46-b42a-6f8b53ec2160\",\"subtype\":\"Figure\",\"type\":\"Plot\"}},\"id\":\"a2370df8-f8b1-409c-8f24-9e23394eec21\",\"type\":\"BoxZoomTool\"},{\"attributes\":{\"level\":\"glyph\",\"plot\":{\"id\":\"911ee397-bf3b-4a46-b42a-6f8b53ec2160\",\"subtype\":\"Figure\",\"type\":\"Plot\"},\"source\":{\"id\":\"15014226-1f4d-4134-ab2f-bbc769833c7c\",\"type\":\"ColumnDataSource\"},\"text\":{\"field\":\"vals\"},\"text_font_size\":{\"value\":\"9pt\"},\"text_font_style\":\"bold\",\"x\":{\"field\":\"x\"},\"y\":{\"field\":\"y\"}},\"id\":\"a66651a5-385e-4090-9e71-8140f439abdb\",\"type\":\"LabelSet\"},{\"attributes\":{\"plot\":{\"id\":\"911ee397-bf3b-4a46-b42a-6f8b53ec2160\",\"subtype\":\"Figure\",\"type\":\"Plot\"}},\"id\":\"aae60eaa-2a2d-427a-9dd9-05862a86ac3f\",\"type\":\"HelpTool\"},{\"attributes\":{\"bottom\":{\"field\":\"bottom\"},\"fill_alpha\":{\"value\":0.1},\"fill_color\":{\"value\":\"#1f77b4\"},\"left\":{\"field\":\"left\"},\"line_alpha\":{\"value\":0.1},\"line_color\":{\"value\":\"#1f77b4\"},\"right\":{\"field\":\"right\"},\"top\":{\"field\":\"top\"}},\"id\":\"73b3f99e-d9f2-4c24-96b8-56d504c18145\",\"type\":\"Quad\"},{\"attributes\":{\"callback\":null,\"column_names\":[\"y\",\"x\",\"vals\"],\"data\":{\"vals\":[\"RAB3GAP1\",\"ZRANB3\",\"R3HDM1\",\"UBXN4\",\"LCT\",\"MCM6\",\"DARS\"],\"x\":[135869057.0,136122878.0,136385961.0,136520911.0,136570082.5,136615621.5,136703738.0],\"y\":[1060.0,1060.0,1060.0,1060.0,1060.0,1060.0,1060.0]}},\"id\":\"6ef56bdf-37ce-4f17-93d2-4bce6a04c97b\",\"type\":\"ColumnDataSource\"},{\"attributes\":{\"bottom_units\":\"screen\",\"fill_alpha\":{\"value\":0.5},\"fill_color\":{\"value\":\"lightgrey\"},\"left_units\":\"screen\",\"level\":\"overlay\",\"line_alpha\":{\"value\":1.0},\"line_color\":{\"value\":\"black\"},\"line_dash\":[4,4],\"line_width\":{\"value\":2},\"plot\":null,\"render_mode\":\"css\",\"right_units\":\"screen\",\"top_units\":\"screen\"},\"id\":\"83969ea1-144a-43d6-9972-299a2d22f4c6\",\"type\":\"BoxAnnotation\"},{\"attributes\":{},\"id\":\"e5e07fb1-c96c-4dbd-9357-2aa40b3839cd\",\"type\":\"BasicTicker\"},{\"attributes\":{\"bottom\":{\"field\":\"bottom\"},\"fill_color\":{\"field\":\"fill_color\"},\"left\":{\"field\":\"left\"},\"line_color\":{\"value\":null},\"right\":{\"field\":\"right\"},\"top\":{\"field\":\"top\"}},\"id\":\"b5d9561d-30ca-42c6-aabb-77573f605072\",\"type\":\"Quad\"},{\"attributes\":{\"plot\":{\"id\":\"911ee397-bf3b-4a46-b42a-6f8b53ec2160\",\"subtype\":\"Figure\",\"type\":\"Plot\"}},\"id\":\"e3dbad96-ecc8-4537-8b5a-aa4a010935ad\",\"type\":\"WheelZoomTool\"},{\"attributes\":{},\"id\":\"36d322bf-7e3e-4d98-a7bf-567e7176de3e\",\"type\":\"BasicTickFormatter\"},{\"attributes\":{\"callback\":null,\"end\":1100},\"id\":\"30317b93-f069-40b2-b081-9d422091a5c3\",\"type\":\"Range1d\"},{\"attributes\":{\"callback\":null,\"column_names\":[\"xs\",\"ys\",\"line_color\"],\"data\":{\"line_color\":[\"black\",\"black\",\"black\",\"black\",\"black\",\"black\",\"black\",\"black\",\"black\",\"black\",\"black\",\"black\",\"black\",\"black\",\"black\",\"black\",\"black\",\"black\",\"black\",\"black\",\"black\",\"black\",\"black\",\"black\",\"black\",\"black\",\"black\",\"black\",\"black\",\"black\",\"black\",\"black\",\"black\",\"black\",\"black\",\"black\",\"black\",\"black\",\"black\",\"black\",\"black\",\"black\",\"black\",\"black\",\"black\",\"black\",\"black\",\"black\",\"black\",\"black\",\"black\",\"black\",\"black\",\"black\",\"black\",\"black\",\"black\",\"black\",\"black\",\"black\",\"black\",\"black\",\"black\",\"black\",\"black\",\"black\",\"black\",\"black\",\"black\",\"black\",\"black\",\"black\",\"black\",\"black\",\"black\",\"black\",\"black\",\"black\",\"black\",\"black\",\"black\",\"black\",\"black\",\"black\",\"black\",\"black\",\"black\",\"black\",\"black\",\"black\",\"black\",\"black\",\"black\",\"black\",\"black\",\"black\",\"black\",\"black\",\"black\",\"black\",\"black\",\"black\",\"black\",\"black\",\"black\",\"black\",\"black\",\"black\",\"black\",\"black\",\"black\",\"black\",\"black\",\"black\",\"black\",\"black\",\"black\",\"black\",\"black\",\"black\",\"black\",\"black\",\"black\",\"black\",\"black\",\"black\",\"black\",\"black\",\"black\",\"black\",\"black\",\"black\",\"black\",\"black\",\"black\",\"black\",\"black\",\"black\",\"black\",\"black\",\"black\",\"black\",\"black\",\"black\",\"black\",\"black\",\"black\",\"black\",\"black\",\"black\",\"black\",\"black\",\"black\",\"black\",\"black\",\"black\",\"black\",\"black\",\"black\",\"black\",\"black\",\"black\",\"black\",\"black\",\"black\",\"black\",\"black\",\"black\",\"black\",\"black\",\"black\",\"black\",\"black\",\"black\",\"black\",\"black\",\"black\",\"black\",\"black\",\"black\",\"black\",\"black\",\"black\",\"black\",\"black\",\"black\",\"black\",\"black\",\"black\",\"black\",\"black\",\"black\",\"black\",\"black\",\"black\",\"black\",\"black\",\"black\",\"black\",\"black\",\"black\",\"black\",\"black\",\"black\",\"black\",\"black\",\"black\",\"black\",\"black\",\"black\",\"black\",\"black\",\"black\",\"black\",\"black\",\"black\",\"black\",\"black\",\"black\",\"black\",\"black\",\"black\",\"black\",\"black\",\"black\",\"black\",\"black\",\"black\",\"black\",\"black\",\"black\",\"black\",\"black\",\"black\",\"black\",\"black\",\"black\",\"black\",\"black\",\"black\",\"black\",\"black\",\"black\",\"black\",\"black\",\"black\",\"black\",\"black\",\"black\",\"black\",\"black\",\"black\",\"black\",\"black\",\"black\",\"black\",\"black\",\"black\",\"black\",\"black\",\"black\",\"black\",\"black\",\"black\",\"black\",\"black\",\"black\",\"black\",\"black\",\"black\",\"black\",\"black\",\"black\",\"black\",\"black\",\"black\",\"black\",\"black\",\"black\",\"black\",\"black\",\"black\",\"black\",\"black\",\"black\",\"black\",\"black\",\"black\",\"black\",\"black\",\"black\",\"black\",\"black\",\"black\",\"black\",\"black\",\"black\",\"black\",\"black\",\"black\",\"black\",\"black\",\"black\",\"black\",\"black\",\"black\",\"black\",\"black\",\"black\",\"black\",\"black\",\"black\",\"black\",\"black\",\"black\",\"black\",\"black\",\"black\",\"black\",\"black\",\"black\",\"black\",\"black\",\"black\",\"black\",\"black\",\"black\",\"black\",\"black\",\"black\",\"black\",\"black\",\"black\",\"black\",\"black\",\"black\",\"black\",\"black\",\"black\",\"black\",\"black\",\"black\",\"black\",\"black\",\"black\",\"black\",\"black\",\"black\",\"black\",\"black\",\"black\",\"black\",\"black\",\"black\",\"black\",\"black\",\"black\",\"black\",\"black\",\"black\",\"black\",\"black\",\"black\",\"black\",\"black\",\"black\",\"black\",\"black\",\"black\",\"black\",\"black\",\"black\",\"black\",\"black\",\"black\",\"black\",\"black\",\"black\",\"black\",\"black\",\"black\",\"black\",\"black\",\"black\",\"black\",\"black\",\"black\",\"black\",\"black\",\"black\",\"black\",\"black\",\"black\",\"black\",\"black\",\"black\",\"black\",\"black\",\"black\",\"black\",\"black\",\"black\",\"black\",\"black\",\"black\",\"black\",\"black\",\"black\",\"black\",\"black\",\"black\",\"black\",\"black\",\"black\",\"black\",\"black\",\"black\",\"black\",\"black\",\"black\",\"black\",\"black\",\"black\",\"black\",\"black\",\"black\",\"black\",\"black\",\"black\",\"black\",\"black\",\"black\",\"black\",\"black\",\"black\",\"black\",\"black\",\"black\",\"black\",\"black\",\"black\",\"black\",\"black\",\"black\",\"black\",\"black\",\"black\",\"black\",\"black\",\"black\",\"black\",\"black\",\"black\",\"black\",\"black\",\"black\",\"black\",\"black\",\"black\",\"black\",\"black\",\"black\",\"black\",\"black\",\"black\",\"black\",\"black\",\"black\",\"black\",\"black\",\"black\",\"black\",\"black\",\"black\",\"black\",\"black\",\"black\",\"black\",\"black\",\"black\",\"black\",\"black\",\"black\",\"black\",\"black\",\"black\",\"black\",\"black\",\"black\",\"black\",\"black\",\"black\",\"black\",\"black\",\"black\",\"black\",\"black\",\"black\",\"black\",\"black\",\"black\",\"black\",\"black\",\"black\",\"black\",\"black\",\"black\",\"black\",\"black\",\"black\",\"black\",\"black\",\"black\",\"black\",\"black\",\"black\",\"black\",\"black\",\"black\",\"black\",\"black\",\"black\",\"black\",\"black\",\"black\",\"black\",\"black\",\"black\",\"black\",\"black\",\"black\",\"black\",\"black\",\"black\",\"black\",\"black\",\"black\",\"black\",\"black\",\"black\",\"black\",\"black\",\"black\",\"black\",\"black\",\"black\",\"black\",\"black\",\"black\",\"black\",\"black\",\"black\",\"black\",\"black\",\"black\",\"black\",\"black\",\"black\",\"black\",\"black\",\"black\",\"black\",\"black\",\"black\",\"black\",\"black\",\"black\",\"black\",\"black\",\"black\",\"black\",\"black\",\"black\",\"black\",\"black\",\"black\",\"black\",\"black\",\"black\",\"black\",\"black\",\"black\",\"black\",\"black\",\"black\",\"black\",\"black\",\"black\",\"black\",\"black\",\"black\",\"black\",\"black\",\"black\",\"black\",\"black\",\"black\",\"black\",\"black\",\"black\",\"black\",\"black\",\"black\",\"black\",\"black\",\"black\",\"black\",\"black\",\"black\",\"black\",\"black\",\"black\",\"black\",\"black\",\"black\",\"black\",\"black\",\"black\",\"black\",\"black\",\"black\",\"black\",\"black\",\"black\",\"black\",\"black\",\"black\",\"black\",\"black\",\"black\",\"black\",\"black\",\"black\",\"black\",\"black\",\"black\",\"black\",\"black\",\"black\",\"black\",\"black\",\"black\",\"black\",\"black\",\"black\",\"black\",\"black\",\"black\",\"black\",\"black\",\"black\",\"black\",\"black\",\"black\",\"black\",\"black\",\"black\",\"black\",\"black\",\"black\",\"black\",\"black\",\"black\",\"black\",\"black\",\"black\",\"black\",\"black\",\"black\",\"black\",\"black\",\"black\",\"black\",\"black\",\"black\",\"black\",\"black\",\"black\",\"black\",\"black\",\"black\",\"black\",\"black\",\"black\",\"black\",\"black\",\"black\",\"black\",\"black\",\"black\",\"black\",\"black\",\"black\",\"black\",\"black\",\"black\",\"black\",\"black\",\"black\",\"black\",\"black\",\"black\",\"black\",\"black\",\"black\",\"black\",\"black\",\"black\",\"black\",\"black\"],\"xs\":[[135758231,135758231],[135758520,135758520],[135766072,135766072],[135773420,135773420],[135773446,135773446],[135773617,135773617],[135773692,135773692],[135774681,135774681],[135775049,135775049],[135776430,135776430],[135778656,135778656],[135780168,135780168],[135780587,135780587],[135781301,135781301],[135781522,135781522],[135781635,135781635],[135782456,135782456],[135783157,135783157],[135783366,135783366],[135783367,135783367],[135784227,135784227],[135784733,135784733],[135785066,135785066],[135785068,135785068],[135785149,135785149],[135787148,135787148],[135787642,135787642],[135789405,135789405],[135789472,135789472],[135789682,135789682],[135789784,135789784],[135792338,135792338],[135792528,135792528],[135793565,135793565],[135793684,135793684],[135793845,135793845],[135794367,135794367],[135794986,135794986],[135795040,135795040],[135795095,135795095],[135795150,135795150],[135795385,135795385],[135795396,135795396],[135795443,135795443],[135795595,135795595],[135796000,135796000],[135796155,135796155],[135796410,135796410],[135796965,135796965],[135797223,135797223],[135797747,135797747],[135798082,135798082],[135798758,135798758],[135799082,135799082],[135800085,135800085],[135800601,135800601],[135800757,135800757],[135801228,135801228],[135801956,135801956],[135802020,135802020],[135802028,135802028],[135802050,135802050],[135802148,135802148],[135803766,135803766],[135809241,135809241],[135812969,135812969],[135814716,135814716],[135818907,135818907],[135829432,135829432],[135832131,135832131],[135849613,135849613],[135853807,135853807],[135859923,135859923],[135860305,135860305],[135861497,135861497],[135863143,135863143],[135864294,135864294],[135871624,135871624],[135872646,135872646],[135874038,135874038],[135874622,135874622],[135878814,135878814],[135880013,135880013],[135884487,135884487],[135885357,135885357],[135893853,135893853],[135895809,135895809],[135895879,135895879],[135899069,135899069],[135909462,135909462],[135912977,135912977],[135914038,135914038],[135921839,135921839],[135925002,135925002],[135928312,135928312],[135935049,135935049],[135962711,135962711],[135984172,135984172],[135994753,135994753],[135994754,135994754],[136016079,136016079],[136027264,136027264],[136052004,136052004],[136100473,136100473],[136110129,136110129],[136166536,136166536],[136169799,136169799],[136191314,136191314],[136228887,136228887],[136238453,136238453],[136288273,136288273],[136292425,136292425],[136321951,136321951],[136324564,136324564],[136327299,136327299],[136327302,136327302],[136376515,136376515],[135759095,135759095],[135767882,135767882],[135772049,135772049],[135773449,135773449],[135775786,135775786],[135776584,135776584],[135778239,135778239],[135781035,135781035],[135796302,135796302],[135803806,135803806],[135809572,135809572],[135812974,135812974],[135823042,135823042],[135825074,135825074],[135833521,135833521],[135851941,135851941],[135853900,135853900],[135854901,135854901],[135861310,135861310],[135866182,135866182],[135876308,135876308],[135887893,135887893],[135890608,135890608],[135899021,135899021],[135900539,135900539],[135912255,135912255],[135915414,135915414],[135918681,135918681],[135938999,135938999],[135946762,135946762],[135949064,135949064],[135949065,135949065],[135950240,135950240],[135954501,135954501],[135958940,135958940],[135960011,135960011],[135964572,135964572],[135971806,135971806],[135975598,135975598],[135978637,135978637],[135978792,135978792],[135980802,135980802],[135981130,135981130],[135984068,135984068],[135986636,135986636],[135987163,135987163],[135988186,135988186],[135992038,135992038],[135995885,135995885],[135996353,135996353],[135997275,135997275],[135998352,135998352],[135999189,135999189],[135999758,135999758],[136003597,136003597],[136007338,136007338],[136007529,136007529],[136009326,136009326],[136012313,136012313],[136019560,136019560],[136021007,136021007],[136027748,136027748],[136027809,136027809],[136031318,136031318],[136031551,136031551],[136034837,136034837],[136035510,136035510],[136042064,136042064],[136043293,136043293],[136045826,136045826],[136049992,136049992],[136052318,136052318],[136052770,136052770],[136053195,136053195],[136053599,136053599],[136055139,136055139],[136057643,136057643],[136060102,136060102],[136062586,136062586],[136062749,136062749],[136069870,136069870],[136070441,136070441],[136072754,136072754],[136074672,136074672],[136076275,136076275],[136081038,136081038],[136084661,136084661],[136085367,136085367],[136086897,136086897],[136088431,136088431],[136092485,136092485],[136093253,136093253],[136094478,136094478],[136102064,136102064],[136105186,136105186],[136108385,136108385],[136109851,136109851],[136112697,136112697],[136114228,136114228],[136119133,136119133],[136120174,136120174],[136127216,136127216],[136128254,136128254],[136131744,136131744],[136133109,136133109],[136136279,136136279],[136142490,136142490],[136145192,136145192],[136146053,136146053],[136146369,136146369],[136149565,136149565],[136149927,136149927],[136151774,136151774],[136154364,136154364],[136157752,136157752],[136158243,136158243],[136158644,136158644],[136158946,136158946],[136159843,136159843],[136160751,136160751],[136163870,136163870],[136168686,136168686],[136171386,136171386],[136172024,136172024],[136172820,136172820],[136172853,136172853],[136175034,136175034],[136176104,136176104],[136178761,136178761],[136180917,136180917],[136182160,136182160],[136182355,136182355],[136185950,136185950],[136188300,136188300],[136188480,136188480],[136188575,136188575],[136191286,136191286],[136191661,136191661],[136193839,136193839],[136197756,136197756],[136198645,136198645],[136201320,136201320],[136202976,136202976],[136203038,136203038],[136208730,136208730],[136211792,136211792],[136213050,136213050],[136213287,136213287],[136222634,136222634],[136225101,136225101],[136227710,136227710],[136228150,136228150],[136229697,136229697],[136232100,136232100],[136237994,136237994],[136249777,136249777],[136253514,136253514],[136254660,136254660],[136258254,136258254],[136262412,136262412],[136263071,136263071],[136263450,136263450],[136266335,136266335],[136268788,136268788],[136274236,136274236],[136276238,136276238],[136277664,136277664],[136283916,136283916],[136284779,136284779],[136287555,136287555],[136298035,136298035],[136300554,136300554],[136308555,136308555],[136309552,136309552],[136309779,136309779],[136310924,136310924],[136311867,136311867],[136312909,136312909],[136315932,136315932],[136321197,136321197],[136331435,136331435],[136337874,136337874],[136339552,136339552],[136340725,136340725],[136345038,136345038],[136349891,136349891],[136356227,136356227],[136366433,136366433],[136380723,136380723],[136382681,136382681],[136385683,136385683],[136386726,136386726],[136387299,136387299],[135766890,135766890],[135778708,135778708],[135779588,135779588],[135805941,135805941],[135805943,135805943],[135932720,135932720],[135933317,135933317],[135934842,135934842],[135952376,135952376],[135958853,135958853],[135962864,135962864],[135963304,135963304],[135965376,135965376],[135980201,135980201],[135981554,135981554],[135988127,135988127],[135988416,135988416],[135991470,135991470],[136000500,136000500],[136001215,136001215],[136001295,136001295],[136016514,136016514],[136017388,136017388],[136041102,136041102],[136041662,136041662],[136047387,136047387],[136052936,136052936],[136055275,136055275],[136063118,136063118],[136066802,136066802],[136068890,136068890],[136069577,136069577],[136081193,136081193],[136105193,136105193],[136107839,136107839],[136110835,136110835],[136138026,136138026],[136142092,136142092],[136146499,136146499],[136147607,136147607],[136148401,136148401],[136150512,136150512],[136154734,136154734],[136155805,136155805],[136163001,136163001],[136163266,136163266],[136163568,136163568],[136163821,136163821],[136165965,136165965],[136183312,136183312],[136185945,136185945],[136191729,136191729],[136204827,136204827],[136208747,136208747],[136217980,136217980],[136229438,136229438],[136232572,136232572],[136240942,136240942],[136251329,136251329],[136265187,136265187],[136265188,136265188],[136275985,136275985],[135818487,135818487],[136048649,136048649],[136107286,136107286],[136127914,136127914],[136130497,136130497],[136268096,136268096],[136281880,136281880],[136289565,136289565],[135839805,135839805],[135866750,135866750],[135886744,135886744],[135924467,135924467],[135921205,135921205],[136019254,136019254],[136193596,136193596],[136212052,136212052],[136359940,136359940],[135933921,135933921],[135939824,135939824],[135941503,135941503],[135943900,135943900],[135945474,135945474],[135949715,135949715],[135956745,135956745],[135958693,135958693],[135967778,135967778],[135972093,135972093],[135973768,135973768],[135976498,135976498],[135978428,135978428],[135990031,135990031],[135992481,135992481],[135993925,135993925],[135994838,135994838],[136000253,136000253],[136003567,136003567],[136005477,136005477],[136005971,136005971],[136020977,136020977],[136027535,136027535],[136031588,136031588],[136032905,136032905],[136042480,136042480],[136043885,136043885],[136050471,136050471],[136052898,136052898],[136054815,136054815],[136056285,136056285],[136061560,136061560],[136063685,136063685],[136069060,136069060],[136072179,136072179],[136074233,136074233],[136080721,136080721],[136080822,136080822],[136088440,136088440],[136088643,136088643],[136092416,136092416],[136092869,136092869],[136094615,136094615],[136095505,136095505],[136095604,136095604],[136096766,136096766],[136097091,136097091],[136097394,136097394],[136100243,136100243],[136101823,136101823],[136106561,136106561],[136115501,136115501],[136122622,136122622],[136123014,136123014],[136123848,136123848],[136127100,136127100],[136127950,136127950],[136128630,136128630],[136129630,136129630],[136129791,136129791],[136131324,136131324],[136135383,136135383],[136135994,136135994],[136136224,136136224],[136136366,136136366],[136136440,136136440],[136138145,136138145],[136140568,136140568],[136145882,136145882],[136147948,136147948],[136148630,136148630],[136151485,136151485],[136152802,136152802],[136156753,136156753],[136157913,136157913],[136160902,136160902],[136165765,136165765],[136171649,136171649],[136173220,136173220],[136173735,136173735],[136174552,136174552],[136175692,136175692],[136176805,136176805],[136182484,136182484],[136183188,136183188],[136187252,136187252],[136187345,136187345],[136189475,136189475],[136197702,136197702],[136198435,136198435],[136202937,136202937],[136219999,136219999],[136221500,136221500],[136226626,136226626],[136228929,136228929],[136229598,136229598],[136238270,136238270],[136238346,136238346],[136240769,136240769],[136244171,136244171],[136249245,136249245],[136250285,136250285],[136254419,136254419],[136266241,136266241],[136267808,136267808],[136272074,136272074],[136277304,136277304],[136290607,136290607],[136290663,136290663],[136291310,136291310],[136296051,136296051],[136305392,136305392],[136306890,136306890],[136310803,136310803],[136324225,136324225],[136324465,136324465],[136327305,136327305],[136329618,136329618],[136333300,136333300],[136350089,136350089],[136354204,136354204],[136360455,136360455],[136368563,136368563],[135964764,135964764],[135964765,135964765],[136099127,136099127],[136099650,136099650],[136100705,136100705],[136101132,136101132],[135989333,135989333],[136000304,136000304],[136030519,136030519],[136034836,136034836],[136125165,136125165],[136264631,136264631],[136393157,136393157],[136397433,136397433],[136402116,136402116],[136408291,136408291],[136421548,136421548],[136422784,136422784],[136427745,136427745],[136438950,136438950],[136439805,136439805],[136441410,136441410],[136403994,136403994],[136405878,136405878],[136409574,136409574],[136413225,136413225],[136418741,136418741],[136429088,136429088],[136432121,136432121],[136449305,136449305],[136451432,136451432],[136470978,136470978],[136472107,136472107],[136477100,136477100],[136485096,136485096],[136406646,136406646],[136408821,136408821],[136412472,136412472],[136416959,136416959],[136438078,136438078],[136447707,136447707],[136460324,136460324],[136472357,136472357],[136490266,136490266],[136494985,136494985],[136497199,136497199],[136511817,136511817],[136513670,136513670],[136515458,136515458],[136516970,136516970],[136525309,136525309],[136528034,136528034],[136532225,136532225],[136535235,136535235],[136536095,136536095],[136544423,136544423],[136546927,136546927],[136552188,136552188],[136552517,136552517],[136555525,136555525],[136556480,136556480],[136560464,136560464],[136572285,136572285],[136582694,136582694],[136582809,136582809],[136584538,136584538],[136585323,136585323],[136586825,136586825],[136600662,136600662],[136612036,136612036],[136618178,136618178],[136618507,136618507],[136622543,136622543],[136624947,136624947],[136625113,136625113],[136626078,136626078],[136628121,136628121],[136632300,136632300],[136633962,136633962],[136635343,136635343],[136638113,136638113],[136640101,136640101],[136641593,136641593],[136646582,136646582],[136648077,136648077],[136648883,136648883],[136652045,136652045],[136653848,136653848],[136656094,136656094],[136661110,136661110],[136663110,136663110],[136663605,136663605],[136665162,136665162],[136665711,136665711],[136668123,136668123],[136670419,136670419],[136672680,136672680],[136673546,136673546],[136684632,136684632],[136686114,136686114],[136690425,136690425],[136690783,136690783],[136692893,136692893],[136694905,136694905],[136695694,136695694],[136695705,136695705],[136696608,136696608],[136697372,136697372],[136697468,136697468],[136700024,136700024],[136701539,136701539],[136702118,136702118],[136707480,136707480],[136710554,136710554],[136714178,136714178],[136719173,136719173],[136725459,136725459],[136734569,136734569],[136744678,136744678],[136748779,136748779],[136751488,136751488],[136754183,136754183],[136763242,136763242],[136765074,136765074],[136773638,136773638],[136499236,136499236],[136525856,136525856],[136554477,136554477],[136577346,136577346],[136604166,136604166],[136655568,136655568],[136675328,136675328],[136500475,136500475],[136501509,136501509],[136504101,136504101],[136509868,136509868],[136520043,136520043],[136527120,136527120],[136530379,136530379],[136530443,136530443],[136539330,136539330],[136539670,136539670],[136540083,136540083],[136542559,136542559],[136542560,136542560],[136506375,136506375],[136506927,136506927],[136510012,136510012],[136538939,136538939],[136535876,136535876],[136544651,136544651],[136545844,136545844],[136552526,136552526],[136553022,136553022],[136554797,136554797],[136554890,136554890],[136588031,136588031],[136589278,136589278],[136589379,136589379],[136589741,136589741],[136590746,136590746],[136593553,136593553],[136593678,136593678],[136652491,136652491],[136652524,136652524],[136661150,136661150],[136669264,136669264],[136726567,136726567],[136732772,136732772],[136652953,136652953],[136655582,136655582],[136674028,136674028],[136684940,136684940],[136761175,136761175],[136653925,136653925],[136654833,136654833],[136656534,136656534],[136656536,136656536],[136657252,136657252],[136667301,136667301],[136667487,136667487],[136672775,136672775],[136680534,136680534],[136686393,136686393],[136688749,136688749],[136692553,136692553],[136697371,136697371],[136708787,136708787],[136710372,136710372],[136711064,136711064],[136715324,136715324],[136723504,136723504],[136737460,136737460],[136743143,136743143],[136746224,136746224],[136751842,136751842],[136759379,136759379],[136761853,136761853]],\"ys\":[[950,996],[950,996],[950,996],[950,996],[950,996],[950,996],[950,996],[950,996],[950,996],[950,996],[950,996],[950,996],[950,996],[950,996],[950,996],[950,996],[950,996],[950,996],[950,996],[950,996],[950,996],[950,996],[950,996],[950,996],[950,996],[950,996],[950,996],[950,996],[950,996],[950,996],[950,996],[950,996],[950,996],[950,996],[950,996],[950,996],[950,996],[950,996],[950,996],[950,996],[950,996],[950,996],[950,996],[950,996],[950,996],[950,996],[950,996],[950,996],[950,996],[950,996],[950,996],[950,996],[950,996],[950,996],[950,996],[950,996],[950,996],[950,996],[950,996],[950,996],[950,996],[950,996],[950,996],[950,996],[950,996],[950,996],[950,996],[950,996],[950,996],[950,996],[950,996],[950,996],[950,996],[950,996],[950,996],[950,996],[950,996],[950,996],[950,996],[950,996],[950,996],[950,996],[950,996],[950,996],[950,996],[950,996],[950,996],[950,996],[950,996],[950,996],[950,996],[950,996],[950,996],[950,996],[950,996],[950,996],[950,996],[950,996],[950,996],[950,996],[950,996],[950,996],[950,996],[950,996],[950,996],[950,996],[950,996],[950,996],[950,996],[950,996],[950,996],[950,996],[950,996],[950,996],[950,996],[950,996],[950,996],[350,390],[350,390],[350,390],[350,390],[350,390],[350,390],[350,390],[350,390],[350,390],[350,390],[350,390],[350,390],[350,390],[350,390],[350,390],[350,390],[350,390],[350,390],[350,390],[350,390],[350,390],[350,390],[350,390],[350,390],[350,390],[350,390],[350,390],[350,390],[350,390],[350,390],[350,390],[350,390],[350,390],[350,390],[350,390],[350,390],[350,390],[350,390],[350,390],[350,390],[350,390],[350,390],[350,390],[350,390],[350,390],[350,390],[350,390],[350,390],[350,390],[350,390],[350,390],[350,390],[350,390],[350,390],[350,390],[350,390],[350,390],[350,390],[350,390],[350,390],[350,390],[350,390],[350,390],[350,390],[350,390],[350,390],[350,390],[350,390],[350,390],[350,390],[350,390],[350,390],[350,390],[350,390],[350,390],[350,390],[350,390],[350,390],[350,390],[350,390],[350,390],[350,390],[350,390],[350,390],[350,390],[350,390],[350,390],[350,390],[350,390],[350,390],[350,390],[350,390],[350,390],[350,390],[350,390],[350,390],[350,390],[350,390],[350,390],[350,390],[350,390],[350,390],[350,390],[350,390],[350,390],[350,390],[350,390],[350,390],[350,390],[350,390],[350,390],[350,390],[350,390],[350,390],[350,390],[350,390],[350,390],[350,390],[350,390],[350,390],[350,390],[350,390],[350,390],[350,390],[350,390],[350,390],[350,390],[350,390],[350,390],[350,390],[350,390],[350,390],[350,390],[350,390],[350,390],[350,390],[350,390],[350,390],[350,390],[350,390],[350,390],[350,390],[350,390],[350,390],[350,390],[350,390],[350,390],[350,390],[350,390],[350,390],[350,390],[350,390],[350,390],[350,390],[350,390],[350,390],[350,390],[350,390],[350,390],[350,390],[350,390],[350,390],[350,390],[350,390],[350,390],[350,390],[350,390],[350,390],[350,390],[350,390],[350,390],[350,390],[350,390],[350,390],[350,390],[350,390],[350,390],[350,390],[350,390],[350,390],[350,390],[350,390],[350,390],[350,390],[350,390],[350,390],[350,390],[350,390],[350,390],[350,390],[350,390],[350,390],[350,390],[650,693],[650,693],[650,693],[650,693],[650,693],[650,693],[650,693],[650,693],[650,693],[650,693],[650,693],[650,693],[650,693],[650,693],[650,693],[650,693],[650,693],[650,693],[650,693],[650,693],[650,693],[650,693],[650,693],[650,693],[650,693],[650,693],[650,693],[650,693],[650,693],[650,693],[650,693],[650,693],[650,693],[650,693],[650,693],[650,693],[650,693],[650,693],[650,693],[650,693],[650,693],[650,693],[650,693],[650,693],[650,693],[650,693],[650,693],[650,693],[650,693],[650,693],[650,693],[650,693],[650,693],[650,693],[650,693],[650,693],[650,693],[650,693],[650,693],[650,693],[650,693],[650,693],[150,180],[150,180],[150,180],[150,180],[150,180],[150,180],[150,180],[150,180],[250,290],[250,290],[250,290],[250,290],[50,60],[50,60],[50,60],[50,60],[50,60],[850,895],[850,895],[850,895],[850,895],[850,895],[850,895],[850,895],[850,895],[850,895],[850,895],[850,895],[850,895],[850,895],[850,895],[850,895],[850,895],[850,895],[850,895],[850,895],[850,895],[850,895],[850,895],[850,895],[850,895],[850,895],[850,895],[850,895],[850,895],[850,895],[850,895],[850,895],[850,895],[850,895],[850,895],[850,895],[850,895],[850,895],[850,895],[850,895],[850,895],[850,895],[850,895],[850,895],[850,895],[850,895],[850,895],[850,895],[850,895],[850,895],[850,895],[850,895],[850,895],[850,895],[850,895],[850,895],[850,895],[850,895],[850,895],[850,895],[850,895],[850,895],[850,895],[850,895],[850,895],[850,895],[850,895],[850,895],[850,895],[850,895],[850,895],[850,895],[850,895],[850,895],[850,895],[850,895],[850,895],[850,895],[850,895],[850,895],[850,895],[850,895],[850,895],[850,895],[850,895],[850,895],[850,895],[850,895],[850,895],[850,895],[850,895],[850,895],[850,895],[850,895],[850,895],[850,895],[850,895],[850,895],[850,895],[850,895],[850,895],[850,895],[850,895],[850,895],[850,895],[850,895],[850,895],[850,895],[850,895],[850,895],[850,895],[850,895],[850,895],[850,895],[850,895],[850,895],[850,895],[850,895],[850,895],[850,895],[850,895],[850,895],[850,895],[850,895],[450,491],[450,491],[450,491],[450,491],[450,491],[450,491],[250,288],[250,288],[250,288],[250,288],[250,288],[250,288],[650,693],[650,693],[650,693],[650,693],[650,693],[650,693],[650,693],[650,693],[650,693],[650,693],[450,490],[450,490],[450,490],[450,490],[450,490],[450,490],[450,490],[450,490],[450,490],[450,490],[450,490],[450,490],[450,490],[850,895],[850,895],[850,895],[850,895],[850,895],[550,592],[550,592],[550,592],[550,592],[450,490],[450,490],[450,490],[450,490],[450,490],[450,490],[450,490],[450,490],[450,490],[450,490],[450,490],[450,490],[450,490],[450,490],[450,490],[450,490],[450,490],[450,490],[450,490],[450,490],[450,490],[450,490],[450,490],[450,490],[450,490],[450,490],[450,490],[450,490],[450,490],[450,490],[450,490],[450,490],[450,490],[450,490],[450,490],[450,490],[450,490],[450,490],[450,490],[450,490],[450,490],[450,490],[450,490],[450,490],[450,490],[450,490],[450,490],[450,490],[450,490],[450,490],[450,490],[450,490],[450,490],[450,490],[450,490],[450,490],[450,490],[450,490],[450,490],[450,490],[450,490],[450,490],[450,490],[450,490],[450,490],[450,490],[450,490],[450,490],[450,490],[450,490],[450,490],[450,490],[450,490],[450,490],[450,490],[450,490],[450,490],[450,490],[450,490],[450,490],[450,490],[150,167],[150,167],[150,167],[150,167],[150,167],[150,167],[150,167],[650,693],[650,693],[650,693],[650,693],[650,693],[650,693],[650,693],[650,693],[650,693],[650,693],[650,693],[650,693],[650,693],[850,894],[850,894],[850,894],[850,894],[750,794],[750,794],[750,794],[750,794],[750,794],[750,794],[750,794],[950,996],[950,996],[950,996],[950,996],[950,996],[950,996],[950,996],[550,592],[550,592],[550,592],[550,592],[550,592],[550,592],[750,794],[750,794],[750,794],[750,794],[750,794],[850,895],[850,895],[850,895],[850,895],[850,895],[850,895],[850,895],[850,895],[850,895],[850,895],[850,895],[850,895],[850,895],[850,895],[850,895],[850,895],[850,895],[850,895],[850,895],[850,895],[850,895],[850,895],[850,895],[850,895]]}},\"id\":\"6ffa2210-4386-4f83-8104-7dcecbe1c331\",\"type\":\"ColumnDataSource\"},{\"attributes\":{\"active_drag\":\"auto\",\"active_scroll\":\"auto\",\"active_tap\":\"auto\",\"tools\":[{\"id\":\"02227dd4-6bc8-4404-b7f2-06d37c8d22ec\",\"type\":\"PanTool\"},{\"id\":\"e3dbad96-ecc8-4537-8b5a-aa4a010935ad\",\"type\":\"WheelZoomTool\"},{\"id\":\"a2370df8-f8b1-409c-8f24-9e23394eec21\",\"type\":\"BoxZoomTool\"},{\"id\":\"de08b163-3d58-4915-b675-cf3a693473b7\",\"type\":\"SaveTool\"},{\"id\":\"e4c8c0d5-338d-4f36-a551-af3fa4d70d3b\",\"type\":\"ResetTool\"},{\"id\":\"aae60eaa-2a2d-427a-9dd9-05862a86ac3f\",\"type\":\"HelpTool\"}]},\"id\":\"3c380623-58d9-4238-8fb3-1540eacb2c22\",\"type\":\"Toolbar\"},{\"attributes\":{\"formatter\":{\"id\":\"36d322bf-7e3e-4d98-a7bf-567e7176de3e\",\"type\":\"BasicTickFormatter\"},\"plot\":{\"id\":\"911ee397-bf3b-4a46-b42a-6f8b53ec2160\",\"subtype\":\"Figure\",\"type\":\"Plot\"},\"ticker\":{\"id\":\"e5e07fb1-c96c-4dbd-9357-2aa40b3839cd\",\"type\":\"BasicTicker\"}},\"id\":\"ff556cfc-e226-44c4-b5a2-1bc97aa178a6\",\"type\":\"LinearAxis\"},{\"attributes\":{\"callback\":null,\"column_names\":[\"y\",\"x\",\"vals\"],\"data\":{\"vals\":[\"117_1685\",\"193_843\",\"62_1265\",\"8_267\",\"4_815\",\"5_26\",\"123_1561\",\"6_946\",\"6_713\",\"10_1218\",\"13_911\",\"5_1460\",\"4_1149\",\"81_857\",\"7_59\",\"13_1227\",\"4_1442\",\"7_1303\",\"7_1760\",\"6_1114\",\"5_1296\",\"24_1504\"],\"x\":[135758231,135759095,135766890,135818487,135839805,135921205,135933921,135964764,135989333,136393157,136403994,136406646,136447707,136494985,136499236,136500475,136506375,136535876,136588031,136652491,136652953,136653925],\"y\":[1001.0,395.0,698.0,185.0,295.0,65.0,900.0,496.0,293.0,698.0,495.0,900.0,597.0,495.0,172.0,698.0,899.0,799.0,1001.0,597.0,799.0,900.0]}},\"id\":\"15014226-1f4d-4134-ab2f-bbc769833c7c\",\"type\":\"ColumnDataSource\"},{\"attributes\":{},\"id\":\"882b6eb1-f6da-497b-a426-e2c00b6eb8c7\",\"type\":\"BasicTicker\"},{\"attributes\":{\"plot\":{\"id\":\"911ee397-bf3b-4a46-b42a-6f8b53ec2160\",\"subtype\":\"Figure\",\"type\":\"Plot\"}},\"id\":\"de08b163-3d58-4915-b675-cf3a693473b7\",\"type\":\"SaveTool\"},{\"attributes\":{\"below\":[{\"id\":\"ff556cfc-e226-44c4-b5a2-1bc97aa178a6\",\"type\":\"LinearAxis\"}],\"left\":[{\"id\":\"ebb7a498-030b-46ed-8e57-d71b90e620f2\",\"type\":\"LinearAxis\"}],\"plot_height\":1100,\"plot_width\":900,\"renderers\":[{\"id\":\"ff556cfc-e226-44c4-b5a2-1bc97aa178a6\",\"type\":\"LinearAxis\"},{\"id\":\"129d6193-b1c7-448c-997c-5b3ff943cbf3\",\"type\":\"Grid\"},{\"id\":\"ebb7a498-030b-46ed-8e57-d71b90e620f2\",\"type\":\"LinearAxis\"},{\"id\":\"87f0ce00-4758-4a86-9937-21cc4fb20f7a\",\"type\":\"Grid\"},{\"id\":\"83969ea1-144a-43d6-9972-299a2d22f4c6\",\"type\":\"BoxAnnotation\"},{\"id\":\"94ce9204-dcbe-4fd1-bcae-371f1c8a6782\",\"type\":\"GlyphRenderer\"},{\"id\":\"8d4b53c8-cfce-406d-a259-e5a6e152b9c1\",\"type\":\"GlyphRenderer\"},{\"id\":\"a66651a5-385e-4090-9e71-8140f439abdb\",\"type\":\"LabelSet\"},{\"id\":\"7e3901b4-6c29-4ffc-b8d3-f16854d26cb8\",\"type\":\"GlyphRenderer\"},{\"id\":\"e26e437c-910d-4153-9d1d-85c08b35f2c1\",\"type\":\"LabelSet\"}],\"title\":{\"id\":\"ac3f11ae-e4b2-4c66-a1d0-37903102732e\",\"type\":\"Title\"},\"tool_events\":{\"id\":\"fe953432-7640-408e-b807-95d228607186\",\"type\":\"ToolEvents\"},\"toolbar\":{\"id\":\"3c380623-58d9-4238-8fb3-1540eacb2c22\",\"type\":\"Toolbar\"},\"toolbar_location\":null,\"x_range\":{\"id\":\"53713f41-d60f-43c1-944f-aa457aecbddc\",\"type\":\"Range1d\"},\"y_range\":{\"id\":\"30317b93-f069-40b2-b081-9d422091a5c3\",\"type\":\"Range1d\"}},\"id\":\"911ee397-bf3b-4a46-b42a-6f8b53ec2160\",\"subtype\":\"Figure\",\"type\":\"Plot\"},{\"attributes\":{\"callback\":null,\"end\":136786630,\"start\":135757320},\"id\":\"53713f41-d60f-43c1-944f-aa457aecbddc\",\"type\":\"Range1d\"},{\"attributes\":{\"data_source\":{\"id\":\"6ffa2210-4386-4f83-8104-7dcecbe1c331\",\"type\":\"ColumnDataSource\"},\"glyph\":{\"id\":\"cbe6b28b-f543-4025-b23e-1b6ee15c465f\",\"type\":\"MultiLine\"},\"hover_glyph\":null,\"nonselection_glyph\":{\"id\":\"94b998d6-bd38-4129-a6e1-20d483c6f29f\",\"type\":\"MultiLine\"},\"selection_glyph\":null},\"id\":\"8d4b53c8-cfce-406d-a259-e5a6e152b9c1\",\"type\":\"GlyphRenderer\"},{\"attributes\":{\"bottom\":{\"field\":\"bottom\"},\"fill_color\":{\"value\":\"white\"},\"left\":{\"field\":\"left\"},\"right\":{\"field\":\"right\"},\"top\":{\"field\":\"top\"}},\"id\":\"15137380-68a6-46fc-9ee8-df1f85eb50b3\",\"type\":\"Quad\"},{\"attributes\":{\"plot\":{\"id\":\"911ee397-bf3b-4a46-b42a-6f8b53ec2160\",\"subtype\":\"Figure\",\"type\":\"Plot\"},\"ticker\":{\"id\":\"e5e07fb1-c96c-4dbd-9357-2aa40b3839cd\",\"type\":\"BasicTicker\"}},\"id\":\"129d6193-b1c7-448c-997c-5b3ff943cbf3\",\"type\":\"Grid\"},{\"attributes\":{\"plot\":{\"id\":\"911ee397-bf3b-4a46-b42a-6f8b53ec2160\",\"subtype\":\"Figure\",\"type\":\"Plot\"}},\"id\":\"02227dd4-6bc8-4404-b7f2-06d37c8d22ec\",\"type\":\"PanTool\"},{\"attributes\":{\"plot\":null,\"text\":null},\"id\":\"ac3f11ae-e4b2-4c66-a1d0-37903102732e\",\"type\":\"Title\"},{\"attributes\":{\"line_color\":{\"field\":\"line_color\"},\"xs\":{\"field\":\"xs\"},\"ys\":{\"field\":\"ys\"}},\"id\":\"cbe6b28b-f543-4025-b23e-1b6ee15c465f\",\"type\":\"MultiLine\"},{\"attributes\":{\"formatter\":{\"id\":\"7f2e1a86-0a5f-40ad-abca-ed513c288554\",\"type\":\"BasicTickFormatter\"},\"plot\":{\"id\":\"911ee397-bf3b-4a46-b42a-6f8b53ec2160\",\"subtype\":\"Figure\",\"type\":\"Plot\"},\"ticker\":{\"id\":\"882b6eb1-f6da-497b-a426-e2c00b6eb8c7\",\"type\":\"BasicTicker\"},\"visible\":null},\"id\":\"ebb7a498-030b-46ed-8e57-d71b90e620f2\",\"type\":\"LinearAxis\"},{\"attributes\":{\"plot\":{\"id\":\"911ee397-bf3b-4a46-b42a-6f8b53ec2160\",\"subtype\":\"Figure\",\"type\":\"Plot\"}},\"id\":\"e4c8c0d5-338d-4f36-a551-af3fa4d70d3b\",\"type\":\"ResetTool\"},{\"attributes\":{\"dimension\":1,\"plot\":{\"id\":\"911ee397-bf3b-4a46-b42a-6f8b53ec2160\",\"subtype\":\"Figure\",\"type\":\"Plot\"},\"ticker\":{\"id\":\"882b6eb1-f6da-497b-a426-e2c00b6eb8c7\",\"type\":\"BasicTicker\"}},\"id\":\"87f0ce00-4758-4a86-9937-21cc4fb20f7a\",\"type\":\"Grid\"},{\"attributes\":{},\"id\":\"fe953432-7640-408e-b807-95d228607186\",\"type\":\"ToolEvents\"},{\"attributes\":{\"data_source\":{\"id\":\"a2690ec1-a4b8-4448-b304-c5ee11f380a8\",\"type\":\"ColumnDataSource\"},\"glyph\":{\"id\":\"b5d9561d-30ca-42c6-aabb-77573f605072\",\"type\":\"Quad\"},\"hover_glyph\":null,\"nonselection_glyph\":{\"id\":\"501df0ae-74de-4789-a3c9-67b195b9d4fe\",\"type\":\"Quad\"},\"selection_glyph\":null},\"id\":\"94ce9204-dcbe-4fd1-bcae-371f1c8a6782\",\"type\":\"GlyphRenderer\"},{\"attributes\":{\"data_source\":{\"id\":\"18425f5a-c1d2-4658-b6ae-35a1a6067ec0\",\"type\":\"ColumnDataSource\"},\"glyph\":{\"id\":\"15137380-68a6-46fc-9ee8-df1f85eb50b3\",\"type\":\"Quad\"},\"hover_glyph\":null,\"nonselection_glyph\":{\"id\":\"73b3f99e-d9f2-4c24-96b8-56d504c18145\",\"type\":\"Quad\"},\"selection_glyph\":null},\"id\":\"7e3901b4-6c29-4ffc-b8d3-f16854d26cb8\",\"type\":\"GlyphRenderer\"},{\"attributes\":{\"callback\":null,\"column_names\":[\"right\",\"bottom\",\"top\",\"left\"],\"data\":{\"bottom\":[1045,1045,1045,1045,1045,1045,1045],\"left\":[135809835,135957574,136289083,136499189,136545415,136597196,136664254],\"right\":[135928279,136288182,136482839,136542633,136594750,136634047,136743222],\"top\":[1075,1075,1075,1075,1075,1075,1075]}},\"id\":\"18425f5a-c1d2-4658-b6ae-35a1a6067ec0\",\"type\":\"ColumnDataSource\"}],\"root_ids\":[\"911ee397-bf3b-4a46-b42a-6f8b53ec2160\"]},\"title\":\"Bokeh Application\",\"version\":\"0.12.0\"}};\n",
       "            var render_items = [{\"docid\":\"1a671124-8d79-4ad0-8187-9d1da83c943c\",\"elementid\":\"fdaa01f5-a298-47a2-9298-49b521174754\",\"modelid\":\"911ee397-bf3b-4a46-b42a-6f8b53ec2160\",\"notebook_comms_target\":\"82178206-df33-4be8-a04e-656100aae50e\"}];\n",
       "            \n",
       "            Bokeh.embed.embed_items(docs_json, render_items);\n",
       "        });\n",
       "      },\n",
       "      function(Bokeh) {\n",
       "      }\n",
       "    ];\n",
       "  \n",
       "    function run_inline_js() {\n",
       "      for (var i = 0; i < inline_js.length; i++) {\n",
       "        inline_js[i](window.Bokeh);\n",
       "      }\n",
       "    }\n",
       "  \n",
       "    if (window._bokeh_is_loading === 0) {\n",
       "      console.log(\"Bokeh: BokehJS loaded, going straight to plotting\");\n",
       "      run_inline_js();\n",
       "    } else {\n",
       "      load_libs(js_urls, function() {\n",
       "        console.log(\"Bokeh: BokehJS plotting callback run at\", now());\n",
       "        run_inline_js();\n",
       "      });\n",
       "    }\n",
       "  }(this));\n",
       "</script>"
      ]
     },
     "metadata": {},
     "output_type": "display_data"
    },
    {
     "data": {
      "text/html": [
       "<p><code>&lt;Bokeh Notebook handle for <strong>In[12]</strong>&gt;</code></p>"
      ],
      "text/plain": [
       "<bokeh.io._CommsHandle at 0x7f85ec5c3d50>"
      ]
     },
     "execution_count": 12,
     "metadata": {},
     "output_type": "execute_result"
    }
   ],
   "source": [
    "di_7_59 = 353917\n",
    "plt_obj = dm.superset_yes_no([di_7_59, dm.di_5_1460], [di_14_43], min_match=0.001)\n",
    "plt = plt_obj.do_plot()\n",
    "am = plt_obj.plot_context.yes_allele_mask\n",
    "show(plt)"
   ]
  },
  {
   "cell_type": "code",
   "execution_count": 13,
   "metadata": {
    "collapsed": false
   },
   "outputs": [
    {
     "data": {
      "text/html": [
       "<table>\n",
       "<thead><tr><th style=\"text-align:center\">index</th><th style=\"text-align:center\">first</th><th style=\"text-align:center\">length</th><th style=\"text-align:center\">snps</th><th style=\"text-align:center\" colspan=2>alleles</th><th style=\"text-align:center\" colspan=2>matches</th><th style=\"text-align:center\" colspan=2>afr</th><th style=\"text-align:center\" colspan=2>afx</th><th style=\"text-align:center\" colspan=2>amr</th><th style=\"text-align:center\" colspan=2>eas</th><th style=\"text-align:center\" colspan=2>eur</th><th style=\"text-align:center\" colspan=2>sas</th><th style=\"text-align:center\" colspan=2>sax</th></tr></thead>\n",
       "<tr class=\"even\"><td style=\"text-align: right;\">354033</td><td style=\"text-align: right;\">136,588,031</td><td style=\"text-align: right;\">5,647</td><td style=\"text-align: right;\">7</td><td style=\"text-align: right;\">1760</td><td style=\"text-align: right;\">0.01</td><td style=\"text-align: right;\">10</td><td style=\"text-align: right;\">1.00</td><td style=\"text-align: right;\">0</td><td style=\"text-align: right;\">0.00</td><td style=\"text-align: right;\">0</td><td style=\"text-align: right;\">0.00</td><td style=\"text-align: right;\">3</td><td style=\"text-align: right;\">2.19</td><td style=\"text-align: right;\">0</td><td style=\"text-align: right;\">0.00</td><td style=\"text-align: right;\">4</td><td style=\"text-align: right;\">2.02</td><td style=\"text-align: right;\">1</td><td style=\"text-align: right;\">1.37</td><td style=\"text-align: right;\">2</td><td style=\"text-align: right;\">1.63</td></tr>\n",
       "<tr><td style=\"text-align: right;\">353244</td><td style=\"text-align: right;\">135,758,231</td><td style=\"text-align: right;\">618,284</td><td style=\"text-align: right;\">117</td><td style=\"text-align: right;\">1685</td><td style=\"text-align: right;\">0.01</td><td style=\"text-align: right;\">10</td><td style=\"text-align: right;\">1.00</td><td style=\"text-align: right;\">0</td><td style=\"text-align: right;\">0.00</td><td style=\"text-align: right;\">0</td><td style=\"text-align: right;\">0.00</td><td style=\"text-align: right;\">3</td><td style=\"text-align: right;\">2.19</td><td style=\"text-align: right;\">0</td><td style=\"text-align: right;\">0.00</td><td style=\"text-align: right;\">4</td><td style=\"text-align: right;\">2.02</td><td style=\"text-align: right;\">1</td><td style=\"text-align: right;\">1.37</td><td style=\"text-align: right;\">2</td><td style=\"text-align: right;\">1.63</td></tr>\n",
       "<tr class=\"even\"><td style=\"text-align: right;\">353478</td><td style=\"text-align: right;\">135,933,921</td><td style=\"text-align: right;\">434,642</td><td style=\"text-align: right;\">123</td><td style=\"text-align: right;\">1561</td><td style=\"text-align: right;\">0.01</td><td style=\"text-align: right;\">10</td><td style=\"text-align: right;\">1.00</td><td style=\"text-align: right;\">0</td><td style=\"text-align: right;\">0.00</td><td style=\"text-align: right;\">0</td><td style=\"text-align: right;\">0.00</td><td style=\"text-align: right;\">3</td><td style=\"text-align: right;\">2.19</td><td style=\"text-align: right;\">0</td><td style=\"text-align: right;\">0.00</td><td style=\"text-align: right;\">4</td><td style=\"text-align: right;\">2.02</td><td style=\"text-align: right;\">1</td><td style=\"text-align: right;\">1.37</td><td style=\"text-align: right;\">2</td><td style=\"text-align: right;\">1.63</td></tr>\n",
       "<tr><td style=\"text-align: right;\">354130</td><td style=\"text-align: right;\">136,653,925</td><td style=\"text-align: right;\">107,928</td><td style=\"text-align: right;\">24</td><td style=\"text-align: right;\">1504</td><td style=\"text-align: right;\">0.01</td><td style=\"text-align: right;\">10</td><td style=\"text-align: right;\">1.00</td><td style=\"text-align: right;\">0</td><td style=\"text-align: right;\">0.00</td><td style=\"text-align: right;\">0</td><td style=\"text-align: right;\">0.00</td><td style=\"text-align: right;\">3</td><td style=\"text-align: right;\">2.19</td><td style=\"text-align: right;\">0</td><td style=\"text-align: right;\">0.00</td><td style=\"text-align: right;\">4</td><td style=\"text-align: right;\">2.02</td><td style=\"text-align: right;\">1</td><td style=\"text-align: right;\">1.37</td><td style=\"text-align: right;\">2</td><td style=\"text-align: right;\">1.63</td></tr>\n",
       "<tr class=\"even\"><td style=\"text-align: right;\">353814</td><td style=\"text-align: right;\">136,406,646</td><td style=\"text-align: right;\">31,432</td><td style=\"text-align: right;\">5</td><td style=\"text-align: right;\">1460</td><td style=\"text-align: right;\">0.01</td><td style=\"text-align: right;\">10</td><td style=\"text-align: right;\">1.00</td><td style=\"text-align: right;\">0</td><td style=\"text-align: right;\">0.00</td><td style=\"text-align: right;\">0</td><td style=\"text-align: right;\">0.00</td><td style=\"text-align: right;\">3</td><td style=\"text-align: right;\">2.19</td><td style=\"text-align: right;\">0</td><td style=\"text-align: right;\">0.00</td><td style=\"text-align: right;\">4</td><td style=\"text-align: right;\">2.02</td><td style=\"text-align: right;\">1</td><td style=\"text-align: right;\">1.37</td><td style=\"text-align: right;\">2</td><td style=\"text-align: right;\">1.63</td></tr>\n",
       "<tr><td style=\"text-align: right;\">353925</td><td style=\"text-align: right;\">136,506,375</td><td style=\"text-align: right;\">32,564</td><td style=\"text-align: right;\">4</td><td style=\"text-align: right;\">1442</td><td style=\"text-align: right;\">0.01</td><td style=\"text-align: right;\">10</td><td style=\"text-align: right;\">1.00</td><td style=\"text-align: right;\">0</td><td style=\"text-align: right;\">0.00</td><td style=\"text-align: right;\">0</td><td style=\"text-align: right;\">0.00</td><td style=\"text-align: right;\">3</td><td style=\"text-align: right;\">2.19</td><td style=\"text-align: right;\">0</td><td style=\"text-align: right;\">0.00</td><td style=\"text-align: right;\">4</td><td style=\"text-align: right;\">2.02</td><td style=\"text-align: right;\">1</td><td style=\"text-align: right;\">1.37</td><td style=\"text-align: right;\">2</td><td style=\"text-align: right;\">1.63</td></tr>\n",
       "<tr class=\"even\"><td style=\"text-align: right;\">353958</td><td style=\"text-align: right;\">136,535,876</td><td style=\"text-align: right;\">19,014</td><td style=\"text-align: right;\">7</td><td style=\"text-align: right;\">1303</td><td style=\"text-align: right;\">0.01</td><td style=\"text-align: right;\">10</td><td style=\"text-align: right;\">1.00</td><td style=\"text-align: right;\">0</td><td style=\"text-align: right;\">0.00</td><td style=\"text-align: right;\">0</td><td style=\"text-align: right;\">0.00</td><td style=\"text-align: right;\">3</td><td style=\"text-align: right;\">2.19</td><td style=\"text-align: right;\">0</td><td style=\"text-align: right;\">0.00</td><td style=\"text-align: right;\">4</td><td style=\"text-align: right;\">2.02</td><td style=\"text-align: right;\">1</td><td style=\"text-align: right;\">1.37</td><td style=\"text-align: right;\">2</td><td style=\"text-align: right;\">1.63</td></tr>\n",
       "<tr><td style=\"text-align: right;\">354129</td><td style=\"text-align: right;\">136,652,953</td><td style=\"text-align: right;\">108,222</td><td style=\"text-align: right;\">5</td><td style=\"text-align: right;\">1296</td><td style=\"text-align: right;\">0.01</td><td style=\"text-align: right;\">10</td><td style=\"text-align: right;\">1.00</td><td style=\"text-align: right;\">0</td><td style=\"text-align: right;\">0.00</td><td style=\"text-align: right;\">0</td><td style=\"text-align: right;\">0.00</td><td style=\"text-align: right;\">3</td><td style=\"text-align: right;\">2.19</td><td style=\"text-align: right;\">0</td><td style=\"text-align: right;\">0.00</td><td style=\"text-align: right;\">4</td><td style=\"text-align: right;\">2.02</td><td style=\"text-align: right;\">1</td><td style=\"text-align: right;\">1.37</td><td style=\"text-align: right;\">2</td><td style=\"text-align: right;\">1.63</td></tr>\n",
       "<tr class=\"even\"><td style=\"text-align: right;\">353269</td><td style=\"text-align: right;\">135,766,890</td><td style=\"text-align: right;\">509,095</td><td style=\"text-align: right;\">62</td><td style=\"text-align: right;\">1265</td><td style=\"text-align: right;\">0.01</td><td style=\"text-align: right;\">10</td><td style=\"text-align: right;\">1.00</td><td style=\"text-align: right;\">0</td><td style=\"text-align: right;\">0.00</td><td style=\"text-align: right;\">0</td><td style=\"text-align: right;\">0.00</td><td style=\"text-align: right;\">3</td><td style=\"text-align: right;\">2.19</td><td style=\"text-align: right;\">0</td><td style=\"text-align: right;\">0.00</td><td style=\"text-align: right;\">4</td><td style=\"text-align: right;\">2.02</td><td style=\"text-align: right;\">1</td><td style=\"text-align: right;\">1.37</td><td style=\"text-align: right;\">2</td><td style=\"text-align: right;\">1.63</td></tr>\n",
       "<tr><td style=\"text-align: right;\">353919</td><td style=\"text-align: right;\">136,500,475</td><td style=\"text-align: right;\">42,085</td><td style=\"text-align: right;\">13</td><td style=\"text-align: right;\">1227</td><td style=\"text-align: right;\">0.01</td><td style=\"text-align: right;\">10</td><td style=\"text-align: right;\">1.00</td><td style=\"text-align: right;\">0</td><td style=\"text-align: right;\">0.00</td><td style=\"text-align: right;\">0</td><td style=\"text-align: right;\">0.00</td><td style=\"text-align: right;\">3</td><td style=\"text-align: right;\">2.19</td><td style=\"text-align: right;\">0</td><td style=\"text-align: right;\">0.00</td><td style=\"text-align: right;\">4</td><td style=\"text-align: right;\">2.02</td><td style=\"text-align: right;\">1</td><td style=\"text-align: right;\">1.37</td><td style=\"text-align: right;\">2</td><td style=\"text-align: right;\">1.63</td></tr>\n",
       "<tr class=\"even\"><td style=\"text-align: right;\">353790</td><td style=\"text-align: right;\">136,393,157</td><td style=\"text-align: right;\">48,253</td><td style=\"text-align: right;\">10</td><td style=\"text-align: right;\">1218</td><td style=\"text-align: right;\">0.01</td><td style=\"text-align: right;\">10</td><td style=\"text-align: right;\">1.00</td><td style=\"text-align: right;\">0</td><td style=\"text-align: right;\">0.00</td><td style=\"text-align: right;\">0</td><td style=\"text-align: right;\">0.00</td><td style=\"text-align: right;\">3</td><td style=\"text-align: right;\">2.19</td><td style=\"text-align: right;\">0</td><td style=\"text-align: right;\">0.00</td><td style=\"text-align: right;\">4</td><td style=\"text-align: right;\">2.02</td><td style=\"text-align: right;\">1</td><td style=\"text-align: right;\">1.37</td><td style=\"text-align: right;\">2</td><td style=\"text-align: right;\">1.63</td></tr>\n",
       "<tr><td style=\"text-align: right;\">353849</td><td style=\"text-align: right;\">136,447,707</td><td style=\"text-align: right;\">42,559</td><td style=\"text-align: right;\">4</td><td style=\"text-align: right;\">1149</td><td style=\"text-align: right;\">0.01</td><td style=\"text-align: right;\">10</td><td style=\"text-align: right;\">1.00</td><td style=\"text-align: right;\">0</td><td style=\"text-align: right;\">0.00</td><td style=\"text-align: right;\">0</td><td style=\"text-align: right;\">0.00</td><td style=\"text-align: right;\">3</td><td style=\"text-align: right;\">2.19</td><td style=\"text-align: right;\">0</td><td style=\"text-align: right;\">0.00</td><td style=\"text-align: right;\">4</td><td style=\"text-align: right;\">2.02</td><td style=\"text-align: right;\">1</td><td style=\"text-align: right;\">1.37</td><td style=\"text-align: right;\">2</td><td style=\"text-align: right;\">1.63</td></tr>\n",
       "<tr class=\"even\"><td style=\"text-align: right;\">354127</td><td style=\"text-align: right;\">136,652,491</td><td style=\"text-align: right;\">80,281</td><td style=\"text-align: right;\">6</td><td style=\"text-align: right;\">1114</td><td style=\"text-align: right;\">0.01</td><td style=\"text-align: right;\">10</td><td style=\"text-align: right;\">1.00</td><td style=\"text-align: right;\">0</td><td style=\"text-align: right;\">0.00</td><td style=\"text-align: right;\">0</td><td style=\"text-align: right;\">0.00</td><td style=\"text-align: right;\">3</td><td style=\"text-align: right;\">2.19</td><td style=\"text-align: right;\">0</td><td style=\"text-align: right;\">0.00</td><td style=\"text-align: right;\">4</td><td style=\"text-align: right;\">2.02</td><td style=\"text-align: right;\">1</td><td style=\"text-align: right;\">1.37</td><td style=\"text-align: right;\">2</td><td style=\"text-align: right;\">1.63</td></tr>\n",
       "<tr><td style=\"text-align: right;\">353504</td><td style=\"text-align: right;\">135,964,764</td><td style=\"text-align: right;\">136,368</td><td style=\"text-align: right;\">6</td><td style=\"text-align: right;\">946</td><td style=\"text-align: right;\">0.01</td><td style=\"text-align: right;\">10</td><td style=\"text-align: right;\">1.00</td><td style=\"text-align: right;\">0</td><td style=\"text-align: right;\">0.00</td><td style=\"text-align: right;\">0</td><td style=\"text-align: right;\">0.00</td><td style=\"text-align: right;\">3</td><td style=\"text-align: right;\">2.19</td><td style=\"text-align: right;\">0</td><td style=\"text-align: right;\">0.00</td><td style=\"text-align: right;\">4</td><td style=\"text-align: right;\">2.02</td><td style=\"text-align: right;\">1</td><td style=\"text-align: right;\">1.37</td><td style=\"text-align: right;\">2</td><td style=\"text-align: right;\">1.63</td></tr>\n",
       "<tr class=\"even\"><td style=\"text-align: right;\">353807</td><td style=\"text-align: right;\">136,403,994</td><td style=\"text-align: right;\">81,102</td><td style=\"text-align: right;\">13</td><td style=\"text-align: right;\">911</td><td style=\"text-align: right;\">0.01</td><td style=\"text-align: right;\">10</td><td style=\"text-align: right;\">1.00</td><td style=\"text-align: right;\">0</td><td style=\"text-align: right;\">0.00</td><td style=\"text-align: right;\">0</td><td style=\"text-align: right;\">0.00</td><td style=\"text-align: right;\">3</td><td style=\"text-align: right;\">2.19</td><td style=\"text-align: right;\">0</td><td style=\"text-align: right;\">0.00</td><td style=\"text-align: right;\">4</td><td style=\"text-align: right;\">2.02</td><td style=\"text-align: right;\">1</td><td style=\"text-align: right;\">1.37</td><td style=\"text-align: right;\">2</td><td style=\"text-align: right;\">1.63</td></tr>\n",
       "<tr><td style=\"text-align: right;\">353902</td><td style=\"text-align: right;\">136,494,985</td><td style=\"text-align: right;\">278,653</td><td style=\"text-align: right;\">81</td><td style=\"text-align: right;\">857</td><td style=\"text-align: right;\">0.01</td><td style=\"text-align: right;\">10</td><td style=\"text-align: right;\">1.00</td><td style=\"text-align: right;\">0</td><td style=\"text-align: right;\">0.00</td><td style=\"text-align: right;\">0</td><td style=\"text-align: right;\">0.00</td><td style=\"text-align: right;\">3</td><td style=\"text-align: right;\">2.19</td><td style=\"text-align: right;\">0</td><td style=\"text-align: right;\">0.00</td><td style=\"text-align: right;\">4</td><td style=\"text-align: right;\">2.02</td><td style=\"text-align: right;\">1</td><td style=\"text-align: right;\">1.37</td><td style=\"text-align: right;\">2</td><td style=\"text-align: right;\">1.63</td></tr>\n",
       "<tr class=\"even\"><td style=\"text-align: right;\">353248</td><td style=\"text-align: right;\">135,759,095</td><td style=\"text-align: right;\">628,204</td><td style=\"text-align: right;\">193</td><td style=\"text-align: right;\">843</td><td style=\"text-align: right;\">0.01</td><td style=\"text-align: right;\">10</td><td style=\"text-align: right;\">1.00</td><td style=\"text-align: right;\">0</td><td style=\"text-align: right;\">0.00</td><td style=\"text-align: right;\">0</td><td style=\"text-align: right;\">0.00</td><td style=\"text-align: right;\">3</td><td style=\"text-align: right;\">2.19</td><td style=\"text-align: right;\">0</td><td style=\"text-align: right;\">0.00</td><td style=\"text-align: right;\">4</td><td style=\"text-align: right;\">2.02</td><td style=\"text-align: right;\">1</td><td style=\"text-align: right;\">1.37</td><td style=\"text-align: right;\">2</td><td style=\"text-align: right;\">1.63</td></tr>\n",
       "<tr><td style=\"text-align: right;\">353384</td><td style=\"text-align: right;\">135,839,805</td><td style=\"text-align: right;\">84,662</td><td style=\"text-align: right;\">4</td><td style=\"text-align: right;\">815</td><td style=\"text-align: right;\">0.01</td><td style=\"text-align: right;\">10</td><td style=\"text-align: right;\">1.00</td><td style=\"text-align: right;\">0</td><td style=\"text-align: right;\">0.00</td><td style=\"text-align: right;\">0</td><td style=\"text-align: right;\">0.00</td><td style=\"text-align: right;\">3</td><td style=\"text-align: right;\">2.19</td><td style=\"text-align: right;\">0</td><td style=\"text-align: right;\">0.00</td><td style=\"text-align: right;\">4</td><td style=\"text-align: right;\">2.02</td><td style=\"text-align: right;\">1</td><td style=\"text-align: right;\">1.37</td><td style=\"text-align: right;\">2</td><td style=\"text-align: right;\">1.63</td></tr>\n",
       "<tr class=\"even\"><td style=\"text-align: right;\">353521</td><td style=\"text-align: right;\">135,989,333</td><td style=\"text-align: right;\">275,298</td><td style=\"text-align: right;\">6</td><td style=\"text-align: right;\">713</td><td style=\"text-align: right;\">0.01</td><td style=\"text-align: right;\">10</td><td style=\"text-align: right;\">1.00</td><td style=\"text-align: right;\">0</td><td style=\"text-align: right;\">0.00</td><td style=\"text-align: right;\">0</td><td style=\"text-align: right;\">0.00</td><td style=\"text-align: right;\">3</td><td style=\"text-align: right;\">2.19</td><td style=\"text-align: right;\">0</td><td style=\"text-align: right;\">0.00</td><td style=\"text-align: right;\">4</td><td style=\"text-align: right;\">2.02</td><td style=\"text-align: right;\">1</td><td style=\"text-align: right;\">1.37</td><td style=\"text-align: right;\">2</td><td style=\"text-align: right;\">1.63</td></tr>\n",
       "<tr><td style=\"text-align: right;\">353358</td><td style=\"text-align: right;\">135,818,487</td><td style=\"text-align: right;\">471,078</td><td style=\"text-align: right;\">8</td><td style=\"text-align: right;\">267</td><td style=\"text-align: right;\">0.04</td><td style=\"text-align: right;\">10</td><td style=\"text-align: right;\">1.00</td><td style=\"text-align: right;\">0</td><td style=\"text-align: right;\">0.00</td><td style=\"text-align: right;\">0</td><td style=\"text-align: right;\">0.00</td><td style=\"text-align: right;\">3</td><td style=\"text-align: right;\">2.19</td><td style=\"text-align: right;\">0</td><td style=\"text-align: right;\">0.00</td><td style=\"text-align: right;\">4</td><td style=\"text-align: right;\">2.02</td><td style=\"text-align: right;\">1</td><td style=\"text-align: right;\">1.37</td><td style=\"text-align: right;\">2</td><td style=\"text-align: right;\">1.63</td></tr>\n",
       "<tr class=\"even\"><td style=\"text-align: right;\">353917</td><td style=\"text-align: right;\">136,499,236</td><td style=\"text-align: right;\">176,092</td><td style=\"text-align: right;\">7</td><td style=\"text-align: right;\">59</td><td style=\"text-align: right;\">0.17</td><td style=\"text-align: right;\">10</td><td style=\"text-align: right;\">1.00</td><td style=\"text-align: right;\">0</td><td style=\"text-align: right;\">0.00</td><td style=\"text-align: right;\">0</td><td style=\"text-align: right;\">0.00</td><td style=\"text-align: right;\">3</td><td style=\"text-align: right;\">2.19</td><td style=\"text-align: right;\">0</td><td style=\"text-align: right;\">0.00</td><td style=\"text-align: right;\">4</td><td style=\"text-align: right;\">2.02</td><td style=\"text-align: right;\">1</td><td style=\"text-align: right;\">1.37</td><td style=\"text-align: right;\">2</td><td style=\"text-align: right;\">1.63</td></tr>\n",
       "<tr><td style=\"text-align: right;\">353468</td><td style=\"text-align: right;\">135,921,205</td><td style=\"text-align: right;\">438,735</td><td style=\"text-align: right;\">5</td><td style=\"text-align: right;\">26</td><td style=\"text-align: right;\">0.35</td><td style=\"text-align: right;\">9</td><td style=\"text-align: right;\">0.90</td><td style=\"text-align: right;\">0</td><td style=\"text-align: right;\">0.00</td><td style=\"text-align: right;\">0</td><td style=\"text-align: right;\">0.00</td><td style=\"text-align: right;\">2</td><td style=\"text-align: right;\">1.62</td><td style=\"text-align: right;\">0</td><td style=\"text-align: right;\">0.00</td><td style=\"text-align: right;\">4</td><td style=\"text-align: right;\">2.24</td><td style=\"text-align: right;\">1</td><td style=\"text-align: right;\">1.52</td><td style=\"text-align: right;\">2</td><td style=\"text-align: right;\">1.81</td></tr>\n",
       "</table>"
      ],
      "text/plain": [
       "<IPython.core.display.HTML object>"
      ]
     },
     "execution_count": 13,
     "metadata": {},
     "output_type": "execute_result"
    }
   ],
   "source": [
    "HTML(plt_obj.get_html())"
   ]
  },
  {
   "cell_type": "code",
   "execution_count": 14,
   "metadata": {
    "collapsed": false
   },
   "outputs": [
    {
     "data": {
      "text/html": [
       "\n",
       "\n",
       "    <div class=\"bk-root\">\n",
       "        <div class=\"plotdiv\" id=\"9f79a9d2-664d-4360-8d45-d8e9a8ec4750\"></div>\n",
       "    </div>\n",
       "<script type=\"text/javascript\">\n",
       "  \n",
       "  (function(global) {\n",
       "    function now() {\n",
       "      return new Date();\n",
       "    }\n",
       "  \n",
       "    if (typeof (window._bokeh_onload_callbacks) === \"undefined\") {\n",
       "      window._bokeh_onload_callbacks = [];\n",
       "    }\n",
       "  \n",
       "    function run_callbacks() {\n",
       "      window._bokeh_onload_callbacks.forEach(function(callback) { callback() });\n",
       "      delete window._bokeh_onload_callbacks\n",
       "      console.info(\"Bokeh: all callbacks have finished\");\n",
       "    }\n",
       "  \n",
       "    function load_libs(js_urls, callback) {\n",
       "      window._bokeh_onload_callbacks.push(callback);\n",
       "      if (window._bokeh_is_loading > 0) {\n",
       "        console.log(\"Bokeh: BokehJS is being loaded, scheduling callback at\", now());\n",
       "        return null;\n",
       "      }\n",
       "      if (js_urls == null || js_urls.length === 0) {\n",
       "        run_callbacks();\n",
       "        return null;\n",
       "      }\n",
       "      console.log(\"Bokeh: BokehJS not loaded, scheduling load and callback at\", now());\n",
       "      window._bokeh_is_loading = js_urls.length;\n",
       "      for (var i = 0; i < js_urls.length; i++) {\n",
       "        var url = js_urls[i];\n",
       "        var s = document.createElement('script');\n",
       "        s.src = url;\n",
       "        s.async = false;\n",
       "        s.onreadystatechange = s.onload = function() {\n",
       "          window._bokeh_is_loading--;\n",
       "          if (window._bokeh_is_loading === 0) {\n",
       "            console.log(\"Bokeh: all BokehJS libraries loaded\");\n",
       "            run_callbacks()\n",
       "          }\n",
       "        };\n",
       "        s.onerror = function() {\n",
       "          console.warn(\"failed to load library \" + url);\n",
       "        };\n",
       "        console.log(\"Bokeh: injecting script tag for BokehJS library: \", url);\n",
       "        document.getElementsByTagName(\"head\")[0].appendChild(s);\n",
       "      }\n",
       "    };var element = document.getElementById(\"9f79a9d2-664d-4360-8d45-d8e9a8ec4750\");\n",
       "    if (element == null) {\n",
       "      console.log(\"Bokeh: ERROR: autoload.js configured with elementid '9f79a9d2-664d-4360-8d45-d8e9a8ec4750' but no matching script tag was found. \")\n",
       "      return false;\n",
       "    }\n",
       "  \n",
       "    var js_urls = [];\n",
       "  \n",
       "    var inline_js = [\n",
       "      function(Bokeh) {\n",
       "        Bokeh.$(function() {\n",
       "            var docs_json = {\"a1def5f7-7b85-43b8-8db3-287312e65939\":{\"roots\":{\"references\":[{\"attributes\":{\"bottom_units\":\"screen\",\"fill_alpha\":{\"value\":0.5},\"fill_color\":{\"value\":\"lightgrey\"},\"left_units\":\"screen\",\"level\":\"overlay\",\"line_alpha\":{\"value\":1.0},\"line_color\":{\"value\":\"black\"},\"line_dash\":[4,4],\"line_width\":{\"value\":2},\"plot\":null,\"render_mode\":\"css\",\"right_units\":\"screen\",\"top_units\":\"screen\"},\"id\":\"96a754fc-91e9-4df1-9d6e-cc23fb108817\",\"type\":\"BoxAnnotation\"},{\"attributes\":{\"callback\":null,\"column_names\":[\"y\",\"x\",\"vals\"],\"data\":{\"vals\":[\"RAB3GAP1\",\"ZRANB3\",\"R3HDM1\",\"UBXN4\",\"LCT\",\"MCM6\",\"DARS\"],\"x\":[135869057.0,136122878.0,136385961.0,136520911.0,136570082.5,136615621.5,136703738.0],\"y\":[660.0,660.0,660.0,660.0,660.0,660.0,660.0]}},\"id\":\"5f7802a4-c989-4800-9cbf-a51700b12dc6\",\"type\":\"ColumnDataSource\"},{\"attributes\":{\"callback\":null,\"column_names\":[\"xs\",\"ys\",\"line_color\"],\"data\":{\"line_color\":[\"black\",\"black\",\"black\",\"black\",\"black\",\"black\",\"black\",\"black\",\"black\",\"black\",\"black\",\"black\",\"black\",\"black\",\"black\",\"black\",\"black\",\"black\",\"black\",\"black\",\"black\",\"black\",\"black\",\"black\",\"black\",\"black\",\"black\",\"black\",\"black\",\"black\",\"black\",\"black\",\"black\",\"black\",\"black\",\"black\",\"black\",\"black\",\"black\",\"black\",\"black\",\"black\",\"black\",\"black\",\"black\",\"black\",\"black\",\"black\",\"black\",\"black\",\"black\",\"black\",\"black\",\"black\",\"black\",\"black\",\"black\",\"black\",\"black\",\"black\",\"black\",\"black\",\"black\",\"black\",\"black\",\"black\",\"black\",\"black\",\"black\",\"black\",\"black\",\"black\",\"black\",\"black\",\"black\",\"black\",\"black\",\"black\",\"black\",\"black\",\"black\",\"black\",\"black\",\"black\",\"black\",\"black\",\"black\",\"black\",\"black\",\"black\",\"black\",\"black\",\"black\",\"black\",\"black\",\"black\",\"black\",\"black\",\"black\",\"black\",\"black\",\"black\",\"black\",\"black\",\"black\",\"black\",\"black\",\"black\",\"black\",\"black\",\"black\",\"black\",\"black\",\"black\",\"black\",\"black\",\"black\",\"black\",\"black\",\"black\",\"black\",\"black\",\"black\",\"black\",\"black\",\"black\",\"black\",\"black\",\"black\",\"black\",\"black\",\"black\",\"black\",\"black\",\"black\",\"black\",\"black\",\"black\",\"black\",\"black\",\"black\",\"black\",\"black\",\"black\",\"black\",\"black\",\"black\",\"black\",\"black\",\"black\",\"black\",\"black\",\"black\",\"black\",\"black\",\"black\",\"black\",\"black\",\"black\",\"black\",\"black\",\"black\",\"black\",\"black\",\"black\",\"black\",\"black\",\"black\",\"black\",\"black\",\"black\",\"black\",\"black\",\"black\",\"black\",\"black\",\"black\",\"black\",\"black\",\"black\",\"black\",\"black\",\"black\",\"black\",\"black\",\"black\",\"black\",\"black\",\"black\",\"black\",\"black\",\"black\",\"black\",\"black\",\"black\",\"black\",\"black\",\"black\",\"black\",\"black\",\"black\",\"black\",\"black\",\"black\",\"black\",\"black\",\"black\",\"black\",\"black\",\"black\",\"black\",\"black\",\"black\"],\"xs\":[[135757320,135757320],[135761078,135761078],[135761271,135761271],[135762344,135762344],[135762980,135762980],[135763280,135763280],[135768815,135768815],[135769093,135769093],[135769127,135769127],[135770940,135770940],[135770951,135770951],[135776728,135776728],[135777504,135777504],[135829592,135829592],[135893372,135893372],[135952405,135952405],[135989721,135989721],[136136056,136136056],[136313639,136313639],[136401418,136401418],[136407078,136407078],[136420908,136420908],[135959272,135959272],[136149550,136149550],[136164840,136164840],[136313885,136313885],[136375855,136375855],[136393658,136393658],[136396300,136396300],[136401843,136401843],[136407445,136407445],[136411879,136411879],[136412270,136412270],[136413244,136413244],[136413847,136413847],[136415217,136415217],[136416533,136416533],[136420726,136420726],[136429857,136429857],[136433740,136433740],[136436317,136436317],[136437615,136437615],[136438517,136438517],[136440300,136440300],[136443900,136443900],[136444185,136444185],[136444338,136444338],[136449254,136449254],[136451676,136451676],[136459227,136459227],[136463117,136463117],[136463454,136463454],[136467119,136467119],[136468238,136468238],[136470219,136470219],[136483355,136483355],[136485276,136485276],[136486340,136486340],[136486342,136486342],[136494985,136494985],[136497199,136497199],[136511817,136511817],[136513670,136513670],[136515458,136515458],[136516970,136516970],[136525309,136525309],[136528034,136528034],[136532225,136532225],[136535235,136535235],[136536095,136536095],[136544423,136544423],[136546927,136546927],[136552188,136552188],[136552517,136552517],[136555525,136555525],[136556480,136556480],[136560464,136560464],[136572285,136572285],[136582694,136582694],[136582809,136582809],[136584538,136584538],[136585323,136585323],[136586825,136586825],[136600662,136600662],[136612036,136612036],[136618178,136618178],[136618507,136618507],[136622543,136622543],[136624947,136624947],[136625113,136625113],[136626078,136626078],[136628121,136628121],[136632300,136632300],[136633962,136633962],[136635343,136635343],[136638113,136638113],[136640101,136640101],[136641593,136641593],[136646582,136646582],[136648077,136648077],[136648883,136648883],[136652045,136652045],[136653848,136653848],[136656094,136656094],[136661110,136661110],[136663110,136663110],[136663605,136663605],[136665162,136665162],[136665711,136665711],[136668123,136668123],[136670419,136670419],[136672680,136672680],[136673546,136673546],[136684632,136684632],[136686114,136686114],[136690425,136690425],[136690783,136690783],[136692893,136692893],[136694905,136694905],[136695694,136695694],[136695705,136695705],[136696608,136696608],[136697372,136697372],[136697468,136697468],[136700024,136700024],[136701539,136701539],[136702118,136702118],[136707480,136707480],[136710554,136710554],[136714178,136714178],[136719173,136719173],[136725459,136725459],[136734569,136734569],[136744678,136744678],[136748779,136748779],[136751488,136751488],[136754183,136754183],[136763242,136763242],[136765074,136765074],[136773638,136773638],[136499236,136499236],[136525856,136525856],[136554477,136554477],[136577346,136577346],[136604166,136604166],[136655568,136655568],[136675328,136675328],[136500475,136500475],[136501509,136501509],[136504101,136504101],[136509868,136509868],[136520043,136520043],[136527120,136527120],[136530379,136530379],[136530443,136530443],[136539330,136539330],[136539670,136539670],[136540083,136540083],[136542559,136542559],[136542560,136542560],[136506375,136506375],[136506927,136506927],[136510012,136510012],[136538939,136538939],[136535876,136535876],[136544651,136544651],[136545844,136545844],[136552526,136552526],[136553022,136553022],[136554797,136554797],[136554890,136554890],[136588031,136588031],[136589278,136589278],[136589379,136589379],[136589741,136589741],[136590746,136590746],[136593553,136593553],[136593678,136593678],[136652491,136652491],[136652524,136652524],[136661150,136661150],[136669264,136669264],[136726567,136726567],[136732772,136732772],[136652953,136652953],[136655582,136655582],[136674028,136674028],[136684940,136684940],[136761175,136761175],[136653925,136653925],[136654833,136654833],[136656534,136656534],[136656536,136656536],[136657252,136657252],[136667301,136667301],[136667487,136667487],[136672775,136672775],[136680534,136680534],[136686393,136686393],[136688749,136688749],[136692553,136692553],[136697371,136697371],[136708787,136708787],[136710372,136710372],[136711064,136711064],[136715324,136715324],[136723504,136723504],[136737460,136737460],[136743143,136743143],[136746224,136746224],[136751842,136751842],[136759379,136759379],[136761853,136761853]],\"ys\":[[550,596],[550,596],[550,596],[550,596],[550,596],[550,596],[550,596],[550,596],[550,596],[550,596],[550,596],[550,596],[550,596],[150,191],[150,191],[150,191],[150,191],[150,191],[150,191],[150,191],[150,191],[150,191],[50,88],[50,88],[50,88],[50,88],[50,88],[450,494],[450,494],[450,494],[450,494],[450,494],[450,494],[450,494],[450,494],[450,494],[450,494],[450,494],[450,494],[450,494],[450,494],[450,494],[450,494],[450,494],[450,494],[450,494],[450,494],[450,494],[450,494],[450,494],[450,494],[450,494],[450,494],[450,494],[450,494],[450,494],[450,494],[450,494],[450,494],[150,190],[150,190],[150,190],[150,190],[150,190],[150,190],[150,190],[150,190],[150,190],[150,190],[150,190],[150,190],[150,190],[150,190],[150,190],[150,190],[150,190],[150,190],[150,190],[150,190],[150,190],[150,190],[150,190],[150,190],[150,190],[150,190],[150,190],[150,190],[150,190],[150,190],[150,190],[150,190],[150,190],[150,190],[150,190],[150,190],[150,190],[150,190],[150,190],[150,190],[150,190],[150,190],[150,190],[150,190],[150,190],[150,190],[150,190],[150,190],[150,190],[150,190],[150,190],[150,190],[150,190],[150,190],[150,190],[150,190],[150,190],[150,190],[150,190],[150,190],[150,190],[150,190],[150,190],[150,190],[150,190],[150,190],[150,190],[150,190],[150,190],[150,190],[150,190],[150,190],[150,190],[150,190],[150,190],[150,190],[150,190],[150,190],[150,190],[150,190],[150,190],[50,67],[50,67],[50,67],[50,67],[50,67],[50,67],[50,67],[250,293],[250,293],[250,293],[250,293],[250,293],[250,293],[250,293],[250,293],[250,293],[250,293],[250,293],[250,293],[250,293],[450,494],[450,494],[450,494],[450,494],[350,394],[350,394],[350,394],[350,394],[350,394],[350,394],[350,394],[550,596],[550,596],[550,596],[550,596],[550,596],[550,596],[550,596],[250,292],[250,292],[250,292],[250,292],[250,292],[250,292],[350,394],[350,394],[350,394],[350,394],[350,394],[550,595],[550,595],[550,595],[550,595],[550,595],[550,595],[550,595],[550,595],[550,595],[550,595],[550,595],[550,595],[550,595],[550,595],[550,595],[550,595],[550,595],[550,595],[550,595],[550,595],[550,595],[550,595],[550,595],[550,595]]}},\"id\":\"0a0e53f6-615f-4749-85ac-073ded5228f2\",\"type\":\"ColumnDataSource\"},{\"attributes\":{\"callback\":null,\"end\":136786630,\"start\":135757320},\"id\":\"496ead7f-8ce0-47da-92d2-06a381d68460\",\"type\":\"Range1d\"},{\"attributes\":{\"bottom\":{\"field\":\"bottom\"},\"fill_alpha\":{\"value\":0.1},\"fill_color\":{\"value\":\"#1f77b4\"},\"left\":{\"field\":\"left\"},\"line_alpha\":{\"value\":0.1},\"line_color\":{\"value\":\"#1f77b4\"},\"right\":{\"field\":\"right\"},\"top\":{\"field\":\"top\"}},\"id\":\"6b05bec1-b3d4-4727-afda-e74893a71c31\",\"type\":\"Quad\"},{\"attributes\":{\"callback\":null,\"column_names\":[\"right\",\"bottom\",\"top\",\"left\",\"fill_color\"],\"data\":{\"bottom\":[550,150,50,450,150,50,250,450,350,550,250,350,550],\"fill_color\":[\"#808080\",\"#c4c461\",\"#ffff00\",\"#c4c461\",\"#808080\",\"#61c461\",\"#808080\",\"#808080\",\"#808080\",\"#c46161\",\"#808080\",\"#808080\",\"#808080\"],\"left\":[135757320,135829592,135959272,136393658,136494985,136499236,136500475,136506375,136535876,136588031,136652491,136652953,136653925],\"right\":[135777504,136420908,136375855,136486342,136773638,136675328,136542560,136538939,136554890,136593678,136732772,136761175,136761853],\"top\":[596,191,88,494,190,67,293,494,394,596,292,394,595]}},\"id\":\"fe794c3a-68ba-451d-89b6-467a25f55b9b\",\"type\":\"ColumnDataSource\"},{\"attributes\":{\"formatter\":{\"id\":\"327e480a-44fa-442b-b13d-271053e72989\",\"type\":\"BasicTickFormatter\"},\"plot\":{\"id\":\"87d49b5f-3ac3-48a1-b94f-2732ae3b68aa\",\"subtype\":\"Figure\",\"type\":\"Plot\"},\"ticker\":{\"id\":\"00286e1f-c576-4f2f-a266-7942051dab34\",\"type\":\"BasicTicker\"}},\"id\":\"960cab8f-4f64-4e3b-94fa-7c4aac7ed7ea\",\"type\":\"LinearAxis\"},{\"attributes\":{\"line_alpha\":{\"value\":0.1},\"line_color\":{\"value\":\"#1f77b4\"},\"xs\":{\"field\":\"xs\"},\"ys\":{\"field\":\"ys\"}},\"id\":\"d0b51841-e017-4687-8ed5-1a7ca2ec2f0b\",\"type\":\"MultiLine\"},{\"attributes\":{\"dimension\":1,\"plot\":{\"id\":\"87d49b5f-3ac3-48a1-b94f-2732ae3b68aa\",\"subtype\":\"Figure\",\"type\":\"Plot\"},\"ticker\":{\"id\":\"37ff7c1e-d586-4e39-a776-4a475cca9135\",\"type\":\"BasicTicker\"}},\"id\":\"4fde9451-1651-4aed-afa4-0f38aa0c1b97\",\"type\":\"Grid\"},{\"attributes\":{\"plot\":{\"id\":\"87d49b5f-3ac3-48a1-b94f-2732ae3b68aa\",\"subtype\":\"Figure\",\"type\":\"Plot\"},\"ticker\":{\"id\":\"00286e1f-c576-4f2f-a266-7942051dab34\",\"type\":\"BasicTicker\"}},\"id\":\"f5593f7a-3053-4e65-b73b-fcc2d2366510\",\"type\":\"Grid\"},{\"attributes\":{\"data_source\":{\"id\":\"0a0e53f6-615f-4749-85ac-073ded5228f2\",\"type\":\"ColumnDataSource\"},\"glyph\":{\"id\":\"034c3f4a-9fef-4b32-a3d3-1c44b2d75669\",\"type\":\"MultiLine\"},\"hover_glyph\":null,\"nonselection_glyph\":{\"id\":\"d0b51841-e017-4687-8ed5-1a7ca2ec2f0b\",\"type\":\"MultiLine\"},\"selection_glyph\":null},\"id\":\"12debad2-0f3f-40ef-a3a7-3355ef28df50\",\"type\":\"GlyphRenderer\"},{\"attributes\":{\"plot\":{\"id\":\"87d49b5f-3ac3-48a1-b94f-2732ae3b68aa\",\"subtype\":\"Figure\",\"type\":\"Plot\"}},\"id\":\"67976f71-aab5-4d6f-80f1-ef69f9eecc18\",\"type\":\"HelpTool\"},{\"attributes\":{\"bottom\":{\"field\":\"bottom\"},\"fill_color\":{\"value\":\"white\"},\"left\":{\"field\":\"left\"},\"right\":{\"field\":\"right\"},\"top\":{\"field\":\"top\"}},\"id\":\"cfe80686-030d-4bf5-8c2a-aa0659657d3f\",\"type\":\"Quad\"},{\"attributes\":{},\"id\":\"327e480a-44fa-442b-b13d-271053e72989\",\"type\":\"BasicTickFormatter\"},{\"attributes\":{\"below\":[{\"id\":\"960cab8f-4f64-4e3b-94fa-7c4aac7ed7ea\",\"type\":\"LinearAxis\"}],\"left\":[{\"id\":\"59b6d278-d776-44ec-a560-529f74d8da17\",\"type\":\"LinearAxis\"}],\"plot_height\":700,\"plot_width\":900,\"renderers\":[{\"id\":\"960cab8f-4f64-4e3b-94fa-7c4aac7ed7ea\",\"type\":\"LinearAxis\"},{\"id\":\"f5593f7a-3053-4e65-b73b-fcc2d2366510\",\"type\":\"Grid\"},{\"id\":\"59b6d278-d776-44ec-a560-529f74d8da17\",\"type\":\"LinearAxis\"},{\"id\":\"4fde9451-1651-4aed-afa4-0f38aa0c1b97\",\"type\":\"Grid\"},{\"id\":\"96a754fc-91e9-4df1-9d6e-cc23fb108817\",\"type\":\"BoxAnnotation\"},{\"id\":\"8253d72c-7493-4bf8-b845-0d086a07c9a5\",\"type\":\"GlyphRenderer\"},{\"id\":\"12debad2-0f3f-40ef-a3a7-3355ef28df50\",\"type\":\"GlyphRenderer\"},{\"id\":\"8d8327ef-e168-4e56-a5ad-e3a31190593d\",\"type\":\"LabelSet\"},{\"id\":\"f2bfb65f-f0d2-4883-81c2-d5175657ce32\",\"type\":\"GlyphRenderer\"},{\"id\":\"09ee751d-1279-4869-829d-3077b294e147\",\"type\":\"LabelSet\"}],\"title\":{\"id\":\"0961d6cb-3b9a-47b3-aa72-75b70567b931\",\"type\":\"Title\"},\"tool_events\":{\"id\":\"828d7cf5-cc99-4fcc-8702-00ca171b6bc7\",\"type\":\"ToolEvents\"},\"toolbar\":{\"id\":\"2c917236-1a5c-4888-b777-8c3eb2404bc1\",\"type\":\"Toolbar\"},\"toolbar_location\":null,\"x_range\":{\"id\":\"496ead7f-8ce0-47da-92d2-06a381d68460\",\"type\":\"Range1d\"},\"y_range\":{\"id\":\"62f4835b-6b44-4252-aa28-f5e3faeeb16f\",\"type\":\"Range1d\"}},\"id\":\"87d49b5f-3ac3-48a1-b94f-2732ae3b68aa\",\"subtype\":\"Figure\",\"type\":\"Plot\"},{\"attributes\":{\"plot\":null,\"text\":null},\"id\":\"0961d6cb-3b9a-47b3-aa72-75b70567b931\",\"type\":\"Title\"},{\"attributes\":{\"overlay\":{\"id\":\"96a754fc-91e9-4df1-9d6e-cc23fb108817\",\"type\":\"BoxAnnotation\"},\"plot\":{\"id\":\"87d49b5f-3ac3-48a1-b94f-2732ae3b68aa\",\"subtype\":\"Figure\",\"type\":\"Plot\"}},\"id\":\"d1e7cea0-c767-4b87-927e-ab8132a2d1d5\",\"type\":\"BoxZoomTool\"},{\"attributes\":{\"formatter\":{\"id\":\"9d30b4de-574c-45d4-b0c0-684efc7477c8\",\"type\":\"BasicTickFormatter\"},\"plot\":{\"id\":\"87d49b5f-3ac3-48a1-b94f-2732ae3b68aa\",\"subtype\":\"Figure\",\"type\":\"Plot\"},\"ticker\":{\"id\":\"37ff7c1e-d586-4e39-a776-4a475cca9135\",\"type\":\"BasicTicker\"},\"visible\":null},\"id\":\"59b6d278-d776-44ec-a560-529f74d8da17\",\"type\":\"LinearAxis\"},{\"attributes\":{\"plot\":{\"id\":\"87d49b5f-3ac3-48a1-b94f-2732ae3b68aa\",\"subtype\":\"Figure\",\"type\":\"Plot\"}},\"id\":\"9c1bbe41-d1c2-44ec-8407-98b4c94c1358\",\"type\":\"PanTool\"},{\"attributes\":{},\"id\":\"00286e1f-c576-4f2f-a266-7942051dab34\",\"type\":\"BasicTicker\"},{\"attributes\":{\"callback\":null,\"end\":700},\"id\":\"62f4835b-6b44-4252-aa28-f5e3faeeb16f\",\"type\":\"Range1d\"},{\"attributes\":{\"bottom\":{\"field\":\"bottom\"},\"fill_alpha\":{\"value\":0.1},\"fill_color\":{\"value\":\"#1f77b4\"},\"left\":{\"field\":\"left\"},\"line_alpha\":{\"value\":0.1},\"line_color\":{\"value\":\"#1f77b4\"},\"right\":{\"field\":\"right\"},\"top\":{\"field\":\"top\"}},\"id\":\"aa9d0144-6a30-4a8e-945d-68e50328bb1a\",\"type\":\"Quad\"},{\"attributes\":{\"callback\":null,\"column_names\":[\"right\",\"bottom\",\"top\",\"left\"],\"data\":{\"bottom\":[645,645,645,645,645,645,645],\"left\":[135809835,135957574,136289083,136499189,136545415,136597196,136664254],\"right\":[135928279,136288182,136482839,136542633,136594750,136634047,136743222],\"top\":[675,675,675,675,675,675,675]}},\"id\":\"9c1c6350-f956-4c97-b09f-b1f57e3578db\",\"type\":\"ColumnDataSource\"},{\"attributes\":{\"callback\":null,\"column_names\":[\"y\",\"x\",\"vals\"],\"data\":{\"vals\":[\"13_1696\",\"9_944\",\"5_684\",\"32_1361\",\"81_857\",\"7_59\",\"13_1227\",\"4_1442\",\"7_1303\",\"7_1760\",\"6_1114\",\"5_1296\",\"24_1504\"],\"x\":[135757320,135829592,135959272,136393658,136494985,136499236,136500475,136506375,136535876,136588031,136652491,136652953,136653925],\"y\":[601.0,196.0,93.0,499.0,195.0,72.0,298.0,499.0,399.0,601.0,297.0,399.0,600.0]}},\"id\":\"447df6a9-20e6-48c7-b1c9-f6eecd0538c0\",\"type\":\"ColumnDataSource\"},{\"attributes\":{},\"id\":\"9d30b4de-574c-45d4-b0c0-684efc7477c8\",\"type\":\"BasicTickFormatter\"},{\"attributes\":{\"level\":\"glyph\",\"plot\":{\"id\":\"87d49b5f-3ac3-48a1-b94f-2732ae3b68aa\",\"subtype\":\"Figure\",\"type\":\"Plot\"},\"source\":{\"id\":\"447df6a9-20e6-48c7-b1c9-f6eecd0538c0\",\"type\":\"ColumnDataSource\"},\"text\":{\"field\":\"vals\"},\"text_font_size\":{\"value\":\"9pt\"},\"text_font_style\":\"bold\",\"x\":{\"field\":\"x\"},\"y\":{\"field\":\"y\"}},\"id\":\"8d8327ef-e168-4e56-a5ad-e3a31190593d\",\"type\":\"LabelSet\"},{\"attributes\":{\"line_color\":{\"field\":\"line_color\"},\"xs\":{\"field\":\"xs\"},\"ys\":{\"field\":\"ys\"}},\"id\":\"034c3f4a-9fef-4b32-a3d3-1c44b2d75669\",\"type\":\"MultiLine\"},{\"attributes\":{},\"id\":\"828d7cf5-cc99-4fcc-8702-00ca171b6bc7\",\"type\":\"ToolEvents\"},{\"attributes\":{\"plot\":{\"id\":\"87d49b5f-3ac3-48a1-b94f-2732ae3b68aa\",\"subtype\":\"Figure\",\"type\":\"Plot\"}},\"id\":\"cc7bc14f-9a66-4284-8b00-c5bc758f80b0\",\"type\":\"ResetTool\"},{\"attributes\":{\"data_source\":{\"id\":\"9c1c6350-f956-4c97-b09f-b1f57e3578db\",\"type\":\"ColumnDataSource\"},\"glyph\":{\"id\":\"cfe80686-030d-4bf5-8c2a-aa0659657d3f\",\"type\":\"Quad\"},\"hover_glyph\":null,\"nonselection_glyph\":{\"id\":\"6b05bec1-b3d4-4727-afda-e74893a71c31\",\"type\":\"Quad\"},\"selection_glyph\":null},\"id\":\"f2bfb65f-f0d2-4883-81c2-d5175657ce32\",\"type\":\"GlyphRenderer\"},{\"attributes\":{\"plot\":{\"id\":\"87d49b5f-3ac3-48a1-b94f-2732ae3b68aa\",\"subtype\":\"Figure\",\"type\":\"Plot\"}},\"id\":\"632449ed-608b-4420-a226-ebb8cc17897c\",\"type\":\"WheelZoomTool\"},{\"attributes\":{\"bottom\":{\"field\":\"bottom\"},\"fill_color\":{\"field\":\"fill_color\"},\"left\":{\"field\":\"left\"},\"line_color\":{\"value\":null},\"right\":{\"field\":\"right\"},\"top\":{\"field\":\"top\"}},\"id\":\"70c580f6-c63e-41ee-a5b6-5b8fa473436b\",\"type\":\"Quad\"},{\"attributes\":{\"active_drag\":\"auto\",\"active_scroll\":\"auto\",\"active_tap\":\"auto\",\"tools\":[{\"id\":\"9c1bbe41-d1c2-44ec-8407-98b4c94c1358\",\"type\":\"PanTool\"},{\"id\":\"632449ed-608b-4420-a226-ebb8cc17897c\",\"type\":\"WheelZoomTool\"},{\"id\":\"d1e7cea0-c767-4b87-927e-ab8132a2d1d5\",\"type\":\"BoxZoomTool\"},{\"id\":\"e9c731d4-fc8c-4dad-8743-f3305cd3c7e1\",\"type\":\"SaveTool\"},{\"id\":\"cc7bc14f-9a66-4284-8b00-c5bc758f80b0\",\"type\":\"ResetTool\"},{\"id\":\"67976f71-aab5-4d6f-80f1-ef69f9eecc18\",\"type\":\"HelpTool\"}]},\"id\":\"2c917236-1a5c-4888-b777-8c3eb2404bc1\",\"type\":\"Toolbar\"},{\"attributes\":{\"data_source\":{\"id\":\"fe794c3a-68ba-451d-89b6-467a25f55b9b\",\"type\":\"ColumnDataSource\"},\"glyph\":{\"id\":\"70c580f6-c63e-41ee-a5b6-5b8fa473436b\",\"type\":\"Quad\"},\"hover_glyph\":null,\"nonselection_glyph\":{\"id\":\"aa9d0144-6a30-4a8e-945d-68e50328bb1a\",\"type\":\"Quad\"},\"selection_glyph\":null},\"id\":\"8253d72c-7493-4bf8-b845-0d086a07c9a5\",\"type\":\"GlyphRenderer\"},{\"attributes\":{\"plot\":{\"id\":\"87d49b5f-3ac3-48a1-b94f-2732ae3b68aa\",\"subtype\":\"Figure\",\"type\":\"Plot\"}},\"id\":\"e9c731d4-fc8c-4dad-8743-f3305cd3c7e1\",\"type\":\"SaveTool\"},{\"attributes\":{\"level\":\"glyph\",\"plot\":{\"id\":\"87d49b5f-3ac3-48a1-b94f-2732ae3b68aa\",\"subtype\":\"Figure\",\"type\":\"Plot\"},\"source\":{\"id\":\"5f7802a4-c989-4800-9cbf-a51700b12dc6\",\"type\":\"ColumnDataSource\"},\"text\":{\"field\":\"vals\"},\"text_align\":\"center\",\"text_baseline\":\"middle\",\"text_font_size\":{\"value\":\"8pt\"},\"x\":{\"field\":\"x\"},\"y\":{\"field\":\"y\"}},\"id\":\"09ee751d-1279-4869-829d-3077b294e147\",\"type\":\"LabelSet\"},{\"attributes\":{},\"id\":\"37ff7c1e-d586-4e39-a776-4a475cca9135\",\"type\":\"BasicTicker\"}],\"root_ids\":[\"87d49b5f-3ac3-48a1-b94f-2732ae3b68aa\"]},\"title\":\"Bokeh Application\",\"version\":\"0.12.0\"}};\n",
       "            var render_items = [{\"docid\":\"a1def5f7-7b85-43b8-8db3-287312e65939\",\"elementid\":\"9f79a9d2-664d-4360-8d45-d8e9a8ec4750\",\"modelid\":\"87d49b5f-3ac3-48a1-b94f-2732ae3b68aa\",\"notebook_comms_target\":\"f7136161-7be2-4f93-b034-1226b47d4c20\"}];\n",
       "            \n",
       "            Bokeh.embed.embed_items(docs_json, render_items);\n",
       "        });\n",
       "      },\n",
       "      function(Bokeh) {\n",
       "      }\n",
       "    ];\n",
       "  \n",
       "    function run_inline_js() {\n",
       "      for (var i = 0; i < inline_js.length; i++) {\n",
       "        inline_js[i](window.Bokeh);\n",
       "      }\n",
       "    }\n",
       "  \n",
       "    if (window._bokeh_is_loading === 0) {\n",
       "      console.log(\"Bokeh: BokehJS loaded, going straight to plotting\");\n",
       "      run_inline_js();\n",
       "    } else {\n",
       "      load_libs(js_urls, function() {\n",
       "        console.log(\"Bokeh: BokehJS plotting callback run at\", now());\n",
       "        run_inline_js();\n",
       "      });\n",
       "    }\n",
       "  }(this));\n",
       "</script>"
      ]
     },
     "metadata": {},
     "output_type": "display_data"
    },
    {
     "data": {
      "text/html": [
       "<p><code>&lt;Bokeh Notebook handle for <strong>In[14]</strong>&gt;</code></p>"
      ],
      "text/plain": [
       "<bokeh.io._CommsHandle at 0x7f85ec029a50>"
      ]
     },
     "execution_count": 14,
     "metadata": {},
     "output_type": "execute_result"
    }
   ],
   "source": [
    "plt_obj = dm.superset_yes_no([di_7_59, dm.di_5_684], [dm.di_5_1460, di_14_43], min_match=0.001)\n",
    "plt = plt_obj.do_plot()\n",
    "am = plt_obj.plot_context.yes_allele_mask\n",
    "show(plt)"
   ]
  },
  {
   "cell_type": "code",
   "execution_count": 15,
   "metadata": {
    "collapsed": false
   },
   "outputs": [
    {
     "data": {
      "text/html": [
       "<table>\n",
       "<thead><tr><th style=\"text-align:center\">index</th><th style=\"text-align:center\">first</th><th style=\"text-align:center\">length</th><th style=\"text-align:center\">snps</th><th style=\"text-align:center\" colspan=2>alleles</th><th style=\"text-align:center\" colspan=2>matches</th><th style=\"text-align:center\" colspan=2>afr</th><th style=\"text-align:center\" colspan=2>afx</th><th style=\"text-align:center\" colspan=2>amr</th><th style=\"text-align:center\" colspan=2>eas</th><th style=\"text-align:center\" colspan=2>eur</th><th style=\"text-align:center\" colspan=2>sas</th><th style=\"text-align:center\" colspan=2>sax</th></tr></thead>\n",
       "<tr class=\"even\"><td style=\"text-align: right;\">354033</td><td style=\"text-align: right;\">136,588,031</td><td style=\"text-align: right;\">5,647</td><td style=\"text-align: right;\">7</td><td style=\"text-align: right;\">1760</td><td style=\"text-align: right;\">0.00</td><td style=\"text-align: right;\">6</td><td style=\"text-align: right;\">1.00</td><td style=\"text-align: right;\">0</td><td style=\"text-align: right;\">0.00</td><td style=\"text-align: right;\">0</td><td style=\"text-align: right;\">0.00</td><td style=\"text-align: right;\">4</td><td style=\"text-align: right;\">4.71</td><td style=\"text-align: right;\">0</td><td style=\"text-align: right;\">0.00</td><td style=\"text-align: right;\">1</td><td style=\"text-align: right;\">0.71</td><td style=\"text-align: right;\">0</td><td style=\"text-align: right;\">0.00</td><td style=\"text-align: right;\">1</td><td style=\"text-align: right;\">1.55</td></tr>\n",
       "<tr><td style=\"text-align: right;\">353240</td><td style=\"text-align: right;\">135,757,320</td><td style=\"text-align: right;\">20,184</td><td style=\"text-align: right;\">13</td><td style=\"text-align: right;\">1696</td><td style=\"text-align: right;\">0.00</td><td style=\"text-align: right;\">6</td><td style=\"text-align: right;\">1.00</td><td style=\"text-align: right;\">0</td><td style=\"text-align: right;\">0.00</td><td style=\"text-align: right;\">0</td><td style=\"text-align: right;\">0.00</td><td style=\"text-align: right;\">4</td><td style=\"text-align: right;\">4.71</td><td style=\"text-align: right;\">0</td><td style=\"text-align: right;\">0.00</td><td style=\"text-align: right;\">1</td><td style=\"text-align: right;\">0.71</td><td style=\"text-align: right;\">0</td><td style=\"text-align: right;\">0.00</td><td style=\"text-align: right;\">1</td><td style=\"text-align: right;\">1.55</td></tr>\n",
       "<tr class=\"even\"><td style=\"text-align: right;\">354130</td><td style=\"text-align: right;\">136,653,925</td><td style=\"text-align: right;\">107,928</td><td style=\"text-align: right;\">24</td><td style=\"text-align: right;\">1504</td><td style=\"text-align: right;\">0.00</td><td style=\"text-align: right;\">6</td><td style=\"text-align: right;\">1.00</td><td style=\"text-align: right;\">0</td><td style=\"text-align: right;\">0.00</td><td style=\"text-align: right;\">0</td><td style=\"text-align: right;\">0.00</td><td style=\"text-align: right;\">4</td><td style=\"text-align: right;\">4.71</td><td style=\"text-align: right;\">0</td><td style=\"text-align: right;\">0.00</td><td style=\"text-align: right;\">1</td><td style=\"text-align: right;\">0.71</td><td style=\"text-align: right;\">0</td><td style=\"text-align: right;\">0.00</td><td style=\"text-align: right;\">1</td><td style=\"text-align: right;\">1.55</td></tr>\n",
       "<tr><td style=\"text-align: right;\">353925</td><td style=\"text-align: right;\">136,506,375</td><td style=\"text-align: right;\">32,564</td><td style=\"text-align: right;\">4</td><td style=\"text-align: right;\">1442</td><td style=\"text-align: right;\">0.00</td><td style=\"text-align: right;\">6</td><td style=\"text-align: right;\">1.00</td><td style=\"text-align: right;\">0</td><td style=\"text-align: right;\">0.00</td><td style=\"text-align: right;\">0</td><td style=\"text-align: right;\">0.00</td><td style=\"text-align: right;\">4</td><td style=\"text-align: right;\">4.71</td><td style=\"text-align: right;\">0</td><td style=\"text-align: right;\">0.00</td><td style=\"text-align: right;\">1</td><td style=\"text-align: right;\">0.71</td><td style=\"text-align: right;\">0</td><td style=\"text-align: right;\">0.00</td><td style=\"text-align: right;\">1</td><td style=\"text-align: right;\">1.55</td></tr>\n",
       "<tr class=\"even\"><td style=\"text-align: right;\">353791</td><td style=\"text-align: right;\">136,393,658</td><td style=\"text-align: right;\">92,684</td><td style=\"text-align: right;\">32</td><td style=\"text-align: right;\">1361</td><td style=\"text-align: right;\">0.00</td><td style=\"text-align: right;\">6</td><td style=\"text-align: right;\">1.00</td><td style=\"text-align: right;\">0</td><td style=\"text-align: right;\">0.00</td><td style=\"text-align: right;\">0</td><td style=\"text-align: right;\">0.00</td><td style=\"text-align: right;\">4</td><td style=\"text-align: right;\">4.71</td><td style=\"text-align: right;\">0</td><td style=\"text-align: right;\">0.00</td><td style=\"text-align: right;\">1</td><td style=\"text-align: right;\">0.71</td><td style=\"text-align: right;\">0</td><td style=\"text-align: right;\">0.00</td><td style=\"text-align: right;\">1</td><td style=\"text-align: right;\">1.55</td></tr>\n",
       "<tr><td style=\"text-align: right;\">353958</td><td style=\"text-align: right;\">136,535,876</td><td style=\"text-align: right;\">19,014</td><td style=\"text-align: right;\">7</td><td style=\"text-align: right;\">1303</td><td style=\"text-align: right;\">0.00</td><td style=\"text-align: right;\">6</td><td style=\"text-align: right;\">1.00</td><td style=\"text-align: right;\">0</td><td style=\"text-align: right;\">0.00</td><td style=\"text-align: right;\">0</td><td style=\"text-align: right;\">0.00</td><td style=\"text-align: right;\">4</td><td style=\"text-align: right;\">4.71</td><td style=\"text-align: right;\">0</td><td style=\"text-align: right;\">0.00</td><td style=\"text-align: right;\">1</td><td style=\"text-align: right;\">0.71</td><td style=\"text-align: right;\">0</td><td style=\"text-align: right;\">0.00</td><td style=\"text-align: right;\">1</td><td style=\"text-align: right;\">1.55</td></tr>\n",
       "<tr class=\"even\"><td style=\"text-align: right;\">354129</td><td style=\"text-align: right;\">136,652,953</td><td style=\"text-align: right;\">108,222</td><td style=\"text-align: right;\">5</td><td style=\"text-align: right;\">1296</td><td style=\"text-align: right;\">0.00</td><td style=\"text-align: right;\">6</td><td style=\"text-align: right;\">1.00</td><td style=\"text-align: right;\">0</td><td style=\"text-align: right;\">0.00</td><td style=\"text-align: right;\">0</td><td style=\"text-align: right;\">0.00</td><td style=\"text-align: right;\">4</td><td style=\"text-align: right;\">4.71</td><td style=\"text-align: right;\">0</td><td style=\"text-align: right;\">0.00</td><td style=\"text-align: right;\">1</td><td style=\"text-align: right;\">0.71</td><td style=\"text-align: right;\">0</td><td style=\"text-align: right;\">0.00</td><td style=\"text-align: right;\">1</td><td style=\"text-align: right;\">1.55</td></tr>\n",
       "<tr><td style=\"text-align: right;\">353919</td><td style=\"text-align: right;\">136,500,475</td><td style=\"text-align: right;\">42,085</td><td style=\"text-align: right;\">13</td><td style=\"text-align: right;\">1227</td><td style=\"text-align: right;\">0.00</td><td style=\"text-align: right;\">6</td><td style=\"text-align: right;\">1.00</td><td style=\"text-align: right;\">0</td><td style=\"text-align: right;\">0.00</td><td style=\"text-align: right;\">0</td><td style=\"text-align: right;\">0.00</td><td style=\"text-align: right;\">4</td><td style=\"text-align: right;\">4.71</td><td style=\"text-align: right;\">0</td><td style=\"text-align: right;\">0.00</td><td style=\"text-align: right;\">1</td><td style=\"text-align: right;\">0.71</td><td style=\"text-align: right;\">0</td><td style=\"text-align: right;\">0.00</td><td style=\"text-align: right;\">1</td><td style=\"text-align: right;\">1.55</td></tr>\n",
       "<tr class=\"even\"><td style=\"text-align: right;\">354127</td><td style=\"text-align: right;\">136,652,491</td><td style=\"text-align: right;\">80,281</td><td style=\"text-align: right;\">6</td><td style=\"text-align: right;\">1114</td><td style=\"text-align: right;\">0.01</td><td style=\"text-align: right;\">6</td><td style=\"text-align: right;\">1.00</td><td style=\"text-align: right;\">0</td><td style=\"text-align: right;\">0.00</td><td style=\"text-align: right;\">0</td><td style=\"text-align: right;\">0.00</td><td style=\"text-align: right;\">4</td><td style=\"text-align: right;\">4.71</td><td style=\"text-align: right;\">0</td><td style=\"text-align: right;\">0.00</td><td style=\"text-align: right;\">1</td><td style=\"text-align: right;\">0.71</td><td style=\"text-align: right;\">0</td><td style=\"text-align: right;\">0.00</td><td style=\"text-align: right;\">1</td><td style=\"text-align: right;\">1.55</td></tr>\n",
       "<tr><td style=\"text-align: right;\">353372</td><td style=\"text-align: right;\">135,829,592</td><td style=\"text-align: right;\">591,316</td><td style=\"text-align: right;\">9</td><td style=\"text-align: right;\">944</td><td style=\"text-align: right;\">0.01</td><td style=\"text-align: right;\">6</td><td style=\"text-align: right;\">1.00</td><td style=\"text-align: right;\">0</td><td style=\"text-align: right;\">0.00</td><td style=\"text-align: right;\">0</td><td style=\"text-align: right;\">0.00</td><td style=\"text-align: right;\">4</td><td style=\"text-align: right;\">4.71</td><td style=\"text-align: right;\">0</td><td style=\"text-align: right;\">0.00</td><td style=\"text-align: right;\">1</td><td style=\"text-align: right;\">0.71</td><td style=\"text-align: right;\">0</td><td style=\"text-align: right;\">0.00</td><td style=\"text-align: right;\">1</td><td style=\"text-align: right;\">1.55</td></tr>\n",
       "<tr class=\"even\"><td style=\"text-align: right;\">353902</td><td style=\"text-align: right;\">136,494,985</td><td style=\"text-align: right;\">278,653</td><td style=\"text-align: right;\">81</td><td style=\"text-align: right;\">857</td><td style=\"text-align: right;\">0.01</td><td style=\"text-align: right;\">6</td><td style=\"text-align: right;\">1.00</td><td style=\"text-align: right;\">0</td><td style=\"text-align: right;\">0.00</td><td style=\"text-align: right;\">0</td><td style=\"text-align: right;\">0.00</td><td style=\"text-align: right;\">4</td><td style=\"text-align: right;\">4.71</td><td style=\"text-align: right;\">0</td><td style=\"text-align: right;\">0.00</td><td style=\"text-align: right;\">1</td><td style=\"text-align: right;\">0.71</td><td style=\"text-align: right;\">0</td><td style=\"text-align: right;\">0.00</td><td style=\"text-align: right;\">1</td><td style=\"text-align: right;\">1.55</td></tr>\n",
       "<tr><td style=\"text-align: right;\">353498</td><td style=\"text-align: right;\">135,959,272</td><td style=\"text-align: right;\">416,583</td><td style=\"text-align: right;\">5</td><td style=\"text-align: right;\">684</td><td style=\"text-align: right;\">0.01</td><td style=\"text-align: right;\">6</td><td style=\"text-align: right;\">1.00</td><td style=\"text-align: right;\">0</td><td style=\"text-align: right;\">0.00</td><td style=\"text-align: right;\">0</td><td style=\"text-align: right;\">0.00</td><td style=\"text-align: right;\">4</td><td style=\"text-align: right;\">4.71</td><td style=\"text-align: right;\">0</td><td style=\"text-align: right;\">0.00</td><td style=\"text-align: right;\">1</td><td style=\"text-align: right;\">0.71</td><td style=\"text-align: right;\">0</td><td style=\"text-align: right;\">0.00</td><td style=\"text-align: right;\">1</td><td style=\"text-align: right;\">1.55</td></tr>\n",
       "<tr class=\"even\"><td style=\"text-align: right;\">353917</td><td style=\"text-align: right;\">136,499,236</td><td style=\"text-align: right;\">176,092</td><td style=\"text-align: right;\">7</td><td style=\"text-align: right;\">59</td><td style=\"text-align: right;\">0.10</td><td style=\"text-align: right;\">6</td><td style=\"text-align: right;\">1.00</td><td style=\"text-align: right;\">0</td><td style=\"text-align: right;\">0.00</td><td style=\"text-align: right;\">0</td><td style=\"text-align: right;\">0.00</td><td style=\"text-align: right;\">4</td><td style=\"text-align: right;\">4.71</td><td style=\"text-align: right;\">0</td><td style=\"text-align: right;\">0.00</td><td style=\"text-align: right;\">1</td><td style=\"text-align: right;\">0.71</td><td style=\"text-align: right;\">0</td><td style=\"text-align: right;\">0.00</td><td style=\"text-align: right;\">1</td><td style=\"text-align: right;\">1.55</td></tr>\n",
       "</table>"
      ],
      "text/plain": [
       "<IPython.core.display.HTML object>"
      ]
     },
     "execution_count": 15,
     "metadata": {},
     "output_type": "execute_result"
    }
   ],
   "source": [
    "HTML(plt_obj.get_html())"
   ]
  },
  {
   "cell_type": "code",
   "execution_count": 16,
   "metadata": {
    "collapsed": false
   },
   "outputs": [
    {
     "data": {
      "text/html": [
       "\n",
       "\n",
       "    <div class=\"bk-root\">\n",
       "        <div class=\"plotdiv\" id=\"20e77fe4-7bcb-464e-9616-053e4c2bda0e\"></div>\n",
       "    </div>\n",
       "<script type=\"text/javascript\">\n",
       "  \n",
       "  (function(global) {\n",
       "    function now() {\n",
       "      return new Date();\n",
       "    }\n",
       "  \n",
       "    if (typeof (window._bokeh_onload_callbacks) === \"undefined\") {\n",
       "      window._bokeh_onload_callbacks = [];\n",
       "    }\n",
       "  \n",
       "    function run_callbacks() {\n",
       "      window._bokeh_onload_callbacks.forEach(function(callback) { callback() });\n",
       "      delete window._bokeh_onload_callbacks\n",
       "      console.info(\"Bokeh: all callbacks have finished\");\n",
       "    }\n",
       "  \n",
       "    function load_libs(js_urls, callback) {\n",
       "      window._bokeh_onload_callbacks.push(callback);\n",
       "      if (window._bokeh_is_loading > 0) {\n",
       "        console.log(\"Bokeh: BokehJS is being loaded, scheduling callback at\", now());\n",
       "        return null;\n",
       "      }\n",
       "      if (js_urls == null || js_urls.length === 0) {\n",
       "        run_callbacks();\n",
       "        return null;\n",
       "      }\n",
       "      console.log(\"Bokeh: BokehJS not loaded, scheduling load and callback at\", now());\n",
       "      window._bokeh_is_loading = js_urls.length;\n",
       "      for (var i = 0; i < js_urls.length; i++) {\n",
       "        var url = js_urls[i];\n",
       "        var s = document.createElement('script');\n",
       "        s.src = url;\n",
       "        s.async = false;\n",
       "        s.onreadystatechange = s.onload = function() {\n",
       "          window._bokeh_is_loading--;\n",
       "          if (window._bokeh_is_loading === 0) {\n",
       "            console.log(\"Bokeh: all BokehJS libraries loaded\");\n",
       "            run_callbacks()\n",
       "          }\n",
       "        };\n",
       "        s.onerror = function() {\n",
       "          console.warn(\"failed to load library \" + url);\n",
       "        };\n",
       "        console.log(\"Bokeh: injecting script tag for BokehJS library: \", url);\n",
       "        document.getElementsByTagName(\"head\")[0].appendChild(s);\n",
       "      }\n",
       "    };var element = document.getElementById(\"20e77fe4-7bcb-464e-9616-053e4c2bda0e\");\n",
       "    if (element == null) {\n",
       "      console.log(\"Bokeh: ERROR: autoload.js configured with elementid '20e77fe4-7bcb-464e-9616-053e4c2bda0e' but no matching script tag was found. \")\n",
       "      return false;\n",
       "    }\n",
       "  \n",
       "    var js_urls = [];\n",
       "  \n",
       "    var inline_js = [\n",
       "      function(Bokeh) {\n",
       "        Bokeh.$(function() {\n",
       "            var docs_json = {\"a61fc89a-4e8c-478e-b23b-a6bf3bc1580a\":{\"roots\":{\"references\":[{\"attributes\":{\"callback\":null,\"end\":800},\"id\":\"43edb378-9a36-4185-af98-238c6a7b0d23\",\"type\":\"Range1d\"},{\"attributes\":{\"plot\":{\"id\":\"09c83bdd-38d9-4c23-91ab-823e507c9390\",\"subtype\":\"Figure\",\"type\":\"Plot\"}},\"id\":\"3e355b85-dcd0-4592-b5ab-0bdf2318eb31\",\"type\":\"ResetTool\"},{\"attributes\":{\"bottom_units\":\"screen\",\"fill_alpha\":{\"value\":0.5},\"fill_color\":{\"value\":\"lightgrey\"},\"left_units\":\"screen\",\"level\":\"overlay\",\"line_alpha\":{\"value\":1.0},\"line_color\":{\"value\":\"black\"},\"line_dash\":[4,4],\"line_width\":{\"value\":2},\"plot\":null,\"render_mode\":\"css\",\"right_units\":\"screen\",\"top_units\":\"screen\"},\"id\":\"e5a1ae1e-68b2-46de-9111-e844c224699d\",\"type\":\"BoxAnnotation\"},{\"attributes\":{},\"id\":\"c350b813-f0e0-43b3-a523-eaec6da1babd\",\"type\":\"BasicTicker\"},{\"attributes\":{\"bottom\":{\"field\":\"bottom\"},\"fill_alpha\":{\"value\":0.1},\"fill_color\":{\"value\":\"#1f77b4\"},\"left\":{\"field\":\"left\"},\"line_alpha\":{\"value\":0.1},\"line_color\":{\"value\":\"#1f77b4\"},\"right\":{\"field\":\"right\"},\"top\":{\"field\":\"top\"}},\"id\":\"44961e3f-0a06-4e2f-b38f-3630535e4bdf\",\"type\":\"Quad\"},{\"attributes\":{\"data_source\":{\"id\":\"37397c7d-2d0f-4653-bbda-d62d333b9882\",\"type\":\"ColumnDataSource\"},\"glyph\":{\"id\":\"0f5fb7d4-7454-46c8-8471-e1ff18617003\",\"type\":\"Quad\"},\"hover_glyph\":null,\"nonselection_glyph\":{\"id\":\"44961e3f-0a06-4e2f-b38f-3630535e4bdf\",\"type\":\"Quad\"},\"selection_glyph\":null},\"id\":\"e13ca3ab-2f7f-4c38-9561-920ad9dd6441\",\"type\":\"GlyphRenderer\"},{\"attributes\":{\"formatter\":{\"id\":\"2252228b-1ba1-4276-8b30-46ca81e8d443\",\"type\":\"BasicTickFormatter\"},\"plot\":{\"id\":\"09c83bdd-38d9-4c23-91ab-823e507c9390\",\"subtype\":\"Figure\",\"type\":\"Plot\"},\"ticker\":{\"id\":\"c350b813-f0e0-43b3-a523-eaec6da1babd\",\"type\":\"BasicTicker\"}},\"id\":\"c182af2f-a724-4c32-851b-f903cc22b536\",\"type\":\"LinearAxis\"},{\"attributes\":{\"plot\":null,\"text\":null},\"id\":\"43aa56c1-835e-410a-9cff-2682f6a63e15\",\"type\":\"Title\"},{\"attributes\":{\"dimension\":1,\"plot\":{\"id\":\"09c83bdd-38d9-4c23-91ab-823e507c9390\",\"subtype\":\"Figure\",\"type\":\"Plot\"},\"ticker\":{\"id\":\"dacfbd97-306d-4f73-9970-f5e959e33d86\",\"type\":\"BasicTicker\"}},\"id\":\"159f64fb-6ad6-487b-a1f0-f0002e7fd5ed\",\"type\":\"Grid\"},{\"attributes\":{\"callback\":null,\"column_names\":[\"y\",\"x\",\"vals\"],\"data\":{\"vals\":[\"RAB3GAP1\",\"ZRANB3\",\"R3HDM1\",\"UBXN4\",\"LCT\",\"MCM6\",\"DARS\"],\"x\":[135869057.0,136122878.0,136385961.0,136520911.0,136570082.5,136615621.5,136703738.0],\"y\":[760.0,760.0,760.0,760.0,760.0,760.0,760.0]}},\"id\":\"552d5696-6b39-47c6-83e4-8abf43b1b253\",\"type\":\"ColumnDataSource\"},{\"attributes\":{\"data_source\":{\"id\":\"074f849a-ab9c-4f86-ad7f-c2c91c2bcd31\",\"type\":\"ColumnDataSource\"},\"glyph\":{\"id\":\"5943ce77-2c37-4441-929e-43f0d14c7ee9\",\"type\":\"MultiLine\"},\"hover_glyph\":null,\"nonselection_glyph\":{\"id\":\"69fb2d5f-0fdb-4ee9-866e-f13d7a715a13\",\"type\":\"MultiLine\"},\"selection_glyph\":null},\"id\":\"1c726ebd-f0b6-44a8-a5b0-45935191833b\",\"type\":\"GlyphRenderer\"},{\"attributes\":{\"level\":\"glyph\",\"plot\":{\"id\":\"09c83bdd-38d9-4c23-91ab-823e507c9390\",\"subtype\":\"Figure\",\"type\":\"Plot\"},\"source\":{\"id\":\"c50fb066-9c5b-4d95-ae54-0a241e0d8f85\",\"type\":\"ColumnDataSource\"},\"text\":{\"field\":\"vals\"},\"text_font_size\":{\"value\":\"9pt\"},\"text_font_style\":\"bold\",\"x\":{\"field\":\"x\"},\"y\":{\"field\":\"y\"}},\"id\":\"7aa9d759-2355-40eb-bfbb-f48e1fd85a9d\",\"type\":\"LabelSet\"},{\"attributes\":{\"callback\":null,\"column_names\":[\"right\",\"bottom\",\"top\",\"left\",\"fill_color\"],\"data\":{\"bottom\":[650,250,150,50,550,250,150,350,550,450,650,350,450,650],\"fill_color\":[\"#808080\",\"#c4c461\",\"#00ff00\",\"#00ff00\",\"#c4c461\",\"#808080\",\"#61c461\",\"#808080\",\"#808080\",\"#808080\",\"#c46161\",\"#808080\",\"#808080\",\"#808080\"],\"left\":[135757320,135829592,135879258,135922944,136393658,136494985,136499236,136500475,136506375,136535876,136588031,136652491,136652953,136653925],\"right\":[135777504,136420908,136395769,136269855,136486342,136773638,136675328,136542560,136538939,136554890,136593678,136732772,136761175,136761853],\"top\":[696,291,166,61,594,290,167,393,594,494,696,392,494,695]}},\"id\":\"37397c7d-2d0f-4653-bbda-d62d333b9882\",\"type\":\"ColumnDataSource\"},{\"attributes\":{\"callback\":null,\"column_names\":[\"right\",\"bottom\",\"top\",\"left\"],\"data\":{\"bottom\":[745,745,745,745,745,745,745],\"left\":[135809835,135957574,136289083,136499189,136545415,136597196,136664254],\"right\":[135928279,136288182,136482839,136542633,136594750,136634047,136743222],\"top\":[775,775,775,775,775,775,775]}},\"id\":\"6bccbe0a-ee50-441f-bc6b-89cc0f30a888\",\"type\":\"ColumnDataSource\"},{\"attributes\":{},\"id\":\"6a3f7882-fd82-45ae-9693-603060d0bad6\",\"type\":\"BasicTickFormatter\"},{\"attributes\":{\"below\":[{\"id\":\"c182af2f-a724-4c32-851b-f903cc22b536\",\"type\":\"LinearAxis\"}],\"left\":[{\"id\":\"3b1698e3-fe56-422b-987e-6ca9692c53de\",\"type\":\"LinearAxis\"}],\"plot_height\":800,\"plot_width\":900,\"renderers\":[{\"id\":\"c182af2f-a724-4c32-851b-f903cc22b536\",\"type\":\"LinearAxis\"},{\"id\":\"8f5eca20-3265-4b8e-afa3-be52f9485b0a\",\"type\":\"Grid\"},{\"id\":\"3b1698e3-fe56-422b-987e-6ca9692c53de\",\"type\":\"LinearAxis\"},{\"id\":\"159f64fb-6ad6-487b-a1f0-f0002e7fd5ed\",\"type\":\"Grid\"},{\"id\":\"e5a1ae1e-68b2-46de-9111-e844c224699d\",\"type\":\"BoxAnnotation\"},{\"id\":\"e13ca3ab-2f7f-4c38-9561-920ad9dd6441\",\"type\":\"GlyphRenderer\"},{\"id\":\"1c726ebd-f0b6-44a8-a5b0-45935191833b\",\"type\":\"GlyphRenderer\"},{\"id\":\"7aa9d759-2355-40eb-bfbb-f48e1fd85a9d\",\"type\":\"LabelSet\"},{\"id\":\"2a6cfbc9-4381-491a-8b6e-0b4f82e7445f\",\"type\":\"GlyphRenderer\"},{\"id\":\"9709becd-7c46-4d10-b014-d4ebc5ea21d7\",\"type\":\"LabelSet\"}],\"title\":{\"id\":\"43aa56c1-835e-410a-9cff-2682f6a63e15\",\"type\":\"Title\"},\"tool_events\":{\"id\":\"99136309-f574-4ac6-aa1a-96d5eb6b9af8\",\"type\":\"ToolEvents\"},\"toolbar\":{\"id\":\"634433b6-0614-4469-83f4-9e99632099e1\",\"type\":\"Toolbar\"},\"toolbar_location\":null,\"x_range\":{\"id\":\"eb34bcf5-5e5e-45d4-9fae-79172585a087\",\"type\":\"Range1d\"},\"y_range\":{\"id\":\"43edb378-9a36-4185-af98-238c6a7b0d23\",\"type\":\"Range1d\"}},\"id\":\"09c83bdd-38d9-4c23-91ab-823e507c9390\",\"subtype\":\"Figure\",\"type\":\"Plot\"},{\"attributes\":{\"data_source\":{\"id\":\"6bccbe0a-ee50-441f-bc6b-89cc0f30a888\",\"type\":\"ColumnDataSource\"},\"glyph\":{\"id\":\"bf4803e9-31e0-42a1-827a-fbf773c27b60\",\"type\":\"Quad\"},\"hover_glyph\":null,\"nonselection_glyph\":{\"id\":\"b3610000-2e71-4c1c-99bf-221540707e34\",\"type\":\"Quad\"},\"selection_glyph\":null},\"id\":\"2a6cfbc9-4381-491a-8b6e-0b4f82e7445f\",\"type\":\"GlyphRenderer\"},{\"attributes\":{\"overlay\":{\"id\":\"e5a1ae1e-68b2-46de-9111-e844c224699d\",\"type\":\"BoxAnnotation\"},\"plot\":{\"id\":\"09c83bdd-38d9-4c23-91ab-823e507c9390\",\"subtype\":\"Figure\",\"type\":\"Plot\"}},\"id\":\"38424c46-8b9d-4039-a92a-87c4cf34cfd7\",\"type\":\"BoxZoomTool\"},{\"attributes\":{\"plot\":{\"id\":\"09c83bdd-38d9-4c23-91ab-823e507c9390\",\"subtype\":\"Figure\",\"type\":\"Plot\"},\"ticker\":{\"id\":\"c350b813-f0e0-43b3-a523-eaec6da1babd\",\"type\":\"BasicTicker\"}},\"id\":\"8f5eca20-3265-4b8e-afa3-be52f9485b0a\",\"type\":\"Grid\"},{\"attributes\":{},\"id\":\"dacfbd97-306d-4f73-9970-f5e959e33d86\",\"type\":\"BasicTicker\"},{\"attributes\":{\"plot\":{\"id\":\"09c83bdd-38d9-4c23-91ab-823e507c9390\",\"subtype\":\"Figure\",\"type\":\"Plot\"}},\"id\":\"86d634aa-e4cc-4ef4-9777-23fbe04ce6c6\",\"type\":\"WheelZoomTool\"},{\"attributes\":{\"bottom\":{\"field\":\"bottom\"},\"fill_color\":{\"field\":\"fill_color\"},\"left\":{\"field\":\"left\"},\"line_color\":{\"value\":null},\"right\":{\"field\":\"right\"},\"top\":{\"field\":\"top\"}},\"id\":\"0f5fb7d4-7454-46c8-8471-e1ff18617003\",\"type\":\"Quad\"},{\"attributes\":{},\"id\":\"99136309-f574-4ac6-aa1a-96d5eb6b9af8\",\"type\":\"ToolEvents\"},{\"attributes\":{},\"id\":\"2252228b-1ba1-4276-8b30-46ca81e8d443\",\"type\":\"BasicTickFormatter\"},{\"attributes\":{\"active_drag\":\"auto\",\"active_scroll\":\"auto\",\"active_tap\":\"auto\",\"tools\":[{\"id\":\"e11dcc30-9394-4abf-94d5-046fcbb7cc28\",\"type\":\"PanTool\"},{\"id\":\"86d634aa-e4cc-4ef4-9777-23fbe04ce6c6\",\"type\":\"WheelZoomTool\"},{\"id\":\"38424c46-8b9d-4039-a92a-87c4cf34cfd7\",\"type\":\"BoxZoomTool\"},{\"id\":\"ebdad35b-c653-47d0-a92b-66f2193c591a\",\"type\":\"SaveTool\"},{\"id\":\"3e355b85-dcd0-4592-b5ab-0bdf2318eb31\",\"type\":\"ResetTool\"},{\"id\":\"31948071-364b-4fba-8047-d4fa445481d2\",\"type\":\"HelpTool\"}]},\"id\":\"634433b6-0614-4469-83f4-9e99632099e1\",\"type\":\"Toolbar\"},{\"attributes\":{\"plot\":{\"id\":\"09c83bdd-38d9-4c23-91ab-823e507c9390\",\"subtype\":\"Figure\",\"type\":\"Plot\"}},\"id\":\"31948071-364b-4fba-8047-d4fa445481d2\",\"type\":\"HelpTool\"},{\"attributes\":{\"formatter\":{\"id\":\"6a3f7882-fd82-45ae-9693-603060d0bad6\",\"type\":\"BasicTickFormatter\"},\"plot\":{\"id\":\"09c83bdd-38d9-4c23-91ab-823e507c9390\",\"subtype\":\"Figure\",\"type\":\"Plot\"},\"ticker\":{\"id\":\"dacfbd97-306d-4f73-9970-f5e959e33d86\",\"type\":\"BasicTicker\"},\"visible\":null},\"id\":\"3b1698e3-fe56-422b-987e-6ca9692c53de\",\"type\":\"LinearAxis\"},{\"attributes\":{\"line_alpha\":{\"value\":0.1},\"line_color\":{\"value\":\"#1f77b4\"},\"xs\":{\"field\":\"xs\"},\"ys\":{\"field\":\"ys\"}},\"id\":\"69fb2d5f-0fdb-4ee9-866e-f13d7a715a13\",\"type\":\"MultiLine\"},{\"attributes\":{\"plot\":{\"id\":\"09c83bdd-38d9-4c23-91ab-823e507c9390\",\"subtype\":\"Figure\",\"type\":\"Plot\"}},\"id\":\"ebdad35b-c653-47d0-a92b-66f2193c591a\",\"type\":\"SaveTool\"},{\"attributes\":{\"line_color\":{\"field\":\"line_color\"},\"xs\":{\"field\":\"xs\"},\"ys\":{\"field\":\"ys\"}},\"id\":\"5943ce77-2c37-4441-929e-43f0d14c7ee9\",\"type\":\"MultiLine\"},{\"attributes\":{\"callback\":null,\"column_names\":[\"y\",\"x\",\"vals\"],\"data\":{\"vals\":[\"13_1696\",\"9_944\",\"6_54\",\"5_31\",\"32_1361\",\"81_857\",\"7_59\",\"13_1227\",\"4_1442\",\"7_1303\",\"7_1760\",\"6_1114\",\"5_1296\",\"24_1504\"],\"x\":[135757320,135829592,135879258,135922944,136393658,136494985,136499236,136500475,136506375,136535876,136588031,136652491,136652953,136653925],\"y\":[701.0,296.0,171.0,66.0,599.0,295.0,172.0,398.0,599.0,499.0,701.0,397.0,499.0,700.0]}},\"id\":\"c50fb066-9c5b-4d95-ae54-0a241e0d8f85\",\"type\":\"ColumnDataSource\"},{\"attributes\":{\"callback\":null,\"end\":136786630,\"start\":135757320},\"id\":\"eb34bcf5-5e5e-45d4-9fae-79172585a087\",\"type\":\"Range1d\"},{\"attributes\":{\"plot\":{\"id\":\"09c83bdd-38d9-4c23-91ab-823e507c9390\",\"subtype\":\"Figure\",\"type\":\"Plot\"}},\"id\":\"e11dcc30-9394-4abf-94d5-046fcbb7cc28\",\"type\":\"PanTool\"},{\"attributes\":{\"bottom\":{\"field\":\"bottom\"},\"fill_alpha\":{\"value\":0.1},\"fill_color\":{\"value\":\"#1f77b4\"},\"left\":{\"field\":\"left\"},\"line_alpha\":{\"value\":0.1},\"line_color\":{\"value\":\"#1f77b4\"},\"right\":{\"field\":\"right\"},\"top\":{\"field\":\"top\"}},\"id\":\"b3610000-2e71-4c1c-99bf-221540707e34\",\"type\":\"Quad\"},{\"attributes\":{\"level\":\"glyph\",\"plot\":{\"id\":\"09c83bdd-38d9-4c23-91ab-823e507c9390\",\"subtype\":\"Figure\",\"type\":\"Plot\"},\"source\":{\"id\":\"552d5696-6b39-47c6-83e4-8abf43b1b253\",\"type\":\"ColumnDataSource\"},\"text\":{\"field\":\"vals\"},\"text_align\":\"center\",\"text_baseline\":\"middle\",\"text_font_size\":{\"value\":\"8pt\"},\"x\":{\"field\":\"x\"},\"y\":{\"field\":\"y\"}},\"id\":\"9709becd-7c46-4d10-b014-d4ebc5ea21d7\",\"type\":\"LabelSet\"},{\"attributes\":{\"bottom\":{\"field\":\"bottom\"},\"fill_color\":{\"value\":\"white\"},\"left\":{\"field\":\"left\"},\"right\":{\"field\":\"right\"},\"top\":{\"field\":\"top\"}},\"id\":\"bf4803e9-31e0-42a1-827a-fbf773c27b60\",\"type\":\"Quad\"},{\"attributes\":{\"callback\":null,\"column_names\":[\"xs\",\"ys\",\"line_color\"],\"data\":{\"line_color\":[\"black\",\"black\",\"black\",\"black\",\"black\",\"black\",\"black\",\"black\",\"black\",\"black\",\"black\",\"black\",\"black\",\"black\",\"black\",\"black\",\"black\",\"black\",\"black\",\"black\",\"black\",\"black\",\"black\",\"black\",\"black\",\"black\",\"black\",\"black\",\"black\",\"black\",\"black\",\"black\",\"black\",\"black\",\"black\",\"black\",\"black\",\"black\",\"black\",\"black\",\"black\",\"black\",\"black\",\"black\",\"black\",\"black\",\"black\",\"black\",\"black\",\"black\",\"black\",\"black\",\"black\",\"black\",\"black\",\"black\",\"black\",\"black\",\"black\",\"black\",\"black\",\"black\",\"black\",\"black\",\"black\",\"black\",\"black\",\"black\",\"black\",\"black\",\"black\",\"black\",\"black\",\"black\",\"black\",\"black\",\"black\",\"black\",\"black\",\"black\",\"black\",\"black\",\"black\",\"black\",\"black\",\"black\",\"black\",\"black\",\"black\",\"black\",\"black\",\"black\",\"black\",\"black\",\"black\",\"black\",\"black\",\"black\",\"black\",\"black\",\"black\",\"black\",\"black\",\"black\",\"black\",\"black\",\"black\",\"black\",\"black\",\"black\",\"black\",\"black\",\"black\",\"black\",\"black\",\"black\",\"black\",\"black\",\"black\",\"black\",\"black\",\"black\",\"black\",\"black\",\"black\",\"black\",\"black\",\"black\",\"black\",\"black\",\"black\",\"black\",\"black\",\"black\",\"black\",\"black\",\"black\",\"black\",\"black\",\"black\",\"black\",\"black\",\"black\",\"black\",\"black\",\"black\",\"black\",\"black\",\"black\",\"black\",\"black\",\"black\",\"black\",\"black\",\"black\",\"black\",\"black\",\"black\",\"black\",\"black\",\"black\",\"black\",\"black\",\"black\",\"black\",\"black\",\"black\",\"black\",\"black\",\"black\",\"black\",\"black\",\"black\",\"black\",\"black\",\"black\",\"black\",\"black\",\"black\",\"black\",\"black\",\"black\",\"black\",\"black\",\"black\",\"black\",\"black\",\"black\",\"black\",\"black\",\"black\",\"black\",\"black\",\"black\",\"black\",\"black\",\"black\",\"black\",\"black\",\"black\",\"black\",\"black\",\"black\",\"black\",\"black\",\"black\",\"black\",\"black\",\"black\",\"black\",\"black\",\"black\",\"black\",\"black\",\"black\",\"black\",\"black\",\"black\",\"black\"],\"xs\":[[135757320,135757320],[135761078,135761078],[135761271,135761271],[135762344,135762344],[135762980,135762980],[135763280,135763280],[135768815,135768815],[135769093,135769093],[135769127,135769127],[135770940,135770940],[135770951,135770951],[135776728,135776728],[135777504,135777504],[135829592,135829592],[135893372,135893372],[135952405,135952405],[135989721,135989721],[136136056,136136056],[136313639,136313639],[136401418,136401418],[136407078,136407078],[136420908,136420908],[135879258,135879258],[135967182,135967182],[136063448,136063448],[136145019,136145019],[136227304,136227304],[136395769,136395769],[135922944,135922944],[136175761,136175761],[136244643,136244643],[136248801,136248801],[136269855,136269855],[136393658,136393658],[136396300,136396300],[136401843,136401843],[136407445,136407445],[136411879,136411879],[136412270,136412270],[136413244,136413244],[136413847,136413847],[136415217,136415217],[136416533,136416533],[136420726,136420726],[136429857,136429857],[136433740,136433740],[136436317,136436317],[136437615,136437615],[136438517,136438517],[136440300,136440300],[136443900,136443900],[136444185,136444185],[136444338,136444338],[136449254,136449254],[136451676,136451676],[136459227,136459227],[136463117,136463117],[136463454,136463454],[136467119,136467119],[136468238,136468238],[136470219,136470219],[136483355,136483355],[136485276,136485276],[136486340,136486340],[136486342,136486342],[136494985,136494985],[136497199,136497199],[136511817,136511817],[136513670,136513670],[136515458,136515458],[136516970,136516970],[136525309,136525309],[136528034,136528034],[136532225,136532225],[136535235,136535235],[136536095,136536095],[136544423,136544423],[136546927,136546927],[136552188,136552188],[136552517,136552517],[136555525,136555525],[136556480,136556480],[136560464,136560464],[136572285,136572285],[136582694,136582694],[136582809,136582809],[136584538,136584538],[136585323,136585323],[136586825,136586825],[136600662,136600662],[136612036,136612036],[136618178,136618178],[136618507,136618507],[136622543,136622543],[136624947,136624947],[136625113,136625113],[136626078,136626078],[136628121,136628121],[136632300,136632300],[136633962,136633962],[136635343,136635343],[136638113,136638113],[136640101,136640101],[136641593,136641593],[136646582,136646582],[136648077,136648077],[136648883,136648883],[136652045,136652045],[136653848,136653848],[136656094,136656094],[136661110,136661110],[136663110,136663110],[136663605,136663605],[136665162,136665162],[136665711,136665711],[136668123,136668123],[136670419,136670419],[136672680,136672680],[136673546,136673546],[136684632,136684632],[136686114,136686114],[136690425,136690425],[136690783,136690783],[136692893,136692893],[136694905,136694905],[136695694,136695694],[136695705,136695705],[136696608,136696608],[136697372,136697372],[136697468,136697468],[136700024,136700024],[136701539,136701539],[136702118,136702118],[136707480,136707480],[136710554,136710554],[136714178,136714178],[136719173,136719173],[136725459,136725459],[136734569,136734569],[136744678,136744678],[136748779,136748779],[136751488,136751488],[136754183,136754183],[136763242,136763242],[136765074,136765074],[136773638,136773638],[136499236,136499236],[136525856,136525856],[136554477,136554477],[136577346,136577346],[136604166,136604166],[136655568,136655568],[136675328,136675328],[136500475,136500475],[136501509,136501509],[136504101,136504101],[136509868,136509868],[136520043,136520043],[136527120,136527120],[136530379,136530379],[136530443,136530443],[136539330,136539330],[136539670,136539670],[136540083,136540083],[136542559,136542559],[136542560,136542560],[136506375,136506375],[136506927,136506927],[136510012,136510012],[136538939,136538939],[136535876,136535876],[136544651,136544651],[136545844,136545844],[136552526,136552526],[136553022,136553022],[136554797,136554797],[136554890,136554890],[136588031,136588031],[136589278,136589278],[136589379,136589379],[136589741,136589741],[136590746,136590746],[136593553,136593553],[136593678,136593678],[136652491,136652491],[136652524,136652524],[136661150,136661150],[136669264,136669264],[136726567,136726567],[136732772,136732772],[136652953,136652953],[136655582,136655582],[136674028,136674028],[136684940,136684940],[136761175,136761175],[136653925,136653925],[136654833,136654833],[136656534,136656534],[136656536,136656536],[136657252,136657252],[136667301,136667301],[136667487,136667487],[136672775,136672775],[136680534,136680534],[136686393,136686393],[136688749,136688749],[136692553,136692553],[136697371,136697371],[136708787,136708787],[136710372,136710372],[136711064,136711064],[136715324,136715324],[136723504,136723504],[136737460,136737460],[136743143,136743143],[136746224,136746224],[136751842,136751842],[136759379,136759379],[136761853,136761853]],\"ys\":[[650,696],[650,696],[650,696],[650,696],[650,696],[650,696],[650,696],[650,696],[650,696],[650,696],[650,696],[650,696],[650,696],[250,291],[250,291],[250,291],[250,291],[250,291],[250,291],[250,291],[250,291],[250,291],[150,166],[150,166],[150,166],[150,166],[150,166],[150,166],[50,61],[50,61],[50,61],[50,61],[50,61],[550,594],[550,594],[550,594],[550,594],[550,594],[550,594],[550,594],[550,594],[550,594],[550,594],[550,594],[550,594],[550,594],[550,594],[550,594],[550,594],[550,594],[550,594],[550,594],[550,594],[550,594],[550,594],[550,594],[550,594],[550,594],[550,594],[550,594],[550,594],[550,594],[550,594],[550,594],[550,594],[250,290],[250,290],[250,290],[250,290],[250,290],[250,290],[250,290],[250,290],[250,290],[250,290],[250,290],[250,290],[250,290],[250,290],[250,290],[250,290],[250,290],[250,290],[250,290],[250,290],[250,290],[250,290],[250,290],[250,290],[250,290],[250,290],[250,290],[250,290],[250,290],[250,290],[250,290],[250,290],[250,290],[250,290],[250,290],[250,290],[250,290],[250,290],[250,290],[250,290],[250,290],[250,290],[250,290],[250,290],[250,290],[250,290],[250,290],[250,290],[250,290],[250,290],[250,290],[250,290],[250,290],[250,290],[250,290],[250,290],[250,290],[250,290],[250,290],[250,290],[250,290],[250,290],[250,290],[250,290],[250,290],[250,290],[250,290],[250,290],[250,290],[250,290],[250,290],[250,290],[250,290],[250,290],[250,290],[250,290],[250,290],[250,290],[250,290],[250,290],[250,290],[150,167],[150,167],[150,167],[150,167],[150,167],[150,167],[150,167],[350,393],[350,393],[350,393],[350,393],[350,393],[350,393],[350,393],[350,393],[350,393],[350,393],[350,393],[350,393],[350,393],[550,594],[550,594],[550,594],[550,594],[450,494],[450,494],[450,494],[450,494],[450,494],[450,494],[450,494],[650,696],[650,696],[650,696],[650,696],[650,696],[650,696],[650,696],[350,392],[350,392],[350,392],[350,392],[350,392],[350,392],[450,494],[450,494],[450,494],[450,494],[450,494],[650,695],[650,695],[650,695],[650,695],[650,695],[650,695],[650,695],[650,695],[650,695],[650,695],[650,695],[650,695],[650,695],[650,695],[650,695],[650,695],[650,695],[650,695],[650,695],[650,695],[650,695],[650,695],[650,695],[650,695]]}},\"id\":\"074f849a-ab9c-4f86-ad7f-c2c91c2bcd31\",\"type\":\"ColumnDataSource\"}],\"root_ids\":[\"09c83bdd-38d9-4c23-91ab-823e507c9390\"]},\"title\":\"Bokeh Application\",\"version\":\"0.12.0\"}};\n",
       "            var render_items = [{\"docid\":\"a61fc89a-4e8c-478e-b23b-a6bf3bc1580a\",\"elementid\":\"20e77fe4-7bcb-464e-9616-053e4c2bda0e\",\"modelid\":\"09c83bdd-38d9-4c23-91ab-823e507c9390\",\"notebook_comms_target\":\"b504f3f7-d381-4748-b555-c7bd5cb589d7\"}];\n",
       "            \n",
       "            Bokeh.embed.embed_items(docs_json, render_items);\n",
       "        });\n",
       "      },\n",
       "      function(Bokeh) {\n",
       "      }\n",
       "    ];\n",
       "  \n",
       "    function run_inline_js() {\n",
       "      for (var i = 0; i < inline_js.length; i++) {\n",
       "        inline_js[i](window.Bokeh);\n",
       "      }\n",
       "    }\n",
       "  \n",
       "    if (window._bokeh_is_loading === 0) {\n",
       "      console.log(\"Bokeh: BokehJS loaded, going straight to plotting\");\n",
       "      run_inline_js();\n",
       "    } else {\n",
       "      load_libs(js_urls, function() {\n",
       "        console.log(\"Bokeh: BokehJS plotting callback run at\", now());\n",
       "        run_inline_js();\n",
       "      });\n",
       "    }\n",
       "  }(this));\n",
       "</script>"
      ]
     },
     "metadata": {},
     "output_type": "display_data"
    },
    {
     "data": {
      "text/html": [
       "<p><code>&lt;Bokeh Notebook handle for <strong>In[16]</strong>&gt;</code></p>"
      ],
      "text/plain": [
       "<bokeh.io._CommsHandle at 0x7f861c073dd0>"
      ]
     },
     "execution_count": 16,
     "metadata": {},
     "output_type": "execute_result"
    }
   ],
   "source": [
    "plt_obj = dm.superset_yes_no([di_7_59], [dm.di_5_684, dm.di_5_1460, di_14_43], min_match=0.001)\n",
    "plt = plt_obj.do_plot()\n",
    "am = plt_obj.plot_context.yes_allele_mask\n",
    "show(plt)"
   ]
  },
  {
   "cell_type": "code",
   "execution_count": 17,
   "metadata": {
    "collapsed": false
   },
   "outputs": [
    {
     "data": {
      "text/html": [
       "<table>\n",
       "<thead><tr><th style=\"text-align:center\">index</th><th style=\"text-align:center\">first</th><th style=\"text-align:center\">length</th><th style=\"text-align:center\">snps</th><th style=\"text-align:center\" colspan=2>alleles</th><th style=\"text-align:center\" colspan=2>matches</th><th style=\"text-align:center\" colspan=2>afr</th><th style=\"text-align:center\" colspan=2>afx</th><th style=\"text-align:center\" colspan=2>amr</th><th style=\"text-align:center\" colspan=2>eas</th><th style=\"text-align:center\" colspan=2>eur</th><th style=\"text-align:center\" colspan=2>sas</th><th style=\"text-align:center\" colspan=2>sax</th></tr></thead>\n",
       "<tr class=\"even\"><td style=\"text-align: right;\">354033</td><td style=\"text-align: right;\">136,588,031</td><td style=\"text-align: right;\">5,647</td><td style=\"text-align: right;\">7</td><td style=\"text-align: right;\">1760</td><td style=\"text-align: right;\">0.00</td><td style=\"text-align: right;\">1</td><td style=\"text-align: right;\">1.00</td><td style=\"text-align: right;\">0</td><td style=\"text-align: right;\">0.00</td><td style=\"text-align: right;\">0</td><td style=\"text-align: right;\">0.00</td><td style=\"text-align: right;\">0</td><td style=\"text-align: right;\">0.00</td><td style=\"text-align: right;\">0</td><td style=\"text-align: right;\">0.00</td><td style=\"text-align: right;\">1</td><td style=\"text-align: right;\">3.57</td><td style=\"text-align: right;\">0</td><td style=\"text-align: right;\">0.00</td><td style=\"text-align: right;\">0</td><td style=\"text-align: right;\">0.00</td></tr>\n",
       "<tr><td style=\"text-align: right;\">353240</td><td style=\"text-align: right;\">135,757,320</td><td style=\"text-align: right;\">20,184</td><td style=\"text-align: right;\">13</td><td style=\"text-align: right;\">1696</td><td style=\"text-align: right;\">0.00</td><td style=\"text-align: right;\">1</td><td style=\"text-align: right;\">1.00</td><td style=\"text-align: right;\">0</td><td style=\"text-align: right;\">0.00</td><td style=\"text-align: right;\">0</td><td style=\"text-align: right;\">0.00</td><td style=\"text-align: right;\">0</td><td style=\"text-align: right;\">0.00</td><td style=\"text-align: right;\">0</td><td style=\"text-align: right;\">0.00</td><td style=\"text-align: right;\">1</td><td style=\"text-align: right;\">3.57</td><td style=\"text-align: right;\">0</td><td style=\"text-align: right;\">0.00</td><td style=\"text-align: right;\">0</td><td style=\"text-align: right;\">0.00</td></tr>\n",
       "<tr class=\"even\"><td style=\"text-align: right;\">354130</td><td style=\"text-align: right;\">136,653,925</td><td style=\"text-align: right;\">107,928</td><td style=\"text-align: right;\">24</td><td style=\"text-align: right;\">1504</td><td style=\"text-align: right;\">0.00</td><td style=\"text-align: right;\">1</td><td style=\"text-align: right;\">1.00</td><td style=\"text-align: right;\">0</td><td style=\"text-align: right;\">0.00</td><td style=\"text-align: right;\">0</td><td style=\"text-align: right;\">0.00</td><td style=\"text-align: right;\">0</td><td style=\"text-align: right;\">0.00</td><td style=\"text-align: right;\">0</td><td style=\"text-align: right;\">0.00</td><td style=\"text-align: right;\">1</td><td style=\"text-align: right;\">3.57</td><td style=\"text-align: right;\">0</td><td style=\"text-align: right;\">0.00</td><td style=\"text-align: right;\">0</td><td style=\"text-align: right;\">0.00</td></tr>\n",
       "<tr><td style=\"text-align: right;\">353925</td><td style=\"text-align: right;\">136,506,375</td><td style=\"text-align: right;\">32,564</td><td style=\"text-align: right;\">4</td><td style=\"text-align: right;\">1442</td><td style=\"text-align: right;\">0.00</td><td style=\"text-align: right;\">1</td><td style=\"text-align: right;\">1.00</td><td style=\"text-align: right;\">0</td><td style=\"text-align: right;\">0.00</td><td style=\"text-align: right;\">0</td><td style=\"text-align: right;\">0.00</td><td style=\"text-align: right;\">0</td><td style=\"text-align: right;\">0.00</td><td style=\"text-align: right;\">0</td><td style=\"text-align: right;\">0.00</td><td style=\"text-align: right;\">1</td><td style=\"text-align: right;\">3.57</td><td style=\"text-align: right;\">0</td><td style=\"text-align: right;\">0.00</td><td style=\"text-align: right;\">0</td><td style=\"text-align: right;\">0.00</td></tr>\n",
       "<tr class=\"even\"><td style=\"text-align: right;\">353791</td><td style=\"text-align: right;\">136,393,658</td><td style=\"text-align: right;\">92,684</td><td style=\"text-align: right;\">32</td><td style=\"text-align: right;\">1361</td><td style=\"text-align: right;\">0.00</td><td style=\"text-align: right;\">1</td><td style=\"text-align: right;\">1.00</td><td style=\"text-align: right;\">0</td><td style=\"text-align: right;\">0.00</td><td style=\"text-align: right;\">0</td><td style=\"text-align: right;\">0.00</td><td style=\"text-align: right;\">0</td><td style=\"text-align: right;\">0.00</td><td style=\"text-align: right;\">0</td><td style=\"text-align: right;\">0.00</td><td style=\"text-align: right;\">1</td><td style=\"text-align: right;\">3.57</td><td style=\"text-align: right;\">0</td><td style=\"text-align: right;\">0.00</td><td style=\"text-align: right;\">0</td><td style=\"text-align: right;\">0.00</td></tr>\n",
       "<tr><td style=\"text-align: right;\">353958</td><td style=\"text-align: right;\">136,535,876</td><td style=\"text-align: right;\">19,014</td><td style=\"text-align: right;\">7</td><td style=\"text-align: right;\">1303</td><td style=\"text-align: right;\">0.00</td><td style=\"text-align: right;\">1</td><td style=\"text-align: right;\">1.00</td><td style=\"text-align: right;\">0</td><td style=\"text-align: right;\">0.00</td><td style=\"text-align: right;\">0</td><td style=\"text-align: right;\">0.00</td><td style=\"text-align: right;\">0</td><td style=\"text-align: right;\">0.00</td><td style=\"text-align: right;\">0</td><td style=\"text-align: right;\">0.00</td><td style=\"text-align: right;\">1</td><td style=\"text-align: right;\">3.57</td><td style=\"text-align: right;\">0</td><td style=\"text-align: right;\">0.00</td><td style=\"text-align: right;\">0</td><td style=\"text-align: right;\">0.00</td></tr>\n",
       "<tr class=\"even\"><td style=\"text-align: right;\">354129</td><td style=\"text-align: right;\">136,652,953</td><td style=\"text-align: right;\">108,222</td><td style=\"text-align: right;\">5</td><td style=\"text-align: right;\">1296</td><td style=\"text-align: right;\">0.00</td><td style=\"text-align: right;\">1</td><td style=\"text-align: right;\">1.00</td><td style=\"text-align: right;\">0</td><td style=\"text-align: right;\">0.00</td><td style=\"text-align: right;\">0</td><td style=\"text-align: right;\">0.00</td><td style=\"text-align: right;\">0</td><td style=\"text-align: right;\">0.00</td><td style=\"text-align: right;\">0</td><td style=\"text-align: right;\">0.00</td><td style=\"text-align: right;\">1</td><td style=\"text-align: right;\">3.57</td><td style=\"text-align: right;\">0</td><td style=\"text-align: right;\">0.00</td><td style=\"text-align: right;\">0</td><td style=\"text-align: right;\">0.00</td></tr>\n",
       "<tr><td style=\"text-align: right;\">353919</td><td style=\"text-align: right;\">136,500,475</td><td style=\"text-align: right;\">42,085</td><td style=\"text-align: right;\">13</td><td style=\"text-align: right;\">1227</td><td style=\"text-align: right;\">0.00</td><td style=\"text-align: right;\">1</td><td style=\"text-align: right;\">1.00</td><td style=\"text-align: right;\">0</td><td style=\"text-align: right;\">0.00</td><td style=\"text-align: right;\">0</td><td style=\"text-align: right;\">0.00</td><td style=\"text-align: right;\">0</td><td style=\"text-align: right;\">0.00</td><td style=\"text-align: right;\">0</td><td style=\"text-align: right;\">0.00</td><td style=\"text-align: right;\">1</td><td style=\"text-align: right;\">3.57</td><td style=\"text-align: right;\">0</td><td style=\"text-align: right;\">0.00</td><td style=\"text-align: right;\">0</td><td style=\"text-align: right;\">0.00</td></tr>\n",
       "<tr class=\"even\"><td style=\"text-align: right;\">354127</td><td style=\"text-align: right;\">136,652,491</td><td style=\"text-align: right;\">80,281</td><td style=\"text-align: right;\">6</td><td style=\"text-align: right;\">1114</td><td style=\"text-align: right;\">0.00</td><td style=\"text-align: right;\">1</td><td style=\"text-align: right;\">1.00</td><td style=\"text-align: right;\">0</td><td style=\"text-align: right;\">0.00</td><td style=\"text-align: right;\">0</td><td style=\"text-align: right;\">0.00</td><td style=\"text-align: right;\">0</td><td style=\"text-align: right;\">0.00</td><td style=\"text-align: right;\">0</td><td style=\"text-align: right;\">0.00</td><td style=\"text-align: right;\">1</td><td style=\"text-align: right;\">3.57</td><td style=\"text-align: right;\">0</td><td style=\"text-align: right;\">0.00</td><td style=\"text-align: right;\">0</td><td style=\"text-align: right;\">0.00</td></tr>\n",
       "<tr><td style=\"text-align: right;\">353372</td><td style=\"text-align: right;\">135,829,592</td><td style=\"text-align: right;\">591,316</td><td style=\"text-align: right;\">9</td><td style=\"text-align: right;\">944</td><td style=\"text-align: right;\">0.00</td><td style=\"text-align: right;\">1</td><td style=\"text-align: right;\">1.00</td><td style=\"text-align: right;\">0</td><td style=\"text-align: right;\">0.00</td><td style=\"text-align: right;\">0</td><td style=\"text-align: right;\">0.00</td><td style=\"text-align: right;\">0</td><td style=\"text-align: right;\">0.00</td><td style=\"text-align: right;\">0</td><td style=\"text-align: right;\">0.00</td><td style=\"text-align: right;\">1</td><td style=\"text-align: right;\">3.57</td><td style=\"text-align: right;\">0</td><td style=\"text-align: right;\">0.00</td><td style=\"text-align: right;\">0</td><td style=\"text-align: right;\">0.00</td></tr>\n",
       "<tr class=\"even\"><td style=\"text-align: right;\">353902</td><td style=\"text-align: right;\">136,494,985</td><td style=\"text-align: right;\">278,653</td><td style=\"text-align: right;\">81</td><td style=\"text-align: right;\">857</td><td style=\"text-align: right;\">0.00</td><td style=\"text-align: right;\">1</td><td style=\"text-align: right;\">1.00</td><td style=\"text-align: right;\">0</td><td style=\"text-align: right;\">0.00</td><td style=\"text-align: right;\">0</td><td style=\"text-align: right;\">0.00</td><td style=\"text-align: right;\">0</td><td style=\"text-align: right;\">0.00</td><td style=\"text-align: right;\">0</td><td style=\"text-align: right;\">0.00</td><td style=\"text-align: right;\">1</td><td style=\"text-align: right;\">3.57</td><td style=\"text-align: right;\">0</td><td style=\"text-align: right;\">0.00</td><td style=\"text-align: right;\">0</td><td style=\"text-align: right;\">0.00</td></tr>\n",
       "<tr><td style=\"text-align: right;\">353917</td><td style=\"text-align: right;\">136,499,236</td><td style=\"text-align: right;\">176,092</td><td style=\"text-align: right;\">7</td><td style=\"text-align: right;\">59</td><td style=\"text-align: right;\">0.02</td><td style=\"text-align: right;\">1</td><td style=\"text-align: right;\">1.00</td><td style=\"text-align: right;\">0</td><td style=\"text-align: right;\">0.00</td><td style=\"text-align: right;\">0</td><td style=\"text-align: right;\">0.00</td><td style=\"text-align: right;\">0</td><td style=\"text-align: right;\">0.00</td><td style=\"text-align: right;\">0</td><td style=\"text-align: right;\">0.00</td><td style=\"text-align: right;\">1</td><td style=\"text-align: right;\">3.57</td><td style=\"text-align: right;\">0</td><td style=\"text-align: right;\">0.00</td><td style=\"text-align: right;\">0</td><td style=\"text-align: right;\">0.00</td></tr>\n",
       "<tr class=\"even\"><td style=\"text-align: right;\">353430</td><td style=\"text-align: right;\">135,879,258</td><td style=\"text-align: right;\">516,511</td><td style=\"text-align: right;\">6</td><td style=\"text-align: right;\">54</td><td style=\"text-align: right;\">0.02</td><td style=\"text-align: right;\">1</td><td style=\"text-align: right;\">1.00</td><td style=\"text-align: right;\">0</td><td style=\"text-align: right;\">0.00</td><td style=\"text-align: right;\">0</td><td style=\"text-align: right;\">0.00</td><td style=\"text-align: right;\">0</td><td style=\"text-align: right;\">0.00</td><td style=\"text-align: right;\">0</td><td style=\"text-align: right;\">0.00</td><td style=\"text-align: right;\">1</td><td style=\"text-align: right;\">3.57</td><td style=\"text-align: right;\">0</td><td style=\"text-align: right;\">0.00</td><td style=\"text-align: right;\">0</td><td style=\"text-align: right;\">0.00</td></tr>\n",
       "<tr><td style=\"text-align: right;\">353469</td><td style=\"text-align: right;\">135,922,944</td><td style=\"text-align: right;\">346,911</td><td style=\"text-align: right;\">5</td><td style=\"text-align: right;\">31</td><td style=\"text-align: right;\">0.03</td><td style=\"text-align: right;\">1</td><td style=\"text-align: right;\">1.00</td><td style=\"text-align: right;\">0</td><td style=\"text-align: right;\">0.00</td><td style=\"text-align: right;\">0</td><td style=\"text-align: right;\">0.00</td><td style=\"text-align: right;\">0</td><td style=\"text-align: right;\">0.00</td><td style=\"text-align: right;\">0</td><td style=\"text-align: right;\">0.00</td><td style=\"text-align: right;\">1</td><td style=\"text-align: right;\">3.57</td><td style=\"text-align: right;\">0</td><td style=\"text-align: right;\">0.00</td><td style=\"text-align: right;\">0</td><td style=\"text-align: right;\">0.00</td></tr>\n",
       "</table>"
      ],
      "text/plain": [
       "<IPython.core.display.HTML object>"
      ]
     },
     "execution_count": 17,
     "metadata": {},
     "output_type": "execute_result"
    }
   ],
   "source": [
    "HTML(plt_obj.get_html())"
   ]
  },
  {
   "cell_type": "code",
   "execution_count": 18,
   "metadata": {
    "collapsed": false
   },
   "outputs": [
    {
     "data": {
      "text/html": [
       "\n",
       "\n",
       "    <div class=\"bk-root\">\n",
       "        <div class=\"plotdiv\" id=\"ba5f4fee-eb40-4983-9752-42f91497b00c\"></div>\n",
       "    </div>\n",
       "<script type=\"text/javascript\">\n",
       "  \n",
       "  (function(global) {\n",
       "    function now() {\n",
       "      return new Date();\n",
       "    }\n",
       "  \n",
       "    if (typeof (window._bokeh_onload_callbacks) === \"undefined\") {\n",
       "      window._bokeh_onload_callbacks = [];\n",
       "    }\n",
       "  \n",
       "    function run_callbacks() {\n",
       "      window._bokeh_onload_callbacks.forEach(function(callback) { callback() });\n",
       "      delete window._bokeh_onload_callbacks\n",
       "      console.info(\"Bokeh: all callbacks have finished\");\n",
       "    }\n",
       "  \n",
       "    function load_libs(js_urls, callback) {\n",
       "      window._bokeh_onload_callbacks.push(callback);\n",
       "      if (window._bokeh_is_loading > 0) {\n",
       "        console.log(\"Bokeh: BokehJS is being loaded, scheduling callback at\", now());\n",
       "        return null;\n",
       "      }\n",
       "      if (js_urls == null || js_urls.length === 0) {\n",
       "        run_callbacks();\n",
       "        return null;\n",
       "      }\n",
       "      console.log(\"Bokeh: BokehJS not loaded, scheduling load and callback at\", now());\n",
       "      window._bokeh_is_loading = js_urls.length;\n",
       "      for (var i = 0; i < js_urls.length; i++) {\n",
       "        var url = js_urls[i];\n",
       "        var s = document.createElement('script');\n",
       "        s.src = url;\n",
       "        s.async = false;\n",
       "        s.onreadystatechange = s.onload = function() {\n",
       "          window._bokeh_is_loading--;\n",
       "          if (window._bokeh_is_loading === 0) {\n",
       "            console.log(\"Bokeh: all BokehJS libraries loaded\");\n",
       "            run_callbacks()\n",
       "          }\n",
       "        };\n",
       "        s.onerror = function() {\n",
       "          console.warn(\"failed to load library \" + url);\n",
       "        };\n",
       "        console.log(\"Bokeh: injecting script tag for BokehJS library: \", url);\n",
       "        document.getElementsByTagName(\"head\")[0].appendChild(s);\n",
       "      }\n",
       "    };var element = document.getElementById(\"ba5f4fee-eb40-4983-9752-42f91497b00c\");\n",
       "    if (element == null) {\n",
       "      console.log(\"Bokeh: ERROR: autoload.js configured with elementid 'ba5f4fee-eb40-4983-9752-42f91497b00c' but no matching script tag was found. \")\n",
       "      return false;\n",
       "    }\n",
       "  \n",
       "    var js_urls = [];\n",
       "  \n",
       "    var inline_js = [\n",
       "      function(Bokeh) {\n",
       "        Bokeh.$(function() {\n",
       "            var docs_json = {\"413b60c5-2cda-45ec-aa22-f678b2b3fd64\":{\"roots\":{\"references\":[{\"attributes\":{\"callback\":null,\"column_names\":[\"y\",\"x\",\"vals\"],\"data\":{\"vals\":[\"13_1696\",\"9_944\",\"14_43\",\"32_1361\",\"81_857\",\"7_59\",\"13_1227\",\"4_1442\",\"7_1303\",\"7_1760\",\"6_1114\",\"5_1296\",\"24_1504\"],\"x\":[135757320,135829592,135845676,136393658,136494985,136499236,136500475,136506375,136535876,136588031,136652491,136652953,136653925],\"y\":[601.0,196.0,69.0,499.0,195.0,72.0,298.0,499.0,399.0,601.0,297.0,399.0,600.0]}},\"id\":\"75da1ca7-2777-4277-a533-d107664281ef\",\"type\":\"ColumnDataSource\"},{\"attributes\":{\"data_source\":{\"id\":\"2766fbc1-622c-4362-b640-cc82e3fdc973\",\"type\":\"ColumnDataSource\"},\"glyph\":{\"id\":\"6a0ae9a5-11da-40ea-bc96-8156636140c3\",\"type\":\"Quad\"},\"hover_glyph\":null,\"nonselection_glyph\":{\"id\":\"7d3b9cf6-a87b-40b8-900f-26437a111de4\",\"type\":\"Quad\"},\"selection_glyph\":null},\"id\":\"403f791d-f6bd-4637-bf3d-cfe47e267e4f\",\"type\":\"GlyphRenderer\"},{\"attributes\":{\"bottom\":{\"field\":\"bottom\"},\"fill_alpha\":{\"value\":0.1},\"fill_color\":{\"value\":\"#1f77b4\"},\"left\":{\"field\":\"left\"},\"line_alpha\":{\"value\":0.1},\"line_color\":{\"value\":\"#1f77b4\"},\"right\":{\"field\":\"right\"},\"top\":{\"field\":\"top\"}},\"id\":\"18392aac-00e7-4305-b379-4c62fa7ed0e5\",\"type\":\"Quad\"},{\"attributes\":{\"dimension\":1,\"plot\":{\"id\":\"6d593fe7-1c70-4f00-a250-c9780ac6f442\",\"subtype\":\"Figure\",\"type\":\"Plot\"},\"ticker\":{\"id\":\"180df83b-6cc9-4d77-bd0c-bdd4ffa80a38\",\"type\":\"BasicTicker\"}},\"id\":\"476b06fc-5e4b-442c-a533-83de430d57fd\",\"type\":\"Grid\"},{\"attributes\":{\"below\":[{\"id\":\"e961b9fb-7669-438d-a847-46b0b271b619\",\"type\":\"LinearAxis\"}],\"left\":[{\"id\":\"15642ec4-160a-467a-b469-0bd7bb6b3a64\",\"type\":\"LinearAxis\"}],\"plot_height\":700,\"plot_width\":900,\"renderers\":[{\"id\":\"e961b9fb-7669-438d-a847-46b0b271b619\",\"type\":\"LinearAxis\"},{\"id\":\"a67fd9e6-3079-4c79-9231-498220add440\",\"type\":\"Grid\"},{\"id\":\"15642ec4-160a-467a-b469-0bd7bb6b3a64\",\"type\":\"LinearAxis\"},{\"id\":\"476b06fc-5e4b-442c-a533-83de430d57fd\",\"type\":\"Grid\"},{\"id\":\"38fa5265-a75f-430b-9147-47af92d16264\",\"type\":\"BoxAnnotation\"},{\"id\":\"403f791d-f6bd-4637-bf3d-cfe47e267e4f\",\"type\":\"GlyphRenderer\"},{\"id\":\"1adc70dd-b1f0-4b62-8af1-3ce60e1596e1\",\"type\":\"GlyphRenderer\"},{\"id\":\"d443c8e4-3122-4a6f-b5e4-a7657ca80115\",\"type\":\"LabelSet\"},{\"id\":\"393d27d7-1ba6-40a0-bc26-c0d0f37687b2\",\"type\":\"GlyphRenderer\"},{\"id\":\"17ae3c2f-5dfe-43ab-8a3a-a98c3ba3807a\",\"type\":\"LabelSet\"}],\"title\":{\"id\":\"722a76b8-5c4e-455e-94fe-22808d1a21f2\",\"type\":\"Title\"},\"tool_events\":{\"id\":\"21a4f12f-cce9-428a-8848-177109889b76\",\"type\":\"ToolEvents\"},\"toolbar\":{\"id\":\"a1937871-94d4-45d9-8a98-c16f5fc69941\",\"type\":\"Toolbar\"},\"toolbar_location\":null,\"x_range\":{\"id\":\"f716acdb-180d-4615-bb5c-797075e631f1\",\"type\":\"Range1d\"},\"y_range\":{\"id\":\"e770b7f8-1882-49dd-9a1b-4d09b11cbe37\",\"type\":\"Range1d\"}},\"id\":\"6d593fe7-1c70-4f00-a250-c9780ac6f442\",\"subtype\":\"Figure\",\"type\":\"Plot\"},{\"attributes\":{\"bottom_units\":\"screen\",\"fill_alpha\":{\"value\":0.5},\"fill_color\":{\"value\":\"lightgrey\"},\"left_units\":\"screen\",\"level\":\"overlay\",\"line_alpha\":{\"value\":1.0},\"line_color\":{\"value\":\"black\"},\"line_dash\":[4,4],\"line_width\":{\"value\":2},\"plot\":null,\"render_mode\":\"css\",\"right_units\":\"screen\",\"top_units\":\"screen\"},\"id\":\"38fa5265-a75f-430b-9147-47af92d16264\",\"type\":\"BoxAnnotation\"},{\"attributes\":{\"callback\":null,\"column_names\":[\"xs\",\"ys\",\"line_color\"],\"data\":{\"line_color\":[\"black\",\"black\",\"black\",\"black\",\"black\",\"black\",\"black\",\"black\",\"black\",\"black\",\"black\",\"black\",\"black\",\"black\",\"black\",\"black\",\"black\",\"black\",\"black\",\"black\",\"black\",\"black\",\"black\",\"black\",\"black\",\"black\",\"black\",\"black\",\"black\",\"black\",\"black\",\"black\",\"black\",\"black\",\"black\",\"black\",\"black\",\"black\",\"black\",\"black\",\"black\",\"black\",\"black\",\"black\",\"black\",\"black\",\"black\",\"black\",\"black\",\"black\",\"black\",\"black\",\"black\",\"black\",\"black\",\"black\",\"black\",\"black\",\"black\",\"black\",\"black\",\"black\",\"black\",\"black\",\"black\",\"black\",\"black\",\"black\",\"black\",\"black\",\"black\",\"black\",\"black\",\"black\",\"black\",\"black\",\"black\",\"black\",\"black\",\"black\",\"black\",\"black\",\"black\",\"black\",\"black\",\"black\",\"black\",\"black\",\"black\",\"black\",\"black\",\"black\",\"black\",\"black\",\"black\",\"black\",\"black\",\"black\",\"black\",\"black\",\"black\",\"black\",\"black\",\"black\",\"black\",\"black\",\"black\",\"black\",\"black\",\"black\",\"black\",\"black\",\"black\",\"black\",\"black\",\"black\",\"black\",\"black\",\"black\",\"black\",\"black\",\"black\",\"black\",\"black\",\"black\",\"black\",\"black\",\"black\",\"black\",\"black\",\"black\",\"black\",\"black\",\"black\",\"black\",\"black\",\"black\",\"black\",\"black\",\"black\",\"black\",\"black\",\"black\",\"black\",\"black\",\"black\",\"black\",\"black\",\"black\",\"black\",\"black\",\"black\",\"black\",\"black\",\"black\",\"black\",\"black\",\"black\",\"black\",\"black\",\"black\",\"black\",\"black\",\"black\",\"black\",\"black\",\"black\",\"black\",\"black\",\"black\",\"black\",\"black\",\"black\",\"black\",\"black\",\"black\",\"black\",\"black\",\"black\",\"black\",\"black\",\"black\",\"black\",\"black\",\"black\",\"black\",\"black\",\"black\",\"black\",\"black\",\"black\",\"black\",\"black\",\"black\",\"black\",\"black\",\"black\",\"black\",\"black\",\"black\",\"black\",\"black\",\"black\",\"black\",\"black\",\"black\",\"black\",\"black\",\"black\",\"black\",\"black\",\"black\",\"black\",\"black\",\"black\",\"black\",\"black\",\"black\",\"black\",\"black\",\"black\",\"black\"],\"xs\":[[135757320,135757320],[135761078,135761078],[135761271,135761271],[135762344,135762344],[135762980,135762980],[135763280,135763280],[135768815,135768815],[135769093,135769093],[135769127,135769127],[135770940,135770940],[135770951,135770951],[135776728,135776728],[135777504,135777504],[135829592,135829592],[135893372,135893372],[135952405,135952405],[135989721,135989721],[136136056,136136056],[136313639,136313639],[136401418,136401418],[136407078,136407078],[136420908,136420908],[135845676,135845676],[135967928,135967928],[135986556,135986556],[136004969,136004969],[136015490,136015490],[136032851,136032851],[136093434,136093434],[136216669,136216669],[136279157,136279157],[136321806,136321806],[136341131,136341131],[136401934,136401934],[136405903,136405903],[136487576,136487576],[136393658,136393658],[136396300,136396300],[136401843,136401843],[136407445,136407445],[136411879,136411879],[136412270,136412270],[136413244,136413244],[136413847,136413847],[136415217,136415217],[136416533,136416533],[136420726,136420726],[136429857,136429857],[136433740,136433740],[136436317,136436317],[136437615,136437615],[136438517,136438517],[136440300,136440300],[136443900,136443900],[136444185,136444185],[136444338,136444338],[136449254,136449254],[136451676,136451676],[136459227,136459227],[136463117,136463117],[136463454,136463454],[136467119,136467119],[136468238,136468238],[136470219,136470219],[136483355,136483355],[136485276,136485276],[136486340,136486340],[136486342,136486342],[136494985,136494985],[136497199,136497199],[136511817,136511817],[136513670,136513670],[136515458,136515458],[136516970,136516970],[136525309,136525309],[136528034,136528034],[136532225,136532225],[136535235,136535235],[136536095,136536095],[136544423,136544423],[136546927,136546927],[136552188,136552188],[136552517,136552517],[136555525,136555525],[136556480,136556480],[136560464,136560464],[136572285,136572285],[136582694,136582694],[136582809,136582809],[136584538,136584538],[136585323,136585323],[136586825,136586825],[136600662,136600662],[136612036,136612036],[136618178,136618178],[136618507,136618507],[136622543,136622543],[136624947,136624947],[136625113,136625113],[136626078,136626078],[136628121,136628121],[136632300,136632300],[136633962,136633962],[136635343,136635343],[136638113,136638113],[136640101,136640101],[136641593,136641593],[136646582,136646582],[136648077,136648077],[136648883,136648883],[136652045,136652045],[136653848,136653848],[136656094,136656094],[136661110,136661110],[136663110,136663110],[136663605,136663605],[136665162,136665162],[136665711,136665711],[136668123,136668123],[136670419,136670419],[136672680,136672680],[136673546,136673546],[136684632,136684632],[136686114,136686114],[136690425,136690425],[136690783,136690783],[136692893,136692893],[136694905,136694905],[136695694,136695694],[136695705,136695705],[136696608,136696608],[136697372,136697372],[136697468,136697468],[136700024,136700024],[136701539,136701539],[136702118,136702118],[136707480,136707480],[136710554,136710554],[136714178,136714178],[136719173,136719173],[136725459,136725459],[136734569,136734569],[136744678,136744678],[136748779,136748779],[136751488,136751488],[136754183,136754183],[136763242,136763242],[136765074,136765074],[136773638,136773638],[136499236,136499236],[136525856,136525856],[136554477,136554477],[136577346,136577346],[136604166,136604166],[136655568,136655568],[136675328,136675328],[136500475,136500475],[136501509,136501509],[136504101,136504101],[136509868,136509868],[136520043,136520043],[136527120,136527120],[136530379,136530379],[136530443,136530443],[136539330,136539330],[136539670,136539670],[136540083,136540083],[136542559,136542559],[136542560,136542560],[136506375,136506375],[136506927,136506927],[136510012,136510012],[136538939,136538939],[136535876,136535876],[136544651,136544651],[136545844,136545844],[136552526,136552526],[136553022,136553022],[136554797,136554797],[136554890,136554890],[136588031,136588031],[136589278,136589278],[136589379,136589379],[136589741,136589741],[136590746,136590746],[136593553,136593553],[136593678,136593678],[136652491,136652491],[136652524,136652524],[136661150,136661150],[136669264,136669264],[136726567,136726567],[136732772,136732772],[136652953,136652953],[136655582,136655582],[136674028,136674028],[136684940,136684940],[136761175,136761175],[136653925,136653925],[136654833,136654833],[136656534,136656534],[136656536,136656536],[136657252,136657252],[136667301,136667301],[136667487,136667487],[136672775,136672775],[136680534,136680534],[136686393,136686393],[136688749,136688749],[136692553,136692553],[136697371,136697371],[136708787,136708787],[136710372,136710372],[136711064,136711064],[136715324,136715324],[136723504,136723504],[136737460,136737460],[136743143,136743143],[136746224,136746224],[136751842,136751842],[136759379,136759379],[136761853,136761853]],\"ys\":[[550,596],[550,596],[550,596],[550,596],[550,596],[550,596],[550,596],[550,596],[550,596],[550,596],[550,596],[550,596],[550,596],[150,191],[150,191],[150,191],[150,191],[150,191],[150,191],[150,191],[150,191],[150,191],[50,64],[50,64],[50,64],[50,64],[50,64],[50,64],[50,64],[50,64],[50,64],[50,64],[50,64],[50,64],[50,64],[50,64],[450,494],[450,494],[450,494],[450,494],[450,494],[450,494],[450,494],[450,494],[450,494],[450,494],[450,494],[450,494],[450,494],[450,494],[450,494],[450,494],[450,494],[450,494],[450,494],[450,494],[450,494],[450,494],[450,494],[450,494],[450,494],[450,494],[450,494],[450,494],[450,494],[450,494],[450,494],[450,494],[150,190],[150,190],[150,190],[150,190],[150,190],[150,190],[150,190],[150,190],[150,190],[150,190],[150,190],[150,190],[150,190],[150,190],[150,190],[150,190],[150,190],[150,190],[150,190],[150,190],[150,190],[150,190],[150,190],[150,190],[150,190],[150,190],[150,190],[150,190],[150,190],[150,190],[150,190],[150,190],[150,190],[150,190],[150,190],[150,190],[150,190],[150,190],[150,190],[150,190],[150,190],[150,190],[150,190],[150,190],[150,190],[150,190],[150,190],[150,190],[150,190],[150,190],[150,190],[150,190],[150,190],[150,190],[150,190],[150,190],[150,190],[150,190],[150,190],[150,190],[150,190],[150,190],[150,190],[150,190],[150,190],[150,190],[150,190],[150,190],[150,190],[150,190],[150,190],[150,190],[150,190],[150,190],[150,190],[150,190],[150,190],[150,190],[150,190],[150,190],[150,190],[50,67],[50,67],[50,67],[50,67],[50,67],[50,67],[50,67],[250,293],[250,293],[250,293],[250,293],[250,293],[250,293],[250,293],[250,293],[250,293],[250,293],[250,293],[250,293],[250,293],[450,494],[450,494],[450,494],[450,494],[350,394],[350,394],[350,394],[350,394],[350,394],[350,394],[350,394],[550,596],[550,596],[550,596],[550,596],[550,596],[550,596],[550,596],[250,292],[250,292],[250,292],[250,292],[250,292],[250,292],[350,394],[350,394],[350,394],[350,394],[350,394],[550,595],[550,595],[550,595],[550,595],[550,595],[550,595],[550,595],[550,595],[550,595],[550,595],[550,595],[550,595],[550,595],[550,595],[550,595],[550,595],[550,595],[550,595],[550,595],[550,595],[550,595],[550,595],[550,595],[550,595]]}},\"id\":\"e6b56864-a1df-46c8-9a56-6a288359ce8f\",\"type\":\"ColumnDataSource\"},{\"attributes\":{\"callback\":null,\"column_names\":[\"y\",\"x\",\"vals\"],\"data\":{\"vals\":[\"RAB3GAP1\",\"ZRANB3\",\"R3HDM1\",\"UBXN4\",\"LCT\",\"MCM6\",\"DARS\"],\"x\":[135869057.0,136122878.0,136385961.0,136520911.0,136570082.5,136615621.5,136703738.0],\"y\":[660.0,660.0,660.0,660.0,660.0,660.0,660.0]}},\"id\":\"946bc0be-b2b0-40af-af43-8a4ca1c14bc0\",\"type\":\"ColumnDataSource\"},{\"attributes\":{\"active_drag\":\"auto\",\"active_scroll\":\"auto\",\"active_tap\":\"auto\",\"tools\":[{\"id\":\"c3268c11-c7c1-4577-92b1-cbe97ebc3b3a\",\"type\":\"PanTool\"},{\"id\":\"82191aef-8478-4770-aa41-a1a45839f6f9\",\"type\":\"WheelZoomTool\"},{\"id\":\"0cc7ff3a-604a-4c93-9e79-c64f2345c5bd\",\"type\":\"BoxZoomTool\"},{\"id\":\"2e4b3ef7-3d6f-466c-b59b-5e7683743433\",\"type\":\"SaveTool\"},{\"id\":\"1f27866d-bfb8-4f4f-ae32-eeacb5aa3fe4\",\"type\":\"ResetTool\"},{\"id\":\"da3bee35-f8b4-438e-9ce7-0e17593d64bd\",\"type\":\"HelpTool\"}]},\"id\":\"a1937871-94d4-45d9-8a98-c16f5fc69941\",\"type\":\"Toolbar\"},{\"attributes\":{\"plot\":{\"id\":\"6d593fe7-1c70-4f00-a250-c9780ac6f442\",\"subtype\":\"Figure\",\"type\":\"Plot\"}},\"id\":\"c3268c11-c7c1-4577-92b1-cbe97ebc3b3a\",\"type\":\"PanTool\"},{\"attributes\":{\"plot\":null,\"text\":null},\"id\":\"722a76b8-5c4e-455e-94fe-22808d1a21f2\",\"type\":\"Title\"},{\"attributes\":{\"bottom\":{\"field\":\"bottom\"},\"fill_color\":{\"value\":\"white\"},\"left\":{\"field\":\"left\"},\"right\":{\"field\":\"right\"},\"top\":{\"field\":\"top\"}},\"id\":\"e7e8b55c-3013-441b-9dda-80c003bad559\",\"type\":\"Quad\"},{\"attributes\":{\"data_source\":{\"id\":\"e6b56864-a1df-46c8-9a56-6a288359ce8f\",\"type\":\"ColumnDataSource\"},\"glyph\":{\"id\":\"ec2efaf0-b724-4a82-9841-c09205459a34\",\"type\":\"MultiLine\"},\"hover_glyph\":null,\"nonselection_glyph\":{\"id\":\"b18dad66-515d-46b3-b712-cc20fd04a4c6\",\"type\":\"MultiLine\"},\"selection_glyph\":null},\"id\":\"1adc70dd-b1f0-4b62-8af1-3ce60e1596e1\",\"type\":\"GlyphRenderer\"},{\"attributes\":{\"level\":\"glyph\",\"plot\":{\"id\":\"6d593fe7-1c70-4f00-a250-c9780ac6f442\",\"subtype\":\"Figure\",\"type\":\"Plot\"},\"source\":{\"id\":\"75da1ca7-2777-4277-a533-d107664281ef\",\"type\":\"ColumnDataSource\"},\"text\":{\"field\":\"vals\"},\"text_font_size\":{\"value\":\"9pt\"},\"text_font_style\":\"bold\",\"x\":{\"field\":\"x\"},\"y\":{\"field\":\"y\"}},\"id\":\"d443c8e4-3122-4a6f-b5e4-a7657ca80115\",\"type\":\"LabelSet\"},{\"attributes\":{\"formatter\":{\"id\":\"367c64e0-01a5-419b-ac64-d5eb6efec1b3\",\"type\":\"BasicTickFormatter\"},\"plot\":{\"id\":\"6d593fe7-1c70-4f00-a250-c9780ac6f442\",\"subtype\":\"Figure\",\"type\":\"Plot\"},\"ticker\":{\"id\":\"ee1f391b-6882-4a10-94d7-f0bc48dd6f06\",\"type\":\"BasicTicker\"}},\"id\":\"e961b9fb-7669-438d-a847-46b0b271b619\",\"type\":\"LinearAxis\"},{\"attributes\":{\"callback\":null,\"column_names\":[\"right\",\"bottom\",\"top\",\"left\"],\"data\":{\"bottom\":[645,645,645,645,645,645,645],\"left\":[135809835,135957574,136289083,136499189,136545415,136597196,136664254],\"right\":[135928279,136288182,136482839,136542633,136594750,136634047,136743222],\"top\":[675,675,675,675,675,675,675]}},\"id\":\"aacbf15d-6d8d-4e6c-aefe-a1d200dfb82b\",\"type\":\"ColumnDataSource\"},{\"attributes\":{\"bottom\":{\"field\":\"bottom\"},\"fill_color\":{\"field\":\"fill_color\"},\"left\":{\"field\":\"left\"},\"line_color\":{\"value\":null},\"right\":{\"field\":\"right\"},\"top\":{\"field\":\"top\"}},\"id\":\"6a0ae9a5-11da-40ea-bc96-8156636140c3\",\"type\":\"Quad\"},{\"attributes\":{},\"id\":\"180df83b-6cc9-4d77-bd0c-bdd4ffa80a38\",\"type\":\"BasicTicker\"},{\"attributes\":{\"callback\":null,\"end\":700},\"id\":\"e770b7f8-1882-49dd-9a1b-4d09b11cbe37\",\"type\":\"Range1d\"},{\"attributes\":{\"data_source\":{\"id\":\"aacbf15d-6d8d-4e6c-aefe-a1d200dfb82b\",\"type\":\"ColumnDataSource\"},\"glyph\":{\"id\":\"e7e8b55c-3013-441b-9dda-80c003bad559\",\"type\":\"Quad\"},\"hover_glyph\":null,\"nonselection_glyph\":{\"id\":\"18392aac-00e7-4305-b379-4c62fa7ed0e5\",\"type\":\"Quad\"},\"selection_glyph\":null},\"id\":\"393d27d7-1ba6-40a0-bc26-c0d0f37687b2\",\"type\":\"GlyphRenderer\"},{\"attributes\":{\"line_alpha\":{\"value\":0.1},\"line_color\":{\"value\":\"#1f77b4\"},\"xs\":{\"field\":\"xs\"},\"ys\":{\"field\":\"ys\"}},\"id\":\"b18dad66-515d-46b3-b712-cc20fd04a4c6\",\"type\":\"MultiLine\"},{\"attributes\":{},\"id\":\"bf5c37ba-33b4-4a27-9d44-eb8b3894b6e2\",\"type\":\"BasicTickFormatter\"},{\"attributes\":{\"bottom\":{\"field\":\"bottom\"},\"fill_alpha\":{\"value\":0.1},\"fill_color\":{\"value\":\"#1f77b4\"},\"left\":{\"field\":\"left\"},\"line_alpha\":{\"value\":0.1},\"line_color\":{\"value\":\"#1f77b4\"},\"right\":{\"field\":\"right\"},\"top\":{\"field\":\"top\"}},\"id\":\"7d3b9cf6-a87b-40b8-900f-26437a111de4\",\"type\":\"Quad\"},{\"attributes\":{\"level\":\"glyph\",\"plot\":{\"id\":\"6d593fe7-1c70-4f00-a250-c9780ac6f442\",\"subtype\":\"Figure\",\"type\":\"Plot\"},\"source\":{\"id\":\"946bc0be-b2b0-40af-af43-8a4ca1c14bc0\",\"type\":\"ColumnDataSource\"},\"text\":{\"field\":\"vals\"},\"text_align\":\"center\",\"text_baseline\":\"middle\",\"text_font_size\":{\"value\":\"8pt\"},\"x\":{\"field\":\"x\"},\"y\":{\"field\":\"y\"}},\"id\":\"17ae3c2f-5dfe-43ab-8a3a-a98c3ba3807a\",\"type\":\"LabelSet\"},{\"attributes\":{\"plot\":{\"id\":\"6d593fe7-1c70-4f00-a250-c9780ac6f442\",\"subtype\":\"Figure\",\"type\":\"Plot\"}},\"id\":\"da3bee35-f8b4-438e-9ce7-0e17593d64bd\",\"type\":\"HelpTool\"},{\"attributes\":{\"plot\":{\"id\":\"6d593fe7-1c70-4f00-a250-c9780ac6f442\",\"subtype\":\"Figure\",\"type\":\"Plot\"}},\"id\":\"1f27866d-bfb8-4f4f-ae32-eeacb5aa3fe4\",\"type\":\"ResetTool\"},{\"attributes\":{\"plot\":{\"id\":\"6d593fe7-1c70-4f00-a250-c9780ac6f442\",\"subtype\":\"Figure\",\"type\":\"Plot\"},\"ticker\":{\"id\":\"ee1f391b-6882-4a10-94d7-f0bc48dd6f06\",\"type\":\"BasicTicker\"}},\"id\":\"a67fd9e6-3079-4c79-9231-498220add440\",\"type\":\"Grid\"},{\"attributes\":{\"plot\":{\"id\":\"6d593fe7-1c70-4f00-a250-c9780ac6f442\",\"subtype\":\"Figure\",\"type\":\"Plot\"}},\"id\":\"82191aef-8478-4770-aa41-a1a45839f6f9\",\"type\":\"WheelZoomTool\"},{\"attributes\":{},\"id\":\"21a4f12f-cce9-428a-8848-177109889b76\",\"type\":\"ToolEvents\"},{\"attributes\":{},\"id\":\"367c64e0-01a5-419b-ac64-d5eb6efec1b3\",\"type\":\"BasicTickFormatter\"},{\"attributes\":{\"callback\":null,\"end\":136786630,\"start\":135757320},\"id\":\"f716acdb-180d-4615-bb5c-797075e631f1\",\"type\":\"Range1d\"},{\"attributes\":{\"line_color\":{\"field\":\"line_color\"},\"xs\":{\"field\":\"xs\"},\"ys\":{\"field\":\"ys\"}},\"id\":\"ec2efaf0-b724-4a82-9841-c09205459a34\",\"type\":\"MultiLine\"},{\"attributes\":{\"overlay\":{\"id\":\"38fa5265-a75f-430b-9147-47af92d16264\",\"type\":\"BoxAnnotation\"},\"plot\":{\"id\":\"6d593fe7-1c70-4f00-a250-c9780ac6f442\",\"subtype\":\"Figure\",\"type\":\"Plot\"}},\"id\":\"0cc7ff3a-604a-4c93-9e79-c64f2345c5bd\",\"type\":\"BoxZoomTool\"},{\"attributes\":{},\"id\":\"ee1f391b-6882-4a10-94d7-f0bc48dd6f06\",\"type\":\"BasicTicker\"},{\"attributes\":{\"formatter\":{\"id\":\"bf5c37ba-33b4-4a27-9d44-eb8b3894b6e2\",\"type\":\"BasicTickFormatter\"},\"plot\":{\"id\":\"6d593fe7-1c70-4f00-a250-c9780ac6f442\",\"subtype\":\"Figure\",\"type\":\"Plot\"},\"ticker\":{\"id\":\"180df83b-6cc9-4d77-bd0c-bdd4ffa80a38\",\"type\":\"BasicTicker\"},\"visible\":null},\"id\":\"15642ec4-160a-467a-b469-0bd7bb6b3a64\",\"type\":\"LinearAxis\"},{\"attributes\":{\"plot\":{\"id\":\"6d593fe7-1c70-4f00-a250-c9780ac6f442\",\"subtype\":\"Figure\",\"type\":\"Plot\"}},\"id\":\"2e4b3ef7-3d6f-466c-b59b-5e7683743433\",\"type\":\"SaveTool\"},{\"attributes\":{\"callback\":null,\"column_names\":[\"right\",\"bottom\",\"top\",\"left\",\"fill_color\"],\"data\":{\"bottom\":[550,150,50,450,150,50,250,450,350,550,250,350,550],\"fill_color\":[\"#808080\",\"#c4c461\",\"#00ff00\",\"#c4c461\",\"#808080\",\"#61c461\",\"#808080\",\"#808080\",\"#808080\",\"#c46161\",\"#808080\",\"#808080\",\"#808080\"],\"left\":[135757320,135829592,135845676,136393658,136494985,136499236,136500475,136506375,136535876,136588031,136652491,136652953,136653925],\"right\":[135777504,136420908,136487576,136486342,136773638,136675328,136542560,136538939,136554890,136593678,136732772,136761175,136761853],\"top\":[596,191,64,494,190,67,293,494,394,596,292,394,595]}},\"id\":\"2766fbc1-622c-4362-b640-cc82e3fdc973\",\"type\":\"ColumnDataSource\"}],\"root_ids\":[\"6d593fe7-1c70-4f00-a250-c9780ac6f442\"]},\"title\":\"Bokeh Application\",\"version\":\"0.12.0\"}};\n",
       "            var render_items = [{\"docid\":\"413b60c5-2cda-45ec-aa22-f678b2b3fd64\",\"elementid\":\"ba5f4fee-eb40-4983-9752-42f91497b00c\",\"modelid\":\"6d593fe7-1c70-4f00-a250-c9780ac6f442\",\"notebook_comms_target\":\"e4ada689-f3e1-4e2b-8aa5-248077d41e5d\"}];\n",
       "            \n",
       "            Bokeh.embed.embed_items(docs_json, render_items);\n",
       "        });\n",
       "      },\n",
       "      function(Bokeh) {\n",
       "      }\n",
       "    ];\n",
       "  \n",
       "    function run_inline_js() {\n",
       "      for (var i = 0; i < inline_js.length; i++) {\n",
       "        inline_js[i](window.Bokeh);\n",
       "      }\n",
       "    }\n",
       "  \n",
       "    if (window._bokeh_is_loading === 0) {\n",
       "      console.log(\"Bokeh: BokehJS loaded, going straight to plotting\");\n",
       "      run_inline_js();\n",
       "    } else {\n",
       "      load_libs(js_urls, function() {\n",
       "        console.log(\"Bokeh: BokehJS plotting callback run at\", now());\n",
       "        run_inline_js();\n",
       "      });\n",
       "    }\n",
       "  }(this));\n",
       "</script>"
      ]
     },
     "metadata": {},
     "output_type": "display_data"
    },
    {
     "data": {
      "text/html": [
       "<p><code>&lt;Bokeh Notebook handle for <strong>In[18]</strong>&gt;</code></p>"
      ],
      "text/plain": [
       "<bokeh.io._CommsHandle at 0x7f85ec01f1d0>"
      ]
     },
     "execution_count": 18,
     "metadata": {},
     "output_type": "execute_result"
    }
   ],
   "source": [
    "plt_obj = dm.superset_yes_no([di_14_43, dm.di_13_1696], [dm.di_5_684], min_match=0.001)\n",
    "plt = plt_obj.do_plot()\n",
    "am = plt_obj.plot_context.yes_allele_mask\n",
    "show(plt)"
   ]
  },
  {
   "cell_type": "code",
   "execution_count": 19,
   "metadata": {
    "collapsed": false
   },
   "outputs": [
    {
     "data": {
      "text/html": [
       "<table>\n",
       "<thead><tr><th style=\"text-align:center\">index</th><th style=\"text-align:center\">first</th><th style=\"text-align:center\">length</th><th style=\"text-align:center\">snps</th><th style=\"text-align:center\" colspan=2>alleles</th><th style=\"text-align:center\" colspan=2>matches</th><th style=\"text-align:center\" colspan=2>afr</th><th style=\"text-align:center\" colspan=2>afx</th><th style=\"text-align:center\" colspan=2>amr</th><th style=\"text-align:center\" colspan=2>eas</th><th style=\"text-align:center\" colspan=2>eur</th><th style=\"text-align:center\" colspan=2>sas</th><th style=\"text-align:center\" colspan=2>sax</th></tr></thead>\n",
       "<tr class=\"even\"><td style=\"text-align: right;\">354033</td><td style=\"text-align: right;\">136,588,031</td><td style=\"text-align: right;\">5,647</td><td style=\"text-align: right;\">7</td><td style=\"text-align: right;\">1760</td><td style=\"text-align: right;\">0.00</td><td style=\"text-align: right;\">4</td><td style=\"text-align: right;\">1.00</td><td style=\"text-align: right;\">0</td><td style=\"text-align: right;\">0.00</td><td style=\"text-align: right;\">0</td><td style=\"text-align: right;\">0.00</td><td style=\"text-align: right;\">1</td><td style=\"text-align: right;\">1.71</td><td style=\"text-align: right;\">0</td><td style=\"text-align: right;\">0.00</td><td style=\"text-align: right;\">3</td><td style=\"text-align: right;\">3.33</td><td style=\"text-align: right;\">0</td><td style=\"text-align: right;\">0.00</td><td style=\"text-align: right;\">0</td><td style=\"text-align: right;\">0.00</td></tr>\n",
       "<tr><td style=\"text-align: right;\">353240</td><td style=\"text-align: right;\">135,757,320</td><td style=\"text-align: right;\">20,184</td><td style=\"text-align: right;\">13</td><td style=\"text-align: right;\">1696</td><td style=\"text-align: right;\">0.00</td><td style=\"text-align: right;\">4</td><td style=\"text-align: right;\">1.00</td><td style=\"text-align: right;\">0</td><td style=\"text-align: right;\">0.00</td><td style=\"text-align: right;\">0</td><td style=\"text-align: right;\">0.00</td><td style=\"text-align: right;\">1</td><td style=\"text-align: right;\">1.71</td><td style=\"text-align: right;\">0</td><td style=\"text-align: right;\">0.00</td><td style=\"text-align: right;\">3</td><td style=\"text-align: right;\">3.33</td><td style=\"text-align: right;\">0</td><td style=\"text-align: right;\">0.00</td><td style=\"text-align: right;\">0</td><td style=\"text-align: right;\">0.00</td></tr>\n",
       "<tr class=\"even\"><td style=\"text-align: right;\">354130</td><td style=\"text-align: right;\">136,653,925</td><td style=\"text-align: right;\">107,928</td><td style=\"text-align: right;\">24</td><td style=\"text-align: right;\">1504</td><td style=\"text-align: right;\">0.00</td><td style=\"text-align: right;\">4</td><td style=\"text-align: right;\">1.00</td><td style=\"text-align: right;\">0</td><td style=\"text-align: right;\">0.00</td><td style=\"text-align: right;\">0</td><td style=\"text-align: right;\">0.00</td><td style=\"text-align: right;\">1</td><td style=\"text-align: right;\">1.71</td><td style=\"text-align: right;\">0</td><td style=\"text-align: right;\">0.00</td><td style=\"text-align: right;\">3</td><td style=\"text-align: right;\">3.33</td><td style=\"text-align: right;\">0</td><td style=\"text-align: right;\">0.00</td><td style=\"text-align: right;\">0</td><td style=\"text-align: right;\">0.00</td></tr>\n",
       "<tr><td style=\"text-align: right;\">353925</td><td style=\"text-align: right;\">136,506,375</td><td style=\"text-align: right;\">32,564</td><td style=\"text-align: right;\">4</td><td style=\"text-align: right;\">1442</td><td style=\"text-align: right;\">0.00</td><td style=\"text-align: right;\">4</td><td style=\"text-align: right;\">1.00</td><td style=\"text-align: right;\">0</td><td style=\"text-align: right;\">0.00</td><td style=\"text-align: right;\">0</td><td style=\"text-align: right;\">0.00</td><td style=\"text-align: right;\">1</td><td style=\"text-align: right;\">1.71</td><td style=\"text-align: right;\">0</td><td style=\"text-align: right;\">0.00</td><td style=\"text-align: right;\">3</td><td style=\"text-align: right;\">3.33</td><td style=\"text-align: right;\">0</td><td style=\"text-align: right;\">0.00</td><td style=\"text-align: right;\">0</td><td style=\"text-align: right;\">0.00</td></tr>\n",
       "<tr class=\"even\"><td style=\"text-align: right;\">353791</td><td style=\"text-align: right;\">136,393,658</td><td style=\"text-align: right;\">92,684</td><td style=\"text-align: right;\">32</td><td style=\"text-align: right;\">1361</td><td style=\"text-align: right;\">0.00</td><td style=\"text-align: right;\">4</td><td style=\"text-align: right;\">1.00</td><td style=\"text-align: right;\">0</td><td style=\"text-align: right;\">0.00</td><td style=\"text-align: right;\">0</td><td style=\"text-align: right;\">0.00</td><td style=\"text-align: right;\">1</td><td style=\"text-align: right;\">1.71</td><td style=\"text-align: right;\">0</td><td style=\"text-align: right;\">0.00</td><td style=\"text-align: right;\">3</td><td style=\"text-align: right;\">3.33</td><td style=\"text-align: right;\">0</td><td style=\"text-align: right;\">0.00</td><td style=\"text-align: right;\">0</td><td style=\"text-align: right;\">0.00</td></tr>\n",
       "<tr><td style=\"text-align: right;\">353958</td><td style=\"text-align: right;\">136,535,876</td><td style=\"text-align: right;\">19,014</td><td style=\"text-align: right;\">7</td><td style=\"text-align: right;\">1303</td><td style=\"text-align: right;\">0.00</td><td style=\"text-align: right;\">4</td><td style=\"text-align: right;\">1.00</td><td style=\"text-align: right;\">0</td><td style=\"text-align: right;\">0.00</td><td style=\"text-align: right;\">0</td><td style=\"text-align: right;\">0.00</td><td style=\"text-align: right;\">1</td><td style=\"text-align: right;\">1.71</td><td style=\"text-align: right;\">0</td><td style=\"text-align: right;\">0.00</td><td style=\"text-align: right;\">3</td><td style=\"text-align: right;\">3.33</td><td style=\"text-align: right;\">0</td><td style=\"text-align: right;\">0.00</td><td style=\"text-align: right;\">0</td><td style=\"text-align: right;\">0.00</td></tr>\n",
       "<tr class=\"even\"><td style=\"text-align: right;\">354129</td><td style=\"text-align: right;\">136,652,953</td><td style=\"text-align: right;\">108,222</td><td style=\"text-align: right;\">5</td><td style=\"text-align: right;\">1296</td><td style=\"text-align: right;\">0.00</td><td style=\"text-align: right;\">4</td><td style=\"text-align: right;\">1.00</td><td style=\"text-align: right;\">0</td><td style=\"text-align: right;\">0.00</td><td style=\"text-align: right;\">0</td><td style=\"text-align: right;\">0.00</td><td style=\"text-align: right;\">1</td><td style=\"text-align: right;\">1.71</td><td style=\"text-align: right;\">0</td><td style=\"text-align: right;\">0.00</td><td style=\"text-align: right;\">3</td><td style=\"text-align: right;\">3.33</td><td style=\"text-align: right;\">0</td><td style=\"text-align: right;\">0.00</td><td style=\"text-align: right;\">0</td><td style=\"text-align: right;\">0.00</td></tr>\n",
       "<tr><td style=\"text-align: right;\">353919</td><td style=\"text-align: right;\">136,500,475</td><td style=\"text-align: right;\">42,085</td><td style=\"text-align: right;\">13</td><td style=\"text-align: right;\">1227</td><td style=\"text-align: right;\">0.00</td><td style=\"text-align: right;\">4</td><td style=\"text-align: right;\">1.00</td><td style=\"text-align: right;\">0</td><td style=\"text-align: right;\">0.00</td><td style=\"text-align: right;\">0</td><td style=\"text-align: right;\">0.00</td><td style=\"text-align: right;\">1</td><td style=\"text-align: right;\">1.71</td><td style=\"text-align: right;\">0</td><td style=\"text-align: right;\">0.00</td><td style=\"text-align: right;\">3</td><td style=\"text-align: right;\">3.33</td><td style=\"text-align: right;\">0</td><td style=\"text-align: right;\">0.00</td><td style=\"text-align: right;\">0</td><td style=\"text-align: right;\">0.00</td></tr>\n",
       "<tr class=\"even\"><td style=\"text-align: right;\">354127</td><td style=\"text-align: right;\">136,652,491</td><td style=\"text-align: right;\">80,281</td><td style=\"text-align: right;\">6</td><td style=\"text-align: right;\">1114</td><td style=\"text-align: right;\">0.00</td><td style=\"text-align: right;\">4</td><td style=\"text-align: right;\">1.00</td><td style=\"text-align: right;\">0</td><td style=\"text-align: right;\">0.00</td><td style=\"text-align: right;\">0</td><td style=\"text-align: right;\">0.00</td><td style=\"text-align: right;\">1</td><td style=\"text-align: right;\">1.71</td><td style=\"text-align: right;\">0</td><td style=\"text-align: right;\">0.00</td><td style=\"text-align: right;\">3</td><td style=\"text-align: right;\">3.33</td><td style=\"text-align: right;\">0</td><td style=\"text-align: right;\">0.00</td><td style=\"text-align: right;\">0</td><td style=\"text-align: right;\">0.00</td></tr>\n",
       "<tr><td style=\"text-align: right;\">353372</td><td style=\"text-align: right;\">135,829,592</td><td style=\"text-align: right;\">591,316</td><td style=\"text-align: right;\">9</td><td style=\"text-align: right;\">944</td><td style=\"text-align: right;\">0.00</td><td style=\"text-align: right;\">4</td><td style=\"text-align: right;\">1.00</td><td style=\"text-align: right;\">0</td><td style=\"text-align: right;\">0.00</td><td style=\"text-align: right;\">0</td><td style=\"text-align: right;\">0.00</td><td style=\"text-align: right;\">1</td><td style=\"text-align: right;\">1.71</td><td style=\"text-align: right;\">0</td><td style=\"text-align: right;\">0.00</td><td style=\"text-align: right;\">3</td><td style=\"text-align: right;\">3.33</td><td style=\"text-align: right;\">0</td><td style=\"text-align: right;\">0.00</td><td style=\"text-align: right;\">0</td><td style=\"text-align: right;\">0.00</td></tr>\n",
       "<tr class=\"even\"><td style=\"text-align: right;\">353902</td><td style=\"text-align: right;\">136,494,985</td><td style=\"text-align: right;\">278,653</td><td style=\"text-align: right;\">81</td><td style=\"text-align: right;\">857</td><td style=\"text-align: right;\">0.00</td><td style=\"text-align: right;\">4</td><td style=\"text-align: right;\">1.00</td><td style=\"text-align: right;\">0</td><td style=\"text-align: right;\">0.00</td><td style=\"text-align: right;\">0</td><td style=\"text-align: right;\">0.00</td><td style=\"text-align: right;\">1</td><td style=\"text-align: right;\">1.71</td><td style=\"text-align: right;\">0</td><td style=\"text-align: right;\">0.00</td><td style=\"text-align: right;\">3</td><td style=\"text-align: right;\">3.33</td><td style=\"text-align: right;\">0</td><td style=\"text-align: right;\">0.00</td><td style=\"text-align: right;\">0</td><td style=\"text-align: right;\">0.00</td></tr>\n",
       "<tr><td style=\"text-align: right;\">353917</td><td style=\"text-align: right;\">136,499,236</td><td style=\"text-align: right;\">176,092</td><td style=\"text-align: right;\">7</td><td style=\"text-align: right;\">59</td><td style=\"text-align: right;\">0.07</td><td style=\"text-align: right;\">4</td><td style=\"text-align: right;\">1.00</td><td style=\"text-align: right;\">0</td><td style=\"text-align: right;\">0.00</td><td style=\"text-align: right;\">0</td><td style=\"text-align: right;\">0.00</td><td style=\"text-align: right;\">1</td><td style=\"text-align: right;\">1.71</td><td style=\"text-align: right;\">0</td><td style=\"text-align: right;\">0.00</td><td style=\"text-align: right;\">3</td><td style=\"text-align: right;\">3.33</td><td style=\"text-align: right;\">0</td><td style=\"text-align: right;\">0.00</td><td style=\"text-align: right;\">0</td><td style=\"text-align: right;\">0.00</td></tr>\n",
       "<tr class=\"even\"><td style=\"text-align: right;\">353394</td><td style=\"text-align: right;\">135,845,676</td><td style=\"text-align: right;\">641,900</td><td style=\"text-align: right;\">14</td><td style=\"text-align: right;\">43</td><td style=\"text-align: right;\">0.09</td><td style=\"text-align: right;\">4</td><td style=\"text-align: right;\">1.00</td><td style=\"text-align: right;\">0</td><td style=\"text-align: right;\">0.00</td><td style=\"text-align: right;\">0</td><td style=\"text-align: right;\">0.00</td><td style=\"text-align: right;\">1</td><td style=\"text-align: right;\">1.71</td><td style=\"text-align: right;\">0</td><td style=\"text-align: right;\">0.00</td><td style=\"text-align: right;\">3</td><td style=\"text-align: right;\">3.33</td><td style=\"text-align: right;\">0</td><td style=\"text-align: right;\">0.00</td><td style=\"text-align: right;\">0</td><td style=\"text-align: right;\">0.00</td></tr>\n",
       "</table>"
      ],
      "text/plain": [
       "<IPython.core.display.HTML object>"
      ]
     },
     "execution_count": 19,
     "metadata": {},
     "output_type": "execute_result"
    }
   ],
   "source": [
    "HTML(plt_obj.get_html())"
   ]
  },
  {
   "cell_type": "code",
   "execution_count": 20,
   "metadata": {
    "collapsed": false
   },
   "outputs": [
    {
     "data": {
      "text/plain": [
       "array([(14, 4)], \n",
       "      dtype=[('count', '<u2'), ('snps', '<u2')])"
      ]
     },
     "execution_count": 20,
     "metadata": {},
     "output_type": "execute_result"
    }
   ],
   "source": [
    "count_data = sa_14_43.unique_snps_per_allele(am)\n",
    "count_data"
   ]
  },
  {
   "cell_type": "code",
   "execution_count": 21,
   "metadata": {
    "collapsed": false
   },
   "outputs": [
    {
     "data": {
      "text/plain": [
       "array([(4, 4)], \n",
       "      dtype=[('count', '<u2'), ('snps', '<u2')])"
      ]
     },
     "execution_count": 21,
     "metadata": {},
     "output_type": "execute_result"
    }
   ],
   "source": [
    "count_data = sa_5_684.unique_snps_per_allele(am)\n",
    "count_data"
   ]
  },
  {
   "cell_type": "code",
   "execution_count": 22,
   "metadata": {
    "collapsed": false
   },
   "outputs": [
    {
     "data": {
      "text/plain": [
       "array([4, 4, 3, 4, 1])"
      ]
     },
     "execution_count": 22,
     "metadata": {},
     "output_type": "execute_result"
    }
   ],
   "source": [
    "sa_5_684.alleles_per_snp(am)"
   ]
  },
  {
   "cell_type": "code",
   "execution_count": 23,
   "metadata": {
    "collapsed": false
   },
   "outputs": [
    {
     "data": {
      "text/plain": [
       "array([4, 4, 4, 4, 4, 4, 4, 4, 4])"
      ]
     },
     "execution_count": 23,
     "metadata": {},
     "output_type": "execute_result"
    }
   ],
   "source": [
    "sa_9_944.alleles_per_snp(am)"
   ]
  },
  {
   "cell_type": "code",
   "execution_count": 24,
   "metadata": {
    "collapsed": false
   },
   "outputs": [
    {
     "data": {
      "text/html": [
       "\n",
       "\n",
       "    <div class=\"bk-root\">\n",
       "        <div class=\"plotdiv\" id=\"44e8003a-d94b-4cb7-937b-4539c0c850c6\"></div>\n",
       "    </div>\n",
       "<script type=\"text/javascript\">\n",
       "  \n",
       "  (function(global) {\n",
       "    function now() {\n",
       "      return new Date();\n",
       "    }\n",
       "  \n",
       "    if (typeof (window._bokeh_onload_callbacks) === \"undefined\") {\n",
       "      window._bokeh_onload_callbacks = [];\n",
       "    }\n",
       "  \n",
       "    function run_callbacks() {\n",
       "      window._bokeh_onload_callbacks.forEach(function(callback) { callback() });\n",
       "      delete window._bokeh_onload_callbacks\n",
       "      console.info(\"Bokeh: all callbacks have finished\");\n",
       "    }\n",
       "  \n",
       "    function load_libs(js_urls, callback) {\n",
       "      window._bokeh_onload_callbacks.push(callback);\n",
       "      if (window._bokeh_is_loading > 0) {\n",
       "        console.log(\"Bokeh: BokehJS is being loaded, scheduling callback at\", now());\n",
       "        return null;\n",
       "      }\n",
       "      if (js_urls == null || js_urls.length === 0) {\n",
       "        run_callbacks();\n",
       "        return null;\n",
       "      }\n",
       "      console.log(\"Bokeh: BokehJS not loaded, scheduling load and callback at\", now());\n",
       "      window._bokeh_is_loading = js_urls.length;\n",
       "      for (var i = 0; i < js_urls.length; i++) {\n",
       "        var url = js_urls[i];\n",
       "        var s = document.createElement('script');\n",
       "        s.src = url;\n",
       "        s.async = false;\n",
       "        s.onreadystatechange = s.onload = function() {\n",
       "          window._bokeh_is_loading--;\n",
       "          if (window._bokeh_is_loading === 0) {\n",
       "            console.log(\"Bokeh: all BokehJS libraries loaded\");\n",
       "            run_callbacks()\n",
       "          }\n",
       "        };\n",
       "        s.onerror = function() {\n",
       "          console.warn(\"failed to load library \" + url);\n",
       "        };\n",
       "        console.log(\"Bokeh: injecting script tag for BokehJS library: \", url);\n",
       "        document.getElementsByTagName(\"head\")[0].appendChild(s);\n",
       "      }\n",
       "    };var element = document.getElementById(\"44e8003a-d94b-4cb7-937b-4539c0c850c6\");\n",
       "    if (element == null) {\n",
       "      console.log(\"Bokeh: ERROR: autoload.js configured with elementid '44e8003a-d94b-4cb7-937b-4539c0c850c6' but no matching script tag was found. \")\n",
       "      return false;\n",
       "    }\n",
       "  \n",
       "    var js_urls = [];\n",
       "  \n",
       "    var inline_js = [\n",
       "      function(Bokeh) {\n",
       "        Bokeh.$(function() {\n",
       "            var docs_json = {\"9babd55c-4bec-4d28-904d-d95ece6edf0f\":{\"roots\":{\"references\":[{\"attributes\":{\"bottom\":{\"field\":\"bottom\"},\"fill_alpha\":{\"value\":0.1},\"fill_color\":{\"value\":\"#1f77b4\"},\"left\":{\"field\":\"left\"},\"line_alpha\":{\"value\":0.1},\"line_color\":{\"value\":\"#1f77b4\"},\"right\":{\"field\":\"right\"},\"top\":{\"field\":\"top\"}},\"id\":\"6c120614-5881-41d6-92b2-458c94a75496\",\"type\":\"Quad\"},{\"attributes\":{\"active_drag\":\"auto\",\"active_scroll\":\"auto\",\"active_tap\":\"auto\",\"tools\":[{\"id\":\"3f2df629-72e7-4fd0-9455-0d6d92345247\",\"type\":\"PanTool\"},{\"id\":\"95c6a5f2-d286-441e-94a0-1a378f25631f\",\"type\":\"WheelZoomTool\"},{\"id\":\"4bdd08b4-6a10-4b99-9718-74f260fd7772\",\"type\":\"BoxZoomTool\"},{\"id\":\"afc66cf6-6bcb-4379-948e-57c392972d69\",\"type\":\"SaveTool\"},{\"id\":\"7a71af12-6c08-425b-ab17-b1a93d00f898\",\"type\":\"ResetTool\"},{\"id\":\"6d807ad5-46a8-4525-8fd3-54c3ae81bb95\",\"type\":\"HelpTool\"}]},\"id\":\"9fb2222e-09df-4713-89b5-89472cdb1be2\",\"type\":\"Toolbar\"},{\"attributes\":{},\"id\":\"b549ab24-aaa2-478b-946e-8fd0076b9d6c\",\"type\":\"BasicTicker\"},{\"attributes\":{},\"id\":\"ffc42d0b-07a8-42fd-a9e8-b660aebb651d\",\"type\":\"ToolEvents\"},{\"attributes\":{\"callback\":null,\"end\":700},\"id\":\"7fd4bdee-ffba-4f96-8ac6-b849ed0e0c02\",\"type\":\"Range1d\"},{\"attributes\":{\"line_alpha\":{\"value\":0.1},\"line_color\":{\"value\":\"#1f77b4\"},\"xs\":{\"field\":\"xs\"},\"ys\":{\"field\":\"ys\"}},\"id\":\"881d8584-27f8-4e0c-9119-bbde1c70f8ba\",\"type\":\"MultiLine\"},{\"attributes\":{\"callback\":null,\"column_names\":[\"xs\",\"ys\",\"line_color\"],\"data\":{\"line_color\":[\"black\",\"black\",\"black\",\"black\",\"black\",\"black\",\"black\",\"black\",\"black\",\"black\",\"black\",\"black\",\"black\",\"black\",\"black\",\"black\",\"black\",\"black\",\"black\",\"black\",\"black\",\"black\",\"black\",\"black\",\"black\",\"black\",\"black\",\"black\",\"black\",\"black\",\"black\",\"black\",\"black\",\"black\",\"black\",\"black\",\"black\",\"black\",\"black\",\"black\",\"black\",\"black\",\"black\",\"black\",\"black\",\"black\",\"black\",\"black\",\"black\",\"black\",\"black\",\"black\",\"black\",\"black\",\"black\",\"black\",\"black\",\"black\",\"black\",\"black\",\"black\",\"black\",\"black\",\"black\",\"black\",\"black\",\"black\",\"black\",\"black\",\"black\",\"black\",\"black\",\"black\",\"black\",\"black\",\"black\",\"black\",\"black\",\"black\",\"black\",\"black\",\"black\",\"black\",\"black\",\"black\",\"black\",\"black\",\"black\",\"black\",\"black\",\"black\",\"black\",\"black\",\"black\",\"black\",\"black\",\"black\",\"black\",\"black\",\"black\",\"black\",\"black\",\"black\",\"black\",\"black\",\"black\",\"black\",\"black\",\"black\",\"black\",\"black\",\"black\",\"black\",\"black\",\"black\",\"black\",\"black\",\"black\",\"black\",\"black\",\"black\",\"black\",\"black\",\"black\",\"black\",\"black\",\"black\",\"black\",\"black\",\"black\",\"black\",\"black\",\"black\",\"black\",\"black\",\"black\",\"black\",\"black\",\"black\",\"black\",\"black\",\"black\",\"black\",\"black\",\"black\",\"black\",\"black\",\"black\",\"black\",\"black\",\"black\",\"black\",\"black\",\"black\",\"black\",\"black\",\"black\",\"black\",\"black\",\"black\",\"black\",\"black\",\"black\",\"black\",\"black\",\"black\",\"black\",\"black\",\"black\",\"black\",\"black\",\"black\",\"black\",\"black\",\"black\",\"black\",\"black\",\"black\",\"black\",\"black\",\"black\",\"black\",\"black\",\"black\",\"black\",\"black\",\"black\",\"black\",\"black\",\"black\",\"black\",\"black\",\"black\",\"black\",\"black\",\"black\",\"black\",\"black\",\"black\",\"black\",\"black\",\"black\",\"black\",\"black\"],\"xs\":[[135839805,135839805],[135866750,135866750],[135886744,135886744],[135924467,135924467],[135845676,135845676],[135967928,135967928],[135986556,135986556],[136004969,136004969],[136015490,136015490],[136032851,136032851],[136093434,136093434],[136216669,136216669],[136279157,136279157],[136321806,136321806],[136341131,136341131],[136401934,136401934],[136405903,136405903],[136487576,136487576],[136393658,136393658],[136396300,136396300],[136401843,136401843],[136407445,136407445],[136411879,136411879],[136412270,136412270],[136413244,136413244],[136413847,136413847],[136415217,136415217],[136416533,136416533],[136420726,136420726],[136429857,136429857],[136433740,136433740],[136436317,136436317],[136437615,136437615],[136438517,136438517],[136440300,136440300],[136443900,136443900],[136444185,136444185],[136444338,136444338],[136449254,136449254],[136451676,136451676],[136459227,136459227],[136463117,136463117],[136463454,136463454],[136467119,136467119],[136468238,136468238],[136470219,136470219],[136483355,136483355],[136485276,136485276],[136486340,136486340],[136486342,136486342],[136494985,136494985],[136497199,136497199],[136511817,136511817],[136513670,136513670],[136515458,136515458],[136516970,136516970],[136525309,136525309],[136528034,136528034],[136532225,136532225],[136535235,136535235],[136536095,136536095],[136544423,136544423],[136546927,136546927],[136552188,136552188],[136552517,136552517],[136555525,136555525],[136556480,136556480],[136560464,136560464],[136572285,136572285],[136582694,136582694],[136582809,136582809],[136584538,136584538],[136585323,136585323],[136586825,136586825],[136600662,136600662],[136612036,136612036],[136618178,136618178],[136618507,136618507],[136622543,136622543],[136624947,136624947],[136625113,136625113],[136626078,136626078],[136628121,136628121],[136632300,136632300],[136633962,136633962],[136635343,136635343],[136638113,136638113],[136640101,136640101],[136641593,136641593],[136646582,136646582],[136648077,136648077],[136648883,136648883],[136652045,136652045],[136653848,136653848],[136656094,136656094],[136661110,136661110],[136663110,136663110],[136663605,136663605],[136665162,136665162],[136665711,136665711],[136668123,136668123],[136670419,136670419],[136672680,136672680],[136673546,136673546],[136684632,136684632],[136686114,136686114],[136690425,136690425],[136690783,136690783],[136692893,136692893],[136694905,136694905],[136695694,136695694],[136695705,136695705],[136696608,136696608],[136697372,136697372],[136697468,136697468],[136700024,136700024],[136701539,136701539],[136702118,136702118],[136707480,136707480],[136710554,136710554],[136714178,136714178],[136719173,136719173],[136725459,136725459],[136734569,136734569],[136744678,136744678],[136748779,136748779],[136751488,136751488],[136754183,136754183],[136763242,136763242],[136765074,136765074],[136773638,136773638],[136499236,136499236],[136525856,136525856],[136554477,136554477],[136577346,136577346],[136604166,136604166],[136655568,136655568],[136675328,136675328],[136500475,136500475],[136501509,136501509],[136504101,136504101],[136509868,136509868],[136520043,136520043],[136527120,136527120],[136530379,136530379],[136530443,136530443],[136539330,136539330],[136539670,136539670],[136540083,136540083],[136542559,136542559],[136542560,136542560],[136506375,136506375],[136506927,136506927],[136510012,136510012],[136538939,136538939],[136535876,136535876],[136544651,136544651],[136545844,136545844],[136552526,136552526],[136553022,136553022],[136554797,136554797],[136554890,136554890],[136588031,136588031],[136589278,136589278],[136589379,136589379],[136589741,136589741],[136590746,136590746],[136593553,136593553],[136593678,136593678],[136652491,136652491],[136652524,136652524],[136661150,136661150],[136669264,136669264],[136726567,136726567],[136732772,136732772],[136652953,136652953],[136655582,136655582],[136674028,136674028],[136684940,136684940],[136761175,136761175],[136653925,136653925],[136654833,136654833],[136656534,136656534],[136656536,136656536],[136657252,136657252],[136667301,136667301],[136667487,136667487],[136672775,136672775],[136680534,136680534],[136686393,136686393],[136688749,136688749],[136692553,136692553],[136697371,136697371],[136708787,136708787],[136710372,136710372],[136711064,136711064],[136715324,136715324],[136723504,136723504],[136737460,136737460],[136743143,136743143],[136746224,136746224],[136751842,136751842],[136759379,136759379],[136761853,136761853]],\"ys\":[[150,190],[150,190],[150,190],[150,190],[50,64],[50,64],[50,64],[50,64],[50,64],[50,64],[50,64],[50,64],[50,64],[50,64],[50,64],[50,64],[50,64],[50,64],[450,494],[450,494],[450,494],[450,494],[450,494],[450,494],[450,494],[450,494],[450,494],[450,494],[450,494],[450,494],[450,494],[450,494],[450,494],[450,494],[450,494],[450,494],[450,494],[450,494],[450,494],[450,494],[450,494],[450,494],[450,494],[450,494],[450,494],[450,494],[450,494],[450,494],[450,494],[450,494],[150,190],[150,190],[150,190],[150,190],[150,190],[150,190],[150,190],[150,190],[150,190],[150,190],[150,190],[150,190],[150,190],[150,190],[150,190],[150,190],[150,190],[150,190],[150,190],[150,190],[150,190],[150,190],[150,190],[150,190],[150,190],[150,190],[150,190],[150,190],[150,190],[150,190],[150,190],[150,190],[150,190],[150,190],[150,190],[150,190],[150,190],[150,190],[150,190],[150,190],[150,190],[150,190],[150,190],[150,190],[150,190],[150,190],[150,190],[150,190],[150,190],[150,190],[150,190],[150,190],[150,190],[150,190],[150,190],[150,190],[150,190],[150,190],[150,190],[150,190],[150,190],[150,190],[150,190],[150,190],[150,190],[150,190],[150,190],[150,190],[150,190],[150,190],[150,190],[150,190],[150,190],[150,190],[150,190],[150,190],[150,190],[150,190],[150,190],[150,190],[150,190],[50,67],[50,67],[50,67],[50,67],[50,67],[50,67],[50,67],[250,293],[250,293],[250,293],[250,293],[250,293],[250,293],[250,293],[250,293],[250,293],[250,293],[250,293],[250,293],[250,293],[450,494],[450,494],[450,494],[450,494],[350,394],[350,394],[350,394],[350,394],[350,394],[350,394],[350,394],[550,596],[550,596],[550,596],[550,596],[550,596],[550,596],[550,596],[250,292],[250,292],[250,292],[250,292],[250,292],[250,292],[350,394],[350,394],[350,394],[350,394],[350,394],[550,595],[550,595],[550,595],[550,595],[550,595],[550,595],[550,595],[550,595],[550,595],[550,595],[550,595],[550,595],[550,595],[550,595],[550,595],[550,595],[550,595],[550,595],[550,595],[550,595],[550,595],[550,595],[550,595],[550,595]]}},\"id\":\"df040e1a-d197-4d00-840b-d6d4ef298442\",\"type\":\"ColumnDataSource\"},{\"attributes\":{\"level\":\"glyph\",\"plot\":{\"id\":\"7332e99c-9858-4543-9456-fcc8019114c3\",\"subtype\":\"Figure\",\"type\":\"Plot\"},\"source\":{\"id\":\"e703dad6-8743-4d05-b54d-c48b8fa48140\",\"type\":\"ColumnDataSource\"},\"text\":{\"field\":\"vals\"},\"text_align\":\"center\",\"text_baseline\":\"middle\",\"text_font_size\":{\"value\":\"8pt\"},\"x\":{\"field\":\"x\"},\"y\":{\"field\":\"y\"}},\"id\":\"4658b9ca-a433-4dee-9df5-36a7b7f4a3a8\",\"type\":\"LabelSet\"},{\"attributes\":{},\"id\":\"e09c09b9-a516-4732-92ae-05e360202d48\",\"type\":\"BasicTicker\"},{\"attributes\":{\"below\":[{\"id\":\"1e7b99b3-a47b-4c46-a460-452ea3eb34e3\",\"type\":\"LinearAxis\"}],\"left\":[{\"id\":\"e7e5d4e4-2409-431d-a27c-6d86bb199e8b\",\"type\":\"LinearAxis\"}],\"plot_height\":700,\"plot_width\":900,\"renderers\":[{\"id\":\"1e7b99b3-a47b-4c46-a460-452ea3eb34e3\",\"type\":\"LinearAxis\"},{\"id\":\"74710e7b-d6e8-41f7-88ee-79b99cd3e4af\",\"type\":\"Grid\"},{\"id\":\"e7e5d4e4-2409-431d-a27c-6d86bb199e8b\",\"type\":\"LinearAxis\"},{\"id\":\"d8dd2ff0-a837-4677-85bd-07912e3d4bf5\",\"type\":\"Grid\"},{\"id\":\"ed2ed5e7-1edc-40a0-b0aa-e0efb680ba77\",\"type\":\"BoxAnnotation\"},{\"id\":\"b9274348-75be-43c9-b39f-6faff71e30da\",\"type\":\"GlyphRenderer\"},{\"id\":\"e173bca8-a4c9-4254-a755-feb766203e1d\",\"type\":\"GlyphRenderer\"},{\"id\":\"2d69f601-6802-46ba-8b81-5729379252bb\",\"type\":\"LabelSet\"},{\"id\":\"59af8f3e-31f1-4315-a797-fbbcc51e7656\",\"type\":\"GlyphRenderer\"},{\"id\":\"4658b9ca-a433-4dee-9df5-36a7b7f4a3a8\",\"type\":\"LabelSet\"}],\"title\":{\"id\":\"c1620690-e36b-4011-b402-5a908ea0b3ef\",\"type\":\"Title\"},\"tool_events\":{\"id\":\"ffc42d0b-07a8-42fd-a9e8-b660aebb651d\",\"type\":\"ToolEvents\"},\"toolbar\":{\"id\":\"9fb2222e-09df-4713-89b5-89472cdb1be2\",\"type\":\"Toolbar\"},\"toolbar_location\":null,\"x_range\":{\"id\":\"1947352f-f163-4fda-bdca-9085b10b048b\",\"type\":\"Range1d\"},\"y_range\":{\"id\":\"7fd4bdee-ffba-4f96-8ac6-b849ed0e0c02\",\"type\":\"Range1d\"}},\"id\":\"7332e99c-9858-4543-9456-fcc8019114c3\",\"subtype\":\"Figure\",\"type\":\"Plot\"},{\"attributes\":{\"level\":\"glyph\",\"plot\":{\"id\":\"7332e99c-9858-4543-9456-fcc8019114c3\",\"subtype\":\"Figure\",\"type\":\"Plot\"},\"source\":{\"id\":\"894e522b-8f85-42f8-9665-7e4beb5ec066\",\"type\":\"ColumnDataSource\"},\"text\":{\"field\":\"vals\"},\"text_font_size\":{\"value\":\"9pt\"},\"text_font_style\":\"bold\",\"x\":{\"field\":\"x\"},\"y\":{\"field\":\"y\"}},\"id\":\"2d69f601-6802-46ba-8b81-5729379252bb\",\"type\":\"LabelSet\"},{\"attributes\":{\"formatter\":{\"id\":\"fd0cbbae-96c5-4f01-9cdf-1c0ca117fb45\",\"type\":\"BasicTickFormatter\"},\"plot\":{\"id\":\"7332e99c-9858-4543-9456-fcc8019114c3\",\"subtype\":\"Figure\",\"type\":\"Plot\"},\"ticker\":{\"id\":\"b549ab24-aaa2-478b-946e-8fd0076b9d6c\",\"type\":\"BasicTicker\"},\"visible\":null},\"id\":\"e7e5d4e4-2409-431d-a27c-6d86bb199e8b\",\"type\":\"LinearAxis\"},{\"attributes\":{\"callback\":null,\"column_names\":[\"right\",\"bottom\",\"top\",\"left\"],\"data\":{\"bottom\":[645,645,645,645,645,645,645],\"left\":[135809835,135957574,136289083,136499189,136545415,136597196,136664254],\"right\":[135928279,136288182,136482839,136542633,136594750,136634047,136743222],\"top\":[675,675,675,675,675,675,675]}},\"id\":\"a68129b5-49fb-40ce-8fa5-1f63aa891a43\",\"type\":\"ColumnDataSource\"},{\"attributes\":{\"data_source\":{\"id\":\"df040e1a-d197-4d00-840b-d6d4ef298442\",\"type\":\"ColumnDataSource\"},\"glyph\":{\"id\":\"cdc808ae-478a-461e-9115-59f312df268a\",\"type\":\"MultiLine\"},\"hover_glyph\":null,\"nonselection_glyph\":{\"id\":\"881d8584-27f8-4e0c-9119-bbde1c70f8ba\",\"type\":\"MultiLine\"},\"selection_glyph\":null},\"id\":\"e173bca8-a4c9-4254-a755-feb766203e1d\",\"type\":\"GlyphRenderer\"},{\"attributes\":{\"callback\":null,\"column_names\":[\"right\",\"bottom\",\"top\",\"left\",\"fill_color\"],\"data\":{\"bottom\":[150,50,450,150,50,250,450,350,550,250,350,550],\"fill_color\":[\"#61c4c4\",\"#00ff00\",\"#c4c461\",\"#808080\",\"#61c461\",\"#808080\",\"#808080\",\"#808080\",\"#c46161\",\"#808080\",\"#808080\",\"#808080\"],\"left\":[135839805,135845676,136393658,136494985,136499236,136500475,136506375,136535876,136588031,136652491,136652953,136653925],\"right\":[135924467,136487576,136486342,136773638,136675328,136542560,136538939,136554890,136593678,136732772,136761175,136761853],\"top\":[190,64,494,190,67,293,494,394,596,292,394,595]}},\"id\":\"f2f37f41-7d9c-4102-9633-037724199ff6\",\"type\":\"ColumnDataSource\"},{\"attributes\":{\"bottom\":{\"field\":\"bottom\"},\"fill_color\":{\"field\":\"fill_color\"},\"left\":{\"field\":\"left\"},\"line_color\":{\"value\":null},\"right\":{\"field\":\"right\"},\"top\":{\"field\":\"top\"}},\"id\":\"7510d60e-6f99-46b7-9f43-f7393059d3dc\",\"type\":\"Quad\"},{\"attributes\":{\"plot\":{\"id\":\"7332e99c-9858-4543-9456-fcc8019114c3\",\"subtype\":\"Figure\",\"type\":\"Plot\"}},\"id\":\"6d807ad5-46a8-4525-8fd3-54c3ae81bb95\",\"type\":\"HelpTool\"},{\"attributes\":{\"bottom_units\":\"screen\",\"fill_alpha\":{\"value\":0.5},\"fill_color\":{\"value\":\"lightgrey\"},\"left_units\":\"screen\",\"level\":\"overlay\",\"line_alpha\":{\"value\":1.0},\"line_color\":{\"value\":\"black\"},\"line_dash\":[4,4],\"line_width\":{\"value\":2},\"plot\":null,\"render_mode\":\"css\",\"right_units\":\"screen\",\"top_units\":\"screen\"},\"id\":\"ed2ed5e7-1edc-40a0-b0aa-e0efb680ba77\",\"type\":\"BoxAnnotation\"},{\"attributes\":{\"callback\":null,\"end\":136786630,\"start\":135757320},\"id\":\"1947352f-f163-4fda-bdca-9085b10b048b\",\"type\":\"Range1d\"},{\"attributes\":{\"overlay\":{\"id\":\"ed2ed5e7-1edc-40a0-b0aa-e0efb680ba77\",\"type\":\"BoxAnnotation\"},\"plot\":{\"id\":\"7332e99c-9858-4543-9456-fcc8019114c3\",\"subtype\":\"Figure\",\"type\":\"Plot\"}},\"id\":\"4bdd08b4-6a10-4b99-9718-74f260fd7772\",\"type\":\"BoxZoomTool\"},{\"attributes\":{},\"id\":\"fd0cbbae-96c5-4f01-9cdf-1c0ca117fb45\",\"type\":\"BasicTickFormatter\"},{\"attributes\":{\"formatter\":{\"id\":\"fca0db87-0f49-4803-81b7-be554722493d\",\"type\":\"BasicTickFormatter\"},\"plot\":{\"id\":\"7332e99c-9858-4543-9456-fcc8019114c3\",\"subtype\":\"Figure\",\"type\":\"Plot\"},\"ticker\":{\"id\":\"e09c09b9-a516-4732-92ae-05e360202d48\",\"type\":\"BasicTicker\"}},\"id\":\"1e7b99b3-a47b-4c46-a460-452ea3eb34e3\",\"type\":\"LinearAxis\"},{\"attributes\":{\"plot\":{\"id\":\"7332e99c-9858-4543-9456-fcc8019114c3\",\"subtype\":\"Figure\",\"type\":\"Plot\"}},\"id\":\"afc66cf6-6bcb-4379-948e-57c392972d69\",\"type\":\"SaveTool\"},{\"attributes\":{\"callback\":null,\"column_names\":[\"y\",\"x\",\"vals\"],\"data\":{\"vals\":[\"4_815\",\"14_43\",\"32_1361\",\"81_857\",\"7_59\",\"13_1227\",\"4_1442\",\"7_1303\",\"7_1760\",\"6_1114\",\"5_1296\",\"24_1504\"],\"x\":[135839805,135845676,136393658,136494985,136499236,136500475,136506375,136535876,136588031,136652491,136652953,136653925],\"y\":[195.0,69.0,499.0,195.0,72.0,298.0,499.0,399.0,601.0,297.0,399.0,600.0]}},\"id\":\"894e522b-8f85-42f8-9665-7e4beb5ec066\",\"type\":\"ColumnDataSource\"},{\"attributes\":{\"plot\":{\"id\":\"7332e99c-9858-4543-9456-fcc8019114c3\",\"subtype\":\"Figure\",\"type\":\"Plot\"}},\"id\":\"95c6a5f2-d286-441e-94a0-1a378f25631f\",\"type\":\"WheelZoomTool\"},{\"attributes\":{\"bottom\":{\"field\":\"bottom\"},\"fill_color\":{\"value\":\"white\"},\"left\":{\"field\":\"left\"},\"right\":{\"field\":\"right\"},\"top\":{\"field\":\"top\"}},\"id\":\"af9c9d7e-0749-433b-8dc1-69c5f5a83b4b\",\"type\":\"Quad\"},{\"attributes\":{\"plot\":{\"id\":\"7332e99c-9858-4543-9456-fcc8019114c3\",\"subtype\":\"Figure\",\"type\":\"Plot\"},\"ticker\":{\"id\":\"e09c09b9-a516-4732-92ae-05e360202d48\",\"type\":\"BasicTicker\"}},\"id\":\"74710e7b-d6e8-41f7-88ee-79b99cd3e4af\",\"type\":\"Grid\"},{\"attributes\":{\"plot\":{\"id\":\"7332e99c-9858-4543-9456-fcc8019114c3\",\"subtype\":\"Figure\",\"type\":\"Plot\"}},\"id\":\"3f2df629-72e7-4fd0-9455-0d6d92345247\",\"type\":\"PanTool\"},{\"attributes\":{},\"id\":\"fca0db87-0f49-4803-81b7-be554722493d\",\"type\":\"BasicTickFormatter\"},{\"attributes\":{\"data_source\":{\"id\":\"f2f37f41-7d9c-4102-9633-037724199ff6\",\"type\":\"ColumnDataSource\"},\"glyph\":{\"id\":\"7510d60e-6f99-46b7-9f43-f7393059d3dc\",\"type\":\"Quad\"},\"hover_glyph\":null,\"nonselection_glyph\":{\"id\":\"e3349385-50aa-4a30-b94c-b3b8eaed2e08\",\"type\":\"Quad\"},\"selection_glyph\":null},\"id\":\"b9274348-75be-43c9-b39f-6faff71e30da\",\"type\":\"GlyphRenderer\"},{\"attributes\":{\"dimension\":1,\"plot\":{\"id\":\"7332e99c-9858-4543-9456-fcc8019114c3\",\"subtype\":\"Figure\",\"type\":\"Plot\"},\"ticker\":{\"id\":\"b549ab24-aaa2-478b-946e-8fd0076b9d6c\",\"type\":\"BasicTicker\"}},\"id\":\"d8dd2ff0-a837-4677-85bd-07912e3d4bf5\",\"type\":\"Grid\"},{\"attributes\":{\"line_color\":{\"field\":\"line_color\"},\"xs\":{\"field\":\"xs\"},\"ys\":{\"field\":\"ys\"}},\"id\":\"cdc808ae-478a-461e-9115-59f312df268a\",\"type\":\"MultiLine\"},{\"attributes\":{\"bottom\":{\"field\":\"bottom\"},\"fill_alpha\":{\"value\":0.1},\"fill_color\":{\"value\":\"#1f77b4\"},\"left\":{\"field\":\"left\"},\"line_alpha\":{\"value\":0.1},\"line_color\":{\"value\":\"#1f77b4\"},\"right\":{\"field\":\"right\"},\"top\":{\"field\":\"top\"}},\"id\":\"e3349385-50aa-4a30-b94c-b3b8eaed2e08\",\"type\":\"Quad\"},{\"attributes\":{\"callback\":null,\"column_names\":[\"y\",\"x\",\"vals\"],\"data\":{\"vals\":[\"RAB3GAP1\",\"ZRANB3\",\"R3HDM1\",\"UBXN4\",\"LCT\",\"MCM6\",\"DARS\"],\"x\":[135869057.0,136122878.0,136385961.0,136520911.0,136570082.5,136615621.5,136703738.0],\"y\":[660.0,660.0,660.0,660.0,660.0,660.0,660.0]}},\"id\":\"e703dad6-8743-4d05-b54d-c48b8fa48140\",\"type\":\"ColumnDataSource\"},{\"attributes\":{\"data_source\":{\"id\":\"a68129b5-49fb-40ce-8fa5-1f63aa891a43\",\"type\":\"ColumnDataSource\"},\"glyph\":{\"id\":\"af9c9d7e-0749-433b-8dc1-69c5f5a83b4b\",\"type\":\"Quad\"},\"hover_glyph\":null,\"nonselection_glyph\":{\"id\":\"6c120614-5881-41d6-92b2-458c94a75496\",\"type\":\"Quad\"},\"selection_glyph\":null},\"id\":\"59af8f3e-31f1-4315-a797-fbbcc51e7656\",\"type\":\"GlyphRenderer\"},{\"attributes\":{\"plot\":{\"id\":\"7332e99c-9858-4543-9456-fcc8019114c3\",\"subtype\":\"Figure\",\"type\":\"Plot\"}},\"id\":\"7a71af12-6c08-425b-ab17-b1a93d00f898\",\"type\":\"ResetTool\"},{\"attributes\":{\"plot\":null,\"text\":null},\"id\":\"c1620690-e36b-4011-b402-5a908ea0b3ef\",\"type\":\"Title\"}],\"root_ids\":[\"7332e99c-9858-4543-9456-fcc8019114c3\"]},\"title\":\"Bokeh Application\",\"version\":\"0.12.0\"}};\n",
       "            var render_items = [{\"docid\":\"9babd55c-4bec-4d28-904d-d95ece6edf0f\",\"elementid\":\"44e8003a-d94b-4cb7-937b-4539c0c850c6\",\"modelid\":\"7332e99c-9858-4543-9456-fcc8019114c3\",\"notebook_comms_target\":\"26ae9e8c-ccf6-4211-af99-900063c9dab3\"}];\n",
       "            \n",
       "            Bokeh.embed.embed_items(docs_json, render_items);\n",
       "        });\n",
       "      },\n",
       "      function(Bokeh) {\n",
       "      }\n",
       "    ];\n",
       "  \n",
       "    function run_inline_js() {\n",
       "      for (var i = 0; i < inline_js.length; i++) {\n",
       "        inline_js[i](window.Bokeh);\n",
       "      }\n",
       "    }\n",
       "  \n",
       "    if (window._bokeh_is_loading === 0) {\n",
       "      console.log(\"Bokeh: BokehJS loaded, going straight to plotting\");\n",
       "      run_inline_js();\n",
       "    } else {\n",
       "      load_libs(js_urls, function() {\n",
       "        console.log(\"Bokeh: BokehJS plotting callback run at\", now());\n",
       "        run_inline_js();\n",
       "      });\n",
       "    }\n",
       "  }(this));\n",
       "</script>"
      ]
     },
     "metadata": {},
     "output_type": "display_data"
    },
    {
     "data": {
      "text/html": [
       "<p><code>&lt;Bokeh Notebook handle for <strong>In[24]</strong>&gt;</code></p>"
      ],
      "text/plain": [
       "<bokeh.io._CommsHandle at 0x7f85ec029f10>"
      ]
     },
     "execution_count": 24,
     "metadata": {},
     "output_type": "execute_result"
    }
   ],
   "source": [
    "plt_obj = dm.superset_yes_no([di_14_43], [dm.di_13_1696], min_match=0.001)\n",
    "plt = plt_obj.do_plot()\n",
    "am = plt_obj.plot_context.yes_allele_mask\n",
    "show(plt)"
   ]
  },
  {
   "cell_type": "code",
   "execution_count": 25,
   "metadata": {
    "collapsed": false
   },
   "outputs": [
    {
     "data": {
      "text/html": [
       "<table>\n",
       "<thead><tr><th style=\"text-align:center\">index</th><th style=\"text-align:center\">first</th><th style=\"text-align:center\">length</th><th style=\"text-align:center\">snps</th><th style=\"text-align:center\" colspan=2>alleles</th><th style=\"text-align:center\" colspan=2>matches</th><th style=\"text-align:center\" colspan=2>afr</th><th style=\"text-align:center\" colspan=2>afx</th><th style=\"text-align:center\" colspan=2>amr</th><th style=\"text-align:center\" colspan=2>eas</th><th style=\"text-align:center\" colspan=2>eur</th><th style=\"text-align:center\" colspan=2>sas</th><th style=\"text-align:center\" colspan=2>sax</th></tr></thead>\n",
       "<tr class=\"even\"><td style=\"text-align: right;\">354033</td><td style=\"text-align: right;\">136,588,031</td><td style=\"text-align: right;\">5,647</td><td style=\"text-align: right;\">7</td><td style=\"text-align: right;\">1760</td><td style=\"text-align: right;\">0.00</td><td style=\"text-align: right;\">1</td><td style=\"text-align: right;\">1.00</td><td style=\"text-align: right;\">0</td><td style=\"text-align: right;\">0.00</td><td style=\"text-align: right;\">0</td><td style=\"text-align: right;\">0.00</td><td style=\"text-align: right;\">0</td><td style=\"text-align: right;\">0.00</td><td style=\"text-align: right;\">0</td><td style=\"text-align: right;\">0.00</td><td style=\"text-align: right;\">1</td><td style=\"text-align: right;\">4.04</td><td style=\"text-align: right;\">0</td><td style=\"text-align: right;\">0.00</td><td style=\"text-align: right;\">0</td><td style=\"text-align: right;\">0.00</td></tr>\n",
       "<tr><td style=\"text-align: right;\">354130</td><td style=\"text-align: right;\">136,653,925</td><td style=\"text-align: right;\">107,928</td><td style=\"text-align: right;\">24</td><td style=\"text-align: right;\">1504</td><td style=\"text-align: right;\">0.00</td><td style=\"text-align: right;\">1</td><td style=\"text-align: right;\">1.00</td><td style=\"text-align: right;\">0</td><td style=\"text-align: right;\">0.00</td><td style=\"text-align: right;\">0</td><td style=\"text-align: right;\">0.00</td><td style=\"text-align: right;\">0</td><td style=\"text-align: right;\">0.00</td><td style=\"text-align: right;\">0</td><td style=\"text-align: right;\">0.00</td><td style=\"text-align: right;\">1</td><td style=\"text-align: right;\">4.04</td><td style=\"text-align: right;\">0</td><td style=\"text-align: right;\">0.00</td><td style=\"text-align: right;\">0</td><td style=\"text-align: right;\">0.00</td></tr>\n",
       "<tr class=\"even\"><td style=\"text-align: right;\">353925</td><td style=\"text-align: right;\">136,506,375</td><td style=\"text-align: right;\">32,564</td><td style=\"text-align: right;\">4</td><td style=\"text-align: right;\">1442</td><td style=\"text-align: right;\">0.00</td><td style=\"text-align: right;\">1</td><td style=\"text-align: right;\">1.00</td><td style=\"text-align: right;\">0</td><td style=\"text-align: right;\">0.00</td><td style=\"text-align: right;\">0</td><td style=\"text-align: right;\">0.00</td><td style=\"text-align: right;\">0</td><td style=\"text-align: right;\">0.00</td><td style=\"text-align: right;\">0</td><td style=\"text-align: right;\">0.00</td><td style=\"text-align: right;\">1</td><td style=\"text-align: right;\">4.04</td><td style=\"text-align: right;\">0</td><td style=\"text-align: right;\">0.00</td><td style=\"text-align: right;\">0</td><td style=\"text-align: right;\">0.00</td></tr>\n",
       "<tr><td style=\"text-align: right;\">353791</td><td style=\"text-align: right;\">136,393,658</td><td style=\"text-align: right;\">92,684</td><td style=\"text-align: right;\">32</td><td style=\"text-align: right;\">1361</td><td style=\"text-align: right;\">0.00</td><td style=\"text-align: right;\">1</td><td style=\"text-align: right;\">1.00</td><td style=\"text-align: right;\">0</td><td style=\"text-align: right;\">0.00</td><td style=\"text-align: right;\">0</td><td style=\"text-align: right;\">0.00</td><td style=\"text-align: right;\">0</td><td style=\"text-align: right;\">0.00</td><td style=\"text-align: right;\">0</td><td style=\"text-align: right;\">0.00</td><td style=\"text-align: right;\">1</td><td style=\"text-align: right;\">4.04</td><td style=\"text-align: right;\">0</td><td style=\"text-align: right;\">0.00</td><td style=\"text-align: right;\">0</td><td style=\"text-align: right;\">0.00</td></tr>\n",
       "<tr class=\"even\"><td style=\"text-align: right;\">353958</td><td style=\"text-align: right;\">136,535,876</td><td style=\"text-align: right;\">19,014</td><td style=\"text-align: right;\">7</td><td style=\"text-align: right;\">1303</td><td style=\"text-align: right;\">0.00</td><td style=\"text-align: right;\">1</td><td style=\"text-align: right;\">1.00</td><td style=\"text-align: right;\">0</td><td style=\"text-align: right;\">0.00</td><td style=\"text-align: right;\">0</td><td style=\"text-align: right;\">0.00</td><td style=\"text-align: right;\">0</td><td style=\"text-align: right;\">0.00</td><td style=\"text-align: right;\">0</td><td style=\"text-align: right;\">0.00</td><td style=\"text-align: right;\">1</td><td style=\"text-align: right;\">4.04</td><td style=\"text-align: right;\">0</td><td style=\"text-align: right;\">0.00</td><td style=\"text-align: right;\">0</td><td style=\"text-align: right;\">0.00</td></tr>\n",
       "<tr><td style=\"text-align: right;\">354129</td><td style=\"text-align: right;\">136,652,953</td><td style=\"text-align: right;\">108,222</td><td style=\"text-align: right;\">5</td><td style=\"text-align: right;\">1296</td><td style=\"text-align: right;\">0.00</td><td style=\"text-align: right;\">1</td><td style=\"text-align: right;\">1.00</td><td style=\"text-align: right;\">0</td><td style=\"text-align: right;\">0.00</td><td style=\"text-align: right;\">0</td><td style=\"text-align: right;\">0.00</td><td style=\"text-align: right;\">0</td><td style=\"text-align: right;\">0.00</td><td style=\"text-align: right;\">0</td><td style=\"text-align: right;\">0.00</td><td style=\"text-align: right;\">1</td><td style=\"text-align: right;\">4.04</td><td style=\"text-align: right;\">0</td><td style=\"text-align: right;\">0.00</td><td style=\"text-align: right;\">0</td><td style=\"text-align: right;\">0.00</td></tr>\n",
       "<tr class=\"even\"><td style=\"text-align: right;\">353919</td><td style=\"text-align: right;\">136,500,475</td><td style=\"text-align: right;\">42,085</td><td style=\"text-align: right;\">13</td><td style=\"text-align: right;\">1227</td><td style=\"text-align: right;\">0.00</td><td style=\"text-align: right;\">1</td><td style=\"text-align: right;\">1.00</td><td style=\"text-align: right;\">0</td><td style=\"text-align: right;\">0.00</td><td style=\"text-align: right;\">0</td><td style=\"text-align: right;\">0.00</td><td style=\"text-align: right;\">0</td><td style=\"text-align: right;\">0.00</td><td style=\"text-align: right;\">0</td><td style=\"text-align: right;\">0.00</td><td style=\"text-align: right;\">1</td><td style=\"text-align: right;\">4.04</td><td style=\"text-align: right;\">0</td><td style=\"text-align: right;\">0.00</td><td style=\"text-align: right;\">0</td><td style=\"text-align: right;\">0.00</td></tr>\n",
       "<tr><td style=\"text-align: right;\">354127</td><td style=\"text-align: right;\">136,652,491</td><td style=\"text-align: right;\">80,281</td><td style=\"text-align: right;\">6</td><td style=\"text-align: right;\">1114</td><td style=\"text-align: right;\">0.00</td><td style=\"text-align: right;\">1</td><td style=\"text-align: right;\">1.00</td><td style=\"text-align: right;\">0</td><td style=\"text-align: right;\">0.00</td><td style=\"text-align: right;\">0</td><td style=\"text-align: right;\">0.00</td><td style=\"text-align: right;\">0</td><td style=\"text-align: right;\">0.00</td><td style=\"text-align: right;\">0</td><td style=\"text-align: right;\">0.00</td><td style=\"text-align: right;\">1</td><td style=\"text-align: right;\">4.04</td><td style=\"text-align: right;\">0</td><td style=\"text-align: right;\">0.00</td><td style=\"text-align: right;\">0</td><td style=\"text-align: right;\">0.00</td></tr>\n",
       "<tr class=\"even\"><td style=\"text-align: right;\">353902</td><td style=\"text-align: right;\">136,494,985</td><td style=\"text-align: right;\">278,653</td><td style=\"text-align: right;\">81</td><td style=\"text-align: right;\">857</td><td style=\"text-align: right;\">0.00</td><td style=\"text-align: right;\">1</td><td style=\"text-align: right;\">1.00</td><td style=\"text-align: right;\">0</td><td style=\"text-align: right;\">0.00</td><td style=\"text-align: right;\">0</td><td style=\"text-align: right;\">0.00</td><td style=\"text-align: right;\">0</td><td style=\"text-align: right;\">0.00</td><td style=\"text-align: right;\">0</td><td style=\"text-align: right;\">0.00</td><td style=\"text-align: right;\">1</td><td style=\"text-align: right;\">4.04</td><td style=\"text-align: right;\">0</td><td style=\"text-align: right;\">0.00</td><td style=\"text-align: right;\">0</td><td style=\"text-align: right;\">0.00</td></tr>\n",
       "<tr><td style=\"text-align: right;\">353384</td><td style=\"text-align: right;\">135,839,805</td><td style=\"text-align: right;\">84,662</td><td style=\"text-align: right;\">4</td><td style=\"text-align: right;\">815</td><td style=\"text-align: right;\">0.00</td><td style=\"text-align: right;\">1</td><td style=\"text-align: right;\">1.00</td><td style=\"text-align: right;\">0</td><td style=\"text-align: right;\">0.00</td><td style=\"text-align: right;\">0</td><td style=\"text-align: right;\">0.00</td><td style=\"text-align: right;\">0</td><td style=\"text-align: right;\">0.00</td><td style=\"text-align: right;\">0</td><td style=\"text-align: right;\">0.00</td><td style=\"text-align: right;\">1</td><td style=\"text-align: right;\">4.04</td><td style=\"text-align: right;\">0</td><td style=\"text-align: right;\">0.00</td><td style=\"text-align: right;\">0</td><td style=\"text-align: right;\">0.00</td></tr>\n",
       "<tr class=\"even\"><td style=\"text-align: right;\">353917</td><td style=\"text-align: right;\">136,499,236</td><td style=\"text-align: right;\">176,092</td><td style=\"text-align: right;\">7</td><td style=\"text-align: right;\">59</td><td style=\"text-align: right;\">0.02</td><td style=\"text-align: right;\">1</td><td style=\"text-align: right;\">1.00</td><td style=\"text-align: right;\">0</td><td style=\"text-align: right;\">0.00</td><td style=\"text-align: right;\">0</td><td style=\"text-align: right;\">0.00</td><td style=\"text-align: right;\">0</td><td style=\"text-align: right;\">0.00</td><td style=\"text-align: right;\">0</td><td style=\"text-align: right;\">0.00</td><td style=\"text-align: right;\">1</td><td style=\"text-align: right;\">4.04</td><td style=\"text-align: right;\">0</td><td style=\"text-align: right;\">0.00</td><td style=\"text-align: right;\">0</td><td style=\"text-align: right;\">0.00</td></tr>\n",
       "<tr><td style=\"text-align: right;\">353394</td><td style=\"text-align: right;\">135,845,676</td><td style=\"text-align: right;\">641,900</td><td style=\"text-align: right;\">14</td><td style=\"text-align: right;\">43</td><td style=\"text-align: right;\">0.02</td><td style=\"text-align: right;\">1</td><td style=\"text-align: right;\">1.00</td><td style=\"text-align: right;\">0</td><td style=\"text-align: right;\">0.00</td><td style=\"text-align: right;\">0</td><td style=\"text-align: right;\">0.00</td><td style=\"text-align: right;\">0</td><td style=\"text-align: right;\">0.00</td><td style=\"text-align: right;\">0</td><td style=\"text-align: right;\">0.00</td><td style=\"text-align: right;\">1</td><td style=\"text-align: right;\">4.04</td><td style=\"text-align: right;\">0</td><td style=\"text-align: right;\">0.00</td><td style=\"text-align: right;\">0</td><td style=\"text-align: right;\">0.00</td></tr>\n",
       "</table>"
      ],
      "text/plain": [
       "<IPython.core.display.HTML object>"
      ]
     },
     "execution_count": 25,
     "metadata": {},
     "output_type": "execute_result"
    }
   ],
   "source": [
    "HTML(plt_obj.get_html())"
   ]
  },
  {
   "cell_type": "code",
   "execution_count": 26,
   "metadata": {
    "collapsed": false
   },
   "outputs": [
    {
     "data": {
      "text/plain": [
       "array([(13, 1)], \n",
       "      dtype=[('count', '<u2'), ('snps', '<u2')])"
      ]
     },
     "execution_count": 26,
     "metadata": {},
     "output_type": "execute_result"
    }
   ],
   "source": [
    "count_data = sa_14_43.unique_snps_per_allele(am)\n",
    "count_data"
   ]
  },
  {
   "cell_type": "code",
   "execution_count": 27,
   "metadata": {
    "collapsed": false
   },
   "outputs": [
    {
     "data": {
      "text/plain": [
       "array([0, 1, 1, 1, 1, 1, 1, 1, 1, 1, 1, 1, 1, 1])"
      ]
     },
     "execution_count": 27,
     "metadata": {},
     "output_type": "execute_result"
    }
   ],
   "source": [
    "sa_14_43.alleles_per_snp(am)"
   ]
  },
  {
   "cell_type": "code",
   "execution_count": 28,
   "metadata": {
    "collapsed": false
   },
   "outputs": [
    {
     "data": {
      "text/plain": [
       "array([(4, 1)], \n",
       "      dtype=[('count', '<u2'), ('snps', '<u2')])"
      ]
     },
     "execution_count": 28,
     "metadata": {},
     "output_type": "execute_result"
    }
   ],
   "source": [
    "count_data = sa_5_684.unique_snps_per_allele(am)\n",
    "count_data"
   ]
  },
  {
   "cell_type": "code",
   "execution_count": 29,
   "metadata": {
    "collapsed": false
   },
   "outputs": [
    {
     "data": {
      "text/plain": [
       "array([1, 1, 1, 1, 0])"
      ]
     },
     "execution_count": 29,
     "metadata": {},
     "output_type": "execute_result"
    }
   ],
   "source": [
    "sa_5_684.alleles_per_snp(am)"
   ]
  },
  {
   "cell_type": "code",
   "execution_count": 30,
   "metadata": {
    "collapsed": false
   },
   "outputs": [
    {
     "data": {
      "text/plain": [
       "array([0, 0, 1, 1, 1, 1, 1, 1, 1])"
      ]
     },
     "execution_count": 30,
     "metadata": {},
     "output_type": "execute_result"
    }
   ],
   "source": [
    "sa_9_944.alleles_per_snp(am)"
   ]
  },
  {
   "cell_type": "code",
   "execution_count": 31,
   "metadata": {
    "collapsed": false
   },
   "outputs": [
    {
     "data": {
      "text/plain": [
       "array([1, 1, 1, 1, 1, 1, 1, 1, 1, 1, 1, 1, 1, 1, 1, 1, 1, 1, 1, 1, 1, 1, 1,\n",
       "       1, 1, 1, 1, 1, 1, 1, 1, 1, 1, 1, 1, 1, 1, 1, 1, 1, 1, 1, 1, 1, 1, 1,\n",
       "       1, 1, 1, 1, 1, 1, 1, 1, 1, 1, 1, 1, 1, 1, 1, 1, 1, 1, 1, 1, 1, 1, 1,\n",
       "       1, 1, 1, 1, 1, 1, 1, 1, 1, 1, 1, 1, 1, 1, 1, 1, 1, 1, 1, 1, 1, 1, 1,\n",
       "       1, 1, 1, 0, 0, 0, 0, 0, 0, 0, 0, 0, 0, 0, 0, 0, 0, 0, 0, 0, 0, 0, 0,\n",
       "       0, 0])"
      ]
     },
     "execution_count": 31,
     "metadata": {},
     "output_type": "execute_result"
    }
   ],
   "source": [
    "an.sa_117_1685.alleles_per_snp(am)"
   ]
  },
  {
   "cell_type": "code",
   "execution_count": 32,
   "metadata": {
    "collapsed": false
   },
   "outputs": [
    {
     "data": {
      "text/plain": [
       "array([0, 0, 0, 0, 0, 0, 0, 0, 0, 0, 0, 0, 0, 0, 0, 0, 0, 0, 0, 0, 0, 0, 0,\n",
       "       0, 0, 0, 0, 0, 0, 0, 0, 0, 0, 0, 0, 0, 0, 0, 0, 0, 0, 0, 0, 0, 0, 0,\n",
       "       0, 0, 0, 0, 0, 0, 0, 0, 0, 0, 0, 0, 0, 0, 0, 0, 0, 0, 0, 0, 0, 0, 0,\n",
       "       0, 0, 0, 0, 0, 0, 0, 0, 0, 0, 0, 0, 0, 0, 0, 0, 0, 0, 0, 0, 0, 0, 0,\n",
       "       0, 0, 0, 0, 0, 0, 0, 0, 0, 0, 0, 0, 0, 0, 0, 0, 0, 0, 0, 0, 0, 0, 0,\n",
       "       0, 0, 0, 0, 0, 0, 0, 0])"
      ]
     },
     "execution_count": 32,
     "metadata": {},
     "output_type": "execute_result"
    }
   ],
   "source": [
    "an.sa_123_1561.alleles_per_snp(am)"
   ]
  },
  {
   "cell_type": "code",
   "execution_count": 33,
   "metadata": {
    "collapsed": false
   },
   "outputs": [
    {
     "data": {
      "text/plain": [
       "array([1, 1, 1, 1, 1, 0, 0, 0, 0, 0, 0, 0, 0, 0, 0, 0, 0, 0, 0, 0, 0, 0, 0,\n",
       "       0, 0, 0, 0, 0, 0, 0, 0, 0, 0, 0, 0, 0, 0, 0, 0, 0, 0, 0, 0, 0, 0, 0,\n",
       "       0, 0, 0, 0, 0, 0, 0, 0, 0, 0, 0, 0, 0, 0, 0, 0])"
      ]
     },
     "execution_count": 33,
     "metadata": {},
     "output_type": "execute_result"
    }
   ],
   "source": [
    "an.sa_62_1265.alleles_per_snp(am)"
   ]
  },
  {
   "cell_type": "code",
   "execution_count": 34,
   "metadata": {
    "collapsed": false
   },
   "outputs": [
    {
     "data": {
      "text/plain": [
       "array([1, 1, 1, 1, 1, 1, 1, 1, 1, 1, 1, 1, 1, 1, 1, 1, 1, 1, 1, 1, 1, 1, 1,\n",
       "       1, 1, 1, 1, 1, 0, 0, 0, 0, 0, 0, 0, 0, 0, 0, 0, 0, 0, 0, 0, 0, 0, 0,\n",
       "       0, 0, 0, 0, 0, 0, 0, 0, 0, 0, 0, 0, 0, 0, 0, 0, 0, 0, 0, 0, 0, 0, 0,\n",
       "       0, 0, 0, 0, 0, 0, 0, 0, 0, 0, 0, 0, 0, 0, 0, 0, 0, 0, 0, 0, 0, 0, 0,\n",
       "       0, 0, 0, 0, 0, 0, 0, 0, 0, 0, 0, 0, 0, 0, 0, 0, 0, 0, 0, 0, 0, 0, 0,\n",
       "       0, 0, 0, 0, 0, 0, 0, 0, 0, 0, 0, 0, 0, 0, 0, 0, 0, 0, 0, 0, 0, 0, 0,\n",
       "       0, 0, 0, 0, 0, 0, 0, 0, 0, 0, 0, 0, 0, 0, 0, 0, 0, 0, 0, 0, 0, 0, 0,\n",
       "       0, 0, 0, 0, 0, 0, 0, 0, 0, 0, 0, 0, 0, 0, 0, 0, 0, 0, 0, 0, 0, 0, 0,\n",
       "       0, 0, 0, 0, 0, 0, 0, 0, 0])"
      ]
     },
     "execution_count": 34,
     "metadata": {},
     "output_type": "execute_result"
    }
   ],
   "source": [
    "an.sa_193_843.alleles_per_snp(am)"
   ]
  }
 ],
 "metadata": {
  "kernelspec": {
   "display_name": "Python [Root]",
   "language": "python",
   "name": "Python [Root]"
  },
  "language_info": {
   "codemirror_mode": {
    "name": "ipython",
    "version": 2
   },
   "file_extension": ".py",
   "mimetype": "text/x-python",
   "name": "python",
   "nbconvert_exporter": "python",
   "pygments_lexer": "ipython2",
   "version": "2.7.12"
  }
 },
 "nbformat": 4,
 "nbformat_minor": 0
}
