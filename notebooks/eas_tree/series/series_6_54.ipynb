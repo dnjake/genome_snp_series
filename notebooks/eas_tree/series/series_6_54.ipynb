{
 "cells": [
  {
   "cell_type": "code",
   "execution_count": 1,
   "metadata": {
    "collapsed": false
   },
   "outputs": [
    {
     "data": {
      "text/html": []
     },
     "metadata": {},
     "output_type": "display_data"
    },
    {
     "data": {
      "application/javascript": [
       "\n",
       "(function(global) {\n",
       "  function now() {\n",
       "    return new Date();\n",
       "  }\n",
       "\n",
       "  if (typeof (window._bokeh_onload_callbacks) === \"undefined\") {\n",
       "    window._bokeh_onload_callbacks = [];\n",
       "  }\n",
       "\n",
       "  function run_callbacks() {\n",
       "    window._bokeh_onload_callbacks.forEach(function(callback) { callback() });\n",
       "    delete window._bokeh_onload_callbacks\n",
       "    console.info(\"Bokeh: all callbacks have finished\");\n",
       "  }\n",
       "\n",
       "  function load_libs(js_urls, callback) {\n",
       "    window._bokeh_onload_callbacks.push(callback);\n",
       "    if (window._bokeh_is_loading > 0) {\n",
       "      console.log(\"Bokeh: BokehJS is being loaded, scheduling callback at\", now());\n",
       "      return null;\n",
       "    }\n",
       "    if (js_urls == null || js_urls.length === 0) {\n",
       "      run_callbacks();\n",
       "      return null;\n",
       "    }\n",
       "    console.log(\"Bokeh: BokehJS not loaded, scheduling load and callback at\", now());\n",
       "    window._bokeh_is_loading = js_urls.length;\n",
       "    for (var i = 0; i < js_urls.length; i++) {\n",
       "      var url = js_urls[i];\n",
       "      var s = document.createElement('script');\n",
       "      s.src = url;\n",
       "      s.async = false;\n",
       "      s.onreadystatechange = s.onload = function() {\n",
       "        window._bokeh_is_loading--;\n",
       "        if (window._bokeh_is_loading === 0) {\n",
       "          console.log(\"Bokeh: all BokehJS libraries loaded\");\n",
       "          run_callbacks()\n",
       "        }\n",
       "      };\n",
       "      s.onerror = function() {\n",
       "        console.warn(\"failed to load library \" + url);\n",
       "      };\n",
       "      console.log(\"Bokeh: injecting script tag for BokehJS library: \", url);\n",
       "      document.getElementsByTagName(\"head\")[0].appendChild(s);\n",
       "    }\n",
       "  };\n",
       "\n",
       "  var js_urls = ['https://cdn.pydata.org/bokeh/release/bokeh-0.12.0.min.js', 'https://cdn.pydata.org/bokeh/release/bokeh-widgets-0.12.0.min.js', 'https://cdn.pydata.org/bokeh/release/bokeh-compiler-0.12.0.min.js'];\n",
       "\n",
       "  var inline_js = [\n",
       "    function(Bokeh) {\n",
       "      Bokeh.set_log_level(\"info\");\n",
       "    },\n",
       "    \n",
       "    function(Bokeh) {\n",
       "      Bokeh.$(\"#acadd85f-1bf9-4ff4-ae56-2ec3ad2debb5\").text(\"BokehJS successfully loaded\");\n",
       "    },\n",
       "    function(Bokeh) {\n",
       "      console.log(\"Bokeh: injecting CSS: https://cdn.pydata.org/bokeh/release/bokeh-0.12.0.min.css\");\n",
       "      Bokeh.embed.inject_css(\"https://cdn.pydata.org/bokeh/release/bokeh-0.12.0.min.css\");\n",
       "      console.log(\"Bokeh: injecting CSS: https://cdn.pydata.org/bokeh/release/bokeh-widgets-0.12.0.min.css\");\n",
       "      Bokeh.embed.inject_css(\"https://cdn.pydata.org/bokeh/release/bokeh-widgets-0.12.0.min.css\");\n",
       "    }\n",
       "  ];\n",
       "\n",
       "  function run_inline_js() {\n",
       "    for (var i = 0; i < inline_js.length; i++) {\n",
       "      inline_js[i](window.Bokeh);\n",
       "    }\n",
       "  }\n",
       "\n",
       "  if (window._bokeh_is_loading === 0) {\n",
       "    console.log(\"Bokeh: BokehJS loaded, going straight to plotting\");\n",
       "    run_inline_js();\n",
       "  } else {\n",
       "    load_libs(js_urls, function() {\n",
       "      console.log(\"Bokeh: BokehJS plotting callback run at\", now());\n",
       "      run_inline_js();\n",
       "    });\n",
       "  }\n",
       "}(this));"
      ]
     },
     "metadata": {},
     "output_type": "display_data"
    }
   ],
   "source": [
    "import numpy as np\n",
    "from IPython.display import HTML\n",
    "from bokeh.plotting import output_notebook, show\n",
    "import genomes_dnj.lct_interval.series_plots as dm\n",
    "import genomes_dnj.lct_interval.anal_series as an\n",
    "import genomes_dnj.lct_interval.series_masks as sm\n",
    "import genomes_dnj.lct_interval_snp_anal.lct_interval_snp_anal as snp_anal\n",
    "from genomes_dnj.lct_interval.bokeh_match_count_plot import snp_match_count_plot_cls as smcp\n",
    "output_notebook(hide_banner=True)\n",
    "di_6_54 = 353430\n",
    "sa_6_54 = snp_anal.series_anal_cls(di_6_54, sm.series_data)\n",
    "sa_81_857 = snp_anal.series_anal_cls(dm.di_81_857, sm.series_data)"
   ]
  },
  {
   "cell_type": "markdown",
   "metadata": {},
   "source": [
    "<h3>Series 6_54</h3>\n",
    "<div style=\"width:700px\">\n",
    "<p>\n",
    "This notebook documents the series 6_54 and its 6 SNPs. The 1000 genomes data sample\n",
    "SNP counts for 6_54 are 4944 samples 0 SNPs, 2 samples 1 SNP, 2 samples 2 SNPs, 5 samples 3\n",
    "SNPs, 1 samples 4 SNPs, 5 samples 5 SNPs, and 64 samples 6 SNPs.  The 6 SNP series extends over more than\n",
    "353,000 DNA bases.\n",
    "The series 6_54 is a parent of a subtree that includes the series 5_31, 7_17, and 4_16.  The series\n",
    "is heavily overexpressed in European populations.  37 of its samples come from Europe, 9 from\n",
    "South Asia, and 8 from America.  None are African or East Asian\n",
    "<p>\n",
    "Only 4 samples express 6_54 without any of its descendants.  3 of them express the standard\n",
    "EAS tree root series.  1 has lost the top part of 81_857.\n",
    "</div>"
   ]
  },
  {
   "cell_type": "code",
   "execution_count": 2,
   "metadata": {
    "collapsed": false
   },
   "outputs": [
    {
     "data": {
      "text/html": [
       "<p>\n",
       "<b>6_54 series</b>\n",
       "</p><p>\n",
       "<table>\n",
       "<thead><tr><th style=\"text-align:center\">index</th><th style=\"text-align:center\">first</th><th style=\"text-align:center\">length</th><th style=\"text-align:center\">snps</th><th style=\"text-align:center\">alleles</th><th style=\"text-align:center\" colspan=2>afr</th><th style=\"text-align:center\" colspan=2>afx</th><th style=\"text-align:center\" colspan=2>amr</th><th style=\"text-align:center\" colspan=2>eas</th><th style=\"text-align:center\" colspan=2>eur</th><th style=\"text-align:center\" colspan=2>sas</th><th style=\"text-align:center\" colspan=2>sax</th></tr></thead>\n",
       "<tr class=\"even\"><td style=\"text-align: right;\">353430</td><td style=\"text-align: right;\">135,879,258</td><td style=\"text-align: right;\">516,511</td><td style=\"text-align: right;\">6</td><td style=\"text-align: right;\">54</td><td style=\"text-align: right;\">0</td><td style=\"text-align: right;\">0.00</td><td style=\"text-align: right;\">0</td><td style=\"text-align: right;\">0.00</td><td style=\"text-align: right;\">8</td><td style=\"text-align: right;\">1.07</td><td style=\"text-align: right;\">0</td><td style=\"text-align: right;\">0.00</td><td style=\"text-align: right;\">37</td><td style=\"text-align: right;\">3.41</td><td style=\"text-align: right;\">3</td><td style=\"text-align: right;\">0.76</td><td style=\"text-align: right;\">6</td><td style=\"text-align: right;\">0.91</td></tr>\n",
       "</table>\n",
       "</p>\n",
       "<p>\n",
       "<b>6_54 series snps</b>\n",
       "</p><p>\n",
       "<table>\n",
       "<thead><tr><th style=\"text-align:center\">index</th><th style=\"text-align:center\">pos</th><th style=\"text-align:center\">id</th><th style=\"text-align:center\">niv</th><th style=\"text-align:center\">alleles</th><th style=\"text-align:center\" colspan=2>afr</th><th style=\"text-align:center\" colspan=2>afx</th><th style=\"text-align:center\" colspan=2>amr</th><th style=\"text-align:center\" colspan=2>eas</th><th style=\"text-align:center\" colspan=2>eur</th><th style=\"text-align:center\" colspan=2>sas</th><th style=\"text-align:center\" colspan=2>sax</th></tr></thead>\n",
       "<tr class=\"even\"><td style=\"text-align: right;\">875651</td><td style=\"text-align: right;\">135,879,258</td><td>rs139463862</td><td>0</td><td style=\"text-align: right;\">58</td><td style=\"text-align: right;\">0</td><td style=\"text-align: right;\">0.00</td><td style=\"text-align: right;\">0</td><td style=\"text-align: right;\">0.00</td><td style=\"text-align: right;\">8</td><td style=\"text-align: right;\">1.00</td><td style=\"text-align: right;\">0</td><td style=\"text-align: right;\">0.00</td><td style=\"text-align: right;\">37</td><td style=\"text-align: right;\">3.18</td><td style=\"text-align: right;\">5</td><td style=\"text-align: right;\">1.19</td><td style=\"text-align: right;\">8</td><td style=\"text-align: right;\">1.13</td></tr>\n",
       "<tr><td style=\"text-align: right;\">876035</td><td style=\"text-align: right;\">135,967,182</td><td>rs149709681</td><td>0</td><td style=\"text-align: right;\">57</td><td style=\"text-align: right;\">0</td><td style=\"text-align: right;\">0.00</td><td style=\"text-align: right;\">0</td><td style=\"text-align: right;\">0.00</td><td style=\"text-align: right;\">7</td><td style=\"text-align: right;\">0.89</td><td style=\"text-align: right;\">0</td><td style=\"text-align: right;\">0.00</td><td style=\"text-align: right;\">37</td><td style=\"text-align: right;\">3.23</td><td style=\"text-align: right;\">5</td><td style=\"text-align: right;\">1.21</td><td style=\"text-align: right;\">8</td><td style=\"text-align: right;\">1.14</td></tr>\n",
       "<tr class=\"even\"><td style=\"text-align: right;\">876568</td><td style=\"text-align: right;\">136,063,448</td><td>rs151037812</td><td>0</td><td style=\"text-align: right;\">57</td><td style=\"text-align: right;\">0</td><td style=\"text-align: right;\">0.00</td><td style=\"text-align: right;\">0</td><td style=\"text-align: right;\">0.00</td><td style=\"text-align: right;\">8</td><td style=\"text-align: right;\">1.01</td><td style=\"text-align: right;\">0</td><td style=\"text-align: right;\">0.00</td><td style=\"text-align: right;\">36</td><td style=\"text-align: right;\">3.14</td><td style=\"text-align: right;\">5</td><td style=\"text-align: right;\">1.21</td><td style=\"text-align: right;\">8</td><td style=\"text-align: right;\">1.14</td></tr>\n",
       "<tr><td style=\"text-align: right;\">877000</td><td style=\"text-align: right;\">136,145,019</td><td>rs115824476</td><td>0</td><td style=\"text-align: right;\">58</td><td style=\"text-align: right;\">0</td><td style=\"text-align: right;\">0.00</td><td style=\"text-align: right;\">0</td><td style=\"text-align: right;\">0.00</td><td style=\"text-align: right;\">8</td><td style=\"text-align: right;\">1.00</td><td style=\"text-align: right;\">0</td><td style=\"text-align: right;\">0.00</td><td style=\"text-align: right;\">37</td><td style=\"text-align: right;\">3.18</td><td style=\"text-align: right;\">5</td><td style=\"text-align: right;\">1.19</td><td style=\"text-align: right;\">8</td><td style=\"text-align: right;\">1.13</td></tr>\n",
       "<tr class=\"even\"><td style=\"text-align: right;\">877448</td><td style=\"text-align: right;\">136,227,304</td><td>rs141415484</td><td>0</td><td style=\"text-align: right;\">56</td><td style=\"text-align: right;\">1</td><td style=\"text-align: right;\">0.09</td><td style=\"text-align: right;\">0</td><td style=\"text-align: right;\">0.00</td><td style=\"text-align: right;\">8</td><td style=\"text-align: right;\">1.03</td><td style=\"text-align: right;\">0</td><td style=\"text-align: right;\">0.00</td><td style=\"text-align: right;\">36</td><td style=\"text-align: right;\">3.20</td><td style=\"text-align: right;\">4</td><td style=\"text-align: right;\">0.98</td><td style=\"text-align: right;\">7</td><td style=\"text-align: right;\">1.02</td></tr>\n",
       "<tr><td style=\"text-align: right;\">878185</td><td style=\"text-align: right;\">136,395,769</td><td>rs150583901</td><td>0</td><td style=\"text-align: right;\">58</td><td style=\"text-align: right;\">0</td><td style=\"text-align: right;\">0.00</td><td style=\"text-align: right;\">0</td><td style=\"text-align: right;\">0.00</td><td style=\"text-align: right;\">8</td><td style=\"text-align: right;\">1.00</td><td style=\"text-align: right;\">0</td><td style=\"text-align: right;\">0.00</td><td style=\"text-align: right;\">37</td><td style=\"text-align: right;\">3.18</td><td style=\"text-align: right;\">5</td><td style=\"text-align: right;\">1.19</td><td style=\"text-align: right;\">8</td><td style=\"text-align: right;\">1.13</td></tr>\n",
       "</table>"
      ],
      "text/plain": [
       "<IPython.core.display.HTML object>"
      ]
     },
     "execution_count": 2,
     "metadata": {},
     "output_type": "execute_result"
    }
   ],
   "source": [
    "HTML(dm.series_html(di_6_54))"
   ]
  },
  {
   "cell_type": "code",
   "execution_count": 3,
   "metadata": {
    "collapsed": false
   },
   "outputs": [
    {
     "data": {
      "text/html": [
       "<table>\n",
       "<thead><tr><th style=\"text-align:center\">index</th><th style=\"text-align:center\">first</th><th style=\"text-align:center\">length</th><th style=\"text-align:center\">snps</th><th style=\"text-align:center\" colspan=2>alleles</th><th style=\"text-align:center\" colspan=2>matches</th><th style=\"text-align:center\" colspan=2>afr</th><th style=\"text-align:center\" colspan=2>afx</th><th style=\"text-align:center\" colspan=2>amr</th><th style=\"text-align:center\" colspan=2>eas</th><th style=\"text-align:center\" colspan=2>eur</th><th style=\"text-align:center\" colspan=2>sas</th><th style=\"text-align:center\" colspan=2>sax</th></tr></thead>\n",
       "<tr class=\"even\"><td style=\"text-align: right;\">354170</td><td style=\"text-align: right;\">136,682,274</td><td style=\"text-align: right;\">93,624</td><td style=\"text-align: right;\">7</td><td style=\"text-align: right;\">1868</td><td style=\"text-align: right;\">0.00</td><td style=\"text-align: right;\">2</td><td style=\"text-align: right;\">0.04</td><td style=\"text-align: right;\">0</td><td style=\"text-align: right;\">0.00</td><td style=\"text-align: right;\">0</td><td style=\"text-align: right;\">0.00</td><td style=\"text-align: right;\">0</td><td style=\"text-align: right;\">0.00</td><td style=\"text-align: right;\">0</td><td style=\"text-align: right;\">0.00</td><td style=\"text-align: right;\">2</td><td style=\"text-align: right;\">4.98</td><td style=\"text-align: right;\">0</td><td style=\"text-align: right;\">0.00</td><td style=\"text-align: right;\">0</td><td style=\"text-align: right;\">0.00</td></tr>\n",
       "<tr><td style=\"text-align: right;\">354033</td><td style=\"text-align: right;\">136,588,031</td><td style=\"text-align: right;\">5,647</td><td style=\"text-align: right;\">7</td><td style=\"text-align: right;\">1760</td><td style=\"text-align: right;\">0.03</td><td style=\"text-align: right;\">51</td><td style=\"text-align: right;\">0.94</td><td style=\"text-align: right;\">0</td><td style=\"text-align: right;\">0.00</td><td style=\"text-align: right;\">0</td><td style=\"text-align: right;\">0.00</td><td style=\"text-align: right;\">8</td><td style=\"text-align: right;\">1.13</td><td style=\"text-align: right;\">0</td><td style=\"text-align: right;\">0.00</td><td style=\"text-align: right;\">35</td><td style=\"text-align: right;\">3.42</td><td style=\"text-align: right;\">3</td><td style=\"text-align: right;\">0.81</td><td style=\"text-align: right;\">5</td><td style=\"text-align: right;\">0.80</td></tr>\n",
       "<tr class=\"even\"><td style=\"text-align: right;\">353240</td><td style=\"text-align: right;\">135,757,320</td><td style=\"text-align: right;\">20,184</td><td style=\"text-align: right;\">13</td><td style=\"text-align: right;\">1696</td><td style=\"text-align: right;\">0.03</td><td style=\"text-align: right;\">53</td><td style=\"text-align: right;\">0.98</td><td style=\"text-align: right;\">0</td><td style=\"text-align: right;\">0.00</td><td style=\"text-align: right;\">0</td><td style=\"text-align: right;\">0.00</td><td style=\"text-align: right;\">7</td><td style=\"text-align: right;\">0.95</td><td style=\"text-align: right;\">0</td><td style=\"text-align: right;\">0.00</td><td style=\"text-align: right;\">37</td><td style=\"text-align: right;\">3.48</td><td style=\"text-align: right;\">3</td><td style=\"text-align: right;\">0.78</td><td style=\"text-align: right;\">6</td><td style=\"text-align: right;\">0.92</td></tr>\n",
       "<tr><td style=\"text-align: right;\">354130</td><td style=\"text-align: right;\">136,653,925</td><td style=\"text-align: right;\">107,928</td><td style=\"text-align: right;\">24</td><td style=\"text-align: right;\">1504</td><td style=\"text-align: right;\">0.03</td><td style=\"text-align: right;\">51</td><td style=\"text-align: right;\">0.94</td><td style=\"text-align: right;\">0</td><td style=\"text-align: right;\">0.00</td><td style=\"text-align: right;\">0</td><td style=\"text-align: right;\">0.00</td><td style=\"text-align: right;\">8</td><td style=\"text-align: right;\">1.13</td><td style=\"text-align: right;\">0</td><td style=\"text-align: right;\">0.00</td><td style=\"text-align: right;\">35</td><td style=\"text-align: right;\">3.42</td><td style=\"text-align: right;\">3</td><td style=\"text-align: right;\">0.81</td><td style=\"text-align: right;\">5</td><td style=\"text-align: right;\">0.80</td></tr>\n",
       "<tr class=\"even\"><td style=\"text-align: right;\">353925</td><td style=\"text-align: right;\">136,506,375</td><td style=\"text-align: right;\">32,564</td><td style=\"text-align: right;\">4</td><td style=\"text-align: right;\">1442</td><td style=\"text-align: right;\">0.04</td><td style=\"text-align: right;\">54</td><td style=\"text-align: right;\">1.00</td><td style=\"text-align: right;\">0</td><td style=\"text-align: right;\">0.00</td><td style=\"text-align: right;\">0</td><td style=\"text-align: right;\">0.00</td><td style=\"text-align: right;\">8</td><td style=\"text-align: right;\">1.07</td><td style=\"text-align: right;\">0</td><td style=\"text-align: right;\">0.00</td><td style=\"text-align: right;\">37</td><td style=\"text-align: right;\">3.41</td><td style=\"text-align: right;\">3</td><td style=\"text-align: right;\">0.76</td><td style=\"text-align: right;\">6</td><td style=\"text-align: right;\">0.91</td></tr>\n",
       "<tr><td style=\"text-align: right;\">353791</td><td style=\"text-align: right;\">136,393,658</td><td style=\"text-align: right;\">92,684</td><td style=\"text-align: right;\">32</td><td style=\"text-align: right;\">1361</td><td style=\"text-align: right;\">0.04</td><td style=\"text-align: right;\">54</td><td style=\"text-align: right;\">1.00</td><td style=\"text-align: right;\">0</td><td style=\"text-align: right;\">0.00</td><td style=\"text-align: right;\">0</td><td style=\"text-align: right;\">0.00</td><td style=\"text-align: right;\">8</td><td style=\"text-align: right;\">1.07</td><td style=\"text-align: right;\">0</td><td style=\"text-align: right;\">0.00</td><td style=\"text-align: right;\">37</td><td style=\"text-align: right;\">3.41</td><td style=\"text-align: right;\">3</td><td style=\"text-align: right;\">0.76</td><td style=\"text-align: right;\">6</td><td style=\"text-align: right;\">0.91</td></tr>\n",
       "<tr class=\"even\"><td style=\"text-align: right;\">353958</td><td style=\"text-align: right;\">136,535,876</td><td style=\"text-align: right;\">19,014</td><td style=\"text-align: right;\">7</td><td style=\"text-align: right;\">1303</td><td style=\"text-align: right;\">0.04</td><td style=\"text-align: right;\">54</td><td style=\"text-align: right;\">1.00</td><td style=\"text-align: right;\">0</td><td style=\"text-align: right;\">0.00</td><td style=\"text-align: right;\">0</td><td style=\"text-align: right;\">0.00</td><td style=\"text-align: right;\">8</td><td style=\"text-align: right;\">1.07</td><td style=\"text-align: right;\">0</td><td style=\"text-align: right;\">0.00</td><td style=\"text-align: right;\">37</td><td style=\"text-align: right;\">3.41</td><td style=\"text-align: right;\">3</td><td style=\"text-align: right;\">0.76</td><td style=\"text-align: right;\">6</td><td style=\"text-align: right;\">0.91</td></tr>\n",
       "<tr><td style=\"text-align: right;\">354129</td><td style=\"text-align: right;\">136,652,953</td><td style=\"text-align: right;\">108,222</td><td style=\"text-align: right;\">5</td><td style=\"text-align: right;\">1296</td><td style=\"text-align: right;\">0.04</td><td style=\"text-align: right;\">51</td><td style=\"text-align: right;\">0.94</td><td style=\"text-align: right;\">0</td><td style=\"text-align: right;\">0.00</td><td style=\"text-align: right;\">0</td><td style=\"text-align: right;\">0.00</td><td style=\"text-align: right;\">8</td><td style=\"text-align: right;\">1.13</td><td style=\"text-align: right;\">0</td><td style=\"text-align: right;\">0.00</td><td style=\"text-align: right;\">35</td><td style=\"text-align: right;\">3.42</td><td style=\"text-align: right;\">3</td><td style=\"text-align: right;\">0.81</td><td style=\"text-align: right;\">5</td><td style=\"text-align: right;\">0.80</td></tr>\n",
       "<tr class=\"even\"><td style=\"text-align: right;\">353919</td><td style=\"text-align: right;\">136,500,475</td><td style=\"text-align: right;\">42,085</td><td style=\"text-align: right;\">13</td><td style=\"text-align: right;\">1227</td><td style=\"text-align: right;\">0.04</td><td style=\"text-align: right;\">53</td><td style=\"text-align: right;\">0.98</td><td style=\"text-align: right;\">0</td><td style=\"text-align: right;\">0.00</td><td style=\"text-align: right;\">0</td><td style=\"text-align: right;\">0.00</td><td style=\"text-align: right;\">8</td><td style=\"text-align: right;\">1.09</td><td style=\"text-align: right;\">0</td><td style=\"text-align: right;\">0.00</td><td style=\"text-align: right;\">37</td><td style=\"text-align: right;\">3.48</td><td style=\"text-align: right;\">3</td><td style=\"text-align: right;\">0.78</td><td style=\"text-align: right;\">5</td><td style=\"text-align: right;\">0.77</td></tr>\n",
       "<tr><td style=\"text-align: right;\">354127</td><td style=\"text-align: right;\">136,652,491</td><td style=\"text-align: right;\">80,281</td><td style=\"text-align: right;\">6</td><td style=\"text-align: right;\">1114</td><td style=\"text-align: right;\">0.05</td><td style=\"text-align: right;\">51</td><td style=\"text-align: right;\">0.94</td><td style=\"text-align: right;\">0</td><td style=\"text-align: right;\">0.00</td><td style=\"text-align: right;\">0</td><td style=\"text-align: right;\">0.00</td><td style=\"text-align: right;\">8</td><td style=\"text-align: right;\">1.13</td><td style=\"text-align: right;\">0</td><td style=\"text-align: right;\">0.00</td><td style=\"text-align: right;\">35</td><td style=\"text-align: right;\">3.42</td><td style=\"text-align: right;\">3</td><td style=\"text-align: right;\">0.81</td><td style=\"text-align: right;\">5</td><td style=\"text-align: right;\">0.80</td></tr>\n",
       "<tr class=\"even\"><td style=\"text-align: right;\">353372</td><td style=\"text-align: right;\">135,829,592</td><td style=\"text-align: right;\">591,316</td><td style=\"text-align: right;\">9</td><td style=\"text-align: right;\">944</td><td style=\"text-align: right;\">0.06</td><td style=\"text-align: right;\">54</td><td style=\"text-align: right;\">1.00</td><td style=\"text-align: right;\">0</td><td style=\"text-align: right;\">0.00</td><td style=\"text-align: right;\">0</td><td style=\"text-align: right;\">0.00</td><td style=\"text-align: right;\">8</td><td style=\"text-align: right;\">1.07</td><td style=\"text-align: right;\">0</td><td style=\"text-align: right;\">0.00</td><td style=\"text-align: right;\">37</td><td style=\"text-align: right;\">3.41</td><td style=\"text-align: right;\">3</td><td style=\"text-align: right;\">0.76</td><td style=\"text-align: right;\">6</td><td style=\"text-align: right;\">0.91</td></tr>\n",
       "<tr><td style=\"text-align: right;\">353902</td><td style=\"text-align: right;\">136,494,985</td><td style=\"text-align: right;\">278,653</td><td style=\"text-align: right;\">81</td><td style=\"text-align: right;\">857</td><td style=\"text-align: right;\">0.06</td><td style=\"text-align: right;\">51</td><td style=\"text-align: right;\">0.94</td><td style=\"text-align: right;\">0</td><td style=\"text-align: right;\">0.00</td><td style=\"text-align: right;\">0</td><td style=\"text-align: right;\">0.00</td><td style=\"text-align: right;\">8</td><td style=\"text-align: right;\">1.13</td><td style=\"text-align: right;\">0</td><td style=\"text-align: right;\">0.00</td><td style=\"text-align: right;\">35</td><td style=\"text-align: right;\">3.42</td><td style=\"text-align: right;\">3</td><td style=\"text-align: right;\">0.81</td><td style=\"text-align: right;\">5</td><td style=\"text-align: right;\">0.80</td></tr>\n",
       "<tr class=\"even\"><td style=\"text-align: right;\">353917</td><td style=\"text-align: right;\">136,499,236</td><td style=\"text-align: right;\">176,092</td><td style=\"text-align: right;\">7</td><td style=\"text-align: right;\">59</td><td style=\"text-align: right;\">0.02</td><td style=\"text-align: right;\">1</td><td style=\"text-align: right;\">0.02</td><td style=\"text-align: right;\">0</td><td style=\"text-align: right;\">0.00</td><td style=\"text-align: right;\">0</td><td style=\"text-align: right;\">0.00</td><td style=\"text-align: right;\">0</td><td style=\"text-align: right;\">0.00</td><td style=\"text-align: right;\">0</td><td style=\"text-align: right;\">0.00</td><td style=\"text-align: right;\">1</td><td style=\"text-align: right;\">4.98</td><td style=\"text-align: right;\">0</td><td style=\"text-align: right;\">0.00</td><td style=\"text-align: right;\">0</td><td style=\"text-align: right;\">0.00</td></tr>\n",
       "<tr><td style=\"text-align: right;\">353430</td><td style=\"text-align: right;\">135,879,258</td><td style=\"text-align: right;\">516,511</td><td style=\"text-align: right;\">6</td><td style=\"text-align: right;\">54</td><td style=\"text-align: right;\">1.00</td><td style=\"text-align: right;\">54</td><td style=\"text-align: right;\">1.00</td><td style=\"text-align: right;\">0</td><td style=\"text-align: right;\">0.00</td><td style=\"text-align: right;\">0</td><td style=\"text-align: right;\">0.00</td><td style=\"text-align: right;\">8</td><td style=\"text-align: right;\">1.07</td><td style=\"text-align: right;\">0</td><td style=\"text-align: right;\">0.00</td><td style=\"text-align: right;\">37</td><td style=\"text-align: right;\">3.41</td><td style=\"text-align: right;\">3</td><td style=\"text-align: right;\">0.76</td><td style=\"text-align: right;\">6</td><td style=\"text-align: right;\">0.91</td></tr>\n",
       "<tr class=\"even\"><td style=\"text-align: right;\">353469</td><td style=\"text-align: right;\">135,922,944</td><td style=\"text-align: right;\">346,911</td><td style=\"text-align: right;\">5</td><td style=\"text-align: right;\">31</td><td style=\"text-align: right;\">1.00</td><td style=\"text-align: right;\">31</td><td style=\"text-align: right;\">0.57</td><td style=\"text-align: right;\">0</td><td style=\"text-align: right;\">0.00</td><td style=\"text-align: right;\">0</td><td style=\"text-align: right;\">0.00</td><td style=\"text-align: right;\">6</td><td style=\"text-align: right;\">1.40</td><td style=\"text-align: right;\">0</td><td style=\"text-align: right;\">0.00</td><td style=\"text-align: right;\">20</td><td style=\"text-align: right;\">3.21</td><td style=\"text-align: right;\">1</td><td style=\"text-align: right;\">0.44</td><td style=\"text-align: right;\">4</td><td style=\"text-align: right;\">1.05</td></tr>\n",
       "<tr><td style=\"text-align: right;\">353321</td><td style=\"text-align: right;\">135,789,949</td><td style=\"text-align: right;\">762,462</td><td style=\"text-align: right;\">7</td><td style=\"text-align: right;\">17</td><td style=\"text-align: right;\">1.00</td><td style=\"text-align: right;\">17</td><td style=\"text-align: right;\">0.31</td><td style=\"text-align: right;\">0</td><td style=\"text-align: right;\">0.00</td><td style=\"text-align: right;\">0</td><td style=\"text-align: right;\">0.00</td><td style=\"text-align: right;\">2</td><td style=\"text-align: right;\">0.85</td><td style=\"text-align: right;\">0</td><td style=\"text-align: right;\">0.00</td><td style=\"text-align: right;\">14</td><td style=\"text-align: right;\">4.10</td><td style=\"text-align: right;\">1</td><td style=\"text-align: right;\">0.81</td><td style=\"text-align: right;\">0</td><td style=\"text-align: right;\">0.00</td></tr>\n",
       "<tr class=\"even\"><td style=\"text-align: right;\">353705</td><td style=\"text-align: right;\">136,266,716</td><td style=\"text-align: right;\">297,530</td><td style=\"text-align: right;\">4</td><td style=\"text-align: right;\">16</td><td style=\"text-align: right;\">1.00</td><td style=\"text-align: right;\">16</td><td style=\"text-align: right;\">0.30</td><td style=\"text-align: right;\">0</td><td style=\"text-align: right;\">0.00</td><td style=\"text-align: right;\">0</td><td style=\"text-align: right;\">0.00</td><td style=\"text-align: right;\">4</td><td style=\"text-align: right;\">1.80</td><td style=\"text-align: right;\">0</td><td style=\"text-align: right;\">0.00</td><td style=\"text-align: right;\">12</td><td style=\"text-align: right;\">3.73</td><td style=\"text-align: right;\">0</td><td style=\"text-align: right;\">0.00</td><td style=\"text-align: right;\">0</td><td style=\"text-align: right;\">0.00</td></tr>\n",
       "</table>"
      ],
      "text/plain": [
       "<IPython.core.display.HTML object>"
      ]
     },
     "execution_count": 3,
     "metadata": {},
     "output_type": "execute_result"
    }
   ],
   "source": [
    "plt_obj = dm.superset_yes_no([di_6_54], min_match=0.001)\n",
    "plt_obj.do_plot()\n",
    "HTML(plt_obj.get_html())"
   ]
  },
  {
   "cell_type": "code",
   "execution_count": 4,
   "metadata": {
    "collapsed": false
   },
   "outputs": [
    {
     "data": {
      "text/plain": [
       "array([(0, 4944), (1, 2), (2, 2), (3, 5), (4, 1), (5, 5), (6, 49)], \n",
       "      dtype=[('count', '<u2'), ('snps', '<u2')])"
      ]
     },
     "execution_count": 4,
     "metadata": {},
     "output_type": "execute_result"
    }
   ],
   "source": [
    "count_data = sa_6_54.unique_snps_per_allele()\n",
    "count_data"
   ]
  },
  {
   "cell_type": "code",
   "execution_count": 5,
   "metadata": {
    "collapsed": false
   },
   "outputs": [
    {
     "data": {
      "text/html": [
       "\n",
       "\n",
       "    <div class=\"bk-root\">\n",
       "        <div class=\"plotdiv\" id=\"dc6120a0-2118-488e-a783-7f3f2d44a51f\"></div>\n",
       "    </div>\n",
       "<script type=\"text/javascript\">\n",
       "  \n",
       "  (function(global) {\n",
       "    function now() {\n",
       "      return new Date();\n",
       "    }\n",
       "  \n",
       "    if (typeof (window._bokeh_onload_callbacks) === \"undefined\") {\n",
       "      window._bokeh_onload_callbacks = [];\n",
       "    }\n",
       "  \n",
       "    function run_callbacks() {\n",
       "      window._bokeh_onload_callbacks.forEach(function(callback) { callback() });\n",
       "      delete window._bokeh_onload_callbacks\n",
       "      console.info(\"Bokeh: all callbacks have finished\");\n",
       "    }\n",
       "  \n",
       "    function load_libs(js_urls, callback) {\n",
       "      window._bokeh_onload_callbacks.push(callback);\n",
       "      if (window._bokeh_is_loading > 0) {\n",
       "        console.log(\"Bokeh: BokehJS is being loaded, scheduling callback at\", now());\n",
       "        return null;\n",
       "      }\n",
       "      if (js_urls == null || js_urls.length === 0) {\n",
       "        run_callbacks();\n",
       "        return null;\n",
       "      }\n",
       "      console.log(\"Bokeh: BokehJS not loaded, scheduling load and callback at\", now());\n",
       "      window._bokeh_is_loading = js_urls.length;\n",
       "      for (var i = 0; i < js_urls.length; i++) {\n",
       "        var url = js_urls[i];\n",
       "        var s = document.createElement('script');\n",
       "        s.src = url;\n",
       "        s.async = false;\n",
       "        s.onreadystatechange = s.onload = function() {\n",
       "          window._bokeh_is_loading--;\n",
       "          if (window._bokeh_is_loading === 0) {\n",
       "            console.log(\"Bokeh: all BokehJS libraries loaded\");\n",
       "            run_callbacks()\n",
       "          }\n",
       "        };\n",
       "        s.onerror = function() {\n",
       "          console.warn(\"failed to load library \" + url);\n",
       "        };\n",
       "        console.log(\"Bokeh: injecting script tag for BokehJS library: \", url);\n",
       "        document.getElementsByTagName(\"head\")[0].appendChild(s);\n",
       "      }\n",
       "    };var element = document.getElementById(\"dc6120a0-2118-488e-a783-7f3f2d44a51f\");\n",
       "    if (element == null) {\n",
       "      console.log(\"Bokeh: ERROR: autoload.js configured with elementid 'dc6120a0-2118-488e-a783-7f3f2d44a51f' but no matching script tag was found. \")\n",
       "      return false;\n",
       "    }\n",
       "  \n",
       "    var js_urls = [];\n",
       "  \n",
       "    var inline_js = [\n",
       "      function(Bokeh) {\n",
       "        Bokeh.$(function() {\n",
       "            var docs_json = {\"95b5d5b0-bf38-4421-bc98-d38e9f70ace6\":{\"roots\":{\"references\":[{\"attributes\":{\"plot\":{\"id\":\"f2a8a90f-c656-412d-a7a8-8253e68248d7\",\"subtype\":\"Figure\",\"type\":\"Plot\"}},\"id\":\"65642247-faf4-4777-a5ad-0274d8751000\",\"type\":\"PanTool\"},{\"attributes\":{\"bottom\":{\"field\":\"bottom\"},\"fill_alpha\":{\"value\":0.1},\"fill_color\":{\"value\":\"#1f77b4\"},\"left\":{\"field\":\"left\"},\"line_alpha\":{\"value\":0.1},\"line_color\":{\"value\":\"#1f77b4\"},\"right\":{\"field\":\"right\"},\"top\":{\"field\":\"top\"}},\"id\":\"c521cd88-4525-40b5-9a25-c96150761e36\",\"type\":\"Quad\"},{\"attributes\":{},\"id\":\"b4460ae0-8c72-491d-8f99-216435b2f9c0\",\"type\":\"BasicTicker\"},{\"attributes\":{\"bottom_units\":\"screen\",\"fill_alpha\":{\"value\":0.5},\"fill_color\":{\"value\":\"lightgrey\"},\"left_units\":\"screen\",\"level\":\"overlay\",\"line_alpha\":{\"value\":1.0},\"line_color\":{\"value\":\"black\"},\"line_dash\":[4,4],\"line_width\":{\"value\":2},\"plot\":null,\"render_mode\":\"css\",\"right_units\":\"screen\",\"top_units\":\"screen\"},\"id\":\"4ef4b0a6-cfac-4ffa-afca-0d3b7e9da417\",\"type\":\"BoxAnnotation\"},{\"attributes\":{\"callback\":null,\"column_names\":[\"right\",\"bottom\",\"top\",\"left\"],\"data\":{\"bottom\":[645,645,645,645,645,645,645],\"left\":[135809835,135957574,136289083,136499189,136545415,136597196,136664254],\"right\":[135928279,136288182,136482839,136542633,136594750,136634047,136743222],\"top\":[675,675,675,675,675,675,675]}},\"id\":\"bb3a3d82-d05b-47fc-aaf3-81e60c03fce4\",\"type\":\"ColumnDataSource\"},{\"attributes\":{\"overlay\":{\"id\":\"4ef4b0a6-cfac-4ffa-afca-0d3b7e9da417\",\"type\":\"BoxAnnotation\"},\"plot\":{\"id\":\"f2a8a90f-c656-412d-a7a8-8253e68248d7\",\"subtype\":\"Figure\",\"type\":\"Plot\"}},\"id\":\"b7b0fa0a-a51c-43e7-a756-ea31114e9cfc\",\"type\":\"BoxZoomTool\"},{\"attributes\":{},\"id\":\"96041dd4-deac-44d5-a371-5a811766b0c2\",\"type\":\"BasicTickFormatter\"},{\"attributes\":{\"dimension\":1,\"plot\":{\"id\":\"f2a8a90f-c656-412d-a7a8-8253e68248d7\",\"subtype\":\"Figure\",\"type\":\"Plot\"},\"ticker\":{\"id\":\"86edcc69-a03b-4441-94ec-6dc9f5b33f0a\",\"type\":\"BasicTicker\"}},\"id\":\"5a3f105d-ec59-4029-827f-a3b73dbe79b9\",\"type\":\"Grid\"},{\"attributes\":{\"callback\":null,\"end\":700},\"id\":\"619781b7-d3d0-4fc4-a765-9194b979b497\",\"type\":\"Range1d\"},{\"attributes\":{\"plot\":{\"id\":\"f2a8a90f-c656-412d-a7a8-8253e68248d7\",\"subtype\":\"Figure\",\"type\":\"Plot\"}},\"id\":\"d16bc021-27b6-4cb6-93fd-a17b59015315\",\"type\":\"WheelZoomTool\"},{\"attributes\":{\"formatter\":{\"id\":\"40ed78d8-a4e1-4c0b-8f78-b1cb50295f0c\",\"type\":\"BasicTickFormatter\"},\"plot\":{\"id\":\"f2a8a90f-c656-412d-a7a8-8253e68248d7\",\"subtype\":\"Figure\",\"type\":\"Plot\"},\"ticker\":{\"id\":\"b4460ae0-8c72-491d-8f99-216435b2f9c0\",\"type\":\"BasicTicker\"}},\"id\":\"8e4d7e02-f4c7-411e-8367-43706e66061c\",\"type\":\"LinearAxis\"},{\"attributes\":{\"formatter\":{\"id\":\"96041dd4-deac-44d5-a371-5a811766b0c2\",\"type\":\"BasicTickFormatter\"},\"plot\":{\"id\":\"f2a8a90f-c656-412d-a7a8-8253e68248d7\",\"subtype\":\"Figure\",\"type\":\"Plot\"},\"ticker\":{\"id\":\"86edcc69-a03b-4441-94ec-6dc9f5b33f0a\",\"type\":\"BasicTicker\"},\"visible\":null},\"id\":\"dccfca3e-17f5-4fab-8156-8189099fad26\",\"type\":\"LinearAxis\"},{\"attributes\":{\"below\":[{\"id\":\"8e4d7e02-f4c7-411e-8367-43706e66061c\",\"type\":\"LinearAxis\"}],\"left\":[{\"id\":\"dccfca3e-17f5-4fab-8156-8189099fad26\",\"type\":\"LinearAxis\"}],\"plot_height\":700,\"plot_width\":900,\"renderers\":[{\"id\":\"8e4d7e02-f4c7-411e-8367-43706e66061c\",\"type\":\"LinearAxis\"},{\"id\":\"8567a4e7-08d4-4fe4-a852-de940a849f5b\",\"type\":\"Grid\"},{\"id\":\"dccfca3e-17f5-4fab-8156-8189099fad26\",\"type\":\"LinearAxis\"},{\"id\":\"5a3f105d-ec59-4029-827f-a3b73dbe79b9\",\"type\":\"Grid\"},{\"id\":\"4ef4b0a6-cfac-4ffa-afca-0d3b7e9da417\",\"type\":\"BoxAnnotation\"},{\"id\":\"ab9a692c-c357-48aa-8980-9519ccda95ff\",\"type\":\"GlyphRenderer\"},{\"id\":\"0dcec62f-a284-4d70-8cb3-b3d15902f05d\",\"type\":\"GlyphRenderer\"},{\"id\":\"910bb310-665d-4fc6-a1b6-4fdc6d142007\",\"type\":\"LabelSet\"},{\"id\":\"ce9820a2-9262-455a-8ad4-6a315e6b27fc\",\"type\":\"GlyphRenderer\"},{\"id\":\"88d26843-b6fa-415d-846f-176b059aeead\",\"type\":\"LabelSet\"}],\"title\":{\"id\":\"592273d8-33e6-4a13-80d0-b97d36d8f392\",\"type\":\"Title\"},\"tool_events\":{\"id\":\"b94b89b7-17d8-4c8c-b7d0-29dc9af417c7\",\"type\":\"ToolEvents\"},\"toolbar\":{\"id\":\"a75a9e7a-46e6-43e1-9a1b-c054303fa3b6\",\"type\":\"Toolbar\"},\"toolbar_location\":null,\"x_range\":{\"id\":\"4705f6cc-6149-471a-8986-e4636a1f5919\",\"type\":\"Range1d\"},\"y_range\":{\"id\":\"619781b7-d3d0-4fc4-a765-9194b979b497\",\"type\":\"Range1d\"}},\"id\":\"f2a8a90f-c656-412d-a7a8-8253e68248d7\",\"subtype\":\"Figure\",\"type\":\"Plot\"},{\"attributes\":{\"plot\":{\"id\":\"f2a8a90f-c656-412d-a7a8-8253e68248d7\",\"subtype\":\"Figure\",\"type\":\"Plot\"},\"ticker\":{\"id\":\"b4460ae0-8c72-491d-8f99-216435b2f9c0\",\"type\":\"BasicTicker\"}},\"id\":\"8567a4e7-08d4-4fe4-a852-de940a849f5b\",\"type\":\"Grid\"},{\"attributes\":{\"data_source\":{\"id\":\"7def173e-f808-48d2-b87f-80b262eb3db4\",\"type\":\"ColumnDataSource\"},\"glyph\":{\"id\":\"f1964217-acde-4c85-adc7-c1119fb9d327\",\"type\":\"Quad\"},\"hover_glyph\":null,\"nonselection_glyph\":{\"id\":\"c521cd88-4525-40b5-9a25-c96150761e36\",\"type\":\"Quad\"},\"selection_glyph\":null},\"id\":\"ab9a692c-c357-48aa-8980-9519ccda95ff\",\"type\":\"GlyphRenderer\"},{\"attributes\":{\"data_source\":{\"id\":\"bb3a3d82-d05b-47fc-aaf3-81e60c03fce4\",\"type\":\"ColumnDataSource\"},\"glyph\":{\"id\":\"8b5020be-4890-42dd-97d1-cc5d8be17ba8\",\"type\":\"Quad\"},\"hover_glyph\":null,\"nonselection_glyph\":{\"id\":\"4760dc88-0919-4dea-900e-19114305efc3\",\"type\":\"Quad\"},\"selection_glyph\":null},\"id\":\"ce9820a2-9262-455a-8ad4-6a315e6b27fc\",\"type\":\"GlyphRenderer\"},{\"attributes\":{\"plot\":{\"id\":\"f2a8a90f-c656-412d-a7a8-8253e68248d7\",\"subtype\":\"Figure\",\"type\":\"Plot\"}},\"id\":\"3c3addd3-21f4-4b75-9853-01d0195619ee\",\"type\":\"SaveTool\"},{\"attributes\":{\"bottom\":{\"field\":\"bottom\"},\"fill_color\":{\"field\":\"fill_color\"},\"left\":{\"field\":\"left\"},\"line_color\":{\"value\":null},\"right\":{\"field\":\"right\"},\"top\":{\"field\":\"top\"}},\"id\":\"f1964217-acde-4c85-adc7-c1119fb9d327\",\"type\":\"Quad\"},{\"attributes\":{\"active_drag\":\"auto\",\"active_scroll\":\"auto\",\"active_tap\":\"auto\",\"tools\":[{\"id\":\"65642247-faf4-4777-a5ad-0274d8751000\",\"type\":\"PanTool\"},{\"id\":\"d16bc021-27b6-4cb6-93fd-a17b59015315\",\"type\":\"WheelZoomTool\"},{\"id\":\"b7b0fa0a-a51c-43e7-a756-ea31114e9cfc\",\"type\":\"BoxZoomTool\"},{\"id\":\"3c3addd3-21f4-4b75-9853-01d0195619ee\",\"type\":\"SaveTool\"},{\"id\":\"7d7320b6-bb94-4eba-aed1-7cac9b447d08\",\"type\":\"ResetTool\"},{\"id\":\"b835a17d-c9df-4e54-85da-26852725dc7b\",\"type\":\"HelpTool\"}]},\"id\":\"a75a9e7a-46e6-43e1-9a1b-c054303fa3b6\",\"type\":\"Toolbar\"},{\"attributes\":{\"line_color\":{\"field\":\"line_color\"},\"xs\":{\"field\":\"xs\"},\"ys\":{\"field\":\"ys\"}},\"id\":\"4e334bef-2a4b-4796-8abe-39726097761d\",\"type\":\"MultiLine\"},{\"attributes\":{},\"id\":\"b94b89b7-17d8-4c8c-b7d0-29dc9af417c7\",\"type\":\"ToolEvents\"},{\"attributes\":{\"plot\":null,\"text\":null},\"id\":\"592273d8-33e6-4a13-80d0-b97d36d8f392\",\"type\":\"Title\"},{\"attributes\":{\"plot\":{\"id\":\"f2a8a90f-c656-412d-a7a8-8253e68248d7\",\"subtype\":\"Figure\",\"type\":\"Plot\"}},\"id\":\"b835a17d-c9df-4e54-85da-26852725dc7b\",\"type\":\"HelpTool\"},{\"attributes\":{\"callback\":null,\"column_names\":[\"xs\",\"ys\",\"line_color\"],\"data\":{\"line_color\":[\"black\",\"black\",\"black\",\"black\",\"black\",\"black\",\"black\",\"black\",\"black\",\"black\",\"black\",\"black\",\"black\",\"black\",\"black\",\"black\",\"black\",\"black\",\"black\",\"black\",\"black\",\"black\",\"black\",\"black\",\"black\",\"black\",\"black\",\"black\",\"black\",\"black\",\"black\",\"black\",\"black\",\"black\",\"black\",\"black\",\"black\",\"black\",\"black\",\"black\",\"black\",\"black\",\"black\",\"black\",\"black\",\"black\",\"black\",\"black\",\"black\",\"black\",\"black\",\"black\",\"black\",\"black\",\"black\",\"black\",\"black\",\"black\",\"black\",\"black\",\"black\",\"black\",\"black\",\"black\",\"black\",\"black\",\"black\",\"black\",\"black\",\"black\",\"black\",\"black\",\"black\",\"black\",\"black\",\"black\",\"black\",\"black\",\"black\",\"black\",\"black\",\"black\",\"black\",\"black\",\"black\",\"black\",\"black\",\"black\",\"black\",\"black\",\"black\",\"black\",\"black\",\"black\",\"black\",\"black\",\"black\",\"black\",\"black\",\"black\",\"black\",\"black\",\"black\",\"black\",\"black\",\"black\",\"black\",\"black\",\"black\",\"black\",\"black\",\"black\",\"black\",\"black\",\"black\",\"black\",\"black\",\"black\",\"black\",\"black\",\"black\",\"black\",\"black\",\"black\",\"black\",\"black\",\"black\",\"black\",\"black\",\"black\",\"black\",\"black\",\"black\",\"black\",\"black\",\"black\",\"black\",\"black\",\"black\",\"black\",\"black\",\"black\",\"black\",\"black\",\"black\",\"black\",\"black\",\"black\",\"black\",\"black\",\"black\",\"black\",\"black\",\"black\",\"black\",\"black\",\"black\",\"black\",\"black\",\"black\",\"black\",\"black\",\"black\",\"black\",\"black\",\"black\",\"black\",\"black\",\"black\",\"black\",\"black\",\"black\",\"black\",\"black\",\"black\",\"black\",\"black\",\"black\",\"black\",\"black\",\"black\",\"black\",\"black\",\"black\",\"black\",\"black\",\"black\",\"black\",\"black\",\"black\",\"black\",\"black\",\"black\",\"black\",\"black\",\"black\",\"black\",\"black\",\"black\",\"black\",\"black\",\"black\",\"black\",\"black\",\"black\",\"black\",\"black\"],\"xs\":[[135757320,135757320],[135761078,135761078],[135761271,135761271],[135762344,135762344],[135762980,135762980],[135763280,135763280],[135768815,135768815],[135769093,135769093],[135769127,135769127],[135770940,135770940],[135770951,135770951],[135776728,135776728],[135777504,135777504],[135829592,135829592],[135893372,135893372],[135952405,135952405],[135989721,135989721],[136136056,136136056],[136313639,136313639],[136401418,136401418],[136407078,136407078],[136420908,136420908],[135879258,135879258],[135967182,135967182],[136063448,136063448],[136145019,136145019],[136227304,136227304],[136395769,136395769],[136393658,136393658],[136396300,136396300],[136401843,136401843],[136407445,136407445],[136411879,136411879],[136412270,136412270],[136413244,136413244],[136413847,136413847],[136415217,136415217],[136416533,136416533],[136420726,136420726],[136429857,136429857],[136433740,136433740],[136436317,136436317],[136437615,136437615],[136438517,136438517],[136440300,136440300],[136443900,136443900],[136444185,136444185],[136444338,136444338],[136449254,136449254],[136451676,136451676],[136459227,136459227],[136463117,136463117],[136463454,136463454],[136467119,136467119],[136468238,136468238],[136470219,136470219],[136483355,136483355],[136485276,136485276],[136486340,136486340],[136486342,136486342],[136494985,136494985],[136497199,136497199],[136511817,136511817],[136513670,136513670],[136515458,136515458],[136516970,136516970],[136525309,136525309],[136528034,136528034],[136532225,136532225],[136535235,136535235],[136536095,136536095],[136544423,136544423],[136546927,136546927],[136552188,136552188],[136552517,136552517],[136555525,136555525],[136556480,136556480],[136560464,136560464],[136572285,136572285],[136582694,136582694],[136582809,136582809],[136584538,136584538],[136585323,136585323],[136586825,136586825],[136600662,136600662],[136612036,136612036],[136618178,136618178],[136618507,136618507],[136622543,136622543],[136624947,136624947],[136625113,136625113],[136626078,136626078],[136628121,136628121],[136632300,136632300],[136633962,136633962],[136635343,136635343],[136638113,136638113],[136640101,136640101],[136641593,136641593],[136646582,136646582],[136648077,136648077],[136648883,136648883],[136652045,136652045],[136653848,136653848],[136656094,136656094],[136661110,136661110],[136663110,136663110],[136663605,136663605],[136665162,136665162],[136665711,136665711],[136668123,136668123],[136670419,136670419],[136672680,136672680],[136673546,136673546],[136684632,136684632],[136686114,136686114],[136690425,136690425],[136690783,136690783],[136692893,136692893],[136694905,136694905],[136695694,136695694],[136695705,136695705],[136696608,136696608],[136697372,136697372],[136697468,136697468],[136700024,136700024],[136701539,136701539],[136702118,136702118],[136707480,136707480],[136710554,136710554],[136714178,136714178],[136719173,136719173],[136725459,136725459],[136734569,136734569],[136744678,136744678],[136748779,136748779],[136751488,136751488],[136754183,136754183],[136763242,136763242],[136765074,136765074],[136773638,136773638],[136500475,136500475],[136501509,136501509],[136504101,136504101],[136509868,136509868],[136520043,136520043],[136527120,136527120],[136530379,136530379],[136530443,136530443],[136539330,136539330],[136539670,136539670],[136540083,136540083],[136542559,136542559],[136542560,136542560],[136506375,136506375],[136506927,136506927],[136510012,136510012],[136538939,136538939],[136535876,136535876],[136544651,136544651],[136545844,136545844],[136552526,136552526],[136553022,136553022],[136554797,136554797],[136554890,136554890],[136588031,136588031],[136589278,136589278],[136589379,136589379],[136589741,136589741],[136590746,136590746],[136593553,136593553],[136593678,136593678],[136652491,136652491],[136652524,136652524],[136661150,136661150],[136669264,136669264],[136726567,136726567],[136732772,136732772],[136652953,136652953],[136655582,136655582],[136674028,136674028],[136684940,136684940],[136761175,136761175],[136653925,136653925],[136654833,136654833],[136656534,136656534],[136656536,136656536],[136657252,136657252],[136667301,136667301],[136667487,136667487],[136672775,136672775],[136680534,136680534],[136686393,136686393],[136688749,136688749],[136692553,136692553],[136697371,136697371],[136708787,136708787],[136710372,136710372],[136711064,136711064],[136715324,136715324],[136723504,136723504],[136737460,136737460],[136743143,136743143],[136746224,136746224],[136751842,136751842],[136759379,136759379],[136761853,136761853]],\"ys\":[[550,596],[550,596],[550,596],[550,596],[550,596],[550,596],[550,596],[550,596],[550,596],[550,596],[550,596],[550,596],[550,596],[150,191],[150,191],[150,191],[150,191],[150,191],[150,191],[150,191],[150,191],[150,191],[50,66],[50,66],[50,66],[50,66],[50,66],[50,66],[450,494],[450,494],[450,494],[450,494],[450,494],[450,494],[450,494],[450,494],[450,494],[450,494],[450,494],[450,494],[450,494],[450,494],[450,494],[450,494],[450,494],[450,494],[450,494],[450,494],[450,494],[450,494],[450,494],[450,494],[450,494],[450,494],[450,494],[450,494],[450,494],[450,494],[450,494],[450,494],[150,190],[150,190],[150,190],[150,190],[150,190],[150,190],[150,190],[150,190],[150,190],[150,190],[150,190],[150,190],[150,190],[150,190],[150,190],[150,190],[150,190],[150,190],[150,190],[150,190],[150,190],[150,190],[150,190],[150,190],[150,190],[150,190],[150,190],[150,190],[150,190],[150,190],[150,190],[150,190],[150,190],[150,190],[150,190],[150,190],[150,190],[150,190],[150,190],[150,190],[150,190],[150,190],[150,190],[150,190],[150,190],[150,190],[150,190],[150,190],[150,190],[150,190],[150,190],[150,190],[150,190],[150,190],[150,190],[150,190],[150,190],[150,190],[150,190],[150,190],[150,190],[150,190],[150,190],[150,190],[150,190],[150,190],[150,190],[150,190],[150,190],[150,190],[150,190],[150,190],[150,190],[150,190],[150,190],[150,190],[150,190],[150,190],[150,190],[150,190],[150,190],[250,293],[250,293],[250,293],[250,293],[250,293],[250,293],[250,293],[250,293],[250,293],[250,293],[250,293],[250,293],[250,293],[450,494],[450,494],[450,494],[450,494],[350,394],[350,394],[350,394],[350,394],[350,394],[350,394],[350,394],[550,596],[550,596],[550,596],[550,596],[550,596],[550,596],[550,596],[250,292],[250,292],[250,292],[250,292],[250,292],[250,292],[350,394],[350,394],[350,394],[350,394],[350,394],[550,595],[550,595],[550,595],[550,595],[550,595],[550,595],[550,595],[550,595],[550,595],[550,595],[550,595],[550,595],[550,595],[550,595],[550,595],[550,595],[550,595],[550,595],[550,595],[550,595],[550,595],[550,595],[550,595],[550,595]]}},\"id\":\"781042f0-cb9e-46cb-b1c2-d33f1052c329\",\"type\":\"ColumnDataSource\"},{\"attributes\":{\"bottom\":{\"field\":\"bottom\"},\"fill_alpha\":{\"value\":0.1},\"fill_color\":{\"value\":\"#1f77b4\"},\"left\":{\"field\":\"left\"},\"line_alpha\":{\"value\":0.1},\"line_color\":{\"value\":\"#1f77b4\"},\"right\":{\"field\":\"right\"},\"top\":{\"field\":\"top\"}},\"id\":\"4760dc88-0919-4dea-900e-19114305efc3\",\"type\":\"Quad\"},{\"attributes\":{\"callback\":null,\"column_names\":[\"y\",\"x\",\"vals\"],\"data\":{\"vals\":[\"RAB3GAP1\",\"ZRANB3\",\"R3HDM1\",\"UBXN4\",\"LCT\",\"MCM6\",\"DARS\"],\"x\":[135869057.0,136122878.0,136385961.0,136520911.0,136570082.5,136615621.5,136703738.0],\"y\":[660.0,660.0,660.0,660.0,660.0,660.0,660.0]}},\"id\":\"4b6e3283-d1cf-4452-9de4-1e108493cdb6\",\"type\":\"ColumnDataSource\"},{\"attributes\":{\"line_alpha\":{\"value\":0.1},\"line_color\":{\"value\":\"#1f77b4\"},\"xs\":{\"field\":\"xs\"},\"ys\":{\"field\":\"ys\"}},\"id\":\"8295b40e-1d04-41db-b21b-c8fafca44207\",\"type\":\"MultiLine\"},{\"attributes\":{},\"id\":\"40ed78d8-a4e1-4c0b-8f78-b1cb50295f0c\",\"type\":\"BasicTickFormatter\"},{\"attributes\":{\"callback\":null,\"column_names\":[\"right\",\"bottom\",\"top\",\"left\",\"fill_color\"],\"data\":{\"bottom\":[550,150,50,450,150,250,450,350,550,250,350,550],\"fill_color\":[\"#808080\",\"#c4c461\",\"#00ff00\",\"#c4c461\",\"#808080\",\"#808080\",\"#808080\",\"#808080\",\"#c46161\",\"#808080\",\"#808080\",\"#808080\"],\"left\":[135757320,135829592,135879258,136393658,136494985,136500475,136506375,136535876,136588031,136652491,136652953,136653925],\"right\":[135777504,136420908,136395769,136486342,136773638,136542560,136538939,136554890,136593678,136732772,136761175,136761853],\"top\":[596,191,66,494,190,293,494,394,596,292,394,595]}},\"id\":\"7def173e-f808-48d2-b87f-80b262eb3db4\",\"type\":\"ColumnDataSource\"},{\"attributes\":{\"callback\":null,\"end\":136786630,\"start\":135757320},\"id\":\"4705f6cc-6149-471a-8986-e4636a1f5919\",\"type\":\"Range1d\"},{\"attributes\":{\"bottom\":{\"field\":\"bottom\"},\"fill_color\":{\"value\":\"white\"},\"left\":{\"field\":\"left\"},\"right\":{\"field\":\"right\"},\"top\":{\"field\":\"top\"}},\"id\":\"8b5020be-4890-42dd-97d1-cc5d8be17ba8\",\"type\":\"Quad\"},{\"attributes\":{\"data_source\":{\"id\":\"781042f0-cb9e-46cb-b1c2-d33f1052c329\",\"type\":\"ColumnDataSource\"},\"glyph\":{\"id\":\"4e334bef-2a4b-4796-8abe-39726097761d\",\"type\":\"MultiLine\"},\"hover_glyph\":null,\"nonselection_glyph\":{\"id\":\"8295b40e-1d04-41db-b21b-c8fafca44207\",\"type\":\"MultiLine\"},\"selection_glyph\":null},\"id\":\"0dcec62f-a284-4d70-8cb3-b3d15902f05d\",\"type\":\"GlyphRenderer\"},{\"attributes\":{\"plot\":{\"id\":\"f2a8a90f-c656-412d-a7a8-8253e68248d7\",\"subtype\":\"Figure\",\"type\":\"Plot\"}},\"id\":\"7d7320b6-bb94-4eba-aed1-7cac9b447d08\",\"type\":\"ResetTool\"},{\"attributes\":{\"callback\":null,\"column_names\":[\"y\",\"x\",\"vals\"],\"data\":{\"vals\":[\"13_1696\",\"9_944\",\"6_54\",\"32_1361\",\"81_857\",\"13_1227\",\"4_1442\",\"7_1303\",\"7_1760\",\"6_1114\",\"5_1296\",\"24_1504\"],\"x\":[135757320,135829592,135879258,136393658,136494985,136500475,136506375,136535876,136588031,136652491,136652953,136653925],\"y\":[601.0,196.0,71.0,499.0,195.0,298.0,499.0,399.0,601.0,297.0,399.0,600.0]}},\"id\":\"c4816d8b-d28a-420e-bdfb-bf3f14b20aef\",\"type\":\"ColumnDataSource\"},{\"attributes\":{},\"id\":\"86edcc69-a03b-4441-94ec-6dc9f5b33f0a\",\"type\":\"BasicTicker\"},{\"attributes\":{\"level\":\"glyph\",\"plot\":{\"id\":\"f2a8a90f-c656-412d-a7a8-8253e68248d7\",\"subtype\":\"Figure\",\"type\":\"Plot\"},\"source\":{\"id\":\"c4816d8b-d28a-420e-bdfb-bf3f14b20aef\",\"type\":\"ColumnDataSource\"},\"text\":{\"field\":\"vals\"},\"text_font_size\":{\"value\":\"9pt\"},\"text_font_style\":\"bold\",\"x\":{\"field\":\"x\"},\"y\":{\"field\":\"y\"}},\"id\":\"910bb310-665d-4fc6-a1b6-4fdc6d142007\",\"type\":\"LabelSet\"},{\"attributes\":{\"level\":\"glyph\",\"plot\":{\"id\":\"f2a8a90f-c656-412d-a7a8-8253e68248d7\",\"subtype\":\"Figure\",\"type\":\"Plot\"},\"source\":{\"id\":\"4b6e3283-d1cf-4452-9de4-1e108493cdb6\",\"type\":\"ColumnDataSource\"},\"text\":{\"field\":\"vals\"},\"text_align\":\"center\",\"text_baseline\":\"middle\",\"text_font_size\":{\"value\":\"8pt\"},\"x\":{\"field\":\"x\"},\"y\":{\"field\":\"y\"}},\"id\":\"88d26843-b6fa-415d-846f-176b059aeead\",\"type\":\"LabelSet\"}],\"root_ids\":[\"f2a8a90f-c656-412d-a7a8-8253e68248d7\"]},\"title\":\"Bokeh Application\",\"version\":\"0.12.0\"}};\n",
       "            var render_items = [{\"docid\":\"95b5d5b0-bf38-4421-bc98-d38e9f70ace6\",\"elementid\":\"dc6120a0-2118-488e-a783-7f3f2d44a51f\",\"modelid\":\"f2a8a90f-c656-412d-a7a8-8253e68248d7\",\"notebook_comms_target\":\"263c7235-4c51-4fd6-a277-3aa260a7909d\"}];\n",
       "            \n",
       "            Bokeh.embed.embed_items(docs_json, render_items);\n",
       "        });\n",
       "      },\n",
       "      function(Bokeh) {\n",
       "      }\n",
       "    ];\n",
       "  \n",
       "    function run_inline_js() {\n",
       "      for (var i = 0; i < inline_js.length; i++) {\n",
       "        inline_js[i](window.Bokeh);\n",
       "      }\n",
       "    }\n",
       "  \n",
       "    if (window._bokeh_is_loading === 0) {\n",
       "      console.log(\"Bokeh: BokehJS loaded, going straight to plotting\");\n",
       "      run_inline_js();\n",
       "    } else {\n",
       "      load_libs(js_urls, function() {\n",
       "        console.log(\"Bokeh: BokehJS plotting callback run at\", now());\n",
       "        run_inline_js();\n",
       "      });\n",
       "    }\n",
       "  }(this));\n",
       "</script>"
      ]
     },
     "metadata": {},
     "output_type": "display_data"
    },
    {
     "data": {
      "text/html": [
       "<p><code>&lt;Bokeh Notebook handle for <strong>In[5]</strong>&gt;</code></p>"
      ],
      "text/plain": [
       "<bokeh.io._CommsHandle at 0x7fbd7cd55750>"
      ]
     },
     "execution_count": 5,
     "metadata": {},
     "output_type": "execute_result"
    }
   ],
   "source": [
    "di_5_31 = 353469\n",
    "di_7_17 = 353321\n",
    "di_4_16 = 353705\n",
    "plt_obj = dm.superset_yes_no([di_6_54, dm.di_7_1760], [di_5_31, di_7_17, di_4_16], min_match=0.001)\n",
    "plt = plt_obj.do_plot()\n",
    "show(plt)"
   ]
  },
  {
   "cell_type": "code",
   "execution_count": 6,
   "metadata": {
    "collapsed": false
   },
   "outputs": [
    {
     "data": {
      "text/html": [
       "<table>\n",
       "<thead><tr><th style=\"text-align:center\">index</th><th style=\"text-align:center\">first</th><th style=\"text-align:center\">length</th><th style=\"text-align:center\">snps</th><th style=\"text-align:center\" colspan=2>alleles</th><th style=\"text-align:center\" colspan=2>matches</th><th style=\"text-align:center\" colspan=2>afr</th><th style=\"text-align:center\" colspan=2>afx</th><th style=\"text-align:center\" colspan=2>amr</th><th style=\"text-align:center\" colspan=2>eas</th><th style=\"text-align:center\" colspan=2>eur</th><th style=\"text-align:center\" colspan=2>sas</th><th style=\"text-align:center\" colspan=2>sax</th></tr></thead>\n",
       "<tr class=\"even\"><td style=\"text-align: right;\">354033</td><td style=\"text-align: right;\">136,588,031</td><td style=\"text-align: right;\">5,647</td><td style=\"text-align: right;\">7</td><td style=\"text-align: right;\">1760</td><td style=\"text-align: right;\">0.00</td><td style=\"text-align: right;\">3</td><td style=\"text-align: right;\">1.00</td><td style=\"text-align: right;\">0</td><td style=\"text-align: right;\">0.00</td><td style=\"text-align: right;\">0</td><td style=\"text-align: right;\">0.00</td><td style=\"text-align: right;\">0</td><td style=\"text-align: right;\">0.00</td><td style=\"text-align: right;\">0</td><td style=\"text-align: right;\">0.00</td><td style=\"text-align: right;\">1</td><td style=\"text-align: right;\">1.70</td><td style=\"text-align: right;\">1</td><td style=\"text-align: right;\">4.57</td><td style=\"text-align: right;\">1</td><td style=\"text-align: right;\">2.71</td></tr>\n",
       "<tr><td style=\"text-align: right;\">353240</td><td style=\"text-align: right;\">135,757,320</td><td style=\"text-align: right;\">20,184</td><td style=\"text-align: right;\">13</td><td style=\"text-align: right;\">1696</td><td style=\"text-align: right;\">0.00</td><td style=\"text-align: right;\">3</td><td style=\"text-align: right;\">1.00</td><td style=\"text-align: right;\">0</td><td style=\"text-align: right;\">0.00</td><td style=\"text-align: right;\">0</td><td style=\"text-align: right;\">0.00</td><td style=\"text-align: right;\">0</td><td style=\"text-align: right;\">0.00</td><td style=\"text-align: right;\">0</td><td style=\"text-align: right;\">0.00</td><td style=\"text-align: right;\">1</td><td style=\"text-align: right;\">1.70</td><td style=\"text-align: right;\">1</td><td style=\"text-align: right;\">4.57</td><td style=\"text-align: right;\">1</td><td style=\"text-align: right;\">2.71</td></tr>\n",
       "<tr class=\"even\"><td style=\"text-align: right;\">354130</td><td style=\"text-align: right;\">136,653,925</td><td style=\"text-align: right;\">107,928</td><td style=\"text-align: right;\">24</td><td style=\"text-align: right;\">1504</td><td style=\"text-align: right;\">0.00</td><td style=\"text-align: right;\">3</td><td style=\"text-align: right;\">1.00</td><td style=\"text-align: right;\">0</td><td style=\"text-align: right;\">0.00</td><td style=\"text-align: right;\">0</td><td style=\"text-align: right;\">0.00</td><td style=\"text-align: right;\">0</td><td style=\"text-align: right;\">0.00</td><td style=\"text-align: right;\">0</td><td style=\"text-align: right;\">0.00</td><td style=\"text-align: right;\">1</td><td style=\"text-align: right;\">1.70</td><td style=\"text-align: right;\">1</td><td style=\"text-align: right;\">4.57</td><td style=\"text-align: right;\">1</td><td style=\"text-align: right;\">2.71</td></tr>\n",
       "<tr><td style=\"text-align: right;\">353925</td><td style=\"text-align: right;\">136,506,375</td><td style=\"text-align: right;\">32,564</td><td style=\"text-align: right;\">4</td><td style=\"text-align: right;\">1442</td><td style=\"text-align: right;\">0.00</td><td style=\"text-align: right;\">3</td><td style=\"text-align: right;\">1.00</td><td style=\"text-align: right;\">0</td><td style=\"text-align: right;\">0.00</td><td style=\"text-align: right;\">0</td><td style=\"text-align: right;\">0.00</td><td style=\"text-align: right;\">0</td><td style=\"text-align: right;\">0.00</td><td style=\"text-align: right;\">0</td><td style=\"text-align: right;\">0.00</td><td style=\"text-align: right;\">1</td><td style=\"text-align: right;\">1.70</td><td style=\"text-align: right;\">1</td><td style=\"text-align: right;\">4.57</td><td style=\"text-align: right;\">1</td><td style=\"text-align: right;\">2.71</td></tr>\n",
       "<tr class=\"even\"><td style=\"text-align: right;\">353791</td><td style=\"text-align: right;\">136,393,658</td><td style=\"text-align: right;\">92,684</td><td style=\"text-align: right;\">32</td><td style=\"text-align: right;\">1361</td><td style=\"text-align: right;\">0.00</td><td style=\"text-align: right;\">3</td><td style=\"text-align: right;\">1.00</td><td style=\"text-align: right;\">0</td><td style=\"text-align: right;\">0.00</td><td style=\"text-align: right;\">0</td><td style=\"text-align: right;\">0.00</td><td style=\"text-align: right;\">0</td><td style=\"text-align: right;\">0.00</td><td style=\"text-align: right;\">0</td><td style=\"text-align: right;\">0.00</td><td style=\"text-align: right;\">1</td><td style=\"text-align: right;\">1.70</td><td style=\"text-align: right;\">1</td><td style=\"text-align: right;\">4.57</td><td style=\"text-align: right;\">1</td><td style=\"text-align: right;\">2.71</td></tr>\n",
       "<tr><td style=\"text-align: right;\">353958</td><td style=\"text-align: right;\">136,535,876</td><td style=\"text-align: right;\">19,014</td><td style=\"text-align: right;\">7</td><td style=\"text-align: right;\">1303</td><td style=\"text-align: right;\">0.00</td><td style=\"text-align: right;\">3</td><td style=\"text-align: right;\">1.00</td><td style=\"text-align: right;\">0</td><td style=\"text-align: right;\">0.00</td><td style=\"text-align: right;\">0</td><td style=\"text-align: right;\">0.00</td><td style=\"text-align: right;\">0</td><td style=\"text-align: right;\">0.00</td><td style=\"text-align: right;\">0</td><td style=\"text-align: right;\">0.00</td><td style=\"text-align: right;\">1</td><td style=\"text-align: right;\">1.70</td><td style=\"text-align: right;\">1</td><td style=\"text-align: right;\">4.57</td><td style=\"text-align: right;\">1</td><td style=\"text-align: right;\">2.71</td></tr>\n",
       "<tr class=\"even\"><td style=\"text-align: right;\">354129</td><td style=\"text-align: right;\">136,652,953</td><td style=\"text-align: right;\">108,222</td><td style=\"text-align: right;\">5</td><td style=\"text-align: right;\">1296</td><td style=\"text-align: right;\">0.00</td><td style=\"text-align: right;\">3</td><td style=\"text-align: right;\">1.00</td><td style=\"text-align: right;\">0</td><td style=\"text-align: right;\">0.00</td><td style=\"text-align: right;\">0</td><td style=\"text-align: right;\">0.00</td><td style=\"text-align: right;\">0</td><td style=\"text-align: right;\">0.00</td><td style=\"text-align: right;\">0</td><td style=\"text-align: right;\">0.00</td><td style=\"text-align: right;\">1</td><td style=\"text-align: right;\">1.70</td><td style=\"text-align: right;\">1</td><td style=\"text-align: right;\">4.57</td><td style=\"text-align: right;\">1</td><td style=\"text-align: right;\">2.71</td></tr>\n",
       "<tr><td style=\"text-align: right;\">353919</td><td style=\"text-align: right;\">136,500,475</td><td style=\"text-align: right;\">42,085</td><td style=\"text-align: right;\">13</td><td style=\"text-align: right;\">1227</td><td style=\"text-align: right;\">0.00</td><td style=\"text-align: right;\">3</td><td style=\"text-align: right;\">1.00</td><td style=\"text-align: right;\">0</td><td style=\"text-align: right;\">0.00</td><td style=\"text-align: right;\">0</td><td style=\"text-align: right;\">0.00</td><td style=\"text-align: right;\">0</td><td style=\"text-align: right;\">0.00</td><td style=\"text-align: right;\">0</td><td style=\"text-align: right;\">0.00</td><td style=\"text-align: right;\">1</td><td style=\"text-align: right;\">1.70</td><td style=\"text-align: right;\">1</td><td style=\"text-align: right;\">4.57</td><td style=\"text-align: right;\">1</td><td style=\"text-align: right;\">2.71</td></tr>\n",
       "<tr class=\"even\"><td style=\"text-align: right;\">354127</td><td style=\"text-align: right;\">136,652,491</td><td style=\"text-align: right;\">80,281</td><td style=\"text-align: right;\">6</td><td style=\"text-align: right;\">1114</td><td style=\"text-align: right;\">0.00</td><td style=\"text-align: right;\">3</td><td style=\"text-align: right;\">1.00</td><td style=\"text-align: right;\">0</td><td style=\"text-align: right;\">0.00</td><td style=\"text-align: right;\">0</td><td style=\"text-align: right;\">0.00</td><td style=\"text-align: right;\">0</td><td style=\"text-align: right;\">0.00</td><td style=\"text-align: right;\">0</td><td style=\"text-align: right;\">0.00</td><td style=\"text-align: right;\">1</td><td style=\"text-align: right;\">1.70</td><td style=\"text-align: right;\">1</td><td style=\"text-align: right;\">4.57</td><td style=\"text-align: right;\">1</td><td style=\"text-align: right;\">2.71</td></tr>\n",
       "<tr><td style=\"text-align: right;\">353372</td><td style=\"text-align: right;\">135,829,592</td><td style=\"text-align: right;\">591,316</td><td style=\"text-align: right;\">9</td><td style=\"text-align: right;\">944</td><td style=\"text-align: right;\">0.00</td><td style=\"text-align: right;\">3</td><td style=\"text-align: right;\">1.00</td><td style=\"text-align: right;\">0</td><td style=\"text-align: right;\">0.00</td><td style=\"text-align: right;\">0</td><td style=\"text-align: right;\">0.00</td><td style=\"text-align: right;\">0</td><td style=\"text-align: right;\">0.00</td><td style=\"text-align: right;\">0</td><td style=\"text-align: right;\">0.00</td><td style=\"text-align: right;\">1</td><td style=\"text-align: right;\">1.70</td><td style=\"text-align: right;\">1</td><td style=\"text-align: right;\">4.57</td><td style=\"text-align: right;\">1</td><td style=\"text-align: right;\">2.71</td></tr>\n",
       "<tr class=\"even\"><td style=\"text-align: right;\">353902</td><td style=\"text-align: right;\">136,494,985</td><td style=\"text-align: right;\">278,653</td><td style=\"text-align: right;\">81</td><td style=\"text-align: right;\">857</td><td style=\"text-align: right;\">0.00</td><td style=\"text-align: right;\">3</td><td style=\"text-align: right;\">1.00</td><td style=\"text-align: right;\">0</td><td style=\"text-align: right;\">0.00</td><td style=\"text-align: right;\">0</td><td style=\"text-align: right;\">0.00</td><td style=\"text-align: right;\">0</td><td style=\"text-align: right;\">0.00</td><td style=\"text-align: right;\">0</td><td style=\"text-align: right;\">0.00</td><td style=\"text-align: right;\">1</td><td style=\"text-align: right;\">1.70</td><td style=\"text-align: right;\">1</td><td style=\"text-align: right;\">4.57</td><td style=\"text-align: right;\">1</td><td style=\"text-align: right;\">2.71</td></tr>\n",
       "<tr><td style=\"text-align: right;\">353430</td><td style=\"text-align: right;\">135,879,258</td><td style=\"text-align: right;\">516,511</td><td style=\"text-align: right;\">6</td><td style=\"text-align: right;\">54</td><td style=\"text-align: right;\">0.06</td><td style=\"text-align: right;\">3</td><td style=\"text-align: right;\">1.00</td><td style=\"text-align: right;\">0</td><td style=\"text-align: right;\">0.00</td><td style=\"text-align: right;\">0</td><td style=\"text-align: right;\">0.00</td><td style=\"text-align: right;\">0</td><td style=\"text-align: right;\">0.00</td><td style=\"text-align: right;\">0</td><td style=\"text-align: right;\">0.00</td><td style=\"text-align: right;\">1</td><td style=\"text-align: right;\">1.70</td><td style=\"text-align: right;\">1</td><td style=\"text-align: right;\">4.57</td><td style=\"text-align: right;\">1</td><td style=\"text-align: right;\">2.71</td></tr>\n",
       "</table>"
      ],
      "text/plain": [
       "<IPython.core.display.HTML object>"
      ]
     },
     "execution_count": 6,
     "metadata": {},
     "output_type": "execute_result"
    }
   ],
   "source": [
    "HTML(plt_obj.get_html())"
   ]
  },
  {
   "cell_type": "code",
   "execution_count": 7,
   "metadata": {
    "collapsed": false
   },
   "outputs": [
    {
     "data": {
      "text/html": [
       "\n",
       "\n",
       "    <div class=\"bk-root\">\n",
       "        <div class=\"plotdiv\" id=\"828e8c18-8276-4161-bf1c-ed2291f4e03a\"></div>\n",
       "    </div>\n",
       "<script type=\"text/javascript\">\n",
       "  \n",
       "  (function(global) {\n",
       "    function now() {\n",
       "      return new Date();\n",
       "    }\n",
       "  \n",
       "    if (typeof (window._bokeh_onload_callbacks) === \"undefined\") {\n",
       "      window._bokeh_onload_callbacks = [];\n",
       "    }\n",
       "  \n",
       "    function run_callbacks() {\n",
       "      window._bokeh_onload_callbacks.forEach(function(callback) { callback() });\n",
       "      delete window._bokeh_onload_callbacks\n",
       "      console.info(\"Bokeh: all callbacks have finished\");\n",
       "    }\n",
       "  \n",
       "    function load_libs(js_urls, callback) {\n",
       "      window._bokeh_onload_callbacks.push(callback);\n",
       "      if (window._bokeh_is_loading > 0) {\n",
       "        console.log(\"Bokeh: BokehJS is being loaded, scheduling callback at\", now());\n",
       "        return null;\n",
       "      }\n",
       "      if (js_urls == null || js_urls.length === 0) {\n",
       "        run_callbacks();\n",
       "        return null;\n",
       "      }\n",
       "      console.log(\"Bokeh: BokehJS not loaded, scheduling load and callback at\", now());\n",
       "      window._bokeh_is_loading = js_urls.length;\n",
       "      for (var i = 0; i < js_urls.length; i++) {\n",
       "        var url = js_urls[i];\n",
       "        var s = document.createElement('script');\n",
       "        s.src = url;\n",
       "        s.async = false;\n",
       "        s.onreadystatechange = s.onload = function() {\n",
       "          window._bokeh_is_loading--;\n",
       "          if (window._bokeh_is_loading === 0) {\n",
       "            console.log(\"Bokeh: all BokehJS libraries loaded\");\n",
       "            run_callbacks()\n",
       "          }\n",
       "        };\n",
       "        s.onerror = function() {\n",
       "          console.warn(\"failed to load library \" + url);\n",
       "        };\n",
       "        console.log(\"Bokeh: injecting script tag for BokehJS library: \", url);\n",
       "        document.getElementsByTagName(\"head\")[0].appendChild(s);\n",
       "      }\n",
       "    };var element = document.getElementById(\"828e8c18-8276-4161-bf1c-ed2291f4e03a\");\n",
       "    if (element == null) {\n",
       "      console.log(\"Bokeh: ERROR: autoload.js configured with elementid '828e8c18-8276-4161-bf1c-ed2291f4e03a' but no matching script tag was found. \")\n",
       "      return false;\n",
       "    }\n",
       "  \n",
       "    var js_urls = [];\n",
       "  \n",
       "    var inline_js = [\n",
       "      function(Bokeh) {\n",
       "        Bokeh.$(function() {\n",
       "            var docs_json = {\"9b97cae8-2399-4db9-8278-dde2a727261d\":{\"roots\":{\"references\":[{\"attributes\":{\"callback\":null,\"column_names\":[\"right\",\"bottom\",\"top\",\"left\",\"fill_color\"],\"data\":{\"bottom\":[350,150,50,350,150,350,250],\"fill_color\":[\"#808080\",\"#c4c461\",\"#00ff00\",\"#c4c461\",\"#808080\",\"#808080\",\"#808080\"],\"left\":[135757320,135829592,135879258,136393658,136500475,136506375,136535876],\"right\":[135777504,136420908,136395769,136486342,136542560,136538939,136554890],\"top\":[396,191,66,394,193,394,294]}},\"id\":\"c55a45fb-da6c-494d-9269-258b9e1fa900\",\"type\":\"ColumnDataSource\"},{\"attributes\":{\"plot\":null,\"text\":null},\"id\":\"08022388-6612-4cd9-849f-497f0ff2918d\",\"type\":\"Title\"},{\"attributes\":{\"formatter\":{\"id\":\"26df77b1-be44-410f-9392-0cbbd4c26085\",\"type\":\"BasicTickFormatter\"},\"plot\":{\"id\":\"ff0f8211-5679-4059-95c4-d470dad68881\",\"subtype\":\"Figure\",\"type\":\"Plot\"},\"ticker\":{\"id\":\"80d00b35-9c23-4476-be7c-4aa962fe53d0\",\"type\":\"BasicTicker\"},\"visible\":null},\"id\":\"01ddb275-76ae-4bdb-a8c3-93a342b3d695\",\"type\":\"LinearAxis\"},{\"attributes\":{\"bottom_units\":\"screen\",\"fill_alpha\":{\"value\":0.5},\"fill_color\":{\"value\":\"lightgrey\"},\"left_units\":\"screen\",\"level\":\"overlay\",\"line_alpha\":{\"value\":1.0},\"line_color\":{\"value\":\"black\"},\"line_dash\":[4,4],\"line_width\":{\"value\":2},\"plot\":null,\"render_mode\":\"css\",\"right_units\":\"screen\",\"top_units\":\"screen\"},\"id\":\"d1852421-699f-42d2-b629-0c1933038054\",\"type\":\"BoxAnnotation\"},{\"attributes\":{\"line_alpha\":{\"value\":0.1},\"line_color\":{\"value\":\"#1f77b4\"},\"xs\":{\"field\":\"xs\"},\"ys\":{\"field\":\"ys\"}},\"id\":\"33bf2f0b-5270-4cbf-aff5-a6e052dbbaad\",\"type\":\"MultiLine\"},{\"attributes\":{\"line_color\":{\"field\":\"line_color\"},\"xs\":{\"field\":\"xs\"},\"ys\":{\"field\":\"ys\"}},\"id\":\"d0baa68a-fb38-4e5f-9c19-fce77da3d6ab\",\"type\":\"MultiLine\"},{\"attributes\":{\"bottom\":{\"field\":\"bottom\"},\"fill_color\":{\"field\":\"fill_color\"},\"left\":{\"field\":\"left\"},\"line_color\":{\"value\":null},\"right\":{\"field\":\"right\"},\"top\":{\"field\":\"top\"}},\"id\":\"3d93822b-9723-45cf-ad13-be0e6349786d\",\"type\":\"Quad\"},{\"attributes\":{\"active_drag\":\"auto\",\"active_scroll\":\"auto\",\"active_tap\":\"auto\",\"tools\":[{\"id\":\"6d137b05-d86b-47bc-862a-d178119fa1ac\",\"type\":\"PanTool\"},{\"id\":\"d0e2cb41-f465-44bf-ba32-8d35729004e3\",\"type\":\"WheelZoomTool\"},{\"id\":\"6fd9ff01-c36e-4a32-9015-7c9fe1c79c24\",\"type\":\"BoxZoomTool\"},{\"id\":\"b079031b-f2a2-47b4-894e-71ad9f4a9c36\",\"type\":\"SaveTool\"},{\"id\":\"5a40addd-e28f-4b07-ace2-c371fc8c4178\",\"type\":\"ResetTool\"},{\"id\":\"09651a1a-b950-4a7a-8480-fc05dbbfd857\",\"type\":\"HelpTool\"}]},\"id\":\"346f4600-42f1-49e8-b7d8-0e2f118414c4\",\"type\":\"Toolbar\"},{\"attributes\":{\"callback\":null,\"column_names\":[\"xs\",\"ys\",\"line_color\"],\"data\":{\"line_color\":[\"black\",\"black\",\"black\",\"black\",\"black\",\"black\",\"black\",\"black\",\"black\",\"black\",\"black\",\"black\",\"black\",\"black\",\"black\",\"black\",\"black\",\"black\",\"black\",\"black\",\"black\",\"black\",\"black\",\"black\",\"black\",\"black\",\"black\",\"black\",\"black\",\"black\",\"black\",\"black\",\"black\",\"black\",\"black\",\"black\",\"black\",\"black\",\"black\",\"black\",\"black\",\"black\",\"black\",\"black\",\"black\",\"black\",\"black\",\"black\",\"black\",\"black\",\"black\",\"black\",\"black\",\"black\",\"black\",\"black\",\"black\",\"black\",\"black\",\"black\",\"black\",\"black\",\"black\",\"black\",\"black\",\"black\",\"black\",\"black\",\"black\",\"black\",\"black\",\"black\",\"black\",\"black\",\"black\",\"black\",\"black\",\"black\",\"black\",\"black\",\"black\",\"black\",\"black\",\"black\"],\"xs\":[[135757320,135757320],[135761078,135761078],[135761271,135761271],[135762344,135762344],[135762980,135762980],[135763280,135763280],[135768815,135768815],[135769093,135769093],[135769127,135769127],[135770940,135770940],[135770951,135770951],[135776728,135776728],[135777504,135777504],[135829592,135829592],[135893372,135893372],[135952405,135952405],[135989721,135989721],[136136056,136136056],[136313639,136313639],[136401418,136401418],[136407078,136407078],[136420908,136420908],[135879258,135879258],[135967182,135967182],[136063448,136063448],[136145019,136145019],[136227304,136227304],[136395769,136395769],[136393658,136393658],[136396300,136396300],[136401843,136401843],[136407445,136407445],[136411879,136411879],[136412270,136412270],[136413244,136413244],[136413847,136413847],[136415217,136415217],[136416533,136416533],[136420726,136420726],[136429857,136429857],[136433740,136433740],[136436317,136436317],[136437615,136437615],[136438517,136438517],[136440300,136440300],[136443900,136443900],[136444185,136444185],[136444338,136444338],[136449254,136449254],[136451676,136451676],[136459227,136459227],[136463117,136463117],[136463454,136463454],[136467119,136467119],[136468238,136468238],[136470219,136470219],[136483355,136483355],[136485276,136485276],[136486340,136486340],[136486342,136486342],[136500475,136500475],[136501509,136501509],[136504101,136504101],[136509868,136509868],[136520043,136520043],[136527120,136527120],[136530379,136530379],[136530443,136530443],[136539330,136539330],[136539670,136539670],[136540083,136540083],[136542559,136542559],[136542560,136542560],[136506375,136506375],[136506927,136506927],[136510012,136510012],[136538939,136538939],[136535876,136535876],[136544651,136544651],[136545844,136545844],[136552526,136552526],[136553022,136553022],[136554797,136554797],[136554890,136554890]],\"ys\":[[350,396],[350,396],[350,396],[350,396],[350,396],[350,396],[350,396],[350,396],[350,396],[350,396],[350,396],[350,396],[350,396],[150,191],[150,191],[150,191],[150,191],[150,191],[150,191],[150,191],[150,191],[150,191],[50,66],[50,66],[50,66],[50,66],[50,66],[50,66],[350,394],[350,394],[350,394],[350,394],[350,394],[350,394],[350,394],[350,394],[350,394],[350,394],[350,394],[350,394],[350,394],[350,394],[350,394],[350,394],[350,394],[350,394],[350,394],[350,394],[350,394],[350,394],[350,394],[350,394],[350,394],[350,394],[350,394],[350,394],[350,394],[350,394],[350,394],[350,394],[150,193],[150,193],[150,193],[150,193],[150,193],[150,193],[150,193],[150,193],[150,193],[150,193],[150,193],[150,193],[150,193],[350,394],[350,394],[350,394],[350,394],[250,294],[250,294],[250,294],[250,294],[250,294],[250,294],[250,294]]}},\"id\":\"b12dcedb-c770-4b78-ba97-ddf1005c8bf6\",\"type\":\"ColumnDataSource\"},{\"attributes\":{\"callback\":null,\"column_names\":[\"right\",\"bottom\",\"top\",\"left\"],\"data\":{\"bottom\":[445,445,445,445,445,445,445],\"left\":[135809835,135957574,136289083,136499189,136545415,136597196,136664254],\"right\":[135928279,136288182,136482839,136542633,136594750,136634047,136743222],\"top\":[475,475,475,475,475,475,475]}},\"id\":\"dd56e3a2-a44d-4e3e-a68f-8c5260c4ab62\",\"type\":\"ColumnDataSource\"},{\"attributes\":{\"data_source\":{\"id\":\"dd56e3a2-a44d-4e3e-a68f-8c5260c4ab62\",\"type\":\"ColumnDataSource\"},\"glyph\":{\"id\":\"51f4bed5-856d-42ed-95eb-d6380f3f4738\",\"type\":\"Quad\"},\"hover_glyph\":null,\"nonselection_glyph\":{\"id\":\"8b36a715-639e-4d8a-8e76-5d2e86bec489\",\"type\":\"Quad\"},\"selection_glyph\":null},\"id\":\"c66d5a6d-3d4d-4a7d-bd70-82ee8fd09ef8\",\"type\":\"GlyphRenderer\"},{\"attributes\":{\"data_source\":{\"id\":\"c55a45fb-da6c-494d-9269-258b9e1fa900\",\"type\":\"ColumnDataSource\"},\"glyph\":{\"id\":\"3d93822b-9723-45cf-ad13-be0e6349786d\",\"type\":\"Quad\"},\"hover_glyph\":null,\"nonselection_glyph\":{\"id\":\"b652d615-2bf1-4d6d-a978-b7ceafb44b18\",\"type\":\"Quad\"},\"selection_glyph\":null},\"id\":\"4808b300-8e68-4c72-9797-b4972df95995\",\"type\":\"GlyphRenderer\"},{\"attributes\":{\"plot\":{\"id\":\"ff0f8211-5679-4059-95c4-d470dad68881\",\"subtype\":\"Figure\",\"type\":\"Plot\"}},\"id\":\"5a40addd-e28f-4b07-ace2-c371fc8c4178\",\"type\":\"ResetTool\"},{\"attributes\":{\"plot\":{\"id\":\"ff0f8211-5679-4059-95c4-d470dad68881\",\"subtype\":\"Figure\",\"type\":\"Plot\"},\"ticker\":{\"id\":\"bdb9a30e-bd22-40cd-bf69-b01486f26b05\",\"type\":\"BasicTicker\"}},\"id\":\"208107ad-2559-4c6f-b1bd-4d0a343fed6e\",\"type\":\"Grid\"},{\"attributes\":{\"callback\":null,\"column_names\":[\"y\",\"x\",\"vals\"],\"data\":{\"vals\":[\"RAB3GAP1\",\"ZRANB3\",\"R3HDM1\",\"UBXN4\",\"LCT\",\"MCM6\",\"DARS\"],\"x\":[135869057.0,136122878.0,136385961.0,136520911.0,136570082.5,136615621.5,136703738.0],\"y\":[460.0,460.0,460.0,460.0,460.0,460.0,460.0]}},\"id\":\"beb2bdcd-1458-45e4-b847-2b37c8c4d396\",\"type\":\"ColumnDataSource\"},{\"attributes\":{\"callback\":null,\"column_names\":[\"y\",\"x\",\"vals\"],\"data\":{\"vals\":[\"13_1696\",\"9_944\",\"6_54\",\"32_1361\",\"13_1227\",\"4_1442\",\"7_1303\"],\"x\":[135757320,135829592,135879258,136393658,136500475,136506375,136535876],\"y\":[401.0,196.0,71.0,399.0,198.0,399.0,299.0]}},\"id\":\"00f6034a-26d7-4a58-8e8e-2c0e6d1850c0\",\"type\":\"ColumnDataSource\"},{\"attributes\":{\"formatter\":{\"id\":\"aec43257-0778-4b9d-9077-8bfba6c3b1f2\",\"type\":\"BasicTickFormatter\"},\"plot\":{\"id\":\"ff0f8211-5679-4059-95c4-d470dad68881\",\"subtype\":\"Figure\",\"type\":\"Plot\"},\"ticker\":{\"id\":\"bdb9a30e-bd22-40cd-bf69-b01486f26b05\",\"type\":\"BasicTicker\"}},\"id\":\"2d89b4b9-5e82-4ed0-b8b2-6fc8743bd11b\",\"type\":\"LinearAxis\"},{\"attributes\":{\"below\":[{\"id\":\"2d89b4b9-5e82-4ed0-b8b2-6fc8743bd11b\",\"type\":\"LinearAxis\"}],\"left\":[{\"id\":\"01ddb275-76ae-4bdb-a8c3-93a342b3d695\",\"type\":\"LinearAxis\"}],\"plot_height\":500,\"plot_width\":900,\"renderers\":[{\"id\":\"2d89b4b9-5e82-4ed0-b8b2-6fc8743bd11b\",\"type\":\"LinearAxis\"},{\"id\":\"208107ad-2559-4c6f-b1bd-4d0a343fed6e\",\"type\":\"Grid\"},{\"id\":\"01ddb275-76ae-4bdb-a8c3-93a342b3d695\",\"type\":\"LinearAxis\"},{\"id\":\"9e06cc7a-a0ee-4aaa-8760-b062a9494bf6\",\"type\":\"Grid\"},{\"id\":\"d1852421-699f-42d2-b629-0c1933038054\",\"type\":\"BoxAnnotation\"},{\"id\":\"4808b300-8e68-4c72-9797-b4972df95995\",\"type\":\"GlyphRenderer\"},{\"id\":\"8eac8e48-d886-4ea3-9f09-77915c83d383\",\"type\":\"GlyphRenderer\"},{\"id\":\"af84aefa-fad6-4440-9f34-049e7956cd86\",\"type\":\"LabelSet\"},{\"id\":\"c66d5a6d-3d4d-4a7d-bd70-82ee8fd09ef8\",\"type\":\"GlyphRenderer\"},{\"id\":\"a2e97554-857d-4537-8f6a-e08b19593786\",\"type\":\"LabelSet\"}],\"title\":{\"id\":\"08022388-6612-4cd9-849f-497f0ff2918d\",\"type\":\"Title\"},\"tool_events\":{\"id\":\"34685fe5-8474-448a-8ac5-f829dccbf43f\",\"type\":\"ToolEvents\"},\"toolbar\":{\"id\":\"346f4600-42f1-49e8-b7d8-0e2f118414c4\",\"type\":\"Toolbar\"},\"toolbar_location\":null,\"x_range\":{\"id\":\"66a4955d-0fc9-43dc-a145-4a38de4336d4\",\"type\":\"Range1d\"},\"y_range\":{\"id\":\"4055774e-6481-400e-ad9e-704700070082\",\"type\":\"Range1d\"}},\"id\":\"ff0f8211-5679-4059-95c4-d470dad68881\",\"subtype\":\"Figure\",\"type\":\"Plot\"},{\"attributes\":{\"plot\":{\"id\":\"ff0f8211-5679-4059-95c4-d470dad68881\",\"subtype\":\"Figure\",\"type\":\"Plot\"}},\"id\":\"6d137b05-d86b-47bc-862a-d178119fa1ac\",\"type\":\"PanTool\"},{\"attributes\":{\"plot\":{\"id\":\"ff0f8211-5679-4059-95c4-d470dad68881\",\"subtype\":\"Figure\",\"type\":\"Plot\"}},\"id\":\"09651a1a-b950-4a7a-8480-fc05dbbfd857\",\"type\":\"HelpTool\"},{\"attributes\":{},\"id\":\"bdb9a30e-bd22-40cd-bf69-b01486f26b05\",\"type\":\"BasicTicker\"},{\"attributes\":{\"plot\":{\"id\":\"ff0f8211-5679-4059-95c4-d470dad68881\",\"subtype\":\"Figure\",\"type\":\"Plot\"}},\"id\":\"d0e2cb41-f465-44bf-ba32-8d35729004e3\",\"type\":\"WheelZoomTool\"},{\"attributes\":{\"bottom\":{\"field\":\"bottom\"},\"fill_alpha\":{\"value\":0.1},\"fill_color\":{\"value\":\"#1f77b4\"},\"left\":{\"field\":\"left\"},\"line_alpha\":{\"value\":0.1},\"line_color\":{\"value\":\"#1f77b4\"},\"right\":{\"field\":\"right\"},\"top\":{\"field\":\"top\"}},\"id\":\"8b36a715-639e-4d8a-8e76-5d2e86bec489\",\"type\":\"Quad\"},{\"attributes\":{\"plot\":{\"id\":\"ff0f8211-5679-4059-95c4-d470dad68881\",\"subtype\":\"Figure\",\"type\":\"Plot\"}},\"id\":\"b079031b-f2a2-47b4-894e-71ad9f4a9c36\",\"type\":\"SaveTool\"},{\"attributes\":{\"bottom\":{\"field\":\"bottom\"},\"fill_alpha\":{\"value\":0.1},\"fill_color\":{\"value\":\"#1f77b4\"},\"left\":{\"field\":\"left\"},\"line_alpha\":{\"value\":0.1},\"line_color\":{\"value\":\"#1f77b4\"},\"right\":{\"field\":\"right\"},\"top\":{\"field\":\"top\"}},\"id\":\"b652d615-2bf1-4d6d-a978-b7ceafb44b18\",\"type\":\"Quad\"},{\"attributes\":{\"callback\":null,\"end\":500},\"id\":\"4055774e-6481-400e-ad9e-704700070082\",\"type\":\"Range1d\"},{\"attributes\":{\"data_source\":{\"id\":\"b12dcedb-c770-4b78-ba97-ddf1005c8bf6\",\"type\":\"ColumnDataSource\"},\"glyph\":{\"id\":\"d0baa68a-fb38-4e5f-9c19-fce77da3d6ab\",\"type\":\"MultiLine\"},\"hover_glyph\":null,\"nonselection_glyph\":{\"id\":\"33bf2f0b-5270-4cbf-aff5-a6e052dbbaad\",\"type\":\"MultiLine\"},\"selection_glyph\":null},\"id\":\"8eac8e48-d886-4ea3-9f09-77915c83d383\",\"type\":\"GlyphRenderer\"},{\"attributes\":{},\"id\":\"80d00b35-9c23-4476-be7c-4aa962fe53d0\",\"type\":\"BasicTicker\"},{\"attributes\":{\"callback\":null,\"end\":136786630,\"start\":135757320},\"id\":\"66a4955d-0fc9-43dc-a145-4a38de4336d4\",\"type\":\"Range1d\"},{\"attributes\":{\"bottom\":{\"field\":\"bottom\"},\"fill_color\":{\"value\":\"white\"},\"left\":{\"field\":\"left\"},\"right\":{\"field\":\"right\"},\"top\":{\"field\":\"top\"}},\"id\":\"51f4bed5-856d-42ed-95eb-d6380f3f4738\",\"type\":\"Quad\"},{\"attributes\":{},\"id\":\"34685fe5-8474-448a-8ac5-f829dccbf43f\",\"type\":\"ToolEvents\"},{\"attributes\":{\"dimension\":1,\"plot\":{\"id\":\"ff0f8211-5679-4059-95c4-d470dad68881\",\"subtype\":\"Figure\",\"type\":\"Plot\"},\"ticker\":{\"id\":\"80d00b35-9c23-4476-be7c-4aa962fe53d0\",\"type\":\"BasicTicker\"}},\"id\":\"9e06cc7a-a0ee-4aaa-8760-b062a9494bf6\",\"type\":\"Grid\"},{\"attributes\":{\"overlay\":{\"id\":\"d1852421-699f-42d2-b629-0c1933038054\",\"type\":\"BoxAnnotation\"},\"plot\":{\"id\":\"ff0f8211-5679-4059-95c4-d470dad68881\",\"subtype\":\"Figure\",\"type\":\"Plot\"}},\"id\":\"6fd9ff01-c36e-4a32-9015-7c9fe1c79c24\",\"type\":\"BoxZoomTool\"},{\"attributes\":{\"level\":\"glyph\",\"plot\":{\"id\":\"ff0f8211-5679-4059-95c4-d470dad68881\",\"subtype\":\"Figure\",\"type\":\"Plot\"},\"source\":{\"id\":\"beb2bdcd-1458-45e4-b847-2b37c8c4d396\",\"type\":\"ColumnDataSource\"},\"text\":{\"field\":\"vals\"},\"text_align\":\"center\",\"text_baseline\":\"middle\",\"text_font_size\":{\"value\":\"8pt\"},\"x\":{\"field\":\"x\"},\"y\":{\"field\":\"y\"}},\"id\":\"a2e97554-857d-4537-8f6a-e08b19593786\",\"type\":\"LabelSet\"},{\"attributes\":{\"level\":\"glyph\",\"plot\":{\"id\":\"ff0f8211-5679-4059-95c4-d470dad68881\",\"subtype\":\"Figure\",\"type\":\"Plot\"},\"source\":{\"id\":\"00f6034a-26d7-4a58-8e8e-2c0e6d1850c0\",\"type\":\"ColumnDataSource\"},\"text\":{\"field\":\"vals\"},\"text_font_size\":{\"value\":\"9pt\"},\"text_font_style\":\"bold\",\"x\":{\"field\":\"x\"},\"y\":{\"field\":\"y\"}},\"id\":\"af84aefa-fad6-4440-9f34-049e7956cd86\",\"type\":\"LabelSet\"},{\"attributes\":{},\"id\":\"26df77b1-be44-410f-9392-0cbbd4c26085\",\"type\":\"BasicTickFormatter\"},{\"attributes\":{},\"id\":\"aec43257-0778-4b9d-9077-8bfba6c3b1f2\",\"type\":\"BasicTickFormatter\"}],\"root_ids\":[\"ff0f8211-5679-4059-95c4-d470dad68881\"]},\"title\":\"Bokeh Application\",\"version\":\"0.12.0\"}};\n",
       "            var render_items = [{\"docid\":\"9b97cae8-2399-4db9-8278-dde2a727261d\",\"elementid\":\"828e8c18-8276-4161-bf1c-ed2291f4e03a\",\"modelid\":\"ff0f8211-5679-4059-95c4-d470dad68881\",\"notebook_comms_target\":\"ae83bc58-41e5-4607-ab20-6cb80b4eac22\"}];\n",
       "            \n",
       "            Bokeh.embed.embed_items(docs_json, render_items);\n",
       "        });\n",
       "      },\n",
       "      function(Bokeh) {\n",
       "      }\n",
       "    ];\n",
       "  \n",
       "    function run_inline_js() {\n",
       "      for (var i = 0; i < inline_js.length; i++) {\n",
       "        inline_js[i](window.Bokeh);\n",
       "      }\n",
       "    }\n",
       "  \n",
       "    if (window._bokeh_is_loading === 0) {\n",
       "      console.log(\"Bokeh: BokehJS loaded, going straight to plotting\");\n",
       "      run_inline_js();\n",
       "    } else {\n",
       "      load_libs(js_urls, function() {\n",
       "        console.log(\"Bokeh: BokehJS plotting callback run at\", now());\n",
       "        run_inline_js();\n",
       "      });\n",
       "    }\n",
       "  }(this));\n",
       "</script>"
      ]
     },
     "metadata": {},
     "output_type": "display_data"
    },
    {
     "data": {
      "text/html": [
       "<p><code>&lt;Bokeh Notebook handle for <strong>In[7]</strong>&gt;</code></p>"
      ],
      "text/plain": [
       "<bokeh.io._CommsHandle at 0x7fbdad689d50>"
      ]
     },
     "execution_count": 7,
     "metadata": {},
     "output_type": "execute_result"
    }
   ],
   "source": [
    "plt_obj = dm.superset_yes_no([di_6_54], \n",
    "                             [dm.di_7_1760, di_5_31, di_7_17, di_4_16], min_match=0.001)\n",
    "plt = plt_obj.do_plot()\n",
    "am = plt_obj.plot_context.yes_allele_mask\n",
    "show(plt)"
   ]
  },
  {
   "cell_type": "code",
   "execution_count": 8,
   "metadata": {
    "collapsed": false
   },
   "outputs": [
    {
     "data": {
      "text/html": [
       "<table>\n",
       "<thead><tr><th style=\"text-align:center\">index</th><th style=\"text-align:center\">first</th><th style=\"text-align:center\">length</th><th style=\"text-align:center\">snps</th><th style=\"text-align:center\" colspan=2>alleles</th><th style=\"text-align:center\" colspan=2>matches</th><th style=\"text-align:center\" colspan=2>afr</th><th style=\"text-align:center\" colspan=2>afx</th><th style=\"text-align:center\" colspan=2>amr</th><th style=\"text-align:center\" colspan=2>eas</th><th style=\"text-align:center\" colspan=2>eur</th><th style=\"text-align:center\" colspan=2>sas</th><th style=\"text-align:center\" colspan=2>sax</th></tr></thead>\n",
       "<tr class=\"even\"><td style=\"text-align: right;\">353240</td><td style=\"text-align: right;\">135,757,320</td><td style=\"text-align: right;\">20,184</td><td style=\"text-align: right;\">13</td><td style=\"text-align: right;\">1696</td><td style=\"text-align: right;\">0.00</td><td style=\"text-align: right;\">1</td><td style=\"text-align: right;\">1.00</td><td style=\"text-align: right;\">0</td><td style=\"text-align: right;\">0.00</td><td style=\"text-align: right;\">0</td><td style=\"text-align: right;\">0.00</td><td style=\"text-align: right;\">0</td><td style=\"text-align: right;\">0.00</td><td style=\"text-align: right;\">0</td><td style=\"text-align: right;\">0.00</td><td style=\"text-align: right;\">0</td><td style=\"text-align: right;\">0.00</td><td style=\"text-align: right;\">0</td><td style=\"text-align: right;\">0.00</td><td style=\"text-align: right;\">1</td><td style=\"text-align: right;\">7.46</td></tr>\n",
       "<tr><td style=\"text-align: right;\">353925</td><td style=\"text-align: right;\">136,506,375</td><td style=\"text-align: right;\">32,564</td><td style=\"text-align: right;\">4</td><td style=\"text-align: right;\">1442</td><td style=\"text-align: right;\">0.00</td><td style=\"text-align: right;\">1</td><td style=\"text-align: right;\">1.00</td><td style=\"text-align: right;\">0</td><td style=\"text-align: right;\">0.00</td><td style=\"text-align: right;\">0</td><td style=\"text-align: right;\">0.00</td><td style=\"text-align: right;\">0</td><td style=\"text-align: right;\">0.00</td><td style=\"text-align: right;\">0</td><td style=\"text-align: right;\">0.00</td><td style=\"text-align: right;\">0</td><td style=\"text-align: right;\">0.00</td><td style=\"text-align: right;\">0</td><td style=\"text-align: right;\">0.00</td><td style=\"text-align: right;\">1</td><td style=\"text-align: right;\">7.46</td></tr>\n",
       "<tr class=\"even\"><td style=\"text-align: right;\">353791</td><td style=\"text-align: right;\">136,393,658</td><td style=\"text-align: right;\">92,684</td><td style=\"text-align: right;\">32</td><td style=\"text-align: right;\">1361</td><td style=\"text-align: right;\">0.00</td><td style=\"text-align: right;\">1</td><td style=\"text-align: right;\">1.00</td><td style=\"text-align: right;\">0</td><td style=\"text-align: right;\">0.00</td><td style=\"text-align: right;\">0</td><td style=\"text-align: right;\">0.00</td><td style=\"text-align: right;\">0</td><td style=\"text-align: right;\">0.00</td><td style=\"text-align: right;\">0</td><td style=\"text-align: right;\">0.00</td><td style=\"text-align: right;\">0</td><td style=\"text-align: right;\">0.00</td><td style=\"text-align: right;\">0</td><td style=\"text-align: right;\">0.00</td><td style=\"text-align: right;\">1</td><td style=\"text-align: right;\">7.46</td></tr>\n",
       "<tr><td style=\"text-align: right;\">353958</td><td style=\"text-align: right;\">136,535,876</td><td style=\"text-align: right;\">19,014</td><td style=\"text-align: right;\">7</td><td style=\"text-align: right;\">1303</td><td style=\"text-align: right;\">0.00</td><td style=\"text-align: right;\">1</td><td style=\"text-align: right;\">1.00</td><td style=\"text-align: right;\">0</td><td style=\"text-align: right;\">0.00</td><td style=\"text-align: right;\">0</td><td style=\"text-align: right;\">0.00</td><td style=\"text-align: right;\">0</td><td style=\"text-align: right;\">0.00</td><td style=\"text-align: right;\">0</td><td style=\"text-align: right;\">0.00</td><td style=\"text-align: right;\">0</td><td style=\"text-align: right;\">0.00</td><td style=\"text-align: right;\">0</td><td style=\"text-align: right;\">0.00</td><td style=\"text-align: right;\">1</td><td style=\"text-align: right;\">7.46</td></tr>\n",
       "<tr class=\"even\"><td style=\"text-align: right;\">353919</td><td style=\"text-align: right;\">136,500,475</td><td style=\"text-align: right;\">42,085</td><td style=\"text-align: right;\">13</td><td style=\"text-align: right;\">1227</td><td style=\"text-align: right;\">0.00</td><td style=\"text-align: right;\">1</td><td style=\"text-align: right;\">1.00</td><td style=\"text-align: right;\">0</td><td style=\"text-align: right;\">0.00</td><td style=\"text-align: right;\">0</td><td style=\"text-align: right;\">0.00</td><td style=\"text-align: right;\">0</td><td style=\"text-align: right;\">0.00</td><td style=\"text-align: right;\">0</td><td style=\"text-align: right;\">0.00</td><td style=\"text-align: right;\">0</td><td style=\"text-align: right;\">0.00</td><td style=\"text-align: right;\">0</td><td style=\"text-align: right;\">0.00</td><td style=\"text-align: right;\">1</td><td style=\"text-align: right;\">7.46</td></tr>\n",
       "<tr><td style=\"text-align: right;\">353372</td><td style=\"text-align: right;\">135,829,592</td><td style=\"text-align: right;\">591,316</td><td style=\"text-align: right;\">9</td><td style=\"text-align: right;\">944</td><td style=\"text-align: right;\">0.00</td><td style=\"text-align: right;\">1</td><td style=\"text-align: right;\">1.00</td><td style=\"text-align: right;\">0</td><td style=\"text-align: right;\">0.00</td><td style=\"text-align: right;\">0</td><td style=\"text-align: right;\">0.00</td><td style=\"text-align: right;\">0</td><td style=\"text-align: right;\">0.00</td><td style=\"text-align: right;\">0</td><td style=\"text-align: right;\">0.00</td><td style=\"text-align: right;\">0</td><td style=\"text-align: right;\">0.00</td><td style=\"text-align: right;\">0</td><td style=\"text-align: right;\">0.00</td><td style=\"text-align: right;\">1</td><td style=\"text-align: right;\">7.46</td></tr>\n",
       "<tr class=\"even\"><td style=\"text-align: right;\">353430</td><td style=\"text-align: right;\">135,879,258</td><td style=\"text-align: right;\">516,511</td><td style=\"text-align: right;\">6</td><td style=\"text-align: right;\">54</td><td style=\"text-align: right;\">0.02</td><td style=\"text-align: right;\">1</td><td style=\"text-align: right;\">1.00</td><td style=\"text-align: right;\">0</td><td style=\"text-align: right;\">0.00</td><td style=\"text-align: right;\">0</td><td style=\"text-align: right;\">0.00</td><td style=\"text-align: right;\">0</td><td style=\"text-align: right;\">0.00</td><td style=\"text-align: right;\">0</td><td style=\"text-align: right;\">0.00</td><td style=\"text-align: right;\">0</td><td style=\"text-align: right;\">0.00</td><td style=\"text-align: right;\">0</td><td style=\"text-align: right;\">0.00</td><td style=\"text-align: right;\">1</td><td style=\"text-align: right;\">7.46</td></tr>\n",
       "</table>"
      ],
      "text/plain": [
       "<IPython.core.display.HTML object>"
      ]
     },
     "execution_count": 8,
     "metadata": {},
     "output_type": "execute_result"
    }
   ],
   "source": [
    "HTML(plt_obj.get_html())"
   ]
  },
  {
   "cell_type": "code",
   "execution_count": 9,
   "metadata": {
    "collapsed": false
   },
   "outputs": [
    {
     "data": {
      "text/plain": [
       "array([1, 1, 1, 1, 1, 1, 1, 1, 1, 1, 1, 1, 1, 1, 1, 1, 1, 1, 0, 0, 0, 0, 0,\n",
       "       0, 0, 0, 0, 0, 0, 0, 0, 0, 0, 0, 0, 0, 0, 0, 0, 0, 0, 0, 0, 0, 0, 0,\n",
       "       0, 0, 0, 0, 0, 0, 0, 0, 0, 0, 0, 0, 0, 0, 0, 0, 0, 0, 0, 0, 0, 0, 0,\n",
       "       0, 0, 0, 0, 0, 0, 0, 0, 0, 0, 0, 0])"
      ]
     },
     "execution_count": 9,
     "metadata": {},
     "output_type": "execute_result"
    }
   ],
   "source": [
    "sa_81_857.alleles_per_snp(am)"
   ]
  }
 ],
 "metadata": {
  "kernelspec": {
   "display_name": "Python [Root]",
   "language": "python",
   "name": "Python [Root]"
  },
  "language_info": {
   "codemirror_mode": {
    "name": "ipython",
    "version": 2
   },
   "file_extension": ".py",
   "mimetype": "text/x-python",
   "name": "python",
   "nbconvert_exporter": "python",
   "pygments_lexer": "ipython2",
   "version": "2.7.12"
  }
 },
 "nbformat": 4,
 "nbformat_minor": 0
}
