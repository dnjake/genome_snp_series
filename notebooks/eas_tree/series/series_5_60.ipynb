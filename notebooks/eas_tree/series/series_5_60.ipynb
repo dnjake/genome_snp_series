{
 "cells": [
  {
   "cell_type": "code",
   "execution_count": 1,
   "metadata": {
    "collapsed": false
   },
   "outputs": [
    {
     "data": {
      "text/html": []
     },
     "metadata": {},
     "output_type": "display_data"
    },
    {
     "data": {
      "application/javascript": [
       "\n",
       "(function(global) {\n",
       "  function now() {\n",
       "    return new Date();\n",
       "  }\n",
       "\n",
       "  if (typeof (window._bokeh_onload_callbacks) === \"undefined\") {\n",
       "    window._bokeh_onload_callbacks = [];\n",
       "  }\n",
       "\n",
       "  function run_callbacks() {\n",
       "    window._bokeh_onload_callbacks.forEach(function(callback) { callback() });\n",
       "    delete window._bokeh_onload_callbacks\n",
       "    console.info(\"Bokeh: all callbacks have finished\");\n",
       "  }\n",
       "\n",
       "  function load_libs(js_urls, callback) {\n",
       "    window._bokeh_onload_callbacks.push(callback);\n",
       "    if (window._bokeh_is_loading > 0) {\n",
       "      console.log(\"Bokeh: BokehJS is being loaded, scheduling callback at\", now());\n",
       "      return null;\n",
       "    }\n",
       "    if (js_urls == null || js_urls.length === 0) {\n",
       "      run_callbacks();\n",
       "      return null;\n",
       "    }\n",
       "    console.log(\"Bokeh: BokehJS not loaded, scheduling load and callback at\", now());\n",
       "    window._bokeh_is_loading = js_urls.length;\n",
       "    for (var i = 0; i < js_urls.length; i++) {\n",
       "      var url = js_urls[i];\n",
       "      var s = document.createElement('script');\n",
       "      s.src = url;\n",
       "      s.async = false;\n",
       "      s.onreadystatechange = s.onload = function() {\n",
       "        window._bokeh_is_loading--;\n",
       "        if (window._bokeh_is_loading === 0) {\n",
       "          console.log(\"Bokeh: all BokehJS libraries loaded\");\n",
       "          run_callbacks()\n",
       "        }\n",
       "      };\n",
       "      s.onerror = function() {\n",
       "        console.warn(\"failed to load library \" + url);\n",
       "      };\n",
       "      console.log(\"Bokeh: injecting script tag for BokehJS library: \", url);\n",
       "      document.getElementsByTagName(\"head\")[0].appendChild(s);\n",
       "    }\n",
       "  };\n",
       "\n",
       "  var js_urls = ['https://cdn.pydata.org/bokeh/release/bokeh-0.12.0.min.js', 'https://cdn.pydata.org/bokeh/release/bokeh-widgets-0.12.0.min.js', 'https://cdn.pydata.org/bokeh/release/bokeh-compiler-0.12.0.min.js'];\n",
       "\n",
       "  var inline_js = [\n",
       "    function(Bokeh) {\n",
       "      Bokeh.set_log_level(\"info\");\n",
       "    },\n",
       "    \n",
       "    function(Bokeh) {\n",
       "      Bokeh.$(\"#d442a268-f0fe-406c-b850-6aa23f5a8392\").text(\"BokehJS successfully loaded\");\n",
       "    },\n",
       "    function(Bokeh) {\n",
       "      console.log(\"Bokeh: injecting CSS: https://cdn.pydata.org/bokeh/release/bokeh-0.12.0.min.css\");\n",
       "      Bokeh.embed.inject_css(\"https://cdn.pydata.org/bokeh/release/bokeh-0.12.0.min.css\");\n",
       "      console.log(\"Bokeh: injecting CSS: https://cdn.pydata.org/bokeh/release/bokeh-widgets-0.12.0.min.css\");\n",
       "      Bokeh.embed.inject_css(\"https://cdn.pydata.org/bokeh/release/bokeh-widgets-0.12.0.min.css\");\n",
       "    }\n",
       "  ];\n",
       "\n",
       "  function run_inline_js() {\n",
       "    for (var i = 0; i < inline_js.length; i++) {\n",
       "      inline_js[i](window.Bokeh);\n",
       "    }\n",
       "  }\n",
       "\n",
       "  if (window._bokeh_is_loading === 0) {\n",
       "    console.log(\"Bokeh: BokehJS loaded, going straight to plotting\");\n",
       "    run_inline_js();\n",
       "  } else {\n",
       "    load_libs(js_urls, function() {\n",
       "      console.log(\"Bokeh: BokehJS plotting callback run at\", now());\n",
       "      run_inline_js();\n",
       "    });\n",
       "  }\n",
       "}(this));"
      ]
     },
     "metadata": {},
     "output_type": "display_data"
    }
   ],
   "source": [
    "import numpy as np\n",
    "from IPython.display import HTML\n",
    "from bokeh.plotting import output_notebook, show\n",
    "import genomes_dnj.lct_interval.series_plots as dm\n",
    "import genomes_dnj.lct_interval.anal_series as an\n",
    "import genomes_dnj.lct_interval.series_masks as sm\n",
    "import genomes_dnj.lct_interval_snp_anal.lct_interval_snp_anal as snp_anal\n",
    "from genomes_dnj.lct_interval.bokeh_match_count_plot import snp_match_count_plot_cls as smcp\n",
    "output_notebook(hide_banner=True)\n",
    "di_5_60 = 353564\n",
    "sa_5_60 = snp_anal.series_anal_cls(di_5_60, sm.series_data)\n",
    "sa_13_1696 = snp_anal.series_anal_cls(dm.di_13_1696, sm.series_data)"
   ]
  },
  {
   "cell_type": "markdown",
   "metadata": {},
   "source": [
    "<h3>Series 5_60</h3>\n",
    "<div style=\"width:700px\">\n",
    "<p>\n",
    "This notebook documents the series 5_60 and its 5 SNPs. The 1000 genomes data sample\n",
    "SNP counts for 5_60 are 4937 samples 0 SNPs, 3 samples 1 SNP, 1 sample 2 SNPs, 4 samples 3\n",
    "SNPs, 3 samples 4 SNPs, and 60 samples 5 SNPs.  The 5 SNP series extends over almost\n",
    "292,000 DNA bases.  \n",
    "<p>\n",
    "The series 5_60 is another child of the basic EAS tree without 5_684.  The samples\n",
    "expressing it include 1 East Asian, 2 African and 4 American.  The big\n",
    "overexpression is the 36 South Asian samples.  There are also 17 European samples.\n",
    "<p>\n",
    "All 60 samples express 9_944 and 32_1361.  59 of the samples express 13_1696 and 53\n",
    "of them express 81_857.  The 1 sample that has lost 13_1696 has lost its bottom 6\n",
    "SNPs probably through a recombination event.\n",
    "</div>"
   ]
  },
  {
   "cell_type": "code",
   "execution_count": 2,
   "metadata": {
    "collapsed": false
   },
   "outputs": [
    {
     "data": {
      "text/html": [
       "<p>\n",
       "<b>5_60 series</b>\n",
       "</p><p>\n",
       "<table>\n",
       "<thead><tr><th style=\"text-align:center\">index</th><th style=\"text-align:center\">first</th><th style=\"text-align:center\">length</th><th style=\"text-align:center\">snps</th><th style=\"text-align:center\">alleles</th><th style=\"text-align:center\" colspan=2>afr</th><th style=\"text-align:center\" colspan=2>afx</th><th style=\"text-align:center\" colspan=2>amr</th><th style=\"text-align:center\" colspan=2>eas</th><th style=\"text-align:center\" colspan=2>eur</th><th style=\"text-align:center\" colspan=2>sas</th><th style=\"text-align:center\" colspan=2>sax</th></tr></thead>\n",
       "<tr class=\"even\"><td style=\"text-align: right;\">353564</td><td style=\"text-align: right;\">136,033,790</td><td style=\"text-align: right;\">291,947</td><td style=\"text-align: right;\">5</td><td style=\"text-align: right;\">60</td><td style=\"text-align: right;\">0</td><td style=\"text-align: right;\">0.00</td><td style=\"text-align: right;\">2</td><td style=\"text-align: right;\">0.53</td><td style=\"text-align: right;\">4</td><td style=\"text-align: right;\">0.48</td><td style=\"text-align: right;\">1</td><td style=\"text-align: right;\">0.08</td><td style=\"text-align: right;\">17</td><td style=\"text-align: right;\">1.41</td><td style=\"text-align: right;\">8</td><td style=\"text-align: right;\">1.83</td><td style=\"text-align: right;\">28</td><td style=\"text-align: right;\">3.81</td></tr>\n",
       "</table>\n",
       "</p>\n",
       "<p>\n",
       "<b>5_60 series snps</b>\n",
       "</p><p>\n",
       "<table>\n",
       "<thead><tr><th style=\"text-align:center\">index</th><th style=\"text-align:center\">pos</th><th style=\"text-align:center\">id</th><th style=\"text-align:center\">niv</th><th style=\"text-align:center\">alleles</th><th style=\"text-align:center\" colspan=2>afr</th><th style=\"text-align:center\" colspan=2>afx</th><th style=\"text-align:center\" colspan=2>amr</th><th style=\"text-align:center\" colspan=2>eas</th><th style=\"text-align:center\" colspan=2>eur</th><th style=\"text-align:center\" colspan=2>sas</th><th style=\"text-align:center\" colspan=2>sax</th></tr></thead>\n",
       "<tr class=\"even\"><td style=\"text-align: right;\">876395</td><td style=\"text-align: right;\">136,033,790</td><td>rs114728952</td><td>0</td><td style=\"text-align: right;\">66</td><td style=\"text-align: right;\">0</td><td style=\"text-align: right;\">0.00</td><td style=\"text-align: right;\">2</td><td style=\"text-align: right;\">0.48</td><td style=\"text-align: right;\">6</td><td style=\"text-align: right;\">0.66</td><td style=\"text-align: right;\">1</td><td style=\"text-align: right;\">0.08</td><td style=\"text-align: right;\">17</td><td style=\"text-align: right;\">1.28</td><td style=\"text-align: right;\">9</td><td style=\"text-align: right;\">1.88</td><td style=\"text-align: right;\">31</td><td style=\"text-align: right;\">3.83</td></tr>\n",
       "<tr><td style=\"text-align: right;\">876768</td><td style=\"text-align: right;\">136,103,753</td><td>rs142251435</td><td>0</td><td style=\"text-align: right;\">67</td><td style=\"text-align: right;\">0</td><td style=\"text-align: right;\">0.00</td><td style=\"text-align: right;\">2</td><td style=\"text-align: right;\">0.48</td><td style=\"text-align: right;\">6</td><td style=\"text-align: right;\">0.65</td><td style=\"text-align: right;\">1</td><td style=\"text-align: right;\">0.07</td><td style=\"text-align: right;\">17</td><td style=\"text-align: right;\">1.26</td><td style=\"text-align: right;\">11</td><td style=\"text-align: right;\">2.26</td><td style=\"text-align: right;\">30</td><td style=\"text-align: right;\">3.65</td></tr>\n",
       "<tr class=\"even\"><td style=\"text-align: right;\">877495</td><td style=\"text-align: right;\">136,236,633</td><td>rs146079936</td><td>0</td><td style=\"text-align: right;\">65</td><td style=\"text-align: right;\">0</td><td style=\"text-align: right;\">0.00</td><td style=\"text-align: right;\">2</td><td style=\"text-align: right;\">0.49</td><td style=\"text-align: right;\">5</td><td style=\"text-align: right;\">0.56</td><td style=\"text-align: right;\">1</td><td style=\"text-align: right;\">0.08</td><td style=\"text-align: right;\">17</td><td style=\"text-align: right;\">1.30</td><td style=\"text-align: right;\">10</td><td style=\"text-align: right;\">2.12</td><td style=\"text-align: right;\">30</td><td style=\"text-align: right;\">3.76</td></tr>\n",
       "<tr><td style=\"text-align: right;\">877698</td><td style=\"text-align: right;\">136,277,069</td><td>rs141321650</td><td>0</td><td style=\"text-align: right;\">65</td><td style=\"text-align: right;\">0</td><td style=\"text-align: right;\">0.00</td><td style=\"text-align: right;\">2</td><td style=\"text-align: right;\">0.49</td><td style=\"text-align: right;\">5</td><td style=\"text-align: right;\">0.56</td><td style=\"text-align: right;\">1</td><td style=\"text-align: right;\">0.08</td><td style=\"text-align: right;\">17</td><td style=\"text-align: right;\">1.30</td><td style=\"text-align: right;\">10</td><td style=\"text-align: right;\">2.12</td><td style=\"text-align: right;\">30</td><td style=\"text-align: right;\">3.76</td></tr>\n",
       "<tr class=\"even\"><td style=\"text-align: right;\">877922</td><td style=\"text-align: right;\">136,325,737</td><td>rs147816190</td><td>0</td><td style=\"text-align: right;\">66</td><td style=\"text-align: right;\">0</td><td style=\"text-align: right;\">0.00</td><td style=\"text-align: right;\">2</td><td style=\"text-align: right;\">0.48</td><td style=\"text-align: right;\">5</td><td style=\"text-align: right;\">0.55</td><td style=\"text-align: right;\">1</td><td style=\"text-align: right;\">0.08</td><td style=\"text-align: right;\">17</td><td style=\"text-align: right;\">1.28</td><td style=\"text-align: right;\">10</td><td style=\"text-align: right;\">2.08</td><td style=\"text-align: right;\">31</td><td style=\"text-align: right;\">3.83</td></tr>\n",
       "</table>"
      ],
      "text/plain": [
       "<IPython.core.display.HTML object>"
      ]
     },
     "execution_count": 2,
     "metadata": {},
     "output_type": "execute_result"
    }
   ],
   "source": [
    "HTML(dm.series_html(di_5_60))"
   ]
  },
  {
   "cell_type": "code",
   "execution_count": 3,
   "metadata": {
    "collapsed": false
   },
   "outputs": [
    {
     "data": {
      "text/html": [
       "<table>\n",
       "<thead><tr><th style=\"text-align:center\">index</th><th style=\"text-align:center\">first</th><th style=\"text-align:center\">length</th><th style=\"text-align:center\">snps</th><th style=\"text-align:center\" colspan=2>alleles</th><th style=\"text-align:center\" colspan=2>matches</th><th style=\"text-align:center\" colspan=2>afr</th><th style=\"text-align:center\" colspan=2>afx</th><th style=\"text-align:center\" colspan=2>amr</th><th style=\"text-align:center\" colspan=2>eas</th><th style=\"text-align:center\" colspan=2>eur</th><th style=\"text-align:center\" colspan=2>sas</th><th style=\"text-align:center\" colspan=2>sax</th></tr></thead>\n",
       "<tr class=\"even\"><td style=\"text-align: right;\">353921</td><td style=\"text-align: right;\">136,501,840</td><td style=\"text-align: right;\">53,819</td><td style=\"text-align: right;\">10</td><td style=\"text-align: right;\">2206</td><td style=\"text-align: right;\">0.00</td><td style=\"text-align: right;\">2</td><td style=\"text-align: right;\">0.03</td><td style=\"text-align: right;\">0</td><td style=\"text-align: right;\">0.00</td><td style=\"text-align: right;\">0</td><td style=\"text-align: right;\">0.00</td><td style=\"text-align: right;\">0</td><td style=\"text-align: right;\">0.00</td><td style=\"text-align: right;\">0</td><td style=\"text-align: right;\">0.00</td><td style=\"text-align: right;\">2</td><td style=\"text-align: right;\">4.98</td><td style=\"text-align: right;\">0</td><td style=\"text-align: right;\">0.00</td><td style=\"text-align: right;\">0</td><td style=\"text-align: right;\">0.00</td></tr>\n",
       "<tr><td style=\"text-align: right;\">354033</td><td style=\"text-align: right;\">136,588,031</td><td style=\"text-align: right;\">5,647</td><td style=\"text-align: right;\">7</td><td style=\"text-align: right;\">1760</td><td style=\"text-align: right;\">0.03</td><td style=\"text-align: right;\">58</td><td style=\"text-align: right;\">0.97</td><td style=\"text-align: right;\">0</td><td style=\"text-align: right;\">0.00</td><td style=\"text-align: right;\">2</td><td style=\"text-align: right;\">0.55</td><td style=\"text-align: right;\">4</td><td style=\"text-align: right;\">0.50</td><td style=\"text-align: right;\">1</td><td style=\"text-align: right;\">0.09</td><td style=\"text-align: right;\">15</td><td style=\"text-align: right;\">1.29</td><td style=\"text-align: right;\">8</td><td style=\"text-align: right;\">1.90</td><td style=\"text-align: right;\">28</td><td style=\"text-align: right;\">3.94</td></tr>\n",
       "<tr class=\"even\"><td style=\"text-align: right;\">353240</td><td style=\"text-align: right;\">135,757,320</td><td style=\"text-align: right;\">20,184</td><td style=\"text-align: right;\">13</td><td style=\"text-align: right;\">1696</td><td style=\"text-align: right;\">0.03</td><td style=\"text-align: right;\">59</td><td style=\"text-align: right;\">0.98</td><td style=\"text-align: right;\">0</td><td style=\"text-align: right;\">0.00</td><td style=\"text-align: right;\">2</td><td style=\"text-align: right;\">0.54</td><td style=\"text-align: right;\">4</td><td style=\"text-align: right;\">0.49</td><td style=\"text-align: right;\">1</td><td style=\"text-align: right;\">0.08</td><td style=\"text-align: right;\">17</td><td style=\"text-align: right;\">1.43</td><td style=\"text-align: right;\">8</td><td style=\"text-align: right;\">1.87</td><td style=\"text-align: right;\">27</td><td style=\"text-align: right;\">3.73</td></tr>\n",
       "<tr><td style=\"text-align: right;\">354130</td><td style=\"text-align: right;\">136,653,925</td><td style=\"text-align: right;\">107,928</td><td style=\"text-align: right;\">24</td><td style=\"text-align: right;\">1504</td><td style=\"text-align: right;\">0.04</td><td style=\"text-align: right;\">57</td><td style=\"text-align: right;\">0.95</td><td style=\"text-align: right;\">0</td><td style=\"text-align: right;\">0.00</td><td style=\"text-align: right;\">2</td><td style=\"text-align: right;\">0.56</td><td style=\"text-align: right;\">4</td><td style=\"text-align: right;\">0.51</td><td style=\"text-align: right;\">1</td><td style=\"text-align: right;\">0.09</td><td style=\"text-align: right;\">16</td><td style=\"text-align: right;\">1.40</td><td style=\"text-align: right;\">8</td><td style=\"text-align: right;\">1.93</td><td style=\"text-align: right;\">26</td><td style=\"text-align: right;\">3.72</td></tr>\n",
       "<tr class=\"even\"><td style=\"text-align: right;\">353925</td><td style=\"text-align: right;\">136,506,375</td><td style=\"text-align: right;\">32,564</td><td style=\"text-align: right;\">4</td><td style=\"text-align: right;\">1442</td><td style=\"text-align: right;\">0.04</td><td style=\"text-align: right;\">58</td><td style=\"text-align: right;\">0.97</td><td style=\"text-align: right;\">0</td><td style=\"text-align: right;\">0.00</td><td style=\"text-align: right;\">2</td><td style=\"text-align: right;\">0.55</td><td style=\"text-align: right;\">4</td><td style=\"text-align: right;\">0.50</td><td style=\"text-align: right;\">1</td><td style=\"text-align: right;\">0.09</td><td style=\"text-align: right;\">15</td><td style=\"text-align: right;\">1.29</td><td style=\"text-align: right;\">8</td><td style=\"text-align: right;\">1.90</td><td style=\"text-align: right;\">28</td><td style=\"text-align: right;\">3.94</td></tr>\n",
       "<tr><td style=\"text-align: right;\">353791</td><td style=\"text-align: right;\">136,393,658</td><td style=\"text-align: right;\">92,684</td><td style=\"text-align: right;\">32</td><td style=\"text-align: right;\">1361</td><td style=\"text-align: right;\">0.04</td><td style=\"text-align: right;\">60</td><td style=\"text-align: right;\">1.00</td><td style=\"text-align: right;\">0</td><td style=\"text-align: right;\">0.00</td><td style=\"text-align: right;\">2</td><td style=\"text-align: right;\">0.53</td><td style=\"text-align: right;\">4</td><td style=\"text-align: right;\">0.48</td><td style=\"text-align: right;\">1</td><td style=\"text-align: right;\">0.08</td><td style=\"text-align: right;\">17</td><td style=\"text-align: right;\">1.41</td><td style=\"text-align: right;\">8</td><td style=\"text-align: right;\">1.83</td><td style=\"text-align: right;\">28</td><td style=\"text-align: right;\">3.81</td></tr>\n",
       "<tr class=\"even\"><td style=\"text-align: right;\">353958</td><td style=\"text-align: right;\">136,535,876</td><td style=\"text-align: right;\">19,014</td><td style=\"text-align: right;\">7</td><td style=\"text-align: right;\">1303</td><td style=\"text-align: right;\">0.04</td><td style=\"text-align: right;\">58</td><td style=\"text-align: right;\">0.97</td><td style=\"text-align: right;\">0</td><td style=\"text-align: right;\">0.00</td><td style=\"text-align: right;\">2</td><td style=\"text-align: right;\">0.55</td><td style=\"text-align: right;\">4</td><td style=\"text-align: right;\">0.50</td><td style=\"text-align: right;\">1</td><td style=\"text-align: right;\">0.09</td><td style=\"text-align: right;\">15</td><td style=\"text-align: right;\">1.29</td><td style=\"text-align: right;\">8</td><td style=\"text-align: right;\">1.90</td><td style=\"text-align: right;\">28</td><td style=\"text-align: right;\">3.94</td></tr>\n",
       "<tr><td style=\"text-align: right;\">354129</td><td style=\"text-align: right;\">136,652,953</td><td style=\"text-align: right;\">108,222</td><td style=\"text-align: right;\">5</td><td style=\"text-align: right;\">1296</td><td style=\"text-align: right;\">0.04</td><td style=\"text-align: right;\">53</td><td style=\"text-align: right;\">0.88</td><td style=\"text-align: right;\">0</td><td style=\"text-align: right;\">0.00</td><td style=\"text-align: right;\">2</td><td style=\"text-align: right;\">0.60</td><td style=\"text-align: right;\">4</td><td style=\"text-align: right;\">0.54</td><td style=\"text-align: right;\">1</td><td style=\"text-align: right;\">0.09</td><td style=\"text-align: right;\">15</td><td style=\"text-align: right;\">1.41</td><td style=\"text-align: right;\">8</td><td style=\"text-align: right;\">2.08</td><td style=\"text-align: right;\">23</td><td style=\"text-align: right;\">3.54</td></tr>\n",
       "<tr class=\"even\"><td style=\"text-align: right;\">353919</td><td style=\"text-align: right;\">136,500,475</td><td style=\"text-align: right;\">42,085</td><td style=\"text-align: right;\">13</td><td style=\"text-align: right;\">1227</td><td style=\"text-align: right;\">0.05</td><td style=\"text-align: right;\">58</td><td style=\"text-align: right;\">0.97</td><td style=\"text-align: right;\">0</td><td style=\"text-align: right;\">0.00</td><td style=\"text-align: right;\">2</td><td style=\"text-align: right;\">0.55</td><td style=\"text-align: right;\">4</td><td style=\"text-align: right;\">0.50</td><td style=\"text-align: right;\">1</td><td style=\"text-align: right;\">0.09</td><td style=\"text-align: right;\">15</td><td style=\"text-align: right;\">1.29</td><td style=\"text-align: right;\">8</td><td style=\"text-align: right;\">1.90</td><td style=\"text-align: right;\">28</td><td style=\"text-align: right;\">3.94</td></tr>\n",
       "<tr><td style=\"text-align: right;\">354127</td><td style=\"text-align: right;\">136,652,491</td><td style=\"text-align: right;\">80,281</td><td style=\"text-align: right;\">6</td><td style=\"text-align: right;\">1114</td><td style=\"text-align: right;\">0.05</td><td style=\"text-align: right;\">53</td><td style=\"text-align: right;\">0.88</td><td style=\"text-align: right;\">0</td><td style=\"text-align: right;\">0.00</td><td style=\"text-align: right;\">2</td><td style=\"text-align: right;\">0.60</td><td style=\"text-align: right;\">4</td><td style=\"text-align: right;\">0.54</td><td style=\"text-align: right;\">1</td><td style=\"text-align: right;\">0.09</td><td style=\"text-align: right;\">15</td><td style=\"text-align: right;\">1.41</td><td style=\"text-align: right;\">8</td><td style=\"text-align: right;\">2.08</td><td style=\"text-align: right;\">23</td><td style=\"text-align: right;\">3.54</td></tr>\n",
       "<tr class=\"even\"><td style=\"text-align: right;\">353372</td><td style=\"text-align: right;\">135,829,592</td><td style=\"text-align: right;\">591,316</td><td style=\"text-align: right;\">9</td><td style=\"text-align: right;\">944</td><td style=\"text-align: right;\">0.06</td><td style=\"text-align: right;\">60</td><td style=\"text-align: right;\">1.00</td><td style=\"text-align: right;\">0</td><td style=\"text-align: right;\">0.00</td><td style=\"text-align: right;\">2</td><td style=\"text-align: right;\">0.53</td><td style=\"text-align: right;\">4</td><td style=\"text-align: right;\">0.48</td><td style=\"text-align: right;\">1</td><td style=\"text-align: right;\">0.08</td><td style=\"text-align: right;\">17</td><td style=\"text-align: right;\">1.41</td><td style=\"text-align: right;\">8</td><td style=\"text-align: right;\">1.83</td><td style=\"text-align: right;\">28</td><td style=\"text-align: right;\">3.81</td></tr>\n",
       "<tr><td style=\"text-align: right;\">353902</td><td style=\"text-align: right;\">136,494,985</td><td style=\"text-align: right;\">278,653</td><td style=\"text-align: right;\">81</td><td style=\"text-align: right;\">857</td><td style=\"text-align: right;\">0.06</td><td style=\"text-align: right;\">53</td><td style=\"text-align: right;\">0.88</td><td style=\"text-align: right;\">0</td><td style=\"text-align: right;\">0.00</td><td style=\"text-align: right;\">2</td><td style=\"text-align: right;\">0.60</td><td style=\"text-align: right;\">4</td><td style=\"text-align: right;\">0.54</td><td style=\"text-align: right;\">1</td><td style=\"text-align: right;\">0.09</td><td style=\"text-align: right;\">15</td><td style=\"text-align: right;\">1.41</td><td style=\"text-align: right;\">8</td><td style=\"text-align: right;\">2.08</td><td style=\"text-align: right;\">23</td><td style=\"text-align: right;\">3.54</td></tr>\n",
       "<tr class=\"even\"><td style=\"text-align: right;\">353904</td><td style=\"text-align: right;\">136,495,815</td><td style=\"text-align: right;\">46,924</td><td style=\"text-align: right;\">9</td><td style=\"text-align: right;\">378</td><td style=\"text-align: right;\">0.01</td><td style=\"text-align: right;\">2</td><td style=\"text-align: right;\">0.03</td><td style=\"text-align: right;\">0</td><td style=\"text-align: right;\">0.00</td><td style=\"text-align: right;\">0</td><td style=\"text-align: right;\">0.00</td><td style=\"text-align: right;\">0</td><td style=\"text-align: right;\">0.00</td><td style=\"text-align: right;\">0</td><td style=\"text-align: right;\">0.00</td><td style=\"text-align: right;\">2</td><td style=\"text-align: right;\">4.98</td><td style=\"text-align: right;\">0</td><td style=\"text-align: right;\">0.00</td><td style=\"text-align: right;\">0</td><td style=\"text-align: right;\">0.00</td></tr>\n",
       "<tr><td style=\"text-align: right;\">354064</td><td style=\"text-align: right;\">136,605,402</td><td style=\"text-align: right;\">19,284</td><td style=\"text-align: right;\">8</td><td style=\"text-align: right;\">328</td><td style=\"text-align: right;\">0.00</td><td style=\"text-align: right;\">1</td><td style=\"text-align: right;\">0.02</td><td style=\"text-align: right;\">0</td><td style=\"text-align: right;\">0.00</td><td style=\"text-align: right;\">0</td><td style=\"text-align: right;\">0.00</td><td style=\"text-align: right;\">0</td><td style=\"text-align: right;\">0.00</td><td style=\"text-align: right;\">0</td><td style=\"text-align: right;\">0.00</td><td style=\"text-align: right;\">1</td><td style=\"text-align: right;\">4.98</td><td style=\"text-align: right;\">0</td><td style=\"text-align: right;\">0.00</td><td style=\"text-align: right;\">0</td><td style=\"text-align: right;\">0.00</td></tr>\n",
       "<tr class=\"even\"><td style=\"text-align: right;\">354189</td><td style=\"text-align: right;\">136,704,466</td><td style=\"text-align: right;\">27,748</td><td style=\"text-align: right;\">5</td><td style=\"text-align: right;\">212</td><td style=\"text-align: right;\">0.02</td><td style=\"text-align: right;\">4</td><td style=\"text-align: right;\">0.07</td><td style=\"text-align: right;\">0</td><td style=\"text-align: right;\">0.00</td><td style=\"text-align: right;\">0</td><td style=\"text-align: right;\">0.00</td><td style=\"text-align: right;\">0</td><td style=\"text-align: right;\">0.00</td><td style=\"text-align: right;\">0</td><td style=\"text-align: right;\">0.00</td><td style=\"text-align: right;\">1</td><td style=\"text-align: right;\">1.24</td><td style=\"text-align: right;\">0</td><td style=\"text-align: right;\">0.00</td><td style=\"text-align: right;\">3</td><td style=\"text-align: right;\">6.12</td></tr>\n",
       "<tr><td style=\"text-align: right;\">354181</td><td style=\"text-align: right;\">136,696,010</td><td style=\"text-align: right;\">68,554</td><td style=\"text-align: right;\">18</td><td style=\"text-align: right;\">172</td><td style=\"text-align: right;\">0.02</td><td style=\"text-align: right;\">4</td><td style=\"text-align: right;\">0.07</td><td style=\"text-align: right;\">0</td><td style=\"text-align: right;\">0.00</td><td style=\"text-align: right;\">0</td><td style=\"text-align: right;\">0.00</td><td style=\"text-align: right;\">0</td><td style=\"text-align: right;\">0.00</td><td style=\"text-align: right;\">0</td><td style=\"text-align: right;\">0.00</td><td style=\"text-align: right;\">1</td><td style=\"text-align: right;\">1.24</td><td style=\"text-align: right;\">0</td><td style=\"text-align: right;\">0.00</td><td style=\"text-align: right;\">3</td><td style=\"text-align: right;\">6.12</td></tr>\n",
       "<tr class=\"even\"><td style=\"text-align: right;\">354143</td><td style=\"text-align: right;\">136,658,238</td><td style=\"text-align: right;\">19,681</td><td style=\"text-align: right;\">6</td><td style=\"text-align: right;\">167</td><td style=\"text-align: right;\">0.02</td><td style=\"text-align: right;\">4</td><td style=\"text-align: right;\">0.07</td><td style=\"text-align: right;\">0</td><td style=\"text-align: right;\">0.00</td><td style=\"text-align: right;\">0</td><td style=\"text-align: right;\">0.00</td><td style=\"text-align: right;\">0</td><td style=\"text-align: right;\">0.00</td><td style=\"text-align: right;\">0</td><td style=\"text-align: right;\">0.00</td><td style=\"text-align: right;\">1</td><td style=\"text-align: right;\">1.24</td><td style=\"text-align: right;\">0</td><td style=\"text-align: right;\">0.00</td><td style=\"text-align: right;\">3</td><td style=\"text-align: right;\">6.12</td></tr>\n",
       "<tr><td style=\"text-align: right;\">354051</td><td style=\"text-align: right;\">136,596,162</td><td style=\"text-align: right;\">189,567</td><td style=\"text-align: right;\">17</td><td style=\"text-align: right;\">137</td><td style=\"text-align: right;\">0.01</td><td style=\"text-align: right;\">1</td><td style=\"text-align: right;\">0.02</td><td style=\"text-align: right;\">0</td><td style=\"text-align: right;\">0.00</td><td style=\"text-align: right;\">0</td><td style=\"text-align: right;\">0.00</td><td style=\"text-align: right;\">0</td><td style=\"text-align: right;\">0.00</td><td style=\"text-align: right;\">0</td><td style=\"text-align: right;\">0.00</td><td style=\"text-align: right;\">1</td><td style=\"text-align: right;\">4.98</td><td style=\"text-align: right;\">0</td><td style=\"text-align: right;\">0.00</td><td style=\"text-align: right;\">0</td><td style=\"text-align: right;\">0.00</td></tr>\n",
       "<tr class=\"even\"><td style=\"text-align: right;\">354156</td><td style=\"text-align: right;\">136,666,402</td><td style=\"text-align: right;\">102,253</td><td style=\"text-align: right;\">17</td><td style=\"text-align: right;\">121</td><td style=\"text-align: right;\">0.03</td><td style=\"text-align: right;\">4</td><td style=\"text-align: right;\">0.07</td><td style=\"text-align: right;\">0</td><td style=\"text-align: right;\">0.00</td><td style=\"text-align: right;\">0</td><td style=\"text-align: right;\">0.00</td><td style=\"text-align: right;\">0</td><td style=\"text-align: right;\">0.00</td><td style=\"text-align: right;\">0</td><td style=\"text-align: right;\">0.00</td><td style=\"text-align: right;\">1</td><td style=\"text-align: right;\">1.24</td><td style=\"text-align: right;\">0</td><td style=\"text-align: right;\">0.00</td><td style=\"text-align: right;\">3</td><td style=\"text-align: right;\">6.12</td></tr>\n",
       "<tr><td style=\"text-align: right;\">353908</td><td style=\"text-align: right;\">136,496,845</td><td style=\"text-align: right;\">54,025</td><td style=\"text-align: right;\">6</td><td style=\"text-align: right;\">99</td><td style=\"text-align: right;\">0.01</td><td style=\"text-align: right;\">1</td><td style=\"text-align: right;\">0.02</td><td style=\"text-align: right;\">0</td><td style=\"text-align: right;\">0.00</td><td style=\"text-align: right;\">0</td><td style=\"text-align: right;\">0.00</td><td style=\"text-align: right;\">0</td><td style=\"text-align: right;\">0.00</td><td style=\"text-align: right;\">0</td><td style=\"text-align: right;\">0.00</td><td style=\"text-align: right;\">1</td><td style=\"text-align: right;\">4.98</td><td style=\"text-align: right;\">0</td><td style=\"text-align: right;\">0.00</td><td style=\"text-align: right;\">0</td><td style=\"text-align: right;\">0.00</td></tr>\n",
       "<tr class=\"even\"><td style=\"text-align: right;\">353564</td><td style=\"text-align: right;\">136,033,790</td><td style=\"text-align: right;\">291,947</td><td style=\"text-align: right;\">5</td><td style=\"text-align: right;\">60</td><td style=\"text-align: right;\">1.00</td><td style=\"text-align: right;\">60</td><td style=\"text-align: right;\">1.00</td><td style=\"text-align: right;\">0</td><td style=\"text-align: right;\">0.00</td><td style=\"text-align: right;\">2</td><td style=\"text-align: right;\">0.53</td><td style=\"text-align: right;\">4</td><td style=\"text-align: right;\">0.48</td><td style=\"text-align: right;\">1</td><td style=\"text-align: right;\">0.08</td><td style=\"text-align: right;\">17</td><td style=\"text-align: right;\">1.41</td><td style=\"text-align: right;\">8</td><td style=\"text-align: right;\">1.83</td><td style=\"text-align: right;\">28</td><td style=\"text-align: right;\">3.81</td></tr>\n",
       "<tr><td style=\"text-align: right;\">354133</td><td style=\"text-align: right;\">136,654,760</td><td style=\"text-align: right;\">116,007</td><td style=\"text-align: right;\">20</td><td style=\"text-align: right;\">56</td><td style=\"text-align: right;\">0.07</td><td style=\"text-align: right;\">4</td><td style=\"text-align: right;\">0.07</td><td style=\"text-align: right;\">0</td><td style=\"text-align: right;\">0.00</td><td style=\"text-align: right;\">0</td><td style=\"text-align: right;\">0.00</td><td style=\"text-align: right;\">0</td><td style=\"text-align: right;\">0.00</td><td style=\"text-align: right;\">0</td><td style=\"text-align: right;\">0.00</td><td style=\"text-align: right;\">1</td><td style=\"text-align: right;\">1.24</td><td style=\"text-align: right;\">0</td><td style=\"text-align: right;\">0.00</td><td style=\"text-align: right;\">3</td><td style=\"text-align: right;\">6.12</td></tr>\n",
       "<tr class=\"even\"><td style=\"text-align: right;\">353998</td><td style=\"text-align: right;\">136,568,458</td><td style=\"text-align: right;\">22,850</td><td style=\"text-align: right;\">5</td><td style=\"text-align: right;\">28</td><td style=\"text-align: right;\">0.04</td><td style=\"text-align: right;\">1</td><td style=\"text-align: right;\">0.02</td><td style=\"text-align: right;\">0</td><td style=\"text-align: right;\">0.00</td><td style=\"text-align: right;\">0</td><td style=\"text-align: right;\">0.00</td><td style=\"text-align: right;\">0</td><td style=\"text-align: right;\">0.00</td><td style=\"text-align: right;\">0</td><td style=\"text-align: right;\">0.00</td><td style=\"text-align: right;\">1</td><td style=\"text-align: right;\">4.98</td><td style=\"text-align: right;\">0</td><td style=\"text-align: right;\">0.00</td><td style=\"text-align: right;\">0</td><td style=\"text-align: right;\">0.00</td></tr>\n",
       "<tr><td style=\"text-align: right;\">354116</td><td style=\"text-align: right;\">136,648,736</td><td style=\"text-align: right;\">114,114</td><td style=\"text-align: right;\">4</td><td style=\"text-align: right;\">26</td><td style=\"text-align: right;\">0.04</td><td style=\"text-align: right;\">1</td><td style=\"text-align: right;\">0.02</td><td style=\"text-align: right;\">0</td><td style=\"text-align: right;\">0.00</td><td style=\"text-align: right;\">0</td><td style=\"text-align: right;\">0.00</td><td style=\"text-align: right;\">0</td><td style=\"text-align: right;\">0.00</td><td style=\"text-align: right;\">0</td><td style=\"text-align: right;\">0.00</td><td style=\"text-align: right;\">1</td><td style=\"text-align: right;\">4.98</td><td style=\"text-align: right;\">0</td><td style=\"text-align: right;\">0.00</td><td style=\"text-align: right;\">0</td><td style=\"text-align: right;\">0.00</td></tr>\n",
       "<tr class=\"even\"><td style=\"text-align: right;\">354047</td><td style=\"text-align: right;\">136,595,044</td><td style=\"text-align: right;\">44,512</td><td style=\"text-align: right;\">15</td><td style=\"text-align: right;\">25</td><td style=\"text-align: right;\">0.04</td><td style=\"text-align: right;\">1</td><td style=\"text-align: right;\">0.02</td><td style=\"text-align: right;\">0</td><td style=\"text-align: right;\">0.00</td><td style=\"text-align: right;\">0</td><td style=\"text-align: right;\">0.00</td><td style=\"text-align: right;\">0</td><td style=\"text-align: right;\">0.00</td><td style=\"text-align: right;\">0</td><td style=\"text-align: right;\">0.00</td><td style=\"text-align: right;\">1</td><td style=\"text-align: right;\">4.98</td><td style=\"text-align: right;\">0</td><td style=\"text-align: right;\">0.00</td><td style=\"text-align: right;\">0</td><td style=\"text-align: right;\">0.00</td></tr>\n",
       "</table>"
      ],
      "text/plain": [
       "<IPython.core.display.HTML object>"
      ]
     },
     "execution_count": 3,
     "metadata": {},
     "output_type": "execute_result"
    }
   ],
   "source": [
    "plt_obj = dm.superset_yes_no([di_5_60], min_match=0.001)\n",
    "plt_obj.do_plot()\n",
    "HTML(plt_obj.get_html())"
   ]
  },
  {
   "cell_type": "code",
   "execution_count": 4,
   "metadata": {
    "collapsed": false
   },
   "outputs": [
    {
     "data": {
      "text/plain": [
       "array([(0, 4937), (1, 3), (2, 1), (3, 4), (4, 3), (5, 60)], \n",
       "      dtype=[('count', '<u2'), ('snps', '<u2')])"
      ]
     },
     "execution_count": 4,
     "metadata": {},
     "output_type": "execute_result"
    }
   ],
   "source": [
    "count_data = sa_5_60.unique_snps_per_allele()\n",
    "count_data"
   ]
  },
  {
   "cell_type": "code",
   "execution_count": 5,
   "metadata": {
    "collapsed": false
   },
   "outputs": [
    {
     "data": {
      "text/html": [
       "\n",
       "\n",
       "    <div class=\"bk-root\">\n",
       "        <div class=\"plotdiv\" id=\"dbf5d851-74b1-4fa1-ab54-0a6b00b16687\"></div>\n",
       "    </div>\n",
       "<script type=\"text/javascript\">\n",
       "  \n",
       "  (function(global) {\n",
       "    function now() {\n",
       "      return new Date();\n",
       "    }\n",
       "  \n",
       "    if (typeof (window._bokeh_onload_callbacks) === \"undefined\") {\n",
       "      window._bokeh_onload_callbacks = [];\n",
       "    }\n",
       "  \n",
       "    function run_callbacks() {\n",
       "      window._bokeh_onload_callbacks.forEach(function(callback) { callback() });\n",
       "      delete window._bokeh_onload_callbacks\n",
       "      console.info(\"Bokeh: all callbacks have finished\");\n",
       "    }\n",
       "  \n",
       "    function load_libs(js_urls, callback) {\n",
       "      window._bokeh_onload_callbacks.push(callback);\n",
       "      if (window._bokeh_is_loading > 0) {\n",
       "        console.log(\"Bokeh: BokehJS is being loaded, scheduling callback at\", now());\n",
       "        return null;\n",
       "      }\n",
       "      if (js_urls == null || js_urls.length === 0) {\n",
       "        run_callbacks();\n",
       "        return null;\n",
       "      }\n",
       "      console.log(\"Bokeh: BokehJS not loaded, scheduling load and callback at\", now());\n",
       "      window._bokeh_is_loading = js_urls.length;\n",
       "      for (var i = 0; i < js_urls.length; i++) {\n",
       "        var url = js_urls[i];\n",
       "        var s = document.createElement('script');\n",
       "        s.src = url;\n",
       "        s.async = false;\n",
       "        s.onreadystatechange = s.onload = function() {\n",
       "          window._bokeh_is_loading--;\n",
       "          if (window._bokeh_is_loading === 0) {\n",
       "            console.log(\"Bokeh: all BokehJS libraries loaded\");\n",
       "            run_callbacks()\n",
       "          }\n",
       "        };\n",
       "        s.onerror = function() {\n",
       "          console.warn(\"failed to load library \" + url);\n",
       "        };\n",
       "        console.log(\"Bokeh: injecting script tag for BokehJS library: \", url);\n",
       "        document.getElementsByTagName(\"head\")[0].appendChild(s);\n",
       "      }\n",
       "    };var element = document.getElementById(\"dbf5d851-74b1-4fa1-ab54-0a6b00b16687\");\n",
       "    if (element == null) {\n",
       "      console.log(\"Bokeh: ERROR: autoload.js configured with elementid 'dbf5d851-74b1-4fa1-ab54-0a6b00b16687' but no matching script tag was found. \")\n",
       "      return false;\n",
       "    }\n",
       "  \n",
       "    var js_urls = [];\n",
       "  \n",
       "    var inline_js = [\n",
       "      function(Bokeh) {\n",
       "        Bokeh.$(function() {\n",
       "            var docs_json = {\"d14a5581-2dc5-4680-bfe6-8b5c54f0617c\":{\"roots\":{\"references\":[{\"attributes\":{\"data_source\":{\"id\":\"c250d2e6-606b-4bb1-8680-340e274b5dfb\",\"type\":\"ColumnDataSource\"},\"glyph\":{\"id\":\"48b18f36-3db7-443e-bf21-611a2e0f958e\",\"type\":\"Quad\"},\"hover_glyph\":null,\"nonselection_glyph\":{\"id\":\"cfbddfe6-0134-4347-a214-12a56eaf6801\",\"type\":\"Quad\"},\"selection_glyph\":null},\"id\":\"54a4c449-f9c9-4dc4-bed0-7a73546d7b95\",\"type\":\"GlyphRenderer\"},{\"attributes\":{\"dimension\":1,\"plot\":{\"id\":\"e82f6308-f3ba-4cca-9248-e683fe467830\",\"subtype\":\"Figure\",\"type\":\"Plot\"},\"ticker\":{\"id\":\"fbcabaad-f639-4fd8-9a23-4790d251a0db\",\"type\":\"BasicTicker\"}},\"id\":\"971e095a-83d8-4f93-990a-d5019004f77c\",\"type\":\"Grid\"},{\"attributes\":{\"callback\":null,\"column_names\":[\"xs\",\"ys\",\"line_color\"],\"data\":{\"line_color\":[\"black\",\"black\",\"black\",\"black\",\"black\",\"black\",\"black\",\"black\",\"black\",\"black\",\"black\",\"black\",\"black\",\"black\",\"black\",\"black\",\"black\",\"black\",\"black\",\"black\",\"black\",\"black\",\"black\",\"black\",\"black\",\"black\",\"black\",\"black\",\"black\",\"black\",\"black\",\"black\",\"black\",\"black\",\"black\",\"black\",\"black\",\"black\",\"black\",\"black\",\"black\",\"black\",\"black\",\"black\",\"black\",\"black\",\"black\",\"black\",\"black\",\"black\",\"black\",\"black\",\"black\",\"black\",\"black\",\"black\",\"black\",\"black\",\"black\",\"black\",\"black\",\"black\",\"black\",\"black\",\"black\",\"black\",\"black\",\"black\",\"black\",\"black\",\"black\",\"black\",\"black\",\"black\",\"black\",\"black\",\"black\",\"black\",\"black\",\"black\",\"black\",\"black\",\"black\",\"black\",\"black\",\"black\",\"black\",\"black\",\"black\",\"black\",\"black\",\"black\",\"black\",\"black\",\"black\",\"black\",\"black\",\"black\",\"black\",\"black\",\"black\",\"black\",\"black\",\"black\",\"black\",\"black\",\"black\",\"black\",\"black\",\"black\",\"black\",\"black\",\"black\",\"black\",\"black\",\"black\",\"black\",\"black\",\"black\",\"black\",\"black\",\"black\",\"black\",\"black\",\"black\",\"black\",\"black\",\"black\",\"black\",\"black\",\"black\",\"black\",\"black\",\"black\",\"black\",\"black\",\"black\",\"black\",\"black\",\"black\",\"black\",\"black\",\"black\",\"black\",\"black\",\"black\",\"black\",\"black\",\"black\",\"black\",\"black\",\"black\",\"black\",\"black\",\"black\",\"black\",\"black\",\"black\",\"black\",\"black\",\"black\",\"black\",\"black\",\"black\",\"black\",\"black\",\"black\",\"black\",\"black\",\"black\",\"black\",\"black\",\"black\",\"black\",\"black\",\"black\",\"black\",\"black\",\"black\",\"black\",\"black\",\"black\",\"black\",\"black\",\"black\",\"black\",\"black\",\"black\",\"black\",\"black\",\"black\",\"black\",\"black\",\"black\",\"black\",\"black\",\"black\",\"black\",\"black\",\"black\",\"black\",\"black\",\"black\",\"black\",\"black\",\"black\"],\"xs\":[[135757320,135757320],[135761078,135761078],[135761271,135761271],[135762344,135762344],[135762980,135762980],[135763280,135763280],[135768815,135768815],[135769093,135769093],[135769127,135769127],[135770940,135770940],[135770951,135770951],[135776728,135776728],[135777504,135777504],[135829592,135829592],[135893372,135893372],[135952405,135952405],[135989721,135989721],[136136056,136136056],[136313639,136313639],[136401418,136401418],[136407078,136407078],[136420908,136420908],[136033790,136033790],[136103753,136103753],[136236633,136236633],[136277069,136277069],[136325737,136325737],[136393658,136393658],[136396300,136396300],[136401843,136401843],[136407445,136407445],[136411879,136411879],[136412270,136412270],[136413244,136413244],[136413847,136413847],[136415217,136415217],[136416533,136416533],[136420726,136420726],[136429857,136429857],[136433740,136433740],[136436317,136436317],[136437615,136437615],[136438517,136438517],[136440300,136440300],[136443900,136443900],[136444185,136444185],[136444338,136444338],[136449254,136449254],[136451676,136451676],[136459227,136459227],[136463117,136463117],[136463454,136463454],[136467119,136467119],[136468238,136468238],[136470219,136470219],[136483355,136483355],[136485276,136485276],[136486340,136486340],[136486342,136486342],[136494985,136494985],[136497199,136497199],[136511817,136511817],[136513670,136513670],[136515458,136515458],[136516970,136516970],[136525309,136525309],[136528034,136528034],[136532225,136532225],[136535235,136535235],[136536095,136536095],[136544423,136544423],[136546927,136546927],[136552188,136552188],[136552517,136552517],[136555525,136555525],[136556480,136556480],[136560464,136560464],[136572285,136572285],[136582694,136582694],[136582809,136582809],[136584538,136584538],[136585323,136585323],[136586825,136586825],[136600662,136600662],[136612036,136612036],[136618178,136618178],[136618507,136618507],[136622543,136622543],[136624947,136624947],[136625113,136625113],[136626078,136626078],[136628121,136628121],[136632300,136632300],[136633962,136633962],[136635343,136635343],[136638113,136638113],[136640101,136640101],[136641593,136641593],[136646582,136646582],[136648077,136648077],[136648883,136648883],[136652045,136652045],[136653848,136653848],[136656094,136656094],[136661110,136661110],[136663110,136663110],[136663605,136663605],[136665162,136665162],[136665711,136665711],[136668123,136668123],[136670419,136670419],[136672680,136672680],[136673546,136673546],[136684632,136684632],[136686114,136686114],[136690425,136690425],[136690783,136690783],[136692893,136692893],[136694905,136694905],[136695694,136695694],[136695705,136695705],[136696608,136696608],[136697372,136697372],[136697468,136697468],[136700024,136700024],[136701539,136701539],[136702118,136702118],[136707480,136707480],[136710554,136710554],[136714178,136714178],[136719173,136719173],[136725459,136725459],[136734569,136734569],[136744678,136744678],[136748779,136748779],[136751488,136751488],[136754183,136754183],[136763242,136763242],[136765074,136765074],[136773638,136773638],[136500475,136500475],[136501509,136501509],[136504101,136504101],[136509868,136509868],[136520043,136520043],[136527120,136527120],[136530379,136530379],[136530443,136530443],[136539330,136539330],[136539670,136539670],[136540083,136540083],[136542559,136542559],[136542560,136542560],[136506375,136506375],[136506927,136506927],[136510012,136510012],[136538939,136538939],[136535876,136535876],[136544651,136544651],[136545844,136545844],[136552526,136552526],[136553022,136553022],[136554797,136554797],[136554890,136554890],[136588031,136588031],[136589278,136589278],[136589379,136589379],[136589741,136589741],[136590746,136590746],[136593553,136593553],[136593678,136593678],[136652491,136652491],[136652524,136652524],[136661150,136661150],[136669264,136669264],[136726567,136726567],[136732772,136732772],[136652953,136652953],[136655582,136655582],[136674028,136674028],[136684940,136684940],[136761175,136761175],[136653925,136653925],[136654833,136654833],[136656534,136656534],[136656536,136656536],[136657252,136657252],[136667301,136667301],[136667487,136667487],[136672775,136672775],[136680534,136680534],[136686393,136686393],[136688749,136688749],[136692553,136692553],[136697371,136697371],[136708787,136708787],[136710372,136710372],[136711064,136711064],[136715324,136715324],[136723504,136723504],[136737460,136737460],[136743143,136743143],[136746224,136746224],[136751842,136751842],[136759379,136759379],[136761853,136761853]],\"ys\":[[550,596],[550,596],[550,596],[550,596],[550,596],[550,596],[550,596],[550,596],[550,596],[550,596],[550,596],[550,596],[550,596],[150,191],[150,191],[150,191],[150,191],[150,191],[150,191],[150,191],[150,191],[150,191],[50,67],[50,67],[50,67],[50,67],[50,67],[450,494],[450,494],[450,494],[450,494],[450,494],[450,494],[450,494],[450,494],[450,494],[450,494],[450,494],[450,494],[450,494],[450,494],[450,494],[450,494],[450,494],[450,494],[450,494],[450,494],[450,494],[450,494],[450,494],[450,494],[450,494],[450,494],[450,494],[450,494],[450,494],[450,494],[450,494],[450,494],[150,190],[150,190],[150,190],[150,190],[150,190],[150,190],[150,190],[150,190],[150,190],[150,190],[150,190],[150,190],[150,190],[150,190],[150,190],[150,190],[150,190],[150,190],[150,190],[150,190],[150,190],[150,190],[150,190],[150,190],[150,190],[150,190],[150,190],[150,190],[150,190],[150,190],[150,190],[150,190],[150,190],[150,190],[150,190],[150,190],[150,190],[150,190],[150,190],[150,190],[150,190],[150,190],[150,190],[150,190],[150,190],[150,190],[150,190],[150,190],[150,190],[150,190],[150,190],[150,190],[150,190],[150,190],[150,190],[150,190],[150,190],[150,190],[150,190],[150,190],[150,190],[150,190],[150,190],[150,190],[150,190],[150,190],[150,190],[150,190],[150,190],[150,190],[150,190],[150,190],[150,190],[150,190],[150,190],[150,190],[150,190],[150,190],[150,190],[150,190],[150,190],[250,293],[250,293],[250,293],[250,293],[250,293],[250,293],[250,293],[250,293],[250,293],[250,293],[250,293],[250,293],[250,293],[450,494],[450,494],[450,494],[450,494],[350,394],[350,394],[350,394],[350,394],[350,394],[350,394],[350,394],[550,596],[550,596],[550,596],[550,596],[550,596],[550,596],[550,596],[250,292],[250,292],[250,292],[250,292],[250,292],[250,292],[350,394],[350,394],[350,394],[350,394],[350,394],[550,595],[550,595],[550,595],[550,595],[550,595],[550,595],[550,595],[550,595],[550,595],[550,595],[550,595],[550,595],[550,595],[550,595],[550,595],[550,595],[550,595],[550,595],[550,595],[550,595],[550,595],[550,595],[550,595],[550,595]]}},\"id\":\"4760511b-0538-458c-9fa9-f86b67e27644\",\"type\":\"ColumnDataSource\"},{\"attributes\":{\"line_alpha\":{\"value\":0.1},\"line_color\":{\"value\":\"#1f77b4\"},\"xs\":{\"field\":\"xs\"},\"ys\":{\"field\":\"ys\"}},\"id\":\"e7341b50-2127-4bdb-9195-474383c4ec78\",\"type\":\"MultiLine\"},{\"attributes\":{\"callback\":null,\"end\":700},\"id\":\"412233a9-ecdd-4650-896a-0a9d842e4c7c\",\"type\":\"Range1d\"},{\"attributes\":{\"bottom\":{\"field\":\"bottom\"},\"fill_color\":{\"field\":\"fill_color\"},\"left\":{\"field\":\"left\"},\"line_color\":{\"value\":null},\"right\":{\"field\":\"right\"},\"top\":{\"field\":\"top\"}},\"id\":\"259acf17-6f65-41e6-b28f-ceee810dafe4\",\"type\":\"Quad\"},{\"attributes\":{\"plot\":{\"id\":\"e82f6308-f3ba-4cca-9248-e683fe467830\",\"subtype\":\"Figure\",\"type\":\"Plot\"}},\"id\":\"ed62f1d7-2d3b-41f6-aea6-f8b2667005d2\",\"type\":\"SaveTool\"},{\"attributes\":{\"plot\":{\"id\":\"e82f6308-f3ba-4cca-9248-e683fe467830\",\"subtype\":\"Figure\",\"type\":\"Plot\"}},\"id\":\"662cf6b7-ac3a-45b2-8bff-a0b23a31bf7d\",\"type\":\"WheelZoomTool\"},{\"attributes\":{},\"id\":\"9e1f05e8-d461-4f92-9aa5-c955b3ca5aeb\",\"type\":\"BasicTickFormatter\"},{\"attributes\":{\"bottom_units\":\"screen\",\"fill_alpha\":{\"value\":0.5},\"fill_color\":{\"value\":\"lightgrey\"},\"left_units\":\"screen\",\"level\":\"overlay\",\"line_alpha\":{\"value\":1.0},\"line_color\":{\"value\":\"black\"},\"line_dash\":[4,4],\"line_width\":{\"value\":2},\"plot\":null,\"render_mode\":\"css\",\"right_units\":\"screen\",\"top_units\":\"screen\"},\"id\":\"22da9b20-d317-4a9a-a5e3-6e3ba4b77d75\",\"type\":\"BoxAnnotation\"},{\"attributes\":{\"callback\":null,\"column_names\":[\"y\",\"x\",\"vals\"],\"data\":{\"vals\":[\"RAB3GAP1\",\"ZRANB3\",\"R3HDM1\",\"UBXN4\",\"LCT\",\"MCM6\",\"DARS\"],\"x\":[135869057.0,136122878.0,136385961.0,136520911.0,136570082.5,136615621.5,136703738.0],\"y\":[660.0,660.0,660.0,660.0,660.0,660.0,660.0]}},\"id\":\"cc66bcf7-a5ad-4539-8670-da5ccd47a73d\",\"type\":\"ColumnDataSource\"},{\"attributes\":{\"callback\":null,\"column_names\":[\"y\",\"x\",\"vals\"],\"data\":{\"vals\":[\"13_1696\",\"9_944\",\"5_60\",\"32_1361\",\"81_857\",\"13_1227\",\"4_1442\",\"7_1303\",\"7_1760\",\"6_1114\",\"5_1296\",\"24_1504\"],\"x\":[135757320,135829592,136033790,136393658,136494985,136500475,136506375,136535876,136588031,136652491,136652953,136653925],\"y\":[601.0,196.0,72.0,499.0,195.0,298.0,499.0,399.0,601.0,297.0,399.0,600.0]}},\"id\":\"5609727b-fdab-482e-abc1-d4ece0185d14\",\"type\":\"ColumnDataSource\"},{\"attributes\":{\"callback\":null,\"column_names\":[\"right\",\"bottom\",\"top\",\"left\"],\"data\":{\"bottom\":[645,645,645,645,645,645,645],\"left\":[135809835,135957574,136289083,136499189,136545415,136597196,136664254],\"right\":[135928279,136288182,136482839,136542633,136594750,136634047,136743222],\"top\":[675,675,675,675,675,675,675]}},\"id\":\"c250d2e6-606b-4bb1-8680-340e274b5dfb\",\"type\":\"ColumnDataSource\"},{\"attributes\":{\"formatter\":{\"id\":\"08ffd2f5-d283-46eb-8bcd-42783742ff5e\",\"type\":\"BasicTickFormatter\"},\"plot\":{\"id\":\"e82f6308-f3ba-4cca-9248-e683fe467830\",\"subtype\":\"Figure\",\"type\":\"Plot\"},\"ticker\":{\"id\":\"4983a7fa-c782-4332-bfc3-8292a19722c4\",\"type\":\"BasicTicker\"}},\"id\":\"304d5462-1375-43af-8cf5-4902b3f7598b\",\"type\":\"LinearAxis\"},{\"attributes\":{\"callback\":null,\"column_names\":[\"right\",\"bottom\",\"top\",\"left\",\"fill_color\"],\"data\":{\"bottom\":[550,150,50,450,150,250,450,350,550,250,350,550],\"fill_color\":[\"#808080\",\"#c4c461\",\"#00ffff\",\"#c4c461\",\"#808080\",\"#808080\",\"#808080\",\"#808080\",\"#c46161\",\"#808080\",\"#808080\",\"#808080\"],\"left\":[135757320,135829592,136033790,136393658,136494985,136500475,136506375,136535876,136588031,136652491,136652953,136653925],\"right\":[135777504,136420908,136325737,136486342,136773638,136542560,136538939,136554890,136593678,136732772,136761175,136761853],\"top\":[596,191,67,494,190,293,494,394,596,292,394,595]}},\"id\":\"68cb027b-156d-452d-84a6-5ad4ed64d429\",\"type\":\"ColumnDataSource\"},{\"attributes\":{\"level\":\"glyph\",\"plot\":{\"id\":\"e82f6308-f3ba-4cca-9248-e683fe467830\",\"subtype\":\"Figure\",\"type\":\"Plot\"},\"source\":{\"id\":\"cc66bcf7-a5ad-4539-8670-da5ccd47a73d\",\"type\":\"ColumnDataSource\"},\"text\":{\"field\":\"vals\"},\"text_align\":\"center\",\"text_baseline\":\"middle\",\"text_font_size\":{\"value\":\"8pt\"},\"x\":{\"field\":\"x\"},\"y\":{\"field\":\"y\"}},\"id\":\"71b0fef8-6c15-4bb9-9549-c264fb5929a6\",\"type\":\"LabelSet\"},{\"attributes\":{},\"id\":\"fbcabaad-f639-4fd8-9a23-4790d251a0db\",\"type\":\"BasicTicker\"},{\"attributes\":{\"bottom\":{\"field\":\"bottom\"},\"fill_alpha\":{\"value\":0.1},\"fill_color\":{\"value\":\"#1f77b4\"},\"left\":{\"field\":\"left\"},\"line_alpha\":{\"value\":0.1},\"line_color\":{\"value\":\"#1f77b4\"},\"right\":{\"field\":\"right\"},\"top\":{\"field\":\"top\"}},\"id\":\"8bc34c03-fd22-44b0-878a-89a4fe144183\",\"type\":\"Quad\"},{\"attributes\":{\"below\":[{\"id\":\"304d5462-1375-43af-8cf5-4902b3f7598b\",\"type\":\"LinearAxis\"}],\"left\":[{\"id\":\"22eea29f-d64f-459a-8482-fdbda85a8ffa\",\"type\":\"LinearAxis\"}],\"plot_height\":700,\"plot_width\":900,\"renderers\":[{\"id\":\"304d5462-1375-43af-8cf5-4902b3f7598b\",\"type\":\"LinearAxis\"},{\"id\":\"6a4314c2-c923-4479-bb38-e213a31323b4\",\"type\":\"Grid\"},{\"id\":\"22eea29f-d64f-459a-8482-fdbda85a8ffa\",\"type\":\"LinearAxis\"},{\"id\":\"971e095a-83d8-4f93-990a-d5019004f77c\",\"type\":\"Grid\"},{\"id\":\"22da9b20-d317-4a9a-a5e3-6e3ba4b77d75\",\"type\":\"BoxAnnotation\"},{\"id\":\"e1440988-6349-47ff-8486-690ff2d8aa33\",\"type\":\"GlyphRenderer\"},{\"id\":\"acb51b86-33db-4edd-b9b1-124fbacdd800\",\"type\":\"GlyphRenderer\"},{\"id\":\"d184045c-6d4d-4de6-b536-1303f4dafbf2\",\"type\":\"LabelSet\"},{\"id\":\"54a4c449-f9c9-4dc4-bed0-7a73546d7b95\",\"type\":\"GlyphRenderer\"},{\"id\":\"71b0fef8-6c15-4bb9-9549-c264fb5929a6\",\"type\":\"LabelSet\"}],\"title\":{\"id\":\"1ae1bfcb-7e63-497b-8e12-7291b3d06c4e\",\"type\":\"Title\"},\"tool_events\":{\"id\":\"c5cc6c6b-7293-4cdf-bf26-4ae4eda0c9c8\",\"type\":\"ToolEvents\"},\"toolbar\":{\"id\":\"2b005614-e2db-4185-a622-f7b4d6b0c300\",\"type\":\"Toolbar\"},\"toolbar_location\":null,\"x_range\":{\"id\":\"3a27f325-f713-4087-8bc4-8f564f832cd1\",\"type\":\"Range1d\"},\"y_range\":{\"id\":\"412233a9-ecdd-4650-896a-0a9d842e4c7c\",\"type\":\"Range1d\"}},\"id\":\"e82f6308-f3ba-4cca-9248-e683fe467830\",\"subtype\":\"Figure\",\"type\":\"Plot\"},{\"attributes\":{\"plot\":{\"id\":\"e82f6308-f3ba-4cca-9248-e683fe467830\",\"subtype\":\"Figure\",\"type\":\"Plot\"},\"ticker\":{\"id\":\"4983a7fa-c782-4332-bfc3-8292a19722c4\",\"type\":\"BasicTicker\"}},\"id\":\"6a4314c2-c923-4479-bb38-e213a31323b4\",\"type\":\"Grid\"},{\"attributes\":{\"active_drag\":\"auto\",\"active_scroll\":\"auto\",\"active_tap\":\"auto\",\"tools\":[{\"id\":\"658931ca-b6f9-42f7-bb44-618f9cf71a14\",\"type\":\"PanTool\"},{\"id\":\"662cf6b7-ac3a-45b2-8bff-a0b23a31bf7d\",\"type\":\"WheelZoomTool\"},{\"id\":\"21fc0ee1-d7e5-44a0-ac59-4ffcf3d2f962\",\"type\":\"BoxZoomTool\"},{\"id\":\"ed62f1d7-2d3b-41f6-aea6-f8b2667005d2\",\"type\":\"SaveTool\"},{\"id\":\"2256970c-ee0d-462d-bccf-fb95bfaa18d3\",\"type\":\"ResetTool\"},{\"id\":\"a49e6721-7870-4935-814a-398008040427\",\"type\":\"HelpTool\"}]},\"id\":\"2b005614-e2db-4185-a622-f7b4d6b0c300\",\"type\":\"Toolbar\"},{\"attributes\":{\"overlay\":{\"id\":\"22da9b20-d317-4a9a-a5e3-6e3ba4b77d75\",\"type\":\"BoxAnnotation\"},\"plot\":{\"id\":\"e82f6308-f3ba-4cca-9248-e683fe467830\",\"subtype\":\"Figure\",\"type\":\"Plot\"}},\"id\":\"21fc0ee1-d7e5-44a0-ac59-4ffcf3d2f962\",\"type\":\"BoxZoomTool\"},{\"attributes\":{\"plot\":{\"id\":\"e82f6308-f3ba-4cca-9248-e683fe467830\",\"subtype\":\"Figure\",\"type\":\"Plot\"}},\"id\":\"2256970c-ee0d-462d-bccf-fb95bfaa18d3\",\"type\":\"ResetTool\"},{\"attributes\":{\"formatter\":{\"id\":\"9e1f05e8-d461-4f92-9aa5-c955b3ca5aeb\",\"type\":\"BasicTickFormatter\"},\"plot\":{\"id\":\"e82f6308-f3ba-4cca-9248-e683fe467830\",\"subtype\":\"Figure\",\"type\":\"Plot\"},\"ticker\":{\"id\":\"fbcabaad-f639-4fd8-9a23-4790d251a0db\",\"type\":\"BasicTicker\"},\"visible\":null},\"id\":\"22eea29f-d64f-459a-8482-fdbda85a8ffa\",\"type\":\"LinearAxis\"},{\"attributes\":{\"level\":\"glyph\",\"plot\":{\"id\":\"e82f6308-f3ba-4cca-9248-e683fe467830\",\"subtype\":\"Figure\",\"type\":\"Plot\"},\"source\":{\"id\":\"5609727b-fdab-482e-abc1-d4ece0185d14\",\"type\":\"ColumnDataSource\"},\"text\":{\"field\":\"vals\"},\"text_font_size\":{\"value\":\"9pt\"},\"text_font_style\":\"bold\",\"x\":{\"field\":\"x\"},\"y\":{\"field\":\"y\"}},\"id\":\"d184045c-6d4d-4de6-b536-1303f4dafbf2\",\"type\":\"LabelSet\"},{\"attributes\":{\"callback\":null,\"end\":136786630,\"start\":135757320},\"id\":\"3a27f325-f713-4087-8bc4-8f564f832cd1\",\"type\":\"Range1d\"},{\"attributes\":{\"plot\":{\"id\":\"e82f6308-f3ba-4cca-9248-e683fe467830\",\"subtype\":\"Figure\",\"type\":\"Plot\"}},\"id\":\"a49e6721-7870-4935-814a-398008040427\",\"type\":\"HelpTool\"},{\"attributes\":{\"plot\":null,\"text\":null},\"id\":\"1ae1bfcb-7e63-497b-8e12-7291b3d06c4e\",\"type\":\"Title\"},{\"attributes\":{\"data_source\":{\"id\":\"4760511b-0538-458c-9fa9-f86b67e27644\",\"type\":\"ColumnDataSource\"},\"glyph\":{\"id\":\"2fd71e56-7fe5-4050-8396-2cbabacb084f\",\"type\":\"MultiLine\"},\"hover_glyph\":null,\"nonselection_glyph\":{\"id\":\"e7341b50-2127-4bdb-9195-474383c4ec78\",\"type\":\"MultiLine\"},\"selection_glyph\":null},\"id\":\"acb51b86-33db-4edd-b9b1-124fbacdd800\",\"type\":\"GlyphRenderer\"},{\"attributes\":{\"bottom\":{\"field\":\"bottom\"},\"fill_alpha\":{\"value\":0.1},\"fill_color\":{\"value\":\"#1f77b4\"},\"left\":{\"field\":\"left\"},\"line_alpha\":{\"value\":0.1},\"line_color\":{\"value\":\"#1f77b4\"},\"right\":{\"field\":\"right\"},\"top\":{\"field\":\"top\"}},\"id\":\"cfbddfe6-0134-4347-a214-12a56eaf6801\",\"type\":\"Quad\"},{\"attributes\":{},\"id\":\"c5cc6c6b-7293-4cdf-bf26-4ae4eda0c9c8\",\"type\":\"ToolEvents\"},{\"attributes\":{\"bottom\":{\"field\":\"bottom\"},\"fill_color\":{\"value\":\"white\"},\"left\":{\"field\":\"left\"},\"right\":{\"field\":\"right\"},\"top\":{\"field\":\"top\"}},\"id\":\"48b18f36-3db7-443e-bf21-611a2e0f958e\",\"type\":\"Quad\"},{\"attributes\":{},\"id\":\"08ffd2f5-d283-46eb-8bcd-42783742ff5e\",\"type\":\"BasicTickFormatter\"},{\"attributes\":{\"line_color\":{\"field\":\"line_color\"},\"xs\":{\"field\":\"xs\"},\"ys\":{\"field\":\"ys\"}},\"id\":\"2fd71e56-7fe5-4050-8396-2cbabacb084f\",\"type\":\"MultiLine\"},{\"attributes\":{\"data_source\":{\"id\":\"68cb027b-156d-452d-84a6-5ad4ed64d429\",\"type\":\"ColumnDataSource\"},\"glyph\":{\"id\":\"259acf17-6f65-41e6-b28f-ceee810dafe4\",\"type\":\"Quad\"},\"hover_glyph\":null,\"nonselection_glyph\":{\"id\":\"8bc34c03-fd22-44b0-878a-89a4fe144183\",\"type\":\"Quad\"},\"selection_glyph\":null},\"id\":\"e1440988-6349-47ff-8486-690ff2d8aa33\",\"type\":\"GlyphRenderer\"},{\"attributes\":{\"plot\":{\"id\":\"e82f6308-f3ba-4cca-9248-e683fe467830\",\"subtype\":\"Figure\",\"type\":\"Plot\"}},\"id\":\"658931ca-b6f9-42f7-bb44-618f9cf71a14\",\"type\":\"PanTool\"},{\"attributes\":{},\"id\":\"4983a7fa-c782-4332-bfc3-8292a19722c4\",\"type\":\"BasicTicker\"}],\"root_ids\":[\"e82f6308-f3ba-4cca-9248-e683fe467830\"]},\"title\":\"Bokeh Application\",\"version\":\"0.12.0\"}};\n",
       "            var render_items = [{\"docid\":\"d14a5581-2dc5-4680-bfe6-8b5c54f0617c\",\"elementid\":\"dbf5d851-74b1-4fa1-ab54-0a6b00b16687\",\"modelid\":\"e82f6308-f3ba-4cca-9248-e683fe467830\",\"notebook_comms_target\":\"8f75d904-e82c-42e1-a0f3-884e55c78954\"}];\n",
       "            \n",
       "            Bokeh.embed.embed_items(docs_json, render_items);\n",
       "        });\n",
       "      },\n",
       "      function(Bokeh) {\n",
       "      }\n",
       "    ];\n",
       "  \n",
       "    function run_inline_js() {\n",
       "      for (var i = 0; i < inline_js.length; i++) {\n",
       "        inline_js[i](window.Bokeh);\n",
       "      }\n",
       "    }\n",
       "  \n",
       "    if (window._bokeh_is_loading === 0) {\n",
       "      console.log(\"Bokeh: BokehJS loaded, going straight to plotting\");\n",
       "      run_inline_js();\n",
       "    } else {\n",
       "      load_libs(js_urls, function() {\n",
       "        console.log(\"Bokeh: BokehJS plotting callback run at\", now());\n",
       "        run_inline_js();\n",
       "      });\n",
       "    }\n",
       "  }(this));\n",
       "</script>"
      ]
     },
     "metadata": {},
     "output_type": "display_data"
    },
    {
     "data": {
      "text/html": [
       "<p><code>&lt;Bokeh Notebook handle for <strong>In[5]</strong>&gt;</code></p>"
      ],
      "text/plain": [
       "<bokeh.io._CommsHandle at 0x7fc7c5ce0f50>"
      ]
     },
     "execution_count": 5,
     "metadata": {},
     "output_type": "execute_result"
    }
   ],
   "source": [
    "di_4_26 = 354116\n",
    "plt_obj = dm.superset_yes_no([di_5_60, dm.di_13_1696, dm.di_4_1442, dm.di_81_857], \n",
    "                             [di_4_26], min_match=0.001)\n",
    "plt = plt_obj.do_plot()\n",
    "show(plt)"
   ]
  },
  {
   "cell_type": "code",
   "execution_count": 6,
   "metadata": {
    "collapsed": false
   },
   "outputs": [
    {
     "data": {
      "text/html": [
       "<table>\n",
       "<thead><tr><th style=\"text-align:center\">index</th><th style=\"text-align:center\">first</th><th style=\"text-align:center\">length</th><th style=\"text-align:center\">snps</th><th style=\"text-align:center\" colspan=2>alleles</th><th style=\"text-align:center\" colspan=2>matches</th><th style=\"text-align:center\" colspan=2>afr</th><th style=\"text-align:center\" colspan=2>afx</th><th style=\"text-align:center\" colspan=2>amr</th><th style=\"text-align:center\" colspan=2>eas</th><th style=\"text-align:center\" colspan=2>eur</th><th style=\"text-align:center\" colspan=2>sas</th><th style=\"text-align:center\" colspan=2>sax</th></tr></thead>\n",
       "<tr class=\"even\"><td style=\"text-align: right;\">354033</td><td style=\"text-align: right;\">136,588,031</td><td style=\"text-align: right;\">5,647</td><td style=\"text-align: right;\">7</td><td style=\"text-align: right;\">1760</td><td style=\"text-align: right;\">0.03</td><td style=\"text-align: right;\">51</td><td style=\"text-align: right;\">1.00</td><td style=\"text-align: right;\">0</td><td style=\"text-align: right;\">0.00</td><td style=\"text-align: right;\">2</td><td style=\"text-align: right;\">0.62</td><td style=\"text-align: right;\">4</td><td style=\"text-align: right;\">0.57</td><td style=\"text-align: right;\">1</td><td style=\"text-align: right;\">0.10</td><td style=\"text-align: right;\">14</td><td style=\"text-align: right;\">1.38</td><td style=\"text-align: right;\">8</td><td style=\"text-align: right;\">2.17</td><td style=\"text-align: right;\">22</td><td style=\"text-align: right;\">3.52</td></tr>\n",
       "<tr><td style=\"text-align: right;\">353240</td><td style=\"text-align: right;\">135,757,320</td><td style=\"text-align: right;\">20,184</td><td style=\"text-align: right;\">13</td><td style=\"text-align: right;\">1696</td><td style=\"text-align: right;\">0.03</td><td style=\"text-align: right;\">51</td><td style=\"text-align: right;\">1.00</td><td style=\"text-align: right;\">0</td><td style=\"text-align: right;\">0.00</td><td style=\"text-align: right;\">2</td><td style=\"text-align: right;\">0.62</td><td style=\"text-align: right;\">4</td><td style=\"text-align: right;\">0.57</td><td style=\"text-align: right;\">1</td><td style=\"text-align: right;\">0.10</td><td style=\"text-align: right;\">14</td><td style=\"text-align: right;\">1.38</td><td style=\"text-align: right;\">8</td><td style=\"text-align: right;\">2.17</td><td style=\"text-align: right;\">22</td><td style=\"text-align: right;\">3.52</td></tr>\n",
       "<tr class=\"even\"><td style=\"text-align: right;\">354130</td><td style=\"text-align: right;\">136,653,925</td><td style=\"text-align: right;\">107,928</td><td style=\"text-align: right;\">24</td><td style=\"text-align: right;\">1504</td><td style=\"text-align: right;\">0.03</td><td style=\"text-align: right;\">51</td><td style=\"text-align: right;\">1.00</td><td style=\"text-align: right;\">0</td><td style=\"text-align: right;\">0.00</td><td style=\"text-align: right;\">2</td><td style=\"text-align: right;\">0.62</td><td style=\"text-align: right;\">4</td><td style=\"text-align: right;\">0.57</td><td style=\"text-align: right;\">1</td><td style=\"text-align: right;\">0.10</td><td style=\"text-align: right;\">14</td><td style=\"text-align: right;\">1.38</td><td style=\"text-align: right;\">8</td><td style=\"text-align: right;\">2.17</td><td style=\"text-align: right;\">22</td><td style=\"text-align: right;\">3.52</td></tr>\n",
       "<tr><td style=\"text-align: right;\">353925</td><td style=\"text-align: right;\">136,506,375</td><td style=\"text-align: right;\">32,564</td><td style=\"text-align: right;\">4</td><td style=\"text-align: right;\">1442</td><td style=\"text-align: right;\">0.04</td><td style=\"text-align: right;\">51</td><td style=\"text-align: right;\">1.00</td><td style=\"text-align: right;\">0</td><td style=\"text-align: right;\">0.00</td><td style=\"text-align: right;\">2</td><td style=\"text-align: right;\">0.62</td><td style=\"text-align: right;\">4</td><td style=\"text-align: right;\">0.57</td><td style=\"text-align: right;\">1</td><td style=\"text-align: right;\">0.10</td><td style=\"text-align: right;\">14</td><td style=\"text-align: right;\">1.38</td><td style=\"text-align: right;\">8</td><td style=\"text-align: right;\">2.17</td><td style=\"text-align: right;\">22</td><td style=\"text-align: right;\">3.52</td></tr>\n",
       "<tr class=\"even\"><td style=\"text-align: right;\">353791</td><td style=\"text-align: right;\">136,393,658</td><td style=\"text-align: right;\">92,684</td><td style=\"text-align: right;\">32</td><td style=\"text-align: right;\">1361</td><td style=\"text-align: right;\">0.04</td><td style=\"text-align: right;\">51</td><td style=\"text-align: right;\">1.00</td><td style=\"text-align: right;\">0</td><td style=\"text-align: right;\">0.00</td><td style=\"text-align: right;\">2</td><td style=\"text-align: right;\">0.62</td><td style=\"text-align: right;\">4</td><td style=\"text-align: right;\">0.57</td><td style=\"text-align: right;\">1</td><td style=\"text-align: right;\">0.10</td><td style=\"text-align: right;\">14</td><td style=\"text-align: right;\">1.38</td><td style=\"text-align: right;\">8</td><td style=\"text-align: right;\">2.17</td><td style=\"text-align: right;\">22</td><td style=\"text-align: right;\">3.52</td></tr>\n",
       "<tr><td style=\"text-align: right;\">353958</td><td style=\"text-align: right;\">136,535,876</td><td style=\"text-align: right;\">19,014</td><td style=\"text-align: right;\">7</td><td style=\"text-align: right;\">1303</td><td style=\"text-align: right;\">0.04</td><td style=\"text-align: right;\">51</td><td style=\"text-align: right;\">1.00</td><td style=\"text-align: right;\">0</td><td style=\"text-align: right;\">0.00</td><td style=\"text-align: right;\">2</td><td style=\"text-align: right;\">0.62</td><td style=\"text-align: right;\">4</td><td style=\"text-align: right;\">0.57</td><td style=\"text-align: right;\">1</td><td style=\"text-align: right;\">0.10</td><td style=\"text-align: right;\">14</td><td style=\"text-align: right;\">1.38</td><td style=\"text-align: right;\">8</td><td style=\"text-align: right;\">2.17</td><td style=\"text-align: right;\">22</td><td style=\"text-align: right;\">3.52</td></tr>\n",
       "<tr class=\"even\"><td style=\"text-align: right;\">354129</td><td style=\"text-align: right;\">136,652,953</td><td style=\"text-align: right;\">108,222</td><td style=\"text-align: right;\">5</td><td style=\"text-align: right;\">1296</td><td style=\"text-align: right;\">0.04</td><td style=\"text-align: right;\">51</td><td style=\"text-align: right;\">1.00</td><td style=\"text-align: right;\">0</td><td style=\"text-align: right;\">0.00</td><td style=\"text-align: right;\">2</td><td style=\"text-align: right;\">0.62</td><td style=\"text-align: right;\">4</td><td style=\"text-align: right;\">0.57</td><td style=\"text-align: right;\">1</td><td style=\"text-align: right;\">0.10</td><td style=\"text-align: right;\">14</td><td style=\"text-align: right;\">1.38</td><td style=\"text-align: right;\">8</td><td style=\"text-align: right;\">2.17</td><td style=\"text-align: right;\">22</td><td style=\"text-align: right;\">3.52</td></tr>\n",
       "<tr><td style=\"text-align: right;\">353919</td><td style=\"text-align: right;\">136,500,475</td><td style=\"text-align: right;\">42,085</td><td style=\"text-align: right;\">13</td><td style=\"text-align: right;\">1227</td><td style=\"text-align: right;\">0.04</td><td style=\"text-align: right;\">51</td><td style=\"text-align: right;\">1.00</td><td style=\"text-align: right;\">0</td><td style=\"text-align: right;\">0.00</td><td style=\"text-align: right;\">2</td><td style=\"text-align: right;\">0.62</td><td style=\"text-align: right;\">4</td><td style=\"text-align: right;\">0.57</td><td style=\"text-align: right;\">1</td><td style=\"text-align: right;\">0.10</td><td style=\"text-align: right;\">14</td><td style=\"text-align: right;\">1.38</td><td style=\"text-align: right;\">8</td><td style=\"text-align: right;\">2.17</td><td style=\"text-align: right;\">22</td><td style=\"text-align: right;\">3.52</td></tr>\n",
       "<tr class=\"even\"><td style=\"text-align: right;\">354127</td><td style=\"text-align: right;\">136,652,491</td><td style=\"text-align: right;\">80,281</td><td style=\"text-align: right;\">6</td><td style=\"text-align: right;\">1114</td><td style=\"text-align: right;\">0.05</td><td style=\"text-align: right;\">51</td><td style=\"text-align: right;\">1.00</td><td style=\"text-align: right;\">0</td><td style=\"text-align: right;\">0.00</td><td style=\"text-align: right;\">2</td><td style=\"text-align: right;\">0.62</td><td style=\"text-align: right;\">4</td><td style=\"text-align: right;\">0.57</td><td style=\"text-align: right;\">1</td><td style=\"text-align: right;\">0.10</td><td style=\"text-align: right;\">14</td><td style=\"text-align: right;\">1.38</td><td style=\"text-align: right;\">8</td><td style=\"text-align: right;\">2.17</td><td style=\"text-align: right;\">22</td><td style=\"text-align: right;\">3.52</td></tr>\n",
       "<tr><td style=\"text-align: right;\">353372</td><td style=\"text-align: right;\">135,829,592</td><td style=\"text-align: right;\">591,316</td><td style=\"text-align: right;\">9</td><td style=\"text-align: right;\">944</td><td style=\"text-align: right;\">0.05</td><td style=\"text-align: right;\">51</td><td style=\"text-align: right;\">1.00</td><td style=\"text-align: right;\">0</td><td style=\"text-align: right;\">0.00</td><td style=\"text-align: right;\">2</td><td style=\"text-align: right;\">0.62</td><td style=\"text-align: right;\">4</td><td style=\"text-align: right;\">0.57</td><td style=\"text-align: right;\">1</td><td style=\"text-align: right;\">0.10</td><td style=\"text-align: right;\">14</td><td style=\"text-align: right;\">1.38</td><td style=\"text-align: right;\">8</td><td style=\"text-align: right;\">2.17</td><td style=\"text-align: right;\">22</td><td style=\"text-align: right;\">3.52</td></tr>\n",
       "<tr class=\"even\"><td style=\"text-align: right;\">353902</td><td style=\"text-align: right;\">136,494,985</td><td style=\"text-align: right;\">278,653</td><td style=\"text-align: right;\">81</td><td style=\"text-align: right;\">857</td><td style=\"text-align: right;\">0.06</td><td style=\"text-align: right;\">51</td><td style=\"text-align: right;\">1.00</td><td style=\"text-align: right;\">0</td><td style=\"text-align: right;\">0.00</td><td style=\"text-align: right;\">2</td><td style=\"text-align: right;\">0.62</td><td style=\"text-align: right;\">4</td><td style=\"text-align: right;\">0.57</td><td style=\"text-align: right;\">1</td><td style=\"text-align: right;\">0.10</td><td style=\"text-align: right;\">14</td><td style=\"text-align: right;\">1.38</td><td style=\"text-align: right;\">8</td><td style=\"text-align: right;\">2.17</td><td style=\"text-align: right;\">22</td><td style=\"text-align: right;\">3.52</td></tr>\n",
       "<tr><td style=\"text-align: right;\">353564</td><td style=\"text-align: right;\">136,033,790</td><td style=\"text-align: right;\">291,947</td><td style=\"text-align: right;\">5</td><td style=\"text-align: right;\">60</td><td style=\"text-align: right;\">0.85</td><td style=\"text-align: right;\">51</td><td style=\"text-align: right;\">1.00</td><td style=\"text-align: right;\">0</td><td style=\"text-align: right;\">0.00</td><td style=\"text-align: right;\">2</td><td style=\"text-align: right;\">0.62</td><td style=\"text-align: right;\">4</td><td style=\"text-align: right;\">0.57</td><td style=\"text-align: right;\">1</td><td style=\"text-align: right;\">0.10</td><td style=\"text-align: right;\">14</td><td style=\"text-align: right;\">1.38</td><td style=\"text-align: right;\">8</td><td style=\"text-align: right;\">2.17</td><td style=\"text-align: right;\">22</td><td style=\"text-align: right;\">3.52</td></tr>\n",
       "</table>"
      ],
      "text/plain": [
       "<IPython.core.display.HTML object>"
      ]
     },
     "execution_count": 6,
     "metadata": {},
     "output_type": "execute_result"
    }
   ],
   "source": [
    "HTML(plt_obj.get_html())"
   ]
  },
  {
   "cell_type": "code",
   "execution_count": 7,
   "metadata": {
    "collapsed": false
   },
   "outputs": [
    {
     "data": {
      "text/html": [
       "\n",
       "\n",
       "    <div class=\"bk-root\">\n",
       "        <div class=\"plotdiv\" id=\"4c7afd2d-cd09-45d5-80b7-8276577518aa\"></div>\n",
       "    </div>\n",
       "<script type=\"text/javascript\">\n",
       "  \n",
       "  (function(global) {\n",
       "    function now() {\n",
       "      return new Date();\n",
       "    }\n",
       "  \n",
       "    if (typeof (window._bokeh_onload_callbacks) === \"undefined\") {\n",
       "      window._bokeh_onload_callbacks = [];\n",
       "    }\n",
       "  \n",
       "    function run_callbacks() {\n",
       "      window._bokeh_onload_callbacks.forEach(function(callback) { callback() });\n",
       "      delete window._bokeh_onload_callbacks\n",
       "      console.info(\"Bokeh: all callbacks have finished\");\n",
       "    }\n",
       "  \n",
       "    function load_libs(js_urls, callback) {\n",
       "      window._bokeh_onload_callbacks.push(callback);\n",
       "      if (window._bokeh_is_loading > 0) {\n",
       "        console.log(\"Bokeh: BokehJS is being loaded, scheduling callback at\", now());\n",
       "        return null;\n",
       "      }\n",
       "      if (js_urls == null || js_urls.length === 0) {\n",
       "        run_callbacks();\n",
       "        return null;\n",
       "      }\n",
       "      console.log(\"Bokeh: BokehJS not loaded, scheduling load and callback at\", now());\n",
       "      window._bokeh_is_loading = js_urls.length;\n",
       "      for (var i = 0; i < js_urls.length; i++) {\n",
       "        var url = js_urls[i];\n",
       "        var s = document.createElement('script');\n",
       "        s.src = url;\n",
       "        s.async = false;\n",
       "        s.onreadystatechange = s.onload = function() {\n",
       "          window._bokeh_is_loading--;\n",
       "          if (window._bokeh_is_loading === 0) {\n",
       "            console.log(\"Bokeh: all BokehJS libraries loaded\");\n",
       "            run_callbacks()\n",
       "          }\n",
       "        };\n",
       "        s.onerror = function() {\n",
       "          console.warn(\"failed to load library \" + url);\n",
       "        };\n",
       "        console.log(\"Bokeh: injecting script tag for BokehJS library: \", url);\n",
       "        document.getElementsByTagName(\"head\")[0].appendChild(s);\n",
       "      }\n",
       "    };var element = document.getElementById(\"4c7afd2d-cd09-45d5-80b7-8276577518aa\");\n",
       "    if (element == null) {\n",
       "      console.log(\"Bokeh: ERROR: autoload.js configured with elementid '4c7afd2d-cd09-45d5-80b7-8276577518aa' but no matching script tag was found. \")\n",
       "      return false;\n",
       "    }\n",
       "  \n",
       "    var js_urls = [];\n",
       "  \n",
       "    var inline_js = [\n",
       "      function(Bokeh) {\n",
       "        Bokeh.$(function() {\n",
       "            var docs_json = {\"bd9feeca-ca41-4e83-b4f0-07765a74e562\":{\"roots\":{\"references\":[{\"attributes\":{\"plot\":{\"id\":\"7197474a-84d4-4b46-aa3f-70dd06e0331f\",\"subtype\":\"Figure\",\"type\":\"Plot\"}},\"id\":\"1c44eb27-241c-4cda-90f1-54e51d6f9b59\",\"type\":\"SaveTool\"},{\"attributes\":{\"plot\":{\"id\":\"7197474a-84d4-4b46-aa3f-70dd06e0331f\",\"subtype\":\"Figure\",\"type\":\"Plot\"},\"ticker\":{\"id\":\"e7b3ae14-ab89-4164-b791-2d5f423ec927\",\"type\":\"BasicTicker\"}},\"id\":\"b603c548-e994-4e39-a108-9f2cc3fb9b8c\",\"type\":\"Grid\"},{\"attributes\":{\"plot\":{\"id\":\"7197474a-84d4-4b46-aa3f-70dd06e0331f\",\"subtype\":\"Figure\",\"type\":\"Plot\"}},\"id\":\"b342954e-05dc-467d-8391-66a53a7c7d05\",\"type\":\"PanTool\"},{\"attributes\":{\"data_source\":{\"id\":\"62ca7641-0267-4c9e-b516-a4ea9e3ec11b\",\"type\":\"ColumnDataSource\"},\"glyph\":{\"id\":\"f395a3c4-3fdc-489f-80e0-a033af6411e4\",\"type\":\"Quad\"},\"hover_glyph\":null,\"nonselection_glyph\":{\"id\":\"5af54fc0-7401-4c3e-9efb-cb70ed5f29b3\",\"type\":\"Quad\"},\"selection_glyph\":null},\"id\":\"2be9f71e-731f-4f78-9fa2-3c518514bf77\",\"type\":\"GlyphRenderer\"},{\"attributes\":{\"bottom_units\":\"screen\",\"fill_alpha\":{\"value\":0.5},\"fill_color\":{\"value\":\"lightgrey\"},\"left_units\":\"screen\",\"level\":\"overlay\",\"line_alpha\":{\"value\":1.0},\"line_color\":{\"value\":\"black\"},\"line_dash\":[4,4],\"line_width\":{\"value\":2},\"plot\":null,\"render_mode\":\"css\",\"right_units\":\"screen\",\"top_units\":\"screen\"},\"id\":\"a031271c-71db-4040-8683-d2c46cd11055\",\"type\":\"BoxAnnotation\"},{\"attributes\":{\"bottom\":{\"field\":\"bottom\"},\"fill_alpha\":{\"value\":0.1},\"fill_color\":{\"value\":\"#1f77b4\"},\"left\":{\"field\":\"left\"},\"line_alpha\":{\"value\":0.1},\"line_color\":{\"value\":\"#1f77b4\"},\"right\":{\"field\":\"right\"},\"top\":{\"field\":\"top\"}},\"id\":\"c78bb31c-44a7-49c3-8aaa-c98bfbb452db\",\"type\":\"Quad\"},{\"attributes\":{\"data_source\":{\"id\":\"8afe482b-397b-49d3-9e9b-6b88ff222c7c\",\"type\":\"ColumnDataSource\"},\"glyph\":{\"id\":\"050a98d4-d486-4dcc-bf68-bd1b728bc5d9\",\"type\":\"MultiLine\"},\"hover_glyph\":null,\"nonselection_glyph\":{\"id\":\"f3714fdb-b95f-48c0-9964-19c93167564f\",\"type\":\"MultiLine\"},\"selection_glyph\":null},\"id\":\"87f559de-757c-41fa-ab4f-6909b7017e09\",\"type\":\"GlyphRenderer\"},{\"attributes\":{\"callback\":null,\"column_names\":[\"xs\",\"ys\",\"line_color\"],\"data\":{\"line_color\":[\"black\",\"black\",\"black\",\"black\",\"black\",\"black\",\"black\",\"black\",\"black\",\"black\",\"black\",\"black\",\"black\",\"black\",\"black\",\"black\",\"black\",\"black\",\"black\",\"black\",\"black\",\"black\",\"black\",\"black\",\"black\",\"black\",\"black\",\"black\",\"black\",\"black\",\"black\",\"black\",\"black\",\"black\",\"black\",\"black\",\"black\",\"black\",\"black\",\"black\",\"black\",\"black\",\"black\",\"black\",\"black\",\"black\",\"black\",\"black\",\"black\",\"black\",\"black\",\"black\",\"black\",\"black\",\"black\",\"black\",\"black\",\"black\",\"black\",\"black\",\"black\",\"black\",\"black\",\"black\",\"black\",\"black\",\"black\",\"black\",\"black\",\"black\",\"black\",\"black\",\"black\",\"black\",\"black\",\"black\",\"black\",\"black\",\"black\",\"black\",\"black\",\"black\",\"black\",\"black\",\"black\",\"black\",\"black\",\"black\",\"black\",\"black\",\"black\",\"black\",\"black\",\"black\",\"black\",\"black\",\"black\",\"black\",\"black\",\"black\",\"black\",\"black\",\"black\",\"black\",\"black\",\"black\",\"black\",\"black\",\"black\",\"black\",\"black\",\"black\",\"black\",\"black\",\"black\",\"black\",\"black\",\"black\",\"black\",\"black\",\"black\",\"black\",\"black\",\"black\",\"black\",\"black\",\"black\",\"black\",\"black\",\"black\",\"black\",\"black\",\"black\",\"black\",\"black\",\"black\",\"black\",\"black\",\"black\",\"black\",\"black\",\"black\",\"black\",\"black\",\"black\",\"black\",\"black\",\"black\",\"black\",\"black\",\"black\",\"black\",\"black\",\"black\",\"black\",\"black\",\"black\",\"black\",\"black\",\"black\",\"black\",\"black\",\"black\",\"black\",\"black\",\"black\",\"black\",\"black\",\"black\",\"black\",\"black\",\"black\",\"black\",\"black\",\"black\",\"black\",\"black\",\"black\",\"black\",\"black\",\"black\",\"black\",\"black\",\"black\",\"black\",\"black\",\"black\",\"black\",\"black\",\"black\",\"black\",\"black\",\"black\",\"black\",\"black\",\"black\",\"black\",\"black\",\"black\",\"black\",\"black\",\"black\",\"black\",\"black\",\"black\",\"black\",\"black\",\"black\",\"black\",\"black\"],\"xs\":[[135757320,135757320],[135761078,135761078],[135761271,135761271],[135762344,135762344],[135762980,135762980],[135763280,135763280],[135768815,135768815],[135769093,135769093],[135769127,135769127],[135770940,135770940],[135770951,135770951],[135776728,135776728],[135777504,135777504],[135829592,135829592],[135893372,135893372],[135952405,135952405],[135989721,135989721],[136136056,136136056],[136313639,136313639],[136401418,136401418],[136407078,136407078],[136420908,136420908],[136033790,136033790],[136103753,136103753],[136236633,136236633],[136277069,136277069],[136325737,136325737],[136393658,136393658],[136396300,136396300],[136401843,136401843],[136407445,136407445],[136411879,136411879],[136412270,136412270],[136413244,136413244],[136413847,136413847],[136415217,136415217],[136416533,136416533],[136420726,136420726],[136429857,136429857],[136433740,136433740],[136436317,136436317],[136437615,136437615],[136438517,136438517],[136440300,136440300],[136443900,136443900],[136444185,136444185],[136444338,136444338],[136449254,136449254],[136451676,136451676],[136459227,136459227],[136463117,136463117],[136463454,136463454],[136467119,136467119],[136468238,136468238],[136470219,136470219],[136483355,136483355],[136485276,136485276],[136486340,136486340],[136486342,136486342],[136494985,136494985],[136497199,136497199],[136511817,136511817],[136513670,136513670],[136515458,136515458],[136516970,136516970],[136525309,136525309],[136528034,136528034],[136532225,136532225],[136535235,136535235],[136536095,136536095],[136544423,136544423],[136546927,136546927],[136552188,136552188],[136552517,136552517],[136555525,136555525],[136556480,136556480],[136560464,136560464],[136572285,136572285],[136582694,136582694],[136582809,136582809],[136584538,136584538],[136585323,136585323],[136586825,136586825],[136600662,136600662],[136612036,136612036],[136618178,136618178],[136618507,136618507],[136622543,136622543],[136624947,136624947],[136625113,136625113],[136626078,136626078],[136628121,136628121],[136632300,136632300],[136633962,136633962],[136635343,136635343],[136638113,136638113],[136640101,136640101],[136641593,136641593],[136646582,136646582],[136648077,136648077],[136648883,136648883],[136652045,136652045],[136653848,136653848],[136656094,136656094],[136661110,136661110],[136663110,136663110],[136663605,136663605],[136665162,136665162],[136665711,136665711],[136668123,136668123],[136670419,136670419],[136672680,136672680],[136673546,136673546],[136684632,136684632],[136686114,136686114],[136690425,136690425],[136690783,136690783],[136692893,136692893],[136694905,136694905],[136695694,136695694],[136695705,136695705],[136696608,136696608],[136697372,136697372],[136697468,136697468],[136700024,136700024],[136701539,136701539],[136702118,136702118],[136707480,136707480],[136710554,136710554],[136714178,136714178],[136719173,136719173],[136725459,136725459],[136734569,136734569],[136744678,136744678],[136748779,136748779],[136751488,136751488],[136754183,136754183],[136763242,136763242],[136765074,136765074],[136773638,136773638],[136500475,136500475],[136501509,136501509],[136504101,136504101],[136509868,136509868],[136520043,136520043],[136527120,136527120],[136530379,136530379],[136530443,136530443],[136539330,136539330],[136539670,136539670],[136540083,136540083],[136542559,136542559],[136542560,136542560],[136506375,136506375],[136506927,136506927],[136510012,136510012],[136538939,136538939],[136535876,136535876],[136544651,136544651],[136545844,136545844],[136552526,136552526],[136553022,136553022],[136554797,136554797],[136554890,136554890],[136588031,136588031],[136589278,136589278],[136589379,136589379],[136589741,136589741],[136590746,136590746],[136593553,136593553],[136593678,136593678],[136648736,136648736],[136705399,136705399],[136715023,136715023],[136762850,136762850],[136652491,136652491],[136652524,136652524],[136661150,136661150],[136669264,136669264],[136726567,136726567],[136732772,136732772],[136652953,136652953],[136655582,136655582],[136674028,136674028],[136684940,136684940],[136761175,136761175],[136653925,136653925],[136654833,136654833],[136656534,136656534],[136656536,136656536],[136657252,136657252],[136667301,136667301],[136667487,136667487],[136672775,136672775],[136680534,136680534],[136686393,136686393],[136688749,136688749],[136692553,136692553],[136697371,136697371],[136708787,136708787],[136710372,136710372],[136711064,136711064],[136715324,136715324],[136723504,136723504],[136737460,136737460],[136743143,136743143],[136746224,136746224],[136751842,136751842],[136759379,136759379],[136761853,136761853]],\"ys\":[[550,596],[550,596],[550,596],[550,596],[550,596],[550,596],[550,596],[550,596],[550,596],[550,596],[550,596],[550,596],[550,596],[150,191],[150,191],[150,191],[150,191],[150,191],[150,191],[150,191],[150,191],[150,191],[50,67],[50,67],[50,67],[50,67],[50,67],[450,494],[450,494],[450,494],[450,494],[450,494],[450,494],[450,494],[450,494],[450,494],[450,494],[450,494],[450,494],[450,494],[450,494],[450,494],[450,494],[450,494],[450,494],[450,494],[450,494],[450,494],[450,494],[450,494],[450,494],[450,494],[450,494],[450,494],[450,494],[450,494],[450,494],[450,494],[450,494],[150,190],[150,190],[150,190],[150,190],[150,190],[150,190],[150,190],[150,190],[150,190],[150,190],[150,190],[150,190],[150,190],[150,190],[150,190],[150,190],[150,190],[150,190],[150,190],[150,190],[150,190],[150,190],[150,190],[150,190],[150,190],[150,190],[150,190],[150,190],[150,190],[150,190],[150,190],[150,190],[150,190],[150,190],[150,190],[150,190],[150,190],[150,190],[150,190],[150,190],[150,190],[150,190],[150,190],[150,190],[150,190],[150,190],[150,190],[150,190],[150,190],[150,190],[150,190],[150,190],[150,190],[150,190],[150,190],[150,190],[150,190],[150,190],[150,190],[150,190],[150,190],[150,190],[150,190],[150,190],[150,190],[150,190],[150,190],[150,190],[150,190],[150,190],[150,190],[150,190],[150,190],[150,190],[150,190],[150,190],[150,190],[150,190],[150,190],[150,190],[150,190],[250,293],[250,293],[250,293],[250,293],[250,293],[250,293],[250,293],[250,293],[250,293],[250,293],[250,293],[250,293],[250,293],[450,494],[450,494],[450,494],[450,494],[350,394],[350,394],[350,394],[350,394],[350,394],[350,394],[350,394],[550,596],[550,596],[550,596],[550,596],[550,596],[550,596],[550,596],[50,60],[50,60],[50,60],[50,60],[250,292],[250,292],[250,292],[250,292],[250,292],[250,292],[350,394],[350,394],[350,394],[350,394],[350,394],[550,595],[550,595],[550,595],[550,595],[550,595],[550,595],[550,595],[550,595],[550,595],[550,595],[550,595],[550,595],[550,595],[550,595],[550,595],[550,595],[550,595],[550,595],[550,595],[550,595],[550,595],[550,595],[550,595],[550,595]]}},\"id\":\"8afe482b-397b-49d3-9e9b-6b88ff222c7c\",\"type\":\"ColumnDataSource\"},{\"attributes\":{\"callback\":null,\"column_names\":[\"right\",\"bottom\",\"top\",\"left\",\"fill_color\"],\"data\":{\"bottom\":[550,150,50,450,150,250,450,350,550,50,250,350,550],\"fill_color\":[\"#808080\",\"#c4c461\",\"#00ffff\",\"#c4c461\",\"#808080\",\"#808080\",\"#808080\",\"#808080\",\"#c46161\",\"#61c461\",\"#808080\",\"#808080\",\"#808080\"],\"left\":[135757320,135829592,136033790,136393658,136494985,136500475,136506375,136535876,136588031,136648736,136652491,136652953,136653925],\"right\":[135777504,136420908,136325737,136486342,136773638,136542560,136538939,136554890,136593678,136762850,136732772,136761175,136761853],\"top\":[596,191,67,494,190,293,494,394,596,60,292,394,595]}},\"id\":\"62ca7641-0267-4c9e-b516-a4ea9e3ec11b\",\"type\":\"ColumnDataSource\"},{\"attributes\":{\"formatter\":{\"id\":\"36436516-e63d-4fed-9d50-5b5d42def904\",\"type\":\"BasicTickFormatter\"},\"plot\":{\"id\":\"7197474a-84d4-4b46-aa3f-70dd06e0331f\",\"subtype\":\"Figure\",\"type\":\"Plot\"},\"ticker\":{\"id\":\"892ab367-0035-474f-817f-d349b922d59e\",\"type\":\"BasicTicker\"},\"visible\":null},\"id\":\"e19c8c88-43ef-49f6-bd7b-ebb21dd9a4e8\",\"type\":\"LinearAxis\"},{\"attributes\":{},\"id\":\"36436516-e63d-4fed-9d50-5b5d42def904\",\"type\":\"BasicTickFormatter\"},{\"attributes\":{},\"id\":\"e7b3ae14-ab89-4164-b791-2d5f423ec927\",\"type\":\"BasicTicker\"},{\"attributes\":{\"active_drag\":\"auto\",\"active_scroll\":\"auto\",\"active_tap\":\"auto\",\"tools\":[{\"id\":\"b342954e-05dc-467d-8391-66a53a7c7d05\",\"type\":\"PanTool\"},{\"id\":\"2816e3d4-8454-4688-bbcc-c8708aa01ed2\",\"type\":\"WheelZoomTool\"},{\"id\":\"527b2a87-fb45-489b-adbd-daf520d4f35d\",\"type\":\"BoxZoomTool\"},{\"id\":\"1c44eb27-241c-4cda-90f1-54e51d6f9b59\",\"type\":\"SaveTool\"},{\"id\":\"3186329f-d178-4a49-adb8-143913a5f1f2\",\"type\":\"ResetTool\"},{\"id\":\"1557808a-8f3c-49e8-a14c-69ef2f610838\",\"type\":\"HelpTool\"}]},\"id\":\"398812b6-c3eb-4d00-9ebf-8662a48df346\",\"type\":\"Toolbar\"},{\"attributes\":{\"level\":\"glyph\",\"plot\":{\"id\":\"7197474a-84d4-4b46-aa3f-70dd06e0331f\",\"subtype\":\"Figure\",\"type\":\"Plot\"},\"source\":{\"id\":\"5fd143dd-972b-4b44-89d8-55b514615203\",\"type\":\"ColumnDataSource\"},\"text\":{\"field\":\"vals\"},\"text_align\":\"center\",\"text_baseline\":\"middle\",\"text_font_size\":{\"value\":\"8pt\"},\"x\":{\"field\":\"x\"},\"y\":{\"field\":\"y\"}},\"id\":\"a81236ef-dd9a-41a6-b58a-3ae610cef5cc\",\"type\":\"LabelSet\"},{\"attributes\":{\"callback\":null,\"end\":136786630,\"start\":135757320},\"id\":\"60cafe34-ec17-46f7-811a-39541b7b5ac0\",\"type\":\"Range1d\"},{\"attributes\":{\"callback\":null,\"column_names\":[\"y\",\"x\",\"vals\"],\"data\":{\"vals\":[\"13_1696\",\"9_944\",\"5_60\",\"32_1361\",\"81_857\",\"13_1227\",\"4_1442\",\"7_1303\",\"7_1760\",\"4_26\",\"6_1114\",\"5_1296\",\"24_1504\"],\"x\":[135757320,135829592,136033790,136393658,136494985,136500475,136506375,136535876,136588031,136648736,136652491,136652953,136653925],\"y\":[601.0,196.0,72.0,499.0,195.0,298.0,499.0,399.0,601.0,65.0,297.0,399.0,600.0]}},\"id\":\"e7c37bea-b3f2-4c16-b54b-13a7b978ce59\",\"type\":\"ColumnDataSource\"},{\"attributes\":{},\"id\":\"3091d813-145c-4458-bd8d-3db1ca2df01f\",\"type\":\"BasicTickFormatter\"},{\"attributes\":{\"callback\":null,\"column_names\":[\"right\",\"bottom\",\"top\",\"left\"],\"data\":{\"bottom\":[645,645,645,645,645,645,645],\"left\":[135809835,135957574,136289083,136499189,136545415,136597196,136664254],\"right\":[135928279,136288182,136482839,136542633,136594750,136634047,136743222],\"top\":[675,675,675,675,675,675,675]}},\"id\":\"c24b4de9-6e80-455d-b131-590842b34774\",\"type\":\"ColumnDataSource\"},{\"attributes\":{},\"id\":\"892ab367-0035-474f-817f-d349b922d59e\",\"type\":\"BasicTicker\"},{\"attributes\":{\"level\":\"glyph\",\"plot\":{\"id\":\"7197474a-84d4-4b46-aa3f-70dd06e0331f\",\"subtype\":\"Figure\",\"type\":\"Plot\"},\"source\":{\"id\":\"e7c37bea-b3f2-4c16-b54b-13a7b978ce59\",\"type\":\"ColumnDataSource\"},\"text\":{\"field\":\"vals\"},\"text_font_size\":{\"value\":\"9pt\"},\"text_font_style\":\"bold\",\"x\":{\"field\":\"x\"},\"y\":{\"field\":\"y\"}},\"id\":\"42f0bc59-f37a-487e-b40e-54ecf3ef23fa\",\"type\":\"LabelSet\"},{\"attributes\":{\"bottom\":{\"field\":\"bottom\"},\"fill_color\":{\"value\":\"white\"},\"left\":{\"field\":\"left\"},\"right\":{\"field\":\"right\"},\"top\":{\"field\":\"top\"}},\"id\":\"2eec508c-87bb-4ae8-93cb-d1a25b525977\",\"type\":\"Quad\"},{\"attributes\":{\"plot\":{\"id\":\"7197474a-84d4-4b46-aa3f-70dd06e0331f\",\"subtype\":\"Figure\",\"type\":\"Plot\"}},\"id\":\"2816e3d4-8454-4688-bbcc-c8708aa01ed2\",\"type\":\"WheelZoomTool\"},{\"attributes\":{\"dimension\":1,\"plot\":{\"id\":\"7197474a-84d4-4b46-aa3f-70dd06e0331f\",\"subtype\":\"Figure\",\"type\":\"Plot\"},\"ticker\":{\"id\":\"892ab367-0035-474f-817f-d349b922d59e\",\"type\":\"BasicTicker\"}},\"id\":\"cd4ca6f6-525f-4315-bd58-a9007b5a6afb\",\"type\":\"Grid\"},{\"attributes\":{\"bottom\":{\"field\":\"bottom\"},\"fill_alpha\":{\"value\":0.1},\"fill_color\":{\"value\":\"#1f77b4\"},\"left\":{\"field\":\"left\"},\"line_alpha\":{\"value\":0.1},\"line_color\":{\"value\":\"#1f77b4\"},\"right\":{\"field\":\"right\"},\"top\":{\"field\":\"top\"}},\"id\":\"5af54fc0-7401-4c3e-9efb-cb70ed5f29b3\",\"type\":\"Quad\"},{\"attributes\":{\"callback\":null,\"end\":700},\"id\":\"473a3564-521c-4189-a990-41ad2ad34615\",\"type\":\"Range1d\"},{\"attributes\":{\"plot\":null,\"text\":null},\"id\":\"cf85e7dd-73f3-426c-a5b7-640a0a83e1d0\",\"type\":\"Title\"},{\"attributes\":{\"callback\":null,\"column_names\":[\"y\",\"x\",\"vals\"],\"data\":{\"vals\":[\"RAB3GAP1\",\"ZRANB3\",\"R3HDM1\",\"UBXN4\",\"LCT\",\"MCM6\",\"DARS\"],\"x\":[135869057.0,136122878.0,136385961.0,136520911.0,136570082.5,136615621.5,136703738.0],\"y\":[660.0,660.0,660.0,660.0,660.0,660.0,660.0]}},\"id\":\"5fd143dd-972b-4b44-89d8-55b514615203\",\"type\":\"ColumnDataSource\"},{\"attributes\":{},\"id\":\"28ce9bf4-7689-4311-a418-f65220ac0229\",\"type\":\"ToolEvents\"},{\"attributes\":{\"data_source\":{\"id\":\"c24b4de9-6e80-455d-b131-590842b34774\",\"type\":\"ColumnDataSource\"},\"glyph\":{\"id\":\"2eec508c-87bb-4ae8-93cb-d1a25b525977\",\"type\":\"Quad\"},\"hover_glyph\":null,\"nonselection_glyph\":{\"id\":\"c78bb31c-44a7-49c3-8aaa-c98bfbb452db\",\"type\":\"Quad\"},\"selection_glyph\":null},\"id\":\"250bc2c9-eb3c-46ca-80f7-944863251770\",\"type\":\"GlyphRenderer\"},{\"attributes\":{\"line_alpha\":{\"value\":0.1},\"line_color\":{\"value\":\"#1f77b4\"},\"xs\":{\"field\":\"xs\"},\"ys\":{\"field\":\"ys\"}},\"id\":\"f3714fdb-b95f-48c0-9964-19c93167564f\",\"type\":\"MultiLine\"},{\"attributes\":{\"bottom\":{\"field\":\"bottom\"},\"fill_color\":{\"field\":\"fill_color\"},\"left\":{\"field\":\"left\"},\"line_color\":{\"value\":null},\"right\":{\"field\":\"right\"},\"top\":{\"field\":\"top\"}},\"id\":\"f395a3c4-3fdc-489f-80e0-a033af6411e4\",\"type\":\"Quad\"},{\"attributes\":{\"line_color\":{\"field\":\"line_color\"},\"xs\":{\"field\":\"xs\"},\"ys\":{\"field\":\"ys\"}},\"id\":\"050a98d4-d486-4dcc-bf68-bd1b728bc5d9\",\"type\":\"MultiLine\"},{\"attributes\":{\"formatter\":{\"id\":\"3091d813-145c-4458-bd8d-3db1ca2df01f\",\"type\":\"BasicTickFormatter\"},\"plot\":{\"id\":\"7197474a-84d4-4b46-aa3f-70dd06e0331f\",\"subtype\":\"Figure\",\"type\":\"Plot\"},\"ticker\":{\"id\":\"e7b3ae14-ab89-4164-b791-2d5f423ec927\",\"type\":\"BasicTicker\"}},\"id\":\"4e6be4bb-9d71-4963-868c-9e205f29dca8\",\"type\":\"LinearAxis\"},{\"attributes\":{\"plot\":{\"id\":\"7197474a-84d4-4b46-aa3f-70dd06e0331f\",\"subtype\":\"Figure\",\"type\":\"Plot\"}},\"id\":\"3186329f-d178-4a49-adb8-143913a5f1f2\",\"type\":\"ResetTool\"},{\"attributes\":{\"plot\":{\"id\":\"7197474a-84d4-4b46-aa3f-70dd06e0331f\",\"subtype\":\"Figure\",\"type\":\"Plot\"}},\"id\":\"1557808a-8f3c-49e8-a14c-69ef2f610838\",\"type\":\"HelpTool\"},{\"attributes\":{\"below\":[{\"id\":\"4e6be4bb-9d71-4963-868c-9e205f29dca8\",\"type\":\"LinearAxis\"}],\"left\":[{\"id\":\"e19c8c88-43ef-49f6-bd7b-ebb21dd9a4e8\",\"type\":\"LinearAxis\"}],\"plot_height\":700,\"plot_width\":900,\"renderers\":[{\"id\":\"4e6be4bb-9d71-4963-868c-9e205f29dca8\",\"type\":\"LinearAxis\"},{\"id\":\"b603c548-e994-4e39-a108-9f2cc3fb9b8c\",\"type\":\"Grid\"},{\"id\":\"e19c8c88-43ef-49f6-bd7b-ebb21dd9a4e8\",\"type\":\"LinearAxis\"},{\"id\":\"cd4ca6f6-525f-4315-bd58-a9007b5a6afb\",\"type\":\"Grid\"},{\"id\":\"a031271c-71db-4040-8683-d2c46cd11055\",\"type\":\"BoxAnnotation\"},{\"id\":\"2be9f71e-731f-4f78-9fa2-3c518514bf77\",\"type\":\"GlyphRenderer\"},{\"id\":\"87f559de-757c-41fa-ab4f-6909b7017e09\",\"type\":\"GlyphRenderer\"},{\"id\":\"42f0bc59-f37a-487e-b40e-54ecf3ef23fa\",\"type\":\"LabelSet\"},{\"id\":\"250bc2c9-eb3c-46ca-80f7-944863251770\",\"type\":\"GlyphRenderer\"},{\"id\":\"a81236ef-dd9a-41a6-b58a-3ae610cef5cc\",\"type\":\"LabelSet\"}],\"title\":{\"id\":\"cf85e7dd-73f3-426c-a5b7-640a0a83e1d0\",\"type\":\"Title\"},\"tool_events\":{\"id\":\"28ce9bf4-7689-4311-a418-f65220ac0229\",\"type\":\"ToolEvents\"},\"toolbar\":{\"id\":\"398812b6-c3eb-4d00-9ebf-8662a48df346\",\"type\":\"Toolbar\"},\"toolbar_location\":null,\"x_range\":{\"id\":\"60cafe34-ec17-46f7-811a-39541b7b5ac0\",\"type\":\"Range1d\"},\"y_range\":{\"id\":\"473a3564-521c-4189-a990-41ad2ad34615\",\"type\":\"Range1d\"}},\"id\":\"7197474a-84d4-4b46-aa3f-70dd06e0331f\",\"subtype\":\"Figure\",\"type\":\"Plot\"},{\"attributes\":{\"overlay\":{\"id\":\"a031271c-71db-4040-8683-d2c46cd11055\",\"type\":\"BoxAnnotation\"},\"plot\":{\"id\":\"7197474a-84d4-4b46-aa3f-70dd06e0331f\",\"subtype\":\"Figure\",\"type\":\"Plot\"}},\"id\":\"527b2a87-fb45-489b-adbd-daf520d4f35d\",\"type\":\"BoxZoomTool\"}],\"root_ids\":[\"7197474a-84d4-4b46-aa3f-70dd06e0331f\"]},\"title\":\"Bokeh Application\",\"version\":\"0.12.0\"}};\n",
       "            var render_items = [{\"docid\":\"bd9feeca-ca41-4e83-b4f0-07765a74e562\",\"elementid\":\"4c7afd2d-cd09-45d5-80b7-8276577518aa\",\"modelid\":\"7197474a-84d4-4b46-aa3f-70dd06e0331f\",\"notebook_comms_target\":\"7d03e65d-9632-4a92-b77a-ff4678f7e141\"}];\n",
       "            \n",
       "            Bokeh.embed.embed_items(docs_json, render_items);\n",
       "        });\n",
       "      },\n",
       "      function(Bokeh) {\n",
       "      }\n",
       "    ];\n",
       "  \n",
       "    function run_inline_js() {\n",
       "      for (var i = 0; i < inline_js.length; i++) {\n",
       "        inline_js[i](window.Bokeh);\n",
       "      }\n",
       "    }\n",
       "  \n",
       "    if (window._bokeh_is_loading === 0) {\n",
       "      console.log(\"Bokeh: BokehJS loaded, going straight to plotting\");\n",
       "      run_inline_js();\n",
       "    } else {\n",
       "      load_libs(js_urls, function() {\n",
       "        console.log(\"Bokeh: BokehJS plotting callback run at\", now());\n",
       "        run_inline_js();\n",
       "      });\n",
       "    }\n",
       "  }(this));\n",
       "</script>"
      ]
     },
     "metadata": {},
     "output_type": "display_data"
    },
    {
     "data": {
      "text/html": [
       "<p><code>&lt;Bokeh Notebook handle for <strong>In[7]</strong>&gt;</code></p>"
      ],
      "text/plain": [
       "<bokeh.io._CommsHandle at 0x7fc7be825cd0>"
      ]
     },
     "execution_count": 7,
     "metadata": {},
     "output_type": "execute_result"
    }
   ],
   "source": [
    "plt_obj = dm.superset_yes_no([di_5_60, dm.di_13_1696, dm.di_4_1442, dm.di_81_857, di_4_26], \n",
    "                             min_match=0.001)\n",
    "plt = plt_obj.do_plot()\n",
    "show(plt)"
   ]
  },
  {
   "cell_type": "code",
   "execution_count": 8,
   "metadata": {
    "collapsed": false
   },
   "outputs": [
    {
     "data": {
      "text/html": [
       "<table>\n",
       "<thead><tr><th style=\"text-align:center\">index</th><th style=\"text-align:center\">first</th><th style=\"text-align:center\">length</th><th style=\"text-align:center\">snps</th><th style=\"text-align:center\" colspan=2>alleles</th><th style=\"text-align:center\" colspan=2>matches</th><th style=\"text-align:center\" colspan=2>afr</th><th style=\"text-align:center\" colspan=2>afx</th><th style=\"text-align:center\" colspan=2>amr</th><th style=\"text-align:center\" colspan=2>eas</th><th style=\"text-align:center\" colspan=2>eur</th><th style=\"text-align:center\" colspan=2>sas</th><th style=\"text-align:center\" colspan=2>sax</th></tr></thead>\n",
       "<tr class=\"even\"><td style=\"text-align: right;\">354033</td><td style=\"text-align: right;\">136,588,031</td><td style=\"text-align: right;\">5,647</td><td style=\"text-align: right;\">7</td><td style=\"text-align: right;\">1760</td><td style=\"text-align: right;\">0.00</td><td style=\"text-align: right;\">1</td><td style=\"text-align: right;\">1.00</td><td style=\"text-align: right;\">0</td><td style=\"text-align: right;\">0.00</td><td style=\"text-align: right;\">0</td><td style=\"text-align: right;\">0.00</td><td style=\"text-align: right;\">0</td><td style=\"text-align: right;\">0.00</td><td style=\"text-align: right;\">0</td><td style=\"text-align: right;\">0.00</td><td style=\"text-align: right;\">1</td><td style=\"text-align: right;\">4.98</td><td style=\"text-align: right;\">0</td><td style=\"text-align: right;\">0.00</td><td style=\"text-align: right;\">0</td><td style=\"text-align: right;\">0.00</td></tr>\n",
       "<tr><td style=\"text-align: right;\">353240</td><td style=\"text-align: right;\">135,757,320</td><td style=\"text-align: right;\">20,184</td><td style=\"text-align: right;\">13</td><td style=\"text-align: right;\">1696</td><td style=\"text-align: right;\">0.00</td><td style=\"text-align: right;\">1</td><td style=\"text-align: right;\">1.00</td><td style=\"text-align: right;\">0</td><td style=\"text-align: right;\">0.00</td><td style=\"text-align: right;\">0</td><td style=\"text-align: right;\">0.00</td><td style=\"text-align: right;\">0</td><td style=\"text-align: right;\">0.00</td><td style=\"text-align: right;\">0</td><td style=\"text-align: right;\">0.00</td><td style=\"text-align: right;\">1</td><td style=\"text-align: right;\">4.98</td><td style=\"text-align: right;\">0</td><td style=\"text-align: right;\">0.00</td><td style=\"text-align: right;\">0</td><td style=\"text-align: right;\">0.00</td></tr>\n",
       "<tr class=\"even\"><td style=\"text-align: right;\">354130</td><td style=\"text-align: right;\">136,653,925</td><td style=\"text-align: right;\">107,928</td><td style=\"text-align: right;\">24</td><td style=\"text-align: right;\">1504</td><td style=\"text-align: right;\">0.00</td><td style=\"text-align: right;\">1</td><td style=\"text-align: right;\">1.00</td><td style=\"text-align: right;\">0</td><td style=\"text-align: right;\">0.00</td><td style=\"text-align: right;\">0</td><td style=\"text-align: right;\">0.00</td><td style=\"text-align: right;\">0</td><td style=\"text-align: right;\">0.00</td><td style=\"text-align: right;\">0</td><td style=\"text-align: right;\">0.00</td><td style=\"text-align: right;\">1</td><td style=\"text-align: right;\">4.98</td><td style=\"text-align: right;\">0</td><td style=\"text-align: right;\">0.00</td><td style=\"text-align: right;\">0</td><td style=\"text-align: right;\">0.00</td></tr>\n",
       "<tr><td style=\"text-align: right;\">353925</td><td style=\"text-align: right;\">136,506,375</td><td style=\"text-align: right;\">32,564</td><td style=\"text-align: right;\">4</td><td style=\"text-align: right;\">1442</td><td style=\"text-align: right;\">0.00</td><td style=\"text-align: right;\">1</td><td style=\"text-align: right;\">1.00</td><td style=\"text-align: right;\">0</td><td style=\"text-align: right;\">0.00</td><td style=\"text-align: right;\">0</td><td style=\"text-align: right;\">0.00</td><td style=\"text-align: right;\">0</td><td style=\"text-align: right;\">0.00</td><td style=\"text-align: right;\">0</td><td style=\"text-align: right;\">0.00</td><td style=\"text-align: right;\">1</td><td style=\"text-align: right;\">4.98</td><td style=\"text-align: right;\">0</td><td style=\"text-align: right;\">0.00</td><td style=\"text-align: right;\">0</td><td style=\"text-align: right;\">0.00</td></tr>\n",
       "<tr class=\"even\"><td style=\"text-align: right;\">353791</td><td style=\"text-align: right;\">136,393,658</td><td style=\"text-align: right;\">92,684</td><td style=\"text-align: right;\">32</td><td style=\"text-align: right;\">1361</td><td style=\"text-align: right;\">0.00</td><td style=\"text-align: right;\">1</td><td style=\"text-align: right;\">1.00</td><td style=\"text-align: right;\">0</td><td style=\"text-align: right;\">0.00</td><td style=\"text-align: right;\">0</td><td style=\"text-align: right;\">0.00</td><td style=\"text-align: right;\">0</td><td style=\"text-align: right;\">0.00</td><td style=\"text-align: right;\">0</td><td style=\"text-align: right;\">0.00</td><td style=\"text-align: right;\">1</td><td style=\"text-align: right;\">4.98</td><td style=\"text-align: right;\">0</td><td style=\"text-align: right;\">0.00</td><td style=\"text-align: right;\">0</td><td style=\"text-align: right;\">0.00</td></tr>\n",
       "<tr><td style=\"text-align: right;\">353958</td><td style=\"text-align: right;\">136,535,876</td><td style=\"text-align: right;\">19,014</td><td style=\"text-align: right;\">7</td><td style=\"text-align: right;\">1303</td><td style=\"text-align: right;\">0.00</td><td style=\"text-align: right;\">1</td><td style=\"text-align: right;\">1.00</td><td style=\"text-align: right;\">0</td><td style=\"text-align: right;\">0.00</td><td style=\"text-align: right;\">0</td><td style=\"text-align: right;\">0.00</td><td style=\"text-align: right;\">0</td><td style=\"text-align: right;\">0.00</td><td style=\"text-align: right;\">0</td><td style=\"text-align: right;\">0.00</td><td style=\"text-align: right;\">1</td><td style=\"text-align: right;\">4.98</td><td style=\"text-align: right;\">0</td><td style=\"text-align: right;\">0.00</td><td style=\"text-align: right;\">0</td><td style=\"text-align: right;\">0.00</td></tr>\n",
       "<tr class=\"even\"><td style=\"text-align: right;\">354129</td><td style=\"text-align: right;\">136,652,953</td><td style=\"text-align: right;\">108,222</td><td style=\"text-align: right;\">5</td><td style=\"text-align: right;\">1296</td><td style=\"text-align: right;\">0.00</td><td style=\"text-align: right;\">1</td><td style=\"text-align: right;\">1.00</td><td style=\"text-align: right;\">0</td><td style=\"text-align: right;\">0.00</td><td style=\"text-align: right;\">0</td><td style=\"text-align: right;\">0.00</td><td style=\"text-align: right;\">0</td><td style=\"text-align: right;\">0.00</td><td style=\"text-align: right;\">0</td><td style=\"text-align: right;\">0.00</td><td style=\"text-align: right;\">1</td><td style=\"text-align: right;\">4.98</td><td style=\"text-align: right;\">0</td><td style=\"text-align: right;\">0.00</td><td style=\"text-align: right;\">0</td><td style=\"text-align: right;\">0.00</td></tr>\n",
       "<tr><td style=\"text-align: right;\">353919</td><td style=\"text-align: right;\">136,500,475</td><td style=\"text-align: right;\">42,085</td><td style=\"text-align: right;\">13</td><td style=\"text-align: right;\">1227</td><td style=\"text-align: right;\">0.00</td><td style=\"text-align: right;\">1</td><td style=\"text-align: right;\">1.00</td><td style=\"text-align: right;\">0</td><td style=\"text-align: right;\">0.00</td><td style=\"text-align: right;\">0</td><td style=\"text-align: right;\">0.00</td><td style=\"text-align: right;\">0</td><td style=\"text-align: right;\">0.00</td><td style=\"text-align: right;\">0</td><td style=\"text-align: right;\">0.00</td><td style=\"text-align: right;\">1</td><td style=\"text-align: right;\">4.98</td><td style=\"text-align: right;\">0</td><td style=\"text-align: right;\">0.00</td><td style=\"text-align: right;\">0</td><td style=\"text-align: right;\">0.00</td></tr>\n",
       "<tr class=\"even\"><td style=\"text-align: right;\">354127</td><td style=\"text-align: right;\">136,652,491</td><td style=\"text-align: right;\">80,281</td><td style=\"text-align: right;\">6</td><td style=\"text-align: right;\">1114</td><td style=\"text-align: right;\">0.00</td><td style=\"text-align: right;\">1</td><td style=\"text-align: right;\">1.00</td><td style=\"text-align: right;\">0</td><td style=\"text-align: right;\">0.00</td><td style=\"text-align: right;\">0</td><td style=\"text-align: right;\">0.00</td><td style=\"text-align: right;\">0</td><td style=\"text-align: right;\">0.00</td><td style=\"text-align: right;\">0</td><td style=\"text-align: right;\">0.00</td><td style=\"text-align: right;\">1</td><td style=\"text-align: right;\">4.98</td><td style=\"text-align: right;\">0</td><td style=\"text-align: right;\">0.00</td><td style=\"text-align: right;\">0</td><td style=\"text-align: right;\">0.00</td></tr>\n",
       "<tr><td style=\"text-align: right;\">353372</td><td style=\"text-align: right;\">135,829,592</td><td style=\"text-align: right;\">591,316</td><td style=\"text-align: right;\">9</td><td style=\"text-align: right;\">944</td><td style=\"text-align: right;\">0.00</td><td style=\"text-align: right;\">1</td><td style=\"text-align: right;\">1.00</td><td style=\"text-align: right;\">0</td><td style=\"text-align: right;\">0.00</td><td style=\"text-align: right;\">0</td><td style=\"text-align: right;\">0.00</td><td style=\"text-align: right;\">0</td><td style=\"text-align: right;\">0.00</td><td style=\"text-align: right;\">0</td><td style=\"text-align: right;\">0.00</td><td style=\"text-align: right;\">1</td><td style=\"text-align: right;\">4.98</td><td style=\"text-align: right;\">0</td><td style=\"text-align: right;\">0.00</td><td style=\"text-align: right;\">0</td><td style=\"text-align: right;\">0.00</td></tr>\n",
       "<tr class=\"even\"><td style=\"text-align: right;\">353902</td><td style=\"text-align: right;\">136,494,985</td><td style=\"text-align: right;\">278,653</td><td style=\"text-align: right;\">81</td><td style=\"text-align: right;\">857</td><td style=\"text-align: right;\">0.00</td><td style=\"text-align: right;\">1</td><td style=\"text-align: right;\">1.00</td><td style=\"text-align: right;\">0</td><td style=\"text-align: right;\">0.00</td><td style=\"text-align: right;\">0</td><td style=\"text-align: right;\">0.00</td><td style=\"text-align: right;\">0</td><td style=\"text-align: right;\">0.00</td><td style=\"text-align: right;\">0</td><td style=\"text-align: right;\">0.00</td><td style=\"text-align: right;\">1</td><td style=\"text-align: right;\">4.98</td><td style=\"text-align: right;\">0</td><td style=\"text-align: right;\">0.00</td><td style=\"text-align: right;\">0</td><td style=\"text-align: right;\">0.00</td></tr>\n",
       "<tr><td style=\"text-align: right;\">353564</td><td style=\"text-align: right;\">136,033,790</td><td style=\"text-align: right;\">291,947</td><td style=\"text-align: right;\">5</td><td style=\"text-align: right;\">60</td><td style=\"text-align: right;\">0.02</td><td style=\"text-align: right;\">1</td><td style=\"text-align: right;\">1.00</td><td style=\"text-align: right;\">0</td><td style=\"text-align: right;\">0.00</td><td style=\"text-align: right;\">0</td><td style=\"text-align: right;\">0.00</td><td style=\"text-align: right;\">0</td><td style=\"text-align: right;\">0.00</td><td style=\"text-align: right;\">0</td><td style=\"text-align: right;\">0.00</td><td style=\"text-align: right;\">1</td><td style=\"text-align: right;\">4.98</td><td style=\"text-align: right;\">0</td><td style=\"text-align: right;\">0.00</td><td style=\"text-align: right;\">0</td><td style=\"text-align: right;\">0.00</td></tr>\n",
       "<tr class=\"even\"><td style=\"text-align: right;\">354116</td><td style=\"text-align: right;\">136,648,736</td><td style=\"text-align: right;\">114,114</td><td style=\"text-align: right;\">4</td><td style=\"text-align: right;\">26</td><td style=\"text-align: right;\">0.04</td><td style=\"text-align: right;\">1</td><td style=\"text-align: right;\">1.00</td><td style=\"text-align: right;\">0</td><td style=\"text-align: right;\">0.00</td><td style=\"text-align: right;\">0</td><td style=\"text-align: right;\">0.00</td><td style=\"text-align: right;\">0</td><td style=\"text-align: right;\">0.00</td><td style=\"text-align: right;\">0</td><td style=\"text-align: right;\">0.00</td><td style=\"text-align: right;\">1</td><td style=\"text-align: right;\">4.98</td><td style=\"text-align: right;\">0</td><td style=\"text-align: right;\">0.00</td><td style=\"text-align: right;\">0</td><td style=\"text-align: right;\">0.00</td></tr>\n",
       "</table>"
      ],
      "text/plain": [
       "<IPython.core.display.HTML object>"
      ]
     },
     "execution_count": 8,
     "metadata": {},
     "output_type": "execute_result"
    }
   ],
   "source": [
    "HTML(plt_obj.get_html())"
   ]
  },
  {
   "cell_type": "code",
   "execution_count": 9,
   "metadata": {
    "collapsed": false
   },
   "outputs": [
    {
     "data": {
      "text/html": [
       "\n",
       "\n",
       "    <div class=\"bk-root\">\n",
       "        <div class=\"plotdiv\" id=\"f24ca42c-e3e5-44c2-b2ee-c3ec1b1070ef\"></div>\n",
       "    </div>\n",
       "<script type=\"text/javascript\">\n",
       "  \n",
       "  (function(global) {\n",
       "    function now() {\n",
       "      return new Date();\n",
       "    }\n",
       "  \n",
       "    if (typeof (window._bokeh_onload_callbacks) === \"undefined\") {\n",
       "      window._bokeh_onload_callbacks = [];\n",
       "    }\n",
       "  \n",
       "    function run_callbacks() {\n",
       "      window._bokeh_onload_callbacks.forEach(function(callback) { callback() });\n",
       "      delete window._bokeh_onload_callbacks\n",
       "      console.info(\"Bokeh: all callbacks have finished\");\n",
       "    }\n",
       "  \n",
       "    function load_libs(js_urls, callback) {\n",
       "      window._bokeh_onload_callbacks.push(callback);\n",
       "      if (window._bokeh_is_loading > 0) {\n",
       "        console.log(\"Bokeh: BokehJS is being loaded, scheduling callback at\", now());\n",
       "        return null;\n",
       "      }\n",
       "      if (js_urls == null || js_urls.length === 0) {\n",
       "        run_callbacks();\n",
       "        return null;\n",
       "      }\n",
       "      console.log(\"Bokeh: BokehJS not loaded, scheduling load and callback at\", now());\n",
       "      window._bokeh_is_loading = js_urls.length;\n",
       "      for (var i = 0; i < js_urls.length; i++) {\n",
       "        var url = js_urls[i];\n",
       "        var s = document.createElement('script');\n",
       "        s.src = url;\n",
       "        s.async = false;\n",
       "        s.onreadystatechange = s.onload = function() {\n",
       "          window._bokeh_is_loading--;\n",
       "          if (window._bokeh_is_loading === 0) {\n",
       "            console.log(\"Bokeh: all BokehJS libraries loaded\");\n",
       "            run_callbacks()\n",
       "          }\n",
       "        };\n",
       "        s.onerror = function() {\n",
       "          console.warn(\"failed to load library \" + url);\n",
       "        };\n",
       "        console.log(\"Bokeh: injecting script tag for BokehJS library: \", url);\n",
       "        document.getElementsByTagName(\"head\")[0].appendChild(s);\n",
       "      }\n",
       "    };var element = document.getElementById(\"f24ca42c-e3e5-44c2-b2ee-c3ec1b1070ef\");\n",
       "    if (element == null) {\n",
       "      console.log(\"Bokeh: ERROR: autoload.js configured with elementid 'f24ca42c-e3e5-44c2-b2ee-c3ec1b1070ef' but no matching script tag was found. \")\n",
       "      return false;\n",
       "    }\n",
       "  \n",
       "    var js_urls = [];\n",
       "  \n",
       "    var inline_js = [\n",
       "      function(Bokeh) {\n",
       "        Bokeh.$(function() {\n",
       "            var docs_json = {\"e25a60b6-1f05-4b6c-a746-e9d03c888fd6\":{\"roots\":{\"references\":[{\"attributes\":{\"line_alpha\":{\"value\":0.1},\"line_color\":{\"value\":\"#1f77b4\"},\"xs\":{\"field\":\"xs\"},\"ys\":{\"field\":\"ys\"}},\"id\":\"b001537f-fcaa-4206-98e3-edc0018fb631\",\"type\":\"MultiLine\"},{\"attributes\":{},\"id\":\"aa08bb0b-72c1-43e4-9e90-dd4a6f1021d3\",\"type\":\"BasicTickFormatter\"},{\"attributes\":{\"plot\":{\"id\":\"468eed9b-6834-469c-9dcc-6fb17a8507f0\",\"subtype\":\"Figure\",\"type\":\"Plot\"}},\"id\":\"98514b72-a931-42ba-880a-4c772f32f45e\",\"type\":\"PanTool\"},{\"attributes\":{\"plot\":{\"id\":\"468eed9b-6834-469c-9dcc-6fb17a8507f0\",\"subtype\":\"Figure\",\"type\":\"Plot\"}},\"id\":\"ceefde92-39d9-417c-98de-d0034ce5571f\",\"type\":\"HelpTool\"},{\"attributes\":{\"callback\":null,\"column_names\":[\"right\",\"bottom\",\"top\",\"left\",\"fill_color\"],\"data\":{\"bottom\":[750,450,150,650,450,650,550,750,750,50,250,150,350,450],\"fill_color\":[\"#808080\",\"#c4c461\",\"#00ffff\",\"#c4c461\",\"#808080\",\"#808080\",\"#808080\",\"#c46161\",\"#808080\",\"#00ffff\",\"#c46161\",\"#c46161\",\"#ff0000\",\"#ff0000\"],\"left\":[135757320,135829592,136033790,136393658,136500475,136506375,136535876,136588031,136653925,136654760,136658238,136666402,136696010,136704466],\"right\":[135777504,136420908,136325737,136486342,136542560,136538939,136554890,136593678,136761853,136770767,136677919,136768655,136764564,136732214],\"top\":[796,491,167,694,493,694,594,796,795,66,276,173,376,478]}},\"id\":\"a67164eb-9e3e-4f2b-b01d-ccc8f45415ba\",\"type\":\"ColumnDataSource\"},{\"attributes\":{\"level\":\"glyph\",\"plot\":{\"id\":\"468eed9b-6834-469c-9dcc-6fb17a8507f0\",\"subtype\":\"Figure\",\"type\":\"Plot\"},\"source\":{\"id\":\"e30898fe-dfdd-482d-aec4-aad2bc82dbfb\",\"type\":\"ColumnDataSource\"},\"text\":{\"field\":\"vals\"},\"text_align\":\"center\",\"text_baseline\":\"middle\",\"text_font_size\":{\"value\":\"8pt\"},\"x\":{\"field\":\"x\"},\"y\":{\"field\":\"y\"}},\"id\":\"cab12b21-fc8d-4e5e-9d87-f866e501d585\",\"type\":\"LabelSet\"},{\"attributes\":{\"line_color\":{\"field\":\"line_color\"},\"xs\":{\"field\":\"xs\"},\"ys\":{\"field\":\"ys\"}},\"id\":\"38349463-f622-4ae5-8fdd-5fce4610c4c5\",\"type\":\"MultiLine\"},{\"attributes\":{\"bottom\":{\"field\":\"bottom\"},\"fill_alpha\":{\"value\":0.1},\"fill_color\":{\"value\":\"#1f77b4\"},\"left\":{\"field\":\"left\"},\"line_alpha\":{\"value\":0.1},\"line_color\":{\"value\":\"#1f77b4\"},\"right\":{\"field\":\"right\"},\"top\":{\"field\":\"top\"}},\"id\":\"65b86c54-c38f-4923-ac8c-e8ed7ea74d8a\",\"type\":\"Quad\"},{\"attributes\":{\"overlay\":{\"id\":\"0859bfa7-f031-4e5c-a9a6-617ae373ea39\",\"type\":\"BoxAnnotation\"},\"plot\":{\"id\":\"468eed9b-6834-469c-9dcc-6fb17a8507f0\",\"subtype\":\"Figure\",\"type\":\"Plot\"}},\"id\":\"7c85abda-6a77-4f1b-a809-486d6fc40cea\",\"type\":\"BoxZoomTool\"},{\"attributes\":{\"data_source\":{\"id\":\"cbc6710a-8135-4463-9440-95c54d0546aa\",\"type\":\"ColumnDataSource\"},\"glyph\":{\"id\":\"07bd9285-2f17-4c2b-8640-f625601df325\",\"type\":\"Quad\"},\"hover_glyph\":null,\"nonselection_glyph\":{\"id\":\"65b86c54-c38f-4923-ac8c-e8ed7ea74d8a\",\"type\":\"Quad\"},\"selection_glyph\":null},\"id\":\"27dc3e96-9990-4ccb-9a75-6707c796cae8\",\"type\":\"GlyphRenderer\"},{\"attributes\":{},\"id\":\"8c104edc-789c-4668-b367-c37b72010d93\",\"type\":\"BasicTicker\"},{\"attributes\":{\"dimension\":1,\"plot\":{\"id\":\"468eed9b-6834-469c-9dcc-6fb17a8507f0\",\"subtype\":\"Figure\",\"type\":\"Plot\"},\"ticker\":{\"id\":\"90004d4e-89cc-4ecb-9693-13a07dbce98e\",\"type\":\"BasicTicker\"}},\"id\":\"4d2bd0df-2dc3-46df-bc37-e300d543c191\",\"type\":\"Grid\"},{\"attributes\":{\"bottom\":{\"field\":\"bottom\"},\"fill_color\":{\"value\":\"white\"},\"left\":{\"field\":\"left\"},\"right\":{\"field\":\"right\"},\"top\":{\"field\":\"top\"}},\"id\":\"07bd9285-2f17-4c2b-8640-f625601df325\",\"type\":\"Quad\"},{\"attributes\":{\"callback\":null,\"column_names\":[\"right\",\"bottom\",\"top\",\"left\"],\"data\":{\"bottom\":[845,845,845,845,845,845,845],\"left\":[135809835,135957574,136289083,136499189,136545415,136597196,136664254],\"right\":[135928279,136288182,136482839,136542633,136594750,136634047,136743222],\"top\":[875,875,875,875,875,875,875]}},\"id\":\"cbc6710a-8135-4463-9440-95c54d0546aa\",\"type\":\"ColumnDataSource\"},{\"attributes\":{\"callback\":null,\"end\":900},\"id\":\"bfab60d3-1b2c-44b1-8211-9078ee9261ac\",\"type\":\"Range1d\"},{\"attributes\":{},\"id\":\"306aec14-5020-408b-b3ae-d81d0d987ef1\",\"type\":\"BasicTickFormatter\"},{\"attributes\":{\"active_drag\":\"auto\",\"active_scroll\":\"auto\",\"active_tap\":\"auto\",\"tools\":[{\"id\":\"98514b72-a931-42ba-880a-4c772f32f45e\",\"type\":\"PanTool\"},{\"id\":\"7cca4ded-82e7-4d5d-905f-252bb43554a8\",\"type\":\"WheelZoomTool\"},{\"id\":\"7c85abda-6a77-4f1b-a809-486d6fc40cea\",\"type\":\"BoxZoomTool\"},{\"id\":\"1b1d1ffe-8535-437d-8f27-1e1280ac1a43\",\"type\":\"SaveTool\"},{\"id\":\"f67fa832-be5c-434f-843f-5ab1682fb54a\",\"type\":\"ResetTool\"},{\"id\":\"ceefde92-39d9-417c-98de-d0034ce5571f\",\"type\":\"HelpTool\"}]},\"id\":\"4a2c2ca4-6271-4ffc-924c-af112049b8c7\",\"type\":\"Toolbar\"},{\"attributes\":{\"plot\":{\"id\":\"468eed9b-6834-469c-9dcc-6fb17a8507f0\",\"subtype\":\"Figure\",\"type\":\"Plot\"}},\"id\":\"1b1d1ffe-8535-437d-8f27-1e1280ac1a43\",\"type\":\"SaveTool\"},{\"attributes\":{},\"id\":\"e1f85761-3d3d-4273-99d8-3217209198c3\",\"type\":\"ToolEvents\"},{\"attributes\":{\"formatter\":{\"id\":\"306aec14-5020-408b-b3ae-d81d0d987ef1\",\"type\":\"BasicTickFormatter\"},\"plot\":{\"id\":\"468eed9b-6834-469c-9dcc-6fb17a8507f0\",\"subtype\":\"Figure\",\"type\":\"Plot\"},\"ticker\":{\"id\":\"8c104edc-789c-4668-b367-c37b72010d93\",\"type\":\"BasicTicker\"}},\"id\":\"15fa52ca-9eb6-4c63-a82c-ebb19b408931\",\"type\":\"LinearAxis\"},{\"attributes\":{\"plot\":null,\"text\":null},\"id\":\"8e483424-aaaf-4cf6-abc1-810a6dc03536\",\"type\":\"Title\"},{\"attributes\":{\"level\":\"glyph\",\"plot\":{\"id\":\"468eed9b-6834-469c-9dcc-6fb17a8507f0\",\"subtype\":\"Figure\",\"type\":\"Plot\"},\"source\":{\"id\":\"6c5fba3c-d059-4467-87b4-af0cf5a42f3a\",\"type\":\"ColumnDataSource\"},\"text\":{\"field\":\"vals\"},\"text_font_size\":{\"value\":\"9pt\"},\"text_font_style\":\"bold\",\"x\":{\"field\":\"x\"},\"y\":{\"field\":\"y\"}},\"id\":\"e48cc396-3da3-41ae-bec2-ade1c6eb9015\",\"type\":\"LabelSet\"},{\"attributes\":{\"below\":[{\"id\":\"15fa52ca-9eb6-4c63-a82c-ebb19b408931\",\"type\":\"LinearAxis\"}],\"left\":[{\"id\":\"ec929483-92ca-486e-84be-3d053e7e8315\",\"type\":\"LinearAxis\"}],\"plot_height\":900,\"plot_width\":900,\"renderers\":[{\"id\":\"15fa52ca-9eb6-4c63-a82c-ebb19b408931\",\"type\":\"LinearAxis\"},{\"id\":\"227f5b42-eaf4-4dd7-9cd5-092ea97c42b8\",\"type\":\"Grid\"},{\"id\":\"ec929483-92ca-486e-84be-3d053e7e8315\",\"type\":\"LinearAxis\"},{\"id\":\"4d2bd0df-2dc3-46df-bc37-e300d543c191\",\"type\":\"Grid\"},{\"id\":\"0859bfa7-f031-4e5c-a9a6-617ae373ea39\",\"type\":\"BoxAnnotation\"},{\"id\":\"1dd5c497-4367-44f3-898b-1636c3eaf0d2\",\"type\":\"GlyphRenderer\"},{\"id\":\"0d26d22f-c524-4f94-a57b-267031507852\",\"type\":\"GlyphRenderer\"},{\"id\":\"e48cc396-3da3-41ae-bec2-ade1c6eb9015\",\"type\":\"LabelSet\"},{\"id\":\"27dc3e96-9990-4ccb-9a75-6707c796cae8\",\"type\":\"GlyphRenderer\"},{\"id\":\"cab12b21-fc8d-4e5e-9d87-f866e501d585\",\"type\":\"LabelSet\"}],\"title\":{\"id\":\"8e483424-aaaf-4cf6-abc1-810a6dc03536\",\"type\":\"Title\"},\"tool_events\":{\"id\":\"e1f85761-3d3d-4273-99d8-3217209198c3\",\"type\":\"ToolEvents\"},\"toolbar\":{\"id\":\"4a2c2ca4-6271-4ffc-924c-af112049b8c7\",\"type\":\"Toolbar\"},\"toolbar_location\":null,\"x_range\":{\"id\":\"28366e44-4650-4fbd-bd56-837b38a1d210\",\"type\":\"Range1d\"},\"y_range\":{\"id\":\"bfab60d3-1b2c-44b1-8211-9078ee9261ac\",\"type\":\"Range1d\"}},\"id\":\"468eed9b-6834-469c-9dcc-6fb17a8507f0\",\"subtype\":\"Figure\",\"type\":\"Plot\"},{\"attributes\":{\"callback\":null,\"end\":136786630,\"start\":135757320},\"id\":\"28366e44-4650-4fbd-bd56-837b38a1d210\",\"type\":\"Range1d\"},{\"attributes\":{\"data_source\":{\"id\":\"f087e556-59ca-430b-bf7e-f21de52a4cf4\",\"type\":\"ColumnDataSource\"},\"glyph\":{\"id\":\"38349463-f622-4ae5-8fdd-5fce4610c4c5\",\"type\":\"MultiLine\"},\"hover_glyph\":null,\"nonselection_glyph\":{\"id\":\"b001537f-fcaa-4206-98e3-edc0018fb631\",\"type\":\"MultiLine\"},\"selection_glyph\":null},\"id\":\"0d26d22f-c524-4f94-a57b-267031507852\",\"type\":\"GlyphRenderer\"},{\"attributes\":{\"plot\":{\"id\":\"468eed9b-6834-469c-9dcc-6fb17a8507f0\",\"subtype\":\"Figure\",\"type\":\"Plot\"}},\"id\":\"f67fa832-be5c-434f-843f-5ab1682fb54a\",\"type\":\"ResetTool\"},{\"attributes\":{},\"id\":\"90004d4e-89cc-4ecb-9693-13a07dbce98e\",\"type\":\"BasicTicker\"},{\"attributes\":{\"formatter\":{\"id\":\"aa08bb0b-72c1-43e4-9e90-dd4a6f1021d3\",\"type\":\"BasicTickFormatter\"},\"plot\":{\"id\":\"468eed9b-6834-469c-9dcc-6fb17a8507f0\",\"subtype\":\"Figure\",\"type\":\"Plot\"},\"ticker\":{\"id\":\"90004d4e-89cc-4ecb-9693-13a07dbce98e\",\"type\":\"BasicTicker\"},\"visible\":null},\"id\":\"ec929483-92ca-486e-84be-3d053e7e8315\",\"type\":\"LinearAxis\"},{\"attributes\":{\"callback\":null,\"column_names\":[\"y\",\"x\",\"vals\"],\"data\":{\"vals\":[\"13_1696\",\"9_944\",\"5_60\",\"32_1361\",\"13_1227\",\"4_1442\",\"7_1303\",\"7_1760\",\"24_1504\",\"20_56\",\"6_167\",\"17_121\",\"18_172\",\"5_212\"],\"x\":[135757320,135829592,136033790,136393658,136500475,136506375,136535876,136588031,136653925,136654760,136658238,136666402,136696010,136704466],\"y\":[801.0,496.0,172.0,699.0,498.0,699.0,599.0,801.0,800.0,71.0,281.0,178.0,381.0,483.0]}},\"id\":\"6c5fba3c-d059-4467-87b4-af0cf5a42f3a\",\"type\":\"ColumnDataSource\"},{\"attributes\":{\"callback\":null,\"column_names\":[\"y\",\"x\",\"vals\"],\"data\":{\"vals\":[\"RAB3GAP1\",\"ZRANB3\",\"R3HDM1\",\"UBXN4\",\"LCT\",\"MCM6\",\"DARS\"],\"x\":[135869057.0,136122878.0,136385961.0,136520911.0,136570082.5,136615621.5,136703738.0],\"y\":[860.0,860.0,860.0,860.0,860.0,860.0,860.0]}},\"id\":\"e30898fe-dfdd-482d-aec4-aad2bc82dbfb\",\"type\":\"ColumnDataSource\"},{\"attributes\":{\"callback\":null,\"column_names\":[\"xs\",\"ys\",\"line_color\"],\"data\":{\"line_color\":[\"black\",\"black\",\"black\",\"black\",\"black\",\"black\",\"black\",\"black\",\"black\",\"black\",\"black\",\"black\",\"black\",\"black\",\"black\",\"black\",\"black\",\"black\",\"black\",\"black\",\"black\",\"black\",\"black\",\"black\",\"black\",\"black\",\"black\",\"black\",\"black\",\"black\",\"black\",\"black\",\"black\",\"black\",\"black\",\"black\",\"black\",\"black\",\"black\",\"black\",\"black\",\"black\",\"black\",\"black\",\"black\",\"black\",\"black\",\"black\",\"black\",\"black\",\"black\",\"black\",\"black\",\"black\",\"black\",\"black\",\"black\",\"black\",\"black\",\"black\",\"black\",\"black\",\"black\",\"black\",\"black\",\"black\",\"black\",\"black\",\"black\",\"black\",\"black\",\"black\",\"black\",\"black\",\"black\",\"black\",\"black\",\"black\",\"black\",\"black\",\"black\",\"black\",\"black\",\"black\",\"black\",\"black\",\"black\",\"black\",\"black\",\"black\",\"black\",\"black\",\"black\",\"black\",\"black\",\"black\",\"black\",\"black\",\"black\",\"black\",\"black\",\"black\",\"black\",\"black\",\"black\",\"black\",\"black\",\"black\",\"black\",\"black\",\"black\",\"black\",\"black\",\"black\",\"black\",\"black\",\"black\",\"black\",\"black\",\"black\",\"black\",\"black\",\"black\",\"black\",\"black\",\"black\",\"black\",\"black\",\"black\",\"black\",\"black\",\"black\",\"black\",\"black\",\"black\",\"black\",\"black\",\"black\",\"black\",\"black\",\"black\",\"black\",\"black\",\"black\",\"black\",\"black\",\"black\",\"black\",\"black\",\"black\",\"black\",\"black\",\"black\",\"black\",\"black\",\"black\",\"black\",\"black\",\"black\",\"black\",\"black\",\"black\",\"black\",\"black\",\"black\",\"black\",\"black\",\"black\",\"black\",\"black\",\"black\",\"black\",\"black\",\"black\",\"black\",\"black\",\"black\",\"black\",\"black\",\"black\"],\"xs\":[[135757320,135757320],[135761078,135761078],[135761271,135761271],[135762344,135762344],[135762980,135762980],[135763280,135763280],[135768815,135768815],[135769093,135769093],[135769127,135769127],[135770940,135770940],[135770951,135770951],[135776728,135776728],[135777504,135777504],[135829592,135829592],[135893372,135893372],[135952405,135952405],[135989721,135989721],[136136056,136136056],[136313639,136313639],[136401418,136401418],[136407078,136407078],[136420908,136420908],[136033790,136033790],[136103753,136103753],[136236633,136236633],[136277069,136277069],[136325737,136325737],[136393658,136393658],[136396300,136396300],[136401843,136401843],[136407445,136407445],[136411879,136411879],[136412270,136412270],[136413244,136413244],[136413847,136413847],[136415217,136415217],[136416533,136416533],[136420726,136420726],[136429857,136429857],[136433740,136433740],[136436317,136436317],[136437615,136437615],[136438517,136438517],[136440300,136440300],[136443900,136443900],[136444185,136444185],[136444338,136444338],[136449254,136449254],[136451676,136451676],[136459227,136459227],[136463117,136463117],[136463454,136463454],[136467119,136467119],[136468238,136468238],[136470219,136470219],[136483355,136483355],[136485276,136485276],[136486340,136486340],[136486342,136486342],[136500475,136500475],[136501509,136501509],[136504101,136504101],[136509868,136509868],[136520043,136520043],[136527120,136527120],[136530379,136530379],[136530443,136530443],[136539330,136539330],[136539670,136539670],[136540083,136540083],[136542559,136542559],[136542560,136542560],[136506375,136506375],[136506927,136506927],[136510012,136510012],[136538939,136538939],[136535876,136535876],[136544651,136544651],[136545844,136545844],[136552526,136552526],[136553022,136553022],[136554797,136554797],[136554890,136554890],[136588031,136588031],[136589278,136589278],[136589379,136589379],[136589741,136589741],[136590746,136590746],[136593553,136593553],[136593678,136593678],[136653925,136653925],[136654833,136654833],[136656534,136656534],[136656536,136656536],[136657252,136657252],[136667301,136667301],[136667487,136667487],[136672775,136672775],[136680534,136680534],[136686393,136686393],[136688749,136688749],[136692553,136692553],[136697371,136697371],[136708787,136708787],[136710372,136710372],[136711064,136711064],[136715324,136715324],[136723504,136723504],[136737460,136737460],[136743143,136743143],[136746224,136746224],[136751842,136751842],[136759379,136759379],[136761853,136761853],[136654760,136654760],[136660234,136660234],[136666899,136666899],[136666900,136666900],[136678320,136678320],[136684951,136684951],[136702944,136702944],[136717522,136717522],[136719684,136719684],[136726822,136726822],[136728353,136728353],[136741501,136741501],[136750334,136750334],[136755124,136755124],[136758216,136758216],[136765773,136765773],[136766165,136766165],[136766570,136766570],[136766635,136766635],[136770767,136770767],[136658238,136658238],[136658821,136658821],[136664975,136664975],[136674123,136674123],[136677052,136677052],[136677919,136677919],[136666402,136666402],[136687260,136687260],[136688452,136688452],[136698242,136698242],[136701773,136701773],[136701926,136701926],[136701930,136701930],[136708426,136708426],[136714412,136714412],[136721430,136721430],[136729906,136729906],[136750914,136750914],[136751990,136751990],[136753305,136753305],[136755711,136755711],[136760887,136760887],[136768655,136768655],[136696010,136696010],[136696794,136696794],[136700762,136700762],[136703387,136703387],[136708405,136708405],[136708737,136708737],[136710616,136710616],[136715715,136715715],[136716781,136716781],[136731550,136731550],[136735482,136735482],[136736120,136736120],[136738235,136738235],[136739038,136739038],[136743138,136743138],[136744366,136744366],[136754269,136754269],[136764564,136764564],[136704466,136704466],[136714792,136714792],[136724974,136724974],[136725890,136725890],[136732214,136732214]],\"ys\":[[750,796],[750,796],[750,796],[750,796],[750,796],[750,796],[750,796],[750,796],[750,796],[750,796],[750,796],[750,796],[750,796],[450,491],[450,491],[450,491],[450,491],[450,491],[450,491],[450,491],[450,491],[450,491],[150,167],[150,167],[150,167],[150,167],[150,167],[650,694],[650,694],[650,694],[650,694],[650,694],[650,694],[650,694],[650,694],[650,694],[650,694],[650,694],[650,694],[650,694],[650,694],[650,694],[650,694],[650,694],[650,694],[650,694],[650,694],[650,694],[650,694],[650,694],[650,694],[650,694],[650,694],[650,694],[650,694],[650,694],[650,694],[650,694],[650,694],[450,493],[450,493],[450,493],[450,493],[450,493],[450,493],[450,493],[450,493],[450,493],[450,493],[450,493],[450,493],[450,493],[650,694],[650,694],[650,694],[650,694],[550,594],[550,594],[550,594],[550,594],[550,594],[550,594],[550,594],[750,796],[750,796],[750,796],[750,796],[750,796],[750,796],[750,796],[750,795],[750,795],[750,795],[750,795],[750,795],[750,795],[750,795],[750,795],[750,795],[750,795],[750,795],[750,795],[750,795],[750,795],[750,795],[750,795],[750,795],[750,795],[750,795],[750,795],[750,795],[750,795],[750,795],[750,795],[50,66],[50,66],[50,66],[50,66],[50,66],[50,66],[50,66],[50,66],[50,66],[50,66],[50,66],[50,66],[50,66],[50,66],[50,66],[50,66],[50,66],[50,66],[50,66],[50,66],[250,276],[250,276],[250,276],[250,276],[250,276],[250,276],[150,173],[150,173],[150,173],[150,173],[150,173],[150,173],[150,173],[150,173],[150,173],[150,173],[150,173],[150,173],[150,173],[150,173],[150,173],[150,173],[150,173],[350,376],[350,376],[350,376],[350,376],[350,376],[350,376],[350,376],[350,376],[350,376],[350,376],[350,376],[350,376],[350,376],[350,376],[350,376],[350,376],[350,376],[350,376],[450,478],[450,478],[450,478],[450,478],[450,478]]}},\"id\":\"f087e556-59ca-430b-bf7e-f21de52a4cf4\",\"type\":\"ColumnDataSource\"},{\"attributes\":{\"plot\":{\"id\":\"468eed9b-6834-469c-9dcc-6fb17a8507f0\",\"subtype\":\"Figure\",\"type\":\"Plot\"},\"ticker\":{\"id\":\"8c104edc-789c-4668-b367-c37b72010d93\",\"type\":\"BasicTicker\"}},\"id\":\"227f5b42-eaf4-4dd7-9cd5-092ea97c42b8\",\"type\":\"Grid\"},{\"attributes\":{\"bottom\":{\"field\":\"bottom\"},\"fill_color\":{\"field\":\"fill_color\"},\"left\":{\"field\":\"left\"},\"line_color\":{\"value\":null},\"right\":{\"field\":\"right\"},\"top\":{\"field\":\"top\"}},\"id\":\"cf91f8ef-53cd-4ea0-b74d-3a62474f7e19\",\"type\":\"Quad\"},{\"attributes\":{\"bottom\":{\"field\":\"bottom\"},\"fill_alpha\":{\"value\":0.1},\"fill_color\":{\"value\":\"#1f77b4\"},\"left\":{\"field\":\"left\"},\"line_alpha\":{\"value\":0.1},\"line_color\":{\"value\":\"#1f77b4\"},\"right\":{\"field\":\"right\"},\"top\":{\"field\":\"top\"}},\"id\":\"fdc159db-3232-4e4d-a433-c65893c4b9c7\",\"type\":\"Quad\"},{\"attributes\":{\"plot\":{\"id\":\"468eed9b-6834-469c-9dcc-6fb17a8507f0\",\"subtype\":\"Figure\",\"type\":\"Plot\"}},\"id\":\"7cca4ded-82e7-4d5d-905f-252bb43554a8\",\"type\":\"WheelZoomTool\"},{\"attributes\":{\"bottom_units\":\"screen\",\"fill_alpha\":{\"value\":0.5},\"fill_color\":{\"value\":\"lightgrey\"},\"left_units\":\"screen\",\"level\":\"overlay\",\"line_alpha\":{\"value\":1.0},\"line_color\":{\"value\":\"black\"},\"line_dash\":[4,4],\"line_width\":{\"value\":2},\"plot\":null,\"render_mode\":\"css\",\"right_units\":\"screen\",\"top_units\":\"screen\"},\"id\":\"0859bfa7-f031-4e5c-a9a6-617ae373ea39\",\"type\":\"BoxAnnotation\"},{\"attributes\":{\"data_source\":{\"id\":\"a67164eb-9e3e-4f2b-b01d-ccc8f45415ba\",\"type\":\"ColumnDataSource\"},\"glyph\":{\"id\":\"cf91f8ef-53cd-4ea0-b74d-3a62474f7e19\",\"type\":\"Quad\"},\"hover_glyph\":null,\"nonselection_glyph\":{\"id\":\"fdc159db-3232-4e4d-a433-c65893c4b9c7\",\"type\":\"Quad\"},\"selection_glyph\":null},\"id\":\"1dd5c497-4367-44f3-898b-1636c3eaf0d2\",\"type\":\"GlyphRenderer\"}],\"root_ids\":[\"468eed9b-6834-469c-9dcc-6fb17a8507f0\"]},\"title\":\"Bokeh Application\",\"version\":\"0.12.0\"}};\n",
       "            var render_items = [{\"docid\":\"e25a60b6-1f05-4b6c-a746-e9d03c888fd6\",\"elementid\":\"f24ca42c-e3e5-44c2-b2ee-c3ec1b1070ef\",\"modelid\":\"468eed9b-6834-469c-9dcc-6fb17a8507f0\",\"notebook_comms_target\":\"7e0b9357-9e30-4940-8115-7c5af36e3b23\"}];\n",
       "            \n",
       "            Bokeh.embed.embed_items(docs_json, render_items);\n",
       "        });\n",
       "      },\n",
       "      function(Bokeh) {\n",
       "      }\n",
       "    ];\n",
       "  \n",
       "    function run_inline_js() {\n",
       "      for (var i = 0; i < inline_js.length; i++) {\n",
       "        inline_js[i](window.Bokeh);\n",
       "      }\n",
       "    }\n",
       "  \n",
       "    if (window._bokeh_is_loading === 0) {\n",
       "      console.log(\"Bokeh: BokehJS loaded, going straight to plotting\");\n",
       "      run_inline_js();\n",
       "    } else {\n",
       "      load_libs(js_urls, function() {\n",
       "        console.log(\"Bokeh: BokehJS plotting callback run at\", now());\n",
       "        run_inline_js();\n",
       "      });\n",
       "    }\n",
       "  }(this));\n",
       "</script>"
      ]
     },
     "metadata": {},
     "output_type": "display_data"
    },
    {
     "data": {
      "text/html": [
       "<p><code>&lt;Bokeh Notebook handle for <strong>In[9]</strong>&gt;</code></p>"
      ],
      "text/plain": [
       "<bokeh.io._CommsHandle at 0x7fc7bc9dd9d0>"
      ]
     },
     "execution_count": 9,
     "metadata": {},
     "output_type": "execute_result"
    }
   ],
   "source": [
    "plt_obj = dm.superset_yes_no([di_5_60, dm.di_13_1696, dm.di_4_1442, dm.di_24_1504], \n",
    "                             [dm.di_81_857], min_match=0.001)\n",
    "plt = plt_obj.do_plot()\n",
    "show(plt)"
   ]
  },
  {
   "cell_type": "code",
   "execution_count": 10,
   "metadata": {
    "collapsed": false
   },
   "outputs": [
    {
     "data": {
      "text/html": [
       "<table>\n",
       "<thead><tr><th style=\"text-align:center\">index</th><th style=\"text-align:center\">first</th><th style=\"text-align:center\">length</th><th style=\"text-align:center\">snps</th><th style=\"text-align:center\" colspan=2>alleles</th><th style=\"text-align:center\" colspan=2>matches</th><th style=\"text-align:center\" colspan=2>afr</th><th style=\"text-align:center\" colspan=2>afx</th><th style=\"text-align:center\" colspan=2>amr</th><th style=\"text-align:center\" colspan=2>eas</th><th style=\"text-align:center\" colspan=2>eur</th><th style=\"text-align:center\" colspan=2>sas</th><th style=\"text-align:center\" colspan=2>sax</th></tr></thead>\n",
       "<tr class=\"even\"><td style=\"text-align: right;\">354033</td><td style=\"text-align: right;\">136,588,031</td><td style=\"text-align: right;\">5,647</td><td style=\"text-align: right;\">7</td><td style=\"text-align: right;\">1760</td><td style=\"text-align: right;\">0.00</td><td style=\"text-align: right;\">3</td><td style=\"text-align: right;\">1.00</td><td style=\"text-align: right;\">0</td><td style=\"text-align: right;\">0.00</td><td style=\"text-align: right;\">0</td><td style=\"text-align: right;\">0.00</td><td style=\"text-align: right;\">0</td><td style=\"text-align: right;\">0.00</td><td style=\"text-align: right;\">0</td><td style=\"text-align: right;\">0.00</td><td style=\"text-align: right;\">0</td><td style=\"text-align: right;\">0.00</td><td style=\"text-align: right;\">0</td><td style=\"text-align: right;\">0.00</td><td style=\"text-align: right;\">3</td><td style=\"text-align: right;\">8.56</td></tr>\n",
       "<tr><td style=\"text-align: right;\">353240</td><td style=\"text-align: right;\">135,757,320</td><td style=\"text-align: right;\">20,184</td><td style=\"text-align: right;\">13</td><td style=\"text-align: right;\">1696</td><td style=\"text-align: right;\">0.00</td><td style=\"text-align: right;\">3</td><td style=\"text-align: right;\">1.00</td><td style=\"text-align: right;\">0</td><td style=\"text-align: right;\">0.00</td><td style=\"text-align: right;\">0</td><td style=\"text-align: right;\">0.00</td><td style=\"text-align: right;\">0</td><td style=\"text-align: right;\">0.00</td><td style=\"text-align: right;\">0</td><td style=\"text-align: right;\">0.00</td><td style=\"text-align: right;\">0</td><td style=\"text-align: right;\">0.00</td><td style=\"text-align: right;\">0</td><td style=\"text-align: right;\">0.00</td><td style=\"text-align: right;\">3</td><td style=\"text-align: right;\">8.56</td></tr>\n",
       "<tr class=\"even\"><td style=\"text-align: right;\">354130</td><td style=\"text-align: right;\">136,653,925</td><td style=\"text-align: right;\">107,928</td><td style=\"text-align: right;\">24</td><td style=\"text-align: right;\">1504</td><td style=\"text-align: right;\">0.00</td><td style=\"text-align: right;\">3</td><td style=\"text-align: right;\">1.00</td><td style=\"text-align: right;\">0</td><td style=\"text-align: right;\">0.00</td><td style=\"text-align: right;\">0</td><td style=\"text-align: right;\">0.00</td><td style=\"text-align: right;\">0</td><td style=\"text-align: right;\">0.00</td><td style=\"text-align: right;\">0</td><td style=\"text-align: right;\">0.00</td><td style=\"text-align: right;\">0</td><td style=\"text-align: right;\">0.00</td><td style=\"text-align: right;\">0</td><td style=\"text-align: right;\">0.00</td><td style=\"text-align: right;\">3</td><td style=\"text-align: right;\">8.56</td></tr>\n",
       "<tr><td style=\"text-align: right;\">353925</td><td style=\"text-align: right;\">136,506,375</td><td style=\"text-align: right;\">32,564</td><td style=\"text-align: right;\">4</td><td style=\"text-align: right;\">1442</td><td style=\"text-align: right;\">0.00</td><td style=\"text-align: right;\">3</td><td style=\"text-align: right;\">1.00</td><td style=\"text-align: right;\">0</td><td style=\"text-align: right;\">0.00</td><td style=\"text-align: right;\">0</td><td style=\"text-align: right;\">0.00</td><td style=\"text-align: right;\">0</td><td style=\"text-align: right;\">0.00</td><td style=\"text-align: right;\">0</td><td style=\"text-align: right;\">0.00</td><td style=\"text-align: right;\">0</td><td style=\"text-align: right;\">0.00</td><td style=\"text-align: right;\">0</td><td style=\"text-align: right;\">0.00</td><td style=\"text-align: right;\">3</td><td style=\"text-align: right;\">8.56</td></tr>\n",
       "<tr class=\"even\"><td style=\"text-align: right;\">353791</td><td style=\"text-align: right;\">136,393,658</td><td style=\"text-align: right;\">92,684</td><td style=\"text-align: right;\">32</td><td style=\"text-align: right;\">1361</td><td style=\"text-align: right;\">0.00</td><td style=\"text-align: right;\">3</td><td style=\"text-align: right;\">1.00</td><td style=\"text-align: right;\">0</td><td style=\"text-align: right;\">0.00</td><td style=\"text-align: right;\">0</td><td style=\"text-align: right;\">0.00</td><td style=\"text-align: right;\">0</td><td style=\"text-align: right;\">0.00</td><td style=\"text-align: right;\">0</td><td style=\"text-align: right;\">0.00</td><td style=\"text-align: right;\">0</td><td style=\"text-align: right;\">0.00</td><td style=\"text-align: right;\">0</td><td style=\"text-align: right;\">0.00</td><td style=\"text-align: right;\">3</td><td style=\"text-align: right;\">8.56</td></tr>\n",
       "<tr><td style=\"text-align: right;\">353958</td><td style=\"text-align: right;\">136,535,876</td><td style=\"text-align: right;\">19,014</td><td style=\"text-align: right;\">7</td><td style=\"text-align: right;\">1303</td><td style=\"text-align: right;\">0.00</td><td style=\"text-align: right;\">3</td><td style=\"text-align: right;\">1.00</td><td style=\"text-align: right;\">0</td><td style=\"text-align: right;\">0.00</td><td style=\"text-align: right;\">0</td><td style=\"text-align: right;\">0.00</td><td style=\"text-align: right;\">0</td><td style=\"text-align: right;\">0.00</td><td style=\"text-align: right;\">0</td><td style=\"text-align: right;\">0.00</td><td style=\"text-align: right;\">0</td><td style=\"text-align: right;\">0.00</td><td style=\"text-align: right;\">0</td><td style=\"text-align: right;\">0.00</td><td style=\"text-align: right;\">3</td><td style=\"text-align: right;\">8.56</td></tr>\n",
       "<tr class=\"even\"><td style=\"text-align: right;\">353919</td><td style=\"text-align: right;\">136,500,475</td><td style=\"text-align: right;\">42,085</td><td style=\"text-align: right;\">13</td><td style=\"text-align: right;\">1227</td><td style=\"text-align: right;\">0.00</td><td style=\"text-align: right;\">3</td><td style=\"text-align: right;\">1.00</td><td style=\"text-align: right;\">0</td><td style=\"text-align: right;\">0.00</td><td style=\"text-align: right;\">0</td><td style=\"text-align: right;\">0.00</td><td style=\"text-align: right;\">0</td><td style=\"text-align: right;\">0.00</td><td style=\"text-align: right;\">0</td><td style=\"text-align: right;\">0.00</td><td style=\"text-align: right;\">0</td><td style=\"text-align: right;\">0.00</td><td style=\"text-align: right;\">0</td><td style=\"text-align: right;\">0.00</td><td style=\"text-align: right;\">3</td><td style=\"text-align: right;\">8.56</td></tr>\n",
       "<tr><td style=\"text-align: right;\">353372</td><td style=\"text-align: right;\">135,829,592</td><td style=\"text-align: right;\">591,316</td><td style=\"text-align: right;\">9</td><td style=\"text-align: right;\">944</td><td style=\"text-align: right;\">0.00</td><td style=\"text-align: right;\">3</td><td style=\"text-align: right;\">1.00</td><td style=\"text-align: right;\">0</td><td style=\"text-align: right;\">0.00</td><td style=\"text-align: right;\">0</td><td style=\"text-align: right;\">0.00</td><td style=\"text-align: right;\">0</td><td style=\"text-align: right;\">0.00</td><td style=\"text-align: right;\">0</td><td style=\"text-align: right;\">0.00</td><td style=\"text-align: right;\">0</td><td style=\"text-align: right;\">0.00</td><td style=\"text-align: right;\">0</td><td style=\"text-align: right;\">0.00</td><td style=\"text-align: right;\">3</td><td style=\"text-align: right;\">8.56</td></tr>\n",
       "<tr class=\"even\"><td style=\"text-align: right;\">354189</td><td style=\"text-align: right;\">136,704,466</td><td style=\"text-align: right;\">27,748</td><td style=\"text-align: right;\">5</td><td style=\"text-align: right;\">212</td><td style=\"text-align: right;\">0.01</td><td style=\"text-align: right;\">3</td><td style=\"text-align: right;\">1.00</td><td style=\"text-align: right;\">0</td><td style=\"text-align: right;\">0.00</td><td style=\"text-align: right;\">0</td><td style=\"text-align: right;\">0.00</td><td style=\"text-align: right;\">0</td><td style=\"text-align: right;\">0.00</td><td style=\"text-align: right;\">0</td><td style=\"text-align: right;\">0.00</td><td style=\"text-align: right;\">0</td><td style=\"text-align: right;\">0.00</td><td style=\"text-align: right;\">0</td><td style=\"text-align: right;\">0.00</td><td style=\"text-align: right;\">3</td><td style=\"text-align: right;\">8.56</td></tr>\n",
       "<tr><td style=\"text-align: right;\">354181</td><td style=\"text-align: right;\">136,696,010</td><td style=\"text-align: right;\">68,554</td><td style=\"text-align: right;\">18</td><td style=\"text-align: right;\">172</td><td style=\"text-align: right;\">0.02</td><td style=\"text-align: right;\">3</td><td style=\"text-align: right;\">1.00</td><td style=\"text-align: right;\">0</td><td style=\"text-align: right;\">0.00</td><td style=\"text-align: right;\">0</td><td style=\"text-align: right;\">0.00</td><td style=\"text-align: right;\">0</td><td style=\"text-align: right;\">0.00</td><td style=\"text-align: right;\">0</td><td style=\"text-align: right;\">0.00</td><td style=\"text-align: right;\">0</td><td style=\"text-align: right;\">0.00</td><td style=\"text-align: right;\">0</td><td style=\"text-align: right;\">0.00</td><td style=\"text-align: right;\">3</td><td style=\"text-align: right;\">8.56</td></tr>\n",
       "<tr class=\"even\"><td style=\"text-align: right;\">354143</td><td style=\"text-align: right;\">136,658,238</td><td style=\"text-align: right;\">19,681</td><td style=\"text-align: right;\">6</td><td style=\"text-align: right;\">167</td><td style=\"text-align: right;\">0.02</td><td style=\"text-align: right;\">3</td><td style=\"text-align: right;\">1.00</td><td style=\"text-align: right;\">0</td><td style=\"text-align: right;\">0.00</td><td style=\"text-align: right;\">0</td><td style=\"text-align: right;\">0.00</td><td style=\"text-align: right;\">0</td><td style=\"text-align: right;\">0.00</td><td style=\"text-align: right;\">0</td><td style=\"text-align: right;\">0.00</td><td style=\"text-align: right;\">0</td><td style=\"text-align: right;\">0.00</td><td style=\"text-align: right;\">0</td><td style=\"text-align: right;\">0.00</td><td style=\"text-align: right;\">3</td><td style=\"text-align: right;\">8.56</td></tr>\n",
       "<tr><td style=\"text-align: right;\">354156</td><td style=\"text-align: right;\">136,666,402</td><td style=\"text-align: right;\">102,253</td><td style=\"text-align: right;\">17</td><td style=\"text-align: right;\">121</td><td style=\"text-align: right;\">0.02</td><td style=\"text-align: right;\">3</td><td style=\"text-align: right;\">1.00</td><td style=\"text-align: right;\">0</td><td style=\"text-align: right;\">0.00</td><td style=\"text-align: right;\">0</td><td style=\"text-align: right;\">0.00</td><td style=\"text-align: right;\">0</td><td style=\"text-align: right;\">0.00</td><td style=\"text-align: right;\">0</td><td style=\"text-align: right;\">0.00</td><td style=\"text-align: right;\">0</td><td style=\"text-align: right;\">0.00</td><td style=\"text-align: right;\">0</td><td style=\"text-align: right;\">0.00</td><td style=\"text-align: right;\">3</td><td style=\"text-align: right;\">8.56</td></tr>\n",
       "<tr class=\"even\"><td style=\"text-align: right;\">353564</td><td style=\"text-align: right;\">136,033,790</td><td style=\"text-align: right;\">291,947</td><td style=\"text-align: right;\">5</td><td style=\"text-align: right;\">60</td><td style=\"text-align: right;\">0.05</td><td style=\"text-align: right;\">3</td><td style=\"text-align: right;\">1.00</td><td style=\"text-align: right;\">0</td><td style=\"text-align: right;\">0.00</td><td style=\"text-align: right;\">0</td><td style=\"text-align: right;\">0.00</td><td style=\"text-align: right;\">0</td><td style=\"text-align: right;\">0.00</td><td style=\"text-align: right;\">0</td><td style=\"text-align: right;\">0.00</td><td style=\"text-align: right;\">0</td><td style=\"text-align: right;\">0.00</td><td style=\"text-align: right;\">0</td><td style=\"text-align: right;\">0.00</td><td style=\"text-align: right;\">3</td><td style=\"text-align: right;\">8.56</td></tr>\n",
       "<tr><td style=\"text-align: right;\">354133</td><td style=\"text-align: right;\">136,654,760</td><td style=\"text-align: right;\">116,007</td><td style=\"text-align: right;\">20</td><td style=\"text-align: right;\">56</td><td style=\"text-align: right;\">0.05</td><td style=\"text-align: right;\">3</td><td style=\"text-align: right;\">1.00</td><td style=\"text-align: right;\">0</td><td style=\"text-align: right;\">0.00</td><td style=\"text-align: right;\">0</td><td style=\"text-align: right;\">0.00</td><td style=\"text-align: right;\">0</td><td style=\"text-align: right;\">0.00</td><td style=\"text-align: right;\">0</td><td style=\"text-align: right;\">0.00</td><td style=\"text-align: right;\">0</td><td style=\"text-align: right;\">0.00</td><td style=\"text-align: right;\">0</td><td style=\"text-align: right;\">0.00</td><td style=\"text-align: right;\">3</td><td style=\"text-align: right;\">8.56</td></tr>\n",
       "</table>"
      ],
      "text/plain": [
       "<IPython.core.display.HTML object>"
      ]
     },
     "execution_count": 10,
     "metadata": {},
     "output_type": "execute_result"
    }
   ],
   "source": [
    "HTML(plt_obj.get_html())"
   ]
  },
  {
   "cell_type": "code",
   "execution_count": 11,
   "metadata": {
    "collapsed": false
   },
   "outputs": [
    {
     "data": {
      "text/html": [
       "\n",
       "\n",
       "    <div class=\"bk-root\">\n",
       "        <div class=\"plotdiv\" id=\"cf180c8f-4d2d-4c2b-b7ef-663c7734d67c\"></div>\n",
       "    </div>\n",
       "<script type=\"text/javascript\">\n",
       "  \n",
       "  (function(global) {\n",
       "    function now() {\n",
       "      return new Date();\n",
       "    }\n",
       "  \n",
       "    if (typeof (window._bokeh_onload_callbacks) === \"undefined\") {\n",
       "      window._bokeh_onload_callbacks = [];\n",
       "    }\n",
       "  \n",
       "    function run_callbacks() {\n",
       "      window._bokeh_onload_callbacks.forEach(function(callback) { callback() });\n",
       "      delete window._bokeh_onload_callbacks\n",
       "      console.info(\"Bokeh: all callbacks have finished\");\n",
       "    }\n",
       "  \n",
       "    function load_libs(js_urls, callback) {\n",
       "      window._bokeh_onload_callbacks.push(callback);\n",
       "      if (window._bokeh_is_loading > 0) {\n",
       "        console.log(\"Bokeh: BokehJS is being loaded, scheduling callback at\", now());\n",
       "        return null;\n",
       "      }\n",
       "      if (js_urls == null || js_urls.length === 0) {\n",
       "        run_callbacks();\n",
       "        return null;\n",
       "      }\n",
       "      console.log(\"Bokeh: BokehJS not loaded, scheduling load and callback at\", now());\n",
       "      window._bokeh_is_loading = js_urls.length;\n",
       "      for (var i = 0; i < js_urls.length; i++) {\n",
       "        var url = js_urls[i];\n",
       "        var s = document.createElement('script');\n",
       "        s.src = url;\n",
       "        s.async = false;\n",
       "        s.onreadystatechange = s.onload = function() {\n",
       "          window._bokeh_is_loading--;\n",
       "          if (window._bokeh_is_loading === 0) {\n",
       "            console.log(\"Bokeh: all BokehJS libraries loaded\");\n",
       "            run_callbacks()\n",
       "          }\n",
       "        };\n",
       "        s.onerror = function() {\n",
       "          console.warn(\"failed to load library \" + url);\n",
       "        };\n",
       "        console.log(\"Bokeh: injecting script tag for BokehJS library: \", url);\n",
       "        document.getElementsByTagName(\"head\")[0].appendChild(s);\n",
       "      }\n",
       "    };var element = document.getElementById(\"cf180c8f-4d2d-4c2b-b7ef-663c7734d67c\");\n",
       "    if (element == null) {\n",
       "      console.log(\"Bokeh: ERROR: autoload.js configured with elementid 'cf180c8f-4d2d-4c2b-b7ef-663c7734d67c' but no matching script tag was found. \")\n",
       "      return false;\n",
       "    }\n",
       "  \n",
       "    var js_urls = [];\n",
       "  \n",
       "    var inline_js = [\n",
       "      function(Bokeh) {\n",
       "        Bokeh.$(function() {\n",
       "            var docs_json = {\"dfc5a04f-d58e-4a17-b135-3f898d4afb02\":{\"roots\":{\"references\":[{\"attributes\":{\"data_source\":{\"id\":\"aceecf75-4def-489f-8091-cf0e1336d735\",\"type\":\"ColumnDataSource\"},\"glyph\":{\"id\":\"da5c5f26-d9b3-47fd-9cde-94a1db0fe84b\",\"type\":\"MultiLine\"},\"hover_glyph\":null,\"nonselection_glyph\":{\"id\":\"736e6d93-18cc-4617-8df5-c58983e03faa\",\"type\":\"MultiLine\"},\"selection_glyph\":null},\"id\":\"e19d927b-ada0-40c3-8d13-87e131795528\",\"type\":\"GlyphRenderer\"},{\"attributes\":{\"bottom\":{\"field\":\"bottom\"},\"fill_color\":{\"field\":\"fill_color\"},\"left\":{\"field\":\"left\"},\"line_color\":{\"value\":null},\"right\":{\"field\":\"right\"},\"top\":{\"field\":\"top\"}},\"id\":\"bc4f80fb-a426-43a3-a9db-a44bcaf192d6\",\"type\":\"Quad\"},{\"attributes\":{\"active_drag\":\"auto\",\"active_scroll\":\"auto\",\"active_tap\":\"auto\",\"tools\":[{\"id\":\"6cbb4388-7bf2-4215-81cf-39b10b111fc1\",\"type\":\"PanTool\"},{\"id\":\"97034255-048d-4054-8435-5da018ad8cdd\",\"type\":\"WheelZoomTool\"},{\"id\":\"b5a6adee-5662-429f-8192-d9fc0326cb30\",\"type\":\"BoxZoomTool\"},{\"id\":\"53f3d295-3ff7-4ec6-900b-4dd06e0c152e\",\"type\":\"SaveTool\"},{\"id\":\"24d1dd0f-64bd-4808-b791-f819aad7bb33\",\"type\":\"ResetTool\"},{\"id\":\"ca4117f5-58bd-4bff-9495-b275988681b7\",\"type\":\"HelpTool\"}]},\"id\":\"67047bc4-8feb-4503-aa2a-9203c4600377\",\"type\":\"Toolbar\"},{\"attributes\":{\"level\":\"glyph\",\"plot\":{\"id\":\"37a00e07-2330-4d29-b631-7011b23d7dbd\",\"subtype\":\"Figure\",\"type\":\"Plot\"},\"source\":{\"id\":\"0b7cfb0e-aeee-436f-b64a-1a36e3add029\",\"type\":\"ColumnDataSource\"},\"text\":{\"field\":\"vals\"},\"text_align\":\"center\",\"text_baseline\":\"middle\",\"text_font_size\":{\"value\":\"8pt\"},\"x\":{\"field\":\"x\"},\"y\":{\"field\":\"y\"}},\"id\":\"249bd271-c3e6-4ebc-b57d-1fced243738d\",\"type\":\"LabelSet\"},{\"attributes\":{\"plot\":null,\"text\":null},\"id\":\"1df83316-2004-46b3-9085-9e2468da331a\",\"type\":\"Title\"},{\"attributes\":{\"plot\":{\"id\":\"37a00e07-2330-4d29-b631-7011b23d7dbd\",\"subtype\":\"Figure\",\"type\":\"Plot\"}},\"id\":\"97034255-048d-4054-8435-5da018ad8cdd\",\"type\":\"WheelZoomTool\"},{\"attributes\":{\"plot\":{\"id\":\"37a00e07-2330-4d29-b631-7011b23d7dbd\",\"subtype\":\"Figure\",\"type\":\"Plot\"}},\"id\":\"53f3d295-3ff7-4ec6-900b-4dd06e0c152e\",\"type\":\"SaveTool\"},{\"attributes\":{\"dimension\":1,\"plot\":{\"id\":\"37a00e07-2330-4d29-b631-7011b23d7dbd\",\"subtype\":\"Figure\",\"type\":\"Plot\"},\"ticker\":{\"id\":\"8c28bd37-d169-4607-85fa-9a32b406f443\",\"type\":\"BasicTicker\"}},\"id\":\"3b298cf4-66ce-4bfb-8ba3-77ce1d4e23a2\",\"type\":\"Grid\"},{\"attributes\":{\"line_alpha\":{\"value\":0.1},\"line_color\":{\"value\":\"#1f77b4\"},\"xs\":{\"field\":\"xs\"},\"ys\":{\"field\":\"ys\"}},\"id\":\"736e6d93-18cc-4617-8df5-c58983e03faa\",\"type\":\"MultiLine\"},{\"attributes\":{\"formatter\":{\"id\":\"bd1cd219-e727-4363-ad07-c90b761cc051\",\"type\":\"BasicTickFormatter\"},\"plot\":{\"id\":\"37a00e07-2330-4d29-b631-7011b23d7dbd\",\"subtype\":\"Figure\",\"type\":\"Plot\"},\"ticker\":{\"id\":\"e0f71015-8f01-4092-adc3-490b23c0aa82\",\"type\":\"BasicTicker\"}},\"id\":\"c62c3f41-af1b-4acd-812f-7af2a49984c6\",\"type\":\"LinearAxis\"},{\"attributes\":{\"callback\":null,\"column_names\":[\"right\",\"bottom\",\"top\",\"left\"],\"data\":{\"bottom\":[445,445,445,445,445,445,445],\"left\":[135809835,135957574,136289083,136499189,136545415,136597196,136664254],\"right\":[135928279,136288182,136482839,136542633,136594750,136634047,136743222],\"top\":[475,475,475,475,475,475,475]}},\"id\":\"4bf1d400-ea25-4920-b877-c37a2ed01fe5\",\"type\":\"ColumnDataSource\"},{\"attributes\":{\"plot\":{\"id\":\"37a00e07-2330-4d29-b631-7011b23d7dbd\",\"subtype\":\"Figure\",\"type\":\"Plot\"}},\"id\":\"ca4117f5-58bd-4bff-9495-b275988681b7\",\"type\":\"HelpTool\"},{\"attributes\":{\"data_source\":{\"id\":\"21f970ac-ec8f-4130-8386-052f6e9655fe\",\"type\":\"ColumnDataSource\"},\"glyph\":{\"id\":\"bc4f80fb-a426-43a3-a9db-a44bcaf192d6\",\"type\":\"Quad\"},\"hover_glyph\":null,\"nonselection_glyph\":{\"id\":\"b659cd03-81a2-4de1-b372-3861cec14f8a\",\"type\":\"Quad\"},\"selection_glyph\":null},\"id\":\"289b1439-6698-41e4-ab7e-b0827d44e2f7\",\"type\":\"GlyphRenderer\"},{\"attributes\":{\"formatter\":{\"id\":\"07675ec3-d31f-4ea3-9d68-b601a3555853\",\"type\":\"BasicTickFormatter\"},\"plot\":{\"id\":\"37a00e07-2330-4d29-b631-7011b23d7dbd\",\"subtype\":\"Figure\",\"type\":\"Plot\"},\"ticker\":{\"id\":\"8c28bd37-d169-4607-85fa-9a32b406f443\",\"type\":\"BasicTicker\"},\"visible\":null},\"id\":\"c4f174f3-4836-4ec1-a102-cdf242a3f963\",\"type\":\"LinearAxis\"},{\"attributes\":{},\"id\":\"e0f71015-8f01-4092-adc3-490b23c0aa82\",\"type\":\"BasicTicker\"},{\"attributes\":{\"plot\":{\"id\":\"37a00e07-2330-4d29-b631-7011b23d7dbd\",\"subtype\":\"Figure\",\"type\":\"Plot\"}},\"id\":\"24d1dd0f-64bd-4808-b791-f819aad7bb33\",\"type\":\"ResetTool\"},{\"attributes\":{\"overlay\":{\"id\":\"1d9ddde1-9921-4985-8fa3-ecdb783bdf5b\",\"type\":\"BoxAnnotation\"},\"plot\":{\"id\":\"37a00e07-2330-4d29-b631-7011b23d7dbd\",\"subtype\":\"Figure\",\"type\":\"Plot\"}},\"id\":\"b5a6adee-5662-429f-8192-d9fc0326cb30\",\"type\":\"BoxZoomTool\"},{\"attributes\":{\"bottom\":{\"field\":\"bottom\"},\"fill_alpha\":{\"value\":0.1},\"fill_color\":{\"value\":\"#1f77b4\"},\"left\":{\"field\":\"left\"},\"line_alpha\":{\"value\":0.1},\"line_color\":{\"value\":\"#1f77b4\"},\"right\":{\"field\":\"right\"},\"top\":{\"field\":\"top\"}},\"id\":\"6bb0a31a-2133-406b-8212-cf0c7521c8b5\",\"type\":\"Quad\"},{\"attributes\":{},\"id\":\"07675ec3-d31f-4ea3-9d68-b601a3555853\",\"type\":\"BasicTickFormatter\"},{\"attributes\":{\"below\":[{\"id\":\"c62c3f41-af1b-4acd-812f-7af2a49984c6\",\"type\":\"LinearAxis\"}],\"left\":[{\"id\":\"c4f174f3-4836-4ec1-a102-cdf242a3f963\",\"type\":\"LinearAxis\"}],\"plot_height\":500,\"plot_width\":900,\"renderers\":[{\"id\":\"c62c3f41-af1b-4acd-812f-7af2a49984c6\",\"type\":\"LinearAxis\"},{\"id\":\"cce917e9-e04f-4915-ad53-1ab236e25a5f\",\"type\":\"Grid\"},{\"id\":\"c4f174f3-4836-4ec1-a102-cdf242a3f963\",\"type\":\"LinearAxis\"},{\"id\":\"3b298cf4-66ce-4bfb-8ba3-77ce1d4e23a2\",\"type\":\"Grid\"},{\"id\":\"1d9ddde1-9921-4985-8fa3-ecdb783bdf5b\",\"type\":\"BoxAnnotation\"},{\"id\":\"289b1439-6698-41e4-ab7e-b0827d44e2f7\",\"type\":\"GlyphRenderer\"},{\"id\":\"e19d927b-ada0-40c3-8d13-87e131795528\",\"type\":\"GlyphRenderer\"},{\"id\":\"f7b4b700-f581-4b46-88de-3f3cf9c17f11\",\"type\":\"LabelSet\"},{\"id\":\"4bf7ad16-afef-444f-a725-7e80ea3b6571\",\"type\":\"GlyphRenderer\"},{\"id\":\"249bd271-c3e6-4ebc-b57d-1fced243738d\",\"type\":\"LabelSet\"}],\"title\":{\"id\":\"1df83316-2004-46b3-9085-9e2468da331a\",\"type\":\"Title\"},\"tool_events\":{\"id\":\"a8f08e23-c96c-4633-b094-4f3ac2b61ccb\",\"type\":\"ToolEvents\"},\"toolbar\":{\"id\":\"67047bc4-8feb-4503-aa2a-9203c4600377\",\"type\":\"Toolbar\"},\"toolbar_location\":null,\"x_range\":{\"id\":\"74845ce0-8c8e-4ec0-9c2f-d4d737398e69\",\"type\":\"Range1d\"},\"y_range\":{\"id\":\"2fd7074d-760f-4432-b71f-5d4186147640\",\"type\":\"Range1d\"}},\"id\":\"37a00e07-2330-4d29-b631-7011b23d7dbd\",\"subtype\":\"Figure\",\"type\":\"Plot\"},{\"attributes\":{\"line_color\":{\"field\":\"line_color\"},\"xs\":{\"field\":\"xs\"},\"ys\":{\"field\":\"ys\"}},\"id\":\"da5c5f26-d9b3-47fd-9cde-94a1db0fe84b\",\"type\":\"MultiLine\"},{\"attributes\":{\"bottom\":{\"field\":\"bottom\"},\"fill_color\":{\"value\":\"white\"},\"left\":{\"field\":\"left\"},\"right\":{\"field\":\"right\"},\"top\":{\"field\":\"top\"}},\"id\":\"6dcb9bfe-b443-4fdb-ae93-0ca9894933b2\",\"type\":\"Quad\"},{\"attributes\":{},\"id\":\"a8f08e23-c96c-4633-b094-4f3ac2b61ccb\",\"type\":\"ToolEvents\"},{\"attributes\":{},\"id\":\"8c28bd37-d169-4607-85fa-9a32b406f443\",\"type\":\"BasicTicker\"},{\"attributes\":{\"level\":\"glyph\",\"plot\":{\"id\":\"37a00e07-2330-4d29-b631-7011b23d7dbd\",\"subtype\":\"Figure\",\"type\":\"Plot\"},\"source\":{\"id\":\"7a21f3dd-d03f-4f4e-af5d-21f32f487255\",\"type\":\"ColumnDataSource\"},\"text\":{\"field\":\"vals\"},\"text_font_size\":{\"value\":\"9pt\"},\"text_font_style\":\"bold\",\"x\":{\"field\":\"x\"},\"y\":{\"field\":\"y\"}},\"id\":\"f7b4b700-f581-4b46-88de-3f3cf9c17f11\",\"type\":\"LabelSet\"},{\"attributes\":{\"data_source\":{\"id\":\"4bf1d400-ea25-4920-b877-c37a2ed01fe5\",\"type\":\"ColumnDataSource\"},\"glyph\":{\"id\":\"6dcb9bfe-b443-4fdb-ae93-0ca9894933b2\",\"type\":\"Quad\"},\"hover_glyph\":null,\"nonselection_glyph\":{\"id\":\"6bb0a31a-2133-406b-8212-cf0c7521c8b5\",\"type\":\"Quad\"},\"selection_glyph\":null},\"id\":\"4bf7ad16-afef-444f-a725-7e80ea3b6571\",\"type\":\"GlyphRenderer\"},{\"attributes\":{\"plot\":{\"id\":\"37a00e07-2330-4d29-b631-7011b23d7dbd\",\"subtype\":\"Figure\",\"type\":\"Plot\"}},\"id\":\"6cbb4388-7bf2-4215-81cf-39b10b111fc1\",\"type\":\"PanTool\"},{\"attributes\":{\"bottom\":{\"field\":\"bottom\"},\"fill_alpha\":{\"value\":0.1},\"fill_color\":{\"value\":\"#1f77b4\"},\"left\":{\"field\":\"left\"},\"line_alpha\":{\"value\":0.1},\"line_color\":{\"value\":\"#1f77b4\"},\"right\":{\"field\":\"right\"},\"top\":{\"field\":\"top\"}},\"id\":\"b659cd03-81a2-4de1-b372-3861cec14f8a\",\"type\":\"Quad\"},{\"attributes\":{\"callback\":null,\"column_names\":[\"y\",\"x\",\"vals\"],\"data\":{\"vals\":[\"13_1696\",\"9_944\",\"5_60\",\"32_1361\",\"13_1227\",\"4_1442\",\"7_1303\",\"7_1760\"],\"x\":[135757320,135829592,136033790,136393658,136500475,136506375,136535876,136588031],\"y\":[401.0,196.0,72.0,399.0,198.0,399.0,299.0,401.0]}},\"id\":\"7a21f3dd-d03f-4f4e-af5d-21f32f487255\",\"type\":\"ColumnDataSource\"},{\"attributes\":{\"bottom_units\":\"screen\",\"fill_alpha\":{\"value\":0.5},\"fill_color\":{\"value\":\"lightgrey\"},\"left_units\":\"screen\",\"level\":\"overlay\",\"line_alpha\":{\"value\":1.0},\"line_color\":{\"value\":\"black\"},\"line_dash\":[4,4],\"line_width\":{\"value\":2},\"plot\":null,\"render_mode\":\"css\",\"right_units\":\"screen\",\"top_units\":\"screen\"},\"id\":\"1d9ddde1-9921-4985-8fa3-ecdb783bdf5b\",\"type\":\"BoxAnnotation\"},{\"attributes\":{\"callback\":null,\"column_names\":[\"right\",\"bottom\",\"top\",\"left\",\"fill_color\"],\"data\":{\"bottom\":[350,150,50,350,150,350,250,350],\"fill_color\":[\"#808080\",\"#c4c461\",\"#00ffff\",\"#c4c461\",\"#808080\",\"#808080\",\"#808080\",\"#c46161\"],\"left\":[135757320,135829592,136033790,136393658,136500475,136506375,136535876,136588031],\"right\":[135777504,136420908,136325737,136486342,136542560,136538939,136554890,136593678],\"top\":[396,191,67,394,193,394,294,396]}},\"id\":\"21f970ac-ec8f-4130-8386-052f6e9655fe\",\"type\":\"ColumnDataSource\"},{\"attributes\":{\"callback\":null,\"end\":136786630,\"start\":135757320},\"id\":\"74845ce0-8c8e-4ec0-9c2f-d4d737398e69\",\"type\":\"Range1d\"},{\"attributes\":{\"plot\":{\"id\":\"37a00e07-2330-4d29-b631-7011b23d7dbd\",\"subtype\":\"Figure\",\"type\":\"Plot\"},\"ticker\":{\"id\":\"e0f71015-8f01-4092-adc3-490b23c0aa82\",\"type\":\"BasicTicker\"}},\"id\":\"cce917e9-e04f-4915-ad53-1ab236e25a5f\",\"type\":\"Grid\"},{\"attributes\":{\"callback\":null,\"end\":500},\"id\":\"2fd7074d-760f-4432-b71f-5d4186147640\",\"type\":\"Range1d\"},{\"attributes\":{\"callback\":null,\"column_names\":[\"y\",\"x\",\"vals\"],\"data\":{\"vals\":[\"RAB3GAP1\",\"ZRANB3\",\"R3HDM1\",\"UBXN4\",\"LCT\",\"MCM6\",\"DARS\"],\"x\":[135869057.0,136122878.0,136385961.0,136520911.0,136570082.5,136615621.5,136703738.0],\"y\":[460.0,460.0,460.0,460.0,460.0,460.0,460.0]}},\"id\":\"0b7cfb0e-aeee-436f-b64a-1a36e3add029\",\"type\":\"ColumnDataSource\"},{\"attributes\":{\"callback\":null,\"column_names\":[\"xs\",\"ys\",\"line_color\"],\"data\":{\"line_color\":[\"black\",\"black\",\"black\",\"black\",\"black\",\"black\",\"black\",\"black\",\"black\",\"black\",\"black\",\"black\",\"black\",\"black\",\"black\",\"black\",\"black\",\"black\",\"black\",\"black\",\"black\",\"black\",\"black\",\"black\",\"black\",\"black\",\"black\",\"black\",\"black\",\"black\",\"black\",\"black\",\"black\",\"black\",\"black\",\"black\",\"black\",\"black\",\"black\",\"black\",\"black\",\"black\",\"black\",\"black\",\"black\",\"black\",\"black\",\"black\",\"black\",\"black\",\"black\",\"black\",\"black\",\"black\",\"black\",\"black\",\"black\",\"black\",\"black\",\"black\",\"black\",\"black\",\"black\",\"black\",\"black\",\"black\",\"black\",\"black\",\"black\",\"black\",\"black\",\"black\",\"black\",\"black\",\"black\",\"black\",\"black\",\"black\",\"black\",\"black\",\"black\",\"black\",\"black\",\"black\",\"black\",\"black\",\"black\",\"black\",\"black\",\"black\"],\"xs\":[[135757320,135757320],[135761078,135761078],[135761271,135761271],[135762344,135762344],[135762980,135762980],[135763280,135763280],[135768815,135768815],[135769093,135769093],[135769127,135769127],[135770940,135770940],[135770951,135770951],[135776728,135776728],[135777504,135777504],[135829592,135829592],[135893372,135893372],[135952405,135952405],[135989721,135989721],[136136056,136136056],[136313639,136313639],[136401418,136401418],[136407078,136407078],[136420908,136420908],[136033790,136033790],[136103753,136103753],[136236633,136236633],[136277069,136277069],[136325737,136325737],[136393658,136393658],[136396300,136396300],[136401843,136401843],[136407445,136407445],[136411879,136411879],[136412270,136412270],[136413244,136413244],[136413847,136413847],[136415217,136415217],[136416533,136416533],[136420726,136420726],[136429857,136429857],[136433740,136433740],[136436317,136436317],[136437615,136437615],[136438517,136438517],[136440300,136440300],[136443900,136443900],[136444185,136444185],[136444338,136444338],[136449254,136449254],[136451676,136451676],[136459227,136459227],[136463117,136463117],[136463454,136463454],[136467119,136467119],[136468238,136468238],[136470219,136470219],[136483355,136483355],[136485276,136485276],[136486340,136486340],[136486342,136486342],[136500475,136500475],[136501509,136501509],[136504101,136504101],[136509868,136509868],[136520043,136520043],[136527120,136527120],[136530379,136530379],[136530443,136530443],[136539330,136539330],[136539670,136539670],[136540083,136540083],[136542559,136542559],[136542560,136542560],[136506375,136506375],[136506927,136506927],[136510012,136510012],[136538939,136538939],[136535876,136535876],[136544651,136544651],[136545844,136545844],[136552526,136552526],[136553022,136553022],[136554797,136554797],[136554890,136554890],[136588031,136588031],[136589278,136589278],[136589379,136589379],[136589741,136589741],[136590746,136590746],[136593553,136593553],[136593678,136593678]],\"ys\":[[350,396],[350,396],[350,396],[350,396],[350,396],[350,396],[350,396],[350,396],[350,396],[350,396],[350,396],[350,396],[350,396],[150,191],[150,191],[150,191],[150,191],[150,191],[150,191],[150,191],[150,191],[150,191],[50,67],[50,67],[50,67],[50,67],[50,67],[350,394],[350,394],[350,394],[350,394],[350,394],[350,394],[350,394],[350,394],[350,394],[350,394],[350,394],[350,394],[350,394],[350,394],[350,394],[350,394],[350,394],[350,394],[350,394],[350,394],[350,394],[350,394],[350,394],[350,394],[350,394],[350,394],[350,394],[350,394],[350,394],[350,394],[350,394],[350,394],[150,193],[150,193],[150,193],[150,193],[150,193],[150,193],[150,193],[150,193],[150,193],[150,193],[150,193],[150,193],[150,193],[350,394],[350,394],[350,394],[350,394],[250,294],[250,294],[250,294],[250,294],[250,294],[250,294],[250,294],[350,396],[350,396],[350,396],[350,396],[350,396],[350,396],[350,396]]}},\"id\":\"aceecf75-4def-489f-8091-cf0e1336d735\",\"type\":\"ColumnDataSource\"},{\"attributes\":{},\"id\":\"bd1cd219-e727-4363-ad07-c90b761cc051\",\"type\":\"BasicTickFormatter\"}],\"root_ids\":[\"37a00e07-2330-4d29-b631-7011b23d7dbd\"]},\"title\":\"Bokeh Application\",\"version\":\"0.12.0\"}};\n",
       "            var render_items = [{\"docid\":\"dfc5a04f-d58e-4a17-b135-3f898d4afb02\",\"elementid\":\"cf180c8f-4d2d-4c2b-b7ef-663c7734d67c\",\"modelid\":\"37a00e07-2330-4d29-b631-7011b23d7dbd\",\"notebook_comms_target\":\"5b699156-3280-4374-a218-9d06d9c34954\"}];\n",
       "            \n",
       "            Bokeh.embed.embed_items(docs_json, render_items);\n",
       "        });\n",
       "      },\n",
       "      function(Bokeh) {\n",
       "      }\n",
       "    ];\n",
       "  \n",
       "    function run_inline_js() {\n",
       "      for (var i = 0; i < inline_js.length; i++) {\n",
       "        inline_js[i](window.Bokeh);\n",
       "      }\n",
       "    }\n",
       "  \n",
       "    if (window._bokeh_is_loading === 0) {\n",
       "      console.log(\"Bokeh: BokehJS loaded, going straight to plotting\");\n",
       "      run_inline_js();\n",
       "    } else {\n",
       "      load_libs(js_urls, function() {\n",
       "        console.log(\"Bokeh: BokehJS plotting callback run at\", now());\n",
       "        run_inline_js();\n",
       "      });\n",
       "    }\n",
       "  }(this));\n",
       "</script>"
      ]
     },
     "metadata": {},
     "output_type": "display_data"
    },
    {
     "data": {
      "text/html": [
       "<p><code>&lt;Bokeh Notebook handle for <strong>In[11]</strong>&gt;</code></p>"
      ],
      "text/plain": [
       "<bokeh.io._CommsHandle at 0x7fc7bc9c3590>"
      ]
     },
     "execution_count": 11,
     "metadata": {},
     "output_type": "execute_result"
    }
   ],
   "source": [
    "plt_obj = dm.superset_yes_no([di_5_60, dm.di_13_1696, dm.di_4_1442], \n",
    "                             [dm.di_24_1504, dm.di_81_857], min_match=0.001)\n",
    "plt = plt_obj.do_plot()\n",
    "show(plt)"
   ]
  },
  {
   "cell_type": "code",
   "execution_count": 12,
   "metadata": {
    "collapsed": false
   },
   "outputs": [
    {
     "data": {
      "text/html": [
       "<table>\n",
       "<thead><tr><th style=\"text-align:center\">index</th><th style=\"text-align:center\">first</th><th style=\"text-align:center\">length</th><th style=\"text-align:center\">snps</th><th style=\"text-align:center\" colspan=2>alleles</th><th style=\"text-align:center\" colspan=2>matches</th><th style=\"text-align:center\" colspan=2>afr</th><th style=\"text-align:center\" colspan=2>afx</th><th style=\"text-align:center\" colspan=2>amr</th><th style=\"text-align:center\" colspan=2>eas</th><th style=\"text-align:center\" colspan=2>eur</th><th style=\"text-align:center\" colspan=2>sas</th><th style=\"text-align:center\" colspan=2>sax</th></tr></thead>\n",
       "<tr class=\"even\"><td style=\"text-align: right;\">354033</td><td style=\"text-align: right;\">136,588,031</td><td style=\"text-align: right;\">5,647</td><td style=\"text-align: right;\">7</td><td style=\"text-align: right;\">1760</td><td style=\"text-align: right;\">0.00</td><td style=\"text-align: right;\">2</td><td style=\"text-align: right;\">1.00</td><td style=\"text-align: right;\">0</td><td style=\"text-align: right;\">0.00</td><td style=\"text-align: right;\">0</td><td style=\"text-align: right;\">0.00</td><td style=\"text-align: right;\">0</td><td style=\"text-align: right;\">0.00</td><td style=\"text-align: right;\">0</td><td style=\"text-align: right;\">0.00</td><td style=\"text-align: right;\">0</td><td style=\"text-align: right;\">0.00</td><td style=\"text-align: right;\">0</td><td style=\"text-align: right;\">0.00</td><td style=\"text-align: right;\">2</td><td style=\"text-align: right;\">8.44</td></tr>\n",
       "<tr><td style=\"text-align: right;\">353240</td><td style=\"text-align: right;\">135,757,320</td><td style=\"text-align: right;\">20,184</td><td style=\"text-align: right;\">13</td><td style=\"text-align: right;\">1696</td><td style=\"text-align: right;\">0.00</td><td style=\"text-align: right;\">2</td><td style=\"text-align: right;\">1.00</td><td style=\"text-align: right;\">0</td><td style=\"text-align: right;\">0.00</td><td style=\"text-align: right;\">0</td><td style=\"text-align: right;\">0.00</td><td style=\"text-align: right;\">0</td><td style=\"text-align: right;\">0.00</td><td style=\"text-align: right;\">0</td><td style=\"text-align: right;\">0.00</td><td style=\"text-align: right;\">0</td><td style=\"text-align: right;\">0.00</td><td style=\"text-align: right;\">0</td><td style=\"text-align: right;\">0.00</td><td style=\"text-align: right;\">2</td><td style=\"text-align: right;\">8.44</td></tr>\n",
       "<tr class=\"even\"><td style=\"text-align: right;\">353925</td><td style=\"text-align: right;\">136,506,375</td><td style=\"text-align: right;\">32,564</td><td style=\"text-align: right;\">4</td><td style=\"text-align: right;\">1442</td><td style=\"text-align: right;\">0.00</td><td style=\"text-align: right;\">2</td><td style=\"text-align: right;\">1.00</td><td style=\"text-align: right;\">0</td><td style=\"text-align: right;\">0.00</td><td style=\"text-align: right;\">0</td><td style=\"text-align: right;\">0.00</td><td style=\"text-align: right;\">0</td><td style=\"text-align: right;\">0.00</td><td style=\"text-align: right;\">0</td><td style=\"text-align: right;\">0.00</td><td style=\"text-align: right;\">0</td><td style=\"text-align: right;\">0.00</td><td style=\"text-align: right;\">0</td><td style=\"text-align: right;\">0.00</td><td style=\"text-align: right;\">2</td><td style=\"text-align: right;\">8.44</td></tr>\n",
       "<tr><td style=\"text-align: right;\">353791</td><td style=\"text-align: right;\">136,393,658</td><td style=\"text-align: right;\">92,684</td><td style=\"text-align: right;\">32</td><td style=\"text-align: right;\">1361</td><td style=\"text-align: right;\">0.00</td><td style=\"text-align: right;\">2</td><td style=\"text-align: right;\">1.00</td><td style=\"text-align: right;\">0</td><td style=\"text-align: right;\">0.00</td><td style=\"text-align: right;\">0</td><td style=\"text-align: right;\">0.00</td><td style=\"text-align: right;\">0</td><td style=\"text-align: right;\">0.00</td><td style=\"text-align: right;\">0</td><td style=\"text-align: right;\">0.00</td><td style=\"text-align: right;\">0</td><td style=\"text-align: right;\">0.00</td><td style=\"text-align: right;\">0</td><td style=\"text-align: right;\">0.00</td><td style=\"text-align: right;\">2</td><td style=\"text-align: right;\">8.44</td></tr>\n",
       "<tr class=\"even\"><td style=\"text-align: right;\">353958</td><td style=\"text-align: right;\">136,535,876</td><td style=\"text-align: right;\">19,014</td><td style=\"text-align: right;\">7</td><td style=\"text-align: right;\">1303</td><td style=\"text-align: right;\">0.00</td><td style=\"text-align: right;\">2</td><td style=\"text-align: right;\">1.00</td><td style=\"text-align: right;\">0</td><td style=\"text-align: right;\">0.00</td><td style=\"text-align: right;\">0</td><td style=\"text-align: right;\">0.00</td><td style=\"text-align: right;\">0</td><td style=\"text-align: right;\">0.00</td><td style=\"text-align: right;\">0</td><td style=\"text-align: right;\">0.00</td><td style=\"text-align: right;\">0</td><td style=\"text-align: right;\">0.00</td><td style=\"text-align: right;\">0</td><td style=\"text-align: right;\">0.00</td><td style=\"text-align: right;\">2</td><td style=\"text-align: right;\">8.44</td></tr>\n",
       "<tr><td style=\"text-align: right;\">353919</td><td style=\"text-align: right;\">136,500,475</td><td style=\"text-align: right;\">42,085</td><td style=\"text-align: right;\">13</td><td style=\"text-align: right;\">1227</td><td style=\"text-align: right;\">0.00</td><td style=\"text-align: right;\">2</td><td style=\"text-align: right;\">1.00</td><td style=\"text-align: right;\">0</td><td style=\"text-align: right;\">0.00</td><td style=\"text-align: right;\">0</td><td style=\"text-align: right;\">0.00</td><td style=\"text-align: right;\">0</td><td style=\"text-align: right;\">0.00</td><td style=\"text-align: right;\">0</td><td style=\"text-align: right;\">0.00</td><td style=\"text-align: right;\">0</td><td style=\"text-align: right;\">0.00</td><td style=\"text-align: right;\">0</td><td style=\"text-align: right;\">0.00</td><td style=\"text-align: right;\">2</td><td style=\"text-align: right;\">8.44</td></tr>\n",
       "<tr class=\"even\"><td style=\"text-align: right;\">353372</td><td style=\"text-align: right;\">135,829,592</td><td style=\"text-align: right;\">591,316</td><td style=\"text-align: right;\">9</td><td style=\"text-align: right;\">944</td><td style=\"text-align: right;\">0.00</td><td style=\"text-align: right;\">2</td><td style=\"text-align: right;\">1.00</td><td style=\"text-align: right;\">0</td><td style=\"text-align: right;\">0.00</td><td style=\"text-align: right;\">0</td><td style=\"text-align: right;\">0.00</td><td style=\"text-align: right;\">0</td><td style=\"text-align: right;\">0.00</td><td style=\"text-align: right;\">0</td><td style=\"text-align: right;\">0.00</td><td style=\"text-align: right;\">0</td><td style=\"text-align: right;\">0.00</td><td style=\"text-align: right;\">0</td><td style=\"text-align: right;\">0.00</td><td style=\"text-align: right;\">2</td><td style=\"text-align: right;\">8.44</td></tr>\n",
       "<tr><td style=\"text-align: right;\">353564</td><td style=\"text-align: right;\">136,033,790</td><td style=\"text-align: right;\">291,947</td><td style=\"text-align: right;\">5</td><td style=\"text-align: right;\">60</td><td style=\"text-align: right;\">0.03</td><td style=\"text-align: right;\">2</td><td style=\"text-align: right;\">1.00</td><td style=\"text-align: right;\">0</td><td style=\"text-align: right;\">0.00</td><td style=\"text-align: right;\">0</td><td style=\"text-align: right;\">0.00</td><td style=\"text-align: right;\">0</td><td style=\"text-align: right;\">0.00</td><td style=\"text-align: right;\">0</td><td style=\"text-align: right;\">0.00</td><td style=\"text-align: right;\">0</td><td style=\"text-align: right;\">0.00</td><td style=\"text-align: right;\">0</td><td style=\"text-align: right;\">0.00</td><td style=\"text-align: right;\">2</td><td style=\"text-align: right;\">8.44</td></tr>\n",
       "</table>"
      ],
      "text/plain": [
       "<IPython.core.display.HTML object>"
      ]
     },
     "execution_count": 12,
     "metadata": {},
     "output_type": "execute_result"
    }
   ],
   "source": [
    "HTML(plt_obj.get_html())"
   ]
  },
  {
   "cell_type": "code",
   "execution_count": 13,
   "metadata": {
    "collapsed": false
   },
   "outputs": [
    {
     "data": {
      "text/html": [
       "\n",
       "\n",
       "    <div class=\"bk-root\">\n",
       "        <div class=\"plotdiv\" id=\"22e11a70-9686-4e77-afe1-423573c176aa\"></div>\n",
       "    </div>\n",
       "<script type=\"text/javascript\">\n",
       "  \n",
       "  (function(global) {\n",
       "    function now() {\n",
       "      return new Date();\n",
       "    }\n",
       "  \n",
       "    if (typeof (window._bokeh_onload_callbacks) === \"undefined\") {\n",
       "      window._bokeh_onload_callbacks = [];\n",
       "    }\n",
       "  \n",
       "    function run_callbacks() {\n",
       "      window._bokeh_onload_callbacks.forEach(function(callback) { callback() });\n",
       "      delete window._bokeh_onload_callbacks\n",
       "      console.info(\"Bokeh: all callbacks have finished\");\n",
       "    }\n",
       "  \n",
       "    function load_libs(js_urls, callback) {\n",
       "      window._bokeh_onload_callbacks.push(callback);\n",
       "      if (window._bokeh_is_loading > 0) {\n",
       "        console.log(\"Bokeh: BokehJS is being loaded, scheduling callback at\", now());\n",
       "        return null;\n",
       "      }\n",
       "      if (js_urls == null || js_urls.length === 0) {\n",
       "        run_callbacks();\n",
       "        return null;\n",
       "      }\n",
       "      console.log(\"Bokeh: BokehJS not loaded, scheduling load and callback at\", now());\n",
       "      window._bokeh_is_loading = js_urls.length;\n",
       "      for (var i = 0; i < js_urls.length; i++) {\n",
       "        var url = js_urls[i];\n",
       "        var s = document.createElement('script');\n",
       "        s.src = url;\n",
       "        s.async = false;\n",
       "        s.onreadystatechange = s.onload = function() {\n",
       "          window._bokeh_is_loading--;\n",
       "          if (window._bokeh_is_loading === 0) {\n",
       "            console.log(\"Bokeh: all BokehJS libraries loaded\");\n",
       "            run_callbacks()\n",
       "          }\n",
       "        };\n",
       "        s.onerror = function() {\n",
       "          console.warn(\"failed to load library \" + url);\n",
       "        };\n",
       "        console.log(\"Bokeh: injecting script tag for BokehJS library: \", url);\n",
       "        document.getElementsByTagName(\"head\")[0].appendChild(s);\n",
       "      }\n",
       "    };var element = document.getElementById(\"22e11a70-9686-4e77-afe1-423573c176aa\");\n",
       "    if (element == null) {\n",
       "      console.log(\"Bokeh: ERROR: autoload.js configured with elementid '22e11a70-9686-4e77-afe1-423573c176aa' but no matching script tag was found. \")\n",
       "      return false;\n",
       "    }\n",
       "  \n",
       "    var js_urls = [];\n",
       "  \n",
       "    var inline_js = [\n",
       "      function(Bokeh) {\n",
       "        Bokeh.$(function() {\n",
       "            var docs_json = {\"b9701efe-e869-41ba-9655-21c52ff7cce0\":{\"roots\":{\"references\":[{\"attributes\":{},\"id\":\"efce1c68-e337-406d-b093-910e45f57de4\",\"type\":\"ToolEvents\"},{\"attributes\":{},\"id\":\"0ed37d32-db3b-4778-87f0-bc3573c4a042\",\"type\":\"BasicTicker\"},{\"attributes\":{\"data_source\":{\"id\":\"eaa13ae3-d19b-48ea-a8a4-8f235035348d\",\"type\":\"ColumnDataSource\"},\"glyph\":{\"id\":\"c1d96673-ec60-45e9-8eba-ee56af99d440\",\"type\":\"Quad\"},\"hover_glyph\":null,\"nonselection_glyph\":{\"id\":\"9c52f523-429a-4d51-9347-e57e82073980\",\"type\":\"Quad\"},\"selection_glyph\":null},\"id\":\"a0d7791e-1e4f-4593-a3e4-d9d9adc98735\",\"type\":\"GlyphRenderer\"},{\"attributes\":{\"level\":\"glyph\",\"plot\":{\"id\":\"bb9bb92b-274f-4950-b78b-916d842ca3c7\",\"subtype\":\"Figure\",\"type\":\"Plot\"},\"source\":{\"id\":\"f25a91e2-851b-43b5-97be-6923162a2d70\",\"type\":\"ColumnDataSource\"},\"text\":{\"field\":\"vals\"},\"text_font_size\":{\"value\":\"9pt\"},\"text_font_style\":\"bold\",\"x\":{\"field\":\"x\"},\"y\":{\"field\":\"y\"}},\"id\":\"3d15f65f-21af-465e-988a-ec6566efe1bd\",\"type\":\"LabelSet\"},{\"attributes\":{\"plot\":{\"id\":\"bb9bb92b-274f-4950-b78b-916d842ca3c7\",\"subtype\":\"Figure\",\"type\":\"Plot\"}},\"id\":\"4d11587e-a68b-4dc4-b4e5-c49b239e3099\",\"type\":\"ResetTool\"},{\"attributes\":{\"callback\":null,\"end\":900},\"id\":\"77e441c1-e889-4f62-b313-4ab38456ef5d\",\"type\":\"Range1d\"},{\"attributes\":{\"bottom_units\":\"screen\",\"fill_alpha\":{\"value\":0.5},\"fill_color\":{\"value\":\"lightgrey\"},\"left_units\":\"screen\",\"level\":\"overlay\",\"line_alpha\":{\"value\":1.0},\"line_color\":{\"value\":\"black\"},\"line_dash\":[4,4],\"line_width\":{\"value\":2},\"plot\":null,\"render_mode\":\"css\",\"right_units\":\"screen\",\"top_units\":\"screen\"},\"id\":\"d9f88567-295d-4969-9619-14946f153e69\",\"type\":\"BoxAnnotation\"},{\"attributes\":{\"overlay\":{\"id\":\"d9f88567-295d-4969-9619-14946f153e69\",\"type\":\"BoxAnnotation\"},\"plot\":{\"id\":\"bb9bb92b-274f-4950-b78b-916d842ca3c7\",\"subtype\":\"Figure\",\"type\":\"Plot\"}},\"id\":\"b5ac3c4e-ecc7-46cc-b9c6-ec9016eb59c1\",\"type\":\"BoxZoomTool\"},{\"attributes\":{},\"id\":\"0f57bdaa-efcd-4382-8952-12e8ce52d5b8\",\"type\":\"BasicTickFormatter\"},{\"attributes\":{\"bottom\":{\"field\":\"bottom\"},\"fill_color\":{\"field\":\"fill_color\"},\"left\":{\"field\":\"left\"},\"line_color\":{\"value\":null},\"right\":{\"field\":\"right\"},\"top\":{\"field\":\"top\"}},\"id\":\"c1d96673-ec60-45e9-8eba-ee56af99d440\",\"type\":\"Quad\"},{\"attributes\":{\"dimension\":1,\"plot\":{\"id\":\"bb9bb92b-274f-4950-b78b-916d842ca3c7\",\"subtype\":\"Figure\",\"type\":\"Plot\"},\"ticker\":{\"id\":\"13b7794a-ce37-492c-8b24-ad5efbba9620\",\"type\":\"BasicTicker\"}},\"id\":\"ce61b8e1-57f8-4bb2-879a-62f714df2be1\",\"type\":\"Grid\"},{\"attributes\":{\"below\":[{\"id\":\"bea7e83f-13c6-4e1e-97e3-de4e023c0877\",\"type\":\"LinearAxis\"}],\"left\":[{\"id\":\"3c03d8d5-78da-4eca-879c-6c2ceb586abe\",\"type\":\"LinearAxis\"}],\"plot_height\":900,\"plot_width\":900,\"renderers\":[{\"id\":\"bea7e83f-13c6-4e1e-97e3-de4e023c0877\",\"type\":\"LinearAxis\"},{\"id\":\"7d306463-cb3c-4540-8c20-e93f3de47680\",\"type\":\"Grid\"},{\"id\":\"3c03d8d5-78da-4eca-879c-6c2ceb586abe\",\"type\":\"LinearAxis\"},{\"id\":\"ce61b8e1-57f8-4bb2-879a-62f714df2be1\",\"type\":\"Grid\"},{\"id\":\"d9f88567-295d-4969-9619-14946f153e69\",\"type\":\"BoxAnnotation\"},{\"id\":\"a0d7791e-1e4f-4593-a3e4-d9d9adc98735\",\"type\":\"GlyphRenderer\"},{\"id\":\"fd082dd0-d790-4b28-b982-a1db2f9948b5\",\"type\":\"GlyphRenderer\"},{\"id\":\"3d15f65f-21af-465e-988a-ec6566efe1bd\",\"type\":\"LabelSet\"},{\"id\":\"79150d08-dbf5-42af-b7db-19720c416bc0\",\"type\":\"GlyphRenderer\"},{\"id\":\"cbec69a3-0b23-47b4-989a-e0ec67d01bc0\",\"type\":\"LabelSet\"}],\"title\":{\"id\":\"5c648616-d68e-4814-a616-be016e88b948\",\"type\":\"Title\"},\"tool_events\":{\"id\":\"efce1c68-e337-406d-b093-910e45f57de4\",\"type\":\"ToolEvents\"},\"toolbar\":{\"id\":\"4a217b54-b487-41c5-8e24-9e9f934b9db7\",\"type\":\"Toolbar\"},\"toolbar_location\":null,\"x_range\":{\"id\":\"45b46603-cc0b-4b4c-b8f8-5a55f2c95f30\",\"type\":\"Range1d\"},\"y_range\":{\"id\":\"77e441c1-e889-4f62-b313-4ab38456ef5d\",\"type\":\"Range1d\"}},\"id\":\"bb9bb92b-274f-4950-b78b-916d842ca3c7\",\"subtype\":\"Figure\",\"type\":\"Plot\"},{\"attributes\":{\"plot\":{\"id\":\"bb9bb92b-274f-4950-b78b-916d842ca3c7\",\"subtype\":\"Figure\",\"type\":\"Plot\"}},\"id\":\"afa852d2-41bc-4885-a10b-b1999e159eb9\",\"type\":\"WheelZoomTool\"},{\"attributes\":{},\"id\":\"13b7794a-ce37-492c-8b24-ad5efbba9620\",\"type\":\"BasicTicker\"},{\"attributes\":{\"callback\":null,\"end\":136786630,\"start\":135757320},\"id\":\"45b46603-cc0b-4b4c-b8f8-5a55f2c95f30\",\"type\":\"Range1d\"},{\"attributes\":{\"active_drag\":\"auto\",\"active_scroll\":\"auto\",\"active_tap\":\"auto\",\"tools\":[{\"id\":\"88d4e199-32ec-4e67-ac00-787ff5e5af9a\",\"type\":\"PanTool\"},{\"id\":\"afa852d2-41bc-4885-a10b-b1999e159eb9\",\"type\":\"WheelZoomTool\"},{\"id\":\"b5ac3c4e-ecc7-46cc-b9c6-ec9016eb59c1\",\"type\":\"BoxZoomTool\"},{\"id\":\"98a476c1-4b5c-480f-aedd-f18b7fc49737\",\"type\":\"SaveTool\"},{\"id\":\"4d11587e-a68b-4dc4-b4e5-c49b239e3099\",\"type\":\"ResetTool\"},{\"id\":\"e38cd2c1-695d-4896-b389-299c40b9e741\",\"type\":\"HelpTool\"}]},\"id\":\"4a217b54-b487-41c5-8e24-9e9f934b9db7\",\"type\":\"Toolbar\"},{\"attributes\":{\"plot\":{\"id\":\"bb9bb92b-274f-4950-b78b-916d842ca3c7\",\"subtype\":\"Figure\",\"type\":\"Plot\"}},\"id\":\"98a476c1-4b5c-480f-aedd-f18b7fc49737\",\"type\":\"SaveTool\"},{\"attributes\":{\"bottom\":{\"field\":\"bottom\"},\"fill_alpha\":{\"value\":0.1},\"fill_color\":{\"value\":\"#1f77b4\"},\"left\":{\"field\":\"left\"},\"line_alpha\":{\"value\":0.1},\"line_color\":{\"value\":\"#1f77b4\"},\"right\":{\"field\":\"right\"},\"top\":{\"field\":\"top\"}},\"id\":\"fe2aa8eb-6e70-43cc-a010-bf6b007c4fb5\",\"type\":\"Quad\"},{\"attributes\":{\"bottom\":{\"field\":\"bottom\"},\"fill_color\":{\"value\":\"white\"},\"left\":{\"field\":\"left\"},\"right\":{\"field\":\"right\"},\"top\":{\"field\":\"top\"}},\"id\":\"b50c3716-1b9b-479f-b8bf-c6f1d0d26669\",\"type\":\"Quad\"},{\"attributes\":{\"callback\":null,\"column_names\":[\"right\",\"bottom\",\"top\",\"left\",\"fill_color\"],\"data\":{\"bottom\":[750,550,250,650,550,250,750,150,50,750,150,350,250,450,550],\"fill_color\":[\"#808080\",\"#c4c461\",\"#00ffff\",\"#c4c461\",\"#c46161\",\"#61c4c4\",\"#808080\",\"#00ffff\",\"#00ffff\",\"#808080\",\"#00ffff\",\"#c46161\",\"#c46161\",\"#ff0000\",\"#ff0000\"],\"left\":[135757320,135829592,136033790,136393658,136495815,136496845,136501840,136568458,136595044,136653925,136654760,136658238,136666402,136696010,136704466],\"right\":[135777504,136420908,136325737,136486342,136542739,136550870,136555659,136591308,136639556,136761853,136770767,136677919,136768655,136764564,136732214],\"top\":[796,591,267,694,583,271,798,160,59,795,166,376,273,476,578]}},\"id\":\"eaa13ae3-d19b-48ea-a8a4-8f235035348d\",\"type\":\"ColumnDataSource\"},{\"attributes\":{\"plot\":{\"id\":\"bb9bb92b-274f-4950-b78b-916d842ca3c7\",\"subtype\":\"Figure\",\"type\":\"Plot\"}},\"id\":\"e38cd2c1-695d-4896-b389-299c40b9e741\",\"type\":\"HelpTool\"},{\"attributes\":{\"callback\":null,\"column_names\":[\"y\",\"x\",\"vals\"],\"data\":{\"vals\":[\"RAB3GAP1\",\"ZRANB3\",\"R3HDM1\",\"UBXN4\",\"LCT\",\"MCM6\",\"DARS\"],\"x\":[135869057.0,136122878.0,136385961.0,136520911.0,136570082.5,136615621.5,136703738.0],\"y\":[860.0,860.0,860.0,860.0,860.0,860.0,860.0]}},\"id\":\"8e820aa3-e487-4076-9d41-8c500f40a796\",\"type\":\"ColumnDataSource\"},{\"attributes\":{\"plot\":{\"id\":\"bb9bb92b-274f-4950-b78b-916d842ca3c7\",\"subtype\":\"Figure\",\"type\":\"Plot\"},\"ticker\":{\"id\":\"0ed37d32-db3b-4778-87f0-bc3573c4a042\",\"type\":\"BasicTicker\"}},\"id\":\"7d306463-cb3c-4540-8c20-e93f3de47680\",\"type\":\"Grid\"},{\"attributes\":{\"formatter\":{\"id\":\"44da728f-f63b-43db-8d97-1c1a7e942891\",\"type\":\"BasicTickFormatter\"},\"plot\":{\"id\":\"bb9bb92b-274f-4950-b78b-916d842ca3c7\",\"subtype\":\"Figure\",\"type\":\"Plot\"},\"ticker\":{\"id\":\"0ed37d32-db3b-4778-87f0-bc3573c4a042\",\"type\":\"BasicTicker\"}},\"id\":\"bea7e83f-13c6-4e1e-97e3-de4e023c0877\",\"type\":\"LinearAxis\"},{\"attributes\":{\"formatter\":{\"id\":\"0f57bdaa-efcd-4382-8952-12e8ce52d5b8\",\"type\":\"BasicTickFormatter\"},\"plot\":{\"id\":\"bb9bb92b-274f-4950-b78b-916d842ca3c7\",\"subtype\":\"Figure\",\"type\":\"Plot\"},\"ticker\":{\"id\":\"13b7794a-ce37-492c-8b24-ad5efbba9620\",\"type\":\"BasicTicker\"},\"visible\":null},\"id\":\"3c03d8d5-78da-4eca-879c-6c2ceb586abe\",\"type\":\"LinearAxis\"},{\"attributes\":{\"bottom\":{\"field\":\"bottom\"},\"fill_alpha\":{\"value\":0.1},\"fill_color\":{\"value\":\"#1f77b4\"},\"left\":{\"field\":\"left\"},\"line_alpha\":{\"value\":0.1},\"line_color\":{\"value\":\"#1f77b4\"},\"right\":{\"field\":\"right\"},\"top\":{\"field\":\"top\"}},\"id\":\"9c52f523-429a-4d51-9347-e57e82073980\",\"type\":\"Quad\"},{\"attributes\":{\"callback\":null,\"column_names\":[\"right\",\"bottom\",\"top\",\"left\"],\"data\":{\"bottom\":[845,845,845,845,845,845,845],\"left\":[135809835,135957574,136289083,136499189,136545415,136597196,136664254],\"right\":[135928279,136288182,136482839,136542633,136594750,136634047,136743222],\"top\":[875,875,875,875,875,875,875]}},\"id\":\"ec6fe88a-03ea-40b0-922d-cdcb71e342c2\",\"type\":\"ColumnDataSource\"},{\"attributes\":{\"callback\":null,\"column_names\":[\"y\",\"x\",\"vals\"],\"data\":{\"vals\":[\"13_1696\",\"9_944\",\"5_60\",\"32_1361\",\"9_378\",\"6_99\",\"10_2206\",\"5_28\",\"15_25\",\"24_1504\",\"20_56\",\"6_167\",\"17_121\",\"18_172\",\"5_212\"],\"x\":[135757320,135829592,136033790,136393658,136495815,136496845,136501840,136568458,136595044,136653925,136654760,136658238,136666402,136696010,136704466],\"y\":[801.0,596.0,272.0,699.0,588.0,276.0,803.0,165.0,64.0,800.0,171.0,381.0,278.0,481.0,583.0]}},\"id\":\"f25a91e2-851b-43b5-97be-6923162a2d70\",\"type\":\"ColumnDataSource\"},{\"attributes\":{\"level\":\"glyph\",\"plot\":{\"id\":\"bb9bb92b-274f-4950-b78b-916d842ca3c7\",\"subtype\":\"Figure\",\"type\":\"Plot\"},\"source\":{\"id\":\"8e820aa3-e487-4076-9d41-8c500f40a796\",\"type\":\"ColumnDataSource\"},\"text\":{\"field\":\"vals\"},\"text_align\":\"center\",\"text_baseline\":\"middle\",\"text_font_size\":{\"value\":\"8pt\"},\"x\":{\"field\":\"x\"},\"y\":{\"field\":\"y\"}},\"id\":\"cbec69a3-0b23-47b4-989a-e0ec67d01bc0\",\"type\":\"LabelSet\"},{\"attributes\":{\"data_source\":{\"id\":\"2b819ccc-997f-45d8-b464-0c7051091ec2\",\"type\":\"ColumnDataSource\"},\"glyph\":{\"id\":\"eecba9e0-45b4-424f-a511-30ee6e090132\",\"type\":\"MultiLine\"},\"hover_glyph\":null,\"nonselection_glyph\":{\"id\":\"0d0b9fff-bc1d-407f-8e5b-fe1a8dad28ba\",\"type\":\"MultiLine\"},\"selection_glyph\":null},\"id\":\"fd082dd0-d790-4b28-b982-a1db2f9948b5\",\"type\":\"GlyphRenderer\"},{\"attributes\":{\"line_color\":{\"field\":\"line_color\"},\"xs\":{\"field\":\"xs\"},\"ys\":{\"field\":\"ys\"}},\"id\":\"eecba9e0-45b4-424f-a511-30ee6e090132\",\"type\":\"MultiLine\"},{\"attributes\":{\"plot\":null,\"text\":null},\"id\":\"5c648616-d68e-4814-a616-be016e88b948\",\"type\":\"Title\"},{\"attributes\":{\"callback\":null,\"column_names\":[\"xs\",\"ys\",\"line_color\"],\"data\":{\"line_color\":[\"black\",\"black\",\"black\",\"black\",\"black\",\"black\",\"black\",\"black\",\"black\",\"black\",\"black\",\"black\",\"black\",\"black\",\"black\",\"black\",\"black\",\"black\",\"black\",\"black\",\"black\",\"black\",\"black\",\"black\",\"black\",\"black\",\"black\",\"black\",\"black\",\"black\",\"black\",\"black\",\"black\",\"black\",\"black\",\"black\",\"black\",\"black\",\"black\",\"black\",\"black\",\"black\",\"black\",\"black\",\"black\",\"black\",\"black\",\"black\",\"black\",\"black\",\"black\",\"black\",\"black\",\"black\",\"black\",\"black\",\"black\",\"black\",\"black\",\"black\",\"black\",\"black\",\"black\",\"black\",\"black\",\"black\",\"black\",\"black\",\"black\",\"black\",\"black\",\"black\",\"black\",\"black\",\"black\",\"black\",\"black\",\"black\",\"black\",\"black\",\"black\",\"black\",\"black\",\"black\",\"black\",\"black\",\"black\",\"black\",\"black\",\"black\",\"black\",\"black\",\"black\",\"black\",\"black\",\"black\",\"black\",\"black\",\"black\",\"black\",\"black\",\"black\",\"black\",\"black\",\"black\",\"black\",\"black\",\"black\",\"black\",\"black\",\"black\",\"black\",\"black\",\"black\",\"black\",\"black\",\"black\",\"black\",\"black\",\"black\",\"black\",\"black\",\"black\",\"black\",\"black\",\"black\",\"black\",\"black\",\"black\",\"black\",\"black\",\"black\",\"black\",\"black\",\"black\",\"black\",\"black\",\"black\",\"black\",\"black\",\"black\",\"black\",\"black\",\"black\",\"black\",\"black\",\"black\",\"black\",\"black\",\"black\",\"black\",\"black\",\"black\",\"black\",\"black\",\"black\",\"black\",\"black\",\"black\",\"black\",\"black\",\"black\",\"black\",\"black\",\"black\",\"black\",\"black\",\"black\",\"black\",\"black\",\"black\",\"black\",\"black\",\"black\",\"black\",\"black\",\"black\",\"black\",\"black\",\"black\",\"black\",\"black\",\"black\",\"black\",\"black\",\"black\",\"black\",\"black\",\"black\",\"black\",\"black\",\"black\",\"black\",\"black\"],\"xs\":[[135757320,135757320],[135761078,135761078],[135761271,135761271],[135762344,135762344],[135762980,135762980],[135763280,135763280],[135768815,135768815],[135769093,135769093],[135769127,135769127],[135770940,135770940],[135770951,135770951],[135776728,135776728],[135777504,135777504],[135829592,135829592],[135893372,135893372],[135952405,135952405],[135989721,135989721],[136136056,136136056],[136313639,136313639],[136401418,136401418],[136407078,136407078],[136420908,136420908],[136033790,136033790],[136103753,136103753],[136236633,136236633],[136277069,136277069],[136325737,136325737],[136393658,136393658],[136396300,136396300],[136401843,136401843],[136407445,136407445],[136411879,136411879],[136412270,136412270],[136413244,136413244],[136413847,136413847],[136415217,136415217],[136416533,136416533],[136420726,136420726],[136429857,136429857],[136433740,136433740],[136436317,136436317],[136437615,136437615],[136438517,136438517],[136440300,136440300],[136443900,136443900],[136444185,136444185],[136444338,136444338],[136449254,136449254],[136451676,136451676],[136459227,136459227],[136463117,136463117],[136463454,136463454],[136467119,136467119],[136468238,136468238],[136470219,136470219],[136483355,136483355],[136485276,136485276],[136486340,136486340],[136486342,136486342],[136495815,136495815],[136495889,136495889],[136509460,136509460],[136515721,136515721],[136515801,136515801],[136524747,136524747],[136525463,136525463],[136532518,136532518],[136542739,136542739],[136496845,136496845],[136510158,136510158],[136526772,136526772],[136533368,136533368],[136545465,136545465],[136550870,136550870],[136501840,136501840],[136505546,136505546],[136516748,136516748],[136522710,136522710],[136528004,136528004],[136539513,136539513],[136544752,136544752],[136546110,136546110],[136553529,136553529],[136555659,136555659],[136568458,136568458],[136573410,136573410],[136580950,136580950],[136586359,136586359],[136591308,136591308],[136595044,136595044],[136596592,136596592],[136598550,136598550],[136602293,136602293],[136602384,136602384],[136618869,136618869],[136619799,136619799],[136621573,136621573],[136624897,136624897],[136626115,136626115],[136628525,136628525],[136629839,136629839],[136630698,136630698],[136636801,136636801],[136639556,136639556],[136653925,136653925],[136654833,136654833],[136656534,136656534],[136656536,136656536],[136657252,136657252],[136667301,136667301],[136667487,136667487],[136672775,136672775],[136680534,136680534],[136686393,136686393],[136688749,136688749],[136692553,136692553],[136697371,136697371],[136708787,136708787],[136710372,136710372],[136711064,136711064],[136715324,136715324],[136723504,136723504],[136737460,136737460],[136743143,136743143],[136746224,136746224],[136751842,136751842],[136759379,136759379],[136761853,136761853],[136654760,136654760],[136660234,136660234],[136666899,136666899],[136666900,136666900],[136678320,136678320],[136684951,136684951],[136702944,136702944],[136717522,136717522],[136719684,136719684],[136726822,136726822],[136728353,136728353],[136741501,136741501],[136750334,136750334],[136755124,136755124],[136758216,136758216],[136765773,136765773],[136766165,136766165],[136766570,136766570],[136766635,136766635],[136770767,136770767],[136658238,136658238],[136658821,136658821],[136664975,136664975],[136674123,136674123],[136677052,136677052],[136677919,136677919],[136666402,136666402],[136687260,136687260],[136688452,136688452],[136698242,136698242],[136701773,136701773],[136701926,136701926],[136701930,136701930],[136708426,136708426],[136714412,136714412],[136721430,136721430],[136729906,136729906],[136750914,136750914],[136751990,136751990],[136753305,136753305],[136755711,136755711],[136760887,136760887],[136768655,136768655],[136696010,136696010],[136696794,136696794],[136700762,136700762],[136703387,136703387],[136708405,136708405],[136708737,136708737],[136710616,136710616],[136715715,136715715],[136716781,136716781],[136731550,136731550],[136735482,136735482],[136736120,136736120],[136738235,136738235],[136739038,136739038],[136743138,136743138],[136744366,136744366],[136754269,136754269],[136764564,136764564],[136704466,136704466],[136714792,136714792],[136724974,136724974],[136725890,136725890],[136732214,136732214]],\"ys\":[[750,796],[750,796],[750,796],[750,796],[750,796],[750,796],[750,796],[750,796],[750,796],[750,796],[750,796],[750,796],[750,796],[550,591],[550,591],[550,591],[550,591],[550,591],[550,591],[550,591],[550,591],[550,591],[250,267],[250,267],[250,267],[250,267],[250,267],[650,694],[650,694],[650,694],[650,694],[650,694],[650,694],[650,694],[650,694],[650,694],[650,694],[650,694],[650,694],[650,694],[650,694],[650,694],[650,694],[650,694],[650,694],[650,694],[650,694],[650,694],[650,694],[650,694],[650,694],[650,694],[650,694],[650,694],[650,694],[650,694],[650,694],[650,694],[650,694],[550,583],[550,583],[550,583],[550,583],[550,583],[550,583],[550,583],[550,583],[550,583],[250,271],[250,271],[250,271],[250,271],[250,271],[250,271],[750,798],[750,798],[750,798],[750,798],[750,798],[750,798],[750,798],[750,798],[750,798],[750,798],[150,160],[150,160],[150,160],[150,160],[150,160],[50,59],[50,59],[50,59],[50,59],[50,59],[50,59],[50,59],[50,59],[50,59],[50,59],[50,59],[50,59],[50,59],[50,59],[50,59],[750,795],[750,795],[750,795],[750,795],[750,795],[750,795],[750,795],[750,795],[750,795],[750,795],[750,795],[750,795],[750,795],[750,795],[750,795],[750,795],[750,795],[750,795],[750,795],[750,795],[750,795],[750,795],[750,795],[750,795],[150,166],[150,166],[150,166],[150,166],[150,166],[150,166],[150,166],[150,166],[150,166],[150,166],[150,166],[150,166],[150,166],[150,166],[150,166],[150,166],[150,166],[150,166],[150,166],[150,166],[350,376],[350,376],[350,376],[350,376],[350,376],[350,376],[250,273],[250,273],[250,273],[250,273],[250,273],[250,273],[250,273],[250,273],[250,273],[250,273],[250,273],[250,273],[250,273],[250,273],[250,273],[250,273],[250,273],[450,476],[450,476],[450,476],[450,476],[450,476],[450,476],[450,476],[450,476],[450,476],[450,476],[450,476],[450,476],[450,476],[450,476],[450,476],[450,476],[450,476],[450,476],[550,578],[550,578],[550,578],[550,578],[550,578]]}},\"id\":\"2b819ccc-997f-45d8-b464-0c7051091ec2\",\"type\":\"ColumnDataSource\"},{\"attributes\":{\"line_alpha\":{\"value\":0.1},\"line_color\":{\"value\":\"#1f77b4\"},\"xs\":{\"field\":\"xs\"},\"ys\":{\"field\":\"ys\"}},\"id\":\"0d0b9fff-bc1d-407f-8e5b-fe1a8dad28ba\",\"type\":\"MultiLine\"},{\"attributes\":{\"data_source\":{\"id\":\"ec6fe88a-03ea-40b0-922d-cdcb71e342c2\",\"type\":\"ColumnDataSource\"},\"glyph\":{\"id\":\"b50c3716-1b9b-479f-b8bf-c6f1d0d26669\",\"type\":\"Quad\"},\"hover_glyph\":null,\"nonselection_glyph\":{\"id\":\"fe2aa8eb-6e70-43cc-a010-bf6b007c4fb5\",\"type\":\"Quad\"},\"selection_glyph\":null},\"id\":\"79150d08-dbf5-42af-b7db-19720c416bc0\",\"type\":\"GlyphRenderer\"},{\"attributes\":{\"plot\":{\"id\":\"bb9bb92b-274f-4950-b78b-916d842ca3c7\",\"subtype\":\"Figure\",\"type\":\"Plot\"}},\"id\":\"88d4e199-32ec-4e67-ac00-787ff5e5af9a\",\"type\":\"PanTool\"},{\"attributes\":{},\"id\":\"44da728f-f63b-43db-8d97-1c1a7e942891\",\"type\":\"BasicTickFormatter\"}],\"root_ids\":[\"bb9bb92b-274f-4950-b78b-916d842ca3c7\"]},\"title\":\"Bokeh Application\",\"version\":\"0.12.0\"}};\n",
       "            var render_items = [{\"docid\":\"b9701efe-e869-41ba-9655-21c52ff7cce0\",\"elementid\":\"22e11a70-9686-4e77-afe1-423573c176aa\",\"modelid\":\"bb9bb92b-274f-4950-b78b-916d842ca3c7\",\"notebook_comms_target\":\"f3bcfc1b-82c0-4eb1-ac62-b4da3b8bf2f8\"}];\n",
       "            \n",
       "            Bokeh.embed.embed_items(docs_json, render_items);\n",
       "        });\n",
       "      },\n",
       "      function(Bokeh) {\n",
       "      }\n",
       "    ];\n",
       "  \n",
       "    function run_inline_js() {\n",
       "      for (var i = 0; i < inline_js.length; i++) {\n",
       "        inline_js[i](window.Bokeh);\n",
       "      }\n",
       "    }\n",
       "  \n",
       "    if (window._bokeh_is_loading === 0) {\n",
       "      console.log(\"Bokeh: BokehJS loaded, going straight to plotting\");\n",
       "      run_inline_js();\n",
       "    } else {\n",
       "      load_libs(js_urls, function() {\n",
       "        console.log(\"Bokeh: BokehJS plotting callback run at\", now());\n",
       "        run_inline_js();\n",
       "      });\n",
       "    }\n",
       "  }(this));\n",
       "</script>"
      ]
     },
     "metadata": {},
     "output_type": "display_data"
    },
    {
     "data": {
      "text/html": [
       "<p><code>&lt;Bokeh Notebook handle for <strong>In[13]</strong>&gt;</code></p>"
      ],
      "text/plain": [
       "<bokeh.io._CommsHandle at 0x7fc7bc9e49d0>"
      ]
     },
     "execution_count": 13,
     "metadata": {},
     "output_type": "execute_result"
    }
   ],
   "source": [
    "plt_obj = dm.superset_yes_no([di_5_60, dm.di_13_1696, dm.di_24_1504], [dm.di_4_1442], min_match=0.001)\n",
    "plt = plt_obj.do_plot()\n",
    "show(plt)"
   ]
  },
  {
   "cell_type": "code",
   "execution_count": 14,
   "metadata": {
    "collapsed": false
   },
   "outputs": [
    {
     "data": {
      "text/html": [
       "<table>\n",
       "<thead><tr><th style=\"text-align:center\">index</th><th style=\"text-align:center\">first</th><th style=\"text-align:center\">length</th><th style=\"text-align:center\">snps</th><th style=\"text-align:center\" colspan=2>alleles</th><th style=\"text-align:center\" colspan=2>matches</th><th style=\"text-align:center\" colspan=2>afr</th><th style=\"text-align:center\" colspan=2>afx</th><th style=\"text-align:center\" colspan=2>amr</th><th style=\"text-align:center\" colspan=2>eas</th><th style=\"text-align:center\" colspan=2>eur</th><th style=\"text-align:center\" colspan=2>sas</th><th style=\"text-align:center\" colspan=2>sax</th></tr></thead>\n",
       "<tr class=\"even\"><td style=\"text-align: right;\">353921</td><td style=\"text-align: right;\">136,501,840</td><td style=\"text-align: right;\">53,819</td><td style=\"text-align: right;\">10</td><td style=\"text-align: right;\">2206</td><td style=\"text-align: right;\">0.00</td><td style=\"text-align: right;\">1</td><td style=\"text-align: right;\">1.00</td><td style=\"text-align: right;\">0</td><td style=\"text-align: right;\">0.00</td><td style=\"text-align: right;\">0</td><td style=\"text-align: right;\">0.00</td><td style=\"text-align: right;\">0</td><td style=\"text-align: right;\">0.00</td><td style=\"text-align: right;\">0</td><td style=\"text-align: right;\">0.00</td><td style=\"text-align: right;\">1</td><td style=\"text-align: right;\">4.95</td><td style=\"text-align: right;\">0</td><td style=\"text-align: right;\">0.00</td><td style=\"text-align: right;\">0</td><td style=\"text-align: right;\">0.00</td></tr>\n",
       "<tr><td style=\"text-align: right;\">353240</td><td style=\"text-align: right;\">135,757,320</td><td style=\"text-align: right;\">20,184</td><td style=\"text-align: right;\">13</td><td style=\"text-align: right;\">1696</td><td style=\"text-align: right;\">0.00</td><td style=\"text-align: right;\">1</td><td style=\"text-align: right;\">1.00</td><td style=\"text-align: right;\">0</td><td style=\"text-align: right;\">0.00</td><td style=\"text-align: right;\">0</td><td style=\"text-align: right;\">0.00</td><td style=\"text-align: right;\">0</td><td style=\"text-align: right;\">0.00</td><td style=\"text-align: right;\">0</td><td style=\"text-align: right;\">0.00</td><td style=\"text-align: right;\">1</td><td style=\"text-align: right;\">4.95</td><td style=\"text-align: right;\">0</td><td style=\"text-align: right;\">0.00</td><td style=\"text-align: right;\">0</td><td style=\"text-align: right;\">0.00</td></tr>\n",
       "<tr class=\"even\"><td style=\"text-align: right;\">354130</td><td style=\"text-align: right;\">136,653,925</td><td style=\"text-align: right;\">107,928</td><td style=\"text-align: right;\">24</td><td style=\"text-align: right;\">1504</td><td style=\"text-align: right;\">0.00</td><td style=\"text-align: right;\">1</td><td style=\"text-align: right;\">1.00</td><td style=\"text-align: right;\">0</td><td style=\"text-align: right;\">0.00</td><td style=\"text-align: right;\">0</td><td style=\"text-align: right;\">0.00</td><td style=\"text-align: right;\">0</td><td style=\"text-align: right;\">0.00</td><td style=\"text-align: right;\">0</td><td style=\"text-align: right;\">0.00</td><td style=\"text-align: right;\">1</td><td style=\"text-align: right;\">4.95</td><td style=\"text-align: right;\">0</td><td style=\"text-align: right;\">0.00</td><td style=\"text-align: right;\">0</td><td style=\"text-align: right;\">0.00</td></tr>\n",
       "<tr><td style=\"text-align: right;\">353791</td><td style=\"text-align: right;\">136,393,658</td><td style=\"text-align: right;\">92,684</td><td style=\"text-align: right;\">32</td><td style=\"text-align: right;\">1361</td><td style=\"text-align: right;\">0.00</td><td style=\"text-align: right;\">1</td><td style=\"text-align: right;\">1.00</td><td style=\"text-align: right;\">0</td><td style=\"text-align: right;\">0.00</td><td style=\"text-align: right;\">0</td><td style=\"text-align: right;\">0.00</td><td style=\"text-align: right;\">0</td><td style=\"text-align: right;\">0.00</td><td style=\"text-align: right;\">0</td><td style=\"text-align: right;\">0.00</td><td style=\"text-align: right;\">1</td><td style=\"text-align: right;\">4.95</td><td style=\"text-align: right;\">0</td><td style=\"text-align: right;\">0.00</td><td style=\"text-align: right;\">0</td><td style=\"text-align: right;\">0.00</td></tr>\n",
       "<tr class=\"even\"><td style=\"text-align: right;\">353372</td><td style=\"text-align: right;\">135,829,592</td><td style=\"text-align: right;\">591,316</td><td style=\"text-align: right;\">9</td><td style=\"text-align: right;\">944</td><td style=\"text-align: right;\">0.00</td><td style=\"text-align: right;\">1</td><td style=\"text-align: right;\">1.00</td><td style=\"text-align: right;\">0</td><td style=\"text-align: right;\">0.00</td><td style=\"text-align: right;\">0</td><td style=\"text-align: right;\">0.00</td><td style=\"text-align: right;\">0</td><td style=\"text-align: right;\">0.00</td><td style=\"text-align: right;\">0</td><td style=\"text-align: right;\">0.00</td><td style=\"text-align: right;\">1</td><td style=\"text-align: right;\">4.95</td><td style=\"text-align: right;\">0</td><td style=\"text-align: right;\">0.00</td><td style=\"text-align: right;\">0</td><td style=\"text-align: right;\">0.00</td></tr>\n",
       "<tr><td style=\"text-align: right;\">353904</td><td style=\"text-align: right;\">136,495,815</td><td style=\"text-align: right;\">46,924</td><td style=\"text-align: right;\">9</td><td style=\"text-align: right;\">378</td><td style=\"text-align: right;\">0.00</td><td style=\"text-align: right;\">1</td><td style=\"text-align: right;\">1.00</td><td style=\"text-align: right;\">0</td><td style=\"text-align: right;\">0.00</td><td style=\"text-align: right;\">0</td><td style=\"text-align: right;\">0.00</td><td style=\"text-align: right;\">0</td><td style=\"text-align: right;\">0.00</td><td style=\"text-align: right;\">0</td><td style=\"text-align: right;\">0.00</td><td style=\"text-align: right;\">1</td><td style=\"text-align: right;\">4.95</td><td style=\"text-align: right;\">0</td><td style=\"text-align: right;\">0.00</td><td style=\"text-align: right;\">0</td><td style=\"text-align: right;\">0.00</td></tr>\n",
       "<tr class=\"even\"><td style=\"text-align: right;\">354189</td><td style=\"text-align: right;\">136,704,466</td><td style=\"text-align: right;\">27,748</td><td style=\"text-align: right;\">5</td><td style=\"text-align: right;\">212</td><td style=\"text-align: right;\">0.00</td><td style=\"text-align: right;\">1</td><td style=\"text-align: right;\">1.00</td><td style=\"text-align: right;\">0</td><td style=\"text-align: right;\">0.00</td><td style=\"text-align: right;\">0</td><td style=\"text-align: right;\">0.00</td><td style=\"text-align: right;\">0</td><td style=\"text-align: right;\">0.00</td><td style=\"text-align: right;\">0</td><td style=\"text-align: right;\">0.00</td><td style=\"text-align: right;\">1</td><td style=\"text-align: right;\">4.95</td><td style=\"text-align: right;\">0</td><td style=\"text-align: right;\">0.00</td><td style=\"text-align: right;\">0</td><td style=\"text-align: right;\">0.00</td></tr>\n",
       "<tr><td style=\"text-align: right;\">354181</td><td style=\"text-align: right;\">136,696,010</td><td style=\"text-align: right;\">68,554</td><td style=\"text-align: right;\">18</td><td style=\"text-align: right;\">172</td><td style=\"text-align: right;\">0.01</td><td style=\"text-align: right;\">1</td><td style=\"text-align: right;\">1.00</td><td style=\"text-align: right;\">0</td><td style=\"text-align: right;\">0.00</td><td style=\"text-align: right;\">0</td><td style=\"text-align: right;\">0.00</td><td style=\"text-align: right;\">0</td><td style=\"text-align: right;\">0.00</td><td style=\"text-align: right;\">0</td><td style=\"text-align: right;\">0.00</td><td style=\"text-align: right;\">1</td><td style=\"text-align: right;\">4.95</td><td style=\"text-align: right;\">0</td><td style=\"text-align: right;\">0.00</td><td style=\"text-align: right;\">0</td><td style=\"text-align: right;\">0.00</td></tr>\n",
       "<tr class=\"even\"><td style=\"text-align: right;\">354143</td><td style=\"text-align: right;\">136,658,238</td><td style=\"text-align: right;\">19,681</td><td style=\"text-align: right;\">6</td><td style=\"text-align: right;\">167</td><td style=\"text-align: right;\">0.01</td><td style=\"text-align: right;\">1</td><td style=\"text-align: right;\">1.00</td><td style=\"text-align: right;\">0</td><td style=\"text-align: right;\">0.00</td><td style=\"text-align: right;\">0</td><td style=\"text-align: right;\">0.00</td><td style=\"text-align: right;\">0</td><td style=\"text-align: right;\">0.00</td><td style=\"text-align: right;\">0</td><td style=\"text-align: right;\">0.00</td><td style=\"text-align: right;\">1</td><td style=\"text-align: right;\">4.95</td><td style=\"text-align: right;\">0</td><td style=\"text-align: right;\">0.00</td><td style=\"text-align: right;\">0</td><td style=\"text-align: right;\">0.00</td></tr>\n",
       "<tr><td style=\"text-align: right;\">354156</td><td style=\"text-align: right;\">136,666,402</td><td style=\"text-align: right;\">102,253</td><td style=\"text-align: right;\">17</td><td style=\"text-align: right;\">121</td><td style=\"text-align: right;\">0.01</td><td style=\"text-align: right;\">1</td><td style=\"text-align: right;\">1.00</td><td style=\"text-align: right;\">0</td><td style=\"text-align: right;\">0.00</td><td style=\"text-align: right;\">0</td><td style=\"text-align: right;\">0.00</td><td style=\"text-align: right;\">0</td><td style=\"text-align: right;\">0.00</td><td style=\"text-align: right;\">0</td><td style=\"text-align: right;\">0.00</td><td style=\"text-align: right;\">1</td><td style=\"text-align: right;\">4.95</td><td style=\"text-align: right;\">0</td><td style=\"text-align: right;\">0.00</td><td style=\"text-align: right;\">0</td><td style=\"text-align: right;\">0.00</td></tr>\n",
       "<tr class=\"even\"><td style=\"text-align: right;\">353908</td><td style=\"text-align: right;\">136,496,845</td><td style=\"text-align: right;\">54,025</td><td style=\"text-align: right;\">6</td><td style=\"text-align: right;\">99</td><td style=\"text-align: right;\">0.01</td><td style=\"text-align: right;\">1</td><td style=\"text-align: right;\">1.00</td><td style=\"text-align: right;\">0</td><td style=\"text-align: right;\">0.00</td><td style=\"text-align: right;\">0</td><td style=\"text-align: right;\">0.00</td><td style=\"text-align: right;\">0</td><td style=\"text-align: right;\">0.00</td><td style=\"text-align: right;\">0</td><td style=\"text-align: right;\">0.00</td><td style=\"text-align: right;\">1</td><td style=\"text-align: right;\">4.95</td><td style=\"text-align: right;\">0</td><td style=\"text-align: right;\">0.00</td><td style=\"text-align: right;\">0</td><td style=\"text-align: right;\">0.00</td></tr>\n",
       "<tr><td style=\"text-align: right;\">353564</td><td style=\"text-align: right;\">136,033,790</td><td style=\"text-align: right;\">291,947</td><td style=\"text-align: right;\">5</td><td style=\"text-align: right;\">60</td><td style=\"text-align: right;\">0.02</td><td style=\"text-align: right;\">1</td><td style=\"text-align: right;\">1.00</td><td style=\"text-align: right;\">0</td><td style=\"text-align: right;\">0.00</td><td style=\"text-align: right;\">0</td><td style=\"text-align: right;\">0.00</td><td style=\"text-align: right;\">0</td><td style=\"text-align: right;\">0.00</td><td style=\"text-align: right;\">0</td><td style=\"text-align: right;\">0.00</td><td style=\"text-align: right;\">1</td><td style=\"text-align: right;\">4.95</td><td style=\"text-align: right;\">0</td><td style=\"text-align: right;\">0.00</td><td style=\"text-align: right;\">0</td><td style=\"text-align: right;\">0.00</td></tr>\n",
       "<tr class=\"even\"><td style=\"text-align: right;\">354133</td><td style=\"text-align: right;\">136,654,760</td><td style=\"text-align: right;\">116,007</td><td style=\"text-align: right;\">20</td><td style=\"text-align: right;\">56</td><td style=\"text-align: right;\">0.02</td><td style=\"text-align: right;\">1</td><td style=\"text-align: right;\">1.00</td><td style=\"text-align: right;\">0</td><td style=\"text-align: right;\">0.00</td><td style=\"text-align: right;\">0</td><td style=\"text-align: right;\">0.00</td><td style=\"text-align: right;\">0</td><td style=\"text-align: right;\">0.00</td><td style=\"text-align: right;\">0</td><td style=\"text-align: right;\">0.00</td><td style=\"text-align: right;\">1</td><td style=\"text-align: right;\">4.95</td><td style=\"text-align: right;\">0</td><td style=\"text-align: right;\">0.00</td><td style=\"text-align: right;\">0</td><td style=\"text-align: right;\">0.00</td></tr>\n",
       "<tr><td style=\"text-align: right;\">353998</td><td style=\"text-align: right;\">136,568,458</td><td style=\"text-align: right;\">22,850</td><td style=\"text-align: right;\">5</td><td style=\"text-align: right;\">28</td><td style=\"text-align: right;\">0.04</td><td style=\"text-align: right;\">1</td><td style=\"text-align: right;\">1.00</td><td style=\"text-align: right;\">0</td><td style=\"text-align: right;\">0.00</td><td style=\"text-align: right;\">0</td><td style=\"text-align: right;\">0.00</td><td style=\"text-align: right;\">0</td><td style=\"text-align: right;\">0.00</td><td style=\"text-align: right;\">0</td><td style=\"text-align: right;\">0.00</td><td style=\"text-align: right;\">1</td><td style=\"text-align: right;\">4.95</td><td style=\"text-align: right;\">0</td><td style=\"text-align: right;\">0.00</td><td style=\"text-align: right;\">0</td><td style=\"text-align: right;\">0.00</td></tr>\n",
       "<tr class=\"even\"><td style=\"text-align: right;\">354047</td><td style=\"text-align: right;\">136,595,044</td><td style=\"text-align: right;\">44,512</td><td style=\"text-align: right;\">15</td><td style=\"text-align: right;\">25</td><td style=\"text-align: right;\">0.04</td><td style=\"text-align: right;\">1</td><td style=\"text-align: right;\">1.00</td><td style=\"text-align: right;\">0</td><td style=\"text-align: right;\">0.00</td><td style=\"text-align: right;\">0</td><td style=\"text-align: right;\">0.00</td><td style=\"text-align: right;\">0</td><td style=\"text-align: right;\">0.00</td><td style=\"text-align: right;\">0</td><td style=\"text-align: right;\">0.00</td><td style=\"text-align: right;\">1</td><td style=\"text-align: right;\">4.95</td><td style=\"text-align: right;\">0</td><td style=\"text-align: right;\">0.00</td><td style=\"text-align: right;\">0</td><td style=\"text-align: right;\">0.00</td></tr>\n",
       "</table>"
      ],
      "text/plain": [
       "<IPython.core.display.HTML object>"
      ]
     },
     "execution_count": 14,
     "metadata": {},
     "output_type": "execute_result"
    }
   ],
   "source": [
    "HTML(plt_obj.get_html())"
   ]
  },
  {
   "cell_type": "code",
   "execution_count": 15,
   "metadata": {
    "collapsed": false
   },
   "outputs": [
    {
     "data": {
      "text/html": [
       "\n",
       "\n",
       "    <div class=\"bk-root\">\n",
       "        <div class=\"plotdiv\" id=\"0a3c1ee3-6b19-42a3-87b1-f75fde797a7e\"></div>\n",
       "    </div>\n",
       "<script type=\"text/javascript\">\n",
       "  \n",
       "  (function(global) {\n",
       "    function now() {\n",
       "      return new Date();\n",
       "    }\n",
       "  \n",
       "    if (typeof (window._bokeh_onload_callbacks) === \"undefined\") {\n",
       "      window._bokeh_onload_callbacks = [];\n",
       "    }\n",
       "  \n",
       "    function run_callbacks() {\n",
       "      window._bokeh_onload_callbacks.forEach(function(callback) { callback() });\n",
       "      delete window._bokeh_onload_callbacks\n",
       "      console.info(\"Bokeh: all callbacks have finished\");\n",
       "    }\n",
       "  \n",
       "    function load_libs(js_urls, callback) {\n",
       "      window._bokeh_onload_callbacks.push(callback);\n",
       "      if (window._bokeh_is_loading > 0) {\n",
       "        console.log(\"Bokeh: BokehJS is being loaded, scheduling callback at\", now());\n",
       "        return null;\n",
       "      }\n",
       "      if (js_urls == null || js_urls.length === 0) {\n",
       "        run_callbacks();\n",
       "        return null;\n",
       "      }\n",
       "      console.log(\"Bokeh: BokehJS not loaded, scheduling load and callback at\", now());\n",
       "      window._bokeh_is_loading = js_urls.length;\n",
       "      for (var i = 0; i < js_urls.length; i++) {\n",
       "        var url = js_urls[i];\n",
       "        var s = document.createElement('script');\n",
       "        s.src = url;\n",
       "        s.async = false;\n",
       "        s.onreadystatechange = s.onload = function() {\n",
       "          window._bokeh_is_loading--;\n",
       "          if (window._bokeh_is_loading === 0) {\n",
       "            console.log(\"Bokeh: all BokehJS libraries loaded\");\n",
       "            run_callbacks()\n",
       "          }\n",
       "        };\n",
       "        s.onerror = function() {\n",
       "          console.warn(\"failed to load library \" + url);\n",
       "        };\n",
       "        console.log(\"Bokeh: injecting script tag for BokehJS library: \", url);\n",
       "        document.getElementsByTagName(\"head\")[0].appendChild(s);\n",
       "      }\n",
       "    };var element = document.getElementById(\"0a3c1ee3-6b19-42a3-87b1-f75fde797a7e\");\n",
       "    if (element == null) {\n",
       "      console.log(\"Bokeh: ERROR: autoload.js configured with elementid '0a3c1ee3-6b19-42a3-87b1-f75fde797a7e' but no matching script tag was found. \")\n",
       "      return false;\n",
       "    }\n",
       "  \n",
       "    var js_urls = [];\n",
       "  \n",
       "    var inline_js = [\n",
       "      function(Bokeh) {\n",
       "        Bokeh.$(function() {\n",
       "            var docs_json = {\"fcf74945-2ee2-475c-9240-e4ac0d450cc3\":{\"roots\":{\"references\":[{\"attributes\":{\"callback\":null,\"end\":136786630,\"start\":135757320},\"id\":\"e8d28da3-a67a-43da-8d71-bc54031ae622\",\"type\":\"Range1d\"},{\"attributes\":{\"callback\":null,\"column_names\":[\"y\",\"x\",\"vals\"],\"data\":{\"vals\":[\"RAB3GAP1\",\"ZRANB3\",\"R3HDM1\",\"UBXN4\",\"LCT\",\"MCM6\",\"DARS\"],\"x\":[135869057.0,136122878.0,136385961.0,136520911.0,136570082.5,136615621.5,136703738.0],\"y\":[360.0,360.0,360.0,360.0,360.0,360.0,360.0]}},\"id\":\"cbd06968-bf2d-40d7-885f-a50e8f3213fd\",\"type\":\"ColumnDataSource\"},{\"attributes\":{\"data_source\":{\"id\":\"a50a06f6-c877-4792-a87a-52c351a071a0\",\"type\":\"ColumnDataSource\"},\"glyph\":{\"id\":\"a230f1c5-e56f-49a2-9af4-a6302a985d5e\",\"type\":\"Quad\"},\"hover_glyph\":null,\"nonselection_glyph\":{\"id\":\"6b6c0557-6feb-440e-b487-927f0d7cc560\",\"type\":\"Quad\"},\"selection_glyph\":null},\"id\":\"5345b1e6-21e2-4918-a3ec-348018d135da\",\"type\":\"GlyphRenderer\"},{\"attributes\":{\"plot\":{\"id\":\"532a7e26-d19a-43a8-9cb3-ead06574ca60\",\"subtype\":\"Figure\",\"type\":\"Plot\"}},\"id\":\"dcb36c1b-cb42-4ae4-bde7-94a663a446c8\",\"type\":\"HelpTool\"},{\"attributes\":{},\"id\":\"4ec80cac-2253-443a-9c8d-386e6c57fe00\",\"type\":\"BasicTickFormatter\"},{\"attributes\":{\"callback\":null,\"column_names\":[\"right\",\"bottom\",\"top\",\"left\"],\"data\":{\"bottom\":[345,345,345,345,345,345,345],\"left\":[135809835,135957574,136289083,136499189,136545415,136597196,136664254],\"right\":[135928279,136288182,136482839,136542633,136594750,136634047,136743222],\"top\":[375,375,375,375,375,375,375]}},\"id\":\"c9c0ea6f-ca33-4946-bfc3-d5fb7691104f\",\"type\":\"ColumnDataSource\"},{\"attributes\":{\"plot\":{\"id\":\"532a7e26-d19a-43a8-9cb3-ead06574ca60\",\"subtype\":\"Figure\",\"type\":\"Plot\"}},\"id\":\"3137a1bc-0117-47b0-bd04-7d0c63f5a6aa\",\"type\":\"ResetTool\"},{\"attributes\":{\"plot\":{\"id\":\"532a7e26-d19a-43a8-9cb3-ead06574ca60\",\"subtype\":\"Figure\",\"type\":\"Plot\"}},\"id\":\"c6115e14-d8fc-4c18-8c1e-a486ca19c4e6\",\"type\":\"SaveTool\"},{\"attributes\":{\"line_color\":{\"field\":\"line_color\"},\"xs\":{\"field\":\"xs\"},\"ys\":{\"field\":\"ys\"}},\"id\":\"3d27e143-7864-49b5-b381-480b4e4772ac\",\"type\":\"MultiLine\"},{\"attributes\":{\"plot\":null,\"text\":null},\"id\":\"7540e940-267a-4041-b00b-489c5827cd1d\",\"type\":\"Title\"},{\"attributes\":{\"callback\":null,\"end\":400},\"id\":\"bfa27d49-f863-4505-811d-2b3d94bfa8b2\",\"type\":\"Range1d\"},{\"attributes\":{\"data_source\":{\"id\":\"c9c0ea6f-ca33-4946-bfc3-d5fb7691104f\",\"type\":\"ColumnDataSource\"},\"glyph\":{\"id\":\"9cd26739-3bc4-49e1-a37d-0dfee42de2ad\",\"type\":\"Quad\"},\"hover_glyph\":null,\"nonselection_glyph\":{\"id\":\"32edb52e-9410-443f-b45e-ac5b878fc109\",\"type\":\"Quad\"},\"selection_glyph\":null},\"id\":\"f9805418-0870-44d1-89f8-d0d7f6cfe64a\",\"type\":\"GlyphRenderer\"},{\"attributes\":{\"bottom\":{\"field\":\"bottom\"},\"fill_alpha\":{\"value\":0.1},\"fill_color\":{\"value\":\"#1f77b4\"},\"left\":{\"field\":\"left\"},\"line_alpha\":{\"value\":0.1},\"line_color\":{\"value\":\"#1f77b4\"},\"right\":{\"field\":\"right\"},\"top\":{\"field\":\"top\"}},\"id\":\"32edb52e-9410-443f-b45e-ac5b878fc109\",\"type\":\"Quad\"},{\"attributes\":{\"plot\":{\"id\":\"532a7e26-d19a-43a8-9cb3-ead06574ca60\",\"subtype\":\"Figure\",\"type\":\"Plot\"}},\"id\":\"a21e4c77-8808-485f-b840-98dd4ae1ea83\",\"type\":\"PanTool\"},{\"attributes\":{\"overlay\":{\"id\":\"b5b81e22-347c-4a8b-8ac9-e72121c25d37\",\"type\":\"BoxAnnotation\"},\"plot\":{\"id\":\"532a7e26-d19a-43a8-9cb3-ead06574ca60\",\"subtype\":\"Figure\",\"type\":\"Plot\"}},\"id\":\"d627f997-9cd5-481e-87e3-85e4a6e6e95d\",\"type\":\"BoxZoomTool\"},{\"attributes\":{\"formatter\":{\"id\":\"4ec80cac-2253-443a-9c8d-386e6c57fe00\",\"type\":\"BasicTickFormatter\"},\"plot\":{\"id\":\"532a7e26-d19a-43a8-9cb3-ead06574ca60\",\"subtype\":\"Figure\",\"type\":\"Plot\"},\"ticker\":{\"id\":\"0880f669-561f-477b-8c13-fa32613ff29c\",\"type\":\"BasicTicker\"}},\"id\":\"6d52d8ce-bcc8-4314-82f6-ee695050dfd7\",\"type\":\"LinearAxis\"},{\"attributes\":{\"callback\":null,\"column_names\":[\"xs\",\"ys\",\"line_color\"],\"data\":{\"line_color\":[\"black\",\"black\",\"black\",\"black\",\"black\",\"black\",\"black\",\"black\",\"black\",\"black\",\"black\",\"black\",\"black\",\"black\",\"black\",\"black\",\"black\",\"black\",\"black\",\"black\",\"black\",\"black\",\"black\",\"black\",\"black\",\"black\",\"black\",\"black\",\"black\",\"black\",\"black\",\"black\",\"black\",\"black\",\"black\",\"black\",\"black\",\"black\",\"black\",\"black\",\"black\",\"black\",\"black\",\"black\",\"black\",\"black\",\"black\",\"black\",\"black\",\"black\",\"black\",\"black\",\"black\",\"black\",\"black\",\"black\",\"black\",\"black\",\"black\",\"black\",\"black\",\"black\",\"black\",\"black\",\"black\",\"black\",\"black\",\"black\",\"black\",\"black\",\"black\",\"black\",\"black\",\"black\",\"black\",\"black\",\"black\",\"black\",\"black\",\"black\",\"black\",\"black\",\"black\",\"black\",\"black\",\"black\",\"black\",\"black\",\"black\",\"black\",\"black\",\"black\",\"black\",\"black\",\"black\",\"black\",\"black\",\"black\",\"black\",\"black\",\"black\",\"black\",\"black\"],\"xs\":[[135757320,135757320],[135761078,135761078],[135761271,135761271],[135762344,135762344],[135762980,135762980],[135763280,135763280],[135768815,135768815],[135769093,135769093],[135769127,135769127],[135770940,135770940],[135770951,135770951],[135776728,135776728],[135777504,135777504],[135829592,135829592],[135893372,135893372],[135952405,135952405],[135989721,135989721],[136136056,136136056],[136313639,136313639],[136401418,136401418],[136407078,136407078],[136420908,136420908],[136033790,136033790],[136103753,136103753],[136236633,136236633],[136277069,136277069],[136325737,136325737],[136393658,136393658],[136396300,136396300],[136401843,136401843],[136407445,136407445],[136411879,136411879],[136412270,136412270],[136413244,136413244],[136413847,136413847],[136415217,136415217],[136416533,136416533],[136420726,136420726],[136429857,136429857],[136433740,136433740],[136436317,136436317],[136437615,136437615],[136438517,136438517],[136440300,136440300],[136443900,136443900],[136444185,136444185],[136444338,136444338],[136449254,136449254],[136451676,136451676],[136459227,136459227],[136463117,136463117],[136463454,136463454],[136467119,136467119],[136468238,136468238],[136470219,136470219],[136483355,136483355],[136485276,136485276],[136486340,136486340],[136486342,136486342],[136495815,136495815],[136495889,136495889],[136509460,136509460],[136515721,136515721],[136515801,136515801],[136524747,136524747],[136525463,136525463],[136532518,136532518],[136542739,136542739],[136501840,136501840],[136505546,136505546],[136516748,136516748],[136522710,136522710],[136528004,136528004],[136539513,136539513],[136544752,136544752],[136546110,136546110],[136553529,136553529],[136555659,136555659],[136596162,136596162],[136598316,136598316],[136599520,136599520],[136601167,136601167],[136604113,136604113],[136604610,136604610],[136604699,136604699],[136609671,136609671],[136620957,136620957],[136646667,136646667],[136683320,136683320],[136697769,136697769],[136743172,136743172],[136776381,136776381],[136784743,136784743],[136785727,136785727],[136785729,136785729],[136605402,136605402],[136609320,136609320],[136611400,136611400],[136619744,136619744],[136621858,136621858],[136621941,136621941],[136624382,136624382],[136624686,136624686]],\"ys\":[[250,296],[250,296],[250,296],[250,296],[250,296],[250,296],[250,296],[250,296],[250,296],[250,296],[250,296],[250,296],[250,296],[150,191],[150,191],[150,191],[150,191],[150,191],[150,191],[150,191],[150,191],[150,191],[50,67],[50,67],[50,67],[50,67],[50,67],[250,294],[250,294],[250,294],[250,294],[250,294],[250,294],[250,294],[250,294],[250,294],[250,294],[250,294],[250,294],[250,294],[250,294],[250,294],[250,294],[250,294],[250,294],[250,294],[250,294],[250,294],[250,294],[250,294],[250,294],[250,294],[250,294],[250,294],[250,294],[250,294],[250,294],[250,294],[250,294],[150,183],[150,183],[150,183],[150,183],[150,183],[150,183],[150,183],[150,183],[150,183],[250,298],[250,298],[250,298],[250,298],[250,298],[250,298],[250,298],[250,298],[250,298],[250,298],[50,74],[50,74],[50,74],[50,74],[50,74],[50,74],[50,74],[50,74],[50,74],[50,74],[50,74],[50,74],[50,74],[50,74],[50,74],[50,74],[50,74],[150,182],[150,182],[150,182],[150,182],[150,182],[150,182],[150,182],[150,182]]}},\"id\":\"a70e3f66-7a0a-44dd-a2a1-721143756ea5\",\"type\":\"ColumnDataSource\"},{\"attributes\":{\"bottom\":{\"field\":\"bottom\"},\"fill_color\":{\"field\":\"fill_color\"},\"left\":{\"field\":\"left\"},\"line_color\":{\"value\":null},\"right\":{\"field\":\"right\"},\"top\":{\"field\":\"top\"}},\"id\":\"a230f1c5-e56f-49a2-9af4-a6302a985d5e\",\"type\":\"Quad\"},{\"attributes\":{\"formatter\":{\"id\":\"d1a5ecac-3d77-45b8-90a1-348b46749976\",\"type\":\"BasicTickFormatter\"},\"plot\":{\"id\":\"532a7e26-d19a-43a8-9cb3-ead06574ca60\",\"subtype\":\"Figure\",\"type\":\"Plot\"},\"ticker\":{\"id\":\"974a2441-1f57-4b62-a4e1-e2943fae2292\",\"type\":\"BasicTicker\"},\"visible\":null},\"id\":\"c1a1ed20-091a-4791-bef9-50f1968bba95\",\"type\":\"LinearAxis\"},{\"attributes\":{\"dimension\":1,\"plot\":{\"id\":\"532a7e26-d19a-43a8-9cb3-ead06574ca60\",\"subtype\":\"Figure\",\"type\":\"Plot\"},\"ticker\":{\"id\":\"974a2441-1f57-4b62-a4e1-e2943fae2292\",\"type\":\"BasicTicker\"}},\"id\":\"d3508ff2-b21e-4bb9-bb73-2fb8f048c765\",\"type\":\"Grid\"},{\"attributes\":{\"below\":[{\"id\":\"6d52d8ce-bcc8-4314-82f6-ee695050dfd7\",\"type\":\"LinearAxis\"}],\"left\":[{\"id\":\"c1a1ed20-091a-4791-bef9-50f1968bba95\",\"type\":\"LinearAxis\"}],\"plot_height\":400,\"plot_width\":900,\"renderers\":[{\"id\":\"6d52d8ce-bcc8-4314-82f6-ee695050dfd7\",\"type\":\"LinearAxis\"},{\"id\":\"bfe8012f-db06-4bea-a4d8-2df95da57e7e\",\"type\":\"Grid\"},{\"id\":\"c1a1ed20-091a-4791-bef9-50f1968bba95\",\"type\":\"LinearAxis\"},{\"id\":\"d3508ff2-b21e-4bb9-bb73-2fb8f048c765\",\"type\":\"Grid\"},{\"id\":\"b5b81e22-347c-4a8b-8ac9-e72121c25d37\",\"type\":\"BoxAnnotation\"},{\"id\":\"5345b1e6-21e2-4918-a3ec-348018d135da\",\"type\":\"GlyphRenderer\"},{\"id\":\"4df641ea-e83c-4a67-85d6-af7b6b9a4616\",\"type\":\"GlyphRenderer\"},{\"id\":\"9c5a1e55-d2cf-4853-ada0-01533b9a155c\",\"type\":\"LabelSet\"},{\"id\":\"f9805418-0870-44d1-89f8-d0d7f6cfe64a\",\"type\":\"GlyphRenderer\"},{\"id\":\"debb2220-6cdd-480d-b0ab-beebfbd62dea\",\"type\":\"LabelSet\"}],\"title\":{\"id\":\"7540e940-267a-4041-b00b-489c5827cd1d\",\"type\":\"Title\"},\"tool_events\":{\"id\":\"0e0f69ef-d0bd-4c31-8f53-ffaef57f5689\",\"type\":\"ToolEvents\"},\"toolbar\":{\"id\":\"0e825fba-b015-4d48-a370-edf7b0bd1829\",\"type\":\"Toolbar\"},\"toolbar_location\":null,\"x_range\":{\"id\":\"e8d28da3-a67a-43da-8d71-bc54031ae622\",\"type\":\"Range1d\"},\"y_range\":{\"id\":\"bfa27d49-f863-4505-811d-2b3d94bfa8b2\",\"type\":\"Range1d\"}},\"id\":\"532a7e26-d19a-43a8-9cb3-ead06574ca60\",\"subtype\":\"Figure\",\"type\":\"Plot\"},{\"attributes\":{\"data_source\":{\"id\":\"a70e3f66-7a0a-44dd-a2a1-721143756ea5\",\"type\":\"ColumnDataSource\"},\"glyph\":{\"id\":\"3d27e143-7864-49b5-b381-480b4e4772ac\",\"type\":\"MultiLine\"},\"hover_glyph\":null,\"nonselection_glyph\":{\"id\":\"793c960a-175f-415e-bf76-7e1b2d6e461a\",\"type\":\"MultiLine\"},\"selection_glyph\":null},\"id\":\"4df641ea-e83c-4a67-85d6-af7b6b9a4616\",\"type\":\"GlyphRenderer\"},{\"attributes\":{\"callback\":null,\"column_names\":[\"right\",\"bottom\",\"top\",\"left\",\"fill_color\"],\"data\":{\"bottom\":[250,150,50,250,150,250,50,150],\"fill_color\":[\"#808080\",\"#c4c461\",\"#00ffff\",\"#c4c461\",\"#c46161\",\"#808080\",\"#c4c461\",\"#c46161\"],\"left\":[135757320,135829592,136033790,136393658,136495815,136501840,136596162,136605402],\"right\":[135777504,136420908,136325737,136486342,136542739,136555659,136785729,136624686],\"top\":[296,191,67,294,183,298,74,182]}},\"id\":\"a50a06f6-c877-4792-a87a-52c351a071a0\",\"type\":\"ColumnDataSource\"},{\"attributes\":{\"active_drag\":\"auto\",\"active_scroll\":\"auto\",\"active_tap\":\"auto\",\"tools\":[{\"id\":\"a21e4c77-8808-485f-b840-98dd4ae1ea83\",\"type\":\"PanTool\"},{\"id\":\"4a72f1ba-3b7a-4561-956e-9d40f88177d0\",\"type\":\"WheelZoomTool\"},{\"id\":\"d627f997-9cd5-481e-87e3-85e4a6e6e95d\",\"type\":\"BoxZoomTool\"},{\"id\":\"c6115e14-d8fc-4c18-8c1e-a486ca19c4e6\",\"type\":\"SaveTool\"},{\"id\":\"3137a1bc-0117-47b0-bd04-7d0c63f5a6aa\",\"type\":\"ResetTool\"},{\"id\":\"dcb36c1b-cb42-4ae4-bde7-94a663a446c8\",\"type\":\"HelpTool\"}]},\"id\":\"0e825fba-b015-4d48-a370-edf7b0bd1829\",\"type\":\"Toolbar\"},{\"attributes\":{\"level\":\"glyph\",\"plot\":{\"id\":\"532a7e26-d19a-43a8-9cb3-ead06574ca60\",\"subtype\":\"Figure\",\"type\":\"Plot\"},\"source\":{\"id\":\"41e486ac-4517-4250-a205-88901319bbee\",\"type\":\"ColumnDataSource\"},\"text\":{\"field\":\"vals\"},\"text_font_size\":{\"value\":\"9pt\"},\"text_font_style\":\"bold\",\"x\":{\"field\":\"x\"},\"y\":{\"field\":\"y\"}},\"id\":\"9c5a1e55-d2cf-4853-ada0-01533b9a155c\",\"type\":\"LabelSet\"},{\"attributes\":{\"plot\":{\"id\":\"532a7e26-d19a-43a8-9cb3-ead06574ca60\",\"subtype\":\"Figure\",\"type\":\"Plot\"}},\"id\":\"4a72f1ba-3b7a-4561-956e-9d40f88177d0\",\"type\":\"WheelZoomTool\"},{\"attributes\":{\"plot\":{\"id\":\"532a7e26-d19a-43a8-9cb3-ead06574ca60\",\"subtype\":\"Figure\",\"type\":\"Plot\"},\"ticker\":{\"id\":\"0880f669-561f-477b-8c13-fa32613ff29c\",\"type\":\"BasicTicker\"}},\"id\":\"bfe8012f-db06-4bea-a4d8-2df95da57e7e\",\"type\":\"Grid\"},{\"attributes\":{},\"id\":\"0e0f69ef-d0bd-4c31-8f53-ffaef57f5689\",\"type\":\"ToolEvents\"},{\"attributes\":{\"level\":\"glyph\",\"plot\":{\"id\":\"532a7e26-d19a-43a8-9cb3-ead06574ca60\",\"subtype\":\"Figure\",\"type\":\"Plot\"},\"source\":{\"id\":\"cbd06968-bf2d-40d7-885f-a50e8f3213fd\",\"type\":\"ColumnDataSource\"},\"text\":{\"field\":\"vals\"},\"text_align\":\"center\",\"text_baseline\":\"middle\",\"text_font_size\":{\"value\":\"8pt\"},\"x\":{\"field\":\"x\"},\"y\":{\"field\":\"y\"}},\"id\":\"debb2220-6cdd-480d-b0ab-beebfbd62dea\",\"type\":\"LabelSet\"},{\"attributes\":{\"bottom_units\":\"screen\",\"fill_alpha\":{\"value\":0.5},\"fill_color\":{\"value\":\"lightgrey\"},\"left_units\":\"screen\",\"level\":\"overlay\",\"line_alpha\":{\"value\":1.0},\"line_color\":{\"value\":\"black\"},\"line_dash\":[4,4],\"line_width\":{\"value\":2},\"plot\":null,\"render_mode\":\"css\",\"right_units\":\"screen\",\"top_units\":\"screen\"},\"id\":\"b5b81e22-347c-4a8b-8ac9-e72121c25d37\",\"type\":\"BoxAnnotation\"},{\"attributes\":{\"callback\":null,\"column_names\":[\"y\",\"x\",\"vals\"],\"data\":{\"vals\":[\"13_1696\",\"9_944\",\"5_60\",\"32_1361\",\"9_378\",\"10_2206\",\"17_137\",\"8_328\"],\"x\":[135757320,135829592,136033790,136393658,136495815,136501840,136596162,136605402],\"y\":[301.0,196.0,72.0,299.0,188.0,303.0,79.0,187.0]}},\"id\":\"41e486ac-4517-4250-a205-88901319bbee\",\"type\":\"ColumnDataSource\"},{\"attributes\":{},\"id\":\"974a2441-1f57-4b62-a4e1-e2943fae2292\",\"type\":\"BasicTicker\"},{\"attributes\":{\"line_alpha\":{\"value\":0.1},\"line_color\":{\"value\":\"#1f77b4\"},\"xs\":{\"field\":\"xs\"},\"ys\":{\"field\":\"ys\"}},\"id\":\"793c960a-175f-415e-bf76-7e1b2d6e461a\",\"type\":\"MultiLine\"},{\"attributes\":{},\"id\":\"0880f669-561f-477b-8c13-fa32613ff29c\",\"type\":\"BasicTicker\"},{\"attributes\":{\"bottom\":{\"field\":\"bottom\"},\"fill_alpha\":{\"value\":0.1},\"fill_color\":{\"value\":\"#1f77b4\"},\"left\":{\"field\":\"left\"},\"line_alpha\":{\"value\":0.1},\"line_color\":{\"value\":\"#1f77b4\"},\"right\":{\"field\":\"right\"},\"top\":{\"field\":\"top\"}},\"id\":\"6b6c0557-6feb-440e-b487-927f0d7cc560\",\"type\":\"Quad\"},{\"attributes\":{},\"id\":\"d1a5ecac-3d77-45b8-90a1-348b46749976\",\"type\":\"BasicTickFormatter\"},{\"attributes\":{\"bottom\":{\"field\":\"bottom\"},\"fill_color\":{\"value\":\"white\"},\"left\":{\"field\":\"left\"},\"right\":{\"field\":\"right\"},\"top\":{\"field\":\"top\"}},\"id\":\"9cd26739-3bc4-49e1-a37d-0dfee42de2ad\",\"type\":\"Quad\"}],\"root_ids\":[\"532a7e26-d19a-43a8-9cb3-ead06574ca60\"]},\"title\":\"Bokeh Application\",\"version\":\"0.12.0\"}};\n",
       "            var render_items = [{\"docid\":\"fcf74945-2ee2-475c-9240-e4ac0d450cc3\",\"elementid\":\"0a3c1ee3-6b19-42a3-87b1-f75fde797a7e\",\"modelid\":\"532a7e26-d19a-43a8-9cb3-ead06574ca60\",\"notebook_comms_target\":\"f591c339-66e6-41b1-8877-56f90f3a65ca\"}];\n",
       "            \n",
       "            Bokeh.embed.embed_items(docs_json, render_items);\n",
       "        });\n",
       "      },\n",
       "      function(Bokeh) {\n",
       "      }\n",
       "    ];\n",
       "  \n",
       "    function run_inline_js() {\n",
       "      for (var i = 0; i < inline_js.length; i++) {\n",
       "        inline_js[i](window.Bokeh);\n",
       "      }\n",
       "    }\n",
       "  \n",
       "    if (window._bokeh_is_loading === 0) {\n",
       "      console.log(\"Bokeh: BokehJS loaded, going straight to plotting\");\n",
       "      run_inline_js();\n",
       "    } else {\n",
       "      load_libs(js_urls, function() {\n",
       "        console.log(\"Bokeh: BokehJS plotting callback run at\", now());\n",
       "        run_inline_js();\n",
       "      });\n",
       "    }\n",
       "  }(this));\n",
       "</script>"
      ]
     },
     "metadata": {},
     "output_type": "display_data"
    },
    {
     "data": {
      "text/html": [
       "<p><code>&lt;Bokeh Notebook handle for <strong>In[15]</strong>&gt;</code></p>"
      ],
      "text/plain": [
       "<bokeh.io._CommsHandle at 0x7fc7bc993c10>"
      ]
     },
     "execution_count": 15,
     "metadata": {},
     "output_type": "execute_result"
    }
   ],
   "source": [
    "plt_obj = dm.superset_yes_no([di_5_60, dm.di_13_1696], [dm.di_24_1504, dm.di_4_1442], min_match=0.001)\n",
    "plt = plt_obj.do_plot()\n",
    "show(plt)"
   ]
  },
  {
   "cell_type": "code",
   "execution_count": 16,
   "metadata": {
    "collapsed": false
   },
   "outputs": [
    {
     "data": {
      "text/html": [
       "<table>\n",
       "<thead><tr><th style=\"text-align:center\">index</th><th style=\"text-align:center\">first</th><th style=\"text-align:center\">length</th><th style=\"text-align:center\">snps</th><th style=\"text-align:center\" colspan=2>alleles</th><th style=\"text-align:center\" colspan=2>matches</th><th style=\"text-align:center\" colspan=2>afr</th><th style=\"text-align:center\" colspan=2>afx</th><th style=\"text-align:center\" colspan=2>amr</th><th style=\"text-align:center\" colspan=2>eas</th><th style=\"text-align:center\" colspan=2>eur</th><th style=\"text-align:center\" colspan=2>sas</th><th style=\"text-align:center\" colspan=2>sax</th></tr></thead>\n",
       "<tr class=\"even\"><td style=\"text-align: right;\">353921</td><td style=\"text-align: right;\">136,501,840</td><td style=\"text-align: right;\">53,819</td><td style=\"text-align: right;\">10</td><td style=\"text-align: right;\">2206</td><td style=\"text-align: right;\">0.00</td><td style=\"text-align: right;\">1</td><td style=\"text-align: right;\">1.00</td><td style=\"text-align: right;\">0</td><td style=\"text-align: right;\">0.00</td><td style=\"text-align: right;\">0</td><td style=\"text-align: right;\">0.00</td><td style=\"text-align: right;\">0</td><td style=\"text-align: right;\">0.00</td><td style=\"text-align: right;\">0</td><td style=\"text-align: right;\">0.00</td><td style=\"text-align: right;\">1</td><td style=\"text-align: right;\">4.42</td><td style=\"text-align: right;\">0</td><td style=\"text-align: right;\">0.00</td><td style=\"text-align: right;\">0</td><td style=\"text-align: right;\">0.00</td></tr>\n",
       "<tr><td style=\"text-align: right;\">353240</td><td style=\"text-align: right;\">135,757,320</td><td style=\"text-align: right;\">20,184</td><td style=\"text-align: right;\">13</td><td style=\"text-align: right;\">1696</td><td style=\"text-align: right;\">0.00</td><td style=\"text-align: right;\">1</td><td style=\"text-align: right;\">1.00</td><td style=\"text-align: right;\">0</td><td style=\"text-align: right;\">0.00</td><td style=\"text-align: right;\">0</td><td style=\"text-align: right;\">0.00</td><td style=\"text-align: right;\">0</td><td style=\"text-align: right;\">0.00</td><td style=\"text-align: right;\">0</td><td style=\"text-align: right;\">0.00</td><td style=\"text-align: right;\">1</td><td style=\"text-align: right;\">4.42</td><td style=\"text-align: right;\">0</td><td style=\"text-align: right;\">0.00</td><td style=\"text-align: right;\">0</td><td style=\"text-align: right;\">0.00</td></tr>\n",
       "<tr class=\"even\"><td style=\"text-align: right;\">353791</td><td style=\"text-align: right;\">136,393,658</td><td style=\"text-align: right;\">92,684</td><td style=\"text-align: right;\">32</td><td style=\"text-align: right;\">1361</td><td style=\"text-align: right;\">0.00</td><td style=\"text-align: right;\">1</td><td style=\"text-align: right;\">1.00</td><td style=\"text-align: right;\">0</td><td style=\"text-align: right;\">0.00</td><td style=\"text-align: right;\">0</td><td style=\"text-align: right;\">0.00</td><td style=\"text-align: right;\">0</td><td style=\"text-align: right;\">0.00</td><td style=\"text-align: right;\">0</td><td style=\"text-align: right;\">0.00</td><td style=\"text-align: right;\">1</td><td style=\"text-align: right;\">4.42</td><td style=\"text-align: right;\">0</td><td style=\"text-align: right;\">0.00</td><td style=\"text-align: right;\">0</td><td style=\"text-align: right;\">0.00</td></tr>\n",
       "<tr><td style=\"text-align: right;\">353372</td><td style=\"text-align: right;\">135,829,592</td><td style=\"text-align: right;\">591,316</td><td style=\"text-align: right;\">9</td><td style=\"text-align: right;\">944</td><td style=\"text-align: right;\">0.00</td><td style=\"text-align: right;\">1</td><td style=\"text-align: right;\">1.00</td><td style=\"text-align: right;\">0</td><td style=\"text-align: right;\">0.00</td><td style=\"text-align: right;\">0</td><td style=\"text-align: right;\">0.00</td><td style=\"text-align: right;\">0</td><td style=\"text-align: right;\">0.00</td><td style=\"text-align: right;\">0</td><td style=\"text-align: right;\">0.00</td><td style=\"text-align: right;\">1</td><td style=\"text-align: right;\">4.42</td><td style=\"text-align: right;\">0</td><td style=\"text-align: right;\">0.00</td><td style=\"text-align: right;\">0</td><td style=\"text-align: right;\">0.00</td></tr>\n",
       "<tr class=\"even\"><td style=\"text-align: right;\">353904</td><td style=\"text-align: right;\">136,495,815</td><td style=\"text-align: right;\">46,924</td><td style=\"text-align: right;\">9</td><td style=\"text-align: right;\">378</td><td style=\"text-align: right;\">0.00</td><td style=\"text-align: right;\">1</td><td style=\"text-align: right;\">1.00</td><td style=\"text-align: right;\">0</td><td style=\"text-align: right;\">0.00</td><td style=\"text-align: right;\">0</td><td style=\"text-align: right;\">0.00</td><td style=\"text-align: right;\">0</td><td style=\"text-align: right;\">0.00</td><td style=\"text-align: right;\">0</td><td style=\"text-align: right;\">0.00</td><td style=\"text-align: right;\">1</td><td style=\"text-align: right;\">4.42</td><td style=\"text-align: right;\">0</td><td style=\"text-align: right;\">0.00</td><td style=\"text-align: right;\">0</td><td style=\"text-align: right;\">0.00</td></tr>\n",
       "<tr><td style=\"text-align: right;\">354064</td><td style=\"text-align: right;\">136,605,402</td><td style=\"text-align: right;\">19,284</td><td style=\"text-align: right;\">8</td><td style=\"text-align: right;\">328</td><td style=\"text-align: right;\">0.00</td><td style=\"text-align: right;\">1</td><td style=\"text-align: right;\">1.00</td><td style=\"text-align: right;\">0</td><td style=\"text-align: right;\">0.00</td><td style=\"text-align: right;\">0</td><td style=\"text-align: right;\">0.00</td><td style=\"text-align: right;\">0</td><td style=\"text-align: right;\">0.00</td><td style=\"text-align: right;\">0</td><td style=\"text-align: right;\">0.00</td><td style=\"text-align: right;\">1</td><td style=\"text-align: right;\">4.42</td><td style=\"text-align: right;\">0</td><td style=\"text-align: right;\">0.00</td><td style=\"text-align: right;\">0</td><td style=\"text-align: right;\">0.00</td></tr>\n",
       "<tr class=\"even\"><td style=\"text-align: right;\">354051</td><td style=\"text-align: right;\">136,596,162</td><td style=\"text-align: right;\">189,567</td><td style=\"text-align: right;\">17</td><td style=\"text-align: right;\">137</td><td style=\"text-align: right;\">0.01</td><td style=\"text-align: right;\">1</td><td style=\"text-align: right;\">1.00</td><td style=\"text-align: right;\">0</td><td style=\"text-align: right;\">0.00</td><td style=\"text-align: right;\">0</td><td style=\"text-align: right;\">0.00</td><td style=\"text-align: right;\">0</td><td style=\"text-align: right;\">0.00</td><td style=\"text-align: right;\">0</td><td style=\"text-align: right;\">0.00</td><td style=\"text-align: right;\">1</td><td style=\"text-align: right;\">4.42</td><td style=\"text-align: right;\">0</td><td style=\"text-align: right;\">0.00</td><td style=\"text-align: right;\">0</td><td style=\"text-align: right;\">0.00</td></tr>\n",
       "<tr><td style=\"text-align: right;\">353564</td><td style=\"text-align: right;\">136,033,790</td><td style=\"text-align: right;\">291,947</td><td style=\"text-align: right;\">5</td><td style=\"text-align: right;\">60</td><td style=\"text-align: right;\">0.02</td><td style=\"text-align: right;\">1</td><td style=\"text-align: right;\">1.00</td><td style=\"text-align: right;\">0</td><td style=\"text-align: right;\">0.00</td><td style=\"text-align: right;\">0</td><td style=\"text-align: right;\">0.00</td><td style=\"text-align: right;\">0</td><td style=\"text-align: right;\">0.00</td><td style=\"text-align: right;\">0</td><td style=\"text-align: right;\">0.00</td><td style=\"text-align: right;\">1</td><td style=\"text-align: right;\">4.42</td><td style=\"text-align: right;\">0</td><td style=\"text-align: right;\">0.00</td><td style=\"text-align: right;\">0</td><td style=\"text-align: right;\">0.00</td></tr>\n",
       "</table>"
      ],
      "text/plain": [
       "<IPython.core.display.HTML object>"
      ]
     },
     "execution_count": 16,
     "metadata": {},
     "output_type": "execute_result"
    }
   ],
   "source": [
    "HTML(plt_obj.get_html())"
   ]
  },
  {
   "cell_type": "code",
   "execution_count": 17,
   "metadata": {
    "collapsed": false
   },
   "outputs": [
    {
     "data": {
      "text/html": [
       "\n",
       "\n",
       "    <div class=\"bk-root\">\n",
       "        <div class=\"plotdiv\" id=\"8f7ec840-e6a6-4006-99f3-23961cff2083\"></div>\n",
       "    </div>\n",
       "<script type=\"text/javascript\">\n",
       "  \n",
       "  (function(global) {\n",
       "    function now() {\n",
       "      return new Date();\n",
       "    }\n",
       "  \n",
       "    if (typeof (window._bokeh_onload_callbacks) === \"undefined\") {\n",
       "      window._bokeh_onload_callbacks = [];\n",
       "    }\n",
       "  \n",
       "    function run_callbacks() {\n",
       "      window._bokeh_onload_callbacks.forEach(function(callback) { callback() });\n",
       "      delete window._bokeh_onload_callbacks\n",
       "      console.info(\"Bokeh: all callbacks have finished\");\n",
       "    }\n",
       "  \n",
       "    function load_libs(js_urls, callback) {\n",
       "      window._bokeh_onload_callbacks.push(callback);\n",
       "      if (window._bokeh_is_loading > 0) {\n",
       "        console.log(\"Bokeh: BokehJS is being loaded, scheduling callback at\", now());\n",
       "        return null;\n",
       "      }\n",
       "      if (js_urls == null || js_urls.length === 0) {\n",
       "        run_callbacks();\n",
       "        return null;\n",
       "      }\n",
       "      console.log(\"Bokeh: BokehJS not loaded, scheduling load and callback at\", now());\n",
       "      window._bokeh_is_loading = js_urls.length;\n",
       "      for (var i = 0; i < js_urls.length; i++) {\n",
       "        var url = js_urls[i];\n",
       "        var s = document.createElement('script');\n",
       "        s.src = url;\n",
       "        s.async = false;\n",
       "        s.onreadystatechange = s.onload = function() {\n",
       "          window._bokeh_is_loading--;\n",
       "          if (window._bokeh_is_loading === 0) {\n",
       "            console.log(\"Bokeh: all BokehJS libraries loaded\");\n",
       "            run_callbacks()\n",
       "          }\n",
       "        };\n",
       "        s.onerror = function() {\n",
       "          console.warn(\"failed to load library \" + url);\n",
       "        };\n",
       "        console.log(\"Bokeh: injecting script tag for BokehJS library: \", url);\n",
       "        document.getElementsByTagName(\"head\")[0].appendChild(s);\n",
       "      }\n",
       "    };var element = document.getElementById(\"8f7ec840-e6a6-4006-99f3-23961cff2083\");\n",
       "    if (element == null) {\n",
       "      console.log(\"Bokeh: ERROR: autoload.js configured with elementid '8f7ec840-e6a6-4006-99f3-23961cff2083' but no matching script tag was found. \")\n",
       "      return false;\n",
       "    }\n",
       "  \n",
       "    var js_urls = [];\n",
       "  \n",
       "    var inline_js = [\n",
       "      function(Bokeh) {\n",
       "        Bokeh.$(function() {\n",
       "            var docs_json = {\"5517dddd-5e8d-41fa-ba87-ab51ba2b3ede\":{\"roots\":{\"references\":[{\"attributes\":{\"bottom\":{\"field\":\"bottom\"},\"fill_alpha\":{\"value\":0.1},\"fill_color\":{\"value\":\"#1f77b4\"},\"left\":{\"field\":\"left\"},\"line_alpha\":{\"value\":0.1},\"line_color\":{\"value\":\"#1f77b4\"},\"right\":{\"field\":\"right\"},\"top\":{\"field\":\"top\"}},\"id\":\"860c60df-c7d7-4d1b-b9bd-afb0bb91a151\",\"type\":\"Quad\"},{\"attributes\":{\"callback\":null,\"column_names\":[\"y\",\"x\",\"vals\"],\"data\":{\"vals\":[\"RAB3GAP1\",\"ZRANB3\",\"R3HDM1\",\"UBXN4\",\"LCT\",\"MCM6\",\"DARS\"],\"x\":[135869057.0,136122878.0,136385961.0,136520911.0,136570082.5,136615621.5,136703738.0],\"y\":[660.0,660.0,660.0,660.0,660.0,660.0,660.0]}},\"id\":\"ead10c93-ae0b-4462-b644-b2bc9ba7180d\",\"type\":\"ColumnDataSource\"},{\"attributes\":{},\"id\":\"3b1ccdad-4a68-470d-8f00-4e9f8cd0b243\",\"type\":\"BasicTickFormatter\"},{\"attributes\":{\"bottom\":{\"field\":\"bottom\"},\"fill_color\":{\"field\":\"fill_color\"},\"left\":{\"field\":\"left\"},\"line_color\":{\"value\":null},\"right\":{\"field\":\"right\"},\"top\":{\"field\":\"top\"}},\"id\":\"dbeef1cb-190d-4305-a814-0cfd518ed927\",\"type\":\"Quad\"},{\"attributes\":{\"bottom\":{\"field\":\"bottom\"},\"fill_alpha\":{\"value\":0.1},\"fill_color\":{\"value\":\"#1f77b4\"},\"left\":{\"field\":\"left\"},\"line_alpha\":{\"value\":0.1},\"line_color\":{\"value\":\"#1f77b4\"},\"right\":{\"field\":\"right\"},\"top\":{\"field\":\"top\"}},\"id\":\"6158fd52-5d15-4260-9238-157a503f10b2\",\"type\":\"Quad\"},{\"attributes\":{\"plot\":{\"id\":\"f5df6546-3ba6-4da6-b4a9-c4357671c907\",\"subtype\":\"Figure\",\"type\":\"Plot\"}},\"id\":\"436aa677-f0d9-47c1-b3ff-7812e70352fa\",\"type\":\"ResetTool\"},{\"attributes\":{\"bottom\":{\"field\":\"bottom\"},\"fill_color\":{\"value\":\"white\"},\"left\":{\"field\":\"left\"},\"right\":{\"field\":\"right\"},\"top\":{\"field\":\"top\"}},\"id\":\"e8519ae0-ca90-42b9-bd4b-89407d2819d2\",\"type\":\"Quad\"},{\"attributes\":{\"dimension\":1,\"plot\":{\"id\":\"f5df6546-3ba6-4da6-b4a9-c4357671c907\",\"subtype\":\"Figure\",\"type\":\"Plot\"},\"ticker\":{\"id\":\"3a908fb5-d601-4933-96d4-7f37854338dc\",\"type\":\"BasicTicker\"}},\"id\":\"a1e0b359-0d50-4a0c-b1ee-8923dff435e0\",\"type\":\"Grid\"},{\"attributes\":{\"callback\":null,\"column_names\":[\"right\",\"bottom\",\"top\",\"left\"],\"data\":{\"bottom\":[645,645,645,645,645,645,645],\"left\":[135809835,135957574,136289083,136499189,136545415,136597196,136664254],\"right\":[135928279,136288182,136482839,136542633,136594750,136634047,136743222],\"top\":[675,675,675,675,675,675,675]}},\"id\":\"696388f1-f5be-4a3f-8317-bbe2811a198a\",\"type\":\"ColumnDataSource\"},{\"attributes\":{\"plot\":{\"id\":\"f5df6546-3ba6-4da6-b4a9-c4357671c907\",\"subtype\":\"Figure\",\"type\":\"Plot\"}},\"id\":\"2093f38c-36f4-4aab-bc13-105862ceb5dc\",\"type\":\"HelpTool\"},{\"attributes\":{\"active_drag\":\"auto\",\"active_scroll\":\"auto\",\"active_tap\":\"auto\",\"tools\":[{\"id\":\"e8114b20-2c33-466a-ba66-9f475603c8f5\",\"type\":\"PanTool\"},{\"id\":\"cf581571-2579-418a-a012-b25173825480\",\"type\":\"WheelZoomTool\"},{\"id\":\"70ec0440-ea7e-449a-ab24-6267c90316bd\",\"type\":\"BoxZoomTool\"},{\"id\":\"7604e1eb-d009-4b2e-8e4c-ca89adc721d9\",\"type\":\"SaveTool\"},{\"id\":\"436aa677-f0d9-47c1-b3ff-7812e70352fa\",\"type\":\"ResetTool\"},{\"id\":\"2093f38c-36f4-4aab-bc13-105862ceb5dc\",\"type\":\"HelpTool\"}]},\"id\":\"f5527ffc-ca5d-4e9c-b25a-94bac5cebb7c\",\"type\":\"Toolbar\"},{\"attributes\":{},\"id\":\"3a908fb5-d601-4933-96d4-7f37854338dc\",\"type\":\"BasicTicker\"},{\"attributes\":{\"callback\":null,\"column_names\":[\"right\",\"bottom\",\"top\",\"left\",\"fill_color\"],\"data\":{\"bottom\":[150,50,450,150,250,450,350,550,250,350,550],\"fill_color\":[\"#c4c461\",\"#00ffff\",\"#c4c461\",\"#808080\",\"#808080\",\"#808080\",\"#808080\",\"#c46161\",\"#808080\",\"#808080\",\"#808080\"],\"left\":[135829592,136033790,136393658,136494985,136500475,136506375,136535876,136588031,136652491,136652953,136653925],\"right\":[136420908,136325737,136486342,136773638,136542560,136538939,136554890,136593678,136732772,136761175,136761853],\"top\":[191,67,494,190,293,494,394,596,292,394,595]}},\"id\":\"b351aab3-475f-466a-888a-691a7e989ba4\",\"type\":\"ColumnDataSource\"},{\"attributes\":{\"plot\":{\"id\":\"f5df6546-3ba6-4da6-b4a9-c4357671c907\",\"subtype\":\"Figure\",\"type\":\"Plot\"}},\"id\":\"7604e1eb-d009-4b2e-8e4c-ca89adc721d9\",\"type\":\"SaveTool\"},{\"attributes\":{\"plot\":null,\"text\":null},\"id\":\"7b8cb28a-27ea-4009-bb27-da6b502cb0e8\",\"type\":\"Title\"},{\"attributes\":{\"callback\":null,\"column_names\":[\"y\",\"x\",\"vals\"],\"data\":{\"vals\":[\"9_944\",\"5_60\",\"32_1361\",\"81_857\",\"13_1227\",\"4_1442\",\"7_1303\",\"7_1760\",\"6_1114\",\"5_1296\",\"24_1504\"],\"x\":[135829592,136033790,136393658,136494985,136500475,136506375,136535876,136588031,136652491,136652953,136653925],\"y\":[196.0,72.0,499.0,195.0,298.0,499.0,399.0,601.0,297.0,399.0,600.0]}},\"id\":\"d231e928-e1d7-4c93-883a-2ad41d3ae278\",\"type\":\"ColumnDataSource\"},{\"attributes\":{\"line_color\":{\"field\":\"line_color\"},\"xs\":{\"field\":\"xs\"},\"ys\":{\"field\":\"ys\"}},\"id\":\"702f3825-1e9d-4a37-9b8b-9f9775d0e19e\",\"type\":\"MultiLine\"},{\"attributes\":{\"callback\":null,\"end\":700},\"id\":\"95c1b9ae-9209-4b2a-b28f-febcc82c674c\",\"type\":\"Range1d\"},{\"attributes\":{\"overlay\":{\"id\":\"c30515b0-c53e-40d5-ba4e-577597ac74f1\",\"type\":\"BoxAnnotation\"},\"plot\":{\"id\":\"f5df6546-3ba6-4da6-b4a9-c4357671c907\",\"subtype\":\"Figure\",\"type\":\"Plot\"}},\"id\":\"70ec0440-ea7e-449a-ab24-6267c90316bd\",\"type\":\"BoxZoomTool\"},{\"attributes\":{},\"id\":\"bac7362d-cf84-4426-8b65-5efd6040e49f\",\"type\":\"ToolEvents\"},{\"attributes\":{},\"id\":\"ac60b929-5156-4146-9c97-9ed696853d6a\",\"type\":\"BasicTickFormatter\"},{\"attributes\":{\"formatter\":{\"id\":\"3b1ccdad-4a68-470d-8f00-4e9f8cd0b243\",\"type\":\"BasicTickFormatter\"},\"plot\":{\"id\":\"f5df6546-3ba6-4da6-b4a9-c4357671c907\",\"subtype\":\"Figure\",\"type\":\"Plot\"},\"ticker\":{\"id\":\"3a908fb5-d601-4933-96d4-7f37854338dc\",\"type\":\"BasicTicker\"},\"visible\":null},\"id\":\"4a60512b-46f4-446c-8712-6e1c52789a88\",\"type\":\"LinearAxis\"},{\"attributes\":{\"plot\":{\"id\":\"f5df6546-3ba6-4da6-b4a9-c4357671c907\",\"subtype\":\"Figure\",\"type\":\"Plot\"}},\"id\":\"e8114b20-2c33-466a-ba66-9f475603c8f5\",\"type\":\"PanTool\"},{\"attributes\":{\"callback\":null,\"column_names\":[\"xs\",\"ys\",\"line_color\"],\"data\":{\"line_color\":[\"black\",\"black\",\"black\",\"black\",\"black\",\"black\",\"black\",\"black\",\"black\",\"black\",\"black\",\"black\",\"black\",\"black\",\"black\",\"black\",\"black\",\"black\",\"black\",\"black\",\"black\",\"black\",\"black\",\"black\",\"black\",\"black\",\"black\",\"black\",\"black\",\"black\",\"black\",\"black\",\"black\",\"black\",\"black\",\"black\",\"black\",\"black\",\"black\",\"black\",\"black\",\"black\",\"black\",\"black\",\"black\",\"black\",\"black\",\"black\",\"black\",\"black\",\"black\",\"black\",\"black\",\"black\",\"black\",\"black\",\"black\",\"black\",\"black\",\"black\",\"black\",\"black\",\"black\",\"black\",\"black\",\"black\",\"black\",\"black\",\"black\",\"black\",\"black\",\"black\",\"black\",\"black\",\"black\",\"black\",\"black\",\"black\",\"black\",\"black\",\"black\",\"black\",\"black\",\"black\",\"black\",\"black\",\"black\",\"black\",\"black\",\"black\",\"black\",\"black\",\"black\",\"black\",\"black\",\"black\",\"black\",\"black\",\"black\",\"black\",\"black\",\"black\",\"black\",\"black\",\"black\",\"black\",\"black\",\"black\",\"black\",\"black\",\"black\",\"black\",\"black\",\"black\",\"black\",\"black\",\"black\",\"black\",\"black\",\"black\",\"black\",\"black\",\"black\",\"black\",\"black\",\"black\",\"black\",\"black\",\"black\",\"black\",\"black\",\"black\",\"black\",\"black\",\"black\",\"black\",\"black\",\"black\",\"black\",\"black\",\"black\",\"black\",\"black\",\"black\",\"black\",\"black\",\"black\",\"black\",\"black\",\"black\",\"black\",\"black\",\"black\",\"black\",\"black\",\"black\",\"black\",\"black\",\"black\",\"black\",\"black\",\"black\",\"black\",\"black\",\"black\",\"black\",\"black\",\"black\",\"black\",\"black\",\"black\",\"black\",\"black\",\"black\",\"black\",\"black\",\"black\",\"black\",\"black\",\"black\",\"black\",\"black\",\"black\",\"black\",\"black\",\"black\",\"black\",\"black\",\"black\",\"black\",\"black\",\"black\",\"black\"],\"xs\":[[135829592,135829592],[135893372,135893372],[135952405,135952405],[135989721,135989721],[136136056,136136056],[136313639,136313639],[136401418,136401418],[136407078,136407078],[136420908,136420908],[136033790,136033790],[136103753,136103753],[136236633,136236633],[136277069,136277069],[136325737,136325737],[136393658,136393658],[136396300,136396300],[136401843,136401843],[136407445,136407445],[136411879,136411879],[136412270,136412270],[136413244,136413244],[136413847,136413847],[136415217,136415217],[136416533,136416533],[136420726,136420726],[136429857,136429857],[136433740,136433740],[136436317,136436317],[136437615,136437615],[136438517,136438517],[136440300,136440300],[136443900,136443900],[136444185,136444185],[136444338,136444338],[136449254,136449254],[136451676,136451676],[136459227,136459227],[136463117,136463117],[136463454,136463454],[136467119,136467119],[136468238,136468238],[136470219,136470219],[136483355,136483355],[136485276,136485276],[136486340,136486340],[136486342,136486342],[136494985,136494985],[136497199,136497199],[136511817,136511817],[136513670,136513670],[136515458,136515458],[136516970,136516970],[136525309,136525309],[136528034,136528034],[136532225,136532225],[136535235,136535235],[136536095,136536095],[136544423,136544423],[136546927,136546927],[136552188,136552188],[136552517,136552517],[136555525,136555525],[136556480,136556480],[136560464,136560464],[136572285,136572285],[136582694,136582694],[136582809,136582809],[136584538,136584538],[136585323,136585323],[136586825,136586825],[136600662,136600662],[136612036,136612036],[136618178,136618178],[136618507,136618507],[136622543,136622543],[136624947,136624947],[136625113,136625113],[136626078,136626078],[136628121,136628121],[136632300,136632300],[136633962,136633962],[136635343,136635343],[136638113,136638113],[136640101,136640101],[136641593,136641593],[136646582,136646582],[136648077,136648077],[136648883,136648883],[136652045,136652045],[136653848,136653848],[136656094,136656094],[136661110,136661110],[136663110,136663110],[136663605,136663605],[136665162,136665162],[136665711,136665711],[136668123,136668123],[136670419,136670419],[136672680,136672680],[136673546,136673546],[136684632,136684632],[136686114,136686114],[136690425,136690425],[136690783,136690783],[136692893,136692893],[136694905,136694905],[136695694,136695694],[136695705,136695705],[136696608,136696608],[136697372,136697372],[136697468,136697468],[136700024,136700024],[136701539,136701539],[136702118,136702118],[136707480,136707480],[136710554,136710554],[136714178,136714178],[136719173,136719173],[136725459,136725459],[136734569,136734569],[136744678,136744678],[136748779,136748779],[136751488,136751488],[136754183,136754183],[136763242,136763242],[136765074,136765074],[136773638,136773638],[136500475,136500475],[136501509,136501509],[136504101,136504101],[136509868,136509868],[136520043,136520043],[136527120,136527120],[136530379,136530379],[136530443,136530443],[136539330,136539330],[136539670,136539670],[136540083,136540083],[136542559,136542559],[136542560,136542560],[136506375,136506375],[136506927,136506927],[136510012,136510012],[136538939,136538939],[136535876,136535876],[136544651,136544651],[136545844,136545844],[136552526,136552526],[136553022,136553022],[136554797,136554797],[136554890,136554890],[136588031,136588031],[136589278,136589278],[136589379,136589379],[136589741,136589741],[136590746,136590746],[136593553,136593553],[136593678,136593678],[136652491,136652491],[136652524,136652524],[136661150,136661150],[136669264,136669264],[136726567,136726567],[136732772,136732772],[136652953,136652953],[136655582,136655582],[136674028,136674028],[136684940,136684940],[136761175,136761175],[136653925,136653925],[136654833,136654833],[136656534,136656534],[136656536,136656536],[136657252,136657252],[136667301,136667301],[136667487,136667487],[136672775,136672775],[136680534,136680534],[136686393,136686393],[136688749,136688749],[136692553,136692553],[136697371,136697371],[136708787,136708787],[136710372,136710372],[136711064,136711064],[136715324,136715324],[136723504,136723504],[136737460,136737460],[136743143,136743143],[136746224,136746224],[136751842,136751842],[136759379,136759379],[136761853,136761853]],\"ys\":[[150,191],[150,191],[150,191],[150,191],[150,191],[150,191],[150,191],[150,191],[150,191],[50,67],[50,67],[50,67],[50,67],[50,67],[450,494],[450,494],[450,494],[450,494],[450,494],[450,494],[450,494],[450,494],[450,494],[450,494],[450,494],[450,494],[450,494],[450,494],[450,494],[450,494],[450,494],[450,494],[450,494],[450,494],[450,494],[450,494],[450,494],[450,494],[450,494],[450,494],[450,494],[450,494],[450,494],[450,494],[450,494],[450,494],[150,190],[150,190],[150,190],[150,190],[150,190],[150,190],[150,190],[150,190],[150,190],[150,190],[150,190],[150,190],[150,190],[150,190],[150,190],[150,190],[150,190],[150,190],[150,190],[150,190],[150,190],[150,190],[150,190],[150,190],[150,190],[150,190],[150,190],[150,190],[150,190],[150,190],[150,190],[150,190],[150,190],[150,190],[150,190],[150,190],[150,190],[150,190],[150,190],[150,190],[150,190],[150,190],[150,190],[150,190],[150,190],[150,190],[150,190],[150,190],[150,190],[150,190],[150,190],[150,190],[150,190],[150,190],[150,190],[150,190],[150,190],[150,190],[150,190],[150,190],[150,190],[150,190],[150,190],[150,190],[150,190],[150,190],[150,190],[150,190],[150,190],[150,190],[150,190],[150,190],[150,190],[150,190],[150,190],[150,190],[150,190],[150,190],[150,190],[150,190],[150,190],[250,293],[250,293],[250,293],[250,293],[250,293],[250,293],[250,293],[250,293],[250,293],[250,293],[250,293],[250,293],[250,293],[450,494],[450,494],[450,494],[450,494],[350,394],[350,394],[350,394],[350,394],[350,394],[350,394],[350,394],[550,596],[550,596],[550,596],[550,596],[550,596],[550,596],[550,596],[250,292],[250,292],[250,292],[250,292],[250,292],[250,292],[350,394],[350,394],[350,394],[350,394],[350,394],[550,595],[550,595],[550,595],[550,595],[550,595],[550,595],[550,595],[550,595],[550,595],[550,595],[550,595],[550,595],[550,595],[550,595],[550,595],[550,595],[550,595],[550,595],[550,595],[550,595],[550,595],[550,595],[550,595],[550,595]]}},\"id\":\"4143af04-9abc-499f-9a5a-fa54cb4cdd47\",\"type\":\"ColumnDataSource\"},{\"attributes\":{\"plot\":{\"id\":\"f5df6546-3ba6-4da6-b4a9-c4357671c907\",\"subtype\":\"Figure\",\"type\":\"Plot\"}},\"id\":\"cf581571-2579-418a-a012-b25173825480\",\"type\":\"WheelZoomTool\"},{\"attributes\":{\"formatter\":{\"id\":\"ac60b929-5156-4146-9c97-9ed696853d6a\",\"type\":\"BasicTickFormatter\"},\"plot\":{\"id\":\"f5df6546-3ba6-4da6-b4a9-c4357671c907\",\"subtype\":\"Figure\",\"type\":\"Plot\"},\"ticker\":{\"id\":\"e24c4296-42df-4c57-b713-fb91496e43b9\",\"type\":\"BasicTicker\"}},\"id\":\"0ba386d6-af65-48d0-aa34-ad742eca370e\",\"type\":\"LinearAxis\"},{\"attributes\":{},\"id\":\"e24c4296-42df-4c57-b713-fb91496e43b9\",\"type\":\"BasicTicker\"},{\"attributes\":{\"data_source\":{\"id\":\"4143af04-9abc-499f-9a5a-fa54cb4cdd47\",\"type\":\"ColumnDataSource\"},\"glyph\":{\"id\":\"702f3825-1e9d-4a37-9b8b-9f9775d0e19e\",\"type\":\"MultiLine\"},\"hover_glyph\":null,\"nonselection_glyph\":{\"id\":\"eac2d655-931d-42d2-8afb-9e9b71258398\",\"type\":\"MultiLine\"},\"selection_glyph\":null},\"id\":\"6194b4a3-5771-45dc-a098-ccd6fa6a7cbc\",\"type\":\"GlyphRenderer\"},{\"attributes\":{\"data_source\":{\"id\":\"b351aab3-475f-466a-888a-691a7e989ba4\",\"type\":\"ColumnDataSource\"},\"glyph\":{\"id\":\"dbeef1cb-190d-4305-a814-0cfd518ed927\",\"type\":\"Quad\"},\"hover_glyph\":null,\"nonselection_glyph\":{\"id\":\"6158fd52-5d15-4260-9238-157a503f10b2\",\"type\":\"Quad\"},\"selection_glyph\":null},\"id\":\"ec7cc7e5-fe8c-44f2-96e8-9cadfcda0748\",\"type\":\"GlyphRenderer\"},{\"attributes\":{\"bottom_units\":\"screen\",\"fill_alpha\":{\"value\":0.5},\"fill_color\":{\"value\":\"lightgrey\"},\"left_units\":\"screen\",\"level\":\"overlay\",\"line_alpha\":{\"value\":1.0},\"line_color\":{\"value\":\"black\"},\"line_dash\":[4,4],\"line_width\":{\"value\":2},\"plot\":null,\"render_mode\":\"css\",\"right_units\":\"screen\",\"top_units\":\"screen\"},\"id\":\"c30515b0-c53e-40d5-ba4e-577597ac74f1\",\"type\":\"BoxAnnotation\"},{\"attributes\":{\"line_alpha\":{\"value\":0.1},\"line_color\":{\"value\":\"#1f77b4\"},\"xs\":{\"field\":\"xs\"},\"ys\":{\"field\":\"ys\"}},\"id\":\"eac2d655-931d-42d2-8afb-9e9b71258398\",\"type\":\"MultiLine\"},{\"attributes\":{\"level\":\"glyph\",\"plot\":{\"id\":\"f5df6546-3ba6-4da6-b4a9-c4357671c907\",\"subtype\":\"Figure\",\"type\":\"Plot\"},\"source\":{\"id\":\"ead10c93-ae0b-4462-b644-b2bc9ba7180d\",\"type\":\"ColumnDataSource\"},\"text\":{\"field\":\"vals\"},\"text_align\":\"center\",\"text_baseline\":\"middle\",\"text_font_size\":{\"value\":\"8pt\"},\"x\":{\"field\":\"x\"},\"y\":{\"field\":\"y\"}},\"id\":\"d5ac94db-b703-4f2b-8a57-cd11739b69cc\",\"type\":\"LabelSet\"},{\"attributes\":{\"plot\":{\"id\":\"f5df6546-3ba6-4da6-b4a9-c4357671c907\",\"subtype\":\"Figure\",\"type\":\"Plot\"},\"ticker\":{\"id\":\"e24c4296-42df-4c57-b713-fb91496e43b9\",\"type\":\"BasicTicker\"}},\"id\":\"b2bd7eaf-57d9-4c61-9590-65e0720e3022\",\"type\":\"Grid\"},{\"attributes\":{\"callback\":null,\"end\":136786630,\"start\":135757320},\"id\":\"caabaa0b-eb1e-4db9-8131-8dc24f027544\",\"type\":\"Range1d\"},{\"attributes\":{\"below\":[{\"id\":\"0ba386d6-af65-48d0-aa34-ad742eca370e\",\"type\":\"LinearAxis\"}],\"left\":[{\"id\":\"4a60512b-46f4-446c-8712-6e1c52789a88\",\"type\":\"LinearAxis\"}],\"plot_height\":700,\"plot_width\":900,\"renderers\":[{\"id\":\"0ba386d6-af65-48d0-aa34-ad742eca370e\",\"type\":\"LinearAxis\"},{\"id\":\"b2bd7eaf-57d9-4c61-9590-65e0720e3022\",\"type\":\"Grid\"},{\"id\":\"4a60512b-46f4-446c-8712-6e1c52789a88\",\"type\":\"LinearAxis\"},{\"id\":\"a1e0b359-0d50-4a0c-b1ee-8923dff435e0\",\"type\":\"Grid\"},{\"id\":\"c30515b0-c53e-40d5-ba4e-577597ac74f1\",\"type\":\"BoxAnnotation\"},{\"id\":\"ec7cc7e5-fe8c-44f2-96e8-9cadfcda0748\",\"type\":\"GlyphRenderer\"},{\"id\":\"6194b4a3-5771-45dc-a098-ccd6fa6a7cbc\",\"type\":\"GlyphRenderer\"},{\"id\":\"40b1e153-d8ea-4fcf-b378-be0c328e60be\",\"type\":\"LabelSet\"},{\"id\":\"761483e5-01f3-4fd6-8306-f751dacf459b\",\"type\":\"GlyphRenderer\"},{\"id\":\"d5ac94db-b703-4f2b-8a57-cd11739b69cc\",\"type\":\"LabelSet\"}],\"title\":{\"id\":\"7b8cb28a-27ea-4009-bb27-da6b502cb0e8\",\"type\":\"Title\"},\"tool_events\":{\"id\":\"bac7362d-cf84-4426-8b65-5efd6040e49f\",\"type\":\"ToolEvents\"},\"toolbar\":{\"id\":\"f5527ffc-ca5d-4e9c-b25a-94bac5cebb7c\",\"type\":\"Toolbar\"},\"toolbar_location\":null,\"x_range\":{\"id\":\"caabaa0b-eb1e-4db9-8131-8dc24f027544\",\"type\":\"Range1d\"},\"y_range\":{\"id\":\"95c1b9ae-9209-4b2a-b28f-febcc82c674c\",\"type\":\"Range1d\"}},\"id\":\"f5df6546-3ba6-4da6-b4a9-c4357671c907\",\"subtype\":\"Figure\",\"type\":\"Plot\"},{\"attributes\":{\"level\":\"glyph\",\"plot\":{\"id\":\"f5df6546-3ba6-4da6-b4a9-c4357671c907\",\"subtype\":\"Figure\",\"type\":\"Plot\"},\"source\":{\"id\":\"d231e928-e1d7-4c93-883a-2ad41d3ae278\",\"type\":\"ColumnDataSource\"},\"text\":{\"field\":\"vals\"},\"text_font_size\":{\"value\":\"9pt\"},\"text_font_style\":\"bold\",\"x\":{\"field\":\"x\"},\"y\":{\"field\":\"y\"}},\"id\":\"40b1e153-d8ea-4fcf-b378-be0c328e60be\",\"type\":\"LabelSet\"},{\"attributes\":{\"data_source\":{\"id\":\"696388f1-f5be-4a3f-8317-bbe2811a198a\",\"type\":\"ColumnDataSource\"},\"glyph\":{\"id\":\"e8519ae0-ca90-42b9-bd4b-89407d2819d2\",\"type\":\"Quad\"},\"hover_glyph\":null,\"nonselection_glyph\":{\"id\":\"860c60df-c7d7-4d1b-b9bd-afb0bb91a151\",\"type\":\"Quad\"},\"selection_glyph\":null},\"id\":\"761483e5-01f3-4fd6-8306-f751dacf459b\",\"type\":\"GlyphRenderer\"}],\"root_ids\":[\"f5df6546-3ba6-4da6-b4a9-c4357671c907\"]},\"title\":\"Bokeh Application\",\"version\":\"0.12.0\"}};\n",
       "            var render_items = [{\"docid\":\"5517dddd-5e8d-41fa-ba87-ab51ba2b3ede\",\"elementid\":\"8f7ec840-e6a6-4006-99f3-23961cff2083\",\"modelid\":\"f5df6546-3ba6-4da6-b4a9-c4357671c907\",\"notebook_comms_target\":\"6f37d2f9-a73a-4eb6-b8f8-0aada86df7de\"}];\n",
       "            \n",
       "            Bokeh.embed.embed_items(docs_json, render_items);\n",
       "        });\n",
       "      },\n",
       "      function(Bokeh) {\n",
       "      }\n",
       "    ];\n",
       "  \n",
       "    function run_inline_js() {\n",
       "      for (var i = 0; i < inline_js.length; i++) {\n",
       "        inline_js[i](window.Bokeh);\n",
       "      }\n",
       "    }\n",
       "  \n",
       "    if (window._bokeh_is_loading === 0) {\n",
       "      console.log(\"Bokeh: BokehJS loaded, going straight to plotting\");\n",
       "      run_inline_js();\n",
       "    } else {\n",
       "      load_libs(js_urls, function() {\n",
       "        console.log(\"Bokeh: BokehJS plotting callback run at\", now());\n",
       "        run_inline_js();\n",
       "      });\n",
       "    }\n",
       "  }(this));\n",
       "</script>"
      ]
     },
     "metadata": {},
     "output_type": "display_data"
    },
    {
     "data": {
      "text/html": [
       "<p><code>&lt;Bokeh Notebook handle for <strong>In[17]</strong>&gt;</code></p>"
      ],
      "text/plain": [
       "<bokeh.io._CommsHandle at 0x7fc7bc971d90>"
      ]
     },
     "execution_count": 17,
     "metadata": {},
     "output_type": "execute_result"
    }
   ],
   "source": [
    "plt_obj = dm.superset_yes_no([di_5_60], [dm.di_13_1696], min_match=0.001)\n",
    "plt = plt_obj.do_plot()\n",
    "am = plt_obj.plot_context.yes_allele_mask\n",
    "show(plt)"
   ]
  },
  {
   "cell_type": "code",
   "execution_count": 18,
   "metadata": {
    "collapsed": false
   },
   "outputs": [
    {
     "data": {
      "text/html": [
       "<table>\n",
       "<thead><tr><th style=\"text-align:center\">index</th><th style=\"text-align:center\">first</th><th style=\"text-align:center\">length</th><th style=\"text-align:center\">snps</th><th style=\"text-align:center\" colspan=2>alleles</th><th style=\"text-align:center\" colspan=2>matches</th><th style=\"text-align:center\" colspan=2>afr</th><th style=\"text-align:center\" colspan=2>afx</th><th style=\"text-align:center\" colspan=2>amr</th><th style=\"text-align:center\" colspan=2>eas</th><th style=\"text-align:center\" colspan=2>eur</th><th style=\"text-align:center\" colspan=2>sas</th><th style=\"text-align:center\" colspan=2>sax</th></tr></thead>\n",
       "<tr class=\"even\"><td style=\"text-align: right;\">354033</td><td style=\"text-align: right;\">136,588,031</td><td style=\"text-align: right;\">5,647</td><td style=\"text-align: right;\">7</td><td style=\"text-align: right;\">1760</td><td style=\"text-align: right;\">0.00</td><td style=\"text-align: right;\">1</td><td style=\"text-align: right;\">1.00</td><td style=\"text-align: right;\">0</td><td style=\"text-align: right;\">0.00</td><td style=\"text-align: right;\">0</td><td style=\"text-align: right;\">0.00</td><td style=\"text-align: right;\">0</td><td style=\"text-align: right;\">0.00</td><td style=\"text-align: right;\">0</td><td style=\"text-align: right;\">0.00</td><td style=\"text-align: right;\">0</td><td style=\"text-align: right;\">0.00</td><td style=\"text-align: right;\">0</td><td style=\"text-align: right;\">0.00</td><td style=\"text-align: right;\">1</td><td style=\"text-align: right;\">8.41</td></tr>\n",
       "<tr><td style=\"text-align: right;\">354130</td><td style=\"text-align: right;\">136,653,925</td><td style=\"text-align: right;\">107,928</td><td style=\"text-align: right;\">24</td><td style=\"text-align: right;\">1504</td><td style=\"text-align: right;\">0.00</td><td style=\"text-align: right;\">1</td><td style=\"text-align: right;\">1.00</td><td style=\"text-align: right;\">0</td><td style=\"text-align: right;\">0.00</td><td style=\"text-align: right;\">0</td><td style=\"text-align: right;\">0.00</td><td style=\"text-align: right;\">0</td><td style=\"text-align: right;\">0.00</td><td style=\"text-align: right;\">0</td><td style=\"text-align: right;\">0.00</td><td style=\"text-align: right;\">0</td><td style=\"text-align: right;\">0.00</td><td style=\"text-align: right;\">0</td><td style=\"text-align: right;\">0.00</td><td style=\"text-align: right;\">1</td><td style=\"text-align: right;\">8.41</td></tr>\n",
       "<tr class=\"even\"><td style=\"text-align: right;\">353925</td><td style=\"text-align: right;\">136,506,375</td><td style=\"text-align: right;\">32,564</td><td style=\"text-align: right;\">4</td><td style=\"text-align: right;\">1442</td><td style=\"text-align: right;\">0.00</td><td style=\"text-align: right;\">1</td><td style=\"text-align: right;\">1.00</td><td style=\"text-align: right;\">0</td><td style=\"text-align: right;\">0.00</td><td style=\"text-align: right;\">0</td><td style=\"text-align: right;\">0.00</td><td style=\"text-align: right;\">0</td><td style=\"text-align: right;\">0.00</td><td style=\"text-align: right;\">0</td><td style=\"text-align: right;\">0.00</td><td style=\"text-align: right;\">0</td><td style=\"text-align: right;\">0.00</td><td style=\"text-align: right;\">0</td><td style=\"text-align: right;\">0.00</td><td style=\"text-align: right;\">1</td><td style=\"text-align: right;\">8.41</td></tr>\n",
       "<tr><td style=\"text-align: right;\">353791</td><td style=\"text-align: right;\">136,393,658</td><td style=\"text-align: right;\">92,684</td><td style=\"text-align: right;\">32</td><td style=\"text-align: right;\">1361</td><td style=\"text-align: right;\">0.00</td><td style=\"text-align: right;\">1</td><td style=\"text-align: right;\">1.00</td><td style=\"text-align: right;\">0</td><td style=\"text-align: right;\">0.00</td><td style=\"text-align: right;\">0</td><td style=\"text-align: right;\">0.00</td><td style=\"text-align: right;\">0</td><td style=\"text-align: right;\">0.00</td><td style=\"text-align: right;\">0</td><td style=\"text-align: right;\">0.00</td><td style=\"text-align: right;\">0</td><td style=\"text-align: right;\">0.00</td><td style=\"text-align: right;\">0</td><td style=\"text-align: right;\">0.00</td><td style=\"text-align: right;\">1</td><td style=\"text-align: right;\">8.41</td></tr>\n",
       "<tr class=\"even\"><td style=\"text-align: right;\">353958</td><td style=\"text-align: right;\">136,535,876</td><td style=\"text-align: right;\">19,014</td><td style=\"text-align: right;\">7</td><td style=\"text-align: right;\">1303</td><td style=\"text-align: right;\">0.00</td><td style=\"text-align: right;\">1</td><td style=\"text-align: right;\">1.00</td><td style=\"text-align: right;\">0</td><td style=\"text-align: right;\">0.00</td><td style=\"text-align: right;\">0</td><td style=\"text-align: right;\">0.00</td><td style=\"text-align: right;\">0</td><td style=\"text-align: right;\">0.00</td><td style=\"text-align: right;\">0</td><td style=\"text-align: right;\">0.00</td><td style=\"text-align: right;\">0</td><td style=\"text-align: right;\">0.00</td><td style=\"text-align: right;\">0</td><td style=\"text-align: right;\">0.00</td><td style=\"text-align: right;\">1</td><td style=\"text-align: right;\">8.41</td></tr>\n",
       "<tr><td style=\"text-align: right;\">354129</td><td style=\"text-align: right;\">136,652,953</td><td style=\"text-align: right;\">108,222</td><td style=\"text-align: right;\">5</td><td style=\"text-align: right;\">1296</td><td style=\"text-align: right;\">0.00</td><td style=\"text-align: right;\">1</td><td style=\"text-align: right;\">1.00</td><td style=\"text-align: right;\">0</td><td style=\"text-align: right;\">0.00</td><td style=\"text-align: right;\">0</td><td style=\"text-align: right;\">0.00</td><td style=\"text-align: right;\">0</td><td style=\"text-align: right;\">0.00</td><td style=\"text-align: right;\">0</td><td style=\"text-align: right;\">0.00</td><td style=\"text-align: right;\">0</td><td style=\"text-align: right;\">0.00</td><td style=\"text-align: right;\">0</td><td style=\"text-align: right;\">0.00</td><td style=\"text-align: right;\">1</td><td style=\"text-align: right;\">8.41</td></tr>\n",
       "<tr class=\"even\"><td style=\"text-align: right;\">353919</td><td style=\"text-align: right;\">136,500,475</td><td style=\"text-align: right;\">42,085</td><td style=\"text-align: right;\">13</td><td style=\"text-align: right;\">1227</td><td style=\"text-align: right;\">0.00</td><td style=\"text-align: right;\">1</td><td style=\"text-align: right;\">1.00</td><td style=\"text-align: right;\">0</td><td style=\"text-align: right;\">0.00</td><td style=\"text-align: right;\">0</td><td style=\"text-align: right;\">0.00</td><td style=\"text-align: right;\">0</td><td style=\"text-align: right;\">0.00</td><td style=\"text-align: right;\">0</td><td style=\"text-align: right;\">0.00</td><td style=\"text-align: right;\">0</td><td style=\"text-align: right;\">0.00</td><td style=\"text-align: right;\">0</td><td style=\"text-align: right;\">0.00</td><td style=\"text-align: right;\">1</td><td style=\"text-align: right;\">8.41</td></tr>\n",
       "<tr><td style=\"text-align: right;\">354127</td><td style=\"text-align: right;\">136,652,491</td><td style=\"text-align: right;\">80,281</td><td style=\"text-align: right;\">6</td><td style=\"text-align: right;\">1114</td><td style=\"text-align: right;\">0.00</td><td style=\"text-align: right;\">1</td><td style=\"text-align: right;\">1.00</td><td style=\"text-align: right;\">0</td><td style=\"text-align: right;\">0.00</td><td style=\"text-align: right;\">0</td><td style=\"text-align: right;\">0.00</td><td style=\"text-align: right;\">0</td><td style=\"text-align: right;\">0.00</td><td style=\"text-align: right;\">0</td><td style=\"text-align: right;\">0.00</td><td style=\"text-align: right;\">0</td><td style=\"text-align: right;\">0.00</td><td style=\"text-align: right;\">0</td><td style=\"text-align: right;\">0.00</td><td style=\"text-align: right;\">1</td><td style=\"text-align: right;\">8.41</td></tr>\n",
       "<tr class=\"even\"><td style=\"text-align: right;\">353372</td><td style=\"text-align: right;\">135,829,592</td><td style=\"text-align: right;\">591,316</td><td style=\"text-align: right;\">9</td><td style=\"text-align: right;\">944</td><td style=\"text-align: right;\">0.00</td><td style=\"text-align: right;\">1</td><td style=\"text-align: right;\">1.00</td><td style=\"text-align: right;\">0</td><td style=\"text-align: right;\">0.00</td><td style=\"text-align: right;\">0</td><td style=\"text-align: right;\">0.00</td><td style=\"text-align: right;\">0</td><td style=\"text-align: right;\">0.00</td><td style=\"text-align: right;\">0</td><td style=\"text-align: right;\">0.00</td><td style=\"text-align: right;\">0</td><td style=\"text-align: right;\">0.00</td><td style=\"text-align: right;\">0</td><td style=\"text-align: right;\">0.00</td><td style=\"text-align: right;\">1</td><td style=\"text-align: right;\">8.41</td></tr>\n",
       "<tr><td style=\"text-align: right;\">353902</td><td style=\"text-align: right;\">136,494,985</td><td style=\"text-align: right;\">278,653</td><td style=\"text-align: right;\">81</td><td style=\"text-align: right;\">857</td><td style=\"text-align: right;\">0.00</td><td style=\"text-align: right;\">1</td><td style=\"text-align: right;\">1.00</td><td style=\"text-align: right;\">0</td><td style=\"text-align: right;\">0.00</td><td style=\"text-align: right;\">0</td><td style=\"text-align: right;\">0.00</td><td style=\"text-align: right;\">0</td><td style=\"text-align: right;\">0.00</td><td style=\"text-align: right;\">0</td><td style=\"text-align: right;\">0.00</td><td style=\"text-align: right;\">0</td><td style=\"text-align: right;\">0.00</td><td style=\"text-align: right;\">0</td><td style=\"text-align: right;\">0.00</td><td style=\"text-align: right;\">1</td><td style=\"text-align: right;\">8.41</td></tr>\n",
       "<tr class=\"even\"><td style=\"text-align: right;\">353564</td><td style=\"text-align: right;\">136,033,790</td><td style=\"text-align: right;\">291,947</td><td style=\"text-align: right;\">5</td><td style=\"text-align: right;\">60</td><td style=\"text-align: right;\">0.02</td><td style=\"text-align: right;\">1</td><td style=\"text-align: right;\">1.00</td><td style=\"text-align: right;\">0</td><td style=\"text-align: right;\">0.00</td><td style=\"text-align: right;\">0</td><td style=\"text-align: right;\">0.00</td><td style=\"text-align: right;\">0</td><td style=\"text-align: right;\">0.00</td><td style=\"text-align: right;\">0</td><td style=\"text-align: right;\">0.00</td><td style=\"text-align: right;\">0</td><td style=\"text-align: right;\">0.00</td><td style=\"text-align: right;\">0</td><td style=\"text-align: right;\">0.00</td><td style=\"text-align: right;\">1</td><td style=\"text-align: right;\">8.41</td></tr>\n",
       "</table>"
      ],
      "text/plain": [
       "<IPython.core.display.HTML object>"
      ]
     },
     "execution_count": 18,
     "metadata": {},
     "output_type": "execute_result"
    }
   ],
   "source": [
    "HTML(plt_obj.get_html())"
   ]
  },
  {
   "cell_type": "code",
   "execution_count": 19,
   "metadata": {
    "collapsed": false
   },
   "outputs": [
    {
     "data": {
      "text/plain": [
       "array([0, 0, 0, 0, 0, 0, 1, 1, 1, 1, 1, 1, 1])"
      ]
     },
     "execution_count": 19,
     "metadata": {},
     "output_type": "execute_result"
    }
   ],
   "source": [
    "sa_13_1696.alleles_per_snp(am)"
   ]
  }
 ],
 "metadata": {
  "anaconda-cloud": {},
  "kernelspec": {
   "display_name": "Python [Root]",
   "language": "python",
   "name": "Python [Root]"
  },
  "language_info": {
   "codemirror_mode": {
    "name": "ipython",
    "version": 2
   },
   "file_extension": ".py",
   "mimetype": "text/x-python",
   "name": "python",
   "nbconvert_exporter": "python",
   "pygments_lexer": "ipython2",
   "version": "2.7.12"
  }
 },
 "nbformat": 4,
 "nbformat_minor": 0
}
