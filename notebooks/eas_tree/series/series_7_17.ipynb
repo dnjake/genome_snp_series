{
 "cells": [
  {
   "cell_type": "code",
   "execution_count": 1,
   "metadata": {
    "collapsed": false
   },
   "outputs": [
    {
     "data": {
      "text/html": []
     },
     "metadata": {},
     "output_type": "display_data"
    },
    {
     "data": {
      "application/javascript": [
       "\n",
       "(function(global) {\n",
       "  function now() {\n",
       "    return new Date();\n",
       "  }\n",
       "\n",
       "  if (typeof (window._bokeh_onload_callbacks) === \"undefined\") {\n",
       "    window._bokeh_onload_callbacks = [];\n",
       "  }\n",
       "\n",
       "  function run_callbacks() {\n",
       "    window._bokeh_onload_callbacks.forEach(function(callback) { callback() });\n",
       "    delete window._bokeh_onload_callbacks\n",
       "    console.info(\"Bokeh: all callbacks have finished\");\n",
       "  }\n",
       "\n",
       "  function load_libs(js_urls, callback) {\n",
       "    window._bokeh_onload_callbacks.push(callback);\n",
       "    if (window._bokeh_is_loading > 0) {\n",
       "      console.log(\"Bokeh: BokehJS is being loaded, scheduling callback at\", now());\n",
       "      return null;\n",
       "    }\n",
       "    if (js_urls == null || js_urls.length === 0) {\n",
       "      run_callbacks();\n",
       "      return null;\n",
       "    }\n",
       "    console.log(\"Bokeh: BokehJS not loaded, scheduling load and callback at\", now());\n",
       "    window._bokeh_is_loading = js_urls.length;\n",
       "    for (var i = 0; i < js_urls.length; i++) {\n",
       "      var url = js_urls[i];\n",
       "      var s = document.createElement('script');\n",
       "      s.src = url;\n",
       "      s.async = false;\n",
       "      s.onreadystatechange = s.onload = function() {\n",
       "        window._bokeh_is_loading--;\n",
       "        if (window._bokeh_is_loading === 0) {\n",
       "          console.log(\"Bokeh: all BokehJS libraries loaded\");\n",
       "          run_callbacks()\n",
       "        }\n",
       "      };\n",
       "      s.onerror = function() {\n",
       "        console.warn(\"failed to load library \" + url);\n",
       "      };\n",
       "      console.log(\"Bokeh: injecting script tag for BokehJS library: \", url);\n",
       "      document.getElementsByTagName(\"head\")[0].appendChild(s);\n",
       "    }\n",
       "  };\n",
       "\n",
       "  var js_urls = ['https://cdn.pydata.org/bokeh/release/bokeh-0.12.0.min.js', 'https://cdn.pydata.org/bokeh/release/bokeh-widgets-0.12.0.min.js', 'https://cdn.pydata.org/bokeh/release/bokeh-compiler-0.12.0.min.js'];\n",
       "\n",
       "  var inline_js = [\n",
       "    function(Bokeh) {\n",
       "      Bokeh.set_log_level(\"info\");\n",
       "    },\n",
       "    \n",
       "    function(Bokeh) {\n",
       "      Bokeh.$(\"#26fa4888-8ba9-44ee-b9d3-642be76057b0\").text(\"BokehJS successfully loaded\");\n",
       "    },\n",
       "    function(Bokeh) {\n",
       "      console.log(\"Bokeh: injecting CSS: https://cdn.pydata.org/bokeh/release/bokeh-0.12.0.min.css\");\n",
       "      Bokeh.embed.inject_css(\"https://cdn.pydata.org/bokeh/release/bokeh-0.12.0.min.css\");\n",
       "      console.log(\"Bokeh: injecting CSS: https://cdn.pydata.org/bokeh/release/bokeh-widgets-0.12.0.min.css\");\n",
       "      Bokeh.embed.inject_css(\"https://cdn.pydata.org/bokeh/release/bokeh-widgets-0.12.0.min.css\");\n",
       "    }\n",
       "  ];\n",
       "\n",
       "  function run_inline_js() {\n",
       "    for (var i = 0; i < inline_js.length; i++) {\n",
       "      inline_js[i](window.Bokeh);\n",
       "    }\n",
       "  }\n",
       "\n",
       "  if (window._bokeh_is_loading === 0) {\n",
       "    console.log(\"Bokeh: BokehJS loaded, going straight to plotting\");\n",
       "    run_inline_js();\n",
       "  } else {\n",
       "    load_libs(js_urls, function() {\n",
       "      console.log(\"Bokeh: BokehJS plotting callback run at\", now());\n",
       "      run_inline_js();\n",
       "    });\n",
       "  }\n",
       "}(this));"
      ]
     },
     "metadata": {},
     "output_type": "display_data"
    }
   ],
   "source": [
    "import numpy as np\n",
    "from IPython.display import HTML\n",
    "from bokeh.plotting import output_notebook, show\n",
    "import genomes_dnj.lct_interval.series_plots as dm\n",
    "import genomes_dnj.lct_interval.anal_series as an\n",
    "import genomes_dnj.lct_interval.series_masks as sm\n",
    "import genomes_dnj.lct_interval_snp_anal.lct_interval_snp_anal as snp_anal\n",
    "from genomes_dnj.lct_interval.bokeh_match_count_plot import snp_match_count_plot_cls as smcp\n",
    "output_notebook(hide_banner=True)\n",
    "di_7_17 = 353321\n",
    "sa_7_17 = snp_anal.series_anal_cls(di_7_17, sm.series_data)"
   ]
  },
  {
   "cell_type": "markdown",
   "metadata": {},
   "source": [
    "<h3>Series 7_17</h3>\n",
    "<div style=\"width:700px\">\n",
    "<p>\n",
    "This notebook documents the series 7_17 and its 7 SNPs. The 1000 genomes data sample\n",
    "SNP counts for 6_54 are 4990 samples 0 SNPs, 1 sample 1 SNP, 1 sample 6 SNPs, and\n",
    "17 samples 7 SNPs.  The 7 SNP series extends over more than 762,000 DNA bases.  \n",
    "<p>\n",
    "The series 7_17 is a primarily European series in the basic EAS tree without series\n",
    "5_684. It is a child of the series 6_54.  16 of the 17 samples express all of the root\n",
    "series of the EAS tree.  1 has exprienced a recombination in the part of the region\n",
    "covered by the series 7_1868.\n",
    "</div>"
   ]
  },
  {
   "cell_type": "code",
   "execution_count": 2,
   "metadata": {
    "collapsed": false
   },
   "outputs": [
    {
     "data": {
      "text/html": [
       "<p>\n",
       "<b>7_17 series</b>\n",
       "</p><p>\n",
       "<table>\n",
       "<thead><tr><th style=\"text-align:center\">index</th><th style=\"text-align:center\">first</th><th style=\"text-align:center\">length</th><th style=\"text-align:center\">snps</th><th style=\"text-align:center\">alleles</th><th style=\"text-align:center\" colspan=2>afr</th><th style=\"text-align:center\" colspan=2>afx</th><th style=\"text-align:center\" colspan=2>amr</th><th style=\"text-align:center\" colspan=2>eas</th><th style=\"text-align:center\" colspan=2>eur</th><th style=\"text-align:center\" colspan=2>sas</th><th style=\"text-align:center\" colspan=2>sax</th></tr></thead>\n",
       "<tr class=\"even\"><td style=\"text-align: right;\">353321</td><td style=\"text-align: right;\">135,789,949</td><td style=\"text-align: right;\">762,462</td><td style=\"text-align: right;\">7</td><td style=\"text-align: right;\">17</td><td style=\"text-align: right;\">0</td><td style=\"text-align: right;\">0.00</td><td style=\"text-align: right;\">0</td><td style=\"text-align: right;\">0.00</td><td style=\"text-align: right;\">2</td><td style=\"text-align: right;\">0.85</td><td style=\"text-align: right;\">0</td><td style=\"text-align: right;\">0.00</td><td style=\"text-align: right;\">14</td><td style=\"text-align: right;\">4.10</td><td style=\"text-align: right;\">1</td><td style=\"text-align: right;\">0.81</td><td style=\"text-align: right;\">0</td><td style=\"text-align: right;\">0.00</td></tr>\n",
       "</table>\n",
       "</p>\n",
       "<p>\n",
       "<b>7_17 series snps</b>\n",
       "</p><p>\n",
       "<table>\n",
       "<thead><tr><th style=\"text-align:center\">index</th><th style=\"text-align:center\">pos</th><th style=\"text-align:center\">id</th><th style=\"text-align:center\">niv</th><th style=\"text-align:center\">alleles</th><th style=\"text-align:center\" colspan=2>afr</th><th style=\"text-align:center\" colspan=2>afx</th><th style=\"text-align:center\" colspan=2>amr</th><th style=\"text-align:center\" colspan=2>eas</th><th style=\"text-align:center\" colspan=2>eur</th><th style=\"text-align:center\" colspan=2>sas</th><th style=\"text-align:center\" colspan=2>sax</th></tr></thead>\n",
       "<tr class=\"even\"><td style=\"text-align: right;\">875199</td><td style=\"text-align: right;\">135,789,949</td><td>.</td><td>0</td><td style=\"text-align: right;\">17</td><td style=\"text-align: right;\">0</td><td style=\"text-align: right;\">0.00</td><td style=\"text-align: right;\">0</td><td style=\"text-align: right;\">0.00</td><td style=\"text-align: right;\">2</td><td style=\"text-align: right;\">0.85</td><td style=\"text-align: right;\">0</td><td style=\"text-align: right;\">0.00</td><td style=\"text-align: right;\">14</td><td style=\"text-align: right;\">4.10</td><td style=\"text-align: right;\">1</td><td style=\"text-align: right;\">0.81</td><td style=\"text-align: right;\">0</td><td style=\"text-align: right;\">0.00</td></tr>\n",
       "<tr><td style=\"text-align: right;\">875242</td><td style=\"text-align: right;\">135,795,872</td><td>rs149851668</td><td>0</td><td style=\"text-align: right;\">17</td><td style=\"text-align: right;\">0</td><td style=\"text-align: right;\">0.00</td><td style=\"text-align: right;\">0</td><td style=\"text-align: right;\">0.00</td><td style=\"text-align: right;\">2</td><td style=\"text-align: right;\">0.85</td><td style=\"text-align: right;\">0</td><td style=\"text-align: right;\">0.00</td><td style=\"text-align: right;\">14</td><td style=\"text-align: right;\">4.10</td><td style=\"text-align: right;\">1</td><td style=\"text-align: right;\">0.81</td><td style=\"text-align: right;\">0</td><td style=\"text-align: right;\">0.00</td></tr>\n",
       "<tr class=\"even\"><td style=\"text-align: right;\">875365</td><td style=\"text-align: right;\">135,820,743</td><td>rs151232106</td><td>0</td><td style=\"text-align: right;\">16</td><td style=\"text-align: right;\">0</td><td style=\"text-align: right;\">0.00</td><td style=\"text-align: right;\">0</td><td style=\"text-align: right;\">0.00</td><td style=\"text-align: right;\">2</td><td style=\"text-align: right;\">0.90</td><td style=\"text-align: right;\">0</td><td style=\"text-align: right;\">0.00</td><td style=\"text-align: right;\">13</td><td style=\"text-align: right;\">4.04</td><td style=\"text-align: right;\">1</td><td style=\"text-align: right;\">0.86</td><td style=\"text-align: right;\">0</td><td style=\"text-align: right;\">0.00</td></tr>\n",
       "<tr><td style=\"text-align: right;\">876771</td><td style=\"text-align: right;\">136,103,917</td><td>.</td><td>0</td><td style=\"text-align: right;\">17</td><td style=\"text-align: right;\">0</td><td style=\"text-align: right;\">0.00</td><td style=\"text-align: right;\">0</td><td style=\"text-align: right;\">0.00</td><td style=\"text-align: right;\">2</td><td style=\"text-align: right;\">0.85</td><td style=\"text-align: right;\">0</td><td style=\"text-align: right;\">0.00</td><td style=\"text-align: right;\">14</td><td style=\"text-align: right;\">4.10</td><td style=\"text-align: right;\">1</td><td style=\"text-align: right;\">0.81</td><td style=\"text-align: right;\">0</td><td style=\"text-align: right;\">0.00</td></tr>\n",
       "<tr class=\"even\"><td style=\"text-align: right;\">878404</td><td style=\"text-align: right;\">136,439,748</td><td>rs142828424</td><td>0</td><td style=\"text-align: right;\">17</td><td style=\"text-align: right;\">0</td><td style=\"text-align: right;\">0.00</td><td style=\"text-align: right;\">0</td><td style=\"text-align: right;\">0.00</td><td style=\"text-align: right;\">2</td><td style=\"text-align: right;\">0.85</td><td style=\"text-align: right;\">0</td><td style=\"text-align: right;\">0.00</td><td style=\"text-align: right;\">14</td><td style=\"text-align: right;\">4.10</td><td style=\"text-align: right;\">1</td><td style=\"text-align: right;\">0.81</td><td style=\"text-align: right;\">0</td><td style=\"text-align: right;\">0.00</td></tr>\n",
       "<tr><td style=\"text-align: right;\">878478</td><td style=\"text-align: right;\">136,453,534</td><td>rs145313884</td><td>0</td><td style=\"text-align: right;\">17</td><td style=\"text-align: right;\">0</td><td style=\"text-align: right;\">0.00</td><td style=\"text-align: right;\">0</td><td style=\"text-align: right;\">0.00</td><td style=\"text-align: right;\">2</td><td style=\"text-align: right;\">0.85</td><td style=\"text-align: right;\">0</td><td style=\"text-align: right;\">0.00</td><td style=\"text-align: right;\">14</td><td style=\"text-align: right;\">4.10</td><td style=\"text-align: right;\">1</td><td style=\"text-align: right;\">0.81</td><td style=\"text-align: right;\">0</td><td style=\"text-align: right;\">0.00</td></tr>\n",
       "<tr class=\"even\"><td style=\"text-align: right;\">878966</td><td style=\"text-align: right;\">136,552,411</td><td>rs145045263</td><td>0</td><td style=\"text-align: right;\">18</td><td style=\"text-align: right;\">0</td><td style=\"text-align: right;\">0.00</td><td style=\"text-align: right;\">0</td><td style=\"text-align: right;\">0.00</td><td style=\"text-align: right;\">2</td><td style=\"text-align: right;\">0.80</td><td style=\"text-align: right;\">0</td><td style=\"text-align: right;\">0.00</td><td style=\"text-align: right;\">15</td><td style=\"text-align: right;\">4.15</td><td style=\"text-align: right;\">1</td><td style=\"text-align: right;\">0.76</td><td style=\"text-align: right;\">0</td><td style=\"text-align: right;\">0.00</td></tr>\n",
       "</table>"
      ],
      "text/plain": [
       "<IPython.core.display.HTML object>"
      ]
     },
     "execution_count": 2,
     "metadata": {},
     "output_type": "execute_result"
    }
   ],
   "source": [
    "HTML(dm.series_html(di_7_17))"
   ]
  },
  {
   "cell_type": "code",
   "execution_count": 3,
   "metadata": {
    "collapsed": false
   },
   "outputs": [
    {
     "data": {
      "text/html": [
       "<table>\n",
       "<thead><tr><th style=\"text-align:center\">index</th><th style=\"text-align:center\">first</th><th style=\"text-align:center\">length</th><th style=\"text-align:center\">snps</th><th style=\"text-align:center\" colspan=2>alleles</th><th style=\"text-align:center\" colspan=2>matches</th><th style=\"text-align:center\" colspan=2>afr</th><th style=\"text-align:center\" colspan=2>afx</th><th style=\"text-align:center\" colspan=2>amr</th><th style=\"text-align:center\" colspan=2>eas</th><th style=\"text-align:center\" colspan=2>eur</th><th style=\"text-align:center\" colspan=2>sas</th><th style=\"text-align:center\" colspan=2>sax</th></tr></thead>\n",
       "<tr class=\"even\"><td style=\"text-align: right;\">354170</td><td style=\"text-align: right;\">136,682,274</td><td style=\"text-align: right;\">93,624</td><td style=\"text-align: right;\">7</td><td style=\"text-align: right;\">1868</td><td style=\"text-align: right;\">0.00</td><td style=\"text-align: right;\">1</td><td style=\"text-align: right;\">0.06</td><td style=\"text-align: right;\">0</td><td style=\"text-align: right;\">0.00</td><td style=\"text-align: right;\">0</td><td style=\"text-align: right;\">0.00</td><td style=\"text-align: right;\">0</td><td style=\"text-align: right;\">0.00</td><td style=\"text-align: right;\">0</td><td style=\"text-align: right;\">0.00</td><td style=\"text-align: right;\">1</td><td style=\"text-align: right;\">4.98</td><td style=\"text-align: right;\">0</td><td style=\"text-align: right;\">0.00</td><td style=\"text-align: right;\">0</td><td style=\"text-align: right;\">0.00</td></tr>\n",
       "<tr><td style=\"text-align: right;\">354033</td><td style=\"text-align: right;\">136,588,031</td><td style=\"text-align: right;\">5,647</td><td style=\"text-align: right;\">7</td><td style=\"text-align: right;\">1760</td><td style=\"text-align: right;\">0.01</td><td style=\"text-align: right;\">16</td><td style=\"text-align: right;\">0.94</td><td style=\"text-align: right;\">0</td><td style=\"text-align: right;\">0.00</td><td style=\"text-align: right;\">0</td><td style=\"text-align: right;\">0.00</td><td style=\"text-align: right;\">2</td><td style=\"text-align: right;\">0.90</td><td style=\"text-align: right;\">0</td><td style=\"text-align: right;\">0.00</td><td style=\"text-align: right;\">13</td><td style=\"text-align: right;\">4.04</td><td style=\"text-align: right;\">1</td><td style=\"text-align: right;\">0.86</td><td style=\"text-align: right;\">0</td><td style=\"text-align: right;\">0.00</td></tr>\n",
       "<tr class=\"even\"><td style=\"text-align: right;\">353240</td><td style=\"text-align: right;\">135,757,320</td><td style=\"text-align: right;\">20,184</td><td style=\"text-align: right;\">13</td><td style=\"text-align: right;\">1696</td><td style=\"text-align: right;\">0.01</td><td style=\"text-align: right;\">17</td><td style=\"text-align: right;\">1.00</td><td style=\"text-align: right;\">0</td><td style=\"text-align: right;\">0.00</td><td style=\"text-align: right;\">0</td><td style=\"text-align: right;\">0.00</td><td style=\"text-align: right;\">2</td><td style=\"text-align: right;\">0.85</td><td style=\"text-align: right;\">0</td><td style=\"text-align: right;\">0.00</td><td style=\"text-align: right;\">14</td><td style=\"text-align: right;\">4.10</td><td style=\"text-align: right;\">1</td><td style=\"text-align: right;\">0.81</td><td style=\"text-align: right;\">0</td><td style=\"text-align: right;\">0.00</td></tr>\n",
       "<tr><td style=\"text-align: right;\">354130</td><td style=\"text-align: right;\">136,653,925</td><td style=\"text-align: right;\">107,928</td><td style=\"text-align: right;\">24</td><td style=\"text-align: right;\">1504</td><td style=\"text-align: right;\">0.01</td><td style=\"text-align: right;\">16</td><td style=\"text-align: right;\">0.94</td><td style=\"text-align: right;\">0</td><td style=\"text-align: right;\">0.00</td><td style=\"text-align: right;\">0</td><td style=\"text-align: right;\">0.00</td><td style=\"text-align: right;\">2</td><td style=\"text-align: right;\">0.90</td><td style=\"text-align: right;\">0</td><td style=\"text-align: right;\">0.00</td><td style=\"text-align: right;\">13</td><td style=\"text-align: right;\">4.04</td><td style=\"text-align: right;\">1</td><td style=\"text-align: right;\">0.86</td><td style=\"text-align: right;\">0</td><td style=\"text-align: right;\">0.00</td></tr>\n",
       "<tr class=\"even\"><td style=\"text-align: right;\">353925</td><td style=\"text-align: right;\">136,506,375</td><td style=\"text-align: right;\">32,564</td><td style=\"text-align: right;\">4</td><td style=\"text-align: right;\">1442</td><td style=\"text-align: right;\">0.01</td><td style=\"text-align: right;\">17</td><td style=\"text-align: right;\">1.00</td><td style=\"text-align: right;\">0</td><td style=\"text-align: right;\">0.00</td><td style=\"text-align: right;\">0</td><td style=\"text-align: right;\">0.00</td><td style=\"text-align: right;\">2</td><td style=\"text-align: right;\">0.85</td><td style=\"text-align: right;\">0</td><td style=\"text-align: right;\">0.00</td><td style=\"text-align: right;\">14</td><td style=\"text-align: right;\">4.10</td><td style=\"text-align: right;\">1</td><td style=\"text-align: right;\">0.81</td><td style=\"text-align: right;\">0</td><td style=\"text-align: right;\">0.00</td></tr>\n",
       "<tr><td style=\"text-align: right;\">353791</td><td style=\"text-align: right;\">136,393,658</td><td style=\"text-align: right;\">92,684</td><td style=\"text-align: right;\">32</td><td style=\"text-align: right;\">1361</td><td style=\"text-align: right;\">0.01</td><td style=\"text-align: right;\">17</td><td style=\"text-align: right;\">1.00</td><td style=\"text-align: right;\">0</td><td style=\"text-align: right;\">0.00</td><td style=\"text-align: right;\">0</td><td style=\"text-align: right;\">0.00</td><td style=\"text-align: right;\">2</td><td style=\"text-align: right;\">0.85</td><td style=\"text-align: right;\">0</td><td style=\"text-align: right;\">0.00</td><td style=\"text-align: right;\">14</td><td style=\"text-align: right;\">4.10</td><td style=\"text-align: right;\">1</td><td style=\"text-align: right;\">0.81</td><td style=\"text-align: right;\">0</td><td style=\"text-align: right;\">0.00</td></tr>\n",
       "<tr class=\"even\"><td style=\"text-align: right;\">353958</td><td style=\"text-align: right;\">136,535,876</td><td style=\"text-align: right;\">19,014</td><td style=\"text-align: right;\">7</td><td style=\"text-align: right;\">1303</td><td style=\"text-align: right;\">0.01</td><td style=\"text-align: right;\">17</td><td style=\"text-align: right;\">1.00</td><td style=\"text-align: right;\">0</td><td style=\"text-align: right;\">0.00</td><td style=\"text-align: right;\">0</td><td style=\"text-align: right;\">0.00</td><td style=\"text-align: right;\">2</td><td style=\"text-align: right;\">0.85</td><td style=\"text-align: right;\">0</td><td style=\"text-align: right;\">0.00</td><td style=\"text-align: right;\">14</td><td style=\"text-align: right;\">4.10</td><td style=\"text-align: right;\">1</td><td style=\"text-align: right;\">0.81</td><td style=\"text-align: right;\">0</td><td style=\"text-align: right;\">0.00</td></tr>\n",
       "<tr><td style=\"text-align: right;\">354129</td><td style=\"text-align: right;\">136,652,953</td><td style=\"text-align: right;\">108,222</td><td style=\"text-align: right;\">5</td><td style=\"text-align: right;\">1296</td><td style=\"text-align: right;\">0.01</td><td style=\"text-align: right;\">16</td><td style=\"text-align: right;\">0.94</td><td style=\"text-align: right;\">0</td><td style=\"text-align: right;\">0.00</td><td style=\"text-align: right;\">0</td><td style=\"text-align: right;\">0.00</td><td style=\"text-align: right;\">2</td><td style=\"text-align: right;\">0.90</td><td style=\"text-align: right;\">0</td><td style=\"text-align: right;\">0.00</td><td style=\"text-align: right;\">13</td><td style=\"text-align: right;\">4.04</td><td style=\"text-align: right;\">1</td><td style=\"text-align: right;\">0.86</td><td style=\"text-align: right;\">0</td><td style=\"text-align: right;\">0.00</td></tr>\n",
       "<tr class=\"even\"><td style=\"text-align: right;\">353919</td><td style=\"text-align: right;\">136,500,475</td><td style=\"text-align: right;\">42,085</td><td style=\"text-align: right;\">13</td><td style=\"text-align: right;\">1227</td><td style=\"text-align: right;\">0.01</td><td style=\"text-align: right;\">17</td><td style=\"text-align: right;\">1.00</td><td style=\"text-align: right;\">0</td><td style=\"text-align: right;\">0.00</td><td style=\"text-align: right;\">0</td><td style=\"text-align: right;\">0.00</td><td style=\"text-align: right;\">2</td><td style=\"text-align: right;\">0.85</td><td style=\"text-align: right;\">0</td><td style=\"text-align: right;\">0.00</td><td style=\"text-align: right;\">14</td><td style=\"text-align: right;\">4.10</td><td style=\"text-align: right;\">1</td><td style=\"text-align: right;\">0.81</td><td style=\"text-align: right;\">0</td><td style=\"text-align: right;\">0.00</td></tr>\n",
       "<tr><td style=\"text-align: right;\">354127</td><td style=\"text-align: right;\">136,652,491</td><td style=\"text-align: right;\">80,281</td><td style=\"text-align: right;\">6</td><td style=\"text-align: right;\">1114</td><td style=\"text-align: right;\">0.01</td><td style=\"text-align: right;\">16</td><td style=\"text-align: right;\">0.94</td><td style=\"text-align: right;\">0</td><td style=\"text-align: right;\">0.00</td><td style=\"text-align: right;\">0</td><td style=\"text-align: right;\">0.00</td><td style=\"text-align: right;\">2</td><td style=\"text-align: right;\">0.90</td><td style=\"text-align: right;\">0</td><td style=\"text-align: right;\">0.00</td><td style=\"text-align: right;\">13</td><td style=\"text-align: right;\">4.04</td><td style=\"text-align: right;\">1</td><td style=\"text-align: right;\">0.86</td><td style=\"text-align: right;\">0</td><td style=\"text-align: right;\">0.00</td></tr>\n",
       "<tr class=\"even\"><td style=\"text-align: right;\">353372</td><td style=\"text-align: right;\">135,829,592</td><td style=\"text-align: right;\">591,316</td><td style=\"text-align: right;\">9</td><td style=\"text-align: right;\">944</td><td style=\"text-align: right;\">0.02</td><td style=\"text-align: right;\">17</td><td style=\"text-align: right;\">1.00</td><td style=\"text-align: right;\">0</td><td style=\"text-align: right;\">0.00</td><td style=\"text-align: right;\">0</td><td style=\"text-align: right;\">0.00</td><td style=\"text-align: right;\">2</td><td style=\"text-align: right;\">0.85</td><td style=\"text-align: right;\">0</td><td style=\"text-align: right;\">0.00</td><td style=\"text-align: right;\">14</td><td style=\"text-align: right;\">4.10</td><td style=\"text-align: right;\">1</td><td style=\"text-align: right;\">0.81</td><td style=\"text-align: right;\">0</td><td style=\"text-align: right;\">0.00</td></tr>\n",
       "<tr><td style=\"text-align: right;\">353902</td><td style=\"text-align: right;\">136,494,985</td><td style=\"text-align: right;\">278,653</td><td style=\"text-align: right;\">81</td><td style=\"text-align: right;\">857</td><td style=\"text-align: right;\">0.02</td><td style=\"text-align: right;\">16</td><td style=\"text-align: right;\">0.94</td><td style=\"text-align: right;\">0</td><td style=\"text-align: right;\">0.00</td><td style=\"text-align: right;\">0</td><td style=\"text-align: right;\">0.00</td><td style=\"text-align: right;\">2</td><td style=\"text-align: right;\">0.90</td><td style=\"text-align: right;\">0</td><td style=\"text-align: right;\">0.00</td><td style=\"text-align: right;\">13</td><td style=\"text-align: right;\">4.04</td><td style=\"text-align: right;\">1</td><td style=\"text-align: right;\">0.86</td><td style=\"text-align: right;\">0</td><td style=\"text-align: right;\">0.00</td></tr>\n",
       "<tr class=\"even\"><td style=\"text-align: right;\">353430</td><td style=\"text-align: right;\">135,879,258</td><td style=\"text-align: right;\">516,511</td><td style=\"text-align: right;\">6</td><td style=\"text-align: right;\">54</td><td style=\"text-align: right;\">0.31</td><td style=\"text-align: right;\">17</td><td style=\"text-align: right;\">1.00</td><td style=\"text-align: right;\">0</td><td style=\"text-align: right;\">0.00</td><td style=\"text-align: right;\">0</td><td style=\"text-align: right;\">0.00</td><td style=\"text-align: right;\">2</td><td style=\"text-align: right;\">0.85</td><td style=\"text-align: right;\">0</td><td style=\"text-align: right;\">0.00</td><td style=\"text-align: right;\">14</td><td style=\"text-align: right;\">4.10</td><td style=\"text-align: right;\">1</td><td style=\"text-align: right;\">0.81</td><td style=\"text-align: right;\">0</td><td style=\"text-align: right;\">0.00</td></tr>\n",
       "<tr><td style=\"text-align: right;\">353321</td><td style=\"text-align: right;\">135,789,949</td><td style=\"text-align: right;\">762,462</td><td style=\"text-align: right;\">7</td><td style=\"text-align: right;\">17</td><td style=\"text-align: right;\">1.00</td><td style=\"text-align: right;\">17</td><td style=\"text-align: right;\">1.00</td><td style=\"text-align: right;\">0</td><td style=\"text-align: right;\">0.00</td><td style=\"text-align: right;\">0</td><td style=\"text-align: right;\">0.00</td><td style=\"text-align: right;\">2</td><td style=\"text-align: right;\">0.85</td><td style=\"text-align: right;\">0</td><td style=\"text-align: right;\">0.00</td><td style=\"text-align: right;\">14</td><td style=\"text-align: right;\">4.10</td><td style=\"text-align: right;\">1</td><td style=\"text-align: right;\">0.81</td><td style=\"text-align: right;\">0</td><td style=\"text-align: right;\">0.00</td></tr>\n",
       "</table>"
      ],
      "text/plain": [
       "<IPython.core.display.HTML object>"
      ]
     },
     "execution_count": 3,
     "metadata": {},
     "output_type": "execute_result"
    }
   ],
   "source": [
    "plt_obj = dm.superset_yes_no([di_7_17], min_match=0.001)\n",
    "plt_obj.do_plot()\n",
    "HTML(plt_obj.get_html())"
   ]
  },
  {
   "cell_type": "code",
   "execution_count": 4,
   "metadata": {
    "collapsed": false
   },
   "outputs": [
    {
     "data": {
      "text/plain": [
       "array([(0, 4990), (1, 1), (6, 1), (7, 16)], \n",
       "      dtype=[('count', '<u2'), ('snps', '<u2')])"
      ]
     },
     "execution_count": 4,
     "metadata": {},
     "output_type": "execute_result"
    }
   ],
   "source": [
    "count_data = sa_7_17.unique_snps_per_allele()\n",
    "count_data"
   ]
  },
  {
   "cell_type": "code",
   "execution_count": 5,
   "metadata": {
    "collapsed": false
   },
   "outputs": [
    {
     "data": {
      "text/html": [
       "\n",
       "\n",
       "    <div class=\"bk-root\">\n",
       "        <div class=\"plotdiv\" id=\"0368c96d-5815-435f-bbff-0460bc0e6ae1\"></div>\n",
       "    </div>\n",
       "<script type=\"text/javascript\">\n",
       "  \n",
       "  (function(global) {\n",
       "    function now() {\n",
       "      return new Date();\n",
       "    }\n",
       "  \n",
       "    if (typeof (window._bokeh_onload_callbacks) === \"undefined\") {\n",
       "      window._bokeh_onload_callbacks = [];\n",
       "    }\n",
       "  \n",
       "    function run_callbacks() {\n",
       "      window._bokeh_onload_callbacks.forEach(function(callback) { callback() });\n",
       "      delete window._bokeh_onload_callbacks\n",
       "      console.info(\"Bokeh: all callbacks have finished\");\n",
       "    }\n",
       "  \n",
       "    function load_libs(js_urls, callback) {\n",
       "      window._bokeh_onload_callbacks.push(callback);\n",
       "      if (window._bokeh_is_loading > 0) {\n",
       "        console.log(\"Bokeh: BokehJS is being loaded, scheduling callback at\", now());\n",
       "        return null;\n",
       "      }\n",
       "      if (js_urls == null || js_urls.length === 0) {\n",
       "        run_callbacks();\n",
       "        return null;\n",
       "      }\n",
       "      console.log(\"Bokeh: BokehJS not loaded, scheduling load and callback at\", now());\n",
       "      window._bokeh_is_loading = js_urls.length;\n",
       "      for (var i = 0; i < js_urls.length; i++) {\n",
       "        var url = js_urls[i];\n",
       "        var s = document.createElement('script');\n",
       "        s.src = url;\n",
       "        s.async = false;\n",
       "        s.onreadystatechange = s.onload = function() {\n",
       "          window._bokeh_is_loading--;\n",
       "          if (window._bokeh_is_loading === 0) {\n",
       "            console.log(\"Bokeh: all BokehJS libraries loaded\");\n",
       "            run_callbacks()\n",
       "          }\n",
       "        };\n",
       "        s.onerror = function() {\n",
       "          console.warn(\"failed to load library \" + url);\n",
       "        };\n",
       "        console.log(\"Bokeh: injecting script tag for BokehJS library: \", url);\n",
       "        document.getElementsByTagName(\"head\")[0].appendChild(s);\n",
       "      }\n",
       "    };var element = document.getElementById(\"0368c96d-5815-435f-bbff-0460bc0e6ae1\");\n",
       "    if (element == null) {\n",
       "      console.log(\"Bokeh: ERROR: autoload.js configured with elementid '0368c96d-5815-435f-bbff-0460bc0e6ae1' but no matching script tag was found. \")\n",
       "      return false;\n",
       "    }\n",
       "  \n",
       "    var js_urls = [];\n",
       "  \n",
       "    var inline_js = [\n",
       "      function(Bokeh) {\n",
       "        Bokeh.$(function() {\n",
       "            var docs_json = {\"bf76c559-411e-4c34-a5d4-44f7628a445a\":{\"roots\":{\"references\":[{\"attributes\":{\"plot\":{\"id\":\"abcc65c3-cca4-4cc2-b34c-53163ae43565\",\"subtype\":\"Figure\",\"type\":\"Plot\"}},\"id\":\"dc7e13de-9697-459c-8e65-df4dcaac5d7c\",\"type\":\"HelpTool\"},{\"attributes\":{\"data_source\":{\"id\":\"76b88055-07e7-4866-829b-a376dd462f41\",\"type\":\"ColumnDataSource\"},\"glyph\":{\"id\":\"07847952-1428-4ad6-9050-843a11b106d9\",\"type\":\"Quad\"},\"hover_glyph\":null,\"nonselection_glyph\":{\"id\":\"24fc3ebe-defa-4a9a-b5ec-5bfcfe66aeb7\",\"type\":\"Quad\"},\"selection_glyph\":null},\"id\":\"3d785890-c60a-4f54-94e3-9f763951080a\",\"type\":\"GlyphRenderer\"},{\"attributes\":{\"below\":[{\"id\":\"5579f51a-6a3a-42df-b726-f6a241077164\",\"type\":\"LinearAxis\"}],\"left\":[{\"id\":\"c4ee9edf-85c4-443b-8e74-daf5a3c03434\",\"type\":\"LinearAxis\"}],\"plot_height\":800,\"plot_width\":900,\"renderers\":[{\"id\":\"5579f51a-6a3a-42df-b726-f6a241077164\",\"type\":\"LinearAxis\"},{\"id\":\"09a92ba8-52ee-46c7-b810-989cdd529149\",\"type\":\"Grid\"},{\"id\":\"c4ee9edf-85c4-443b-8e74-daf5a3c03434\",\"type\":\"LinearAxis\"},{\"id\":\"e5586128-01b2-4c9d-b2e1-4c1e7b866c55\",\"type\":\"Grid\"},{\"id\":\"2242ff75-d984-448c-8366-fc2b712cc0ec\",\"type\":\"BoxAnnotation\"},{\"id\":\"3d785890-c60a-4f54-94e3-9f763951080a\",\"type\":\"GlyphRenderer\"},{\"id\":\"b510434f-9ab4-4b30-af4b-9f42dbbdec5d\",\"type\":\"GlyphRenderer\"},{\"id\":\"1d26684a-094f-49b9-8452-afc4cc0f2441\",\"type\":\"LabelSet\"},{\"id\":\"1a07964a-ef1d-4597-bf42-8b7aecda3d6d\",\"type\":\"GlyphRenderer\"},{\"id\":\"dfd6377b-c86e-4846-b057-8d6a97eee735\",\"type\":\"LabelSet\"}],\"title\":{\"id\":\"6b4e4d8d-2f17-455e-823a-a2b12a462f7f\",\"type\":\"Title\"},\"tool_events\":{\"id\":\"272bd80b-2d8c-458e-a090-f3431df8e459\",\"type\":\"ToolEvents\"},\"toolbar\":{\"id\":\"7bd6406a-235a-498d-bdfa-c3343c08cb97\",\"type\":\"Toolbar\"},\"toolbar_location\":null,\"x_range\":{\"id\":\"c20ec508-2122-4e46-a15c-b40beca9188b\",\"type\":\"Range1d\"},\"y_range\":{\"id\":\"8c18458b-00bd-4191-bf85-9d5079e15d24\",\"type\":\"Range1d\"}},\"id\":\"abcc65c3-cca4-4cc2-b34c-53163ae43565\",\"subtype\":\"Figure\",\"type\":\"Plot\"},{\"attributes\":{\"plot\":{\"id\":\"abcc65c3-cca4-4cc2-b34c-53163ae43565\",\"subtype\":\"Figure\",\"type\":\"Plot\"}},\"id\":\"7f6a1b3c-bcca-4ba0-84cd-96429da1fedb\",\"type\":\"WheelZoomTool\"},{\"attributes\":{\"formatter\":{\"id\":\"37b6968b-cdcc-4140-8b50-6609b1280fba\",\"type\":\"BasicTickFormatter\"},\"plot\":{\"id\":\"abcc65c3-cca4-4cc2-b34c-53163ae43565\",\"subtype\":\"Figure\",\"type\":\"Plot\"},\"ticker\":{\"id\":\"007addbb-7d18-4426-b6ff-ff4730c36dc5\",\"type\":\"BasicTicker\"}},\"id\":\"5579f51a-6a3a-42df-b726-f6a241077164\",\"type\":\"LinearAxis\"},{\"attributes\":{\"active_drag\":\"auto\",\"active_scroll\":\"auto\",\"active_tap\":\"auto\",\"tools\":[{\"id\":\"a1c75832-088b-4b76-9cab-3d5098e2e1e7\",\"type\":\"PanTool\"},{\"id\":\"7f6a1b3c-bcca-4ba0-84cd-96429da1fedb\",\"type\":\"WheelZoomTool\"},{\"id\":\"843dc934-89b2-425c-836f-d03877f2f443\",\"type\":\"BoxZoomTool\"},{\"id\":\"25981e0b-067c-402a-9909-f7d99f7f277a\",\"type\":\"SaveTool\"},{\"id\":\"11530834-9a3a-411a-847b-1724fa2e095f\",\"type\":\"ResetTool\"},{\"id\":\"dc7e13de-9697-459c-8e65-df4dcaac5d7c\",\"type\":\"HelpTool\"}]},\"id\":\"7bd6406a-235a-498d-bdfa-c3343c08cb97\",\"type\":\"Toolbar\"},{\"attributes\":{\"plot\":{\"id\":\"abcc65c3-cca4-4cc2-b34c-53163ae43565\",\"subtype\":\"Figure\",\"type\":\"Plot\"}},\"id\":\"11530834-9a3a-411a-847b-1724fa2e095f\",\"type\":\"ResetTool\"},{\"attributes\":{\"plot\":{\"id\":\"abcc65c3-cca4-4cc2-b34c-53163ae43565\",\"subtype\":\"Figure\",\"type\":\"Plot\"}},\"id\":\"a1c75832-088b-4b76-9cab-3d5098e2e1e7\",\"type\":\"PanTool\"},{\"attributes\":{\"callback\":null,\"column_names\":[\"right\",\"bottom\",\"top\",\"left\",\"fill_color\"],\"data\":{\"bottom\":[650,50,250,150,550,250,350,550,450,650,350,450,650],\"fill_color\":[\"#808080\",\"#00ff00\",\"#c4c461\",\"#00ff00\",\"#c4c461\",\"#808080\",\"#808080\",\"#808080\",\"#808080\",\"#c46161\",\"#808080\",\"#808080\",\"#808080\"],\"left\":[135757320,135789949,135829592,135879258,136393658,136494985,136500475,136506375,136535876,136588031,136652491,136652953,136653925],\"right\":[135777504,136552411,136420908,136395769,136486342,136773638,136542560,136538939,136554890,136593678,136732772,136761175,136761853],\"top\":[696,56,291,166,594,290,393,594,494,696,392,494,695]}},\"id\":\"76b88055-07e7-4866-829b-a376dd462f41\",\"type\":\"ColumnDataSource\"},{\"attributes\":{\"level\":\"glyph\",\"plot\":{\"id\":\"abcc65c3-cca4-4cc2-b34c-53163ae43565\",\"subtype\":\"Figure\",\"type\":\"Plot\"},\"source\":{\"id\":\"f4c6b8d6-93f4-41b0-b353-1d39af197cea\",\"type\":\"ColumnDataSource\"},\"text\":{\"field\":\"vals\"},\"text_font_size\":{\"value\":\"9pt\"},\"text_font_style\":\"bold\",\"x\":{\"field\":\"x\"},\"y\":{\"field\":\"y\"}},\"id\":\"1d26684a-094f-49b9-8452-afc4cc0f2441\",\"type\":\"LabelSet\"},{\"attributes\":{\"bottom\":{\"field\":\"bottom\"},\"fill_alpha\":{\"value\":0.1},\"fill_color\":{\"value\":\"#1f77b4\"},\"left\":{\"field\":\"left\"},\"line_alpha\":{\"value\":0.1},\"line_color\":{\"value\":\"#1f77b4\"},\"right\":{\"field\":\"right\"},\"top\":{\"field\":\"top\"}},\"id\":\"24fc3ebe-defa-4a9a-b5ec-5bfcfe66aeb7\",\"type\":\"Quad\"},{\"attributes\":{\"dimension\":1,\"plot\":{\"id\":\"abcc65c3-cca4-4cc2-b34c-53163ae43565\",\"subtype\":\"Figure\",\"type\":\"Plot\"},\"ticker\":{\"id\":\"7bad608e-9f7f-41e6-a7f6-f6390c9d7c01\",\"type\":\"BasicTicker\"}},\"id\":\"e5586128-01b2-4c9d-b2e1-4c1e7b866c55\",\"type\":\"Grid\"},{\"attributes\":{},\"id\":\"007addbb-7d18-4426-b6ff-ff4730c36dc5\",\"type\":\"BasicTicker\"},{\"attributes\":{\"overlay\":{\"id\":\"2242ff75-d984-448c-8366-fc2b712cc0ec\",\"type\":\"BoxAnnotation\"},\"plot\":{\"id\":\"abcc65c3-cca4-4cc2-b34c-53163ae43565\",\"subtype\":\"Figure\",\"type\":\"Plot\"}},\"id\":\"843dc934-89b2-425c-836f-d03877f2f443\",\"type\":\"BoxZoomTool\"},{\"attributes\":{\"line_alpha\":{\"value\":0.1},\"line_color\":{\"value\":\"#1f77b4\"},\"xs\":{\"field\":\"xs\"},\"ys\":{\"field\":\"ys\"}},\"id\":\"64f1f15b-1e33-4cbc-947f-4cb7f6755349\",\"type\":\"MultiLine\"},{\"attributes\":{\"callback\":null,\"column_names\":[\"y\",\"x\",\"vals\"],\"data\":{\"vals\":[\"RAB3GAP1\",\"ZRANB3\",\"R3HDM1\",\"UBXN4\",\"LCT\",\"MCM6\",\"DARS\"],\"x\":[135869057.0,136122878.0,136385961.0,136520911.0,136570082.5,136615621.5,136703738.0],\"y\":[760.0,760.0,760.0,760.0,760.0,760.0,760.0]}},\"id\":\"4311dbfd-997a-4a43-bc6b-0516e5b886a3\",\"type\":\"ColumnDataSource\"},{\"attributes\":{\"line_color\":{\"field\":\"line_color\"},\"xs\":{\"field\":\"xs\"},\"ys\":{\"field\":\"ys\"}},\"id\":\"55692d8b-5923-4ea6-82f9-c60f7e7fce4b\",\"type\":\"MultiLine\"},{\"attributes\":{\"plot\":{\"id\":\"abcc65c3-cca4-4cc2-b34c-53163ae43565\",\"subtype\":\"Figure\",\"type\":\"Plot\"}},\"id\":\"25981e0b-067c-402a-9909-f7d99f7f277a\",\"type\":\"SaveTool\"},{\"attributes\":{\"callback\":null,\"end\":136786630,\"start\":135757320},\"id\":\"c20ec508-2122-4e46-a15c-b40beca9188b\",\"type\":\"Range1d\"},{\"attributes\":{},\"id\":\"7bad608e-9f7f-41e6-a7f6-f6390c9d7c01\",\"type\":\"BasicTicker\"},{\"attributes\":{\"callback\":null,\"column_names\":[\"right\",\"bottom\",\"top\",\"left\"],\"data\":{\"bottom\":[745,745,745,745,745,745,745],\"left\":[135809835,135957574,136289083,136499189,136545415,136597196,136664254],\"right\":[135928279,136288182,136482839,136542633,136594750,136634047,136743222],\"top\":[775,775,775,775,775,775,775]}},\"id\":\"f1f27b79-aae8-4de7-b25b-193696ef50b2\",\"type\":\"ColumnDataSource\"},{\"attributes\":{\"level\":\"glyph\",\"plot\":{\"id\":\"abcc65c3-cca4-4cc2-b34c-53163ae43565\",\"subtype\":\"Figure\",\"type\":\"Plot\"},\"source\":{\"id\":\"4311dbfd-997a-4a43-bc6b-0516e5b886a3\",\"type\":\"ColumnDataSource\"},\"text\":{\"field\":\"vals\"},\"text_align\":\"center\",\"text_baseline\":\"middle\",\"text_font_size\":{\"value\":\"8pt\"},\"x\":{\"field\":\"x\"},\"y\":{\"field\":\"y\"}},\"id\":\"dfd6377b-c86e-4846-b057-8d6a97eee735\",\"type\":\"LabelSet\"},{\"attributes\":{\"bottom\":{\"field\":\"bottom\"},\"fill_color\":{\"value\":\"white\"},\"left\":{\"field\":\"left\"},\"right\":{\"field\":\"right\"},\"top\":{\"field\":\"top\"}},\"id\":\"6e6a8ed0-da0b-49eb-a58c-499789116e05\",\"type\":\"Quad\"},{\"attributes\":{},\"id\":\"272bd80b-2d8c-458e-a090-f3431df8e459\",\"type\":\"ToolEvents\"},{\"attributes\":{\"plot\":{\"id\":\"abcc65c3-cca4-4cc2-b34c-53163ae43565\",\"subtype\":\"Figure\",\"type\":\"Plot\"},\"ticker\":{\"id\":\"007addbb-7d18-4426-b6ff-ff4730c36dc5\",\"type\":\"BasicTicker\"}},\"id\":\"09a92ba8-52ee-46c7-b810-989cdd529149\",\"type\":\"Grid\"},{\"attributes\":{\"plot\":null,\"text\":null},\"id\":\"6b4e4d8d-2f17-455e-823a-a2b12a462f7f\",\"type\":\"Title\"},{\"attributes\":{},\"id\":\"0e058925-0e0f-4814-bc92-adaee5af3b37\",\"type\":\"BasicTickFormatter\"},{\"attributes\":{\"bottom_units\":\"screen\",\"fill_alpha\":{\"value\":0.5},\"fill_color\":{\"value\":\"lightgrey\"},\"left_units\":\"screen\",\"level\":\"overlay\",\"line_alpha\":{\"value\":1.0},\"line_color\":{\"value\":\"black\"},\"line_dash\":[4,4],\"line_width\":{\"value\":2},\"plot\":null,\"render_mode\":\"css\",\"right_units\":\"screen\",\"top_units\":\"screen\"},\"id\":\"2242ff75-d984-448c-8366-fc2b712cc0ec\",\"type\":\"BoxAnnotation\"},{\"attributes\":{\"callback\":null,\"end\":800},\"id\":\"8c18458b-00bd-4191-bf85-9d5079e15d24\",\"type\":\"Range1d\"},{\"attributes\":{\"data_source\":{\"id\":\"35fb6a9e-56d1-4f41-8230-447953a54c5c\",\"type\":\"ColumnDataSource\"},\"glyph\":{\"id\":\"55692d8b-5923-4ea6-82f9-c60f7e7fce4b\",\"type\":\"MultiLine\"},\"hover_glyph\":null,\"nonselection_glyph\":{\"id\":\"64f1f15b-1e33-4cbc-947f-4cb7f6755349\",\"type\":\"MultiLine\"},\"selection_glyph\":null},\"id\":\"b510434f-9ab4-4b30-af4b-9f42dbbdec5d\",\"type\":\"GlyphRenderer\"},{\"attributes\":{\"callback\":null,\"column_names\":[\"y\",\"x\",\"vals\"],\"data\":{\"vals\":[\"13_1696\",\"7_17\",\"9_944\",\"6_54\",\"32_1361\",\"81_857\",\"13_1227\",\"4_1442\",\"7_1303\",\"7_1760\",\"6_1114\",\"5_1296\",\"24_1504\"],\"x\":[135757320,135789949,135829592,135879258,136393658,136494985,136500475,136506375,136535876,136588031,136652491,136652953,136653925],\"y\":[701.0,61.0,296.0,171.0,599.0,295.0,398.0,599.0,499.0,701.0,397.0,499.0,700.0]}},\"id\":\"f4c6b8d6-93f4-41b0-b353-1d39af197cea\",\"type\":\"ColumnDataSource\"},{\"attributes\":{\"bottom\":{\"field\":\"bottom\"},\"fill_color\":{\"field\":\"fill_color\"},\"left\":{\"field\":\"left\"},\"line_color\":{\"value\":null},\"right\":{\"field\":\"right\"},\"top\":{\"field\":\"top\"}},\"id\":\"07847952-1428-4ad6-9050-843a11b106d9\",\"type\":\"Quad\"},{\"attributes\":{\"callback\":null,\"column_names\":[\"xs\",\"ys\",\"line_color\"],\"data\":{\"line_color\":[\"black\",\"black\",\"black\",\"black\",\"black\",\"black\",\"black\",\"black\",\"black\",\"black\",\"black\",\"black\",\"black\",\"black\",\"black\",\"black\",\"black\",\"black\",\"black\",\"black\",\"black\",\"black\",\"black\",\"black\",\"black\",\"black\",\"black\",\"black\",\"black\",\"black\",\"black\",\"black\",\"black\",\"black\",\"black\",\"black\",\"black\",\"black\",\"black\",\"black\",\"black\",\"black\",\"black\",\"black\",\"black\",\"black\",\"black\",\"black\",\"black\",\"black\",\"black\",\"black\",\"black\",\"black\",\"black\",\"black\",\"black\",\"black\",\"black\",\"black\",\"black\",\"black\",\"black\",\"black\",\"black\",\"black\",\"black\",\"black\",\"black\",\"black\",\"black\",\"black\",\"black\",\"black\",\"black\",\"black\",\"black\",\"black\",\"black\",\"black\",\"black\",\"black\",\"black\",\"black\",\"black\",\"black\",\"black\",\"black\",\"black\",\"black\",\"black\",\"black\",\"black\",\"black\",\"black\",\"black\",\"black\",\"black\",\"black\",\"black\",\"black\",\"black\",\"black\",\"black\",\"black\",\"black\",\"black\",\"black\",\"black\",\"black\",\"black\",\"black\",\"black\",\"black\",\"black\",\"black\",\"black\",\"black\",\"black\",\"black\",\"black\",\"black\",\"black\",\"black\",\"black\",\"black\",\"black\",\"black\",\"black\",\"black\",\"black\",\"black\",\"black\",\"black\",\"black\",\"black\",\"black\",\"black\",\"black\",\"black\",\"black\",\"black\",\"black\",\"black\",\"black\",\"black\",\"black\",\"black\",\"black\",\"black\",\"black\",\"black\",\"black\",\"black\",\"black\",\"black\",\"black\",\"black\",\"black\",\"black\",\"black\",\"black\",\"black\",\"black\",\"black\",\"black\",\"black\",\"black\",\"black\",\"black\",\"black\",\"black\",\"black\",\"black\",\"black\",\"black\",\"black\",\"black\",\"black\",\"black\",\"black\",\"black\",\"black\",\"black\",\"black\",\"black\",\"black\",\"black\",\"black\",\"black\",\"black\",\"black\",\"black\",\"black\",\"black\",\"black\",\"black\",\"black\",\"black\",\"black\",\"black\",\"black\",\"black\",\"black\",\"black\",\"black\",\"black\",\"black\",\"black\",\"black\",\"black\",\"black\",\"black\",\"black\"],\"xs\":[[135757320,135757320],[135761078,135761078],[135761271,135761271],[135762344,135762344],[135762980,135762980],[135763280,135763280],[135768815,135768815],[135769093,135769093],[135769127,135769127],[135770940,135770940],[135770951,135770951],[135776728,135776728],[135777504,135777504],[135789949,135789949],[135795872,135795872],[135820743,135820743],[136103917,136103917],[136439748,136439748],[136453534,136453534],[136552411,136552411],[135829592,135829592],[135893372,135893372],[135952405,135952405],[135989721,135989721],[136136056,136136056],[136313639,136313639],[136401418,136401418],[136407078,136407078],[136420908,136420908],[135879258,135879258],[135967182,135967182],[136063448,136063448],[136145019,136145019],[136227304,136227304],[136395769,136395769],[136393658,136393658],[136396300,136396300],[136401843,136401843],[136407445,136407445],[136411879,136411879],[136412270,136412270],[136413244,136413244],[136413847,136413847],[136415217,136415217],[136416533,136416533],[136420726,136420726],[136429857,136429857],[136433740,136433740],[136436317,136436317],[136437615,136437615],[136438517,136438517],[136440300,136440300],[136443900,136443900],[136444185,136444185],[136444338,136444338],[136449254,136449254],[136451676,136451676],[136459227,136459227],[136463117,136463117],[136463454,136463454],[136467119,136467119],[136468238,136468238],[136470219,136470219],[136483355,136483355],[136485276,136485276],[136486340,136486340],[136486342,136486342],[136494985,136494985],[136497199,136497199],[136511817,136511817],[136513670,136513670],[136515458,136515458],[136516970,136516970],[136525309,136525309],[136528034,136528034],[136532225,136532225],[136535235,136535235],[136536095,136536095],[136544423,136544423],[136546927,136546927],[136552188,136552188],[136552517,136552517],[136555525,136555525],[136556480,136556480],[136560464,136560464],[136572285,136572285],[136582694,136582694],[136582809,136582809],[136584538,136584538],[136585323,136585323],[136586825,136586825],[136600662,136600662],[136612036,136612036],[136618178,136618178],[136618507,136618507],[136622543,136622543],[136624947,136624947],[136625113,136625113],[136626078,136626078],[136628121,136628121],[136632300,136632300],[136633962,136633962],[136635343,136635343],[136638113,136638113],[136640101,136640101],[136641593,136641593],[136646582,136646582],[136648077,136648077],[136648883,136648883],[136652045,136652045],[136653848,136653848],[136656094,136656094],[136661110,136661110],[136663110,136663110],[136663605,136663605],[136665162,136665162],[136665711,136665711],[136668123,136668123],[136670419,136670419],[136672680,136672680],[136673546,136673546],[136684632,136684632],[136686114,136686114],[136690425,136690425],[136690783,136690783],[136692893,136692893],[136694905,136694905],[136695694,136695694],[136695705,136695705],[136696608,136696608],[136697372,136697372],[136697468,136697468],[136700024,136700024],[136701539,136701539],[136702118,136702118],[136707480,136707480],[136710554,136710554],[136714178,136714178],[136719173,136719173],[136725459,136725459],[136734569,136734569],[136744678,136744678],[136748779,136748779],[136751488,136751488],[136754183,136754183],[136763242,136763242],[136765074,136765074],[136773638,136773638],[136500475,136500475],[136501509,136501509],[136504101,136504101],[136509868,136509868],[136520043,136520043],[136527120,136527120],[136530379,136530379],[136530443,136530443],[136539330,136539330],[136539670,136539670],[136540083,136540083],[136542559,136542559],[136542560,136542560],[136506375,136506375],[136506927,136506927],[136510012,136510012],[136538939,136538939],[136535876,136535876],[136544651,136544651],[136545844,136545844],[136552526,136552526],[136553022,136553022],[136554797,136554797],[136554890,136554890],[136588031,136588031],[136589278,136589278],[136589379,136589379],[136589741,136589741],[136590746,136590746],[136593553,136593553],[136593678,136593678],[136652491,136652491],[136652524,136652524],[136661150,136661150],[136669264,136669264],[136726567,136726567],[136732772,136732772],[136652953,136652953],[136655582,136655582],[136674028,136674028],[136684940,136684940],[136761175,136761175],[136653925,136653925],[136654833,136654833],[136656534,136656534],[136656536,136656536],[136657252,136657252],[136667301,136667301],[136667487,136667487],[136672775,136672775],[136680534,136680534],[136686393,136686393],[136688749,136688749],[136692553,136692553],[136697371,136697371],[136708787,136708787],[136710372,136710372],[136711064,136711064],[136715324,136715324],[136723504,136723504],[136737460,136737460],[136743143,136743143],[136746224,136746224],[136751842,136751842],[136759379,136759379],[136761853,136761853]],\"ys\":[[650,696],[650,696],[650,696],[650,696],[650,696],[650,696],[650,696],[650,696],[650,696],[650,696],[650,696],[650,696],[650,696],[50,56],[50,56],[50,56],[50,56],[50,56],[50,56],[50,56],[250,291],[250,291],[250,291],[250,291],[250,291],[250,291],[250,291],[250,291],[250,291],[150,166],[150,166],[150,166],[150,166],[150,166],[150,166],[550,594],[550,594],[550,594],[550,594],[550,594],[550,594],[550,594],[550,594],[550,594],[550,594],[550,594],[550,594],[550,594],[550,594],[550,594],[550,594],[550,594],[550,594],[550,594],[550,594],[550,594],[550,594],[550,594],[550,594],[550,594],[550,594],[550,594],[550,594],[550,594],[550,594],[550,594],[550,594],[250,290],[250,290],[250,290],[250,290],[250,290],[250,290],[250,290],[250,290],[250,290],[250,290],[250,290],[250,290],[250,290],[250,290],[250,290],[250,290],[250,290],[250,290],[250,290],[250,290],[250,290],[250,290],[250,290],[250,290],[250,290],[250,290],[250,290],[250,290],[250,290],[250,290],[250,290],[250,290],[250,290],[250,290],[250,290],[250,290],[250,290],[250,290],[250,290],[250,290],[250,290],[250,290],[250,290],[250,290],[250,290],[250,290],[250,290],[250,290],[250,290],[250,290],[250,290],[250,290],[250,290],[250,290],[250,290],[250,290],[250,290],[250,290],[250,290],[250,290],[250,290],[250,290],[250,290],[250,290],[250,290],[250,290],[250,290],[250,290],[250,290],[250,290],[250,290],[250,290],[250,290],[250,290],[250,290],[250,290],[250,290],[250,290],[250,290],[250,290],[250,290],[350,393],[350,393],[350,393],[350,393],[350,393],[350,393],[350,393],[350,393],[350,393],[350,393],[350,393],[350,393],[350,393],[550,594],[550,594],[550,594],[550,594],[450,494],[450,494],[450,494],[450,494],[450,494],[450,494],[450,494],[650,696],[650,696],[650,696],[650,696],[650,696],[650,696],[650,696],[350,392],[350,392],[350,392],[350,392],[350,392],[350,392],[450,494],[450,494],[450,494],[450,494],[450,494],[650,695],[650,695],[650,695],[650,695],[650,695],[650,695],[650,695],[650,695],[650,695],[650,695],[650,695],[650,695],[650,695],[650,695],[650,695],[650,695],[650,695],[650,695],[650,695],[650,695],[650,695],[650,695],[650,695],[650,695]]}},\"id\":\"35fb6a9e-56d1-4f41-8230-447953a54c5c\",\"type\":\"ColumnDataSource\"},{\"attributes\":{\"bottom\":{\"field\":\"bottom\"},\"fill_alpha\":{\"value\":0.1},\"fill_color\":{\"value\":\"#1f77b4\"},\"left\":{\"field\":\"left\"},\"line_alpha\":{\"value\":0.1},\"line_color\":{\"value\":\"#1f77b4\"},\"right\":{\"field\":\"right\"},\"top\":{\"field\":\"top\"}},\"id\":\"83727246-d11e-44b2-93e3-cab1878729e1\",\"type\":\"Quad\"},{\"attributes\":{},\"id\":\"37b6968b-cdcc-4140-8b50-6609b1280fba\",\"type\":\"BasicTickFormatter\"},{\"attributes\":{\"data_source\":{\"id\":\"f1f27b79-aae8-4de7-b25b-193696ef50b2\",\"type\":\"ColumnDataSource\"},\"glyph\":{\"id\":\"6e6a8ed0-da0b-49eb-a58c-499789116e05\",\"type\":\"Quad\"},\"hover_glyph\":null,\"nonselection_glyph\":{\"id\":\"83727246-d11e-44b2-93e3-cab1878729e1\",\"type\":\"Quad\"},\"selection_glyph\":null},\"id\":\"1a07964a-ef1d-4597-bf42-8b7aecda3d6d\",\"type\":\"GlyphRenderer\"},{\"attributes\":{\"formatter\":{\"id\":\"0e058925-0e0f-4814-bc92-adaee5af3b37\",\"type\":\"BasicTickFormatter\"},\"plot\":{\"id\":\"abcc65c3-cca4-4cc2-b34c-53163ae43565\",\"subtype\":\"Figure\",\"type\":\"Plot\"},\"ticker\":{\"id\":\"7bad608e-9f7f-41e6-a7f6-f6390c9d7c01\",\"type\":\"BasicTicker\"},\"visible\":null},\"id\":\"c4ee9edf-85c4-443b-8e74-daf5a3c03434\",\"type\":\"LinearAxis\"}],\"root_ids\":[\"abcc65c3-cca4-4cc2-b34c-53163ae43565\"]},\"title\":\"Bokeh Application\",\"version\":\"0.12.0\"}};\n",
       "            var render_items = [{\"docid\":\"bf76c559-411e-4c34-a5d4-44f7628a445a\",\"elementid\":\"0368c96d-5815-435f-bbff-0460bc0e6ae1\",\"modelid\":\"abcc65c3-cca4-4cc2-b34c-53163ae43565\",\"notebook_comms_target\":\"fbc7118c-fc4e-41b2-9f3e-febc4c062d67\"}];\n",
       "            \n",
       "            Bokeh.embed.embed_items(docs_json, render_items);\n",
       "        });\n",
       "      },\n",
       "      function(Bokeh) {\n",
       "      }\n",
       "    ];\n",
       "  \n",
       "    function run_inline_js() {\n",
       "      for (var i = 0; i < inline_js.length; i++) {\n",
       "        inline_js[i](window.Bokeh);\n",
       "      }\n",
       "    }\n",
       "  \n",
       "    if (window._bokeh_is_loading === 0) {\n",
       "      console.log(\"Bokeh: BokehJS loaded, going straight to plotting\");\n",
       "      run_inline_js();\n",
       "    } else {\n",
       "      load_libs(js_urls, function() {\n",
       "        console.log(\"Bokeh: BokehJS plotting callback run at\", now());\n",
       "        run_inline_js();\n",
       "      });\n",
       "    }\n",
       "  }(this));\n",
       "</script>"
      ]
     },
     "metadata": {},
     "output_type": "display_data"
    },
    {
     "data": {
      "text/html": [
       "<p><code>&lt;Bokeh Notebook handle for <strong>In[5]</strong>&gt;</code></p>"
      ],
      "text/plain": [
       "<bokeh.io._CommsHandle at 0x7f2025c69e10>"
      ]
     },
     "execution_count": 5,
     "metadata": {},
     "output_type": "execute_result"
    }
   ],
   "source": [
    "plt_obj = dm.superset_yes_no([di_7_17, dm.di_81_857], min_match=0.001)\n",
    "plt = plt_obj.do_plot()\n",
    "show(plt)"
   ]
  },
  {
   "cell_type": "code",
   "execution_count": 6,
   "metadata": {
    "collapsed": false
   },
   "outputs": [
    {
     "data": {
      "text/html": [
       "<table>\n",
       "<thead><tr><th style=\"text-align:center\">index</th><th style=\"text-align:center\">first</th><th style=\"text-align:center\">length</th><th style=\"text-align:center\">snps</th><th style=\"text-align:center\" colspan=2>alleles</th><th style=\"text-align:center\" colspan=2>matches</th><th style=\"text-align:center\" colspan=2>afr</th><th style=\"text-align:center\" colspan=2>afx</th><th style=\"text-align:center\" colspan=2>amr</th><th style=\"text-align:center\" colspan=2>eas</th><th style=\"text-align:center\" colspan=2>eur</th><th style=\"text-align:center\" colspan=2>sas</th><th style=\"text-align:center\" colspan=2>sax</th></tr></thead>\n",
       "<tr class=\"even\"><td style=\"text-align: right;\">354033</td><td style=\"text-align: right;\">136,588,031</td><td style=\"text-align: right;\">5,647</td><td style=\"text-align: right;\">7</td><td style=\"text-align: right;\">1760</td><td style=\"text-align: right;\">0.01</td><td style=\"text-align: right;\">15</td><td style=\"text-align: right;\">0.94</td><td style=\"text-align: right;\">0</td><td style=\"text-align: right;\">0.00</td><td style=\"text-align: right;\">0</td><td style=\"text-align: right;\">0.00</td><td style=\"text-align: right;\">2</td><td style=\"text-align: right;\">0.96</td><td style=\"text-align: right;\">0</td><td style=\"text-align: right;\">0.00</td><td style=\"text-align: right;\">12</td><td style=\"text-align: right;\">3.98</td><td style=\"text-align: right;\">1</td><td style=\"text-align: right;\">0.92</td><td style=\"text-align: right;\">0</td><td style=\"text-align: right;\">0.00</td></tr>\n",
       "<tr><td style=\"text-align: right;\">353240</td><td style=\"text-align: right;\">135,757,320</td><td style=\"text-align: right;\">20,184</td><td style=\"text-align: right;\">13</td><td style=\"text-align: right;\">1696</td><td style=\"text-align: right;\">0.01</td><td style=\"text-align: right;\">16</td><td style=\"text-align: right;\">1.00</td><td style=\"text-align: right;\">0</td><td style=\"text-align: right;\">0.00</td><td style=\"text-align: right;\">0</td><td style=\"text-align: right;\">0.00</td><td style=\"text-align: right;\">2</td><td style=\"text-align: right;\">0.90</td><td style=\"text-align: right;\">0</td><td style=\"text-align: right;\">0.00</td><td style=\"text-align: right;\">13</td><td style=\"text-align: right;\">4.04</td><td style=\"text-align: right;\">1</td><td style=\"text-align: right;\">0.86</td><td style=\"text-align: right;\">0</td><td style=\"text-align: right;\">0.00</td></tr>\n",
       "<tr class=\"even\"><td style=\"text-align: right;\">354130</td><td style=\"text-align: right;\">136,653,925</td><td style=\"text-align: right;\">107,928</td><td style=\"text-align: right;\">24</td><td style=\"text-align: right;\">1504</td><td style=\"text-align: right;\">0.01</td><td style=\"text-align: right;\">16</td><td style=\"text-align: right;\">1.00</td><td style=\"text-align: right;\">0</td><td style=\"text-align: right;\">0.00</td><td style=\"text-align: right;\">0</td><td style=\"text-align: right;\">0.00</td><td style=\"text-align: right;\">2</td><td style=\"text-align: right;\">0.90</td><td style=\"text-align: right;\">0</td><td style=\"text-align: right;\">0.00</td><td style=\"text-align: right;\">13</td><td style=\"text-align: right;\">4.04</td><td style=\"text-align: right;\">1</td><td style=\"text-align: right;\">0.86</td><td style=\"text-align: right;\">0</td><td style=\"text-align: right;\">0.00</td></tr>\n",
       "<tr><td style=\"text-align: right;\">353925</td><td style=\"text-align: right;\">136,506,375</td><td style=\"text-align: right;\">32,564</td><td style=\"text-align: right;\">4</td><td style=\"text-align: right;\">1442</td><td style=\"text-align: right;\">0.01</td><td style=\"text-align: right;\">16</td><td style=\"text-align: right;\">1.00</td><td style=\"text-align: right;\">0</td><td style=\"text-align: right;\">0.00</td><td style=\"text-align: right;\">0</td><td style=\"text-align: right;\">0.00</td><td style=\"text-align: right;\">2</td><td style=\"text-align: right;\">0.90</td><td style=\"text-align: right;\">0</td><td style=\"text-align: right;\">0.00</td><td style=\"text-align: right;\">13</td><td style=\"text-align: right;\">4.04</td><td style=\"text-align: right;\">1</td><td style=\"text-align: right;\">0.86</td><td style=\"text-align: right;\">0</td><td style=\"text-align: right;\">0.00</td></tr>\n",
       "<tr class=\"even\"><td style=\"text-align: right;\">353791</td><td style=\"text-align: right;\">136,393,658</td><td style=\"text-align: right;\">92,684</td><td style=\"text-align: right;\">32</td><td style=\"text-align: right;\">1361</td><td style=\"text-align: right;\">0.01</td><td style=\"text-align: right;\">16</td><td style=\"text-align: right;\">1.00</td><td style=\"text-align: right;\">0</td><td style=\"text-align: right;\">0.00</td><td style=\"text-align: right;\">0</td><td style=\"text-align: right;\">0.00</td><td style=\"text-align: right;\">2</td><td style=\"text-align: right;\">0.90</td><td style=\"text-align: right;\">0</td><td style=\"text-align: right;\">0.00</td><td style=\"text-align: right;\">13</td><td style=\"text-align: right;\">4.04</td><td style=\"text-align: right;\">1</td><td style=\"text-align: right;\">0.86</td><td style=\"text-align: right;\">0</td><td style=\"text-align: right;\">0.00</td></tr>\n",
       "<tr><td style=\"text-align: right;\">353958</td><td style=\"text-align: right;\">136,535,876</td><td style=\"text-align: right;\">19,014</td><td style=\"text-align: right;\">7</td><td style=\"text-align: right;\">1303</td><td style=\"text-align: right;\">0.01</td><td style=\"text-align: right;\">16</td><td style=\"text-align: right;\">1.00</td><td style=\"text-align: right;\">0</td><td style=\"text-align: right;\">0.00</td><td style=\"text-align: right;\">0</td><td style=\"text-align: right;\">0.00</td><td style=\"text-align: right;\">2</td><td style=\"text-align: right;\">0.90</td><td style=\"text-align: right;\">0</td><td style=\"text-align: right;\">0.00</td><td style=\"text-align: right;\">13</td><td style=\"text-align: right;\">4.04</td><td style=\"text-align: right;\">1</td><td style=\"text-align: right;\">0.86</td><td style=\"text-align: right;\">0</td><td style=\"text-align: right;\">0.00</td></tr>\n",
       "<tr class=\"even\"><td style=\"text-align: right;\">354129</td><td style=\"text-align: right;\">136,652,953</td><td style=\"text-align: right;\">108,222</td><td style=\"text-align: right;\">5</td><td style=\"text-align: right;\">1296</td><td style=\"text-align: right;\">0.01</td><td style=\"text-align: right;\">16</td><td style=\"text-align: right;\">1.00</td><td style=\"text-align: right;\">0</td><td style=\"text-align: right;\">0.00</td><td style=\"text-align: right;\">0</td><td style=\"text-align: right;\">0.00</td><td style=\"text-align: right;\">2</td><td style=\"text-align: right;\">0.90</td><td style=\"text-align: right;\">0</td><td style=\"text-align: right;\">0.00</td><td style=\"text-align: right;\">13</td><td style=\"text-align: right;\">4.04</td><td style=\"text-align: right;\">1</td><td style=\"text-align: right;\">0.86</td><td style=\"text-align: right;\">0</td><td style=\"text-align: right;\">0.00</td></tr>\n",
       "<tr><td style=\"text-align: right;\">353919</td><td style=\"text-align: right;\">136,500,475</td><td style=\"text-align: right;\">42,085</td><td style=\"text-align: right;\">13</td><td style=\"text-align: right;\">1227</td><td style=\"text-align: right;\">0.01</td><td style=\"text-align: right;\">16</td><td style=\"text-align: right;\">1.00</td><td style=\"text-align: right;\">0</td><td style=\"text-align: right;\">0.00</td><td style=\"text-align: right;\">0</td><td style=\"text-align: right;\">0.00</td><td style=\"text-align: right;\">2</td><td style=\"text-align: right;\">0.90</td><td style=\"text-align: right;\">0</td><td style=\"text-align: right;\">0.00</td><td style=\"text-align: right;\">13</td><td style=\"text-align: right;\">4.04</td><td style=\"text-align: right;\">1</td><td style=\"text-align: right;\">0.86</td><td style=\"text-align: right;\">0</td><td style=\"text-align: right;\">0.00</td></tr>\n",
       "<tr class=\"even\"><td style=\"text-align: right;\">354127</td><td style=\"text-align: right;\">136,652,491</td><td style=\"text-align: right;\">80,281</td><td style=\"text-align: right;\">6</td><td style=\"text-align: right;\">1114</td><td style=\"text-align: right;\">0.01</td><td style=\"text-align: right;\">16</td><td style=\"text-align: right;\">1.00</td><td style=\"text-align: right;\">0</td><td style=\"text-align: right;\">0.00</td><td style=\"text-align: right;\">0</td><td style=\"text-align: right;\">0.00</td><td style=\"text-align: right;\">2</td><td style=\"text-align: right;\">0.90</td><td style=\"text-align: right;\">0</td><td style=\"text-align: right;\">0.00</td><td style=\"text-align: right;\">13</td><td style=\"text-align: right;\">4.04</td><td style=\"text-align: right;\">1</td><td style=\"text-align: right;\">0.86</td><td style=\"text-align: right;\">0</td><td style=\"text-align: right;\">0.00</td></tr>\n",
       "<tr><td style=\"text-align: right;\">353372</td><td style=\"text-align: right;\">135,829,592</td><td style=\"text-align: right;\">591,316</td><td style=\"text-align: right;\">9</td><td style=\"text-align: right;\">944</td><td style=\"text-align: right;\">0.02</td><td style=\"text-align: right;\">16</td><td style=\"text-align: right;\">1.00</td><td style=\"text-align: right;\">0</td><td style=\"text-align: right;\">0.00</td><td style=\"text-align: right;\">0</td><td style=\"text-align: right;\">0.00</td><td style=\"text-align: right;\">2</td><td style=\"text-align: right;\">0.90</td><td style=\"text-align: right;\">0</td><td style=\"text-align: right;\">0.00</td><td style=\"text-align: right;\">13</td><td style=\"text-align: right;\">4.04</td><td style=\"text-align: right;\">1</td><td style=\"text-align: right;\">0.86</td><td style=\"text-align: right;\">0</td><td style=\"text-align: right;\">0.00</td></tr>\n",
       "<tr class=\"even\"><td style=\"text-align: right;\">353902</td><td style=\"text-align: right;\">136,494,985</td><td style=\"text-align: right;\">278,653</td><td style=\"text-align: right;\">81</td><td style=\"text-align: right;\">857</td><td style=\"text-align: right;\">0.02</td><td style=\"text-align: right;\">16</td><td style=\"text-align: right;\">1.00</td><td style=\"text-align: right;\">0</td><td style=\"text-align: right;\">0.00</td><td style=\"text-align: right;\">0</td><td style=\"text-align: right;\">0.00</td><td style=\"text-align: right;\">2</td><td style=\"text-align: right;\">0.90</td><td style=\"text-align: right;\">0</td><td style=\"text-align: right;\">0.00</td><td style=\"text-align: right;\">13</td><td style=\"text-align: right;\">4.04</td><td style=\"text-align: right;\">1</td><td style=\"text-align: right;\">0.86</td><td style=\"text-align: right;\">0</td><td style=\"text-align: right;\">0.00</td></tr>\n",
       "<tr><td style=\"text-align: right;\">353430</td><td style=\"text-align: right;\">135,879,258</td><td style=\"text-align: right;\">516,511</td><td style=\"text-align: right;\">6</td><td style=\"text-align: right;\">54</td><td style=\"text-align: right;\">0.30</td><td style=\"text-align: right;\">16</td><td style=\"text-align: right;\">1.00</td><td style=\"text-align: right;\">0</td><td style=\"text-align: right;\">0.00</td><td style=\"text-align: right;\">0</td><td style=\"text-align: right;\">0.00</td><td style=\"text-align: right;\">2</td><td style=\"text-align: right;\">0.90</td><td style=\"text-align: right;\">0</td><td style=\"text-align: right;\">0.00</td><td style=\"text-align: right;\">13</td><td style=\"text-align: right;\">4.04</td><td style=\"text-align: right;\">1</td><td style=\"text-align: right;\">0.86</td><td style=\"text-align: right;\">0</td><td style=\"text-align: right;\">0.00</td></tr>\n",
       "<tr class=\"even\"><td style=\"text-align: right;\">353321</td><td style=\"text-align: right;\">135,789,949</td><td style=\"text-align: right;\">762,462</td><td style=\"text-align: right;\">7</td><td style=\"text-align: right;\">17</td><td style=\"text-align: right;\">0.94</td><td style=\"text-align: right;\">16</td><td style=\"text-align: right;\">1.00</td><td style=\"text-align: right;\">0</td><td style=\"text-align: right;\">0.00</td><td style=\"text-align: right;\">0</td><td style=\"text-align: right;\">0.00</td><td style=\"text-align: right;\">2</td><td style=\"text-align: right;\">0.90</td><td style=\"text-align: right;\">0</td><td style=\"text-align: right;\">0.00</td><td style=\"text-align: right;\">13</td><td style=\"text-align: right;\">4.04</td><td style=\"text-align: right;\">1</td><td style=\"text-align: right;\">0.86</td><td style=\"text-align: right;\">0</td><td style=\"text-align: right;\">0.00</td></tr>\n",
       "</table>"
      ],
      "text/plain": [
       "<IPython.core.display.HTML object>"
      ]
     },
     "execution_count": 6,
     "metadata": {},
     "output_type": "execute_result"
    }
   ],
   "source": [
    "HTML(plt_obj.get_html())"
   ]
  },
  {
   "cell_type": "code",
   "execution_count": 7,
   "metadata": {
    "collapsed": false
   },
   "outputs": [
    {
     "data": {
      "text/html": [
       "\n",
       "\n",
       "    <div class=\"bk-root\">\n",
       "        <div class=\"plotdiv\" id=\"ee2e3420-6229-4237-b564-a1bc6d66ec75\"></div>\n",
       "    </div>\n",
       "<script type=\"text/javascript\">\n",
       "  \n",
       "  (function(global) {\n",
       "    function now() {\n",
       "      return new Date();\n",
       "    }\n",
       "  \n",
       "    if (typeof (window._bokeh_onload_callbacks) === \"undefined\") {\n",
       "      window._bokeh_onload_callbacks = [];\n",
       "    }\n",
       "  \n",
       "    function run_callbacks() {\n",
       "      window._bokeh_onload_callbacks.forEach(function(callback) { callback() });\n",
       "      delete window._bokeh_onload_callbacks\n",
       "      console.info(\"Bokeh: all callbacks have finished\");\n",
       "    }\n",
       "  \n",
       "    function load_libs(js_urls, callback) {\n",
       "      window._bokeh_onload_callbacks.push(callback);\n",
       "      if (window._bokeh_is_loading > 0) {\n",
       "        console.log(\"Bokeh: BokehJS is being loaded, scheduling callback at\", now());\n",
       "        return null;\n",
       "      }\n",
       "      if (js_urls == null || js_urls.length === 0) {\n",
       "        run_callbacks();\n",
       "        return null;\n",
       "      }\n",
       "      console.log(\"Bokeh: BokehJS not loaded, scheduling load and callback at\", now());\n",
       "      window._bokeh_is_loading = js_urls.length;\n",
       "      for (var i = 0; i < js_urls.length; i++) {\n",
       "        var url = js_urls[i];\n",
       "        var s = document.createElement('script');\n",
       "        s.src = url;\n",
       "        s.async = false;\n",
       "        s.onreadystatechange = s.onload = function() {\n",
       "          window._bokeh_is_loading--;\n",
       "          if (window._bokeh_is_loading === 0) {\n",
       "            console.log(\"Bokeh: all BokehJS libraries loaded\");\n",
       "            run_callbacks()\n",
       "          }\n",
       "        };\n",
       "        s.onerror = function() {\n",
       "          console.warn(\"failed to load library \" + url);\n",
       "        };\n",
       "        console.log(\"Bokeh: injecting script tag for BokehJS library: \", url);\n",
       "        document.getElementsByTagName(\"head\")[0].appendChild(s);\n",
       "      }\n",
       "    };var element = document.getElementById(\"ee2e3420-6229-4237-b564-a1bc6d66ec75\");\n",
       "    if (element == null) {\n",
       "      console.log(\"Bokeh: ERROR: autoload.js configured with elementid 'ee2e3420-6229-4237-b564-a1bc6d66ec75' but no matching script tag was found. \")\n",
       "      return false;\n",
       "    }\n",
       "  \n",
       "    var js_urls = [];\n",
       "  \n",
       "    var inline_js = [\n",
       "      function(Bokeh) {\n",
       "        Bokeh.$(function() {\n",
       "            var docs_json = {\"c2a577fe-d56f-4d14-a580-2ace005b363f\":{\"roots\":{\"references\":[{\"attributes\":{\"formatter\":{\"id\":\"7c00c087-b6da-46d3-a287-9e7dadf4a143\",\"type\":\"BasicTickFormatter\"},\"plot\":{\"id\":\"8b214d72-07ee-4183-9364-667eea8b8938\",\"subtype\":\"Figure\",\"type\":\"Plot\"},\"ticker\":{\"id\":\"3291c583-3fe9-4985-ad00-972bbc68b160\",\"type\":\"BasicTicker\"},\"visible\":null},\"id\":\"c812562f-a078-40e0-aa7d-27837787930b\",\"type\":\"LinearAxis\"},{\"attributes\":{\"overlay\":{\"id\":\"3201091c-a56c-4ca3-87cd-16ebfbf1101c\",\"type\":\"BoxAnnotation\"},\"plot\":{\"id\":\"8b214d72-07ee-4183-9364-667eea8b8938\",\"subtype\":\"Figure\",\"type\":\"Plot\"}},\"id\":\"c194030d-00a2-4539-bab7-872acd51e1a7\",\"type\":\"BoxZoomTool\"},{\"attributes\":{},\"id\":\"6745a05b-4200-4953-b267-01f2848870ef\",\"type\":\"BasicTicker\"},{\"attributes\":{\"line_alpha\":{\"value\":0.1},\"line_color\":{\"value\":\"#1f77b4\"},\"xs\":{\"field\":\"xs\"},\"ys\":{\"field\":\"ys\"}},\"id\":\"543a0dcf-df1e-4ae3-9b4f-3b7ef9661c77\",\"type\":\"MultiLine\"},{\"attributes\":{\"bottom\":{\"field\":\"bottom\"},\"fill_color\":{\"value\":\"white\"},\"left\":{\"field\":\"left\"},\"right\":{\"field\":\"right\"},\"top\":{\"field\":\"top\"}},\"id\":\"d52ddac9-7e78-41c1-9a1b-a958ae1512de\",\"type\":\"Quad\"},{\"attributes\":{},\"id\":\"3291c583-3fe9-4985-ad00-972bbc68b160\",\"type\":\"BasicTicker\"},{\"attributes\":{\"plot\":null,\"text\":null},\"id\":\"b09fde63-e943-43d5-9e1b-68e2430e1f72\",\"type\":\"Title\"},{\"attributes\":{\"data_source\":{\"id\":\"87cf1963-ebfd-46fd-881e-8f1b6c4e6018\",\"type\":\"ColumnDataSource\"},\"glyph\":{\"id\":\"b7fea473-e6b0-4e98-a3f4-d0b5e7e85084\",\"type\":\"MultiLine\"},\"hover_glyph\":null,\"nonselection_glyph\":{\"id\":\"543a0dcf-df1e-4ae3-9b4f-3b7ef9661c77\",\"type\":\"MultiLine\"},\"selection_glyph\":null},\"id\":\"9ca1e3cd-d921-4e5f-ad34-a277795ceef9\",\"type\":\"GlyphRenderer\"},{\"attributes\":{},\"id\":\"fe992805-e877-430d-a44f-8355f1a4798d\",\"type\":\"ToolEvents\"},{\"attributes\":{\"callback\":null,\"column_names\":[\"right\",\"bottom\",\"top\",\"left\",\"fill_color\"],\"data\":{\"bottom\":[450,50,250,150,450,250,450,350,450,450],\"fill_color\":[\"#808080\",\"#00ff00\",\"#c4c461\",\"#00ff00\",\"#c4c461\",\"#808080\",\"#808080\",\"#808080\",\"#c46161\",\"#61c461\"],\"left\":[135757320,135789949,135829592,135879258,136393658,136500475,136506375,136535876,136588031,136682274],\"right\":[135777504,136552411,136420908,136395769,136486342,136542560,136538939,136554890,136593678,136775898],\"top\":[496,56,291,166,494,293,494,394,496,497]}},\"id\":\"aed66dea-4b71-4fda-b8fe-172b6ba5d910\",\"type\":\"ColumnDataSource\"},{\"attributes\":{\"plot\":{\"id\":\"8b214d72-07ee-4183-9364-667eea8b8938\",\"subtype\":\"Figure\",\"type\":\"Plot\"}},\"id\":\"54f08c65-761e-432c-becf-e46e61968cdb\",\"type\":\"ResetTool\"},{\"attributes\":{\"callback\":null,\"column_names\":[\"y\",\"x\",\"vals\"],\"data\":{\"vals\":[\"RAB3GAP1\",\"ZRANB3\",\"R3HDM1\",\"UBXN4\",\"LCT\",\"MCM6\",\"DARS\"],\"x\":[135869057.0,136122878.0,136385961.0,136520911.0,136570082.5,136615621.5,136703738.0],\"y\":[560.0,560.0,560.0,560.0,560.0,560.0,560.0]}},\"id\":\"4f35feea-5189-4f11-a076-73b942235f07\",\"type\":\"ColumnDataSource\"},{\"attributes\":{},\"id\":\"7c00c087-b6da-46d3-a287-9e7dadf4a143\",\"type\":\"BasicTickFormatter\"},{\"attributes\":{\"dimension\":1,\"plot\":{\"id\":\"8b214d72-07ee-4183-9364-667eea8b8938\",\"subtype\":\"Figure\",\"type\":\"Plot\"},\"ticker\":{\"id\":\"3291c583-3fe9-4985-ad00-972bbc68b160\",\"type\":\"BasicTicker\"}},\"id\":\"a4da7f37-fda9-4a23-beb5-922a0a41fabb\",\"type\":\"Grid\"},{\"attributes\":{\"bottom\":{\"field\":\"bottom\"},\"fill_alpha\":{\"value\":0.1},\"fill_color\":{\"value\":\"#1f77b4\"},\"left\":{\"field\":\"left\"},\"line_alpha\":{\"value\":0.1},\"line_color\":{\"value\":\"#1f77b4\"},\"right\":{\"field\":\"right\"},\"top\":{\"field\":\"top\"}},\"id\":\"474a8e07-be4a-4d4f-8675-75bdcf9ac1b4\",\"type\":\"Quad\"},{\"attributes\":{\"callback\":null,\"column_names\":[\"y\",\"x\",\"vals\"],\"data\":{\"vals\":[\"13_1696\",\"7_17\",\"9_944\",\"6_54\",\"32_1361\",\"13_1227\",\"4_1442\",\"7_1303\",\"7_1760\",\"7_1868\"],\"x\":[135757320,135789949,135829592,135879258,136393658,136500475,136506375,136535876,136588031,136682274],\"y\":[501.0,61.0,296.0,171.0,499.0,298.0,499.0,399.0,501.0,502.0]}},\"id\":\"8123ff1d-8b07-4293-a8c7-134fddc55be9\",\"type\":\"ColumnDataSource\"},{\"attributes\":{\"level\":\"glyph\",\"plot\":{\"id\":\"8b214d72-07ee-4183-9364-667eea8b8938\",\"subtype\":\"Figure\",\"type\":\"Plot\"},\"source\":{\"id\":\"4f35feea-5189-4f11-a076-73b942235f07\",\"type\":\"ColumnDataSource\"},\"text\":{\"field\":\"vals\"},\"text_align\":\"center\",\"text_baseline\":\"middle\",\"text_font_size\":{\"value\":\"8pt\"},\"x\":{\"field\":\"x\"},\"y\":{\"field\":\"y\"}},\"id\":\"09537d97-52e7-412e-8a5f-51b5de22e721\",\"type\":\"LabelSet\"},{\"attributes\":{\"formatter\":{\"id\":\"bda987e9-4adc-4e60-baad-24cc4ce3f4c6\",\"type\":\"BasicTickFormatter\"},\"plot\":{\"id\":\"8b214d72-07ee-4183-9364-667eea8b8938\",\"subtype\":\"Figure\",\"type\":\"Plot\"},\"ticker\":{\"id\":\"6745a05b-4200-4953-b267-01f2848870ef\",\"type\":\"BasicTicker\"}},\"id\":\"6a75bd94-1695-4dea-ad8a-17d8c2069629\",\"type\":\"LinearAxis\"},{\"attributes\":{\"data_source\":{\"id\":\"aed66dea-4b71-4fda-b8fe-172b6ba5d910\",\"type\":\"ColumnDataSource\"},\"glyph\":{\"id\":\"273775f5-277d-401d-829c-a5200b46aca0\",\"type\":\"Quad\"},\"hover_glyph\":null,\"nonselection_glyph\":{\"id\":\"474a8e07-be4a-4d4f-8675-75bdcf9ac1b4\",\"type\":\"Quad\"},\"selection_glyph\":null},\"id\":\"c3281f44-50e2-4e6f-b478-e5eb8f7e5480\",\"type\":\"GlyphRenderer\"},{\"attributes\":{\"level\":\"glyph\",\"plot\":{\"id\":\"8b214d72-07ee-4183-9364-667eea8b8938\",\"subtype\":\"Figure\",\"type\":\"Plot\"},\"source\":{\"id\":\"8123ff1d-8b07-4293-a8c7-134fddc55be9\",\"type\":\"ColumnDataSource\"},\"text\":{\"field\":\"vals\"},\"text_font_size\":{\"value\":\"9pt\"},\"text_font_style\":\"bold\",\"x\":{\"field\":\"x\"},\"y\":{\"field\":\"y\"}},\"id\":\"30c109bd-5689-4114-89fe-4c85383deadc\",\"type\":\"LabelSet\"},{\"attributes\":{\"bottom_units\":\"screen\",\"fill_alpha\":{\"value\":0.5},\"fill_color\":{\"value\":\"lightgrey\"},\"left_units\":\"screen\",\"level\":\"overlay\",\"line_alpha\":{\"value\":1.0},\"line_color\":{\"value\":\"black\"},\"line_dash\":[4,4],\"line_width\":{\"value\":2},\"plot\":null,\"render_mode\":\"css\",\"right_units\":\"screen\",\"top_units\":\"screen\"},\"id\":\"3201091c-a56c-4ca3-87cd-16ebfbf1101c\",\"type\":\"BoxAnnotation\"},{\"attributes\":{\"plot\":{\"id\":\"8b214d72-07ee-4183-9364-667eea8b8938\",\"subtype\":\"Figure\",\"type\":\"Plot\"}},\"id\":\"7344d4b1-6274-44df-b627-d373df9b84c3\",\"type\":\"WheelZoomTool\"},{\"attributes\":{\"callback\":null,\"end\":136786630,\"start\":135757320},\"id\":\"8805f502-f562-4f8a-88b7-c8634172accf\",\"type\":\"Range1d\"},{\"attributes\":{\"plot\":{\"id\":\"8b214d72-07ee-4183-9364-667eea8b8938\",\"subtype\":\"Figure\",\"type\":\"Plot\"}},\"id\":\"453b6b41-9e06-47b4-bc87-3c0120d45cb6\",\"type\":\"SaveTool\"},{\"attributes\":{\"bottom\":{\"field\":\"bottom\"},\"fill_alpha\":{\"value\":0.1},\"fill_color\":{\"value\":\"#1f77b4\"},\"left\":{\"field\":\"left\"},\"line_alpha\":{\"value\":0.1},\"line_color\":{\"value\":\"#1f77b4\"},\"right\":{\"field\":\"right\"},\"top\":{\"field\":\"top\"}},\"id\":\"702575ce-9434-426e-85c2-e69b6b6129a7\",\"type\":\"Quad\"},{\"attributes\":{\"line_color\":{\"field\":\"line_color\"},\"xs\":{\"field\":\"xs\"},\"ys\":{\"field\":\"ys\"}},\"id\":\"b7fea473-e6b0-4e98-a3f4-d0b5e7e85084\",\"type\":\"MultiLine\"},{\"attributes\":{\"plot\":{\"id\":\"8b214d72-07ee-4183-9364-667eea8b8938\",\"subtype\":\"Figure\",\"type\":\"Plot\"},\"ticker\":{\"id\":\"6745a05b-4200-4953-b267-01f2848870ef\",\"type\":\"BasicTicker\"}},\"id\":\"b92d8de4-479e-4a5d-972e-bfc646471c50\",\"type\":\"Grid\"},{\"attributes\":{\"bottom\":{\"field\":\"bottom\"},\"fill_color\":{\"field\":\"fill_color\"},\"left\":{\"field\":\"left\"},\"line_color\":{\"value\":null},\"right\":{\"field\":\"right\"},\"top\":{\"field\":\"top\"}},\"id\":\"273775f5-277d-401d-829c-a5200b46aca0\",\"type\":\"Quad\"},{\"attributes\":{\"active_drag\":\"auto\",\"active_scroll\":\"auto\",\"active_tap\":\"auto\",\"tools\":[{\"id\":\"8e8624f6-3588-40e1-8676-ba8139b40528\",\"type\":\"PanTool\"},{\"id\":\"7344d4b1-6274-44df-b627-d373df9b84c3\",\"type\":\"WheelZoomTool\"},{\"id\":\"c194030d-00a2-4539-bab7-872acd51e1a7\",\"type\":\"BoxZoomTool\"},{\"id\":\"453b6b41-9e06-47b4-bc87-3c0120d45cb6\",\"type\":\"SaveTool\"},{\"id\":\"54f08c65-761e-432c-becf-e46e61968cdb\",\"type\":\"ResetTool\"},{\"id\":\"56062c60-dcea-4875-8e13-e3b7b27c6424\",\"type\":\"HelpTool\"}]},\"id\":\"996ce56e-cf9f-40c4-b275-cffa99367e50\",\"type\":\"Toolbar\"},{\"attributes\":{\"callback\":null,\"column_names\":[\"xs\",\"ys\",\"line_color\"],\"data\":{\"line_color\":[\"black\",\"black\",\"black\",\"black\",\"black\",\"black\",\"black\",\"black\",\"black\",\"black\",\"black\",\"black\",\"black\",\"black\",\"black\",\"black\",\"black\",\"black\",\"black\",\"black\",\"black\",\"black\",\"black\",\"black\",\"black\",\"black\",\"black\",\"black\",\"black\",\"black\",\"black\",\"black\",\"black\",\"black\",\"black\",\"black\",\"black\",\"black\",\"black\",\"black\",\"black\",\"black\",\"black\",\"black\",\"black\",\"black\",\"black\",\"black\",\"black\",\"black\",\"black\",\"black\",\"black\",\"black\",\"black\",\"black\",\"black\",\"black\",\"black\",\"black\",\"black\",\"black\",\"black\",\"black\",\"black\",\"black\",\"black\",\"black\",\"black\",\"black\",\"black\",\"black\",\"black\",\"black\",\"black\",\"black\",\"black\",\"black\",\"black\",\"black\",\"black\",\"black\",\"black\",\"black\",\"black\",\"black\",\"black\",\"black\",\"black\",\"black\",\"black\",\"black\",\"black\",\"black\",\"black\",\"black\",\"black\",\"black\",\"black\",\"black\",\"black\",\"black\",\"black\",\"black\",\"black\"],\"xs\":[[135757320,135757320],[135761078,135761078],[135761271,135761271],[135762344,135762344],[135762980,135762980],[135763280,135763280],[135768815,135768815],[135769093,135769093],[135769127,135769127],[135770940,135770940],[135770951,135770951],[135776728,135776728],[135777504,135777504],[135789949,135789949],[135795872,135795872],[135820743,135820743],[136103917,136103917],[136439748,136439748],[136453534,136453534],[136552411,136552411],[135829592,135829592],[135893372,135893372],[135952405,135952405],[135989721,135989721],[136136056,136136056],[136313639,136313639],[136401418,136401418],[136407078,136407078],[136420908,136420908],[135879258,135879258],[135967182,135967182],[136063448,136063448],[136145019,136145019],[136227304,136227304],[136395769,136395769],[136393658,136393658],[136396300,136396300],[136401843,136401843],[136407445,136407445],[136411879,136411879],[136412270,136412270],[136413244,136413244],[136413847,136413847],[136415217,136415217],[136416533,136416533],[136420726,136420726],[136429857,136429857],[136433740,136433740],[136436317,136436317],[136437615,136437615],[136438517,136438517],[136440300,136440300],[136443900,136443900],[136444185,136444185],[136444338,136444338],[136449254,136449254],[136451676,136451676],[136459227,136459227],[136463117,136463117],[136463454,136463454],[136467119,136467119],[136468238,136468238],[136470219,136470219],[136483355,136483355],[136485276,136485276],[136486340,136486340],[136486342,136486342],[136500475,136500475],[136501509,136501509],[136504101,136504101],[136509868,136509868],[136520043,136520043],[136527120,136527120],[136530379,136530379],[136530443,136530443],[136539330,136539330],[136539670,136539670],[136540083,136540083],[136542559,136542559],[136542560,136542560],[136506375,136506375],[136506927,136506927],[136510012,136510012],[136538939,136538939],[136535876,136535876],[136544651,136544651],[136545844,136545844],[136552526,136552526],[136553022,136553022],[136554797,136554797],[136554890,136554890],[136588031,136588031],[136589278,136589278],[136589379,136589379],[136589741,136589741],[136590746,136590746],[136593553,136593553],[136593678,136593678],[136682274,136682274],[136691825,136691825],[136698098,136698098],[136721603,136721603],[136721995,136721995],[136755684,136755684],[136775898,136775898]],\"ys\":[[450,496],[450,496],[450,496],[450,496],[450,496],[450,496],[450,496],[450,496],[450,496],[450,496],[450,496],[450,496],[450,496],[50,56],[50,56],[50,56],[50,56],[50,56],[50,56],[50,56],[250,291],[250,291],[250,291],[250,291],[250,291],[250,291],[250,291],[250,291],[250,291],[150,166],[150,166],[150,166],[150,166],[150,166],[150,166],[450,494],[450,494],[450,494],[450,494],[450,494],[450,494],[450,494],[450,494],[450,494],[450,494],[450,494],[450,494],[450,494],[450,494],[450,494],[450,494],[450,494],[450,494],[450,494],[450,494],[450,494],[450,494],[450,494],[450,494],[450,494],[450,494],[450,494],[450,494],[450,494],[450,494],[450,494],[450,494],[250,293],[250,293],[250,293],[250,293],[250,293],[250,293],[250,293],[250,293],[250,293],[250,293],[250,293],[250,293],[250,293],[450,494],[450,494],[450,494],[450,494],[350,394],[350,394],[350,394],[350,394],[350,394],[350,394],[350,394],[450,496],[450,496],[450,496],[450,496],[450,496],[450,496],[450,496],[450,497],[450,497],[450,497],[450,497],[450,497],[450,497],[450,497]]}},\"id\":\"87cf1963-ebfd-46fd-881e-8f1b6c4e6018\",\"type\":\"ColumnDataSource\"},{\"attributes\":{\"data_source\":{\"id\":\"4a1a890f-089f-49cc-8090-537a9e85f040\",\"type\":\"ColumnDataSource\"},\"glyph\":{\"id\":\"d52ddac9-7e78-41c1-9a1b-a958ae1512de\",\"type\":\"Quad\"},\"hover_glyph\":null,\"nonselection_glyph\":{\"id\":\"702575ce-9434-426e-85c2-e69b6b6129a7\",\"type\":\"Quad\"},\"selection_glyph\":null},\"id\":\"5dc8ad30-be08-40a1-83c7-0cfebfd75197\",\"type\":\"GlyphRenderer\"},{\"attributes\":{\"plot\":{\"id\":\"8b214d72-07ee-4183-9364-667eea8b8938\",\"subtype\":\"Figure\",\"type\":\"Plot\"}},\"id\":\"56062c60-dcea-4875-8e13-e3b7b27c6424\",\"type\":\"HelpTool\"},{\"attributes\":{\"callback\":null,\"column_names\":[\"right\",\"bottom\",\"top\",\"left\"],\"data\":{\"bottom\":[545,545,545,545,545,545,545],\"left\":[135809835,135957574,136289083,136499189,136545415,136597196,136664254],\"right\":[135928279,136288182,136482839,136542633,136594750,136634047,136743222],\"top\":[575,575,575,575,575,575,575]}},\"id\":\"4a1a890f-089f-49cc-8090-537a9e85f040\",\"type\":\"ColumnDataSource\"},{\"attributes\":{\"below\":[{\"id\":\"6a75bd94-1695-4dea-ad8a-17d8c2069629\",\"type\":\"LinearAxis\"}],\"left\":[{\"id\":\"c812562f-a078-40e0-aa7d-27837787930b\",\"type\":\"LinearAxis\"}],\"plot_width\":900,\"renderers\":[{\"id\":\"6a75bd94-1695-4dea-ad8a-17d8c2069629\",\"type\":\"LinearAxis\"},{\"id\":\"b92d8de4-479e-4a5d-972e-bfc646471c50\",\"type\":\"Grid\"},{\"id\":\"c812562f-a078-40e0-aa7d-27837787930b\",\"type\":\"LinearAxis\"},{\"id\":\"a4da7f37-fda9-4a23-beb5-922a0a41fabb\",\"type\":\"Grid\"},{\"id\":\"3201091c-a56c-4ca3-87cd-16ebfbf1101c\",\"type\":\"BoxAnnotation\"},{\"id\":\"c3281f44-50e2-4e6f-b478-e5eb8f7e5480\",\"type\":\"GlyphRenderer\"},{\"id\":\"9ca1e3cd-d921-4e5f-ad34-a277795ceef9\",\"type\":\"GlyphRenderer\"},{\"id\":\"30c109bd-5689-4114-89fe-4c85383deadc\",\"type\":\"LabelSet\"},{\"id\":\"5dc8ad30-be08-40a1-83c7-0cfebfd75197\",\"type\":\"GlyphRenderer\"},{\"id\":\"09537d97-52e7-412e-8a5f-51b5de22e721\",\"type\":\"LabelSet\"}],\"title\":{\"id\":\"b09fde63-e943-43d5-9e1b-68e2430e1f72\",\"type\":\"Title\"},\"tool_events\":{\"id\":\"fe992805-e877-430d-a44f-8355f1a4798d\",\"type\":\"ToolEvents\"},\"toolbar\":{\"id\":\"996ce56e-cf9f-40c4-b275-cffa99367e50\",\"type\":\"Toolbar\"},\"toolbar_location\":null,\"x_range\":{\"id\":\"8805f502-f562-4f8a-88b7-c8634172accf\",\"type\":\"Range1d\"},\"y_range\":{\"id\":\"ecdbaa86-ac18-4353-8b7f-1e6b29e15245\",\"type\":\"Range1d\"}},\"id\":\"8b214d72-07ee-4183-9364-667eea8b8938\",\"subtype\":\"Figure\",\"type\":\"Plot\"},{\"attributes\":{\"plot\":{\"id\":\"8b214d72-07ee-4183-9364-667eea8b8938\",\"subtype\":\"Figure\",\"type\":\"Plot\"}},\"id\":\"8e8624f6-3588-40e1-8676-ba8139b40528\",\"type\":\"PanTool\"},{\"attributes\":{\"callback\":null,\"end\":600},\"id\":\"ecdbaa86-ac18-4353-8b7f-1e6b29e15245\",\"type\":\"Range1d\"},{\"attributes\":{},\"id\":\"bda987e9-4adc-4e60-baad-24cc4ce3f4c6\",\"type\":\"BasicTickFormatter\"}],\"root_ids\":[\"8b214d72-07ee-4183-9364-667eea8b8938\"]},\"title\":\"Bokeh Application\",\"version\":\"0.12.0\"}};\n",
       "            var render_items = [{\"docid\":\"c2a577fe-d56f-4d14-a580-2ace005b363f\",\"elementid\":\"ee2e3420-6229-4237-b564-a1bc6d66ec75\",\"modelid\":\"8b214d72-07ee-4183-9364-667eea8b8938\",\"notebook_comms_target\":\"8106e9c2-1fa9-48bc-a226-bee33f1f7206\"}];\n",
       "            \n",
       "            Bokeh.embed.embed_items(docs_json, render_items);\n",
       "        });\n",
       "      },\n",
       "      function(Bokeh) {\n",
       "      }\n",
       "    ];\n",
       "  \n",
       "    function run_inline_js() {\n",
       "      for (var i = 0; i < inline_js.length; i++) {\n",
       "        inline_js[i](window.Bokeh);\n",
       "      }\n",
       "    }\n",
       "  \n",
       "    if (window._bokeh_is_loading === 0) {\n",
       "      console.log(\"Bokeh: BokehJS loaded, going straight to plotting\");\n",
       "      run_inline_js();\n",
       "    } else {\n",
       "      load_libs(js_urls, function() {\n",
       "        console.log(\"Bokeh: BokehJS plotting callback run at\", now());\n",
       "        run_inline_js();\n",
       "      });\n",
       "    }\n",
       "  }(this));\n",
       "</script>"
      ]
     },
     "metadata": {},
     "output_type": "display_data"
    },
    {
     "data": {
      "text/html": [
       "<p><code>&lt;Bokeh Notebook handle for <strong>In[7]</strong>&gt;</code></p>"
      ],
      "text/plain": [
       "<bokeh.io._CommsHandle at 0x7f2027b29490>"
      ]
     },
     "execution_count": 7,
     "metadata": {},
     "output_type": "execute_result"
    }
   ],
   "source": [
    "plt_obj = dm.superset_yes_no([di_7_17], [dm.di_81_857], min_match=0.001)\n",
    "plt = plt_obj.do_plot()\n",
    "show(plt)"
   ]
  },
  {
   "cell_type": "code",
   "execution_count": 8,
   "metadata": {
    "collapsed": false
   },
   "outputs": [
    {
     "data": {
      "text/html": [
       "<table>\n",
       "<thead><tr><th style=\"text-align:center\">index</th><th style=\"text-align:center\">first</th><th style=\"text-align:center\">length</th><th style=\"text-align:center\">snps</th><th style=\"text-align:center\" colspan=2>alleles</th><th style=\"text-align:center\" colspan=2>matches</th><th style=\"text-align:center\" colspan=2>afr</th><th style=\"text-align:center\" colspan=2>afx</th><th style=\"text-align:center\" colspan=2>amr</th><th style=\"text-align:center\" colspan=2>eas</th><th style=\"text-align:center\" colspan=2>eur</th><th style=\"text-align:center\" colspan=2>sas</th><th style=\"text-align:center\" colspan=2>sax</th></tr></thead>\n",
       "<tr class=\"even\"><td style=\"text-align: right;\">354170</td><td style=\"text-align: right;\">136,682,274</td><td style=\"text-align: right;\">93,624</td><td style=\"text-align: right;\">7</td><td style=\"text-align: right;\">1868</td><td style=\"text-align: right;\">0.00</td><td style=\"text-align: right;\">1</td><td style=\"text-align: right;\">1.00</td><td style=\"text-align: right;\">0</td><td style=\"text-align: right;\">0.00</td><td style=\"text-align: right;\">0</td><td style=\"text-align: right;\">0.00</td><td style=\"text-align: right;\">0</td><td style=\"text-align: right;\">0.00</td><td style=\"text-align: right;\">0</td><td style=\"text-align: right;\">0.00</td><td style=\"text-align: right;\">1</td><td style=\"text-align: right;\">5.08</td><td style=\"text-align: right;\">0</td><td style=\"text-align: right;\">0.00</td><td style=\"text-align: right;\">0</td><td style=\"text-align: right;\">0.00</td></tr>\n",
       "<tr><td style=\"text-align: right;\">354033</td><td style=\"text-align: right;\">136,588,031</td><td style=\"text-align: right;\">5,647</td><td style=\"text-align: right;\">7</td><td style=\"text-align: right;\">1760</td><td style=\"text-align: right;\">0.00</td><td style=\"text-align: right;\">1</td><td style=\"text-align: right;\">1.00</td><td style=\"text-align: right;\">0</td><td style=\"text-align: right;\">0.00</td><td style=\"text-align: right;\">0</td><td style=\"text-align: right;\">0.00</td><td style=\"text-align: right;\">0</td><td style=\"text-align: right;\">0.00</td><td style=\"text-align: right;\">0</td><td style=\"text-align: right;\">0.00</td><td style=\"text-align: right;\">1</td><td style=\"text-align: right;\">5.08</td><td style=\"text-align: right;\">0</td><td style=\"text-align: right;\">0.00</td><td style=\"text-align: right;\">0</td><td style=\"text-align: right;\">0.00</td></tr>\n",
       "<tr class=\"even\"><td style=\"text-align: right;\">353240</td><td style=\"text-align: right;\">135,757,320</td><td style=\"text-align: right;\">20,184</td><td style=\"text-align: right;\">13</td><td style=\"text-align: right;\">1696</td><td style=\"text-align: right;\">0.00</td><td style=\"text-align: right;\">1</td><td style=\"text-align: right;\">1.00</td><td style=\"text-align: right;\">0</td><td style=\"text-align: right;\">0.00</td><td style=\"text-align: right;\">0</td><td style=\"text-align: right;\">0.00</td><td style=\"text-align: right;\">0</td><td style=\"text-align: right;\">0.00</td><td style=\"text-align: right;\">0</td><td style=\"text-align: right;\">0.00</td><td style=\"text-align: right;\">1</td><td style=\"text-align: right;\">5.08</td><td style=\"text-align: right;\">0</td><td style=\"text-align: right;\">0.00</td><td style=\"text-align: right;\">0</td><td style=\"text-align: right;\">0.00</td></tr>\n",
       "<tr><td style=\"text-align: right;\">353925</td><td style=\"text-align: right;\">136,506,375</td><td style=\"text-align: right;\">32,564</td><td style=\"text-align: right;\">4</td><td style=\"text-align: right;\">1442</td><td style=\"text-align: right;\">0.00</td><td style=\"text-align: right;\">1</td><td style=\"text-align: right;\">1.00</td><td style=\"text-align: right;\">0</td><td style=\"text-align: right;\">0.00</td><td style=\"text-align: right;\">0</td><td style=\"text-align: right;\">0.00</td><td style=\"text-align: right;\">0</td><td style=\"text-align: right;\">0.00</td><td style=\"text-align: right;\">0</td><td style=\"text-align: right;\">0.00</td><td style=\"text-align: right;\">1</td><td style=\"text-align: right;\">5.08</td><td style=\"text-align: right;\">0</td><td style=\"text-align: right;\">0.00</td><td style=\"text-align: right;\">0</td><td style=\"text-align: right;\">0.00</td></tr>\n",
       "<tr class=\"even\"><td style=\"text-align: right;\">353791</td><td style=\"text-align: right;\">136,393,658</td><td style=\"text-align: right;\">92,684</td><td style=\"text-align: right;\">32</td><td style=\"text-align: right;\">1361</td><td style=\"text-align: right;\">0.00</td><td style=\"text-align: right;\">1</td><td style=\"text-align: right;\">1.00</td><td style=\"text-align: right;\">0</td><td style=\"text-align: right;\">0.00</td><td style=\"text-align: right;\">0</td><td style=\"text-align: right;\">0.00</td><td style=\"text-align: right;\">0</td><td style=\"text-align: right;\">0.00</td><td style=\"text-align: right;\">0</td><td style=\"text-align: right;\">0.00</td><td style=\"text-align: right;\">1</td><td style=\"text-align: right;\">5.08</td><td style=\"text-align: right;\">0</td><td style=\"text-align: right;\">0.00</td><td style=\"text-align: right;\">0</td><td style=\"text-align: right;\">0.00</td></tr>\n",
       "<tr><td style=\"text-align: right;\">353958</td><td style=\"text-align: right;\">136,535,876</td><td style=\"text-align: right;\">19,014</td><td style=\"text-align: right;\">7</td><td style=\"text-align: right;\">1303</td><td style=\"text-align: right;\">0.00</td><td style=\"text-align: right;\">1</td><td style=\"text-align: right;\">1.00</td><td style=\"text-align: right;\">0</td><td style=\"text-align: right;\">0.00</td><td style=\"text-align: right;\">0</td><td style=\"text-align: right;\">0.00</td><td style=\"text-align: right;\">0</td><td style=\"text-align: right;\">0.00</td><td style=\"text-align: right;\">0</td><td style=\"text-align: right;\">0.00</td><td style=\"text-align: right;\">1</td><td style=\"text-align: right;\">5.08</td><td style=\"text-align: right;\">0</td><td style=\"text-align: right;\">0.00</td><td style=\"text-align: right;\">0</td><td style=\"text-align: right;\">0.00</td></tr>\n",
       "<tr class=\"even\"><td style=\"text-align: right;\">353919</td><td style=\"text-align: right;\">136,500,475</td><td style=\"text-align: right;\">42,085</td><td style=\"text-align: right;\">13</td><td style=\"text-align: right;\">1227</td><td style=\"text-align: right;\">0.00</td><td style=\"text-align: right;\">1</td><td style=\"text-align: right;\">1.00</td><td style=\"text-align: right;\">0</td><td style=\"text-align: right;\">0.00</td><td style=\"text-align: right;\">0</td><td style=\"text-align: right;\">0.00</td><td style=\"text-align: right;\">0</td><td style=\"text-align: right;\">0.00</td><td style=\"text-align: right;\">0</td><td style=\"text-align: right;\">0.00</td><td style=\"text-align: right;\">1</td><td style=\"text-align: right;\">5.08</td><td style=\"text-align: right;\">0</td><td style=\"text-align: right;\">0.00</td><td style=\"text-align: right;\">0</td><td style=\"text-align: right;\">0.00</td></tr>\n",
       "<tr><td style=\"text-align: right;\">353372</td><td style=\"text-align: right;\">135,829,592</td><td style=\"text-align: right;\">591,316</td><td style=\"text-align: right;\">9</td><td style=\"text-align: right;\">944</td><td style=\"text-align: right;\">0.00</td><td style=\"text-align: right;\">1</td><td style=\"text-align: right;\">1.00</td><td style=\"text-align: right;\">0</td><td style=\"text-align: right;\">0.00</td><td style=\"text-align: right;\">0</td><td style=\"text-align: right;\">0.00</td><td style=\"text-align: right;\">0</td><td style=\"text-align: right;\">0.00</td><td style=\"text-align: right;\">0</td><td style=\"text-align: right;\">0.00</td><td style=\"text-align: right;\">1</td><td style=\"text-align: right;\">5.08</td><td style=\"text-align: right;\">0</td><td style=\"text-align: right;\">0.00</td><td style=\"text-align: right;\">0</td><td style=\"text-align: right;\">0.00</td></tr>\n",
       "<tr class=\"even\"><td style=\"text-align: right;\">353430</td><td style=\"text-align: right;\">135,879,258</td><td style=\"text-align: right;\">516,511</td><td style=\"text-align: right;\">6</td><td style=\"text-align: right;\">54</td><td style=\"text-align: right;\">0.02</td><td style=\"text-align: right;\">1</td><td style=\"text-align: right;\">1.00</td><td style=\"text-align: right;\">0</td><td style=\"text-align: right;\">0.00</td><td style=\"text-align: right;\">0</td><td style=\"text-align: right;\">0.00</td><td style=\"text-align: right;\">0</td><td style=\"text-align: right;\">0.00</td><td style=\"text-align: right;\">0</td><td style=\"text-align: right;\">0.00</td><td style=\"text-align: right;\">1</td><td style=\"text-align: right;\">5.08</td><td style=\"text-align: right;\">0</td><td style=\"text-align: right;\">0.00</td><td style=\"text-align: right;\">0</td><td style=\"text-align: right;\">0.00</td></tr>\n",
       "<tr><td style=\"text-align: right;\">353321</td><td style=\"text-align: right;\">135,789,949</td><td style=\"text-align: right;\">762,462</td><td style=\"text-align: right;\">7</td><td style=\"text-align: right;\">17</td><td style=\"text-align: right;\">0.06</td><td style=\"text-align: right;\">1</td><td style=\"text-align: right;\">1.00</td><td style=\"text-align: right;\">0</td><td style=\"text-align: right;\">0.00</td><td style=\"text-align: right;\">0</td><td style=\"text-align: right;\">0.00</td><td style=\"text-align: right;\">0</td><td style=\"text-align: right;\">0.00</td><td style=\"text-align: right;\">0</td><td style=\"text-align: right;\">0.00</td><td style=\"text-align: right;\">1</td><td style=\"text-align: right;\">5.08</td><td style=\"text-align: right;\">0</td><td style=\"text-align: right;\">0.00</td><td style=\"text-align: right;\">0</td><td style=\"text-align: right;\">0.00</td></tr>\n",
       "</table>"
      ],
      "text/plain": [
       "<IPython.core.display.HTML object>"
      ]
     },
     "execution_count": 8,
     "metadata": {},
     "output_type": "execute_result"
    }
   ],
   "source": [
    "HTML(plt_obj.get_html())"
   ]
  }
 ],
 "metadata": {
  "anaconda-cloud": {},
  "kernelspec": {
   "display_name": "Python [Root]",
   "language": "python",
   "name": "Python [Root]"
  },
  "language_info": {
   "codemirror_mode": {
    "name": "ipython",
    "version": 2
   },
   "file_extension": ".py",
   "mimetype": "text/x-python",
   "name": "python",
   "nbconvert_exporter": "python",
   "pygments_lexer": "ipython2",
   "version": "2.7.12"
  }
 },
 "nbformat": 4,
 "nbformat_minor": 0
}
