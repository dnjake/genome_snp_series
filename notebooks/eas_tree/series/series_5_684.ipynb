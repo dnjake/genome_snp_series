{
 "cells": [
  {
   "cell_type": "code",
   "execution_count": 1,
   "metadata": {
    "collapsed": false
   },
   "outputs": [
    {
     "data": {
      "text/html": []
     },
     "metadata": {},
     "output_type": "display_data"
    },
    {
     "data": {
      "application/javascript": [
       "\n",
       "(function(global) {\n",
       "  function now() {\n",
       "    return new Date();\n",
       "  }\n",
       "\n",
       "  if (typeof (window._bokeh_onload_callbacks) === \"undefined\") {\n",
       "    window._bokeh_onload_callbacks = [];\n",
       "  }\n",
       "\n",
       "  function run_callbacks() {\n",
       "    window._bokeh_onload_callbacks.forEach(function(callback) { callback() });\n",
       "    delete window._bokeh_onload_callbacks\n",
       "    console.info(\"Bokeh: all callbacks have finished\");\n",
       "  }\n",
       "\n",
       "  function load_libs(js_urls, callback) {\n",
       "    window._bokeh_onload_callbacks.push(callback);\n",
       "    if (window._bokeh_is_loading > 0) {\n",
       "      console.log(\"Bokeh: BokehJS is being loaded, scheduling callback at\", now());\n",
       "      return null;\n",
       "    }\n",
       "    if (js_urls == null || js_urls.length === 0) {\n",
       "      run_callbacks();\n",
       "      return null;\n",
       "    }\n",
       "    console.log(\"Bokeh: BokehJS not loaded, scheduling load and callback at\", now());\n",
       "    window._bokeh_is_loading = js_urls.length;\n",
       "    for (var i = 0; i < js_urls.length; i++) {\n",
       "      var url = js_urls[i];\n",
       "      var s = document.createElement('script');\n",
       "      s.src = url;\n",
       "      s.async = false;\n",
       "      s.onreadystatechange = s.onload = function() {\n",
       "        window._bokeh_is_loading--;\n",
       "        if (window._bokeh_is_loading === 0) {\n",
       "          console.log(\"Bokeh: all BokehJS libraries loaded\");\n",
       "          run_callbacks()\n",
       "        }\n",
       "      };\n",
       "      s.onerror = function() {\n",
       "        console.warn(\"failed to load library \" + url);\n",
       "      };\n",
       "      console.log(\"Bokeh: injecting script tag for BokehJS library: \", url);\n",
       "      document.getElementsByTagName(\"head\")[0].appendChild(s);\n",
       "    }\n",
       "  };\n",
       "\n",
       "  var js_urls = ['https://cdn.pydata.org/bokeh/release/bokeh-0.12.0.min.js', 'https://cdn.pydata.org/bokeh/release/bokeh-widgets-0.12.0.min.js', 'https://cdn.pydata.org/bokeh/release/bokeh-compiler-0.12.0.min.js'];\n",
       "\n",
       "  var inline_js = [\n",
       "    function(Bokeh) {\n",
       "      Bokeh.set_log_level(\"info\");\n",
       "    },\n",
       "    \n",
       "    function(Bokeh) {\n",
       "      Bokeh.$(\"#4022f9a5-1046-4e4b-a1d5-fdf4a22a922b\").text(\"BokehJS successfully loaded\");\n",
       "    },\n",
       "    function(Bokeh) {\n",
       "      console.log(\"Bokeh: injecting CSS: https://cdn.pydata.org/bokeh/release/bokeh-0.12.0.min.css\");\n",
       "      Bokeh.embed.inject_css(\"https://cdn.pydata.org/bokeh/release/bokeh-0.12.0.min.css\");\n",
       "      console.log(\"Bokeh: injecting CSS: https://cdn.pydata.org/bokeh/release/bokeh-widgets-0.12.0.min.css\");\n",
       "      Bokeh.embed.inject_css(\"https://cdn.pydata.org/bokeh/release/bokeh-widgets-0.12.0.min.css\");\n",
       "    }\n",
       "  ];\n",
       "\n",
       "  function run_inline_js() {\n",
       "    for (var i = 0; i < inline_js.length; i++) {\n",
       "      inline_js[i](window.Bokeh);\n",
       "    }\n",
       "  }\n",
       "\n",
       "  if (window._bokeh_is_loading === 0) {\n",
       "    console.log(\"Bokeh: BokehJS loaded, going straight to plotting\");\n",
       "    run_inline_js();\n",
       "  } else {\n",
       "    load_libs(js_urls, function() {\n",
       "      console.log(\"Bokeh: BokehJS plotting callback run at\", now());\n",
       "      run_inline_js();\n",
       "    });\n",
       "  }\n",
       "}(this));"
      ]
     },
     "metadata": {},
     "output_type": "display_data"
    }
   ],
   "source": [
    "import numpy as np\n",
    "from IPython.display import HTML\n",
    "from bokeh.plotting import output_notebook, show\n",
    "import genomes_dnj.lct_interval.series_plots as dm\n",
    "import genomes_dnj.lct_interval.anal_series as an\n",
    "import genomes_dnj.lct_interval.series_masks as sm\n",
    "import genomes_dnj.lct_interval_snp_anal.lct_interval_snp_anal as snp_anal\n",
    "from genomes_dnj.lct_interval.bokeh_match_count_plot import snp_match_count_plot_cls as smcp\n",
    "output_notebook(hide_banner=True)\n",
    "sa_5_684 = snp_anal.series_anal_cls(dm.di_5_684, sm.series_data)\n",
    "sa_9_944 = snp_anal.series_anal_cls(dm.di_9_944, sm.series_data)"
   ]
  },
  {
   "cell_type": "markdown",
   "metadata": {},
   "source": [
    "<h3>Series 5_684</h3>\n",
    "<div style=\"width:700px\">\n",
    "<p>\n",
    "This notebook documents the series 5_684 and its 5 SNPs. The 1000 genomes data sample\n",
    "SNP counts for 5_684 are 4214 samples 0 SNPs, 29 samples 1 SNP, 13 samples 2 SNPs, 14 samples 3\n",
    "SNPs, 24 samples 4 SNPs, and 684 samples 5 SNPs.  The 5 SNP series extends over more than\n",
    "416,000 DNA bases.  \n",
    "<p>\n",
    "The 684 samples that express 5_684 include 444 from East Asian populations, 145 from South Asian\n",
    "populations, 63 from American populations, 31 from European populations, and 1 from an African\n",
    "population.\n",
    "<p>\n",
    "The series 5_684 appears to have emerged from the standard EAS tree root that includes the series\n",
    "13_1696, 9_944, 32_1361, and 81_857.  But chromosomes expressing 5_684 have been subject to more\n",
    "extensive recombination events than those for the same region of the EUR or SAS trees.  Only\n",
    "259 of the 684 samples express 81_857.  333 express 64_1575 as a result of recombination\n",
    "events that have associated 64_1575, 10_2206, and 7_1868 from the EUR tree root with 5_684.\n",
    "There are 90 samples that express 4_815 instead of 13_1696 with 5_684 as a result of recombination\n",
    "events with the lower region of the SAS tree.  Another 18 samples have resulted from recombination events\n",
    "that associated 5_1460 from the SAS tree with 5_684.  Those recombination events lost the top 3 SNPs of 9_944.\n",
    "Another 9 samples have resulted from recombination events that associated 5_684 with 26_1414, 64_1575,\n",
    "10_2206, and 7_1868.  Those recombination events also resulted in the loss of the top 3 SNPs of 9_944.\n",
    "</div>"
   ]
  },
  {
   "cell_type": "code",
   "execution_count": 2,
   "metadata": {
    "collapsed": false,
    "scrolled": true
   },
   "outputs": [
    {
     "data": {
      "text/html": [
       "<p>\n",
       "<b>5_684 series</b>\n",
       "</p><p>\n",
       "<table>\n",
       "<thead><tr><th style=\"text-align:center\">index</th><th style=\"text-align:center\">first</th><th style=\"text-align:center\">length</th><th style=\"text-align:center\">snps</th><th style=\"text-align:center\">alleles</th><th style=\"text-align:center\" colspan=2>afr</th><th style=\"text-align:center\" colspan=2>afx</th><th style=\"text-align:center\" colspan=2>amr</th><th style=\"text-align:center\" colspan=2>eas</th><th style=\"text-align:center\" colspan=2>eur</th><th style=\"text-align:center\" colspan=2>sas</th><th style=\"text-align:center\" colspan=2>sax</th></tr></thead>\n",
       "<tr class=\"even\"><td style=\"text-align: right;\">353498</td><td style=\"text-align: right;\">135,959,272</td><td style=\"text-align: right;\">416,583</td><td style=\"text-align: right;\">5</td><td style=\"text-align: right;\">684</td><td style=\"text-align: right;\">0</td><td style=\"text-align: right;\">0.00</td><td style=\"text-align: right;\">1</td><td style=\"text-align: right;\">0.02</td><td style=\"text-align: right;\">63</td><td style=\"text-align: right;\">0.66</td><td style=\"text-align: right;\">444</td><td style=\"text-align: right;\">3.23</td><td style=\"text-align: right;\">31</td><td style=\"text-align: right;\">0.23</td><td style=\"text-align: right;\">49</td><td style=\"text-align: right;\">0.99</td><td style=\"text-align: right;\">96</td><td style=\"text-align: right;\">1.14</td></tr>\n",
       "</table>\n",
       "</p>\n",
       "<p>\n",
       "<b>5_684 series snps</b>\n",
       "</p><p>\n",
       "<table>\n",
       "<thead><tr><th style=\"text-align:center\">index</th><th style=\"text-align:center\">pos</th><th style=\"text-align:center\">id</th><th style=\"text-align:center\">niv</th><th style=\"text-align:center\">alleles</th><th style=\"text-align:center\" colspan=2>afr</th><th style=\"text-align:center\" colspan=2>afx</th><th style=\"text-align:center\" colspan=2>amr</th><th style=\"text-align:center\" colspan=2>eas</th><th style=\"text-align:center\" colspan=2>eur</th><th style=\"text-align:center\" colspan=2>sas</th><th style=\"text-align:center\" colspan=2>sax</th></tr></thead>\n",
       "<tr class=\"even\"><td style=\"text-align: right;\">875999</td><td style=\"text-align: right;\">135,959,272</td><td>rs16831432</td><td>0</td><td style=\"text-align: right;\">754</td><td style=\"text-align: right;\">0</td><td style=\"text-align: right;\">0.00</td><td style=\"text-align: right;\">1</td><td style=\"text-align: right;\">0.02</td><td style=\"text-align: right;\">74</td><td style=\"text-align: right;\">0.71</td><td style=\"text-align: right;\">470</td><td style=\"text-align: right;\">3.10</td><td style=\"text-align: right;\">38</td><td style=\"text-align: right;\">0.25</td><td style=\"text-align: right;\">54</td><td style=\"text-align: right;\">0.99</td><td style=\"text-align: right;\">117</td><td style=\"text-align: right;\">1.27</td></tr>\n",
       "<tr><td style=\"text-align: right;\">877028</td><td style=\"text-align: right;\">136,149,550</td><td>rs2164802</td><td>0</td><td style=\"text-align: right;\">751</td><td style=\"text-align: right;\">0</td><td style=\"text-align: right;\">0.00</td><td style=\"text-align: right;\">1</td><td style=\"text-align: right;\">0.02</td><td style=\"text-align: right;\">74</td><td style=\"text-align: right;\">0.71</td><td style=\"text-align: right;\">469</td><td style=\"text-align: right;\">3.10</td><td style=\"text-align: right;\">38</td><td style=\"text-align: right;\">0.25</td><td style=\"text-align: right;\">53</td><td style=\"text-align: right;\">0.97</td><td style=\"text-align: right;\">116</td><td style=\"text-align: right;\">1.26</td></tr>\n",
       "<tr class=\"even\"><td style=\"text-align: right;\">877139</td><td style=\"text-align: right;\">136,164,840</td><td>rs142484885</td><td>0</td><td style=\"text-align: right;\">739</td><td style=\"text-align: right;\">0</td><td style=\"text-align: right;\">0.00</td><td style=\"text-align: right;\">1</td><td style=\"text-align: right;\">0.02</td><td style=\"text-align: right;\">73</td><td style=\"text-align: right;\">0.71</td><td style=\"text-align: right;\">461</td><td style=\"text-align: right;\">3.10</td><td style=\"text-align: right;\">39</td><td style=\"text-align: right;\">0.26</td><td style=\"text-align: right;\">53</td><td style=\"text-align: right;\">0.99</td><td style=\"text-align: right;\">112</td><td style=\"text-align: right;\">1.24</td></tr>\n",
       "<tr><td style=\"text-align: right;\">877860</td><td style=\"text-align: right;\">136,313,885</td><td>rs79272972</td><td>0</td><td style=\"text-align: right;\">750</td><td style=\"text-align: right;\">0</td><td style=\"text-align: right;\">0.00</td><td style=\"text-align: right;\">1</td><td style=\"text-align: right;\">0.02</td><td style=\"text-align: right;\">73</td><td style=\"text-align: right;\">0.70</td><td style=\"text-align: right;\">468</td><td style=\"text-align: right;\">3.10</td><td style=\"text-align: right;\">39</td><td style=\"text-align: right;\">0.26</td><td style=\"text-align: right;\">53</td><td style=\"text-align: right;\">0.97</td><td style=\"text-align: right;\">116</td><td style=\"text-align: right;\">1.26</td></tr>\n",
       "<tr class=\"even\"><td style=\"text-align: right;\">878107</td><td style=\"text-align: right;\">136,375,855</td><td>rs146396261</td><td>0</td><td style=\"text-align: right;\">739</td><td style=\"text-align: right;\">1</td><td style=\"text-align: right;\">0.01</td><td style=\"text-align: right;\">2</td><td style=\"text-align: right;\">0.04</td><td style=\"text-align: right;\">71</td><td style=\"text-align: right;\">0.69</td><td style=\"text-align: right;\">463</td><td style=\"text-align: right;\">3.11</td><td style=\"text-align: right;\">36</td><td style=\"text-align: right;\">0.24</td><td style=\"text-align: right;\">53</td><td style=\"text-align: right;\">0.99</td><td style=\"text-align: right;\">113</td><td style=\"text-align: right;\">1.25</td></tr>\n",
       "</table>"
      ],
      "text/plain": [
       "<IPython.core.display.HTML object>"
      ]
     },
     "execution_count": 2,
     "metadata": {},
     "output_type": "execute_result"
    }
   ],
   "source": [
    "HTML(dm.series_html(dm.di_5_684))"
   ]
  },
  {
   "cell_type": "code",
   "execution_count": 3,
   "metadata": {
    "collapsed": false
   },
   "outputs": [
    {
     "data": {
      "text/html": [
       "<table>\n",
       "<thead><tr><th style=\"text-align:center\">index</th><th style=\"text-align:center\">first</th><th style=\"text-align:center\">length</th><th style=\"text-align:center\">snps</th><th style=\"text-align:center\" colspan=2>alleles</th><th style=\"text-align:center\" colspan=2>matches</th><th style=\"text-align:center\" colspan=2>afr</th><th style=\"text-align:center\" colspan=2>afx</th><th style=\"text-align:center\" colspan=2>amr</th><th style=\"text-align:center\" colspan=2>eas</th><th style=\"text-align:center\" colspan=2>eur</th><th style=\"text-align:center\" colspan=2>sas</th><th style=\"text-align:center\" colspan=2>sax</th></tr></thead>\n",
       "<tr class=\"even\"><td style=\"text-align: right;\">353921</td><td style=\"text-align: right;\">136,501,840</td><td style=\"text-align: right;\">53,819</td><td style=\"text-align: right;\">10</td><td style=\"text-align: right;\">2206</td><td style=\"text-align: right;\">0.16</td><td style=\"text-align: right;\">351</td><td style=\"text-align: right;\">0.51</td><td style=\"text-align: right;\">0</td><td style=\"text-align: right;\">0.00</td><td style=\"text-align: right;\">1</td><td style=\"text-align: right;\">0.05</td><td style=\"text-align: right;\">19</td><td style=\"text-align: right;\">0.39</td><td style=\"text-align: right;\">246</td><td style=\"text-align: right;\">3.48</td><td style=\"text-align: right;\">6</td><td style=\"text-align: right;\">0.09</td><td style=\"text-align: right;\">24</td><td style=\"text-align: right;\">0.94</td><td style=\"text-align: right;\">55</td><td style=\"text-align: right;\">1.28</td></tr>\n",
       "<tr><td style=\"text-align: right;\">354170</td><td style=\"text-align: right;\">136,682,274</td><td style=\"text-align: right;\">93,624</td><td style=\"text-align: right;\">7</td><td style=\"text-align: right;\">1868</td><td style=\"text-align: right;\">0.18</td><td style=\"text-align: right;\">343</td><td style=\"text-align: right;\">0.50</td><td style=\"text-align: right;\">0</td><td style=\"text-align: right;\">0.00</td><td style=\"text-align: right;\">1</td><td style=\"text-align: right;\">0.05</td><td style=\"text-align: right;\">19</td><td style=\"text-align: right;\">0.40</td><td style=\"text-align: right;\">247</td><td style=\"text-align: right;\">3.58</td><td style=\"text-align: right;\">6</td><td style=\"text-align: right;\">0.09</td><td style=\"text-align: right;\">21</td><td style=\"text-align: right;\">0.84</td><td style=\"text-align: right;\">49</td><td style=\"text-align: right;\">1.17</td></tr>\n",
       "<tr class=\"even\"><td style=\"text-align: right;\">354033</td><td style=\"text-align: right;\">136,588,031</td><td style=\"text-align: right;\">5,647</td><td style=\"text-align: right;\">7</td><td style=\"text-align: right;\">1760</td><td style=\"text-align: right;\">0.16</td><td style=\"text-align: right;\">273</td><td style=\"text-align: right;\">0.40</td><td style=\"text-align: right;\">0</td><td style=\"text-align: right;\">0.00</td><td style=\"text-align: right;\">0</td><td style=\"text-align: right;\">0.00</td><td style=\"text-align: right;\">44</td><td style=\"text-align: right;\">1.16</td><td style=\"text-align: right;\">150</td><td style=\"text-align: right;\">2.73</td><td style=\"text-align: right;\">25</td><td style=\"text-align: right;\">0.46</td><td style=\"text-align: right;\">20</td><td style=\"text-align: right;\">1.01</td><td style=\"text-align: right;\">34</td><td style=\"text-align: right;\">1.02</td></tr>\n",
       "<tr><td style=\"text-align: right;\">353240</td><td style=\"text-align: right;\">135,757,320</td><td style=\"text-align: right;\">20,184</td><td style=\"text-align: right;\">13</td><td style=\"text-align: right;\">1696</td><td style=\"text-align: right;\">0.35</td><td style=\"text-align: right;\">589</td><td style=\"text-align: right;\">0.86</td><td style=\"text-align: right;\">0</td><td style=\"text-align: right;\">0.00</td><td style=\"text-align: right;\">1</td><td style=\"text-align: right;\">0.03</td><td style=\"text-align: right;\">62</td><td style=\"text-align: right;\">0.76</td><td style=\"text-align: right;\">356</td><td style=\"text-align: right;\">3.00</td><td style=\"text-align: right;\">31</td><td style=\"text-align: right;\">0.26</td><td style=\"text-align: right;\">45</td><td style=\"text-align: right;\">1.05</td><td style=\"text-align: right;\">94</td><td style=\"text-align: right;\">1.30</td></tr>\n",
       "<tr class=\"even\"><td style=\"text-align: right;\">353901</td><td style=\"text-align: right;\">136,494,186</td><td style=\"text-align: right;\">271,765</td><td style=\"text-align: right;\">64</td><td style=\"text-align: right;\">1575</td><td style=\"text-align: right;\">0.21</td><td style=\"text-align: right;\">333</td><td style=\"text-align: right;\">0.49</td><td style=\"text-align: right;\">0</td><td style=\"text-align: right;\">0.00</td><td style=\"text-align: right;\">1</td><td style=\"text-align: right;\">0.05</td><td style=\"text-align: right;\">19</td><td style=\"text-align: right;\">0.41</td><td style=\"text-align: right;\">234</td><td style=\"text-align: right;\">3.49</td><td style=\"text-align: right;\">6</td><td style=\"text-align: right;\">0.09</td><td style=\"text-align: right;\">21</td><td style=\"text-align: right;\">0.87</td><td style=\"text-align: right;\">52</td><td style=\"text-align: right;\">1.27</td></tr>\n",
       "<tr><td style=\"text-align: right;\">354130</td><td style=\"text-align: right;\">136,653,925</td><td style=\"text-align: right;\">107,928</td><td style=\"text-align: right;\">24</td><td style=\"text-align: right;\">1504</td><td style=\"text-align: right;\">0.18</td><td style=\"text-align: right;\">272</td><td style=\"text-align: right;\">0.40</td><td style=\"text-align: right;\">0</td><td style=\"text-align: right;\">0.00</td><td style=\"text-align: right;\">0</td><td style=\"text-align: right;\">0.00</td><td style=\"text-align: right;\">44</td><td style=\"text-align: right;\">1.17</td><td style=\"text-align: right;\">148</td><td style=\"text-align: right;\">2.70</td><td style=\"text-align: right;\">25</td><td style=\"text-align: right;\">0.46</td><td style=\"text-align: right;\">21</td><td style=\"text-align: right;\">1.06</td><td style=\"text-align: right;\">34</td><td style=\"text-align: right;\">1.02</td></tr>\n",
       "<tr class=\"even\"><td style=\"text-align: right;\">353814</td><td style=\"text-align: right;\">136,406,646</td><td style=\"text-align: right;\">31,432</td><td style=\"text-align: right;\">5</td><td style=\"text-align: right;\">1460</td><td style=\"text-align: right;\">0.02</td><td style=\"text-align: right;\">29</td><td style=\"text-align: right;\">0.04</td><td style=\"text-align: right;\">0</td><td style=\"text-align: right;\">0.00</td><td style=\"text-align: right;\">0</td><td style=\"text-align: right;\">0.00</td><td style=\"text-align: right;\">0</td><td style=\"text-align: right;\">0.00</td><td style=\"text-align: right;\">18</td><td style=\"text-align: right;\">3.08</td><td style=\"text-align: right;\">0</td><td style=\"text-align: right;\">0.00</td><td style=\"text-align: right;\">3</td><td style=\"text-align: right;\">1.42</td><td style=\"text-align: right;\">8</td><td style=\"text-align: right;\">2.25</td></tr>\n",
       "<tr><td style=\"text-align: right;\">353925</td><td style=\"text-align: right;\">136,506,375</td><td style=\"text-align: right;\">32,564</td><td style=\"text-align: right;\">4</td><td style=\"text-align: right;\">1442</td><td style=\"text-align: right;\">0.21</td><td style=\"text-align: right;\">299</td><td style=\"text-align: right;\">0.44</td><td style=\"text-align: right;\">0</td><td style=\"text-align: right;\">0.00</td><td style=\"text-align: right;\">0</td><td style=\"text-align: right;\">0.00</td><td style=\"text-align: right;\">44</td><td style=\"text-align: right;\">1.06</td><td style=\"text-align: right;\">174</td><td style=\"text-align: right;\">2.89</td><td style=\"text-align: right;\">25</td><td style=\"text-align: right;\">0.42</td><td style=\"text-align: right;\">21</td><td style=\"text-align: right;\">0.97</td><td style=\"text-align: right;\">35</td><td style=\"text-align: right;\">0.95</td></tr>\n",
       "<tr class=\"even\"><td style=\"text-align: right;\">353797</td><td style=\"text-align: right;\">136,398,174</td><td style=\"text-align: right;\">75,924</td><td style=\"text-align: right;\">26</td><td style=\"text-align: right;\">1414</td><td style=\"text-align: right;\">0.01</td><td style=\"text-align: right;\">9</td><td style=\"text-align: right;\">0.01</td><td style=\"text-align: right;\">0</td><td style=\"text-align: right;\">0.00</td><td style=\"text-align: right;\">0</td><td style=\"text-align: right;\">0.00</td><td style=\"text-align: right;\">0</td><td style=\"text-align: right;\">0.00</td><td style=\"text-align: right;\">7</td><td style=\"text-align: right;\">3.86</td><td style=\"text-align: right;\">1</td><td style=\"text-align: right;\">0.55</td><td style=\"text-align: right;\">1</td><td style=\"text-align: right;\">1.53</td><td style=\"text-align: right;\">0</td><td style=\"text-align: right;\">0.00</td></tr>\n",
       "<tr><td style=\"text-align: right;\">353791</td><td style=\"text-align: right;\">136,393,658</td><td style=\"text-align: right;\">92,684</td><td style=\"text-align: right;\">32</td><td style=\"text-align: right;\">1361</td><td style=\"text-align: right;\">0.47</td><td style=\"text-align: right;\">637</td><td style=\"text-align: right;\">0.93</td><td style=\"text-align: right;\">0</td><td style=\"text-align: right;\">0.00</td><td style=\"text-align: right;\">1</td><td style=\"text-align: right;\">0.03</td><td style=\"text-align: right;\">63</td><td style=\"text-align: right;\">0.71</td><td style=\"text-align: right;\">410</td><td style=\"text-align: right;\">3.20</td><td style=\"text-align: right;\">30</td><td style=\"text-align: right;\">0.23</td><td style=\"text-align: right;\">45</td><td style=\"text-align: right;\">0.97</td><td style=\"text-align: right;\">88</td><td style=\"text-align: right;\">1.13</td></tr>\n",
       "<tr class=\"even\"><td style=\"text-align: right;\">353958</td><td style=\"text-align: right;\">136,535,876</td><td style=\"text-align: right;\">19,014</td><td style=\"text-align: right;\">7</td><td style=\"text-align: right;\">1303</td><td style=\"text-align: right;\">0.23</td><td style=\"text-align: right;\">297</td><td style=\"text-align: right;\">0.43</td><td style=\"text-align: right;\">0</td><td style=\"text-align: right;\">0.00</td><td style=\"text-align: right;\">0</td><td style=\"text-align: right;\">0.00</td><td style=\"text-align: right;\">44</td><td style=\"text-align: right;\">1.07</td><td style=\"text-align: right;\">173</td><td style=\"text-align: right;\">2.89</td><td style=\"text-align: right;\">25</td><td style=\"text-align: right;\">0.42</td><td style=\"text-align: right;\">21</td><td style=\"text-align: right;\">0.97</td><td style=\"text-align: right;\">34</td><td style=\"text-align: right;\">0.93</td></tr>\n",
       "<tr><td style=\"text-align: right;\">354129</td><td style=\"text-align: right;\">136,652,953</td><td style=\"text-align: right;\">108,222</td><td style=\"text-align: right;\">5</td><td style=\"text-align: right;\">1296</td><td style=\"text-align: right;\">0.21</td><td style=\"text-align: right;\">269</td><td style=\"text-align: right;\">0.39</td><td style=\"text-align: right;\">0</td><td style=\"text-align: right;\">0.00</td><td style=\"text-align: right;\">0</td><td style=\"text-align: right;\">0.00</td><td style=\"text-align: right;\">44</td><td style=\"text-align: right;\">1.18</td><td style=\"text-align: right;\">147</td><td style=\"text-align: right;\">2.71</td><td style=\"text-align: right;\">25</td><td style=\"text-align: right;\">0.46</td><td style=\"text-align: right;\">20</td><td style=\"text-align: right;\">1.02</td><td style=\"text-align: right;\">33</td><td style=\"text-align: right;\">1.00</td></tr>\n",
       "<tr class=\"even\"><td style=\"text-align: right;\">353919</td><td style=\"text-align: right;\">136,500,475</td><td style=\"text-align: right;\">42,085</td><td style=\"text-align: right;\">13</td><td style=\"text-align: right;\">1227</td><td style=\"text-align: right;\">0.24</td><td style=\"text-align: right;\">297</td><td style=\"text-align: right;\">0.43</td><td style=\"text-align: right;\">0</td><td style=\"text-align: right;\">0.00</td><td style=\"text-align: right;\">0</td><td style=\"text-align: right;\">0.00</td><td style=\"text-align: right;\">43</td><td style=\"text-align: right;\">1.04</td><td style=\"text-align: right;\">174</td><td style=\"text-align: right;\">2.91</td><td style=\"text-align: right;\">25</td><td style=\"text-align: right;\">0.42</td><td style=\"text-align: right;\">21</td><td style=\"text-align: right;\">0.97</td><td style=\"text-align: right;\">34</td><td style=\"text-align: right;\">0.93</td></tr>\n",
       "<tr><td style=\"text-align: right;\">353790</td><td style=\"text-align: right;\">136,393,157</td><td style=\"text-align: right;\">48,253</td><td style=\"text-align: right;\">10</td><td style=\"text-align: right;\">1218</td><td style=\"text-align: right;\">0.01</td><td style=\"text-align: right;\">18</td><td style=\"text-align: right;\">0.03</td><td style=\"text-align: right;\">0</td><td style=\"text-align: right;\">0.00</td><td style=\"text-align: right;\">0</td><td style=\"text-align: right;\">0.00</td><td style=\"text-align: right;\">0</td><td style=\"text-align: right;\">0.00</td><td style=\"text-align: right;\">7</td><td style=\"text-align: right;\">1.93</td><td style=\"text-align: right;\">0</td><td style=\"text-align: right;\">0.00</td><td style=\"text-align: right;\">3</td><td style=\"text-align: right;\">2.29</td><td style=\"text-align: right;\">8</td><td style=\"text-align: right;\">3.63</td></tr>\n",
       "<tr class=\"even\"><td style=\"text-align: right;\">353906</td><td style=\"text-align: right;\">136,496,493</td><td style=\"text-align: right;\">57,432</td><td style=\"text-align: right;\">9</td><td style=\"text-align: right;\">1170</td><td style=\"text-align: right;\">0.03</td><td style=\"text-align: right;\">33</td><td style=\"text-align: right;\">0.05</td><td style=\"text-align: right;\">0</td><td style=\"text-align: right;\">0.00</td><td style=\"text-align: right;\">0</td><td style=\"text-align: right;\">0.00</td><td style=\"text-align: right;\">0</td><td style=\"text-align: right;\">0.00</td><td style=\"text-align: right;\">22</td><td style=\"text-align: right;\">3.31</td><td style=\"text-align: right;\">0</td><td style=\"text-align: right;\">0.00</td><td style=\"text-align: right;\">4</td><td style=\"text-align: right;\">1.67</td><td style=\"text-align: right;\">7</td><td style=\"text-align: right;\">1.73</td></tr>\n",
       "<tr><td style=\"text-align: right;\">353849</td><td style=\"text-align: right;\">136,447,707</td><td style=\"text-align: right;\">42,559</td><td style=\"text-align: right;\">4</td><td style=\"text-align: right;\">1149</td><td style=\"text-align: right;\">0.03</td><td style=\"text-align: right;\">35</td><td style=\"text-align: right;\">0.05</td><td style=\"text-align: right;\">0</td><td style=\"text-align: right;\">0.00</td><td style=\"text-align: right;\">0</td><td style=\"text-align: right;\">0.00</td><td style=\"text-align: right;\">0</td><td style=\"text-align: right;\">0.00</td><td style=\"text-align: right;\">24</td><td style=\"text-align: right;\">3.41</td><td style=\"text-align: right;\">0</td><td style=\"text-align: right;\">0.00</td><td style=\"text-align: right;\">3</td><td style=\"text-align: right;\">1.18</td><td style=\"text-align: right;\">8</td><td style=\"text-align: right;\">1.86</td></tr>\n",
       "<tr class=\"even\"><td style=\"text-align: right;\">354127</td><td style=\"text-align: right;\">136,652,491</td><td style=\"text-align: right;\">80,281</td><td style=\"text-align: right;\">6</td><td style=\"text-align: right;\">1114</td><td style=\"text-align: right;\">0.24</td><td style=\"text-align: right;\">262</td><td style=\"text-align: right;\">0.38</td><td style=\"text-align: right;\">0</td><td style=\"text-align: right;\">0.00</td><td style=\"text-align: right;\">0</td><td style=\"text-align: right;\">0.00</td><td style=\"text-align: right;\">44</td><td style=\"text-align: right;\">1.21</td><td style=\"text-align: right;\">140</td><td style=\"text-align: right;\">2.65</td><td style=\"text-align: right;\">25</td><td style=\"text-align: right;\">0.48</td><td style=\"text-align: right;\">20</td><td style=\"text-align: right;\">1.05</td><td style=\"text-align: right;\">33</td><td style=\"text-align: right;\">1.03</td></tr>\n",
       "<tr><td style=\"text-align: right;\">353907</td><td style=\"text-align: right;\">136,496,805</td><td style=\"text-align: right;\">55,824</td><td style=\"text-align: right;\">9</td><td style=\"text-align: right;\">1023</td><td style=\"text-align: right;\">0.03</td><td style=\"text-align: right;\">33</td><td style=\"text-align: right;\">0.05</td><td style=\"text-align: right;\">0</td><td style=\"text-align: right;\">0.00</td><td style=\"text-align: right;\">0</td><td style=\"text-align: right;\">0.00</td><td style=\"text-align: right;\">0</td><td style=\"text-align: right;\">0.00</td><td style=\"text-align: right;\">22</td><td style=\"text-align: right;\">3.31</td><td style=\"text-align: right;\">0</td><td style=\"text-align: right;\">0.00</td><td style=\"text-align: right;\">4</td><td style=\"text-align: right;\">1.67</td><td style=\"text-align: right;\">7</td><td style=\"text-align: right;\">1.73</td></tr>\n",
       "<tr class=\"even\"><td style=\"text-align: right;\">353984</td><td style=\"text-align: right;\">136,556,805</td><td style=\"text-align: right;\">190,280</td><td style=\"text-align: right;\">39</td><td style=\"text-align: right;\">1014</td><td style=\"text-align: right;\">0.05</td><td style=\"text-align: right;\">46</td><td style=\"text-align: right;\">0.07</td><td style=\"text-align: right;\">0</td><td style=\"text-align: right;\">0.00</td><td style=\"text-align: right;\">0</td><td style=\"text-align: right;\">0.00</td><td style=\"text-align: right;\">0</td><td style=\"text-align: right;\">0.00</td><td style=\"text-align: right;\">34</td><td style=\"text-align: right;\">3.67</td><td style=\"text-align: right;\">0</td><td style=\"text-align: right;\">0.00</td><td style=\"text-align: right;\">5</td><td style=\"text-align: right;\">1.50</td><td style=\"text-align: right;\">7</td><td style=\"text-align: right;\">1.24</td></tr>\n",
       "<tr><td style=\"text-align: right;\">353935</td><td style=\"text-align: right;\">136,511,874</td><td style=\"text-align: right;\">21,321</td><td style=\"text-align: right;\">5</td><td style=\"text-align: right;\">976</td><td style=\"text-align: right;\">0.03</td><td style=\"text-align: right;\">31</td><td style=\"text-align: right;\">0.05</td><td style=\"text-align: right;\">0</td><td style=\"text-align: right;\">0.00</td><td style=\"text-align: right;\">0</td><td style=\"text-align: right;\">0.00</td><td style=\"text-align: right;\">0</td><td style=\"text-align: right;\">0.00</td><td style=\"text-align: right;\">21</td><td style=\"text-align: right;\">3.37</td><td style=\"text-align: right;\">0</td><td style=\"text-align: right;\">0.00</td><td style=\"text-align: right;\">4</td><td style=\"text-align: right;\">1.78</td><td style=\"text-align: right;\">6</td><td style=\"text-align: right;\">1.58</td></tr>\n",
       "<tr class=\"even\"><td style=\"text-align: right;\">353372</td><td style=\"text-align: right;\">135,829,592</td><td style=\"text-align: right;\">591,316</td><td style=\"text-align: right;\">9</td><td style=\"text-align: right;\">944</td><td style=\"text-align: right;\">0.60</td><td style=\"text-align: right;\">562</td><td style=\"text-align: right;\">0.82</td><td style=\"text-align: right;\">0</td><td style=\"text-align: right;\">0.00</td><td style=\"text-align: right;\">1</td><td style=\"text-align: right;\">0.03</td><td style=\"text-align: right;\">62</td><td style=\"text-align: right;\">0.80</td><td style=\"text-align: right;\">342</td><td style=\"text-align: right;\">3.02</td><td style=\"text-align: right;\">30</td><td style=\"text-align: right;\">0.27</td><td style=\"text-align: right;\">41</td><td style=\"text-align: right;\">1.00</td><td style=\"text-align: right;\">86</td><td style=\"text-align: right;\">1.25</td></tr>\n",
       "<tr><td style=\"text-align: right;\">353807</td><td style=\"text-align: right;\">136,403,994</td><td style=\"text-align: right;\">81,102</td><td style=\"text-align: right;\">13</td><td style=\"text-align: right;\">911</td><td style=\"text-align: right;\">0.03</td><td style=\"text-align: right;\">28</td><td style=\"text-align: right;\">0.04</td><td style=\"text-align: right;\">0</td><td style=\"text-align: right;\">0.00</td><td style=\"text-align: right;\">0</td><td style=\"text-align: right;\">0.00</td><td style=\"text-align: right;\">0</td><td style=\"text-align: right;\">0.00</td><td style=\"text-align: right;\">17</td><td style=\"text-align: right;\">3.02</td><td style=\"text-align: right;\">0</td><td style=\"text-align: right;\">0.00</td><td style=\"text-align: right;\">3</td><td style=\"text-align: right;\">1.47</td><td style=\"text-align: right;\">8</td><td style=\"text-align: right;\">2.33</td></tr>\n",
       "<tr class=\"even\"><td style=\"text-align: right;\">353902</td><td style=\"text-align: right;\">136,494,985</td><td style=\"text-align: right;\">278,653</td><td style=\"text-align: right;\">81</td><td style=\"text-align: right;\">857</td><td style=\"text-align: right;\">0.30</td><td style=\"text-align: right;\">259</td><td style=\"text-align: right;\">0.38</td><td style=\"text-align: right;\">0</td><td style=\"text-align: right;\">0.00</td><td style=\"text-align: right;\">0</td><td style=\"text-align: right;\">0.00</td><td style=\"text-align: right;\">44</td><td style=\"text-align: right;\">1.23</td><td style=\"text-align: right;\">137</td><td style=\"text-align: right;\">2.63</td><td style=\"text-align: right;\">25</td><td style=\"text-align: right;\">0.48</td><td style=\"text-align: right;\">20</td><td style=\"text-align: right;\">1.06</td><td style=\"text-align: right;\">33</td><td style=\"text-align: right;\">1.04</td></tr>\n",
       "<tr><td style=\"text-align: right;\">353938</td><td style=\"text-align: right;\">136,514,709</td><td style=\"text-align: right;\">28,438</td><td style=\"text-align: right;\">6</td><td style=\"text-align: right;\">820</td><td style=\"text-align: right;\">0.04</td><td style=\"text-align: right;\">31</td><td style=\"text-align: right;\">0.05</td><td style=\"text-align: right;\">0</td><td style=\"text-align: right;\">0.00</td><td style=\"text-align: right;\">0</td><td style=\"text-align: right;\">0.00</td><td style=\"text-align: right;\">0</td><td style=\"text-align: right;\">0.00</td><td style=\"text-align: right;\">21</td><td style=\"text-align: right;\">3.37</td><td style=\"text-align: right;\">0</td><td style=\"text-align: right;\">0.00</td><td style=\"text-align: right;\">4</td><td style=\"text-align: right;\">1.78</td><td style=\"text-align: right;\">6</td><td style=\"text-align: right;\">1.58</td></tr>\n",
       "<tr class=\"even\"><td style=\"text-align: right;\">353384</td><td style=\"text-align: right;\">135,839,805</td><td style=\"text-align: right;\">84,662</td><td style=\"text-align: right;\">4</td><td style=\"text-align: right;\">815</td><td style=\"text-align: right;\">0.11</td><td style=\"text-align: right;\">90</td><td style=\"text-align: right;\">0.13</td><td style=\"text-align: right;\">0</td><td style=\"text-align: right;\">0.00</td><td style=\"text-align: right;\">0</td><td style=\"text-align: right;\">0.00</td><td style=\"text-align: right;\">0</td><td style=\"text-align: right;\">0.00</td><td style=\"text-align: right;\">84</td><td style=\"text-align: right;\">4.64</td><td style=\"text-align: right;\">0</td><td style=\"text-align: right;\">0.00</td><td style=\"text-align: right;\">4</td><td style=\"text-align: right;\">0.61</td><td style=\"text-align: right;\">2</td><td style=\"text-align: right;\">0.18</td></tr>\n",
       "<tr><td style=\"text-align: right;\">353498</td><td style=\"text-align: right;\">135,959,272</td><td style=\"text-align: right;\">416,583</td><td style=\"text-align: right;\">5</td><td style=\"text-align: right;\">684</td><td style=\"text-align: right;\">1.00</td><td style=\"text-align: right;\">684</td><td style=\"text-align: right;\">1.00</td><td style=\"text-align: right;\">0</td><td style=\"text-align: right;\">0.00</td><td style=\"text-align: right;\">1</td><td style=\"text-align: right;\">0.02</td><td style=\"text-align: right;\">63</td><td style=\"text-align: right;\">0.66</td><td style=\"text-align: right;\">444</td><td style=\"text-align: right;\">3.23</td><td style=\"text-align: right;\">31</td><td style=\"text-align: right;\">0.23</td><td style=\"text-align: right;\">49</td><td style=\"text-align: right;\">0.99</td><td style=\"text-align: right;\">96</td><td style=\"text-align: right;\">1.14</td></tr>\n",
       "<tr class=\"even\"><td style=\"text-align: right;\">354061</td><td style=\"text-align: right;\">136,603,638</td><td style=\"text-align: right;\">28,487</td><td style=\"text-align: right;\">16</td><td style=\"text-align: right;\">511</td><td style=\"text-align: right;\">0.01</td><td style=\"text-align: right;\">3</td><td style=\"text-align: right;\">0.00</td><td style=\"text-align: right;\">0</td><td style=\"text-align: right;\">0.00</td><td style=\"text-align: right;\">0</td><td style=\"text-align: right;\">0.00</td><td style=\"text-align: right;\">0</td><td style=\"text-align: right;\">0.00</td><td style=\"text-align: right;\">3</td><td style=\"text-align: right;\">4.97</td><td style=\"text-align: right;\">0</td><td style=\"text-align: right;\">0.00</td><td style=\"text-align: right;\">0</td><td style=\"text-align: right;\">0.00</td><td style=\"text-align: right;\">0</td><td style=\"text-align: right;\">0.00</td></tr>\n",
       "<tr><td style=\"text-align: right;\">353904</td><td style=\"text-align: right;\">136,495,815</td><td style=\"text-align: right;\">46,924</td><td style=\"text-align: right;\">9</td><td style=\"text-align: right;\">378</td><td style=\"text-align: right;\">0.00</td><td style=\"text-align: right;\">1</td><td style=\"text-align: right;\">0.00</td><td style=\"text-align: right;\">0</td><td style=\"text-align: right;\">0.00</td><td style=\"text-align: right;\">0</td><td style=\"text-align: right;\">0.00</td><td style=\"text-align: right;\">0</td><td style=\"text-align: right;\">0.00</td><td style=\"text-align: right;\">0</td><td style=\"text-align: right;\">0.00</td><td style=\"text-align: right;\">0</td><td style=\"text-align: right;\">0.00</td><td style=\"text-align: right;\">0</td><td style=\"text-align: right;\">0.00</td><td style=\"text-align: right;\">1</td><td style=\"text-align: right;\">8.16</td></tr>\n",
       "<tr class=\"even\"><td style=\"text-align: right;\">354064</td><td style=\"text-align: right;\">136,605,402</td><td style=\"text-align: right;\">19,284</td><td style=\"text-align: right;\">8</td><td style=\"text-align: right;\">328</td><td style=\"text-align: right;\">0.01</td><td style=\"text-align: right;\">3</td><td style=\"text-align: right;\">0.00</td><td style=\"text-align: right;\">0</td><td style=\"text-align: right;\">0.00</td><td style=\"text-align: right;\">0</td><td style=\"text-align: right;\">0.00</td><td style=\"text-align: right;\">0</td><td style=\"text-align: right;\">0.00</td><td style=\"text-align: right;\">3</td><td style=\"text-align: right;\">4.97</td><td style=\"text-align: right;\">0</td><td style=\"text-align: right;\">0.00</td><td style=\"text-align: right;\">0</td><td style=\"text-align: right;\">0.00</td><td style=\"text-align: right;\">0</td><td style=\"text-align: right;\">0.00</td></tr>\n",
       "<tr><td style=\"text-align: right;\">354189</td><td style=\"text-align: right;\">136,704,466</td><td style=\"text-align: right;\">27,748</td><td style=\"text-align: right;\">5</td><td style=\"text-align: right;\">212</td><td style=\"text-align: right;\">0.01</td><td style=\"text-align: right;\">3</td><td style=\"text-align: right;\">0.00</td><td style=\"text-align: right;\">0</td><td style=\"text-align: right;\">0.00</td><td style=\"text-align: right;\">0</td><td style=\"text-align: right;\">0.00</td><td style=\"text-align: right;\">0</td><td style=\"text-align: right;\">0.00</td><td style=\"text-align: right;\">1</td><td style=\"text-align: right;\">1.66</td><td style=\"text-align: right;\">0</td><td style=\"text-align: right;\">0.00</td><td style=\"text-align: right;\">1</td><td style=\"text-align: right;\">4.59</td><td style=\"text-align: right;\">1</td><td style=\"text-align: right;\">2.72</td></tr>\n",
       "<tr class=\"even\"><td style=\"text-align: right;\">354123</td><td style=\"text-align: right;\">136,651,773</td><td style=\"text-align: right;\">122,854</td><td style=\"text-align: right;\">51</td><td style=\"text-align: right;\">176</td><td style=\"text-align: right;\">0.04</td><td style=\"text-align: right;\">7</td><td style=\"text-align: right;\">0.01</td><td style=\"text-align: right;\">0</td><td style=\"text-align: right;\">0.00</td><td style=\"text-align: right;\">0</td><td style=\"text-align: right;\">0.00</td><td style=\"text-align: right;\">0</td><td style=\"text-align: right;\">0.00</td><td style=\"text-align: right;\">7</td><td style=\"text-align: right;\">4.97</td><td style=\"text-align: right;\">0</td><td style=\"text-align: right;\">0.00</td><td style=\"text-align: right;\">0</td><td style=\"text-align: right;\">0.00</td><td style=\"text-align: right;\">0</td><td style=\"text-align: right;\">0.00</td></tr>\n",
       "<tr><td style=\"text-align: right;\">354181</td><td style=\"text-align: right;\">136,696,010</td><td style=\"text-align: right;\">68,554</td><td style=\"text-align: right;\">18</td><td style=\"text-align: right;\">172</td><td style=\"text-align: right;\">0.02</td><td style=\"text-align: right;\">3</td><td style=\"text-align: right;\">0.00</td><td style=\"text-align: right;\">0</td><td style=\"text-align: right;\">0.00</td><td style=\"text-align: right;\">0</td><td style=\"text-align: right;\">0.00</td><td style=\"text-align: right;\">0</td><td style=\"text-align: right;\">0.00</td><td style=\"text-align: right;\">1</td><td style=\"text-align: right;\">1.66</td><td style=\"text-align: right;\">0</td><td style=\"text-align: right;\">0.00</td><td style=\"text-align: right;\">1</td><td style=\"text-align: right;\">4.59</td><td style=\"text-align: right;\">1</td><td style=\"text-align: right;\">2.72</td></tr>\n",
       "<tr class=\"even\"><td style=\"text-align: right;\">354143</td><td style=\"text-align: right;\">136,658,238</td><td style=\"text-align: right;\">19,681</td><td style=\"text-align: right;\">6</td><td style=\"text-align: right;\">167</td><td style=\"text-align: right;\">0.02</td><td style=\"text-align: right;\">3</td><td style=\"text-align: right;\">0.00</td><td style=\"text-align: right;\">0</td><td style=\"text-align: right;\">0.00</td><td style=\"text-align: right;\">0</td><td style=\"text-align: right;\">0.00</td><td style=\"text-align: right;\">0</td><td style=\"text-align: right;\">0.00</td><td style=\"text-align: right;\">1</td><td style=\"text-align: right;\">1.66</td><td style=\"text-align: right;\">0</td><td style=\"text-align: right;\">0.00</td><td style=\"text-align: right;\">1</td><td style=\"text-align: right;\">4.59</td><td style=\"text-align: right;\">1</td><td style=\"text-align: right;\">2.72</td></tr>\n",
       "<tr><td style=\"text-align: right;\">354051</td><td style=\"text-align: right;\">136,596,162</td><td style=\"text-align: right;\">189,567</td><td style=\"text-align: right;\">17</td><td style=\"text-align: right;\">137</td><td style=\"text-align: right;\">0.02</td><td style=\"text-align: right;\">3</td><td style=\"text-align: right;\">0.00</td><td style=\"text-align: right;\">0</td><td style=\"text-align: right;\">0.00</td><td style=\"text-align: right;\">0</td><td style=\"text-align: right;\">0.00</td><td style=\"text-align: right;\">0</td><td style=\"text-align: right;\">0.00</td><td style=\"text-align: right;\">3</td><td style=\"text-align: right;\">4.97</td><td style=\"text-align: right;\">0</td><td style=\"text-align: right;\">0.00</td><td style=\"text-align: right;\">0</td><td style=\"text-align: right;\">0.00</td><td style=\"text-align: right;\">0</td><td style=\"text-align: right;\">0.00</td></tr>\n",
       "<tr class=\"even\"><td style=\"text-align: right;\">354156</td><td style=\"text-align: right;\">136,666,402</td><td style=\"text-align: right;\">102,253</td><td style=\"text-align: right;\">17</td><td style=\"text-align: right;\">121</td><td style=\"text-align: right;\">0.02</td><td style=\"text-align: right;\">3</td><td style=\"text-align: right;\">0.00</td><td style=\"text-align: right;\">0</td><td style=\"text-align: right;\">0.00</td><td style=\"text-align: right;\">0</td><td style=\"text-align: right;\">0.00</td><td style=\"text-align: right;\">0</td><td style=\"text-align: right;\">0.00</td><td style=\"text-align: right;\">1</td><td style=\"text-align: right;\">1.66</td><td style=\"text-align: right;\">0</td><td style=\"text-align: right;\">0.00</td><td style=\"text-align: right;\">1</td><td style=\"text-align: right;\">4.59</td><td style=\"text-align: right;\">1</td><td style=\"text-align: right;\">2.72</td></tr>\n",
       "<tr><td style=\"text-align: right;\">353908</td><td style=\"text-align: right;\">136,496,845</td><td style=\"text-align: right;\">54,025</td><td style=\"text-align: right;\">6</td><td style=\"text-align: right;\">99</td><td style=\"text-align: right;\">0.01</td><td style=\"text-align: right;\">1</td><td style=\"text-align: right;\">0.00</td><td style=\"text-align: right;\">0</td><td style=\"text-align: right;\">0.00</td><td style=\"text-align: right;\">0</td><td style=\"text-align: right;\">0.00</td><td style=\"text-align: right;\">0</td><td style=\"text-align: right;\">0.00</td><td style=\"text-align: right;\">0</td><td style=\"text-align: right;\">0.00</td><td style=\"text-align: right;\">0</td><td style=\"text-align: right;\">0.00</td><td style=\"text-align: right;\">0</td><td style=\"text-align: right;\">0.00</td><td style=\"text-align: right;\">1</td><td style=\"text-align: right;\">8.16</td></tr>\n",
       "<tr class=\"even\"><td style=\"text-align: right;\">353485</td><td style=\"text-align: right;\">135,942,182</td><td style=\"text-align: right;\">432,560</td><td style=\"text-align: right;\">4</td><td style=\"text-align: right;\">67</td><td style=\"text-align: right;\">0.99</td><td style=\"text-align: right;\">66</td><td style=\"text-align: right;\">0.10</td><td style=\"text-align: right;\">0</td><td style=\"text-align: right;\">0.00</td><td style=\"text-align: right;\">0</td><td style=\"text-align: right;\">0.00</td><td style=\"text-align: right;\">0</td><td style=\"text-align: right;\">0.00</td><td style=\"text-align: right;\">65</td><td style=\"text-align: right;\">4.89</td><td style=\"text-align: right;\">0</td><td style=\"text-align: right;\">0.00</td><td style=\"text-align: right;\">1</td><td style=\"text-align: right;\">0.21</td><td style=\"text-align: right;\">0</td><td style=\"text-align: right;\">0.00</td></tr>\n",
       "<tr><td style=\"text-align: right;\">353917</td><td style=\"text-align: right;\">136,499,236</td><td style=\"text-align: right;\">176,092</td><td style=\"text-align: right;\">7</td><td style=\"text-align: right;\">59</td><td style=\"text-align: right;\">0.73</td><td style=\"text-align: right;\">43</td><td style=\"text-align: right;\">0.06</td><td style=\"text-align: right;\">0</td><td style=\"text-align: right;\">0.00</td><td style=\"text-align: right;\">0</td><td style=\"text-align: right;\">0.00</td><td style=\"text-align: right;\">16</td><td style=\"text-align: right;\">2.69</td><td style=\"text-align: right;\">0</td><td style=\"text-align: right;\">0.00</td><td style=\"text-align: right;\">20</td><td style=\"text-align: right;\">2.32</td><td style=\"text-align: right;\">2</td><td style=\"text-align: right;\">0.64</td><td style=\"text-align: right;\">5</td><td style=\"text-align: right;\">0.95</td></tr>\n",
       "<tr class=\"even\"><td style=\"text-align: right;\">353809</td><td style=\"text-align: right;\">136,404,524</td><td style=\"text-align: right;\">150,033</td><td style=\"text-align: right;\">15</td><td style=\"text-align: right;\">59</td><td style=\"text-align: right;\">0.02</td><td style=\"text-align: right;\">1</td><td style=\"text-align: right;\">0.00</td><td style=\"text-align: right;\">0</td><td style=\"text-align: right;\">0.00</td><td style=\"text-align: right;\">0</td><td style=\"text-align: right;\">0.00</td><td style=\"text-align: right;\">0</td><td style=\"text-align: right;\">0.00</td><td style=\"text-align: right;\">0</td><td style=\"text-align: right;\">0.00</td><td style=\"text-align: right;\">0</td><td style=\"text-align: right;\">0.00</td><td style=\"text-align: right;\">0</td><td style=\"text-align: right;\">0.00</td><td style=\"text-align: right;\">1</td><td style=\"text-align: right;\">8.16</td></tr>\n",
       "<tr><td style=\"text-align: right;\">353987</td><td style=\"text-align: right;\">136,560,126</td><td style=\"text-align: right;\">181,954</td><td style=\"text-align: right;\">4</td><td style=\"text-align: right;\">57</td><td style=\"text-align: right;\">0.02</td><td style=\"text-align: right;\">1</td><td style=\"text-align: right;\">0.00</td><td style=\"text-align: right;\">0</td><td style=\"text-align: right;\">0.00</td><td style=\"text-align: right;\">0</td><td style=\"text-align: right;\">0.00</td><td style=\"text-align: right;\">0</td><td style=\"text-align: right;\">0.00</td><td style=\"text-align: right;\">0</td><td style=\"text-align: right;\">0.00</td><td style=\"text-align: right;\">0</td><td style=\"text-align: right;\">0.00</td><td style=\"text-align: right;\">0</td><td style=\"text-align: right;\">0.00</td><td style=\"text-align: right;\">1</td><td style=\"text-align: right;\">8.16</td></tr>\n",
       "<tr class=\"even\"><td style=\"text-align: right;\">354133</td><td style=\"text-align: right;\">136,654,760</td><td style=\"text-align: right;\">116,007</td><td style=\"text-align: right;\">20</td><td style=\"text-align: right;\">56</td><td style=\"text-align: right;\">0.05</td><td style=\"text-align: right;\">3</td><td style=\"text-align: right;\">0.00</td><td style=\"text-align: right;\">0</td><td style=\"text-align: right;\">0.00</td><td style=\"text-align: right;\">0</td><td style=\"text-align: right;\">0.00</td><td style=\"text-align: right;\">0</td><td style=\"text-align: right;\">0.00</td><td style=\"text-align: right;\">1</td><td style=\"text-align: right;\">1.66</td><td style=\"text-align: right;\">0</td><td style=\"text-align: right;\">0.00</td><td style=\"text-align: right;\">1</td><td style=\"text-align: right;\">4.59</td><td style=\"text-align: right;\">1</td><td style=\"text-align: right;\">2.72</td></tr>\n",
       "<tr><td style=\"text-align: right;\">353554</td><td style=\"text-align: right;\">136,021,814</td><td style=\"text-align: right;\">347,522</td><td style=\"text-align: right;\">5</td><td style=\"text-align: right;\">47</td><td style=\"text-align: right;\">0.94</td><td style=\"text-align: right;\">44</td><td style=\"text-align: right;\">0.06</td><td style=\"text-align: right;\">0</td><td style=\"text-align: right;\">0.00</td><td style=\"text-align: right;\">0</td><td style=\"text-align: right;\">0.00</td><td style=\"text-align: right;\">0</td><td style=\"text-align: right;\">0.00</td><td style=\"text-align: right;\">40</td><td style=\"text-align: right;\">4.52</td><td style=\"text-align: right;\">0</td><td style=\"text-align: right;\">0.00</td><td style=\"text-align: right;\">3</td><td style=\"text-align: right;\">0.94</td><td style=\"text-align: right;\">1</td><td style=\"text-align: right;\">0.19</td></tr>\n",
       "<tr class=\"even\"><td style=\"text-align: right;\">353394</td><td style=\"text-align: right;\">135,845,676</td><td style=\"text-align: right;\">641,900</td><td style=\"text-align: right;\">14</td><td style=\"text-align: right;\">43</td><td style=\"text-align: right;\">0.88</td><td style=\"text-align: right;\">38</td><td style=\"text-align: right;\">0.06</td><td style=\"text-align: right;\">0</td><td style=\"text-align: right;\">0.00</td><td style=\"text-align: right;\">0</td><td style=\"text-align: right;\">0.00</td><td style=\"text-align: right;\">13</td><td style=\"text-align: right;\">2.47</td><td style=\"text-align: right;\">0</td><td style=\"text-align: right;\">0.00</td><td style=\"text-align: right;\">19</td><td style=\"text-align: right;\">2.49</td><td style=\"text-align: right;\">2</td><td style=\"text-align: right;\">0.72</td><td style=\"text-align: right;\">4</td><td style=\"text-align: right;\">0.86</td></tr>\n",
       "<tr><td style=\"text-align: right;\">353635</td><td style=\"text-align: right;\">136,151,572</td><td style=\"text-align: right;\">121,118</td><td style=\"text-align: right;\">4</td><td style=\"text-align: right;\">37</td><td style=\"text-align: right;\">0.70</td><td style=\"text-align: right;\">26</td><td style=\"text-align: right;\">0.04</td><td style=\"text-align: right;\">0</td><td style=\"text-align: right;\">0.00</td><td style=\"text-align: right;\">0</td><td style=\"text-align: right;\">0.00</td><td style=\"text-align: right;\">3</td><td style=\"text-align: right;\">0.83</td><td style=\"text-align: right;\">0</td><td style=\"text-align: right;\">0.00</td><td style=\"text-align: right;\">4</td><td style=\"text-align: right;\">0.77</td><td style=\"text-align: right;\">9</td><td style=\"text-align: right;\">4.76</td><td style=\"text-align: right;\">10</td><td style=\"text-align: right;\">3.14</td></tr>\n",
       "<tr class=\"even\"><td style=\"text-align: right;\">353308</td><td style=\"text-align: right;\">135,782,087</td><td style=\"text-align: right;\">144,668</td><td style=\"text-align: right;\">4</td><td style=\"text-align: right;\">34</td><td style=\"text-align: right;\">0.71</td><td style=\"text-align: right;\">24</td><td style=\"text-align: right;\">0.04</td><td style=\"text-align: right;\">0</td><td style=\"text-align: right;\">0.00</td><td style=\"text-align: right;\">0</td><td style=\"text-align: right;\">0.00</td><td style=\"text-align: right;\">2</td><td style=\"text-align: right;\">0.60</td><td style=\"text-align: right;\">0</td><td style=\"text-align: right;\">0.00</td><td style=\"text-align: right;\">4</td><td style=\"text-align: right;\">0.83</td><td style=\"text-align: right;\">10</td><td style=\"text-align: right;\">5.73</td><td style=\"text-align: right;\">8</td><td style=\"text-align: right;\">2.72</td></tr>\n",
       "<tr><td style=\"text-align: right;\">353998</td><td style=\"text-align: right;\">136,568,458</td><td style=\"text-align: right;\">22,850</td><td style=\"text-align: right;\">5</td><td style=\"text-align: right;\">28</td><td style=\"text-align: right;\">0.04</td><td style=\"text-align: right;\">1</td><td style=\"text-align: right;\">0.00</td><td style=\"text-align: right;\">0</td><td style=\"text-align: right;\">0.00</td><td style=\"text-align: right;\">0</td><td style=\"text-align: right;\">0.00</td><td style=\"text-align: right;\">0</td><td style=\"text-align: right;\">0.00</td><td style=\"text-align: right;\">0</td><td style=\"text-align: right;\">0.00</td><td style=\"text-align: right;\">0</td><td style=\"text-align: right;\">0.00</td><td style=\"text-align: right;\">1</td><td style=\"text-align: right;\">13.76</td><td style=\"text-align: right;\">0</td><td style=\"text-align: right;\">0.00</td></tr>\n",
       "<tr class=\"even\"><td style=\"text-align: right;\">354176</td><td style=\"text-align: right;\">136,687,844</td><td style=\"text-align: right;\">21,965</td><td style=\"text-align: right;\">4</td><td style=\"text-align: right;\">25</td><td style=\"text-align: right;\">0.88</td><td style=\"text-align: right;\">22</td><td style=\"text-align: right;\">0.03</td><td style=\"text-align: right;\">0</td><td style=\"text-align: right;\">0.00</td><td style=\"text-align: right;\">0</td><td style=\"text-align: right;\">0.00</td><td style=\"text-align: right;\">0</td><td style=\"text-align: right;\">0.00</td><td style=\"text-align: right;\">22</td><td style=\"text-align: right;\">4.97</td><td style=\"text-align: right;\">0</td><td style=\"text-align: right;\">0.00</td><td style=\"text-align: right;\">0</td><td style=\"text-align: right;\">0.00</td><td style=\"text-align: right;\">0</td><td style=\"text-align: right;\">0.00</td></tr>\n",
       "<tr><td style=\"text-align: right;\">354147</td><td style=\"text-align: right;\">136,658,865</td><td style=\"text-align: right;\">61,008</td><td style=\"text-align: right;\">6</td><td style=\"text-align: right;\">25</td><td style=\"text-align: right;\">0.08</td><td style=\"text-align: right;\">2</td><td style=\"text-align: right;\">0.00</td><td style=\"text-align: right;\">0</td><td style=\"text-align: right;\">0.00</td><td style=\"text-align: right;\">0</td><td style=\"text-align: right;\">0.00</td><td style=\"text-align: right;\">0</td><td style=\"text-align: right;\">0.00</td><td style=\"text-align: right;\">0</td><td style=\"text-align: right;\">0.00</td><td style=\"text-align: right;\">0</td><td style=\"text-align: right;\">0.00</td><td style=\"text-align: right;\">0</td><td style=\"text-align: right;\">0.00</td><td style=\"text-align: right;\">2</td><td style=\"text-align: right;\">8.16</td></tr>\n",
       "<tr class=\"even\"><td style=\"text-align: right;\">354047</td><td style=\"text-align: right;\">136,595,044</td><td style=\"text-align: right;\">44,512</td><td style=\"text-align: right;\">15</td><td style=\"text-align: right;\">25</td><td style=\"text-align: right;\">0.04</td><td style=\"text-align: right;\">1</td><td style=\"text-align: right;\">0.00</td><td style=\"text-align: right;\">0</td><td style=\"text-align: right;\">0.00</td><td style=\"text-align: right;\">0</td><td style=\"text-align: right;\">0.00</td><td style=\"text-align: right;\">0</td><td style=\"text-align: right;\">0.00</td><td style=\"text-align: right;\">0</td><td style=\"text-align: right;\">0.00</td><td style=\"text-align: right;\">0</td><td style=\"text-align: right;\">0.00</td><td style=\"text-align: right;\">1</td><td style=\"text-align: right;\">13.76</td><td style=\"text-align: right;\">0</td><td style=\"text-align: right;\">0.00</td></tr>\n",
       "</table>"
      ],
      "text/plain": [
       "<IPython.core.display.HTML object>"
      ]
     },
     "execution_count": 3,
     "metadata": {},
     "output_type": "execute_result"
    }
   ],
   "source": [
    "plt_obj = dm.superset_yes_no([dm.di_5_684], min_match=0.001)\n",
    "plt_obj.do_plot()\n",
    "HTML(plt_obj.get_html())"
   ]
  },
  {
   "cell_type": "code",
   "execution_count": 4,
   "metadata": {
    "collapsed": false
   },
   "outputs": [
    {
     "data": {
      "text/plain": [
       "array([(0, 4214), (1, 29), (2, 13), (3, 14), (4, 54), (5, 684)], \n",
       "      dtype=[('count', '<u2'), ('snps', '<u2')])"
      ]
     },
     "execution_count": 4,
     "metadata": {},
     "output_type": "execute_result"
    }
   ],
   "source": [
    "count_data = an.sa_5_684.unique_snps_per_allele()\n",
    "count_data"
   ]
  },
  {
   "cell_type": "code",
   "execution_count": 5,
   "metadata": {
    "collapsed": true
   },
   "outputs": [],
   "source": [
    "am_5_684_4_815 = dm.and_allele_mask([dm.di_5_684, dm.di_4_815])"
   ]
  },
  {
   "cell_type": "code",
   "execution_count": 6,
   "metadata": {
    "collapsed": false
   },
   "outputs": [
    {
     "data": {
      "text/plain": [
       "array([89, 89, 90, 90, 90, 90, 90, 90, 90, 90, 89, 90, 90, 90, 90, 90, 90,\n",
       "       90, 89, 89, 90, 90, 90, 90, 90, 90, 90, 90, 89, 90, 90, 90, 90, 90,\n",
       "       90, 90, 90, 90, 90, 90, 90, 90, 90, 90, 90, 90, 90, 90, 90, 90, 90,\n",
       "       90, 90, 90, 89, 90, 90, 90, 90, 90, 90, 90, 90, 90, 90, 90, 90, 90,\n",
       "       90, 90, 90, 90, 90, 90, 90, 90, 90, 90, 90, 90, 90, 90, 90, 90, 90,\n",
       "       90, 90, 90, 90, 90, 90, 90, 90, 90, 90, 89,  0,  0,  0,  0,  2,  0,\n",
       "        0,  0,  0,  0,  0,  0,  0,  0,  0,  0,  0,  2,  0,  0,  0])"
      ]
     },
     "execution_count": 6,
     "metadata": {},
     "output_type": "execute_result"
    }
   ],
   "source": [
    "an.sa_117_1685.alleles_per_snp(am_5_684_4_815)"
   ]
  },
  {
   "cell_type": "code",
   "execution_count": 7,
   "metadata": {
    "collapsed": false
   },
   "outputs": [
    {
     "data": {
      "text/plain": [
       "array([89, 89,  0,  0,  0,  0,  0,  0,  0,  0,  0,  0,  2,  0,  0,  0,  0,\n",
       "        0,  0,  0,  0,  0,  0,  0,  0,  0,  0,  0,  0,  0,  0,  0,  0,  0,\n",
       "        0,  0,  0,  0,  0,  0,  0,  0,  0,  0,  0,  0,  0,  0,  0,  0,  0,\n",
       "        0,  0,  0,  0,  0,  0,  0,  0,  0,  0,  0,  0,  0,  0,  0,  0,  0,\n",
       "        0,  0,  0,  0,  0,  0,  0,  0,  0,  0,  0,  0,  0,  0,  0,  0,  0,\n",
       "        0,  0,  0,  0,  0,  0,  0,  0,  0,  0,  0,  0,  0,  0,  0,  0,  0,\n",
       "        0,  0,  0,  0,  0,  0,  0,  0,  0,  0,  0,  0,  0,  0,  0,  0,  0,\n",
       "        0,  0,  0,  0])"
      ]
     },
     "execution_count": 7,
     "metadata": {},
     "output_type": "execute_result"
    }
   ],
   "source": [
    "an.sa_123_1561.alleles_per_snp(am_5_684_4_815)"
   ]
  },
  {
   "cell_type": "code",
   "execution_count": 8,
   "metadata": {
    "collapsed": false
   },
   "outputs": [
    {
     "data": {
      "text/plain": [
       "array([88, 89, 89, 90, 90, 89, 89, 89,  0,  0,  0,  0,  0,  0,  0,  0,  0,\n",
       "        0,  0,  0,  0,  0,  2,  0,  0,  0,  0,  0,  0,  0,  0,  0,  0,  0,\n",
       "        0,  0,  0,  0,  0,  0,  0,  0,  0,  0,  0,  0,  0,  0,  0,  0,  0,\n",
       "        0,  0,  0,  0,  0,  0,  0,  0,  0,  0,  0])"
      ]
     },
     "execution_count": 8,
     "metadata": {},
     "output_type": "execute_result"
    }
   ],
   "source": [
    "an.sa_62_1265.alleles_per_snp(am_5_684_4_815)"
   ]
  },
  {
   "cell_type": "code",
   "execution_count": 9,
   "metadata": {
    "collapsed": false
   },
   "outputs": [
    {
     "data": {
      "text/plain": [
       "array([89, 89, 89, 89, 89, 89, 90, 90, 90, 90, 90, 90, 90, 90, 90, 90, 90,\n",
       "       90, 90, 90, 90, 90, 90, 90, 90, 90, 90, 90, 89,  0,  0,  0,  0,  0,\n",
       "        0,  0,  0,  0,  0,  0,  0,  0,  0,  0,  0,  0,  0,  0,  0,  0,  0,\n",
       "        0,  1,  0,  0,  0,  0,  0,  0,  0,  0,  0,  0,  0,  0,  0,  0,  0,\n",
       "        0,  0,  0,  0,  0,  0,  0,  0,  0,  0,  0,  0,  0,  0,  0,  0,  0,\n",
       "        0,  0,  0,  0,  0,  0,  0,  0,  0,  0,  0,  0,  0,  0,  0,  0,  0,\n",
       "        0,  0,  0,  0,  0,  0,  0,  0,  0,  0,  0,  0,  0,  0,  0,  0,  0,\n",
       "        0,  0,  0,  0,  0,  0,  0,  0,  0,  0,  0,  0,  0,  0,  0,  0,  0,\n",
       "        0,  0,  0,  0,  0,  0,  0,  0,  0,  0,  0,  0,  0,  0,  0,  0,  0,\n",
       "        0,  0,  0,  0,  0,  0,  0,  0,  0,  0,  0,  0,  0,  0,  0,  0,  0,\n",
       "        0,  0,  0,  0,  0,  0,  0,  0,  0,  0,  0,  0,  0,  0,  0,  0,  0,\n",
       "        0,  0,  0,  0,  0,  0])"
      ]
     },
     "execution_count": 9,
     "metadata": {},
     "output_type": "execute_result"
    }
   ],
   "source": [
    "an.sa_193_843.alleles_per_snp(am_5_684_4_815)"
   ]
  },
  {
   "cell_type": "code",
   "execution_count": 10,
   "metadata": {
    "collapsed": false
   },
   "outputs": [
    {
     "data": {
      "text/plain": [
       "array([ 0,  0, 90, 90, 90, 90, 90, 79, 79])"
      ]
     },
     "execution_count": 10,
     "metadata": {},
     "output_type": "execute_result"
    }
   ],
   "source": [
    "an.sa_9_944.alleles_per_snp(am_5_684_4_815)"
   ]
  },
  {
   "cell_type": "code",
   "execution_count": 11,
   "metadata": {
    "collapsed": false
   },
   "outputs": [
    {
     "data": {
      "text/plain": [
       "array([90, 90, 90, 90, 90])"
      ]
     },
     "execution_count": 11,
     "metadata": {},
     "output_type": "execute_result"
    }
   ],
   "source": [
    "an.sa_5_684.alleles_per_snp(am_5_684_4_815)"
   ]
  },
  {
   "cell_type": "code",
   "execution_count": 12,
   "metadata": {
    "collapsed": false
   },
   "outputs": [
    {
     "data": {
      "text/html": [
       "\n",
       "\n",
       "    <div class=\"bk-root\">\n",
       "        <div class=\"plotdiv\" id=\"63088ad7-eef0-4dfb-9c14-c0dfd515bb62\"></div>\n",
       "    </div>\n",
       "<script type=\"text/javascript\">\n",
       "  \n",
       "  (function(global) {\n",
       "    function now() {\n",
       "      return new Date();\n",
       "    }\n",
       "  \n",
       "    if (typeof (window._bokeh_onload_callbacks) === \"undefined\") {\n",
       "      window._bokeh_onload_callbacks = [];\n",
       "    }\n",
       "  \n",
       "    function run_callbacks() {\n",
       "      window._bokeh_onload_callbacks.forEach(function(callback) { callback() });\n",
       "      delete window._bokeh_onload_callbacks\n",
       "      console.info(\"Bokeh: all callbacks have finished\");\n",
       "    }\n",
       "  \n",
       "    function load_libs(js_urls, callback) {\n",
       "      window._bokeh_onload_callbacks.push(callback);\n",
       "      if (window._bokeh_is_loading > 0) {\n",
       "        console.log(\"Bokeh: BokehJS is being loaded, scheduling callback at\", now());\n",
       "        return null;\n",
       "      }\n",
       "      if (js_urls == null || js_urls.length === 0) {\n",
       "        run_callbacks();\n",
       "        return null;\n",
       "      }\n",
       "      console.log(\"Bokeh: BokehJS not loaded, scheduling load and callback at\", now());\n",
       "      window._bokeh_is_loading = js_urls.length;\n",
       "      for (var i = 0; i < js_urls.length; i++) {\n",
       "        var url = js_urls[i];\n",
       "        var s = document.createElement('script');\n",
       "        s.src = url;\n",
       "        s.async = false;\n",
       "        s.onreadystatechange = s.onload = function() {\n",
       "          window._bokeh_is_loading--;\n",
       "          if (window._bokeh_is_loading === 0) {\n",
       "            console.log(\"Bokeh: all BokehJS libraries loaded\");\n",
       "            run_callbacks()\n",
       "          }\n",
       "        };\n",
       "        s.onerror = function() {\n",
       "          console.warn(\"failed to load library \" + url);\n",
       "        };\n",
       "        console.log(\"Bokeh: injecting script tag for BokehJS library: \", url);\n",
       "        document.getElementsByTagName(\"head\")[0].appendChild(s);\n",
       "      }\n",
       "    };var element = document.getElementById(\"63088ad7-eef0-4dfb-9c14-c0dfd515bb62\");\n",
       "    if (element == null) {\n",
       "      console.log(\"Bokeh: ERROR: autoload.js configured with elementid '63088ad7-eef0-4dfb-9c14-c0dfd515bb62' but no matching script tag was found. \")\n",
       "      return false;\n",
       "    }\n",
       "  \n",
       "    var js_urls = [];\n",
       "  \n",
       "    var inline_js = [\n",
       "      function(Bokeh) {\n",
       "        Bokeh.$(function() {\n",
       "            var docs_json = {\"f6419a4d-27f4-4493-a2aa-8104ba02fb9a\":{\"roots\":{\"references\":[{\"attributes\":{\"below\":[{\"id\":\"fd259f2b-ae55-4760-9807-18b49fccf93c\",\"type\":\"LinearAxis\"}],\"left\":[{\"id\":\"7e289415-f420-4510-8568-226df6ed1ebd\",\"type\":\"LinearAxis\"}],\"plot_height\":300,\"plot_width\":900,\"renderers\":[{\"id\":\"fd259f2b-ae55-4760-9807-18b49fccf93c\",\"type\":\"LinearAxis\"},{\"id\":\"6298d3f0-e05e-4a1b-a51f-af45052894b9\",\"type\":\"Grid\"},{\"id\":\"7e289415-f420-4510-8568-226df6ed1ebd\",\"type\":\"LinearAxis\"},{\"id\":\"80f6c19c-ab2c-41c2-9678-bb5765dd0093\",\"type\":\"Grid\"},{\"id\":\"7659d041-0241-404c-aa92-fe1d1bc6b5f1\",\"type\":\"BoxAnnotation\"},{\"id\":\"9a520cbe-fdc2-4ee9-b2a1-cb1e9ca93a9f\",\"type\":\"GlyphRenderer\"},{\"id\":\"06e173b9-6e2a-4765-88c1-91ef7cc86102\",\"type\":\"GlyphRenderer\"},{\"id\":\"598659a8-3f61-462b-96a6-312270cba9e4\",\"type\":\"LabelSet\"},{\"id\":\"764ea763-babc-4c8e-8a81-a5a77f11b44c\",\"type\":\"GlyphRenderer\"},{\"id\":\"1b6c081a-d62f-410d-89ad-8b2ac39eb1d2\",\"type\":\"LabelSet\"}],\"title\":{\"id\":\"328ee55e-229f-4064-b36d-66f75037e3c4\",\"type\":\"Title\"},\"tool_events\":{\"id\":\"7cd764e7-ddba-4aad-a95d-a7de64b79367\",\"type\":\"ToolEvents\"},\"toolbar\":{\"id\":\"84143bc3-e554-4d82-9931-aca6307aa056\",\"type\":\"Toolbar\"},\"toolbar_location\":null,\"x_range\":{\"id\":\"fb21c1fc-4be6-4660-b3b7-05ba8133d91a\",\"type\":\"Range1d\"},\"y_range\":{\"id\":\"af45d191-61cc-427e-8c82-cec6f1e7212d\",\"type\":\"Range1d\"}},\"id\":\"851bad11-364c-4fe6-adc2-2c0f9144ea9f\",\"subtype\":\"Figure\",\"type\":\"Plot\"},{\"attributes\":{\"plot\":null,\"text\":null},\"id\":\"328ee55e-229f-4064-b36d-66f75037e3c4\",\"type\":\"Title\"},{\"attributes\":{\"callback\":null,\"column_names\":[\"xs\",\"ys\",\"line_color\"],\"data\":{\"line_color\":[\"black\",\"black\",\"black\",\"black\",\"black\",\"black\",\"black\",\"black\",\"black\",\"black\",\"black\",\"black\",\"black\",\"black\",\"black\",\"black\",\"black\",\"black\",\"black\",\"black\",\"black\",\"black\",\"black\",\"black\",\"black\",\"black\",\"black\",\"black\",\"black\",\"black\",\"black\",\"black\",\"black\",\"black\",\"black\",\"black\",\"black\",\"black\",\"black\",\"black\",\"black\",\"black\",\"black\",\"black\",\"black\",\"black\",\"black\",\"black\",\"black\",\"black\",\"black\",\"black\",\"black\",\"black\",\"black\",\"black\",\"black\",\"black\",\"black\",\"black\",\"black\",\"black\",\"black\",\"black\",\"black\",\"black\",\"black\",\"black\",\"black\",\"black\",\"black\",\"black\",\"black\",\"black\",\"black\",\"black\",\"black\",\"black\",\"black\",\"black\",\"black\",\"black\",\"black\",\"black\",\"black\",\"black\",\"black\",\"black\",\"black\",\"black\",\"black\",\"black\",\"black\",\"black\",\"black\",\"black\",\"black\",\"black\",\"black\",\"black\",\"black\",\"black\",\"black\",\"black\",\"black\",\"black\",\"black\",\"black\",\"black\",\"black\",\"black\",\"black\",\"black\",\"black\",\"black\",\"black\",\"black\",\"black\",\"black\",\"black\",\"black\",\"black\"],\"xs\":[[135839805,135839805],[135866750,135866750],[135886744,135886744],[135924467,135924467],[135959272,135959272],[136149550,136149550],[136164840,136164840],[136313885,136313885],[136375855,136375855],[136393658,136393658],[136396300,136396300],[136401843,136401843],[136407445,136407445],[136411879,136411879],[136412270,136412270],[136413244,136413244],[136413847,136413847],[136415217,136415217],[136416533,136416533],[136420726,136420726],[136429857,136429857],[136433740,136433740],[136436317,136436317],[136437615,136437615],[136438517,136438517],[136440300,136440300],[136443900,136443900],[136444185,136444185],[136444338,136444338],[136449254,136449254],[136451676,136451676],[136459227,136459227],[136463117,136463117],[136463454,136463454],[136467119,136467119],[136468238,136468238],[136470219,136470219],[136483355,136483355],[136485276,136485276],[136486340,136486340],[136486342,136486342],[136494186,136494186],[136495300,136495300],[136495619,136495619],[136499166,136499166],[136502792,136502792],[136503157,136503157],[136507039,136507039],[136511575,136511575],[136518103,136518103],[136521514,136521514],[136522675,136522675],[136522941,136522941],[136526981,136526981],[136535410,136535410],[136539122,136539122],[136544197,136544197],[136550109,136550109],[136551694,136551694],[136553188,136553188],[136553639,136553639],[136554800,136554800],[136557319,136557319],[136558157,136558157],[136569848,136569848],[136575199,136575199],[136576577,136576577],[136578536,136578536],[136580287,136580287],[136583192,136583192],[136586958,136586958],[136588478,136588478],[136589612,136589612],[136591178,136591178],[136591859,136591859],[136593760,136593760],[136594158,136594158],[136603276,136603276],[136603366,136603366],[136608231,136608231],[136609975,136609975],[136610598,136610598],[136611624,136611624],[136613780,136613780],[136614255,136614255],[136614813,136614813],[136617524,136617524],[136622216,136622216],[136625602,136625602],[136629911,136629911],[136630757,136630757],[136630989,136630989],[136631031,136631031],[136633771,136633771],[136636324,136636324],[136638216,136638216],[136640233,136640233],[136641882,136641882],[136643555,136643555],[136658345,136658345],[136670298,136670298],[136685228,136685228],[136696138,136696138],[136740900,136740900],[136765951,136765951],[136501840,136501840],[136505546,136505546],[136516748,136516748],[136522710,136522710],[136528004,136528004],[136539513,136539513],[136544752,136544752],[136546110,136546110],[136553529,136553529],[136555659,136555659],[136682274,136682274],[136691825,136691825],[136698098,136698098],[136721603,136721603],[136721995,136721995],[136755684,136755684],[136775898,136775898]],\"ys\":[[50,90],[50,90],[50,90],[50,90],[50,88],[50,88],[50,88],[50,88],[50,88],[50,94],[50,94],[50,94],[50,94],[50,94],[50,94],[50,94],[50,94],[50,94],[50,94],[50,94],[50,94],[50,94],[50,94],[50,94],[50,94],[50,94],[50,94],[50,94],[50,94],[50,94],[50,94],[50,94],[50,94],[50,94],[50,94],[50,94],[50,94],[50,94],[50,94],[50,94],[50,94],[50,95],[50,95],[50,95],[50,95],[50,95],[50,95],[50,95],[50,95],[50,95],[50,95],[50,95],[50,95],[50,95],[50,95],[50,95],[50,95],[50,95],[50,95],[50,95],[50,95],[50,95],[50,95],[50,95],[50,95],[50,95],[50,95],[50,95],[50,95],[50,95],[50,95],[50,95],[50,95],[50,95],[50,95],[50,95],[50,95],[50,95],[50,95],[50,95],[50,95],[50,95],[50,95],[50,95],[50,95],[50,95],[50,95],[50,95],[50,95],[50,95],[50,95],[50,95],[50,95],[50,95],[50,95],[50,95],[50,95],[50,95],[50,95],[50,95],[50,95],[50,95],[50,95],[50,95],[50,95],[150,198],[150,198],[150,198],[150,198],[150,198],[150,198],[150,198],[150,198],[150,198],[150,198],[150,197],[150,197],[150,197],[150,197],[150,197],[150,197],[150,197]]}},\"id\":\"d71b68bc-5783-42fd-9dc3-90a1b0715e22\",\"type\":\"ColumnDataSource\"},{\"attributes\":{\"callback\":null,\"column_names\":[\"right\",\"bottom\",\"top\",\"left\"],\"data\":{\"bottom\":[245,245,245,245,245,245,245],\"left\":[135809835,135957574,136289083,136499189,136545415,136597196,136664254],\"right\":[135928279,136288182,136482839,136542633,136594750,136634047,136743222],\"top\":[275,275,275,275,275,275,275]}},\"id\":\"1624860e-8ed1-4859-85da-9491e18372ca\",\"type\":\"ColumnDataSource\"},{\"attributes\":{\"overlay\":{\"id\":\"7659d041-0241-404c-aa92-fe1d1bc6b5f1\",\"type\":\"BoxAnnotation\"},\"plot\":{\"id\":\"851bad11-364c-4fe6-adc2-2c0f9144ea9f\",\"subtype\":\"Figure\",\"type\":\"Plot\"}},\"id\":\"0fde840d-fdc4-46f8-81e1-227e298e436e\",\"type\":\"BoxZoomTool\"},{\"attributes\":{},\"id\":\"4830734d-68bb-4bae-bd68-31bce4ddce98\",\"type\":\"BasicTickFormatter\"},{\"attributes\":{\"data_source\":{\"id\":\"d71b68bc-5783-42fd-9dc3-90a1b0715e22\",\"type\":\"ColumnDataSource\"},\"glyph\":{\"id\":\"1216a34d-e9aa-409b-a13e-171ffcf077d2\",\"type\":\"MultiLine\"},\"hover_glyph\":null,\"nonselection_glyph\":{\"id\":\"548acc0a-0854-4b11-b94c-3c7d126871ff\",\"type\":\"MultiLine\"},\"selection_glyph\":null},\"id\":\"06e173b9-6e2a-4765-88c1-91ef7cc86102\",\"type\":\"GlyphRenderer\"},{\"attributes\":{\"callback\":null,\"end\":136786630,\"start\":135757320},\"id\":\"fb21c1fc-4be6-4660-b3b7-05ba8133d91a\",\"type\":\"Range1d\"},{\"attributes\":{\"plot\":{\"id\":\"851bad11-364c-4fe6-adc2-2c0f9144ea9f\",\"subtype\":\"Figure\",\"type\":\"Plot\"},\"ticker\":{\"id\":\"0c22aaf8-c4d5-49aa-aef2-3d4321ab8597\",\"type\":\"BasicTicker\"}},\"id\":\"6298d3f0-e05e-4a1b-a51f-af45052894b9\",\"type\":\"Grid\"},{\"attributes\":{\"data_source\":{\"id\":\"ca2abaf9-d419-43da-af45-942916b11423\",\"type\":\"ColumnDataSource\"},\"glyph\":{\"id\":\"8c06bfda-c47b-45e2-a151-736ef216abac\",\"type\":\"Quad\"},\"hover_glyph\":null,\"nonselection_glyph\":{\"id\":\"342daf44-b8d6-4730-93d1-137fc9d3bb47\",\"type\":\"Quad\"},\"selection_glyph\":null},\"id\":\"9a520cbe-fdc2-4ee9-b2a1-cb1e9ca93a9f\",\"type\":\"GlyphRenderer\"},{\"attributes\":{\"level\":\"glyph\",\"plot\":{\"id\":\"851bad11-364c-4fe6-adc2-2c0f9144ea9f\",\"subtype\":\"Figure\",\"type\":\"Plot\"},\"source\":{\"id\":\"48c35c68-ce2e-4808-9cf6-42007c94e438\",\"type\":\"ColumnDataSource\"},\"text\":{\"field\":\"vals\"},\"text_font_size\":{\"value\":\"9pt\"},\"text_font_style\":\"bold\",\"x\":{\"field\":\"x\"},\"y\":{\"field\":\"y\"}},\"id\":\"598659a8-3f61-462b-96a6-312270cba9e4\",\"type\":\"LabelSet\"},{\"attributes\":{\"callback\":null,\"column_names\":[\"y\",\"x\",\"vals\"],\"data\":{\"vals\":[\"RAB3GAP1\",\"ZRANB3\",\"R3HDM1\",\"UBXN4\",\"LCT\",\"MCM6\",\"DARS\"],\"x\":[135869057.0,136122878.0,136385961.0,136520911.0,136570082.5,136615621.5,136703738.0],\"y\":[260.0,260.0,260.0,260.0,260.0,260.0,260.0]}},\"id\":\"5e9b59e6-993f-4834-8b4f-693107566daf\",\"type\":\"ColumnDataSource\"},{\"attributes\":{\"formatter\":{\"id\":\"abff0932-efb8-41df-b3c6-fbcb4d324b2c\",\"type\":\"BasicTickFormatter\"},\"plot\":{\"id\":\"851bad11-364c-4fe6-adc2-2c0f9144ea9f\",\"subtype\":\"Figure\",\"type\":\"Plot\"},\"ticker\":{\"id\":\"0c22aaf8-c4d5-49aa-aef2-3d4321ab8597\",\"type\":\"BasicTicker\"}},\"id\":\"fd259f2b-ae55-4760-9807-18b49fccf93c\",\"type\":\"LinearAxis\"},{\"attributes\":{\"plot\":{\"id\":\"851bad11-364c-4fe6-adc2-2c0f9144ea9f\",\"subtype\":\"Figure\",\"type\":\"Plot\"}},\"id\":\"91a42dc2-cf37-4fc9-a257-6d2518a3bce7\",\"type\":\"HelpTool\"},{\"attributes\":{\"plot\":{\"id\":\"851bad11-364c-4fe6-adc2-2c0f9144ea9f\",\"subtype\":\"Figure\",\"type\":\"Plot\"}},\"id\":\"7cdac1a6-d3c0-4cfa-8840-a83ea633d2ff\",\"type\":\"SaveTool\"},{\"attributes\":{},\"id\":\"0c22aaf8-c4d5-49aa-aef2-3d4321ab8597\",\"type\":\"BasicTicker\"},{\"attributes\":{\"line_alpha\":{\"value\":0.1},\"line_color\":{\"value\":\"#1f77b4\"},\"xs\":{\"field\":\"xs\"},\"ys\":{\"field\":\"ys\"}},\"id\":\"548acc0a-0854-4b11-b94c-3c7d126871ff\",\"type\":\"MultiLine\"},{\"attributes\":{},\"id\":\"abff0932-efb8-41df-b3c6-fbcb4d324b2c\",\"type\":\"BasicTickFormatter\"},{\"attributes\":{\"active_drag\":\"auto\",\"active_scroll\":\"auto\",\"active_tap\":\"auto\",\"tools\":[{\"id\":\"c8e1a874-0b5c-4c7b-8e70-3d08c1260ee3\",\"type\":\"PanTool\"},{\"id\":\"09c6ce88-6e6f-4799-b003-1d1867d887ea\",\"type\":\"WheelZoomTool\"},{\"id\":\"0fde840d-fdc4-46f8-81e1-227e298e436e\",\"type\":\"BoxZoomTool\"},{\"id\":\"7cdac1a6-d3c0-4cfa-8840-a83ea633d2ff\",\"type\":\"SaveTool\"},{\"id\":\"2919f2d7-05e6-4664-96dd-e12490a5b68d\",\"type\":\"ResetTool\"},{\"id\":\"91a42dc2-cf37-4fc9-a257-6d2518a3bce7\",\"type\":\"HelpTool\"}]},\"id\":\"84143bc3-e554-4d82-9931-aca6307aa056\",\"type\":\"Toolbar\"},{\"attributes\":{},\"id\":\"8b1fd440-7e72-4499-8e9f-0c190c883653\",\"type\":\"BasicTicker\"},{\"attributes\":{\"plot\":{\"id\":\"851bad11-364c-4fe6-adc2-2c0f9144ea9f\",\"subtype\":\"Figure\",\"type\":\"Plot\"}},\"id\":\"2919f2d7-05e6-4664-96dd-e12490a5b68d\",\"type\":\"ResetTool\"},{\"attributes\":{\"line_color\":{\"field\":\"line_color\"},\"xs\":{\"field\":\"xs\"},\"ys\":{\"field\":\"ys\"}},\"id\":\"1216a34d-e9aa-409b-a13e-171ffcf077d2\",\"type\":\"MultiLine\"},{\"attributes\":{\"bottom\":{\"field\":\"bottom\"},\"fill_color\":{\"value\":\"white\"},\"left\":{\"field\":\"left\"},\"right\":{\"field\":\"right\"},\"top\":{\"field\":\"top\"}},\"id\":\"51c5b1af-d7c5-48a0-863c-014158a455b0\",\"type\":\"Quad\"},{\"attributes\":{\"callback\":null,\"column_names\":[\"y\",\"x\",\"vals\"],\"data\":{\"vals\":[\"4_815\",\"5_684\",\"32_1361\",\"64_1575\",\"10_2206\",\"7_1868\"],\"x\":[135839805,135959272,136393658,136494186,136501840,136682274],\"y\":[95.0,93.0,99.0,100.0,203.0,202.0]}},\"id\":\"48c35c68-ce2e-4808-9cf6-42007c94e438\",\"type\":\"ColumnDataSource\"},{\"attributes\":{\"data_source\":{\"id\":\"1624860e-8ed1-4859-85da-9491e18372ca\",\"type\":\"ColumnDataSource\"},\"glyph\":{\"id\":\"51c5b1af-d7c5-48a0-863c-014158a455b0\",\"type\":\"Quad\"},\"hover_glyph\":null,\"nonselection_glyph\":{\"id\":\"f3b47ede-8c06-400a-ad1a-d1a383702bb1\",\"type\":\"Quad\"},\"selection_glyph\":null},\"id\":\"764ea763-babc-4c8e-8a81-a5a77f11b44c\",\"type\":\"GlyphRenderer\"},{\"attributes\":{\"plot\":{\"id\":\"851bad11-364c-4fe6-adc2-2c0f9144ea9f\",\"subtype\":\"Figure\",\"type\":\"Plot\"}},\"id\":\"c8e1a874-0b5c-4c7b-8e70-3d08c1260ee3\",\"type\":\"PanTool\"},{\"attributes\":{\"bottom\":{\"field\":\"bottom\"},\"fill_alpha\":{\"value\":0.1},\"fill_color\":{\"value\":\"#1f77b4\"},\"left\":{\"field\":\"left\"},\"line_alpha\":{\"value\":0.1},\"line_color\":{\"value\":\"#1f77b4\"},\"right\":{\"field\":\"right\"},\"top\":{\"field\":\"top\"}},\"id\":\"342daf44-b8d6-4730-93d1-137fc9d3bb47\",\"type\":\"Quad\"},{\"attributes\":{\"formatter\":{\"id\":\"4830734d-68bb-4bae-bd68-31bce4ddce98\",\"type\":\"BasicTickFormatter\"},\"plot\":{\"id\":\"851bad11-364c-4fe6-adc2-2c0f9144ea9f\",\"subtype\":\"Figure\",\"type\":\"Plot\"},\"ticker\":{\"id\":\"8b1fd440-7e72-4499-8e9f-0c190c883653\",\"type\":\"BasicTicker\"},\"visible\":null},\"id\":\"7e289415-f420-4510-8568-226df6ed1ebd\",\"type\":\"LinearAxis\"},{\"attributes\":{\"level\":\"glyph\",\"plot\":{\"id\":\"851bad11-364c-4fe6-adc2-2c0f9144ea9f\",\"subtype\":\"Figure\",\"type\":\"Plot\"},\"source\":{\"id\":\"5e9b59e6-993f-4834-8b4f-693107566daf\",\"type\":\"ColumnDataSource\"},\"text\":{\"field\":\"vals\"},\"text_align\":\"center\",\"text_baseline\":\"middle\",\"text_font_size\":{\"value\":\"8pt\"},\"x\":{\"field\":\"x\"},\"y\":{\"field\":\"y\"}},\"id\":\"1b6c081a-d62f-410d-89ad-8b2ac39eb1d2\",\"type\":\"LabelSet\"},{\"attributes\":{\"plot\":{\"id\":\"851bad11-364c-4fe6-adc2-2c0f9144ea9f\",\"subtype\":\"Figure\",\"type\":\"Plot\"}},\"id\":\"09c6ce88-6e6f-4799-b003-1d1867d887ea\",\"type\":\"WheelZoomTool\"},{\"attributes\":{\"bottom_units\":\"screen\",\"fill_alpha\":{\"value\":0.5},\"fill_color\":{\"value\":\"lightgrey\"},\"left_units\":\"screen\",\"level\":\"overlay\",\"line_alpha\":{\"value\":1.0},\"line_color\":{\"value\":\"black\"},\"line_dash\":[4,4],\"line_width\":{\"value\":2},\"plot\":null,\"render_mode\":\"css\",\"right_units\":\"screen\",\"top_units\":\"screen\"},\"id\":\"7659d041-0241-404c-aa92-fe1d1bc6b5f1\",\"type\":\"BoxAnnotation\"},{\"attributes\":{\"bottom\":{\"field\":\"bottom\"},\"fill_color\":{\"field\":\"fill_color\"},\"left\":{\"field\":\"left\"},\"line_color\":{\"value\":null},\"right\":{\"field\":\"right\"},\"top\":{\"field\":\"top\"}},\"id\":\"8c06bfda-c47b-45e2-a151-736ef216abac\",\"type\":\"Quad\"},{\"attributes\":{\"dimension\":1,\"plot\":{\"id\":\"851bad11-364c-4fe6-adc2-2c0f9144ea9f\",\"subtype\":\"Figure\",\"type\":\"Plot\"},\"ticker\":{\"id\":\"8b1fd440-7e72-4499-8e9f-0c190c883653\",\"type\":\"BasicTicker\"}},\"id\":\"80f6c19c-ab2c-41c2-9678-bb5765dd0093\",\"type\":\"Grid\"},{\"attributes\":{},\"id\":\"7cd764e7-ddba-4aad-a95d-a7de64b79367\",\"type\":\"ToolEvents\"},{\"attributes\":{\"callback\":null,\"column_names\":[\"right\",\"bottom\",\"top\",\"left\",\"fill_color\"],\"data\":{\"bottom\":[50,50,50,50,150,150],\"fill_color\":[\"#61c4c4\",\"#ffff00\",\"#c4c461\",\"#61c461\",\"#808080\",\"#61c461\"],\"left\":[135839805,135959272,136393658,136494186,136501840,136682274],\"right\":[135924467,136375855,136486342,136765951,136555659,136775898],\"top\":[90,88,94,95,198,197]}},\"id\":\"ca2abaf9-d419-43da-af45-942916b11423\",\"type\":\"ColumnDataSource\"},{\"attributes\":{\"callback\":null,\"end\":300},\"id\":\"af45d191-61cc-427e-8c82-cec6f1e7212d\",\"type\":\"Range1d\"},{\"attributes\":{\"bottom\":{\"field\":\"bottom\"},\"fill_alpha\":{\"value\":0.1},\"fill_color\":{\"value\":\"#1f77b4\"},\"left\":{\"field\":\"left\"},\"line_alpha\":{\"value\":0.1},\"line_color\":{\"value\":\"#1f77b4\"},\"right\":{\"field\":\"right\"},\"top\":{\"field\":\"top\"}},\"id\":\"f3b47ede-8c06-400a-ad1a-d1a383702bb1\",\"type\":\"Quad\"}],\"root_ids\":[\"851bad11-364c-4fe6-adc2-2c0f9144ea9f\"]},\"title\":\"Bokeh Application\",\"version\":\"0.12.0\"}};\n",
       "            var render_items = [{\"docid\":\"f6419a4d-27f4-4493-a2aa-8104ba02fb9a\",\"elementid\":\"63088ad7-eef0-4dfb-9c14-c0dfd515bb62\",\"modelid\":\"851bad11-364c-4fe6-adc2-2c0f9144ea9f\",\"notebook_comms_target\":\"439052b3-a333-41f0-b7ea-dddc6f7dd2d4\"}];\n",
       "            \n",
       "            Bokeh.embed.embed_items(docs_json, render_items);\n",
       "        });\n",
       "      },\n",
       "      function(Bokeh) {\n",
       "      }\n",
       "    ];\n",
       "  \n",
       "    function run_inline_js() {\n",
       "      for (var i = 0; i < inline_js.length; i++) {\n",
       "        inline_js[i](window.Bokeh);\n",
       "      }\n",
       "    }\n",
       "  \n",
       "    if (window._bokeh_is_loading === 0) {\n",
       "      console.log(\"Bokeh: BokehJS loaded, going straight to plotting\");\n",
       "      run_inline_js();\n",
       "    } else {\n",
       "      load_libs(js_urls, function() {\n",
       "        console.log(\"Bokeh: BokehJS plotting callback run at\", now());\n",
       "        run_inline_js();\n",
       "      });\n",
       "    }\n",
       "  }(this));\n",
       "</script>"
      ]
     },
     "metadata": {},
     "output_type": "display_data"
    },
    {
     "data": {
      "text/html": [
       "<p><code>&lt;Bokeh Notebook handle for <strong>In[12]</strong>&gt;</code></p>"
      ],
      "text/plain": [
       "<bokeh.io._CommsHandle at 0x7fe724343290>"
      ]
     },
     "execution_count": 12,
     "metadata": {},
     "output_type": "execute_result"
    }
   ],
   "source": [
    "plt_obj = dm.superset_yes_no([dm.di_5_684, dm.di_4_815, dm.di_32_1361], [dm.di_9_944], min_match=0.5)\n",
    "plt = plt_obj.do_plot()\n",
    "am = plt_obj.plot_context.yes_allele_mask\n",
    "show(plt)"
   ]
  },
  {
   "cell_type": "code",
   "execution_count": 13,
   "metadata": {
    "collapsed": false
   },
   "outputs": [
    {
     "data": {
      "text/html": [
       "<table>\n",
       "<thead><tr><th style=\"text-align:center\">index</th><th style=\"text-align:center\">first</th><th style=\"text-align:center\">length</th><th style=\"text-align:center\">snps</th><th style=\"text-align:center\" colspan=2>alleles</th><th style=\"text-align:center\" colspan=2>matches</th><th style=\"text-align:center\" colspan=2>afr</th><th style=\"text-align:center\" colspan=2>afx</th><th style=\"text-align:center\" colspan=2>amr</th><th style=\"text-align:center\" colspan=2>eas</th><th style=\"text-align:center\" colspan=2>eur</th><th style=\"text-align:center\" colspan=2>sas</th><th style=\"text-align:center\" colspan=2>sax</th></tr></thead>\n",
       "<tr class=\"even\"><td style=\"text-align: right;\">353921</td><td style=\"text-align: right;\">136,501,840</td><td style=\"text-align: right;\">53,819</td><td style=\"text-align: right;\">10</td><td style=\"text-align: right;\">2206</td><td style=\"text-align: right;\">0.03</td><td style=\"text-align: right;\">60</td><td style=\"text-align: right;\">0.76</td><td style=\"text-align: right;\">0</td><td style=\"text-align: right;\">0.00</td><td style=\"text-align: right;\">0</td><td style=\"text-align: right;\">0.00</td><td style=\"text-align: right;\">0</td><td style=\"text-align: right;\">0.00</td><td style=\"text-align: right;\">59</td><td style=\"text-align: right;\">6.23</td><td style=\"text-align: right;\">0</td><td style=\"text-align: right;\">0.00</td><td style=\"text-align: right;\">1</td><td style=\"text-align: right;\">0.24</td><td style=\"text-align: right;\">0</td><td style=\"text-align: right;\">0.00</td></tr>\n",
       "<tr><td style=\"text-align: right;\">354170</td><td style=\"text-align: right;\">136,682,274</td><td style=\"text-align: right;\">93,624</td><td style=\"text-align: right;\">7</td><td style=\"text-align: right;\">1868</td><td style=\"text-align: right;\">0.03</td><td style=\"text-align: right;\">60</td><td style=\"text-align: right;\">0.76</td><td style=\"text-align: right;\">0</td><td style=\"text-align: right;\">0.00</td><td style=\"text-align: right;\">0</td><td style=\"text-align: right;\">0.00</td><td style=\"text-align: right;\">0</td><td style=\"text-align: right;\">0.00</td><td style=\"text-align: right;\">59</td><td style=\"text-align: right;\">6.23</td><td style=\"text-align: right;\">0</td><td style=\"text-align: right;\">0.00</td><td style=\"text-align: right;\">1</td><td style=\"text-align: right;\">0.24</td><td style=\"text-align: right;\">0</td><td style=\"text-align: right;\">0.00</td></tr>\n",
       "<tr class=\"even\"><td style=\"text-align: right;\">353901</td><td style=\"text-align: right;\">136,494,186</td><td style=\"text-align: right;\">271,765</td><td style=\"text-align: right;\">64</td><td style=\"text-align: right;\">1575</td><td style=\"text-align: right;\">0.04</td><td style=\"text-align: right;\">60</td><td style=\"text-align: right;\">0.76</td><td style=\"text-align: right;\">0</td><td style=\"text-align: right;\">0.00</td><td style=\"text-align: right;\">0</td><td style=\"text-align: right;\">0.00</td><td style=\"text-align: right;\">0</td><td style=\"text-align: right;\">0.00</td><td style=\"text-align: right;\">59</td><td style=\"text-align: right;\">6.23</td><td style=\"text-align: right;\">0</td><td style=\"text-align: right;\">0.00</td><td style=\"text-align: right;\">1</td><td style=\"text-align: right;\">0.24</td><td style=\"text-align: right;\">0</td><td style=\"text-align: right;\">0.00</td></tr>\n",
       "<tr><td style=\"text-align: right;\">353791</td><td style=\"text-align: right;\">136,393,658</td><td style=\"text-align: right;\">92,684</td><td style=\"text-align: right;\">32</td><td style=\"text-align: right;\">1361</td><td style=\"text-align: right;\">0.06</td><td style=\"text-align: right;\">79</td><td style=\"text-align: right;\">1.00</td><td style=\"text-align: right;\">0</td><td style=\"text-align: right;\">0.00</td><td style=\"text-align: right;\">0</td><td style=\"text-align: right;\">0.00</td><td style=\"text-align: right;\">0</td><td style=\"text-align: right;\">0.00</td><td style=\"text-align: right;\">73</td><td style=\"text-align: right;\">5.86</td><td style=\"text-align: right;\">0</td><td style=\"text-align: right;\">0.00</td><td style=\"text-align: right;\">4</td><td style=\"text-align: right;\">0.74</td><td style=\"text-align: right;\">2</td><td style=\"text-align: right;\">0.24</td></tr>\n",
       "<tr class=\"even\"><td style=\"text-align: right;\">353384</td><td style=\"text-align: right;\">135,839,805</td><td style=\"text-align: right;\">84,662</td><td style=\"text-align: right;\">4</td><td style=\"text-align: right;\">815</td><td style=\"text-align: right;\">0.10</td><td style=\"text-align: right;\">79</td><td style=\"text-align: right;\">1.00</td><td style=\"text-align: right;\">0</td><td style=\"text-align: right;\">0.00</td><td style=\"text-align: right;\">0</td><td style=\"text-align: right;\">0.00</td><td style=\"text-align: right;\">0</td><td style=\"text-align: right;\">0.00</td><td style=\"text-align: right;\">73</td><td style=\"text-align: right;\">5.86</td><td style=\"text-align: right;\">0</td><td style=\"text-align: right;\">0.00</td><td style=\"text-align: right;\">4</td><td style=\"text-align: right;\">0.74</td><td style=\"text-align: right;\">2</td><td style=\"text-align: right;\">0.24</td></tr>\n",
       "<tr><td style=\"text-align: right;\">353498</td><td style=\"text-align: right;\">135,959,272</td><td style=\"text-align: right;\">416,583</td><td style=\"text-align: right;\">5</td><td style=\"text-align: right;\">684</td><td style=\"text-align: right;\">0.12</td><td style=\"text-align: right;\">79</td><td style=\"text-align: right;\">1.00</td><td style=\"text-align: right;\">0</td><td style=\"text-align: right;\">0.00</td><td style=\"text-align: right;\">0</td><td style=\"text-align: right;\">0.00</td><td style=\"text-align: right;\">0</td><td style=\"text-align: right;\">0.00</td><td style=\"text-align: right;\">73</td><td style=\"text-align: right;\">5.86</td><td style=\"text-align: right;\">0</td><td style=\"text-align: right;\">0.00</td><td style=\"text-align: right;\">4</td><td style=\"text-align: right;\">0.74</td><td style=\"text-align: right;\">2</td><td style=\"text-align: right;\">0.24</td></tr>\n",
       "</table>"
      ],
      "text/plain": [
       "<IPython.core.display.HTML object>"
      ]
     },
     "execution_count": 13,
     "metadata": {},
     "output_type": "execute_result"
    }
   ],
   "source": [
    "HTML(plt_obj.get_html())"
   ]
  },
  {
   "cell_type": "code",
   "execution_count": 14,
   "metadata": {
    "collapsed": false
   },
   "outputs": [
    {
     "data": {
      "text/plain": [
       "array([ 0,  0, 79, 79, 79, 79, 79, 79, 79])"
      ]
     },
     "execution_count": 14,
     "metadata": {},
     "output_type": "execute_result"
    }
   ],
   "source": [
    "sa_9_944.alleles_per_snp(am)"
   ]
  },
  {
   "cell_type": "code",
   "execution_count": 15,
   "metadata": {
    "collapsed": false
   },
   "outputs": [
    {
     "data": {
      "text/html": [
       "\n",
       "\n",
       "    <div class=\"bk-root\">\n",
       "        <div class=\"plotdiv\" id=\"e5cf3e32-7e45-4995-b966-0631815e8330\"></div>\n",
       "    </div>\n",
       "<script type=\"text/javascript\">\n",
       "  \n",
       "  (function(global) {\n",
       "    function now() {\n",
       "      return new Date();\n",
       "    }\n",
       "  \n",
       "    if (typeof (window._bokeh_onload_callbacks) === \"undefined\") {\n",
       "      window._bokeh_onload_callbacks = [];\n",
       "    }\n",
       "  \n",
       "    function run_callbacks() {\n",
       "      window._bokeh_onload_callbacks.forEach(function(callback) { callback() });\n",
       "      delete window._bokeh_onload_callbacks\n",
       "      console.info(\"Bokeh: all callbacks have finished\");\n",
       "    }\n",
       "  \n",
       "    function load_libs(js_urls, callback) {\n",
       "      window._bokeh_onload_callbacks.push(callback);\n",
       "      if (window._bokeh_is_loading > 0) {\n",
       "        console.log(\"Bokeh: BokehJS is being loaded, scheduling callback at\", now());\n",
       "        return null;\n",
       "      }\n",
       "      if (js_urls == null || js_urls.length === 0) {\n",
       "        run_callbacks();\n",
       "        return null;\n",
       "      }\n",
       "      console.log(\"Bokeh: BokehJS not loaded, scheduling load and callback at\", now());\n",
       "      window._bokeh_is_loading = js_urls.length;\n",
       "      for (var i = 0; i < js_urls.length; i++) {\n",
       "        var url = js_urls[i];\n",
       "        var s = document.createElement('script');\n",
       "        s.src = url;\n",
       "        s.async = false;\n",
       "        s.onreadystatechange = s.onload = function() {\n",
       "          window._bokeh_is_loading--;\n",
       "          if (window._bokeh_is_loading === 0) {\n",
       "            console.log(\"Bokeh: all BokehJS libraries loaded\");\n",
       "            run_callbacks()\n",
       "          }\n",
       "        };\n",
       "        s.onerror = function() {\n",
       "          console.warn(\"failed to load library \" + url);\n",
       "        };\n",
       "        console.log(\"Bokeh: injecting script tag for BokehJS library: \", url);\n",
       "        document.getElementsByTagName(\"head\")[0].appendChild(s);\n",
       "      }\n",
       "    };var element = document.getElementById(\"e5cf3e32-7e45-4995-b966-0631815e8330\");\n",
       "    if (element == null) {\n",
       "      console.log(\"Bokeh: ERROR: autoload.js configured with elementid 'e5cf3e32-7e45-4995-b966-0631815e8330' but no matching script tag was found. \")\n",
       "      return false;\n",
       "    }\n",
       "  \n",
       "    var js_urls = [];\n",
       "  \n",
       "    var inline_js = [\n",
       "      function(Bokeh) {\n",
       "        Bokeh.$(function() {\n",
       "            var docs_json = {\"d655e982-27c8-4d47-9d25-b87046319a91\":{\"roots\":{\"references\":[{\"attributes\":{\"plot\":null,\"text\":null},\"id\":\"c09204fe-4365-4b08-a53e-7bd94b887546\",\"type\":\"Title\"},{\"attributes\":{\"line_alpha\":{\"value\":0.1},\"line_color\":{\"value\":\"#1f77b4\"},\"xs\":{\"field\":\"xs\"},\"ys\":{\"field\":\"ys\"}},\"id\":\"4e31a696-a93f-4e01-8b10-f8082372edbc\",\"type\":\"MultiLine\"},{\"attributes\":{},\"id\":\"50312d82-d4b4-4c4d-b6fd-61e12386820d\",\"type\":\"BasicTickFormatter\"},{\"attributes\":{\"overlay\":{\"id\":\"a7e040dc-1763-42de-8967-dd515e2a4d66\",\"type\":\"BoxAnnotation\"},\"plot\":{\"id\":\"aaf19bf8-c205-459b-8975-263eeecf32e8\",\"subtype\":\"Figure\",\"type\":\"Plot\"}},\"id\":\"0e8f6af2-7501-4b3e-a9c4-7b9591bed0ee\",\"type\":\"BoxZoomTool\"},{\"attributes\":{\"level\":\"glyph\",\"plot\":{\"id\":\"aaf19bf8-c205-459b-8975-263eeecf32e8\",\"subtype\":\"Figure\",\"type\":\"Plot\"},\"source\":{\"id\":\"ce83409c-6626-42a3-bf3d-4d1306f697e4\",\"type\":\"ColumnDataSource\"},\"text\":{\"field\":\"vals\"},\"text_font_size\":{\"value\":\"9pt\"},\"text_font_style\":\"bold\",\"x\":{\"field\":\"x\"},\"y\":{\"field\":\"y\"}},\"id\":\"2bf5bfde-0c6c-426e-bd05-1dd6d9fb068c\",\"type\":\"LabelSet\"},{\"attributes\":{\"plot\":{\"id\":\"aaf19bf8-c205-459b-8975-263eeecf32e8\",\"subtype\":\"Figure\",\"type\":\"Plot\"}},\"id\":\"1153e219-c03b-4dfa-98fb-cf87d1052f90\",\"type\":\"ResetTool\"},{\"attributes\":{\"plot\":{\"id\":\"aaf19bf8-c205-459b-8975-263eeecf32e8\",\"subtype\":\"Figure\",\"type\":\"Plot\"}},\"id\":\"5b72295f-5b51-428b-a854-e53d77ba5a19\",\"type\":\"PanTool\"},{\"attributes\":{},\"id\":\"a2e8fa53-f640-4bb9-bd9f-2040b02fb937\",\"type\":\"ToolEvents\"},{\"attributes\":{\"callback\":null,\"column_names\":[\"xs\",\"ys\",\"line_color\"],\"data\":{\"line_color\":[\"black\",\"black\",\"black\",\"black\",\"black\",\"black\",\"black\",\"black\",\"black\",\"black\",\"black\",\"black\",\"black\",\"black\",\"black\",\"black\",\"black\",\"black\",\"black\",\"black\",\"black\",\"black\",\"black\",\"black\",\"black\",\"black\",\"black\",\"black\",\"black\",\"black\",\"black\",\"black\",\"black\",\"black\",\"black\",\"black\",\"black\",\"black\",\"black\",\"black\",\"black\",\"black\",\"black\",\"black\",\"black\",\"black\",\"black\",\"black\",\"black\",\"black\",\"black\",\"black\",\"black\",\"black\",\"black\",\"black\",\"black\",\"black\",\"black\",\"black\",\"black\",\"black\",\"black\",\"black\",\"black\",\"black\",\"black\",\"black\",\"black\",\"black\",\"black\",\"black\",\"black\",\"black\",\"black\",\"black\",\"black\",\"black\",\"black\",\"black\",\"black\",\"black\",\"black\",\"black\",\"black\",\"black\",\"black\",\"black\",\"black\",\"black\",\"black\",\"black\",\"black\",\"black\",\"black\",\"black\",\"black\",\"black\",\"black\",\"black\",\"black\",\"black\",\"black\",\"black\",\"black\",\"black\",\"black\",\"black\",\"black\",\"black\",\"black\",\"black\",\"black\",\"black\",\"black\",\"black\",\"black\",\"black\"],\"xs\":[[135757320,135757320],[135761078,135761078],[135761271,135761271],[135762344,135762344],[135762980,135762980],[135763280,135763280],[135768815,135768815],[135769093,135769093],[135769127,135769127],[135770940,135770940],[135770951,135770951],[135776728,135776728],[135777504,135777504],[135959272,135959272],[136149550,136149550],[136164840,136164840],[136313885,136313885],[136375855,136375855],[136393157,136393157],[136397433,136397433],[136402116,136402116],[136408291,136408291],[136421548,136421548],[136422784,136422784],[136427745,136427745],[136438950,136438950],[136439805,136439805],[136441410,136441410],[136403994,136403994],[136405878,136405878],[136409574,136409574],[136413225,136413225],[136418741,136418741],[136429088,136429088],[136432121,136432121],[136449305,136449305],[136451432,136451432],[136470978,136470978],[136472107,136472107],[136477100,136477100],[136485096,136485096],[136406646,136406646],[136408821,136408821],[136412472,136412472],[136416959,136416959],[136438078,136438078],[136447707,136447707],[136460324,136460324],[136472357,136472357],[136490266,136490266],[136496493,136496493],[136496639,136496639],[136496928,136496928],[136509573,136509573],[136511951,136511951],[136537057,136537057],[136546635,136546635],[136553438,136553438],[136553925,136553925],[136496805,136496805],[136496910,136496910],[136515859,136515859],[136515924,136515924],[136520186,136520186],[136524766,136524766],[136535364,136535364],[136536113,136536113],[136552629,136552629],[136511874,136511874],[136530248,136530248],[136530556,136530556],[136531252,136531252],[136533195,136533195],[136514709,136514709],[136516308,136516308],[136520100,136520100],[136521595,136521595],[136523045,136523045],[136543147,136543147],[136556805,136556805],[136560003,136560003],[136562472,136562472],[136563248,136563248],[136565328,136565328],[136570613,136570613],[136571982,136571982],[136574305,136574305],[136578040,136578040],[136578194,136578194],[136580398,136580398],[136586828,136586828],[136590558,136590558],[136592309,136592309],[136593541,136593541],[136593694,136593694],[136595426,136595426],[136615222,136615222],[136624919,136624919],[136626004,136626004],[136628380,136628380],[136636909,136636909],[136637350,136637350],[136637622,136637622],[136639487,136639487],[136646900,136646900],[136652093,136652093],[136652859,136652859],[136655620,136655620],[136667896,136667896],[136671801,136671801],[136677192,136677192],[136683293,136683293],[136704414,136704414],[136720344,136720344],[136731066,136731066],[136733897,136733897],[136743490,136743490],[136747085,136747085]],\"ys\":[[550,596],[550,596],[550,596],[550,596],[550,596],[550,596],[550,596],[550,596],[550,596],[550,596],[550,596],[550,596],[550,596],[50,88],[50,88],[50,88],[50,88],[50,88],[450,493],[450,493],[450,493],[450,493],[450,493],[450,493],[450,493],[450,493],[450,493],[450,493],[150,190],[150,190],[150,190],[150,190],[150,190],[150,190],[150,190],[150,190],[150,190],[150,190],[150,190],[150,190],[150,190],[550,595],[550,595],[550,595],[550,595],[550,595],[350,392],[350,392],[350,392],[350,392],[450,493],[450,493],[450,493],[450,493],[450,493],[450,493],[450,493],[450,493],[450,493],[250,291],[250,291],[250,291],[250,291],[250,291],[250,291],[250,291],[250,291],[250,291],[150,191],[150,191],[150,191],[150,191],[150,191],[50,90],[50,90],[50,90],[50,90],[50,90],[50,90],[250,291],[250,291],[250,291],[250,291],[250,291],[250,291],[250,291],[250,291],[250,291],[250,291],[250,291],[250,291],[250,291],[250,291],[250,291],[250,291],[250,291],[250,291],[250,291],[250,291],[250,291],[250,291],[250,291],[250,291],[250,291],[250,291],[250,291],[250,291],[250,291],[250,291],[250,291],[250,291],[250,291],[250,291],[250,291],[250,291],[250,291],[250,291],[250,291]]}},\"id\":\"7ad185f4-4f21-4976-91c7-f3ef46fc8d50\",\"type\":\"ColumnDataSource\"},{\"attributes\":{},\"id\":\"6cd88195-08ff-4583-82a0-d31e4624e311\",\"type\":\"BasicTicker\"},{\"attributes\":{\"callback\":null,\"end\":700},\"id\":\"9c783805-d572-4e0e-b549-d1a95c6ee518\",\"type\":\"Range1d\"},{\"attributes\":{\"plot\":{\"id\":\"aaf19bf8-c205-459b-8975-263eeecf32e8\",\"subtype\":\"Figure\",\"type\":\"Plot\"}},\"id\":\"5bc42747-6cdf-48b1-ac08-a3f82f41c254\",\"type\":\"HelpTool\"},{\"attributes\":{\"bottom\":{\"field\":\"bottom\"},\"fill_color\":{\"field\":\"fill_color\"},\"left\":{\"field\":\"left\"},\"line_color\":{\"value\":null},\"right\":{\"field\":\"right\"},\"top\":{\"field\":\"top\"}},\"id\":\"6f5a8c66-1202-4894-aa68-76480ef93e54\",\"type\":\"Quad\"},{\"attributes\":{\"level\":\"glyph\",\"plot\":{\"id\":\"aaf19bf8-c205-459b-8975-263eeecf32e8\",\"subtype\":\"Figure\",\"type\":\"Plot\"},\"source\":{\"id\":\"df96c8fe-cd97-4fdc-87bf-3d644a943a4a\",\"type\":\"ColumnDataSource\"},\"text\":{\"field\":\"vals\"},\"text_align\":\"center\",\"text_baseline\":\"middle\",\"text_font_size\":{\"value\":\"8pt\"},\"x\":{\"field\":\"x\"},\"y\":{\"field\":\"y\"}},\"id\":\"c5a2e8ef-2132-4124-afc4-aa908a48ebdd\",\"type\":\"LabelSet\"},{\"attributes\":{\"callback\":null,\"column_names\":[\"right\",\"bottom\",\"top\",\"left\"],\"data\":{\"bottom\":[645,645,645,645,645,645,645],\"left\":[135809835,135957574,136289083,136499189,136545415,136597196,136664254],\"right\":[135928279,136288182,136482839,136542633,136594750,136634047,136743222],\"top\":[675,675,675,675,675,675,675]}},\"id\":\"121d8898-e5e8-4b65-8793-dd4a074a4eb5\",\"type\":\"ColumnDataSource\"},{\"attributes\":{\"line_color\":{\"field\":\"line_color\"},\"xs\":{\"field\":\"xs\"},\"ys\":{\"field\":\"ys\"}},\"id\":\"971d0d04-4b5a-4d9b-b09d-67e90658c3ae\",\"type\":\"MultiLine\"},{\"attributes\":{\"bottom_units\":\"screen\",\"fill_alpha\":{\"value\":0.5},\"fill_color\":{\"value\":\"lightgrey\"},\"left_units\":\"screen\",\"level\":\"overlay\",\"line_alpha\":{\"value\":1.0},\"line_color\":{\"value\":\"black\"},\"line_dash\":[4,4],\"line_width\":{\"value\":2},\"plot\":null,\"render_mode\":\"css\",\"right_units\":\"screen\",\"top_units\":\"screen\"},\"id\":\"a7e040dc-1763-42de-8967-dd515e2a4d66\",\"type\":\"BoxAnnotation\"},{\"attributes\":{},\"id\":\"7ec4138b-051d-460e-9c2b-3a63db8cb33c\",\"type\":\"BasicTicker\"},{\"attributes\":{\"data_source\":{\"id\":\"2e4ec276-f680-4bed-850e-c6bf4aab7294\",\"type\":\"ColumnDataSource\"},\"glyph\":{\"id\":\"6f5a8c66-1202-4894-aa68-76480ef93e54\",\"type\":\"Quad\"},\"hover_glyph\":null,\"nonselection_glyph\":{\"id\":\"ed9bfb12-094b-4171-92cc-6078750a43c6\",\"type\":\"Quad\"},\"selection_glyph\":null},\"id\":\"4c63fb6e-6bf0-4448-85e8-d8fbf20a1993\",\"type\":\"GlyphRenderer\"},{\"attributes\":{\"formatter\":{\"id\":\"50312d82-d4b4-4c4d-b6fd-61e12386820d\",\"type\":\"BasicTickFormatter\"},\"plot\":{\"id\":\"aaf19bf8-c205-459b-8975-263eeecf32e8\",\"subtype\":\"Figure\",\"type\":\"Plot\"},\"ticker\":{\"id\":\"6cd88195-08ff-4583-82a0-d31e4624e311\",\"type\":\"BasicTicker\"}},\"id\":\"8f6273e1-d7e2-4814-8f63-c3d8c35e67ea\",\"type\":\"LinearAxis\"},{\"attributes\":{\"callback\":null,\"end\":136786630,\"start\":135757320},\"id\":\"cdcae736-4eac-492d-b92b-4a181d435d78\",\"type\":\"Range1d\"},{\"attributes\":{\"formatter\":{\"id\":\"6b92748a-1780-4409-8aad-761e1eff72c1\",\"type\":\"BasicTickFormatter\"},\"plot\":{\"id\":\"aaf19bf8-c205-459b-8975-263eeecf32e8\",\"subtype\":\"Figure\",\"type\":\"Plot\"},\"ticker\":{\"id\":\"7ec4138b-051d-460e-9c2b-3a63db8cb33c\",\"type\":\"BasicTicker\"},\"visible\":null},\"id\":\"4a0cbb7d-559d-426b-a392-95de6ce7e078\",\"type\":\"LinearAxis\"},{\"attributes\":{},\"id\":\"6b92748a-1780-4409-8aad-761e1eff72c1\",\"type\":\"BasicTickFormatter\"},{\"attributes\":{\"active_drag\":\"auto\",\"active_scroll\":\"auto\",\"active_tap\":\"auto\",\"tools\":[{\"id\":\"5b72295f-5b51-428b-a854-e53d77ba5a19\",\"type\":\"PanTool\"},{\"id\":\"013a05e6-ea5a-499a-ad8f-b8d8f024ce4d\",\"type\":\"WheelZoomTool\"},{\"id\":\"0e8f6af2-7501-4b3e-a9c4-7b9591bed0ee\",\"type\":\"BoxZoomTool\"},{\"id\":\"0a38c260-7109-4b3f-a004-344d63323217\",\"type\":\"SaveTool\"},{\"id\":\"1153e219-c03b-4dfa-98fb-cf87d1052f90\",\"type\":\"ResetTool\"},{\"id\":\"5bc42747-6cdf-48b1-ac08-a3f82f41c254\",\"type\":\"HelpTool\"}]},\"id\":\"19bc70ed-fe1f-4a00-a6f0-63df465532c3\",\"type\":\"Toolbar\"},{\"attributes\":{\"callback\":null,\"column_names\":[\"right\",\"bottom\",\"top\",\"left\",\"fill_color\"],\"data\":{\"bottom\":[550,50,450,150,550,350,450,250,150,50,250],\"fill_color\":[\"#808080\",\"#ffff00\",\"#808080\",\"#61c4c4\",\"#808080\",\"#61c4c4\",\"#808080\",\"#61c4c4\",\"#808080\",\"#61c4c4\",\"#808080\"],\"left\":[135757320,135959272,136393157,136403994,136406646,136447707,136496493,136496805,136511874,136514709,136556805],\"right\":[135777504,136375855,136441410,136485096,136438078,136490266,136553925,136552629,136533195,136543147,136747085],\"top\":[596,88,493,190,595,392,493,291,191,90,291]}},\"id\":\"2e4ec276-f680-4bed-850e-c6bf4aab7294\",\"type\":\"ColumnDataSource\"},{\"attributes\":{\"data_source\":{\"id\":\"7ad185f4-4f21-4976-91c7-f3ef46fc8d50\",\"type\":\"ColumnDataSource\"},\"glyph\":{\"id\":\"971d0d04-4b5a-4d9b-b09d-67e90658c3ae\",\"type\":\"MultiLine\"},\"hover_glyph\":null,\"nonselection_glyph\":{\"id\":\"4e31a696-a93f-4e01-8b10-f8082372edbc\",\"type\":\"MultiLine\"},\"selection_glyph\":null},\"id\":\"e0733c98-0220-4eea-a383-8536a0f1143c\",\"type\":\"GlyphRenderer\"},{\"attributes\":{\"callback\":null,\"column_names\":[\"y\",\"x\",\"vals\"],\"data\":{\"vals\":[\"13_1696\",\"5_684\",\"10_1218\",\"13_911\",\"5_1460\",\"4_1149\",\"9_1170\",\"9_1023\",\"5_976\",\"6_820\",\"39_1014\"],\"x\":[135757320,135959272,136393157,136403994,136406646,136447707,136496493,136496805,136511874,136514709,136556805],\"y\":[601.0,93.0,498.0,195.0,600.0,397.0,498.0,296.0,196.0,95.0,296.0]}},\"id\":\"ce83409c-6626-42a3-bf3d-4d1306f697e4\",\"type\":\"ColumnDataSource\"},{\"attributes\":{\"dimension\":1,\"plot\":{\"id\":\"aaf19bf8-c205-459b-8975-263eeecf32e8\",\"subtype\":\"Figure\",\"type\":\"Plot\"},\"ticker\":{\"id\":\"7ec4138b-051d-460e-9c2b-3a63db8cb33c\",\"type\":\"BasicTicker\"}},\"id\":\"41fc83d6-60e3-4fbf-a7d5-950ba20597d6\",\"type\":\"Grid\"},{\"attributes\":{\"plot\":{\"id\":\"aaf19bf8-c205-459b-8975-263eeecf32e8\",\"subtype\":\"Figure\",\"type\":\"Plot\"},\"ticker\":{\"id\":\"6cd88195-08ff-4583-82a0-d31e4624e311\",\"type\":\"BasicTicker\"}},\"id\":\"53d1f0ae-1074-4ada-9886-1d4e695ed0ca\",\"type\":\"Grid\"},{\"attributes\":{\"data_source\":{\"id\":\"121d8898-e5e8-4b65-8793-dd4a074a4eb5\",\"type\":\"ColumnDataSource\"},\"glyph\":{\"id\":\"00d073a8-3a95-4fc5-9e89-4b8c00b0fbc6\",\"type\":\"Quad\"},\"hover_glyph\":null,\"nonselection_glyph\":{\"id\":\"c7fc026b-fd22-496e-b02d-2047bf3944fb\",\"type\":\"Quad\"},\"selection_glyph\":null},\"id\":\"9e22b9be-a499-413b-aee7-913288f12a2b\",\"type\":\"GlyphRenderer\"},{\"attributes\":{\"plot\":{\"id\":\"aaf19bf8-c205-459b-8975-263eeecf32e8\",\"subtype\":\"Figure\",\"type\":\"Plot\"}},\"id\":\"013a05e6-ea5a-499a-ad8f-b8d8f024ce4d\",\"type\":\"WheelZoomTool\"},{\"attributes\":{\"below\":[{\"id\":\"8f6273e1-d7e2-4814-8f63-c3d8c35e67ea\",\"type\":\"LinearAxis\"}],\"left\":[{\"id\":\"4a0cbb7d-559d-426b-a392-95de6ce7e078\",\"type\":\"LinearAxis\"}],\"plot_height\":700,\"plot_width\":900,\"renderers\":[{\"id\":\"8f6273e1-d7e2-4814-8f63-c3d8c35e67ea\",\"type\":\"LinearAxis\"},{\"id\":\"53d1f0ae-1074-4ada-9886-1d4e695ed0ca\",\"type\":\"Grid\"},{\"id\":\"4a0cbb7d-559d-426b-a392-95de6ce7e078\",\"type\":\"LinearAxis\"},{\"id\":\"41fc83d6-60e3-4fbf-a7d5-950ba20597d6\",\"type\":\"Grid\"},{\"id\":\"a7e040dc-1763-42de-8967-dd515e2a4d66\",\"type\":\"BoxAnnotation\"},{\"id\":\"4c63fb6e-6bf0-4448-85e8-d8fbf20a1993\",\"type\":\"GlyphRenderer\"},{\"id\":\"e0733c98-0220-4eea-a383-8536a0f1143c\",\"type\":\"GlyphRenderer\"},{\"id\":\"2bf5bfde-0c6c-426e-bd05-1dd6d9fb068c\",\"type\":\"LabelSet\"},{\"id\":\"9e22b9be-a499-413b-aee7-913288f12a2b\",\"type\":\"GlyphRenderer\"},{\"id\":\"c5a2e8ef-2132-4124-afc4-aa908a48ebdd\",\"type\":\"LabelSet\"}],\"title\":{\"id\":\"c09204fe-4365-4b08-a53e-7bd94b887546\",\"type\":\"Title\"},\"tool_events\":{\"id\":\"a2e8fa53-f640-4bb9-bd9f-2040b02fb937\",\"type\":\"ToolEvents\"},\"toolbar\":{\"id\":\"19bc70ed-fe1f-4a00-a6f0-63df465532c3\",\"type\":\"Toolbar\"},\"toolbar_location\":null,\"x_range\":{\"id\":\"cdcae736-4eac-492d-b92b-4a181d435d78\",\"type\":\"Range1d\"},\"y_range\":{\"id\":\"9c783805-d572-4e0e-b549-d1a95c6ee518\",\"type\":\"Range1d\"}},\"id\":\"aaf19bf8-c205-459b-8975-263eeecf32e8\",\"subtype\":\"Figure\",\"type\":\"Plot\"},{\"attributes\":{\"bottom\":{\"field\":\"bottom\"},\"fill_alpha\":{\"value\":0.1},\"fill_color\":{\"value\":\"#1f77b4\"},\"left\":{\"field\":\"left\"},\"line_alpha\":{\"value\":0.1},\"line_color\":{\"value\":\"#1f77b4\"},\"right\":{\"field\":\"right\"},\"top\":{\"field\":\"top\"}},\"id\":\"c7fc026b-fd22-496e-b02d-2047bf3944fb\",\"type\":\"Quad\"},{\"attributes\":{\"callback\":null,\"column_names\":[\"y\",\"x\",\"vals\"],\"data\":{\"vals\":[\"RAB3GAP1\",\"ZRANB3\",\"R3HDM1\",\"UBXN4\",\"LCT\",\"MCM6\",\"DARS\"],\"x\":[135869057.0,136122878.0,136385961.0,136520911.0,136570082.5,136615621.5,136703738.0],\"y\":[660.0,660.0,660.0,660.0,660.0,660.0,660.0]}},\"id\":\"df96c8fe-cd97-4fdc-87bf-3d644a943a4a\",\"type\":\"ColumnDataSource\"},{\"attributes\":{\"bottom\":{\"field\":\"bottom\"},\"fill_color\":{\"value\":\"white\"},\"left\":{\"field\":\"left\"},\"right\":{\"field\":\"right\"},\"top\":{\"field\":\"top\"}},\"id\":\"00d073a8-3a95-4fc5-9e89-4b8c00b0fbc6\",\"type\":\"Quad\"},{\"attributes\":{\"bottom\":{\"field\":\"bottom\"},\"fill_alpha\":{\"value\":0.1},\"fill_color\":{\"value\":\"#1f77b4\"},\"left\":{\"field\":\"left\"},\"line_alpha\":{\"value\":0.1},\"line_color\":{\"value\":\"#1f77b4\"},\"right\":{\"field\":\"right\"},\"top\":{\"field\":\"top\"}},\"id\":\"ed9bfb12-094b-4171-92cc-6078750a43c6\",\"type\":\"Quad\"},{\"attributes\":{\"plot\":{\"id\":\"aaf19bf8-c205-459b-8975-263eeecf32e8\",\"subtype\":\"Figure\",\"type\":\"Plot\"}},\"id\":\"0a38c260-7109-4b3f-a004-344d63323217\",\"type\":\"SaveTool\"}],\"root_ids\":[\"aaf19bf8-c205-459b-8975-263eeecf32e8\"]},\"title\":\"Bokeh Application\",\"version\":\"0.12.0\"}};\n",
       "            var render_items = [{\"docid\":\"d655e982-27c8-4d47-9d25-b87046319a91\",\"elementid\":\"e5cf3e32-7e45-4995-b966-0631815e8330\",\"modelid\":\"aaf19bf8-c205-459b-8975-263eeecf32e8\",\"notebook_comms_target\":\"16d99dc8-940a-474b-8151-e9f49baefa24\"}];\n",
       "            \n",
       "            Bokeh.embed.embed_items(docs_json, render_items);\n",
       "        });\n",
       "      },\n",
       "      function(Bokeh) {\n",
       "      }\n",
       "    ];\n",
       "  \n",
       "    function run_inline_js() {\n",
       "      for (var i = 0; i < inline_js.length; i++) {\n",
       "        inline_js[i](window.Bokeh);\n",
       "      }\n",
       "    }\n",
       "  \n",
       "    if (window._bokeh_is_loading === 0) {\n",
       "      console.log(\"Bokeh: BokehJS loaded, going straight to plotting\");\n",
       "      run_inline_js();\n",
       "    } else {\n",
       "      load_libs(js_urls, function() {\n",
       "        console.log(\"Bokeh: BokehJS plotting callback run at\", now());\n",
       "        run_inline_js();\n",
       "      });\n",
       "    }\n",
       "  }(this));\n",
       "</script>"
      ]
     },
     "metadata": {},
     "output_type": "display_data"
    },
    {
     "data": {
      "text/html": [
       "<p><code>&lt;Bokeh Notebook handle for <strong>In[15]</strong>&gt;</code></p>"
      ],
      "text/plain": [
       "<bokeh.io._CommsHandle at 0x7fe724864410>"
      ]
     },
     "execution_count": 15,
     "metadata": {},
     "output_type": "execute_result"
    }
   ],
   "source": [
    "plt_obj = dm.superset_yes_no([dm.di_5_684, dm.di_5_1460], [dm.di_4_815, dm.di_9_944], min_match=0.5)\n",
    "plt = plt_obj.do_plot()\n",
    "am = plt_obj.plot_context.yes_allele_mask\n",
    "show(plt)"
   ]
  },
  {
   "cell_type": "code",
   "execution_count": 16,
   "metadata": {
    "collapsed": false
   },
   "outputs": [
    {
     "data": {
      "text/html": [
       "<table>\n",
       "<thead><tr><th style=\"text-align:center\">index</th><th style=\"text-align:center\">first</th><th style=\"text-align:center\">length</th><th style=\"text-align:center\">snps</th><th style=\"text-align:center\" colspan=2>alleles</th><th style=\"text-align:center\" colspan=2>matches</th><th style=\"text-align:center\" colspan=2>afr</th><th style=\"text-align:center\" colspan=2>afx</th><th style=\"text-align:center\" colspan=2>amr</th><th style=\"text-align:center\" colspan=2>eas</th><th style=\"text-align:center\" colspan=2>eur</th><th style=\"text-align:center\" colspan=2>sas</th><th style=\"text-align:center\" colspan=2>sax</th></tr></thead>\n",
       "<tr class=\"even\"><td style=\"text-align: right;\">353240</td><td style=\"text-align: right;\">135,757,320</td><td style=\"text-align: right;\">20,184</td><td style=\"text-align: right;\">13</td><td style=\"text-align: right;\">1696</td><td style=\"text-align: right;\">0.01</td><td style=\"text-align: right;\">18</td><td style=\"text-align: right;\">1.00</td><td style=\"text-align: right;\">0</td><td style=\"text-align: right;\">0.00</td><td style=\"text-align: right;\">0</td><td style=\"text-align: right;\">0.00</td><td style=\"text-align: right;\">0</td><td style=\"text-align: right;\">0.00</td><td style=\"text-align: right;\">7</td><td style=\"text-align: right;\">3.13</td><td style=\"text-align: right;\">0</td><td style=\"text-align: right;\">0.00</td><td style=\"text-align: right;\">3</td><td style=\"text-align: right;\">2.76</td><td style=\"text-align: right;\">8</td><td style=\"text-align: right;\">5.53</td></tr>\n",
       "<tr><td style=\"text-align: right;\">353814</td><td style=\"text-align: right;\">136,406,646</td><td style=\"text-align: right;\">31,432</td><td style=\"text-align: right;\">5</td><td style=\"text-align: right;\">1460</td><td style=\"text-align: right;\">0.01</td><td style=\"text-align: right;\">18</td><td style=\"text-align: right;\">1.00</td><td style=\"text-align: right;\">0</td><td style=\"text-align: right;\">0.00</td><td style=\"text-align: right;\">0</td><td style=\"text-align: right;\">0.00</td><td style=\"text-align: right;\">0</td><td style=\"text-align: right;\">0.00</td><td style=\"text-align: right;\">7</td><td style=\"text-align: right;\">3.13</td><td style=\"text-align: right;\">0</td><td style=\"text-align: right;\">0.00</td><td style=\"text-align: right;\">3</td><td style=\"text-align: right;\">2.76</td><td style=\"text-align: right;\">8</td><td style=\"text-align: right;\">5.53</td></tr>\n",
       "<tr class=\"even\"><td style=\"text-align: right;\">353790</td><td style=\"text-align: right;\">136,393,157</td><td style=\"text-align: right;\">48,253</td><td style=\"text-align: right;\">10</td><td style=\"text-align: right;\">1218</td><td style=\"text-align: right;\">0.01</td><td style=\"text-align: right;\">18</td><td style=\"text-align: right;\">1.00</td><td style=\"text-align: right;\">0</td><td style=\"text-align: right;\">0.00</td><td style=\"text-align: right;\">0</td><td style=\"text-align: right;\">0.00</td><td style=\"text-align: right;\">0</td><td style=\"text-align: right;\">0.00</td><td style=\"text-align: right;\">7</td><td style=\"text-align: right;\">3.13</td><td style=\"text-align: right;\">0</td><td style=\"text-align: right;\">0.00</td><td style=\"text-align: right;\">3</td><td style=\"text-align: right;\">2.76</td><td style=\"text-align: right;\">8</td><td style=\"text-align: right;\">5.53</td></tr>\n",
       "<tr><td style=\"text-align: right;\">353906</td><td style=\"text-align: right;\">136,496,493</td><td style=\"text-align: right;\">57,432</td><td style=\"text-align: right;\">9</td><td style=\"text-align: right;\">1170</td><td style=\"text-align: right;\">0.01</td><td style=\"text-align: right;\">16</td><td style=\"text-align: right;\">0.89</td><td style=\"text-align: right;\">0</td><td style=\"text-align: right;\">0.00</td><td style=\"text-align: right;\">0</td><td style=\"text-align: right;\">0.00</td><td style=\"text-align: right;\">0</td><td style=\"text-align: right;\">0.00</td><td style=\"text-align: right;\">6</td><td style=\"text-align: right;\">3.02</td><td style=\"text-align: right;\">0</td><td style=\"text-align: right;\">0.00</td><td style=\"text-align: right;\">3</td><td style=\"text-align: right;\">3.11</td><td style=\"text-align: right;\">7</td><td style=\"text-align: right;\">5.45</td></tr>\n",
       "<tr class=\"even\"><td style=\"text-align: right;\">353849</td><td style=\"text-align: right;\">136,447,707</td><td style=\"text-align: right;\">42,559</td><td style=\"text-align: right;\">4</td><td style=\"text-align: right;\">1149</td><td style=\"text-align: right;\">0.02</td><td style=\"text-align: right;\">18</td><td style=\"text-align: right;\">1.00</td><td style=\"text-align: right;\">0</td><td style=\"text-align: right;\">0.00</td><td style=\"text-align: right;\">0</td><td style=\"text-align: right;\">0.00</td><td style=\"text-align: right;\">0</td><td style=\"text-align: right;\">0.00</td><td style=\"text-align: right;\">7</td><td style=\"text-align: right;\">3.13</td><td style=\"text-align: right;\">0</td><td style=\"text-align: right;\">0.00</td><td style=\"text-align: right;\">3</td><td style=\"text-align: right;\">2.76</td><td style=\"text-align: right;\">8</td><td style=\"text-align: right;\">5.53</td></tr>\n",
       "<tr><td style=\"text-align: right;\">353907</td><td style=\"text-align: right;\">136,496,805</td><td style=\"text-align: right;\">55,824</td><td style=\"text-align: right;\">9</td><td style=\"text-align: right;\">1023</td><td style=\"text-align: right;\">0.02</td><td style=\"text-align: right;\">16</td><td style=\"text-align: right;\">0.89</td><td style=\"text-align: right;\">0</td><td style=\"text-align: right;\">0.00</td><td style=\"text-align: right;\">0</td><td style=\"text-align: right;\">0.00</td><td style=\"text-align: right;\">0</td><td style=\"text-align: right;\">0.00</td><td style=\"text-align: right;\">6</td><td style=\"text-align: right;\">3.02</td><td style=\"text-align: right;\">0</td><td style=\"text-align: right;\">0.00</td><td style=\"text-align: right;\">3</td><td style=\"text-align: right;\">3.11</td><td style=\"text-align: right;\">7</td><td style=\"text-align: right;\">5.45</td></tr>\n",
       "<tr class=\"even\"><td style=\"text-align: right;\">353984</td><td style=\"text-align: right;\">136,556,805</td><td style=\"text-align: right;\">190,280</td><td style=\"text-align: right;\">39</td><td style=\"text-align: right;\">1014</td><td style=\"text-align: right;\">0.01</td><td style=\"text-align: right;\">14</td><td style=\"text-align: right;\">0.78</td><td style=\"text-align: right;\">0</td><td style=\"text-align: right;\">0.00</td><td style=\"text-align: right;\">0</td><td style=\"text-align: right;\">0.00</td><td style=\"text-align: right;\">0</td><td style=\"text-align: right;\">0.00</td><td style=\"text-align: right;\">4</td><td style=\"text-align: right;\">2.30</td><td style=\"text-align: right;\">0</td><td style=\"text-align: right;\">0.00</td><td style=\"text-align: right;\">3</td><td style=\"text-align: right;\">3.55</td><td style=\"text-align: right;\">7</td><td style=\"text-align: right;\">6.22</td></tr>\n",
       "<tr><td style=\"text-align: right;\">353935</td><td style=\"text-align: right;\">136,511,874</td><td style=\"text-align: right;\">21,321</td><td style=\"text-align: right;\">5</td><td style=\"text-align: right;\">976</td><td style=\"text-align: right;\">0.02</td><td style=\"text-align: right;\">15</td><td style=\"text-align: right;\">0.83</td><td style=\"text-align: right;\">0</td><td style=\"text-align: right;\">0.00</td><td style=\"text-align: right;\">0</td><td style=\"text-align: right;\">0.00</td><td style=\"text-align: right;\">0</td><td style=\"text-align: right;\">0.00</td><td style=\"text-align: right;\">6</td><td style=\"text-align: right;\">3.22</td><td style=\"text-align: right;\">0</td><td style=\"text-align: right;\">0.00</td><td style=\"text-align: right;\">3</td><td style=\"text-align: right;\">3.32</td><td style=\"text-align: right;\">6</td><td style=\"text-align: right;\">4.98</td></tr>\n",
       "<tr class=\"even\"><td style=\"text-align: right;\">353807</td><td style=\"text-align: right;\">136,403,994</td><td style=\"text-align: right;\">81,102</td><td style=\"text-align: right;\">13</td><td style=\"text-align: right;\">911</td><td style=\"text-align: right;\">0.02</td><td style=\"text-align: right;\">17</td><td style=\"text-align: right;\">0.94</td><td style=\"text-align: right;\">0</td><td style=\"text-align: right;\">0.00</td><td style=\"text-align: right;\">0</td><td style=\"text-align: right;\">0.00</td><td style=\"text-align: right;\">0</td><td style=\"text-align: right;\">0.00</td><td style=\"text-align: right;\">6</td><td style=\"text-align: right;\">2.84</td><td style=\"text-align: right;\">0</td><td style=\"text-align: right;\">0.00</td><td style=\"text-align: right;\">3</td><td style=\"text-align: right;\">2.93</td><td style=\"text-align: right;\">8</td><td style=\"text-align: right;\">5.86</td></tr>\n",
       "<tr><td style=\"text-align: right;\">353938</td><td style=\"text-align: right;\">136,514,709</td><td style=\"text-align: right;\">28,438</td><td style=\"text-align: right;\">6</td><td style=\"text-align: right;\">820</td><td style=\"text-align: right;\">0.02</td><td style=\"text-align: right;\">15</td><td style=\"text-align: right;\">0.83</td><td style=\"text-align: right;\">0</td><td style=\"text-align: right;\">0.00</td><td style=\"text-align: right;\">0</td><td style=\"text-align: right;\">0.00</td><td style=\"text-align: right;\">0</td><td style=\"text-align: right;\">0.00</td><td style=\"text-align: right;\">6</td><td style=\"text-align: right;\">3.22</td><td style=\"text-align: right;\">0</td><td style=\"text-align: right;\">0.00</td><td style=\"text-align: right;\">3</td><td style=\"text-align: right;\">3.32</td><td style=\"text-align: right;\">6</td><td style=\"text-align: right;\">4.98</td></tr>\n",
       "<tr class=\"even\"><td style=\"text-align: right;\">353498</td><td style=\"text-align: right;\">135,959,272</td><td style=\"text-align: right;\">416,583</td><td style=\"text-align: right;\">5</td><td style=\"text-align: right;\">684</td><td style=\"text-align: right;\">0.03</td><td style=\"text-align: right;\">18</td><td style=\"text-align: right;\">1.00</td><td style=\"text-align: right;\">0</td><td style=\"text-align: right;\">0.00</td><td style=\"text-align: right;\">0</td><td style=\"text-align: right;\">0.00</td><td style=\"text-align: right;\">0</td><td style=\"text-align: right;\">0.00</td><td style=\"text-align: right;\">7</td><td style=\"text-align: right;\">3.13</td><td style=\"text-align: right;\">0</td><td style=\"text-align: right;\">0.00</td><td style=\"text-align: right;\">3</td><td style=\"text-align: right;\">2.76</td><td style=\"text-align: right;\">8</td><td style=\"text-align: right;\">5.53</td></tr>\n",
       "</table>"
      ],
      "text/plain": [
       "<IPython.core.display.HTML object>"
      ]
     },
     "execution_count": 16,
     "metadata": {},
     "output_type": "execute_result"
    }
   ],
   "source": [
    "HTML(plt_obj.get_html())"
   ]
  },
  {
   "cell_type": "code",
   "execution_count": 17,
   "metadata": {
    "collapsed": false
   },
   "outputs": [
    {
     "data": {
      "text/plain": [
       "array([18, 18, 18, 18, 18, 18,  0,  0,  0])"
      ]
     },
     "execution_count": 17,
     "metadata": {},
     "output_type": "execute_result"
    }
   ],
   "source": [
    "sa_9_944.alleles_per_snp(am)"
   ]
  },
  {
   "cell_type": "code",
   "execution_count": 18,
   "metadata": {
    "collapsed": false
   },
   "outputs": [
    {
     "data": {
      "text/html": [
       "\n",
       "\n",
       "    <div class=\"bk-root\">\n",
       "        <div class=\"plotdiv\" id=\"25679db2-0886-4a61-b5f7-d24a7c1fe9f8\"></div>\n",
       "    </div>\n",
       "<script type=\"text/javascript\">\n",
       "  \n",
       "  (function(global) {\n",
       "    function now() {\n",
       "      return new Date();\n",
       "    }\n",
       "  \n",
       "    if (typeof (window._bokeh_onload_callbacks) === \"undefined\") {\n",
       "      window._bokeh_onload_callbacks = [];\n",
       "    }\n",
       "  \n",
       "    function run_callbacks() {\n",
       "      window._bokeh_onload_callbacks.forEach(function(callback) { callback() });\n",
       "      delete window._bokeh_onload_callbacks\n",
       "      console.info(\"Bokeh: all callbacks have finished\");\n",
       "    }\n",
       "  \n",
       "    function load_libs(js_urls, callback) {\n",
       "      window._bokeh_onload_callbacks.push(callback);\n",
       "      if (window._bokeh_is_loading > 0) {\n",
       "        console.log(\"Bokeh: BokehJS is being loaded, scheduling callback at\", now());\n",
       "        return null;\n",
       "      }\n",
       "      if (js_urls == null || js_urls.length === 0) {\n",
       "        run_callbacks();\n",
       "        return null;\n",
       "      }\n",
       "      console.log(\"Bokeh: BokehJS not loaded, scheduling load and callback at\", now());\n",
       "      window._bokeh_is_loading = js_urls.length;\n",
       "      for (var i = 0; i < js_urls.length; i++) {\n",
       "        var url = js_urls[i];\n",
       "        var s = document.createElement('script');\n",
       "        s.src = url;\n",
       "        s.async = false;\n",
       "        s.onreadystatechange = s.onload = function() {\n",
       "          window._bokeh_is_loading--;\n",
       "          if (window._bokeh_is_loading === 0) {\n",
       "            console.log(\"Bokeh: all BokehJS libraries loaded\");\n",
       "            run_callbacks()\n",
       "          }\n",
       "        };\n",
       "        s.onerror = function() {\n",
       "          console.warn(\"failed to load library \" + url);\n",
       "        };\n",
       "        console.log(\"Bokeh: injecting script tag for BokehJS library: \", url);\n",
       "        document.getElementsByTagName(\"head\")[0].appendChild(s);\n",
       "      }\n",
       "    };var element = document.getElementById(\"25679db2-0886-4a61-b5f7-d24a7c1fe9f8\");\n",
       "    if (element == null) {\n",
       "      console.log(\"Bokeh: ERROR: autoload.js configured with elementid '25679db2-0886-4a61-b5f7-d24a7c1fe9f8' but no matching script tag was found. \")\n",
       "      return false;\n",
       "    }\n",
       "  \n",
       "    var js_urls = [];\n",
       "  \n",
       "    var inline_js = [\n",
       "      function(Bokeh) {\n",
       "        Bokeh.$(function() {\n",
       "            var docs_json = {\"72c86d78-31f6-4459-b078-31e4cd613dfc\":{\"roots\":{\"references\":[{\"attributes\":{\"plot\":{\"id\":\"bbe56f2b-1345-4e15-b680-643d2bc03dcb\",\"subtype\":\"Figure\",\"type\":\"Plot\"},\"ticker\":{\"id\":\"162f5ca9-53fd-416b-a2fd-db26c84f0d3c\",\"type\":\"BasicTicker\"}},\"id\":\"5155b26e-5b9f-42b7-9c3a-cf61feb0ad31\",\"type\":\"Grid\"},{\"attributes\":{\"plot\":null,\"text\":null},\"id\":\"ade830a4-d779-456f-bfa4-07645d83d179\",\"type\":\"Title\"},{\"attributes\":{\"formatter\":{\"id\":\"5942953a-cd1e-40c4-9e44-6b6cde11f6fe\",\"type\":\"BasicTickFormatter\"},\"plot\":{\"id\":\"bbe56f2b-1345-4e15-b680-643d2bc03dcb\",\"subtype\":\"Figure\",\"type\":\"Plot\"},\"ticker\":{\"id\":\"162f5ca9-53fd-416b-a2fd-db26c84f0d3c\",\"type\":\"BasicTicker\"}},\"id\":\"ec3b40bf-43f6-44bc-ba87-ab869377184d\",\"type\":\"LinearAxis\"},{\"attributes\":{\"level\":\"glyph\",\"plot\":{\"id\":\"bbe56f2b-1345-4e15-b680-643d2bc03dcb\",\"subtype\":\"Figure\",\"type\":\"Plot\"},\"source\":{\"id\":\"9df9ccd0-4046-4993-a37a-19aa54b791f3\",\"type\":\"ColumnDataSource\"},\"text\":{\"field\":\"vals\"},\"text_align\":\"center\",\"text_baseline\":\"middle\",\"text_font_size\":{\"value\":\"8pt\"},\"x\":{\"field\":\"x\"},\"y\":{\"field\":\"y\"}},\"id\":\"68f03d74-80cb-4487-9734-763ccb53d223\",\"type\":\"LabelSet\"},{\"attributes\":{\"line_alpha\":{\"value\":0.1},\"line_color\":{\"value\":\"#1f77b4\"},\"xs\":{\"field\":\"xs\"},\"ys\":{\"field\":\"ys\"}},\"id\":\"34c27476-40a7-4897-8981-5a0e08b5d7f6\",\"type\":\"MultiLine\"},{\"attributes\":{\"bottom_units\":\"screen\",\"fill_alpha\":{\"value\":0.5},\"fill_color\":{\"value\":\"lightgrey\"},\"left_units\":\"screen\",\"level\":\"overlay\",\"line_alpha\":{\"value\":1.0},\"line_color\":{\"value\":\"black\"},\"line_dash\":[4,4],\"line_width\":{\"value\":2},\"plot\":null,\"render_mode\":\"css\",\"right_units\":\"screen\",\"top_units\":\"screen\"},\"id\":\"efbfccb9-cb7d-4e22-b82c-1d24814f08cf\",\"type\":\"BoxAnnotation\"},{\"attributes\":{\"bottom\":{\"field\":\"bottom\"},\"fill_color\":{\"field\":\"fill_color\"},\"left\":{\"field\":\"left\"},\"line_color\":{\"value\":null},\"right\":{\"field\":\"right\"},\"top\":{\"field\":\"top\"}},\"id\":\"0abaa3dc-f60c-4675-b47c-5bc48277acf3\",\"type\":\"Quad\"},{\"attributes\":{},\"id\":\"162f5ca9-53fd-416b-a2fd-db26c84f0d3c\",\"type\":\"BasicTicker\"},{\"attributes\":{\"callback\":null,\"column_names\":[\"right\",\"bottom\",\"top\",\"left\",\"fill_color\"],\"data\":{\"bottom\":[50,50,50,50,150,150],\"fill_color\":[\"#808080\",\"#ffff00\",\"#61c461\",\"#61c461\",\"#808080\",\"#61c461\"],\"left\":[135757320,135959272,136398174,136494186,136501840,136682274],\"right\":[135777504,136375855,136474098,136765951,136555659,136775898],\"top\":[96,88,94,95,198,197]}},\"id\":\"48ccf2df-6071-4633-a1a3-ce2a03013f70\",\"type\":\"ColumnDataSource\"},{\"attributes\":{},\"id\":\"5942953a-cd1e-40c4-9e44-6b6cde11f6fe\",\"type\":\"BasicTickFormatter\"},{\"attributes\":{\"active_drag\":\"auto\",\"active_scroll\":\"auto\",\"active_tap\":\"auto\",\"tools\":[{\"id\":\"665955de-068d-4b1d-8abb-fec1d4129f62\",\"type\":\"PanTool\"},{\"id\":\"af7c3d66-c8fc-4ed6-a0f3-6e27989d7bb8\",\"type\":\"WheelZoomTool\"},{\"id\":\"0307c93a-c54e-4d7b-bb23-72af857bc524\",\"type\":\"BoxZoomTool\"},{\"id\":\"e86ae6a1-e0fe-459f-adcc-e3a0315a5930\",\"type\":\"SaveTool\"},{\"id\":\"e80bc47a-9b88-4be8-b9df-0f67150e0897\",\"type\":\"ResetTool\"},{\"id\":\"a925fd78-98cf-4eee-bf05-53ca68f8b2c9\",\"type\":\"HelpTool\"}]},\"id\":\"0f52f544-3044-49b0-857c-def2ec4dd84d\",\"type\":\"Toolbar\"},{\"attributes\":{\"plot\":{\"id\":\"bbe56f2b-1345-4e15-b680-643d2bc03dcb\",\"subtype\":\"Figure\",\"type\":\"Plot\"}},\"id\":\"a925fd78-98cf-4eee-bf05-53ca68f8b2c9\",\"type\":\"HelpTool\"},{\"attributes\":{\"callback\":null,\"end\":300},\"id\":\"9de9a475-380c-4471-8cbb-480a46fc25ed\",\"type\":\"Range1d\"},{\"attributes\":{},\"id\":\"b8aae816-dfa0-476b-b293-13a32bd4ea58\",\"type\":\"BasicTicker\"},{\"attributes\":{\"overlay\":{\"id\":\"efbfccb9-cb7d-4e22-b82c-1d24814f08cf\",\"type\":\"BoxAnnotation\"},\"plot\":{\"id\":\"bbe56f2b-1345-4e15-b680-643d2bc03dcb\",\"subtype\":\"Figure\",\"type\":\"Plot\"}},\"id\":\"0307c93a-c54e-4d7b-bb23-72af857bc524\",\"type\":\"BoxZoomTool\"},{\"attributes\":{\"data_source\":{\"id\":\"8c7cb2d8-e575-4374-9834-5b4be8747161\",\"type\":\"ColumnDataSource\"},\"glyph\":{\"id\":\"6f9cd77c-0422-4633-80f7-5e83ade8d0ab\",\"type\":\"Quad\"},\"hover_glyph\":null,\"nonselection_glyph\":{\"id\":\"66d21ae4-a6f6-4f19-bfd6-768e3fde1185\",\"type\":\"Quad\"},\"selection_glyph\":null},\"id\":\"c8a3f458-51d9-4065-bfff-b9bd5446ddf8\",\"type\":\"GlyphRenderer\"},{\"attributes\":{\"callback\":null,\"column_names\":[\"right\",\"bottom\",\"top\",\"left\"],\"data\":{\"bottom\":[245,245,245,245,245,245,245],\"left\":[135809835,135957574,136289083,136499189,136545415,136597196,136664254],\"right\":[135928279,136288182,136482839,136542633,136594750,136634047,136743222],\"top\":[275,275,275,275,275,275,275]}},\"id\":\"8c7cb2d8-e575-4374-9834-5b4be8747161\",\"type\":\"ColumnDataSource\"},{\"attributes\":{\"below\":[{\"id\":\"ec3b40bf-43f6-44bc-ba87-ab869377184d\",\"type\":\"LinearAxis\"}],\"left\":[{\"id\":\"5c591977-2d40-45fd-81da-67fb2ac91d34\",\"type\":\"LinearAxis\"}],\"plot_height\":300,\"plot_width\":900,\"renderers\":[{\"id\":\"ec3b40bf-43f6-44bc-ba87-ab869377184d\",\"type\":\"LinearAxis\"},{\"id\":\"5155b26e-5b9f-42b7-9c3a-cf61feb0ad31\",\"type\":\"Grid\"},{\"id\":\"5c591977-2d40-45fd-81da-67fb2ac91d34\",\"type\":\"LinearAxis\"},{\"id\":\"e3df0142-e5a2-43d0-94fc-221983113626\",\"type\":\"Grid\"},{\"id\":\"efbfccb9-cb7d-4e22-b82c-1d24814f08cf\",\"type\":\"BoxAnnotation\"},{\"id\":\"a086535f-4ff7-4189-9f5d-4806e9cd17d9\",\"type\":\"GlyphRenderer\"},{\"id\":\"6fec97e9-47df-42f5-a4db-c8165901f975\",\"type\":\"GlyphRenderer\"},{\"id\":\"cb68fb27-7438-4be8-9079-502c1517dde7\",\"type\":\"LabelSet\"},{\"id\":\"c8a3f458-51d9-4065-bfff-b9bd5446ddf8\",\"type\":\"GlyphRenderer\"},{\"id\":\"68f03d74-80cb-4487-9734-763ccb53d223\",\"type\":\"LabelSet\"}],\"title\":{\"id\":\"ade830a4-d779-456f-bfa4-07645d83d179\",\"type\":\"Title\"},\"tool_events\":{\"id\":\"7e4b3278-dfce-45b3-b727-7558258aa50f\",\"type\":\"ToolEvents\"},\"toolbar\":{\"id\":\"0f52f544-3044-49b0-857c-def2ec4dd84d\",\"type\":\"Toolbar\"},\"toolbar_location\":null,\"x_range\":{\"id\":\"a6459f3c-03ba-46fb-8d8c-2b080e1a2bef\",\"type\":\"Range1d\"},\"y_range\":{\"id\":\"9de9a475-380c-4471-8cbb-480a46fc25ed\",\"type\":\"Range1d\"}},\"id\":\"bbe56f2b-1345-4e15-b680-643d2bc03dcb\",\"subtype\":\"Figure\",\"type\":\"Plot\"},{\"attributes\":{\"plot\":{\"id\":\"bbe56f2b-1345-4e15-b680-643d2bc03dcb\",\"subtype\":\"Figure\",\"type\":\"Plot\"}},\"id\":\"af7c3d66-c8fc-4ed6-a0f3-6e27989d7bb8\",\"type\":\"WheelZoomTool\"},{\"attributes\":{\"callback\":null,\"end\":136786630,\"start\":135757320},\"id\":\"a6459f3c-03ba-46fb-8d8c-2b080e1a2bef\",\"type\":\"Range1d\"},{\"attributes\":{\"formatter\":{\"id\":\"9217fdb5-ca01-4b2d-a0c6-ae6a58eb4b0a\",\"type\":\"BasicTickFormatter\"},\"plot\":{\"id\":\"bbe56f2b-1345-4e15-b680-643d2bc03dcb\",\"subtype\":\"Figure\",\"type\":\"Plot\"},\"ticker\":{\"id\":\"b8aae816-dfa0-476b-b293-13a32bd4ea58\",\"type\":\"BasicTicker\"},\"visible\":null},\"id\":\"5c591977-2d40-45fd-81da-67fb2ac91d34\",\"type\":\"LinearAxis\"},{\"attributes\":{\"callback\":null,\"column_names\":[\"y\",\"x\",\"vals\"],\"data\":{\"vals\":[\"13_1696\",\"5_684\",\"26_1414\",\"64_1575\",\"10_2206\",\"7_1868\"],\"x\":[135757320,135959272,136398174,136494186,136501840,136682274],\"y\":[101.0,93.0,99.0,100.0,203.0,202.0]}},\"id\":\"f0e9c5b0-353d-4787-8e9b-e2a60fadd728\",\"type\":\"ColumnDataSource\"},{\"attributes\":{\"data_source\":{\"id\":\"8e05c401-d080-4d81-82c3-87e9429e8aa8\",\"type\":\"ColumnDataSource\"},\"glyph\":{\"id\":\"98af9ad3-eb25-42e6-9dbf-adb915fbad7e\",\"type\":\"MultiLine\"},\"hover_glyph\":null,\"nonselection_glyph\":{\"id\":\"34c27476-40a7-4897-8981-5a0e08b5d7f6\",\"type\":\"MultiLine\"},\"selection_glyph\":null},\"id\":\"6fec97e9-47df-42f5-a4db-c8165901f975\",\"type\":\"GlyphRenderer\"},{\"attributes\":{},\"id\":\"9217fdb5-ca01-4b2d-a0c6-ae6a58eb4b0a\",\"type\":\"BasicTickFormatter\"},{\"attributes\":{\"bottom\":{\"field\":\"bottom\"},\"fill_color\":{\"value\":\"white\"},\"left\":{\"field\":\"left\"},\"right\":{\"field\":\"right\"},\"top\":{\"field\":\"top\"}},\"id\":\"6f9cd77c-0422-4633-80f7-5e83ade8d0ab\",\"type\":\"Quad\"},{\"attributes\":{\"bottom\":{\"field\":\"bottom\"},\"fill_alpha\":{\"value\":0.1},\"fill_color\":{\"value\":\"#1f77b4\"},\"left\":{\"field\":\"left\"},\"line_alpha\":{\"value\":0.1},\"line_color\":{\"value\":\"#1f77b4\"},\"right\":{\"field\":\"right\"},\"top\":{\"field\":\"top\"}},\"id\":\"5dce054f-3baf-4614-954b-10761cf92760\",\"type\":\"Quad\"},{\"attributes\":{\"plot\":{\"id\":\"bbe56f2b-1345-4e15-b680-643d2bc03dcb\",\"subtype\":\"Figure\",\"type\":\"Plot\"}},\"id\":\"e80bc47a-9b88-4be8-b9df-0f67150e0897\",\"type\":\"ResetTool\"},{\"attributes\":{\"data_source\":{\"id\":\"48ccf2df-6071-4633-a1a3-ce2a03013f70\",\"type\":\"ColumnDataSource\"},\"glyph\":{\"id\":\"0abaa3dc-f60c-4675-b47c-5bc48277acf3\",\"type\":\"Quad\"},\"hover_glyph\":null,\"nonselection_glyph\":{\"id\":\"5dce054f-3baf-4614-954b-10761cf92760\",\"type\":\"Quad\"},\"selection_glyph\":null},\"id\":\"a086535f-4ff7-4189-9f5d-4806e9cd17d9\",\"type\":\"GlyphRenderer\"},{\"attributes\":{\"plot\":{\"id\":\"bbe56f2b-1345-4e15-b680-643d2bc03dcb\",\"subtype\":\"Figure\",\"type\":\"Plot\"}},\"id\":\"e86ae6a1-e0fe-459f-adcc-e3a0315a5930\",\"type\":\"SaveTool\"},{\"attributes\":{\"bottom\":{\"field\":\"bottom\"},\"fill_alpha\":{\"value\":0.1},\"fill_color\":{\"value\":\"#1f77b4\"},\"left\":{\"field\":\"left\"},\"line_alpha\":{\"value\":0.1},\"line_color\":{\"value\":\"#1f77b4\"},\"right\":{\"field\":\"right\"},\"top\":{\"field\":\"top\"}},\"id\":\"66d21ae4-a6f6-4f19-bfd6-768e3fde1185\",\"type\":\"Quad\"},{\"attributes\":{\"dimension\":1,\"plot\":{\"id\":\"bbe56f2b-1345-4e15-b680-643d2bc03dcb\",\"subtype\":\"Figure\",\"type\":\"Plot\"},\"ticker\":{\"id\":\"b8aae816-dfa0-476b-b293-13a32bd4ea58\",\"type\":\"BasicTicker\"}},\"id\":\"e3df0142-e5a2-43d0-94fc-221983113626\",\"type\":\"Grid\"},{\"attributes\":{\"level\":\"glyph\",\"plot\":{\"id\":\"bbe56f2b-1345-4e15-b680-643d2bc03dcb\",\"subtype\":\"Figure\",\"type\":\"Plot\"},\"source\":{\"id\":\"f0e9c5b0-353d-4787-8e9b-e2a60fadd728\",\"type\":\"ColumnDataSource\"},\"text\":{\"field\":\"vals\"},\"text_font_size\":{\"value\":\"9pt\"},\"text_font_style\":\"bold\",\"x\":{\"field\":\"x\"},\"y\":{\"field\":\"y\"}},\"id\":\"cb68fb27-7438-4be8-9079-502c1517dde7\",\"type\":\"LabelSet\"},{\"attributes\":{\"callback\":null,\"column_names\":[\"y\",\"x\",\"vals\"],\"data\":{\"vals\":[\"RAB3GAP1\",\"ZRANB3\",\"R3HDM1\",\"UBXN4\",\"LCT\",\"MCM6\",\"DARS\"],\"x\":[135869057.0,136122878.0,136385961.0,136520911.0,136570082.5,136615621.5,136703738.0],\"y\":[260.0,260.0,260.0,260.0,260.0,260.0,260.0]}},\"id\":\"9df9ccd0-4046-4993-a37a-19aa54b791f3\",\"type\":\"ColumnDataSource\"},{\"attributes\":{\"line_color\":{\"field\":\"line_color\"},\"xs\":{\"field\":\"xs\"},\"ys\":{\"field\":\"ys\"}},\"id\":\"98af9ad3-eb25-42e6-9dbf-adb915fbad7e\",\"type\":\"MultiLine\"},{\"attributes\":{},\"id\":\"7e4b3278-dfce-45b3-b727-7558258aa50f\",\"type\":\"ToolEvents\"},{\"attributes\":{\"plot\":{\"id\":\"bbe56f2b-1345-4e15-b680-643d2bc03dcb\",\"subtype\":\"Figure\",\"type\":\"Plot\"}},\"id\":\"665955de-068d-4b1d-8abb-fec1d4129f62\",\"type\":\"PanTool\"},{\"attributes\":{\"callback\":null,\"column_names\":[\"xs\",\"ys\",\"line_color\"],\"data\":{\"line_color\":[\"black\",\"black\",\"black\",\"black\",\"black\",\"black\",\"black\",\"black\",\"black\",\"black\",\"black\",\"black\",\"black\",\"black\",\"black\",\"black\",\"black\",\"black\",\"black\",\"black\",\"black\",\"black\",\"black\",\"black\",\"black\",\"black\",\"black\",\"black\",\"black\",\"black\",\"black\",\"black\",\"black\",\"black\",\"black\",\"black\",\"black\",\"black\",\"black\",\"black\",\"black\",\"black\",\"black\",\"black\",\"black\",\"black\",\"black\",\"black\",\"black\",\"black\",\"black\",\"black\",\"black\",\"black\",\"black\",\"black\",\"black\",\"black\",\"black\",\"black\",\"black\",\"black\",\"black\",\"black\",\"black\",\"black\",\"black\",\"black\",\"black\",\"black\",\"black\",\"black\",\"black\",\"black\",\"black\",\"black\",\"black\",\"black\",\"black\",\"black\",\"black\",\"black\",\"black\",\"black\",\"black\",\"black\",\"black\",\"black\",\"black\",\"black\",\"black\",\"black\",\"black\",\"black\",\"black\",\"black\",\"black\",\"black\",\"black\",\"black\",\"black\",\"black\",\"black\",\"black\",\"black\",\"black\",\"black\",\"black\",\"black\",\"black\",\"black\",\"black\",\"black\",\"black\",\"black\",\"black\",\"black\",\"black\",\"black\",\"black\",\"black\",\"black\",\"black\",\"black\",\"black\"],\"xs\":[[135757320,135757320],[135761078,135761078],[135761271,135761271],[135762344,135762344],[135762980,135762980],[135763280,135763280],[135768815,135768815],[135769093,135769093],[135769127,135769127],[135770940,135770940],[135770951,135770951],[135776728,135776728],[135777504,135777504],[135959272,135959272],[136149550,136149550],[136164840,136164840],[136313885,136313885],[136375855,136375855],[136398174,136398174],[136402117,136402117],[136403749,136403749],[136409073,136409073],[136410299,136410299],[136413359,136413359],[136416855,136416855],[136416941,136416941],[136418348,136418348],[136419961,136419961],[136420690,136420690],[136422171,136422171],[136428460,136428460],[136430866,136430866],[136432103,136432103],[136437507,136437507],[136439090,136439090],[136439517,136439517],[136444123,136444123],[136445526,136445526],[136445869,136445869],[136455600,136455600],[136456642,136456642],[136462441,136462441],[136470714,136470714],[136474098,136474098],[136494186,136494186],[136495300,136495300],[136495619,136495619],[136499166,136499166],[136502792,136502792],[136503157,136503157],[136507039,136507039],[136511575,136511575],[136518103,136518103],[136521514,136521514],[136522675,136522675],[136522941,136522941],[136526981,136526981],[136535410,136535410],[136539122,136539122],[136544197,136544197],[136550109,136550109],[136551694,136551694],[136553188,136553188],[136553639,136553639],[136554800,136554800],[136557319,136557319],[136558157,136558157],[136569848,136569848],[136575199,136575199],[136576577,136576577],[136578536,136578536],[136580287,136580287],[136583192,136583192],[136586958,136586958],[136588478,136588478],[136589612,136589612],[136591178,136591178],[136591859,136591859],[136593760,136593760],[136594158,136594158],[136603276,136603276],[136603366,136603366],[136608231,136608231],[136609975,136609975],[136610598,136610598],[136611624,136611624],[136613780,136613780],[136614255,136614255],[136614813,136614813],[136617524,136617524],[136622216,136622216],[136625602,136625602],[136629911,136629911],[136630757,136630757],[136630989,136630989],[136631031,136631031],[136633771,136633771],[136636324,136636324],[136638216,136638216],[136640233,136640233],[136641882,136641882],[136643555,136643555],[136658345,136658345],[136670298,136670298],[136685228,136685228],[136696138,136696138],[136740900,136740900],[136765951,136765951],[136501840,136501840],[136505546,136505546],[136516748,136516748],[136522710,136522710],[136528004,136528004],[136539513,136539513],[136544752,136544752],[136546110,136546110],[136553529,136553529],[136555659,136555659],[136682274,136682274],[136691825,136691825],[136698098,136698098],[136721603,136721603],[136721995,136721995],[136755684,136755684],[136775898,136775898]],\"ys\":[[50,96],[50,96],[50,96],[50,96],[50,96],[50,96],[50,96],[50,96],[50,96],[50,96],[50,96],[50,96],[50,96],[50,88],[50,88],[50,88],[50,88],[50,88],[50,94],[50,94],[50,94],[50,94],[50,94],[50,94],[50,94],[50,94],[50,94],[50,94],[50,94],[50,94],[50,94],[50,94],[50,94],[50,94],[50,94],[50,94],[50,94],[50,94],[50,94],[50,94],[50,94],[50,94],[50,94],[50,94],[50,95],[50,95],[50,95],[50,95],[50,95],[50,95],[50,95],[50,95],[50,95],[50,95],[50,95],[50,95],[50,95],[50,95],[50,95],[50,95],[50,95],[50,95],[50,95],[50,95],[50,95],[50,95],[50,95],[50,95],[50,95],[50,95],[50,95],[50,95],[50,95],[50,95],[50,95],[50,95],[50,95],[50,95],[50,95],[50,95],[50,95],[50,95],[50,95],[50,95],[50,95],[50,95],[50,95],[50,95],[50,95],[50,95],[50,95],[50,95],[50,95],[50,95],[50,95],[50,95],[50,95],[50,95],[50,95],[50,95],[50,95],[50,95],[50,95],[50,95],[50,95],[50,95],[50,95],[50,95],[150,198],[150,198],[150,198],[150,198],[150,198],[150,198],[150,198],[150,198],[150,198],[150,198],[150,197],[150,197],[150,197],[150,197],[150,197],[150,197],[150,197]]}},\"id\":\"8e05c401-d080-4d81-82c3-87e9429e8aa8\",\"type\":\"ColumnDataSource\"}],\"root_ids\":[\"bbe56f2b-1345-4e15-b680-643d2bc03dcb\"]},\"title\":\"Bokeh Application\",\"version\":\"0.12.0\"}};\n",
       "            var render_items = [{\"docid\":\"72c86d78-31f6-4459-b078-31e4cd613dfc\",\"elementid\":\"25679db2-0886-4a61-b5f7-d24a7c1fe9f8\",\"modelid\":\"bbe56f2b-1345-4e15-b680-643d2bc03dcb\",\"notebook_comms_target\":\"b8056fdb-4772-4a24-9f09-1265e3ea480d\"}];\n",
       "            \n",
       "            Bokeh.embed.embed_items(docs_json, render_items);\n",
       "        });\n",
       "      },\n",
       "      function(Bokeh) {\n",
       "      }\n",
       "    ];\n",
       "  \n",
       "    function run_inline_js() {\n",
       "      for (var i = 0; i < inline_js.length; i++) {\n",
       "        inline_js[i](window.Bokeh);\n",
       "      }\n",
       "    }\n",
       "  \n",
       "    if (window._bokeh_is_loading === 0) {\n",
       "      console.log(\"Bokeh: BokehJS loaded, going straight to plotting\");\n",
       "      run_inline_js();\n",
       "    } else {\n",
       "      load_libs(js_urls, function() {\n",
       "        console.log(\"Bokeh: BokehJS plotting callback run at\", now());\n",
       "        run_inline_js();\n",
       "      });\n",
       "    }\n",
       "  }(this));\n",
       "</script>"
      ]
     },
     "metadata": {},
     "output_type": "display_data"
    },
    {
     "data": {
      "text/html": [
       "<p><code>&lt;Bokeh Notebook handle for <strong>In[18]</strong>&gt;</code></p>"
      ],
      "text/plain": [
       "<bokeh.io._CommsHandle at 0x7fe72487c110>"
      ]
     },
     "execution_count": 18,
     "metadata": {},
     "output_type": "execute_result"
    }
   ],
   "source": [
    "plt_obj = dm.superset_yes_no([dm.di_5_684, dm.di_26_1414], [dm.di_4_815, dm.di_9_944], min_match=0.5)\n",
    "plt = plt_obj.do_plot()\n",
    "am = plt_obj.plot_context.yes_allele_mask\n",
    "show(plt)"
   ]
  },
  {
   "cell_type": "code",
   "execution_count": 19,
   "metadata": {
    "collapsed": false
   },
   "outputs": [
    {
     "data": {
      "text/html": [
       "<table>\n",
       "<thead><tr><th style=\"text-align:center\">index</th><th style=\"text-align:center\">first</th><th style=\"text-align:center\">length</th><th style=\"text-align:center\">snps</th><th style=\"text-align:center\" colspan=2>alleles</th><th style=\"text-align:center\" colspan=2>matches</th><th style=\"text-align:center\" colspan=2>afr</th><th style=\"text-align:center\" colspan=2>afx</th><th style=\"text-align:center\" colspan=2>amr</th><th style=\"text-align:center\" colspan=2>eas</th><th style=\"text-align:center\" colspan=2>eur</th><th style=\"text-align:center\" colspan=2>sas</th><th style=\"text-align:center\" colspan=2>sax</th></tr></thead>\n",
       "<tr class=\"even\"><td style=\"text-align: right;\">353921</td><td style=\"text-align: right;\">136,501,840</td><td style=\"text-align: right;\">53,819</td><td style=\"text-align: right;\">10</td><td style=\"text-align: right;\">2206</td><td style=\"text-align: right;\">0.00</td><td style=\"text-align: right;\">9</td><td style=\"text-align: right;\">1.00</td><td style=\"text-align: right;\">0</td><td style=\"text-align: right;\">0.00</td><td style=\"text-align: right;\">0</td><td style=\"text-align: right;\">0.00</td><td style=\"text-align: right;\">0</td><td style=\"text-align: right;\">0.00</td><td style=\"text-align: right;\">7</td><td style=\"text-align: right;\">6.25</td><td style=\"text-align: right;\">1</td><td style=\"text-align: right;\">0.49</td><td style=\"text-align: right;\">1</td><td style=\"text-align: right;\">1.84</td><td style=\"text-align: right;\">0</td><td style=\"text-align: right;\">0.00</td></tr>\n",
       "<tr><td style=\"text-align: right;\">354170</td><td style=\"text-align: right;\">136,682,274</td><td style=\"text-align: right;\">93,624</td><td style=\"text-align: right;\">7</td><td style=\"text-align: right;\">1868</td><td style=\"text-align: right;\">0.00</td><td style=\"text-align: right;\">9</td><td style=\"text-align: right;\">1.00</td><td style=\"text-align: right;\">0</td><td style=\"text-align: right;\">0.00</td><td style=\"text-align: right;\">0</td><td style=\"text-align: right;\">0.00</td><td style=\"text-align: right;\">0</td><td style=\"text-align: right;\">0.00</td><td style=\"text-align: right;\">7</td><td style=\"text-align: right;\">6.25</td><td style=\"text-align: right;\">1</td><td style=\"text-align: right;\">0.49</td><td style=\"text-align: right;\">1</td><td style=\"text-align: right;\">1.84</td><td style=\"text-align: right;\">0</td><td style=\"text-align: right;\">0.00</td></tr>\n",
       "<tr class=\"even\"><td style=\"text-align: right;\">353240</td><td style=\"text-align: right;\">135,757,320</td><td style=\"text-align: right;\">20,184</td><td style=\"text-align: right;\">13</td><td style=\"text-align: right;\">1696</td><td style=\"text-align: right;\">0.01</td><td style=\"text-align: right;\">9</td><td style=\"text-align: right;\">1.00</td><td style=\"text-align: right;\">0</td><td style=\"text-align: right;\">0.00</td><td style=\"text-align: right;\">0</td><td style=\"text-align: right;\">0.00</td><td style=\"text-align: right;\">0</td><td style=\"text-align: right;\">0.00</td><td style=\"text-align: right;\">7</td><td style=\"text-align: right;\">6.25</td><td style=\"text-align: right;\">1</td><td style=\"text-align: right;\">0.49</td><td style=\"text-align: right;\">1</td><td style=\"text-align: right;\">1.84</td><td style=\"text-align: right;\">0</td><td style=\"text-align: right;\">0.00</td></tr>\n",
       "<tr><td style=\"text-align: right;\">353901</td><td style=\"text-align: right;\">136,494,186</td><td style=\"text-align: right;\">271,765</td><td style=\"text-align: right;\">64</td><td style=\"text-align: right;\">1575</td><td style=\"text-align: right;\">0.01</td><td style=\"text-align: right;\">9</td><td style=\"text-align: right;\">1.00</td><td style=\"text-align: right;\">0</td><td style=\"text-align: right;\">0.00</td><td style=\"text-align: right;\">0</td><td style=\"text-align: right;\">0.00</td><td style=\"text-align: right;\">0</td><td style=\"text-align: right;\">0.00</td><td style=\"text-align: right;\">7</td><td style=\"text-align: right;\">6.25</td><td style=\"text-align: right;\">1</td><td style=\"text-align: right;\">0.49</td><td style=\"text-align: right;\">1</td><td style=\"text-align: right;\">1.84</td><td style=\"text-align: right;\">0</td><td style=\"text-align: right;\">0.00</td></tr>\n",
       "<tr class=\"even\"><td style=\"text-align: right;\">353797</td><td style=\"text-align: right;\">136,398,174</td><td style=\"text-align: right;\">75,924</td><td style=\"text-align: right;\">26</td><td style=\"text-align: right;\">1414</td><td style=\"text-align: right;\">0.01</td><td style=\"text-align: right;\">9</td><td style=\"text-align: right;\">1.00</td><td style=\"text-align: right;\">0</td><td style=\"text-align: right;\">0.00</td><td style=\"text-align: right;\">0</td><td style=\"text-align: right;\">0.00</td><td style=\"text-align: right;\">0</td><td style=\"text-align: right;\">0.00</td><td style=\"text-align: right;\">7</td><td style=\"text-align: right;\">6.25</td><td style=\"text-align: right;\">1</td><td style=\"text-align: right;\">0.49</td><td style=\"text-align: right;\">1</td><td style=\"text-align: right;\">1.84</td><td style=\"text-align: right;\">0</td><td style=\"text-align: right;\">0.00</td></tr>\n",
       "<tr><td style=\"text-align: right;\">353498</td><td style=\"text-align: right;\">135,959,272</td><td style=\"text-align: right;\">416,583</td><td style=\"text-align: right;\">5</td><td style=\"text-align: right;\">684</td><td style=\"text-align: right;\">0.01</td><td style=\"text-align: right;\">9</td><td style=\"text-align: right;\">1.00</td><td style=\"text-align: right;\">0</td><td style=\"text-align: right;\">0.00</td><td style=\"text-align: right;\">0</td><td style=\"text-align: right;\">0.00</td><td style=\"text-align: right;\">0</td><td style=\"text-align: right;\">0.00</td><td style=\"text-align: right;\">7</td><td style=\"text-align: right;\">6.25</td><td style=\"text-align: right;\">1</td><td style=\"text-align: right;\">0.49</td><td style=\"text-align: right;\">1</td><td style=\"text-align: right;\">1.84</td><td style=\"text-align: right;\">0</td><td style=\"text-align: right;\">0.00</td></tr>\n",
       "</table>"
      ],
      "text/plain": [
       "<IPython.core.display.HTML object>"
      ]
     },
     "execution_count": 19,
     "metadata": {},
     "output_type": "execute_result"
    }
   ],
   "source": [
    "HTML(plt_obj.get_html())"
   ]
  },
  {
   "cell_type": "code",
   "execution_count": 20,
   "metadata": {
    "collapsed": false
   },
   "outputs": [
    {
     "data": {
      "text/plain": [
       "array([9, 9, 9, 9, 9, 9, 0, 0, 0])"
      ]
     },
     "execution_count": 20,
     "metadata": {},
     "output_type": "execute_result"
    }
   ],
   "source": [
    "sa_9_944.alleles_per_snp(am)"
   ]
  },
  {
   "cell_type": "code",
   "execution_count": 21,
   "metadata": {
    "collapsed": false
   },
   "outputs": [
    {
     "data": {
      "text/html": [
       "\n",
       "\n",
       "    <div class=\"bk-root\">\n",
       "        <div class=\"plotdiv\" id=\"985db9db-340c-4eb6-98e7-bbedb16a38f6\"></div>\n",
       "    </div>\n",
       "<script type=\"text/javascript\">\n",
       "  \n",
       "  (function(global) {\n",
       "    function now() {\n",
       "      return new Date();\n",
       "    }\n",
       "  \n",
       "    if (typeof (window._bokeh_onload_callbacks) === \"undefined\") {\n",
       "      window._bokeh_onload_callbacks = [];\n",
       "    }\n",
       "  \n",
       "    function run_callbacks() {\n",
       "      window._bokeh_onload_callbacks.forEach(function(callback) { callback() });\n",
       "      delete window._bokeh_onload_callbacks\n",
       "      console.info(\"Bokeh: all callbacks have finished\");\n",
       "    }\n",
       "  \n",
       "    function load_libs(js_urls, callback) {\n",
       "      window._bokeh_onload_callbacks.push(callback);\n",
       "      if (window._bokeh_is_loading > 0) {\n",
       "        console.log(\"Bokeh: BokehJS is being loaded, scheduling callback at\", now());\n",
       "        return null;\n",
       "      }\n",
       "      if (js_urls == null || js_urls.length === 0) {\n",
       "        run_callbacks();\n",
       "        return null;\n",
       "      }\n",
       "      console.log(\"Bokeh: BokehJS not loaded, scheduling load and callback at\", now());\n",
       "      window._bokeh_is_loading = js_urls.length;\n",
       "      for (var i = 0; i < js_urls.length; i++) {\n",
       "        var url = js_urls[i];\n",
       "        var s = document.createElement('script');\n",
       "        s.src = url;\n",
       "        s.async = false;\n",
       "        s.onreadystatechange = s.onload = function() {\n",
       "          window._bokeh_is_loading--;\n",
       "          if (window._bokeh_is_loading === 0) {\n",
       "            console.log(\"Bokeh: all BokehJS libraries loaded\");\n",
       "            run_callbacks()\n",
       "          }\n",
       "        };\n",
       "        s.onerror = function() {\n",
       "          console.warn(\"failed to load library \" + url);\n",
       "        };\n",
       "        console.log(\"Bokeh: injecting script tag for BokehJS library: \", url);\n",
       "        document.getElementsByTagName(\"head\")[0].appendChild(s);\n",
       "      }\n",
       "    };var element = document.getElementById(\"985db9db-340c-4eb6-98e7-bbedb16a38f6\");\n",
       "    if (element == null) {\n",
       "      console.log(\"Bokeh: ERROR: autoload.js configured with elementid '985db9db-340c-4eb6-98e7-bbedb16a38f6' but no matching script tag was found. \")\n",
       "      return false;\n",
       "    }\n",
       "  \n",
       "    var js_urls = [];\n",
       "  \n",
       "    var inline_js = [\n",
       "      function(Bokeh) {\n",
       "        Bokeh.$(function() {\n",
       "            var docs_json = {\"247e2ca1-777c-4102-84e4-b46822c99415\":{\"roots\":{\"references\":[{\"attributes\":{\"below\":[{\"id\":\"a97012cd-b6f1-45fa-b082-4edac401dadf\",\"type\":\"LinearAxis\"}],\"left\":[{\"id\":\"15699d55-48f3-4500-b4bf-69fabd034d34\",\"type\":\"LinearAxis\"}],\"plot_height\":300,\"plot_width\":900,\"renderers\":[{\"id\":\"a97012cd-b6f1-45fa-b082-4edac401dadf\",\"type\":\"LinearAxis\"},{\"id\":\"30e55eab-c730-48d8-99c2-a6d54c57aa0d\",\"type\":\"Grid\"},{\"id\":\"15699d55-48f3-4500-b4bf-69fabd034d34\",\"type\":\"LinearAxis\"},{\"id\":\"6ca7cc92-a500-4895-98d8-7202b2b5daef\",\"type\":\"Grid\"},{\"id\":\"69450865-d7b2-4f28-8c6c-34efa0fcde28\",\"type\":\"BoxAnnotation\"},{\"id\":\"ea2b9fc3-e5c5-44e3-8126-053b3a289a2f\",\"type\":\"GlyphRenderer\"},{\"id\":\"688e1a69-57fc-43aa-8e6b-2c0dd3820459\",\"type\":\"GlyphRenderer\"},{\"id\":\"d5ba2373-d582-4cae-a270-4ddc52d8ca34\",\"type\":\"LabelSet\"},{\"id\":\"acd1a319-7715-4e5a-b88f-e09610a1480a\",\"type\":\"GlyphRenderer\"},{\"id\":\"dcca1797-f527-434c-8238-490ab6e2f5f2\",\"type\":\"LabelSet\"}],\"title\":{\"id\":\"4d1cf362-edab-4c89-9615-e111bee73bfd\",\"type\":\"Title\"},\"tool_events\":{\"id\":\"91883d59-b9f7-49a0-91af-79cff6beb889\",\"type\":\"ToolEvents\"},\"toolbar\":{\"id\":\"de02daa6-da38-4477-a976-d18f82599bdc\",\"type\":\"Toolbar\"},\"toolbar_location\":null,\"x_range\":{\"id\":\"f25f9d38-bf71-4a42-8f2c-202d74de964f\",\"type\":\"Range1d\"},\"y_range\":{\"id\":\"129f8cbc-f4e6-4778-9df2-66cfbd528252\",\"type\":\"Range1d\"}},\"id\":\"31eba594-2cec-48ed-942d-33cfb52188e6\",\"subtype\":\"Figure\",\"type\":\"Plot\"},{\"attributes\":{\"callback\":null,\"column_names\":[\"xs\",\"ys\",\"line_color\"],\"data\":{\"line_color\":[\"black\",\"black\",\"black\",\"black\",\"black\",\"black\",\"black\",\"black\",\"black\",\"black\",\"black\",\"black\",\"black\",\"black\",\"black\",\"black\",\"black\",\"black\",\"black\",\"black\",\"black\",\"black\",\"black\",\"black\",\"black\",\"black\",\"black\",\"black\",\"black\",\"black\",\"black\",\"black\",\"black\",\"black\",\"black\",\"black\",\"black\",\"black\",\"black\",\"black\",\"black\",\"black\",\"black\",\"black\",\"black\",\"black\",\"black\",\"black\",\"black\",\"black\",\"black\",\"black\",\"black\",\"black\",\"black\",\"black\",\"black\",\"black\",\"black\",\"black\",\"black\",\"black\",\"black\",\"black\",\"black\",\"black\",\"black\",\"black\",\"black\",\"black\",\"black\",\"black\",\"black\",\"black\",\"black\",\"black\",\"black\",\"black\",\"black\",\"black\",\"black\",\"black\",\"black\",\"black\",\"black\",\"black\",\"black\",\"black\",\"black\",\"black\",\"black\",\"black\",\"black\",\"black\",\"black\",\"black\",\"black\",\"black\",\"black\"],\"xs\":[[135757320,135757320],[135761078,135761078],[135761271,135761271],[135762344,135762344],[135762980,135762980],[135763280,135763280],[135768815,135768815],[135769093,135769093],[135769127,135769127],[135770940,135770940],[135770951,135770951],[135776728,135776728],[135777504,135777504],[135959272,135959272],[136149550,136149550],[136164840,136164840],[136313885,136313885],[136375855,136375855],[136494186,136494186],[136495300,136495300],[136495619,136495619],[136499166,136499166],[136502792,136502792],[136503157,136503157],[136507039,136507039],[136511575,136511575],[136518103,136518103],[136521514,136521514],[136522675,136522675],[136522941,136522941],[136526981,136526981],[136535410,136535410],[136539122,136539122],[136544197,136544197],[136550109,136550109],[136551694,136551694],[136553188,136553188],[136553639,136553639],[136554800,136554800],[136557319,136557319],[136558157,136558157],[136569848,136569848],[136575199,136575199],[136576577,136576577],[136578536,136578536],[136580287,136580287],[136583192,136583192],[136586958,136586958],[136588478,136588478],[136589612,136589612],[136591178,136591178],[136591859,136591859],[136593760,136593760],[136594158,136594158],[136603276,136603276],[136603366,136603366],[136608231,136608231],[136609975,136609975],[136610598,136610598],[136611624,136611624],[136613780,136613780],[136614255,136614255],[136614813,136614813],[136617524,136617524],[136622216,136622216],[136625602,136625602],[136629911,136629911],[136630757,136630757],[136630989,136630989],[136631031,136631031],[136633771,136633771],[136636324,136636324],[136638216,136638216],[136640233,136640233],[136641882,136641882],[136643555,136643555],[136658345,136658345],[136670298,136670298],[136685228,136685228],[136696138,136696138],[136740900,136740900],[136765951,136765951],[136501840,136501840],[136505546,136505546],[136516748,136516748],[136522710,136522710],[136528004,136528004],[136539513,136539513],[136544752,136544752],[136546110,136546110],[136553529,136553529],[136555659,136555659],[136682274,136682274],[136691825,136691825],[136698098,136698098],[136721603,136721603],[136721995,136721995],[136755684,136755684],[136775898,136775898]],\"ys\":[[50,96],[50,96],[50,96],[50,96],[50,96],[50,96],[50,96],[50,96],[50,96],[50,96],[50,96],[50,96],[50,96],[50,88],[50,88],[50,88],[50,88],[50,88],[50,95],[50,95],[50,95],[50,95],[50,95],[50,95],[50,95],[50,95],[50,95],[50,95],[50,95],[50,95],[50,95],[50,95],[50,95],[50,95],[50,95],[50,95],[50,95],[50,95],[50,95],[50,95],[50,95],[50,95],[50,95],[50,95],[50,95],[50,95],[50,95],[50,95],[50,95],[50,95],[50,95],[50,95],[50,95],[50,95],[50,95],[50,95],[50,95],[50,95],[50,95],[50,95],[50,95],[50,95],[50,95],[50,95],[50,95],[50,95],[50,95],[50,95],[50,95],[50,95],[50,95],[50,95],[50,95],[50,95],[50,95],[50,95],[50,95],[50,95],[50,95],[50,95],[50,95],[50,95],[150,198],[150,198],[150,198],[150,198],[150,198],[150,198],[150,198],[150,198],[150,198],[150,198],[150,197],[150,197],[150,197],[150,197],[150,197],[150,197],[150,197]]}},\"id\":\"95937c99-4e21-4b31-91eb-9faba9faf3fa\",\"type\":\"ColumnDataSource\"},{\"attributes\":{\"line_color\":{\"field\":\"line_color\"},\"xs\":{\"field\":\"xs\"},\"ys\":{\"field\":\"ys\"}},\"id\":\"01fa7a96-fb0b-4621-bc3b-3b2a87a155be\",\"type\":\"MultiLine\"},{\"attributes\":{\"data_source\":{\"id\":\"95937c99-4e21-4b31-91eb-9faba9faf3fa\",\"type\":\"ColumnDataSource\"},\"glyph\":{\"id\":\"01fa7a96-fb0b-4621-bc3b-3b2a87a155be\",\"type\":\"MultiLine\"},\"hover_glyph\":null,\"nonselection_glyph\":{\"id\":\"185a3f36-a22a-4dc5-bf60-a7e91169eec7\",\"type\":\"MultiLine\"},\"selection_glyph\":null},\"id\":\"688e1a69-57fc-43aa-8e6b-2c0dd3820459\",\"type\":\"GlyphRenderer\"},{\"attributes\":{\"dimension\":1,\"plot\":{\"id\":\"31eba594-2cec-48ed-942d-33cfb52188e6\",\"subtype\":\"Figure\",\"type\":\"Plot\"},\"ticker\":{\"id\":\"44611ca3-e04f-449f-96da-9633aeab26d5\",\"type\":\"BasicTicker\"}},\"id\":\"6ca7cc92-a500-4895-98d8-7202b2b5daef\",\"type\":\"Grid\"},{\"attributes\":{\"data_source\":{\"id\":\"afb3bcdd-d729-4680-967d-0ce42c9dc6b4\",\"type\":\"ColumnDataSource\"},\"glyph\":{\"id\":\"c6595825-d5e7-4991-8e9f-87a29990e91d\",\"type\":\"Quad\"},\"hover_glyph\":null,\"nonselection_glyph\":{\"id\":\"a71c111f-453a-447f-9edf-2df6a2b0cdca\",\"type\":\"Quad\"},\"selection_glyph\":null},\"id\":\"ea2b9fc3-e5c5-44e3-8126-053b3a289a2f\",\"type\":\"GlyphRenderer\"},{\"attributes\":{\"bottom\":{\"field\":\"bottom\"},\"fill_alpha\":{\"value\":0.1},\"fill_color\":{\"value\":\"#1f77b4\"},\"left\":{\"field\":\"left\"},\"line_alpha\":{\"value\":0.1},\"line_color\":{\"value\":\"#1f77b4\"},\"right\":{\"field\":\"right\"},\"top\":{\"field\":\"top\"}},\"id\":\"a71c111f-453a-447f-9edf-2df6a2b0cdca\",\"type\":\"Quad\"},{\"attributes\":{\"level\":\"glyph\",\"plot\":{\"id\":\"31eba594-2cec-48ed-942d-33cfb52188e6\",\"subtype\":\"Figure\",\"type\":\"Plot\"},\"source\":{\"id\":\"40a6f82f-2c32-41f3-9a53-6e674c9afcc4\",\"type\":\"ColumnDataSource\"},\"text\":{\"field\":\"vals\"},\"text_align\":\"center\",\"text_baseline\":\"middle\",\"text_font_size\":{\"value\":\"8pt\"},\"x\":{\"field\":\"x\"},\"y\":{\"field\":\"y\"}},\"id\":\"dcca1797-f527-434c-8238-490ab6e2f5f2\",\"type\":\"LabelSet\"},{\"attributes\":{\"plot\":{\"id\":\"31eba594-2cec-48ed-942d-33cfb52188e6\",\"subtype\":\"Figure\",\"type\":\"Plot\"}},\"id\":\"46d43d2c-cb70-4952-a537-3a17a8023840\",\"type\":\"HelpTool\"},{\"attributes\":{\"data_source\":{\"id\":\"764d2737-5579-43bb-9c1f-4cd0fa8608ea\",\"type\":\"ColumnDataSource\"},\"glyph\":{\"id\":\"a6895603-2d4f-45a0-921c-717b13a35a3c\",\"type\":\"Quad\"},\"hover_glyph\":null,\"nonselection_glyph\":{\"id\":\"d6103334-f4b1-4fde-b322-244007da4be0\",\"type\":\"Quad\"},\"selection_glyph\":null},\"id\":\"acd1a319-7715-4e5a-b88f-e09610a1480a\",\"type\":\"GlyphRenderer\"},{\"attributes\":{\"bottom_units\":\"screen\",\"fill_alpha\":{\"value\":0.5},\"fill_color\":{\"value\":\"lightgrey\"},\"left_units\":\"screen\",\"level\":\"overlay\",\"line_alpha\":{\"value\":1.0},\"line_color\":{\"value\":\"black\"},\"line_dash\":[4,4],\"line_width\":{\"value\":2},\"plot\":null,\"render_mode\":\"css\",\"right_units\":\"screen\",\"top_units\":\"screen\"},\"id\":\"69450865-d7b2-4f28-8c6c-34efa0fcde28\",\"type\":\"BoxAnnotation\"},{\"attributes\":{\"plot\":{\"id\":\"31eba594-2cec-48ed-942d-33cfb52188e6\",\"subtype\":\"Figure\",\"type\":\"Plot\"}},\"id\":\"81f649f9-202d-4c10-857f-345c12cb180b\",\"type\":\"WheelZoomTool\"},{\"attributes\":{\"bottom\":{\"field\":\"bottom\"},\"fill_alpha\":{\"value\":0.1},\"fill_color\":{\"value\":\"#1f77b4\"},\"left\":{\"field\":\"left\"},\"line_alpha\":{\"value\":0.1},\"line_color\":{\"value\":\"#1f77b4\"},\"right\":{\"field\":\"right\"},\"top\":{\"field\":\"top\"}},\"id\":\"d6103334-f4b1-4fde-b322-244007da4be0\",\"type\":\"Quad\"},{\"attributes\":{\"callback\":null,\"column_names\":[\"y\",\"x\",\"vals\"],\"data\":{\"vals\":[\"13_1696\",\"5_684\",\"64_1575\",\"10_2206\",\"7_1868\"],\"x\":[135757320,135959272,136494186,136501840,136682274],\"y\":[101.0,93.0,100.0,203.0,202.0]}},\"id\":\"6dc01171-d750-48ee-a901-fe992ef94f43\",\"type\":\"ColumnDataSource\"},{\"attributes\":{},\"id\":\"91883d59-b9f7-49a0-91af-79cff6beb889\",\"type\":\"ToolEvents\"},{\"attributes\":{\"line_alpha\":{\"value\":0.1},\"line_color\":{\"value\":\"#1f77b4\"},\"xs\":{\"field\":\"xs\"},\"ys\":{\"field\":\"ys\"}},\"id\":\"185a3f36-a22a-4dc5-bf60-a7e91169eec7\",\"type\":\"MultiLine\"},{\"attributes\":{\"active_drag\":\"auto\",\"active_scroll\":\"auto\",\"active_tap\":\"auto\",\"tools\":[{\"id\":\"faa4a110-e8c1-4353-b001-1b3c1315fa98\",\"type\":\"PanTool\"},{\"id\":\"81f649f9-202d-4c10-857f-345c12cb180b\",\"type\":\"WheelZoomTool\"},{\"id\":\"c6e95186-3d63-4b53-ac5e-ad1166802222\",\"type\":\"BoxZoomTool\"},{\"id\":\"4c145384-abf1-4073-a2cf-f4318a5359f2\",\"type\":\"SaveTool\"},{\"id\":\"5d6c5062-8b9e-459b-9c02-a196efa3d858\",\"type\":\"ResetTool\"},{\"id\":\"46d43d2c-cb70-4952-a537-3a17a8023840\",\"type\":\"HelpTool\"}]},\"id\":\"de02daa6-da38-4477-a976-d18f82599bdc\",\"type\":\"Toolbar\"},{\"attributes\":{\"bottom\":{\"field\":\"bottom\"},\"fill_color\":{\"value\":\"white\"},\"left\":{\"field\":\"left\"},\"right\":{\"field\":\"right\"},\"top\":{\"field\":\"top\"}},\"id\":\"a6895603-2d4f-45a0-921c-717b13a35a3c\",\"type\":\"Quad\"},{\"attributes\":{\"plot\":null,\"text\":null},\"id\":\"4d1cf362-edab-4c89-9615-e111bee73bfd\",\"type\":\"Title\"},{\"attributes\":{\"callback\":null,\"column_names\":[\"right\",\"bottom\",\"top\",\"left\",\"fill_color\"],\"data\":{\"bottom\":[50,50,50,150,150],\"fill_color\":[\"#808080\",\"#ffff00\",\"#61c461\",\"#808080\",\"#61c461\"],\"left\":[135757320,135959272,136494186,136501840,136682274],\"right\":[135777504,136375855,136765951,136555659,136775898],\"top\":[96,88,95,198,197]}},\"id\":\"afb3bcdd-d729-4680-967d-0ce42c9dc6b4\",\"type\":\"ColumnDataSource\"},{\"attributes\":{},\"id\":\"f2256cc7-171f-4d0f-9f2f-1cada17cb76f\",\"type\":\"BasicTicker\"},{\"attributes\":{\"callback\":null,\"column_names\":[\"right\",\"bottom\",\"top\",\"left\"],\"data\":{\"bottom\":[245,245,245,245,245,245,245],\"left\":[135809835,135957574,136289083,136499189,136545415,136597196,136664254],\"right\":[135928279,136288182,136482839,136542633,136594750,136634047,136743222],\"top\":[275,275,275,275,275,275,275]}},\"id\":\"764d2737-5579-43bb-9c1f-4cd0fa8608ea\",\"type\":\"ColumnDataSource\"},{\"attributes\":{\"overlay\":{\"id\":\"69450865-d7b2-4f28-8c6c-34efa0fcde28\",\"type\":\"BoxAnnotation\"},\"plot\":{\"id\":\"31eba594-2cec-48ed-942d-33cfb52188e6\",\"subtype\":\"Figure\",\"type\":\"Plot\"}},\"id\":\"c6e95186-3d63-4b53-ac5e-ad1166802222\",\"type\":\"BoxZoomTool\"},{\"attributes\":{},\"id\":\"e04414e7-0d92-49fb-bfbc-6b72325ae1ed\",\"type\":\"BasicTickFormatter\"},{\"attributes\":{\"bottom\":{\"field\":\"bottom\"},\"fill_color\":{\"field\":\"fill_color\"},\"left\":{\"field\":\"left\"},\"line_color\":{\"value\":null},\"right\":{\"field\":\"right\"},\"top\":{\"field\":\"top\"}},\"id\":\"c6595825-d5e7-4991-8e9f-87a29990e91d\",\"type\":\"Quad\"},{\"attributes\":{},\"id\":\"44611ca3-e04f-449f-96da-9633aeab26d5\",\"type\":\"BasicTicker\"},{\"attributes\":{\"callback\":null,\"end\":300},\"id\":\"129f8cbc-f4e6-4778-9df2-66cfbd528252\",\"type\":\"Range1d\"},{\"attributes\":{},\"id\":\"030a60de-e7d2-4aa7-aefb-f88074b4fe73\",\"type\":\"BasicTickFormatter\"},{\"attributes\":{\"plot\":{\"id\":\"31eba594-2cec-48ed-942d-33cfb52188e6\",\"subtype\":\"Figure\",\"type\":\"Plot\"}},\"id\":\"5d6c5062-8b9e-459b-9c02-a196efa3d858\",\"type\":\"ResetTool\"},{\"attributes\":{\"plot\":{\"id\":\"31eba594-2cec-48ed-942d-33cfb52188e6\",\"subtype\":\"Figure\",\"type\":\"Plot\"}},\"id\":\"faa4a110-e8c1-4353-b001-1b3c1315fa98\",\"type\":\"PanTool\"},{\"attributes\":{\"callback\":null,\"column_names\":[\"y\",\"x\",\"vals\"],\"data\":{\"vals\":[\"RAB3GAP1\",\"ZRANB3\",\"R3HDM1\",\"UBXN4\",\"LCT\",\"MCM6\",\"DARS\"],\"x\":[135869057.0,136122878.0,136385961.0,136520911.0,136570082.5,136615621.5,136703738.0],\"y\":[260.0,260.0,260.0,260.0,260.0,260.0,260.0]}},\"id\":\"40a6f82f-2c32-41f3-9a53-6e674c9afcc4\",\"type\":\"ColumnDataSource\"},{\"attributes\":{\"callback\":null,\"end\":136786630,\"start\":135757320},\"id\":\"f25f9d38-bf71-4a42-8f2c-202d74de964f\",\"type\":\"Range1d\"},{\"attributes\":{\"formatter\":{\"id\":\"030a60de-e7d2-4aa7-aefb-f88074b4fe73\",\"type\":\"BasicTickFormatter\"},\"plot\":{\"id\":\"31eba594-2cec-48ed-942d-33cfb52188e6\",\"subtype\":\"Figure\",\"type\":\"Plot\"},\"ticker\":{\"id\":\"f2256cc7-171f-4d0f-9f2f-1cada17cb76f\",\"type\":\"BasicTicker\"}},\"id\":\"a97012cd-b6f1-45fa-b082-4edac401dadf\",\"type\":\"LinearAxis\"},{\"attributes\":{\"level\":\"glyph\",\"plot\":{\"id\":\"31eba594-2cec-48ed-942d-33cfb52188e6\",\"subtype\":\"Figure\",\"type\":\"Plot\"},\"source\":{\"id\":\"6dc01171-d750-48ee-a901-fe992ef94f43\",\"type\":\"ColumnDataSource\"},\"text\":{\"field\":\"vals\"},\"text_font_size\":{\"value\":\"9pt\"},\"text_font_style\":\"bold\",\"x\":{\"field\":\"x\"},\"y\":{\"field\":\"y\"}},\"id\":\"d5ba2373-d582-4cae-a270-4ddc52d8ca34\",\"type\":\"LabelSet\"},{\"attributes\":{\"formatter\":{\"id\":\"e04414e7-0d92-49fb-bfbc-6b72325ae1ed\",\"type\":\"BasicTickFormatter\"},\"plot\":{\"id\":\"31eba594-2cec-48ed-942d-33cfb52188e6\",\"subtype\":\"Figure\",\"type\":\"Plot\"},\"ticker\":{\"id\":\"44611ca3-e04f-449f-96da-9633aeab26d5\",\"type\":\"BasicTicker\"},\"visible\":null},\"id\":\"15699d55-48f3-4500-b4bf-69fabd034d34\",\"type\":\"LinearAxis\"},{\"attributes\":{\"plot\":{\"id\":\"31eba594-2cec-48ed-942d-33cfb52188e6\",\"subtype\":\"Figure\",\"type\":\"Plot\"}},\"id\":\"4c145384-abf1-4073-a2cf-f4318a5359f2\",\"type\":\"SaveTool\"},{\"attributes\":{\"plot\":{\"id\":\"31eba594-2cec-48ed-942d-33cfb52188e6\",\"subtype\":\"Figure\",\"type\":\"Plot\"},\"ticker\":{\"id\":\"f2256cc7-171f-4d0f-9f2f-1cada17cb76f\",\"type\":\"BasicTicker\"}},\"id\":\"30e55eab-c730-48d8-99c2-a6d54c57aa0d\",\"type\":\"Grid\"}],\"root_ids\":[\"31eba594-2cec-48ed-942d-33cfb52188e6\"]},\"title\":\"Bokeh Application\",\"version\":\"0.12.0\"}};\n",
       "            var render_items = [{\"docid\":\"247e2ca1-777c-4102-84e4-b46822c99415\",\"elementid\":\"985db9db-340c-4eb6-98e7-bbedb16a38f6\",\"modelid\":\"31eba594-2cec-48ed-942d-33cfb52188e6\",\"notebook_comms_target\":\"a0163214-209b-4160-baca-4a1fddc09fab\"}];\n",
       "            \n",
       "            Bokeh.embed.embed_items(docs_json, render_items);\n",
       "        });\n",
       "      },\n",
       "      function(Bokeh) {\n",
       "      }\n",
       "    ];\n",
       "  \n",
       "    function run_inline_js() {\n",
       "      for (var i = 0; i < inline_js.length; i++) {\n",
       "        inline_js[i](window.Bokeh);\n",
       "      }\n",
       "    }\n",
       "  \n",
       "    if (window._bokeh_is_loading === 0) {\n",
       "      console.log(\"Bokeh: BokehJS loaded, going straight to plotting\");\n",
       "      run_inline_js();\n",
       "    } else {\n",
       "      load_libs(js_urls, function() {\n",
       "        console.log(\"Bokeh: BokehJS plotting callback run at\", now());\n",
       "        run_inline_js();\n",
       "      });\n",
       "    }\n",
       "  }(this));\n",
       "</script>"
      ]
     },
     "metadata": {},
     "output_type": "display_data"
    },
    {
     "data": {
      "text/html": [
       "<p><code>&lt;Bokeh Notebook handle for <strong>In[21]</strong>&gt;</code></p>"
      ],
      "text/plain": [
       "<bokeh.io._CommsHandle at 0x7fe7542e9390>"
      ]
     },
     "execution_count": 21,
     "metadata": {},
     "output_type": "execute_result"
    }
   ],
   "source": [
    "plt_obj = dm.superset_yes_no([dm.di_5_684], [dm.di_26_1414, dm.di_5_1460, dm.di_32_1361, dm.di_9_944], min_match=0.5)\n",
    "plt = plt_obj.do_plot()\n",
    "am = plt_obj.plot_context.yes_allele_mask\n",
    "show(plt)"
   ]
  },
  {
   "cell_type": "code",
   "execution_count": 22,
   "metadata": {
    "collapsed": false
   },
   "outputs": [
    {
     "data": {
      "text/html": [
       "<table>\n",
       "<thead><tr><th style=\"text-align:center\">index</th><th style=\"text-align:center\">first</th><th style=\"text-align:center\">length</th><th style=\"text-align:center\">snps</th><th style=\"text-align:center\" colspan=2>alleles</th><th style=\"text-align:center\" colspan=2>matches</th><th style=\"text-align:center\" colspan=2>afr</th><th style=\"text-align:center\" colspan=2>afx</th><th style=\"text-align:center\" colspan=2>amr</th><th style=\"text-align:center\" colspan=2>eas</th><th style=\"text-align:center\" colspan=2>eur</th><th style=\"text-align:center\" colspan=2>sas</th><th style=\"text-align:center\" colspan=2>sax</th></tr></thead>\n",
       "<tr class=\"even\"><td style=\"text-align: right;\">353921</td><td style=\"text-align: right;\">136,501,840</td><td style=\"text-align: right;\">53,819</td><td style=\"text-align: right;\">10</td><td style=\"text-align: right;\">2206</td><td style=\"text-align: right;\">0.00</td><td style=\"text-align: right;\">1</td><td style=\"text-align: right;\">1.00</td><td style=\"text-align: right;\">0</td><td style=\"text-align: right;\">0.00</td><td style=\"text-align: right;\">0</td><td style=\"text-align: right;\">0.00</td><td style=\"text-align: right;\">0</td><td style=\"text-align: right;\">0.00</td><td style=\"text-align: right;\">1</td><td style=\"text-align: right;\">3.84</td><td style=\"text-align: right;\">0</td><td style=\"text-align: right;\">0.00</td><td style=\"text-align: right;\">0</td><td style=\"text-align: right;\">0.00</td><td style=\"text-align: right;\">0</td><td style=\"text-align: right;\">0.00</td></tr>\n",
       "<tr><td style=\"text-align: right;\">354170</td><td style=\"text-align: right;\">136,682,274</td><td style=\"text-align: right;\">93,624</td><td style=\"text-align: right;\">7</td><td style=\"text-align: right;\">1868</td><td style=\"text-align: right;\">0.00</td><td style=\"text-align: right;\">1</td><td style=\"text-align: right;\">1.00</td><td style=\"text-align: right;\">0</td><td style=\"text-align: right;\">0.00</td><td style=\"text-align: right;\">0</td><td style=\"text-align: right;\">0.00</td><td style=\"text-align: right;\">0</td><td style=\"text-align: right;\">0.00</td><td style=\"text-align: right;\">1</td><td style=\"text-align: right;\">3.84</td><td style=\"text-align: right;\">0</td><td style=\"text-align: right;\">0.00</td><td style=\"text-align: right;\">0</td><td style=\"text-align: right;\">0.00</td><td style=\"text-align: right;\">0</td><td style=\"text-align: right;\">0.00</td></tr>\n",
       "<tr class=\"even\"><td style=\"text-align: right;\">353240</td><td style=\"text-align: right;\">135,757,320</td><td style=\"text-align: right;\">20,184</td><td style=\"text-align: right;\">13</td><td style=\"text-align: right;\">1696</td><td style=\"text-align: right;\">0.00</td><td style=\"text-align: right;\">1</td><td style=\"text-align: right;\">1.00</td><td style=\"text-align: right;\">0</td><td style=\"text-align: right;\">0.00</td><td style=\"text-align: right;\">0</td><td style=\"text-align: right;\">0.00</td><td style=\"text-align: right;\">0</td><td style=\"text-align: right;\">0.00</td><td style=\"text-align: right;\">1</td><td style=\"text-align: right;\">3.84</td><td style=\"text-align: right;\">0</td><td style=\"text-align: right;\">0.00</td><td style=\"text-align: right;\">0</td><td style=\"text-align: right;\">0.00</td><td style=\"text-align: right;\">0</td><td style=\"text-align: right;\">0.00</td></tr>\n",
       "<tr><td style=\"text-align: right;\">353901</td><td style=\"text-align: right;\">136,494,186</td><td style=\"text-align: right;\">271,765</td><td style=\"text-align: right;\">64</td><td style=\"text-align: right;\">1575</td><td style=\"text-align: right;\">0.00</td><td style=\"text-align: right;\">1</td><td style=\"text-align: right;\">1.00</td><td style=\"text-align: right;\">0</td><td style=\"text-align: right;\">0.00</td><td style=\"text-align: right;\">0</td><td style=\"text-align: right;\">0.00</td><td style=\"text-align: right;\">0</td><td style=\"text-align: right;\">0.00</td><td style=\"text-align: right;\">1</td><td style=\"text-align: right;\">3.84</td><td style=\"text-align: right;\">0</td><td style=\"text-align: right;\">0.00</td><td style=\"text-align: right;\">0</td><td style=\"text-align: right;\">0.00</td><td style=\"text-align: right;\">0</td><td style=\"text-align: right;\">0.00</td></tr>\n",
       "<tr class=\"even\"><td style=\"text-align: right;\">353498</td><td style=\"text-align: right;\">135,959,272</td><td style=\"text-align: right;\">416,583</td><td style=\"text-align: right;\">5</td><td style=\"text-align: right;\">684</td><td style=\"text-align: right;\">0.00</td><td style=\"text-align: right;\">1</td><td style=\"text-align: right;\">1.00</td><td style=\"text-align: right;\">0</td><td style=\"text-align: right;\">0.00</td><td style=\"text-align: right;\">0</td><td style=\"text-align: right;\">0.00</td><td style=\"text-align: right;\">0</td><td style=\"text-align: right;\">0.00</td><td style=\"text-align: right;\">1</td><td style=\"text-align: right;\">3.84</td><td style=\"text-align: right;\">0</td><td style=\"text-align: right;\">0.00</td><td style=\"text-align: right;\">0</td><td style=\"text-align: right;\">0.00</td><td style=\"text-align: right;\">0</td><td style=\"text-align: right;\">0.00</td></tr>\n",
       "</table>"
      ],
      "text/plain": [
       "<IPython.core.display.HTML object>"
      ]
     },
     "execution_count": 22,
     "metadata": {},
     "output_type": "execute_result"
    }
   ],
   "source": [
    "HTML(plt_obj.get_html())"
   ]
  },
  {
   "cell_type": "code",
   "execution_count": 23,
   "metadata": {
    "collapsed": false
   },
   "outputs": [
    {
     "data": {
      "text/plain": [
       "array([1, 1, 0, 1, 1, 1, 1, 1, 0])"
      ]
     },
     "execution_count": 23,
     "metadata": {},
     "output_type": "execute_result"
    }
   ],
   "source": [
    "sa_9_944.alleles_per_snp(am)"
   ]
  }
 ],
 "metadata": {
  "kernelspec": {
   "display_name": "Python [Root]",
   "language": "python",
   "name": "Python [Root]"
  },
  "language_info": {
   "codemirror_mode": {
    "name": "ipython",
    "version": 2
   },
   "file_extension": ".py",
   "mimetype": "text/x-python",
   "name": "python",
   "nbconvert_exporter": "python",
   "pygments_lexer": "ipython2",
   "version": "2.7.12"
  }
 },
 "nbformat": 4,
 "nbformat_minor": 0
}
