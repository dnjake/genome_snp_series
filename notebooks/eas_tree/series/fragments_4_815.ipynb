{
 "cells": [
  {
   "cell_type": "code",
   "execution_count": 1,
   "metadata": {
    "collapsed": false
   },
   "outputs": [
    {
     "data": {
      "text/html": []
     },
     "metadata": {},
     "output_type": "display_data"
    },
    {
     "data": {
      "application/javascript": [
       "\n",
       "(function(global) {\n",
       "  function now() {\n",
       "    return new Date();\n",
       "  }\n",
       "\n",
       "  if (typeof (window._bokeh_onload_callbacks) === \"undefined\") {\n",
       "    window._bokeh_onload_callbacks = [];\n",
       "  }\n",
       "\n",
       "  function run_callbacks() {\n",
       "    window._bokeh_onload_callbacks.forEach(function(callback) { callback() });\n",
       "    delete window._bokeh_onload_callbacks\n",
       "    console.info(\"Bokeh: all callbacks have finished\");\n",
       "  }\n",
       "\n",
       "  function load_libs(js_urls, callback) {\n",
       "    window._bokeh_onload_callbacks.push(callback);\n",
       "    if (window._bokeh_is_loading > 0) {\n",
       "      console.log(\"Bokeh: BokehJS is being loaded, scheduling callback at\", now());\n",
       "      return null;\n",
       "    }\n",
       "    if (js_urls == null || js_urls.length === 0) {\n",
       "      run_callbacks();\n",
       "      return null;\n",
       "    }\n",
       "    console.log(\"Bokeh: BokehJS not loaded, scheduling load and callback at\", now());\n",
       "    window._bokeh_is_loading = js_urls.length;\n",
       "    for (var i = 0; i < js_urls.length; i++) {\n",
       "      var url = js_urls[i];\n",
       "      var s = document.createElement('script');\n",
       "      s.src = url;\n",
       "      s.async = false;\n",
       "      s.onreadystatechange = s.onload = function() {\n",
       "        window._bokeh_is_loading--;\n",
       "        if (window._bokeh_is_loading === 0) {\n",
       "          console.log(\"Bokeh: all BokehJS libraries loaded\");\n",
       "          run_callbacks()\n",
       "        }\n",
       "      };\n",
       "      s.onerror = function() {\n",
       "        console.warn(\"failed to load library \" + url);\n",
       "      };\n",
       "      console.log(\"Bokeh: injecting script tag for BokehJS library: \", url);\n",
       "      document.getElementsByTagName(\"head\")[0].appendChild(s);\n",
       "    }\n",
       "  };\n",
       "\n",
       "  var js_urls = ['https://cdn.pydata.org/bokeh/release/bokeh-0.12.0.min.js', 'https://cdn.pydata.org/bokeh/release/bokeh-widgets-0.12.0.min.js', 'https://cdn.pydata.org/bokeh/release/bokeh-compiler-0.12.0.min.js'];\n",
       "\n",
       "  var inline_js = [\n",
       "    function(Bokeh) {\n",
       "      Bokeh.set_log_level(\"info\");\n",
       "    },\n",
       "    \n",
       "    function(Bokeh) {\n",
       "      Bokeh.$(\"#309ba396-cc81-43dd-aaf3-d9d8c7128ab0\").text(\"BokehJS successfully loaded\");\n",
       "    },\n",
       "    function(Bokeh) {\n",
       "      console.log(\"Bokeh: injecting CSS: https://cdn.pydata.org/bokeh/release/bokeh-0.12.0.min.css\");\n",
       "      Bokeh.embed.inject_css(\"https://cdn.pydata.org/bokeh/release/bokeh-0.12.0.min.css\");\n",
       "      console.log(\"Bokeh: injecting CSS: https://cdn.pydata.org/bokeh/release/bokeh-widgets-0.12.0.min.css\");\n",
       "      Bokeh.embed.inject_css(\"https://cdn.pydata.org/bokeh/release/bokeh-widgets-0.12.0.min.css\");\n",
       "    }\n",
       "  ];\n",
       "\n",
       "  function run_inline_js() {\n",
       "    for (var i = 0; i < inline_js.length; i++) {\n",
       "      inline_js[i](window.Bokeh);\n",
       "    }\n",
       "  }\n",
       "\n",
       "  if (window._bokeh_is_loading === 0) {\n",
       "    console.log(\"Bokeh: BokehJS loaded, going straight to plotting\");\n",
       "    run_inline_js();\n",
       "  } else {\n",
       "    load_libs(js_urls, function() {\n",
       "      console.log(\"Bokeh: BokehJS plotting callback run at\", now());\n",
       "      run_inline_js();\n",
       "    });\n",
       "  }\n",
       "}(this));"
      ]
     },
     "metadata": {},
     "output_type": "display_data"
    }
   ],
   "source": [
    "import numpy as np\n",
    "from IPython.display import HTML\n",
    "from bokeh.plotting import output_notebook, show\n",
    "import genomes_dnj.lct_interval.series_plots as dm\n",
    "import genomes_dnj.lct_interval.anal_series as an\n",
    "import genomes_dnj.lct_interval_snp_anal.lct_interval_snp_anal as snp_anal\n",
    "import genomes_dnj.lct_interval.series_masks as sm\n",
    "from genomes_dnj.lct_interval.bokeh_match_count_plot import snp_match_count_plot_cls as smcp\n",
    "sa_117_1685 = snp_anal.series_anal_cls(dm.di_117_1685, sm.series_data)\n",
    "sa_123_1561 = snp_anal.series_anal_cls(dm.di_123_1561, sm.series_data)\n",
    "sa_62_1265 = snp_anal.series_anal_cls(dm.di_62_1265, sm.series_data)\n",
    "sa_193_843 = snp_anal.series_anal_cls(dm.di_193_843, sm.series_data)\n",
    "sa_9_944 = snp_anal.series_anal_cls(dm.di_9_944, sm.series_data)\n",
    "output_notebook(hide_banner=True)"
   ]
  },
  {
   "cell_type": "markdown",
   "metadata": {},
   "source": [
    "<h3>Fragments 4_815</h3>\n",
    "<div style=\"width:700px\">\n",
    "<p>\n",
    "The series 4_815 is part of the SAS tree hierarchy.  The 843 chromosome 2 samples\n",
    "that express the SAS tree root series 193_843 include 667 that express 4_815.  The associations\n",
    "of 4_815 that do not include 193_843 primarily derive from two recombination events.  One of them\n",
    "associated 4_815 with 5_684 and the root series of the EAS tree.  The other associated the series\n",
    "8_267 that is part of the SAS tree with the series of the upper region of the EAS\n",
    "tree root.  The result of that recombination event was selected for overexpression by the\n",
    "emergence of the series 9_39.  For both recombination events, fragments of lost series persisted\n",
    "and can be identified from samples of chromosomes derived from the recombination event.  This notebook\n",
    "explores those fragments and identifies the location of some recombination events.\n",
    "</div>"
   ]
  },
  {
   "cell_type": "code",
   "execution_count": 2,
   "metadata": {
    "collapsed": false
   },
   "outputs": [],
   "source": [
    "am_4_815_not_193_843 = dm.and_and_not_or_allele_mask([dm.di_4_815], [dm.di_193_843])"
   ]
  },
  {
   "cell_type": "code",
   "execution_count": 3,
   "metadata": {
    "collapsed": false
   },
   "outputs": [
    {
     "data": {
      "text/html": [
       "\n",
       "\n",
       "    <div class=\"bk-root\">\n",
       "        <div class=\"plotdiv\" id=\"df59d1a2-15dc-4589-8175-a32192374c7f\"></div>\n",
       "    </div>\n",
       "<script type=\"text/javascript\">\n",
       "  \n",
       "  (function(global) {\n",
       "    function now() {\n",
       "      return new Date();\n",
       "    }\n",
       "  \n",
       "    if (typeof (window._bokeh_onload_callbacks) === \"undefined\") {\n",
       "      window._bokeh_onload_callbacks = [];\n",
       "    }\n",
       "  \n",
       "    function run_callbacks() {\n",
       "      window._bokeh_onload_callbacks.forEach(function(callback) { callback() });\n",
       "      delete window._bokeh_onload_callbacks\n",
       "      console.info(\"Bokeh: all callbacks have finished\");\n",
       "    }\n",
       "  \n",
       "    function load_libs(js_urls, callback) {\n",
       "      window._bokeh_onload_callbacks.push(callback);\n",
       "      if (window._bokeh_is_loading > 0) {\n",
       "        console.log(\"Bokeh: BokehJS is being loaded, scheduling callback at\", now());\n",
       "        return null;\n",
       "      }\n",
       "      if (js_urls == null || js_urls.length === 0) {\n",
       "        run_callbacks();\n",
       "        return null;\n",
       "      }\n",
       "      console.log(\"Bokeh: BokehJS not loaded, scheduling load and callback at\", now());\n",
       "      window._bokeh_is_loading = js_urls.length;\n",
       "      for (var i = 0; i < js_urls.length; i++) {\n",
       "        var url = js_urls[i];\n",
       "        var s = document.createElement('script');\n",
       "        s.src = url;\n",
       "        s.async = false;\n",
       "        s.onreadystatechange = s.onload = function() {\n",
       "          window._bokeh_is_loading--;\n",
       "          if (window._bokeh_is_loading === 0) {\n",
       "            console.log(\"Bokeh: all BokehJS libraries loaded\");\n",
       "            run_callbacks()\n",
       "          }\n",
       "        };\n",
       "        s.onerror = function() {\n",
       "          console.warn(\"failed to load library \" + url);\n",
       "        };\n",
       "        console.log(\"Bokeh: injecting script tag for BokehJS library: \", url);\n",
       "        document.getElementsByTagName(\"head\")[0].appendChild(s);\n",
       "      }\n",
       "    };var element = document.getElementById(\"df59d1a2-15dc-4589-8175-a32192374c7f\");\n",
       "    if (element == null) {\n",
       "      console.log(\"Bokeh: ERROR: autoload.js configured with elementid 'df59d1a2-15dc-4589-8175-a32192374c7f' but no matching script tag was found. \")\n",
       "      return false;\n",
       "    }\n",
       "  \n",
       "    var js_urls = [];\n",
       "  \n",
       "    var inline_js = [\n",
       "      function(Bokeh) {\n",
       "        Bokeh.$(function() {\n",
       "            var docs_json = {\"1fb0e25a-24c0-4336-9a66-90c1e8e3aef3\":{\"roots\":{\"references\":[{\"attributes\":{\"active_drag\":\"auto\",\"active_scroll\":\"auto\",\"active_tap\":\"auto\",\"tools\":[{\"id\":\"a0ce7a48-199e-4fbd-adda-e09c48c99f34\",\"type\":\"PanTool\"},{\"id\":\"d24c2eb1-4953-4661-9c9f-05c9dbb9384f\",\"type\":\"WheelZoomTool\"},{\"id\":\"a1ffe769-7b10-4314-b2e2-89d3a9104ea2\",\"type\":\"BoxZoomTool\"},{\"id\":\"7858a489-6ef8-4082-a08d-5f25739cbbdb\",\"type\":\"SaveTool\"},{\"id\":\"0df43c9d-1075-4cd1-8ccf-d262c2f78609\",\"type\":\"ResetTool\"},{\"id\":\"0d5b6a47-6186-45da-bb7c-fb461b974c88\",\"type\":\"HelpTool\"}]},\"id\":\"520c65fc-8994-408b-8570-f3a4ce36d827\",\"type\":\"Toolbar\"},{\"attributes\":{\"formatter\":{\"id\":\"c21f40be-17d8-4fc0-8457-ceaa3f5d1b41\",\"type\":\"BasicTickFormatter\"},\"plot\":{\"id\":\"85237c2c-8ad3-47bf-9f81-1f121bb98783\",\"subtype\":\"Figure\",\"type\":\"Plot\"},\"ticker\":{\"id\":\"3cb03ecd-afc3-4844-8a39-0e31892b00de\",\"type\":\"BasicTicker\"}},\"id\":\"634c482a-1308-459f-b455-91c6d9b9ba3e\",\"type\":\"LinearAxis\"},{\"attributes\":{\"plot\":{\"id\":\"85237c2c-8ad3-47bf-9f81-1f121bb98783\",\"subtype\":\"Figure\",\"type\":\"Plot\"},\"ticker\":{\"id\":\"3cb03ecd-afc3-4844-8a39-0e31892b00de\",\"type\":\"BasicTicker\"}},\"id\":\"b7cb5bb6-9c90-4732-969b-9ed9a89adee4\",\"type\":\"Grid\"},{\"attributes\":{},\"id\":\"d8ae6b99-d111-4834-bcaa-0eb9b31b3fd3\",\"type\":\"BasicTicker\"},{\"attributes\":{\"plot\":{\"id\":\"85237c2c-8ad3-47bf-9f81-1f121bb98783\",\"subtype\":\"Figure\",\"type\":\"Plot\"}},\"id\":\"7858a489-6ef8-4082-a08d-5f25739cbbdb\",\"type\":\"SaveTool\"},{\"attributes\":{},\"id\":\"7a827021-6659-4959-804f-5ded6def9c3b\",\"type\":\"BasicTickFormatter\"},{\"attributes\":{\"below\":[{\"id\":\"634c482a-1308-459f-b455-91c6d9b9ba3e\",\"type\":\"LinearAxis\"}],\"left\":[{\"id\":\"68cafa77-1b86-459b-a687-aba26876fe1f\",\"type\":\"LinearAxis\"}],\"plot_height\":400,\"plot_width\":900,\"renderers\":[{\"id\":\"634c482a-1308-459f-b455-91c6d9b9ba3e\",\"type\":\"LinearAxis\"},{\"id\":\"b7cb5bb6-9c90-4732-969b-9ed9a89adee4\",\"type\":\"Grid\"},{\"id\":\"68cafa77-1b86-459b-a687-aba26876fe1f\",\"type\":\"LinearAxis\"},{\"id\":\"62d89377-7a12-4930-b5d5-905f61e402e2\",\"type\":\"Grid\"},{\"id\":\"70874b7c-d464-48b8-92f4-6ee6626186f2\",\"type\":\"BoxAnnotation\"},{\"id\":\"70596b19-008e-4f63-9f5d-e5cf8b97057c\",\"type\":\"GlyphRenderer\"}],\"title\":{\"id\":\"0ad7dde6-af75-4c9f-9505-d0ccdb45224a\",\"type\":\"Title\"},\"tool_events\":{\"id\":\"260d1f00-eee3-46c2-8aca-17ca7a4e1ddb\",\"type\":\"ToolEvents\"},\"toolbar\":{\"id\":\"520c65fc-8994-408b-8570-f3a4ce36d827\",\"type\":\"Toolbar\"},\"toolbar_location\":null,\"x_range\":{\"id\":\"ad43f910-4c03-41c8-a855-d83021ffc713\",\"type\":\"Range1d\"},\"y_range\":{\"id\":\"ae6487ba-c2a4-4f4d-8533-d966b906aaf1\",\"type\":\"Range1d\"}},\"id\":\"85237c2c-8ad3-47bf-9f81-1f121bb98783\",\"subtype\":\"Figure\",\"type\":\"Plot\"},{\"attributes\":{\"plot\":null,\"text\":null},\"id\":\"0ad7dde6-af75-4c9f-9505-d0ccdb45224a\",\"type\":\"Title\"},{\"attributes\":{\"bottom_units\":\"screen\",\"fill_alpha\":{\"value\":0.5},\"fill_color\":{\"value\":\"lightgrey\"},\"left_units\":\"screen\",\"level\":\"overlay\",\"line_alpha\":{\"value\":1.0},\"line_color\":{\"value\":\"black\"},\"line_dash\":[4,4],\"line_width\":{\"value\":2},\"plot\":null,\"render_mode\":\"css\",\"right_units\":\"screen\",\"top_units\":\"screen\"},\"id\":\"70874b7c-d464-48b8-92f4-6ee6626186f2\",\"type\":\"BoxAnnotation\"},{\"attributes\":{},\"id\":\"260d1f00-eee3-46c2-8aca-17ca7a4e1ddb\",\"type\":\"ToolEvents\"},{\"attributes\":{},\"id\":\"c21f40be-17d8-4fc0-8457-ceaa3f5d1b41\",\"type\":\"BasicTickFormatter\"},{\"attributes\":{\"formatter\":{\"id\":\"7a827021-6659-4959-804f-5ded6def9c3b\",\"type\":\"BasicTickFormatter\"},\"plot\":{\"id\":\"85237c2c-8ad3-47bf-9f81-1f121bb98783\",\"subtype\":\"Figure\",\"type\":\"Plot\"},\"ticker\":{\"id\":\"d8ae6b99-d111-4834-bcaa-0eb9b31b3fd3\",\"type\":\"BasicTicker\"}},\"id\":\"68cafa77-1b86-459b-a687-aba26876fe1f\",\"type\":\"LinearAxis\"},{\"attributes\":{\"callback\":null,\"end\":171.5,\"start\":-0.5},\"id\":\"ad43f910-4c03-41c8-a855-d83021ffc713\",\"type\":\"Range1d\"},{\"attributes\":{\"plot\":{\"id\":\"85237c2c-8ad3-47bf-9f81-1f121bb98783\",\"subtype\":\"Figure\",\"type\":\"Plot\"}},\"id\":\"a0ce7a48-199e-4fbd-adda-e09c48c99f34\",\"type\":\"PanTool\"},{\"attributes\":{\"data_source\":{\"id\":\"d78f329b-0e90-43bf-84b3-cb46f2017e1a\",\"type\":\"ColumnDataSource\"},\"glyph\":{\"id\":\"0c8e3213-789b-4387-9d03-85d4ff97f9a8\",\"type\":\"Line\"},\"hover_glyph\":null,\"nonselection_glyph\":{\"id\":\"b1ad3102-5c6f-4516-88e6-efbdc0ce8d69\",\"type\":\"Line\"},\"selection_glyph\":null},\"id\":\"70596b19-008e-4f63-9f5d-e5cf8b97057c\",\"type\":\"GlyphRenderer\"},{\"attributes\":{\"plot\":{\"id\":\"85237c2c-8ad3-47bf-9f81-1f121bb98783\",\"subtype\":\"Figure\",\"type\":\"Plot\"}},\"id\":\"0d5b6a47-6186-45da-bb7c-fb461b974c88\",\"type\":\"HelpTool\"},{\"attributes\":{\"plot\":{\"id\":\"85237c2c-8ad3-47bf-9f81-1f121bb98783\",\"subtype\":\"Figure\",\"type\":\"Plot\"}},\"id\":\"d24c2eb1-4953-4661-9c9f-05c9dbb9384f\",\"type\":\"WheelZoomTool\"},{\"attributes\":{\"line_color\":{\"value\":\"#1f77b4\"},\"x\":{\"field\":\"x\"},\"y\":{\"field\":\"y\"}},\"id\":\"0c8e3213-789b-4387-9d03-85d4ff97f9a8\",\"type\":\"Line\"},{\"attributes\":{\"callback\":null,\"end\":102.30000000000001},\"id\":\"ae6487ba-c2a4-4f4d-8533-d966b906aaf1\",\"type\":\"Range1d\"},{\"attributes\":{\"plot\":{\"id\":\"85237c2c-8ad3-47bf-9f81-1f121bb98783\",\"subtype\":\"Figure\",\"type\":\"Plot\"}},\"id\":\"0df43c9d-1075-4cd1-8ccf-d262c2f78609\",\"type\":\"ResetTool\"},{\"attributes\":{\"callback\":null,\"column_names\":[\"y\",\"x\"],\"data\":{\"x\":[-0.5,-0.5,22.5,22.5,23.5,23.5,27.5,27.5,28.5,28.5,29.5,29.5,30.5,30.5,62.5,62.5,63.5,63.5,64.5,64.5,65.5,65.5,97.5,97.5,98.5,98.5,99.5,99.5,100.5,100.5,101.5,101.5,168.5,168.5,169.5,169.5,170.5,170.5],\"y\":[0.0,0.0,0.0,1.0,1.0,0.0,0.0,4.0,4.0,93.0,93.0,1.0,1.0,0.0,0.0,2.0,2.0,0.0,0.0,2.0,2.0,0.0,0.0,1.0,1.0,0.0,0.0,1.0,1.0,1.0,1.0,0.0,0.0,1.0,1.0,41.0,41.0,0.0]}},\"id\":\"d78f329b-0e90-43bf-84b3-cb46f2017e1a\",\"type\":\"ColumnDataSource\"},{\"attributes\":{\"line_alpha\":{\"value\":0.1},\"line_color\":{\"value\":\"#1f77b4\"},\"x\":{\"field\":\"x\"},\"y\":{\"field\":\"y\"}},\"id\":\"b1ad3102-5c6f-4516-88e6-efbdc0ce8d69\",\"type\":\"Line\"},{\"attributes\":{\"dimension\":1,\"plot\":{\"id\":\"85237c2c-8ad3-47bf-9f81-1f121bb98783\",\"subtype\":\"Figure\",\"type\":\"Plot\"},\"ticker\":{\"id\":\"d8ae6b99-d111-4834-bcaa-0eb9b31b3fd3\",\"type\":\"BasicTicker\"}},\"id\":\"62d89377-7a12-4930-b5d5-905f61e402e2\",\"type\":\"Grid\"},{\"attributes\":{\"overlay\":{\"id\":\"70874b7c-d464-48b8-92f4-6ee6626186f2\",\"type\":\"BoxAnnotation\"},\"plot\":{\"id\":\"85237c2c-8ad3-47bf-9f81-1f121bb98783\",\"subtype\":\"Figure\",\"type\":\"Plot\"}},\"id\":\"a1ffe769-7b10-4314-b2e2-89d3a9104ea2\",\"type\":\"BoxZoomTool\"},{\"attributes\":{},\"id\":\"3cb03ecd-afc3-4844-8a39-0e31892b00de\",\"type\":\"BasicTicker\"}],\"root_ids\":[\"85237c2c-8ad3-47bf-9f81-1f121bb98783\"]},\"title\":\"Bokeh Application\",\"version\":\"0.12.0\"}};\n",
       "            var render_items = [{\"docid\":\"1fb0e25a-24c0-4336-9a66-90c1e8e3aef3\",\"elementid\":\"df59d1a2-15dc-4589-8175-a32192374c7f\",\"modelid\":\"85237c2c-8ad3-47bf-9f81-1f121bb98783\",\"notebook_comms_target\":\"ab87f6b5-0f90-49db-a72e-1bfb83595f89\"}];\n",
       "            \n",
       "            Bokeh.embed.embed_items(docs_json, render_items);\n",
       "        });\n",
       "      },\n",
       "      function(Bokeh) {\n",
       "      }\n",
       "    ];\n",
       "  \n",
       "    function run_inline_js() {\n",
       "      for (var i = 0; i < inline_js.length; i++) {\n",
       "        inline_js[i](window.Bokeh);\n",
       "      }\n",
       "    }\n",
       "  \n",
       "    if (window._bokeh_is_loading === 0) {\n",
       "      console.log(\"Bokeh: BokehJS loaded, going straight to plotting\");\n",
       "      run_inline_js();\n",
       "    } else {\n",
       "      load_libs(js_urls, function() {\n",
       "        console.log(\"Bokeh: BokehJS plotting callback run at\", now());\n",
       "        run_inline_js();\n",
       "      });\n",
       "    }\n",
       "  }(this));\n",
       "</script>"
      ]
     },
     "metadata": {},
     "output_type": "display_data"
    },
    {
     "data": {
      "text/html": [
       "<p><code>&lt;Bokeh Notebook handle for <strong>In[3]</strong>&gt;</code></p>"
      ],
      "text/plain": [
       "<bokeh.io._CommsHandle at 0x7f667c0eb950>"
      ]
     },
     "execution_count": 3,
     "metadata": {},
     "output_type": "execute_result"
    }
   ],
   "source": [
    "count_data = sa_193_843.unique_snps_per_allele(am_4_815_not_193_843)\n",
    "plt_obj = smcp(count_data)\n",
    "plt = plt_obj.do_plot()\n",
    "show(plt)"
   ]
  },
  {
   "cell_type": "code",
   "execution_count": 4,
   "metadata": {
    "collapsed": false
   },
   "outputs": [
    {
     "data": {
      "text/plain": [
       "array([(23, 1), (28, 4), (29, 93), (30, 1), (63, 2), (65, 2), (98, 1),\n",
       "       (100, 1), (101, 1), (169, 1), (170, 41)], \n",
       "      dtype=[('count', '<u2'), ('snps', '<u2')])"
      ]
     },
     "execution_count": 4,
     "metadata": {},
     "output_type": "execute_result"
    }
   ],
   "source": [
    "count_data"
   ]
  },
  {
   "cell_type": "code",
   "execution_count": 5,
   "metadata": {
    "collapsed": false
   },
   "outputs": [
    {
     "data": {
      "text/plain": [
       "array([93, 93, 93, 93, 93, 93, 93, 93, 93, 93, 93, 93, 93, 93, 93, 93, 93,\n",
       "       93, 93, 93, 93, 93, 93, 93, 93, 93, 93, 93, 93,  0,  0,  0,  0,  0,\n",
       "        0,  0,  0,  0,  0,  0,  0,  0,  0,  0,  0,  0,  0,  0,  0,  0,  0,\n",
       "        0,  0,  0,  0,  0,  0,  0,  0,  0,  0,  0,  0,  0,  0,  0,  0,  0,\n",
       "        0,  0,  0,  0,  0,  0,  0,  0,  0,  0,  0,  0,  0,  0,  0,  0,  0,\n",
       "        0,  0,  0,  0,  0,  0,  0,  0,  0,  0,  0,  0,  0,  0,  0,  0,  0,\n",
       "        0,  0,  0,  0,  0,  0,  0,  0,  0,  0,  0,  0,  0,  0,  0,  0,  0,\n",
       "        0,  0,  0,  0,  0,  0,  0,  0,  0,  0,  0,  0,  0,  0,  0,  0,  0,\n",
       "        0,  0,  0,  0,  0,  0,  0,  0,  0,  0,  0,  0,  0,  0,  0,  0,  0,\n",
       "        0,  0,  0,  0,  0,  0,  0,  0,  0,  0,  0,  0,  0,  0,  0,  0,  0,\n",
       "        0,  0,  0,  0,  0,  0,  0,  0,  0,  0,  0,  0,  0,  0,  0,  0,  0,\n",
       "        0,  0,  0,  0,  0,  0])"
      ]
     },
     "execution_count": 5,
     "metadata": {},
     "output_type": "execute_result"
    }
   ],
   "source": [
    "aps_29, am_29 = an.sa_193_843.snps_from_aps_value(29, am_4_815_not_193_843)\n",
    "aps_29"
   ]
  },
  {
   "cell_type": "code",
   "execution_count": 6,
   "metadata": {
    "collapsed": false
   },
   "outputs": [
    {
     "data": {
      "text/html": [
       "\n",
       "\n",
       "    <div class=\"bk-root\">\n",
       "        <div class=\"plotdiv\" id=\"25c52d39-e215-4e5f-806d-43f87249b4d7\"></div>\n",
       "    </div>\n",
       "<script type=\"text/javascript\">\n",
       "  \n",
       "  (function(global) {\n",
       "    function now() {\n",
       "      return new Date();\n",
       "    }\n",
       "  \n",
       "    if (typeof (window._bokeh_onload_callbacks) === \"undefined\") {\n",
       "      window._bokeh_onload_callbacks = [];\n",
       "    }\n",
       "  \n",
       "    function run_callbacks() {\n",
       "      window._bokeh_onload_callbacks.forEach(function(callback) { callback() });\n",
       "      delete window._bokeh_onload_callbacks\n",
       "      console.info(\"Bokeh: all callbacks have finished\");\n",
       "    }\n",
       "  \n",
       "    function load_libs(js_urls, callback) {\n",
       "      window._bokeh_onload_callbacks.push(callback);\n",
       "      if (window._bokeh_is_loading > 0) {\n",
       "        console.log(\"Bokeh: BokehJS is being loaded, scheduling callback at\", now());\n",
       "        return null;\n",
       "      }\n",
       "      if (js_urls == null || js_urls.length === 0) {\n",
       "        run_callbacks();\n",
       "        return null;\n",
       "      }\n",
       "      console.log(\"Bokeh: BokehJS not loaded, scheduling load and callback at\", now());\n",
       "      window._bokeh_is_loading = js_urls.length;\n",
       "      for (var i = 0; i < js_urls.length; i++) {\n",
       "        var url = js_urls[i];\n",
       "        var s = document.createElement('script');\n",
       "        s.src = url;\n",
       "        s.async = false;\n",
       "        s.onreadystatechange = s.onload = function() {\n",
       "          window._bokeh_is_loading--;\n",
       "          if (window._bokeh_is_loading === 0) {\n",
       "            console.log(\"Bokeh: all BokehJS libraries loaded\");\n",
       "            run_callbacks()\n",
       "          }\n",
       "        };\n",
       "        s.onerror = function() {\n",
       "          console.warn(\"failed to load library \" + url);\n",
       "        };\n",
       "        console.log(\"Bokeh: injecting script tag for BokehJS library: \", url);\n",
       "        document.getElementsByTagName(\"head\")[0].appendChild(s);\n",
       "      }\n",
       "    };var element = document.getElementById(\"25c52d39-e215-4e5f-806d-43f87249b4d7\");\n",
       "    if (element == null) {\n",
       "      console.log(\"Bokeh: ERROR: autoload.js configured with elementid '25c52d39-e215-4e5f-806d-43f87249b4d7' but no matching script tag was found. \")\n",
       "      return false;\n",
       "    }\n",
       "  \n",
       "    var js_urls = [];\n",
       "  \n",
       "    var inline_js = [\n",
       "      function(Bokeh) {\n",
       "        Bokeh.$(function() {\n",
       "            var docs_json = {\"55b6db62-cbc3-4ae3-8484-b5ac14af2bf2\":{\"roots\":{\"references\":[{\"attributes\":{\"formatter\":{\"id\":\"0f0dd959-3160-4a9a-8466-f5635be21283\",\"type\":\"BasicTickFormatter\"},\"plot\":{\"id\":\"9425220a-8ced-44f5-b0a8-55c1351e0205\",\"subtype\":\"Figure\",\"type\":\"Plot\"},\"ticker\":{\"id\":\"68391a67-929a-4aca-a477-40e98e9d9842\",\"type\":\"BasicTicker\"}},\"id\":\"44b4627a-fdd7-4aee-a5f1-3f34c9c822f6\",\"type\":\"LinearAxis\"},{\"attributes\":{\"callback\":null,\"column_names\":[\"y\",\"x\",\"vals\"],\"data\":{\"vals\":[\"RAB3GAP1\",\"ZRANB3\",\"R3HDM1\",\"UBXN4\",\"LCT\",\"MCM6\",\"DARS\"],\"x\":[135869057.0,136122878.0,136385961.0,136520911.0,136570082.5,136615621.5,136703738.0],\"y\":[160.0,160.0,160.0,160.0,160.0,160.0,160.0]}},\"id\":\"e5168452-7fff-4361-bf0b-2711cfaf137d\",\"type\":\"ColumnDataSource\"},{\"attributes\":{\"callback\":null,\"end\":200},\"id\":\"a22c9d0e-38a3-46b0-ad41-a7a75ea4a596\",\"type\":\"Range1d\"},{\"attributes\":{\"callback\":null,\"column_names\":[\"right\",\"bottom\",\"top\",\"left\",\"fill_color\"],\"data\":{\"bottom\":[50,50],\"fill_color\":[\"#61c4c4\",\"#ffff00\"],\"left\":[135839805,135959272],\"right\":[135924467,136375855],\"top\":[90,88]}},\"id\":\"23453cf5-bd9e-4b6a-91df-82dde09a0d8e\",\"type\":\"ColumnDataSource\"},{\"attributes\":{},\"id\":\"bc461277-f293-4b13-a889-1b23deb1f2cd\",\"type\":\"BasicTickFormatter\"},{\"attributes\":{\"below\":[{\"id\":\"44b4627a-fdd7-4aee-a5f1-3f34c9c822f6\",\"type\":\"LinearAxis\"}],\"left\":[{\"id\":\"4180acb2-2fd4-4548-b5ac-1ef66a79a8ea\",\"type\":\"LinearAxis\"}],\"plot_height\":200,\"plot_width\":900,\"renderers\":[{\"id\":\"44b4627a-fdd7-4aee-a5f1-3f34c9c822f6\",\"type\":\"LinearAxis\"},{\"id\":\"684c63fa-79b6-4e59-bc1f-584d149aca1f\",\"type\":\"Grid\"},{\"id\":\"4180acb2-2fd4-4548-b5ac-1ef66a79a8ea\",\"type\":\"LinearAxis\"},{\"id\":\"08d94370-e374-4345-9bde-874ce06cb67c\",\"type\":\"Grid\"},{\"id\":\"06d28431-09d7-44e3-bfba-1efe6ae6f12c\",\"type\":\"BoxAnnotation\"},{\"id\":\"b0d09a32-be01-4133-b556-265a2bca1ea8\",\"type\":\"GlyphRenderer\"},{\"id\":\"3ca1a261-a870-4285-8dd3-97355d0a1a30\",\"type\":\"GlyphRenderer\"},{\"id\":\"7e56a467-7878-4447-b0a1-b8b7e6c7d9bb\",\"type\":\"LabelSet\"},{\"id\":\"dc83b37a-4e19-48e6-aff4-0f3ca4a72ea0\",\"type\":\"GlyphRenderer\"},{\"id\":\"ff65409b-84c7-4a5b-af5d-0bb4d2295a9e\",\"type\":\"LabelSet\"}],\"title\":{\"id\":\"c480fd1a-92ee-41ac-941d-43c10ed00460\",\"type\":\"Title\"},\"tool_events\":{\"id\":\"af50bff4-3b24-4dfd-b723-00ab69f79a2d\",\"type\":\"ToolEvents\"},\"toolbar\":{\"id\":\"59afbb2d-95e7-40e8-88b2-2eac6ca4714b\",\"type\":\"Toolbar\"},\"toolbar_location\":null,\"x_range\":{\"id\":\"125e71aa-28bc-4234-8df3-09fa633ec307\",\"type\":\"Range1d\"},\"y_range\":{\"id\":\"a22c9d0e-38a3-46b0-ad41-a7a75ea4a596\",\"type\":\"Range1d\"}},\"id\":\"9425220a-8ced-44f5-b0a8-55c1351e0205\",\"subtype\":\"Figure\",\"type\":\"Plot\"},{\"attributes\":{\"overlay\":{\"id\":\"06d28431-09d7-44e3-bfba-1efe6ae6f12c\",\"type\":\"BoxAnnotation\"},\"plot\":{\"id\":\"9425220a-8ced-44f5-b0a8-55c1351e0205\",\"subtype\":\"Figure\",\"type\":\"Plot\"}},\"id\":\"c7a6819b-7b76-4dd8-864f-24c6e18a78ba\",\"type\":\"BoxZoomTool\"},{\"attributes\":{\"plot\":{\"id\":\"9425220a-8ced-44f5-b0a8-55c1351e0205\",\"subtype\":\"Figure\",\"type\":\"Plot\"}},\"id\":\"c1fb5c96-261c-49bc-bd1f-7459bb031b1f\",\"type\":\"PanTool\"},{\"attributes\":{\"callback\":null,\"column_names\":[\"y\",\"x\",\"vals\"],\"data\":{\"vals\":[\"4_815\",\"5_684\"],\"x\":[135839805,135959272],\"y\":[95.0,93.0]}},\"id\":\"1788d706-c092-4ddc-a074-aa90426a5dc9\",\"type\":\"ColumnDataSource\"},{\"attributes\":{\"bottom_units\":\"screen\",\"fill_alpha\":{\"value\":0.5},\"fill_color\":{\"value\":\"lightgrey\"},\"left_units\":\"screen\",\"level\":\"overlay\",\"line_alpha\":{\"value\":1.0},\"line_color\":{\"value\":\"black\"},\"line_dash\":[4,4],\"line_width\":{\"value\":2},\"plot\":null,\"render_mode\":\"css\",\"right_units\":\"screen\",\"top_units\":\"screen\"},\"id\":\"06d28431-09d7-44e3-bfba-1efe6ae6f12c\",\"type\":\"BoxAnnotation\"},{\"attributes\":{\"dimension\":1,\"plot\":{\"id\":\"9425220a-8ced-44f5-b0a8-55c1351e0205\",\"subtype\":\"Figure\",\"type\":\"Plot\"},\"ticker\":{\"id\":\"8e7456ac-d424-47c9-86ed-354cf3f7cf58\",\"type\":\"BasicTicker\"}},\"id\":\"08d94370-e374-4345-9bde-874ce06cb67c\",\"type\":\"Grid\"},{\"attributes\":{\"bottom\":{\"field\":\"bottom\"},\"fill_color\":{\"value\":\"white\"},\"left\":{\"field\":\"left\"},\"right\":{\"field\":\"right\"},\"top\":{\"field\":\"top\"}},\"id\":\"364f66af-e69b-46c6-b259-1b9c8c6749f7\",\"type\":\"Quad\"},{\"attributes\":{\"callback\":null,\"end\":136786630,\"start\":135757320},\"id\":\"125e71aa-28bc-4234-8df3-09fa633ec307\",\"type\":\"Range1d\"},{\"attributes\":{\"level\":\"glyph\",\"plot\":{\"id\":\"9425220a-8ced-44f5-b0a8-55c1351e0205\",\"subtype\":\"Figure\",\"type\":\"Plot\"},\"source\":{\"id\":\"1788d706-c092-4ddc-a074-aa90426a5dc9\",\"type\":\"ColumnDataSource\"},\"text\":{\"field\":\"vals\"},\"text_font_size\":{\"value\":\"9pt\"},\"text_font_style\":\"bold\",\"x\":{\"field\":\"x\"},\"y\":{\"field\":\"y\"}},\"id\":\"7e56a467-7878-4447-b0a1-b8b7e6c7d9bb\",\"type\":\"LabelSet\"},{\"attributes\":{\"bottom\":{\"field\":\"bottom\"},\"fill_alpha\":{\"value\":0.1},\"fill_color\":{\"value\":\"#1f77b4\"},\"left\":{\"field\":\"left\"},\"line_alpha\":{\"value\":0.1},\"line_color\":{\"value\":\"#1f77b4\"},\"right\":{\"field\":\"right\"},\"top\":{\"field\":\"top\"}},\"id\":\"3d1d1feb-1e53-41dc-8e08-b563dc69e6a7\",\"type\":\"Quad\"},{\"attributes\":{\"data_source\":{\"id\":\"23453cf5-bd9e-4b6a-91df-82dde09a0d8e\",\"type\":\"ColumnDataSource\"},\"glyph\":{\"id\":\"297f11ae-1479-4f50-a000-28757773a5e5\",\"type\":\"Quad\"},\"hover_glyph\":null,\"nonselection_glyph\":{\"id\":\"735170a5-b849-43b9-a14b-27ad87d60010\",\"type\":\"Quad\"},\"selection_glyph\":null},\"id\":\"b0d09a32-be01-4133-b556-265a2bca1ea8\",\"type\":\"GlyphRenderer\"},{\"attributes\":{\"line_alpha\":{\"value\":0.1},\"line_color\":{\"value\":\"#1f77b4\"},\"xs\":{\"field\":\"xs\"},\"ys\":{\"field\":\"ys\"}},\"id\":\"ff653a39-da12-4da9-9ba7-d86d3cc73c2e\",\"type\":\"MultiLine\"},{\"attributes\":{\"bottom\":{\"field\":\"bottom\"},\"fill_color\":{\"field\":\"fill_color\"},\"left\":{\"field\":\"left\"},\"line_color\":{\"value\":null},\"right\":{\"field\":\"right\"},\"top\":{\"field\":\"top\"}},\"id\":\"297f11ae-1479-4f50-a000-28757773a5e5\",\"type\":\"Quad\"},{\"attributes\":{},\"id\":\"af50bff4-3b24-4dfd-b723-00ab69f79a2d\",\"type\":\"ToolEvents\"},{\"attributes\":{\"plot\":null,\"text\":null},\"id\":\"c480fd1a-92ee-41ac-941d-43c10ed00460\",\"type\":\"Title\"},{\"attributes\":{\"active_drag\":\"auto\",\"active_scroll\":\"auto\",\"active_tap\":\"auto\",\"tools\":[{\"id\":\"c1fb5c96-261c-49bc-bd1f-7459bb031b1f\",\"type\":\"PanTool\"},{\"id\":\"097436f5-fc30-4ad3-a06c-e18f0154ab3e\",\"type\":\"WheelZoomTool\"},{\"id\":\"c7a6819b-7b76-4dd8-864f-24c6e18a78ba\",\"type\":\"BoxZoomTool\"},{\"id\":\"497508fc-f867-4e27-b316-05c6ca4adf29\",\"type\":\"SaveTool\"},{\"id\":\"f228fd2f-38ed-41de-af6c-cddfc00dcd58\",\"type\":\"ResetTool\"},{\"id\":\"2bd08c30-1c0a-4afe-b16f-3839770834da\",\"type\":\"HelpTool\"}]},\"id\":\"59afbb2d-95e7-40e8-88b2-2eac6ca4714b\",\"type\":\"Toolbar\"},{\"attributes\":{\"callback\":null,\"column_names\":[\"right\",\"bottom\",\"top\",\"left\"],\"data\":{\"bottom\":[145,145,145,145,145,145,145],\"left\":[135809835,135957574,136289083,136499189,136545415,136597196,136664254],\"right\":[135928279,136288182,136482839,136542633,136594750,136634047,136743222],\"top\":[175,175,175,175,175,175,175]}},\"id\":\"577aca6e-b3ba-4343-a417-9e8461646408\",\"type\":\"ColumnDataSource\"},{\"attributes\":{\"level\":\"glyph\",\"plot\":{\"id\":\"9425220a-8ced-44f5-b0a8-55c1351e0205\",\"subtype\":\"Figure\",\"type\":\"Plot\"},\"source\":{\"id\":\"e5168452-7fff-4361-bf0b-2711cfaf137d\",\"type\":\"ColumnDataSource\"},\"text\":{\"field\":\"vals\"},\"text_align\":\"center\",\"text_baseline\":\"middle\",\"text_font_size\":{\"value\":\"8pt\"},\"x\":{\"field\":\"x\"},\"y\":{\"field\":\"y\"}},\"id\":\"ff65409b-84c7-4a5b-af5d-0bb4d2295a9e\",\"type\":\"LabelSet\"},{\"attributes\":{\"bottom\":{\"field\":\"bottom\"},\"fill_alpha\":{\"value\":0.1},\"fill_color\":{\"value\":\"#1f77b4\"},\"left\":{\"field\":\"left\"},\"line_alpha\":{\"value\":0.1},\"line_color\":{\"value\":\"#1f77b4\"},\"right\":{\"field\":\"right\"},\"top\":{\"field\":\"top\"}},\"id\":\"735170a5-b849-43b9-a14b-27ad87d60010\",\"type\":\"Quad\"},{\"attributes\":{\"plot\":{\"id\":\"9425220a-8ced-44f5-b0a8-55c1351e0205\",\"subtype\":\"Figure\",\"type\":\"Plot\"},\"ticker\":{\"id\":\"68391a67-929a-4aca-a477-40e98e9d9842\",\"type\":\"BasicTicker\"}},\"id\":\"684c63fa-79b6-4e59-bc1f-584d149aca1f\",\"type\":\"Grid\"},{\"attributes\":{\"plot\":{\"id\":\"9425220a-8ced-44f5-b0a8-55c1351e0205\",\"subtype\":\"Figure\",\"type\":\"Plot\"}},\"id\":\"2bd08c30-1c0a-4afe-b16f-3839770834da\",\"type\":\"HelpTool\"},{\"attributes\":{\"data_source\":{\"id\":\"577aca6e-b3ba-4343-a417-9e8461646408\",\"type\":\"ColumnDataSource\"},\"glyph\":{\"id\":\"364f66af-e69b-46c6-b259-1b9c8c6749f7\",\"type\":\"Quad\"},\"hover_glyph\":null,\"nonselection_glyph\":{\"id\":\"3d1d1feb-1e53-41dc-8e08-b563dc69e6a7\",\"type\":\"Quad\"},\"selection_glyph\":null},\"id\":\"dc83b37a-4e19-48e6-aff4-0f3ca4a72ea0\",\"type\":\"GlyphRenderer\"},{\"attributes\":{\"plot\":{\"id\":\"9425220a-8ced-44f5-b0a8-55c1351e0205\",\"subtype\":\"Figure\",\"type\":\"Plot\"}},\"id\":\"f228fd2f-38ed-41de-af6c-cddfc00dcd58\",\"type\":\"ResetTool\"},{\"attributes\":{\"plot\":{\"id\":\"9425220a-8ced-44f5-b0a8-55c1351e0205\",\"subtype\":\"Figure\",\"type\":\"Plot\"}},\"id\":\"097436f5-fc30-4ad3-a06c-e18f0154ab3e\",\"type\":\"WheelZoomTool\"},{\"attributes\":{\"data_source\":{\"id\":\"d49bc008-dcb6-49dc-8c1c-4bbb843de6e8\",\"type\":\"ColumnDataSource\"},\"glyph\":{\"id\":\"40212176-0f31-4fd9-999d-7a2e82f0398f\",\"type\":\"MultiLine\"},\"hover_glyph\":null,\"nonselection_glyph\":{\"id\":\"ff653a39-da12-4da9-9ba7-d86d3cc73c2e\",\"type\":\"MultiLine\"},\"selection_glyph\":null},\"id\":\"3ca1a261-a870-4285-8dd3-97355d0a1a30\",\"type\":\"GlyphRenderer\"},{\"attributes\":{},\"id\":\"0f0dd959-3160-4a9a-8466-f5635be21283\",\"type\":\"BasicTickFormatter\"},{\"attributes\":{},\"id\":\"68391a67-929a-4aca-a477-40e98e9d9842\",\"type\":\"BasicTicker\"},{\"attributes\":{\"callback\":null,\"column_names\":[\"xs\",\"ys\",\"line_color\"],\"data\":{\"line_color\":[\"black\",\"black\",\"black\",\"black\",\"black\",\"black\",\"black\",\"black\",\"black\"],\"xs\":[[135839805,135839805],[135866750,135866750],[135886744,135886744],[135924467,135924467],[135959272,135959272],[136149550,136149550],[136164840,136164840],[136313885,136313885],[136375855,136375855]],\"ys\":[[50,90],[50,90],[50,90],[50,90],[50,88],[50,88],[50,88],[50,88],[50,88]]}},\"id\":\"d49bc008-dcb6-49dc-8c1c-4bbb843de6e8\",\"type\":\"ColumnDataSource\"},{\"attributes\":{},\"id\":\"8e7456ac-d424-47c9-86ed-354cf3f7cf58\",\"type\":\"BasicTicker\"},{\"attributes\":{\"plot\":{\"id\":\"9425220a-8ced-44f5-b0a8-55c1351e0205\",\"subtype\":\"Figure\",\"type\":\"Plot\"}},\"id\":\"497508fc-f867-4e27-b316-05c6ca4adf29\",\"type\":\"SaveTool\"},{\"attributes\":{\"line_color\":{\"field\":\"line_color\"},\"xs\":{\"field\":\"xs\"},\"ys\":{\"field\":\"ys\"}},\"id\":\"40212176-0f31-4fd9-999d-7a2e82f0398f\",\"type\":\"MultiLine\"},{\"attributes\":{\"formatter\":{\"id\":\"bc461277-f293-4b13-a889-1b23deb1f2cd\",\"type\":\"BasicTickFormatter\"},\"plot\":{\"id\":\"9425220a-8ced-44f5-b0a8-55c1351e0205\",\"subtype\":\"Figure\",\"type\":\"Plot\"},\"ticker\":{\"id\":\"8e7456ac-d424-47c9-86ed-354cf3f7cf58\",\"type\":\"BasicTicker\"},\"visible\":null},\"id\":\"4180acb2-2fd4-4548-b5ac-1ef66a79a8ea\",\"type\":\"LinearAxis\"}],\"root_ids\":[\"9425220a-8ced-44f5-b0a8-55c1351e0205\"]},\"title\":\"Bokeh Application\",\"version\":\"0.12.0\"}};\n",
       "            var render_items = [{\"docid\":\"55b6db62-cbc3-4ae3-8484-b5ac14af2bf2\",\"elementid\":\"25c52d39-e215-4e5f-806d-43f87249b4d7\",\"modelid\":\"9425220a-8ced-44f5-b0a8-55c1351e0205\",\"notebook_comms_target\":\"6e48199c-a664-465d-8e2b-8d542104a9d6\"}];\n",
       "            \n",
       "            Bokeh.embed.embed_items(docs_json, render_items);\n",
       "        });\n",
       "      },\n",
       "      function(Bokeh) {\n",
       "      }\n",
       "    ];\n",
       "  \n",
       "    function run_inline_js() {\n",
       "      for (var i = 0; i < inline_js.length; i++) {\n",
       "        inline_js[i](window.Bokeh);\n",
       "      }\n",
       "    }\n",
       "  \n",
       "    if (window._bokeh_is_loading === 0) {\n",
       "      console.log(\"Bokeh: BokehJS loaded, going straight to plotting\");\n",
       "      run_inline_js();\n",
       "    } else {\n",
       "      load_libs(js_urls, function() {\n",
       "        console.log(\"Bokeh: BokehJS plotting callback run at\", now());\n",
       "        run_inline_js();\n",
       "      });\n",
       "    }\n",
       "  }(this));\n",
       "</script>"
      ]
     },
     "metadata": {},
     "output_type": "display_data"
    },
    {
     "data": {
      "text/html": [
       "<p><code>&lt;Bokeh Notebook handle for <strong>In[6]</strong>&gt;</code></p>"
      ],
      "text/plain": [
       "<bokeh.io._CommsHandle at 0x7f664c8e2d90>"
      ]
     },
     "execution_count": 6,
     "metadata": {},
     "output_type": "execute_result"
    }
   ],
   "source": [
    "plt_obj = dm.superset_allele_mask(am_29, min_match=0.9)\n",
    "plt = plt_obj.do_plot()\n",
    "show(plt)"
   ]
  },
  {
   "cell_type": "code",
   "execution_count": 7,
   "metadata": {
    "collapsed": false
   },
   "outputs": [
    {
     "data": {
      "text/html": [
       "<table>\n",
       "<thead><tr><th style=\"text-align:center\">index</th><th style=\"text-align:center\">first</th><th style=\"text-align:center\">length</th><th style=\"text-align:center\">snps</th><th style=\"text-align:center\" colspan=2>alleles</th><th style=\"text-align:center\" colspan=2>matches</th><th style=\"text-align:center\" colspan=2>afr</th><th style=\"text-align:center\" colspan=2>afx</th><th style=\"text-align:center\" colspan=2>amr</th><th style=\"text-align:center\" colspan=2>eas</th><th style=\"text-align:center\" colspan=2>eur</th><th style=\"text-align:center\" colspan=2>sas</th><th style=\"text-align:center\" colspan=2>sax</th></tr></thead>\n",
       "<tr class=\"even\"><td style=\"text-align: right;\">353384</td><td style=\"text-align: right;\">135,839,805</td><td style=\"text-align: right;\">84,662</td><td style=\"text-align: right;\">4</td><td style=\"text-align: right;\">815</td><td style=\"text-align: right;\">0.11</td><td style=\"text-align: right;\">93</td><td style=\"text-align: right;\">1.00</td><td style=\"text-align: right;\">2</td><td style=\"text-align: right;\">0.11</td><td style=\"text-align: right;\">0</td><td style=\"text-align: right;\">0.00</td><td style=\"text-align: right;\">0</td><td style=\"text-align: right;\">0.00</td><td style=\"text-align: right;\">84</td><td style=\"text-align: right;\">4.49</td><td style=\"text-align: right;\">1</td><td style=\"text-align: right;\">0.05</td><td style=\"text-align: right;\">4</td><td style=\"text-align: right;\">0.59</td><td style=\"text-align: right;\">2</td><td style=\"text-align: right;\">0.18</td></tr>\n",
       "<tr><td style=\"text-align: right;\">353498</td><td style=\"text-align: right;\">135,959,272</td><td style=\"text-align: right;\">416,583</td><td style=\"text-align: right;\">5</td><td style=\"text-align: right;\">684</td><td style=\"text-align: right;\">0.13</td><td style=\"text-align: right;\">87</td><td style=\"text-align: right;\">0.94</td><td style=\"text-align: right;\">0</td><td style=\"text-align: right;\">0.00</td><td style=\"text-align: right;\">0</td><td style=\"text-align: right;\">0.00</td><td style=\"text-align: right;\">0</td><td style=\"text-align: right;\">0.00</td><td style=\"text-align: right;\">82</td><td style=\"text-align: right;\">4.68</td><td style=\"text-align: right;\">0</td><td style=\"text-align: right;\">0.00</td><td style=\"text-align: right;\">4</td><td style=\"text-align: right;\">0.63</td><td style=\"text-align: right;\">1</td><td style=\"text-align: right;\">0.09</td></tr>\n",
       "</table>"
      ],
      "text/plain": [
       "<IPython.core.display.HTML object>"
      ]
     },
     "execution_count": 7,
     "metadata": {},
     "output_type": "execute_result"
    }
   ],
   "source": [
    "HTML(plt_obj.get_html())"
   ]
  },
  {
   "cell_type": "code",
   "execution_count": 8,
   "metadata": {
    "collapsed": false
   },
   "outputs": [
    {
     "data": {
      "text/plain": [
       "array([41, 41, 41, 41, 41, 41, 41, 41, 41, 41, 41, 41, 41, 41, 41, 41, 41,\n",
       "       41, 41, 41, 41, 41, 41, 41, 41, 41, 41, 41, 41, 41, 41, 41, 41, 41,\n",
       "       41, 41, 41, 41, 41, 41, 41, 41, 41, 41, 41, 41, 41, 41, 41, 41, 41,\n",
       "       41, 41, 41, 41, 41, 41, 41, 41, 41, 41, 41, 41, 41, 41, 41, 41, 41,\n",
       "       41, 41, 41, 41, 41, 41, 41, 41, 41, 41, 41, 41, 41, 41, 41, 41, 41,\n",
       "       41, 41, 41, 41, 41, 41, 41, 41, 41, 41, 41, 41, 41, 41, 41, 41, 41,\n",
       "       41, 41, 41, 41, 41, 41, 41, 41, 41, 41, 41, 41, 41, 41, 41, 41, 41,\n",
       "       41, 41, 41, 41, 41, 41, 41, 41, 41, 41, 41, 41, 41, 41, 41, 41, 41,\n",
       "       41, 41, 41, 41, 41, 41, 41, 41, 41, 41, 41, 41, 41, 41, 41, 41, 41,\n",
       "       41, 41, 41, 41, 41, 41, 41, 41, 41, 41, 41, 41, 41, 41, 41, 41, 41,\n",
       "        0,  0,  0,  0,  0,  0,  0,  0,  0,  0,  0,  0,  0,  0,  0,  0,  0,\n",
       "        0,  0,  0,  0,  0,  0])"
      ]
     },
     "execution_count": 8,
     "metadata": {},
     "output_type": "execute_result"
    }
   ],
   "source": [
    "aps_170, am_170 = an.sa_193_843.snps_from_aps_value(170, am_4_815_not_193_843)\n",
    "aps_170"
   ]
  },
  {
   "cell_type": "code",
   "execution_count": 9,
   "metadata": {
    "collapsed": false
   },
   "outputs": [
    {
     "data": {
      "text/html": [
       "\n",
       "\n",
       "    <div class=\"bk-root\">\n",
       "        <div class=\"plotdiv\" id=\"1630f41e-7a01-4e1c-a36d-a56549873f0f\"></div>\n",
       "    </div>\n",
       "<script type=\"text/javascript\">\n",
       "  \n",
       "  (function(global) {\n",
       "    function now() {\n",
       "      return new Date();\n",
       "    }\n",
       "  \n",
       "    if (typeof (window._bokeh_onload_callbacks) === \"undefined\") {\n",
       "      window._bokeh_onload_callbacks = [];\n",
       "    }\n",
       "  \n",
       "    function run_callbacks() {\n",
       "      window._bokeh_onload_callbacks.forEach(function(callback) { callback() });\n",
       "      delete window._bokeh_onload_callbacks\n",
       "      console.info(\"Bokeh: all callbacks have finished\");\n",
       "    }\n",
       "  \n",
       "    function load_libs(js_urls, callback) {\n",
       "      window._bokeh_onload_callbacks.push(callback);\n",
       "      if (window._bokeh_is_loading > 0) {\n",
       "        console.log(\"Bokeh: BokehJS is being loaded, scheduling callback at\", now());\n",
       "        return null;\n",
       "      }\n",
       "      if (js_urls == null || js_urls.length === 0) {\n",
       "        run_callbacks();\n",
       "        return null;\n",
       "      }\n",
       "      console.log(\"Bokeh: BokehJS not loaded, scheduling load and callback at\", now());\n",
       "      window._bokeh_is_loading = js_urls.length;\n",
       "      for (var i = 0; i < js_urls.length; i++) {\n",
       "        var url = js_urls[i];\n",
       "        var s = document.createElement('script');\n",
       "        s.src = url;\n",
       "        s.async = false;\n",
       "        s.onreadystatechange = s.onload = function() {\n",
       "          window._bokeh_is_loading--;\n",
       "          if (window._bokeh_is_loading === 0) {\n",
       "            console.log(\"Bokeh: all BokehJS libraries loaded\");\n",
       "            run_callbacks()\n",
       "          }\n",
       "        };\n",
       "        s.onerror = function() {\n",
       "          console.warn(\"failed to load library \" + url);\n",
       "        };\n",
       "        console.log(\"Bokeh: injecting script tag for BokehJS library: \", url);\n",
       "        document.getElementsByTagName(\"head\")[0].appendChild(s);\n",
       "      }\n",
       "    };var element = document.getElementById(\"1630f41e-7a01-4e1c-a36d-a56549873f0f\");\n",
       "    if (element == null) {\n",
       "      console.log(\"Bokeh: ERROR: autoload.js configured with elementid '1630f41e-7a01-4e1c-a36d-a56549873f0f' but no matching script tag was found. \")\n",
       "      return false;\n",
       "    }\n",
       "  \n",
       "    var js_urls = [];\n",
       "  \n",
       "    var inline_js = [\n",
       "      function(Bokeh) {\n",
       "        Bokeh.$(function() {\n",
       "            var docs_json = {\"b836fc42-f393-4f3a-8b07-20f343a9bc14\":{\"roots\":{\"references\":[{\"attributes\":{\"callback\":null,\"end\":136786630,\"start\":135757320},\"id\":\"4984b6d0-b3f6-4944-af94-e990f5726372\",\"type\":\"Range1d\"},{\"attributes\":{\"bottom_units\":\"screen\",\"fill_alpha\":{\"value\":0.5},\"fill_color\":{\"value\":\"lightgrey\"},\"left_units\":\"screen\",\"level\":\"overlay\",\"line_alpha\":{\"value\":1.0},\"line_color\":{\"value\":\"black\"},\"line_dash\":[4,4],\"line_width\":{\"value\":2},\"plot\":null,\"render_mode\":\"css\",\"right_units\":\"screen\",\"top_units\":\"screen\"},\"id\":\"45597e69-7cf8-40c2-916e-74a0b3557ee3\",\"type\":\"BoxAnnotation\"},{\"attributes\":{\"level\":\"glyph\",\"plot\":{\"id\":\"5c5deda7-319a-43de-915c-408f489190a2\",\"subtype\":\"Figure\",\"type\":\"Plot\"},\"source\":{\"id\":\"2451cfea-d9be-4563-b9b7-acdff480f5b9\",\"type\":\"ColumnDataSource\"},\"text\":{\"field\":\"vals\"},\"text_font_size\":{\"value\":\"9pt\"},\"text_font_style\":\"bold\",\"x\":{\"field\":\"x\"},\"y\":{\"field\":\"y\"}},\"id\":\"a5a40be7-0dbb-4769-a73e-b9fcfa6cfc5c\",\"type\":\"LabelSet\"},{\"attributes\":{\"line_color\":{\"field\":\"line_color\"},\"xs\":{\"field\":\"xs\"},\"ys\":{\"field\":\"ys\"}},\"id\":\"c9321770-2a6d-43b0-b1d4-ddfbaf93cd5c\",\"type\":\"MultiLine\"},{\"attributes\":{\"callback\":null,\"column_names\":[\"y\",\"x\",\"vals\"],\"data\":{\"vals\":[\"117_1685\",\"62_1265\",\"8_267\",\"4_815\",\"6_946\",\"6_713\",\"9_39\",\"32_1361\"],\"x\":[135758231,135766890,135818487,135839805,135964764,135989333,136028572,136393658],\"y\":[601.0,498.0,185.0,395.0,396.0,293.0,68.0,599.0]}},\"id\":\"2451cfea-d9be-4563-b9b7-acdff480f5b9\",\"type\":\"ColumnDataSource\"},{\"attributes\":{\"plot\":{\"id\":\"5c5deda7-319a-43de-915c-408f489190a2\",\"subtype\":\"Figure\",\"type\":\"Plot\"}},\"id\":\"ab24dc13-5244-4b77-883b-4b873119d18e\",\"type\":\"HelpTool\"},{\"attributes\":{\"plot\":null,\"text\":null},\"id\":\"de3f581a-acf3-446a-aa00-d54855ac44eb\",\"type\":\"Title\"},{\"attributes\":{\"bottom\":{\"field\":\"bottom\"},\"fill_color\":{\"field\":\"fill_color\"},\"left\":{\"field\":\"left\"},\"line_color\":{\"value\":null},\"right\":{\"field\":\"right\"},\"top\":{\"field\":\"top\"}},\"id\":\"9bdc5d4c-dba2-46b9-adb4-2efa3fd16621\",\"type\":\"Quad\"},{\"attributes\":{},\"id\":\"d593db3f-5d43-4686-a3be-faa53d4a5ee7\",\"type\":\"BasicTicker\"},{\"attributes\":{\"dimension\":1,\"plot\":{\"id\":\"5c5deda7-319a-43de-915c-408f489190a2\",\"subtype\":\"Figure\",\"type\":\"Plot\"},\"ticker\":{\"id\":\"8f69498c-168f-4a60-ba25-088255e1d872\",\"type\":\"BasicTicker\"}},\"id\":\"e1b9566f-feb5-4faf-905e-e5d0d6d489b0\",\"type\":\"Grid\"},{\"attributes\":{\"line_alpha\":{\"value\":0.1},\"line_color\":{\"value\":\"#1f77b4\"},\"xs\":{\"field\":\"xs\"},\"ys\":{\"field\":\"ys\"}},\"id\":\"6d4c4f7a-1a5e-44b5-b51d-e3957b1d4f6e\",\"type\":\"MultiLine\"},{\"attributes\":{\"callback\":null,\"column_names\":[\"y\",\"x\",\"vals\"],\"data\":{\"vals\":[\"RAB3GAP1\",\"ZRANB3\",\"R3HDM1\",\"UBXN4\",\"LCT\",\"MCM6\",\"DARS\"],\"x\":[135869057.0,136122878.0,136385961.0,136520911.0,136570082.5,136615621.5,136703738.0],\"y\":[660.0,660.0,660.0,660.0,660.0,660.0,660.0]}},\"id\":\"05c76b88-790a-41e2-a420-36e6311d3647\",\"type\":\"ColumnDataSource\"},{\"attributes\":{\"bottom\":{\"field\":\"bottom\"},\"fill_alpha\":{\"value\":0.1},\"fill_color\":{\"value\":\"#1f77b4\"},\"left\":{\"field\":\"left\"},\"line_alpha\":{\"value\":0.1},\"line_color\":{\"value\":\"#1f77b4\"},\"right\":{\"field\":\"right\"},\"top\":{\"field\":\"top\"}},\"id\":\"ef30eb4a-3593-4db6-b1e9-80b36e395e13\",\"type\":\"Quad\"},{\"attributes\":{\"level\":\"glyph\",\"plot\":{\"id\":\"5c5deda7-319a-43de-915c-408f489190a2\",\"subtype\":\"Figure\",\"type\":\"Plot\"},\"source\":{\"id\":\"05c76b88-790a-41e2-a420-36e6311d3647\",\"type\":\"ColumnDataSource\"},\"text\":{\"field\":\"vals\"},\"text_align\":\"center\",\"text_baseline\":\"middle\",\"text_font_size\":{\"value\":\"8pt\"},\"x\":{\"field\":\"x\"},\"y\":{\"field\":\"y\"}},\"id\":\"1a468f82-ccbd-44df-9dee-b93d86938089\",\"type\":\"LabelSet\"},{\"attributes\":{\"callback\":null,\"end\":700},\"id\":\"0c362f22-aa58-4618-b901-5d6e30a1daa2\",\"type\":\"Range1d\"},{\"attributes\":{\"callback\":null,\"column_names\":[\"right\",\"bottom\",\"top\",\"left\"],\"data\":{\"bottom\":[645,645,645,645,645,645,645],\"left\":[135809835,135957574,136289083,136499189,136545415,136597196,136664254],\"right\":[135928279,136288182,136482839,136542633,136594750,136634047,136743222],\"top\":[675,675,675,675,675,675,675]}},\"id\":\"a4502ea6-9413-46e1-bbf1-b92974821732\",\"type\":\"ColumnDataSource\"},{\"attributes\":{\"data_source\":{\"id\":\"951b3ea1-12bf-4142-a89d-6543639dd504\",\"type\":\"ColumnDataSource\"},\"glyph\":{\"id\":\"c9321770-2a6d-43b0-b1d4-ddfbaf93cd5c\",\"type\":\"MultiLine\"},\"hover_glyph\":null,\"nonselection_glyph\":{\"id\":\"6d4c4f7a-1a5e-44b5-b51d-e3957b1d4f6e\",\"type\":\"MultiLine\"},\"selection_glyph\":null},\"id\":\"edea7833-028b-4843-84f3-ca9dfc094491\",\"type\":\"GlyphRenderer\"},{\"attributes\":{\"plot\":{\"id\":\"5c5deda7-319a-43de-915c-408f489190a2\",\"subtype\":\"Figure\",\"type\":\"Plot\"}},\"id\":\"188554e5-1265-4a2e-9d13-d6278c7c0923\",\"type\":\"SaveTool\"},{\"attributes\":{\"plot\":{\"id\":\"5c5deda7-319a-43de-915c-408f489190a2\",\"subtype\":\"Figure\",\"type\":\"Plot\"}},\"id\":\"dc8bca7f-259d-4b86-b160-62ea4ecf5c2e\",\"type\":\"WheelZoomTool\"},{\"attributes\":{\"overlay\":{\"id\":\"45597e69-7cf8-40c2-916e-74a0b3557ee3\",\"type\":\"BoxAnnotation\"},\"plot\":{\"id\":\"5c5deda7-319a-43de-915c-408f489190a2\",\"subtype\":\"Figure\",\"type\":\"Plot\"}},\"id\":\"03b918ee-6be1-4af3-846a-1b9c1e1a8f07\",\"type\":\"BoxZoomTool\"},{\"attributes\":{\"bottom\":{\"field\":\"bottom\"},\"fill_alpha\":{\"value\":0.1},\"fill_color\":{\"value\":\"#1f77b4\"},\"left\":{\"field\":\"left\"},\"line_alpha\":{\"value\":0.1},\"line_color\":{\"value\":\"#1f77b4\"},\"right\":{\"field\":\"right\"},\"top\":{\"field\":\"top\"}},\"id\":\"d5f66f95-50b1-40ef-ac32-4b703f0a448e\",\"type\":\"Quad\"},{\"attributes\":{\"below\":[{\"id\":\"49eefc55-6163-4d77-acf5-cbb2bbad4f8a\",\"type\":\"LinearAxis\"}],\"left\":[{\"id\":\"2368f0e4-53a5-46d2-8892-9fa19c2be325\",\"type\":\"LinearAxis\"}],\"plot_height\":700,\"plot_width\":900,\"renderers\":[{\"id\":\"49eefc55-6163-4d77-acf5-cbb2bbad4f8a\",\"type\":\"LinearAxis\"},{\"id\":\"0ddcfc55-7c3c-41d8-8e09-7f915924df4a\",\"type\":\"Grid\"},{\"id\":\"2368f0e4-53a5-46d2-8892-9fa19c2be325\",\"type\":\"LinearAxis\"},{\"id\":\"e1b9566f-feb5-4faf-905e-e5d0d6d489b0\",\"type\":\"Grid\"},{\"id\":\"45597e69-7cf8-40c2-916e-74a0b3557ee3\",\"type\":\"BoxAnnotation\"},{\"id\":\"0f8bcc0d-04f9-42b6-a6ea-a46e35c198a9\",\"type\":\"GlyphRenderer\"},{\"id\":\"edea7833-028b-4843-84f3-ca9dfc094491\",\"type\":\"GlyphRenderer\"},{\"id\":\"a5a40be7-0dbb-4769-a73e-b9fcfa6cfc5c\",\"type\":\"LabelSet\"},{\"id\":\"b6b830ee-8e35-4bf1-91ab-1c759b808957\",\"type\":\"GlyphRenderer\"},{\"id\":\"1a468f82-ccbd-44df-9dee-b93d86938089\",\"type\":\"LabelSet\"}],\"title\":{\"id\":\"de3f581a-acf3-446a-aa00-d54855ac44eb\",\"type\":\"Title\"},\"tool_events\":{\"id\":\"91e29ded-bbd6-49a9-88c0-79d6e8f0802a\",\"type\":\"ToolEvents\"},\"toolbar\":{\"id\":\"4ae0b558-a930-44b6-b20f-a2a431373f8e\",\"type\":\"Toolbar\"},\"toolbar_location\":null,\"x_range\":{\"id\":\"4984b6d0-b3f6-4944-af94-e990f5726372\",\"type\":\"Range1d\"},\"y_range\":{\"id\":\"0c362f22-aa58-4618-b901-5d6e30a1daa2\",\"type\":\"Range1d\"}},\"id\":\"5c5deda7-319a-43de-915c-408f489190a2\",\"subtype\":\"Figure\",\"type\":\"Plot\"},{\"attributes\":{\"callback\":null,\"column_names\":[\"right\",\"bottom\",\"top\",\"left\",\"fill_color\"],\"data\":{\"bottom\":[550,450,150,350,350,250,50,550],\"fill_color\":[\"#808080\",\"#808080\",\"#c461c4\",\"#61c4c4\",\"#61c4c4\",\"#61c4c4\",\"#00ff00\",\"#c4c461\"],\"left\":[135758231,135766890,135818487,135839805,135964764,135989333,136028572,136393658],\"right\":[136376515,136275985,136289565,135924467,136101132,136264631,136438465,136486342],\"top\":[596,493,180,390,391,288,63,594]}},\"id\":\"b3545580-d4f2-48ab-b44c-42fffae8f32a\",\"type\":\"ColumnDataSource\"},{\"attributes\":{\"plot\":{\"id\":\"5c5deda7-319a-43de-915c-408f489190a2\",\"subtype\":\"Figure\",\"type\":\"Plot\"}},\"id\":\"56b036df-0c71-4d18-9245-bc4788a3b03e\",\"type\":\"PanTool\"},{\"attributes\":{},\"id\":\"91e29ded-bbd6-49a9-88c0-79d6e8f0802a\",\"type\":\"ToolEvents\"},{\"attributes\":{},\"id\":\"5952cf1c-48ef-460c-92f9-1d2228fe68cf\",\"type\":\"BasicTickFormatter\"},{\"attributes\":{\"data_source\":{\"id\":\"a4502ea6-9413-46e1-bbf1-b92974821732\",\"type\":\"ColumnDataSource\"},\"glyph\":{\"id\":\"c64f5643-f5a9-45f2-979b-b68eaa699b08\",\"type\":\"Quad\"},\"hover_glyph\":null,\"nonselection_glyph\":{\"id\":\"ef30eb4a-3593-4db6-b1e9-80b36e395e13\",\"type\":\"Quad\"},\"selection_glyph\":null},\"id\":\"b6b830ee-8e35-4bf1-91ab-1c759b808957\",\"type\":\"GlyphRenderer\"},{\"attributes\":{\"plot\":{\"id\":\"5c5deda7-319a-43de-915c-408f489190a2\",\"subtype\":\"Figure\",\"type\":\"Plot\"},\"ticker\":{\"id\":\"d593db3f-5d43-4686-a3be-faa53d4a5ee7\",\"type\":\"BasicTicker\"}},\"id\":\"0ddcfc55-7c3c-41d8-8e09-7f915924df4a\",\"type\":\"Grid\"},{\"attributes\":{\"active_drag\":\"auto\",\"active_scroll\":\"auto\",\"active_tap\":\"auto\",\"tools\":[{\"id\":\"56b036df-0c71-4d18-9245-bc4788a3b03e\",\"type\":\"PanTool\"},{\"id\":\"dc8bca7f-259d-4b86-b160-62ea4ecf5c2e\",\"type\":\"WheelZoomTool\"},{\"id\":\"03b918ee-6be1-4af3-846a-1b9c1e1a8f07\",\"type\":\"BoxZoomTool\"},{\"id\":\"188554e5-1265-4a2e-9d13-d6278c7c0923\",\"type\":\"SaveTool\"},{\"id\":\"868f406f-9a19-4f82-b997-5d794f5e3151\",\"type\":\"ResetTool\"},{\"id\":\"ab24dc13-5244-4b77-883b-4b873119d18e\",\"type\":\"HelpTool\"}]},\"id\":\"4ae0b558-a930-44b6-b20f-a2a431373f8e\",\"type\":\"Toolbar\"},{\"attributes\":{\"bottom\":{\"field\":\"bottom\"},\"fill_color\":{\"value\":\"white\"},\"left\":{\"field\":\"left\"},\"right\":{\"field\":\"right\"},\"top\":{\"field\":\"top\"}},\"id\":\"c64f5643-f5a9-45f2-979b-b68eaa699b08\",\"type\":\"Quad\"},{\"attributes\":{},\"id\":\"8f69498c-168f-4a60-ba25-088255e1d872\",\"type\":\"BasicTicker\"},{\"attributes\":{},\"id\":\"057f396d-311a-45c8-921d-a98677b3240b\",\"type\":\"BasicTickFormatter\"},{\"attributes\":{\"formatter\":{\"id\":\"057f396d-311a-45c8-921d-a98677b3240b\",\"type\":\"BasicTickFormatter\"},\"plot\":{\"id\":\"5c5deda7-319a-43de-915c-408f489190a2\",\"subtype\":\"Figure\",\"type\":\"Plot\"},\"ticker\":{\"id\":\"8f69498c-168f-4a60-ba25-088255e1d872\",\"type\":\"BasicTicker\"},\"visible\":null},\"id\":\"2368f0e4-53a5-46d2-8892-9fa19c2be325\",\"type\":\"LinearAxis\"},{\"attributes\":{\"plot\":{\"id\":\"5c5deda7-319a-43de-915c-408f489190a2\",\"subtype\":\"Figure\",\"type\":\"Plot\"}},\"id\":\"868f406f-9a19-4f82-b997-5d794f5e3151\",\"type\":\"ResetTool\"},{\"attributes\":{\"callback\":null,\"column_names\":[\"xs\",\"ys\",\"line_color\"],\"data\":{\"line_color\":[\"black\",\"black\",\"black\",\"black\",\"black\",\"black\",\"black\",\"black\",\"black\",\"black\",\"black\",\"black\",\"black\",\"black\",\"black\",\"black\",\"black\",\"black\",\"black\",\"black\",\"black\",\"black\",\"black\",\"black\",\"black\",\"black\",\"black\",\"black\",\"black\",\"black\",\"black\",\"black\",\"black\",\"black\",\"black\",\"black\",\"black\",\"black\",\"black\",\"black\",\"black\",\"black\",\"black\",\"black\",\"black\",\"black\",\"black\",\"black\",\"black\",\"black\",\"black\",\"black\",\"black\",\"black\",\"black\",\"black\",\"black\",\"black\",\"black\",\"black\",\"black\",\"black\",\"black\",\"black\",\"black\",\"black\",\"black\",\"black\",\"black\",\"black\",\"black\",\"black\",\"black\",\"black\",\"black\",\"black\",\"black\",\"black\",\"black\",\"black\",\"black\",\"black\",\"black\",\"black\",\"black\",\"black\",\"black\",\"black\",\"black\",\"black\",\"black\",\"black\",\"black\",\"black\",\"black\",\"black\",\"black\",\"black\",\"black\",\"black\",\"black\",\"black\",\"black\",\"black\",\"black\",\"black\",\"black\",\"black\",\"black\",\"black\",\"black\",\"black\",\"black\",\"black\",\"black\",\"black\",\"black\",\"black\",\"black\",\"black\",\"black\",\"black\",\"black\",\"black\",\"black\",\"black\",\"black\",\"black\",\"black\",\"black\",\"black\",\"black\",\"black\",\"black\",\"black\",\"black\",\"black\",\"black\",\"black\",\"black\",\"black\",\"black\",\"black\",\"black\",\"black\",\"black\",\"black\",\"black\",\"black\",\"black\",\"black\",\"black\",\"black\",\"black\",\"black\",\"black\",\"black\",\"black\",\"black\",\"black\",\"black\",\"black\",\"black\",\"black\",\"black\",\"black\",\"black\",\"black\",\"black\",\"black\",\"black\",\"black\",\"black\",\"black\",\"black\",\"black\",\"black\",\"black\",\"black\",\"black\",\"black\",\"black\",\"black\",\"black\",\"black\",\"black\",\"black\",\"black\",\"black\",\"black\",\"black\",\"black\",\"black\",\"black\",\"black\",\"black\",\"black\",\"black\",\"black\",\"black\",\"black\",\"black\",\"black\",\"black\",\"black\",\"black\",\"black\",\"black\",\"black\",\"black\",\"black\",\"black\",\"black\",\"black\",\"black\",\"black\",\"black\",\"black\",\"black\",\"black\",\"black\",\"black\",\"black\",\"black\",\"black\",\"black\",\"black\",\"black\",\"black\",\"black\",\"black\",\"black\",\"black\",\"black\",\"black\",\"black\",\"black\",\"black\",\"black\",\"black\",\"black\",\"black\",\"black\",\"black\"],\"xs\":[[135758231,135758231],[135758520,135758520],[135766072,135766072],[135773420,135773420],[135773446,135773446],[135773617,135773617],[135773692,135773692],[135774681,135774681],[135775049,135775049],[135776430,135776430],[135778656,135778656],[135780168,135780168],[135780587,135780587],[135781301,135781301],[135781522,135781522],[135781635,135781635],[135782456,135782456],[135783157,135783157],[135783366,135783366],[135783367,135783367],[135784227,135784227],[135784733,135784733],[135785066,135785066],[135785068,135785068],[135785149,135785149],[135787148,135787148],[135787642,135787642],[135789405,135789405],[135789472,135789472],[135789682,135789682],[135789784,135789784],[135792338,135792338],[135792528,135792528],[135793565,135793565],[135793684,135793684],[135793845,135793845],[135794367,135794367],[135794986,135794986],[135795040,135795040],[135795095,135795095],[135795150,135795150],[135795385,135795385],[135795396,135795396],[135795443,135795443],[135795595,135795595],[135796000,135796000],[135796155,135796155],[135796410,135796410],[135796965,135796965],[135797223,135797223],[135797747,135797747],[135798082,135798082],[135798758,135798758],[135799082,135799082],[135800085,135800085],[135800601,135800601],[135800757,135800757],[135801228,135801228],[135801956,135801956],[135802020,135802020],[135802028,135802028],[135802050,135802050],[135802148,135802148],[135803766,135803766],[135809241,135809241],[135812969,135812969],[135814716,135814716],[135818907,135818907],[135829432,135829432],[135832131,135832131],[135849613,135849613],[135853807,135853807],[135859923,135859923],[135860305,135860305],[135861497,135861497],[135863143,135863143],[135864294,135864294],[135871624,135871624],[135872646,135872646],[135874038,135874038],[135874622,135874622],[135878814,135878814],[135880013,135880013],[135884487,135884487],[135885357,135885357],[135893853,135893853],[135895809,135895809],[135895879,135895879],[135899069,135899069],[135909462,135909462],[135912977,135912977],[135914038,135914038],[135921839,135921839],[135925002,135925002],[135928312,135928312],[135935049,135935049],[135962711,135962711],[135984172,135984172],[135994753,135994753],[135994754,135994754],[136016079,136016079],[136027264,136027264],[136052004,136052004],[136100473,136100473],[136110129,136110129],[136166536,136166536],[136169799,136169799],[136191314,136191314],[136228887,136228887],[136238453,136238453],[136288273,136288273],[136292425,136292425],[136321951,136321951],[136324564,136324564],[136327299,136327299],[136327302,136327302],[136376515,136376515],[135766890,135766890],[135778708,135778708],[135779588,135779588],[135805941,135805941],[135805943,135805943],[135932720,135932720],[135933317,135933317],[135934842,135934842],[135952376,135952376],[135958853,135958853],[135962864,135962864],[135963304,135963304],[135965376,135965376],[135980201,135980201],[135981554,135981554],[135988127,135988127],[135988416,135988416],[135991470,135991470],[136000500,136000500],[136001215,136001215],[136001295,136001295],[136016514,136016514],[136017388,136017388],[136041102,136041102],[136041662,136041662],[136047387,136047387],[136052936,136052936],[136055275,136055275],[136063118,136063118],[136066802,136066802],[136068890,136068890],[136069577,136069577],[136081193,136081193],[136105193,136105193],[136107839,136107839],[136110835,136110835],[136138026,136138026],[136142092,136142092],[136146499,136146499],[136147607,136147607],[136148401,136148401],[136150512,136150512],[136154734,136154734],[136155805,136155805],[136163001,136163001],[136163266,136163266],[136163568,136163568],[136163821,136163821],[136165965,136165965],[136183312,136183312],[136185945,136185945],[136191729,136191729],[136204827,136204827],[136208747,136208747],[136217980,136217980],[136229438,136229438],[136232572,136232572],[136240942,136240942],[136251329,136251329],[136265187,136265187],[136265188,136265188],[136275985,136275985],[135818487,135818487],[136048649,136048649],[136107286,136107286],[136127914,136127914],[136130497,136130497],[136268096,136268096],[136281880,136281880],[136289565,136289565],[135839805,135839805],[135866750,135866750],[135886744,135886744],[135924467,135924467],[135964764,135964764],[135964765,135964765],[136099127,136099127],[136099650,136099650],[136100705,136100705],[136101132,136101132],[135989333,135989333],[136000304,136000304],[136030519,136030519],[136034836,136034836],[136125165,136125165],[136264631,136264631],[136028572,136028572],[136141525,136141525],[136174478,136174478],[136211744,136211744],[136240608,136240608],[136320031,136320031],[136320040,136320040],[136368926,136368926],[136438465,136438465],[136393658,136393658],[136396300,136396300],[136401843,136401843],[136407445,136407445],[136411879,136411879],[136412270,136412270],[136413244,136413244],[136413847,136413847],[136415217,136415217],[136416533,136416533],[136420726,136420726],[136429857,136429857],[136433740,136433740],[136436317,136436317],[136437615,136437615],[136438517,136438517],[136440300,136440300],[136443900,136443900],[136444185,136444185],[136444338,136444338],[136449254,136449254],[136451676,136451676],[136459227,136459227],[136463117,136463117],[136463454,136463454],[136467119,136467119],[136468238,136468238],[136470219,136470219],[136483355,136483355],[136485276,136485276],[136486340,136486340],[136486342,136486342]],\"ys\":[[550,596],[550,596],[550,596],[550,596],[550,596],[550,596],[550,596],[550,596],[550,596],[550,596],[550,596],[550,596],[550,596],[550,596],[550,596],[550,596],[550,596],[550,596],[550,596],[550,596],[550,596],[550,596],[550,596],[550,596],[550,596],[550,596],[550,596],[550,596],[550,596],[550,596],[550,596],[550,596],[550,596],[550,596],[550,596],[550,596],[550,596],[550,596],[550,596],[550,596],[550,596],[550,596],[550,596],[550,596],[550,596],[550,596],[550,596],[550,596],[550,596],[550,596],[550,596],[550,596],[550,596],[550,596],[550,596],[550,596],[550,596],[550,596],[550,596],[550,596],[550,596],[550,596],[550,596],[550,596],[550,596],[550,596],[550,596],[550,596],[550,596],[550,596],[550,596],[550,596],[550,596],[550,596],[550,596],[550,596],[550,596],[550,596],[550,596],[550,596],[550,596],[550,596],[550,596],[550,596],[550,596],[550,596],[550,596],[550,596],[550,596],[550,596],[550,596],[550,596],[550,596],[550,596],[550,596],[550,596],[550,596],[550,596],[550,596],[550,596],[550,596],[550,596],[550,596],[550,596],[550,596],[550,596],[550,596],[550,596],[550,596],[550,596],[550,596],[550,596],[550,596],[550,596],[550,596],[550,596],[550,596],[450,493],[450,493],[450,493],[450,493],[450,493],[450,493],[450,493],[450,493],[450,493],[450,493],[450,493],[450,493],[450,493],[450,493],[450,493],[450,493],[450,493],[450,493],[450,493],[450,493],[450,493],[450,493],[450,493],[450,493],[450,493],[450,493],[450,493],[450,493],[450,493],[450,493],[450,493],[450,493],[450,493],[450,493],[450,493],[450,493],[450,493],[450,493],[450,493],[450,493],[450,493],[450,493],[450,493],[450,493],[450,493],[450,493],[450,493],[450,493],[450,493],[450,493],[450,493],[450,493],[450,493],[450,493],[450,493],[450,493],[450,493],[450,493],[450,493],[450,493],[450,493],[450,493],[150,180],[150,180],[150,180],[150,180],[150,180],[150,180],[150,180],[150,180],[350,390],[350,390],[350,390],[350,390],[350,391],[350,391],[350,391],[350,391],[350,391],[350,391],[250,288],[250,288],[250,288],[250,288],[250,288],[250,288],[50,63],[50,63],[50,63],[50,63],[50,63],[50,63],[50,63],[50,63],[50,63],[550,594],[550,594],[550,594],[550,594],[550,594],[550,594],[550,594],[550,594],[550,594],[550,594],[550,594],[550,594],[550,594],[550,594],[550,594],[550,594],[550,594],[550,594],[550,594],[550,594],[550,594],[550,594],[550,594],[550,594],[550,594],[550,594],[550,594],[550,594],[550,594],[550,594],[550,594],[550,594]]}},\"id\":\"951b3ea1-12bf-4142-a89d-6543639dd504\",\"type\":\"ColumnDataSource\"},{\"attributes\":{\"data_source\":{\"id\":\"b3545580-d4f2-48ab-b44c-42fffae8f32a\",\"type\":\"ColumnDataSource\"},\"glyph\":{\"id\":\"9bdc5d4c-dba2-46b9-adb4-2efa3fd16621\",\"type\":\"Quad\"},\"hover_glyph\":null,\"nonselection_glyph\":{\"id\":\"d5f66f95-50b1-40ef-ac32-4b703f0a448e\",\"type\":\"Quad\"},\"selection_glyph\":null},\"id\":\"0f8bcc0d-04f9-42b6-a6ea-a46e35c198a9\",\"type\":\"GlyphRenderer\"},{\"attributes\":{\"formatter\":{\"id\":\"5952cf1c-48ef-460c-92f9-1d2228fe68cf\",\"type\":\"BasicTickFormatter\"},\"plot\":{\"id\":\"5c5deda7-319a-43de-915c-408f489190a2\",\"subtype\":\"Figure\",\"type\":\"Plot\"},\"ticker\":{\"id\":\"d593db3f-5d43-4686-a3be-faa53d4a5ee7\",\"type\":\"BasicTicker\"}},\"id\":\"49eefc55-6163-4d77-acf5-cbb2bbad4f8a\",\"type\":\"LinearAxis\"}],\"root_ids\":[\"5c5deda7-319a-43de-915c-408f489190a2\"]},\"title\":\"Bokeh Application\",\"version\":\"0.12.0\"}};\n",
       "            var render_items = [{\"docid\":\"b836fc42-f393-4f3a-8b07-20f343a9bc14\",\"elementid\":\"1630f41e-7a01-4e1c-a36d-a56549873f0f\",\"modelid\":\"5c5deda7-319a-43de-915c-408f489190a2\",\"notebook_comms_target\":\"88b2aab8-53d4-4019-b759-9c93d69c82be\"}];\n",
       "            \n",
       "            Bokeh.embed.embed_items(docs_json, render_items);\n",
       "        });\n",
       "      },\n",
       "      function(Bokeh) {\n",
       "      }\n",
       "    ];\n",
       "  \n",
       "    function run_inline_js() {\n",
       "      for (var i = 0; i < inline_js.length; i++) {\n",
       "        inline_js[i](window.Bokeh);\n",
       "      }\n",
       "    }\n",
       "  \n",
       "    if (window._bokeh_is_loading === 0) {\n",
       "      console.log(\"Bokeh: BokehJS loaded, going straight to plotting\");\n",
       "      run_inline_js();\n",
       "    } else {\n",
       "      load_libs(js_urls, function() {\n",
       "        console.log(\"Bokeh: BokehJS plotting callback run at\", now());\n",
       "        run_inline_js();\n",
       "      });\n",
       "    }\n",
       "  }(this));\n",
       "</script>"
      ]
     },
     "metadata": {},
     "output_type": "display_data"
    },
    {
     "data": {
      "text/html": [
       "<p><code>&lt;Bokeh Notebook handle for <strong>In[9]</strong>&gt;</code></p>"
      ],
      "text/plain": [
       "<bokeh.io._CommsHandle at 0x7f667c15ae10>"
      ]
     },
     "execution_count": 9,
     "metadata": {},
     "output_type": "execute_result"
    }
   ],
   "source": [
    "plt_obj = dm.superset_allele_mask(am_170, min_match=0.9)\n",
    "plt = plt_obj.do_plot()\n",
    "show(plt)"
   ]
  },
  {
   "cell_type": "code",
   "execution_count": 10,
   "metadata": {
    "collapsed": false
   },
   "outputs": [
    {
     "data": {
      "text/html": [
       "<table>\n",
       "<thead><tr><th style=\"text-align:center\">index</th><th style=\"text-align:center\">first</th><th style=\"text-align:center\">length</th><th style=\"text-align:center\">snps</th><th style=\"text-align:center\" colspan=2>alleles</th><th style=\"text-align:center\" colspan=2>matches</th><th style=\"text-align:center\" colspan=2>afr</th><th style=\"text-align:center\" colspan=2>afx</th><th style=\"text-align:center\" colspan=2>amr</th><th style=\"text-align:center\" colspan=2>eas</th><th style=\"text-align:center\" colspan=2>eur</th><th style=\"text-align:center\" colspan=2>sas</th><th style=\"text-align:center\" colspan=2>sax</th></tr></thead>\n",
       "<tr class=\"even\"><td style=\"text-align: right;\">353244</td><td style=\"text-align: right;\">135,758,231</td><td style=\"text-align: right;\">618,284</td><td style=\"text-align: right;\">117</td><td style=\"text-align: right;\">1685</td><td style=\"text-align: right;\">0.02</td><td style=\"text-align: right;\">41</td><td style=\"text-align: right;\">1.00</td><td style=\"text-align: right;\">1</td><td style=\"text-align: right;\">0.12</td><td style=\"text-align: right;\">0</td><td style=\"text-align: right;\">0.00</td><td style=\"text-align: right;\">13</td><td style=\"text-align: right;\">2.29</td><td style=\"text-align: right;\">0</td><td style=\"text-align: right;\">0.00</td><td style=\"text-align: right;\">24</td><td style=\"text-align: right;\">2.91</td><td style=\"text-align: right;\">0</td><td style=\"text-align: right;\">0.00</td><td style=\"text-align: right;\">3</td><td style=\"text-align: right;\">0.60</td></tr>\n",
       "<tr><td style=\"text-align: right;\">353791</td><td style=\"text-align: right;\">136,393,658</td><td style=\"text-align: right;\">92,684</td><td style=\"text-align: right;\">32</td><td style=\"text-align: right;\">1361</td><td style=\"text-align: right;\">0.03</td><td style=\"text-align: right;\">41</td><td style=\"text-align: right;\">1.00</td><td style=\"text-align: right;\">1</td><td style=\"text-align: right;\">0.12</td><td style=\"text-align: right;\">0</td><td style=\"text-align: right;\">0.00</td><td style=\"text-align: right;\">13</td><td style=\"text-align: right;\">2.29</td><td style=\"text-align: right;\">0</td><td style=\"text-align: right;\">0.00</td><td style=\"text-align: right;\">24</td><td style=\"text-align: right;\">2.91</td><td style=\"text-align: right;\">0</td><td style=\"text-align: right;\">0.00</td><td style=\"text-align: right;\">3</td><td style=\"text-align: right;\">0.60</td></tr>\n",
       "<tr class=\"even\"><td style=\"text-align: right;\">353269</td><td style=\"text-align: right;\">135,766,890</td><td style=\"text-align: right;\">509,095</td><td style=\"text-align: right;\">62</td><td style=\"text-align: right;\">1265</td><td style=\"text-align: right;\">0.03</td><td style=\"text-align: right;\">41</td><td style=\"text-align: right;\">1.00</td><td style=\"text-align: right;\">1</td><td style=\"text-align: right;\">0.12</td><td style=\"text-align: right;\">0</td><td style=\"text-align: right;\">0.00</td><td style=\"text-align: right;\">13</td><td style=\"text-align: right;\">2.29</td><td style=\"text-align: right;\">0</td><td style=\"text-align: right;\">0.00</td><td style=\"text-align: right;\">24</td><td style=\"text-align: right;\">2.91</td><td style=\"text-align: right;\">0</td><td style=\"text-align: right;\">0.00</td><td style=\"text-align: right;\">3</td><td style=\"text-align: right;\">0.60</td></tr>\n",
       "<tr><td style=\"text-align: right;\">353504</td><td style=\"text-align: right;\">135,964,764</td><td style=\"text-align: right;\">136,368</td><td style=\"text-align: right;\">6</td><td style=\"text-align: right;\">946</td><td style=\"text-align: right;\">0.04</td><td style=\"text-align: right;\">41</td><td style=\"text-align: right;\">1.00</td><td style=\"text-align: right;\">1</td><td style=\"text-align: right;\">0.12</td><td style=\"text-align: right;\">0</td><td style=\"text-align: right;\">0.00</td><td style=\"text-align: right;\">13</td><td style=\"text-align: right;\">2.29</td><td style=\"text-align: right;\">0</td><td style=\"text-align: right;\">0.00</td><td style=\"text-align: right;\">24</td><td style=\"text-align: right;\">2.91</td><td style=\"text-align: right;\">0</td><td style=\"text-align: right;\">0.00</td><td style=\"text-align: right;\">3</td><td style=\"text-align: right;\">0.60</td></tr>\n",
       "<tr class=\"even\"><td style=\"text-align: right;\">353384</td><td style=\"text-align: right;\">135,839,805</td><td style=\"text-align: right;\">84,662</td><td style=\"text-align: right;\">4</td><td style=\"text-align: right;\">815</td><td style=\"text-align: right;\">0.05</td><td style=\"text-align: right;\">41</td><td style=\"text-align: right;\">1.00</td><td style=\"text-align: right;\">1</td><td style=\"text-align: right;\">0.12</td><td style=\"text-align: right;\">0</td><td style=\"text-align: right;\">0.00</td><td style=\"text-align: right;\">13</td><td style=\"text-align: right;\">2.29</td><td style=\"text-align: right;\">0</td><td style=\"text-align: right;\">0.00</td><td style=\"text-align: right;\">24</td><td style=\"text-align: right;\">2.91</td><td style=\"text-align: right;\">0</td><td style=\"text-align: right;\">0.00</td><td style=\"text-align: right;\">3</td><td style=\"text-align: right;\">0.60</td></tr>\n",
       "<tr><td style=\"text-align: right;\">353521</td><td style=\"text-align: right;\">135,989,333</td><td style=\"text-align: right;\">275,298</td><td style=\"text-align: right;\">6</td><td style=\"text-align: right;\">713</td><td style=\"text-align: right;\">0.06</td><td style=\"text-align: right;\">41</td><td style=\"text-align: right;\">1.00</td><td style=\"text-align: right;\">1</td><td style=\"text-align: right;\">0.12</td><td style=\"text-align: right;\">0</td><td style=\"text-align: right;\">0.00</td><td style=\"text-align: right;\">13</td><td style=\"text-align: right;\">2.29</td><td style=\"text-align: right;\">0</td><td style=\"text-align: right;\">0.00</td><td style=\"text-align: right;\">24</td><td style=\"text-align: right;\">2.91</td><td style=\"text-align: right;\">0</td><td style=\"text-align: right;\">0.00</td><td style=\"text-align: right;\">3</td><td style=\"text-align: right;\">0.60</td></tr>\n",
       "<tr class=\"even\"><td style=\"text-align: right;\">353358</td><td style=\"text-align: right;\">135,818,487</td><td style=\"text-align: right;\">471,078</td><td style=\"text-align: right;\">8</td><td style=\"text-align: right;\">267</td><td style=\"text-align: right;\">0.15</td><td style=\"text-align: right;\">41</td><td style=\"text-align: right;\">1.00</td><td style=\"text-align: right;\">1</td><td style=\"text-align: right;\">0.12</td><td style=\"text-align: right;\">0</td><td style=\"text-align: right;\">0.00</td><td style=\"text-align: right;\">13</td><td style=\"text-align: right;\">2.29</td><td style=\"text-align: right;\">0</td><td style=\"text-align: right;\">0.00</td><td style=\"text-align: right;\">24</td><td style=\"text-align: right;\">2.91</td><td style=\"text-align: right;\">0</td><td style=\"text-align: right;\">0.00</td><td style=\"text-align: right;\">3</td><td style=\"text-align: right;\">0.60</td></tr>\n",
       "<tr><td style=\"text-align: right;\">353559</td><td style=\"text-align: right;\">136,028,572</td><td style=\"text-align: right;\">409,893</td><td style=\"text-align: right;\">9</td><td style=\"text-align: right;\">39</td><td style=\"text-align: right;\">0.97</td><td style=\"text-align: right;\">38</td><td style=\"text-align: right;\">0.93</td><td style=\"text-align: right;\">1</td><td style=\"text-align: right;\">0.13</td><td style=\"text-align: right;\">0</td><td style=\"text-align: right;\">0.00</td><td style=\"text-align: right;\">13</td><td style=\"text-align: right;\">2.47</td><td style=\"text-align: right;\">0</td><td style=\"text-align: right;\">0.00</td><td style=\"text-align: right;\">21</td><td style=\"text-align: right;\">2.75</td><td style=\"text-align: right;\">0</td><td style=\"text-align: right;\">0.00</td><td style=\"text-align: right;\">3</td><td style=\"text-align: right;\">0.64</td></tr>\n",
       "</table>"
      ],
      "text/plain": [
       "<IPython.core.display.HTML object>"
      ]
     },
     "execution_count": 10,
     "metadata": {},
     "output_type": "execute_result"
    }
   ],
   "source": [
    "HTML(plt_obj.get_html())"
   ]
  },
  {
   "cell_type": "code",
   "execution_count": 11,
   "metadata": {
    "collapsed": true
   },
   "outputs": [],
   "source": [
    "am_4_815 = dm.allele_mask_from_index(dm.di_4_815)\n",
    "am_4_815_5_684 = dm.yes_allele_mask_and_indexes(am_4_815, [dm.di_5_684])"
   ]
  },
  {
   "cell_type": "code",
   "execution_count": 12,
   "metadata": {
    "collapsed": false
   },
   "outputs": [
    {
     "data": {
      "text/html": [
       "\n",
       "\n",
       "    <div class=\"bk-root\">\n",
       "        <div class=\"plotdiv\" id=\"8adbbf5b-462a-4175-adaa-ba259c7fe2a6\"></div>\n",
       "    </div>\n",
       "<script type=\"text/javascript\">\n",
       "  \n",
       "  (function(global) {\n",
       "    function now() {\n",
       "      return new Date();\n",
       "    }\n",
       "  \n",
       "    if (typeof (window._bokeh_onload_callbacks) === \"undefined\") {\n",
       "      window._bokeh_onload_callbacks = [];\n",
       "    }\n",
       "  \n",
       "    function run_callbacks() {\n",
       "      window._bokeh_onload_callbacks.forEach(function(callback) { callback() });\n",
       "      delete window._bokeh_onload_callbacks\n",
       "      console.info(\"Bokeh: all callbacks have finished\");\n",
       "    }\n",
       "  \n",
       "    function load_libs(js_urls, callback) {\n",
       "      window._bokeh_onload_callbacks.push(callback);\n",
       "      if (window._bokeh_is_loading > 0) {\n",
       "        console.log(\"Bokeh: BokehJS is being loaded, scheduling callback at\", now());\n",
       "        return null;\n",
       "      }\n",
       "      if (js_urls == null || js_urls.length === 0) {\n",
       "        run_callbacks();\n",
       "        return null;\n",
       "      }\n",
       "      console.log(\"Bokeh: BokehJS not loaded, scheduling load and callback at\", now());\n",
       "      window._bokeh_is_loading = js_urls.length;\n",
       "      for (var i = 0; i < js_urls.length; i++) {\n",
       "        var url = js_urls[i];\n",
       "        var s = document.createElement('script');\n",
       "        s.src = url;\n",
       "        s.async = false;\n",
       "        s.onreadystatechange = s.onload = function() {\n",
       "          window._bokeh_is_loading--;\n",
       "          if (window._bokeh_is_loading === 0) {\n",
       "            console.log(\"Bokeh: all BokehJS libraries loaded\");\n",
       "            run_callbacks()\n",
       "          }\n",
       "        };\n",
       "        s.onerror = function() {\n",
       "          console.warn(\"failed to load library \" + url);\n",
       "        };\n",
       "        console.log(\"Bokeh: injecting script tag for BokehJS library: \", url);\n",
       "        document.getElementsByTagName(\"head\")[0].appendChild(s);\n",
       "      }\n",
       "    };var element = document.getElementById(\"8adbbf5b-462a-4175-adaa-ba259c7fe2a6\");\n",
       "    if (element == null) {\n",
       "      console.log(\"Bokeh: ERROR: autoload.js configured with elementid '8adbbf5b-462a-4175-adaa-ba259c7fe2a6' but no matching script tag was found. \")\n",
       "      return false;\n",
       "    }\n",
       "  \n",
       "    var js_urls = [];\n",
       "  \n",
       "    var inline_js = [\n",
       "      function(Bokeh) {\n",
       "        Bokeh.$(function() {\n",
       "            var docs_json = {\"efc82021-f539-414e-97a6-c7d11721f5aa\":{\"roots\":{\"references\":[{\"attributes\":{\"below\":[{\"id\":\"2c303270-a972-4276-bb1f-ae28a84084f2\",\"type\":\"LinearAxis\"}],\"left\":[{\"id\":\"e721a850-9974-42ae-b77c-452c9ee9bf82\",\"type\":\"LinearAxis\"}],\"plot_height\":400,\"plot_width\":900,\"renderers\":[{\"id\":\"2c303270-a972-4276-bb1f-ae28a84084f2\",\"type\":\"LinearAxis\"},{\"id\":\"ad18078c-7b91-448c-aa31-a21cd3388b42\",\"type\":\"Grid\"},{\"id\":\"e721a850-9974-42ae-b77c-452c9ee9bf82\",\"type\":\"LinearAxis\"},{\"id\":\"19af461f-e7fb-47ef-b03f-3705b08af6cc\",\"type\":\"Grid\"},{\"id\":\"eab787f3-cc5d-4825-8a25-6932f948de79\",\"type\":\"BoxAnnotation\"},{\"id\":\"1642fd3f-d256-42cc-a748-e3c351971eae\",\"type\":\"GlyphRenderer\"}],\"title\":{\"id\":\"5deaa513-564a-459e-97d0-c30552d99a1a\",\"type\":\"Title\"},\"tool_events\":{\"id\":\"309b6e3f-c97d-4534-bc09-753e2df02316\",\"type\":\"ToolEvents\"},\"toolbar\":{\"id\":\"89edcfb9-8f30-4ac6-abe6-3f24c3a6e2ae\",\"type\":\"Toolbar\"},\"toolbar_location\":null,\"x_range\":{\"id\":\"b6a8e315-bbce-4d9e-8139-e9ba3eb25a0a\",\"type\":\"Range1d\"},\"y_range\":{\"id\":\"31684d35-18f5-47da-aa91-11b5a8e6b2a4\",\"type\":\"Range1d\"}},\"id\":\"05345397-1565-43e3-91f0-7396ab51f0d6\",\"subtype\":\"Figure\",\"type\":\"Plot\"},{\"attributes\":{\"line_color\":{\"value\":\"#1f77b4\"},\"x\":{\"field\":\"x\"},\"y\":{\"field\":\"y\"}},\"id\":\"0be7b0bc-db73-4f0e-a623-76aca84a2413\",\"type\":\"Line\"},{\"attributes\":{\"callback\":null,\"column_names\":[\"y\",\"x\"],\"data\":{\"x\":[-0.5,-0.5,91.5,91.5,92.5,92.5,93.5,93.5,94.5,94.5,95.5,95.5,96.5,96.5,97.5,97.5],\"y\":[0.0,0.0,0.0,1.0,1.0,0.0,0.0,1.0,1.0,2.0,2.0,82.0,82.0,4.0,4.0,0.0]}},\"id\":\"9e3c8240-1ffe-4648-a956-fa563fa347ca\",\"type\":\"ColumnDataSource\"},{\"attributes\":{\"data_source\":{\"id\":\"9e3c8240-1ffe-4648-a956-fa563fa347ca\",\"type\":\"ColumnDataSource\"},\"glyph\":{\"id\":\"0be7b0bc-db73-4f0e-a623-76aca84a2413\",\"type\":\"Line\"},\"hover_glyph\":null,\"nonselection_glyph\":{\"id\":\"de314e12-7ccc-45aa-8409-81250b88db02\",\"type\":\"Line\"},\"selection_glyph\":null},\"id\":\"1642fd3f-d256-42cc-a748-e3c351971eae\",\"type\":\"GlyphRenderer\"},{\"attributes\":{\"overlay\":{\"id\":\"eab787f3-cc5d-4825-8a25-6932f948de79\",\"type\":\"BoxAnnotation\"},\"plot\":{\"id\":\"05345397-1565-43e3-91f0-7396ab51f0d6\",\"subtype\":\"Figure\",\"type\":\"Plot\"}},\"id\":\"4ffe5806-48b8-4d97-9b8a-6db301de39a4\",\"type\":\"BoxZoomTool\"},{\"attributes\":{\"formatter\":{\"id\":\"354dc9c7-51e7-4dec-9b18-3161b14f6916\",\"type\":\"BasicTickFormatter\"},\"plot\":{\"id\":\"05345397-1565-43e3-91f0-7396ab51f0d6\",\"subtype\":\"Figure\",\"type\":\"Plot\"},\"ticker\":{\"id\":\"7e0396a9-6d73-4cb9-8a94-8d2b38f65caf\",\"type\":\"BasicTicker\"}},\"id\":\"e721a850-9974-42ae-b77c-452c9ee9bf82\",\"type\":\"LinearAxis\"},{\"attributes\":{\"callback\":null,\"end\":90.2},\"id\":\"31684d35-18f5-47da-aa91-11b5a8e6b2a4\",\"type\":\"Range1d\"},{\"attributes\":{\"plot\":{\"id\":\"05345397-1565-43e3-91f0-7396ab51f0d6\",\"subtype\":\"Figure\",\"type\":\"Plot\"},\"ticker\":{\"id\":\"960fefcf-a435-4c2e-b167-21a8f1ba54c6\",\"type\":\"BasicTicker\"}},\"id\":\"ad18078c-7b91-448c-aa31-a21cd3388b42\",\"type\":\"Grid\"},{\"attributes\":{\"plot\":{\"id\":\"05345397-1565-43e3-91f0-7396ab51f0d6\",\"subtype\":\"Figure\",\"type\":\"Plot\"}},\"id\":\"a052ec92-345e-46b4-a3d4-7c802a23c718\",\"type\":\"HelpTool\"},{\"attributes\":{\"plot\":{\"id\":\"05345397-1565-43e3-91f0-7396ab51f0d6\",\"subtype\":\"Figure\",\"type\":\"Plot\"}},\"id\":\"66b89dcd-6431-4c1e-9e5a-3ddd3c694056\",\"type\":\"PanTool\"},{\"attributes\":{\"plot\":{\"id\":\"05345397-1565-43e3-91f0-7396ab51f0d6\",\"subtype\":\"Figure\",\"type\":\"Plot\"}},\"id\":\"d76dc073-33a0-4de0-901d-b29ae93ee3a9\",\"type\":\"SaveTool\"},{\"attributes\":{},\"id\":\"7e0396a9-6d73-4cb9-8a94-8d2b38f65caf\",\"type\":\"BasicTicker\"},{\"attributes\":{\"dimension\":1,\"plot\":{\"id\":\"05345397-1565-43e3-91f0-7396ab51f0d6\",\"subtype\":\"Figure\",\"type\":\"Plot\"},\"ticker\":{\"id\":\"7e0396a9-6d73-4cb9-8a94-8d2b38f65caf\",\"type\":\"BasicTicker\"}},\"id\":\"19af461f-e7fb-47ef-b03f-3705b08af6cc\",\"type\":\"Grid\"},{\"attributes\":{\"plot\":{\"id\":\"05345397-1565-43e3-91f0-7396ab51f0d6\",\"subtype\":\"Figure\",\"type\":\"Plot\"}},\"id\":\"b03f0c28-0c30-4345-9cf1-f03c8fba11dc\",\"type\":\"ResetTool\"},{\"attributes\":{\"plot\":null,\"text\":null},\"id\":\"5deaa513-564a-459e-97d0-c30552d99a1a\",\"type\":\"Title\"},{\"attributes\":{\"active_drag\":\"auto\",\"active_scroll\":\"auto\",\"active_tap\":\"auto\",\"tools\":[{\"id\":\"66b89dcd-6431-4c1e-9e5a-3ddd3c694056\",\"type\":\"PanTool\"},{\"id\":\"5a7770da-cbeb-40d6-adfe-347cdcfd93ae\",\"type\":\"WheelZoomTool\"},{\"id\":\"4ffe5806-48b8-4d97-9b8a-6db301de39a4\",\"type\":\"BoxZoomTool\"},{\"id\":\"d76dc073-33a0-4de0-901d-b29ae93ee3a9\",\"type\":\"SaveTool\"},{\"id\":\"b03f0c28-0c30-4345-9cf1-f03c8fba11dc\",\"type\":\"ResetTool\"},{\"id\":\"a052ec92-345e-46b4-a3d4-7c802a23c718\",\"type\":\"HelpTool\"}]},\"id\":\"89edcfb9-8f30-4ac6-abe6-3f24c3a6e2ae\",\"type\":\"Toolbar\"},{\"attributes\":{},\"id\":\"960fefcf-a435-4c2e-b167-21a8f1ba54c6\",\"type\":\"BasicTicker\"},{\"attributes\":{},\"id\":\"309b6e3f-c97d-4534-bc09-753e2df02316\",\"type\":\"ToolEvents\"},{\"attributes\":{},\"id\":\"354dc9c7-51e7-4dec-9b18-3161b14f6916\",\"type\":\"BasicTickFormatter\"},{\"attributes\":{\"bottom_units\":\"screen\",\"fill_alpha\":{\"value\":0.5},\"fill_color\":{\"value\":\"lightgrey\"},\"left_units\":\"screen\",\"level\":\"overlay\",\"line_alpha\":{\"value\":1.0},\"line_color\":{\"value\":\"black\"},\"line_dash\":[4,4],\"line_width\":{\"value\":2},\"plot\":null,\"render_mode\":\"css\",\"right_units\":\"screen\",\"top_units\":\"screen\"},\"id\":\"eab787f3-cc5d-4825-8a25-6932f948de79\",\"type\":\"BoxAnnotation\"},{\"attributes\":{\"plot\":{\"id\":\"05345397-1565-43e3-91f0-7396ab51f0d6\",\"subtype\":\"Figure\",\"type\":\"Plot\"}},\"id\":\"5a7770da-cbeb-40d6-adfe-347cdcfd93ae\",\"type\":\"WheelZoomTool\"},{\"attributes\":{\"line_alpha\":{\"value\":0.1},\"line_color\":{\"value\":\"#1f77b4\"},\"x\":{\"field\":\"x\"},\"y\":{\"field\":\"y\"}},\"id\":\"de314e12-7ccc-45aa-8409-81250b88db02\",\"type\":\"Line\"},{\"attributes\":{\"formatter\":{\"id\":\"547faacc-778d-48dd-bfe5-454ed05e31b6\",\"type\":\"BasicTickFormatter\"},\"plot\":{\"id\":\"05345397-1565-43e3-91f0-7396ab51f0d6\",\"subtype\":\"Figure\",\"type\":\"Plot\"},\"ticker\":{\"id\":\"960fefcf-a435-4c2e-b167-21a8f1ba54c6\",\"type\":\"BasicTicker\"}},\"id\":\"2c303270-a972-4276-bb1f-ae28a84084f2\",\"type\":\"LinearAxis\"},{\"attributes\":{\"callback\":null,\"end\":98.5,\"start\":-0.5},\"id\":\"b6a8e315-bbce-4d9e-8139-e9ba3eb25a0a\",\"type\":\"Range1d\"},{\"attributes\":{},\"id\":\"547faacc-778d-48dd-bfe5-454ed05e31b6\",\"type\":\"BasicTickFormatter\"}],\"root_ids\":[\"05345397-1565-43e3-91f0-7396ab51f0d6\"]},\"title\":\"Bokeh Application\",\"version\":\"0.12.0\"}};\n",
       "            var render_items = [{\"docid\":\"efc82021-f539-414e-97a6-c7d11721f5aa\",\"elementid\":\"8adbbf5b-462a-4175-adaa-ba259c7fe2a6\",\"modelid\":\"05345397-1565-43e3-91f0-7396ab51f0d6\",\"notebook_comms_target\":\"d6792858-307e-4009-bcd0-2027b66efdff\"}];\n",
       "            \n",
       "            Bokeh.embed.embed_items(docs_json, render_items);\n",
       "        });\n",
       "      },\n",
       "      function(Bokeh) {\n",
       "      }\n",
       "    ];\n",
       "  \n",
       "    function run_inline_js() {\n",
       "      for (var i = 0; i < inline_js.length; i++) {\n",
       "        inline_js[i](window.Bokeh);\n",
       "      }\n",
       "    }\n",
       "  \n",
       "    if (window._bokeh_is_loading === 0) {\n",
       "      console.log(\"Bokeh: BokehJS loaded, going straight to plotting\");\n",
       "      run_inline_js();\n",
       "    } else {\n",
       "      load_libs(js_urls, function() {\n",
       "        console.log(\"Bokeh: BokehJS plotting callback run at\", now());\n",
       "        run_inline_js();\n",
       "      });\n",
       "    }\n",
       "  }(this));\n",
       "</script>"
      ]
     },
     "metadata": {},
     "output_type": "display_data"
    },
    {
     "data": {
      "text/html": [
       "<p><code>&lt;Bokeh Notebook handle for <strong>In[12]</strong>&gt;</code></p>"
      ],
      "text/plain": [
       "<bokeh.io._CommsHandle at 0x7f664c8e2f10>"
      ]
     },
     "execution_count": 12,
     "metadata": {},
     "output_type": "execute_result"
    }
   ],
   "source": [
    "count_data = sa_117_1685.unique_snps_per_allele(am_4_815_5_684)\n",
    "plt_obj = smcp(count_data)\n",
    "plt = plt_obj.do_plot()\n",
    "show(plt)"
   ]
  },
  {
   "cell_type": "code",
   "execution_count": 13,
   "metadata": {
    "collapsed": false
   },
   "outputs": [
    {
     "data": {
      "text/plain": [
       "array([(92, 1), (94, 1), (95, 2), (96, 82), (97, 4)], \n",
       "      dtype=[('count', '<u2'), ('snps', '<u2')])"
      ]
     },
     "execution_count": 13,
     "metadata": {},
     "output_type": "execute_result"
    }
   ],
   "source": [
    "count_data"
   ]
  },
  {
   "cell_type": "code",
   "execution_count": 14,
   "metadata": {
    "collapsed": false
   },
   "outputs": [
    {
     "data": {
      "text/plain": [
       "array([(0, 82), (1, 82), (2, 82), (3, 82), (4, 82), (5, 82), (6, 82),\n",
       "       (7, 82), (8, 82), (9, 82), (10, 82), (11, 82), (12, 82), (13, 82),\n",
       "       (14, 82), (15, 82), (16, 82), (17, 82), (18, 82), (19, 82),\n",
       "       (20, 82), (21, 82), (22, 82), (23, 82), (24, 82), (25, 82),\n",
       "       (26, 82), (27, 82), (28, 82), (29, 82), (30, 82), (31, 82),\n",
       "       (32, 82), (33, 82), (34, 82), (35, 82), (36, 82), (37, 82),\n",
       "       (38, 82), (39, 82), (40, 82), (41, 82), (42, 82), (43, 82),\n",
       "       (44, 82), (45, 82), (46, 82), (47, 82), (48, 82), (49, 82),\n",
       "       (50, 82), (51, 82), (52, 82), (53, 82), (54, 82), (55, 82),\n",
       "       (56, 82), (57, 82), (58, 82), (59, 82), (60, 82), (61, 82),\n",
       "       (62, 82), (63, 82), (64, 82), (65, 82), (66, 82), (67, 82),\n",
       "       (68, 82), (69, 82), (70, 82), (71, 82), (72, 82), (73, 82),\n",
       "       (74, 82), (75, 82), (76, 82), (77, 82), (78, 82), (79, 82),\n",
       "       (80, 82), (81, 82), (82, 82), (83, 82), (84, 82), (85, 82),\n",
       "       (86, 82), (87, 82), (88, 82), (89, 82), (90, 82), (91, 82),\n",
       "       (92, 82), (93, 82), (94, 82), (95, 82), (96, 0), (97, 0), (98, 0),\n",
       "       (99, 0), (100, 0), (101, 0), (102, 0), (103, 0), (104, 0), (105, 0),\n",
       "       (106, 0), (107, 0), (108, 0), (109, 0), (110, 0), (111, 0),\n",
       "       (112, 0), (113, 0), (114, 0), (115, 0), (116, 0)], \n",
       "      dtype=[('index', '<u2'), ('snp_count', '<u2')])"
      ]
     },
     "execution_count": 14,
     "metadata": {},
     "output_type": "execute_result"
    }
   ],
   "source": [
    "tf = snp_anal.series_fragment_finder_cls(sa_117_1685, am_4_815_5_684)\n",
    "tf.max_snps_alleles_per_snp"
   ]
  },
  {
   "cell_type": "code",
   "execution_count": 15,
   "metadata": {
    "collapsed": false
   },
   "outputs": [
    {
     "data": {
      "text/html": [
       "\n",
       "\n",
       "    <div class=\"bk-root\">\n",
       "        <div class=\"plotdiv\" id=\"a44da33d-9261-404f-a114-b6ea844e5b9c\"></div>\n",
       "    </div>\n",
       "<script type=\"text/javascript\">\n",
       "  \n",
       "  (function(global) {\n",
       "    function now() {\n",
       "      return new Date();\n",
       "    }\n",
       "  \n",
       "    if (typeof (window._bokeh_onload_callbacks) === \"undefined\") {\n",
       "      window._bokeh_onload_callbacks = [];\n",
       "    }\n",
       "  \n",
       "    function run_callbacks() {\n",
       "      window._bokeh_onload_callbacks.forEach(function(callback) { callback() });\n",
       "      delete window._bokeh_onload_callbacks\n",
       "      console.info(\"Bokeh: all callbacks have finished\");\n",
       "    }\n",
       "  \n",
       "    function load_libs(js_urls, callback) {\n",
       "      window._bokeh_onload_callbacks.push(callback);\n",
       "      if (window._bokeh_is_loading > 0) {\n",
       "        console.log(\"Bokeh: BokehJS is being loaded, scheduling callback at\", now());\n",
       "        return null;\n",
       "      }\n",
       "      if (js_urls == null || js_urls.length === 0) {\n",
       "        run_callbacks();\n",
       "        return null;\n",
       "      }\n",
       "      console.log(\"Bokeh: BokehJS not loaded, scheduling load and callback at\", now());\n",
       "      window._bokeh_is_loading = js_urls.length;\n",
       "      for (var i = 0; i < js_urls.length; i++) {\n",
       "        var url = js_urls[i];\n",
       "        var s = document.createElement('script');\n",
       "        s.src = url;\n",
       "        s.async = false;\n",
       "        s.onreadystatechange = s.onload = function() {\n",
       "          window._bokeh_is_loading--;\n",
       "          if (window._bokeh_is_loading === 0) {\n",
       "            console.log(\"Bokeh: all BokehJS libraries loaded\");\n",
       "            run_callbacks()\n",
       "          }\n",
       "        };\n",
       "        s.onerror = function() {\n",
       "          console.warn(\"failed to load library \" + url);\n",
       "        };\n",
       "        console.log(\"Bokeh: injecting script tag for BokehJS library: \", url);\n",
       "        document.getElementsByTagName(\"head\")[0].appendChild(s);\n",
       "      }\n",
       "    };var element = document.getElementById(\"a44da33d-9261-404f-a114-b6ea844e5b9c\");\n",
       "    if (element == null) {\n",
       "      console.log(\"Bokeh: ERROR: autoload.js configured with elementid 'a44da33d-9261-404f-a114-b6ea844e5b9c' but no matching script tag was found. \")\n",
       "      return false;\n",
       "    }\n",
       "  \n",
       "    var js_urls = [];\n",
       "  \n",
       "    var inline_js = [\n",
       "      function(Bokeh) {\n",
       "        Bokeh.$(function() {\n",
       "            var docs_json = {\"5bbd1759-b1a2-4239-95de-a84946c3cd9d\":{\"roots\":{\"references\":[{\"attributes\":{\"callback\":null,\"column_names\":[\"y\",\"x\"],\"data\":{\"x\":[-0.5,-0.5,0.5,0.5,1.5,1.5,2.5,2.5,3.5,3.5],\"y\":[0.0,1.0,1.0,0.0,0.0,87.0,87.0,2.0,2.0,0.0]}},\"id\":\"6d614860-9ab8-4cbd-8ea9-978cf4c319fd\",\"type\":\"ColumnDataSource\"},{\"attributes\":{\"plot\":{\"id\":\"8ccd526a-8ebf-4ca2-b1d0-79ec94ddadf8\",\"subtype\":\"Figure\",\"type\":\"Plot\"}},\"id\":\"67ac4c23-b278-4839-8205-bc81501dc222\",\"type\":\"SaveTool\"},{\"attributes\":{\"plot\":{\"id\":\"8ccd526a-8ebf-4ca2-b1d0-79ec94ddadf8\",\"subtype\":\"Figure\",\"type\":\"Plot\"}},\"id\":\"cd24cb83-571d-471e-a757-d98b0a9feed0\",\"type\":\"PanTool\"},{\"attributes\":{\"plot\":{\"id\":\"8ccd526a-8ebf-4ca2-b1d0-79ec94ddadf8\",\"subtype\":\"Figure\",\"type\":\"Plot\"},\"ticker\":{\"id\":\"8ccd4b8b-ed80-48e1-ba3e-43bf18617fb2\",\"type\":\"BasicTicker\"}},\"id\":\"d3410f13-6f1b-4a71-8c90-859b9e825ca5\",\"type\":\"Grid\"},{\"attributes\":{\"plot\":{\"id\":\"8ccd526a-8ebf-4ca2-b1d0-79ec94ddadf8\",\"subtype\":\"Figure\",\"type\":\"Plot\"}},\"id\":\"3cbf9c0f-b888-435e-a179-faa36222dbc4\",\"type\":\"HelpTool\"},{\"attributes\":{\"below\":[{\"id\":\"fa913ae6-0178-4710-a397-c64a19bdebde\",\"type\":\"LinearAxis\"}],\"left\":[{\"id\":\"ae2d992a-7459-4f6e-ad94-4563e32952b3\",\"type\":\"LinearAxis\"}],\"plot_height\":400,\"plot_width\":900,\"renderers\":[{\"id\":\"fa913ae6-0178-4710-a397-c64a19bdebde\",\"type\":\"LinearAxis\"},{\"id\":\"d3410f13-6f1b-4a71-8c90-859b9e825ca5\",\"type\":\"Grid\"},{\"id\":\"ae2d992a-7459-4f6e-ad94-4563e32952b3\",\"type\":\"LinearAxis\"},{\"id\":\"606d3c52-9415-4603-b9e8-5bf6ec1dd35b\",\"type\":\"Grid\"},{\"id\":\"fd13964b-9af6-4bcc-8787-b2b75842f4ae\",\"type\":\"BoxAnnotation\"},{\"id\":\"749eb4e6-1c39-4b93-af4c-6ad46c691bee\",\"type\":\"GlyphRenderer\"}],\"title\":{\"id\":\"65a52a90-f1c8-4bc6-b291-a2dee454f0a1\",\"type\":\"Title\"},\"tool_events\":{\"id\":\"8a313dbe-0a40-4b16-a009-d32315a83cfa\",\"type\":\"ToolEvents\"},\"toolbar\":{\"id\":\"d3afc241-2336-4ceb-a65e-660e53399795\",\"type\":\"Toolbar\"},\"toolbar_location\":null,\"x_range\":{\"id\":\"fa628f72-bcfe-4c3d-aa4a-5ff7b78366c2\",\"type\":\"Range1d\"},\"y_range\":{\"id\":\"7bc803b5-49fa-4d27-9848-62931bbed999\",\"type\":\"Range1d\"}},\"id\":\"8ccd526a-8ebf-4ca2-b1d0-79ec94ddadf8\",\"subtype\":\"Figure\",\"type\":\"Plot\"},{\"attributes\":{},\"id\":\"8ccd4b8b-ed80-48e1-ba3e-43bf18617fb2\",\"type\":\"BasicTicker\"},{\"attributes\":{\"dimension\":1,\"plot\":{\"id\":\"8ccd526a-8ebf-4ca2-b1d0-79ec94ddadf8\",\"subtype\":\"Figure\",\"type\":\"Plot\"},\"ticker\":{\"id\":\"6cffe51f-afd9-4d34-9b66-950fbde689b1\",\"type\":\"BasicTicker\"}},\"id\":\"606d3c52-9415-4603-b9e8-5bf6ec1dd35b\",\"type\":\"Grid\"},{\"attributes\":{\"bottom_units\":\"screen\",\"fill_alpha\":{\"value\":0.5},\"fill_color\":{\"value\":\"lightgrey\"},\"left_units\":\"screen\",\"level\":\"overlay\",\"line_alpha\":{\"value\":1.0},\"line_color\":{\"value\":\"black\"},\"line_dash\":[4,4],\"line_width\":{\"value\":2},\"plot\":null,\"render_mode\":\"css\",\"right_units\":\"screen\",\"top_units\":\"screen\"},\"id\":\"fd13964b-9af6-4bcc-8787-b2b75842f4ae\",\"type\":\"BoxAnnotation\"},{\"attributes\":{},\"id\":\"6cffe51f-afd9-4d34-9b66-950fbde689b1\",\"type\":\"BasicTicker\"},{\"attributes\":{\"line_color\":{\"value\":\"#1f77b4\"},\"x\":{\"field\":\"x\"},\"y\":{\"field\":\"y\"}},\"id\":\"1fc4c5ae-9abf-459f-9d0f-89de7c12e5b1\",\"type\":\"Line\"},{\"attributes\":{\"data_source\":{\"id\":\"6d614860-9ab8-4cbd-8ea9-978cf4c319fd\",\"type\":\"ColumnDataSource\"},\"glyph\":{\"id\":\"1fc4c5ae-9abf-459f-9d0f-89de7c12e5b1\",\"type\":\"Line\"},\"hover_glyph\":null,\"nonselection_glyph\":{\"id\":\"c8c4f3bf-1e79-4905-ae72-725a386e2f16\",\"type\":\"Line\"},\"selection_glyph\":null},\"id\":\"749eb4e6-1c39-4b93-af4c-6ad46c691bee\",\"type\":\"GlyphRenderer\"},{\"attributes\":{\"callback\":null,\"end\":4.5,\"start\":-0.5},\"id\":\"fa628f72-bcfe-4c3d-aa4a-5ff7b78366c2\",\"type\":\"Range1d\"},{\"attributes\":{\"plot\":null,\"text\":null},\"id\":\"65a52a90-f1c8-4bc6-b291-a2dee454f0a1\",\"type\":\"Title\"},{\"attributes\":{},\"id\":\"8a313dbe-0a40-4b16-a009-d32315a83cfa\",\"type\":\"ToolEvents\"},{\"attributes\":{\"formatter\":{\"id\":\"29128813-4c93-4713-b1bc-33befac39c57\",\"type\":\"BasicTickFormatter\"},\"plot\":{\"id\":\"8ccd526a-8ebf-4ca2-b1d0-79ec94ddadf8\",\"subtype\":\"Figure\",\"type\":\"Plot\"},\"ticker\":{\"id\":\"6cffe51f-afd9-4d34-9b66-950fbde689b1\",\"type\":\"BasicTicker\"}},\"id\":\"ae2d992a-7459-4f6e-ad94-4563e32952b3\",\"type\":\"LinearAxis\"},{\"attributes\":{\"callback\":null,\"end\":95.7},\"id\":\"7bc803b5-49fa-4d27-9848-62931bbed999\",\"type\":\"Range1d\"},{\"attributes\":{},\"id\":\"01db9bf7-6830-43c7-8d6b-3e18e309bb89\",\"type\":\"BasicTickFormatter\"},{\"attributes\":{\"active_drag\":\"auto\",\"active_scroll\":\"auto\",\"active_tap\":\"auto\",\"tools\":[{\"id\":\"cd24cb83-571d-471e-a757-d98b0a9feed0\",\"type\":\"PanTool\"},{\"id\":\"ab853a3a-60d8-41cf-93d9-8a9bbe4d505b\",\"type\":\"WheelZoomTool\"},{\"id\":\"9d1d9569-5fb5-45fe-9dfc-8c7a99b6d953\",\"type\":\"BoxZoomTool\"},{\"id\":\"67ac4c23-b278-4839-8205-bc81501dc222\",\"type\":\"SaveTool\"},{\"id\":\"816b176a-ae26-4333-b7f7-511f75b1e265\",\"type\":\"ResetTool\"},{\"id\":\"3cbf9c0f-b888-435e-a179-faa36222dbc4\",\"type\":\"HelpTool\"}]},\"id\":\"d3afc241-2336-4ceb-a65e-660e53399795\",\"type\":\"Toolbar\"},{\"attributes\":{},\"id\":\"29128813-4c93-4713-b1bc-33befac39c57\",\"type\":\"BasicTickFormatter\"},{\"attributes\":{\"plot\":{\"id\":\"8ccd526a-8ebf-4ca2-b1d0-79ec94ddadf8\",\"subtype\":\"Figure\",\"type\":\"Plot\"}},\"id\":\"ab853a3a-60d8-41cf-93d9-8a9bbe4d505b\",\"type\":\"WheelZoomTool\"},{\"attributes\":{\"formatter\":{\"id\":\"01db9bf7-6830-43c7-8d6b-3e18e309bb89\",\"type\":\"BasicTickFormatter\"},\"plot\":{\"id\":\"8ccd526a-8ebf-4ca2-b1d0-79ec94ddadf8\",\"subtype\":\"Figure\",\"type\":\"Plot\"},\"ticker\":{\"id\":\"8ccd4b8b-ed80-48e1-ba3e-43bf18617fb2\",\"type\":\"BasicTicker\"}},\"id\":\"fa913ae6-0178-4710-a397-c64a19bdebde\",\"type\":\"LinearAxis\"},{\"attributes\":{\"plot\":{\"id\":\"8ccd526a-8ebf-4ca2-b1d0-79ec94ddadf8\",\"subtype\":\"Figure\",\"type\":\"Plot\"}},\"id\":\"816b176a-ae26-4333-b7f7-511f75b1e265\",\"type\":\"ResetTool\"},{\"attributes\":{\"line_alpha\":{\"value\":0.1},\"line_color\":{\"value\":\"#1f77b4\"},\"x\":{\"field\":\"x\"},\"y\":{\"field\":\"y\"}},\"id\":\"c8c4f3bf-1e79-4905-ae72-725a386e2f16\",\"type\":\"Line\"},{\"attributes\":{\"overlay\":{\"id\":\"fd13964b-9af6-4bcc-8787-b2b75842f4ae\",\"type\":\"BoxAnnotation\"},\"plot\":{\"id\":\"8ccd526a-8ebf-4ca2-b1d0-79ec94ddadf8\",\"subtype\":\"Figure\",\"type\":\"Plot\"}},\"id\":\"9d1d9569-5fb5-45fe-9dfc-8c7a99b6d953\",\"type\":\"BoxZoomTool\"}],\"root_ids\":[\"8ccd526a-8ebf-4ca2-b1d0-79ec94ddadf8\"]},\"title\":\"Bokeh Application\",\"version\":\"0.12.0\"}};\n",
       "            var render_items = [{\"docid\":\"5bbd1759-b1a2-4239-95de-a84946c3cd9d\",\"elementid\":\"a44da33d-9261-404f-a114-b6ea844e5b9c\",\"modelid\":\"8ccd526a-8ebf-4ca2-b1d0-79ec94ddadf8\",\"notebook_comms_target\":\"acb4b1e1-16b2-4591-a17a-4cdbc9e19ea4\"}];\n",
       "            \n",
       "            Bokeh.embed.embed_items(docs_json, render_items);\n",
       "        });\n",
       "      },\n",
       "      function(Bokeh) {\n",
       "      }\n",
       "    ];\n",
       "  \n",
       "    function run_inline_js() {\n",
       "      for (var i = 0; i < inline_js.length; i++) {\n",
       "        inline_js[i](window.Bokeh);\n",
       "      }\n",
       "    }\n",
       "  \n",
       "    if (window._bokeh_is_loading === 0) {\n",
       "      console.log(\"Bokeh: BokehJS loaded, going straight to plotting\");\n",
       "      run_inline_js();\n",
       "    } else {\n",
       "      load_libs(js_urls, function() {\n",
       "        console.log(\"Bokeh: BokehJS plotting callback run at\", now());\n",
       "        run_inline_js();\n",
       "      });\n",
       "    }\n",
       "  }(this));\n",
       "</script>"
      ]
     },
     "metadata": {},
     "output_type": "display_data"
    },
    {
     "data": {
      "text/html": [
       "<p><code>&lt;Bokeh Notebook handle for <strong>In[15]</strong>&gt;</code></p>"
      ],
      "text/plain": [
       "<bokeh.io._CommsHandle at 0x7f664c947c10>"
      ]
     },
     "execution_count": 15,
     "metadata": {},
     "output_type": "execute_result"
    }
   ],
   "source": [
    "count_data = sa_123_1561.unique_snps_per_allele(am_4_815_5_684)\n",
    "plt_obj = smcp(count_data)\n",
    "plt = plt_obj.do_plot()\n",
    "show(plt)"
   ]
  },
  {
   "cell_type": "code",
   "execution_count": 16,
   "metadata": {
    "collapsed": false
   },
   "outputs": [
    {
     "data": {
      "text/plain": [
       "array([(0, 1), (2, 87), (3, 2)], \n",
       "      dtype=[('count', '<u2'), ('snps', '<u2')])"
      ]
     },
     "execution_count": 16,
     "metadata": {},
     "output_type": "execute_result"
    }
   ],
   "source": [
    "count_data"
   ]
  },
  {
   "cell_type": "code",
   "execution_count": 17,
   "metadata": {
    "collapsed": false
   },
   "outputs": [
    {
     "data": {
      "text/plain": [
       "array([(0, 87), (1, 87), (2, 0), (3, 0), (4, 0), (5, 0), (6, 0), (7, 0),\n",
       "       (8, 0), (9, 0), (10, 0), (11, 0), (12, 0), (13, 0), (14, 0),\n",
       "       (15, 0), (16, 0), (17, 0), (18, 0), (19, 0), (20, 0), (21, 0),\n",
       "       (22, 0), (23, 0), (24, 0), (25, 0), (26, 0), (27, 0), (28, 0),\n",
       "       (29, 0), (30, 0), (31, 0), (32, 0), (33, 0), (34, 0), (35, 0),\n",
       "       (36, 0), (37, 0), (38, 0), (39, 0), (40, 0), (41, 0), (42, 0),\n",
       "       (43, 0), (44, 0), (45, 0), (46, 0), (47, 0), (48, 0), (49, 0),\n",
       "       (50, 0), (51, 0), (52, 0), (53, 0), (54, 0), (55, 0), (56, 0),\n",
       "       (57, 0), (58, 0), (59, 0), (60, 0), (61, 0), (62, 0), (63, 0),\n",
       "       (64, 0), (65, 0), (66, 0), (67, 0), (68, 0), (69, 0), (70, 0),\n",
       "       (71, 0), (72, 0), (73, 0), (74, 0), (75, 0), (76, 0), (77, 0),\n",
       "       (78, 0), (79, 0), (80, 0), (81, 0), (82, 0), (83, 0), (84, 0),\n",
       "       (85, 0), (86, 0), (87, 0), (88, 0), (89, 0), (90, 0), (91, 0),\n",
       "       (92, 0), (93, 0), (94, 0), (95, 0), (96, 0), (97, 0), (98, 0),\n",
       "       (99, 0), (100, 0), (101, 0), (102, 0), (103, 0), (104, 0), (105, 0),\n",
       "       (106, 0), (107, 0), (108, 0), (109, 0), (110, 0), (111, 0),\n",
       "       (112, 0), (113, 0), (114, 0), (115, 0), (116, 0), (117, 0),\n",
       "       (118, 0), (119, 0), (120, 0), (121, 0), (122, 0)], \n",
       "      dtype=[('index', '<u2'), ('snp_count', '<u2')])"
      ]
     },
     "execution_count": 17,
     "metadata": {},
     "output_type": "execute_result"
    }
   ],
   "source": [
    "tf = snp_anal.series_fragment_finder_cls(sa_123_1561, am_4_815_5_684)\n",
    "tf.max_snps_alleles_per_snp"
   ]
  },
  {
   "cell_type": "code",
   "execution_count": 18,
   "metadata": {
    "collapsed": false
   },
   "outputs": [
    {
     "data": {
      "text/html": [
       "\n",
       "\n",
       "    <div class=\"bk-root\">\n",
       "        <div class=\"plotdiv\" id=\"403f5485-7013-4fcf-b84e-2af2270be116\"></div>\n",
       "    </div>\n",
       "<script type=\"text/javascript\">\n",
       "  \n",
       "  (function(global) {\n",
       "    function now() {\n",
       "      return new Date();\n",
       "    }\n",
       "  \n",
       "    if (typeof (window._bokeh_onload_callbacks) === \"undefined\") {\n",
       "      window._bokeh_onload_callbacks = [];\n",
       "    }\n",
       "  \n",
       "    function run_callbacks() {\n",
       "      window._bokeh_onload_callbacks.forEach(function(callback) { callback() });\n",
       "      delete window._bokeh_onload_callbacks\n",
       "      console.info(\"Bokeh: all callbacks have finished\");\n",
       "    }\n",
       "  \n",
       "    function load_libs(js_urls, callback) {\n",
       "      window._bokeh_onload_callbacks.push(callback);\n",
       "      if (window._bokeh_is_loading > 0) {\n",
       "        console.log(\"Bokeh: BokehJS is being loaded, scheduling callback at\", now());\n",
       "        return null;\n",
       "      }\n",
       "      if (js_urls == null || js_urls.length === 0) {\n",
       "        run_callbacks();\n",
       "        return null;\n",
       "      }\n",
       "      console.log(\"Bokeh: BokehJS not loaded, scheduling load and callback at\", now());\n",
       "      window._bokeh_is_loading = js_urls.length;\n",
       "      for (var i = 0; i < js_urls.length; i++) {\n",
       "        var url = js_urls[i];\n",
       "        var s = document.createElement('script');\n",
       "        s.src = url;\n",
       "        s.async = false;\n",
       "        s.onreadystatechange = s.onload = function() {\n",
       "          window._bokeh_is_loading--;\n",
       "          if (window._bokeh_is_loading === 0) {\n",
       "            console.log(\"Bokeh: all BokehJS libraries loaded\");\n",
       "            run_callbacks()\n",
       "          }\n",
       "        };\n",
       "        s.onerror = function() {\n",
       "          console.warn(\"failed to load library \" + url);\n",
       "        };\n",
       "        console.log(\"Bokeh: injecting script tag for BokehJS library: \", url);\n",
       "        document.getElementsByTagName(\"head\")[0].appendChild(s);\n",
       "      }\n",
       "    };var element = document.getElementById(\"403f5485-7013-4fcf-b84e-2af2270be116\");\n",
       "    if (element == null) {\n",
       "      console.log(\"Bokeh: ERROR: autoload.js configured with elementid '403f5485-7013-4fcf-b84e-2af2270be116' but no matching script tag was found. \")\n",
       "      return false;\n",
       "    }\n",
       "  \n",
       "    var js_urls = [];\n",
       "  \n",
       "    var inline_js = [\n",
       "      function(Bokeh) {\n",
       "        Bokeh.$(function() {\n",
       "            var docs_json = {\"c398786b-5c94-4c72-8c06-5b5a669bbf7f\":{\"roots\":{\"references\":[{\"attributes\":{\"plot\":{\"id\":\"6c0f51c7-bbb9-454b-9d83-27c68944fa90\",\"subtype\":\"Figure\",\"type\":\"Plot\"}},\"id\":\"68207a95-a53e-4acc-b2fd-19041abaaada\",\"type\":\"WheelZoomTool\"},{\"attributes\":{\"formatter\":{\"id\":\"abfc0c69-f914-4f40-8604-260e79ad922c\",\"type\":\"BasicTickFormatter\"},\"plot\":{\"id\":\"6c0f51c7-bbb9-454b-9d83-27c68944fa90\",\"subtype\":\"Figure\",\"type\":\"Plot\"},\"ticker\":{\"id\":\"7cb2a8fc-12e7-4220-89b5-82db4554fdc0\",\"type\":\"BasicTicker\"}},\"id\":\"80b7fb7b-e711-4179-855e-f7f3bcc5945a\",\"type\":\"LinearAxis\"},{\"attributes\":{\"data_source\":{\"id\":\"952f0a5b-efdf-4d8f-b408-09ff2de6d073\",\"type\":\"ColumnDataSource\"},\"glyph\":{\"id\":\"d1faad3e-bb41-457f-8610-d7e6b94bdbbf\",\"type\":\"Line\"},\"hover_glyph\":null,\"nonselection_glyph\":{\"id\":\"7ed77838-fc00-4e70-897b-c36aed3443a5\",\"type\":\"Line\"},\"selection_glyph\":null},\"id\":\"1fb3a45c-2e1e-4dbd-8c46-9192adc542e9\",\"type\":\"GlyphRenderer\"},{\"attributes\":{},\"id\":\"20a518c0-5b80-4cdb-8b8b-9e068c88144b\",\"type\":\"BasicTicker\"},{\"attributes\":{\"plot\":{\"id\":\"6c0f51c7-bbb9-454b-9d83-27c68944fa90\",\"subtype\":\"Figure\",\"type\":\"Plot\"}},\"id\":\"7ea562f3-8fe1-410a-a1d1-8adc14e6791a\",\"type\":\"PanTool\"},{\"attributes\":{\"line_color\":{\"value\":\"#1f77b4\"},\"x\":{\"field\":\"x\"},\"y\":{\"field\":\"y\"}},\"id\":\"d1faad3e-bb41-457f-8610-d7e6b94bdbbf\",\"type\":\"Line\"},{\"attributes\":{\"formatter\":{\"id\":\"eda04f90-b2f3-46a5-8488-bd5ab26a7e54\",\"type\":\"BasicTickFormatter\"},\"plot\":{\"id\":\"6c0f51c7-bbb9-454b-9d83-27c68944fa90\",\"subtype\":\"Figure\",\"type\":\"Plot\"},\"ticker\":{\"id\":\"20a518c0-5b80-4cdb-8b8b-9e068c88144b\",\"type\":\"BasicTicker\"}},\"id\":\"e3935150-8037-4bf2-8f8e-edfb92e97d57\",\"type\":\"LinearAxis\"},{\"attributes\":{\"callback\":null,\"column_names\":[\"y\",\"x\"],\"data\":{\"x\":[-0.5,-0.5,4.5,4.5,5.5,5.5,6.5,6.5,7.5,7.5,8.5,8.5,9.5,9.5],\"y\":[0.0,0.0,0.0,2.0,2.0,0.0,0.0,1.0,1.0,85.0,85.0,2.0,2.0,0.0]}},\"id\":\"952f0a5b-efdf-4d8f-b408-09ff2de6d073\",\"type\":\"ColumnDataSource\"},{\"attributes\":{},\"id\":\"abfc0c69-f914-4f40-8604-260e79ad922c\",\"type\":\"BasicTickFormatter\"},{\"attributes\":{\"callback\":null,\"end\":10.5,\"start\":-0.5},\"id\":\"6b08b846-ba87-4f6f-80f4-0b3f93ca0810\",\"type\":\"Range1d\"},{\"attributes\":{\"plot\":{\"id\":\"6c0f51c7-bbb9-454b-9d83-27c68944fa90\",\"subtype\":\"Figure\",\"type\":\"Plot\"}},\"id\":\"eeca8ea1-8dd5-4461-9db9-3984a4b11138\",\"type\":\"HelpTool\"},{\"attributes\":{\"dimension\":1,\"plot\":{\"id\":\"6c0f51c7-bbb9-454b-9d83-27c68944fa90\",\"subtype\":\"Figure\",\"type\":\"Plot\"},\"ticker\":{\"id\":\"7cb2a8fc-12e7-4220-89b5-82db4554fdc0\",\"type\":\"BasicTicker\"}},\"id\":\"35526d50-0c88-4e98-ad71-0d16f00da47b\",\"type\":\"Grid\"},{\"attributes\":{\"plot\":null,\"text\":null},\"id\":\"5aafa0cb-e788-4210-b3b6-1001ed936aab\",\"type\":\"Title\"},{\"attributes\":{},\"id\":\"7cb2a8fc-12e7-4220-89b5-82db4554fdc0\",\"type\":\"BasicTicker\"},{\"attributes\":{\"below\":[{\"id\":\"e3935150-8037-4bf2-8f8e-edfb92e97d57\",\"type\":\"LinearAxis\"}],\"left\":[{\"id\":\"80b7fb7b-e711-4179-855e-f7f3bcc5945a\",\"type\":\"LinearAxis\"}],\"plot_height\":400,\"plot_width\":900,\"renderers\":[{\"id\":\"e3935150-8037-4bf2-8f8e-edfb92e97d57\",\"type\":\"LinearAxis\"},{\"id\":\"110cae83-f0c6-441d-91dc-dd7d1de852fe\",\"type\":\"Grid\"},{\"id\":\"80b7fb7b-e711-4179-855e-f7f3bcc5945a\",\"type\":\"LinearAxis\"},{\"id\":\"35526d50-0c88-4e98-ad71-0d16f00da47b\",\"type\":\"Grid\"},{\"id\":\"4afa316d-0d2d-4a43-a8dd-6f625811f7c0\",\"type\":\"BoxAnnotation\"},{\"id\":\"1fb3a45c-2e1e-4dbd-8c46-9192adc542e9\",\"type\":\"GlyphRenderer\"}],\"title\":{\"id\":\"5aafa0cb-e788-4210-b3b6-1001ed936aab\",\"type\":\"Title\"},\"tool_events\":{\"id\":\"2d9a9261-866a-4bed-8d73-09b633b6e7ef\",\"type\":\"ToolEvents\"},\"toolbar\":{\"id\":\"023786bd-c811-43c1-bea4-51b92a83dde2\",\"type\":\"Toolbar\"},\"toolbar_location\":null,\"x_range\":{\"id\":\"6b08b846-ba87-4f6f-80f4-0b3f93ca0810\",\"type\":\"Range1d\"},\"y_range\":{\"id\":\"1ff14682-b4a3-4710-b2f1-f043de98256e\",\"type\":\"Range1d\"}},\"id\":\"6c0f51c7-bbb9-454b-9d83-27c68944fa90\",\"subtype\":\"Figure\",\"type\":\"Plot\"},{\"attributes\":{\"callback\":null,\"end\":93.50000000000001},\"id\":\"1ff14682-b4a3-4710-b2f1-f043de98256e\",\"type\":\"Range1d\"},{\"attributes\":{\"plot\":{\"id\":\"6c0f51c7-bbb9-454b-9d83-27c68944fa90\",\"subtype\":\"Figure\",\"type\":\"Plot\"},\"ticker\":{\"id\":\"20a518c0-5b80-4cdb-8b8b-9e068c88144b\",\"type\":\"BasicTicker\"}},\"id\":\"110cae83-f0c6-441d-91dc-dd7d1de852fe\",\"type\":\"Grid\"},{\"attributes\":{\"line_alpha\":{\"value\":0.1},\"line_color\":{\"value\":\"#1f77b4\"},\"x\":{\"field\":\"x\"},\"y\":{\"field\":\"y\"}},\"id\":\"7ed77838-fc00-4e70-897b-c36aed3443a5\",\"type\":\"Line\"},{\"attributes\":{\"plot\":{\"id\":\"6c0f51c7-bbb9-454b-9d83-27c68944fa90\",\"subtype\":\"Figure\",\"type\":\"Plot\"}},\"id\":\"dacaa2b2-b3c2-45ed-a045-05ae665610ed\",\"type\":\"SaveTool\"},{\"attributes\":{\"plot\":{\"id\":\"6c0f51c7-bbb9-454b-9d83-27c68944fa90\",\"subtype\":\"Figure\",\"type\":\"Plot\"}},\"id\":\"7e03193f-6096-46b5-ab01-5ed912dc46ed\",\"type\":\"ResetTool\"},{\"attributes\":{},\"id\":\"2d9a9261-866a-4bed-8d73-09b633b6e7ef\",\"type\":\"ToolEvents\"},{\"attributes\":{\"overlay\":{\"id\":\"4afa316d-0d2d-4a43-a8dd-6f625811f7c0\",\"type\":\"BoxAnnotation\"},\"plot\":{\"id\":\"6c0f51c7-bbb9-454b-9d83-27c68944fa90\",\"subtype\":\"Figure\",\"type\":\"Plot\"}},\"id\":\"5b6d7f86-6c18-411f-9ec2-494a28b2b882\",\"type\":\"BoxZoomTool\"},{\"attributes\":{},\"id\":\"eda04f90-b2f3-46a5-8488-bd5ab26a7e54\",\"type\":\"BasicTickFormatter\"},{\"attributes\":{\"bottom_units\":\"screen\",\"fill_alpha\":{\"value\":0.5},\"fill_color\":{\"value\":\"lightgrey\"},\"left_units\":\"screen\",\"level\":\"overlay\",\"line_alpha\":{\"value\":1.0},\"line_color\":{\"value\":\"black\"},\"line_dash\":[4,4],\"line_width\":{\"value\":2},\"plot\":null,\"render_mode\":\"css\",\"right_units\":\"screen\",\"top_units\":\"screen\"},\"id\":\"4afa316d-0d2d-4a43-a8dd-6f625811f7c0\",\"type\":\"BoxAnnotation\"},{\"attributes\":{\"active_drag\":\"auto\",\"active_scroll\":\"auto\",\"active_tap\":\"auto\",\"tools\":[{\"id\":\"7ea562f3-8fe1-410a-a1d1-8adc14e6791a\",\"type\":\"PanTool\"},{\"id\":\"68207a95-a53e-4acc-b2fd-19041abaaada\",\"type\":\"WheelZoomTool\"},{\"id\":\"5b6d7f86-6c18-411f-9ec2-494a28b2b882\",\"type\":\"BoxZoomTool\"},{\"id\":\"dacaa2b2-b3c2-45ed-a045-05ae665610ed\",\"type\":\"SaveTool\"},{\"id\":\"7e03193f-6096-46b5-ab01-5ed912dc46ed\",\"type\":\"ResetTool\"},{\"id\":\"eeca8ea1-8dd5-4461-9db9-3984a4b11138\",\"type\":\"HelpTool\"}]},\"id\":\"023786bd-c811-43c1-bea4-51b92a83dde2\",\"type\":\"Toolbar\"}],\"root_ids\":[\"6c0f51c7-bbb9-454b-9d83-27c68944fa90\"]},\"title\":\"Bokeh Application\",\"version\":\"0.12.0\"}};\n",
       "            var render_items = [{\"docid\":\"c398786b-5c94-4c72-8c06-5b5a669bbf7f\",\"elementid\":\"403f5485-7013-4fcf-b84e-2af2270be116\",\"modelid\":\"6c0f51c7-bbb9-454b-9d83-27c68944fa90\",\"notebook_comms_target\":\"1b16b874-844e-4012-9f1f-b317d97ff661\"}];\n",
       "            \n",
       "            Bokeh.embed.embed_items(docs_json, render_items);\n",
       "        });\n",
       "      },\n",
       "      function(Bokeh) {\n",
       "      }\n",
       "    ];\n",
       "  \n",
       "    function run_inline_js() {\n",
       "      for (var i = 0; i < inline_js.length; i++) {\n",
       "        inline_js[i](window.Bokeh);\n",
       "      }\n",
       "    }\n",
       "  \n",
       "    if (window._bokeh_is_loading === 0) {\n",
       "      console.log(\"Bokeh: BokehJS loaded, going straight to plotting\");\n",
       "      run_inline_js();\n",
       "    } else {\n",
       "      load_libs(js_urls, function() {\n",
       "        console.log(\"Bokeh: BokehJS plotting callback run at\", now());\n",
       "        run_inline_js();\n",
       "      });\n",
       "    }\n",
       "  }(this));\n",
       "</script>"
      ]
     },
     "metadata": {},
     "output_type": "display_data"
    },
    {
     "data": {
      "text/html": [
       "<p><code>&lt;Bokeh Notebook handle for <strong>In[18]</strong>&gt;</code></p>"
      ],
      "text/plain": [
       "<bokeh.io._CommsHandle at 0x7f664c89fb50>"
      ]
     },
     "execution_count": 18,
     "metadata": {},
     "output_type": "execute_result"
    }
   ],
   "source": [
    "count_data = sa_62_1265.unique_snps_per_allele(am_4_815_5_684)\n",
    "plt_obj = smcp(count_data)\n",
    "plt = plt_obj.do_plot()\n",
    "show(plt)"
   ]
  },
  {
   "cell_type": "code",
   "execution_count": 19,
   "metadata": {
    "collapsed": false
   },
   "outputs": [
    {
     "data": {
      "text/plain": [
       "array([(5, 2), (7, 1), (8, 85), (9, 2)], \n",
       "      dtype=[('count', '<u2'), ('snps', '<u2')])"
      ]
     },
     "execution_count": 19,
     "metadata": {},
     "output_type": "execute_result"
    }
   ],
   "source": [
    "count_data"
   ]
  },
  {
   "cell_type": "code",
   "execution_count": 20,
   "metadata": {
    "collapsed": false
   },
   "outputs": [
    {
     "data": {
      "text/plain": [
       "array([(0, 85), (1, 85), (2, 85), (3, 85), (4, 85), (5, 85), (6, 85),\n",
       "       (7, 85), (8, 0), (9, 0), (10, 0), (11, 0), (12, 0), (13, 0),\n",
       "       (14, 0), (15, 0), (16, 0), (17, 0), (18, 0), (19, 0), (20, 0),\n",
       "       (21, 0), (22, 0), (23, 0), (24, 0), (25, 0), (26, 0), (27, 0),\n",
       "       (28, 0), (29, 0), (30, 0), (31, 0), (32, 0), (33, 0), (34, 0),\n",
       "       (35, 0), (36, 0), (37, 0), (38, 0), (39, 0), (40, 0), (41, 0),\n",
       "       (42, 0), (43, 0), (44, 0), (45, 0), (46, 0), (47, 0), (48, 0),\n",
       "       (49, 0), (50, 0), (51, 0), (52, 0), (53, 0), (54, 0), (55, 0),\n",
       "       (56, 0), (57, 0), (58, 0), (59, 0), (60, 0), (61, 0)], \n",
       "      dtype=[('index', '<u2'), ('snp_count', '<u2')])"
      ]
     },
     "execution_count": 20,
     "metadata": {},
     "output_type": "execute_result"
    }
   ],
   "source": [
    "tf = snp_anal.series_fragment_finder_cls(sa_62_1265, am_4_815_5_684)\n",
    "tf.max_snps_alleles_per_snp"
   ]
  },
  {
   "cell_type": "code",
   "execution_count": 21,
   "metadata": {
    "collapsed": false
   },
   "outputs": [
    {
     "data": {
      "text/html": [
       "\n",
       "\n",
       "    <div class=\"bk-root\">\n",
       "        <div class=\"plotdiv\" id=\"78f3daca-3f3b-4716-9198-bd899619ba5d\"></div>\n",
       "    </div>\n",
       "<script type=\"text/javascript\">\n",
       "  \n",
       "  (function(global) {\n",
       "    function now() {\n",
       "      return new Date();\n",
       "    }\n",
       "  \n",
       "    if (typeof (window._bokeh_onload_callbacks) === \"undefined\") {\n",
       "      window._bokeh_onload_callbacks = [];\n",
       "    }\n",
       "  \n",
       "    function run_callbacks() {\n",
       "      window._bokeh_onload_callbacks.forEach(function(callback) { callback() });\n",
       "      delete window._bokeh_onload_callbacks\n",
       "      console.info(\"Bokeh: all callbacks have finished\");\n",
       "    }\n",
       "  \n",
       "    function load_libs(js_urls, callback) {\n",
       "      window._bokeh_onload_callbacks.push(callback);\n",
       "      if (window._bokeh_is_loading > 0) {\n",
       "        console.log(\"Bokeh: BokehJS is being loaded, scheduling callback at\", now());\n",
       "        return null;\n",
       "      }\n",
       "      if (js_urls == null || js_urls.length === 0) {\n",
       "        run_callbacks();\n",
       "        return null;\n",
       "      }\n",
       "      console.log(\"Bokeh: BokehJS not loaded, scheduling load and callback at\", now());\n",
       "      window._bokeh_is_loading = js_urls.length;\n",
       "      for (var i = 0; i < js_urls.length; i++) {\n",
       "        var url = js_urls[i];\n",
       "        var s = document.createElement('script');\n",
       "        s.src = url;\n",
       "        s.async = false;\n",
       "        s.onreadystatechange = s.onload = function() {\n",
       "          window._bokeh_is_loading--;\n",
       "          if (window._bokeh_is_loading === 0) {\n",
       "            console.log(\"Bokeh: all BokehJS libraries loaded\");\n",
       "            run_callbacks()\n",
       "          }\n",
       "        };\n",
       "        s.onerror = function() {\n",
       "          console.warn(\"failed to load library \" + url);\n",
       "        };\n",
       "        console.log(\"Bokeh: injecting script tag for BokehJS library: \", url);\n",
       "        document.getElementsByTagName(\"head\")[0].appendChild(s);\n",
       "      }\n",
       "    };var element = document.getElementById(\"78f3daca-3f3b-4716-9198-bd899619ba5d\");\n",
       "    if (element == null) {\n",
       "      console.log(\"Bokeh: ERROR: autoload.js configured with elementid '78f3daca-3f3b-4716-9198-bd899619ba5d' but no matching script tag was found. \")\n",
       "      return false;\n",
       "    }\n",
       "  \n",
       "    var js_urls = [];\n",
       "  \n",
       "    var inline_js = [\n",
       "      function(Bokeh) {\n",
       "        Bokeh.$(function() {\n",
       "            var docs_json = {\"d6c30b7a-1256-482a-b601-6ca26f2404c2\":{\"roots\":{\"references\":[{\"attributes\":{\"formatter\":{\"id\":\"6632f48f-a23e-4960-927d-63aed12f2d92\",\"type\":\"BasicTickFormatter\"},\"plot\":{\"id\":\"b75af8d5-bcf5-4b6e-a7a3-eed041425260\",\"subtype\":\"Figure\",\"type\":\"Plot\"},\"ticker\":{\"id\":\"0d9cbcda-05c5-4cc7-8a2f-64142432ceb0\",\"type\":\"BasicTicker\"}},\"id\":\"1023a7d8-a48b-4409-bb44-f40e71dfbff6\",\"type\":\"LinearAxis\"},{\"attributes\":{\"below\":[{\"id\":\"1023a7d8-a48b-4409-bb44-f40e71dfbff6\",\"type\":\"LinearAxis\"}],\"left\":[{\"id\":\"3b68fd6b-8cbd-48fe-bb31-fd7dbec741dc\",\"type\":\"LinearAxis\"}],\"plot_height\":400,\"plot_width\":900,\"renderers\":[{\"id\":\"1023a7d8-a48b-4409-bb44-f40e71dfbff6\",\"type\":\"LinearAxis\"},{\"id\":\"66749012-90cd-40bc-8390-2bccfe18db88\",\"type\":\"Grid\"},{\"id\":\"3b68fd6b-8cbd-48fe-bb31-fd7dbec741dc\",\"type\":\"LinearAxis\"},{\"id\":\"5d71a76f-f322-4629-8bd8-e70e958b5456\",\"type\":\"Grid\"},{\"id\":\"65a324e3-7021-40dd-9ed8-e92847f33815\",\"type\":\"BoxAnnotation\"},{\"id\":\"ffa1019a-2782-4f24-9c0d-0cb1095af75d\",\"type\":\"GlyphRenderer\"}],\"title\":{\"id\":\"08044e08-47f7-4a70-87c4-bfa452f65682\",\"type\":\"Title\"},\"tool_events\":{\"id\":\"c96ba9b0-d656-440b-904b-ba6f0a35f61c\",\"type\":\"ToolEvents\"},\"toolbar\":{\"id\":\"f386e0d3-db5f-4979-b356-642560c311a6\",\"type\":\"Toolbar\"},\"toolbar_location\":null,\"x_range\":{\"id\":\"a29aeaf7-7448-4697-b793-b70bc1df6221\",\"type\":\"Range1d\"},\"y_range\":{\"id\":\"6a7d5693-c1a5-4745-8ccd-61ae3c114c66\",\"type\":\"Range1d\"}},\"id\":\"b75af8d5-bcf5-4b6e-a7a3-eed041425260\",\"subtype\":\"Figure\",\"type\":\"Plot\"},{\"attributes\":{\"callback\":null,\"column_names\":[\"y\",\"x\"],\"data\":{\"x\":[-0.5,-0.5,22.5,22.5,23.5,23.5,27.5,27.5,28.5,28.5,29.5,29.5,30.5,30.5],\"y\":[0.0,0.0,0.0,1.0,1.0,0.0,0.0,1.0,1.0,87.0,87.0,1.0,1.0,0.0]}},\"id\":\"af7f8f36-b437-4aa4-9844-53a880b3a015\",\"type\":\"ColumnDataSource\"},{\"attributes\":{\"callback\":null,\"end\":95.7},\"id\":\"6a7d5693-c1a5-4745-8ccd-61ae3c114c66\",\"type\":\"Range1d\"},{\"attributes\":{\"data_source\":{\"id\":\"af7f8f36-b437-4aa4-9844-53a880b3a015\",\"type\":\"ColumnDataSource\"},\"glyph\":{\"id\":\"aafecd18-d1a9-4d54-b8b3-42db7457c816\",\"type\":\"Line\"},\"hover_glyph\":null,\"nonselection_glyph\":{\"id\":\"b579d26d-ff5c-4a63-b8dc-595eb33fa4aa\",\"type\":\"Line\"},\"selection_glyph\":null},\"id\":\"ffa1019a-2782-4f24-9c0d-0cb1095af75d\",\"type\":\"GlyphRenderer\"},{\"attributes\":{\"dimension\":1,\"plot\":{\"id\":\"b75af8d5-bcf5-4b6e-a7a3-eed041425260\",\"subtype\":\"Figure\",\"type\":\"Plot\"},\"ticker\":{\"id\":\"bed1b5a6-52cb-4b6e-b9a0-9c5a31a15be6\",\"type\":\"BasicTicker\"}},\"id\":\"5d71a76f-f322-4629-8bd8-e70e958b5456\",\"type\":\"Grid\"},{\"attributes\":{\"plot\":null,\"text\":null},\"id\":\"08044e08-47f7-4a70-87c4-bfa452f65682\",\"type\":\"Title\"},{\"attributes\":{\"active_drag\":\"auto\",\"active_scroll\":\"auto\",\"active_tap\":\"auto\",\"tools\":[{\"id\":\"6d1e4b43-79ba-44d0-ae6d-08f961aa7c26\",\"type\":\"PanTool\"},{\"id\":\"b5ae13bf-bc06-4f50-b10b-32828ec43fb9\",\"type\":\"WheelZoomTool\"},{\"id\":\"c91c6d0c-4a26-4aa3-a13d-69f2b5d28bb7\",\"type\":\"BoxZoomTool\"},{\"id\":\"93f2b5a3-619b-4004-96ac-1924d668c40e\",\"type\":\"SaveTool\"},{\"id\":\"a83f03a5-9a61-498f-8fdf-61c6554d7c7c\",\"type\":\"ResetTool\"},{\"id\":\"aa0f718a-ffe9-4547-8ed0-430abf2ca4a2\",\"type\":\"HelpTool\"}]},\"id\":\"f386e0d3-db5f-4979-b356-642560c311a6\",\"type\":\"Toolbar\"},{\"attributes\":{\"plot\":{\"id\":\"b75af8d5-bcf5-4b6e-a7a3-eed041425260\",\"subtype\":\"Figure\",\"type\":\"Plot\"}},\"id\":\"a83f03a5-9a61-498f-8fdf-61c6554d7c7c\",\"type\":\"ResetTool\"},{\"attributes\":{\"plot\":{\"id\":\"b75af8d5-bcf5-4b6e-a7a3-eed041425260\",\"subtype\":\"Figure\",\"type\":\"Plot\"}},\"id\":\"93f2b5a3-619b-4004-96ac-1924d668c40e\",\"type\":\"SaveTool\"},{\"attributes\":{\"plot\":{\"id\":\"b75af8d5-bcf5-4b6e-a7a3-eed041425260\",\"subtype\":\"Figure\",\"type\":\"Plot\"},\"ticker\":{\"id\":\"0d9cbcda-05c5-4cc7-8a2f-64142432ceb0\",\"type\":\"BasicTicker\"}},\"id\":\"66749012-90cd-40bc-8390-2bccfe18db88\",\"type\":\"Grid\"},{\"attributes\":{\"overlay\":{\"id\":\"65a324e3-7021-40dd-9ed8-e92847f33815\",\"type\":\"BoxAnnotation\"},\"plot\":{\"id\":\"b75af8d5-bcf5-4b6e-a7a3-eed041425260\",\"subtype\":\"Figure\",\"type\":\"Plot\"}},\"id\":\"c91c6d0c-4a26-4aa3-a13d-69f2b5d28bb7\",\"type\":\"BoxZoomTool\"},{\"attributes\":{},\"id\":\"c96ba9b0-d656-440b-904b-ba6f0a35f61c\",\"type\":\"ToolEvents\"},{\"attributes\":{\"plot\":{\"id\":\"b75af8d5-bcf5-4b6e-a7a3-eed041425260\",\"subtype\":\"Figure\",\"type\":\"Plot\"}},\"id\":\"b5ae13bf-bc06-4f50-b10b-32828ec43fb9\",\"type\":\"WheelZoomTool\"},{\"attributes\":{},\"id\":\"0d9cbcda-05c5-4cc7-8a2f-64142432ceb0\",\"type\":\"BasicTicker\"},{\"attributes\":{\"line_color\":{\"value\":\"#1f77b4\"},\"x\":{\"field\":\"x\"},\"y\":{\"field\":\"y\"}},\"id\":\"aafecd18-d1a9-4d54-b8b3-42db7457c816\",\"type\":\"Line\"},{\"attributes\":{},\"id\":\"6632f48f-a23e-4960-927d-63aed12f2d92\",\"type\":\"BasicTickFormatter\"},{\"attributes\":{\"callback\":null,\"end\":31.5,\"start\":-0.5},\"id\":\"a29aeaf7-7448-4697-b793-b70bc1df6221\",\"type\":\"Range1d\"},{\"attributes\":{},\"id\":\"bed1b5a6-52cb-4b6e-b9a0-9c5a31a15be6\",\"type\":\"BasicTicker\"},{\"attributes\":{\"bottom_units\":\"screen\",\"fill_alpha\":{\"value\":0.5},\"fill_color\":{\"value\":\"lightgrey\"},\"left_units\":\"screen\",\"level\":\"overlay\",\"line_alpha\":{\"value\":1.0},\"line_color\":{\"value\":\"black\"},\"line_dash\":[4,4],\"line_width\":{\"value\":2},\"plot\":null,\"render_mode\":\"css\",\"right_units\":\"screen\",\"top_units\":\"screen\"},\"id\":\"65a324e3-7021-40dd-9ed8-e92847f33815\",\"type\":\"BoxAnnotation\"},{\"attributes\":{\"formatter\":{\"id\":\"2872f693-dd61-481f-8256-7aab16b26a12\",\"type\":\"BasicTickFormatter\"},\"plot\":{\"id\":\"b75af8d5-bcf5-4b6e-a7a3-eed041425260\",\"subtype\":\"Figure\",\"type\":\"Plot\"},\"ticker\":{\"id\":\"bed1b5a6-52cb-4b6e-b9a0-9c5a31a15be6\",\"type\":\"BasicTicker\"}},\"id\":\"3b68fd6b-8cbd-48fe-bb31-fd7dbec741dc\",\"type\":\"LinearAxis\"},{\"attributes\":{\"plot\":{\"id\":\"b75af8d5-bcf5-4b6e-a7a3-eed041425260\",\"subtype\":\"Figure\",\"type\":\"Plot\"}},\"id\":\"aa0f718a-ffe9-4547-8ed0-430abf2ca4a2\",\"type\":\"HelpTool\"},{\"attributes\":{\"line_alpha\":{\"value\":0.1},\"line_color\":{\"value\":\"#1f77b4\"},\"x\":{\"field\":\"x\"},\"y\":{\"field\":\"y\"}},\"id\":\"b579d26d-ff5c-4a63-b8dc-595eb33fa4aa\",\"type\":\"Line\"},{\"attributes\":{},\"id\":\"2872f693-dd61-481f-8256-7aab16b26a12\",\"type\":\"BasicTickFormatter\"},{\"attributes\":{\"plot\":{\"id\":\"b75af8d5-bcf5-4b6e-a7a3-eed041425260\",\"subtype\":\"Figure\",\"type\":\"Plot\"}},\"id\":\"6d1e4b43-79ba-44d0-ae6d-08f961aa7c26\",\"type\":\"PanTool\"}],\"root_ids\":[\"b75af8d5-bcf5-4b6e-a7a3-eed041425260\"]},\"title\":\"Bokeh Application\",\"version\":\"0.12.0\"}};\n",
       "            var render_items = [{\"docid\":\"d6c30b7a-1256-482a-b601-6ca26f2404c2\",\"elementid\":\"78f3daca-3f3b-4716-9198-bd899619ba5d\",\"modelid\":\"b75af8d5-bcf5-4b6e-a7a3-eed041425260\",\"notebook_comms_target\":\"caf47ba8-ab0d-467e-bc8c-207d6e253cb5\"}];\n",
       "            \n",
       "            Bokeh.embed.embed_items(docs_json, render_items);\n",
       "        });\n",
       "      },\n",
       "      function(Bokeh) {\n",
       "      }\n",
       "    ];\n",
       "  \n",
       "    function run_inline_js() {\n",
       "      for (var i = 0; i < inline_js.length; i++) {\n",
       "        inline_js[i](window.Bokeh);\n",
       "      }\n",
       "    }\n",
       "  \n",
       "    if (window._bokeh_is_loading === 0) {\n",
       "      console.log(\"Bokeh: BokehJS loaded, going straight to plotting\");\n",
       "      run_inline_js();\n",
       "    } else {\n",
       "      load_libs(js_urls, function() {\n",
       "        console.log(\"Bokeh: BokehJS plotting callback run at\", now());\n",
       "        run_inline_js();\n",
       "      });\n",
       "    }\n",
       "  }(this));\n",
       "</script>"
      ]
     },
     "metadata": {},
     "output_type": "display_data"
    },
    {
     "data": {
      "text/html": [
       "<p><code>&lt;Bokeh Notebook handle for <strong>In[21]</strong>&gt;</code></p>"
      ],
      "text/plain": [
       "<bokeh.io._CommsHandle at 0x7f664c89f090>"
      ]
     },
     "execution_count": 21,
     "metadata": {},
     "output_type": "execute_result"
    }
   ],
   "source": [
    "count_data = sa_193_843.unique_snps_per_allele(am_4_815_5_684)\n",
    "plt_obj = smcp(count_data)\n",
    "plt = plt_obj.do_plot()\n",
    "show(plt)"
   ]
  },
  {
   "cell_type": "code",
   "execution_count": 22,
   "metadata": {
    "collapsed": false
   },
   "outputs": [
    {
     "data": {
      "text/plain": [
       "array([(23, 1), (28, 1), (29, 87), (30, 1)], \n",
       "      dtype=[('count', '<u2'), ('snps', '<u2')])"
      ]
     },
     "execution_count": 22,
     "metadata": {},
     "output_type": "execute_result"
    }
   ],
   "source": [
    "count_data"
   ]
  },
  {
   "cell_type": "code",
   "execution_count": 23,
   "metadata": {
    "collapsed": false
   },
   "outputs": [
    {
     "data": {
      "text/plain": [
       "array([(0, 87), (1, 87), (2, 87), (3, 87), (4, 87), (5, 87), (6, 87),\n",
       "       (7, 87), (8, 87), (9, 87), (10, 87), (11, 87), (12, 87), (13, 87),\n",
       "       (14, 87), (15, 87), (16, 87), (17, 87), (18, 87), (19, 87),\n",
       "       (20, 87), (21, 87), (22, 87), (23, 87), (24, 87), (25, 87),\n",
       "       (26, 87), (27, 87), (28, 87), (29, 0), (30, 0), (31, 0), (32, 0),\n",
       "       (33, 0), (34, 0), (35, 0), (36, 0), (37, 0), (38, 0), (39, 0),\n",
       "       (40, 0), (41, 0), (42, 0), (43, 0), (44, 0), (45, 0), (46, 0),\n",
       "       (47, 0), (48, 0), (49, 0), (50, 0), (51, 0), (52, 0), (53, 0),\n",
       "       (54, 0), (55, 0), (56, 0), (57, 0), (58, 0), (59, 0), (60, 0),\n",
       "       (61, 0), (62, 0), (63, 0), (64, 0), (65, 0), (66, 0), (67, 0),\n",
       "       (68, 0), (69, 0), (70, 0), (71, 0), (72, 0), (73, 0), (74, 0),\n",
       "       (75, 0), (76, 0), (77, 0), (78, 0), (79, 0), (80, 0), (81, 0),\n",
       "       (82, 0), (83, 0), (84, 0), (85, 0), (86, 0), (87, 0), (88, 0),\n",
       "       (89, 0), (90, 0), (91, 0), (92, 0), (93, 0), (94, 0), (95, 0),\n",
       "       (96, 0), (97, 0), (98, 0), (99, 0), (100, 0), (101, 0), (102, 0),\n",
       "       (103, 0), (104, 0), (105, 0), (106, 0), (107, 0), (108, 0),\n",
       "       (109, 0), (110, 0), (111, 0), (112, 0), (113, 0), (114, 0),\n",
       "       (115, 0), (116, 0), (117, 0), (118, 0), (119, 0), (120, 0),\n",
       "       (121, 0), (122, 0), (123, 0), (124, 0), (125, 0), (126, 0),\n",
       "       (127, 0), (128, 0), (129, 0), (130, 0), (131, 0), (132, 0),\n",
       "       (133, 0), (134, 0), (135, 0), (136, 0), (137, 0), (138, 0),\n",
       "       (139, 0), (140, 0), (141, 0), (142, 0), (143, 0), (144, 0),\n",
       "       (145, 0), (146, 0), (147, 0), (148, 0), (149, 0), (150, 0),\n",
       "       (151, 0), (152, 0), (153, 0), (154, 0), (155, 0), (156, 0),\n",
       "       (157, 0), (158, 0), (159, 0), (160, 0), (161, 0), (162, 0),\n",
       "       (163, 0), (164, 0), (165, 0), (166, 0), (167, 0), (168, 0),\n",
       "       (169, 0), (170, 0), (171, 0), (172, 0), (173, 0), (174, 0),\n",
       "       (175, 0), (176, 0), (177, 0), (178, 0), (179, 0), (180, 0),\n",
       "       (181, 0), (182, 0), (183, 0), (184, 0), (185, 0), (186, 0),\n",
       "       (187, 0), (188, 0), (189, 0), (190, 0), (191, 0), (192, 0)], \n",
       "      dtype=[('index', '<u2'), ('snp_count', '<u2')])"
      ]
     },
     "execution_count": 23,
     "metadata": {},
     "output_type": "execute_result"
    }
   ],
   "source": [
    "tf = snp_anal.series_fragment_finder_cls(sa_193_843, am_4_815_5_684)\n",
    "tf.max_snps_alleles_per_snp"
   ]
  },
  {
   "cell_type": "code",
   "execution_count": 24,
   "metadata": {
    "collapsed": false
   },
   "outputs": [
    {
     "data": {
      "text/html": [
       "\n",
       "\n",
       "    <div class=\"bk-root\">\n",
       "        <div class=\"plotdiv\" id=\"6517f475-d3ac-4f72-bb38-3a83ab22d77e\"></div>\n",
       "    </div>\n",
       "<script type=\"text/javascript\">\n",
       "  \n",
       "  (function(global) {\n",
       "    function now() {\n",
       "      return new Date();\n",
       "    }\n",
       "  \n",
       "    if (typeof (window._bokeh_onload_callbacks) === \"undefined\") {\n",
       "      window._bokeh_onload_callbacks = [];\n",
       "    }\n",
       "  \n",
       "    function run_callbacks() {\n",
       "      window._bokeh_onload_callbacks.forEach(function(callback) { callback() });\n",
       "      delete window._bokeh_onload_callbacks\n",
       "      console.info(\"Bokeh: all callbacks have finished\");\n",
       "    }\n",
       "  \n",
       "    function load_libs(js_urls, callback) {\n",
       "      window._bokeh_onload_callbacks.push(callback);\n",
       "      if (window._bokeh_is_loading > 0) {\n",
       "        console.log(\"Bokeh: BokehJS is being loaded, scheduling callback at\", now());\n",
       "        return null;\n",
       "      }\n",
       "      if (js_urls == null || js_urls.length === 0) {\n",
       "        run_callbacks();\n",
       "        return null;\n",
       "      }\n",
       "      console.log(\"Bokeh: BokehJS not loaded, scheduling load and callback at\", now());\n",
       "      window._bokeh_is_loading = js_urls.length;\n",
       "      for (var i = 0; i < js_urls.length; i++) {\n",
       "        var url = js_urls[i];\n",
       "        var s = document.createElement('script');\n",
       "        s.src = url;\n",
       "        s.async = false;\n",
       "        s.onreadystatechange = s.onload = function() {\n",
       "          window._bokeh_is_loading--;\n",
       "          if (window._bokeh_is_loading === 0) {\n",
       "            console.log(\"Bokeh: all BokehJS libraries loaded\");\n",
       "            run_callbacks()\n",
       "          }\n",
       "        };\n",
       "        s.onerror = function() {\n",
       "          console.warn(\"failed to load library \" + url);\n",
       "        };\n",
       "        console.log(\"Bokeh: injecting script tag for BokehJS library: \", url);\n",
       "        document.getElementsByTagName(\"head\")[0].appendChild(s);\n",
       "      }\n",
       "    };var element = document.getElementById(\"6517f475-d3ac-4f72-bb38-3a83ab22d77e\");\n",
       "    if (element == null) {\n",
       "      console.log(\"Bokeh: ERROR: autoload.js configured with elementid '6517f475-d3ac-4f72-bb38-3a83ab22d77e' but no matching script tag was found. \")\n",
       "      return false;\n",
       "    }\n",
       "  \n",
       "    var js_urls = [];\n",
       "  \n",
       "    var inline_js = [\n",
       "      function(Bokeh) {\n",
       "        Bokeh.$(function() {\n",
       "            var docs_json = {\"7da32ec1-4856-4d8e-a478-0281670b51bf\":{\"roots\":{\"references\":[{\"attributes\":{\"line_color\":{\"value\":\"#1f77b4\"},\"x\":{\"field\":\"x\"},\"y\":{\"field\":\"y\"}},\"id\":\"c21d6e55-f91a-4f50-870a-b591e2de551e\",\"type\":\"Line\"},{\"attributes\":{\"formatter\":{\"id\":\"277becb2-6559-429e-a44d-2b455e084483\",\"type\":\"BasicTickFormatter\"},\"plot\":{\"id\":\"931c06a7-96a6-485d-9d05-e551cfe5717f\",\"subtype\":\"Figure\",\"type\":\"Plot\"},\"ticker\":{\"id\":\"3f2cb93b-c26a-4f4e-aaf2-401da235a4b1\",\"type\":\"BasicTicker\"}},\"id\":\"3e467e82-0af3-4a27-bbee-0794f7ba5412\",\"type\":\"LinearAxis\"},{\"attributes\":{\"callback\":null,\"end\":8.5,\"start\":-0.5},\"id\":\"ef0bde1f-01e2-4c8c-8f5e-72f809c2422f\",\"type\":\"Range1d\"},{\"attributes\":{\"plot\":{\"id\":\"931c06a7-96a6-485d-9d05-e551cfe5717f\",\"subtype\":\"Figure\",\"type\":\"Plot\"}},\"id\":\"50bf15b6-fae6-454f-a7db-6c68bac70cea\",\"type\":\"WheelZoomTool\"},{\"attributes\":{\"plot\":{\"id\":\"931c06a7-96a6-485d-9d05-e551cfe5717f\",\"subtype\":\"Figure\",\"type\":\"Plot\"}},\"id\":\"a5a7cfbb-1f3c-4ba4-ad62-a226f5770bc3\",\"type\":\"ResetTool\"},{\"attributes\":{\"plot\":{\"id\":\"931c06a7-96a6-485d-9d05-e551cfe5717f\",\"subtype\":\"Figure\",\"type\":\"Plot\"}},\"id\":\"5a78853f-bb52-4f40-930a-db8e61311565\",\"type\":\"HelpTool\"},{\"attributes\":{},\"id\":\"3f2cb93b-c26a-4f4e-aaf2-401da235a4b1\",\"type\":\"BasicTicker\"},{\"attributes\":{\"plot\":null,\"text\":null},\"id\":\"a5fd3c97-edfe-48bc-b45f-f7d6d319b4b9\",\"type\":\"Title\"},{\"attributes\":{},\"id\":\"5f0b1587-b0ee-460f-b277-5eb2cf104a4e\",\"type\":\"BasicTicker\"},{\"attributes\":{\"dimension\":1,\"plot\":{\"id\":\"931c06a7-96a6-485d-9d05-e551cfe5717f\",\"subtype\":\"Figure\",\"type\":\"Plot\"},\"ticker\":{\"id\":\"3f2cb93b-c26a-4f4e-aaf2-401da235a4b1\",\"type\":\"BasicTicker\"}},\"id\":\"1fc3f1a8-a40c-4cef-8e48-55608bee7f57\",\"type\":\"Grid\"},{\"attributes\":{\"overlay\":{\"id\":\"77116aa5-04a1-4699-9eac-f3ddc52b10d9\",\"type\":\"BoxAnnotation\"},\"plot\":{\"id\":\"931c06a7-96a6-485d-9d05-e551cfe5717f\",\"subtype\":\"Figure\",\"type\":\"Plot\"}},\"id\":\"f152d79a-5696-41b4-bf91-83e42da9d9aa\",\"type\":\"BoxZoomTool\"},{\"attributes\":{\"below\":[{\"id\":\"2769db19-3d6d-40a0-bef1-bec44c8608a7\",\"type\":\"LinearAxis\"}],\"left\":[{\"id\":\"3e467e82-0af3-4a27-bbee-0794f7ba5412\",\"type\":\"LinearAxis\"}],\"plot_height\":400,\"plot_width\":900,\"renderers\":[{\"id\":\"2769db19-3d6d-40a0-bef1-bec44c8608a7\",\"type\":\"LinearAxis\"},{\"id\":\"04530957-0d94-4124-b668-5111f7a17e76\",\"type\":\"Grid\"},{\"id\":\"3e467e82-0af3-4a27-bbee-0794f7ba5412\",\"type\":\"LinearAxis\"},{\"id\":\"1fc3f1a8-a40c-4cef-8e48-55608bee7f57\",\"type\":\"Grid\"},{\"id\":\"77116aa5-04a1-4699-9eac-f3ddc52b10d9\",\"type\":\"BoxAnnotation\"},{\"id\":\"eb16d660-5be2-4c76-8c8e-ff40806e0cdd\",\"type\":\"GlyphRenderer\"}],\"title\":{\"id\":\"a5fd3c97-edfe-48bc-b45f-f7d6d319b4b9\",\"type\":\"Title\"},\"tool_events\":{\"id\":\"8fb579c4-b5b7-44a3-a31c-78d59453b3ae\",\"type\":\"ToolEvents\"},\"toolbar\":{\"id\":\"87056905-0f43-48f4-b326-f071da87a30b\",\"type\":\"Toolbar\"},\"toolbar_location\":null,\"x_range\":{\"id\":\"ef0bde1f-01e2-4c8c-8f5e-72f809c2422f\",\"type\":\"Range1d\"},\"y_range\":{\"id\":\"5013314d-a7e0-4d46-8f3f-4afaaf6a0359\",\"type\":\"Range1d\"}},\"id\":\"931c06a7-96a6-485d-9d05-e551cfe5717f\",\"subtype\":\"Figure\",\"type\":\"Plot\"},{\"attributes\":{\"callback\":null,\"end\":86.9},\"id\":\"5013314d-a7e0-4d46-8f3f-4afaaf6a0359\",\"type\":\"Range1d\"},{\"attributes\":{},\"id\":\"8fb579c4-b5b7-44a3-a31c-78d59453b3ae\",\"type\":\"ToolEvents\"},{\"attributes\":{\"formatter\":{\"id\":\"db517850-6168-4d00-a17c-57f4a4957778\",\"type\":\"BasicTickFormatter\"},\"plot\":{\"id\":\"931c06a7-96a6-485d-9d05-e551cfe5717f\",\"subtype\":\"Figure\",\"type\":\"Plot\"},\"ticker\":{\"id\":\"5f0b1587-b0ee-460f-b277-5eb2cf104a4e\",\"type\":\"BasicTicker\"}},\"id\":\"2769db19-3d6d-40a0-bef1-bec44c8608a7\",\"type\":\"LinearAxis\"},{\"attributes\":{\"bottom_units\":\"screen\",\"fill_alpha\":{\"value\":0.5},\"fill_color\":{\"value\":\"lightgrey\"},\"left_units\":\"screen\",\"level\":\"overlay\",\"line_alpha\":{\"value\":1.0},\"line_color\":{\"value\":\"black\"},\"line_dash\":[4,4],\"line_width\":{\"value\":2},\"plot\":null,\"render_mode\":\"css\",\"right_units\":\"screen\",\"top_units\":\"screen\"},\"id\":\"77116aa5-04a1-4699-9eac-f3ddc52b10d9\",\"type\":\"BoxAnnotation\"},{\"attributes\":{\"plot\":{\"id\":\"931c06a7-96a6-485d-9d05-e551cfe5717f\",\"subtype\":\"Figure\",\"type\":\"Plot\"}},\"id\":\"95d4b60b-f72e-4d61-82f8-de78259cebe1\",\"type\":\"SaveTool\"},{\"attributes\":{\"plot\":{\"id\":\"931c06a7-96a6-485d-9d05-e551cfe5717f\",\"subtype\":\"Figure\",\"type\":\"Plot\"}},\"id\":\"4e6005a7-4e44-45a6-9d0a-d5af300d8a19\",\"type\":\"PanTool\"},{\"attributes\":{\"line_alpha\":{\"value\":0.1},\"line_color\":{\"value\":\"#1f77b4\"},\"x\":{\"field\":\"x\"},\"y\":{\"field\":\"y\"}},\"id\":\"83b12573-9d23-4cf7-b591-b5ae50f263f6\",\"type\":\"Line\"},{\"attributes\":{\"active_drag\":\"auto\",\"active_scroll\":\"auto\",\"active_tap\":\"auto\",\"tools\":[{\"id\":\"4e6005a7-4e44-45a6-9d0a-d5af300d8a19\",\"type\":\"PanTool\"},{\"id\":\"50bf15b6-fae6-454f-a7db-6c68bac70cea\",\"type\":\"WheelZoomTool\"},{\"id\":\"f152d79a-5696-41b4-bf91-83e42da9d9aa\",\"type\":\"BoxZoomTool\"},{\"id\":\"95d4b60b-f72e-4d61-82f8-de78259cebe1\",\"type\":\"SaveTool\"},{\"id\":\"a5a7cfbb-1f3c-4ba4-ad62-a226f5770bc3\",\"type\":\"ResetTool\"},{\"id\":\"5a78853f-bb52-4f40-930a-db8e61311565\",\"type\":\"HelpTool\"}]},\"id\":\"87056905-0f43-48f4-b326-f071da87a30b\",\"type\":\"Toolbar\"},{\"attributes\":{\"data_source\":{\"id\":\"ce0f7283-5c52-4938-a8e1-2a6f97b1addd\",\"type\":\"ColumnDataSource\"},\"glyph\":{\"id\":\"c21d6e55-f91a-4f50-870a-b591e2de551e\",\"type\":\"Line\"},\"hover_glyph\":null,\"nonselection_glyph\":{\"id\":\"83b12573-9d23-4cf7-b591-b5ae50f263f6\",\"type\":\"Line\"},\"selection_glyph\":null},\"id\":\"eb16d660-5be2-4c76-8c8e-ff40806e0cdd\",\"type\":\"GlyphRenderer\"},{\"attributes\":{\"callback\":null,\"column_names\":[\"y\",\"x\"],\"data\":{\"x\":[-0.5,-0.5,4.5,4.5,5.5,5.5,6.5,6.5,7.5,7.5],\"y\":[0.0,0.0,0.0,11.0,11.0,0.0,0.0,79.0,79.0,0.0]}},\"id\":\"ce0f7283-5c52-4938-a8e1-2a6f97b1addd\",\"type\":\"ColumnDataSource\"},{\"attributes\":{\"plot\":{\"id\":\"931c06a7-96a6-485d-9d05-e551cfe5717f\",\"subtype\":\"Figure\",\"type\":\"Plot\"},\"ticker\":{\"id\":\"5f0b1587-b0ee-460f-b277-5eb2cf104a4e\",\"type\":\"BasicTicker\"}},\"id\":\"04530957-0d94-4124-b668-5111f7a17e76\",\"type\":\"Grid\"},{\"attributes\":{},\"id\":\"277becb2-6559-429e-a44d-2b455e084483\",\"type\":\"BasicTickFormatter\"},{\"attributes\":{},\"id\":\"db517850-6168-4d00-a17c-57f4a4957778\",\"type\":\"BasicTickFormatter\"}],\"root_ids\":[\"931c06a7-96a6-485d-9d05-e551cfe5717f\"]},\"title\":\"Bokeh Application\",\"version\":\"0.12.0\"}};\n",
       "            var render_items = [{\"docid\":\"7da32ec1-4856-4d8e-a478-0281670b51bf\",\"elementid\":\"6517f475-d3ac-4f72-bb38-3a83ab22d77e\",\"modelid\":\"931c06a7-96a6-485d-9d05-e551cfe5717f\",\"notebook_comms_target\":\"e144f859-1967-4e56-82ab-a8a05a629b37\"}];\n",
       "            \n",
       "            Bokeh.embed.embed_items(docs_json, render_items);\n",
       "        });\n",
       "      },\n",
       "      function(Bokeh) {\n",
       "      }\n",
       "    ];\n",
       "  \n",
       "    function run_inline_js() {\n",
       "      for (var i = 0; i < inline_js.length; i++) {\n",
       "        inline_js[i](window.Bokeh);\n",
       "      }\n",
       "    }\n",
       "  \n",
       "    if (window._bokeh_is_loading === 0) {\n",
       "      console.log(\"Bokeh: BokehJS loaded, going straight to plotting\");\n",
       "      run_inline_js();\n",
       "    } else {\n",
       "      load_libs(js_urls, function() {\n",
       "        console.log(\"Bokeh: BokehJS plotting callback run at\", now());\n",
       "        run_inline_js();\n",
       "      });\n",
       "    }\n",
       "  }(this));\n",
       "</script>"
      ]
     },
     "metadata": {},
     "output_type": "display_data"
    },
    {
     "data": {
      "text/html": [
       "<p><code>&lt;Bokeh Notebook handle for <strong>In[24]</strong>&gt;</code></p>"
      ],
      "text/plain": [
       "<bokeh.io._CommsHandle at 0x7f664c8a8410>"
      ]
     },
     "execution_count": 24,
     "metadata": {},
     "output_type": "execute_result"
    }
   ],
   "source": [
    "count_data = sa_9_944.unique_snps_per_allele(am_4_815_5_684)\n",
    "plt_obj = smcp(count_data)\n",
    "plt = plt_obj.do_plot()\n",
    "show(plt)"
   ]
  },
  {
   "cell_type": "code",
   "execution_count": 25,
   "metadata": {
    "collapsed": false
   },
   "outputs": [
    {
     "data": {
      "text/plain": [
       "array([(5, 11), (7, 79)], \n",
       "      dtype=[('count', '<u2'), ('snps', '<u2')])"
      ]
     },
     "execution_count": 25,
     "metadata": {},
     "output_type": "execute_result"
    }
   ],
   "source": [
    "count_data"
   ]
  },
  {
   "cell_type": "code",
   "execution_count": 26,
   "metadata": {
    "collapsed": false
   },
   "outputs": [
    {
     "data": {
      "text/plain": [
       "array([(0, 0), (1, 0), (2, 79), (3, 79), (4, 79), (5, 79), (6, 79),\n",
       "       (7, 79), (8, 79)], \n",
       "      dtype=[('index', '<u2'), ('snp_count', '<u2')])"
      ]
     },
     "execution_count": 26,
     "metadata": {},
     "output_type": "execute_result"
    }
   ],
   "source": [
    "tf = snp_anal.series_fragment_finder_cls(sa_9_944, am_4_815_5_684)\n",
    "tf.max_snps_alleles_per_snp"
   ]
  },
  {
   "cell_type": "code",
   "execution_count": 27,
   "metadata": {
    "collapsed": true
   },
   "outputs": [],
   "source": [
    "am_4_815_5_684_32_1361 = dm.yes_allele_mask_and_indexes(am_4_815_5_684, [dm.di_32_1361])"
   ]
  },
  {
   "cell_type": "code",
   "execution_count": 28,
   "metadata": {
    "collapsed": false
   },
   "outputs": [
    {
     "data": {
      "text/html": [
       "\n",
       "\n",
       "    <div class=\"bk-root\">\n",
       "        <div class=\"plotdiv\" id=\"cc5fa347-ba21-4b85-90df-a89bdaa5e049\"></div>\n",
       "    </div>\n",
       "<script type=\"text/javascript\">\n",
       "  \n",
       "  (function(global) {\n",
       "    function now() {\n",
       "      return new Date();\n",
       "    }\n",
       "  \n",
       "    if (typeof (window._bokeh_onload_callbacks) === \"undefined\") {\n",
       "      window._bokeh_onload_callbacks = [];\n",
       "    }\n",
       "  \n",
       "    function run_callbacks() {\n",
       "      window._bokeh_onload_callbacks.forEach(function(callback) { callback() });\n",
       "      delete window._bokeh_onload_callbacks\n",
       "      console.info(\"Bokeh: all callbacks have finished\");\n",
       "    }\n",
       "  \n",
       "    function load_libs(js_urls, callback) {\n",
       "      window._bokeh_onload_callbacks.push(callback);\n",
       "      if (window._bokeh_is_loading > 0) {\n",
       "        console.log(\"Bokeh: BokehJS is being loaded, scheduling callback at\", now());\n",
       "        return null;\n",
       "      }\n",
       "      if (js_urls == null || js_urls.length === 0) {\n",
       "        run_callbacks();\n",
       "        return null;\n",
       "      }\n",
       "      console.log(\"Bokeh: BokehJS not loaded, scheduling load and callback at\", now());\n",
       "      window._bokeh_is_loading = js_urls.length;\n",
       "      for (var i = 0; i < js_urls.length; i++) {\n",
       "        var url = js_urls[i];\n",
       "        var s = document.createElement('script');\n",
       "        s.src = url;\n",
       "        s.async = false;\n",
       "        s.onreadystatechange = s.onload = function() {\n",
       "          window._bokeh_is_loading--;\n",
       "          if (window._bokeh_is_loading === 0) {\n",
       "            console.log(\"Bokeh: all BokehJS libraries loaded\");\n",
       "            run_callbacks()\n",
       "          }\n",
       "        };\n",
       "        s.onerror = function() {\n",
       "          console.warn(\"failed to load library \" + url);\n",
       "        };\n",
       "        console.log(\"Bokeh: injecting script tag for BokehJS library: \", url);\n",
       "        document.getElementsByTagName(\"head\")[0].appendChild(s);\n",
       "      }\n",
       "    };var element = document.getElementById(\"cc5fa347-ba21-4b85-90df-a89bdaa5e049\");\n",
       "    if (element == null) {\n",
       "      console.log(\"Bokeh: ERROR: autoload.js configured with elementid 'cc5fa347-ba21-4b85-90df-a89bdaa5e049' but no matching script tag was found. \")\n",
       "      return false;\n",
       "    }\n",
       "  \n",
       "    var js_urls = [];\n",
       "  \n",
       "    var inline_js = [\n",
       "      function(Bokeh) {\n",
       "        Bokeh.$(function() {\n",
       "            var docs_json = {\"bd604938-5307-4e4b-b680-5dd8f2e27375\":{\"roots\":{\"references\":[{\"attributes\":{},\"id\":\"49412d9a-327f-4a4a-a1ad-fa035e6ccb3c\",\"type\":\"BasicTickFormatter\"},{\"attributes\":{\"overlay\":{\"id\":\"c3fa23a0-82bd-4d74-9e81-af97a3580309\",\"type\":\"BoxAnnotation\"},\"plot\":{\"id\":\"9bee50f5-7cd4-4077-bd84-51f8b46e3d35\",\"subtype\":\"Figure\",\"type\":\"Plot\"}},\"id\":\"25eea4a2-acc3-4ba3-a27e-cfd3c1bc775c\",\"type\":\"BoxZoomTool\"},{\"attributes\":{\"formatter\":{\"id\":\"60c7dec6-b9a6-4cea-a066-5b0a759ce6bf\",\"type\":\"BasicTickFormatter\"},\"plot\":{\"id\":\"9bee50f5-7cd4-4077-bd84-51f8b46e3d35\",\"subtype\":\"Figure\",\"type\":\"Plot\"},\"ticker\":{\"id\":\"5302ad8c-d6d4-4a75-a40e-c773d1769e9a\",\"type\":\"BasicTicker\"}},\"id\":\"3f364ff7-2e10-471b-94a2-45c7db76c847\",\"type\":\"LinearAxis\"},{\"attributes\":{\"plot\":{\"id\":\"9bee50f5-7cd4-4077-bd84-51f8b46e3d35\",\"subtype\":\"Figure\",\"type\":\"Plot\"}},\"id\":\"71089da1-4854-4a49-a7d5-708596e17535\",\"type\":\"ResetTool\"},{\"attributes\":{\"plot\":{\"id\":\"9bee50f5-7cd4-4077-bd84-51f8b46e3d35\",\"subtype\":\"Figure\",\"type\":\"Plot\"},\"ticker\":{\"id\":\"a42d4b5a-26d0-4f59-b4cf-1791a09a6840\",\"type\":\"BasicTicker\"}},\"id\":\"5921465b-2342-4be2-900f-9829eedbc7ce\",\"type\":\"Grid\"},{\"attributes\":{},\"id\":\"233cf266-2e70-41b9-bf79-b86ef6f38ac4\",\"type\":\"ToolEvents\"},{\"attributes\":{\"formatter\":{\"id\":\"49412d9a-327f-4a4a-a1ad-fa035e6ccb3c\",\"type\":\"BasicTickFormatter\"},\"plot\":{\"id\":\"9bee50f5-7cd4-4077-bd84-51f8b46e3d35\",\"subtype\":\"Figure\",\"type\":\"Plot\"},\"ticker\":{\"id\":\"a42d4b5a-26d0-4f59-b4cf-1791a09a6840\",\"type\":\"BasicTicker\"}},\"id\":\"1c71f396-20ce-49f2-9da0-1bf694740561\",\"type\":\"LinearAxis\"},{\"attributes\":{\"callback\":null,\"end\":8.5,\"start\":-0.5},\"id\":\"41eecf54-40dc-47e5-8f9d-1fd87678604d\",\"type\":\"Range1d\"},{\"attributes\":{\"active_drag\":\"auto\",\"active_scroll\":\"auto\",\"active_tap\":\"auto\",\"tools\":[{\"id\":\"26274184-9882-447c-9e23-20fc11d0d488\",\"type\":\"PanTool\"},{\"id\":\"9fde6ed5-9ce1-41d9-9379-6a59aba468ed\",\"type\":\"WheelZoomTool\"},{\"id\":\"25eea4a2-acc3-4ba3-a27e-cfd3c1bc775c\",\"type\":\"BoxZoomTool\"},{\"id\":\"95214df2-82e1-4e8c-bc15-386e827379b3\",\"type\":\"SaveTool\"},{\"id\":\"71089da1-4854-4a49-a7d5-708596e17535\",\"type\":\"ResetTool\"},{\"id\":\"d0af511a-7293-4a59-ba01-79d6a30a1e73\",\"type\":\"HelpTool\"}]},\"id\":\"1876aa29-0c98-4cbe-89dc-7c579f9b1126\",\"type\":\"Toolbar\"},{\"attributes\":{},\"id\":\"60c7dec6-b9a6-4cea-a066-5b0a759ce6bf\",\"type\":\"BasicTickFormatter\"},{\"attributes\":{},\"id\":\"5302ad8c-d6d4-4a75-a40e-c773d1769e9a\",\"type\":\"BasicTicker\"},{\"attributes\":{\"callback\":null,\"end\":86.9},\"id\":\"5f93310d-3056-47ec-81a0-b9dd57630833\",\"type\":\"Range1d\"},{\"attributes\":{\"plot\":{\"id\":\"9bee50f5-7cd4-4077-bd84-51f8b46e3d35\",\"subtype\":\"Figure\",\"type\":\"Plot\"}},\"id\":\"26274184-9882-447c-9e23-20fc11d0d488\",\"type\":\"PanTool\"},{\"attributes\":{\"callback\":null,\"column_names\":[\"y\",\"x\"],\"data\":{\"x\":[-0.5,-0.5,6.5,6.5,7.5,7.5],\"y\":[0.0,0.0,0.0,79.0,79.0,0.0]}},\"id\":\"3b1da20c-71eb-46aa-962b-223c89b07c7f\",\"type\":\"ColumnDataSource\"},{\"attributes\":{\"plot\":{\"id\":\"9bee50f5-7cd4-4077-bd84-51f8b46e3d35\",\"subtype\":\"Figure\",\"type\":\"Plot\"}},\"id\":\"d0af511a-7293-4a59-ba01-79d6a30a1e73\",\"type\":\"HelpTool\"},{\"attributes\":{\"bottom_units\":\"screen\",\"fill_alpha\":{\"value\":0.5},\"fill_color\":{\"value\":\"lightgrey\"},\"left_units\":\"screen\",\"level\":\"overlay\",\"line_alpha\":{\"value\":1.0},\"line_color\":{\"value\":\"black\"},\"line_dash\":[4,4],\"line_width\":{\"value\":2},\"plot\":null,\"render_mode\":\"css\",\"right_units\":\"screen\",\"top_units\":\"screen\"},\"id\":\"c3fa23a0-82bd-4d74-9e81-af97a3580309\",\"type\":\"BoxAnnotation\"},{\"attributes\":{\"plot\":{\"id\":\"9bee50f5-7cd4-4077-bd84-51f8b46e3d35\",\"subtype\":\"Figure\",\"type\":\"Plot\"}},\"id\":\"9fde6ed5-9ce1-41d9-9379-6a59aba468ed\",\"type\":\"WheelZoomTool\"},{\"attributes\":{\"line_alpha\":{\"value\":0.1},\"line_color\":{\"value\":\"#1f77b4\"},\"x\":{\"field\":\"x\"},\"y\":{\"field\":\"y\"}},\"id\":\"741cc2eb-2723-4f6f-9215-a6c297126d2c\",\"type\":\"Line\"},{\"attributes\":{\"line_color\":{\"value\":\"#1f77b4\"},\"x\":{\"field\":\"x\"},\"y\":{\"field\":\"y\"}},\"id\":\"e27ff67e-aeee-4673-9dfa-798e8c047e10\",\"type\":\"Line\"},{\"attributes\":{\"plot\":{\"id\":\"9bee50f5-7cd4-4077-bd84-51f8b46e3d35\",\"subtype\":\"Figure\",\"type\":\"Plot\"}},\"id\":\"95214df2-82e1-4e8c-bc15-386e827379b3\",\"type\":\"SaveTool\"},{\"attributes\":{\"plot\":null,\"text\":null},\"id\":\"5f3ca927-c746-419f-a465-082910a5afd6\",\"type\":\"Title\"},{\"attributes\":{\"below\":[{\"id\":\"1c71f396-20ce-49f2-9da0-1bf694740561\",\"type\":\"LinearAxis\"}],\"left\":[{\"id\":\"3f364ff7-2e10-471b-94a2-45c7db76c847\",\"type\":\"LinearAxis\"}],\"plot_height\":400,\"plot_width\":900,\"renderers\":[{\"id\":\"1c71f396-20ce-49f2-9da0-1bf694740561\",\"type\":\"LinearAxis\"},{\"id\":\"5921465b-2342-4be2-900f-9829eedbc7ce\",\"type\":\"Grid\"},{\"id\":\"3f364ff7-2e10-471b-94a2-45c7db76c847\",\"type\":\"LinearAxis\"},{\"id\":\"0e639494-bdec-44ee-8176-4c7102e7ff0e\",\"type\":\"Grid\"},{\"id\":\"c3fa23a0-82bd-4d74-9e81-af97a3580309\",\"type\":\"BoxAnnotation\"},{\"id\":\"aa1d52e6-ad50-417f-a861-989eb817978a\",\"type\":\"GlyphRenderer\"}],\"title\":{\"id\":\"5f3ca927-c746-419f-a465-082910a5afd6\",\"type\":\"Title\"},\"tool_events\":{\"id\":\"233cf266-2e70-41b9-bf79-b86ef6f38ac4\",\"type\":\"ToolEvents\"},\"toolbar\":{\"id\":\"1876aa29-0c98-4cbe-89dc-7c579f9b1126\",\"type\":\"Toolbar\"},\"toolbar_location\":null,\"x_range\":{\"id\":\"41eecf54-40dc-47e5-8f9d-1fd87678604d\",\"type\":\"Range1d\"},\"y_range\":{\"id\":\"5f93310d-3056-47ec-81a0-b9dd57630833\",\"type\":\"Range1d\"}},\"id\":\"9bee50f5-7cd4-4077-bd84-51f8b46e3d35\",\"subtype\":\"Figure\",\"type\":\"Plot\"},{\"attributes\":{\"dimension\":1,\"plot\":{\"id\":\"9bee50f5-7cd4-4077-bd84-51f8b46e3d35\",\"subtype\":\"Figure\",\"type\":\"Plot\"},\"ticker\":{\"id\":\"5302ad8c-d6d4-4a75-a40e-c773d1769e9a\",\"type\":\"BasicTicker\"}},\"id\":\"0e639494-bdec-44ee-8176-4c7102e7ff0e\",\"type\":\"Grid\"},{\"attributes\":{},\"id\":\"a42d4b5a-26d0-4f59-b4cf-1791a09a6840\",\"type\":\"BasicTicker\"},{\"attributes\":{\"data_source\":{\"id\":\"3b1da20c-71eb-46aa-962b-223c89b07c7f\",\"type\":\"ColumnDataSource\"},\"glyph\":{\"id\":\"e27ff67e-aeee-4673-9dfa-798e8c047e10\",\"type\":\"Line\"},\"hover_glyph\":null,\"nonselection_glyph\":{\"id\":\"741cc2eb-2723-4f6f-9215-a6c297126d2c\",\"type\":\"Line\"},\"selection_glyph\":null},\"id\":\"aa1d52e6-ad50-417f-a861-989eb817978a\",\"type\":\"GlyphRenderer\"}],\"root_ids\":[\"9bee50f5-7cd4-4077-bd84-51f8b46e3d35\"]},\"title\":\"Bokeh Application\",\"version\":\"0.12.0\"}};\n",
       "            var render_items = [{\"docid\":\"bd604938-5307-4e4b-b680-5dd8f2e27375\",\"elementid\":\"cc5fa347-ba21-4b85-90df-a89bdaa5e049\",\"modelid\":\"9bee50f5-7cd4-4077-bd84-51f8b46e3d35\",\"notebook_comms_target\":\"62380da7-03aa-4281-af3d-dc3ace3872e9\"}];\n",
       "            \n",
       "            Bokeh.embed.embed_items(docs_json, render_items);\n",
       "        });\n",
       "      },\n",
       "      function(Bokeh) {\n",
       "      }\n",
       "    ];\n",
       "  \n",
       "    function run_inline_js() {\n",
       "      for (var i = 0; i < inline_js.length; i++) {\n",
       "        inline_js[i](window.Bokeh);\n",
       "      }\n",
       "    }\n",
       "  \n",
       "    if (window._bokeh_is_loading === 0) {\n",
       "      console.log(\"Bokeh: BokehJS loaded, going straight to plotting\");\n",
       "      run_inline_js();\n",
       "    } else {\n",
       "      load_libs(js_urls, function() {\n",
       "        console.log(\"Bokeh: BokehJS plotting callback run at\", now());\n",
       "        run_inline_js();\n",
       "      });\n",
       "    }\n",
       "  }(this));\n",
       "</script>"
      ]
     },
     "metadata": {},
     "output_type": "display_data"
    },
    {
     "data": {
      "text/html": [
       "<p><code>&lt;Bokeh Notebook handle for <strong>In[28]</strong>&gt;</code></p>"
      ],
      "text/plain": [
       "<bokeh.io._CommsHandle at 0x7f664c8a8b90>"
      ]
     },
     "execution_count": 28,
     "metadata": {},
     "output_type": "execute_result"
    }
   ],
   "source": [
    "count_data = sa_9_944.unique_snps_per_allele(am_4_815_5_684_32_1361)\n",
    "plt_obj = smcp(count_data)\n",
    "plt = plt_obj.do_plot()\n",
    "show(plt)"
   ]
  },
  {
   "cell_type": "code",
   "execution_count": 29,
   "metadata": {
    "collapsed": false
   },
   "outputs": [
    {
     "data": {
      "text/plain": [
       "array([(7, 79)], \n",
       "      dtype=[('count', '<u2'), ('snps', '<u2')])"
      ]
     },
     "execution_count": 29,
     "metadata": {},
     "output_type": "execute_result"
    }
   ],
   "source": [
    "count_data"
   ]
  },
  {
   "cell_type": "code",
   "execution_count": 30,
   "metadata": {
    "collapsed": false
   },
   "outputs": [
    {
     "data": {
      "text/html": [
       "\n",
       "\n",
       "    <div class=\"bk-root\">\n",
       "        <div class=\"plotdiv\" id=\"76c0e4fa-7df8-4f57-80f0-197b467bff0d\"></div>\n",
       "    </div>\n",
       "<script type=\"text/javascript\">\n",
       "  \n",
       "  (function(global) {\n",
       "    function now() {\n",
       "      return new Date();\n",
       "    }\n",
       "  \n",
       "    if (typeof (window._bokeh_onload_callbacks) === \"undefined\") {\n",
       "      window._bokeh_onload_callbacks = [];\n",
       "    }\n",
       "  \n",
       "    function run_callbacks() {\n",
       "      window._bokeh_onload_callbacks.forEach(function(callback) { callback() });\n",
       "      delete window._bokeh_onload_callbacks\n",
       "      console.info(\"Bokeh: all callbacks have finished\");\n",
       "    }\n",
       "  \n",
       "    function load_libs(js_urls, callback) {\n",
       "      window._bokeh_onload_callbacks.push(callback);\n",
       "      if (window._bokeh_is_loading > 0) {\n",
       "        console.log(\"Bokeh: BokehJS is being loaded, scheduling callback at\", now());\n",
       "        return null;\n",
       "      }\n",
       "      if (js_urls == null || js_urls.length === 0) {\n",
       "        run_callbacks();\n",
       "        return null;\n",
       "      }\n",
       "      console.log(\"Bokeh: BokehJS not loaded, scheduling load and callback at\", now());\n",
       "      window._bokeh_is_loading = js_urls.length;\n",
       "      for (var i = 0; i < js_urls.length; i++) {\n",
       "        var url = js_urls[i];\n",
       "        var s = document.createElement('script');\n",
       "        s.src = url;\n",
       "        s.async = false;\n",
       "        s.onreadystatechange = s.onload = function() {\n",
       "          window._bokeh_is_loading--;\n",
       "          if (window._bokeh_is_loading === 0) {\n",
       "            console.log(\"Bokeh: all BokehJS libraries loaded\");\n",
       "            run_callbacks()\n",
       "          }\n",
       "        };\n",
       "        s.onerror = function() {\n",
       "          console.warn(\"failed to load library \" + url);\n",
       "        };\n",
       "        console.log(\"Bokeh: injecting script tag for BokehJS library: \", url);\n",
       "        document.getElementsByTagName(\"head\")[0].appendChild(s);\n",
       "      }\n",
       "    };var element = document.getElementById(\"76c0e4fa-7df8-4f57-80f0-197b467bff0d\");\n",
       "    if (element == null) {\n",
       "      console.log(\"Bokeh: ERROR: autoload.js configured with elementid '76c0e4fa-7df8-4f57-80f0-197b467bff0d' but no matching script tag was found. \")\n",
       "      return false;\n",
       "    }\n",
       "  \n",
       "    var js_urls = [];\n",
       "  \n",
       "    var inline_js = [\n",
       "      function(Bokeh) {\n",
       "        Bokeh.$(function() {\n",
       "            var docs_json = {\"36f21639-5e2c-4502-a78a-b382f08ca62e\":{\"roots\":{\"references\":[{\"attributes\":{},\"id\":\"ef6d0926-642c-4be6-971d-090825d78df2\",\"type\":\"BasicTicker\"},{\"attributes\":{\"callback\":null,\"end\":136786630,\"start\":135757320},\"id\":\"20ddebd5-ceae-406d-b78c-689f5e6977fa\",\"type\":\"Range1d\"},{\"attributes\":{\"dimension\":1,\"plot\":{\"id\":\"9edb44b6-8278-4642-8402-8a732b9eca13\",\"subtype\":\"Figure\",\"type\":\"Plot\"},\"ticker\":{\"id\":\"ef6d0926-642c-4be6-971d-090825d78df2\",\"type\":\"BasicTicker\"}},\"id\":\"a5e327b3-e32d-47a6-857a-d11a26b530dd\",\"type\":\"Grid\"},{\"attributes\":{\"callback\":null,\"column_names\":[\"right\",\"bottom\",\"top\",\"left\"],\"data\":{\"bottom\":[545,545,545,545,545,545,545],\"left\":[135809835,135957574,136289083,136499189,136545415,136597196,136664254],\"right\":[135928279,136288182,136482839,136542633,136594750,136634047,136743222],\"top\":[575,575,575,575,575,575,575]}},\"id\":\"17ce36c7-87f0-4800-9e87-894eab272b7c\",\"type\":\"ColumnDataSource\"},{\"attributes\":{\"formatter\":{\"id\":\"00a0ca89-2e11-4c60-8d55-3139438d38b5\",\"type\":\"BasicTickFormatter\"},\"plot\":{\"id\":\"9edb44b6-8278-4642-8402-8a732b9eca13\",\"subtype\":\"Figure\",\"type\":\"Plot\"},\"ticker\":{\"id\":\"ef6d0926-642c-4be6-971d-090825d78df2\",\"type\":\"BasicTicker\"},\"visible\":null},\"id\":\"10a4bde2-09e1-42c2-bd3a-9e052544d3b1\",\"type\":\"LinearAxis\"},{\"attributes\":{\"data_source\":{\"id\":\"814df87f-9173-4e0f-86c3-67054aee8d47\",\"type\":\"ColumnDataSource\"},\"glyph\":{\"id\":\"f5dff44c-f8f7-400c-b264-f85e3fb31f2f\",\"type\":\"Quad\"},\"hover_glyph\":null,\"nonselection_glyph\":{\"id\":\"5b8be67d-05b7-46c3-9043-eaf80cab275e\",\"type\":\"Quad\"},\"selection_glyph\":null},\"id\":\"a5ae6bcc-3779-4eb8-9b8d-cf84df4af617\",\"type\":\"GlyphRenderer\"},{\"attributes\":{\"callback\":null,\"column_names\":[\"y\",\"x\",\"vals\"],\"data\":{\"vals\":[\"RAB3GAP1\",\"ZRANB3\",\"R3HDM1\",\"UBXN4\",\"LCT\",\"MCM6\",\"DARS\"],\"x\":[135869057.0,136122878.0,136385961.0,136520911.0,136570082.5,136615621.5,136703738.0],\"y\":[560.0,560.0,560.0,560.0,560.0,560.0,560.0]}},\"id\":\"6732b214-46c4-4764-9dad-39673927e705\",\"type\":\"ColumnDataSource\"},{\"attributes\":{\"line_color\":{\"field\":\"line_color\"},\"xs\":{\"field\":\"xs\"},\"ys\":{\"field\":\"ys\"}},\"id\":\"55763778-b535-42c8-93ba-be275353d6dd\",\"type\":\"MultiLine\"},{\"attributes\":{\"active_drag\":\"auto\",\"active_scroll\":\"auto\",\"active_tap\":\"auto\",\"tools\":[{\"id\":\"56165fd2-da60-4bbd-99cd-df1cb5d8b658\",\"type\":\"PanTool\"},{\"id\":\"25b569c1-52d2-4c82-bc85-b50a3bb3aeac\",\"type\":\"WheelZoomTool\"},{\"id\":\"a5a0dadf-d370-4c4a-9515-1f9d13f064fe\",\"type\":\"BoxZoomTool\"},{\"id\":\"0cd66fab-2dc7-4cfe-9c90-e051ae911d96\",\"type\":\"SaveTool\"},{\"id\":\"ebbdc842-9307-4172-b5aa-59043e45c07d\",\"type\":\"ResetTool\"},{\"id\":\"9f013546-6d72-475a-b5a0-326204cbca2d\",\"type\":\"HelpTool\"}]},\"id\":\"96f43ee5-c8ef-42ce-ac4f-d1a718e827ec\",\"type\":\"Toolbar\"},{\"attributes\":{\"formatter\":{\"id\":\"f65e80fa-b7ca-45c1-bc3d-506f8fe26f8e\",\"type\":\"BasicTickFormatter\"},\"plot\":{\"id\":\"9edb44b6-8278-4642-8402-8a732b9eca13\",\"subtype\":\"Figure\",\"type\":\"Plot\"},\"ticker\":{\"id\":\"4b913e74-6ec8-448a-ae1d-c5842dfb6958\",\"type\":\"BasicTicker\"}},\"id\":\"49a901f8-c4a5-49ce-aa10-be9b49f9da88\",\"type\":\"LinearAxis\"},{\"attributes\":{\"level\":\"glyph\",\"plot\":{\"id\":\"9edb44b6-8278-4642-8402-8a732b9eca13\",\"subtype\":\"Figure\",\"type\":\"Plot\"},\"source\":{\"id\":\"6732b214-46c4-4764-9dad-39673927e705\",\"type\":\"ColumnDataSource\"},\"text\":{\"field\":\"vals\"},\"text_align\":\"center\",\"text_baseline\":\"middle\",\"text_font_size\":{\"value\":\"8pt\"},\"x\":{\"field\":\"x\"},\"y\":{\"field\":\"y\"}},\"id\":\"98d1ee77-1f96-4406-82ef-32de0c6fbc86\",\"type\":\"LabelSet\"},{\"attributes\":{},\"id\":\"00a0ca89-2e11-4c60-8d55-3139438d38b5\",\"type\":\"BasicTickFormatter\"},{\"attributes\":{},\"id\":\"f65e80fa-b7ca-45c1-bc3d-506f8fe26f8e\",\"type\":\"BasicTickFormatter\"},{\"attributes\":{\"callback\":null,\"column_names\":[\"xs\",\"ys\",\"line_color\"],\"data\":{\"line_color\":[\"black\",\"black\",\"black\",\"black\",\"black\",\"black\",\"black\",\"black\",\"black\",\"black\",\"black\",\"black\",\"black\",\"black\",\"black\",\"black\",\"black\",\"black\",\"black\",\"black\",\"black\",\"black\",\"black\",\"black\",\"black\",\"black\",\"black\",\"black\",\"black\",\"black\",\"black\",\"black\",\"black\",\"black\",\"black\",\"black\",\"black\",\"black\",\"black\",\"black\",\"black\",\"black\",\"black\",\"black\",\"black\",\"black\",\"black\",\"black\",\"black\",\"black\",\"black\",\"black\",\"black\",\"black\",\"black\",\"black\",\"black\",\"black\",\"black\",\"black\",\"black\",\"black\",\"black\",\"black\",\"black\",\"black\",\"black\",\"black\",\"black\",\"black\",\"black\",\"black\",\"black\",\"black\",\"black\",\"black\",\"black\",\"black\",\"black\",\"black\",\"black\",\"black\",\"black\",\"black\",\"black\",\"black\",\"black\",\"black\",\"black\",\"black\",\"black\",\"black\",\"black\",\"black\",\"black\",\"black\",\"black\",\"black\",\"black\"],\"xs\":[[135839805,135839805],[135866750,135866750],[135886744,135886744],[135924467,135924467],[135959272,135959272],[136149550,136149550],[136164840,136164840],[136313885,136313885],[136375855,136375855],[136403994,136403994],[136405878,136405878],[136409574,136409574],[136413225,136413225],[136418741,136418741],[136429088,136429088],[136432121,136432121],[136449305,136449305],[136451432,136451432],[136470978,136470978],[136472107,136472107],[136477100,136477100],[136485096,136485096],[136406646,136406646],[136408821,136408821],[136412472,136412472],[136416959,136416959],[136438078,136438078],[136447707,136447707],[136460324,136460324],[136472357,136472357],[136490266,136490266],[136496493,136496493],[136496639,136496639],[136496928,136496928],[136509573,136509573],[136511951,136511951],[136537057,136537057],[136546635,136546635],[136553438,136553438],[136553925,136553925],[136496805,136496805],[136496910,136496910],[136515859,136515859],[136515924,136515924],[136520186,136520186],[136524766,136524766],[136535364,136535364],[136536113,136536113],[136552629,136552629],[136511874,136511874],[136530248,136530248],[136530556,136530556],[136531252,136531252],[136533195,136533195],[136514709,136514709],[136516308,136516308],[136520100,136520100],[136521595,136521595],[136523045,136523045],[136543147,136543147],[136556805,136556805],[136560003,136560003],[136562472,136562472],[136563248,136563248],[136565328,136565328],[136570613,136570613],[136571982,136571982],[136574305,136574305],[136578040,136578040],[136578194,136578194],[136580398,136580398],[136586828,136586828],[136590558,136590558],[136592309,136592309],[136593541,136593541],[136593694,136593694],[136595426,136595426],[136615222,136615222],[136624919,136624919],[136626004,136626004],[136628380,136628380],[136636909,136636909],[136637350,136637350],[136637622,136637622],[136639487,136639487],[136646900,136646900],[136652093,136652093],[136652859,136652859],[136655620,136655620],[136667896,136667896],[136671801,136671801],[136677192,136677192],[136683293,136683293],[136704414,136704414],[136720344,136720344],[136731066,136731066],[136733897,136733897],[136743490,136743490],[136747085,136747085]],\"ys\":[[50,90],[50,90],[50,90],[50,90],[50,88],[50,88],[50,88],[50,88],[50,88],[150,190],[150,190],[150,190],[150,190],[150,190],[150,190],[150,190],[150,190],[150,190],[150,190],[150,190],[150,190],[150,190],[450,495],[450,495],[450,495],[450,495],[450,495],[350,392],[350,392],[350,392],[350,392],[450,493],[450,493],[450,493],[450,493],[450,493],[450,493],[450,493],[450,493],[450,493],[250,291],[250,291],[250,291],[250,291],[250,291],[250,291],[250,291],[250,291],[250,291],[150,191],[150,191],[150,191],[150,191],[150,191],[50,90],[50,90],[50,90],[50,90],[50,90],[50,90],[250,291],[250,291],[250,291],[250,291],[250,291],[250,291],[250,291],[250,291],[250,291],[250,291],[250,291],[250,291],[250,291],[250,291],[250,291],[250,291],[250,291],[250,291],[250,291],[250,291],[250,291],[250,291],[250,291],[250,291],[250,291],[250,291],[250,291],[250,291],[250,291],[250,291],[250,291],[250,291],[250,291],[250,291],[250,291],[250,291],[250,291],[250,291],[250,291]]}},\"id\":\"f89e1ddc-33a4-4e52-81fe-d688d40c851f\",\"type\":\"ColumnDataSource\"},{\"attributes\":{\"plot\":{\"id\":\"9edb44b6-8278-4642-8402-8a732b9eca13\",\"subtype\":\"Figure\",\"type\":\"Plot\"}},\"id\":\"ebbdc842-9307-4172-b5aa-59043e45c07d\",\"type\":\"ResetTool\"},{\"attributes\":{\"plot\":{\"id\":\"9edb44b6-8278-4642-8402-8a732b9eca13\",\"subtype\":\"Figure\",\"type\":\"Plot\"},\"ticker\":{\"id\":\"4b913e74-6ec8-448a-ae1d-c5842dfb6958\",\"type\":\"BasicTicker\"}},\"id\":\"7126b705-26c6-4109-b35e-e7885812551c\",\"type\":\"Grid\"},{\"attributes\":{\"plot\":null,\"text\":null},\"id\":\"4a505ef7-6661-49e3-ace8-0b72a2a4b06a\",\"type\":\"Title\"},{\"attributes\":{\"bottom\":{\"field\":\"bottom\"},\"fill_color\":{\"field\":\"fill_color\"},\"left\":{\"field\":\"left\"},\"line_color\":{\"value\":null},\"right\":{\"field\":\"right\"},\"top\":{\"field\":\"top\"}},\"id\":\"f5dff44c-f8f7-400c-b264-f85e3fb31f2f\",\"type\":\"Quad\"},{\"attributes\":{\"plot\":{\"id\":\"9edb44b6-8278-4642-8402-8a732b9eca13\",\"subtype\":\"Figure\",\"type\":\"Plot\"}},\"id\":\"9f013546-6d72-475a-b5a0-326204cbca2d\",\"type\":\"HelpTool\"},{\"attributes\":{\"data_source\":{\"id\":\"17ce36c7-87f0-4800-9e87-894eab272b7c\",\"type\":\"ColumnDataSource\"},\"glyph\":{\"id\":\"99f1f85f-3609-4137-8be0-1ec6608d4e92\",\"type\":\"Quad\"},\"hover_glyph\":null,\"nonselection_glyph\":{\"id\":\"f23c7d25-2781-484a-ad06-62015c68d06f\",\"type\":\"Quad\"},\"selection_glyph\":null},\"id\":\"0e0e9f7f-c689-4b4b-a203-fd79b5d5c16a\",\"type\":\"GlyphRenderer\"},{\"attributes\":{\"callback\":null,\"column_names\":[\"right\",\"bottom\",\"top\",\"left\",\"fill_color\"],\"data\":{\"bottom\":[50,50,150,450,350,450,250,150,50,250],\"fill_color\":[\"#61c4c4\",\"#ffff00\",\"#61c4c4\",\"#808080\",\"#61c4c4\",\"#808080\",\"#61c4c4\",\"#808080\",\"#61c4c4\",\"#808080\"],\"left\":[135839805,135959272,136403994,136406646,136447707,136496493,136496805,136511874,136514709,136556805],\"right\":[135924467,136375855,136485096,136438078,136490266,136553925,136552629,136533195,136543147,136747085],\"top\":[90,88,190,495,392,493,291,191,90,291]}},\"id\":\"814df87f-9173-4e0f-86c3-67054aee8d47\",\"type\":\"ColumnDataSource\"},{\"attributes\":{\"callback\":null,\"end\":600},\"id\":\"3dbfbfc2-5791-4ccc-aea8-d6069951482d\",\"type\":\"Range1d\"},{\"attributes\":{\"plot\":{\"id\":\"9edb44b6-8278-4642-8402-8a732b9eca13\",\"subtype\":\"Figure\",\"type\":\"Plot\"}},\"id\":\"0cd66fab-2dc7-4cfe-9c90-e051ae911d96\",\"type\":\"SaveTool\"},{\"attributes\":{\"overlay\":{\"id\":\"a046118d-0e45-478f-888b-c3d2065e0f66\",\"type\":\"BoxAnnotation\"},\"plot\":{\"id\":\"9edb44b6-8278-4642-8402-8a732b9eca13\",\"subtype\":\"Figure\",\"type\":\"Plot\"}},\"id\":\"a5a0dadf-d370-4c4a-9515-1f9d13f064fe\",\"type\":\"BoxZoomTool\"},{\"attributes\":{},\"id\":\"4b913e74-6ec8-448a-ae1d-c5842dfb6958\",\"type\":\"BasicTicker\"},{\"attributes\":{\"below\":[{\"id\":\"49a901f8-c4a5-49ce-aa10-be9b49f9da88\",\"type\":\"LinearAxis\"}],\"left\":[{\"id\":\"10a4bde2-09e1-42c2-bd3a-9e052544d3b1\",\"type\":\"LinearAxis\"}],\"plot_width\":900,\"renderers\":[{\"id\":\"49a901f8-c4a5-49ce-aa10-be9b49f9da88\",\"type\":\"LinearAxis\"},{\"id\":\"7126b705-26c6-4109-b35e-e7885812551c\",\"type\":\"Grid\"},{\"id\":\"10a4bde2-09e1-42c2-bd3a-9e052544d3b1\",\"type\":\"LinearAxis\"},{\"id\":\"a5e327b3-e32d-47a6-857a-d11a26b530dd\",\"type\":\"Grid\"},{\"id\":\"a046118d-0e45-478f-888b-c3d2065e0f66\",\"type\":\"BoxAnnotation\"},{\"id\":\"a5ae6bcc-3779-4eb8-9b8d-cf84df4af617\",\"type\":\"GlyphRenderer\"},{\"id\":\"db5cea3b-9c5e-4dea-b9d6-eb30f2761968\",\"type\":\"GlyphRenderer\"},{\"id\":\"25abd8a5-c9c2-4c82-9fdf-308e88d848a1\",\"type\":\"LabelSet\"},{\"id\":\"0e0e9f7f-c689-4b4b-a203-fd79b5d5c16a\",\"type\":\"GlyphRenderer\"},{\"id\":\"98d1ee77-1f96-4406-82ef-32de0c6fbc86\",\"type\":\"LabelSet\"}],\"title\":{\"id\":\"4a505ef7-6661-49e3-ace8-0b72a2a4b06a\",\"type\":\"Title\"},\"tool_events\":{\"id\":\"c9b3611a-e06e-4a0b-8ab8-271c26bb5e9f\",\"type\":\"ToolEvents\"},\"toolbar\":{\"id\":\"96f43ee5-c8ef-42ce-ac4f-d1a718e827ec\",\"type\":\"Toolbar\"},\"toolbar_location\":null,\"x_range\":{\"id\":\"20ddebd5-ceae-406d-b78c-689f5e6977fa\",\"type\":\"Range1d\"},\"y_range\":{\"id\":\"3dbfbfc2-5791-4ccc-aea8-d6069951482d\",\"type\":\"Range1d\"}},\"id\":\"9edb44b6-8278-4642-8402-8a732b9eca13\",\"subtype\":\"Figure\",\"type\":\"Plot\"},{\"attributes\":{\"callback\":null,\"column_names\":[\"y\",\"x\",\"vals\"],\"data\":{\"vals\":[\"4_815\",\"5_684\",\"13_911\",\"5_1460\",\"4_1149\",\"9_1170\",\"9_1023\",\"5_976\",\"6_820\",\"39_1014\"],\"x\":[135839805,135959272,136403994,136406646,136447707,136496493,136496805,136511874,136514709,136556805],\"y\":[95.0,93.0,195.0,500.0,397.0,498.0,296.0,196.0,95.0,296.0]}},\"id\":\"b1157466-9e1f-4dc6-9b3d-b56660a93e19\",\"type\":\"ColumnDataSource\"},{\"attributes\":{\"plot\":{\"id\":\"9edb44b6-8278-4642-8402-8a732b9eca13\",\"subtype\":\"Figure\",\"type\":\"Plot\"}},\"id\":\"56165fd2-da60-4bbd-99cd-df1cb5d8b658\",\"type\":\"PanTool\"},{\"attributes\":{\"bottom\":{\"field\":\"bottom\"},\"fill_alpha\":{\"value\":0.1},\"fill_color\":{\"value\":\"#1f77b4\"},\"left\":{\"field\":\"left\"},\"line_alpha\":{\"value\":0.1},\"line_color\":{\"value\":\"#1f77b4\"},\"right\":{\"field\":\"right\"},\"top\":{\"field\":\"top\"}},\"id\":\"5b8be67d-05b7-46c3-9043-eaf80cab275e\",\"type\":\"Quad\"},{\"attributes\":{\"data_source\":{\"id\":\"f89e1ddc-33a4-4e52-81fe-d688d40c851f\",\"type\":\"ColumnDataSource\"},\"glyph\":{\"id\":\"55763778-b535-42c8-93ba-be275353d6dd\",\"type\":\"MultiLine\"},\"hover_glyph\":null,\"nonselection_glyph\":{\"id\":\"cfcea64c-d236-4cde-9ad4-f9a4d1bd6245\",\"type\":\"MultiLine\"},\"selection_glyph\":null},\"id\":\"db5cea3b-9c5e-4dea-b9d6-eb30f2761968\",\"type\":\"GlyphRenderer\"},{\"attributes\":{\"line_alpha\":{\"value\":0.1},\"line_color\":{\"value\":\"#1f77b4\"},\"xs\":{\"field\":\"xs\"},\"ys\":{\"field\":\"ys\"}},\"id\":\"cfcea64c-d236-4cde-9ad4-f9a4d1bd6245\",\"type\":\"MultiLine\"},{\"attributes\":{\"bottom\":{\"field\":\"bottom\"},\"fill_alpha\":{\"value\":0.1},\"fill_color\":{\"value\":\"#1f77b4\"},\"left\":{\"field\":\"left\"},\"line_alpha\":{\"value\":0.1},\"line_color\":{\"value\":\"#1f77b4\"},\"right\":{\"field\":\"right\"},\"top\":{\"field\":\"top\"}},\"id\":\"f23c7d25-2781-484a-ad06-62015c68d06f\",\"type\":\"Quad\"},{\"attributes\":{\"bottom_units\":\"screen\",\"fill_alpha\":{\"value\":0.5},\"fill_color\":{\"value\":\"lightgrey\"},\"left_units\":\"screen\",\"level\":\"overlay\",\"line_alpha\":{\"value\":1.0},\"line_color\":{\"value\":\"black\"},\"line_dash\":[4,4],\"line_width\":{\"value\":2},\"plot\":null,\"render_mode\":\"css\",\"right_units\":\"screen\",\"top_units\":\"screen\"},\"id\":\"a046118d-0e45-478f-888b-c3d2065e0f66\",\"type\":\"BoxAnnotation\"},{\"attributes\":{\"plot\":{\"id\":\"9edb44b6-8278-4642-8402-8a732b9eca13\",\"subtype\":\"Figure\",\"type\":\"Plot\"}},\"id\":\"25b569c1-52d2-4c82-bc85-b50a3bb3aeac\",\"type\":\"WheelZoomTool\"},{\"attributes\":{\"level\":\"glyph\",\"plot\":{\"id\":\"9edb44b6-8278-4642-8402-8a732b9eca13\",\"subtype\":\"Figure\",\"type\":\"Plot\"},\"source\":{\"id\":\"b1157466-9e1f-4dc6-9b3d-b56660a93e19\",\"type\":\"ColumnDataSource\"},\"text\":{\"field\":\"vals\"},\"text_font_size\":{\"value\":\"9pt\"},\"text_font_style\":\"bold\",\"x\":{\"field\":\"x\"},\"y\":{\"field\":\"y\"}},\"id\":\"25abd8a5-c9c2-4c82-9fdf-308e88d848a1\",\"type\":\"LabelSet\"},{\"attributes\":{\"bottom\":{\"field\":\"bottom\"},\"fill_color\":{\"value\":\"white\"},\"left\":{\"field\":\"left\"},\"right\":{\"field\":\"right\"},\"top\":{\"field\":\"top\"}},\"id\":\"99f1f85f-3609-4137-8be0-1ec6608d4e92\",\"type\":\"Quad\"},{\"attributes\":{},\"id\":\"c9b3611a-e06e-4a0b-8ab8-271c26bb5e9f\",\"type\":\"ToolEvents\"}],\"root_ids\":[\"9edb44b6-8278-4642-8402-8a732b9eca13\"]},\"title\":\"Bokeh Application\",\"version\":\"0.12.0\"}};\n",
       "            var render_items = [{\"docid\":\"36f21639-5e2c-4502-a78a-b382f08ca62e\",\"elementid\":\"76c0e4fa-7df8-4f57-80f0-197b467bff0d\",\"modelid\":\"9edb44b6-8278-4642-8402-8a732b9eca13\",\"notebook_comms_target\":\"457102db-44b6-4577-b4b2-cbaa7de47158\"}];\n",
       "            \n",
       "            Bokeh.embed.embed_items(docs_json, render_items);\n",
       "        });\n",
       "      },\n",
       "      function(Bokeh) {\n",
       "      }\n",
       "    ];\n",
       "  \n",
       "    function run_inline_js() {\n",
       "      for (var i = 0; i < inline_js.length; i++) {\n",
       "        inline_js[i](window.Bokeh);\n",
       "      }\n",
       "    }\n",
       "  \n",
       "    if (window._bokeh_is_loading === 0) {\n",
       "      console.log(\"Bokeh: BokehJS loaded, going straight to plotting\");\n",
       "      run_inline_js();\n",
       "    } else {\n",
       "      load_libs(js_urls, function() {\n",
       "        console.log(\"Bokeh: BokehJS plotting callback run at\", now());\n",
       "        run_inline_js();\n",
       "      });\n",
       "    }\n",
       "  }(this));\n",
       "</script>"
      ]
     },
     "metadata": {},
     "output_type": "display_data"
    },
    {
     "data": {
      "text/html": [
       "<p><code>&lt;Bokeh Notebook handle for <strong>In[30]</strong>&gt;</code></p>"
      ],
      "text/plain": [
       "<bokeh.io._CommsHandle at 0x7f664c75ab50>"
      ]
     },
     "execution_count": 30,
     "metadata": {},
     "output_type": "execute_result"
    }
   ],
   "source": [
    "am_4_815_5_684_not_32_1361 = dm.yes_allele_mask_not_and_indexes(am_4_815_5_684, [dm.di_32_1361])\n",
    "plt_obj = dm.superset_allele_mask(am_4_815_5_684_not_32_1361, min_match=0.8)\n",
    "plt = plt_obj.do_plot()\n",
    "show(plt)"
   ]
  },
  {
   "cell_type": "code",
   "execution_count": 31,
   "metadata": {
    "collapsed": false
   },
   "outputs": [
    {
     "data": {
      "text/html": [
       "<table>\n",
       "<thead><tr><th style=\"text-align:center\">index</th><th style=\"text-align:center\">first</th><th style=\"text-align:center\">length</th><th style=\"text-align:center\">snps</th><th style=\"text-align:center\" colspan=2>alleles</th><th style=\"text-align:center\" colspan=2>matches</th><th style=\"text-align:center\" colspan=2>afr</th><th style=\"text-align:center\" colspan=2>afx</th><th style=\"text-align:center\" colspan=2>amr</th><th style=\"text-align:center\" colspan=2>eas</th><th style=\"text-align:center\" colspan=2>eur</th><th style=\"text-align:center\" colspan=2>sas</th><th style=\"text-align:center\" colspan=2>sax</th></tr></thead>\n",
       "<tr class=\"even\"><td style=\"text-align: right;\">353814</td><td style=\"text-align: right;\">136,406,646</td><td style=\"text-align: right;\">31,432</td><td style=\"text-align: right;\">5</td><td style=\"text-align: right;\">1460</td><td style=\"text-align: right;\">0.01</td><td style=\"text-align: right;\">11</td><td style=\"text-align: right;\">1.00</td><td style=\"text-align: right;\">0</td><td style=\"text-align: right;\">0.00</td><td style=\"text-align: right;\">0</td><td style=\"text-align: right;\">0.00</td><td style=\"text-align: right;\">0</td><td style=\"text-align: right;\">0.00</td><td style=\"text-align: right;\">11</td><td style=\"text-align: right;\">4.97</td><td style=\"text-align: right;\">0</td><td style=\"text-align: right;\">0.00</td><td style=\"text-align: right;\">0</td><td style=\"text-align: right;\">0.00</td><td style=\"text-align: right;\">0</td><td style=\"text-align: right;\">0.00</td></tr>\n",
       "<tr><td style=\"text-align: right;\">353906</td><td style=\"text-align: right;\">136,496,493</td><td style=\"text-align: right;\">57,432</td><td style=\"text-align: right;\">9</td><td style=\"text-align: right;\">1170</td><td style=\"text-align: right;\">0.01</td><td style=\"text-align: right;\">10</td><td style=\"text-align: right;\">0.91</td><td style=\"text-align: right;\">0</td><td style=\"text-align: right;\">0.00</td><td style=\"text-align: right;\">0</td><td style=\"text-align: right;\">0.00</td><td style=\"text-align: right;\">0</td><td style=\"text-align: right;\">0.00</td><td style=\"text-align: right;\">10</td><td style=\"text-align: right;\">4.97</td><td style=\"text-align: right;\">0</td><td style=\"text-align: right;\">0.00</td><td style=\"text-align: right;\">0</td><td style=\"text-align: right;\">0.00</td><td style=\"text-align: right;\">0</td><td style=\"text-align: right;\">0.00</td></tr>\n",
       "<tr class=\"even\"><td style=\"text-align: right;\">353849</td><td style=\"text-align: right;\">136,447,707</td><td style=\"text-align: right;\">42,559</td><td style=\"text-align: right;\">4</td><td style=\"text-align: right;\">1149</td><td style=\"text-align: right;\">0.01</td><td style=\"text-align: right;\">11</td><td style=\"text-align: right;\">1.00</td><td style=\"text-align: right;\">0</td><td style=\"text-align: right;\">0.00</td><td style=\"text-align: right;\">0</td><td style=\"text-align: right;\">0.00</td><td style=\"text-align: right;\">0</td><td style=\"text-align: right;\">0.00</td><td style=\"text-align: right;\">11</td><td style=\"text-align: right;\">4.97</td><td style=\"text-align: right;\">0</td><td style=\"text-align: right;\">0.00</td><td style=\"text-align: right;\">0</td><td style=\"text-align: right;\">0.00</td><td style=\"text-align: right;\">0</td><td style=\"text-align: right;\">0.00</td></tr>\n",
       "<tr><td style=\"text-align: right;\">353907</td><td style=\"text-align: right;\">136,496,805</td><td style=\"text-align: right;\">55,824</td><td style=\"text-align: right;\">9</td><td style=\"text-align: right;\">1023</td><td style=\"text-align: right;\">0.01</td><td style=\"text-align: right;\">10</td><td style=\"text-align: right;\">0.91</td><td style=\"text-align: right;\">0</td><td style=\"text-align: right;\">0.00</td><td style=\"text-align: right;\">0</td><td style=\"text-align: right;\">0.00</td><td style=\"text-align: right;\">0</td><td style=\"text-align: right;\">0.00</td><td style=\"text-align: right;\">10</td><td style=\"text-align: right;\">4.97</td><td style=\"text-align: right;\">0</td><td style=\"text-align: right;\">0.00</td><td style=\"text-align: right;\">0</td><td style=\"text-align: right;\">0.00</td><td style=\"text-align: right;\">0</td><td style=\"text-align: right;\">0.00</td></tr>\n",
       "<tr class=\"even\"><td style=\"text-align: right;\">353984</td><td style=\"text-align: right;\">136,556,805</td><td style=\"text-align: right;\">190,280</td><td style=\"text-align: right;\">39</td><td style=\"text-align: right;\">1014</td><td style=\"text-align: right;\">0.01</td><td style=\"text-align: right;\">9</td><td style=\"text-align: right;\">0.82</td><td style=\"text-align: right;\">0</td><td style=\"text-align: right;\">0.00</td><td style=\"text-align: right;\">0</td><td style=\"text-align: right;\">0.00</td><td style=\"text-align: right;\">0</td><td style=\"text-align: right;\">0.00</td><td style=\"text-align: right;\">9</td><td style=\"text-align: right;\">4.97</td><td style=\"text-align: right;\">0</td><td style=\"text-align: right;\">0.00</td><td style=\"text-align: right;\">0</td><td style=\"text-align: right;\">0.00</td><td style=\"text-align: right;\">0</td><td style=\"text-align: right;\">0.00</td></tr>\n",
       "<tr><td style=\"text-align: right;\">353935</td><td style=\"text-align: right;\">136,511,874</td><td style=\"text-align: right;\">21,321</td><td style=\"text-align: right;\">5</td><td style=\"text-align: right;\">976</td><td style=\"text-align: right;\">0.01</td><td style=\"text-align: right;\">10</td><td style=\"text-align: right;\">0.91</td><td style=\"text-align: right;\">0</td><td style=\"text-align: right;\">0.00</td><td style=\"text-align: right;\">0</td><td style=\"text-align: right;\">0.00</td><td style=\"text-align: right;\">0</td><td style=\"text-align: right;\">0.00</td><td style=\"text-align: right;\">10</td><td style=\"text-align: right;\">4.97</td><td style=\"text-align: right;\">0</td><td style=\"text-align: right;\">0.00</td><td style=\"text-align: right;\">0</td><td style=\"text-align: right;\">0.00</td><td style=\"text-align: right;\">0</td><td style=\"text-align: right;\">0.00</td></tr>\n",
       "<tr class=\"even\"><td style=\"text-align: right;\">353807</td><td style=\"text-align: right;\">136,403,994</td><td style=\"text-align: right;\">81,102</td><td style=\"text-align: right;\">13</td><td style=\"text-align: right;\">911</td><td style=\"text-align: right;\">0.01</td><td style=\"text-align: right;\">11</td><td style=\"text-align: right;\">1.00</td><td style=\"text-align: right;\">0</td><td style=\"text-align: right;\">0.00</td><td style=\"text-align: right;\">0</td><td style=\"text-align: right;\">0.00</td><td style=\"text-align: right;\">0</td><td style=\"text-align: right;\">0.00</td><td style=\"text-align: right;\">11</td><td style=\"text-align: right;\">4.97</td><td style=\"text-align: right;\">0</td><td style=\"text-align: right;\">0.00</td><td style=\"text-align: right;\">0</td><td style=\"text-align: right;\">0.00</td><td style=\"text-align: right;\">0</td><td style=\"text-align: right;\">0.00</td></tr>\n",
       "<tr><td style=\"text-align: right;\">353938</td><td style=\"text-align: right;\">136,514,709</td><td style=\"text-align: right;\">28,438</td><td style=\"text-align: right;\">6</td><td style=\"text-align: right;\">820</td><td style=\"text-align: right;\">0.01</td><td style=\"text-align: right;\">10</td><td style=\"text-align: right;\">0.91</td><td style=\"text-align: right;\">0</td><td style=\"text-align: right;\">0.00</td><td style=\"text-align: right;\">0</td><td style=\"text-align: right;\">0.00</td><td style=\"text-align: right;\">0</td><td style=\"text-align: right;\">0.00</td><td style=\"text-align: right;\">10</td><td style=\"text-align: right;\">4.97</td><td style=\"text-align: right;\">0</td><td style=\"text-align: right;\">0.00</td><td style=\"text-align: right;\">0</td><td style=\"text-align: right;\">0.00</td><td style=\"text-align: right;\">0</td><td style=\"text-align: right;\">0.00</td></tr>\n",
       "<tr class=\"even\"><td style=\"text-align: right;\">353384</td><td style=\"text-align: right;\">135,839,805</td><td style=\"text-align: right;\">84,662</td><td style=\"text-align: right;\">4</td><td style=\"text-align: right;\">815</td><td style=\"text-align: right;\">0.01</td><td style=\"text-align: right;\">11</td><td style=\"text-align: right;\">1.00</td><td style=\"text-align: right;\">0</td><td style=\"text-align: right;\">0.00</td><td style=\"text-align: right;\">0</td><td style=\"text-align: right;\">0.00</td><td style=\"text-align: right;\">0</td><td style=\"text-align: right;\">0.00</td><td style=\"text-align: right;\">11</td><td style=\"text-align: right;\">4.97</td><td style=\"text-align: right;\">0</td><td style=\"text-align: right;\">0.00</td><td style=\"text-align: right;\">0</td><td style=\"text-align: right;\">0.00</td><td style=\"text-align: right;\">0</td><td style=\"text-align: right;\">0.00</td></tr>\n",
       "<tr><td style=\"text-align: right;\">353498</td><td style=\"text-align: right;\">135,959,272</td><td style=\"text-align: right;\">416,583</td><td style=\"text-align: right;\">5</td><td style=\"text-align: right;\">684</td><td style=\"text-align: right;\">0.02</td><td style=\"text-align: right;\">11</td><td style=\"text-align: right;\">1.00</td><td style=\"text-align: right;\">0</td><td style=\"text-align: right;\">0.00</td><td style=\"text-align: right;\">0</td><td style=\"text-align: right;\">0.00</td><td style=\"text-align: right;\">0</td><td style=\"text-align: right;\">0.00</td><td style=\"text-align: right;\">11</td><td style=\"text-align: right;\">4.97</td><td style=\"text-align: right;\">0</td><td style=\"text-align: right;\">0.00</td><td style=\"text-align: right;\">0</td><td style=\"text-align: right;\">0.00</td><td style=\"text-align: right;\">0</td><td style=\"text-align: right;\">0.00</td></tr>\n",
       "</table>"
      ],
      "text/plain": [
       "<IPython.core.display.HTML object>"
      ]
     },
     "execution_count": 31,
     "metadata": {},
     "output_type": "execute_result"
    }
   ],
   "source": [
    "HTML(plt_obj.get_html())"
   ]
  },
  {
   "cell_type": "code",
   "execution_count": 32,
   "metadata": {
    "collapsed": false
   },
   "outputs": [
    {
     "data": {
      "text/html": [
       "\n",
       "\n",
       "    <div class=\"bk-root\">\n",
       "        <div class=\"plotdiv\" id=\"5265c15a-8dc5-4d6e-bb9e-74ec18d82454\"></div>\n",
       "    </div>\n",
       "<script type=\"text/javascript\">\n",
       "  \n",
       "  (function(global) {\n",
       "    function now() {\n",
       "      return new Date();\n",
       "    }\n",
       "  \n",
       "    if (typeof (window._bokeh_onload_callbacks) === \"undefined\") {\n",
       "      window._bokeh_onload_callbacks = [];\n",
       "    }\n",
       "  \n",
       "    function run_callbacks() {\n",
       "      window._bokeh_onload_callbacks.forEach(function(callback) { callback() });\n",
       "      delete window._bokeh_onload_callbacks\n",
       "      console.info(\"Bokeh: all callbacks have finished\");\n",
       "    }\n",
       "  \n",
       "    function load_libs(js_urls, callback) {\n",
       "      window._bokeh_onload_callbacks.push(callback);\n",
       "      if (window._bokeh_is_loading > 0) {\n",
       "        console.log(\"Bokeh: BokehJS is being loaded, scheduling callback at\", now());\n",
       "        return null;\n",
       "      }\n",
       "      if (js_urls == null || js_urls.length === 0) {\n",
       "        run_callbacks();\n",
       "        return null;\n",
       "      }\n",
       "      console.log(\"Bokeh: BokehJS not loaded, scheduling load and callback at\", now());\n",
       "      window._bokeh_is_loading = js_urls.length;\n",
       "      for (var i = 0; i < js_urls.length; i++) {\n",
       "        var url = js_urls[i];\n",
       "        var s = document.createElement('script');\n",
       "        s.src = url;\n",
       "        s.async = false;\n",
       "        s.onreadystatechange = s.onload = function() {\n",
       "          window._bokeh_is_loading--;\n",
       "          if (window._bokeh_is_loading === 0) {\n",
       "            console.log(\"Bokeh: all BokehJS libraries loaded\");\n",
       "            run_callbacks()\n",
       "          }\n",
       "        };\n",
       "        s.onerror = function() {\n",
       "          console.warn(\"failed to load library \" + url);\n",
       "        };\n",
       "        console.log(\"Bokeh: injecting script tag for BokehJS library: \", url);\n",
       "        document.getElementsByTagName(\"head\")[0].appendChild(s);\n",
       "      }\n",
       "    };var element = document.getElementById(\"5265c15a-8dc5-4d6e-bb9e-74ec18d82454\");\n",
       "    if (element == null) {\n",
       "      console.log(\"Bokeh: ERROR: autoload.js configured with elementid '5265c15a-8dc5-4d6e-bb9e-74ec18d82454' but no matching script tag was found. \")\n",
       "      return false;\n",
       "    }\n",
       "  \n",
       "    var js_urls = [];\n",
       "  \n",
       "    var inline_js = [\n",
       "      function(Bokeh) {\n",
       "        Bokeh.$(function() {\n",
       "            var docs_json = {\"fcb2441b-b93f-4c8d-93c4-ff53b7c53a77\":{\"roots\":{\"references\":[{\"attributes\":{\"line_color\":{\"value\":\"#1f77b4\"},\"x\":{\"field\":\"x\"},\"y\":{\"field\":\"y\"}},\"id\":\"be4f768d-f215-4129-868d-57d22dfd8c45\",\"type\":\"Line\"},{\"attributes\":{\"plot\":null,\"text\":null},\"id\":\"d41ce4fd-75c3-44ed-b897-96171bdd1619\",\"type\":\"Title\"},{\"attributes\":{\"bottom_units\":\"screen\",\"fill_alpha\":{\"value\":0.5},\"fill_color\":{\"value\":\"lightgrey\"},\"left_units\":\"screen\",\"level\":\"overlay\",\"line_alpha\":{\"value\":1.0},\"line_color\":{\"value\":\"black\"},\"line_dash\":[4,4],\"line_width\":{\"value\":2},\"plot\":null,\"render_mode\":\"css\",\"right_units\":\"screen\",\"top_units\":\"screen\"},\"id\":\"eb3e182d-d05d-483b-b9e5-5b51baeba6cc\",\"type\":\"BoxAnnotation\"},{\"attributes\":{\"plot\":{\"id\":\"3b6bc29d-336c-40a5-a224-ba53a8f2ec9f\",\"subtype\":\"Figure\",\"type\":\"Plot\"},\"ticker\":{\"id\":\"269d132d-c7bd-4a02-ba56-4adb33615d34\",\"type\":\"BasicTicker\"}},\"id\":\"2587fe8c-e6c3-42b8-8aa8-4873e472fc53\",\"type\":\"Grid\"},{\"attributes\":{\"plot\":{\"id\":\"3b6bc29d-336c-40a5-a224-ba53a8f2ec9f\",\"subtype\":\"Figure\",\"type\":\"Plot\"}},\"id\":\"afd18363-45a3-42df-bc05-b3a42996f81b\",\"type\":\"ResetTool\"},{\"attributes\":{\"formatter\":{\"id\":\"b4d96e4c-d43c-456e-9e3f-44d0ee3419a7\",\"type\":\"BasicTickFormatter\"},\"plot\":{\"id\":\"3b6bc29d-336c-40a5-a224-ba53a8f2ec9f\",\"subtype\":\"Figure\",\"type\":\"Plot\"},\"ticker\":{\"id\":\"6c4382ae-211d-4c23-8e58-3dd313f913c3\",\"type\":\"BasicTicker\"}},\"id\":\"9a7a0376-e7a7-4453-8f3c-d02a31eaeda0\",\"type\":\"LinearAxis\"},{\"attributes\":{\"plot\":{\"id\":\"3b6bc29d-336c-40a5-a224-ba53a8f2ec9f\",\"subtype\":\"Figure\",\"type\":\"Plot\"}},\"id\":\"b014d95b-8809-44e3-a68e-7402e4055213\",\"type\":\"HelpTool\"},{\"attributes\":{\"plot\":{\"id\":\"3b6bc29d-336c-40a5-a224-ba53a8f2ec9f\",\"subtype\":\"Figure\",\"type\":\"Plot\"}},\"id\":\"66ad7306-c15c-4552-9afa-97f5cf53ca1d\",\"type\":\"PanTool\"},{\"attributes\":{},\"id\":\"c294688e-c7d6-4ce9-9e41-2ece7459c6a5\",\"type\":\"BasicTickFormatter\"},{\"attributes\":{\"plot\":{\"id\":\"3b6bc29d-336c-40a5-a224-ba53a8f2ec9f\",\"subtype\":\"Figure\",\"type\":\"Plot\"}},\"id\":\"badd4785-584e-4f82-9a94-1e70cb89e0f6\",\"type\":\"WheelZoomTool\"},{\"attributes\":{},\"id\":\"269d132d-c7bd-4a02-ba56-4adb33615d34\",\"type\":\"BasicTicker\"},{\"attributes\":{\"plot\":{\"id\":\"3b6bc29d-336c-40a5-a224-ba53a8f2ec9f\",\"subtype\":\"Figure\",\"type\":\"Plot\"}},\"id\":\"7bf91dff-1167-44af-8626-b01b82610718\",\"type\":\"SaveTool\"},{\"attributes\":{\"below\":[{\"id\":\"871d220b-636d-4715-8b42-e1966396ecb5\",\"type\":\"LinearAxis\"}],\"left\":[{\"id\":\"9a7a0376-e7a7-4453-8f3c-d02a31eaeda0\",\"type\":\"LinearAxis\"}],\"plot_height\":400,\"plot_width\":900,\"renderers\":[{\"id\":\"871d220b-636d-4715-8b42-e1966396ecb5\",\"type\":\"LinearAxis\"},{\"id\":\"2587fe8c-e6c3-42b8-8aa8-4873e472fc53\",\"type\":\"Grid\"},{\"id\":\"9a7a0376-e7a7-4453-8f3c-d02a31eaeda0\",\"type\":\"LinearAxis\"},{\"id\":\"59da1ef1-908a-4f58-8cfb-3e44fa5dd2a9\",\"type\":\"Grid\"},{\"id\":\"eb3e182d-d05d-483b-b9e5-5b51baeba6cc\",\"type\":\"BoxAnnotation\"},{\"id\":\"495d97ec-0b64-4687-9038-980267a4617e\",\"type\":\"GlyphRenderer\"}],\"title\":{\"id\":\"d41ce4fd-75c3-44ed-b897-96171bdd1619\",\"type\":\"Title\"},\"tool_events\":{\"id\":\"7d72761f-50f2-43dd-8d72-55022a0dcf16\",\"type\":\"ToolEvents\"},\"toolbar\":{\"id\":\"23c9df0d-711a-4ae3-b48b-d195b7aae260\",\"type\":\"Toolbar\"},\"toolbar_location\":null,\"x_range\":{\"id\":\"ab0ae524-25f9-4f96-a98a-660620ad044c\",\"type\":\"Range1d\"},\"y_range\":{\"id\":\"1ed4609c-5723-4591-89e6-f6fa24e9c1cd\",\"type\":\"Range1d\"}},\"id\":\"3b6bc29d-336c-40a5-a224-ba53a8f2ec9f\",\"subtype\":\"Figure\",\"type\":\"Plot\"},{\"attributes\":{\"callback\":null,\"column_names\":[\"y\",\"x\"],\"data\":{\"x\":[-0.5,-0.5,4.5,4.5,5.5,5.5],\"y\":[0.0,0.0,0.0,11.0,11.0,0.0]}},\"id\":\"eded879e-37e9-4197-885e-79b063ff258f\",\"type\":\"ColumnDataSource\"},{\"attributes\":{},\"id\":\"b4d96e4c-d43c-456e-9e3f-44d0ee3419a7\",\"type\":\"BasicTickFormatter\"},{\"attributes\":{\"callback\":null,\"end\":6.5,\"start\":-0.5},\"id\":\"ab0ae524-25f9-4f96-a98a-660620ad044c\",\"type\":\"Range1d\"},{\"attributes\":{\"line_alpha\":{\"value\":0.1},\"line_color\":{\"value\":\"#1f77b4\"},\"x\":{\"field\":\"x\"},\"y\":{\"field\":\"y\"}},\"id\":\"6d999a9c-f8e8-4f77-8c3a-d0c64f111861\",\"type\":\"Line\"},{\"attributes\":{\"callback\":null,\"end\":12.100000000000001},\"id\":\"1ed4609c-5723-4591-89e6-f6fa24e9c1cd\",\"type\":\"Range1d\"},{\"attributes\":{\"formatter\":{\"id\":\"c294688e-c7d6-4ce9-9e41-2ece7459c6a5\",\"type\":\"BasicTickFormatter\"},\"plot\":{\"id\":\"3b6bc29d-336c-40a5-a224-ba53a8f2ec9f\",\"subtype\":\"Figure\",\"type\":\"Plot\"},\"ticker\":{\"id\":\"269d132d-c7bd-4a02-ba56-4adb33615d34\",\"type\":\"BasicTicker\"}},\"id\":\"871d220b-636d-4715-8b42-e1966396ecb5\",\"type\":\"LinearAxis\"},{\"attributes\":{\"overlay\":{\"id\":\"eb3e182d-d05d-483b-b9e5-5b51baeba6cc\",\"type\":\"BoxAnnotation\"},\"plot\":{\"id\":\"3b6bc29d-336c-40a5-a224-ba53a8f2ec9f\",\"subtype\":\"Figure\",\"type\":\"Plot\"}},\"id\":\"1e4f3645-4977-4072-82bf-c8f6436aec7e\",\"type\":\"BoxZoomTool\"},{\"attributes\":{\"dimension\":1,\"plot\":{\"id\":\"3b6bc29d-336c-40a5-a224-ba53a8f2ec9f\",\"subtype\":\"Figure\",\"type\":\"Plot\"},\"ticker\":{\"id\":\"6c4382ae-211d-4c23-8e58-3dd313f913c3\",\"type\":\"BasicTicker\"}},\"id\":\"59da1ef1-908a-4f58-8cfb-3e44fa5dd2a9\",\"type\":\"Grid\"},{\"attributes\":{},\"id\":\"6c4382ae-211d-4c23-8e58-3dd313f913c3\",\"type\":\"BasicTicker\"},{\"attributes\":{},\"id\":\"7d72761f-50f2-43dd-8d72-55022a0dcf16\",\"type\":\"ToolEvents\"},{\"attributes\":{\"data_source\":{\"id\":\"eded879e-37e9-4197-885e-79b063ff258f\",\"type\":\"ColumnDataSource\"},\"glyph\":{\"id\":\"be4f768d-f215-4129-868d-57d22dfd8c45\",\"type\":\"Line\"},\"hover_glyph\":null,\"nonselection_glyph\":{\"id\":\"6d999a9c-f8e8-4f77-8c3a-d0c64f111861\",\"type\":\"Line\"},\"selection_glyph\":null},\"id\":\"495d97ec-0b64-4687-9038-980267a4617e\",\"type\":\"GlyphRenderer\"},{\"attributes\":{\"active_drag\":\"auto\",\"active_scroll\":\"auto\",\"active_tap\":\"auto\",\"tools\":[{\"id\":\"66ad7306-c15c-4552-9afa-97f5cf53ca1d\",\"type\":\"PanTool\"},{\"id\":\"badd4785-584e-4f82-9a94-1e70cb89e0f6\",\"type\":\"WheelZoomTool\"},{\"id\":\"1e4f3645-4977-4072-82bf-c8f6436aec7e\",\"type\":\"BoxZoomTool\"},{\"id\":\"7bf91dff-1167-44af-8626-b01b82610718\",\"type\":\"SaveTool\"},{\"id\":\"afd18363-45a3-42df-bc05-b3a42996f81b\",\"type\":\"ResetTool\"},{\"id\":\"b014d95b-8809-44e3-a68e-7402e4055213\",\"type\":\"HelpTool\"}]},\"id\":\"23c9df0d-711a-4ae3-b48b-d195b7aae260\",\"type\":\"Toolbar\"}],\"root_ids\":[\"3b6bc29d-336c-40a5-a224-ba53a8f2ec9f\"]},\"title\":\"Bokeh Application\",\"version\":\"0.12.0\"}};\n",
       "            var render_items = [{\"docid\":\"fcb2441b-b93f-4c8d-93c4-ff53b7c53a77\",\"elementid\":\"5265c15a-8dc5-4d6e-bb9e-74ec18d82454\",\"modelid\":\"3b6bc29d-336c-40a5-a224-ba53a8f2ec9f\",\"notebook_comms_target\":\"c18de4a9-f5ad-47f3-ba87-08e15e46ba67\"}];\n",
       "            \n",
       "            Bokeh.embed.embed_items(docs_json, render_items);\n",
       "        });\n",
       "      },\n",
       "      function(Bokeh) {\n",
       "      }\n",
       "    ];\n",
       "  \n",
       "    function run_inline_js() {\n",
       "      for (var i = 0; i < inline_js.length; i++) {\n",
       "        inline_js[i](window.Bokeh);\n",
       "      }\n",
       "    }\n",
       "  \n",
       "    if (window._bokeh_is_loading === 0) {\n",
       "      console.log(\"Bokeh: BokehJS loaded, going straight to plotting\");\n",
       "      run_inline_js();\n",
       "    } else {\n",
       "      load_libs(js_urls, function() {\n",
       "        console.log(\"Bokeh: BokehJS plotting callback run at\", now());\n",
       "        run_inline_js();\n",
       "      });\n",
       "    }\n",
       "  }(this));\n",
       "</script>"
      ]
     },
     "metadata": {},
     "output_type": "display_data"
    },
    {
     "data": {
      "text/html": [
       "<p><code>&lt;Bokeh Notebook handle for <strong>In[32]</strong>&gt;</code></p>"
      ],
      "text/plain": [
       "<bokeh.io._CommsHandle at 0x7f664c75ae90>"
      ]
     },
     "execution_count": 32,
     "metadata": {},
     "output_type": "execute_result"
    }
   ],
   "source": [
    "count_data = sa_9_944.unique_snps_per_allele(am_4_815_5_684_not_32_1361)\n",
    "plt_obj = smcp(count_data)\n",
    "plt = plt_obj.do_plot()\n",
    "show(plt)"
   ]
  },
  {
   "cell_type": "code",
   "execution_count": 33,
   "metadata": {
    "collapsed": false
   },
   "outputs": [
    {
     "data": {
      "text/plain": [
       "array([(0, 0), (1, 0), (2, 11), (3, 11), (4, 11), (5, 11), (6, 11), (7, 0),\n",
       "       (8, 0)], \n",
       "      dtype=[('index', '<u2'), ('snp_count', '<u2')])"
      ]
     },
     "execution_count": 33,
     "metadata": {},
     "output_type": "execute_result"
    }
   ],
   "source": [
    "tf = snp_anal.series_fragment_finder_cls(sa_9_944, am_4_815_5_684_not_32_1361)\n",
    "tf.max_snps_alleles_per_snp"
   ]
  },
  {
   "cell_type": "code",
   "execution_count": 34,
   "metadata": {
    "collapsed": false
   },
   "outputs": [],
   "source": [
    "pos_9_944 = sa_9_944.series_snps['pos']"
   ]
  },
  {
   "cell_type": "code",
   "execution_count": 35,
   "metadata": {
    "collapsed": false
   },
   "outputs": [
    {
     "data": {
      "text/plain": [
       "(135893372, 135952405)"
      ]
     },
     "execution_count": 35,
     "metadata": {},
     "output_type": "execute_result"
    }
   ],
   "source": [
    "pos_9_944[1], pos_9_944[2]"
   ]
  },
  {
   "cell_type": "code",
   "execution_count": 36,
   "metadata": {
    "collapsed": false
   },
   "outputs": [
    {
     "data": {
      "text/plain": [
       "(135935049, 135962711)"
      ]
     },
     "execution_count": 36,
     "metadata": {},
     "output_type": "execute_result"
    }
   ],
   "source": [
    "pos_117_1685 = sa_117_1685.series_snps['pos']\n",
    "pos_117_1685[95], pos_117_1685[96]"
   ]
  },
  {
   "cell_type": "code",
   "execution_count": 37,
   "metadata": {
    "collapsed": false
   },
   "outputs": [
    {
     "data": {
      "text/plain": [
       "(135939824, 135941503)"
      ]
     },
     "execution_count": 37,
     "metadata": {},
     "output_type": "execute_result"
    }
   ],
   "source": [
    "pos_123_1561 = sa_123_1561.series_snps['pos']\n",
    "pos_123_1561[1], pos_123_1561[2]"
   ]
  },
  {
   "cell_type": "code",
   "execution_count": 38,
   "metadata": {
    "collapsed": false
   },
   "outputs": [
    {
     "data": {
      "text/plain": [
       "(135934842, 135952376)"
      ]
     },
     "execution_count": 38,
     "metadata": {},
     "output_type": "execute_result"
    }
   ],
   "source": [
    "pos_62_1265 = sa_62_1265.series_snps['pos']\n",
    "pos_62_1265[7], pos_62_1265[8]"
   ]
  },
  {
   "cell_type": "code",
   "execution_count": 39,
   "metadata": {
    "collapsed": false
   },
   "outputs": [
    {
     "data": {
      "text/plain": [
       "(135938999, 135946762)"
      ]
     },
     "execution_count": 39,
     "metadata": {},
     "output_type": "execute_result"
    }
   ],
   "source": [
    "pos_193_843 = sa_193_843.series_snps['pos']\n",
    "pos_193_843[28], pos_193_843[29]"
   ]
  },
  {
   "cell_type": "code",
   "execution_count": 40,
   "metadata": {
    "collapsed": true
   },
   "outputs": [],
   "source": [
    "data_117_1685 = (sa_117_1685, '117_1685', 95)\n",
    "data_123_1561 = (sa_123_1561, '123_1561', 1)\n",
    "data_62_1265 = (sa_62_1265, '62_1265', 7)\n",
    "data_193_843 = (sa_193_843, '193_843', 28)\n",
    "data_9_944 = (sa_9_944, '9_944', 1)\n",
    "index_data = [data_117_1685, data_123_1561, data_62_1265, data_193_843, data_9_944]"
   ]
  },
  {
   "cell_type": "code",
   "execution_count": 41,
   "metadata": {
    "collapsed": false
   },
   "outputs": [
    {
     "data": {
      "text/plain": [
       "array([('117_1685', 135935049L, 135962711L),\n",
       "       ('123_1561', 135939824L, 135941503L),\n",
       "       ('62_1265', 135934842L, 135952376L),\n",
       "       ('193_843', 135938999L, 135946762L),\n",
       "       ('9_944', 135893372L, 135952405L),\n",
       "       ('min max', 135939824L, 135941503L)], \n",
       "      dtype=[('label', 'S20'), ('low', '<u4'), ('high', '<u4')])"
      ]
     },
     "execution_count": 41,
     "metadata": {},
     "output_type": "execute_result"
    }
   ],
   "source": [
    "snp_anal.pair_array_from_indexes(index_data)"
   ]
  }
 ],
 "metadata": {
  "anaconda-cloud": {},
  "kernelspec": {
   "display_name": "Python [Root]",
   "language": "python",
   "name": "Python [Root]"
  },
  "language_info": {
   "codemirror_mode": {
    "name": "ipython",
    "version": 2
   },
   "file_extension": ".py",
   "mimetype": "text/x-python",
   "name": "python",
   "nbconvert_exporter": "python",
   "pygments_lexer": "ipython2",
   "version": "2.7.12"
  }
 },
 "nbformat": 4,
 "nbformat_minor": 0
}
