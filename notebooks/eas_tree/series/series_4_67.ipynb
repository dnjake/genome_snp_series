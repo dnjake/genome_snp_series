{
 "cells": [
  {
   "cell_type": "code",
   "execution_count": 17,
   "metadata": {
    "collapsed": false
   },
   "outputs": [
    {
     "data": {
      "text/html": []
     },
     "metadata": {},
     "output_type": "display_data"
    },
    {
     "data": {
      "application/javascript": [
       "\n",
       "(function(global) {\n",
       "  function now() {\n",
       "    return new Date();\n",
       "  }\n",
       "\n",
       "  if (typeof (window._bokeh_onload_callbacks) === \"undefined\") {\n",
       "    window._bokeh_onload_callbacks = [];\n",
       "  }\n",
       "\n",
       "  function run_callbacks() {\n",
       "    window._bokeh_onload_callbacks.forEach(function(callback) { callback() });\n",
       "    delete window._bokeh_onload_callbacks\n",
       "    console.info(\"Bokeh: all callbacks have finished\");\n",
       "  }\n",
       "\n",
       "  function load_libs(js_urls, callback) {\n",
       "    window._bokeh_onload_callbacks.push(callback);\n",
       "    if (window._bokeh_is_loading > 0) {\n",
       "      console.log(\"Bokeh: BokehJS is being loaded, scheduling callback at\", now());\n",
       "      return null;\n",
       "    }\n",
       "    if (js_urls == null || js_urls.length === 0) {\n",
       "      run_callbacks();\n",
       "      return null;\n",
       "    }\n",
       "    console.log(\"Bokeh: BokehJS not loaded, scheduling load and callback at\", now());\n",
       "    window._bokeh_is_loading = js_urls.length;\n",
       "    for (var i = 0; i < js_urls.length; i++) {\n",
       "      var url = js_urls[i];\n",
       "      var s = document.createElement('script');\n",
       "      s.src = url;\n",
       "      s.async = false;\n",
       "      s.onreadystatechange = s.onload = function() {\n",
       "        window._bokeh_is_loading--;\n",
       "        if (window._bokeh_is_loading === 0) {\n",
       "          console.log(\"Bokeh: all BokehJS libraries loaded\");\n",
       "          run_callbacks()\n",
       "        }\n",
       "      };\n",
       "      s.onerror = function() {\n",
       "        console.warn(\"failed to load library \" + url);\n",
       "      };\n",
       "      console.log(\"Bokeh: injecting script tag for BokehJS library: \", url);\n",
       "      document.getElementsByTagName(\"head\")[0].appendChild(s);\n",
       "    }\n",
       "  };\n",
       "\n",
       "  var js_urls = ['https://cdn.pydata.org/bokeh/release/bokeh-0.12.0.min.js', 'https://cdn.pydata.org/bokeh/release/bokeh-widgets-0.12.0.min.js', 'https://cdn.pydata.org/bokeh/release/bokeh-compiler-0.12.0.min.js'];\n",
       "\n",
       "  var inline_js = [\n",
       "    function(Bokeh) {\n",
       "      Bokeh.set_log_level(\"info\");\n",
       "    },\n",
       "    \n",
       "    function(Bokeh) {\n",
       "      Bokeh.$(\"#a40f2420-c327-4732-ab5d-66235af77b70\").text(\"BokehJS successfully loaded\");\n",
       "    },\n",
       "    function(Bokeh) {\n",
       "      console.log(\"Bokeh: injecting CSS: https://cdn.pydata.org/bokeh/release/bokeh-0.12.0.min.css\");\n",
       "      Bokeh.embed.inject_css(\"https://cdn.pydata.org/bokeh/release/bokeh-0.12.0.min.css\");\n",
       "      console.log(\"Bokeh: injecting CSS: https://cdn.pydata.org/bokeh/release/bokeh-widgets-0.12.0.min.css\");\n",
       "      Bokeh.embed.inject_css(\"https://cdn.pydata.org/bokeh/release/bokeh-widgets-0.12.0.min.css\");\n",
       "    }\n",
       "  ];\n",
       "\n",
       "  function run_inline_js() {\n",
       "    for (var i = 0; i < inline_js.length; i++) {\n",
       "      inline_js[i](window.Bokeh);\n",
       "    }\n",
       "  }\n",
       "\n",
       "  if (window._bokeh_is_loading === 0) {\n",
       "    console.log(\"Bokeh: BokehJS loaded, going straight to plotting\");\n",
       "    run_inline_js();\n",
       "  } else {\n",
       "    load_libs(js_urls, function() {\n",
       "      console.log(\"Bokeh: BokehJS plotting callback run at\", now());\n",
       "      run_inline_js();\n",
       "    });\n",
       "  }\n",
       "}(this));"
      ]
     },
     "metadata": {},
     "output_type": "display_data"
    }
   ],
   "source": [
    "import numpy as np\n",
    "from IPython.display import HTML\n",
    "from bokeh.plotting import output_notebook, show\n",
    "import genomes_dnj.lct_interval.series_plots as dm\n",
    "import genomes_dnj.lct_interval.anal_series as an\n",
    "import genomes_dnj.lct_interval.series_masks as sm\n",
    "import genomes_dnj.lct_interval_snp_anal.lct_interval_snp_anal as snp_anal\n",
    "from genomes_dnj.lct_interval.bokeh_match_count_plot import snp_match_count_plot_cls as smcp\n",
    "output_notebook(hide_banner=True)\n",
    "di_4_67 = 353485\n",
    "sa_4_67 = snp_anal.series_anal_cls(di_4_67, sm.series_data)\n",
    "am_4_67 = dm.allele_mask_from_index(di_4_67)\n",
    "sa_5_684 = snp_anal.series_anal_cls(dm.di_5_684, sm.series_data)"
   ]
  },
  {
   "cell_type": "markdown",
   "metadata": {},
   "source": [
    "<h3>Series 4_67</h3>\n",
    "<div style=\"width:700px\">\n",
    "<p>\n",
    "This notebook documents the series 4_67 and its 4 SNPs. The 1000 genomes data sample\n",
    "SNP counts for 4_67 are 4923 samples 0 SNPs, 8 samples 1 SNP, 2 samples 2 SNPs, 9 samples\n",
    "3 SNPs, and 67 samples 4 SNPs.  The 4 SNP series extends over more than 432,000 DNA bases.\n",
    "It selects an hierarchy that includes the basic EAS tree root.  That hierarchy includes\n",
    "5_684, 9_944, 16_1396, 32_1361, and 81_857.  All but 1 of the samples expressing 4_67\n",
    "come from East Asian populations.  The 1 exception is South Asian.\n",
    "<p>\n",
    "All but 2 of the 4_67 samples express 81_857.  Those samples include 20 that also express\n",
    "the series 4_25.  The series 4_25 appears to have emerged in the region of chromosome 2\n",
    "covered by 81_857 during the emergence of 4_67.\n",
    "<p>\n",
    "Two instances of 4_67 have experienced recombination events that replaced 81_857.  One\n",
    "instance of 4_67 has lost 5_684 by losing 1 of its 5 SNPs.\n",
    "</div>"
   ]
  },
  {
   "cell_type": "code",
   "execution_count": 2,
   "metadata": {
    "collapsed": false
   },
   "outputs": [
    {
     "data": {
      "text/html": [
       "<p>\n",
       "<b>4_67 series</b>\n",
       "</p><p>\n",
       "<table>\n",
       "<thead><tr><th style=\"text-align:center\">index</th><th style=\"text-align:center\">first</th><th style=\"text-align:center\">length</th><th style=\"text-align:center\">snps</th><th style=\"text-align:center\">alleles</th><th style=\"text-align:center\" colspan=2>afr</th><th style=\"text-align:center\" colspan=2>afx</th><th style=\"text-align:center\" colspan=2>amr</th><th style=\"text-align:center\" colspan=2>eas</th><th style=\"text-align:center\" colspan=2>eur</th><th style=\"text-align:center\" colspan=2>sas</th><th style=\"text-align:center\" colspan=2>sax</th></tr></thead>\n",
       "<tr class=\"even\"><td style=\"text-align: right;\">353485</td><td style=\"text-align: right;\">135,942,182</td><td style=\"text-align: right;\">432,560</td><td style=\"text-align: right;\">4</td><td style=\"text-align: right;\">67</td><td style=\"text-align: right;\">0</td><td style=\"text-align: right;\">0.00</td><td style=\"text-align: right;\">0</td><td style=\"text-align: right;\">0.00</td><td style=\"text-align: right;\">0</td><td style=\"text-align: right;\">0.00</td><td style=\"text-align: right;\">66</td><td style=\"text-align: right;\">4.89</td><td style=\"text-align: right;\">0</td><td style=\"text-align: right;\">0.00</td><td style=\"text-align: right;\">1</td><td style=\"text-align: right;\">0.21</td><td style=\"text-align: right;\">0</td><td style=\"text-align: right;\">0.00</td></tr>\n",
       "</table>\n",
       "</p>\n",
       "<p>\n",
       "<b>4_67 series snps</b>\n",
       "</p><p>\n",
       "<table>\n",
       "<thead><tr><th style=\"text-align:center\">index</th><th style=\"text-align:center\">pos</th><th style=\"text-align:center\">id</th><th style=\"text-align:center\">niv</th><th style=\"text-align:center\">alleles</th><th style=\"text-align:center\" colspan=2>afr</th><th style=\"text-align:center\" colspan=2>afx</th><th style=\"text-align:center\" colspan=2>amr</th><th style=\"text-align:center\" colspan=2>eas</th><th style=\"text-align:center\" colspan=2>eur</th><th style=\"text-align:center\" colspan=2>sas</th><th style=\"text-align:center\" colspan=2>sax</th></tr></thead>\n",
       "<tr class=\"even\"><td style=\"text-align: right;\">875914</td><td style=\"text-align: right;\">135,942,182</td><td>rs118167765</td><td>0</td><td style=\"text-align: right;\">77</td><td style=\"text-align: right;\">0</td><td style=\"text-align: right;\">0.00</td><td style=\"text-align: right;\">0</td><td style=\"text-align: right;\">0.00</td><td style=\"text-align: right;\">0</td><td style=\"text-align: right;\">0.00</td><td style=\"text-align: right;\">73</td><td style=\"text-align: right;\">4.71</td><td style=\"text-align: right;\">0</td><td style=\"text-align: right;\">0.00</td><td style=\"text-align: right;\">2</td><td style=\"text-align: right;\">0.36</td><td style=\"text-align: right;\">2</td><td style=\"text-align: right;\">0.21</td></tr>\n",
       "<tr><td style=\"text-align: right;\">876854</td><td style=\"text-align: right;\">136,120,380</td><td>rs75964320</td><td>0</td><td style=\"text-align: right;\">77</td><td style=\"text-align: right;\">0</td><td style=\"text-align: right;\">0.00</td><td style=\"text-align: right;\">0</td><td style=\"text-align: right;\">0.00</td><td style=\"text-align: right;\">0</td><td style=\"text-align: right;\">0.00</td><td style=\"text-align: right;\">75</td><td style=\"text-align: right;\">4.84</td><td style=\"text-align: right;\">0</td><td style=\"text-align: right;\">0.00</td><td style=\"text-align: right;\">2</td><td style=\"text-align: right;\">0.36</td><td style=\"text-align: right;\">0</td><td style=\"text-align: right;\">0.00</td></tr>\n",
       "<tr class=\"even\"><td style=\"text-align: right;\">877394</td><td style=\"text-align: right;\">136,213,143</td><td>rs16831687</td><td>0</td><td style=\"text-align: right;\">77</td><td style=\"text-align: right;\">0</td><td style=\"text-align: right;\">0.00</td><td style=\"text-align: right;\">0</td><td style=\"text-align: right;\">0.00</td><td style=\"text-align: right;\">0</td><td style=\"text-align: right;\">0.00</td><td style=\"text-align: right;\">75</td><td style=\"text-align: right;\">4.84</td><td style=\"text-align: right;\">0</td><td style=\"text-align: right;\">0.00</td><td style=\"text-align: right;\">2</td><td style=\"text-align: right;\">0.36</td><td style=\"text-align: right;\">0</td><td style=\"text-align: right;\">0.00</td></tr>\n",
       "<tr><td style=\"text-align: right;\">878101</td><td style=\"text-align: right;\">136,374,742</td><td>rs189182242</td><td>0</td><td style=\"text-align: right;\">74</td><td style=\"text-align: right;\">0</td><td style=\"text-align: right;\">0.00</td><td style=\"text-align: right;\">0</td><td style=\"text-align: right;\">0.00</td><td style=\"text-align: right;\">0</td><td style=\"text-align: right;\">0.00</td><td style=\"text-align: right;\">72</td><td style=\"text-align: right;\">4.83</td><td style=\"text-align: right;\">0</td><td style=\"text-align: right;\">0.00</td><td style=\"text-align: right;\">2</td><td style=\"text-align: right;\">0.37</td><td style=\"text-align: right;\">0</td><td style=\"text-align: right;\">0.00</td></tr>\n",
       "</table>"
      ],
      "text/plain": [
       "<IPython.core.display.HTML object>"
      ]
     },
     "execution_count": 2,
     "metadata": {},
     "output_type": "execute_result"
    }
   ],
   "source": [
    "HTML(dm.series_html(di_4_67))"
   ]
  },
  {
   "cell_type": "code",
   "execution_count": 3,
   "metadata": {
    "collapsed": false
   },
   "outputs": [
    {
     "data": {
      "text/html": [
       "<table>\n",
       "<thead><tr><th style=\"text-align:center\">index</th><th style=\"text-align:center\">first</th><th style=\"text-align:center\">length</th><th style=\"text-align:center\">snps</th><th style=\"text-align:center\" colspan=2>alleles</th><th style=\"text-align:center\" colspan=2>matches</th><th style=\"text-align:center\" colspan=2>afr</th><th style=\"text-align:center\" colspan=2>afx</th><th style=\"text-align:center\" colspan=2>amr</th><th style=\"text-align:center\" colspan=2>eas</th><th style=\"text-align:center\" colspan=2>eur</th><th style=\"text-align:center\" colspan=2>sas</th><th style=\"text-align:center\" colspan=2>sax</th></tr></thead>\n",
       "<tr class=\"even\"><td style=\"text-align: right;\">353921</td><td style=\"text-align: right;\">136,501,840</td><td style=\"text-align: right;\">53,819</td><td style=\"text-align: right;\">10</td><td style=\"text-align: right;\">2206</td><td style=\"text-align: right;\">0.00</td><td style=\"text-align: right;\">1</td><td style=\"text-align: right;\">0.01</td><td style=\"text-align: right;\">0</td><td style=\"text-align: right;\">0.00</td><td style=\"text-align: right;\">0</td><td style=\"text-align: right;\">0.00</td><td style=\"text-align: right;\">0</td><td style=\"text-align: right;\">0.00</td><td style=\"text-align: right;\">1</td><td style=\"text-align: right;\">4.97</td><td style=\"text-align: right;\">0</td><td style=\"text-align: right;\">0.00</td><td style=\"text-align: right;\">0</td><td style=\"text-align: right;\">0.00</td><td style=\"text-align: right;\">0</td><td style=\"text-align: right;\">0.00</td></tr>\n",
       "<tr><td style=\"text-align: right;\">354170</td><td style=\"text-align: right;\">136,682,274</td><td style=\"text-align: right;\">93,624</td><td style=\"text-align: right;\">7</td><td style=\"text-align: right;\">1868</td><td style=\"text-align: right;\">0.00</td><td style=\"text-align: right;\">2</td><td style=\"text-align: right;\">0.03</td><td style=\"text-align: right;\">0</td><td style=\"text-align: right;\">0.00</td><td style=\"text-align: right;\">0</td><td style=\"text-align: right;\">0.00</td><td style=\"text-align: right;\">0</td><td style=\"text-align: right;\">0.00</td><td style=\"text-align: right;\">2</td><td style=\"text-align: right;\">4.97</td><td style=\"text-align: right;\">0</td><td style=\"text-align: right;\">0.00</td><td style=\"text-align: right;\">0</td><td style=\"text-align: right;\">0.00</td><td style=\"text-align: right;\">0</td><td style=\"text-align: right;\">0.00</td></tr>\n",
       "<tr class=\"even\"><td style=\"text-align: right;\">354033</td><td style=\"text-align: right;\">136,588,031</td><td style=\"text-align: right;\">5,647</td><td style=\"text-align: right;\">7</td><td style=\"text-align: right;\">1760</td><td style=\"text-align: right;\">0.04</td><td style=\"text-align: right;\">66</td><td style=\"text-align: right;\">0.99</td><td style=\"text-align: right;\">0</td><td style=\"text-align: right;\">0.00</td><td style=\"text-align: right;\">0</td><td style=\"text-align: right;\">0.00</td><td style=\"text-align: right;\">0</td><td style=\"text-align: right;\">0.00</td><td style=\"text-align: right;\">65</td><td style=\"text-align: right;\">4.89</td><td style=\"text-align: right;\">0</td><td style=\"text-align: right;\">0.00</td><td style=\"text-align: right;\">1</td><td style=\"text-align: right;\">0.21</td><td style=\"text-align: right;\">0</td><td style=\"text-align: right;\">0.00</td></tr>\n",
       "<tr><td style=\"text-align: right;\">353240</td><td style=\"text-align: right;\">135,757,320</td><td style=\"text-align: right;\">20,184</td><td style=\"text-align: right;\">13</td><td style=\"text-align: right;\">1696</td><td style=\"text-align: right;\">0.04</td><td style=\"text-align: right;\">67</td><td style=\"text-align: right;\">1.00</td><td style=\"text-align: right;\">0</td><td style=\"text-align: right;\">0.00</td><td style=\"text-align: right;\">0</td><td style=\"text-align: right;\">0.00</td><td style=\"text-align: right;\">0</td><td style=\"text-align: right;\">0.00</td><td style=\"text-align: right;\">66</td><td style=\"text-align: right;\">4.89</td><td style=\"text-align: right;\">0</td><td style=\"text-align: right;\">0.00</td><td style=\"text-align: right;\">1</td><td style=\"text-align: right;\">0.21</td><td style=\"text-align: right;\">0</td><td style=\"text-align: right;\">0.00</td></tr>\n",
       "<tr class=\"even\"><td style=\"text-align: right;\">353901</td><td style=\"text-align: right;\">136,494,186</td><td style=\"text-align: right;\">271,765</td><td style=\"text-align: right;\">64</td><td style=\"text-align: right;\">1575</td><td style=\"text-align: right;\">0.00</td><td style=\"text-align: right;\">1</td><td style=\"text-align: right;\">0.01</td><td style=\"text-align: right;\">0</td><td style=\"text-align: right;\">0.00</td><td style=\"text-align: right;\">0</td><td style=\"text-align: right;\">0.00</td><td style=\"text-align: right;\">0</td><td style=\"text-align: right;\">0.00</td><td style=\"text-align: right;\">1</td><td style=\"text-align: right;\">4.97</td><td style=\"text-align: right;\">0</td><td style=\"text-align: right;\">0.00</td><td style=\"text-align: right;\">0</td><td style=\"text-align: right;\">0.00</td><td style=\"text-align: right;\">0</td><td style=\"text-align: right;\">0.00</td></tr>\n",
       "<tr><td style=\"text-align: right;\">354130</td><td style=\"text-align: right;\">136,653,925</td><td style=\"text-align: right;\">107,928</td><td style=\"text-align: right;\">24</td><td style=\"text-align: right;\">1504</td><td style=\"text-align: right;\">0.04</td><td style=\"text-align: right;\">65</td><td style=\"text-align: right;\">0.97</td><td style=\"text-align: right;\">0</td><td style=\"text-align: right;\">0.00</td><td style=\"text-align: right;\">0</td><td style=\"text-align: right;\">0.00</td><td style=\"text-align: right;\">0</td><td style=\"text-align: right;\">0.00</td><td style=\"text-align: right;\">64</td><td style=\"text-align: right;\">4.89</td><td style=\"text-align: right;\">0</td><td style=\"text-align: right;\">0.00</td><td style=\"text-align: right;\">1</td><td style=\"text-align: right;\">0.21</td><td style=\"text-align: right;\">0</td><td style=\"text-align: right;\">0.00</td></tr>\n",
       "<tr class=\"even\"><td style=\"text-align: right;\">353925</td><td style=\"text-align: right;\">136,506,375</td><td style=\"text-align: right;\">32,564</td><td style=\"text-align: right;\">4</td><td style=\"text-align: right;\">1442</td><td style=\"text-align: right;\">0.05</td><td style=\"text-align: right;\">66</td><td style=\"text-align: right;\">0.99</td><td style=\"text-align: right;\">0</td><td style=\"text-align: right;\">0.00</td><td style=\"text-align: right;\">0</td><td style=\"text-align: right;\">0.00</td><td style=\"text-align: right;\">0</td><td style=\"text-align: right;\">0.00</td><td style=\"text-align: right;\">65</td><td style=\"text-align: right;\">4.89</td><td style=\"text-align: right;\">0</td><td style=\"text-align: right;\">0.00</td><td style=\"text-align: right;\">1</td><td style=\"text-align: right;\">0.21</td><td style=\"text-align: right;\">0</td><td style=\"text-align: right;\">0.00</td></tr>\n",
       "<tr><td style=\"text-align: right;\">353791</td><td style=\"text-align: right;\">136,393,658</td><td style=\"text-align: right;\">92,684</td><td style=\"text-align: right;\">32</td><td style=\"text-align: right;\">1361</td><td style=\"text-align: right;\">0.05</td><td style=\"text-align: right;\">67</td><td style=\"text-align: right;\">1.00</td><td style=\"text-align: right;\">0</td><td style=\"text-align: right;\">0.00</td><td style=\"text-align: right;\">0</td><td style=\"text-align: right;\">0.00</td><td style=\"text-align: right;\">0</td><td style=\"text-align: right;\">0.00</td><td style=\"text-align: right;\">66</td><td style=\"text-align: right;\">4.89</td><td style=\"text-align: right;\">0</td><td style=\"text-align: right;\">0.00</td><td style=\"text-align: right;\">1</td><td style=\"text-align: right;\">0.21</td><td style=\"text-align: right;\">0</td><td style=\"text-align: right;\">0.00</td></tr>\n",
       "<tr class=\"even\"><td style=\"text-align: right;\">353958</td><td style=\"text-align: right;\">136,535,876</td><td style=\"text-align: right;\">19,014</td><td style=\"text-align: right;\">7</td><td style=\"text-align: right;\">1303</td><td style=\"text-align: right;\">0.05</td><td style=\"text-align: right;\">66</td><td style=\"text-align: right;\">0.99</td><td style=\"text-align: right;\">0</td><td style=\"text-align: right;\">0.00</td><td style=\"text-align: right;\">0</td><td style=\"text-align: right;\">0.00</td><td style=\"text-align: right;\">0</td><td style=\"text-align: right;\">0.00</td><td style=\"text-align: right;\">65</td><td style=\"text-align: right;\">4.89</td><td style=\"text-align: right;\">0</td><td style=\"text-align: right;\">0.00</td><td style=\"text-align: right;\">1</td><td style=\"text-align: right;\">0.21</td><td style=\"text-align: right;\">0</td><td style=\"text-align: right;\">0.00</td></tr>\n",
       "<tr><td style=\"text-align: right;\">354129</td><td style=\"text-align: right;\">136,652,953</td><td style=\"text-align: right;\">108,222</td><td style=\"text-align: right;\">5</td><td style=\"text-align: right;\">1296</td><td style=\"text-align: right;\">0.05</td><td style=\"text-align: right;\">65</td><td style=\"text-align: right;\">0.97</td><td style=\"text-align: right;\">0</td><td style=\"text-align: right;\">0.00</td><td style=\"text-align: right;\">0</td><td style=\"text-align: right;\">0.00</td><td style=\"text-align: right;\">0</td><td style=\"text-align: right;\">0.00</td><td style=\"text-align: right;\">64</td><td style=\"text-align: right;\">4.89</td><td style=\"text-align: right;\">0</td><td style=\"text-align: right;\">0.00</td><td style=\"text-align: right;\">1</td><td style=\"text-align: right;\">0.21</td><td style=\"text-align: right;\">0</td><td style=\"text-align: right;\">0.00</td></tr>\n",
       "<tr class=\"even\"><td style=\"text-align: right;\">353919</td><td style=\"text-align: right;\">136,500,475</td><td style=\"text-align: right;\">42,085</td><td style=\"text-align: right;\">13</td><td style=\"text-align: right;\">1227</td><td style=\"text-align: right;\">0.05</td><td style=\"text-align: right;\">66</td><td style=\"text-align: right;\">0.99</td><td style=\"text-align: right;\">0</td><td style=\"text-align: right;\">0.00</td><td style=\"text-align: right;\">0</td><td style=\"text-align: right;\">0.00</td><td style=\"text-align: right;\">0</td><td style=\"text-align: right;\">0.00</td><td style=\"text-align: right;\">65</td><td style=\"text-align: right;\">4.89</td><td style=\"text-align: right;\">0</td><td style=\"text-align: right;\">0.00</td><td style=\"text-align: right;\">1</td><td style=\"text-align: right;\">0.21</td><td style=\"text-align: right;\">0</td><td style=\"text-align: right;\">0.00</td></tr>\n",
       "<tr><td style=\"text-align: right;\">354127</td><td style=\"text-align: right;\">136,652,491</td><td style=\"text-align: right;\">80,281</td><td style=\"text-align: right;\">6</td><td style=\"text-align: right;\">1114</td><td style=\"text-align: right;\">0.06</td><td style=\"text-align: right;\">65</td><td style=\"text-align: right;\">0.97</td><td style=\"text-align: right;\">0</td><td style=\"text-align: right;\">0.00</td><td style=\"text-align: right;\">0</td><td style=\"text-align: right;\">0.00</td><td style=\"text-align: right;\">0</td><td style=\"text-align: right;\">0.00</td><td style=\"text-align: right;\">64</td><td style=\"text-align: right;\">4.89</td><td style=\"text-align: right;\">0</td><td style=\"text-align: right;\">0.00</td><td style=\"text-align: right;\">1</td><td style=\"text-align: right;\">0.21</td><td style=\"text-align: right;\">0</td><td style=\"text-align: right;\">0.00</td></tr>\n",
       "<tr class=\"even\"><td style=\"text-align: right;\">353372</td><td style=\"text-align: right;\">135,829,592</td><td style=\"text-align: right;\">591,316</td><td style=\"text-align: right;\">9</td><td style=\"text-align: right;\">944</td><td style=\"text-align: right;\">0.07</td><td style=\"text-align: right;\">67</td><td style=\"text-align: right;\">1.00</td><td style=\"text-align: right;\">0</td><td style=\"text-align: right;\">0.00</td><td style=\"text-align: right;\">0</td><td style=\"text-align: right;\">0.00</td><td style=\"text-align: right;\">0</td><td style=\"text-align: right;\">0.00</td><td style=\"text-align: right;\">66</td><td style=\"text-align: right;\">4.89</td><td style=\"text-align: right;\">0</td><td style=\"text-align: right;\">0.00</td><td style=\"text-align: right;\">1</td><td style=\"text-align: right;\">0.21</td><td style=\"text-align: right;\">0</td><td style=\"text-align: right;\">0.00</td></tr>\n",
       "<tr><td style=\"text-align: right;\">353902</td><td style=\"text-align: right;\">136,494,985</td><td style=\"text-align: right;\">278,653</td><td style=\"text-align: right;\">81</td><td style=\"text-align: right;\">857</td><td style=\"text-align: right;\">0.08</td><td style=\"text-align: right;\">65</td><td style=\"text-align: right;\">0.97</td><td style=\"text-align: right;\">0</td><td style=\"text-align: right;\">0.00</td><td style=\"text-align: right;\">0</td><td style=\"text-align: right;\">0.00</td><td style=\"text-align: right;\">0</td><td style=\"text-align: right;\">0.00</td><td style=\"text-align: right;\">64</td><td style=\"text-align: right;\">4.89</td><td style=\"text-align: right;\">0</td><td style=\"text-align: right;\">0.00</td><td style=\"text-align: right;\">1</td><td style=\"text-align: right;\">0.21</td><td style=\"text-align: right;\">0</td><td style=\"text-align: right;\">0.00</td></tr>\n",
       "<tr class=\"even\"><td style=\"text-align: right;\">353498</td><td style=\"text-align: right;\">135,959,272</td><td style=\"text-align: right;\">416,583</td><td style=\"text-align: right;\">5</td><td style=\"text-align: right;\">684</td><td style=\"text-align: right;\">0.10</td><td style=\"text-align: right;\">66</td><td style=\"text-align: right;\">0.99</td><td style=\"text-align: right;\">0</td><td style=\"text-align: right;\">0.00</td><td style=\"text-align: right;\">0</td><td style=\"text-align: right;\">0.00</td><td style=\"text-align: right;\">0</td><td style=\"text-align: right;\">0.00</td><td style=\"text-align: right;\">65</td><td style=\"text-align: right;\">4.89</td><td style=\"text-align: right;\">0</td><td style=\"text-align: right;\">0.00</td><td style=\"text-align: right;\">1</td><td style=\"text-align: right;\">0.21</td><td style=\"text-align: right;\">0</td><td style=\"text-align: right;\">0.00</td></tr>\n",
       "<tr><td style=\"text-align: right;\">353485</td><td style=\"text-align: right;\">135,942,182</td><td style=\"text-align: right;\">432,560</td><td style=\"text-align: right;\">4</td><td style=\"text-align: right;\">67</td><td style=\"text-align: right;\">1.00</td><td style=\"text-align: right;\">67</td><td style=\"text-align: right;\">1.00</td><td style=\"text-align: right;\">0</td><td style=\"text-align: right;\">0.00</td><td style=\"text-align: right;\">0</td><td style=\"text-align: right;\">0.00</td><td style=\"text-align: right;\">0</td><td style=\"text-align: right;\">0.00</td><td style=\"text-align: right;\">66</td><td style=\"text-align: right;\">4.89</td><td style=\"text-align: right;\">0</td><td style=\"text-align: right;\">0.00</td><td style=\"text-align: right;\">1</td><td style=\"text-align: right;\">0.21</td><td style=\"text-align: right;\">0</td><td style=\"text-align: right;\">0.00</td></tr>\n",
       "<tr class=\"even\"><td style=\"text-align: right;\">354176</td><td style=\"text-align: right;\">136,687,844</td><td style=\"text-align: right;\">21,965</td><td style=\"text-align: right;\">4</td><td style=\"text-align: right;\">25</td><td style=\"text-align: right;\">0.80</td><td style=\"text-align: right;\">20</td><td style=\"text-align: right;\">0.30</td><td style=\"text-align: right;\">0</td><td style=\"text-align: right;\">0.00</td><td style=\"text-align: right;\">0</td><td style=\"text-align: right;\">0.00</td><td style=\"text-align: right;\">0</td><td style=\"text-align: right;\">0.00</td><td style=\"text-align: right;\">20</td><td style=\"text-align: right;\">4.97</td><td style=\"text-align: right;\">0</td><td style=\"text-align: right;\">0.00</td><td style=\"text-align: right;\">0</td><td style=\"text-align: right;\">0.00</td><td style=\"text-align: right;\">0</td><td style=\"text-align: right;\">0.00</td></tr>\n",
       "</table>"
      ],
      "text/plain": [
       "<IPython.core.display.HTML object>"
      ]
     },
     "execution_count": 3,
     "metadata": {},
     "output_type": "execute_result"
    }
   ],
   "source": [
    "plt_obj = dm.superset_yes_no([di_4_67], min_match=0.001)\n",
    "plt_obj.do_plot()\n",
    "HTML(plt_obj.get_html())"
   ]
  },
  {
   "cell_type": "code",
   "execution_count": 16,
   "metadata": {
    "collapsed": false
   },
   "outputs": [
    {
     "data": {
      "text/plain": [
       "array([(0, 4923), (1, 8), (2, 1), (3, 9), (4, 67)], \n",
       "      dtype=[('count', '<u2'), ('snps', '<u2')])"
      ]
     },
     "execution_count": 16,
     "metadata": {},
     "output_type": "execute_result"
    }
   ],
   "source": [
    "count_data = sa_4_67.unique_snps_per_allele()\n",
    "count_data"
   ]
  },
  {
   "cell_type": "code",
   "execution_count": 4,
   "metadata": {
    "collapsed": false
   },
   "outputs": [
    {
     "data": {
      "text/html": [
       "\n",
       "\n",
       "    <div class=\"bk-root\">\n",
       "        <div class=\"plotdiv\" id=\"06a1a6bc-d781-48d4-ad4e-f9041bbacd68\"></div>\n",
       "    </div>\n",
       "<script type=\"text/javascript\">\n",
       "  \n",
       "  (function(global) {\n",
       "    function now() {\n",
       "      return new Date();\n",
       "    }\n",
       "  \n",
       "    if (typeof (window._bokeh_onload_callbacks) === \"undefined\") {\n",
       "      window._bokeh_onload_callbacks = [];\n",
       "    }\n",
       "  \n",
       "    function run_callbacks() {\n",
       "      window._bokeh_onload_callbacks.forEach(function(callback) { callback() });\n",
       "      delete window._bokeh_onload_callbacks\n",
       "      console.info(\"Bokeh: all callbacks have finished\");\n",
       "    }\n",
       "  \n",
       "    function load_libs(js_urls, callback) {\n",
       "      window._bokeh_onload_callbacks.push(callback);\n",
       "      if (window._bokeh_is_loading > 0) {\n",
       "        console.log(\"Bokeh: BokehJS is being loaded, scheduling callback at\", now());\n",
       "        return null;\n",
       "      }\n",
       "      if (js_urls == null || js_urls.length === 0) {\n",
       "        run_callbacks();\n",
       "        return null;\n",
       "      }\n",
       "      console.log(\"Bokeh: BokehJS not loaded, scheduling load and callback at\", now());\n",
       "      window._bokeh_is_loading = js_urls.length;\n",
       "      for (var i = 0; i < js_urls.length; i++) {\n",
       "        var url = js_urls[i];\n",
       "        var s = document.createElement('script');\n",
       "        s.src = url;\n",
       "        s.async = false;\n",
       "        s.onreadystatechange = s.onload = function() {\n",
       "          window._bokeh_is_loading--;\n",
       "          if (window._bokeh_is_loading === 0) {\n",
       "            console.log(\"Bokeh: all BokehJS libraries loaded\");\n",
       "            run_callbacks()\n",
       "          }\n",
       "        };\n",
       "        s.onerror = function() {\n",
       "          console.warn(\"failed to load library \" + url);\n",
       "        };\n",
       "        console.log(\"Bokeh: injecting script tag for BokehJS library: \", url);\n",
       "        document.getElementsByTagName(\"head\")[0].appendChild(s);\n",
       "      }\n",
       "    };var element = document.getElementById(\"06a1a6bc-d781-48d4-ad4e-f9041bbacd68\");\n",
       "    if (element == null) {\n",
       "      console.log(\"Bokeh: ERROR: autoload.js configured with elementid '06a1a6bc-d781-48d4-ad4e-f9041bbacd68' but no matching script tag was found. \")\n",
       "      return false;\n",
       "    }\n",
       "  \n",
       "    var js_urls = [];\n",
       "  \n",
       "    var inline_js = [\n",
       "      function(Bokeh) {\n",
       "        Bokeh.$(function() {\n",
       "            var docs_json = {\"741465bd-0202-453a-b706-e704f424987c\":{\"roots\":{\"references\":[{\"attributes\":{\"callback\":null,\"end\":800},\"id\":\"76a4f5b4-933b-41ec-b2f2-c777108284b1\",\"type\":\"Range1d\"},{\"attributes\":{},\"id\":\"afd4cebd-0f84-42d9-bb47-bf797cd76b69\",\"type\":\"ToolEvents\"},{\"attributes\":{\"bottom_units\":\"screen\",\"fill_alpha\":{\"value\":0.5},\"fill_color\":{\"value\":\"lightgrey\"},\"left_units\":\"screen\",\"level\":\"overlay\",\"line_alpha\":{\"value\":1.0},\"line_color\":{\"value\":\"black\"},\"line_dash\":[4,4],\"line_width\":{\"value\":2},\"plot\":null,\"render_mode\":\"css\",\"right_units\":\"screen\",\"top_units\":\"screen\"},\"id\":\"3899e8a8-c71a-484c-b1bb-547a0f388c2a\",\"type\":\"BoxAnnotation\"},{\"attributes\":{},\"id\":\"fc12fae4-f20d-4ac1-879a-a555913276db\",\"type\":\"BasicTicker\"},{\"attributes\":{\"formatter\":{\"id\":\"af23ff13-f582-46c9-8c27-bddeabf66ef5\",\"type\":\"BasicTickFormatter\"},\"plot\":{\"id\":\"a9733946-6c6e-426a-aacd-b43498cf289a\",\"subtype\":\"Figure\",\"type\":\"Plot\"},\"ticker\":{\"id\":\"31b576cf-3c45-40f3-ad2e-dd1226c8e7c6\",\"type\":\"BasicTicker\"},\"visible\":null},\"id\":\"fba4712b-7559-4b7a-a0f3-6d126a57a6ad\",\"type\":\"LinearAxis\"},{\"attributes\":{\"overlay\":{\"id\":\"3899e8a8-c71a-484c-b1bb-547a0f388c2a\",\"type\":\"BoxAnnotation\"},\"plot\":{\"id\":\"a9733946-6c6e-426a-aacd-b43498cf289a\",\"subtype\":\"Figure\",\"type\":\"Plot\"}},\"id\":\"0b1bf71e-1889-45a4-8647-312f2eece37e\",\"type\":\"BoxZoomTool\"},{\"attributes\":{\"below\":[{\"id\":\"1de7de0e-1de2-412f-9f33-9eb855fab7df\",\"type\":\"LinearAxis\"}],\"left\":[{\"id\":\"fba4712b-7559-4b7a-a0f3-6d126a57a6ad\",\"type\":\"LinearAxis\"}],\"plot_height\":800,\"plot_width\":900,\"renderers\":[{\"id\":\"1de7de0e-1de2-412f-9f33-9eb855fab7df\",\"type\":\"LinearAxis\"},{\"id\":\"8256c40c-cd1b-4180-950f-16b4d0c5ed40\",\"type\":\"Grid\"},{\"id\":\"fba4712b-7559-4b7a-a0f3-6d126a57a6ad\",\"type\":\"LinearAxis\"},{\"id\":\"ef6c17ab-28e2-4367-82b9-5feae9e2f921\",\"type\":\"Grid\"},{\"id\":\"3899e8a8-c71a-484c-b1bb-547a0f388c2a\",\"type\":\"BoxAnnotation\"},{\"id\":\"9280f5dd-1d24-47ed-9e34-524ae4d4e3f7\",\"type\":\"GlyphRenderer\"},{\"id\":\"43d5b834-0d1a-4817-9bfa-ecf045c1af87\",\"type\":\"GlyphRenderer\"},{\"id\":\"ec80cb7f-f4a8-446a-b99a-bb99acdcdf5f\",\"type\":\"LabelSet\"},{\"id\":\"c7ee0d0f-7052-4337-b4bb-fa9328b660ac\",\"type\":\"GlyphRenderer\"},{\"id\":\"a1942e12-ce2c-4ed4-bbac-313c3c0bd68f\",\"type\":\"LabelSet\"}],\"title\":{\"id\":\"37df052b-5b90-443b-98d1-658051ac4583\",\"type\":\"Title\"},\"tool_events\":{\"id\":\"afd4cebd-0f84-42d9-bb47-bf797cd76b69\",\"type\":\"ToolEvents\"},\"toolbar\":{\"id\":\"2572da4e-f071-48fc-ae9d-b723c9386f49\",\"type\":\"Toolbar\"},\"toolbar_location\":null,\"x_range\":{\"id\":\"ef779551-3edf-4e35-a11a-648c7802dbd6\",\"type\":\"Range1d\"},\"y_range\":{\"id\":\"76a4f5b4-933b-41ec-b2f2-c777108284b1\",\"type\":\"Range1d\"}},\"id\":\"a9733946-6c6e-426a-aacd-b43498cf289a\",\"subtype\":\"Figure\",\"type\":\"Plot\"},{\"attributes\":{\"formatter\":{\"id\":\"88703073-75b7-47a4-8f60-ab377dde4bb6\",\"type\":\"BasicTickFormatter\"},\"plot\":{\"id\":\"a9733946-6c6e-426a-aacd-b43498cf289a\",\"subtype\":\"Figure\",\"type\":\"Plot\"},\"ticker\":{\"id\":\"fc12fae4-f20d-4ac1-879a-a555913276db\",\"type\":\"BasicTicker\"}},\"id\":\"1de7de0e-1de2-412f-9f33-9eb855fab7df\",\"type\":\"LinearAxis\"},{\"attributes\":{\"dimension\":1,\"plot\":{\"id\":\"a9733946-6c6e-426a-aacd-b43498cf289a\",\"subtype\":\"Figure\",\"type\":\"Plot\"},\"ticker\":{\"id\":\"31b576cf-3c45-40f3-ad2e-dd1226c8e7c6\",\"type\":\"BasicTicker\"}},\"id\":\"ef6c17ab-28e2-4367-82b9-5feae9e2f921\",\"type\":\"Grid\"},{\"attributes\":{\"plot\":{\"id\":\"a9733946-6c6e-426a-aacd-b43498cf289a\",\"subtype\":\"Figure\",\"type\":\"Plot\"}},\"id\":\"e14ef066-56fe-4c5f-a907-ca09dd412374\",\"type\":\"SaveTool\"},{\"attributes\":{\"callback\":null,\"column_names\":[\"y\",\"x\",\"vals\"],\"data\":{\"vals\":[\"RAB3GAP1\",\"ZRANB3\",\"R3HDM1\",\"UBXN4\",\"LCT\",\"MCM6\",\"DARS\"],\"x\":[135869057.0,136122878.0,136385961.0,136520911.0,136570082.5,136615621.5,136703738.0],\"y\":[760.0,760.0,760.0,760.0,760.0,760.0,760.0]}},\"id\":\"2494c282-728c-4ce2-80c7-df315ac969f5\",\"type\":\"ColumnDataSource\"},{\"attributes\":{\"plot\":null,\"text\":null},\"id\":\"37df052b-5b90-443b-98d1-658051ac4583\",\"type\":\"Title\"},{\"attributes\":{\"level\":\"glyph\",\"plot\":{\"id\":\"a9733946-6c6e-426a-aacd-b43498cf289a\",\"subtype\":\"Figure\",\"type\":\"Plot\"},\"source\":{\"id\":\"2494c282-728c-4ce2-80c7-df315ac969f5\",\"type\":\"ColumnDataSource\"},\"text\":{\"field\":\"vals\"},\"text_align\":\"center\",\"text_baseline\":\"middle\",\"text_font_size\":{\"value\":\"8pt\"},\"x\":{\"field\":\"x\"},\"y\":{\"field\":\"y\"}},\"id\":\"a1942e12-ce2c-4ed4-bbac-313c3c0bd68f\",\"type\":\"LabelSet\"},{\"attributes\":{\"active_drag\":\"auto\",\"active_scroll\":\"auto\",\"active_tap\":\"auto\",\"tools\":[{\"id\":\"6d1beca9-1948-4e2e-910d-2a453b7a9e5a\",\"type\":\"PanTool\"},{\"id\":\"0eb9f7cd-5073-42fc-a535-90f5af07aee4\",\"type\":\"WheelZoomTool\"},{\"id\":\"0b1bf71e-1889-45a4-8647-312f2eece37e\",\"type\":\"BoxZoomTool\"},{\"id\":\"e14ef066-56fe-4c5f-a907-ca09dd412374\",\"type\":\"SaveTool\"},{\"id\":\"eb933ad0-6afd-4ea9-825c-c59d3292b299\",\"type\":\"ResetTool\"},{\"id\":\"573d0374-a9b8-4caa-aef1-cdedba4224d3\",\"type\":\"HelpTool\"}]},\"id\":\"2572da4e-f071-48fc-ae9d-b723c9386f49\",\"type\":\"Toolbar\"},{\"attributes\":{},\"id\":\"88703073-75b7-47a4-8f60-ab377dde4bb6\",\"type\":\"BasicTickFormatter\"},{\"attributes\":{\"bottom\":{\"field\":\"bottom\"},\"fill_color\":{\"value\":\"white\"},\"left\":{\"field\":\"left\"},\"right\":{\"field\":\"right\"},\"top\":{\"field\":\"top\"}},\"id\":\"3e77f59d-c5af-41ec-84a6-83c75d6fa220\",\"type\":\"Quad\"},{\"attributes\":{},\"id\":\"af23ff13-f582-46c9-8c27-bddeabf66ef5\",\"type\":\"BasicTickFormatter\"},{\"attributes\":{\"callback\":null,\"column_names\":[\"right\",\"bottom\",\"top\",\"left\",\"fill_color\"],\"data\":{\"bottom\":[650,250,50,150,550,250,350,550,450,650,350,450,650],\"fill_color\":[\"#808080\",\"#c4c461\",\"#ffff00\",\"#ffff00\",\"#c4c461\",\"#808080\",\"#808080\",\"#808080\",\"#808080\",\"#c46161\",\"#808080\",\"#808080\",\"#808080\"],\"left\":[135757320,135829592,135942182,135959272,136393658,136494985,136500475,136506375,136535876,136588031,136652491,136652953,136653925],\"right\":[135777504,136420908,136374742,136375855,136486342,136773638,136542560,136538939,136554890,136593678,136732772,136761175,136761853],\"top\":[696,291,68,188,594,290,393,594,494,696,392,494,695]}},\"id\":\"ba1f27f3-d288-4c5e-84bc-d7606e2d1e6f\",\"type\":\"ColumnDataSource\"},{\"attributes\":{\"bottom\":{\"field\":\"bottom\"},\"fill_color\":{\"field\":\"fill_color\"},\"left\":{\"field\":\"left\"},\"line_color\":{\"value\":null},\"right\":{\"field\":\"right\"},\"top\":{\"field\":\"top\"}},\"id\":\"f70af55b-da2f-4aac-b1da-f77afc5f9c9a\",\"type\":\"Quad\"},{\"attributes\":{\"bottom\":{\"field\":\"bottom\"},\"fill_alpha\":{\"value\":0.1},\"fill_color\":{\"value\":\"#1f77b4\"},\"left\":{\"field\":\"left\"},\"line_alpha\":{\"value\":0.1},\"line_color\":{\"value\":\"#1f77b4\"},\"right\":{\"field\":\"right\"},\"top\":{\"field\":\"top\"}},\"id\":\"6b9a8b34-56b9-4350-a972-75fd932a08a6\",\"type\":\"Quad\"},{\"attributes\":{\"callback\":null,\"end\":136786630,\"start\":135757320},\"id\":\"ef779551-3edf-4e35-a11a-648c7802dbd6\",\"type\":\"Range1d\"},{\"attributes\":{\"plot\":{\"id\":\"a9733946-6c6e-426a-aacd-b43498cf289a\",\"subtype\":\"Figure\",\"type\":\"Plot\"}},\"id\":\"573d0374-a9b8-4caa-aef1-cdedba4224d3\",\"type\":\"HelpTool\"},{\"attributes\":{\"callback\":null,\"column_names\":[\"xs\",\"ys\",\"line_color\"],\"data\":{\"line_color\":[\"black\",\"black\",\"black\",\"black\",\"black\",\"black\",\"black\",\"black\",\"black\",\"black\",\"black\",\"black\",\"black\",\"black\",\"black\",\"black\",\"black\",\"black\",\"black\",\"black\",\"black\",\"black\",\"black\",\"black\",\"black\",\"black\",\"black\",\"black\",\"black\",\"black\",\"black\",\"black\",\"black\",\"black\",\"black\",\"black\",\"black\",\"black\",\"black\",\"black\",\"black\",\"black\",\"black\",\"black\",\"black\",\"black\",\"black\",\"black\",\"black\",\"black\",\"black\",\"black\",\"black\",\"black\",\"black\",\"black\",\"black\",\"black\",\"black\",\"black\",\"black\",\"black\",\"black\",\"black\",\"black\",\"black\",\"black\",\"black\",\"black\",\"black\",\"black\",\"black\",\"black\",\"black\",\"black\",\"black\",\"black\",\"black\",\"black\",\"black\",\"black\",\"black\",\"black\",\"black\",\"black\",\"black\",\"black\",\"black\",\"black\",\"black\",\"black\",\"black\",\"black\",\"black\",\"black\",\"black\",\"black\",\"black\",\"black\",\"black\",\"black\",\"black\",\"black\",\"black\",\"black\",\"black\",\"black\",\"black\",\"black\",\"black\",\"black\",\"black\",\"black\",\"black\",\"black\",\"black\",\"black\",\"black\",\"black\",\"black\",\"black\",\"black\",\"black\",\"black\",\"black\",\"black\",\"black\",\"black\",\"black\",\"black\",\"black\",\"black\",\"black\",\"black\",\"black\",\"black\",\"black\",\"black\",\"black\",\"black\",\"black\",\"black\",\"black\",\"black\",\"black\",\"black\",\"black\",\"black\",\"black\",\"black\",\"black\",\"black\",\"black\",\"black\",\"black\",\"black\",\"black\",\"black\",\"black\",\"black\",\"black\",\"black\",\"black\",\"black\",\"black\",\"black\",\"black\",\"black\",\"black\",\"black\",\"black\",\"black\",\"black\",\"black\",\"black\",\"black\",\"black\",\"black\",\"black\",\"black\",\"black\",\"black\",\"black\",\"black\",\"black\",\"black\",\"black\",\"black\",\"black\",\"black\",\"black\",\"black\",\"black\",\"black\",\"black\",\"black\",\"black\",\"black\",\"black\",\"black\",\"black\",\"black\",\"black\",\"black\",\"black\",\"black\",\"black\",\"black\",\"black\",\"black\"],\"xs\":[[135757320,135757320],[135761078,135761078],[135761271,135761271],[135762344,135762344],[135762980,135762980],[135763280,135763280],[135768815,135768815],[135769093,135769093],[135769127,135769127],[135770940,135770940],[135770951,135770951],[135776728,135776728],[135777504,135777504],[135829592,135829592],[135893372,135893372],[135952405,135952405],[135989721,135989721],[136136056,136136056],[136313639,136313639],[136401418,136401418],[136407078,136407078],[136420908,136420908],[135942182,135942182],[136120380,136120380],[136213143,136213143],[136374742,136374742],[135959272,135959272],[136149550,136149550],[136164840,136164840],[136313885,136313885],[136375855,136375855],[136393658,136393658],[136396300,136396300],[136401843,136401843],[136407445,136407445],[136411879,136411879],[136412270,136412270],[136413244,136413244],[136413847,136413847],[136415217,136415217],[136416533,136416533],[136420726,136420726],[136429857,136429857],[136433740,136433740],[136436317,136436317],[136437615,136437615],[136438517,136438517],[136440300,136440300],[136443900,136443900],[136444185,136444185],[136444338,136444338],[136449254,136449254],[136451676,136451676],[136459227,136459227],[136463117,136463117],[136463454,136463454],[136467119,136467119],[136468238,136468238],[136470219,136470219],[136483355,136483355],[136485276,136485276],[136486340,136486340],[136486342,136486342],[136494985,136494985],[136497199,136497199],[136511817,136511817],[136513670,136513670],[136515458,136515458],[136516970,136516970],[136525309,136525309],[136528034,136528034],[136532225,136532225],[136535235,136535235],[136536095,136536095],[136544423,136544423],[136546927,136546927],[136552188,136552188],[136552517,136552517],[136555525,136555525],[136556480,136556480],[136560464,136560464],[136572285,136572285],[136582694,136582694],[136582809,136582809],[136584538,136584538],[136585323,136585323],[136586825,136586825],[136600662,136600662],[136612036,136612036],[136618178,136618178],[136618507,136618507],[136622543,136622543],[136624947,136624947],[136625113,136625113],[136626078,136626078],[136628121,136628121],[136632300,136632300],[136633962,136633962],[136635343,136635343],[136638113,136638113],[136640101,136640101],[136641593,136641593],[136646582,136646582],[136648077,136648077],[136648883,136648883],[136652045,136652045],[136653848,136653848],[136656094,136656094],[136661110,136661110],[136663110,136663110],[136663605,136663605],[136665162,136665162],[136665711,136665711],[136668123,136668123],[136670419,136670419],[136672680,136672680],[136673546,136673546],[136684632,136684632],[136686114,136686114],[136690425,136690425],[136690783,136690783],[136692893,136692893],[136694905,136694905],[136695694,136695694],[136695705,136695705],[136696608,136696608],[136697372,136697372],[136697468,136697468],[136700024,136700024],[136701539,136701539],[136702118,136702118],[136707480,136707480],[136710554,136710554],[136714178,136714178],[136719173,136719173],[136725459,136725459],[136734569,136734569],[136744678,136744678],[136748779,136748779],[136751488,136751488],[136754183,136754183],[136763242,136763242],[136765074,136765074],[136773638,136773638],[136500475,136500475],[136501509,136501509],[136504101,136504101],[136509868,136509868],[136520043,136520043],[136527120,136527120],[136530379,136530379],[136530443,136530443],[136539330,136539330],[136539670,136539670],[136540083,136540083],[136542559,136542559],[136542560,136542560],[136506375,136506375],[136506927,136506927],[136510012,136510012],[136538939,136538939],[136535876,136535876],[136544651,136544651],[136545844,136545844],[136552526,136552526],[136553022,136553022],[136554797,136554797],[136554890,136554890],[136588031,136588031],[136589278,136589278],[136589379,136589379],[136589741,136589741],[136590746,136590746],[136593553,136593553],[136593678,136593678],[136652491,136652491],[136652524,136652524],[136661150,136661150],[136669264,136669264],[136726567,136726567],[136732772,136732772],[136652953,136652953],[136655582,136655582],[136674028,136674028],[136684940,136684940],[136761175,136761175],[136653925,136653925],[136654833,136654833],[136656534,136656534],[136656536,136656536],[136657252,136657252],[136667301,136667301],[136667487,136667487],[136672775,136672775],[136680534,136680534],[136686393,136686393],[136688749,136688749],[136692553,136692553],[136697371,136697371],[136708787,136708787],[136710372,136710372],[136711064,136711064],[136715324,136715324],[136723504,136723504],[136737460,136737460],[136743143,136743143],[136746224,136746224],[136751842,136751842],[136759379,136759379],[136761853,136761853]],\"ys\":[[650,696],[650,696],[650,696],[650,696],[650,696],[650,696],[650,696],[650,696],[650,696],[650,696],[650,696],[650,696],[650,696],[250,291],[250,291],[250,291],[250,291],[250,291],[250,291],[250,291],[250,291],[250,291],[50,68],[50,68],[50,68],[50,68],[150,188],[150,188],[150,188],[150,188],[150,188],[550,594],[550,594],[550,594],[550,594],[550,594],[550,594],[550,594],[550,594],[550,594],[550,594],[550,594],[550,594],[550,594],[550,594],[550,594],[550,594],[550,594],[550,594],[550,594],[550,594],[550,594],[550,594],[550,594],[550,594],[550,594],[550,594],[550,594],[550,594],[550,594],[550,594],[550,594],[550,594],[250,290],[250,290],[250,290],[250,290],[250,290],[250,290],[250,290],[250,290],[250,290],[250,290],[250,290],[250,290],[250,290],[250,290],[250,290],[250,290],[250,290],[250,290],[250,290],[250,290],[250,290],[250,290],[250,290],[250,290],[250,290],[250,290],[250,290],[250,290],[250,290],[250,290],[250,290],[250,290],[250,290],[250,290],[250,290],[250,290],[250,290],[250,290],[250,290],[250,290],[250,290],[250,290],[250,290],[250,290],[250,290],[250,290],[250,290],[250,290],[250,290],[250,290],[250,290],[250,290],[250,290],[250,290],[250,290],[250,290],[250,290],[250,290],[250,290],[250,290],[250,290],[250,290],[250,290],[250,290],[250,290],[250,290],[250,290],[250,290],[250,290],[250,290],[250,290],[250,290],[250,290],[250,290],[250,290],[250,290],[250,290],[250,290],[250,290],[250,290],[250,290],[350,393],[350,393],[350,393],[350,393],[350,393],[350,393],[350,393],[350,393],[350,393],[350,393],[350,393],[350,393],[350,393],[550,594],[550,594],[550,594],[550,594],[450,494],[450,494],[450,494],[450,494],[450,494],[450,494],[450,494],[650,696],[650,696],[650,696],[650,696],[650,696],[650,696],[650,696],[350,392],[350,392],[350,392],[350,392],[350,392],[350,392],[450,494],[450,494],[450,494],[450,494],[450,494],[650,695],[650,695],[650,695],[650,695],[650,695],[650,695],[650,695],[650,695],[650,695],[650,695],[650,695],[650,695],[650,695],[650,695],[650,695],[650,695],[650,695],[650,695],[650,695],[650,695],[650,695],[650,695],[650,695],[650,695]]}},\"id\":\"750332b1-afb8-439b-9946-1adc08254383\",\"type\":\"ColumnDataSource\"},{\"attributes\":{\"callback\":null,\"column_names\":[\"right\",\"bottom\",\"top\",\"left\"],\"data\":{\"bottom\":[745,745,745,745,745,745,745],\"left\":[135809835,135957574,136289083,136499189,136545415,136597196,136664254],\"right\":[135928279,136288182,136482839,136542633,136594750,136634047,136743222],\"top\":[775,775,775,775,775,775,775]}},\"id\":\"f3ad405f-c960-409b-965b-9c2cc2fa2e9d\",\"type\":\"ColumnDataSource\"},{\"attributes\":{\"plot\":{\"id\":\"a9733946-6c6e-426a-aacd-b43498cf289a\",\"subtype\":\"Figure\",\"type\":\"Plot\"}},\"id\":\"0eb9f7cd-5073-42fc-a535-90f5af07aee4\",\"type\":\"WheelZoomTool\"},{\"attributes\":{\"plot\":{\"id\":\"a9733946-6c6e-426a-aacd-b43498cf289a\",\"subtype\":\"Figure\",\"type\":\"Plot\"},\"ticker\":{\"id\":\"fc12fae4-f20d-4ac1-879a-a555913276db\",\"type\":\"BasicTicker\"}},\"id\":\"8256c40c-cd1b-4180-950f-16b4d0c5ed40\",\"type\":\"Grid\"},{\"attributes\":{\"line_color\":{\"field\":\"line_color\"},\"xs\":{\"field\":\"xs\"},\"ys\":{\"field\":\"ys\"}},\"id\":\"6dcde245-8741-47c6-906b-377f701f1879\",\"type\":\"MultiLine\"},{\"attributes\":{\"callback\":null,\"column_names\":[\"y\",\"x\",\"vals\"],\"data\":{\"vals\":[\"13_1696\",\"9_944\",\"4_67\",\"5_684\",\"32_1361\",\"81_857\",\"13_1227\",\"4_1442\",\"7_1303\",\"7_1760\",\"6_1114\",\"5_1296\",\"24_1504\"],\"x\":[135757320,135829592,135942182,135959272,136393658,136494985,136500475,136506375,136535876,136588031,136652491,136652953,136653925],\"y\":[701.0,296.0,73.0,193.0,599.0,295.0,398.0,599.0,499.0,701.0,397.0,499.0,700.0]}},\"id\":\"644579e5-c40e-441b-a212-30befdaa1879\",\"type\":\"ColumnDataSource\"},{\"attributes\":{},\"id\":\"31b576cf-3c45-40f3-ad2e-dd1226c8e7c6\",\"type\":\"BasicTicker\"},{\"attributes\":{\"data_source\":{\"id\":\"750332b1-afb8-439b-9946-1adc08254383\",\"type\":\"ColumnDataSource\"},\"glyph\":{\"id\":\"6dcde245-8741-47c6-906b-377f701f1879\",\"type\":\"MultiLine\"},\"hover_glyph\":null,\"nonselection_glyph\":{\"id\":\"cd9d84fe-2c68-4a8c-9727-9ebdcaf771be\",\"type\":\"MultiLine\"},\"selection_glyph\":null},\"id\":\"43d5b834-0d1a-4817-9bfa-ecf045c1af87\",\"type\":\"GlyphRenderer\"},{\"attributes\":{\"data_source\":{\"id\":\"f3ad405f-c960-409b-965b-9c2cc2fa2e9d\",\"type\":\"ColumnDataSource\"},\"glyph\":{\"id\":\"3e77f59d-c5af-41ec-84a6-83c75d6fa220\",\"type\":\"Quad\"},\"hover_glyph\":null,\"nonselection_glyph\":{\"id\":\"f8374b35-06b2-417f-8c58-2e953f57582a\",\"type\":\"Quad\"},\"selection_glyph\":null},\"id\":\"c7ee0d0f-7052-4337-b4bb-fa9328b660ac\",\"type\":\"GlyphRenderer\"},{\"attributes\":{\"line_alpha\":{\"value\":0.1},\"line_color\":{\"value\":\"#1f77b4\"},\"xs\":{\"field\":\"xs\"},\"ys\":{\"field\":\"ys\"}},\"id\":\"cd9d84fe-2c68-4a8c-9727-9ebdcaf771be\",\"type\":\"MultiLine\"},{\"attributes\":{\"plot\":{\"id\":\"a9733946-6c6e-426a-aacd-b43498cf289a\",\"subtype\":\"Figure\",\"type\":\"Plot\"}},\"id\":\"eb933ad0-6afd-4ea9-825c-c59d3292b299\",\"type\":\"ResetTool\"},{\"attributes\":{\"plot\":{\"id\":\"a9733946-6c6e-426a-aacd-b43498cf289a\",\"subtype\":\"Figure\",\"type\":\"Plot\"}},\"id\":\"6d1beca9-1948-4e2e-910d-2a453b7a9e5a\",\"type\":\"PanTool\"},{\"attributes\":{\"level\":\"glyph\",\"plot\":{\"id\":\"a9733946-6c6e-426a-aacd-b43498cf289a\",\"subtype\":\"Figure\",\"type\":\"Plot\"},\"source\":{\"id\":\"644579e5-c40e-441b-a212-30befdaa1879\",\"type\":\"ColumnDataSource\"},\"text\":{\"field\":\"vals\"},\"text_font_size\":{\"value\":\"9pt\"},\"text_font_style\":\"bold\",\"x\":{\"field\":\"x\"},\"y\":{\"field\":\"y\"}},\"id\":\"ec80cb7f-f4a8-446a-b99a-bb99acdcdf5f\",\"type\":\"LabelSet\"},{\"attributes\":{\"data_source\":{\"id\":\"ba1f27f3-d288-4c5e-84bc-d7606e2d1e6f\",\"type\":\"ColumnDataSource\"},\"glyph\":{\"id\":\"f70af55b-da2f-4aac-b1da-f77afc5f9c9a\",\"type\":\"Quad\"},\"hover_glyph\":null,\"nonselection_glyph\":{\"id\":\"6b9a8b34-56b9-4350-a972-75fd932a08a6\",\"type\":\"Quad\"},\"selection_glyph\":null},\"id\":\"9280f5dd-1d24-47ed-9e34-524ae4d4e3f7\",\"type\":\"GlyphRenderer\"},{\"attributes\":{\"bottom\":{\"field\":\"bottom\"},\"fill_alpha\":{\"value\":0.1},\"fill_color\":{\"value\":\"#1f77b4\"},\"left\":{\"field\":\"left\"},\"line_alpha\":{\"value\":0.1},\"line_color\":{\"value\":\"#1f77b4\"},\"right\":{\"field\":\"right\"},\"top\":{\"field\":\"top\"}},\"id\":\"f8374b35-06b2-417f-8c58-2e953f57582a\",\"type\":\"Quad\"}],\"root_ids\":[\"a9733946-6c6e-426a-aacd-b43498cf289a\"]},\"title\":\"Bokeh Application\",\"version\":\"0.12.0\"}};\n",
       "            var render_items = [{\"docid\":\"741465bd-0202-453a-b706-e704f424987c\",\"elementid\":\"06a1a6bc-d781-48d4-ad4e-f9041bbacd68\",\"modelid\":\"a9733946-6c6e-426a-aacd-b43498cf289a\",\"notebook_comms_target\":\"dc15fb8e-23be-4c58-92b3-54a1510da015\"}];\n",
       "            \n",
       "            Bokeh.embed.embed_items(docs_json, render_items);\n",
       "        });\n",
       "      },\n",
       "      function(Bokeh) {\n",
       "      }\n",
       "    ];\n",
       "  \n",
       "    function run_inline_js() {\n",
       "      for (var i = 0; i < inline_js.length; i++) {\n",
       "        inline_js[i](window.Bokeh);\n",
       "      }\n",
       "    }\n",
       "  \n",
       "    if (window._bokeh_is_loading === 0) {\n",
       "      console.log(\"Bokeh: BokehJS loaded, going straight to plotting\");\n",
       "      run_inline_js();\n",
       "    } else {\n",
       "      load_libs(js_urls, function() {\n",
       "        console.log(\"Bokeh: BokehJS plotting callback run at\", now());\n",
       "        run_inline_js();\n",
       "      });\n",
       "    }\n",
       "  }(this));\n",
       "</script>"
      ]
     },
     "metadata": {},
     "output_type": "display_data"
    },
    {
     "data": {
      "text/html": [
       "<p><code>&lt;Bokeh Notebook handle for <strong>In[4]</strong>&gt;</code></p>"
      ],
      "text/plain": [
       "<bokeh.io._CommsHandle at 0x7fdd0fb2e8d0>"
      ]
     },
     "execution_count": 4,
     "metadata": {},
     "output_type": "execute_result"
    }
   ],
   "source": [
    "di_4_25 = 354176\n",
    "plt_obj = dm.superset_yes_no([di_4_67, dm.di_5_684, dm.di_81_857], [di_4_25], min_match=0.001)\n",
    "plt = plt_obj.do_plot()\n",
    "show(plt)"
   ]
  },
  {
   "cell_type": "code",
   "execution_count": 5,
   "metadata": {
    "collapsed": false
   },
   "outputs": [
    {
     "data": {
      "text/html": [
       "<table>\n",
       "<thead><tr><th style=\"text-align:center\">index</th><th style=\"text-align:center\">first</th><th style=\"text-align:center\">length</th><th style=\"text-align:center\">snps</th><th style=\"text-align:center\" colspan=2>alleles</th><th style=\"text-align:center\" colspan=2>matches</th><th style=\"text-align:center\" colspan=2>afr</th><th style=\"text-align:center\" colspan=2>afx</th><th style=\"text-align:center\" colspan=2>amr</th><th style=\"text-align:center\" colspan=2>eas</th><th style=\"text-align:center\" colspan=2>eur</th><th style=\"text-align:center\" colspan=2>sas</th><th style=\"text-align:center\" colspan=2>sax</th></tr></thead>\n",
       "<tr class=\"even\"><td style=\"text-align: right;\">354033</td><td style=\"text-align: right;\">136,588,031</td><td style=\"text-align: right;\">5,647</td><td style=\"text-align: right;\">7</td><td style=\"text-align: right;\">1760</td><td style=\"text-align: right;\">0.03</td><td style=\"text-align: right;\">44</td><td style=\"text-align: right;\">1.00</td><td style=\"text-align: right;\">0</td><td style=\"text-align: right;\">0.00</td><td style=\"text-align: right;\">0</td><td style=\"text-align: right;\">0.00</td><td style=\"text-align: right;\">0</td><td style=\"text-align: right;\">0.00</td><td style=\"text-align: right;\">43</td><td style=\"text-align: right;\">4.95</td><td style=\"text-align: right;\">0</td><td style=\"text-align: right;\">0.00</td><td style=\"text-align: right;\">1</td><td style=\"text-align: right;\">0.31</td><td style=\"text-align: right;\">0</td><td style=\"text-align: right;\">0.00</td></tr>\n",
       "<tr><td style=\"text-align: right;\">353240</td><td style=\"text-align: right;\">135,757,320</td><td style=\"text-align: right;\">20,184</td><td style=\"text-align: right;\">13</td><td style=\"text-align: right;\">1696</td><td style=\"text-align: right;\">0.03</td><td style=\"text-align: right;\">44</td><td style=\"text-align: right;\">1.00</td><td style=\"text-align: right;\">0</td><td style=\"text-align: right;\">0.00</td><td style=\"text-align: right;\">0</td><td style=\"text-align: right;\">0.00</td><td style=\"text-align: right;\">0</td><td style=\"text-align: right;\">0.00</td><td style=\"text-align: right;\">43</td><td style=\"text-align: right;\">4.95</td><td style=\"text-align: right;\">0</td><td style=\"text-align: right;\">0.00</td><td style=\"text-align: right;\">1</td><td style=\"text-align: right;\">0.31</td><td style=\"text-align: right;\">0</td><td style=\"text-align: right;\">0.00</td></tr>\n",
       "<tr class=\"even\"><td style=\"text-align: right;\">354130</td><td style=\"text-align: right;\">136,653,925</td><td style=\"text-align: right;\">107,928</td><td style=\"text-align: right;\">24</td><td style=\"text-align: right;\">1504</td><td style=\"text-align: right;\">0.03</td><td style=\"text-align: right;\">44</td><td style=\"text-align: right;\">1.00</td><td style=\"text-align: right;\">0</td><td style=\"text-align: right;\">0.00</td><td style=\"text-align: right;\">0</td><td style=\"text-align: right;\">0.00</td><td style=\"text-align: right;\">0</td><td style=\"text-align: right;\">0.00</td><td style=\"text-align: right;\">43</td><td style=\"text-align: right;\">4.95</td><td style=\"text-align: right;\">0</td><td style=\"text-align: right;\">0.00</td><td style=\"text-align: right;\">1</td><td style=\"text-align: right;\">0.31</td><td style=\"text-align: right;\">0</td><td style=\"text-align: right;\">0.00</td></tr>\n",
       "<tr><td style=\"text-align: right;\">353925</td><td style=\"text-align: right;\">136,506,375</td><td style=\"text-align: right;\">32,564</td><td style=\"text-align: right;\">4</td><td style=\"text-align: right;\">1442</td><td style=\"text-align: right;\">0.03</td><td style=\"text-align: right;\">44</td><td style=\"text-align: right;\">1.00</td><td style=\"text-align: right;\">0</td><td style=\"text-align: right;\">0.00</td><td style=\"text-align: right;\">0</td><td style=\"text-align: right;\">0.00</td><td style=\"text-align: right;\">0</td><td style=\"text-align: right;\">0.00</td><td style=\"text-align: right;\">43</td><td style=\"text-align: right;\">4.95</td><td style=\"text-align: right;\">0</td><td style=\"text-align: right;\">0.00</td><td style=\"text-align: right;\">1</td><td style=\"text-align: right;\">0.31</td><td style=\"text-align: right;\">0</td><td style=\"text-align: right;\">0.00</td></tr>\n",
       "<tr class=\"even\"><td style=\"text-align: right;\">353791</td><td style=\"text-align: right;\">136,393,658</td><td style=\"text-align: right;\">92,684</td><td style=\"text-align: right;\">32</td><td style=\"text-align: right;\">1361</td><td style=\"text-align: right;\">0.03</td><td style=\"text-align: right;\">44</td><td style=\"text-align: right;\">1.00</td><td style=\"text-align: right;\">0</td><td style=\"text-align: right;\">0.00</td><td style=\"text-align: right;\">0</td><td style=\"text-align: right;\">0.00</td><td style=\"text-align: right;\">0</td><td style=\"text-align: right;\">0.00</td><td style=\"text-align: right;\">43</td><td style=\"text-align: right;\">4.95</td><td style=\"text-align: right;\">0</td><td style=\"text-align: right;\">0.00</td><td style=\"text-align: right;\">1</td><td style=\"text-align: right;\">0.31</td><td style=\"text-align: right;\">0</td><td style=\"text-align: right;\">0.00</td></tr>\n",
       "<tr><td style=\"text-align: right;\">353958</td><td style=\"text-align: right;\">136,535,876</td><td style=\"text-align: right;\">19,014</td><td style=\"text-align: right;\">7</td><td style=\"text-align: right;\">1303</td><td style=\"text-align: right;\">0.03</td><td style=\"text-align: right;\">44</td><td style=\"text-align: right;\">1.00</td><td style=\"text-align: right;\">0</td><td style=\"text-align: right;\">0.00</td><td style=\"text-align: right;\">0</td><td style=\"text-align: right;\">0.00</td><td style=\"text-align: right;\">0</td><td style=\"text-align: right;\">0.00</td><td style=\"text-align: right;\">43</td><td style=\"text-align: right;\">4.95</td><td style=\"text-align: right;\">0</td><td style=\"text-align: right;\">0.00</td><td style=\"text-align: right;\">1</td><td style=\"text-align: right;\">0.31</td><td style=\"text-align: right;\">0</td><td style=\"text-align: right;\">0.00</td></tr>\n",
       "<tr class=\"even\"><td style=\"text-align: right;\">354129</td><td style=\"text-align: right;\">136,652,953</td><td style=\"text-align: right;\">108,222</td><td style=\"text-align: right;\">5</td><td style=\"text-align: right;\">1296</td><td style=\"text-align: right;\">0.03</td><td style=\"text-align: right;\">44</td><td style=\"text-align: right;\">1.00</td><td style=\"text-align: right;\">0</td><td style=\"text-align: right;\">0.00</td><td style=\"text-align: right;\">0</td><td style=\"text-align: right;\">0.00</td><td style=\"text-align: right;\">0</td><td style=\"text-align: right;\">0.00</td><td style=\"text-align: right;\">43</td><td style=\"text-align: right;\">4.95</td><td style=\"text-align: right;\">0</td><td style=\"text-align: right;\">0.00</td><td style=\"text-align: right;\">1</td><td style=\"text-align: right;\">0.31</td><td style=\"text-align: right;\">0</td><td style=\"text-align: right;\">0.00</td></tr>\n",
       "<tr><td style=\"text-align: right;\">353919</td><td style=\"text-align: right;\">136,500,475</td><td style=\"text-align: right;\">42,085</td><td style=\"text-align: right;\">13</td><td style=\"text-align: right;\">1227</td><td style=\"text-align: right;\">0.04</td><td style=\"text-align: right;\">44</td><td style=\"text-align: right;\">1.00</td><td style=\"text-align: right;\">0</td><td style=\"text-align: right;\">0.00</td><td style=\"text-align: right;\">0</td><td style=\"text-align: right;\">0.00</td><td style=\"text-align: right;\">0</td><td style=\"text-align: right;\">0.00</td><td style=\"text-align: right;\">43</td><td style=\"text-align: right;\">4.95</td><td style=\"text-align: right;\">0</td><td style=\"text-align: right;\">0.00</td><td style=\"text-align: right;\">1</td><td style=\"text-align: right;\">0.31</td><td style=\"text-align: right;\">0</td><td style=\"text-align: right;\">0.00</td></tr>\n",
       "<tr class=\"even\"><td style=\"text-align: right;\">354127</td><td style=\"text-align: right;\">136,652,491</td><td style=\"text-align: right;\">80,281</td><td style=\"text-align: right;\">6</td><td style=\"text-align: right;\">1114</td><td style=\"text-align: right;\">0.04</td><td style=\"text-align: right;\">44</td><td style=\"text-align: right;\">1.00</td><td style=\"text-align: right;\">0</td><td style=\"text-align: right;\">0.00</td><td style=\"text-align: right;\">0</td><td style=\"text-align: right;\">0.00</td><td style=\"text-align: right;\">0</td><td style=\"text-align: right;\">0.00</td><td style=\"text-align: right;\">43</td><td style=\"text-align: right;\">4.95</td><td style=\"text-align: right;\">0</td><td style=\"text-align: right;\">0.00</td><td style=\"text-align: right;\">1</td><td style=\"text-align: right;\">0.31</td><td style=\"text-align: right;\">0</td><td style=\"text-align: right;\">0.00</td></tr>\n",
       "<tr><td style=\"text-align: right;\">353372</td><td style=\"text-align: right;\">135,829,592</td><td style=\"text-align: right;\">591,316</td><td style=\"text-align: right;\">9</td><td style=\"text-align: right;\">944</td><td style=\"text-align: right;\">0.05</td><td style=\"text-align: right;\">44</td><td style=\"text-align: right;\">1.00</td><td style=\"text-align: right;\">0</td><td style=\"text-align: right;\">0.00</td><td style=\"text-align: right;\">0</td><td style=\"text-align: right;\">0.00</td><td style=\"text-align: right;\">0</td><td style=\"text-align: right;\">0.00</td><td style=\"text-align: right;\">43</td><td style=\"text-align: right;\">4.95</td><td style=\"text-align: right;\">0</td><td style=\"text-align: right;\">0.00</td><td style=\"text-align: right;\">1</td><td style=\"text-align: right;\">0.31</td><td style=\"text-align: right;\">0</td><td style=\"text-align: right;\">0.00</td></tr>\n",
       "<tr class=\"even\"><td style=\"text-align: right;\">353902</td><td style=\"text-align: right;\">136,494,985</td><td style=\"text-align: right;\">278,653</td><td style=\"text-align: right;\">81</td><td style=\"text-align: right;\">857</td><td style=\"text-align: right;\">0.05</td><td style=\"text-align: right;\">44</td><td style=\"text-align: right;\">1.00</td><td style=\"text-align: right;\">0</td><td style=\"text-align: right;\">0.00</td><td style=\"text-align: right;\">0</td><td style=\"text-align: right;\">0.00</td><td style=\"text-align: right;\">0</td><td style=\"text-align: right;\">0.00</td><td style=\"text-align: right;\">43</td><td style=\"text-align: right;\">4.95</td><td style=\"text-align: right;\">0</td><td style=\"text-align: right;\">0.00</td><td style=\"text-align: right;\">1</td><td style=\"text-align: right;\">0.31</td><td style=\"text-align: right;\">0</td><td style=\"text-align: right;\">0.00</td></tr>\n",
       "<tr><td style=\"text-align: right;\">353498</td><td style=\"text-align: right;\">135,959,272</td><td style=\"text-align: right;\">416,583</td><td style=\"text-align: right;\">5</td><td style=\"text-align: right;\">684</td><td style=\"text-align: right;\">0.06</td><td style=\"text-align: right;\">44</td><td style=\"text-align: right;\">1.00</td><td style=\"text-align: right;\">0</td><td style=\"text-align: right;\">0.00</td><td style=\"text-align: right;\">0</td><td style=\"text-align: right;\">0.00</td><td style=\"text-align: right;\">0</td><td style=\"text-align: right;\">0.00</td><td style=\"text-align: right;\">43</td><td style=\"text-align: right;\">4.95</td><td style=\"text-align: right;\">0</td><td style=\"text-align: right;\">0.00</td><td style=\"text-align: right;\">1</td><td style=\"text-align: right;\">0.31</td><td style=\"text-align: right;\">0</td><td style=\"text-align: right;\">0.00</td></tr>\n",
       "<tr class=\"even\"><td style=\"text-align: right;\">353485</td><td style=\"text-align: right;\">135,942,182</td><td style=\"text-align: right;\">432,560</td><td style=\"text-align: right;\">4</td><td style=\"text-align: right;\">67</td><td style=\"text-align: right;\">0.66</td><td style=\"text-align: right;\">44</td><td style=\"text-align: right;\">1.00</td><td style=\"text-align: right;\">0</td><td style=\"text-align: right;\">0.00</td><td style=\"text-align: right;\">0</td><td style=\"text-align: right;\">0.00</td><td style=\"text-align: right;\">0</td><td style=\"text-align: right;\">0.00</td><td style=\"text-align: right;\">43</td><td style=\"text-align: right;\">4.95</td><td style=\"text-align: right;\">0</td><td style=\"text-align: right;\">0.00</td><td style=\"text-align: right;\">1</td><td style=\"text-align: right;\">0.31</td><td style=\"text-align: right;\">0</td><td style=\"text-align: right;\">0.00</td></tr>\n",
       "</table>"
      ],
      "text/plain": [
       "<IPython.core.display.HTML object>"
      ]
     },
     "execution_count": 5,
     "metadata": {},
     "output_type": "execute_result"
    }
   ],
   "source": [
    "HTML(plt_obj.get_html())"
   ]
  },
  {
   "cell_type": "code",
   "execution_count": 6,
   "metadata": {
    "collapsed": false
   },
   "outputs": [
    {
     "data": {
      "text/html": [
       "\n",
       "\n",
       "    <div class=\"bk-root\">\n",
       "        <div class=\"plotdiv\" id=\"468dca7f-fd46-4c5b-a560-b6120b923535\"></div>\n",
       "    </div>\n",
       "<script type=\"text/javascript\">\n",
       "  \n",
       "  (function(global) {\n",
       "    function now() {\n",
       "      return new Date();\n",
       "    }\n",
       "  \n",
       "    if (typeof (window._bokeh_onload_callbacks) === \"undefined\") {\n",
       "      window._bokeh_onload_callbacks = [];\n",
       "    }\n",
       "  \n",
       "    function run_callbacks() {\n",
       "      window._bokeh_onload_callbacks.forEach(function(callback) { callback() });\n",
       "      delete window._bokeh_onload_callbacks\n",
       "      console.info(\"Bokeh: all callbacks have finished\");\n",
       "    }\n",
       "  \n",
       "    function load_libs(js_urls, callback) {\n",
       "      window._bokeh_onload_callbacks.push(callback);\n",
       "      if (window._bokeh_is_loading > 0) {\n",
       "        console.log(\"Bokeh: BokehJS is being loaded, scheduling callback at\", now());\n",
       "        return null;\n",
       "      }\n",
       "      if (js_urls == null || js_urls.length === 0) {\n",
       "        run_callbacks();\n",
       "        return null;\n",
       "      }\n",
       "      console.log(\"Bokeh: BokehJS not loaded, scheduling load and callback at\", now());\n",
       "      window._bokeh_is_loading = js_urls.length;\n",
       "      for (var i = 0; i < js_urls.length; i++) {\n",
       "        var url = js_urls[i];\n",
       "        var s = document.createElement('script');\n",
       "        s.src = url;\n",
       "        s.async = false;\n",
       "        s.onreadystatechange = s.onload = function() {\n",
       "          window._bokeh_is_loading--;\n",
       "          if (window._bokeh_is_loading === 0) {\n",
       "            console.log(\"Bokeh: all BokehJS libraries loaded\");\n",
       "            run_callbacks()\n",
       "          }\n",
       "        };\n",
       "        s.onerror = function() {\n",
       "          console.warn(\"failed to load library \" + url);\n",
       "        };\n",
       "        console.log(\"Bokeh: injecting script tag for BokehJS library: \", url);\n",
       "        document.getElementsByTagName(\"head\")[0].appendChild(s);\n",
       "      }\n",
       "    };var element = document.getElementById(\"468dca7f-fd46-4c5b-a560-b6120b923535\");\n",
       "    if (element == null) {\n",
       "      console.log(\"Bokeh: ERROR: autoload.js configured with elementid '468dca7f-fd46-4c5b-a560-b6120b923535' but no matching script tag was found. \")\n",
       "      return false;\n",
       "    }\n",
       "  \n",
       "    var js_urls = [];\n",
       "  \n",
       "    var inline_js = [\n",
       "      function(Bokeh) {\n",
       "        Bokeh.$(function() {\n",
       "            var docs_json = {\"7ee4cd00-3701-4b38-bf70-78ccf596e5d9\":{\"roots\":{\"references\":[{\"attributes\":{\"plot\":{\"id\":\"82ca26a3-677d-4403-a64e-88ac8c9232fc\",\"subtype\":\"Figure\",\"type\":\"Plot\"}},\"id\":\"c29cfdff-a9c8-43ee-9606-8045ec75907f\",\"type\":\"SaveTool\"},{\"attributes\":{\"plot\":{\"id\":\"82ca26a3-677d-4403-a64e-88ac8c9232fc\",\"subtype\":\"Figure\",\"type\":\"Plot\"},\"ticker\":{\"id\":\"c25335be-8a9c-4e1a-9fdc-0d55ac0f6367\",\"type\":\"BasicTicker\"}},\"id\":\"77ae16e5-6a3a-43ad-bc93-54a951e6196a\",\"type\":\"Grid\"},{\"attributes\":{},\"id\":\"c25335be-8a9c-4e1a-9fdc-0d55ac0f6367\",\"type\":\"BasicTicker\"},{\"attributes\":{\"bottom\":{\"field\":\"bottom\"},\"fill_color\":{\"value\":\"white\"},\"left\":{\"field\":\"left\"},\"right\":{\"field\":\"right\"},\"top\":{\"field\":\"top\"}},\"id\":\"2165bd1f-6e52-4946-8190-609c9f868a92\",\"type\":\"Quad\"},{\"attributes\":{\"level\":\"glyph\",\"plot\":{\"id\":\"82ca26a3-677d-4403-a64e-88ac8c9232fc\",\"subtype\":\"Figure\",\"type\":\"Plot\"},\"source\":{\"id\":\"c872f137-65d9-49b9-b224-0d10183dc2ef\",\"type\":\"ColumnDataSource\"},\"text\":{\"field\":\"vals\"},\"text_font_size\":{\"value\":\"9pt\"},\"text_font_style\":\"bold\",\"x\":{\"field\":\"x\"},\"y\":{\"field\":\"y\"}},\"id\":\"f94b0787-255e-461b-9784-4008c880e79a\",\"type\":\"LabelSet\"},{\"attributes\":{\"bottom\":{\"field\":\"bottom\"},\"fill_color\":{\"field\":\"fill_color\"},\"left\":{\"field\":\"left\"},\"line_color\":{\"value\":null},\"right\":{\"field\":\"right\"},\"top\":{\"field\":\"top\"}},\"id\":\"3b60aa00-6c97-4704-9425-a5b6be1e61f6\",\"type\":\"Quad\"},{\"attributes\":{\"overlay\":{\"id\":\"5fb2935f-4c29-41bb-8989-3f7b01a3b35c\",\"type\":\"BoxAnnotation\"},\"plot\":{\"id\":\"82ca26a3-677d-4403-a64e-88ac8c9232fc\",\"subtype\":\"Figure\",\"type\":\"Plot\"}},\"id\":\"b5728c7e-41cc-4093-bd4a-6d64dc711bd0\",\"type\":\"BoxZoomTool\"},{\"attributes\":{\"below\":[{\"id\":\"116ddf10-631e-4598-b902-a7cdd929e32c\",\"type\":\"LinearAxis\"}],\"left\":[{\"id\":\"b706954a-44a9-49ad-bc6c-c35a36a326b4\",\"type\":\"LinearAxis\"}],\"plot_height\":800,\"plot_width\":900,\"renderers\":[{\"id\":\"116ddf10-631e-4598-b902-a7cdd929e32c\",\"type\":\"LinearAxis\"},{\"id\":\"77ae16e5-6a3a-43ad-bc93-54a951e6196a\",\"type\":\"Grid\"},{\"id\":\"b706954a-44a9-49ad-bc6c-c35a36a326b4\",\"type\":\"LinearAxis\"},{\"id\":\"08b9f9db-b2de-4baf-a655-d9ce4ca10b88\",\"type\":\"Grid\"},{\"id\":\"5fb2935f-4c29-41bb-8989-3f7b01a3b35c\",\"type\":\"BoxAnnotation\"},{\"id\":\"04e61517-f584-4d68-9e98-9cc79168ffc1\",\"type\":\"GlyphRenderer\"},{\"id\":\"1fa1967a-40d6-47f6-936e-8f97fbdf5352\",\"type\":\"GlyphRenderer\"},{\"id\":\"f94b0787-255e-461b-9784-4008c880e79a\",\"type\":\"LabelSet\"},{\"id\":\"f8ca7d32-51b2-4719-b56b-a21ee1671eaa\",\"type\":\"GlyphRenderer\"},{\"id\":\"55f5e233-2b97-4e7c-8881-ffc169c59c48\",\"type\":\"LabelSet\"}],\"title\":{\"id\":\"92f2bead-5094-4e4f-994b-beb9b7cc75bb\",\"type\":\"Title\"},\"tool_events\":{\"id\":\"eaf38e13-22de-4d33-8b78-e3af765d9c0b\",\"type\":\"ToolEvents\"},\"toolbar\":{\"id\":\"7457aece-4dd9-4705-b721-bbcf82d042a1\",\"type\":\"Toolbar\"},\"toolbar_location\":null,\"x_range\":{\"id\":\"916b6f34-ad5c-42fd-9395-5b2b122dab3a\",\"type\":\"Range1d\"},\"y_range\":{\"id\":\"361f3103-3ebc-42b6-8058-6bcd6db1fc9c\",\"type\":\"Range1d\"}},\"id\":\"82ca26a3-677d-4403-a64e-88ac8c9232fc\",\"subtype\":\"Figure\",\"type\":\"Plot\"},{\"attributes\":{\"data_source\":{\"id\":\"245c5af8-235a-40d1-9dab-e91ea26c39c1\",\"type\":\"ColumnDataSource\"},\"glyph\":{\"id\":\"f348a906-be41-4427-9c87-e255e202d2eb\",\"type\":\"MultiLine\"},\"hover_glyph\":null,\"nonselection_glyph\":{\"id\":\"81784295-a06d-416b-b811-a3e598a929f4\",\"type\":\"MultiLine\"},\"selection_glyph\":null},\"id\":\"1fa1967a-40d6-47f6-936e-8f97fbdf5352\",\"type\":\"GlyphRenderer\"},{\"attributes\":{\"formatter\":{\"id\":\"925a5cdc-eb38-4f2c-ba62-2aff9d5b0533\",\"type\":\"BasicTickFormatter\"},\"plot\":{\"id\":\"82ca26a3-677d-4403-a64e-88ac8c9232fc\",\"subtype\":\"Figure\",\"type\":\"Plot\"},\"ticker\":{\"id\":\"443dd46c-842e-44a7-98ce-307c1c561ec0\",\"type\":\"BasicTicker\"},\"visible\":null},\"id\":\"b706954a-44a9-49ad-bc6c-c35a36a326b4\",\"type\":\"LinearAxis\"},{\"attributes\":{},\"id\":\"a87c7a60-67d3-49bf-855c-d80f04e66424\",\"type\":\"BasicTickFormatter\"},{\"attributes\":{\"plot\":null,\"text\":null},\"id\":\"92f2bead-5094-4e4f-994b-beb9b7cc75bb\",\"type\":\"Title\"},{\"attributes\":{\"data_source\":{\"id\":\"7cb8537d-c4df-4df2-9968-9b7d9032fb85\",\"type\":\"ColumnDataSource\"},\"glyph\":{\"id\":\"2165bd1f-6e52-4946-8190-609c9f868a92\",\"type\":\"Quad\"},\"hover_glyph\":null,\"nonselection_glyph\":{\"id\":\"e0a9c8e8-bc8a-48dd-97d6-c66c1eba0a83\",\"type\":\"Quad\"},\"selection_glyph\":null},\"id\":\"f8ca7d32-51b2-4719-b56b-a21ee1671eaa\",\"type\":\"GlyphRenderer\"},{\"attributes\":{\"callback\":null,\"end\":136786630,\"start\":135757320},\"id\":\"916b6f34-ad5c-42fd-9395-5b2b122dab3a\",\"type\":\"Range1d\"},{\"attributes\":{\"level\":\"glyph\",\"plot\":{\"id\":\"82ca26a3-677d-4403-a64e-88ac8c9232fc\",\"subtype\":\"Figure\",\"type\":\"Plot\"},\"source\":{\"id\":\"56f2042e-8314-441d-8ba5-00e50fd22d88\",\"type\":\"ColumnDataSource\"},\"text\":{\"field\":\"vals\"},\"text_align\":\"center\",\"text_baseline\":\"middle\",\"text_font_size\":{\"value\":\"8pt\"},\"x\":{\"field\":\"x\"},\"y\":{\"field\":\"y\"}},\"id\":\"55f5e233-2b97-4e7c-8881-ffc169c59c48\",\"type\":\"LabelSet\"},{\"attributes\":{\"plot\":{\"id\":\"82ca26a3-677d-4403-a64e-88ac8c9232fc\",\"subtype\":\"Figure\",\"type\":\"Plot\"}},\"id\":\"6eea122b-42b1-40bd-97ef-9827677b4e1e\",\"type\":\"WheelZoomTool\"},{\"attributes\":{\"bottom\":{\"field\":\"bottom\"},\"fill_alpha\":{\"value\":0.1},\"fill_color\":{\"value\":\"#1f77b4\"},\"left\":{\"field\":\"left\"},\"line_alpha\":{\"value\":0.1},\"line_color\":{\"value\":\"#1f77b4\"},\"right\":{\"field\":\"right\"},\"top\":{\"field\":\"top\"}},\"id\":\"e0a9c8e8-bc8a-48dd-97d6-c66c1eba0a83\",\"type\":\"Quad\"},{\"attributes\":{\"callback\":null,\"column_names\":[\"y\",\"x\",\"vals\"],\"data\":{\"vals\":[\"RAB3GAP1\",\"ZRANB3\",\"R3HDM1\",\"UBXN4\",\"LCT\",\"MCM6\",\"DARS\"],\"x\":[135869057.0,136122878.0,136385961.0,136520911.0,136570082.5,136615621.5,136703738.0],\"y\":[760.0,760.0,760.0,760.0,760.0,760.0,760.0]}},\"id\":\"56f2042e-8314-441d-8ba5-00e50fd22d88\",\"type\":\"ColumnDataSource\"},{\"attributes\":{\"plot\":{\"id\":\"82ca26a3-677d-4403-a64e-88ac8c9232fc\",\"subtype\":\"Figure\",\"type\":\"Plot\"}},\"id\":\"4ec3b15d-ff72-466f-bea5-7f451ecce3f9\",\"type\":\"HelpTool\"},{\"attributes\":{\"line_color\":{\"field\":\"line_color\"},\"xs\":{\"field\":\"xs\"},\"ys\":{\"field\":\"ys\"}},\"id\":\"f348a906-be41-4427-9c87-e255e202d2eb\",\"type\":\"MultiLine\"},{\"attributes\":{},\"id\":\"eaf38e13-22de-4d33-8b78-e3af765d9c0b\",\"type\":\"ToolEvents\"},{\"attributes\":{\"callback\":null,\"column_names\":[\"y\",\"x\",\"vals\"],\"data\":{\"vals\":[\"13_1696\",\"9_944\",\"4_67\",\"5_684\",\"32_1361\",\"81_857\",\"13_1227\",\"4_1442\",\"7_1303\",\"7_1760\",\"6_1114\",\"5_1296\",\"24_1504\",\"4_25\"],\"x\":[135757320,135829592,135942182,135959272,136393658,136494985,136500475,136506375,136535876,136588031,136652491,136652953,136653925,136687844],\"y\":[701.0,296.0,73.0,193.0,599.0,295.0,398.0,599.0,499.0,701.0,397.0,499.0,700.0,64.0]}},\"id\":\"c872f137-65d9-49b9-b224-0d10183dc2ef\",\"type\":\"ColumnDataSource\"},{\"attributes\":{\"callback\":null,\"column_names\":[\"right\",\"bottom\",\"top\",\"left\",\"fill_color\"],\"data\":{\"bottom\":[650,250,50,150,550,250,350,550,450,650,350,450,650,50],\"fill_color\":[\"#808080\",\"#c4c461\",\"#ffff00\",\"#ffff00\",\"#c4c461\",\"#808080\",\"#808080\",\"#808080\",\"#808080\",\"#c46161\",\"#808080\",\"#808080\",\"#808080\",\"#ffff00\"],\"left\":[135757320,135829592,135942182,135959272,136393658,136494985,136500475,136506375,136535876,136588031,136652491,136652953,136653925,136687844],\"right\":[135777504,136420908,136374742,136375855,136486342,136773638,136542560,136538939,136554890,136593678,136732772,136761175,136761853,136709809],\"top\":[696,291,68,188,594,290,393,594,494,696,392,494,695,59]}},\"id\":\"a7e6964f-70a8-44d7-9683-bc99899cd4ce\",\"type\":\"ColumnDataSource\"},{\"attributes\":{},\"id\":\"925a5cdc-eb38-4f2c-ba62-2aff9d5b0533\",\"type\":\"BasicTickFormatter\"},{\"attributes\":{\"dimension\":1,\"plot\":{\"id\":\"82ca26a3-677d-4403-a64e-88ac8c9232fc\",\"subtype\":\"Figure\",\"type\":\"Plot\"},\"ticker\":{\"id\":\"443dd46c-842e-44a7-98ce-307c1c561ec0\",\"type\":\"BasicTicker\"}},\"id\":\"08b9f9db-b2de-4baf-a655-d9ce4ca10b88\",\"type\":\"Grid\"},{\"attributes\":{\"bottom_units\":\"screen\",\"fill_alpha\":{\"value\":0.5},\"fill_color\":{\"value\":\"lightgrey\"},\"left_units\":\"screen\",\"level\":\"overlay\",\"line_alpha\":{\"value\":1.0},\"line_color\":{\"value\":\"black\"},\"line_dash\":[4,4],\"line_width\":{\"value\":2},\"plot\":null,\"render_mode\":\"css\",\"right_units\":\"screen\",\"top_units\":\"screen\"},\"id\":\"5fb2935f-4c29-41bb-8989-3f7b01a3b35c\",\"type\":\"BoxAnnotation\"},{\"attributes\":{\"plot\":{\"id\":\"82ca26a3-677d-4403-a64e-88ac8c9232fc\",\"subtype\":\"Figure\",\"type\":\"Plot\"}},\"id\":\"fd9d6e93-b71b-4770-872d-2c288e84cc54\",\"type\":\"PanTool\"},{\"attributes\":{\"line_alpha\":{\"value\":0.1},\"line_color\":{\"value\":\"#1f77b4\"},\"xs\":{\"field\":\"xs\"},\"ys\":{\"field\":\"ys\"}},\"id\":\"81784295-a06d-416b-b811-a3e598a929f4\",\"type\":\"MultiLine\"},{\"attributes\":{\"data_source\":{\"id\":\"a7e6964f-70a8-44d7-9683-bc99899cd4ce\",\"type\":\"ColumnDataSource\"},\"glyph\":{\"id\":\"3b60aa00-6c97-4704-9425-a5b6be1e61f6\",\"type\":\"Quad\"},\"hover_glyph\":null,\"nonselection_glyph\":{\"id\":\"2138d264-a329-4faf-a2e1-af0fbbe42d13\",\"type\":\"Quad\"},\"selection_glyph\":null},\"id\":\"04e61517-f584-4d68-9e98-9cc79168ffc1\",\"type\":\"GlyphRenderer\"},{\"attributes\":{},\"id\":\"443dd46c-842e-44a7-98ce-307c1c561ec0\",\"type\":\"BasicTicker\"},{\"attributes\":{\"bottom\":{\"field\":\"bottom\"},\"fill_alpha\":{\"value\":0.1},\"fill_color\":{\"value\":\"#1f77b4\"},\"left\":{\"field\":\"left\"},\"line_alpha\":{\"value\":0.1},\"line_color\":{\"value\":\"#1f77b4\"},\"right\":{\"field\":\"right\"},\"top\":{\"field\":\"top\"}},\"id\":\"2138d264-a329-4faf-a2e1-af0fbbe42d13\",\"type\":\"Quad\"},{\"attributes\":{\"callback\":null,\"column_names\":[\"xs\",\"ys\",\"line_color\"],\"data\":{\"line_color\":[\"black\",\"black\",\"black\",\"black\",\"black\",\"black\",\"black\",\"black\",\"black\",\"black\",\"black\",\"black\",\"black\",\"black\",\"black\",\"black\",\"black\",\"black\",\"black\",\"black\",\"black\",\"black\",\"black\",\"black\",\"black\",\"black\",\"black\",\"black\",\"black\",\"black\",\"black\",\"black\",\"black\",\"black\",\"black\",\"black\",\"black\",\"black\",\"black\",\"black\",\"black\",\"black\",\"black\",\"black\",\"black\",\"black\",\"black\",\"black\",\"black\",\"black\",\"black\",\"black\",\"black\",\"black\",\"black\",\"black\",\"black\",\"black\",\"black\",\"black\",\"black\",\"black\",\"black\",\"black\",\"black\",\"black\",\"black\",\"black\",\"black\",\"black\",\"black\",\"black\",\"black\",\"black\",\"black\",\"black\",\"black\",\"black\",\"black\",\"black\",\"black\",\"black\",\"black\",\"black\",\"black\",\"black\",\"black\",\"black\",\"black\",\"black\",\"black\",\"black\",\"black\",\"black\",\"black\",\"black\",\"black\",\"black\",\"black\",\"black\",\"black\",\"black\",\"black\",\"black\",\"black\",\"black\",\"black\",\"black\",\"black\",\"black\",\"black\",\"black\",\"black\",\"black\",\"black\",\"black\",\"black\",\"black\",\"black\",\"black\",\"black\",\"black\",\"black\",\"black\",\"black\",\"black\",\"black\",\"black\",\"black\",\"black\",\"black\",\"black\",\"black\",\"black\",\"black\",\"black\",\"black\",\"black\",\"black\",\"black\",\"black\",\"black\",\"black\",\"black\",\"black\",\"black\",\"black\",\"black\",\"black\",\"black\",\"black\",\"black\",\"black\",\"black\",\"black\",\"black\",\"black\",\"black\",\"black\",\"black\",\"black\",\"black\",\"black\",\"black\",\"black\",\"black\",\"black\",\"black\",\"black\",\"black\",\"black\",\"black\",\"black\",\"black\",\"black\",\"black\",\"black\",\"black\",\"black\",\"black\",\"black\",\"black\",\"black\",\"black\",\"black\",\"black\",\"black\",\"black\",\"black\",\"black\",\"black\",\"black\",\"black\",\"black\",\"black\",\"black\",\"black\",\"black\",\"black\",\"black\",\"black\",\"black\",\"black\",\"black\",\"black\",\"black\",\"black\",\"black\",\"black\",\"black\",\"black\",\"black\",\"black\",\"black\"],\"xs\":[[135757320,135757320],[135761078,135761078],[135761271,135761271],[135762344,135762344],[135762980,135762980],[135763280,135763280],[135768815,135768815],[135769093,135769093],[135769127,135769127],[135770940,135770940],[135770951,135770951],[135776728,135776728],[135777504,135777504],[135829592,135829592],[135893372,135893372],[135952405,135952405],[135989721,135989721],[136136056,136136056],[136313639,136313639],[136401418,136401418],[136407078,136407078],[136420908,136420908],[135942182,135942182],[136120380,136120380],[136213143,136213143],[136374742,136374742],[135959272,135959272],[136149550,136149550],[136164840,136164840],[136313885,136313885],[136375855,136375855],[136393658,136393658],[136396300,136396300],[136401843,136401843],[136407445,136407445],[136411879,136411879],[136412270,136412270],[136413244,136413244],[136413847,136413847],[136415217,136415217],[136416533,136416533],[136420726,136420726],[136429857,136429857],[136433740,136433740],[136436317,136436317],[136437615,136437615],[136438517,136438517],[136440300,136440300],[136443900,136443900],[136444185,136444185],[136444338,136444338],[136449254,136449254],[136451676,136451676],[136459227,136459227],[136463117,136463117],[136463454,136463454],[136467119,136467119],[136468238,136468238],[136470219,136470219],[136483355,136483355],[136485276,136485276],[136486340,136486340],[136486342,136486342],[136494985,136494985],[136497199,136497199],[136511817,136511817],[136513670,136513670],[136515458,136515458],[136516970,136516970],[136525309,136525309],[136528034,136528034],[136532225,136532225],[136535235,136535235],[136536095,136536095],[136544423,136544423],[136546927,136546927],[136552188,136552188],[136552517,136552517],[136555525,136555525],[136556480,136556480],[136560464,136560464],[136572285,136572285],[136582694,136582694],[136582809,136582809],[136584538,136584538],[136585323,136585323],[136586825,136586825],[136600662,136600662],[136612036,136612036],[136618178,136618178],[136618507,136618507],[136622543,136622543],[136624947,136624947],[136625113,136625113],[136626078,136626078],[136628121,136628121],[136632300,136632300],[136633962,136633962],[136635343,136635343],[136638113,136638113],[136640101,136640101],[136641593,136641593],[136646582,136646582],[136648077,136648077],[136648883,136648883],[136652045,136652045],[136653848,136653848],[136656094,136656094],[136661110,136661110],[136663110,136663110],[136663605,136663605],[136665162,136665162],[136665711,136665711],[136668123,136668123],[136670419,136670419],[136672680,136672680],[136673546,136673546],[136684632,136684632],[136686114,136686114],[136690425,136690425],[136690783,136690783],[136692893,136692893],[136694905,136694905],[136695694,136695694],[136695705,136695705],[136696608,136696608],[136697372,136697372],[136697468,136697468],[136700024,136700024],[136701539,136701539],[136702118,136702118],[136707480,136707480],[136710554,136710554],[136714178,136714178],[136719173,136719173],[136725459,136725459],[136734569,136734569],[136744678,136744678],[136748779,136748779],[136751488,136751488],[136754183,136754183],[136763242,136763242],[136765074,136765074],[136773638,136773638],[136500475,136500475],[136501509,136501509],[136504101,136504101],[136509868,136509868],[136520043,136520043],[136527120,136527120],[136530379,136530379],[136530443,136530443],[136539330,136539330],[136539670,136539670],[136540083,136540083],[136542559,136542559],[136542560,136542560],[136506375,136506375],[136506927,136506927],[136510012,136510012],[136538939,136538939],[136535876,136535876],[136544651,136544651],[136545844,136545844],[136552526,136552526],[136553022,136553022],[136554797,136554797],[136554890,136554890],[136588031,136588031],[136589278,136589278],[136589379,136589379],[136589741,136589741],[136590746,136590746],[136593553,136593553],[136593678,136593678],[136652491,136652491],[136652524,136652524],[136661150,136661150],[136669264,136669264],[136726567,136726567],[136732772,136732772],[136652953,136652953],[136655582,136655582],[136674028,136674028],[136684940,136684940],[136761175,136761175],[136653925,136653925],[136654833,136654833],[136656534,136656534],[136656536,136656536],[136657252,136657252],[136667301,136667301],[136667487,136667487],[136672775,136672775],[136680534,136680534],[136686393,136686393],[136688749,136688749],[136692553,136692553],[136697371,136697371],[136708787,136708787],[136710372,136710372],[136711064,136711064],[136715324,136715324],[136723504,136723504],[136737460,136737460],[136743143,136743143],[136746224,136746224],[136751842,136751842],[136759379,136759379],[136761853,136761853],[136687844,136687844],[136688159,136688159],[136688517,136688517],[136709809,136709809]],\"ys\":[[650,696],[650,696],[650,696],[650,696],[650,696],[650,696],[650,696],[650,696],[650,696],[650,696],[650,696],[650,696],[650,696],[250,291],[250,291],[250,291],[250,291],[250,291],[250,291],[250,291],[250,291],[250,291],[50,68],[50,68],[50,68],[50,68],[150,188],[150,188],[150,188],[150,188],[150,188],[550,594],[550,594],[550,594],[550,594],[550,594],[550,594],[550,594],[550,594],[550,594],[550,594],[550,594],[550,594],[550,594],[550,594],[550,594],[550,594],[550,594],[550,594],[550,594],[550,594],[550,594],[550,594],[550,594],[550,594],[550,594],[550,594],[550,594],[550,594],[550,594],[550,594],[550,594],[550,594],[250,290],[250,290],[250,290],[250,290],[250,290],[250,290],[250,290],[250,290],[250,290],[250,290],[250,290],[250,290],[250,290],[250,290],[250,290],[250,290],[250,290],[250,290],[250,290],[250,290],[250,290],[250,290],[250,290],[250,290],[250,290],[250,290],[250,290],[250,290],[250,290],[250,290],[250,290],[250,290],[250,290],[250,290],[250,290],[250,290],[250,290],[250,290],[250,290],[250,290],[250,290],[250,290],[250,290],[250,290],[250,290],[250,290],[250,290],[250,290],[250,290],[250,290],[250,290],[250,290],[250,290],[250,290],[250,290],[250,290],[250,290],[250,290],[250,290],[250,290],[250,290],[250,290],[250,290],[250,290],[250,290],[250,290],[250,290],[250,290],[250,290],[250,290],[250,290],[250,290],[250,290],[250,290],[250,290],[250,290],[250,290],[250,290],[250,290],[250,290],[250,290],[350,393],[350,393],[350,393],[350,393],[350,393],[350,393],[350,393],[350,393],[350,393],[350,393],[350,393],[350,393],[350,393],[550,594],[550,594],[550,594],[550,594],[450,494],[450,494],[450,494],[450,494],[450,494],[450,494],[450,494],[650,696],[650,696],[650,696],[650,696],[650,696],[650,696],[650,696],[350,392],[350,392],[350,392],[350,392],[350,392],[350,392],[450,494],[450,494],[450,494],[450,494],[450,494],[650,695],[650,695],[650,695],[650,695],[650,695],[650,695],[650,695],[650,695],[650,695],[650,695],[650,695],[650,695],[650,695],[650,695],[650,695],[650,695],[650,695],[650,695],[650,695],[650,695],[650,695],[650,695],[650,695],[650,695],[50,59],[50,59],[50,59],[50,59]]}},\"id\":\"245c5af8-235a-40d1-9dab-e91ea26c39c1\",\"type\":\"ColumnDataSource\"},{\"attributes\":{\"plot\":{\"id\":\"82ca26a3-677d-4403-a64e-88ac8c9232fc\",\"subtype\":\"Figure\",\"type\":\"Plot\"}},\"id\":\"9d67c0df-f96e-4ec5-89e5-968e5086e442\",\"type\":\"ResetTool\"},{\"attributes\":{\"formatter\":{\"id\":\"a87c7a60-67d3-49bf-855c-d80f04e66424\",\"type\":\"BasicTickFormatter\"},\"plot\":{\"id\":\"82ca26a3-677d-4403-a64e-88ac8c9232fc\",\"subtype\":\"Figure\",\"type\":\"Plot\"},\"ticker\":{\"id\":\"c25335be-8a9c-4e1a-9fdc-0d55ac0f6367\",\"type\":\"BasicTicker\"}},\"id\":\"116ddf10-631e-4598-b902-a7cdd929e32c\",\"type\":\"LinearAxis\"},{\"attributes\":{\"active_drag\":\"auto\",\"active_scroll\":\"auto\",\"active_tap\":\"auto\",\"tools\":[{\"id\":\"fd9d6e93-b71b-4770-872d-2c288e84cc54\",\"type\":\"PanTool\"},{\"id\":\"6eea122b-42b1-40bd-97ef-9827677b4e1e\",\"type\":\"WheelZoomTool\"},{\"id\":\"b5728c7e-41cc-4093-bd4a-6d64dc711bd0\",\"type\":\"BoxZoomTool\"},{\"id\":\"c29cfdff-a9c8-43ee-9606-8045ec75907f\",\"type\":\"SaveTool\"},{\"id\":\"9d67c0df-f96e-4ec5-89e5-968e5086e442\",\"type\":\"ResetTool\"},{\"id\":\"4ec3b15d-ff72-466f-bea5-7f451ecce3f9\",\"type\":\"HelpTool\"}]},\"id\":\"7457aece-4dd9-4705-b721-bbcf82d042a1\",\"type\":\"Toolbar\"},{\"attributes\":{\"callback\":null,\"column_names\":[\"right\",\"bottom\",\"top\",\"left\"],\"data\":{\"bottom\":[745,745,745,745,745,745,745],\"left\":[135809835,135957574,136289083,136499189,136545415,136597196,136664254],\"right\":[135928279,136288182,136482839,136542633,136594750,136634047,136743222],\"top\":[775,775,775,775,775,775,775]}},\"id\":\"7cb8537d-c4df-4df2-9968-9b7d9032fb85\",\"type\":\"ColumnDataSource\"},{\"attributes\":{\"callback\":null,\"end\":800},\"id\":\"361f3103-3ebc-42b6-8058-6bcd6db1fc9c\",\"type\":\"Range1d\"}],\"root_ids\":[\"82ca26a3-677d-4403-a64e-88ac8c9232fc\"]},\"title\":\"Bokeh Application\",\"version\":\"0.12.0\"}};\n",
       "            var render_items = [{\"docid\":\"7ee4cd00-3701-4b38-bf70-78ccf596e5d9\",\"elementid\":\"468dca7f-fd46-4c5b-a560-b6120b923535\",\"modelid\":\"82ca26a3-677d-4403-a64e-88ac8c9232fc\",\"notebook_comms_target\":\"9ca04a7b-0661-4cc7-b9f8-b46c802c8d38\"}];\n",
       "            \n",
       "            Bokeh.embed.embed_items(docs_json, render_items);\n",
       "        });\n",
       "      },\n",
       "      function(Bokeh) {\n",
       "      }\n",
       "    ];\n",
       "  \n",
       "    function run_inline_js() {\n",
       "      for (var i = 0; i < inline_js.length; i++) {\n",
       "        inline_js[i](window.Bokeh);\n",
       "      }\n",
       "    }\n",
       "  \n",
       "    if (window._bokeh_is_loading === 0) {\n",
       "      console.log(\"Bokeh: BokehJS loaded, going straight to plotting\");\n",
       "      run_inline_js();\n",
       "    } else {\n",
       "      load_libs(js_urls, function() {\n",
       "        console.log(\"Bokeh: BokehJS plotting callback run at\", now());\n",
       "        run_inline_js();\n",
       "      });\n",
       "    }\n",
       "  }(this));\n",
       "</script>"
      ]
     },
     "metadata": {},
     "output_type": "display_data"
    },
    {
     "data": {
      "text/html": [
       "<p><code>&lt;Bokeh Notebook handle for <strong>In[6]</strong>&gt;</code></p>"
      ],
      "text/plain": [
       "<bokeh.io._CommsHandle at 0x7fdd0fb39ed0>"
      ]
     },
     "execution_count": 6,
     "metadata": {},
     "output_type": "execute_result"
    }
   ],
   "source": [
    "plt_obj = dm.superset_yes_no([di_4_67, dm.di_5_684, dm.di_81_857, di_4_25], min_match=0.001)\n",
    "plt = plt_obj.do_plot()\n",
    "show(plt)"
   ]
  },
  {
   "cell_type": "code",
   "execution_count": 7,
   "metadata": {
    "collapsed": false
   },
   "outputs": [
    {
     "data": {
      "text/html": [
       "<table>\n",
       "<thead><tr><th style=\"text-align:center\">index</th><th style=\"text-align:center\">first</th><th style=\"text-align:center\">length</th><th style=\"text-align:center\">snps</th><th style=\"text-align:center\" colspan=2>alleles</th><th style=\"text-align:center\" colspan=2>matches</th><th style=\"text-align:center\" colspan=2>afr</th><th style=\"text-align:center\" colspan=2>afx</th><th style=\"text-align:center\" colspan=2>amr</th><th style=\"text-align:center\" colspan=2>eas</th><th style=\"text-align:center\" colspan=2>eur</th><th style=\"text-align:center\" colspan=2>sas</th><th style=\"text-align:center\" colspan=2>sax</th></tr></thead>\n",
       "<tr class=\"even\"><td style=\"text-align: right;\">354033</td><td style=\"text-align: right;\">136,588,031</td><td style=\"text-align: right;\">5,647</td><td style=\"text-align: right;\">7</td><td style=\"text-align: right;\">1760</td><td style=\"text-align: right;\">0.01</td><td style=\"text-align: right;\">20</td><td style=\"text-align: right;\">1.00</td><td style=\"text-align: right;\">0</td><td style=\"text-align: right;\">0.00</td><td style=\"text-align: right;\">0</td><td style=\"text-align: right;\">0.00</td><td style=\"text-align: right;\">0</td><td style=\"text-align: right;\">0.00</td><td style=\"text-align: right;\">20</td><td style=\"text-align: right;\">4.97</td><td style=\"text-align: right;\">0</td><td style=\"text-align: right;\">0.00</td><td style=\"text-align: right;\">0</td><td style=\"text-align: right;\">0.00</td><td style=\"text-align: right;\">0</td><td style=\"text-align: right;\">0.00</td></tr>\n",
       "<tr><td style=\"text-align: right;\">353240</td><td style=\"text-align: right;\">135,757,320</td><td style=\"text-align: right;\">20,184</td><td style=\"text-align: right;\">13</td><td style=\"text-align: right;\">1696</td><td style=\"text-align: right;\">0.01</td><td style=\"text-align: right;\">20</td><td style=\"text-align: right;\">1.00</td><td style=\"text-align: right;\">0</td><td style=\"text-align: right;\">0.00</td><td style=\"text-align: right;\">0</td><td style=\"text-align: right;\">0.00</td><td style=\"text-align: right;\">0</td><td style=\"text-align: right;\">0.00</td><td style=\"text-align: right;\">20</td><td style=\"text-align: right;\">4.97</td><td style=\"text-align: right;\">0</td><td style=\"text-align: right;\">0.00</td><td style=\"text-align: right;\">0</td><td style=\"text-align: right;\">0.00</td><td style=\"text-align: right;\">0</td><td style=\"text-align: right;\">0.00</td></tr>\n",
       "<tr class=\"even\"><td style=\"text-align: right;\">354130</td><td style=\"text-align: right;\">136,653,925</td><td style=\"text-align: right;\">107,928</td><td style=\"text-align: right;\">24</td><td style=\"text-align: right;\">1504</td><td style=\"text-align: right;\">0.01</td><td style=\"text-align: right;\">20</td><td style=\"text-align: right;\">1.00</td><td style=\"text-align: right;\">0</td><td style=\"text-align: right;\">0.00</td><td style=\"text-align: right;\">0</td><td style=\"text-align: right;\">0.00</td><td style=\"text-align: right;\">0</td><td style=\"text-align: right;\">0.00</td><td style=\"text-align: right;\">20</td><td style=\"text-align: right;\">4.97</td><td style=\"text-align: right;\">0</td><td style=\"text-align: right;\">0.00</td><td style=\"text-align: right;\">0</td><td style=\"text-align: right;\">0.00</td><td style=\"text-align: right;\">0</td><td style=\"text-align: right;\">0.00</td></tr>\n",
       "<tr><td style=\"text-align: right;\">353925</td><td style=\"text-align: right;\">136,506,375</td><td style=\"text-align: right;\">32,564</td><td style=\"text-align: right;\">4</td><td style=\"text-align: right;\">1442</td><td style=\"text-align: right;\">0.01</td><td style=\"text-align: right;\">20</td><td style=\"text-align: right;\">1.00</td><td style=\"text-align: right;\">0</td><td style=\"text-align: right;\">0.00</td><td style=\"text-align: right;\">0</td><td style=\"text-align: right;\">0.00</td><td style=\"text-align: right;\">0</td><td style=\"text-align: right;\">0.00</td><td style=\"text-align: right;\">20</td><td style=\"text-align: right;\">4.97</td><td style=\"text-align: right;\">0</td><td style=\"text-align: right;\">0.00</td><td style=\"text-align: right;\">0</td><td style=\"text-align: right;\">0.00</td><td style=\"text-align: right;\">0</td><td style=\"text-align: right;\">0.00</td></tr>\n",
       "<tr class=\"even\"><td style=\"text-align: right;\">353791</td><td style=\"text-align: right;\">136,393,658</td><td style=\"text-align: right;\">92,684</td><td style=\"text-align: right;\">32</td><td style=\"text-align: right;\">1361</td><td style=\"text-align: right;\">0.01</td><td style=\"text-align: right;\">20</td><td style=\"text-align: right;\">1.00</td><td style=\"text-align: right;\">0</td><td style=\"text-align: right;\">0.00</td><td style=\"text-align: right;\">0</td><td style=\"text-align: right;\">0.00</td><td style=\"text-align: right;\">0</td><td style=\"text-align: right;\">0.00</td><td style=\"text-align: right;\">20</td><td style=\"text-align: right;\">4.97</td><td style=\"text-align: right;\">0</td><td style=\"text-align: right;\">0.00</td><td style=\"text-align: right;\">0</td><td style=\"text-align: right;\">0.00</td><td style=\"text-align: right;\">0</td><td style=\"text-align: right;\">0.00</td></tr>\n",
       "<tr><td style=\"text-align: right;\">353958</td><td style=\"text-align: right;\">136,535,876</td><td style=\"text-align: right;\">19,014</td><td style=\"text-align: right;\">7</td><td style=\"text-align: right;\">1303</td><td style=\"text-align: right;\">0.02</td><td style=\"text-align: right;\">20</td><td style=\"text-align: right;\">1.00</td><td style=\"text-align: right;\">0</td><td style=\"text-align: right;\">0.00</td><td style=\"text-align: right;\">0</td><td style=\"text-align: right;\">0.00</td><td style=\"text-align: right;\">0</td><td style=\"text-align: right;\">0.00</td><td style=\"text-align: right;\">20</td><td style=\"text-align: right;\">4.97</td><td style=\"text-align: right;\">0</td><td style=\"text-align: right;\">0.00</td><td style=\"text-align: right;\">0</td><td style=\"text-align: right;\">0.00</td><td style=\"text-align: right;\">0</td><td style=\"text-align: right;\">0.00</td></tr>\n",
       "<tr class=\"even\"><td style=\"text-align: right;\">354129</td><td style=\"text-align: right;\">136,652,953</td><td style=\"text-align: right;\">108,222</td><td style=\"text-align: right;\">5</td><td style=\"text-align: right;\">1296</td><td style=\"text-align: right;\">0.02</td><td style=\"text-align: right;\">20</td><td style=\"text-align: right;\">1.00</td><td style=\"text-align: right;\">0</td><td style=\"text-align: right;\">0.00</td><td style=\"text-align: right;\">0</td><td style=\"text-align: right;\">0.00</td><td style=\"text-align: right;\">0</td><td style=\"text-align: right;\">0.00</td><td style=\"text-align: right;\">20</td><td style=\"text-align: right;\">4.97</td><td style=\"text-align: right;\">0</td><td style=\"text-align: right;\">0.00</td><td style=\"text-align: right;\">0</td><td style=\"text-align: right;\">0.00</td><td style=\"text-align: right;\">0</td><td style=\"text-align: right;\">0.00</td></tr>\n",
       "<tr><td style=\"text-align: right;\">353919</td><td style=\"text-align: right;\">136,500,475</td><td style=\"text-align: right;\">42,085</td><td style=\"text-align: right;\">13</td><td style=\"text-align: right;\">1227</td><td style=\"text-align: right;\">0.02</td><td style=\"text-align: right;\">20</td><td style=\"text-align: right;\">1.00</td><td style=\"text-align: right;\">0</td><td style=\"text-align: right;\">0.00</td><td style=\"text-align: right;\">0</td><td style=\"text-align: right;\">0.00</td><td style=\"text-align: right;\">0</td><td style=\"text-align: right;\">0.00</td><td style=\"text-align: right;\">20</td><td style=\"text-align: right;\">4.97</td><td style=\"text-align: right;\">0</td><td style=\"text-align: right;\">0.00</td><td style=\"text-align: right;\">0</td><td style=\"text-align: right;\">0.00</td><td style=\"text-align: right;\">0</td><td style=\"text-align: right;\">0.00</td></tr>\n",
       "<tr class=\"even\"><td style=\"text-align: right;\">354127</td><td style=\"text-align: right;\">136,652,491</td><td style=\"text-align: right;\">80,281</td><td style=\"text-align: right;\">6</td><td style=\"text-align: right;\">1114</td><td style=\"text-align: right;\">0.02</td><td style=\"text-align: right;\">20</td><td style=\"text-align: right;\">1.00</td><td style=\"text-align: right;\">0</td><td style=\"text-align: right;\">0.00</td><td style=\"text-align: right;\">0</td><td style=\"text-align: right;\">0.00</td><td style=\"text-align: right;\">0</td><td style=\"text-align: right;\">0.00</td><td style=\"text-align: right;\">20</td><td style=\"text-align: right;\">4.97</td><td style=\"text-align: right;\">0</td><td style=\"text-align: right;\">0.00</td><td style=\"text-align: right;\">0</td><td style=\"text-align: right;\">0.00</td><td style=\"text-align: right;\">0</td><td style=\"text-align: right;\">0.00</td></tr>\n",
       "<tr><td style=\"text-align: right;\">353372</td><td style=\"text-align: right;\">135,829,592</td><td style=\"text-align: right;\">591,316</td><td style=\"text-align: right;\">9</td><td style=\"text-align: right;\">944</td><td style=\"text-align: right;\">0.02</td><td style=\"text-align: right;\">20</td><td style=\"text-align: right;\">1.00</td><td style=\"text-align: right;\">0</td><td style=\"text-align: right;\">0.00</td><td style=\"text-align: right;\">0</td><td style=\"text-align: right;\">0.00</td><td style=\"text-align: right;\">0</td><td style=\"text-align: right;\">0.00</td><td style=\"text-align: right;\">20</td><td style=\"text-align: right;\">4.97</td><td style=\"text-align: right;\">0</td><td style=\"text-align: right;\">0.00</td><td style=\"text-align: right;\">0</td><td style=\"text-align: right;\">0.00</td><td style=\"text-align: right;\">0</td><td style=\"text-align: right;\">0.00</td></tr>\n",
       "<tr class=\"even\"><td style=\"text-align: right;\">353902</td><td style=\"text-align: right;\">136,494,985</td><td style=\"text-align: right;\">278,653</td><td style=\"text-align: right;\">81</td><td style=\"text-align: right;\">857</td><td style=\"text-align: right;\">0.02</td><td style=\"text-align: right;\">20</td><td style=\"text-align: right;\">1.00</td><td style=\"text-align: right;\">0</td><td style=\"text-align: right;\">0.00</td><td style=\"text-align: right;\">0</td><td style=\"text-align: right;\">0.00</td><td style=\"text-align: right;\">0</td><td style=\"text-align: right;\">0.00</td><td style=\"text-align: right;\">20</td><td style=\"text-align: right;\">4.97</td><td style=\"text-align: right;\">0</td><td style=\"text-align: right;\">0.00</td><td style=\"text-align: right;\">0</td><td style=\"text-align: right;\">0.00</td><td style=\"text-align: right;\">0</td><td style=\"text-align: right;\">0.00</td></tr>\n",
       "<tr><td style=\"text-align: right;\">353498</td><td style=\"text-align: right;\">135,959,272</td><td style=\"text-align: right;\">416,583</td><td style=\"text-align: right;\">5</td><td style=\"text-align: right;\">684</td><td style=\"text-align: right;\">0.03</td><td style=\"text-align: right;\">20</td><td style=\"text-align: right;\">1.00</td><td style=\"text-align: right;\">0</td><td style=\"text-align: right;\">0.00</td><td style=\"text-align: right;\">0</td><td style=\"text-align: right;\">0.00</td><td style=\"text-align: right;\">0</td><td style=\"text-align: right;\">0.00</td><td style=\"text-align: right;\">20</td><td style=\"text-align: right;\">4.97</td><td style=\"text-align: right;\">0</td><td style=\"text-align: right;\">0.00</td><td style=\"text-align: right;\">0</td><td style=\"text-align: right;\">0.00</td><td style=\"text-align: right;\">0</td><td style=\"text-align: right;\">0.00</td></tr>\n",
       "<tr class=\"even\"><td style=\"text-align: right;\">353485</td><td style=\"text-align: right;\">135,942,182</td><td style=\"text-align: right;\">432,560</td><td style=\"text-align: right;\">4</td><td style=\"text-align: right;\">67</td><td style=\"text-align: right;\">0.30</td><td style=\"text-align: right;\">20</td><td style=\"text-align: right;\">1.00</td><td style=\"text-align: right;\">0</td><td style=\"text-align: right;\">0.00</td><td style=\"text-align: right;\">0</td><td style=\"text-align: right;\">0.00</td><td style=\"text-align: right;\">0</td><td style=\"text-align: right;\">0.00</td><td style=\"text-align: right;\">20</td><td style=\"text-align: right;\">4.97</td><td style=\"text-align: right;\">0</td><td style=\"text-align: right;\">0.00</td><td style=\"text-align: right;\">0</td><td style=\"text-align: right;\">0.00</td><td style=\"text-align: right;\">0</td><td style=\"text-align: right;\">0.00</td></tr>\n",
       "<tr><td style=\"text-align: right;\">354176</td><td style=\"text-align: right;\">136,687,844</td><td style=\"text-align: right;\">21,965</td><td style=\"text-align: right;\">4</td><td style=\"text-align: right;\">25</td><td style=\"text-align: right;\">0.80</td><td style=\"text-align: right;\">20</td><td style=\"text-align: right;\">1.00</td><td style=\"text-align: right;\">0</td><td style=\"text-align: right;\">0.00</td><td style=\"text-align: right;\">0</td><td style=\"text-align: right;\">0.00</td><td style=\"text-align: right;\">0</td><td style=\"text-align: right;\">0.00</td><td style=\"text-align: right;\">20</td><td style=\"text-align: right;\">4.97</td><td style=\"text-align: right;\">0</td><td style=\"text-align: right;\">0.00</td><td style=\"text-align: right;\">0</td><td style=\"text-align: right;\">0.00</td><td style=\"text-align: right;\">0</td><td style=\"text-align: right;\">0.00</td></tr>\n",
       "</table>"
      ],
      "text/plain": [
       "<IPython.core.display.HTML object>"
      ]
     },
     "execution_count": 7,
     "metadata": {},
     "output_type": "execute_result"
    }
   ],
   "source": [
    "HTML(plt_obj.get_html())"
   ]
  },
  {
   "cell_type": "code",
   "execution_count": 8,
   "metadata": {
    "collapsed": false
   },
   "outputs": [
    {
     "data": {
      "text/html": [
       "\n",
       "\n",
       "    <div class=\"bk-root\">\n",
       "        <div class=\"plotdiv\" id=\"96ceaacc-5391-45fb-8180-1009839823ec\"></div>\n",
       "    </div>\n",
       "<script type=\"text/javascript\">\n",
       "  \n",
       "  (function(global) {\n",
       "    function now() {\n",
       "      return new Date();\n",
       "    }\n",
       "  \n",
       "    if (typeof (window._bokeh_onload_callbacks) === \"undefined\") {\n",
       "      window._bokeh_onload_callbacks = [];\n",
       "    }\n",
       "  \n",
       "    function run_callbacks() {\n",
       "      window._bokeh_onload_callbacks.forEach(function(callback) { callback() });\n",
       "      delete window._bokeh_onload_callbacks\n",
       "      console.info(\"Bokeh: all callbacks have finished\");\n",
       "    }\n",
       "  \n",
       "    function load_libs(js_urls, callback) {\n",
       "      window._bokeh_onload_callbacks.push(callback);\n",
       "      if (window._bokeh_is_loading > 0) {\n",
       "        console.log(\"Bokeh: BokehJS is being loaded, scheduling callback at\", now());\n",
       "        return null;\n",
       "      }\n",
       "      if (js_urls == null || js_urls.length === 0) {\n",
       "        run_callbacks();\n",
       "        return null;\n",
       "      }\n",
       "      console.log(\"Bokeh: BokehJS not loaded, scheduling load and callback at\", now());\n",
       "      window._bokeh_is_loading = js_urls.length;\n",
       "      for (var i = 0; i < js_urls.length; i++) {\n",
       "        var url = js_urls[i];\n",
       "        var s = document.createElement('script');\n",
       "        s.src = url;\n",
       "        s.async = false;\n",
       "        s.onreadystatechange = s.onload = function() {\n",
       "          window._bokeh_is_loading--;\n",
       "          if (window._bokeh_is_loading === 0) {\n",
       "            console.log(\"Bokeh: all BokehJS libraries loaded\");\n",
       "            run_callbacks()\n",
       "          }\n",
       "        };\n",
       "        s.onerror = function() {\n",
       "          console.warn(\"failed to load library \" + url);\n",
       "        };\n",
       "        console.log(\"Bokeh: injecting script tag for BokehJS library: \", url);\n",
       "        document.getElementsByTagName(\"head\")[0].appendChild(s);\n",
       "      }\n",
       "    };var element = document.getElementById(\"96ceaacc-5391-45fb-8180-1009839823ec\");\n",
       "    if (element == null) {\n",
       "      console.log(\"Bokeh: ERROR: autoload.js configured with elementid '96ceaacc-5391-45fb-8180-1009839823ec' but no matching script tag was found. \")\n",
       "      return false;\n",
       "    }\n",
       "  \n",
       "    var js_urls = [];\n",
       "  \n",
       "    var inline_js = [\n",
       "      function(Bokeh) {\n",
       "        Bokeh.$(function() {\n",
       "            var docs_json = {\"f6cfe056-3c43-43cd-ada7-9c5258e6c7dc\":{\"roots\":{\"references\":[{\"attributes\":{\"active_drag\":\"auto\",\"active_scroll\":\"auto\",\"active_tap\":\"auto\",\"tools\":[{\"id\":\"52122581-4273-4f21-9ce2-aaf6618dbac6\",\"type\":\"PanTool\"},{\"id\":\"2be5302c-6924-4bc4-97a3-dff894c5415c\",\"type\":\"WheelZoomTool\"},{\"id\":\"28e21244-dee2-4d92-acfd-2b7449c4b3c7\",\"type\":\"BoxZoomTool\"},{\"id\":\"a6f59c92-ac78-4660-8e6b-8937e36e4b60\",\"type\":\"SaveTool\"},{\"id\":\"ee5aef77-98be-47ba-8a34-dd3c0cd326a1\",\"type\":\"ResetTool\"},{\"id\":\"2938a919-a8de-4207-bb1e-48d25be3ae78\",\"type\":\"HelpTool\"}]},\"id\":\"8ba16c5c-cb5f-4687-a1f2-febe6403df7b\",\"type\":\"Toolbar\"},{\"attributes\":{\"below\":[{\"id\":\"cfb63150-e55c-4b7e-bd49-69962cac4bb2\",\"type\":\"LinearAxis\"}],\"left\":[{\"id\":\"6fe540be-a972-4eab-abc7-3242b77b00b5\",\"type\":\"LinearAxis\"}],\"plot_width\":900,\"renderers\":[{\"id\":\"cfb63150-e55c-4b7e-bd49-69962cac4bb2\",\"type\":\"LinearAxis\"},{\"id\":\"361f3746-3706-40b2-9786-bfb9ce629a36\",\"type\":\"Grid\"},{\"id\":\"6fe540be-a972-4eab-abc7-3242b77b00b5\",\"type\":\"LinearAxis\"},{\"id\":\"234a70bb-dee0-4b93-ab31-e54e249f0085\",\"type\":\"Grid\"},{\"id\":\"36201b54-6eb5-4384-b6e8-1b8d29d4899a\",\"type\":\"BoxAnnotation\"},{\"id\":\"6471848b-497f-41a8-8a5c-854fb8f017f1\",\"type\":\"GlyphRenderer\"},{\"id\":\"d1ead198-521f-4976-9492-508bfafa292d\",\"type\":\"GlyphRenderer\"},{\"id\":\"f29d9a0e-403e-4623-8bf4-815ca9bacc2b\",\"type\":\"LabelSet\"},{\"id\":\"d9676168-ade9-418d-b709-78a7719c266e\",\"type\":\"GlyphRenderer\"},{\"id\":\"1a535553-5402-4c83-9cd7-02d7b133bf52\",\"type\":\"LabelSet\"}],\"title\":{\"id\":\"12ff4309-38b2-4f67-9e26-772dc21cff39\",\"type\":\"Title\"},\"tool_events\":{\"id\":\"7fc40690-524c-4049-92df-58ca8379d053\",\"type\":\"ToolEvents\"},\"toolbar\":{\"id\":\"8ba16c5c-cb5f-4687-a1f2-febe6403df7b\",\"type\":\"Toolbar\"},\"toolbar_location\":null,\"x_range\":{\"id\":\"0995863a-3308-4292-a5b6-10f4df655793\",\"type\":\"Range1d\"},\"y_range\":{\"id\":\"4cf96707-c152-4c5c-a869-757f9148250e\",\"type\":\"Range1d\"}},\"id\":\"bdc6380e-44f6-4d7d-b06d-9b6f1e46281c\",\"subtype\":\"Figure\",\"type\":\"Plot\"},{\"attributes\":{\"plot\":{\"id\":\"bdc6380e-44f6-4d7d-b06d-9b6f1e46281c\",\"subtype\":\"Figure\",\"type\":\"Plot\"},\"ticker\":{\"id\":\"10559d07-e92c-4f8b-a3cc-b63c68dc99b0\",\"type\":\"BasicTicker\"}},\"id\":\"361f3746-3706-40b2-9786-bfb9ce629a36\",\"type\":\"Grid\"},{\"attributes\":{\"level\":\"glyph\",\"plot\":{\"id\":\"bdc6380e-44f6-4d7d-b06d-9b6f1e46281c\",\"subtype\":\"Figure\",\"type\":\"Plot\"},\"source\":{\"id\":\"6f905fd8-3d85-4f2e-ae27-2b95f1fe0925\",\"type\":\"ColumnDataSource\"},\"text\":{\"field\":\"vals\"},\"text_align\":\"center\",\"text_baseline\":\"middle\",\"text_font_size\":{\"value\":\"8pt\"},\"x\":{\"field\":\"x\"},\"y\":{\"field\":\"y\"}},\"id\":\"1a535553-5402-4c83-9cd7-02d7b133bf52\",\"type\":\"LabelSet\"},{\"attributes\":{\"plot\":null,\"text\":null},\"id\":\"12ff4309-38b2-4f67-9e26-772dc21cff39\",\"type\":\"Title\"},{\"attributes\":{\"callback\":null,\"end\":600},\"id\":\"4cf96707-c152-4c5c-a869-757f9148250e\",\"type\":\"Range1d\"},{\"attributes\":{\"bottom\":{\"field\":\"bottom\"},\"fill_color\":{\"field\":\"fill_color\"},\"left\":{\"field\":\"left\"},\"line_color\":{\"value\":null},\"right\":{\"field\":\"right\"},\"top\":{\"field\":\"top\"}},\"id\":\"5d94d8cb-6894-4f81-adb3-9f10c6ed3149\",\"type\":\"Quad\"},{\"attributes\":{\"bottom\":{\"field\":\"bottom\"},\"fill_color\":{\"value\":\"white\"},\"left\":{\"field\":\"left\"},\"right\":{\"field\":\"right\"},\"top\":{\"field\":\"top\"}},\"id\":\"5bafb6a3-d6fe-4681-a31f-61a89e0dcdc4\",\"type\":\"Quad\"},{\"attributes\":{\"line_alpha\":{\"value\":0.1},\"line_color\":{\"value\":\"#1f77b4\"},\"xs\":{\"field\":\"xs\"},\"ys\":{\"field\":\"ys\"}},\"id\":\"00920cef-6209-42c7-bfb8-091d825a5c0e\",\"type\":\"MultiLine\"},{\"attributes\":{\"data_source\":{\"id\":\"09fe027b-0442-4299-8632-ab3fccf31670\",\"type\":\"ColumnDataSource\"},\"glyph\":{\"id\":\"5bafb6a3-d6fe-4681-a31f-61a89e0dcdc4\",\"type\":\"Quad\"},\"hover_glyph\":null,\"nonselection_glyph\":{\"id\":\"e97a19cc-9b90-43e2-bfbe-d6ddcfcc615c\",\"type\":\"Quad\"},\"selection_glyph\":null},\"id\":\"d9676168-ade9-418d-b709-78a7719c266e\",\"type\":\"GlyphRenderer\"},{\"attributes\":{\"plot\":{\"id\":\"bdc6380e-44f6-4d7d-b06d-9b6f1e46281c\",\"subtype\":\"Figure\",\"type\":\"Plot\"}},\"id\":\"a6f59c92-ac78-4660-8e6b-8937e36e4b60\",\"type\":\"SaveTool\"},{\"attributes\":{\"callback\":null,\"end\":136786630,\"start\":135757320},\"id\":\"0995863a-3308-4292-a5b6-10f4df655793\",\"type\":\"Range1d\"},{\"attributes\":{\"overlay\":{\"id\":\"36201b54-6eb5-4384-b6e8-1b8d29d4899a\",\"type\":\"BoxAnnotation\"},\"plot\":{\"id\":\"bdc6380e-44f6-4d7d-b06d-9b6f1e46281c\",\"subtype\":\"Figure\",\"type\":\"Plot\"}},\"id\":\"28e21244-dee2-4d92-acfd-2b7449c4b3c7\",\"type\":\"BoxZoomTool\"},{\"attributes\":{\"plot\":{\"id\":\"bdc6380e-44f6-4d7d-b06d-9b6f1e46281c\",\"subtype\":\"Figure\",\"type\":\"Plot\"}},\"id\":\"2be5302c-6924-4bc4-97a3-dff894c5415c\",\"type\":\"WheelZoomTool\"},{\"attributes\":{\"dimension\":1,\"plot\":{\"id\":\"bdc6380e-44f6-4d7d-b06d-9b6f1e46281c\",\"subtype\":\"Figure\",\"type\":\"Plot\"},\"ticker\":{\"id\":\"96917908-843f-40bb-b1e3-ee78706181a5\",\"type\":\"BasicTicker\"}},\"id\":\"234a70bb-dee0-4b93-ab31-e54e249f0085\",\"type\":\"Grid\"},{\"attributes\":{\"data_source\":{\"id\":\"40958f34-6da5-46c7-8fd9-34eddce03b4c\",\"type\":\"ColumnDataSource\"},\"glyph\":{\"id\":\"71228511-851e-41b4-b29f-04e80f4b8bde\",\"type\":\"MultiLine\"},\"hover_glyph\":null,\"nonselection_glyph\":{\"id\":\"00920cef-6209-42c7-bfb8-091d825a5c0e\",\"type\":\"MultiLine\"},\"selection_glyph\":null},\"id\":\"d1ead198-521f-4976-9492-508bfafa292d\",\"type\":\"GlyphRenderer\"},{\"attributes\":{\"formatter\":{\"id\":\"f8578809-eef1-4dd5-b321-0b86452e9427\",\"type\":\"BasicTickFormatter\"},\"plot\":{\"id\":\"bdc6380e-44f6-4d7d-b06d-9b6f1e46281c\",\"subtype\":\"Figure\",\"type\":\"Plot\"},\"ticker\":{\"id\":\"10559d07-e92c-4f8b-a3cc-b63c68dc99b0\",\"type\":\"BasicTicker\"}},\"id\":\"cfb63150-e55c-4b7e-bd49-69962cac4bb2\",\"type\":\"LinearAxis\"},{\"attributes\":{},\"id\":\"10559d07-e92c-4f8b-a3cc-b63c68dc99b0\",\"type\":\"BasicTicker\"},{\"attributes\":{\"callback\":null,\"column_names\":[\"right\",\"bottom\",\"top\",\"left\",\"fill_color\"],\"data\":{\"bottom\":[350,250,50,150,350,350,450,450],\"fill_color\":[\"#808080\",\"#c4c461\",\"#ffff00\",\"#ffff00\",\"#c4c461\",\"#61c461\",\"#808080\",\"#61c461\"],\"left\":[135757320,135829592,135942182,135959272,136393658,136494186,136501840,136682274],\"right\":[135777504,136420908,136374742,136375855,136486342,136765951,136555659,136775898],\"top\":[396,291,68,188,394,395,498,497]}},\"id\":\"c95831a5-6b16-4c1a-81ff-9d00ff21e792\",\"type\":\"ColumnDataSource\"},{\"attributes\":{\"bottom\":{\"field\":\"bottom\"},\"fill_alpha\":{\"value\":0.1},\"fill_color\":{\"value\":\"#1f77b4\"},\"left\":{\"field\":\"left\"},\"line_alpha\":{\"value\":0.1},\"line_color\":{\"value\":\"#1f77b4\"},\"right\":{\"field\":\"right\"},\"top\":{\"field\":\"top\"}},\"id\":\"e97a19cc-9b90-43e2-bfbe-d6ddcfcc615c\",\"type\":\"Quad\"},{\"attributes\":{\"callback\":null,\"column_names\":[\"y\",\"x\",\"vals\"],\"data\":{\"vals\":[\"13_1696\",\"9_944\",\"4_67\",\"5_684\",\"32_1361\",\"64_1575\",\"10_2206\",\"7_1868\"],\"x\":[135757320,135829592,135942182,135959272,136393658,136494186,136501840,136682274],\"y\":[401.0,296.0,73.0,193.0,399.0,400.0,503.0,502.0]}},\"id\":\"407039ed-b86f-4d69-a6d3-8d1e389af1c6\",\"type\":\"ColumnDataSource\"},{\"attributes\":{\"plot\":{\"id\":\"bdc6380e-44f6-4d7d-b06d-9b6f1e46281c\",\"subtype\":\"Figure\",\"type\":\"Plot\"}},\"id\":\"ee5aef77-98be-47ba-8a34-dd3c0cd326a1\",\"type\":\"ResetTool\"},{\"attributes\":{\"level\":\"glyph\",\"plot\":{\"id\":\"bdc6380e-44f6-4d7d-b06d-9b6f1e46281c\",\"subtype\":\"Figure\",\"type\":\"Plot\"},\"source\":{\"id\":\"407039ed-b86f-4d69-a6d3-8d1e389af1c6\",\"type\":\"ColumnDataSource\"},\"text\":{\"field\":\"vals\"},\"text_font_size\":{\"value\":\"9pt\"},\"text_font_style\":\"bold\",\"x\":{\"field\":\"x\"},\"y\":{\"field\":\"y\"}},\"id\":\"f29d9a0e-403e-4623-8bf4-815ca9bacc2b\",\"type\":\"LabelSet\"},{\"attributes\":{\"formatter\":{\"id\":\"d0a7112a-7dc4-40e2-9809-3c4be16d91f7\",\"type\":\"BasicTickFormatter\"},\"plot\":{\"id\":\"bdc6380e-44f6-4d7d-b06d-9b6f1e46281c\",\"subtype\":\"Figure\",\"type\":\"Plot\"},\"ticker\":{\"id\":\"96917908-843f-40bb-b1e3-ee78706181a5\",\"type\":\"BasicTicker\"},\"visible\":null},\"id\":\"6fe540be-a972-4eab-abc7-3242b77b00b5\",\"type\":\"LinearAxis\"},{\"attributes\":{\"plot\":{\"id\":\"bdc6380e-44f6-4d7d-b06d-9b6f1e46281c\",\"subtype\":\"Figure\",\"type\":\"Plot\"}},\"id\":\"52122581-4273-4f21-9ce2-aaf6618dbac6\",\"type\":\"PanTool\"},{\"attributes\":{\"bottom\":{\"field\":\"bottom\"},\"fill_alpha\":{\"value\":0.1},\"fill_color\":{\"value\":\"#1f77b4\"},\"left\":{\"field\":\"left\"},\"line_alpha\":{\"value\":0.1},\"line_color\":{\"value\":\"#1f77b4\"},\"right\":{\"field\":\"right\"},\"top\":{\"field\":\"top\"}},\"id\":\"370e47c8-b52d-49dd-a4fd-5930d6a24551\",\"type\":\"Quad\"},{\"attributes\":{},\"id\":\"f8578809-eef1-4dd5-b321-0b86452e9427\",\"type\":\"BasicTickFormatter\"},{\"attributes\":{},\"id\":\"96917908-843f-40bb-b1e3-ee78706181a5\",\"type\":\"BasicTicker\"},{\"attributes\":{\"plot\":{\"id\":\"bdc6380e-44f6-4d7d-b06d-9b6f1e46281c\",\"subtype\":\"Figure\",\"type\":\"Plot\"}},\"id\":\"2938a919-a8de-4207-bb1e-48d25be3ae78\",\"type\":\"HelpTool\"},{\"attributes\":{},\"id\":\"7fc40690-524c-4049-92df-58ca8379d053\",\"type\":\"ToolEvents\"},{\"attributes\":{\"callback\":null,\"column_names\":[\"y\",\"x\",\"vals\"],\"data\":{\"vals\":[\"RAB3GAP1\",\"ZRANB3\",\"R3HDM1\",\"UBXN4\",\"LCT\",\"MCM6\",\"DARS\"],\"x\":[135869057.0,136122878.0,136385961.0,136520911.0,136570082.5,136615621.5,136703738.0],\"y\":[560.0,560.0,560.0,560.0,560.0,560.0,560.0]}},\"id\":\"6f905fd8-3d85-4f2e-ae27-2b95f1fe0925\",\"type\":\"ColumnDataSource\"},{\"attributes\":{\"callback\":null,\"column_names\":[\"right\",\"bottom\",\"top\",\"left\"],\"data\":{\"bottom\":[545,545,545,545,545,545,545],\"left\":[135809835,135957574,136289083,136499189,136545415,136597196,136664254],\"right\":[135928279,136288182,136482839,136542633,136594750,136634047,136743222],\"top\":[575,575,575,575,575,575,575]}},\"id\":\"09fe027b-0442-4299-8632-ab3fccf31670\",\"type\":\"ColumnDataSource\"},{\"attributes\":{\"bottom_units\":\"screen\",\"fill_alpha\":{\"value\":0.5},\"fill_color\":{\"value\":\"lightgrey\"},\"left_units\":\"screen\",\"level\":\"overlay\",\"line_alpha\":{\"value\":1.0},\"line_color\":{\"value\":\"black\"},\"line_dash\":[4,4],\"line_width\":{\"value\":2},\"plot\":null,\"render_mode\":\"css\",\"right_units\":\"screen\",\"top_units\":\"screen\"},\"id\":\"36201b54-6eb5-4384-b6e8-1b8d29d4899a\",\"type\":\"BoxAnnotation\"},{\"attributes\":{},\"id\":\"d0a7112a-7dc4-40e2-9809-3c4be16d91f7\",\"type\":\"BasicTickFormatter\"},{\"attributes\":{\"callback\":null,\"column_names\":[\"xs\",\"ys\",\"line_color\"],\"data\":{\"line_color\":[\"black\",\"black\",\"black\",\"black\",\"black\",\"black\",\"black\",\"black\",\"black\",\"black\",\"black\",\"black\",\"black\",\"black\",\"black\",\"black\",\"black\",\"black\",\"black\",\"black\",\"black\",\"black\",\"black\",\"black\",\"black\",\"black\",\"black\",\"black\",\"black\",\"black\",\"black\",\"black\",\"black\",\"black\",\"black\",\"black\",\"black\",\"black\",\"black\",\"black\",\"black\",\"black\",\"black\",\"black\",\"black\",\"black\",\"black\",\"black\",\"black\",\"black\",\"black\",\"black\",\"black\",\"black\",\"black\",\"black\",\"black\",\"black\",\"black\",\"black\",\"black\",\"black\",\"black\",\"black\",\"black\",\"black\",\"black\",\"black\",\"black\",\"black\",\"black\",\"black\",\"black\",\"black\",\"black\",\"black\",\"black\",\"black\",\"black\",\"black\",\"black\",\"black\",\"black\",\"black\",\"black\",\"black\",\"black\",\"black\",\"black\",\"black\",\"black\",\"black\",\"black\",\"black\",\"black\",\"black\",\"black\",\"black\",\"black\",\"black\",\"black\",\"black\",\"black\",\"black\",\"black\",\"black\",\"black\",\"black\",\"black\",\"black\",\"black\",\"black\",\"black\",\"black\",\"black\",\"black\",\"black\",\"black\",\"black\",\"black\",\"black\",\"black\",\"black\",\"black\",\"black\",\"black\",\"black\",\"black\",\"black\",\"black\",\"black\",\"black\",\"black\",\"black\",\"black\",\"black\",\"black\",\"black\",\"black\",\"black\",\"black\",\"black\",\"black\",\"black\"],\"xs\":[[135757320,135757320],[135761078,135761078],[135761271,135761271],[135762344,135762344],[135762980,135762980],[135763280,135763280],[135768815,135768815],[135769093,135769093],[135769127,135769127],[135770940,135770940],[135770951,135770951],[135776728,135776728],[135777504,135777504],[135829592,135829592],[135893372,135893372],[135952405,135952405],[135989721,135989721],[136136056,136136056],[136313639,136313639],[136401418,136401418],[136407078,136407078],[136420908,136420908],[135942182,135942182],[136120380,136120380],[136213143,136213143],[136374742,136374742],[135959272,135959272],[136149550,136149550],[136164840,136164840],[136313885,136313885],[136375855,136375855],[136393658,136393658],[136396300,136396300],[136401843,136401843],[136407445,136407445],[136411879,136411879],[136412270,136412270],[136413244,136413244],[136413847,136413847],[136415217,136415217],[136416533,136416533],[136420726,136420726],[136429857,136429857],[136433740,136433740],[136436317,136436317],[136437615,136437615],[136438517,136438517],[136440300,136440300],[136443900,136443900],[136444185,136444185],[136444338,136444338],[136449254,136449254],[136451676,136451676],[136459227,136459227],[136463117,136463117],[136463454,136463454],[136467119,136467119],[136468238,136468238],[136470219,136470219],[136483355,136483355],[136485276,136485276],[136486340,136486340],[136486342,136486342],[136494186,136494186],[136495300,136495300],[136495619,136495619],[136499166,136499166],[136502792,136502792],[136503157,136503157],[136507039,136507039],[136511575,136511575],[136518103,136518103],[136521514,136521514],[136522675,136522675],[136522941,136522941],[136526981,136526981],[136535410,136535410],[136539122,136539122],[136544197,136544197],[136550109,136550109],[136551694,136551694],[136553188,136553188],[136553639,136553639],[136554800,136554800],[136557319,136557319],[136558157,136558157],[136569848,136569848],[136575199,136575199],[136576577,136576577],[136578536,136578536],[136580287,136580287],[136583192,136583192],[136586958,136586958],[136588478,136588478],[136589612,136589612],[136591178,136591178],[136591859,136591859],[136593760,136593760],[136594158,136594158],[136603276,136603276],[136603366,136603366],[136608231,136608231],[136609975,136609975],[136610598,136610598],[136611624,136611624],[136613780,136613780],[136614255,136614255],[136614813,136614813],[136617524,136617524],[136622216,136622216],[136625602,136625602],[136629911,136629911],[136630757,136630757],[136630989,136630989],[136631031,136631031],[136633771,136633771],[136636324,136636324],[136638216,136638216],[136640233,136640233],[136641882,136641882],[136643555,136643555],[136658345,136658345],[136670298,136670298],[136685228,136685228],[136696138,136696138],[136740900,136740900],[136765951,136765951],[136501840,136501840],[136505546,136505546],[136516748,136516748],[136522710,136522710],[136528004,136528004],[136539513,136539513],[136544752,136544752],[136546110,136546110],[136553529,136553529],[136555659,136555659],[136682274,136682274],[136691825,136691825],[136698098,136698098],[136721603,136721603],[136721995,136721995],[136755684,136755684],[136775898,136775898]],\"ys\":[[350,396],[350,396],[350,396],[350,396],[350,396],[350,396],[350,396],[350,396],[350,396],[350,396],[350,396],[350,396],[350,396],[250,291],[250,291],[250,291],[250,291],[250,291],[250,291],[250,291],[250,291],[250,291],[50,68],[50,68],[50,68],[50,68],[150,188],[150,188],[150,188],[150,188],[150,188],[350,394],[350,394],[350,394],[350,394],[350,394],[350,394],[350,394],[350,394],[350,394],[350,394],[350,394],[350,394],[350,394],[350,394],[350,394],[350,394],[350,394],[350,394],[350,394],[350,394],[350,394],[350,394],[350,394],[350,394],[350,394],[350,394],[350,394],[350,394],[350,394],[350,394],[350,394],[350,394],[350,395],[350,395],[350,395],[350,395],[350,395],[350,395],[350,395],[350,395],[350,395],[350,395],[350,395],[350,395],[350,395],[350,395],[350,395],[350,395],[350,395],[350,395],[350,395],[350,395],[350,395],[350,395],[350,395],[350,395],[350,395],[350,395],[350,395],[350,395],[350,395],[350,395],[350,395],[350,395],[350,395],[350,395],[350,395],[350,395],[350,395],[350,395],[350,395],[350,395],[350,395],[350,395],[350,395],[350,395],[350,395],[350,395],[350,395],[350,395],[350,395],[350,395],[350,395],[350,395],[350,395],[350,395],[350,395],[350,395],[350,395],[350,395],[350,395],[350,395],[350,395],[350,395],[350,395],[350,395],[450,498],[450,498],[450,498],[450,498],[450,498],[450,498],[450,498],[450,498],[450,498],[450,498],[450,497],[450,497],[450,497],[450,497],[450,497],[450,497],[450,497]]}},\"id\":\"40958f34-6da5-46c7-8fd9-34eddce03b4c\",\"type\":\"ColumnDataSource\"},{\"attributes\":{\"data_source\":{\"id\":\"c95831a5-6b16-4c1a-81ff-9d00ff21e792\",\"type\":\"ColumnDataSource\"},\"glyph\":{\"id\":\"5d94d8cb-6894-4f81-adb3-9f10c6ed3149\",\"type\":\"Quad\"},\"hover_glyph\":null,\"nonselection_glyph\":{\"id\":\"370e47c8-b52d-49dd-a4fd-5930d6a24551\",\"type\":\"Quad\"},\"selection_glyph\":null},\"id\":\"6471848b-497f-41a8-8a5c-854fb8f017f1\",\"type\":\"GlyphRenderer\"},{\"attributes\":{\"line_color\":{\"field\":\"line_color\"},\"xs\":{\"field\":\"xs\"},\"ys\":{\"field\":\"ys\"}},\"id\":\"71228511-851e-41b4-b29f-04e80f4b8bde\",\"type\":\"MultiLine\"}],\"root_ids\":[\"bdc6380e-44f6-4d7d-b06d-9b6f1e46281c\"]},\"title\":\"Bokeh Application\",\"version\":\"0.12.0\"}};\n",
       "            var render_items = [{\"docid\":\"f6cfe056-3c43-43cd-ada7-9c5258e6c7dc\",\"elementid\":\"96ceaacc-5391-45fb-8180-1009839823ec\",\"modelid\":\"bdc6380e-44f6-4d7d-b06d-9b6f1e46281c\",\"notebook_comms_target\":\"1fa8eaee-3877-4197-95a9-8fefa8fa2130\"}];\n",
       "            \n",
       "            Bokeh.embed.embed_items(docs_json, render_items);\n",
       "        });\n",
       "      },\n",
       "      function(Bokeh) {\n",
       "      }\n",
       "    ];\n",
       "  \n",
       "    function run_inline_js() {\n",
       "      for (var i = 0; i < inline_js.length; i++) {\n",
       "        inline_js[i](window.Bokeh);\n",
       "      }\n",
       "    }\n",
       "  \n",
       "    if (window._bokeh_is_loading === 0) {\n",
       "      console.log(\"Bokeh: BokehJS loaded, going straight to plotting\");\n",
       "      run_inline_js();\n",
       "    } else {\n",
       "      load_libs(js_urls, function() {\n",
       "        console.log(\"Bokeh: BokehJS plotting callback run at\", now());\n",
       "        run_inline_js();\n",
       "      });\n",
       "    }\n",
       "  }(this));\n",
       "</script>"
      ]
     },
     "metadata": {},
     "output_type": "display_data"
    },
    {
     "data": {
      "text/html": [
       "<p><code>&lt;Bokeh Notebook handle for <strong>In[8]</strong>&gt;</code></p>"
      ],
      "text/plain": [
       "<bokeh.io._CommsHandle at 0x7fdd0fb72350>"
      ]
     },
     "execution_count": 8,
     "metadata": {},
     "output_type": "execute_result"
    }
   ],
   "source": [
    "plt_obj = dm.superset_yes_no([di_4_67, dm.di_5_684, dm.di_64_1575], [dm.di_81_857], min_match=0.001)\n",
    "plt = plt_obj.do_plot()\n",
    "show(plt)"
   ]
  },
  {
   "cell_type": "code",
   "execution_count": 9,
   "metadata": {
    "collapsed": false
   },
   "outputs": [
    {
     "data": {
      "text/html": [
       "<table>\n",
       "<thead><tr><th style=\"text-align:center\">index</th><th style=\"text-align:center\">first</th><th style=\"text-align:center\">length</th><th style=\"text-align:center\">snps</th><th style=\"text-align:center\" colspan=2>alleles</th><th style=\"text-align:center\" colspan=2>matches</th><th style=\"text-align:center\" colspan=2>afr</th><th style=\"text-align:center\" colspan=2>afx</th><th style=\"text-align:center\" colspan=2>amr</th><th style=\"text-align:center\" colspan=2>eas</th><th style=\"text-align:center\" colspan=2>eur</th><th style=\"text-align:center\" colspan=2>sas</th><th style=\"text-align:center\" colspan=2>sax</th></tr></thead>\n",
       "<tr class=\"even\"><td style=\"text-align: right;\">353921</td><td style=\"text-align: right;\">136,501,840</td><td style=\"text-align: right;\">53,819</td><td style=\"text-align: right;\">10</td><td style=\"text-align: right;\">2206</td><td style=\"text-align: right;\">0.00</td><td style=\"text-align: right;\">1</td><td style=\"text-align: right;\">1.00</td><td style=\"text-align: right;\">0</td><td style=\"text-align: right;\">0.00</td><td style=\"text-align: right;\">0</td><td style=\"text-align: right;\">0.00</td><td style=\"text-align: right;\">0</td><td style=\"text-align: right;\">0.00</td><td style=\"text-align: right;\">1</td><td style=\"text-align: right;\">4.88</td><td style=\"text-align: right;\">0</td><td style=\"text-align: right;\">0.00</td><td style=\"text-align: right;\">0</td><td style=\"text-align: right;\">0.00</td><td style=\"text-align: right;\">0</td><td style=\"text-align: right;\">0.00</td></tr>\n",
       "<tr><td style=\"text-align: right;\">354170</td><td style=\"text-align: right;\">136,682,274</td><td style=\"text-align: right;\">93,624</td><td style=\"text-align: right;\">7</td><td style=\"text-align: right;\">1868</td><td style=\"text-align: right;\">0.00</td><td style=\"text-align: right;\">1</td><td style=\"text-align: right;\">1.00</td><td style=\"text-align: right;\">0</td><td style=\"text-align: right;\">0.00</td><td style=\"text-align: right;\">0</td><td style=\"text-align: right;\">0.00</td><td style=\"text-align: right;\">0</td><td style=\"text-align: right;\">0.00</td><td style=\"text-align: right;\">1</td><td style=\"text-align: right;\">4.88</td><td style=\"text-align: right;\">0</td><td style=\"text-align: right;\">0.00</td><td style=\"text-align: right;\">0</td><td style=\"text-align: right;\">0.00</td><td style=\"text-align: right;\">0</td><td style=\"text-align: right;\">0.00</td></tr>\n",
       "<tr class=\"even\"><td style=\"text-align: right;\">353240</td><td style=\"text-align: right;\">135,757,320</td><td style=\"text-align: right;\">20,184</td><td style=\"text-align: right;\">13</td><td style=\"text-align: right;\">1696</td><td style=\"text-align: right;\">0.00</td><td style=\"text-align: right;\">1</td><td style=\"text-align: right;\">1.00</td><td style=\"text-align: right;\">0</td><td style=\"text-align: right;\">0.00</td><td style=\"text-align: right;\">0</td><td style=\"text-align: right;\">0.00</td><td style=\"text-align: right;\">0</td><td style=\"text-align: right;\">0.00</td><td style=\"text-align: right;\">1</td><td style=\"text-align: right;\">4.88</td><td style=\"text-align: right;\">0</td><td style=\"text-align: right;\">0.00</td><td style=\"text-align: right;\">0</td><td style=\"text-align: right;\">0.00</td><td style=\"text-align: right;\">0</td><td style=\"text-align: right;\">0.00</td></tr>\n",
       "<tr><td style=\"text-align: right;\">353901</td><td style=\"text-align: right;\">136,494,186</td><td style=\"text-align: right;\">271,765</td><td style=\"text-align: right;\">64</td><td style=\"text-align: right;\">1575</td><td style=\"text-align: right;\">0.00</td><td style=\"text-align: right;\">1</td><td style=\"text-align: right;\">1.00</td><td style=\"text-align: right;\">0</td><td style=\"text-align: right;\">0.00</td><td style=\"text-align: right;\">0</td><td style=\"text-align: right;\">0.00</td><td style=\"text-align: right;\">0</td><td style=\"text-align: right;\">0.00</td><td style=\"text-align: right;\">1</td><td style=\"text-align: right;\">4.88</td><td style=\"text-align: right;\">0</td><td style=\"text-align: right;\">0.00</td><td style=\"text-align: right;\">0</td><td style=\"text-align: right;\">0.00</td><td style=\"text-align: right;\">0</td><td style=\"text-align: right;\">0.00</td></tr>\n",
       "<tr class=\"even\"><td style=\"text-align: right;\">353791</td><td style=\"text-align: right;\">136,393,658</td><td style=\"text-align: right;\">92,684</td><td style=\"text-align: right;\">32</td><td style=\"text-align: right;\">1361</td><td style=\"text-align: right;\">0.00</td><td style=\"text-align: right;\">1</td><td style=\"text-align: right;\">1.00</td><td style=\"text-align: right;\">0</td><td style=\"text-align: right;\">0.00</td><td style=\"text-align: right;\">0</td><td style=\"text-align: right;\">0.00</td><td style=\"text-align: right;\">0</td><td style=\"text-align: right;\">0.00</td><td style=\"text-align: right;\">1</td><td style=\"text-align: right;\">4.88</td><td style=\"text-align: right;\">0</td><td style=\"text-align: right;\">0.00</td><td style=\"text-align: right;\">0</td><td style=\"text-align: right;\">0.00</td><td style=\"text-align: right;\">0</td><td style=\"text-align: right;\">0.00</td></tr>\n",
       "<tr><td style=\"text-align: right;\">353372</td><td style=\"text-align: right;\">135,829,592</td><td style=\"text-align: right;\">591,316</td><td style=\"text-align: right;\">9</td><td style=\"text-align: right;\">944</td><td style=\"text-align: right;\">0.00</td><td style=\"text-align: right;\">1</td><td style=\"text-align: right;\">1.00</td><td style=\"text-align: right;\">0</td><td style=\"text-align: right;\">0.00</td><td style=\"text-align: right;\">0</td><td style=\"text-align: right;\">0.00</td><td style=\"text-align: right;\">0</td><td style=\"text-align: right;\">0.00</td><td style=\"text-align: right;\">1</td><td style=\"text-align: right;\">4.88</td><td style=\"text-align: right;\">0</td><td style=\"text-align: right;\">0.00</td><td style=\"text-align: right;\">0</td><td style=\"text-align: right;\">0.00</td><td style=\"text-align: right;\">0</td><td style=\"text-align: right;\">0.00</td></tr>\n",
       "<tr class=\"even\"><td style=\"text-align: right;\">353498</td><td style=\"text-align: right;\">135,959,272</td><td style=\"text-align: right;\">416,583</td><td style=\"text-align: right;\">5</td><td style=\"text-align: right;\">684</td><td style=\"text-align: right;\">0.00</td><td style=\"text-align: right;\">1</td><td style=\"text-align: right;\">1.00</td><td style=\"text-align: right;\">0</td><td style=\"text-align: right;\">0.00</td><td style=\"text-align: right;\">0</td><td style=\"text-align: right;\">0.00</td><td style=\"text-align: right;\">0</td><td style=\"text-align: right;\">0.00</td><td style=\"text-align: right;\">1</td><td style=\"text-align: right;\">4.88</td><td style=\"text-align: right;\">0</td><td style=\"text-align: right;\">0.00</td><td style=\"text-align: right;\">0</td><td style=\"text-align: right;\">0.00</td><td style=\"text-align: right;\">0</td><td style=\"text-align: right;\">0.00</td></tr>\n",
       "<tr><td style=\"text-align: right;\">353485</td><td style=\"text-align: right;\">135,942,182</td><td style=\"text-align: right;\">432,560</td><td style=\"text-align: right;\">4</td><td style=\"text-align: right;\">67</td><td style=\"text-align: right;\">0.01</td><td style=\"text-align: right;\">1</td><td style=\"text-align: right;\">1.00</td><td style=\"text-align: right;\">0</td><td style=\"text-align: right;\">0.00</td><td style=\"text-align: right;\">0</td><td style=\"text-align: right;\">0.00</td><td style=\"text-align: right;\">0</td><td style=\"text-align: right;\">0.00</td><td style=\"text-align: right;\">1</td><td style=\"text-align: right;\">4.88</td><td style=\"text-align: right;\">0</td><td style=\"text-align: right;\">0.00</td><td style=\"text-align: right;\">0</td><td style=\"text-align: right;\">0.00</td><td style=\"text-align: right;\">0</td><td style=\"text-align: right;\">0.00</td></tr>\n",
       "</table>"
      ],
      "text/plain": [
       "<IPython.core.display.HTML object>"
      ]
     },
     "execution_count": 9,
     "metadata": {},
     "output_type": "execute_result"
    }
   ],
   "source": [
    "HTML(plt_obj.get_html())"
   ]
  },
  {
   "cell_type": "code",
   "execution_count": 10,
   "metadata": {
    "collapsed": false
   },
   "outputs": [
    {
     "data": {
      "text/html": [
       "\n",
       "\n",
       "    <div class=\"bk-root\">\n",
       "        <div class=\"plotdiv\" id=\"e33665b7-bc8c-4bb3-b767-d75f020f0a68\"></div>\n",
       "    </div>\n",
       "<script type=\"text/javascript\">\n",
       "  \n",
       "  (function(global) {\n",
       "    function now() {\n",
       "      return new Date();\n",
       "    }\n",
       "  \n",
       "    if (typeof (window._bokeh_onload_callbacks) === \"undefined\") {\n",
       "      window._bokeh_onload_callbacks = [];\n",
       "    }\n",
       "  \n",
       "    function run_callbacks() {\n",
       "      window._bokeh_onload_callbacks.forEach(function(callback) { callback() });\n",
       "      delete window._bokeh_onload_callbacks\n",
       "      console.info(\"Bokeh: all callbacks have finished\");\n",
       "    }\n",
       "  \n",
       "    function load_libs(js_urls, callback) {\n",
       "      window._bokeh_onload_callbacks.push(callback);\n",
       "      if (window._bokeh_is_loading > 0) {\n",
       "        console.log(\"Bokeh: BokehJS is being loaded, scheduling callback at\", now());\n",
       "        return null;\n",
       "      }\n",
       "      if (js_urls == null || js_urls.length === 0) {\n",
       "        run_callbacks();\n",
       "        return null;\n",
       "      }\n",
       "      console.log(\"Bokeh: BokehJS not loaded, scheduling load and callback at\", now());\n",
       "      window._bokeh_is_loading = js_urls.length;\n",
       "      for (var i = 0; i < js_urls.length; i++) {\n",
       "        var url = js_urls[i];\n",
       "        var s = document.createElement('script');\n",
       "        s.src = url;\n",
       "        s.async = false;\n",
       "        s.onreadystatechange = s.onload = function() {\n",
       "          window._bokeh_is_loading--;\n",
       "          if (window._bokeh_is_loading === 0) {\n",
       "            console.log(\"Bokeh: all BokehJS libraries loaded\");\n",
       "            run_callbacks()\n",
       "          }\n",
       "        };\n",
       "        s.onerror = function() {\n",
       "          console.warn(\"failed to load library \" + url);\n",
       "        };\n",
       "        console.log(\"Bokeh: injecting script tag for BokehJS library: \", url);\n",
       "        document.getElementsByTagName(\"head\")[0].appendChild(s);\n",
       "      }\n",
       "    };var element = document.getElementById(\"e33665b7-bc8c-4bb3-b767-d75f020f0a68\");\n",
       "    if (element == null) {\n",
       "      console.log(\"Bokeh: ERROR: autoload.js configured with elementid 'e33665b7-bc8c-4bb3-b767-d75f020f0a68' but no matching script tag was found. \")\n",
       "      return false;\n",
       "    }\n",
       "  \n",
       "    var js_urls = [];\n",
       "  \n",
       "    var inline_js = [\n",
       "      function(Bokeh) {\n",
       "        Bokeh.$(function() {\n",
       "            var docs_json = {\"f34806a1-9e83-4627-a95f-3e8a37d60e66\":{\"roots\":{\"references\":[{\"attributes\":{\"callback\":null,\"column_names\":[\"y\",\"x\",\"vals\"],\"data\":{\"vals\":[\"13_1696\",\"9_944\",\"4_67\",\"5_684\",\"32_1361\",\"13_1227\",\"4_1442\",\"7_1303\",\"7_1760\",\"7_1868\"],\"x\":[135757320,135829592,135942182,135959272,136393658,136500475,136506375,136535876,136588031,136682274],\"y\":[501.0,296.0,73.0,193.0,499.0,298.0,499.0,399.0,501.0,502.0]}},\"id\":\"96ee9b82-d760-4373-bb1a-a0177ba0c45c\",\"type\":\"ColumnDataSource\"},{\"attributes\":{\"callback\":null,\"column_names\":[\"right\",\"bottom\",\"top\",\"left\"],\"data\":{\"bottom\":[545,545,545,545,545,545,545],\"left\":[135809835,135957574,136289083,136499189,136545415,136597196,136664254],\"right\":[135928279,136288182,136482839,136542633,136594750,136634047,136743222],\"top\":[575,575,575,575,575,575,575]}},\"id\":\"e3b188a8-ffbb-48ff-b059-257715be81de\",\"type\":\"ColumnDataSource\"},{\"attributes\":{\"bottom\":{\"field\":\"bottom\"},\"fill_color\":{\"field\":\"fill_color\"},\"left\":{\"field\":\"left\"},\"line_color\":{\"value\":null},\"right\":{\"field\":\"right\"},\"top\":{\"field\":\"top\"}},\"id\":\"caf7bbe0-754d-4d60-9909-48ce679f10c7\",\"type\":\"Quad\"},{\"attributes\":{\"plot\":{\"id\":\"72ba1177-ed29-49c6-947e-9b4d7e33f7f6\",\"subtype\":\"Figure\",\"type\":\"Plot\"}},\"id\":\"8bee361a-9014-40e1-88e3-a206e7c25ad3\",\"type\":\"SaveTool\"},{\"attributes\":{\"bottom\":{\"field\":\"bottom\"},\"fill_alpha\":{\"value\":0.1},\"fill_color\":{\"value\":\"#1f77b4\"},\"left\":{\"field\":\"left\"},\"line_alpha\":{\"value\":0.1},\"line_color\":{\"value\":\"#1f77b4\"},\"right\":{\"field\":\"right\"},\"top\":{\"field\":\"top\"}},\"id\":\"48091dde-b6ce-4c0f-97b5-ef99f80a2f2b\",\"type\":\"Quad\"},{\"attributes\":{\"data_source\":{\"id\":\"d435dd80-931e-4163-86f0-64581bd60b33\",\"type\":\"ColumnDataSource\"},\"glyph\":{\"id\":\"caf7bbe0-754d-4d60-9909-48ce679f10c7\",\"type\":\"Quad\"},\"hover_glyph\":null,\"nonselection_glyph\":{\"id\":\"48091dde-b6ce-4c0f-97b5-ef99f80a2f2b\",\"type\":\"Quad\"},\"selection_glyph\":null},\"id\":\"6289110c-8794-447d-a72d-fb54606ea0a9\",\"type\":\"GlyphRenderer\"},{\"attributes\":{\"bottom\":{\"field\":\"bottom\"},\"fill_color\":{\"value\":\"white\"},\"left\":{\"field\":\"left\"},\"right\":{\"field\":\"right\"},\"top\":{\"field\":\"top\"}},\"id\":\"8c2ee125-51b1-48bd-a8af-60a1323137d4\",\"type\":\"Quad\"},{\"attributes\":{\"formatter\":{\"id\":\"e1c81719-b6a4-4aad-a500-e71c5e165730\",\"type\":\"BasicTickFormatter\"},\"plot\":{\"id\":\"72ba1177-ed29-49c6-947e-9b4d7e33f7f6\",\"subtype\":\"Figure\",\"type\":\"Plot\"},\"ticker\":{\"id\":\"ad0a9afc-cf0b-4206-8857-9406549c8a89\",\"type\":\"BasicTicker\"}},\"id\":\"f62718fd-a261-4889-ac5d-563e38cbd1db\",\"type\":\"LinearAxis\"},{\"attributes\":{\"bottom_units\":\"screen\",\"fill_alpha\":{\"value\":0.5},\"fill_color\":{\"value\":\"lightgrey\"},\"left_units\":\"screen\",\"level\":\"overlay\",\"line_alpha\":{\"value\":1.0},\"line_color\":{\"value\":\"black\"},\"line_dash\":[4,4],\"line_width\":{\"value\":2},\"plot\":null,\"render_mode\":\"css\",\"right_units\":\"screen\",\"top_units\":\"screen\"},\"id\":\"7ec63f61-2f6b-4970-b3a1-09ea8d70eb84\",\"type\":\"BoxAnnotation\"},{\"attributes\":{\"plot\":{\"id\":\"72ba1177-ed29-49c6-947e-9b4d7e33f7f6\",\"subtype\":\"Figure\",\"type\":\"Plot\"}},\"id\":\"e9303818-cad3-48c4-afca-2cbaaecad4b0\",\"type\":\"PanTool\"},{\"attributes\":{\"line_color\":{\"field\":\"line_color\"},\"xs\":{\"field\":\"xs\"},\"ys\":{\"field\":\"ys\"}},\"id\":\"5d476e20-1170-4dcb-b001-16b45e8060fe\",\"type\":\"MultiLine\"},{\"attributes\":{\"level\":\"glyph\",\"plot\":{\"id\":\"72ba1177-ed29-49c6-947e-9b4d7e33f7f6\",\"subtype\":\"Figure\",\"type\":\"Plot\"},\"source\":{\"id\":\"96ee9b82-d760-4373-bb1a-a0177ba0c45c\",\"type\":\"ColumnDataSource\"},\"text\":{\"field\":\"vals\"},\"text_font_size\":{\"value\":\"9pt\"},\"text_font_style\":\"bold\",\"x\":{\"field\":\"x\"},\"y\":{\"field\":\"y\"}},\"id\":\"dfc2b9b8-fde8-4ba6-8e25-7b4176687af4\",\"type\":\"LabelSet\"},{\"attributes\":{\"dimension\":1,\"plot\":{\"id\":\"72ba1177-ed29-49c6-947e-9b4d7e33f7f6\",\"subtype\":\"Figure\",\"type\":\"Plot\"},\"ticker\":{\"id\":\"912ee456-2e08-4986-9ca4-d24d0f958a19\",\"type\":\"BasicTicker\"}},\"id\":\"ae75a5f8-7d06-446c-8708-6eec78a261b8\",\"type\":\"Grid\"},{\"attributes\":{\"level\":\"glyph\",\"plot\":{\"id\":\"72ba1177-ed29-49c6-947e-9b4d7e33f7f6\",\"subtype\":\"Figure\",\"type\":\"Plot\"},\"source\":{\"id\":\"90cc3e12-c4e9-4307-935a-20e2ba2da588\",\"type\":\"ColumnDataSource\"},\"text\":{\"field\":\"vals\"},\"text_align\":\"center\",\"text_baseline\":\"middle\",\"text_font_size\":{\"value\":\"8pt\"},\"x\":{\"field\":\"x\"},\"y\":{\"field\":\"y\"}},\"id\":\"a46f0e4a-086a-42ea-84d0-f87e2a1c5f6e\",\"type\":\"LabelSet\"},{\"attributes\":{\"plot\":null,\"text\":null},\"id\":\"a6cd427e-1d96-4700-b5d4-ef6e362965dd\",\"type\":\"Title\"},{\"attributes\":{},\"id\":\"ad0a9afc-cf0b-4206-8857-9406549c8a89\",\"type\":\"BasicTicker\"},{\"attributes\":{},\"id\":\"912ee456-2e08-4986-9ca4-d24d0f958a19\",\"type\":\"BasicTicker\"},{\"attributes\":{\"active_drag\":\"auto\",\"active_scroll\":\"auto\",\"active_tap\":\"auto\",\"tools\":[{\"id\":\"e9303818-cad3-48c4-afca-2cbaaecad4b0\",\"type\":\"PanTool\"},{\"id\":\"aa3a555d-d945-460a-ad1e-27e69e848648\",\"type\":\"WheelZoomTool\"},{\"id\":\"ab5ff5fe-7df1-4e7e-9fd1-f30686d5a56d\",\"type\":\"BoxZoomTool\"},{\"id\":\"8bee361a-9014-40e1-88e3-a206e7c25ad3\",\"type\":\"SaveTool\"},{\"id\":\"e9de5131-4ff3-413c-bdab-b1b64a03331e\",\"type\":\"ResetTool\"},{\"id\":\"7dc2b87e-6303-432b-8a8a-ff75f49af1f5\",\"type\":\"HelpTool\"}]},\"id\":\"67aa32f6-ca0f-4113-9bb0-4112d2cbf018\",\"type\":\"Toolbar\"},{\"attributes\":{\"plot\":{\"id\":\"72ba1177-ed29-49c6-947e-9b4d7e33f7f6\",\"subtype\":\"Figure\",\"type\":\"Plot\"}},\"id\":\"e9de5131-4ff3-413c-bdab-b1b64a03331e\",\"type\":\"ResetTool\"},{\"attributes\":{\"data_source\":{\"id\":\"e3b188a8-ffbb-48ff-b059-257715be81de\",\"type\":\"ColumnDataSource\"},\"glyph\":{\"id\":\"8c2ee125-51b1-48bd-a8af-60a1323137d4\",\"type\":\"Quad\"},\"hover_glyph\":null,\"nonselection_glyph\":{\"id\":\"a8435f3f-0ffd-4897-b2d2-c506eb9ebcaf\",\"type\":\"Quad\"},\"selection_glyph\":null},\"id\":\"2a66faed-24e2-4399-b0a2-77e3bbd1a303\",\"type\":\"GlyphRenderer\"},{\"attributes\":{\"callback\":null,\"column_names\":[\"y\",\"x\",\"vals\"],\"data\":{\"vals\":[\"RAB3GAP1\",\"ZRANB3\",\"R3HDM1\",\"UBXN4\",\"LCT\",\"MCM6\",\"DARS\"],\"x\":[135869057.0,136122878.0,136385961.0,136520911.0,136570082.5,136615621.5,136703738.0],\"y\":[560.0,560.0,560.0,560.0,560.0,560.0,560.0]}},\"id\":\"90cc3e12-c4e9-4307-935a-20e2ba2da588\",\"type\":\"ColumnDataSource\"},{\"attributes\":{\"data_source\":{\"id\":\"3bb964e4-7edc-4dd5-baa5-96d5a396c21f\",\"type\":\"ColumnDataSource\"},\"glyph\":{\"id\":\"5d476e20-1170-4dcb-b001-16b45e8060fe\",\"type\":\"MultiLine\"},\"hover_glyph\":null,\"nonselection_glyph\":{\"id\":\"5698ebc0-c6ed-427a-b1fc-b60951a3cb3b\",\"type\":\"MultiLine\"},\"selection_glyph\":null},\"id\":\"b4a20136-9001-43c0-8242-1d290d2d1409\",\"type\":\"GlyphRenderer\"},{\"attributes\":{\"overlay\":{\"id\":\"7ec63f61-2f6b-4970-b3a1-09ea8d70eb84\",\"type\":\"BoxAnnotation\"},\"plot\":{\"id\":\"72ba1177-ed29-49c6-947e-9b4d7e33f7f6\",\"subtype\":\"Figure\",\"type\":\"Plot\"}},\"id\":\"ab5ff5fe-7df1-4e7e-9fd1-f30686d5a56d\",\"type\":\"BoxZoomTool\"},{\"attributes\":{\"callback\":null,\"end\":136786630,\"start\":135757320},\"id\":\"d71514c6-1e7a-4533-9dae-cedd777683af\",\"type\":\"Range1d\"},{\"attributes\":{\"plot\":{\"id\":\"72ba1177-ed29-49c6-947e-9b4d7e33f7f6\",\"subtype\":\"Figure\",\"type\":\"Plot\"}},\"id\":\"aa3a555d-d945-460a-ad1e-27e69e848648\",\"type\":\"WheelZoomTool\"},{\"attributes\":{\"below\":[{\"id\":\"f62718fd-a261-4889-ac5d-563e38cbd1db\",\"type\":\"LinearAxis\"}],\"left\":[{\"id\":\"a6de7e0b-5b65-4281-8246-e03dfa91ddd2\",\"type\":\"LinearAxis\"}],\"plot_width\":900,\"renderers\":[{\"id\":\"f62718fd-a261-4889-ac5d-563e38cbd1db\",\"type\":\"LinearAxis\"},{\"id\":\"a251d016-6aa4-4534-b538-506bc3117df4\",\"type\":\"Grid\"},{\"id\":\"a6de7e0b-5b65-4281-8246-e03dfa91ddd2\",\"type\":\"LinearAxis\"},{\"id\":\"ae75a5f8-7d06-446c-8708-6eec78a261b8\",\"type\":\"Grid\"},{\"id\":\"7ec63f61-2f6b-4970-b3a1-09ea8d70eb84\",\"type\":\"BoxAnnotation\"},{\"id\":\"6289110c-8794-447d-a72d-fb54606ea0a9\",\"type\":\"GlyphRenderer\"},{\"id\":\"b4a20136-9001-43c0-8242-1d290d2d1409\",\"type\":\"GlyphRenderer\"},{\"id\":\"dfc2b9b8-fde8-4ba6-8e25-7b4176687af4\",\"type\":\"LabelSet\"},{\"id\":\"2a66faed-24e2-4399-b0a2-77e3bbd1a303\",\"type\":\"GlyphRenderer\"},{\"id\":\"a46f0e4a-086a-42ea-84d0-f87e2a1c5f6e\",\"type\":\"LabelSet\"}],\"title\":{\"id\":\"a6cd427e-1d96-4700-b5d4-ef6e362965dd\",\"type\":\"Title\"},\"tool_events\":{\"id\":\"be8d79bf-27b5-41fa-bef0-ebc14991ba77\",\"type\":\"ToolEvents\"},\"toolbar\":{\"id\":\"67aa32f6-ca0f-4113-9bb0-4112d2cbf018\",\"type\":\"Toolbar\"},\"toolbar_location\":null,\"x_range\":{\"id\":\"d71514c6-1e7a-4533-9dae-cedd777683af\",\"type\":\"Range1d\"},\"y_range\":{\"id\":\"d5bce304-4360-465a-918f-c010e0f74677\",\"type\":\"Range1d\"}},\"id\":\"72ba1177-ed29-49c6-947e-9b4d7e33f7f6\",\"subtype\":\"Figure\",\"type\":\"Plot\"},{\"attributes\":{},\"id\":\"be8d79bf-27b5-41fa-bef0-ebc14991ba77\",\"type\":\"ToolEvents\"},{\"attributes\":{\"line_alpha\":{\"value\":0.1},\"line_color\":{\"value\":\"#1f77b4\"},\"xs\":{\"field\":\"xs\"},\"ys\":{\"field\":\"ys\"}},\"id\":\"5698ebc0-c6ed-427a-b1fc-b60951a3cb3b\",\"type\":\"MultiLine\"},{\"attributes\":{},\"id\":\"e1c81719-b6a4-4aad-a500-e71c5e165730\",\"type\":\"BasicTickFormatter\"},{\"attributes\":{\"plot\":{\"id\":\"72ba1177-ed29-49c6-947e-9b4d7e33f7f6\",\"subtype\":\"Figure\",\"type\":\"Plot\"}},\"id\":\"7dc2b87e-6303-432b-8a8a-ff75f49af1f5\",\"type\":\"HelpTool\"},{\"attributes\":{\"bottom\":{\"field\":\"bottom\"},\"fill_alpha\":{\"value\":0.1},\"fill_color\":{\"value\":\"#1f77b4\"},\"left\":{\"field\":\"left\"},\"line_alpha\":{\"value\":0.1},\"line_color\":{\"value\":\"#1f77b4\"},\"right\":{\"field\":\"right\"},\"top\":{\"field\":\"top\"}},\"id\":\"a8435f3f-0ffd-4897-b2d2-c506eb9ebcaf\",\"type\":\"Quad\"},{\"attributes\":{\"formatter\":{\"id\":\"45625926-61a8-4251-aa6a-17e949cca87e\",\"type\":\"BasicTickFormatter\"},\"plot\":{\"id\":\"72ba1177-ed29-49c6-947e-9b4d7e33f7f6\",\"subtype\":\"Figure\",\"type\":\"Plot\"},\"ticker\":{\"id\":\"912ee456-2e08-4986-9ca4-d24d0f958a19\",\"type\":\"BasicTicker\"},\"visible\":null},\"id\":\"a6de7e0b-5b65-4281-8246-e03dfa91ddd2\",\"type\":\"LinearAxis\"},{\"attributes\":{\"plot\":{\"id\":\"72ba1177-ed29-49c6-947e-9b4d7e33f7f6\",\"subtype\":\"Figure\",\"type\":\"Plot\"},\"ticker\":{\"id\":\"ad0a9afc-cf0b-4206-8857-9406549c8a89\",\"type\":\"BasicTicker\"}},\"id\":\"a251d016-6aa4-4534-b538-506bc3117df4\",\"type\":\"Grid\"},{\"attributes\":{\"callback\":null,\"end\":600},\"id\":\"d5bce304-4360-465a-918f-c010e0f74677\",\"type\":\"Range1d\"},{\"attributes\":{\"callback\":null,\"column_names\":[\"right\",\"bottom\",\"top\",\"left\",\"fill_color\"],\"data\":{\"bottom\":[450,250,50,150,450,250,450,350,450,450],\"fill_color\":[\"#808080\",\"#c4c461\",\"#ffff00\",\"#ffff00\",\"#c4c461\",\"#808080\",\"#808080\",\"#808080\",\"#c46161\",\"#61c461\"],\"left\":[135757320,135829592,135942182,135959272,136393658,136500475,136506375,136535876,136588031,136682274],\"right\":[135777504,136420908,136374742,136375855,136486342,136542560,136538939,136554890,136593678,136775898],\"top\":[496,291,68,188,494,293,494,394,496,497]}},\"id\":\"d435dd80-931e-4163-86f0-64581bd60b33\",\"type\":\"ColumnDataSource\"},{\"attributes\":{\"callback\":null,\"column_names\":[\"xs\",\"ys\",\"line_color\"],\"data\":{\"line_color\":[\"black\",\"black\",\"black\",\"black\",\"black\",\"black\",\"black\",\"black\",\"black\",\"black\",\"black\",\"black\",\"black\",\"black\",\"black\",\"black\",\"black\",\"black\",\"black\",\"black\",\"black\",\"black\",\"black\",\"black\",\"black\",\"black\",\"black\",\"black\",\"black\",\"black\",\"black\",\"black\",\"black\",\"black\",\"black\",\"black\",\"black\",\"black\",\"black\",\"black\",\"black\",\"black\",\"black\",\"black\",\"black\",\"black\",\"black\",\"black\",\"black\",\"black\",\"black\",\"black\",\"black\",\"black\",\"black\",\"black\",\"black\",\"black\",\"black\",\"black\",\"black\",\"black\",\"black\",\"black\",\"black\",\"black\",\"black\",\"black\",\"black\",\"black\",\"black\",\"black\",\"black\",\"black\",\"black\",\"black\",\"black\",\"black\",\"black\",\"black\",\"black\",\"black\",\"black\",\"black\",\"black\",\"black\",\"black\",\"black\",\"black\",\"black\",\"black\",\"black\",\"black\",\"black\",\"black\",\"black\",\"black\",\"black\",\"black\",\"black\",\"black\"],\"xs\":[[135757320,135757320],[135761078,135761078],[135761271,135761271],[135762344,135762344],[135762980,135762980],[135763280,135763280],[135768815,135768815],[135769093,135769093],[135769127,135769127],[135770940,135770940],[135770951,135770951],[135776728,135776728],[135777504,135777504],[135829592,135829592],[135893372,135893372],[135952405,135952405],[135989721,135989721],[136136056,136136056],[136313639,136313639],[136401418,136401418],[136407078,136407078],[136420908,136420908],[135942182,135942182],[136120380,136120380],[136213143,136213143],[136374742,136374742],[135959272,135959272],[136149550,136149550],[136164840,136164840],[136313885,136313885],[136375855,136375855],[136393658,136393658],[136396300,136396300],[136401843,136401843],[136407445,136407445],[136411879,136411879],[136412270,136412270],[136413244,136413244],[136413847,136413847],[136415217,136415217],[136416533,136416533],[136420726,136420726],[136429857,136429857],[136433740,136433740],[136436317,136436317],[136437615,136437615],[136438517,136438517],[136440300,136440300],[136443900,136443900],[136444185,136444185],[136444338,136444338],[136449254,136449254],[136451676,136451676],[136459227,136459227],[136463117,136463117],[136463454,136463454],[136467119,136467119],[136468238,136468238],[136470219,136470219],[136483355,136483355],[136485276,136485276],[136486340,136486340],[136486342,136486342],[136500475,136500475],[136501509,136501509],[136504101,136504101],[136509868,136509868],[136520043,136520043],[136527120,136527120],[136530379,136530379],[136530443,136530443],[136539330,136539330],[136539670,136539670],[136540083,136540083],[136542559,136542559],[136542560,136542560],[136506375,136506375],[136506927,136506927],[136510012,136510012],[136538939,136538939],[136535876,136535876],[136544651,136544651],[136545844,136545844],[136552526,136552526],[136553022,136553022],[136554797,136554797],[136554890,136554890],[136588031,136588031],[136589278,136589278],[136589379,136589379],[136589741,136589741],[136590746,136590746],[136593553,136593553],[136593678,136593678],[136682274,136682274],[136691825,136691825],[136698098,136698098],[136721603,136721603],[136721995,136721995],[136755684,136755684],[136775898,136775898]],\"ys\":[[450,496],[450,496],[450,496],[450,496],[450,496],[450,496],[450,496],[450,496],[450,496],[450,496],[450,496],[450,496],[450,496],[250,291],[250,291],[250,291],[250,291],[250,291],[250,291],[250,291],[250,291],[250,291],[50,68],[50,68],[50,68],[50,68],[150,188],[150,188],[150,188],[150,188],[150,188],[450,494],[450,494],[450,494],[450,494],[450,494],[450,494],[450,494],[450,494],[450,494],[450,494],[450,494],[450,494],[450,494],[450,494],[450,494],[450,494],[450,494],[450,494],[450,494],[450,494],[450,494],[450,494],[450,494],[450,494],[450,494],[450,494],[450,494],[450,494],[450,494],[450,494],[450,494],[450,494],[250,293],[250,293],[250,293],[250,293],[250,293],[250,293],[250,293],[250,293],[250,293],[250,293],[250,293],[250,293],[250,293],[450,494],[450,494],[450,494],[450,494],[350,394],[350,394],[350,394],[350,394],[350,394],[350,394],[350,394],[450,496],[450,496],[450,496],[450,496],[450,496],[450,496],[450,496],[450,497],[450,497],[450,497],[450,497],[450,497],[450,497],[450,497]]}},\"id\":\"3bb964e4-7edc-4dd5-baa5-96d5a396c21f\",\"type\":\"ColumnDataSource\"},{\"attributes\":{},\"id\":\"45625926-61a8-4251-aa6a-17e949cca87e\",\"type\":\"BasicTickFormatter\"}],\"root_ids\":[\"72ba1177-ed29-49c6-947e-9b4d7e33f7f6\"]},\"title\":\"Bokeh Application\",\"version\":\"0.12.0\"}};\n",
       "            var render_items = [{\"docid\":\"f34806a1-9e83-4627-a95f-3e8a37d60e66\",\"elementid\":\"e33665b7-bc8c-4bb3-b767-d75f020f0a68\",\"modelid\":\"72ba1177-ed29-49c6-947e-9b4d7e33f7f6\",\"notebook_comms_target\":\"5ed2f0f3-49f4-4115-929b-0015be0fe428\"}];\n",
       "            \n",
       "            Bokeh.embed.embed_items(docs_json, render_items);\n",
       "        });\n",
       "      },\n",
       "      function(Bokeh) {\n",
       "      }\n",
       "    ];\n",
       "  \n",
       "    function run_inline_js() {\n",
       "      for (var i = 0; i < inline_js.length; i++) {\n",
       "        inline_js[i](window.Bokeh);\n",
       "      }\n",
       "    }\n",
       "  \n",
       "    if (window._bokeh_is_loading === 0) {\n",
       "      console.log(\"Bokeh: BokehJS loaded, going straight to plotting\");\n",
       "      run_inline_js();\n",
       "    } else {\n",
       "      load_libs(js_urls, function() {\n",
       "        console.log(\"Bokeh: BokehJS plotting callback run at\", now());\n",
       "        run_inline_js();\n",
       "      });\n",
       "    }\n",
       "  }(this));\n",
       "</script>"
      ]
     },
     "metadata": {},
     "output_type": "display_data"
    },
    {
     "data": {
      "text/html": [
       "<p><code>&lt;Bokeh Notebook handle for <strong>In[10]</strong>&gt;</code></p>"
      ],
      "text/plain": [
       "<bokeh.io._CommsHandle at 0x7fdd0fb940d0>"
      ]
     },
     "execution_count": 10,
     "metadata": {},
     "output_type": "execute_result"
    }
   ],
   "source": [
    "plt_obj = dm.superset_yes_no([di_4_67, dm.di_5_684], [dm.di_64_1575, dm.di_81_857], min_match=0.001)\n",
    "plt = plt_obj.do_plot()\n",
    "show(plt)"
   ]
  },
  {
   "cell_type": "code",
   "execution_count": 11,
   "metadata": {
    "collapsed": false
   },
   "outputs": [
    {
     "data": {
      "text/html": [
       "<table>\n",
       "<thead><tr><th style=\"text-align:center\">index</th><th style=\"text-align:center\">first</th><th style=\"text-align:center\">length</th><th style=\"text-align:center\">snps</th><th style=\"text-align:center\" colspan=2>alleles</th><th style=\"text-align:center\" colspan=2>matches</th><th style=\"text-align:center\" colspan=2>afr</th><th style=\"text-align:center\" colspan=2>afx</th><th style=\"text-align:center\" colspan=2>amr</th><th style=\"text-align:center\" colspan=2>eas</th><th style=\"text-align:center\" colspan=2>eur</th><th style=\"text-align:center\" colspan=2>sas</th><th style=\"text-align:center\" colspan=2>sax</th></tr></thead>\n",
       "<tr class=\"even\"><td style=\"text-align: right;\">354170</td><td style=\"text-align: right;\">136,682,274</td><td style=\"text-align: right;\">93,624</td><td style=\"text-align: right;\">7</td><td style=\"text-align: right;\">1868</td><td style=\"text-align: right;\">0.00</td><td style=\"text-align: right;\">1</td><td style=\"text-align: right;\">1.00</td><td style=\"text-align: right;\">0</td><td style=\"text-align: right;\">0.00</td><td style=\"text-align: right;\">0</td><td style=\"text-align: right;\">0.00</td><td style=\"text-align: right;\">0</td><td style=\"text-align: right;\">0.00</td><td style=\"text-align: right;\">1</td><td style=\"text-align: right;\">5.18</td><td style=\"text-align: right;\">0</td><td style=\"text-align: right;\">0.00</td><td style=\"text-align: right;\">0</td><td style=\"text-align: right;\">0.00</td><td style=\"text-align: right;\">0</td><td style=\"text-align: right;\">0.00</td></tr>\n",
       "<tr><td style=\"text-align: right;\">354033</td><td style=\"text-align: right;\">136,588,031</td><td style=\"text-align: right;\">5,647</td><td style=\"text-align: right;\">7</td><td style=\"text-align: right;\">1760</td><td style=\"text-align: right;\">0.00</td><td style=\"text-align: right;\">1</td><td style=\"text-align: right;\">1.00</td><td style=\"text-align: right;\">0</td><td style=\"text-align: right;\">0.00</td><td style=\"text-align: right;\">0</td><td style=\"text-align: right;\">0.00</td><td style=\"text-align: right;\">0</td><td style=\"text-align: right;\">0.00</td><td style=\"text-align: right;\">1</td><td style=\"text-align: right;\">5.18</td><td style=\"text-align: right;\">0</td><td style=\"text-align: right;\">0.00</td><td style=\"text-align: right;\">0</td><td style=\"text-align: right;\">0.00</td><td style=\"text-align: right;\">0</td><td style=\"text-align: right;\">0.00</td></tr>\n",
       "<tr class=\"even\"><td style=\"text-align: right;\">353240</td><td style=\"text-align: right;\">135,757,320</td><td style=\"text-align: right;\">20,184</td><td style=\"text-align: right;\">13</td><td style=\"text-align: right;\">1696</td><td style=\"text-align: right;\">0.00</td><td style=\"text-align: right;\">1</td><td style=\"text-align: right;\">1.00</td><td style=\"text-align: right;\">0</td><td style=\"text-align: right;\">0.00</td><td style=\"text-align: right;\">0</td><td style=\"text-align: right;\">0.00</td><td style=\"text-align: right;\">0</td><td style=\"text-align: right;\">0.00</td><td style=\"text-align: right;\">1</td><td style=\"text-align: right;\">5.18</td><td style=\"text-align: right;\">0</td><td style=\"text-align: right;\">0.00</td><td style=\"text-align: right;\">0</td><td style=\"text-align: right;\">0.00</td><td style=\"text-align: right;\">0</td><td style=\"text-align: right;\">0.00</td></tr>\n",
       "<tr><td style=\"text-align: right;\">353925</td><td style=\"text-align: right;\">136,506,375</td><td style=\"text-align: right;\">32,564</td><td style=\"text-align: right;\">4</td><td style=\"text-align: right;\">1442</td><td style=\"text-align: right;\">0.00</td><td style=\"text-align: right;\">1</td><td style=\"text-align: right;\">1.00</td><td style=\"text-align: right;\">0</td><td style=\"text-align: right;\">0.00</td><td style=\"text-align: right;\">0</td><td style=\"text-align: right;\">0.00</td><td style=\"text-align: right;\">0</td><td style=\"text-align: right;\">0.00</td><td style=\"text-align: right;\">1</td><td style=\"text-align: right;\">5.18</td><td style=\"text-align: right;\">0</td><td style=\"text-align: right;\">0.00</td><td style=\"text-align: right;\">0</td><td style=\"text-align: right;\">0.00</td><td style=\"text-align: right;\">0</td><td style=\"text-align: right;\">0.00</td></tr>\n",
       "<tr class=\"even\"><td style=\"text-align: right;\">353791</td><td style=\"text-align: right;\">136,393,658</td><td style=\"text-align: right;\">92,684</td><td style=\"text-align: right;\">32</td><td style=\"text-align: right;\">1361</td><td style=\"text-align: right;\">0.00</td><td style=\"text-align: right;\">1</td><td style=\"text-align: right;\">1.00</td><td style=\"text-align: right;\">0</td><td style=\"text-align: right;\">0.00</td><td style=\"text-align: right;\">0</td><td style=\"text-align: right;\">0.00</td><td style=\"text-align: right;\">0</td><td style=\"text-align: right;\">0.00</td><td style=\"text-align: right;\">1</td><td style=\"text-align: right;\">5.18</td><td style=\"text-align: right;\">0</td><td style=\"text-align: right;\">0.00</td><td style=\"text-align: right;\">0</td><td style=\"text-align: right;\">0.00</td><td style=\"text-align: right;\">0</td><td style=\"text-align: right;\">0.00</td></tr>\n",
       "<tr><td style=\"text-align: right;\">353958</td><td style=\"text-align: right;\">136,535,876</td><td style=\"text-align: right;\">19,014</td><td style=\"text-align: right;\">7</td><td style=\"text-align: right;\">1303</td><td style=\"text-align: right;\">0.00</td><td style=\"text-align: right;\">1</td><td style=\"text-align: right;\">1.00</td><td style=\"text-align: right;\">0</td><td style=\"text-align: right;\">0.00</td><td style=\"text-align: right;\">0</td><td style=\"text-align: right;\">0.00</td><td style=\"text-align: right;\">0</td><td style=\"text-align: right;\">0.00</td><td style=\"text-align: right;\">1</td><td style=\"text-align: right;\">5.18</td><td style=\"text-align: right;\">0</td><td style=\"text-align: right;\">0.00</td><td style=\"text-align: right;\">0</td><td style=\"text-align: right;\">0.00</td><td style=\"text-align: right;\">0</td><td style=\"text-align: right;\">0.00</td></tr>\n",
       "<tr class=\"even\"><td style=\"text-align: right;\">353919</td><td style=\"text-align: right;\">136,500,475</td><td style=\"text-align: right;\">42,085</td><td style=\"text-align: right;\">13</td><td style=\"text-align: right;\">1227</td><td style=\"text-align: right;\">0.00</td><td style=\"text-align: right;\">1</td><td style=\"text-align: right;\">1.00</td><td style=\"text-align: right;\">0</td><td style=\"text-align: right;\">0.00</td><td style=\"text-align: right;\">0</td><td style=\"text-align: right;\">0.00</td><td style=\"text-align: right;\">0</td><td style=\"text-align: right;\">0.00</td><td style=\"text-align: right;\">1</td><td style=\"text-align: right;\">5.18</td><td style=\"text-align: right;\">0</td><td style=\"text-align: right;\">0.00</td><td style=\"text-align: right;\">0</td><td style=\"text-align: right;\">0.00</td><td style=\"text-align: right;\">0</td><td style=\"text-align: right;\">0.00</td></tr>\n",
       "<tr><td style=\"text-align: right;\">353372</td><td style=\"text-align: right;\">135,829,592</td><td style=\"text-align: right;\">591,316</td><td style=\"text-align: right;\">9</td><td style=\"text-align: right;\">944</td><td style=\"text-align: right;\">0.00</td><td style=\"text-align: right;\">1</td><td style=\"text-align: right;\">1.00</td><td style=\"text-align: right;\">0</td><td style=\"text-align: right;\">0.00</td><td style=\"text-align: right;\">0</td><td style=\"text-align: right;\">0.00</td><td style=\"text-align: right;\">0</td><td style=\"text-align: right;\">0.00</td><td style=\"text-align: right;\">1</td><td style=\"text-align: right;\">5.18</td><td style=\"text-align: right;\">0</td><td style=\"text-align: right;\">0.00</td><td style=\"text-align: right;\">0</td><td style=\"text-align: right;\">0.00</td><td style=\"text-align: right;\">0</td><td style=\"text-align: right;\">0.00</td></tr>\n",
       "<tr class=\"even\"><td style=\"text-align: right;\">353498</td><td style=\"text-align: right;\">135,959,272</td><td style=\"text-align: right;\">416,583</td><td style=\"text-align: right;\">5</td><td style=\"text-align: right;\">684</td><td style=\"text-align: right;\">0.00</td><td style=\"text-align: right;\">1</td><td style=\"text-align: right;\">1.00</td><td style=\"text-align: right;\">0</td><td style=\"text-align: right;\">0.00</td><td style=\"text-align: right;\">0</td><td style=\"text-align: right;\">0.00</td><td style=\"text-align: right;\">0</td><td style=\"text-align: right;\">0.00</td><td style=\"text-align: right;\">1</td><td style=\"text-align: right;\">5.18</td><td style=\"text-align: right;\">0</td><td style=\"text-align: right;\">0.00</td><td style=\"text-align: right;\">0</td><td style=\"text-align: right;\">0.00</td><td style=\"text-align: right;\">0</td><td style=\"text-align: right;\">0.00</td></tr>\n",
       "<tr><td style=\"text-align: right;\">353485</td><td style=\"text-align: right;\">135,942,182</td><td style=\"text-align: right;\">432,560</td><td style=\"text-align: right;\">4</td><td style=\"text-align: right;\">67</td><td style=\"text-align: right;\">0.01</td><td style=\"text-align: right;\">1</td><td style=\"text-align: right;\">1.00</td><td style=\"text-align: right;\">0</td><td style=\"text-align: right;\">0.00</td><td style=\"text-align: right;\">0</td><td style=\"text-align: right;\">0.00</td><td style=\"text-align: right;\">0</td><td style=\"text-align: right;\">0.00</td><td style=\"text-align: right;\">1</td><td style=\"text-align: right;\">5.18</td><td style=\"text-align: right;\">0</td><td style=\"text-align: right;\">0.00</td><td style=\"text-align: right;\">0</td><td style=\"text-align: right;\">0.00</td><td style=\"text-align: right;\">0</td><td style=\"text-align: right;\">0.00</td></tr>\n",
       "</table>"
      ],
      "text/plain": [
       "<IPython.core.display.HTML object>"
      ]
     },
     "execution_count": 11,
     "metadata": {},
     "output_type": "execute_result"
    }
   ],
   "source": [
    "HTML(plt_obj.get_html())"
   ]
  },
  {
   "cell_type": "code",
   "execution_count": 18,
   "metadata": {
    "collapsed": false
   },
   "outputs": [
    {
     "data": {
      "text/html": [
       "\n",
       "\n",
       "    <div class=\"bk-root\">\n",
       "        <div class=\"plotdiv\" id=\"b156ea4f-1bf7-4706-bb1f-f73ea90fe010\"></div>\n",
       "    </div>\n",
       "<script type=\"text/javascript\">\n",
       "  \n",
       "  (function(global) {\n",
       "    function now() {\n",
       "      return new Date();\n",
       "    }\n",
       "  \n",
       "    if (typeof (window._bokeh_onload_callbacks) === \"undefined\") {\n",
       "      window._bokeh_onload_callbacks = [];\n",
       "    }\n",
       "  \n",
       "    function run_callbacks() {\n",
       "      window._bokeh_onload_callbacks.forEach(function(callback) { callback() });\n",
       "      delete window._bokeh_onload_callbacks\n",
       "      console.info(\"Bokeh: all callbacks have finished\");\n",
       "    }\n",
       "  \n",
       "    function load_libs(js_urls, callback) {\n",
       "      window._bokeh_onload_callbacks.push(callback);\n",
       "      if (window._bokeh_is_loading > 0) {\n",
       "        console.log(\"Bokeh: BokehJS is being loaded, scheduling callback at\", now());\n",
       "        return null;\n",
       "      }\n",
       "      if (js_urls == null || js_urls.length === 0) {\n",
       "        run_callbacks();\n",
       "        return null;\n",
       "      }\n",
       "      console.log(\"Bokeh: BokehJS not loaded, scheduling load and callback at\", now());\n",
       "      window._bokeh_is_loading = js_urls.length;\n",
       "      for (var i = 0; i < js_urls.length; i++) {\n",
       "        var url = js_urls[i];\n",
       "        var s = document.createElement('script');\n",
       "        s.src = url;\n",
       "        s.async = false;\n",
       "        s.onreadystatechange = s.onload = function() {\n",
       "          window._bokeh_is_loading--;\n",
       "          if (window._bokeh_is_loading === 0) {\n",
       "            console.log(\"Bokeh: all BokehJS libraries loaded\");\n",
       "            run_callbacks()\n",
       "          }\n",
       "        };\n",
       "        s.onerror = function() {\n",
       "          console.warn(\"failed to load library \" + url);\n",
       "        };\n",
       "        console.log(\"Bokeh: injecting script tag for BokehJS library: \", url);\n",
       "        document.getElementsByTagName(\"head\")[0].appendChild(s);\n",
       "      }\n",
       "    };var element = document.getElementById(\"b156ea4f-1bf7-4706-bb1f-f73ea90fe010\");\n",
       "    if (element == null) {\n",
       "      console.log(\"Bokeh: ERROR: autoload.js configured with elementid 'b156ea4f-1bf7-4706-bb1f-f73ea90fe010' but no matching script tag was found. \")\n",
       "      return false;\n",
       "    }\n",
       "  \n",
       "    var js_urls = [];\n",
       "  \n",
       "    var inline_js = [\n",
       "      function(Bokeh) {\n",
       "        Bokeh.$(function() {\n",
       "            var docs_json = {\"7ca08bec-4dde-410c-8ecb-31e89c08e8d3\":{\"roots\":{\"references\":[{\"attributes\":{\"plot\":{\"id\":\"8a9a6a57-a22e-4cf0-bad5-85df5d3a80af\",\"subtype\":\"Figure\",\"type\":\"Plot\"},\"ticker\":{\"id\":\"767dcfd3-8495-41f6-9816-1e4bacdbcf54\",\"type\":\"BasicTicker\"}},\"id\":\"cdbfe290-40c5-404e-b8cc-99482d63d0cd\",\"type\":\"Grid\"},{\"attributes\":{\"callback\":null,\"column_names\":[\"y\",\"x\",\"vals\"],\"data\":{\"vals\":[\"RAB3GAP1\",\"ZRANB3\",\"R3HDM1\",\"UBXN4\",\"LCT\",\"MCM6\",\"DARS\"],\"x\":[135869057.0,136122878.0,136385961.0,136520911.0,136570082.5,136615621.5,136703738.0],\"y\":[660.0,660.0,660.0,660.0,660.0,660.0,660.0]}},\"id\":\"981f859c-133a-410a-99d5-9b7865881334\",\"type\":\"ColumnDataSource\"},{\"attributes\":{\"bottom\":{\"field\":\"bottom\"},\"fill_alpha\":{\"value\":0.1},\"fill_color\":{\"value\":\"#1f77b4\"},\"left\":{\"field\":\"left\"},\"line_alpha\":{\"value\":0.1},\"line_color\":{\"value\":\"#1f77b4\"},\"right\":{\"field\":\"right\"},\"top\":{\"field\":\"top\"}},\"id\":\"e6860985-0d78-4244-87e9-4277d4ac874f\",\"type\":\"Quad\"},{\"attributes\":{\"callback\":null,\"column_names\":[\"right\",\"bottom\",\"top\",\"left\"],\"data\":{\"bottom\":[645,645,645,645,645,645,645],\"left\":[135809835,135957574,136289083,136499189,136545415,136597196,136664254],\"right\":[135928279,136288182,136482839,136542633,136594750,136634047,136743222],\"top\":[675,675,675,675,675,675,675]}},\"id\":\"cb13b605-9a43-4993-9999-cea599d098ac\",\"type\":\"ColumnDataSource\"},{\"attributes\":{\"callback\":null,\"end\":700},\"id\":\"1976b95a-36e8-4b55-a95d-eb1d4b7b0cad\",\"type\":\"Range1d\"},{\"attributes\":{\"data_source\":{\"id\":\"e149ee8f-0f4c-45e9-87fe-5aaae8e4c210\",\"type\":\"ColumnDataSource\"},\"glyph\":{\"id\":\"4f56a6ba-6e01-4c9c-8b3c-97eb2eb8b2e5\",\"type\":\"MultiLine\"},\"hover_glyph\":null,\"nonselection_glyph\":{\"id\":\"e4fbb7c4-4e7f-4e04-9669-f34f4b7933f6\",\"type\":\"MultiLine\"},\"selection_glyph\":null},\"id\":\"35f333e3-c76e-444a-848c-5d44a4ba8b69\",\"type\":\"GlyphRenderer\"},{\"attributes\":{\"callback\":null,\"column_names\":[\"y\",\"x\",\"vals\"],\"data\":{\"vals\":[\"13_1696\",\"9_944\",\"4_67\",\"32_1361\",\"81_857\",\"13_1227\",\"4_1442\",\"7_1303\",\"7_1760\",\"6_1114\",\"5_1296\",\"24_1504\"],\"x\":[135757320,135829592,135942182,136393658,136494985,136500475,136506375,136535876,136588031,136652491,136652953,136653925],\"y\":[601.0,196.0,73.0,499.0,195.0,298.0,499.0,399.0,601.0,297.0,399.0,600.0]}},\"id\":\"94ea615a-79b8-4cd2-830f-17ec56b6ba05\",\"type\":\"ColumnDataSource\"},{\"attributes\":{},\"id\":\"fe03fe4c-e1e3-48b7-8e38-2fcb69e9f851\",\"type\":\"BasicTickFormatter\"},{\"attributes\":{\"bottom\":{\"field\":\"bottom\"},\"fill_color\":{\"value\":\"white\"},\"left\":{\"field\":\"left\"},\"right\":{\"field\":\"right\"},\"top\":{\"field\":\"top\"}},\"id\":\"e482f50d-51f4-4a97-a0b6-761d6de244d3\",\"type\":\"Quad\"},{\"attributes\":{},\"id\":\"eb0a3d30-d48c-4a35-a246-3cc5b3416e65\",\"type\":\"ToolEvents\"},{\"attributes\":{\"formatter\":{\"id\":\"c15991b0-7407-4057-958a-8cf5a5ca1798\",\"type\":\"BasicTickFormatter\"},\"plot\":{\"id\":\"8a9a6a57-a22e-4cf0-bad5-85df5d3a80af\",\"subtype\":\"Figure\",\"type\":\"Plot\"},\"ticker\":{\"id\":\"767dcfd3-8495-41f6-9816-1e4bacdbcf54\",\"type\":\"BasicTicker\"}},\"id\":\"b757dc0b-f086-4e24-be9e-f51b1df89b3c\",\"type\":\"LinearAxis\"},{\"attributes\":{\"level\":\"glyph\",\"plot\":{\"id\":\"8a9a6a57-a22e-4cf0-bad5-85df5d3a80af\",\"subtype\":\"Figure\",\"type\":\"Plot\"},\"source\":{\"id\":\"981f859c-133a-410a-99d5-9b7865881334\",\"type\":\"ColumnDataSource\"},\"text\":{\"field\":\"vals\"},\"text_align\":\"center\",\"text_baseline\":\"middle\",\"text_font_size\":{\"value\":\"8pt\"},\"x\":{\"field\":\"x\"},\"y\":{\"field\":\"y\"}},\"id\":\"33924b95-8c83-4102-ab13-0e1b6054d802\",\"type\":\"LabelSet\"},{\"attributes\":{\"bottom\":{\"field\":\"bottom\"},\"fill_alpha\":{\"value\":0.1},\"fill_color\":{\"value\":\"#1f77b4\"},\"left\":{\"field\":\"left\"},\"line_alpha\":{\"value\":0.1},\"line_color\":{\"value\":\"#1f77b4\"},\"right\":{\"field\":\"right\"},\"top\":{\"field\":\"top\"}},\"id\":\"8eb09b40-f928-48cb-8dd2-a3033b95ce96\",\"type\":\"Quad\"},{\"attributes\":{\"formatter\":{\"id\":\"fe03fe4c-e1e3-48b7-8e38-2fcb69e9f851\",\"type\":\"BasicTickFormatter\"},\"plot\":{\"id\":\"8a9a6a57-a22e-4cf0-bad5-85df5d3a80af\",\"subtype\":\"Figure\",\"type\":\"Plot\"},\"ticker\":{\"id\":\"aaec2312-b6cc-413c-b873-85d26f8b3306\",\"type\":\"BasicTicker\"},\"visible\":null},\"id\":\"e4d408e5-6c30-452b-9705-87ea12e44e0a\",\"type\":\"LinearAxis\"},{\"attributes\":{},\"id\":\"aaec2312-b6cc-413c-b873-85d26f8b3306\",\"type\":\"BasicTicker\"},{\"attributes\":{\"callback\":null,\"column_names\":[\"xs\",\"ys\",\"line_color\"],\"data\":{\"line_color\":[\"black\",\"black\",\"black\",\"black\",\"black\",\"black\",\"black\",\"black\",\"black\",\"black\",\"black\",\"black\",\"black\",\"black\",\"black\",\"black\",\"black\",\"black\",\"black\",\"black\",\"black\",\"black\",\"black\",\"black\",\"black\",\"black\",\"black\",\"black\",\"black\",\"black\",\"black\",\"black\",\"black\",\"black\",\"black\",\"black\",\"black\",\"black\",\"black\",\"black\",\"black\",\"black\",\"black\",\"black\",\"black\",\"black\",\"black\",\"black\",\"black\",\"black\",\"black\",\"black\",\"black\",\"black\",\"black\",\"black\",\"black\",\"black\",\"black\",\"black\",\"black\",\"black\",\"black\",\"black\",\"black\",\"black\",\"black\",\"black\",\"black\",\"black\",\"black\",\"black\",\"black\",\"black\",\"black\",\"black\",\"black\",\"black\",\"black\",\"black\",\"black\",\"black\",\"black\",\"black\",\"black\",\"black\",\"black\",\"black\",\"black\",\"black\",\"black\",\"black\",\"black\",\"black\",\"black\",\"black\",\"black\",\"black\",\"black\",\"black\",\"black\",\"black\",\"black\",\"black\",\"black\",\"black\",\"black\",\"black\",\"black\",\"black\",\"black\",\"black\",\"black\",\"black\",\"black\",\"black\",\"black\",\"black\",\"black\",\"black\",\"black\",\"black\",\"black\",\"black\",\"black\",\"black\",\"black\",\"black\",\"black\",\"black\",\"black\",\"black\",\"black\",\"black\",\"black\",\"black\",\"black\",\"black\",\"black\",\"black\",\"black\",\"black\",\"black\",\"black\",\"black\",\"black\",\"black\",\"black\",\"black\",\"black\",\"black\",\"black\",\"black\",\"black\",\"black\",\"black\",\"black\",\"black\",\"black\",\"black\",\"black\",\"black\",\"black\",\"black\",\"black\",\"black\",\"black\",\"black\",\"black\",\"black\",\"black\",\"black\",\"black\",\"black\",\"black\",\"black\",\"black\",\"black\",\"black\",\"black\",\"black\",\"black\",\"black\",\"black\",\"black\",\"black\",\"black\",\"black\",\"black\",\"black\",\"black\",\"black\",\"black\",\"black\",\"black\",\"black\",\"black\",\"black\",\"black\",\"black\",\"black\",\"black\",\"black\",\"black\",\"black\"],\"xs\":[[135757320,135757320],[135761078,135761078],[135761271,135761271],[135762344,135762344],[135762980,135762980],[135763280,135763280],[135768815,135768815],[135769093,135769093],[135769127,135769127],[135770940,135770940],[135770951,135770951],[135776728,135776728],[135777504,135777504],[135829592,135829592],[135893372,135893372],[135952405,135952405],[135989721,135989721],[136136056,136136056],[136313639,136313639],[136401418,136401418],[136407078,136407078],[136420908,136420908],[135942182,135942182],[136120380,136120380],[136213143,136213143],[136374742,136374742],[136393658,136393658],[136396300,136396300],[136401843,136401843],[136407445,136407445],[136411879,136411879],[136412270,136412270],[136413244,136413244],[136413847,136413847],[136415217,136415217],[136416533,136416533],[136420726,136420726],[136429857,136429857],[136433740,136433740],[136436317,136436317],[136437615,136437615],[136438517,136438517],[136440300,136440300],[136443900,136443900],[136444185,136444185],[136444338,136444338],[136449254,136449254],[136451676,136451676],[136459227,136459227],[136463117,136463117],[136463454,136463454],[136467119,136467119],[136468238,136468238],[136470219,136470219],[136483355,136483355],[136485276,136485276],[136486340,136486340],[136486342,136486342],[136494985,136494985],[136497199,136497199],[136511817,136511817],[136513670,136513670],[136515458,136515458],[136516970,136516970],[136525309,136525309],[136528034,136528034],[136532225,136532225],[136535235,136535235],[136536095,136536095],[136544423,136544423],[136546927,136546927],[136552188,136552188],[136552517,136552517],[136555525,136555525],[136556480,136556480],[136560464,136560464],[136572285,136572285],[136582694,136582694],[136582809,136582809],[136584538,136584538],[136585323,136585323],[136586825,136586825],[136600662,136600662],[136612036,136612036],[136618178,136618178],[136618507,136618507],[136622543,136622543],[136624947,136624947],[136625113,136625113],[136626078,136626078],[136628121,136628121],[136632300,136632300],[136633962,136633962],[136635343,136635343],[136638113,136638113],[136640101,136640101],[136641593,136641593],[136646582,136646582],[136648077,136648077],[136648883,136648883],[136652045,136652045],[136653848,136653848],[136656094,136656094],[136661110,136661110],[136663110,136663110],[136663605,136663605],[136665162,136665162],[136665711,136665711],[136668123,136668123],[136670419,136670419],[136672680,136672680],[136673546,136673546],[136684632,136684632],[136686114,136686114],[136690425,136690425],[136690783,136690783],[136692893,136692893],[136694905,136694905],[136695694,136695694],[136695705,136695705],[136696608,136696608],[136697372,136697372],[136697468,136697468],[136700024,136700024],[136701539,136701539],[136702118,136702118],[136707480,136707480],[136710554,136710554],[136714178,136714178],[136719173,136719173],[136725459,136725459],[136734569,136734569],[136744678,136744678],[136748779,136748779],[136751488,136751488],[136754183,136754183],[136763242,136763242],[136765074,136765074],[136773638,136773638],[136500475,136500475],[136501509,136501509],[136504101,136504101],[136509868,136509868],[136520043,136520043],[136527120,136527120],[136530379,136530379],[136530443,136530443],[136539330,136539330],[136539670,136539670],[136540083,136540083],[136542559,136542559],[136542560,136542560],[136506375,136506375],[136506927,136506927],[136510012,136510012],[136538939,136538939],[136535876,136535876],[136544651,136544651],[136545844,136545844],[136552526,136552526],[136553022,136553022],[136554797,136554797],[136554890,136554890],[136588031,136588031],[136589278,136589278],[136589379,136589379],[136589741,136589741],[136590746,136590746],[136593553,136593553],[136593678,136593678],[136652491,136652491],[136652524,136652524],[136661150,136661150],[136669264,136669264],[136726567,136726567],[136732772,136732772],[136652953,136652953],[136655582,136655582],[136674028,136674028],[136684940,136684940],[136761175,136761175],[136653925,136653925],[136654833,136654833],[136656534,136656534],[136656536,136656536],[136657252,136657252],[136667301,136667301],[136667487,136667487],[136672775,136672775],[136680534,136680534],[136686393,136686393],[136688749,136688749],[136692553,136692553],[136697371,136697371],[136708787,136708787],[136710372,136710372],[136711064,136711064],[136715324,136715324],[136723504,136723504],[136737460,136737460],[136743143,136743143],[136746224,136746224],[136751842,136751842],[136759379,136759379],[136761853,136761853]],\"ys\":[[550,596],[550,596],[550,596],[550,596],[550,596],[550,596],[550,596],[550,596],[550,596],[550,596],[550,596],[550,596],[550,596],[150,191],[150,191],[150,191],[150,191],[150,191],[150,191],[150,191],[150,191],[150,191],[50,68],[50,68],[50,68],[50,68],[450,494],[450,494],[450,494],[450,494],[450,494],[450,494],[450,494],[450,494],[450,494],[450,494],[450,494],[450,494],[450,494],[450,494],[450,494],[450,494],[450,494],[450,494],[450,494],[450,494],[450,494],[450,494],[450,494],[450,494],[450,494],[450,494],[450,494],[450,494],[450,494],[450,494],[450,494],[450,494],[150,190],[150,190],[150,190],[150,190],[150,190],[150,190],[150,190],[150,190],[150,190],[150,190],[150,190],[150,190],[150,190],[150,190],[150,190],[150,190],[150,190],[150,190],[150,190],[150,190],[150,190],[150,190],[150,190],[150,190],[150,190],[150,190],[150,190],[150,190],[150,190],[150,190],[150,190],[150,190],[150,190],[150,190],[150,190],[150,190],[150,190],[150,190],[150,190],[150,190],[150,190],[150,190],[150,190],[150,190],[150,190],[150,190],[150,190],[150,190],[150,190],[150,190],[150,190],[150,190],[150,190],[150,190],[150,190],[150,190],[150,190],[150,190],[150,190],[150,190],[150,190],[150,190],[150,190],[150,190],[150,190],[150,190],[150,190],[150,190],[150,190],[150,190],[150,190],[150,190],[150,190],[150,190],[150,190],[150,190],[150,190],[150,190],[150,190],[150,190],[150,190],[250,293],[250,293],[250,293],[250,293],[250,293],[250,293],[250,293],[250,293],[250,293],[250,293],[250,293],[250,293],[250,293],[450,494],[450,494],[450,494],[450,494],[350,394],[350,394],[350,394],[350,394],[350,394],[350,394],[350,394],[550,596],[550,596],[550,596],[550,596],[550,596],[550,596],[550,596],[250,292],[250,292],[250,292],[250,292],[250,292],[250,292],[350,394],[350,394],[350,394],[350,394],[350,394],[550,595],[550,595],[550,595],[550,595],[550,595],[550,595],[550,595],[550,595],[550,595],[550,595],[550,595],[550,595],[550,595],[550,595],[550,595],[550,595],[550,595],[550,595],[550,595],[550,595],[550,595],[550,595],[550,595],[550,595]]}},\"id\":\"e149ee8f-0f4c-45e9-87fe-5aaae8e4c210\",\"type\":\"ColumnDataSource\"},{\"attributes\":{\"bottom_units\":\"screen\",\"fill_alpha\":{\"value\":0.5},\"fill_color\":{\"value\":\"lightgrey\"},\"left_units\":\"screen\",\"level\":\"overlay\",\"line_alpha\":{\"value\":1.0},\"line_color\":{\"value\":\"black\"},\"line_dash\":[4,4],\"line_width\":{\"value\":2},\"plot\":null,\"render_mode\":\"css\",\"right_units\":\"screen\",\"top_units\":\"screen\"},\"id\":\"4ffb708b-e244-4284-b54e-c942f5022a59\",\"type\":\"BoxAnnotation\"},{\"attributes\":{},\"id\":\"767dcfd3-8495-41f6-9816-1e4bacdbcf54\",\"type\":\"BasicTicker\"},{\"attributes\":{\"bottom\":{\"field\":\"bottom\"},\"fill_color\":{\"field\":\"fill_color\"},\"left\":{\"field\":\"left\"},\"line_color\":{\"value\":null},\"right\":{\"field\":\"right\"},\"top\":{\"field\":\"top\"}},\"id\":\"ec2a3454-450d-4a77-a614-ed07d7b78a58\",\"type\":\"Quad\"},{\"attributes\":{\"active_drag\":\"auto\",\"active_scroll\":\"auto\",\"active_tap\":\"auto\",\"tools\":[{\"id\":\"6656b095-d34f-4efe-b08d-1029b20f577b\",\"type\":\"PanTool\"},{\"id\":\"3fa53e7e-ac51-47cd-af02-19fa52a43b26\",\"type\":\"WheelZoomTool\"},{\"id\":\"06ebbc89-0a0f-4c98-8fda-eb213a4f2aea\",\"type\":\"BoxZoomTool\"},{\"id\":\"d67397ba-fbdb-4697-a128-8aa8a6d1d1fa\",\"type\":\"SaveTool\"},{\"id\":\"2c1586d1-9aef-44d5-abda-3e2a2ccc8df0\",\"type\":\"ResetTool\"},{\"id\":\"9a3ca52e-a741-4166-bb95-2fdc21d71d85\",\"type\":\"HelpTool\"}]},\"id\":\"9d793ac3-3be7-4d3e-87b0-1cc0ef1ae359\",\"type\":\"Toolbar\"},{\"attributes\":{\"plot\":{\"id\":\"8a9a6a57-a22e-4cf0-bad5-85df5d3a80af\",\"subtype\":\"Figure\",\"type\":\"Plot\"}},\"id\":\"d67397ba-fbdb-4697-a128-8aa8a6d1d1fa\",\"type\":\"SaveTool\"},{\"attributes\":{\"plot\":{\"id\":\"8a9a6a57-a22e-4cf0-bad5-85df5d3a80af\",\"subtype\":\"Figure\",\"type\":\"Plot\"}},\"id\":\"6656b095-d34f-4efe-b08d-1029b20f577b\",\"type\":\"PanTool\"},{\"attributes\":{\"data_source\":{\"id\":\"165c930c-e585-4b8b-9d8d-2cbb144434e5\",\"type\":\"ColumnDataSource\"},\"glyph\":{\"id\":\"ec2a3454-450d-4a77-a614-ed07d7b78a58\",\"type\":\"Quad\"},\"hover_glyph\":null,\"nonselection_glyph\":{\"id\":\"e6860985-0d78-4244-87e9-4277d4ac874f\",\"type\":\"Quad\"},\"selection_glyph\":null},\"id\":\"b242b386-d0f8-4b43-a719-4ea83b85deb7\",\"type\":\"GlyphRenderer\"},{\"attributes\":{\"dimension\":1,\"plot\":{\"id\":\"8a9a6a57-a22e-4cf0-bad5-85df5d3a80af\",\"subtype\":\"Figure\",\"type\":\"Plot\"},\"ticker\":{\"id\":\"aaec2312-b6cc-413c-b873-85d26f8b3306\",\"type\":\"BasicTicker\"}},\"id\":\"abb8161f-6bb5-4e30-8162-15c99e28a57e\",\"type\":\"Grid\"},{\"attributes\":{\"plot\":null,\"text\":null},\"id\":\"29a33594-4092-4923-863d-c8dd8603ad03\",\"type\":\"Title\"},{\"attributes\":{\"callback\":null,\"column_names\":[\"right\",\"bottom\",\"top\",\"left\",\"fill_color\"],\"data\":{\"bottom\":[550,150,50,450,150,250,450,350,550,250,350,550],\"fill_color\":[\"#808080\",\"#c4c461\",\"#ffff00\",\"#c4c461\",\"#808080\",\"#808080\",\"#808080\",\"#808080\",\"#c46161\",\"#808080\",\"#808080\",\"#808080\"],\"left\":[135757320,135829592,135942182,136393658,136494985,136500475,136506375,136535876,136588031,136652491,136652953,136653925],\"right\":[135777504,136420908,136374742,136486342,136773638,136542560,136538939,136554890,136593678,136732772,136761175,136761853],\"top\":[596,191,68,494,190,293,494,394,596,292,394,595]}},\"id\":\"165c930c-e585-4b8b-9d8d-2cbb144434e5\",\"type\":\"ColumnDataSource\"},{\"attributes\":{\"plot\":{\"id\":\"8a9a6a57-a22e-4cf0-bad5-85df5d3a80af\",\"subtype\":\"Figure\",\"type\":\"Plot\"}},\"id\":\"9a3ca52e-a741-4166-bb95-2fdc21d71d85\",\"type\":\"HelpTool\"},{\"attributes\":{\"callback\":null,\"end\":136786630,\"start\":135757320},\"id\":\"df3318aa-7314-460d-8177-3c31b837862d\",\"type\":\"Range1d\"},{\"attributes\":{\"below\":[{\"id\":\"b757dc0b-f086-4e24-be9e-f51b1df89b3c\",\"type\":\"LinearAxis\"}],\"left\":[{\"id\":\"e4d408e5-6c30-452b-9705-87ea12e44e0a\",\"type\":\"LinearAxis\"}],\"plot_height\":700,\"plot_width\":900,\"renderers\":[{\"id\":\"b757dc0b-f086-4e24-be9e-f51b1df89b3c\",\"type\":\"LinearAxis\"},{\"id\":\"cdbfe290-40c5-404e-b8cc-99482d63d0cd\",\"type\":\"Grid\"},{\"id\":\"e4d408e5-6c30-452b-9705-87ea12e44e0a\",\"type\":\"LinearAxis\"},{\"id\":\"abb8161f-6bb5-4e30-8162-15c99e28a57e\",\"type\":\"Grid\"},{\"id\":\"4ffb708b-e244-4284-b54e-c942f5022a59\",\"type\":\"BoxAnnotation\"},{\"id\":\"b242b386-d0f8-4b43-a719-4ea83b85deb7\",\"type\":\"GlyphRenderer\"},{\"id\":\"35f333e3-c76e-444a-848c-5d44a4ba8b69\",\"type\":\"GlyphRenderer\"},{\"id\":\"ba146e30-a5dd-42e3-841e-6c2bdfbeab82\",\"type\":\"LabelSet\"},{\"id\":\"b0105820-6889-40f7-a186-56f22bd8c8fb\",\"type\":\"GlyphRenderer\"},{\"id\":\"33924b95-8c83-4102-ab13-0e1b6054d802\",\"type\":\"LabelSet\"}],\"title\":{\"id\":\"29a33594-4092-4923-863d-c8dd8603ad03\",\"type\":\"Title\"},\"tool_events\":{\"id\":\"eb0a3d30-d48c-4a35-a246-3cc5b3416e65\",\"type\":\"ToolEvents\"},\"toolbar\":{\"id\":\"9d793ac3-3be7-4d3e-87b0-1cc0ef1ae359\",\"type\":\"Toolbar\"},\"toolbar_location\":null,\"x_range\":{\"id\":\"df3318aa-7314-460d-8177-3c31b837862d\",\"type\":\"Range1d\"},\"y_range\":{\"id\":\"1976b95a-36e8-4b55-a95d-eb1d4b7b0cad\",\"type\":\"Range1d\"}},\"id\":\"8a9a6a57-a22e-4cf0-bad5-85df5d3a80af\",\"subtype\":\"Figure\",\"type\":\"Plot\"},{\"attributes\":{\"line_color\":{\"field\":\"line_color\"},\"xs\":{\"field\":\"xs\"},\"ys\":{\"field\":\"ys\"}},\"id\":\"4f56a6ba-6e01-4c9c-8b3c-97eb2eb8b2e5\",\"type\":\"MultiLine\"},{\"attributes\":{\"level\":\"glyph\",\"plot\":{\"id\":\"8a9a6a57-a22e-4cf0-bad5-85df5d3a80af\",\"subtype\":\"Figure\",\"type\":\"Plot\"},\"source\":{\"id\":\"94ea615a-79b8-4cd2-830f-17ec56b6ba05\",\"type\":\"ColumnDataSource\"},\"text\":{\"field\":\"vals\"},\"text_font_size\":{\"value\":\"9pt\"},\"text_font_style\":\"bold\",\"x\":{\"field\":\"x\"},\"y\":{\"field\":\"y\"}},\"id\":\"ba146e30-a5dd-42e3-841e-6c2bdfbeab82\",\"type\":\"LabelSet\"},{\"attributes\":{\"data_source\":{\"id\":\"cb13b605-9a43-4993-9999-cea599d098ac\",\"type\":\"ColumnDataSource\"},\"glyph\":{\"id\":\"e482f50d-51f4-4a97-a0b6-761d6de244d3\",\"type\":\"Quad\"},\"hover_glyph\":null,\"nonselection_glyph\":{\"id\":\"8eb09b40-f928-48cb-8dd2-a3033b95ce96\",\"type\":\"Quad\"},\"selection_glyph\":null},\"id\":\"b0105820-6889-40f7-a186-56f22bd8c8fb\",\"type\":\"GlyphRenderer\"},{\"attributes\":{},\"id\":\"c15991b0-7407-4057-958a-8cf5a5ca1798\",\"type\":\"BasicTickFormatter\"},{\"attributes\":{\"plot\":{\"id\":\"8a9a6a57-a22e-4cf0-bad5-85df5d3a80af\",\"subtype\":\"Figure\",\"type\":\"Plot\"}},\"id\":\"3fa53e7e-ac51-47cd-af02-19fa52a43b26\",\"type\":\"WheelZoomTool\"},{\"attributes\":{\"plot\":{\"id\":\"8a9a6a57-a22e-4cf0-bad5-85df5d3a80af\",\"subtype\":\"Figure\",\"type\":\"Plot\"}},\"id\":\"2c1586d1-9aef-44d5-abda-3e2a2ccc8df0\",\"type\":\"ResetTool\"},{\"attributes\":{\"overlay\":{\"id\":\"4ffb708b-e244-4284-b54e-c942f5022a59\",\"type\":\"BoxAnnotation\"},\"plot\":{\"id\":\"8a9a6a57-a22e-4cf0-bad5-85df5d3a80af\",\"subtype\":\"Figure\",\"type\":\"Plot\"}},\"id\":\"06ebbc89-0a0f-4c98-8fda-eb213a4f2aea\",\"type\":\"BoxZoomTool\"},{\"attributes\":{\"line_alpha\":{\"value\":0.1},\"line_color\":{\"value\":\"#1f77b4\"},\"xs\":{\"field\":\"xs\"},\"ys\":{\"field\":\"ys\"}},\"id\":\"e4fbb7c4-4e7f-4e04-9669-f34f4b7933f6\",\"type\":\"MultiLine\"}],\"root_ids\":[\"8a9a6a57-a22e-4cf0-bad5-85df5d3a80af\"]},\"title\":\"Bokeh Application\",\"version\":\"0.12.0\"}};\n",
       "            var render_items = [{\"docid\":\"7ca08bec-4dde-410c-8ecb-31e89c08e8d3\",\"elementid\":\"b156ea4f-1bf7-4706-bb1f-f73ea90fe010\",\"modelid\":\"8a9a6a57-a22e-4cf0-bad5-85df5d3a80af\",\"notebook_comms_target\":\"ceff8e57-ca0f-4fb8-bb1d-246dec71d899\"}];\n",
       "            \n",
       "            Bokeh.embed.embed_items(docs_json, render_items);\n",
       "        });\n",
       "      },\n",
       "      function(Bokeh) {\n",
       "      }\n",
       "    ];\n",
       "  \n",
       "    function run_inline_js() {\n",
       "      for (var i = 0; i < inline_js.length; i++) {\n",
       "        inline_js[i](window.Bokeh);\n",
       "      }\n",
       "    }\n",
       "  \n",
       "    if (window._bokeh_is_loading === 0) {\n",
       "      console.log(\"Bokeh: BokehJS loaded, going straight to plotting\");\n",
       "      run_inline_js();\n",
       "    } else {\n",
       "      load_libs(js_urls, function() {\n",
       "        console.log(\"Bokeh: BokehJS plotting callback run at\", now());\n",
       "        run_inline_js();\n",
       "      });\n",
       "    }\n",
       "  }(this));\n",
       "</script>"
      ]
     },
     "metadata": {},
     "output_type": "display_data"
    },
    {
     "data": {
      "text/html": [
       "<p><code>&lt;Bokeh Notebook handle for <strong>In[34]</strong>&gt;</code></p>"
      ],
      "text/plain": [
       "<bokeh.io._CommsHandle at 0x7fdd0f7e7450>"
      ]
     },
     "execution_count": 18,
     "metadata": {},
     "output_type": "execute_result"
    }
   ],
   "source": [
    "plt_obj = dm.superset_yes_no([di_4_67], [dm.di_5_684], min_match=0.001)\n",
    "plt = plt_obj.do_plot()\n",
    "am = plt_obj.plot_context.yes_allele_mask\n",
    "show(plt)"
   ]
  },
  {
   "cell_type": "code",
   "execution_count": 19,
   "metadata": {
    "collapsed": false
   },
   "outputs": [
    {
     "data": {
      "text/html": [
       "<table>\n",
       "<thead><tr><th style=\"text-align:center\">index</th><th style=\"text-align:center\">first</th><th style=\"text-align:center\">length</th><th style=\"text-align:center\">snps</th><th style=\"text-align:center\" colspan=2>alleles</th><th style=\"text-align:center\" colspan=2>matches</th><th style=\"text-align:center\" colspan=2>afr</th><th style=\"text-align:center\" colspan=2>afx</th><th style=\"text-align:center\" colspan=2>amr</th><th style=\"text-align:center\" colspan=2>eas</th><th style=\"text-align:center\" colspan=2>eur</th><th style=\"text-align:center\" colspan=2>sas</th><th style=\"text-align:center\" colspan=2>sax</th></tr></thead>\n",
       "<tr class=\"even\"><td style=\"text-align: right;\">354033</td><td style=\"text-align: right;\">136,588,031</td><td style=\"text-align: right;\">5,647</td><td style=\"text-align: right;\">7</td><td style=\"text-align: right;\">1760</td><td style=\"text-align: right;\">0.00</td><td style=\"text-align: right;\">1</td><td style=\"text-align: right;\">1.00</td><td style=\"text-align: right;\">0</td><td style=\"text-align: right;\">0.00</td><td style=\"text-align: right;\">0</td><td style=\"text-align: right;\">0.00</td><td style=\"text-align: right;\">0</td><td style=\"text-align: right;\">0.00</td><td style=\"text-align: right;\">1</td><td style=\"text-align: right;\">7.67</td><td style=\"text-align: right;\">0</td><td style=\"text-align: right;\">0.00</td><td style=\"text-align: right;\">0</td><td style=\"text-align: right;\">0.00</td><td style=\"text-align: right;\">0</td><td style=\"text-align: right;\">0.00</td></tr>\n",
       "<tr><td style=\"text-align: right;\">353240</td><td style=\"text-align: right;\">135,757,320</td><td style=\"text-align: right;\">20,184</td><td style=\"text-align: right;\">13</td><td style=\"text-align: right;\">1696</td><td style=\"text-align: right;\">0.00</td><td style=\"text-align: right;\">1</td><td style=\"text-align: right;\">1.00</td><td style=\"text-align: right;\">0</td><td style=\"text-align: right;\">0.00</td><td style=\"text-align: right;\">0</td><td style=\"text-align: right;\">0.00</td><td style=\"text-align: right;\">0</td><td style=\"text-align: right;\">0.00</td><td style=\"text-align: right;\">1</td><td style=\"text-align: right;\">7.67</td><td style=\"text-align: right;\">0</td><td style=\"text-align: right;\">0.00</td><td style=\"text-align: right;\">0</td><td style=\"text-align: right;\">0.00</td><td style=\"text-align: right;\">0</td><td style=\"text-align: right;\">0.00</td></tr>\n",
       "<tr class=\"even\"><td style=\"text-align: right;\">354130</td><td style=\"text-align: right;\">136,653,925</td><td style=\"text-align: right;\">107,928</td><td style=\"text-align: right;\">24</td><td style=\"text-align: right;\">1504</td><td style=\"text-align: right;\">0.00</td><td style=\"text-align: right;\">1</td><td style=\"text-align: right;\">1.00</td><td style=\"text-align: right;\">0</td><td style=\"text-align: right;\">0.00</td><td style=\"text-align: right;\">0</td><td style=\"text-align: right;\">0.00</td><td style=\"text-align: right;\">0</td><td style=\"text-align: right;\">0.00</td><td style=\"text-align: right;\">1</td><td style=\"text-align: right;\">7.67</td><td style=\"text-align: right;\">0</td><td style=\"text-align: right;\">0.00</td><td style=\"text-align: right;\">0</td><td style=\"text-align: right;\">0.00</td><td style=\"text-align: right;\">0</td><td style=\"text-align: right;\">0.00</td></tr>\n",
       "<tr><td style=\"text-align: right;\">353925</td><td style=\"text-align: right;\">136,506,375</td><td style=\"text-align: right;\">32,564</td><td style=\"text-align: right;\">4</td><td style=\"text-align: right;\">1442</td><td style=\"text-align: right;\">0.00</td><td style=\"text-align: right;\">1</td><td style=\"text-align: right;\">1.00</td><td style=\"text-align: right;\">0</td><td style=\"text-align: right;\">0.00</td><td style=\"text-align: right;\">0</td><td style=\"text-align: right;\">0.00</td><td style=\"text-align: right;\">0</td><td style=\"text-align: right;\">0.00</td><td style=\"text-align: right;\">1</td><td style=\"text-align: right;\">7.67</td><td style=\"text-align: right;\">0</td><td style=\"text-align: right;\">0.00</td><td style=\"text-align: right;\">0</td><td style=\"text-align: right;\">0.00</td><td style=\"text-align: right;\">0</td><td style=\"text-align: right;\">0.00</td></tr>\n",
       "<tr class=\"even\"><td style=\"text-align: right;\">353791</td><td style=\"text-align: right;\">136,393,658</td><td style=\"text-align: right;\">92,684</td><td style=\"text-align: right;\">32</td><td style=\"text-align: right;\">1361</td><td style=\"text-align: right;\">0.00</td><td style=\"text-align: right;\">1</td><td style=\"text-align: right;\">1.00</td><td style=\"text-align: right;\">0</td><td style=\"text-align: right;\">0.00</td><td style=\"text-align: right;\">0</td><td style=\"text-align: right;\">0.00</td><td style=\"text-align: right;\">0</td><td style=\"text-align: right;\">0.00</td><td style=\"text-align: right;\">1</td><td style=\"text-align: right;\">7.67</td><td style=\"text-align: right;\">0</td><td style=\"text-align: right;\">0.00</td><td style=\"text-align: right;\">0</td><td style=\"text-align: right;\">0.00</td><td style=\"text-align: right;\">0</td><td style=\"text-align: right;\">0.00</td></tr>\n",
       "<tr><td style=\"text-align: right;\">353958</td><td style=\"text-align: right;\">136,535,876</td><td style=\"text-align: right;\">19,014</td><td style=\"text-align: right;\">7</td><td style=\"text-align: right;\">1303</td><td style=\"text-align: right;\">0.00</td><td style=\"text-align: right;\">1</td><td style=\"text-align: right;\">1.00</td><td style=\"text-align: right;\">0</td><td style=\"text-align: right;\">0.00</td><td style=\"text-align: right;\">0</td><td style=\"text-align: right;\">0.00</td><td style=\"text-align: right;\">0</td><td style=\"text-align: right;\">0.00</td><td style=\"text-align: right;\">1</td><td style=\"text-align: right;\">7.67</td><td style=\"text-align: right;\">0</td><td style=\"text-align: right;\">0.00</td><td style=\"text-align: right;\">0</td><td style=\"text-align: right;\">0.00</td><td style=\"text-align: right;\">0</td><td style=\"text-align: right;\">0.00</td></tr>\n",
       "<tr class=\"even\"><td style=\"text-align: right;\">354129</td><td style=\"text-align: right;\">136,652,953</td><td style=\"text-align: right;\">108,222</td><td style=\"text-align: right;\">5</td><td style=\"text-align: right;\">1296</td><td style=\"text-align: right;\">0.00</td><td style=\"text-align: right;\">1</td><td style=\"text-align: right;\">1.00</td><td style=\"text-align: right;\">0</td><td style=\"text-align: right;\">0.00</td><td style=\"text-align: right;\">0</td><td style=\"text-align: right;\">0.00</td><td style=\"text-align: right;\">0</td><td style=\"text-align: right;\">0.00</td><td style=\"text-align: right;\">1</td><td style=\"text-align: right;\">7.67</td><td style=\"text-align: right;\">0</td><td style=\"text-align: right;\">0.00</td><td style=\"text-align: right;\">0</td><td style=\"text-align: right;\">0.00</td><td style=\"text-align: right;\">0</td><td style=\"text-align: right;\">0.00</td></tr>\n",
       "<tr><td style=\"text-align: right;\">353919</td><td style=\"text-align: right;\">136,500,475</td><td style=\"text-align: right;\">42,085</td><td style=\"text-align: right;\">13</td><td style=\"text-align: right;\">1227</td><td style=\"text-align: right;\">0.00</td><td style=\"text-align: right;\">1</td><td style=\"text-align: right;\">1.00</td><td style=\"text-align: right;\">0</td><td style=\"text-align: right;\">0.00</td><td style=\"text-align: right;\">0</td><td style=\"text-align: right;\">0.00</td><td style=\"text-align: right;\">0</td><td style=\"text-align: right;\">0.00</td><td style=\"text-align: right;\">1</td><td style=\"text-align: right;\">7.67</td><td style=\"text-align: right;\">0</td><td style=\"text-align: right;\">0.00</td><td style=\"text-align: right;\">0</td><td style=\"text-align: right;\">0.00</td><td style=\"text-align: right;\">0</td><td style=\"text-align: right;\">0.00</td></tr>\n",
       "<tr class=\"even\"><td style=\"text-align: right;\">354127</td><td style=\"text-align: right;\">136,652,491</td><td style=\"text-align: right;\">80,281</td><td style=\"text-align: right;\">6</td><td style=\"text-align: right;\">1114</td><td style=\"text-align: right;\">0.00</td><td style=\"text-align: right;\">1</td><td style=\"text-align: right;\">1.00</td><td style=\"text-align: right;\">0</td><td style=\"text-align: right;\">0.00</td><td style=\"text-align: right;\">0</td><td style=\"text-align: right;\">0.00</td><td style=\"text-align: right;\">0</td><td style=\"text-align: right;\">0.00</td><td style=\"text-align: right;\">1</td><td style=\"text-align: right;\">7.67</td><td style=\"text-align: right;\">0</td><td style=\"text-align: right;\">0.00</td><td style=\"text-align: right;\">0</td><td style=\"text-align: right;\">0.00</td><td style=\"text-align: right;\">0</td><td style=\"text-align: right;\">0.00</td></tr>\n",
       "<tr><td style=\"text-align: right;\">353372</td><td style=\"text-align: right;\">135,829,592</td><td style=\"text-align: right;\">591,316</td><td style=\"text-align: right;\">9</td><td style=\"text-align: right;\">944</td><td style=\"text-align: right;\">0.00</td><td style=\"text-align: right;\">1</td><td style=\"text-align: right;\">1.00</td><td style=\"text-align: right;\">0</td><td style=\"text-align: right;\">0.00</td><td style=\"text-align: right;\">0</td><td style=\"text-align: right;\">0.00</td><td style=\"text-align: right;\">0</td><td style=\"text-align: right;\">0.00</td><td style=\"text-align: right;\">1</td><td style=\"text-align: right;\">7.67</td><td style=\"text-align: right;\">0</td><td style=\"text-align: right;\">0.00</td><td style=\"text-align: right;\">0</td><td style=\"text-align: right;\">0.00</td><td style=\"text-align: right;\">0</td><td style=\"text-align: right;\">0.00</td></tr>\n",
       "<tr class=\"even\"><td style=\"text-align: right;\">353902</td><td style=\"text-align: right;\">136,494,985</td><td style=\"text-align: right;\">278,653</td><td style=\"text-align: right;\">81</td><td style=\"text-align: right;\">857</td><td style=\"text-align: right;\">0.00</td><td style=\"text-align: right;\">1</td><td style=\"text-align: right;\">1.00</td><td style=\"text-align: right;\">0</td><td style=\"text-align: right;\">0.00</td><td style=\"text-align: right;\">0</td><td style=\"text-align: right;\">0.00</td><td style=\"text-align: right;\">0</td><td style=\"text-align: right;\">0.00</td><td style=\"text-align: right;\">1</td><td style=\"text-align: right;\">7.67</td><td style=\"text-align: right;\">0</td><td style=\"text-align: right;\">0.00</td><td style=\"text-align: right;\">0</td><td style=\"text-align: right;\">0.00</td><td style=\"text-align: right;\">0</td><td style=\"text-align: right;\">0.00</td></tr>\n",
       "<tr><td style=\"text-align: right;\">353485</td><td style=\"text-align: right;\">135,942,182</td><td style=\"text-align: right;\">432,560</td><td style=\"text-align: right;\">4</td><td style=\"text-align: right;\">67</td><td style=\"text-align: right;\">0.01</td><td style=\"text-align: right;\">1</td><td style=\"text-align: right;\">1.00</td><td style=\"text-align: right;\">0</td><td style=\"text-align: right;\">0.00</td><td style=\"text-align: right;\">0</td><td style=\"text-align: right;\">0.00</td><td style=\"text-align: right;\">0</td><td style=\"text-align: right;\">0.00</td><td style=\"text-align: right;\">1</td><td style=\"text-align: right;\">7.67</td><td style=\"text-align: right;\">0</td><td style=\"text-align: right;\">0.00</td><td style=\"text-align: right;\">0</td><td style=\"text-align: right;\">0.00</td><td style=\"text-align: right;\">0</td><td style=\"text-align: right;\">0.00</td></tr>\n",
       "</table>"
      ],
      "text/plain": [
       "<IPython.core.display.HTML object>"
      ]
     },
     "execution_count": 19,
     "metadata": {},
     "output_type": "execute_result"
    }
   ],
   "source": [
    "HTML(plt_obj.get_html())"
   ]
  },
  {
   "cell_type": "code",
   "execution_count": 20,
   "metadata": {
    "collapsed": false
   },
   "outputs": [
    {
     "data": {
      "text/plain": [
       "array([1, 1, 1, 1, 0])"
      ]
     },
     "execution_count": 20,
     "metadata": {},
     "output_type": "execute_result"
    }
   ],
   "source": [
    "sa_5_684.alleles_per_snp(am)"
   ]
  }
 ],
 "metadata": {
  "kernelspec": {
   "display_name": "Python [Root]",
   "language": "python",
   "name": "Python [Root]"
  },
  "language_info": {
   "codemirror_mode": {
    "name": "ipython",
    "version": 2
   },
   "file_extension": ".py",
   "mimetype": "text/x-python",
   "name": "python",
   "nbconvert_exporter": "python",
   "pygments_lexer": "ipython2",
   "version": "2.7.12"
  }
 },
 "nbformat": 4,
 "nbformat_minor": 0
}
